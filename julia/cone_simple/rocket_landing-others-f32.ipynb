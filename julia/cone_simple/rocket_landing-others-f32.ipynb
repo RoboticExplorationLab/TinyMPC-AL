{
 "cells": [
  {
   "cell_type": "code",
   "execution_count": 1,
   "id": "6099cb4b-a2da-4b1b-ba0f-856484092fc4",
   "metadata": {},
   "outputs": [
    {
     "name": "stderr",
     "output_type": "stream",
     "text": [
      "\u001b[32m\u001b[1m  Activating\u001b[22m\u001b[39m environment at `~/SSD/Code/TinyMPC/julia/cone_simple/Project.toml`\n"
     ]
    }
   ],
   "source": [
    "using Pkg\n",
    "Pkg.activate(@__DIR__)\n",
    "Pkg.instantiate()\n",
    "\n",
    "using LinearAlgebra\n",
    "using Printf\n",
    "import ForwardDiff as FD\n",
    "using JuMP\n",
    "using COSMO\n",
    "using Random\n",
    "using ChangePrecision\n",
    "using BenchmarkTools"
   ]
  },
  {
   "cell_type": "code",
   "execution_count": 137,
   "id": "6179ca57-b5ff-4274-8391-85d5e728fc16",
   "metadata": {
    "tags": []
   },
   "outputs": [
    {
     "data": {
      "text/plain": [
       "mpc (generic function with 1 method)"
      ]
     },
     "execution_count": 137,
     "metadata": {},
     "output_type": "execute_result"
    }
   ],
   "source": [
    "# -------------------THIS IS ALL ALTRO-------------------------------\n",
    "# This enables goal equality constraints, state and input ineq constraints.\n",
    "@changeprecision Float32 begin\n",
    "function stage_cost(p::NamedTuple,x,u,k)\n",
    "    dx = x - p.Xref[k]\n",
    "    du = u - p.Uref[k]\n",
    "    return 0.5*dx'*p.Q*dx + 0.5*du'*p.R*du\n",
    "end\n",
    "function term_cost(p::NamedTuple,x)\n",
    "    dx = x - p.Xref[p.N]\n",
    "    return 0.5*dx'*p.Qf*dx\n",
    "end\n",
    "function stage_cost_expansion(p::NamedTuple,k)\n",
    "    dx = - p.Xref[k]\n",
    "    du = - p.Uref[k]\n",
    "    return p.Q, p.Q*dx, p.R, p.R*du  # Hessian and gradient\n",
    "end\n",
    "function term_cost_expansion(p::NamedTuple)\n",
    "    dx = - p.Xref[p.N]\n",
    "    return p.Qf, p.Qf*dx\n",
    "end\n",
    "function conic_cost_expansion(p::NamedTuple, u, λc, ρ, k)\n",
    "    λhat = λc # already updated\n",
    "    ∇c = cone_u_jac(p, u)\n",
    "    G = ∇c'*∇projection(λhat)*projection(λhat)\n",
    "    # H = ∇c'*∇projection(λhat)'*∇projection(λhat)*∇c/ρ\n",
    "    H = ∇c'*(∇projection(λhat)'*∇projection(λhat) + ∇²projection(λhat, projection(λhat)))*∇c/ρ\n",
    "    return (G - H*u), H\n",
    "end\n",
    "function backward_pass!(params,X,U,P,p,d,K,reg,μ,μx,ρ,λ,λc)\n",
    "    \"\"\"iLQR backward pass with AL. This !function update its parameters\n",
    "    \"\"\"\n",
    "    N = params.N\n",
    "    ΔJ = 0.0    # expected cost reduction\n",
    "\n",
    "    # terminal cost expansion\n",
    "    P[N], p[N] = term_cost_expansion(params) \n",
    "    \n",
    "    if (params.ncx > 0)\n",
    "        # # add AL terms for the state constraint at the final time step\n",
    "        hxv = ineq_con_x(params,X[N])  # h(x) violation  \n",
    "        mask = eval_mask(μx[N],hxv)\n",
    "        ∇hx = ineq_con_x_jac(params,X[N])\n",
    "        # add these into the cost-to-go p and P\n",
    "        p[N]  += ∇hx'*(μx[N] - ρ*(mask * [params.x_max;-params.x_min]))  # multiplier term (1st)\n",
    "        P[N]  += ρ*∇hx'*mask*∇hx                # penalty term (2nd)\n",
    "    end\n",
    "    \n",
    "    if (params.ncg > 0)\n",
    "        # add AL terms for goal constraint \n",
    "        ∇hx = diagm(ones(params.nx))\n",
    "        # add these into the CTG p and P (equality active)\n",
    "        p[N]  += ∇hx'*(λ - ρ*params.Xref[N])   \n",
    "        P[N]  += ρ*∇hx'∇hx\n",
    "    end\n",
    "    \n",
    "    # iterate from N-1 to 1 backwards\n",
    "    for k = (N-1):(-1):1\n",
    "        # dynamics jacobians (linearization about previous iterate)\n",
    "        A = FD.jacobian(_x -> discrete_dynamics(params,_x,U[k],k),X[k])\n",
    "        B = FD.jacobian(_u -> discrete_dynamics(params,X[k],_u,k),U[k])\n",
    "\n",
    "        Sxx,Sx,Suu,Su = stage_cost_expansion(params,k)\n",
    "        \n",
    "        # one-step cost expansion: Q, Q*dx, R, R*du\n",
    "        Sx += A' * (P[k+1]*f + p[k+1]) \n",
    "        Su += B' * (P[k+1]*f + p[k+1]) \n",
    "        Sxx += A'*(P[k+1])*A\n",
    "        Suu += B'*(P[k+1] + reg*I)*B                                     \n",
    "        Sux = B'*(P[k+1])*A  \n",
    "        if (params.ncu > 0)\n",
    "            # control constraints\n",
    "            huv = ineq_con_u(params,U[k])  # calculate h(u) constraint\n",
    "            mask = eval_mask(μ[k],huv)  # choose active\n",
    "            ∇hu = ineq_con_u_jac(params,U[k])\n",
    "            Su  += ∇hu'*(μ[k] - ρ*(mask * [params.u_max;-params.u_min])) # add to cost\n",
    "            Suu += ρ*∇hu'*mask*∇hu\n",
    "        end\n",
    "        if (params.ncx > 0)\n",
    "            # state constraints\n",
    "            hxv = ineq_con_x(params,X[k])\n",
    "            mask = eval_mask(μx[k],hxv)\n",
    "            ∇hx = ineq_con_x_jac(params,X[k])\n",
    "            Sx  += ∇hx'*(μx[k] - ρ*(mask * [params.x_max;-params.x_min]))\n",
    "            Sxx += ρ*∇hx'*mask*∇hx\n",
    "        end\n",
    "        if (params.ncu_cone > 0)\n",
    "            # conic constraints\n",
    "            Qu, Quu = conic_cost_expansion(params, U[k], λc[k], ρ/cone_scale, k)\n",
    "            # display(Quu)\n",
    "            Su += Qu\n",
    "            Suu += Quu\n",
    "        end\n",
    "        \n",
    "        # Calculate Gains\n",
    "        for i = 1:10\n",
    "            if isposdef(Suu) == 0\n",
    "                Suu += reg*I\n",
    "            end\n",
    "        end\n",
    "        F = cholesky(Symmetric(Suu))\n",
    "        d[k] = F\\Su\n",
    "        K[k] = F\\Sux\n",
    "\n",
    "        # Cost-to-go Recurrence (PSD stabilizing version, last term)\n",
    "        P[k] = Sxx + K[k]'*Suu*K[k] - 2*K[k]'*Sux\n",
    "        p[k] = Sx + K[k]'*Suu*d[k] - K[k]'*Su - Sux'*d[k]\n",
    "        ΔJ += Su'*d[k]\n",
    "    end\n",
    "\n",
    "    return ΔJ  # but also change params\n",
    "end\n",
    "function forward_pass!(params,X,U,K,d,ΔJ,Xn,Un,μ,μx,ρ,λ; \n",
    "                        max_linesearch_iters = 20)\n",
    "    \"\"\"iLQR forward pass and line-search\n",
    "    This !function update its parameters\n",
    "    \"\"\"\n",
    "    N = params.N\n",
    "        # Forward Rollout\n",
    "        for k = 1:(N-1)\n",
    "            Un[k] = - d[k] - K[k]*Xn[k] \n",
    "            Xn[k+1] = discrete_dynamics(params,Xn[k],Un[k],k)\n",
    "        end\n",
    "    X .= Xn\n",
    "    U .= Un\n",
    "    return 0, 0\n",
    "end\n",
    "function eval_mask(μv,huv)  \n",
    "    # Extract active inequality constraints\n",
    "    # active set mask\n",
    "    mask = Diagonal(zeros(length(huv)))\n",
    "    for i = 1:length(huv)\n",
    "        mask[i,i] = (μv[i] > 0 || huv[i] > 0)\n",
    "    end\n",
    "    mask\n",
    "end\n",
    "function mpc(params,X,U,P,p,K,d,Xn,Un;atol=1e-3,max_iters = 250,verbose = true,ρ=1,ρ_max = 1e8,ϕ=10)\n",
    "\n",
    "    # first check the sizes of everything\n",
    "    # @assert length(X) == params.N\n",
    "    # @assert length(U) == params.N-1\n",
    "    # @assert length(X[1]) == params.nx\n",
    "    # @assert length(U[1]) == params.nu\n",
    "\n",
    "    # initial rollout\n",
    "    N = params.N\n",
    "    for i = 1:N-1\n",
    "        X[i+1] = discrete_dynamics(params,X[i],U[i],i)\n",
    "    end\n",
    "\n",
    "    reg_min = 1e-8\n",
    "    reg = reg_min\n",
    "\n",
    "    μ = [zeros(params.ncu) for i = 1:N-1]   # input constraints\n",
    "\n",
    "    μx = [zeros(params.ncx) for i = 1:N]    # state constraints\n",
    "\n",
    "    λ = zeros(params.nx)    # goal constraint\n",
    "\n",
    "    λc = [zeros(params.ncu_cone) for i = 1:N-1]   # goal constraint\n",
    "    \n",
    "    # Inner loop to solve unconstrained problem (Riccati)\n",
    "    for iter = 1:max_iters\n",
    "        \n",
    "        J = 0.0\n",
    "        ΔJ = 0.0\n",
    "        α = 1.0\n",
    "        for i = 1:1\n",
    "            ΔJ = backward_pass!(params,X,U,P,p,d,K,reg,μ,μx,ρ,λ,λc)\n",
    "            J, α = forward_pass!(params,X,U,K,d,ΔJ,Xn,Un,μ,μx,ρ,λ)\n",
    "        end\n",
    "\n",
    "        if verbose\n",
    "            if rem(iter-1,10)==0\n",
    "                @printf \"iter     J           ΔJ        |d|         α        reg         ρ\\n\"\n",
    "                @printf \"---------------------------------------------------------------------\\n\"\n",
    "            end\n",
    "            @printf(\"%3d   %10.3e  %9.2e  %9.2e  %6.4f   %9.2e   %9.2e\\n\",\n",
    "              iter, J, ΔJ, 0, α, reg, ρ)\n",
    "        end\n",
    "        # update multipliers and check constraint violation, max of all\n",
    "        convio = 0  \n",
    "        \n",
    "        if (params.ncu > 0)\n",
    "            # control constraints (inequality)\n",
    "            for k = 1:N-1\n",
    "                huv = ineq_con_u(params,U[k])\n",
    "                mask = eval_mask(μ[k],huv)\n",
    "                # update dual\n",
    "                convio = max(convio,norm(huv + abs.(huv),Inf))\n",
    "                μ[k] = max.(0,μ[k] - ρ*(mask * [params.u_max;-params.u_min]))\n",
    "            end\n",
    "        end\n",
    "        if (params.ncx > 0)\n",
    "            # state constraints (inequality)\n",
    "            for k = 1:N\n",
    "                hxv = ineq_con_x(params,X[k])\n",
    "                mask = eval_mask(μx[k],hxv)\n",
    "                # update dual\n",
    "                convio = max(convio,norm(hxv + abs.(hxv),Inf))\n",
    "                μx[k] = max.(0,μx[k] - ρ*(mask * [params.x_max;-params.x_min]))                \n",
    "            end\n",
    "        end\n",
    "        if (params.ncu_cone > 0)\n",
    "            # conic constraints \n",
    "            if verbose\n",
    "                print(\"update cone\\n\")\n",
    "            end            \n",
    "            for k = 1:N-1\n",
    "                # update dual\n",
    "                Uc = cone_u(params, U[k])\n",
    "                huc = norm(Uc[1:2]) - Uc[3]\n",
    "                convio = max(convio, norm(huc + abs.(huc),Inf))\n",
    "                λc[k] = projection(λc[k] + Uc/cone_scale/ρ)\n",
    "                # display(λc[k])\n",
    "            end\n",
    "        end\n",
    "        if (params.ncg > 0)\n",
    "            # goal constraint (equality)\n",
    "            hxv = X[N] - params.Xref[N]\n",
    "            λ .-= ρ*params.Xref[N]\n",
    "            convio = max(convio, norm(hxv,Inf))\n",
    "        end\n",
    "        \n",
    "        ρ *= ϕ  # update penalty\n",
    "        \n",
    "        if verbose\n",
    "            @show convio\n",
    "        end\n",
    "        if convio < atol  # if terminal condition with contraint violation\n",
    "            # print(\"Our solver says SUCCESS\\n\") # @info \"success!\"\n",
    "            return U[1]\n",
    "        end\n",
    "        if ρ > ρ_max\n",
    "            print(\"Our solver reachs MAX PENALTY\\n\")\n",
    "            return U[1]\n",
    "        end\n",
    "    end\n",
    "    print(\"Our solver says INFEASIBLE and MAX ITER\\n\")\n",
    "    return U[1]\n",
    "end\n",
    "#----------------------ALTRO DONE --------------------------\n",
    "end"
   ]
  },
  {
   "cell_type": "code",
   "execution_count": 21,
   "id": "ff9a97a1-b963-4f01-9223-eee0c5682b7d",
   "metadata": {
    "tags": []
   },
   "outputs": [
    {
     "data": {
      "text/plain": [
       "∇²projection (generic function with 1 method)"
      ]
     },
     "execution_count": 21,
     "metadata": {},
     "output_type": "execute_result"
    }
   ],
   "source": [
    "@changeprecision Float32 begin\n",
    "# =============================\n",
    "# Example problem formulation and solve\n",
    "# =============================\n",
    "\n",
    "# ---------------------THIS IS WHAT YOU NEED TO INPUT--------\n",
    "A = [1.0 0.0 0.0 0.05 0.0 0.0; \n",
    "    0.0 1.0 0.0 0.0 0.05 0.0; \n",
    "    0.0 0.0 1.0 0.0 0.0 0.05; \n",
    "    0.0 0.0 0.0 1.0 0.0 0.0; \n",
    "    0.0 0.0 0.0 0.0 1.0 0.0; \n",
    "    0.0 0.0 0.0 0.0 0.0 1.0]\n",
    "B = [0.000125 0.0 0.0; \n",
    "    0.0 0.000125 0.0;\n",
    "    0.0 0.0 0.000125; \n",
    "    0.005 0.0 0.0; \n",
    "    0.0 0.005 0.0; \n",
    "    0.0 0.0 0.005]\n",
    "f = [0.0, 0.0, -0.0122625, 0.0, 0.0, -0.4905]\n",
    "function discrete_dynamics(p::NamedTuple,x,u,k)\n",
    "    A = [1.0 0.0 0.0 0.05 0.0 0.0; \n",
    "        0.0 1.0 0.0 0.0 0.05 0.0; \n",
    "        0.0 0.0 1.0 0.0 0.0 0.05; \n",
    "        0.0 0.0 0.0 1.0 0.0 0.0; \n",
    "        0.0 0.0 0.0 0.0 1.0 0.0; \n",
    "        0.0 0.0 0.0 0.0 0.0 1.0]\n",
    "    B = [0.000125 0.0 0.0; \n",
    "        0.0 0.000125 0.0;\n",
    "        0.0 0.0 0.000125; \n",
    "        0.005 0.0 0.0; \n",
    "        0.0 0.005 0.0; \n",
    "        0.0 0.0 0.005]\n",
    "    f = [0.0, 0.0, -0.0122625, 0.0, 0.0, -0.4905]\n",
    "    return A*x + B*u + f\n",
    "end\n",
    "function ineq_con_x(p,x)\n",
    "    [x-p.x_max;-x + p.x_min]\n",
    "end\n",
    "function ineq_con_u(p,u)\n",
    "    [u-p.u_max;-u + p.u_min]\n",
    "end\n",
    "function cone_u(p, u)\n",
    "    [p.A_cone*u;p.c_cone'*u]\n",
    "end\n",
    "function cone_u_jac(p, u)\n",
    "    J = zeros(p.nu, p.nu)\n",
    "    J[1:end-1,1:end] .= p.A_cone\n",
    "    J[end,1:end] .= p.c_cone\n",
    "    return J\n",
    "end\n",
    "function ineq_con_u_jac(params,u)\n",
    "    FD.jacobian(_u -> ineq_con_u(params,_u), u)\n",
    "end\n",
    "function ineq_con_x_jac(p,x)\n",
    "    FD.jacobian(_x -> ineq_con_x(p,_x),x)\n",
    "end\n",
    "function projection(x)\n",
    "    n = length(x)\n",
    "    s = x[end]\n",
    "    v = view(x,1:n-1)\n",
    "    a = norm(v)\n",
    "    if a <= -s  # below the cone\n",
    "        return zero(x)\n",
    "    elseif a <= s  # in the code\n",
    "        return x\n",
    "    elseif a >= abs(s)  # outside the cone\n",
    "        return 0.5 * (1 + s/a) * [v; a] \n",
    "    end\n",
    "end\n",
    "function ∇projection(x)\n",
    "    n = length(x)\n",
    "    J = zeros(eltype(x),n,n)\n",
    "    s = x[end]\n",
    "    v = view(x,1:n-1)\n",
    "    a = norm(v)\n",
    "    if a <= -s\n",
    "        return J  # zeros\n",
    "    elseif a <= s\n",
    "        J .= I(n)  \n",
    "        return J  # identity\n",
    "    elseif a >= abs(s)\n",
    "        c = 0.5 * (1 + s/a)\n",
    "\n",
    "        # dvdv ok!\n",
    "        for i = 1:n-1, j = 1:n-1\n",
    "            J[i,j] = -0.5*s/a^3 * v[i] * v[j]\n",
    "            if i == j\n",
    "                J[i,j] += c\n",
    "            end\n",
    "        end\n",
    "\n",
    "        # dvds ok!\n",
    "        for i = 1:n-1\n",
    "            J[i,n] = 0.5 * v[i] / a\n",
    "        end\n",
    "\n",
    "        # dsdv ok!\n",
    "        for i = 1:n-1\n",
    "            J[n,i] = ((-0.5*s/a^2) + c/a) * v[i]\n",
    "        end\n",
    "        J[n,n] = 0.5  # ok\n",
    "        return J\n",
    "    else\n",
    "        error(\"Invalid second-order cone projection.\")\n",
    "    end\n",
    "    return J\n",
    "end\n",
    "function ∇²projection(x, b)\n",
    "    n = length(x)\n",
    "    hess = zeros(eltype(x),n,n)\n",
    "    v = view(x, 1:n)\n",
    "    bv = view(b, 1:n)\n",
    "\n",
    "    n = length(x)-1\n",
    "    # @assert size(hess) == (n+1,n+1)\n",
    "    s = x[end]\n",
    "    bs = b[end]\n",
    "    a =  norm(v)\n",
    "    vbv = dot(v,bv)\n",
    "\n",
    "    if a <= -s\n",
    "        return hess .= 0\n",
    "    elseif a <= s\n",
    "        return hess .= 0\n",
    "    elseif a > abs(s)\n",
    "        # Original equations from chain rule\n",
    "        # n = n + 1\n",
    "        # dvdv = -s/norm(v)^2/norm(v)*(I - (v*v')/(v'v))*bv*v' + \n",
    "        #     s/norm(v)*((v*(v'bv))/(v'v)^2 * 2v' - (I*(v'bv) + v*bv')/(v'v)) + \n",
    "        #     bs/norm(v)*(I - (v*v')/(v'v))\n",
    "        # dvds = 1/norm(v)*(I - (v*v')/(v'v))*bv;\n",
    "        # hess[1:n-1,1:n-1] .= dvdv*0.5\n",
    "        # hess[1:n-1,n] .= dvds*0.5\n",
    "        # hess[n:n,1:n-1] .= 0.5*dvds'\n",
    "        # hess[n,n] = 0\n",
    "        # return hess\n",
    "\n",
    "        # The following is just an unrolled version of the above\n",
    "        dvdv = view(hess, 1:n, 1:n)\n",
    "        dvds = view(hess, 1:n, n+1)\n",
    "        dsdv = view(hess, n+1, 1:n)\n",
    "        @inbounds for i = 1:n\n",
    "            hi = 0\n",
    "            @inbounds for j = 1:n\n",
    "                Hij = -v[i]*v[j] / a^2\n",
    "                if i == j\n",
    "                    Hij += 1\n",
    "                end\n",
    "                hi += Hij * bv[j]\n",
    "            end\n",
    "            dvds[i] = hi / 2a\n",
    "            dsdv[i] = dvds[i]\n",
    "            @inbounds for j = 1:i\n",
    "                vij = v[i] * v[j]\n",
    "                H1 = hi * v[j] * (-s/a^3)\n",
    "                H2 = vij * (2*vbv) / a^4 - v[i] * bv[j] / a^2\n",
    "                H3 = -vij / a^2\n",
    "                if i == j\n",
    "                    H2 -= vbv / a^2\n",
    "                    H3 += 1\n",
    "                end\n",
    "                H2 *= s/a\n",
    "                H3 *= bs/a\n",
    "                dvdv[i,j] = (H1 + H2 + H3) / 2\n",
    "                dvdv[j,i] = dvdv[i,j]\n",
    "            end\n",
    "        end\n",
    "        hess[end,end] = 0\n",
    "        return hess\n",
    "    else\n",
    "        throw(ErrorException(\"Invalid second-order cone projection\"))\n",
    "    end\n",
    "end\n",
    "end"
   ]
  },
  {
   "cell_type": "code",
   "execution_count": 4,
   "id": "90e80e62-224c-4d2f-870b-53319635b810",
   "metadata": {},
   "outputs": [
    {
     "data": {
      "text/plain": [
       "3×3 Matrix{Float64}:\n",
       "  1.00908   -0.554993   0.227043\n",
       " -0.554993   0.305246  -0.124873\n",
       "  0.227043  -0.124873   0.0"
      ]
     },
     "execution_count": 4,
     "metadata": {},
     "output_type": "execute_result"
    }
   ],
   "source": [
    "∇²projection([1.1 2 0], [4.1 5 6])"
   ]
  },
  {
   "cell_type": "code",
   "execution_count": 142,
   "id": "f4edd7a6-7756-43ee-a37b-f91abdd18650",
   "metadata": {},
   "outputs": [
    {
     "name": "stdout",
     "output_type": "stream",
     "text": [
      "iter     J           ΔJ        |d|         α        reg         ρ\n",
      "---------------------------------------------------------------------\n",
      "  1    0.000e+00   3.56e+06   0.00e+00  0.0000    1.00e-08    1.00e+00\n",
      "update cone\n",
      "convio = 29.899723f0\n",
      "  2    0.000e+00   3.60e+06   0.00e+00  0.0000    1.00e-08    1.00e+01\n",
      "update cone\n",
      "convio = 29.393703f0\n",
      "  3    0.000e+00   3.82e+06   0.00e+00  0.0000    1.00e-08    1.00e+02\n",
      "update cone\n",
      "convio = 25.216082f0\n",
      "  4    0.000e+00   3.74e+06   0.00e+00  0.0000    1.00e-08    1.00e+03\n",
      "update cone\n",
      "convio = 11.458504f0\n",
      "  5    0.000e+00   3.19e+06   0.00e+00  0.0000    1.00e-08    1.00e+04\n",
      "update cone\n",
      "convio = 1.8108752f0\n",
      "  6    0.000e+00   3.08e+06   0.00e+00  0.0000    1.00e-08    1.00e+05\n",
      "update cone\n",
      "convio = 0.1923286f0\n",
      "  7    0.000e+00   3.30e+06   0.00e+00  0.0000    1.00e-08    1.00e+06\n",
      "update cone\n",
      "convio = 0.019356757f0\n",
      "  8    0.000e+00   5.51e+06   0.00e+00  0.0000    1.00e-08    1.00e+07\n",
      "update cone\n",
      "convio = 0.0019364059f0\n",
      "  9    0.000e+00   2.73e+07   0.00e+00  0.0000    1.00e-08    1.00e+08\n",
      "update cone\n",
      "convio = 0.00019425154f0\n",
      " 10    0.000e+00   2.44e+08   0.00e+00  0.0000    1.00e-08    1.00e+09\n",
      "update cone\n",
      "convio = 1.9431114f-5\n"
     ]
    },
    {
     "data": {
      "image/svg+xml": [
       "<?xml version=\"1.0\" encoding=\"utf-8\"?>\n",
       "<svg xmlns=\"http://www.w3.org/2000/svg\" xmlns:xlink=\"http://www.w3.org/1999/xlink\" width=\"600\" height=\"400\" viewBox=\"0 0 2400 1600\">\n",
       "<defs>\n",
       "  <clipPath id=\"clip020\">\n",
       "    <rect x=\"0\" y=\"0\" width=\"2400\" height=\"1600\"/>\n",
       "  </clipPath>\n",
       "</defs>\n",
       "<path clip-path=\"url(#clip020)\" d=\"M0 1600 L2400 1600 L2400 0 L0 0  Z\" fill=\"#ffffff\" fill-rule=\"evenodd\" fill-opacity=\"1\"/>\n",
       "<defs>\n",
       "  <clipPath id=\"clip021\">\n",
       "    <rect x=\"480\" y=\"0\" width=\"1681\" height=\"1600\"/>\n",
       "  </clipPath>\n",
       "</defs>\n",
       "<path clip-path=\"url(#clip020)\" d=\"M210.977 1423.18 L2352.76 1423.18 L2352.76 123.472 L210.977 123.472  Z\" fill=\"#ffffff\" fill-rule=\"evenodd\" fill-opacity=\"1\"/>\n",
       "<defs>\n",
       "  <clipPath id=\"clip022\">\n",
       "    <rect x=\"210\" y=\"123\" width=\"2143\" height=\"1301\"/>\n",
       "  </clipPath>\n",
       "</defs>\n",
       "<polyline clip-path=\"url(#clip022)\" style=\"stroke:#000000; stroke-linecap:round; stroke-linejoin:round; stroke-width:2; stroke-opacity:0.1; fill:none\" points=\"271.594,1423.18 271.594,123.472 \"/>\n",
       "<polyline clip-path=\"url(#clip022)\" style=\"stroke:#000000; stroke-linecap:round; stroke-linejoin:round; stroke-width:2; stroke-opacity:0.1; fill:none\" points=\"945.109,1423.18 945.109,123.472 \"/>\n",
       "<polyline clip-path=\"url(#clip022)\" style=\"stroke:#000000; stroke-linecap:round; stroke-linejoin:round; stroke-width:2; stroke-opacity:0.1; fill:none\" points=\"1618.62,1423.18 1618.62,123.472 \"/>\n",
       "<polyline clip-path=\"url(#clip022)\" style=\"stroke:#000000; stroke-linecap:round; stroke-linejoin:round; stroke-width:2; stroke-opacity:0.1; fill:none\" points=\"2292.14,1423.18 2292.14,123.472 \"/>\n",
       "<polyline clip-path=\"url(#clip020)\" style=\"stroke:#000000; stroke-linecap:round; stroke-linejoin:round; stroke-width:4; stroke-opacity:1; fill:none\" points=\"210.977,1423.18 2352.76,1423.18 \"/>\n",
       "<polyline clip-path=\"url(#clip020)\" style=\"stroke:#000000; stroke-linecap:round; stroke-linejoin:round; stroke-width:4; stroke-opacity:1; fill:none\" points=\"271.594,1423.18 271.594,1404.28 \"/>\n",
       "<polyline clip-path=\"url(#clip020)\" style=\"stroke:#000000; stroke-linecap:round; stroke-linejoin:round; stroke-width:4; stroke-opacity:1; fill:none\" points=\"945.109,1423.18 945.109,1404.28 \"/>\n",
       "<polyline clip-path=\"url(#clip020)\" style=\"stroke:#000000; stroke-linecap:round; stroke-linejoin:round; stroke-width:4; stroke-opacity:1; fill:none\" points=\"1618.62,1423.18 1618.62,1404.28 \"/>\n",
       "<polyline clip-path=\"url(#clip020)\" style=\"stroke:#000000; stroke-linecap:round; stroke-linejoin:round; stroke-width:4; stroke-opacity:1; fill:none\" points=\"2292.14,1423.18 2292.14,1404.28 \"/>\n",
       "<path clip-path=\"url(#clip020)\" d=\"M271.594 1454.1 Q267.983 1454.1 266.154 1457.66 Q264.348 1461.2 264.348 1468.33 Q264.348 1475.44 266.154 1479.01 Q267.983 1482.55 271.594 1482.55 Q275.228 1482.55 277.034 1479.01 Q278.862 1475.44 278.862 1468.33 Q278.862 1461.2 277.034 1457.66 Q275.228 1454.1 271.594 1454.1 M271.594 1450.39 Q277.404 1450.39 280.459 1455 Q283.538 1459.58 283.538 1468.33 Q283.538 1477.06 280.459 1481.67 Q277.404 1486.25 271.594 1486.25 Q265.784 1486.25 262.705 1481.67 Q259.649 1477.06 259.649 1468.33 Q259.649 1459.58 262.705 1455 Q265.784 1450.39 271.594 1450.39 Z\" fill=\"#000000\" fill-rule=\"evenodd\" fill-opacity=\"1\" /><path clip-path=\"url(#clip020)\" d=\"M935.387 1451.02 L953.743 1451.02 L953.743 1454.96 L939.669 1454.96 L939.669 1463.43 Q940.688 1463.08 941.706 1462.92 Q942.725 1462.73 943.743 1462.73 Q949.53 1462.73 952.91 1465.9 Q956.29 1469.08 956.29 1474.49 Q956.29 1480.07 952.817 1483.17 Q949.345 1486.25 943.026 1486.25 Q940.85 1486.25 938.581 1485.88 Q936.336 1485.51 933.929 1484.77 L933.929 1480.07 Q936.012 1481.2 938.234 1481.76 Q940.456 1482.32 942.933 1482.32 Q946.938 1482.32 949.276 1480.21 Q951.614 1478.1 951.614 1474.49 Q951.614 1470.88 949.276 1468.77 Q946.938 1466.67 942.933 1466.67 Q941.058 1466.67 939.183 1467.08 Q937.331 1467.5 935.387 1468.38 L935.387 1451.02 Z\" fill=\"#000000\" fill-rule=\"evenodd\" fill-opacity=\"1\" /><path clip-path=\"url(#clip020)\" d=\"M1593.31 1481.64 L1600.95 1481.64 L1600.95 1455.28 L1592.64 1456.95 L1592.64 1452.69 L1600.9 1451.02 L1605.58 1451.02 L1605.58 1481.64 L1613.22 1481.64 L1613.22 1485.58 L1593.31 1485.58 L1593.31 1481.64 Z\" fill=\"#000000\" fill-rule=\"evenodd\" fill-opacity=\"1\" /><path clip-path=\"url(#clip020)\" d=\"M1632.66 1454.1 Q1629.05 1454.1 1627.22 1457.66 Q1625.42 1461.2 1625.42 1468.33 Q1625.42 1475.44 1627.22 1479.01 Q1629.05 1482.55 1632.66 1482.55 Q1636.3 1482.55 1638.1 1479.01 Q1639.93 1475.44 1639.93 1468.33 Q1639.93 1461.2 1638.1 1457.66 Q1636.3 1454.1 1632.66 1454.1 M1632.66 1450.39 Q1638.47 1450.39 1641.53 1455 Q1644.61 1459.58 1644.61 1468.33 Q1644.61 1477.06 1641.53 1481.67 Q1638.47 1486.25 1632.66 1486.25 Q1626.85 1486.25 1623.77 1481.67 Q1620.72 1477.06 1620.72 1468.33 Q1620.72 1459.58 1623.77 1455 Q1626.85 1450.39 1632.66 1450.39 Z\" fill=\"#000000\" fill-rule=\"evenodd\" fill-opacity=\"1\" /><path clip-path=\"url(#clip020)\" d=\"M2267.32 1481.64 L2274.96 1481.64 L2274.96 1455.28 L2266.65 1456.95 L2266.65 1452.69 L2274.92 1451.02 L2279.59 1451.02 L2279.59 1481.64 L2287.23 1481.64 L2287.23 1485.58 L2267.32 1485.58 L2267.32 1481.64 Z\" fill=\"#000000\" fill-rule=\"evenodd\" fill-opacity=\"1\" /><path clip-path=\"url(#clip020)\" d=\"M2296.72 1451.02 L2315.08 1451.02 L2315.08 1454.96 L2301.01 1454.96 L2301.01 1463.43 Q2302.02 1463.08 2303.04 1462.92 Q2304.06 1462.73 2305.08 1462.73 Q2310.87 1462.73 2314.25 1465.9 Q2317.63 1469.08 2317.63 1474.49 Q2317.63 1480.07 2314.15 1483.17 Q2310.68 1486.25 2304.36 1486.25 Q2302.19 1486.25 2299.92 1485.88 Q2297.67 1485.51 2295.26 1484.77 L2295.26 1480.07 Q2297.35 1481.2 2299.57 1481.76 Q2301.79 1482.32 2304.27 1482.32 Q2308.27 1482.32 2310.61 1480.21 Q2312.95 1478.1 2312.95 1474.49 Q2312.95 1470.88 2310.61 1468.77 Q2308.27 1466.67 2304.27 1466.67 Q2302.39 1466.67 2300.52 1467.08 Q2298.67 1467.5 2296.72 1468.38 L2296.72 1451.02 Z\" fill=\"#000000\" fill-rule=\"evenodd\" fill-opacity=\"1\" /><path clip-path=\"url(#clip020)\" d=\"M1169.32 1522.27 L1169.32 1532.4 L1181.38 1532.4 L1181.38 1536.95 L1169.32 1536.95 L1169.32 1556.3 Q1169.32 1560.66 1170.5 1561.9 Q1171.71 1563.14 1175.37 1563.14 L1181.38 1563.14 L1181.38 1568.04 L1175.37 1568.04 Q1168.59 1568.04 1166.01 1565.53 Q1163.43 1562.98 1163.43 1556.3 L1163.43 1536.95 L1159.14 1536.95 L1159.14 1532.4 L1163.43 1532.4 L1163.43 1522.27 L1169.32 1522.27 Z\" fill=\"#000000\" fill-rule=\"evenodd\" fill-opacity=\"1\" /><path clip-path=\"url(#clip020)\" d=\"M1189.09 1532.4 L1194.94 1532.4 L1194.94 1568.04 L1189.09 1568.04 L1189.09 1532.4 M1189.09 1518.52 L1194.94 1518.52 L1194.94 1525.93 L1189.09 1525.93 L1189.09 1518.52 Z\" fill=\"#000000\" fill-rule=\"evenodd\" fill-opacity=\"1\" /><path clip-path=\"url(#clip020)\" d=\"M1234.95 1539.24 Q1237.15 1535.29 1240.2 1533.41 Q1243.26 1531.54 1247.4 1531.54 Q1252.97 1531.54 1255.99 1535.45 Q1259.01 1539.33 1259.01 1546.53 L1259.01 1568.04 L1253.13 1568.04 L1253.13 1546.72 Q1253.13 1541.59 1251.31 1539.11 Q1249.5 1536.63 1245.77 1536.63 Q1241.22 1536.63 1238.58 1539.65 Q1235.94 1542.68 1235.94 1547.9 L1235.94 1568.04 L1230.05 1568.04 L1230.05 1546.72 Q1230.05 1541.56 1228.24 1539.11 Q1226.42 1536.63 1222.63 1536.63 Q1218.15 1536.63 1215.5 1539.68 Q1212.86 1542.71 1212.86 1547.9 L1212.86 1568.04 L1206.97 1568.04 L1206.97 1532.4 L1212.86 1532.4 L1212.86 1537.93 Q1214.87 1534.66 1217.67 1533.1 Q1220.47 1531.54 1224.32 1531.54 Q1228.2 1531.54 1230.91 1533.51 Q1233.65 1535.48 1234.95 1539.24 Z\" fill=\"#000000\" fill-rule=\"evenodd\" fill-opacity=\"1\" /><path clip-path=\"url(#clip020)\" d=\"M1301.19 1548.76 L1301.19 1551.62 L1274.26 1551.62 Q1274.64 1557.67 1277.89 1560.85 Q1281.17 1564 1286.99 1564 Q1290.36 1564 1293.52 1563.17 Q1296.7 1562.35 1299.82 1560.69 L1299.82 1566.23 Q1296.67 1567.57 1293.36 1568.27 Q1290.05 1568.97 1286.64 1568.97 Q1278.11 1568.97 1273.11 1564 Q1268.15 1559.04 1268.15 1550.57 Q1268.15 1541.82 1272.86 1536.69 Q1277.6 1531.54 1285.62 1531.54 Q1292.82 1531.54 1296.99 1536.18 Q1301.19 1540.8 1301.19 1548.76 M1295.33 1547.04 Q1295.27 1542.23 1292.62 1539.37 Q1290.01 1536.5 1285.69 1536.5 Q1280.78 1536.5 1277.82 1539.27 Q1274.9 1542.04 1274.45 1547.07 L1295.33 1547.04 Z\" fill=\"#000000\" fill-rule=\"evenodd\" fill-opacity=\"1\" /><path clip-path=\"url(#clip020)\" d=\"M1345.59 1518.58 Q1341.32 1525.9 1339.25 1533.06 Q1337.18 1540.23 1337.18 1547.58 Q1337.18 1554.93 1339.25 1562.16 Q1341.35 1569.35 1345.59 1576.64 L1340.49 1576.64 Q1335.72 1569.16 1333.33 1561.93 Q1330.98 1554.71 1330.98 1547.58 Q1330.98 1540.48 1333.33 1533.29 Q1335.69 1526.09 1340.49 1518.58 L1345.59 1518.58 Z\" fill=\"#000000\" fill-rule=\"evenodd\" fill-opacity=\"1\" /><path clip-path=\"url(#clip020)\" d=\"M1379.68 1533.45 L1379.68 1538.98 Q1377.19 1537.71 1374.52 1537.07 Q1371.85 1536.44 1368.98 1536.44 Q1364.62 1536.44 1362.42 1537.77 Q1360.26 1539.11 1360.26 1541.79 Q1360.26 1543.82 1361.82 1545 Q1363.38 1546.15 1368.09 1547.2 L1370.1 1547.64 Q1376.33 1548.98 1378.94 1551.43 Q1381.59 1553.85 1381.59 1558.21 Q1381.59 1563.17 1377.64 1566.07 Q1373.72 1568.97 1366.85 1568.97 Q1363.98 1568.97 1360.87 1568.39 Q1357.78 1567.85 1354.34 1566.74 L1354.34 1560.69 Q1357.59 1562.38 1360.74 1563.24 Q1363.89 1564.07 1366.98 1564.07 Q1371.11 1564.07 1373.34 1562.66 Q1375.57 1561.23 1375.57 1558.65 Q1375.57 1556.27 1373.95 1554.99 Q1372.36 1553.72 1366.91 1552.54 L1364.88 1552.07 Q1359.43 1550.92 1357.01 1548.56 Q1354.59 1546.18 1354.59 1542.04 Q1354.59 1537.01 1358.16 1534.27 Q1361.72 1531.54 1368.28 1531.54 Q1371.53 1531.54 1374.39 1532.01 Q1377.26 1532.49 1379.68 1533.45 Z\" fill=\"#000000\" fill-rule=\"evenodd\" fill-opacity=\"1\" /><path clip-path=\"url(#clip020)\" d=\"M1389.99 1518.58 L1395.08 1518.58 Q1399.86 1526.09 1402.21 1533.29 Q1404.6 1540.48 1404.6 1547.58 Q1404.6 1554.71 1402.21 1561.93 Q1399.86 1569.16 1395.08 1576.64 L1389.99 1576.64 Q1394.22 1569.35 1396.29 1562.16 Q1398.39 1554.93 1398.39 1547.58 Q1398.39 1540.23 1396.29 1533.06 Q1394.22 1525.9 1389.99 1518.58 Z\" fill=\"#000000\" fill-rule=\"evenodd\" fill-opacity=\"1\" /><polyline clip-path=\"url(#clip022)\" style=\"stroke:#000000; stroke-linecap:round; stroke-linejoin:round; stroke-width:2; stroke-opacity:0.1; fill:none\" points=\"210.977,1386.4 2352.76,1386.4 \"/>\n",
       "<polyline clip-path=\"url(#clip022)\" style=\"stroke:#000000; stroke-linecap:round; stroke-linejoin:round; stroke-width:2; stroke-opacity:0.1; fill:none\" points=\"210.977,1141.17 2352.76,1141.17 \"/>\n",
       "<polyline clip-path=\"url(#clip022)\" style=\"stroke:#000000; stroke-linecap:round; stroke-linejoin:round; stroke-width:2; stroke-opacity:0.1; fill:none\" points=\"210.977,895.94 2352.76,895.94 \"/>\n",
       "<polyline clip-path=\"url(#clip022)\" style=\"stroke:#000000; stroke-linecap:round; stroke-linejoin:round; stroke-width:2; stroke-opacity:0.1; fill:none\" points=\"210.977,650.712 2352.76,650.712 \"/>\n",
       "<polyline clip-path=\"url(#clip022)\" style=\"stroke:#000000; stroke-linecap:round; stroke-linejoin:round; stroke-width:2; stroke-opacity:0.1; fill:none\" points=\"210.977,405.484 2352.76,405.484 \"/>\n",
       "<polyline clip-path=\"url(#clip022)\" style=\"stroke:#000000; stroke-linecap:round; stroke-linejoin:round; stroke-width:2; stroke-opacity:0.1; fill:none\" points=\"210.977,160.256 2352.76,160.256 \"/>\n",
       "<polyline clip-path=\"url(#clip020)\" style=\"stroke:#000000; stroke-linecap:round; stroke-linejoin:round; stroke-width:4; stroke-opacity:1; fill:none\" points=\"210.977,1423.18 210.977,123.472 \"/>\n",
       "<polyline clip-path=\"url(#clip020)\" style=\"stroke:#000000; stroke-linecap:round; stroke-linejoin:round; stroke-width:4; stroke-opacity:1; fill:none\" points=\"210.977,1386.4 229.875,1386.4 \"/>\n",
       "<polyline clip-path=\"url(#clip020)\" style=\"stroke:#000000; stroke-linecap:round; stroke-linejoin:round; stroke-width:4; stroke-opacity:1; fill:none\" points=\"210.977,1141.17 229.875,1141.17 \"/>\n",
       "<polyline clip-path=\"url(#clip020)\" style=\"stroke:#000000; stroke-linecap:round; stroke-linejoin:round; stroke-width:4; stroke-opacity:1; fill:none\" points=\"210.977,895.94 229.875,895.94 \"/>\n",
       "<polyline clip-path=\"url(#clip020)\" style=\"stroke:#000000; stroke-linecap:round; stroke-linejoin:round; stroke-width:4; stroke-opacity:1; fill:none\" points=\"210.977,650.712 229.875,650.712 \"/>\n",
       "<polyline clip-path=\"url(#clip020)\" style=\"stroke:#000000; stroke-linecap:round; stroke-linejoin:round; stroke-width:4; stroke-opacity:1; fill:none\" points=\"210.977,405.484 229.875,405.484 \"/>\n",
       "<polyline clip-path=\"url(#clip020)\" style=\"stroke:#000000; stroke-linecap:round; stroke-linejoin:round; stroke-width:4; stroke-opacity:1; fill:none\" points=\"210.977,160.256 229.875,160.256 \"/>\n",
       "<path clip-path=\"url(#clip020)\" d=\"M114.26 1386.85 L143.936 1386.85 L143.936 1390.78 L114.26 1390.78 L114.26 1386.85 Z\" fill=\"#000000\" fill-rule=\"evenodd\" fill-opacity=\"1\" /><path clip-path=\"url(#clip020)\" d=\"M154.075 1369.12 L172.431 1369.12 L172.431 1373.05 L158.357 1373.05 L158.357 1381.52 Q159.376 1381.18 160.394 1381.01 Q161.413 1380.83 162.431 1380.83 Q168.218 1380.83 171.598 1384 Q174.977 1387.17 174.977 1392.59 Q174.977 1398.17 171.505 1401.27 Q168.033 1404.35 161.714 1404.35 Q159.538 1404.35 157.269 1403.98 Q155.024 1403.61 152.616 1402.87 L152.616 1398.17 Q154.7 1399.3 156.922 1399.86 Q159.144 1400.41 161.621 1400.41 Q165.626 1400.41 167.964 1398.31 Q170.302 1396.2 170.302 1392.59 Q170.302 1388.98 167.964 1386.87 Q165.626 1384.76 161.621 1384.76 Q159.746 1384.76 157.871 1385.18 Q156.019 1385.6 154.075 1386.48 L154.075 1369.12 Z\" fill=\"#000000\" fill-rule=\"evenodd\" fill-opacity=\"1\" /><path clip-path=\"url(#clip020)\" d=\"M163.033 1126.97 Q159.422 1126.97 157.593 1130.53 Q155.788 1134.07 155.788 1141.2 Q155.788 1148.31 157.593 1151.87 Q159.422 1155.42 163.033 1155.42 Q166.667 1155.42 168.473 1151.87 Q170.302 1148.31 170.302 1141.2 Q170.302 1134.07 168.473 1130.53 Q166.667 1126.97 163.033 1126.97 M163.033 1123.26 Q168.843 1123.26 171.899 1127.87 Q174.977 1132.45 174.977 1141.2 Q174.977 1149.93 171.899 1154.54 Q168.843 1159.12 163.033 1159.12 Q157.223 1159.12 154.144 1154.54 Q151.089 1149.93 151.089 1141.2 Q151.089 1132.45 154.144 1127.87 Q157.223 1123.26 163.033 1123.26 Z\" fill=\"#000000\" fill-rule=\"evenodd\" fill-opacity=\"1\" /><path clip-path=\"url(#clip020)\" d=\"M154.075 878.66 L172.431 878.66 L172.431 882.595 L158.357 882.595 L158.357 891.067 Q159.376 890.72 160.394 890.558 Q161.413 890.373 162.431 890.373 Q168.218 890.373 171.598 893.544 Q174.977 896.715 174.977 902.132 Q174.977 907.711 171.505 910.813 Q168.033 913.891 161.714 913.891 Q159.538 913.891 157.269 913.521 Q155.024 913.15 152.616 912.41 L152.616 907.711 Q154.7 908.845 156.922 909.4 Q159.144 909.956 161.621 909.956 Q165.626 909.956 167.964 907.85 Q170.302 905.743 170.302 902.132 Q170.302 898.521 167.964 896.414 Q165.626 894.308 161.621 894.308 Q159.746 894.308 157.871 894.725 Q156.019 895.141 154.075 896.021 L154.075 878.66 Z\" fill=\"#000000\" fill-rule=\"evenodd\" fill-opacity=\"1\" /><path clip-path=\"url(#clip020)\" d=\"M123.681 664.057 L131.32 664.057 L131.32 637.691 L123.01 639.358 L123.01 635.099 L131.274 633.432 L135.95 633.432 L135.95 664.057 L143.589 664.057 L143.589 667.992 L123.681 667.992 L123.681 664.057 Z\" fill=\"#000000\" fill-rule=\"evenodd\" fill-opacity=\"1\" /><path clip-path=\"url(#clip020)\" d=\"M163.033 636.511 Q159.422 636.511 157.593 640.076 Q155.788 643.617 155.788 650.747 Q155.788 657.853 157.593 661.418 Q159.422 664.96 163.033 664.96 Q166.667 664.96 168.473 661.418 Q170.302 657.853 170.302 650.747 Q170.302 643.617 168.473 640.076 Q166.667 636.511 163.033 636.511 M163.033 632.807 Q168.843 632.807 171.899 637.414 Q174.977 641.997 174.977 650.747 Q174.977 659.474 171.899 664.08 Q168.843 668.663 163.033 668.663 Q157.223 668.663 154.144 664.08 Q151.089 659.474 151.089 650.747 Q151.089 641.997 154.144 637.414 Q157.223 632.807 163.033 632.807 Z\" fill=\"#000000\" fill-rule=\"evenodd\" fill-opacity=\"1\" /><path clip-path=\"url(#clip020)\" d=\"M124.677 418.829 L132.316 418.829 L132.316 392.463 L124.005 394.13 L124.005 389.871 L132.269 388.204 L136.945 388.204 L136.945 418.829 L144.584 418.829 L144.584 422.764 L124.677 422.764 L124.677 418.829 Z\" fill=\"#000000\" fill-rule=\"evenodd\" fill-opacity=\"1\" /><path clip-path=\"url(#clip020)\" d=\"M154.075 388.204 L172.431 388.204 L172.431 392.139 L158.357 392.139 L158.357 400.612 Q159.376 400.264 160.394 400.102 Q161.413 399.917 162.431 399.917 Q168.218 399.917 171.598 403.088 Q174.977 406.26 174.977 411.676 Q174.977 417.255 171.505 420.357 Q168.033 423.435 161.714 423.435 Q159.538 423.435 157.269 423.065 Q155.024 422.695 152.616 421.954 L152.616 417.255 Q154.7 418.389 156.922 418.945 Q159.144 419.5 161.621 419.5 Q165.626 419.5 167.964 417.394 Q170.302 415.287 170.302 411.676 Q170.302 408.065 167.964 405.959 Q165.626 403.852 161.621 403.852 Q159.746 403.852 157.871 404.269 Q156.019 404.686 154.075 405.565 L154.075 388.204 Z\" fill=\"#000000\" fill-rule=\"evenodd\" fill-opacity=\"1\" /><path clip-path=\"url(#clip020)\" d=\"M126.899 173.601 L143.218 173.601 L143.218 177.536 L121.274 177.536 L121.274 173.601 Q123.936 170.847 128.519 166.217 Q133.126 161.564 134.306 160.222 Q136.552 157.698 137.431 155.962 Q138.334 154.203 138.334 152.513 Q138.334 149.759 136.39 148.023 Q134.468 146.286 131.367 146.286 Q129.167 146.286 126.714 147.05 Q124.283 147.814 121.505 149.365 L121.505 144.643 Q124.33 143.509 126.783 142.93 Q129.237 142.351 131.274 142.351 Q136.644 142.351 139.839 145.036 Q143.033 147.722 143.033 152.212 Q143.033 154.342 142.223 156.263 Q141.436 158.161 139.329 160.754 Q138.751 161.425 135.649 164.643 Q132.547 167.837 126.899 173.601 Z\" fill=\"#000000\" fill-rule=\"evenodd\" fill-opacity=\"1\" /><path clip-path=\"url(#clip020)\" d=\"M163.033 146.055 Q159.422 146.055 157.593 149.62 Q155.788 153.161 155.788 160.291 Q155.788 167.397 157.593 170.962 Q159.422 174.504 163.033 174.504 Q166.667 174.504 168.473 170.962 Q170.302 167.397 170.302 160.291 Q170.302 153.161 168.473 149.62 Q166.667 146.055 163.033 146.055 M163.033 142.351 Q168.843 142.351 171.899 146.958 Q174.977 151.541 174.977 160.291 Q174.977 169.018 171.899 173.624 Q168.843 178.208 163.033 178.208 Q157.223 178.208 154.144 173.624 Q151.089 169.018 151.089 160.291 Q151.089 151.541 154.144 146.958 Q157.223 142.351 163.033 142.351 Z\" fill=\"#000000\" fill-rule=\"evenodd\" fill-opacity=\"1\" /><path clip-path=\"url(#clip020)\" d=\"M28.3562 756.711 L45.7028 769.602 L64.0042 756.043 L64.0042 762.95 L49.9996 773.326 L64.0042 783.702 L64.0042 790.609 L45.3526 776.763 L28.3562 789.431 L28.3562 782.524 L41.0558 773.071 L28.3562 763.618 L28.3562 756.711 Z\" fill=\"#000000\" fill-rule=\"evenodd\" fill-opacity=\"1\" /><path clip-path=\"url(#clip020)\" d=\"M1054.21 14.0809 L1054.21 22.0612 Q1049.55 19.8332 1045.42 18.7395 Q1041.28 17.6457 1037.44 17.6457 Q1030.75 17.6457 1027.11 20.2383 Q1023.5 22.8309 1023.5 27.611 Q1023.5 31.6214 1025.89 33.6873 Q1028.32 35.7128 1035.05 36.9686 L1039.99 37.9813 Q1049.14 39.7232 1053.48 44.1387 Q1057.85 48.5136 1057.85 55.8863 Q1057.85 64.6767 1051.94 69.2137 Q1046.06 73.7508 1034.68 73.7508 Q1030.39 73.7508 1025.53 72.7785 Q1020.7 71.8063 1015.52 69.9024 L1015.52 61.4765 Q1020.5 64.2716 1025.28 65.6895 Q1030.06 67.1073 1034.68 67.1073 Q1041.69 67.1073 1045.5 64.3527 Q1049.3 61.598 1049.3 56.4939 Q1049.3 52.0379 1046.55 49.5264 Q1043.84 47.0148 1037.6 45.759 L1032.61 44.7868 Q1023.46 42.9639 1019.37 39.075 Q1015.28 35.1862 1015.28 28.2591 Q1015.28 20.2383 1020.91 15.6203 Q1026.58 11.0023 1036.5 11.0023 Q1040.76 11.0023 1045.17 11.7719 Q1049.59 12.5416 1054.21 14.0809 Z\" fill=\"#000000\" fill-rule=\"evenodd\" fill-opacity=\"1\" /><path clip-path=\"url(#clip020)\" d=\"M1077.66 14.324 L1077.66 27.2059 L1093.01 27.2059 L1093.01 32.9987 L1077.66 32.9987 L1077.66 57.6282 Q1077.66 63.1779 1079.16 64.7578 Q1080.7 66.3376 1085.36 66.3376 L1093.01 66.3376 L1093.01 72.576 L1085.36 72.576 Q1076.73 72.576 1073.45 69.3758 Q1070.17 66.1351 1070.17 57.6282 L1070.17 32.9987 L1064.7 32.9987 L1064.7 27.2059 L1070.17 27.2059 L1070.17 14.324 L1077.66 14.324 Z\" fill=\"#000000\" fill-rule=\"evenodd\" fill-opacity=\"1\" /><path clip-path=\"url(#clip020)\" d=\"M1123.44 49.7694 Q1114.4 49.7694 1110.92 51.8354 Q1107.43 53.9013 1107.43 58.8839 Q1107.43 62.8538 1110.03 65.2034 Q1112.66 67.5124 1117.16 67.5124 Q1123.35 67.5124 1127.08 63.1374 Q1130.85 58.7219 1130.85 51.4303 L1130.85 49.7694 L1123.44 49.7694 M1138.3 46.6907 L1138.3 72.576 L1130.85 72.576 L1130.85 65.6895 Q1128.3 69.8214 1124.49 71.8063 Q1120.68 73.7508 1115.17 73.7508 Q1108.2 73.7508 1104.07 69.8619 Q1099.98 65.9325 1099.98 59.3701 Q1099.98 51.7138 1105.09 47.825 Q1110.23 43.9361 1120.4 43.9361 L1130.85 43.9361 L1130.85 43.2069 Q1130.85 38.0623 1127.45 35.2672 Q1124.08 32.4315 1117.97 32.4315 Q1114.08 32.4315 1110.39 33.3632 Q1106.71 34.295 1103.3 36.1584 L1103.3 29.2718 Q1107.39 27.692 1111.24 26.9223 Q1115.09 26.1121 1118.74 26.1121 Q1128.58 26.1121 1133.44 31.2163 Q1138.3 36.3204 1138.3 46.6907 Z\" fill=\"#000000\" fill-rule=\"evenodd\" fill-opacity=\"1\" /><path clip-path=\"url(#clip020)\" d=\"M1161.03 14.324 L1161.03 27.2059 L1176.38 27.2059 L1176.38 32.9987 L1161.03 32.9987 L1161.03 57.6282 Q1161.03 63.1779 1162.53 64.7578 Q1164.07 66.3376 1168.72 66.3376 L1176.38 66.3376 L1176.38 72.576 L1168.72 72.576 Q1160.1 72.576 1156.82 69.3758 Q1153.53 66.1351 1153.53 57.6282 L1153.53 32.9987 L1148.07 32.9987 L1148.07 27.2059 L1153.53 27.2059 L1153.53 14.324 L1161.03 14.324 Z\" fill=\"#000000\" fill-rule=\"evenodd\" fill-opacity=\"1\" /><path clip-path=\"url(#clip020)\" d=\"M1224.99 48.0275 L1224.99 51.6733 L1190.72 51.6733 Q1191.21 59.3701 1195.34 63.421 Q1199.51 67.4314 1206.92 67.4314 Q1211.22 67.4314 1215.23 66.3781 Q1219.28 65.3249 1223.25 63.2184 L1223.25 70.267 Q1219.24 71.9684 1215.03 72.8596 Q1210.81 73.7508 1206.48 73.7508 Q1195.62 73.7508 1189.26 67.4314 Q1182.94 61.1119 1182.94 50.3365 Q1182.94 39.1965 1188.94 32.6746 Q1194.97 26.1121 1205.18 26.1121 Q1214.34 26.1121 1219.64 32.0264 Q1224.99 37.9003 1224.99 48.0275 M1217.54 45.84 Q1217.46 39.7232 1214.1 36.0774 Q1210.77 32.4315 1205.26 32.4315 Q1199.03 32.4315 1195.26 35.9558 Q1191.53 39.4801 1190.96 45.8805 L1217.54 45.84 Z\" fill=\"#000000\" fill-rule=\"evenodd\" fill-opacity=\"1\" /><path clip-path=\"url(#clip020)\" d=\"M1263.92 12.096 L1272.1 12.096 L1272.1 36.8875 L1301.84 36.8875 L1301.84 12.096 L1310.02 12.096 L1310.02 72.576 L1301.84 72.576 L1301.84 43.7741 L1272.1 43.7741 L1272.1 72.576 L1263.92 72.576 L1263.92 12.096 Z\" fill=\"#000000\" fill-rule=\"evenodd\" fill-opacity=\"1\" /><path clip-path=\"url(#clip020)\" d=\"M1325.98 27.2059 L1333.43 27.2059 L1333.43 72.576 L1325.98 72.576 L1325.98 27.2059 M1325.98 9.54393 L1333.43 9.54393 L1333.43 18.9825 L1325.98 18.9825 L1325.98 9.54393 Z\" fill=\"#000000\" fill-rule=\"evenodd\" fill-opacity=\"1\" /><path clip-path=\"url(#clip020)\" d=\"M1377.95 28.5427 L1377.95 35.5912 Q1374.79 33.9709 1371.39 33.1607 Q1367.99 32.3505 1364.34 32.3505 Q1358.79 32.3505 1356 34.0519 Q1353.24 35.7533 1353.24 39.156 Q1353.24 41.7486 1355.23 43.2475 Q1357.21 44.7058 1363.21 46.0426 L1365.76 46.6097 Q1373.7 48.3111 1377.02 51.4303 Q1380.38 54.509 1380.38 60.0587 Q1380.38 66.3781 1375.36 70.0644 Q1370.38 73.7508 1361.63 73.7508 Q1357.98 73.7508 1354.01 73.0216 Q1350.08 72.3329 1345.71 70.9151 L1345.71 63.2184 Q1349.84 65.3654 1353.85 66.4591 Q1357.86 67.5124 1361.79 67.5124 Q1367.06 67.5124 1369.89 65.73 Q1372.73 63.9071 1372.73 60.6258 Q1372.73 57.5877 1370.66 55.9673 Q1368.64 54.3469 1361.71 52.8481 L1359.12 52.2405 Q1352.19 50.7821 1349.11 47.7845 Q1346.03 44.7463 1346.03 39.4801 Q1346.03 33.0797 1350.57 29.5959 Q1355.11 26.1121 1363.45 26.1121 Q1367.58 26.1121 1371.23 26.7198 Q1374.88 27.3274 1377.95 28.5427 Z\" fill=\"#000000\" fill-rule=\"evenodd\" fill-opacity=\"1\" /><path clip-path=\"url(#clip020)\" d=\"M1399.63 14.324 L1399.63 27.2059 L1414.98 27.2059 L1414.98 32.9987 L1399.63 32.9987 L1399.63 57.6282 Q1399.63 63.1779 1401.13 64.7578 Q1402.66 66.3376 1407.32 66.3376 L1414.98 66.3376 L1414.98 72.576 L1407.32 72.576 Q1398.69 72.576 1395.41 69.3758 Q1392.13 66.1351 1392.13 57.6282 L1392.13 32.9987 L1386.66 32.9987 L1386.66 27.2059 L1392.13 27.2059 L1392.13 14.324 L1399.63 14.324 Z\" fill=\"#000000\" fill-rule=\"evenodd\" fill-opacity=\"1\" /><path clip-path=\"url(#clip020)\" d=\"M1442.36 32.4315 Q1436.37 32.4315 1432.88 37.1306 Q1429.4 41.7891 1429.4 49.9314 Q1429.4 58.0738 1432.84 62.7728 Q1436.33 67.4314 1442.36 67.4314 Q1448.32 67.4314 1451.8 62.7323 Q1455.29 58.0333 1455.29 49.9314 Q1455.29 41.8701 1451.8 37.1711 Q1448.32 32.4315 1442.36 32.4315 M1442.36 26.1121 Q1452.09 26.1121 1457.64 32.4315 Q1463.19 38.7509 1463.19 49.9314 Q1463.19 61.0714 1457.64 67.4314 Q1452.09 73.7508 1442.36 73.7508 Q1432.6 73.7508 1427.05 67.4314 Q1421.54 61.0714 1421.54 49.9314 Q1421.54 38.7509 1427.05 32.4315 Q1432.6 26.1121 1442.36 26.1121 Z\" fill=\"#000000\" fill-rule=\"evenodd\" fill-opacity=\"1\" /><path clip-path=\"url(#clip020)\" d=\"M1501.83 34.1734 Q1500.57 33.4443 1499.08 33.1202 Q1497.62 32.7556 1495.84 32.7556 Q1489.52 32.7556 1486.11 36.8875 Q1482.75 40.9789 1482.75 48.6757 L1482.75 72.576 L1475.26 72.576 L1475.26 27.2059 L1482.75 27.2059 L1482.75 34.2544 Q1485.1 30.1225 1488.87 28.1376 Q1492.64 26.1121 1498.02 26.1121 Q1498.79 26.1121 1499.72 26.2337 Q1500.66 26.3147 1501.79 26.5172 L1501.83 34.1734 Z\" fill=\"#000000\" fill-rule=\"evenodd\" fill-opacity=\"1\" /><path clip-path=\"url(#clip020)\" d=\"M1528.53 76.7889 Q1525.37 84.8907 1522.37 87.3618 Q1519.37 89.8329 1514.35 89.8329 L1508.39 89.8329 L1508.39 83.5945 L1512.77 83.5945 Q1515.85 83.5945 1517.55 82.1361 Q1519.25 80.6778 1521.32 75.2496 L1522.65 71.8468 L1504.3 27.2059 L1512.2 27.2059 L1526.38 62.6918 L1540.56 27.2059 L1548.46 27.2059 L1528.53 76.7889 Z\" fill=\"#000000\" fill-rule=\"evenodd\" fill-opacity=\"1\" /><polyline clip-path=\"url(#clip022)\" style=\"stroke:#009af9; stroke-linecap:round; stroke-linejoin:round; stroke-width:4; stroke-opacity:1; fill:none\" points=\"271.594,944.985 278.329,952.301 285.064,959.533 291.799,966.682 298.534,973.749 305.27,980.735 312.005,987.638 318.74,994.461 325.475,1001.2 332.21,1007.86 338.945,1014.45 345.68,1020.95 352.416,1027.37 359.151,1033.71 365.886,1039.98 372.621,1046.17 379.356,1052.28 386.091,1058.31 392.827,1064.26 399.562,1070.14 406.297,1075.94 413.032,1081.67 419.767,1087.32 426.502,1092.9 433.237,1098.4 439.973,1103.83 446.708,1109.18 453.443,1114.46 460.178,1119.67 466.913,1124.8 473.648,1129.86 480.384,1134.85 487.119,1139.77 493.854,1144.62 500.589,1149.39 507.324,1154.1 514.059,1158.74 520.794,1163.3 527.53,1167.8 534.265,1172.23 541,1176.59 547.735,1180.88 554.47,1185.1 561.205,1189.26 567.941,1193.34 574.676,1197.37 581.411,1201.32 588.146,1205.21 594.881,1209.04 601.616,1212.8 608.351,1216.49 615.087,1220.12 621.822,1223.69 628.557,1227.19 635.292,1230.63 642.027,1234.01 648.762,1237.33 655.497,1240.58 662.233,1243.77 668.968,1246.9 675.703,1249.97 682.438,1252.98 689.173,1255.93 695.908,1258.81 702.644,1261.64 709.379,1264.41 716.114,1267.13 722.849,1269.78 729.584,1272.37 736.319,1274.91 743.054,1277.39 749.79,1279.82 756.525,1282.19 763.26,1284.5 769.995,1286.76 776.73,1288.96 783.465,1291.1 790.201,1293.2 796.936,1295.24 803.671,1297.22 810.406,1299.15 817.141,1301.03 823.876,1302.86 830.611,1304.63 837.347,1306.36 844.082,1308.03 850.817,1309.65 857.552,1311.22 864.287,1312.74 871.022,1314.21 877.758,1315.63 884.493,1317 891.228,1318.32 897.963,1319.6 904.698,1320.83 911.433,1322 918.168,1323.14 924.904,1324.22 931.639,1325.26 938.374,1326.26 945.109,1327.2 951.844,1328.11 958.579,1328.97 965.315,1329.78 972.05,1330.55 978.785,1331.28 985.52,1331.96 992.255,1332.6 998.99,1333.2 1005.73,1333.75 1012.46,1334.27 1019.2,1334.74 1025.93,1335.17 1032.67,1335.56 1039.4,1335.91 1046.14,1336.23 1052.87,1336.5 1059.61,1336.73 1066.34,1336.93 1073.08,1337.08 1079.81,1337.2 1086.55,1337.28 1093.28,1337.33 1100.02,1337.34 1106.75,1337.31 1113.49,1337.24 1120.22,1337.14 1126.96,1337.01 1133.69,1336.84 1140.43,1336.63 1147.16,1336.4 1153.9,1336.13 1160.63,1335.82 1167.37,1335.48 1174.1,1335.12 1180.84,1334.71 1187.57,1334.28 1194.31,1333.82 1201.04,1333.32 1207.78,1332.8 1214.52,1332.24 1221.25,1331.66 1227.99,1331.04 1234.72,1330.4 1241.46,1329.73 1248.19,1329.03 1254.93,1328.31 1261.66,1327.55 1268.4,1326.77 1275.13,1325.96 1281.87,1325.13 1288.6,1324.27 1295.34,1323.39 1302.07,1322.48 1308.81,1321.55 1315.54,1320.59 1322.28,1319.61 1329.01,1318.6 1335.75,1317.58 1342.48,1316.53 1349.22,1315.46 1355.95,1314.36 1362.69,1313.25 1369.42,1312.11 1376.16,1310.96 1382.89,1309.78 1389.63,1308.59 1396.36,1307.37 1403.1,1306.14 1409.83,1304.89 1416.57,1303.62 1423.3,1302.33 1430.04,1301.03 1436.78,1299.7 1443.51,1298.37 1450.25,1297.01 1456.98,1295.64 1463.72,1294.26 1470.45,1292.86 1477.19,1291.44 1483.92,1290.02 1490.66,1288.57 1497.39,1287.12 1504.13,1285.65 1510.86,1284.17 1517.6,1282.68 1524.33,1281.18 1531.07,1279.66 1537.8,1278.14 1544.54,1276.6 1551.27,1275.05 1558.01,1273.5 1564.74,1271.93 1571.48,1270.36 1578.21,1268.78 1584.95,1267.19 1591.68,1265.6 1598.42,1263.99 1605.15,1262.38 1611.89,1260.77 1618.62,1259.14 1625.36,1257.52 1632.09,1255.88 1638.83,1254.25 1645.56,1252.6 1652.3,1250.96 1659.04,1249.31 1665.77,1247.66 1672.51,1246.01 1679.24,1244.35 1685.98,1242.7 1692.71,1241.04 1699.45,1239.38 1706.18,1237.72 1712.92,1236.06 1719.65,1234.4 1726.39,1232.74 1733.12,1231.09 1739.86,1229.43 1746.59,1227.78 1753.33,1226.13 1760.06,1224.48 1766.8,1222.84 1773.53,1221.2 1780.27,1219.56 1787,1217.93 1793.74,1216.31 1800.47,1214.69 1807.21,1213.07 1813.94,1211.47 1820.68,1209.87 1827.41,1208.27 1834.15,1206.69 1840.88,1205.11 1847.62,1203.54 1854.35,1201.98 1861.09,1200.43 1867.82,1198.89 1874.56,1197.36 1881.3,1195.85 1888.03,1194.34 1894.77,1192.84 1901.5,1191.36 1908.24,1189.89 1914.97,1188.43 1921.71,1186.98 1928.44,1185.55 1935.18,1184.14 1941.91,1182.73 1948.65,1181.35 1955.38,1179.97 1962.12,1178.62 1968.85,1177.28 1975.59,1175.96 1982.32,1174.65 1989.06,1173.37 1995.79,1172.1 2002.53,1170.85 2009.26,1169.62 2016,1168.41 2022.73,1167.22 2029.47,1166.04 2036.2,1164.9 2042.94,1163.77 2049.67,1162.66 2056.41,1161.58 2063.14,1160.51 2069.88,1159.48 2076.61,1158.46 2083.35,1157.47 2090.08,1156.5 2096.82,1155.56 2103.56,1154.65 2110.29,1153.76 2117.03,1152.89 2123.76,1152.06 2130.5,1151.25 2137.23,1150.47 2143.97,1149.71 2150.7,1148.99 2157.44,1148.29 2164.17,1147.62 2170.91,1146.99 2177.64,1146.38 2184.38,1145.8 2191.11,1145.26 2197.85,1144.75 2204.58,1144.27 2211.32,1143.82 2218.05,1143.41 2224.79,1143.03 2231.52,1142.68 2238.26,1142.37 2244.99,1142.09 2251.73,1141.85 2258.46,1141.64 2265.2,1141.47 2271.93,1141.34 2278.67,1141.24 2285.4,1141.19 2292.14,1141.17 \"/>\n",
       "<polyline clip-path=\"url(#clip022)\" style=\"stroke:#e26f46; stroke-linecap:round; stroke-linejoin:round; stroke-width:4; stroke-opacity:1; fill:none\" points=\"271.594,1043.08 278.329,1038.21 285.064,1033.41 291.799,1028.68 298.534,1024.02 305.27,1019.43 312.005,1014.91 318.74,1010.45 325.475,1006.07 332.21,1001.75 338.945,997.499 345.68,993.315 352.416,989.199 359.151,985.148 365.886,981.164 372.621,977.245 379.356,973.391 386.091,969.603 392.827,965.879 399.562,962.219 406.297,958.623 413.032,955.09 419.767,951.62 426.502,948.214 433.237,944.87 439.973,941.587 446.708,938.367 453.443,935.208 460.178,932.11 466.913,929.073 473.648,926.096 480.384,923.178 487.119,920.321 493.854,917.523 500.589,914.784 507.324,912.103 514.059,909.48 520.794,906.916 527.53,904.409 534.265,901.959 541,899.566 547.735,897.229 554.47,894.948 561.205,892.723 567.941,890.554 574.676,888.439 581.411,886.38 588.146,884.374 594.881,882.423 601.616,880.525 608.351,878.68 615.087,876.889 621.822,875.15 628.557,873.463 635.292,871.828 642.027,870.245 648.762,868.712 655.497,867.231 662.233,865.8 668.968,864.419 675.703,863.088 682.438,861.806 689.173,860.574 695.908,859.39 702.644,858.254 709.379,857.166 716.114,856.126 722.849,855.134 729.584,854.188 736.319,853.289 743.054,852.436 749.79,851.629 756.525,850.867 763.26,850.151 769.995,849.479 776.73,848.852 783.465,848.269 790.201,847.73 796.936,847.234 803.671,846.781 810.406,846.371 817.141,846.003 823.876,845.678 830.611,845.393 837.347,845.151 844.082,844.949 850.817,844.787 857.552,844.666 864.287,844.585 871.022,844.543 877.758,844.541 884.493,844.577 891.228,844.652 897.963,844.765 904.698,844.915 911.433,845.103 918.168,845.328 924.904,845.59 931.639,845.888 938.374,846.222 945.109,846.592 951.844,846.997 958.579,847.437 965.315,847.911 972.05,848.419 978.785,848.962 985.52,849.538 992.255,850.147 998.99,850.789 1005.73,851.463 1012.46,852.169 1019.2,852.907 1025.93,853.677 1032.67,854.477 1039.4,855.308 1046.14,856.17 1052.87,857.061 1059.61,857.982 1066.34,858.932 1073.08,859.911 1079.81,860.918 1086.55,861.954 1093.28,863.017 1100.02,864.108 1106.75,865.226 1113.49,866.37 1120.22,867.541 1126.96,868.738 1133.69,869.961 1140.43,871.209 1147.16,872.482 1153.9,873.779 1160.63,875.101 1167.37,876.446 1174.1,877.815 1180.84,879.207 1187.57,880.622 1194.31,882.059 1201.04,883.519 1207.78,885 1214.52,886.502 1221.25,888.025 1227.99,889.569 1234.72,891.133 1241.46,892.717 1248.19,894.321 1254.93,895.944 1261.66,897.585 1268.4,899.245 1275.13,900.923 1281.87,902.619 1288.6,904.332 1295.34,906.062 1302.07,907.809 1308.81,909.571 1315.54,911.35 1322.28,913.145 1329.01,914.954 1335.75,916.778 1342.48,918.617 1349.22,920.47 1355.95,922.336 1362.69,924.216 1369.42,926.109 1376.16,928.014 1382.89,929.932 1389.63,931.861 1396.36,933.802 1403.1,935.754 1409.83,937.717 1416.57,939.69 1423.3,941.673 1430.04,943.666 1436.78,945.668 1443.51,947.679 1450.25,949.699 1456.98,951.726 1463.72,953.762 1470.45,955.805 1477.19,957.855 1483.92,959.911 1490.66,961.974 1497.39,964.043 1504.13,966.117 1510.86,968.197 1517.6,970.281 1524.33,972.37 1531.07,974.463 1537.8,976.559 1544.54,978.659 1551.27,980.762 1558.01,982.867 1564.74,984.975 1571.48,987.084 1578.21,989.195 1584.95,991.307 1591.68,993.419 1598.42,995.532 1605.15,997.644 1611.89,999.756 1618.62,1001.87 1625.36,1003.98 1632.09,1006.09 1638.83,1008.19 1645.56,1010.3 1652.3,1012.4 1659.04,1014.5 1665.77,1016.59 1672.51,1018.68 1679.24,1020.77 1685.98,1022.85 1692.71,1024.92 1699.45,1027 1706.18,1029.06 1712.92,1031.12 1719.65,1033.17 1726.39,1035.22 1733.12,1037.26 1739.86,1039.29 1746.59,1041.31 1753.33,1043.32 1760.06,1045.32 1766.8,1047.32 1773.53,1049.31 1780.27,1051.28 1787,1053.24 1793.74,1055.2 1800.47,1057.14 1807.21,1059.07 1813.94,1060.99 1820.68,1062.9 1827.41,1064.79 1834.15,1066.67 1840.88,1068.54 1847.62,1070.39 1854.35,1072.22 1861.09,1074.05 1867.82,1075.85 1874.56,1077.65 1881.3,1079.42 1888.03,1081.18 1894.77,1082.92 1901.5,1084.65 1908.24,1086.36 1914.97,1088.05 1921.71,1089.72 1928.44,1091.37 1935.18,1093 1941.91,1094.61 1948.65,1096.21 1955.38,1097.78 1962.12,1099.33 1968.85,1100.86 1975.59,1102.37 1982.32,1103.85 1989.06,1105.32 1995.79,1106.76 2002.53,1108.18 2009.26,1109.57 2016,1110.94 2022.73,1112.28 2029.47,1113.6 2036.2,1114.9 2042.94,1116.17 2049.67,1117.41 2056.41,1118.63 2063.14,1119.81 2069.88,1120.98 2076.61,1122.11 2083.35,1123.21 2090.08,1124.29 2096.82,1125.34 2103.56,1126.36 2110.29,1127.34 2117.03,1128.3 2123.76,1129.23 2130.5,1130.12 2137.23,1130.99 2143.97,1131.82 2150.7,1132.62 2157.44,1133.39 2164.17,1134.12 2170.91,1134.82 2177.64,1135.48 2184.38,1136.12 2191.11,1136.71 2197.85,1137.27 2204.58,1137.8 2211.32,1138.28 2218.05,1138.74 2224.79,1139.15 2231.52,1139.53 2238.26,1139.87 2244.99,1140.17 2251.73,1140.43 2258.46,1140.65 2265.2,1140.84 2271.93,1140.98 2278.67,1141.08 2285.4,1141.15 2292.14,1141.17 \"/>\n",
       "<polyline clip-path=\"url(#clip022)\" style=\"stroke:#3da44d; stroke-linecap:round; stroke-linejoin:round; stroke-width:4; stroke-opacity:1; fill:none\" points=\"271.594,160.256 278.329,172.472 285.064,184.596 291.799,196.629 298.534,208.57 305.27,220.42 312.005,232.179 318.74,243.848 325.475,255.425 332.21,266.913 338.945,278.309 345.68,289.616 352.416,300.832 359.151,311.959 365.886,322.996 372.621,333.943 379.356,344.801 386.091,355.57 392.827,366.25 399.562,376.842 406.297,387.345 413.032,397.759 419.767,408.086 426.502,418.325 433.237,428.476 439.973,438.54 446.708,448.516 453.443,458.406 460.178,468.209 466.913,477.926 473.648,487.556 480.384,497.101 487.119,506.56 493.854,515.933 500.589,525.222 507.324,534.426 514.059,543.545 520.794,552.579 527.53,561.53 534.265,570.397 541,579.181 547.735,587.881 554.47,596.498 561.205,605.033 567.941,613.486 574.676,621.857 581.411,630.146 588.146,638.353 594.881,646.48 601.616,654.526 608.351,662.491 615.087,670.377 621.822,678.182 628.557,685.909 635.292,693.556 642.027,701.124 648.762,708.613 655.497,716.025 662.233,723.359 668.968,730.615 675.703,737.794 682.438,744.897 689.173,751.923 695.908,758.873 702.644,765.747 709.379,772.546 716.114,779.269 722.849,785.918 729.584,792.493 736.319,798.994 743.054,805.421 749.79,811.775 756.525,818.056 763.26,824.264 769.995,830.401 776.73,836.465 783.465,842.458 790.201,848.38 796.936,854.232 803.671,860.013 810.406,865.724 817.141,871.366 823.876,876.938 830.611,882.442 837.347,887.878 844.082,893.245 850.817,898.545 857.552,903.777 864.287,908.943 871.022,914.042 877.758,919.075 884.493,924.042 891.228,928.944 897.963,933.782 904.698,938.554 911.433,943.263 918.168,947.908 924.904,952.489 931.639,957.008 938.374,961.464 945.109,965.858 951.844,970.19 958.579,974.461 965.315,978.67 972.05,982.82 978.785,986.909 985.52,990.938 992.255,994.908 998.99,998.82 1005.73,1002.67 1012.46,1006.47 1019.2,1010.2 1025.93,1013.88 1032.67,1017.51 1039.4,1021.07 1046.14,1024.58 1052.87,1028.04 1059.61,1031.44 1066.34,1034.78 1073.08,1038.07 1079.81,1041.3 1086.55,1044.49 1093.28,1047.62 1100.02,1050.69 1106.75,1053.71 1113.49,1056.69 1120.22,1059.61 1126.96,1062.47 1133.69,1065.29 1140.43,1068.06 1147.16,1070.78 1153.9,1073.45 1160.63,1076.07 1167.37,1078.64 1174.1,1081.16 1180.84,1083.63 1187.57,1086.06 1194.31,1088.44 1201.04,1090.77 1207.78,1093.06 1214.52,1095.3 1221.25,1097.49 1227.99,1099.64 1234.72,1101.75 1241.46,1103.81 1248.19,1105.83 1254.93,1107.8 1261.66,1109.73 1268.4,1111.62 1275.13,1113.47 1281.87,1115.27 1288.6,1117.04 1295.34,1118.76 1302.07,1120.44 1308.81,1122.08 1315.54,1123.69 1322.28,1125.25 1329.01,1126.77 1335.75,1128.26 1342.48,1129.71 1349.22,1131.12 1355.95,1132.49 1362.69,1133.82 1369.42,1135.12 1376.16,1136.39 1382.89,1137.61 1389.63,1138.81 1396.36,1139.96 1403.1,1141.09 1409.83,1142.18 1416.57,1143.23 1423.3,1144.26 1430.04,1145.25 1436.78,1146.2 1443.51,1147.13 1450.25,1148.02 1456.98,1148.89 1463.72,1149.72 1470.45,1150.52 1477.19,1151.29 1483.92,1152.03 1490.66,1152.75 1497.39,1153.43 1504.13,1154.08 1510.86,1154.71 1517.6,1155.31 1524.33,1155.89 1531.07,1156.43 1537.8,1156.95 1544.54,1157.45 1551.27,1157.91 1558.01,1158.36 1564.74,1158.78 1571.48,1159.17 1578.21,1159.54 1584.95,1159.89 1591.68,1160.21 1598.42,1160.51 1605.15,1160.79 1611.89,1161.04 1618.62,1161.28 1625.36,1161.49 1632.09,1161.68 1638.83,1161.86 1645.56,1162.01 1652.3,1162.14 1659.04,1162.25 1665.77,1162.35 1672.51,1162.42 1679.24,1162.48 1685.98,1162.52 1692.71,1162.54 1699.45,1162.55 1706.18,1162.54 1712.92,1162.51 1719.65,1162.47 1726.39,1162.41 1733.12,1162.33 1739.86,1162.25 1746.59,1162.14 1753.33,1162.03 1760.06,1161.9 1766.8,1161.75 1773.53,1161.6 1780.27,1161.43 1787,1161.25 1793.74,1161.06 1800.47,1160.86 1807.21,1160.64 1813.94,1160.42 1820.68,1160.19 1827.41,1159.94 1834.15,1159.69 1840.88,1159.43 1847.62,1159.16 1854.35,1158.88 1861.09,1158.59 1867.82,1158.3 1874.56,1158 1881.3,1157.69 1888.03,1157.38 1894.77,1157.06 1901.5,1156.74 1908.24,1156.41 1914.97,1156.07 1921.71,1155.73 1928.44,1155.39 1935.18,1155.04 1941.91,1154.69 1948.65,1154.34 1955.38,1153.98 1962.12,1153.63 1968.85,1153.27 1975.59,1152.91 1982.32,1152.54 1989.06,1152.18 1995.79,1151.82 2002.53,1151.46 2009.26,1151.09 2016,1150.73 2022.73,1150.37 2029.47,1150.01 2036.2,1149.66 2042.94,1149.3 2049.67,1148.95 2056.41,1148.6 2063.14,1148.26 2069.88,1147.91 2076.61,1147.58 2083.35,1147.24 2090.08,1146.92 2096.82,1146.59 2103.56,1146.28 2110.29,1145.97 2117.03,1145.66 2123.76,1145.36 2130.5,1145.07 2137.23,1144.79 2143.97,1144.51 2150.7,1144.25 2157.44,1143.99 2164.17,1143.74 2170.91,1143.5 2177.64,1143.27 2184.38,1143.04 2191.11,1142.83 2197.85,1142.63 2204.58,1142.44 2211.32,1142.27 2218.05,1142.1 2224.79,1141.95 2231.52,1141.81 2238.26,1141.68 2244.99,1141.57 2251.73,1141.46 2258.46,1141.38 2265.2,1141.3 2271.93,1141.25 2278.67,1141.2 2285.4,1141.18 2292.14,1141.17 \"/>\n",
       "<polyline clip-path=\"url(#clip022)\" style=\"stroke:#c271d2; stroke-linecap:round; stroke-linejoin:round; stroke-width:4; stroke-opacity:1; fill:none\" stroke-dasharray=\"16, 10\" points=\"271.594,1288.3 278.329,1286.64 285.064,1284.98 291.799,1283.33 298.534,1281.69 305.27,1280.06 312.005,1278.43 318.74,1276.81 325.475,1275.2 332.21,1273.59 338.945,1272 345.68,1270.41 352.416,1268.83 359.151,1267.26 365.886,1265.69 372.621,1264.13 379.356,1262.58 386.091,1261.04 392.827,1259.5 399.562,1257.98 406.297,1256.46 413.032,1254.95 419.767,1253.44 426.502,1251.94 433.237,1250.45 439.973,1248.97 446.708,1247.5 453.443,1246.03 460.178,1244.57 466.913,1243.12 473.648,1241.68 480.384,1240.25 487.119,1238.82 493.854,1237.4 500.589,1235.98 507.324,1234.58 514.059,1233.18 520.794,1231.79 527.53,1230.41 534.265,1229.04 541,1227.67 547.735,1226.31 554.47,1224.96 561.205,1223.62 567.941,1222.28 574.676,1220.95 581.411,1219.63 588.146,1218.32 594.881,1217.01 601.616,1215.71 608.351,1214.42 615.087,1213.14 621.822,1211.86 628.557,1210.6 635.292,1209.34 642.027,1208.09 648.762,1206.84 655.497,1205.6 662.233,1204.38 668.968,1203.15 675.703,1201.94 682.438,1200.73 689.173,1199.54 695.908,1198.35 702.644,1197.16 709.379,1195.99 716.114,1194.82 722.849,1193.66 729.584,1192.51 736.319,1191.36 743.054,1190.22 749.79,1189.09 756.525,1187.97 763.26,1186.86 769.995,1185.75 776.73,1184.65 783.465,1183.56 790.201,1182.48 796.936,1181.4 803.671,1180.33 810.406,1179.27 817.141,1178.22 823.876,1177.18 830.611,1176.14 837.347,1175.11 844.082,1174.09 850.817,1173.07 857.552,1172.06 864.287,1171.07 871.022,1170.07 877.758,1169.09 884.493,1168.11 891.228,1167.15 897.963,1166.19 904.698,1165.23 911.433,1164.29 918.168,1163.35 924.904,1162.42 931.639,1161.5 938.374,1160.58 945.109,1159.68 951.844,1158.78 958.579,1157.89 965.315,1157 972.05,1156.13 978.785,1155.26 985.52,1154.4 992.255,1153.55 998.99,1152.7 1005.73,1151.86 1012.46,1151.04 1019.2,1150.21 1025.93,1149.4 1032.67,1148.59 1039.4,1147.8 1046.14,1147 1052.87,1146.22 1059.61,1145.45 1066.34,1144.68 1073.08,1143.92 1079.81,1143.17 1086.55,1142.42 1093.28,1141.69 1100.02,1140.96 1106.75,1140.24 1113.49,1139.53 1120.22,1138.82 1126.96,1138.12 1133.69,1137.43 1140.43,1136.75 1147.16,1136.08 1153.9,1135.41 1160.63,1134.75 1167.37,1134.1 1174.1,1133.46 1180.84,1132.83 1187.57,1132.2 1194.31,1131.58 1201.04,1130.97 1207.78,1130.37 1214.52,1129.77 1221.25,1129.18 1227.99,1128.6 1234.72,1128.03 1241.46,1127.47 1248.19,1126.91 1254.93,1126.36 1261.66,1125.82 1268.4,1125.29 1275.13,1124.77 1281.87,1124.25 1288.6,1123.74 1295.34,1123.24 1302.07,1122.75 1308.81,1122.26 1315.54,1121.79 1322.28,1121.32 1329.01,1120.86 1335.75,1120.4 1342.48,1119.96 1349.22,1119.52 1355.95,1119.09 1362.69,1118.67 1369.42,1118.26 1376.16,1117.85 1382.89,1117.46 1389.63,1117.07 1396.36,1116.69 1403.1,1116.31 1409.83,1115.95 1416.57,1115.59 1423.3,1115.24 1430.04,1114.9 1436.78,1114.57 1443.51,1114.24 1450.25,1113.93 1456.98,1113.62 1463.72,1113.32 1470.45,1113.03 1477.19,1112.74 1483.92,1112.47 1490.66,1112.2 1497.39,1111.94 1504.13,1111.69 1510.86,1111.45 1517.6,1111.21 1524.33,1110.98 1531.07,1110.76 1537.8,1110.55 1544.54,1110.35 1551.27,1110.16 1558.01,1109.97 1564.74,1109.79 1571.48,1109.62 1578.21,1109.46 1584.95,1109.31 1591.68,1109.17 1598.42,1109.03 1605.15,1108.9 1611.89,1108.78 1618.62,1108.67 1625.36,1108.57 1632.09,1108.47 1638.83,1108.38 1645.56,1108.31 1652.3,1108.24 1659.04,1108.18 1665.77,1108.12 1672.51,1108.08 1679.24,1108.04 1685.98,1108.01 1692.71,1107.99 1699.45,1107.98 1706.18,1107.98 1712.92,1107.99 1719.65,1108 1726.39,1108.02 1733.12,1108.05 1739.86,1108.09 1746.59,1108.14 1753.33,1108.2 1760.06,1108.26 1766.8,1108.34 1773.53,1108.42 1780.27,1108.51 1787,1108.61 1793.74,1108.72 1800.47,1108.83 1807.21,1108.96 1813.94,1109.09 1820.68,1109.23 1827.41,1109.38 1834.15,1109.54 1840.88,1109.71 1847.62,1109.89 1854.35,1110.07 1861.09,1110.27 1867.82,1110.47 1874.56,1110.68 1881.3,1110.9 1888.03,1111.13 1894.77,1111.37 1901.5,1111.61 1908.24,1111.87 1914.97,1112.13 1921.71,1112.4 1928.44,1112.68 1935.18,1112.97 1941.91,1113.27 1948.65,1113.58 1955.38,1113.9 1962.12,1114.22 1968.85,1114.56 1975.59,1114.9 1982.32,1115.25 1989.06,1115.61 1995.79,1115.98 2002.53,1116.36 2009.26,1116.75 2016,1117.14 2022.73,1117.55 2029.47,1117.96 2036.2,1118.38 2042.94,1118.82 2049.67,1119.26 2056.41,1119.71 2063.14,1120.17 2069.88,1120.63 2076.61,1121.11 2083.35,1121.6 2090.08,1122.09 2096.82,1122.59 2103.56,1123.11 2110.29,1123.63 2117.03,1124.16 2123.76,1124.7 2130.5,1125.25 2137.23,1125.81 2143.97,1126.37 2150.7,1126.95 2157.44,1127.54 2164.17,1128.13 2170.91,1128.73 2177.64,1129.35 2184.38,1129.97 2191.11,1130.6 2197.85,1131.24 2204.58,1131.89 2211.32,1132.55 2218.05,1133.22 2224.79,1133.89 2231.52,1134.58 2238.26,1135.27 2244.99,1135.98 2251.73,1136.69 2258.46,1137.41 2265.2,1138.15 2271.93,1138.89 2278.67,1139.64 2285.4,1140.4 2292.14,1141.17 \"/>\n",
       "<polyline clip-path=\"url(#clip022)\" style=\"stroke:#ac8d18; stroke-linecap:round; stroke-linejoin:round; stroke-width:4; stroke-opacity:1; fill:none\" stroke-dasharray=\"16, 10\" points=\"271.594,1043.08 278.329,1044.48 285.064,1045.88 291.799,1047.28 298.534,1048.66 305.27,1050.04 312.005,1051.41 318.74,1052.78 325.475,1054.14 332.21,1055.49 338.945,1056.83 345.68,1058.17 352.416,1059.5 359.151,1060.82 365.886,1062.14 372.621,1063.45 379.356,1064.75 386.091,1066.04 392.827,1067.33 399.562,1068.61 406.297,1069.88 413.032,1071.15 419.767,1072.41 426.502,1073.66 433.237,1074.91 439.973,1076.14 446.708,1077.37 453.443,1078.6 460.178,1079.82 466.913,1081.03 473.648,1082.23 480.384,1083.42 487.119,1084.61 493.854,1085.8 500.589,1086.97 507.324,1088.14 514.059,1089.3 520.794,1090.45 527.53,1091.6 534.265,1092.74 541,1093.87 547.735,1095 554.47,1096.11 561.205,1097.23 567.941,1098.33 574.676,1099.43 581.411,1100.52 588.146,1101.6 594.881,1102.68 601.616,1103.75 608.351,1104.81 615.087,1105.86 621.822,1106.91 628.557,1107.95 635.292,1108.99 642.027,1110.01 648.762,1111.03 655.497,1112.05 662.233,1113.05 668.968,1114.05 675.703,1115.04 682.438,1116.03 689.173,1117 695.908,1117.97 702.644,1118.94 709.379,1119.89 716.114,1120.84 722.849,1121.78 729.584,1122.72 736.319,1123.65 743.054,1124.57 749.79,1125.48 756.525,1126.39 763.26,1127.29 769.995,1128.18 776.73,1129.07 783.465,1129.95 790.201,1130.82 796.936,1131.68 803.671,1132.54 810.406,1133.39 817.141,1134.23 823.876,1135.07 830.611,1135.9 837.347,1136.72 844.082,1137.54 850.817,1138.35 857.552,1139.15 864.287,1139.94 871.022,1140.73 877.758,1141.51 884.493,1142.28 891.228,1143.05 897.963,1143.8 904.698,1144.56 911.433,1145.3 918.168,1146.04 924.904,1146.77 931.639,1147.49 938.374,1148.21 945.109,1148.91 951.844,1149.62 958.579,1150.31 965.315,1151 972.05,1151.68 978.785,1152.35 985.52,1153.02 992.255,1153.68 998.99,1154.33 1005.73,1154.98 1012.46,1155.61 1019.2,1156.24 1025.93,1156.87 1032.67,1157.48 1039.4,1158.09 1046.14,1158.7 1052.87,1159.29 1059.61,1159.88 1066.34,1160.46 1073.08,1161.03 1079.81,1161.6 1086.55,1162.16 1093.28,1162.71 1100.02,1163.26 1106.75,1163.79 1113.49,1164.33 1120.22,1164.85 1126.96,1165.37 1133.69,1165.87 1140.43,1166.38 1147.16,1166.87 1153.9,1167.36 1160.63,1167.84 1167.37,1168.31 1174.1,1168.78 1180.84,1169.24 1187.57,1169.69 1194.31,1170.14 1201.04,1170.57 1207.78,1171 1214.52,1171.43 1221.25,1171.84 1227.99,1172.25 1234.72,1172.65 1241.46,1173.05 1248.19,1173.43 1254.93,1173.81 1261.66,1174.18 1268.4,1174.55 1275.13,1174.91 1281.87,1175.26 1288.6,1175.6 1295.34,1175.94 1302.07,1176.27 1308.81,1176.59 1315.54,1176.9 1322.28,1177.21 1329.01,1177.51 1335.75,1177.8 1342.48,1178.08 1349.22,1178.36 1355.95,1178.63 1362.69,1178.89 1369.42,1179.15 1376.16,1179.4 1382.89,1179.64 1389.63,1179.87 1396.36,1180.1 1403.1,1180.32 1409.83,1180.53 1416.57,1180.73 1423.3,1180.93 1430.04,1181.12 1436.78,1181.3 1443.51,1181.47 1450.25,1181.64 1456.98,1181.8 1463.72,1181.95 1470.45,1182.1 1477.19,1182.24 1483.92,1182.37 1490.66,1182.49 1497.39,1182.6 1504.13,1182.71 1510.86,1182.81 1517.6,1182.9 1524.33,1182.99 1531.07,1183.06 1537.8,1183.13 1544.54,1183.2 1551.27,1183.25 1558.01,1183.3 1564.74,1183.34 1571.48,1183.37 1578.21,1183.39 1584.95,1183.41 1591.68,1183.42 1598.42,1183.42 1605.15,1183.42 1611.89,1183.4 1618.62,1183.38 1625.36,1183.35 1632.09,1183.32 1638.83,1183.27 1645.56,1183.22 1652.3,1183.16 1659.04,1183.09 1665.77,1183.02 1672.51,1182.94 1679.24,1182.85 1685.98,1182.75 1692.71,1182.64 1699.45,1182.53 1706.18,1182.41 1712.92,1182.28 1719.65,1182.15 1726.39,1182 1733.12,1181.85 1739.86,1181.69 1746.59,1181.52 1753.33,1181.35 1760.06,1181.16 1766.8,1180.97 1773.53,1180.77 1780.27,1180.57 1787,1180.35 1793.74,1180.13 1800.47,1179.9 1807.21,1179.66 1813.94,1179.42 1820.68,1179.16 1827.41,1178.9 1834.15,1178.63 1840.88,1178.35 1847.62,1178.07 1854.35,1177.77 1861.09,1177.47 1867.82,1177.16 1874.56,1176.84 1881.3,1176.52 1888.03,1176.18 1894.77,1175.84 1901.5,1175.49 1908.24,1175.14 1914.97,1174.77 1921.71,1174.4 1928.44,1174.01 1935.18,1173.62 1941.91,1173.23 1948.65,1172.82 1955.38,1172.41 1962.12,1171.98 1968.85,1171.55 1975.59,1171.12 1982.32,1170.67 1989.06,1170.21 1995.79,1169.75 2002.53,1169.28 2009.26,1168.8 2016,1168.31 2022.73,1167.82 2029.47,1167.31 2036.2,1166.8 2042.94,1166.28 2049.67,1165.75 2056.41,1165.22 2063.14,1164.67 2069.88,1164.12 2076.61,1163.56 2083.35,1162.99 2090.08,1162.41 2096.82,1161.82 2103.56,1161.23 2110.29,1160.62 2117.03,1160.01 2123.76,1159.39 2130.5,1158.76 2137.23,1158.13 2143.97,1157.48 2150.7,1156.83 2157.44,1156.17 2164.17,1155.5 2170.91,1154.82 2177.64,1154.13 2184.38,1153.44 2191.11,1152.74 2197.85,1152.02 2204.58,1151.3 2211.32,1150.57 2218.05,1149.84 2224.79,1149.09 2231.52,1148.34 2238.26,1147.57 2244.99,1146.8 2251.73,1146.02 2258.46,1145.24 2265.2,1144.44 2271.93,1143.64 2278.67,1142.82 2285.4,1142 2292.14,1141.17 \"/>\n",
       "<polyline clip-path=\"url(#clip022)\" style=\"stroke:#00a9ad; stroke-linecap:round; stroke-linejoin:round; stroke-width:4; stroke-opacity:1; fill:none\" stroke-dasharray=\"16, 10\" points=\"271.594,1386.4 278.329,1384.56 285.064,1382.73 291.799,1380.91 298.534,1379.08 305.27,1377.26 312.005,1375.44 318.74,1373.63 325.475,1371.81 332.21,1370.01 338.945,1368.2 345.68,1366.4 352.416,1364.6 359.151,1362.8 365.886,1361.01 372.621,1359.22 379.356,1357.44 386.091,1355.66 392.827,1353.88 399.562,1352.11 406.297,1350.34 413.032,1348.58 419.767,1346.82 426.502,1345.07 433.237,1343.32 439.973,1341.57 446.708,1339.83 453.443,1338.09 460.178,1336.36 466.913,1334.64 473.648,1332.92 480.384,1331.2 487.119,1329.49 493.854,1327.79 500.589,1326.09 507.324,1324.39 514.059,1322.7 520.794,1321.02 527.53,1319.34 534.265,1317.67 541,1316.01 547.735,1314.35 554.47,1312.69 561.205,1311.04 567.941,1309.4 574.676,1307.76 581.411,1306.13 588.146,1304.51 594.881,1302.89 601.616,1301.28 608.351,1299.67 615.087,1298.08 621.822,1296.48 628.557,1294.9 635.292,1293.32 642.027,1291.75 648.762,1290.18 655.497,1288.62 662.233,1287.07 668.968,1285.52 675.703,1283.98 682.438,1282.45 689.173,1280.92 695.908,1279.41 702.644,1277.9 709.379,1276.39 716.114,1274.89 722.849,1273.4 729.584,1271.92 736.319,1270.44 743.054,1268.98 749.79,1267.51 756.525,1266.06 763.26,1264.61 769.995,1263.17 776.73,1261.74 783.465,1260.32 790.201,1258.9 796.936,1257.49 803.671,1256.09 810.406,1254.7 817.141,1253.31 823.876,1251.93 830.611,1250.56 837.347,1249.19 844.082,1247.84 850.817,1246.49 857.552,1245.15 864.287,1243.81 871.022,1242.49 877.758,1241.17 884.493,1239.86 891.228,1238.56 897.963,1237.26 904.698,1235.98 911.433,1234.7 918.168,1233.43 924.904,1232.17 931.639,1230.91 938.374,1229.66 945.109,1228.43 951.844,1227.2 958.579,1225.97 965.315,1224.76 972.05,1223.55 978.785,1222.35 985.52,1221.16 992.255,1219.98 998.99,1218.8 1005.73,1217.64 1012.46,1216.48 1019.2,1215.33 1025.93,1214.19 1032.67,1213.05 1039.4,1211.93 1046.14,1210.81 1052.87,1209.7 1059.61,1208.6 1066.34,1207.5 1073.08,1206.42 1079.81,1205.34 1086.55,1204.27 1093.28,1203.21 1100.02,1202.16 1106.75,1201.12 1113.49,1200.08 1120.22,1199.05 1126.96,1198.03 1133.69,1197.02 1140.43,1196.02 1147.16,1195.02 1153.9,1194.04 1160.63,1193.06 1167.37,1192.09 1174.1,1191.13 1180.84,1190.17 1187.57,1189.23 1194.31,1188.29 1201.04,1187.36 1207.78,1186.44 1214.52,1185.53 1221.25,1184.62 1227.99,1183.72 1234.72,1182.84 1241.46,1181.96 1248.19,1181.08 1254.93,1180.22 1261.66,1179.37 1268.4,1178.52 1275.13,1177.68 1281.87,1176.85 1288.6,1176.03 1295.34,1175.21 1302.07,1174.41 1308.81,1173.61 1315.54,1172.82 1322.28,1172.04 1329.01,1171.26 1335.75,1170.5 1342.48,1169.74 1349.22,1168.99 1355.95,1168.25 1362.69,1167.52 1369.42,1166.79 1376.16,1166.08 1382.89,1165.37 1389.63,1164.67 1396.36,1163.98 1403.1,1163.29 1409.83,1162.62 1416.57,1161.95 1423.3,1161.29 1430.04,1160.64 1436.78,1159.99 1443.51,1159.36 1450.25,1158.73 1456.98,1158.11 1463.72,1157.5 1470.45,1156.9 1477.19,1156.3 1483.92,1155.72 1490.66,1155.14 1497.39,1154.56 1504.13,1154 1510.86,1153.45 1517.6,1152.9 1524.33,1152.36 1531.07,1151.83 1537.8,1151.31 1544.54,1150.79 1551.27,1150.28 1558.01,1149.78 1564.74,1149.29 1571.48,1148.81 1578.21,1148.33 1584.95,1147.86 1591.68,1147.4 1598.42,1146.95 1605.15,1146.51 1611.89,1146.07 1618.62,1145.64 1625.36,1145.22 1632.09,1144.81 1638.83,1144.4 1645.56,1144.01 1652.3,1143.62 1659.04,1143.23 1665.77,1142.86 1672.51,1142.49 1679.24,1142.14 1685.98,1141.79 1692.71,1141.44 1699.45,1141.11 1706.18,1140.78 1712.92,1140.46 1719.65,1140.15 1726.39,1139.85 1733.12,1139.55 1739.86,1139.26 1746.59,1138.98 1753.33,1138.71 1760.06,1138.44 1766.8,1138.18 1773.53,1137.93 1780.27,1137.69 1787,1137.45 1793.74,1137.23 1800.47,1137.01 1807.21,1136.79 1813.94,1136.59 1820.68,1136.39 1827.41,1136.2 1834.15,1136.02 1840.88,1135.85 1847.62,1135.68 1854.35,1135.52 1861.09,1135.37 1867.82,1135.23 1874.56,1135.09 1881.3,1134.96 1888.03,1134.84 1894.77,1134.72 1901.5,1134.62 1908.24,1134.52 1914.97,1134.43 1921.71,1134.34 1928.44,1134.27 1935.18,1134.2 1941.91,1134.14 1948.65,1134.08 1955.38,1134.04 1962.12,1134 1968.85,1133.96 1975.59,1133.94 1982.32,1133.92 1989.06,1133.91 1995.79,1133.91 2002.53,1133.92 2009.26,1133.93 2016,1133.95 2022.73,1133.98 2029.47,1134.01 2036.2,1134.06 2042.94,1134.11 2049.67,1134.16 2056.41,1134.23 2063.14,1134.3 2069.88,1134.38 2076.61,1134.46 2083.35,1134.56 2090.08,1134.66 2096.82,1134.77 2103.56,1134.88 2110.29,1135.01 2117.03,1135.14 2123.76,1135.28 2130.5,1135.42 2137.23,1135.57 2143.97,1135.73 2150.7,1135.9 2157.44,1136.08 2164.17,1136.26 2170.91,1136.45 2177.64,1136.64 2184.38,1136.85 2191.11,1137.06 2197.85,1137.28 2204.58,1137.5 2211.32,1137.74 2218.05,1137.98 2224.79,1138.22 2231.52,1138.48 2238.26,1138.74 2244.99,1139.01 2251.73,1139.29 2258.46,1139.57 2265.2,1139.86 2271.93,1140.16 2278.67,1140.47 2285.4,1140.78 2292.14,1141.17 \"/>\n",
       "<path clip-path=\"url(#clip020)\" d=\"M2023.9 529.676 L2281.36 529.676 L2281.36 166.796 L2023.9 166.796  Z\" fill=\"#ffffff\" fill-rule=\"evenodd\" fill-opacity=\"1\"/>\n",
       "<polyline clip-path=\"url(#clip020)\" style=\"stroke:#000000; stroke-linecap:round; stroke-linejoin:round; stroke-width:4; stroke-opacity:1; fill:none\" points=\"2023.9,529.676 2281.36,529.676 2281.36,166.796 2023.9,166.796 2023.9,529.676 \"/>\n",
       "<polyline clip-path=\"url(#clip020)\" style=\"stroke:#009af9; stroke-linecap:round; stroke-linejoin:round; stroke-width:4; stroke-opacity:1; fill:none\" points=\"2047.7,218.636 2190.48,218.636 \"/>\n",
       "<path clip-path=\"url(#clip020)\" d=\"M2238.93 209.99 L2229.56 222.606 L2239.42 235.916 L2234.39 235.916 L2226.85 225.731 L2219.3 235.916 L2214.28 235.916 L2224.35 222.351 L2215.14 209.99 L2220.16 209.99 L2227.03 219.226 L2233.91 209.99 L2238.93 209.99 Z\" fill=\"#000000\" fill-rule=\"evenodd\" fill-opacity=\"1\" /><path clip-path=\"url(#clip020)\" d=\"M2244.58 233.369 L2249.3 233.369 L2249.3 219.226 L2244.14 220.175 L2244.14 217.49 L2249.46 216.587 L2252.64 216.587 L2252.64 233.369 L2257.38 233.369 L2257.38 235.916 L2244.58 235.916 L2244.58 233.369 Z\" fill=\"#000000\" fill-rule=\"evenodd\" fill-opacity=\"1\" /><polyline clip-path=\"url(#clip020)\" style=\"stroke:#e26f46; stroke-linecap:round; stroke-linejoin:round; stroke-width:4; stroke-opacity:1; fill:none\" points=\"2047.7,270.476 2190.48,270.476 \"/>\n",
       "<path clip-path=\"url(#clip020)\" d=\"M2238.93 261.83 L2229.56 274.446 L2239.42 287.756 L2234.39 287.756 L2226.85 277.571 L2219.3 287.756 L2214.28 287.756 L2224.35 274.191 L2215.14 261.83 L2220.16 261.83 L2227.03 271.066 L2233.91 261.83 L2238.93 261.83 Z\" fill=\"#000000\" fill-rule=\"evenodd\" fill-opacity=\"1\" /><path clip-path=\"url(#clip020)\" d=\"M2247.17 285.117 L2256.99 285.117 L2256.99 287.756 L2243.14 287.756 L2243.14 285.209 Q2243.93 284.492 2245.39 283.196 Q2253.35 276.135 2253.35 273.959 Q2253.35 272.432 2252.15 271.506 Q2250.95 270.557 2248.98 270.557 Q2247.77 270.557 2246.36 270.973 Q2244.95 271.367 2243.28 272.177 L2243.28 269.33 Q2245.07 268.682 2246.59 268.358 Q2248.14 268.034 2249.46 268.034 Q2252.82 268.034 2254.83 269.561 Q2256.85 271.089 2256.85 273.589 Q2256.85 276.807 2249.19 283.381 Q2247.89 284.492 2247.17 285.117 Z\" fill=\"#000000\" fill-rule=\"evenodd\" fill-opacity=\"1\" /><polyline clip-path=\"url(#clip020)\" style=\"stroke:#3da44d; stroke-linecap:round; stroke-linejoin:round; stroke-width:4; stroke-opacity:1; fill:none\" points=\"2047.7,322.316 2190.48,322.316 \"/>\n",
       "<path clip-path=\"url(#clip020)\" d=\"M2238.93 313.67 L2229.56 326.286 L2239.42 339.596 L2234.39 339.596 L2226.85 329.411 L2219.3 339.596 L2214.28 339.596 L2224.35 326.031 L2215.14 313.67 L2220.16 313.67 L2227.03 322.906 L2233.91 313.67 L2238.93 313.67 Z\" fill=\"#000000\" fill-rule=\"evenodd\" fill-opacity=\"1\" /><path clip-path=\"url(#clip020)\" d=\"M2253.1 329.133 Q2255.23 329.549 2256.39 330.823 Q2257.57 332.073 2257.57 333.971 Q2257.57 336.841 2255.37 338.392 Q2253.17 339.943 2249.07 339.943 Q2247.75 339.943 2246.29 339.688 Q2244.86 339.457 2243.24 338.994 L2243.24 336.193 Q2244.44 336.818 2245.81 337.119 Q2247.2 337.42 2248.75 337.42 Q2251.27 337.42 2252.66 336.517 Q2254.05 335.591 2254.05 333.971 Q2254.05 332.258 2252.75 331.378 Q2251.48 330.499 2248.98 330.499 L2246.99 330.499 L2246.99 327.999 L2249.16 327.999 Q2251.34 327.999 2252.45 327.281 Q2253.58 326.54 2253.58 325.151 Q2253.58 323.809 2252.43 323.114 Q2251.27 322.397 2249.07 322.397 Q2248.14 322.397 2246.96 322.605 Q2245.78 322.813 2243.91 323.346 L2243.91 320.684 Q2245.6 320.29 2247.08 320.082 Q2248.56 319.874 2249.83 319.874 Q2253.17 319.874 2255.11 321.239 Q2257.08 322.605 2257.08 324.897 Q2257.08 326.494 2256.04 327.605 Q2255 328.716 2253.1 329.133 Z\" fill=\"#000000\" fill-rule=\"evenodd\" fill-opacity=\"1\" /><polyline clip-path=\"url(#clip020)\" style=\"stroke:#c271d2; stroke-linecap:round; stroke-linejoin:round; stroke-width:4; stroke-opacity:1; fill:none\" stroke-dasharray=\"16, 10\" points=\"2047.7,374.156 2190.48,374.156 \"/>\n",
       "<path clip-path=\"url(#clip020)\" d=\"M2238.93 365.51 L2229.56 378.126 L2239.42 391.436 L2234.39 391.436 L2226.85 381.251 L2219.3 391.436 L2214.28 391.436 L2224.35 377.871 L2215.14 365.51 L2220.16 365.51 L2227.03 374.746 L2233.91 365.51 L2238.93 365.51 Z\" fill=\"#000000\" fill-rule=\"evenodd\" fill-opacity=\"1\" /><path clip-path=\"url(#clip020)\" d=\"M2226.94 355.417 L2231.2 355.417 L2231.2 360.811 L2226.94 360.811 L2226.94 355.417 M2229.12 364.885 L2229.12 364.885 Z\" fill=\"#000000\" fill-rule=\"evenodd\" fill-opacity=\"1\" /><path clip-path=\"url(#clip020)\" d=\"M2244.58 388.889 L2249.3 388.889 L2249.3 374.746 L2244.14 375.695 L2244.14 373.01 L2249.46 372.107 L2252.64 372.107 L2252.64 388.889 L2257.38 388.889 L2257.38 391.436 L2244.58 391.436 L2244.58 388.889 Z\" fill=\"#000000\" fill-rule=\"evenodd\" fill-opacity=\"1\" /><polyline clip-path=\"url(#clip020)\" style=\"stroke:#ac8d18; stroke-linecap:round; stroke-linejoin:round; stroke-width:4; stroke-opacity:1; fill:none\" stroke-dasharray=\"16, 10\" points=\"2047.7,425.996 2190.48,425.996 \"/>\n",
       "<path clip-path=\"url(#clip020)\" d=\"M2238.93 417.35 L2229.56 429.966 L2239.42 443.276 L2234.39 443.276 L2226.85 433.091 L2219.3 443.276 L2214.28 443.276 L2224.35 429.711 L2215.14 417.35 L2220.16 417.35 L2227.03 426.586 L2233.91 417.35 L2238.93 417.35 Z\" fill=\"#000000\" fill-rule=\"evenodd\" fill-opacity=\"1\" /><path clip-path=\"url(#clip020)\" d=\"M2226.94 407.257 L2231.2 407.257 L2231.2 412.651 L2226.94 412.651 L2226.94 407.257 M2229.12 416.725 L2229.12 416.725 Z\" fill=\"#000000\" fill-rule=\"evenodd\" fill-opacity=\"1\" /><path clip-path=\"url(#clip020)\" d=\"M2247.17 440.637 L2256.99 440.637 L2256.99 443.276 L2243.14 443.276 L2243.14 440.729 Q2243.93 440.012 2245.39 438.716 Q2253.35 431.655 2253.35 429.479 Q2253.35 427.952 2252.15 427.026 Q2250.95 426.077 2248.98 426.077 Q2247.77 426.077 2246.36 426.493 Q2244.95 426.887 2243.28 427.697 L2243.28 424.85 Q2245.07 424.202 2246.59 423.878 Q2248.14 423.554 2249.46 423.554 Q2252.82 423.554 2254.83 425.081 Q2256.85 426.609 2256.85 429.109 Q2256.85 432.327 2249.19 438.901 Q2247.89 440.012 2247.17 440.637 Z\" fill=\"#000000\" fill-rule=\"evenodd\" fill-opacity=\"1\" /><polyline clip-path=\"url(#clip020)\" style=\"stroke:#00a9ad; stroke-linecap:round; stroke-linejoin:round; stroke-width:4; stroke-opacity:1; fill:none\" stroke-dasharray=\"16, 10\" points=\"2047.7,477.836 2190.48,477.836 \"/>\n",
       "<path clip-path=\"url(#clip020)\" d=\"M2238.93 469.19 L2229.56 481.806 L2239.42 495.116 L2234.39 495.116 L2226.85 484.931 L2219.3 495.116 L2214.28 495.116 L2224.35 481.551 L2215.14 469.19 L2220.16 469.19 L2227.03 478.426 L2233.91 469.19 L2238.93 469.19 Z\" fill=\"#000000\" fill-rule=\"evenodd\" fill-opacity=\"1\" /><path clip-path=\"url(#clip020)\" d=\"M2226.94 459.097 L2231.2 459.097 L2231.2 464.491 L2226.94 464.491 L2226.94 459.097 M2229.12 468.565 L2229.12 468.565 Z\" fill=\"#000000\" fill-rule=\"evenodd\" fill-opacity=\"1\" /><path clip-path=\"url(#clip020)\" d=\"M2253.1 484.653 Q2255.23 485.069 2256.39 486.343 Q2257.57 487.593 2257.57 489.491 Q2257.57 492.361 2255.37 493.912 Q2253.17 495.463 2249.07 495.463 Q2247.75 495.463 2246.29 495.208 Q2244.86 494.977 2243.24 494.514 L2243.24 491.713 Q2244.44 492.338 2245.81 492.639 Q2247.2 492.94 2248.75 492.94 Q2251.27 492.94 2252.66 492.037 Q2254.05 491.111 2254.05 489.491 Q2254.05 487.778 2252.75 486.898 Q2251.48 486.019 2248.98 486.019 L2246.99 486.019 L2246.99 483.519 L2249.16 483.519 Q2251.34 483.519 2252.45 482.801 Q2253.58 482.06 2253.58 480.671 Q2253.58 479.329 2252.43 478.634 Q2251.27 477.917 2249.07 477.917 Q2248.14 477.917 2246.96 478.125 Q2245.78 478.333 2243.91 478.866 L2243.91 476.204 Q2245.6 475.81 2247.08 475.602 Q2248.56 475.394 2249.83 475.394 Q2253.17 475.394 2255.11 476.759 Q2257.08 478.125 2257.08 480.417 Q2257.08 482.014 2256.04 483.125 Q2255 484.236 2253.1 484.653 Z\" fill=\"#000000\" fill-rule=\"evenodd\" fill-opacity=\"1\" /></svg>\n"
      ]
     },
     "metadata": {},
     "output_type": "display_data"
    },
    {
     "data": {
      "image/svg+xml": [
       "<?xml version=\"1.0\" encoding=\"utf-8\"?>\n",
       "<svg xmlns=\"http://www.w3.org/2000/svg\" xmlns:xlink=\"http://www.w3.org/1999/xlink\" width=\"600\" height=\"400\" viewBox=\"0 0 2400 1600\">\n",
       "<defs>\n",
       "  <clipPath id=\"clip060\">\n",
       "    <rect x=\"0\" y=\"0\" width=\"2400\" height=\"1600\"/>\n",
       "  </clipPath>\n",
       "</defs>\n",
       "<path clip-path=\"url(#clip060)\" d=\"M0 1600 L2400 1600 L2400 0 L0 0  Z\" fill=\"#ffffff\" fill-rule=\"evenodd\" fill-opacity=\"1\"/>\n",
       "<defs>\n",
       "  <clipPath id=\"clip061\">\n",
       "    <rect x=\"480\" y=\"0\" width=\"1681\" height=\"1600\"/>\n",
       "  </clipPath>\n",
       "</defs>\n",
       "<path clip-path=\"url(#clip060)\" d=\"M232.389 1423.18 L2352.76 1423.18 L2352.76 123.472 L232.389 123.472  Z\" fill=\"#ffffff\" fill-rule=\"evenodd\" fill-opacity=\"1\"/>\n",
       "<defs>\n",
       "  <clipPath id=\"clip062\">\n",
       "    <rect x=\"232\" y=\"123\" width=\"2121\" height=\"1301\"/>\n",
       "  </clipPath>\n",
       "</defs>\n",
       "<polyline clip-path=\"url(#clip062)\" style=\"stroke:#000000; stroke-linecap:round; stroke-linejoin:round; stroke-width:2; stroke-opacity:0.1; fill:none\" points=\"292.4,1423.18 292.4,123.472 \"/>\n",
       "<polyline clip-path=\"url(#clip062)\" style=\"stroke:#000000; stroke-linecap:round; stroke-linejoin:round; stroke-width:2; stroke-opacity:0.1; fill:none\" points=\"961.412,1423.18 961.412,123.472 \"/>\n",
       "<polyline clip-path=\"url(#clip062)\" style=\"stroke:#000000; stroke-linecap:round; stroke-linejoin:round; stroke-width:2; stroke-opacity:0.1; fill:none\" points=\"1630.42,1423.18 1630.42,123.472 \"/>\n",
       "<polyline clip-path=\"url(#clip062)\" style=\"stroke:#000000; stroke-linecap:round; stroke-linejoin:round; stroke-width:2; stroke-opacity:0.1; fill:none\" points=\"2299.44,1423.18 2299.44,123.472 \"/>\n",
       "<polyline clip-path=\"url(#clip060)\" style=\"stroke:#000000; stroke-linecap:round; stroke-linejoin:round; stroke-width:4; stroke-opacity:1; fill:none\" points=\"232.389,1423.18 2352.76,1423.18 \"/>\n",
       "<polyline clip-path=\"url(#clip060)\" style=\"stroke:#000000; stroke-linecap:round; stroke-linejoin:round; stroke-width:4; stroke-opacity:1; fill:none\" points=\"292.4,1423.18 292.4,1404.28 \"/>\n",
       "<polyline clip-path=\"url(#clip060)\" style=\"stroke:#000000; stroke-linecap:round; stroke-linejoin:round; stroke-width:4; stroke-opacity:1; fill:none\" points=\"961.412,1423.18 961.412,1404.28 \"/>\n",
       "<polyline clip-path=\"url(#clip060)\" style=\"stroke:#000000; stroke-linecap:round; stroke-linejoin:round; stroke-width:4; stroke-opacity:1; fill:none\" points=\"1630.42,1423.18 1630.42,1404.28 \"/>\n",
       "<polyline clip-path=\"url(#clip060)\" style=\"stroke:#000000; stroke-linecap:round; stroke-linejoin:round; stroke-width:4; stroke-opacity:1; fill:none\" points=\"2299.44,1423.18 2299.44,1404.28 \"/>\n",
       "<path clip-path=\"url(#clip060)\" d=\"M292.4 1454.1 Q288.789 1454.1 286.96 1457.66 Q285.154 1461.2 285.154 1468.33 Q285.154 1475.44 286.96 1479.01 Q288.789 1482.55 292.4 1482.55 Q296.034 1482.55 297.84 1479.01 Q299.668 1475.44 299.668 1468.33 Q299.668 1461.2 297.84 1457.66 Q296.034 1454.1 292.4 1454.1 M292.4 1450.39 Q298.21 1450.39 301.265 1455 Q304.344 1459.58 304.344 1468.33 Q304.344 1477.06 301.265 1481.67 Q298.21 1486.25 292.4 1486.25 Q286.59 1486.25 283.511 1481.67 Q280.455 1477.06 280.455 1468.33 Q280.455 1459.58 283.511 1455 Q286.59 1450.39 292.4 1450.39 Z\" fill=\"#000000\" fill-rule=\"evenodd\" fill-opacity=\"1\" /><path clip-path=\"url(#clip060)\" d=\"M951.69 1451.02 L970.046 1451.02 L970.046 1454.96 L955.972 1454.96 L955.972 1463.43 Q956.99 1463.08 958.009 1462.92 Q959.027 1462.73 960.046 1462.73 Q965.833 1462.73 969.213 1465.9 Q972.592 1469.08 972.592 1474.49 Q972.592 1480.07 969.12 1483.17 Q965.648 1486.25 959.328 1486.25 Q957.152 1486.25 954.884 1485.88 Q952.639 1485.51 950.231 1484.77 L950.231 1480.07 Q952.315 1481.2 954.537 1481.76 Q956.759 1482.32 959.236 1482.32 Q963.24 1482.32 965.578 1480.21 Q967.916 1478.1 967.916 1474.49 Q967.916 1470.88 965.578 1468.77 Q963.24 1466.67 959.236 1466.67 Q957.361 1466.67 955.486 1467.08 Q953.634 1467.5 951.69 1468.38 L951.69 1451.02 Z\" fill=\"#000000\" fill-rule=\"evenodd\" fill-opacity=\"1\" /><path clip-path=\"url(#clip060)\" d=\"M1605.11 1481.64 L1612.75 1481.64 L1612.75 1455.28 L1604.44 1456.95 L1604.44 1452.69 L1612.7 1451.02 L1617.38 1451.02 L1617.38 1481.64 L1625.02 1481.64 L1625.02 1485.58 L1605.11 1485.58 L1605.11 1481.64 Z\" fill=\"#000000\" fill-rule=\"evenodd\" fill-opacity=\"1\" /><path clip-path=\"url(#clip060)\" d=\"M1644.46 1454.1 Q1640.85 1454.1 1639.02 1457.66 Q1637.22 1461.2 1637.22 1468.33 Q1637.22 1475.44 1639.02 1479.01 Q1640.85 1482.55 1644.46 1482.55 Q1648.1 1482.55 1649.9 1479.01 Q1651.73 1475.44 1651.73 1468.33 Q1651.73 1461.2 1649.9 1457.66 Q1648.1 1454.1 1644.46 1454.1 M1644.46 1450.39 Q1650.27 1450.39 1653.33 1455 Q1656.41 1459.58 1656.41 1468.33 Q1656.41 1477.06 1653.33 1481.67 Q1650.27 1486.25 1644.46 1486.25 Q1638.65 1486.25 1635.57 1481.67 Q1632.52 1477.06 1632.52 1468.33 Q1632.52 1459.58 1635.57 1455 Q1638.65 1450.39 1644.46 1450.39 Z\" fill=\"#000000\" fill-rule=\"evenodd\" fill-opacity=\"1\" /><path clip-path=\"url(#clip060)\" d=\"M2274.62 1481.64 L2282.26 1481.64 L2282.26 1455.28 L2273.95 1456.95 L2273.95 1452.69 L2282.21 1451.02 L2286.89 1451.02 L2286.89 1481.64 L2294.53 1481.64 L2294.53 1485.58 L2274.62 1485.58 L2274.62 1481.64 Z\" fill=\"#000000\" fill-rule=\"evenodd\" fill-opacity=\"1\" /><path clip-path=\"url(#clip060)\" d=\"M2304.02 1451.02 L2322.38 1451.02 L2322.38 1454.96 L2308.3 1454.96 L2308.3 1463.43 Q2309.32 1463.08 2310.34 1462.92 Q2311.36 1462.73 2312.38 1462.73 Q2318.16 1462.73 2321.54 1465.9 Q2324.92 1469.08 2324.92 1474.49 Q2324.92 1480.07 2321.45 1483.17 Q2317.98 1486.25 2311.66 1486.25 Q2309.48 1486.25 2307.21 1485.88 Q2304.97 1485.51 2302.56 1484.77 L2302.56 1480.07 Q2304.64 1481.2 2306.87 1481.76 Q2309.09 1482.32 2311.57 1482.32 Q2315.57 1482.32 2317.91 1480.21 Q2320.25 1478.1 2320.25 1474.49 Q2320.25 1470.88 2317.91 1468.77 Q2315.57 1466.67 2311.57 1466.67 Q2309.69 1466.67 2307.82 1467.08 Q2305.96 1467.5 2304.02 1468.38 L2304.02 1451.02 Z\" fill=\"#000000\" fill-rule=\"evenodd\" fill-opacity=\"1\" /><path clip-path=\"url(#clip060)\" d=\"M1180.03 1522.27 L1180.03 1532.4 L1192.09 1532.4 L1192.09 1536.95 L1180.03 1536.95 L1180.03 1556.3 Q1180.03 1560.66 1181.2 1561.9 Q1182.41 1563.14 1186.07 1563.14 L1192.09 1563.14 L1192.09 1568.04 L1186.07 1568.04 Q1179.29 1568.04 1176.72 1565.53 Q1174.14 1562.98 1174.14 1556.3 L1174.14 1536.95 L1169.84 1536.95 L1169.84 1532.4 L1174.14 1532.4 L1174.14 1522.27 L1180.03 1522.27 Z\" fill=\"#000000\" fill-rule=\"evenodd\" fill-opacity=\"1\" /><path clip-path=\"url(#clip060)\" d=\"M1199.79 1532.4 L1205.65 1532.4 L1205.65 1568.04 L1199.79 1568.04 L1199.79 1532.4 M1199.79 1518.52 L1205.65 1518.52 L1205.65 1525.93 L1199.79 1525.93 L1199.79 1518.52 Z\" fill=\"#000000\" fill-rule=\"evenodd\" fill-opacity=\"1\" /><path clip-path=\"url(#clip060)\" d=\"M1245.66 1539.24 Q1247.85 1535.29 1250.91 1533.41 Q1253.96 1531.54 1258.1 1531.54 Q1263.67 1531.54 1266.7 1535.45 Q1269.72 1539.33 1269.72 1546.53 L1269.72 1568.04 L1263.83 1568.04 L1263.83 1546.72 Q1263.83 1541.59 1262.02 1539.11 Q1260.2 1536.63 1256.48 1536.63 Q1251.93 1536.63 1249.29 1539.65 Q1246.64 1542.68 1246.64 1547.9 L1246.64 1568.04 L1240.76 1568.04 L1240.76 1546.72 Q1240.76 1541.56 1238.94 1539.11 Q1237.13 1536.63 1233.34 1536.63 Q1228.85 1536.63 1226.21 1539.68 Q1223.57 1542.71 1223.57 1547.9 L1223.57 1568.04 L1217.68 1568.04 L1217.68 1532.4 L1223.57 1532.4 L1223.57 1537.93 Q1225.57 1534.66 1228.37 1533.1 Q1231.18 1531.54 1235.03 1531.54 Q1238.91 1531.54 1241.62 1533.51 Q1244.35 1535.48 1245.66 1539.24 Z\" fill=\"#000000\" fill-rule=\"evenodd\" fill-opacity=\"1\" /><path clip-path=\"url(#clip060)\" d=\"M1311.89 1548.76 L1311.89 1551.62 L1284.97 1551.62 Q1285.35 1557.67 1288.59 1560.85 Q1291.87 1564 1297.7 1564 Q1301.07 1564 1304.22 1563.17 Q1307.4 1562.35 1310.52 1560.69 L1310.52 1566.23 Q1307.37 1567.57 1304.06 1568.27 Q1300.75 1568.97 1297.35 1568.97 Q1288.82 1568.97 1283.82 1564 Q1278.85 1559.04 1278.85 1550.57 Q1278.85 1541.82 1283.57 1536.69 Q1288.31 1531.54 1296.33 1531.54 Q1303.52 1531.54 1307.69 1536.18 Q1311.89 1540.8 1311.89 1548.76 M1306.04 1547.04 Q1305.97 1542.23 1303.33 1539.37 Q1300.72 1536.5 1296.39 1536.5 Q1291.49 1536.5 1288.53 1539.27 Q1285.6 1542.04 1285.16 1547.07 L1306.04 1547.04 Z\" fill=\"#000000\" fill-rule=\"evenodd\" fill-opacity=\"1\" /><path clip-path=\"url(#clip060)\" d=\"M1356.29 1518.58 Q1352.03 1525.9 1349.96 1533.06 Q1347.89 1540.23 1347.89 1547.58 Q1347.89 1554.93 1349.96 1562.16 Q1352.06 1569.35 1356.29 1576.64 L1351.2 1576.64 Q1346.43 1569.16 1344.04 1561.93 Q1341.68 1554.71 1341.68 1547.58 Q1341.68 1540.48 1344.04 1533.29 Q1346.39 1526.09 1351.2 1518.58 L1356.29 1518.58 Z\" fill=\"#000000\" fill-rule=\"evenodd\" fill-opacity=\"1\" /><path clip-path=\"url(#clip060)\" d=\"M1390.38 1533.45 L1390.38 1538.98 Q1387.9 1537.71 1385.23 1537.07 Q1382.55 1536.44 1379.69 1536.44 Q1375.33 1536.44 1373.13 1537.77 Q1370.97 1539.11 1370.97 1541.79 Q1370.97 1543.82 1372.53 1545 Q1374.09 1546.15 1378.8 1547.2 L1380.8 1547.64 Q1387.04 1548.98 1389.65 1551.43 Q1392.29 1553.85 1392.29 1558.21 Q1392.29 1563.17 1388.34 1566.07 Q1384.43 1568.97 1377.55 1568.97 Q1374.69 1568.97 1371.57 1568.39 Q1368.48 1567.85 1365.05 1566.74 L1365.05 1560.69 Q1368.29 1562.38 1371.44 1563.24 Q1374.59 1564.07 1377.68 1564.07 Q1381.82 1564.07 1384.05 1562.66 Q1386.28 1561.23 1386.28 1558.65 Q1386.28 1556.27 1384.65 1554.99 Q1383.06 1553.72 1377.62 1552.54 L1375.58 1552.07 Q1370.14 1550.92 1367.72 1548.56 Q1365.3 1546.18 1365.3 1542.04 Q1365.3 1537.01 1368.87 1534.27 Q1372.43 1531.54 1378.99 1531.54 Q1382.23 1531.54 1385.1 1532.01 Q1387.96 1532.49 1390.38 1533.45 Z\" fill=\"#000000\" fill-rule=\"evenodd\" fill-opacity=\"1\" /><path clip-path=\"url(#clip060)\" d=\"M1400.69 1518.58 L1405.79 1518.58 Q1410.56 1526.09 1412.92 1533.29 Q1415.3 1540.48 1415.3 1547.58 Q1415.3 1554.71 1412.92 1561.93 Q1410.56 1569.16 1405.79 1576.64 L1400.69 1576.64 Q1404.93 1569.35 1407 1562.16 Q1409.1 1554.93 1409.1 1547.58 Q1409.1 1540.23 1407 1533.06 Q1404.93 1525.9 1400.69 1518.58 Z\" fill=\"#000000\" fill-rule=\"evenodd\" fill-opacity=\"1\" /><polyline clip-path=\"url(#clip062)\" style=\"stroke:#000000; stroke-linecap:round; stroke-linejoin:round; stroke-width:2; stroke-opacity:0.1; fill:none\" points=\"232.389,1323.18 2352.76,1323.18 \"/>\n",
       "<polyline clip-path=\"url(#clip062)\" style=\"stroke:#000000; stroke-linecap:round; stroke-linejoin:round; stroke-width:2; stroke-opacity:0.1; fill:none\" points=\"232.389,1047.79 2352.76,1047.79 \"/>\n",
       "<polyline clip-path=\"url(#clip062)\" style=\"stroke:#000000; stroke-linecap:round; stroke-linejoin:round; stroke-width:2; stroke-opacity:0.1; fill:none\" points=\"232.389,772.401 2352.76,772.401 \"/>\n",
       "<polyline clip-path=\"url(#clip062)\" style=\"stroke:#000000; stroke-linecap:round; stroke-linejoin:round; stroke-width:2; stroke-opacity:0.1; fill:none\" points=\"232.389,497.009 2352.76,497.009 \"/>\n",
       "<polyline clip-path=\"url(#clip062)\" style=\"stroke:#000000; stroke-linecap:round; stroke-linejoin:round; stroke-width:2; stroke-opacity:0.1; fill:none\" points=\"232.389,221.617 2352.76,221.617 \"/>\n",
       "<polyline clip-path=\"url(#clip060)\" style=\"stroke:#000000; stroke-linecap:round; stroke-linejoin:round; stroke-width:4; stroke-opacity:1; fill:none\" points=\"232.389,1423.18 232.389,123.472 \"/>\n",
       "<polyline clip-path=\"url(#clip060)\" style=\"stroke:#000000; stroke-linecap:round; stroke-linejoin:round; stroke-width:4; stroke-opacity:1; fill:none\" points=\"232.389,1323.18 251.287,1323.18 \"/>\n",
       "<polyline clip-path=\"url(#clip060)\" style=\"stroke:#000000; stroke-linecap:round; stroke-linejoin:round; stroke-width:4; stroke-opacity:1; fill:none\" points=\"232.389,1047.79 251.287,1047.79 \"/>\n",
       "<polyline clip-path=\"url(#clip060)\" style=\"stroke:#000000; stroke-linecap:round; stroke-linejoin:round; stroke-width:4; stroke-opacity:1; fill:none\" points=\"232.389,772.401 251.287,772.401 \"/>\n",
       "<polyline clip-path=\"url(#clip060)\" style=\"stroke:#000000; stroke-linecap:round; stroke-linejoin:round; stroke-width:4; stroke-opacity:1; fill:none\" points=\"232.389,497.009 251.287,497.009 \"/>\n",
       "<polyline clip-path=\"url(#clip060)\" style=\"stroke:#000000; stroke-linecap:round; stroke-linejoin:round; stroke-width:4; stroke-opacity:1; fill:none\" points=\"232.389,221.617 251.287,221.617 \"/>\n",
       "<path clip-path=\"url(#clip060)\" d=\"M184.445 1308.98 Q180.834 1308.98 179.005 1312.55 Q177.2 1316.09 177.2 1323.22 Q177.2 1330.33 179.005 1333.89 Q180.834 1337.43 184.445 1337.43 Q188.079 1337.43 189.885 1333.89 Q191.713 1330.33 191.713 1323.22 Q191.713 1316.09 189.885 1312.55 Q188.079 1308.98 184.445 1308.98 M184.445 1305.28 Q190.255 1305.28 193.311 1309.89 Q196.389 1314.47 196.389 1323.22 Q196.389 1331.95 193.311 1336.55 Q190.255 1341.14 184.445 1341.14 Q178.635 1341.14 175.556 1336.55 Q172.501 1331.95 172.501 1323.22 Q172.501 1314.47 175.556 1309.89 Q178.635 1305.28 184.445 1305.28 Z\" fill=\"#000000\" fill-rule=\"evenodd\" fill-opacity=\"1\" /><path clip-path=\"url(#clip060)\" d=\"M149.306 1061.14 L165.626 1061.14 L165.626 1065.07 L143.681 1065.07 L143.681 1061.14 Q146.343 1058.38 150.927 1053.75 Q155.533 1049.1 156.714 1047.76 Q158.959 1045.23 159.839 1043.5 Q160.741 1041.74 160.741 1040.05 Q160.741 1037.29 158.797 1035.56 Q156.876 1033.82 153.774 1033.82 Q151.575 1033.82 149.121 1034.59 Q146.691 1035.35 143.913 1036.9 L143.913 1032.18 Q146.737 1031.04 149.191 1030.47 Q151.644 1029.89 153.681 1029.89 Q159.052 1029.89 162.246 1032.57 Q165.44 1035.26 165.44 1039.75 Q165.44 1041.88 164.63 1043.8 Q163.843 1045.7 161.737 1048.29 Q161.158 1048.96 158.056 1052.18 Q154.954 1055.37 149.306 1061.14 Z\" fill=\"#000000\" fill-rule=\"evenodd\" fill-opacity=\"1\" /><path clip-path=\"url(#clip060)\" d=\"M175.487 1030.51 L193.843 1030.51 L193.843 1034.45 L179.769 1034.45 L179.769 1042.92 Q180.788 1042.57 181.806 1042.41 Q182.825 1042.23 183.843 1042.23 Q189.63 1042.23 193.01 1045.4 Q196.389 1048.57 196.389 1053.98 Q196.389 1059.56 192.917 1062.66 Q189.445 1065.74 183.126 1065.74 Q180.95 1065.74 178.681 1065.37 Q176.436 1065 174.028 1064.26 L174.028 1059.56 Q176.112 1060.7 178.334 1061.25 Q180.556 1061.81 183.033 1061.81 Q187.038 1061.81 189.375 1059.7 Q191.713 1057.6 191.713 1053.98 Q191.713 1050.37 189.375 1048.27 Q187.038 1046.16 183.033 1046.16 Q181.158 1046.16 179.283 1046.58 Q177.431 1046.99 175.487 1047.87 L175.487 1030.51 Z\" fill=\"#000000\" fill-rule=\"evenodd\" fill-opacity=\"1\" /><path clip-path=\"url(#clip060)\" d=\"M144.329 755.121 L162.686 755.121 L162.686 759.056 L148.612 759.056 L148.612 767.528 Q149.63 767.181 150.649 767.019 Q151.667 766.834 152.686 766.834 Q158.473 766.834 161.852 770.005 Q165.232 773.176 165.232 778.593 Q165.232 784.171 161.76 787.273 Q158.288 790.352 151.968 790.352 Q149.792 790.352 147.524 789.982 Q145.279 789.611 142.871 788.87 L142.871 784.171 Q144.954 785.306 147.177 785.861 Q149.399 786.417 151.876 786.417 Q155.88 786.417 158.218 784.31 Q160.556 782.204 160.556 778.593 Q160.556 774.982 158.218 772.875 Q155.88 770.769 151.876 770.769 Q150.001 770.769 148.126 771.185 Q146.274 771.602 144.329 772.482 L144.329 755.121 Z\" fill=\"#000000\" fill-rule=\"evenodd\" fill-opacity=\"1\" /><path clip-path=\"url(#clip060)\" d=\"M184.445 758.199 Q180.834 758.199 179.005 761.764 Q177.2 765.306 177.2 772.435 Q177.2 779.542 179.005 783.107 Q180.834 786.648 184.445 786.648 Q188.079 786.648 189.885 783.107 Q191.713 779.542 191.713 772.435 Q191.713 765.306 189.885 761.764 Q188.079 758.199 184.445 758.199 M184.445 754.496 Q190.255 754.496 193.311 759.102 Q196.389 763.685 196.389 772.435 Q196.389 781.162 193.311 785.769 Q190.255 790.352 184.445 790.352 Q178.635 790.352 175.556 785.769 Q172.501 781.162 172.501 772.435 Q172.501 763.685 175.556 759.102 Q178.635 754.496 184.445 754.496 Z\" fill=\"#000000\" fill-rule=\"evenodd\" fill-opacity=\"1\" /><path clip-path=\"url(#clip060)\" d=\"M144.098 479.729 L166.32 479.729 L166.32 481.72 L153.774 514.289 L148.89 514.289 L160.695 483.664 L144.098 483.664 L144.098 479.729 Z\" fill=\"#000000\" fill-rule=\"evenodd\" fill-opacity=\"1\" /><path clip-path=\"url(#clip060)\" d=\"M175.487 479.729 L193.843 479.729 L193.843 483.664 L179.769 483.664 L179.769 492.136 Q180.788 491.789 181.806 491.627 Q182.825 491.442 183.843 491.442 Q189.63 491.442 193.01 494.613 Q196.389 497.785 196.389 503.201 Q196.389 508.78 192.917 511.882 Q189.445 514.96 183.126 514.96 Q180.95 514.96 178.681 514.59 Q176.436 514.22 174.028 513.479 L174.028 508.78 Q176.112 509.914 178.334 510.47 Q180.556 511.025 183.033 511.025 Q187.038 511.025 189.375 508.919 Q191.713 506.812 191.713 503.201 Q191.713 499.59 189.375 497.484 Q187.038 495.377 183.033 495.377 Q181.158 495.377 179.283 495.794 Q177.431 496.21 175.487 497.09 L175.487 479.729 Z\" fill=\"#000000\" fill-rule=\"evenodd\" fill-opacity=\"1\" /><path clip-path=\"url(#clip060)\" d=\"M114.931 234.962 L122.57 234.962 L122.57 208.597 L114.26 210.263 L114.26 206.004 L122.524 204.337 L127.2 204.337 L127.2 234.962 L134.839 234.962 L134.839 238.897 L114.931 238.897 L114.931 234.962 Z\" fill=\"#000000\" fill-rule=\"evenodd\" fill-opacity=\"1\" /><path clip-path=\"url(#clip060)\" d=\"M154.283 207.416 Q150.672 207.416 148.843 210.981 Q147.038 214.523 147.038 221.652 Q147.038 228.759 148.843 232.323 Q150.672 235.865 154.283 235.865 Q157.917 235.865 159.723 232.323 Q161.552 228.759 161.552 221.652 Q161.552 214.523 159.723 210.981 Q157.917 207.416 154.283 207.416 M154.283 203.713 Q160.093 203.713 163.149 208.319 Q166.227 212.902 166.227 221.652 Q166.227 230.379 163.149 234.985 Q160.093 239.569 154.283 239.569 Q148.473 239.569 145.394 234.985 Q142.339 230.379 142.339 221.652 Q142.339 212.902 145.394 208.319 Q148.473 203.713 154.283 203.713 Z\" fill=\"#000000\" fill-rule=\"evenodd\" fill-opacity=\"1\" /><path clip-path=\"url(#clip060)\" d=\"M184.445 207.416 Q180.834 207.416 179.005 210.981 Q177.2 214.523 177.2 221.652 Q177.2 228.759 179.005 232.323 Q180.834 235.865 184.445 235.865 Q188.079 235.865 189.885 232.323 Q191.713 228.759 191.713 221.652 Q191.713 214.523 189.885 210.981 Q188.079 207.416 184.445 207.416 M184.445 203.713 Q190.255 203.713 193.311 208.319 Q196.389 212.902 196.389 221.652 Q196.389 230.379 193.311 234.985 Q190.255 239.569 184.445 239.569 Q178.635 239.569 175.556 234.985 Q172.501 230.379 172.501 221.652 Q172.501 212.902 175.556 208.319 Q178.635 203.713 184.445 203.713 Z\" fill=\"#000000\" fill-rule=\"evenodd\" fill-opacity=\"1\" /><path clip-path=\"url(#clip060)\" d=\"M49.9359 788.254 L28.3562 788.254 L28.3562 782.397 L49.7131 782.397 Q54.7739 782.397 57.3202 780.424 Q59.8346 778.45 59.8346 774.504 Q59.8346 769.761 56.8109 767.024 Q53.7872 764.255 48.5673 764.255 L28.3562 764.255 L28.3562 758.398 L64.0042 758.398 L64.0042 764.255 L58.5296 764.255 Q61.7762 766.387 63.3676 769.22 Q64.9272 772.021 64.9272 775.745 Q64.9272 781.888 61.1078 785.071 Q57.2883 788.254 49.9359 788.254 M27.4968 773.517 L27.4968 773.517 Z\" fill=\"#000000\" fill-rule=\"evenodd\" fill-opacity=\"1\" /><path clip-path=\"url(#clip060)\" d=\"M1029.71 12.096 L1037.89 12.096 L1037.89 72.576 L1029.71 72.576 L1029.71 12.096 Z\" fill=\"#000000\" fill-rule=\"evenodd\" fill-opacity=\"1\" /><path clip-path=\"url(#clip060)\" d=\"M1091.57 45.1919 L1091.57 72.576 L1084.11 72.576 L1084.11 45.4349 Q1084.11 38.994 1081.6 35.7938 Q1079.09 32.5936 1074.07 32.5936 Q1068.03 32.5936 1064.55 36.4419 Q1061.06 40.2903 1061.06 46.9338 L1061.06 72.576 L1053.57 72.576 L1053.57 27.2059 L1061.06 27.2059 L1061.06 34.2544 Q1063.74 30.163 1067.34 28.1376 Q1070.99 26.1121 1075.73 26.1121 Q1083.55 26.1121 1087.56 30.9732 Q1091.57 35.7938 1091.57 45.1919 Z\" fill=\"#000000\" fill-rule=\"evenodd\" fill-opacity=\"1\" /><path clip-path=\"url(#clip060)\" d=\"M1113.64 65.7705 L1113.64 89.8329 L1106.15 89.8329 L1106.15 27.2059 L1113.64 27.2059 L1113.64 34.0924 Q1115.99 30.0415 1119.56 28.0971 Q1123.16 26.1121 1128.15 26.1121 Q1136.41 26.1121 1141.55 32.6746 Q1146.74 39.2371 1146.74 49.9314 Q1146.74 60.6258 1141.55 67.1883 Q1136.41 73.7508 1128.15 73.7508 Q1123.16 73.7508 1119.56 71.8063 Q1115.99 69.8214 1113.64 65.7705 M1139 49.9314 Q1139 41.7081 1135.6 37.0496 Q1132.24 32.3505 1126.32 32.3505 Q1120.41 32.3505 1117.01 37.0496 Q1113.64 41.7081 1113.64 49.9314 Q1113.64 58.1548 1117.01 62.8538 Q1120.41 67.5124 1126.32 67.5124 Q1132.24 67.5124 1135.6 62.8538 Q1139 58.1548 1139 49.9314 Z\" fill=\"#000000\" fill-rule=\"evenodd\" fill-opacity=\"1\" /><path clip-path=\"url(#clip060)\" d=\"M1158.33 54.671 L1158.33 27.2059 L1165.78 27.2059 L1165.78 54.3874 Q1165.78 60.8284 1168.29 64.0691 Q1170.8 67.2693 1175.83 67.2693 Q1181.86 67.2693 1185.35 63.421 Q1188.87 59.5726 1188.87 52.9291 L1188.87 27.2059 L1196.32 27.2059 L1196.32 72.576 L1188.87 72.576 L1188.87 65.6084 Q1186.16 69.7404 1182.55 71.7658 Q1178.99 73.7508 1174.25 73.7508 Q1166.43 73.7508 1162.38 68.8897 Q1158.33 64.0286 1158.33 54.671 M1177.08 26.1121 L1177.08 26.1121 Z\" fill=\"#000000\" fill-rule=\"evenodd\" fill-opacity=\"1\" /><path clip-path=\"url(#clip060)\" d=\"M1219.05 14.324 L1219.05 27.2059 L1234.4 27.2059 L1234.4 32.9987 L1219.05 32.9987 L1219.05 57.6282 Q1219.05 63.1779 1220.55 64.7578 Q1222.09 66.3376 1226.75 66.3376 L1234.4 66.3376 L1234.4 72.576 L1226.75 72.576 Q1218.12 72.576 1214.84 69.3758 Q1211.55 66.1351 1211.55 57.6282 L1211.55 32.9987 L1206.09 32.9987 L1206.09 27.2059 L1211.55 27.2059 L1211.55 14.324 L1219.05 14.324 Z\" fill=\"#000000\" fill-rule=\"evenodd\" fill-opacity=\"1\" /><path clip-path=\"url(#clip060)\" d=\"M1270.9 12.096 L1279.08 12.096 L1279.08 36.8875 L1308.82 36.8875 L1308.82 12.096 L1317 12.096 L1317 72.576 L1308.82 72.576 L1308.82 43.7741 L1279.08 43.7741 L1279.08 72.576 L1270.9 72.576 L1270.9 12.096 Z\" fill=\"#000000\" fill-rule=\"evenodd\" fill-opacity=\"1\" /><path clip-path=\"url(#clip060)\" d=\"M1332.96 27.2059 L1340.41 27.2059 L1340.41 72.576 L1332.96 72.576 L1332.96 27.2059 M1332.96 9.54393 L1340.41 9.54393 L1340.41 18.9825 L1332.96 18.9825 L1332.96 9.54393 Z\" fill=\"#000000\" fill-rule=\"evenodd\" fill-opacity=\"1\" /><path clip-path=\"url(#clip060)\" d=\"M1384.93 28.5427 L1384.93 35.5912 Q1381.77 33.9709 1378.37 33.1607 Q1374.97 32.3505 1371.32 32.3505 Q1365.77 32.3505 1362.98 34.0519 Q1360.22 35.7533 1360.22 39.156 Q1360.22 41.7486 1362.21 43.2475 Q1364.19 44.7058 1370.19 46.0426 L1372.74 46.6097 Q1380.68 48.3111 1384 51.4303 Q1387.36 54.509 1387.36 60.0587 Q1387.36 66.3781 1382.34 70.0644 Q1377.36 73.7508 1368.61 73.7508 Q1364.96 73.7508 1360.99 73.0216 Q1357.06 72.3329 1352.69 70.9151 L1352.69 63.2184 Q1356.82 65.3654 1360.83 66.4591 Q1364.84 67.5124 1368.77 67.5124 Q1374.04 67.5124 1376.87 65.73 Q1379.71 63.9071 1379.71 60.6258 Q1379.71 57.5877 1377.64 55.9673 Q1375.62 54.3469 1368.69 52.8481 L1366.1 52.2405 Q1359.17 50.7821 1356.09 47.7845 Q1353.01 44.7463 1353.01 39.4801 Q1353.01 33.0797 1357.55 29.5959 Q1362.09 26.1121 1370.43 26.1121 Q1374.56 26.1121 1378.21 26.7198 Q1381.85 27.3274 1384.93 28.5427 Z\" fill=\"#000000\" fill-rule=\"evenodd\" fill-opacity=\"1\" /><path clip-path=\"url(#clip060)\" d=\"M1406.61 14.324 L1406.61 27.2059 L1421.96 27.2059 L1421.96 32.9987 L1406.61 32.9987 L1406.61 57.6282 Q1406.61 63.1779 1408.1 64.7578 Q1409.64 66.3376 1414.3 66.3376 L1421.96 66.3376 L1421.96 72.576 L1414.3 72.576 Q1405.67 72.576 1402.39 69.3758 Q1399.11 66.1351 1399.11 57.6282 L1399.11 32.9987 L1393.64 32.9987 L1393.64 27.2059 L1399.11 27.2059 L1399.11 14.324 L1406.61 14.324 Z\" fill=\"#000000\" fill-rule=\"evenodd\" fill-opacity=\"1\" /><path clip-path=\"url(#clip060)\" d=\"M1449.34 32.4315 Q1443.35 32.4315 1439.86 37.1306 Q1436.38 41.7891 1436.38 49.9314 Q1436.38 58.0738 1439.82 62.7728 Q1443.31 67.4314 1449.34 67.4314 Q1455.3 67.4314 1458.78 62.7323 Q1462.27 58.0333 1462.27 49.9314 Q1462.27 41.8701 1458.78 37.1711 Q1455.3 32.4315 1449.34 32.4315 M1449.34 26.1121 Q1459.06 26.1121 1464.61 32.4315 Q1470.16 38.7509 1470.16 49.9314 Q1470.16 61.0714 1464.61 67.4314 Q1459.06 73.7508 1449.34 73.7508 Q1439.58 73.7508 1434.03 67.4314 Q1428.52 61.0714 1428.52 49.9314 Q1428.52 38.7509 1434.03 32.4315 Q1439.58 26.1121 1449.34 26.1121 Z\" fill=\"#000000\" fill-rule=\"evenodd\" fill-opacity=\"1\" /><path clip-path=\"url(#clip060)\" d=\"M1508.81 34.1734 Q1507.55 33.4443 1506.06 33.1202 Q1504.6 32.7556 1502.81 32.7556 Q1496.5 32.7556 1493.09 36.8875 Q1489.73 40.9789 1489.73 48.6757 L1489.73 72.576 L1482.24 72.576 L1482.24 27.2059 L1489.73 27.2059 L1489.73 34.2544 Q1492.08 30.1225 1495.85 28.1376 Q1499.61 26.1121 1505 26.1121 Q1505.77 26.1121 1506.7 26.2337 Q1507.64 26.3147 1508.77 26.5172 L1508.81 34.1734 Z\" fill=\"#000000\" fill-rule=\"evenodd\" fill-opacity=\"1\" /><path clip-path=\"url(#clip060)\" d=\"M1535.51 76.7889 Q1532.35 84.8907 1529.35 87.3618 Q1526.35 89.8329 1521.33 89.8329 L1515.37 89.8329 L1515.37 83.5945 L1519.75 83.5945 Q1522.83 83.5945 1524.53 82.1361 Q1526.23 80.6778 1528.29 75.2496 L1529.63 71.8468 L1511.28 27.2059 L1519.18 27.2059 L1533.36 62.6918 L1547.54 27.2059 L1555.44 27.2059 L1535.51 76.7889 Z\" fill=\"#000000\" fill-rule=\"evenodd\" fill-opacity=\"1\" /><polyline clip-path=\"url(#clip062)\" style=\"stroke:#009af9; stroke-linecap:round; stroke-linejoin:round; stroke-width:4; stroke-opacity:1; fill:none\" points=\"292.4,1248.39 299.09,1248.73 305.78,1249.08 312.47,1249.42 319.16,1249.76 325.85,1250.11 332.54,1250.45 339.231,1250.8 345.921,1251.14 352.611,1251.48 359.301,1251.83 365.991,1252.17 372.681,1252.51 379.371,1252.86 386.061,1253.2 392.752,1253.55 399.442,1253.89 406.132,1254.23 412.822,1254.58 419.512,1254.92 426.202,1255.26 432.892,1255.61 439.582,1255.95 446.272,1256.29 452.963,1256.64 459.653,1256.98 466.343,1257.32 473.033,1257.67 479.723,1258.01 486.413,1258.35 493.103,1258.7 499.793,1259.04 506.484,1259.39 513.174,1259.73 519.864,1260.07 526.554,1260.42 533.244,1260.76 539.934,1261.1 546.624,1261.45 553.314,1261.79 560.005,1262.13 566.695,1262.48 573.385,1262.82 580.075,1263.16 586.765,1263.51 593.455,1263.85 600.145,1264.19 606.835,1264.54 613.525,1264.88 620.216,1265.22 626.906,1265.57 633.596,1265.91 640.286,1266.26 646.976,1266.6 653.666,1266.94 660.356,1267.29 667.046,1267.63 673.737,1267.97 680.427,1268.32 687.117,1268.66 693.807,1269.01 700.497,1269.35 707.187,1269.69 713.877,1270.04 720.567,1270.38 727.258,1270.72 733.948,1271.07 740.638,1271.41 747.328,1271.76 754.018,1272.1 760.708,1272.45 767.398,1272.79 774.088,1273.13 780.778,1273.48 787.469,1273.82 794.159,1274.17 800.849,1274.51 807.539,1274.86 814.229,1275.2 820.919,1275.55 827.609,1275.89 834.299,1276.23 840.99,1276.58 847.68,1276.92 854.37,1277.27 861.06,1277.61 867.75,1277.96 874.44,1278.31 881.13,1278.65 887.82,1279 894.511,1279.34 901.201,1279.69 907.891,1280.03 914.581,1280.38 921.271,1280.72 927.961,1281.07 934.651,1281.42 941.341,1281.76 948.031,1282.11 954.722,1282.46 961.412,1282.8 968.102,1283.15 974.792,1283.5 981.482,1283.84 988.172,1284.19 994.862,1284.54 1001.55,1284.88 1008.24,1285.23 1014.93,1285.58 1021.62,1285.93 1028.31,1286.27 1035,1286.62 1041.69,1286.97 1048.38,1287.32 1055.07,1287.67 1061.76,1288.02 1068.45,1288.36 1075.14,1288.71 1081.83,1289.06 1088.52,1289.41 1095.21,1289.76 1101.9,1290.11 1108.59,1290.46 1115.28,1290.81 1121.97,1291.16 1128.66,1291.51 1135.35,1291.86 1142.04,1292.21 1148.74,1292.56 1155.43,1292.91 1162.12,1293.27 1168.81,1293.62 1175.5,1293.97 1182.19,1294.32 1188.88,1294.67 1195.57,1295.02 1202.26,1295.38 1208.95,1295.73 1215.64,1296.08 1222.33,1296.44 1229.02,1296.79 1235.71,1297.14 1242.4,1297.5 1249.09,1297.85 1255.78,1298.21 1262.47,1298.56 1269.16,1298.92 1275.85,1299.27 1282.54,1299.63 1289.23,1299.98 1295.92,1300.34 1302.61,1300.69 1309.3,1301.05 1315.99,1301.41 1322.68,1301.76 1329.37,1302.12 1336.06,1302.48 1342.75,1302.84 1349.44,1303.2 1356.13,1303.55 1362.82,1303.91 1369.51,1304.27 1376.2,1304.63 1382.89,1304.99 1389.58,1305.35 1396.27,1305.71 1402.96,1306.07 1409.65,1306.43 1416.34,1306.79 1423.03,1307.16 1429.72,1307.52 1436.41,1307.88 1443.1,1308.24 1449.79,1308.61 1456.48,1308.97 1463.17,1309.33 1469.86,1309.7 1476.55,1310.06 1483.24,1310.43 1489.93,1310.79 1496.62,1311.16 1503.31,1311.52 1510,1311.89 1516.69,1312.26 1523.38,1312.62 1530.07,1312.99 1536.76,1313.36 1543.45,1313.73 1550.14,1314.09 1556.83,1314.46 1563.52,1314.83 1570.21,1315.2 1576.9,1315.57 1583.59,1315.94 1590.28,1316.31 1596.97,1316.68 1603.66,1317.06 1610.35,1317.43 1617.04,1317.8 1623.73,1318.17 1630.42,1318.55 1637.11,1318.92 1643.8,1319.3 1650.49,1319.67 1657.18,1320.04 1663.87,1320.42 1670.56,1320.8 1677.25,1321.17 1683.94,1321.55 1690.63,1321.93 1697.32,1322.3 1704.02,1322.68 1710.71,1323.06 1717.4,1323.44 1724.09,1323.82 1730.78,1324.2 1737.47,1324.58 1744.16,1324.96 1750.85,1325.34 1757.54,1325.72 1764.23,1326.11 1770.92,1326.49 1777.61,1326.87 1784.3,1327.26 1790.99,1327.64 1797.68,1328.02 1804.37,1328.41 1811.06,1328.79 1817.75,1329.18 1824.44,1329.57 1831.13,1329.95 1837.82,1330.34 1844.51,1330.73 1851.2,1331.12 1857.89,1331.51 1864.58,1331.9 1871.27,1332.29 1877.96,1332.68 1884.65,1333.07 1891.34,1333.46 1898.03,1333.85 1904.72,1334.24 1911.41,1334.63 1918.1,1335.03 1924.79,1335.42 1931.48,1335.81 1938.17,1336.21 1944.86,1336.6 1951.55,1337 1958.24,1337.39 1964.93,1337.79 1971.62,1338.19 1978.31,1338.59 1985,1338.98 1991.69,1339.38 1998.38,1339.78 2005.07,1340.18 2011.76,1340.58 2018.45,1340.98 2025.14,1341.38 2031.83,1341.78 2038.52,1342.18 2045.21,1342.58 2051.9,1342.99 2058.59,1343.39 2065.28,1343.79 2071.97,1344.19 2078.66,1344.6 2085.35,1345 2092.04,1345.41 2098.73,1345.81 2105.42,1346.22 2112.11,1346.62 2118.8,1347.03 2125.49,1347.44 2132.18,1347.85 2138.87,1348.25 2145.56,1348.66 2152.25,1349.07 2158.94,1349.48 2165.63,1349.89 2172.32,1350.3 2179.01,1350.71 2185.7,1351.12 2192.39,1351.53 2199.08,1351.94 2205.77,1352.35 2212.46,1352.76 2219.15,1353.17 2225.84,1353.59 2232.53,1354 2239.22,1354.41 2245.91,1354.82 2252.6,1355.24 2259.29,1355.65 2265.99,1356.07 2272.68,1356.48 2279.37,1356.89 2286.06,1357.31 2292.75,1357.8 \"/>\n",
       "<polyline clip-path=\"url(#clip062)\" style=\"stroke:#e26f46; stroke-linecap:round; stroke-linejoin:round; stroke-width:4; stroke-opacity:1; fill:none\" points=\"292.4,1386.4 299.09,1386.08 305.78,1385.76 312.47,1385.45 319.16,1385.13 325.85,1384.81 332.54,1384.5 339.231,1384.18 345.921,1383.86 352.611,1383.55 359.301,1383.23 365.991,1382.92 372.681,1382.6 379.371,1382.28 386.061,1381.97 392.752,1381.65 399.442,1381.33 406.132,1381.02 412.822,1380.7 419.512,1380.38 426.202,1380.07 432.892,1379.75 439.582,1379.43 446.272,1379.12 452.963,1378.8 459.653,1378.49 466.343,1378.17 473.033,1377.85 479.723,1377.54 486.413,1377.22 493.103,1376.9 499.793,1376.59 506.484,1376.27 513.174,1375.95 519.864,1375.64 526.554,1375.32 533.244,1375.01 539.934,1374.69 546.624,1374.37 553.314,1374.06 560.005,1373.74 566.695,1373.42 573.385,1373.11 580.075,1372.79 586.765,1372.47 593.455,1372.16 600.145,1371.84 606.835,1371.52 613.525,1371.21 620.216,1370.89 626.906,1370.57 633.596,1370.26 640.286,1369.94 646.976,1369.63 653.666,1369.31 660.356,1368.99 667.046,1368.68 673.737,1368.36 680.427,1368.04 687.117,1367.73 693.807,1367.41 700.497,1367.09 707.187,1366.78 713.877,1366.46 720.567,1366.14 727.258,1365.82 733.948,1365.51 740.638,1365.19 747.328,1364.87 754.018,1364.56 760.708,1364.24 767.398,1363.92 774.088,1363.61 780.778,1363.29 787.469,1362.97 794.159,1362.66 800.849,1362.34 807.539,1362.02 814.229,1361.7 820.919,1361.39 827.609,1361.07 834.299,1360.75 840.99,1360.43 847.68,1360.12 854.37,1359.8 861.06,1359.48 867.75,1359.16 874.44,1358.85 881.13,1358.53 887.82,1358.21 894.511,1357.89 901.201,1357.57 907.891,1357.26 914.581,1356.94 921.271,1356.62 927.961,1356.3 934.651,1355.98 941.341,1355.66 948.031,1355.35 954.722,1355.03 961.412,1354.71 968.102,1354.39 974.792,1354.07 981.482,1353.75 988.172,1353.43 994.862,1353.11 1001.55,1352.79 1008.24,1352.48 1014.93,1352.16 1021.62,1351.84 1028.31,1351.52 1035,1351.2 1041.69,1350.88 1048.38,1350.56 1055.07,1350.24 1061.76,1349.92 1068.45,1349.6 1075.14,1349.28 1081.83,1348.95 1088.52,1348.63 1095.21,1348.31 1101.9,1347.99 1108.59,1347.67 1115.28,1347.35 1121.97,1347.03 1128.66,1346.71 1135.35,1346.38 1142.04,1346.06 1148.74,1345.74 1155.43,1345.42 1162.12,1345.09 1168.81,1344.77 1175.5,1344.45 1182.19,1344.13 1188.88,1343.8 1195.57,1343.48 1202.26,1343.16 1208.95,1342.83 1215.64,1342.51 1222.33,1342.18 1229.02,1341.86 1235.71,1341.53 1242.4,1341.21 1249.09,1340.88 1255.78,1340.56 1262.47,1340.23 1269.16,1339.91 1275.85,1339.58 1282.54,1339.26 1289.23,1338.93 1295.92,1338.6 1302.61,1338.28 1309.3,1337.95 1315.99,1337.62 1322.68,1337.29 1329.37,1336.97 1336.06,1336.64 1342.75,1336.31 1349.44,1335.98 1356.13,1335.65 1362.82,1335.32 1369.51,1334.99 1376.2,1334.66 1382.89,1334.33 1389.58,1334 1396.27,1333.67 1402.96,1333.34 1409.65,1333.01 1416.34,1332.68 1423.03,1332.35 1429.72,1332.01 1436.41,1331.68 1443.1,1331.35 1449.79,1331.02 1456.48,1330.68 1463.17,1330.35 1469.86,1330.02 1476.55,1329.68 1483.24,1329.35 1489.93,1329.01 1496.62,1328.68 1503.31,1328.34 1510,1328 1516.69,1327.67 1523.38,1327.33 1530.07,1326.99 1536.76,1326.66 1543.45,1326.32 1550.14,1325.98 1556.83,1325.64 1563.52,1325.3 1570.21,1324.96 1576.9,1324.63 1583.59,1324.29 1590.28,1323.95 1596.97,1323.6 1603.66,1323.26 1610.35,1322.92 1617.04,1322.58 1623.73,1322.24 1630.42,1321.89 1637.11,1321.55 1643.8,1321.21 1650.49,1320.86 1657.18,1320.52 1663.87,1320.18 1670.56,1319.83 1677.25,1319.48 1683.94,1319.14 1690.63,1318.79 1697.32,1318.45 1704.02,1318.1 1710.71,1317.75 1717.4,1317.4 1724.09,1317.05 1730.78,1316.71 1737.47,1316.36 1744.16,1316.01 1750.85,1315.66 1757.54,1315.31 1764.23,1314.95 1770.92,1314.6 1777.61,1314.25 1784.3,1313.9 1790.99,1313.55 1797.68,1313.19 1804.37,1312.84 1811.06,1312.49 1817.75,1312.13 1824.44,1311.78 1831.13,1311.42 1837.82,1311.06 1844.51,1310.71 1851.2,1310.35 1857.89,1309.99 1864.58,1309.64 1871.27,1309.28 1877.96,1308.92 1884.65,1308.56 1891.34,1308.2 1898.03,1307.84 1904.72,1307.48 1911.41,1307.12 1918.1,1306.76 1924.79,1306.4 1931.48,1306.03 1938.17,1305.67 1944.86,1305.31 1951.55,1304.95 1958.24,1304.58 1964.93,1304.22 1971.62,1303.85 1978.31,1303.49 1985,1303.12 1991.69,1302.75 1998.38,1302.39 2005.07,1302.02 2011.76,1301.65 2018.45,1301.29 2025.14,1300.92 2031.83,1300.55 2038.52,1300.18 2045.21,1299.81 2051.9,1299.44 2058.59,1299.07 2065.28,1298.7 2071.97,1298.33 2078.66,1297.96 2085.35,1297.58 2092.04,1297.21 2098.73,1296.84 2105.42,1296.47 2112.11,1296.09 2118.8,1295.72 2125.49,1295.34 2132.18,1294.97 2138.87,1294.6 2145.56,1294.22 2152.25,1293.84 2158.94,1293.47 2165.63,1293.09 2172.32,1292.72 2179.01,1292.34 2185.7,1291.96 2192.39,1291.58 2199.08,1291.21 2205.77,1290.83 2212.46,1290.45 2219.15,1290.07 2225.84,1289.69 2232.53,1289.31 2239.22,1288.93 2245.91,1288.55 2252.6,1288.17 2259.29,1287.79 2265.99,1287.41 2272.68,1287.03 2279.37,1286.65 2286.06,1286.27 2292.75,1285.81 \"/>\n",
       "<polyline clip-path=\"url(#clip062)\" style=\"stroke:#3da44d; stroke-linecap:round; stroke-linejoin:round; stroke-width:4; stroke-opacity:1; fill:none\" points=\"292.4,160.256 299.09,160.366 305.78,160.481 312.47,160.601 319.16,160.726 325.85,160.856 332.54,160.99 339.231,161.129 345.921,161.273 352.611,161.421 359.301,161.574 365.991,161.731 372.681,161.893 379.371,162.059 386.061,162.23 392.752,162.404 399.442,162.583 406.132,162.765 412.822,162.952 419.512,163.143 426.202,163.338 432.892,163.536 439.582,163.739 446.272,163.945 452.963,164.154 459.653,164.368 466.343,164.585 473.033,164.805 479.723,165.029 486.413,165.257 493.103,165.487 499.793,165.721 506.484,165.958 513.174,166.199 519.864,166.443 526.554,166.69 533.244,166.939 539.934,167.192 546.624,167.448 553.314,167.706 560.005,167.967 566.695,168.232 573.385,168.499 580.075,168.768 586.765,169.041 593.455,169.315 600.145,169.593 606.835,169.873 613.525,170.155 620.216,170.44 626.906,170.727 633.596,171.017 640.286,171.308 646.976,171.603 653.666,171.899 660.356,172.197 667.046,172.498 673.737,172.801 680.427,173.105 687.117,173.412 693.807,173.72 700.497,174.031 707.187,174.343 713.877,174.658 720.567,174.974 727.258,175.291 733.948,175.611 740.638,175.932 747.328,176.255 754.018,176.58 760.708,176.906 767.398,177.233 774.088,177.562 780.778,177.893 787.469,178.225 794.159,178.558 800.849,178.893 807.539,179.229 814.229,179.566 820.919,179.905 827.609,180.245 834.299,180.586 840.99,180.929 847.68,181.272 854.37,181.616 861.06,181.962 867.75,182.309 874.44,182.657 881.13,183.005 887.82,183.355 894.511,183.706 901.201,184.058 907.891,184.41 914.581,184.763 921.271,185.117 927.961,185.473 934.651,185.828 941.341,186.185 948.031,186.542 954.722,186.9 961.412,187.258 968.102,187.617 974.792,187.977 981.482,188.338 988.172,188.699 994.862,189.06 1001.55,189.423 1008.24,189.785 1014.93,190.148 1021.62,190.512 1028.31,190.876 1035,191.24 1041.69,191.605 1048.38,191.97 1055.07,192.336 1061.76,192.702 1068.45,193.068 1075.14,193.435 1081.83,193.802 1088.52,194.169 1095.21,194.537 1101.9,194.904 1108.59,195.272 1115.28,195.64 1121.97,196.008 1128.66,196.377 1135.35,196.745 1142.04,197.114 1148.74,197.483 1155.43,197.852 1162.12,198.221 1168.81,198.59 1175.5,198.959 1182.19,199.328 1188.88,199.698 1195.57,200.067 1202.26,200.436 1208.95,200.806 1215.64,201.175 1222.33,201.544 1229.02,201.913 1235.71,202.282 1242.4,202.651 1249.09,203.02 1255.78,203.389 1262.47,203.758 1269.16,204.127 1275.85,204.495 1282.54,204.864 1289.23,205.232 1295.92,205.6 1302.61,205.968 1309.3,206.335 1315.99,206.703 1322.68,207.07 1329.37,207.437 1336.06,207.804 1342.75,208.171 1349.44,208.537 1356.13,208.904 1362.82,209.27 1369.51,209.635 1376.2,210.001 1382.89,210.366 1389.58,210.731 1396.27,211.096 1402.96,211.46 1409.65,211.825 1416.34,212.188 1423.03,212.552 1429.72,212.915 1436.41,213.278 1443.1,213.64 1449.79,214.003 1456.48,214.365 1463.17,214.726 1469.86,215.087 1476.55,215.448 1483.24,215.809 1489.93,216.169 1496.62,216.529 1503.31,216.888 1510,217.248 1516.69,217.606 1523.38,217.965 1530.07,218.323 1536.76,218.68 1543.45,219.038 1550.14,219.395 1556.83,219.751 1563.52,220.107 1570.21,220.463 1576.9,220.819 1583.59,221.174 1590.28,221.528 1596.97,221.883 1603.66,222.236 1610.35,222.589 1617.04,222.943 1623.73,223.295 1630.42,223.648 1637.11,223.999 1643.8,224.351 1650.49,224.702 1657.18,225.053 1663.87,225.403 1670.56,225.753 1677.25,226.102 1683.94,226.451 1690.63,226.8 1697.32,227.149 1704.02,227.497 1710.71,227.844 1717.4,228.191 1724.09,228.538 1730.78,228.885 1737.47,229.231 1744.16,229.576 1750.85,229.922 1757.54,230.267 1764.23,230.611 1770.92,230.955 1777.61,231.299 1784.3,231.642 1790.99,231.986 1797.68,232.329 1804.37,232.671 1811.06,233.013 1817.75,233.355 1824.44,233.696 1831.13,234.037 1837.82,234.377 1844.51,234.718 1851.2,235.058 1857.89,235.397 1864.58,235.736 1871.27,236.075 1877.96,236.414 1884.65,236.752 1891.34,237.09 1898.03,237.428 1904.72,237.765 1911.41,238.102 1918.1,238.439 1924.79,238.775 1931.48,239.111 1938.17,239.447 1944.86,239.783 1951.55,240.118 1958.24,240.453 1964.93,240.787 1971.62,241.122 1978.31,241.456 1985,241.79 1991.69,242.124 1998.38,242.457 2005.07,242.79 2011.76,243.123 2018.45,243.455 2025.14,243.788 2031.83,244.12 2038.52,244.452 2045.21,244.783 2051.9,245.115 2058.59,245.446 2065.28,245.777 2071.97,246.108 2078.66,246.439 2085.35,246.769 2092.04,247.099 2098.73,247.429 2105.42,247.759 2112.11,248.089 2118.8,248.418 2125.49,248.747 2132.18,249.077 2138.87,249.406 2145.56,249.735 2152.25,250.063 2158.94,250.392 2165.63,250.721 2172.32,251.049 2179.01,251.377 2185.7,251.705 2192.39,252.033 2199.08,252.361 2205.77,252.689 2212.46,253.016 2219.15,253.343 2225.84,253.671 2232.53,253.998 2239.22,254.325 2245.91,254.652 2252.6,254.98 2259.29,255.307 2265.99,255.634 2272.68,255.961 2279.37,256.288 2286.06,256.611 2292.75,259.952 \"/>\n",
       "<path clip-path=\"url(#clip060)\" d=\"M2027.42 374.156 L2282.08 374.156 L2282.08 166.796 L2027.42 166.796  Z\" fill=\"#ffffff\" fill-rule=\"evenodd\" fill-opacity=\"1\"/>\n",
       "<polyline clip-path=\"url(#clip060)\" style=\"stroke:#000000; stroke-linecap:round; stroke-linejoin:round; stroke-width:4; stroke-opacity:1; fill:none\" points=\"2027.42,374.156 2282.08,374.156 2282.08,166.796 2027.42,166.796 2027.42,374.156 \"/>\n",
       "<polyline clip-path=\"url(#clip060)\" style=\"stroke:#009af9; stroke-linecap:round; stroke-linejoin:round; stroke-width:4; stroke-opacity:1; fill:none\" points=\"2050.98,218.636 2192.34,218.636 \"/>\n",
       "<path clip-path=\"url(#clip060)\" d=\"M2215.9 225.684 L2215.9 209.99 L2220.16 209.99 L2220.16 225.522 Q2220.16 229.203 2221.6 231.055 Q2223.03 232.883 2225.9 232.883 Q2229.35 232.883 2231.34 230.684 Q2233.36 228.485 2233.36 224.689 L2233.36 209.99 L2237.61 209.99 L2237.61 235.916 L2233.36 235.916 L2233.36 231.934 Q2231.8 234.295 2229.74 235.453 Q2227.71 236.587 2225 236.587 Q2220.53 236.587 2218.22 233.809 Q2215.9 231.031 2215.9 225.684 M2226.62 209.365 L2226.62 209.365 Z\" fill=\"#000000\" fill-rule=\"evenodd\" fill-opacity=\"1\" /><path clip-path=\"url(#clip060)\" d=\"M2245.53 233.369 L2250.25 233.369 L2250.25 219.226 L2245.09 220.175 L2245.09 217.49 L2250.42 216.587 L2253.59 216.587 L2253.59 233.369 L2258.33 233.369 L2258.33 235.916 L2245.53 235.916 L2245.53 233.369 Z\" fill=\"#000000\" fill-rule=\"evenodd\" fill-opacity=\"1\" /><polyline clip-path=\"url(#clip060)\" style=\"stroke:#e26f46; stroke-linecap:round; stroke-linejoin:round; stroke-width:4; stroke-opacity:1; fill:none\" points=\"2050.98,270.476 2192.34,270.476 \"/>\n",
       "<path clip-path=\"url(#clip060)\" d=\"M2215.9 277.524 L2215.9 261.83 L2220.16 261.83 L2220.16 277.362 Q2220.16 281.043 2221.6 282.895 Q2223.03 284.723 2225.9 284.723 Q2229.35 284.723 2231.34 282.524 Q2233.36 280.325 2233.36 276.529 L2233.36 261.83 L2237.61 261.83 L2237.61 287.756 L2233.36 287.756 L2233.36 283.774 Q2231.8 286.135 2229.74 287.293 Q2227.71 288.427 2225 288.427 Q2220.53 288.427 2218.22 285.649 Q2215.9 282.871 2215.9 277.524 M2226.62 261.205 L2226.62 261.205 Z\" fill=\"#000000\" fill-rule=\"evenodd\" fill-opacity=\"1\" /><path clip-path=\"url(#clip060)\" d=\"M2248.12 285.117 L2257.94 285.117 L2257.94 287.756 L2244.1 287.756 L2244.1 285.209 Q2244.88 284.492 2246.34 283.196 Q2254.3 276.135 2254.3 273.959 Q2254.3 272.432 2253.1 271.506 Q2251.9 270.557 2249.93 270.557 Q2248.73 270.557 2247.31 270.973 Q2245.9 271.367 2244.24 272.177 L2244.24 269.33 Q2246.02 268.682 2247.55 268.358 Q2249.1 268.034 2250.42 268.034 Q2253.77 268.034 2255.79 269.561 Q2257.8 271.089 2257.8 273.589 Q2257.8 276.807 2250.14 283.381 Q2248.84 284.492 2248.12 285.117 Z\" fill=\"#000000\" fill-rule=\"evenodd\" fill-opacity=\"1\" /><polyline clip-path=\"url(#clip060)\" style=\"stroke:#3da44d; stroke-linecap:round; stroke-linejoin:round; stroke-width:4; stroke-opacity:1; fill:none\" points=\"2050.98,322.316 2192.34,322.316 \"/>\n",
       "<path clip-path=\"url(#clip060)\" d=\"M2215.9 329.364 L2215.9 313.67 L2220.16 313.67 L2220.16 329.202 Q2220.16 332.883 2221.6 334.735 Q2223.03 336.563 2225.9 336.563 Q2229.35 336.563 2231.34 334.364 Q2233.36 332.165 2233.36 328.369 L2233.36 313.67 L2237.61 313.67 L2237.61 339.596 L2233.36 339.596 L2233.36 335.614 Q2231.8 337.975 2229.74 339.133 Q2227.71 340.267 2225 340.267 Q2220.53 340.267 2218.22 337.489 Q2215.9 334.711 2215.9 329.364 M2226.62 313.045 L2226.62 313.045 Z\" fill=\"#000000\" fill-rule=\"evenodd\" fill-opacity=\"1\" /><path clip-path=\"url(#clip060)\" d=\"M2254.05 329.133 Q2256.18 329.549 2257.34 330.823 Q2258.52 332.073 2258.52 333.971 Q2258.52 336.841 2256.32 338.392 Q2254.12 339.943 2250.02 339.943 Q2248.7 339.943 2247.24 339.688 Q2245.81 339.457 2244.19 338.994 L2244.19 336.193 Q2245.39 336.818 2246.76 337.119 Q2248.15 337.42 2249.7 337.42 Q2252.22 337.42 2253.61 336.517 Q2255 335.591 2255 333.971 Q2255 332.258 2253.7 331.378 Q2252.43 330.499 2249.93 330.499 L2247.94 330.499 L2247.94 327.999 L2250.11 327.999 Q2252.29 327.999 2253.4 327.281 Q2254.54 326.54 2254.54 325.151 Q2254.54 323.809 2253.38 323.114 Q2252.22 322.397 2250.02 322.397 Q2249.1 322.397 2247.92 322.605 Q2246.74 322.813 2244.86 323.346 L2244.86 320.684 Q2246.55 320.29 2248.03 320.082 Q2249.51 319.874 2250.79 319.874 Q2254.12 319.874 2256.06 321.239 Q2258.03 322.605 2258.03 324.897 Q2258.03 326.494 2256.99 327.605 Q2255.95 328.716 2254.05 329.133 Z\" fill=\"#000000\" fill-rule=\"evenodd\" fill-opacity=\"1\" /></svg>\n"
      ]
     },
     "metadata": {},
     "output_type": "display_data"
    }
   ],
   "source": [
    "@changeprecision Float32 begin\n",
    "# Let's solve\n",
    "\n",
    "nx = 6\n",
    "nu = 3\n",
    "N = 301\n",
    "dt = 0.05\n",
    "t_vec = dt*(0:N-1)\n",
    "x0 = [4, 2, 20, -3, 2, -5.0]\n",
    "xg = [0,0,0,0,0,0.0]\n",
    "Xref = [deepcopy(xg) for i = 1:N]\n",
    "Uref = [zeros(nu) for i = 1:N-1]\n",
    "\n",
    "Q = 10e-1*I(nx)\n",
    "R = 1e-1*I(nu)\n",
    "Qf = 100*I(nx)\n",
    "\n",
    "# ground_level = 0.0\n",
    "gravity = [0; 0; -9.81]\n",
    "mass = 10.0\n",
    "# ωPlanet = [0.0; 0.0; 0.0]\n",
    "perWeightMax = 2.0\n",
    "θ_thrust_max = 5.0  # deg\n",
    "# θ_glideslope = 60.0 # deg\n",
    "# glide_recover_k = 8\n",
    "\n",
    "A_cone = [1 0 0; 0 1 0]\n",
    "c_cone = [0.0, 0.0, tand(θ_thrust_max)]\n",
    "u_bnd = mass * abs(gravity[3]) * perWeightMax\n",
    "u_min = -170*ones(nu)\n",
    "u_max =  170*ones(nu)\n",
    "\n",
    "# state is x y v θ\n",
    "x_min = [-5,-5,0,-10,-10,-10.0]\n",
    "x_max = [5,5,20,10,10,10.0]\n",
    "\n",
    "ncx = 2*nx*0\n",
    "ncu = 2*nu*0\n",
    "ncg = 1\n",
    "ncu_cone = nu*1; \n",
    "cone_scale = 1  # very fragile for each problem\n",
    "\n",
    "params = (\n",
    "    nx = nx,\n",
    "    nu = nu,\n",
    "    ncx = ncx,\n",
    "    ncu = ncu,\n",
    "    ncg = ncg,\n",
    "    ncu_cone = ncu_cone,\n",
    "    A_cone = A_cone,\n",
    "    c_cone = c_cone,\n",
    "    N = N,\n",
    "    Q = Q,\n",
    "    R = R,\n",
    "    Qf = Qf,\n",
    "    u_min = u_min,\n",
    "    u_max = u_max,\n",
    "    x_min = x_min,\n",
    "    x_max = x_max,\n",
    "    Xref = Xref,\n",
    "    Uref = Uref,\n",
    "    dt = dt,\n",
    "    mc = 1.0,\n",
    "    mp = 0.2,\n",
    "    l = 0.5,\n",
    "    g = 9.81,\n",
    ");\n",
    "\n",
    "# previous iterate\n",
    "X = [deepcopy(x0) for i = 1:N]\n",
    "U = [zeros(nu) for k = 1:N-1]\n",
    "# X = Xref*1\n",
    "# U = Uref*1\n",
    "# new iterate\n",
    "Xn = deepcopy(X)\n",
    "Un = deepcopy(U)\n",
    "\n",
    "P = [zeros(nx,nx) for i = 1:N]   # cost to go quadratic term\n",
    "p = [zeros(nx) for i = 1:N]      # cost to go linear term\n",
    "d = [zeros(nu) for i = 1:N-1]    # feedforward control\n",
    "K = [zeros(nu,nx) for i = 1:N-1] # feedback gain\n",
    "u_ = mpc(params,X,U,P,p,K,d,Xn,Un; atol=1e-4, max_iters = 20, verbose = true, ρ = 1e0, ρ_max = 1e10, ϕ = 10.0);\n",
    "function mat_from_vec(X)::Matrix\n",
    "    # convert a vector of vectors to a matrix \n",
    "    Xm = hcat(X...)\n",
    "    return Xm \n",
    "end\n",
    "Xsim_m = mat_from_vec(Xn)\n",
    "Usim_m = mat_from_vec(Un)\n",
    "using Plots\n",
    "display(plot(t_vec,Xsim_m',label = [\"x₁\" \"x₂\" \"x₃\" \"ẋ₁\" \"ẋ₂\" \"ẋ₃\"],linestyle=[:solid :solid :solid :dash :dash :dash],\n",
    "             title = \"State History\",\n",
    "             xlabel = \"time (s)\", ylabel = \"x\"))\n",
    "display(plot(t_vec[1:end-1],Usim_m',label = [\"u₁\" \"u₂\" \"u₃\"],\n",
    "             title = \"Input History\",\n",
    "             xlabel = \"time (s)\", ylabel = \"u\"))\n",
    "end"
   ]
  },
  {
   "cell_type": "markdown",
   "id": "416df651-52ee-4c43-93e5-aca23c5630b2",
   "metadata": {},
   "source": [
    "For TrajOpt, it needs more tricks to get better results:\n",
    "- Hessian of the projection => better approximation (done)\n",
    "- Scaling between conic constraints and other ones (1/rho, Zac did not buy it)\n",
    "- Solution polishing?\n",
    "\n",
    "Maybe, we don't care about TrajOpt problem, except from a good initial guess, there is nothing we can tune to get better performance. How about reset mpc?"
   ]
  },
  {
   "cell_type": "code",
   "execution_count": 143,
   "id": "12ec6530-7479-455f-843a-81d2c40fb13a",
   "metadata": {},
   "outputs": [
    {
     "data": {
      "text/plain": [
       "-0.356452f0"
      ]
     },
     "metadata": {},
     "output_type": "display_data"
    },
    {
     "data": {
      "text/plain": [
       "-4.1320086f0"
      ]
     },
     "metadata": {},
     "output_type": "display_data"
    },
    {
     "data": {
      "text/plain": [
       "-4.70287f0"
      ]
     },
     "metadata": {},
     "output_type": "display_data"
    },
    {
     "data": {
      "text/plain": [
       "-5.2946367f0"
      ]
     },
     "metadata": {},
     "output_type": "display_data"
    },
    {
     "data": {
      "text/plain": [
       "-3.996385f0"
      ]
     },
     "metadata": {},
     "output_type": "display_data"
    },
    {
     "data": {
      "text/plain": [
       "-5.0253787f0"
      ]
     },
     "metadata": {},
     "output_type": "display_data"
    },
    {
     "data": {
      "text/plain": [
       "-5.490519f0"
      ]
     },
     "metadata": {},
     "output_type": "display_data"
    },
    {
     "data": {
      "text/plain": [
       "-4.991453f0"
      ]
     },
     "metadata": {},
     "output_type": "display_data"
    },
    {
     "data": {
      "text/plain": [
       "-3.4641104f0"
      ]
     },
     "metadata": {},
     "output_type": "display_data"
    },
    {
     "data": {
      "text/plain": [
       "-3.6509743f0"
      ]
     },
     "metadata": {},
     "output_type": "display_data"
    },
    {
     "data": {
      "text/plain": [
       "-2.476449f0"
      ]
     },
     "metadata": {},
     "output_type": "display_data"
    },
    {
     "data": {
      "text/plain": [
       "-0.82292557f0"
      ]
     },
     "metadata": {},
     "output_type": "display_data"
    },
    {
     "data": {
      "text/plain": [
       "-2.448143f0"
      ]
     },
     "metadata": {},
     "output_type": "display_data"
    },
    {
     "data": {
      "text/plain": [
       "-4.446696f0"
      ]
     },
     "metadata": {},
     "output_type": "display_data"
    },
    {
     "data": {
      "text/plain": [
       "-5.0400534f0"
      ]
     },
     "metadata": {},
     "output_type": "display_data"
    },
    {
     "data": {
      "text/plain": [
       "-4.8167295f0"
      ]
     },
     "metadata": {},
     "output_type": "display_data"
    },
    {
     "data": {
      "text/plain": [
       "-5.1391807f0"
      ]
     },
     "metadata": {},
     "output_type": "display_data"
    },
    {
     "data": {
      "text/plain": [
       "-3.8449936f0"
      ]
     },
     "metadata": {},
     "output_type": "display_data"
    },
    {
     "data": {
      "text/plain": [
       "-3.729982f0"
      ]
     },
     "metadata": {},
     "output_type": "display_data"
    },
    {
     "data": {
      "text/plain": [
       "-4.2377844f0"
      ]
     },
     "metadata": {},
     "output_type": "display_data"
    },
    {
     "data": {
      "text/plain": [
       "-3.0920153f0"
      ]
     },
     "metadata": {},
     "output_type": "display_data"
    },
    {
     "data": {
      "text/plain": [
       "-4.9919004f0"
      ]
     },
     "metadata": {},
     "output_type": "display_data"
    },
    {
     "data": {
      "text/plain": [
       "-5.1698465f0"
      ]
     },
     "metadata": {},
     "output_type": "display_data"
    },
    {
     "data": {
      "text/plain": [
       "-3.21105f0"
      ]
     },
     "metadata": {},
     "output_type": "display_data"
    },
    {
     "data": {
      "text/plain": [
       "-2.5124402f0"
      ]
     },
     "metadata": {},
     "output_type": "display_data"
    },
    {
     "data": {
      "text/plain": [
       "-2.1767983f0"
      ]
     },
     "metadata": {},
     "output_type": "display_data"
    },
    {
     "data": {
      "text/plain": [
       "-1.9999557f0"
      ]
     },
     "metadata": {},
     "output_type": "display_data"
    },
    {
     "data": {
      "text/plain": [
       "-2.0864058f0"
      ]
     },
     "metadata": {},
     "output_type": "display_data"
    },
    {
     "data": {
      "text/plain": [
       "-1.925498f0"
      ]
     },
     "metadata": {},
     "output_type": "display_data"
    },
    {
     "data": {
      "text/plain": [
       "-2.6623907f0"
      ]
     },
     "metadata": {},
     "output_type": "display_data"
    },
    {
     "name": "stdout",
     "output_type": "stream",
     "text": [
      "SATISFY CONE"
     ]
    }
   ],
   "source": [
    "# Check conic violation\n",
    "convio = 0.0\n",
    "for k = 1:30\n",
    "    Uc = cone_u(params, Uhist[k])\n",
    "    huc = norm(Uc[1:2]) - Uc[3]\n",
    "    convio = max(convio, norm(huc + abs.(huc),Inf))\n",
    "    display(huc) # should <= 0\n",
    "end\n",
    "convio == 0 && print(\"SATISFY CONE\")\n",
    "Xref .= Xn;\n",
    "Uref .= Un;"
   ]
  },
  {
   "cell_type": "code",
   "execution_count": 230,
   "id": "5c8d15e2-a563-4077-96df-8f829ba24d00",
   "metadata": {},
   "outputs": [
    {
     "name": "stdout",
     "output_type": "stream",
     "text": [
      "  0.000593 seconds (3.37 k allocations: 434.016 KiB)\n",
      "  0.000485 seconds (3.37 k allocations: 434.016 KiB)\n",
      "  0.000472 seconds (3.37 k allocations: 434.016 KiB)\n",
      "  0.000480 seconds (3.37 k allocations: 434.016 KiB)\n",
      "  0.000469 seconds (3.37 k allocations: 434.016 KiB)\n",
      "  0.000475 seconds (3.37 k allocations: 434.016 KiB)\n",
      "  0.000469 seconds (3.37 k allocations: 434.016 KiB)\n",
      "  0.000471 seconds (3.37 k allocations: 434.016 KiB)\n",
      "  0.000471 seconds (3.37 k allocations: 434.016 KiB)\n",
      "  0.000466 seconds (3.37 k allocations: 434.016 KiB)\n",
      "  0.000469 seconds (3.37 k allocations: 434.016 KiB)\n",
      "  0.000532 seconds (3.37 k allocations: 434.016 KiB)\n",
      "  0.000474 seconds (3.37 k allocations: 434.016 KiB)\n",
      "  0.000485 seconds (3.37 k allocations: 434.016 KiB)\n",
      "  0.000476 seconds (3.37 k allocations: 434.016 KiB)\n",
      "  0.000474 seconds (3.37 k allocations: 434.016 KiB)\n",
      "  0.000476 seconds (3.37 k allocations: 434.016 KiB)\n",
      "  0.000469 seconds (3.37 k allocations: 434.016 KiB)\n",
      "  0.000472 seconds (3.37 k allocations: 434.016 KiB)\n",
      "  0.000480 seconds (3.37 k allocations: 434.016 KiB)\n",
      "  0.000470 seconds (3.37 k allocations: 434.016 KiB)\n",
      "  0.000935 seconds (6.57 k allocations: 843.203 KiB)\n",
      "  0.000932 seconds (6.57 k allocations: 843.203 KiB)\n",
      "  0.000473 seconds (3.37 k allocations: 434.016 KiB)\n",
      "  0.000468 seconds (3.37 k allocations: 434.016 KiB)\n",
      "  0.000488 seconds (3.37 k allocations: 434.016 KiB)\n",
      "  0.000473 seconds (3.37 k allocations: 434.016 KiB)\n",
      "  0.000468 seconds (3.37 k allocations: 434.016 KiB)\n",
      "  0.000470 seconds (3.37 k allocations: 434.016 KiB)\n",
      "  0.000475 seconds (3.37 k allocations: 434.016 KiB)\n",
      "  0.000468 seconds (3.37 k allocations: 434.016 KiB)\n",
      "  0.000473 seconds (3.37 k allocations: 434.016 KiB)\n",
      "  0.000473 seconds (3.37 k allocations: 434.016 KiB)\n",
      "  0.000482 seconds (3.37 k allocations: 434.016 KiB)\n",
      "  0.000469 seconds (3.37 k allocations: 434.016 KiB)\n",
      "  0.000473 seconds (3.37 k allocations: 434.016 KiB)\n",
      "  0.000466 seconds (3.37 k allocations: 434.016 KiB)\n",
      "  0.000463 seconds (3.37 k allocations: 434.016 KiB)\n",
      "  0.000459 seconds (3.37 k allocations: 434.016 KiB)\n",
      "  0.000468 seconds (3.37 k allocations: 434.016 KiB)\n",
      "  0.000461 seconds (3.37 k allocations: 434.016 KiB)\n",
      "  0.000464 seconds (3.37 k allocations: 434.016 KiB)\n",
      "  0.000459 seconds (3.37 k allocations: 434.016 KiB)\n",
      "  0.000901 seconds (6.57 k allocations: 844.203 KiB)\n",
      "  0.000462 seconds (3.37 k allocations: 434.016 KiB)\n",
      "  0.000458 seconds (3.37 k allocations: 434.016 KiB)\n",
      "  0.000905 seconds (6.59 k allocations: 844.578 KiB)\n",
      "  0.000907 seconds (6.60 k allocations: 845.047 KiB)\n",
      "  0.000902 seconds (6.60 k allocations: 845.047 KiB)\n",
      "  0.000900 seconds (6.58 k allocations: 844.516 KiB)\n",
      "  0.000896 seconds (6.60 k allocations: 845.234 KiB)\n",
      "  0.000905 seconds (6.60 k allocations: 845.359 KiB)\n",
      "  0.000894 seconds (6.58 k allocations: 844.734 KiB)\n",
      "  0.000895 seconds (6.57 k allocations: 844.422 KiB)\n",
      "  0.000902 seconds (6.60 k allocations: 845.453 KiB)\n",
      "  0.000894 seconds (6.58 k allocations: 844.516 KiB)\n",
      "  0.000904 seconds (6.60 k allocations: 845.547 KiB)\n",
      "  0.000895 seconds (6.59 k allocations: 844.828 KiB)\n",
      "  0.000903 seconds (6.60 k allocations: 845.047 KiB)\n",
      "  0.000900 seconds (6.58 k allocations: 844.391 KiB)\n",
      "  0.000901 seconds (6.58 k allocations: 844.516 KiB)\n",
      "  0.000900 seconds (6.59 k allocations: 844.922 KiB)\n",
      "  0.000900 seconds (6.58 k allocations: 844.391 KiB)\n",
      "  0.000903 seconds (6.58 k allocations: 844.297 KiB)\n",
      "  0.000923 seconds (6.57 k allocations: 843.984 KiB)\n",
      "  0.000904 seconds (6.57 k allocations: 844.078 KiB)\n",
      "  0.000903 seconds (6.57 k allocations: 843.984 KiB)\n",
      "  0.000906 seconds (6.58 k allocations: 844.297 KiB)\n",
      "  0.000903 seconds (6.56 k allocations: 843.766 KiB)\n",
      "  0.000905 seconds (6.59 k allocations: 844.391 KiB)\n",
      "  0.000906 seconds (6.59 k allocations: 844.391 KiB)\n",
      "  0.000899 seconds (6.55 k allocations: 843.016 KiB)\n",
      "  0.000908 seconds (6.59 k allocations: 843.953 KiB)\n",
      "  0.000906 seconds (6.57 k allocations: 843.547 KiB)\n",
      "  0.000910 seconds (6.58 k allocations: 844.172 KiB)\n",
      "  0.000903 seconds (6.57 k allocations: 843.766 KiB)\n",
      "  0.000912 seconds (6.59 k allocations: 844.484 KiB)\n",
      "  0.000917 seconds (6.59 k allocations: 844.672 KiB)\n",
      "  0.000907 seconds (6.59 k allocations: 844.172 KiB)\n",
      "  0.001068 seconds (6.59 k allocations: 843.953 KiB)\n",
      "  0.000919 seconds (6.58 k allocations: 843.828 KiB)\n",
      "  0.000971 seconds (6.57 k allocations: 843.422 KiB)\n",
      "  0.000918 seconds (6.57 k allocations: 843.328 KiB)\n",
      "  0.000910 seconds (6.59 k allocations: 843.953 KiB)\n",
      "  0.000903 seconds (6.59 k allocations: 843.953 KiB)\n",
      "  0.000910 seconds (6.58 k allocations: 843.641 KiB)\n",
      "  0.000916 seconds (6.58 k allocations: 843.516 KiB)\n",
      "  0.000905 seconds (6.56 k allocations: 842.984 KiB)\n",
      "  0.000903 seconds (6.57 k allocations: 843.422 KiB)\n",
      "  0.000899 seconds (6.57 k allocations: 843.203 KiB)\n",
      "  0.000914 seconds (6.58 k allocations: 843.516 KiB)\n",
      "  0.000900 seconds (6.57 k allocations: 843.297 KiB)\n",
      "  0.000904 seconds (6.57 k allocations: 843.297 KiB)\n",
      "  0.000902 seconds (6.57 k allocations: 843.297 KiB)\n",
      "  0.000943 seconds (6.56 k allocations: 842.891 KiB)\n",
      "  0.000905 seconds (6.57 k allocations: 842.984 KiB)\n",
      "  0.000901 seconds (6.57 k allocations: 842.984 KiB)\n",
      "  0.000898 seconds (6.58 k allocations: 843.297 KiB)\n",
      "  0.000462 seconds (3.37 k allocations: 434.016 KiB)\n",
      "  0.000469 seconds (3.37 k allocations: 434.016 KiB)\n",
      "  0.000463 seconds (3.37 k allocations: 434.016 KiB)\n",
      "  0.000463 seconds (3.37 k allocations: 434.016 KiB)\n",
      "  0.000466 seconds (3.37 k allocations: 434.016 KiB)\n",
      "  0.000465 seconds (3.37 k allocations: 434.016 KiB)\n",
      "  0.000465 seconds (3.37 k allocations: 434.016 KiB)\n",
      "  0.000464 seconds (3.37 k allocations: 434.016 KiB)\n",
      "  0.000464 seconds (3.37 k allocations: 434.016 KiB)\n",
      "  0.000479 seconds (3.37 k allocations: 434.016 KiB)\n",
      "  0.000464 seconds (3.37 k allocations: 434.016 KiB)\n",
      "  0.000467 seconds (3.37 k allocations: 434.016 KiB)\n",
      "  0.000465 seconds (3.37 k allocations: 434.016 KiB)\n",
      "  0.000464 seconds (3.37 k allocations: 434.016 KiB)\n",
      "  0.000466 seconds (3.37 k allocations: 434.016 KiB)\n",
      "  0.000487 seconds (3.37 k allocations: 434.016 KiB)\n",
      "  0.000469 seconds (3.37 k allocations: 434.016 KiB)\n",
      "  0.000470 seconds (3.37 k allocations: 434.016 KiB)\n",
      "  0.000464 seconds (3.37 k allocations: 434.016 KiB)\n",
      "  0.000467 seconds (3.37 k allocations: 434.016 KiB)\n",
      "  0.000466 seconds (3.37 k allocations: 434.016 KiB)\n",
      "  0.000465 seconds (3.37 k allocations: 434.016 KiB)\n",
      "  0.000463 seconds (3.37 k allocations: 434.016 KiB)\n",
      "  0.000463 seconds (3.37 k allocations: 434.016 KiB)\n",
      "  0.000469 seconds (3.37 k allocations: 434.016 KiB)\n",
      "  0.000474 seconds (3.37 k allocations: 434.016 KiB)\n",
      "  0.000467 seconds (3.37 k allocations: 434.016 KiB)\n",
      "  0.000466 seconds (3.37 k allocations: 434.016 KiB)\n",
      "  0.000469 seconds (3.37 k allocations: 434.016 KiB)\n",
      "  0.000464 seconds (3.37 k allocations: 434.016 KiB)\n",
      "  0.000464 seconds (3.37 k allocations: 434.016 KiB)\n",
      "  0.000463 seconds (3.37 k allocations: 434.016 KiB)\n",
      "  0.000463 seconds (3.37 k allocations: 434.016 KiB)\n",
      "  0.000485 seconds (3.37 k allocations: 434.016 KiB)\n",
      "  0.000468 seconds (3.37 k allocations: 434.016 KiB)\n",
      "  0.000464 seconds (3.37 k allocations: 434.016 KiB)\n",
      "  0.000466 seconds (3.37 k allocations: 434.016 KiB)\n",
      "  0.000463 seconds (3.37 k allocations: 434.016 KiB)\n",
      "  0.000461 seconds (3.37 k allocations: 434.016 KiB)\n",
      "  0.000465 seconds (3.37 k allocations: 434.016 KiB)\n",
      "  0.000468 seconds (3.37 k allocations: 434.016 KiB)\n",
      "  0.000471 seconds (3.37 k allocations: 434.016 KiB)\n",
      "  0.000465 seconds (3.37 k allocations: 434.016 KiB)\n",
      "  0.000468 seconds (3.37 k allocations: 434.016 KiB)\n",
      "  0.000460 seconds (3.37 k allocations: 434.016 KiB)\n",
      "  0.000461 seconds (3.37 k allocations: 434.016 KiB)\n",
      "  0.000461 seconds (3.37 k allocations: 434.016 KiB)\n",
      "  0.000461 seconds (3.37 k allocations: 434.016 KiB)\n",
      "  0.000461 seconds (3.37 k allocations: 434.016 KiB)\n",
      "  0.000463 seconds (3.37 k allocations: 434.016 KiB)\n",
      "  0.000461 seconds (3.37 k allocations: 434.016 KiB)\n",
      "  0.000462 seconds (3.37 k allocations: 434.016 KiB)\n",
      "  0.000463 seconds (3.37 k allocations: 434.016 KiB)\n",
      "  0.000461 seconds (3.37 k allocations: 434.016 KiB)\n",
      "  0.000476 seconds (3.37 k allocations: 434.016 KiB)\n",
      "  0.000499 seconds (3.37 k allocations: 434.016 KiB)\n",
      "  0.000464 seconds (3.37 k allocations: 434.016 KiB)\n",
      "  0.000547 seconds (3.37 k allocations: 434.016 KiB)\n",
      "  0.000464 seconds (3.37 k allocations: 434.016 KiB)\n",
      "  0.000468 seconds (3.37 k allocations: 434.016 KiB)\n",
      "  0.000493 seconds (3.37 k allocations: 434.016 KiB)\n",
      "  0.000487 seconds (3.37 k allocations: 434.016 KiB)\n",
      "  0.000646 seconds (3.37 k allocations: 434.016 KiB)\n",
      "  0.000555 seconds (3.37 k allocations: 434.016 KiB)\n",
      "  0.000630 seconds (3.37 k allocations: 434.016 KiB)\n",
      "  0.000597 seconds (3.37 k allocations: 434.016 KiB)\n",
      "  0.000606 seconds (3.37 k allocations: 434.016 KiB)\n",
      "  0.000617 seconds (3.37 k allocations: 434.016 KiB)\n",
      "  0.000611 seconds (3.37 k allocations: 434.016 KiB)\n",
      "  0.000623 seconds (3.37 k allocations: 434.016 KiB)\n",
      "  0.000668 seconds (3.37 k allocations: 434.016 KiB)\n",
      "  0.000680 seconds (3.37 k allocations: 434.016 KiB)\n",
      "  0.000617 seconds (3.37 k allocations: 434.016 KiB)\n",
      "  0.000614 seconds (3.37 k allocations: 434.016 KiB)\n",
      "  0.000610 seconds (3.37 k allocations: 434.016 KiB)\n",
      "  0.000617 seconds (3.37 k allocations: 434.016 KiB)\n",
      "  0.000674 seconds (3.37 k allocations: 434.016 KiB)\n",
      "  0.001243 seconds (3.37 k allocations: 434.016 KiB)\n",
      "  0.001176 seconds (3.37 k allocations: 434.016 KiB)\n",
      "  0.001203 seconds (3.37 k allocations: 434.016 KiB)\n",
      "  0.001147 seconds (3.37 k allocations: 434.016 KiB)\n",
      "  0.000681 seconds (3.37 k allocations: 434.016 KiB)\n",
      "  0.000624 seconds (3.37 k allocations: 434.016 KiB)\n",
      "  0.000609 seconds (3.37 k allocations: 434.016 KiB)\n",
      "  0.000724 seconds (3.37 k allocations: 434.016 KiB)\n",
      "  0.000625 seconds (3.37 k allocations: 434.016 KiB)\n",
      "  0.000615 seconds (3.37 k allocations: 434.016 KiB)\n",
      "  0.000618 seconds (3.37 k allocations: 434.016 KiB)\n",
      "  0.000619 seconds (3.37 k allocations: 434.016 KiB)\n",
      "  0.000641 seconds (3.37 k allocations: 434.016 KiB)\n",
      "  0.000626 seconds (3.37 k allocations: 434.016 KiB)\n",
      "  0.000617 seconds (3.37 k allocations: 434.016 KiB)\n",
      "  0.020692 seconds (3.37 k allocations: 434.016 KiB, 97.20% gc time)\n",
      "  0.000479 seconds (3.37 k allocations: 434.016 KiB)\n",
      "  0.000473 seconds (3.37 k allocations: 434.016 KiB)\n",
      "  0.000470 seconds (3.37 k allocations: 434.016 KiB)\n",
      "  0.000468 seconds (3.37 k allocations: 434.016 KiB)\n",
      "  0.000471 seconds (3.37 k allocations: 434.016 KiB)\n",
      "  0.000465 seconds (3.37 k allocations: 434.016 KiB)\n",
      "  0.000464 seconds (3.37 k allocations: 434.016 KiB)\n",
      "  0.000506 seconds (3.37 k allocations: 434.016 KiB)\n",
      "  0.000462 seconds (3.37 k allocations: 434.016 KiB)\n",
      "  0.000463 seconds (3.37 k allocations: 434.016 KiB)\n",
      "  0.000461 seconds (3.37 k allocations: 434.016 KiB)\n",
      "  0.000460 seconds (3.37 k allocations: 434.016 KiB)\n",
      "  0.000510 seconds (3.37 k allocations: 434.016 KiB)\n",
      "  0.000464 seconds (3.37 k allocations: 434.016 KiB)\n",
      "  0.000468 seconds (3.37 k allocations: 434.016 KiB)\n",
      "  0.000466 seconds (3.37 k allocations: 434.016 KiB)\n",
      "  0.000460 seconds (3.37 k allocations: 434.016 KiB)\n",
      "  0.000461 seconds (3.37 k allocations: 434.016 KiB)\n",
      "  0.000464 seconds (3.37 k allocations: 434.016 KiB)\n",
      "  0.000473 seconds (3.37 k allocations: 434.016 KiB)\n",
      "  0.000465 seconds (3.37 k allocations: 434.016 KiB)\n",
      "  0.000461 seconds (3.37 k allocations: 434.016 KiB)\n",
      "  0.000464 seconds (3.37 k allocations: 434.016 KiB)\n",
      "  0.000465 seconds (3.37 k allocations: 434.016 KiB)\n",
      "  0.000474 seconds (3.37 k allocations: 434.016 KiB)\n",
      "  0.000461 seconds (3.37 k allocations: 434.016 KiB)\n",
      "  0.000458 seconds (3.37 k allocations: 434.016 KiB)\n",
      "  0.000460 seconds (3.37 k allocations: 434.016 KiB)\n",
      "  0.000465 seconds (3.37 k allocations: 434.016 KiB)\n",
      "  0.000461 seconds (3.37 k allocations: 434.016 KiB)\n",
      "  0.000459 seconds (3.37 k allocations: 434.016 KiB)\n",
      "  0.000461 seconds (3.37 k allocations: 434.016 KiB)\n",
      "  0.000461 seconds (3.37 k allocations: 434.016 KiB)\n",
      "  0.000458 seconds (3.37 k allocations: 434.016 KiB)\n",
      "  0.000459 seconds (3.37 k allocations: 434.016 KiB)\n",
      "  0.000458 seconds (3.37 k allocations: 434.016 KiB)\n",
      "  0.000460 seconds (3.37 k allocations: 434.016 KiB)\n",
      "  0.000470 seconds (3.37 k allocations: 434.016 KiB)\n",
      "  0.000458 seconds (3.37 k allocations: 434.016 KiB)\n",
      "  0.000468 seconds (3.37 k allocations: 434.016 KiB)\n",
      "  0.000469 seconds (3.37 k allocations: 434.016 KiB)\n",
      "  0.000459 seconds (3.37 k allocations: 434.016 KiB)\n",
      "  0.000469 seconds (3.37 k allocations: 434.016 KiB)\n",
      "  0.000463 seconds (3.37 k allocations: 434.016 KiB)\n",
      "  0.000467 seconds (3.37 k allocations: 434.016 KiB)\n",
      "  0.000489 seconds (3.37 k allocations: 434.016 KiB)\n",
      "  0.000472 seconds (3.37 k allocations: 434.016 KiB)\n",
      "  0.000463 seconds (3.37 k allocations: 434.016 KiB)\n",
      "  0.000462 seconds (3.37 k allocations: 434.016 KiB)\n",
      "  0.000466 seconds (3.37 k allocations: 434.016 KiB)\n",
      "  0.000460 seconds (3.37 k allocations: 434.016 KiB)\n",
      "  0.000457 seconds (3.37 k allocations: 434.016 KiB)\n",
      "  0.000464 seconds (3.37 k allocations: 434.016 KiB)\n",
      "  0.000536 seconds (3.37 k allocations: 434.016 KiB)\n",
      "  0.000465 seconds (3.37 k allocations: 434.016 KiB)\n",
      "  0.000459 seconds (3.37 k allocations: 434.016 KiB)\n",
      "  0.000466 seconds (3.37 k allocations: 434.016 KiB)\n",
      "  0.000458 seconds (3.37 k allocations: 434.016 KiB)\n",
      "  0.000458 seconds (3.37 k allocations: 434.016 KiB)\n",
      "  0.000460 seconds (3.37 k allocations: 434.016 KiB)\n",
      "  0.000459 seconds (3.37 k allocations: 434.016 KiB)\n",
      "  0.000472 seconds (3.37 k allocations: 434.016 KiB)\n",
      "  0.000456 seconds (3.37 k allocations: 434.016 KiB)\n",
      "  0.000469 seconds (3.37 k allocations: 434.016 KiB)\n",
      "  0.000456 seconds (3.37 k allocations: 434.016 KiB)\n",
      "  0.000466 seconds (3.37 k allocations: 434.016 KiB)\n",
      "  0.000459 seconds (3.37 k allocations: 434.016 KiB)\n",
      "  0.000458 seconds (3.37 k allocations: 434.016 KiB)\n",
      "  0.000463 seconds (3.37 k allocations: 434.016 KiB)\n",
      "  0.000469 seconds (3.37 k allocations: 434.016 KiB)\n",
      "  0.000465 seconds (3.37 k allocations: 434.016 KiB)\n",
      "  0.000458 seconds (3.37 k allocations: 434.016 KiB)\n",
      "  0.000467 seconds (3.37 k allocations: 434.016 KiB)\n",
      "  0.000459 seconds (3.37 k allocations: 434.016 KiB)\n",
      "  0.000463 seconds (3.37 k allocations: 434.016 KiB)\n",
      "  0.000468 seconds (3.37 k allocations: 434.016 KiB)\n",
      "  0.000458 seconds (3.37 k allocations: 434.016 KiB)\n",
      "  0.000473 seconds (3.37 k allocations: 434.016 KiB)\n",
      "  0.000457 seconds (3.37 k allocations: 434.016 KiB)\n",
      "  0.000461 seconds (3.37 k allocations: 434.016 KiB)\n",
      "  0.000467 seconds (3.37 k allocations: 434.016 KiB)\n",
      "  0.000457 seconds (3.37 k allocations: 434.016 KiB)\n",
      "  0.000457 seconds (3.37 k allocations: 434.016 KiB)\n",
      "  0.000464 seconds (3.37 k allocations: 434.016 KiB)\n",
      "  0.000464 seconds (3.37 k allocations: 434.016 KiB)\n",
      "  0.000476 seconds (3.37 k allocations: 434.016 KiB)\n",
      "  0.000465 seconds (3.37 k allocations: 434.016 KiB)\n",
      "  0.000461 seconds (3.37 k allocations: 434.016 KiB)\n"
     ]
    }
   ],
   "source": [
    "# @changeprecision Float32 begin\n",
    "### MPC style with other solver ###\n",
    "include(\"mpc_JuMP.jl\")\n",
    "\n",
    "Nsim = 301\n",
    "Nh = 21\n",
    "t_vec = dt*(0:Nsim-1)\n",
    "\n",
    "x0 = [4, 2, 20, -3, 2, -5.0]  # initial plan\n",
    "# x0 = [5, 2, 21, -3, 2, -5.0]  # change this!\n",
    "# x0 = [4.4, 2.2, 20.2, -3.03, 2.02, -5.05]\n",
    "\n",
    "xg = [0,0,0,0,0,0.0]\n",
    "Q = 100e-1*I(nx)  # make this higher!\n",
    "R = 1e-1*I(nu)\n",
    "Qf = 100*I(nx) # change this!\n",
    "θ_thrust_max = 5.0  # increase max thrust from plan!\n",
    "\n",
    "# state is x y v θ\n",
    "x_min = [-5,-5,0,-10,-10,-10.0]\n",
    "x_max = [5,5,20,10,10,10.0]\n",
    "\n",
    "ncx = 2*nx*0\n",
    "ncu = 2*nu*0\n",
    "ncg = 0\n",
    "ncu_cone = nu*1; \n",
    "cone_scale = 1e0\n",
    "\n",
    "params = (\n",
    "    nx = nx,\n",
    "    nu = nu,\n",
    "    ncx = ncx,\n",
    "    ncu = ncu,\n",
    "    ncg = ncg,\n",
    "    ncu_cone = ncu_cone,\n",
    "    A_cone = A_cone,\n",
    "    c_cone = c_cone,\n",
    "    N = Nh,\n",
    "    Q = Q,\n",
    "    R = R,\n",
    "    Qf = Qf,\n",
    "    u_min = u_min,\n",
    "    u_max = u_max,\n",
    "    x_min = x_min,\n",
    "    x_max = x_max,\n",
    "    Xref = Xref,\n",
    "    Uref = Uref,\n",
    "    dt = dt,\n",
    "    mc = 1.0,\n",
    "    mp = 0.2,\n",
    "    l = 0.5,\n",
    "    g = 9.81,\n",
    ");\n",
    "\n",
    "Xhist = [deepcopy(x0) for i = 1:Nsim]\n",
    "Uhist = [-mass * gravity for k = 1:Nsim-1]\n",
    "# previous iterate\n",
    "X = [deepcopy(x0) for i = 1:Nh]\n",
    "U = [-mass * gravity for k = 1:Nh-1]\n",
    "\n",
    "# new iterate\n",
    "Xn = deepcopy(X)\n",
    "Un = deepcopy(U)\n",
    "\n",
    "P = [zeros(nx,nx) for i = 1:Nh]   # cost to go quadratic term\n",
    "p = [zeros(nx) for i = 1:Nh]      # cost to go linear term\n",
    "d = [zeros(nu) for i = 1:Nh-1]    # feedforward control\n",
    "K = [zeros(nu,nx) for i = 1:Nh-1] # feedback gain\n",
    "\n",
    "optimizer = JuMP.optimizer_with_attributes(COSMO.Optimizer{Float64},\n",
    "    \"verbose\"=>false,\n",
    "    \"eps_abs\"=>1e-4,\n",
    "    \"eps_rel\"=>1e-4,\n",
    "    \"rho\"=>1e-2,\n",
    "    \"scaling\"=>0,\n",
    "    \"alpha\"=>1.0)\n",
    "Random.seed!(1);\n",
    "for i = 1:Nsim-Nh-1\n",
    "    params1 = (; params..., Uref = Uref[i:Nh+i], Xref = Xref[i:Nh+i-1])  # update ref\n",
    "    \n",
    "    pos_norm = norm(Xhist[i][1:3], Inf) / 100 # 1% noise\n",
    "    vel_norm = norm(Xhist[4:6], Inf) / 1e6 # 1ppm noise\n",
    "    noise_pos = randn(3)\n",
    "    noise_vel = randn(3)\n",
    "    Xhist[i] += [noise_pos * pos_norm; noise_vel * vel_norm]\n",
    "    X[1] .= Xhist[i]; \n",
    "\n",
    "    # X = [Xhist[i] for i = 1:Nh]  # reset, avoid warm-staring\n",
    "    # U = [-mass * gravity for k = 1:Nh-1]\n",
    "    \n",
    "    # Uhist[i] = mpc_JuMP(optimizer, params1, X, U, A, B, f; warm_start=true)  # JuMP DOESN'T SUPPORT FLOAT32\n",
    "    @time Uhist[i] = mpc(params1,X,U,P,p,K,d,Xn,Un;atol=1e-4,max_iters = 10,verbose = false,ρ = 10, ρ_max = 1e8, ϕ = 10.0) \n",
    "    # Uhist[i] = mpc(params1,X,U,P,p,K,d,Xn,Un;atol=1e-4,max_iters = 10,verbose = false,ρ = 10, ρ_max = 1e8, ϕ = 10.0) \n",
    "    \n",
    "    Xhist[i+1] = discrete_dynamics(params1,Xhist[i],Uhist[i],i)  # dynamics\n",
    "end\n",
    "# end"
   ]
  },
  {
   "cell_type": "markdown",
   "id": "4a1732ad-eb0e-48b4-8896-73a7e8b9997c",
   "metadata": {},
   "source": [
    "1. COSMO gives better tracking results. Warm-start doesn't help much. Some cone is positive (within tol), closer to zero, better cone exploitation.\n",
    "2. Ours always need warm-start, will soon converge to tight tolerance (1-2 iters) if well warm-started."
   ]
  },
  {
   "cell_type": "code",
   "execution_count": 172,
   "id": "d651f59e-e700-4bc9-927c-98835f2679f4",
   "metadata": {},
   "outputs": [
    {
     "data": {
      "text/plain": [
       "-0.3461914f0"
      ]
     },
     "metadata": {},
     "output_type": "display_data"
    },
    {
     "data": {
      "text/plain": [
       "-5.393961f0"
      ]
     },
     "metadata": {},
     "output_type": "display_data"
    },
    {
     "data": {
      "text/plain": [
       "-6.0882587f0"
      ]
     },
     "metadata": {},
     "output_type": "display_data"
    },
    {
     "data": {
      "text/plain": [
       "-6.76464f0"
      ]
     },
     "metadata": {},
     "output_type": "display_data"
    },
    {
     "data": {
      "text/plain": [
       "-4.9296265f0"
      ]
     },
     "metadata": {},
     "output_type": "display_data"
    },
    {
     "data": {
      "text/plain": [
       "-6.0653276f0"
      ]
     },
     "metadata": {},
     "output_type": "display_data"
    },
    {
     "data": {
      "text/plain": [
       "-6.481185f0"
      ]
     },
     "metadata": {},
     "output_type": "display_data"
    },
    {
     "data": {
      "text/plain": [
       "-5.941127f0"
      ]
     },
     "metadata": {},
     "output_type": "display_data"
    },
    {
     "data": {
      "text/plain": [
       "-3.92206f0"
      ]
     },
     "metadata": {},
     "output_type": "display_data"
    },
    {
     "data": {
      "text/plain": [
       "-4.1134143f0"
      ]
     },
     "metadata": {},
     "output_type": "display_data"
    },
    {
     "data": {
      "text/plain": [
       "-2.3936033f0"
      ]
     },
     "metadata": {},
     "output_type": "display_data"
    },
    {
     "data": {
      "text/plain": [
       "-0.15050316f0"
      ]
     },
     "metadata": {},
     "output_type": "display_data"
    },
    {
     "data": {
      "text/plain": [
       "-2.2682114f0"
      ]
     },
     "metadata": {},
     "output_type": "display_data"
    },
    {
     "data": {
      "text/plain": [
       "-4.920469f0"
      ]
     },
     "metadata": {},
     "output_type": "display_data"
    },
    {
     "data": {
      "text/plain": [
       "-5.7321725f0"
      ]
     },
     "metadata": {},
     "output_type": "display_data"
    },
    {
     "data": {
      "text/plain": [
       "-5.468066f0"
      ]
     },
     "metadata": {},
     "output_type": "display_data"
    },
    {
     "data": {
      "text/plain": [
       "-5.8019605f0"
      ]
     },
     "metadata": {},
     "output_type": "display_data"
    },
    {
     "data": {
      "text/plain": [
       "-3.6860495f0"
      ]
     },
     "metadata": {},
     "output_type": "display_data"
    },
    {
     "data": {
      "text/plain": [
       "-3.4870481f0"
      ]
     },
     "metadata": {},
     "output_type": "display_data"
    },
    {
     "data": {
      "text/plain": [
       "-3.9803524f0"
      ]
     },
     "metadata": {},
     "output_type": "display_data"
    },
    {
     "data": {
      "text/plain": [
       "-2.349163f0"
      ]
     },
     "metadata": {},
     "output_type": "display_data"
    },
    {
     "data": {
      "text/plain": [
       "-3.043148f0"
      ]
     },
     "metadata": {},
     "output_type": "display_data"
    },
    {
     "data": {
      "text/plain": [
       "-3.3951406f0"
      ]
     },
     "metadata": {},
     "output_type": "display_data"
    },
    {
     "data": {
      "text/plain": [
       "-3.0257478f0"
      ]
     },
     "metadata": {},
     "output_type": "display_data"
    },
    {
     "data": {
      "text/plain": [
       "-2.047697f0"
      ]
     },
     "metadata": {},
     "output_type": "display_data"
    },
    {
     "data": {
      "text/plain": [
       "-1.6703749f0"
      ]
     },
     "metadata": {},
     "output_type": "display_data"
    },
    {
     "data": {
      "text/plain": [
       "-1.4580851f0"
      ]
     },
     "metadata": {},
     "output_type": "display_data"
    },
    {
     "data": {
      "text/plain": [
       "-1.6150274f0"
      ]
     },
     "metadata": {},
     "output_type": "display_data"
    },
    {
     "data": {
      "text/plain": [
       "-1.4857779f0"
      ]
     },
     "metadata": {},
     "output_type": "display_data"
    },
    {
     "data": {
      "text/plain": [
       "-2.466989f0"
      ]
     },
     "metadata": {},
     "output_type": "display_data"
    },
    {
     "name": "stdout",
     "output_type": "stream",
     "text": [
      "SATISFY CONE"
     ]
    }
   ],
   "source": [
    "# Check conic violation\n",
    "convio = 0.0\n",
    "for k = 1:30#Nsim-1\n",
    "    Uc = cone_u(params, Uhist[k])\n",
    "    huc = norm(Uc[1:2]) - Uc[3]\n",
    "    convio = max(convio, norm(huc + abs.(huc),Inf))\n",
    "    display(huc) # should <= 0\n",
    "end\n",
    "convio == 0 && print(\"SATISFY CONE\")"
   ]
  },
  {
   "cell_type": "code",
   "execution_count": 231,
   "id": "ffaab90d-dddc-4512-8c8b-4561cd053fdf",
   "metadata": {},
   "outputs": [
    {
     "name": "stdout",
     "output_type": "stream",
     "text": [
      "traj_error = maximum(norm.(e_sim_m, Inf)) = 2.1161908855391536\n"
     ]
    },
    {
     "data": {
      "image/svg+xml": [
       "<?xml version=\"1.0\" encoding=\"utf-8\"?>\n",
       "<svg xmlns=\"http://www.w3.org/2000/svg\" xmlns:xlink=\"http://www.w3.org/1999/xlink\" width=\"600\" height=\"400\" viewBox=\"0 0 2400 1600\">\n",
       "<defs>\n",
       "  <clipPath id=\"clip540\">\n",
       "    <rect x=\"0\" y=\"0\" width=\"2400\" height=\"1600\"/>\n",
       "  </clipPath>\n",
       "</defs>\n",
       "<path clip-path=\"url(#clip540)\" d=\"M0 1600 L2400 1600 L2400 0 L0 0  Z\" fill=\"#ffffff\" fill-rule=\"evenodd\" fill-opacity=\"1\"/>\n",
       "<defs>\n",
       "  <clipPath id=\"clip541\">\n",
       "    <rect x=\"480\" y=\"0\" width=\"1681\" height=\"1600\"/>\n",
       "  </clipPath>\n",
       "</defs>\n",
       "<path clip-path=\"url(#clip540)\" d=\"M256.209 1423.18 L2352.76 1423.18 L2352.76 123.472 L256.209 123.472  Z\" fill=\"#ffffff\" fill-rule=\"evenodd\" fill-opacity=\"1\"/>\n",
       "<defs>\n",
       "  <clipPath id=\"clip542\">\n",
       "    <rect x=\"256\" y=\"123\" width=\"2098\" height=\"1301\"/>\n",
       "  </clipPath>\n",
       "</defs>\n",
       "<polyline clip-path=\"url(#clip542)\" style=\"stroke:#000000; stroke-linecap:round; stroke-linejoin:round; stroke-width:2; stroke-opacity:0.1; fill:none\" points=\"315.545,1423.18 315.545,123.472 \"/>\n",
       "<polyline clip-path=\"url(#clip542)\" style=\"stroke:#000000; stroke-linecap:round; stroke-linejoin:round; stroke-width:2; stroke-opacity:0.1; fill:none\" points=\"670.003,1423.18 670.003,123.472 \"/>\n",
       "<polyline clip-path=\"url(#clip542)\" style=\"stroke:#000000; stroke-linecap:round; stroke-linejoin:round; stroke-width:2; stroke-opacity:0.1; fill:none\" points=\"1024.46,1423.18 1024.46,123.472 \"/>\n",
       "<polyline clip-path=\"url(#clip542)\" style=\"stroke:#000000; stroke-linecap:round; stroke-linejoin:round; stroke-width:2; stroke-opacity:0.1; fill:none\" points=\"1378.92,1423.18 1378.92,123.472 \"/>\n",
       "<polyline clip-path=\"url(#clip542)\" style=\"stroke:#000000; stroke-linecap:round; stroke-linejoin:round; stroke-width:2; stroke-opacity:0.1; fill:none\" points=\"1733.38,1423.18 1733.38,123.472 \"/>\n",
       "<polyline clip-path=\"url(#clip542)\" style=\"stroke:#000000; stroke-linecap:round; stroke-linejoin:round; stroke-width:2; stroke-opacity:0.1; fill:none\" points=\"2087.83,1423.18 2087.83,123.472 \"/>\n",
       "<polyline clip-path=\"url(#clip540)\" style=\"stroke:#000000; stroke-linecap:round; stroke-linejoin:round; stroke-width:4; stroke-opacity:1; fill:none\" points=\"256.209,1423.18 2352.76,1423.18 \"/>\n",
       "<polyline clip-path=\"url(#clip540)\" style=\"stroke:#000000; stroke-linecap:round; stroke-linejoin:round; stroke-width:4; stroke-opacity:1; fill:none\" points=\"315.545,1423.18 315.545,1404.28 \"/>\n",
       "<polyline clip-path=\"url(#clip540)\" style=\"stroke:#000000; stroke-linecap:round; stroke-linejoin:round; stroke-width:4; stroke-opacity:1; fill:none\" points=\"670.003,1423.18 670.003,1404.28 \"/>\n",
       "<polyline clip-path=\"url(#clip540)\" style=\"stroke:#000000; stroke-linecap:round; stroke-linejoin:round; stroke-width:4; stroke-opacity:1; fill:none\" points=\"1024.46,1423.18 1024.46,1404.28 \"/>\n",
       "<polyline clip-path=\"url(#clip540)\" style=\"stroke:#000000; stroke-linecap:round; stroke-linejoin:round; stroke-width:4; stroke-opacity:1; fill:none\" points=\"1378.92,1423.18 1378.92,1404.28 \"/>\n",
       "<polyline clip-path=\"url(#clip540)\" style=\"stroke:#000000; stroke-linecap:round; stroke-linejoin:round; stroke-width:4; stroke-opacity:1; fill:none\" points=\"1733.38,1423.18 1733.38,1404.28 \"/>\n",
       "<polyline clip-path=\"url(#clip540)\" style=\"stroke:#000000; stroke-linecap:round; stroke-linejoin:round; stroke-width:4; stroke-opacity:1; fill:none\" points=\"2087.83,1423.18 2087.83,1404.28 \"/>\n",
       "<path clip-path=\"url(#clip540)\" d=\"M292.929 1454.1 Q289.318 1454.1 287.49 1457.66 Q285.684 1461.2 285.684 1468.33 Q285.684 1475.44 287.49 1479.01 Q289.318 1482.55 292.929 1482.55 Q296.564 1482.55 298.369 1479.01 Q300.198 1475.44 300.198 1468.33 Q300.198 1461.2 298.369 1457.66 Q296.564 1454.1 292.929 1454.1 M292.929 1450.39 Q298.739 1450.39 301.795 1455 Q304.874 1459.58 304.874 1468.33 Q304.874 1477.06 301.795 1481.67 Q298.739 1486.25 292.929 1486.25 Q287.119 1486.25 284.04 1481.67 Q280.985 1477.06 280.985 1468.33 Q280.985 1459.58 284.04 1455 Q287.119 1450.39 292.929 1450.39 Z\" fill=\"#000000\" fill-rule=\"evenodd\" fill-opacity=\"1\" /><path clip-path=\"url(#clip540)\" d=\"M313.091 1479.7 L317.975 1479.7 L317.975 1485.58 L313.091 1485.58 L313.091 1479.7 Z\" fill=\"#000000\" fill-rule=\"evenodd\" fill-opacity=\"1\" /><path clip-path=\"url(#clip540)\" d=\"M338.161 1454.1 Q334.549 1454.1 332.721 1457.66 Q330.915 1461.2 330.915 1468.33 Q330.915 1475.44 332.721 1479.01 Q334.549 1482.55 338.161 1482.55 Q341.795 1482.55 343.6 1479.01 Q345.429 1475.44 345.429 1468.33 Q345.429 1461.2 343.6 1457.66 Q341.795 1454.1 338.161 1454.1 M338.161 1450.39 Q343.971 1450.39 347.026 1455 Q350.105 1459.58 350.105 1468.33 Q350.105 1477.06 347.026 1481.67 Q343.971 1486.25 338.161 1486.25 Q332.35 1486.25 329.272 1481.67 Q326.216 1477.06 326.216 1468.33 Q326.216 1459.58 329.272 1455 Q332.35 1450.39 338.161 1450.39 Z\" fill=\"#000000\" fill-rule=\"evenodd\" fill-opacity=\"1\" /><path clip-path=\"url(#clip540)\" d=\"M641.739 1481.64 L658.058 1481.64 L658.058 1485.58 L636.114 1485.58 L636.114 1481.64 Q638.776 1478.89 643.359 1474.26 Q647.966 1469.61 649.146 1468.27 Q651.392 1465.74 652.271 1464.01 Q653.174 1462.25 653.174 1460.56 Q653.174 1457.8 651.23 1456.07 Q649.308 1454.33 646.207 1454.33 Q644.008 1454.33 641.554 1455.09 Q639.123 1455.86 636.346 1457.41 L636.346 1452.69 Q639.17 1451.55 641.623 1450.97 Q644.077 1450.39 646.114 1450.39 Q651.484 1450.39 654.679 1453.08 Q657.873 1455.77 657.873 1460.26 Q657.873 1462.39 657.063 1464.31 Q656.276 1466.2 654.17 1468.8 Q653.591 1469.47 650.489 1472.69 Q647.387 1475.88 641.739 1481.64 Z\" fill=\"#000000\" fill-rule=\"evenodd\" fill-opacity=\"1\" /><path clip-path=\"url(#clip540)\" d=\"M667.873 1479.7 L672.757 1479.7 L672.757 1485.58 L667.873 1485.58 L667.873 1479.7 Z\" fill=\"#000000\" fill-rule=\"evenodd\" fill-opacity=\"1\" /><path clip-path=\"url(#clip540)\" d=\"M682.989 1451.02 L701.345 1451.02 L701.345 1454.96 L687.271 1454.96 L687.271 1463.43 Q688.29 1463.08 689.308 1462.92 Q690.327 1462.73 691.345 1462.73 Q697.132 1462.73 700.512 1465.9 Q703.891 1469.08 703.891 1474.49 Q703.891 1480.07 700.419 1483.17 Q696.947 1486.25 690.628 1486.25 Q688.452 1486.25 686.183 1485.88 Q683.938 1485.51 681.53 1484.77 L681.53 1480.07 Q683.614 1481.2 685.836 1481.76 Q688.058 1482.32 690.535 1482.32 Q694.54 1482.32 696.878 1480.21 Q699.216 1478.1 699.216 1474.49 Q699.216 1470.88 696.878 1468.77 Q694.54 1466.67 690.535 1466.67 Q688.66 1466.67 686.785 1467.08 Q684.933 1467.5 682.989 1468.38 L682.989 1451.02 Z\" fill=\"#000000\" fill-rule=\"evenodd\" fill-opacity=\"1\" /><path clip-path=\"url(#clip540)\" d=\"M991.625 1451.02 L1009.98 1451.02 L1009.98 1454.96 L995.908 1454.96 L995.908 1463.43 Q996.926 1463.08 997.945 1462.92 Q998.963 1462.73 999.982 1462.73 Q1005.77 1462.73 1009.15 1465.9 Q1012.53 1469.08 1012.53 1474.49 Q1012.53 1480.07 1009.06 1483.17 Q1005.58 1486.25 999.264 1486.25 Q997.088 1486.25 994.82 1485.88 Q992.574 1485.51 990.167 1484.77 L990.167 1480.07 Q992.25 1481.2 994.472 1481.76 Q996.695 1482.32 999.171 1482.32 Q1003.18 1482.32 1005.51 1480.21 Q1007.85 1478.1 1007.85 1474.49 Q1007.85 1470.88 1005.51 1468.77 Q1003.18 1466.67 999.171 1466.67 Q997.296 1466.67 995.421 1467.08 Q993.57 1467.5 991.625 1468.38 L991.625 1451.02 Z\" fill=\"#000000\" fill-rule=\"evenodd\" fill-opacity=\"1\" /><path clip-path=\"url(#clip540)\" d=\"M1021.74 1479.7 L1026.62 1479.7 L1026.62 1485.58 L1021.74 1485.58 L1021.74 1479.7 Z\" fill=\"#000000\" fill-rule=\"evenodd\" fill-opacity=\"1\" /><path clip-path=\"url(#clip540)\" d=\"M1046.81 1454.1 Q1043.2 1454.1 1041.37 1457.66 Q1039.56 1461.2 1039.56 1468.33 Q1039.56 1475.44 1041.37 1479.01 Q1043.2 1482.55 1046.81 1482.55 Q1050.44 1482.55 1052.25 1479.01 Q1054.08 1475.44 1054.08 1468.33 Q1054.08 1461.2 1052.25 1457.66 Q1050.44 1454.1 1046.81 1454.1 M1046.81 1450.39 Q1052.62 1450.39 1055.68 1455 Q1058.75 1459.58 1058.75 1468.33 Q1058.75 1477.06 1055.68 1481.67 Q1052.62 1486.25 1046.81 1486.25 Q1041 1486.25 1037.92 1481.67 Q1034.87 1477.06 1034.87 1468.33 Q1034.87 1459.58 1037.92 1455 Q1041 1450.39 1046.81 1450.39 Z\" fill=\"#000000\" fill-rule=\"evenodd\" fill-opacity=\"1\" /><path clip-path=\"url(#clip540)\" d=\"M1345.24 1451.02 L1367.46 1451.02 L1367.46 1453.01 L1354.91 1485.58 L1350.03 1485.58 L1361.84 1454.96 L1345.24 1454.96 L1345.24 1451.02 Z\" fill=\"#000000\" fill-rule=\"evenodd\" fill-opacity=\"1\" /><path clip-path=\"url(#clip540)\" d=\"M1376.58 1479.7 L1381.46 1479.7 L1381.46 1485.58 L1376.58 1485.58 L1376.58 1479.7 Z\" fill=\"#000000\" fill-rule=\"evenodd\" fill-opacity=\"1\" /><path clip-path=\"url(#clip540)\" d=\"M1391.7 1451.02 L1410.05 1451.02 L1410.05 1454.96 L1395.98 1454.96 L1395.98 1463.43 Q1397 1463.08 1398.02 1462.92 Q1399.03 1462.73 1400.05 1462.73 Q1405.84 1462.73 1409.22 1465.9 Q1412.6 1469.08 1412.6 1474.49 Q1412.6 1480.07 1409.13 1483.17 Q1405.65 1486.25 1399.34 1486.25 Q1397.16 1486.25 1394.89 1485.88 Q1392.65 1485.51 1390.24 1484.77 L1390.24 1480.07 Q1392.32 1481.2 1394.54 1481.76 Q1396.77 1482.32 1399.24 1482.32 Q1403.25 1482.32 1405.58 1480.21 Q1407.92 1478.1 1407.92 1474.49 Q1407.92 1470.88 1405.58 1468.77 Q1403.25 1466.67 1399.24 1466.67 Q1397.37 1466.67 1395.49 1467.08 Q1393.64 1467.5 1391.7 1468.38 L1391.7 1451.02 Z\" fill=\"#000000\" fill-rule=\"evenodd\" fill-opacity=\"1\" /><path clip-path=\"url(#clip540)\" d=\"M1685.45 1481.64 L1693.09 1481.64 L1693.09 1455.28 L1684.78 1456.95 L1684.78 1452.69 L1693.04 1451.02 L1697.72 1451.02 L1697.72 1481.64 L1705.36 1481.64 L1705.36 1485.58 L1685.45 1485.58 L1685.45 1481.64 Z\" fill=\"#000000\" fill-rule=\"evenodd\" fill-opacity=\"1\" /><path clip-path=\"url(#clip540)\" d=\"M1724.8 1454.1 Q1721.19 1454.1 1719.36 1457.66 Q1717.55 1461.2 1717.55 1468.33 Q1717.55 1475.44 1719.36 1479.01 Q1721.19 1482.55 1724.8 1482.55 Q1728.43 1482.55 1730.24 1479.01 Q1732.07 1475.44 1732.07 1468.33 Q1732.07 1461.2 1730.24 1457.66 Q1728.43 1454.1 1724.8 1454.1 M1724.8 1450.39 Q1730.61 1450.39 1733.67 1455 Q1736.74 1459.58 1736.74 1468.33 Q1736.74 1477.06 1733.67 1481.67 Q1730.61 1486.25 1724.8 1486.25 Q1718.99 1486.25 1715.91 1481.67 Q1712.86 1477.06 1712.86 1468.33 Q1712.86 1459.58 1715.91 1455 Q1718.99 1450.39 1724.8 1450.39 Z\" fill=\"#000000\" fill-rule=\"evenodd\" fill-opacity=\"1\" /><path clip-path=\"url(#clip540)\" d=\"M1744.96 1479.7 L1749.85 1479.7 L1749.85 1485.58 L1744.96 1485.58 L1744.96 1479.7 Z\" fill=\"#000000\" fill-rule=\"evenodd\" fill-opacity=\"1\" /><path clip-path=\"url(#clip540)\" d=\"M1770.03 1454.1 Q1766.42 1454.1 1764.59 1457.66 Q1762.79 1461.2 1762.79 1468.33 Q1762.79 1475.44 1764.59 1479.01 Q1766.42 1482.55 1770.03 1482.55 Q1773.67 1482.55 1775.47 1479.01 Q1777.3 1475.44 1777.3 1468.33 Q1777.3 1461.2 1775.47 1457.66 Q1773.67 1454.1 1770.03 1454.1 M1770.03 1450.39 Q1775.84 1450.39 1778.9 1455 Q1781.98 1459.58 1781.98 1468.33 Q1781.98 1477.06 1778.9 1481.67 Q1775.84 1486.25 1770.03 1486.25 Q1764.22 1486.25 1761.14 1481.67 Q1758.09 1477.06 1758.09 1468.33 Q1758.09 1459.58 1761.14 1455 Q1764.22 1450.39 1770.03 1450.39 Z\" fill=\"#000000\" fill-rule=\"evenodd\" fill-opacity=\"1\" /><path clip-path=\"url(#clip540)\" d=\"M2040.4 1481.64 L2048.04 1481.64 L2048.04 1455.28 L2039.73 1456.95 L2039.73 1452.69 L2048 1451.02 L2052.67 1451.02 L2052.67 1481.64 L2060.31 1481.64 L2060.31 1485.58 L2040.4 1485.58 L2040.4 1481.64 Z\" fill=\"#000000\" fill-rule=\"evenodd\" fill-opacity=\"1\" /><path clip-path=\"url(#clip540)\" d=\"M2073.78 1481.64 L2090.1 1481.64 L2090.1 1485.58 L2068.16 1485.58 L2068.16 1481.64 Q2070.82 1478.89 2075.4 1474.26 Q2080.01 1469.61 2081.19 1468.27 Q2083.44 1465.74 2084.32 1464.01 Q2085.22 1462.25 2085.22 1460.56 Q2085.22 1457.8 2083.27 1456.07 Q2081.35 1454.33 2078.25 1454.33 Q2076.05 1454.33 2073.6 1455.09 Q2071.17 1455.86 2068.39 1457.41 L2068.39 1452.69 Q2071.21 1451.55 2073.67 1450.97 Q2076.12 1450.39 2078.16 1450.39 Q2083.53 1450.39 2086.72 1453.08 Q2089.92 1455.77 2089.92 1460.26 Q2089.92 1462.39 2089.11 1464.31 Q2088.32 1466.2 2086.21 1468.8 Q2085.64 1469.47 2082.53 1472.69 Q2079.43 1475.88 2073.78 1481.64 Z\" fill=\"#000000\" fill-rule=\"evenodd\" fill-opacity=\"1\" /><path clip-path=\"url(#clip540)\" d=\"M2099.92 1479.7 L2104.8 1479.7 L2104.8 1485.58 L2099.92 1485.58 L2099.92 1479.7 Z\" fill=\"#000000\" fill-rule=\"evenodd\" fill-opacity=\"1\" /><path clip-path=\"url(#clip540)\" d=\"M2115.03 1451.02 L2133.39 1451.02 L2133.39 1454.96 L2119.32 1454.96 L2119.32 1463.43 Q2120.33 1463.08 2121.35 1462.92 Q2122.37 1462.73 2123.39 1462.73 Q2129.18 1462.73 2132.56 1465.9 Q2135.94 1469.08 2135.94 1474.49 Q2135.94 1480.07 2132.46 1483.17 Q2128.99 1486.25 2122.67 1486.25 Q2120.5 1486.25 2118.23 1485.88 Q2115.98 1485.51 2113.57 1484.77 L2113.57 1480.07 Q2115.66 1481.2 2117.88 1481.76 Q2120.1 1482.32 2122.58 1482.32 Q2126.58 1482.32 2128.92 1480.21 Q2131.26 1478.1 2131.26 1474.49 Q2131.26 1470.88 2128.92 1468.77 Q2126.58 1466.67 2122.58 1466.67 Q2120.7 1466.67 2118.83 1467.08 Q2116.98 1467.5 2115.03 1468.38 L2115.03 1451.02 Z\" fill=\"#000000\" fill-rule=\"evenodd\" fill-opacity=\"1\" /><path clip-path=\"url(#clip540)\" d=\"M1191.94 1522.27 L1191.94 1532.4 L1204 1532.4 L1204 1536.95 L1191.94 1536.95 L1191.94 1556.3 Q1191.94 1560.66 1193.11 1561.9 Q1194.32 1563.14 1197.98 1563.14 L1204 1563.14 L1204 1568.04 L1197.98 1568.04 Q1191.2 1568.04 1188.63 1565.53 Q1186.05 1562.98 1186.05 1556.3 L1186.05 1536.95 L1181.75 1536.95 L1181.75 1532.4 L1186.05 1532.4 L1186.05 1522.27 L1191.94 1522.27 Z\" fill=\"#000000\" fill-rule=\"evenodd\" fill-opacity=\"1\" /><path clip-path=\"url(#clip540)\" d=\"M1211.7 1532.4 L1217.56 1532.4 L1217.56 1568.04 L1211.7 1568.04 L1211.7 1532.4 M1211.7 1518.52 L1217.56 1518.52 L1217.56 1525.93 L1211.7 1525.93 L1211.7 1518.52 Z\" fill=\"#000000\" fill-rule=\"evenodd\" fill-opacity=\"1\" /><path clip-path=\"url(#clip540)\" d=\"M1257.57 1539.24 Q1259.76 1535.29 1262.82 1533.41 Q1265.87 1531.54 1270.01 1531.54 Q1275.58 1531.54 1278.61 1535.45 Q1281.63 1539.33 1281.63 1546.53 L1281.63 1568.04 L1275.74 1568.04 L1275.74 1546.72 Q1275.74 1541.59 1273.93 1539.11 Q1272.11 1536.63 1268.39 1536.63 Q1263.84 1536.63 1261.2 1539.65 Q1258.55 1542.68 1258.55 1547.9 L1258.55 1568.04 L1252.67 1568.04 L1252.67 1546.72 Q1252.67 1541.56 1250.85 1539.11 Q1249.04 1536.63 1245.25 1536.63 Q1240.76 1536.63 1238.12 1539.68 Q1235.48 1542.71 1235.48 1547.9 L1235.48 1568.04 L1229.59 1568.04 L1229.59 1532.4 L1235.48 1532.4 L1235.48 1537.93 Q1237.48 1534.66 1240.28 1533.1 Q1243.09 1531.54 1246.94 1531.54 Q1250.82 1531.54 1253.52 1533.51 Q1256.26 1535.48 1257.57 1539.24 Z\" fill=\"#000000\" fill-rule=\"evenodd\" fill-opacity=\"1\" /><path clip-path=\"url(#clip540)\" d=\"M1323.8 1548.76 L1323.8 1551.62 L1296.88 1551.62 Q1297.26 1557.67 1300.5 1560.85 Q1303.78 1564 1309.61 1564 Q1312.98 1564 1316.13 1563.17 Q1319.31 1562.35 1322.43 1560.69 L1322.43 1566.23 Q1319.28 1567.57 1315.97 1568.27 Q1312.66 1568.97 1309.26 1568.97 Q1300.73 1568.97 1295.73 1564 Q1290.76 1559.04 1290.76 1550.57 Q1290.76 1541.82 1295.47 1536.69 Q1300.22 1531.54 1308.24 1531.54 Q1315.43 1531.54 1319.6 1536.18 Q1323.8 1540.8 1323.8 1548.76 M1317.95 1547.04 Q1317.88 1542.23 1315.24 1539.37 Q1312.63 1536.5 1308.3 1536.5 Q1303.4 1536.5 1300.44 1539.27 Q1297.51 1542.04 1297.07 1547.07 L1317.95 1547.04 Z\" fill=\"#000000\" fill-rule=\"evenodd\" fill-opacity=\"1\" /><path clip-path=\"url(#clip540)\" d=\"M1368.2 1518.58 Q1363.94 1525.9 1361.87 1533.06 Q1359.8 1540.23 1359.8 1547.58 Q1359.8 1554.93 1361.87 1562.16 Q1363.97 1569.35 1368.2 1576.64 L1363.11 1576.64 Q1358.34 1569.16 1355.95 1561.93 Q1353.59 1554.71 1353.59 1547.58 Q1353.59 1540.48 1355.95 1533.29 Q1358.3 1526.09 1363.11 1518.58 L1368.2 1518.58 Z\" fill=\"#000000\" fill-rule=\"evenodd\" fill-opacity=\"1\" /><path clip-path=\"url(#clip540)\" d=\"M1402.29 1533.45 L1402.29 1538.98 Q1399.81 1537.71 1397.14 1537.07 Q1394.46 1536.44 1391.6 1536.44 Q1387.24 1536.44 1385.04 1537.77 Q1382.88 1539.11 1382.88 1541.79 Q1382.88 1543.82 1384.44 1545 Q1386 1546.15 1390.71 1547.2 L1392.71 1547.64 Q1398.95 1548.98 1401.56 1551.43 Q1404.2 1553.85 1404.2 1558.21 Q1404.2 1563.17 1400.25 1566.07 Q1396.34 1568.97 1389.46 1568.97 Q1386.6 1568.97 1383.48 1568.39 Q1380.39 1567.85 1376.96 1566.74 L1376.96 1560.69 Q1380.2 1562.38 1383.35 1563.24 Q1386.5 1564.07 1389.59 1564.07 Q1393.73 1564.07 1395.96 1562.66 Q1398.19 1561.23 1398.19 1558.65 Q1398.19 1556.27 1396.56 1554.99 Q1394.97 1553.72 1389.53 1552.54 L1387.49 1552.07 Q1382.05 1550.92 1379.63 1548.56 Q1377.21 1546.18 1377.21 1542.04 Q1377.21 1537.01 1380.78 1534.27 Q1384.34 1531.54 1390.9 1531.54 Q1394.14 1531.54 1397.01 1532.01 Q1399.87 1532.49 1402.29 1533.45 Z\" fill=\"#000000\" fill-rule=\"evenodd\" fill-opacity=\"1\" /><path clip-path=\"url(#clip540)\" d=\"M1412.6 1518.58 L1417.7 1518.58 Q1422.47 1526.09 1424.83 1533.29 Q1427.21 1540.48 1427.21 1547.58 Q1427.21 1554.71 1424.83 1561.93 Q1422.47 1569.16 1417.7 1576.64 L1412.6 1576.64 Q1416.84 1569.35 1418.91 1562.16 Q1421.01 1554.93 1421.01 1547.58 Q1421.01 1540.23 1418.91 1533.06 Q1416.84 1525.9 1412.6 1518.58 Z\" fill=\"#000000\" fill-rule=\"evenodd\" fill-opacity=\"1\" /><polyline clip-path=\"url(#clip542)\" style=\"stroke:#000000; stroke-linecap:round; stroke-linejoin:round; stroke-width:2; stroke-opacity:0.1; fill:none\" points=\"256.209,1303.31 2352.76,1303.31 \"/>\n",
       "<polyline clip-path=\"url(#clip542)\" style=\"stroke:#000000; stroke-linecap:round; stroke-linejoin:round; stroke-width:2; stroke-opacity:0.1; fill:none\" points=\"256.209,1084.86 2352.76,1084.86 \"/>\n",
       "<polyline clip-path=\"url(#clip542)\" style=\"stroke:#000000; stroke-linecap:round; stroke-linejoin:round; stroke-width:2; stroke-opacity:0.1; fill:none\" points=\"256.209,866.398 2352.76,866.398 \"/>\n",
       "<polyline clip-path=\"url(#clip542)\" style=\"stroke:#000000; stroke-linecap:round; stroke-linejoin:round; stroke-width:2; stroke-opacity:0.1; fill:none\" points=\"256.209,647.939 2352.76,647.939 \"/>\n",
       "<polyline clip-path=\"url(#clip542)\" style=\"stroke:#000000; stroke-linecap:round; stroke-linejoin:round; stroke-width:2; stroke-opacity:0.1; fill:none\" points=\"256.209,429.481 2352.76,429.481 \"/>\n",
       "<polyline clip-path=\"url(#clip542)\" style=\"stroke:#000000; stroke-linecap:round; stroke-linejoin:round; stroke-width:2; stroke-opacity:0.1; fill:none\" points=\"256.209,211.022 2352.76,211.022 \"/>\n",
       "<polyline clip-path=\"url(#clip540)\" style=\"stroke:#000000; stroke-linecap:round; stroke-linejoin:round; stroke-width:4; stroke-opacity:1; fill:none\" points=\"256.209,1423.18 256.209,123.472 \"/>\n",
       "<polyline clip-path=\"url(#clip540)\" style=\"stroke:#000000; stroke-linecap:round; stroke-linejoin:round; stroke-width:4; stroke-opacity:1; fill:none\" points=\"256.209,1303.31 275.106,1303.31 \"/>\n",
       "<polyline clip-path=\"url(#clip540)\" style=\"stroke:#000000; stroke-linecap:round; stroke-linejoin:round; stroke-width:4; stroke-opacity:1; fill:none\" points=\"256.209,1084.86 275.106,1084.86 \"/>\n",
       "<polyline clip-path=\"url(#clip540)\" style=\"stroke:#000000; stroke-linecap:round; stroke-linejoin:round; stroke-width:4; stroke-opacity:1; fill:none\" points=\"256.209,866.398 275.106,866.398 \"/>\n",
       "<polyline clip-path=\"url(#clip540)\" style=\"stroke:#000000; stroke-linecap:round; stroke-linejoin:round; stroke-width:4; stroke-opacity:1; fill:none\" points=\"256.209,647.939 275.106,647.939 \"/>\n",
       "<polyline clip-path=\"url(#clip540)\" style=\"stroke:#000000; stroke-linecap:round; stroke-linejoin:round; stroke-width:4; stroke-opacity:1; fill:none\" points=\"256.209,429.481 275.106,429.481 \"/>\n",
       "<polyline clip-path=\"url(#clip540)\" style=\"stroke:#000000; stroke-linecap:round; stroke-linejoin:round; stroke-width:4; stroke-opacity:1; fill:none\" points=\"256.209,211.022 275.106,211.022 \"/>\n",
       "<path clip-path=\"url(#clip540)\" d=\"M114.26 1303.77 L143.936 1303.77 L143.936 1307.7 L114.26 1307.7 L114.26 1303.77 Z\" fill=\"#000000\" fill-rule=\"evenodd\" fill-opacity=\"1\" /><path clip-path=\"url(#clip540)\" d=\"M164.028 1289.11 Q160.417 1289.11 158.589 1292.68 Q156.783 1296.22 156.783 1303.35 Q156.783 1310.46 158.589 1314.02 Q160.417 1317.56 164.028 1317.56 Q167.663 1317.56 169.468 1314.02 Q171.297 1310.46 171.297 1303.35 Q171.297 1296.22 169.468 1292.68 Q167.663 1289.11 164.028 1289.11 M164.028 1285.41 Q169.839 1285.41 172.894 1290.02 Q175.973 1294.6 175.973 1303.35 Q175.973 1312.08 172.894 1316.68 Q169.839 1321.27 164.028 1321.27 Q158.218 1321.27 155.14 1316.68 Q152.084 1312.08 152.084 1303.35 Q152.084 1294.6 155.14 1290.02 Q158.218 1285.41 164.028 1285.41 Z\" fill=\"#000000\" fill-rule=\"evenodd\" fill-opacity=\"1\" /><path clip-path=\"url(#clip540)\" d=\"M184.19 1314.71 L189.075 1314.71 L189.075 1320.59 L184.19 1320.59 L184.19 1314.71 Z\" fill=\"#000000\" fill-rule=\"evenodd\" fill-opacity=\"1\" /><path clip-path=\"url(#clip540)\" d=\"M199.306 1286.03 L217.662 1286.03 L217.662 1289.97 L203.588 1289.97 L203.588 1298.44 Q204.607 1298.09 205.625 1297.93 Q206.644 1297.75 207.662 1297.75 Q213.449 1297.75 216.829 1300.92 Q220.209 1304.09 220.209 1309.51 Q220.209 1315.09 216.736 1318.19 Q213.264 1321.27 206.945 1321.27 Q204.769 1321.27 202.5 1320.9 Q200.255 1320.53 197.848 1319.78 L197.848 1315.09 Q199.931 1316.22 202.153 1316.78 Q204.375 1317.33 206.852 1317.33 Q210.857 1317.33 213.195 1315.22 Q215.533 1313.12 215.533 1309.51 Q215.533 1305.9 213.195 1303.79 Q210.857 1301.68 206.852 1301.68 Q204.977 1301.68 203.102 1302.1 Q201.25 1302.52 199.306 1303.4 L199.306 1286.03 Z\" fill=\"#000000\" fill-rule=\"evenodd\" fill-opacity=\"1\" /><path clip-path=\"url(#clip540)\" d=\"M163.033 1070.65 Q159.422 1070.65 157.593 1074.22 Q155.788 1077.76 155.788 1084.89 Q155.788 1092 157.593 1095.56 Q159.422 1099.1 163.033 1099.1 Q166.667 1099.1 168.473 1095.56 Q170.302 1092 170.302 1084.89 Q170.302 1077.76 168.473 1074.22 Q166.667 1070.65 163.033 1070.65 M163.033 1066.95 Q168.843 1066.95 171.899 1071.56 Q174.977 1076.14 174.977 1084.89 Q174.977 1093.62 171.899 1098.22 Q168.843 1102.81 163.033 1102.81 Q157.223 1102.81 154.144 1098.22 Q151.089 1093.62 151.089 1084.89 Q151.089 1076.14 154.144 1071.56 Q157.223 1066.95 163.033 1066.95 Z\" fill=\"#000000\" fill-rule=\"evenodd\" fill-opacity=\"1\" /><path clip-path=\"url(#clip540)\" d=\"M183.195 1096.26 L188.079 1096.26 L188.079 1102.14 L183.195 1102.14 L183.195 1096.26 Z\" fill=\"#000000\" fill-rule=\"evenodd\" fill-opacity=\"1\" /><path clip-path=\"url(#clip540)\" d=\"M208.264 1070.65 Q204.653 1070.65 202.824 1074.22 Q201.019 1077.76 201.019 1084.89 Q201.019 1092 202.824 1095.56 Q204.653 1099.1 208.264 1099.1 Q211.899 1099.1 213.704 1095.56 Q215.533 1092 215.533 1084.89 Q215.533 1077.76 213.704 1074.22 Q211.899 1070.65 208.264 1070.65 M208.264 1066.95 Q214.074 1066.95 217.13 1071.56 Q220.209 1076.14 220.209 1084.89 Q220.209 1093.62 217.13 1098.22 Q214.074 1102.81 208.264 1102.81 Q202.454 1102.81 199.375 1098.22 Q196.32 1093.62 196.32 1084.89 Q196.32 1076.14 199.375 1071.56 Q202.454 1066.95 208.264 1066.95 Z\" fill=\"#000000\" fill-rule=\"evenodd\" fill-opacity=\"1\" /><path clip-path=\"url(#clip540)\" d=\"M164.028 852.196 Q160.417 852.196 158.589 855.761 Q156.783 859.303 156.783 866.432 Q156.783 873.539 158.589 877.104 Q160.417 880.645 164.028 880.645 Q167.663 880.645 169.468 877.104 Q171.297 873.539 171.297 866.432 Q171.297 859.303 169.468 855.761 Q167.663 852.196 164.028 852.196 M164.028 848.493 Q169.839 848.493 172.894 853.099 Q175.973 857.682 175.973 866.432 Q175.973 875.159 172.894 879.766 Q169.839 884.349 164.028 884.349 Q158.218 884.349 155.14 879.766 Q152.084 875.159 152.084 866.432 Q152.084 857.682 155.14 853.099 Q158.218 848.493 164.028 848.493 Z\" fill=\"#000000\" fill-rule=\"evenodd\" fill-opacity=\"1\" /><path clip-path=\"url(#clip540)\" d=\"M184.19 877.798 L189.075 877.798 L189.075 883.678 L184.19 883.678 L184.19 877.798 Z\" fill=\"#000000\" fill-rule=\"evenodd\" fill-opacity=\"1\" /><path clip-path=\"url(#clip540)\" d=\"M199.306 849.118 L217.662 849.118 L217.662 853.053 L203.588 853.053 L203.588 861.525 Q204.607 861.178 205.625 861.016 Q206.644 860.83 207.662 860.83 Q213.449 860.83 216.829 864.002 Q220.209 867.173 220.209 872.59 Q220.209 878.168 216.736 881.27 Q213.264 884.349 206.945 884.349 Q204.769 884.349 202.5 883.979 Q200.255 883.608 197.848 882.867 L197.848 878.168 Q199.931 879.303 202.153 879.858 Q204.375 880.414 206.852 880.414 Q210.857 880.414 213.195 878.307 Q215.533 876.201 215.533 872.59 Q215.533 868.979 213.195 866.872 Q210.857 864.766 206.852 864.766 Q204.977 864.766 203.102 865.182 Q201.25 865.599 199.306 866.479 L199.306 849.118 Z\" fill=\"#000000\" fill-rule=\"evenodd\" fill-opacity=\"1\" /><path clip-path=\"url(#clip540)\" d=\"M153.843 661.284 L161.482 661.284 L161.482 634.918 L153.172 636.585 L153.172 632.326 L161.436 630.659 L166.112 630.659 L166.112 661.284 L173.751 661.284 L173.751 665.219 L153.843 665.219 L153.843 661.284 Z\" fill=\"#000000\" fill-rule=\"evenodd\" fill-opacity=\"1\" /><path clip-path=\"url(#clip540)\" d=\"M183.195 659.339 L188.079 659.339 L188.079 665.219 L183.195 665.219 L183.195 659.339 Z\" fill=\"#000000\" fill-rule=\"evenodd\" fill-opacity=\"1\" /><path clip-path=\"url(#clip540)\" d=\"M208.264 633.738 Q204.653 633.738 202.824 637.303 Q201.019 640.844 201.019 647.974 Q201.019 655.08 202.824 658.645 Q204.653 662.187 208.264 662.187 Q211.899 662.187 213.704 658.645 Q215.533 655.08 215.533 647.974 Q215.533 640.844 213.704 637.303 Q211.899 633.738 208.264 633.738 M208.264 630.034 Q214.074 630.034 217.13 634.641 Q220.209 639.224 220.209 647.974 Q220.209 656.701 217.13 661.307 Q214.074 665.89 208.264 665.89 Q202.454 665.89 199.375 661.307 Q196.32 656.701 196.32 647.974 Q196.32 639.224 199.375 634.641 Q202.454 630.034 208.264 630.034 Z\" fill=\"#000000\" fill-rule=\"evenodd\" fill-opacity=\"1\" /><path clip-path=\"url(#clip540)\" d=\"M154.839 442.825 L162.477 442.825 L162.477 416.46 L154.167 418.126 L154.167 413.867 L162.431 412.201 L167.107 412.201 L167.107 442.825 L174.746 442.825 L174.746 446.761 L154.839 446.761 L154.839 442.825 Z\" fill=\"#000000\" fill-rule=\"evenodd\" fill-opacity=\"1\" /><path clip-path=\"url(#clip540)\" d=\"M184.19 440.881 L189.075 440.881 L189.075 446.761 L184.19 446.761 L184.19 440.881 Z\" fill=\"#000000\" fill-rule=\"evenodd\" fill-opacity=\"1\" /><path clip-path=\"url(#clip540)\" d=\"M199.306 412.201 L217.662 412.201 L217.662 416.136 L203.588 416.136 L203.588 424.608 Q204.607 424.261 205.625 424.099 Q206.644 423.913 207.662 423.913 Q213.449 423.913 216.829 427.085 Q220.209 430.256 220.209 435.673 Q220.209 441.251 216.736 444.353 Q213.264 447.432 206.945 447.432 Q204.769 447.432 202.5 447.062 Q200.255 446.691 197.848 445.95 L197.848 441.251 Q199.931 442.386 202.153 442.941 Q204.375 443.497 206.852 443.497 Q210.857 443.497 213.195 441.39 Q215.533 439.284 215.533 435.673 Q215.533 432.062 213.195 429.955 Q210.857 427.849 206.852 427.849 Q204.977 427.849 203.102 428.265 Q201.25 428.682 199.306 429.562 L199.306 412.201 Z\" fill=\"#000000\" fill-rule=\"evenodd\" fill-opacity=\"1\" /><path clip-path=\"url(#clip540)\" d=\"M157.061 224.367 L173.38 224.367 L173.38 228.302 L151.436 228.302 L151.436 224.367 Q154.098 221.612 158.681 216.983 Q163.288 212.33 164.468 210.987 Q166.714 208.464 167.593 206.728 Q168.496 204.969 168.496 203.279 Q168.496 200.524 166.552 198.788 Q164.63 197.052 161.528 197.052 Q159.329 197.052 156.876 197.816 Q154.445 198.58 151.667 200.131 L151.667 195.409 Q154.491 194.274 156.945 193.696 Q159.399 193.117 161.436 193.117 Q166.806 193.117 170.001 195.802 Q173.195 198.487 173.195 202.978 Q173.195 205.108 172.385 207.029 Q171.598 208.927 169.491 211.52 Q168.913 212.191 165.811 215.409 Q162.709 218.603 157.061 224.367 Z\" fill=\"#000000\" fill-rule=\"evenodd\" fill-opacity=\"1\" /><path clip-path=\"url(#clip540)\" d=\"M183.195 222.422 L188.079 222.422 L188.079 228.302 L183.195 228.302 L183.195 222.422 Z\" fill=\"#000000\" fill-rule=\"evenodd\" fill-opacity=\"1\" /><path clip-path=\"url(#clip540)\" d=\"M208.264 196.821 Q204.653 196.821 202.824 200.386 Q201.019 203.927 201.019 211.057 Q201.019 218.163 202.824 221.728 Q204.653 225.27 208.264 225.27 Q211.899 225.27 213.704 221.728 Q215.533 218.163 215.533 211.057 Q215.533 203.927 213.704 200.386 Q211.899 196.821 208.264 196.821 M208.264 193.117 Q214.074 193.117 217.13 197.724 Q220.209 202.307 220.209 211.057 Q220.209 219.784 217.13 224.39 Q214.074 228.973 208.264 228.973 Q202.454 228.973 199.375 224.39 Q196.32 219.784 196.32 211.057 Q196.32 202.307 199.375 197.724 Q202.454 193.117 208.264 193.117 Z\" fill=\"#000000\" fill-rule=\"evenodd\" fill-opacity=\"1\" /><path clip-path=\"url(#clip540)\" d=\"M28.3562 756.711 L45.7028 769.602 L64.0042 756.043 L64.0042 762.95 L49.9996 773.326 L64.0042 783.702 L64.0042 790.609 L45.3526 776.763 L28.3562 789.431 L28.3562 782.524 L41.0558 773.071 L28.3562 763.618 L28.3562 756.711 Z\" fill=\"#000000\" fill-rule=\"evenodd\" fill-opacity=\"1\" /><path clip-path=\"url(#clip540)\" d=\"M962.525 14.0809 L962.525 22.0612 Q957.867 19.8332 953.735 18.7395 Q949.603 17.6457 945.754 17.6457 Q939.07 17.6457 935.425 20.2383 Q931.819 22.8309 931.819 27.611 Q931.819 31.6214 934.209 33.6873 Q936.64 35.7128 943.364 36.9686 L948.307 37.9813 Q957.462 39.7232 961.796 44.1387 Q966.171 48.5136 966.171 55.8863 Q966.171 64.6767 960.257 69.2137 Q954.383 73.7508 943 73.7508 Q938.706 73.7508 933.845 72.7785 Q929.024 71.8063 923.839 69.9024 L923.839 61.4765 Q928.822 64.2716 933.602 65.6895 Q938.382 67.1073 943 67.1073 Q950.008 67.1073 953.816 64.3527 Q957.624 61.598 957.624 56.4939 Q957.624 52.0379 954.869 49.5264 Q952.155 47.0148 945.916 45.759 L940.934 44.7868 Q931.779 42.9639 927.687 39.075 Q923.596 35.1862 923.596 28.2591 Q923.596 20.2383 929.227 15.6203 Q934.898 11.0023 944.823 11.0023 Q949.076 11.0023 953.492 11.7719 Q957.907 12.5416 962.525 14.0809 Z\" fill=\"#000000\" fill-rule=\"evenodd\" fill-opacity=\"1\" /><path clip-path=\"url(#clip540)\" d=\"M985.98 14.324 L985.98 27.2059 L1001.33 27.2059 L1001.33 32.9987 L985.98 32.9987 L985.98 57.6282 Q985.98 63.1779 987.479 64.7578 Q989.018 66.3376 993.677 66.3376 L1001.33 66.3376 L1001.33 72.576 L993.677 72.576 Q985.048 72.576 981.767 69.3758 Q978.486 66.1351 978.486 57.6282 L978.486 32.9987 L973.017 32.9987 L973.017 27.2059 L978.486 27.2059 L978.486 14.324 L985.98 14.324 Z\" fill=\"#000000\" fill-rule=\"evenodd\" fill-opacity=\"1\" /><path clip-path=\"url(#clip540)\" d=\"M1031.76 49.7694 Q1022.72 49.7694 1019.24 51.8354 Q1015.75 53.9013 1015.75 58.8839 Q1015.75 62.8538 1018.35 65.2034 Q1020.98 67.5124 1025.48 67.5124 Q1031.67 67.5124 1035.4 63.1374 Q1039.17 58.7219 1039.17 51.4303 L1039.17 49.7694 L1031.76 49.7694 M1046.62 46.6907 L1046.62 72.576 L1039.17 72.576 L1039.17 65.6895 Q1036.62 69.8214 1032.81 71.8063 Q1029 73.7508 1023.49 73.7508 Q1016.52 73.7508 1012.39 69.8619 Q1008.3 65.9325 1008.3 59.3701 Q1008.3 51.7138 1013.4 47.825 Q1018.55 43.9361 1028.72 43.9361 L1039.17 43.9361 L1039.17 43.2069 Q1039.17 38.0623 1035.77 35.2672 Q1032.4 32.4315 1026.29 32.4315 Q1022.4 32.4315 1018.71 33.3632 Q1015.02 34.295 1011.62 36.1584 L1011.62 29.2718 Q1015.71 27.692 1019.56 26.9223 Q1023.41 26.1121 1027.06 26.1121 Q1036.9 26.1121 1041.76 31.2163 Q1046.62 36.3204 1046.62 46.6907 Z\" fill=\"#000000\" fill-rule=\"evenodd\" fill-opacity=\"1\" /><path clip-path=\"url(#clip540)\" d=\"M1069.35 14.324 L1069.35 27.2059 L1084.7 27.2059 L1084.7 32.9987 L1069.35 32.9987 L1069.35 57.6282 Q1069.35 63.1779 1070.85 64.7578 Q1072.39 66.3376 1077.04 66.3376 L1084.7 66.3376 L1084.7 72.576 L1077.04 72.576 Q1068.42 72.576 1065.13 69.3758 Q1061.85 66.1351 1061.85 57.6282 L1061.85 32.9987 L1056.38 32.9987 L1056.38 27.2059 L1061.85 27.2059 L1061.85 14.324 L1069.35 14.324 Z\" fill=\"#000000\" fill-rule=\"evenodd\" fill-opacity=\"1\" /><path clip-path=\"url(#clip540)\" d=\"M1133.31 48.0275 L1133.31 51.6733 L1099.04 51.6733 Q1099.53 59.3701 1103.66 63.421 Q1107.83 67.4314 1115.24 67.4314 Q1119.54 67.4314 1123.55 66.3781 Q1127.6 65.3249 1131.57 63.2184 L1131.57 70.267 Q1127.56 71.9684 1123.35 72.8596 Q1119.13 73.7508 1114.8 73.7508 Q1103.94 73.7508 1097.58 67.4314 Q1091.26 61.1119 1091.26 50.3365 Q1091.26 39.1965 1097.26 32.6746 Q1103.29 26.1121 1113.5 26.1121 Q1122.66 26.1121 1127.96 32.0264 Q1133.31 37.9003 1133.31 48.0275 M1125.86 45.84 Q1125.78 39.7232 1122.41 36.0774 Q1119.09 32.4315 1113.58 32.4315 Q1107.35 32.4315 1103.58 35.9558 Q1099.85 39.4801 1099.28 45.8805 L1125.86 45.84 Z\" fill=\"#000000\" fill-rule=\"evenodd\" fill-opacity=\"1\" /><path clip-path=\"url(#clip540)\" d=\"M1172.24 12.096 L1210.48 12.096 L1210.48 18.9825 L1180.42 18.9825 L1180.42 36.8875 L1209.23 36.8875 L1209.23 43.7741 L1180.42 43.7741 L1180.42 65.6895 L1211.21 65.6895 L1211.21 72.576 L1172.24 72.576 L1172.24 12.096 Z\" fill=\"#000000\" fill-rule=\"evenodd\" fill-opacity=\"1\" /><path clip-path=\"url(#clip540)\" d=\"M1250.63 34.1734 Q1249.37 33.4443 1247.87 33.1202 Q1246.41 32.7556 1244.63 32.7556 Q1238.31 32.7556 1234.91 36.8875 Q1231.55 40.9789 1231.55 48.6757 L1231.55 72.576 L1224.05 72.576 L1224.05 27.2059 L1231.55 27.2059 L1231.55 34.2544 Q1233.9 30.1225 1237.66 28.1376 Q1241.43 26.1121 1246.82 26.1121 Q1247.59 26.1121 1248.52 26.2337 Q1249.45 26.3147 1250.59 26.5172 L1250.63 34.1734 Z\" fill=\"#000000\" fill-rule=\"evenodd\" fill-opacity=\"1\" /><path clip-path=\"url(#clip540)\" d=\"M1283.28 34.1734 Q1282.02 33.4443 1280.52 33.1202 Q1279.06 32.7556 1277.28 32.7556 Q1270.96 32.7556 1267.56 36.8875 Q1264.2 40.9789 1264.2 48.6757 L1264.2 72.576 L1256.7 72.576 L1256.7 27.2059 L1264.2 27.2059 L1264.2 34.2544 Q1266.55 30.1225 1270.31 28.1376 Q1274.08 26.1121 1279.47 26.1121 Q1280.24 26.1121 1281.17 26.2337 Q1282.1 26.3147 1283.24 26.5172 L1283.28 34.1734 Z\" fill=\"#000000\" fill-rule=\"evenodd\" fill-opacity=\"1\" /><path clip-path=\"url(#clip540)\" d=\"M1306.85 32.4315 Q1300.86 32.4315 1297.37 37.1306 Q1293.89 41.7891 1293.89 49.9314 Q1293.89 58.0738 1297.33 62.7728 Q1300.82 67.4314 1306.85 67.4314 Q1312.81 67.4314 1316.29 62.7323 Q1319.77 58.0333 1319.77 49.9314 Q1319.77 41.8701 1316.29 37.1711 Q1312.81 32.4315 1306.85 32.4315 M1306.85 26.1121 Q1316.57 26.1121 1322.12 32.4315 Q1327.67 38.7509 1327.67 49.9314 Q1327.67 61.0714 1322.12 67.4314 Q1316.57 73.7508 1306.85 73.7508 Q1297.09 73.7508 1291.54 67.4314 Q1286.03 61.0714 1286.03 49.9314 Q1286.03 38.7509 1291.54 32.4315 Q1297.09 26.1121 1306.85 26.1121 Z\" fill=\"#000000\" fill-rule=\"evenodd\" fill-opacity=\"1\" /><path clip-path=\"url(#clip540)\" d=\"M1366.32 34.1734 Q1365.06 33.4443 1363.56 33.1202 Q1362.11 32.7556 1360.32 32.7556 Q1354 32.7556 1350.6 36.8875 Q1347.24 40.9789 1347.24 48.6757 L1347.24 72.576 L1339.75 72.576 L1339.75 27.2059 L1347.24 27.2059 L1347.24 34.2544 Q1349.59 30.1225 1353.36 28.1376 Q1357.12 26.1121 1362.51 26.1121 Q1363.28 26.1121 1364.21 26.2337 Q1365.14 26.3147 1366.28 26.5172 L1366.32 34.1734 Z\" fill=\"#000000\" fill-rule=\"evenodd\" fill-opacity=\"1\" /><path clip-path=\"url(#clip540)\" d=\"M1400.83 12.096 L1409.02 12.096 L1409.02 36.8875 L1438.75 36.8875 L1438.75 12.096 L1446.93 12.096 L1446.93 72.576 L1438.75 72.576 L1438.75 43.7741 L1409.02 43.7741 L1409.02 72.576 L1400.83 72.576 L1400.83 12.096 Z\" fill=\"#000000\" fill-rule=\"evenodd\" fill-opacity=\"1\" /><path clip-path=\"url(#clip540)\" d=\"M1462.89 27.2059 L1470.35 27.2059 L1470.35 72.576 L1462.89 72.576 L1462.89 27.2059 M1462.89 9.54393 L1470.35 9.54393 L1470.35 18.9825 L1462.89 18.9825 L1462.89 9.54393 Z\" fill=\"#000000\" fill-rule=\"evenodd\" fill-opacity=\"1\" /><path clip-path=\"url(#clip540)\" d=\"M1514.87 28.5427 L1514.87 35.5912 Q1511.71 33.9709 1508.3 33.1607 Q1504.9 32.3505 1501.25 32.3505 Q1495.71 32.3505 1492.91 34.0519 Q1490.16 35.7533 1490.16 39.156 Q1490.16 41.7486 1492.14 43.2475 Q1494.13 44.7058 1500.12 46.0426 L1502.67 46.6097 Q1510.61 48.3111 1513.93 51.4303 Q1517.3 54.509 1517.3 60.0587 Q1517.3 66.3781 1512.27 70.0644 Q1507.29 73.7508 1498.54 73.7508 Q1494.9 73.7508 1490.93 73.0216 Q1487 72.3329 1482.62 70.9151 L1482.62 63.2184 Q1486.75 65.3654 1490.76 66.4591 Q1494.77 67.5124 1498.7 67.5124 Q1503.97 67.5124 1506.8 65.73 Q1509.64 63.9071 1509.64 60.6258 Q1509.64 57.5877 1507.57 55.9673 Q1505.55 54.3469 1498.62 52.8481 L1496.03 52.2405 Q1489.1 50.7821 1486.02 47.7845 Q1482.94 44.7463 1482.94 39.4801 Q1482.94 33.0797 1487.48 29.5959 Q1492.02 26.1121 1500.36 26.1121 Q1504.5 26.1121 1508.14 26.7198 Q1511.79 27.3274 1514.87 28.5427 Z\" fill=\"#000000\" fill-rule=\"evenodd\" fill-opacity=\"1\" /><path clip-path=\"url(#clip540)\" d=\"M1536.54 14.324 L1536.54 27.2059 L1551.89 27.2059 L1551.89 32.9987 L1536.54 32.9987 L1536.54 57.6282 Q1536.54 63.1779 1538.04 64.7578 Q1539.58 66.3376 1544.24 66.3376 L1551.89 66.3376 L1551.89 72.576 L1544.24 72.576 Q1535.61 72.576 1532.33 69.3758 Q1529.04 66.1351 1529.04 57.6282 L1529.04 32.9987 L1523.58 32.9987 L1523.58 27.2059 L1529.04 27.2059 L1529.04 14.324 L1536.54 14.324 Z\" fill=\"#000000\" fill-rule=\"evenodd\" fill-opacity=\"1\" /><path clip-path=\"url(#clip540)\" d=\"M1579.28 32.4315 Q1573.28 32.4315 1569.8 37.1306 Q1566.31 41.7891 1566.31 49.9314 Q1566.31 58.0738 1569.76 62.7728 Q1573.24 67.4314 1579.28 67.4314 Q1585.23 67.4314 1588.71 62.7323 Q1592.2 58.0333 1592.2 49.9314 Q1592.2 41.8701 1588.71 37.1711 Q1585.23 32.4315 1579.28 32.4315 M1579.28 26.1121 Q1589 26.1121 1594.55 32.4315 Q1600.1 38.7509 1600.1 49.9314 Q1600.1 61.0714 1594.55 67.4314 Q1589 73.7508 1579.28 73.7508 Q1569.51 73.7508 1563.96 67.4314 Q1558.45 61.0714 1558.45 49.9314 Q1558.45 38.7509 1563.96 32.4315 Q1569.51 26.1121 1579.28 26.1121 Z\" fill=\"#000000\" fill-rule=\"evenodd\" fill-opacity=\"1\" /><path clip-path=\"url(#clip540)\" d=\"M1638.74 34.1734 Q1637.49 33.4443 1635.99 33.1202 Q1634.53 32.7556 1632.75 32.7556 Q1626.43 32.7556 1623.03 36.8875 Q1619.66 40.9789 1619.66 48.6757 L1619.66 72.576 L1612.17 72.576 L1612.17 27.2059 L1619.66 27.2059 L1619.66 34.2544 Q1622.01 30.1225 1625.78 28.1376 Q1629.55 26.1121 1634.93 26.1121 Q1635.7 26.1121 1636.64 26.2337 Q1637.57 26.3147 1638.7 26.5172 L1638.74 34.1734 Z\" fill=\"#000000\" fill-rule=\"evenodd\" fill-opacity=\"1\" /><path clip-path=\"url(#clip540)\" d=\"M1665.44 76.7889 Q1662.28 84.8907 1659.28 87.3618 Q1656.28 89.8329 1651.26 89.8329 L1645.31 89.8329 L1645.31 83.5945 L1649.68 83.5945 Q1652.76 83.5945 1654.46 82.1361 Q1656.16 80.6778 1658.23 75.2496 L1659.56 71.8468 L1641.21 27.2059 L1649.11 27.2059 L1663.29 62.6918 L1677.47 27.2059 L1685.37 27.2059 L1665.44 76.7889 Z\" fill=\"#000000\" fill-rule=\"evenodd\" fill-opacity=\"1\" /><polyline clip-path=\"url(#clip542)\" style=\"stroke:#009af9; stroke-linecap:round; stroke-linejoin:round; stroke-width:4; stroke-opacity:1; fill:none\" points=\"315.545,1110.83 322.634,1307.69 329.723,1346.59 336.812,1356.27 343.902,1350.2 350.991,1335.63 358.08,1364.27 365.169,1367.94 372.258,1299.1 379.347,1294.41 386.436,1183.26 393.526,1056.55 400.615,1136.41 407.704,1280.96 414.793,1332.66 421.882,1347.33 428.971,1354.8 436.061,1253.07 443.15,1248.71 450.239,1285.37 457.328,1205.1 464.417,1102.1 471.506,1144.42 478.596,1208.6 485.685,1153.87 492.774,1128.31 499.863,1119.8 506.952,1119.86 514.041,1112.85 521.13,1183.15 528.22,1186.48 535.309,1220.54 542.398,1236.63 549.487,1267.08 556.576,1232.39 563.665,1271.59 570.755,1282.39 577.844,1320.1 584.933,1292.55 592.022,1323.47 599.111,1286.58 606.2,1323.33 613.289,1331.63 620.379,1162.03 627.468,1238.78 634.557,1233.6 641.646,1179.49 648.735,1100.2 655.824,1078.16 662.914,1115.03 670.003,1101.23 677.092,1040.79 684.181,904.277 691.27,895.603 698.359,922.821 705.449,949.081 712.538,923.877 719.627,929.344 726.716,898.716 733.805,923.864 740.894,951.654 747.983,935.824 755.073,914.849 762.162,907.61 769.251,951.886 776.34,939.752 783.429,961.597 790.518,962.077 797.608,954.167 804.697,992.249 811.786,1009.73 818.875,1072.51 825.964,1086.24 833.053,1050.03 840.143,1030.34 847.232,985.489 854.321,942.004 861.41,965.382 868.499,1024.5 875.588,1041.17 882.677,1093.3 889.767,1138.88 896.856,1173.92 903.945,1146.19 911.034,1155.59 918.123,1166.46 925.212,1169.33 932.302,1156.15 939.391,1128.32 946.48,1113.82 953.569,1102.89 960.658,1121.68 967.747,1134.02 974.837,1118.73 981.926,1145.82 989.015,1141.43 996.104,1141.86 1003.19,1134.88 1010.28,1135.13 1017.37,1109.32 1024.46,1104.97 1031.55,1127.02 1038.64,1122.68 1045.73,1119.22 1052.82,1070.95 1059.91,1059.59 1067,1056.98 1074.08,1032.18 1081.17,1082.81 1088.26,1042.34 1095.35,1084.14 1102.44,1109.36 1109.53,1140.23 1116.62,1164.22 1123.71,1208.17 1130.8,1186.52 1137.89,1174.22 1144.98,1156.48 1152.07,1164.76 1159.15,1185.03 1166.24,1238.66 1173.33,1253.23 1180.42,1233.34 1187.51,1282.63 1194.6,1290.03 1201.69,1239.87 1208.78,1244.93 1215.87,1253.72 1222.96,1231.29 1230.05,1207.4 1237.14,1221.13 1244.22,1228.06 1251.31,1231.6 1258.4,1237.89 1265.49,1204.25 1272.58,1171.95 1279.67,1193.32 1286.76,1221.74 1293.85,1205.15 1300.94,1207.75 1308.03,1216.18 1315.12,1214.69 1322.21,1150.78 1329.29,1183.87 1336.38,1179.01 1343.47,1209.34 1350.56,1195.75 1357.65,1239.62 1364.74,1241.93 1371.83,1256.45 1378.92,1243.22 1386.01,1236.81 1393.1,1237.03 1400.19,1223.71 1407.28,1214.83 1414.36,1227.59 1421.45,1214.73 1428.54,1213.55 1435.63,1193.46 1442.72,1188.03 1449.81,1188.97 1456.9,1179.9 1463.99,1190.1 1471.08,1159.64 1478.17,1140.74 1485.26,1153.96 1492.34,1148.63 1499.43,1146.15 1506.52,1106.57 1513.61,1096.24 1520.7,1084.19 1527.79,1099.43 1534.88,1123.94 1541.97,1153.05 1549.06,1140.06 1556.15,1152.9 1563.24,1144.74 1570.33,1127.88 1577.41,1097.12 1584.5,1074.01 1591.59,1082.63 1598.68,1088.17 1605.77,1112.45 1612.86,1124.36 1619.95,1118.58 1627.04,1115.75 1634.13,1139.23 1641.22,1117.98 1648.31,1125.66 1655.4,1130.17 1662.48,1129.96 1669.57,1095.01 1676.66,1095.37 1683.75,1129.67 1690.84,1143.76 1697.93,1148.62 1705.02,1139.37 1712.11,1144.57 1719.2,1152.64 1726.29,1180.74 1733.38,1186.64 1740.47,1200.6 1747.55,1209.82 1754.64,1212.5 1761.73,1209.79 1768.82,1209.94 1775.91,1206.89 1783,1202.36 1790.09,1207.04 1797.18,1223.11 1804.27,1228.74 1811.36,1213.28 1818.45,1227.89 1825.54,1214.62 1832.62,1220.53 1839.71,1219.92 1846.8,1216.58 1853.89,1202.82 1860.98,1226.97 1868.07,1233.52 1875.16,1217.33 1882.25,1205.35 1889.34,1204.89 1896.43,1203.02 1903.52,1199.12 1910.61,1185.43 1917.69,1182.95 1924.78,1187.73 1931.87,1192.14 1938.96,1191.29 1946.05,1187.84 1953.14,1181.68 1960.23,1166.92 1967.32,1151.08 1974.41,1150.3 1981.5,1135.19 1988.59,1127.72 1995.68,1130.87 2002.76,1138.99 2009.85,1126.02 2016.94,1127.6 2024.03,1131.69 2031.12,1135.66 2038.21,1141.67 2045.3,1144.52 2052.39,1137.06 2059.48,1132.45 2066.57,1130.69 2073.66,1124.97 2080.74,1123.75 2087.83,1122.8 2094.92,1121 2102.01,1117.2 2109.1,1112.35 2116.19,1109.53 2123.28,1102.14 2130.37,1094.87 2137.46,1091.1 2144.55,1092.05 2151.64,1085.7 2158.73,1089.66 2165.81,1090.31 2172.9,1089.65 2179.99,1087.56 2187.08,1090.81 2194.17,1091.19 2201.26,1093.45 2208.35,1092.86 2215.44,1091.13 2222.53,1092.73 2229.62,1094.73 2236.71,1095.1 2243.8,1092.99 2250.88,1091.63 2257.97,1092.5 2265.06,1091.17 2272.15,1089.08 2279.24,1088.31 2286.33,1089.09 2293.42,1088.65 \"/>\n",
       "<polyline clip-path=\"url(#clip542)\" style=\"stroke:#e26f46; stroke-linecap:round; stroke-linejoin:round; stroke-width:4; stroke-opacity:1; fill:none\" points=\"315.545,1118.27 322.634,923.816 329.723,879.46 336.812,815.883 343.902,926.092 350.991,756.187 358.08,706.03 365.169,734.47 372.258,825.254 379.347,800.167 386.436,763.388 393.526,789.558 400.615,699.809 407.704,641.532 414.793,633.883 421.882,668.929 428.971,620.112 436.061,499.786 443.15,465.216 450.239,393.433 457.328,317.94 464.417,160.256 471.506,212.879 478.596,334.117 485.685,288.467 492.774,293.639 499.863,278.376 506.952,274.161 514.041,353.635 521.13,404.78 528.22,450.314 535.309,568.749 542.398,616.388 549.487,727.374 556.576,770.932 563.665,701.492 570.755,744.985 577.844,775.451 584.933,816.321 592.022,789.013 599.111,850.923 606.2,868.682 613.289,876.077 620.379,923.006 627.468,864.41 634.557,873.562 641.646,903.186 648.735,972.62 655.824,991.828 662.914,952.655 670.003,970.124 677.092,1000.8 684.181,960.475 691.27,936.478 698.359,1003.4 705.449,1012.38 712.538,1066.76 719.627,1016.96 726.716,1011.87 733.805,1023.89 740.894,1029.75 747.983,1009.8 755.073,1062.29 762.162,1007.67 769.251,999.113 776.34,1007.21 783.429,1047.91 790.518,1071.67 797.608,1084.96 804.697,1070.58 811.786,1091 818.875,1120.05 825.964,1110.75 833.053,1127.32 840.143,1148.98 847.232,1138.18 854.321,1156.64 861.41,1181.77 868.499,1145.66 875.588,1117.68 882.677,1155.1 889.767,1193.97 896.856,1256.29 903.945,1256.63 911.034,1281.87 918.123,1270.91 925.212,1262.2 932.302,1218.16 939.391,1251.89 946.48,1248.38 953.569,1225.18 960.658,1226.12 967.747,1242.68 974.837,1211.1 981.926,1238.78 989.015,1204.3 996.104,1208.82 1003.19,1206.48 1010.28,1182.58 1017.37,1192.04 1024.46,1219.5 1031.55,1231.53 1038.64,1219.23 1045.73,1249.03 1052.82,1276.66 1059.91,1321.58 1067,1353.04 1074.08,1298.9 1081.17,1288.94 1088.26,1278.94 1095.35,1281.51 1102.44,1276.59 1109.53,1307.17 1116.62,1360.28 1123.71,1386.4 1130.8,1360.67 1137.89,1316.29 1144.98,1286.96 1152.07,1238.5 1159.15,1247.06 1166.24,1224.86 1173.33,1208.61 1180.42,1189.93 1187.51,1198.78 1194.6,1159.04 1201.69,1140.68 1208.78,1109.43 1215.87,1110.83 1222.96,1099.73 1230.05,1096.4 1237.14,1101.34 1244.22,1102.03 1251.31,1115.56 1258.4,1128.49 1265.49,1165.1 1272.58,1170 1279.67,1176.98 1286.76,1166.2 1293.85,1151.44 1300.94,1198.32 1308.03,1199.4 1315.12,1189.17 1322.21,1170.17 1329.29,1172.99 1336.38,1173.04 1343.47,1143.43 1350.56,1153.92 1357.65,1181.95 1364.74,1198.61 1371.83,1165 1378.92,1119.85 1386.01,1092.45 1393.1,1085.87 1400.19,1092.99 1407.28,1124.35 1414.36,1155.38 1421.45,1151.82 1428.54,1129.05 1435.63,1129.13 1442.72,1138.8 1449.81,1122.63 1456.9,1104.18 1463.99,1080.06 1471.08,1080.27 1478.17,1073.85 1485.26,1045.31 1492.34,1048.67 1499.43,1049.65 1506.52,1076.64 1513.61,1076.93 1520.7,1069.73 1527.79,1086.67 1534.88,1094.09 1541.97,1111.37 1549.06,1122.95 1556.15,1137.87 1563.24,1157.84 1570.33,1165.92 1577.41,1161 1584.5,1157.83 1591.59,1142.93 1598.68,1137.85 1605.77,1131.01 1612.86,1144.07 1619.95,1137.66 1627.04,1150.67 1634.13,1153.02 1641.22,1122.1 1648.31,1125.92 1655.4,1129.98 1662.48,1123.85 1669.57,1103.35 1676.66,1114.25 1683.75,1112.35 1690.84,1091.88 1697.93,1064.48 1705.02,1045.7 1712.11,1047.5 1719.2,1049.03 1726.29,1052.59 1733.38,1047.47 1740.47,1051.41 1747.55,1058.57 1754.64,1039.01 1761.73,1039.01 1768.82,1040.36 1775.91,1046.47 1783,1042.9 1790.09,1045.34 1797.18,1035.41 1804.27,1035.15 1811.36,1040.42 1818.45,1048.15 1825.54,1046.39 1832.62,1050.55 1839.71,1056.81 1846.8,1077.15 1853.89,1084.86 1860.98,1068.72 1868.07,1069.73 1875.16,1082.28 1882.25,1083.66 1889.34,1093.19 1896.43,1096.33 1903.52,1116.25 1910.61,1110.78 1917.69,1107.06 1924.78,1098.49 1931.87,1083.85 1938.96,1088.48 1946.05,1081.78 1953.14,1088.82 1960.23,1089.43 1967.32,1087.02 1974.41,1095.58 1981.5,1099.41 1988.59,1103.11 1995.68,1106.8 2002.76,1116.4 2009.85,1105.82 2016.94,1102.68 2024.03,1099.92 2031.12,1104.55 2038.21,1112.23 2045.3,1103.59 2052.39,1104.47 2059.48,1105.14 2066.57,1098.02 2073.66,1099.65 2080.74,1097.39 2087.83,1097.41 2094.92,1097.9 2102.01,1097.26 2109.1,1096.75 2116.19,1094.98 2123.28,1102.29 2130.37,1102.6 2137.46,1102.33 2144.55,1101.23 2151.64,1097.19 2158.73,1100.11 2165.81,1100.69 2172.9,1099.13 2179.99,1095.21 2187.08,1099.45 2194.17,1096.36 2201.26,1093.79 2208.35,1092.72 2215.44,1092.29 2222.53,1092.83 2229.62,1089.71 2236.71,1091.66 2243.8,1091.33 2250.88,1090.1 2257.97,1090.47 2265.06,1089.46 2272.15,1087.53 2279.24,1087.24 2286.33,1088.35 2293.42,1088.14 \"/>\n",
       "<polyline clip-path=\"url(#clip542)\" style=\"stroke:#3da44d; stroke-linecap:round; stroke-linejoin:round; stroke-width:4; stroke-opacity:1; fill:none\" points=\"315.545,1032.63 322.634,1078.09 329.723,1112.87 336.812,966.826 343.902,960.892 350.991,955.73 358.08,903.173 365.169,1039.35 372.258,934.29 379.347,781.807 386.436,711.783 393.526,608.928 400.615,499.309 407.704,580.17 414.793,551.737 421.882,569.695 428.971,461.627 436.061,557.627 443.15,588.737 450.239,540.522 457.328,462.905 464.417,444.704 471.506,356.174 478.596,359.881 485.685,325.089 492.774,389.378 499.863,518.997 506.952,535.108 514.041,553.55 521.13,589.714 528.22,616.943 535.309,635.58 542.398,677.522 549.487,605.961 556.576,515.064 563.665,499.715 570.755,520.679 577.844,488.723 584.933,541.69 592.022,565.788 599.111,537.035 606.2,560.117 613.289,565.024 620.379,595.25 627.468,628.868 634.557,702.004 641.646,772.811 648.735,762.386 655.824,768.488 662.914,875.345 670.003,930.984 677.092,952.214 684.181,983.727 691.27,907.89 698.359,889.401 705.449,875.907 712.538,908.442 719.627,852.238 726.716,853.128 733.805,841.54 740.894,848.962 747.983,880.088 755.073,861.284 762.162,855.722 769.251,880.796 776.34,891.586 783.429,879.948 790.518,912.169 797.608,920.999 804.697,923.727 811.786,919.616 818.875,926.248 825.964,923.837 833.053,939.749 840.143,954.979 847.232,1007.05 854.321,1027.63 861.41,1058.2 868.499,1024.7 875.588,1081.32 882.677,1095.51 889.767,1066.38 896.856,1079.15 903.945,1095.1 911.034,1075.75 918.123,1094.77 925.212,1131.1 932.302,1118.49 939.391,1167.15 946.48,1170.84 953.569,1162.21 960.658,1213.65 967.747,1245.56 974.837,1244 981.926,1242.19 989.015,1228.81 996.104,1227.77 1003.19,1190.31 1010.28,1212.62 1017.37,1201.07 1024.46,1236.36 1031.55,1249.09 1038.64,1251.59 1045.73,1289.59 1052.82,1323.84 1059.91,1318.82 1067,1293.85 1074.08,1294.96 1081.17,1228.41 1088.26,1191.44 1095.35,1212.54 1102.44,1220.71 1109.53,1241.31 1116.62,1243.08 1123.71,1247.75 1130.8,1241.85 1137.89,1237.42 1144.98,1261.52 1152.07,1216.37 1159.15,1236.22 1166.24,1289.21 1173.33,1302.3 1180.42,1314.78 1187.51,1308.82 1194.6,1294.79 1201.69,1298.82 1208.78,1314.58 1215.87,1320.36 1222.96,1309.36 1230.05,1325.86 1237.14,1337.09 1244.22,1359.86 1251.31,1368.03 1258.4,1357.45 1265.49,1318.14 1272.58,1297.9 1279.67,1275.9 1286.76,1292.24 1293.85,1282.54 1300.94,1297.35 1308.03,1286.08 1315.12,1284.77 1322.21,1330.6 1329.29,1350.17 1336.38,1356.25 1343.47,1346.59 1350.56,1304.01 1357.65,1302.08 1364.74,1324.04 1371.83,1314.44 1378.92,1290.57 1386.01,1317.95 1393.1,1313.32 1400.19,1289.57 1407.28,1283.76 1414.36,1296.82 1421.45,1285.32 1428.54,1291.63 1435.63,1311.95 1442.72,1277 1449.81,1250.99 1456.9,1235.41 1463.99,1256.67 1471.08,1251.83 1478.17,1237.02 1485.26,1240.23 1492.34,1230.21 1499.43,1231.9 1506.52,1238.38 1513.61,1205.4 1520.7,1147.18 1527.79,1147.27 1534.88,1140.94 1541.97,1154.22 1549.06,1152.37 1556.15,1161.09 1563.24,1127.47 1570.33,1121.1 1577.41,1122.42 1584.5,1112.38 1591.59,1111.58 1598.68,1106.05 1605.77,1105.35 1612.86,1122.76 1619.95,1131.5 1627.04,1106.89 1634.13,1068.39 1641.22,1074.1 1648.31,1095.37 1655.4,1112.57 1662.48,1120.58 1669.57,1139.83 1676.66,1138.61 1683.75,1133.36 1690.84,1103.32 1697.93,1105.01 1705.02,1092.8 1712.11,1080.41 1719.2,1062.57 1726.29,1077.1 1733.38,1071.98 1740.47,1074.4 1747.55,1099.02 1754.64,1122.83 1761.73,1128.4 1768.82,1120.89 1775.91,1127.18 1783,1134.31 1790.09,1131.28 1797.18,1127.21 1804.27,1117.04 1811.36,1093.33 1818.45,1074.66 1825.54,1068.08 1832.62,1045.71 1839.71,1054.82 1846.8,1059.43 1853.89,1068.09 1860.98,1058.24 1868.07,1071.17 1875.16,1072.09 1882.25,1070.95 1889.34,1069.35 1896.43,1063.31 1903.52,1071.11 1910.61,1076.6 1917.69,1084.74 1924.78,1076.76 1931.87,1077.29 1938.96,1063.99 1946.05,1061.17 1953.14,1072.63 1960.23,1073.09 1967.32,1079.75 1974.41,1079.21 1981.5,1066.96 1988.59,1060.61 1995.68,1054.09 2002.76,1056 2009.85,1050.73 2016.94,1038.34 2024.03,1045.55 2031.12,1039.54 2038.21,1036.27 2045.3,1043.83 2052.39,1051.73 2059.48,1053.56 2066.57,1050.93 2073.66,1051.96 2080.74,1057.23 2087.83,1059.27 2094.92,1062.69 2102.01,1066.51 2109.1,1066.3 2116.19,1062.51 2123.28,1066.53 2130.37,1065.25 2137.46,1065.6 2144.55,1063.05 2151.64,1059.96 2158.73,1062.61 2165.81,1057.1 2172.9,1055.6 2179.99,1054.03 2187.08,1052.04 2194.17,1054.37 2201.26,1053.06 2208.35,1054.64 2215.44,1053.63 2222.53,1052.16 2229.62,1050.13 2236.71,1049.42 2243.8,1051.01 2250.88,1051.7 2257.97,1053.18 2265.06,1053.6 2272.15,1055.05 2279.24,1055.13 2286.33,1056.13 2293.42,1056.82 \"/>\n",
       "<polyline clip-path=\"url(#clip542)\" style=\"stroke:#c271d2; stroke-linecap:round; stroke-linejoin:round; stroke-width:4; stroke-opacity:1; fill:none\" stroke-dasharray=\"16, 10\" points=\"315.545,1084.86 322.634,1084.86 329.723,1078.23 336.812,1070.86 343.902,1063.63 350.991,1057.05 358.08,1051.27 365.169,1045.03 372.258,1039.06 379.347,1035.48 386.436,1032.26 393.526,1032.55 400.615,1036.59 407.704,1038.01 414.793,1035.05 421.882,1030.74 428.971,1026.26 436.061,1021.81 443.15,1020.67 450.239,1019.73 457.328,1017.76 464.417,1018.28 471.506,1014.8 478.596,1011.01 485.685,1011.85 492.774,1014.26 499.863,1017.3 506.952,1020.4 514.041,1023.31 521.13,1026.26 528.22,1026.93 535.309,1027.45 542.398,1026.92 549.487,1025.95 556.576,1024.13 563.665,1023.45 570.755,1021.66 577.844,1019.66 584.933,1016.64 592.022,1014.63 599.111,1011.84 606.2,1010.28 613.289,1007.74 620.379,1005.12 627.468,1002.46 634.557,1002.94 641.646,1003.54 648.735,1000.4 655.824,999.131 662.914,998.352 670.003,996.899 677.092,995.559 684.181,995.64 691.27,997.931 698.359,1000.16 705.449,1002.01 712.538,1003.31 719.627,1005.21 726.716,1006.71 733.805,1008.62 740.894,1010.07 747.983,1010.98 755.073,1012.06 762.162,1013.66 769.251,1015.06 776.34,1015.61 783.429,1016.38 790.518,1016.88 797.608,1017.45 804.697,1018.21 811.786,1018.2 818.875,1017.98 825.964,1016.87 833.053,1015.52 840.143,1014.87 847.232,1014.65 854.321,1015.13 861.41,1016.41 868.499,1017.02 875.588,1016.73 882.677,1016.06 889.767,1014.79 896.856,1013.01 903.945,1011.04 911.034,1009.55 918.123,1008.02 925.212,1006.36 932.302,1004.69 939.391,1003.01 946.48,1001.96 953.569,1001.16 960.658,1000.39 967.747,999.365 974.837,998.02 981.926,997.03 989.015,995.788 996.104,994.42 1003.19,993.1 1010.28,991.868 1017.37,996.079 1024.46,1000.8 1031.55,1005.33 1038.64,1008.95 1045.73,1012.47 1052.82,1015.89 1059.91,1020.52 1067,1025.2 1074.08,1029.67 1081.17,1034.61 1088.26,1037.76 1095.35,1041.9 1102.44,1044.56 1109.53,1046.29 1116.62,1047.01 1123.71,1046.96 1130.8,1045.63 1137.89,1045.01 1144.98,1044.78 1152.07,1045.11 1159.15,1045.17 1166.24,1044.61 1173.33,1042.49 1180.42,1040.09 1187.51,1038.4 1194.6,1035.35 1201.69,1032.28 1208.78,1030.88 1215.87,1029.42 1222.96,1027.81 1230.05,1026.96 1237.14,1026.86 1244.22,1026.36 1251.31,1025.68 1258.4,1024.95 1265.49,1024.07 1272.58,1024.23 1279.67,1025.36 1286.76,1025.78 1293.85,1025.31 1300.94,1025.38 1308.03,1025.34 1315.12,1025.08 1322.21,1024.88 1329.29,1026.59 1336.38,1027.21 1343.47,1027.94 1350.56,1027.73 1357.65,1027.94 1364.74,1026.82 1371.83,1025.7 1378.92,1024.22 1386.01,1023.22 1393.1,1022.48 1400.19,1021.77 1407.28,1021.51 1414.36,1021.51 1421.45,1021.13 1428.54,1021.15 1435.63,1021.22 1442.72,1021.89 1449.81,1022.67 1456.9,1023.39 1463.99,1024.31 1471.08,1024.89 1478.17,1026.35 1485.26,1028.27 1492.34,1029.67 1499.43,1031.14 1506.52,1032.62 1513.61,1035.17 1520.7,1037.88 1527.79,1040.78 1534.88,1043.05 1541.97,1044.45 1549.06,1044.87 1556.15,1045.68 1563.24,1046.06 1570.33,1046.64 1577.41,1047.7 1584.5,1049.62 1591.59,1052.1 1598.68,1054.16 1605.77,1055.96 1612.86,1056.89 1619.95,1057.44 1627.04,1058.14 1634.13,1058.86 1641.22,1058.82 1648.31,1059.43 1655.4,1059.77 1662.48,1059.95 1669.57,1060.13 1676.66,1061.35 1683.75,1062.48 1690.84,1062.51 1697.93,1062.11 1705.02,1061.6 1712.11,1061.4 1719.2,1061.08 1726.29,1060.49 1733.38,1059.12 1740.47,1057.69 1747.55,1055.9 1754.64,1053.95 1761.73,1052.04 1768.82,1050.34 1775.91,1048.74 1783,1047.31 1790.09,1046.12 1797.18,1044.85 1804.27,1043.2 1811.36,1041.46 1818.45,1040.31 1825.54,1038.78 1832.62,1037.74 1839.71,1036.58 1846.8,1035.52 1853.89,1034.62 1860.98,1034.18 1868.07,1033.07 1875.16,1031.8 1882.25,1031.1 1889.34,1030.81 1896.43,1030.54 1903.52,1030.35 1910.61,1030.28 1917.69,1030.63 1924.78,1031.02 1931.87,1031.26 1938.96,1031.36 1946.05,1031.47 1953.14,1031.68 1960.23,1032.06 1967.32,1032.86 1974.41,1034.06 1981.5,1035.23 1988.59,1036.77 1995.68,1038.45 2002.76,1039.93 2009.85,1041.06 2016.94,1042.53 2024.03,1043.84 2031.12,1044.96 2038.21,1045.89 2045.3,1046.6 2052.39,1047.15 2059.48,1047.9 2066.57,1048.76 2073.66,1049.62 2080.74,1050.56 2087.83,1051.52 2094.92,1052.44 2102.01,1053.35 2109.1,1054.33 2116.19,1055.39 2123.28,1056.47 2130.37,1057.71 2137.46,1059.07 2144.55,1060.45 2151.64,1061.74 2158.73,1063.13 2165.81,1064.3 2172.9,1065.4 2179.99,1066.45 2187.08,1067.5 2194.17,1068.39 2201.26,1069.21 2208.35,1069.9 2215.44,1070.58 2222.53,1071.26 2229.62,1071.85 2236.71,1072.36 2243.8,1072.81 2250.88,1073.31 2257.97,1073.81 2265.06,1074.28 2272.15,1074.72 2279.24,1075.22 2286.33,1075.71 2293.42,1076.14 \"/>\n",
       "<polyline clip-path=\"url(#clip542)\" style=\"stroke:#ac8d18; stroke-linecap:round; stroke-linejoin:round; stroke-width:4; stroke-opacity:1; fill:none\" stroke-dasharray=\"16, 10\" points=\"315.545,1084.85 322.634,1084.85 329.723,1089.64 336.812,1095.46 343.902,1102.81 350.991,1106.43 358.08,1114.88 365.169,1124.31 372.258,1132.32 379.347,1137.13 386.436,1142.4 393.526,1148.43 400.615,1153.34 407.704,1160.59 414.793,1169.15 421.882,1177.41 428.971,1184.12 436.061,1191.87 443.15,1202.73 450.239,1213.93 457.328,1226.57 464.417,1240.72 471.506,1250.26 478.596,1258.97 485.685,1270.65 492.774,1282.95 499.863,1294.35 506.952,1305.5 514.041,1316.1 521.13,1323.7 528.22,1329.3 535.309,1333.22 542.398,1333.36 549.487,1332.07 556.576,1327.56 563.665,1322.01 570.755,1318.89 577.844,1314.66 584.933,1309.79 592.022,1303.99 599.111,1299.35 606.2,1293.16 613.289,1286.83 620.379,1280.67 627.468,1280.19 634.557,1274.78 641.646,1269.43 648.735,1269.91 655.824,1268.62 662.914,1266.97 670.003,1266.1 677.092,1265.15 684.181,1263.17 691.27,1261.45 698.359,1260.19 705.449,1258.03 712.538,1255.93 719.627,1252.92 726.716,1250.92 733.805,1248.99 740.894,1247 747.983,1245.13 755.073,1243.56 762.162,1241.14 769.251,1239.69 776.34,1238.59 783.429,1237.35 790.518,1235.61 797.608,1233.54 804.697,1231.29 811.786,1229.54 818.875,1227.59 825.964,1225.47 833.053,1223.71 840.143,1221.54 847.232,1218.96 854.321,1216.47 861.41,1213.56 868.499,1210.78 875.588,1208.68 882.677,1207.18 889.767,1205.33 896.856,1203.11 903.945,1199.94 911.034,1196.79 918.123,1193.35 925.212,1190.3 932.302,1187.5 939.391,1185.63 946.48,1183.03 953.569,1180.52 960.658,1178.51 967.747,1176.62 974.837,1174.92 981.926,1173.42 989.015,1171.66 996.104,1170.59 1003.19,1169.48 1010.28,1168.45 1017.37,1160.42 1024.46,1152.6 1031.55,1144.44 1038.64,1136.44 1045.73,1129.28 1052.82,1121.71 1059.91,1113.74 1067,1104.92 1074.08,1095.72 1081.17,1088.71 1088.26,1082.41 1095.35,1076.78 1102.44,1071.42 1109.53,1066.54 1116.62,1061.05 1123.71,1054.31 1130.8,1047.24 1137.89,1041.33 1144.98,1037.11 1152.07,1034.01 1159.15,1032.55 1166.24,1030.93 1173.33,1030.06 1180.42,1029.74 1187.51,1030 1194.6,1029.96 1201.69,1031.13 1208.78,1032.76 1215.87,1035.2 1222.96,1037.46 1230.05,1039.92 1237.14,1042.33 1244.22,1044.46 1251.31,1046.42 1258.4,1047.86 1265.49,1048.83 1272.58,1048.65 1279.67,1048.33 1286.76,1047.84 1293.85,1047.68 1300.94,1047.97 1308.03,1046.85 1315.12,1045.77 1322.21,1045.06 1329.29,1044.97 1336.38,1044.78 1343.47,1044.61 1350.56,1045.33 1357.65,1045.69 1364.74,1045.2 1371.83,1044.25 1378.92,1044.35 1386.01,1045.79 1393.1,1047.96 1400.19,1050.19 1407.28,1052.07 1414.36,1052.91 1421.45,1052.77 1428.54,1052.73 1435.63,1053.37 1442.72,1053.96 1449.81,1054.25 1456.9,1055 1463.99,1056.25 1471.08,1058.14 1478.17,1059.92 1485.26,1061.78 1492.34,1064.37 1499.43,1066.7 1506.52,1068.88 1513.61,1070.11 1520.7,1071.25 1527.79,1072.53 1534.88,1073.22 1541.97,1073.66 1549.06,1073.58 1556.15,1073.13 1563.24,1072.28 1570.33,1070.89 1577.41,1069.34 1584.5,1068.01 1591.59,1066.87 1598.68,1066.26 1605.77,1065.83 1612.86,1065.61 1619.95,1065.03 1627.04,1064.65 1634.13,1063.94 1641.22,1063.18 1648.31,1063.39 1655.4,1063.49 1662.48,1063.44 1669.57,1063.6 1676.66,1064.36 1683.75,1064.75 1690.84,1065.18 1697.93,1066.16 1705.02,1067.92 1712.11,1070.13 1719.2,1072.16 1726.29,1073.99 1733.38,1075.6 1740.47,1077.29 1747.55,1078.74 1754.64,1079.91 1761.73,1081.57 1768.82,1083.13 1775.91,1084.57 1783,1085.73 1790.09,1086.93 1797.18,1087.99 1804.27,1089.27 1811.36,1090.48 1818.45,1091.46 1825.54,1092.14 1832.62,1092.84 1839.71,1093.37 1846.8,1093.69 1853.89,1093.37 1860.98,1092.85 1868.07,1092.84 1875.16,1092.79 1882.25,1092.39 1889.34,1091.95 1896.43,1091.26 1903.52,1090.53 1910.61,1089.24 1917.69,1088.21 1924.78,1087.34 1931.87,1086.78 1938.96,1086.7 1946.05,1086.47 1953.14,1086.45 1960.23,1086.23 1967.32,1086.03 1974.41,1085.9 1981.5,1085.51 1988.59,1085.04 1995.68,1084.49 2002.76,1083.86 2009.85,1082.99 2016.94,1082.47 2024.03,1082.09 2031.12,1081.79 2038.21,1081.4 2045.3,1080.81 2052.39,1080.51 2059.48,1080.21 2066.57,1079.89 2073.66,1079.81 2080.74,1079.69 2087.83,1079.64 2094.92,1079.58 2102.01,1079.51 2109.1,1079.47 2116.19,1079.44 2123.28,1079.46 2130.37,1079.27 2137.46,1079.07 2144.55,1078.92 2151.64,1078.8 2158.73,1078.79 2165.81,1078.69 2172.9,1078.58 2179.99,1078.56 2187.08,1078.65 2194.17,1078.59 2201.26,1078.62 2208.35,1078.74 2215.44,1078.89 2222.53,1079.02 2229.62,1079.14 2236.71,1079.36 2243.8,1079.5 2250.88,1079.62 2257.97,1079.77 2265.06,1079.92 2272.15,1080.08 2279.24,1080.28 2286.33,1080.5 2293.42,1080.66 \"/>\n",
       "<polyline clip-path=\"url(#clip542)\" style=\"stroke:#00a9ad; stroke-linecap:round; stroke-linejoin:round; stroke-width:4; stroke-opacity:1; fill:none\" stroke-dasharray=\"16, 10\" points=\"315.545,1084.86 322.634,1084.87 329.723,1085.05 336.812,1084.21 343.902,1087.76 350.991,1091.28 358.08,1094.73 365.169,1099.52 372.258,1099.98 379.347,1103.55 386.436,1111.42 393.526,1120.9 400.615,1132.86 407.704,1147.36 414.793,1158.55 421.882,1169.89 428.971,1180.01 436.061,1192.71 443.15,1201.8 450.239,1209.4 457.328,1217.97 464.417,1228.32 471.506,1237.87 478.596,1249.47 485.685,1260.96 492.774,1272.79 499.863,1281.96 506.952,1286.73 514.041,1290.71 521.13,1293.9 528.22,1295.83 535.309,1296.83 542.398,1297.2 549.487,1296.31 556.576,1297.59 563.665,1301.52 570.755,1305.64 577.844,1308.9 584.933,1312.91 592.022,1315.09 599.111,1316.43 606.2,1318.54 613.289,1319.83 620.379,1320.9 627.468,1320.27 634.557,1319.42 641.646,1316.44 648.735,1310.9 655.824,1305.88 662.914,1300.95 670.003,1293.2 677.092,1284.29 684.181,1275.23 691.27,1265.69 698.359,1259.02 705.449,1253.28 712.538,1248.31 719.627,1242.64 726.716,1239.03 733.805,1235.6 740.894,1232.74 747.983,1229.86 755.073,1226.21 762.162,1223.31 769.251,1220.82 776.34,1217.77 783.429,1214.56 790.518,1211.91 797.608,1208.46 804.697,1204.94 811.786,1201.62 818.875,1198.61 825.964,1195.6 833.053,1192.88 840.143,1189.8 847.232,1186.44 854.321,1181.74 861.41,1176.68 868.499,1171.06 875.588,1166.82 882.677,1161.18 889.767,1155.5 896.856,1151.03 903.945,1146.41 911.034,1141.6 918.123,1137.63 925.212,1133.36 932.302,1128.3 939.391,1123.96 946.48,1118.41 953.569,1113.06 960.658,1108.35 967.747,1102.4 974.837,1095.92 981.926,1089.85 989.015,1084.21 996.104,1079.34 1003.19,1074.8 1010.28,1071.65 1017.37,1068.68 1024.46,1066.21 1031.55,1062.84 1038.64,1059.3 1045.73,1055.91 1052.82,1051.58 1059.91,1046.53 1067,1041.92 1074.08,1038.34 1081.17,1034.93 1088.26,1033.7 1095.35,1033.66 1102.44,1033.02 1109.53,1032.15 1116.62,1030.72 1123.71,1029.33 1130.8,1027.9 1137.89,1026.71 1144.98,1025.73 1152.07,1024.12 1159.15,1023.92 1166.24,1023.14 1173.33,1020.86 1180.42,1018.3 1187.51,1015.52 1194.6,1013.11 1201.69,1011.25 1208.78,1009.38 1215.87,1007.17 1222.96,1004.92 1230.05,1003.15 1237.14,1000.99 1244.22,998.621 1251.31,995.711 1258.4,992.75 1265.49,990.279 1272.58,989.133 1279.67,988.647 1286.76,988.855 1293.85,988.575 1300.94,988.598 1308.03,988.173 1315.12,988.101 1322.21,988.075 1329.29,986.694 1336.38,984.814 1343.47,982.871 1350.56,981.327 1357.65,981.157 1364.74,981.048 1371.83,980.284 1378.92,979.858 1386.01,980.175 1393.1,979.662 1400.19,979.321 1407.28,979.688 1414.36,980.198 1421.45,980.31 1428.54,980.76 1435.63,980.995 1442.72,980.598 1449.81,981.269 1456.9,982.666 1463.99,984.444 1471.08,985.478 1478.17,986.593 1485.26,988.069 1492.34,989.377 1499.43,990.907 1506.52,992.301 1513.61,993.414 1520.7,995.422 1527.79,999.038 1534.88,1002.43 1541.97,1005.81 1549.06,1008.59 1556.15,1011.27 1563.24,1013.51 1570.33,1016.62 1577.41,1019.73 1584.5,1022.61 1591.59,1025.6 1598.68,1028.44 1605.77,1031.26 1612.86,1033.94 1619.95,1035.94 1627.04,1037.55 1634.13,1039.81 1641.22,1043.05 1648.31,1045.92 1655.4,1047.99 1662.48,1049.41 1669.57,1050.52 1676.66,1051 1683.75,1051.49 1690.84,1052.08 1697.93,1053.54 1705.02,1054.86 1712.11,1056.45 1719.2,1058.33 1726.29,1060.62 1733.38,1062.37 1740.47,1064.12 1747.55,1065.71 1754.64,1066.46 1761.73,1066.46 1768.82,1066.28 1775.91,1066.35 1783,1066.23 1790.09,1065.91 1797.18,1065.68 1804.27,1065.59 1811.36,1065.82 1818.45,1066.72 1825.54,1068.13 1832.62,1069.66 1839.71,1071.76 1846.8,1073.45 1853.89,1074.91 1860.98,1076 1868.07,1077.34 1875.16,1078.19 1882.25,1078.97 1889.34,1079.75 1896.43,1080.53 1903.52,1081.42 1910.61,1082.03 1917.69,1082.45 1924.78,1082.61 1931.87,1082.99 1938.96,1083.33 1946.05,1084.05 1953.14,1084.79 1960.23,1085.17 1967.32,1085.5 1974.41,1085.61 1981.5,1085.73 1988.59,1086.21 1995.68,1086.84 2002.76,1087.64 2009.85,1088.32 2016.94,1089.1 2024.03,1090.22 2031.12,1091.06 2038.21,1092.03 2045.3,1093.04 2052.39,1093.75 2059.48,1094.19 2066.57,1094.55 2073.66,1094.96 2080.74,1095.33 2087.83,1095.51 2094.92,1095.63 2102.01,1095.64 2109.1,1095.53 2116.19,1095.42 2123.28,1095.44 2130.37,1095.33 2137.46,1095.28 2144.55,1095.21 2151.64,1095.24 2158.73,1095.36 2165.81,1095.39 2172.9,1095.56 2179.99,1095.77 2187.08,1096.01 2194.17,1096.29 2201.26,1096.51 2208.35,1096.75 2215.44,1096.9 2222.53,1097.1 2229.62,1097.33 2236.71,1097.59 2243.8,1097.86 2250.88,1098.07 2257.97,1098.24 2265.06,1098.36 2272.15,1098.48 2279.24,1098.52 2286.33,1098.57 2293.42,1098.59 \"/>\n",
       "<path clip-path=\"url(#clip540)\" d=\"M2002.85 529.676 L2282.87 529.676 L2282.87 166.796 L2002.85 166.796  Z\" fill=\"#ffffff\" fill-rule=\"evenodd\" fill-opacity=\"1\"/>\n",
       "<polyline clip-path=\"url(#clip540)\" style=\"stroke:#000000; stroke-linecap:round; stroke-linejoin:round; stroke-width:4; stroke-opacity:1; fill:none\" points=\"2002.85,529.676 2282.87,529.676 2282.87,166.796 2002.85,166.796 2002.85,529.676 \"/>\n",
       "<polyline clip-path=\"url(#clip540)\" style=\"stroke:#009af9; stroke-linecap:round; stroke-linejoin:round; stroke-width:4; stroke-opacity:1; fill:none\" points=\"2026.14,218.636 2165.91,218.636 \"/>\n",
       "<path clip-path=\"url(#clip540)\" d=\"M2213.23 221.888 L2213.23 223.971 L2193.65 223.971 Q2193.93 228.369 2196.29 230.684 Q2198.67 232.976 2202.91 232.976 Q2205.36 232.976 2207.66 232.374 Q2209.97 231.772 2212.24 230.569 L2212.24 234.596 Q2209.95 235.568 2207.54 236.078 Q2205.13 236.587 2202.66 236.587 Q2196.45 236.587 2192.82 232.976 Q2189.21 229.365 2189.21 223.207 Q2189.21 216.842 2192.63 213.115 Q2196.08 209.365 2201.91 209.365 Q2207.15 209.365 2210.18 212.745 Q2213.23 216.101 2213.23 221.888 M2208.97 220.638 Q2208.93 217.143 2207.01 215.059 Q2205.11 212.976 2201.96 212.976 Q2198.4 212.976 2196.24 214.99 Q2194.11 217.004 2193.79 220.661 L2208.97 220.638 Z\" fill=\"#000000\" fill-rule=\"evenodd\" fill-opacity=\"1\" /><path clip-path=\"url(#clip540)\" d=\"M2240.94 209.99 L2231.57 222.606 L2241.43 235.916 L2236.4 235.916 L2228.86 225.731 L2221.31 235.916 L2216.29 235.916 L2226.36 222.351 L2217.15 209.99 L2222.17 209.99 L2229.04 219.226 L2235.92 209.99 L2240.94 209.99 Z\" fill=\"#000000\" fill-rule=\"evenodd\" fill-opacity=\"1\" /><path clip-path=\"url(#clip540)\" d=\"M2246.59 233.369 L2251.31 233.369 L2251.31 219.226 L2246.15 220.175 L2246.15 217.49 L2251.47 216.587 L2254.65 216.587 L2254.65 233.369 L2259.39 233.369 L2259.39 235.916 L2246.59 235.916 L2246.59 233.369 Z\" fill=\"#000000\" fill-rule=\"evenodd\" fill-opacity=\"1\" /><polyline clip-path=\"url(#clip540)\" style=\"stroke:#e26f46; stroke-linecap:round; stroke-linejoin:round; stroke-width:4; stroke-opacity:1; fill:none\" points=\"2026.14,270.476 2165.91,270.476 \"/>\n",
       "<path clip-path=\"url(#clip540)\" d=\"M2213.23 273.728 L2213.23 275.811 L2193.65 275.811 Q2193.93 280.209 2196.29 282.524 Q2198.67 284.816 2202.91 284.816 Q2205.36 284.816 2207.66 284.214 Q2209.97 283.612 2212.24 282.409 L2212.24 286.436 Q2209.95 287.408 2207.54 287.918 Q2205.13 288.427 2202.66 288.427 Q2196.45 288.427 2192.82 284.816 Q2189.21 281.205 2189.21 275.047 Q2189.21 268.682 2192.63 264.955 Q2196.08 261.205 2201.91 261.205 Q2207.15 261.205 2210.18 264.585 Q2213.23 267.941 2213.23 273.728 M2208.97 272.478 Q2208.93 268.983 2207.01 266.899 Q2205.11 264.816 2201.96 264.816 Q2198.4 264.816 2196.24 266.83 Q2194.11 268.844 2193.79 272.501 L2208.97 272.478 Z\" fill=\"#000000\" fill-rule=\"evenodd\" fill-opacity=\"1\" /><path clip-path=\"url(#clip540)\" d=\"M2240.94 261.83 L2231.57 274.446 L2241.43 287.756 L2236.4 287.756 L2228.86 277.571 L2221.31 287.756 L2216.29 287.756 L2226.36 274.191 L2217.15 261.83 L2222.17 261.83 L2229.04 271.066 L2235.92 261.83 L2240.94 261.83 Z\" fill=\"#000000\" fill-rule=\"evenodd\" fill-opacity=\"1\" /><path clip-path=\"url(#clip540)\" d=\"M2249.18 285.117 L2259 285.117 L2259 287.756 L2245.15 287.756 L2245.15 285.209 Q2245.94 284.492 2247.4 283.196 Q2255.36 276.135 2255.36 273.959 Q2255.36 272.432 2254.16 271.506 Q2252.96 270.557 2250.99 270.557 Q2249.78 270.557 2248.37 270.973 Q2246.96 271.367 2245.29 272.177 L2245.29 269.33 Q2247.08 268.682 2248.6 268.358 Q2250.15 268.034 2251.47 268.034 Q2254.83 268.034 2256.84 269.561 Q2258.86 271.089 2258.86 273.589 Q2258.86 276.807 2251.2 283.381 Q2249.9 284.492 2249.18 285.117 Z\" fill=\"#000000\" fill-rule=\"evenodd\" fill-opacity=\"1\" /><polyline clip-path=\"url(#clip540)\" style=\"stroke:#3da44d; stroke-linecap:round; stroke-linejoin:round; stroke-width:4; stroke-opacity:1; fill:none\" points=\"2026.14,322.316 2165.91,322.316 \"/>\n",
       "<path clip-path=\"url(#clip540)\" d=\"M2213.23 325.568 L2213.23 327.651 L2193.65 327.651 Q2193.93 332.049 2196.29 334.364 Q2198.67 336.656 2202.91 336.656 Q2205.36 336.656 2207.66 336.054 Q2209.97 335.452 2212.24 334.249 L2212.24 338.276 Q2209.95 339.248 2207.54 339.758 Q2205.13 340.267 2202.66 340.267 Q2196.45 340.267 2192.82 336.656 Q2189.21 333.045 2189.21 326.887 Q2189.21 320.522 2192.63 316.795 Q2196.08 313.045 2201.91 313.045 Q2207.15 313.045 2210.18 316.425 Q2213.23 319.781 2213.23 325.568 M2208.97 324.318 Q2208.93 320.823 2207.01 318.739 Q2205.11 316.656 2201.96 316.656 Q2198.4 316.656 2196.24 318.67 Q2194.11 320.684 2193.79 324.341 L2208.97 324.318 Z\" fill=\"#000000\" fill-rule=\"evenodd\" fill-opacity=\"1\" /><path clip-path=\"url(#clip540)\" d=\"M2240.94 313.67 L2231.57 326.286 L2241.43 339.596 L2236.4 339.596 L2228.86 329.411 L2221.31 339.596 L2216.29 339.596 L2226.36 326.031 L2217.15 313.67 L2222.17 313.67 L2229.04 322.906 L2235.92 313.67 L2240.94 313.67 Z\" fill=\"#000000\" fill-rule=\"evenodd\" fill-opacity=\"1\" /><path clip-path=\"url(#clip540)\" d=\"M2255.11 329.133 Q2257.24 329.549 2258.4 330.823 Q2259.58 332.073 2259.58 333.971 Q2259.58 336.841 2257.38 338.392 Q2255.18 339.943 2251.08 339.943 Q2249.76 339.943 2248.3 339.688 Q2246.87 339.457 2245.25 338.994 L2245.25 336.193 Q2246.45 336.818 2247.82 337.119 Q2249.21 337.42 2250.76 337.42 Q2253.28 337.42 2254.67 336.517 Q2256.06 335.591 2256.06 333.971 Q2256.06 332.258 2254.76 331.378 Q2253.49 330.499 2250.99 330.499 L2249 330.499 L2249 327.999 L2251.17 327.999 Q2253.35 327.999 2254.46 327.281 Q2255.59 326.54 2255.59 325.151 Q2255.59 323.809 2254.44 323.114 Q2253.28 322.397 2251.08 322.397 Q2250.15 322.397 2248.97 322.605 Q2247.79 322.813 2245.92 323.346 L2245.92 320.684 Q2247.61 320.29 2249.09 320.082 Q2250.57 319.874 2251.84 319.874 Q2255.18 319.874 2257.12 321.239 Q2259.09 322.605 2259.09 324.897 Q2259.09 326.494 2258.05 327.605 Q2257.01 328.716 2255.11 329.133 Z\" fill=\"#000000\" fill-rule=\"evenodd\" fill-opacity=\"1\" /><polyline clip-path=\"url(#clip540)\" style=\"stroke:#c271d2; stroke-linecap:round; stroke-linejoin:round; stroke-width:4; stroke-opacity:1; fill:none\" stroke-dasharray=\"16, 10\" points=\"2026.14,374.156 2165.91,374.156 \"/>\n",
       "<path clip-path=\"url(#clip540)\" d=\"M2213.23 377.408 L2213.23 379.491 L2193.65 379.491 Q2193.93 383.889 2196.29 386.204 Q2198.67 388.496 2202.91 388.496 Q2205.36 388.496 2207.66 387.894 Q2209.97 387.292 2212.24 386.089 L2212.24 390.116 Q2209.95 391.088 2207.54 391.598 Q2205.13 392.107 2202.66 392.107 Q2196.45 392.107 2192.82 388.496 Q2189.21 384.885 2189.21 378.727 Q2189.21 372.362 2192.63 368.635 Q2196.08 364.885 2201.91 364.885 Q2207.15 364.885 2210.18 368.265 Q2213.23 371.621 2213.23 377.408 M2208.97 376.158 Q2208.93 372.663 2207.01 370.579 Q2205.11 368.496 2201.96 368.496 Q2198.4 368.496 2196.24 370.51 Q2194.11 372.524 2193.79 376.181 L2208.97 376.158 Z\" fill=\"#000000\" fill-rule=\"evenodd\" fill-opacity=\"1\" /><path clip-path=\"url(#clip540)\" d=\"M2240.94 365.51 L2231.57 378.126 L2241.43 391.436 L2236.4 391.436 L2228.86 381.251 L2221.31 391.436 L2216.29 391.436 L2226.36 377.871 L2217.15 365.51 L2222.17 365.51 L2229.04 374.746 L2235.92 365.51 L2240.94 365.51 Z\" fill=\"#000000\" fill-rule=\"evenodd\" fill-opacity=\"1\" /><path clip-path=\"url(#clip540)\" d=\"M2228.95 355.417 L2233.21 355.417 L2233.21 360.811 L2228.95 360.811 L2228.95 355.417 M2231.13 364.885 L2231.13 364.885 Z\" fill=\"#000000\" fill-rule=\"evenodd\" fill-opacity=\"1\" /><path clip-path=\"url(#clip540)\" d=\"M2246.59 388.889 L2251.31 388.889 L2251.31 374.746 L2246.15 375.695 L2246.15 373.01 L2251.47 372.107 L2254.65 372.107 L2254.65 388.889 L2259.39 388.889 L2259.39 391.436 L2246.59 391.436 L2246.59 388.889 Z\" fill=\"#000000\" fill-rule=\"evenodd\" fill-opacity=\"1\" /><polyline clip-path=\"url(#clip540)\" style=\"stroke:#ac8d18; stroke-linecap:round; stroke-linejoin:round; stroke-width:4; stroke-opacity:1; fill:none\" stroke-dasharray=\"16, 10\" points=\"2026.14,425.996 2165.91,425.996 \"/>\n",
       "<path clip-path=\"url(#clip540)\" d=\"M2213.23 429.248 L2213.23 431.331 L2193.65 431.331 Q2193.93 435.729 2196.29 438.044 Q2198.67 440.336 2202.91 440.336 Q2205.36 440.336 2207.66 439.734 Q2209.97 439.132 2212.24 437.929 L2212.24 441.956 Q2209.95 442.928 2207.54 443.438 Q2205.13 443.947 2202.66 443.947 Q2196.45 443.947 2192.82 440.336 Q2189.21 436.725 2189.21 430.567 Q2189.21 424.202 2192.63 420.475 Q2196.08 416.725 2201.91 416.725 Q2207.15 416.725 2210.18 420.105 Q2213.23 423.461 2213.23 429.248 M2208.97 427.998 Q2208.93 424.503 2207.01 422.419 Q2205.11 420.336 2201.96 420.336 Q2198.4 420.336 2196.24 422.35 Q2194.11 424.364 2193.79 428.021 L2208.97 427.998 Z\" fill=\"#000000\" fill-rule=\"evenodd\" fill-opacity=\"1\" /><path clip-path=\"url(#clip540)\" d=\"M2240.94 417.35 L2231.57 429.966 L2241.43 443.276 L2236.4 443.276 L2228.86 433.091 L2221.31 443.276 L2216.29 443.276 L2226.36 429.711 L2217.15 417.35 L2222.17 417.35 L2229.04 426.586 L2235.92 417.35 L2240.94 417.35 Z\" fill=\"#000000\" fill-rule=\"evenodd\" fill-opacity=\"1\" /><path clip-path=\"url(#clip540)\" d=\"M2228.95 407.257 L2233.21 407.257 L2233.21 412.651 L2228.95 412.651 L2228.95 407.257 M2231.13 416.725 L2231.13 416.725 Z\" fill=\"#000000\" fill-rule=\"evenodd\" fill-opacity=\"1\" /><path clip-path=\"url(#clip540)\" d=\"M2249.18 440.637 L2259 440.637 L2259 443.276 L2245.15 443.276 L2245.15 440.729 Q2245.94 440.012 2247.4 438.716 Q2255.36 431.655 2255.36 429.479 Q2255.36 427.952 2254.16 427.026 Q2252.96 426.077 2250.99 426.077 Q2249.78 426.077 2248.37 426.493 Q2246.96 426.887 2245.29 427.697 L2245.29 424.85 Q2247.08 424.202 2248.6 423.878 Q2250.15 423.554 2251.47 423.554 Q2254.83 423.554 2256.84 425.081 Q2258.86 426.609 2258.86 429.109 Q2258.86 432.327 2251.2 438.901 Q2249.9 440.012 2249.18 440.637 Z\" fill=\"#000000\" fill-rule=\"evenodd\" fill-opacity=\"1\" /><polyline clip-path=\"url(#clip540)\" style=\"stroke:#00a9ad; stroke-linecap:round; stroke-linejoin:round; stroke-width:4; stroke-opacity:1; fill:none\" stroke-dasharray=\"16, 10\" points=\"2026.14,477.836 2165.91,477.836 \"/>\n",
       "<path clip-path=\"url(#clip540)\" d=\"M2213.23 481.088 L2213.23 483.171 L2193.65 483.171 Q2193.93 487.569 2196.29 489.884 Q2198.67 492.176 2202.91 492.176 Q2205.36 492.176 2207.66 491.574 Q2209.97 490.972 2212.24 489.769 L2212.24 493.796 Q2209.95 494.768 2207.54 495.278 Q2205.13 495.787 2202.66 495.787 Q2196.45 495.787 2192.82 492.176 Q2189.21 488.565 2189.21 482.407 Q2189.21 476.042 2192.63 472.315 Q2196.08 468.565 2201.91 468.565 Q2207.15 468.565 2210.18 471.945 Q2213.23 475.301 2213.23 481.088 M2208.97 479.838 Q2208.93 476.343 2207.01 474.259 Q2205.11 472.176 2201.96 472.176 Q2198.4 472.176 2196.24 474.19 Q2194.11 476.204 2193.79 479.861 L2208.97 479.838 Z\" fill=\"#000000\" fill-rule=\"evenodd\" fill-opacity=\"1\" /><path clip-path=\"url(#clip540)\" d=\"M2240.94 469.19 L2231.57 481.806 L2241.43 495.116 L2236.4 495.116 L2228.86 484.931 L2221.31 495.116 L2216.29 495.116 L2226.36 481.551 L2217.15 469.19 L2222.17 469.19 L2229.04 478.426 L2235.92 469.19 L2240.94 469.19 Z\" fill=\"#000000\" fill-rule=\"evenodd\" fill-opacity=\"1\" /><path clip-path=\"url(#clip540)\" d=\"M2228.95 459.097 L2233.21 459.097 L2233.21 464.491 L2228.95 464.491 L2228.95 459.097 M2231.13 468.565 L2231.13 468.565 Z\" fill=\"#000000\" fill-rule=\"evenodd\" fill-opacity=\"1\" /><path clip-path=\"url(#clip540)\" d=\"M2255.11 484.653 Q2257.24 485.069 2258.4 486.343 Q2259.58 487.593 2259.58 489.491 Q2259.58 492.361 2257.38 493.912 Q2255.18 495.463 2251.08 495.463 Q2249.76 495.463 2248.3 495.208 Q2246.87 494.977 2245.25 494.514 L2245.25 491.713 Q2246.45 492.338 2247.82 492.639 Q2249.21 492.94 2250.76 492.94 Q2253.28 492.94 2254.67 492.037 Q2256.06 491.111 2256.06 489.491 Q2256.06 487.778 2254.76 486.898 Q2253.49 486.019 2250.99 486.019 L2249 486.019 L2249 483.519 L2251.17 483.519 Q2253.35 483.519 2254.46 482.801 Q2255.59 482.06 2255.59 480.671 Q2255.59 479.329 2254.44 478.634 Q2253.28 477.917 2251.08 477.917 Q2250.15 477.917 2248.97 478.125 Q2247.79 478.333 2245.92 478.866 L2245.92 476.204 Q2247.61 475.81 2249.09 475.602 Q2250.57 475.394 2251.84 475.394 Q2255.18 475.394 2257.12 476.759 Q2259.09 478.125 2259.09 480.417 Q2259.09 482.014 2258.05 483.125 Q2257.01 484.236 2255.11 484.653 Z\" fill=\"#000000\" fill-rule=\"evenodd\" fill-opacity=\"1\" /></svg>\n"
      ]
     },
     "metadata": {},
     "output_type": "display_data"
    },
    {
     "data": {
      "image/svg+xml": [
       "<?xml version=\"1.0\" encoding=\"utf-8\"?>\n",
       "<svg xmlns=\"http://www.w3.org/2000/svg\" xmlns:xlink=\"http://www.w3.org/1999/xlink\" width=\"600\" height=\"400\" viewBox=\"0 0 2400 1600\">\n",
       "<defs>\n",
       "  <clipPath id=\"clip580\">\n",
       "    <rect x=\"0\" y=\"0\" width=\"2400\" height=\"1600\"/>\n",
       "  </clipPath>\n",
       "</defs>\n",
       "<path clip-path=\"url(#clip580)\" d=\"M0 1600 L2400 1600 L2400 0 L0 0  Z\" fill=\"#ffffff\" fill-rule=\"evenodd\" fill-opacity=\"1\"/>\n",
       "<defs>\n",
       "  <clipPath id=\"clip581\">\n",
       "    <rect x=\"480\" y=\"0\" width=\"1681\" height=\"1600\"/>\n",
       "  </clipPath>\n",
       "</defs>\n",
       "<path clip-path=\"url(#clip580)\" d=\"M232.389 1423.18 L2352.76 1423.18 L2352.76 123.472 L232.389 123.472  Z\" fill=\"#ffffff\" fill-rule=\"evenodd\" fill-opacity=\"1\"/>\n",
       "<defs>\n",
       "  <clipPath id=\"clip582\">\n",
       "    <rect x=\"232\" y=\"123\" width=\"2121\" height=\"1301\"/>\n",
       "  </clipPath>\n",
       "</defs>\n",
       "<polyline clip-path=\"url(#clip582)\" style=\"stroke:#000000; stroke-linecap:round; stroke-linejoin:round; stroke-width:2; stroke-opacity:0.1; fill:none\" points=\"292.4,1423.18 292.4,123.472 \"/>\n",
       "<polyline clip-path=\"url(#clip582)\" style=\"stroke:#000000; stroke-linecap:round; stroke-linejoin:round; stroke-width:2; stroke-opacity:0.1; fill:none\" points=\"653.473,1423.18 653.473,123.472 \"/>\n",
       "<polyline clip-path=\"url(#clip582)\" style=\"stroke:#000000; stroke-linecap:round; stroke-linejoin:round; stroke-width:2; stroke-opacity:0.1; fill:none\" points=\"1014.55,1423.18 1014.55,123.472 \"/>\n",
       "<polyline clip-path=\"url(#clip582)\" style=\"stroke:#000000; stroke-linecap:round; stroke-linejoin:round; stroke-width:2; stroke-opacity:0.1; fill:none\" points=\"1375.62,1423.18 1375.62,123.472 \"/>\n",
       "<polyline clip-path=\"url(#clip582)\" style=\"stroke:#000000; stroke-linecap:round; stroke-linejoin:round; stroke-width:2; stroke-opacity:0.1; fill:none\" points=\"1736.69,1423.18 1736.69,123.472 \"/>\n",
       "<polyline clip-path=\"url(#clip582)\" style=\"stroke:#000000; stroke-linecap:round; stroke-linejoin:round; stroke-width:2; stroke-opacity:0.1; fill:none\" points=\"2097.77,1423.18 2097.77,123.472 \"/>\n",
       "<polyline clip-path=\"url(#clip580)\" style=\"stroke:#000000; stroke-linecap:round; stroke-linejoin:round; stroke-width:4; stroke-opacity:1; fill:none\" points=\"232.389,1423.18 2352.76,1423.18 \"/>\n",
       "<polyline clip-path=\"url(#clip580)\" style=\"stroke:#000000; stroke-linecap:round; stroke-linejoin:round; stroke-width:4; stroke-opacity:1; fill:none\" points=\"292.4,1423.18 292.4,1404.28 \"/>\n",
       "<polyline clip-path=\"url(#clip580)\" style=\"stroke:#000000; stroke-linecap:round; stroke-linejoin:round; stroke-width:4; stroke-opacity:1; fill:none\" points=\"653.473,1423.18 653.473,1404.28 \"/>\n",
       "<polyline clip-path=\"url(#clip580)\" style=\"stroke:#000000; stroke-linecap:round; stroke-linejoin:round; stroke-width:4; stroke-opacity:1; fill:none\" points=\"1014.55,1423.18 1014.55,1404.28 \"/>\n",
       "<polyline clip-path=\"url(#clip580)\" style=\"stroke:#000000; stroke-linecap:round; stroke-linejoin:round; stroke-width:4; stroke-opacity:1; fill:none\" points=\"1375.62,1423.18 1375.62,1404.28 \"/>\n",
       "<polyline clip-path=\"url(#clip580)\" style=\"stroke:#000000; stroke-linecap:round; stroke-linejoin:round; stroke-width:4; stroke-opacity:1; fill:none\" points=\"1736.69,1423.18 1736.69,1404.28 \"/>\n",
       "<polyline clip-path=\"url(#clip580)\" style=\"stroke:#000000; stroke-linecap:round; stroke-linejoin:round; stroke-width:4; stroke-opacity:1; fill:none\" points=\"2097.77,1423.18 2097.77,1404.28 \"/>\n",
       "<path clip-path=\"url(#clip580)\" d=\"M269.784 1454.1 Q266.173 1454.1 264.344 1457.66 Q262.539 1461.2 262.539 1468.33 Q262.539 1475.44 264.344 1479.01 Q266.173 1482.55 269.784 1482.55 Q273.418 1482.55 275.224 1479.01 Q277.053 1475.44 277.053 1468.33 Q277.053 1461.2 275.224 1457.66 Q273.418 1454.1 269.784 1454.1 M269.784 1450.39 Q275.594 1450.39 278.65 1455 Q281.728 1459.58 281.728 1468.33 Q281.728 1477.06 278.65 1481.67 Q275.594 1486.25 269.784 1486.25 Q263.974 1486.25 260.895 1481.67 Q257.84 1477.06 257.84 1468.33 Q257.84 1459.58 260.895 1455 Q263.974 1450.39 269.784 1450.39 Z\" fill=\"#000000\" fill-rule=\"evenodd\" fill-opacity=\"1\" /><path clip-path=\"url(#clip580)\" d=\"M289.946 1479.7 L294.83 1479.7 L294.83 1485.58 L289.946 1485.58 L289.946 1479.7 Z\" fill=\"#000000\" fill-rule=\"evenodd\" fill-opacity=\"1\" /><path clip-path=\"url(#clip580)\" d=\"M315.015 1454.1 Q311.404 1454.1 309.576 1457.66 Q307.77 1461.2 307.77 1468.33 Q307.77 1475.44 309.576 1479.01 Q311.404 1482.55 315.015 1482.55 Q318.65 1482.55 320.455 1479.01 Q322.284 1475.44 322.284 1468.33 Q322.284 1461.2 320.455 1457.66 Q318.65 1454.1 315.015 1454.1 M315.015 1450.39 Q320.825 1450.39 323.881 1455 Q326.96 1459.58 326.96 1468.33 Q326.96 1477.06 323.881 1481.67 Q320.825 1486.25 315.015 1486.25 Q309.205 1486.25 306.126 1481.67 Q303.071 1477.06 303.071 1468.33 Q303.071 1459.58 306.126 1455 Q309.205 1450.39 315.015 1450.39 Z\" fill=\"#000000\" fill-rule=\"evenodd\" fill-opacity=\"1\" /><path clip-path=\"url(#clip580)\" d=\"M625.209 1481.64 L641.529 1481.64 L641.529 1485.58 L619.584 1485.58 L619.584 1481.64 Q622.246 1478.89 626.83 1474.26 Q631.436 1469.61 632.617 1468.27 Q634.862 1465.74 635.742 1464.01 Q636.644 1462.25 636.644 1460.56 Q636.644 1457.8 634.7 1456.07 Q632.779 1454.33 629.677 1454.33 Q627.478 1454.33 625.024 1455.09 Q622.593 1455.86 619.816 1457.41 L619.816 1452.69 Q622.64 1451.55 625.093 1450.97 Q627.547 1450.39 629.584 1450.39 Q634.955 1450.39 638.149 1453.08 Q641.343 1455.77 641.343 1460.26 Q641.343 1462.39 640.533 1464.31 Q639.746 1466.2 637.64 1468.8 Q637.061 1469.47 633.959 1472.69 Q630.857 1475.88 625.209 1481.64 Z\" fill=\"#000000\" fill-rule=\"evenodd\" fill-opacity=\"1\" /><path clip-path=\"url(#clip580)\" d=\"M651.343 1479.7 L656.228 1479.7 L656.228 1485.58 L651.343 1485.58 L651.343 1479.7 Z\" fill=\"#000000\" fill-rule=\"evenodd\" fill-opacity=\"1\" /><path clip-path=\"url(#clip580)\" d=\"M666.459 1451.02 L684.815 1451.02 L684.815 1454.96 L670.741 1454.96 L670.741 1463.43 Q671.76 1463.08 672.778 1462.92 Q673.797 1462.73 674.815 1462.73 Q680.602 1462.73 683.982 1465.9 Q687.362 1469.08 687.362 1474.49 Q687.362 1480.07 683.889 1483.17 Q680.417 1486.25 674.098 1486.25 Q671.922 1486.25 669.653 1485.88 Q667.408 1485.51 665.001 1484.77 L665.001 1480.07 Q667.084 1481.2 669.306 1481.76 Q671.528 1482.32 674.005 1482.32 Q678.01 1482.32 680.348 1480.21 Q682.686 1478.1 682.686 1474.49 Q682.686 1470.88 680.348 1468.77 Q678.01 1466.67 674.005 1466.67 Q672.13 1466.67 670.255 1467.08 Q668.403 1467.5 666.459 1468.38 L666.459 1451.02 Z\" fill=\"#000000\" fill-rule=\"evenodd\" fill-opacity=\"1\" /><path clip-path=\"url(#clip580)\" d=\"M981.711 1451.02 L1000.07 1451.02 L1000.07 1454.96 L985.993 1454.96 L985.993 1463.43 Q987.012 1463.08 988.03 1462.92 Q989.049 1462.73 990.067 1462.73 Q995.854 1462.73 999.234 1465.9 Q1002.61 1469.08 1002.61 1474.49 Q1002.61 1480.07 999.141 1483.17 Q995.669 1486.25 989.35 1486.25 Q987.174 1486.25 984.905 1485.88 Q982.66 1485.51 980.252 1484.77 L980.252 1480.07 Q982.336 1481.2 984.558 1481.76 Q986.78 1482.32 989.257 1482.32 Q993.262 1482.32 995.6 1480.21 Q997.937 1478.1 997.937 1474.49 Q997.937 1470.88 995.6 1468.77 Q993.262 1466.67 989.257 1466.67 Q987.382 1466.67 985.507 1467.08 Q983.655 1467.5 981.711 1468.38 L981.711 1451.02 Z\" fill=\"#000000\" fill-rule=\"evenodd\" fill-opacity=\"1\" /><path clip-path=\"url(#clip580)\" d=\"M1011.83 1479.7 L1016.71 1479.7 L1016.71 1485.58 L1011.83 1485.58 L1011.83 1479.7 Z\" fill=\"#000000\" fill-rule=\"evenodd\" fill-opacity=\"1\" /><path clip-path=\"url(#clip580)\" d=\"M1036.9 1454.1 Q1033.28 1454.1 1031.46 1457.66 Q1029.65 1461.2 1029.65 1468.33 Q1029.65 1475.44 1031.46 1479.01 Q1033.28 1482.55 1036.9 1482.55 Q1040.53 1482.55 1042.34 1479.01 Q1044.16 1475.44 1044.16 1468.33 Q1044.16 1461.2 1042.34 1457.66 Q1040.53 1454.1 1036.9 1454.1 M1036.9 1450.39 Q1042.71 1450.39 1045.76 1455 Q1048.84 1459.58 1048.84 1468.33 Q1048.84 1477.06 1045.76 1481.67 Q1042.71 1486.25 1036.9 1486.25 Q1031.09 1486.25 1028.01 1481.67 Q1024.95 1477.06 1024.95 1468.33 Q1024.95 1459.58 1028.01 1455 Q1031.09 1450.39 1036.9 1450.39 Z\" fill=\"#000000\" fill-rule=\"evenodd\" fill-opacity=\"1\" /><path clip-path=\"url(#clip580)\" d=\"M1341.94 1451.02 L1364.16 1451.02 L1364.16 1453.01 L1351.61 1485.58 L1346.73 1485.58 L1358.54 1454.96 L1341.94 1454.96 L1341.94 1451.02 Z\" fill=\"#000000\" fill-rule=\"evenodd\" fill-opacity=\"1\" /><path clip-path=\"url(#clip580)\" d=\"M1373.28 1479.7 L1378.17 1479.7 L1378.17 1485.58 L1373.28 1485.58 L1373.28 1479.7 Z\" fill=\"#000000\" fill-rule=\"evenodd\" fill-opacity=\"1\" /><path clip-path=\"url(#clip580)\" d=\"M1388.4 1451.02 L1406.75 1451.02 L1406.75 1454.96 L1392.68 1454.96 L1392.68 1463.43 Q1393.7 1463.08 1394.72 1462.92 Q1395.74 1462.73 1396.75 1462.73 Q1402.54 1462.73 1405.92 1465.9 Q1409.3 1469.08 1409.3 1474.49 Q1409.3 1480.07 1405.83 1483.17 Q1402.36 1486.25 1396.04 1486.25 Q1393.86 1486.25 1391.59 1485.88 Q1389.35 1485.51 1386.94 1484.77 L1386.94 1480.07 Q1389.02 1481.2 1391.24 1481.76 Q1393.47 1482.32 1395.94 1482.32 Q1399.95 1482.32 1402.29 1480.21 Q1404.62 1478.1 1404.62 1474.49 Q1404.62 1470.88 1402.29 1468.77 Q1399.95 1466.67 1395.94 1466.67 Q1394.07 1466.67 1392.19 1467.08 Q1390.34 1467.5 1388.4 1468.38 L1388.4 1451.02 Z\" fill=\"#000000\" fill-rule=\"evenodd\" fill-opacity=\"1\" /><path clip-path=\"url(#clip580)\" d=\"M1688.76 1481.64 L1696.4 1481.64 L1696.4 1455.28 L1688.09 1456.95 L1688.09 1452.69 L1696.36 1451.02 L1701.03 1451.02 L1701.03 1481.64 L1708.67 1481.64 L1708.67 1485.58 L1688.76 1485.58 L1688.76 1481.64 Z\" fill=\"#000000\" fill-rule=\"evenodd\" fill-opacity=\"1\" /><path clip-path=\"url(#clip580)\" d=\"M1728.12 1454.1 Q1724.51 1454.1 1722.68 1457.66 Q1720.87 1461.2 1720.87 1468.33 Q1720.87 1475.44 1722.68 1479.01 Q1724.51 1482.55 1728.12 1482.55 Q1731.75 1482.55 1733.56 1479.01 Q1735.38 1475.44 1735.38 1468.33 Q1735.38 1461.2 1733.56 1457.66 Q1731.75 1454.1 1728.12 1454.1 M1728.12 1450.39 Q1733.93 1450.39 1736.98 1455 Q1740.06 1459.58 1740.06 1468.33 Q1740.06 1477.06 1736.98 1481.67 Q1733.93 1486.25 1728.12 1486.25 Q1722.31 1486.25 1719.23 1481.67 Q1716.17 1477.06 1716.17 1468.33 Q1716.17 1459.58 1719.23 1455 Q1722.31 1450.39 1728.12 1450.39 Z\" fill=\"#000000\" fill-rule=\"evenodd\" fill-opacity=\"1\" /><path clip-path=\"url(#clip580)\" d=\"M1748.28 1479.7 L1753.16 1479.7 L1753.16 1485.58 L1748.28 1485.58 L1748.28 1479.7 Z\" fill=\"#000000\" fill-rule=\"evenodd\" fill-opacity=\"1\" /><path clip-path=\"url(#clip580)\" d=\"M1773.35 1454.1 Q1769.74 1454.1 1767.91 1457.66 Q1766.1 1461.2 1766.1 1468.33 Q1766.1 1475.44 1767.91 1479.01 Q1769.74 1482.55 1773.35 1482.55 Q1776.98 1482.55 1778.79 1479.01 Q1780.62 1475.44 1780.62 1468.33 Q1780.62 1461.2 1778.79 1457.66 Q1776.98 1454.1 1773.35 1454.1 M1773.35 1450.39 Q1779.16 1450.39 1782.21 1455 Q1785.29 1459.58 1785.29 1468.33 Q1785.29 1477.06 1782.21 1481.67 Q1779.16 1486.25 1773.35 1486.25 Q1767.54 1486.25 1764.46 1481.67 Q1761.4 1477.06 1761.4 1468.33 Q1761.4 1459.58 1764.46 1455 Q1767.54 1450.39 1773.35 1450.39 Z\" fill=\"#000000\" fill-rule=\"evenodd\" fill-opacity=\"1\" /><path clip-path=\"url(#clip580)\" d=\"M2050.34 1481.64 L2057.97 1481.64 L2057.97 1455.28 L2049.66 1456.95 L2049.66 1452.69 L2057.93 1451.02 L2062.6 1451.02 L2062.6 1481.64 L2070.24 1481.64 L2070.24 1485.58 L2050.34 1485.58 L2050.34 1481.64 Z\" fill=\"#000000\" fill-rule=\"evenodd\" fill-opacity=\"1\" /><path clip-path=\"url(#clip580)\" d=\"M2083.72 1481.64 L2100.03 1481.64 L2100.03 1485.58 L2078.09 1485.58 L2078.09 1481.64 Q2080.75 1478.89 2085.34 1474.26 Q2089.94 1469.61 2091.12 1468.27 Q2093.37 1465.74 2094.25 1464.01 Q2095.15 1462.25 2095.15 1460.56 Q2095.15 1457.8 2093.21 1456.07 Q2091.28 1454.33 2088.18 1454.33 Q2085.98 1454.33 2083.53 1455.09 Q2081.1 1455.86 2078.32 1457.41 L2078.32 1452.69 Q2081.15 1451.55 2083.6 1450.97 Q2086.05 1450.39 2088.09 1450.39 Q2093.46 1450.39 2096.65 1453.08 Q2099.85 1455.77 2099.85 1460.26 Q2099.85 1462.39 2099.04 1464.31 Q2098.25 1466.2 2096.15 1468.8 Q2095.57 1469.47 2092.47 1472.69 Q2089.36 1475.88 2083.72 1481.64 Z\" fill=\"#000000\" fill-rule=\"evenodd\" fill-opacity=\"1\" /><path clip-path=\"url(#clip580)\" d=\"M2109.85 1479.7 L2114.73 1479.7 L2114.73 1485.58 L2109.85 1485.58 L2109.85 1479.7 Z\" fill=\"#000000\" fill-rule=\"evenodd\" fill-opacity=\"1\" /><path clip-path=\"url(#clip580)\" d=\"M2124.96 1451.02 L2143.32 1451.02 L2143.32 1454.96 L2129.25 1454.96 L2129.25 1463.43 Q2130.27 1463.08 2131.28 1462.92 Q2132.3 1462.73 2133.32 1462.73 Q2139.11 1462.73 2142.49 1465.9 Q2145.87 1469.08 2145.87 1474.49 Q2145.87 1480.07 2142.4 1483.17 Q2138.92 1486.25 2132.6 1486.25 Q2130.43 1486.25 2128.16 1485.88 Q2125.91 1485.51 2123.51 1484.77 L2123.51 1480.07 Q2125.59 1481.2 2127.81 1481.76 Q2130.03 1482.32 2132.51 1482.32 Q2136.52 1482.32 2138.85 1480.21 Q2141.19 1478.1 2141.19 1474.49 Q2141.19 1470.88 2138.85 1468.77 Q2136.52 1466.67 2132.51 1466.67 Q2130.64 1466.67 2128.76 1467.08 Q2126.91 1467.5 2124.96 1468.38 L2124.96 1451.02 Z\" fill=\"#000000\" fill-rule=\"evenodd\" fill-opacity=\"1\" /><path clip-path=\"url(#clip580)\" d=\"M1180.03 1522.27 L1180.03 1532.4 L1192.09 1532.4 L1192.09 1536.95 L1180.03 1536.95 L1180.03 1556.3 Q1180.03 1560.66 1181.2 1561.9 Q1182.41 1563.14 1186.07 1563.14 L1192.09 1563.14 L1192.09 1568.04 L1186.07 1568.04 Q1179.29 1568.04 1176.72 1565.53 Q1174.14 1562.98 1174.14 1556.3 L1174.14 1536.95 L1169.84 1536.95 L1169.84 1532.4 L1174.14 1532.4 L1174.14 1522.27 L1180.03 1522.27 Z\" fill=\"#000000\" fill-rule=\"evenodd\" fill-opacity=\"1\" /><path clip-path=\"url(#clip580)\" d=\"M1199.79 1532.4 L1205.65 1532.4 L1205.65 1568.04 L1199.79 1568.04 L1199.79 1532.4 M1199.79 1518.52 L1205.65 1518.52 L1205.65 1525.93 L1199.79 1525.93 L1199.79 1518.52 Z\" fill=\"#000000\" fill-rule=\"evenodd\" fill-opacity=\"1\" /><path clip-path=\"url(#clip580)\" d=\"M1245.66 1539.24 Q1247.85 1535.29 1250.91 1533.41 Q1253.96 1531.54 1258.1 1531.54 Q1263.67 1531.54 1266.7 1535.45 Q1269.72 1539.33 1269.72 1546.53 L1269.72 1568.04 L1263.83 1568.04 L1263.83 1546.72 Q1263.83 1541.59 1262.02 1539.11 Q1260.2 1536.63 1256.48 1536.63 Q1251.93 1536.63 1249.29 1539.65 Q1246.64 1542.68 1246.64 1547.9 L1246.64 1568.04 L1240.76 1568.04 L1240.76 1546.72 Q1240.76 1541.56 1238.94 1539.11 Q1237.13 1536.63 1233.34 1536.63 Q1228.85 1536.63 1226.21 1539.68 Q1223.57 1542.71 1223.57 1547.9 L1223.57 1568.04 L1217.68 1568.04 L1217.68 1532.4 L1223.57 1532.4 L1223.57 1537.93 Q1225.57 1534.66 1228.37 1533.1 Q1231.18 1531.54 1235.03 1531.54 Q1238.91 1531.54 1241.62 1533.51 Q1244.35 1535.48 1245.66 1539.24 Z\" fill=\"#000000\" fill-rule=\"evenodd\" fill-opacity=\"1\" /><path clip-path=\"url(#clip580)\" d=\"M1311.89 1548.76 L1311.89 1551.62 L1284.97 1551.62 Q1285.35 1557.67 1288.59 1560.85 Q1291.87 1564 1297.7 1564 Q1301.07 1564 1304.22 1563.17 Q1307.4 1562.35 1310.52 1560.69 L1310.52 1566.23 Q1307.37 1567.57 1304.06 1568.27 Q1300.75 1568.97 1297.35 1568.97 Q1288.82 1568.97 1283.82 1564 Q1278.85 1559.04 1278.85 1550.57 Q1278.85 1541.82 1283.57 1536.69 Q1288.31 1531.54 1296.33 1531.54 Q1303.52 1531.54 1307.69 1536.18 Q1311.89 1540.8 1311.89 1548.76 M1306.04 1547.04 Q1305.97 1542.23 1303.33 1539.37 Q1300.72 1536.5 1296.39 1536.5 Q1291.49 1536.5 1288.53 1539.27 Q1285.6 1542.04 1285.16 1547.07 L1306.04 1547.04 Z\" fill=\"#000000\" fill-rule=\"evenodd\" fill-opacity=\"1\" /><path clip-path=\"url(#clip580)\" d=\"M1356.29 1518.58 Q1352.03 1525.9 1349.96 1533.06 Q1347.89 1540.23 1347.89 1547.58 Q1347.89 1554.93 1349.96 1562.16 Q1352.06 1569.35 1356.29 1576.64 L1351.2 1576.64 Q1346.43 1569.16 1344.04 1561.93 Q1341.68 1554.71 1341.68 1547.58 Q1341.68 1540.48 1344.04 1533.29 Q1346.39 1526.09 1351.2 1518.58 L1356.29 1518.58 Z\" fill=\"#000000\" fill-rule=\"evenodd\" fill-opacity=\"1\" /><path clip-path=\"url(#clip580)\" d=\"M1390.38 1533.45 L1390.38 1538.98 Q1387.9 1537.71 1385.23 1537.07 Q1382.55 1536.44 1379.69 1536.44 Q1375.33 1536.44 1373.13 1537.77 Q1370.97 1539.11 1370.97 1541.79 Q1370.97 1543.82 1372.53 1545 Q1374.09 1546.15 1378.8 1547.2 L1380.8 1547.64 Q1387.04 1548.98 1389.65 1551.43 Q1392.29 1553.85 1392.29 1558.21 Q1392.29 1563.17 1388.34 1566.07 Q1384.43 1568.97 1377.55 1568.97 Q1374.69 1568.97 1371.57 1568.39 Q1368.48 1567.85 1365.05 1566.74 L1365.05 1560.69 Q1368.29 1562.38 1371.44 1563.24 Q1374.59 1564.07 1377.68 1564.07 Q1381.82 1564.07 1384.05 1562.66 Q1386.28 1561.23 1386.28 1558.65 Q1386.28 1556.27 1384.65 1554.99 Q1383.06 1553.72 1377.62 1552.54 L1375.58 1552.07 Q1370.14 1550.92 1367.72 1548.56 Q1365.3 1546.18 1365.3 1542.04 Q1365.3 1537.01 1368.87 1534.27 Q1372.43 1531.54 1378.99 1531.54 Q1382.23 1531.54 1385.1 1532.01 Q1387.96 1532.49 1390.38 1533.45 Z\" fill=\"#000000\" fill-rule=\"evenodd\" fill-opacity=\"1\" /><path clip-path=\"url(#clip580)\" d=\"M1400.69 1518.58 L1405.79 1518.58 Q1410.56 1526.09 1412.92 1533.29 Q1415.3 1540.48 1415.3 1547.58 Q1415.3 1554.71 1412.92 1561.93 Q1410.56 1569.16 1405.79 1576.64 L1400.69 1576.64 Q1404.93 1569.35 1407 1562.16 Q1409.1 1554.93 1409.1 1547.58 Q1409.1 1540.23 1407 1533.06 Q1404.93 1525.9 1400.69 1518.58 Z\" fill=\"#000000\" fill-rule=\"evenodd\" fill-opacity=\"1\" /><polyline clip-path=\"url(#clip582)\" style=\"stroke:#000000; stroke-linecap:round; stroke-linejoin:round; stroke-width:2; stroke-opacity:0.1; fill:none\" points=\"232.389,1309.88 2352.76,1309.88 \"/>\n",
       "<polyline clip-path=\"url(#clip582)\" style=\"stroke:#000000; stroke-linecap:round; stroke-linejoin:round; stroke-width:2; stroke-opacity:0.1; fill:none\" points=\"232.389,1053.38 2352.76,1053.38 \"/>\n",
       "<polyline clip-path=\"url(#clip582)\" style=\"stroke:#000000; stroke-linecap:round; stroke-linejoin:round; stroke-width:2; stroke-opacity:0.1; fill:none\" points=\"232.389,796.886 2352.76,796.886 \"/>\n",
       "<polyline clip-path=\"url(#clip582)\" style=\"stroke:#000000; stroke-linecap:round; stroke-linejoin:round; stroke-width:2; stroke-opacity:0.1; fill:none\" points=\"232.389,540.389 2352.76,540.389 \"/>\n",
       "<polyline clip-path=\"url(#clip582)\" style=\"stroke:#000000; stroke-linecap:round; stroke-linejoin:round; stroke-width:2; stroke-opacity:0.1; fill:none\" points=\"232.389,283.893 2352.76,283.893 \"/>\n",
       "<polyline clip-path=\"url(#clip580)\" style=\"stroke:#000000; stroke-linecap:round; stroke-linejoin:round; stroke-width:4; stroke-opacity:1; fill:none\" points=\"232.389,1423.18 232.389,123.472 \"/>\n",
       "<polyline clip-path=\"url(#clip580)\" style=\"stroke:#000000; stroke-linecap:round; stroke-linejoin:round; stroke-width:4; stroke-opacity:1; fill:none\" points=\"232.389,1309.88 251.287,1309.88 \"/>\n",
       "<polyline clip-path=\"url(#clip580)\" style=\"stroke:#000000; stroke-linecap:round; stroke-linejoin:round; stroke-width:4; stroke-opacity:1; fill:none\" points=\"232.389,1053.38 251.287,1053.38 \"/>\n",
       "<polyline clip-path=\"url(#clip580)\" style=\"stroke:#000000; stroke-linecap:round; stroke-linejoin:round; stroke-width:4; stroke-opacity:1; fill:none\" points=\"232.389,796.886 251.287,796.886 \"/>\n",
       "<polyline clip-path=\"url(#clip580)\" style=\"stroke:#000000; stroke-linecap:round; stroke-linejoin:round; stroke-width:4; stroke-opacity:1; fill:none\" points=\"232.389,540.389 251.287,540.389 \"/>\n",
       "<polyline clip-path=\"url(#clip580)\" style=\"stroke:#000000; stroke-linecap:round; stroke-linejoin:round; stroke-width:4; stroke-opacity:1; fill:none\" points=\"232.389,283.893 251.287,283.893 \"/>\n",
       "<path clip-path=\"url(#clip580)\" d=\"M184.445 1295.68 Q180.834 1295.68 179.005 1299.24 Q177.2 1302.78 177.2 1309.91 Q177.2 1317.02 179.005 1320.58 Q180.834 1324.13 184.445 1324.13 Q188.079 1324.13 189.885 1320.58 Q191.713 1317.02 191.713 1309.91 Q191.713 1302.78 189.885 1299.24 Q188.079 1295.68 184.445 1295.68 M184.445 1291.97 Q190.255 1291.97 193.311 1296.58 Q196.389 1301.16 196.389 1309.91 Q196.389 1318.64 193.311 1323.25 Q190.255 1327.83 184.445 1327.83 Q178.635 1327.83 175.556 1323.25 Q172.501 1318.64 172.501 1309.91 Q172.501 1301.16 175.556 1296.58 Q178.635 1291.97 184.445 1291.97 Z\" fill=\"#000000\" fill-rule=\"evenodd\" fill-opacity=\"1\" /><path clip-path=\"url(#clip580)\" d=\"M149.306 1066.73 L165.626 1066.73 L165.626 1070.66 L143.681 1070.66 L143.681 1066.73 Q146.343 1063.97 150.927 1059.34 Q155.533 1054.69 156.714 1053.35 Q158.959 1050.82 159.839 1049.09 Q160.741 1047.33 160.741 1045.64 Q160.741 1042.88 158.797 1041.15 Q156.876 1039.41 153.774 1039.41 Q151.575 1039.41 149.121 1040.18 Q146.691 1040.94 143.913 1042.49 L143.913 1037.77 Q146.737 1036.63 149.191 1036.06 Q151.644 1035.48 153.681 1035.48 Q159.052 1035.48 162.246 1038.16 Q165.44 1040.85 165.44 1045.34 Q165.44 1047.47 164.63 1049.39 Q163.843 1051.29 161.737 1053.88 Q161.158 1054.55 158.056 1057.77 Q154.954 1060.96 149.306 1066.73 Z\" fill=\"#000000\" fill-rule=\"evenodd\" fill-opacity=\"1\" /><path clip-path=\"url(#clip580)\" d=\"M175.487 1036.1 L193.843 1036.1 L193.843 1040.04 L179.769 1040.04 L179.769 1048.51 Q180.788 1048.16 181.806 1048 Q182.825 1047.81 183.843 1047.81 Q189.63 1047.81 193.01 1050.99 Q196.389 1054.16 196.389 1059.57 Q196.389 1065.15 192.917 1068.25 Q189.445 1071.33 183.126 1071.33 Q180.95 1071.33 178.681 1070.96 Q176.436 1070.59 174.028 1069.85 L174.028 1065.15 Q176.112 1066.29 178.334 1066.84 Q180.556 1067.4 183.033 1067.4 Q187.038 1067.4 189.375 1065.29 Q191.713 1063.19 191.713 1059.57 Q191.713 1055.96 189.375 1053.86 Q187.038 1051.75 183.033 1051.75 Q181.158 1051.75 179.283 1052.17 Q177.431 1052.58 175.487 1053.46 L175.487 1036.1 Z\" fill=\"#000000\" fill-rule=\"evenodd\" fill-opacity=\"1\" /><path clip-path=\"url(#clip580)\" d=\"M144.329 779.606 L162.686 779.606 L162.686 783.541 L148.612 783.541 L148.612 792.013 Q149.63 791.666 150.649 791.504 Q151.667 791.319 152.686 791.319 Q158.473 791.319 161.852 794.49 Q165.232 797.661 165.232 803.078 Q165.232 808.656 161.76 811.758 Q158.288 814.837 151.968 814.837 Q149.792 814.837 147.524 814.467 Q145.279 814.096 142.871 813.355 L142.871 808.656 Q144.954 809.791 147.177 810.346 Q149.399 810.902 151.876 810.902 Q155.88 810.902 158.218 808.795 Q160.556 806.689 160.556 803.078 Q160.556 799.467 158.218 797.36 Q155.88 795.254 151.876 795.254 Q150.001 795.254 148.126 795.67 Q146.274 796.087 144.329 796.967 L144.329 779.606 Z\" fill=\"#000000\" fill-rule=\"evenodd\" fill-opacity=\"1\" /><path clip-path=\"url(#clip580)\" d=\"M184.445 782.684 Q180.834 782.684 179.005 786.249 Q177.2 789.791 177.2 796.92 Q177.2 804.027 179.005 807.592 Q180.834 811.133 184.445 811.133 Q188.079 811.133 189.885 807.592 Q191.713 804.027 191.713 796.92 Q191.713 789.791 189.885 786.249 Q188.079 782.684 184.445 782.684 M184.445 778.981 Q190.255 778.981 193.311 783.587 Q196.389 788.17 196.389 796.92 Q196.389 805.647 193.311 810.254 Q190.255 814.837 184.445 814.837 Q178.635 814.837 175.556 810.254 Q172.501 805.647 172.501 796.92 Q172.501 788.17 175.556 783.587 Q178.635 778.981 184.445 778.981 Z\" fill=\"#000000\" fill-rule=\"evenodd\" fill-opacity=\"1\" /><path clip-path=\"url(#clip580)\" d=\"M144.098 523.109 L166.32 523.109 L166.32 525.1 L153.774 557.669 L148.89 557.669 L160.695 527.044 L144.098 527.044 L144.098 523.109 Z\" fill=\"#000000\" fill-rule=\"evenodd\" fill-opacity=\"1\" /><path clip-path=\"url(#clip580)\" d=\"M175.487 523.109 L193.843 523.109 L193.843 527.044 L179.769 527.044 L179.769 535.517 Q180.788 535.169 181.806 535.007 Q182.825 534.822 183.843 534.822 Q189.63 534.822 193.01 537.993 Q196.389 541.165 196.389 546.581 Q196.389 552.16 192.917 555.262 Q189.445 558.34 183.126 558.34 Q180.95 558.34 178.681 557.97 Q176.436 557.6 174.028 556.859 L174.028 552.16 Q176.112 553.294 178.334 553.85 Q180.556 554.405 183.033 554.405 Q187.038 554.405 189.375 552.299 Q191.713 550.192 191.713 546.581 Q191.713 542.97 189.375 540.864 Q187.038 538.757 183.033 538.757 Q181.158 538.757 179.283 539.174 Q177.431 539.591 175.487 540.47 L175.487 523.109 Z\" fill=\"#000000\" fill-rule=\"evenodd\" fill-opacity=\"1\" /><path clip-path=\"url(#clip580)\" d=\"M114.931 297.238 L122.57 297.238 L122.57 270.872 L114.26 272.539 L114.26 268.279 L122.524 266.613 L127.2 266.613 L127.2 297.238 L134.839 297.238 L134.839 301.173 L114.931 301.173 L114.931 297.238 Z\" fill=\"#000000\" fill-rule=\"evenodd\" fill-opacity=\"1\" /><path clip-path=\"url(#clip580)\" d=\"M154.283 269.691 Q150.672 269.691 148.843 273.256 Q147.038 276.798 147.038 283.928 Q147.038 291.034 148.843 294.599 Q150.672 298.14 154.283 298.14 Q157.917 298.14 159.723 294.599 Q161.552 291.034 161.552 283.928 Q161.552 276.798 159.723 273.256 Q157.917 269.691 154.283 269.691 M154.283 265.988 Q160.093 265.988 163.149 270.594 Q166.227 275.178 166.227 283.928 Q166.227 292.654 163.149 297.261 Q160.093 301.844 154.283 301.844 Q148.473 301.844 145.394 297.261 Q142.339 292.654 142.339 283.928 Q142.339 275.178 145.394 270.594 Q148.473 265.988 154.283 265.988 Z\" fill=\"#000000\" fill-rule=\"evenodd\" fill-opacity=\"1\" /><path clip-path=\"url(#clip580)\" d=\"M184.445 269.691 Q180.834 269.691 179.005 273.256 Q177.2 276.798 177.2 283.928 Q177.2 291.034 179.005 294.599 Q180.834 298.14 184.445 298.14 Q188.079 298.14 189.885 294.599 Q191.713 291.034 191.713 283.928 Q191.713 276.798 189.885 273.256 Q188.079 269.691 184.445 269.691 M184.445 265.988 Q190.255 265.988 193.311 270.594 Q196.389 275.178 196.389 283.928 Q196.389 292.654 193.311 297.261 Q190.255 301.844 184.445 301.844 Q178.635 301.844 175.556 297.261 Q172.501 292.654 172.501 283.928 Q172.501 275.178 175.556 270.594 Q178.635 265.988 184.445 265.988 Z\" fill=\"#000000\" fill-rule=\"evenodd\" fill-opacity=\"1\" /><path clip-path=\"url(#clip580)\" d=\"M49.9359 788.254 L28.3562 788.254 L28.3562 782.397 L49.7131 782.397 Q54.7739 782.397 57.3202 780.424 Q59.8346 778.45 59.8346 774.504 Q59.8346 769.761 56.8109 767.024 Q53.7872 764.255 48.5673 764.255 L28.3562 764.255 L28.3562 758.398 L64.0042 758.398 L64.0042 764.255 L58.5296 764.255 Q61.7762 766.387 63.3676 769.22 Q64.9272 772.021 64.9272 775.745 Q64.9272 781.888 61.1078 785.071 Q57.2883 788.254 49.9359 788.254 M27.4968 773.517 L27.4968 773.517 Z\" fill=\"#000000\" fill-rule=\"evenodd\" fill-opacity=\"1\" /><path clip-path=\"url(#clip580)\" d=\"M1029.71 12.096 L1037.89 12.096 L1037.89 72.576 L1029.71 72.576 L1029.71 12.096 Z\" fill=\"#000000\" fill-rule=\"evenodd\" fill-opacity=\"1\" /><path clip-path=\"url(#clip580)\" d=\"M1091.57 45.1919 L1091.57 72.576 L1084.11 72.576 L1084.11 45.4349 Q1084.11 38.994 1081.6 35.7938 Q1079.09 32.5936 1074.07 32.5936 Q1068.03 32.5936 1064.55 36.4419 Q1061.06 40.2903 1061.06 46.9338 L1061.06 72.576 L1053.57 72.576 L1053.57 27.2059 L1061.06 27.2059 L1061.06 34.2544 Q1063.74 30.163 1067.34 28.1376 Q1070.99 26.1121 1075.73 26.1121 Q1083.55 26.1121 1087.56 30.9732 Q1091.57 35.7938 1091.57 45.1919 Z\" fill=\"#000000\" fill-rule=\"evenodd\" fill-opacity=\"1\" /><path clip-path=\"url(#clip580)\" d=\"M1113.64 65.7705 L1113.64 89.8329 L1106.15 89.8329 L1106.15 27.2059 L1113.64 27.2059 L1113.64 34.0924 Q1115.99 30.0415 1119.56 28.0971 Q1123.16 26.1121 1128.15 26.1121 Q1136.41 26.1121 1141.55 32.6746 Q1146.74 39.2371 1146.74 49.9314 Q1146.74 60.6258 1141.55 67.1883 Q1136.41 73.7508 1128.15 73.7508 Q1123.16 73.7508 1119.56 71.8063 Q1115.99 69.8214 1113.64 65.7705 M1139 49.9314 Q1139 41.7081 1135.6 37.0496 Q1132.24 32.3505 1126.32 32.3505 Q1120.41 32.3505 1117.01 37.0496 Q1113.64 41.7081 1113.64 49.9314 Q1113.64 58.1548 1117.01 62.8538 Q1120.41 67.5124 1126.32 67.5124 Q1132.24 67.5124 1135.6 62.8538 Q1139 58.1548 1139 49.9314 Z\" fill=\"#000000\" fill-rule=\"evenodd\" fill-opacity=\"1\" /><path clip-path=\"url(#clip580)\" d=\"M1158.33 54.671 L1158.33 27.2059 L1165.78 27.2059 L1165.78 54.3874 Q1165.78 60.8284 1168.29 64.0691 Q1170.8 67.2693 1175.83 67.2693 Q1181.86 67.2693 1185.35 63.421 Q1188.87 59.5726 1188.87 52.9291 L1188.87 27.2059 L1196.32 27.2059 L1196.32 72.576 L1188.87 72.576 L1188.87 65.6084 Q1186.16 69.7404 1182.55 71.7658 Q1178.99 73.7508 1174.25 73.7508 Q1166.43 73.7508 1162.38 68.8897 Q1158.33 64.0286 1158.33 54.671 M1177.08 26.1121 L1177.08 26.1121 Z\" fill=\"#000000\" fill-rule=\"evenodd\" fill-opacity=\"1\" /><path clip-path=\"url(#clip580)\" d=\"M1219.05 14.324 L1219.05 27.2059 L1234.4 27.2059 L1234.4 32.9987 L1219.05 32.9987 L1219.05 57.6282 Q1219.05 63.1779 1220.55 64.7578 Q1222.09 66.3376 1226.75 66.3376 L1234.4 66.3376 L1234.4 72.576 L1226.75 72.576 Q1218.12 72.576 1214.84 69.3758 Q1211.55 66.1351 1211.55 57.6282 L1211.55 32.9987 L1206.09 32.9987 L1206.09 27.2059 L1211.55 27.2059 L1211.55 14.324 L1219.05 14.324 Z\" fill=\"#000000\" fill-rule=\"evenodd\" fill-opacity=\"1\" /><path clip-path=\"url(#clip580)\" d=\"M1270.9 12.096 L1279.08 12.096 L1279.08 36.8875 L1308.82 36.8875 L1308.82 12.096 L1317 12.096 L1317 72.576 L1308.82 72.576 L1308.82 43.7741 L1279.08 43.7741 L1279.08 72.576 L1270.9 72.576 L1270.9 12.096 Z\" fill=\"#000000\" fill-rule=\"evenodd\" fill-opacity=\"1\" /><path clip-path=\"url(#clip580)\" d=\"M1332.96 27.2059 L1340.41 27.2059 L1340.41 72.576 L1332.96 72.576 L1332.96 27.2059 M1332.96 9.54393 L1340.41 9.54393 L1340.41 18.9825 L1332.96 18.9825 L1332.96 9.54393 Z\" fill=\"#000000\" fill-rule=\"evenodd\" fill-opacity=\"1\" /><path clip-path=\"url(#clip580)\" d=\"M1384.93 28.5427 L1384.93 35.5912 Q1381.77 33.9709 1378.37 33.1607 Q1374.97 32.3505 1371.32 32.3505 Q1365.77 32.3505 1362.98 34.0519 Q1360.22 35.7533 1360.22 39.156 Q1360.22 41.7486 1362.21 43.2475 Q1364.19 44.7058 1370.19 46.0426 L1372.74 46.6097 Q1380.68 48.3111 1384 51.4303 Q1387.36 54.509 1387.36 60.0587 Q1387.36 66.3781 1382.34 70.0644 Q1377.36 73.7508 1368.61 73.7508 Q1364.96 73.7508 1360.99 73.0216 Q1357.06 72.3329 1352.69 70.9151 L1352.69 63.2184 Q1356.82 65.3654 1360.83 66.4591 Q1364.84 67.5124 1368.77 67.5124 Q1374.04 67.5124 1376.87 65.73 Q1379.71 63.9071 1379.71 60.6258 Q1379.71 57.5877 1377.64 55.9673 Q1375.62 54.3469 1368.69 52.8481 L1366.1 52.2405 Q1359.17 50.7821 1356.09 47.7845 Q1353.01 44.7463 1353.01 39.4801 Q1353.01 33.0797 1357.55 29.5959 Q1362.09 26.1121 1370.43 26.1121 Q1374.56 26.1121 1378.21 26.7198 Q1381.85 27.3274 1384.93 28.5427 Z\" fill=\"#000000\" fill-rule=\"evenodd\" fill-opacity=\"1\" /><path clip-path=\"url(#clip580)\" d=\"M1406.61 14.324 L1406.61 27.2059 L1421.96 27.2059 L1421.96 32.9987 L1406.61 32.9987 L1406.61 57.6282 Q1406.61 63.1779 1408.1 64.7578 Q1409.64 66.3376 1414.3 66.3376 L1421.96 66.3376 L1421.96 72.576 L1414.3 72.576 Q1405.67 72.576 1402.39 69.3758 Q1399.11 66.1351 1399.11 57.6282 L1399.11 32.9987 L1393.64 32.9987 L1393.64 27.2059 L1399.11 27.2059 L1399.11 14.324 L1406.61 14.324 Z\" fill=\"#000000\" fill-rule=\"evenodd\" fill-opacity=\"1\" /><path clip-path=\"url(#clip580)\" d=\"M1449.34 32.4315 Q1443.35 32.4315 1439.86 37.1306 Q1436.38 41.7891 1436.38 49.9314 Q1436.38 58.0738 1439.82 62.7728 Q1443.31 67.4314 1449.34 67.4314 Q1455.3 67.4314 1458.78 62.7323 Q1462.27 58.0333 1462.27 49.9314 Q1462.27 41.8701 1458.78 37.1711 Q1455.3 32.4315 1449.34 32.4315 M1449.34 26.1121 Q1459.06 26.1121 1464.61 32.4315 Q1470.16 38.7509 1470.16 49.9314 Q1470.16 61.0714 1464.61 67.4314 Q1459.06 73.7508 1449.34 73.7508 Q1439.58 73.7508 1434.03 67.4314 Q1428.52 61.0714 1428.52 49.9314 Q1428.52 38.7509 1434.03 32.4315 Q1439.58 26.1121 1449.34 26.1121 Z\" fill=\"#000000\" fill-rule=\"evenodd\" fill-opacity=\"1\" /><path clip-path=\"url(#clip580)\" d=\"M1508.81 34.1734 Q1507.55 33.4443 1506.06 33.1202 Q1504.6 32.7556 1502.81 32.7556 Q1496.5 32.7556 1493.09 36.8875 Q1489.73 40.9789 1489.73 48.6757 L1489.73 72.576 L1482.24 72.576 L1482.24 27.2059 L1489.73 27.2059 L1489.73 34.2544 Q1492.08 30.1225 1495.85 28.1376 Q1499.61 26.1121 1505 26.1121 Q1505.77 26.1121 1506.7 26.2337 Q1507.64 26.3147 1508.77 26.5172 L1508.81 34.1734 Z\" fill=\"#000000\" fill-rule=\"evenodd\" fill-opacity=\"1\" /><path clip-path=\"url(#clip580)\" d=\"M1535.51 76.7889 Q1532.35 84.8907 1529.35 87.3618 Q1526.35 89.8329 1521.33 89.8329 L1515.37 89.8329 L1515.37 83.5945 L1519.75 83.5945 Q1522.83 83.5945 1524.53 82.1361 Q1526.23 80.6778 1528.29 75.2496 L1529.63 71.8468 L1511.28 27.2059 L1519.18 27.2059 L1533.36 62.6918 L1547.54 27.2059 L1555.44 27.2059 L1535.51 76.7889 Z\" fill=\"#000000\" fill-rule=\"evenodd\" fill-opacity=\"1\" /><polyline clip-path=\"url(#clip582)\" style=\"stroke:#009af9; stroke-linecap:round; stroke-linejoin:round; stroke-width:4; stroke-opacity:1; fill:none\" points=\"292.4,1240.21 299.621,1271.67 306.843,1275.52 314.064,1275.07 321.286,1272.47 328.507,1268.86 335.729,1271.52 342.95,1270.55 350.171,1259.54 357.393,1258.17 364.614,1242.04 371.836,1224.73 379.057,1237.38 386.279,1258.3 393.5,1264.99 400.722,1266.13 407.943,1266.2 415.165,1251.03 422.386,1250.41 429.608,1255.58 436.829,1244.11 444.05,1263.24 451.272,1265.02 458.493,1243.62 465.715,1236.54 472.936,1233.98 480.158,1233.98 487.379,1235.21 494.601,1235.38 501.822,1246.37 509.044,1247.35 516.265,1252.58 523.487,1255 530.708,1259.29 537.93,1254.24 545.151,1259.84 552.372,1261.16 559.594,1266.17 566.815,1261.77 574.037,1265.84 581.258,1260.2 588.48,1265.21 595.701,1265.95 602.923,1266.4 610.144,1252.1 617.366,1251.83 624.587,1269.73 631.809,1261.23 639.03,1259.33 646.252,1262.76 653.473,1262.56 660.694,1256.16 667.916,1246.03 675.137,1246.75 682.359,1248.82 689.58,1251.65 696.802,1249.18 704.023,1251.48 711.245,1249.76 718.466,1252.26 725.688,1255.19 732.909,1254.65 740.131,1252.6 747.352,1253.8 754.573,1258.14 761.795,1257.37 769.016,1258.99 776.238,1258.96 783.459,1258.5 790.681,1262.37 797.902,1263.71 805.124,1268.09 812.345,1269.56 819.567,1266.65 826.788,1264.92 834.01,1261.99 841.231,1258.6 848.452,1261.99 855.674,1266.55 862.895,1268.63 870.117,1271.81 877.338,1274.48 884.56,1275.63 891.781,1273.83 899.003,1274.21 906.224,1275.28 913.446,1275.66 920.667,1275.95 927.889,1273.3 935.11,1272.54 942.332,1272.62 949.553,1274.09 956.774,1275.98 963.996,1274.64 971.217,1276.18 978.439,1277.08 985.66,1277.16 992.882,1277.03 1000.1,1251.89 1007.32,1249.82 1014.55,1250.89 1021.77,1255.6 1028.99,1256.36 1036.21,1257.21 1043.43,1251.77 1050.65,1251.84 1057.88,1253.15 1065.1,1251.29 1072.32,1260.11 1079.54,1255.69 1086.76,1263.04 1093.98,1267.66 1101.2,1272.79 1108.43,1276.68 1115.65,1283.13 1122.87,1280.04 1130.09,1278.47 1137.31,1276.25 1144.53,1277.83 1151.75,1281 1158.98,1288.66 1166.2,1290.42 1173.42,1287.27 1180.64,1294 1187.86,1294.48 1195.08,1286.91 1202.3,1287.54 1209.53,1288.68 1216.75,1285.41 1223.97,1282.15 1231.19,1284.37 1238.41,1285.52 1245.63,1286.15 1252.85,1287.14 1260.08,1282.52 1267.3,1278.38 1274.52,1282.02 1281.74,1286.44 1288.96,1284.31 1296.18,1285.03 1303.4,1286.52 1310.63,1286.57 1317.85,1277.91 1325.07,1283.36 1332.29,1283.18 1339.51,1287.96 1346.73,1286.34 1353.96,1292.86 1361.18,1293.19 1368.4,1295.23 1375.62,1293.28 1382.84,1292.43 1390.06,1292.58 1397.28,1290.85 1404.51,1289.87 1411.73,1291.98 1418.95,1290.41 1426.17,1290.58 1433.39,1288.13 1440.61,1287.9 1447.83,1288.59 1455.06,1287.86 1462.28,1289.88 1469.5,1286.13 1476.72,1284.24 1483.94,1286.98 1491.16,1286.97 1498.38,1287.39 1505.61,1282.62 1512.83,1282.25 1520.05,1281.68 1527.27,1284.98 1534.49,1289.4 1541.71,1294.2 1548.93,1292.85 1556.16,1295.21 1563.38,1294.52 1570.6,1292.67 1577.82,1289.02 1585.04,1286.68 1592.26,1288.94 1599.48,1290.65 1606.71,1294.9 1613.93,1297.17 1621.15,1296.87 1628.37,1297.01 1635.59,1300.84 1642.81,1298.21 1650.04,1299.8 1657.26,1300.87 1664.48,1301.24 1671.7,1296.75 1678.92,1297.49 1686.14,1302.96 1693.36,1305.28 1700.59,1306.19 1707.81,1305.1 1715.03,1306.11 1722.25,1307.5 1729.47,1311.6 1736.69,1312.38 1743.91,1314.26 1751.14,1315.39 1758.36,1315.55 1765.58,1314.97 1772.8,1314.85 1780.02,1314.32 1787.24,1313.62 1794.46,1314.29 1801.69,1316.52 1808.91,1317.18 1816.13,1314.87 1823.35,1316.94 1830.57,1314.99 1837.79,1315.87 1845.01,1315.81 1852.24,1315.39 1859.46,1313.56 1866.68,1317.17 1873.9,1318.12 1881.12,1315.85 1888.34,1314.33 1895.56,1314.54 1902.79,1314.55 1910.01,1314.31 1917.23,1312.74 1924.45,1312.85 1931.67,1313.99 1938.89,1315.04 1946.12,1315.31 1953.34,1315.21 1960.56,1314.78 1967.78,1313.18 1975,1311.56 1982.22,1312.16 1989.44,1310.75 1996.67,1310.51 2003.89,1311.8 2011.11,1313.72 2018.33,1312.6 2025.55,1313.61 2032.77,1314.92 2039.99,1316.16 2047.22,1317.64 2054.44,1318.61 2061.66,1318.09 2068.88,1318.03 2076.1,1318.4 2083.32,1318.21 2090.54,1318.68 2097.77,1319.19 2104.99,1319.58 2112.21,1319.68 2119.43,1319.65 2126.65,1319.93 2133.87,1319.58 2141.09,1319.3 2148.32,1319.53 2155.54,1320.44 2162.76,1320.29 2169.98,1321.62 2177.2,1322.42 2184.42,1323.02 2191.64,1323.4 2198.87,1324.53 2206.09,1325.22 2213.31,1326.15 2220.53,1326.64 2227.75,1326.97 2234.97,1327.76 2242.2,1328.59 2249.42,1329.17 2256.64,1329.38 2263.86,1329.71 2271.08,1330.36 2278.3,1330.69 2285.52,1330.9 2292.75,1331.32 \"/>\n",
       "<polyline clip-path=\"url(#clip582)\" style=\"stroke:#e26f46; stroke-linecap:round; stroke-linejoin:round; stroke-width:4; stroke-opacity:1; fill:none\" points=\"292.4,1368.75 299.621,1345.95 306.843,1340.84 314.064,1333.34 321.286,1350.55 328.507,1327.56 335.729,1322.69 342.95,1329.08 350.171,1343.78 357.393,1341.36 364.614,1337.44 371.836,1342.54 379.057,1331.11 386.279,1324.76 393.5,1325.86 400.722,1332.84 407.943,1327.66 415.165,1312.78 422.386,1310.77 429.608,1303.67 436.829,1296.47 444.05,1317.75 451.272,1321.3 458.493,1307.17 465.715,1303.85 472.936,1307.82 480.158,1308.67 487.379,1310.99 494.601,1324.85 501.822,1333.89 509.044,1341.57 516.265,1358.96 523.487,1365.36 530.708,1380.2 537.93,1384.69 545.151,1373.1 552.372,1377.99 559.594,1380.73 566.815,1384.75 574.037,1378.97 581.258,1385.99 588.48,1386.4 595.701,1385.31 602.923,1358.4 610.144,1381.18 617.366,1380.61 624.587,1352.98 631.809,1361.01 639.03,1362.43 646.252,1358.46 653.473,1358.52 660.694,1362.91 667.916,1361.45 675.137,1358.98 682.359,1362.96 689.58,1362.4 696.802,1366.46 704.023,1361.4 711.245,1360.78 718.466,1360.69 725.688,1359.86 732.909,1358.13 740.131,1361.87 747.352,1356.98 754.573,1355.03 761.795,1355.44 769.016,1357.44 776.238,1358.72 783.459,1359.28 790.681,1356.64 797.902,1357.24 805.124,1357.69 812.345,1355.87 819.567,1357.45 826.788,1359.03 834.01,1358.33 841.231,1359.95 848.452,1359.19 855.674,1355.58 862.895,1352.45 870.117,1353.83 877.338,1355.27 884.56,1359.41 891.781,1359.09 899.003,1360.14 906.224,1358.01 913.446,1356.49 920.667,1351.93 927.889,1354.97 935.11,1354.25 942.332,1351.65 949.553,1350.77 956.774,1349.6 963.996,1348.34 971.217,1349.29 978.439,1345.7 985.66,1345.57 992.882,1344.91 1000.1,1377.54 1007.32,1376.26 1014.55,1377.54 1021.77,1376.58 1028.99,1372.26 1036.21,1374.07 1043.43,1375.46 1050.65,1379.15 1057.88,1380.71 1065.1,1370.2 1072.32,1366.49 1079.54,1362.98 1086.76,1361.42 1093.98,1358.9 1101.2,1361.47 1108.43,1367.01 1115.65,1368.42 1122.87,1362.49 1130.09,1354.3 1137.31,1348.68 1144.53,1340.72 1151.75,1341.2 1158.98,1337.33 1166.2,1334.51 1173.42,1331.51 1180.64,1332.52 1187.86,1326.66 1195.08,1324.13 1202.3,1319.93 1209.53,1320.53 1216.75,1319.33 1223.97,1319.27 1231.19,1320.35 1238.41,1320.76 1245.63,1322.91 1252.85,1324.84 1260.08,1329.93 1267.3,1330.26 1274.52,1330.84 1281.74,1328.89 1288.96,1326.48 1296.18,1332.82 1303.4,1332.34 1310.63,1330.3 1317.85,1327.14 1325.07,1327.2 1332.29,1326.85 1339.51,1322.36 1346.73,1323.73 1353.96,1327.45 1361.18,1329.33 1368.4,1324.06 1375.62,1317.47 1382.84,1313.76 1390.06,1313.16 1397.28,1314.49 1404.51,1319.11 1411.73,1323.38 1418.95,1322.53 1426.17,1319.04 1433.39,1318.93 1440.61,1320.14 1447.83,1317.66 1455.06,1314.99 1462.28,1311.67 1469.5,1311.94 1476.72,1311.24 1483.94,1307.48 1491.16,1308.39 1498.38,1308.89 1505.61,1312.98 1512.83,1313.06 1520.05,1312.07 1527.27,1314.5 1534.49,1315.43 1541.71,1317.66 1548.93,1318.94 1556.16,1320.59 1563.38,1322.82 1570.6,1323.24 1577.82,1321.8 1585.04,1320.66 1592.26,1317.93 1599.48,1316.74 1606.71,1315.34 1613.93,1316.79 1621.15,1315.42 1628.37,1316.81 1635.59,1316.62 1642.81,1311.77 1650.04,1312.05 1657.26,1312.33 1664.48,1311.14 1671.7,1308.01 1678.92,1309.43 1686.14,1308.96 1693.36,1305.91 1700.59,1302.05 1707.81,1299.61 1715.03,1300.18 1722.25,1300.66 1729.47,1301.36 1736.69,1300.79 1743.91,1301.51 1751.14,1302.61 1758.36,1299.89 1765.58,1300.05 1772.8,1300.36 1780.02,1301.31 1787.24,1300.82 1794.46,1301.19 1801.69,1299.78 1808.91,1299.79 1816.13,1300.55 1823.35,1301.59 1830.57,1301.21 1837.79,1301.67 1845.01,1302.37 1852.24,1304.98 1859.46,1305.64 1866.68,1302.91 1873.9,1302.72 1881.12,1304.14 1888.34,1303.89 1895.56,1304.76 1902.79,1304.68 1910.01,1306.92 1917.23,1305.46 1924.45,1304.31 1931.67,1302.53 1938.89,1300 1946.12,1300.29 1953.34,1298.96 1960.56,1299.6 1967.78,1299.29 1975,1298.57 1982.22,1299.39 1989.44,1299.48 1996.67,1299.53 2003.89,1299.55 2011.11,1300.38 2018.33,1298.32 2025.55,1297.39 2032.77,1296.56 2039.99,1296.79 2047.22,1297.41 2054.44,1295.7 2061.66,1295.4 2068.88,1295.06 2076.1,1293.64 2083.32,1293.51 2090.54,1292.82 2097.77,1292.47 2104.99,1292.18 2112.21,1291.73 2119.43,1291.3 2126.65,1290.71 2133.87,1291.39 2141.09,1291.04 2148.32,1290.6 2155.54,1290.06 2162.76,1289.12 2169.98,1289.18 2177.2,1288.89 2184.42,1288.3 2191.64,1287.4 2198.87,1287.67 2206.09,1286.88 2213.31,1286.18 2220.53,1285.72 2227.75,1285.36 2234.97,1285.12 2242.2,1284.38 2249.42,1284.36 2256.64,1284.01 2263.86,1283.52 2271.08,1283.27 2278.3,1282.82 2285.52,1282.25 2292.75,1281.92 \"/>\n",
       "<polyline clip-path=\"url(#clip582)\" style=\"stroke:#3da44d; stroke-linecap:round; stroke-linejoin:round; stroke-width:4; stroke-opacity:1; fill:none\" points=\"292.4,226.742 299.621,225.902 306.843,230.922 314.064,210.384 321.286,210.693 328.507,211.104 335.729,204.876 342.95,225.414 350.171,211 357.393,190.858 364.614,183.479 371.836,171.981 379.057,160.256 386.279,175.881 393.5,175.285 400.722,181.221 407.943,169.197 415.165,186.436 422.386,193.573 429.608,189.2 436.829,181 444.05,184.922 451.272,175.55 458.493,176.234 465.715,174.874 472.936,187.457 480.158,208.412 487.379,212.239 494.601,216.172 501.822,222.353 509.044,226.929 516.265,230.037 523.487,236.226 530.708,226.194 537.93,214.088 545.151,213.304 552.372,217.653 559.594,214.36 566.815,223.152 574.037,227.389 581.258,224 588.48,228.079 595.701,229.384 602.923,237.6 610.144,238.936 617.366,249.168 624.587,261.463 631.809,259.305 639.03,259.09 646.252,272.582 653.473,278.295 660.694,279.414 667.916,281.791 675.137,268.696 682.359,264.532 689.58,261.177 696.802,264.786 704.023,255.391 711.245,254.812 718.466,252.432 725.688,252.806 732.909,256.581 740.131,253.409 747.352,251.908 754.573,254.774 761.795,255.751 769.016,253.513 776.238,257.588 783.459,258.175 790.681,257.635 797.902,256.398 805.124,256.656 812.345,255.65 819.567,257.549 826.788,259.219 834.01,265.887 841.231,267.897 848.452,270.782 855.674,264.655 862.895,271.461 870.117,272.101 877.338,266.714 884.56,267.68 891.781,268.935 899.003,265.225 906.224,266.948 913.446,271.044 920.667,267.967 927.889,274.023 935.11,273.277 942.332,270.769 949.553,276.832 956.774,279.702 963.996,278.05 971.217,276.379 978.439,273.058 985.66,271.845 992.882,265.64 1000.1,265.278 1007.32,263.143 1014.55,267.697 1021.77,268.841 1028.99,268.507 1036.21,273.176 1043.43,277.054 1050.65,275.236 1057.88,270.759 1065.1,270.221 1072.32,260.279 1079.54,255.098 1086.76,258.373 1093.98,259.668 1101.2,262.637 1108.43,262.814 1115.65,263.408 1122.87,262.512 1130.09,261.891 1137.31,265.32 1144.53,258.888 1151.75,261.947 1158.98,269.47 1166.2,270.983 1173.42,272.335 1180.64,271.045 1187.86,268.733 1195.08,269.105 1202.3,271.113 1209.53,271.628 1216.75,269.786 1223.97,271.927 1231.19,273.217 1238.41,276.062 1245.63,276.711 1252.85,274.724 1260.08,268.864 1267.3,266.05 1274.52,263.18 1281.74,265.867 1288.96,264.775 1296.18,267.196 1303.4,265.842 1310.63,265.982 1317.85,272.722 1325.07,275.403 1332.29,276.055 1339.51,274.49 1346.73,268.44 1353.96,268.464 1361.18,271.844 1368.4,270.626 1375.62,267.511 1382.84,271.771 1390.06,271.318 1397.28,268.243 1404.51,267.88 1411.73,270.193 1418.95,268.961 1426.17,270.313 1433.39,273.561 1440.61,268.904 1447.83,265.804 1455.06,264.37 1462.28,268.193 1469.5,268.154 1476.72,266.744 1483.94,267.958 1491.16,267.273 1498.38,268.288 1505.61,269.935 1512.83,265.985 1520.05,258.765 1527.27,260.156 1534.49,260.586 1541.71,263.749 1548.93,264.627 1556.16,266.954 1563.38,263.239 1570.6,263.581 1577.82,264.995 1585.04,264.755 1592.26,265.838 1599.48,266.217 1606.71,267.267 1613.93,270.803 1621.15,272.933 1628.37,270.294 1635.59,265.895 1642.81,267.957 1650.04,272.089 1657.26,275.419 1664.48,277.28 1671.7,280.622 1678.92,280.918 1686.14,280.656 1693.36,276.959 1700.59,277.947 1707.81,276.948 1715.03,276.005 1722.25,274.382 1729.47,277.399 1736.69,277.514 1743.91,278.684 1751.14,282.91 1758.36,286.78 1765.58,287.884 1772.8,287.11 1780.02,288.333 1787.24,289.622 1794.46,289.431 1801.69,289.122 1808.91,288 1816.13,285.076 1823.35,283.049 1830.57,282.861 1837.79,280.497 1845.01,282.696 1852.24,284.148 1859.46,286.102 1866.68,285.361 1873.9,287.873 1881.12,288.568 1888.34,288.954 1895.56,289.276 1902.79,288.975 1910.01,290.639 1917.23,291.902 1924.45,293.48 1931.67,292.728 1938.89,293.231 1946.12,291.788 1953.34,291.919 1960.56,294.051 1967.78,294.539 1975,295.881 1982.22,296.156 1989.44,294.795 1996.67,294.359 2003.89,293.947 2011.11,294.757 2018.33,294.532 2025.55,293.341 2032.77,294.983 2039.99,294.699 2047.22,294.835 2054.44,296.494 2061.66,298.115 2068.88,298.811 2076.1,298.862 2083.32,299.435 2090.54,300.59 2097.77,301.238 2104.99,302.062 2112.21,302.907 2119.43,303.158 2126.65,302.909 2133.87,303.787 2141.09,303.886 2148.32,304.231 2155.54,304.165 2162.76,304.051 2169.98,304.764 2177.2,304.313 2184.42,304.463 2191.64,304.609 2198.87,304.71 2206.09,305.424 2213.31,305.612 2220.53,306.21 2227.75,306.421 2234.97,306.58 2242.2,306.671 2249.42,306.953 2256.64,307.561 2263.86,308.025 2271.08,308.587 2278.3,308.987 2285.52,309.529 2292.75,309.859 \"/>\n",
       "<path clip-path=\"url(#clip580)\" d=\"M2027.42 374.156 L2282.08 374.156 L2282.08 166.796 L2027.42 166.796  Z\" fill=\"#ffffff\" fill-rule=\"evenodd\" fill-opacity=\"1\"/>\n",
       "<polyline clip-path=\"url(#clip580)\" style=\"stroke:#000000; stroke-linecap:round; stroke-linejoin:round; stroke-width:4; stroke-opacity:1; fill:none\" points=\"2027.42,374.156 2282.08,374.156 2282.08,166.796 2027.42,166.796 2027.42,374.156 \"/>\n",
       "<polyline clip-path=\"url(#clip580)\" style=\"stroke:#009af9; stroke-linecap:round; stroke-linejoin:round; stroke-width:4; stroke-opacity:1; fill:none\" points=\"2050.98,218.636 2192.34,218.636 \"/>\n",
       "<path clip-path=\"url(#clip580)\" d=\"M2215.9 225.684 L2215.9 209.99 L2220.16 209.99 L2220.16 225.522 Q2220.16 229.203 2221.6 231.055 Q2223.03 232.883 2225.9 232.883 Q2229.35 232.883 2231.34 230.684 Q2233.36 228.485 2233.36 224.689 L2233.36 209.99 L2237.61 209.99 L2237.61 235.916 L2233.36 235.916 L2233.36 231.934 Q2231.8 234.295 2229.74 235.453 Q2227.71 236.587 2225 236.587 Q2220.53 236.587 2218.22 233.809 Q2215.9 231.031 2215.9 225.684 M2226.62 209.365 L2226.62 209.365 Z\" fill=\"#000000\" fill-rule=\"evenodd\" fill-opacity=\"1\" /><path clip-path=\"url(#clip580)\" d=\"M2245.53 233.369 L2250.25 233.369 L2250.25 219.226 L2245.09 220.175 L2245.09 217.49 L2250.42 216.587 L2253.59 216.587 L2253.59 233.369 L2258.33 233.369 L2258.33 235.916 L2245.53 235.916 L2245.53 233.369 Z\" fill=\"#000000\" fill-rule=\"evenodd\" fill-opacity=\"1\" /><polyline clip-path=\"url(#clip580)\" style=\"stroke:#e26f46; stroke-linecap:round; stroke-linejoin:round; stroke-width:4; stroke-opacity:1; fill:none\" points=\"2050.98,270.476 2192.34,270.476 \"/>\n",
       "<path clip-path=\"url(#clip580)\" d=\"M2215.9 277.524 L2215.9 261.83 L2220.16 261.83 L2220.16 277.362 Q2220.16 281.043 2221.6 282.895 Q2223.03 284.723 2225.9 284.723 Q2229.35 284.723 2231.34 282.524 Q2233.36 280.325 2233.36 276.529 L2233.36 261.83 L2237.61 261.83 L2237.61 287.756 L2233.36 287.756 L2233.36 283.774 Q2231.8 286.135 2229.74 287.293 Q2227.71 288.427 2225 288.427 Q2220.53 288.427 2218.22 285.649 Q2215.9 282.871 2215.9 277.524 M2226.62 261.205 L2226.62 261.205 Z\" fill=\"#000000\" fill-rule=\"evenodd\" fill-opacity=\"1\" /><path clip-path=\"url(#clip580)\" d=\"M2248.12 285.117 L2257.94 285.117 L2257.94 287.756 L2244.1 287.756 L2244.1 285.209 Q2244.88 284.492 2246.34 283.196 Q2254.3 276.135 2254.3 273.959 Q2254.3 272.432 2253.1 271.506 Q2251.9 270.557 2249.93 270.557 Q2248.73 270.557 2247.31 270.973 Q2245.9 271.367 2244.24 272.177 L2244.24 269.33 Q2246.02 268.682 2247.55 268.358 Q2249.1 268.034 2250.42 268.034 Q2253.77 268.034 2255.79 269.561 Q2257.8 271.089 2257.8 273.589 Q2257.8 276.807 2250.14 283.381 Q2248.84 284.492 2248.12 285.117 Z\" fill=\"#000000\" fill-rule=\"evenodd\" fill-opacity=\"1\" /><polyline clip-path=\"url(#clip580)\" style=\"stroke:#3da44d; stroke-linecap:round; stroke-linejoin:round; stroke-width:4; stroke-opacity:1; fill:none\" points=\"2050.98,322.316 2192.34,322.316 \"/>\n",
       "<path clip-path=\"url(#clip580)\" d=\"M2215.9 329.364 L2215.9 313.67 L2220.16 313.67 L2220.16 329.202 Q2220.16 332.883 2221.6 334.735 Q2223.03 336.563 2225.9 336.563 Q2229.35 336.563 2231.34 334.364 Q2233.36 332.165 2233.36 328.369 L2233.36 313.67 L2237.61 313.67 L2237.61 339.596 L2233.36 339.596 L2233.36 335.614 Q2231.8 337.975 2229.74 339.133 Q2227.71 340.267 2225 340.267 Q2220.53 340.267 2218.22 337.489 Q2215.9 334.711 2215.9 329.364 M2226.62 313.045 L2226.62 313.045 Z\" fill=\"#000000\" fill-rule=\"evenodd\" fill-opacity=\"1\" /><path clip-path=\"url(#clip580)\" d=\"M2254.05 329.133 Q2256.18 329.549 2257.34 330.823 Q2258.52 332.073 2258.52 333.971 Q2258.52 336.841 2256.32 338.392 Q2254.12 339.943 2250.02 339.943 Q2248.7 339.943 2247.24 339.688 Q2245.81 339.457 2244.19 338.994 L2244.19 336.193 Q2245.39 336.818 2246.76 337.119 Q2248.15 337.42 2249.7 337.42 Q2252.22 337.42 2253.61 336.517 Q2255 335.591 2255 333.971 Q2255 332.258 2253.7 331.378 Q2252.43 330.499 2249.93 330.499 L2247.94 330.499 L2247.94 327.999 L2250.11 327.999 Q2252.29 327.999 2253.4 327.281 Q2254.54 326.54 2254.54 325.151 Q2254.54 323.809 2253.38 323.114 Q2252.22 322.397 2250.02 322.397 Q2249.1 322.397 2247.92 322.605 Q2246.74 322.813 2244.86 323.346 L2244.86 320.684 Q2246.55 320.29 2248.03 320.082 Q2249.51 319.874 2250.79 319.874 Q2254.12 319.874 2256.06 321.239 Q2258.03 322.605 2258.03 324.897 Q2258.03 326.494 2256.99 327.605 Q2255.95 328.716 2254.05 329.133 Z\" fill=\"#000000\" fill-rule=\"evenodd\" fill-opacity=\"1\" /></svg>\n"
      ]
     },
     "metadata": {},
     "output_type": "display_data"
    },
    {
     "data": {
      "image/svg+xml": [
       "<?xml version=\"1.0\" encoding=\"utf-8\"?>\n",
       "<svg xmlns=\"http://www.w3.org/2000/svg\" xmlns:xlink=\"http://www.w3.org/1999/xlink\" width=\"600\" height=\"400\" viewBox=\"0 0 2400 1600\">\n",
       "<defs>\n",
       "  <clipPath id=\"clip620\">\n",
       "    <rect x=\"0\" y=\"0\" width=\"2400\" height=\"1600\"/>\n",
       "  </clipPath>\n",
       "</defs>\n",
       "<path clip-path=\"url(#clip620)\" d=\"M0 1600 L2400 1600 L2400 0 L0 0  Z\" fill=\"#ffffff\" fill-rule=\"evenodd\" fill-opacity=\"1\"/>\n",
       "<defs>\n",
       "  <clipPath id=\"clip621\">\n",
       "    <rect x=\"480\" y=\"0\" width=\"1681\" height=\"1600\"/>\n",
       "  </clipPath>\n",
       "</defs>\n",
       "<path clip-path=\"url(#clip620)\" d=\"M210.977 1423.18 L2352.76 1423.18 L2352.76 123.472 L210.977 123.472  Z\" fill=\"#ffffff\" fill-rule=\"evenodd\" fill-opacity=\"1\"/>\n",
       "<defs>\n",
       "  <clipPath id=\"clip622\">\n",
       "    <rect x=\"210\" y=\"123\" width=\"2143\" height=\"1301\"/>\n",
       "  </clipPath>\n",
       "</defs>\n",
       "<polyline clip-path=\"url(#clip622)\" style=\"stroke:#000000; stroke-linecap:round; stroke-linejoin:round; stroke-width:2; stroke-opacity:0.1; fill:none\" points=\"271.594,1423.18 271.594,123.472 \"/>\n",
       "<polyline clip-path=\"url(#clip622)\" style=\"stroke:#000000; stroke-linecap:round; stroke-linejoin:round; stroke-width:2; stroke-opacity:0.1; fill:none\" points=\"633.699,1423.18 633.699,123.472 \"/>\n",
       "<polyline clip-path=\"url(#clip622)\" style=\"stroke:#000000; stroke-linecap:round; stroke-linejoin:round; stroke-width:2; stroke-opacity:0.1; fill:none\" points=\"995.804,1423.18 995.804,123.472 \"/>\n",
       "<polyline clip-path=\"url(#clip622)\" style=\"stroke:#000000; stroke-linecap:round; stroke-linejoin:round; stroke-width:2; stroke-opacity:0.1; fill:none\" points=\"1357.91,1423.18 1357.91,123.472 \"/>\n",
       "<polyline clip-path=\"url(#clip622)\" style=\"stroke:#000000; stroke-linecap:round; stroke-linejoin:round; stroke-width:2; stroke-opacity:0.1; fill:none\" points=\"1720.01,1423.18 1720.01,123.472 \"/>\n",
       "<polyline clip-path=\"url(#clip622)\" style=\"stroke:#000000; stroke-linecap:round; stroke-linejoin:round; stroke-width:2; stroke-opacity:0.1; fill:none\" points=\"2082.12,1423.18 2082.12,123.472 \"/>\n",
       "<polyline clip-path=\"url(#clip620)\" style=\"stroke:#000000; stroke-linecap:round; stroke-linejoin:round; stroke-width:4; stroke-opacity:1; fill:none\" points=\"210.977,1423.18 2352.76,1423.18 \"/>\n",
       "<polyline clip-path=\"url(#clip620)\" style=\"stroke:#000000; stroke-linecap:round; stroke-linejoin:round; stroke-width:4; stroke-opacity:1; fill:none\" points=\"271.594,1423.18 271.594,1404.28 \"/>\n",
       "<polyline clip-path=\"url(#clip620)\" style=\"stroke:#000000; stroke-linecap:round; stroke-linejoin:round; stroke-width:4; stroke-opacity:1; fill:none\" points=\"633.699,1423.18 633.699,1404.28 \"/>\n",
       "<polyline clip-path=\"url(#clip620)\" style=\"stroke:#000000; stroke-linecap:round; stroke-linejoin:round; stroke-width:4; stroke-opacity:1; fill:none\" points=\"995.804,1423.18 995.804,1404.28 \"/>\n",
       "<polyline clip-path=\"url(#clip620)\" style=\"stroke:#000000; stroke-linecap:round; stroke-linejoin:round; stroke-width:4; stroke-opacity:1; fill:none\" points=\"1357.91,1423.18 1357.91,1404.28 \"/>\n",
       "<polyline clip-path=\"url(#clip620)\" style=\"stroke:#000000; stroke-linecap:round; stroke-linejoin:round; stroke-width:4; stroke-opacity:1; fill:none\" points=\"1720.01,1423.18 1720.01,1404.28 \"/>\n",
       "<polyline clip-path=\"url(#clip620)\" style=\"stroke:#000000; stroke-linecap:round; stroke-linejoin:round; stroke-width:4; stroke-opacity:1; fill:none\" points=\"2082.12,1423.18 2082.12,1404.28 \"/>\n",
       "<path clip-path=\"url(#clip620)\" d=\"M248.978 1454.1 Q245.367 1454.1 243.538 1457.66 Q241.733 1461.2 241.733 1468.33 Q241.733 1475.44 243.538 1479.01 Q245.367 1482.55 248.978 1482.55 Q252.612 1482.55 254.418 1479.01 Q256.247 1475.44 256.247 1468.33 Q256.247 1461.2 254.418 1457.66 Q252.612 1454.1 248.978 1454.1 M248.978 1450.39 Q254.788 1450.39 257.844 1455 Q260.923 1459.58 260.923 1468.33 Q260.923 1477.06 257.844 1481.67 Q254.788 1486.25 248.978 1486.25 Q243.168 1486.25 240.089 1481.67 Q237.034 1477.06 237.034 1468.33 Q237.034 1459.58 240.089 1455 Q243.168 1450.39 248.978 1450.39 Z\" fill=\"#000000\" fill-rule=\"evenodd\" fill-opacity=\"1\" /><path clip-path=\"url(#clip620)\" d=\"M269.14 1479.7 L274.024 1479.7 L274.024 1485.58 L269.14 1485.58 L269.14 1479.7 Z\" fill=\"#000000\" fill-rule=\"evenodd\" fill-opacity=\"1\" /><path clip-path=\"url(#clip620)\" d=\"M294.209 1454.1 Q290.598 1454.1 288.77 1457.66 Q286.964 1461.2 286.964 1468.33 Q286.964 1475.44 288.77 1479.01 Q290.598 1482.55 294.209 1482.55 Q297.844 1482.55 299.649 1479.01 Q301.478 1475.44 301.478 1468.33 Q301.478 1461.2 299.649 1457.66 Q297.844 1454.1 294.209 1454.1 M294.209 1450.39 Q300.02 1450.39 303.075 1455 Q306.154 1459.58 306.154 1468.33 Q306.154 1477.06 303.075 1481.67 Q300.02 1486.25 294.209 1486.25 Q288.399 1486.25 285.321 1481.67 Q282.265 1477.06 282.265 1468.33 Q282.265 1459.58 285.321 1455 Q288.399 1450.39 294.209 1450.39 Z\" fill=\"#000000\" fill-rule=\"evenodd\" fill-opacity=\"1\" /><path clip-path=\"url(#clip620)\" d=\"M605.435 1481.64 L621.754 1481.64 L621.754 1485.58 L599.81 1485.58 L599.81 1481.64 Q602.472 1478.89 607.055 1474.26 Q611.662 1469.61 612.842 1468.27 Q615.088 1465.74 615.967 1464.01 Q616.87 1462.25 616.87 1460.56 Q616.87 1457.8 614.926 1456.07 Q613.004 1454.33 609.903 1454.33 Q607.704 1454.33 605.25 1455.09 Q602.819 1455.86 600.042 1457.41 L600.042 1452.69 Q602.866 1451.55 605.319 1450.97 Q607.773 1450.39 609.81 1450.39 Q615.18 1450.39 618.375 1453.08 Q621.569 1455.77 621.569 1460.26 Q621.569 1462.39 620.759 1464.31 Q619.972 1466.2 617.866 1468.8 Q617.287 1469.47 614.185 1472.69 Q611.083 1475.88 605.435 1481.64 Z\" fill=\"#000000\" fill-rule=\"evenodd\" fill-opacity=\"1\" /><path clip-path=\"url(#clip620)\" d=\"M631.569 1479.7 L636.453 1479.7 L636.453 1485.58 L631.569 1485.58 L631.569 1479.7 Z\" fill=\"#000000\" fill-rule=\"evenodd\" fill-opacity=\"1\" /><path clip-path=\"url(#clip620)\" d=\"M646.685 1451.02 L665.041 1451.02 L665.041 1454.96 L650.967 1454.96 L650.967 1463.43 Q651.986 1463.08 653.004 1462.92 Q654.023 1462.73 655.041 1462.73 Q660.828 1462.73 664.208 1465.9 Q667.587 1469.08 667.587 1474.49 Q667.587 1480.07 664.115 1483.17 Q660.643 1486.25 654.324 1486.25 Q652.148 1486.25 649.879 1485.88 Q647.634 1485.51 645.226 1484.77 L645.226 1480.07 Q647.31 1481.2 649.532 1481.76 Q651.754 1482.32 654.231 1482.32 Q658.236 1482.32 660.574 1480.21 Q662.912 1478.1 662.912 1474.49 Q662.912 1470.88 660.574 1468.77 Q658.236 1466.67 654.231 1466.67 Q652.356 1466.67 650.481 1467.08 Q648.629 1467.5 646.685 1468.38 L646.685 1451.02 Z\" fill=\"#000000\" fill-rule=\"evenodd\" fill-opacity=\"1\" /><path clip-path=\"url(#clip620)\" d=\"M962.968 1451.02 L981.325 1451.02 L981.325 1454.96 L967.251 1454.96 L967.251 1463.43 Q968.269 1463.08 969.288 1462.92 Q970.306 1462.73 971.325 1462.73 Q977.112 1462.73 980.491 1465.9 Q983.871 1469.08 983.871 1474.49 Q983.871 1480.07 980.399 1483.17 Q976.927 1486.25 970.607 1486.25 Q968.431 1486.25 966.163 1485.88 Q963.917 1485.51 961.51 1484.77 L961.51 1480.07 Q963.593 1481.2 965.815 1481.76 Q968.038 1482.32 970.515 1482.32 Q974.519 1482.32 976.857 1480.21 Q979.195 1478.1 979.195 1474.49 Q979.195 1470.88 976.857 1468.77 Q974.519 1466.67 970.515 1466.67 Q968.64 1466.67 966.765 1467.08 Q964.913 1467.5 962.968 1468.38 L962.968 1451.02 Z\" fill=\"#000000\" fill-rule=\"evenodd\" fill-opacity=\"1\" /><path clip-path=\"url(#clip620)\" d=\"M993.084 1479.7 L997.968 1479.7 L997.968 1485.58 L993.084 1485.58 L993.084 1479.7 Z\" fill=\"#000000\" fill-rule=\"evenodd\" fill-opacity=\"1\" /><path clip-path=\"url(#clip620)\" d=\"M1018.15 1454.1 Q1014.54 1454.1 1012.71 1457.66 Q1010.91 1461.2 1010.91 1468.33 Q1010.91 1475.44 1012.71 1479.01 Q1014.54 1482.55 1018.15 1482.55 Q1021.79 1482.55 1023.59 1479.01 Q1025.42 1475.44 1025.42 1468.33 Q1025.42 1461.2 1023.59 1457.66 Q1021.79 1454.1 1018.15 1454.1 M1018.15 1450.39 Q1023.96 1450.39 1027.02 1455 Q1030.1 1459.58 1030.1 1468.33 Q1030.1 1477.06 1027.02 1481.67 Q1023.96 1486.25 1018.15 1486.25 Q1012.34 1486.25 1009.26 1481.67 Q1006.21 1477.06 1006.21 1468.33 Q1006.21 1459.58 1009.26 1455 Q1012.34 1450.39 1018.15 1450.39 Z\" fill=\"#000000\" fill-rule=\"evenodd\" fill-opacity=\"1\" /><path clip-path=\"url(#clip620)\" d=\"M1324.23 1451.02 L1346.45 1451.02 L1346.45 1453.01 L1333.9 1485.58 L1329.02 1485.58 L1340.83 1454.96 L1324.23 1454.96 L1324.23 1451.02 Z\" fill=\"#000000\" fill-rule=\"evenodd\" fill-opacity=\"1\" /><path clip-path=\"url(#clip620)\" d=\"M1355.57 1479.7 L1360.46 1479.7 L1360.46 1485.58 L1355.57 1485.58 L1355.57 1479.7 Z\" fill=\"#000000\" fill-rule=\"evenodd\" fill-opacity=\"1\" /><path clip-path=\"url(#clip620)\" d=\"M1370.69 1451.02 L1389.04 1451.02 L1389.04 1454.96 L1374.97 1454.96 L1374.97 1463.43 Q1375.99 1463.08 1377.01 1462.92 Q1378.02 1462.73 1379.04 1462.73 Q1384.83 1462.73 1388.21 1465.9 Q1391.59 1469.08 1391.59 1474.49 Q1391.59 1480.07 1388.12 1483.17 Q1384.64 1486.25 1378.33 1486.25 Q1376.15 1486.25 1373.88 1485.88 Q1371.64 1485.51 1369.23 1484.77 L1369.23 1480.07 Q1371.31 1481.2 1373.53 1481.76 Q1375.76 1482.32 1378.23 1482.32 Q1382.24 1482.32 1384.58 1480.21 Q1386.91 1478.1 1386.91 1474.49 Q1386.91 1470.88 1384.58 1468.77 Q1382.24 1466.67 1378.23 1466.67 Q1376.36 1466.67 1374.48 1467.08 Q1372.63 1467.5 1370.69 1468.38 L1370.69 1451.02 Z\" fill=\"#000000\" fill-rule=\"evenodd\" fill-opacity=\"1\" /><path clip-path=\"url(#clip620)\" d=\"M1672.09 1481.64 L1679.72 1481.64 L1679.72 1455.28 L1671.41 1456.95 L1671.41 1452.69 L1679.68 1451.02 L1684.35 1451.02 L1684.35 1481.64 L1691.99 1481.64 L1691.99 1485.58 L1672.09 1485.58 L1672.09 1481.64 Z\" fill=\"#000000\" fill-rule=\"evenodd\" fill-opacity=\"1\" /><path clip-path=\"url(#clip620)\" d=\"M1711.44 1454.1 Q1707.83 1454.1 1706 1457.66 Q1704.19 1461.2 1704.19 1468.33 Q1704.19 1475.44 1706 1479.01 Q1707.83 1482.55 1711.44 1482.55 Q1715.07 1482.55 1716.88 1479.01 Q1718.71 1475.44 1718.71 1468.33 Q1718.71 1461.2 1716.88 1457.66 Q1715.07 1454.1 1711.44 1454.1 M1711.44 1450.39 Q1717.25 1450.39 1720.3 1455 Q1723.38 1459.58 1723.38 1468.33 Q1723.38 1477.06 1720.3 1481.67 Q1717.25 1486.25 1711.44 1486.25 Q1705.63 1486.25 1702.55 1481.67 Q1699.49 1477.06 1699.49 1468.33 Q1699.49 1459.58 1702.55 1455 Q1705.63 1450.39 1711.44 1450.39 Z\" fill=\"#000000\" fill-rule=\"evenodd\" fill-opacity=\"1\" /><path clip-path=\"url(#clip620)\" d=\"M1731.6 1479.7 L1736.48 1479.7 L1736.48 1485.58 L1731.6 1485.58 L1731.6 1479.7 Z\" fill=\"#000000\" fill-rule=\"evenodd\" fill-opacity=\"1\" /><path clip-path=\"url(#clip620)\" d=\"M1756.67 1454.1 Q1753.06 1454.1 1751.23 1457.66 Q1749.42 1461.2 1749.42 1468.33 Q1749.42 1475.44 1751.23 1479.01 Q1753.06 1482.55 1756.67 1482.55 Q1760.3 1482.55 1762.11 1479.01 Q1763.94 1475.44 1763.94 1468.33 Q1763.94 1461.2 1762.11 1457.66 Q1760.3 1454.1 1756.67 1454.1 M1756.67 1450.39 Q1762.48 1450.39 1765.53 1455 Q1768.61 1459.58 1768.61 1468.33 Q1768.61 1477.06 1765.53 1481.67 Q1762.48 1486.25 1756.67 1486.25 Q1750.86 1486.25 1747.78 1481.67 Q1744.72 1477.06 1744.72 1468.33 Q1744.72 1459.58 1747.78 1455 Q1750.86 1450.39 1756.67 1450.39 Z\" fill=\"#000000\" fill-rule=\"evenodd\" fill-opacity=\"1\" /><path clip-path=\"url(#clip620)\" d=\"M2034.69 1481.64 L2042.33 1481.64 L2042.33 1455.28 L2034.02 1456.95 L2034.02 1452.69 L2042.28 1451.02 L2046.96 1451.02 L2046.96 1481.64 L2054.6 1481.64 L2054.6 1485.58 L2034.69 1485.58 L2034.69 1481.64 Z\" fill=\"#000000\" fill-rule=\"evenodd\" fill-opacity=\"1\" /><path clip-path=\"url(#clip620)\" d=\"M2068.07 1481.64 L2084.39 1481.64 L2084.39 1485.58 L2062.44 1485.58 L2062.44 1481.64 Q2065.1 1478.89 2069.69 1474.26 Q2074.29 1469.61 2075.48 1468.27 Q2077.72 1465.74 2078.6 1464.01 Q2079.5 1462.25 2079.5 1460.56 Q2079.5 1457.8 2077.56 1456.07 Q2075.64 1454.33 2072.54 1454.33 Q2070.34 1454.33 2067.88 1455.09 Q2065.45 1455.86 2062.67 1457.41 L2062.67 1452.69 Q2065.5 1451.55 2067.95 1450.97 Q2070.41 1450.39 2072.44 1450.39 Q2077.81 1450.39 2081.01 1453.08 Q2084.2 1455.77 2084.2 1460.26 Q2084.2 1462.39 2083.39 1464.31 Q2082.6 1466.2 2080.5 1468.8 Q2079.92 1469.47 2076.82 1472.69 Q2073.72 1475.88 2068.07 1481.64 Z\" fill=\"#000000\" fill-rule=\"evenodd\" fill-opacity=\"1\" /><path clip-path=\"url(#clip620)\" d=\"M2094.2 1479.7 L2099.09 1479.7 L2099.09 1485.58 L2094.2 1485.58 L2094.2 1479.7 Z\" fill=\"#000000\" fill-rule=\"evenodd\" fill-opacity=\"1\" /><path clip-path=\"url(#clip620)\" d=\"M2109.32 1451.02 L2127.67 1451.02 L2127.67 1454.96 L2113.6 1454.96 L2113.6 1463.43 Q2114.62 1463.08 2115.64 1462.92 Q2116.66 1462.73 2117.67 1462.73 Q2123.46 1462.73 2126.84 1465.9 Q2130.22 1469.08 2130.22 1474.49 Q2130.22 1480.07 2126.75 1483.17 Q2123.28 1486.25 2116.96 1486.25 Q2114.78 1486.25 2112.51 1485.88 Q2110.27 1485.51 2107.86 1484.77 L2107.86 1480.07 Q2109.94 1481.2 2112.16 1481.76 Q2114.39 1482.32 2116.86 1482.32 Q2120.87 1482.32 2123.21 1480.21 Q2125.54 1478.1 2125.54 1474.49 Q2125.54 1470.88 2123.21 1468.77 Q2120.87 1466.67 2116.86 1466.67 Q2114.99 1466.67 2113.11 1467.08 Q2111.26 1467.5 2109.32 1468.38 L2109.32 1451.02 Z\" fill=\"#000000\" fill-rule=\"evenodd\" fill-opacity=\"1\" /><path clip-path=\"url(#clip620)\" d=\"M1169.32 1522.27 L1169.32 1532.4 L1181.38 1532.4 L1181.38 1536.95 L1169.32 1536.95 L1169.32 1556.3 Q1169.32 1560.66 1170.5 1561.9 Q1171.71 1563.14 1175.37 1563.14 L1181.38 1563.14 L1181.38 1568.04 L1175.37 1568.04 Q1168.59 1568.04 1166.01 1565.53 Q1163.43 1562.98 1163.43 1556.3 L1163.43 1536.95 L1159.14 1536.95 L1159.14 1532.4 L1163.43 1532.4 L1163.43 1522.27 L1169.32 1522.27 Z\" fill=\"#000000\" fill-rule=\"evenodd\" fill-opacity=\"1\" /><path clip-path=\"url(#clip620)\" d=\"M1189.09 1532.4 L1194.94 1532.4 L1194.94 1568.04 L1189.09 1568.04 L1189.09 1532.4 M1189.09 1518.52 L1194.94 1518.52 L1194.94 1525.93 L1189.09 1525.93 L1189.09 1518.52 Z\" fill=\"#000000\" fill-rule=\"evenodd\" fill-opacity=\"1\" /><path clip-path=\"url(#clip620)\" d=\"M1234.95 1539.24 Q1237.15 1535.29 1240.2 1533.41 Q1243.26 1531.54 1247.4 1531.54 Q1252.97 1531.54 1255.99 1535.45 Q1259.01 1539.33 1259.01 1546.53 L1259.01 1568.04 L1253.13 1568.04 L1253.13 1546.72 Q1253.13 1541.59 1251.31 1539.11 Q1249.5 1536.63 1245.77 1536.63 Q1241.22 1536.63 1238.58 1539.65 Q1235.94 1542.68 1235.94 1547.9 L1235.94 1568.04 L1230.05 1568.04 L1230.05 1546.72 Q1230.05 1541.56 1228.24 1539.11 Q1226.42 1536.63 1222.63 1536.63 Q1218.15 1536.63 1215.5 1539.68 Q1212.86 1542.71 1212.86 1547.9 L1212.86 1568.04 L1206.97 1568.04 L1206.97 1532.4 L1212.86 1532.4 L1212.86 1537.93 Q1214.87 1534.66 1217.67 1533.1 Q1220.47 1531.54 1224.32 1531.54 Q1228.2 1531.54 1230.91 1533.51 Q1233.65 1535.48 1234.95 1539.24 Z\" fill=\"#000000\" fill-rule=\"evenodd\" fill-opacity=\"1\" /><path clip-path=\"url(#clip620)\" d=\"M1301.19 1548.76 L1301.19 1551.62 L1274.26 1551.62 Q1274.64 1557.67 1277.89 1560.85 Q1281.17 1564 1286.99 1564 Q1290.36 1564 1293.52 1563.17 Q1296.7 1562.35 1299.82 1560.69 L1299.82 1566.23 Q1296.67 1567.57 1293.36 1568.27 Q1290.05 1568.97 1286.64 1568.97 Q1278.11 1568.97 1273.11 1564 Q1268.15 1559.04 1268.15 1550.57 Q1268.15 1541.82 1272.86 1536.69 Q1277.6 1531.54 1285.62 1531.54 Q1292.82 1531.54 1296.99 1536.18 Q1301.19 1540.8 1301.19 1548.76 M1295.33 1547.04 Q1295.27 1542.23 1292.62 1539.37 Q1290.01 1536.5 1285.69 1536.5 Q1280.78 1536.5 1277.82 1539.27 Q1274.9 1542.04 1274.45 1547.07 L1295.33 1547.04 Z\" fill=\"#000000\" fill-rule=\"evenodd\" fill-opacity=\"1\" /><path clip-path=\"url(#clip620)\" d=\"M1345.59 1518.58 Q1341.32 1525.9 1339.25 1533.06 Q1337.18 1540.23 1337.18 1547.58 Q1337.18 1554.93 1339.25 1562.16 Q1341.35 1569.35 1345.59 1576.64 L1340.49 1576.64 Q1335.72 1569.16 1333.33 1561.93 Q1330.98 1554.71 1330.98 1547.58 Q1330.98 1540.48 1333.33 1533.29 Q1335.69 1526.09 1340.49 1518.58 L1345.59 1518.58 Z\" fill=\"#000000\" fill-rule=\"evenodd\" fill-opacity=\"1\" /><path clip-path=\"url(#clip620)\" d=\"M1379.68 1533.45 L1379.68 1538.98 Q1377.19 1537.71 1374.52 1537.07 Q1371.85 1536.44 1368.98 1536.44 Q1364.62 1536.44 1362.42 1537.77 Q1360.26 1539.11 1360.26 1541.79 Q1360.26 1543.82 1361.82 1545 Q1363.38 1546.15 1368.09 1547.2 L1370.1 1547.64 Q1376.33 1548.98 1378.94 1551.43 Q1381.59 1553.85 1381.59 1558.21 Q1381.59 1563.17 1377.64 1566.07 Q1373.72 1568.97 1366.85 1568.97 Q1363.98 1568.97 1360.87 1568.39 Q1357.78 1567.85 1354.34 1566.74 L1354.34 1560.69 Q1357.59 1562.38 1360.74 1563.24 Q1363.89 1564.07 1366.98 1564.07 Q1371.11 1564.07 1373.34 1562.66 Q1375.57 1561.23 1375.57 1558.65 Q1375.57 1556.27 1373.95 1554.99 Q1372.36 1553.72 1366.91 1552.54 L1364.88 1552.07 Q1359.43 1550.92 1357.01 1548.56 Q1354.59 1546.18 1354.59 1542.04 Q1354.59 1537.01 1358.16 1534.27 Q1361.72 1531.54 1368.28 1531.54 Q1371.53 1531.54 1374.39 1532.01 Q1377.26 1532.49 1379.68 1533.45 Z\" fill=\"#000000\" fill-rule=\"evenodd\" fill-opacity=\"1\" /><path clip-path=\"url(#clip620)\" d=\"M1389.99 1518.58 L1395.08 1518.58 Q1399.86 1526.09 1402.21 1533.29 Q1404.6 1540.48 1404.6 1547.58 Q1404.6 1554.71 1402.21 1561.93 Q1399.86 1569.16 1395.08 1576.64 L1389.99 1576.64 Q1394.22 1569.35 1396.29 1562.16 Q1398.39 1554.93 1398.39 1547.58 Q1398.39 1540.23 1396.29 1533.06 Q1394.22 1525.9 1389.99 1518.58 Z\" fill=\"#000000\" fill-rule=\"evenodd\" fill-opacity=\"1\" /><polyline clip-path=\"url(#clip622)\" style=\"stroke:#000000; stroke-linecap:round; stroke-linejoin:round; stroke-width:2; stroke-opacity:0.1; fill:none\" points=\"210.977,1386.4 2352.76,1386.4 \"/>\n",
       "<polyline clip-path=\"url(#clip622)\" style=\"stroke:#000000; stroke-linecap:round; stroke-linejoin:round; stroke-width:2; stroke-opacity:0.1; fill:none\" points=\"210.977,1139.99 2352.76,1139.99 \"/>\n",
       "<polyline clip-path=\"url(#clip622)\" style=\"stroke:#000000; stroke-linecap:round; stroke-linejoin:round; stroke-width:2; stroke-opacity:0.1; fill:none\" points=\"210.977,893.584 2352.76,893.584 \"/>\n",
       "<polyline clip-path=\"url(#clip622)\" style=\"stroke:#000000; stroke-linecap:round; stroke-linejoin:round; stroke-width:2; stroke-opacity:0.1; fill:none\" points=\"210.977,647.178 2352.76,647.178 \"/>\n",
       "<polyline clip-path=\"url(#clip622)\" style=\"stroke:#000000; stroke-linecap:round; stroke-linejoin:round; stroke-width:2; stroke-opacity:0.1; fill:none\" points=\"210.977,400.772 2352.76,400.772 \"/>\n",
       "<polyline clip-path=\"url(#clip622)\" style=\"stroke:#000000; stroke-linecap:round; stroke-linejoin:round; stroke-width:2; stroke-opacity:0.1; fill:none\" points=\"210.977,154.366 2352.76,154.366 \"/>\n",
       "<polyline clip-path=\"url(#clip620)\" style=\"stroke:#000000; stroke-linecap:round; stroke-linejoin:round; stroke-width:4; stroke-opacity:1; fill:none\" points=\"210.977,1423.18 210.977,123.472 \"/>\n",
       "<polyline clip-path=\"url(#clip620)\" style=\"stroke:#000000; stroke-linecap:round; stroke-linejoin:round; stroke-width:4; stroke-opacity:1; fill:none\" points=\"210.977,1386.4 229.875,1386.4 \"/>\n",
       "<polyline clip-path=\"url(#clip620)\" style=\"stroke:#000000; stroke-linecap:round; stroke-linejoin:round; stroke-width:4; stroke-opacity:1; fill:none\" points=\"210.977,1139.99 229.875,1139.99 \"/>\n",
       "<polyline clip-path=\"url(#clip620)\" style=\"stroke:#000000; stroke-linecap:round; stroke-linejoin:round; stroke-width:4; stroke-opacity:1; fill:none\" points=\"210.977,893.584 229.875,893.584 \"/>\n",
       "<polyline clip-path=\"url(#clip620)\" style=\"stroke:#000000; stroke-linecap:round; stroke-linejoin:round; stroke-width:4; stroke-opacity:1; fill:none\" points=\"210.977,647.178 229.875,647.178 \"/>\n",
       "<polyline clip-path=\"url(#clip620)\" style=\"stroke:#000000; stroke-linecap:round; stroke-linejoin:round; stroke-width:4; stroke-opacity:1; fill:none\" points=\"210.977,400.772 229.875,400.772 \"/>\n",
       "<polyline clip-path=\"url(#clip620)\" style=\"stroke:#000000; stroke-linecap:round; stroke-linejoin:round; stroke-width:4; stroke-opacity:1; fill:none\" points=\"210.977,154.366 229.875,154.366 \"/>\n",
       "<path clip-path=\"url(#clip620)\" d=\"M114.26 1386.85 L143.936 1386.85 L143.936 1390.78 L114.26 1390.78 L114.26 1386.85 Z\" fill=\"#000000\" fill-rule=\"evenodd\" fill-opacity=\"1\" /><path clip-path=\"url(#clip620)\" d=\"M154.075 1369.12 L172.431 1369.12 L172.431 1373.05 L158.357 1373.05 L158.357 1381.52 Q159.376 1381.18 160.394 1381.01 Q161.413 1380.83 162.431 1380.83 Q168.218 1380.83 171.598 1384 Q174.977 1387.17 174.977 1392.59 Q174.977 1398.17 171.505 1401.27 Q168.033 1404.35 161.714 1404.35 Q159.538 1404.35 157.269 1403.98 Q155.024 1403.61 152.616 1402.87 L152.616 1398.17 Q154.7 1399.3 156.922 1399.86 Q159.144 1400.41 161.621 1400.41 Q165.626 1400.41 167.964 1398.31 Q170.302 1396.2 170.302 1392.59 Q170.302 1388.98 167.964 1386.87 Q165.626 1384.76 161.621 1384.76 Q159.746 1384.76 157.871 1385.18 Q156.019 1385.6 154.075 1386.48 L154.075 1369.12 Z\" fill=\"#000000\" fill-rule=\"evenodd\" fill-opacity=\"1\" /><path clip-path=\"url(#clip620)\" d=\"M163.033 1125.79 Q159.422 1125.79 157.593 1129.35 Q155.788 1132.9 155.788 1140.02 Q155.788 1147.13 157.593 1150.7 Q159.422 1154.24 163.033 1154.24 Q166.667 1154.24 168.473 1150.7 Q170.302 1147.13 170.302 1140.02 Q170.302 1132.9 168.473 1129.35 Q166.667 1125.79 163.033 1125.79 M163.033 1122.08 Q168.843 1122.08 171.899 1126.69 Q174.977 1131.27 174.977 1140.02 Q174.977 1148.75 171.899 1153.36 Q168.843 1157.94 163.033 1157.94 Q157.223 1157.94 154.144 1153.36 Q151.089 1148.75 151.089 1140.02 Q151.089 1131.27 154.144 1126.69 Q157.223 1122.08 163.033 1122.08 Z\" fill=\"#000000\" fill-rule=\"evenodd\" fill-opacity=\"1\" /><path clip-path=\"url(#clip620)\" d=\"M154.075 876.304 L172.431 876.304 L172.431 880.239 L158.357 880.239 L158.357 888.711 Q159.376 888.364 160.394 888.202 Q161.413 888.017 162.431 888.017 Q168.218 888.017 171.598 891.188 Q174.977 894.359 174.977 899.776 Q174.977 905.355 171.505 908.457 Q168.033 911.535 161.714 911.535 Q159.538 911.535 157.269 911.165 Q155.024 910.795 152.616 910.054 L152.616 905.355 Q154.7 906.489 156.922 907.045 Q159.144 907.6 161.621 907.6 Q165.626 907.6 167.964 905.494 Q170.302 903.387 170.302 899.776 Q170.302 896.165 167.964 894.058 Q165.626 891.952 161.621 891.952 Q159.746 891.952 157.871 892.369 Q156.019 892.785 154.075 893.665 L154.075 876.304 Z\" fill=\"#000000\" fill-rule=\"evenodd\" fill-opacity=\"1\" /><path clip-path=\"url(#clip620)\" d=\"M123.681 660.523 L131.32 660.523 L131.32 634.157 L123.01 635.824 L123.01 631.565 L131.274 629.898 L135.95 629.898 L135.95 660.523 L143.589 660.523 L143.589 664.458 L123.681 664.458 L123.681 660.523 Z\" fill=\"#000000\" fill-rule=\"evenodd\" fill-opacity=\"1\" /><path clip-path=\"url(#clip620)\" d=\"M163.033 632.977 Q159.422 632.977 157.593 636.541 Q155.788 640.083 155.788 647.213 Q155.788 654.319 157.593 657.884 Q159.422 661.426 163.033 661.426 Q166.667 661.426 168.473 657.884 Q170.302 654.319 170.302 647.213 Q170.302 640.083 168.473 636.541 Q166.667 632.977 163.033 632.977 M163.033 629.273 Q168.843 629.273 171.899 633.879 Q174.977 638.463 174.977 647.213 Q174.977 655.939 171.899 660.546 Q168.843 665.129 163.033 665.129 Q157.223 665.129 154.144 660.546 Q151.089 655.939 151.089 647.213 Q151.089 638.463 154.144 633.879 Q157.223 629.273 163.033 629.273 Z\" fill=\"#000000\" fill-rule=\"evenodd\" fill-opacity=\"1\" /><path clip-path=\"url(#clip620)\" d=\"M124.677 414.117 L132.316 414.117 L132.316 387.751 L124.005 389.418 L124.005 385.159 L132.269 383.492 L136.945 383.492 L136.945 414.117 L144.584 414.117 L144.584 418.052 L124.677 418.052 L124.677 414.117 Z\" fill=\"#000000\" fill-rule=\"evenodd\" fill-opacity=\"1\" /><path clip-path=\"url(#clip620)\" d=\"M154.075 383.492 L172.431 383.492 L172.431 387.427 L158.357 387.427 L158.357 395.899 Q159.376 395.552 160.394 395.39 Q161.413 395.205 162.431 395.205 Q168.218 395.205 171.598 398.376 Q174.977 401.547 174.977 406.964 Q174.977 412.543 171.505 415.645 Q168.033 418.723 161.714 418.723 Q159.538 418.723 157.269 418.353 Q155.024 417.982 152.616 417.242 L152.616 412.543 Q154.7 413.677 156.922 414.232 Q159.144 414.788 161.621 414.788 Q165.626 414.788 167.964 412.682 Q170.302 410.575 170.302 406.964 Q170.302 403.353 167.964 401.246 Q165.626 399.14 161.621 399.14 Q159.746 399.14 157.871 399.557 Q156.019 399.973 154.075 400.853 L154.075 383.492 Z\" fill=\"#000000\" fill-rule=\"evenodd\" fill-opacity=\"1\" /><path clip-path=\"url(#clip620)\" d=\"M126.899 167.711 L143.218 167.711 L143.218 171.646 L121.274 171.646 L121.274 167.711 Q123.936 164.956 128.519 160.326 Q133.126 155.674 134.306 154.331 Q136.552 151.808 137.431 150.072 Q138.334 148.313 138.334 146.623 Q138.334 143.868 136.39 142.132 Q134.468 140.396 131.367 140.396 Q129.167 140.396 126.714 141.16 Q124.283 141.924 121.505 143.475 L121.505 138.753 Q124.33 137.618 126.783 137.04 Q129.237 136.461 131.274 136.461 Q136.644 136.461 139.839 139.146 Q143.033 141.831 143.033 146.322 Q143.033 148.452 142.223 150.373 Q141.436 152.271 139.329 154.864 Q138.751 155.535 135.649 158.752 Q132.547 161.947 126.899 167.711 Z\" fill=\"#000000\" fill-rule=\"evenodd\" fill-opacity=\"1\" /><path clip-path=\"url(#clip620)\" d=\"M163.033 140.165 Q159.422 140.165 157.593 143.729 Q155.788 147.271 155.788 154.401 Q155.788 161.507 157.593 165.072 Q159.422 168.613 163.033 168.613 Q166.667 168.613 168.473 165.072 Q170.302 161.507 170.302 154.401 Q170.302 147.271 168.473 143.729 Q166.667 140.165 163.033 140.165 M163.033 136.461 Q168.843 136.461 171.899 141.067 Q174.977 145.651 174.977 154.401 Q174.977 163.127 171.899 167.734 Q168.843 172.317 163.033 172.317 Q157.223 172.317 154.144 167.734 Q151.089 163.127 151.089 154.401 Q151.089 145.651 154.144 141.067 Q157.223 136.461 163.033 136.461 Z\" fill=\"#000000\" fill-rule=\"evenodd\" fill-opacity=\"1\" /><path clip-path=\"url(#clip620)\" d=\"M28.3562 756.711 L45.7028 769.602 L64.0042 756.043 L64.0042 762.95 L49.9996 773.326 L64.0042 783.702 L64.0042 790.609 L45.3526 776.763 L28.3562 789.431 L28.3562 782.524 L41.0558 773.071 L28.3562 763.618 L28.3562 756.711 Z\" fill=\"#000000\" fill-rule=\"evenodd\" fill-opacity=\"1\" /><path clip-path=\"url(#clip620)\" d=\"M1054.21 14.0809 L1054.21 22.0612 Q1049.55 19.8332 1045.42 18.7395 Q1041.28 17.6457 1037.44 17.6457 Q1030.75 17.6457 1027.11 20.2383 Q1023.5 22.8309 1023.5 27.611 Q1023.5 31.6214 1025.89 33.6873 Q1028.32 35.7128 1035.05 36.9686 L1039.99 37.9813 Q1049.14 39.7232 1053.48 44.1387 Q1057.85 48.5136 1057.85 55.8863 Q1057.85 64.6767 1051.94 69.2137 Q1046.06 73.7508 1034.68 73.7508 Q1030.39 73.7508 1025.53 72.7785 Q1020.7 71.8063 1015.52 69.9024 L1015.52 61.4765 Q1020.5 64.2716 1025.28 65.6895 Q1030.06 67.1073 1034.68 67.1073 Q1041.69 67.1073 1045.5 64.3527 Q1049.3 61.598 1049.3 56.4939 Q1049.3 52.0379 1046.55 49.5264 Q1043.84 47.0148 1037.6 45.759 L1032.61 44.7868 Q1023.46 42.9639 1019.37 39.075 Q1015.28 35.1862 1015.28 28.2591 Q1015.28 20.2383 1020.91 15.6203 Q1026.58 11.0023 1036.5 11.0023 Q1040.76 11.0023 1045.17 11.7719 Q1049.59 12.5416 1054.21 14.0809 Z\" fill=\"#000000\" fill-rule=\"evenodd\" fill-opacity=\"1\" /><path clip-path=\"url(#clip620)\" d=\"M1077.66 14.324 L1077.66 27.2059 L1093.01 27.2059 L1093.01 32.9987 L1077.66 32.9987 L1077.66 57.6282 Q1077.66 63.1779 1079.16 64.7578 Q1080.7 66.3376 1085.36 66.3376 L1093.01 66.3376 L1093.01 72.576 L1085.36 72.576 Q1076.73 72.576 1073.45 69.3758 Q1070.17 66.1351 1070.17 57.6282 L1070.17 32.9987 L1064.7 32.9987 L1064.7 27.2059 L1070.17 27.2059 L1070.17 14.324 L1077.66 14.324 Z\" fill=\"#000000\" fill-rule=\"evenodd\" fill-opacity=\"1\" /><path clip-path=\"url(#clip620)\" d=\"M1123.44 49.7694 Q1114.4 49.7694 1110.92 51.8354 Q1107.43 53.9013 1107.43 58.8839 Q1107.43 62.8538 1110.03 65.2034 Q1112.66 67.5124 1117.16 67.5124 Q1123.35 67.5124 1127.08 63.1374 Q1130.85 58.7219 1130.85 51.4303 L1130.85 49.7694 L1123.44 49.7694 M1138.3 46.6907 L1138.3 72.576 L1130.85 72.576 L1130.85 65.6895 Q1128.3 69.8214 1124.49 71.8063 Q1120.68 73.7508 1115.17 73.7508 Q1108.2 73.7508 1104.07 69.8619 Q1099.98 65.9325 1099.98 59.3701 Q1099.98 51.7138 1105.09 47.825 Q1110.23 43.9361 1120.4 43.9361 L1130.85 43.9361 L1130.85 43.2069 Q1130.85 38.0623 1127.45 35.2672 Q1124.08 32.4315 1117.97 32.4315 Q1114.08 32.4315 1110.39 33.3632 Q1106.71 34.295 1103.3 36.1584 L1103.3 29.2718 Q1107.39 27.692 1111.24 26.9223 Q1115.09 26.1121 1118.74 26.1121 Q1128.58 26.1121 1133.44 31.2163 Q1138.3 36.3204 1138.3 46.6907 Z\" fill=\"#000000\" fill-rule=\"evenodd\" fill-opacity=\"1\" /><path clip-path=\"url(#clip620)\" d=\"M1161.03 14.324 L1161.03 27.2059 L1176.38 27.2059 L1176.38 32.9987 L1161.03 32.9987 L1161.03 57.6282 Q1161.03 63.1779 1162.53 64.7578 Q1164.07 66.3376 1168.72 66.3376 L1176.38 66.3376 L1176.38 72.576 L1168.72 72.576 Q1160.1 72.576 1156.82 69.3758 Q1153.53 66.1351 1153.53 57.6282 L1153.53 32.9987 L1148.07 32.9987 L1148.07 27.2059 L1153.53 27.2059 L1153.53 14.324 L1161.03 14.324 Z\" fill=\"#000000\" fill-rule=\"evenodd\" fill-opacity=\"1\" /><path clip-path=\"url(#clip620)\" d=\"M1224.99 48.0275 L1224.99 51.6733 L1190.72 51.6733 Q1191.21 59.3701 1195.34 63.421 Q1199.51 67.4314 1206.92 67.4314 Q1211.22 67.4314 1215.23 66.3781 Q1219.28 65.3249 1223.25 63.2184 L1223.25 70.267 Q1219.24 71.9684 1215.03 72.8596 Q1210.81 73.7508 1206.48 73.7508 Q1195.62 73.7508 1189.26 67.4314 Q1182.94 61.1119 1182.94 50.3365 Q1182.94 39.1965 1188.94 32.6746 Q1194.97 26.1121 1205.18 26.1121 Q1214.34 26.1121 1219.64 32.0264 Q1224.99 37.9003 1224.99 48.0275 M1217.54 45.84 Q1217.46 39.7232 1214.1 36.0774 Q1210.77 32.4315 1205.26 32.4315 Q1199.03 32.4315 1195.26 35.9558 Q1191.53 39.4801 1190.96 45.8805 L1217.54 45.84 Z\" fill=\"#000000\" fill-rule=\"evenodd\" fill-opacity=\"1\" /><path clip-path=\"url(#clip620)\" d=\"M1263.92 12.096 L1272.1 12.096 L1272.1 36.8875 L1301.84 36.8875 L1301.84 12.096 L1310.02 12.096 L1310.02 72.576 L1301.84 72.576 L1301.84 43.7741 L1272.1 43.7741 L1272.1 72.576 L1263.92 72.576 L1263.92 12.096 Z\" fill=\"#000000\" fill-rule=\"evenodd\" fill-opacity=\"1\" /><path clip-path=\"url(#clip620)\" d=\"M1325.98 27.2059 L1333.43 27.2059 L1333.43 72.576 L1325.98 72.576 L1325.98 27.2059 M1325.98 9.54393 L1333.43 9.54393 L1333.43 18.9825 L1325.98 18.9825 L1325.98 9.54393 Z\" fill=\"#000000\" fill-rule=\"evenodd\" fill-opacity=\"1\" /><path clip-path=\"url(#clip620)\" d=\"M1377.95 28.5427 L1377.95 35.5912 Q1374.79 33.9709 1371.39 33.1607 Q1367.99 32.3505 1364.34 32.3505 Q1358.79 32.3505 1356 34.0519 Q1353.24 35.7533 1353.24 39.156 Q1353.24 41.7486 1355.23 43.2475 Q1357.21 44.7058 1363.21 46.0426 L1365.76 46.6097 Q1373.7 48.3111 1377.02 51.4303 Q1380.38 54.509 1380.38 60.0587 Q1380.38 66.3781 1375.36 70.0644 Q1370.38 73.7508 1361.63 73.7508 Q1357.98 73.7508 1354.01 73.0216 Q1350.08 72.3329 1345.71 70.9151 L1345.71 63.2184 Q1349.84 65.3654 1353.85 66.4591 Q1357.86 67.5124 1361.79 67.5124 Q1367.06 67.5124 1369.89 65.73 Q1372.73 63.9071 1372.73 60.6258 Q1372.73 57.5877 1370.66 55.9673 Q1368.64 54.3469 1361.71 52.8481 L1359.12 52.2405 Q1352.19 50.7821 1349.11 47.7845 Q1346.03 44.7463 1346.03 39.4801 Q1346.03 33.0797 1350.57 29.5959 Q1355.11 26.1121 1363.45 26.1121 Q1367.58 26.1121 1371.23 26.7198 Q1374.88 27.3274 1377.95 28.5427 Z\" fill=\"#000000\" fill-rule=\"evenodd\" fill-opacity=\"1\" /><path clip-path=\"url(#clip620)\" d=\"M1399.63 14.324 L1399.63 27.2059 L1414.98 27.2059 L1414.98 32.9987 L1399.63 32.9987 L1399.63 57.6282 Q1399.63 63.1779 1401.13 64.7578 Q1402.66 66.3376 1407.32 66.3376 L1414.98 66.3376 L1414.98 72.576 L1407.32 72.576 Q1398.69 72.576 1395.41 69.3758 Q1392.13 66.1351 1392.13 57.6282 L1392.13 32.9987 L1386.66 32.9987 L1386.66 27.2059 L1392.13 27.2059 L1392.13 14.324 L1399.63 14.324 Z\" fill=\"#000000\" fill-rule=\"evenodd\" fill-opacity=\"1\" /><path clip-path=\"url(#clip620)\" d=\"M1442.36 32.4315 Q1436.37 32.4315 1432.88 37.1306 Q1429.4 41.7891 1429.4 49.9314 Q1429.4 58.0738 1432.84 62.7728 Q1436.33 67.4314 1442.36 67.4314 Q1448.32 67.4314 1451.8 62.7323 Q1455.29 58.0333 1455.29 49.9314 Q1455.29 41.8701 1451.8 37.1711 Q1448.32 32.4315 1442.36 32.4315 M1442.36 26.1121 Q1452.09 26.1121 1457.64 32.4315 Q1463.19 38.7509 1463.19 49.9314 Q1463.19 61.0714 1457.64 67.4314 Q1452.09 73.7508 1442.36 73.7508 Q1432.6 73.7508 1427.05 67.4314 Q1421.54 61.0714 1421.54 49.9314 Q1421.54 38.7509 1427.05 32.4315 Q1432.6 26.1121 1442.36 26.1121 Z\" fill=\"#000000\" fill-rule=\"evenodd\" fill-opacity=\"1\" /><path clip-path=\"url(#clip620)\" d=\"M1501.83 34.1734 Q1500.57 33.4443 1499.08 33.1202 Q1497.62 32.7556 1495.84 32.7556 Q1489.52 32.7556 1486.11 36.8875 Q1482.75 40.9789 1482.75 48.6757 L1482.75 72.576 L1475.26 72.576 L1475.26 27.2059 L1482.75 27.2059 L1482.75 34.2544 Q1485.1 30.1225 1488.87 28.1376 Q1492.64 26.1121 1498.02 26.1121 Q1498.79 26.1121 1499.72 26.2337 Q1500.66 26.3147 1501.79 26.5172 L1501.83 34.1734 Z\" fill=\"#000000\" fill-rule=\"evenodd\" fill-opacity=\"1\" /><path clip-path=\"url(#clip620)\" d=\"M1528.53 76.7889 Q1525.37 84.8907 1522.37 87.3618 Q1519.37 89.8329 1514.35 89.8329 L1508.39 89.8329 L1508.39 83.5945 L1512.77 83.5945 Q1515.85 83.5945 1517.55 82.1361 Q1519.25 80.6778 1521.32 75.2496 L1522.65 71.8468 L1504.3 27.2059 L1512.2 27.2059 L1526.38 62.6918 L1540.56 27.2059 L1548.46 27.2059 L1528.53 76.7889 Z\" fill=\"#000000\" fill-rule=\"evenodd\" fill-opacity=\"1\" /><polyline clip-path=\"url(#clip622)\" style=\"stroke:#009af9; stroke-linecap:round; stroke-linejoin:round; stroke-width:4; stroke-opacity:1; fill:none\" points=\"271.594,939.935 278.836,925.081 286.078,927.961 293.32,934.053 300.562,941.839 307.804,950.5 315.046,954.207 322.288,960.649 329.531,975.187 336.773,982.41 344.015,1001.56 351.257,1022.38 358.499,1019.83 365.741,1009.9 372.983,1010.36 380.225,1014.93 387.467,1020.22 394.709,1037.76 401.952,1044.23 409.194,1046.01 416.436,1060.89 423.678,1078.26 430.92,1079.17 438.162,1077.53 445.404,1089.23 452.646,1097.57 459.888,1103.91 467.13,1109.21 474.373,1115.23 481.615,1112.46 488.857,1117.17 496.099,1118.34 503.341,1121.47 510.583,1122.9 517.825,1131.61 525.067,1131.92 532.309,1135.36 539.551,1135.7 546.794,1143.32 554.036,1144.28 561.278,1152.82 568.52,1152.99 575.762,1156.3 583.004,1179.6 590.246,1175.06 597.488,1179.68 604.73,1189.76 611.972,1202.61 619.215,1208.94 626.457,1208.56 633.699,1213.83 640.941,1224.3 648.183,1243.28 655.425,1247.78 662.667,1248.16 669.909,1248.59 677.151,1254.77 684.393,1257.42 691.636,1264.08 698.878,1264.39 706.12,1264.34 713.362,1269.15 720.604,1274.47 727.846,1278.19 735.088,1276.04 742.33,1280.19 749.572,1280.46 756.814,1283.07 764.057,1286.57 771.299,1284.82 778.541,1285.34 785.783,1280.7 793.025,1281.53 800.267,1287.94 807.509,1292.43 814.751,1299.7 821.993,1306.76 829.235,1306.23 836.478,1301.61 843.72,1301.72 850.962,1297.78 858.204,1294.53 865.446,1292.41 872.688,1297.32 879.93,1297.99 887.172,1298.45 894.414,1299.75 901.656,1302.82 908.899,1307.48 916.141,1310.59 923.383,1313.25 930.625,1312.51 937.867,1312.45 945.109,1315.46 952.351,1313.63 959.593,1315.31 966.835,1316.4 974.077,1318.28 981.32,1319.3 988.562,1323.21 995.804,1324.65 1003.05,1323.07 1010.29,1324.42 1017.53,1325.63 1024.77,1331.85 1032.01,1333.86 1039.26,1334.84 1046.5,1338.28 1053.74,1333.17 1060.98,1338.3 1068.22,1334.1 1075.47,1331.73 1082.71,1328.68 1089.95,1326.37 1097.19,1321.76 1104.44,1324.52 1111.68,1326.18 1118.92,1328.41 1126.16,1327.68 1133.4,1325.55 1140.65,1319.62 1147.89,1318.06 1155.13,1320.34 1162.37,1314.79 1169.61,1313.93 1176.86,1319.52 1184.1,1318.85 1191.34,1317.72 1198.58,1320.08 1205.82,1322.57 1213.07,1320.79 1220.31,1319.73 1227.55,1319.03 1234.79,1317.98 1242.04,1321.4 1249.28,1324.64 1256.52,1321.8 1263.76,1318.13 1271,1319.5 1278.25,1318.68 1285.49,1317.17 1292.73,1316.75 1299.97,1323.34 1307.21,1318.97 1314.46,1318.84 1321.7,1314.72 1328.94,1315.52 1336.18,1309.81 1343.42,1308.77 1350.67,1306.32 1357.91,1306.97 1365.15,1306.83 1372.39,1305.92 1379.64,1306.51 1386.88,1306.58 1394.12,1304.17 1401.36,1304.64 1408.6,1303.76 1415.85,1305 1423.09,1304.56 1430.33,1303.37 1437.57,1303.3 1444.81,1301.03 1452.06,1303.32 1459.3,1304.29 1466.54,1301.62 1473.78,1301.02 1481.02,1300.08 1488.27,1303.31 1495.51,1303.21 1502.75,1303.3 1509.99,1300.28 1517.23,1296.21 1524.48,1291.6 1531.72,1291.72 1538.96,1288.91 1546.2,1288.45 1553.45,1288.96 1560.69,1291.03 1567.93,1292.21 1575.17,1289.8 1582.41,1287.73 1589.66,1283.53 1596.9,1280.71 1604.14,1279.88 1611.38,1278.7 1618.62,1274.54 1625.87,1275.41 1633.11,1273.01 1640.35,1270.96 1647.59,1269.43 1654.83,1271.81 1662.08,1270.2 1669.32,1264.75 1676.56,1261.57 1683.8,1259.43 1691.05,1258.87 1698.29,1256.67 1705.53,1254.14 1712.77,1249.35 1720.01,1247.05 1727.26,1243.84 1734.5,1241.16 1741.74,1239.21 1748.98,1237.87 1756.22,1236.2 1763.47,1234.89 1770.71,1233.74 1777.95,1231.55 1785.19,1228.08 1792.43,1225.78 1799.68,1225.85 1806.92,1222.54 1814.16,1222.37 1821.4,1220.03 1828.65,1218.44 1835.89,1217.15 1843.13,1217.03 1850.37,1212.65 1857.61,1210.25 1864.86,1210.42 1872.1,1210.11 1879.34,1208.51 1886.58,1207.08 1893.82,1205.87 1901.07,1205.78 1908.31,1204.43 1915.55,1202.26 1922.79,1200.14 1930.03,1198.62 1937.28,1197.4 1944.52,1196.5 1951.76,1196.57 1959,1196.77 1966.25,1195.28 1973.49,1195.42 1980.73,1194.71 1987.97,1192.8 1995.21,1190.35 2002.46,1190.29 2009.7,1188.59 2016.94,1186.63 2024.18,1184.69 2031.42,1182.53 2038.67,1180.75 2045.91,1180.14 2053.15,1179.22 2060.39,1177.99 2067.63,1177.23 2074.88,1175.97 2082.12,1174.7 2089.36,1173.54 2096.6,1172.63 2103.84,1171.85 2111.09,1170.85 2118.33,1170.39 2125.57,1169.94 2132.81,1169.11 2140.06,1167.77 2147.3,1167.26 2154.54,1165.62 2161.78,1164.37 2169.02,1163.29 2176.27,1162.39 2183.51,1160.91 2190.75,1159.78 2197.99,1158.46 2205.23,1157.48 2212.48,1156.66 2219.72,1155.48 2226.96,1154.29 2234.2,1153.3 2241.44,1152.62 2248.69,1151.88 2255.93,1150.91 2263.17,1150.22 2270.41,1149.64 2277.66,1148.94 2284.9,1148.1 2292.14,1147.42 \"/>\n",
       "<polyline clip-path=\"url(#clip622)\" style=\"stroke:#e26f46; stroke-linecap:round; stroke-linejoin:round; stroke-width:4; stroke-opacity:1; fill:none\" points=\"271.594,1037.66 278.836,1054.7 286.078,1054.88 293.32,1057.3 300.562,1040.19 307.804,1054.74 315.046,1055.85 322.288,1048.17 329.531,1033.52 336.773,1032.01 344.015,1031.89 351.257,1024.73 358.499,1030.72 365.741,1033.22 372.983,1030.08 380.225,1022.19 387.467,1023.83 394.709,1033.59 401.952,1033.75 409.194,1038.17 416.436,1043.07 423.678,1057.31 430.92,1047.88 438.162,1030.79 445.404,1032.58 452.646,1028.69 459.888,1027.18 467.13,1024.48 474.373,1012.4 481.615,1003.58 488.857,995.456 496.099,979.167 503.341,970.922 510.583,955.592 517.825,947.927 525.067,953.065 532.309,945.525 539.551,939.511 546.794,932.382 554.036,933.001 561.278,923.613 568.52,919.262 575.762,916.136 583.004,908.608 590.246,913.037 597.488,909.88 604.73,904.469 611.972,894.622 619.215,890.495 626.457,893.006 633.699,889.183 640.941,883.922 648.183,886.723 655.425,887.735 662.667,878.544 669.909,875.941 677.151,868.267 684.393,872.396 691.636,871.532 698.878,868.788 706.12,866.79 713.362,867.752 720.604,860.593 727.846,865.564 735.088,865.388 742.33,863.382 749.572,857.747 756.814,854.069 764.057,851.619 771.299,852.338 778.541,849.178 785.783,845.09 793.025,845.374 800.267,842.785 807.509,839.667 814.751,840.255 821.993,837.587 829.235,834.211 836.478,837.786 843.72,840.486 850.962,835.854 858.204,831.101 865.446,823.743 872.688,823.42 879.93,820.329 887.172,821.362 894.414,822.183 901.656,827.028 908.899,823.142 916.141,823.496 923.383,826.11 930.625,826.041 937.867,824.248 945.109,827.923 952.351,824.953 959.593,829.03 966.835,828.747 974.077,829.274 981.32,832.27 988.562,831.537 995.804,828.812 1003.05,827.862 1010.29,829.692 1017.53,826.806 1024.77,824.201 1032.01,819.679 1039.26,816.71 1046.5,823.428 1053.74,825.197 1060.98,827.002 1068.22,827.422 1075.47,828.718 1082.71,826.042 1089.95,820.856 1097.19,818.745 1104.44,822.513 1111.68,828.414 1118.92,832.648 1126.16,839.068 1133.4,839.086 1140.65,842.602 1147.89,845.476 1155.13,848.651 1162.37,848.75 1169.61,854.354 1176.86,857.576 1184.1,862.277 1191.34,863.322 1198.58,865.802 1205.82,867.432 1213.07,868.154 1220.31,869.38 1227.55,869.181 1234.79,869.075 1242.04,866.321 1249.28,867.168 1256.52,867.802 1263.76,870.462 1271,873.593 1278.25,869.793 1285.49,871.181 1292.73,873.866 1299.97,877.559 1307.21,878.814 1314.46,880.399 1321.7,885.351 1328.94,885.798 1336.18,884.285 1343.42,884.075 1350.67,889.552 1357.91,896.348 1365.15,901.16 1372.39,903.64 1379.64,904.592 1386.88,902.826 1394.12,901.114 1401.36,903.318 1408.6,907.704 1415.85,909.529 1423.09,910.286 1430.33,913.971 1437.57,917.927 1444.81,922.536 1452.06,924.415 1459.3,927.053 1466.54,932.2 1473.78,933.759 1481.02,935.599 1488.27,934.516 1495.51,936.455 1502.75,939.251 1509.99,939.332 1517.23,940.497 1524.48,940.56 1531.72,941.275 1538.96,941.621 1546.2,941.406 1553.45,942.541 1560.69,945.148 1567.93,947.565 1575.17,951.312 1582.41,953.958 1589.66,956.809 1596.9,957.419 1604.14,960.232 1611.38,960.859 1618.62,962.693 1625.87,968.283 1633.11,969.959 1640.35,971.611 1647.59,974.415 1654.83,978.843 1662.08,979.732 1669.32,982.065 1676.56,986.495 1683.8,991.707 1691.05,995.948 1698.29,997.867 1705.53,999.817 1712.77,1001.54 1720.01,1004.24 1727.26,1005.91 1734.5,1007.22 1741.74,1011.55 1748.98,1013.66 1756.22,1015.62 1763.47,1017.04 1770.71,1019.55 1777.95,1021.37 1785.19,1024.59 1792.43,1026.71 1799.68,1028.2 1806.92,1029.41 1814.16,1031.68 1821.4,1033.28 1828.65,1034.64 1835.89,1034.4 1843.13,1035.58 1850.37,1039.44 1857.61,1041.36 1864.86,1041.96 1872.1,1043.82 1879.34,1044.75 1886.58,1046.39 1893.82,1046.13 1901.07,1048.72 1908.31,1051.1 1915.55,1054.02 1922.79,1057.61 1930.03,1059.02 1937.28,1061.69 1944.52,1062.8 1951.76,1064.62 1959,1066.76 1966.25,1067.66 1973.49,1069.07 1980.73,1070.49 1987.97,1071.89 1995.21,1072.61 2002.46,1075.58 2009.7,1077.7 2016.94,1079.77 2024.18,1080.98 2031.42,1081.83 2038.67,1084.5 2045.91,1086.08 2053.15,1087.66 2060.39,1090.11 2067.63,1091.54 2074.88,1093.4 2082.12,1094.98 2089.36,1096.48 2096.6,1098.09 2103.84,1099.66 2111.09,1101.36 2118.33,1102 2125.57,1103.41 2132.81,1104.87 2140.06,1106.39 2147.3,1108.23 2154.54,1109.25 2161.78,1110.51 2169.02,1111.99 2176.27,1113.7 2183.51,1114.47 2190.75,1116.04 2197.99,1117.53 2205.23,1118.81 2212.48,1120 2219.72,1121.05 2226.96,1122.49 2234.2,1123.32 2241.44,1124.38 2248.69,1125.51 2255.93,1126.43 2263.17,1127.47 2270.41,1128.59 2277.66,1129.49 2284.9,1130.2 2292.14,1131.03 \"/>\n",
       "<polyline clip-path=\"url(#clip622)\" style=\"stroke:#3da44d; stroke-linecap:round; stroke-linejoin:round; stroke-width:4; stroke-opacity:1; fill:none\" points=\"271.594,160.256 278.836,167.403 286.078,175.663 293.32,204.226 300.562,216.894 307.804,229.383 315.046,247.127 322.288,243.492 329.531,266.975 336.773,295.716 344.015,315.066 351.257,338.028 358.499,361.663 365.741,363.722 372.983,378.019 380.225,386.994 387.467,410.093 394.709,410.086 401.952,417.308 409.194,433.389 416.436,452.697 423.678,465.215 430.92,485.577 438.162,495.446 445.404,509.571 452.646,512.431 459.888,507.836 467.13,515.956 474.373,523.726 481.615,529.41 488.857,536.016 496.099,543.504 503.341,548.278 510.583,565.768 517.825,585.353 525.067,596.333 532.309,603.131 539.551,615.813 546.794,618.833 554.036,625.024 561.278,637.093 568.52,643.232 575.762,651.337 583.004,656.504 590.246,661.205 597.488,661.367 604.73,661.709 611.972,671.132 619.215,678.61 626.457,674.642 633.699,676.37 640.941,681.898 648.183,686.187 655.425,702.504 662.667,712.273 669.909,721.4 677.151,725.256 684.393,739.042 691.636,746.311 698.878,754.909 706.12,761.286 713.362,764.912 720.604,774.092 727.846,781.703 735.088,785.782 742.33,791.396 749.572,799.465 756.814,802.512 764.057,808.122 771.299,814.346 778.541,821.268 785.783,826.904 793.025,833.487 800.267,837.931 807.509,842.379 814.751,842.599 821.993,846.3 829.235,848.803 836.478,858.461 843.72,857.884 850.962,862.021 858.204,870.976 865.446,875.135 872.688,878.866 879.93,886.509 887.172,889.758 894.414,890.985 901.656,897.666 908.899,897.367 916.141,902.074 923.383,908.106 930.625,907.295 937.867,908.621 945.109,913.657 952.351,918.657 959.593,924.897 966.835,929.682 974.077,938.511 981.32,940.535 988.562,946.314 995.804,946.749 1003.05,949.666 1010.29,953.676 1017.53,953.619 1024.77,953.925 1032.01,958.6 1039.26,965.466 1046.5,969.33 1053.74,980.766 1060.98,988.807 1068.22,990.24 1075.47,993.074 1082.71,994.447 1089.95,997.887 1097.19,1000.94 1104.44,1005.14 1111.68,1009.11 1118.92,1009.8 1126.16,1018.26 1133.4,1019.32 1140.65,1016.6 1147.89,1018.32 1155.13,1020.05 1162.37,1023.82 1169.61,1028.44 1176.86,1030.97 1184.1,1032.12 1191.34,1034.36 1198.58,1038.43 1205.82,1039.35 1213.07,1040.81 1220.31,1040.92 1227.55,1042.63 1234.79,1046.41 1242.04,1053.38 1249.28,1058.15 1256.52,1063.07 1263.76,1063.61 1271,1067.05 1278.25,1067.68 1285.49,1071.2 1292.73,1073.56 1299.97,1070.55 1307.21,1070.46 1314.46,1071.84 1321.7,1074.96 1328.94,1081.74 1336.18,1083.9 1343.42,1083.32 1350.67,1086.26 1357.91,1090.77 1365.15,1089.45 1372.39,1091.7 1379.64,1096.07 1386.88,1098.38 1394.12,1098.52 1401.36,1101.38 1408.6,1102.2 1415.85,1101.4 1423.09,1106.8 1430.33,1111.15 1437.57,1114.29 1444.81,1113.23 1452.06,1115.08 1459.3,1118.02 1466.54,1118.89 1473.78,1121.22 1481.02,1122.2 1488.27,1122.59 1495.51,1127.41 1502.75,1135.04 1509.99,1136.05 1517.23,1137.76 1524.48,1137.23 1531.72,1138.36 1538.96,1138.28 1546.2,1142.94 1553.45,1144.49 1560.69,1145.15 1567.93,1147.06 1575.17,1147.89 1582.41,1149.23 1589.66,1150 1596.9,1148.69 1604.14,1148.34 1611.38,1151.72 1618.62,1156.64 1625.87,1156.54 1633.11,1154.66 1640.35,1153.22 1647.59,1152.79 1654.83,1151.06 1662.08,1151.62 1669.32,1152.61 1676.56,1156.37 1683.8,1156.53 1691.05,1158.23 1698.29,1159.93 1705.53,1162.22 1712.77,1160.84 1720.01,1161.65 1727.26,1161.59 1734.5,1159.01 1741.74,1156.5 1748.98,1156.02 1756.22,1157 1763.47,1156.4 1770.71,1155.69 1777.95,1156.11 1785.19,1156.63 1792.43,1157.81 1799.68,1160.51 1806.92,1162.62 1814.16,1163.35 1821.4,1165.85 1828.65,1164.78 1835.89,1164.2 1843.13,1163.15 1850.37,1164.17 1857.61,1162.61 1864.86,1162.39 1872.1,1162.39 1879.34,1162.42 1886.58,1162.95 1893.82,1161.9 1901.07,1161.1 1908.31,1159.99 1915.55,1160.69 1922.79,1160.41 1930.03,1161.69 1937.28,1161.77 1944.52,1160.23 1951.76,1159.93 1959,1158.91 1966.25,1158.7 1973.49,1159.81 1980.73,1160.23 1987.97,1160.68 1995.21,1160.16 2002.46,1160.44 2009.7,1161.53 2016.94,1160.39 2024.18,1160.74 2031.42,1160.78 2038.67,1159.59 2045.91,1158.36 2053.15,1157.81 2060.39,1157.76 2067.63,1157.29 2074.88,1156.34 2082.12,1155.75 2089.36,1155.01 2096.6,1154.22 2103.84,1153.88 2111.09,1153.94 2118.33,1153.12 2125.57,1152.9 2132.81,1152.5 2140.06,1152.42 2147.3,1152.41 2154.54,1151.75 2161.78,1152.01 2169.02,1151.82 2176.27,1151.64 2183.51,1151.51 2190.75,1150.9 2197.99,1150.7 2205.23,1150.18 2212.48,1149.95 2219.72,1149.78 2226.96,1149.68 2234.2,1149.44 2241.44,1148.94 2248.69,1148.55 2255.93,1148.08 2263.17,1147.73 2270.41,1147.27 2277.66,1146.98 2284.9,1146.59 2292.14,1146.25 \"/>\n",
       "<polyline clip-path=\"url(#clip622)\" style=\"stroke:#c271d2; stroke-linecap:round; stroke-linejoin:round; stroke-width:4; stroke-opacity:1; fill:none\" stroke-dasharray=\"16, 10\" points=\"271.594,1287.83 278.836,1286.16 286.078,1285.24 293.32,1284.42 300.562,1283.58 307.804,1282.68 315.046,1281.7 322.288,1280.78 329.531,1279.83 336.773,1278.62 344.015,1277.38 351.257,1275.75 358.499,1273.71 365.741,1271.97 372.983,1270.73 380.225,1269.65 387.467,1268.6 394.709,1267.55 401.952,1266.13 409.194,1264.71 416.436,1263.4 423.678,1261.82 430.92,1260.7 438.162,1259.63 445.404,1258.04 452.646,1256.28 459.888,1254.45 467.13,1252.63 474.373,1250.84 481.615,1249.05 488.857,1247.52 496.099,1246.02 503.341,1244.64 510.583,1243.33 517.825,1242.11 525.067,1240.78 532.309,1239.57 539.551,1238.4 546.794,1237.36 554.036,1236.2 561.278,1235.14 568.52,1233.95 575.762,1232.88 583.004,1231.83 590.246,1230.78 597.488,1229.4 604.73,1228 611.972,1227.04 619.215,1225.87 626.457,1224.65 633.699,1223.52 640.941,1222.38 648.183,1221.09 655.425,1219.56 662.667,1218.04 669.909,1216.57 677.151,1215.18 684.393,1213.72 691.636,1212.32 698.878,1210.87 706.12,1209.49 713.362,1208.18 720.604,1206.85 727.846,1205.47 735.088,1204.13 742.33,1202.88 749.572,1201.62 756.814,1200.4 764.057,1199.18 771.299,1197.94 778.541,1196.8 785.783,1195.69 793.025,1194.69 800.267,1193.72 807.509,1192.68 814.751,1191.6 821.993,1190.45 829.235,1189.22 836.478,1188.07 843.72,1187.03 850.962,1186.04 858.204,1185.12 865.446,1184.27 872.688,1183.45 879.93,1182.59 887.172,1181.73 894.414,1180.9 901.656,1180.08 908.899,1179.26 916.141,1178.39 923.383,1177.49 930.625,1176.59 937.867,1175.74 945.109,1174.92 952.351,1174.08 959.593,1173.27 966.835,1172.48 974.077,1171.69 981.32,1170.91 988.562,1169.51 995.804,1168.07 1003.05,1166.65 1010.29,1165.35 1017.53,1164.07 1024.77,1162.8 1032.01,1161.41 1039.26,1160.01 1046.5,1158.65 1053.74,1157.25 1060.98,1156.05 1068.22,1154.75 1075.47,1153.62 1082.71,1152.61 1089.95,1151.72 1097.19,1150.92 1104.44,1150.28 1111.68,1149.56 1118.92,1148.81 1126.16,1148 1133.4,1147.23 1140.65,1146.54 1147.89,1146.03 1155.13,1145.56 1162.37,1145.02 1169.61,1144.64 1176.86,1144.27 1184.1,1143.72 1191.34,1143.18 1198.58,1142.67 1205.82,1142.08 1213.07,1141.42 1220.31,1140.8 1227.55,1140.22 1234.79,1139.65 1242.04,1139.1 1249.28,1138.45 1256.52,1137.69 1263.76,1137.02 1271,1136.46 1278.25,1135.84 1285.49,1135.25 1292.73,1134.69 1299.97,1134.13 1307.21,1133.36 1314.46,1132.73 1321.7,1132.08 1328.94,1131.56 1336.18,1130.99 1343.42,1130.58 1350.67,1130.18 1357.91,1129.83 1365.15,1129.43 1372.39,1129.01 1379.64,1128.6 1386.88,1128.14 1394.12,1127.66 1401.36,1127.23 1408.6,1126.77 1415.85,1126.3 1423.09,1125.78 1430.33,1125.25 1437.57,1124.74 1444.81,1124.21 1452.06,1123.73 1459.3,1123.16 1466.54,1122.55 1473.78,1122 1481.02,1121.45 1488.27,1120.91 1495.51,1120.25 1502.75,1119.59 1509.99,1118.91 1517.23,1118.31 1524.48,1117.82 1531.72,1117.45 1538.96,1117.04 1546.2,1116.69 1553.45,1116.32 1560.69,1115.91 1567.93,1115.4 1575.17,1114.85 1582.41,1114.34 1589.66,1113.88 1596.9,1113.52 1604.14,1113.22 1611.38,1112.9 1618.62,1112.59 1625.87,1112.38 1633.11,1112.1 1640.35,1111.86 1647.59,1111.64 1654.83,1111.43 1662.08,1111.12 1669.32,1110.82 1676.56,1110.65 1683.8,1110.54 1691.05,1110.46 1698.29,1110.34 1705.53,1110.25 1712.77,1110.2 1720.01,1110.24 1727.26,1110.3 1734.5,1110.4 1741.74,1110.54 1748.98,1110.67 1756.22,1110.79 1763.47,1110.91 1770.71,1111.02 1777.95,1111.11 1785.19,1111.22 1792.43,1111.37 1799.68,1111.55 1806.92,1111.67 1814.16,1111.84 1821.4,1111.96 1828.65,1112.11 1835.89,1112.25 1843.13,1112.38 1850.37,1112.47 1857.61,1112.65 1864.86,1112.85 1872.1,1112.99 1879.34,1113.1 1886.58,1113.21 1893.82,1113.32 1901.07,1113.43 1908.31,1113.5 1915.55,1113.57 1922.79,1113.67 1930.03,1113.79 1937.28,1113.92 1944.52,1114.05 1951.76,1114.17 1959,1114.25 1966.25,1114.29 1973.49,1114.34 1980.73,1114.36 1987.97,1114.38 1995.21,1114.42 2002.46,1114.52 2009.7,1114.58 2016.94,1114.67 2024.18,1114.79 2031.42,1114.94 2038.67,1115.13 2045.91,1115.34 2053.15,1115.54 2060.39,1115.73 2067.63,1115.94 2074.88,1116.14 2082.12,1116.35 2089.36,1116.57 2096.6,1116.8 2103.84,1117.04 2111.09,1117.27 2118.33,1117.51 2125.57,1117.74 2132.81,1117.97 2140.06,1118.2 2147.3,1118.46 2154.54,1118.71 2161.78,1118.99 2169.02,1119.29 2176.27,1119.61 2183.51,1119.93 2190.75,1120.28 2197.99,1120.65 2205.23,1121.04 2212.48,1121.45 2219.72,1121.86 2226.96,1122.29 2234.2,1122.74 2241.44,1123.2 2248.69,1123.67 2255.93,1124.15 2263.17,1124.64 2270.41,1125.14 2277.66,1125.64 2284.9,1126.16 2292.14,1126.69 \"/>\n",
       "<polyline clip-path=\"url(#clip622)\" style=\"stroke:#ac8d18; stroke-linecap:round; stroke-linejoin:round; stroke-width:4; stroke-opacity:1; fill:none\" stroke-dasharray=\"16, 10\" points=\"271.594,1041.43 278.836,1042.84 286.078,1043.71 293.32,1044.45 300.562,1045.02 307.804,1045.99 315.046,1046.42 322.288,1046.73 329.531,1047.19 336.773,1048 344.015,1048.76 351.257,1049.42 358.499,1050.2 365.741,1050.71 372.983,1051.07 380.225,1051.45 387.467,1052.01 394.709,1052.43 401.952,1052.5 409.194,1052.52 416.436,1052.38 423.678,1052.05 430.92,1052.24 438.162,1052.52 445.404,1052.45 452.646,1052.31 459.888,1052.26 467.13,1052.23 474.373,1052.26 481.615,1052.62 488.857,1053.2 496.099,1053.96 503.341,1055.13 510.583,1056.47 517.825,1058.16 525.067,1059.96 532.309,1061.47 539.551,1063.11 546.794,1064.81 554.036,1066.61 561.278,1068.27 568.52,1070.1 575.762,1071.94 583.004,1073.75 590.246,1074.91 597.488,1076.63 604.73,1078.33 611.972,1079.36 619.215,1080.59 626.457,1081.85 633.699,1083.01 640.941,1084.18 648.183,1085.46 655.425,1086.7 662.667,1087.88 669.909,1089.15 677.151,1090.41 684.393,1091.77 691.636,1093.01 698.878,1094.23 706.12,1095.45 713.362,1096.65 720.604,1097.81 727.846,1099.06 735.088,1100.19 742.33,1101.27 749.572,1102.37 756.814,1103.51 764.057,1104.68 771.299,1105.87 778.541,1106.99 785.783,1108.13 793.025,1109.28 800.267,1110.38 807.509,1111.53 814.751,1112.71 821.993,1113.87 829.235,1115.07 836.478,1116.26 843.72,1117.36 850.962,1118.38 858.204,1119.43 865.446,1120.53 872.688,1121.72 879.93,1122.9 887.172,1124.1 894.414,1125.26 901.656,1126.38 908.899,1127.39 916.141,1128.47 923.383,1129.54 930.625,1130.54 937.867,1131.53 945.109,1132.48 952.351,1133.4 959.593,1134.35 966.835,1135.21 974.077,1136.07 981.32,1136.91 988.562,1138.54 995.804,1140.13 1003.05,1141.76 1010.29,1143.36 1017.53,1144.86 1024.77,1146.4 1032.01,1147.97 1039.26,1149.64 1046.5,1151.34 1053.74,1152.78 1060.98,1154.14 1068.22,1155.42 1075.47,1156.65 1082.71,1157.83 1089.95,1159.07 1097.19,1160.44 1104.44,1161.85 1111.68,1163.11 1118.92,1164.18 1126.16,1165.11 1133.4,1165.85 1140.65,1166.6 1147.89,1167.26 1155.13,1167.85 1162.37,1168.37 1169.61,1168.92 1176.86,1169.32 1184.1,1169.66 1191.34,1169.9 1198.58,1170.16 1205.82,1170.39 1213.07,1170.61 1220.31,1170.86 1227.55,1171.13 1234.79,1171.44 1242.04,1171.8 1249.28,1172.28 1256.52,1172.77 1263.76,1173.27 1271,1173.73 1278.25,1174.13 1285.49,1174.68 1292.73,1175.22 1299.97,1175.71 1307.21,1176.12 1314.46,1176.54 1321.7,1176.95 1328.94,1177.25 1336.18,1177.58 1343.42,1178 1350.67,1178.47 1357.91,1178.81 1365.15,1178.99 1372.39,1179.09 1379.64,1179.17 1386.88,1179.28 1394.12,1179.5 1401.36,1179.82 1408.6,1180.13 1415.85,1180.35 1423.09,1180.57 1430.33,1180.81 1437.57,1181 1444.81,1181.13 1452.06,1181.17 1459.3,1181.22 1466.54,1181.25 1473.78,1181.19 1481.02,1181.16 1488.27,1181.13 1495.51,1181.2 1502.75,1181.28 1509.99,1181.33 1517.23,1181.45 1524.48,1181.58 1531.72,1181.76 1538.96,1181.98 1546.2,1182.24 1553.45,1182.55 1560.69,1182.87 1567.93,1183.15 1575.17,1183.41 1582.41,1183.61 1589.66,1183.77 1596.9,1183.9 1604.14,1184.07 1611.38,1184.2 1618.62,1184.37 1625.87,1184.53 1633.11,1184.58 1640.35,1184.63 1647.59,1184.69 1654.83,1184.72 1662.08,1184.67 1669.32,1184.66 1676.56,1184.64 1683.8,1184.54 1691.05,1184.36 1698.29,1184.11 1705.53,1183.87 1712.77,1183.65 1720.01,1183.45 1727.26,1183.23 1734.5,1183.03 1741.74,1182.86 1748.98,1182.62 1756.22,1182.38 1763.47,1182.15 1770.71,1181.94 1777.95,1181.73 1785.19,1181.52 1792.43,1181.27 1799.68,1181.03 1806.92,1180.81 1814.16,1180.61 1821.4,1180.4 1828.65,1180.2 1835.89,1180.02 1843.13,1179.91 1850.37,1179.8 1857.61,1179.64 1864.86,1179.47 1872.1,1179.33 1879.34,1179.19 1886.58,1179.06 1893.82,1178.94 1901.07,1178.87 1908.31,1178.76 1915.55,1178.63 1922.79,1178.45 1930.03,1178.21 1937.28,1177.98 1944.52,1177.72 1951.76,1177.48 1959,1177.22 1966.25,1176.95 1973.49,1176.7 1980.73,1176.45 1987.97,1176.2 1995.21,1175.95 2002.46,1175.72 2009.7,1175.44 2016.94,1175.14 2024.18,1174.83 2031.42,1174.51 2038.67,1174.21 2045.91,1173.87 2053.15,1173.52 2060.39,1173.16 2067.63,1172.77 2074.88,1172.38 2082.12,1171.97 2089.36,1171.55 2096.6,1171.13 2103.84,1170.69 2111.09,1170.24 2118.33,1169.78 2125.57,1169.34 2132.81,1168.89 2140.06,1168.43 2147.3,1167.95 2154.54,1167.45 2161.78,1166.96 2169.02,1166.45 2176.27,1165.93 2183.51,1165.39 2190.75,1164.86 2197.99,1164.31 2205.23,1163.74 2212.48,1163.16 2219.72,1162.57 2226.96,1161.98 2234.2,1161.36 2241.44,1160.75 2248.69,1160.13 2255.93,1159.5 2263.17,1158.86 2270.41,1158.21 2277.66,1157.55 2284.9,1156.88 2292.14,1156.2 \"/>\n",
       "<polyline clip-path=\"url(#clip622)\" style=\"stroke:#00a9ad; stroke-linecap:round; stroke-linejoin:round; stroke-width:4; stroke-opacity:1; fill:none\" stroke-dasharray=\"16, 10\" points=\"271.594,1386.4 278.836,1384.55 286.078,1382.69 293.32,1380.95 300.562,1378.72 307.804,1376.49 315.046,1374.28 322.288,1371.91 329.531,1370.04 336.773,1367.82 344.015,1365.12 351.257,1362.24 358.499,1359.08 365.741,1355.64 372.983,1352.58 380.225,1349.5 387.467,1346.57 394.709,1343.35 401.952,1340.54 409.194,1337.9 416.436,1335.16 423.678,1332.22 430.92,1329.37 438.162,1326.3 445.404,1323.25 452.646,1320.16 459.888,1317.37 467.13,1315.09 474.373,1312.9 481.615,1310.81 488.857,1308.86 496.099,1307.03 503.341,1305.27 510.583,1303.66 517.825,1301.8 525.067,1299.66 532.309,1297.5 539.551,1295.44 546.794,1293.3 554.036,1291.37 561.278,1289.55 568.52,1287.64 575.762,1285.83 583.004,1284.06 590.246,1282.48 597.488,1280.93 604.73,1279.63 611.972,1278.62 619.215,1277.56 626.457,1276.5 633.699,1275.76 640.941,1275.16 648.183,1274.58 655.425,1274.06 662.667,1273.23 669.909,1272.29 677.151,1271.28 684.393,1270.35 691.636,1269.2 698.878,1268.03 706.12,1266.81 713.362,1265.6 720.604,1264.47 727.846,1263.28 735.088,1262.04 742.33,1260.87 749.572,1259.73 756.814,1258.53 764.057,1257.43 771.299,1256.34 778.541,1255.24 785.783,1254.11 793.025,1252.99 800.267,1251.85 807.509,1250.75 814.751,1249.69 821.993,1248.79 829.235,1247.93 836.478,1247.15 843.72,1246.22 850.962,1245.45 858.204,1244.7 865.446,1243.82 872.688,1242.96 879.93,1242.13 887.172,1241.22 894.414,1240.35 901.656,1239.57 908.899,1238.72 916.141,1238.01 923.383,1237.29 930.625,1236.51 937.867,1235.87 945.109,1235.3 952.351,1234.69 959.593,1234.04 966.835,1233.32 974.077,1232.56 981.32,1231.65 988.562,1230.74 995.804,1229.77 1003.05,1228.91 1010.29,1228.08 1017.53,1227.25 1024.77,1226.52 1032.01,1225.89 1039.26,1225.21 1046.5,1224.43 1053.74,1223.63 1060.98,1222.6 1068.22,1221.44 1075.47,1220.35 1082.71,1219.3 1089.95,1218.33 1097.19,1217.35 1104.44,1216.39 1111.68,1215.41 1118.92,1214.41 1126.16,1213.5 1133.4,1212.43 1140.65,1211.43 1147.89,1210.62 1155.13,1209.84 1162.37,1209.1 1169.61,1208.32 1176.86,1207.49 1184.1,1206.67 1191.34,1205.89 1198.58,1205.13 1205.82,1204.32 1213.07,1203.56 1220.31,1202.84 1227.55,1202.18 1234.79,1201.54 1242.04,1200.85 1249.28,1200.03 1256.52,1199.13 1263.76,1198.16 1271,1197.26 1278.25,1196.33 1285.49,1195.47 1292.73,1194.56 1299.97,1193.67 1307.21,1192.93 1314.46,1192.26 1321.7,1191.6 1328.94,1190.91 1336.18,1190.07 1343.42,1189.23 1350.67,1188.47 1357.91,1187.69 1365.15,1186.82 1372.39,1186.06 1379.64,1185.29 1386.88,1184.45 1394.12,1183.6 1401.36,1182.8 1408.6,1181.97 1415.85,1181.18 1423.09,1180.46 1430.33,1179.63 1437.57,1178.73 1444.81,1177.79 1452.06,1176.95 1459.3,1176.1 1466.54,1175.22 1473.78,1174.37 1481.02,1173.51 1488.27,1172.66 1495.51,1171.86 1502.75,1170.96 1509.99,1169.89 1517.23,1168.85 1524.48,1167.82 1531.72,1166.87 1538.96,1165.94 1546.2,1165.06 1553.45,1164.1 1560.69,1163.14 1567.93,1162.22 1575.17,1161.29 1582.41,1160.39 1589.66,1159.5 1596.9,1158.63 1604.14,1157.85 1611.38,1157.11 1618.62,1156.32 1625.87,1155.42 1633.11,1154.57 1640.35,1153.82 1647.59,1153.15 1654.83,1152.52 1662.08,1151.97 1669.32,1151.43 1676.56,1150.89 1683.8,1150.25 1691.05,1149.64 1698.29,1149 1705.53,1148.35 1712.77,1147.65 1720.01,1147.02 1727.26,1146.4 1734.5,1145.81 1741.74,1145.32 1748.98,1144.92 1756.22,1144.55 1763.47,1144.15 1770.71,1143.79 1777.95,1143.46 1785.19,1143.13 1792.43,1142.78 1799.68,1142.41 1806.92,1141.98 1814.16,1141.49 1821.4,1140.99 1828.65,1140.44 1835.89,1139.95 1843.13,1139.48 1850.37,1139.07 1857.61,1138.64 1864.86,1138.27 1872.1,1137.91 1879.34,1137.57 1886.58,1137.23 1893.82,1136.88 1901.07,1136.58 1908.31,1136.3 1915.55,1136.06 1922.79,1135.81 1930.03,1135.56 1937.28,1135.28 1944.52,1135.01 1951.76,1134.78 1959,1134.57 1966.25,1134.39 1973.49,1134.22 1980.73,1134.01 1987.97,1133.79 1995.21,1133.57 2002.46,1133.36 2009.7,1133.15 2016.94,1132.91 2024.18,1132.71 2031.42,1132.5 2038.67,1132.29 2045.91,1132.13 2053.15,1132 2060.39,1131.89 2067.63,1131.78 2074.88,1131.69 2082.12,1131.62 2089.36,1131.57 2096.6,1131.54 2103.84,1131.52 2111.09,1131.52 2118.33,1131.51 2125.57,1131.52 2132.81,1131.53 2140.06,1131.55 2147.3,1131.57 2154.54,1131.58 2161.78,1131.61 2169.02,1131.64 2176.27,1131.66 2183.51,1131.69 2190.75,1131.73 2197.99,1131.77 2205.23,1131.83 2212.48,1131.9 2219.72,1131.97 2226.96,1132.04 2234.2,1132.12 2241.44,1132.21 2248.69,1132.31 2255.93,1132.42 2263.17,1132.55 2270.41,1132.68 2277.66,1132.83 2284.9,1132.98 2292.14,1133.15 \"/>\n",
       "<path clip-path=\"url(#clip620)\" d=\"M2023.9 529.676 L2281.36 529.676 L2281.36 166.796 L2023.9 166.796  Z\" fill=\"#ffffff\" fill-rule=\"evenodd\" fill-opacity=\"1\"/>\n",
       "<polyline clip-path=\"url(#clip620)\" style=\"stroke:#000000; stroke-linecap:round; stroke-linejoin:round; stroke-width:4; stroke-opacity:1; fill:none\" points=\"2023.9,529.676 2281.36,529.676 2281.36,166.796 2023.9,166.796 2023.9,529.676 \"/>\n",
       "<polyline clip-path=\"url(#clip620)\" style=\"stroke:#009af9; stroke-linecap:round; stroke-linejoin:round; stroke-width:4; stroke-opacity:1; fill:none\" points=\"2047.7,218.636 2190.48,218.636 \"/>\n",
       "<path clip-path=\"url(#clip620)\" d=\"M2238.93 209.99 L2229.56 222.606 L2239.42 235.916 L2234.39 235.916 L2226.85 225.731 L2219.3 235.916 L2214.28 235.916 L2224.35 222.351 L2215.14 209.99 L2220.16 209.99 L2227.03 219.226 L2233.91 209.99 L2238.93 209.99 Z\" fill=\"#000000\" fill-rule=\"evenodd\" fill-opacity=\"1\" /><path clip-path=\"url(#clip620)\" d=\"M2244.58 233.369 L2249.3 233.369 L2249.3 219.226 L2244.14 220.175 L2244.14 217.49 L2249.46 216.587 L2252.64 216.587 L2252.64 233.369 L2257.38 233.369 L2257.38 235.916 L2244.58 235.916 L2244.58 233.369 Z\" fill=\"#000000\" fill-rule=\"evenodd\" fill-opacity=\"1\" /><polyline clip-path=\"url(#clip620)\" style=\"stroke:#e26f46; stroke-linecap:round; stroke-linejoin:round; stroke-width:4; stroke-opacity:1; fill:none\" points=\"2047.7,270.476 2190.48,270.476 \"/>\n",
       "<path clip-path=\"url(#clip620)\" d=\"M2238.93 261.83 L2229.56 274.446 L2239.42 287.756 L2234.39 287.756 L2226.85 277.571 L2219.3 287.756 L2214.28 287.756 L2224.35 274.191 L2215.14 261.83 L2220.16 261.83 L2227.03 271.066 L2233.91 261.83 L2238.93 261.83 Z\" fill=\"#000000\" fill-rule=\"evenodd\" fill-opacity=\"1\" /><path clip-path=\"url(#clip620)\" d=\"M2247.17 285.117 L2256.99 285.117 L2256.99 287.756 L2243.14 287.756 L2243.14 285.209 Q2243.93 284.492 2245.39 283.196 Q2253.35 276.135 2253.35 273.959 Q2253.35 272.432 2252.15 271.506 Q2250.95 270.557 2248.98 270.557 Q2247.77 270.557 2246.36 270.973 Q2244.95 271.367 2243.28 272.177 L2243.28 269.33 Q2245.07 268.682 2246.59 268.358 Q2248.14 268.034 2249.46 268.034 Q2252.82 268.034 2254.83 269.561 Q2256.85 271.089 2256.85 273.589 Q2256.85 276.807 2249.19 283.381 Q2247.89 284.492 2247.17 285.117 Z\" fill=\"#000000\" fill-rule=\"evenodd\" fill-opacity=\"1\" /><polyline clip-path=\"url(#clip620)\" style=\"stroke:#3da44d; stroke-linecap:round; stroke-linejoin:round; stroke-width:4; stroke-opacity:1; fill:none\" points=\"2047.7,322.316 2190.48,322.316 \"/>\n",
       "<path clip-path=\"url(#clip620)\" d=\"M2238.93 313.67 L2229.56 326.286 L2239.42 339.596 L2234.39 339.596 L2226.85 329.411 L2219.3 339.596 L2214.28 339.596 L2224.35 326.031 L2215.14 313.67 L2220.16 313.67 L2227.03 322.906 L2233.91 313.67 L2238.93 313.67 Z\" fill=\"#000000\" fill-rule=\"evenodd\" fill-opacity=\"1\" /><path clip-path=\"url(#clip620)\" d=\"M2253.1 329.133 Q2255.23 329.549 2256.39 330.823 Q2257.57 332.073 2257.57 333.971 Q2257.57 336.841 2255.37 338.392 Q2253.17 339.943 2249.07 339.943 Q2247.75 339.943 2246.29 339.688 Q2244.86 339.457 2243.24 338.994 L2243.24 336.193 Q2244.44 336.818 2245.81 337.119 Q2247.2 337.42 2248.75 337.42 Q2251.27 337.42 2252.66 336.517 Q2254.05 335.591 2254.05 333.971 Q2254.05 332.258 2252.75 331.378 Q2251.48 330.499 2248.98 330.499 L2246.99 330.499 L2246.99 327.999 L2249.16 327.999 Q2251.34 327.999 2252.45 327.281 Q2253.58 326.54 2253.58 325.151 Q2253.58 323.809 2252.43 323.114 Q2251.27 322.397 2249.07 322.397 Q2248.14 322.397 2246.96 322.605 Q2245.78 322.813 2243.91 323.346 L2243.91 320.684 Q2245.6 320.29 2247.08 320.082 Q2248.56 319.874 2249.83 319.874 Q2253.17 319.874 2255.11 321.239 Q2257.08 322.605 2257.08 324.897 Q2257.08 326.494 2256.04 327.605 Q2255 328.716 2253.1 329.133 Z\" fill=\"#000000\" fill-rule=\"evenodd\" fill-opacity=\"1\" /><polyline clip-path=\"url(#clip620)\" style=\"stroke:#c271d2; stroke-linecap:round; stroke-linejoin:round; stroke-width:4; stroke-opacity:1; fill:none\" stroke-dasharray=\"16, 10\" points=\"2047.7,374.156 2190.48,374.156 \"/>\n",
       "<path clip-path=\"url(#clip620)\" d=\"M2238.93 365.51 L2229.56 378.126 L2239.42 391.436 L2234.39 391.436 L2226.85 381.251 L2219.3 391.436 L2214.28 391.436 L2224.35 377.871 L2215.14 365.51 L2220.16 365.51 L2227.03 374.746 L2233.91 365.51 L2238.93 365.51 Z\" fill=\"#000000\" fill-rule=\"evenodd\" fill-opacity=\"1\" /><path clip-path=\"url(#clip620)\" d=\"M2226.94 355.417 L2231.2 355.417 L2231.2 360.811 L2226.94 360.811 L2226.94 355.417 M2229.12 364.885 L2229.12 364.885 Z\" fill=\"#000000\" fill-rule=\"evenodd\" fill-opacity=\"1\" /><path clip-path=\"url(#clip620)\" d=\"M2244.58 388.889 L2249.3 388.889 L2249.3 374.746 L2244.14 375.695 L2244.14 373.01 L2249.46 372.107 L2252.64 372.107 L2252.64 388.889 L2257.38 388.889 L2257.38 391.436 L2244.58 391.436 L2244.58 388.889 Z\" fill=\"#000000\" fill-rule=\"evenodd\" fill-opacity=\"1\" /><polyline clip-path=\"url(#clip620)\" style=\"stroke:#ac8d18; stroke-linecap:round; stroke-linejoin:round; stroke-width:4; stroke-opacity:1; fill:none\" stroke-dasharray=\"16, 10\" points=\"2047.7,425.996 2190.48,425.996 \"/>\n",
       "<path clip-path=\"url(#clip620)\" d=\"M2238.93 417.35 L2229.56 429.966 L2239.42 443.276 L2234.39 443.276 L2226.85 433.091 L2219.3 443.276 L2214.28 443.276 L2224.35 429.711 L2215.14 417.35 L2220.16 417.35 L2227.03 426.586 L2233.91 417.35 L2238.93 417.35 Z\" fill=\"#000000\" fill-rule=\"evenodd\" fill-opacity=\"1\" /><path clip-path=\"url(#clip620)\" d=\"M2226.94 407.257 L2231.2 407.257 L2231.2 412.651 L2226.94 412.651 L2226.94 407.257 M2229.12 416.725 L2229.12 416.725 Z\" fill=\"#000000\" fill-rule=\"evenodd\" fill-opacity=\"1\" /><path clip-path=\"url(#clip620)\" d=\"M2247.17 440.637 L2256.99 440.637 L2256.99 443.276 L2243.14 443.276 L2243.14 440.729 Q2243.93 440.012 2245.39 438.716 Q2253.35 431.655 2253.35 429.479 Q2253.35 427.952 2252.15 427.026 Q2250.95 426.077 2248.98 426.077 Q2247.77 426.077 2246.36 426.493 Q2244.95 426.887 2243.28 427.697 L2243.28 424.85 Q2245.07 424.202 2246.59 423.878 Q2248.14 423.554 2249.46 423.554 Q2252.82 423.554 2254.83 425.081 Q2256.85 426.609 2256.85 429.109 Q2256.85 432.327 2249.19 438.901 Q2247.89 440.012 2247.17 440.637 Z\" fill=\"#000000\" fill-rule=\"evenodd\" fill-opacity=\"1\" /><polyline clip-path=\"url(#clip620)\" style=\"stroke:#00a9ad; stroke-linecap:round; stroke-linejoin:round; stroke-width:4; stroke-opacity:1; fill:none\" stroke-dasharray=\"16, 10\" points=\"2047.7,477.836 2190.48,477.836 \"/>\n",
       "<path clip-path=\"url(#clip620)\" d=\"M2238.93 469.19 L2229.56 481.806 L2239.42 495.116 L2234.39 495.116 L2226.85 484.931 L2219.3 495.116 L2214.28 495.116 L2224.35 481.551 L2215.14 469.19 L2220.16 469.19 L2227.03 478.426 L2233.91 469.19 L2238.93 469.19 Z\" fill=\"#000000\" fill-rule=\"evenodd\" fill-opacity=\"1\" /><path clip-path=\"url(#clip620)\" d=\"M2226.94 459.097 L2231.2 459.097 L2231.2 464.491 L2226.94 464.491 L2226.94 459.097 M2229.12 468.565 L2229.12 468.565 Z\" fill=\"#000000\" fill-rule=\"evenodd\" fill-opacity=\"1\" /><path clip-path=\"url(#clip620)\" d=\"M2253.1 484.653 Q2255.23 485.069 2256.39 486.343 Q2257.57 487.593 2257.57 489.491 Q2257.57 492.361 2255.37 493.912 Q2253.17 495.463 2249.07 495.463 Q2247.75 495.463 2246.29 495.208 Q2244.86 494.977 2243.24 494.514 L2243.24 491.713 Q2244.44 492.338 2245.81 492.639 Q2247.2 492.94 2248.75 492.94 Q2251.27 492.94 2252.66 492.037 Q2254.05 491.111 2254.05 489.491 Q2254.05 487.778 2252.75 486.898 Q2251.48 486.019 2248.98 486.019 L2246.99 486.019 L2246.99 483.519 L2249.16 483.519 Q2251.34 483.519 2252.45 482.801 Q2253.58 482.06 2253.58 480.671 Q2253.58 479.329 2252.43 478.634 Q2251.27 477.917 2249.07 477.917 Q2248.14 477.917 2246.96 478.125 Q2245.78 478.333 2243.91 478.866 L2243.91 476.204 Q2245.6 475.81 2247.08 475.602 Q2248.56 475.394 2249.83 475.394 Q2253.17 475.394 2255.11 476.759 Q2257.08 478.125 2257.08 480.417 Q2257.08 482.014 2256.04 483.125 Q2255 484.236 2253.1 484.653 Z\" fill=\"#000000\" fill-rule=\"evenodd\" fill-opacity=\"1\" /></svg>\n"
      ]
     },
     "metadata": {},
     "output_type": "display_data"
    }
   ],
   "source": [
    "Xsim_m = mat_from_vec(Xhist[1:end-Nh])\n",
    "Usim_m = mat_from_vec(Uhist[1:end-Nh-1])\n",
    "e_sim_m = mat_from_vec(Xref[1:end-Nh]-Xhist[1:end-Nh])\n",
    "@show traj_error = maximum(norm.(e_sim_m, Inf))\n",
    "display(plot(t_vec[1:end-Nh],e_sim_m',label = [\"ex₁\" \"ex₂\" \"ex₃\" \"eẋ₁\" \"eẋ₂\" \"eẋ₃\"], \n",
    "             linestyle=[:solid :solid :solid :dash :dash :dash], \n",
    "             title = \"State Error History\",\n",
    "             xlabel = \"time (s)\", ylabel = \"x\"))\n",
    "display(plot(t_vec[1:end-Nh-2],Usim_m',label = [\"u₁\" \"u₂\" \"u₃\"],\n",
    "             title = \"Input History\",\n",
    "             xlabel = \"time (s)\", ylabel = \"u\"))\n",
    "display(plot(t_vec[1:end-Nh],Xsim_m',label = [\"x₁\" \"x₂\" \"x₃\" \"ẋ₁\" \"ẋ₂\" \"ẋ₃\"], \n",
    "             linestyle=[:solid :solid :solid :dash :dash :dash],\n",
    "             title = \"State History\",\n",
    "             xlabel = \"time (s)\", ylabel = \"x\"))"
   ]
  }
 ],
 "metadata": {
  "kernelspec": {
   "display_name": "Julia 1.6.7",
   "language": "julia",
   "name": "julia-1.6"
  },
  "language_info": {
   "file_extension": ".jl",
   "mimetype": "application/julia",
   "name": "julia",
   "version": "1.6.7"
  }
 },
 "nbformat": 4,
 "nbformat_minor": 5
}
