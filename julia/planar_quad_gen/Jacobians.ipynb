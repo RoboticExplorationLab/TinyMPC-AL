{
 "cells": [
  {
   "cell_type": "code",
   "execution_count": null,
   "id": "c943da45-a7ca-4efd-9a20-798c23f0babb",
   "metadata": {},
   "outputs": [],
   "source": [
    "import Pkg; \n",
    "Pkg.activate(@__DIR__)\n",
    "Pkg.instantiate()"
   ]
  },
  {
   "cell_type": "code",
   "execution_count": 12,
   "id": "6d4548db-8a46-4eeb-8ebc-44b4e01a763d",
   "metadata": {},
   "outputs": [],
   "source": [
    "using Symbolics\n",
    "using LinearAlgebra\n",
    "import ForwardDiff as FD"
   ]
  },
  {
   "cell_type": "code",
   "execution_count": 13,
   "id": "815decfb-1321-4f7e-9dd6-f152b76d029d",
   "metadata": {
    "jupyter": {
     "source_hidden": true
    },
    "tags": []
   },
   "outputs": [
    {
     "data": {
      "text/plain": [
       "get_jacobians (generic function with 1 method)"
      ]
     },
     "execution_count": 13,
     "metadata": {},
     "output_type": "execute_result"
    }
   ],
   "source": [
    "# Planar Quadrotor Dynamics\n",
    "function dynamics(model, x, u)\n",
    "    θ = x[3]\n",
    "    \n",
    "    ẍ = (1/model.m)*(u[1] + u[2])*sin(θ)\n",
    "    ÿ = (1/model.m)*(u[1] + u[2])*cos(θ) - model.g\n",
    "    θ̈ = (1/model.J)*(model.ℓ/2)*(u[2] - u[1])\n",
    "    \n",
    "    return [x[4:6]; ẍ; ÿ; θ̈]\n",
    "end\n",
    "\n",
    "function rk4(model, ode, x, u, dt)\n",
    "    k1 = dt*ode(model, x, u)\n",
    "    k2 = dt*ode(model, x + k1/2, u)\n",
    "    k3 = dt*ode(model, x + k2/2, u)\n",
    "    k4 = dt*ode(model, x + k3, u)\n",
    "    x + (1/6)*(k1 + 2*k2 + 2*k3 + k4)\n",
    "end\n",
    "\n",
    "function get_jacobians(model, dynamics, X̄, Ū , dt)\n",
    "    N_mpc = length(X̄)\n",
    "    A = [FD.jacobian(_x -> rk4(model, dynamics, _x, Ū[i], dt), X̄[i]) for i = 1:(N_mpc - 1)]\n",
    "    B = [FD.jacobian(_u -> rk4(model, dynamics, X̄[i], _u, dt), Ū[i]) for i = 1:(N_mpc - 1)]\n",
    "    return A, B\n",
    "end"
   ]
  },
  {
   "cell_type": "code",
   "execution_count": 216,
   "id": "7a9c57c8-4692-4914-8277-1ddb220b66f8",
   "metadata": {},
   "outputs": [
    {
     "name": "stdout",
     "output_type": "stream",
     "text": [
      "val_jac_A = substitute.(sym_jac_A, (sub_dict,)) = Num[1 0 -0.07403629041099907 0.09999999999999999 0 -0.002464323899799397; 0 1 0.00487270388811441 0 0.09999999999999999 0.0004200352044805546; 0 0 1 0 0 0.09999999999999999; 0 0 -1.4526144530017426 1 0 -0.0712251548891752; 0 0 0.25260670224641213 0 1 0.020387966336526807; 0 0 0 0 0 1]\n"
     ]
    },
    {
     "data": {
      "text/latex": [
       "$$ \\begin{equation}\n",
       "1.597872624000063e-17\n",
       "\\end{equation}\n",
       " $$"
      ],
      "text/plain": [
       "1.597872624000063e-17"
      ]
     },
     "execution_count": 216,
     "metadata": {},
     "output_type": "execute_result"
    }
   ],
   "source": [
    "# ====================\n",
    "# Explicit model params (working)\n",
    "# ====================\n",
    "@variables x[1:6] u[1:2] \n",
    "x = collect(x); u = collect(u)\n",
    "x0 = [1; 2; 3; 4; 5; 6]; u0 = [7; 8]\n",
    "# Planar Quadrotor Dynamics\n",
    "function dynamics(x, u)\n",
    "    model = (g = 9.81, #m/s^2\n",
    "        m = 1.0, #kg \n",
    "        ℓ = 0.3, #meters\n",
    "        J = 0.2*1*0.3*0.3) \n",
    "    θ = x[3]\n",
    "    ẍ = (1/model.m)*(u[1] + u[2])*sin(θ)\n",
    "    ÿ = (1/model.m)*(u[1] + u[2])*cos(θ) - model.g\n",
    "    θ̈ = (1/model.J)*(model.ℓ/2)*(u[2] - u[1])\n",
    "    \n",
    "    return [x[4]; x[5]; x[6]; ẍ; ÿ; θ̈]\n",
    "end\n",
    "function rk4(x, u)\n",
    "    dt = 0.1\n",
    "    k1 = dt*dynamics(x, u)\n",
    "    k2 = dt*dynamics(x + k1/2, u)\n",
    "    k3 = dt*dynamics(x + k2/2, u)\n",
    "    k4 = dt*dynamics(x + k3, u)\n",
    "    x + (1/6)*(k1 + 2*k2 + 2*k3 + k4)\n",
    "end\n",
    "function midpoint(x, u)\n",
    "    dt = 0.1\n",
    "    k1 = dt*dynamics(x, u)\n",
    "    k2 = dt*dynamics(x + k1/2, u)\n",
    "    x += k2\n",
    "end\n",
    "\n",
    "sym_jac_A = Symbolics.jacobian(rk4(x, u), x)\n",
    "sym_jac_B = Symbolics.jacobian(rk4(x, u), u)\n",
    "# Sub value to validate with ForwardDiff\n",
    "sub_dict = Dict()\n",
    "[sub_dict[x] = y for (x,y) in zip([x; u], [x0; u0])]\n",
    "val_jac_A = substitute.(sym_jac_A, (sub_dict,))\n",
    "val_jac_B = substitute.(sym_jac_B, (sub_dict,))\n",
    "fd_jac_A = FD.jacobian(_x->rk4(_x, u0), x0)\n",
    "fd_jac_B = FD.jacobian(_u->rk4(x0, _u), u0)\n",
    "norm(fd_jac_A - val_jac_A) + norm(fd_jac_B - val_jac_B)"
   ]
  },
  {
   "cell_type": "code",
   "execution_count": 224,
   "id": "6c628217-15ae-4837-970c-71178b07b875",
   "metadata": {},
   "outputs": [],
   "source": [
    "# ====================\n",
    "# Generate C code for jacobians\n",
    "# ====================\n",
    "fA = build_function(sym_jac_A, x, u; target=Symbolics.CTarget(), \n",
    "    fname = :tiny_GetJacobianA, lhsname=:A, rhsnames=[Symbol(\"x\"), Symbol(\"u\")]);\n",
    "\n",
    "open(\"functionA.txt\",\"a\") do io\n",
    "        println(io, fA)\n",
    "end\n",
    "\n",
    "fB = build_function(sym_jac_B, x, u; target=Symbolics.CTarget(), \n",
    "    fname = :tiny_GetJacobianB, lhsname=:B, rhsnames=[Symbol(\"x\"), Symbol(\"u\")]);\n",
    "\n",
    "open(\"functionB.txt\",\"a\") do io\n",
    "        println(io, fB)\n",
    "end"
   ]
  },
  {
   "cell_type": "code",
   "execution_count": 228,
   "id": "e070ad32-8f19-40e3-99ac-ae4abf9c7423",
   "metadata": {},
   "outputs": [],
   "source": [
    "# ====================\n",
    "# Generate C code for dynamics\n",
    "# ====================\n",
    "dynamics_rk4 = rk4(x ,u)\n",
    "dynamics_rk4 = build_function(dynamics_rk4, x, u; target=Symbolics.CTarget(), \n",
    "    fname = :tiny_Dynamics_RK4, lhsname=:xn, rhsnames=[Symbol(\"x\"), Symbol(\"u\")])\n",
    "open(\"dynamics_rk4.txt\",\"a\") do io\n",
    "        println(io, dynamics_rk4)\n",
    "end"
   ]
  },
  {
   "cell_type": "code",
   "execution_count": null,
   "id": "8da00896-0d2a-4c12-b81b-5bb59ab6dc2f",
   "metadata": {
    "jupyter": {
     "source_hidden": true
    },
    "tags": []
   },
   "outputs": [],
   "source": [
    "# ====================\n",
    "# Symbolic model params\n",
    "# not working \n",
    "# ====================\n",
    "@variables g, m, ℓ, J\n",
    "model = (g=g, m=m, ℓ=ℓ, J=J)\n",
    "x = collect(x)\n",
    "u = collect(u)\n",
    "@variables x[1:6] u[1:2] \n",
    "\n",
    "# Planar Quadrotor Dynamics\n",
    "function dynamics(model, x, u)\n",
    "    θ = x[3]\n",
    "    ẍ = (1/model.m)*(u[1] + u[2])*sin(θ)\n",
    "    ÿ = (1/model.m)*(u[1] + u[2])*cos(θ) - model.g\n",
    "    θ̈ = (1/model.J)*(model.ℓ/2)*(u[2] - u[1])\n",
    "    \n",
    "    return [x[4:6]; ẍ; ÿ; θ̈]\n",
    "end\n",
    "function rk4(model, x, u)\n",
    "    dt = 0.1\n",
    "    k1 = dt*dynamics(model, x, u)\n",
    "    k2 = dt*dynamics(model, x + k1/2, u)\n",
    "    k3 = dt*dynamics(model, x + k2/2, u)\n",
    "    k4 = dt*dynamics(model, x + k3, u)\n",
    "    x + (1/6)*(k1 + 2*k2 + 2*k3 + k4) \n",
    "end\n",
    "# sym_jac_A = Symbolics.jacobian(dynamics(model, x, u), x)\n",
    "# sym_jac_B = Symbolics.jacobian(dynamics(model, x, u), u)\n",
    "sym_jac_A = Symbolics.jacobian(rk4(model, x, u), u)"
   ]
  },
  {
   "cell_type": "code",
   "execution_count": 18,
   "id": "fed64908-0c6e-4cbd-8927-58accf0c5178",
   "metadata": {},
   "outputs": [
    {
     "name": "stdout",
     "output_type": "stream",
     "text": [
      "rk4(model, dynamics, x_hover, u_hover, dt) = [0.0, 0.0, 0.0, 0.0, 0.0, 0.0]\n"
     ]
    },
    {
     "data": {
      "text/plain": [
       "6-element Vector{Float64}:\n",
       " 0.0\n",
       " 0.0\n",
       " 0.0\n",
       " 0.0\n",
       " 0.0\n",
       " 0.0"
      ]
     },
     "execution_count": 18,
     "metadata": {},
     "output_type": "execute_result"
    }
   ],
   "source": [
    "let\n",
    "dt = 0.05  \n",
    "h = dt\n",
    "Nx = 6     # number of state\n",
    "Nu = 2     # number of controls\n",
    "Tfinal = 10.0 # final time\n",
    "Nt = Int(Tfinal/h)+1    # number of time steps\n",
    "thist = Array(range(0,h*(Nt-1), step=h));\n",
    "    \n",
    "# Quadrotor model parameters\n",
    "model = (g = 9.81, #m/s^2\n",
    "        m = 1.0, #kg \n",
    "        ℓ = 0.3, #meters\n",
    "        J = 0.2*1*0.3*0.3) \n",
    "\n",
    "# Thrust limits\n",
    "umin = [0.2*model.m*model.g; 0.2*model.m*model.g]\n",
    "umax = [0.6*model.m*model.g; 0.6*model.m*model.g]\n",
    "\n",
    "x_hover = zeros(6)\n",
    "u_hover = [0.5*model.m*model.g; 0.5*model.m*model.g]\n",
    "    \n",
    "#Linearized dynamics for hovering\n",
    "x_hover = zeros(6)\n",
    "u_hover = [0.5*model.m*model.g; 0.5*model.m*model.g]\n",
    "A = FD.jacobian(_x -> rk4(model, dynamics, _x, u_hover, dt), x_hover);\n",
    "B = FD.jacobian(_u -> rk4(model, dynamics, x_hover, _u, dt), u_hover);\n",
    "    \n",
    "end"
   ]
  }
 ],
 "metadata": {
  "kernelspec": {
   "display_name": "Julia 1.6.7",
   "language": "julia",
   "name": "julia-1.6"
  },
  "language_info": {
   "file_extension": ".jl",
   "mimetype": "application/julia",
   "name": "julia",
   "version": "1.6.7"
  }
 },
 "nbformat": 4,
 "nbformat_minor": 5
}
