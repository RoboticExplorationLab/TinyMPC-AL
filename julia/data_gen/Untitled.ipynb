{
 "cells": [
  {
   "cell_type": "code",
   "execution_count": 2,
   "id": "8c1e7758-f29c-48a4-9287-54ea3f68e185",
   "metadata": {},
   "outputs": [
    {
     "name": "stderr",
     "output_type": "stream",
     "text": [
      "\u001b[32m\u001b[1m  Activating\u001b[22m\u001b[39m new environment at `~/SSD/Code/TinyMPC/julia/data_gen/Project.toml`\n",
      "\u001b[32m\u001b[1m  No Changes\u001b[22m\u001b[39m to `~/SSD/Code/TinyMPC/julia/data_gen/Project.toml`\n",
      "\u001b[32m\u001b[1m  No Changes\u001b[22m\u001b[39m to `~/SSD/Code/TinyMPC/julia/data_gen/Manifest.toml`\n"
     ]
    }
   ],
   "source": [
    "import Pkg; Pkg.activate(@__DIR__); Pkg.instantiate()"
   ]
  },
  {
   "cell_type": "code",
   "execution_count": 4,
   "id": "92596445-6167-4396-8260-38b038057a58",
   "metadata": {},
   "outputs": [],
   "source": [
    "using Symbolics\n",
    "using LinearAlgebra\n",
    "import ForwardDiff as FD"
   ]
  },
  {
   "cell_type": "code",
   "execution_count": 16,
   "id": "4426b9b8-e145-465e-a347-0a152fe1199d",
   "metadata": {},
   "outputs": [],
   "source": [
    "function discrete_dynamics(x,u)\n",
    "    # RK4\n",
    "    A = [1.0  0.0  0.1  0.0;\n",
    "         0.0  1.0  0.0  0.1;\n",
    "         0.0  0.0  1.0  0.0;\n",
    "         0.0  0.0  0.0  1.0]\n",
    "    B = [0.005  0.0;\n",
    "         0.0    0.005;\n",
    "         0.1    0.0;\n",
    "         0.0    0.1]\n",
    "    return A*x + B*u\n",
    "end\n",
    "x0 = [5,7,2,-1.4]\n",
    "N = 3\n",
    "U = [rand(2) for k=1:N-1]\n",
    "X = [deepcopy(x0) for k=1:N]\n",
    "for k=1:N-1\n",
    "    X[k+1] = discrete_dynamics(X[k],U[k])\n",
    "end"
   ]
  },
  {
   "cell_type": "code",
   "execution_count": 18,
   "id": "e78fa456-d328-4a2e-b4fd-e3d6e5b238be",
   "metadata": {},
   "outputs": [
    {
     "data": {
      "text/plain": [
       "true"
      ]
     },
     "execution_count": 18,
     "metadata": {},
     "output_type": "execute_result"
    }
   ],
   "source": [
    "# Export a vector of vectors to C header and source \n",
    "function export_vec_to_c(filename, var_type, var_name, data)\n",
    "    declare = var_type * \" \" * var_name\n",
    "    size = length(data)*length(data[1])\n",
    "    def = declare * \"[\" * string(size) * \"] = {\\n\"\n",
    "    for i=1:length(data)\n",
    "        def = def * \"  \"\n",
    "        for j=1:length(data[1])\n",
    "            def = def * string(data[i][j])\n",
    "            if j < length(data[1]) \n",
    "                def = def * \",\"\n",
    "            end\n",
    "        end\n",
    "        if i < length(data)\n",
    "            def = def * \",\\n\"\n",
    "        end\n",
    "    end\n",
    "    def = def*\"}\"\n",
    "\n",
    "    # open(filename*\".h\",\"a\") do io\n",
    "    #         println(io, declare * \";\\n\")\n",
    "    # end\n",
    "    open(filename*\".h\",\"a\") do io\n",
    "            println(io, def * \";\\n\")\n",
    "    end\n",
    "    return true\n",
    "end\n",
    "export_vec_to_c(\"data\", \"sfloat\", \"x_data\", X)\n",
    "export_vec_to_c(\"data\", \"sfloat\", \"u_data\", U)"
   ]
  }
 ],
 "metadata": {
  "kernelspec": {
   "display_name": "Julia 1.6.7",
   "language": "julia",
   "name": "julia-1.6"
  },
  "language_info": {
   "file_extension": ".jl",
   "mimetype": "application/julia",
   "name": "julia",
   "version": "1.6.7"
  }
 },
 "nbformat": 4,
 "nbformat_minor": 5
}
