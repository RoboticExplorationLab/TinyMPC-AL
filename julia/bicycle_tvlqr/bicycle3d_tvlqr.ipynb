{
 "cells": [
  {
   "cell_type": "code",
   "execution_count": 2,
   "id": "c943da45-a7ca-4efd-9a20-798c23f0babb",
   "metadata": {},
   "outputs": [
    {
     "name": "stderr",
     "output_type": "stream",
     "text": [
      "\u001b[32m\u001b[1m  Activating\u001b[22m\u001b[39m environment at `~/SSD/Code/TinyMPC/julia/bicycle_tvlqr/Project.toml`\n"
     ]
    }
   ],
   "source": [
    "import Pkg; Pkg.activate(@__DIR__); Pkg.instantiate()"
   ]
  },
  {
   "cell_type": "code",
   "execution_count": 3,
   "id": "6d4548db-8a46-4eeb-8ebc-44b4e01a763d",
   "metadata": {},
   "outputs": [
    {
     "name": "stderr",
     "output_type": "stream",
     "text": [
      "┌ Info: Precompiling Symbolics [0c5d862f-8b57-4792-8d23-62f2024744c7]\n",
      "└ @ Base loading.jl:1342\n",
      "\u001b[33m\u001b[1m┌ \u001b[22m\u001b[39m\u001b[33m\u001b[1mWarning: \u001b[22m\u001b[39mReplacing docs for `SciMLOperators.AbstractSciMLOperator :: Union{}` in module `SciMLOperators`\n",
      "\u001b[33m\u001b[1m└ \u001b[22m\u001b[39m\u001b[90m@ Base.Docs docs/Docs.jl:240\u001b[39m\n",
      "\u001b[33m\u001b[1m┌ \u001b[22m\u001b[39m\u001b[33m\u001b[1mWarning: \u001b[22m\u001b[39mReplacing docs for `SciMLBase.sol :: Union{Tuple, Tuple{D}, Tuple{S}, Tuple{N}, Tuple{T}} where {T, N, S, D}` in module `SciMLBase`\n",
      "\u001b[33m\u001b[1m└ \u001b[22m\u001b[39m\u001b[90m@ Base.Docs docs/Docs.jl:240\u001b[39m\n"
     ]
    }
   ],
   "source": [
    "using Symbolics\n",
    "using LinearAlgebra\n",
    "import ForwardDiff as FD"
   ]
  },
  {
   "cell_type": "code",
   "execution_count": 7,
   "id": "7a9c57c8-4692-4914-8277-1ddb220b66f8",
   "metadata": {},
   "outputs": [
    {
     "data": {
      "text/latex": [
       "$$ \\begin{equation}\n",
       "2.1245936804851847e-18\n",
       "\\end{equation}\n",
       " $$"
      ],
      "text/plain": [
       "2.1245936804851847e-18"
      ]
     },
     "metadata": {},
     "output_type": "display_data"
    }
   ],
   "source": [
    "# ====================\n",
    "# Explicit model params (working)\n",
    "# State: x, y, theta\n",
    "# Input: v, delta\n",
    "# ====================\n",
    "@variables x[1:3] u[1:2] \n",
    "x = collect(x); u = collect(u)\n",
    "x0 = [19.4; 19.5; 0.676]; \n",
    "u0 = [-1.35; -0.0615]\n",
    "# Dubins car\n",
    "function dynamics(x, u)\n",
    "    v = u[1]  # velocity\n",
    "    δ = u[2]  # steering angle  \n",
    "\n",
    "    θ = x[3]  # yaw\n",
    "\n",
    "    c = cos(θ)\n",
    "    s = sin(θ)\n",
    "\n",
    "    ẋ = v*c\n",
    "    ẏ = v*s\n",
    "    θ̇ = v*tan(δ)\n",
    "    return [ẋ, ẏ, θ̇]\n",
    "end\n",
    "function rk4(x, u)\n",
    "    dt = 0.1\n",
    "    k1 = dt*dynamics(x, u)\n",
    "    k2 = dt*dynamics(x + k1/2, u)\n",
    "    k3 = dt*dynamics(x + k2/2, u)\n",
    "    k4 = dt*dynamics(x + k3, u)\n",
    "    x + (1/6)*(k1 + 2*k2 + 2*k3 + k4)\n",
    "end\n",
    "function midpoint(x, u)\n",
    "    dt = 0.1\n",
    "    k1 = dt*dynamics(x, u)\n",
    "    k2 = dt*dynamics(x + k1/2, u)\n",
    "    x += k2\n",
    "end\n",
    "\n",
    "sym_jac_A = Symbolics.jacobian(rk4(x, u), x)\n",
    "sym_jac_B = Symbolics.jacobian(rk4(x, u), u)\n",
    "# Sub value to validate with ForwardDiff\n",
    "sub_dict = Dict()\n",
    "[sub_dict[x] = y for (x,y) in zip([x; u], [x0; u0])]\n",
    "val_jac_A = substitute.(sym_jac_A, (sub_dict,))\n",
    "val_jac_B = substitute.(sym_jac_B, (sub_dict,))\n",
    "fd_jac_A = FD.jacobian(_x->rk4(_x, u0), x0)\n",
    "fd_jac_B = FD.jacobian(_u->rk4(x0, _u), u0)\n",
    "display(norm(fd_jac_A - val_jac_A) + norm(fd_jac_B - val_jac_B))\n",
    "# display(val_jac_A)\n",
    "# display(val_jac_B)"
   ]
  },
  {
   "cell_type": "code",
   "execution_count": 8,
   "id": "6c628217-15ae-4837-970c-71178b07b875",
   "metadata": {},
   "outputs": [],
   "source": [
    "# ====================\n",
    "# Generate C code for jacobians\n",
    "# ====================\n",
    "fA = build_function(sym_jac_A, x, u; target=Symbolics.CTarget(), \n",
    "    fname = :tiny_Bicycle3dGetJacobianA_Raw, lhsname=:A, rhsnames=[Symbol(\"x\"), Symbol(\"u\")]);\n",
    "\n",
    "open(\"functionA.txt\",\"a\") do io\n",
    "        println(io, fA)\n",
    "end\n",
    "\n",
    "fB = build_function(sym_jac_B, x, u; target=Symbolics.CTarget(), \n",
    "    fname = :tiny_Bicycle3dGetJacobianB_Raw, lhsname=:B, rhsnames=[Symbol(\"x\"), Symbol(\"u\")]);\n",
    "\n",
    "open(\"functionB.txt\",\"a\") do io\n",
    "        println(io, fB)\n",
    "end"
   ]
  },
  {
   "cell_type": "code",
   "execution_count": null,
   "id": "e070ad32-8f19-40e3-99ac-ae4abf9c7423",
   "metadata": {},
   "outputs": [],
   "source": [
    "# ====================\n",
    "# Generate C code for dynamics\n",
    "# ====================\n",
    "dynamics_rk4 = rk4(x ,u)\n",
    "dynamics_rk4 = build_function(dynamics_rk4, x, u; target=Symbolics.CTarget(), \n",
    "    fname = :tiny_Bicycle3dNonlinearDynamics_Raw, lhsname=:xn, rhsnames=[Symbol(\"x\"), Symbol(\"u\")])\n",
    "open(\"dynamics_rk4.txt\",\"a\") do io\n",
    "        println(io, dynamics_rk4)\n",
    "end"
   ]
  },
  {
   "cell_type": "code",
   "execution_count": null,
   "id": "8da00896-0d2a-4c12-b81b-5bb59ab6dc2f",
   "metadata": {
    "jupyter": {
     "source_hidden": true
    },
    "tags": []
   },
   "outputs": [],
   "source": [
    "# ====================\n",
    "# Symbolic model params\n",
    "# not working \n",
    "# ====================\n",
    "@variables g, m, ℓ, J\n",
    "model = (g=g, m=m, ℓ=ℓ, J=J)\n",
    "x = collect(x)\n",
    "u = collect(u)\n",
    "@variables x[1:6] u[1:2] \n",
    "\n",
    "# Planar Quadrotor Dynamics\n",
    "function dynamics(model, x, u)\n",
    "    θ = x[3]\n",
    "    ẍ = (1/model.m)*(u[1] + u[2])*sin(θ)\n",
    "    ÿ = (1/model.m)*(u[1] + u[2])*cos(θ) - model.g\n",
    "    θ̈ = (1/model.J)*(model.ℓ/2)*(u[2] - u[1])\n",
    "    \n",
    "    return [x[4:6]; ẍ; ÿ; θ̈]\n",
    "end\n",
    "function rk4(model, x, u)\n",
    "    dt = 0.1\n",
    "    k1 = dt*dynamics(model, x, u)\n",
    "    k2 = dt*dynamics(model, x + k1/2, u)\n",
    "    k3 = dt*dynamics(model, x + k2/2, u)\n",
    "    k4 = dt*dynamics(model, x + k3, u)\n",
    "    x + (1/6)*(k1 + 2*k2 + 2*k3 + k4) \n",
    "end\n",
    "# sym_jac_A = Symbolics.jacobian(dynamics(model, x, u), x)\n",
    "# sym_jac_B = Symbolics.jacobian(dynamics(model, x, u), u)\n",
    "sym_jac_A = Symbolics.jacobian(rk4(model, x, u), u)"
   ]
  },
  {
   "cell_type": "code",
   "execution_count": null,
   "id": "1fed6803-c61c-4cf3-a5a9-547f8915ba7a",
   "metadata": {
    "jupyter": {
     "source_hidden": true
    },
    "tags": []
   },
   "outputs": [
    {
     "data": {
      "text/plain": [
       "lqr_controller (generic function with 1 method)"
      ]
     },
     "execution_count": 5,
     "metadata": {},
     "output_type": "execute_result"
    }
   ],
   "source": [
    "function lqr_controller(t, x)\n",
    "    #LQR Hover Controller\n",
    "    A = FD.jacobian(_x->rk4(_x, u0), xref)\n",
    "    B = FD.jacobian(_u->rk4(x0, _u), uref)\n",
    "    K = dlqr(A,B,Q,R)\n",
    "    return u_hover - K*(x-xref)\n",
    "end"
   ]
  },
  {
   "cell_type": "code",
   "execution_count": null,
   "id": "b2abbdda-195c-47a5-8064-fd49318430bb",
   "metadata": {
    "jupyter": {
     "source_hidden": true
    },
    "tags": []
   },
   "outputs": [
    {
     "data": {
      "text/plain": [
       "closed_loop (generic function with 1 method)"
      ]
     },
     "execution_count": 6,
     "metadata": {},
     "output_type": "execute_result"
    }
   ],
   "source": [
    "function closed_loop(x0,controller,N)\n",
    "    xhist = zeros(length(x0),N)\n",
    "    u0 = controller(1,x0)\n",
    "    uhist = zeros(length(u0),N-1)\n",
    "    uhist[:,1] .= u0\n",
    "    xhist[:,1] .= x0\n",
    "    for k = 1:(N-1)\n",
    "        uk = controller(k,xhist[:,k], xref[k], uref[k])\n",
    "        uhist[:,k] = max.(min.(umax, uk), umin) #enforce control limits\n",
    "        xhist[:,k+1] .= rk4(xhist[:,k],uhist[:,k])\n",
    "    end\n",
    "    return xhist, uhist\n",
    "end"
   ]
  },
  {
   "cell_type": "code",
   "execution_count": null,
   "id": "cbebb3aa-c7b8-438c-8bc8-06aa0cc7a0a1",
   "metadata": {},
   "outputs": [
    {
     "data": {
      "text/plain": [
       "true"
      ]
     },
     "execution_count": 208,
     "metadata": {},
     "output_type": "execute_result"
    }
   ],
   "source": [
    "x = [[1,2,3,4],[5,6,7,8]]\n",
    "\n",
    "# Export a vector of vectors to C header and source \n",
    "function export_vec_to_c(filename, var_type, var_name, data)\n",
    "    declare = var_type * \" \" * var_name\n",
    "    def = declare * \" = {\\n\"\n",
    "    for i=1:length(x)\n",
    "        def = def * \"  \"\n",
    "        for j=1:length(x[1])\n",
    "            def = def * string(x[i][j])\n",
    "            if j < length(x[1]) \n",
    "                def = def * \",\"\n",
    "            end\n",
    "        end\n",
    "        if i < length(x)\n",
    "            def = def * \",\\n\"\n",
    "        end\n",
    "    end\n",
    "    def = def*\"}\"\n",
    "\n",
    "    open(filename*\".h\",\"a\") do io\n",
    "            println(io, declare * \";\\n\")\n",
    "    end\n",
    "    open(filename*\".c\",\"a\") do io\n",
    "            println(io, def * \";\\n\")\n",
    "    end\n",
    "    return true\n",
    "end\n",
    "export_vec_to_c(\"data\", \"sfloat\", \"X_ref_data\", x)"
   ]
  },
  {
   "cell_type": "code",
   "execution_count": null,
   "id": "c5f8ec05-35a9-4e7f-a5e2-a4aaf44725c0",
   "metadata": {},
   "outputs": [
    {
     "data": {
      "text/plain": [
       "eval_mask (generic function with 1 method)"
      ]
     },
     "execution_count": 163,
     "metadata": {},
     "output_type": "execute_result"
    }
   ],
   "source": [
    "function get_jacobians!(A, B, f, x0, u0)\n",
    "    @assert size(A) == (Nx, Nx)\n",
    "    @assert size(B) == (Nx, Nu)\n",
    "    @assert size(f) == (Nx,)\n",
    "    A .= FD.jacobian(_x->rk4(_x, u0), x0)\n",
    "    B .= FD.jacobian(_u->rk4(x0, _u), u0)\n",
    "    f .= rk4(x0, u0) - rk4(x0, u0)\n",
    "end\n",
    "function tiny_Riccati_LTV!(params, A::Matrix, B::Matrix, f::Vector, \n",
    "        get_jacobians::Function, X, U, K::Vector, d::Vector, P::Vector, p::Vector,μ,ρ)::Integer\n",
    "    \n",
    "    Q = params.Q; R = params.R; q = params.q; r = params.r; \n",
    "    xref = params.xref; uref = params.uref;\n",
    "    Nx = params.Nx; Nu = params.Nu; N = params.N\n",
    "    # Copy terminal cost-to-go\n",
    "    k = N\n",
    "    P[k] .= Q\n",
    "    p[k] .= q\n",
    "\n",
    "    # Sxx = zeros(n, n)\n",
    "    # Sxu = zeros(n, m)\n",
    "    # Sux = zeros(m, n)\n",
    "    # Suu = zeros(m, m)\n",
    "    # Sx = zeros(n, 1)\n",
    "    # Su = zeros(m, 1)\n",
    "\n",
    "    for k = N-1:-1:1 \n",
    "        # get_jacobians!(A, B, f, X[k], U[k])\n",
    "\n",
    "        Sx = q + A' * (P[k+1] * f + p[k+1])\n",
    "        Su = r + B' * (P[k+1] * f + p[k+1])\n",
    "        Sxx = Q + A'*P[k+1]*A\n",
    "        Suu = R + B'*P[k+1]*B\n",
    "        Sxu = P[k+1] * B                \n",
    "        Suu = R + B'*P[k+1]*B                         \n",
    "        Sux = B'*P[k+1]*A   \n",
    "        \n",
    "        # control constraints\n",
    "        huv = ineq_con_u(U[k])  # calculate h(u) constraint\n",
    "        mask = eval_mask(μ[k], huv)  # choose active\n",
    "        ∇hu = ineq_con_u_jac(U[k])\n",
    "        Su  += ∇hu'*(μ[k] + ρ*(mask * huv)) # add to cost\n",
    "        Suu += ρ*∇hu'*mask*∇hu\n",
    "        \n",
    "        d[k] .= Suu\\Su\n",
    "        K[k] .= Suu\\Sux\n",
    "\n",
    "        P[k] .= Sxx + K[k]'*Suu*K[k] + K[k]'*Sux + Sux'*K[k]\n",
    "        p[k] .= Sx + K[k]'*Suu*d[k] + K[k]'*Su + Sux'*d[k]\n",
    "    end\n",
    "    \n",
    "    return 0;\n",
    "end\n",
    "function tiny_RiccatiForwardPass_LTV!(params, A, B, f, get_jacobians::Function,\n",
    "                                    K::Vector, d::Vector, P::Vector, p::Vector, X::Vector, U::Vector) \n",
    "    N = params.N\n",
    "    for k=1:N-1\n",
    "        # get_jacobians!(A, B, f, X[k], U[k])\n",
    "        U[k] .= -K[k]*X[k] - d[k]\n",
    "        X[k+1] .= A*X[k] + B*U[k]\n",
    "    end\n",
    "  return 0\n",
    "end\n",
    "function tiny_AugmentedLagrange_LQR(params, A, B, f, get_jacobians, \n",
    "        K::Vector, d::Vector, P::Vector, p::Vector, X::Vector, U::Vector)\n",
    "    # first check the sizes of everything\n",
    "    @assert length(X) == params.N\n",
    "    @assert length(U) == params.N-1\n",
    "    @assert length(X[1]) == params.nx\n",
    "    @assert length(U[1]) == params.nu\n",
    "    @assert length(ineq_con_u(params,U[1])) == params.ncu  # no constraint control\n",
    "    @assert length(ineq_con_x(params,X[1])) == params.ncx  # no constraint state    \n",
    "function eval_mask(μv, huv)  \n",
    "    # Extract active inequality constraints\n",
    "    # active set mask\n",
    "    mask = Diagonal(zeros(length(huv)))\n",
    "    for i = 1:length(huv)\n",
    "        mask[i,i] = (μv[i] > 0 || huv[i] > 0)\n",
    "    end\n",
    "    mask\n",
    "end\n",
    "function ineq_con_u(p,u)\n",
    "    [u-p.u_max;-u + p.u_min]\n",
    "end\n",
    "function ineq_con_u_jac(params, u)\n",
    "    FD.jacobian(_u -> ineq_con_u(params,_u), u)\n",
    "end"
   ]
  },
  {
   "cell_type": "code",
   "execution_count": null,
   "id": "b42757ee-c6b0-4961-86b8-21510458b7d3",
   "metadata": {},
   "outputs": [],
   "source": [
    "using DelimitedFiles\n",
    "uref1 = readdlm(\"uref_data.txt\")\n",
    "uref1 = reshape(uref1, Nu, Nt-1)\n",
    "xref1 = readdlm(\"xref_data.txt\")\n",
    "xref1 = reshape(xref1, Nx, Nt)\n",
    "uref = [uref1[1:Nu, i] for i = 1:(Nt-1)]\n",
    "xref = [xref1[1:Nx, i] for i = 1:Nt];\n",
    "params = (\n",
    "    Nx = Nx,\n",
    "    Nu = Nu,\n",
    "    Nt = Nt,\n",
    "    N = Nh,\n",
    "    xref = xref,\n",
    "    uref = uref,\n",
    "    Q = Q,\n",
    "    R = R,\n",
    "    q = q,\n",
    "    r = r,\n",
    "    u_min = umin,\n",
    "    u_max = umax,\n",
    ");"
   ]
  },
  {
   "cell_type": "code",
   "execution_count": null,
   "id": "68ca25eb-885c-46ff-8ee8-455824183d9e",
   "metadata": {},
   "outputs": [],
   "source": [
    "dt = 0.1  \n",
    "h = dt\n",
    "Nx = 5     # number of state\n",
    "Nu = 2     # number of controls\n",
    "Tfinal = 10.0 # final time\n",
    "Nt = Int(Tfinal/h)+1    # number of time steps\n",
    "thist = Array(range(0,h*(Nt-1), step=h));\n",
    "    \n",
    "# Thrust limits\n",
    "umax = [2; 0.5]\n",
    "umin = -umax\n",
    "\n",
    "# Cost weights\n",
    "Q = Array(1.0*I(Nx)); \n",
    "q = zeros(Nx)\n",
    "R = Array(.01*I(Nu)); \n",
    "r = zeros(Nu)\n",
    "Qn = Array(1.0*I(Nx));\n",
    "\n",
    "A = zeros(Nx, Nx)\n",
    "B = zeros(Nx, Nu)\n",
    "f = zeros(Nx)\n",
    "\n",
    "x0 = [3; -1; 0; 1; 1]\n",
    "xf = [20.0; 20.0; pi/4; 0; 0]\n"
   ]
  },
  {
   "cell_type": "code",
   "execution_count": null,
   "id": "ef704ab7-eda2-472b-8154-4638f9e36288",
   "metadata": {},
   "outputs": [],
   "source": [
    "xhist = [zeros(Nx) for i=1:Nt]\n",
    "Phist = [zeros(Nx, Nx) for i=1:Nt]\n",
    "phist = [zeros(Nx) for i=1:Nt]\n",
    "uhist = [zeros(Nu) for i=1:Nt-1]\n",
    "Khist = [zeros(Nu, Nx) for i=1:Nt-1]\n",
    "dhist = [zeros(Nu) for i=1:Nt-1];\n",
    "xhist = tiny_AL_LQR(params,X,U,P,p,K,d,Xn,Un;atol=1e-1,max_iters = 3000,verbose = true,ρ = 1e0, ϕ = 10.0);"
   ]
  }
 ],
 "metadata": {
  "kernelspec": {
   "display_name": "Julia 1.6.7",
   "language": "julia",
   "name": "julia-1.6"
  },
  "language_info": {
   "file_extension": ".jl",
   "mimetype": "application/julia",
   "name": "julia",
   "version": "1.6.7"
  }
 },
 "nbformat": 4,
 "nbformat_minor": 5
}
