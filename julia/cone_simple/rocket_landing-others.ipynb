{
 "cells": [
  {
   "cell_type": "code",
   "execution_count": 1,
   "id": "6099cb4b-a2da-4b1b-ba0f-856484092fc4",
   "metadata": {},
   "outputs": [
    {
     "name": "stderr",
     "output_type": "stream",
     "text": [
      "\u001b[32m\u001b[1m  Activating\u001b[22m\u001b[39m environment at `~/SSD/Code/TinyMPC/julia/cone_simple/Project.toml`\n"
     ]
    }
   ],
   "source": [
    "using Pkg\n",
    "Pkg.activate(@__DIR__)\n",
    "Pkg.instantiate()\n",
    "\n",
    "using LinearAlgebra\n",
    "using Printf\n",
    "import ForwardDiff as FD\n",
    "using JuMP\n",
    "using COSMO\n",
    "using Random; "
   ]
  },
  {
   "cell_type": "code",
   "execution_count": 592,
   "id": "6179ca57-b5ff-4274-8391-85d5e728fc16",
   "metadata": {
    "tags": []
   },
   "outputs": [
    {
     "data": {
      "text/plain": [
       "mpc (generic function with 1 method)"
      ]
     },
     "execution_count": 592,
     "metadata": {},
     "output_type": "execute_result"
    }
   ],
   "source": [
    "# -------------------THIS IS ALL ALTRO-------------------------------\n",
    "# This enables goal equality constraints, state and input ineq constraints.\n",
    "\n",
    "function stage_cost(p::NamedTuple,x,u,k)\n",
    "    dx = x - p.Xref[k]\n",
    "    du = u - p.Uref[k]\n",
    "    return 0.5*dx'*p.Q*dx + 0.5*du'*p.R*du\n",
    "end\n",
    "function term_cost(p::NamedTuple,x)\n",
    "    dx = x - p.Xref[p.N]\n",
    "    return 0.5*dx'*p.Qf*dx\n",
    "end\n",
    "function stage_cost_expansion(p::NamedTuple,k)\n",
    "    dx = - p.Xref[k]\n",
    "    du = - p.Uref[k]\n",
    "    return p.Q, p.Q*dx, p.R, p.R*du  # Hessian and gradient\n",
    "end\n",
    "function term_cost_expansion(p::NamedTuple)\n",
    "    dx = - p.Xref[p.N]\n",
    "    return p.Qf, p.Qf*dx\n",
    "end\n",
    "function conic_cost_expansion(p::NamedTuple, u, λc, ρ, k)\n",
    "    λhat = λc # already updated\n",
    "    ∇c = cone_u_jac(p, u)\n",
    "    G = ∇c'*∇projection(λhat)*projection(λhat)\n",
    "    # H = ∇c'*∇projection(λhat)'*∇projection(λhat)*∇c/ρ\n",
    "    H = ∇c'*(∇projection(λhat)'*∇projection(λhat) + ∇²projection(λhat, projection(λhat)))*∇c*ρ\n",
    "    return (G - H*u), H\n",
    "end\n",
    "function backward_pass!(params,X,U,P,p,d,K,reg,μ,μx,ρ,λ,λc)\n",
    "    \"\"\"iLQR backward pass with AL. This !function update its parameters\n",
    "    \"\"\"\n",
    "    N = params.N\n",
    "    ΔJ = 0.0    # expected cost reduction\n",
    "\n",
    "    # terminal cost expansion\n",
    "    P[N], p[N] = term_cost_expansion(params) \n",
    "    \n",
    "    if (params.ncx > 0)\n",
    "        # # add AL terms for the state constraint at the final time step\n",
    "        hxv = ineq_con_x(params,X[N])  # h(x) violation  \n",
    "        mask = eval_mask(μx[N],hxv)\n",
    "        ∇hx = ineq_con_x_jac(params,X[N])\n",
    "        # add these into the cost-to-go p and P\n",
    "        p[N]  += ∇hx'*(μx[N] - ρ*(mask * [params.x_max;-params.x_min]))  # multiplier term (1st)\n",
    "        P[N]  += ρ*∇hx'*mask*∇hx                # penalty term (2nd)\n",
    "    end\n",
    "    \n",
    "    if (params.ncg > 0)\n",
    "        # add AL terms for goal constraint \n",
    "        ∇hx = diagm(ones(params.nx))\n",
    "        # add these into the CTG p and P (equality active)\n",
    "        p[N]  += ∇hx'*(λ - ρ*params.Xref[N])   \n",
    "        P[N]  += ρ*∇hx'∇hx\n",
    "    end\n",
    "    \n",
    "    # iterate from N-1 to 1 backwards\n",
    "    for k = (N-1):(-1):1\n",
    "        # dynamics jacobians (linearization about previous iterate)\n",
    "        A = FD.jacobian(_x -> discrete_dynamics(params,_x,U[k],k),X[k])\n",
    "        B = FD.jacobian(_u -> discrete_dynamics(params,X[k],_u,k),U[k])\n",
    "\n",
    "        Sxx,Sx,Suu,Su = stage_cost_expansion(params,k)\n",
    "        \n",
    "        # one-step cost expansion: Q, Q*dx, R, R*du\n",
    "        Sx += A' * (P[k+1]*f + p[k+1]) \n",
    "        Su += B' * (P[k+1]*f + p[k+1]) \n",
    "        Sxx += A'*(P[k+1])*A\n",
    "        Suu += B'*(P[k+1] + reg*I)*B                                     \n",
    "        Sux = B'*(P[k+1])*A  \n",
    "        if (params.ncu > 0)\n",
    "            # control constraints\n",
    "            huv = ineq_con_u(params,U[k])  # calculate h(u) constraint\n",
    "            mask = eval_mask(μ[k],huv)  # choose active\n",
    "            ∇hu = ineq_con_u_jac(params,U[k])\n",
    "            Su  += ∇hu'*(μ[k] - ρ*(mask * [params.u_max;-params.u_min])) # add to cost\n",
    "            Suu += ρ*∇hu'*mask*∇hu\n",
    "        end\n",
    "        if (params.ncx > 0)\n",
    "            # state constraints\n",
    "            hxv = ineq_con_x(params,X[k])\n",
    "            mask = eval_mask(μx[k],hxv)\n",
    "            ∇hx = ineq_con_x_jac(params,X[k])\n",
    "            Sx  += ∇hx'*(μx[k] - ρ*(mask * [params.x_max;-params.x_min]))\n",
    "            Sxx += ρ*∇hx'*mask*∇hx\n",
    "        end\n",
    "        if (params.ncu_cone > 0)\n",
    "            # conic constraints\n",
    "            Qu, Quu = conic_cost_expansion(params, U[k], λc[k], ρ/cone_scale, k)\n",
    "            # display(Quu)\n",
    "            Su += Qu\n",
    "            Suu += Quu\n",
    "        end\n",
    "        \n",
    "        # Calculate Gains\n",
    "        F = cholesky(Symmetric(Suu))\n",
    "        d[k] = F\\Su\n",
    "        K[k] = F\\Sux\n",
    "\n",
    "        # Cost-to-go Recurrence (PSD stabilizing version, last term)\n",
    "        P[k] = Sxx + K[k]'*Suu*K[k] - 2*K[k]'*Sux\n",
    "        p[k] = Sx + K[k]'*Suu*d[k] - K[k]'*Su - Sux'*d[k]\n",
    "        ΔJ += Su'*d[k]\n",
    "    end\n",
    "\n",
    "    return ΔJ  # but also change params\n",
    "end\n",
    "function forward_pass!(params,X,U,K,d,ΔJ,Xn,Un,μ,μx,ρ,λ; \n",
    "                        max_linesearch_iters = 20)\n",
    "    \"\"\"iLQR forward pass and line-search\n",
    "    This !function update its parameters\n",
    "    \"\"\"\n",
    "    N = params.N\n",
    "        # Forward Rollout\n",
    "        for k = 1:(N-1)\n",
    "            Un[k] = - d[k] - K[k]*Xn[k] \n",
    "            Xn[k+1] = discrete_dynamics(params,Xn[k],Un[k],k)\n",
    "        end\n",
    "    X .= Xn\n",
    "    U .= Un\n",
    "    return 0, 0\n",
    "end\n",
    "function eval_mask(μv,huv)  \n",
    "    # Extract active inequality constraints\n",
    "    # active set mask\n",
    "    mask = Diagonal(zeros(length(huv)))\n",
    "    for i = 1:length(huv)\n",
    "        mask[i,i] = (μv[i] > 0 || huv[i] > 0)\n",
    "    end\n",
    "    mask\n",
    "end\n",
    "function mpc(params,X,U,P,p,K,d,Xn,Un;atol=1e-3,max_iters = 250,verbose = true,ρ=1,ϕ=10)\n",
    "\n",
    "    # first check the sizes of everything\n",
    "    +/;# @assert length(X) == params.N\n",
    "    # @assert length(U) == params.N-1\n",
    "    # @assert length(X[1]) == params.nx\n",
    "    # @assert length(U[1]) == params.nu\n",
    "\n",
    "    # initial rollout\n",
    "    N = params.N\n",
    "    for i = 1:N-1\n",
    "        X[i+1] = discrete_dynamics(params,X[i],U[i],i)\n",
    "    end\n",
    "\n",
    "    reg_min = 1e-8\n",
    "    reg = reg_min\n",
    "\n",
    "    μ = [zeros(params.ncu) for i = 1:N-1]   # input constraints\n",
    "\n",
    "    μx = [zeros(params.ncx) for i = 1:N]    # state constraints\n",
    "\n",
    "    λ = zeros(params.nx)    # goal constraint\n",
    "\n",
    "    λc = [zeros(params.ncu_cone) for i = 1:N-1]   # goal constraint\n",
    "    \n",
    "    # Inner loop to solve unconstrained problem (Riccati)\n",
    "    for iter = 1:max_iters\n",
    "        \n",
    "        J = 0.0\n",
    "        ΔJ = 0.0\n",
    "        α = 1.0\n",
    "        for i = 1:1\n",
    "            ΔJ = backward_pass!(params,X,U,P,p,d,K,reg,μ,μx,ρ,λ,λc)\n",
    "            J, α = forward_pass!(params,X,U,K,d,ΔJ,Xn,Un,μ,μx,ρ,λ)\n",
    "        end\n",
    "\n",
    "        if verbose\n",
    "            if rem(iter-1,10)==0\n",
    "                @printf \"iter     J           ΔJ        |d|         α        reg         ρ\\n\"\n",
    "                @printf \"---------------------------------------------------------------------\\n\"\n",
    "            end\n",
    "            @printf(\"%3d   %10.3e  %9.2e  %9.2e  %6.4f   %9.2e   %9.2e\\n\",\n",
    "              iter, J, ΔJ, 0, α, reg, ρ)\n",
    "        end\n",
    "        # update multipliers and check constraint violation, max of all\n",
    "        convio = 0  \n",
    "        \n",
    "        if (params.ncu > 0)\n",
    "            # control constraints (inequality)\n",
    "            for k = 1:N-1\n",
    "                huv = ineq_con_u(params,U[k])\n",
    "                mask = eval_mask(μ[k],huv)\n",
    "                # update dual\n",
    "                convio = max(convio,norm(huv + abs.(huv),Inf))\n",
    "               μ[k] = max.(0,μ[k] - ρ*(mask * [params.u_8*[\\]\n",
    "        if (params.ncx > 0)\n",
    "            # state constraints (inequality)\n",
    "            for k = 1:N\n",
    "                hxv = ineq_con_x(params,X[k])\n",
    "                mask = eval_mask(μx[k],hxv)\n",
    "                # update dual\n",
    "                convio = max(convio,norm(hxv + abs.(hxv),Inf))\n",
    "                μx[k] = max.(0,μx[k] - ρ*(mask * [params.x_max;-params.x_min]))                \n",
    "            end\n",
    "        end\n",
    "        if (params.ncu_cone > 0)\n",
    "            # conic constraints \n",
    "            if verbose\n",
    "                print(\"update cone\\n\")\n",
    "            end            \n",
    "            for k = 1:N-1\n",
    "                # update dual\n",
    "                Uc = cone_u(params, U[k])\n",
    "                huc = norm(Uc[1:2]) - Uc[3]\n",
    "                convio = max(convio, norm(huc + abs.(huc),Inf))\n",
    "                λc[k] = projection(λc[k] + ρ*Uc/cone_scale)\n",
    "                # display(λc[k])\n",
    "            end\n",
    "        end\n",
    "        if (params.ncg > 0)\n",
    "            # goal constraint (equality)\n",
    "            hxv = X[N] - params.Xref[N]\n",
    "            λ .-= ρ*params.Xref[N]\n",
    "            convio = max(convio, norm(hxv,Inf))\n",
    "        end\n",
    "        \n",
    "        ρ *= ϕ  # update penalty\n",
    "        \n",
    "        if verbose\n",
    "            @show convio\n",
    "        end\n",
    "        if convio < atol  # if terminal condition with contraint violation\n",
    "            # print(\"Our solver says SUCCESS\\n\") # @info \"success!\"\n",
    "            return U[1]\n",
    "        end\n",
    "        if ρ > 1e8\n",
    "            print(\"Our solver reachs MAX PENALTY\\n\")\n",
    "            return U[1]\n",
    "        end\n",
    "    end\n",
    "    print(\"Our solver says INFEASIBLE and MAX ITER\\n\")\n",
    "    return U[1]\n",
    "end\n",
    "#----------------------ALTRO DONE --------------------------"
   ]
  },
  {
   "cell_type": "code",
   "execution_count": 415,
   "id": "ff9a97a1-b963-4f01-9223-eee0c5682b7d",
   "metadata": {
    "tags": []
   },
   "outputs": [
    {
     "data": {
      "text/plain": [
       "∇²projection (generic function with 1 method)"
      ]
     },
     "execution_count": 415,
     "metadata": {},
     "output_type": "execute_result"
    }
   ],
   "source": [
    "# =============================\n",
    "# Example problem formulation and solve\n",
    "# =============================\n",
    "\n",
    "# ---------------------THIS IS WHAT YOU NEED TO INPUT--------\n",
    "A = [1.0 0.0 0.0 0.05 0.0 0.0; \n",
    "    0.0 1.0 0.0 0.0 0.05 0.0; \n",
    "    0.0 0.0 1.0 0.0 0.0 0.05; \n",
    "    0.0 0.0 0.0 1.0 0.0 0.0; \n",
    "    0.0 0.0 0.0 0.0 1.0 0.0; \n",
    "    0.0 0.0 0.0 0.0 0.0 1.0]\n",
    "B = [0.000125 0.0 0.0; \n",
    "    0.0 0.000125 0.0;\n",
    "    0.0 0.0 0.000125; \n",
    "    0.005 0.0 0.0; \n",
    "    0.0 0.005 0.0; \n",
    "    0.0 0.0 0.005]\n",
    "f = [0.0, 0.0, -0.0122625, 0.0, 0.0, -0.4905]\n",
    "function discrete_dynamics(p::NamedTuple,x,u,k)\n",
    "    A = [1.0 0.0 0.0 0.05 0.0 0.0; \n",
    "        0.0 1.0 0.0 0.0 0.05 0.0; \n",
    "        0.0 0.0 1.0 0.0 0.0 0.05; \n",
    "        0.0 0.0 0.0 1.0 0.0 0.0; \n",
    "        0.0 0.0 0.0 0.0 1.0 0.0; \n",
    "        0.0 0.0 0.0 0.0 0.0 1.0]\n",
    "    B = [0.000125 0.0 0.0; \n",
    "        0.0 0.000125 0.0;\n",
    "        0.0 0.0 0.000125; \n",
    "        0.005 0.0 0.0; \n",
    "        0.0 0.005 0.0; \n",
    "        0.0 0.0 0.005]\n",
    "    f = [0.0, 0.0, -0.0122625, 0.0, 0.0, -0.4905]\n",
    "    return A*x + B*u + f\n",
    "end\n",
    "function ineq_con_x(p,x)\n",
    "    [x-p.x_max;-x + p.x_min]\n",
    "end\n",
    "function ineq_con_u(p,u)\n",
    "    [u-p.u_max;-u + p.u_min]\n",
    "end\n",
    "function cone_u(p, u)\n",
    "    [p.A_cone*u;p.c_cone'*u]\n",
    "end\n",
    "function cone_u_jac(p, u)\n",
    "    J = zeros(p.nu, p.nu)\n",
    "    J[1:end-1,1:end] .= p.A_cone\n",
    "    J[end,1:end] .= p.c_cone\n",
    "    return J\n",
    "end\n",
    "function ineq_con_u_jac(params,u)\n",
    "    FD.jacobian(_u -> ineq_con_u(params,_u), u)\n",
    "end\n",
    "function ineq_con_x_jac(p,x)\n",
    "    FD.jacobian(_x -> ineq_con_x(p,_x),x)\n",
    "end\n",
    "function projection(x)\n",
    "    n = length(x)\n",
    "    s = x[end]\n",
    "    v = view(x,1:n-1)\n",
    "    a = norm(v)\n",
    "    if a <= -s  # below the cone\n",
    "        return zero(x)\n",
    "    elseif a <= s  # in the code\n",
    "        return x\n",
    "    elseif a >= abs(s)  # outside the cone\n",
    "        return 0.5 * (1 + s/a) * [v; a] \n",
    "    end\n",
    "end\n",
    "function ∇projection(x)\n",
    "    n = length(x)\n",
    "    J = zeros(eltype(x),n,n)\n",
    "    s = x[end]\n",
    "    v = view(x,1:n-1)\n",
    "    a = norm(v)\n",
    "    if a <= -s\n",
    "        return J  # zeros\n",
    "    elseif a <= s\n",
    "        J .= I(n)  \n",
    "        return J  # identity\n",
    "    elseif a >= abs(s)\n",
    "        c = 0.5 * (1 + s/a)\n",
    "\n",
    "        # dvdv ok!\n",
    "        for i = 1:n-1, j = 1:n-1\n",
    "            J[i,j] = -0.5*s/a^3 * v[i] * v[j]\n",
    "            if i == j\n",
    "                J[i,j] += c\n",
    "            end\n",
    "        end\n",
    "\n",
    "        # dvds ok!\n",
    "        for i = 1:n-1\n",
    "            J[i,n] = 0.5 * v[i] / a\n",
    "        end\n",
    "\n",
    "        # dsdv ok!\n",
    "        for i = 1:n-1\n",
    "            J[n,i] = ((-0.5*s/a^2) + c/a) * v[i]\n",
    "        end\n",
    "        J[n,n] = 0.5  # ok\n",
    "        return J\n",
    "    else\n",
    "        error(\"Invalid second-order cone projection.\")\n",
    "    end\n",
    "    return J\n",
    "end\n",
    "function ∇²projection(x, b)\n",
    "    n = length(x)\n",
    "    hess = zeros(eltype(x),n,n)\n",
    "    v = view(x, 1:n)\n",
    "    bv = view(b, 1:n)\n",
    "\n",
    "    n = length(x)-1\n",
    "    # @assert size(hess) == (n+1,n+1)\n",
    "    s = x[end]\n",
    "    bs = b[end]\n",
    "    a =  norm(v)\n",
    "    vbv = dot(v,bv)\n",
    "\n",
    "    if a <= -s\n",
    "        return hess .= 0\n",
    "    elseif a <= s\n",
    "        return hess .= 0\n",
    "    elseif a > abs(s)\n",
    "        # Original equations from chain rule\n",
    "        # n = n + 1\n",
    "        # dvdv = -s/norm(v)^2/norm(v)*(I - (v*v')/(v'v))*bv*v' + \n",
    "        #     s/norm(v)*((v*(v'bv))/(v'v)^2 * 2v' - (I*(v'bv) + v*bv')/(v'v)) + \n",
    "        #     bs/norm(v)*(I - (v*v')/(v'v))\n",
    "        # dvds = 1/norm(v)*(I - (v*v')/(v'v))*bv;\n",
    "        # hess[1:n-1,1:n-1] .= dvdv*0.5\n",
    "        # hess[1:n-1,n] .= dvds*0.5\n",
    "        # hess[n:n,1:n-1] .= 0.5*dvds'\n",
    "        # hess[n,n] = 0\n",
    "        # return hess\n",
    "\n",
    "        # The following is just an unrolled version of the above\n",
    "        dvdv = view(hess, 1:n, 1:n)\n",
    "        dvds = view(hess, 1:n, n+1)\n",
    "        dsdv = view(hess, n+1, 1:n)\n",
    "        @inbounds for i = 1:n\n",
    "            hi = 0\n",
    "            @inbounds for j = 1:n\n",
    "                Hij = -v[i]*v[j] / a^2\n",
    "                if i == j\n",
    "                    Hij += 1\n",
    "                end\n",
    "                hi += Hij * bv[j]\n",
    "            end\n",
    "            dvds[i] = hi / 2a\n",
    "            dsdv[i] = dvds[i]\n",
    "            @inbounds for j = 1:i\n",
    "                vij = v[i] * v[j]\n",
    "                H1 = hi * v[j] * (-s/a^3)\n",
    "                H2 = vij * (2*vbv) / a^4 - v[i] * bv[j] / a^2\n",
    "                H3 = -vij / a^2\n",
    "                if i == j\n",
    "                    H2 -= vbv / a^2\n",
    "                    H3 += 1\n",
    "                end\n",
    "                H2 *= s/a\n",
    "                H3 *= bs/a\n",
    "                dvdv[i,j] = (H1 + H2 + H3) / 2\n",
    "                dvdv[j,i] = dvdv[i,j]\n",
    "            end\n",
    "        end\n",
    "        hess[end,end] = 0\n",
    "        return hess\n",
    "    else\n",
    "        throw(ErrorException(\"Invalid second-order cone projection\"))\n",
    "    end\n",
    "end"
   ]
  },
  {
   "cell_type": "code",
   "execution_count": 114,
   "id": "90e80e62-224c-4d2f-870b-53319635b810",
   "metadata": {},
   "outputs": [
    {
     "data": {
      "text/plain": [
       "3×3 Matrix{Float64}:\n",
       "  1.00908   -0.554993   0.227043\n",
       " -0.554993   0.305246  -0.124873\n",
       "  0.227043  -0.124873   0.0"
      ]
     },
     "execution_count": 114,
     "metadata": {},
     "output_type": "execute_result"
    }
   ],
   "source": [
    "∇²projection([1.1 2 0], [4.1 5 6])"
   ]
  },
  {
   "cell_type": "code",
   "execution_count": 598,
   "id": "f4edd7a6-7756-43ee-a37b-f91abdd18650",
   "metadata": {},
   "outputs": [
    {
     "name": "stdout",
     "output_type": "stream",
     "text": [
      "iter     J           ΔJ        |d|         α        reg         ρ\n",
      "---------------------------------------------------------------------\n",
      "  1    0.000e+00   3.56e+06   0.00e+00  0.0000    1.00e-08    1.00e+00\n",
      "update cone\n",
      "convio = 29.899759669898994\n",
      "  2    0.000e+00   3.60e+06   0.00e+00  0.0000    1.00e-08    1.00e+01\n",
      "update cone\n",
      "convio = 29.332808957455\n",
      "  3    0.000e+00   3.85e+06   0.00e+00  0.0000    1.00e-08    1.00e+02\n",
      "update cone\n",
      "convio = 25.184354202948654\n",
      "  4    0.000e+00   4.04e+06   0.00e+00  0.0000    1.00e-08    1.00e+03\n",
      "update cone\n",
      "convio = 11.769415514830488\n",
      "  5    0.000e+00   5.76e+06   0.00e+00  0.0000    1.00e-08    1.00e+04\n",
      "update cone\n",
      "convio = 2.2663427312107554\n",
      "  6    0.000e+00   2.75e+07   0.00e+00  0.0000    1.00e-08    1.00e+05\n",
      "update cone\n",
      "convio = 0.5614987664730072\n",
      "  7    0.000e+00   2.47e+08   0.00e+00  0.0000    1.00e-08    1.00e+06\n",
      "update cone\n",
      "convio = 0.5316092438866934\n",
      "  8    0.000e+00   2.44e+09   0.00e+00  0.0000    1.00e-08    1.00e+07\n",
      "update cone\n",
      "convio = 0.5092848340087224\n",
      "  9    0.000e+00   2.44e+10   0.00e+00  0.0000    1.00e-08    1.00e+08\n",
      "update cone\n",
      "convio = 0.49259897696085875\n",
      "Our solver reachs MAX PENALTY\n"
     ]
    },
    {
     "data": {
      "image/svg+xml": [
       "<?xml version=\"1.0\" encoding=\"utf-8\"?>\n",
       "<svg xmlns=\"http://www.w3.org/2000/svg\" xmlns:xlink=\"http://www.w3.org/1999/xlink\" width=\"600\" height=\"400\" viewBox=\"0 0 2400 1600\">\n",
       "<defs>\n",
       "  <clipPath id=\"clip240\">\n",
       "    <rect x=\"0\" y=\"0\" width=\"2400\" height=\"1600\"/>\n",
       "  </clipPath>\n",
       "</defs>\n",
       "<path clip-path=\"url(#clip240)\" d=\"M0 1600 L2400 1600 L2400 0 L0 0  Z\" fill=\"#ffffff\" fill-rule=\"evenodd\" fill-opacity=\"1\"/>\n",
       "<defs>\n",
       "  <clipPath id=\"clip241\">\n",
       "    <rect x=\"480\" y=\"0\" width=\"1681\" height=\"1600\"/>\n",
       "  </clipPath>\n",
       "</defs>\n",
       "<path clip-path=\"url(#clip240)\" d=\"M210.977 1423.18 L2352.76 1423.18 L2352.76 123.472 L210.977 123.472  Z\" fill=\"#ffffff\" fill-rule=\"evenodd\" fill-opacity=\"1\"/>\n",
       "<defs>\n",
       "  <clipPath id=\"clip242\">\n",
       "    <rect x=\"210\" y=\"123\" width=\"2143\" height=\"1301\"/>\n",
       "  </clipPath>\n",
       "</defs>\n",
       "<polyline clip-path=\"url(#clip242)\" style=\"stroke:#000000; stroke-linecap:round; stroke-linejoin:round; stroke-width:2; stroke-opacity:0.1; fill:none\" points=\"271.594,1423.18 271.594,123.472 \"/>\n",
       "<polyline clip-path=\"url(#clip242)\" style=\"stroke:#000000; stroke-linecap:round; stroke-linejoin:round; stroke-width:2; stroke-opacity:0.1; fill:none\" points=\"945.109,1423.18 945.109,123.472 \"/>\n",
       "<polyline clip-path=\"url(#clip242)\" style=\"stroke:#000000; stroke-linecap:round; stroke-linejoin:round; stroke-width:2; stroke-opacity:0.1; fill:none\" points=\"1618.62,1423.18 1618.62,123.472 \"/>\n",
       "<polyline clip-path=\"url(#clip242)\" style=\"stroke:#000000; stroke-linecap:round; stroke-linejoin:round; stroke-width:2; stroke-opacity:0.1; fill:none\" points=\"2292.14,1423.18 2292.14,123.472 \"/>\n",
       "<polyline clip-path=\"url(#clip240)\" style=\"stroke:#000000; stroke-linecap:round; stroke-linejoin:round; stroke-width:4; stroke-opacity:1; fill:none\" points=\"210.977,1423.18 2352.76,1423.18 \"/>\n",
       "<polyline clip-path=\"url(#clip240)\" style=\"stroke:#000000; stroke-linecap:round; stroke-linejoin:round; stroke-width:4; stroke-opacity:1; fill:none\" points=\"271.594,1423.18 271.594,1404.28 \"/>\n",
       "<polyline clip-path=\"url(#clip240)\" style=\"stroke:#000000; stroke-linecap:round; stroke-linejoin:round; stroke-width:4; stroke-opacity:1; fill:none\" points=\"945.109,1423.18 945.109,1404.28 \"/>\n",
       "<polyline clip-path=\"url(#clip240)\" style=\"stroke:#000000; stroke-linecap:round; stroke-linejoin:round; stroke-width:4; stroke-opacity:1; fill:none\" points=\"1618.62,1423.18 1618.62,1404.28 \"/>\n",
       "<polyline clip-path=\"url(#clip240)\" style=\"stroke:#000000; stroke-linecap:round; stroke-linejoin:round; stroke-width:4; stroke-opacity:1; fill:none\" points=\"2292.14,1423.18 2292.14,1404.28 \"/>\n",
       "<path clip-path=\"url(#clip240)\" d=\"M271.594 1454.1 Q267.983 1454.1 266.154 1457.66 Q264.348 1461.2 264.348 1468.33 Q264.348 1475.44 266.154 1479.01 Q267.983 1482.55 271.594 1482.55 Q275.228 1482.55 277.034 1479.01 Q278.862 1475.44 278.862 1468.33 Q278.862 1461.2 277.034 1457.66 Q275.228 1454.1 271.594 1454.1 M271.594 1450.39 Q277.404 1450.39 280.459 1455 Q283.538 1459.58 283.538 1468.33 Q283.538 1477.06 280.459 1481.67 Q277.404 1486.25 271.594 1486.25 Q265.784 1486.25 262.705 1481.67 Q259.649 1477.06 259.649 1468.33 Q259.649 1459.58 262.705 1455 Q265.784 1450.39 271.594 1450.39 Z\" fill=\"#000000\" fill-rule=\"evenodd\" fill-opacity=\"1\" /><path clip-path=\"url(#clip240)\" d=\"M935.387 1451.02 L953.743 1451.02 L953.743 1454.96 L939.669 1454.96 L939.669 1463.43 Q940.688 1463.08 941.706 1462.92 Q942.725 1462.73 943.743 1462.73 Q949.53 1462.73 952.91 1465.9 Q956.29 1469.08 956.29 1474.49 Q956.29 1480.07 952.817 1483.17 Q949.345 1486.25 943.026 1486.25 Q940.85 1486.25 938.581 1485.88 Q936.336 1485.51 933.929 1484.77 L933.929 1480.07 Q936.012 1481.2 938.234 1481.76 Q940.456 1482.32 942.933 1482.32 Q946.938 1482.32 949.276 1480.21 Q951.614 1478.1 951.614 1474.49 Q951.614 1470.88 949.276 1468.77 Q946.938 1466.67 942.933 1466.67 Q941.058 1466.67 939.183 1467.08 Q937.331 1467.5 935.387 1468.38 L935.387 1451.02 Z\" fill=\"#000000\" fill-rule=\"evenodd\" fill-opacity=\"1\" /><path clip-path=\"url(#clip240)\" d=\"M1593.31 1481.64 L1600.95 1481.64 L1600.95 1455.28 L1592.64 1456.95 L1592.64 1452.69 L1600.9 1451.02 L1605.58 1451.02 L1605.58 1481.64 L1613.22 1481.64 L1613.22 1485.58 L1593.31 1485.58 L1593.31 1481.64 Z\" fill=\"#000000\" fill-rule=\"evenodd\" fill-opacity=\"1\" /><path clip-path=\"url(#clip240)\" d=\"M1632.66 1454.1 Q1629.05 1454.1 1627.22 1457.66 Q1625.42 1461.2 1625.42 1468.33 Q1625.42 1475.44 1627.22 1479.01 Q1629.05 1482.55 1632.66 1482.55 Q1636.3 1482.55 1638.1 1479.01 Q1639.93 1475.44 1639.93 1468.33 Q1639.93 1461.2 1638.1 1457.66 Q1636.3 1454.1 1632.66 1454.1 M1632.66 1450.39 Q1638.47 1450.39 1641.53 1455 Q1644.61 1459.58 1644.61 1468.33 Q1644.61 1477.06 1641.53 1481.67 Q1638.47 1486.25 1632.66 1486.25 Q1626.85 1486.25 1623.77 1481.67 Q1620.72 1477.06 1620.72 1468.33 Q1620.72 1459.58 1623.77 1455 Q1626.85 1450.39 1632.66 1450.39 Z\" fill=\"#000000\" fill-rule=\"evenodd\" fill-opacity=\"1\" /><path clip-path=\"url(#clip240)\" d=\"M2267.32 1481.64 L2274.96 1481.64 L2274.96 1455.28 L2266.65 1456.95 L2266.65 1452.69 L2274.92 1451.02 L2279.59 1451.02 L2279.59 1481.64 L2287.23 1481.64 L2287.23 1485.58 L2267.32 1485.58 L2267.32 1481.64 Z\" fill=\"#000000\" fill-rule=\"evenodd\" fill-opacity=\"1\" /><path clip-path=\"url(#clip240)\" d=\"M2296.72 1451.02 L2315.08 1451.02 L2315.08 1454.96 L2301.01 1454.96 L2301.01 1463.43 Q2302.02 1463.08 2303.04 1462.92 Q2304.06 1462.73 2305.08 1462.73 Q2310.87 1462.73 2314.25 1465.9 Q2317.63 1469.08 2317.63 1474.49 Q2317.63 1480.07 2314.15 1483.17 Q2310.68 1486.25 2304.36 1486.25 Q2302.19 1486.25 2299.92 1485.88 Q2297.67 1485.51 2295.26 1484.77 L2295.26 1480.07 Q2297.35 1481.2 2299.57 1481.76 Q2301.79 1482.32 2304.27 1482.32 Q2308.27 1482.32 2310.61 1480.21 Q2312.95 1478.1 2312.95 1474.49 Q2312.95 1470.88 2310.61 1468.77 Q2308.27 1466.67 2304.27 1466.67 Q2302.39 1466.67 2300.52 1467.08 Q2298.67 1467.5 2296.72 1468.38 L2296.72 1451.02 Z\" fill=\"#000000\" fill-rule=\"evenodd\" fill-opacity=\"1\" /><path clip-path=\"url(#clip240)\" d=\"M1169.32 1522.27 L1169.32 1532.4 L1181.38 1532.4 L1181.38 1536.95 L1169.32 1536.95 L1169.32 1556.3 Q1169.32 1560.66 1170.5 1561.9 Q1171.71 1563.14 1175.37 1563.14 L1181.38 1563.14 L1181.38 1568.04 L1175.37 1568.04 Q1168.59 1568.04 1166.01 1565.53 Q1163.43 1562.98 1163.43 1556.3 L1163.43 1536.95 L1159.14 1536.95 L1159.14 1532.4 L1163.43 1532.4 L1163.43 1522.27 L1169.32 1522.27 Z\" fill=\"#000000\" fill-rule=\"evenodd\" fill-opacity=\"1\" /><path clip-path=\"url(#clip240)\" d=\"M1189.09 1532.4 L1194.94 1532.4 L1194.94 1568.04 L1189.09 1568.04 L1189.09 1532.4 M1189.09 1518.52 L1194.94 1518.52 L1194.94 1525.93 L1189.09 1525.93 L1189.09 1518.52 Z\" fill=\"#000000\" fill-rule=\"evenodd\" fill-opacity=\"1\" /><path clip-path=\"url(#clip240)\" d=\"M1234.95 1539.24 Q1237.15 1535.29 1240.2 1533.41 Q1243.26 1531.54 1247.4 1531.54 Q1252.97 1531.54 1255.99 1535.45 Q1259.01 1539.33 1259.01 1546.53 L1259.01 1568.04 L1253.13 1568.04 L1253.13 1546.72 Q1253.13 1541.59 1251.31 1539.11 Q1249.5 1536.63 1245.77 1536.63 Q1241.22 1536.63 1238.58 1539.65 Q1235.94 1542.68 1235.94 1547.9 L1235.94 1568.04 L1230.05 1568.04 L1230.05 1546.72 Q1230.05 1541.56 1228.24 1539.11 Q1226.42 1536.63 1222.63 1536.63 Q1218.15 1536.63 1215.5 1539.68 Q1212.86 1542.71 1212.86 1547.9 L1212.86 1568.04 L1206.97 1568.04 L1206.97 1532.4 L1212.86 1532.4 L1212.86 1537.93 Q1214.87 1534.66 1217.67 1533.1 Q1220.47 1531.54 1224.32 1531.54 Q1228.2 1531.54 1230.91 1533.51 Q1233.65 1535.48 1234.95 1539.24 Z\" fill=\"#000000\" fill-rule=\"evenodd\" fill-opacity=\"1\" /><path clip-path=\"url(#clip240)\" d=\"M1301.19 1548.76 L1301.19 1551.62 L1274.26 1551.62 Q1274.64 1557.67 1277.89 1560.85 Q1281.17 1564 1286.99 1564 Q1290.36 1564 1293.52 1563.17 Q1296.7 1562.35 1299.82 1560.69 L1299.82 1566.23 Q1296.67 1567.57 1293.36 1568.27 Q1290.05 1568.97 1286.64 1568.97 Q1278.11 1568.97 1273.11 1564 Q1268.15 1559.04 1268.15 1550.57 Q1268.15 1541.82 1272.86 1536.69 Q1277.6 1531.54 1285.62 1531.54 Q1292.82 1531.54 1296.99 1536.18 Q1301.19 1540.8 1301.19 1548.76 M1295.33 1547.04 Q1295.27 1542.23 1292.62 1539.37 Q1290.01 1536.5 1285.69 1536.5 Q1280.78 1536.5 1277.82 1539.27 Q1274.9 1542.04 1274.45 1547.07 L1295.33 1547.04 Z\" fill=\"#000000\" fill-rule=\"evenodd\" fill-opacity=\"1\" /><path clip-path=\"url(#clip240)\" d=\"M1345.59 1518.58 Q1341.32 1525.9 1339.25 1533.06 Q1337.18 1540.23 1337.18 1547.58 Q1337.18 1554.93 1339.25 1562.16 Q1341.35 1569.35 1345.59 1576.64 L1340.49 1576.64 Q1335.72 1569.16 1333.33 1561.93 Q1330.98 1554.71 1330.98 1547.58 Q1330.98 1540.48 1333.33 1533.29 Q1335.69 1526.09 1340.49 1518.58 L1345.59 1518.58 Z\" fill=\"#000000\" fill-rule=\"evenodd\" fill-opacity=\"1\" /><path clip-path=\"url(#clip240)\" d=\"M1379.68 1533.45 L1379.68 1538.98 Q1377.19 1537.71 1374.52 1537.07 Q1371.85 1536.44 1368.98 1536.44 Q1364.62 1536.44 1362.42 1537.77 Q1360.26 1539.11 1360.26 1541.79 Q1360.26 1543.82 1361.82 1545 Q1363.38 1546.15 1368.09 1547.2 L1370.1 1547.64 Q1376.33 1548.98 1378.94 1551.43 Q1381.59 1553.85 1381.59 1558.21 Q1381.59 1563.17 1377.64 1566.07 Q1373.72 1568.97 1366.85 1568.97 Q1363.98 1568.97 1360.87 1568.39 Q1357.78 1567.85 1354.34 1566.74 L1354.34 1560.69 Q1357.59 1562.38 1360.74 1563.24 Q1363.89 1564.07 1366.98 1564.07 Q1371.11 1564.07 1373.34 1562.66 Q1375.57 1561.23 1375.57 1558.65 Q1375.57 1556.27 1373.95 1554.99 Q1372.36 1553.72 1366.91 1552.54 L1364.88 1552.07 Q1359.43 1550.92 1357.01 1548.56 Q1354.59 1546.18 1354.59 1542.04 Q1354.59 1537.01 1358.16 1534.27 Q1361.72 1531.54 1368.28 1531.54 Q1371.53 1531.54 1374.39 1532.01 Q1377.26 1532.49 1379.68 1533.45 Z\" fill=\"#000000\" fill-rule=\"evenodd\" fill-opacity=\"1\" /><path clip-path=\"url(#clip240)\" d=\"M1389.99 1518.58 L1395.08 1518.58 Q1399.86 1526.09 1402.21 1533.29 Q1404.6 1540.48 1404.6 1547.58 Q1404.6 1554.71 1402.21 1561.93 Q1399.86 1569.16 1395.08 1576.64 L1389.99 1576.64 Q1394.22 1569.35 1396.29 1562.16 Q1398.39 1554.93 1398.39 1547.58 Q1398.39 1540.23 1396.29 1533.06 Q1394.22 1525.9 1389.99 1518.58 Z\" fill=\"#000000\" fill-rule=\"evenodd\" fill-opacity=\"1\" /><polyline clip-path=\"url(#clip242)\" style=\"stroke:#000000; stroke-linecap:round; stroke-linejoin:round; stroke-width:2; stroke-opacity:0.1; fill:none\" points=\"210.977,1386.4 2352.76,1386.4 \"/>\n",
       "<polyline clip-path=\"url(#clip242)\" style=\"stroke:#000000; stroke-linecap:round; stroke-linejoin:round; stroke-width:2; stroke-opacity:0.1; fill:none\" points=\"210.977,1141.17 2352.76,1141.17 \"/>\n",
       "<polyline clip-path=\"url(#clip242)\" style=\"stroke:#000000; stroke-linecap:round; stroke-linejoin:round; stroke-width:2; stroke-opacity:0.1; fill:none\" points=\"210.977,895.94 2352.76,895.94 \"/>\n",
       "<polyline clip-path=\"url(#clip242)\" style=\"stroke:#000000; stroke-linecap:round; stroke-linejoin:round; stroke-width:2; stroke-opacity:0.1; fill:none\" points=\"210.977,650.712 2352.76,650.712 \"/>\n",
       "<polyline clip-path=\"url(#clip242)\" style=\"stroke:#000000; stroke-linecap:round; stroke-linejoin:round; stroke-width:2; stroke-opacity:0.1; fill:none\" points=\"210.977,405.484 2352.76,405.484 \"/>\n",
       "<polyline clip-path=\"url(#clip242)\" style=\"stroke:#000000; stroke-linecap:round; stroke-linejoin:round; stroke-width:2; stroke-opacity:0.1; fill:none\" points=\"210.977,160.256 2352.76,160.256 \"/>\n",
       "<polyline clip-path=\"url(#clip240)\" style=\"stroke:#000000; stroke-linecap:round; stroke-linejoin:round; stroke-width:4; stroke-opacity:1; fill:none\" points=\"210.977,1423.18 210.977,123.472 \"/>\n",
       "<polyline clip-path=\"url(#clip240)\" style=\"stroke:#000000; stroke-linecap:round; stroke-linejoin:round; stroke-width:4; stroke-opacity:1; fill:none\" points=\"210.977,1386.4 229.875,1386.4 \"/>\n",
       "<polyline clip-path=\"url(#clip240)\" style=\"stroke:#000000; stroke-linecap:round; stroke-linejoin:round; stroke-width:4; stroke-opacity:1; fill:none\" points=\"210.977,1141.17 229.875,1141.17 \"/>\n",
       "<polyline clip-path=\"url(#clip240)\" style=\"stroke:#000000; stroke-linecap:round; stroke-linejoin:round; stroke-width:4; stroke-opacity:1; fill:none\" points=\"210.977,895.94 229.875,895.94 \"/>\n",
       "<polyline clip-path=\"url(#clip240)\" style=\"stroke:#000000; stroke-linecap:round; stroke-linejoin:round; stroke-width:4; stroke-opacity:1; fill:none\" points=\"210.977,650.712 229.875,650.712 \"/>\n",
       "<polyline clip-path=\"url(#clip240)\" style=\"stroke:#000000; stroke-linecap:round; stroke-linejoin:round; stroke-width:4; stroke-opacity:1; fill:none\" points=\"210.977,405.484 229.875,405.484 \"/>\n",
       "<polyline clip-path=\"url(#clip240)\" style=\"stroke:#000000; stroke-linecap:round; stroke-linejoin:round; stroke-width:4; stroke-opacity:1; fill:none\" points=\"210.977,160.256 229.875,160.256 \"/>\n",
       "<path clip-path=\"url(#clip240)\" d=\"M114.26 1386.85 L143.936 1386.85 L143.936 1390.78 L114.26 1390.78 L114.26 1386.85 Z\" fill=\"#000000\" fill-rule=\"evenodd\" fill-opacity=\"1\" /><path clip-path=\"url(#clip240)\" d=\"M154.075 1369.12 L172.431 1369.12 L172.431 1373.05 L158.357 1373.05 L158.357 1381.52 Q159.376 1381.18 160.394 1381.01 Q161.413 1380.83 162.431 1380.83 Q168.218 1380.83 171.598 1384 Q174.977 1387.17 174.977 1392.59 Q174.977 1398.17 171.505 1401.27 Q168.033 1404.35 161.714 1404.35 Q159.538 1404.35 157.269 1403.98 Q155.024 1403.61 152.616 1402.87 L152.616 1398.17 Q154.7 1399.3 156.922 1399.86 Q159.144 1400.41 161.621 1400.41 Q165.626 1400.41 167.964 1398.31 Q170.302 1396.2 170.302 1392.59 Q170.302 1388.98 167.964 1386.87 Q165.626 1384.76 161.621 1384.76 Q159.746 1384.76 157.871 1385.18 Q156.019 1385.6 154.075 1386.48 L154.075 1369.12 Z\" fill=\"#000000\" fill-rule=\"evenodd\" fill-opacity=\"1\" /><path clip-path=\"url(#clip240)\" d=\"M163.033 1126.97 Q159.422 1126.97 157.593 1130.53 Q155.788 1134.07 155.788 1141.2 Q155.788 1148.31 157.593 1151.87 Q159.422 1155.42 163.033 1155.42 Q166.667 1155.42 168.473 1151.87 Q170.302 1148.31 170.302 1141.2 Q170.302 1134.07 168.473 1130.53 Q166.667 1126.97 163.033 1126.97 M163.033 1123.26 Q168.843 1123.26 171.899 1127.87 Q174.977 1132.45 174.977 1141.2 Q174.977 1149.93 171.899 1154.54 Q168.843 1159.12 163.033 1159.12 Q157.223 1159.12 154.144 1154.54 Q151.089 1149.93 151.089 1141.2 Q151.089 1132.45 154.144 1127.87 Q157.223 1123.26 163.033 1123.26 Z\" fill=\"#000000\" fill-rule=\"evenodd\" fill-opacity=\"1\" /><path clip-path=\"url(#clip240)\" d=\"M154.075 878.66 L172.431 878.66 L172.431 882.595 L158.357 882.595 L158.357 891.067 Q159.376 890.72 160.394 890.558 Q161.413 890.373 162.431 890.373 Q168.218 890.373 171.598 893.544 Q174.977 896.715 174.977 902.132 Q174.977 907.711 171.505 910.813 Q168.033 913.891 161.714 913.891 Q159.538 913.891 157.269 913.521 Q155.024 913.15 152.616 912.41 L152.616 907.711 Q154.7 908.845 156.922 909.4 Q159.144 909.956 161.621 909.956 Q165.626 909.956 167.964 907.85 Q170.302 905.743 170.302 902.132 Q170.302 898.521 167.964 896.414 Q165.626 894.308 161.621 894.308 Q159.746 894.308 157.871 894.725 Q156.019 895.141 154.075 896.021 L154.075 878.66 Z\" fill=\"#000000\" fill-rule=\"evenodd\" fill-opacity=\"1\" /><path clip-path=\"url(#clip240)\" d=\"M123.681 664.057 L131.32 664.057 L131.32 637.691 L123.01 639.358 L123.01 635.099 L131.274 633.432 L135.95 633.432 L135.95 664.057 L143.589 664.057 L143.589 667.992 L123.681 667.992 L123.681 664.057 Z\" fill=\"#000000\" fill-rule=\"evenodd\" fill-opacity=\"1\" /><path clip-path=\"url(#clip240)\" d=\"M163.033 636.511 Q159.422 636.511 157.593 640.076 Q155.788 643.617 155.788 650.747 Q155.788 657.853 157.593 661.418 Q159.422 664.96 163.033 664.96 Q166.667 664.96 168.473 661.418 Q170.302 657.853 170.302 650.747 Q170.302 643.617 168.473 640.076 Q166.667 636.511 163.033 636.511 M163.033 632.807 Q168.843 632.807 171.899 637.414 Q174.977 641.997 174.977 650.747 Q174.977 659.474 171.899 664.08 Q168.843 668.663 163.033 668.663 Q157.223 668.663 154.144 664.08 Q151.089 659.474 151.089 650.747 Q151.089 641.997 154.144 637.414 Q157.223 632.807 163.033 632.807 Z\" fill=\"#000000\" fill-rule=\"evenodd\" fill-opacity=\"1\" /><path clip-path=\"url(#clip240)\" d=\"M124.677 418.829 L132.316 418.829 L132.316 392.463 L124.005 394.13 L124.005 389.871 L132.269 388.204 L136.945 388.204 L136.945 418.829 L144.584 418.829 L144.584 422.764 L124.677 422.764 L124.677 418.829 Z\" fill=\"#000000\" fill-rule=\"evenodd\" fill-opacity=\"1\" /><path clip-path=\"url(#clip240)\" d=\"M154.075 388.204 L172.431 388.204 L172.431 392.139 L158.357 392.139 L158.357 400.612 Q159.376 400.264 160.394 400.102 Q161.413 399.917 162.431 399.917 Q168.218 399.917 171.598 403.088 Q174.977 406.26 174.977 411.676 Q174.977 417.255 171.505 420.357 Q168.033 423.435 161.714 423.435 Q159.538 423.435 157.269 423.065 Q155.024 422.695 152.616 421.954 L152.616 417.255 Q154.7 418.389 156.922 418.945 Q159.144 419.5 161.621 419.5 Q165.626 419.5 167.964 417.394 Q170.302 415.287 170.302 411.676 Q170.302 408.065 167.964 405.959 Q165.626 403.852 161.621 403.852 Q159.746 403.852 157.871 404.269 Q156.019 404.686 154.075 405.565 L154.075 388.204 Z\" fill=\"#000000\" fill-rule=\"evenodd\" fill-opacity=\"1\" /><path clip-path=\"url(#clip240)\" d=\"M126.899 173.601 L143.218 173.601 L143.218 177.536 L121.274 177.536 L121.274 173.601 Q123.936 170.847 128.519 166.217 Q133.126 161.564 134.306 160.222 Q136.552 157.698 137.431 155.962 Q138.334 154.203 138.334 152.513 Q138.334 149.759 136.39 148.023 Q134.468 146.286 131.367 146.286 Q129.167 146.286 126.714 147.05 Q124.283 147.814 121.505 149.365 L121.505 144.643 Q124.33 143.509 126.783 142.93 Q129.237 142.351 131.274 142.351 Q136.644 142.351 139.839 145.036 Q143.033 147.722 143.033 152.212 Q143.033 154.342 142.223 156.263 Q141.436 158.161 139.329 160.754 Q138.751 161.425 135.649 164.643 Q132.547 167.837 126.899 173.601 Z\" fill=\"#000000\" fill-rule=\"evenodd\" fill-opacity=\"1\" /><path clip-path=\"url(#clip240)\" d=\"M163.033 146.055 Q159.422 146.055 157.593 149.62 Q155.788 153.161 155.788 160.291 Q155.788 167.397 157.593 170.962 Q159.422 174.504 163.033 174.504 Q166.667 174.504 168.473 170.962 Q170.302 167.397 170.302 160.291 Q170.302 153.161 168.473 149.62 Q166.667 146.055 163.033 146.055 M163.033 142.351 Q168.843 142.351 171.899 146.958 Q174.977 151.541 174.977 160.291 Q174.977 169.018 171.899 173.624 Q168.843 178.208 163.033 178.208 Q157.223 178.208 154.144 173.624 Q151.089 169.018 151.089 160.291 Q151.089 151.541 154.144 146.958 Q157.223 142.351 163.033 142.351 Z\" fill=\"#000000\" fill-rule=\"evenodd\" fill-opacity=\"1\" /><path clip-path=\"url(#clip240)\" d=\"M28.3562 756.711 L45.7028 769.602 L64.0042 756.043 L64.0042 762.95 L49.9996 773.326 L64.0042 783.702 L64.0042 790.609 L45.3526 776.763 L28.3562 789.431 L28.3562 782.524 L41.0558 773.071 L28.3562 763.618 L28.3562 756.711 Z\" fill=\"#000000\" fill-rule=\"evenodd\" fill-opacity=\"1\" /><path clip-path=\"url(#clip240)\" d=\"M1054.21 14.0809 L1054.21 22.0612 Q1049.55 19.8332 1045.42 18.7395 Q1041.28 17.6457 1037.44 17.6457 Q1030.75 17.6457 1027.11 20.2383 Q1023.5 22.8309 1023.5 27.611 Q1023.5 31.6214 1025.89 33.6873 Q1028.32 35.7128 1035.05 36.9686 L1039.99 37.9813 Q1049.14 39.7232 1053.48 44.1387 Q1057.85 48.5136 1057.85 55.8863 Q1057.85 64.6767 1051.94 69.2137 Q1046.06 73.7508 1034.68 73.7508 Q1030.39 73.7508 1025.53 72.7785 Q1020.7 71.8063 1015.52 69.9024 L1015.52 61.4765 Q1020.5 64.2716 1025.28 65.6895 Q1030.06 67.1073 1034.68 67.1073 Q1041.69 67.1073 1045.5 64.3527 Q1049.3 61.598 1049.3 56.4939 Q1049.3 52.0379 1046.55 49.5264 Q1043.84 47.0148 1037.6 45.759 L1032.61 44.7868 Q1023.46 42.9639 1019.37 39.075 Q1015.28 35.1862 1015.28 28.2591 Q1015.28 20.2383 1020.91 15.6203 Q1026.58 11.0023 1036.5 11.0023 Q1040.76 11.0023 1045.17 11.7719 Q1049.59 12.5416 1054.21 14.0809 Z\" fill=\"#000000\" fill-rule=\"evenodd\" fill-opacity=\"1\" /><path clip-path=\"url(#clip240)\" d=\"M1077.66 14.324 L1077.66 27.2059 L1093.01 27.2059 L1093.01 32.9987 L1077.66 32.9987 L1077.66 57.6282 Q1077.66 63.1779 1079.16 64.7578 Q1080.7 66.3376 1085.36 66.3376 L1093.01 66.3376 L1093.01 72.576 L1085.36 72.576 Q1076.73 72.576 1073.45 69.3758 Q1070.17 66.1351 1070.17 57.6282 L1070.17 32.9987 L1064.7 32.9987 L1064.7 27.2059 L1070.17 27.2059 L1070.17 14.324 L1077.66 14.324 Z\" fill=\"#000000\" fill-rule=\"evenodd\" fill-opacity=\"1\" /><path clip-path=\"url(#clip240)\" d=\"M1123.44 49.7694 Q1114.4 49.7694 1110.92 51.8354 Q1107.43 53.9013 1107.43 58.8839 Q1107.43 62.8538 1110.03 65.2034 Q1112.66 67.5124 1117.16 67.5124 Q1123.35 67.5124 1127.08 63.1374 Q1130.85 58.7219 1130.85 51.4303 L1130.85 49.7694 L1123.44 49.7694 M1138.3 46.6907 L1138.3 72.576 L1130.85 72.576 L1130.85 65.6895 Q1128.3 69.8214 1124.49 71.8063 Q1120.68 73.7508 1115.17 73.7508 Q1108.2 73.7508 1104.07 69.8619 Q1099.98 65.9325 1099.98 59.3701 Q1099.98 51.7138 1105.09 47.825 Q1110.23 43.9361 1120.4 43.9361 L1130.85 43.9361 L1130.85 43.2069 Q1130.85 38.0623 1127.45 35.2672 Q1124.08 32.4315 1117.97 32.4315 Q1114.08 32.4315 1110.39 33.3632 Q1106.71 34.295 1103.3 36.1584 L1103.3 29.2718 Q1107.39 27.692 1111.24 26.9223 Q1115.09 26.1121 1118.74 26.1121 Q1128.58 26.1121 1133.44 31.2163 Q1138.3 36.3204 1138.3 46.6907 Z\" fill=\"#000000\" fill-rule=\"evenodd\" fill-opacity=\"1\" /><path clip-path=\"url(#clip240)\" d=\"M1161.03 14.324 L1161.03 27.2059 L1176.38 27.2059 L1176.38 32.9987 L1161.03 32.9987 L1161.03 57.6282 Q1161.03 63.1779 1162.53 64.7578 Q1164.07 66.3376 1168.72 66.3376 L1176.38 66.3376 L1176.38 72.576 L1168.72 72.576 Q1160.1 72.576 1156.82 69.3758 Q1153.53 66.1351 1153.53 57.6282 L1153.53 32.9987 L1148.07 32.9987 L1148.07 27.2059 L1153.53 27.2059 L1153.53 14.324 L1161.03 14.324 Z\" fill=\"#000000\" fill-rule=\"evenodd\" fill-opacity=\"1\" /><path clip-path=\"url(#clip240)\" d=\"M1224.99 48.0275 L1224.99 51.6733 L1190.72 51.6733 Q1191.21 59.3701 1195.34 63.421 Q1199.51 67.4314 1206.92 67.4314 Q1211.22 67.4314 1215.23 66.3781 Q1219.28 65.3249 1223.25 63.2184 L1223.25 70.267 Q1219.24 71.9684 1215.03 72.8596 Q1210.81 73.7508 1206.48 73.7508 Q1195.62 73.7508 1189.26 67.4314 Q1182.94 61.1119 1182.94 50.3365 Q1182.94 39.1965 1188.94 32.6746 Q1194.97 26.1121 1205.18 26.1121 Q1214.34 26.1121 1219.64 32.0264 Q1224.99 37.9003 1224.99 48.0275 M1217.54 45.84 Q1217.46 39.7232 1214.1 36.0774 Q1210.77 32.4315 1205.26 32.4315 Q1199.03 32.4315 1195.26 35.9558 Q1191.53 39.4801 1190.96 45.8805 L1217.54 45.84 Z\" fill=\"#000000\" fill-rule=\"evenodd\" fill-opacity=\"1\" /><path clip-path=\"url(#clip240)\" d=\"M1263.92 12.096 L1272.1 12.096 L1272.1 36.8875 L1301.84 36.8875 L1301.84 12.096 L1310.02 12.096 L1310.02 72.576 L1301.84 72.576 L1301.84 43.7741 L1272.1 43.7741 L1272.1 72.576 L1263.92 72.576 L1263.92 12.096 Z\" fill=\"#000000\" fill-rule=\"evenodd\" fill-opacity=\"1\" /><path clip-path=\"url(#clip240)\" d=\"M1325.98 27.2059 L1333.43 27.2059 L1333.43 72.576 L1325.98 72.576 L1325.98 27.2059 M1325.98 9.54393 L1333.43 9.54393 L1333.43 18.9825 L1325.98 18.9825 L1325.98 9.54393 Z\" fill=\"#000000\" fill-rule=\"evenodd\" fill-opacity=\"1\" /><path clip-path=\"url(#clip240)\" d=\"M1377.95 28.5427 L1377.95 35.5912 Q1374.79 33.9709 1371.39 33.1607 Q1367.99 32.3505 1364.34 32.3505 Q1358.79 32.3505 1356 34.0519 Q1353.24 35.7533 1353.24 39.156 Q1353.24 41.7486 1355.23 43.2475 Q1357.21 44.7058 1363.21 46.0426 L1365.76 46.6097 Q1373.7 48.3111 1377.02 51.4303 Q1380.38 54.509 1380.38 60.0587 Q1380.38 66.3781 1375.36 70.0644 Q1370.38 73.7508 1361.63 73.7508 Q1357.98 73.7508 1354.01 73.0216 Q1350.08 72.3329 1345.71 70.9151 L1345.71 63.2184 Q1349.84 65.3654 1353.85 66.4591 Q1357.86 67.5124 1361.79 67.5124 Q1367.06 67.5124 1369.89 65.73 Q1372.73 63.9071 1372.73 60.6258 Q1372.73 57.5877 1370.66 55.9673 Q1368.64 54.3469 1361.71 52.8481 L1359.12 52.2405 Q1352.19 50.7821 1349.11 47.7845 Q1346.03 44.7463 1346.03 39.4801 Q1346.03 33.0797 1350.57 29.5959 Q1355.11 26.1121 1363.45 26.1121 Q1367.58 26.1121 1371.23 26.7198 Q1374.88 27.3274 1377.95 28.5427 Z\" fill=\"#000000\" fill-rule=\"evenodd\" fill-opacity=\"1\" /><path clip-path=\"url(#clip240)\" d=\"M1399.63 14.324 L1399.63 27.2059 L1414.98 27.2059 L1414.98 32.9987 L1399.63 32.9987 L1399.63 57.6282 Q1399.63 63.1779 1401.13 64.7578 Q1402.66 66.3376 1407.32 66.3376 L1414.98 66.3376 L1414.98 72.576 L1407.32 72.576 Q1398.69 72.576 1395.41 69.3758 Q1392.13 66.1351 1392.13 57.6282 L1392.13 32.9987 L1386.66 32.9987 L1386.66 27.2059 L1392.13 27.2059 L1392.13 14.324 L1399.63 14.324 Z\" fill=\"#000000\" fill-rule=\"evenodd\" fill-opacity=\"1\" /><path clip-path=\"url(#clip240)\" d=\"M1442.36 32.4315 Q1436.37 32.4315 1432.88 37.1306 Q1429.4 41.7891 1429.4 49.9314 Q1429.4 58.0738 1432.84 62.7728 Q1436.33 67.4314 1442.36 67.4314 Q1448.32 67.4314 1451.8 62.7323 Q1455.29 58.0333 1455.29 49.9314 Q1455.29 41.8701 1451.8 37.1711 Q1448.32 32.4315 1442.36 32.4315 M1442.36 26.1121 Q1452.09 26.1121 1457.64 32.4315 Q1463.19 38.7509 1463.19 49.9314 Q1463.19 61.0714 1457.64 67.4314 Q1452.09 73.7508 1442.36 73.7508 Q1432.6 73.7508 1427.05 67.4314 Q1421.54 61.0714 1421.54 49.9314 Q1421.54 38.7509 1427.05 32.4315 Q1432.6 26.1121 1442.36 26.1121 Z\" fill=\"#000000\" fill-rule=\"evenodd\" fill-opacity=\"1\" /><path clip-path=\"url(#clip240)\" d=\"M1501.83 34.1734 Q1500.57 33.4443 1499.08 33.1202 Q1497.62 32.7556 1495.84 32.7556 Q1489.52 32.7556 1486.11 36.8875 Q1482.75 40.9789 1482.75 48.6757 L1482.75 72.576 L1475.26 72.576 L1475.26 27.2059 L1482.75 27.2059 L1482.75 34.2544 Q1485.1 30.1225 1488.87 28.1376 Q1492.64 26.1121 1498.02 26.1121 Q1498.79 26.1121 1499.72 26.2337 Q1500.66 26.3147 1501.79 26.5172 L1501.83 34.1734 Z\" fill=\"#000000\" fill-rule=\"evenodd\" fill-opacity=\"1\" /><path clip-path=\"url(#clip240)\" d=\"M1528.53 76.7889 Q1525.37 84.8907 1522.37 87.3618 Q1519.37 89.8329 1514.35 89.8329 L1508.39 89.8329 L1508.39 83.5945 L1512.77 83.5945 Q1515.85 83.5945 1517.55 82.1361 Q1519.25 80.6778 1521.32 75.2496 L1522.65 71.8468 L1504.3 27.2059 L1512.2 27.2059 L1526.38 62.6918 L1540.56 27.2059 L1548.46 27.2059 L1528.53 76.7889 Z\" fill=\"#000000\" fill-rule=\"evenodd\" fill-opacity=\"1\" /><polyline clip-path=\"url(#clip242)\" style=\"stroke:#009af9; stroke-linecap:round; stroke-linejoin:round; stroke-width:4; stroke-opacity:1; fill:none\" points=\"271.594,944.985 278.329,952.301 285.064,959.535 291.799,966.687 298.534,973.758 305.27,980.749 312.005,987.658 318.74,994.488 325.475,1001.24 332.21,1007.91 338.945,1014.5 345.68,1021.02 352.416,1027.45 359.151,1033.81 365.886,1040.09 372.621,1046.29 379.356,1052.42 386.091,1058.47 392.827,1064.45 399.562,1070.35 406.297,1076.18 413.032,1081.93 419.767,1087.6 426.502,1093.21 433.237,1098.74 439.973,1104.2 446.708,1109.58 453.443,1114.89 460.178,1120.14 466.913,1125.31 473.648,1130.41 480.384,1135.43 487.119,1140.39 493.854,1145.28 500.589,1150.1 507.324,1154.85 514.059,1159.54 520.794,1164.15 527.53,1168.7 534.265,1173.18 541,1177.59 547.735,1181.94 554.47,1186.22 561.205,1190.43 567.941,1194.58 574.676,1198.67 581.411,1202.69 588.146,1206.64 594.881,1210.54 601.616,1214.37 608.351,1218.13 615.087,1221.84 621.822,1225.48 628.557,1229.06 635.292,1232.58 642.027,1236.04 648.762,1239.44 655.497,1242.77 662.233,1246.05 668.968,1249.27 675.703,1252.43 682.438,1255.53 689.173,1258.58 695.908,1261.56 702.644,1264.49 709.379,1267.36 716.114,1270.18 722.849,1272.94 729.584,1275.64 736.319,1278.29 743.054,1280.89 749.79,1283.43 756.525,1285.91 763.26,1288.34 769.995,1290.72 776.73,1293.05 783.465,1295.32 790.201,1297.54 796.936,1299.71 803.671,1301.83 810.406,1303.89 817.141,1305.91 823.876,1307.88 830.611,1309.79 837.347,1311.66 844.082,1313.48 850.817,1315.25 857.552,1316.97 864.287,1318.64 871.022,1320.27 877.758,1321.85 884.493,1323.38 891.228,1324.86 897.963,1326.3 904.698,1327.7 911.433,1329.05 918.168,1330.35 924.904,1331.61 931.639,1332.83 938.374,1334 945.109,1335.13 951.844,1336.22 958.579,1337.26 965.314,1338.26 972.05,1339.23 978.785,1340.14 985.52,1341.02 992.255,1341.86 998.99,1342.66 1005.73,1343.42 1012.46,1344.13 1019.2,1344.81 1025.93,1345.45 1032.67,1346.06 1039.4,1346.62 1046.14,1347.15 1052.87,1347.64 1059.61,1348.09 1066.34,1348.51 1073.08,1348.89 1079.81,1349.23 1086.55,1349.54 1093.28,1349.81 1100.02,1350.05 1106.75,1350.26 1113.49,1350.43 1120.22,1350.57 1126.96,1350.67 1133.69,1350.74 1140.43,1350.78 1147.16,1350.79 1153.9,1350.76 1160.63,1350.71 1167.37,1350.62 1174.1,1350.5 1180.84,1350.36 1187.57,1350.18 1194.31,1349.97 1201.04,1349.73 1207.78,1349.47 1214.52,1349.17 1221.25,1348.85 1227.99,1348.5 1234.72,1348.12 1241.46,1347.71 1248.19,1347.28 1254.93,1346.82 1261.66,1346.34 1268.4,1345.83 1275.13,1345.29 1281.87,1344.73 1288.6,1344.14 1295.34,1343.53 1302.07,1342.9 1308.81,1342.24 1315.54,1341.55 1322.28,1340.85 1329.01,1340.12 1335.75,1339.37 1342.48,1338.6 1349.22,1337.8 1355.95,1336.99 1362.69,1336.15 1369.42,1335.29 1376.16,1334.41 1382.89,1333.51 1389.63,1332.59 1396.36,1331.66 1403.1,1330.7 1409.83,1329.72 1416.57,1328.73 1423.3,1327.71 1430.04,1326.68 1436.78,1325.63 1443.51,1324.57 1450.25,1323.48 1456.98,1322.38 1463.72,1321.27 1470.45,1320.14 1477.19,1318.99 1483.92,1317.82 1490.66,1316.65 1497.39,1315.45 1504.13,1314.24 1510.86,1313.02 1517.6,1311.79 1524.33,1310.54 1531.07,1309.27 1537.8,1308 1544.54,1306.71 1551.27,1305.41 1558.01,1304.09 1564.74,1302.77 1571.48,1301.43 1578.21,1300.08 1584.95,1298.72 1591.68,1297.35 1598.42,1295.97 1605.15,1294.58 1611.89,1293.18 1618.62,1291.77 1625.36,1290.35 1632.09,1288.92 1638.83,1287.49 1645.56,1286.04 1652.3,1284.59 1659.04,1283.13 1665.77,1281.66 1672.51,1280.18 1679.24,1278.7 1685.98,1277.21 1692.71,1275.72 1699.45,1274.21 1706.18,1272.71 1712.92,1271.19 1719.65,1269.67 1726.39,1268.15 1733.12,1266.62 1739.86,1265.09 1746.59,1263.55 1753.33,1262.01 1760.06,1260.46 1766.8,1258.92 1773.53,1257.36 1780.27,1255.81 1787,1254.25 1793.74,1252.69 1800.47,1251.13 1807.21,1249.57 1813.94,1248 1820.68,1246.43 1827.41,1244.86 1834.15,1243.3 1840.88,1241.73 1847.62,1240.16 1854.35,1238.59 1861.09,1237.02 1867.82,1235.45 1874.56,1233.88 1881.3,1232.31 1888.03,1230.74 1894.77,1229.18 1901.5,1227.61 1908.24,1226.05 1914.97,1224.49 1921.71,1222.93 1928.44,1221.38 1935.18,1219.82 1941.91,1218.27 1948.65,1216.73 1955.38,1215.18 1962.12,1213.64 1968.85,1212.11 1975.59,1210.58 1982.32,1209.05 1989.06,1207.53 1995.79,1206.01 2002.53,1204.5 2009.26,1203 2016,1201.49 2022.73,1200 2029.47,1198.51 2036.2,1197.03 2042.94,1195.55 2049.67,1194.08 2056.41,1192.62 2063.14,1191.16 2069.88,1189.71 2076.61,1188.27 2083.35,1186.84 2090.08,1185.41 2096.82,1184 2103.56,1182.59 2110.29,1181.19 2117.03,1179.8 2123.76,1178.41 2130.5,1177.04 2137.23,1175.67 2143.97,1174.32 2150.7,1172.98 2157.44,1171.64 2164.17,1170.32 2170.91,1169 2177.64,1167.7 2184.38,1166.4 2191.11,1165.12 2197.85,1163.85 2204.58,1162.59 2211.32,1161.34 2218.05,1160.1 2224.79,1158.88 2231.52,1157.67 2238.26,1156.46 2244.99,1155.28 2251.73,1154.1 2258.46,1152.94 2265.2,1151.79 2271.93,1150.65 2278.67,1149.52 2285.4,1148.41 2292.14,1147.31 \"/>\n",
       "<polyline clip-path=\"url(#clip242)\" style=\"stroke:#e26f46; stroke-linecap:round; stroke-linejoin:round; stroke-width:4; stroke-opacity:1; fill:none\" points=\"271.594,1043.08 278.329,1038.21 285.064,1033.41 291.799,1028.68 298.534,1024.02 305.27,1019.43 312.005,1014.91 318.74,1010.45 325.475,1006.07 332.21,1001.75 338.945,997.496 345.68,993.311 352.416,989.192 359.151,985.139 365.886,981.151 372.621,977.228 379.356,973.369 386.091,969.575 392.827,965.844 399.562,962.177 406.297,958.572 413.032,955.03 419.767,951.55 426.502,948.131 433.237,944.774 439.973,941.478 446.708,938.242 453.443,935.066 460.178,931.95 466.913,928.893 473.648,925.894 480.384,922.954 487.119,920.073 493.854,917.248 500.589,914.481 507.324,911.771 514.059,909.118 520.794,906.52 527.53,903.978 534.265,901.491 541,899.059 547.735,896.681 554.47,894.358 561.205,892.088 567.941,889.871 574.676,887.707 581.411,885.596 588.146,883.537 594.881,881.529 601.616,879.573 608.351,877.668 615.087,875.813 621.822,874.009 628.557,872.254 635.292,870.548 642.027,868.892 648.762,867.284 655.497,865.725 662.233,864.213 668.968,862.749 675.703,861.331 682.438,859.961 689.173,858.637 695.908,857.358 702.644,856.126 709.379,854.938 716.114,853.796 722.849,852.698 729.584,851.643 736.319,850.633 743.054,849.666 749.79,848.742 756.525,847.86 763.26,847.021 769.995,846.223 776.73,845.467 783.465,844.753 790.201,844.078 796.936,843.445 803.671,842.851 810.406,842.297 817.141,841.782 823.876,841.306 830.611,840.869 837.347,840.47 844.082,840.109 850.817,839.785 857.552,839.499 864.287,839.249 871.022,839.036 877.758,838.858 884.493,838.717 891.228,838.611 897.963,838.54 904.698,838.503 911.433,838.501 918.168,838.533 924.904,838.599 931.639,838.698 938.374,838.829 945.109,838.994 951.844,839.19 958.579,839.419 965.314,839.679 972.05,839.971 978.785,840.293 985.52,840.646 992.255,841.029 998.99,841.442 1005.73,841.884 1012.46,842.356 1019.2,842.857 1025.93,843.386 1032.67,843.943 1039.4,844.529 1046.14,845.142 1052.87,845.782 1059.61,846.449 1066.34,847.142 1073.08,847.862 1079.81,848.608 1086.55,849.38 1093.28,850.177 1100.02,850.998 1106.75,851.845 1113.49,852.716 1120.22,853.611 1126.96,854.529 1133.69,855.471 1140.43,856.436 1147.16,857.424 1153.9,858.435 1160.63,859.467 1167.37,860.521 1174.1,861.597 1180.84,862.695 1187.57,863.813 1194.31,864.951 1201.04,866.11 1207.78,867.29 1214.52,868.488 1221.25,869.707 1227.99,870.944 1234.72,872.2 1241.46,873.475 1248.19,874.768 1254.93,876.079 1261.66,877.408 1268.4,878.754 1275.13,880.117 1281.87,881.497 1288.6,882.893 1295.34,884.305 1302.07,885.734 1308.81,887.178 1315.54,888.638 1322.28,890.112 1329.01,891.601 1335.75,893.105 1342.48,894.623 1349.22,896.155 1355.95,897.701 1362.69,899.26 1369.42,900.833 1376.16,902.418 1382.89,904.015 1389.63,905.625 1396.36,907.247 1403.1,908.881 1409.83,910.527 1416.57,912.183 1423.3,913.851 1430.04,915.529 1436.78,917.218 1443.51,918.916 1450.25,920.625 1456.98,922.344 1463.72,924.071 1470.45,925.808 1477.19,927.554 1483.92,929.309 1490.66,931.072 1497.39,932.842 1504.13,934.621 1510.86,936.408 1517.6,938.201 1524.33,940.002 1531.07,941.81 1537.8,943.624 1544.54,945.445 1551.27,947.272 1558.01,949.105 1564.74,950.943 1571.48,952.787 1578.21,954.636 1584.95,956.489 1591.68,958.348 1598.42,960.211 1605.15,962.078 1611.89,963.949 1618.62,965.823 1625.36,967.701 1632.09,969.583 1638.83,971.467 1645.56,973.355 1652.3,975.244 1659.04,977.136 1665.77,979.03 1672.51,980.926 1679.24,982.824 1685.98,984.723 1692.71,986.623 1699.45,988.525 1706.18,990.426 1712.92,992.329 1719.65,994.232 1726.39,996.134 1733.12,998.037 1739.86,999.939 1746.59,1001.84 1753.33,1003.74 1760.06,1005.64 1766.8,1007.54 1773.53,1009.44 1780.27,1011.33 1787,1013.23 1793.74,1015.12 1800.47,1017.01 1807.21,1018.89 1813.94,1020.78 1820.68,1022.66 1827.41,1024.54 1834.15,1026.41 1840.88,1028.28 1847.62,1030.15 1854.35,1032.01 1861.09,1033.87 1867.82,1035.73 1874.56,1037.58 1881.3,1039.42 1888.03,1041.26 1894.77,1043.1 1901.5,1044.93 1908.24,1046.75 1914.97,1048.57 1921.71,1050.38 1928.44,1052.19 1935.18,1053.99 1941.91,1055.78 1948.65,1057.57 1955.38,1059.35 1962.12,1061.12 1968.85,1062.89 1975.59,1064.65 1982.32,1066.4 1989.06,1068.14 1995.79,1069.88 2002.53,1071.6 2009.26,1073.32 2016,1075.03 2022.73,1076.73 2029.47,1078.42 2036.2,1080.11 2042.94,1081.78 2049.67,1083.45 2056.41,1085.1 2063.14,1086.74 2069.88,1088.38 2076.61,1090 2083.35,1091.62 2090.08,1093.22 2096.82,1094.82 2103.56,1096.4 2110.29,1097.97 2117.03,1099.53 2123.76,1101.08 2130.5,1102.61 2137.23,1104.14 2143.97,1105.65 2150.7,1107.16 2157.44,1108.65 2164.17,1110.12 2170.91,1111.59 2177.64,1113.04 2184.38,1114.48 2191.11,1115.91 2197.85,1117.32 2204.58,1118.72 2211.32,1120.11 2218.05,1121.48 2224.79,1122.84 2231.52,1124.19 2238.26,1125.52 2244.99,1126.84 2251.73,1128.14 2258.46,1129.43 2265.2,1130.71 2271.93,1131.97 2278.67,1133.21 2285.4,1134.44 2292.14,1135.66 \"/>\n",
       "<polyline clip-path=\"url(#clip242)\" style=\"stroke:#3da44d; stroke-linecap:round; stroke-linejoin:round; stroke-width:4; stroke-opacity:1; fill:none\" points=\"271.594,160.256 278.329,172.472 285.064,184.595 291.799,196.627 298.534,208.567 305.27,220.416 312.005,232.174 318.74,243.842 325.475,255.418 332.21,266.905 338.945,278.301 345.68,289.607 352.416,300.824 359.151,311.951 365.886,322.99 372.621,333.939 379.356,344.8 386.091,355.573 392.827,366.258 399.562,376.855 406.297,387.364 413.032,397.786 419.767,408.121 426.502,418.37 433.237,428.532 439.973,438.609 446.708,448.599 453.443,458.504 460.178,468.324 466.913,478.058 473.648,487.709 480.384,497.275 487.119,506.757 493.854,516.155 500.589,525.47 507.324,534.702 514.059,543.851 520.794,552.917 527.53,561.902 534.265,570.805 541,579.626 547.735,588.366 554.47,597.025 561.205,605.604 567.941,614.102 574.676,622.521 581.411,630.86 588.146,639.12 594.881,647.301 601.616,655.403 608.351,663.428 615.087,671.374 621.822,679.243 628.557,687.034 635.292,694.749 642.027,702.387 648.762,709.949 655.497,717.434 662.233,724.845 668.968,732.18 675.703,739.44 682.438,746.626 689.173,753.738 695.908,760.775 702.644,767.739 709.379,774.63 716.114,781.448 722.849,788.194 729.584,794.867 736.319,801.469 743.054,807.999 749.79,814.458 756.525,820.846 763.26,827.163 769.995,833.411 776.73,839.589 783.465,845.697 790.201,851.736 796.936,857.706 803.671,863.608 810.406,869.441 817.141,875.207 823.876,880.905 830.611,886.537 837.347,892.101 844.082,897.599 850.817,903.031 857.552,908.397 864.287,913.698 871.022,918.933 877.758,924.104 884.493,929.21 891.228,934.252 897.963,939.23 904.698,944.145 911.433,948.997 918.168,953.785 924.904,958.512 931.639,963.176 938.374,967.778 945.109,972.319 951.844,976.798 958.579,981.217 965.314,985.575 972.05,989.873 978.785,994.111 985.52,998.289 992.255,1002.41 998.99,1006.47 1005.73,1010.47 1012.46,1014.41 1019.2,1018.3 1025.93,1022.13 1032.67,1025.9 1039.4,1029.61 1046.14,1033.27 1052.87,1036.87 1059.61,1040.41 1066.34,1043.9 1073.08,1047.33 1079.81,1050.71 1086.55,1054.03 1093.28,1057.3 1100.02,1060.52 1106.75,1063.68 1113.49,1066.78 1120.22,1069.84 1126.96,1072.84 1133.69,1075.79 1140.43,1078.68 1147.16,1081.53 1153.9,1084.32 1160.63,1087.06 1167.37,1089.75 1174.1,1092.39 1180.84,1094.98 1187.57,1097.52 1194.31,1100.01 1201.04,1102.45 1207.78,1104.84 1214.52,1107.18 1221.25,1109.47 1227.99,1111.72 1234.72,1113.92 1241.46,1116.07 1248.19,1118.17 1254.93,1120.23 1261.66,1122.24 1268.4,1124.2 1275.13,1126.12 1281.87,1127.99 1288.6,1129.82 1295.34,1131.6 1302.07,1133.34 1308.81,1135.04 1315.54,1136.69 1322.28,1138.3 1329.01,1139.86 1335.75,1141.38 1342.48,1142.86 1349.22,1144.3 1355.95,1145.69 1362.69,1147.05 1369.42,1148.36 1376.16,1149.63 1382.89,1150.87 1389.63,1152.06 1396.36,1153.21 1403.1,1154.33 1409.83,1155.4 1416.57,1156.44 1423.3,1157.44 1430.04,1158.4 1436.78,1159.32 1443.51,1160.21 1450.25,1161.06 1456.98,1161.87 1463.72,1162.65 1470.45,1163.39 1477.19,1164.1 1483.92,1164.77 1490.66,1165.41 1497.39,1166.02 1504.13,1166.59 1510.86,1167.13 1517.6,1167.64 1524.33,1168.11 1531.07,1168.55 1537.8,1168.97 1544.54,1169.35 1551.27,1169.7 1558.01,1170.02 1564.74,1170.31 1571.48,1170.57 1578.21,1170.8 1584.95,1171 1591.68,1171.18 1598.42,1171.33 1605.15,1171.45 1611.89,1171.55 1618.62,1171.62 1625.36,1171.66 1632.09,1171.68 1638.83,1171.67 1645.56,1171.64 1652.3,1171.59 1659.04,1171.51 1665.77,1171.41 1672.51,1171.29 1679.24,1171.14 1685.98,1170.98 1692.71,1170.79 1699.45,1170.58 1706.18,1170.36 1712.92,1170.11 1719.65,1169.85 1726.39,1169.56 1733.12,1169.26 1739.86,1168.95 1746.59,1168.61 1753.33,1168.26 1760.06,1167.89 1766.8,1167.51 1773.53,1167.11 1780.27,1166.7 1787,1166.28 1793.74,1165.84 1800.47,1165.39 1807.21,1164.93 1813.94,1164.46 1820.68,1163.98 1827.41,1163.48 1834.15,1162.98 1840.88,1162.47 1847.62,1161.95 1854.35,1161.42 1861.09,1160.88 1867.82,1160.34 1874.56,1159.79 1881.3,1159.24 1888.03,1158.68 1894.77,1158.12 1901.5,1157.55 1908.24,1156.98 1914.97,1156.41 1921.71,1155.84 1928.44,1155.26 1935.18,1154.69 1941.91,1154.11 1948.65,1153.54 1955.38,1152.96 1962.12,1152.39 1968.85,1151.82 1975.59,1151.26 1982.32,1150.7 1989.06,1150.14 1995.79,1149.59 2002.53,1149.04 2009.26,1148.51 2016,1147.97 2022.73,1147.45 2029.47,1146.94 2036.2,1146.43 2042.94,1145.93 2049.67,1145.45 2056.41,1144.98 2063.14,1144.51 2069.88,1144.07 2076.61,1143.63 2083.35,1143.21 2090.08,1142.8 2096.82,1142.41 2103.56,1142.04 2110.29,1141.68 2117.03,1141.35 2123.76,1141.02 2130.5,1140.72 2137.23,1140.44 2143.97,1140.18 2150.7,1139.94 2157.44,1139.73 2164.17,1139.53 2170.91,1139.36 2177.64,1139.22 2184.38,1139.1 2191.11,1139 2197.85,1138.93 2204.58,1138.89 2211.32,1138.88 2218.05,1138.9 2224.79,1138.95 2231.52,1139.02 2238.26,1139.13 2244.99,1139.27 2251.73,1139.44 2258.46,1139.65 2265.2,1139.89 2271.93,1140.17 2278.67,1140.48 2285.4,1140.83 2292.14,1141.22 \"/>\n",
       "<polyline clip-path=\"url(#clip242)\" style=\"stroke:#c271d2; stroke-linecap:round; stroke-linejoin:round; stroke-width:4; stroke-opacity:1; fill:none\" stroke-dasharray=\"16, 10\" points=\"271.594,1288.3 278.329,1286.66 285.064,1285.03 291.799,1283.4 298.534,1281.78 305.27,1280.17 312.005,1278.56 318.74,1276.97 325.475,1275.38 332.21,1273.8 338.945,1272.23 345.68,1270.66 352.416,1269.1 359.151,1267.56 365.886,1266.02 372.621,1264.48 379.356,1262.96 386.091,1261.44 392.827,1259.93 399.562,1258.43 406.297,1256.94 413.032,1255.45 419.767,1253.98 426.502,1252.51 433.237,1251.05 439.973,1249.59 446.708,1248.15 453.443,1246.71 460.178,1245.28 466.913,1243.86 473.648,1242.45 480.384,1241.04 487.119,1239.65 493.854,1238.26 500.589,1236.88 507.324,1235.5 514.059,1234.14 520.794,1232.78 527.53,1231.43 534.265,1230.09 541,1228.76 547.735,1227.44 554.47,1226.12 561.205,1224.81 567.941,1223.51 574.676,1222.22 581.411,1220.93 588.146,1219.66 594.881,1218.39 601.616,1217.13 608.351,1215.87 615.087,1214.63 621.822,1213.39 628.557,1212.16 635.292,1210.94 642.027,1209.73 648.762,1208.53 655.497,1207.33 662.233,1206.14 668.968,1204.96 675.703,1203.79 682.438,1202.62 689.173,1201.47 695.908,1200.32 702.644,1199.18 709.379,1198.04 716.114,1196.92 722.849,1195.8 729.584,1194.69 736.319,1193.59 743.054,1192.5 749.79,1191.41 756.525,1190.33 763.26,1189.26 769.995,1188.2 776.73,1187.15 783.465,1186.1 790.201,1185.06 796.936,1184.03 803.671,1183.01 810.406,1182 817.141,1180.99 823.876,1179.99 830.611,1179 837.347,1178.02 844.082,1177.04 850.817,1176.07 857.552,1175.11 864.287,1174.16 871.022,1173.21 877.758,1172.28 884.493,1171.35 891.228,1170.43 897.963,1169.51 904.698,1168.61 911.433,1167.71 918.168,1166.82 924.904,1165.93 931.639,1165.06 938.374,1164.19 945.109,1163.33 951.844,1162.48 958.579,1161.63 965.314,1160.79 972.05,1159.96 978.785,1159.14 985.52,1158.33 992.255,1157.52 998.99,1156.72 1005.73,1155.93 1012.46,1155.14 1019.2,1154.36 1025.93,1153.59 1032.67,1152.83 1039.4,1152.08 1046.14,1151.33 1052.87,1150.59 1059.61,1149.86 1066.34,1149.13 1073.08,1148.41 1079.81,1147.7 1086.55,1147 1093.28,1146.3 1100.02,1145.61 1106.75,1144.93 1113.49,1144.25 1120.22,1143.59 1126.96,1142.93 1133.69,1142.27 1140.43,1141.63 1147.16,1140.99 1153.9,1140.36 1160.63,1139.73 1167.37,1139.12 1174.1,1138.5 1180.84,1137.9 1187.57,1137.31 1194.31,1136.72 1201.04,1136.13 1207.78,1135.56 1214.52,1134.99 1221.25,1134.43 1227.99,1133.87 1234.72,1133.33 1241.46,1132.79 1248.19,1132.25 1254.93,1131.73 1261.66,1131.21 1268.4,1130.69 1275.13,1130.19 1281.87,1129.69 1288.6,1129.19 1295.34,1128.71 1302.07,1128.23 1308.81,1127.76 1315.54,1127.29 1322.28,1126.83 1329.01,1126.38 1335.75,1125.93 1342.48,1125.49 1349.22,1125.06 1355.95,1124.63 1362.69,1124.21 1369.42,1123.8 1376.16,1123.39 1382.89,1122.99 1389.63,1122.6 1396.36,1122.21 1403.1,1121.83 1409.83,1121.45 1416.57,1121.08 1423.3,1120.72 1430.04,1120.37 1436.78,1120.02 1443.51,1119.67 1450.25,1119.34 1456.98,1119 1463.72,1118.68 1470.45,1118.36 1477.19,1118.05 1483.92,1117.74 1490.66,1117.44 1497.39,1117.15 1504.13,1116.86 1510.86,1116.58 1517.6,1116.3 1524.33,1116.03 1531.07,1115.77 1537.8,1115.51 1544.54,1115.26 1551.27,1115.01 1558.01,1114.78 1564.74,1114.54 1571.48,1114.31 1578.21,1114.09 1584.95,1113.87 1591.68,1113.66 1598.42,1113.46 1605.15,1113.26 1611.89,1113.07 1618.62,1112.88 1625.36,1112.7 1632.09,1112.52 1638.83,1112.35 1645.56,1112.19 1652.3,1112.03 1659.04,1111.87 1665.77,1111.72 1672.51,1111.58 1679.24,1111.45 1685.98,1111.31 1692.71,1111.19 1699.45,1111.07 1706.18,1110.95 1712.92,1110.84 1719.65,1110.74 1726.39,1110.64 1733.12,1110.55 1739.86,1110.46 1746.59,1110.38 1753.33,1110.3 1760.06,1110.23 1766.8,1110.16 1773.53,1110.1 1780.27,1110.04 1787,1109.99 1793.74,1109.95 1800.47,1109.91 1807.21,1109.87 1813.94,1109.84 1820.68,1109.81 1827.41,1109.79 1834.15,1109.78 1840.88,1109.77 1847.62,1109.76 1854.35,1109.76 1861.09,1109.77 1867.82,1109.78 1874.56,1109.79 1881.3,1109.81 1888.03,1109.84 1894.77,1109.87 1901.5,1109.9 1908.24,1109.94 1914.97,1109.98 1921.71,1110.03 1928.44,1110.09 1935.18,1110.15 1941.91,1110.21 1948.65,1110.28 1955.38,1110.35 1962.12,1110.43 1968.85,1110.51 1975.59,1110.59 1982.32,1110.68 1989.06,1110.78 1995.79,1110.88 2002.53,1110.98 2009.26,1111.09 2016,1111.21 2022.73,1111.32 2029.47,1111.45 2036.2,1111.57 2042.94,1111.7 2049.67,1111.84 2056.41,1111.98 2063.14,1112.12 2069.88,1112.27 2076.61,1112.42 2083.35,1112.58 2090.08,1112.74 2096.82,1112.9 2103.56,1113.07 2110.29,1113.25 2117.03,1113.42 2123.76,1113.6 2130.5,1113.79 2137.23,1113.98 2143.97,1114.17 2150.7,1114.37 2157.44,1114.57 2164.17,1114.77 2170.91,1114.98 2177.64,1115.19 2184.38,1115.41 2191.11,1115.63 2197.85,1115.85 2204.58,1116.08 2211.32,1116.31 2218.05,1116.54 2224.79,1116.78 2231.52,1117.02 2238.26,1117.27 2244.99,1117.52 2251.73,1117.77 2258.46,1118.02 2265.2,1118.28 2271.93,1118.54 2278.67,1118.81 2285.4,1119.07 2292.14,1119.34 \"/>\n",
       "<polyline clip-path=\"url(#clip242)\" style=\"stroke:#ac8d18; stroke-linecap:round; stroke-linejoin:round; stroke-width:4; stroke-opacity:1; fill:none\" stroke-dasharray=\"16, 10\" points=\"271.594,1043.08 278.329,1044.49 285.064,1045.89 291.799,1047.28 298.534,1048.67 305.27,1050.04 312.005,1051.41 318.74,1052.77 325.475,1054.12 332.21,1055.47 338.945,1056.8 345.68,1058.13 352.416,1059.45 359.151,1060.76 365.886,1062.06 372.621,1063.35 379.356,1064.64 386.091,1065.92 392.827,1067.19 399.562,1068.45 406.297,1069.7 413.032,1070.95 419.767,1072.18 426.502,1073.41 433.237,1074.63 439.973,1075.85 446.708,1077.05 453.443,1078.25 460.178,1079.44 466.913,1080.62 473.648,1081.79 480.384,1082.95 487.119,1084.11 493.854,1085.26 500.589,1086.4 507.324,1087.53 514.059,1088.66 520.794,1089.77 527.53,1090.88 534.265,1091.98 541,1093.07 547.735,1094.16 554.47,1095.24 561.205,1096.3 567.941,1097.37 574.676,1098.42 581.411,1099.47 588.146,1100.5 594.881,1101.53 601.616,1102.56 608.351,1103.57 615.087,1104.58 621.822,1105.58 628.557,1106.57 635.292,1107.55 642.027,1108.53 648.762,1109.5 655.497,1110.46 662.233,1111.41 668.968,1112.35 675.703,1113.29 682.438,1114.22 689.173,1115.15 695.908,1116.06 702.644,1116.97 709.379,1117.87 716.114,1118.76 722.849,1119.65 729.584,1120.52 736.319,1121.39 743.054,1122.26 749.79,1123.11 756.525,1123.96 763.26,1124.8 769.995,1125.63 776.73,1126.46 783.465,1127.28 790.201,1128.09 796.936,1128.9 803.671,1129.69 810.406,1130.48 817.141,1131.26 823.876,1132.04 830.611,1132.81 837.347,1133.57 844.082,1134.32 850.817,1135.07 857.552,1135.81 864.287,1136.54 871.022,1137.26 877.758,1137.98 884.493,1138.69 891.228,1139.4 897.963,1140.09 904.698,1140.78 911.433,1141.47 918.168,1142.14 924.904,1142.81 931.639,1143.48 938.374,1144.13 945.109,1144.78 951.844,1145.42 958.579,1146.06 965.314,1146.68 972.05,1147.31 978.785,1147.92 985.52,1148.53 992.255,1149.13 998.99,1149.72 1005.73,1150.31 1012.46,1150.89 1019.2,1151.47 1025.93,1152.04 1032.67,1152.6 1039.4,1153.15 1046.14,1153.7 1052.87,1154.24 1059.61,1154.78 1066.34,1155.31 1073.08,1155.83 1079.81,1156.34 1086.55,1156.85 1093.28,1157.36 1100.02,1157.85 1106.75,1158.34 1113.49,1158.83 1120.22,1159.3 1126.96,1159.78 1133.69,1160.24 1140.43,1160.7 1147.16,1161.15 1153.9,1161.6 1160.63,1162.04 1167.37,1162.47 1174.1,1162.9 1180.84,1163.32 1187.57,1163.74 1194.31,1164.15 1201.04,1164.55 1207.78,1164.95 1214.52,1165.34 1221.25,1165.73 1227.99,1166.11 1234.72,1166.48 1241.46,1166.85 1248.19,1167.21 1254.93,1167.57 1261.66,1167.92 1268.4,1168.26 1275.13,1168.6 1281.87,1168.93 1288.6,1169.26 1295.34,1169.58 1302.07,1169.9 1308.81,1170.21 1315.54,1170.51 1322.28,1170.81 1329.01,1171.1 1335.75,1171.39 1342.48,1171.67 1349.22,1171.95 1355.95,1172.22 1362.69,1172.48 1369.42,1172.74 1376.16,1173 1382.89,1173.25 1389.63,1173.49 1396.36,1173.73 1403.1,1173.96 1409.83,1174.19 1416.57,1174.41 1423.3,1174.63 1430.04,1174.84 1436.78,1175.04 1443.51,1175.25 1450.25,1175.44 1456.98,1175.63 1463.72,1175.82 1470.45,1176 1477.19,1176.17 1483.92,1176.34 1490.66,1176.51 1497.39,1176.67 1504.13,1176.82 1510.86,1176.97 1517.6,1177.12 1524.33,1177.26 1531.07,1177.39 1537.8,1177.52 1544.54,1177.64 1551.27,1177.76 1558.01,1177.88 1564.74,1177.99 1571.48,1178.09 1578.21,1178.2 1584.95,1178.29 1591.68,1178.38 1598.42,1178.47 1605.15,1178.55 1611.89,1178.63 1618.62,1178.7 1625.36,1178.76 1632.09,1178.83 1638.83,1178.89 1645.56,1178.94 1652.3,1178.99 1659.04,1179.03 1665.77,1179.07 1672.51,1179.11 1679.24,1179.14 1685.98,1179.16 1692.71,1179.18 1699.45,1179.2 1706.18,1179.21 1712.92,1179.22 1719.65,1179.22 1726.39,1179.22 1733.12,1179.22 1739.86,1179.21 1746.59,1179.19 1753.33,1179.18 1760.06,1179.15 1766.8,1179.13 1773.53,1179.09 1780.27,1179.06 1787,1179.02 1793.74,1178.98 1800.47,1178.93 1807.21,1178.88 1813.94,1178.82 1820.68,1178.76 1827.41,1178.69 1834.15,1178.62 1840.88,1178.55 1847.62,1178.47 1854.35,1178.39 1861.09,1178.31 1867.82,1178.22 1874.56,1178.13 1881.3,1178.03 1888.03,1177.93 1894.77,1177.82 1901.5,1177.71 1908.24,1177.6 1914.97,1177.48 1921.71,1177.36 1928.44,1177.24 1935.18,1177.11 1941.91,1176.98 1948.65,1176.84 1955.38,1176.7 1962.12,1176.56 1968.85,1176.41 1975.59,1176.26 1982.32,1176.1 1989.06,1175.95 1995.79,1175.78 2002.53,1175.62 2009.26,1175.45 2016,1175.27 2022.73,1175.1 2029.47,1174.92 2036.2,1174.73 2042.94,1174.55 2049.67,1174.36 2056.41,1174.16 2063.14,1173.96 2069.88,1173.76 2076.61,1173.56 2083.35,1173.35 2090.08,1173.14 2096.82,1172.92 2103.56,1172.7 2110.29,1172.48 2117.03,1172.26 2123.76,1172.03 2130.5,1171.8 2137.23,1171.56 2143.97,1171.33 2150.7,1171.08 2157.44,1170.84 2164.17,1170.59 2170.91,1170.34 2177.64,1170.09 2184.38,1169.83 2191.11,1169.57 2197.85,1169.31 2204.58,1169.04 2211.32,1168.77 2218.05,1168.5 2224.79,1168.23 2231.52,1167.95 2238.26,1167.67 2244.99,1167.39 2251.73,1167.1 2258.46,1166.81 2265.2,1166.52 2271.93,1166.23 2278.67,1165.93 2285.4,1165.63 2292.14,1165.33 \"/>\n",
       "<polyline clip-path=\"url(#clip242)\" style=\"stroke:#00a9ad; stroke-linecap:round; stroke-linejoin:round; stroke-width:4; stroke-opacity:1; fill:none\" stroke-dasharray=\"16, 10\" points=\"271.594,1386.4 278.329,1384.56 285.064,1382.72 291.799,1380.89 298.534,1379.06 305.27,1377.24 312.005,1375.42 318.74,1373.61 325.475,1371.8 332.21,1369.99 338.945,1368.19 345.68,1366.4 352.416,1364.61 359.151,1362.82 365.886,1361.05 372.621,1359.27 379.356,1357.5 386.091,1355.74 392.827,1353.98 399.562,1352.23 406.297,1350.48 413.032,1348.74 419.767,1347.01 426.502,1345.28 433.237,1343.55 439.973,1341.83 446.708,1340.12 453.443,1338.41 460.178,1336.71 466.913,1335.02 473.648,1333.33 480.384,1331.65 487.119,1329.97 493.854,1328.3 500.589,1326.63 507.324,1324.98 514.059,1323.32 520.794,1321.68 527.53,1320.04 534.265,1318.41 541,1316.78 547.735,1315.16 554.47,1313.55 561.205,1311.94 567.941,1310.34 574.676,1308.74 581.411,1307.16 588.146,1305.57 594.881,1304 601.616,1302.43 608.351,1300.87 615.087,1299.32 621.822,1297.77 628.557,1296.23 635.292,1294.69 642.027,1293.16 648.762,1291.64 655.497,1290.13 662.233,1288.62 668.968,1287.12 675.703,1285.63 682.438,1284.14 689.173,1282.66 695.908,1281.18 702.644,1279.72 709.379,1278.26 716.114,1276.8 722.849,1275.36 729.584,1273.92 736.319,1272.48 743.054,1271.06 749.79,1269.64 756.525,1268.22 763.26,1266.82 769.995,1265.42 776.73,1264.02 783.465,1262.64 790.201,1261.26 796.936,1259.89 803.671,1258.52 810.406,1257.16 817.141,1255.81 823.876,1254.46 830.611,1253.12 837.347,1251.79 844.082,1250.46 850.817,1249.15 857.552,1247.83 864.287,1246.53 871.022,1245.23 877.758,1243.93 884.493,1242.65 891.228,1241.37 897.963,1240.1 904.698,1238.83 911.433,1237.57 918.168,1236.32 924.904,1235.07 931.639,1233.83 938.374,1232.6 945.109,1231.37 951.844,1230.15 958.579,1228.93 965.314,1227.73 972.05,1226.52 978.785,1225.33 985.52,1224.14 992.255,1222.96 998.99,1221.78 1005.73,1220.61 1012.46,1219.45 1019.2,1218.3 1025.93,1217.15 1032.67,1216 1039.4,1214.86 1046.14,1213.73 1052.87,1212.61 1059.61,1211.49 1066.34,1210.38 1073.08,1209.27 1079.81,1208.17 1086.55,1207.08 1093.28,1205.99 1100.02,1204.91 1106.75,1203.84 1113.49,1202.77 1120.22,1201.71 1126.96,1200.66 1133.69,1199.61 1140.43,1198.57 1147.16,1197.53 1153.9,1196.5 1160.63,1195.48 1167.37,1194.46 1174.1,1193.45 1180.84,1192.45 1187.57,1191.45 1194.31,1190.46 1201.04,1189.48 1207.78,1188.5 1214.52,1187.53 1221.25,1186.56 1227.99,1185.6 1234.72,1184.65 1241.46,1183.71 1248.19,1182.77 1254.93,1181.84 1261.66,1180.91 1268.4,1179.99 1275.13,1179.08 1281.87,1178.17 1288.6,1177.27 1295.34,1176.38 1302.07,1175.5 1308.81,1174.62 1315.54,1173.75 1322.28,1172.88 1329.01,1172.03 1335.75,1171.17 1342.48,1170.33 1349.22,1169.49 1355.95,1168.66 1362.69,1167.84 1369.42,1167.03 1376.16,1166.22 1382.89,1165.42 1389.63,1164.62 1396.36,1163.84 1403.1,1163.06 1409.83,1162.28 1416.57,1161.52 1423.3,1160.76 1430.04,1160.01 1436.78,1159.27 1443.51,1158.54 1450.25,1157.81 1456.98,1157.09 1463.72,1156.38 1470.45,1155.68 1477.19,1154.98 1483.92,1154.29 1490.66,1153.61 1497.39,1152.94 1504.13,1152.28 1510.86,1151.62 1517.6,1150.98 1524.33,1150.34 1531.07,1149.71 1537.8,1149.08 1544.54,1148.47 1551.27,1147.86 1558.01,1147.27 1564.74,1146.68 1571.48,1146.1 1578.21,1145.53 1584.95,1144.97 1591.68,1144.42 1598.42,1143.87 1605.15,1143.34 1611.89,1142.81 1618.62,1142.29 1625.36,1141.79 1632.09,1141.29 1638.83,1140.8 1645.56,1140.32 1652.3,1139.85 1659.04,1139.39 1665.77,1138.94 1672.51,1138.5 1679.24,1138.07 1685.98,1137.65 1692.71,1137.23 1699.45,1136.83 1706.18,1136.44 1712.92,1136.06 1719.65,1135.69 1726.39,1135.33 1733.12,1134.98 1739.86,1134.64 1746.59,1134.31 1753.33,1133.99 1760.06,1133.68 1766.8,1133.38 1773.53,1133.1 1780.27,1132.82 1787,1132.56 1793.74,1132.3 1800.47,1132.06 1807.21,1131.83 1813.94,1131.61 1820.68,1131.4 1827.41,1131.2 1834.15,1131.02 1840.88,1130.84 1847.62,1130.68 1854.35,1130.53 1861.09,1130.39 1867.82,1130.26 1874.56,1130.15 1881.3,1130.04 1888.03,1129.95 1894.77,1129.87 1901.5,1129.8 1908.24,1129.75 1914.97,1129.71 1921.71,1129.68 1928.44,1129.66 1935.18,1129.66 1941.91,1129.66 1948.65,1129.69 1955.38,1129.72 1962.12,1129.77 1968.85,1129.83 1975.59,1129.9 1982.32,1129.98 1989.06,1130.08 1995.79,1130.2 2002.53,1130.32 2009.26,1130.46 2016,1130.61 2022.73,1130.78 2029.47,1130.96 2036.2,1131.15 2042.94,1131.36 2049.67,1131.58 2056.41,1131.82 2063.14,1132.07 2069.88,1132.33 2076.61,1132.61 2083.35,1132.9 2090.08,1133.2 2096.82,1133.52 2103.56,1133.86 2110.29,1134.21 2117.03,1134.57 2123.76,1134.95 2130.5,1135.34 2137.23,1135.75 2143.97,1136.17 2150.7,1136.61 2157.44,1137.06 2164.17,1137.53 2170.91,1138.01 2177.64,1138.5 2184.38,1139.01 2191.11,1139.54 2197.85,1140.08 2204.58,1140.64 2211.32,1141.21 2218.05,1141.8 2224.79,1142.4 2231.52,1143.02 2238.26,1143.65 2244.99,1144.3 2251.73,1144.97 2258.46,1145.65 2265.2,1146.34 2271.93,1147.05 2278.67,1147.78 2285.4,1148.52 2292.14,1149.28 \"/>\n",
       "<path clip-path=\"url(#clip240)\" d=\"M2023.9 529.676 L2281.36 529.676 L2281.36 166.796 L2023.9 166.796  Z\" fill=\"#ffffff\" fill-rule=\"evenodd\" fill-opacity=\"1\"/>\n",
       "<polyline clip-path=\"url(#clip240)\" style=\"stroke:#000000; stroke-linecap:round; stroke-linejoin:round; stroke-width:4; stroke-opacity:1; fill:none\" points=\"2023.9,529.676 2281.36,529.676 2281.36,166.796 2023.9,166.796 2023.9,529.676 \"/>\n",
       "<polyline clip-path=\"url(#clip240)\" style=\"stroke:#009af9; stroke-linecap:round; stroke-linejoin:round; stroke-width:4; stroke-opacity:1; fill:none\" points=\"2047.7,218.636 2190.48,218.636 \"/>\n",
       "<path clip-path=\"url(#clip240)\" d=\"M2238.93 209.99 L2229.56 222.606 L2239.42 235.916 L2234.39 235.916 L2226.85 225.731 L2219.3 235.916 L2214.28 235.916 L2224.35 222.351 L2215.14 209.99 L2220.16 209.99 L2227.03 219.226 L2233.91 209.99 L2238.93 209.99 Z\" fill=\"#000000\" fill-rule=\"evenodd\" fill-opacity=\"1\" /><path clip-path=\"url(#clip240)\" d=\"M2244.58 233.369 L2249.3 233.369 L2249.3 219.226 L2244.14 220.175 L2244.14 217.49 L2249.46 216.587 L2252.64 216.587 L2252.64 233.369 L2257.38 233.369 L2257.38 235.916 L2244.58 235.916 L2244.58 233.369 Z\" fill=\"#000000\" fill-rule=\"evenodd\" fill-opacity=\"1\" /><polyline clip-path=\"url(#clip240)\" style=\"stroke:#e26f46; stroke-linecap:round; stroke-linejoin:round; stroke-width:4; stroke-opacity:1; fill:none\" points=\"2047.7,270.476 2190.48,270.476 \"/>\n",
       "<path clip-path=\"url(#clip240)\" d=\"M2238.93 261.83 L2229.56 274.446 L2239.42 287.756 L2234.39 287.756 L2226.85 277.571 L2219.3 287.756 L2214.28 287.756 L2224.35 274.191 L2215.14 261.83 L2220.16 261.83 L2227.03 271.066 L2233.91 261.83 L2238.93 261.83 Z\" fill=\"#000000\" fill-rule=\"evenodd\" fill-opacity=\"1\" /><path clip-path=\"url(#clip240)\" d=\"M2247.17 285.117 L2256.99 285.117 L2256.99 287.756 L2243.14 287.756 L2243.14 285.209 Q2243.93 284.492 2245.39 283.196 Q2253.35 276.135 2253.35 273.959 Q2253.35 272.432 2252.15 271.506 Q2250.95 270.557 2248.98 270.557 Q2247.77 270.557 2246.36 270.973 Q2244.95 271.367 2243.28 272.177 L2243.28 269.33 Q2245.07 268.682 2246.59 268.358 Q2248.14 268.034 2249.46 268.034 Q2252.82 268.034 2254.83 269.561 Q2256.85 271.089 2256.85 273.589 Q2256.85 276.807 2249.19 283.381 Q2247.89 284.492 2247.17 285.117 Z\" fill=\"#000000\" fill-rule=\"evenodd\" fill-opacity=\"1\" /><polyline clip-path=\"url(#clip240)\" style=\"stroke:#3da44d; stroke-linecap:round; stroke-linejoin:round; stroke-width:4; stroke-opacity:1; fill:none\" points=\"2047.7,322.316 2190.48,322.316 \"/>\n",
       "<path clip-path=\"url(#clip240)\" d=\"M2238.93 313.67 L2229.56 326.286 L2239.42 339.596 L2234.39 339.596 L2226.85 329.411 L2219.3 339.596 L2214.28 339.596 L2224.35 326.031 L2215.14 313.67 L2220.16 313.67 L2227.03 322.906 L2233.91 313.67 L2238.93 313.67 Z\" fill=\"#000000\" fill-rule=\"evenodd\" fill-opacity=\"1\" /><path clip-path=\"url(#clip240)\" d=\"M2253.1 329.133 Q2255.23 329.549 2256.39 330.823 Q2257.57 332.073 2257.57 333.971 Q2257.57 336.841 2255.37 338.392 Q2253.17 339.943 2249.07 339.943 Q2247.75 339.943 2246.29 339.688 Q2244.86 339.457 2243.24 338.994 L2243.24 336.193 Q2244.44 336.818 2245.81 337.119 Q2247.2 337.42 2248.75 337.42 Q2251.27 337.42 2252.66 336.517 Q2254.05 335.591 2254.05 333.971 Q2254.05 332.258 2252.75 331.378 Q2251.48 330.499 2248.98 330.499 L2246.99 330.499 L2246.99 327.999 L2249.16 327.999 Q2251.34 327.999 2252.45 327.281 Q2253.58 326.54 2253.58 325.151 Q2253.58 323.809 2252.43 323.114 Q2251.27 322.397 2249.07 322.397 Q2248.14 322.397 2246.96 322.605 Q2245.78 322.813 2243.91 323.346 L2243.91 320.684 Q2245.6 320.29 2247.08 320.082 Q2248.56 319.874 2249.83 319.874 Q2253.17 319.874 2255.11 321.239 Q2257.08 322.605 2257.08 324.897 Q2257.08 326.494 2256.04 327.605 Q2255 328.716 2253.1 329.133 Z\" fill=\"#000000\" fill-rule=\"evenodd\" fill-opacity=\"1\" /><polyline clip-path=\"url(#clip240)\" style=\"stroke:#c271d2; stroke-linecap:round; stroke-linejoin:round; stroke-width:4; stroke-opacity:1; fill:none\" stroke-dasharray=\"16, 10\" points=\"2047.7,374.156 2190.48,374.156 \"/>\n",
       "<path clip-path=\"url(#clip240)\" d=\"M2238.93 365.51 L2229.56 378.126 L2239.42 391.436 L2234.39 391.436 L2226.85 381.251 L2219.3 391.436 L2214.28 391.436 L2224.35 377.871 L2215.14 365.51 L2220.16 365.51 L2227.03 374.746 L2233.91 365.51 L2238.93 365.51 Z\" fill=\"#000000\" fill-rule=\"evenodd\" fill-opacity=\"1\" /><path clip-path=\"url(#clip240)\" d=\"M2226.94 355.417 L2231.2 355.417 L2231.2 360.811 L2226.94 360.811 L2226.94 355.417 M2229.12 364.885 L2229.12 364.885 Z\" fill=\"#000000\" fill-rule=\"evenodd\" fill-opacity=\"1\" /><path clip-path=\"url(#clip240)\" d=\"M2244.58 388.889 L2249.3 388.889 L2249.3 374.746 L2244.14 375.695 L2244.14 373.01 L2249.46 372.107 L2252.64 372.107 L2252.64 388.889 L2257.38 388.889 L2257.38 391.436 L2244.58 391.436 L2244.58 388.889 Z\" fill=\"#000000\" fill-rule=\"evenodd\" fill-opacity=\"1\" /><polyline clip-path=\"url(#clip240)\" style=\"stroke:#ac8d18; stroke-linecap:round; stroke-linejoin:round; stroke-width:4; stroke-opacity:1; fill:none\" stroke-dasharray=\"16, 10\" points=\"2047.7,425.996 2190.48,425.996 \"/>\n",
       "<path clip-path=\"url(#clip240)\" d=\"M2238.93 417.35 L2229.56 429.966 L2239.42 443.276 L2234.39 443.276 L2226.85 433.091 L2219.3 443.276 L2214.28 443.276 L2224.35 429.711 L2215.14 417.35 L2220.16 417.35 L2227.03 426.586 L2233.91 417.35 L2238.93 417.35 Z\" fill=\"#000000\" fill-rule=\"evenodd\" fill-opacity=\"1\" /><path clip-path=\"url(#clip240)\" d=\"M2226.94 407.257 L2231.2 407.257 L2231.2 412.651 L2226.94 412.651 L2226.94 407.257 M2229.12 416.725 L2229.12 416.725 Z\" fill=\"#000000\" fill-rule=\"evenodd\" fill-opacity=\"1\" /><path clip-path=\"url(#clip240)\" d=\"M2247.17 440.637 L2256.99 440.637 L2256.99 443.276 L2243.14 443.276 L2243.14 440.729 Q2243.93 440.012 2245.39 438.716 Q2253.35 431.655 2253.35 429.479 Q2253.35 427.952 2252.15 427.026 Q2250.95 426.077 2248.98 426.077 Q2247.77 426.077 2246.36 426.493 Q2244.95 426.887 2243.28 427.697 L2243.28 424.85 Q2245.07 424.202 2246.59 423.878 Q2248.14 423.554 2249.46 423.554 Q2252.82 423.554 2254.83 425.081 Q2256.85 426.609 2256.85 429.109 Q2256.85 432.327 2249.19 438.901 Q2247.89 440.012 2247.17 440.637 Z\" fill=\"#000000\" fill-rule=\"evenodd\" fill-opacity=\"1\" /><polyline clip-path=\"url(#clip240)\" style=\"stroke:#00a9ad; stroke-linecap:round; stroke-linejoin:round; stroke-width:4; stroke-opacity:1; fill:none\" stroke-dasharray=\"16, 10\" points=\"2047.7,477.836 2190.48,477.836 \"/>\n",
       "<path clip-path=\"url(#clip240)\" d=\"M2238.93 469.19 L2229.56 481.806 L2239.42 495.116 L2234.39 495.116 L2226.85 484.931 L2219.3 495.116 L2214.28 495.116 L2224.35 481.551 L2215.14 469.19 L2220.16 469.19 L2227.03 478.426 L2233.91 469.19 L2238.93 469.19 Z\" fill=\"#000000\" fill-rule=\"evenodd\" fill-opacity=\"1\" /><path clip-path=\"url(#clip240)\" d=\"M2226.94 459.097 L2231.2 459.097 L2231.2 464.491 L2226.94 464.491 L2226.94 459.097 M2229.12 468.565 L2229.12 468.565 Z\" fill=\"#000000\" fill-rule=\"evenodd\" fill-opacity=\"1\" /><path clip-path=\"url(#clip240)\" d=\"M2253.1 484.653 Q2255.23 485.069 2256.39 486.343 Q2257.57 487.593 2257.57 489.491 Q2257.57 492.361 2255.37 493.912 Q2253.17 495.463 2249.07 495.463 Q2247.75 495.463 2246.29 495.208 Q2244.86 494.977 2243.24 494.514 L2243.24 491.713 Q2244.44 492.338 2245.81 492.639 Q2247.2 492.94 2248.75 492.94 Q2251.27 492.94 2252.66 492.037 Q2254.05 491.111 2254.05 489.491 Q2254.05 487.778 2252.75 486.898 Q2251.48 486.019 2248.98 486.019 L2246.99 486.019 L2246.99 483.519 L2249.16 483.519 Q2251.34 483.519 2252.45 482.801 Q2253.58 482.06 2253.58 480.671 Q2253.58 479.329 2252.43 478.634 Q2251.27 477.917 2249.07 477.917 Q2248.14 477.917 2246.96 478.125 Q2245.78 478.333 2243.91 478.866 L2243.91 476.204 Q2245.6 475.81 2247.08 475.602 Q2248.56 475.394 2249.83 475.394 Q2253.17 475.394 2255.11 476.759 Q2257.08 478.125 2257.08 480.417 Q2257.08 482.014 2256.04 483.125 Q2255 484.236 2253.1 484.653 Z\" fill=\"#000000\" fill-rule=\"evenodd\" fill-opacity=\"1\" /></svg>\n"
      ]
     },
     "metadata": {},
     "output_type": "display_data"
    },
    {
     "data": {
      "image/svg+xml": [
       "<?xml version=\"1.0\" encoding=\"utf-8\"?>\n",
       "<svg xmlns=\"http://www.w3.org/2000/svg\" xmlns:xlink=\"http://www.w3.org/1999/xlink\" width=\"600\" height=\"400\" viewBox=\"0 0 2400 1600\">\n",
       "<defs>\n",
       "  <clipPath id=\"clip280\">\n",
       "    <rect x=\"0\" y=\"0\" width=\"2400\" height=\"1600\"/>\n",
       "  </clipPath>\n",
       "</defs>\n",
       "<path clip-path=\"url(#clip280)\" d=\"M0 1600 L2400 1600 L2400 0 L0 0  Z\" fill=\"#ffffff\" fill-rule=\"evenodd\" fill-opacity=\"1\"/>\n",
       "<defs>\n",
       "  <clipPath id=\"clip281\">\n",
       "    <rect x=\"480\" y=\"0\" width=\"1681\" height=\"1600\"/>\n",
       "  </clipPath>\n",
       "</defs>\n",
       "<path clip-path=\"url(#clip280)\" d=\"M232.389 1423.18 L2352.76 1423.18 L2352.76 123.472 L232.389 123.472  Z\" fill=\"#ffffff\" fill-rule=\"evenodd\" fill-opacity=\"1\"/>\n",
       "<defs>\n",
       "  <clipPath id=\"clip282\">\n",
       "    <rect x=\"232\" y=\"123\" width=\"2121\" height=\"1301\"/>\n",
       "  </clipPath>\n",
       "</defs>\n",
       "<polyline clip-path=\"url(#clip282)\" style=\"stroke:#000000; stroke-linecap:round; stroke-linejoin:round; stroke-width:2; stroke-opacity:0.1; fill:none\" points=\"292.4,1423.18 292.4,123.472 \"/>\n",
       "<polyline clip-path=\"url(#clip282)\" style=\"stroke:#000000; stroke-linecap:round; stroke-linejoin:round; stroke-width:2; stroke-opacity:0.1; fill:none\" points=\"961.412,1423.18 961.412,123.472 \"/>\n",
       "<polyline clip-path=\"url(#clip282)\" style=\"stroke:#000000; stroke-linecap:round; stroke-linejoin:round; stroke-width:2; stroke-opacity:0.1; fill:none\" points=\"1630.42,1423.18 1630.42,123.472 \"/>\n",
       "<polyline clip-path=\"url(#clip282)\" style=\"stroke:#000000; stroke-linecap:round; stroke-linejoin:round; stroke-width:2; stroke-opacity:0.1; fill:none\" points=\"2299.44,1423.18 2299.44,123.472 \"/>\n",
       "<polyline clip-path=\"url(#clip280)\" style=\"stroke:#000000; stroke-linecap:round; stroke-linejoin:round; stroke-width:4; stroke-opacity:1; fill:none\" points=\"232.389,1423.18 2352.76,1423.18 \"/>\n",
       "<polyline clip-path=\"url(#clip280)\" style=\"stroke:#000000; stroke-linecap:round; stroke-linejoin:round; stroke-width:4; stroke-opacity:1; fill:none\" points=\"292.4,1423.18 292.4,1404.28 \"/>\n",
       "<polyline clip-path=\"url(#clip280)\" style=\"stroke:#000000; stroke-linecap:round; stroke-linejoin:round; stroke-width:4; stroke-opacity:1; fill:none\" points=\"961.412,1423.18 961.412,1404.28 \"/>\n",
       "<polyline clip-path=\"url(#clip280)\" style=\"stroke:#000000; stroke-linecap:round; stroke-linejoin:round; stroke-width:4; stroke-opacity:1; fill:none\" points=\"1630.42,1423.18 1630.42,1404.28 \"/>\n",
       "<polyline clip-path=\"url(#clip280)\" style=\"stroke:#000000; stroke-linecap:round; stroke-linejoin:round; stroke-width:4; stroke-opacity:1; fill:none\" points=\"2299.44,1423.18 2299.44,1404.28 \"/>\n",
       "<path clip-path=\"url(#clip280)\" d=\"M292.4 1454.1 Q288.789 1454.1 286.96 1457.66 Q285.154 1461.2 285.154 1468.33 Q285.154 1475.44 286.96 1479.01 Q288.789 1482.55 292.4 1482.55 Q296.034 1482.55 297.84 1479.01 Q299.668 1475.44 299.668 1468.33 Q299.668 1461.2 297.84 1457.66 Q296.034 1454.1 292.4 1454.1 M292.4 1450.39 Q298.21 1450.39 301.265 1455 Q304.344 1459.58 304.344 1468.33 Q304.344 1477.06 301.265 1481.67 Q298.21 1486.25 292.4 1486.25 Q286.59 1486.25 283.511 1481.67 Q280.455 1477.06 280.455 1468.33 Q280.455 1459.58 283.511 1455 Q286.59 1450.39 292.4 1450.39 Z\" fill=\"#000000\" fill-rule=\"evenodd\" fill-opacity=\"1\" /><path clip-path=\"url(#clip280)\" d=\"M951.69 1451.02 L970.046 1451.02 L970.046 1454.96 L955.972 1454.96 L955.972 1463.43 Q956.99 1463.08 958.009 1462.92 Q959.027 1462.73 960.046 1462.73 Q965.833 1462.73 969.213 1465.9 Q972.592 1469.08 972.592 1474.49 Q972.592 1480.07 969.12 1483.17 Q965.648 1486.25 959.328 1486.25 Q957.152 1486.25 954.884 1485.88 Q952.639 1485.51 950.231 1484.77 L950.231 1480.07 Q952.315 1481.2 954.537 1481.76 Q956.759 1482.32 959.236 1482.32 Q963.24 1482.32 965.578 1480.21 Q967.916 1478.1 967.916 1474.49 Q967.916 1470.88 965.578 1468.77 Q963.24 1466.67 959.236 1466.67 Q957.361 1466.67 955.486 1467.08 Q953.634 1467.5 951.69 1468.38 L951.69 1451.02 Z\" fill=\"#000000\" fill-rule=\"evenodd\" fill-opacity=\"1\" /><path clip-path=\"url(#clip280)\" d=\"M1605.11 1481.64 L1612.75 1481.64 L1612.75 1455.28 L1604.44 1456.95 L1604.44 1452.69 L1612.7 1451.02 L1617.38 1451.02 L1617.38 1481.64 L1625.02 1481.64 L1625.02 1485.58 L1605.11 1485.58 L1605.11 1481.64 Z\" fill=\"#000000\" fill-rule=\"evenodd\" fill-opacity=\"1\" /><path clip-path=\"url(#clip280)\" d=\"M1644.46 1454.1 Q1640.85 1454.1 1639.02 1457.66 Q1637.22 1461.2 1637.22 1468.33 Q1637.22 1475.44 1639.02 1479.01 Q1640.85 1482.55 1644.46 1482.55 Q1648.1 1482.55 1649.9 1479.01 Q1651.73 1475.44 1651.73 1468.33 Q1651.73 1461.2 1649.9 1457.66 Q1648.1 1454.1 1644.46 1454.1 M1644.46 1450.39 Q1650.27 1450.39 1653.33 1455 Q1656.41 1459.58 1656.41 1468.33 Q1656.41 1477.06 1653.33 1481.67 Q1650.27 1486.25 1644.46 1486.25 Q1638.65 1486.25 1635.57 1481.67 Q1632.52 1477.06 1632.52 1468.33 Q1632.52 1459.58 1635.57 1455 Q1638.65 1450.39 1644.46 1450.39 Z\" fill=\"#000000\" fill-rule=\"evenodd\" fill-opacity=\"1\" /><path clip-path=\"url(#clip280)\" d=\"M2274.62 1481.64 L2282.26 1481.64 L2282.26 1455.28 L2273.95 1456.95 L2273.95 1452.69 L2282.21 1451.02 L2286.89 1451.02 L2286.89 1481.64 L2294.53 1481.64 L2294.53 1485.58 L2274.62 1485.58 L2274.62 1481.64 Z\" fill=\"#000000\" fill-rule=\"evenodd\" fill-opacity=\"1\" /><path clip-path=\"url(#clip280)\" d=\"M2304.02 1451.02 L2322.38 1451.02 L2322.38 1454.96 L2308.3 1454.96 L2308.3 1463.43 Q2309.32 1463.08 2310.34 1462.92 Q2311.36 1462.73 2312.38 1462.73 Q2318.16 1462.73 2321.54 1465.9 Q2324.92 1469.08 2324.92 1474.49 Q2324.92 1480.07 2321.45 1483.17 Q2317.98 1486.25 2311.66 1486.25 Q2309.48 1486.25 2307.21 1485.88 Q2304.97 1485.51 2302.56 1484.77 L2302.56 1480.07 Q2304.64 1481.2 2306.87 1481.76 Q2309.09 1482.32 2311.57 1482.32 Q2315.57 1482.32 2317.91 1480.21 Q2320.25 1478.1 2320.25 1474.49 Q2320.25 1470.88 2317.91 1468.77 Q2315.57 1466.67 2311.57 1466.67 Q2309.69 1466.67 2307.82 1467.08 Q2305.96 1467.5 2304.02 1468.38 L2304.02 1451.02 Z\" fill=\"#000000\" fill-rule=\"evenodd\" fill-opacity=\"1\" /><path clip-path=\"url(#clip280)\" d=\"M1180.03 1522.27 L1180.03 1532.4 L1192.09 1532.4 L1192.09 1536.95 L1180.03 1536.95 L1180.03 1556.3 Q1180.03 1560.66 1181.2 1561.9 Q1182.41 1563.14 1186.07 1563.14 L1192.09 1563.14 L1192.09 1568.04 L1186.07 1568.04 Q1179.29 1568.04 1176.72 1565.53 Q1174.14 1562.98 1174.14 1556.3 L1174.14 1536.95 L1169.84 1536.95 L1169.84 1532.4 L1174.14 1532.4 L1174.14 1522.27 L1180.03 1522.27 Z\" fill=\"#000000\" fill-rule=\"evenodd\" fill-opacity=\"1\" /><path clip-path=\"url(#clip280)\" d=\"M1199.79 1532.4 L1205.65 1532.4 L1205.65 1568.04 L1199.79 1568.04 L1199.79 1532.4 M1199.79 1518.52 L1205.65 1518.52 L1205.65 1525.93 L1199.79 1525.93 L1199.79 1518.52 Z\" fill=\"#000000\" fill-rule=\"evenodd\" fill-opacity=\"1\" /><path clip-path=\"url(#clip280)\" d=\"M1245.66 1539.24 Q1247.85 1535.29 1250.91 1533.41 Q1253.96 1531.54 1258.1 1531.54 Q1263.67 1531.54 1266.7 1535.45 Q1269.72 1539.33 1269.72 1546.53 L1269.72 1568.04 L1263.83 1568.04 L1263.83 1546.72 Q1263.83 1541.59 1262.02 1539.11 Q1260.2 1536.63 1256.48 1536.63 Q1251.93 1536.63 1249.29 1539.65 Q1246.64 1542.68 1246.64 1547.9 L1246.64 1568.04 L1240.76 1568.04 L1240.76 1546.72 Q1240.76 1541.56 1238.94 1539.11 Q1237.13 1536.63 1233.34 1536.63 Q1228.85 1536.63 1226.21 1539.68 Q1223.57 1542.71 1223.57 1547.9 L1223.57 1568.04 L1217.68 1568.04 L1217.68 1532.4 L1223.57 1532.4 L1223.57 1537.93 Q1225.57 1534.66 1228.37 1533.1 Q1231.18 1531.54 1235.03 1531.54 Q1238.91 1531.54 1241.62 1533.51 Q1244.35 1535.48 1245.66 1539.24 Z\" fill=\"#000000\" fill-rule=\"evenodd\" fill-opacity=\"1\" /><path clip-path=\"url(#clip280)\" d=\"M1311.89 1548.76 L1311.89 1551.62 L1284.97 1551.62 Q1285.35 1557.67 1288.59 1560.85 Q1291.87 1564 1297.7 1564 Q1301.07 1564 1304.22 1563.17 Q1307.4 1562.35 1310.52 1560.69 L1310.52 1566.23 Q1307.37 1567.57 1304.06 1568.27 Q1300.75 1568.97 1297.35 1568.97 Q1288.82 1568.97 1283.82 1564 Q1278.85 1559.04 1278.85 1550.57 Q1278.85 1541.82 1283.57 1536.69 Q1288.31 1531.54 1296.33 1531.54 Q1303.52 1531.54 1307.69 1536.18 Q1311.89 1540.8 1311.89 1548.76 M1306.04 1547.04 Q1305.97 1542.23 1303.33 1539.37 Q1300.72 1536.5 1296.39 1536.5 Q1291.49 1536.5 1288.53 1539.27 Q1285.6 1542.04 1285.16 1547.07 L1306.04 1547.04 Z\" fill=\"#000000\" fill-rule=\"evenodd\" fill-opacity=\"1\" /><path clip-path=\"url(#clip280)\" d=\"M1356.29 1518.58 Q1352.03 1525.9 1349.96 1533.06 Q1347.89 1540.23 1347.89 1547.58 Q1347.89 1554.93 1349.96 1562.16 Q1352.06 1569.35 1356.29 1576.64 L1351.2 1576.64 Q1346.43 1569.16 1344.04 1561.93 Q1341.68 1554.71 1341.68 1547.58 Q1341.68 1540.48 1344.04 1533.29 Q1346.39 1526.09 1351.2 1518.58 L1356.29 1518.58 Z\" fill=\"#000000\" fill-rule=\"evenodd\" fill-opacity=\"1\" /><path clip-path=\"url(#clip280)\" d=\"M1390.38 1533.45 L1390.38 1538.98 Q1387.9 1537.71 1385.23 1537.07 Q1382.55 1536.44 1379.69 1536.44 Q1375.33 1536.44 1373.13 1537.77 Q1370.97 1539.11 1370.97 1541.79 Q1370.97 1543.82 1372.53 1545 Q1374.09 1546.15 1378.8 1547.2 L1380.8 1547.64 Q1387.04 1548.98 1389.65 1551.43 Q1392.29 1553.85 1392.29 1558.21 Q1392.29 1563.17 1388.34 1566.07 Q1384.43 1568.97 1377.55 1568.97 Q1374.69 1568.97 1371.57 1568.39 Q1368.48 1567.85 1365.05 1566.74 L1365.05 1560.69 Q1368.29 1562.38 1371.44 1563.24 Q1374.59 1564.07 1377.68 1564.07 Q1381.82 1564.07 1384.05 1562.66 Q1386.28 1561.23 1386.28 1558.65 Q1386.28 1556.27 1384.65 1554.99 Q1383.06 1553.72 1377.62 1552.54 L1375.58 1552.07 Q1370.14 1550.92 1367.72 1548.56 Q1365.3 1546.18 1365.3 1542.04 Q1365.3 1537.01 1368.87 1534.27 Q1372.43 1531.54 1378.99 1531.54 Q1382.23 1531.54 1385.1 1532.01 Q1387.96 1532.49 1390.38 1533.45 Z\" fill=\"#000000\" fill-rule=\"evenodd\" fill-opacity=\"1\" /><path clip-path=\"url(#clip280)\" d=\"M1400.69 1518.58 L1405.79 1518.58 Q1410.56 1526.09 1412.92 1533.29 Q1415.3 1540.48 1415.3 1547.58 Q1415.3 1554.71 1412.92 1561.93 Q1410.56 1569.16 1405.79 1576.64 L1400.69 1576.64 Q1404.93 1569.35 1407 1562.16 Q1409.1 1554.93 1409.1 1547.58 Q1409.1 1540.23 1407 1533.06 Q1404.93 1525.9 1400.69 1518.58 Z\" fill=\"#000000\" fill-rule=\"evenodd\" fill-opacity=\"1\" /><polyline clip-path=\"url(#clip282)\" style=\"stroke:#000000; stroke-linecap:round; stroke-linejoin:round; stroke-width:2; stroke-opacity:0.1; fill:none\" points=\"232.389,1323.09 2352.76,1323.09 \"/>\n",
       "<polyline clip-path=\"url(#clip282)\" style=\"stroke:#000000; stroke-linecap:round; stroke-linejoin:round; stroke-width:2; stroke-opacity:0.1; fill:none\" points=\"232.389,1047.81 2352.76,1047.81 \"/>\n",
       "<polyline clip-path=\"url(#clip282)\" style=\"stroke:#000000; stroke-linecap:round; stroke-linejoin:round; stroke-width:2; stroke-opacity:0.1; fill:none\" points=\"232.389,772.531 2352.76,772.531 \"/>\n",
       "<polyline clip-path=\"url(#clip282)\" style=\"stroke:#000000; stroke-linecap:round; stroke-linejoin:round; stroke-width:2; stroke-opacity:0.1; fill:none\" points=\"232.389,497.249 2352.76,497.249 \"/>\n",
       "<polyline clip-path=\"url(#clip282)\" style=\"stroke:#000000; stroke-linecap:round; stroke-linejoin:round; stroke-width:2; stroke-opacity:0.1; fill:none\" points=\"232.389,221.968 2352.76,221.968 \"/>\n",
       "<polyline clip-path=\"url(#clip280)\" style=\"stroke:#000000; stroke-linecap:round; stroke-linejoin:round; stroke-width:4; stroke-opacity:1; fill:none\" points=\"232.389,1423.18 232.389,123.472 \"/>\n",
       "<polyline clip-path=\"url(#clip280)\" style=\"stroke:#000000; stroke-linecap:round; stroke-linejoin:round; stroke-width:4; stroke-opacity:1; fill:none\" points=\"232.389,1323.09 251.287,1323.09 \"/>\n",
       "<polyline clip-path=\"url(#clip280)\" style=\"stroke:#000000; stroke-linecap:round; stroke-linejoin:round; stroke-width:4; stroke-opacity:1; fill:none\" points=\"232.389,1047.81 251.287,1047.81 \"/>\n",
       "<polyline clip-path=\"url(#clip280)\" style=\"stroke:#000000; stroke-linecap:round; stroke-linejoin:round; stroke-width:4; stroke-opacity:1; fill:none\" points=\"232.389,772.531 251.287,772.531 \"/>\n",
       "<polyline clip-path=\"url(#clip280)\" style=\"stroke:#000000; stroke-linecap:round; stroke-linejoin:round; stroke-width:4; stroke-opacity:1; fill:none\" points=\"232.389,497.249 251.287,497.249 \"/>\n",
       "<polyline clip-path=\"url(#clip280)\" style=\"stroke:#000000; stroke-linecap:round; stroke-linejoin:round; stroke-width:4; stroke-opacity:1; fill:none\" points=\"232.389,221.968 251.287,221.968 \"/>\n",
       "<path clip-path=\"url(#clip280)\" d=\"M184.445 1308.89 Q180.834 1308.89 179.005 1312.46 Q177.2 1316 177.2 1323.13 Q177.2 1330.23 179.005 1333.8 Q180.834 1337.34 184.445 1337.34 Q188.079 1337.34 189.885 1333.8 Q191.713 1330.23 191.713 1323.13 Q191.713 1316 189.885 1312.46 Q188.079 1308.89 184.445 1308.89 M184.445 1305.19 Q190.255 1305.19 193.311 1309.79 Q196.389 1314.38 196.389 1323.13 Q196.389 1331.85 193.311 1336.46 Q190.255 1341.04 184.445 1341.04 Q178.635 1341.04 175.556 1336.46 Q172.501 1331.85 172.501 1323.13 Q172.501 1314.38 175.556 1309.79 Q178.635 1305.19 184.445 1305.19 Z\" fill=\"#000000\" fill-rule=\"evenodd\" fill-opacity=\"1\" /><path clip-path=\"url(#clip280)\" d=\"M149.306 1061.16 L165.626 1061.16 L165.626 1065.09 L143.681 1065.09 L143.681 1061.16 Q146.343 1058.4 150.927 1053.77 Q155.533 1049.12 156.714 1047.78 Q158.959 1045.25 159.839 1043.52 Q160.741 1041.76 160.741 1040.07 Q160.741 1037.31 158.797 1035.58 Q156.876 1033.84 153.774 1033.84 Q151.575 1033.84 149.121 1034.61 Q146.691 1035.37 143.913 1036.92 L143.913 1032.2 Q146.737 1031.06 149.191 1030.49 Q151.644 1029.91 153.681 1029.91 Q159.052 1029.91 162.246 1032.59 Q165.44 1035.28 165.44 1039.77 Q165.44 1041.9 164.63 1043.82 Q163.843 1045.72 161.737 1048.31 Q161.158 1048.98 158.056 1052.2 Q154.954 1055.39 149.306 1061.16 Z\" fill=\"#000000\" fill-rule=\"evenodd\" fill-opacity=\"1\" /><path clip-path=\"url(#clip280)\" d=\"M175.487 1030.53 L193.843 1030.53 L193.843 1034.47 L179.769 1034.47 L179.769 1042.94 Q180.788 1042.59 181.806 1042.43 Q182.825 1042.24 183.843 1042.24 Q189.63 1042.24 193.01 1045.42 Q196.389 1048.59 196.389 1054 Q196.389 1059.58 192.917 1062.68 Q189.445 1065.76 183.126 1065.76 Q180.95 1065.76 178.681 1065.39 Q176.436 1065.02 174.028 1064.28 L174.028 1059.58 Q176.112 1060.72 178.334 1061.27 Q180.556 1061.83 183.033 1061.83 Q187.038 1061.83 189.375 1059.72 Q191.713 1057.61 191.713 1054 Q191.713 1050.39 189.375 1048.29 Q187.038 1046.18 183.033 1046.18 Q181.158 1046.18 179.283 1046.6 Q177.431 1047.01 175.487 1047.89 L175.487 1030.53 Z\" fill=\"#000000\" fill-rule=\"evenodd\" fill-opacity=\"1\" /><path clip-path=\"url(#clip280)\" d=\"M144.329 755.251 L162.686 755.251 L162.686 759.186 L148.612 759.186 L148.612 767.658 Q149.63 767.311 150.649 767.149 Q151.667 766.963 152.686 766.963 Q158.473 766.963 161.852 770.135 Q165.232 773.306 165.232 778.723 Q165.232 784.301 161.76 787.403 Q158.288 790.482 151.968 790.482 Q149.792 790.482 147.524 790.111 Q145.279 789.741 142.871 789 L142.871 784.301 Q144.954 785.436 147.177 785.991 Q149.399 786.547 151.876 786.547 Q155.88 786.547 158.218 784.44 Q160.556 782.334 160.556 778.723 Q160.556 775.112 158.218 773.005 Q155.88 770.899 151.876 770.899 Q150.001 770.899 148.126 771.315 Q146.274 771.732 144.329 772.612 L144.329 755.251 Z\" fill=\"#000000\" fill-rule=\"evenodd\" fill-opacity=\"1\" /><path clip-path=\"url(#clip280)\" d=\"M184.445 758.329 Q180.834 758.329 179.005 761.894 Q177.2 765.436 177.2 772.565 Q177.2 779.672 179.005 783.237 Q180.834 786.778 184.445 786.778 Q188.079 786.778 189.885 783.237 Q191.713 779.672 191.713 772.565 Q191.713 765.436 189.885 761.894 Q188.079 758.329 184.445 758.329 M184.445 754.626 Q190.255 754.626 193.311 759.232 Q196.389 763.815 196.389 772.565 Q196.389 781.292 193.311 785.899 Q190.255 790.482 184.445 790.482 Q178.635 790.482 175.556 785.899 Q172.501 781.292 172.501 772.565 Q172.501 763.815 175.556 759.232 Q178.635 754.626 184.445 754.626 Z\" fill=\"#000000\" fill-rule=\"evenodd\" fill-opacity=\"1\" /><path clip-path=\"url(#clip280)\" d=\"M144.098 479.969 L166.32 479.969 L166.32 481.96 L153.774 514.529 L148.89 514.529 L160.695 483.905 L144.098 483.905 L144.098 479.969 Z\" fill=\"#000000\" fill-rule=\"evenodd\" fill-opacity=\"1\" /><path clip-path=\"url(#clip280)\" d=\"M175.487 479.969 L193.843 479.969 L193.843 483.905 L179.769 483.905 L179.769 492.377 Q180.788 492.03 181.806 491.868 Q182.825 491.682 183.843 491.682 Q189.63 491.682 193.01 494.854 Q196.389 498.025 196.389 503.442 Q196.389 509.02 192.917 512.122 Q189.445 515.201 183.126 515.201 Q180.95 515.201 178.681 514.83 Q176.436 514.46 174.028 513.719 L174.028 509.02 Q176.112 510.155 178.334 510.71 Q180.556 511.266 183.033 511.266 Q187.038 511.266 189.375 509.159 Q191.713 507.053 191.713 503.442 Q191.713 499.83 189.375 497.724 Q187.038 495.618 183.033 495.618 Q181.158 495.618 179.283 496.034 Q177.431 496.451 175.487 497.331 L175.487 479.969 Z\" fill=\"#000000\" fill-rule=\"evenodd\" fill-opacity=\"1\" /><path clip-path=\"url(#clip280)\" d=\"M114.931 235.313 L122.57 235.313 L122.57 208.948 L114.26 210.614 L114.26 206.355 L122.524 204.688 L127.2 204.688 L127.2 235.313 L134.839 235.313 L134.839 239.248 L114.931 239.248 L114.931 235.313 Z\" fill=\"#000000\" fill-rule=\"evenodd\" fill-opacity=\"1\" /><path clip-path=\"url(#clip280)\" d=\"M154.283 207.767 Q150.672 207.767 148.843 211.332 Q147.038 214.874 147.038 222.003 Q147.038 229.11 148.843 232.674 Q150.672 236.216 154.283 236.216 Q157.917 236.216 159.723 232.674 Q161.552 229.11 161.552 222.003 Q161.552 214.874 159.723 211.332 Q157.917 207.767 154.283 207.767 M154.283 204.063 Q160.093 204.063 163.149 208.67 Q166.227 213.253 166.227 222.003 Q166.227 230.73 163.149 235.336 Q160.093 239.92 154.283 239.92 Q148.473 239.92 145.394 235.336 Q142.339 230.73 142.339 222.003 Q142.339 213.253 145.394 208.67 Q148.473 204.063 154.283 204.063 Z\" fill=\"#000000\" fill-rule=\"evenodd\" fill-opacity=\"1\" /><path clip-path=\"url(#clip280)\" d=\"M184.445 207.767 Q180.834 207.767 179.005 211.332 Q177.2 214.874 177.2 222.003 Q177.2 229.11 179.005 232.674 Q180.834 236.216 184.445 236.216 Q188.079 236.216 189.885 232.674 Q191.713 229.11 191.713 222.003 Q191.713 214.874 189.885 211.332 Q188.079 207.767 184.445 207.767 M184.445 204.063 Q190.255 204.063 193.311 208.67 Q196.389 213.253 196.389 222.003 Q196.389 230.73 193.311 235.336 Q190.255 239.92 184.445 239.92 Q178.635 239.92 175.556 235.336 Q172.501 230.73 172.501 222.003 Q172.501 213.253 175.556 208.67 Q178.635 204.063 184.445 204.063 Z\" fill=\"#000000\" fill-rule=\"evenodd\" fill-opacity=\"1\" /><path clip-path=\"url(#clip280)\" d=\"M49.9359 788.254 L28.3562 788.254 L28.3562 782.397 L49.7131 782.397 Q54.7739 782.397 57.3202 780.424 Q59.8346 778.45 59.8346 774.504 Q59.8346 769.761 56.8109 767.024 Q53.7872 764.255 48.5673 764.255 L28.3562 764.255 L28.3562 758.398 L64.0042 758.398 L64.0042 764.255 L58.5296 764.255 Q61.7762 766.387 63.3676 769.22 Q64.9272 772.021 64.9272 775.745 Q64.9272 781.888 61.1078 785.071 Q57.2883 788.254 49.9359 788.254 M27.4968 773.517 L27.4968 773.517 Z\" fill=\"#000000\" fill-rule=\"evenodd\" fill-opacity=\"1\" /><path clip-path=\"url(#clip280)\" d=\"M1029.71 12.096 L1037.89 12.096 L1037.89 72.576 L1029.71 72.576 L1029.71 12.096 Z\" fill=\"#000000\" fill-rule=\"evenodd\" fill-opacity=\"1\" /><path clip-path=\"url(#clip280)\" d=\"M1091.57 45.1919 L1091.57 72.576 L1084.11 72.576 L1084.11 45.4349 Q1084.11 38.994 1081.6 35.7938 Q1079.09 32.5936 1074.07 32.5936 Q1068.03 32.5936 1064.55 36.4419 Q1061.06 40.2903 1061.06 46.9338 L1061.06 72.576 L1053.57 72.576 L1053.57 27.2059 L1061.06 27.2059 L1061.06 34.2544 Q1063.74 30.163 1067.34 28.1376 Q1070.99 26.1121 1075.73 26.1121 Q1083.55 26.1121 1087.56 30.9732 Q1091.57 35.7938 1091.57 45.1919 Z\" fill=\"#000000\" fill-rule=\"evenodd\" fill-opacity=\"1\" /><path clip-path=\"url(#clip280)\" d=\"M1113.64 65.7705 L1113.64 89.8329 L1106.15 89.8329 L1106.15 27.2059 L1113.64 27.2059 L1113.64 34.0924 Q1115.99 30.0415 1119.56 28.0971 Q1123.16 26.1121 1128.15 26.1121 Q1136.41 26.1121 1141.55 32.6746 Q1146.74 39.2371 1146.74 49.9314 Q1146.74 60.6258 1141.55 67.1883 Q1136.41 73.7508 1128.15 73.7508 Q1123.16 73.7508 1119.56 71.8063 Q1115.99 69.8214 1113.64 65.7705 M1139 49.9314 Q1139 41.7081 1135.6 37.0496 Q1132.24 32.3505 1126.32 32.3505 Q1120.41 32.3505 1117.01 37.0496 Q1113.64 41.7081 1113.64 49.9314 Q1113.64 58.1548 1117.01 62.8538 Q1120.41 67.5124 1126.32 67.5124 Q1132.24 67.5124 1135.6 62.8538 Q1139 58.1548 1139 49.9314 Z\" fill=\"#000000\" fill-rule=\"evenodd\" fill-opacity=\"1\" /><path clip-path=\"url(#clip280)\" d=\"M1158.33 54.671 L1158.33 27.2059 L1165.78 27.2059 L1165.78 54.3874 Q1165.78 60.8284 1168.29 64.0691 Q1170.8 67.2693 1175.83 67.2693 Q1181.86 67.2693 1185.35 63.421 Q1188.87 59.5726 1188.87 52.9291 L1188.87 27.2059 L1196.32 27.2059 L1196.32 72.576 L1188.87 72.576 L1188.87 65.6084 Q1186.16 69.7404 1182.55 71.7658 Q1178.99 73.7508 1174.25 73.7508 Q1166.43 73.7508 1162.38 68.8897 Q1158.33 64.0286 1158.33 54.671 M1177.08 26.1121 L1177.08 26.1121 Z\" fill=\"#000000\" fill-rule=\"evenodd\" fill-opacity=\"1\" /><path clip-path=\"url(#clip280)\" d=\"M1219.05 14.324 L1219.05 27.2059 L1234.4 27.2059 L1234.4 32.9987 L1219.05 32.9987 L1219.05 57.6282 Q1219.05 63.1779 1220.55 64.7578 Q1222.09 66.3376 1226.75 66.3376 L1234.4 66.3376 L1234.4 72.576 L1226.75 72.576 Q1218.12 72.576 1214.84 69.3758 Q1211.55 66.1351 1211.55 57.6282 L1211.55 32.9987 L1206.09 32.9987 L1206.09 27.2059 L1211.55 27.2059 L1211.55 14.324 L1219.05 14.324 Z\" fill=\"#000000\" fill-rule=\"evenodd\" fill-opacity=\"1\" /><path clip-path=\"url(#clip280)\" d=\"M1270.9 12.096 L1279.08 12.096 L1279.08 36.8875 L1308.82 36.8875 L1308.82 12.096 L1317 12.096 L1317 72.576 L1308.82 72.576 L1308.82 43.7741 L1279.08 43.7741 L1279.08 72.576 L1270.9 72.576 L1270.9 12.096 Z\" fill=\"#000000\" fill-rule=\"evenodd\" fill-opacity=\"1\" /><path clip-path=\"url(#clip280)\" d=\"M1332.96 27.2059 L1340.41 27.2059 L1340.41 72.576 L1332.96 72.576 L1332.96 27.2059 M1332.96 9.54393 L1340.41 9.54393 L1340.41 18.9825 L1332.96 18.9825 L1332.96 9.54393 Z\" fill=\"#000000\" fill-rule=\"evenodd\" fill-opacity=\"1\" /><path clip-path=\"url(#clip280)\" d=\"M1384.93 28.5427 L1384.93 35.5912 Q1381.77 33.9709 1378.37 33.1607 Q1374.97 32.3505 1371.32 32.3505 Q1365.77 32.3505 1362.98 34.0519 Q1360.22 35.7533 1360.22 39.156 Q1360.22 41.7486 1362.21 43.2475 Q1364.19 44.7058 1370.19 46.0426 L1372.74 46.6097 Q1380.68 48.3111 1384 51.4303 Q1387.36 54.509 1387.36 60.0587 Q1387.36 66.3781 1382.34 70.0644 Q1377.36 73.7508 1368.61 73.7508 Q1364.96 73.7508 1360.99 73.0216 Q1357.06 72.3329 1352.69 70.9151 L1352.69 63.2184 Q1356.82 65.3654 1360.83 66.4591 Q1364.84 67.5124 1368.77 67.5124 Q1374.04 67.5124 1376.87 65.73 Q1379.71 63.9071 1379.71 60.6258 Q1379.71 57.5877 1377.64 55.9673 Q1375.62 54.3469 1368.69 52.8481 L1366.1 52.2405 Q1359.17 50.7821 1356.09 47.7845 Q1353.01 44.7463 1353.01 39.4801 Q1353.01 33.0797 1357.55 29.5959 Q1362.09 26.1121 1370.43 26.1121 Q1374.56 26.1121 1378.21 26.7198 Q1381.85 27.3274 1384.93 28.5427 Z\" fill=\"#000000\" fill-rule=\"evenodd\" fill-opacity=\"1\" /><path clip-path=\"url(#clip280)\" d=\"M1406.61 14.324 L1406.61 27.2059 L1421.96 27.2059 L1421.96 32.9987 L1406.61 32.9987 L1406.61 57.6282 Q1406.61 63.1779 1408.1 64.7578 Q1409.64 66.3376 1414.3 66.3376 L1421.96 66.3376 L1421.96 72.576 L1414.3 72.576 Q1405.67 72.576 1402.39 69.3758 Q1399.11 66.1351 1399.11 57.6282 L1399.11 32.9987 L1393.64 32.9987 L1393.64 27.2059 L1399.11 27.2059 L1399.11 14.324 L1406.61 14.324 Z\" fill=\"#000000\" fill-rule=\"evenodd\" fill-opacity=\"1\" /><path clip-path=\"url(#clip280)\" d=\"M1449.34 32.4315 Q1443.35 32.4315 1439.86 37.1306 Q1436.38 41.7891 1436.38 49.9314 Q1436.38 58.0738 1439.82 62.7728 Q1443.31 67.4314 1449.34 67.4314 Q1455.3 67.4314 1458.78 62.7323 Q1462.27 58.0333 1462.27 49.9314 Q1462.27 41.8701 1458.78 37.1711 Q1455.3 32.4315 1449.34 32.4315 M1449.34 26.1121 Q1459.06 26.1121 1464.61 32.4315 Q1470.16 38.7509 1470.16 49.9314 Q1470.16 61.0714 1464.61 67.4314 Q1459.06 73.7508 1449.34 73.7508 Q1439.58 73.7508 1434.03 67.4314 Q1428.52 61.0714 1428.52 49.9314 Q1428.52 38.7509 1434.03 32.4315 Q1439.58 26.1121 1449.34 26.1121 Z\" fill=\"#000000\" fill-rule=\"evenodd\" fill-opacity=\"1\" /><path clip-path=\"url(#clip280)\" d=\"M1508.81 34.1734 Q1507.55 33.4443 1506.06 33.1202 Q1504.6 32.7556 1502.81 32.7556 Q1496.5 32.7556 1493.09 36.8875 Q1489.73 40.9789 1489.73 48.6757 L1489.73 72.576 L1482.24 72.576 L1482.24 27.2059 L1489.73 27.2059 L1489.73 34.2544 Q1492.08 30.1225 1495.85 28.1376 Q1499.61 26.1121 1505 26.1121 Q1505.77 26.1121 1506.7 26.2337 Q1507.64 26.3147 1508.77 26.5172 L1508.81 34.1734 Z\" fill=\"#000000\" fill-rule=\"evenodd\" fill-opacity=\"1\" /><path clip-path=\"url(#clip280)\" d=\"M1535.51 76.7889 Q1532.35 84.8907 1529.35 87.3618 Q1526.35 89.8329 1521.33 89.8329 L1515.37 89.8329 L1515.37 83.5945 L1519.75 83.5945 Q1522.83 83.5945 1524.53 82.1361 Q1526.23 80.6778 1528.29 75.2496 L1529.63 71.8468 L1511.28 27.2059 L1519.18 27.2059 L1533.36 62.6918 L1547.54 27.2059 L1555.44 27.2059 L1535.51 76.7889 Z\" fill=\"#000000\" fill-rule=\"evenodd\" fill-opacity=\"1\" /><polyline clip-path=\"url(#clip282)\" style=\"stroke:#009af9; stroke-linecap:round; stroke-linejoin:round; stroke-width:4; stroke-opacity:1; fill:none\" points=\"292.4,1249.31 299.09,1249.66 305.78,1250.01 312.47,1250.36 319.16,1250.72 325.85,1251.07 332.54,1251.42 339.231,1251.78 345.921,1252.13 352.611,1252.49 359.301,1252.84 365.991,1253.2 372.681,1253.56 379.371,1253.91 386.061,1254.27 392.752,1254.63 399.442,1254.98 406.132,1255.34 412.822,1255.7 419.512,1256.06 426.202,1256.42 432.892,1256.78 439.582,1257.13 446.272,1257.49 452.963,1257.85 459.653,1258.21 466.343,1258.57 473.033,1258.93 479.723,1259.29 486.413,1259.65 493.103,1260.01 499.793,1260.37 506.484,1260.73 513.174,1261.09 519.864,1261.45 526.554,1261.81 533.244,1262.17 539.934,1262.53 546.624,1262.89 553.314,1263.25 560.005,1263.61 566.695,1263.97 573.385,1264.33 580.075,1264.69 586.765,1265.05 593.455,1265.41 600.145,1265.77 606.835,1266.13 613.525,1266.49 620.216,1266.85 626.906,1267.21 633.596,1267.57 640.286,1267.93 646.976,1268.28 653.666,1268.64 660.356,1269 667.046,1269.36 673.737,1269.72 680.427,1270.08 687.117,1270.43 693.807,1270.79 700.497,1271.15 707.187,1271.51 713.877,1271.86 720.567,1272.22 727.258,1272.57 733.948,1272.93 740.638,1273.29 747.328,1273.64 754.018,1274 760.708,1274.35 767.398,1274.71 774.088,1275.06 780.778,1275.41 787.469,1275.77 794.159,1276.12 800.849,1276.47 807.539,1276.82 814.229,1277.18 820.919,1277.53 827.609,1277.88 834.299,1278.23 840.99,1278.58 847.68,1278.93 854.37,1279.28 861.06,1279.63 867.75,1279.98 874.44,1280.32 881.13,1280.67 887.82,1281.02 894.511,1281.37 901.201,1281.71 907.891,1282.06 914.581,1282.4 921.271,1282.75 927.961,1283.09 934.651,1283.43 941.341,1283.78 948.031,1284.12 954.722,1284.46 961.412,1284.8 968.102,1285.14 974.792,1285.48 981.482,1285.82 988.172,1286.16 994.862,1286.5 1001.55,1286.84 1008.24,1287.17 1014.93,1287.51 1021.62,1287.85 1028.31,1288.18 1035,1288.52 1041.69,1288.85 1048.38,1289.18 1055.07,1289.51 1061.76,1289.85 1068.45,1290.18 1075.14,1290.51 1081.83,1290.84 1088.52,1291.17 1095.21,1291.49 1101.9,1291.82 1108.59,1292.15 1115.28,1292.47 1121.97,1292.8 1128.66,1293.12 1135.35,1293.45 1142.04,1293.77 1148.74,1294.09 1155.43,1294.41 1162.12,1294.73 1168.81,1295.05 1175.5,1295.37 1182.19,1295.69 1188.88,1296 1195.57,1296.32 1202.26,1296.64 1208.95,1296.95 1215.64,1297.26 1222.33,1297.58 1229.02,1297.89 1235.71,1298.2 1242.4,1298.51 1249.09,1298.82 1255.78,1299.13 1262.47,1299.43 1269.16,1299.74 1275.85,1300.05 1282.54,1300.35 1289.23,1300.66 1295.92,1300.96 1302.61,1301.26 1309.3,1301.56 1315.99,1301.86 1322.68,1302.16 1329.37,1302.46 1336.06,1302.76 1342.75,1303.06 1349.44,1303.35 1356.13,1303.65 1362.82,1303.94 1369.51,1304.23 1376.2,1304.52 1382.89,1304.82 1389.58,1305.11 1396.27,1305.4 1402.96,1305.68 1409.65,1305.97 1416.34,1306.26 1423.03,1306.54 1429.72,1306.83 1436.41,1307.11 1443.1,1307.39 1449.79,1307.68 1456.48,1307.96 1463.17,1308.24 1469.86,1308.52 1476.55,1308.79 1483.24,1309.07 1489.93,1309.35 1496.62,1309.62 1503.31,1309.9 1510,1310.17 1516.69,1310.44 1523.38,1310.71 1530.07,1310.98 1536.76,1311.25 1543.45,1311.52 1550.14,1311.79 1556.83,1312.06 1563.52,1312.32 1570.21,1312.59 1576.9,1312.85 1583.59,1313.11 1590.28,1313.38 1596.97,1313.64 1603.66,1313.9 1610.35,1314.16 1617.04,1314.41 1623.73,1314.67 1630.42,1314.93 1637.11,1315.18 1643.8,1315.44 1650.49,1315.69 1657.18,1315.94 1663.87,1316.2 1670.56,1316.45 1677.25,1316.7 1683.94,1316.94 1690.63,1317.19 1697.32,1317.44 1704.01,1317.69 1710.71,1317.93 1717.4,1318.18 1724.09,1318.42 1730.78,1318.66 1737.47,1318.9 1744.16,1319.14 1750.85,1319.38 1757.54,1319.62 1764.23,1319.86 1770.92,1320.1 1777.61,1320.33 1784.3,1320.57 1790.99,1320.8 1797.68,1321.03 1804.37,1321.27 1811.06,1321.5 1817.75,1321.73 1824.44,1321.96 1831.13,1322.19 1837.82,1322.41 1844.51,1322.64 1851.2,1322.87 1857.89,1323.09 1864.58,1323.31 1871.27,1323.54 1877.96,1323.76 1884.65,1323.98 1891.34,1324.2 1898.03,1324.42 1904.72,1324.64 1911.41,1324.85 1918.1,1325.07 1924.79,1325.28 1931.48,1325.5 1938.17,1325.71 1944.86,1325.92 1951.55,1326.13 1958.24,1326.34 1964.93,1326.55 1971.62,1326.76 1978.31,1326.97 1985,1327.17 1991.69,1327.38 1998.38,1327.58 2005.07,1327.78 2011.76,1327.98 2018.45,1328.18 2025.14,1328.38 2031.83,1328.58 2038.52,1328.78 2045.21,1328.97 2051.9,1329.17 2058.59,1329.36 2065.28,1329.55 2071.97,1329.74 2078.66,1329.93 2085.35,1330.12 2092.04,1330.31 2098.73,1330.49 2105.42,1330.68 2112.11,1330.86 2118.8,1331.04 2125.49,1331.22 2132.18,1331.4 2138.87,1331.58 2145.56,1331.76 2152.25,1331.93 2158.94,1332.11 2165.63,1332.28 2172.32,1332.45 2179.01,1332.62 2185.7,1332.79 2192.39,1332.95 2199.08,1333.12 2205.77,1333.28 2212.46,1333.44 2219.15,1333.6 2225.84,1333.76 2232.53,1333.92 2239.22,1334.07 2245.91,1334.23 2252.6,1334.38 2259.29,1334.53 2265.99,1334.68 2272.68,1334.83 2279.37,1334.98 2286.06,1335.12 2292.75,1335.26 \"/>\n",
       "<polyline clip-path=\"url(#clip282)\" style=\"stroke:#e26f46; stroke-linecap:round; stroke-linejoin:round; stroke-width:4; stroke-opacity:1; fill:none\" points=\"292.4,1386.4 299.09,1386.02 305.78,1385.65 312.47,1385.28 319.16,1384.9 325.85,1384.53 332.54,1384.16 339.231,1383.79 345.921,1383.42 352.611,1383.05 359.301,1382.68 365.991,1382.31 372.681,1381.94 379.371,1381.57 386.061,1381.2 392.752,1380.83 399.442,1380.47 406.132,1380.1 412.822,1379.73 419.512,1379.37 426.202,1379 432.892,1378.64 439.582,1378.27 446.272,1377.91 452.963,1377.54 459.653,1377.18 466.343,1376.82 473.033,1376.46 479.723,1376.1 486.413,1375.74 493.103,1375.37 499.793,1375.02 506.484,1374.66 513.174,1374.3 519.864,1373.94 526.554,1373.58 533.244,1373.23 539.934,1372.87 546.624,1372.51 553.314,1372.16 560.005,1371.81 566.695,1371.45 573.385,1371.1 580.075,1370.75 586.765,1370.4 593.455,1370.05 600.145,1369.7 606.835,1369.35 613.525,1369 620.216,1368.65 626.906,1368.3 633.596,1367.95 640.286,1367.61 646.976,1367.26 653.666,1366.92 660.356,1366.57 667.046,1366.23 673.737,1365.89 680.427,1365.55 687.117,1365.21 693.807,1364.87 700.497,1364.53 707.187,1364.19 713.877,1363.85 720.567,1363.51 727.258,1363.18 733.948,1362.84 740.638,1362.5 747.328,1362.17 754.018,1361.84 760.708,1361.5 767.398,1361.17 774.088,1360.84 780.778,1360.51 787.469,1360.18 794.159,1359.85 800.849,1359.52 807.539,1359.2 814.229,1358.87 820.919,1358.55 827.609,1358.22 834.299,1357.9 840.99,1357.57 847.68,1357.25 854.37,1356.93 861.06,1356.61 867.75,1356.29 874.44,1355.97 881.13,1355.66 887.82,1355.34 894.511,1355.02 901.201,1354.71 907.891,1354.39 914.581,1354.08 921.271,1353.77 927.961,1353.45 934.651,1353.14 941.341,1352.83 948.031,1352.53 954.722,1352.22 961.412,1351.91 968.102,1351.6 974.792,1351.3 981.482,1350.99 988.172,1350.69 994.862,1350.39 1001.55,1350.09 1008.24,1349.79 1014.93,1349.49 1021.62,1349.19 1028.31,1348.89 1035,1348.59 1041.69,1348.3 1048.38,1348 1055.07,1347.71 1061.76,1347.41 1068.45,1347.12 1075.14,1346.83 1081.83,1346.54 1088.52,1346.25 1095.21,1345.96 1101.9,1345.68 1108.59,1345.39 1115.28,1345.1 1121.97,1344.82 1128.66,1344.54 1135.35,1344.26 1142.04,1343.97 1148.74,1343.69 1155.43,1343.41 1162.12,1343.14 1168.81,1342.86 1175.5,1342.58 1182.19,1342.31 1188.88,1342.03 1195.57,1341.76 1202.26,1341.49 1208.95,1341.22 1215.64,1340.95 1222.33,1340.68 1229.02,1340.41 1235.71,1340.14 1242.4,1339.87 1249.09,1339.61 1255.78,1339.34 1262.47,1339.08 1269.16,1338.82 1275.85,1338.56 1282.54,1338.3 1289.23,1338.04 1295.92,1337.78 1302.61,1337.52 1309.3,1337.27 1315.99,1337.01 1322.68,1336.76 1329.37,1336.5 1336.06,1336.25 1342.75,1336 1349.44,1335.75 1356.13,1335.5 1362.82,1335.25 1369.51,1335.01 1376.2,1334.76 1382.89,1334.51 1389.58,1334.27 1396.27,1334.03 1402.96,1333.78 1409.65,1333.54 1416.34,1333.3 1423.03,1333.06 1429.72,1332.82 1436.41,1332.59 1443.1,1332.35 1449.79,1332.12 1456.48,1331.88 1463.17,1331.65 1469.86,1331.41 1476.55,1331.18 1483.24,1330.95 1489.93,1330.72 1496.62,1330.49 1503.31,1330.27 1510,1330.04 1516.69,1329.81 1523.38,1329.59 1530.07,1329.36 1536.76,1329.14 1543.45,1328.92 1550.14,1328.7 1556.83,1328.48 1563.52,1328.26 1570.21,1328.04 1576.9,1327.82 1583.59,1327.6 1590.28,1327.39 1596.97,1327.17 1603.66,1326.96 1610.35,1326.74 1617.04,1326.53 1623.73,1326.32 1630.42,1326.11 1637.11,1325.9 1643.8,1325.69 1650.49,1325.48 1657.18,1325.28 1663.87,1325.07 1670.56,1324.86 1677.25,1324.66 1683.94,1324.46 1690.63,1324.25 1697.32,1324.05 1704.01,1323.85 1710.71,1323.65 1717.4,1323.45 1724.09,1323.25 1730.78,1323.05 1737.47,1322.86 1744.16,1322.66 1750.85,1322.46 1757.54,1322.27 1764.23,1322.08 1770.92,1321.88 1777.61,1321.69 1784.3,1321.5 1790.99,1321.31 1797.68,1321.12 1804.37,1320.93 1811.06,1320.74 1817.75,1320.56 1824.44,1320.37 1831.13,1320.18 1837.82,1320 1844.51,1319.81 1851.2,1319.63 1857.89,1319.45 1864.58,1319.27 1871.27,1319.09 1877.96,1318.91 1884.65,1318.73 1891.34,1318.55 1898.03,1318.37 1904.72,1318.2 1911.41,1318.02 1918.1,1317.84 1924.79,1317.67 1931.48,1317.5 1938.17,1317.32 1944.86,1317.15 1951.55,1316.98 1958.24,1316.81 1964.93,1316.64 1971.62,1316.47 1978.31,1316.31 1985,1316.14 1991.69,1315.97 1998.38,1315.81 2005.07,1315.64 2011.76,1315.48 2018.45,1315.32 2025.14,1315.16 2031.83,1315 2038.52,1314.84 2045.21,1314.68 2051.9,1314.52 2058.59,1314.36 2065.28,1314.21 2071.97,1314.05 2078.66,1313.9 2085.35,1313.74 2092.04,1313.59 2098.73,1313.44 2105.42,1313.29 2112.11,1313.14 2118.8,1312.99 2125.49,1312.85 2132.18,1312.7 2138.87,1312.55 2145.56,1312.41 2152.25,1312.27 2158.94,1312.12 2165.63,1311.98 2172.32,1311.84 2179.01,1311.71 2185.7,1311.57 2192.39,1311.43 2199.08,1311.3 2205.77,1311.16 2212.46,1311.03 2219.15,1310.9 2225.84,1310.76 2232.53,1310.63 2239.22,1310.51 2245.91,1310.38 2252.6,1310.25 2259.29,1310.13 2265.99,1310 2272.68,1309.88 2279.37,1309.75 2286.06,1309.63 2292.75,1309.51 \"/>\n",
       "<polyline clip-path=\"url(#clip282)\" style=\"stroke:#3da44d; stroke-linecap:round; stroke-linejoin:round; stroke-width:4; stroke-opacity:1; fill:none\" points=\"292.4,160.256 299.09,160.446 305.78,160.64 312.47,160.838 319.16,161.039 325.85,161.244 332.54,161.452 339.231,161.664 345.921,161.879 352.611,162.097 359.301,162.319 365.991,162.544 372.681,162.772 379.371,163.003 386.061,163.236 392.752,163.473 399.442,163.713 406.132,163.955 412.822,164.2 419.512,164.448 426.202,164.698 432.892,164.951 439.582,165.206 446.272,165.464 452.963,165.723 459.653,165.986 466.343,166.25 473.033,166.516 479.723,166.785 486.413,167.055 493.103,167.327 499.793,167.602 506.484,167.878 513.174,168.155 519.864,168.435 526.554,168.716 533.244,168.998 539.934,169.282 546.624,169.568 553.314,169.855 560.005,170.143 566.695,170.433 573.385,170.723 580.075,171.015 586.765,171.308 593.455,171.602 600.145,171.897 606.835,172.193 613.525,172.489 620.216,172.787 626.906,173.085 633.596,173.384 640.286,173.684 646.976,173.984 653.666,174.284 660.356,174.586 667.046,174.887 673.737,175.19 680.427,175.492 687.117,175.795 693.807,176.098 700.497,176.401 707.187,176.705 713.877,177.009 720.567,177.312 727.258,177.616 733.948,177.92 740.638,178.224 747.328,178.528 754.018,178.831 760.708,179.135 767.398,179.438 774.088,179.742 780.778,180.045 787.469,180.348 794.159,180.65 800.849,180.952 807.539,181.254 814.229,181.556 820.919,181.857 827.609,182.158 834.299,182.458 840.99,182.759 847.68,183.058 854.37,183.357 861.06,183.656 867.75,183.954 874.44,184.252 881.13,184.549 887.82,184.846 894.511,185.142 901.201,185.438 907.891,185.733 914.581,186.028 921.271,186.322 927.961,186.615 934.651,186.908 941.341,187.201 948.031,187.493 954.722,187.785 961.412,188.076 968.102,188.366 974.792,188.656 981.482,188.946 988.172,189.235 994.862,189.524 1001.55,189.812 1008.24,190.1 1014.93,190.388 1021.62,190.675 1028.31,190.962 1035,191.249 1041.69,191.535 1048.38,191.821 1055.07,192.107 1061.76,192.392 1068.45,192.678 1075.14,192.963 1081.83,193.248 1088.52,193.533 1095.21,193.818 1101.9,194.103 1108.59,194.388 1115.28,194.673 1121.97,194.958 1128.66,195.244 1135.35,195.529 1142.04,195.815 1148.74,196.1 1155.43,196.386 1162.12,196.673 1168.81,196.96 1175.5,197.247 1182.19,197.535 1188.88,197.823 1195.57,198.111 1202.26,198.4 1208.95,198.69 1215.64,198.981 1222.33,199.272 1229.02,199.564 1235.71,199.857 1242.4,200.15 1249.09,200.445 1255.78,200.74 1262.47,201.036 1269.16,201.334 1275.85,201.632 1282.54,201.932 1289.23,202.233 1295.92,202.535 1302.61,202.838 1309.3,203.142 1315.99,203.448 1322.68,203.755 1329.37,204.064 1336.06,204.374 1342.75,204.686 1349.44,204.999 1356.13,205.314 1362.82,205.63 1369.51,205.948 1376.2,206.268 1382.89,206.59 1389.58,206.913 1396.27,207.239 1402.96,207.566 1409.65,207.895 1416.34,208.227 1423.03,208.56 1429.72,208.895 1436.41,209.233 1443.1,209.573 1449.79,209.915 1456.48,210.259 1463.17,210.605 1469.86,210.954 1476.55,211.305 1483.24,211.658 1489.93,212.014 1496.62,212.372 1503.31,212.733 1510,213.096 1516.69,213.462 1523.38,213.831 1530.07,214.202 1536.76,214.576 1543.45,214.952 1550.14,215.331 1556.83,215.713 1563.52,216.098 1570.21,216.485 1576.9,216.876 1583.59,217.269 1590.28,217.665 1596.97,218.064 1603.66,218.466 1610.35,218.871 1617.04,219.279 1623.73,219.69 1630.42,220.104 1637.11,220.521 1643.8,220.941 1650.49,221.364 1657.18,221.79 1663.87,222.22 1670.56,222.652 1677.25,223.088 1683.94,223.527 1690.63,223.969 1697.32,224.415 1704.01,224.863 1710.71,225.315 1717.4,225.771 1724.09,226.229 1730.78,226.691 1737.47,227.156 1744.16,227.625 1750.85,228.097 1757.54,228.572 1764.23,229.05 1770.92,229.532 1777.61,230.017 1784.3,230.506 1790.99,230.998 1797.68,231.494 1804.37,231.992 1811.06,232.495 1817.75,233 1824.44,233.51 1831.13,234.022 1837.82,234.538 1844.51,235.057 1851.2,235.58 1857.89,236.106 1864.58,236.636 1871.27,237.169 1877.96,237.705 1884.65,238.245 1891.34,238.788 1898.03,239.335 1904.72,239.885 1911.41,240.439 1918.1,240.996 1924.79,241.556 1931.48,242.119 1938.17,242.686 1944.86,243.257 1951.55,243.83 1958.24,244.407 1964.93,244.987 1971.62,245.571 1978.31,246.158 1985,246.748 1991.69,247.341 1998.38,247.938 2005.07,248.538 2011.76,249.141 2018.45,249.747 2025.14,250.356 2031.83,250.969 2038.52,251.584 2045.21,252.203 2051.9,252.825 2058.59,253.45 2065.28,254.077 2071.97,254.708 2078.66,255.342 2085.35,255.978 2092.04,256.618 2098.73,257.26 2105.42,257.905 2112.11,258.553 2118.8,259.204 2125.49,259.857 2132.18,260.514 2138.87,261.172 2145.56,261.833 2152.25,262.497 2158.94,263.163 2165.63,263.832 2172.32,264.503 2179.01,265.177 2185.7,265.852 2192.39,266.53 2199.08,267.21 2205.77,267.892 2212.46,268.576 2219.15,269.263 2225.84,269.951 2232.53,270.641 2239.22,271.332 2245.91,272.026 2252.6,272.721 2259.29,273.417 2265.99,274.115 2272.68,274.815 2279.37,275.516 2286.06,276.218 2292.75,276.922 \"/>\n",
       "<path clip-path=\"url(#clip280)\" d=\"M2027.42 374.156 L2282.08 374.156 L2282.08 166.796 L2027.42 166.796  Z\" fill=\"#ffffff\" fill-rule=\"evenodd\" fill-opacity=\"1\"/>\n",
       "<polyline clip-path=\"url(#clip280)\" style=\"stroke:#000000; stroke-linecap:round; stroke-linejoin:round; stroke-width:4; stroke-opacity:1; fill:none\" points=\"2027.42,374.156 2282.08,374.156 2282.08,166.796 2027.42,166.796 2027.42,374.156 \"/>\n",
       "<polyline clip-path=\"url(#clip280)\" style=\"stroke:#009af9; stroke-linecap:round; stroke-linejoin:round; stroke-width:4; stroke-opacity:1; fill:none\" points=\"2050.98,218.636 2192.34,218.636 \"/>\n",
       "<path clip-path=\"url(#clip280)\" d=\"M2215.9 225.684 L2215.9 209.99 L2220.16 209.99 L2220.16 225.522 Q2220.16 229.203 2221.6 231.055 Q2223.03 232.883 2225.9 232.883 Q2229.35 232.883 2231.34 230.684 Q2233.36 228.485 2233.36 224.689 L2233.36 209.99 L2237.61 209.99 L2237.61 235.916 L2233.36 235.916 L2233.36 231.934 Q2231.8 234.295 2229.74 235.453 Q2227.71 236.587 2225 236.587 Q2220.53 236.587 2218.22 233.809 Q2215.9 231.031 2215.9 225.684 M2226.62 209.365 L2226.62 209.365 Z\" fill=\"#000000\" fill-rule=\"evenodd\" fill-opacity=\"1\" /><path clip-path=\"url(#clip280)\" d=\"M2245.53 233.369 L2250.25 233.369 L2250.25 219.226 L2245.09 220.175 L2245.09 217.49 L2250.42 216.587 L2253.59 216.587 L2253.59 233.369 L2258.33 233.369 L2258.33 235.916 L2245.53 235.916 L2245.53 233.369 Z\" fill=\"#000000\" fill-rule=\"evenodd\" fill-opacity=\"1\" /><polyline clip-path=\"url(#clip280)\" style=\"stroke:#e26f46; stroke-linecap:round; stroke-linejoin:round; stroke-width:4; stroke-opacity:1; fill:none\" points=\"2050.98,270.476 2192.34,270.476 \"/>\n",
       "<path clip-path=\"url(#clip280)\" d=\"M2215.9 277.524 L2215.9 261.83 L2220.16 261.83 L2220.16 277.362 Q2220.16 281.043 2221.6 282.895 Q2223.03 284.723 2225.9 284.723 Q2229.35 284.723 2231.34 282.524 Q2233.36 280.325 2233.36 276.529 L2233.36 261.83 L2237.61 261.83 L2237.61 287.756 L2233.36 287.756 L2233.36 283.774 Q2231.8 286.135 2229.74 287.293 Q2227.71 288.427 2225 288.427 Q2220.53 288.427 2218.22 285.649 Q2215.9 282.871 2215.9 277.524 M2226.62 261.205 L2226.62 261.205 Z\" fill=\"#000000\" fill-rule=\"evenodd\" fill-opacity=\"1\" /><path clip-path=\"url(#clip280)\" d=\"M2248.12 285.117 L2257.94 285.117 L2257.94 287.756 L2244.1 287.756 L2244.1 285.209 Q2244.88 284.492 2246.34 283.196 Q2254.3 276.135 2254.3 273.959 Q2254.3 272.432 2253.1 271.506 Q2251.9 270.557 2249.93 270.557 Q2248.73 270.557 2247.31 270.973 Q2245.9 271.367 2244.24 272.177 L2244.24 269.33 Q2246.02 268.682 2247.55 268.358 Q2249.1 268.034 2250.42 268.034 Q2253.77 268.034 2255.79 269.561 Q2257.8 271.089 2257.8 273.589 Q2257.8 276.807 2250.14 283.381 Q2248.84 284.492 2248.12 285.117 Z\" fill=\"#000000\" fill-rule=\"evenodd\" fill-opacity=\"1\" /><polyline clip-path=\"url(#clip280)\" style=\"stroke:#3da44d; stroke-linecap:round; stroke-linejoin:round; stroke-width:4; stroke-opacity:1; fill:none\" points=\"2050.98,322.316 2192.34,322.316 \"/>\n",
       "<path clip-path=\"url(#clip280)\" d=\"M2215.9 329.364 L2215.9 313.67 L2220.16 313.67 L2220.16 329.202 Q2220.16 332.883 2221.6 334.735 Q2223.03 336.563 2225.9 336.563 Q2229.35 336.563 2231.34 334.364 Q2233.36 332.165 2233.36 328.369 L2233.36 313.67 L2237.61 313.67 L2237.61 339.596 L2233.36 339.596 L2233.36 335.614 Q2231.8 337.975 2229.74 339.133 Q2227.71 340.267 2225 340.267 Q2220.53 340.267 2218.22 337.489 Q2215.9 334.711 2215.9 329.364 M2226.62 313.045 L2226.62 313.045 Z\" fill=\"#000000\" fill-rule=\"evenodd\" fill-opacity=\"1\" /><path clip-path=\"url(#clip280)\" d=\"M2254.05 329.133 Q2256.18 329.549 2257.34 330.823 Q2258.52 332.073 2258.52 333.971 Q2258.52 336.841 2256.32 338.392 Q2254.12 339.943 2250.02 339.943 Q2248.7 339.943 2247.24 339.688 Q2245.81 339.457 2244.19 338.994 L2244.19 336.193 Q2245.39 336.818 2246.76 337.119 Q2248.15 337.42 2249.7 337.42 Q2252.22 337.42 2253.61 336.517 Q2255 335.591 2255 333.971 Q2255 332.258 2253.7 331.378 Q2252.43 330.499 2249.93 330.499 L2247.94 330.499 L2247.94 327.999 L2250.11 327.999 Q2252.29 327.999 2253.4 327.281 Q2254.54 326.54 2254.54 325.151 Q2254.54 323.809 2253.38 323.114 Q2252.22 322.397 2250.02 322.397 Q2249.1 322.397 2247.92 322.605 Q2246.74 322.813 2244.86 323.346 L2244.86 320.684 Q2246.55 320.29 2248.03 320.082 Q2249.51 319.874 2250.79 319.874 Q2254.12 319.874 2256.06 321.239 Q2258.03 322.605 2258.03 324.897 Q2258.03 326.494 2256.99 327.605 Q2255.95 328.716 2254.05 329.133 Z\" fill=\"#000000\" fill-rule=\"evenodd\" fill-opacity=\"1\" /></svg>\n"
      ]
     },
     "metadata": {},
     "output_type": "display_data"
    }
   ],
   "source": [
    "# Let's solve\n",
    "\n",
    "nx = 6\n",
    "nu = 3\n",
    "N = 301\n",
    "dt = 0.05\n",
    "t_vec = dt*(0:N-1)\n",
    "x0 = [4, 2, 20, -3, 2, -5.0]\n",
    "xg = [0,0,0,0,0,0.0]\n",
    "Xref = [deepcopy(xg) for i = 1:N]\n",
    "Uref = [zeros(nu) for i = 1:N-1]\n",
    "\n",
    "Q = 1e-1*I(nx)\n",
    "R = 1e-0*I(nu)\n",
    "Qf = 100*I(nx)\n",
    "\n",
    "# ground_level = 0.0\n",
    "gravity = [0; 0; -9.81]\n",
    "mass = 10.0\n",
    "# ωPlanet = [0.0; 0.0; 0.0]\n",
    "perWeightMax = 2.0\n",
    "θ_thrust_max = 5.0  # deg\n",
    "# θ_glideslope = 60.0 # deg\n",
    "# glide_recover_k = 8\n",
    "\n",
    "A_cone = [1 0 0; 0 1 0]\n",
    "c_cone = [0.0, 0.0, tand(θ_thrust_max)]\n",
    "u_bnd = mass * abs(gravity[3]) * perWeightMax\n",
    "u_min = -170*ones(nu)\n",
    "u_max =  170*ones(nu)\n",
    "\n",
    "# state is x y v θ\n",
    "x_min = [-5,-5,0,-10,-10,-10.0]\n",
    "x_max = [5,5,20,10,10,10.0]\n",
    "\n",
    "ncx = 2*nx*0\n",
    "ncu = 2*nu*0\n",
    "ncg = 1\n",
    "ncu_cone = nu*1; \n",
    "cone_scale = 100  # very fragile for each problem\n",
    "\n",
    "params = (\n",
    "    nx = nx,\n",
    "    nu = nu,\n",
    "    ncx = ncx,\n",
    "    ncu = ncu,\n",
    "    ncg = ncg,\n",
    "    ncu_cone = ncu_cone,\n",
    "    A_cone = A_cone,\n",
    "    c_cone = c_cone,\n",
    "    N = N,\n",
    "    Q = Q,\n",
    "    R = R,\n",
    "    Qf = Qf,\n",
    "    u_min = u_min,\n",
    "    u_max = u_max,\n",
    "    x_min = x_min,\n",
    "    x_max = x_max,\n",
    "    Xref = Xref,\n",
    "    Uref = Uref,\n",
    "    dt = dt,\n",
    "    mc = 1.0,\n",
    "    mp = 0.2,\n",
    "    l = 0.5,\n",
    "    g = 9.81,\n",
    ");\n",
    "\n",
    "# previous iterate\n",
    "X = [deepcopy(x0) for i = 1:N]\n",
    "U = [-mass * gravity for k = 1:N-1]\n",
    "\n",
    "# new iterate\n",
    "Xn = deepcopy(X)\n",
    "Un = deepcopy(U)\n",
    "\n",
    "P = [zeros(nx,nx) for i = 1:N]   # cost to go quadratic term\n",
    "p = [zeros(nx) for i = 1:N]      # cost to go linear term\n",
    "d = [zeros(nu) for i = 1:N-1]    # feedforward control\n",
    "K = [zeros(nu,nx) for i = 1:N-1] # feedback gain\n",
    "u_ = mpc(params,X,U,P,p,K,d,Xn,Un; atol=1e-4, max_iters = 20, verbose = true, ρ = 1e0, ϕ = 10.0);\n",
    "function mat_from_vec(X::Vector{Vector{Float64}})::Matrix\n",
    "    # convert a vector of vectors to a matrix \n",
    "    Xm = hcat(X...)\n",
    "    return Xm \n",
    "end\n",
    "Xsim_m = mat_from_vec(Xn)\n",
    "Usim_m = mat_from_vec(Un)\n",
    "using Plots\n",
    "display(plot(t_vec,Xsim_m',label = [\"x₁\" \"x₂\" \"x₃\" \"ẋ₁\" \"ẋ₂\" \"ẋ₃\"],linestyle=[:solid :solid :solid :dash :dash :dash],\n",
    "             title = \"State History\",\n",
    "             xlabel = \"time (s)\", ylabel = \"x\"))\n",
    "display(plot(t_vec[1:end-1],Usim_m',label = [\"u₁\" \"u₂\" \"u₃\"],\n",
    "             title = \"Input History\",\n",
    "             xlabel = \"time (s)\", ylabel = \"u\"))"
   ]
  },
  {
   "cell_type": "markdown",
   "id": "416df651-52ee-4c43-93e5-aca23c5630b2",
   "metadata": {},
   "source": [
    "For TrajOpt, it needs more tricks to get better results:\n",
    "- Hessian of the projection => better approximation\n",
    "- Scaling between conic constraints and other ones\n",
    "- Solution polishing"
   ]
  },
  {
   "cell_type": "code",
   "execution_count": 537,
   "id": "12ec6530-7479-455f-843a-81d2c40fb13a",
   "metadata": {},
   "outputs": [
    {
     "data": {
      "text/plain": [
       "-0.3427580357469697"
      ]
     },
     "metadata": {},
     "output_type": "display_data"
    },
    {
     "data": {
      "text/plain": [
       "-0.38432830183102595"
      ]
     },
     "metadata": {},
     "output_type": "display_data"
    },
    {
     "data": {
      "text/plain": [
       "-0.4258564136441674"
      ]
     },
     "metadata": {},
     "output_type": "display_data"
    },
    {
     "data": {
      "text/plain": [
       "-0.4673429191025047"
      ]
     },
     "metadata": {},
     "output_type": "display_data"
    },
    {
     "data": {
      "text/plain": [
       "-0.5087883632074828"
      ]
     },
     "metadata": {},
     "output_type": "display_data"
    },
    {
     "data": {
      "text/plain": [
       "-0.5501932881030438"
      ]
     },
     "metadata": {},
     "output_type": "display_data"
    },
    {
     "data": {
      "text/plain": [
       "-0.5915582331328562"
      ]
     },
     "metadata": {},
     "output_type": "display_data"
    },
    {
     "data": {
      "text/plain": [
       "-0.6328837348976588"
      ]
     },
     "metadata": {},
     "output_type": "display_data"
    },
    {
     "data": {
      "text/plain": [
       "-0.6741703273126181"
      ]
     },
     "metadata": {},
     "output_type": "display_data"
    },
    {
     "data": {
      "text/plain": [
       "-0.7154185416647358"
      ]
     },
     "metadata": {},
     "output_type": "display_data"
    },
    {
     "data": {
      "text/plain": [
       "-0.7566289066702225"
      ]
     },
     "metadata": {},
     "output_type": "display_data"
    },
    {
     "data": {
      "text/plain": [
       "-0.7978019485318342"
      ]
     },
     "metadata": {},
     "output_type": "display_data"
    },
    {
     "data": {
      "text/plain": [
       "-0.8389381909961333"
      ]
     },
     "metadata": {},
     "output_type": "display_data"
    },
    {
     "data": {
      "text/plain": [
       "-0.8800381554107108"
      ]
     },
     "metadata": {},
     "output_type": "display_data"
    },
    {
     "data": {
      "text/plain": [
       "-0.9211023607811395"
      ]
     },
     "metadata": {},
     "output_type": "display_data"
    },
    {
     "data": {
      "text/plain": [
       "-0.9621313238279612"
      ]
     },
     "metadata": {},
     "output_type": "display_data"
    },
    {
     "data": {
      "text/plain": [
       "-1.0031255590433314"
      ]
     },
     "metadata": {},
     "output_type": "display_data"
    },
    {
     "data": {
      "text/plain": [
       "-1.044085578747497"
      ]
     },
     "metadata": {},
     "output_type": "display_data"
    },
    {
     "data": {
      "text/plain": [
       "-1.0850118931451274"
      ]
     },
     "metadata": {},
     "output_type": "display_data"
    },
    {
     "data": {
      "text/plain": [
       "-1.1259050103812083"
      ]
     },
     "metadata": {},
     "output_type": "display_data"
    },
    {
     "data": {
      "text/plain": [
       "-1.1667654365967746"
      ]
     },
     "metadata": {},
     "output_type": "display_data"
    },
    {
     "data": {
      "text/plain": [
       "-1.2075936759842287"
      ]
     },
     "metadata": {},
     "output_type": "display_data"
    },
    {
     "data": {
      "text/plain": [
       "-1.2483902308423938"
      ]
     },
     "metadata": {},
     "output_type": "display_data"
    },
    {
     "data": {
      "text/plain": [
       "-1.2891556016310988"
      ]
     },
     "metadata": {},
     "output_type": "display_data"
    },
    {
     "data": {
      "text/plain": [
       "-1.3298902870254148"
      ]
     },
     "metadata": {},
     "output_type": "display_data"
    },
    {
     "data": {
      "text/plain": [
       "-1.370594783969378"
      ]
     },
     "metadata": {},
     "output_type": "display_data"
    },
    {
     "data": {
      "text/plain": [
       "-1.4112695877293477"
      ]
     },
     "metadata": {},
     "output_type": "display_data"
    },
    {
     "data": {
      "text/plain": [
       "-1.4519151919468243"
      ]
     },
     "metadata": {},
     "output_type": "display_data"
    },
    {
     "data": {
      "text/plain": [
       "-1.4925320886906714"
      ]
     },
     "metadata": {},
     "output_type": "display_data"
    },
    {
     "data": {
      "text/plain": [
       "-1.533120768508918"
      ]
     },
     "metadata": {},
     "output_type": "display_data"
    },
    {
     "data": {
      "text/plain": [
       "-1.5736817204798887"
      ]
     },
     "metadata": {},
     "output_type": "display_data"
    },
    {
     "data": {
      "text/plain": [
       "-1.6142154322627587"
      ]
     },
     "metadata": {},
     "output_type": "display_data"
    },
    {
     "data": {
      "text/plain": [
       "-1.6547223901474641"
      ]
     },
     "metadata": {},
     "output_type": "display_data"
    },
    {
     "data": {
      "text/plain": [
       "-1.6952030791039725"
      ]
     },
     "metadata": {},
     "output_type": "display_data"
    },
    {
     "data": {
      "text/plain": [
       "-1.7356579828308059"
      ]
     },
     "metadata": {},
     "output_type": "display_data"
    },
    {
     "data": {
      "text/plain": [
       "-1.776087583802898"
      ]
     },
     "metadata": {},
     "output_type": "display_data"
    },
    {
     "data": {
      "text/plain": [
       "-1.8164923633186776"
      ]
     },
     "metadata": {},
     "output_type": "display_data"
    },
    {
     "data": {
      "text/plain": [
       "-1.8568728015463645"
      ]
     },
     "metadata": {},
     "output_type": "display_data"
    },
    {
     "data": {
      "text/plain": [
       "-1.8972293775694542"
      ]
     },
     "metadata": {},
     "output_type": "display_data"
    },
    {
     "data": {
      "text/plain": [
       "-1.9375625694314182"
      ]
     },
     "metadata": {},
     "output_type": "display_data"
    },
    {
     "data": {
      "text/plain": [
       "-1.9778728541794006"
      ]
     },
     "metadata": {},
     "output_type": "display_data"
    },
    {
     "data": {
      "text/plain": [
       "-2.018160707907187"
      ]
     },
     "metadata": {},
     "output_type": "display_data"
    },
    {
     "data": {
      "text/plain": [
       "-2.0584266057971137"
      ]
     },
     "metadata": {},
     "output_type": "display_data"
    },
    {
     "data": {
      "text/plain": [
       "-2.098671022161076"
      ]
     },
     "metadata": {},
     "output_type": "display_data"
    },
    {
     "data": {
      "text/plain": [
       "-2.1388944304805255"
      ]
     },
     "metadata": {},
     "output_type": "display_data"
    },
    {
     "data": {
      "text/plain": [
       "-2.179097303445439"
      ]
     },
     "metadata": {},
     "output_type": "display_data"
    },
    {
     "data": {
      "text/plain": [
       "-2.2192801129922515"
      ]
     },
     "metadata": {},
     "output_type": "display_data"
    },
    {
     "data": {
      "text/plain": [
       "-2.259443330340667"
      ]
     },
     "metadata": {},
     "output_type": "display_data"
    },
    {
     "data": {
      "text/plain": [
       "-2.2995874260293823"
      ]
     },
     "metadata": {},
     "output_type": "display_data"
    },
    {
     "data": {
      "text/plain": [
       "-2.3397128699506435"
      ]
     },
     "metadata": {},
     "output_type": "display_data"
    },
    {
     "data": {
      "text/plain": [
       "-2.379820131383595"
      ]
     },
     "metadata": {},
     "output_type": "display_data"
    },
    {
     "data": {
      "text/plain": [
       "-2.419909679026391"
      ]
     },
     "metadata": {},
     "output_type": "display_data"
    },
    {
     "data": {
      "text/plain": [
       "-2.4599819810271226"
      ]
     },
     "metadata": {},
     "output_type": "display_data"
    },
    {
     "data": {
      "text/plain": [
       "-2.500037505013351"
      ]
     },
     "metadata": {},
     "output_type": "display_data"
    },
    {
     "data": {
      "text/plain": [
       "-2.540076718120355"
      ]
     },
     "metadata": {},
     "output_type": "display_data"
    },
    {
     "data": {
      "text/plain": [
       "-2.580100087018007"
      ]
     },
     "metadata": {},
     "output_type": "display_data"
    },
    {
     "data": {
      "text/plain": [
       "-2.62010807793619"
      ]
     },
     "metadata": {},
     "output_type": "display_data"
    },
    {
     "data": {
      "text/plain": [
       "-2.6601011566888237"
      ]
     },
     "metadata": {},
     "output_type": "display_data"
    },
    {
     "data": {
      "text/plain": [
       "-2.700079788696357"
      ]
     },
     "metadata": {},
     "output_type": "display_data"
    },
    {
     "data": {
      "text/plain": [
       "-2.740044439006696"
      ]
     },
     "metadata": {},
     "output_type": "display_data"
    },
    {
     "data": {
      "text/plain": [
       "-2.779995572314637"
      ]
     },
     "metadata": {},
     "output_type": "display_data"
    },
    {
     "data": {
      "text/plain": [
       "-2.819933652979545"
      ]
     },
     "metadata": {},
     "output_type": "display_data"
    },
    {
     "data": {
      "text/plain": [
       "-2.8598591450414714"
      ]
     },
     "metadata": {},
     "output_type": "display_data"
    },
    {
     "data": {
      "text/plain": [
       "-2.8997725122354643"
      ]
     },
     "metadata": {},
     "output_type": "display_data"
    },
    {
     "data": {
      "text/plain": [
       "-2.939674218004151"
      ]
     },
     "metadata": {},
     "output_type": "display_data"
    },
    {
     "data": {
      "text/plain": [
       "-2.979564725508478"
      ]
     },
     "metadata": {},
     "output_type": "display_data"
    },
    {
     "data": {
      "text/plain": [
       "-3.0194444976365515"
      ]
     },
     "metadata": {},
     "output_type": "display_data"
    },
    {
     "data": {
      "text/plain": [
       "-3.0593139970105456"
      ]
     },
     "metadata": {},
     "output_type": "display_data"
    },
    {
     "data": {
      "text/plain": [
       "-3.099173685991631"
      ]
     },
     "metadata": {},
     "output_type": "display_data"
    },
    {
     "data": {
      "text/plain": [
       "-3.139024026682822"
      ]
     },
     "metadata": {},
     "output_type": "display_data"
    },
    {
     "data": {
      "text/plain": [
       "-3.178865480929689"
      ]
     },
     "metadata": {},
     "output_type": "display_data"
    },
    {
     "data": {
      "text/plain": [
       "-3.218698510318892"
      ]
     },
     "metadata": {},
     "output_type": "display_data"
    },
    {
     "data": {
      "text/plain": [
       "-3.2585235761744737"
      ]
     },
     "metadata": {},
     "output_type": "display_data"
    },
    {
     "data": {
      "text/plain": [
       "-3.298341139551747"
      ]
     },
     "metadata": {},
     "output_type": "display_data"
    },
    {
     "data": {
      "text/plain": [
       "-3.3381516612288484"
      ]
     },
     "metadata": {},
     "output_type": "display_data"
    },
    {
     "data": {
      "text/plain": [
       "-3.3779556016957395"
      ]
     },
     "metadata": {},
     "output_type": "display_data"
    },
    {
     "data": {
      "text/plain": [
       "-3.4177534211406355"
      ]
     },
     "metadata": {},
     "output_type": "display_data"
    },
    {
     "data": {
      "text/plain": [
       "-3.457545579433786"
      ]
     },
     "metadata": {},
     "output_type": "display_data"
    },
    {
     "data": {
      "text/plain": [
       "-3.497332536108475"
      ]
     },
     "metadata": {},
     "output_type": "display_data"
    },
    {
     "data": {
      "text/plain": [
       "-3.537114750339123"
      ]
     },
     "metadata": {},
     "output_type": "display_data"
    },
    {
     "data": {
      "text/plain": [
       "-3.5768926809164983"
      ]
     },
     "metadata": {},
     "output_type": "display_data"
    },
    {
     "data": {
      "text/plain": [
       "-3.6166667862197563"
      ]
     },
     "metadata": {},
     "output_type": "display_data"
    },
    {
     "data": {
      "text/plain": [
       "-3.656437524185324"
      ]
     },
     "metadata": {},
     "output_type": "display_data"
    },
    {
     "data": {
      "text/plain": [
       "-3.6962053522724654"
      ]
     },
     "metadata": {},
     "output_type": "display_data"
    },
    {
     "data": {
      "text/plain": [
       "-3.7359707274253617"
      ]
     },
     "metadata": {},
     "output_type": "display_data"
    },
    {
     "data": {
      "text/plain": [
       "-3.7757341060316154"
      ]
     },
     "metadata": {},
     "output_type": "display_data"
    },
    {
     "data": {
      "text/plain": [
       "-3.815495943876992"
      ]
     },
     "metadata": {},
     "output_type": "display_data"
    },
    {
     "data": {
      "text/plain": [
       "-3.855256696096286"
      ]
     },
     "metadata": {},
     "output_type": "display_data"
    },
    {
     "data": {
      "text/plain": [
       "-3.8950168171200676"
      ]
     },
     "metadata": {},
     "output_type": "display_data"
    },
    {
     "data": {
      "text/plain": [
       "-3.934776760617231"
      ]
     },
     "metadata": {},
     "output_type": "display_data"
    },
    {
     "data": {
      "text/plain": [
       "-3.9745369794330623"
      ]
     },
     "metadata": {},
     "output_type": "display_data"
    },
    {
     "data": {
      "text/plain": [
       "-4.014297925522684"
      ]
     },
     "metadata": {},
     "output_type": "display_data"
    },
    {
     "data": {
      "text/plain": [
       "-4.054060049879619"
      ]
     },
     "metadata": {},
     "output_type": "display_data"
    },
    {
     "data": {
      "text/plain": [
       "-4.093823802459285"
      ]
     },
     "metadata": {},
     "output_type": "display_data"
    },
    {
     "data": {
      "text/plain": [
       "-4.133589632097128"
      ]
     },
     "metadata": {},
     "output_type": "display_data"
    },
    {
     "data": {
      "text/plain": [
       "-4.173357986421163"
      ]
     },
     "metadata": {},
     "output_type": "display_data"
    },
    {
     "data": {
      "text/plain": [
       "-4.213129311758638"
      ]
     },
     "metadata": {},
     "output_type": "display_data"
    },
    {
     "data": {
      "text/plain": [
       "-4.252904053036487"
      ]
     },
     "metadata": {},
     "output_type": "display_data"
    },
    {
     "data": {
      "text/plain": [
       "-4.292682653675245"
      ]
     },
     "metadata": {},
     "output_type": "display_data"
    },
    {
     "data": {
      "text/plain": [
       "-4.332465555476176"
      ]
     },
     "metadata": {},
     "output_type": "display_data"
    },
    {
     "data": {
      "text/plain": [
       "-4.372253198501072"
      ]
     },
     "metadata": {},
     "output_type": "display_data"
    },
    {
     "data": {
      "text/plain": [
       "-4.4120460209444765"
      ]
     },
     "metadata": {},
     "output_type": "display_data"
    },
    {
     "data": {
      "text/plain": [
       "-4.451844458997779"
      ]
     },
     "metadata": {},
     "output_type": "display_data"
    },
    {
     "data": {
      "text/plain": [
       "-4.491648946704824"
      ]
     },
     "metadata": {},
     "output_type": "display_data"
    },
    {
     "data": {
      "text/plain": [
       "-4.531459915808418"
      ]
     },
     "metadata": {},
     "output_type": "display_data"
    },
    {
     "data": {
      "text/plain": [
       "-4.571277795587316"
      ]
     },
     "metadata": {},
     "output_type": "display_data"
    },
    {
     "data": {
      "text/plain": [
       "-4.611103012682959"
      ]
     },
     "metadata": {},
     "output_type": "display_data"
    },
    {
     "data": {
      "text/plain": [
       "-4.65093599091548"
      ]
     },
     "metadata": {},
     "output_type": "display_data"
    },
    {
     "data": {
      "text/plain": [
       "-4.690777151088222"
      ]
     },
     "metadata": {},
     "output_type": "display_data"
    },
    {
     "data": {
      "text/plain": [
       "-4.7306269107799865"
      ]
     },
     "metadata": {},
     "output_type": "display_data"
    },
    {
     "data": {
      "text/plain": [
       "-4.770485684124333"
      ]
     },
     "metadata": {},
     "output_type": "display_data"
    },
    {
     "data": {
      "text/plain": [
       "-4.810353881574932"
      ]
     },
     "metadata": {},
     "output_type": "display_data"
    },
    {
     "data": {
      "text/plain": [
       "-4.85023190965616"
      ]
     },
     "metadata": {},
     "output_type": "display_data"
    },
    {
     "data": {
      "text/plain": [
       "-4.890120170697848"
      ]
     },
     "metadata": {},
     "output_type": "display_data"
    },
    {
     "data": {
      "text/plain": [
       "-4.930019062553022"
      ]
     },
     "metadata": {},
     "output_type": "display_data"
    },
    {
     "data": {
      "text/plain": [
       "-4.969928978297621"
      ]
     },
     "metadata": {},
     "output_type": "display_data"
    },
    {
     "data": {
      "text/plain": [
       "-5.009850305910682"
      ]
     },
     "metadata": {},
     "output_type": "display_data"
    },
    {
     "data": {
      "text/plain": [
       "-5.049783427933672"
      ]
     },
     "metadata": {},
     "output_type": "display_data"
    },
    {
     "data": {
      "text/plain": [
       "-5.0897287211074165"
      ]
     },
     "metadata": {},
     "output_type": "display_data"
    },
    {
     "data": {
      "text/plain": [
       "-5.129686555984929"
      ]
     },
     "metadata": {},
     "output_type": "display_data"
    },
    {
     "data": {
      "text/plain": [
       "-5.169657296518234"
      ]
     },
     "metadata": {},
     "output_type": "display_data"
    },
    {
     "data": {
      "text/plain": [
       "-5.209641299617221"
      ]
     },
     "metadata": {},
     "output_type": "display_data"
    },
    {
     "data": {
      "text/plain": [
       "-5.249638914678364"
      ]
     },
     "metadata": {},
     "output_type": "display_data"
    },
    {
     "data": {
      "text/plain": [
       "-5.289650483080719"
      ]
     },
     "metadata": {},
     "output_type": "display_data"
    },
    {
     "data": {
      "text/plain": [
       "-5.329676337646756"
      ]
     },
     "metadata": {},
     "output_type": "display_data"
    },
    {
     "data": {
      "text/plain": [
       "-5.36971680206493"
      ]
     },
     "metadata": {},
     "output_type": "display_data"
    },
    {
     "data": {
      "text/plain": [
       "-5.409772190270884"
      ]
     },
     "metadata": {},
     "output_type": "display_data"
    },
    {
     "data": {
      "text/plain": [
       "-5.449842805783738"
      ]
     },
     "metadata": {},
     "output_type": "display_data"
    },
    {
     "data": {
      "text/plain": [
       "-5.489928940993558"
      ]
     },
     "metadata": {},
     "output_type": "display_data"
    },
    {
     "data": {
      "text/plain": [
       "-5.530030876395747"
      ]
     },
     "metadata": {},
     "output_type": "display_data"
    },
    {
     "data": {
      "text/plain": [
       "-5.570148879767647"
      ]
     },
     "metadata": {},
     "output_type": "display_data"
    },
    {
     "data": {
      "text/plain": [
       "-5.610283205282045"
      ]
     },
     "metadata": {},
     "output_type": "display_data"
    },
    {
     "data": {
      "text/plain": [
       "-5.65043409255193"
      ]
     },
     "metadata": {},
     "output_type": "display_data"
    },
    {
     "data": {
      "text/plain": [
       "-5.690601765599947"
      ]
     },
     "metadata": {},
     "output_type": "display_data"
    },
    {
     "data": {
      "text/plain": [
       "-5.73078643174556"
      ]
     },
     "metadata": {},
     "output_type": "display_data"
    },
    {
     "data": {
      "text/plain": [
       "-5.770988280401943"
      ]
     },
     "metadata": {},
     "output_type": "display_data"
    },
    {
     "data": {
      "text/plain": [
       "-5.811207481773855"
      ]
     },
     "metadata": {},
     "output_type": "display_data"
    },
    {
     "data": {
      "text/plain": [
       "-5.851444185446677"
      ]
     },
     "metadata": {},
     "output_type": "display_data"
    },
    {
     "data": {
      "text/plain": [
       "-5.891698518855705"
      ]
     },
     "metadata": {},
     "output_type": "display_data"
    },
    {
     "data": {
      "text/plain": [
       "-5.931970585623449"
      ]
     },
     "metadata": {},
     "output_type": "display_data"
    },
    {
     "data": {
      "text/plain": [
       "-5.972260463751373"
      ]
     },
     "metadata": {},
     "output_type": "display_data"
    },
    {
     "data": {
      "text/plain": [
       "-6.012568203650593"
      ]
     },
     "metadata": {},
     "output_type": "display_data"
    },
    {
     "data": {
      "text/plain": [
       "-6.0528938259945395"
      ]
     },
     "metadata": {},
     "output_type": "display_data"
    },
    {
     "data": {
      "text/plain": [
       "-6.093237319374104"
      ]
     },
     "metadata": {},
     "output_type": "display_data"
    },
    {
     "data": {
      "text/plain": [
       "-6.133598637733552"
      ]
     },
     "metadata": {},
     "output_type": "display_data"
    },
    {
     "data": {
      "text/plain": [
       "-6.173977697562648"
      ]
     },
     "metadata": {},
     "output_type": "display_data"
    },
    {
     "data": {
      "text/plain": [
       "-6.2143743748172"
      ]
     },
     "metadata": {},
     "output_type": "display_data"
    },
    {
     "data": {
      "text/plain": [
       "-6.2547885015366"
      ]
     },
     "metadata": {},
     "output_type": "display_data"
    },
    {
     "data": {
      "text/plain": [
       "-6.295219862122682"
      ]
     },
     "metadata": {},
     "output_type": "display_data"
    },
    {
     "data": {
      "text/plain": [
       "-6.33566818923935"
      ]
     },
     "metadata": {},
     "output_type": "display_data"
    },
    {
     "data": {
      "text/plain": [
       "-6.376133159286825"
      ]
     },
     "metadata": {},
     "output_type": "display_data"
    },
    {
     "data": {
      "text/plain": [
       "-6.4166143873977335"
      ]
     },
     "metadata": {},
     "output_type": "display_data"
    },
    {
     "data": {
      "text/plain": [
       "-6.457111421894902"
      ]
     },
     "metadata": {},
     "output_type": "display_data"
    },
    {
     "data": {
      "text/plain": [
       "-6.4976237381415896"
      ]
     },
     "metadata": {},
     "output_type": "display_data"
    },
    {
     "data": {
      "text/plain": [
       "-6.538150731704949"
      ]
     },
     "metadata": {},
     "output_type": "display_data"
    },
    {
     "data": {
      "text/plain": [
       "-6.5786917107412854"
      ]
     },
     "metadata": {},
     "output_type": "display_data"
    },
    {
     "data": {
      "text/plain": [
       "-6.6192458874975895"
      ]
     },
     "metadata": {},
     "output_type": "display_data"
    },
    {
     "data": {
      "text/plain": [
       "-6.659812368807448"
      ]
     },
     "metadata": {},
     "output_type": "display_data"
    },
    {
     "data": {
      "text/plain": [
       "-6.700390145439657"
      ]
     },
     "metadata": {},
     "output_type": "display_data"
    },
    {
     "data": {
      "text/plain": [
       "-6.7409780801350205"
      ]
     },
     "metadata": {},
     "output_type": "display_data"
    },
    {
     "data": {
      "text/plain": [
       "-6.7815748941394"
      ]
     },
     "metadata": {},
     "output_type": "display_data"
    },
    {
     "data": {
      "text/plain": [
       "-6.822179152008424"
      ]
     },
     "metadata": {},
     "output_type": "display_data"
    },
    {
     "data": {
      "text/plain": [
       "-6.862789244420846"
      ]
     },
     "metadata": {},
     "output_type": "display_data"
    },
    {
     "data": {
      "text/plain": [
       "-6.903403368690653"
      ]
     },
     "metadata": {},
     "output_type": "display_data"
    },
    {
     "data": {
      "text/plain": [
       "-6.944019506612851"
      ]
     },
     "metadata": {},
     "output_type": "display_data"
    },
    {
     "data": {
      "text/plain": [
       "-6.984635399210385"
      ]
     },
     "metadata": {},
     "output_type": "display_data"
    },
    {
     "data": {
      "text/plain": [
       "-7.025248517868726"
      ]
     },
     "metadata": {},
     "output_type": "display_data"
    },
    {
     "data": {
      "text/plain": [
       "-7.065856031246368"
      ]
     },
     "metadata": {},
     "output_type": "display_data"
    },
    {
     "data": {
      "text/plain": [
       "-7.106454767229609"
      ]
     },
     "metadata": {},
     "output_type": "display_data"
    },
    {
     "data": {
      "text/plain": [
       "-7.147041169053659"
      ]
     },
     "metadata": {},
     "output_type": "display_data"
    },
    {
     "data": {
      "text/plain": [
       "-7.187611244532767"
      ]
     },
     "metadata": {},
     "output_type": "display_data"
    },
    {
     "data": {
      "text/plain": [
       "-7.228160507120434"
      ]
     },
     "metadata": {},
     "output_type": "display_data"
    },
    {
     "data": {
      "text/plain": [
       "-7.268683907247721"
      ]
     },
     "metadata": {},
     "output_type": "display_data"
    },
    {
     "data": {
      "text/plain": [
       "-7.309175752047347"
      ]
     },
     "metadata": {},
     "output_type": "display_data"
    },
    {
     "data": {
      "text/plain": [
       "-7.34962961114757"
      ]
     },
     "metadata": {},
     "output_type": "display_data"
    },
    {
     "data": {
      "text/plain": [
       "-7.390038205688747"
      ]
     },
     "metadata": {},
     "output_type": "display_data"
    },
    {
     "data": {
      "text/plain": [
       "-7.430393277046864"
      ]
     },
     "metadata": {},
     "output_type": "display_data"
    },
    {
     "data": {
      "text/plain": [
       "-7.470685430903751"
      ]
     },
     "metadata": {},
     "output_type": "display_data"
    },
    {
     "data": {
      "text/plain": [
       "-7.5109039512310725"
      ]
     },
     "metadata": {},
     "output_type": "display_data"
    },
    {
     "data": {
      "text/plain": [
       "-7.5510365773879204"
      ]
     },
     "metadata": {},
     "output_type": "display_data"
    },
    {
     "data": {
      "text/plain": [
       "-7.591069235780994"
      ]
     },
     "metadata": {},
     "output_type": "display_data"
    },
    {
     "data": {
      "text/plain": [
       "-7.6309857152860765"
      ]
     },
     "metadata": {},
     "output_type": "display_data"
    },
    {
     "data": {
      "text/plain": [
       "-7.670767272726508"
      ]
     },
     "metadata": {},
     "output_type": "display_data"
    },
    {
     "data": {
      "text/plain": [
       "-7.710392150948138"
      ]
     },
     "metadata": {},
     "output_type": "display_data"
    },
    {
     "data": {
      "text/plain": [
       "-7.749834987159349"
      ]
     },
     "metadata": {},
     "output_type": "display_data"
    },
    {
     "data": {
      "text/plain": [
       "-7.7890660828810425"
      ]
     },
     "metadata": {},
     "output_type": "display_data"
    },
    {
     "data": {
      "text/plain": [
       "-7.828050498648279"
      ]
     },
     "metadata": {},
     "output_type": "display_data"
    },
    {
     "data": {
      "text/plain": [
       "-7.866746925996179"
      ]
     },
     "metadata": {},
     "output_type": "display_data"
    },
    {
     "data": {
      "text/plain": [
       "-7.905106275638522"
      ]
     },
     "metadata": {},
     "output_type": "display_data"
    },
    {
     "data": {
      "text/plain": [
       "-7.943069903475501"
      ]
     },
     "metadata": {},
     "output_type": "display_data"
    },
    {
     "data": {
      "text/plain": [
       "-7.980567374659504"
      ]
     },
     "metadata": {},
     "output_type": "display_data"
    },
    {
     "data": {
      "text/plain": [
       "-8.017513640452322"
      ]
     },
     "metadata": {},
     "output_type": "display_data"
    },
    {
     "data": {
      "text/plain": [
       "-8.053805474427786"
      ]
     },
     "metadata": {},
     "output_type": "display_data"
    },
    {
     "data": {
      "text/plain": [
       "-8.089316988120833"
      ]
     },
     "metadata": {},
     "output_type": "display_data"
    },
    {
     "data": {
      "text/plain": [
       "-8.123894032057473"
      ]
     },
     "metadata": {},
     "output_type": "display_data"
    },
    {
     "data": {
      "text/plain": [
       "-8.157347308595394"
      ]
     },
     "metadata": {},
     "output_type": "display_data"
    },
    {
     "data": {
      "text/plain": [
       "-8.18944412177384"
      ]
     },
     "metadata": {},
     "output_type": "display_data"
    },
    {
     "data": {
      "text/plain": [
       "-8.21989894484621"
      ]
     },
     "metadata": {},
     "output_type": "display_data"
    },
    {
     "data": {
      "text/plain": [
       "-8.248363525397941"
      ]
     },
     "metadata": {},
     "output_type": "display_data"
    },
    {
     "data": {
      "text/plain": [
       "-8.274418243277129"
      ]
     },
     "metadata": {},
     "output_type": "display_data"
    },
    {
     "data": {
      "text/plain": [
       "-8.297568037656369"
      ]
     },
     "metadata": {},
     "output_type": "display_data"
    },
    {
     "data": {
      "text/plain": [
       "-8.31724832947801"
      ]
     },
     "metadata": {},
     "output_type": "display_data"
    },
    {
     "data": {
      "text/plain": [
       "-8.332848175453938"
      ]
     },
     "metadata": {},
     "output_type": "display_data"
    },
    {
     "data": {
      "text/plain": [
       "-8.343757344290331"
      ]
     },
     "metadata": {},
     "output_type": "display_data"
    },
    {
     "data": {
      "text/plain": [
       "-8.349438111959074"
      ]
     },
     "metadata": {},
     "output_type": "display_data"
    },
    {
     "data": {
      "text/plain": [
       "-8.349510094738863"
      ]
     },
     "metadata": {},
     "output_type": "display_data"
    },
    {
     "data": {
      "text/plain": [
       "-8.343822527352692"
      ]
     },
     "metadata": {},
     "output_type": "display_data"
    },
    {
     "data": {
      "text/plain": [
       "-8.332484949756138"
      ]
     },
     "metadata": {},
     "output_type": "display_data"
    },
    {
     "data": {
      "text/plain": [
       "-8.315842386279325"
      ]
     },
     "metadata": {},
     "output_type": "display_data"
    },
    {
     "data": {
      "text/plain": [
       "-8.294406564502044"
      ]
     },
     "metadata": {},
     "output_type": "display_data"
    },
    {
     "data": {
      "text/plain": [
       "-8.268771478010374"
      ]
     },
     "metadata": {},
     "output_type": "display_data"
    },
    {
     "data": {
      "text/plain": [
       "-8.239539811967793"
      ]
     },
     "metadata": {},
     "output_type": "display_data"
    },
    {
     "data": {
      "text/plain": [
       "-8.207273347153953"
      ]
     },
     "metadata": {},
     "output_type": "display_data"
    },
    {
     "data": {
      "text/plain": [
       "-8.17246754957643"
      ]
     },
     "metadata": {},
     "output_type": "display_data"
    },
    {
     "data": {
      "text/plain": [
       "-8.135544033485921"
      ]
     },
     "metadata": {},
     "output_type": "display_data"
    },
    {
     "data": {
      "text/plain": [
       "-8.096853640421806"
      ]
     },
     "metadata": {},
     "output_type": "display_data"
    },
    {
     "data": {
      "text/plain": [
       "-8.056684541797303"
      ]
     },
     "metadata": {},
     "output_type": "display_data"
    },
    {
     "data": {
      "text/plain": [
       "-8.01527187966059"
      ]
     },
     "metadata": {},
     "output_type": "display_data"
    },
    {
     "data": {
      "text/plain": [
       "-7.972807105870659"
      ]
     },
     "metadata": {},
     "output_type": "display_data"
    },
    {
     "data": {
      "text/plain": [
       "-7.929446221174676"
      ]
     },
     "metadata": {},
     "output_type": "display_data"
    },
    {
     "data": {
      "text/plain": [
       "-7.885316688499826"
      ]
     },
     "metadata": {},
     "output_type": "display_data"
    },
    {
     "data": {
      "text/plain": [
       "-7.840523071386146"
      ]
     },
     "metadata": {},
     "output_type": "display_data"
    },
    {
     "data": {
      "text/plain": [
       "-7.7951515594257605"
      ]
     },
     "metadata": {},
     "output_type": "display_data"
    },
    {
     "data": {
      "text/plain": [
       "-7.749273569644581"
      ]
     },
     "metadata": {},
     "output_type": "display_data"
    },
    {
     "data": {
      "text/plain": [
       "-7.702948601949107"
      ]
     },
     "metadata": {},
     "output_type": "display_data"
    },
    {
     "data": {
      "text/plain": [
       "-7.656226501905054"
      ]
     },
     "metadata": {},
     "output_type": "display_data"
    },
    {
     "data": {
      "text/plain": [
       "-7.609149256616371"
      ]
     },
     "metadata": {},
     "output_type": "display_data"
    },
    {
     "data": {
      "text/plain": [
       "-7.561752424203522"
      ]
     },
     "metadata": {},
     "output_type": "display_data"
    },
    {
     "data": {
      "text/plain": [
       "-7.51406627598642"
      ]
     },
     "metadata": {},
     "output_type": "display_data"
    },
    {
     "data": {
      "text/plain": [
       "-7.466116713130575"
      ]
     },
     "metadata": {},
     "output_type": "display_data"
    },
    {
     "data": {
      "text/plain": [
       "-7.417926005788675"
      ]
     },
     "metadata": {},
     "output_type": "display_data"
    },
    {
     "data": {
      "text/plain": [
       "-7.369513392058689"
      ]
     },
     "metadata": {},
     "output_type": "display_data"
    },
    {
     "data": {
      "text/plain": [
       "-7.320895565785165"
      ]
     },
     "metadata": {},
     "output_type": "display_data"
    },
    {
     "data": {
      "text/plain": [
       "-7.272087075830571"
      ]
     },
     "metadata": {},
     "output_type": "display_data"
    },
    {
     "data": {
      "text/plain": [
       "-7.223100654510182"
      ]
     },
     "metadata": {},
     "output_type": "display_data"
    },
    {
     "data": {
      "text/plain": [
       "-7.173947489078598"
      ]
     },
     "metadata": {},
     "output_type": "display_data"
    },
    {
     "data": {
      "text/plain": [
       "-7.124637447213257"
      ]
     },
     "metadata": {},
     "output_type": "display_data"
    },
    {
     "data": {
      "text/plain": [
       "-7.075179265159765"
      ]
     },
     "metadata": {},
     "output_type": "display_data"
    },
    {
     "data": {
      "text/plain": [
       "-7.025580705428723"
      ]
     },
     "metadata": {},
     "output_type": "display_data"
    },
    {
     "data": {
      "text/plain": [
       "-6.9758486895477985"
      ]
     },
     "metadata": {},
     "output_type": "display_data"
    },
    {
     "data": {
      "text/plain": [
       "-6.925989410285375"
      ]
     },
     "metadata": {},
     "output_type": "display_data"
    },
    {
     "data": {
      "text/plain": [
       "-6.876008426906086"
      ]
     },
     "metadata": {},
     "output_type": "display_data"
    },
    {
     "data": {
      "text/plain": [
       "-6.825910746341052"
      ]
     },
     "metadata": {},
     "output_type": "display_data"
    },
    {
     "data": {
      "text/plain": [
       "-6.775700892617202"
      ]
     },
     "metadata": {},
     "output_type": "display_data"
    },
    {
     "data": {
      "text/plain": [
       "-6.725382966460932"
      ]
     },
     "metadata": {},
     "output_type": "display_data"
    },
    {
     "data": {
      "text/plain": [
       "-6.674960696646745"
      ]
     },
     "metadata": {},
     "output_type": "display_data"
    },
    {
     "data": {
      "text/plain": [
       "-6.624437484384394"
      ]
     },
     "metadata": {},
     "output_type": "display_data"
    },
    {
     "data": {
      "text/plain": [
       "-6.573816441814433"
      ]
     },
     "metadata": {},
     "output_type": "display_data"
    },
    {
     "data": {
      "text/plain": [
       "-6.523100425499668"
      ]
     },
     "metadata": {},
     "output_type": "display_data"
    },
    {
     "data": {
      "text/plain": [
       "-6.472292065652626"
      ]
     },
     "metadata": {},
     "output_type": "display_data"
    },
    {
     "data": {
      "text/plain": [
       "-6.421393791716996"
      ]
     },
     "metadata": {},
     "output_type": "display_data"
    },
    {
     "data": {
      "text/plain": [
       "-6.370407854822558"
      ]
     },
     "metadata": {},
     "output_type": "display_data"
    },
    {
     "data": {
      "text/plain": [
       "-6.319336347550155"
      ]
     },
     "metadata": {},
     "output_type": "display_data"
    },
    {
     "data": {
      "text/plain": [
       "-6.268181221375894"
      ]
     },
     "metadata": {},
     "output_type": "display_data"
    },
    {
     "data": {
      "text/plain": [
       "-6.216944302107446"
      ]
     },
     "metadata": {},
     "output_type": "display_data"
    },
    {
     "data": {
      "text/plain": [
       "-6.165627303578159"
      ]
     },
     "metadata": {},
     "output_type": "display_data"
    },
    {
     "data": {
      "text/plain": [
       "-6.114231839825646"
      ]
     },
     "metadata": {},
     "output_type": "display_data"
    },
    {
     "data": {
      "text/plain": [
       "-6.062759435948736"
      ]
     },
     "metadata": {},
     "output_type": "display_data"
    },
    {
     "data": {
      "text/plain": [
       "-6.0112115378087925"
      ]
     },
     "metadata": {},
     "output_type": "display_data"
    },
    {
     "data": {
      "text/plain": [
       "-5.959589520718385"
      ]
     },
     "metadata": {},
     "output_type": "display_data"
    },
    {
     "data": {
      "text/plain": [
       "-5.907894697240379"
      ]
     },
     "metadata": {},
     "output_type": "display_data"
    },
    {
     "data": {
      "text/plain": [
       "-5.856128324203946"
      ]
     },
     "metadata": {},
     "output_type": "display_data"
    },
    {
     "data": {
      "text/plain": [
       "-5.8042916090295815"
      ]
     },
     "metadata": {},
     "output_type": "display_data"
    },
    {
     "data": {
      "text/plain": [
       "-5.7523857154434"
      ]
     },
     "metadata": {},
     "output_type": "display_data"
    },
    {
     "data": {
      "text/plain": [
       "-5.7004117686503415"
      ]
     },
     "metadata": {},
     "output_type": "display_data"
    },
    {
     "data": {
      "text/plain": [
       "-5.648370860027247"
      ]
     },
     "metadata": {},
     "output_type": "display_data"
    },
    {
     "data": {
      "text/plain": [
       "-5.596264051389021"
      ]
     },
     "metadata": {},
     "output_type": "display_data"
    },
    {
     "data": {
      "text/plain": [
       "-5.544092378874716"
      ]
     },
     "metadata": {},
     "output_type": "display_data"
    },
    {
     "data": {
      "text/plain": [
       "-5.491856856494594"
      ]
     },
     "metadata": {},
     "output_type": "display_data"
    },
    {
     "data": {
      "text/plain": [
       "-5.439558479374541"
      ]
     },
     "metadata": {},
     "output_type": "display_data"
    },
    {
     "data": {
      "text/plain": [
       "-5.387198226729822"
      ]
     },
     "metadata": {},
     "output_type": "display_data"
    },
    {
     "data": {
      "text/plain": [
       "-5.33477706459689"
      ]
     },
     "metadata": {},
     "output_type": "display_data"
    },
    {
     "data": {
      "text/plain": [
       "-5.282295948348541"
      ]
     },
     "metadata": {},
     "output_type": "display_data"
    },
    {
     "data": {
      "text/plain": [
       "-5.229755825015303"
      ]
     },
     "metadata": {},
     "output_type": "display_data"
    },
    {
     "data": {
      "text/plain": [
       "-5.177157635433717"
      ]
     },
     "metadata": {},
     "output_type": "display_data"
    },
    {
     "data": {
      "text/plain": [
       "-5.124502316240019"
      ]
     },
     "metadata": {},
     "output_type": "display_data"
    },
    {
     "data": {
      "text/plain": [
       "-5.071790801726532"
      ]
     },
     "metadata": {},
     "output_type": "display_data"
    },
    {
     "data": {
      "text/plain": [
       "-5.019024025576607"
      ]
     },
     "metadata": {},
     "output_type": "display_data"
    },
    {
     "data": {
      "text/plain": [
       "-4.966202922492931"
      ]
     },
     "metadata": {},
     "output_type": "display_data"
    },
    {
     "data": {
      "text/plain": [
       "-4.913328429733542"
      ]
     },
     "metadata": {},
     "output_type": "display_data"
    },
    {
     "data": {
      "text/plain": [
       "-4.860401488569292"
      ]
     },
     "metadata": {},
     "output_type": "display_data"
    },
    {
     "data": {
      "text/plain": [
       "-4.807423045676448"
      ]
     },
     "metadata": {},
     "output_type": "display_data"
    },
    {
     "data": {
      "text/plain": [
       "-4.754394054478244"
      ]
     },
     "metadata": {},
     "output_type": "display_data"
    },
    {
     "data": {
      "text/plain": [
       "-4.701315476449712"
      ]
     },
     "metadata": {},
     "output_type": "display_data"
    },
    {
     "data": {
      "text/plain": [
       "-4.648188282400817"
      ]
     },
     "metadata": {},
     "output_type": "display_data"
    },
    {
     "data": {
      "text/plain": [
       "-4.59501345375426"
      ]
     },
     "metadata": {},
     "output_type": "display_data"
    },
    {
     "data": {
      "text/plain": [
       "-4.541791983835601"
      ]
     },
     "metadata": {},
     "output_type": "display_data"
    },
    {
     "data": {
      "text/plain": [
       "-4.488524879195369"
      ]
     },
     "metadata": {},
     "output_type": "display_data"
    },
    {
     "data": {
      "text/plain": [
       "-4.4352131609853185"
      ]
     },
     "metadata": {},
     "output_type": "display_data"
    },
    {
     "data": {
      "text/plain": [
       "-4.381857866413209"
      ]
     },
     "metadata": {},
     "output_type": "display_data"
    },
    {
     "data": {
      "text/plain": [
       "-4.328460050304145"
      ]
     },
     "metadata": {},
     "output_type": "display_data"
    },
    {
     "data": {
      "text/plain": [
       "-4.275020786799141"
      ]
     },
     "metadata": {},
     "output_type": "display_data"
    },
    {
     "data": {
      "text/plain": [
       "-4.221541171225403"
      ]
     },
     "metadata": {},
     "output_type": "display_data"
    },
    {
     "data": {
      "text/plain": [
       "-4.168022322175107"
      ]
     },
     "metadata": {},
     "output_type": "display_data"
    },
    {
     "data": {
      "text/plain": [
       "-4.1144653838321075"
      ]
     },
     "metadata": {},
     "output_type": "display_data"
    },
    {
     "data": {
      "text/plain": [
       "-4.060871528585924"
      ]
     },
     "metadata": {},
     "output_type": "display_data"
    },
    {
     "data": {
      "text/plain": [
       "-4.007241959969789"
      ]
     },
     "metadata": {},
     "output_type": "display_data"
    },
    {
     "data": {
      "text/plain": [
       "-3.9535779159520397"
      ]
     },
     "metadata": {},
     "output_type": "display_data"
    },
    {
     "data": {
      "text/plain": [
       "-3.899880672596195"
      ]
     },
     "metadata": {},
     "output_type": "display_data"
    },
    {
     "data": {
      "text/plain": [
       "-3.8461515480832817"
      ]
     },
     "metadata": {},
     "output_type": "display_data"
    }
   ],
   "source": [
    "# Check conic violation\n",
    "convio = 0.0\n",
    "for k = 1:N-1\n",
    "    Uc = cone_u(params, U[k])\n",
    "    huc = norm(Uc[1:2]) - Uc[3]\n",
    "    convio = norm(huc + abs.(huc),Inf)\n",
    "    display(huc) # should <= 0\n",
    "end\n",
    "Xref .= Xn;\n",
    "Uref .= Un;"
   ]
  },
  {
   "cell_type": "code",
   "execution_count": 588,
   "id": "5c8d15e2-a563-4077-96df-8f829ba24d00",
   "metadata": {},
   "outputs": [],
   "source": [
    "### MPC style with other solver ###\n",
    "include(\"mpc_JuMP.jl\")\n",
    "\n",
    "Nsim = 301\n",
    "Nh = 21\n",
    "t_vec = dt*(0:Nsim-1)\n",
    "\n",
    "x0 = [4, 2, 20, -3, 2, -5.0]  # initial plan\n",
    "# x0 = [5, 2, 21, -3, 2, -5.0]  # change this!\n",
    "# x0 = [4.4, 2.2, 20.2, -3.03, 2.02, -5.05]\n",
    "\n",
    "xg = [0,0,0,0,0,0.0]\n",
    "Q = 100e-1*I(nx)  # make this higher!\n",
    "R = 1e-1*I(nu)\n",
    "Qf = 10*I(nx) # change this!\n",
    "θ_thrust_max = 5.0  # increase max thrust from plan!\n",
    "\n",
    "# state is x y v θ\n",
    "x_min = [-5,-5,0,-10,-10,-10.0]\n",
    "x_max = [5,5,20,10,10,10.0]\n",
    "\n",
    "ncx = 2*nx*0\n",
    "ncu = 2*nu*0\n",
    "ncg = 0\n",
    "ncu_cone = nu*1; \n",
    "cone_scale = 1e0\n",
    "\n",
    "params = (\n",
    "    nx = nx,\n",
    "    nu = nu,\n",
    "    ncx = ncx,\n",
    "    ncu = ncu,\n",
    "    ncg = ncg,\n",
    "    ncu_cone = ncu_cone,\n",
    "    A_cone = A_cone,\n",
    "    c_cone = c_cone,\n",
    "    N = Nh,\n",
    "    Q = Q,\n",
    "    R = R,\n",
    "    Qf = Qf,\n",
    "    u_min = u_min,\n",
    "    u_max = u_max,\n",
    "    x_min = x_min,\n",
    "    x_max = x_max,\n",
    "    Xref = Xref,\n",
    "    Uref = Uref,\n",
    "    dt = dt,\n",
    "    mc = 1.0,\n",
    "    mp = 0.2,\n",
    "    l = 0.5,\n",
    "    g = 9.81,\n",
    ");\n",
    "\n",
    "Xhist = [deepcopy(x0) for i = 1:Nsim]\n",
    "Uhist = [-mass * gravity for k = 1:Nsim-1]\n",
    "# previous iterate\n",
    "X = [deepcopy(x0) for i = 1:Nh]\n",
    "U = [-mass * gravity for k = 1:Nh-1]\n",
    "\n",
    "# new iterate\n",
    "Xn = deepcopy(X)\n",
    "Un = deepcopy(U)\n",
    "\n",
    "P = [zeros(nx,nx) for i = 1:Nh]   # cost to go quadratic term\n",
    "p = [zeros(nx) for i = 1:Nh]      # cost to go linear term\n",
    "d = [zeros(nu) for i = 1:Nh-1]    # feedforward control\n",
    "K = [zeros(nu,nx) for i = 1:Nh-1] # feedback gain\n",
    "\n",
    "optimizer = JuMP.optimizer_with_attributes(COSMO.Optimizer,\n",
    "    \"verbose\"=>false,\n",
    "    \"eps_abs\"=>1e-8,\n",
    "    \"eps_rel\"=>1e-8,\n",
    "    \"rho\"=>1e-2,\n",
    "    \"scaling\"=>0,\n",
    "    \"alpha\"=>1.0)\n",
    "Random.seed!(1);\n",
    "for i = 1:Nsim-Nh-1\n",
    "    params1 = (; params..., Uref = Uref[i:Nh+i], Xref = Xref[i:Nh+i-1])  # update ref\n",
    "    \n",
    "    # pos_norm = norm(Xhist[i][1:3], Inf) / 100 # 1% noise\n",
    "    # vel_norm = norm(Xhist[4:6], Inf) / 1e6 # 1ppm noise\n",
    "    # noise_pos = randn(3)\n",
    "    # noise_vel = randn(3)\n",
    "    # Xhist[i] += [noise_pos * pos_norm; noise_vel * vel_norm]\n",
    "    \n",
    "    # Uhist[i] = mpc_JuMP(optimizer, params1, Xhist[i], A, B, f)\n",
    "    \n",
    "    # X = [Xhist[i] for i = 1:Nh]  # reset, avoid warm-staring\n",
    "    # U = [-mass * gravity for k = 1:Nh-1]\n",
    "    X[1] .= Xhist[i]; Uhist[i] = mpc(params1,X,U,P,p,K,d,Xn,Un;atol=1e-4,max_iters = 20,verbose = false,ρ = 100, ϕ = 10.0) \n",
    "    \n",
    "    Xhist[i+1] = discrete_dynamics(params1,Xhist[i],Uhist[i],i)  # dynamics\n",
    "end"
   ]
  },
  {
   "cell_type": "markdown",
   "id": "4a1732ad-eb0e-48b4-8896-73a7e8b9997c",
   "metadata": {},
   "source": [
    "1. COSMO gives better tracking results\n",
    "2. Ours always need warm-start"
   ]
  },
  {
   "cell_type": "code",
   "execution_count": 579,
   "id": "d651f59e-e700-4bc9-927c-98835f2679f4",
   "metadata": {},
   "outputs": [
    {
     "data": {
      "text/plain": [
       "-0.34275803574675656"
      ]
     },
     "metadata": {},
     "output_type": "display_data"
    },
    {
     "data": {
      "text/plain": [
       "-2.7721792522186783"
      ]
     },
     "metadata": {},
     "output_type": "display_data"
    },
    {
     "data": {
      "text/plain": [
       "-3.183693482879894"
      ]
     },
     "metadata": {},
     "output_type": "display_data"
    },
    {
     "data": {
      "text/plain": [
       "-3.6223292610862767"
      ]
     },
     "metadata": {},
     "output_type": "display_data"
    },
    {
     "data": {
      "text/plain": [
       "-2.8549907754848585"
      ]
     },
     "metadata": {},
     "output_type": "display_data"
    },
    {
     "data": {
      "text/plain": [
       "-3.6075732252390305"
      ]
     },
     "metadata": {},
     "output_type": "display_data"
    },
    {
     "data": {
      "text/plain": [
       "-3.9924612846201644"
      ]
     },
     "metadata": {},
     "output_type": "display_data"
    },
    {
     "data": {
      "text/plain": [
       "-3.677437696954577"
      ]
     },
     "metadata": {},
     "output_type": "display_data"
    },
    {
     "data": {
      "text/plain": [
       "-2.722063956985104"
      ]
     },
     "metadata": {},
     "output_type": "display_data"
    },
    {
     "data": {
      "text/plain": [
       "-2.8866887354179536"
      ]
     },
     "metadata": {},
     "output_type": "display_data"
    },
    {
     "data": {
      "text/plain": [
       "-2.2353702810380875"
      ]
     },
     "metadata": {},
     "output_type": "display_data"
    },
    {
     "data": {
      "text/plain": [
       "-1.2212280664496102"
      ]
     },
     "metadata": {},
     "output_type": "display_data"
    },
    {
     "data": {
      "text/plain": [
       "-2.310182132139576"
      ]
     },
     "metadata": {},
     "output_type": "display_data"
    },
    {
     "data": {
      "text/plain": [
       "-3.595161226795847"
      ]
     },
     "metadata": {},
     "output_type": "display_data"
    },
    {
     "data": {
      "text/plain": [
       "-3.9799612178198025"
      ]
     },
     "metadata": {},
     "output_type": "display_data"
    },
    {
     "data": {
      "text/plain": [
       "-3.838025099209575"
      ]
     },
     "metadata": {},
     "output_type": "display_data"
    },
    {
     "data": {
      "text/plain": [
       "-4.113444476549922"
      ]
     },
     "metadata": {},
     "output_type": "display_data"
    },
    {
     "data": {
      "text/plain": [
       "-3.544795885095196"
      ]
     },
     "metadata": {},
     "output_type": "display_data"
    },
    {
     "data": {
      "text/plain": [
       "-3.529949863626168"
      ]
     },
     "metadata": {},
     "output_type": "display_data"
    },
    {
     "data": {
      "text/plain": [
       "-3.988373737007647"
      ]
     },
     "metadata": {},
     "output_type": "display_data"
    },
    {
     "data": {
      "text/plain": [
       "-3.4117413651151045"
      ]
     },
     "metadata": {},
     "output_type": "display_data"
    },
    {
     "data": {
      "text/plain": [
       "-2.539682496241854"
      ]
     },
     "metadata": {},
     "output_type": "display_data"
    },
    {
     "data": {
      "text/plain": [
       "-3.070756683414583"
      ]
     },
     "metadata": {},
     "output_type": "display_data"
    },
    {
     "data": {
      "text/plain": [
       "-3.5366209699520814"
      ]
     },
     "metadata": {},
     "output_type": "display_data"
    },
    {
     "data": {
      "text/plain": [
       "-3.1602626319169573"
      ]
     },
     "metadata": {},
     "output_type": "display_data"
    },
    {
     "data": {
      "text/plain": [
       "-2.8994671725657675"
      ]
     },
     "metadata": {},
     "output_type": "display_data"
    },
    {
     "data": {
      "text/plain": [
       "-2.7779419344918157"
      ]
     },
     "metadata": {},
     "output_type": "display_data"
    },
    {
     "data": {
      "text/plain": [
       "-2.804146660172794"
      ]
     },
     "metadata": {},
     "output_type": "display_data"
    },
    {
     "data": {
      "text/plain": [
       "-2.580281028196813"
      ]
     },
     "metadata": {},
     "output_type": "display_data"
    },
    {
     "data": {
      "text/plain": [
       "-2.982527590369891"
      ]
     },
     "metadata": {},
     "output_type": "display_data"
    },
    {
     "data": {
      "text/plain": [
       "-2.8122934992817603"
      ]
     },
     "metadata": {},
     "output_type": "display_data"
    },
    {
     "data": {
      "text/plain": [
       "-2.493301820340551"
      ]
     },
     "metadata": {},
     "output_type": "display_data"
    },
    {
     "data": {
      "text/plain": [
       "-2.3300439794437784"
      ]
     },
     "metadata": {},
     "output_type": "display_data"
    },
    {
     "data": {
      "text/plain": [
       "-1.93538033589477"
      ]
     },
     "metadata": {},
     "output_type": "display_data"
    },
    {
     "data": {
      "text/plain": [
       "-1.5795434404896112"
      ]
     },
     "metadata": {},
     "output_type": "display_data"
    },
    {
     "data": {
      "text/plain": [
       "-2.3274219973870363"
      ]
     },
     "metadata": {},
     "output_type": "display_data"
    },
    {
     "data": {
      "text/plain": [
       "-2.1382699014973996"
      ]
     },
     "metadata": {},
     "output_type": "display_data"
    },
    {
     "data": {
      "text/plain": [
       "-2.222630232774761"
      ]
     },
     "metadata": {},
     "output_type": "display_data"
    },
    {
     "data": {
      "text/plain": [
       "-1.8083713506318562"
      ]
     },
     "metadata": {},
     "output_type": "display_data"
    },
    {
     "data": {
      "text/plain": [
       "-2.206900766028851"
      ]
     },
     "metadata": {},
     "output_type": "display_data"
    },
    {
     "data": {
      "text/plain": [
       "-1.6672820156753225"
      ]
     },
     "metadata": {},
     "output_type": "display_data"
    },
    {
     "data": {
      "text/plain": [
       "-1.8014821378936734"
      ]
     },
     "metadata": {},
     "output_type": "display_data"
    },
    {
     "data": {
      "text/plain": [
       "-1.8626547863810794"
      ]
     },
     "metadata": {},
     "output_type": "display_data"
    },
    {
     "data": {
      "text/plain": [
       "-0.6623115321598867"
      ]
     },
     "metadata": {},
     "output_type": "display_data"
    },
    {
     "data": {
      "text/plain": [
       "-1.5742485122698788"
      ]
     },
     "metadata": {},
     "output_type": "display_data"
    },
    {
     "data": {
      "text/plain": [
       "-1.5154239146342299"
      ]
     },
     "metadata": {},
     "output_type": "display_data"
    },
    {
     "data": {
      "text/plain": [
       "-1.0470242593760126"
      ]
     },
     "metadata": {},
     "output_type": "display_data"
    },
    {
     "data": {
      "text/plain": [
       "-0.26876922366481715"
      ]
     },
     "metadata": {},
     "output_type": "display_data"
    },
    {
     "data": {
      "text/plain": [
       "-0.1658222717512121"
      ]
     },
     "metadata": {},
     "output_type": "display_data"
    },
    {
     "data": {
      "text/plain": [
       "-0.7018484775659619"
      ]
     },
     "metadata": {},
     "output_type": "display_data"
    },
    {
     "data": {
      "text/plain": [
       "-0.6088659198695225"
      ]
     },
     "metadata": {},
     "output_type": "display_data"
    },
    {
     "data": {
      "text/plain": [
       "-0.1852531837208069"
      ]
     },
     "metadata": {},
     "output_type": "display_data"
    },
    {
     "data": {
      "text/plain": [
       "280.4853292250721"
      ]
     },
     "metadata": {},
     "output_type": "display_data"
    },
    {
     "data": {
      "text/plain": [
       "-7.8422112453549095"
      ]
     },
     "metadata": {},
     "output_type": "display_data"
    },
    {
     "data": {
      "text/plain": [
       "-8.023211077953036"
      ]
     },
     "metadata": {},
     "output_type": "display_data"
    },
    {
     "data": {
      "text/plain": [
       "-7.958179448616908"
      ]
     },
     "metadata": {},
     "output_type": "display_data"
    },
    {
     "data": {
      "text/plain": [
       "-8.338943641513056"
      ]
     },
     "metadata": {},
     "output_type": "display_data"
    },
    {
     "data": {
      "text/plain": [
       "-8.357845375824661"
      ]
     },
     "metadata": {},
     "output_type": "display_data"
    },
    {
     "data": {
      "text/plain": [
       "-8.686538150095345"
      ]
     },
     "metadata": {},
     "output_type": "display_data"
    },
    {
     "data": {
      "text/plain": [
       "-8.624806781192346"
      ]
     },
     "metadata": {},
     "output_type": "display_data"
    },
    {
     "data": {
      "text/plain": [
       "-8.515723762495128"
      ]
     },
     "metadata": {},
     "output_type": "display_data"
    },
    {
     "data": {
      "text/plain": [
       "-8.699099096400408"
      ]
     },
     "metadata": {},
     "output_type": "display_data"
    },
    {
     "data": {
      "text/plain": [
       "-8.993459099211552"
      ]
     },
     "metadata": {},
     "output_type": "display_data"
    },
    {
     "data": {
      "text/plain": [
       "-9.126638546955878"
      ]
     },
     "metadata": {},
     "output_type": "display_data"
    },
    {
     "data": {
      "text/plain": [
       "-8.869972064379741"
      ]
     },
     "metadata": {},
     "output_type": "display_data"
    },
    {
     "data": {
      "text/plain": [
       "-9.063356872906265"
      ]
     },
     "metadata": {},
     "output_type": "display_data"
    },
    {
     "data": {
      "text/plain": [
       "-8.957107418677506"
      ]
     },
     "metadata": {},
     "output_type": "display_data"
    },
    {
     "data": {
      "text/plain": [
       "-8.927099379818033"
      ]
     },
     "metadata": {},
     "output_type": "display_data"
    },
    {
     "data": {
      "text/plain": [
       "-8.948593800585599"
      ]
     },
     "metadata": {},
     "output_type": "display_data"
    },
    {
     "data": {
      "text/plain": [
       "-8.835249170729927"
      ]
     },
     "metadata": {},
     "output_type": "display_data"
    },
    {
     "data": {
      "text/plain": [
       "-8.687467374281852"
      ]
     },
     "metadata": {},
     "output_type": "display_data"
    },
    {
     "data": {
      "text/plain": [
       "-8.249254992416324"
      ]
     },
     "metadata": {},
     "output_type": "display_data"
    },
    {
     "data": {
      "text/plain": [
       "-8.282018717321543"
      ]
     },
     "metadata": {},
     "output_type": "display_data"
    },
    {
     "data": {
      "text/plain": [
       "-8.3746590466126"
      ]
     },
     "metadata": {},
     "output_type": "display_data"
    },
    {
     "data": {
      "text/plain": [
       "-8.262816443376874"
      ]
     },
     "metadata": {},
     "output_type": "display_data"
    },
    {
     "data": {
      "text/plain": [
       "-8.313771628379845"
      ]
     },
     "metadata": {},
     "output_type": "display_data"
    },
    {
     "data": {
      "text/plain": [
       "-8.029010967642888"
      ]
     },
     "metadata": {},
     "output_type": "display_data"
    },
    {
     "data": {
      "text/plain": [
       "-7.795487288347591"
      ]
     },
     "metadata": {},
     "output_type": "display_data"
    },
    {
     "data": {
      "text/plain": [
       "-8.092919764300465"
      ]
     },
     "metadata": {},
     "output_type": "display_data"
    },
    {
     "data": {
      "text/plain": [
       "-8.211350173208945"
      ]
     },
     "metadata": {},
     "output_type": "display_data"
    },
    {
     "data": {
      "text/plain": [
       "-7.8446725508226685"
      ]
     },
     "metadata": {},
     "output_type": "display_data"
    },
    {
     "data": {
      "text/plain": [
       "-7.493199390646095"
      ]
     },
     "metadata": {},
     "output_type": "display_data"
    },
    {
     "data": {
      "text/plain": [
       "-6.968755122453871"
      ]
     },
     "metadata": {},
     "output_type": "display_data"
    },
    {
     "data": {
      "text/plain": [
       "-6.994884937994335"
      ]
     },
     "metadata": {},
     "output_type": "display_data"
    },
    {
     "data": {
      "text/plain": [
       "-6.80993604385996"
      ]
     },
     "metadata": {},
     "output_type": "display_data"
    },
    {
     "data": {
      "text/plain": [
       "-6.876622353808379"
      ]
     },
     "metadata": {},
     "output_type": "display_data"
    },
    {
     "data": {
      "text/plain": [
       "-6.908044695409522"
      ]
     },
     "metadata": {},
     "output_type": "display_data"
    },
    {
     "data": {
      "text/plain": [
       "-7.212345045533407"
      ]
     },
     "metadata": {},
     "output_type": "display_data"
    },
    {
     "data": {
      "text/plain": [
       "-6.836130011647582"
      ]
     },
     "metadata": {},
     "output_type": "display_data"
    },
    {
     "data": {
      "text/plain": [
       "-6.776945707164956"
      ]
     },
     "metadata": {},
     "output_type": "display_data"
    },
    {
     "data": {
      "text/plain": [
       "-6.854465571201885"
      ]
     },
     "metadata": {},
     "output_type": "display_data"
    },
    {
     "data": {
      "text/plain": [
       "-6.810087668513699"
      ]
     },
     "metadata": {},
     "output_type": "display_data"
    },
    {
     "data": {
      "text/plain": [
       "-6.652378668035867"
      ]
     },
     "metadata": {},
     "output_type": "display_data"
    },
    {
     "data": {
      "text/plain": [
       "-6.751939612683757"
      ]
     },
     "metadata": {},
     "output_type": "display_data"
    },
    {
     "data": {
      "text/plain": [
       "-6.599912868535424"
      ]
     },
     "metadata": {},
     "output_type": "display_data"
    },
    {
     "data": {
      "text/plain": [
       "-6.758158558308885"
      ]
     },
     "metadata": {},
     "output_type": "display_data"
    },
    {
     "data": {
      "text/plain": [
       "-6.659188522815407"
      ]
     },
     "metadata": {},
     "output_type": "display_data"
    },
    {
     "data": {
      "text/plain": [
       "-6.598330476260216"
      ]
     },
     "metadata": {},
     "output_type": "display_data"
    },
    {
     "data": {
      "text/plain": [
       "-6.6554597775878594"
      ]
     },
     "metadata": {},
     "output_type": "display_data"
    },
    {
     "data": {
      "text/plain": [
       "-6.40518148322781"
      ]
     },
     "metadata": {},
     "output_type": "display_data"
    },
    {
     "data": {
      "text/plain": [
       "-6.1355718178173895"
      ]
     },
     "metadata": {},
     "output_type": "display_data"
    },
    {
     "data": {
      "text/plain": [
       "-6.100926845298265"
      ]
     },
     "metadata": {},
     "output_type": "display_data"
    },
    {
     "data": {
      "text/plain": [
       "-6.087807270157857"
      ]
     },
     "metadata": {},
     "output_type": "display_data"
    },
    {
     "data": {
      "text/plain": [
       "-5.8108694570611545"
      ]
     },
     "metadata": {},
     "output_type": "display_data"
    },
    {
     "data": {
      "text/plain": [
       "-5.342546326374558"
      ]
     },
     "metadata": {},
     "output_type": "display_data"
    },
    {
     "data": {
      "text/plain": [
       "-5.002034704688217"
      ]
     },
     "metadata": {},
     "output_type": "display_data"
    },
    {
     "data": {
      "text/plain": [
       "-4.804841251866067"
      ]
     },
     "metadata": {},
     "output_type": "display_data"
    },
    {
     "data": {
      "text/plain": [
       "-4.965262937381703"
      ]
     },
     "metadata": {},
     "output_type": "display_data"
    },
    {
     "data": {
      "text/plain": [
       "-5.300555790115945"
      ]
     },
     "metadata": {},
     "output_type": "display_data"
    },
    {
     "data": {
      "text/plain": [
       "-5.12201738839256"
      ]
     },
     "metadata": {},
     "output_type": "display_data"
    },
    {
     "data": {
      "text/plain": [
       "-5.282467878801232"
      ]
     },
     "metadata": {},
     "output_type": "display_data"
    },
    {
     "data": {
      "text/plain": [
       "-5.3910472350004195"
      ]
     },
     "metadata": {},
     "output_type": "display_data"
    },
    {
     "data": {
      "text/plain": [
       "-5.3040914018487575"
      ]
     },
     "metadata": {},
     "output_type": "display_data"
    },
    {
     "data": {
      "text/plain": [
       "-5.041636606162265"
      ]
     },
     "metadata": {},
     "output_type": "display_data"
    },
    {
     "data": {
      "text/plain": [
       "-5.016160003758609"
      ]
     },
     "metadata": {},
     "output_type": "display_data"
    },
    {
     "data": {
      "text/plain": [
       "-5.084354190173443"
      ]
     },
     "metadata": {},
     "output_type": "display_data"
    },
    {
     "data": {
      "text/plain": [
       "-5.278892991330177"
      ]
     },
     "metadata": {},
     "output_type": "display_data"
    },
    {
     "data": {
      "text/plain": [
       "-5.303755667327637"
      ]
     },
     "metadata": {},
     "output_type": "display_data"
    },
    {
     "data": {
      "text/plain": [
       "-5.5966739568546"
      ]
     },
     "metadata": {},
     "output_type": "display_data"
    },
    {
     "data": {
      "text/plain": [
       "-5.59033736061512"
      ]
     },
     "metadata": {},
     "output_type": "display_data"
    },
    {
     "data": {
      "text/plain": [
       "-5.903044888990366"
      ]
     },
     "metadata": {},
     "output_type": "display_data"
    },
    {
     "data": {
      "text/plain": [
       "-5.993487988029868"
      ]
     },
     "metadata": {},
     "output_type": "display_data"
    },
    {
     "data": {
      "text/plain": [
       "-5.908820321324404"
      ]
     },
     "metadata": {},
     "output_type": "display_data"
    },
    {
     "data": {
      "text/plain": [
       "-6.059289368539455"
      ]
     },
     "metadata": {},
     "output_type": "display_data"
    },
    {
     "data": {
      "text/plain": [
       "-6.261541207366111"
      ]
     },
     "metadata": {},
     "output_type": "display_data"
    },
    {
     "data": {
      "text/plain": [
       "-5.978963939031574"
      ]
     },
     "metadata": {},
     "output_type": "display_data"
    },
    {
     "data": {
      "text/plain": [
       "-6.076142455496327"
      ]
     },
     "metadata": {},
     "output_type": "display_data"
    },
    {
     "data": {
      "text/plain": [
       "-6.055979690033004"
      ]
     },
     "metadata": {},
     "output_type": "display_data"
    },
    {
     "data": {
      "text/plain": [
       "-5.902994752785311"
      ]
     },
     "metadata": {},
     "output_type": "display_data"
    },
    {
     "data": {
      "text/plain": [
       "-5.693391252326876"
      ]
     },
     "metadata": {},
     "output_type": "display_data"
    },
    {
     "data": {
      "text/plain": [
       "-5.716729412324693"
      ]
     },
     "metadata": {},
     "output_type": "display_data"
    },
    {
     "data": {
      "text/plain": [
       "-5.703782330902834"
      ]
     },
     "metadata": {},
     "output_type": "display_data"
    },
    {
     "data": {
      "text/plain": [
       "-5.623723008107066"
      ]
     },
     "metadata": {},
     "output_type": "display_data"
    },
    {
     "data": {
      "text/plain": [
       "-5.578715125047118"
      ]
     },
     "metadata": {},
     "output_type": "display_data"
    },
    {
     "data": {
      "text/plain": [
       "-5.192226260183881"
      ]
     },
     "metadata": {},
     "output_type": "display_data"
    },
    {
     "data": {
      "text/plain": [
       "-4.9747797028429055"
      ]
     },
     "metadata": {},
     "output_type": "display_data"
    },
    {
     "data": {
      "text/plain": [
       "-5.095910542520732"
      ]
     },
     "metadata": {},
     "output_type": "display_data"
    },
    {
     "data": {
      "text/plain": [
       "-5.315467401676353"
      ]
     },
     "metadata": {},
     "output_type": "display_data"
    },
    {
     "data": {
      "text/plain": [
       "-5.287942762067966"
      ]
     },
     "metadata": {},
     "output_type": "display_data"
    },
    {
     "data": {
      "text/plain": [
       "-5.054021107629133"
      ]
     },
     "metadata": {},
     "output_type": "display_data"
    },
    {
     "data": {
      "text/plain": [
       "-5.118603508067773"
      ]
     },
     "metadata": {},
     "output_type": "display_data"
    },
    {
     "data": {
      "text/plain": [
       "-5.177966700252663"
      ]
     },
     "metadata": {},
     "output_type": "display_data"
    },
    {
     "data": {
      "text/plain": [
       "-4.847955814079723"
      ]
     },
     "metadata": {},
     "output_type": "display_data"
    },
    {
     "data": {
      "text/plain": [
       "-5.065646570801491"
      ]
     },
     "metadata": {},
     "output_type": "display_data"
    },
    {
     "data": {
      "text/plain": [
       "-5.052402743011372"
      ]
     },
     "metadata": {},
     "output_type": "display_data"
    },
    {
     "data": {
      "text/plain": [
       "-5.422920717104044"
      ]
     },
     "metadata": {},
     "output_type": "display_data"
    },
    {
     "data": {
      "text/plain": [
       "-5.325662710431839"
      ]
     },
     "metadata": {},
     "output_type": "display_data"
    },
    {
     "data": {
      "text/plain": [
       "-5.473094617403592"
      ]
     },
     "metadata": {},
     "output_type": "display_data"
    },
    {
     "data": {
      "text/plain": [
       "-5.392616589016593"
      ]
     },
     "metadata": {},
     "output_type": "display_data"
    },
    {
     "data": {
      "text/plain": [
       "-5.694388936740749"
      ]
     },
     "metadata": {},
     "output_type": "display_data"
    },
    {
     "data": {
      "text/plain": [
       "-5.8678369463853635"
      ]
     },
     "metadata": {},
     "output_type": "display_data"
    },
    {
     "data": {
      "text/plain": [
       "-5.9314375940599735"
      ]
     },
     "metadata": {},
     "output_type": "display_data"
    },
    {
     "data": {
      "text/plain": [
       "-5.968928927674407"
      ]
     },
     "metadata": {},
     "output_type": "display_data"
    },
    {
     "data": {
      "text/plain": [
       "-5.86925155606208"
      ]
     },
     "metadata": {},
     "output_type": "display_data"
    },
    {
     "data": {
      "text/plain": [
       "-5.688837607429184"
      ]
     },
     "metadata": {},
     "output_type": "display_data"
    },
    {
     "data": {
      "text/plain": [
       "-5.636654345038518"
      ]
     },
     "metadata": {},
     "output_type": "display_data"
    },
    {
     "data": {
      "text/plain": [
       "-5.611057641999959"
      ]
     },
     "metadata": {},
     "output_type": "display_data"
    },
    {
     "data": {
      "text/plain": [
       "-5.743375573018467"
      ]
     },
     "metadata": {},
     "output_type": "display_data"
    },
    {
     "data": {
      "text/plain": [
       "-5.622457559686339"
      ]
     },
     "metadata": {},
     "output_type": "display_data"
    },
    {
     "data": {
      "text/plain": [
       "-5.607487495635084"
      ]
     },
     "metadata": {},
     "output_type": "display_data"
    },
    {
     "data": {
      "text/plain": [
       "-5.748733525478055"
      ]
     },
     "metadata": {},
     "output_type": "display_data"
    },
    {
     "data": {
      "text/plain": [
       "-5.8118799664124685"
      ]
     },
     "metadata": {},
     "output_type": "display_data"
    },
    {
     "data": {
      "text/plain": [
       "-6.003058185647786"
      ]
     },
     "metadata": {},
     "output_type": "display_data"
    },
    {
     "data": {
      "text/plain": [
       "-5.811637785748145"
      ]
     },
     "metadata": {},
     "output_type": "display_data"
    },
    {
     "data": {
      "text/plain": [
       "-5.746192466804904"
      ]
     },
     "metadata": {},
     "output_type": "display_data"
    },
    {
     "data": {
      "text/plain": [
       "-5.9833205456020675"
      ]
     },
     "metadata": {},
     "output_type": "display_data"
    },
    {
     "data": {
      "text/plain": [
       "-5.985468346047684"
      ]
     },
     "metadata": {},
     "output_type": "display_data"
    },
    {
     "data": {
      "text/plain": [
       "-6.010168217536919"
      ]
     },
     "metadata": {},
     "output_type": "display_data"
    },
    {
     "data": {
      "text/plain": [
       "-5.6660626460681"
      ]
     },
     "metadata": {},
     "output_type": "display_data"
    },
    {
     "data": {
      "text/plain": [
       "-5.67716838955413"
      ]
     },
     "metadata": {},
     "output_type": "display_data"
    },
    {
     "data": {
      "text/plain": [
       "-5.71711566087688"
      ]
     },
     "metadata": {},
     "output_type": "display_data"
    },
    {
     "data": {
      "text/plain": [
       "-5.8548029673837"
      ]
     },
     "metadata": {},
     "output_type": "display_data"
    },
    {
     "data": {
      "text/plain": [
       "-6.08714390383156"
      ]
     },
     "metadata": {},
     "output_type": "display_data"
    },
    {
     "data": {
      "text/plain": [
       "-6.279446564985539"
      ]
     },
     "metadata": {},
     "output_type": "display_data"
    },
    {
     "data": {
      "text/plain": [
       "-6.188452273797074"
      ]
     },
     "metadata": {},
     "output_type": "display_data"
    },
    {
     "data": {
      "text/plain": [
       "-6.261628311528079"
      ]
     },
     "metadata": {},
     "output_type": "display_data"
    },
    {
     "data": {
      "text/plain": [
       "-6.190943815718509"
      ]
     },
     "metadata": {},
     "output_type": "display_data"
    },
    {
     "data": {
      "text/plain": [
       "-6.106784248332815"
      ]
     },
     "metadata": {},
     "output_type": "display_data"
    },
    {
     "data": {
      "text/plain": [
       "-5.987110500305498"
      ]
     },
     "metadata": {},
     "output_type": "display_data"
    },
    {
     "data": {
      "text/plain": [
       "-5.921223957128381"
      ]
     },
     "metadata": {},
     "output_type": "display_data"
    },
    {
     "data": {
      "text/plain": [
       "-6.132119552712787"
      ]
     },
     "metadata": {},
     "output_type": "display_data"
    },
    {
     "data": {
      "text/plain": [
       "-6.275457171092741"
      ]
     },
     "metadata": {},
     "output_type": "display_data"
    },
    {
     "data": {
      "text/plain": [
       "-6.559438851663242"
      ]
     },
     "metadata": {},
     "output_type": "display_data"
    },
    {
     "data": {
      "text/plain": [
       "-6.641876239079915"
      ]
     },
     "metadata": {},
     "output_type": "display_data"
    },
    {
     "data": {
      "text/plain": [
       "-6.6834237475553735"
      ]
     },
     "metadata": {},
     "output_type": "display_data"
    },
    {
     "data": {
      "text/plain": [
       "-6.688430711479053"
      ]
     },
     "metadata": {},
     "output_type": "display_data"
    },
    {
     "data": {
      "text/plain": [
       "-6.940293535958569"
      ]
     },
     "metadata": {},
     "output_type": "display_data"
    },
    {
     "data": {
      "text/plain": [
       "-6.963892134270827"
      ]
     },
     "metadata": {},
     "output_type": "display_data"
    },
    {
     "data": {
      "text/plain": [
       "-7.050645986160959"
      ]
     },
     "metadata": {},
     "output_type": "display_data"
    },
    {
     "data": {
      "text/plain": [
       "-7.112698637686506"
      ]
     },
     "metadata": {},
     "output_type": "display_data"
    },
    {
     "data": {
      "text/plain": [
       "-7.183392101541079"
      ]
     },
     "metadata": {},
     "output_type": "display_data"
    },
    {
     "data": {
      "text/plain": [
       "-6.997897345086797"
      ]
     },
     "metadata": {},
     "output_type": "display_data"
    },
    {
     "data": {
      "text/plain": [
       "-7.040132848275702"
      ]
     },
     "metadata": {},
     "output_type": "display_data"
    },
    {
     "data": {
      "text/plain": [
       "-7.393838683524196"
      ]
     },
     "metadata": {},
     "output_type": "display_data"
    },
    {
     "data": {
      "text/plain": [
       "-7.631785227279544"
      ]
     },
     "metadata": {},
     "output_type": "display_data"
    },
    {
     "data": {
      "text/plain": [
       "-7.7334857316086385"
      ]
     },
     "metadata": {},
     "output_type": "display_data"
    },
    {
     "data": {
      "text/plain": [
       "-7.6784085207816055"
      ]
     },
     "metadata": {},
     "output_type": "display_data"
    },
    {
     "data": {
      "text/plain": [
       "-7.770349610317193"
      ]
     },
     "metadata": {},
     "output_type": "display_data"
    },
    {
     "data": {
      "text/plain": [
       "-7.887517759710156"
      ]
     },
     "metadata": {},
     "output_type": "display_data"
    },
    {
     "data": {
      "text/plain": [
       "-8.146093689115471"
      ]
     },
     "metadata": {},
     "output_type": "display_data"
    },
    {
     "data": {
      "text/plain": [
       "-8.1953228093032"
      ]
     },
     "metadata": {},
     "output_type": "display_data"
    },
    {
     "data": {
      "text/plain": [
       "-8.326108035416793"
      ]
     },
     "metadata": {},
     "output_type": "display_data"
    },
    {
     "data": {
      "text/plain": [
       "-8.410489145392123"
      ]
     },
     "metadata": {},
     "output_type": "display_data"
    },
    {
     "data": {
      "text/plain": [
       "-8.271520562842095"
      ]
     },
     "metadata": {},
     "output_type": "display_data"
    },
    {
     "data": {
      "text/plain": [
       "-8.248580004615153"
      ]
     },
     "metadata": {},
     "output_type": "display_data"
    },
    {
     "data": {
      "text/plain": [
       "-8.257683963053557"
      ]
     },
     "metadata": {},
     "output_type": "display_data"
    },
    {
     "data": {
      "text/plain": [
       "-8.27898638450338"
      ]
     },
     "metadata": {},
     "output_type": "display_data"
    },
    {
     "data": {
      "text/plain": [
       "-8.21712967749848"
      ]
     },
     "metadata": {},
     "output_type": "display_data"
    },
    {
     "data": {
      "text/plain": [
       "-8.244056607588293"
      ]
     },
     "metadata": {},
     "output_type": "display_data"
    },
    {
     "data": {
      "text/plain": [
       "-8.1592138939649"
      ]
     },
     "metadata": {},
     "output_type": "display_data"
    },
    {
     "data": {
      "text/plain": [
       "-8.134834345434998"
      ]
     },
     "metadata": {},
     "output_type": "display_data"
    },
    {
     "data": {
      "text/plain": [
       "-8.181689415807638"
      ]
     },
     "metadata": {},
     "output_type": "display_data"
    },
    {
     "data": {
      "text/plain": [
       "-8.21826832597727"
      ]
     },
     "metadata": {},
     "output_type": "display_data"
    },
    {
     "data": {
      "text/plain": [
       "-8.191509527365042"
      ]
     },
     "metadata": {},
     "output_type": "display_data"
    },
    {
     "data": {
      "text/plain": [
       "-8.200586185167264"
      ]
     },
     "metadata": {},
     "output_type": "display_data"
    },
    {
     "data": {
      "text/plain": [
       "-8.206593259143306"
      ]
     },
     "metadata": {},
     "output_type": "display_data"
    },
    {
     "data": {
      "text/plain": [
       "-8.335792909014986"
      ]
     },
     "metadata": {},
     "output_type": "display_data"
    },
    {
     "data": {
      "text/plain": [
       "-8.37300432347613"
      ]
     },
     "metadata": {},
     "output_type": "display_data"
    },
    {
     "data": {
      "text/plain": [
       "-8.114870257401014"
      ]
     },
     "metadata": {},
     "output_type": "display_data"
    },
    {
     "data": {
      "text/plain": [
       "-8.030950195240427"
      ]
     },
     "metadata": {},
     "output_type": "display_data"
    },
    {
     "data": {
      "text/plain": [
       "-8.1500202335176"
      ]
     },
     "metadata": {},
     "output_type": "display_data"
    },
    {
     "data": {
      "text/plain": [
       "-8.150310239697372"
      ]
     },
     "metadata": {},
     "output_type": "display_data"
    },
    {
     "data": {
      "text/plain": [
       "-8.171061107516433"
      ]
     },
     "metadata": {},
     "output_type": "display_data"
    },
    {
     "data": {
      "text/plain": [
       "-8.145159776918735"
      ]
     },
     "metadata": {},
     "output_type": "display_data"
    },
    {
     "data": {
      "text/plain": [
       "-8.24147643275253"
      ]
     },
     "metadata": {},
     "output_type": "display_data"
    },
    {
     "data": {
      "text/plain": [
       "-8.18036643798014"
      ]
     },
     "metadata": {},
     "output_type": "display_data"
    },
    {
     "data": {
      "text/plain": [
       "-8.083868816246804"
      ]
     },
     "metadata": {},
     "output_type": "display_data"
    },
    {
     "data": {
      "text/plain": [
       "-7.938907624124721"
      ]
     },
     "metadata": {},
     "output_type": "display_data"
    },
    {
     "data": {
      "text/plain": [
       "-7.743416059426018"
      ]
     },
     "metadata": {},
     "output_type": "display_data"
    },
    {
     "data": {
      "text/plain": [
       "-7.737960513684685"
      ]
     },
     "metadata": {},
     "output_type": "display_data"
    },
    {
     "data": {
      "text/plain": [
       "-7.641762125603926"
      ]
     },
     "metadata": {},
     "output_type": "display_data"
    },
    {
     "data": {
      "text/plain": [
       "-7.655866022705817"
      ]
     },
     "metadata": {},
     "output_type": "display_data"
    },
    {
     "data": {
      "text/plain": [
       "-7.65115794811383"
      ]
     },
     "metadata": {},
     "output_type": "display_data"
    },
    {
     "data": {
      "text/plain": [
       "-7.609068075805933"
      ]
     },
     "metadata": {},
     "output_type": "display_data"
    },
    {
     "data": {
      "text/plain": [
       "-7.62906219609803"
      ]
     },
     "metadata": {},
     "output_type": "display_data"
    },
    {
     "data": {
      "text/plain": [
       "-7.646358892104333"
      ]
     },
     "metadata": {},
     "output_type": "display_data"
    },
    {
     "data": {
      "text/plain": [
       "-7.638482028304023"
      ]
     },
     "metadata": {},
     "output_type": "display_data"
    },
    {
     "data": {
      "text/plain": [
       "-7.605858284420054"
      ]
     },
     "metadata": {},
     "output_type": "display_data"
    },
    {
     "data": {
      "text/plain": [
       "-7.590535357960371"
      ]
     },
     "metadata": {},
     "output_type": "display_data"
    },
    {
     "data": {
      "text/plain": [
       "-7.480492267783145"
      ]
     },
     "metadata": {},
     "output_type": "display_data"
    },
    {
     "data": {
      "text/plain": [
       "-7.393462420699846"
      ]
     },
     "metadata": {},
     "output_type": "display_data"
    },
    {
     "data": {
      "text/plain": [
       "-7.286530354463199"
      ]
     },
     "metadata": {},
     "output_type": "display_data"
    },
    {
     "data": {
      "text/plain": [
       "-7.248330363268204"
      ]
     },
     "metadata": {},
     "output_type": "display_data"
    },
    {
     "data": {
      "text/plain": [
       "-7.2172760390462845"
      ]
     },
     "metadata": {},
     "output_type": "display_data"
    },
    {
     "data": {
      "text/plain": [
       "-7.064802569131574"
      ]
     },
     "metadata": {},
     "output_type": "display_data"
    },
    {
     "data": {
      "text/plain": [
       "-7.036322688562896"
      ]
     },
     "metadata": {},
     "output_type": "display_data"
    },
    {
     "data": {
      "text/plain": [
       "-6.996711545983122"
      ]
     },
     "metadata": {},
     "output_type": "display_data"
    },
    {
     "data": {
      "text/plain": [
       "-6.887198764009462"
      ]
     },
     "metadata": {},
     "output_type": "display_data"
    },
    {
     "data": {
      "text/plain": [
       "-6.862308603887609"
      ]
     },
     "metadata": {},
     "output_type": "display_data"
    },
    {
     "data": {
      "text/plain": [
       "-6.783761134630494"
      ]
     },
     "metadata": {},
     "output_type": "display_data"
    },
    {
     "data": {
      "text/plain": [
       "-6.724672774811804"
      ]
     },
     "metadata": {},
     "output_type": "display_data"
    },
    {
     "data": {
      "text/plain": [
       "-6.672005414376069"
      ]
     },
     "metadata": {},
     "output_type": "display_data"
    },
    {
     "data": {
      "text/plain": [
       "-6.619594477724062"
      ]
     },
     "metadata": {},
     "output_type": "display_data"
    },
    {
     "data": {
      "text/plain": [
       "-6.5758604071882765"
      ]
     },
     "metadata": {},
     "output_type": "display_data"
    },
    {
     "data": {
      "text/plain": [
       "-6.515816739741492"
      ]
     },
     "metadata": {},
     "output_type": "display_data"
    },
    {
     "data": {
      "text/plain": [
       "-6.5406230878598235"
      ]
     },
     "metadata": {},
     "output_type": "display_data"
    },
    {
     "data": {
      "text/plain": [
       "-6.511215097733235"
      ]
     },
     "metadata": {},
     "output_type": "display_data"
    },
    {
     "data": {
      "text/plain": [
       "-6.459601626485989"
      ]
     },
     "metadata": {},
     "output_type": "display_data"
    },
    {
     "data": {
      "text/plain": [
       "-6.383270347582476"
      ]
     },
     "metadata": {},
     "output_type": "display_data"
    },
    {
     "data": {
      "text/plain": [
       "-6.318090815347257"
      ]
     },
     "metadata": {},
     "output_type": "display_data"
    },
    {
     "data": {
      "text/plain": [
       "-6.255944390025407"
      ]
     },
     "metadata": {},
     "output_type": "display_data"
    },
    {
     "data": {
      "text/plain": [
       "-6.196932549513777"
      ]
     },
     "metadata": {},
     "output_type": "display_data"
    },
    {
     "data": {
      "text/plain": [
       "-6.124820485774242"
      ]
     },
     "metadata": {},
     "output_type": "display_data"
    },
    {
     "data": {
      "text/plain": [
       "-6.043273223654397"
      ]
     },
     "metadata": {},
     "output_type": "display_data"
    },
    {
     "data": {
      "text/plain": [
       "-5.9984107654726175"
      ]
     },
     "metadata": {},
     "output_type": "display_data"
    },
    {
     "data": {
      "text/plain": [
       "-5.908276195988318"
      ]
     },
     "metadata": {},
     "output_type": "display_data"
    },
    {
     "data": {
      "text/plain": [
       "-5.816627801946468"
      ]
     },
     "metadata": {},
     "output_type": "display_data"
    },
    {
     "data": {
      "text/plain": [
       "-5.750781371828992"
      ]
     },
     "metadata": {},
     "output_type": "display_data"
    },
    {
     "data": {
      "text/plain": [
       "-5.698338660874615"
      ]
     },
     "metadata": {},
     "output_type": "display_data"
    },
    {
     "data": {
      "text/plain": [
       "-5.635183433841355"
      ]
     },
     "metadata": {},
     "output_type": "display_data"
    },
    {
     "data": {
      "text/plain": [
       "-5.5436938816791335"
      ]
     },
     "metadata": {},
     "output_type": "display_data"
    },
    {
     "data": {
      "text/plain": [
       "-5.499015364691594"
      ]
     },
     "metadata": {},
     "output_type": "display_data"
    },
    {
     "data": {
      "text/plain": [
       "-5.448914807290498"
      ]
     },
     "metadata": {},
     "output_type": "display_data"
    },
    {
     "data": {
      "text/plain": [
       "-5.3880895425036215"
      ]
     },
     "metadata": {},
     "output_type": "display_data"
    },
    {
     "data": {
      "text/plain": [
       "-5.326343943182881"
      ]
     },
     "metadata": {},
     "output_type": "display_data"
    },
    {
     "data": {
      "text/plain": [
       "-5.267843741363867"
      ]
     },
     "metadata": {},
     "output_type": "display_data"
    },
    {
     "data": {
      "text/plain": [
       "-5.2066735161872995"
      ]
     },
     "metadata": {},
     "output_type": "display_data"
    },
    {
     "data": {
      "text/plain": [
       "-5.151318976128376"
      ]
     },
     "metadata": {},
     "output_type": "display_data"
    },
    {
     "data": {
      "text/plain": [
       "-5.096682561943561"
      ]
     },
     "metadata": {},
     "output_type": "display_data"
    },
    {
     "data": {
      "text/plain": [
       "-8.582637891893146"
      ]
     },
     "metadata": {},
     "output_type": "display_data"
    },
    {
     "data": {
      "text/plain": [
       "-8.582637891893146"
      ]
     },
     "metadata": {},
     "output_type": "display_data"
    },
    {
     "data": {
      "text/plain": [
       "-8.582637891893146"
      ]
     },
     "metadata": {},
     "output_type": "display_data"
    },
    {
     "data": {
      "text/plain": [
       "-8.582637891893146"
      ]
     },
     "metadata": {},
     "output_type": "display_data"
    },
    {
     "data": {
      "text/plain": [
       "-8.582637891893146"
      ]
     },
     "metadata": {},
     "output_type": "display_data"
    },
    {
     "data": {
      "text/plain": [
       "-8.582637891893146"
      ]
     },
     "metadata": {},
     "output_type": "display_data"
    },
    {
     "data": {
      "text/plain": [
       "-8.582637891893146"
      ]
     },
     "metadata": {},
     "output_type": "display_data"
    },
    {
     "data": {
      "text/plain": [
       "-8.582637891893146"
      ]
     },
     "metadata": {},
     "output_type": "display_data"
    },
    {
     "data": {
      "text/plain": [
       "-8.582637891893146"
      ]
     },
     "metadata": {},
     "output_type": "display_data"
    },
    {
     "data": {
      "text/plain": [
       "-8.582637891893146"
      ]
     },
     "metadata": {},
     "output_type": "display_data"
    },
    {
     "data": {
      "text/plain": [
       "-8.582637891893146"
      ]
     },
     "metadata": {},
     "output_type": "display_data"
    },
    {
     "data": {
      "text/plain": [
       "-8.582637891893146"
      ]
     },
     "metadata": {},
     "output_type": "display_data"
    },
    {
     "data": {
      "text/plain": [
       "-8.582637891893146"
      ]
     },
     "metadata": {},
     "output_type": "display_data"
    },
    {
     "data": {
      "text/plain": [
       "-8.582637891893146"
      ]
     },
     "metadata": {},
     "output_type": "display_data"
    },
    {
     "data": {
      "text/plain": [
       "-8.582637891893146"
      ]
     },
     "metadata": {},
     "output_type": "display_data"
    },
    {
     "data": {
      "text/plain": [
       "-8.582637891893146"
      ]
     },
     "metadata": {},
     "output_type": "display_data"
    },
    {
     "data": {
      "text/plain": [
       "-8.582637891893146"
      ]
     },
     "metadata": {},
     "output_type": "display_data"
    },
    {
     "data": {
      "text/plain": [
       "-8.582637891893146"
      ]
     },
     "metadata": {},
     "output_type": "display_data"
    },
    {
     "data": {
      "text/plain": [
       "-8.582637891893146"
      ]
     },
     "metadata": {},
     "output_type": "display_data"
    },
    {
     "data": {
      "text/plain": [
       "-8.582637891893146"
      ]
     },
     "metadata": {},
     "output_type": "display_data"
    },
    {
     "data": {
      "text/plain": [
       "-8.582637891893146"
      ]
     },
     "metadata": {},
     "output_type": "display_data"
    }
   ],
   "source": [
    "# Check conic violation\n",
    "convio = 0.0\n",
    "for k = 1:Nsim-1\n",
    "    Uc = cone_u(params, Uhist[k])\n",
    "    huc = norm(Uc[1:2]) - Uc[3]\n",
    "    convio = norm(huc + abs.(huc),Inf)\n",
    "    display(huc) # should <= 0\n",
    "end"
   ]
  },
  {
   "cell_type": "code",
   "execution_count": 589,
   "id": "ffaab90d-dddc-4512-8c8b-4561cd053fdf",
   "metadata": {},
   "outputs": [
    {
     "name": "stdout",
     "output_type": "stream",
     "text": [
      "traj_error = maximum(norm.(e_sim_m, Inf)) = 3.961031502797141e-11\n"
     ]
    },
    {
     "data": {
      "image/svg+xml": [
       "<?xml version=\"1.0\" encoding=\"utf-8\"?>\n",
       "<svg xmlns=\"http://www.w3.org/2000/svg\" xmlns:xlink=\"http://www.w3.org/1999/xlink\" width=\"600\" height=\"400\" viewBox=\"0 0 2400 1600\">\n",
       "<defs>\n",
       "  <clipPath id=\"clip880\">\n",
       "    <rect x=\"0\" y=\"0\" width=\"2400\" height=\"1600\"/>\n",
       "  </clipPath>\n",
       "</defs>\n",
       "<path clip-path=\"url(#clip880)\" d=\"M0 1600 L2400 1600 L2400 0 L0 0  Z\" fill=\"#ffffff\" fill-rule=\"evenodd\" fill-opacity=\"1\"/>\n",
       "<defs>\n",
       "  <clipPath id=\"clip881\">\n",
       "    <rect x=\"480\" y=\"0\" width=\"1681\" height=\"1600\"/>\n",
       "  </clipPath>\n",
       "</defs>\n",
       "<path clip-path=\"url(#clip880)\" d=\"M393.887 1423.18 L2352.76 1423.18 L2352.76 123.472 L393.887 123.472  Z\" fill=\"#ffffff\" fill-rule=\"evenodd\" fill-opacity=\"1\"/>\n",
       "<defs>\n",
       "  <clipPath id=\"clip882\">\n",
       "    <rect x=\"393\" y=\"123\" width=\"1960\" height=\"1301\"/>\n",
       "  </clipPath>\n",
       "</defs>\n",
       "<polyline clip-path=\"url(#clip882)\" style=\"stroke:#000000; stroke-linecap:round; stroke-linejoin:round; stroke-width:2; stroke-opacity:0.1; fill:none\" points=\"449.327,1423.18 449.327,123.472 \"/>\n",
       "<polyline clip-path=\"url(#clip882)\" style=\"stroke:#000000; stroke-linecap:round; stroke-linejoin:round; stroke-width:2; stroke-opacity:0.1; fill:none\" points=\"780.508,1423.18 780.508,123.472 \"/>\n",
       "<polyline clip-path=\"url(#clip882)\" style=\"stroke:#000000; stroke-linecap:round; stroke-linejoin:round; stroke-width:2; stroke-opacity:0.1; fill:none\" points=\"1111.69,1423.18 1111.69,123.472 \"/>\n",
       "<polyline clip-path=\"url(#clip882)\" style=\"stroke:#000000; stroke-linecap:round; stroke-linejoin:round; stroke-width:2; stroke-opacity:0.1; fill:none\" points=\"1442.87,1423.18 1442.87,123.472 \"/>\n",
       "<polyline clip-path=\"url(#clip882)\" style=\"stroke:#000000; stroke-linecap:round; stroke-linejoin:round; stroke-width:2; stroke-opacity:0.1; fill:none\" points=\"1774.05,1423.18 1774.05,123.472 \"/>\n",
       "<polyline clip-path=\"url(#clip882)\" style=\"stroke:#000000; stroke-linecap:round; stroke-linejoin:round; stroke-width:2; stroke-opacity:0.1; fill:none\" points=\"2105.23,1423.18 2105.23,123.472 \"/>\n",
       "<polyline clip-path=\"url(#clip880)\" style=\"stroke:#000000; stroke-linecap:round; stroke-linejoin:round; stroke-width:4; stroke-opacity:1; fill:none\" points=\"393.887,1423.18 2352.76,1423.18 \"/>\n",
       "<polyline clip-path=\"url(#clip880)\" style=\"stroke:#000000; stroke-linecap:round; stroke-linejoin:round; stroke-width:4; stroke-opacity:1; fill:none\" points=\"449.327,1423.18 449.327,1404.28 \"/>\n",
       "<polyline clip-path=\"url(#clip880)\" style=\"stroke:#000000; stroke-linecap:round; stroke-linejoin:round; stroke-width:4; stroke-opacity:1; fill:none\" points=\"780.508,1423.18 780.508,1404.28 \"/>\n",
       "<polyline clip-path=\"url(#clip880)\" style=\"stroke:#000000; stroke-linecap:round; stroke-linejoin:round; stroke-width:4; stroke-opacity:1; fill:none\" points=\"1111.69,1423.18 1111.69,1404.28 \"/>\n",
       "<polyline clip-path=\"url(#clip880)\" style=\"stroke:#000000; stroke-linecap:round; stroke-linejoin:round; stroke-width:4; stroke-opacity:1; fill:none\" points=\"1442.87,1423.18 1442.87,1404.28 \"/>\n",
       "<polyline clip-path=\"url(#clip880)\" style=\"stroke:#000000; stroke-linecap:round; stroke-linejoin:round; stroke-width:4; stroke-opacity:1; fill:none\" points=\"1774.05,1423.18 1774.05,1404.28 \"/>\n",
       "<polyline clip-path=\"url(#clip880)\" style=\"stroke:#000000; stroke-linecap:round; stroke-linejoin:round; stroke-width:4; stroke-opacity:1; fill:none\" points=\"2105.23,1423.18 2105.23,1404.28 \"/>\n",
       "<path clip-path=\"url(#clip880)\" d=\"M426.711 1454.1 Q423.1 1454.1 421.272 1457.66 Q419.466 1461.2 419.466 1468.33 Q419.466 1475.44 421.272 1479.01 Q423.1 1482.55 426.711 1482.55 Q430.346 1482.55 432.151 1479.01 Q433.98 1475.44 433.98 1468.33 Q433.98 1461.2 432.151 1457.66 Q430.346 1454.1 426.711 1454.1 M426.711 1450.39 Q432.522 1450.39 435.577 1455 Q438.656 1459.58 438.656 1468.33 Q438.656 1477.06 435.577 1481.67 Q432.522 1486.25 426.711 1486.25 Q420.901 1486.25 417.823 1481.67 Q414.767 1477.06 414.767 1468.33 Q414.767 1459.58 417.823 1455 Q420.901 1450.39 426.711 1450.39 Z\" fill=\"#000000\" fill-rule=\"evenodd\" fill-opacity=\"1\" /><path clip-path=\"url(#clip880)\" d=\"M446.873 1479.7 L451.758 1479.7 L451.758 1485.58 L446.873 1485.58 L446.873 1479.7 Z\" fill=\"#000000\" fill-rule=\"evenodd\" fill-opacity=\"1\" /><path clip-path=\"url(#clip880)\" d=\"M471.943 1454.1 Q468.332 1454.1 466.503 1457.66 Q464.697 1461.2 464.697 1468.33 Q464.697 1475.44 466.503 1479.01 Q468.332 1482.55 471.943 1482.55 Q475.577 1482.55 477.382 1479.01 Q479.211 1475.44 479.211 1468.33 Q479.211 1461.2 477.382 1457.66 Q475.577 1454.1 471.943 1454.1 M471.943 1450.39 Q477.753 1450.39 480.808 1455 Q483.887 1459.58 483.887 1468.33 Q483.887 1477.06 480.808 1481.67 Q477.753 1486.25 471.943 1486.25 Q466.132 1486.25 463.054 1481.67 Q459.998 1477.06 459.998 1468.33 Q459.998 1459.58 463.054 1455 Q466.132 1450.39 471.943 1450.39 Z\" fill=\"#000000\" fill-rule=\"evenodd\" fill-opacity=\"1\" /><path clip-path=\"url(#clip880)\" d=\"M752.244 1481.64 L768.563 1481.64 L768.563 1485.58 L746.619 1485.58 L746.619 1481.64 Q749.281 1478.89 753.864 1474.26 Q758.471 1469.61 759.651 1468.27 Q761.897 1465.74 762.776 1464.01 Q763.679 1462.25 763.679 1460.56 Q763.679 1457.8 761.735 1456.07 Q759.814 1454.33 756.712 1454.33 Q754.513 1454.33 752.059 1455.09 Q749.628 1455.86 746.851 1457.41 L746.851 1452.69 Q749.675 1451.55 752.128 1450.97 Q754.582 1450.39 756.619 1450.39 Q761.989 1450.39 765.184 1453.08 Q768.378 1455.77 768.378 1460.26 Q768.378 1462.39 767.568 1464.31 Q766.781 1466.2 764.675 1468.8 Q764.096 1469.47 760.994 1472.69 Q757.892 1475.88 752.244 1481.64 Z\" fill=\"#000000\" fill-rule=\"evenodd\" fill-opacity=\"1\" /><path clip-path=\"url(#clip880)\" d=\"M778.378 1479.7 L783.262 1479.7 L783.262 1485.58 L778.378 1485.58 L778.378 1479.7 Z\" fill=\"#000000\" fill-rule=\"evenodd\" fill-opacity=\"1\" /><path clip-path=\"url(#clip880)\" d=\"M793.494 1451.02 L811.85 1451.02 L811.85 1454.96 L797.776 1454.96 L797.776 1463.43 Q798.795 1463.08 799.813 1462.92 Q800.832 1462.73 801.85 1462.73 Q807.637 1462.73 811.017 1465.9 Q814.397 1469.08 814.397 1474.49 Q814.397 1480.07 810.924 1483.17 Q807.452 1486.25 801.133 1486.25 Q798.957 1486.25 796.688 1485.88 Q794.443 1485.51 792.036 1484.77 L792.036 1480.07 Q794.119 1481.2 796.341 1481.76 Q798.563 1482.32 801.04 1482.32 Q805.045 1482.32 807.383 1480.21 Q809.721 1478.1 809.721 1474.49 Q809.721 1470.88 807.383 1468.77 Q805.045 1466.67 801.04 1466.67 Q799.165 1466.67 797.29 1467.08 Q795.438 1467.5 793.494 1468.38 L793.494 1451.02 Z\" fill=\"#000000\" fill-rule=\"evenodd\" fill-opacity=\"1\" /><path clip-path=\"url(#clip880)\" d=\"M1078.85 1451.02 L1097.21 1451.02 L1097.21 1454.96 L1083.14 1454.96 L1083.14 1463.43 Q1084.15 1463.08 1085.17 1462.92 Q1086.19 1462.73 1087.21 1462.73 Q1093 1462.73 1096.38 1465.9 Q1099.76 1469.08 1099.76 1474.49 Q1099.76 1480.07 1096.28 1483.17 Q1092.81 1486.25 1086.49 1486.25 Q1084.32 1486.25 1082.05 1485.88 Q1079.8 1485.51 1077.39 1484.77 L1077.39 1480.07 Q1079.48 1481.2 1081.7 1481.76 Q1083.92 1482.32 1086.4 1482.32 Q1090.4 1482.32 1092.74 1480.21 Q1095.08 1478.1 1095.08 1474.49 Q1095.08 1470.88 1092.74 1468.77 Q1090.4 1466.67 1086.4 1466.67 Q1084.52 1466.67 1082.65 1467.08 Q1080.8 1467.5 1078.85 1468.38 L1078.85 1451.02 Z\" fill=\"#000000\" fill-rule=\"evenodd\" fill-opacity=\"1\" /><path clip-path=\"url(#clip880)\" d=\"M1108.97 1479.7 L1113.85 1479.7 L1113.85 1485.58 L1108.97 1485.58 L1108.97 1479.7 Z\" fill=\"#000000\" fill-rule=\"evenodd\" fill-opacity=\"1\" /><path clip-path=\"url(#clip880)\" d=\"M1134.04 1454.1 Q1130.43 1454.1 1128.6 1457.66 Q1126.79 1461.2 1126.79 1468.33 Q1126.79 1475.44 1128.6 1479.01 Q1130.43 1482.55 1134.04 1482.55 Q1137.67 1482.55 1139.48 1479.01 Q1141.31 1475.44 1141.31 1468.33 Q1141.31 1461.2 1139.48 1457.66 Q1137.67 1454.1 1134.04 1454.1 M1134.04 1450.39 Q1139.85 1450.39 1142.9 1455 Q1145.98 1459.58 1145.98 1468.33 Q1145.98 1477.06 1142.9 1481.67 Q1139.85 1486.25 1134.04 1486.25 Q1128.23 1486.25 1125.15 1481.67 Q1122.09 1477.06 1122.09 1468.33 Q1122.09 1459.58 1125.15 1455 Q1128.23 1450.39 1134.04 1450.39 Z\" fill=\"#000000\" fill-rule=\"evenodd\" fill-opacity=\"1\" /><path clip-path=\"url(#clip880)\" d=\"M1409.19 1451.02 L1431.41 1451.02 L1431.41 1453.01 L1418.87 1485.58 L1413.98 1485.58 L1425.79 1454.96 L1409.19 1454.96 L1409.19 1451.02 Z\" fill=\"#000000\" fill-rule=\"evenodd\" fill-opacity=\"1\" /><path clip-path=\"url(#clip880)\" d=\"M1440.53 1479.7 L1445.42 1479.7 L1445.42 1485.58 L1440.53 1485.58 L1440.53 1479.7 Z\" fill=\"#000000\" fill-rule=\"evenodd\" fill-opacity=\"1\" /><path clip-path=\"url(#clip880)\" d=\"M1455.65 1451.02 L1474 1451.02 L1474 1454.96 L1459.93 1454.96 L1459.93 1463.43 Q1460.95 1463.08 1461.97 1462.92 Q1462.99 1462.73 1464 1462.73 Q1469.79 1462.73 1473.17 1465.9 Q1476.55 1469.08 1476.55 1474.49 Q1476.55 1480.07 1473.08 1483.17 Q1469.61 1486.25 1463.29 1486.25 Q1461.11 1486.25 1458.84 1485.88 Q1456.6 1485.51 1454.19 1484.77 L1454.19 1480.07 Q1456.27 1481.2 1458.49 1481.76 Q1460.72 1482.32 1463.19 1482.32 Q1467.2 1482.32 1469.54 1480.21 Q1471.87 1478.1 1471.87 1474.49 Q1471.87 1470.88 1469.54 1468.77 Q1467.2 1466.67 1463.19 1466.67 Q1461.32 1466.67 1459.44 1467.08 Q1457.59 1467.5 1455.65 1468.38 L1455.65 1451.02 Z\" fill=\"#000000\" fill-rule=\"evenodd\" fill-opacity=\"1\" /><path clip-path=\"url(#clip880)\" d=\"M1726.12 1481.64 L1733.76 1481.64 L1733.76 1455.28 L1725.45 1456.95 L1725.45 1452.69 L1733.72 1451.02 L1738.39 1451.02 L1738.39 1481.64 L1746.03 1481.64 L1746.03 1485.58 L1726.12 1485.58 L1726.12 1481.64 Z\" fill=\"#000000\" fill-rule=\"evenodd\" fill-opacity=\"1\" /><path clip-path=\"url(#clip880)\" d=\"M1765.47 1454.1 Q1761.86 1454.1 1760.03 1457.66 Q1758.23 1461.2 1758.23 1468.33 Q1758.23 1475.44 1760.03 1479.01 Q1761.86 1482.55 1765.47 1482.55 Q1769.11 1482.55 1770.91 1479.01 Q1772.74 1475.44 1772.74 1468.33 Q1772.74 1461.2 1770.91 1457.66 Q1769.11 1454.1 1765.47 1454.1 M1765.47 1450.39 Q1771.28 1450.39 1774.34 1455 Q1777.42 1459.58 1777.42 1468.33 Q1777.42 1477.06 1774.34 1481.67 Q1771.28 1486.25 1765.47 1486.25 Q1759.66 1486.25 1756.59 1481.67 Q1753.53 1477.06 1753.53 1468.33 Q1753.53 1459.58 1756.59 1455 Q1759.66 1450.39 1765.47 1450.39 Z\" fill=\"#000000\" fill-rule=\"evenodd\" fill-opacity=\"1\" /><path clip-path=\"url(#clip880)\" d=\"M1785.64 1479.7 L1790.52 1479.7 L1790.52 1485.58 L1785.64 1485.58 L1785.64 1479.7 Z\" fill=\"#000000\" fill-rule=\"evenodd\" fill-opacity=\"1\" /><path clip-path=\"url(#clip880)\" d=\"M1810.71 1454.1 Q1807.09 1454.1 1805.27 1457.66 Q1803.46 1461.2 1803.46 1468.33 Q1803.46 1475.44 1805.27 1479.01 Q1807.09 1482.55 1810.71 1482.55 Q1814.34 1482.55 1816.15 1479.01 Q1817.97 1475.44 1817.97 1468.33 Q1817.97 1461.2 1816.15 1457.66 Q1814.34 1454.1 1810.71 1454.1 M1810.71 1450.39 Q1816.52 1450.39 1819.57 1455 Q1822.65 1459.58 1822.65 1468.33 Q1822.65 1477.06 1819.57 1481.67 Q1816.52 1486.25 1810.71 1486.25 Q1804.9 1486.25 1801.82 1481.67 Q1798.76 1477.06 1798.76 1468.33 Q1798.76 1459.58 1801.82 1455 Q1804.9 1450.39 1810.71 1450.39 Z\" fill=\"#000000\" fill-rule=\"evenodd\" fill-opacity=\"1\" /><path clip-path=\"url(#clip880)\" d=\"M2057.8 1481.64 L2065.44 1481.64 L2065.44 1455.28 L2057.13 1456.95 L2057.13 1452.69 L2065.39 1451.02 L2070.07 1451.02 L2070.07 1481.64 L2077.71 1481.64 L2077.71 1485.58 L2057.8 1485.58 L2057.8 1481.64 Z\" fill=\"#000000\" fill-rule=\"evenodd\" fill-opacity=\"1\" /><path clip-path=\"url(#clip880)\" d=\"M2091.18 1481.64 L2107.5 1481.64 L2107.5 1485.58 L2085.56 1485.58 L2085.56 1481.64 Q2088.22 1478.89 2092.8 1474.26 Q2097.41 1469.61 2098.59 1468.27 Q2100.83 1465.74 2101.71 1464.01 Q2102.62 1462.25 2102.62 1460.56 Q2102.62 1457.8 2100.67 1456.07 Q2098.75 1454.33 2095.65 1454.33 Q2093.45 1454.33 2091 1455.09 Q2088.56 1455.86 2085.79 1457.41 L2085.79 1452.69 Q2088.61 1451.55 2091.06 1450.97 Q2093.52 1450.39 2095.56 1450.39 Q2100.93 1450.39 2104.12 1453.08 Q2107.31 1455.77 2107.31 1460.26 Q2107.31 1462.39 2106.5 1464.31 Q2105.72 1466.2 2103.61 1468.8 Q2103.03 1469.47 2099.93 1472.69 Q2096.83 1475.88 2091.18 1481.64 Z\" fill=\"#000000\" fill-rule=\"evenodd\" fill-opacity=\"1\" /><path clip-path=\"url(#clip880)\" d=\"M2117.31 1479.7 L2122.2 1479.7 L2122.2 1485.58 L2117.31 1485.58 L2117.31 1479.7 Z\" fill=\"#000000\" fill-rule=\"evenodd\" fill-opacity=\"1\" /><path clip-path=\"url(#clip880)\" d=\"M2132.43 1451.02 L2150.79 1451.02 L2150.79 1454.96 L2136.71 1454.96 L2136.71 1463.43 Q2137.73 1463.08 2138.75 1462.92 Q2139.77 1462.73 2140.79 1462.73 Q2146.57 1462.73 2149.95 1465.9 Q2153.33 1469.08 2153.33 1474.49 Q2153.33 1480.07 2149.86 1483.17 Q2146.39 1486.25 2140.07 1486.25 Q2137.89 1486.25 2135.62 1485.88 Q2133.38 1485.51 2130.97 1484.77 L2130.97 1480.07 Q2133.06 1481.2 2135.28 1481.76 Q2137.5 1482.32 2139.98 1482.32 Q2143.98 1482.32 2146.32 1480.21 Q2148.66 1478.1 2148.66 1474.49 Q2148.66 1470.88 2146.32 1468.77 Q2143.98 1466.67 2139.98 1466.67 Q2138.1 1466.67 2136.23 1467.08 Q2134.37 1467.5 2132.43 1468.38 L2132.43 1451.02 Z\" fill=\"#000000\" fill-rule=\"evenodd\" fill-opacity=\"1\" /><path clip-path=\"url(#clip880)\" d=\"M1260.78 1522.27 L1260.78 1532.4 L1272.84 1532.4 L1272.84 1536.95 L1260.78 1536.95 L1260.78 1556.3 Q1260.78 1560.66 1261.95 1561.9 Q1263.16 1563.14 1266.82 1563.14 L1272.84 1563.14 L1272.84 1568.04 L1266.82 1568.04 Q1260.04 1568.04 1257.47 1565.53 Q1254.89 1562.98 1254.89 1556.3 L1254.89 1536.95 L1250.59 1536.95 L1250.59 1532.4 L1254.89 1532.4 L1254.89 1522.27 L1260.78 1522.27 Z\" fill=\"#000000\" fill-rule=\"evenodd\" fill-opacity=\"1\" /><path clip-path=\"url(#clip880)\" d=\"M1280.54 1532.4 L1286.4 1532.4 L1286.4 1568.04 L1280.54 1568.04 L1280.54 1532.4 M1280.54 1518.52 L1286.4 1518.52 L1286.4 1525.93 L1280.54 1525.93 L1280.54 1518.52 Z\" fill=\"#000000\" fill-rule=\"evenodd\" fill-opacity=\"1\" /><path clip-path=\"url(#clip880)\" d=\"M1326.41 1539.24 Q1328.6 1535.29 1331.66 1533.41 Q1334.71 1531.54 1338.85 1531.54 Q1344.42 1531.54 1347.45 1535.45 Q1350.47 1539.33 1350.47 1546.53 L1350.47 1568.04 L1344.58 1568.04 L1344.58 1546.72 Q1344.58 1541.59 1342.77 1539.11 Q1340.95 1536.63 1337.23 1536.63 Q1332.68 1536.63 1330.03 1539.65 Q1327.39 1542.68 1327.39 1547.9 L1327.39 1568.04 L1321.5 1568.04 L1321.5 1546.72 Q1321.5 1541.56 1319.69 1539.11 Q1317.88 1536.63 1314.09 1536.63 Q1309.6 1536.63 1306.96 1539.68 Q1304.32 1542.71 1304.32 1547.9 L1304.32 1568.04 L1298.43 1568.04 L1298.43 1532.4 L1304.32 1532.4 L1304.32 1537.93 Q1306.32 1534.66 1309.12 1533.1 Q1311.92 1531.54 1315.78 1531.54 Q1319.66 1531.54 1322.36 1533.51 Q1325.1 1535.48 1326.41 1539.24 Z\" fill=\"#000000\" fill-rule=\"evenodd\" fill-opacity=\"1\" /><path clip-path=\"url(#clip880)\" d=\"M1392.64 1548.76 L1392.64 1551.62 L1365.71 1551.62 Q1366.1 1557.67 1369.34 1560.85 Q1372.62 1564 1378.45 1564 Q1381.82 1564 1384.97 1563.17 Q1388.15 1562.35 1391.27 1560.69 L1391.27 1566.23 Q1388.12 1567.57 1384.81 1568.27 Q1381.5 1568.97 1378.1 1568.97 Q1369.57 1568.97 1364.57 1564 Q1359.6 1559.04 1359.6 1550.57 Q1359.6 1541.82 1364.31 1536.69 Q1369.06 1531.54 1377.08 1531.54 Q1384.27 1531.54 1388.44 1536.18 Q1392.64 1540.8 1392.64 1548.76 M1386.79 1547.04 Q1386.72 1542.23 1384.08 1539.37 Q1381.47 1536.5 1377.14 1536.5 Q1372.24 1536.5 1369.28 1539.27 Q1366.35 1542.04 1365.91 1547.07 L1386.79 1547.04 Z\" fill=\"#000000\" fill-rule=\"evenodd\" fill-opacity=\"1\" /><path clip-path=\"url(#clip880)\" d=\"M1437.04 1518.58 Q1432.78 1525.9 1430.71 1533.06 Q1428.64 1540.23 1428.64 1547.58 Q1428.64 1554.93 1430.71 1562.16 Q1432.81 1569.35 1437.04 1576.64 L1431.95 1576.64 Q1427.18 1569.16 1424.79 1561.93 Q1422.43 1554.71 1422.43 1547.58 Q1422.43 1540.48 1424.79 1533.29 Q1427.14 1526.09 1431.95 1518.58 L1437.04 1518.58 Z\" fill=\"#000000\" fill-rule=\"evenodd\" fill-opacity=\"1\" /><path clip-path=\"url(#clip880)\" d=\"M1471.13 1533.45 L1471.13 1538.98 Q1468.65 1537.71 1465.97 1537.07 Q1463.3 1536.44 1460.44 1536.44 Q1456.08 1536.44 1453.88 1537.77 Q1451.72 1539.11 1451.72 1541.79 Q1451.72 1543.82 1453.27 1545 Q1454.83 1546.15 1459.55 1547.2 L1461.55 1547.64 Q1467.79 1548.98 1470.4 1551.43 Q1473.04 1553.85 1473.04 1558.21 Q1473.04 1563.17 1469.09 1566.07 Q1465.18 1568.97 1458.3 1568.97 Q1455.44 1568.97 1452.32 1568.39 Q1449.23 1567.85 1445.8 1566.74 L1445.8 1560.69 Q1449.04 1562.38 1452.19 1563.24 Q1455.34 1564.07 1458.43 1564.07 Q1462.57 1564.07 1464.8 1562.66 Q1467.02 1561.23 1467.02 1558.65 Q1467.02 1556.27 1465.4 1554.99 Q1463.81 1553.72 1458.37 1552.54 L1456.33 1552.07 Q1450.89 1550.92 1448.47 1548.56 Q1446.05 1546.18 1446.05 1542.04 Q1446.05 1537.01 1449.61 1534.27 Q1453.18 1531.54 1459.74 1531.54 Q1462.98 1531.54 1465.85 1532.01 Q1468.71 1532.49 1471.13 1533.45 Z\" fill=\"#000000\" fill-rule=\"evenodd\" fill-opacity=\"1\" /><path clip-path=\"url(#clip880)\" d=\"M1481.44 1518.58 L1486.54 1518.58 Q1491.31 1526.09 1493.67 1533.29 Q1496.05 1540.48 1496.05 1547.58 Q1496.05 1554.71 1493.67 1561.93 Q1491.31 1569.16 1486.54 1576.64 L1481.44 1576.64 Q1485.68 1569.35 1487.75 1562.16 Q1489.85 1554.93 1489.85 1547.58 Q1489.85 1540.23 1487.75 1533.06 Q1485.68 1525.9 1481.44 1518.58 Z\" fill=\"#000000\" fill-rule=\"evenodd\" fill-opacity=\"1\" /><polyline clip-path=\"url(#clip882)\" style=\"stroke:#000000; stroke-linecap:round; stroke-linejoin:round; stroke-width:2; stroke-opacity:0.1; fill:none\" points=\"393.887,1340.74 2352.76,1340.74 \"/>\n",
       "<polyline clip-path=\"url(#clip882)\" style=\"stroke:#000000; stroke-linecap:round; stroke-linejoin:round; stroke-width:2; stroke-opacity:0.1; fill:none\" points=\"393.887,1042.71 2352.76,1042.71 \"/>\n",
       "<polyline clip-path=\"url(#clip882)\" style=\"stroke:#000000; stroke-linecap:round; stroke-linejoin:round; stroke-width:2; stroke-opacity:0.1; fill:none\" points=\"393.887,744.689 2352.76,744.689 \"/>\n",
       "<polyline clip-path=\"url(#clip882)\" style=\"stroke:#000000; stroke-linecap:round; stroke-linejoin:round; stroke-width:2; stroke-opacity:0.1; fill:none\" points=\"393.887,446.666 2352.76,446.666 \"/>\n",
       "<polyline clip-path=\"url(#clip882)\" style=\"stroke:#000000; stroke-linecap:round; stroke-linejoin:round; stroke-width:2; stroke-opacity:0.1; fill:none\" points=\"393.887,148.643 2352.76,148.643 \"/>\n",
       "<polyline clip-path=\"url(#clip880)\" style=\"stroke:#000000; stroke-linecap:round; stroke-linejoin:round; stroke-width:4; stroke-opacity:1; fill:none\" points=\"393.887,1423.18 393.887,123.472 \"/>\n",
       "<polyline clip-path=\"url(#clip880)\" style=\"stroke:#000000; stroke-linecap:round; stroke-linejoin:round; stroke-width:4; stroke-opacity:1; fill:none\" points=\"393.887,1340.74 412.785,1340.74 \"/>\n",
       "<polyline clip-path=\"url(#clip880)\" style=\"stroke:#000000; stroke-linecap:round; stroke-linejoin:round; stroke-width:4; stroke-opacity:1; fill:none\" points=\"393.887,1042.71 412.785,1042.71 \"/>\n",
       "<polyline clip-path=\"url(#clip880)\" style=\"stroke:#000000; stroke-linecap:round; stroke-linejoin:round; stroke-width:4; stroke-opacity:1; fill:none\" points=\"393.887,744.689 412.785,744.689 \"/>\n",
       "<polyline clip-path=\"url(#clip880)\" style=\"stroke:#000000; stroke-linecap:round; stroke-linejoin:round; stroke-width:4; stroke-opacity:1; fill:none\" points=\"393.887,446.666 412.785,446.666 \"/>\n",
       "<polyline clip-path=\"url(#clip880)\" style=\"stroke:#000000; stroke-linecap:round; stroke-linejoin:round; stroke-width:4; stroke-opacity:1; fill:none\" points=\"393.887,148.643 412.785,148.643 \"/>\n",
       "<path clip-path=\"url(#clip880)\" d=\"M345.943 1326.53 Q342.332 1326.53 340.503 1330.1 Q338.698 1333.64 338.698 1340.77 Q338.698 1347.88 340.503 1351.44 Q342.332 1354.98 345.943 1354.98 Q349.577 1354.98 351.383 1351.44 Q353.211 1347.88 353.211 1340.77 Q353.211 1333.64 351.383 1330.1 Q349.577 1326.53 345.943 1326.53 M345.943 1322.83 Q351.753 1322.83 354.809 1327.44 Q357.887 1332.02 357.887 1340.77 Q357.887 1349.5 354.809 1354.1 Q351.753 1358.69 345.943 1358.69 Q340.133 1358.69 337.054 1354.1 Q333.999 1349.5 333.999 1340.77 Q333.999 1332.02 337.054 1327.44 Q340.133 1322.83 345.943 1322.83 Z\" fill=\"#000000\" fill-rule=\"evenodd\" fill-opacity=\"1\" /><path clip-path=\"url(#clip880)\" d=\"M117.825 1062.5 L125.464 1062.5 L125.464 1036.14 L117.154 1037.81 L117.154 1033.55 L125.418 1031.88 L130.093 1031.88 L130.093 1062.5 L137.732 1062.5 L137.732 1066.44 L117.825 1066.44 L117.825 1062.5 Z\" fill=\"#000000\" fill-rule=\"evenodd\" fill-opacity=\"1\" /><path clip-path=\"url(#clip880)\" d=\"M147.177 1060.56 L152.061 1060.56 L152.061 1066.44 L147.177 1066.44 L147.177 1060.56 Z\" fill=\"#000000\" fill-rule=\"evenodd\" fill-opacity=\"1\" /><path clip-path=\"url(#clip880)\" d=\"M172.246 1034.96 Q168.635 1034.96 166.806 1038.52 Q165.001 1042.06 165.001 1049.19 Q165.001 1056.3 166.806 1059.87 Q168.635 1063.41 172.246 1063.41 Q175.88 1063.41 177.686 1059.87 Q179.514 1056.3 179.514 1049.19 Q179.514 1042.06 177.686 1038.52 Q175.88 1034.96 172.246 1034.96 M172.246 1031.25 Q178.056 1031.25 181.112 1035.86 Q184.19 1040.44 184.19 1049.19 Q184.19 1057.92 181.112 1062.53 Q178.056 1067.11 172.246 1067.11 Q166.436 1067.11 163.357 1062.53 Q160.302 1057.92 160.302 1049.19 Q160.302 1040.44 163.357 1035.86 Q166.436 1031.25 172.246 1031.25 Z\" fill=\"#000000\" fill-rule=\"evenodd\" fill-opacity=\"1\" /><path clip-path=\"url(#clip880)\" d=\"M220.579 1040.98 L210 1051.6 L220.579 1062.18 L217.824 1064.98 L207.199 1054.36 L196.575 1064.98 L193.843 1062.18 L204.399 1051.6 L193.843 1040.98 L196.575 1038.18 L207.199 1048.8 L217.824 1038.18 L220.579 1040.98 Z\" fill=\"#000000\" fill-rule=\"evenodd\" fill-opacity=\"1\" /><path clip-path=\"url(#clip880)\" d=\"M232.94 1062.5 L240.579 1062.5 L240.579 1036.14 L232.269 1037.81 L232.269 1033.55 L240.533 1031.88 L245.209 1031.88 L245.209 1062.5 L252.847 1062.5 L252.847 1066.44 L232.94 1066.44 L232.94 1062.5 Z\" fill=\"#000000\" fill-rule=\"evenodd\" fill-opacity=\"1\" /><path clip-path=\"url(#clip880)\" d=\"M272.292 1034.96 Q268.681 1034.96 266.852 1038.52 Q265.046 1042.06 265.046 1049.19 Q265.046 1056.3 266.852 1059.87 Q268.681 1063.41 272.292 1063.41 Q275.926 1063.41 277.732 1059.87 Q279.56 1056.3 279.56 1049.19 Q279.56 1042.06 277.732 1038.52 Q275.926 1034.96 272.292 1034.96 M272.292 1031.25 Q278.102 1031.25 281.157 1035.86 Q284.236 1040.44 284.236 1049.19 Q284.236 1057.92 281.157 1062.53 Q278.102 1067.11 272.292 1067.11 Q266.482 1067.11 263.403 1062.53 Q260.347 1057.92 260.347 1049.19 Q260.347 1040.44 263.403 1035.86 Q266.482 1031.25 272.292 1031.25 Z\" fill=\"#000000\" fill-rule=\"evenodd\" fill-opacity=\"1\" /><path clip-path=\"url(#clip880)\" d=\"M284.236 1025.36 L308.348 1025.36 L308.348 1028.55 L284.236 1028.55 L284.236 1025.36 Z\" fill=\"#000000\" fill-rule=\"evenodd\" fill-opacity=\"1\" /><path clip-path=\"url(#clip880)\" d=\"M317.206 1035.83 L323.413 1035.83 L323.413 1014.41 L316.661 1015.76 L316.661 1012.3 L323.375 1010.95 L327.174 1010.95 L327.174 1035.83 L333.381 1035.83 L333.381 1039.03 L317.206 1039.03 L317.206 1035.83 Z\" fill=\"#000000\" fill-rule=\"evenodd\" fill-opacity=\"1\" /><path clip-path=\"url(#clip880)\" d=\"M341.713 1035.83 L347.919 1035.83 L347.919 1014.41 L341.167 1015.76 L341.167 1012.3 L347.882 1010.95 L351.681 1010.95 L351.681 1035.83 L357.887 1035.83 L357.887 1039.03 L341.713 1039.03 L341.713 1035.83 Z\" fill=\"#000000\" fill-rule=\"evenodd\" fill-opacity=\"1\" /><path clip-path=\"url(#clip880)\" d=\"M121.043 764.481 L137.362 764.481 L137.362 768.417 L115.418 768.417 L115.418 764.481 Q118.08 761.727 122.663 757.097 Q127.269 752.445 128.45 751.102 Q130.695 748.579 131.575 746.843 Q132.478 745.083 132.478 743.394 Q132.478 740.639 130.533 738.903 Q128.612 737.167 125.51 737.167 Q123.311 737.167 120.857 737.931 Q118.427 738.695 115.649 740.246 L115.649 735.523 Q118.473 734.389 120.927 733.81 Q123.38 733.232 125.418 733.232 Q130.788 733.232 133.982 735.917 Q137.177 738.602 137.177 743.093 Q137.177 745.222 136.367 747.144 Q135.579 749.042 133.473 751.634 Q132.894 752.306 129.792 755.523 Q126.691 758.718 121.043 764.481 Z\" fill=\"#000000\" fill-rule=\"evenodd\" fill-opacity=\"1\" /><path clip-path=\"url(#clip880)\" d=\"M147.177 762.537 L152.061 762.537 L152.061 768.417 L147.177 768.417 L147.177 762.537 Z\" fill=\"#000000\" fill-rule=\"evenodd\" fill-opacity=\"1\" /><path clip-path=\"url(#clip880)\" d=\"M172.246 736.935 Q168.635 736.935 166.806 740.5 Q165.001 744.042 165.001 751.171 Q165.001 758.278 166.806 761.843 Q168.635 765.384 172.246 765.384 Q175.88 765.384 177.686 761.843 Q179.514 758.278 179.514 751.171 Q179.514 744.042 177.686 740.5 Q175.88 736.935 172.246 736.935 M172.246 733.232 Q178.056 733.232 181.112 737.838 Q184.19 742.421 184.19 751.171 Q184.19 759.898 181.112 764.505 Q178.056 769.088 172.246 769.088 Q166.436 769.088 163.357 764.505 Q160.302 759.898 160.302 751.171 Q160.302 742.421 163.357 737.838 Q166.436 733.232 172.246 733.232 Z\" fill=\"#000000\" fill-rule=\"evenodd\" fill-opacity=\"1\" /><path clip-path=\"url(#clip880)\" d=\"M220.579 742.954 L210 753.579 L220.579 764.157 L217.824 766.958 L207.199 756.333 L196.575 766.958 L193.843 764.157 L204.399 753.579 L193.843 742.954 L196.575 740.153 L207.199 750.778 L217.824 740.153 L220.579 742.954 Z\" fill=\"#000000\" fill-rule=\"evenodd\" fill-opacity=\"1\" /><path clip-path=\"url(#clip880)\" d=\"M232.94 764.481 L240.579 764.481 L240.579 738.116 L232.269 739.783 L232.269 735.523 L240.533 733.857 L245.209 733.857 L245.209 764.481 L252.847 764.481 L252.847 768.417 L232.94 768.417 L232.94 764.481 Z\" fill=\"#000000\" fill-rule=\"evenodd\" fill-opacity=\"1\" /><path clip-path=\"url(#clip880)\" d=\"M272.292 736.935 Q268.681 736.935 266.852 740.5 Q265.046 744.042 265.046 751.171 Q265.046 758.278 266.852 761.843 Q268.681 765.384 272.292 765.384 Q275.926 765.384 277.732 761.843 Q279.56 758.278 279.56 751.171 Q279.56 744.042 277.732 740.5 Q275.926 736.935 272.292 736.935 M272.292 733.232 Q278.102 733.232 281.157 737.838 Q284.236 742.421 284.236 751.171 Q284.236 759.898 281.157 764.505 Q278.102 769.088 272.292 769.088 Q266.482 769.088 263.403 764.505 Q260.347 759.898 260.347 751.171 Q260.347 742.421 263.403 737.838 Q266.482 733.232 272.292 733.232 Z\" fill=\"#000000\" fill-rule=\"evenodd\" fill-opacity=\"1\" /><path clip-path=\"url(#clip880)\" d=\"M284.236 727.333 L308.348 727.333 L308.348 730.53 L284.236 730.53 L284.236 727.333 Z\" fill=\"#000000\" fill-rule=\"evenodd\" fill-opacity=\"1\" /><path clip-path=\"url(#clip880)\" d=\"M317.206 737.809 L323.413 737.809 L323.413 716.387 L316.661 717.741 L316.661 714.28 L323.375 712.926 L327.174 712.926 L327.174 737.809 L333.381 737.809 L333.381 741.006 L317.206 741.006 L317.206 737.809 Z\" fill=\"#000000\" fill-rule=\"evenodd\" fill-opacity=\"1\" /><path clip-path=\"url(#clip880)\" d=\"M341.713 737.809 L347.919 737.809 L347.919 716.387 L341.167 717.741 L341.167 714.28 L347.882 712.926 L351.681 712.926 L351.681 737.809 L357.887 737.809 L357.887 741.006 L341.713 741.006 L341.713 737.809 Z\" fill=\"#000000\" fill-rule=\"evenodd\" fill-opacity=\"1\" /><path clip-path=\"url(#clip880)\" d=\"M131.181 451.759 Q134.538 452.477 136.413 454.745 Q138.311 457.014 138.311 460.347 Q138.311 465.463 134.792 468.264 Q131.274 471.065 124.793 471.065 Q122.617 471.065 120.302 470.625 Q118.01 470.208 115.556 469.352 L115.556 464.838 Q117.501 465.972 119.816 466.551 Q122.13 467.13 124.654 467.13 Q129.052 467.13 131.343 465.394 Q133.658 463.657 133.658 460.347 Q133.658 457.292 131.505 455.579 Q129.376 453.843 125.556 453.843 L121.529 453.843 L121.529 450 L125.742 450 Q129.191 450 131.019 448.634 Q132.848 447.245 132.848 444.653 Q132.848 441.991 130.95 440.579 Q129.075 439.144 125.556 439.144 Q123.635 439.144 121.436 439.56 Q119.237 439.977 116.598 440.857 L116.598 436.69 Q119.26 435.949 121.575 435.579 Q123.913 435.209 125.973 435.209 Q131.297 435.209 134.399 437.639 Q137.501 440.046 137.501 444.167 Q137.501 447.037 135.857 449.028 Q134.214 450.995 131.181 451.759 Z\" fill=\"#000000\" fill-rule=\"evenodd\" fill-opacity=\"1\" /><path clip-path=\"url(#clip880)\" d=\"M147.177 464.514 L152.061 464.514 L152.061 470.394 L147.177 470.394 L147.177 464.514 Z\" fill=\"#000000\" fill-rule=\"evenodd\" fill-opacity=\"1\" /><path clip-path=\"url(#clip880)\" d=\"M172.246 438.912 Q168.635 438.912 166.806 442.477 Q165.001 446.019 165.001 453.148 Q165.001 460.255 166.806 463.819 Q168.635 467.361 172.246 467.361 Q175.88 467.361 177.686 463.819 Q179.514 460.255 179.514 453.148 Q179.514 446.019 177.686 442.477 Q175.88 438.912 172.246 438.912 M172.246 435.209 Q178.056 435.209 181.112 439.815 Q184.19 444.398 184.19 453.148 Q184.19 461.875 181.112 466.482 Q178.056 471.065 172.246 471.065 Q166.436 471.065 163.357 466.482 Q160.302 461.875 160.302 453.148 Q160.302 444.398 163.357 439.815 Q166.436 435.209 172.246 435.209 Z\" fill=\"#000000\" fill-rule=\"evenodd\" fill-opacity=\"1\" /><path clip-path=\"url(#clip880)\" d=\"M220.579 444.931 L210 455.556 L220.579 466.134 L217.824 468.935 L207.199 458.31 L196.575 468.935 L193.843 466.134 L204.399 455.556 L193.843 444.931 L196.575 442.13 L207.199 452.755 L217.824 442.13 L220.579 444.931 Z\" fill=\"#000000\" fill-rule=\"evenodd\" fill-opacity=\"1\" /><path clip-path=\"url(#clip880)\" d=\"M232.94 466.458 L240.579 466.458 L240.579 440.093 L232.269 441.759 L232.269 437.5 L240.533 435.834 L245.209 435.834 L245.209 466.458 L252.847 466.458 L252.847 470.394 L232.94 470.394 L232.94 466.458 Z\" fill=\"#000000\" fill-rule=\"evenodd\" fill-opacity=\"1\" /><path clip-path=\"url(#clip880)\" d=\"M272.292 438.912 Q268.681 438.912 266.852 442.477 Q265.046 446.019 265.046 453.148 Q265.046 460.255 266.852 463.819 Q268.681 467.361 272.292 467.361 Q275.926 467.361 277.732 463.819 Q279.56 460.255 279.56 453.148 Q279.56 446.019 277.732 442.477 Q275.926 438.912 272.292 438.912 M272.292 435.209 Q278.102 435.209 281.157 439.815 Q284.236 444.398 284.236 453.148 Q284.236 461.875 281.157 466.482 Q278.102 471.065 272.292 471.065 Q266.482 471.065 263.403 466.482 Q260.347 461.875 260.347 453.148 Q260.347 444.398 263.403 439.815 Q266.482 435.209 272.292 435.209 Z\" fill=\"#000000\" fill-rule=\"evenodd\" fill-opacity=\"1\" /><path clip-path=\"url(#clip880)\" d=\"M284.236 429.31 L308.348 429.31 L308.348 432.507 L284.236 432.507 L284.236 429.31 Z\" fill=\"#000000\" fill-rule=\"evenodd\" fill-opacity=\"1\" /><path clip-path=\"url(#clip880)\" d=\"M317.206 439.786 L323.413 439.786 L323.413 418.364 L316.661 419.718 L316.661 416.257 L323.375 414.903 L327.174 414.903 L327.174 439.786 L333.381 439.786 L333.381 442.983 L317.206 442.983 L317.206 439.786 Z\" fill=\"#000000\" fill-rule=\"evenodd\" fill-opacity=\"1\" /><path clip-path=\"url(#clip880)\" d=\"M341.713 439.786 L347.919 439.786 L347.919 418.364 L341.167 419.718 L341.167 416.257 L347.882 414.903 L351.681 414.903 L351.681 439.786 L357.887 439.786 L357.887 442.983 L341.713 442.983 L341.713 439.786 Z\" fill=\"#000000\" fill-rule=\"evenodd\" fill-opacity=\"1\" /><path clip-path=\"url(#clip880)\" d=\"M129.862 141.884 L118.056 160.333 L129.862 160.333 L129.862 141.884 M128.635 137.81 L134.515 137.81 L134.515 160.333 L139.445 160.333 L139.445 164.222 L134.515 164.222 L134.515 172.37 L129.862 172.37 L129.862 164.222 L114.26 164.222 L114.26 159.708 L128.635 137.81 Z\" fill=\"#000000\" fill-rule=\"evenodd\" fill-opacity=\"1\" /><path clip-path=\"url(#clip880)\" d=\"M147.177 166.491 L152.061 166.491 L152.061 172.37 L147.177 172.37 L147.177 166.491 Z\" fill=\"#000000\" fill-rule=\"evenodd\" fill-opacity=\"1\" /><path clip-path=\"url(#clip880)\" d=\"M172.246 140.889 Q168.635 140.889 166.806 144.454 Q165.001 147.996 165.001 155.125 Q165.001 162.232 166.806 165.796 Q168.635 169.338 172.246 169.338 Q175.88 169.338 177.686 165.796 Q179.514 162.232 179.514 155.125 Q179.514 147.996 177.686 144.454 Q175.88 140.889 172.246 140.889 M172.246 137.185 Q178.056 137.185 181.112 141.792 Q184.19 146.375 184.19 155.125 Q184.19 163.852 181.112 168.458 Q178.056 173.042 172.246 173.042 Q166.436 173.042 163.357 168.458 Q160.302 163.852 160.302 155.125 Q160.302 146.375 163.357 141.792 Q166.436 137.185 172.246 137.185 Z\" fill=\"#000000\" fill-rule=\"evenodd\" fill-opacity=\"1\" /><path clip-path=\"url(#clip880)\" d=\"M220.579 146.908 L210 157.533 L220.579 168.111 L217.824 170.912 L207.199 160.287 L196.575 170.912 L193.843 168.111 L204.399 157.533 L193.843 146.908 L196.575 144.107 L207.199 154.732 L217.824 144.107 L220.579 146.908 Z\" fill=\"#000000\" fill-rule=\"evenodd\" fill-opacity=\"1\" /><path clip-path=\"url(#clip880)\" d=\"M232.94 168.435 L240.579 168.435 L240.579 142.07 L232.269 143.736 L232.269 139.477 L240.533 137.81 L245.209 137.81 L245.209 168.435 L252.847 168.435 L252.847 172.37 L232.94 172.37 L232.94 168.435 Z\" fill=\"#000000\" fill-rule=\"evenodd\" fill-opacity=\"1\" /><path clip-path=\"url(#clip880)\" d=\"M272.292 140.889 Q268.681 140.889 266.852 144.454 Q265.046 147.996 265.046 155.125 Q265.046 162.232 266.852 165.796 Q268.681 169.338 272.292 169.338 Q275.926 169.338 277.732 165.796 Q279.56 162.232 279.56 155.125 Q279.56 147.996 277.732 144.454 Q275.926 140.889 272.292 140.889 M272.292 137.185 Q278.102 137.185 281.157 141.792 Q284.236 146.375 284.236 155.125 Q284.236 163.852 281.157 168.458 Q278.102 173.042 272.292 173.042 Q266.482 173.042 263.403 168.458 Q260.347 163.852 260.347 155.125 Q260.347 146.375 263.403 141.792 Q266.482 137.185 272.292 137.185 Z\" fill=\"#000000\" fill-rule=\"evenodd\" fill-opacity=\"1\" /><path clip-path=\"url(#clip880)\" d=\"M284.236 131.287 L308.348 131.287 L308.348 134.484 L284.236 134.484 L284.236 131.287 Z\" fill=\"#000000\" fill-rule=\"evenodd\" fill-opacity=\"1\" /><path clip-path=\"url(#clip880)\" d=\"M317.206 141.763 L323.413 141.763 L323.413 120.341 L316.661 121.695 L316.661 118.234 L323.375 116.88 L327.174 116.88 L327.174 141.763 L333.381 141.763 L333.381 144.96 L317.206 144.96 L317.206 141.763 Z\" fill=\"#000000\" fill-rule=\"evenodd\" fill-opacity=\"1\" /><path clip-path=\"url(#clip880)\" d=\"M341.713 141.763 L347.919 141.763 L347.919 120.341 L341.167 121.695 L341.167 118.234 L347.882 116.88 L351.681 116.88 L351.681 141.763 L357.887 141.763 L357.887 144.96 L341.713 144.96 L341.713 141.763 Z\" fill=\"#000000\" fill-rule=\"evenodd\" fill-opacity=\"1\" /><path clip-path=\"url(#clip880)\" d=\"M28.3562 756.711 L45.7028 769.602 L64.0042 756.043 L64.0042 762.95 L49.9996 773.326 L64.0042 783.702 L64.0042 790.609 L45.3526 776.763 L28.3562 789.431 L28.3562 782.524 L41.0558 773.071 L28.3562 763.618 L28.3562 756.711 Z\" fill=\"#000000\" fill-rule=\"evenodd\" fill-opacity=\"1\" /><path clip-path=\"url(#clip880)\" d=\"M1031.36 14.0809 L1031.36 22.0612 Q1026.71 19.8332 1022.57 18.7395 Q1018.44 17.6457 1014.59 17.6457 Q1007.91 17.6457 1004.26 20.2383 Q1000.66 22.8309 1000.66 27.611 Q1000.66 31.6214 1003.05 33.6873 Q1005.48 35.7128 1012.2 36.9686 L1017.15 37.9813 Q1026.3 39.7232 1030.64 44.1387 Q1035.01 48.5136 1035.01 55.8863 Q1035.01 64.6767 1029.1 69.2137 Q1023.22 73.7508 1011.84 73.7508 Q1007.55 73.7508 1002.68 72.7785 Q997.864 71.8063 992.678 69.9024 L992.678 61.4765 Q997.661 64.2716 1002.44 65.6895 Q1007.22 67.1073 1011.84 67.1073 Q1018.85 67.1073 1022.66 64.3527 Q1026.46 61.598 1026.46 56.4939 Q1026.46 52.0379 1023.71 49.5264 Q1020.99 47.0148 1014.76 45.759 L1009.77 44.7868 Q1000.62 42.9639 996.527 39.075 Q992.435 35.1862 992.435 28.2591 Q992.435 20.2383 998.066 15.6203 Q1003.74 11.0023 1013.66 11.0023 Q1017.92 11.0023 1022.33 11.7719 Q1026.75 12.5416 1031.36 14.0809 Z\" fill=\"#000000\" fill-rule=\"evenodd\" fill-opacity=\"1\" /><path clip-path=\"url(#clip880)\" d=\"M1054.82 14.324 L1054.82 27.2059 L1070.17 27.2059 L1070.17 32.9987 L1054.82 32.9987 L1054.82 57.6282 Q1054.82 63.1779 1056.32 64.7578 Q1057.86 66.3376 1062.52 66.3376 L1070.17 66.3376 L1070.17 72.576 L1062.52 72.576 Q1053.89 72.576 1050.61 69.3758 Q1047.33 66.1351 1047.33 57.6282 L1047.33 32.9987 L1041.86 32.9987 L1041.86 27.2059 L1047.33 27.2059 L1047.33 14.324 L1054.82 14.324 Z\" fill=\"#000000\" fill-rule=\"evenodd\" fill-opacity=\"1\" /><path clip-path=\"url(#clip880)\" d=\"M1100.59 49.7694 Q1091.56 49.7694 1088.08 51.8354 Q1084.59 53.9013 1084.59 58.8839 Q1084.59 62.8538 1087.19 65.2034 Q1089.82 67.5124 1094.32 67.5124 Q1100.51 67.5124 1104.24 63.1374 Q1108.01 58.7219 1108.01 51.4303 L1108.01 49.7694 L1100.59 49.7694 M1115.46 46.6907 L1115.46 72.576 L1108.01 72.576 L1108.01 65.6895 Q1105.46 69.8214 1101.65 71.8063 Q1097.84 73.7508 1092.33 73.7508 Q1085.36 73.7508 1081.23 69.8619 Q1077.14 65.9325 1077.14 59.3701 Q1077.14 51.7138 1082.24 47.825 Q1087.39 43.9361 1097.56 43.9361 L1108.01 43.9361 L1108.01 43.2069 Q1108.01 38.0623 1104.6 35.2672 Q1101.24 32.4315 1095.13 32.4315 Q1091.24 32.4315 1087.55 33.3632 Q1083.86 34.295 1080.46 36.1584 L1080.46 29.2718 Q1084.55 27.692 1088.4 26.9223 Q1092.25 26.1121 1095.9 26.1121 Q1105.74 26.1121 1110.6 31.2163 Q1115.46 36.3204 1115.46 46.6907 Z\" fill=\"#000000\" fill-rule=\"evenodd\" fill-opacity=\"1\" /><path clip-path=\"url(#clip880)\" d=\"M1138.19 14.324 L1138.19 27.2059 L1153.54 27.2059 L1153.54 32.9987 L1138.19 32.9987 L1138.19 57.6282 Q1138.19 63.1779 1139.69 64.7578 Q1141.23 66.3376 1145.88 66.3376 L1153.54 66.3376 L1153.54 72.576 L1145.88 72.576 Q1137.26 72.576 1133.97 69.3758 Q1130.69 66.1351 1130.69 57.6282 L1130.69 32.9987 L1125.22 32.9987 L1125.22 27.2059 L1130.69 27.2059 L1130.69 14.324 L1138.19 14.324 Z\" fill=\"#000000\" fill-rule=\"evenodd\" fill-opacity=\"1\" /><path clip-path=\"url(#clip880)\" d=\"M1202.15 48.0275 L1202.15 51.6733 L1167.88 51.6733 Q1168.37 59.3701 1172.5 63.421 Q1176.67 67.4314 1184.08 67.4314 Q1188.38 67.4314 1192.39 66.3781 Q1196.44 65.3249 1200.41 63.2184 L1200.41 70.267 Q1196.4 71.9684 1192.19 72.8596 Q1187.97 73.7508 1183.64 73.7508 Q1172.78 73.7508 1166.42 67.4314 Q1160.1 61.1119 1160.1 50.3365 Q1160.1 39.1965 1166.1 32.6746 Q1172.13 26.1121 1182.34 26.1121 Q1191.5 26.1121 1196.8 32.0264 Q1202.15 37.9003 1202.15 48.0275 M1194.7 45.84 Q1194.62 39.7232 1191.25 36.0774 Q1187.93 32.4315 1182.42 32.4315 Q1176.18 32.4315 1172.42 35.9558 Q1168.69 39.4801 1168.12 45.8805 L1194.7 45.84 Z\" fill=\"#000000\" fill-rule=\"evenodd\" fill-opacity=\"1\" /><path clip-path=\"url(#clip880)\" d=\"M1241.08 12.096 L1279.32 12.096 L1279.32 18.9825 L1249.26 18.9825 L1249.26 36.8875 L1278.06 36.8875 L1278.06 43.7741 L1249.26 43.7741 L1249.26 65.6895 L1280.05 65.6895 L1280.05 72.576 L1241.08 72.576 L1241.08 12.096 Z\" fill=\"#000000\" fill-rule=\"evenodd\" fill-opacity=\"1\" /><path clip-path=\"url(#clip880)\" d=\"M1319.46 34.1734 Q1318.21 33.4443 1316.71 33.1202 Q1315.25 32.7556 1313.47 32.7556 Q1307.15 32.7556 1303.75 36.8875 Q1300.39 40.9789 1300.39 48.6757 L1300.39 72.576 L1292.89 72.576 L1292.89 27.2059 L1300.39 27.2059 L1300.39 34.2544 Q1302.73 30.1225 1306.5 28.1376 Q1310.27 26.1121 1315.66 26.1121 Q1316.43 26.1121 1317.36 26.2337 Q1318.29 26.3147 1319.42 26.5172 L1319.46 34.1734 Z\" fill=\"#000000\" fill-rule=\"evenodd\" fill-opacity=\"1\" /><path clip-path=\"url(#clip880)\" d=\"M1352.12 34.1734 Q1350.86 33.4443 1349.36 33.1202 Q1347.9 32.7556 1346.12 32.7556 Q1339.8 32.7556 1336.4 36.8875 Q1333.04 40.9789 1333.04 48.6757 L1333.04 72.576 L1325.54 72.576 L1325.54 27.2059 L1333.04 27.2059 L1333.04 34.2544 Q1335.38 30.1225 1339.15 28.1376 Q1342.92 26.1121 1348.31 26.1121 Q1349.08 26.1121 1350.01 26.2337 Q1350.94 26.3147 1352.07 26.5172 L1352.12 34.1734 Z\" fill=\"#000000\" fill-rule=\"evenodd\" fill-opacity=\"1\" /><path clip-path=\"url(#clip880)\" d=\"M1375.69 32.4315 Q1369.7 32.4315 1366.21 37.1306 Q1362.73 41.7891 1362.73 49.9314 Q1362.73 58.0738 1366.17 62.7728 Q1369.66 67.4314 1375.69 67.4314 Q1381.65 67.4314 1385.13 62.7323 Q1388.61 58.0333 1388.61 49.9314 Q1388.61 41.8701 1385.13 37.1711 Q1381.65 32.4315 1375.69 32.4315 M1375.69 26.1121 Q1385.41 26.1121 1390.96 32.4315 Q1396.51 38.7509 1396.51 49.9314 Q1396.51 61.0714 1390.96 67.4314 Q1385.41 73.7508 1375.69 73.7508 Q1365.93 73.7508 1360.38 67.4314 Q1354.87 61.0714 1354.87 49.9314 Q1354.87 38.7509 1360.38 32.4315 Q1365.93 26.1121 1375.69 26.1121 Z\" fill=\"#000000\" fill-rule=\"evenodd\" fill-opacity=\"1\" /><path clip-path=\"url(#clip880)\" d=\"M1435.16 34.1734 Q1433.9 33.4443 1432.4 33.1202 Q1430.95 32.7556 1429.16 32.7556 Q1422.84 32.7556 1419.44 36.8875 Q1416.08 40.9789 1416.08 48.6757 L1416.08 72.576 L1408.58 72.576 L1408.58 27.2059 L1416.08 27.2059 L1416.08 34.2544 Q1418.43 30.1225 1422.2 28.1376 Q1425.96 26.1121 1431.35 26.1121 Q1432.12 26.1121 1433.05 26.2337 Q1433.98 26.3147 1435.12 26.5172 L1435.16 34.1734 Z\" fill=\"#000000\" fill-rule=\"evenodd\" fill-opacity=\"1\" /><path clip-path=\"url(#clip880)\" d=\"M1469.67 12.096 L1477.86 12.096 L1477.86 36.8875 L1507.59 36.8875 L1507.59 12.096 L1515.77 12.096 L1515.77 72.576 L1507.59 72.576 L1507.59 43.7741 L1477.86 43.7741 L1477.86 72.576 L1469.67 72.576 L1469.67 12.096 Z\" fill=\"#000000\" fill-rule=\"evenodd\" fill-opacity=\"1\" /><path clip-path=\"url(#clip880)\" d=\"M1531.73 27.2059 L1539.19 27.2059 L1539.19 72.576 L1531.73 72.576 L1531.73 27.2059 M1531.73 9.54393 L1539.19 9.54393 L1539.19 18.9825 L1531.73 18.9825 L1531.73 9.54393 Z\" fill=\"#000000\" fill-rule=\"evenodd\" fill-opacity=\"1\" /><path clip-path=\"url(#clip880)\" d=\"M1583.71 28.5427 L1583.71 35.5912 Q1580.55 33.9709 1577.14 33.1607 Q1573.74 32.3505 1570.09 32.3505 Q1564.54 32.3505 1561.75 34.0519 Q1558.99 35.7533 1558.99 39.156 Q1558.99 41.7486 1560.98 43.2475 Q1562.96 44.7058 1568.96 46.0426 L1571.51 46.6097 Q1579.45 48.3111 1582.77 51.4303 Q1586.14 54.509 1586.14 60.0587 Q1586.14 66.3781 1581.11 70.0644 Q1576.13 73.7508 1567.38 73.7508 Q1563.73 73.7508 1559.76 73.0216 Q1555.84 72.3329 1551.46 70.9151 L1551.46 63.2184 Q1555.59 65.3654 1559.6 66.4591 Q1563.61 67.5124 1567.54 67.5124 Q1572.81 67.5124 1575.64 65.73 Q1578.48 63.9071 1578.48 60.6258 Q1578.48 57.5877 1576.41 55.9673 Q1574.39 54.3469 1567.46 52.8481 L1564.87 52.2405 Q1557.94 50.7821 1554.86 47.7845 Q1551.78 44.7463 1551.78 39.4801 Q1551.78 33.0797 1556.32 29.5959 Q1560.86 26.1121 1569.2 26.1121 Q1573.34 26.1121 1576.98 26.7198 Q1580.63 27.3274 1583.71 28.5427 Z\" fill=\"#000000\" fill-rule=\"evenodd\" fill-opacity=\"1\" /><path clip-path=\"url(#clip880)\" d=\"M1605.38 14.324 L1605.38 27.2059 L1620.73 27.2059 L1620.73 32.9987 L1605.38 32.9987 L1605.38 57.6282 Q1605.38 63.1779 1606.88 64.7578 Q1608.42 66.3376 1613.07 66.3376 L1620.73 66.3376 L1620.73 72.576 L1613.07 72.576 Q1604.45 72.576 1601.16 69.3758 Q1597.88 66.1351 1597.88 57.6282 L1597.88 32.9987 L1592.41 32.9987 L1592.41 27.2059 L1597.88 27.2059 L1597.88 14.324 L1605.38 14.324 Z\" fill=\"#000000\" fill-rule=\"evenodd\" fill-opacity=\"1\" /><path clip-path=\"url(#clip880)\" d=\"M1648.11 32.4315 Q1642.12 32.4315 1638.64 37.1306 Q1635.15 41.7891 1635.15 49.9314 Q1635.15 58.0738 1638.6 62.7728 Q1642.08 67.4314 1648.11 67.4314 Q1654.07 67.4314 1657.55 62.7323 Q1661.04 58.0333 1661.04 49.9314 Q1661.04 41.8701 1657.55 37.1711 Q1654.07 32.4315 1648.11 32.4315 M1648.11 26.1121 Q1657.84 26.1121 1663.39 32.4315 Q1668.94 38.7509 1668.94 49.9314 Q1668.94 61.0714 1663.39 67.4314 Q1657.84 73.7508 1648.11 73.7508 Q1638.35 73.7508 1632.8 67.4314 Q1627.29 61.0714 1627.29 49.9314 Q1627.29 38.7509 1632.8 32.4315 Q1638.35 26.1121 1648.11 26.1121 Z\" fill=\"#000000\" fill-rule=\"evenodd\" fill-opacity=\"1\" /><path clip-path=\"url(#clip880)\" d=\"M1707.58 34.1734 Q1706.33 33.4443 1704.83 33.1202 Q1703.37 32.7556 1701.59 32.7556 Q1695.27 32.7556 1691.86 36.8875 Q1688.5 40.9789 1688.5 48.6757 L1688.5 72.576 L1681.01 72.576 L1681.01 27.2059 L1688.5 27.2059 L1688.5 34.2544 Q1690.85 30.1225 1694.62 28.1376 Q1698.39 26.1121 1703.77 26.1121 Q1704.54 26.1121 1705.48 26.2337 Q1706.41 26.3147 1707.54 26.5172 L1707.58 34.1734 Z\" fill=\"#000000\" fill-rule=\"evenodd\" fill-opacity=\"1\" /><path clip-path=\"url(#clip880)\" d=\"M1734.28 76.7889 Q1731.12 84.8907 1728.12 87.3618 Q1725.12 89.8329 1720.1 89.8329 L1714.14 89.8329 L1714.14 83.5945 L1718.52 83.5945 Q1721.6 83.5945 1723.3 82.1361 Q1725 80.6778 1727.07 75.2496 L1728.4 71.8468 L1710.05 27.2059 L1717.95 27.2059 L1732.13 62.6918 L1746.31 27.2059 L1754.21 27.2059 L1734.28 76.7889 Z\" fill=\"#000000\" fill-rule=\"evenodd\" fill-opacity=\"1\" /><polyline clip-path=\"url(#clip882)\" style=\"stroke:#009af9; stroke-linecap:round; stroke-linejoin:round; stroke-width:4; stroke-opacity:1; fill:none\" points=\"449.327,1340.74 455.951,1340.7 462.574,1340.59 469.198,1340.43 475.821,1340.21 482.445,1339.9 489.069,1339.54 495.692,1339.13 502.316,1338.68 508.94,1338.17 515.563,1337.61 522.187,1337.03 528.81,1336.41 535.434,1335.72 542.058,1335.02 548.681,1334.29 555.305,1333.53 561.928,1332.74 568.552,1331.93 575.176,1331.09 581.799,1330.24 588.423,1329.37 595.047,1328.49 601.67,1327.59 608.294,1326.68 614.917,1325.77 621.541,1324.84 628.165,1323.91 634.788,1322.97 641.412,1322.03 648.036,1321.09 654.659,1320.15 661.283,1319.21 667.906,1318.27 674.53,1317.33 681.154,1316.39 687.777,1315.46 694.401,1314.54 701.024,1313.62 707.648,1312.71 714.272,1311.81 720.895,1310.92 727.519,1310.04 734.143,1309.18 740.766,1308.32 747.39,1307.48 754.013,1306.64 760.637,1305.82 767.261,1305.01 773.884,1304.22 780.508,1303.45 787.131,1302.68 793.755,1301.92 800.379,1301.19 807.002,1300.47 813.626,1299.77 820.25,1299.09 826.873,1298.41 833.497,1297.76 840.12,1297.13 846.744,1296.52 853.368,1295.91 859.991,1295.33 866.615,1294.76 873.239,1294.2 879.862,1293.67 886.486,1293.17 893.109,1292.68 899.733,1292.2 906.357,1291.75 912.98,1291.32 919.604,1290.89 926.227,1290.48 932.851,1290.09 939.475,1289.71 946.098,1289.36 952.722,1289 959.346,1288.68 965.969,1288.36 972.593,1288.09 979.216,1287.81 985.84,1287.53 992.464,1287.29 999.087,1287.08 1005.71,1286.87 1012.33,1286.66 1018.96,1286.49 1025.58,1286.33 1032.21,1286.18 1038.83,1286.04 1045.45,1285.9 1052.08,1285.78 1058.7,1285.68 1065.32,1285.61 1071.95,1285.55 1078.57,1285.51 1085.19,1285.45 1091.82,1285.43 1098.44,1285.41 1105.07,1285.41 1111.69,1285.41 1118.31,1285.43 1124.94,1285.45 1131.56,1285.48 1138.18,1285.53 1144.81,1285.59 1151.43,1285.66 1158.05,1285.76 1164.68,1285.85 1171.3,1285.96 1177.92,1286.08 1184.55,1286.21 1191.17,1286.34 1197.8,1286.49 1204.42,1286.64 1211.04,1286.8 1217.67,1286.96 1224.29,1287.13 1230.91,1287.32 1237.54,1287.5 1244.16,1287.72 1250.78,1287.93 1257.41,1288.14 1264.03,1288.35 1270.66,1288.56 1277.28,1288.8 1283.9,1289.03 1290.53,1289.26 1297.15,1289.52 1303.77,1289.77 1310.4,1290.03 1317.02,1290.3 1323.64,1290.56 1330.27,1290.83 1336.89,1291.1 1343.52,1291.41 1350.14,1291.7 1356.76,1291.99 1363.39,1292.28 1370.01,1292.59 1376.63,1292.89 1383.26,1293.2 1389.88,1293.51 1396.5,1293.83 1403.13,1294.15 1409.75,1294.48 1416.38,1294.8 1423,1295.13 1429.62,1295.47 1436.25,1295.82 1442.87,1296.15 1449.49,1296.49 1456.12,1296.84 1462.74,1297.19 1469.36,1297.54 1475.99,1297.89 1482.61,1298.25 1489.23,1298.61 1495.86,1298.97 1502.48,1299.34 1509.11,1299.69 1515.73,1300.05 1522.35,1300.41 1528.98,1300.77 1535.6,1301.14 1542.22,1301.49 1548.85,1301.86 1555.47,1302.24 1562.09,1302.61 1568.72,1302.99 1575.34,1303.37 1581.97,1303.76 1588.59,1304.13 1595.21,1304.51 1601.84,1304.88 1608.46,1305.27 1615.08,1305.64 1621.71,1306.02 1628.33,1306.4 1634.95,1306.79 1641.58,1307.17 1648.2,1307.56 1654.83,1307.94 1661.45,1308.32 1668.07,1308.71 1674.7,1309.09 1681.32,1309.49 1687.94,1309.87 1694.57,1310.26 1701.19,1310.65 1707.81,1311.04 1714.44,1311.42 1721.06,1311.8 1727.69,1312.19 1734.31,1312.58 1740.93,1312.98 1747.56,1313.38 1754.18,1313.76 1760.8,1314.16 1767.43,1314.54 1774.05,1314.94 1780.67,1315.32 1787.3,1315.72 1793.92,1316.11 1800.54,1316.49 1807.17,1316.87 1813.79,1317.27 1820.42,1317.67 1827.04,1318.05 1833.66,1318.45 1840.29,1318.83 1846.91,1319.22 1853.53,1319.61 1860.16,1320 1866.78,1320.39 1873.4,1320.78 1880.03,1321.17 1886.65,1321.56 1893.28,1321.95 1899.9,1322.33 1906.52,1322.72 1913.15,1323.11 1919.77,1323.5 1926.39,1323.89 1933.02,1324.28 1939.64,1324.67 1946.26,1325.05 1952.89,1325.44 1959.51,1325.83 1966.14,1326.21 1972.76,1326.6 1979.38,1326.98 1986.01,1327.37 1992.63,1327.76 1999.25,1328.14 2005.88,1328.53 2012.5,1328.91 2019.12,1329.3 2025.75,1329.68 2032.37,1330.07 2039,1330.45 2045.62,1330.84 2052.24,1331.23 2058.87,1331.62 2065.49,1332.01 2072.11,1332.39 2078.74,1332.78 2085.36,1333.17 2091.98,1333.56 2098.61,1333.94 2105.23,1334.33 2111.85,1334.72 2118.48,1335.1 2125.1,1335.49 2131.73,1335.88 2138.35,1336.27 2144.97,1336.66 2151.6,1337.05 2158.22,1337.44 2164.84,1337.83 2171.47,1338.22 2178.09,1338.6 2184.71,1338.99 2191.34,1339.38 2197.96,1339.77 2204.59,1340.16 2211.21,1340.55 2217.83,1340.94 2224.46,1341.33 2231.08,1341.72 2237.7,1342.11 2244.33,1342.5 2250.95,1342.89 2257.57,1343.28 2264.2,1343.67 2270.82,1344.07 2277.45,1344.46 2284.07,1344.85 2290.69,1345.24 2297.32,1345.64 \"/>\n",
       "<polyline clip-path=\"url(#clip882)\" style=\"stroke:#e26f46; stroke-linecap:round; stroke-linejoin:round; stroke-width:4; stroke-opacity:1; fill:none\" points=\"449.327,1340.74 455.951,1340.76 462.574,1340.85 469.198,1341.01 475.821,1341.21 482.445,1341.48 489.069,1341.78 495.692,1342.11 502.316,1342.5 508.94,1342.92 515.563,1343.38 522.187,1343.87 528.81,1344.4 535.434,1344.98 542.058,1345.58 548.681,1346.2 555.305,1346.85 561.928,1347.52 568.552,1348.21 575.176,1348.91 581.799,1349.64 588.423,1350.37 595.047,1351.12 601.67,1351.88 608.294,1352.65 614.917,1353.41 621.541,1354.21 628.165,1354.98 634.788,1355.74 641.412,1356.54 648.036,1357.31 654.659,1358.1 661.283,1358.89 667.906,1359.66 674.53,1360.43 681.154,1361.22 687.777,1361.99 694.401,1362.78 701.024,1363.53 707.648,1364.29 714.272,1365.06 720.895,1365.8 727.519,1366.54 734.143,1367.26 740.766,1367.95 747.39,1368.66 754.013,1369.32 760.637,1370.01 767.261,1370.67 773.884,1371.31 780.508,1371.94 787.131,1372.58 793.755,1373.19 800.379,1373.8 807.002,1374.4 813.626,1374.96 820.25,1375.52 826.873,1376.05 833.497,1376.6 840.12,1377.13 846.744,1377.61 853.368,1378.11 859.991,1378.56 866.615,1379.01 873.239,1379.46 879.862,1379.91 886.486,1380.33 893.109,1380.76 899.733,1381.15 906.357,1381.53 912.98,1381.9 919.604,1382.21 926.227,1382.56 932.851,1382.88 939.475,1383.19 946.098,1383.46 952.722,1383.75 959.346,1384.01 965.969,1384.28 972.593,1384.49 979.216,1384.68 985.84,1384.86 992.464,1385.02 999.087,1385.2 1005.71,1385.39 1012.33,1385.55 1018.96,1385.65 1025.58,1385.79 1032.21,1385.89 1038.83,1386 1045.45,1386.08 1052.08,1386.16 1058.7,1386.21 1065.32,1386.26 1071.95,1386.32 1078.57,1386.37 1085.19,1386.4 1091.82,1386.4 1098.44,1386.4 1105.07,1386.37 1111.69,1386.37 1118.31,1386.34 1124.94,1386.29 1131.56,1386.24 1138.18,1386.16 1144.81,1386.08 1151.43,1386 1158.05,1385.92 1164.68,1385.84 1171.3,1385.73 1177.92,1385.63 1184.55,1385.5 1191.17,1385.36 1197.8,1385.2 1204.42,1385.05 1211.04,1384.89 1217.67,1384.73 1224.29,1384.57 1230.91,1384.38 1237.54,1384.2 1244.16,1384.01 1250.78,1383.83 1257.41,1383.64 1264.03,1383.43 1270.66,1383.22 1277.28,1383.01 1283.9,1382.77 1290.53,1382.56 1297.15,1382.32 1303.77,1382.08 1310.4,1381.84 1317.02,1381.6 1323.64,1381.34 1330.27,1381.1 1336.89,1380.84 1343.52,1380.57 1350.14,1380.31 1356.76,1380.02 1363.39,1379.75 1370.01,1379.46 1376.63,1379.17 1383.26,1378.88 1389.88,1378.56 1396.5,1378.24 1403.13,1377.95 1409.75,1377.66 1416.38,1377.37 1423,1377.05 1429.62,1376.76 1436.25,1376.44 1442.87,1376.13 1449.49,1375.81 1456.12,1375.49 1462.74,1375.17 1469.36,1374.85 1475.99,1374.54 1482.61,1374.22 1489.23,1373.88 1495.86,1373.56 1502.48,1373.21 1509.11,1372.87 1515.73,1372.55 1522.35,1372.21 1528.98,1371.86 1535.6,1371.52 1542.22,1371.2 1548.85,1370.86 1555.47,1370.51 1562.09,1370.17 1568.72,1369.83 1575.34,1369.48 1581.97,1369.14 1588.59,1368.77 1595.21,1368.42 1601.84,1368.08 1608.46,1367.72 1615.08,1367.36 1621.71,1367.01 1628.33,1366.66 1634.95,1366.31 1641.58,1365.95 1648.2,1365.59 1654.83,1365.23 1661.45,1364.88 1668.07,1364.52 1674.7,1364.16 1681.32,1363.8 1687.94,1363.45 1694.57,1363.09 1701.19,1362.73 1707.81,1362.37 1714.44,1362.02 1721.06,1361.66 1727.69,1361.3 1734.31,1360.94 1740.93,1360.59 1747.56,1360.23 1754.18,1359.87 1760.8,1359.52 1767.43,1359.16 1774.05,1358.8 1780.67,1358.44 1787.3,1358.09 1793.92,1357.73 1800.54,1357.37 1807.17,1357.01 1813.79,1356.66 1820.42,1356.3 1827.04,1355.94 1833.66,1355.58 1840.29,1355.23 1846.91,1354.87 1853.53,1354.51 1860.16,1354.16 1866.78,1353.8 1873.4,1353.44 1880.03,1353.08 1886.65,1352.73 1893.28,1352.37 1899.9,1352.01 1906.52,1351.65 1913.15,1351.3 1919.77,1350.94 1926.39,1350.58 1933.02,1350.22 1939.64,1349.87 1946.26,1349.52 1952.89,1349.17 1959.51,1348.82 1966.14,1348.46 1972.76,1348.1 1979.38,1347.74 1986.01,1347.39 1992.63,1347.04 1999.25,1346.68 2005.88,1346.33 2012.5,1345.97 2019.12,1345.61 2025.75,1345.26 2032.37,1344.9 2039,1344.55 2045.62,1344.2 2052.24,1343.85 2058.87,1343.49 2065.49,1343.13 2072.11,1342.77 2078.74,1342.42 2085.36,1342.07 2091.98,1341.71 2098.61,1341.36 2105.23,1341 2111.85,1340.65 2118.48,1340.29 2125.1,1339.94 2131.73,1339.58 2138.35,1339.23 2144.97,1338.87 2151.6,1338.52 2158.22,1338.16 2164.84,1337.8 2171.47,1337.45 2178.09,1337.09 2184.71,1336.73 2191.34,1336.37 2197.96,1336.02 2204.59,1335.66 2211.21,1335.3 2217.83,1334.94 2224.46,1334.58 2231.08,1334.22 2237.7,1333.86 2244.33,1333.5 2250.95,1333.14 2257.57,1332.78 2264.2,1332.42 2270.82,1332.06 2277.45,1331.7 2284.07,1331.34 2290.69,1330.98 2297.32,1330.62 \"/>\n",
       "<polyline clip-path=\"url(#clip882)\" style=\"stroke:#3da44d; stroke-linecap:round; stroke-linejoin:round; stroke-width:4; stroke-opacity:1; fill:none\" points=\"449.327,1340.74 455.951,1340.21 462.574,1338.41 469.198,1335.65 475.821,1331.84 482.445,1327.18 489.069,1321.68 495.692,1315.22 502.316,1308.02 508.94,1300.08 515.563,1291.5 522.187,1282.29 528.81,1272.34 535.434,1261.86 542.058,1250.84 548.681,1239.2 555.305,1227.23 561.928,1214.74 568.552,1201.77 575.176,1188.53 581.799,1174.93 588.423,1161.01 595.047,1146.76 601.67,1132.26 608.294,1117.49 614.917,1102.56 621.541,1087.42 628.165,1072.12 634.788,1056.66 641.412,1041.04 648.036,1025.43 654.659,1009.65 661.283,993.822 667.906,977.994 674.53,962.112 681.154,946.177 687.777,930.242 694.401,914.413 701.024,898.584 707.648,882.808 714.272,867.032 720.895,851.415 727.519,835.851 734.143,820.393 740.766,805.04 747.39,789.793 754.013,774.653 760.637,759.618 767.261,744.742 773.884,730.025 780.508,715.519 787.131,701.173 793.755,687.038 800.379,672.956 807.002,659.139 813.626,645.533 820.25,632.087 826.873,618.852 833.497,605.776 840.12,592.911 846.744,580.259 853.368,567.818 859.991,555.562 866.615,543.519 873.239,531.687 879.862,520.093 886.486,508.711 893.109,497.514 899.733,486.582 906.357,475.862 912.98,465.327 919.604,455.03 926.227,444.945 932.851,435.099 939.475,425.464 946.098,416.04 952.722,406.829 959.346,397.829 965.969,389.041 972.593,380.491 979.216,372.153 985.84,364.027 992.464,356.086 999.087,348.331 1005.71,340.787 1012.33,333.455 1018.96,326.281 1025.58,319.32 1032.21,312.596 1038.83,306.058 1045.45,299.732 1052.08,293.565 1058.7,287.609 1065.32,281.812 1071.95,276.201 1078.57,270.721 1085.19,265.454 1091.82,260.332 1098.44,255.395 1105.07,250.617 1111.69,245.999 1118.31,241.552 1124.94,237.263 1131.56,233.134 1138.18,229.151 1144.81,225.299 1151.43,221.607 1158.05,218.046 1164.68,214.619 1171.3,211.336 1177.92,208.186 1184.55,205.169 1191.17,202.27 1197.8,199.504 1204.42,196.844 1211.04,194.303 1217.67,191.894 1224.29,189.578 1230.91,187.381 1237.54,185.29 1244.16,183.305 1250.78,181.426 1257.41,179.639 1264.03,177.951 1270.66,176.363 1277.28,174.868 1283.9,173.458 1290.53,172.141 1297.15,170.904 1303.77,169.739 1310.4,168.66 1317.02,167.661 1323.64,166.735 1330.27,165.875 1336.89,165.08 1343.52,164.359 1350.14,163.704 1356.76,163.115 1363.39,162.586 1370.01,162.116 1376.63,161.702 1383.26,161.345 1389.88,161.04 1396.5,160.792 1403.13,160.594 1409.75,160.438 1416.38,160.332 1423,160.273 1429.62,160.256 1436.25,160.283 1442.87,160.344 1449.49,160.443 1456.12,160.579 1462.74,160.751 1469.36,160.956 1475.99,161.193 1482.61,161.462 1489.23,161.758 1495.86,162.084 1502.48,162.435 1509.11,162.813 1515.73,163.215 1522.35,163.641 1528.98,164.088 1535.6,164.556 1542.22,165.044 1548.85,165.551 1555.47,166.075 1562.09,166.617 1568.72,167.174 1575.34,167.746 1581.97,168.333 1588.59,168.932 1595.21,169.543 1601.84,170.166 1608.46,170.8 1615.08,171.445 1621.71,172.099 1628.33,172.761 1634.95,173.431 1641.58,174.108 1648.2,174.79 1654.83,175.48 1661.45,176.176 1668.07,176.874 1674.7,177.579 1681.32,178.287 1687.94,178.997 1694.57,179.712 1701.19,180.428 1707.81,181.144 1714.44,181.866 1721.06,182.585 1727.69,183.307 1734.31,184.028 1740.93,184.749 1747.56,185.469 1754.18,186.187 1760.8,186.908 1767.43,187.628 1774.05,188.346 1780.67,189.059 1787.3,189.772 1793.92,190.481 1800.54,191.188 1807.17,191.894 1813.79,192.597 1820.42,193.296 1827.04,193.992 1833.66,194.685 1840.29,195.372 1846.91,196.057 1853.53,196.738 1860.16,197.417 1866.78,198.09 1873.4,198.757 1880.03,199.418 1886.65,200.078 1893.28,200.735 1899.9,201.387 1906.52,202.034 1913.15,202.677 1919.77,203.316 1926.39,203.948 1933.02,204.573 1939.64,205.197 1946.26,205.814 1952.89,206.426 1959.51,207.035 1966.14,207.639 1972.76,208.238 1979.38,208.832 1986.01,209.419 1992.63,210.005 1999.25,210.584 2005.88,211.156 2012.5,211.723 2019.12,212.289 2025.75,212.85 2032.37,213.403 2039,213.952 2045.62,214.495 2052.24,215.035 2058.87,215.572 2065.49,216.103 2072.11,216.629 2078.74,217.15 2085.36,217.668 2091.98,218.182 2098.61,218.692 2105.23,219.196 2111.85,219.696 2118.48,220.19 2125.1,220.683 2131.73,221.173 2138.35,221.658 2144.97,222.138 2151.6,222.616 2158.22,223.09 2164.84,223.56 2171.47,224.026 2178.09,224.489 2184.71,224.948 2191.34,225.403 2197.96,225.856 2204.59,226.304 2211.21,226.749 2217.83,227.191 2224.46,227.63 2231.08,228.066 2237.7,228.499 2244.33,228.929 2250.95,229.356 2257.57,229.781 2264.2,230.202 2270.82,230.621 2277.45,231.037 2284.07,231.45 2290.69,231.861 2297.32,232.269 \"/>\n",
       "<polyline clip-path=\"url(#clip882)\" style=\"stroke:#c271d2; stroke-linecap:round; stroke-linejoin:round; stroke-width:4; stroke-opacity:1; fill:none\" stroke-dasharray=\"16, 10\" points=\"449.327,1340.74 455.951,1339.27 462.574,1337.88 469.198,1336.55 475.821,1335.31 482.445,1334.13 489.069,1333.02 495.692,1331.97 502.316,1330.99 508.94,1330.08 515.563,1329.23 522.187,1328.43 528.81,1327.69 535.434,1327 542.058,1326.36 548.681,1325.78 555.305,1325.24 561.928,1324.75 568.552,1324.3 575.176,1323.9 581.799,1323.53 588.423,1323.2 595.047,1322.92 601.67,1322.68 608.294,1322.47 614.917,1322.3 621.541,1322.15 628.165,1322.05 634.788,1321.97 641.412,1321.92 648.036,1321.89 654.659,1321.88 661.283,1321.9 667.906,1321.94 674.53,1322.01 681.154,1322.09 687.777,1322.21 694.401,1322.33 701.024,1322.48 707.648,1322.64 714.272,1322.82 720.895,1323.01 727.519,1323.22 734.143,1323.44 740.766,1323.67 747.39,1323.92 754.013,1324.18 760.637,1324.44 767.261,1324.72 773.884,1325.01 780.508,1325.3 787.131,1325.6 793.755,1325.91 800.379,1326.22 807.002,1326.55 813.626,1326.87 820.25,1327.2 826.873,1327.53 833.497,1327.87 840.12,1328.21 846.744,1328.55 853.368,1328.9 859.991,1329.24 866.615,1329.58 873.239,1329.94 879.862,1330.28 886.486,1330.63 893.109,1330.97 899.733,1331.33 906.357,1331.67 912.98,1332.02 919.604,1332.37 926.227,1332.71 932.851,1333.05 939.475,1333.39 946.098,1333.72 952.722,1334.06 959.346,1334.39 965.969,1334.72 972.593,1335.04 979.216,1335.36 985.84,1335.68 992.464,1335.99 999.087,1336.3 1005.71,1336.61 1012.33,1336.92 1018.96,1337.21 1025.58,1337.51 1032.21,1337.8 1038.83,1338.09 1045.45,1338.37 1052.08,1338.65 1058.7,1338.92 1065.32,1339.19 1071.95,1339.45 1078.57,1339.71 1085.19,1339.96 1091.82,1340.22 1098.44,1340.46 1105.07,1340.7 1111.69,1340.94 1118.31,1341.17 1124.94,1341.4 1131.56,1341.62 1138.18,1341.84 1144.81,1342.06 1151.43,1342.27 1158.05,1342.47 1164.68,1342.67 1171.3,1342.87 1177.92,1343.06 1184.55,1343.24 1191.17,1343.42 1197.8,1343.6 1204.42,1343.77 1211.04,1343.94 1217.67,1344.1 1224.29,1344.26 1230.91,1344.42 1237.54,1344.57 1244.16,1344.72 1250.78,1344.86 1257.41,1345 1264.03,1345.14 1270.66,1345.27 1277.28,1345.4 1283.9,1345.52 1290.53,1345.64 1297.15,1345.76 1303.77,1345.87 1310.4,1345.98 1317.02,1346.09 1323.64,1346.19 1330.27,1346.29 1336.89,1346.39 1343.52,1346.48 1350.14,1346.57 1356.76,1346.66 1363.39,1346.74 1370.01,1346.82 1376.63,1346.9 1383.26,1346.98 1389.88,1347.05 1396.5,1347.12 1403.13,1347.19 1409.75,1347.25 1416.38,1347.31 1423,1347.37 1429.62,1347.43 1436.25,1347.49 1442.87,1347.54 1449.49,1347.59 1456.12,1347.65 1462.74,1347.69 1469.36,1347.74 1475.99,1347.78 1482.61,1347.83 1489.23,1347.87 1495.86,1347.9 1502.48,1347.94 1509.11,1347.97 1515.73,1348.01 1522.35,1348.04 1528.98,1348.07 1535.6,1348.09 1542.22,1348.12 1548.85,1348.15 1555.47,1348.17 1562.09,1348.19 1568.72,1348.22 1575.34,1348.24 1581.97,1348.26 1588.59,1348.28 1595.21,1348.3 1601.84,1348.31 1608.46,1348.33 1615.08,1348.35 1621.71,1348.36 1628.33,1348.37 1634.95,1348.38 1641.58,1348.39 1648.2,1348.4 1654.83,1348.41 1661.45,1348.42 1668.07,1348.43 1674.7,1348.44 1681.32,1348.44 1687.94,1348.45 1694.57,1348.45 1701.19,1348.46 1707.81,1348.46 1714.44,1348.46 1721.06,1348.47 1727.69,1348.47 1734.31,1348.48 1740.93,1348.48 1747.56,1348.48 1754.18,1348.49 1760.8,1348.49 1767.43,1348.49 1774.05,1348.49 1780.67,1348.49 1787.3,1348.49 1793.92,1348.49 1800.54,1348.49 1807.17,1348.48 1813.79,1348.48 1820.42,1348.48 1827.04,1348.48 1833.66,1348.48 1840.29,1348.48 1846.91,1348.48 1853.53,1348.47 1860.16,1348.47 1866.78,1348.47 1873.4,1348.47 1880.03,1348.46 1886.65,1348.46 1893.28,1348.46 1899.9,1348.46 1906.52,1348.46 1913.15,1348.46 1919.77,1348.46 1926.39,1348.46 1933.02,1348.46 1939.64,1348.46 1946.26,1348.46 1952.89,1348.46 1959.51,1348.46 1966.14,1348.45 1972.76,1348.45 1979.38,1348.45 1986.01,1348.45 1992.63,1348.45 1999.25,1348.45 2005.88,1348.45 2012.5,1348.45 2019.12,1348.45 2025.75,1348.46 2032.37,1348.46 2039,1348.46 2045.62,1348.46 2052.24,1348.46 2058.87,1348.46 2065.49,1348.46 2072.11,1348.47 2078.74,1348.47 2085.36,1348.47 2091.98,1348.47 2098.61,1348.47 2105.23,1348.48 2111.85,1348.48 2118.48,1348.48 2125.1,1348.48 2131.73,1348.49 2138.35,1348.49 2144.97,1348.49 2151.6,1348.5 2158.22,1348.5 2164.84,1348.5 2171.47,1348.51 2178.09,1348.51 2184.71,1348.51 2191.34,1348.52 2197.96,1348.52 2204.59,1348.52 2211.21,1348.53 2217.83,1348.53 2224.46,1348.54 2231.08,1348.54 2237.7,1348.55 2244.33,1348.55 2250.95,1348.56 2257.57,1348.56 2264.2,1348.57 2270.82,1348.58 2277.45,1348.58 2284.07,1348.59 2290.69,1348.59 2297.32,1348.6 \"/>\n",
       "<polyline clip-path=\"url(#clip882)\" style=\"stroke:#ac8d18; stroke-linecap:round; stroke-linejoin:round; stroke-width:4; stroke-opacity:1; fill:none\" stroke-dasharray=\"16, 10\" points=\"449.327,1340.74 455.951,1341.98 462.574,1343.16 469.198,1344.28 475.821,1345.33 482.445,1346.33 489.069,1347.27 495.692,1348.15 502.316,1348.97 508.94,1349.74 515.563,1350.46 522.187,1351.14 528.81,1351.76 535.434,1352.34 542.058,1352.87 548.681,1353.36 555.305,1353.81 561.928,1354.23 568.552,1354.6 575.176,1354.93 581.799,1355.23 588.423,1355.5 595.047,1355.73 601.67,1355.94 608.294,1356.11 614.917,1356.25 621.541,1356.37 628.165,1356.46 634.788,1356.52 641.412,1356.56 648.036,1356.57 654.659,1356.57 661.283,1356.55 667.906,1356.5 674.53,1356.44 681.154,1356.35 687.777,1356.25 694.401,1356.14 701.024,1356.01 707.648,1355.87 714.272,1355.71 720.895,1355.54 727.519,1355.36 734.143,1355.17 740.766,1354.97 747.39,1354.76 754.013,1354.54 760.637,1354.3 767.261,1354.07 773.884,1353.82 780.508,1353.57 787.131,1353.31 793.755,1353.04 800.379,1352.77 807.002,1352.49 813.626,1352.21 820.25,1351.93 826.873,1351.64 833.497,1351.35 840.12,1351.06 846.744,1350.77 853.368,1350.47 859.991,1350.17 866.615,1349.87 873.239,1349.57 879.862,1349.27 886.486,1348.97 893.109,1348.67 899.733,1348.37 906.357,1348.07 912.98,1347.77 919.604,1347.48 926.227,1347.18 932.851,1346.89 939.475,1346.6 946.098,1346.31 952.722,1346.02 959.346,1345.74 965.969,1345.45 972.593,1345.17 979.216,1344.9 985.84,1344.62 992.464,1344.35 999.087,1344.08 1005.71,1343.82 1012.33,1343.56 1018.96,1343.3 1025.58,1343.04 1032.21,1342.79 1038.83,1342.55 1045.45,1342.3 1052.08,1342.06 1058.7,1341.82 1065.32,1341.59 1071.95,1341.36 1078.57,1341.14 1085.19,1340.92 1091.82,1340.7 1098.44,1340.49 1105.07,1340.29 1111.69,1340.08 1118.31,1339.88 1124.94,1339.69 1131.56,1339.5 1138.18,1339.31 1144.81,1339.13 1151.43,1338.95 1158.05,1338.77 1164.68,1338.6 1171.3,1338.44 1177.92,1338.27 1184.55,1338.11 1191.17,1337.95 1197.8,1337.8 1204.42,1337.65 1211.04,1337.51 1217.67,1337.37 1224.29,1337.23 1230.91,1337.09 1237.54,1336.96 1244.16,1336.84 1250.78,1336.71 1257.41,1336.59 1264.03,1336.47 1270.66,1336.36 1277.28,1336.25 1283.9,1336.14 1290.53,1336.04 1297.15,1335.94 1303.77,1335.84 1310.4,1335.74 1317.02,1335.65 1323.64,1335.56 1330.27,1335.47 1336.89,1335.39 1343.52,1335.31 1350.14,1335.23 1356.76,1335.15 1363.39,1335.07 1370.01,1335 1376.63,1334.94 1383.26,1334.87 1389.88,1334.8 1396.5,1334.74 1403.13,1334.68 1409.75,1334.63 1416.38,1334.57 1423,1334.51 1429.62,1334.46 1436.25,1334.41 1442.87,1334.37 1449.49,1334.32 1456.12,1334.28 1462.74,1334.23 1469.36,1334.19 1475.99,1334.15 1482.61,1334.12 1489.23,1334.08 1495.86,1334.05 1502.48,1334.02 1509.11,1333.99 1515.73,1333.96 1522.35,1333.93 1528.98,1333.91 1535.6,1333.89 1542.22,1333.86 1548.85,1333.84 1555.47,1333.82 1562.09,1333.8 1568.72,1333.79 1575.34,1333.77 1581.97,1333.75 1588.59,1333.74 1595.21,1333.73 1601.84,1333.71 1608.46,1333.7 1615.08,1333.69 1621.71,1333.68 1628.33,1333.67 1634.95,1333.66 1641.58,1333.65 1648.2,1333.64 1654.83,1333.63 1661.45,1333.63 1668.07,1333.62 1674.7,1333.62 1681.32,1333.61 1687.94,1333.61 1694.57,1333.6 1701.19,1333.6 1707.81,1333.6 1714.44,1333.59 1721.06,1333.59 1727.69,1333.59 1734.31,1333.59 1740.93,1333.59 1747.56,1333.59 1754.18,1333.58 1760.8,1333.58 1767.43,1333.58 1774.05,1333.58 1780.67,1333.58 1787.3,1333.59 1793.92,1333.59 1800.54,1333.59 1807.17,1333.59 1813.79,1333.59 1820.42,1333.59 1827.04,1333.59 1833.66,1333.59 1840.29,1333.59 1846.91,1333.59 1853.53,1333.59 1860.16,1333.6 1866.78,1333.6 1873.4,1333.6 1880.03,1333.6 1886.65,1333.61 1893.28,1333.61 1899.9,1333.61 1906.52,1333.61 1913.15,1333.61 1919.77,1333.61 1926.39,1333.62 1933.02,1333.62 1939.64,1333.62 1946.26,1333.63 1952.89,1333.63 1959.51,1333.63 1966.14,1333.63 1972.76,1333.63 1979.38,1333.63 1986.01,1333.63 1992.63,1333.63 1999.25,1333.63 2005.88,1333.63 2012.5,1333.63 2019.12,1333.63 2025.75,1333.63 2032.37,1333.63 2039,1333.63 2045.62,1333.63 2052.24,1333.63 2058.87,1333.63 2065.49,1333.63 2072.11,1333.63 2078.74,1333.62 2085.36,1333.62 2091.98,1333.62 2098.61,1333.62 2105.23,1333.61 2111.85,1333.61 2118.48,1333.61 2125.1,1333.61 2131.73,1333.61 2138.35,1333.61 2144.97,1333.6 2151.6,1333.6 2158.22,1333.6 2164.84,1333.59 2171.47,1333.59 2178.09,1333.59 2184.71,1333.58 2191.34,1333.58 2197.96,1333.57 2204.59,1333.57 2211.21,1333.57 2217.83,1333.56 2224.46,1333.56 2231.08,1333.55 2237.7,1333.55 2244.33,1333.54 2250.95,1333.54 2257.57,1333.53 2264.2,1333.53 2270.82,1333.52 2277.45,1333.52 2284.07,1333.51 2290.69,1333.5 2297.32,1333.5 \"/>\n",
       "<polyline clip-path=\"url(#clip882)\" style=\"stroke:#00a9ad; stroke-linecap:round; stroke-linejoin:round; stroke-width:4; stroke-opacity:1; fill:none\" stroke-dasharray=\"16, 10\" points=\"449.327,1340.74 455.951,1318.32 462.574,1296.98 469.198,1276.68 475.821,1257.38 482.445,1239.09 489.069,1221.75 495.692,1205.34 502.316,1189.86 508.94,1175.22 515.563,1161.43 522.187,1148.46 528.81,1136.28 535.434,1124.9 542.058,1114.23 548.681,1104.31 555.305,1095.07 561.928,1086.49 568.552,1078.55 575.176,1071.25 581.799,1064.55 588.423,1058.44 595.047,1052.88 601.67,1047.85 608.294,1043.32 614.917,1039.3 621.541,1035.78 628.165,1032.73 634.788,1030.11 641.412,1027.92 648.036,1026.12 654.659,1024.71 661.283,1023.68 667.906,1022.99 674.53,1022.65 681.154,1022.62 687.777,1022.9 694.401,1023.48 701.024,1024.33 707.648,1025.45 714.272,1026.83 720.895,1028.44 727.519,1030.28 734.143,1032.34 740.766,1034.59 747.39,1037.02 754.013,1039.64 760.637,1042.42 767.261,1045.37 773.884,1048.46 780.508,1051.69 787.131,1055.03 793.755,1058.5 800.379,1062.07 807.002,1065.75 813.626,1069.53 820.25,1073.39 826.873,1077.33 833.497,1081.34 840.12,1085.42 846.744,1089.55 853.368,1093.73 859.991,1097.95 866.615,1102.22 873.239,1106.5 879.862,1110.82 886.486,1115.16 893.109,1119.51 899.733,1123.88 906.357,1128.25 912.98,1132.63 919.604,1137.01 926.227,1141.38 932.851,1145.73 939.475,1150.07 946.098,1154.4 952.722,1158.72 959.346,1162.99 965.969,1167.25 972.593,1171.47 979.216,1175.67 985.84,1179.83 992.464,1183.95 999.087,1188.03 1005.71,1192.07 1012.33,1196.06 1018.96,1200.02 1025.58,1203.93 1032.21,1207.79 1038.83,1211.62 1045.45,1215.39 1052.08,1219.11 1058.7,1222.77 1065.32,1226.38 1071.95,1229.93 1078.57,1233.44 1085.19,1236.89 1091.82,1240.28 1098.44,1243.6 1105.07,1246.88 1111.69,1250.09 1118.31,1253.25 1124.94,1256.34 1131.56,1259.38 1138.18,1262.36 1144.81,1265.28 1151.43,1268.14 1158.05,1270.94 1164.68,1273.68 1171.3,1276.36 1177.92,1278.99 1184.55,1281.56 1191.17,1284.06 1197.8,1286.51 1204.42,1288.91 1211.04,1291.24 1217.67,1293.53 1224.29,1295.75 1230.91,1297.92 1237.54,1300.04 1244.16,1302.1 1250.78,1304.11 1257.41,1306.07 1264.03,1307.97 1270.66,1309.83 1277.28,1311.63 1283.9,1313.38 1290.53,1315.08 1297.15,1316.73 1303.77,1318.34 1310.4,1319.9 1317.02,1321.41 1323.64,1322.88 1330.27,1324.3 1336.89,1325.68 1343.52,1327.02 1350.14,1328.31 1356.76,1329.57 1363.39,1330.78 1370.01,1331.94 1376.63,1333.07 1383.26,1334.16 1389.88,1335.21 1396.5,1336.23 1403.13,1337.21 1409.75,1338.15 1416.38,1339.06 1423,1339.93 1429.62,1340.78 1436.25,1341.58 1442.87,1342.36 1449.49,1343.1 1456.12,1343.81 1462.74,1344.5 1469.36,1345.16 1475.99,1345.78 1482.61,1346.39 1489.23,1346.97 1495.86,1347.52 1502.48,1348.04 1509.11,1348.54 1515.73,1349.02 1522.35,1349.47 1528.98,1349.89 1535.6,1350.3 1542.22,1350.69 1548.85,1351.06 1555.47,1351.4 1562.09,1351.73 1568.72,1352.04 1575.34,1352.33 1581.97,1352.6 1588.59,1352.85 1595.21,1353.09 1601.84,1353.32 1608.46,1353.52 1615.08,1353.71 1621.71,1353.89 1628.33,1354.06 1634.95,1354.21 1641.58,1354.34 1648.2,1354.47 1654.83,1354.58 1661.45,1354.68 1668.07,1354.77 1674.7,1354.85 1681.32,1354.92 1687.94,1354.98 1694.57,1355.04 1701.19,1355.08 1707.81,1355.12 1714.44,1355.14 1721.06,1355.16 1727.69,1355.17 1734.31,1355.17 1740.93,1355.17 1747.56,1355.15 1754.18,1355.14 1760.8,1355.12 1767.43,1355.09 1774.05,1355.05 1780.67,1355.01 1787.3,1354.97 1793.92,1354.92 1800.54,1354.87 1807.17,1354.81 1813.79,1354.74 1820.42,1354.68 1827.04,1354.61 1833.66,1354.54 1840.29,1354.47 1846.91,1354.39 1853.53,1354.31 1860.16,1354.23 1866.78,1354.15 1873.4,1354.06 1880.03,1353.98 1886.65,1353.89 1893.28,1353.8 1899.9,1353.71 1906.52,1353.62 1913.15,1353.53 1919.77,1353.43 1926.39,1353.33 1933.02,1353.24 1939.64,1353.14 1946.26,1353.04 1952.89,1352.94 1959.51,1352.85 1966.14,1352.75 1972.76,1352.65 1979.38,1352.55 1986.01,1352.46 1992.63,1352.36 1999.25,1352.26 2005.88,1352.16 2012.5,1352.06 2019.12,1351.97 2025.75,1351.87 2032.37,1351.78 2039,1351.68 2045.62,1351.59 2052.24,1351.5 2058.87,1351.4 2065.49,1351.31 2072.11,1351.22 2078.74,1351.13 2085.36,1351.05 2091.98,1350.96 2098.61,1350.87 2105.23,1350.79 2111.85,1350.7 2118.48,1350.63 2125.1,1350.55 2131.73,1350.47 2138.35,1350.39 2144.97,1350.32 2151.6,1350.24 2158.22,1350.17 2164.84,1350.09 2171.47,1350.02 2178.09,1349.95 2184.71,1349.88 2191.34,1349.81 2197.96,1349.75 2204.59,1349.68 2211.21,1349.62 2217.83,1349.55 2224.46,1349.49 2231.08,1349.43 2237.7,1349.37 2244.33,1349.3 2250.95,1349.25 2257.57,1349.19 2264.2,1349.14 2270.82,1349.08 2277.45,1349.03 2284.07,1348.97 2290.69,1348.92 2297.32,1348.87 \"/>\n",
       "<path clip-path=\"url(#clip880)\" d=\"M459.183 529.676 L725.44 529.676 L725.44 166.796 L459.183 166.796  Z\" fill=\"#ffffff\" fill-rule=\"evenodd\" fill-opacity=\"1\"/>\n",
       "<polyline clip-path=\"url(#clip880)\" style=\"stroke:#000000; stroke-linecap:round; stroke-linejoin:round; stroke-width:4; stroke-opacity:1; fill:none\" points=\"459.183,529.676 725.44,529.676 725.44,166.796 459.183,166.796 459.183,529.676 \"/>\n",
       "<polyline clip-path=\"url(#clip880)\" style=\"stroke:#009af9; stroke-linecap:round; stroke-linejoin:round; stroke-width:4; stroke-opacity:1; fill:none\" points=\"480.948,218.636 611.539,218.636 \"/>\n",
       "<path clip-path=\"url(#clip880)\" d=\"M657.332 221.888 L657.332 223.971 L637.749 223.971 Q638.027 228.369 640.388 230.684 Q642.772 232.976 647.008 232.976 Q649.462 232.976 651.754 232.374 Q654.068 231.772 656.337 230.569 L656.337 234.596 Q654.045 235.568 651.638 236.078 Q649.23 236.587 646.754 236.587 Q640.55 236.587 636.916 232.976 Q633.305 229.365 633.305 223.207 Q633.305 216.842 636.731 213.115 Q640.18 209.365 646.013 209.365 Q651.244 209.365 654.277 212.745 Q657.332 216.101 657.332 221.888 M653.073 220.638 Q653.027 217.143 651.105 215.059 Q649.207 212.976 646.059 212.976 Q642.494 212.976 640.342 214.99 Q638.212 217.004 637.888 220.661 L653.073 220.638 Z\" fill=\"#000000\" fill-rule=\"evenodd\" fill-opacity=\"1\" /><path clip-path=\"url(#clip880)\" d=\"M685.04 209.99 L675.665 222.606 L685.527 235.916 L680.503 235.916 L672.957 225.731 L665.411 235.916 L660.388 235.916 L670.457 222.351 L661.244 209.99 L666.267 209.99 L673.142 219.226 L680.017 209.99 L685.04 209.99 Z\" fill=\"#000000\" fill-rule=\"evenodd\" fill-opacity=\"1\" /><path clip-path=\"url(#clip880)\" d=\"M690.689 233.369 L695.411 233.369 L695.411 219.226 L690.249 220.175 L690.249 217.49 L695.573 216.587 L698.744 216.587 L698.744 233.369 L703.489 233.369 L703.489 235.916 L690.689 235.916 L690.689 233.369 Z\" fill=\"#000000\" fill-rule=\"evenodd\" fill-opacity=\"1\" /><polyline clip-path=\"url(#clip880)\" style=\"stroke:#e26f46; stroke-linecap:round; stroke-linejoin:round; stroke-width:4; stroke-opacity:1; fill:none\" points=\"480.948,270.476 611.539,270.476 \"/>\n",
       "<path clip-path=\"url(#clip880)\" d=\"M657.332 273.728 L657.332 275.811 L637.749 275.811 Q638.027 280.209 640.388 282.524 Q642.772 284.816 647.008 284.816 Q649.462 284.816 651.754 284.214 Q654.068 283.612 656.337 282.409 L656.337 286.436 Q654.045 287.408 651.638 287.918 Q649.23 288.427 646.754 288.427 Q640.55 288.427 636.916 284.816 Q633.305 281.205 633.305 275.047 Q633.305 268.682 636.731 264.955 Q640.18 261.205 646.013 261.205 Q651.244 261.205 654.277 264.585 Q657.332 267.941 657.332 273.728 M653.073 272.478 Q653.027 268.983 651.105 266.899 Q649.207 264.816 646.059 264.816 Q642.494 264.816 640.342 266.83 Q638.212 268.844 637.888 272.501 L653.073 272.478 Z\" fill=\"#000000\" fill-rule=\"evenodd\" fill-opacity=\"1\" /><path clip-path=\"url(#clip880)\" d=\"M685.04 261.83 L675.665 274.446 L685.527 287.756 L680.503 287.756 L672.957 277.571 L665.411 287.756 L660.388 287.756 L670.457 274.191 L661.244 261.83 L666.267 261.83 L673.142 271.066 L680.017 261.83 L685.04 261.83 Z\" fill=\"#000000\" fill-rule=\"evenodd\" fill-opacity=\"1\" /><path clip-path=\"url(#clip880)\" d=\"M693.281 285.117 L703.096 285.117 L703.096 287.756 L689.253 287.756 L689.253 285.209 Q690.04 284.492 691.499 283.196 Q699.462 276.135 699.462 273.959 Q699.462 272.432 698.258 271.506 Q697.054 270.557 695.087 270.557 Q693.883 270.557 692.471 270.973 Q691.059 271.367 689.392 272.177 L689.392 269.33 Q691.175 268.682 692.702 268.358 Q694.253 268.034 695.573 268.034 Q698.929 268.034 700.943 269.561 Q702.957 271.089 702.957 273.589 Q702.957 276.807 695.295 283.381 Q693.999 284.492 693.281 285.117 Z\" fill=\"#000000\" fill-rule=\"evenodd\" fill-opacity=\"1\" /><polyline clip-path=\"url(#clip880)\" style=\"stroke:#3da44d; stroke-linecap:round; stroke-linejoin:round; stroke-width:4; stroke-opacity:1; fill:none\" points=\"480.948,322.316 611.539,322.316 \"/>\n",
       "<path clip-path=\"url(#clip880)\" d=\"M657.332 325.568 L657.332 327.651 L637.749 327.651 Q638.027 332.049 640.388 334.364 Q642.772 336.656 647.008 336.656 Q649.462 336.656 651.754 336.054 Q654.068 335.452 656.337 334.249 L656.337 338.276 Q654.045 339.248 651.638 339.758 Q649.23 340.267 646.754 340.267 Q640.55 340.267 636.916 336.656 Q633.305 333.045 633.305 326.887 Q633.305 320.522 636.731 316.795 Q640.18 313.045 646.013 313.045 Q651.244 313.045 654.277 316.425 Q657.332 319.781 657.332 325.568 M653.073 324.318 Q653.027 320.823 651.105 318.739 Q649.207 316.656 646.059 316.656 Q642.494 316.656 640.342 318.67 Q638.212 320.684 637.888 324.341 L653.073 324.318 Z\" fill=\"#000000\" fill-rule=\"evenodd\" fill-opacity=\"1\" /><path clip-path=\"url(#clip880)\" d=\"M685.04 313.67 L675.665 326.286 L685.527 339.596 L680.503 339.596 L672.957 329.411 L665.411 339.596 L660.388 339.596 L670.457 326.031 L661.244 313.67 L666.267 313.67 L673.142 322.906 L680.017 313.67 L685.04 313.67 Z\" fill=\"#000000\" fill-rule=\"evenodd\" fill-opacity=\"1\" /><path clip-path=\"url(#clip880)\" d=\"M699.207 329.133 Q701.337 329.549 702.494 330.823 Q703.675 332.073 703.675 333.971 Q703.675 336.841 701.476 338.392 Q699.276 339.943 695.179 339.943 Q693.86 339.943 692.402 339.688 Q690.966 339.457 689.346 338.994 L689.346 336.193 Q690.55 336.818 691.915 337.119 Q693.304 337.42 694.855 337.42 Q697.378 337.42 698.767 336.517 Q700.156 335.591 700.156 333.971 Q700.156 332.258 698.86 331.378 Q697.587 330.499 695.087 330.499 L693.096 330.499 L693.096 327.999 L695.272 327.999 Q697.448 327.999 698.559 327.281 Q699.693 326.54 699.693 325.151 Q699.693 323.809 698.536 323.114 Q697.378 322.397 695.179 322.397 Q694.253 322.397 693.073 322.605 Q691.892 322.813 690.017 323.346 L690.017 320.684 Q691.707 320.29 693.189 320.082 Q694.67 319.874 695.943 319.874 Q699.276 319.874 701.221 321.239 Q703.188 322.605 703.188 324.897 Q703.188 326.494 702.147 327.605 Q701.105 328.716 699.207 329.133 Z\" fill=\"#000000\" fill-rule=\"evenodd\" fill-opacity=\"1\" /><polyline clip-path=\"url(#clip880)\" style=\"stroke:#c271d2; stroke-linecap:round; stroke-linejoin:round; stroke-width:4; stroke-opacity:1; fill:none\" stroke-dasharray=\"16, 10\" points=\"480.948,374.156 611.539,374.156 \"/>\n",
       "<path clip-path=\"url(#clip880)\" d=\"M657.332 377.408 L657.332 379.491 L637.749 379.491 Q638.027 383.889 640.388 386.204 Q642.772 388.496 647.008 388.496 Q649.462 388.496 651.754 387.894 Q654.068 387.292 656.337 386.089 L656.337 390.116 Q654.045 391.088 651.638 391.598 Q649.23 392.107 646.754 392.107 Q640.55 392.107 636.916 388.496 Q633.305 384.885 633.305 378.727 Q633.305 372.362 636.731 368.635 Q640.18 364.885 646.013 364.885 Q651.244 364.885 654.277 368.265 Q657.332 371.621 657.332 377.408 M653.073 376.158 Q653.027 372.663 651.105 370.579 Q649.207 368.496 646.059 368.496 Q642.494 368.496 640.342 370.51 Q638.212 372.524 637.888 376.181 L653.073 376.158 Z\" fill=\"#000000\" fill-rule=\"evenodd\" fill-opacity=\"1\" /><path clip-path=\"url(#clip880)\" d=\"M685.04 365.51 L675.665 378.126 L685.527 391.436 L680.503 391.436 L672.957 381.251 L665.411 391.436 L660.388 391.436 L670.457 377.871 L661.244 365.51 L666.267 365.51 L673.142 374.746 L680.017 365.51 L685.04 365.51 Z\" fill=\"#000000\" fill-rule=\"evenodd\" fill-opacity=\"1\" /><path clip-path=\"url(#clip880)\" d=\"M673.05 355.417 L677.309 355.417 L677.309 360.811 L673.05 360.811 L673.05 355.417 M675.226 364.885 L675.226 364.885 Z\" fill=\"#000000\" fill-rule=\"evenodd\" fill-opacity=\"1\" /><path clip-path=\"url(#clip880)\" d=\"M690.689 388.889 L695.411 388.889 L695.411 374.746 L690.249 375.695 L690.249 373.01 L695.573 372.107 L698.744 372.107 L698.744 388.889 L703.489 388.889 L703.489 391.436 L690.689 391.436 L690.689 388.889 Z\" fill=\"#000000\" fill-rule=\"evenodd\" fill-opacity=\"1\" /><polyline clip-path=\"url(#clip880)\" style=\"stroke:#ac8d18; stroke-linecap:round; stroke-linejoin:round; stroke-width:4; stroke-opacity:1; fill:none\" stroke-dasharray=\"16, 10\" points=\"480.948,425.996 611.539,425.996 \"/>\n",
       "<path clip-path=\"url(#clip880)\" d=\"M657.332 429.248 L657.332 431.331 L637.749 431.331 Q638.027 435.729 640.388 438.044 Q642.772 440.336 647.008 440.336 Q649.462 440.336 651.754 439.734 Q654.068 439.132 656.337 437.929 L656.337 441.956 Q654.045 442.928 651.638 443.438 Q649.23 443.947 646.754 443.947 Q640.55 443.947 636.916 440.336 Q633.305 436.725 633.305 430.567 Q633.305 424.202 636.731 420.475 Q640.18 416.725 646.013 416.725 Q651.244 416.725 654.277 420.105 Q657.332 423.461 657.332 429.248 M653.073 427.998 Q653.027 424.503 651.105 422.419 Q649.207 420.336 646.059 420.336 Q642.494 420.336 640.342 422.35 Q638.212 424.364 637.888 428.021 L653.073 427.998 Z\" fill=\"#000000\" fill-rule=\"evenodd\" fill-opacity=\"1\" /><path clip-path=\"url(#clip880)\" d=\"M685.04 417.35 L675.665 429.966 L685.527 443.276 L680.503 443.276 L672.957 433.091 L665.411 443.276 L660.388 443.276 L670.457 429.711 L661.244 417.35 L666.267 417.35 L673.142 426.586 L680.017 417.35 L685.04 417.35 Z\" fill=\"#000000\" fill-rule=\"evenodd\" fill-opacity=\"1\" /><path clip-path=\"url(#clip880)\" d=\"M673.05 407.257 L677.309 407.257 L677.309 412.651 L673.05 412.651 L673.05 407.257 M675.226 416.725 L675.226 416.725 Z\" fill=\"#000000\" fill-rule=\"evenodd\" fill-opacity=\"1\" /><path clip-path=\"url(#clip880)\" d=\"M693.281 440.637 L703.096 440.637 L703.096 443.276 L689.253 443.276 L689.253 440.729 Q690.04 440.012 691.499 438.716 Q699.462 431.655 699.462 429.479 Q699.462 427.952 698.258 427.026 Q697.054 426.077 695.087 426.077 Q693.883 426.077 692.471 426.493 Q691.059 426.887 689.392 427.697 L689.392 424.85 Q691.175 424.202 692.702 423.878 Q694.253 423.554 695.573 423.554 Q698.929 423.554 700.943 425.081 Q702.957 426.609 702.957 429.109 Q702.957 432.327 695.295 438.901 Q693.999 440.012 693.281 440.637 Z\" fill=\"#000000\" fill-rule=\"evenodd\" fill-opacity=\"1\" /><polyline clip-path=\"url(#clip880)\" style=\"stroke:#00a9ad; stroke-linecap:round; stroke-linejoin:round; stroke-width:4; stroke-opacity:1; fill:none\" stroke-dasharray=\"16, 10\" points=\"480.948,477.836 611.539,477.836 \"/>\n",
       "<path clip-path=\"url(#clip880)\" d=\"M657.332 481.088 L657.332 483.171 L637.749 483.171 Q638.027 487.569 640.388 489.884 Q642.772 492.176 647.008 492.176 Q649.462 492.176 651.754 491.574 Q654.068 490.972 656.337 489.769 L656.337 493.796 Q654.045 494.768 651.638 495.278 Q649.23 495.787 646.754 495.787 Q640.55 495.787 636.916 492.176 Q633.305 488.565 633.305 482.407 Q633.305 476.042 636.731 472.315 Q640.18 468.565 646.013 468.565 Q651.244 468.565 654.277 471.945 Q657.332 475.301 657.332 481.088 M653.073 479.838 Q653.027 476.343 651.105 474.259 Q649.207 472.176 646.059 472.176 Q642.494 472.176 640.342 474.19 Q638.212 476.204 637.888 479.861 L653.073 479.838 Z\" fill=\"#000000\" fill-rule=\"evenodd\" fill-opacity=\"1\" /><path clip-path=\"url(#clip880)\" d=\"M685.04 469.19 L675.665 481.806 L685.527 495.116 L680.503 495.116 L672.957 484.931 L665.411 495.116 L660.388 495.116 L670.457 481.551 L661.244 469.19 L666.267 469.19 L673.142 478.426 L680.017 469.19 L685.04 469.19 Z\" fill=\"#000000\" fill-rule=\"evenodd\" fill-opacity=\"1\" /><path clip-path=\"url(#clip880)\" d=\"M673.05 459.097 L677.309 459.097 L677.309 464.491 L673.05 464.491 L673.05 459.097 M675.226 468.565 L675.226 468.565 Z\" fill=\"#000000\" fill-rule=\"evenodd\" fill-opacity=\"1\" /><path clip-path=\"url(#clip880)\" d=\"M699.207 484.653 Q701.337 485.069 702.494 486.343 Q703.675 487.593 703.675 489.491 Q703.675 492.361 701.476 493.912 Q699.276 495.463 695.179 495.463 Q693.86 495.463 692.402 495.208 Q690.966 494.977 689.346 494.514 L689.346 491.713 Q690.55 492.338 691.915 492.639 Q693.304 492.94 694.855 492.94 Q697.378 492.94 698.767 492.037 Q700.156 491.111 700.156 489.491 Q700.156 487.778 698.86 486.898 Q697.587 486.019 695.087 486.019 L693.096 486.019 L693.096 483.519 L695.272 483.519 Q697.448 483.519 698.559 482.801 Q699.693 482.06 699.693 480.671 Q699.693 479.329 698.536 478.634 Q697.378 477.917 695.179 477.917 Q694.253 477.917 693.073 478.125 Q691.892 478.333 690.017 478.866 L690.017 476.204 Q691.707 475.81 693.189 475.602 Q694.67 475.394 695.943 475.394 Q699.276 475.394 701.221 476.759 Q703.188 478.125 703.188 480.417 Q703.188 482.014 702.147 483.125 Q701.105 484.236 699.207 484.653 Z\" fill=\"#000000\" fill-rule=\"evenodd\" fill-opacity=\"1\" /></svg>\n"
      ]
     },
     "metadata": {},
     "output_type": "display_data"
    },
    {
     "data": {
      "image/svg+xml": [
       "<?xml version=\"1.0\" encoding=\"utf-8\"?>\n",
       "<svg xmlns=\"http://www.w3.org/2000/svg\" xmlns:xlink=\"http://www.w3.org/1999/xlink\" width=\"600\" height=\"400\" viewBox=\"0 0 2400 1600\">\n",
       "<defs>\n",
       "  <clipPath id=\"clip920\">\n",
       "    <rect x=\"0\" y=\"0\" width=\"2400\" height=\"1600\"/>\n",
       "  </clipPath>\n",
       "</defs>\n",
       "<path clip-path=\"url(#clip920)\" d=\"M0 1600 L2400 1600 L2400 0 L0 0  Z\" fill=\"#ffffff\" fill-rule=\"evenodd\" fill-opacity=\"1\"/>\n",
       "<defs>\n",
       "  <clipPath id=\"clip921\">\n",
       "    <rect x=\"480\" y=\"0\" width=\"1681\" height=\"1600\"/>\n",
       "  </clipPath>\n",
       "</defs>\n",
       "<path clip-path=\"url(#clip920)\" d=\"M232.389 1423.18 L2352.76 1423.18 L2352.76 123.472 L232.389 123.472  Z\" fill=\"#ffffff\" fill-rule=\"evenodd\" fill-opacity=\"1\"/>\n",
       "<defs>\n",
       "  <clipPath id=\"clip922\">\n",
       "    <rect x=\"232\" y=\"123\" width=\"2121\" height=\"1301\"/>\n",
       "  </clipPath>\n",
       "</defs>\n",
       "<polyline clip-path=\"url(#clip922)\" style=\"stroke:#000000; stroke-linecap:round; stroke-linejoin:round; stroke-width:2; stroke-opacity:0.1; fill:none\" points=\"292.4,1423.18 292.4,123.472 \"/>\n",
       "<polyline clip-path=\"url(#clip922)\" style=\"stroke:#000000; stroke-linecap:round; stroke-linejoin:round; stroke-width:2; stroke-opacity:0.1; fill:none\" points=\"653.473,1423.18 653.473,123.472 \"/>\n",
       "<polyline clip-path=\"url(#clip922)\" style=\"stroke:#000000; stroke-linecap:round; stroke-linejoin:round; stroke-width:2; stroke-opacity:0.1; fill:none\" points=\"1014.55,1423.18 1014.55,123.472 \"/>\n",
       "<polyline clip-path=\"url(#clip922)\" style=\"stroke:#000000; stroke-linecap:round; stroke-linejoin:round; stroke-width:2; stroke-opacity:0.1; fill:none\" points=\"1375.62,1423.18 1375.62,123.472 \"/>\n",
       "<polyline clip-path=\"url(#clip922)\" style=\"stroke:#000000; stroke-linecap:round; stroke-linejoin:round; stroke-width:2; stroke-opacity:0.1; fill:none\" points=\"1736.69,1423.18 1736.69,123.472 \"/>\n",
       "<polyline clip-path=\"url(#clip922)\" style=\"stroke:#000000; stroke-linecap:round; stroke-linejoin:round; stroke-width:2; stroke-opacity:0.1; fill:none\" points=\"2097.77,1423.18 2097.77,123.472 \"/>\n",
       "<polyline clip-path=\"url(#clip920)\" style=\"stroke:#000000; stroke-linecap:round; stroke-linejoin:round; stroke-width:4; stroke-opacity:1; fill:none\" points=\"232.389,1423.18 2352.76,1423.18 \"/>\n",
       "<polyline clip-path=\"url(#clip920)\" style=\"stroke:#000000; stroke-linecap:round; stroke-linejoin:round; stroke-width:4; stroke-opacity:1; fill:none\" points=\"292.4,1423.18 292.4,1404.28 \"/>\n",
       "<polyline clip-path=\"url(#clip920)\" style=\"stroke:#000000; stroke-linecap:round; stroke-linejoin:round; stroke-width:4; stroke-opacity:1; fill:none\" points=\"653.473,1423.18 653.473,1404.28 \"/>\n",
       "<polyline clip-path=\"url(#clip920)\" style=\"stroke:#000000; stroke-linecap:round; stroke-linejoin:round; stroke-width:4; stroke-opacity:1; fill:none\" points=\"1014.55,1423.18 1014.55,1404.28 \"/>\n",
       "<polyline clip-path=\"url(#clip920)\" style=\"stroke:#000000; stroke-linecap:round; stroke-linejoin:round; stroke-width:4; stroke-opacity:1; fill:none\" points=\"1375.62,1423.18 1375.62,1404.28 \"/>\n",
       "<polyline clip-path=\"url(#clip920)\" style=\"stroke:#000000; stroke-linecap:round; stroke-linejoin:round; stroke-width:4; stroke-opacity:1; fill:none\" points=\"1736.69,1423.18 1736.69,1404.28 \"/>\n",
       "<polyline clip-path=\"url(#clip920)\" style=\"stroke:#000000; stroke-linecap:round; stroke-linejoin:round; stroke-width:4; stroke-opacity:1; fill:none\" points=\"2097.77,1423.18 2097.77,1404.28 \"/>\n",
       "<path clip-path=\"url(#clip920)\" d=\"M269.784 1454.1 Q266.173 1454.1 264.344 1457.66 Q262.539 1461.2 262.539 1468.33 Q262.539 1475.44 264.344 1479.01 Q266.173 1482.55 269.784 1482.55 Q273.418 1482.55 275.224 1479.01 Q277.053 1475.44 277.053 1468.33 Q277.053 1461.2 275.224 1457.66 Q273.418 1454.1 269.784 1454.1 M269.784 1450.39 Q275.594 1450.39 278.65 1455 Q281.728 1459.58 281.728 1468.33 Q281.728 1477.06 278.65 1481.67 Q275.594 1486.25 269.784 1486.25 Q263.974 1486.25 260.895 1481.67 Q257.84 1477.06 257.84 1468.33 Q257.84 1459.58 260.895 1455 Q263.974 1450.39 269.784 1450.39 Z\" fill=\"#000000\" fill-rule=\"evenodd\" fill-opacity=\"1\" /><path clip-path=\"url(#clip920)\" d=\"M289.946 1479.7 L294.83 1479.7 L294.83 1485.58 L289.946 1485.58 L289.946 1479.7 Z\" fill=\"#000000\" fill-rule=\"evenodd\" fill-opacity=\"1\" /><path clip-path=\"url(#clip920)\" d=\"M315.015 1454.1 Q311.404 1454.1 309.576 1457.66 Q307.77 1461.2 307.77 1468.33 Q307.77 1475.44 309.576 1479.01 Q311.404 1482.55 315.015 1482.55 Q318.65 1482.55 320.455 1479.01 Q322.284 1475.44 322.284 1468.33 Q322.284 1461.2 320.455 1457.66 Q318.65 1454.1 315.015 1454.1 M315.015 1450.39 Q320.825 1450.39 323.881 1455 Q326.96 1459.58 326.96 1468.33 Q326.96 1477.06 323.881 1481.67 Q320.825 1486.25 315.015 1486.25 Q309.205 1486.25 306.126 1481.67 Q303.071 1477.06 303.071 1468.33 Q303.071 1459.58 306.126 1455 Q309.205 1450.39 315.015 1450.39 Z\" fill=\"#000000\" fill-rule=\"evenodd\" fill-opacity=\"1\" /><path clip-path=\"url(#clip920)\" d=\"M625.209 1481.64 L641.529 1481.64 L641.529 1485.58 L619.584 1485.58 L619.584 1481.64 Q622.246 1478.89 626.83 1474.26 Q631.436 1469.61 632.617 1468.27 Q634.862 1465.74 635.742 1464.01 Q636.644 1462.25 636.644 1460.56 Q636.644 1457.8 634.7 1456.07 Q632.779 1454.33 629.677 1454.33 Q627.478 1454.33 625.024 1455.09 Q622.594 1455.86 619.816 1457.41 L619.816 1452.69 Q622.64 1451.55 625.093 1450.97 Q627.547 1450.39 629.584 1450.39 Q634.955 1450.39 638.149 1453.08 Q641.343 1455.77 641.343 1460.26 Q641.343 1462.39 640.533 1464.31 Q639.746 1466.2 637.64 1468.8 Q637.061 1469.47 633.959 1472.69 Q630.857 1475.88 625.209 1481.64 Z\" fill=\"#000000\" fill-rule=\"evenodd\" fill-opacity=\"1\" /><path clip-path=\"url(#clip920)\" d=\"M651.343 1479.7 L656.228 1479.7 L656.228 1485.58 L651.343 1485.58 L651.343 1479.7 Z\" fill=\"#000000\" fill-rule=\"evenodd\" fill-opacity=\"1\" /><path clip-path=\"url(#clip920)\" d=\"M666.459 1451.02 L684.815 1451.02 L684.815 1454.96 L670.741 1454.96 L670.741 1463.43 Q671.76 1463.08 672.778 1462.92 Q673.797 1462.73 674.815 1462.73 Q680.602 1462.73 683.982 1465.9 Q687.362 1469.08 687.362 1474.49 Q687.362 1480.07 683.889 1483.17 Q680.417 1486.25 674.098 1486.25 Q671.922 1486.25 669.653 1485.88 Q667.408 1485.51 665.001 1484.77 L665.001 1480.07 Q667.084 1481.2 669.306 1481.76 Q671.528 1482.32 674.005 1482.32 Q678.01 1482.32 680.348 1480.21 Q682.686 1478.1 682.686 1474.49 Q682.686 1470.88 680.348 1468.77 Q678.01 1466.67 674.005 1466.67 Q672.13 1466.67 670.255 1467.08 Q668.403 1467.5 666.459 1468.38 L666.459 1451.02 Z\" fill=\"#000000\" fill-rule=\"evenodd\" fill-opacity=\"1\" /><path clip-path=\"url(#clip920)\" d=\"M981.711 1451.02 L1000.07 1451.02 L1000.07 1454.96 L985.993 1454.96 L985.993 1463.43 Q987.012 1463.08 988.03 1462.92 Q989.049 1462.73 990.067 1462.73 Q995.854 1462.73 999.234 1465.9 Q1002.61 1469.08 1002.61 1474.49 Q1002.61 1480.07 999.141 1483.17 Q995.669 1486.25 989.35 1486.25 Q987.174 1486.25 984.905 1485.88 Q982.66 1485.51 980.252 1484.77 L980.252 1480.07 Q982.336 1481.2 984.558 1481.76 Q986.78 1482.32 989.257 1482.32 Q993.262 1482.32 995.6 1480.21 Q997.938 1478.1 997.938 1474.49 Q997.938 1470.88 995.6 1468.77 Q993.262 1466.67 989.257 1466.67 Q987.382 1466.67 985.507 1467.08 Q983.655 1467.5 981.711 1468.38 L981.711 1451.02 Z\" fill=\"#000000\" fill-rule=\"evenodd\" fill-opacity=\"1\" /><path clip-path=\"url(#clip920)\" d=\"M1011.83 1479.7 L1016.71 1479.7 L1016.71 1485.58 L1011.83 1485.58 L1011.83 1479.7 Z\" fill=\"#000000\" fill-rule=\"evenodd\" fill-opacity=\"1\" /><path clip-path=\"url(#clip920)\" d=\"M1036.9 1454.1 Q1033.28 1454.1 1031.46 1457.66 Q1029.65 1461.2 1029.65 1468.33 Q1029.65 1475.44 1031.46 1479.01 Q1033.28 1482.55 1036.9 1482.55 Q1040.53 1482.55 1042.34 1479.01 Q1044.16 1475.44 1044.16 1468.33 Q1044.16 1461.2 1042.34 1457.66 Q1040.53 1454.1 1036.9 1454.1 M1036.9 1450.39 Q1042.71 1450.39 1045.76 1455 Q1048.84 1459.58 1048.84 1468.33 Q1048.84 1477.06 1045.76 1481.67 Q1042.71 1486.25 1036.9 1486.25 Q1031.09 1486.25 1028.01 1481.67 Q1024.95 1477.06 1024.95 1468.33 Q1024.95 1459.58 1028.01 1455 Q1031.09 1450.39 1036.9 1450.39 Z\" fill=\"#000000\" fill-rule=\"evenodd\" fill-opacity=\"1\" /><path clip-path=\"url(#clip920)\" d=\"M1341.94 1451.02 L1364.16 1451.02 L1364.16 1453.01 L1351.61 1485.58 L1346.73 1485.58 L1358.54 1454.96 L1341.94 1454.96 L1341.94 1451.02 Z\" fill=\"#000000\" fill-rule=\"evenodd\" fill-opacity=\"1\" /><path clip-path=\"url(#clip920)\" d=\"M1373.28 1479.7 L1378.17 1479.7 L1378.17 1485.58 L1373.28 1485.58 L1373.28 1479.7 Z\" fill=\"#000000\" fill-rule=\"evenodd\" fill-opacity=\"1\" /><path clip-path=\"url(#clip920)\" d=\"M1388.4 1451.02 L1406.75 1451.02 L1406.75 1454.96 L1392.68 1454.96 L1392.68 1463.43 Q1393.7 1463.08 1394.72 1462.92 Q1395.74 1462.73 1396.75 1462.73 Q1402.54 1462.73 1405.92 1465.9 Q1409.3 1469.08 1409.3 1474.49 Q1409.3 1480.07 1405.83 1483.17 Q1402.36 1486.25 1396.04 1486.25 Q1393.86 1486.25 1391.59 1485.88 Q1389.35 1485.51 1386.94 1484.77 L1386.94 1480.07 Q1389.02 1481.2 1391.24 1481.76 Q1393.47 1482.32 1395.94 1482.32 Q1399.95 1482.32 1402.29 1480.21 Q1404.62 1478.1 1404.62 1474.49 Q1404.62 1470.88 1402.29 1468.77 Q1399.95 1466.67 1395.94 1466.67 Q1394.07 1466.67 1392.19 1467.08 Q1390.34 1467.5 1388.4 1468.38 L1388.4 1451.02 Z\" fill=\"#000000\" fill-rule=\"evenodd\" fill-opacity=\"1\" /><path clip-path=\"url(#clip920)\" d=\"M1688.76 1481.64 L1696.4 1481.64 L1696.4 1455.28 L1688.09 1456.95 L1688.09 1452.69 L1696.36 1451.02 L1701.03 1451.02 L1701.03 1481.64 L1708.67 1481.64 L1708.67 1485.58 L1688.76 1485.58 L1688.76 1481.64 Z\" fill=\"#000000\" fill-rule=\"evenodd\" fill-opacity=\"1\" /><path clip-path=\"url(#clip920)\" d=\"M1728.12 1454.1 Q1724.51 1454.1 1722.68 1457.66 Q1720.87 1461.2 1720.87 1468.33 Q1720.87 1475.44 1722.68 1479.01 Q1724.51 1482.55 1728.12 1482.55 Q1731.75 1482.55 1733.56 1479.01 Q1735.38 1475.44 1735.38 1468.33 Q1735.38 1461.2 1733.56 1457.66 Q1731.75 1454.1 1728.12 1454.1 M1728.12 1450.39 Q1733.93 1450.39 1736.98 1455 Q1740.06 1459.58 1740.06 1468.33 Q1740.06 1477.06 1736.98 1481.67 Q1733.93 1486.25 1728.12 1486.25 Q1722.31 1486.25 1719.23 1481.67 Q1716.17 1477.06 1716.17 1468.33 Q1716.17 1459.58 1719.23 1455 Q1722.31 1450.39 1728.12 1450.39 Z\" fill=\"#000000\" fill-rule=\"evenodd\" fill-opacity=\"1\" /><path clip-path=\"url(#clip920)\" d=\"M1748.28 1479.7 L1753.16 1479.7 L1753.16 1485.58 L1748.28 1485.58 L1748.28 1479.7 Z\" fill=\"#000000\" fill-rule=\"evenodd\" fill-opacity=\"1\" /><path clip-path=\"url(#clip920)\" d=\"M1773.35 1454.1 Q1769.74 1454.1 1767.91 1457.66 Q1766.1 1461.2 1766.1 1468.33 Q1766.1 1475.44 1767.91 1479.01 Q1769.74 1482.55 1773.35 1482.55 Q1776.98 1482.55 1778.79 1479.01 Q1780.62 1475.44 1780.62 1468.33 Q1780.62 1461.2 1778.79 1457.66 Q1776.98 1454.1 1773.35 1454.1 M1773.35 1450.39 Q1779.16 1450.39 1782.21 1455 Q1785.29 1459.58 1785.29 1468.33 Q1785.29 1477.06 1782.21 1481.67 Q1779.16 1486.25 1773.35 1486.25 Q1767.54 1486.25 1764.46 1481.67 Q1761.4 1477.06 1761.4 1468.33 Q1761.4 1459.58 1764.46 1455 Q1767.54 1450.39 1773.35 1450.39 Z\" fill=\"#000000\" fill-rule=\"evenodd\" fill-opacity=\"1\" /><path clip-path=\"url(#clip920)\" d=\"M2050.34 1481.64 L2057.97 1481.64 L2057.97 1455.28 L2049.66 1456.95 L2049.66 1452.69 L2057.93 1451.02 L2062.6 1451.02 L2062.6 1481.64 L2070.24 1481.64 L2070.24 1485.58 L2050.34 1485.58 L2050.34 1481.64 Z\" fill=\"#000000\" fill-rule=\"evenodd\" fill-opacity=\"1\" /><path clip-path=\"url(#clip920)\" d=\"M2083.72 1481.64 L2100.03 1481.64 L2100.03 1485.58 L2078.09 1485.58 L2078.09 1481.64 Q2080.75 1478.89 2085.34 1474.26 Q2089.94 1469.61 2091.12 1468.27 Q2093.37 1465.74 2094.25 1464.01 Q2095.15 1462.25 2095.15 1460.56 Q2095.15 1457.8 2093.21 1456.07 Q2091.28 1454.33 2088.18 1454.33 Q2085.98 1454.33 2083.53 1455.09 Q2081.1 1455.86 2078.32 1457.41 L2078.32 1452.69 Q2081.15 1451.55 2083.6 1450.97 Q2086.05 1450.39 2088.09 1450.39 Q2093.46 1450.39 2096.65 1453.08 Q2099.85 1455.77 2099.85 1460.26 Q2099.85 1462.39 2099.04 1464.31 Q2098.25 1466.2 2096.15 1468.8 Q2095.57 1469.47 2092.47 1472.69 Q2089.36 1475.88 2083.72 1481.64 Z\" fill=\"#000000\" fill-rule=\"evenodd\" fill-opacity=\"1\" /><path clip-path=\"url(#clip920)\" d=\"M2109.85 1479.7 L2114.73 1479.7 L2114.73 1485.58 L2109.85 1485.58 L2109.85 1479.7 Z\" fill=\"#000000\" fill-rule=\"evenodd\" fill-opacity=\"1\" /><path clip-path=\"url(#clip920)\" d=\"M2124.96 1451.02 L2143.32 1451.02 L2143.32 1454.96 L2129.25 1454.96 L2129.25 1463.43 Q2130.27 1463.08 2131.28 1462.92 Q2132.3 1462.73 2133.32 1462.73 Q2139.11 1462.73 2142.49 1465.9 Q2145.87 1469.08 2145.87 1474.49 Q2145.87 1480.07 2142.4 1483.17 Q2138.92 1486.25 2132.6 1486.25 Q2130.43 1486.25 2128.16 1485.88 Q2125.91 1485.51 2123.51 1484.77 L2123.51 1480.07 Q2125.59 1481.2 2127.81 1481.76 Q2130.03 1482.32 2132.51 1482.32 Q2136.52 1482.32 2138.85 1480.21 Q2141.19 1478.1 2141.19 1474.49 Q2141.19 1470.88 2138.85 1468.77 Q2136.52 1466.67 2132.51 1466.67 Q2130.64 1466.67 2128.76 1467.08 Q2126.91 1467.5 2124.96 1468.38 L2124.96 1451.02 Z\" fill=\"#000000\" fill-rule=\"evenodd\" fill-opacity=\"1\" /><path clip-path=\"url(#clip920)\" d=\"M1180.03 1522.27 L1180.03 1532.4 L1192.09 1532.4 L1192.09 1536.95 L1180.03 1536.95 L1180.03 1556.3 Q1180.03 1560.66 1181.2 1561.9 Q1182.41 1563.14 1186.07 1563.14 L1192.09 1563.14 L1192.09 1568.04 L1186.07 1568.04 Q1179.29 1568.04 1176.72 1565.53 Q1174.14 1562.98 1174.14 1556.3 L1174.14 1536.95 L1169.84 1536.95 L1169.84 1532.4 L1174.14 1532.4 L1174.14 1522.27 L1180.03 1522.27 Z\" fill=\"#000000\" fill-rule=\"evenodd\" fill-opacity=\"1\" /><path clip-path=\"url(#clip920)\" d=\"M1199.79 1532.4 L1205.65 1532.4 L1205.65 1568.04 L1199.79 1568.04 L1199.79 1532.4 M1199.79 1518.52 L1205.65 1518.52 L1205.65 1525.93 L1199.79 1525.93 L1199.79 1518.52 Z\" fill=\"#000000\" fill-rule=\"evenodd\" fill-opacity=\"1\" /><path clip-path=\"url(#clip920)\" d=\"M1245.66 1539.24 Q1247.85 1535.29 1250.91 1533.41 Q1253.96 1531.54 1258.1 1531.54 Q1263.67 1531.54 1266.7 1535.45 Q1269.72 1539.33 1269.72 1546.53 L1269.72 1568.04 L1263.83 1568.04 L1263.83 1546.72 Q1263.83 1541.59 1262.02 1539.11 Q1260.2 1536.63 1256.48 1536.63 Q1251.93 1536.63 1249.29 1539.65 Q1246.64 1542.68 1246.64 1547.9 L1246.64 1568.04 L1240.76 1568.04 L1240.76 1546.72 Q1240.76 1541.56 1238.94 1539.11 Q1237.13 1536.63 1233.34 1536.63 Q1228.85 1536.63 1226.21 1539.68 Q1223.57 1542.71 1223.57 1547.9 L1223.57 1568.04 L1217.68 1568.04 L1217.68 1532.4 L1223.57 1532.4 L1223.57 1537.93 Q1225.57 1534.66 1228.37 1533.1 Q1231.18 1531.54 1235.03 1531.54 Q1238.91 1531.54 1241.62 1533.51 Q1244.35 1535.48 1245.66 1539.24 Z\" fill=\"#000000\" fill-rule=\"evenodd\" fill-opacity=\"1\" /><path clip-path=\"url(#clip920)\" d=\"M1311.89 1548.76 L1311.89 1551.62 L1284.97 1551.62 Q1285.35 1557.67 1288.59 1560.85 Q1291.87 1564 1297.7 1564 Q1301.07 1564 1304.22 1563.17 Q1307.4 1562.35 1310.52 1560.69 L1310.52 1566.23 Q1307.37 1567.57 1304.06 1568.27 Q1300.75 1568.97 1297.35 1568.97 Q1288.82 1568.97 1283.82 1564 Q1278.85 1559.04 1278.85 1550.57 Q1278.85 1541.82 1283.57 1536.69 Q1288.31 1531.54 1296.33 1531.54 Q1303.52 1531.54 1307.69 1536.18 Q1311.89 1540.8 1311.89 1548.76 M1306.04 1547.04 Q1305.97 1542.23 1303.33 1539.37 Q1300.72 1536.5 1296.39 1536.5 Q1291.49 1536.5 1288.53 1539.27 Q1285.6 1542.04 1285.16 1547.07 L1306.04 1547.04 Z\" fill=\"#000000\" fill-rule=\"evenodd\" fill-opacity=\"1\" /><path clip-path=\"url(#clip920)\" d=\"M1356.29 1518.58 Q1352.03 1525.9 1349.96 1533.06 Q1347.89 1540.23 1347.89 1547.58 Q1347.89 1554.93 1349.96 1562.16 Q1352.06 1569.35 1356.29 1576.64 L1351.2 1576.64 Q1346.43 1569.16 1344.04 1561.93 Q1341.68 1554.71 1341.68 1547.58 Q1341.68 1540.48 1344.04 1533.29 Q1346.39 1526.09 1351.2 1518.58 L1356.29 1518.58 Z\" fill=\"#000000\" fill-rule=\"evenodd\" fill-opacity=\"1\" /><path clip-path=\"url(#clip920)\" d=\"M1390.38 1533.45 L1390.38 1538.98 Q1387.9 1537.71 1385.23 1537.07 Q1382.55 1536.44 1379.69 1536.44 Q1375.33 1536.44 1373.13 1537.77 Q1370.97 1539.11 1370.97 1541.79 Q1370.97 1543.82 1372.53 1545 Q1374.09 1546.15 1378.8 1547.2 L1380.8 1547.64 Q1387.04 1548.98 1389.65 1551.43 Q1392.29 1553.85 1392.29 1558.21 Q1392.29 1563.17 1388.34 1566.07 Q1384.43 1568.97 1377.55 1568.97 Q1374.69 1568.97 1371.57 1568.39 Q1368.48 1567.85 1365.05 1566.74 L1365.05 1560.69 Q1368.29 1562.38 1371.44 1563.24 Q1374.59 1564.07 1377.68 1564.07 Q1381.82 1564.07 1384.05 1562.66 Q1386.28 1561.23 1386.28 1558.65 Q1386.28 1556.27 1384.65 1554.99 Q1383.06 1553.72 1377.62 1552.54 L1375.58 1552.07 Q1370.14 1550.92 1367.72 1548.56 Q1365.3 1546.18 1365.3 1542.04 Q1365.3 1537.01 1368.87 1534.27 Q1372.43 1531.54 1378.99 1531.54 Q1382.23 1531.54 1385.1 1532.01 Q1387.96 1532.49 1390.38 1533.45 Z\" fill=\"#000000\" fill-rule=\"evenodd\" fill-opacity=\"1\" /><path clip-path=\"url(#clip920)\" d=\"M1400.69 1518.58 L1405.79 1518.58 Q1410.56 1526.09 1412.92 1533.29 Q1415.3 1540.48 1415.3 1547.58 Q1415.3 1554.71 1412.92 1561.93 Q1410.56 1569.16 1405.79 1576.64 L1400.69 1576.64 Q1404.93 1569.35 1407 1562.16 Q1409.1 1554.93 1409.1 1547.58 Q1409.1 1540.23 1407 1533.06 Q1404.93 1525.9 1400.69 1518.58 Z\" fill=\"#000000\" fill-rule=\"evenodd\" fill-opacity=\"1\" /><polyline clip-path=\"url(#clip922)\" style=\"stroke:#000000; stroke-linecap:round; stroke-linejoin:round; stroke-width:2; stroke-opacity:0.1; fill:none\" points=\"232.389,1323.16 2352.76,1323.16 \"/>\n",
       "<polyline clip-path=\"url(#clip922)\" style=\"stroke:#000000; stroke-linecap:round; stroke-linejoin:round; stroke-width:2; stroke-opacity:0.1; fill:none\" points=\"232.389,1047.59 2352.76,1047.59 \"/>\n",
       "<polyline clip-path=\"url(#clip922)\" style=\"stroke:#000000; stroke-linecap:round; stroke-linejoin:round; stroke-width:2; stroke-opacity:0.1; fill:none\" points=\"232.389,772.024 2352.76,772.024 \"/>\n",
       "<polyline clip-path=\"url(#clip922)\" style=\"stroke:#000000; stroke-linecap:round; stroke-linejoin:round; stroke-width:2; stroke-opacity:0.1; fill:none\" points=\"232.389,496.456 2352.76,496.456 \"/>\n",
       "<polyline clip-path=\"url(#clip922)\" style=\"stroke:#000000; stroke-linecap:round; stroke-linejoin:round; stroke-width:2; stroke-opacity:0.1; fill:none\" points=\"232.389,220.888 2352.76,220.888 \"/>\n",
       "<polyline clip-path=\"url(#clip920)\" style=\"stroke:#000000; stroke-linecap:round; stroke-linejoin:round; stroke-width:4; stroke-opacity:1; fill:none\" points=\"232.389,1423.18 232.389,123.472 \"/>\n",
       "<polyline clip-path=\"url(#clip920)\" style=\"stroke:#000000; stroke-linecap:round; stroke-linejoin:round; stroke-width:4; stroke-opacity:1; fill:none\" points=\"232.389,1323.16 251.287,1323.16 \"/>\n",
       "<polyline clip-path=\"url(#clip920)\" style=\"stroke:#000000; stroke-linecap:round; stroke-linejoin:round; stroke-width:4; stroke-opacity:1; fill:none\" points=\"232.389,1047.59 251.287,1047.59 \"/>\n",
       "<polyline clip-path=\"url(#clip920)\" style=\"stroke:#000000; stroke-linecap:round; stroke-linejoin:round; stroke-width:4; stroke-opacity:1; fill:none\" points=\"232.389,772.024 251.287,772.024 \"/>\n",
       "<polyline clip-path=\"url(#clip920)\" style=\"stroke:#000000; stroke-linecap:round; stroke-linejoin:round; stroke-width:4; stroke-opacity:1; fill:none\" points=\"232.389,496.456 251.287,496.456 \"/>\n",
       "<polyline clip-path=\"url(#clip920)\" style=\"stroke:#000000; stroke-linecap:round; stroke-linejoin:round; stroke-width:4; stroke-opacity:1; fill:none\" points=\"232.389,220.888 251.287,220.888 \"/>\n",
       "<path clip-path=\"url(#clip920)\" d=\"M184.445 1308.96 Q180.834 1308.96 179.005 1312.52 Q177.2 1316.07 177.2 1323.2 Q177.2 1330.3 179.005 1333.87 Q180.834 1337.41 184.445 1337.41 Q188.079 1337.41 189.885 1333.87 Q191.713 1330.3 191.713 1323.2 Q191.713 1316.07 189.885 1312.52 Q188.079 1308.96 184.445 1308.96 M184.445 1305.26 Q190.255 1305.26 193.311 1309.86 Q196.389 1314.45 196.389 1323.2 Q196.389 1331.92 193.311 1336.53 Q190.255 1341.11 184.445 1341.11 Q178.635 1341.11 175.556 1336.53 Q172.501 1331.92 172.501 1323.2 Q172.501 1314.45 175.556 1309.86 Q178.635 1305.26 184.445 1305.26 Z\" fill=\"#000000\" fill-rule=\"evenodd\" fill-opacity=\"1\" /><path clip-path=\"url(#clip920)\" d=\"M149.306 1060.94 L165.626 1060.94 L165.626 1064.87 L143.681 1064.87 L143.681 1060.94 Q146.343 1058.18 150.927 1053.55 Q155.533 1048.9 156.714 1047.56 Q158.959 1045.03 159.839 1043.3 Q160.741 1041.54 160.741 1039.85 Q160.741 1037.1 158.797 1035.36 Q156.876 1033.62 153.774 1033.62 Q151.575 1033.62 149.121 1034.39 Q146.691 1035.15 143.913 1036.7 L143.913 1031.98 Q146.737 1030.85 149.191 1030.27 Q151.644 1029.69 153.681 1029.69 Q159.052 1029.69 162.246 1032.37 Q165.44 1035.06 165.44 1039.55 Q165.44 1041.68 164.63 1043.6 Q163.843 1045.5 161.737 1048.09 Q161.158 1048.76 158.056 1051.98 Q154.954 1055.17 149.306 1060.94 Z\" fill=\"#000000\" fill-rule=\"evenodd\" fill-opacity=\"1\" /><path clip-path=\"url(#clip920)\" d=\"M175.487 1030.31 L193.843 1030.31 L193.843 1034.25 L179.769 1034.25 L179.769 1042.72 Q180.788 1042.37 181.806 1042.21 Q182.825 1042.03 183.843 1042.03 Q189.63 1042.03 193.01 1045.2 Q196.389 1048.37 196.389 1053.78 Q196.389 1059.36 192.917 1062.47 Q189.445 1065.54 183.126 1065.54 Q180.95 1065.54 178.681 1065.17 Q176.436 1064.8 174.028 1064.06 L174.028 1059.36 Q176.112 1060.5 178.334 1061.05 Q180.556 1061.61 183.033 1061.61 Q187.038 1061.61 189.375 1059.5 Q191.713 1057.4 191.713 1053.78 Q191.713 1050.17 189.375 1048.07 Q187.038 1045.96 183.033 1045.96 Q181.158 1045.96 179.283 1046.38 Q177.431 1046.79 175.487 1047.67 L175.487 1030.31 Z\" fill=\"#000000\" fill-rule=\"evenodd\" fill-opacity=\"1\" /><path clip-path=\"url(#clip920)\" d=\"M144.329 754.744 L162.686 754.744 L162.686 758.68 L148.612 758.68 L148.612 767.152 Q149.63 766.805 150.649 766.643 Q151.667 766.457 152.686 766.457 Q158.473 766.457 161.852 769.629 Q165.232 772.8 165.232 778.217 Q165.232 783.795 161.76 786.897 Q158.288 789.976 151.968 789.976 Q149.792 789.976 147.524 789.605 Q145.279 789.235 142.871 788.494 L142.871 783.795 Q144.954 784.929 147.177 785.485 Q149.399 786.041 151.876 786.041 Q155.88 786.041 158.218 783.934 Q160.556 781.828 160.556 778.217 Q160.556 774.605 158.218 772.499 Q155.88 770.393 151.876 770.393 Q150.001 770.393 148.126 770.809 Q146.274 771.226 144.329 772.105 L144.329 754.744 Z\" fill=\"#000000\" fill-rule=\"evenodd\" fill-opacity=\"1\" /><path clip-path=\"url(#clip920)\" d=\"M184.445 757.823 Q180.834 757.823 179.005 761.388 Q177.2 764.93 177.2 772.059 Q177.2 779.166 179.005 782.73 Q180.834 786.272 184.445 786.272 Q188.079 786.272 189.885 782.73 Q191.713 779.166 191.713 772.059 Q191.713 764.93 189.885 761.388 Q188.079 757.823 184.445 757.823 M184.445 754.119 Q190.255 754.119 193.311 758.726 Q196.389 763.309 196.389 772.059 Q196.389 780.786 193.311 785.392 Q190.255 789.976 184.445 789.976 Q178.635 789.976 175.556 785.392 Q172.501 780.786 172.501 772.059 Q172.501 763.309 175.556 758.726 Q178.635 754.119 184.445 754.119 Z\" fill=\"#000000\" fill-rule=\"evenodd\" fill-opacity=\"1\" /><path clip-path=\"url(#clip920)\" d=\"M144.098 479.176 L166.32 479.176 L166.32 481.167 L153.774 513.736 L148.89 513.736 L160.695 483.111 L144.098 483.111 L144.098 479.176 Z\" fill=\"#000000\" fill-rule=\"evenodd\" fill-opacity=\"1\" /><path clip-path=\"url(#clip920)\" d=\"M175.487 479.176 L193.843 479.176 L193.843 483.111 L179.769 483.111 L179.769 491.584 Q180.788 491.236 181.806 491.074 Q182.825 490.889 183.843 490.889 Q189.63 490.889 193.01 494.06 Q196.389 497.232 196.389 502.648 Q196.389 508.227 192.917 511.329 Q189.445 514.408 183.126 514.408 Q180.95 514.408 178.681 514.037 Q176.436 513.667 174.028 512.926 L174.028 508.227 Q176.112 509.361 178.334 509.917 Q180.556 510.472 183.033 510.472 Q187.038 510.472 189.375 508.366 Q191.713 506.259 191.713 502.648 Q191.713 499.037 189.375 496.931 Q187.038 494.824 183.033 494.824 Q181.158 494.824 179.283 495.241 Q177.431 495.658 175.487 496.537 L175.487 479.176 Z\" fill=\"#000000\" fill-rule=\"evenodd\" fill-opacity=\"1\" /><path clip-path=\"url(#clip920)\" d=\"M114.931 234.233 L122.57 234.233 L122.57 207.867 L114.26 209.534 L114.26 205.275 L122.524 203.608 L127.2 203.608 L127.2 234.233 L134.839 234.233 L134.839 238.168 L114.931 238.168 L114.931 234.233 Z\" fill=\"#000000\" fill-rule=\"evenodd\" fill-opacity=\"1\" /><path clip-path=\"url(#clip920)\" d=\"M154.283 206.687 Q150.672 206.687 148.843 210.251 Q147.038 213.793 147.038 220.923 Q147.038 228.029 148.843 231.594 Q150.672 235.136 154.283 235.136 Q157.917 235.136 159.723 231.594 Q161.552 228.029 161.552 220.923 Q161.552 213.793 159.723 210.251 Q157.917 206.687 154.283 206.687 M154.283 202.983 Q160.093 202.983 163.149 207.589 Q166.227 212.173 166.227 220.923 Q166.227 229.65 163.149 234.256 Q160.093 238.839 154.283 238.839 Q148.473 238.839 145.394 234.256 Q142.339 229.65 142.339 220.923 Q142.339 212.173 145.394 207.589 Q148.473 202.983 154.283 202.983 Z\" fill=\"#000000\" fill-rule=\"evenodd\" fill-opacity=\"1\" /><path clip-path=\"url(#clip920)\" d=\"M184.445 206.687 Q180.834 206.687 179.005 210.251 Q177.2 213.793 177.2 220.923 Q177.2 228.029 179.005 231.594 Q180.834 235.136 184.445 235.136 Q188.079 235.136 189.885 231.594 Q191.713 228.029 191.713 220.923 Q191.713 213.793 189.885 210.251 Q188.079 206.687 184.445 206.687 M184.445 202.983 Q190.255 202.983 193.311 207.589 Q196.389 212.173 196.389 220.923 Q196.389 229.65 193.311 234.256 Q190.255 238.839 184.445 238.839 Q178.635 238.839 175.556 234.256 Q172.501 229.65 172.501 220.923 Q172.501 212.173 175.556 207.589 Q178.635 202.983 184.445 202.983 Z\" fill=\"#000000\" fill-rule=\"evenodd\" fill-opacity=\"1\" /><path clip-path=\"url(#clip920)\" d=\"M49.9359 788.254 L28.3562 788.254 L28.3562 782.397 L49.7131 782.397 Q54.7739 782.397 57.3202 780.424 Q59.8346 778.45 59.8346 774.504 Q59.8346 769.761 56.8109 767.024 Q53.7872 764.255 48.5673 764.255 L28.3562 764.255 L28.3562 758.398 L64.0042 758.398 L64.0042 764.255 L58.5296 764.255 Q61.7762 766.387 63.3676 769.22 Q64.9272 772.021 64.9272 775.745 Q64.9272 781.888 61.1078 785.071 Q57.2883 788.254 49.9359 788.254 M27.4968 773.517 L27.4968 773.517 Z\" fill=\"#000000\" fill-rule=\"evenodd\" fill-opacity=\"1\" /><path clip-path=\"url(#clip920)\" d=\"M1029.71 12.096 L1037.89 12.096 L1037.89 72.576 L1029.71 72.576 L1029.71 12.096 Z\" fill=\"#000000\" fill-rule=\"evenodd\" fill-opacity=\"1\" /><path clip-path=\"url(#clip920)\" d=\"M1091.57 45.1919 L1091.57 72.576 L1084.11 72.576 L1084.11 45.4349 Q1084.11 38.994 1081.6 35.7938 Q1079.09 32.5936 1074.07 32.5936 Q1068.03 32.5936 1064.55 36.4419 Q1061.06 40.2903 1061.06 46.9338 L1061.06 72.576 L1053.57 72.576 L1053.57 27.2059 L1061.06 27.2059 L1061.06 34.2544 Q1063.74 30.163 1067.34 28.1376 Q1070.99 26.1121 1075.73 26.1121 Q1083.55 26.1121 1087.56 30.9732 Q1091.57 35.7938 1091.57 45.1919 Z\" fill=\"#000000\" fill-rule=\"evenodd\" fill-opacity=\"1\" /><path clip-path=\"url(#clip920)\" d=\"M1113.64 65.7705 L1113.64 89.8329 L1106.15 89.8329 L1106.15 27.2059 L1113.64 27.2059 L1113.64 34.0924 Q1115.99 30.0415 1119.56 28.0971 Q1123.16 26.1121 1128.15 26.1121 Q1136.41 26.1121 1141.55 32.6746 Q1146.74 39.2371 1146.74 49.9314 Q1146.74 60.6258 1141.55 67.1883 Q1136.41 73.7508 1128.15 73.7508 Q1123.16 73.7508 1119.56 71.8063 Q1115.99 69.8214 1113.64 65.7705 M1139 49.9314 Q1139 41.7081 1135.6 37.0496 Q1132.24 32.3505 1126.32 32.3505 Q1120.41 32.3505 1117.01 37.0496 Q1113.64 41.7081 1113.64 49.9314 Q1113.64 58.1548 1117.01 62.8538 Q1120.41 67.5124 1126.32 67.5124 Q1132.24 67.5124 1135.6 62.8538 Q1139 58.1548 1139 49.9314 Z\" fill=\"#000000\" fill-rule=\"evenodd\" fill-opacity=\"1\" /><path clip-path=\"url(#clip920)\" d=\"M1158.33 54.671 L1158.33 27.2059 L1165.78 27.2059 L1165.78 54.3874 Q1165.78 60.8284 1168.29 64.0691 Q1170.8 67.2693 1175.83 67.2693 Q1181.86 67.2693 1185.35 63.421 Q1188.87 59.5726 1188.87 52.9291 L1188.87 27.2059 L1196.32 27.2059 L1196.32 72.576 L1188.87 72.576 L1188.87 65.6084 Q1186.16 69.7404 1182.55 71.7658 Q1178.99 73.7508 1174.25 73.7508 Q1166.43 73.7508 1162.38 68.8897 Q1158.33 64.0286 1158.33 54.671 M1177.08 26.1121 L1177.08 26.1121 Z\" fill=\"#000000\" fill-rule=\"evenodd\" fill-opacity=\"1\" /><path clip-path=\"url(#clip920)\" d=\"M1219.05 14.324 L1219.05 27.2059 L1234.4 27.2059 L1234.4 32.9987 L1219.05 32.9987 L1219.05 57.6282 Q1219.05 63.1779 1220.55 64.7578 Q1222.09 66.3376 1226.75 66.3376 L1234.4 66.3376 L1234.4 72.576 L1226.75 72.576 Q1218.12 72.576 1214.84 69.3758 Q1211.55 66.1351 1211.55 57.6282 L1211.55 32.9987 L1206.09 32.9987 L1206.09 27.2059 L1211.55 27.2059 L1211.55 14.324 L1219.05 14.324 Z\" fill=\"#000000\" fill-rule=\"evenodd\" fill-opacity=\"1\" /><path clip-path=\"url(#clip920)\" d=\"M1270.9 12.096 L1279.08 12.096 L1279.08 36.8875 L1308.82 36.8875 L1308.82 12.096 L1317 12.096 L1317 72.576 L1308.82 72.576 L1308.82 43.7741 L1279.08 43.7741 L1279.08 72.576 L1270.9 72.576 L1270.9 12.096 Z\" fill=\"#000000\" fill-rule=\"evenodd\" fill-opacity=\"1\" /><path clip-path=\"url(#clip920)\" d=\"M1332.96 27.2059 L1340.41 27.2059 L1340.41 72.576 L1332.96 72.576 L1332.96 27.2059 M1332.96 9.54393 L1340.41 9.54393 L1340.41 18.9825 L1332.96 18.9825 L1332.96 9.54393 Z\" fill=\"#000000\" fill-rule=\"evenodd\" fill-opacity=\"1\" /><path clip-path=\"url(#clip920)\" d=\"M1384.93 28.5427 L1384.93 35.5912 Q1381.77 33.9709 1378.37 33.1607 Q1374.97 32.3505 1371.32 32.3505 Q1365.77 32.3505 1362.98 34.0519 Q1360.22 35.7533 1360.22 39.156 Q1360.22 41.7486 1362.21 43.2475 Q1364.19 44.7058 1370.19 46.0426 L1372.74 46.6097 Q1380.68 48.3111 1384 51.4303 Q1387.36 54.509 1387.36 60.0587 Q1387.36 66.3781 1382.34 70.0644 Q1377.36 73.7508 1368.61 73.7508 Q1364.96 73.7508 1360.99 73.0216 Q1357.06 72.3329 1352.69 70.9151 L1352.69 63.2184 Q1356.82 65.3654 1360.83 66.4591 Q1364.84 67.5124 1368.77 67.5124 Q1374.04 67.5124 1376.87 65.73 Q1379.71 63.9071 1379.71 60.6258 Q1379.71 57.5877 1377.64 55.9673 Q1375.62 54.3469 1368.69 52.8481 L1366.1 52.2405 Q1359.17 50.7821 1356.09 47.7845 Q1353.01 44.7463 1353.01 39.4801 Q1353.01 33.0797 1357.55 29.5959 Q1362.09 26.1121 1370.43 26.1121 Q1374.56 26.1121 1378.21 26.7198 Q1381.85 27.3274 1384.93 28.5427 Z\" fill=\"#000000\" fill-rule=\"evenodd\" fill-opacity=\"1\" /><path clip-path=\"url(#clip920)\" d=\"M1406.61 14.324 L1406.61 27.2059 L1421.96 27.2059 L1421.96 32.9987 L1406.61 32.9987 L1406.61 57.6282 Q1406.61 63.1779 1408.1 64.7578 Q1409.64 66.3376 1414.3 66.3376 L1421.96 66.3376 L1421.96 72.576 L1414.3 72.576 Q1405.67 72.576 1402.39 69.3758 Q1399.11 66.1351 1399.11 57.6282 L1399.11 32.9987 L1393.64 32.9987 L1393.64 27.2059 L1399.11 27.2059 L1399.11 14.324 L1406.61 14.324 Z\" fill=\"#000000\" fill-rule=\"evenodd\" fill-opacity=\"1\" /><path clip-path=\"url(#clip920)\" d=\"M1449.34 32.4315 Q1443.35 32.4315 1439.86 37.1306 Q1436.38 41.7891 1436.38 49.9314 Q1436.38 58.0738 1439.82 62.7728 Q1443.31 67.4314 1449.34 67.4314 Q1455.3 67.4314 1458.78 62.7323 Q1462.27 58.0333 1462.27 49.9314 Q1462.27 41.8701 1458.78 37.1711 Q1455.3 32.4315 1449.34 32.4315 M1449.34 26.1121 Q1459.06 26.1121 1464.61 32.4315 Q1470.16 38.7509 1470.16 49.9314 Q1470.16 61.0714 1464.61 67.4314 Q1459.06 73.7508 1449.34 73.7508 Q1439.58 73.7508 1434.03 67.4314 Q1428.52 61.0714 1428.52 49.9314 Q1428.52 38.7509 1434.03 32.4315 Q1439.58 26.1121 1449.34 26.1121 Z\" fill=\"#000000\" fill-rule=\"evenodd\" fill-opacity=\"1\" /><path clip-path=\"url(#clip920)\" d=\"M1508.81 34.1734 Q1507.55 33.4443 1506.06 33.1202 Q1504.6 32.7556 1502.81 32.7556 Q1496.5 32.7556 1493.09 36.8875 Q1489.73 40.9789 1489.73 48.6757 L1489.73 72.576 L1482.24 72.576 L1482.24 27.2059 L1489.73 27.2059 L1489.73 34.2544 Q1492.08 30.1225 1495.85 28.1376 Q1499.61 26.1121 1505 26.1121 Q1505.77 26.1121 1506.7 26.2337 Q1507.64 26.3147 1508.77 26.5172 L1508.81 34.1734 Z\" fill=\"#000000\" fill-rule=\"evenodd\" fill-opacity=\"1\" /><path clip-path=\"url(#clip920)\" d=\"M1535.51 76.7889 Q1532.35 84.8907 1529.35 87.3618 Q1526.35 89.8329 1521.33 89.8329 L1515.37 89.8329 L1515.37 83.5945 L1519.75 83.5945 Q1522.83 83.5945 1524.53 82.1361 Q1526.23 80.6778 1528.29 75.2496 L1529.63 71.8468 L1511.28 27.2059 L1519.18 27.2059 L1533.36 62.6918 L1547.54 27.2059 L1555.44 27.2059 L1535.51 76.7889 Z\" fill=\"#000000\" fill-rule=\"evenodd\" fill-opacity=\"1\" /><polyline clip-path=\"url(#clip922)\" style=\"stroke:#009af9; stroke-linecap:round; stroke-linejoin:round; stroke-width:4; stroke-opacity:1; fill:none\" points=\"292.4,1248.34 299.621,1248.68 306.843,1249.03 314.064,1249.37 321.286,1249.71 328.507,1250.06 335.729,1250.4 342.95,1250.74 350.171,1251.09 357.393,1251.43 364.614,1251.78 371.836,1252.12 379.057,1252.46 386.279,1252.81 393.5,1253.15 400.722,1253.49 407.943,1253.84 415.165,1254.18 422.386,1254.52 429.608,1254.87 436.829,1255.21 444.05,1255.55 451.272,1255.9 458.493,1256.24 465.715,1256.58 472.936,1256.93 480.158,1257.27 487.379,1257.61 494.601,1257.95 501.822,1258.3 509.044,1258.64 516.265,1258.98 523.487,1259.33 530.708,1259.67 537.93,1260.01 545.151,1260.36 552.372,1260.7 559.594,1261.04 566.815,1261.39 574.037,1261.73 581.258,1262.07 588.48,1262.42 595.701,1262.76 602.923,1263.1 610.144,1263.45 617.366,1263.79 624.587,1264.13 631.809,1264.48 639.03,1264.82 646.252,1265.16 653.473,1265.51 660.694,1265.85 667.916,1266.2 675.137,1266.54 682.359,1266.88 689.58,1267.23 696.802,1267.57 704.023,1267.91 711.245,1268.26 718.466,1268.6 725.688,1268.94 732.909,1269.29 740.131,1269.63 747.352,1269.98 754.573,1270.32 761.795,1270.66 769.016,1271.01 776.238,1271.35 783.459,1271.7 790.681,1272.04 797.902,1272.38 805.124,1272.73 812.345,1273.07 819.567,1273.42 826.788,1273.76 834.01,1274.11 841.231,1274.45 848.453,1274.8 855.674,1275.14 862.895,1275.49 870.117,1275.83 877.338,1276.17 884.56,1276.52 891.781,1276.86 899.003,1277.21 906.224,1277.56 913.446,1277.9 920.667,1278.25 927.889,1278.59 935.11,1278.94 942.332,1279.28 949.553,1279.63 956.775,1279.97 963.996,1280.32 971.217,1280.67 978.439,1281.01 985.66,1281.36 992.882,1281.71 1000.1,1282.05 1007.32,1282.4 1014.55,1282.74 1021.77,1283.09 1028.99,1283.44 1036.21,1283.79 1043.43,1284.13 1050.65,1284.48 1057.88,1284.83 1065.1,1285.18 1072.32,1285.52 1079.54,1285.87 1086.76,1286.22 1093.98,1286.57 1101.2,1286.92 1108.43,1287.26 1115.65,1287.61 1122.87,1287.96 1130.09,1288.31 1137.31,1288.66 1144.53,1289.01 1151.75,1289.36 1158.98,1289.71 1166.2,1290.06 1173.42,1290.41 1180.64,1290.76 1187.86,1291.11 1195.08,1291.46 1202.3,1291.81 1209.53,1292.16 1216.75,1292.51 1223.97,1292.86 1231.19,1293.21 1238.41,1293.57 1245.63,1293.92 1252.85,1294.27 1260.08,1294.62 1267.3,1294.97 1274.52,1295.33 1281.74,1295.68 1288.96,1296.03 1296.18,1296.39 1303.4,1296.74 1310.63,1297.1 1317.85,1297.45 1325.07,1297.8 1332.29,1298.16 1339.51,1298.51 1346.73,1298.87 1353.96,1299.22 1361.18,1299.58 1368.4,1299.94 1375.62,1300.29 1382.84,1300.65 1390.06,1301.01 1397.28,1301.36 1404.51,1301.72 1411.73,1302.08 1418.95,1302.44 1426.17,1302.79 1433.39,1303.15 1440.61,1303.51 1447.83,1303.87 1455.06,1304.23 1462.28,1304.59 1469.5,1304.95 1476.72,1305.31 1483.94,1305.67 1491.16,1306.03 1498.38,1306.39 1505.61,1306.75 1512.83,1307.12 1520.05,1307.48 1527.27,1307.84 1534.49,1308.2 1541.71,1308.57 1548.93,1308.93 1556.16,1309.3 1563.38,1309.66 1570.6,1310.02 1577.82,1310.39 1585.04,1310.76 1592.26,1311.12 1599.48,1311.49 1606.71,1311.85 1613.93,1312.22 1621.15,1312.59 1628.37,1312.96 1635.59,1313.32 1642.81,1313.69 1650.04,1314.06 1657.26,1314.43 1664.48,1314.8 1671.7,1315.17 1678.92,1315.54 1686.14,1315.91 1693.36,1316.28 1700.59,1316.65 1707.81,1317.03 1715.03,1317.4 1722.25,1317.77 1729.47,1318.15 1736.69,1318.52 1743.91,1318.89 1751.14,1319.27 1758.36,1319.64 1765.58,1320.02 1772.8,1320.39 1780.02,1320.77 1787.24,1321.15 1794.46,1321.53 1801.69,1321.9 1808.91,1322.28 1816.13,1322.66 1823.35,1323.04 1830.57,1323.42 1837.79,1323.8 1845.01,1324.18 1852.24,1324.56 1859.46,1324.94 1866.68,1325.32 1873.9,1325.7 1881.12,1326.09 1888.34,1326.47 1895.56,1326.85 1902.79,1327.24 1910.01,1327.62 1917.23,1328.01 1924.45,1328.39 1931.67,1328.78 1938.89,1329.16 1946.12,1329.55 1953.34,1329.94 1960.56,1330.33 1967.78,1330.71 1975,1331.1 1982.22,1331.49 1989.44,1331.88 1996.67,1332.27 2003.89,1332.66 2011.11,1333.05 2018.33,1333.45 2025.55,1333.84 2032.77,1334.23 2039.99,1334.62 2047.22,1335.02 2054.44,1335.41 2061.66,1335.8 2068.88,1336.2 2076.1,1336.59 2083.32,1336.99 2090.54,1337.39 2097.77,1337.78 2104.99,1338.18 2112.21,1338.58 2119.43,1338.98 2126.65,1339.37 2133.87,1339.77 2141.09,1340.17 2148.32,1340.57 2155.54,1340.97 2162.76,1341.37 2169.98,1341.78 2177.2,1342.18 2184.42,1342.58 2191.65,1342.98 2198.87,1343.38 2206.09,1343.79 2213.31,1344.19 2220.53,1344.6 2227.75,1345 2234.97,1345.41 2242.2,1345.81 2249.42,1346.22 2256.64,1346.62 2263.86,1347.03 2271.08,1347.44 2278.3,1347.85 2285.52,1348.25 2292.75,1348.66 \"/>\n",
       "<polyline clip-path=\"url(#clip922)\" style=\"stroke:#e26f46; stroke-linecap:round; stroke-linejoin:round; stroke-width:4; stroke-opacity:1; fill:none\" points=\"292.4,1386.4 299.621,1386.08 306.843,1385.76 314.064,1385.45 321.286,1385.13 328.507,1384.82 335.729,1384.5 342.95,1384.18 350.171,1383.87 357.393,1383.55 364.614,1383.23 371.836,1382.92 379.057,1382.6 386.279,1382.29 393.5,1381.97 400.722,1381.65 407.943,1381.34 415.165,1381.02 422.386,1380.7 429.608,1380.39 436.829,1380.07 444.05,1379.76 451.272,1379.44 458.493,1379.12 465.715,1378.81 472.936,1378.49 480.158,1378.18 487.379,1377.86 494.601,1377.54 501.822,1377.23 509.044,1376.91 516.265,1376.59 523.487,1376.28 530.708,1375.96 537.93,1375.64 545.151,1375.33 552.372,1375.01 559.594,1374.7 566.815,1374.38 574.037,1374.06 581.258,1373.75 588.48,1373.43 595.701,1373.11 602.923,1372.8 610.144,1372.48 617.366,1372.16 624.587,1371.85 631.809,1371.53 639.03,1371.22 646.252,1370.9 653.473,1370.58 660.694,1370.27 667.916,1369.95 675.137,1369.63 682.359,1369.32 689.58,1369 696.802,1368.68 704.023,1368.37 711.245,1368.05 718.466,1367.73 725.688,1367.42 732.909,1367.1 740.131,1366.78 747.352,1366.47 754.573,1366.15 761.795,1365.83 769.016,1365.52 776.238,1365.2 783.459,1364.88 790.681,1364.56 797.902,1364.25 805.124,1363.93 812.345,1363.61 819.567,1363.3 826.788,1362.98 834.01,1362.66 841.231,1362.34 848.453,1362.03 855.674,1361.71 862.895,1361.39 870.117,1361.08 877.338,1360.76 884.56,1360.44 891.781,1360.12 899.003,1359.81 906.224,1359.49 913.446,1359.17 920.667,1358.85 927.889,1358.53 935.11,1358.22 942.332,1357.9 949.553,1357.58 956.775,1357.26 963.996,1356.94 971.217,1356.62 978.439,1356.31 985.66,1355.99 992.882,1355.67 1000.1,1355.35 1007.32,1355.03 1014.55,1354.71 1021.77,1354.39 1028.99,1354.07 1036.21,1353.76 1043.43,1353.44 1050.65,1353.12 1057.88,1352.8 1065.1,1352.48 1072.32,1352.16 1079.54,1351.84 1086.76,1351.52 1093.98,1351.2 1101.2,1350.88 1108.43,1350.56 1115.65,1350.24 1122.87,1349.92 1130.09,1349.6 1137.31,1349.28 1144.53,1348.95 1151.75,1348.63 1158.98,1348.31 1166.2,1347.99 1173.42,1347.67 1180.64,1347.35 1187.86,1347.03 1195.08,1346.7 1202.3,1346.38 1209.53,1346.06 1216.75,1345.74 1223.97,1345.41 1231.19,1345.09 1238.41,1344.77 1245.63,1344.45 1252.85,1344.12 1260.08,1343.8 1267.3,1343.47 1274.52,1343.15 1281.74,1342.83 1288.96,1342.5 1296.18,1342.18 1303.4,1341.85 1310.63,1341.53 1317.85,1341.2 1325.07,1340.88 1332.29,1340.55 1339.51,1340.23 1346.73,1339.9 1353.96,1339.57 1361.18,1339.25 1368.4,1338.92 1375.62,1338.59 1382.84,1338.27 1390.06,1337.94 1397.28,1337.61 1404.51,1337.28 1411.73,1336.96 1418.95,1336.63 1426.17,1336.3 1433.39,1335.97 1440.61,1335.64 1447.83,1335.31 1455.06,1334.98 1462.28,1334.65 1469.5,1334.32 1476.72,1333.99 1483.94,1333.66 1491.16,1333.33 1498.38,1333 1505.61,1332.67 1512.83,1332.33 1520.05,1332 1527.27,1331.67 1534.49,1331.33 1541.71,1331 1548.93,1330.67 1556.16,1330.33 1563.38,1330 1570.6,1329.67 1577.82,1329.33 1585.04,1328.99 1592.26,1328.66 1599.48,1328.32 1606.71,1327.99 1613.93,1327.65 1621.15,1327.31 1628.37,1326.98 1635.59,1326.64 1642.81,1326.3 1650.04,1325.96 1657.26,1325.62 1664.48,1325.28 1671.7,1324.94 1678.92,1324.6 1686.14,1324.26 1693.36,1323.92 1700.59,1323.58 1707.81,1323.24 1715.03,1322.9 1722.25,1322.56 1729.47,1322.21 1736.69,1321.87 1743.91,1321.53 1751.14,1321.18 1758.36,1320.84 1765.58,1320.5 1772.8,1320.15 1780.02,1319.8 1787.24,1319.46 1794.46,1319.11 1801.69,1318.77 1808.91,1318.42 1816.13,1318.07 1823.35,1317.72 1830.57,1317.38 1837.79,1317.03 1845.01,1316.68 1852.24,1316.33 1859.46,1315.98 1866.68,1315.63 1873.9,1315.28 1881.12,1314.92 1888.34,1314.57 1895.56,1314.22 1902.79,1313.87 1910.01,1313.51 1917.23,1313.16 1924.45,1312.81 1931.67,1312.45 1938.89,1312.1 1946.12,1311.74 1953.34,1311.39 1960.56,1311.03 1967.78,1310.67 1975,1310.32 1982.22,1309.96 1989.44,1309.6 1996.67,1309.24 2003.89,1308.88 2011.11,1308.52 2018.33,1308.16 2025.55,1307.8 2032.77,1307.44 2039.99,1307.08 2047.22,1306.72 2054.44,1306.36 2061.66,1306 2068.88,1305.63 2076.1,1305.27 2083.32,1304.91 2090.54,1304.54 2097.77,1304.18 2104.99,1303.81 2112.21,1303.45 2119.43,1303.08 2126.65,1302.71 2133.87,1302.35 2141.09,1301.98 2148.32,1301.61 2155.54,1301.24 2162.76,1300.88 2169.98,1300.51 2177.2,1300.14 2184.42,1299.77 2191.65,1299.4 2198.87,1299.03 2206.09,1298.66 2213.31,1298.28 2220.53,1297.91 2227.75,1297.54 2234.97,1297.17 2242.2,1296.79 2249.42,1296.42 2256.64,1296.05 2263.86,1295.67 2271.08,1295.3 2278.3,1294.92 2285.52,1294.55 2292.75,1294.17 \"/>\n",
       "<polyline clip-path=\"url(#clip922)\" style=\"stroke:#3da44d; stroke-linecap:round; stroke-linejoin:round; stroke-width:4; stroke-opacity:1; fill:none\" points=\"292.4,160.256 299.621,160.35 306.843,160.449 314.064,160.553 321.286,160.662 328.507,160.776 335.729,160.895 342.95,161.019 350.171,161.148 357.393,161.281 364.614,161.419 371.836,161.561 379.057,161.708 386.279,161.86 393.5,162.016 400.722,162.176 407.943,162.34 415.165,162.509 422.386,162.682 429.608,162.859 436.829,163.04 444.05,163.225 451.272,163.414 458.493,163.606 465.715,163.803 472.936,164.003 480.158,164.207 487.379,164.415 494.601,164.626 501.822,164.841 509.044,165.059 516.265,165.281 523.487,165.506 530.708,165.734 537.93,165.965 545.151,166.2 552.372,166.438 559.594,166.679 566.815,166.923 574.037,167.17 581.258,167.42 588.48,167.673 595.701,167.929 602.923,168.188 610.144,168.449 617.366,168.713 624.587,168.98 631.809,169.25 639.03,169.522 646.252,169.796 653.473,170.073 660.694,170.353 667.916,170.635 675.137,170.919 682.359,171.206 689.58,171.495 696.802,171.786 704.023,172.079 711.245,172.374 718.466,172.672 725.688,172.971 732.909,173.273 740.131,173.577 747.352,173.882 754.573,174.19 761.795,174.499 769.016,174.81 776.238,175.123 783.459,175.438 790.681,175.755 797.902,176.073 805.124,176.393 812.345,176.714 819.567,177.037 826.788,177.362 834.01,177.688 841.231,178.015 848.453,178.344 855.674,178.675 862.895,179.007 870.117,179.34 877.338,179.674 884.56,180.01 891.781,180.347 899.003,180.685 906.224,181.025 913.446,181.365 920.667,181.707 927.889,182.05 935.11,182.394 942.332,182.739 949.553,183.085 956.775,183.432 963.996,183.78 971.217,184.128 978.439,184.478 985.66,184.829 992.882,185.18 1000.1,185.533 1007.32,185.886 1014.55,186.24 1021.77,186.595 1028.99,186.95 1036.21,187.306 1043.43,187.663 1050.65,188.021 1057.88,188.379 1065.1,188.737 1072.32,189.097 1079.54,189.457 1086.76,189.817 1093.98,190.178 1101.2,190.54 1108.43,190.902 1115.65,191.264 1122.87,191.627 1130.09,191.991 1137.31,192.354 1144.53,192.719 1151.75,193.083 1158.98,193.448 1166.2,193.813 1173.42,194.179 1180.64,194.545 1187.86,194.911 1195.08,195.277 1202.3,195.644 1209.53,196.011 1216.75,196.378 1223.97,196.746 1231.19,197.113 1238.41,197.481 1245.63,197.849 1252.85,198.217 1260.08,198.585 1267.3,198.953 1274.52,199.322 1281.74,199.69 1288.96,200.059 1296.18,200.427 1303.4,200.796 1310.63,201.165 1317.85,201.534 1325.07,201.902 1332.29,202.271 1339.51,202.64 1346.73,203.009 1353.96,203.378 1361.18,203.746 1368.4,204.115 1375.62,204.484 1382.84,204.852 1390.06,205.221 1397.28,205.589 1404.51,205.957 1411.73,206.325 1418.95,206.693 1426.17,207.061 1433.39,207.429 1440.61,207.797 1447.83,208.164 1455.06,208.532 1462.28,208.899 1469.5,209.266 1476.72,209.633 1483.94,210 1491.16,210.366 1498.38,210.733 1505.61,211.099 1512.83,211.465 1520.05,211.831 1527.27,212.196 1534.49,212.561 1541.71,212.926 1548.93,213.291 1556.16,213.656 1563.38,214.02 1570.6,214.384 1577.82,214.748 1585.04,215.112 1592.26,215.475 1599.48,215.839 1606.71,216.201 1613.93,216.564 1621.15,216.926 1628.37,217.288 1635.59,217.65 1642.81,218.012 1650.04,218.373 1657.26,218.734 1664.48,219.095 1671.7,219.455 1678.92,219.815 1686.14,220.175 1693.36,220.535 1700.59,220.894 1707.81,221.253 1715.03,221.612 1722.25,221.97 1729.47,222.328 1736.69,222.686 1743.91,223.044 1751.14,223.401 1758.36,223.758 1765.58,224.115 1772.8,224.471 1780.02,224.827 1787.24,225.183 1794.46,225.539 1801.69,225.894 1808.91,226.249 1816.13,226.604 1823.35,226.958 1830.57,227.312 1837.79,227.666 1845.01,228.02 1852.24,228.373 1859.46,228.726 1866.68,229.079 1873.9,229.431 1881.12,229.783 1888.34,230.135 1895.56,230.487 1902.79,230.838 1910.01,231.19 1917.23,231.54 1924.45,231.891 1931.67,232.241 1938.89,232.592 1946.12,232.941 1953.34,233.291 1960.56,233.64 1967.78,233.99 1975,234.339 1982.22,234.687 1989.44,235.036 1996.67,235.384 2003.89,235.732 2011.11,236.08 2018.33,236.427 2025.55,236.775 2032.77,237.122 2039.99,237.469 2047.22,237.816 2054.44,238.162 2061.66,238.509 2068.88,238.855 2076.1,239.201 2083.32,239.547 2090.54,239.892 2097.77,240.238 2104.99,240.583 2112.21,240.928 2119.43,241.273 2126.65,241.618 2133.87,241.963 2141.09,242.308 2148.32,242.652 2155.54,242.996 2162.76,243.34 2169.98,243.684 2177.2,244.028 2184.42,244.372 2191.65,244.716 2198.87,245.06 2206.09,245.403 2213.31,245.746 2220.53,246.09 2227.75,246.433 2234.97,246.776 2242.2,247.119 2249.42,247.462 2256.64,247.805 2263.86,248.148 2271.08,248.491 2278.3,248.834 2285.52,249.176 2292.75,249.519 \"/>\n",
       "<path clip-path=\"url(#clip920)\" d=\"M2027.42 374.156 L2282.08 374.156 L2282.08 166.796 L2027.42 166.796  Z\" fill=\"#ffffff\" fill-rule=\"evenodd\" fill-opacity=\"1\"/>\n",
       "<polyline clip-path=\"url(#clip920)\" style=\"stroke:#000000; stroke-linecap:round; stroke-linejoin:round; stroke-width:4; stroke-opacity:1; fill:none\" points=\"2027.42,374.156 2282.08,374.156 2282.08,166.796 2027.42,166.796 2027.42,374.156 \"/>\n",
       "<polyline clip-path=\"url(#clip920)\" style=\"stroke:#009af9; stroke-linecap:round; stroke-linejoin:round; stroke-width:4; stroke-opacity:1; fill:none\" points=\"2050.98,218.636 2192.34,218.636 \"/>\n",
       "<path clip-path=\"url(#clip920)\" d=\"M2215.9 225.684 L2215.9 209.99 L2220.16 209.99 L2220.16 225.522 Q2220.16 229.203 2221.6 231.055 Q2223.03 232.883 2225.9 232.883 Q2229.35 232.883 2231.34 230.684 Q2233.36 228.485 2233.36 224.689 L2233.36 209.99 L2237.61 209.99 L2237.61 235.916 L2233.36 235.916 L2233.36 231.934 Q2231.8 234.295 2229.74 235.453 Q2227.71 236.587 2225 236.587 Q2220.53 236.587 2218.22 233.809 Q2215.9 231.031 2215.9 225.684 M2226.62 209.365 L2226.62 209.365 Z\" fill=\"#000000\" fill-rule=\"evenodd\" fill-opacity=\"1\" /><path clip-path=\"url(#clip920)\" d=\"M2245.53 233.369 L2250.25 233.369 L2250.25 219.226 L2245.09 220.175 L2245.09 217.49 L2250.42 216.587 L2253.59 216.587 L2253.59 233.369 L2258.33 233.369 L2258.33 235.916 L2245.53 235.916 L2245.53 233.369 Z\" fill=\"#000000\" fill-rule=\"evenodd\" fill-opacity=\"1\" /><polyline clip-path=\"url(#clip920)\" style=\"stroke:#e26f46; stroke-linecap:round; stroke-linejoin:round; stroke-width:4; stroke-opacity:1; fill:none\" points=\"2050.98,270.476 2192.34,270.476 \"/>\n",
       "<path clip-path=\"url(#clip920)\" d=\"M2215.9 277.524 L2215.9 261.83 L2220.16 261.83 L2220.16 277.362 Q2220.16 281.043 2221.6 282.895 Q2223.03 284.723 2225.9 284.723 Q2229.35 284.723 2231.34 282.524 Q2233.36 280.325 2233.36 276.529 L2233.36 261.83 L2237.61 261.83 L2237.61 287.756 L2233.36 287.756 L2233.36 283.774 Q2231.8 286.135 2229.74 287.293 Q2227.71 288.427 2225 288.427 Q2220.53 288.427 2218.22 285.649 Q2215.9 282.871 2215.9 277.524 M2226.62 261.205 L2226.62 261.205 Z\" fill=\"#000000\" fill-rule=\"evenodd\" fill-opacity=\"1\" /><path clip-path=\"url(#clip920)\" d=\"M2248.12 285.117 L2257.94 285.117 L2257.94 287.756 L2244.1 287.756 L2244.1 285.209 Q2244.88 284.492 2246.34 283.196 Q2254.3 276.135 2254.3 273.959 Q2254.3 272.432 2253.1 271.506 Q2251.9 270.557 2249.93 270.557 Q2248.73 270.557 2247.31 270.973 Q2245.9 271.367 2244.24 272.177 L2244.24 269.33 Q2246.02 268.682 2247.55 268.358 Q2249.1 268.034 2250.42 268.034 Q2253.77 268.034 2255.79 269.561 Q2257.8 271.089 2257.8 273.589 Q2257.8 276.807 2250.14 283.381 Q2248.84 284.492 2248.12 285.117 Z\" fill=\"#000000\" fill-rule=\"evenodd\" fill-opacity=\"1\" /><polyline clip-path=\"url(#clip920)\" style=\"stroke:#3da44d; stroke-linecap:round; stroke-linejoin:round; stroke-width:4; stroke-opacity:1; fill:none\" points=\"2050.98,322.316 2192.34,322.316 \"/>\n",
       "<path clip-path=\"url(#clip920)\" d=\"M2215.9 329.364 L2215.9 313.67 L2220.16 313.67 L2220.16 329.202 Q2220.16 332.883 2221.6 334.735 Q2223.03 336.563 2225.9 336.563 Q2229.35 336.563 2231.34 334.364 Q2233.36 332.165 2233.36 328.369 L2233.36 313.67 L2237.61 313.67 L2237.61 339.596 L2233.36 339.596 L2233.36 335.614 Q2231.8 337.975 2229.74 339.133 Q2227.71 340.267 2225 340.267 Q2220.53 340.267 2218.22 337.489 Q2215.9 334.711 2215.9 329.364 M2226.62 313.045 L2226.62 313.045 Z\" fill=\"#000000\" fill-rule=\"evenodd\" fill-opacity=\"1\" /><path clip-path=\"url(#clip920)\" d=\"M2254.05 329.133 Q2256.18 329.549 2257.34 330.823 Q2258.52 332.073 2258.52 333.971 Q2258.52 336.841 2256.32 338.392 Q2254.12 339.943 2250.02 339.943 Q2248.7 339.943 2247.24 339.688 Q2245.81 339.457 2244.19 338.994 L2244.19 336.193 Q2245.39 336.818 2246.76 337.119 Q2248.15 337.42 2249.7 337.42 Q2252.22 337.42 2253.61 336.517 Q2255 335.591 2255 333.971 Q2255 332.258 2253.7 331.378 Q2252.43 330.499 2249.93 330.499 L2247.94 330.499 L2247.94 327.999 L2250.11 327.999 Q2252.29 327.999 2253.4 327.281 Q2254.54 326.54 2254.54 325.151 Q2254.54 323.809 2253.38 323.114 Q2252.22 322.397 2250.02 322.397 Q2249.1 322.397 2247.92 322.605 Q2246.74 322.813 2244.86 323.346 L2244.86 320.684 Q2246.55 320.29 2248.03 320.082 Q2249.51 319.874 2250.79 319.874 Q2254.12 319.874 2256.06 321.239 Q2258.03 322.605 2258.03 324.897 Q2258.03 326.494 2256.99 327.605 Q2255.95 328.716 2254.05 329.133 Z\" fill=\"#000000\" fill-rule=\"evenodd\" fill-opacity=\"1\" /></svg>\n"
      ]
     },
     "metadata": {},
     "output_type": "display_data"
    },
    {
     "data": {
      "image/svg+xml": [
       "<?xml version=\"1.0\" encoding=\"utf-8\"?>\n",
       "<svg xmlns=\"http://www.w3.org/2000/svg\" xmlns:xlink=\"http://www.w3.org/1999/xlink\" width=\"600\" height=\"400\" viewBox=\"0 0 2400 1600\">\n",
       "<defs>\n",
       "  <clipPath id=\"clip960\">\n",
       "    <rect x=\"0\" y=\"0\" width=\"2400\" height=\"1600\"/>\n",
       "  </clipPath>\n",
       "</defs>\n",
       "<path clip-path=\"url(#clip960)\" d=\"M0 1600 L2400 1600 L2400 0 L0 0  Z\" fill=\"#ffffff\" fill-rule=\"evenodd\" fill-opacity=\"1\"/>\n",
       "<defs>\n",
       "  <clipPath id=\"clip961\">\n",
       "    <rect x=\"480\" y=\"0\" width=\"1681\" height=\"1600\"/>\n",
       "  </clipPath>\n",
       "</defs>\n",
       "<path clip-path=\"url(#clip960)\" d=\"M210.977 1423.18 L2352.76 1423.18 L2352.76 123.472 L210.977 123.472  Z\" fill=\"#ffffff\" fill-rule=\"evenodd\" fill-opacity=\"1\"/>\n",
       "<defs>\n",
       "  <clipPath id=\"clip962\">\n",
       "    <rect x=\"210\" y=\"123\" width=\"2143\" height=\"1301\"/>\n",
       "  </clipPath>\n",
       "</defs>\n",
       "<polyline clip-path=\"url(#clip962)\" style=\"stroke:#000000; stroke-linecap:round; stroke-linejoin:round; stroke-width:2; stroke-opacity:0.1; fill:none\" points=\"271.594,1423.18 271.594,123.472 \"/>\n",
       "<polyline clip-path=\"url(#clip962)\" style=\"stroke:#000000; stroke-linecap:round; stroke-linejoin:round; stroke-width:2; stroke-opacity:0.1; fill:none\" points=\"633.699,1423.18 633.699,123.472 \"/>\n",
       "<polyline clip-path=\"url(#clip962)\" style=\"stroke:#000000; stroke-linecap:round; stroke-linejoin:round; stroke-width:2; stroke-opacity:0.1; fill:none\" points=\"995.804,1423.18 995.804,123.472 \"/>\n",
       "<polyline clip-path=\"url(#clip962)\" style=\"stroke:#000000; stroke-linecap:round; stroke-linejoin:round; stroke-width:2; stroke-opacity:0.1; fill:none\" points=\"1357.91,1423.18 1357.91,123.472 \"/>\n",
       "<polyline clip-path=\"url(#clip962)\" style=\"stroke:#000000; stroke-linecap:round; stroke-linejoin:round; stroke-width:2; stroke-opacity:0.1; fill:none\" points=\"1720.01,1423.18 1720.01,123.472 \"/>\n",
       "<polyline clip-path=\"url(#clip962)\" style=\"stroke:#000000; stroke-linecap:round; stroke-linejoin:round; stroke-width:2; stroke-opacity:0.1; fill:none\" points=\"2082.12,1423.18 2082.12,123.472 \"/>\n",
       "<polyline clip-path=\"url(#clip960)\" style=\"stroke:#000000; stroke-linecap:round; stroke-linejoin:round; stroke-width:4; stroke-opacity:1; fill:none\" points=\"210.977,1423.18 2352.76,1423.18 \"/>\n",
       "<polyline clip-path=\"url(#clip960)\" style=\"stroke:#000000; stroke-linecap:round; stroke-linejoin:round; stroke-width:4; stroke-opacity:1; fill:none\" points=\"271.594,1423.18 271.594,1404.28 \"/>\n",
       "<polyline clip-path=\"url(#clip960)\" style=\"stroke:#000000; stroke-linecap:round; stroke-linejoin:round; stroke-width:4; stroke-opacity:1; fill:none\" points=\"633.699,1423.18 633.699,1404.28 \"/>\n",
       "<polyline clip-path=\"url(#clip960)\" style=\"stroke:#000000; stroke-linecap:round; stroke-linejoin:round; stroke-width:4; stroke-opacity:1; fill:none\" points=\"995.804,1423.18 995.804,1404.28 \"/>\n",
       "<polyline clip-path=\"url(#clip960)\" style=\"stroke:#000000; stroke-linecap:round; stroke-linejoin:round; stroke-width:4; stroke-opacity:1; fill:none\" points=\"1357.91,1423.18 1357.91,1404.28 \"/>\n",
       "<polyline clip-path=\"url(#clip960)\" style=\"stroke:#000000; stroke-linecap:round; stroke-linejoin:round; stroke-width:4; stroke-opacity:1; fill:none\" points=\"1720.01,1423.18 1720.01,1404.28 \"/>\n",
       "<polyline clip-path=\"url(#clip960)\" style=\"stroke:#000000; stroke-linecap:round; stroke-linejoin:round; stroke-width:4; stroke-opacity:1; fill:none\" points=\"2082.12,1423.18 2082.12,1404.28 \"/>\n",
       "<path clip-path=\"url(#clip960)\" d=\"M248.978 1454.1 Q245.367 1454.1 243.538 1457.66 Q241.733 1461.2 241.733 1468.33 Q241.733 1475.44 243.538 1479.01 Q245.367 1482.55 248.978 1482.55 Q252.612 1482.55 254.418 1479.01 Q256.247 1475.44 256.247 1468.33 Q256.247 1461.2 254.418 1457.66 Q252.612 1454.1 248.978 1454.1 M248.978 1450.39 Q254.788 1450.39 257.844 1455 Q260.923 1459.58 260.923 1468.33 Q260.923 1477.06 257.844 1481.67 Q254.788 1486.25 248.978 1486.25 Q243.168 1486.25 240.089 1481.67 Q237.034 1477.06 237.034 1468.33 Q237.034 1459.58 240.089 1455 Q243.168 1450.39 248.978 1450.39 Z\" fill=\"#000000\" fill-rule=\"evenodd\" fill-opacity=\"1\" /><path clip-path=\"url(#clip960)\" d=\"M269.14 1479.7 L274.024 1479.7 L274.024 1485.58 L269.14 1485.58 L269.14 1479.7 Z\" fill=\"#000000\" fill-rule=\"evenodd\" fill-opacity=\"1\" /><path clip-path=\"url(#clip960)\" d=\"M294.209 1454.1 Q290.598 1454.1 288.77 1457.66 Q286.964 1461.2 286.964 1468.33 Q286.964 1475.44 288.77 1479.01 Q290.598 1482.55 294.209 1482.55 Q297.844 1482.55 299.649 1479.01 Q301.478 1475.44 301.478 1468.33 Q301.478 1461.2 299.649 1457.66 Q297.844 1454.1 294.209 1454.1 M294.209 1450.39 Q300.02 1450.39 303.075 1455 Q306.154 1459.58 306.154 1468.33 Q306.154 1477.06 303.075 1481.67 Q300.02 1486.25 294.209 1486.25 Q288.399 1486.25 285.321 1481.67 Q282.265 1477.06 282.265 1468.33 Q282.265 1459.58 285.321 1455 Q288.399 1450.39 294.209 1450.39 Z\" fill=\"#000000\" fill-rule=\"evenodd\" fill-opacity=\"1\" /><path clip-path=\"url(#clip960)\" d=\"M605.435 1481.64 L621.754 1481.64 L621.754 1485.58 L599.81 1485.58 L599.81 1481.64 Q602.472 1478.89 607.055 1474.26 Q611.662 1469.61 612.842 1468.27 Q615.088 1465.74 615.967 1464.01 Q616.87 1462.25 616.87 1460.56 Q616.87 1457.8 614.926 1456.07 Q613.004 1454.33 609.903 1454.33 Q607.704 1454.33 605.25 1455.09 Q602.819 1455.86 600.042 1457.41 L600.042 1452.69 Q602.866 1451.55 605.319 1450.97 Q607.773 1450.39 609.81 1450.39 Q615.18 1450.39 618.375 1453.08 Q621.569 1455.77 621.569 1460.26 Q621.569 1462.39 620.759 1464.31 Q619.972 1466.2 617.866 1468.8 Q617.287 1469.47 614.185 1472.69 Q611.083 1475.88 605.435 1481.64 Z\" fill=\"#000000\" fill-rule=\"evenodd\" fill-opacity=\"1\" /><path clip-path=\"url(#clip960)\" d=\"M631.569 1479.7 L636.453 1479.7 L636.453 1485.58 L631.569 1485.58 L631.569 1479.7 Z\" fill=\"#000000\" fill-rule=\"evenodd\" fill-opacity=\"1\" /><path clip-path=\"url(#clip960)\" d=\"M646.685 1451.02 L665.041 1451.02 L665.041 1454.96 L650.967 1454.96 L650.967 1463.43 Q651.986 1463.08 653.004 1462.92 Q654.023 1462.73 655.041 1462.73 Q660.828 1462.73 664.208 1465.9 Q667.587 1469.08 667.587 1474.49 Q667.587 1480.07 664.115 1483.17 Q660.643 1486.25 654.324 1486.25 Q652.148 1486.25 649.879 1485.88 Q647.634 1485.51 645.226 1484.77 L645.226 1480.07 Q647.31 1481.2 649.532 1481.76 Q651.754 1482.32 654.231 1482.32 Q658.236 1482.32 660.574 1480.21 Q662.912 1478.1 662.912 1474.49 Q662.912 1470.88 660.574 1468.77 Q658.236 1466.67 654.231 1466.67 Q652.356 1466.67 650.481 1467.08 Q648.629 1467.5 646.685 1468.38 L646.685 1451.02 Z\" fill=\"#000000\" fill-rule=\"evenodd\" fill-opacity=\"1\" /><path clip-path=\"url(#clip960)\" d=\"M962.968 1451.02 L981.325 1451.02 L981.325 1454.96 L967.251 1454.96 L967.251 1463.43 Q968.269 1463.08 969.288 1462.92 Q970.306 1462.73 971.325 1462.73 Q977.112 1462.73 980.491 1465.9 Q983.871 1469.08 983.871 1474.49 Q983.871 1480.07 980.399 1483.17 Q976.927 1486.25 970.607 1486.25 Q968.431 1486.25 966.163 1485.88 Q963.917 1485.51 961.51 1484.77 L961.51 1480.07 Q963.593 1481.2 965.815 1481.76 Q968.038 1482.32 970.515 1482.32 Q974.519 1482.32 976.857 1480.21 Q979.195 1478.1 979.195 1474.49 Q979.195 1470.88 976.857 1468.77 Q974.519 1466.67 970.515 1466.67 Q968.64 1466.67 966.765 1467.08 Q964.913 1467.5 962.968 1468.38 L962.968 1451.02 Z\" fill=\"#000000\" fill-rule=\"evenodd\" fill-opacity=\"1\" /><path clip-path=\"url(#clip960)\" d=\"M993.084 1479.7 L997.968 1479.7 L997.968 1485.58 L993.084 1485.58 L993.084 1479.7 Z\" fill=\"#000000\" fill-rule=\"evenodd\" fill-opacity=\"1\" /><path clip-path=\"url(#clip960)\" d=\"M1018.15 1454.1 Q1014.54 1454.1 1012.71 1457.66 Q1010.91 1461.2 1010.91 1468.33 Q1010.91 1475.44 1012.71 1479.01 Q1014.54 1482.55 1018.15 1482.55 Q1021.79 1482.55 1023.59 1479.01 Q1025.42 1475.44 1025.42 1468.33 Q1025.42 1461.2 1023.59 1457.66 Q1021.79 1454.1 1018.15 1454.1 M1018.15 1450.39 Q1023.96 1450.39 1027.02 1455 Q1030.1 1459.58 1030.1 1468.33 Q1030.1 1477.06 1027.02 1481.67 Q1023.96 1486.25 1018.15 1486.25 Q1012.34 1486.25 1009.26 1481.67 Q1006.21 1477.06 1006.21 1468.33 Q1006.21 1459.58 1009.26 1455 Q1012.34 1450.39 1018.15 1450.39 Z\" fill=\"#000000\" fill-rule=\"evenodd\" fill-opacity=\"1\" /><path clip-path=\"url(#clip960)\" d=\"M1324.23 1451.02 L1346.45 1451.02 L1346.45 1453.01 L1333.9 1485.58 L1329.02 1485.58 L1340.83 1454.96 L1324.23 1454.96 L1324.23 1451.02 Z\" fill=\"#000000\" fill-rule=\"evenodd\" fill-opacity=\"1\" /><path clip-path=\"url(#clip960)\" d=\"M1355.57 1479.7 L1360.45 1479.7 L1360.45 1485.58 L1355.57 1485.58 L1355.57 1479.7 Z\" fill=\"#000000\" fill-rule=\"evenodd\" fill-opacity=\"1\" /><path clip-path=\"url(#clip960)\" d=\"M1370.69 1451.02 L1389.04 1451.02 L1389.04 1454.96 L1374.97 1454.96 L1374.97 1463.43 Q1375.99 1463.08 1377.01 1462.92 Q1378.02 1462.73 1379.04 1462.73 Q1384.83 1462.73 1388.21 1465.9 Q1391.59 1469.08 1391.59 1474.49 Q1391.59 1480.07 1388.12 1483.17 Q1384.64 1486.25 1378.33 1486.25 Q1376.15 1486.25 1373.88 1485.88 Q1371.64 1485.51 1369.23 1484.77 L1369.23 1480.07 Q1371.31 1481.2 1373.53 1481.76 Q1375.76 1482.32 1378.23 1482.32 Q1382.24 1482.32 1384.58 1480.21 Q1386.91 1478.1 1386.91 1474.49 Q1386.91 1470.88 1384.58 1468.77 Q1382.24 1466.67 1378.23 1466.67 Q1376.36 1466.67 1374.48 1467.08 Q1372.63 1467.5 1370.69 1468.38 L1370.69 1451.02 Z\" fill=\"#000000\" fill-rule=\"evenodd\" fill-opacity=\"1\" /><path clip-path=\"url(#clip960)\" d=\"M1672.09 1481.64 L1679.72 1481.64 L1679.72 1455.28 L1671.41 1456.95 L1671.41 1452.69 L1679.68 1451.02 L1684.35 1451.02 L1684.35 1481.64 L1691.99 1481.64 L1691.99 1485.58 L1672.09 1485.58 L1672.09 1481.64 Z\" fill=\"#000000\" fill-rule=\"evenodd\" fill-opacity=\"1\" /><path clip-path=\"url(#clip960)\" d=\"M1711.44 1454.1 Q1707.83 1454.1 1706 1457.66 Q1704.19 1461.2 1704.19 1468.33 Q1704.19 1475.44 1706 1479.01 Q1707.83 1482.55 1711.44 1482.55 Q1715.07 1482.55 1716.88 1479.01 Q1718.71 1475.44 1718.71 1468.33 Q1718.71 1461.2 1716.88 1457.66 Q1715.07 1454.1 1711.44 1454.1 M1711.44 1450.39 Q1717.25 1450.39 1720.3 1455 Q1723.38 1459.58 1723.38 1468.33 Q1723.38 1477.06 1720.3 1481.67 Q1717.25 1486.25 1711.44 1486.25 Q1705.63 1486.25 1702.55 1481.67 Q1699.49 1477.06 1699.49 1468.33 Q1699.49 1459.58 1702.55 1455 Q1705.63 1450.39 1711.44 1450.39 Z\" fill=\"#000000\" fill-rule=\"evenodd\" fill-opacity=\"1\" /><path clip-path=\"url(#clip960)\" d=\"M1731.6 1479.7 L1736.48 1479.7 L1736.48 1485.58 L1731.6 1485.58 L1731.6 1479.7 Z\" fill=\"#000000\" fill-rule=\"evenodd\" fill-opacity=\"1\" /><path clip-path=\"url(#clip960)\" d=\"M1756.67 1454.1 Q1753.06 1454.1 1751.23 1457.66 Q1749.42 1461.2 1749.42 1468.33 Q1749.42 1475.44 1751.23 1479.01 Q1753.06 1482.55 1756.67 1482.55 Q1760.3 1482.55 1762.11 1479.01 Q1763.94 1475.44 1763.94 1468.33 Q1763.94 1461.2 1762.11 1457.66 Q1760.3 1454.1 1756.67 1454.1 M1756.67 1450.39 Q1762.48 1450.39 1765.53 1455 Q1768.61 1459.58 1768.61 1468.33 Q1768.61 1477.06 1765.53 1481.67 Q1762.48 1486.25 1756.67 1486.25 Q1750.86 1486.25 1747.78 1481.67 Q1744.72 1477.06 1744.72 1468.33 Q1744.72 1459.58 1747.78 1455 Q1750.86 1450.39 1756.67 1450.39 Z\" fill=\"#000000\" fill-rule=\"evenodd\" fill-opacity=\"1\" /><path clip-path=\"url(#clip960)\" d=\"M2034.69 1481.64 L2042.33 1481.64 L2042.33 1455.28 L2034.02 1456.95 L2034.02 1452.69 L2042.28 1451.02 L2046.96 1451.02 L2046.96 1481.64 L2054.6 1481.64 L2054.6 1485.58 L2034.69 1485.58 L2034.69 1481.64 Z\" fill=\"#000000\" fill-rule=\"evenodd\" fill-opacity=\"1\" /><path clip-path=\"url(#clip960)\" d=\"M2068.07 1481.64 L2084.39 1481.64 L2084.39 1485.58 L2062.44 1485.58 L2062.44 1481.64 Q2065.1 1478.89 2069.69 1474.26 Q2074.29 1469.61 2075.48 1468.27 Q2077.72 1465.74 2078.6 1464.01 Q2079.5 1462.25 2079.5 1460.56 Q2079.5 1457.8 2077.56 1456.07 Q2075.64 1454.33 2072.54 1454.33 Q2070.34 1454.33 2067.88 1455.09 Q2065.45 1455.86 2062.67 1457.41 L2062.67 1452.69 Q2065.5 1451.55 2067.95 1450.97 Q2070.41 1450.39 2072.44 1450.39 Q2077.81 1450.39 2081.01 1453.08 Q2084.2 1455.77 2084.2 1460.26 Q2084.2 1462.39 2083.39 1464.31 Q2082.6 1466.2 2080.5 1468.8 Q2079.92 1469.47 2076.82 1472.69 Q2073.72 1475.88 2068.07 1481.64 Z\" fill=\"#000000\" fill-rule=\"evenodd\" fill-opacity=\"1\" /><path clip-path=\"url(#clip960)\" d=\"M2094.2 1479.7 L2099.09 1479.7 L2099.09 1485.58 L2094.2 1485.58 L2094.2 1479.7 Z\" fill=\"#000000\" fill-rule=\"evenodd\" fill-opacity=\"1\" /><path clip-path=\"url(#clip960)\" d=\"M2109.32 1451.02 L2127.67 1451.02 L2127.67 1454.96 L2113.6 1454.96 L2113.6 1463.43 Q2114.62 1463.08 2115.64 1462.92 Q2116.66 1462.73 2117.67 1462.73 Q2123.46 1462.73 2126.84 1465.9 Q2130.22 1469.08 2130.22 1474.49 Q2130.22 1480.07 2126.75 1483.17 Q2123.28 1486.25 2116.96 1486.25 Q2114.78 1486.25 2112.51 1485.88 Q2110.27 1485.51 2107.86 1484.77 L2107.86 1480.07 Q2109.94 1481.2 2112.16 1481.76 Q2114.39 1482.32 2116.86 1482.32 Q2120.87 1482.32 2123.21 1480.21 Q2125.54 1478.1 2125.54 1474.49 Q2125.54 1470.88 2123.21 1468.77 Q2120.87 1466.67 2116.86 1466.67 Q2114.99 1466.67 2113.11 1467.08 Q2111.26 1467.5 2109.32 1468.38 L2109.32 1451.02 Z\" fill=\"#000000\" fill-rule=\"evenodd\" fill-opacity=\"1\" /><path clip-path=\"url(#clip960)\" d=\"M1169.32 1522.27 L1169.32 1532.4 L1181.38 1532.4 L1181.38 1536.95 L1169.32 1536.95 L1169.32 1556.3 Q1169.32 1560.66 1170.5 1561.9 Q1171.71 1563.14 1175.37 1563.14 L1181.38 1563.14 L1181.38 1568.04 L1175.37 1568.04 Q1168.59 1568.04 1166.01 1565.53 Q1163.43 1562.98 1163.43 1556.3 L1163.43 1536.95 L1159.14 1536.95 L1159.14 1532.4 L1163.43 1532.4 L1163.43 1522.27 L1169.32 1522.27 Z\" fill=\"#000000\" fill-rule=\"evenodd\" fill-opacity=\"1\" /><path clip-path=\"url(#clip960)\" d=\"M1189.09 1532.4 L1194.94 1532.4 L1194.94 1568.04 L1189.09 1568.04 L1189.09 1532.4 M1189.09 1518.52 L1194.94 1518.52 L1194.94 1525.93 L1189.09 1525.93 L1189.09 1518.52 Z\" fill=\"#000000\" fill-rule=\"evenodd\" fill-opacity=\"1\" /><path clip-path=\"url(#clip960)\" d=\"M1234.95 1539.24 Q1237.15 1535.29 1240.2 1533.41 Q1243.26 1531.54 1247.4 1531.54 Q1252.97 1531.54 1255.99 1535.45 Q1259.01 1539.33 1259.01 1546.53 L1259.01 1568.04 L1253.13 1568.04 L1253.13 1546.72 Q1253.13 1541.59 1251.31 1539.11 Q1249.5 1536.63 1245.77 1536.63 Q1241.22 1536.63 1238.58 1539.65 Q1235.94 1542.68 1235.94 1547.9 L1235.94 1568.04 L1230.05 1568.04 L1230.05 1546.72 Q1230.05 1541.56 1228.24 1539.11 Q1226.42 1536.63 1222.63 1536.63 Q1218.15 1536.63 1215.5 1539.68 Q1212.86 1542.71 1212.86 1547.9 L1212.86 1568.04 L1206.97 1568.04 L1206.97 1532.4 L1212.86 1532.4 L1212.86 1537.93 Q1214.87 1534.66 1217.67 1533.1 Q1220.47 1531.54 1224.32 1531.54 Q1228.2 1531.54 1230.91 1533.51 Q1233.65 1535.48 1234.95 1539.24 Z\" fill=\"#000000\" fill-rule=\"evenodd\" fill-opacity=\"1\" /><path clip-path=\"url(#clip960)\" d=\"M1301.19 1548.76 L1301.19 1551.62 L1274.26 1551.62 Q1274.64 1557.67 1277.89 1560.85 Q1281.17 1564 1286.99 1564 Q1290.36 1564 1293.52 1563.17 Q1296.7 1562.35 1299.82 1560.69 L1299.82 1566.23 Q1296.67 1567.57 1293.36 1568.27 Q1290.05 1568.97 1286.64 1568.97 Q1278.11 1568.97 1273.11 1564 Q1268.15 1559.04 1268.15 1550.57 Q1268.15 1541.82 1272.86 1536.69 Q1277.6 1531.54 1285.62 1531.54 Q1292.82 1531.54 1296.99 1536.18 Q1301.19 1540.8 1301.19 1548.76 M1295.33 1547.04 Q1295.27 1542.23 1292.62 1539.37 Q1290.01 1536.5 1285.69 1536.5 Q1280.78 1536.5 1277.82 1539.27 Q1274.9 1542.04 1274.45 1547.07 L1295.33 1547.04 Z\" fill=\"#000000\" fill-rule=\"evenodd\" fill-opacity=\"1\" /><path clip-path=\"url(#clip960)\" d=\"M1345.59 1518.58 Q1341.32 1525.9 1339.25 1533.06 Q1337.18 1540.23 1337.18 1547.58 Q1337.18 1554.93 1339.25 1562.16 Q1341.35 1569.35 1345.59 1576.64 L1340.49 1576.64 Q1335.72 1569.16 1333.33 1561.93 Q1330.98 1554.71 1330.98 1547.58 Q1330.98 1540.48 1333.33 1533.29 Q1335.69 1526.09 1340.49 1518.58 L1345.59 1518.58 Z\" fill=\"#000000\" fill-rule=\"evenodd\" fill-opacity=\"1\" /><path clip-path=\"url(#clip960)\" d=\"M1379.68 1533.45 L1379.68 1538.98 Q1377.19 1537.71 1374.52 1537.07 Q1371.85 1536.44 1368.98 1536.44 Q1364.62 1536.44 1362.42 1537.77 Q1360.26 1539.11 1360.26 1541.79 Q1360.26 1543.82 1361.82 1545 Q1363.38 1546.15 1368.09 1547.2 L1370.1 1547.64 Q1376.33 1548.98 1378.94 1551.43 Q1381.59 1553.85 1381.59 1558.21 Q1381.59 1563.17 1377.64 1566.07 Q1373.72 1568.97 1366.85 1568.97 Q1363.98 1568.97 1360.87 1568.39 Q1357.78 1567.85 1354.34 1566.74 L1354.34 1560.69 Q1357.59 1562.38 1360.74 1563.24 Q1363.89 1564.07 1366.98 1564.07 Q1371.11 1564.07 1373.34 1562.66 Q1375.57 1561.23 1375.57 1558.65 Q1375.57 1556.27 1373.95 1554.99 Q1372.36 1553.72 1366.91 1552.54 L1364.88 1552.07 Q1359.43 1550.92 1357.01 1548.56 Q1354.59 1546.18 1354.59 1542.04 Q1354.59 1537.01 1358.16 1534.27 Q1361.72 1531.54 1368.28 1531.54 Q1371.53 1531.54 1374.39 1532.01 Q1377.26 1532.49 1379.68 1533.45 Z\" fill=\"#000000\" fill-rule=\"evenodd\" fill-opacity=\"1\" /><path clip-path=\"url(#clip960)\" d=\"M1389.99 1518.58 L1395.08 1518.58 Q1399.86 1526.09 1402.21 1533.29 Q1404.6 1540.48 1404.6 1547.58 Q1404.6 1554.71 1402.21 1561.93 Q1399.86 1569.16 1395.08 1576.64 L1389.99 1576.64 Q1394.22 1569.35 1396.29 1562.16 Q1398.39 1554.93 1398.39 1547.58 Q1398.39 1540.23 1396.29 1533.06 Q1394.22 1525.9 1389.99 1518.58 Z\" fill=\"#000000\" fill-rule=\"evenodd\" fill-opacity=\"1\" /><polyline clip-path=\"url(#clip962)\" style=\"stroke:#000000; stroke-linecap:round; stroke-linejoin:round; stroke-width:2; stroke-opacity:0.1; fill:none\" points=\"210.977,1386.4 2352.76,1386.4 \"/>\n",
       "<polyline clip-path=\"url(#clip962)\" style=\"stroke:#000000; stroke-linecap:round; stroke-linejoin:round; stroke-width:2; stroke-opacity:0.1; fill:none\" points=\"210.977,1141.17 2352.76,1141.17 \"/>\n",
       "<polyline clip-path=\"url(#clip962)\" style=\"stroke:#000000; stroke-linecap:round; stroke-linejoin:round; stroke-width:2; stroke-opacity:0.1; fill:none\" points=\"210.977,895.94 2352.76,895.94 \"/>\n",
       "<polyline clip-path=\"url(#clip962)\" style=\"stroke:#000000; stroke-linecap:round; stroke-linejoin:round; stroke-width:2; stroke-opacity:0.1; fill:none\" points=\"210.977,650.712 2352.76,650.712 \"/>\n",
       "<polyline clip-path=\"url(#clip962)\" style=\"stroke:#000000; stroke-linecap:round; stroke-linejoin:round; stroke-width:2; stroke-opacity:0.1; fill:none\" points=\"210.977,405.484 2352.76,405.484 \"/>\n",
       "<polyline clip-path=\"url(#clip962)\" style=\"stroke:#000000; stroke-linecap:round; stroke-linejoin:round; stroke-width:2; stroke-opacity:0.1; fill:none\" points=\"210.977,160.256 2352.76,160.256 \"/>\n",
       "<polyline clip-path=\"url(#clip960)\" style=\"stroke:#000000; stroke-linecap:round; stroke-linejoin:round; stroke-width:4; stroke-opacity:1; fill:none\" points=\"210.977,1423.18 210.977,123.472 \"/>\n",
       "<polyline clip-path=\"url(#clip960)\" style=\"stroke:#000000; stroke-linecap:round; stroke-linejoin:round; stroke-width:4; stroke-opacity:1; fill:none\" points=\"210.977,1386.4 229.875,1386.4 \"/>\n",
       "<polyline clip-path=\"url(#clip960)\" style=\"stroke:#000000; stroke-linecap:round; stroke-linejoin:round; stroke-width:4; stroke-opacity:1; fill:none\" points=\"210.977,1141.17 229.875,1141.17 \"/>\n",
       "<polyline clip-path=\"url(#clip960)\" style=\"stroke:#000000; stroke-linecap:round; stroke-linejoin:round; stroke-width:4; stroke-opacity:1; fill:none\" points=\"210.977,895.94 229.875,895.94 \"/>\n",
       "<polyline clip-path=\"url(#clip960)\" style=\"stroke:#000000; stroke-linecap:round; stroke-linejoin:round; stroke-width:4; stroke-opacity:1; fill:none\" points=\"210.977,650.712 229.875,650.712 \"/>\n",
       "<polyline clip-path=\"url(#clip960)\" style=\"stroke:#000000; stroke-linecap:round; stroke-linejoin:round; stroke-width:4; stroke-opacity:1; fill:none\" points=\"210.977,405.484 229.875,405.484 \"/>\n",
       "<polyline clip-path=\"url(#clip960)\" style=\"stroke:#000000; stroke-linecap:round; stroke-linejoin:round; stroke-width:4; stroke-opacity:1; fill:none\" points=\"210.977,160.256 229.875,160.256 \"/>\n",
       "<path clip-path=\"url(#clip960)\" d=\"M114.26 1386.85 L143.936 1386.85 L143.936 1390.78 L114.26 1390.78 L114.26 1386.85 Z\" fill=\"#000000\" fill-rule=\"evenodd\" fill-opacity=\"1\" /><path clip-path=\"url(#clip960)\" d=\"M154.075 1369.12 L172.431 1369.12 L172.431 1373.05 L158.357 1373.05 L158.357 1381.52 Q159.376 1381.18 160.394 1381.01 Q161.413 1380.83 162.431 1380.83 Q168.218 1380.83 171.598 1384 Q174.977 1387.17 174.977 1392.59 Q174.977 1398.17 171.505 1401.27 Q168.033 1404.35 161.714 1404.35 Q159.538 1404.35 157.269 1403.98 Q155.024 1403.61 152.616 1402.87 L152.616 1398.17 Q154.7 1399.3 156.922 1399.86 Q159.144 1400.41 161.621 1400.41 Q165.626 1400.41 167.964 1398.31 Q170.302 1396.2 170.302 1392.59 Q170.302 1388.98 167.964 1386.87 Q165.626 1384.76 161.621 1384.76 Q159.746 1384.76 157.871 1385.18 Q156.019 1385.6 154.075 1386.48 L154.075 1369.12 Z\" fill=\"#000000\" fill-rule=\"evenodd\" fill-opacity=\"1\" /><path clip-path=\"url(#clip960)\" d=\"M163.033 1126.97 Q159.422 1126.97 157.593 1130.53 Q155.788 1134.07 155.788 1141.2 Q155.788 1148.31 157.593 1151.87 Q159.422 1155.42 163.033 1155.42 Q166.667 1155.42 168.473 1151.87 Q170.302 1148.31 170.302 1141.2 Q170.302 1134.07 168.473 1130.53 Q166.667 1126.97 163.033 1126.97 M163.033 1123.26 Q168.843 1123.26 171.899 1127.87 Q174.977 1132.45 174.977 1141.2 Q174.977 1149.93 171.899 1154.54 Q168.843 1159.12 163.033 1159.12 Q157.223 1159.12 154.144 1154.54 Q151.089 1149.93 151.089 1141.2 Q151.089 1132.45 154.144 1127.87 Q157.223 1123.26 163.033 1123.26 Z\" fill=\"#000000\" fill-rule=\"evenodd\" fill-opacity=\"1\" /><path clip-path=\"url(#clip960)\" d=\"M154.075 878.66 L172.431 878.66 L172.431 882.595 L158.357 882.595 L158.357 891.067 Q159.376 890.72 160.394 890.558 Q161.413 890.373 162.431 890.373 Q168.218 890.373 171.598 893.544 Q174.977 896.715 174.977 902.132 Q174.977 907.711 171.505 910.813 Q168.033 913.891 161.714 913.891 Q159.538 913.891 157.269 913.521 Q155.024 913.15 152.616 912.41 L152.616 907.711 Q154.7 908.845 156.922 909.4 Q159.144 909.956 161.621 909.956 Q165.626 909.956 167.964 907.85 Q170.302 905.743 170.302 902.132 Q170.302 898.521 167.964 896.414 Q165.626 894.308 161.621 894.308 Q159.746 894.308 157.871 894.725 Q156.019 895.141 154.075 896.021 L154.075 878.66 Z\" fill=\"#000000\" fill-rule=\"evenodd\" fill-opacity=\"1\" /><path clip-path=\"url(#clip960)\" d=\"M123.681 664.057 L131.32 664.057 L131.32 637.691 L123.01 639.358 L123.01 635.099 L131.274 633.432 L135.95 633.432 L135.95 664.057 L143.589 664.057 L143.589 667.992 L123.681 667.992 L123.681 664.057 Z\" fill=\"#000000\" fill-rule=\"evenodd\" fill-opacity=\"1\" /><path clip-path=\"url(#clip960)\" d=\"M163.033 636.511 Q159.422 636.511 157.593 640.076 Q155.788 643.617 155.788 650.747 Q155.788 657.853 157.593 661.418 Q159.422 664.96 163.033 664.96 Q166.667 664.96 168.473 661.418 Q170.302 657.853 170.302 650.747 Q170.302 643.617 168.473 640.076 Q166.667 636.511 163.033 636.511 M163.033 632.807 Q168.843 632.807 171.899 637.414 Q174.977 641.997 174.977 650.747 Q174.977 659.474 171.899 664.08 Q168.843 668.663 163.033 668.663 Q157.223 668.663 154.144 664.08 Q151.089 659.474 151.089 650.747 Q151.089 641.997 154.144 637.414 Q157.223 632.807 163.033 632.807 Z\" fill=\"#000000\" fill-rule=\"evenodd\" fill-opacity=\"1\" /><path clip-path=\"url(#clip960)\" d=\"M124.677 418.829 L132.316 418.829 L132.316 392.463 L124.005 394.13 L124.005 389.871 L132.269 388.204 L136.945 388.204 L136.945 418.829 L144.584 418.829 L144.584 422.764 L124.677 422.764 L124.677 418.829 Z\" fill=\"#000000\" fill-rule=\"evenodd\" fill-opacity=\"1\" /><path clip-path=\"url(#clip960)\" d=\"M154.075 388.204 L172.431 388.204 L172.431 392.139 L158.357 392.139 L158.357 400.612 Q159.376 400.264 160.394 400.102 Q161.413 399.917 162.431 399.917 Q168.218 399.917 171.598 403.088 Q174.977 406.26 174.977 411.676 Q174.977 417.255 171.505 420.357 Q168.033 423.435 161.714 423.435 Q159.538 423.435 157.269 423.065 Q155.024 422.695 152.616 421.954 L152.616 417.255 Q154.7 418.389 156.922 418.945 Q159.144 419.5 161.621 419.5 Q165.626 419.5 167.964 417.394 Q170.302 415.287 170.302 411.676 Q170.302 408.065 167.964 405.959 Q165.626 403.852 161.621 403.852 Q159.746 403.852 157.871 404.269 Q156.019 404.686 154.075 405.565 L154.075 388.204 Z\" fill=\"#000000\" fill-rule=\"evenodd\" fill-opacity=\"1\" /><path clip-path=\"url(#clip960)\" d=\"M126.899 173.601 L143.218 173.601 L143.218 177.536 L121.274 177.536 L121.274 173.601 Q123.936 170.847 128.519 166.217 Q133.126 161.564 134.306 160.222 Q136.552 157.698 137.431 155.962 Q138.334 154.203 138.334 152.513 Q138.334 149.759 136.39 148.023 Q134.468 146.286 131.367 146.286 Q129.167 146.286 126.714 147.05 Q124.283 147.814 121.505 149.365 L121.505 144.643 Q124.33 143.509 126.783 142.93 Q129.237 142.351 131.274 142.351 Q136.644 142.351 139.839 145.036 Q143.033 147.722 143.033 152.212 Q143.033 154.342 142.223 156.263 Q141.436 158.161 139.329 160.754 Q138.751 161.425 135.649 164.643 Q132.547 167.837 126.899 173.601 Z\" fill=\"#000000\" fill-rule=\"evenodd\" fill-opacity=\"1\" /><path clip-path=\"url(#clip960)\" d=\"M163.033 146.055 Q159.422 146.055 157.593 149.62 Q155.788 153.161 155.788 160.291 Q155.788 167.397 157.593 170.962 Q159.422 174.504 163.033 174.504 Q166.667 174.504 168.473 170.962 Q170.302 167.397 170.302 160.291 Q170.302 153.161 168.473 149.62 Q166.667 146.055 163.033 146.055 M163.033 142.351 Q168.843 142.351 171.899 146.958 Q174.977 151.541 174.977 160.291 Q174.977 169.018 171.899 173.624 Q168.843 178.208 163.033 178.208 Q157.223 178.208 154.144 173.624 Q151.089 169.018 151.089 160.291 Q151.089 151.541 154.144 146.958 Q157.223 142.351 163.033 142.351 Z\" fill=\"#000000\" fill-rule=\"evenodd\" fill-opacity=\"1\" /><path clip-path=\"url(#clip960)\" d=\"M28.3562 756.711 L45.7028 769.602 L64.0042 756.043 L64.0042 762.95 L49.9996 773.326 L64.0042 783.702 L64.0042 790.609 L45.3526 776.763 L28.3562 789.431 L28.3562 782.524 L41.0558 773.071 L28.3562 763.618 L28.3562 756.711 Z\" fill=\"#000000\" fill-rule=\"evenodd\" fill-opacity=\"1\" /><path clip-path=\"url(#clip960)\" d=\"M1054.21 14.0809 L1054.21 22.0612 Q1049.55 19.8332 1045.42 18.7395 Q1041.28 17.6457 1037.44 17.6457 Q1030.75 17.6457 1027.11 20.2383 Q1023.5 22.8309 1023.5 27.611 Q1023.5 31.6214 1025.89 33.6873 Q1028.32 35.7128 1035.05 36.9686 L1039.99 37.9813 Q1049.14 39.7232 1053.48 44.1387 Q1057.85 48.5136 1057.85 55.8863 Q1057.85 64.6767 1051.94 69.2137 Q1046.06 73.7508 1034.68 73.7508 Q1030.39 73.7508 1025.53 72.7785 Q1020.7 71.8063 1015.52 69.9024 L1015.52 61.4765 Q1020.5 64.2716 1025.28 65.6895 Q1030.06 67.1073 1034.68 67.1073 Q1041.69 67.1073 1045.5 64.3527 Q1049.3 61.598 1049.3 56.4939 Q1049.3 52.0379 1046.55 49.5264 Q1043.84 47.0148 1037.6 45.759 L1032.61 44.7868 Q1023.46 42.9639 1019.37 39.075 Q1015.28 35.1862 1015.28 28.2591 Q1015.28 20.2383 1020.91 15.6203 Q1026.58 11.0023 1036.5 11.0023 Q1040.76 11.0023 1045.17 11.7719 Q1049.59 12.5416 1054.21 14.0809 Z\" fill=\"#000000\" fill-rule=\"evenodd\" fill-opacity=\"1\" /><path clip-path=\"url(#clip960)\" d=\"M1077.66 14.324 L1077.66 27.2059 L1093.01 27.2059 L1093.01 32.9987 L1077.66 32.9987 L1077.66 57.6282 Q1077.66 63.1779 1079.16 64.7578 Q1080.7 66.3376 1085.36 66.3376 L1093.01 66.3376 L1093.01 72.576 L1085.36 72.576 Q1076.73 72.576 1073.45 69.3758 Q1070.17 66.1351 1070.17 57.6282 L1070.17 32.9987 L1064.7 32.9987 L1064.7 27.2059 L1070.17 27.2059 L1070.17 14.324 L1077.66 14.324 Z\" fill=\"#000000\" fill-rule=\"evenodd\" fill-opacity=\"1\" /><path clip-path=\"url(#clip960)\" d=\"M1123.44 49.7694 Q1114.4 49.7694 1110.92 51.8354 Q1107.43 53.9013 1107.43 58.8839 Q1107.43 62.8538 1110.03 65.2034 Q1112.66 67.5124 1117.16 67.5124 Q1123.35 67.5124 1127.08 63.1374 Q1130.85 58.7219 1130.85 51.4303 L1130.85 49.7694 L1123.44 49.7694 M1138.3 46.6907 L1138.3 72.576 L1130.85 72.576 L1130.85 65.6895 Q1128.3 69.8214 1124.49 71.8063 Q1120.68 73.7508 1115.17 73.7508 Q1108.2 73.7508 1104.07 69.8619 Q1099.98 65.9325 1099.98 59.3701 Q1099.98 51.7138 1105.09 47.825 Q1110.23 43.9361 1120.4 43.9361 L1130.85 43.9361 L1130.85 43.2069 Q1130.85 38.0623 1127.45 35.2672 Q1124.08 32.4315 1117.97 32.4315 Q1114.08 32.4315 1110.39 33.3632 Q1106.71 34.295 1103.3 36.1584 L1103.3 29.2718 Q1107.39 27.692 1111.24 26.9223 Q1115.09 26.1121 1118.74 26.1121 Q1128.58 26.1121 1133.44 31.2163 Q1138.3 36.3204 1138.3 46.6907 Z\" fill=\"#000000\" fill-rule=\"evenodd\" fill-opacity=\"1\" /><path clip-path=\"url(#clip960)\" d=\"M1161.03 14.324 L1161.03 27.2059 L1176.38 27.2059 L1176.38 32.9987 L1161.03 32.9987 L1161.03 57.6282 Q1161.03 63.1779 1162.53 64.7578 Q1164.07 66.3376 1168.72 66.3376 L1176.38 66.3376 L1176.38 72.576 L1168.72 72.576 Q1160.1 72.576 1156.82 69.3758 Q1153.53 66.1351 1153.53 57.6282 L1153.53 32.9987 L1148.07 32.9987 L1148.07 27.2059 L1153.53 27.2059 L1153.53 14.324 L1161.03 14.324 Z\" fill=\"#000000\" fill-rule=\"evenodd\" fill-opacity=\"1\" /><path clip-path=\"url(#clip960)\" d=\"M1224.99 48.0275 L1224.99 51.6733 L1190.72 51.6733 Q1191.21 59.3701 1195.34 63.421 Q1199.51 67.4314 1206.92 67.4314 Q1211.22 67.4314 1215.23 66.3781 Q1219.28 65.3249 1223.25 63.2184 L1223.25 70.267 Q1219.24 71.9684 1215.03 72.8596 Q1210.81 73.7508 1206.48 73.7508 Q1195.62 73.7508 1189.26 67.4314 Q1182.94 61.1119 1182.94 50.3365 Q1182.94 39.1965 1188.94 32.6746 Q1194.97 26.1121 1205.18 26.1121 Q1214.34 26.1121 1219.64 32.0264 Q1224.99 37.9003 1224.99 48.0275 M1217.54 45.84 Q1217.46 39.7232 1214.1 36.0774 Q1210.77 32.4315 1205.26 32.4315 Q1199.03 32.4315 1195.26 35.9558 Q1191.53 39.4801 1190.96 45.8805 L1217.54 45.84 Z\" fill=\"#000000\" fill-rule=\"evenodd\" fill-opacity=\"1\" /><path clip-path=\"url(#clip960)\" d=\"M1263.92 12.096 L1272.1 12.096 L1272.1 36.8875 L1301.84 36.8875 L1301.84 12.096 L1310.02 12.096 L1310.02 72.576 L1301.84 72.576 L1301.84 43.7741 L1272.1 43.7741 L1272.1 72.576 L1263.92 72.576 L1263.92 12.096 Z\" fill=\"#000000\" fill-rule=\"evenodd\" fill-opacity=\"1\" /><path clip-path=\"url(#clip960)\" d=\"M1325.98 27.2059 L1333.43 27.2059 L1333.43 72.576 L1325.98 72.576 L1325.98 27.2059 M1325.98 9.54393 L1333.43 9.54393 L1333.43 18.9825 L1325.98 18.9825 L1325.98 9.54393 Z\" fill=\"#000000\" fill-rule=\"evenodd\" fill-opacity=\"1\" /><path clip-path=\"url(#clip960)\" d=\"M1377.95 28.5427 L1377.95 35.5912 Q1374.79 33.9709 1371.39 33.1607 Q1367.99 32.3505 1364.34 32.3505 Q1358.79 32.3505 1356 34.0519 Q1353.24 35.7533 1353.24 39.156 Q1353.24 41.7486 1355.23 43.2475 Q1357.21 44.7058 1363.21 46.0426 L1365.76 46.6097 Q1373.7 48.3111 1377.02 51.4303 Q1380.38 54.509 1380.38 60.0587 Q1380.38 66.3781 1375.36 70.0644 Q1370.38 73.7508 1361.63 73.7508 Q1357.98 73.7508 1354.01 73.0216 Q1350.08 72.3329 1345.71 70.9151 L1345.71 63.2184 Q1349.84 65.3654 1353.85 66.4591 Q1357.86 67.5124 1361.79 67.5124 Q1367.06 67.5124 1369.89 65.73 Q1372.73 63.9071 1372.73 60.6258 Q1372.73 57.5877 1370.66 55.9673 Q1368.64 54.3469 1361.71 52.8481 L1359.12 52.2405 Q1352.19 50.7821 1349.11 47.7845 Q1346.03 44.7463 1346.03 39.4801 Q1346.03 33.0797 1350.57 29.5959 Q1355.11 26.1121 1363.45 26.1121 Q1367.58 26.1121 1371.23 26.7198 Q1374.88 27.3274 1377.95 28.5427 Z\" fill=\"#000000\" fill-rule=\"evenodd\" fill-opacity=\"1\" /><path clip-path=\"url(#clip960)\" d=\"M1399.63 14.324 L1399.63 27.2059 L1414.98 27.2059 L1414.98 32.9987 L1399.63 32.9987 L1399.63 57.6282 Q1399.63 63.1779 1401.13 64.7578 Q1402.66 66.3376 1407.32 66.3376 L1414.98 66.3376 L1414.98 72.576 L1407.32 72.576 Q1398.69 72.576 1395.41 69.3758 Q1392.13 66.1351 1392.13 57.6282 L1392.13 32.9987 L1386.66 32.9987 L1386.66 27.2059 L1392.13 27.2059 L1392.13 14.324 L1399.63 14.324 Z\" fill=\"#000000\" fill-rule=\"evenodd\" fill-opacity=\"1\" /><path clip-path=\"url(#clip960)\" d=\"M1442.36 32.4315 Q1436.37 32.4315 1432.88 37.1306 Q1429.4 41.7891 1429.4 49.9314 Q1429.4 58.0738 1432.84 62.7728 Q1436.33 67.4314 1442.36 67.4314 Q1448.32 67.4314 1451.8 62.7323 Q1455.29 58.0333 1455.29 49.9314 Q1455.29 41.8701 1451.8 37.1711 Q1448.32 32.4315 1442.36 32.4315 M1442.36 26.1121 Q1452.09 26.1121 1457.64 32.4315 Q1463.19 38.7509 1463.19 49.9314 Q1463.19 61.0714 1457.64 67.4314 Q1452.09 73.7508 1442.36 73.7508 Q1432.6 73.7508 1427.05 67.4314 Q1421.54 61.0714 1421.54 49.9314 Q1421.54 38.7509 1427.05 32.4315 Q1432.6 26.1121 1442.36 26.1121 Z\" fill=\"#000000\" fill-rule=\"evenodd\" fill-opacity=\"1\" /><path clip-path=\"url(#clip960)\" d=\"M1501.83 34.1734 Q1500.57 33.4443 1499.08 33.1202 Q1497.62 32.7556 1495.84 32.7556 Q1489.52 32.7556 1486.11 36.8875 Q1482.75 40.9789 1482.75 48.6757 L1482.75 72.576 L1475.26 72.576 L1475.26 27.2059 L1482.75 27.2059 L1482.75 34.2544 Q1485.1 30.1225 1488.87 28.1376 Q1492.64 26.1121 1498.02 26.1121 Q1498.79 26.1121 1499.72 26.2337 Q1500.66 26.3147 1501.79 26.5172 L1501.83 34.1734 Z\" fill=\"#000000\" fill-rule=\"evenodd\" fill-opacity=\"1\" /><path clip-path=\"url(#clip960)\" d=\"M1528.53 76.7889 Q1525.37 84.8907 1522.37 87.3618 Q1519.37 89.8329 1514.35 89.8329 L1508.39 89.8329 L1508.39 83.5945 L1512.77 83.5945 Q1515.85 83.5945 1517.55 82.1361 Q1519.25 80.6778 1521.32 75.2496 L1522.65 71.8468 L1504.3 27.2059 L1512.2 27.2059 L1526.38 62.6918 L1540.56 27.2059 L1548.46 27.2059 L1528.53 76.7889 Z\" fill=\"#000000\" fill-rule=\"evenodd\" fill-opacity=\"1\" /><polyline clip-path=\"url(#clip962)\" style=\"stroke:#009af9; stroke-linecap:round; stroke-linejoin:round; stroke-width:4; stroke-opacity:1; fill:none\" points=\"271.594,944.985 278.836,952.301 286.078,959.533 293.32,966.682 300.562,973.75 307.804,980.735 315.046,987.639 322.288,994.462 329.531,1001.2 336.773,1007.87 344.015,1014.45 351.257,1020.95 358.499,1027.37 365.741,1033.72 372.983,1039.98 380.225,1046.17 387.467,1052.28 394.709,1058.31 401.952,1064.27 409.194,1070.15 416.436,1075.95 423.678,1081.68 430.92,1087.33 438.162,1092.9 445.404,1098.41 452.646,1103.83 459.888,1109.19 467.13,1114.47 474.373,1119.68 481.615,1124.81 488.857,1129.87 496.099,1134.86 503.341,1139.78 510.583,1144.63 517.825,1149.41 525.067,1154.11 532.309,1158.75 539.551,1163.31 546.794,1167.81 554.036,1172.24 561.278,1176.6 568.52,1180.89 575.762,1185.12 583.004,1189.27 590.246,1193.36 597.488,1197.38 604.73,1201.34 611.972,1205.23 619.215,1209.06 626.457,1212.82 633.699,1216.51 640.941,1220.14 648.183,1223.71 655.425,1227.22 662.667,1230.66 669.909,1234.03 677.151,1237.35 684.393,1240.6 691.636,1243.79 698.878,1246.92 706.12,1249.99 713.362,1253 720.604,1255.95 727.846,1258.84 735.088,1261.67 742.33,1264.44 749.572,1267.15 756.814,1269.81 764.057,1272.4 771.299,1274.94 778.541,1277.43 785.783,1279.85 793.025,1282.22 800.267,1284.53 807.509,1286.79 814.751,1288.99 821.993,1291.14 829.235,1293.23 836.478,1295.27 843.72,1297.26 850.962,1299.19 858.204,1301.07 865.446,1302.9 872.688,1304.67 879.93,1306.39 887.172,1308.07 894.414,1309.69 901.656,1311.26 908.899,1312.78 916.141,1314.25 923.383,1315.67 930.625,1317.04 937.867,1318.36 945.109,1319.64 952.351,1320.87 959.593,1322.05 966.835,1323.18 974.077,1324.27 981.32,1325.31 988.562,1326.3 995.804,1327.25 1003.05,1328.15 1010.29,1329.01 1017.53,1329.83 1024.77,1330.6 1032.01,1331.32 1039.26,1332.01 1046.5,1332.65 1053.74,1333.24 1060.98,1333.8 1068.22,1334.31 1075.47,1334.79 1082.71,1335.22 1089.95,1335.61 1097.19,1335.96 1104.44,1336.27 1111.68,1336.55 1118.92,1336.78 1126.16,1336.97 1133.4,1337.13 1140.65,1337.25 1147.89,1337.33 1155.13,1337.38 1162.37,1337.38 1169.61,1337.36 1176.86,1337.29 1184.1,1337.19 1191.34,1337.06 1198.58,1336.89 1205.82,1336.68 1213.07,1336.45 1220.31,1336.17 1227.55,1335.87 1234.79,1335.53 1242.04,1335.16 1249.28,1334.76 1256.52,1334.33 1263.76,1333.87 1271,1333.37 1278.25,1332.85 1285.49,1332.29 1292.73,1331.71 1299.97,1331.09 1307.21,1330.45 1314.46,1329.78 1321.7,1329.08 1328.94,1328.35 1336.18,1327.6 1343.42,1326.82 1350.67,1326.01 1357.91,1325.18 1365.15,1324.32 1372.39,1323.44 1379.64,1322.53 1386.88,1321.59 1394.12,1320.64 1401.36,1319.65 1408.6,1318.65 1415.85,1317.62 1423.09,1316.57 1430.33,1315.5 1437.57,1314.41 1444.81,1313.29 1452.06,1312.16 1459.3,1311 1466.54,1309.83 1473.78,1308.63 1481.02,1307.42 1488.27,1306.18 1495.51,1304.93 1502.75,1303.66 1509.99,1302.37 1517.23,1301.07 1524.48,1299.75 1531.72,1298.41 1538.96,1297.05 1546.2,1295.68 1553.45,1294.3 1560.69,1292.9 1567.93,1291.48 1575.17,1290.05 1582.41,1288.61 1589.66,1287.16 1596.9,1285.69 1604.14,1284.21 1611.38,1282.72 1618.62,1281.21 1625.87,1279.7 1633.11,1278.17 1640.35,1276.63 1647.59,1275.09 1654.83,1273.53 1662.08,1271.97 1669.32,1270.39 1676.56,1268.81 1683.8,1267.22 1691.05,1265.63 1698.29,1264.02 1705.53,1262.41 1712.77,1260.8 1720.01,1259.17 1727.26,1257.54 1734.5,1255.91 1741.74,1254.27 1748.98,1252.63 1756.22,1250.99 1763.47,1249.34 1770.71,1247.69 1777.95,1246.03 1785.19,1244.38 1792.43,1242.72 1799.68,1241.06 1806.92,1239.4 1814.16,1237.74 1821.4,1236.08 1828.65,1234.42 1835.89,1232.77 1843.13,1231.11 1850.37,1229.45 1857.61,1227.8 1864.86,1226.15 1872.1,1224.5 1879.34,1222.86 1886.58,1221.22 1893.82,1219.58 1901.07,1217.95 1908.31,1216.33 1915.55,1214.71 1922.79,1213.09 1930.03,1211.48 1937.28,1209.88 1944.52,1208.29 1951.76,1206.7 1959,1205.13 1966.25,1203.56 1973.49,1202 1980.73,1200.45 1987.97,1198.91 1995.21,1197.38 2002.46,1195.86 2009.7,1194.35 2016.94,1192.85 2024.18,1191.37 2031.42,1189.9 2038.67,1188.44 2045.91,1186.99 2053.15,1185.56 2060.39,1184.14 2067.63,1182.74 2074.88,1181.35 2082.12,1179.98 2089.36,1178.63 2096.6,1177.29 2103.84,1175.97 2111.09,1174.66 2118.33,1173.37 2125.57,1172.1 2132.81,1170.85 2140.06,1169.62 2147.3,1168.41 2154.54,1167.22 2161.78,1166.05 2169.02,1164.9 2176.27,1163.77 2183.51,1162.66 2190.75,1161.58 2197.99,1160.52 2205.23,1159.48 2212.48,1158.46 2219.72,1157.47 2226.96,1156.51 2234.2,1155.57 2241.44,1154.65 2248.69,1153.76 2255.93,1152.9 2263.17,1152.06 2270.41,1151.25 2277.66,1150.47 2284.9,1149.71 2292.14,1148.99 \"/>\n",
       "<polyline clip-path=\"url(#clip962)\" style=\"stroke:#e26f46; stroke-linecap:round; stroke-linejoin:round; stroke-width:4; stroke-opacity:1; fill:none\" points=\"271.594,1043.08 278.836,1038.21 286.078,1033.41 293.32,1028.68 300.562,1024.02 307.804,1019.43 315.046,1014.91 322.288,1010.45 329.531,1006.07 336.773,1001.75 344.015,997.498 351.257,993.314 358.499,989.198 365.741,985.147 372.983,981.162 380.225,977.243 387.467,973.389 394.709,969.6 401.952,965.876 409.194,962.216 416.436,958.619 423.678,955.086 430.92,951.617 438.162,948.21 445.404,944.865 452.646,941.583 459.888,938.362 467.13,935.202 474.373,932.104 481.615,929.066 488.857,926.089 496.099,923.172 503.341,920.314 510.583,917.515 517.825,914.776 525.067,912.094 532.309,909.472 539.551,906.907 546.794,904.399 554.036,901.949 561.278,899.555 568.52,897.218 575.762,894.937 583.004,892.712 590.246,890.542 597.488,888.427 604.73,886.367 611.972,884.361 619.215,882.409 626.457,880.511 633.699,878.666 640.941,876.874 648.183,875.134 655.425,873.447 662.667,871.812 669.909,870.228 677.151,868.695 684.393,867.213 691.636,865.782 698.878,864.401 706.12,863.069 713.362,861.787 720.604,860.554 727.846,859.37 735.088,858.234 742.33,857.146 749.572,856.105 756.814,855.112 764.057,854.166 771.299,853.266 778.541,852.413 785.783,851.606 793.025,850.844 800.267,850.127 807.509,849.455 814.751,848.828 821.993,848.244 829.235,847.705 836.478,847.209 843.72,846.755 850.962,846.345 858.204,845.977 865.446,845.651 872.688,845.367 879.93,845.123 887.172,844.921 894.414,844.76 901.656,844.638 908.899,844.557 916.141,844.515 923.383,844.512 930.625,844.548 937.867,844.623 945.109,844.735 952.351,844.886 959.593,845.073 966.835,845.298 974.077,845.56 981.32,845.857 988.562,846.191 995.804,846.561 1003.05,846.965 1010.29,847.405 1017.53,847.879 1024.77,848.388 1032.01,848.93 1039.26,849.506 1046.5,850.115 1053.74,850.756 1060.98,851.431 1068.22,852.137 1075.47,852.875 1082.71,853.644 1089.95,854.444 1097.19,855.275 1104.44,856.137 1111.68,857.028 1118.92,857.949 1126.16,858.899 1133.4,859.878 1140.65,860.885 1147.89,861.921 1155.13,862.984 1162.37,864.075 1169.61,865.193 1176.86,866.337 1184.1,867.508 1191.34,868.705 1198.58,869.928 1205.82,871.176 1213.07,872.449 1220.31,873.746 1227.55,875.068 1234.79,876.413 1242.04,877.782 1249.28,879.175 1256.52,880.589 1263.76,882.027 1271,883.486 1278.25,884.967 1285.49,886.47 1292.73,887.993 1299.97,889.537 1307.21,891.101 1314.46,892.686 1321.7,894.289 1328.94,895.912 1336.18,897.554 1343.42,899.214 1350.67,900.892 1357.91,902.588 1365.15,904.301 1372.39,906.031 1379.64,907.778 1386.88,909.541 1394.12,911.32 1401.36,913.115 1408.6,914.924 1415.85,916.749 1423.09,918.588 1430.33,920.441 1437.57,922.307 1444.81,924.187 1452.06,926.08 1459.3,927.986 1466.54,929.904 1473.78,931.833 1481.02,933.775 1488.27,935.727 1495.51,937.69 1502.75,939.663 1509.99,941.647 1517.23,943.64 1524.48,945.642 1531.72,947.654 1538.96,949.673 1546.2,951.701 1553.45,953.737 1560.69,955.78 1567.93,957.831 1575.17,959.887 1582.41,961.951 1589.66,964.02 1596.9,966.095 1604.14,968.174 1611.38,970.259 1618.62,972.348 1625.87,974.441 1633.11,976.538 1640.35,978.638 1647.59,980.742 1654.83,982.847 1662.08,984.955 1669.32,987.065 1676.56,989.176 1683.8,991.288 1691.05,993.4 1698.29,995.513 1705.53,997.626 1712.77,999.739 1720.01,1001.85 1727.26,1003.96 1734.5,1006.07 1741.74,1008.18 1748.98,1010.28 1756.22,1012.38 1763.47,1014.48 1770.71,1016.57 1777.95,1018.67 1785.19,1020.75 1792.43,1022.83 1799.68,1024.91 1806.92,1026.98 1814.16,1029.05 1821.4,1031.11 1828.65,1033.16 1835.89,1035.21 1843.13,1037.24 1850.37,1039.27 1857.61,1041.3 1864.86,1043.31 1872.1,1045.31 1879.34,1047.31 1886.58,1049.3 1893.82,1051.27 1901.07,1053.24 1908.31,1055.19 1915.55,1057.13 1922.79,1059.06 1930.03,1060.98 1937.28,1062.89 1944.52,1064.78 1951.76,1066.66 1959,1068.53 1966.25,1070.38 1973.49,1072.22 1980.73,1074.04 1987.97,1075.85 1995.21,1077.64 2002.46,1079.42 2009.7,1081.18 2016.94,1082.92 2024.18,1084.64 2031.42,1086.35 2038.67,1088.04 2045.91,1089.71 2053.15,1091.36 2060.39,1093 2067.63,1094.61 2074.88,1096.2 2082.12,1097.78 2089.36,1099.33 2096.6,1100.86 2103.84,1102.37 2111.09,1103.85 2118.33,1105.32 2125.57,1106.76 2132.81,1108.17 2140.06,1109.57 2147.3,1110.94 2154.54,1112.28 2161.78,1113.6 2169.02,1114.9 2176.27,1116.17 2183.51,1117.41 2190.75,1118.63 2197.99,1119.81 2205.23,1120.98 2212.48,1122.11 2219.72,1123.21 2226.96,1124.29 2234.2,1125.34 2241.44,1126.36 2248.69,1127.34 2255.93,1128.3 2263.17,1129.23 2270.41,1130.12 2277.66,1130.99 2284.9,1131.82 2292.14,1132.62 \"/>\n",
       "<polyline clip-path=\"url(#clip962)\" style=\"stroke:#3da44d; stroke-linecap:round; stroke-linejoin:round; stroke-width:4; stroke-opacity:1; fill:none\" points=\"271.594,160.256 278.836,172.472 286.078,184.598 293.32,196.632 300.562,208.577 307.804,220.431 315.046,232.194 322.288,243.868 329.531,255.452 336.773,266.945 344.015,278.35 351.257,289.664 358.499,300.889 365.741,312.025 372.983,323.072 380.225,334.031 387.467,344.9 394.709,355.681 401.952,366.374 409.194,376.978 416.436,387.494 423.678,397.923 430.92,408.264 438.162,418.518 445.404,428.685 452.646,438.765 459.888,448.758 467.13,458.665 474.373,468.485 481.615,478.22 488.857,487.869 496.099,497.432 503.341,506.91 510.583,516.303 517.825,525.611 525.067,534.834 532.309,543.974 539.551,553.029 546.794,562.001 554.036,570.889 561.278,579.694 568.52,588.416 575.762,597.055 583.004,605.612 590.246,614.087 597.488,622.48 604.73,630.792 611.972,639.023 619.215,647.172 626.457,655.241 633.699,663.23 640.941,671.139 648.183,678.968 655.425,686.718 662.667,694.389 669.909,701.981 677.151,709.495 684.393,716.93 691.636,724.288 698.878,731.568 706.12,738.772 713.362,745.898 720.604,752.948 727.846,759.922 735.088,766.82 742.33,773.643 749.572,780.391 756.814,787.064 764.057,793.663 771.299,800.187 778.541,806.638 785.783,813.016 793.025,819.321 800.267,825.553 807.509,831.713 814.751,837.8 821.993,843.817 829.235,849.762 836.478,855.636 843.72,861.44 850.962,867.174 858.204,872.838 865.446,878.433 872.688,883.959 879.93,889.416 887.172,894.806 894.414,900.127 901.656,905.381 908.899,910.568 916.141,915.688 923.383,920.741 930.625,925.729 937.867,930.652 945.109,935.509 952.351,940.301 959.593,945.029 966.835,949.693 974.077,954.293 981.32,958.831 988.562,963.305 995.804,967.717 1003.05,972.067 1010.29,976.355 1017.53,980.582 1024.77,984.748 1032.01,988.854 1039.26,992.9 1046.5,996.886 1053.74,1000.81 1060.98,1004.68 1068.22,1008.49 1075.47,1012.24 1082.71,1015.93 1089.95,1019.57 1097.19,1023.15 1104.44,1026.67 1111.68,1030.14 1118.92,1033.55 1126.16,1036.91 1133.4,1040.21 1140.65,1043.46 1147.89,1046.65 1155.13,1049.79 1162.37,1052.88 1169.61,1055.91 1176.86,1058.89 1184.1,1061.82 1191.34,1064.7 1198.58,1067.52 1205.82,1070.3 1213.07,1073.02 1220.31,1075.7 1227.55,1078.32 1234.79,1080.9 1242.04,1083.43 1249.28,1085.91 1256.52,1088.34 1263.76,1090.72 1271,1093.06 1278.25,1095.35 1285.49,1097.59 1292.73,1099.79 1299.97,1101.94 1307.21,1104.05 1314.46,1106.11 1321.7,1108.13 1328.94,1110.11 1336.18,1112.04 1343.42,1113.93 1350.67,1115.78 1357.91,1117.58 1365.15,1119.34 1372.39,1121.06 1379.64,1122.74 1386.88,1124.38 1394.12,1125.98 1401.36,1127.54 1408.6,1129.06 1415.85,1130.54 1423.09,1131.98 1430.33,1133.39 1437.57,1134.76 1444.81,1136.09 1452.06,1137.38 1459.3,1138.64 1466.54,1139.86 1473.78,1141.04 1481.02,1142.19 1488.27,1143.31 1495.51,1144.39 1502.75,1145.43 1509.99,1146.45 1517.23,1147.43 1524.48,1148.38 1531.72,1149.29 1538.96,1150.17 1546.2,1151.02 1553.45,1151.84 1560.69,1152.63 1567.93,1153.39 1575.17,1154.12 1582.41,1154.82 1589.66,1155.49 1596.9,1156.13 1604.14,1156.75 1611.38,1157.33 1618.62,1157.89 1625.87,1158.42 1633.11,1158.93 1640.35,1159.41 1647.59,1159.86 1654.83,1160.28 1662.08,1160.69 1669.32,1161.06 1676.56,1161.42 1683.8,1161.74 1691.05,1162.05 1698.29,1162.33 1705.53,1162.59 1712.77,1162.83 1720.01,1163.04 1727.26,1163.24 1734.5,1163.41 1741.74,1163.56 1748.98,1163.69 1756.22,1163.81 1763.47,1163.9 1770.71,1163.97 1777.95,1164.03 1785.19,1164.06 1792.43,1164.08 1799.68,1164.08 1806.92,1164.06 1814.16,1164.03 1821.4,1163.98 1828.65,1163.92 1835.89,1163.83 1843.13,1163.74 1850.37,1163.63 1857.61,1163.5 1864.86,1163.36 1872.1,1163.21 1879.34,1163.04 1886.58,1162.86 1893.82,1162.67 1901.07,1162.47 1908.31,1162.25 1915.55,1162.03 1922.79,1161.79 1930.03,1161.54 1937.28,1161.28 1944.52,1161.02 1951.76,1160.74 1959,1160.45 1966.25,1160.16 1973.49,1159.86 1980.73,1159.55 1987.97,1159.23 1995.21,1158.91 2002.46,1158.57 2009.7,1158.24 2016.94,1157.89 2024.18,1157.55 2031.42,1157.19 2038.67,1156.83 2045.91,1156.47 2053.15,1156.11 2060.39,1155.74 2067.63,1155.36 2074.88,1154.99 2082.12,1154.61 2089.36,1154.23 2096.6,1153.85 2103.84,1153.46 2111.09,1153.08 2118.33,1152.7 2125.57,1152.31 2132.81,1151.93 2140.06,1151.55 2147.3,1151.16 2154.54,1150.78 2161.78,1150.4 2169.02,1150.03 2176.27,1149.65 2183.51,1149.28 2190.75,1148.92 2197.99,1148.55 2205.23,1148.19 2212.48,1147.84 2219.72,1147.49 2226.96,1147.14 2234.2,1146.81 2241.44,1146.47 2248.69,1146.15 2255.93,1145.83 2263.17,1145.51 2270.41,1145.21 2277.66,1144.91 2284.9,1144.62 2292.14,1144.35 \"/>\n",
       "<polyline clip-path=\"url(#clip962)\" style=\"stroke:#c271d2; stroke-linecap:round; stroke-linejoin:round; stroke-width:4; stroke-opacity:1; fill:none\" stroke-dasharray=\"16, 10\" points=\"271.594,1288.3 278.836,1286.64 286.078,1284.98 293.32,1283.33 300.562,1281.69 307.804,1280.06 315.046,1278.43 322.288,1276.81 329.531,1275.2 336.773,1273.6 344.015,1272 351.257,1270.41 358.499,1268.83 365.741,1267.26 372.983,1265.7 380.225,1264.14 387.467,1262.59 394.709,1261.05 401.952,1259.51 409.194,1257.98 416.436,1256.47 423.678,1254.95 430.92,1253.45 438.162,1251.95 445.404,1250.46 452.646,1248.98 459.888,1247.51 467.13,1246.04 474.373,1244.58 481.615,1243.13 488.857,1241.69 496.099,1240.26 503.341,1238.83 510.583,1237.41 517.825,1236 525.067,1234.59 532.309,1233.19 539.551,1231.8 546.794,1230.42 554.036,1229.05 561.278,1227.68 568.52,1226.32 575.762,1224.97 583.004,1223.63 590.246,1222.29 597.488,1220.96 604.73,1219.64 611.972,1218.33 619.215,1217.02 626.457,1215.72 633.699,1214.43 640.941,1213.15 648.183,1211.88 655.425,1210.61 662.667,1209.35 669.909,1208.1 677.151,1206.85 684.393,1205.62 691.636,1204.39 698.878,1203.17 706.12,1201.95 713.362,1200.75 720.604,1199.55 727.846,1198.36 735.088,1197.17 742.33,1196 749.572,1194.83 756.814,1193.67 764.057,1192.52 771.299,1191.37 778.541,1190.23 785.783,1189.11 793.025,1187.98 800.267,1186.87 807.509,1185.76 814.751,1184.66 821.993,1183.57 829.235,1182.49 836.478,1181.41 843.72,1180.34 850.962,1179.28 858.204,1178.23 865.446,1177.18 872.688,1176.15 879.93,1175.12 887.172,1174.09 894.414,1173.08 901.656,1172.07 908.899,1171.07 916.141,1170.08 923.383,1169.1 930.625,1168.12 937.867,1167.15 945.109,1166.19 952.351,1165.24 959.593,1164.29 966.835,1163.36 974.077,1162.43 981.32,1161.5 988.562,1160.59 995.804,1159.68 1003.05,1158.78 1010.29,1157.89 1017.53,1157.01 1024.77,1156.13 1032.01,1155.26 1039.26,1154.4 1046.5,1153.55 1053.74,1152.71 1060.98,1151.87 1068.22,1151.04 1075.47,1150.22 1082.71,1149.4 1089.95,1148.6 1097.19,1147.8 1104.44,1147.01 1111.68,1146.22 1118.92,1145.45 1126.16,1144.68 1133.4,1143.92 1140.65,1143.17 1147.89,1142.43 1155.13,1141.69 1162.37,1140.96 1169.61,1140.24 1176.86,1139.53 1184.1,1138.82 1191.34,1138.12 1198.58,1137.43 1205.82,1136.75 1213.07,1136.08 1220.31,1135.41 1227.55,1134.75 1234.79,1134.1 1242.04,1133.46 1249.28,1132.83 1256.52,1132.2 1263.76,1131.58 1271,1130.97 1278.25,1130.36 1285.49,1129.77 1292.73,1129.18 1299.97,1128.6 1307.21,1128.03 1314.46,1127.46 1321.7,1126.91 1328.94,1126.36 1336.18,1125.82 1343.42,1125.29 1350.67,1124.76 1357.91,1124.25 1365.15,1123.74 1372.39,1123.24 1379.64,1122.74 1386.88,1122.26 1394.12,1121.78 1401.36,1121.31 1408.6,1120.85 1415.85,1120.4 1423.09,1119.95 1430.33,1119.52 1437.57,1119.09 1444.81,1118.67 1452.06,1118.25 1459.3,1117.85 1466.54,1117.45 1473.78,1117.06 1481.02,1116.68 1488.27,1116.31 1495.51,1115.94 1502.75,1115.58 1509.99,1115.24 1517.23,1114.89 1524.48,1114.56 1531.72,1114.24 1538.96,1113.92 1546.2,1113.61 1553.45,1113.31 1560.69,1113.02 1567.93,1112.74 1575.17,1112.46 1582.41,1112.19 1589.66,1111.93 1596.9,1111.68 1604.14,1111.44 1611.38,1111.2 1618.62,1110.98 1625.87,1110.76 1633.11,1110.55 1640.35,1110.34 1647.59,1110.15 1654.83,1109.96 1662.08,1109.79 1669.32,1109.62 1676.56,1109.45 1683.8,1109.3 1691.05,1109.16 1698.29,1109.02 1705.53,1108.89 1712.77,1108.77 1720.01,1108.66 1727.26,1108.56 1734.5,1108.46 1741.74,1108.38 1748.98,1108.3 1756.22,1108.23 1763.47,1108.17 1770.71,1108.11 1777.95,1108.07 1785.19,1108.03 1792.43,1108 1799.68,1107.98 1806.92,1107.97 1814.16,1107.97 1821.4,1107.98 1828.65,1107.99 1835.89,1108.01 1843.13,1108.04 1850.37,1108.08 1857.61,1108.13 1864.86,1108.19 1872.1,1108.25 1879.34,1108.33 1886.58,1108.41 1893.82,1108.5 1901.07,1108.6 1908.31,1108.71 1915.55,1108.82 1922.79,1108.95 1930.03,1109.08 1937.28,1109.22 1944.52,1109.37 1951.76,1109.53 1959,1109.7 1966.25,1109.88 1973.49,1110.06 1980.73,1110.26 1987.97,1110.46 1995.21,1110.67 2002.46,1110.89 2009.7,1111.12 2016.94,1111.36 2024.18,1111.6 2031.42,1111.86 2038.67,1112.12 2045.91,1112.4 2053.15,1112.68 2060.39,1112.97 2067.63,1113.27 2074.88,1113.57 2082.12,1113.89 2089.36,1114.22 2096.6,1114.55 2103.84,1114.89 2111.09,1115.24 2118.33,1115.61 2125.57,1115.98 2132.81,1116.35 2140.06,1116.74 2147.3,1117.14 2154.54,1117.54 2161.78,1117.96 2169.02,1118.38 2176.27,1118.81 2183.51,1119.25 2190.75,1119.7 2197.99,1120.16 2205.23,1120.63 2212.48,1121.11 2219.72,1121.59 2226.96,1122.09 2234.2,1122.59 2241.44,1123.1 2248.69,1123.63 2255.93,1124.16 2263.17,1124.7 2270.41,1125.25 2277.66,1125.8 2284.9,1126.37 2292.14,1126.95 \"/>\n",
       "<polyline clip-path=\"url(#clip962)\" style=\"stroke:#ac8d18; stroke-linecap:round; stroke-linejoin:round; stroke-width:4; stroke-opacity:1; fill:none\" stroke-dasharray=\"16, 10\" points=\"271.594,1043.08 278.836,1044.48 286.078,1045.88 293.32,1047.28 300.562,1048.66 307.804,1050.04 315.046,1051.41 322.288,1052.78 329.531,1054.13 336.773,1055.48 344.015,1056.83 351.257,1058.16 358.499,1059.49 365.741,1060.82 372.983,1062.13 380.225,1063.44 387.467,1064.74 394.709,1066.04 401.952,1067.32 409.194,1068.6 416.436,1069.88 423.678,1071.14 430.92,1072.4 438.162,1073.65 445.404,1074.9 452.646,1076.14 459.888,1077.37 467.13,1078.59 474.373,1079.81 481.615,1081.02 488.857,1082.22 496.099,1083.42 503.341,1084.61 510.583,1085.79 517.825,1086.96 525.067,1088.13 532.309,1089.29 539.551,1090.44 546.794,1091.59 554.036,1092.73 561.278,1093.86 568.52,1094.99 575.762,1096.11 583.004,1097.22 590.246,1098.32 597.488,1099.42 604.73,1100.51 611.972,1101.59 619.215,1102.67 626.457,1103.74 633.699,1104.8 640.941,1105.85 648.183,1106.9 655.425,1107.94 662.667,1108.98 669.909,1110 677.151,1111.02 684.393,1112.04 691.636,1113.04 698.878,1114.04 706.12,1115.03 713.362,1116.02 720.604,1117 727.846,1117.97 735.088,1118.93 742.33,1119.89 749.572,1120.83 756.814,1121.78 764.057,1122.71 771.299,1123.64 778.541,1124.56 785.783,1125.48 793.025,1126.38 800.267,1127.28 807.509,1128.18 814.751,1129.06 821.993,1129.94 829.235,1130.81 836.478,1131.68 843.72,1132.53 850.962,1133.39 858.204,1134.23 865.446,1135.06 872.688,1135.89 879.93,1136.72 887.172,1137.53 894.414,1138.34 901.656,1139.14 908.899,1139.94 916.141,1140.72 923.383,1141.5 930.625,1142.27 937.867,1143.04 945.109,1143.8 952.351,1144.55 959.593,1145.3 966.835,1146.03 974.077,1146.76 981.32,1147.49 988.562,1148.2 995.804,1148.91 1003.05,1149.61 1010.29,1150.31 1017.53,1151 1024.77,1151.68 1032.01,1152.35 1039.26,1153.02 1046.5,1153.68 1053.74,1154.33 1060.98,1154.97 1068.22,1155.61 1075.47,1156.24 1082.71,1156.87 1089.95,1157.48 1097.19,1158.09 1104.44,1158.69 1111.68,1159.29 1118.92,1159.88 1126.16,1160.46 1133.4,1161.03 1140.65,1161.6 1147.89,1162.16 1155.13,1162.71 1162.37,1163.26 1169.61,1163.79 1176.86,1164.33 1184.1,1164.85 1191.34,1165.37 1198.58,1165.88 1205.82,1166.38 1213.07,1166.87 1220.31,1167.36 1227.55,1167.84 1234.79,1168.31 1242.04,1168.78 1249.28,1169.24 1256.52,1169.69 1263.76,1170.14 1271,1170.57 1278.25,1171 1285.49,1171.43 1292.73,1171.84 1299.97,1172.25 1307.21,1172.65 1314.46,1173.05 1321.7,1173.43 1328.94,1173.81 1336.18,1174.19 1343.42,1174.55 1350.67,1174.91 1357.91,1175.26 1365.15,1175.6 1372.39,1175.94 1379.64,1176.27 1386.88,1176.59 1394.12,1176.9 1401.36,1177.21 1408.6,1177.51 1415.85,1177.8 1423.09,1178.09 1430.33,1178.37 1437.57,1178.64 1444.81,1178.9 1452.06,1179.15 1459.3,1179.4 1466.54,1179.64 1473.78,1179.88 1481.02,1180.1 1488.27,1180.32 1495.51,1180.53 1502.75,1180.74 1509.99,1180.93 1517.23,1181.12 1524.48,1181.31 1531.72,1181.48 1538.96,1181.65 1546.2,1181.81 1553.45,1181.96 1560.69,1182.1 1567.93,1182.24 1575.17,1182.37 1582.41,1182.49 1589.66,1182.61 1596.9,1182.72 1604.14,1182.82 1611.38,1182.91 1618.62,1182.99 1625.87,1183.07 1633.11,1183.14 1640.35,1183.2 1647.59,1183.26 1654.83,1183.3 1662.08,1183.34 1669.32,1183.38 1676.56,1183.4 1683.8,1183.42 1691.05,1183.43 1698.29,1183.43 1705.53,1183.42 1712.77,1183.41 1720.01,1183.39 1727.26,1183.36 1734.5,1183.32 1741.74,1183.28 1748.98,1183.23 1756.22,1183.17 1763.47,1183.1 1770.71,1183.03 1777.95,1182.94 1785.19,1182.85 1792.43,1182.76 1799.68,1182.65 1806.92,1182.54 1814.16,1182.42 1821.4,1182.29 1828.65,1182.15 1835.89,1182.01 1843.13,1181.86 1850.37,1181.7 1857.61,1181.53 1864.86,1181.35 1872.1,1181.17 1879.34,1180.98 1886.58,1180.78 1893.82,1180.57 1901.07,1180.36 1908.31,1180.14 1915.55,1179.91 1922.79,1179.67 1930.03,1179.42 1937.28,1179.17 1944.52,1178.9 1951.76,1178.63 1959,1178.36 1966.25,1178.07 1973.49,1177.78 1980.73,1177.48 1987.97,1177.17 1995.21,1176.85 2002.46,1176.52 2009.7,1176.19 2016.94,1175.85 2024.18,1175.5 2031.42,1175.14 2038.67,1174.77 2045.91,1174.4 2053.15,1174.02 2060.39,1173.63 2067.63,1173.23 2074.88,1172.82 2082.12,1172.41 2089.36,1171.99 2096.6,1171.56 2103.84,1171.12 2111.09,1170.67 2118.33,1170.22 2125.57,1169.75 2132.81,1169.28 2140.06,1168.8 2147.3,1168.32 2154.54,1167.82 2161.78,1167.32 2169.02,1166.8 2176.27,1166.28 2183.51,1165.76 2190.75,1165.22 2197.99,1164.67 2205.23,1164.12 2212.48,1163.56 2219.72,1162.99 2226.96,1162.41 2234.2,1161.82 2241.44,1161.23 2248.69,1160.63 2255.93,1160.01 2263.17,1159.39 2270.41,1158.77 2277.66,1158.13 2284.9,1157.48 2292.14,1156.83 \"/>\n",
       "<polyline clip-path=\"url(#clip962)\" style=\"stroke:#00a9ad; stroke-linecap:round; stroke-linejoin:round; stroke-width:4; stroke-opacity:1; fill:none\" stroke-dasharray=\"16, 10\" points=\"271.594,1386.4 278.836,1384.58 286.078,1382.77 293.32,1380.96 300.562,1379.15 307.804,1377.34 315.046,1375.54 322.288,1373.74 329.531,1371.94 336.773,1370.15 344.015,1368.35 351.257,1366.57 358.499,1364.78 365.741,1363 372.983,1361.22 380.225,1359.44 387.467,1357.67 394.709,1355.9 401.952,1354.14 409.194,1352.38 416.436,1350.62 423.678,1348.87 430.92,1347.12 438.162,1345.37 445.404,1343.63 452.646,1341.9 459.888,1340.17 467.13,1338.44 474.373,1336.72 481.615,1335 488.857,1333.29 496.099,1331.58 503.341,1329.87 510.583,1328.18 517.825,1326.48 525.067,1324.8 532.309,1323.11 539.551,1321.44 546.794,1319.76 554.036,1318.1 561.278,1316.44 568.52,1314.78 575.762,1313.13 583.004,1311.49 590.246,1309.85 597.488,1308.22 604.73,1306.59 611.972,1304.97 619.215,1303.35 626.457,1301.75 633.699,1300.14 640.941,1298.55 648.183,1296.96 655.425,1295.37 662.667,1293.79 669.909,1292.22 677.151,1290.66 684.393,1289.1 691.636,1287.55 698.878,1286 706.12,1284.46 713.362,1282.93 720.604,1281.41 727.846,1279.89 735.088,1278.38 742.33,1276.87 749.572,1275.37 756.814,1273.88 764.057,1272.4 771.299,1270.92 778.541,1269.45 785.783,1267.99 793.025,1266.53 800.267,1265.08 807.509,1263.64 814.751,1262.21 821.993,1260.78 829.235,1259.36 836.478,1257.95 843.72,1256.54 850.962,1255.15 858.204,1253.76 865.446,1252.37 872.688,1251 879.93,1249.63 887.172,1248.27 894.414,1246.92 901.656,1245.57 908.899,1244.23 916.141,1242.9 923.383,1241.58 930.625,1240.27 937.867,1238.96 945.109,1237.66 952.351,1236.37 959.593,1235.09 966.835,1233.81 974.077,1232.54 981.32,1231.28 988.562,1230.03 995.804,1228.78 1003.05,1227.55 1010.29,1226.32 1017.53,1225.1 1024.77,1223.88 1032.01,1222.68 1039.26,1221.48 1046.5,1220.29 1053.74,1219.11 1060.98,1217.94 1068.22,1216.77 1075.47,1215.62 1082.71,1214.47 1089.95,1213.33 1097.19,1212.19 1104.44,1211.07 1111.68,1209.95 1118.92,1208.84 1126.16,1207.74 1133.4,1206.65 1140.65,1205.56 1147.89,1204.49 1155.13,1203.42 1162.37,1202.36 1169.61,1201.31 1176.86,1200.26 1184.1,1199.23 1191.34,1198.2 1198.58,1197.18 1205.82,1196.17 1213.07,1195.17 1220.31,1194.17 1227.55,1193.19 1234.79,1192.21 1242.04,1191.24 1249.28,1190.27 1256.52,1189.32 1263.76,1188.37 1271,1187.44 1278.25,1186.51 1285.49,1185.59 1292.73,1184.67 1299.97,1183.77 1307.21,1182.87 1314.46,1181.98 1321.7,1181.1 1328.94,1180.23 1336.18,1179.37 1343.42,1178.51 1350.67,1177.67 1357.91,1176.83 1365.15,1176 1372.39,1175.17 1379.64,1174.36 1386.88,1173.55 1394.12,1172.75 1401.36,1171.96 1408.6,1171.18 1415.85,1170.41 1423.09,1169.64 1430.33,1168.89 1437.57,1168.14 1444.81,1167.4 1452.06,1166.66 1459.3,1165.94 1466.54,1165.22 1473.78,1164.52 1481.02,1163.82 1488.27,1163.12 1495.51,1162.44 1502.75,1161.76 1509.99,1161.1 1517.23,1160.44 1524.48,1159.79 1531.72,1159.14 1538.96,1158.51 1546.2,1157.88 1553.45,1157.26 1560.69,1156.65 1567.93,1156.05 1575.17,1155.46 1582.41,1154.87 1589.66,1154.29 1596.9,1153.72 1604.14,1153.16 1611.38,1152.6 1618.62,1152.06 1625.87,1151.52 1633.11,1150.99 1640.35,1150.47 1647.59,1149.95 1654.83,1149.45 1662.08,1148.95 1669.32,1148.46 1676.56,1147.98 1683.8,1147.51 1691.05,1147.04 1698.29,1146.58 1705.53,1146.13 1712.77,1145.69 1720.01,1145.26 1727.26,1144.83 1734.5,1144.41 1741.74,1144 1748.98,1143.6 1756.22,1143.21 1763.47,1142.82 1770.71,1142.44 1777.95,1142.07 1785.19,1141.71 1792.43,1141.35 1799.68,1141.01 1806.92,1140.67 1814.16,1140.34 1821.4,1140.01 1828.65,1139.7 1835.89,1139.39 1843.13,1139.09 1850.37,1138.8 1857.61,1138.52 1864.86,1138.24 1872.1,1137.97 1879.34,1137.71 1886.58,1137.46 1893.82,1137.22 1901.07,1136.98 1908.31,1136.75 1915.55,1136.53 1922.79,1136.32 1930.03,1136.11 1937.28,1135.91 1944.52,1135.72 1951.76,1135.54 1959,1135.37 1966.25,1135.2 1973.49,1135.04 1980.73,1134.89 1987.97,1134.75 1995.21,1134.61 2002.46,1134.48 2009.7,1134.36 2016.94,1134.25 2024.18,1134.15 2031.42,1134.05 2038.67,1133.96 2045.91,1133.88 2053.15,1133.8 2060.39,1133.74 2067.63,1133.68 2074.88,1133.63 2082.12,1133.58 2089.36,1133.55 2096.6,1133.52 2103.84,1133.5 2111.09,1133.49 2118.33,1133.48 2125.57,1133.49 2132.81,1133.5 2140.06,1133.52 2147.3,1133.54 2154.54,1133.58 2161.78,1133.62 2169.02,1133.67 2176.27,1133.72 2183.51,1133.79 2190.75,1133.86 2197.99,1133.94 2205.23,1134.02 2212.48,1134.12 2219.72,1134.22 2226.96,1134.33 2234.2,1134.45 2241.44,1134.57 2248.69,1134.71 2255.93,1134.85 2263.17,1135 2270.41,1135.15 2277.66,1135.32 2284.9,1135.49 2292.14,1135.67 \"/>\n",
       "<path clip-path=\"url(#clip960)\" d=\"M2023.9 529.676 L2281.36 529.676 L2281.36 166.796 L2023.9 166.796  Z\" fill=\"#ffffff\" fill-rule=\"evenodd\" fill-opacity=\"1\"/>\n",
       "<polyline clip-path=\"url(#clip960)\" style=\"stroke:#000000; stroke-linecap:round; stroke-linejoin:round; stroke-width:4; stroke-opacity:1; fill:none\" points=\"2023.9,529.676 2281.36,529.676 2281.36,166.796 2023.9,166.796 2023.9,529.676 \"/>\n",
       "<polyline clip-path=\"url(#clip960)\" style=\"stroke:#009af9; stroke-linecap:round; stroke-linejoin:round; stroke-width:4; stroke-opacity:1; fill:none\" points=\"2047.7,218.636 2190.48,218.636 \"/>\n",
       "<path clip-path=\"url(#clip960)\" d=\"M2238.93 209.99 L2229.56 222.606 L2239.42 235.916 L2234.39 235.916 L2226.85 225.731 L2219.3 235.916 L2214.28 235.916 L2224.35 222.351 L2215.14 209.99 L2220.16 209.99 L2227.03 219.226 L2233.91 209.99 L2238.93 209.99 Z\" fill=\"#000000\" fill-rule=\"evenodd\" fill-opacity=\"1\" /><path clip-path=\"url(#clip960)\" d=\"M2244.58 233.369 L2249.3 233.369 L2249.3 219.226 L2244.14 220.175 L2244.14 217.49 L2249.46 216.587 L2252.64 216.587 L2252.64 233.369 L2257.38 233.369 L2257.38 235.916 L2244.58 235.916 L2244.58 233.369 Z\" fill=\"#000000\" fill-rule=\"evenodd\" fill-opacity=\"1\" /><polyline clip-path=\"url(#clip960)\" style=\"stroke:#e26f46; stroke-linecap:round; stroke-linejoin:round; stroke-width:4; stroke-opacity:1; fill:none\" points=\"2047.7,270.476 2190.48,270.476 \"/>\n",
       "<path clip-path=\"url(#clip960)\" d=\"M2238.93 261.83 L2229.56 274.446 L2239.42 287.756 L2234.39 287.756 L2226.85 277.571 L2219.3 287.756 L2214.28 287.756 L2224.35 274.191 L2215.14 261.83 L2220.16 261.83 L2227.03 271.066 L2233.91 261.83 L2238.93 261.83 Z\" fill=\"#000000\" fill-rule=\"evenodd\" fill-opacity=\"1\" /><path clip-path=\"url(#clip960)\" d=\"M2247.17 285.117 L2256.99 285.117 L2256.99 287.756 L2243.14 287.756 L2243.14 285.209 Q2243.93 284.492 2245.39 283.196 Q2253.35 276.135 2253.35 273.959 Q2253.35 272.432 2252.15 271.506 Q2250.95 270.557 2248.98 270.557 Q2247.77 270.557 2246.36 270.973 Q2244.95 271.367 2243.28 272.177 L2243.28 269.33 Q2245.07 268.682 2246.59 268.358 Q2248.14 268.034 2249.46 268.034 Q2252.82 268.034 2254.83 269.561 Q2256.85 271.089 2256.85 273.589 Q2256.85 276.807 2249.19 283.381 Q2247.89 284.492 2247.17 285.117 Z\" fill=\"#000000\" fill-rule=\"evenodd\" fill-opacity=\"1\" /><polyline clip-path=\"url(#clip960)\" style=\"stroke:#3da44d; stroke-linecap:round; stroke-linejoin:round; stroke-width:4; stroke-opacity:1; fill:none\" points=\"2047.7,322.316 2190.48,322.316 \"/>\n",
       "<path clip-path=\"url(#clip960)\" d=\"M2238.93 313.67 L2229.56 326.286 L2239.42 339.596 L2234.39 339.596 L2226.85 329.411 L2219.3 339.596 L2214.28 339.596 L2224.35 326.031 L2215.14 313.67 L2220.16 313.67 L2227.03 322.906 L2233.91 313.67 L2238.93 313.67 Z\" fill=\"#000000\" fill-rule=\"evenodd\" fill-opacity=\"1\" /><path clip-path=\"url(#clip960)\" d=\"M2253.1 329.133 Q2255.23 329.549 2256.39 330.823 Q2257.57 332.073 2257.57 333.971 Q2257.57 336.841 2255.37 338.392 Q2253.17 339.943 2249.07 339.943 Q2247.75 339.943 2246.29 339.688 Q2244.86 339.457 2243.24 338.994 L2243.24 336.193 Q2244.44 336.818 2245.81 337.119 Q2247.2 337.42 2248.75 337.42 Q2251.27 337.42 2252.66 336.517 Q2254.05 335.591 2254.05 333.971 Q2254.05 332.258 2252.75 331.378 Q2251.48 330.499 2248.98 330.499 L2246.99 330.499 L2246.99 327.999 L2249.16 327.999 Q2251.34 327.999 2252.45 327.281 Q2253.58 326.54 2253.58 325.151 Q2253.58 323.809 2252.43 323.114 Q2251.27 322.397 2249.07 322.397 Q2248.14 322.397 2246.96 322.605 Q2245.78 322.813 2243.91 323.346 L2243.91 320.684 Q2245.6 320.29 2247.08 320.082 Q2248.56 319.874 2249.83 319.874 Q2253.17 319.874 2255.11 321.239 Q2257.08 322.605 2257.08 324.897 Q2257.08 326.494 2256.04 327.605 Q2255 328.716 2253.1 329.133 Z\" fill=\"#000000\" fill-rule=\"evenodd\" fill-opacity=\"1\" /><polyline clip-path=\"url(#clip960)\" style=\"stroke:#c271d2; stroke-linecap:round; stroke-linejoin:round; stroke-width:4; stroke-opacity:1; fill:none\" stroke-dasharray=\"16, 10\" points=\"2047.7,374.156 2190.48,374.156 \"/>\n",
       "<path clip-path=\"url(#clip960)\" d=\"M2238.93 365.51 L2229.56 378.126 L2239.42 391.436 L2234.39 391.436 L2226.85 381.251 L2219.3 391.436 L2214.28 391.436 L2224.35 377.871 L2215.14 365.51 L2220.16 365.51 L2227.03 374.746 L2233.91 365.51 L2238.93 365.51 Z\" fill=\"#000000\" fill-rule=\"evenodd\" fill-opacity=\"1\" /><path clip-path=\"url(#clip960)\" d=\"M2226.94 355.417 L2231.2 355.417 L2231.2 360.811 L2226.94 360.811 L2226.94 355.417 M2229.12 364.885 L2229.12 364.885 Z\" fill=\"#000000\" fill-rule=\"evenodd\" fill-opacity=\"1\" /><path clip-path=\"url(#clip960)\" d=\"M2244.58 388.889 L2249.3 388.889 L2249.3 374.746 L2244.14 375.695 L2244.14 373.01 L2249.46 372.107 L2252.64 372.107 L2252.64 388.889 L2257.38 388.889 L2257.38 391.436 L2244.58 391.436 L2244.58 388.889 Z\" fill=\"#000000\" fill-rule=\"evenodd\" fill-opacity=\"1\" /><polyline clip-path=\"url(#clip960)\" style=\"stroke:#ac8d18; stroke-linecap:round; stroke-linejoin:round; stroke-width:4; stroke-opacity:1; fill:none\" stroke-dasharray=\"16, 10\" points=\"2047.7,425.996 2190.48,425.996 \"/>\n",
       "<path clip-path=\"url(#clip960)\" d=\"M2238.93 417.35 L2229.56 429.966 L2239.42 443.276 L2234.39 443.276 L2226.85 433.091 L2219.3 443.276 L2214.28 443.276 L2224.35 429.711 L2215.14 417.35 L2220.16 417.35 L2227.03 426.586 L2233.91 417.35 L2238.93 417.35 Z\" fill=\"#000000\" fill-rule=\"evenodd\" fill-opacity=\"1\" /><path clip-path=\"url(#clip960)\" d=\"M2226.94 407.257 L2231.2 407.257 L2231.2 412.651 L2226.94 412.651 L2226.94 407.257 M2229.12 416.725 L2229.12 416.725 Z\" fill=\"#000000\" fill-rule=\"evenodd\" fill-opacity=\"1\" /><path clip-path=\"url(#clip960)\" d=\"M2247.17 440.637 L2256.99 440.637 L2256.99 443.276 L2243.14 443.276 L2243.14 440.729 Q2243.93 440.012 2245.39 438.716 Q2253.35 431.655 2253.35 429.479 Q2253.35 427.952 2252.15 427.026 Q2250.95 426.077 2248.98 426.077 Q2247.77 426.077 2246.36 426.493 Q2244.95 426.887 2243.28 427.697 L2243.28 424.85 Q2245.07 424.202 2246.59 423.878 Q2248.14 423.554 2249.46 423.554 Q2252.82 423.554 2254.83 425.081 Q2256.85 426.609 2256.85 429.109 Q2256.85 432.327 2249.19 438.901 Q2247.89 440.012 2247.17 440.637 Z\" fill=\"#000000\" fill-rule=\"evenodd\" fill-opacity=\"1\" /><polyline clip-path=\"url(#clip960)\" style=\"stroke:#00a9ad; stroke-linecap:round; stroke-linejoin:round; stroke-width:4; stroke-opacity:1; fill:none\" stroke-dasharray=\"16, 10\" points=\"2047.7,477.836 2190.48,477.836 \"/>\n",
       "<path clip-path=\"url(#clip960)\" d=\"M2238.93 469.19 L2229.56 481.806 L2239.42 495.116 L2234.39 495.116 L2226.85 484.931 L2219.3 495.116 L2214.28 495.116 L2224.35 481.551 L2215.14 469.19 L2220.16 469.19 L2227.03 478.426 L2233.91 469.19 L2238.93 469.19 Z\" fill=\"#000000\" fill-rule=\"evenodd\" fill-opacity=\"1\" /><path clip-path=\"url(#clip960)\" d=\"M2226.94 459.097 L2231.2 459.097 L2231.2 464.491 L2226.94 464.491 L2226.94 459.097 M2229.12 468.565 L2229.12 468.565 Z\" fill=\"#000000\" fill-rule=\"evenodd\" fill-opacity=\"1\" /><path clip-path=\"url(#clip960)\" d=\"M2253.1 484.653 Q2255.23 485.069 2256.39 486.343 Q2257.57 487.593 2257.57 489.491 Q2257.57 492.361 2255.37 493.912 Q2253.17 495.463 2249.07 495.463 Q2247.75 495.463 2246.29 495.208 Q2244.86 494.977 2243.24 494.514 L2243.24 491.713 Q2244.44 492.338 2245.81 492.639 Q2247.2 492.94 2248.75 492.94 Q2251.27 492.94 2252.66 492.037 Q2254.05 491.111 2254.05 489.491 Q2254.05 487.778 2252.75 486.898 Q2251.48 486.019 2248.98 486.019 L2246.99 486.019 L2246.99 483.519 L2249.16 483.519 Q2251.34 483.519 2252.45 482.801 Q2253.58 482.06 2253.58 480.671 Q2253.58 479.329 2252.43 478.634 Q2251.27 477.917 2249.07 477.917 Q2248.14 477.917 2246.96 478.125 Q2245.78 478.333 2243.91 478.866 L2243.91 476.204 Q2245.6 475.81 2247.08 475.602 Q2248.56 475.394 2249.83 475.394 Q2253.17 475.394 2255.11 476.759 Q2257.08 478.125 2257.08 480.417 Q2257.08 482.014 2256.04 483.125 Q2255 484.236 2253.1 484.653 Z\" fill=\"#000000\" fill-rule=\"evenodd\" fill-opacity=\"1\" /></svg>\n"
      ]
     },
     "metadata": {},
     "output_type": "display_data"
    }
   ],
   "source": [
    "Xsim_m = mat_from_vec(Xhist[1:end-Nh])\n",
    "Usim_m = mat_from_vec(Uhist[1:end-Nh-1])\n",
    "e_sim_m = mat_from_vec(Xref[1:end-Nh]-Xhist[1:end-Nh])\n",
    "@show traj_error = maximum(norm.(e_sim_m, Inf))\n",
    "display(plot(t_vec[1:end-Nh],e_sim_m',label = [\"ex₁\" \"ex₂\" \"ex₃\" \"eẋ₁\" \"eẋ₂\" \"eẋ₃\"], \n",
    "             linestyle=[:solid :solid :solid :dash :dash :dash], \n",
    "             title = \"State Error History\",\n",
    "             xlabel = \"time (s)\", ylabel = \"x\"))\n",
    "display(plot(t_vec[1:end-Nh-2],Usim_m',label = [\"u₁\" \"u₂\" \"u₃\"],\n",
    "             title = \"Input History\",\n",
    "             xlabel = \"time (s)\", ylabel = \"u\"))\n",
    "display(plot(t_vec[1:end-Nh],Xsim_m',label = [\"x₁\" \"x₂\" \"x₃\" \"ẋ₁\" \"ẋ₂\" \"ẋ₃\"], \n",
    "             linestyle=[:solid :solid :solid :dash :dash :dash],\n",
    "             title = \"State History\",\n",
    "             xlabel = \"time (s)\", ylabel = \"x\"))"
   ]
  }
 ],
 "metadata": {
  "kernelspec": {
   "display_name": "Julia 1.6.7",
   "language": "julia",
   "name": "julia-1.6"
  },
  "language_info": {
   "file_extension": ".jl",
   "mimetype": "application/julia",
   "name": "julia",
   "version": "1.6.7"
  }
 },
 "nbformat": 4,
 "nbformat_minor": 5
}
