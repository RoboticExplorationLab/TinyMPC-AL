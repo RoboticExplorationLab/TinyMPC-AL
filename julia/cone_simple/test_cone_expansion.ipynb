{
 "cells": [
  {
   "cell_type": "code",
   "execution_count": 125,
   "id": "f9e67384-6792-4aae-abd6-4a84870a8df6",
   "metadata": {},
   "outputs": [
    {
     "name": "stdout",
     "output_type": "stream",
     "text": [
      "Norm gradient difference: 0.0\n",
      "Norm Hessian difference: 2.05844733349435e-12\n",
      "Value error: [0.13201371673557105 -0.08226070996821022 0.09569085897863872]"
     ]
    }
   ],
   "source": [
    "function projection(x)\n",
    "    n = length(x)\n",
    "    s = x[end]\n",
    "    v = view(x,1:n-1)\n",
    "    a = norm(v)\n",
    "    if a <= -s  # below the cone\n",
    "        return zero(x)\n",
    "    elseif a <= s  # in the code\n",
    "        return x\n",
    "    elseif a >= abs(s)  # outside the cone\n",
    "        return 0.5 * (1 + s/a) * [v; a] \n",
    "    end\n",
    "end\n",
    "function ∇projection(x)\n",
    "    n = length(x)\n",
    "    J = zeros(eltype(x),n,n)\n",
    "    s = x[end]\n",
    "    v = view(x,1:n-1)\n",
    "    a = norm(v)\n",
    "    if a <= -s\n",
    "        return J  # zeros\n",
    "    elseif a <= s\n",
    "        J .= I(n)  \n",
    "        return J  # identity\n",
    "    elseif a >= abs(s)\n",
    "        c = 0.5 * (1 + s/a)\n",
    "\n",
    "        # dvdv ok!\n",
    "        for i = 1:n-1, j = 1:n-1\n",
    "            J[i,j] = -0.5*s/a^3 * v[i] * v[j]\n",
    "            if i == j\n",
    "                J[i,j] += c\n",
    "            end\n",
    "        end\n",
    "\n",
    "        # dvds ok!\n",
    "        for i = 1:n-1\n",
    "            J[i,n] = 0.5 * v[i] / a\n",
    "        end\n",
    "\n",
    "        # dsdv ok!\n",
    "        for i = 1:n-1\n",
    "            J[n,i] = ((-0.5*s/a^2) + c/a) * v[i]\n",
    "        end\n",
    "        J[n,n] = 0.5  # ok\n",
    "        return J\n",
    "    else\n",
    "        error(\"Invalid second-order cone projection.\")\n",
    "    end\n",
    "    return J\n",
    "end\n",
    "function ∇²projection(x, b)\n",
    "    # x is lamda_bar, b is projection(lambda_bar)\n",
    "    n = length(x)\n",
    "    hess = zeros(eltype(x),n,n)\n",
    "    v = view(x, 1:n-1)\n",
    "    bv = view(b, 1:n-1)\n",
    "\n",
    "    # @assert size(hess) == (n+1,n+1)\n",
    "    s = x[end]\n",
    "    bs = b[end]\n",
    "    a =  norm(v)\n",
    "    vbv = dot(v,bv)\n",
    "\n",
    "    if a <= -s\n",
    "        return hess .= 0\n",
    "    elseif a <= s\n",
    "        return hess .= 0\n",
    "    elseif a > abs(s)\n",
    "        # Original equations from chain rule\n",
    "        # dvdv = -s/norm(v)^2/norm(v)*(I - (v*v')/(v'v))*bv*v' + \n",
    "        #     s/norm(v)*((v*(v'bv))/(v'v)^2 * 2v' - (I*(v'bv) + v*bv')/(v'v)) + \n",
    "        #     bs/norm(v)*(I - (v*v')/(v'v))\n",
    "        # dvds = 1/norm(v)*(I - (v*v')/(v'v))*bv;\n",
    "        # # display(dvds)\n",
    "        # # display(dvdv)\n",
    "        # hess[1:n-1,1:n-1] .= dvdv*0.5\n",
    "        # hess[1:n-1,n] .= dvds*0.5\n",
    "        # hess[n:n,1:n-1] .= 0.5*dvds'\n",
    "        # hess[n,n] = 0\n",
    "        # return hess\n",
    "\n",
    "        # The following is just an unrolled version of the above\n",
    "        n = n - 1\n",
    "        dvdv = view(hess, 1:n, 1:n)\n",
    "        dvds = view(hess, 1:n, n+1)\n",
    "        dsdv = view(hess, n+1, 1:n)\n",
    "        @inbounds for i = 1:n\n",
    "            hi = 0\n",
    "            @inbounds for j = 1:n\n",
    "                Hij = -v[i]*v[j] / a^2\n",
    "                if i == j\n",
    "                    Hij += 1\n",
    "                end\n",
    "                hi += Hij * bv[j]\n",
    "            end\n",
    "            dvds[i] = hi / 2a\n",
    "            dsdv[i] = dvds[i]\n",
    "            @inbounds for j = 1:i\n",
    "                vij = v[i] * v[j]\n",
    "                H1 = hi * v[j] * (-s/a^3)\n",
    "                H2 = vij * (2*vbv) / a^4 - v[i] * bv[j] / a^2\n",
    "                H3 = -vij / a^2\n",
    "                if i == j\n",
    "                    H2 -= vbv / a^2\n",
    "                    H3 += 1\n",
    "                end\n",
    "                H2 *= s/a\n",
    "                H3 *= bs/a\n",
    "                dvdv[i,j] = (H1 + H2 + H3) / 2\n",
    "                dvdv[j,i] = dvdv[i,j]\n",
    "            end\n",
    "        end\n",
    "        hess[end,end] = 0\n",
    "        return hess\n",
    "    else\n",
    "        throw(ErrorException(\"Invalid second-order cone projection\"))\n",
    "    end\n",
    "end\n",
    "function conic_cost(λ, ρ, x)\n",
    "    c = cone_u(params, x)\n",
    "    λhat = λ + ρ*c\n",
    "    return 0.5*norm(projection(λhat))^2/ρ\n",
    "end\n",
    "function conic_cost_expansion(p::NamedTuple, u, λ, ρ, k)\n",
    "    c = cone_u(params, x)\n",
    "    λhat = λ + ρ*c\n",
    "    ∇c = cone_u_jac(p, u)\n",
    "    G = ∇c'*∇projection(λhat)*projection(λhat)\n",
    "    # H = ∇c'*∇projection(λhat)'*∇projection(λhat)*∇c*ρ\n",
    "    H = ∇c'*(∇projection(λhat)'*∇projection(λhat) + \n",
    "        ∇²projection(λhat, projection(λhat)))*∇c*ρ\n",
    "    return G, H\n",
    "end\n",
    "λ = rand(3)*10\n",
    "ρ = 1e4\n",
    "x = rand(3)*10\n",
    "\n",
    "# G = FiniteDiff.finite_difference_jacobian(_x->conic_cost(λ, ρ, _x),x)\n",
    "# H = FiniteDiff.finite_difference_hessian(_x->conic_cost(λ, ρ, _x),x)\n",
    "G = ForwardDiff.gradient(_x->conic_cost(λ, ρ, _x),x)\n",
    "H = ForwardDiff.hessian(_x->conic_cost(λ, ρ, _x),x)\n",
    "G1, H1 = conic_cost_expansion(params, x, λ, ρ, 1)\n",
    "print(\"Norm gradient difference: \", norm(G1-G))\n",
    "print(\"\\nNorm Hessian difference: \", norm(H1-H))\n",
    "x1 = x+rand(3)*0.1\n",
    "error1 = FiniteDiff.finite_difference_jacobian(_x->conic_cost(λ, ρ, _x),x1) - G1' - (x1-x)'*H1\n",
    "print(\"\\nValue error: \", error1)\n",
    "# display(eigvals(H1))\n",
    "# display(eigvals(H))\n",
    "# display(G')\n",
    "# display(G1)\n",
    "# display(H1)\n",
    "# display(G1+H1*x)\n",
    "# H1*x"
   ]
  },
  {
   "cell_type": "code",
   "execution_count": 50,
   "id": "6099cb4b-a2da-4b1b-ba0f-856484092fc4",
   "metadata": {},
   "outputs": [
    {
     "name": "stderr",
     "output_type": "stream",
     "text": [
      "\u001b[32m\u001b[1m  Activating\u001b[22m\u001b[39m environment at `~/SSD/Code/TinyMPC/julia/cone_simple/Project.toml`\n"
     ]
    }
   ],
   "source": [
    "using Pkg\n",
    "Pkg.activate(@__DIR__)\n",
    "Pkg.instantiate()\n",
    "\n",
    "using LinearAlgebra\n",
    "using Random\n",
    "using FiniteDiff\n",
    "using ForwardDiff\n",
    "using Printf"
   ]
  },
  {
   "cell_type": "code",
   "execution_count": 96,
   "id": "6179ca57-b5ff-4274-8391-85d5e728fc16",
   "metadata": {
    "tags": []
   },
   "outputs": [
    {
     "data": {
      "text/plain": [
       "mpc (generic function with 1 method)"
      ]
     },
     "execution_count": 96,
     "metadata": {},
     "output_type": "execute_result"
    }
   ],
   "source": [
    "# -------------------THIS IS ALL ALTRO-------------------------------\n",
    "# This enables goal equality constraints, state and input ineq constraints.\n",
    "function stage_cost(p::NamedTuple,x,u,k)\n",
    "    dx = x - p.Xref[k]\n",
    "    du = u - p.Uref[k]\n",
    "    return 0.5*dx'*p.Q*dx + 0.5*du'*p.R*du\n",
    "end\n",
    "function term_cost(p::NamedTuple,x)\n",
    "    dx = x - p.Xref[p.N]\n",
    "    return 0.5*dx'*p.Qf*dx\n",
    "end\n",
    "function stage_cost_expansion(p::NamedTuple,k)\n",
    "    dx = - p.Xref[k]\n",
    "    du = - p.Uref[k]\n",
    "    return p.Q, p.Q*dx, p.R, p.R*du  # Hessian and gradient\n",
    "end\n",
    "function term_cost_expansion(p::NamedTuple)\n",
    "    dx = - p.Xref[p.N]\n",
    "    return p.Qf, p.Qf*dx\n",
    "end\n",
    "function conic_cost_expansion(p::NamedTuple, u, λc, ρ, k)\n",
    "    λhat = λc # already updated\n",
    "    ∇c = cone_u_jac(p, u)\n",
    "    G = ∇c'*∇projection(λhat)*projection(λhat)\n",
    "    # H = ∇c'*∇projection(λhat)'*∇projection(λhat)*∇c*ρ\n",
    "    H = ∇c'*(∇projection(λhat)'*∇projection(λhat) + ∇²projection(λhat, projection(λhat)))*∇c*ρ\n",
    "    return (G - H*u), H\n",
    "end\n",
    "function backward_pass!(params,X,U,P,p,d,K,reg,μ,μx,ρ,λ,λc)\n",
    "    \"\"\"iLQR backward pass with AL. This !function update its parameters\n",
    "    \"\"\"\n",
    "    N = params.N\n",
    "    ΔJ = 0.0    # expected cost reduction\n",
    "\n",
    "    # terminal cost expansion\n",
    "    P[N], p[N] = term_cost_expansion(params) \n",
    "    \n",
    "    if (params.ncx > 0)\n",
    "        # # add AL terms for the state constraint at the final time step\n",
    "        hxv = ineq_con_x(params,X[N])  # h(x) violation  \n",
    "        mask = eval_mask(μx[N],hxv)\n",
    "        ∇hx = ineq_con_x_jac(params,X[N])\n",
    "        # add these into the cost-to-go p and P\n",
    "        p[N]  += ∇hx'*(μx[N] - ρ*(mask * [params.x_max;-params.x_min]))  # multiplier term (1st)\n",
    "        P[N]  += ρ*∇hx'*mask*∇hx                # penalty term (2nd)\n",
    "    end\n",
    "    \n",
    "    if (params.ncg > 0)\n",
    "        # add AL terms for goal constraint \n",
    "        ∇hx = diagm(ones(params.nx))\n",
    "        # add these into the CTG p and P (equality active)\n",
    "        p[N]  += ∇hx'*(λ - ρ*params.Xref[N])   \n",
    "        P[N]  += ρ*∇hx'∇hx\n",
    "    end\n",
    "    \n",
    "    # iterate from N-1 to 1 backwards\n",
    "    for k = (N-1):(-1):1\n",
    "        # dynamics jacobians (linearization about previous iterate)\n",
    "        A = ForwardDiff.jacobian(_x -> discrete_dynamics(params,_x,U[k],k),X[k])\n",
    "        B = ForwardDiff.jacobian(_u -> discrete_dynamics(params,X[k],_u,k),U[k])\n",
    "\n",
    "        Sxx,Sx,Suu,Su = stage_cost_expansion(params,k)\n",
    "        \n",
    "        # one-step cost expansion: Q, Q*dx, R, R*du\n",
    "        Sx += A' * (P[k+1]*f + p[k+1]) \n",
    "        Su += B' * (P[k+1]*f + p[k+1]) \n",
    "        Sxx += A'*(P[k+1])*A\n",
    "        Suu += B'*(P[k+1] + reg*I)*B                                     \n",
    "        Sux = B'*(P[k+1])*A  \n",
    "        if (params.ncu > 0)\n",
    "            # control constraints\n",
    "            huv = ineq_con_u(params,U[k])  # calculate h(u) constraint\n",
    "            mask = eval_mask(μ[k],huv)  # choose active\n",
    "            ∇hu = ineq_con_u_jac(params,U[k])\n",
    "            Su  += ∇hu'*(μ[k] - ρ*(mask * [params.u_max;-params.u_min])) # add to cost\n",
    "            Suu += ρ*∇hu'*mask*∇hu\n",
    "        end\n",
    "        if (params.ncx > 0)\n",
    "            # state constraints\n",
    "            hxv = ineq_con_x(params,X[k])\n",
    "            mask = eval_mask(μx[k],hxv)\n",
    "            ∇hx = ineq_con_x_jac(params,X[k])\n",
    "            Sx  += ∇hx'*(μx[k] - ρ*(mask * [params.x_max;-params.x_min]))\n",
    "            Sxx += ρ*∇hx'*mask*∇hx\n",
    "        end\n",
    "        if (params.ncu_cone > 0)\n",
    "            # conic constraints\n",
    "            Qu, Quu = conic_cost_expansion(params, U[k], λc[k], ρ/cone_scale, k)\n",
    "            # display(Quu)\n",
    "            Su += Qu\n",
    "            Suu += Quu\n",
    "        end\n",
    "        \n",
    "        # Calculate Gains\n",
    "        # if isposdef(Suu) == 0\n",
    "        #     for i = 1:10\n",
    "        #         Suu += reg*I\n",
    "        #         if isposdef(Suu) == 1\n",
    "        #             break\n",
    "        #         end\n",
    "        #     end\n",
    "        # end\n",
    "            \n",
    "        F = cholesky(Symmetric(Suu))\n",
    "        d[k] = F\\Su\n",
    "        K[k] = F\\Sux\n",
    "\n",
    "        # Cost-to-go Recurrence (PSD stabilizing version, last term)\n",
    "        P[k] = Sxx + K[k]'*Suu*K[k] - 2*K[k]'*Sux\n",
    "        p[k] = Sx + K[k]'*Suu*d[k] - K[k]'*Su - Sux'*d[k]\n",
    "        ΔJ += Su'*d[k]\n",
    "    end\n",
    "\n",
    "    return ΔJ  # but also change params\n",
    "end\n",
    "function forward_pass!(params,X,U,K,d,ΔJ,Xn,Un,μ,μx,ρ,λ; \n",
    "                        max_linesearch_iters = 20)\n",
    "    \"\"\"iLQR forward pass and line-search\n",
    "    This !function update its parameters\n",
    "    \"\"\"\n",
    "    N = params.N\n",
    "        # Forward Rollout\n",
    "        for k = 1:(N-1)\n",
    "            Un[k] = - d[k] - K[k]*Xn[k] \n",
    "            Xn[k+1] = discrete_dynamics(params,Xn[k],Un[k],k)\n",
    "        end\n",
    "    X .= Xn\n",
    "    U .= Un\n",
    "    return 0, 0\n",
    "end\n",
    "function eval_mask(μv,huv)  \n",
    "    # Extract active inequality constraints\n",
    "    # active set mask\n",
    "    mask = Diagonal(zeros(length(huv)))\n",
    "    for i = 1:length(huv)\n",
    "        mask[i,i] = (μv[i] > 0 || huv[i] > 0)\n",
    "    end\n",
    "    mask\n",
    "end\n",
    "function mpc(params,X,U,P,p,K,d,Xn,Un;atol=1e-4,max_iters = 20,verbose = true,ρ=1,ρ_max = 1e8,ϕ=10)\n",
    "\n",
    "    # first check the sizes of everything\n",
    "    # @assert length(X) == params.N\n",
    "    # @assert length(U) == params.N-1\n",
    "    # @assert length(X[1]) == params.nx\n",
    "    # @assert length(U[1]) == params.nu\n",
    "\n",
    "    # initial rollout\n",
    "    N = params.N\n",
    "    for i = 1:N-1\n",
    "        X[i+1] = discrete_dynamics(params,X[i],U[i],i)\n",
    "    end\n",
    "\n",
    "    reg_min = 1e-8\n",
    "    reg = reg_min\n",
    "\n",
    "    μ = [zeros(params.ncu) for i = 1:N-1]   # input constraints\n",
    "\n",
    "    μx = [zeros(params.ncx) for i = 1:N]    # state constraints\n",
    "\n",
    "    λ = zeros(params.nx)    # goal constraint\n",
    "\n",
    "    λc = [zeros(params.ncu_cone) for i = 1:N-1]   # goal constraint\n",
    "    \n",
    "    # Inner loop to solve unconstrained problem (Riccati)\n",
    "    for iter = 1:max_iters\n",
    "        \n",
    "        J = 0.0\n",
    "        ΔJ = 0.0\n",
    "        α = 1.0\n",
    "        for i = 1:1\n",
    "            ΔJ = backward_pass!(params,X,U,P,p,d,K,reg,μ,μx,ρ,λ,λc)\n",
    "            J, α = forward_pass!(params,X,U,K,d,ΔJ,Xn,Un,μ,μx,ρ,λ)\n",
    "        end\n",
    "\n",
    "        if verbose\n",
    "            if rem(iter-1,10)==0\n",
    "                @printf \"iter     J           ΔJ        |d|         α        reg         ρ\\n\"\n",
    "                @printf \"---------------------------------------------------------------------\\n\"\n",
    "            end\n",
    "            @printf(\"%3d   %10.3e  %9.2e  %9.2e  %6.4f   %9.2e   %9.2e\\n\",\n",
    "              iter, J, ΔJ, 0, α, reg, ρ)\n",
    "        end\n",
    "        # update multipliers and check constraint violation, max of all\n",
    "        convio = 0  \n",
    "        \n",
    "        if (params.ncu > 0)\n",
    "            # control constraints (inequality)\n",
    "            for k = 1:N-1\n",
    "                huv = ineq_con_u(params,U[k])\n",
    "                mask = eval_mask(μ[k],huv)\n",
    "                # update dual\n",
    "                convio = max(convio,norm(huv + abs.(huv),Inf))\n",
    "                μ[k] = max.(0,μ[k] - ρ*(mask * [params.u_max;-params.u_min]))\n",
    "            end\n",
    "        end\n",
    "        if (params.ncx > 0)\n",
    "            # state constraints (inequality)\n",
    "            for k = 1:N\n",
    "                hxv = ineq_con_x(params,X[k])\n",
    "                mask = eval_mask(μx[k],hxv)\n",
    "                # update dual\n",
    "                convio = max(convio,norm(hxv + abs.(hxv),Inf))\n",
    "                μx[k] = max.(0,μx[k] - ρ*(mask * [params.x_max;-params.x_min]))                \n",
    "            end\n",
    "        end\n",
    "        if (params.ncu_cone > 0)\n",
    "            # conic constraints \n",
    "            if verbose\n",
    "                print(\"update cone\\n\")\n",
    "            end            \n",
    "            for k = 1:N-1\n",
    "                # update dual\n",
    "                Uc = cone_u(params, U[k])\n",
    "                huc = norm(Uc[1:2]) - Uc[3]\n",
    "                convio = max(convio, norm(huc + abs.(huc),Inf))\n",
    "                λc[k] = projection(λc[k] + Uc/cone_scale*ρ)\n",
    "                # display(λc[k])\n",
    "            end\n",
    "        end\n",
    "        if (params.ncg > 0)\n",
    "            # goal constraint (equality)\n",
    "            hxv = X[N] - params.Xref[N]\n",
    "            λ .-= ρ*params.Xref[N]\n",
    "            convio = max(convio, norm(hxv,Inf))\n",
    "        end\n",
    "        \n",
    "        ρ *= ϕ  # update penalty\n",
    "        \n",
    "        if verbose\n",
    "            @show convio\n",
    "        end\n",
    "        if convio < atol  # if terminal condition with contraint violation\n",
    "            # print(\"Our solver says SUCCESS\\n\") # @info \"success!\"\n",
    "            return U[1]\n",
    "        end\n",
    "        if ρ > ρ_max\n",
    "            print(\"Our solver reachs MAX PENALTY\\n\")\n",
    "            return U[1]\n",
    "        end\n",
    "    end\n",
    "    print(\"Our solver says INFEASIBLE and MAX ITER\\n\")\n",
    "    return U[1]\n",
    "end\n",
    "#----------------------ALTRO DONE --------------------------"
   ]
  },
  {
   "cell_type": "code",
   "execution_count": 97,
   "id": "ff9a97a1-b963-4f01-9223-eee0c5682b7d",
   "metadata": {
    "tags": []
   },
   "outputs": [
    {
     "data": {
      "text/plain": [
       "∇²projection (generic function with 1 method)"
      ]
     },
     "execution_count": 97,
     "metadata": {},
     "output_type": "execute_result"
    }
   ],
   "source": [
    "# =============================\n",
    "# Example problem formulation and solve\n",
    "# =============================\n",
    "\n",
    "# ---------------------THIS IS WHAT YOU NEED TO INPUT--------\n",
    "A = [1.0 0.0 0.0 0.05 0.0 0.0; \n",
    "    0.0 1.0 0.0 0.0 0.05 0.0; \n",
    "    0.0 0.0 1.0 0.0 0.0 0.05; \n",
    "    0.0 0.0 0.0 1.0 0.0 0.0; \n",
    "    0.0 0.0 0.0 0.0 1.0 0.0; \n",
    "    0.0 0.0 0.0 0.0 0.0 1.0]\n",
    "B = [0.000125 0.0 0.0; \n",
    "    0.0 0.000125 0.0;\n",
    "    0.0 0.0 0.000125; \n",
    "    0.005 0.0 0.0; \n",
    "    0.0 0.005 0.0; \n",
    "    0.0 0.0 0.005]\n",
    "f = [0.0, 0.0, -0.0122625, 0.0, 0.0, -0.4905]\n",
    "function discrete_dynamics(p::NamedTuple,x,u,k)\n",
    "    A = [1.0 0.0 0.0 0.05 0.0 0.0; \n",
    "        0.0 1.0 0.0 0.0 0.05 0.0; \n",
    "        0.0 0.0 1.0 0.0 0.0 0.05; \n",
    "        0.0 0.0 0.0 1.0 0.0 0.0; \n",
    "        0.0 0.0 0.0 0.0 1.0 0.0; \n",
    "        0.0 0.0 0.0 0.0 0.0 1.0]\n",
    "    B = [0.000125 0.0 0.0; \n",
    "        0.0 0.000125 0.0;\n",
    "        0.0 0.0 0.000125; \n",
    "        0.005 0.0 0.0; \n",
    "        0.0 0.005 0.0; \n",
    "        0.0 0.0 0.005]\n",
    "    f = [0.0, 0.0, -0.0122625, 0.0, 0.0, -0.4905]\n",
    "    return A*x + B*u + f\n",
    "end\n",
    "function ineq_con_x(p,x)\n",
    "    [x-p.x_max;-x + p.x_min]\n",
    "end\n",
    "function ineq_con_u(p,u)\n",
    "    [u-p.u_max;-u + p.u_min]\n",
    "end\n",
    "function cone_u(p, u)\n",
    "    [p.A_cone*u;p.c_cone'*u]\n",
    "end\n",
    "function cone_u_jac(p, u)\n",
    "    J = zeros(p.nu, p.nu)\n",
    "    J[1:end-1,1:end] .= p.A_cone\n",
    "    J[end,1:end] .= p.c_cone\n",
    "    return J\n",
    "end\n",
    "function ineq_con_u_jac(params,u)\n",
    "    ForwardDiff.jacobian(_u -> ineq_con_u(params,_u), u)\n",
    "end\n",
    "function ineq_con_x_jac(p,x)\n",
    "    ForwardDiff.jacobian(_x -> ineq_con_x(p,_x),x)\n",
    "end\n",
    "function projection(x)\n",
    "    n = length(x)\n",
    "    s = x[end]\n",
    "    v = view(x,1:n-1)\n",
    "    a = norm(v)\n",
    "    if a <= -s  # below the cone\n",
    "        return zero(x)\n",
    "    elseif a <= s  # in the code\n",
    "        return x\n",
    "    elseif a >= abs(s)  # outside the cone\n",
    "        return 0.5 * (1 + s/a) * [v; a] \n",
    "    end\n",
    "end\n",
    "function ∇projection(x)\n",
    "    n = length(x)\n",
    "    J = zeros(eltype(x),n,n)\n",
    "    s = x[end]\n",
    "    v = view(x,1:n-1)\n",
    "    a = norm(v)\n",
    "    if a <= -s\n",
    "        return J  # zeros\n",
    "    elseif a <= s\n",
    "        J .= I(n)  \n",
    "        return J  # identity\n",
    "    elseif a >= abs(s)\n",
    "        c = 0.5 * (1 + s/a)\n",
    "\n",
    "        # dvdv ok!\n",
    "        for i = 1:n-1, j = 1:n-1\n",
    "            J[i,j] = -0.5*s/a^3 * v[i] * v[j]\n",
    "            if i == j\n",
    "                J[i,j] += c\n",
    "            end\n",
    "        end\n",
    "\n",
    "        # dvds ok!\n",
    "        for i = 1:n-1\n",
    "            J[i,n] = 0.5 * v[i] / a\n",
    "        end\n",
    "\n",
    "        # dsdv ok!\n",
    "        for i = 1:n-1\n",
    "            J[n,i] = ((-0.5*s/a^2) + c/a) * v[i]\n",
    "        end\n",
    "        J[n,n] = 0.5  # ok\n",
    "        return J\n",
    "    else\n",
    "        error(\"Invalid second-order cone projection.\")\n",
    "    end\n",
    "    return J\n",
    "end\n",
    "function ∇²projection(x, b)\n",
    "    # x is lamda_bar, b is projection(lambda_bar)\n",
    "    n = length(x)\n",
    "    hess = zeros(eltype(x),n,n)\n",
    "    v = view(x, 1:n-1)\n",
    "    bv = view(b, 1:n-1)\n",
    "\n",
    "    # @assert size(hess) == (n+1,n+1)\n",
    "    s = x[end]\n",
    "    bs = b[end]\n",
    "    a =  norm(v)\n",
    "    vbv = dot(v,bv)\n",
    "\n",
    "    if a <= -s\n",
    "        return hess .= 0\n",
    "    elseif a <= s\n",
    "        return hess .= 0\n",
    "    elseif a > abs(s)\n",
    "        # Original equations from chain rule\n",
    "        # dvdv = -s/norm(v)^2/norm(v)*(I - (v*v')/(v'v))*bv*v' + \n",
    "        #     s/norm(v)*((v*(v'bv))/(v'v)^2 * 2v' - (I*(v'bv) + v*bv')/(v'v)) + \n",
    "        #     bs/norm(v)*(I - (v*v')/(v'v))\n",
    "        # dvds = 1/norm(v)*(I - (v*v')/(v'v))*bv;\n",
    "        # # display(dvds)\n",
    "        # # display(dvdv)\n",
    "        # hess[1:n-1,1:n-1] .= dvdv*0.5\n",
    "        # hess[1:n-1,n] .= dvds*0.5\n",
    "        # hess[n:n,1:n-1] .= 0.5*dvds'\n",
    "        # hess[n,n] = 0\n",
    "        # return hess\n",
    "\n",
    "        # The following is just an unrolled version of the above\n",
    "        n = n - 1\n",
    "        dvdv = view(hess, 1:n, 1:n)\n",
    "        dvds = view(hess, 1:n, n+1)\n",
    "        dsdv = view(hess, n+1, 1:n)\n",
    "        @inbounds for i = 1:n\n",
    "            hi = 0\n",
    "            @inbounds for j = 1:n\n",
    "                Hij = -v[i]*v[j] / a^2\n",
    "                if i == j\n",
    "                    Hij += 1\n",
    "                end\n",
    "                hi += Hij * bv[j]\n",
    "            end\n",
    "            dvds[i] = hi / 2a\n",
    "            dsdv[i] = dvds[i]\n",
    "            @inbounds for j = 1:i\n",
    "                vij = v[i] * v[j]\n",
    "                H1 = hi * v[j] * (-s/a^3)\n",
    "                H2 = vij * (2*vbv) / a^4 - v[i] * bv[j] / a^2\n",
    "                H3 = -vij / a^2\n",
    "                if i == j\n",
    "                    H2 -= vbv / a^2\n",
    "                    H3 += 1\n",
    "                end\n",
    "                H2 *= s/a\n",
    "                H3 *= bs/a\n",
    "                dvdv[i,j] = (H1 + H2 + H3) / 2\n",
    "                dvdv[j,i] = dvdv[i,j]\n",
    "            end\n",
    "        end\n",
    "        hess[end,end] = 0\n",
    "        return hess\n",
    "    else\n",
    "        throw(ErrorException(\"Invalid second-order cone projection\"))\n",
    "    end\n",
    "end"
   ]
  },
  {
   "cell_type": "code",
   "execution_count": 98,
   "id": "f4edd7a6-7756-43ee-a37b-f91abdd18650",
   "metadata": {},
   "outputs": [
    {
     "name": "stdout",
     "output_type": "stream",
     "text": [
      "iter     J           ΔJ        |d|         α        reg         ρ\n",
      "---------------------------------------------------------------------\n",
      "  1    0.000e+00   2.00e+06   0.00e+00  0.0000    1.00e-08    1.00e-02\n",
      "update cone\n",
      "convio = 137.18148179655225\n",
      "  2    0.000e+00   2.01e+06   0.00e+00  0.0000    1.00e-08    1.00e-01\n",
      "update cone\n",
      "convio = 136.48708674546478\n",
      "  3    0.000e+00   2.06e+06   0.00e+00  0.0000    1.00e-08    1.00e+00\n",
      "update cone\n",
      "convio = 129.9019772807388\n",
      "  4    0.000e+00   2.47e+06   0.00e+00  0.0000    1.00e-08    1.00e+01\n",
      "update cone\n",
      "convio = 87.21024721854657\n",
      "  5    0.000e+00   3.62e+06   0.00e+00  0.0000    1.00e-08    1.00e+02\n",
      "update cone\n",
      "convio = 29.369243118036895\n",
      "  6    0.000e+00   4.06e+06   0.00e+00  0.0000    1.00e-08    1.00e+03\n",
      "update cone\n",
      "convio = 12.491748512491622\n",
      "  7    0.000e+00   5.66e+06   0.00e+00  0.0000    1.00e-08    1.00e+04\n",
      "update cone\n",
      "convio = 2.3079097480589104\n",
      "  8    0.000e+00   2.65e+07   0.00e+00  0.0000    1.00e-08    1.00e+05\n",
      "update cone\n",
      "convio = 0.5958360534002638\n",
      "  9    0.000e+00   2.36e+08   0.00e+00  0.0000    1.00e-08    1.00e+06\n",
      "update cone\n",
      "convio = 0.5569555035381083\n",
      " 10    0.000e+00   2.34e+09   0.00e+00  0.0000    1.00e-08    1.00e+07\n",
      "update cone\n",
      "convio = 0.5279003485518211\n",
      "iter     J           ΔJ        |d|         α        reg         ρ\n",
      "---------------------------------------------------------------------\n",
      " 11    0.000e+00   2.34e+10   0.00e+00  0.0000    1.00e-08    1.00e+08\n",
      "update cone\n",
      "convio = 0.5062187241238275\n",
      "Our solver reachs MAX PENALTY\n"
     ]
    },
    {
     "data": {
      "image/svg+xml": "<?xml version=\"1.0\" encoding=\"utf-8\"?>\n<svg xmlns=\"http://www.w3.org/2000/svg\" xmlns:xlink=\"http://www.w3.org/1999/xlink\" width=\"600\" height=\"400\" viewBox=\"0 0 2400 1600\">\n<defs>\n  <clipPath id=\"clip190\">\n    <rect x=\"0\" y=\"0\" width=\"2400\" height=\"1600\"/>\n  </clipPath>\n</defs>\n<path clip-path=\"url(#clip190)\" d=\"M0 1600 L2400 1600 L2400 0 L0 0  Z\" fill=\"#ffffff\" fill-rule=\"evenodd\" fill-opacity=\"1\"/>\n<defs>\n  <clipPath id=\"clip191\">\n    <rect x=\"480\" y=\"0\" width=\"1681\" height=\"1600\"/>\n  </clipPath>\n</defs>\n<path clip-path=\"url(#clip190)\" d=\"M210.977 1423.18 L2352.76 1423.18 L2352.76 123.472 L210.977 123.472  Z\" fill=\"#ffffff\" fill-rule=\"evenodd\" fill-opacity=\"1\"/>\n<defs>\n  <clipPath id=\"clip192\">\n    <rect x=\"210\" y=\"123\" width=\"2143\" height=\"1301\"/>\n  </clipPath>\n</defs>\n<polyline clip-path=\"url(#clip192)\" style=\"stroke:#000000; stroke-linecap:round; stroke-linejoin:round; stroke-width:2; stroke-opacity:0.1; fill:none\" points=\"271.594,1423.18 271.594,123.472 \"/>\n<polyline clip-path=\"url(#clip192)\" style=\"stroke:#000000; stroke-linecap:round; stroke-linejoin:round; stroke-width:2; stroke-opacity:0.1; fill:none\" points=\"945.109,1423.18 945.109,123.472 \"/>\n<polyline clip-path=\"url(#clip192)\" style=\"stroke:#000000; stroke-linecap:round; stroke-linejoin:round; stroke-width:2; stroke-opacity:0.1; fill:none\" points=\"1618.62,1423.18 1618.62,123.472 \"/>\n<polyline clip-path=\"url(#clip192)\" style=\"stroke:#000000; stroke-linecap:round; stroke-linejoin:round; stroke-width:2; stroke-opacity:0.1; fill:none\" points=\"2292.14,1423.18 2292.14,123.472 \"/>\n<polyline clip-path=\"url(#clip190)\" style=\"stroke:#000000; stroke-linecap:round; stroke-linejoin:round; stroke-width:4; stroke-opacity:1; fill:none\" points=\"210.977,1423.18 2352.76,1423.18 \"/>\n<polyline clip-path=\"url(#clip190)\" style=\"stroke:#000000; stroke-linecap:round; stroke-linejoin:round; stroke-width:4; stroke-opacity:1; fill:none\" points=\"271.594,1423.18 271.594,1404.28 \"/>\n<polyline clip-path=\"url(#clip190)\" style=\"stroke:#000000; stroke-linecap:round; stroke-linejoin:round; stroke-width:4; stroke-opacity:1; fill:none\" points=\"945.109,1423.18 945.109,1404.28 \"/>\n<polyline clip-path=\"url(#clip190)\" style=\"stroke:#000000; stroke-linecap:round; stroke-linejoin:round; stroke-width:4; stroke-opacity:1; fill:none\" points=\"1618.62,1423.18 1618.62,1404.28 \"/>\n<polyline clip-path=\"url(#clip190)\" style=\"stroke:#000000; stroke-linecap:round; stroke-linejoin:round; stroke-width:4; stroke-opacity:1; fill:none\" points=\"2292.14,1423.18 2292.14,1404.28 \"/>\n<path clip-path=\"url(#clip190)\" d=\"M271.594 1454.1 Q267.983 1454.1 266.154 1457.66 Q264.348 1461.2 264.348 1468.33 Q264.348 1475.44 266.154 1479.01 Q267.983 1482.55 271.594 1482.55 Q275.228 1482.55 277.034 1479.01 Q278.862 1475.44 278.862 1468.33 Q278.862 1461.2 277.034 1457.66 Q275.228 1454.1 271.594 1454.1 M271.594 1450.39 Q277.404 1450.39 280.459 1455 Q283.538 1459.58 283.538 1468.33 Q283.538 1477.06 280.459 1481.67 Q277.404 1486.25 271.594 1486.25 Q265.784 1486.25 262.705 1481.67 Q259.649 1477.06 259.649 1468.33 Q259.649 1459.58 262.705 1455 Q265.784 1450.39 271.594 1450.39 Z\" fill=\"#000000\" fill-rule=\"evenodd\" fill-opacity=\"1\" /><path clip-path=\"url(#clip190)\" d=\"M935.387 1451.02 L953.743 1451.02 L953.743 1454.96 L939.669 1454.96 L939.669 1463.43 Q940.688 1463.08 941.706 1462.92 Q942.725 1462.73 943.743 1462.73 Q949.53 1462.73 952.91 1465.9 Q956.29 1469.08 956.29 1474.49 Q956.29 1480.07 952.817 1483.17 Q949.345 1486.25 943.026 1486.25 Q940.85 1486.25 938.581 1485.88 Q936.336 1485.51 933.929 1484.77 L933.929 1480.07 Q936.012 1481.2 938.234 1481.76 Q940.456 1482.32 942.933 1482.32 Q946.938 1482.32 949.276 1480.21 Q951.614 1478.1 951.614 1474.49 Q951.614 1470.88 949.276 1468.77 Q946.938 1466.67 942.933 1466.67 Q941.058 1466.67 939.183 1467.08 Q937.331 1467.5 935.387 1468.38 L935.387 1451.02 Z\" fill=\"#000000\" fill-rule=\"evenodd\" fill-opacity=\"1\" /><path clip-path=\"url(#clip190)\" d=\"M1593.31 1481.64 L1600.95 1481.64 L1600.95 1455.28 L1592.64 1456.95 L1592.64 1452.69 L1600.9 1451.02 L1605.58 1451.02 L1605.58 1481.64 L1613.22 1481.64 L1613.22 1485.58 L1593.31 1485.58 L1593.31 1481.64 Z\" fill=\"#000000\" fill-rule=\"evenodd\" fill-opacity=\"1\" /><path clip-path=\"url(#clip190)\" d=\"M1632.66 1454.1 Q1629.05 1454.1 1627.22 1457.66 Q1625.42 1461.2 1625.42 1468.33 Q1625.42 1475.44 1627.22 1479.01 Q1629.05 1482.55 1632.66 1482.55 Q1636.3 1482.55 1638.1 1479.01 Q1639.93 1475.44 1639.93 1468.33 Q1639.93 1461.2 1638.1 1457.66 Q1636.3 1454.1 1632.66 1454.1 M1632.66 1450.39 Q1638.47 1450.39 1641.53 1455 Q1644.61 1459.58 1644.61 1468.33 Q1644.61 1477.06 1641.53 1481.67 Q1638.47 1486.25 1632.66 1486.25 Q1626.85 1486.25 1623.77 1481.67 Q1620.72 1477.06 1620.72 1468.33 Q1620.72 1459.58 1623.77 1455 Q1626.85 1450.39 1632.66 1450.39 Z\" fill=\"#000000\" fill-rule=\"evenodd\" fill-opacity=\"1\" /><path clip-path=\"url(#clip190)\" d=\"M2267.32 1481.64 L2274.96 1481.64 L2274.96 1455.28 L2266.65 1456.95 L2266.65 1452.69 L2274.92 1451.02 L2279.59 1451.02 L2279.59 1481.64 L2287.23 1481.64 L2287.23 1485.58 L2267.32 1485.58 L2267.32 1481.64 Z\" fill=\"#000000\" fill-rule=\"evenodd\" fill-opacity=\"1\" /><path clip-path=\"url(#clip190)\" d=\"M2296.72 1451.02 L2315.08 1451.02 L2315.08 1454.96 L2301.01 1454.96 L2301.01 1463.43 Q2302.02 1463.08 2303.04 1462.92 Q2304.06 1462.73 2305.08 1462.73 Q2310.87 1462.73 2314.25 1465.9 Q2317.63 1469.08 2317.63 1474.49 Q2317.63 1480.07 2314.15 1483.17 Q2310.68 1486.25 2304.36 1486.25 Q2302.19 1486.25 2299.92 1485.88 Q2297.67 1485.51 2295.26 1484.77 L2295.26 1480.07 Q2297.35 1481.2 2299.57 1481.76 Q2301.79 1482.32 2304.27 1482.32 Q2308.27 1482.32 2310.61 1480.21 Q2312.95 1478.1 2312.95 1474.49 Q2312.95 1470.88 2310.61 1468.77 Q2308.27 1466.67 2304.27 1466.67 Q2302.39 1466.67 2300.52 1467.08 Q2298.67 1467.5 2296.72 1468.38 L2296.72 1451.02 Z\" fill=\"#000000\" fill-rule=\"evenodd\" fill-opacity=\"1\" /><path clip-path=\"url(#clip190)\" d=\"M1169.32 1522.27 L1169.32 1532.4 L1181.38 1532.4 L1181.38 1536.95 L1169.32 1536.95 L1169.32 1556.3 Q1169.32 1560.66 1170.5 1561.9 Q1171.71 1563.14 1175.37 1563.14 L1181.38 1563.14 L1181.38 1568.04 L1175.37 1568.04 Q1168.59 1568.04 1166.01 1565.53 Q1163.43 1562.98 1163.43 1556.3 L1163.43 1536.95 L1159.14 1536.95 L1159.14 1532.4 L1163.43 1532.4 L1163.43 1522.27 L1169.32 1522.27 Z\" fill=\"#000000\" fill-rule=\"evenodd\" fill-opacity=\"1\" /><path clip-path=\"url(#clip190)\" d=\"M1189.09 1532.4 L1194.94 1532.4 L1194.94 1568.04 L1189.09 1568.04 L1189.09 1532.4 M1189.09 1518.52 L1194.94 1518.52 L1194.94 1525.93 L1189.09 1525.93 L1189.09 1518.52 Z\" fill=\"#000000\" fill-rule=\"evenodd\" fill-opacity=\"1\" /><path clip-path=\"url(#clip190)\" d=\"M1234.95 1539.24 Q1237.15 1535.29 1240.2 1533.41 Q1243.26 1531.54 1247.4 1531.54 Q1252.97 1531.54 1255.99 1535.45 Q1259.01 1539.33 1259.01 1546.53 L1259.01 1568.04 L1253.13 1568.04 L1253.13 1546.72 Q1253.13 1541.59 1251.31 1539.11 Q1249.5 1536.63 1245.77 1536.63 Q1241.22 1536.63 1238.58 1539.65 Q1235.94 1542.68 1235.94 1547.9 L1235.94 1568.04 L1230.05 1568.04 L1230.05 1546.72 Q1230.05 1541.56 1228.24 1539.11 Q1226.42 1536.63 1222.63 1536.63 Q1218.15 1536.63 1215.5 1539.68 Q1212.86 1542.71 1212.86 1547.9 L1212.86 1568.04 L1206.97 1568.04 L1206.97 1532.4 L1212.86 1532.4 L1212.86 1537.93 Q1214.87 1534.66 1217.67 1533.1 Q1220.47 1531.54 1224.32 1531.54 Q1228.2 1531.54 1230.91 1533.51 Q1233.65 1535.48 1234.95 1539.24 Z\" fill=\"#000000\" fill-rule=\"evenodd\" fill-opacity=\"1\" /><path clip-path=\"url(#clip190)\" d=\"M1301.19 1548.76 L1301.19 1551.62 L1274.26 1551.62 Q1274.64 1557.67 1277.89 1560.85 Q1281.17 1564 1286.99 1564 Q1290.36 1564 1293.52 1563.17 Q1296.7 1562.35 1299.82 1560.69 L1299.82 1566.23 Q1296.67 1567.57 1293.36 1568.27 Q1290.05 1568.97 1286.64 1568.97 Q1278.11 1568.97 1273.11 1564 Q1268.15 1559.04 1268.15 1550.57 Q1268.15 1541.82 1272.86 1536.69 Q1277.6 1531.54 1285.62 1531.54 Q1292.82 1531.54 1296.99 1536.18 Q1301.19 1540.8 1301.19 1548.76 M1295.33 1547.04 Q1295.27 1542.23 1292.62 1539.37 Q1290.01 1536.5 1285.69 1536.5 Q1280.78 1536.5 1277.82 1539.27 Q1274.9 1542.04 1274.45 1547.07 L1295.33 1547.04 Z\" fill=\"#000000\" fill-rule=\"evenodd\" fill-opacity=\"1\" /><path clip-path=\"url(#clip190)\" d=\"M1345.59 1518.58 Q1341.32 1525.9 1339.25 1533.06 Q1337.18 1540.23 1337.18 1547.58 Q1337.18 1554.93 1339.25 1562.16 Q1341.35 1569.35 1345.59 1576.64 L1340.49 1576.64 Q1335.72 1569.16 1333.33 1561.93 Q1330.98 1554.71 1330.98 1547.58 Q1330.98 1540.48 1333.33 1533.29 Q1335.69 1526.09 1340.49 1518.58 L1345.59 1518.58 Z\" fill=\"#000000\" fill-rule=\"evenodd\" fill-opacity=\"1\" /><path clip-path=\"url(#clip190)\" d=\"M1379.68 1533.45 L1379.68 1538.98 Q1377.19 1537.71 1374.52 1537.07 Q1371.85 1536.44 1368.98 1536.44 Q1364.62 1536.44 1362.42 1537.77 Q1360.26 1539.11 1360.26 1541.79 Q1360.26 1543.82 1361.82 1545 Q1363.38 1546.15 1368.09 1547.2 L1370.1 1547.64 Q1376.33 1548.98 1378.94 1551.43 Q1381.59 1553.85 1381.59 1558.21 Q1381.59 1563.17 1377.64 1566.07 Q1373.72 1568.97 1366.85 1568.97 Q1363.98 1568.97 1360.87 1568.39 Q1357.78 1567.85 1354.34 1566.74 L1354.34 1560.69 Q1357.59 1562.38 1360.74 1563.24 Q1363.89 1564.07 1366.98 1564.07 Q1371.11 1564.07 1373.34 1562.66 Q1375.57 1561.23 1375.57 1558.65 Q1375.57 1556.27 1373.95 1554.99 Q1372.36 1553.72 1366.91 1552.54 L1364.88 1552.07 Q1359.43 1550.92 1357.01 1548.56 Q1354.59 1546.18 1354.59 1542.04 Q1354.59 1537.01 1358.16 1534.27 Q1361.72 1531.54 1368.28 1531.54 Q1371.53 1531.54 1374.39 1532.01 Q1377.26 1532.49 1379.68 1533.45 Z\" fill=\"#000000\" fill-rule=\"evenodd\" fill-opacity=\"1\" /><path clip-path=\"url(#clip190)\" d=\"M1389.99 1518.58 L1395.08 1518.58 Q1399.86 1526.09 1402.21 1533.29 Q1404.6 1540.48 1404.6 1547.58 Q1404.6 1554.71 1402.21 1561.93 Q1399.86 1569.16 1395.08 1576.64 L1389.99 1576.64 Q1394.22 1569.35 1396.29 1562.16 Q1398.39 1554.93 1398.39 1547.58 Q1398.39 1540.23 1396.29 1533.06 Q1394.22 1525.9 1389.99 1518.58 Z\" fill=\"#000000\" fill-rule=\"evenodd\" fill-opacity=\"1\" /><polyline clip-path=\"url(#clip192)\" style=\"stroke:#000000; stroke-linecap:round; stroke-linejoin:round; stroke-width:2; stroke-opacity:0.1; fill:none\" points=\"210.977,1386.4 2352.76,1386.4 \"/>\n<polyline clip-path=\"url(#clip192)\" style=\"stroke:#000000; stroke-linecap:round; stroke-linejoin:round; stroke-width:2; stroke-opacity:0.1; fill:none\" points=\"210.977,1141.17 2352.76,1141.17 \"/>\n<polyline clip-path=\"url(#clip192)\" style=\"stroke:#000000; stroke-linecap:round; stroke-linejoin:round; stroke-width:2; stroke-opacity:0.1; fill:none\" points=\"210.977,895.94 2352.76,895.94 \"/>\n<polyline clip-path=\"url(#clip192)\" style=\"stroke:#000000; stroke-linecap:round; stroke-linejoin:round; stroke-width:2; stroke-opacity:0.1; fill:none\" points=\"210.977,650.712 2352.76,650.712 \"/>\n<polyline clip-path=\"url(#clip192)\" style=\"stroke:#000000; stroke-linecap:round; stroke-linejoin:round; stroke-width:2; stroke-opacity:0.1; fill:none\" points=\"210.977,405.484 2352.76,405.484 \"/>\n<polyline clip-path=\"url(#clip192)\" style=\"stroke:#000000; stroke-linecap:round; stroke-linejoin:round; stroke-width:2; stroke-opacity:0.1; fill:none\" points=\"210.977,160.256 2352.76,160.256 \"/>\n<polyline clip-path=\"url(#clip190)\" style=\"stroke:#000000; stroke-linecap:round; stroke-linejoin:round; stroke-width:4; stroke-opacity:1; fill:none\" points=\"210.977,1423.18 210.977,123.472 \"/>\n<polyline clip-path=\"url(#clip190)\" style=\"stroke:#000000; stroke-linecap:round; stroke-linejoin:round; stroke-width:4; stroke-opacity:1; fill:none\" points=\"210.977,1386.4 229.875,1386.4 \"/>\n<polyline clip-path=\"url(#clip190)\" style=\"stroke:#000000; stroke-linecap:round; stroke-linejoin:round; stroke-width:4; stroke-opacity:1; fill:none\" points=\"210.977,1141.17 229.875,1141.17 \"/>\n<polyline clip-path=\"url(#clip190)\" style=\"stroke:#000000; stroke-linecap:round; stroke-linejoin:round; stroke-width:4; stroke-opacity:1; fill:none\" points=\"210.977,895.94 229.875,895.94 \"/>\n<polyline clip-path=\"url(#clip190)\" style=\"stroke:#000000; stroke-linecap:round; stroke-linejoin:round; stroke-width:4; stroke-opacity:1; fill:none\" points=\"210.977,650.712 229.875,650.712 \"/>\n<polyline clip-path=\"url(#clip190)\" style=\"stroke:#000000; stroke-linecap:round; stroke-linejoin:round; stroke-width:4; stroke-opacity:1; fill:none\" points=\"210.977,405.484 229.875,405.484 \"/>\n<polyline clip-path=\"url(#clip190)\" style=\"stroke:#000000; stroke-linecap:round; stroke-linejoin:round; stroke-width:4; stroke-opacity:1; fill:none\" points=\"210.977,160.256 229.875,160.256 \"/>\n<path clip-path=\"url(#clip190)\" d=\"M114.26 1386.85 L143.936 1386.85 L143.936 1390.78 L114.26 1390.78 L114.26 1386.85 Z\" fill=\"#000000\" fill-rule=\"evenodd\" fill-opacity=\"1\" /><path clip-path=\"url(#clip190)\" d=\"M154.075 1369.12 L172.431 1369.12 L172.431 1373.05 L158.357 1373.05 L158.357 1381.52 Q159.376 1381.18 160.394 1381.01 Q161.413 1380.83 162.431 1380.83 Q168.218 1380.83 171.598 1384 Q174.977 1387.17 174.977 1392.59 Q174.977 1398.17 171.505 1401.27 Q168.033 1404.35 161.714 1404.35 Q159.538 1404.35 157.269 1403.98 Q155.024 1403.61 152.616 1402.87 L152.616 1398.17 Q154.7 1399.3 156.922 1399.86 Q159.144 1400.41 161.621 1400.41 Q165.626 1400.41 167.964 1398.31 Q170.302 1396.2 170.302 1392.59 Q170.302 1388.98 167.964 1386.87 Q165.626 1384.76 161.621 1384.76 Q159.746 1384.76 157.871 1385.18 Q156.019 1385.6 154.075 1386.48 L154.075 1369.12 Z\" fill=\"#000000\" fill-rule=\"evenodd\" fill-opacity=\"1\" /><path clip-path=\"url(#clip190)\" d=\"M163.033 1126.97 Q159.422 1126.97 157.593 1130.53 Q155.788 1134.07 155.788 1141.2 Q155.788 1148.31 157.593 1151.87 Q159.422 1155.42 163.033 1155.42 Q166.667 1155.42 168.473 1151.87 Q170.302 1148.31 170.302 1141.2 Q170.302 1134.07 168.473 1130.53 Q166.667 1126.97 163.033 1126.97 M163.033 1123.26 Q168.843 1123.26 171.899 1127.87 Q174.977 1132.45 174.977 1141.2 Q174.977 1149.93 171.899 1154.54 Q168.843 1159.12 163.033 1159.12 Q157.223 1159.12 154.144 1154.54 Q151.089 1149.93 151.089 1141.2 Q151.089 1132.45 154.144 1127.87 Q157.223 1123.26 163.033 1123.26 Z\" fill=\"#000000\" fill-rule=\"evenodd\" fill-opacity=\"1\" /><path clip-path=\"url(#clip190)\" d=\"M154.075 878.66 L172.431 878.66 L172.431 882.595 L158.357 882.595 L158.357 891.067 Q159.376 890.72 160.394 890.558 Q161.413 890.373 162.431 890.373 Q168.218 890.373 171.598 893.544 Q174.977 896.715 174.977 902.132 Q174.977 907.711 171.505 910.813 Q168.033 913.891 161.714 913.891 Q159.538 913.891 157.269 913.521 Q155.024 913.15 152.616 912.41 L152.616 907.711 Q154.7 908.845 156.922 909.4 Q159.144 909.956 161.621 909.956 Q165.626 909.956 167.964 907.85 Q170.302 905.743 170.302 902.132 Q170.302 898.521 167.964 896.414 Q165.626 894.308 161.621 894.308 Q159.746 894.308 157.871 894.725 Q156.019 895.141 154.075 896.021 L154.075 878.66 Z\" fill=\"#000000\" fill-rule=\"evenodd\" fill-opacity=\"1\" /><path clip-path=\"url(#clip190)\" d=\"M123.681 664.057 L131.32 664.057 L131.32 637.691 L123.01 639.358 L123.01 635.099 L131.274 633.432 L135.95 633.432 L135.95 664.057 L143.589 664.057 L143.589 667.992 L123.681 667.992 L123.681 664.057 Z\" fill=\"#000000\" fill-rule=\"evenodd\" fill-opacity=\"1\" /><path clip-path=\"url(#clip190)\" d=\"M163.033 636.511 Q159.422 636.511 157.593 640.076 Q155.788 643.617 155.788 650.747 Q155.788 657.853 157.593 661.418 Q159.422 664.96 163.033 664.96 Q166.667 664.96 168.473 661.418 Q170.302 657.853 170.302 650.747 Q170.302 643.617 168.473 640.076 Q166.667 636.511 163.033 636.511 M163.033 632.807 Q168.843 632.807 171.899 637.414 Q174.977 641.997 174.977 650.747 Q174.977 659.474 171.899 664.08 Q168.843 668.663 163.033 668.663 Q157.223 668.663 154.144 664.08 Q151.089 659.474 151.089 650.747 Q151.089 641.997 154.144 637.414 Q157.223 632.807 163.033 632.807 Z\" fill=\"#000000\" fill-rule=\"evenodd\" fill-opacity=\"1\" /><path clip-path=\"url(#clip190)\" d=\"M124.677 418.829 L132.316 418.829 L132.316 392.463 L124.005 394.13 L124.005 389.871 L132.269 388.204 L136.945 388.204 L136.945 418.829 L144.584 418.829 L144.584 422.764 L124.677 422.764 L124.677 418.829 Z\" fill=\"#000000\" fill-rule=\"evenodd\" fill-opacity=\"1\" /><path clip-path=\"url(#clip190)\" d=\"M154.075 388.204 L172.431 388.204 L172.431 392.139 L158.357 392.139 L158.357 400.612 Q159.376 400.264 160.394 400.102 Q161.413 399.917 162.431 399.917 Q168.218 399.917 171.598 403.088 Q174.977 406.26 174.977 411.676 Q174.977 417.255 171.505 420.357 Q168.033 423.435 161.714 423.435 Q159.538 423.435 157.269 423.065 Q155.024 422.695 152.616 421.954 L152.616 417.255 Q154.7 418.389 156.922 418.945 Q159.144 419.5 161.621 419.5 Q165.626 419.5 167.964 417.394 Q170.302 415.287 170.302 411.676 Q170.302 408.065 167.964 405.959 Q165.626 403.852 161.621 403.852 Q159.746 403.852 157.871 404.269 Q156.019 404.686 154.075 405.565 L154.075 388.204 Z\" fill=\"#000000\" fill-rule=\"evenodd\" fill-opacity=\"1\" /><path clip-path=\"url(#clip190)\" d=\"M126.899 173.601 L143.218 173.601 L143.218 177.536 L121.274 177.536 L121.274 173.601 Q123.936 170.847 128.519 166.217 Q133.126 161.564 134.306 160.222 Q136.552 157.698 137.431 155.962 Q138.334 154.203 138.334 152.513 Q138.334 149.759 136.39 148.023 Q134.468 146.286 131.367 146.286 Q129.167 146.286 126.714 147.05 Q124.283 147.814 121.505 149.365 L121.505 144.643 Q124.33 143.509 126.783 142.93 Q129.237 142.351 131.274 142.351 Q136.644 142.351 139.839 145.036 Q143.033 147.722 143.033 152.212 Q143.033 154.342 142.223 156.263 Q141.436 158.161 139.329 160.754 Q138.751 161.425 135.649 164.643 Q132.547 167.837 126.899 173.601 Z\" fill=\"#000000\" fill-rule=\"evenodd\" fill-opacity=\"1\" /><path clip-path=\"url(#clip190)\" d=\"M163.033 146.055 Q159.422 146.055 157.593 149.62 Q155.788 153.161 155.788 160.291 Q155.788 167.397 157.593 170.962 Q159.422 174.504 163.033 174.504 Q166.667 174.504 168.473 170.962 Q170.302 167.397 170.302 160.291 Q170.302 153.161 168.473 149.62 Q166.667 146.055 163.033 146.055 M163.033 142.351 Q168.843 142.351 171.899 146.958 Q174.977 151.541 174.977 160.291 Q174.977 169.018 171.899 173.624 Q168.843 178.208 163.033 178.208 Q157.223 178.208 154.144 173.624 Q151.089 169.018 151.089 160.291 Q151.089 151.541 154.144 146.958 Q157.223 142.351 163.033 142.351 Z\" fill=\"#000000\" fill-rule=\"evenodd\" fill-opacity=\"1\" /><path clip-path=\"url(#clip190)\" d=\"M28.3562 756.711 L45.7028 769.602 L64.0042 756.043 L64.0042 762.95 L49.9996 773.326 L64.0042 783.702 L64.0042 790.609 L45.3526 776.763 L28.3562 789.431 L28.3562 782.524 L41.0558 773.071 L28.3562 763.618 L28.3562 756.711 Z\" fill=\"#000000\" fill-rule=\"evenodd\" fill-opacity=\"1\" /><path clip-path=\"url(#clip190)\" d=\"M1054.21 14.0809 L1054.21 22.0612 Q1049.55 19.8332 1045.42 18.7395 Q1041.28 17.6457 1037.44 17.6457 Q1030.75 17.6457 1027.11 20.2383 Q1023.5 22.8309 1023.5 27.611 Q1023.5 31.6214 1025.89 33.6873 Q1028.32 35.7128 1035.05 36.9686 L1039.99 37.9813 Q1049.14 39.7232 1053.48 44.1387 Q1057.85 48.5136 1057.85 55.8863 Q1057.85 64.6767 1051.94 69.2137 Q1046.06 73.7508 1034.68 73.7508 Q1030.39 73.7508 1025.53 72.7785 Q1020.7 71.8063 1015.52 69.9024 L1015.52 61.4765 Q1020.5 64.2716 1025.28 65.6895 Q1030.06 67.1073 1034.68 67.1073 Q1041.69 67.1073 1045.5 64.3527 Q1049.3 61.598 1049.3 56.4939 Q1049.3 52.0379 1046.55 49.5264 Q1043.84 47.0148 1037.6 45.759 L1032.61 44.7868 Q1023.46 42.9639 1019.37 39.075 Q1015.28 35.1862 1015.28 28.2591 Q1015.28 20.2383 1020.91 15.6203 Q1026.58 11.0023 1036.5 11.0023 Q1040.76 11.0023 1045.17 11.7719 Q1049.59 12.5416 1054.21 14.0809 Z\" fill=\"#000000\" fill-rule=\"evenodd\" fill-opacity=\"1\" /><path clip-path=\"url(#clip190)\" d=\"M1077.66 14.324 L1077.66 27.2059 L1093.01 27.2059 L1093.01 32.9987 L1077.66 32.9987 L1077.66 57.6282 Q1077.66 63.1779 1079.16 64.7578 Q1080.7 66.3376 1085.36 66.3376 L1093.01 66.3376 L1093.01 72.576 L1085.36 72.576 Q1076.73 72.576 1073.45 69.3758 Q1070.17 66.1351 1070.17 57.6282 L1070.17 32.9987 L1064.7 32.9987 L1064.7 27.2059 L1070.17 27.2059 L1070.17 14.324 L1077.66 14.324 Z\" fill=\"#000000\" fill-rule=\"evenodd\" fill-opacity=\"1\" /><path clip-path=\"url(#clip190)\" d=\"M1123.44 49.7694 Q1114.4 49.7694 1110.92 51.8354 Q1107.43 53.9013 1107.43 58.8839 Q1107.43 62.8538 1110.03 65.2034 Q1112.66 67.5124 1117.16 67.5124 Q1123.35 67.5124 1127.08 63.1374 Q1130.85 58.7219 1130.85 51.4303 L1130.85 49.7694 L1123.44 49.7694 M1138.3 46.6907 L1138.3 72.576 L1130.85 72.576 L1130.85 65.6895 Q1128.3 69.8214 1124.49 71.8063 Q1120.68 73.7508 1115.17 73.7508 Q1108.2 73.7508 1104.07 69.8619 Q1099.98 65.9325 1099.98 59.3701 Q1099.98 51.7138 1105.09 47.825 Q1110.23 43.9361 1120.4 43.9361 L1130.85 43.9361 L1130.85 43.2069 Q1130.85 38.0623 1127.45 35.2672 Q1124.08 32.4315 1117.97 32.4315 Q1114.08 32.4315 1110.39 33.3632 Q1106.71 34.295 1103.3 36.1584 L1103.3 29.2718 Q1107.39 27.692 1111.24 26.9223 Q1115.09 26.1121 1118.74 26.1121 Q1128.58 26.1121 1133.44 31.2163 Q1138.3 36.3204 1138.3 46.6907 Z\" fill=\"#000000\" fill-rule=\"evenodd\" fill-opacity=\"1\" /><path clip-path=\"url(#clip190)\" d=\"M1161.03 14.324 L1161.03 27.2059 L1176.38 27.2059 L1176.38 32.9987 L1161.03 32.9987 L1161.03 57.6282 Q1161.03 63.1779 1162.53 64.7578 Q1164.07 66.3376 1168.72 66.3376 L1176.38 66.3376 L1176.38 72.576 L1168.72 72.576 Q1160.1 72.576 1156.82 69.3758 Q1153.53 66.1351 1153.53 57.6282 L1153.53 32.9987 L1148.07 32.9987 L1148.07 27.2059 L1153.53 27.2059 L1153.53 14.324 L1161.03 14.324 Z\" fill=\"#000000\" fill-rule=\"evenodd\" fill-opacity=\"1\" /><path clip-path=\"url(#clip190)\" d=\"M1224.99 48.0275 L1224.99 51.6733 L1190.72 51.6733 Q1191.21 59.3701 1195.34 63.421 Q1199.51 67.4314 1206.92 67.4314 Q1211.22 67.4314 1215.23 66.3781 Q1219.28 65.3249 1223.25 63.2184 L1223.25 70.267 Q1219.24 71.9684 1215.03 72.8596 Q1210.81 73.7508 1206.48 73.7508 Q1195.62 73.7508 1189.26 67.4314 Q1182.94 61.1119 1182.94 50.3365 Q1182.94 39.1965 1188.94 32.6746 Q1194.97 26.1121 1205.18 26.1121 Q1214.34 26.1121 1219.64 32.0264 Q1224.99 37.9003 1224.99 48.0275 M1217.54 45.84 Q1217.46 39.7232 1214.1 36.0774 Q1210.77 32.4315 1205.26 32.4315 Q1199.03 32.4315 1195.26 35.9558 Q1191.53 39.4801 1190.96 45.8805 L1217.54 45.84 Z\" fill=\"#000000\" fill-rule=\"evenodd\" fill-opacity=\"1\" /><path clip-path=\"url(#clip190)\" d=\"M1263.92 12.096 L1272.1 12.096 L1272.1 36.8875 L1301.84 36.8875 L1301.84 12.096 L1310.02 12.096 L1310.02 72.576 L1301.84 72.576 L1301.84 43.7741 L1272.1 43.7741 L1272.1 72.576 L1263.92 72.576 L1263.92 12.096 Z\" fill=\"#000000\" fill-rule=\"evenodd\" fill-opacity=\"1\" /><path clip-path=\"url(#clip190)\" d=\"M1325.98 27.2059 L1333.43 27.2059 L1333.43 72.576 L1325.98 72.576 L1325.98 27.2059 M1325.98 9.54393 L1333.43 9.54393 L1333.43 18.9825 L1325.98 18.9825 L1325.98 9.54393 Z\" fill=\"#000000\" fill-rule=\"evenodd\" fill-opacity=\"1\" /><path clip-path=\"url(#clip190)\" d=\"M1377.95 28.5427 L1377.95 35.5912 Q1374.79 33.9709 1371.39 33.1607 Q1367.99 32.3505 1364.34 32.3505 Q1358.79 32.3505 1356 34.0519 Q1353.24 35.7533 1353.24 39.156 Q1353.24 41.7486 1355.23 43.2475 Q1357.21 44.7058 1363.21 46.0426 L1365.76 46.6097 Q1373.7 48.3111 1377.02 51.4303 Q1380.38 54.509 1380.38 60.0587 Q1380.38 66.3781 1375.36 70.0644 Q1370.38 73.7508 1361.63 73.7508 Q1357.98 73.7508 1354.01 73.0216 Q1350.08 72.3329 1345.71 70.9151 L1345.71 63.2184 Q1349.84 65.3654 1353.85 66.4591 Q1357.86 67.5124 1361.79 67.5124 Q1367.06 67.5124 1369.89 65.73 Q1372.73 63.9071 1372.73 60.6258 Q1372.73 57.5877 1370.66 55.9673 Q1368.64 54.3469 1361.71 52.8481 L1359.12 52.2405 Q1352.19 50.7821 1349.11 47.7845 Q1346.03 44.7463 1346.03 39.4801 Q1346.03 33.0797 1350.57 29.5959 Q1355.11 26.1121 1363.45 26.1121 Q1367.58 26.1121 1371.23 26.7198 Q1374.88 27.3274 1377.95 28.5427 Z\" fill=\"#000000\" fill-rule=\"evenodd\" fill-opacity=\"1\" /><path clip-path=\"url(#clip190)\" d=\"M1399.63 14.324 L1399.63 27.2059 L1414.98 27.2059 L1414.98 32.9987 L1399.63 32.9987 L1399.63 57.6282 Q1399.63 63.1779 1401.13 64.7578 Q1402.66 66.3376 1407.32 66.3376 L1414.98 66.3376 L1414.98 72.576 L1407.32 72.576 Q1398.69 72.576 1395.41 69.3758 Q1392.13 66.1351 1392.13 57.6282 L1392.13 32.9987 L1386.66 32.9987 L1386.66 27.2059 L1392.13 27.2059 L1392.13 14.324 L1399.63 14.324 Z\" fill=\"#000000\" fill-rule=\"evenodd\" fill-opacity=\"1\" /><path clip-path=\"url(#clip190)\" d=\"M1442.36 32.4315 Q1436.37 32.4315 1432.88 37.1306 Q1429.4 41.7891 1429.4 49.9314 Q1429.4 58.0738 1432.84 62.7728 Q1436.33 67.4314 1442.36 67.4314 Q1448.32 67.4314 1451.8 62.7323 Q1455.29 58.0333 1455.29 49.9314 Q1455.29 41.8701 1451.8 37.1711 Q1448.32 32.4315 1442.36 32.4315 M1442.36 26.1121 Q1452.09 26.1121 1457.64 32.4315 Q1463.19 38.7509 1463.19 49.9314 Q1463.19 61.0714 1457.64 67.4314 Q1452.09 73.7508 1442.36 73.7508 Q1432.6 73.7508 1427.05 67.4314 Q1421.54 61.0714 1421.54 49.9314 Q1421.54 38.7509 1427.05 32.4315 Q1432.6 26.1121 1442.36 26.1121 Z\" fill=\"#000000\" fill-rule=\"evenodd\" fill-opacity=\"1\" /><path clip-path=\"url(#clip190)\" d=\"M1501.83 34.1734 Q1500.57 33.4443 1499.08 33.1202 Q1497.62 32.7556 1495.84 32.7556 Q1489.52 32.7556 1486.11 36.8875 Q1482.75 40.9789 1482.75 48.6757 L1482.75 72.576 L1475.26 72.576 L1475.26 27.2059 L1482.75 27.2059 L1482.75 34.2544 Q1485.1 30.1225 1488.87 28.1376 Q1492.64 26.1121 1498.02 26.1121 Q1498.79 26.1121 1499.72 26.2337 Q1500.66 26.3147 1501.79 26.5172 L1501.83 34.1734 Z\" fill=\"#000000\" fill-rule=\"evenodd\" fill-opacity=\"1\" /><path clip-path=\"url(#clip190)\" d=\"M1528.53 76.7889 Q1525.37 84.8907 1522.37 87.3618 Q1519.37 89.8329 1514.35 89.8329 L1508.39 89.8329 L1508.39 83.5945 L1512.77 83.5945 Q1515.85 83.5945 1517.55 82.1361 Q1519.25 80.6778 1521.32 75.2496 L1522.65 71.8468 L1504.3 27.2059 L1512.2 27.2059 L1526.38 62.6918 L1540.56 27.2059 L1548.46 27.2059 L1528.53 76.7889 Z\" fill=\"#000000\" fill-rule=\"evenodd\" fill-opacity=\"1\" /><polyline clip-path=\"url(#clip192)\" style=\"stroke:#009af9; stroke-linecap:round; stroke-linejoin:round; stroke-width:4; stroke-opacity:1; fill:none\" points=\"271.594,944.985 278.329,952.302 285.064,959.538 291.799,966.693 298.534,973.769 305.27,980.765 312.005,987.682 318.74,994.52 325.475,1001.28 332.21,1007.96 338.945,1014.57 345.68,1021.09 352.416,1027.54 359.151,1033.92 365.886,1040.22 372.621,1046.44 379.356,1052.59 386.091,1058.66 392.827,1064.66 399.562,1070.58 406.297,1076.43 413.032,1082.21 419.767,1087.91 426.502,1093.54 433.237,1099.1 439.973,1104.59 446.708,1110.01 453.443,1115.35 460.178,1120.63 466.913,1125.83 473.648,1130.97 480.384,1136.03 487.119,1141.03 493.854,1145.95 500.589,1150.81 507.324,1155.6 514.059,1160.33 520.794,1164.99 527.53,1169.58 534.265,1174.1 541,1178.56 547.735,1182.95 554.47,1187.28 561.205,1191.54 567.941,1195.74 574.676,1199.87 581.411,1203.94 588.146,1207.95 594.881,1211.89 601.616,1215.77 608.351,1219.59 615.087,1223.35 621.822,1227.05 628.557,1230.69 635.292,1234.26 642.027,1237.78 648.762,1241.23 655.497,1244.63 662.233,1247.96 668.968,1251.24 675.703,1254.46 682.438,1257.63 689.173,1260.73 695.908,1263.78 702.644,1266.77 709.379,1269.7 716.114,1272.58 722.849,1275.41 729.584,1278.17 736.319,1280.89 743.054,1283.55 749.79,1286.15 756.525,1288.7 763.26,1291.2 769.995,1293.64 776.73,1296.04 783.465,1298.38 790.201,1300.66 796.936,1302.9 803.671,1305.09 810.406,1307.22 817.141,1309.31 823.876,1311.34 830.611,1313.33 837.347,1315.26 844.082,1317.15 850.817,1318.99 857.552,1320.78 864.287,1322.52 871.022,1324.22 877.758,1325.86 884.493,1327.47 891.228,1329.02 897.963,1330.53 904.698,1331.99 911.433,1333.41 918.168,1334.79 924.904,1336.12 931.639,1337.4 938.374,1338.64 945.109,1339.84 951.844,1341 958.579,1342.11 965.314,1343.18 972.05,1344.21 978.785,1345.19 985.52,1346.14 992.255,1347.04 998.99,1347.91 1005.73,1348.73 1012.46,1349.52 1019.2,1350.26 1025.93,1350.97 1032.67,1351.63 1039.4,1352.26 1046.14,1352.85 1052.87,1353.4 1059.61,1353.92 1066.34,1354.4 1073.08,1354.84 1079.81,1355.24 1086.55,1355.61 1093.28,1355.95 1100.02,1356.25 1106.75,1356.51 1113.49,1356.74 1120.22,1356.93 1126.96,1357.09 1133.69,1357.22 1140.43,1357.31 1147.16,1357.37 1153.9,1357.4 1160.63,1357.4 1167.37,1357.36 1174.1,1357.29 1180.84,1357.19 1187.57,1357.07 1194.31,1356.91 1201.04,1356.71 1207.78,1356.49 1214.52,1356.24 1221.25,1355.97 1227.99,1355.66 1234.72,1355.32 1241.46,1354.96 1248.19,1354.56 1254.93,1354.14 1261.66,1353.7 1268.4,1353.22 1275.13,1352.72 1281.87,1352.19 1288.6,1351.64 1295.34,1351.06 1302.07,1350.46 1308.81,1349.83 1315.54,1349.17 1322.28,1348.5 1329.01,1347.79 1335.75,1347.07 1342.48,1346.32 1349.22,1345.55 1355.95,1344.75 1362.69,1343.93 1369.42,1343.09 1376.16,1342.23 1382.89,1341.35 1389.63,1340.45 1396.36,1339.52 1403.1,1338.57 1409.83,1337.61 1416.57,1336.62 1423.3,1335.62 1430.04,1334.59 1436.78,1333.55 1443.51,1332.49 1450.25,1331.41 1456.98,1330.31 1463.72,1329.19 1470.45,1328.06 1477.19,1326.9 1483.92,1325.74 1490.66,1324.55 1497.39,1323.35 1504.13,1322.13 1510.86,1320.9 1517.6,1319.65 1524.33,1318.39 1531.07,1317.11 1537.8,1315.82 1544.54,1314.51 1551.27,1313.19 1558.01,1311.86 1564.74,1310.51 1571.48,1309.15 1578.21,1307.78 1584.95,1306.39 1591.68,1305 1598.42,1303.59 1605.15,1302.17 1611.89,1300.73 1618.62,1299.29 1625.36,1297.84 1632.09,1296.37 1638.83,1294.9 1645.56,1293.42 1652.3,1291.92 1659.04,1290.42 1665.77,1288.91 1672.51,1287.39 1679.24,1285.86 1685.98,1284.32 1692.71,1282.78 1699.45,1281.23 1706.18,1279.67 1712.92,1278.1 1719.65,1276.53 1726.39,1274.95 1733.12,1273.37 1739.86,1271.78 1746.59,1270.18 1753.33,1268.58 1760.06,1266.97 1766.8,1265.36 1773.53,1263.75 1780.27,1262.13 1787,1260.5 1793.74,1258.88 1800.47,1257.25 1807.21,1255.61 1813.94,1253.98 1820.68,1252.34 1827.41,1250.7 1834.15,1249.06 1840.88,1247.41 1847.62,1245.77 1854.35,1244.12 1861.09,1242.47 1867.82,1240.82 1874.56,1239.17 1881.3,1237.53 1888.03,1235.88 1894.77,1234.23 1901.5,1232.58 1908.24,1230.94 1914.97,1229.29 1921.71,1227.65 1928.44,1226.01 1935.18,1224.37 1941.91,1222.73 1948.65,1221.1 1955.38,1219.47 1962.12,1217.84 1968.85,1216.22 1975.59,1214.59 1982.32,1212.98 1989.06,1211.37 1995.79,1209.76 2002.53,1208.15 2009.26,1206.56 2016,1204.96 2022.73,1203.38 2029.47,1201.8 2036.2,1200.22 2042.94,1198.65 2049.67,1197.09 2056.41,1195.53 2063.14,1193.98 2069.88,1192.44 2076.61,1190.91 2083.35,1189.38 2090.08,1187.87 2096.82,1186.36 2103.56,1184.86 2110.29,1183.37 2117.03,1181.89 2123.76,1180.41 2130.5,1178.95 2137.23,1177.5 2143.97,1176.05 2150.7,1174.62 2157.44,1173.2 2164.17,1171.79 2170.91,1170.39 2177.64,1169 2184.38,1167.63 2191.11,1166.26 2197.85,1164.91 2204.58,1163.57 2211.32,1162.25 2218.05,1160.93 2224.79,1159.63 2231.52,1158.35 2238.26,1157.07 2244.99,1155.82 2251.73,1154.57 2258.46,1153.34 2265.2,1152.13 2271.93,1150.93 2278.67,1149.74 2285.4,1148.57 2292.14,1147.42 \"/>\n<polyline clip-path=\"url(#clip192)\" style=\"stroke:#e26f46; stroke-linecap:round; stroke-linejoin:round; stroke-width:4; stroke-opacity:1; fill:none\" points=\"271.594,1043.08 278.329,1038.21 285.064,1033.41 291.799,1028.67 298.534,1024.01 305.27,1019.41 312.005,1014.88 318.74,1010.42 325.475,1006.02 332.21,1001.69 338.945,997.431 345.68,993.232 352.416,989.099 359.151,985.03 365.886,981.025 372.621,977.083 379.356,973.205 386.091,969.391 392.827,965.638 399.562,961.948 406.297,958.32 413.032,954.753 419.767,951.247 426.502,947.802 433.237,944.416 439.973,941.091 446.708,937.825 453.443,934.618 460.178,931.47 466.913,928.38 473.648,925.349 480.384,922.374 487.119,919.457 493.854,916.596 500.589,913.792 507.324,911.044 514.059,908.351 520.794,905.713 527.53,903.131 534.265,900.603 541,898.128 547.735,895.708 554.47,893.341 561.205,891.027 567.941,888.765 574.676,886.555 581.411,884.398 588.146,882.292 594.881,880.236 601.616,878.232 608.351,876.278 615.087,874.373 621.822,872.519 628.557,870.713 635.292,868.957 642.027,867.249 648.762,865.589 655.497,863.976 662.233,862.411 668.968,860.894 675.703,859.422 682.438,857.997 689.173,856.618 695.908,855.285 702.644,853.997 709.379,852.753 716.114,851.554 722.849,850.4 729.584,849.289 736.319,848.221 743.054,847.197 749.79,846.215 756.525,845.276 763.26,844.378 769.995,843.523 776.73,842.708 783.465,841.935 790.201,841.202 796.936,840.509 803.671,839.857 810.406,839.244 817.141,838.67 823.876,838.135 830.611,837.639 837.347,837.181 844.082,836.761 850.817,836.378 857.552,836.033 864.287,835.724 871.022,835.452 877.758,835.216 884.493,835.016 891.228,834.851 897.963,834.722 904.698,834.628 911.433,834.568 918.168,834.542 924.904,834.55 931.639,834.592 938.374,834.667 945.109,834.775 951.844,834.915 958.579,835.088 965.314,835.292 972.05,835.528 978.785,835.796 985.52,836.094 992.255,836.423 998.99,836.782 1005.73,837.172 1012.46,837.591 1019.2,838.039 1025.93,838.517 1032.67,839.023 1039.4,839.557 1046.14,840.12 1052.87,840.711 1059.61,841.329 1066.34,841.974 1073.08,842.646 1079.81,843.345 1086.55,844.07 1093.28,844.821 1100.02,845.597 1106.75,846.399 1113.49,847.226 1120.22,848.078 1126.96,848.954 1133.69,849.855 1140.43,850.779 1147.16,851.727 1153.9,852.698 1160.63,853.692 1167.37,854.708 1174.1,855.748 1180.84,856.809 1187.57,857.892 1194.31,858.996 1201.04,860.122 1207.78,861.268 1214.52,862.436 1221.25,863.623 1227.99,864.831 1234.72,866.058 1241.46,867.305 1248.19,868.571 1254.93,869.856 1261.66,871.16 1268.4,872.482 1275.13,873.822 1281.87,875.18 1288.6,876.555 1295.34,877.948 1302.07,879.357 1308.81,880.784 1315.54,882.226 1322.28,883.685 1329.01,885.16 1335.75,886.65 1342.48,888.156 1349.22,889.676 1355.95,891.211 1362.69,892.761 1369.42,894.325 1376.16,895.903 1382.89,897.495 1389.63,899.1 1396.36,900.719 1403.1,902.35 1409.83,903.994 1416.57,905.65 1423.3,907.318 1430.04,908.999 1436.78,910.69 1443.51,912.394 1450.25,914.108 1456.98,915.833 1463.72,917.568 1470.45,919.314 1477.19,921.07 1483.92,922.835 1490.66,924.61 1497.39,926.395 1504.13,928.188 1510.86,929.99 1517.6,931.801 1524.33,933.62 1531.07,935.447 1537.8,937.281 1544.54,939.124 1551.27,940.973 1558.01,942.829 1564.74,944.693 1571.48,946.562 1578.21,948.438 1584.95,950.32 1591.68,952.208 1598.42,954.101 1605.15,956 1611.89,957.903 1618.62,959.812 1625.36,961.725 1632.09,963.642 1638.83,965.563 1645.56,967.488 1652.3,969.417 1659.04,971.349 1665.77,973.285 1672.51,975.223 1679.24,977.163 1685.98,979.107 1692.71,981.052 1699.45,982.999 1706.18,984.948 1712.92,986.899 1719.65,988.85 1726.39,990.803 1733.12,992.757 1739.86,994.711 1746.59,996.665 1753.33,998.619 1760.06,1000.57 1766.8,1002.53 1773.53,1004.48 1780.27,1006.43 1787,1008.38 1793.74,1010.33 1800.47,1012.28 1807.21,1014.23 1813.94,1016.17 1820.68,1018.12 1827.41,1020.06 1834.15,1021.99 1840.88,1023.93 1847.62,1025.86 1854.35,1027.79 1861.09,1029.71 1867.82,1031.63 1874.56,1033.55 1881.3,1035.46 1888.03,1037.37 1894.77,1039.28 1901.5,1041.17 1908.24,1043.07 1914.97,1044.96 1921.71,1046.84 1928.44,1048.72 1935.18,1050.59 1941.91,1052.45 1948.65,1054.31 1955.38,1056.16 1962.12,1058.01 1968.85,1059.85 1975.59,1061.68 1982.32,1063.5 1989.06,1065.31 1995.79,1067.12 2002.53,1068.92 2009.26,1070.71 2016,1072.49 2022.73,1074.27 2029.47,1076.03 2036.2,1077.79 2042.94,1079.53 2049.67,1081.27 2056.41,1083 2063.14,1084.71 2069.88,1086.42 2076.61,1088.12 2083.35,1089.8 2090.08,1091.48 2096.82,1093.14 2103.56,1094.79 2110.29,1096.43 2117.03,1098.06 2123.76,1099.68 2130.5,1101.28 2137.23,1102.87 2143.97,1104.45 2150.7,1106.02 2157.44,1107.57 2164.17,1109.11 2170.91,1110.64 2177.64,1112.15 2184.38,1113.65 2191.11,1115.14 2197.85,1116.61 2204.58,1118.07 2211.32,1119.51 2218.05,1120.94 2224.79,1122.35 2231.52,1123.74 2238.26,1125.13 2244.99,1126.49 2251.73,1127.84 2258.46,1129.17 2265.2,1130.49 2271.93,1131.79 2278.67,1133.08 2285.4,1134.34 2292.14,1135.59 \"/>\n<polyline clip-path=\"url(#clip192)\" style=\"stroke:#3da44d; stroke-linecap:round; stroke-linejoin:round; stroke-width:4; stroke-opacity:1; fill:none\" points=\"271.594,160.256 278.329,172.474 285.064,184.604 291.799,196.647 298.534,208.603 305.27,220.472 312.005,232.253 318.74,243.949 325.475,255.557 332.21,267.079 338.945,278.514 345.68,289.864 352.416,301.127 359.151,312.304 365.886,323.396 372.621,334.402 379.356,345.322 386.091,356.157 392.827,366.907 399.562,377.572 406.297,388.153 413.032,398.648 419.767,409.06 426.502,419.387 433.237,429.63 439.973,439.789 446.708,449.864 453.443,459.856 460.178,469.764 466.913,479.59 473.648,489.332 480.384,498.992 487.119,508.569 493.854,518.064 500.589,527.477 507.324,536.808 514.059,546.057 520.794,555.225 527.53,564.311 534.265,573.316 541,582.241 547.735,591.085 554.47,599.848 561.205,608.532 567.941,617.135 574.676,625.659 581.411,634.103 588.146,642.468 594.881,650.754 601.616,658.962 608.351,667.091 615.087,675.141 621.822,683.113 628.557,691.008 635.292,698.825 642.027,706.565 648.762,714.228 655.497,721.814 662.233,729.323 668.968,736.757 675.703,744.114 682.438,751.395 689.173,758.601 695.908,765.732 702.644,772.787 709.379,779.768 716.114,786.675 722.849,793.507 729.584,800.266 736.319,806.951 743.054,813.562 749.79,820.101 756.525,826.567 763.26,832.96 769.995,839.281 776.73,845.53 783.465,851.707 790.201,857.813 796.936,863.848 803.671,869.812 810.406,875.706 817.141,881.53 823.876,887.283 830.611,892.967 837.347,898.582 844.082,904.127 850.817,909.604 857.552,915.013 864.287,920.353 871.022,925.625 877.758,930.83 884.493,935.968 891.228,941.039 897.963,946.044 904.698,950.982 911.433,955.854 918.168,960.66 924.904,965.402 931.639,970.078 938.374,974.689 945.109,979.236 951.844,983.72 958.579,988.139 965.314,992.495 972.05,996.788 978.785,1001.02 985.52,1005.19 992.255,1009.29 998.99,1013.34 1005.73,1017.32 1012.46,1021.24 1019.2,1025.1 1025.93,1028.9 1032.67,1032.64 1039.4,1036.32 1046.14,1039.94 1052.87,1043.51 1059.61,1047.01 1066.34,1050.45 1073.08,1053.84 1079.81,1057.17 1086.55,1060.44 1093.28,1063.66 1100.02,1066.82 1106.75,1069.92 1113.49,1072.97 1120.22,1075.96 1126.96,1078.9 1133.69,1081.78 1140.43,1084.6 1147.16,1087.38 1153.9,1090.1 1160.63,1092.76 1167.37,1095.38 1174.1,1097.94 1180.84,1100.44 1187.57,1102.9 1194.31,1105.31 1201.04,1107.66 1207.78,1109.96 1214.52,1112.22 1221.25,1114.42 1227.99,1116.57 1234.72,1118.68 1241.46,1120.73 1248.19,1122.74 1254.93,1124.7 1261.66,1126.61 1268.4,1128.48 1275.13,1130.3 1281.87,1132.07 1288.6,1133.79 1295.34,1135.47 1302.07,1137.11 1308.81,1138.7 1315.54,1140.24 1322.28,1141.74 1329.01,1143.2 1335.75,1144.62 1342.48,1145.99 1349.22,1147.32 1355.95,1148.61 1362.69,1149.85 1369.42,1151.06 1376.16,1152.22 1382.89,1153.35 1389.63,1154.43 1396.36,1155.48 1403.1,1156.48 1409.83,1157.45 1416.57,1158.38 1423.3,1159.27 1430.04,1160.13 1436.78,1160.95 1443.51,1161.73 1450.25,1162.47 1456.98,1163.19 1463.72,1163.86 1470.45,1164.5 1477.19,1165.11 1483.92,1165.68 1490.66,1166.22 1497.39,1166.73 1504.13,1167.2 1510.86,1167.65 1517.6,1168.06 1524.33,1168.44 1531.07,1168.79 1537.8,1169.11 1544.54,1169.4 1551.27,1169.66 1558.01,1169.9 1564.74,1170.1 1571.48,1170.28 1578.21,1170.43 1584.95,1170.56 1591.68,1170.65 1598.42,1170.73 1605.15,1170.77 1611.89,1170.8 1618.62,1170.79 1625.36,1170.77 1632.09,1170.72 1638.83,1170.65 1645.56,1170.55 1652.3,1170.44 1659.04,1170.3 1665.77,1170.14 1672.51,1169.97 1679.24,1169.77 1685.98,1169.55 1692.71,1169.32 1699.45,1169.06 1706.18,1168.79 1712.92,1168.5 1719.65,1168.2 1726.39,1167.88 1733.12,1167.54 1739.86,1167.19 1746.59,1166.82 1753.33,1166.44 1760.06,1166.05 1766.8,1165.64 1773.53,1165.22 1780.27,1164.79 1787,1164.35 1793.74,1163.9 1800.47,1163.43 1807.21,1162.96 1813.94,1162.48 1820.68,1161.99 1827.41,1161.49 1834.15,1160.98 1840.88,1160.47 1847.62,1159.95 1854.35,1159.43 1861.09,1158.9 1867.82,1158.36 1874.56,1157.82 1881.3,1157.28 1888.03,1156.74 1894.77,1156.19 1901.5,1155.64 1908.24,1155.09 1914.97,1154.54 1921.71,1153.98 1928.44,1153.43 1935.18,1152.88 1941.91,1152.34 1948.65,1151.79 1955.38,1151.25 1962.12,1150.71 1968.85,1150.17 1975.59,1149.64 1982.32,1149.11 1989.06,1148.59 1995.79,1148.08 2002.53,1147.57 2009.26,1147.08 2016,1146.58 2022.73,1146.1 2029.47,1145.63 2036.2,1145.17 2042.94,1144.72 2049.67,1144.28 2056.41,1143.85 2063.14,1143.43 2069.88,1143.03 2076.61,1142.64 2083.35,1142.27 2090.08,1141.91 2096.82,1141.56 2103.56,1141.23 2110.29,1140.92 2117.03,1140.63 2123.76,1140.35 2130.5,1140.1 2137.23,1139.86 2143.97,1139.64 2150.7,1139.45 2157.44,1139.27 2164.17,1139.12 2170.91,1138.99 2177.64,1138.88 2184.38,1138.8 2191.11,1138.74 2197.85,1138.7 2204.58,1138.7 2211.32,1138.71 2218.05,1138.76 2224.79,1138.83 2231.52,1138.93 2238.26,1139.06 2244.99,1139.22 2251.73,1139.41 2258.46,1139.63 2265.2,1139.88 2271.93,1140.17 2278.67,1140.49 2285.4,1140.84 2292.14,1141.22 \"/>\n<polyline clip-path=\"url(#clip192)\" style=\"stroke:#c271d2; stroke-linecap:round; stroke-linejoin:round; stroke-width:4; stroke-opacity:1; fill:none\" stroke-dasharray=\"16, 10\" points=\"271.594,1288.3 278.329,1286.69 285.064,1285.08 291.799,1283.48 298.534,1281.88 305.27,1280.3 312.005,1278.72 318.74,1277.15 325.475,1275.59 332.21,1274.03 338.945,1272.48 345.68,1270.94 352.416,1269.41 359.151,1267.89 365.886,1266.37 372.621,1264.86 379.356,1263.36 386.091,1261.87 392.827,1260.38 399.562,1258.91 406.297,1257.44 413.032,1255.97 419.767,1254.52 426.502,1253.07 433.237,1251.63 439.973,1250.2 446.708,1248.78 453.443,1247.36 460.178,1245.96 466.913,1244.56 473.648,1243.16 480.384,1241.78 487.119,1240.4 493.854,1239.03 500.589,1237.67 507.324,1236.32 514.059,1234.97 520.794,1233.63 527.53,1232.3 534.265,1230.98 541,1229.67 547.735,1228.36 554.47,1227.06 561.205,1225.77 567.941,1224.49 574.676,1223.21 581.411,1221.94 588.146,1220.68 594.881,1219.43 601.616,1218.18 608.351,1216.95 615.087,1215.72 621.822,1214.49 628.557,1213.28 635.292,1212.07 642.027,1210.87 648.762,1209.68 655.497,1208.5 662.233,1207.32 668.968,1206.15 675.703,1204.99 682.438,1203.84 689.173,1202.69 695.908,1201.55 702.644,1200.42 709.379,1199.3 716.114,1198.19 722.849,1197.08 729.584,1195.98 736.319,1194.89 743.054,1193.8 749.79,1192.72 756.525,1191.65 763.26,1190.59 769.995,1189.54 776.73,1188.49 783.465,1187.45 790.201,1186.41 796.936,1185.39 803.671,1184.37 810.406,1183.36 817.141,1182.36 823.876,1181.36 830.611,1180.38 837.347,1179.39 844.082,1178.42 850.817,1177.46 857.552,1176.5 864.287,1175.55 871.022,1174.6 877.758,1173.67 884.493,1172.74 891.228,1171.81 897.963,1170.9 904.698,1169.99 911.433,1169.09 918.168,1168.2 924.904,1167.31 931.639,1166.44 938.374,1165.56 945.109,1164.7 951.844,1163.84 958.579,1162.99 965.314,1162.15 972.05,1161.32 978.785,1160.49 985.52,1159.67 992.255,1158.85 998.99,1158.04 1005.73,1157.24 1012.46,1156.45 1019.2,1155.67 1025.93,1154.89 1032.67,1154.12 1039.4,1153.35 1046.14,1152.59 1052.87,1151.84 1059.61,1151.1 1066.34,1150.36 1073.08,1149.63 1079.81,1148.91 1086.55,1148.19 1093.28,1147.48 1100.02,1146.78 1106.75,1146.08 1113.49,1145.4 1120.22,1144.71 1126.96,1144.04 1133.69,1143.37 1140.43,1142.71 1147.16,1142.05 1153.9,1141.41 1160.63,1140.77 1167.37,1140.13 1174.1,1139.5 1180.84,1138.88 1187.57,1138.27 1194.31,1137.66 1201.04,1137.06 1207.78,1136.46 1214.52,1135.88 1221.25,1135.3 1227.99,1134.72 1234.72,1134.15 1241.46,1133.59 1248.19,1133.04 1254.93,1132.49 1261.66,1131.95 1268.4,1131.41 1275.13,1130.88 1281.87,1130.36 1288.6,1129.84 1295.34,1129.34 1302.07,1128.83 1308.81,1128.34 1315.54,1127.85 1322.28,1127.36 1329.01,1126.89 1335.75,1126.41 1342.48,1125.95 1349.22,1125.49 1355.95,1125.04 1362.69,1124.59 1369.42,1124.15 1376.16,1123.72 1382.89,1123.29 1389.63,1122.87 1396.36,1122.46 1403.1,1122.05 1409.83,1121.65 1416.57,1121.25 1423.3,1120.86 1430.04,1120.48 1436.78,1120.1 1443.51,1119.73 1450.25,1119.37 1456.98,1119.01 1463.72,1118.66 1470.45,1118.31 1477.19,1117.97 1483.92,1117.64 1490.66,1117.31 1497.39,1116.99 1504.13,1116.67 1510.86,1116.36 1517.6,1116.05 1524.33,1115.76 1531.07,1115.46 1537.8,1115.18 1544.54,1114.9 1551.27,1114.62 1558.01,1114.35 1564.74,1114.09 1571.48,1113.84 1578.21,1113.58 1584.95,1113.34 1591.68,1113.1 1598.42,1112.87 1605.15,1112.64 1611.89,1112.42 1618.62,1112.2 1625.36,1111.99 1632.09,1111.79 1638.83,1111.59 1645.56,1111.4 1652.3,1111.21 1659.04,1111.03 1665.77,1110.85 1672.51,1110.68 1679.24,1110.52 1685.98,1110.36 1692.71,1110.21 1699.45,1110.06 1706.18,1109.92 1712.92,1109.78 1719.65,1109.65 1726.39,1109.53 1733.12,1109.41 1739.86,1109.3 1746.59,1109.19 1753.33,1109.09 1760.06,1108.99 1766.8,1108.9 1773.53,1108.82 1780.27,1108.74 1787,1108.66 1793.74,1108.59 1800.47,1108.53 1807.21,1108.47 1813.94,1108.42 1820.68,1108.37 1827.41,1108.33 1834.15,1108.3 1840.88,1108.27 1847.62,1108.24 1854.35,1108.22 1861.09,1108.21 1867.82,1108.2 1874.56,1108.2 1881.3,1108.2 1888.03,1108.21 1894.77,1108.22 1901.5,1108.24 1908.24,1108.26 1914.97,1108.29 1921.71,1108.33 1928.44,1108.37 1935.18,1108.41 1941.91,1108.46 1948.65,1108.52 1955.38,1108.58 1962.12,1108.64 1968.85,1108.72 1975.59,1108.79 1982.32,1108.88 1989.06,1108.96 1995.79,1109.06 2002.53,1109.15 2009.26,1109.26 2016,1109.37 2022.73,1109.48 2029.47,1109.6 2036.2,1109.72 2042.94,1109.85 2049.67,1109.99 2056.41,1110.13 2063.14,1110.27 2069.88,1110.42 2076.61,1110.58 2083.35,1110.74 2090.08,1110.91 2096.82,1111.08 2103.56,1111.25 2110.29,1111.43 2117.03,1111.62 2123.76,1111.81 2130.5,1112.01 2137.23,1112.21 2143.97,1112.42 2150.7,1112.63 2157.44,1112.85 2164.17,1113.07 2170.91,1113.3 2177.64,1113.53 2184.38,1113.77 2191.11,1114.01 2197.85,1114.26 2204.58,1114.51 2211.32,1114.77 2218.05,1115.03 2224.79,1115.3 2231.52,1115.58 2238.26,1115.85 2244.99,1116.14 2251.73,1116.43 2258.46,1116.72 2265.2,1117.02 2271.93,1117.32 2278.67,1117.63 2285.4,1117.95 2292.14,1118.26 \"/>\n<polyline clip-path=\"url(#clip192)\" style=\"stroke:#ac8d18; stroke-linecap:round; stroke-linejoin:round; stroke-width:4; stroke-opacity:1; fill:none\" stroke-dasharray=\"16, 10\" points=\"271.594,1043.08 278.329,1044.46 285.064,1045.83 291.799,1047.2 298.534,1048.56 305.27,1049.91 312.005,1051.25 318.74,1052.59 325.475,1053.91 332.21,1055.23 338.945,1056.54 345.68,1057.85 352.416,1059.14 359.151,1060.43 365.886,1061.71 372.621,1062.98 379.356,1064.24 386.091,1065.5 392.827,1066.75 399.562,1067.98 406.297,1069.22 413.032,1070.44 419.767,1071.66 426.502,1072.87 433.237,1074.07 439.973,1075.26 446.708,1076.44 453.443,1077.62 460.178,1078.79 466.913,1079.95 473.648,1081.11 480.384,1082.25 487.119,1083.39 493.854,1084.52 500.589,1085.64 507.324,1086.76 514.059,1087.87 520.794,1088.97 527.53,1090.06 534.265,1091.15 541,1092.22 547.735,1093.29 554.47,1094.36 561.205,1095.41 567.941,1096.46 574.676,1097.5 581.411,1098.53 588.146,1099.56 594.881,1100.57 601.616,1101.58 608.351,1102.59 615.087,1103.58 621.822,1104.57 628.557,1105.55 635.292,1106.52 642.027,1107.49 648.762,1108.45 655.497,1109.4 662.233,1110.34 668.968,1111.28 675.703,1112.21 682.438,1113.13 689.173,1114.05 695.908,1114.95 702.644,1115.85 709.379,1116.75 716.114,1117.63 722.849,1118.51 729.584,1119.38 736.319,1120.25 743.054,1121.11 749.79,1121.96 756.525,1122.8 763.26,1123.64 769.995,1124.47 776.73,1125.29 783.465,1126.11 790.201,1126.92 796.936,1127.72 803.671,1128.51 810.406,1129.3 817.141,1130.08 823.876,1130.86 830.611,1131.63 837.347,1132.39 844.082,1133.14 850.817,1133.89 857.552,1134.63 864.287,1135.36 871.022,1136.09 877.758,1136.81 884.493,1137.52 891.228,1138.23 897.963,1138.93 904.698,1139.63 911.433,1140.31 918.168,1140.99 924.904,1141.67 931.639,1142.34 938.374,1143 945.109,1143.65 951.844,1144.3 958.579,1144.94 965.314,1145.58 972.05,1146.2 978.785,1146.83 985.52,1147.44 992.255,1148.05 998.99,1148.66 1005.73,1149.25 1012.46,1149.84 1019.2,1150.43 1025.93,1151.01 1032.67,1151.58 1039.4,1152.14 1046.14,1152.7 1052.87,1153.26 1059.61,1153.8 1066.34,1154.34 1073.08,1154.88 1079.81,1155.41 1086.55,1155.93 1093.28,1156.44 1100.02,1156.95 1106.75,1157.46 1113.49,1157.96 1120.22,1158.45 1126.96,1158.94 1133.69,1159.42 1140.43,1159.89 1147.16,1160.36 1153.9,1160.82 1160.63,1161.28 1167.37,1161.73 1174.1,1162.17 1180.84,1162.61 1187.57,1163.04 1194.31,1163.47 1201.04,1163.89 1207.78,1164.31 1214.52,1164.72 1221.25,1165.12 1227.99,1165.52 1234.72,1165.91 1241.46,1166.3 1248.19,1166.68 1254.93,1167.06 1261.66,1167.43 1268.4,1167.79 1275.13,1168.15 1281.87,1168.5 1288.6,1168.85 1295.34,1169.19 1302.07,1169.53 1308.81,1169.86 1315.54,1170.18 1322.28,1170.5 1329.01,1170.82 1335.75,1171.13 1342.48,1171.43 1349.22,1171.73 1355.95,1172.02 1362.69,1172.31 1369.42,1172.59 1376.16,1172.87 1382.89,1173.14 1389.63,1173.4 1396.36,1173.66 1403.1,1173.92 1409.83,1174.17 1416.57,1174.41 1423.3,1174.65 1430.04,1174.89 1436.78,1175.12 1443.51,1175.34 1450.25,1175.56 1456.98,1175.77 1463.72,1175.98 1470.45,1176.19 1477.19,1176.38 1483.92,1176.58 1490.66,1176.76 1497.39,1176.95 1504.13,1177.12 1510.86,1177.3 1517.6,1177.46 1524.33,1177.63 1531.07,1177.78 1537.8,1177.94 1544.54,1178.08 1551.27,1178.23 1558.01,1178.36 1564.74,1178.5 1571.48,1178.63 1578.21,1178.75 1584.95,1178.87 1591.68,1178.98 1598.42,1179.09 1605.15,1179.19 1611.89,1179.29 1618.62,1179.38 1625.36,1179.47 1632.09,1179.55 1638.83,1179.63 1645.56,1179.71 1652.3,1179.78 1659.04,1179.84 1665.77,1179.9 1672.51,1179.96 1679.24,1180.01 1685.98,1180.05 1692.71,1180.1 1699.45,1180.13 1706.18,1180.16 1712.92,1180.19 1719.65,1180.21 1726.39,1180.23 1733.12,1180.24 1739.86,1180.25 1746.59,1180.26 1753.33,1180.26 1760.06,1180.25 1766.8,1180.24 1773.53,1180.23 1780.27,1180.21 1787,1180.18 1793.74,1180.15 1800.47,1180.12 1807.21,1180.08 1813.94,1180.04 1820.68,1180 1827.41,1179.95 1834.15,1179.89 1840.88,1179.83 1847.62,1179.77 1854.35,1179.7 1861.09,1179.62 1867.82,1179.55 1874.56,1179.46 1881.3,1179.38 1888.03,1179.29 1894.77,1179.19 1901.5,1179.09 1908.24,1178.99 1914.97,1178.88 1921.71,1178.77 1928.44,1178.65 1935.18,1178.53 1941.91,1178.4 1948.65,1178.27 1955.38,1178.14 1962.12,1178 1968.85,1177.85 1975.59,1177.71 1982.32,1177.55 1989.06,1177.4 1995.79,1177.24 2002.53,1177.07 2009.26,1176.9 2016,1176.73 2022.73,1176.55 2029.47,1176.37 2036.2,1176.18 2042.94,1175.99 2049.67,1175.8 2056.41,1175.6 2063.14,1175.4 2069.88,1175.19 2076.61,1174.98 2083.35,1174.76 2090.08,1174.54 2096.82,1174.32 2103.56,1174.09 2110.29,1173.86 2117.03,1173.62 2123.76,1173.38 2130.5,1173.13 2137.23,1172.88 2143.97,1172.63 2150.7,1172.37 2157.44,1172.11 2164.17,1171.84 2170.91,1171.57 2177.64,1171.3 2184.38,1171.02 2191.11,1170.74 2197.85,1170.45 2204.58,1170.16 2211.32,1169.86 2218.05,1169.56 2224.79,1169.26 2231.52,1168.95 2238.26,1168.64 2244.99,1168.32 2251.73,1168 2258.46,1167.68 2265.2,1167.35 2271.93,1167.02 2278.67,1166.68 2285.4,1166.34 2292.14,1166 \"/>\n<polyline clip-path=\"url(#clip192)\" style=\"stroke:#00a9ad; stroke-linecap:round; stroke-linejoin:round; stroke-width:4; stroke-opacity:1; fill:none\" stroke-dasharray=\"16, 10\" points=\"271.594,1386.4 278.329,1384.65 285.064,1382.9 291.799,1381.15 298.534,1379.41 305.27,1377.67 312.005,1375.94 318.74,1374.2 325.475,1372.47 332.21,1370.74 338.945,1369.02 345.68,1367.29 352.416,1365.57 359.151,1363.86 365.886,1362.14 372.621,1360.43 379.356,1358.72 386.091,1357.02 392.827,1355.32 399.562,1353.62 406.297,1351.93 413.032,1350.24 419.767,1348.55 426.502,1346.87 433.237,1345.19 439.973,1343.51 446.708,1341.84 453.443,1340.17 460.178,1338.51 466.913,1336.85 473.648,1335.19 480.384,1333.54 487.119,1331.89 493.854,1330.24 500.589,1328.6 507.324,1326.97 514.059,1325.34 520.794,1323.71 527.53,1322.08 534.265,1320.47 541,1318.85 547.735,1317.24 554.47,1315.64 561.205,1314.04 567.941,1312.44 574.676,1310.85 581.411,1309.26 588.146,1307.68 594.881,1306.1 601.616,1304.53 608.351,1302.96 615.087,1301.4 621.822,1299.84 628.557,1298.28 635.292,1296.74 642.027,1295.19 648.762,1293.65 655.497,1292.12 662.233,1290.59 668.968,1289.07 675.703,1287.55 682.438,1286.04 689.173,1284.53 695.908,1283.03 702.644,1281.53 709.379,1280.04 716.114,1278.56 722.849,1277.08 729.584,1275.6 736.319,1274.13 743.054,1272.67 749.79,1271.21 756.525,1269.76 763.26,1268.31 769.995,1266.87 776.73,1265.43 783.465,1264 790.201,1262.58 796.936,1261.16 803.671,1259.74 810.406,1258.34 817.141,1256.94 823.876,1255.54 830.611,1254.15 837.347,1252.77 844.082,1251.39 850.817,1250.02 857.552,1248.65 864.287,1247.29 871.022,1245.94 877.758,1244.59 884.493,1243.25 891.228,1241.92 897.963,1240.59 904.698,1239.27 911.433,1237.95 918.168,1236.64 924.904,1235.34 931.639,1234.04 938.374,1232.75 945.109,1231.47 951.844,1230.19 958.579,1228.92 965.314,1227.66 972.05,1226.4 978.785,1225.15 985.52,1223.9 992.255,1222.66 998.99,1221.43 1005.73,1220.21 1012.46,1218.99 1019.2,1217.78 1025.93,1216.57 1032.67,1215.38 1039.4,1214.19 1046.14,1213 1052.87,1211.83 1059.61,1210.66 1066.34,1209.49 1073.08,1208.34 1079.81,1207.19 1086.55,1206.05 1093.28,1204.91 1100.02,1203.78 1106.75,1202.66 1113.49,1201.55 1120.22,1200.44 1126.96,1199.34 1133.69,1198.25 1140.43,1197.17 1147.16,1196.09 1153.9,1195.02 1160.63,1193.96 1167.37,1192.9 1174.1,1191.86 1180.84,1190.82 1187.57,1189.78 1194.31,1188.76 1201.04,1187.74 1207.78,1186.73 1214.52,1185.73 1221.25,1184.73 1227.99,1183.75 1234.72,1182.77 1241.46,1181.8 1248.19,1180.83 1254.93,1179.88 1261.66,1178.93 1268.4,1177.99 1275.13,1177.06 1281.87,1176.14 1288.6,1175.22 1295.34,1174.31 1302.07,1173.41 1308.81,1172.52 1315.54,1171.64 1322.28,1170.76 1329.01,1169.89 1335.75,1169.04 1342.48,1168.18 1349.22,1167.34 1355.95,1166.51 1362.69,1165.68 1369.42,1164.87 1376.16,1164.06 1382.89,1163.26 1389.63,1162.47 1396.36,1161.68 1403.1,1160.91 1409.83,1160.14 1416.57,1159.39 1423.3,1158.64 1430.04,1157.9 1436.78,1157.17 1443.51,1156.44 1450.25,1155.73 1456.98,1155.03 1463.72,1154.33 1470.45,1153.64 1477.19,1152.97 1483.92,1152.3 1490.66,1151.64 1497.39,1150.99 1504.13,1150.35 1510.86,1149.72 1517.6,1149.09 1524.33,1148.48 1531.07,1147.88 1537.8,1147.28 1544.54,1146.7 1551.27,1146.12 1558.01,1145.55 1564.74,1145 1571.48,1144.45 1578.21,1143.91 1584.95,1143.38 1591.68,1142.87 1598.42,1142.36 1605.15,1141.86 1611.89,1141.37 1618.62,1140.89 1625.36,1140.42 1632.09,1139.96 1638.83,1139.51 1645.56,1139.07 1652.3,1138.64 1659.04,1138.22 1665.77,1137.81 1672.51,1137.41 1679.24,1137.02 1685.98,1136.64 1692.71,1136.28 1699.45,1135.92 1706.18,1135.57 1712.92,1135.23 1719.65,1134.9 1726.39,1134.59 1733.12,1134.28 1739.86,1133.99 1746.59,1133.7 1753.33,1133.43 1760.06,1133.16 1766.8,1132.91 1773.53,1132.67 1780.27,1132.44 1787,1132.22 1793.74,1132.01 1800.47,1131.81 1807.21,1131.62 1813.94,1131.44 1820.68,1131.28 1827.41,1131.12 1834.15,1130.98 1840.88,1130.85 1847.62,1130.72 1854.35,1130.61 1861.09,1130.51 1867.82,1130.43 1874.56,1130.35 1881.3,1130.29 1888.03,1130.23 1894.77,1130.19 1901.5,1130.16 1908.24,1130.14 1914.97,1130.13 1921.71,1130.14 1928.44,1130.16 1935.18,1130.18 1941.91,1130.22 1948.65,1130.27 1955.38,1130.34 1962.12,1130.41 1968.85,1130.5 1975.59,1130.6 1982.32,1130.71 1989.06,1130.83 1995.79,1130.96 2002.53,1131.11 2009.26,1131.27 2016,1131.44 2022.73,1131.62 2029.47,1131.82 2036.2,1132.03 2042.94,1132.25 2049.67,1132.48 2056.41,1132.72 2063.14,1132.98 2069.88,1133.25 2076.61,1133.53 2083.35,1133.82 2090.08,1134.13 2096.82,1134.45 2103.56,1134.78 2110.29,1135.12 2117.03,1135.48 2123.76,1135.85 2130.5,1136.23 2137.23,1136.62 2143.97,1137.03 2150.7,1137.45 2157.44,1137.88 2164.17,1138.32 2170.91,1138.78 2177.64,1139.25 2184.38,1139.74 2191.11,1140.23 2197.85,1140.74 2204.58,1141.26 2211.32,1141.8 2218.05,1142.34 2224.79,1142.9 2231.52,1143.48 2238.26,1144.06 2244.99,1144.66 2251.73,1145.27 2258.46,1145.9 2265.2,1146.54 2271.93,1147.19 2278.67,1147.85 2285.4,1148.53 2292.14,1149.22 \"/>\n<path clip-path=\"url(#clip190)\" d=\"M2023.9 529.676 L2281.36 529.676 L2281.36 166.796 L2023.9 166.796  Z\" fill=\"#ffffff\" fill-rule=\"evenodd\" fill-opacity=\"1\"/>\n<polyline clip-path=\"url(#clip190)\" style=\"stroke:#000000; stroke-linecap:round; stroke-linejoin:round; stroke-width:4; stroke-opacity:1; fill:none\" points=\"2023.9,529.676 2281.36,529.676 2281.36,166.796 2023.9,166.796 2023.9,529.676 \"/>\n<polyline clip-path=\"url(#clip190)\" style=\"stroke:#009af9; stroke-linecap:round; stroke-linejoin:round; stroke-width:4; stroke-opacity:1; fill:none\" points=\"2047.7,218.636 2190.48,218.636 \"/>\n<path clip-path=\"url(#clip190)\" d=\"M2238.93 209.99 L2229.56 222.606 L2239.42 235.916 L2234.39 235.916 L2226.85 225.731 L2219.3 235.916 L2214.28 235.916 L2224.35 222.351 L2215.14 209.99 L2220.16 209.99 L2227.03 219.226 L2233.91 209.99 L2238.93 209.99 Z\" fill=\"#000000\" fill-rule=\"evenodd\" fill-opacity=\"1\" /><path clip-path=\"url(#clip190)\" d=\"M2244.58 233.369 L2249.3 233.369 L2249.3 219.226 L2244.14 220.175 L2244.14 217.49 L2249.46 216.587 L2252.64 216.587 L2252.64 233.369 L2257.38 233.369 L2257.38 235.916 L2244.58 235.916 L2244.58 233.369 Z\" fill=\"#000000\" fill-rule=\"evenodd\" fill-opacity=\"1\" /><polyline clip-path=\"url(#clip190)\" style=\"stroke:#e26f46; stroke-linecap:round; stroke-linejoin:round; stroke-width:4; stroke-opacity:1; fill:none\" points=\"2047.7,270.476 2190.48,270.476 \"/>\n<path clip-path=\"url(#clip190)\" d=\"M2238.93 261.83 L2229.56 274.446 L2239.42 287.756 L2234.39 287.756 L2226.85 277.571 L2219.3 287.756 L2214.28 287.756 L2224.35 274.191 L2215.14 261.83 L2220.16 261.83 L2227.03 271.066 L2233.91 261.83 L2238.93 261.83 Z\" fill=\"#000000\" fill-rule=\"evenodd\" fill-opacity=\"1\" /><path clip-path=\"url(#clip190)\" d=\"M2247.17 285.117 L2256.99 285.117 L2256.99 287.756 L2243.14 287.756 L2243.14 285.209 Q2243.93 284.492 2245.39 283.196 Q2253.35 276.135 2253.35 273.959 Q2253.35 272.432 2252.15 271.506 Q2250.95 270.557 2248.98 270.557 Q2247.77 270.557 2246.36 270.973 Q2244.95 271.367 2243.28 272.177 L2243.28 269.33 Q2245.07 268.682 2246.59 268.358 Q2248.14 268.034 2249.46 268.034 Q2252.82 268.034 2254.83 269.561 Q2256.85 271.089 2256.85 273.589 Q2256.85 276.807 2249.19 283.381 Q2247.89 284.492 2247.17 285.117 Z\" fill=\"#000000\" fill-rule=\"evenodd\" fill-opacity=\"1\" /><polyline clip-path=\"url(#clip190)\" style=\"stroke:#3da44d; stroke-linecap:round; stroke-linejoin:round; stroke-width:4; stroke-opacity:1; fill:none\" points=\"2047.7,322.316 2190.48,322.316 \"/>\n<path clip-path=\"url(#clip190)\" d=\"M2238.93 313.67 L2229.56 326.286 L2239.42 339.596 L2234.39 339.596 L2226.85 329.411 L2219.3 339.596 L2214.28 339.596 L2224.35 326.031 L2215.14 313.67 L2220.16 313.67 L2227.03 322.906 L2233.91 313.67 L2238.93 313.67 Z\" fill=\"#000000\" fill-rule=\"evenodd\" fill-opacity=\"1\" /><path clip-path=\"url(#clip190)\" d=\"M2253.1 329.133 Q2255.23 329.549 2256.39 330.823 Q2257.57 332.073 2257.57 333.971 Q2257.57 336.841 2255.37 338.392 Q2253.17 339.943 2249.07 339.943 Q2247.75 339.943 2246.29 339.688 Q2244.86 339.457 2243.24 338.994 L2243.24 336.193 Q2244.44 336.818 2245.81 337.119 Q2247.2 337.42 2248.75 337.42 Q2251.27 337.42 2252.66 336.517 Q2254.05 335.591 2254.05 333.971 Q2254.05 332.258 2252.75 331.378 Q2251.48 330.499 2248.98 330.499 L2246.99 330.499 L2246.99 327.999 L2249.16 327.999 Q2251.34 327.999 2252.45 327.281 Q2253.58 326.54 2253.58 325.151 Q2253.58 323.809 2252.43 323.114 Q2251.27 322.397 2249.07 322.397 Q2248.14 322.397 2246.96 322.605 Q2245.78 322.813 2243.91 323.346 L2243.91 320.684 Q2245.6 320.29 2247.08 320.082 Q2248.56 319.874 2249.83 319.874 Q2253.17 319.874 2255.11 321.239 Q2257.08 322.605 2257.08 324.897 Q2257.08 326.494 2256.04 327.605 Q2255 328.716 2253.1 329.133 Z\" fill=\"#000000\" fill-rule=\"evenodd\" fill-opacity=\"1\" /><polyline clip-path=\"url(#clip190)\" style=\"stroke:#c271d2; stroke-linecap:round; stroke-linejoin:round; stroke-width:4; stroke-opacity:1; fill:none\" stroke-dasharray=\"16, 10\" points=\"2047.7,374.156 2190.48,374.156 \"/>\n<path clip-path=\"url(#clip190)\" d=\"M2238.93 365.51 L2229.56 378.126 L2239.42 391.436 L2234.39 391.436 L2226.85 381.251 L2219.3 391.436 L2214.28 391.436 L2224.35 377.871 L2215.14 365.51 L2220.16 365.51 L2227.03 374.746 L2233.91 365.51 L2238.93 365.51 Z\" fill=\"#000000\" fill-rule=\"evenodd\" fill-opacity=\"1\" /><path clip-path=\"url(#clip190)\" d=\"M2226.94 355.417 L2231.2 355.417 L2231.2 360.811 L2226.94 360.811 L2226.94 355.417 M2229.12 364.885 L2229.12 364.885 Z\" fill=\"#000000\" fill-rule=\"evenodd\" fill-opacity=\"1\" /><path clip-path=\"url(#clip190)\" d=\"M2244.58 388.889 L2249.3 388.889 L2249.3 374.746 L2244.14 375.695 L2244.14 373.01 L2249.46 372.107 L2252.64 372.107 L2252.64 388.889 L2257.38 388.889 L2257.38 391.436 L2244.58 391.436 L2244.58 388.889 Z\" fill=\"#000000\" fill-rule=\"evenodd\" fill-opacity=\"1\" /><polyline clip-path=\"url(#clip190)\" style=\"stroke:#ac8d18; stroke-linecap:round; stroke-linejoin:round; stroke-width:4; stroke-opacity:1; fill:none\" stroke-dasharray=\"16, 10\" points=\"2047.7,425.996 2190.48,425.996 \"/>\n<path clip-path=\"url(#clip190)\" d=\"M2238.93 417.35 L2229.56 429.966 L2239.42 443.276 L2234.39 443.276 L2226.85 433.091 L2219.3 443.276 L2214.28 443.276 L2224.35 429.711 L2215.14 417.35 L2220.16 417.35 L2227.03 426.586 L2233.91 417.35 L2238.93 417.35 Z\" fill=\"#000000\" fill-rule=\"evenodd\" fill-opacity=\"1\" /><path clip-path=\"url(#clip190)\" d=\"M2226.94 407.257 L2231.2 407.257 L2231.2 412.651 L2226.94 412.651 L2226.94 407.257 M2229.12 416.725 L2229.12 416.725 Z\" fill=\"#000000\" fill-rule=\"evenodd\" fill-opacity=\"1\" /><path clip-path=\"url(#clip190)\" d=\"M2247.17 440.637 L2256.99 440.637 L2256.99 443.276 L2243.14 443.276 L2243.14 440.729 Q2243.93 440.012 2245.39 438.716 Q2253.35 431.655 2253.35 429.479 Q2253.35 427.952 2252.15 427.026 Q2250.95 426.077 2248.98 426.077 Q2247.77 426.077 2246.36 426.493 Q2244.95 426.887 2243.28 427.697 L2243.28 424.85 Q2245.07 424.202 2246.59 423.878 Q2248.14 423.554 2249.46 423.554 Q2252.82 423.554 2254.83 425.081 Q2256.85 426.609 2256.85 429.109 Q2256.85 432.327 2249.19 438.901 Q2247.89 440.012 2247.17 440.637 Z\" fill=\"#000000\" fill-rule=\"evenodd\" fill-opacity=\"1\" /><polyline clip-path=\"url(#clip190)\" style=\"stroke:#00a9ad; stroke-linecap:round; stroke-linejoin:round; stroke-width:4; stroke-opacity:1; fill:none\" stroke-dasharray=\"16, 10\" points=\"2047.7,477.836 2190.48,477.836 \"/>\n<path clip-path=\"url(#clip190)\" d=\"M2238.93 469.19 L2229.56 481.806 L2239.42 495.116 L2234.39 495.116 L2226.85 484.931 L2219.3 495.116 L2214.28 495.116 L2224.35 481.551 L2215.14 469.19 L2220.16 469.19 L2227.03 478.426 L2233.91 469.19 L2238.93 469.19 Z\" fill=\"#000000\" fill-rule=\"evenodd\" fill-opacity=\"1\" /><path clip-path=\"url(#clip190)\" d=\"M2226.94 459.097 L2231.2 459.097 L2231.2 464.491 L2226.94 464.491 L2226.94 459.097 M2229.12 468.565 L2229.12 468.565 Z\" fill=\"#000000\" fill-rule=\"evenodd\" fill-opacity=\"1\" /><path clip-path=\"url(#clip190)\" d=\"M2253.1 484.653 Q2255.23 485.069 2256.39 486.343 Q2257.57 487.593 2257.57 489.491 Q2257.57 492.361 2255.37 493.912 Q2253.17 495.463 2249.07 495.463 Q2247.75 495.463 2246.29 495.208 Q2244.86 494.977 2243.24 494.514 L2243.24 491.713 Q2244.44 492.338 2245.81 492.639 Q2247.2 492.94 2248.75 492.94 Q2251.27 492.94 2252.66 492.037 Q2254.05 491.111 2254.05 489.491 Q2254.05 487.778 2252.75 486.898 Q2251.48 486.019 2248.98 486.019 L2246.99 486.019 L2246.99 483.519 L2249.16 483.519 Q2251.34 483.519 2252.45 482.801 Q2253.58 482.06 2253.58 480.671 Q2253.58 479.329 2252.43 478.634 Q2251.27 477.917 2249.07 477.917 Q2248.14 477.917 2246.96 478.125 Q2245.78 478.333 2243.91 478.866 L2243.91 476.204 Q2245.6 475.81 2247.08 475.602 Q2248.56 475.394 2249.83 475.394 Q2253.17 475.394 2255.11 476.759 Q2257.08 478.125 2257.08 480.417 Q2257.08 482.014 2256.04 483.125 Q2255 484.236 2253.1 484.653 Z\" fill=\"#000000\" fill-rule=\"evenodd\" fill-opacity=\"1\" /></svg>\n"
     },
     "metadata": {},
     "output_type": "display_data"
    },
    {
     "data": {
      "image/svg+xml": "<?xml version=\"1.0\" encoding=\"utf-8\"?>\n<svg xmlns=\"http://www.w3.org/2000/svg\" xmlns:xlink=\"http://www.w3.org/1999/xlink\" width=\"600\" height=\"400\" viewBox=\"0 0 2400 1600\">\n<defs>\n  <clipPath id=\"clip230\">\n    <rect x=\"0\" y=\"0\" width=\"2400\" height=\"1600\"/>\n  </clipPath>\n</defs>\n<path clip-path=\"url(#clip230)\" d=\"M0 1600 L2400 1600 L2400 0 L0 0  Z\" fill=\"#ffffff\" fill-rule=\"evenodd\" fill-opacity=\"1\"/>\n<defs>\n  <clipPath id=\"clip231\">\n    <rect x=\"480\" y=\"0\" width=\"1681\" height=\"1600\"/>\n  </clipPath>\n</defs>\n<path clip-path=\"url(#clip230)\" d=\"M232.389 1423.18 L2352.76 1423.18 L2352.76 123.472 L232.389 123.472  Z\" fill=\"#ffffff\" fill-rule=\"evenodd\" fill-opacity=\"1\"/>\n<defs>\n  <clipPath id=\"clip232\">\n    <rect x=\"232\" y=\"123\" width=\"2121\" height=\"1301\"/>\n  </clipPath>\n</defs>\n<polyline clip-path=\"url(#clip232)\" style=\"stroke:#000000; stroke-linecap:round; stroke-linejoin:round; stroke-width:2; stroke-opacity:0.1; fill:none\" points=\"292.4,1423.18 292.4,123.472 \"/>\n<polyline clip-path=\"url(#clip232)\" style=\"stroke:#000000; stroke-linecap:round; stroke-linejoin:round; stroke-width:2; stroke-opacity:0.1; fill:none\" points=\"961.412,1423.18 961.412,123.472 \"/>\n<polyline clip-path=\"url(#clip232)\" style=\"stroke:#000000; stroke-linecap:round; stroke-linejoin:round; stroke-width:2; stroke-opacity:0.1; fill:none\" points=\"1630.42,1423.18 1630.42,123.472 \"/>\n<polyline clip-path=\"url(#clip232)\" style=\"stroke:#000000; stroke-linecap:round; stroke-linejoin:round; stroke-width:2; stroke-opacity:0.1; fill:none\" points=\"2299.44,1423.18 2299.44,123.472 \"/>\n<polyline clip-path=\"url(#clip230)\" style=\"stroke:#000000; stroke-linecap:round; stroke-linejoin:round; stroke-width:4; stroke-opacity:1; fill:none\" points=\"232.389,1423.18 2352.76,1423.18 \"/>\n<polyline clip-path=\"url(#clip230)\" style=\"stroke:#000000; stroke-linecap:round; stroke-linejoin:round; stroke-width:4; stroke-opacity:1; fill:none\" points=\"292.4,1423.18 292.4,1404.28 \"/>\n<polyline clip-path=\"url(#clip230)\" style=\"stroke:#000000; stroke-linecap:round; stroke-linejoin:round; stroke-width:4; stroke-opacity:1; fill:none\" points=\"961.412,1423.18 961.412,1404.28 \"/>\n<polyline clip-path=\"url(#clip230)\" style=\"stroke:#000000; stroke-linecap:round; stroke-linejoin:round; stroke-width:4; stroke-opacity:1; fill:none\" points=\"1630.42,1423.18 1630.42,1404.28 \"/>\n<polyline clip-path=\"url(#clip230)\" style=\"stroke:#000000; stroke-linecap:round; stroke-linejoin:round; stroke-width:4; stroke-opacity:1; fill:none\" points=\"2299.44,1423.18 2299.44,1404.28 \"/>\n<path clip-path=\"url(#clip230)\" d=\"M292.4 1454.1 Q288.789 1454.1 286.96 1457.66 Q285.154 1461.2 285.154 1468.33 Q285.154 1475.44 286.96 1479.01 Q288.789 1482.55 292.4 1482.55 Q296.034 1482.55 297.84 1479.01 Q299.668 1475.44 299.668 1468.33 Q299.668 1461.2 297.84 1457.66 Q296.034 1454.1 292.4 1454.1 M292.4 1450.39 Q298.21 1450.39 301.265 1455 Q304.344 1459.58 304.344 1468.33 Q304.344 1477.06 301.265 1481.67 Q298.21 1486.25 292.4 1486.25 Q286.59 1486.25 283.511 1481.67 Q280.455 1477.06 280.455 1468.33 Q280.455 1459.58 283.511 1455 Q286.59 1450.39 292.4 1450.39 Z\" fill=\"#000000\" fill-rule=\"evenodd\" fill-opacity=\"1\" /><path clip-path=\"url(#clip230)\" d=\"M951.69 1451.02 L970.046 1451.02 L970.046 1454.96 L955.972 1454.96 L955.972 1463.43 Q956.99 1463.08 958.009 1462.92 Q959.027 1462.73 960.046 1462.73 Q965.833 1462.73 969.213 1465.9 Q972.592 1469.08 972.592 1474.49 Q972.592 1480.07 969.12 1483.17 Q965.648 1486.25 959.328 1486.25 Q957.152 1486.25 954.884 1485.88 Q952.639 1485.51 950.231 1484.77 L950.231 1480.07 Q952.315 1481.2 954.537 1481.76 Q956.759 1482.32 959.236 1482.32 Q963.24 1482.32 965.578 1480.21 Q967.916 1478.1 967.916 1474.49 Q967.916 1470.88 965.578 1468.77 Q963.24 1466.67 959.236 1466.67 Q957.361 1466.67 955.486 1467.08 Q953.634 1467.5 951.69 1468.38 L951.69 1451.02 Z\" fill=\"#000000\" fill-rule=\"evenodd\" fill-opacity=\"1\" /><path clip-path=\"url(#clip230)\" d=\"M1605.11 1481.64 L1612.75 1481.64 L1612.75 1455.28 L1604.44 1456.95 L1604.44 1452.69 L1612.7 1451.02 L1617.38 1451.02 L1617.38 1481.64 L1625.02 1481.64 L1625.02 1485.58 L1605.11 1485.58 L1605.11 1481.64 Z\" fill=\"#000000\" fill-rule=\"evenodd\" fill-opacity=\"1\" /><path clip-path=\"url(#clip230)\" d=\"M1644.46 1454.1 Q1640.85 1454.1 1639.02 1457.66 Q1637.22 1461.2 1637.22 1468.33 Q1637.22 1475.44 1639.02 1479.01 Q1640.85 1482.55 1644.46 1482.55 Q1648.1 1482.55 1649.9 1479.01 Q1651.73 1475.44 1651.73 1468.33 Q1651.73 1461.2 1649.9 1457.66 Q1648.1 1454.1 1644.46 1454.1 M1644.46 1450.39 Q1650.27 1450.39 1653.33 1455 Q1656.41 1459.58 1656.41 1468.33 Q1656.41 1477.06 1653.33 1481.67 Q1650.27 1486.25 1644.46 1486.25 Q1638.65 1486.25 1635.57 1481.67 Q1632.52 1477.06 1632.52 1468.33 Q1632.52 1459.58 1635.57 1455 Q1638.65 1450.39 1644.46 1450.39 Z\" fill=\"#000000\" fill-rule=\"evenodd\" fill-opacity=\"1\" /><path clip-path=\"url(#clip230)\" d=\"M2274.62 1481.64 L2282.26 1481.64 L2282.26 1455.28 L2273.95 1456.95 L2273.95 1452.69 L2282.21 1451.02 L2286.89 1451.02 L2286.89 1481.64 L2294.53 1481.64 L2294.53 1485.58 L2274.62 1485.58 L2274.62 1481.64 Z\" fill=\"#000000\" fill-rule=\"evenodd\" fill-opacity=\"1\" /><path clip-path=\"url(#clip230)\" d=\"M2304.02 1451.02 L2322.38 1451.02 L2322.38 1454.96 L2308.3 1454.96 L2308.3 1463.43 Q2309.32 1463.08 2310.34 1462.92 Q2311.36 1462.73 2312.38 1462.73 Q2318.16 1462.73 2321.54 1465.9 Q2324.92 1469.08 2324.92 1474.49 Q2324.92 1480.07 2321.45 1483.17 Q2317.98 1486.25 2311.66 1486.25 Q2309.48 1486.25 2307.21 1485.88 Q2304.97 1485.51 2302.56 1484.77 L2302.56 1480.07 Q2304.64 1481.2 2306.87 1481.76 Q2309.09 1482.32 2311.57 1482.32 Q2315.57 1482.32 2317.91 1480.21 Q2320.25 1478.1 2320.25 1474.49 Q2320.25 1470.88 2317.91 1468.77 Q2315.57 1466.67 2311.57 1466.67 Q2309.69 1466.67 2307.82 1467.08 Q2305.96 1467.5 2304.02 1468.38 L2304.02 1451.02 Z\" fill=\"#000000\" fill-rule=\"evenodd\" fill-opacity=\"1\" /><path clip-path=\"url(#clip230)\" d=\"M1180.03 1522.27 L1180.03 1532.4 L1192.09 1532.4 L1192.09 1536.95 L1180.03 1536.95 L1180.03 1556.3 Q1180.03 1560.66 1181.2 1561.9 Q1182.41 1563.14 1186.07 1563.14 L1192.09 1563.14 L1192.09 1568.04 L1186.07 1568.04 Q1179.29 1568.04 1176.72 1565.53 Q1174.14 1562.98 1174.14 1556.3 L1174.14 1536.95 L1169.84 1536.95 L1169.84 1532.4 L1174.14 1532.4 L1174.14 1522.27 L1180.03 1522.27 Z\" fill=\"#000000\" fill-rule=\"evenodd\" fill-opacity=\"1\" /><path clip-path=\"url(#clip230)\" d=\"M1199.79 1532.4 L1205.65 1532.4 L1205.65 1568.04 L1199.79 1568.04 L1199.79 1532.4 M1199.79 1518.52 L1205.65 1518.52 L1205.65 1525.93 L1199.79 1525.93 L1199.79 1518.52 Z\" fill=\"#000000\" fill-rule=\"evenodd\" fill-opacity=\"1\" /><path clip-path=\"url(#clip230)\" d=\"M1245.66 1539.24 Q1247.85 1535.29 1250.91 1533.41 Q1253.96 1531.54 1258.1 1531.54 Q1263.67 1531.54 1266.7 1535.45 Q1269.72 1539.33 1269.72 1546.53 L1269.72 1568.04 L1263.83 1568.04 L1263.83 1546.72 Q1263.83 1541.59 1262.02 1539.11 Q1260.2 1536.63 1256.48 1536.63 Q1251.93 1536.63 1249.29 1539.65 Q1246.64 1542.68 1246.64 1547.9 L1246.64 1568.04 L1240.76 1568.04 L1240.76 1546.72 Q1240.76 1541.56 1238.94 1539.11 Q1237.13 1536.63 1233.34 1536.63 Q1228.85 1536.63 1226.21 1539.68 Q1223.57 1542.71 1223.57 1547.9 L1223.57 1568.04 L1217.68 1568.04 L1217.68 1532.4 L1223.57 1532.4 L1223.57 1537.93 Q1225.57 1534.66 1228.37 1533.1 Q1231.18 1531.54 1235.03 1531.54 Q1238.91 1531.54 1241.62 1533.51 Q1244.35 1535.48 1245.66 1539.24 Z\" fill=\"#000000\" fill-rule=\"evenodd\" fill-opacity=\"1\" /><path clip-path=\"url(#clip230)\" d=\"M1311.89 1548.76 L1311.89 1551.62 L1284.97 1551.62 Q1285.35 1557.67 1288.59 1560.85 Q1291.87 1564 1297.7 1564 Q1301.07 1564 1304.22 1563.17 Q1307.4 1562.35 1310.52 1560.69 L1310.52 1566.23 Q1307.37 1567.57 1304.06 1568.27 Q1300.75 1568.97 1297.35 1568.97 Q1288.82 1568.97 1283.82 1564 Q1278.85 1559.04 1278.85 1550.57 Q1278.85 1541.82 1283.57 1536.69 Q1288.31 1531.54 1296.33 1531.54 Q1303.52 1531.54 1307.69 1536.18 Q1311.89 1540.8 1311.89 1548.76 M1306.04 1547.04 Q1305.97 1542.23 1303.33 1539.37 Q1300.72 1536.5 1296.39 1536.5 Q1291.49 1536.5 1288.53 1539.27 Q1285.6 1542.04 1285.16 1547.07 L1306.04 1547.04 Z\" fill=\"#000000\" fill-rule=\"evenodd\" fill-opacity=\"1\" /><path clip-path=\"url(#clip230)\" d=\"M1356.29 1518.58 Q1352.03 1525.9 1349.96 1533.06 Q1347.89 1540.23 1347.89 1547.58 Q1347.89 1554.93 1349.96 1562.16 Q1352.06 1569.35 1356.29 1576.64 L1351.2 1576.64 Q1346.43 1569.16 1344.04 1561.93 Q1341.68 1554.71 1341.68 1547.58 Q1341.68 1540.48 1344.04 1533.29 Q1346.39 1526.09 1351.2 1518.58 L1356.29 1518.58 Z\" fill=\"#000000\" fill-rule=\"evenodd\" fill-opacity=\"1\" /><path clip-path=\"url(#clip230)\" d=\"M1390.38 1533.45 L1390.38 1538.98 Q1387.9 1537.71 1385.23 1537.07 Q1382.55 1536.44 1379.69 1536.44 Q1375.33 1536.44 1373.13 1537.77 Q1370.97 1539.11 1370.97 1541.79 Q1370.97 1543.82 1372.53 1545 Q1374.09 1546.15 1378.8 1547.2 L1380.8 1547.64 Q1387.04 1548.98 1389.65 1551.43 Q1392.29 1553.85 1392.29 1558.21 Q1392.29 1563.17 1388.34 1566.07 Q1384.43 1568.97 1377.55 1568.97 Q1374.69 1568.97 1371.57 1568.39 Q1368.48 1567.85 1365.05 1566.74 L1365.05 1560.69 Q1368.29 1562.38 1371.44 1563.24 Q1374.59 1564.07 1377.68 1564.07 Q1381.82 1564.07 1384.05 1562.66 Q1386.28 1561.23 1386.28 1558.65 Q1386.28 1556.27 1384.65 1554.99 Q1383.06 1553.72 1377.62 1552.54 L1375.58 1552.07 Q1370.14 1550.92 1367.72 1548.56 Q1365.3 1546.18 1365.3 1542.04 Q1365.3 1537.01 1368.87 1534.27 Q1372.43 1531.54 1378.99 1531.54 Q1382.23 1531.54 1385.1 1532.01 Q1387.96 1532.49 1390.38 1533.45 Z\" fill=\"#000000\" fill-rule=\"evenodd\" fill-opacity=\"1\" /><path clip-path=\"url(#clip230)\" d=\"M1400.69 1518.58 L1405.79 1518.58 Q1410.56 1526.09 1412.92 1533.29 Q1415.3 1540.48 1415.3 1547.58 Q1415.3 1554.71 1412.92 1561.93 Q1410.56 1569.16 1405.79 1576.64 L1400.69 1576.64 Q1404.93 1569.35 1407 1562.16 Q1409.1 1554.93 1409.1 1547.58 Q1409.1 1540.23 1407 1533.06 Q1404.93 1525.9 1400.69 1518.58 Z\" fill=\"#000000\" fill-rule=\"evenodd\" fill-opacity=\"1\" /><polyline clip-path=\"url(#clip232)\" style=\"stroke:#000000; stroke-linecap:round; stroke-linejoin:round; stroke-width:2; stroke-opacity:0.1; fill:none\" points=\"232.389,1324.04 2352.76,1324.04 \"/>\n<polyline clip-path=\"url(#clip232)\" style=\"stroke:#000000; stroke-linecap:round; stroke-linejoin:round; stroke-width:2; stroke-opacity:0.1; fill:none\" points=\"232.389,1047.56 2352.76,1047.56 \"/>\n<polyline clip-path=\"url(#clip232)\" style=\"stroke:#000000; stroke-linecap:round; stroke-linejoin:round; stroke-width:2; stroke-opacity:0.1; fill:none\" points=\"232.389,771.088 2352.76,771.088 \"/>\n<polyline clip-path=\"url(#clip232)\" style=\"stroke:#000000; stroke-linecap:round; stroke-linejoin:round; stroke-width:2; stroke-opacity:0.1; fill:none\" points=\"232.389,494.613 2352.76,494.613 \"/>\n<polyline clip-path=\"url(#clip232)\" style=\"stroke:#000000; stroke-linecap:round; stroke-linejoin:round; stroke-width:2; stroke-opacity:0.1; fill:none\" points=\"232.389,218.139 2352.76,218.139 \"/>\n<polyline clip-path=\"url(#clip230)\" style=\"stroke:#000000; stroke-linecap:round; stroke-linejoin:round; stroke-width:4; stroke-opacity:1; fill:none\" points=\"232.389,1423.18 232.389,123.472 \"/>\n<polyline clip-path=\"url(#clip230)\" style=\"stroke:#000000; stroke-linecap:round; stroke-linejoin:round; stroke-width:4; stroke-opacity:1; fill:none\" points=\"232.389,1324.04 251.287,1324.04 \"/>\n<polyline clip-path=\"url(#clip230)\" style=\"stroke:#000000; stroke-linecap:round; stroke-linejoin:round; stroke-width:4; stroke-opacity:1; fill:none\" points=\"232.389,1047.56 251.287,1047.56 \"/>\n<polyline clip-path=\"url(#clip230)\" style=\"stroke:#000000; stroke-linecap:round; stroke-linejoin:round; stroke-width:4; stroke-opacity:1; fill:none\" points=\"232.389,771.088 251.287,771.088 \"/>\n<polyline clip-path=\"url(#clip230)\" style=\"stroke:#000000; stroke-linecap:round; stroke-linejoin:round; stroke-width:4; stroke-opacity:1; fill:none\" points=\"232.389,494.613 251.287,494.613 \"/>\n<polyline clip-path=\"url(#clip230)\" style=\"stroke:#000000; stroke-linecap:round; stroke-linejoin:round; stroke-width:4; stroke-opacity:1; fill:none\" points=\"232.389,218.139 251.287,218.139 \"/>\n<path clip-path=\"url(#clip230)\" d=\"M184.445 1309.84 Q180.834 1309.84 179.005 1313.4 Q177.2 1316.94 177.2 1324.07 Q177.2 1331.18 179.005 1334.74 Q180.834 1338.28 184.445 1338.28 Q188.079 1338.28 189.885 1334.74 Q191.713 1331.18 191.713 1324.07 Q191.713 1316.94 189.885 1313.4 Q188.079 1309.84 184.445 1309.84 M184.445 1306.13 Q190.255 1306.13 193.311 1310.74 Q196.389 1315.32 196.389 1324.07 Q196.389 1332.8 193.311 1337.4 Q190.255 1341.99 184.445 1341.99 Q178.635 1341.99 175.556 1337.4 Q172.501 1332.8 172.501 1324.07 Q172.501 1315.32 175.556 1310.74 Q178.635 1306.13 184.445 1306.13 Z\" fill=\"#000000\" fill-rule=\"evenodd\" fill-opacity=\"1\" /><path clip-path=\"url(#clip230)\" d=\"M149.306 1060.91 L165.626 1060.91 L165.626 1064.84 L143.681 1064.84 L143.681 1060.91 Q146.343 1058.15 150.927 1053.52 Q155.533 1048.87 156.714 1047.53 Q158.959 1045 159.839 1043.27 Q160.741 1041.51 160.741 1039.82 Q160.741 1037.06 158.797 1035.33 Q156.876 1033.59 153.774 1033.59 Q151.575 1033.59 149.121 1034.36 Q146.691 1035.12 143.913 1036.67 L143.913 1031.95 Q146.737 1030.81 149.191 1030.24 Q151.644 1029.66 153.681 1029.66 Q159.052 1029.66 162.246 1032.34 Q165.44 1035.03 165.44 1039.52 Q165.44 1041.65 164.63 1043.57 Q163.843 1045.47 161.737 1048.06 Q161.158 1048.73 158.056 1051.95 Q154.954 1055.14 149.306 1060.91 Z\" fill=\"#000000\" fill-rule=\"evenodd\" fill-opacity=\"1\" /><path clip-path=\"url(#clip230)\" d=\"M175.487 1030.28 L193.843 1030.28 L193.843 1034.22 L179.769 1034.22 L179.769 1042.69 Q180.788 1042.34 181.806 1042.18 Q182.825 1042 183.843 1042 Q189.63 1042 193.01 1045.17 Q196.389 1048.34 196.389 1053.75 Q196.389 1059.33 192.917 1062.43 Q189.445 1065.51 183.126 1065.51 Q180.95 1065.51 178.681 1065.14 Q176.436 1064.77 174.028 1064.03 L174.028 1059.33 Q176.112 1060.47 178.334 1061.02 Q180.556 1061.58 183.033 1061.58 Q187.038 1061.58 189.375 1059.47 Q191.713 1057.37 191.713 1053.75 Q191.713 1050.14 189.375 1048.04 Q187.038 1045.93 183.033 1045.93 Q181.158 1045.93 179.283 1046.35 Q177.431 1046.76 175.487 1047.64 L175.487 1030.28 Z\" fill=\"#000000\" fill-rule=\"evenodd\" fill-opacity=\"1\" /><path clip-path=\"url(#clip230)\" d=\"M144.329 753.808 L162.686 753.808 L162.686 757.743 L148.612 757.743 L148.612 766.215 Q149.63 765.868 150.649 765.706 Q151.667 765.521 152.686 765.521 Q158.473 765.521 161.852 768.692 Q165.232 771.863 165.232 777.28 Q165.232 782.858 161.76 785.96 Q158.288 789.039 151.968 789.039 Q149.792 789.039 147.524 788.669 Q145.279 788.298 142.871 787.558 L142.871 782.858 Q144.954 783.993 147.177 784.548 Q149.399 785.104 151.876 785.104 Q155.88 785.104 158.218 782.997 Q160.556 780.891 160.556 777.28 Q160.556 773.669 158.218 771.562 Q155.88 769.456 151.876 769.456 Q150.001 769.456 148.126 769.872 Q146.274 770.289 144.329 771.169 L144.329 753.808 Z\" fill=\"#000000\" fill-rule=\"evenodd\" fill-opacity=\"1\" /><path clip-path=\"url(#clip230)\" d=\"M184.445 756.886 Q180.834 756.886 179.005 760.451 Q177.2 763.993 177.2 771.122 Q177.2 778.229 179.005 781.794 Q180.834 785.335 184.445 785.335 Q188.079 785.335 189.885 781.794 Q191.713 778.229 191.713 771.122 Q191.713 763.993 189.885 760.451 Q188.079 756.886 184.445 756.886 M184.445 753.183 Q190.255 753.183 193.311 757.789 Q196.389 762.372 196.389 771.122 Q196.389 779.849 193.311 784.456 Q190.255 789.039 184.445 789.039 Q178.635 789.039 175.556 784.456 Q172.501 779.849 172.501 771.122 Q172.501 762.372 175.556 757.789 Q178.635 753.183 184.445 753.183 Z\" fill=\"#000000\" fill-rule=\"evenodd\" fill-opacity=\"1\" /><path clip-path=\"url(#clip230)\" d=\"M144.098 477.333 L166.32 477.333 L166.32 479.324 L153.774 511.893 L148.89 511.893 L160.695 481.268 L144.098 481.268 L144.098 477.333 Z\" fill=\"#000000\" fill-rule=\"evenodd\" fill-opacity=\"1\" /><path clip-path=\"url(#clip230)\" d=\"M175.487 477.333 L193.843 477.333 L193.843 481.268 L179.769 481.268 L179.769 489.741 Q180.788 489.393 181.806 489.231 Q182.825 489.046 183.843 489.046 Q189.63 489.046 193.01 492.217 Q196.389 495.389 196.389 500.805 Q196.389 506.384 192.917 509.486 Q189.445 512.565 183.126 512.565 Q180.95 512.565 178.681 512.194 Q176.436 511.824 174.028 511.083 L174.028 506.384 Q176.112 507.518 178.334 508.074 Q180.556 508.629 183.033 508.629 Q187.038 508.629 189.375 506.523 Q191.713 504.416 191.713 500.805 Q191.713 497.194 189.375 495.088 Q187.038 492.981 183.033 492.981 Q181.158 492.981 179.283 493.398 Q177.431 493.815 175.487 494.694 L175.487 477.333 Z\" fill=\"#000000\" fill-rule=\"evenodd\" fill-opacity=\"1\" /><path clip-path=\"url(#clip230)\" d=\"M114.931 231.484 L122.57 231.484 L122.57 205.118 L114.26 206.785 L114.26 202.525 L122.524 200.859 L127.2 200.859 L127.2 231.484 L134.839 231.484 L134.839 235.419 L114.931 235.419 L114.931 231.484 Z\" fill=\"#000000\" fill-rule=\"evenodd\" fill-opacity=\"1\" /><path clip-path=\"url(#clip230)\" d=\"M154.283 203.937 Q150.672 203.937 148.843 207.502 Q147.038 211.044 147.038 218.173 Q147.038 225.28 148.843 228.845 Q150.672 232.386 154.283 232.386 Q157.917 232.386 159.723 228.845 Q161.552 225.28 161.552 218.173 Q161.552 211.044 159.723 207.502 Q157.917 203.937 154.283 203.937 M154.283 200.234 Q160.093 200.234 163.149 204.84 Q166.227 209.424 166.227 218.173 Q166.227 226.9 163.149 231.507 Q160.093 236.09 154.283 236.09 Q148.473 236.09 145.394 231.507 Q142.339 226.9 142.339 218.173 Q142.339 209.424 145.394 204.84 Q148.473 200.234 154.283 200.234 Z\" fill=\"#000000\" fill-rule=\"evenodd\" fill-opacity=\"1\" /><path clip-path=\"url(#clip230)\" d=\"M184.445 203.937 Q180.834 203.937 179.005 207.502 Q177.2 211.044 177.2 218.173 Q177.2 225.28 179.005 228.845 Q180.834 232.386 184.445 232.386 Q188.079 232.386 189.885 228.845 Q191.713 225.28 191.713 218.173 Q191.713 211.044 189.885 207.502 Q188.079 203.937 184.445 203.937 M184.445 200.234 Q190.255 200.234 193.311 204.84 Q196.389 209.424 196.389 218.173 Q196.389 226.9 193.311 231.507 Q190.255 236.09 184.445 236.09 Q178.635 236.09 175.556 231.507 Q172.501 226.9 172.501 218.173 Q172.501 209.424 175.556 204.84 Q178.635 200.234 184.445 200.234 Z\" fill=\"#000000\" fill-rule=\"evenodd\" fill-opacity=\"1\" /><path clip-path=\"url(#clip230)\" d=\"M49.9359 788.254 L28.3562 788.254 L28.3562 782.397 L49.7131 782.397 Q54.7739 782.397 57.3202 780.424 Q59.8346 778.45 59.8346 774.504 Q59.8346 769.761 56.8109 767.024 Q53.7872 764.255 48.5673 764.255 L28.3562 764.255 L28.3562 758.398 L64.0042 758.398 L64.0042 764.255 L58.5296 764.255 Q61.7762 766.387 63.3676 769.22 Q64.9272 772.021 64.9272 775.745 Q64.9272 781.888 61.1078 785.071 Q57.2883 788.254 49.9359 788.254 M27.4968 773.517 L27.4968 773.517 Z\" fill=\"#000000\" fill-rule=\"evenodd\" fill-opacity=\"1\" /><path clip-path=\"url(#clip230)\" d=\"M1029.71 12.096 L1037.89 12.096 L1037.89 72.576 L1029.71 72.576 L1029.71 12.096 Z\" fill=\"#000000\" fill-rule=\"evenodd\" fill-opacity=\"1\" /><path clip-path=\"url(#clip230)\" d=\"M1091.57 45.1919 L1091.57 72.576 L1084.11 72.576 L1084.11 45.4349 Q1084.11 38.994 1081.6 35.7938 Q1079.09 32.5936 1074.07 32.5936 Q1068.03 32.5936 1064.55 36.4419 Q1061.06 40.2903 1061.06 46.9338 L1061.06 72.576 L1053.57 72.576 L1053.57 27.2059 L1061.06 27.2059 L1061.06 34.2544 Q1063.74 30.163 1067.34 28.1376 Q1070.99 26.1121 1075.73 26.1121 Q1083.55 26.1121 1087.56 30.9732 Q1091.57 35.7938 1091.57 45.1919 Z\" fill=\"#000000\" fill-rule=\"evenodd\" fill-opacity=\"1\" /><path clip-path=\"url(#clip230)\" d=\"M1113.64 65.7705 L1113.64 89.8329 L1106.15 89.8329 L1106.15 27.2059 L1113.64 27.2059 L1113.64 34.0924 Q1115.99 30.0415 1119.56 28.0971 Q1123.16 26.1121 1128.15 26.1121 Q1136.41 26.1121 1141.55 32.6746 Q1146.74 39.2371 1146.74 49.9314 Q1146.74 60.6258 1141.55 67.1883 Q1136.41 73.7508 1128.15 73.7508 Q1123.16 73.7508 1119.56 71.8063 Q1115.99 69.8214 1113.64 65.7705 M1139 49.9314 Q1139 41.7081 1135.6 37.0496 Q1132.24 32.3505 1126.32 32.3505 Q1120.41 32.3505 1117.01 37.0496 Q1113.64 41.7081 1113.64 49.9314 Q1113.64 58.1548 1117.01 62.8538 Q1120.41 67.5124 1126.32 67.5124 Q1132.24 67.5124 1135.6 62.8538 Q1139 58.1548 1139 49.9314 Z\" fill=\"#000000\" fill-rule=\"evenodd\" fill-opacity=\"1\" /><path clip-path=\"url(#clip230)\" d=\"M1158.33 54.671 L1158.33 27.2059 L1165.78 27.2059 L1165.78 54.3874 Q1165.78 60.8284 1168.29 64.0691 Q1170.8 67.2693 1175.83 67.2693 Q1181.86 67.2693 1185.35 63.421 Q1188.87 59.5726 1188.87 52.9291 L1188.87 27.2059 L1196.32 27.2059 L1196.32 72.576 L1188.87 72.576 L1188.87 65.6084 Q1186.16 69.7404 1182.55 71.7658 Q1178.99 73.7508 1174.25 73.7508 Q1166.43 73.7508 1162.38 68.8897 Q1158.33 64.0286 1158.33 54.671 M1177.08 26.1121 L1177.08 26.1121 Z\" fill=\"#000000\" fill-rule=\"evenodd\" fill-opacity=\"1\" /><path clip-path=\"url(#clip230)\" d=\"M1219.05 14.324 L1219.05 27.2059 L1234.4 27.2059 L1234.4 32.9987 L1219.05 32.9987 L1219.05 57.6282 Q1219.05 63.1779 1220.55 64.7578 Q1222.09 66.3376 1226.75 66.3376 L1234.4 66.3376 L1234.4 72.576 L1226.75 72.576 Q1218.12 72.576 1214.84 69.3758 Q1211.55 66.1351 1211.55 57.6282 L1211.55 32.9987 L1206.09 32.9987 L1206.09 27.2059 L1211.55 27.2059 L1211.55 14.324 L1219.05 14.324 Z\" fill=\"#000000\" fill-rule=\"evenodd\" fill-opacity=\"1\" /><path clip-path=\"url(#clip230)\" d=\"M1270.9 12.096 L1279.08 12.096 L1279.08 36.8875 L1308.82 36.8875 L1308.82 12.096 L1317 12.096 L1317 72.576 L1308.82 72.576 L1308.82 43.7741 L1279.08 43.7741 L1279.08 72.576 L1270.9 72.576 L1270.9 12.096 Z\" fill=\"#000000\" fill-rule=\"evenodd\" fill-opacity=\"1\" /><path clip-path=\"url(#clip230)\" d=\"M1332.96 27.2059 L1340.41 27.2059 L1340.41 72.576 L1332.96 72.576 L1332.96 27.2059 M1332.96 9.54393 L1340.41 9.54393 L1340.41 18.9825 L1332.96 18.9825 L1332.96 9.54393 Z\" fill=\"#000000\" fill-rule=\"evenodd\" fill-opacity=\"1\" /><path clip-path=\"url(#clip230)\" d=\"M1384.93 28.5427 L1384.93 35.5912 Q1381.77 33.9709 1378.37 33.1607 Q1374.97 32.3505 1371.32 32.3505 Q1365.77 32.3505 1362.98 34.0519 Q1360.22 35.7533 1360.22 39.156 Q1360.22 41.7486 1362.21 43.2475 Q1364.19 44.7058 1370.19 46.0426 L1372.74 46.6097 Q1380.68 48.3111 1384 51.4303 Q1387.36 54.509 1387.36 60.0587 Q1387.36 66.3781 1382.34 70.0644 Q1377.36 73.7508 1368.61 73.7508 Q1364.96 73.7508 1360.99 73.0216 Q1357.06 72.3329 1352.69 70.9151 L1352.69 63.2184 Q1356.82 65.3654 1360.83 66.4591 Q1364.84 67.5124 1368.77 67.5124 Q1374.04 67.5124 1376.87 65.73 Q1379.71 63.9071 1379.71 60.6258 Q1379.71 57.5877 1377.64 55.9673 Q1375.62 54.3469 1368.69 52.8481 L1366.1 52.2405 Q1359.17 50.7821 1356.09 47.7845 Q1353.01 44.7463 1353.01 39.4801 Q1353.01 33.0797 1357.55 29.5959 Q1362.09 26.1121 1370.43 26.1121 Q1374.56 26.1121 1378.21 26.7198 Q1381.85 27.3274 1384.93 28.5427 Z\" fill=\"#000000\" fill-rule=\"evenodd\" fill-opacity=\"1\" /><path clip-path=\"url(#clip230)\" d=\"M1406.61 14.324 L1406.61 27.2059 L1421.96 27.2059 L1421.96 32.9987 L1406.61 32.9987 L1406.61 57.6282 Q1406.61 63.1779 1408.1 64.7578 Q1409.64 66.3376 1414.3 66.3376 L1421.96 66.3376 L1421.96 72.576 L1414.3 72.576 Q1405.67 72.576 1402.39 69.3758 Q1399.11 66.1351 1399.11 57.6282 L1399.11 32.9987 L1393.64 32.9987 L1393.64 27.2059 L1399.11 27.2059 L1399.11 14.324 L1406.61 14.324 Z\" fill=\"#000000\" fill-rule=\"evenodd\" fill-opacity=\"1\" /><path clip-path=\"url(#clip230)\" d=\"M1449.34 32.4315 Q1443.35 32.4315 1439.86 37.1306 Q1436.38 41.7891 1436.38 49.9314 Q1436.38 58.0738 1439.82 62.7728 Q1443.31 67.4314 1449.34 67.4314 Q1455.3 67.4314 1458.78 62.7323 Q1462.27 58.0333 1462.27 49.9314 Q1462.27 41.8701 1458.78 37.1711 Q1455.3 32.4315 1449.34 32.4315 M1449.34 26.1121 Q1459.06 26.1121 1464.61 32.4315 Q1470.16 38.7509 1470.16 49.9314 Q1470.16 61.0714 1464.61 67.4314 Q1459.06 73.7508 1449.34 73.7508 Q1439.58 73.7508 1434.03 67.4314 Q1428.52 61.0714 1428.52 49.9314 Q1428.52 38.7509 1434.03 32.4315 Q1439.58 26.1121 1449.34 26.1121 Z\" fill=\"#000000\" fill-rule=\"evenodd\" fill-opacity=\"1\" /><path clip-path=\"url(#clip230)\" d=\"M1508.81 34.1734 Q1507.55 33.4443 1506.06 33.1202 Q1504.6 32.7556 1502.81 32.7556 Q1496.5 32.7556 1493.09 36.8875 Q1489.73 40.9789 1489.73 48.6757 L1489.73 72.576 L1482.24 72.576 L1482.24 27.2059 L1489.73 27.2059 L1489.73 34.2544 Q1492.08 30.1225 1495.85 28.1376 Q1499.61 26.1121 1505 26.1121 Q1505.77 26.1121 1506.7 26.2337 Q1507.64 26.3147 1508.77 26.5172 L1508.81 34.1734 Z\" fill=\"#000000\" fill-rule=\"evenodd\" fill-opacity=\"1\" /><path clip-path=\"url(#clip230)\" d=\"M1535.51 76.7889 Q1532.35 84.8907 1529.35 87.3618 Q1526.35 89.8329 1521.33 89.8329 L1515.37 89.8329 L1515.37 83.5945 L1519.75 83.5945 Q1522.83 83.5945 1524.53 82.1361 Q1526.23 80.6778 1528.29 75.2496 L1529.63 71.8468 L1511.28 27.2059 L1519.18 27.2059 L1533.36 62.6918 L1547.54 27.2059 L1555.44 27.2059 L1535.51 76.7889 Z\" fill=\"#000000\" fill-rule=\"evenodd\" fill-opacity=\"1\" /><polyline clip-path=\"url(#clip232)\" style=\"stroke:#009af9; stroke-linecap:round; stroke-linejoin:round; stroke-width:4; stroke-opacity:1; fill:none\" points=\"292.4,1251.13 299.09,1251.48 305.78,1251.83 312.47,1252.17 319.16,1252.52 325.85,1252.86 332.54,1253.21 339.231,1253.56 345.921,1253.91 352.611,1254.25 359.301,1254.6 365.991,1254.95 372.681,1255.3 379.371,1255.65 386.061,1256 392.752,1256.35 399.442,1256.7 406.132,1257.05 412.822,1257.4 419.512,1257.75 426.202,1258.1 432.892,1258.45 439.582,1258.8 446.272,1259.15 452.963,1259.5 459.653,1259.85 466.343,1260.2 473.033,1260.55 479.723,1260.9 486.413,1261.25 493.103,1261.6 499.793,1261.95 506.484,1262.3 513.174,1262.65 519.864,1263 526.554,1263.35 533.244,1263.7 539.934,1264.05 546.624,1264.4 553.314,1264.75 560.005,1265.1 566.695,1265.44 573.385,1265.79 580.075,1266.14 586.765,1266.49 593.455,1266.84 600.145,1267.19 606.835,1267.53 613.525,1267.88 620.216,1268.23 626.906,1268.58 633.596,1268.92 640.286,1269.27 646.976,1269.61 653.666,1269.96 660.356,1270.31 667.046,1270.65 673.737,1271 680.427,1271.34 687.117,1271.68 693.807,1272.03 700.497,1272.37 707.187,1272.71 713.877,1273.06 720.567,1273.4 727.258,1273.74 733.948,1274.08 740.638,1274.42 747.328,1274.76 754.018,1275.1 760.708,1275.44 767.398,1275.78 774.088,1276.12 780.778,1276.46 787.469,1276.8 794.159,1277.13 800.849,1277.47 807.539,1277.81 814.229,1278.14 820.919,1278.48 827.609,1278.81 834.299,1279.15 840.99,1279.48 847.68,1279.81 854.37,1280.15 861.06,1280.48 867.75,1280.81 874.44,1281.14 881.13,1281.47 887.82,1281.8 894.511,1282.13 901.201,1282.46 907.891,1282.79 914.581,1283.12 921.271,1283.44 927.961,1283.77 934.651,1284.1 941.341,1284.42 948.031,1284.75 954.722,1285.07 961.412,1285.39 968.102,1285.72 974.792,1286.04 981.482,1286.36 988.172,1286.68 994.862,1287 1001.55,1287.32 1008.24,1287.64 1014.93,1287.96 1021.62,1288.28 1028.31,1288.6 1035,1288.92 1041.69,1289.23 1048.38,1289.55 1055.07,1289.86 1061.76,1290.18 1068.45,1290.49 1075.14,1290.8 1081.83,1291.12 1088.52,1291.43 1095.21,1291.74 1101.9,1292.05 1108.59,1292.36 1115.28,1292.67 1121.97,1292.98 1128.66,1293.29 1135.35,1293.59 1142.04,1293.9 1148.74,1294.21 1155.43,1294.51 1162.12,1294.82 1168.81,1295.12 1175.5,1295.42 1182.19,1295.73 1188.88,1296.03 1195.57,1296.33 1202.26,1296.63 1208.95,1296.93 1215.64,1297.23 1222.33,1297.53 1229.02,1297.83 1235.71,1298.13 1242.4,1298.42 1249.09,1298.72 1255.78,1299.01 1262.47,1299.31 1269.16,1299.6 1275.85,1299.9 1282.54,1300.19 1289.23,1300.48 1295.92,1300.77 1302.61,1301.07 1309.3,1301.36 1315.99,1301.65 1322.68,1301.94 1329.37,1302.22 1336.06,1302.51 1342.75,1302.8 1349.44,1303.09 1356.13,1303.37 1362.82,1303.66 1369.51,1303.94 1376.2,1304.22 1382.89,1304.51 1389.58,1304.79 1396.27,1305.07 1402.96,1305.35 1409.65,1305.64 1416.34,1305.92 1423.03,1306.2 1429.72,1306.47 1436.41,1306.75 1443.1,1307.03 1449.79,1307.31 1456.48,1307.58 1463.17,1307.86 1469.86,1308.14 1476.55,1308.41 1483.24,1308.68 1489.93,1308.96 1496.62,1309.23 1503.31,1309.5 1510,1309.77 1516.69,1310.05 1523.38,1310.32 1530.07,1310.59 1536.76,1310.86 1543.45,1311.12 1550.14,1311.39 1556.83,1311.66 1563.52,1311.93 1570.21,1312.19 1576.9,1312.46 1583.59,1312.72 1590.28,1312.99 1596.97,1313.25 1603.66,1313.52 1610.35,1313.78 1617.04,1314.04 1623.73,1314.31 1630.42,1314.57 1637.11,1314.83 1643.8,1315.09 1650.49,1315.35 1657.18,1315.61 1663.87,1315.87 1670.56,1316.12 1677.25,1316.38 1683.94,1316.64 1690.63,1316.9 1697.32,1317.15 1704.01,1317.41 1710.71,1317.66 1717.4,1317.92 1724.09,1318.17 1730.78,1318.43 1737.47,1318.68 1744.16,1318.93 1750.85,1319.19 1757.54,1319.44 1764.23,1319.69 1770.92,1319.94 1777.61,1320.19 1784.3,1320.44 1790.99,1320.69 1797.68,1320.94 1804.37,1321.19 1811.06,1321.44 1817.75,1321.68 1824.44,1321.93 1831.13,1322.18 1837.82,1322.42 1844.51,1322.67 1851.2,1322.92 1857.89,1323.16 1864.58,1323.41 1871.27,1323.65 1877.96,1323.89 1884.65,1324.14 1891.34,1324.38 1898.03,1324.62 1904.72,1324.87 1911.41,1325.11 1918.1,1325.35 1924.79,1325.59 1931.48,1325.83 1938.17,1326.07 1944.86,1326.31 1951.55,1326.55 1958.24,1326.79 1964.93,1327.03 1971.62,1327.27 1978.31,1327.51 1985,1327.75 1991.69,1327.99 1998.38,1328.22 2005.07,1328.46 2011.76,1328.7 2018.45,1328.93 2025.14,1329.17 2031.83,1329.41 2038.52,1329.64 2045.21,1329.88 2051.9,1330.11 2058.59,1330.35 2065.28,1330.58 2071.97,1330.82 2078.66,1331.05 2085.35,1331.28 2092.04,1331.52 2098.73,1331.75 2105.42,1331.98 2112.11,1332.22 2118.8,1332.45 2125.49,1332.68 2132.18,1332.91 2138.87,1333.14 2145.56,1333.38 2152.25,1333.61 2158.94,1333.84 2165.63,1334.07 2172.32,1334.3 2179.01,1334.53 2185.7,1334.76 2192.39,1334.99 2199.08,1335.22 2205.77,1335.45 2212.46,1335.68 2219.15,1335.91 2225.84,1336.14 2232.53,1336.37 2239.22,1336.6 2245.91,1336.83 2252.6,1337.05 2259.29,1337.28 2265.99,1337.51 2272.68,1337.74 2279.37,1337.97 2286.06,1338.19 2292.75,1338.42 \"/>\n<polyline clip-path=\"url(#clip232)\" style=\"stroke:#e26f46; stroke-linecap:round; stroke-linejoin:round; stroke-width:4; stroke-opacity:1; fill:none\" points=\"292.4,1386.4 299.09,1386.03 305.78,1385.67 312.47,1385.31 319.16,1384.95 325.85,1384.59 332.54,1384.23 339.231,1383.87 345.921,1383.51 352.611,1383.15 359.301,1382.79 365.991,1382.43 372.681,1382.08 379.371,1381.72 386.061,1381.36 392.752,1381.01 399.442,1380.65 406.132,1380.3 412.822,1379.94 419.512,1379.59 426.202,1379.23 432.892,1378.88 439.582,1378.53 446.272,1378.18 452.963,1377.82 459.653,1377.47 466.343,1377.12 473.033,1376.77 479.723,1376.43 486.413,1376.08 493.103,1375.73 499.793,1375.38 506.484,1375.04 513.174,1374.69 519.864,1374.35 526.554,1374 533.244,1373.66 539.934,1373.31 546.624,1372.97 553.314,1372.63 560.005,1372.29 566.695,1371.95 573.385,1371.61 580.075,1371.27 586.765,1370.93 593.455,1370.59 600.145,1370.26 606.835,1369.92 613.525,1369.59 620.216,1369.25 626.906,1368.92 633.596,1368.59 640.286,1368.25 646.976,1367.92 653.666,1367.59 660.356,1367.26 667.046,1366.93 673.737,1366.6 680.427,1366.28 687.117,1365.95 693.807,1365.62 700.497,1365.3 707.187,1364.97 713.877,1364.65 720.567,1364.33 727.258,1364.01 733.948,1363.68 740.638,1363.36 747.328,1363.05 754.018,1362.73 760.708,1362.41 767.398,1362.09 774.088,1361.78 780.778,1361.46 787.469,1361.15 794.159,1360.83 800.849,1360.52 807.539,1360.21 814.229,1359.9 820.919,1359.59 827.609,1359.28 834.299,1358.97 840.99,1358.66 847.68,1358.35 854.37,1358.05 861.06,1357.74 867.75,1357.44 874.44,1357.13 881.13,1356.83 887.82,1356.53 894.511,1356.23 901.201,1355.93 907.891,1355.63 914.581,1355.33 921.271,1355.03 927.961,1354.73 934.651,1354.44 941.341,1354.14 948.031,1353.85 954.722,1353.56 961.412,1353.26 968.102,1352.97 974.792,1352.68 981.482,1352.39 988.172,1352.1 994.862,1351.81 1001.55,1351.53 1008.24,1351.24 1014.93,1350.96 1021.62,1350.67 1028.31,1350.39 1035,1350.1 1041.69,1349.82 1048.38,1349.54 1055.07,1349.26 1061.76,1348.98 1068.45,1348.7 1075.14,1348.42 1081.83,1348.15 1088.52,1347.87 1095.21,1347.59 1101.9,1347.32 1108.59,1347.05 1115.28,1346.77 1121.97,1346.5 1128.66,1346.23 1135.35,1345.96 1142.04,1345.69 1148.74,1345.42 1155.43,1345.15 1162.12,1344.88 1168.81,1344.62 1175.5,1344.35 1182.19,1344.09 1188.88,1343.82 1195.57,1343.56 1202.26,1343.3 1208.95,1343.04 1215.64,1342.78 1222.33,1342.52 1229.02,1342.26 1235.71,1342 1242.4,1341.74 1249.09,1341.48 1255.78,1341.23 1262.47,1340.97 1269.16,1340.72 1275.85,1340.46 1282.54,1340.21 1289.23,1339.96 1295.92,1339.71 1302.61,1339.46 1309.3,1339.21 1315.99,1338.96 1322.68,1338.71 1329.37,1338.46 1336.06,1338.22 1342.75,1337.97 1349.44,1337.72 1356.13,1337.48 1362.82,1337.24 1369.51,1336.99 1376.2,1336.75 1382.89,1336.51 1389.58,1336.27 1396.27,1336.03 1402.96,1335.79 1409.65,1335.55 1416.34,1335.31 1423.03,1335.07 1429.72,1334.84 1436.41,1334.6 1443.1,1334.37 1449.79,1334.13 1456.48,1333.9 1463.17,1333.66 1469.86,1333.43 1476.55,1333.2 1483.24,1332.97 1489.93,1332.74 1496.62,1332.51 1503.31,1332.28 1510,1332.05 1516.69,1331.82 1523.38,1331.59 1530.07,1331.37 1536.76,1331.14 1543.45,1330.91 1550.14,1330.69 1556.83,1330.47 1563.52,1330.24 1570.21,1330.02 1576.9,1329.8 1583.59,1329.57 1590.28,1329.35 1596.97,1329.13 1603.66,1328.91 1610.35,1328.69 1617.04,1328.47 1623.73,1328.26 1630.42,1328.04 1637.11,1327.82 1643.8,1327.6 1650.49,1327.39 1657.18,1327.17 1663.87,1326.96 1670.56,1326.74 1677.25,1326.53 1683.94,1326.32 1690.63,1326.1 1697.32,1325.89 1704.01,1325.68 1710.71,1325.47 1717.4,1325.26 1724.09,1325.05 1730.78,1324.84 1737.47,1324.63 1744.16,1324.42 1750.85,1324.21 1757.54,1324 1764.23,1323.79 1770.92,1323.59 1777.61,1323.38 1784.3,1323.17 1790.99,1322.97 1797.68,1322.76 1804.37,1322.56 1811.06,1322.36 1817.75,1322.15 1824.44,1321.95 1831.13,1321.75 1837.82,1321.54 1844.51,1321.34 1851.2,1321.14 1857.89,1320.94 1864.58,1320.74 1871.27,1320.54 1877.96,1320.34 1884.65,1320.14 1891.34,1319.94 1898.03,1319.74 1904.72,1319.54 1911.41,1319.34 1918.1,1319.14 1924.79,1318.95 1931.48,1318.75 1938.17,1318.55 1944.86,1318.36 1951.55,1318.16 1958.24,1317.96 1964.93,1317.77 1971.62,1317.57 1978.31,1317.38 1985,1317.18 1991.69,1316.99 1998.38,1316.8 2005.07,1316.6 2011.76,1316.41 2018.45,1316.22 2025.14,1316.02 2031.83,1315.83 2038.52,1315.64 2045.21,1315.45 2051.9,1315.25 2058.59,1315.06 2065.28,1314.87 2071.97,1314.68 2078.66,1314.49 2085.35,1314.3 2092.04,1314.11 2098.73,1313.92 2105.42,1313.73 2112.11,1313.54 2118.8,1313.35 2125.49,1313.16 2132.18,1312.97 2138.87,1312.78 2145.56,1312.59 2152.25,1312.41 2158.94,1312.22 2165.63,1312.03 2172.32,1311.84 2179.01,1311.65 2185.7,1311.47 2192.39,1311.28 2199.08,1311.09 2205.77,1310.9 2212.46,1310.72 2219.15,1310.53 2225.84,1310.34 2232.53,1310.16 2239.22,1309.97 2245.91,1309.78 2252.6,1309.6 2259.29,1309.41 2265.99,1309.22 2272.68,1309.04 2279.37,1308.85 2286.06,1308.67 2292.75,1308.48 \"/>\n<polyline clip-path=\"url(#clip232)\" style=\"stroke:#3da44d; stroke-linecap:round; stroke-linejoin:round; stroke-width:4; stroke-opacity:1; fill:none\" points=\"292.4,160.256 299.09,160.362 305.78,160.472 312.47,160.584 319.16,160.699 325.85,160.817 332.54,160.938 339.231,161.062 345.921,161.189 352.611,161.318 359.301,161.451 365.991,161.586 372.681,161.723 379.371,161.864 386.061,162.007 392.752,162.152 399.442,162.3 406.132,162.451 412.822,162.604 419.512,162.76 426.202,162.918 432.892,163.078 439.582,163.241 446.272,163.406 452.963,163.574 459.653,163.744 466.343,163.916 473.033,164.09 479.723,164.266 486.413,164.445 493.103,164.626 499.793,164.809 506.484,164.994 513.174,165.181 519.864,165.37 526.554,165.561 533.244,165.754 539.934,165.95 546.624,166.147 553.314,166.346 560.005,166.547 566.695,166.75 573.385,166.954 580.075,167.161 586.765,167.369 593.455,167.579 600.145,167.792 606.835,168.005 613.525,168.221 620.216,168.438 626.906,168.657 633.596,168.878 640.286,169.1 646.976,169.325 653.666,169.55 660.356,169.778 667.046,170.007 673.737,170.237 680.427,170.47 687.117,170.704 693.807,170.939 700.497,171.176 707.187,171.415 713.877,171.655 720.567,171.896 727.258,172.139 733.948,172.384 740.638,172.63 747.328,172.878 754.018,173.127 760.708,173.377 767.398,173.629 774.088,173.883 780.778,174.138 787.469,174.394 794.159,174.652 800.849,174.911 807.539,175.172 814.229,175.434 820.919,175.697 827.609,175.962 834.299,176.228 840.99,176.495 847.68,176.764 854.37,177.034 861.06,177.306 867.75,177.579 874.44,177.853 881.13,178.129 887.82,178.406 894.511,178.684 901.201,178.964 907.891,179.245 914.581,179.527 921.271,179.811 927.961,180.096 934.651,180.382 941.341,180.67 948.031,180.959 954.722,181.249 961.412,181.54 968.102,181.833 974.792,182.128 981.482,182.423 988.172,182.72 994.862,183.018 1001.55,183.318 1008.24,183.619 1014.93,183.921 1021.62,184.224 1028.31,184.529 1035,184.835 1041.69,185.143 1048.38,185.452 1055.07,185.762 1061.76,186.073 1068.45,186.386 1075.14,186.7 1081.83,187.016 1088.52,187.333 1095.21,187.651 1101.9,187.97 1108.59,188.291 1115.28,188.614 1121.97,188.937 1128.66,189.262 1135.35,189.589 1142.04,189.917 1148.74,190.246 1155.43,190.576 1162.12,190.908 1168.81,191.242 1175.5,191.577 1182.19,191.913 1188.88,192.25 1195.57,192.589 1202.26,192.93 1208.95,193.272 1215.64,193.615 1222.33,193.96 1229.02,194.306 1235.71,194.654 1242.4,195.003 1249.09,195.353 1255.78,195.705 1262.47,196.059 1269.16,196.414 1275.85,196.77 1282.54,197.128 1289.23,197.488 1295.92,197.849 1302.61,198.212 1309.3,198.576 1315.99,198.941 1322.68,199.308 1329.37,199.677 1336.06,200.047 1342.75,200.419 1349.44,200.793 1356.13,201.168 1362.82,201.544 1369.51,201.922 1376.2,202.302 1382.89,202.683 1389.58,203.066 1396.27,203.451 1402.96,203.837 1409.65,204.225 1416.34,204.614 1423.03,205.005 1429.72,205.398 1436.41,205.792 1443.1,206.188 1449.79,206.586 1456.48,206.986 1463.17,207.387 1469.86,207.789 1476.55,208.194 1483.24,208.6 1489.93,209.008 1496.62,209.417 1503.31,209.829 1510,210.242 1516.69,210.656 1523.38,211.073 1530.07,211.491 1536.76,211.911 1543.45,212.333 1550.14,212.756 1556.83,213.181 1563.52,213.608 1570.21,214.037 1576.9,214.468 1583.59,214.9 1590.28,215.334 1596.97,215.77 1603.66,216.208 1610.35,216.647 1617.04,217.089 1623.73,217.532 1630.42,217.977 1637.11,218.423 1643.8,218.872 1650.49,219.322 1657.18,219.774 1663.87,220.228 1670.56,220.684 1677.25,221.142 1683.94,221.601 1690.63,222.062 1697.32,222.525 1704.01,222.99 1710.71,223.457 1717.4,223.926 1724.09,224.396 1730.78,224.868 1737.47,225.342 1744.16,225.818 1750.85,226.296 1757.54,226.776 1764.23,227.257 1770.92,227.74 1777.61,228.225 1784.3,228.712 1790.99,229.201 1797.68,229.691 1804.37,230.183 1811.06,230.678 1817.75,231.173 1824.44,231.671 1831.13,232.171 1837.82,232.672 1844.51,233.175 1851.2,233.68 1857.89,234.186 1864.58,234.695 1871.27,235.205 1877.96,235.717 1884.65,236.23 1891.34,236.746 1898.03,237.263 1904.72,237.782 1911.41,238.302 1918.1,238.824 1924.79,239.348 1931.48,239.874 1938.17,240.401 1944.86,240.93 1951.55,241.46 1958.24,241.993 1964.93,242.526 1971.62,243.062 1978.31,243.599 1985,244.137 1991.69,244.677 1998.38,245.219 2005.07,245.762 2011.76,246.307 2018.45,246.853 2025.14,247.401 2031.83,247.95 2038.52,248.501 2045.21,249.053 2051.9,249.606 2058.59,250.161 2065.28,250.717 2071.97,251.275 2078.66,251.833 2085.35,252.393 2092.04,252.955 2098.73,253.518 2105.42,254.081 2112.11,254.647 2118.8,255.213 2125.49,255.78 2132.18,256.349 2138.87,256.918 2145.56,257.489 2152.25,258.061 2158.94,258.634 2165.63,259.208 2172.32,259.782 2179.01,260.358 2185.7,260.935 2192.39,261.512 2199.08,262.09 2205.77,262.669 2212.46,263.249 2219.15,263.83 2225.84,264.411 2232.53,264.993 2239.22,265.575 2245.91,266.158 2252.6,266.742 2259.29,267.326 2265.99,267.911 2272.68,268.496 2279.37,269.081 2286.06,269.667 2292.75,270.253 \"/>\n<path clip-path=\"url(#clip230)\" d=\"M2027.42 374.156 L2282.08 374.156 L2282.08 166.796 L2027.42 166.796  Z\" fill=\"#ffffff\" fill-rule=\"evenodd\" fill-opacity=\"1\"/>\n<polyline clip-path=\"url(#clip230)\" style=\"stroke:#000000; stroke-linecap:round; stroke-linejoin:round; stroke-width:4; stroke-opacity:1; fill:none\" points=\"2027.42,374.156 2282.08,374.156 2282.08,166.796 2027.42,166.796 2027.42,374.156 \"/>\n<polyline clip-path=\"url(#clip230)\" style=\"stroke:#009af9; stroke-linecap:round; stroke-linejoin:round; stroke-width:4; stroke-opacity:1; fill:none\" points=\"2050.98,218.636 2192.34,218.636 \"/>\n<path clip-path=\"url(#clip230)\" d=\"M2215.9 225.684 L2215.9 209.99 L2220.16 209.99 L2220.16 225.522 Q2220.16 229.203 2221.6 231.055 Q2223.03 232.883 2225.9 232.883 Q2229.35 232.883 2231.34 230.684 Q2233.36 228.485 2233.36 224.689 L2233.36 209.99 L2237.61 209.99 L2237.61 235.916 L2233.36 235.916 L2233.36 231.934 Q2231.8 234.295 2229.74 235.453 Q2227.71 236.587 2225 236.587 Q2220.53 236.587 2218.22 233.809 Q2215.9 231.031 2215.9 225.684 M2226.62 209.365 L2226.62 209.365 Z\" fill=\"#000000\" fill-rule=\"evenodd\" fill-opacity=\"1\" /><path clip-path=\"url(#clip230)\" d=\"M2245.53 233.369 L2250.25 233.369 L2250.25 219.226 L2245.09 220.175 L2245.09 217.49 L2250.42 216.587 L2253.59 216.587 L2253.59 233.369 L2258.33 233.369 L2258.33 235.916 L2245.53 235.916 L2245.53 233.369 Z\" fill=\"#000000\" fill-rule=\"evenodd\" fill-opacity=\"1\" /><polyline clip-path=\"url(#clip230)\" style=\"stroke:#e26f46; stroke-linecap:round; stroke-linejoin:round; stroke-width:4; stroke-opacity:1; fill:none\" points=\"2050.98,270.476 2192.34,270.476 \"/>\n<path clip-path=\"url(#clip230)\" d=\"M2215.9 277.524 L2215.9 261.83 L2220.16 261.83 L2220.16 277.362 Q2220.16 281.043 2221.6 282.895 Q2223.03 284.723 2225.9 284.723 Q2229.35 284.723 2231.34 282.524 Q2233.36 280.325 2233.36 276.529 L2233.36 261.83 L2237.61 261.83 L2237.61 287.756 L2233.36 287.756 L2233.36 283.774 Q2231.8 286.135 2229.74 287.293 Q2227.71 288.427 2225 288.427 Q2220.53 288.427 2218.22 285.649 Q2215.9 282.871 2215.9 277.524 M2226.62 261.205 L2226.62 261.205 Z\" fill=\"#000000\" fill-rule=\"evenodd\" fill-opacity=\"1\" /><path clip-path=\"url(#clip230)\" d=\"M2248.12 285.117 L2257.94 285.117 L2257.94 287.756 L2244.1 287.756 L2244.1 285.209 Q2244.88 284.492 2246.34 283.196 Q2254.3 276.135 2254.3 273.959 Q2254.3 272.432 2253.1 271.506 Q2251.9 270.557 2249.93 270.557 Q2248.73 270.557 2247.31 270.973 Q2245.9 271.367 2244.24 272.177 L2244.24 269.33 Q2246.02 268.682 2247.55 268.358 Q2249.1 268.034 2250.42 268.034 Q2253.77 268.034 2255.79 269.561 Q2257.8 271.089 2257.8 273.589 Q2257.8 276.807 2250.14 283.381 Q2248.84 284.492 2248.12 285.117 Z\" fill=\"#000000\" fill-rule=\"evenodd\" fill-opacity=\"1\" /><polyline clip-path=\"url(#clip230)\" style=\"stroke:#3da44d; stroke-linecap:round; stroke-linejoin:round; stroke-width:4; stroke-opacity:1; fill:none\" points=\"2050.98,322.316 2192.34,322.316 \"/>\n<path clip-path=\"url(#clip230)\" d=\"M2215.9 329.364 L2215.9 313.67 L2220.16 313.67 L2220.16 329.202 Q2220.16 332.883 2221.6 334.735 Q2223.03 336.563 2225.9 336.563 Q2229.35 336.563 2231.34 334.364 Q2233.36 332.165 2233.36 328.369 L2233.36 313.67 L2237.61 313.67 L2237.61 339.596 L2233.36 339.596 L2233.36 335.614 Q2231.8 337.975 2229.74 339.133 Q2227.71 340.267 2225 340.267 Q2220.53 340.267 2218.22 337.489 Q2215.9 334.711 2215.9 329.364 M2226.62 313.045 L2226.62 313.045 Z\" fill=\"#000000\" fill-rule=\"evenodd\" fill-opacity=\"1\" /><path clip-path=\"url(#clip230)\" d=\"M2254.05 329.133 Q2256.18 329.549 2257.34 330.823 Q2258.52 332.073 2258.52 333.971 Q2258.52 336.841 2256.32 338.392 Q2254.12 339.943 2250.02 339.943 Q2248.7 339.943 2247.24 339.688 Q2245.81 339.457 2244.19 338.994 L2244.19 336.193 Q2245.39 336.818 2246.76 337.119 Q2248.15 337.42 2249.7 337.42 Q2252.22 337.42 2253.61 336.517 Q2255 335.591 2255 333.971 Q2255 332.258 2253.7 331.378 Q2252.43 330.499 2249.93 330.499 L2247.94 330.499 L2247.94 327.999 L2250.11 327.999 Q2252.29 327.999 2253.4 327.281 Q2254.54 326.54 2254.54 325.151 Q2254.54 323.809 2253.38 323.114 Q2252.22 322.397 2250.02 322.397 Q2249.1 322.397 2247.92 322.605 Q2246.74 322.813 2244.86 323.346 L2244.86 320.684 Q2246.55 320.29 2248.03 320.082 Q2249.51 319.874 2250.79 319.874 Q2254.12 319.874 2256.06 321.239 Q2258.03 322.605 2258.03 324.897 Q2258.03 326.494 2256.99 327.605 Q2255.95 328.716 2254.05 329.133 Z\" fill=\"#000000\" fill-rule=\"evenodd\" fill-opacity=\"1\" /></svg>\n"
     },
     "metadata": {},
     "output_type": "display_data"
    }
   ],
   "source": [
    "# @changeprecision Float32 begin\n",
    "# Let's solve\n",
    "\n",
    "# λ = zeros(params.nx)    # goal constraint\n",
    "# λc = [zeros(params.ncu_cone) for i = 1:N-1]   # goal constraint\n",
    "    \n",
    "# Let's solve\n",
    "\n",
    "nx = 6\n",
    "nu = 3\n",
    "N = 301\n",
    "dt = 0.05\n",
    "t_vec = dt*(0:N-1)\n",
    "x0 = [4, 2, 20, -3, 2, -5.0]\n",
    "xg = [0,0,0,0,0,0.0]\n",
    "Xref = [deepcopy(xg) for i = 1:N]\n",
    "Uref = [zeros(nu) for i = 1:N-1]\n",
    "\n",
    "Q = 1e-1*I(nx)\n",
    "R = 1e-0*I(nu)\n",
    "Qf = 10*I(nx)\n",
    "\n",
    "# ground_level = 0.0\n",
    "gravity = [0; 0; -9.81]\n",
    "mass = 10.0\n",
    "# ωPlanet = [0.0; 0.0; 0.0]\n",
    "perWeightMax = 2.0\n",
    "θ_thrust_max = 5.0  # deg\n",
    "# θ_glideslope = 60.0 # deg\n",
    "# glide_recover_k = 8\n",
    "\n",
    "A_cone = [1 0 0; 0 1 0]\n",
    "c_cone = [0.0, 0.0, tand(θ_thrust_max)]\n",
    "u_bnd = mass * abs(gravity[3]) * perWeightMax\n",
    "u_min = -170*ones(nu)\n",
    "u_max =  170*ones(nu)\n",
    "\n",
    "# state is x y v θ\n",
    "x_min = [-5,-5,0,-10,-10,-10.0]\n",
    "x_max = [5,5,20,10,10,10.0]\n",
    "\n",
    "ncx = 2*nx*0\n",
    "ncu = 2*nu*0\n",
    "ncg = 1\n",
    "ncu_cone = nu*1; \n",
    "cone_scale = 1e2  # very fragile for each problem\n",
    "\n",
    "params = (\n",
    "    nx = nx,\n",
    "    nu = nu,\n",
    "    ncx = ncx,\n",
    "    ncu = ncu,\n",
    "    ncg = ncg,\n",
    "    ncu_cone = ncu_cone,\n",
    "    A_cone = A_cone,\n",
    "    c_cone = c_cone,\n",
    "    N = N,\n",
    "    Q = Q,\n",
    "    R = R,\n",
    "    Qf = Qf,\n",
    "    u_min = u_min,\n",
    "    u_max = u_max,\n",
    "    x_min = x_min,\n",
    "    x_max = x_max,\n",
    "    Xref = Xref,\n",
    "    Uref = Uref,\n",
    "    dt = dt,\n",
    "    mc = 1.0,\n",
    "    mp = 0.2,\n",
    "    l = 0.5,\n",
    "    g = 9.81,\n",
    ");\n",
    "\n",
    "# previous iterate\n",
    "X = [deepcopy(x0) for i = 1:N]\n",
    "U = [zeros(nu) for k = 1:N-1]\n",
    "# X = Xref*1\n",
    "# U = Uref*1\n",
    "# new iterate\n",
    "Xn = deepcopy(X)\n",
    "Un = deepcopy(U)\n",
    "\n",
    "P = [zeros(nx,nx) for i = 1:N]   # cost to go quadratic term\n",
    "p = [zeros(nx) for i = 1:N]      # cost to go linear term\n",
    "d = [zeros(nu) for i = 1:N-1]    # feedforward control\n",
    "K = [zeros(nu,nx) for i = 1:N-1] # feedback gain\n",
    "u_ = mpc(params,X,U,P,p,K,d,Xn,Un; atol=1e-4, max_iters = 20, verbose = true, ρ = 1e-2, ρ_max = 1e8, ϕ = 10.0);\n",
    "function mat_from_vec(X)::Matrix\n",
    "    # convert a vector of vectors to a matrix \n",
    "    Xm = hcat(X...)\n",
    "    return Xm \n",
    "end\n",
    "Xsim_m = mat_from_vec(Xn)\n",
    "Usim_m = mat_from_vec(Un)\n",
    "using Plots\n",
    "display(plot(t_vec,Xsim_m',label = [\"x₁\" \"x₂\" \"x₃\" \"ẋ₁\" \"ẋ₂\" \"ẋ₃\"],linestyle=[:solid :solid :solid :dash :dash :dash],\n",
    "             title = \"State History\",\n",
    "             xlabel = \"time (s)\", ylabel = \"x\"))\n",
    "display(plot(t_vec[1:end-1],Usim_m',label = [\"u₁\" \"u₂\" \"u₃\"],\n",
    "             title = \"Input History\",\n",
    "             xlabel = \"time (s)\", ylabel = \"u\"))\n",
    "# end"
   ]
  },
  {
   "cell_type": "code",
   "execution_count": 99,
   "id": "7157fa13",
   "metadata": {},
   "outputs": [
    {
     "data": {
      "text/plain": [
       "-0.5320046804688143"
      ]
     },
     "metadata": {},
     "output_type": "display_data"
    },
    {
     "data": {
      "text/plain": [
       "-0.5761727897877353"
      ]
     },
     "metadata": {},
     "output_type": "display_data"
    },
    {
     "data": {
      "text/plain": [
       "-0.6203214681348417"
      ]
     },
     "metadata": {},
     "output_type": "display_data"
    },
    {
     "data": {
      "text/plain": [
       "-0.664449075853959"
      ]
     },
     "metadata": {},
     "output_type": "display_data"
    },
    {
     "data": {
      "text/plain": [
       "-0.7085539934381799"
      ]
     },
     "metadata": {},
     "output_type": "display_data"
    },
    {
     "data": {
      "text/plain": [
       "-0.752634621405111"
      ]
     },
     "metadata": {},
     "output_type": "display_data"
    },
    {
     "data": {
      "text/plain": [
       "-0.796689380172019"
      ]
     },
     "metadata": {},
     "output_type": "display_data"
    },
    {
     "data": {
      "text/plain": [
       "-0.8407167099311419"
      ]
     },
     "metadata": {},
     "output_type": "display_data"
    },
    {
     "data": {
      "text/plain": [
       "-0.8847150705250382"
      ]
     },
     "metadata": {},
     "output_type": "display_data"
    },
    {
     "data": {
      "text/plain": [
       "-0.9286829413219344"
      ]
     },
     "metadata": {},
     "output_type": "display_data"
    },
    {
     "data": {
      "text/plain": [
       "-0.9726188210913609"
      ]
     },
     "metadata": {},
     "output_type": "display_data"
    },
    {
     "data": {
      "text/plain": [
       "-1.0165212278796805"
      ]
     },
     "metadata": {},
     "output_type": "display_data"
    },
    {
     "data": {
      "text/plain": [
       "-1.060388698885797"
      ]
     },
     "metadata": {},
     "output_type": "display_data"
    },
    {
     "data": {
      "text/plain": [
       "-1.1042197903370283"
      ]
     },
     "metadata": {},
     "output_type": "display_data"
    },
    {
     "data": {
      "text/plain": [
       "-1.1480130773650927"
      ]
     },
     "metadata": {},
     "output_type": "display_data"
    },
    {
     "data": {
      "text/plain": [
       "-1.1917671538821892"
      ]
     },
     "metadata": {},
     "output_type": "display_data"
    },
    {
     "data": {
      "text/plain": [
       "-1.2354806324571879"
      ]
     },
     "metadata": {},
     "output_type": "display_data"
    },
    {
     "data": {
      "text/plain": [
       "-1.2791521441921567"
      ]
     },
     "metadata": {},
     "output_type": "display_data"
    },
    {
     "data": {
      "text/plain": [
       "-1.3227803385988173"
      ]
     },
     "metadata": {},
     "output_type": "display_data"
    },
    {
     "data": {
      "text/plain": [
       "-1.3663638834752962"
      ]
     },
     "metadata": {},
     "output_type": "display_data"
    },
    {
     "data": {
      "text/plain": [
       "-1.4099014647830685"
      ]
     },
     "metadata": {},
     "output_type": "display_data"
    },
    {
     "data": {
      "text/plain": [
       "-1.453391786524044"
      ]
     },
     "metadata": {},
     "output_type": "display_data"
    },
    {
     "data": {
      "text/plain": [
       "-1.496833570617806"
      ]
     },
     "metadata": {},
     "output_type": "display_data"
    },
    {
     "data": {
      "text/plain": [
       "-1.5402255567791654"
      ]
     },
     "metadata": {},
     "output_type": "display_data"
    },
    {
     "data": {
      "text/plain": [
       "-1.5835665023958487"
      ]
     },
     "metadata": {},
     "output_type": "display_data"
    },
    {
     "name": "stdout",
     "output_type": "stream",
     "text": [
      "SATISFY CONE"
     ]
    }
   ],
   "source": [
    "# Check conic violation\n",
    "convio = 0.0\n",
    "for k = 1:25\n",
    "    Uc = cone_u(params, U[k])\n",
    "    huc = norm(Uc[1:2]) - Uc[3]\n",
    "    convio = max(convio, norm(huc + abs.(huc),Inf))\n",
    "    display(huc) # should <= 0\n",
    "end\n",
    "convio == 0 && print(\"SATISFY CONE\")\n",
    "Xref .= X;\n",
    "Uref .= U;"
   ]
  }
 ],
 "metadata": {
  "kernelspec": {
   "display_name": "Julia 1.6.7",
   "language": "julia",
   "name": "julia-1.6"
  },
  "language_info": {
   "file_extension": ".jl",
   "mimetype": "application/julia",
   "name": "julia",
   "version": "1.6.7"
  }
 },
 "nbformat": 4,
 "nbformat_minor": 5
}
