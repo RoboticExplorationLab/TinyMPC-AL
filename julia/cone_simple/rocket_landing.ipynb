{
 "cells": [
  {
   "cell_type": "code",
<<<<<<< HEAD
   "execution_count": 73,
=======
   "execution_count": 762,
>>>>>>> khai_dev_mpc
   "id": "6099cb4b-a2da-4b1b-ba0f-856484092fc4",
   "metadata": {},
   "outputs": [
    {
     "name": "stderr",
     "output_type": "stream",
     "text": [
<<<<<<< HEAD
      "\u001b[32m\u001b[1m  Activating\u001b[22m\u001b[39m environment at `~/Documents/REx Lab/TinyMPC/julia/cone_simple/Project.toml`\n"
     ]
    },
    {
     "name": "stderr",
     "output_type": "stream",
     "text": [
      "\u001b[32m\u001b[1m   Resolving\u001b[22m\u001b[39m package versions...\n"
     ]
    },
    {
     "name": "stderr",
     "output_type": "stream",
     "text": [
      "\u001b[32m\u001b[1m  No Changes\u001b[22m\u001b[39m to `~/Documents/REx Lab/TinyMPC/julia/cone_simple/Project.toml`\n",
      "\u001b[32m\u001b[1m  No Changes\u001b[22m\u001b[39m to `~/Documents/REx Lab/TinyMPC/julia/cone_simple/Manifest.toml`\n"
=======
      "\u001b[32m\u001b[1m  Activating\u001b[22m\u001b[39m environment at `~/SSD/Code/TinyMPC/julia/cone_simple/Project.toml`\n",
      "\u001b[32m\u001b[1mPrecompiling\u001b[22m\u001b[39m project...\n",
      "\u001b[33m  ✓ \u001b[39m\u001b[90mSpecialFunctions\u001b[39m\n",
      "\u001b[33m  ✓ \u001b[39m\u001b[90mDiffRules\u001b[39m\n",
      "\u001b[33m  ✓ \u001b[39m\u001b[90mForwardDiff\u001b[39m\n",
      "\u001b[33m  ✓ \u001b[39m\u001b[90mMathOptInterface\u001b[39m\n",
      "\u001b[33m  ✓ \u001b[39mCOSMO\n",
      "\u001b[33m  ✓ \u001b[39mJuMP\n",
      "  6 dependencies successfully precompiled in 69 seconds (39 already precompiled)\n",
      "  \u001b[33m6\u001b[39m dependencies precompiled but different versions are currently loaded. Restart julia to access the new versions\n"
>>>>>>> khai_dev_mpc
     ]
    }
   ],
   "source": [
    "using Pkg\n",
    "Pkg.activate(@__DIR__)\n",
    "Pkg.instantiate()\n",
    "import Pkg; Pkg.add(\"ForwardDiff\")\n",
    "\n",
    "using LinearAlgebra\n",
    "using Printf\n",
    "import ForwardDiff as FD"
   ]
  },
  {
   "cell_type": "code",
<<<<<<< HEAD
   "execution_count": 74,
   "id": "2539eadc-1ce3-410e-80f6-f5588603ffef",
   "metadata": {},
   "outputs": [],
   "source": [
    "# include(\"random_linear.jl\")\n",
    "# A, B = gendiscrete(4, 3)"
   ]
  },
  {
   "cell_type": "code",
   "execution_count": 75,
=======
   "execution_count": 763,
>>>>>>> khai_dev_mpc
   "id": "6179ca57-b5ff-4274-8391-85d5e728fc16",
   "metadata": {},
   "outputs": [
    {
     "data": {
      "text/plain": [
       "mpc (generic function with 1 method)"
      ]
     },
<<<<<<< HEAD
=======
     "execution_count": 763,
>>>>>>> khai_dev_mpc
     "metadata": {},
     "output_type": "display_data"
    }
   ],
   "source": [
    "# -------------------THIS IS ALL ALTRO-------------------------------\n",
    "# This enables goal equality constraints, state and input ineq constraints.\n",
    "\n",
    "function stage_cost(p::NamedTuple,x,u,k)\n",
    "    dx = x - p.Xref[k]\n",
    "    du = u - p.Uref[k]\n",
    "    return 0.5*dx'*p.Q*dx + 0.5*du'*p.R*du\n",
    "end\n",
    "function term_cost(p::NamedTuple,x)\n",
    "    dx = x - p.Xref[p.N]\n",
    "    return 0.5*dx'*p.Qf*dx\n",
    "end\n",
    "function stage_cost_expansion(p::NamedTuple,k)\n",
    "    dx = - p.Xref[k]\n",
    "    du = - p.Uref[k]\n",
    "    return p.Q, p.Q*dx, p.R, p.R*du  # Hessian and gradient\n",
    "end\n",
    "function term_cost_expansion(p::NamedTuple)\n",
    "    dx = - p.Xref[p.N]\n",
    "    return p.Qf, p.Qf*dx\n",
    "end\n",
    "function conic_cost_expansion(p::NamedTuple, u, λc, ρ, k)\n",
    "    λhat = λc # already updated\n",
    "    ∇c = cone_u_jac(p, u)\n",
    "    G = ∇c'*∇projection(λhat)*projection(λhat)\n",
<<<<<<< HEAD
    "    H = ∇c'*∇projection(λhat)'*∇projection(λhat)*∇c*ρ\n",
=======
    "    H = ∇c'*∇projection(λhat)'*∇projection(λhat)*∇c/ρ\n",
>>>>>>> khai_dev_mpc
    "    # display(∇projection(λhat)')\n",
    "    # H = zeros(p.ncu_cone,p.ncu_cone)\n",
    "    return (G - H*u), H\n",
    "end\n",
    "function backward_pass!(params,X,U,P,p,d,K,reg,μ,μx,ρ,λ,λc)\n",
    "    \"\"\"iLQR backward pass with AL. This !function update its parameters\n",
    "    \"\"\"\n",
    "    N = params.N\n",
    "    ΔJ = 0.0    # expected cost reduction\n",
    "\n",
    "    # terminal cost expansion\n",
    "    P[N], p[N] = term_cost_expansion(params) \n",
    "    \n",
    "    if (params.ncx > 0)\n",
    "        # # add AL terms for the state constraint at the final time step\n",
    "        hxv = ineq_con_x(params,X[N])  # h(x) violation  \n",
    "        mask = eval_mask(μx[N],hxv)\n",
    "        ∇hx = ineq_con_x_jac(params,X[N])\n",
    "        # add these into the cost-to-go p and P\n",
    "        p[N]  += ∇hx'*(μx[N] - ρ*(mask * [params.x_max;-params.x_min]))  # multiplier term (1st)\n",
    "        P[N]  += ρ*∇hx'*mask*∇hx                # penalty term (2nd)\n",
    "    end\n",
    "    \n",
    "    if (params.ncg > 0)\n",
    "        # add AL terms for goal constraint\n",
    "        ∇hx = diagm(ones(params.nx))\n",
    "        # add these into the CTG p and P (equality active)\n",
    "        p[N]  += ∇hx'*(λ - ρ*params.Xref[N])   \n",
    "        P[N]  += ρ*∇hx'∇hx\n",
    "    end\n",
    "\n",
    "    # iterate from N-1 to 1 backwards\n",
    "    for k = (N-1):(-1):1\n",
    "        # dynamics jacobians (linearization about previous iterate)\n",
    "        A = FD.jacobian(_x -> discrete_dynamics(params,_x,U[k],k),X[k])\n",
    "        B = FD.jacobian(_u -> discrete_dynamics(params,X[k],_u,k),U[k])\n",
    "\n",
    "        Sxx,Sx,Suu,Su = stage_cost_expansion(params,k)\n",
    "        \n",
    "        # one-step cost expansion: Q, Q*dx, R, R*du\n",
    "        Sx += A' * (P[k+1]*f + p[k+1]) \n",
    "        Su += B' * (P[k+1]*f + p[k+1]) \n",
    "        Sxx += A'*(P[k+1])*A\n",
    "        Suu += B'*(P[k+1] + reg*I)*B                                     \n",
    "        Sux = B'*(P[k+1])*A  \n",
    "        if (params.ncu > 0)\n",
    "            # control constraints\n",
    "            huv = ineq_con_u(params,U[k])  # calculate h(u) constraint\n",
    "            mask = eval_mask(μ[k],huv)  # choose active\n",
    "            ∇hu = ineq_con_u_jac(params,U[k])\n",
    "            Su  += ∇hu'*(μ[k] - ρ*(mask * [params.u_max;-params.u_min])) # add to cost\n",
    "            Suu += ρ*∇hu'*mask*∇hu\n",
    "        end\n",
    "        if (params.ncx > 0)\n",
    "            # state constraints\n",
    "            hxv = ineq_con_x(params,X[k])\n",
    "            mask = eval_mask(μx[k],hxv)\n",
    "            ∇hx = ineq_con_x_jac(params,X[k])\n",
    "            Sx  += ∇hx'*(μx[k] - ρ*(mask * [params.x_max;-params.x_min]))\n",
    "            Sxx += ρ*∇hx'*mask*∇hx\n",
    "        end\n",
    "        if (params.ncu_cone > 0)\n",
    "            # conic constraints\n",
    "            Qu, Quu = conic_cost_expansion(params, U[k], λc[k], ρ/cone_scale, k)\n",
    "            # display(Quu)\n",
    "            Su += Qu\n",
    "            Suu += Quu\n",
    "        end\n",
    "        \n",
    "        # Calculate Gains\n",
    "        F = cholesky(Symmetric(Suu))\n",
    "        d[k] = F\\Su\n",
    "        K[k] = F\\Sux\n",
    "\n",
    "        # Cost-to-go Recurrence (PSD stabilizing version, last term)\n",
    "        P[k] = Sxx + K[k]'*Suu*K[k] - 2*K[k]'*Sux\n",
    "        p[k] = Sx + K[k]'*Suu*d[k] - K[k]'*Su - Sux'*d[k]\n",
    "        ΔJ += Su'*d[k]\n",
    "    end\n",
    "\n",
    "    return ΔJ  # but also change params\n",
    "end\n",
    "function forward_pass!(params,X,U,K,d,ΔJ,Xn,Un,μ,μx,ρ,λ; \n",
    "                        max_linesearch_iters = 20)\n",
    "    \"\"\"iLQR forward pass and line-search\n",
    "    This !function update its parameters\n",
    "    \"\"\"\n",
    "    N = params.N\n",
    "        # Forward Rollout\n",
    "        for k = 1:(N-1)\n",
    "            Un[k] = - d[k] - K[k]*Xn[k] \n",
    "            Xn[k+1] = discrete_dynamics(params,Xn[k],Un[k],k)\n",
    "        end\n",
    "    X .= Xn\n",
    "    U .= Un\n",
    "    return 0, 0\n",
    "end\n",
    "function eval_mask(μv,huv)  \n",
    "    # Extract active inequality constraints\n",
    "    # active set mask\n",
    "    mask = Diagonal(zeros(length(huv)))\n",
    "    for i = 1:length(huv)\n",
    "        mask[i,i] = (μv[i] > 0 || huv[i] > 0)\n",
    "    end\n",
    "    mask\n",
    "end\n",
    "function mpc(params,X,U,P,p,K,d,Xn,Un;atol=1e-3,max_iters = 250,verbose = true,ρ=1,ϕ=10)\n",
    "\n",
    "    # first check the sizes of everything\n",
    "    # @assert length(X) == params.N\n",
    "    # @assert length(U) == params.N-1\n",
    "    # @assert length(X[1]) == params.nx\n",
    "    # @assert length(U[1]) == params.nu\n",
    "\n",
    "    # keep track of trajectories for each iterate\n",
    "    Xh=[deepcopy(X) for i = 1:1000]\n",
    "\n",
    "    # initial rollout\n",
    "    N = params.N\n",
    "    for i = 1:N-1\n",
    "        X[i+1] = discrete_dynamics(params,X[i],U[i],i)\n",
    "    end\n",
    "\n",
    "    Xh[1] .= X\n",
    "\n",
    "    reg_min = 1e-8\n",
    "    reg = reg_min\n",
    "\n",
    "    μ = [zeros(params.ncu) for i = 1:N-1]   # input constraints\n",
    "\n",
    "    μx = [zeros(params.ncx) for i = 1:N]    # state constraints\n",
    "\n",
    "    λ = zeros(params.nx)    # goal constraint\n",
    "\n",
    "    λc = [zeros(params.ncu_cone) for i = 1:N-1]   # goal constraint\n",
    "    \n",
    "    # Inner loop to solve unconstrained problem (Riccati)\n",
    "    for iter = 1:max_iters\n",
    "        J = 0.0\n",
    "        ΔJ = 0.0\n",
    "        α = 1.0\n",
    "        for i = 1:5\n",
    "            ΔJ = backward_pass!(params,X,U,P,p,d,K,reg,μ,μx,ρ,λ,λc)\n",
    "            J, α = forward_pass!(params,X,U,K,d,ΔJ,Xn,Un,μ,μx,ρ,λ)\n",
    "        end\n",
    "\n",
    "        Xh[iter + 1] .= X  \n",
    "        if verbose\n",
    "            if rem(iter-1,10)==0\n",
    "                @printf \"iter     J           ΔJ        |d|         α        reg         ρ\\n\"\n",
    "                @printf \"---------------------------------------------------------------------\\n\"\n",
    "            end\n",
    "            @printf(\"%3d   %10.3e  %9.2e  %9.2e  %6.4f   %9.2e   %9.2e\\n\",\n",
    "              iter, J, ΔJ, 0, α, reg, ρ)\n",
    "        end\n",
    "        # update multipliers and check constraint violation, max of all\n",
    "        convio = 0  \n",
    "        \n",
    "        if (params.ncu > 0)\n",
    "            # control constraints (inequality)\n",
    "            for k = 1:N-1\n",
    "                huv = ineq_con_u(params,U[k])\n",
    "                mask = eval_mask(μ[k],huv)\n",
    "                # update dual\n",
    "                convio = max(convio,norm(huv + abs.(huv),Inf))\n",
    "                μ[k] = max.(0,μ[k] - ρ*(mask * [params.u_max;-params.u_min]))\n",
    "            end\n",
    "        end\n",
    "        if (params.ncx > 0)\n",
    "            # state constraints (inequality)\n",
    "            for k = 1:N\n",
    "                hxv = ineq_con_x(params,X[k])\n",
    "                mask = eval_mask(μx[k],hxv)\n",
    "                # update dual\n",
    "                convio = max(convio,norm(hxv + abs.(hxv),Inf))\n",
    "                μx[k] = max.(0,μx[k] - ρ*(mask * [params.x_max;-params.x_min]))                \n",
    "            end\n",
    "        end\n",
    "        if (params.ncu_cone > 0)\n",
    "            # conic constraints \n",
    "            if verbose\n",
    "                print(\"update cone\\n\")\n",
    "            end            \n",
    "            for k = 1:N-1\n",
    "                # update dual\n",
    "                Uc = cone_u(params, U[k])\n",
    "                huc = norm(Uc[1:2]) - Uc[3]\n",
    "                convio = max(convio, norm(huc + abs.(huc),Inf))\n",
    "                λc[k] = projection(λc[k] + Uc/cone_scale/ρ)\n",
    "                # display(λc[k])\n",
    "            end\n",
    "        end\n",
    "        if (params.ncg > 0)\n",
    "            # goal constraint (equality)\n",
    "            hxv = X[N] - params.Xref[N]\n",
    "            λ .-= ρ*params.Xref[N]\n",
    "            convio = max(convio, norm(hxv,Inf))\n",
    "        end\n",
    "        if verbose\n",
    "            @show convio\n",
    "        end\n",
    "        if convio <1e-4  # if terminal condition with contraint violation\n",
    "            # @info \"success!\"\n",
    "            return Xh[1:(iter + 1)];\n",
    "        end\n",
    "\n",
    "        ρ *= ϕ  # update penalty\n",
    "    end\n",
    "end\n",
    "#----------------------ALTRO DONE --------------------------"
   ]
  },
  {
   "cell_type": "code",
<<<<<<< HEAD
   "execution_count": 76,
=======
   "execution_count": 764,
>>>>>>> khai_dev_mpc
   "id": "ff9a97a1-b963-4f01-9223-eee0c5682b7d",
   "metadata": {
    "tags": []
   },
   "outputs": [
    {
     "data": {
      "text/plain": [
       "∇²projection! (generic function with 1 method)"
      ]
     },
<<<<<<< HEAD
=======
     "execution_count": 764,
>>>>>>> khai_dev_mpc
     "metadata": {},
     "output_type": "display_data"
    }
   ],
   "source": [
    "# =============================\n",
    "# Example problem formulation and solve\n",
    "# =============================\n",
    "\n",
    "# ---------------------THIS IS WHAT YOU NEED TO INPUT--------\n",
    "A = [1.0 0.0 0.0 0.05 0.0 0.0; \n",
    "    0.0 1.0 0.0 0.0 0.05 0.0; \n",
    "    0.0 0.0 1.0 0.0 0.0 0.05; \n",
    "    0.0 0.0 0.0 1.0 0.0 0.0; \n",
    "    0.0 0.0 0.0 0.0 1.0 0.0; \n",
    "    0.0 0.0 0.0 0.0 0.0 1.0]\n",
    "B = [0.000125 0.0 0.0; \n",
    "    0.0 0.000125 0.0;\n",
    "    0.0 0.0 0.000125; \n",
    "    0.005 0.0 0.0; \n",
    "    0.0 0.005 0.0; \n",
    "    0.0 0.0 0.005]\n",
    "f = [0.0, 0.0, -0.0122625, 0.0, 0.0, -0.4905]\n",
    "function discrete_dynamics(p::NamedTuple,x,u,k)\n",
    "    A = [1.0 0.0 0.0 0.05 0.0 0.0; \n",
    "        0.0 1.0 0.0 0.0 0.05 0.0; \n",
    "        0.0 0.0 1.0 0.0 0.0 0.05; \n",
    "        0.0 0.0 0.0 1.0 0.0 0.0; \n",
    "        0.0 0.0 0.0 0.0 1.0 0.0; \n",
    "        0.0 0.0 0.0 0.0 0.0 1.0]\n",
    "    B = [0.000125 0.0 0.0; \n",
    "        0.0 0.000125 0.0;\n",
    "        0.0 0.0 0.000125; \n",
    "        0.005 0.0 0.0; \n",
    "        0.0 0.005 0.0; \n",
    "        0.0 0.0 0.005]\n",
    "    f = [0.0, 0.0, -0.0122625, 0.0, 0.0, -0.4905]\n",
    "    return A*x + B*u + f\n",
    "end\n",
    "function ineq_con_x(p,x)\n",
    "    [x-p.x_max;-x + p.x_min]\n",
    "end\n",
    "function ineq_con_u(p,u)\n",
    "    [u-p.u_max;-u + p.u_min]\n",
    "end\n",
    "function cone_u(p, u)\n",
    "    [p.A_cone*u;p.c_cone'*u]\n",
    "end\n",
    "function cone_u_jac(p, u)\n",
    "    J = zeros(p.nu, p.nu)\n",
    "    J[1:end-1,1:end] .= p.A_cone\n",
    "    J[end,1:end] .= p.c_cone\n",
    "    return J\n",
    "end\n",
    "function ineq_con_u_jac(params,u)\n",
    "    FD.jacobian(_u -> ineq_con_u(params,_u), u)\n",
    "end\n",
    "function ineq_con_x_jac(p,x)\n",
    "    FD.jacobian(_x -> ineq_con_x(p,_x),x)\n",
    "end\n",
    "function projection(x)\n",
    "    n = length(x)\n",
    "    s = x[end]\n",
    "    v = view(x,1:n-1)\n",
    "    a = norm(v)\n",
    "    if a <= -s  # below the cone\n",
    "        return zero(x)\n",
    "    elseif a <= s  # in the code\n",
    "        return x\n",
    "    elseif a >= abs(s)  # outside the cone\n",
    "        return 0.5 * (1 + s/a) * [v; a] \n",
    "    end\n",
    "end\n",
    "function ∇projection(x)\n",
    "    n = length(x)\n",
    "    J = zeros(eltype(x),n,n)\n",
    "    s = x[end]\n",
    "    v = view(x,1:n-1)\n",
    "    a = norm(v)\n",
    "    if a <= -s\n",
    "        return J  # zeros\n",
    "    elseif a <= s\n",
    "        J .= I(n)  \n",
    "        return J  # identity\n",
    "    elseif a >= abs(s)\n",
    "        c = 0.5 * (1 + s/a)\n",
    "\n",
    "        # dvdv ok!\n",
    "        for i = 1:n-1, j = 1:n-1\n",
    "            J[i,j] = -0.5*s/a^3 * v[i] * v[j]\n",
    "            if i == j\n",
    "                J[i,j] += c\n",
    "            end\n",
    "        end\n",
    "\n",
    "        # dvds ok!\n",
    "        for i = 1:n-1\n",
    "            J[i,n] = 0.5 * v[i] / a\n",
    "        end\n",
    "\n",
    "        # dsdv ok!\n",
    "        for i = 1:n-1\n",
    "            J[n,i] = ((-0.5*s/a^2) + c/a) * v[i]\n",
    "        end\n",
    "        J[n,n] = 0.5  # ok\n",
    "        return J\n",
    "    else\n",
    "        error(\"Invalid second-order cone projection.\")\n",
    "    end\n",
    "    return J\n",
    "end\n",
    "function ∇²projection!(hess, x)\n",
    "    n = length(x)\n",
    "    J = zeros(eltype(x),n,n)\n",
    "    s = x[end]\n",
    "    v = view(x,1:n-1)\n",
    "    a = norm(v)\n",
    "\n",
    "    \n",
    "end"
   ]
  },
  {
   "cell_type": "code",
<<<<<<< HEAD
   "execution_count": 77,
=======
   "execution_count": 765,
>>>>>>> khai_dev_mpc
   "id": "f4edd7a6-7756-43ee-a37b-f91abdd18650",
   "metadata": {},
   "outputs": [
    {
     "data": {
      "image/png": "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",
      "image/svg+xml": "<?xml version=\"1.0\" encoding=\"utf-8\"?>\n<svg xmlns=\"http://www.w3.org/2000/svg\" xmlns:xlink=\"http://www.w3.org/1999/xlink\" width=\"600\" height=\"400\" viewBox=\"0 0 2400 1600\">\n<defs>\n  <clipPath id=\"clip270\">\n    <rect x=\"0\" y=\"0\" width=\"2400\" height=\"1600\"/>\n  </clipPath>\n</defs>\n<path clip-path=\"url(#clip270)\" d=\"M0 1600 L2400 1600 L2400 0 L0 0  Z\" fill=\"#ffffff\" fill-rule=\"evenodd\" fill-opacity=\"1\"/>\n<defs>\n  <clipPath id=\"clip271\">\n    <rect x=\"480\" y=\"0\" width=\"1681\" height=\"1600\"/>\n  </clipPath>\n</defs>\n<path clip-path=\"url(#clip270)\" d=\"M242.135 1423.18 L2352.76 1423.18 L2352.76 123.472 L242.135 123.472  Z\" fill=\"#ffffff\" fill-rule=\"evenodd\" fill-opacity=\"1\"/>\n<defs>\n  <clipPath id=\"clip272\">\n    <rect x=\"242\" y=\"123\" width=\"2112\" height=\"1301\"/>\n  </clipPath>\n</defs>\n<polyline clip-path=\"url(#clip272)\" style=\"stroke:#000000; stroke-linecap:round; stroke-linejoin:round; stroke-width:2; stroke-opacity:0.1; fill:none\" points=\"301.869,1423.18 301.869,123.472 \"/>\n<polyline clip-path=\"url(#clip272)\" style=\"stroke:#000000; stroke-linecap:round; stroke-linejoin:round; stroke-width:2; stroke-opacity:0.1; fill:none\" points=\"799.657,1423.18 799.657,123.472 \"/>\n<polyline clip-path=\"url(#clip272)\" style=\"stroke:#000000; stroke-linecap:round; stroke-linejoin:round; stroke-width:2; stroke-opacity:0.1; fill:none\" points=\"1297.45,1423.18 1297.45,123.472 \"/>\n<polyline clip-path=\"url(#clip272)\" style=\"stroke:#000000; stroke-linecap:round; stroke-linejoin:round; stroke-width:2; stroke-opacity:0.1; fill:none\" points=\"1795.23,1423.18 1795.23,123.472 \"/>\n<polyline clip-path=\"url(#clip272)\" style=\"stroke:#000000; stroke-linecap:round; stroke-linejoin:round; stroke-width:2; stroke-opacity:0.1; fill:none\" points=\"2293.02,1423.18 2293.02,123.472 \"/>\n<polyline clip-path=\"url(#clip270)\" style=\"stroke:#000000; stroke-linecap:round; stroke-linejoin:round; stroke-width:4; stroke-opacity:1; fill:none\" points=\"242.135,1423.18 2352.76,1423.18 \"/>\n<polyline clip-path=\"url(#clip270)\" style=\"stroke:#000000; stroke-linecap:round; stroke-linejoin:round; stroke-width:4; stroke-opacity:1; fill:none\" points=\"301.869,1423.18 301.869,1404.28 \"/>\n<polyline clip-path=\"url(#clip270)\" style=\"stroke:#000000; stroke-linecap:round; stroke-linejoin:round; stroke-width:4; stroke-opacity:1; fill:none\" points=\"799.657,1423.18 799.657,1404.28 \"/>\n<polyline clip-path=\"url(#clip270)\" style=\"stroke:#000000; stroke-linecap:round; stroke-linejoin:round; stroke-width:4; stroke-opacity:1; fill:none\" points=\"1297.45,1423.18 1297.45,1404.28 \"/>\n<polyline clip-path=\"url(#clip270)\" style=\"stroke:#000000; stroke-linecap:round; stroke-linejoin:round; stroke-width:4; stroke-opacity:1; fill:none\" points=\"1795.23,1423.18 1795.23,1404.28 \"/>\n<polyline clip-path=\"url(#clip270)\" style=\"stroke:#000000; stroke-linecap:round; stroke-linejoin:round; stroke-width:4; stroke-opacity:1; fill:none\" points=\"2293.02,1423.18 2293.02,1404.28 \"/>\n<path clip-path=\"url(#clip270)\" d=\"M279.254 1454.1 Q275.643 1454.1 273.814 1457.66 Q272.008 1461.2 272.008 1468.33 Q272.008 1475.44 273.814 1479.01 Q275.643 1482.55 279.254 1482.55 Q282.888 1482.55 284.693 1479.01 Q286.522 1475.44 286.522 1468.33 Q286.522 1461.2 284.693 1457.66 Q282.888 1454.1 279.254 1454.1 M279.254 1450.39 Q285.064 1450.39 288.119 1455 Q291.198 1459.58 291.198 1468.33 Q291.198 1477.06 288.119 1481.67 Q285.064 1486.25 279.254 1486.25 Q273.443 1486.25 270.365 1481.67 Q267.309 1477.06 267.309 1468.33 Q267.309 1459.58 270.365 1455 Q273.443 1450.39 279.254 1450.39 Z\" fill=\"#000000\" fill-rule=\"evenodd\" fill-opacity=\"1\" /><path clip-path=\"url(#clip270)\" d=\"M299.416 1479.7 L304.3 1479.7 L304.3 1485.58 L299.416 1485.58 L299.416 1479.7 Z\" fill=\"#000000\" fill-rule=\"evenodd\" fill-opacity=\"1\" /><path clip-path=\"url(#clip270)\" d=\"M324.485 1454.1 Q320.874 1454.1 319.045 1457.66 Q317.24 1461.2 317.24 1468.33 Q317.24 1475.44 319.045 1479.01 Q320.874 1482.55 324.485 1482.55 Q328.119 1482.55 329.925 1479.01 Q331.753 1475.44 331.753 1468.33 Q331.753 1461.2 329.925 1457.66 Q328.119 1454.1 324.485 1454.1 M324.485 1450.39 Q330.295 1450.39 333.351 1455 Q336.429 1459.58 336.429 1468.33 Q336.429 1477.06 333.351 1481.67 Q330.295 1486.25 324.485 1486.25 Q318.675 1486.25 315.596 1481.67 Q312.54 1477.06 312.54 1468.33 Q312.54 1459.58 315.596 1455 Q318.675 1450.39 324.485 1450.39 Z\" fill=\"#000000\" fill-rule=\"evenodd\" fill-opacity=\"1\" /><path clip-path=\"url(#clip270)\" d=\"M771.394 1481.64 L787.713 1481.64 L787.713 1485.58 L765.769 1485.58 L765.769 1481.64 Q768.431 1478.89 773.014 1474.26 Q777.62 1469.61 778.801 1468.27 Q781.046 1465.74 781.926 1464.01 Q782.829 1462.25 782.829 1460.56 Q782.829 1457.8 780.884 1456.07 Q778.963 1454.33 775.861 1454.33 Q773.662 1454.33 771.208 1455.09 Q768.778 1455.86 766 1457.41 L766 1452.69 Q768.824 1451.55 771.278 1450.97 Q773.731 1450.39 775.768 1450.39 Q781.139 1450.39 784.333 1453.08 Q787.528 1455.77 787.528 1460.26 Q787.528 1462.39 786.718 1464.31 Q785.93 1466.2 783.824 1468.8 Q783.245 1469.47 780.143 1472.69 Q777.042 1475.88 771.394 1481.64 Z\" fill=\"#000000\" fill-rule=\"evenodd\" fill-opacity=\"1\" /><path clip-path=\"url(#clip270)\" d=\"M797.528 1479.7 L802.412 1479.7 L802.412 1485.58 L797.528 1485.58 L797.528 1479.7 Z\" fill=\"#000000\" fill-rule=\"evenodd\" fill-opacity=\"1\" /><path clip-path=\"url(#clip270)\" d=\"M812.643 1451.02 L831 1451.02 L831 1454.96 L816.926 1454.96 L816.926 1463.43 Q817.944 1463.08 818.963 1462.92 Q819.981 1462.73 821 1462.73 Q826.787 1462.73 830.166 1465.9 Q833.546 1469.08 833.546 1474.49 Q833.546 1480.07 830.074 1483.17 Q826.602 1486.25 820.282 1486.25 Q818.106 1486.25 815.838 1485.88 Q813.592 1485.51 811.185 1484.77 L811.185 1480.07 Q813.268 1481.2 815.491 1481.76 Q817.713 1482.32 820.19 1482.32 Q824.194 1482.32 826.532 1480.21 Q828.87 1478.1 828.87 1474.49 Q828.87 1470.88 826.532 1468.77 Q824.194 1466.67 820.19 1466.67 Q818.315 1466.67 816.44 1467.08 Q814.588 1467.5 812.643 1468.38 L812.643 1451.02 Z\" fill=\"#000000\" fill-rule=\"evenodd\" fill-opacity=\"1\" /><path clip-path=\"url(#clip270)\" d=\"M1264.61 1451.02 L1282.97 1451.02 L1282.97 1454.96 L1268.89 1454.96 L1268.89 1463.43 Q1269.91 1463.08 1270.93 1462.92 Q1271.95 1462.73 1272.97 1462.73 Q1278.75 1462.73 1282.13 1465.9 Q1285.51 1469.08 1285.51 1474.49 Q1285.51 1480.07 1282.04 1483.17 Q1278.57 1486.25 1272.25 1486.25 Q1270.07 1486.25 1267.8 1485.88 Q1265.56 1485.51 1263.15 1484.77 L1263.15 1480.07 Q1265.23 1481.2 1267.46 1481.76 Q1269.68 1482.32 1272.16 1482.32 Q1276.16 1482.32 1278.5 1480.21 Q1280.84 1478.1 1280.84 1474.49 Q1280.84 1470.88 1278.5 1468.77 Q1276.16 1466.67 1272.16 1466.67 Q1270.28 1466.67 1268.41 1467.08 Q1266.55 1467.5 1264.61 1468.38 L1264.61 1451.02 Z\" fill=\"#000000\" fill-rule=\"evenodd\" fill-opacity=\"1\" /><path clip-path=\"url(#clip270)\" d=\"M1294.73 1479.7 L1299.61 1479.7 L1299.61 1485.58 L1294.73 1485.58 L1294.73 1479.7 Z\" fill=\"#000000\" fill-rule=\"evenodd\" fill-opacity=\"1\" /><path clip-path=\"url(#clip270)\" d=\"M1319.79 1454.1 Q1316.18 1454.1 1314.35 1457.66 Q1312.55 1461.2 1312.55 1468.33 Q1312.55 1475.44 1314.35 1479.01 Q1316.18 1482.55 1319.79 1482.55 Q1323.43 1482.55 1325.23 1479.01 Q1327.06 1475.44 1327.06 1468.33 Q1327.06 1461.2 1325.23 1457.66 Q1323.43 1454.1 1319.79 1454.1 M1319.79 1450.39 Q1325.6 1450.39 1328.66 1455 Q1331.74 1459.58 1331.74 1468.33 Q1331.74 1477.06 1328.66 1481.67 Q1325.6 1486.25 1319.79 1486.25 Q1313.98 1486.25 1310.91 1481.67 Q1307.85 1477.06 1307.85 1468.33 Q1307.85 1459.58 1310.91 1455 Q1313.98 1450.39 1319.79 1450.39 Z\" fill=\"#000000\" fill-rule=\"evenodd\" fill-opacity=\"1\" /><path clip-path=\"url(#clip270)\" d=\"M1761.55 1451.02 L1783.78 1451.02 L1783.78 1453.01 L1771.23 1485.58 L1766.34 1485.58 L1778.15 1454.96 L1761.55 1454.96 L1761.55 1451.02 Z\" fill=\"#000000\" fill-rule=\"evenodd\" fill-opacity=\"1\" /><path clip-path=\"url(#clip270)\" d=\"M1792.9 1479.7 L1797.78 1479.7 L1797.78 1485.58 L1792.9 1485.58 L1792.9 1479.7 Z\" fill=\"#000000\" fill-rule=\"evenodd\" fill-opacity=\"1\" /><path clip-path=\"url(#clip270)\" d=\"M1808.01 1451.02 L1826.37 1451.02 L1826.37 1454.96 L1812.29 1454.96 L1812.29 1463.43 Q1813.31 1463.08 1814.33 1462.92 Q1815.35 1462.73 1816.37 1462.73 Q1822.15 1462.73 1825.53 1465.9 Q1828.91 1469.08 1828.91 1474.49 Q1828.91 1480.07 1825.44 1483.17 Q1821.97 1486.25 1815.65 1486.25 Q1813.47 1486.25 1811.21 1485.88 Q1808.96 1485.51 1806.55 1484.77 L1806.55 1480.07 Q1808.64 1481.2 1810.86 1481.76 Q1813.08 1482.32 1815.56 1482.32 Q1819.56 1482.32 1821.9 1480.21 Q1824.24 1478.1 1824.24 1474.49 Q1824.24 1470.88 1821.9 1468.77 Q1819.56 1466.67 1815.56 1466.67 Q1813.68 1466.67 1811.81 1467.08 Q1809.96 1467.5 1808.01 1468.38 L1808.01 1451.02 Z\" fill=\"#000000\" fill-rule=\"evenodd\" fill-opacity=\"1\" /><path clip-path=\"url(#clip270)\" d=\"M2245.09 1481.64 L2252.73 1481.64 L2252.73 1455.28 L2244.42 1456.95 L2244.42 1452.69 L2252.69 1451.02 L2257.36 1451.02 L2257.36 1481.64 L2265 1481.64 L2265 1485.58 L2245.09 1485.58 L2245.09 1481.64 Z\" fill=\"#000000\" fill-rule=\"evenodd\" fill-opacity=\"1\" /><path clip-path=\"url(#clip270)\" d=\"M2284.44 1454.1 Q2280.83 1454.1 2279.01 1457.66 Q2277.2 1461.2 2277.2 1468.33 Q2277.2 1475.44 2279.01 1479.01 Q2280.83 1482.55 2284.44 1482.55 Q2288.08 1482.55 2289.88 1479.01 Q2291.71 1475.44 2291.71 1468.33 Q2291.71 1461.2 2289.88 1457.66 Q2288.08 1454.1 2284.44 1454.1 M2284.44 1450.39 Q2290.26 1450.39 2293.31 1455 Q2296.39 1459.58 2296.39 1468.33 Q2296.39 1477.06 2293.31 1481.67 Q2290.26 1486.25 2284.44 1486.25 Q2278.63 1486.25 2275.56 1481.67 Q2272.5 1477.06 2272.5 1468.33 Q2272.5 1459.58 2275.56 1455 Q2278.63 1450.39 2284.44 1450.39 Z\" fill=\"#000000\" fill-rule=\"evenodd\" fill-opacity=\"1\" /><path clip-path=\"url(#clip270)\" d=\"M2304.61 1479.7 L2309.49 1479.7 L2309.49 1485.58 L2304.61 1485.58 L2304.61 1479.7 Z\" fill=\"#000000\" fill-rule=\"evenodd\" fill-opacity=\"1\" /><path clip-path=\"url(#clip270)\" d=\"M2329.68 1454.1 Q2326.07 1454.1 2324.24 1457.66 Q2322.43 1461.2 2322.43 1468.33 Q2322.43 1475.44 2324.24 1479.01 Q2326.07 1482.55 2329.68 1482.55 Q2333.31 1482.55 2335.12 1479.01 Q2336.94 1475.44 2336.94 1468.33 Q2336.94 1461.2 2335.12 1457.66 Q2333.31 1454.1 2329.68 1454.1 M2329.68 1450.39 Q2335.49 1450.39 2338.54 1455 Q2341.62 1459.58 2341.62 1468.33 Q2341.62 1477.06 2338.54 1481.67 Q2335.49 1486.25 2329.68 1486.25 Q2323.87 1486.25 2320.79 1481.67 Q2317.73 1477.06 2317.73 1468.33 Q2317.73 1459.58 2320.79 1455 Q2323.87 1450.39 2329.68 1450.39 Z\" fill=\"#000000\" fill-rule=\"evenodd\" fill-opacity=\"1\" /><path clip-path=\"url(#clip270)\" d=\"M1184.9 1522.27 L1184.9 1532.4 L1196.96 1532.4 L1196.96 1536.95 L1184.9 1536.95 L1184.9 1556.3 Q1184.9 1560.66 1186.08 1561.9 Q1187.29 1563.14 1190.95 1563.14 L1196.96 1563.14 L1196.96 1568.04 L1190.95 1568.04 Q1184.17 1568.04 1181.59 1565.53 Q1179.01 1562.98 1179.01 1556.3 L1179.01 1536.95 L1174.71 1536.95 L1174.71 1532.4 L1179.01 1532.4 L1179.01 1522.27 L1184.9 1522.27 Z\" fill=\"#000000\" fill-rule=\"evenodd\" fill-opacity=\"1\" /><path clip-path=\"url(#clip270)\" d=\"M1204.67 1532.4 L1210.52 1532.4 L1210.52 1568.04 L1204.67 1568.04 L1204.67 1532.4 M1204.67 1518.52 L1210.52 1518.52 L1210.52 1525.93 L1204.67 1525.93 L1204.67 1518.52 Z\" fill=\"#000000\" fill-rule=\"evenodd\" fill-opacity=\"1\" /><path clip-path=\"url(#clip270)\" d=\"M1250.53 1539.24 Q1252.73 1535.29 1255.78 1533.41 Q1258.84 1531.54 1262.97 1531.54 Q1268.54 1531.54 1271.57 1535.45 Q1274.59 1539.33 1274.59 1546.53 L1274.59 1568.04 L1268.7 1568.04 L1268.7 1546.72 Q1268.7 1541.59 1266.89 1539.11 Q1265.08 1536.63 1261.35 1536.63 Q1256.8 1536.63 1254.16 1539.65 Q1251.52 1542.68 1251.52 1547.9 L1251.52 1568.04 L1245.63 1568.04 L1245.63 1546.72 Q1245.63 1541.56 1243.81 1539.11 Q1242 1536.63 1238.21 1536.63 Q1233.72 1536.63 1231.08 1539.68 Q1228.44 1542.71 1228.44 1547.9 L1228.44 1568.04 L1222.55 1568.04 L1222.55 1532.4 L1228.44 1532.4 L1228.44 1537.93 Q1230.45 1534.66 1233.25 1533.1 Q1236.05 1531.54 1239.9 1531.54 Q1243.78 1531.54 1246.49 1533.51 Q1249.23 1535.48 1250.53 1539.24 Z\" fill=\"#000000\" fill-rule=\"evenodd\" fill-opacity=\"1\" /><path clip-path=\"url(#clip270)\" d=\"M1316.77 1548.76 L1316.77 1551.62 L1289.84 1551.62 Q1290.22 1557.67 1293.47 1560.85 Q1296.75 1564 1302.57 1564 Q1305.94 1564 1309.09 1563.17 Q1312.28 1562.35 1315.4 1560.69 L1315.4 1566.23 Q1312.25 1567.57 1308.94 1568.27 Q1305.63 1568.97 1302.22 1568.97 Q1293.69 1568.97 1288.69 1564 Q1283.73 1559.04 1283.73 1550.57 Q1283.73 1541.82 1288.44 1536.69 Q1293.18 1531.54 1301.2 1531.54 Q1308.39 1531.54 1312.56 1536.18 Q1316.77 1540.8 1316.77 1548.76 M1310.91 1547.04 Q1310.85 1542.23 1308.2 1539.37 Q1305.59 1536.5 1301.26 1536.5 Q1296.36 1536.5 1293.4 1539.27 Q1290.47 1542.04 1290.03 1547.07 L1310.91 1547.04 Z\" fill=\"#000000\" fill-rule=\"evenodd\" fill-opacity=\"1\" /><path clip-path=\"url(#clip270)\" d=\"M1361.17 1518.58 Q1356.9 1525.9 1354.83 1533.06 Q1352.76 1540.23 1352.76 1547.58 Q1352.76 1554.93 1354.83 1562.16 Q1356.93 1569.35 1361.17 1576.64 L1356.07 1576.64 Q1351.3 1569.16 1348.91 1561.93 Q1346.56 1554.71 1346.56 1547.58 Q1346.56 1540.48 1348.91 1533.29 Q1351.27 1526.09 1356.07 1518.58 L1361.17 1518.58 Z\" fill=\"#000000\" fill-rule=\"evenodd\" fill-opacity=\"1\" /><path clip-path=\"url(#clip270)\" d=\"M1395.25 1533.45 L1395.25 1538.98 Q1392.77 1537.71 1390.1 1537.07 Q1387.42 1536.44 1384.56 1536.44 Q1380.2 1536.44 1378 1537.77 Q1375.84 1539.11 1375.84 1541.79 Q1375.84 1543.82 1377.4 1545 Q1378.96 1546.15 1383.67 1547.2 L1385.67 1547.64 Q1391.91 1548.98 1394.52 1551.43 Q1397.16 1553.85 1397.16 1558.21 Q1397.16 1563.17 1393.22 1566.07 Q1389.3 1568.97 1382.43 1568.97 Q1379.56 1568.97 1376.44 1568.39 Q1373.36 1567.85 1369.92 1566.74 L1369.92 1560.69 Q1373.17 1562.38 1376.32 1563.24 Q1379.47 1564.07 1382.55 1564.07 Q1386.69 1564.07 1388.92 1562.66 Q1391.15 1561.23 1391.15 1558.65 Q1391.15 1556.27 1389.53 1554.99 Q1387.93 1553.72 1382.49 1552.54 L1380.45 1552.07 Q1375.01 1550.92 1372.59 1548.56 Q1370.17 1546.18 1370.17 1542.04 Q1370.17 1537.01 1373.74 1534.27 Q1377.3 1531.54 1383.86 1531.54 Q1387.11 1531.54 1389.97 1532.01 Q1392.84 1532.49 1395.25 1533.45 Z\" fill=\"#000000\" fill-rule=\"evenodd\" fill-opacity=\"1\" /><path clip-path=\"url(#clip270)\" d=\"M1405.57 1518.58 L1410.66 1518.58 Q1415.43 1526.09 1417.79 1533.29 Q1420.18 1540.48 1420.18 1547.58 Q1420.18 1554.71 1417.79 1561.93 Q1415.43 1569.16 1410.66 1576.64 L1405.57 1576.64 Q1409.8 1569.35 1411.87 1562.16 Q1413.97 1554.93 1413.97 1547.58 Q1413.97 1540.23 1411.87 1533.06 Q1409.8 1525.9 1405.57 1518.58 Z\" fill=\"#000000\" fill-rule=\"evenodd\" fill-opacity=\"1\" /><polyline clip-path=\"url(#clip272)\" style=\"stroke:#000000; stroke-linecap:round; stroke-linejoin:round; stroke-width:2; stroke-opacity:0.1; fill:none\" points=\"242.135,1153.66 2352.76,1153.66 \"/>\n<polyline clip-path=\"url(#clip272)\" style=\"stroke:#000000; stroke-linecap:round; stroke-linejoin:round; stroke-width:2; stroke-opacity:0.1; fill:none\" points=\"242.135,822.524 2352.76,822.524 \"/>\n<polyline clip-path=\"url(#clip272)\" style=\"stroke:#000000; stroke-linecap:round; stroke-linejoin:round; stroke-width:2; stroke-opacity:0.1; fill:none\" points=\"242.135,491.39 2352.76,491.39 \"/>\n<polyline clip-path=\"url(#clip272)\" style=\"stroke:#000000; stroke-linecap:round; stroke-linejoin:round; stroke-width:2; stroke-opacity:0.1; fill:none\" points=\"242.135,160.256 2352.76,160.256 \"/>\n<polyline clip-path=\"url(#clip270)\" style=\"stroke:#000000; stroke-linecap:round; stroke-linejoin:round; stroke-width:4; stroke-opacity:1; fill:none\" points=\"242.135,1423.18 242.135,123.472 \"/>\n<polyline clip-path=\"url(#clip270)\" style=\"stroke:#000000; stroke-linecap:round; stroke-linejoin:round; stroke-width:4; stroke-opacity:1; fill:none\" points=\"242.135,1153.66 261.032,1153.66 \"/>\n<polyline clip-path=\"url(#clip270)\" style=\"stroke:#000000; stroke-linecap:round; stroke-linejoin:round; stroke-width:4; stroke-opacity:1; fill:none\" points=\"242.135,822.524 261.032,822.524 \"/>\n<polyline clip-path=\"url(#clip270)\" style=\"stroke:#000000; stroke-linecap:round; stroke-linejoin:round; stroke-width:4; stroke-opacity:1; fill:none\" points=\"242.135,491.39 261.032,491.39 \"/>\n<polyline clip-path=\"url(#clip270)\" style=\"stroke:#000000; stroke-linecap:round; stroke-linejoin:round; stroke-width:4; stroke-opacity:1; fill:none\" points=\"242.135,160.256 261.032,160.256 \"/>\n<path clip-path=\"url(#clip270)\" d=\"M114.26 1154.11 L143.936 1154.11 L143.936 1158.04 L114.26 1158.04 L114.26 1154.11 Z\" fill=\"#000000\" fill-rule=\"evenodd\" fill-opacity=\"1\" /><path clip-path=\"url(#clip270)\" d=\"M154.839 1167 L162.477 1167 L162.477 1140.64 L154.167 1142.3 L154.167 1138.04 L162.431 1136.38 L167.107 1136.38 L167.107 1167 L174.746 1167 L174.746 1170.94 L154.839 1170.94 L154.839 1167 Z\" fill=\"#000000\" fill-rule=\"evenodd\" fill-opacity=\"1\" /><path clip-path=\"url(#clip270)\" d=\"M194.19 1139.46 Q190.579 1139.46 188.75 1143.02 Q186.945 1146.56 186.945 1153.69 Q186.945 1160.8 188.75 1164.36 Q190.579 1167.91 194.19 1167.91 Q197.825 1167.91 199.63 1164.36 Q201.459 1160.8 201.459 1153.69 Q201.459 1146.56 199.63 1143.02 Q197.825 1139.46 194.19 1139.46 M194.19 1135.75 Q200 1135.75 203.056 1140.36 Q206.135 1144.94 206.135 1153.69 Q206.135 1162.42 203.056 1167.03 Q200 1171.61 194.19 1171.61 Q188.38 1171.61 185.301 1167.03 Q182.246 1162.42 182.246 1153.69 Q182.246 1144.94 185.301 1140.36 Q188.38 1135.75 194.19 1135.75 Z\" fill=\"#000000\" fill-rule=\"evenodd\" fill-opacity=\"1\" /><path clip-path=\"url(#clip270)\" d=\"M194.19 808.323 Q190.579 808.323 188.75 811.888 Q186.945 815.429 186.945 822.559 Q186.945 829.665 188.75 833.23 Q190.579 836.772 194.19 836.772 Q197.825 836.772 199.63 833.23 Q201.459 829.665 201.459 822.559 Q201.459 815.429 199.63 811.888 Q197.825 808.323 194.19 808.323 M194.19 804.619 Q200 804.619 203.056 809.226 Q206.135 813.809 206.135 822.559 Q206.135 831.286 203.056 835.892 Q200 840.476 194.19 840.476 Q188.38 840.476 185.301 835.892 Q182.246 831.286 182.246 822.559 Q182.246 813.809 185.301 809.226 Q188.38 804.619 194.19 804.619 Z\" fill=\"#000000\" fill-rule=\"evenodd\" fill-opacity=\"1\" /><path clip-path=\"url(#clip270)\" d=\"M154.839 504.735 L162.477 504.735 L162.477 478.37 L154.167 480.036 L154.167 475.777 L162.431 474.11 L167.107 474.11 L167.107 504.735 L174.746 504.735 L174.746 508.67 L154.839 508.67 L154.839 504.735 Z\" fill=\"#000000\" fill-rule=\"evenodd\" fill-opacity=\"1\" /><path clip-path=\"url(#clip270)\" d=\"M194.19 477.189 Q190.579 477.189 188.75 480.754 Q186.945 484.295 186.945 491.425 Q186.945 498.531 188.75 502.096 Q190.579 505.638 194.19 505.638 Q197.825 505.638 199.63 502.096 Q201.459 498.531 201.459 491.425 Q201.459 484.295 199.63 480.754 Q197.825 477.189 194.19 477.189 M194.19 473.485 Q200 473.485 203.056 478.092 Q206.135 482.675 206.135 491.425 Q206.135 500.152 203.056 504.758 Q200 509.342 194.19 509.342 Q188.38 509.342 185.301 504.758 Q182.246 500.152 182.246 491.425 Q182.246 482.675 185.301 478.092 Q188.38 473.485 194.19 473.485 Z\" fill=\"#000000\" fill-rule=\"evenodd\" fill-opacity=\"1\" /><path clip-path=\"url(#clip270)\" d=\"M158.056 173.601 L174.376 173.601 L174.376 177.536 L152.431 177.536 L152.431 173.601 Q155.093 170.847 159.677 166.217 Q164.283 161.564 165.464 160.222 Q167.709 157.698 168.589 155.962 Q169.491 154.203 169.491 152.513 Q169.491 149.759 167.547 148.023 Q165.626 146.286 162.524 146.286 Q160.325 146.286 157.871 147.05 Q155.44 147.814 152.663 149.365 L152.663 144.643 Q155.487 143.509 157.94 142.93 Q160.394 142.351 162.431 142.351 Q167.802 142.351 170.996 145.036 Q174.19 147.722 174.19 152.212 Q174.19 154.342 173.38 156.263 Q172.593 158.161 170.487 160.754 Q169.908 161.425 166.806 164.643 Q163.704 167.837 158.056 173.601 Z\" fill=\"#000000\" fill-rule=\"evenodd\" fill-opacity=\"1\" /><path clip-path=\"url(#clip270)\" d=\"M194.19 146.055 Q190.579 146.055 188.75 149.62 Q186.945 153.161 186.945 160.291 Q186.945 167.397 188.75 170.962 Q190.579 174.504 194.19 174.504 Q197.825 174.504 199.63 170.962 Q201.459 167.397 201.459 160.291 Q201.459 153.161 199.63 149.62 Q197.825 146.055 194.19 146.055 M194.19 142.351 Q200 142.351 203.056 146.958 Q206.135 151.541 206.135 160.291 Q206.135 169.018 203.056 173.624 Q200 178.208 194.19 178.208 Q188.38 178.208 185.301 173.624 Q182.246 169.018 182.246 160.291 Q182.246 151.541 185.301 146.958 Q188.38 142.351 194.19 142.351 Z\" fill=\"#000000\" fill-rule=\"evenodd\" fill-opacity=\"1\" /><path clip-path=\"url(#clip270)\" d=\"M28.3562 756.711 L45.7028 769.602 L64.0042 756.043 L64.0042 762.95 L49.9996 773.326 L64.0042 783.702 L64.0042 790.609 L45.3526 776.763 L28.3562 789.431 L28.3562 782.524 L41.0558 773.071 L28.3562 763.618 L28.3562 756.711 Z\" fill=\"#000000\" fill-rule=\"evenodd\" fill-opacity=\"1\" /><path clip-path=\"url(#clip270)\" d=\"M1069.78 14.0809 L1069.78 22.0612 Q1065.13 19.8332 1060.99 18.7395 Q1056.86 17.6457 1053.01 17.6457 Q1046.33 17.6457 1042.68 20.2383 Q1039.08 22.8309 1039.08 27.611 Q1039.08 31.6214 1041.47 33.6873 Q1043.9 35.7128 1050.62 36.9686 L1055.57 37.9813 Q1064.72 39.7232 1069.06 44.1387 Q1073.43 48.5136 1073.43 55.8863 Q1073.43 64.6767 1067.52 69.2137 Q1061.64 73.7508 1050.26 73.7508 Q1045.97 73.7508 1041.1 72.7785 Q1036.28 71.8063 1031.1 69.9024 L1031.1 61.4765 Q1036.08 64.2716 1040.86 65.6895 Q1045.64 67.1073 1050.26 67.1073 Q1057.27 67.1073 1061.08 64.3527 Q1064.88 61.598 1064.88 56.4939 Q1064.88 52.0379 1062.13 49.5264 Q1059.41 47.0148 1053.18 45.759 L1048.19 44.7868 Q1039.04 42.9639 1034.95 39.075 Q1030.86 35.1862 1030.86 28.2591 Q1030.86 20.2383 1036.49 15.6203 Q1042.16 11.0023 1052.08 11.0023 Q1056.34 11.0023 1060.75 11.7719 Q1065.17 12.5416 1069.78 14.0809 Z\" fill=\"#000000\" fill-rule=\"evenodd\" fill-opacity=\"1\" /><path clip-path=\"url(#clip270)\" d=\"M1093.24 14.324 L1093.24 27.2059 L1108.59 27.2059 L1108.59 32.9987 L1093.24 32.9987 L1093.24 57.6282 Q1093.24 63.1779 1094.74 64.7578 Q1096.28 66.3376 1100.94 66.3376 L1108.59 66.3376 L1108.59 72.576 L1100.94 72.576 Q1092.31 72.576 1089.03 69.3758 Q1085.75 66.1351 1085.75 57.6282 L1085.75 32.9987 L1080.28 32.9987 L1080.28 27.2059 L1085.75 27.2059 L1085.75 14.324 L1093.24 14.324 Z\" fill=\"#000000\" fill-rule=\"evenodd\" fill-opacity=\"1\" /><path clip-path=\"url(#clip270)\" d=\"M1139.01 49.7694 Q1129.98 49.7694 1126.5 51.8354 Q1123.01 53.9013 1123.01 58.8839 Q1123.01 62.8538 1125.61 65.2034 Q1128.24 67.5124 1132.74 67.5124 Q1138.93 67.5124 1142.66 63.1374 Q1146.43 58.7219 1146.43 51.4303 L1146.43 49.7694 L1139.01 49.7694 M1153.88 46.6907 L1153.88 72.576 L1146.43 72.576 L1146.43 65.6895 Q1143.88 69.8214 1140.07 71.8063 Q1136.26 73.7508 1130.75 73.7508 Q1123.78 73.7508 1119.65 69.8619 Q1115.56 65.9325 1115.56 59.3701 Q1115.56 51.7138 1120.66 47.825 Q1125.81 43.9361 1135.98 43.9361 L1146.43 43.9361 L1146.43 43.2069 Q1146.43 38.0623 1143.02 35.2672 Q1139.66 32.4315 1133.55 32.4315 Q1129.66 32.4315 1125.97 33.3632 Q1122.28 34.295 1118.88 36.1584 L1118.88 29.2718 Q1122.97 27.692 1126.82 26.9223 Q1130.67 26.1121 1134.32 26.1121 Q1144.16 26.1121 1149.02 31.2163 Q1153.88 36.3204 1153.88 46.6907 Z\" fill=\"#000000\" fill-rule=\"evenodd\" fill-opacity=\"1\" /><path clip-path=\"url(#clip270)\" d=\"M1176.61 14.324 L1176.61 27.2059 L1191.96 27.2059 L1191.96 32.9987 L1176.61 32.9987 L1176.61 57.6282 Q1176.61 63.1779 1178.11 64.7578 Q1179.64 66.3376 1184.3 66.3376 L1191.96 66.3376 L1191.96 72.576 L1184.3 72.576 Q1175.68 72.576 1172.39 69.3758 Q1169.11 66.1351 1169.11 57.6282 L1169.11 32.9987 L1163.64 32.9987 L1163.64 27.2059 L1169.11 27.2059 L1169.11 14.324 L1176.61 14.324 Z\" fill=\"#000000\" fill-rule=\"evenodd\" fill-opacity=\"1\" /><path clip-path=\"url(#clip270)\" d=\"M1240.57 48.0275 L1240.57 51.6733 L1206.3 51.6733 Q1206.79 59.3701 1210.92 63.421 Q1215.09 67.4314 1222.5 67.4314 Q1226.8 67.4314 1230.81 66.3781 Q1234.86 65.3249 1238.83 63.2184 L1238.83 70.267 Q1234.82 71.9684 1230.61 72.8596 Q1226.39 73.7508 1222.06 73.7508 Q1211.2 73.7508 1204.84 67.4314 Q1198.52 61.1119 1198.52 50.3365 Q1198.52 39.1965 1204.52 32.6746 Q1210.55 26.1121 1220.76 26.1121 Q1229.92 26.1121 1235.22 32.0264 Q1240.57 37.9003 1240.57 48.0275 M1233.12 45.84 Q1233.04 39.7232 1229.67 36.0774 Q1226.35 32.4315 1220.84 32.4315 Q1214.6 32.4315 1210.84 35.9558 Q1207.11 39.4801 1206.54 45.8805 L1233.12 45.84 Z\" fill=\"#000000\" fill-rule=\"evenodd\" fill-opacity=\"1\" /><path clip-path=\"url(#clip270)\" d=\"M1279.5 12.096 L1287.68 12.096 L1287.68 36.8875 L1317.42 36.8875 L1317.42 12.096 L1325.6 12.096 L1325.6 72.576 L1317.42 72.576 L1317.42 43.7741 L1287.68 43.7741 L1287.68 72.576 L1279.5 72.576 L1279.5 12.096 Z\" fill=\"#000000\" fill-rule=\"evenodd\" fill-opacity=\"1\" /><path clip-path=\"url(#clip270)\" d=\"M1341.56 27.2059 L1349.01 27.2059 L1349.01 72.576 L1341.56 72.576 L1341.56 27.2059 M1341.56 9.54393 L1349.01 9.54393 L1349.01 18.9825 L1341.56 18.9825 L1341.56 9.54393 Z\" fill=\"#000000\" fill-rule=\"evenodd\" fill-opacity=\"1\" /><path clip-path=\"url(#clip270)\" d=\"M1393.53 28.5427 L1393.53 35.5912 Q1390.37 33.9709 1386.97 33.1607 Q1383.57 32.3505 1379.92 32.3505 Q1374.37 32.3505 1371.58 34.0519 Q1368.82 35.7533 1368.82 39.156 Q1368.82 41.7486 1370.81 43.2475 Q1372.79 44.7058 1378.79 46.0426 L1381.34 46.6097 Q1389.28 48.3111 1392.6 51.4303 Q1395.96 54.509 1395.96 60.0587 Q1395.96 66.3781 1390.94 70.0644 Q1385.96 73.7508 1377.21 73.7508 Q1373.56 73.7508 1369.59 73.0216 Q1365.66 72.3329 1361.29 70.9151 L1361.29 63.2184 Q1365.42 65.3654 1369.43 66.4591 Q1373.44 67.5124 1377.37 67.5124 Q1382.64 67.5124 1385.47 65.73 Q1388.31 63.9071 1388.31 60.6258 Q1388.31 57.5877 1386.24 55.9673 Q1384.22 54.3469 1377.29 52.8481 L1374.7 52.2405 Q1367.77 50.7821 1364.69 47.7845 Q1361.61 44.7463 1361.61 39.4801 Q1361.61 33.0797 1366.15 29.5959 Q1370.69 26.1121 1379.03 26.1121 Q1383.16 26.1121 1386.81 26.7198 Q1390.45 27.3274 1393.53 28.5427 Z\" fill=\"#000000\" fill-rule=\"evenodd\" fill-opacity=\"1\" /><path clip-path=\"url(#clip270)\" d=\"M1415.21 14.324 L1415.21 27.2059 L1430.56 27.2059 L1430.56 32.9987 L1415.21 32.9987 L1415.21 57.6282 Q1415.21 63.1779 1416.7 64.7578 Q1418.24 66.3376 1422.9 66.3376 L1430.56 66.3376 L1430.56 72.576 L1422.9 72.576 Q1414.27 72.576 1410.99 69.3758 Q1407.71 66.1351 1407.71 57.6282 L1407.71 32.9987 L1402.24 32.9987 L1402.24 27.2059 L1407.71 27.2059 L1407.71 14.324 L1415.21 14.324 Z\" fill=\"#000000\" fill-rule=\"evenodd\" fill-opacity=\"1\" /><path clip-path=\"url(#clip270)\" d=\"M1457.94 32.4315 Q1451.95 32.4315 1448.46 37.1306 Q1444.98 41.7891 1444.98 49.9314 Q1444.98 58.0738 1448.42 62.7728 Q1451.91 67.4314 1457.94 67.4314 Q1463.9 67.4314 1467.38 62.7323 Q1470.86 58.0333 1470.86 49.9314 Q1470.86 41.8701 1467.38 37.1711 Q1463.9 32.4315 1457.94 32.4315 M1457.94 26.1121 Q1467.66 26.1121 1473.21 32.4315 Q1478.76 38.7509 1478.76 49.9314 Q1478.76 61.0714 1473.21 67.4314 Q1467.66 73.7508 1457.94 73.7508 Q1448.18 73.7508 1442.63 67.4314 Q1437.12 61.0714 1437.12 49.9314 Q1437.12 38.7509 1442.63 32.4315 Q1448.18 26.1121 1457.94 26.1121 Z\" fill=\"#000000\" fill-rule=\"evenodd\" fill-opacity=\"1\" /><path clip-path=\"url(#clip270)\" d=\"M1517.41 34.1734 Q1516.15 33.4443 1514.65 33.1202 Q1513.2 32.7556 1511.41 32.7556 Q1505.09 32.7556 1501.69 36.8875 Q1498.33 40.9789 1498.33 48.6757 L1498.33 72.576 L1490.84 72.576 L1490.84 27.2059 L1498.33 27.2059 L1498.33 34.2544 Q1500.68 30.1225 1504.45 28.1376 Q1508.21 26.1121 1513.6 26.1121 Q1514.37 26.1121 1515.3 26.2337 Q1516.23 26.3147 1517.37 26.5172 L1517.41 34.1734 Z\" fill=\"#000000\" fill-rule=\"evenodd\" fill-opacity=\"1\" /><path clip-path=\"url(#clip270)\" d=\"M1544.1 76.7889 Q1540.95 84.8907 1537.95 87.3618 Q1534.95 89.8329 1529.93 89.8329 L1523.97 89.8329 L1523.97 83.5945 L1528.35 83.5945 Q1531.43 83.5945 1533.13 82.1361 Q1534.83 80.6778 1536.89 75.2496 L1538.23 71.8468 L1519.88 27.2059 L1527.78 27.2059 L1541.96 62.6918 L1556.14 27.2059 L1564.04 27.2059 L1544.1 76.7889 Z\" fill=\"#000000\" fill-rule=\"evenodd\" fill-opacity=\"1\" /><polyline clip-path=\"url(#clip272)\" style=\"stroke:#009af9; stroke-linecap:round; stroke-linejoin:round; stroke-width:4; stroke-opacity:1; fill:none\" points=\"301.869,690.071 321.781,695.025 341.692,699.953 361.604,704.855 381.515,709.732 401.427,714.583 421.338,719.41 441.25,724.212 461.161,728.989 481.073,733.743 500.984,738.472 520.896,743.177 540.807,747.86 560.719,752.519 580.631,757.155 600.542,761.768 620.454,766.359 640.365,770.928 660.277,775.474 680.188,779.999 700.1,784.503 720.011,788.986 739.923,793.447 759.834,797.888 779.746,802.308 799.657,806.709 819.569,811.089 839.48,815.45 859.392,819.791 879.303,824.113 899.215,828.417 919.126,832.701 939.038,836.968 958.949,841.216 978.861,845.446 998.772,849.659 1018.68,853.854 1038.6,858.032 1058.51,862.193 1078.42,866.338 1098.33,870.466 1118.24,874.578 1138.15,878.674 1158.06,882.755 1177.98,886.82 1197.89,890.87 1217.8,894.906 1237.71,898.926 1257.62,902.933 1277.53,906.925 1297.45,910.903 1317.36,914.868 1337.27,918.82 1357.18,922.758 1377.09,926.684 1397,930.597 1416.91,934.497 1436.83,938.386 1456.74,942.263 1476.65,946.128 1496.56,949.982 1516.47,953.824 1536.38,957.656 1556.3,961.478 1576.21,965.289 1596.12,969.09 1616.03,972.881 1635.94,976.662 1655.85,980.435 1675.76,984.198 1695.68,987.952 1715.59,991.698 1735.5,995.436 1755.41,999.165 1775.32,1002.89 1795.23,1006.6 1815.14,1010.31 1835.06,1014.01 1854.97,1017.7 1874.88,1021.39 1894.79,1025.07 1914.7,1028.74 1934.61,1032.41 1954.53,1036.07 1974.44,1039.73 1994.35,1043.38 2014.26,1047.03 2034.17,1050.67 2054.08,1054.31 2073.99,1057.94 2093.91,1061.58 2113.82,1065.2 2133.73,1068.83 2153.64,1072.45 2173.55,1076.06 2193.46,1079.68 2213.38,1083.29 2233.29,1086.9 2253.2,1090.51 2273.11,1094.12 2293.02,1097.73 \"/>\n<polyline clip-path=\"url(#clip272)\" style=\"stroke:#e26f46; stroke-linecap:round; stroke-linejoin:round; stroke-width:4; stroke-opacity:1; fill:none\" points=\"301.869,756.297 321.781,753 341.692,749.732 361.604,746.491 381.515,743.278 401.427,740.093 421.338,736.934 441.25,733.803 461.161,730.698 481.073,727.62 500.984,724.567 520.896,721.541 540.807,718.539 560.719,715.563 580.631,712.612 600.542,709.685 620.454,706.782 640.365,703.903 660.277,701.048 680.188,698.216 700.1,695.407 720.011,692.621 739.923,689.858 759.834,687.116 779.746,684.397 799.657,681.699 819.569,679.022 839.48,676.367 859.392,673.732 879.303,671.117 899.215,668.523 919.126,665.948 939.038,663.393 958.949,660.858 978.861,658.341 998.772,655.843 1018.68,653.363 1038.6,650.901 1058.51,648.457 1078.42,646.031 1098.33,643.622 1118.24,641.229 1138.15,638.854 1158.06,636.494 1177.98,634.151 1197.89,631.823 1217.8,629.511 1237.71,627.214 1257.62,624.932 1277.53,622.665 1297.45,620.412 1317.36,618.173 1337.27,615.948 1357.18,613.736 1377.09,611.537 1397,609.351 1416.91,607.178 1436.83,605.017 1456.74,602.868 1476.65,600.731 1496.56,598.605 1516.47,596.491 1536.38,594.387 1556.3,592.294 1576.21,590.211 1596.12,588.138 1616.03,586.075 1635.94,584.021 1655.85,581.977 1675.76,579.941 1695.68,577.914 1715.59,575.896 1735.5,573.885 1755.41,571.882 1775.32,569.886 1795.23,567.898 1815.14,565.917 1835.06,563.942 1854.97,561.973 1874.88,560.011 1894.79,558.054 1914.7,556.103 1934.61,554.157 1954.53,552.215 1974.44,550.279 1994.35,548.346 2014.26,546.418 2034.17,544.494 2054.08,542.573 2073.99,540.655 2093.91,538.741 2113.82,536.828 2133.73,534.919 2153.64,533.011 2173.55,531.105 2193.46,529.201 2213.38,527.298 2233.29,525.396 2253.2,523.494 2273.11,521.593 2293.02,519.692 \"/>\n<polyline clip-path=\"url(#clip272)\" style=\"stroke:#3da44d; stroke-linecap:round; stroke-linejoin:round; stroke-width:4; stroke-opacity:1; fill:none\" points=\"301.869,160.256 321.781,168.425 341.692,176.378 361.604,184.124 381.515,191.672 401.427,199.029 421.338,206.205 441.25,213.208 461.161,220.046 481.073,226.728 500.984,233.262 520.896,239.656 540.807,245.92 560.719,252.061 580.631,258.088 600.542,264.01 620.454,269.834 640.365,275.569 660.277,281.225 680.188,286.808 700.1,292.328 720.011,297.794 739.923,303.213 759.834,308.593 779.746,313.945 799.657,319.275 819.569,324.593 839.48,329.906 859.392,335.224 879.303,340.555 899.215,345.907 919.126,351.288 939.038,356.708 958.949,362.174 978.861,367.696 998.772,373.281 1018.68,378.937 1038.6,384.675 1058.51,390.501 1078.42,396.425 1098.33,402.454 1118.24,408.598 1138.15,414.865 1158.06,421.263 1177.98,427.801 1197.89,434.487 1217.8,441.329 1237.71,448.337 1257.62,455.518 1277.53,462.881 1297.45,470.435 1317.36,478.188 1337.27,486.148 1357.18,494.325 1377.09,502.725 1397,511.359 1416.91,520.234 1436.83,529.359 1456.74,538.742 1476.65,548.392 1496.56,558.317 1516.47,568.526 1536.38,579.027 1556.3,589.829 1576.21,600.94 1596.12,612.369 1616.03,624.123 1635.94,636.213 1655.85,648.645 1675.76,661.429 1695.68,674.573 1715.59,688.085 1735.5,701.974 1755.41,716.249 1775.32,730.918 1795.23,745.989 1815.14,761.471 1835.06,777.372 1854.97,793.701 1874.88,810.466 1894.79,827.676 1914.7,845.34 1934.61,863.465 1954.53,882.06 1974.44,901.134 1994.35,920.695 2014.26,940.751 2034.17,961.312 2054.08,982.385 2073.99,1003.98 2093.91,1026.1 2113.82,1048.76 2133.73,1071.97 2153.64,1095.74 2173.55,1120.06 2193.46,1144.96 2213.38,1170.44 2233.29,1196.51 2253.2,1223.17 2273.11,1250.44 2293.02,1278.33 \"/>\n<polyline clip-path=\"url(#clip272)\" style=\"stroke:#c271d2; stroke-linecap:round; stroke-linejoin:round; stroke-width:4; stroke-opacity:1; fill:none\" points=\"301.869,921.864 321.781,921.343 341.692,920.826 361.604,920.314 381.515,919.807 401.427,919.305 421.338,918.809 441.25,918.317 461.161,917.83 481.073,917.349 500.984,916.872 520.896,916.401 540.807,915.934 560.719,915.473 580.631,915.016 600.542,914.565 620.454,914.119 640.365,913.678 660.277,913.242 680.188,912.81 700.1,912.384 720.011,911.963 739.923,911.548 759.834,911.137 779.746,910.731 799.657,910.33 819.569,909.934 839.48,909.544 859.392,909.158 879.303,908.778 899.215,908.402 919.126,908.032 939.038,907.667 958.949,907.306 978.861,906.951 998.772,906.601 1018.68,906.256 1038.6,905.916 1058.51,905.581 1078.42,905.251 1098.33,904.926 1118.24,904.606 1138.15,904.292 1158.06,903.982 1177.98,903.677 1197.89,903.378 1217.8,903.083 1237.71,902.794 1257.62,902.509 1277.53,902.23 1297.45,901.955 1317.36,901.686 1337.27,901.422 1357.18,901.163 1377.09,900.908 1397,900.659 1416.91,900.415 1436.83,900.176 1456.74,899.942 1476.65,899.713 1496.56,899.489 1516.47,899.27 1536.38,899.056 1556.3,898.847 1576.21,898.643 1596.12,898.445 1616.03,898.251 1635.94,898.062 1655.85,897.878 1675.76,897.699 1695.68,897.526 1715.59,897.357 1735.5,897.193 1755.41,897.034 1775.32,896.881 1795.23,896.732 1815.14,896.588 1835.06,896.45 1854.97,896.316 1874.88,896.187 1894.79,896.063 1914.7,895.945 1934.61,895.831 1954.53,895.722 1974.44,895.618 1994.35,895.52 2014.26,895.426 2034.17,895.337 2054.08,895.253 2073.99,895.174 2093.91,895.1 2113.82,895.031 2133.73,894.968 2153.64,894.909 2173.55,894.854 2193.46,894.805 2213.38,894.761 2233.29,894.722 2253.2,894.688 2273.11,894.659 2293.02,894.634 \"/>\n<polyline clip-path=\"url(#clip272)\" style=\"stroke:#ac8d18; stroke-linecap:round; stroke-linejoin:round; stroke-width:4; stroke-opacity:1; fill:none\" points=\"301.869,756.297 321.781,756.868 341.692,757.432 361.604,757.99 381.515,758.543 401.427,759.089 421.338,759.63 441.25,760.165 461.161,760.693 481.073,761.216 500.984,761.733 520.896,762.244 540.807,762.749 560.719,763.249 580.631,763.742 600.542,764.229 620.454,764.711 640.365,765.187 660.277,765.656 680.188,766.12 700.1,766.578 720.011,767.03 739.923,767.477 759.834,767.917 779.746,768.352 799.657,768.78 819.569,769.203 839.48,769.62 859.392,770.031 879.303,770.437 899.215,770.836 919.126,771.23 939.038,771.618 958.949,771.999 978.861,772.376 998.772,772.746 1018.68,773.11 1038.6,773.469 1058.51,773.822 1078.42,774.169 1098.33,774.51 1118.24,774.846 1138.15,775.175 1158.06,775.499 1177.98,775.817 1197.89,776.13 1217.8,776.436 1237.71,776.737 1257.62,777.032 1277.53,777.321 1297.45,777.604 1317.36,777.882 1337.27,778.154 1357.18,778.42 1377.09,778.681 1397,778.935 1416.91,779.184 1436.83,779.427 1456.74,779.665 1476.65,779.897 1496.56,780.123 1516.47,780.343 1536.38,780.557 1556.3,780.766 1576.21,780.969 1596.12,781.167 1616.03,781.358 1635.94,781.544 1655.85,781.725 1675.76,781.899 1695.68,782.068 1715.59,782.231 1735.5,782.389 1755.41,782.541 1775.32,782.687 1795.23,782.828 1815.14,782.962 1835.06,783.092 1854.97,783.215 1874.88,783.333 1894.79,783.445 1914.7,783.552 1934.61,783.653 1954.53,783.748 1974.44,783.837 1994.35,783.921 2014.26,784 2034.17,784.073 2054.08,784.14 2073.99,784.201 2093.91,784.257 2113.82,784.307 2133.73,784.352 2153.64,784.391 2173.55,784.424 2193.46,784.452 2213.38,784.474 2233.29,784.491 2253.2,784.502 2273.11,784.507 2293.02,784.507 \"/>\n<polyline clip-path=\"url(#clip272)\" style=\"stroke:#00a9ad; stroke-linecap:round; stroke-linejoin:round; stroke-width:4; stroke-opacity:1; fill:none\" points=\"301.869,988.091 321.781,983.699 341.692,979.475 361.604,975.421 381.515,971.535 401.427,967.818 421.338,964.27 441.25,960.891 461.161,957.68 481.073,954.639 500.984,951.766 520.896,949.063 540.807,946.528 560.719,944.163 580.631,941.966 600.542,939.939 620.454,938.08 640.365,936.391 660.277,934.87 680.188,933.519 700.1,932.337 720.011,931.324 739.923,930.479 759.834,929.804 779.746,929.299 799.657,928.962 819.569,928.794 839.48,928.796 859.392,928.967 879.303,929.307 899.215,929.816 919.126,930.494 939.038,931.342 958.949,932.359 978.861,933.545 998.772,934.9 1018.68,936.425 1038.6,938.119 1058.51,939.982 1078.42,942.015 1098.33,944.217 1118.24,946.588 1138.15,949.128 1158.06,951.838 1177.98,954.717 1197.89,957.766 1217.8,960.984 1237.71,964.371 1257.62,967.928 1277.53,971.654 1297.45,975.549 1317.36,979.614 1337.27,983.848 1357.18,988.252 1377.09,992.825 1397,997.568 1416.91,1002.48 1436.83,1007.56 1456.74,1012.81 1476.65,1018.23 1496.56,1023.82 1516.47,1029.58 1536.38,1035.51 1556.3,1041.61 1576.21,1047.88 1596.12,1054.32 1616.03,1060.92 1635.94,1067.7 1655.85,1074.64 1675.76,1081.76 1695.68,1089.04 1715.59,1096.5 1735.5,1104.12 1755.41,1111.92 1775.32,1119.88 1795.23,1128.01 1815.14,1136.31 1835.06,1144.78 1854.97,1153.43 1874.88,1162.24 1894.79,1171.22 1914.7,1180.37 1934.61,1189.68 1954.53,1199.17 1974.44,1208.83 1994.35,1218.66 2014.26,1228.65 2034.17,1238.82 2054.08,1249.16 2073.99,1259.66 2093.91,1270.34 2113.82,1281.18 2133.73,1292.19 2153.64,1303.38 2173.55,1314.73 2193.46,1326.25 2213.38,1337.94 2233.29,1349.8 2253.2,1361.83 2273.11,1374.03 2293.02,1386.4 \"/>\n<path clip-path=\"url(#clip270)\" d=\"M2028.05 529.676 L2282.4 529.676 L2282.4 166.796 L2028.05 166.796  Z\" fill=\"#ffffff\" fill-rule=\"evenodd\" fill-opacity=\"1\"/>\n<polyline clip-path=\"url(#clip270)\" style=\"stroke:#000000; stroke-linecap:round; stroke-linejoin:round; stroke-width:4; stroke-opacity:1; fill:none\" points=\"2028.05,529.676 2282.4,529.676 2282.4,166.796 2028.05,166.796 2028.05,529.676 \"/>\n<polyline clip-path=\"url(#clip270)\" style=\"stroke:#009af9; stroke-linecap:round; stroke-linejoin:round; stroke-width:4; stroke-opacity:1; fill:none\" points=\"2051.5,218.636 2192.21,218.636 \"/>\n<path clip-path=\"url(#clip270)\" d=\"M2240.32 209.99 L2230.94 222.606 L2240.8 235.916 L2235.78 235.916 L2228.23 225.731 L2220.69 235.916 L2215.66 235.916 L2225.73 222.351 L2216.52 209.99 L2221.54 209.99 L2228.42 219.226 L2235.29 209.99 L2240.32 209.99 Z\" fill=\"#000000\" fill-rule=\"evenodd\" fill-opacity=\"1\" /><path clip-path=\"url(#clip270)\" d=\"M2245.96 233.369 L2250.69 233.369 L2250.69 219.226 L2245.52 220.175 L2245.52 217.49 L2250.85 216.587 L2254.02 216.587 L2254.02 233.369 L2258.77 233.369 L2258.77 235.916 L2245.96 235.916 L2245.96 233.369 Z\" fill=\"#000000\" fill-rule=\"evenodd\" fill-opacity=\"1\" /><polyline clip-path=\"url(#clip270)\" style=\"stroke:#e26f46; stroke-linecap:round; stroke-linejoin:round; stroke-width:4; stroke-opacity:1; fill:none\" points=\"2051.5,270.476 2192.21,270.476 \"/>\n<path clip-path=\"url(#clip270)\" d=\"M2240.32 261.83 L2230.94 274.446 L2240.8 287.756 L2235.78 287.756 L2228.23 277.571 L2220.69 287.756 L2215.66 287.756 L2225.73 274.191 L2216.52 261.83 L2221.54 261.83 L2228.42 271.066 L2235.29 261.83 L2240.32 261.83 Z\" fill=\"#000000\" fill-rule=\"evenodd\" fill-opacity=\"1\" /><path clip-path=\"url(#clip270)\" d=\"M2248.56 285.117 L2258.37 285.117 L2258.37 287.756 L2244.53 287.756 L2244.53 285.209 Q2245.32 284.492 2246.77 283.196 Q2254.74 276.135 2254.74 273.959 Q2254.74 272.432 2253.53 271.506 Q2252.33 270.557 2250.36 270.557 Q2249.16 270.557 2247.75 270.973 Q2246.33 271.367 2244.67 272.177 L2244.67 269.33 Q2246.45 268.682 2247.98 268.358 Q2249.53 268.034 2250.85 268.034 Q2254.21 268.034 2256.22 269.561 Q2258.23 271.089 2258.23 273.589 Q2258.23 276.807 2250.57 283.381 Q2249.27 284.492 2248.56 285.117 Z\" fill=\"#000000\" fill-rule=\"evenodd\" fill-opacity=\"1\" /><polyline clip-path=\"url(#clip270)\" style=\"stroke:#3da44d; stroke-linecap:round; stroke-linejoin:round; stroke-width:4; stroke-opacity:1; fill:none\" points=\"2051.5,322.316 2192.21,322.316 \"/>\n<path clip-path=\"url(#clip270)\" d=\"M2240.32 313.67 L2230.94 326.286 L2240.8 339.596 L2235.78 339.596 L2228.23 329.411 L2220.69 339.596 L2215.66 339.596 L2225.73 326.031 L2216.52 313.67 L2221.54 313.67 L2228.42 322.906 L2235.29 313.67 L2240.32 313.67 Z\" fill=\"#000000\" fill-rule=\"evenodd\" fill-opacity=\"1\" /><path clip-path=\"url(#clip270)\" d=\"M2254.48 329.133 Q2256.61 329.549 2257.77 330.823 Q2258.95 332.073 2258.95 333.971 Q2258.95 336.841 2256.75 338.392 Q2254.55 339.943 2250.46 339.943 Q2249.14 339.943 2247.68 339.688 Q2246.24 339.457 2244.62 338.994 L2244.62 336.193 Q2245.83 336.818 2247.19 337.119 Q2248.58 337.42 2250.13 337.42 Q2252.65 337.42 2254.04 336.517 Q2255.43 335.591 2255.43 333.971 Q2255.43 332.258 2254.14 331.378 Q2252.86 330.499 2250.36 330.499 L2248.37 330.499 L2248.37 327.999 L2250.55 327.999 Q2252.72 327.999 2253.83 327.281 Q2254.97 326.54 2254.97 325.151 Q2254.97 323.809 2253.81 323.114 Q2252.65 322.397 2250.46 322.397 Q2249.53 322.397 2248.35 322.605 Q2247.17 322.813 2245.29 323.346 L2245.29 320.684 Q2246.98 320.29 2248.46 320.082 Q2249.95 319.874 2251.22 319.874 Q2254.55 319.874 2256.5 321.239 Q2258.46 322.605 2258.46 324.897 Q2258.46 326.494 2257.42 327.605 Q2256.38 328.716 2254.48 329.133 Z\" fill=\"#000000\" fill-rule=\"evenodd\" fill-opacity=\"1\" /><polyline clip-path=\"url(#clip270)\" style=\"stroke:#c271d2; stroke-linecap:round; stroke-linejoin:round; stroke-width:4; stroke-opacity:1; fill:none\" points=\"2051.5,374.156 2192.21,374.156 \"/>\n<path clip-path=\"url(#clip270)\" d=\"M2240.32 365.51 L2230.94 378.126 L2240.8 391.436 L2235.78 391.436 L2228.23 381.251 L2220.69 391.436 L2215.66 391.436 L2225.73 377.871 L2216.52 365.51 L2221.54 365.51 L2228.42 374.746 L2235.29 365.51 L2240.32 365.51 Z\" fill=\"#000000\" fill-rule=\"evenodd\" fill-opacity=\"1\" /><path clip-path=\"url(#clip270)\" d=\"M2228.33 355.417 L2232.58 355.417 L2232.58 360.811 L2228.33 360.811 L2228.33 355.417 M2230.5 364.885 L2230.5 364.885 Z\" fill=\"#000000\" fill-rule=\"evenodd\" fill-opacity=\"1\" /><path clip-path=\"url(#clip270)\" d=\"M2245.96 388.889 L2250.69 388.889 L2250.69 374.746 L2245.52 375.695 L2245.52 373.01 L2250.85 372.107 L2254.02 372.107 L2254.02 388.889 L2258.77 388.889 L2258.77 391.436 L2245.96 391.436 L2245.96 388.889 Z\" fill=\"#000000\" fill-rule=\"evenodd\" fill-opacity=\"1\" /><polyline clip-path=\"url(#clip270)\" style=\"stroke:#ac8d18; stroke-linecap:round; stroke-linejoin:round; stroke-width:4; stroke-opacity:1; fill:none\" points=\"2051.5,425.996 2192.21,425.996 \"/>\n<path clip-path=\"url(#clip270)\" d=\"M2240.32 417.35 L2230.94 429.966 L2240.8 443.276 L2235.78 443.276 L2228.23 433.091 L2220.69 443.276 L2215.66 443.276 L2225.73 429.711 L2216.52 417.35 L2221.54 417.35 L2228.42 426.586 L2235.29 417.35 L2240.32 417.35 Z\" fill=\"#000000\" fill-rule=\"evenodd\" fill-opacity=\"1\" /><path clip-path=\"url(#clip270)\" d=\"M2228.33 407.257 L2232.58 407.257 L2232.58 412.651 L2228.33 412.651 L2228.33 407.257 M2230.5 416.725 L2230.5 416.725 Z\" fill=\"#000000\" fill-rule=\"evenodd\" fill-opacity=\"1\" /><path clip-path=\"url(#clip270)\" d=\"M2248.56 440.637 L2258.37 440.637 L2258.37 443.276 L2244.53 443.276 L2244.53 440.729 Q2245.32 440.012 2246.77 438.716 Q2254.74 431.655 2254.74 429.479 Q2254.74 427.952 2253.53 427.026 Q2252.33 426.077 2250.36 426.077 Q2249.16 426.077 2247.75 426.493 Q2246.33 426.887 2244.67 427.697 L2244.67 424.85 Q2246.45 424.202 2247.98 423.878 Q2249.53 423.554 2250.85 423.554 Q2254.21 423.554 2256.22 425.081 Q2258.23 426.609 2258.23 429.109 Q2258.23 432.327 2250.57 438.901 Q2249.27 440.012 2248.56 440.637 Z\" fill=\"#000000\" fill-rule=\"evenodd\" fill-opacity=\"1\" /><polyline clip-path=\"url(#clip270)\" style=\"stroke:#00a9ad; stroke-linecap:round; stroke-linejoin:round; stroke-width:4; stroke-opacity:1; fill:none\" points=\"2051.5,477.836 2192.21,477.836 \"/>\n<path clip-path=\"url(#clip270)\" d=\"M2240.32 469.19 L2230.94 481.806 L2240.8 495.116 L2235.78 495.116 L2228.23 484.931 L2220.69 495.116 L2215.66 495.116 L2225.73 481.551 L2216.52 469.19 L2221.54 469.19 L2228.42 478.426 L2235.29 469.19 L2240.32 469.19 Z\" fill=\"#000000\" fill-rule=\"evenodd\" fill-opacity=\"1\" /><path clip-path=\"url(#clip270)\" d=\"M2228.33 459.097 L2232.58 459.097 L2232.58 464.491 L2228.33 464.491 L2228.33 459.097 M2230.5 468.565 L2230.5 468.565 Z\" fill=\"#000000\" fill-rule=\"evenodd\" fill-opacity=\"1\" /><path clip-path=\"url(#clip270)\" d=\"M2254.48 484.653 Q2256.61 485.069 2257.77 486.343 Q2258.95 487.593 2258.95 489.491 Q2258.95 492.361 2256.75 493.912 Q2254.55 495.463 2250.46 495.463 Q2249.14 495.463 2247.68 495.208 Q2246.24 494.977 2244.62 494.514 L2244.62 491.713 Q2245.83 492.338 2247.19 492.639 Q2248.58 492.94 2250.13 492.94 Q2252.65 492.94 2254.04 492.037 Q2255.43 491.111 2255.43 489.491 Q2255.43 487.778 2254.14 486.898 Q2252.86 486.019 2250.36 486.019 L2248.37 486.019 L2248.37 483.519 L2250.55 483.519 Q2252.72 483.519 2253.83 482.801 Q2254.97 482.06 2254.97 480.671 Q2254.97 479.329 2253.81 478.634 Q2252.65 477.917 2250.46 477.917 Q2249.53 477.917 2248.35 478.125 Q2247.17 478.333 2245.29 478.866 L2245.29 476.204 Q2246.98 475.81 2248.46 475.602 Q2249.95 475.394 2251.22 475.394 Q2254.55 475.394 2256.5 476.759 Q2258.46 478.125 2258.46 480.417 Q2258.46 482.014 2257.42 483.125 Q2256.38 484.236 2254.48 484.653 Z\" fill=\"#000000\" fill-rule=\"evenodd\" fill-opacity=\"1\" /></svg>\n",
      "text/html": [
       "<?xml version=\"1.0\" encoding=\"utf-8\"?>\n",
       "<svg xmlns=\"http://www.w3.org/2000/svg\" xmlns:xlink=\"http://www.w3.org/1999/xlink\" width=\"600\" height=\"400\" viewBox=\"0 0 2400 1600\">\n",
       "<defs>\n",
       "  <clipPath id=\"clip320\">\n",
       "    <rect x=\"0\" y=\"0\" width=\"2400\" height=\"1600\"/>\n",
       "  </clipPath>\n",
       "</defs>\n",
       "<path clip-path=\"url(#clip320)\" d=\"M0 1600 L2400 1600 L2400 0 L0 0  Z\" fill=\"#ffffff\" fill-rule=\"evenodd\" fill-opacity=\"1\"/>\n",
       "<defs>\n",
       "  <clipPath id=\"clip321\">\n",
       "    <rect x=\"480\" y=\"0\" width=\"1681\" height=\"1600\"/>\n",
       "  </clipPath>\n",
       "</defs>\n",
       "<path clip-path=\"url(#clip320)\" d=\"M242.135 1423.18 L2352.76 1423.18 L2352.76 123.472 L242.135 123.472  Z\" fill=\"#ffffff\" fill-rule=\"evenodd\" fill-opacity=\"1\"/>\n",
       "<defs>\n",
       "  <clipPath id=\"clip322\">\n",
       "    <rect x=\"242\" y=\"123\" width=\"2112\" height=\"1301\"/>\n",
       "  </clipPath>\n",
       "</defs>\n",
       "<polyline clip-path=\"url(#clip322)\" style=\"stroke:#000000; stroke-linecap:round; stroke-linejoin:round; stroke-width:2; stroke-opacity:0.1; fill:none\" points=\"301.869,1423.18 301.869,123.472 \"/>\n",
       "<polyline clip-path=\"url(#clip322)\" style=\"stroke:#000000; stroke-linecap:round; stroke-linejoin:round; stroke-width:2; stroke-opacity:0.1; fill:none\" points=\"799.657,1423.18 799.657,123.472 \"/>\n",
       "<polyline clip-path=\"url(#clip322)\" style=\"stroke:#000000; stroke-linecap:round; stroke-linejoin:round; stroke-width:2; stroke-opacity:0.1; fill:none\" points=\"1297.45,1423.18 1297.45,123.472 \"/>\n",
       "<polyline clip-path=\"url(#clip322)\" style=\"stroke:#000000; stroke-linecap:round; stroke-linejoin:round; stroke-width:2; stroke-opacity:0.1; fill:none\" points=\"1795.23,1423.18 1795.23,123.472 \"/>\n",
       "<polyline clip-path=\"url(#clip322)\" style=\"stroke:#000000; stroke-linecap:round; stroke-linejoin:round; stroke-width:2; stroke-opacity:0.1; fill:none\" points=\"2293.02,1423.18 2293.02,123.472 \"/>\n",
       "<polyline clip-path=\"url(#clip320)\" style=\"stroke:#000000; stroke-linecap:round; stroke-linejoin:round; stroke-width:4; stroke-opacity:1; fill:none\" points=\"242.135,1423.18 2352.76,1423.18 \"/>\n",
       "<polyline clip-path=\"url(#clip320)\" style=\"stroke:#000000; stroke-linecap:round; stroke-linejoin:round; stroke-width:4; stroke-opacity:1; fill:none\" points=\"301.869,1423.18 301.869,1404.28 \"/>\n",
       "<polyline clip-path=\"url(#clip320)\" style=\"stroke:#000000; stroke-linecap:round; stroke-linejoin:round; stroke-width:4; stroke-opacity:1; fill:none\" points=\"799.657,1423.18 799.657,1404.28 \"/>\n",
       "<polyline clip-path=\"url(#clip320)\" style=\"stroke:#000000; stroke-linecap:round; stroke-linejoin:round; stroke-width:4; stroke-opacity:1; fill:none\" points=\"1297.45,1423.18 1297.45,1404.28 \"/>\n",
       "<polyline clip-path=\"url(#clip320)\" style=\"stroke:#000000; stroke-linecap:round; stroke-linejoin:round; stroke-width:4; stroke-opacity:1; fill:none\" points=\"1795.23,1423.18 1795.23,1404.28 \"/>\n",
       "<polyline clip-path=\"url(#clip320)\" style=\"stroke:#000000; stroke-linecap:round; stroke-linejoin:round; stroke-width:4; stroke-opacity:1; fill:none\" points=\"2293.02,1423.18 2293.02,1404.28 \"/>\n",
       "<path clip-path=\"url(#clip320)\" d=\"M279.254 1454.1 Q275.643 1454.1 273.814 1457.66 Q272.008 1461.2 272.008 1468.33 Q272.008 1475.44 273.814 1479.01 Q275.643 1482.55 279.254 1482.55 Q282.888 1482.55 284.693 1479.01 Q286.522 1475.44 286.522 1468.33 Q286.522 1461.2 284.693 1457.66 Q282.888 1454.1 279.254 1454.1 M279.254 1450.39 Q285.064 1450.39 288.119 1455 Q291.198 1459.58 291.198 1468.33 Q291.198 1477.06 288.119 1481.67 Q285.064 1486.25 279.254 1486.25 Q273.443 1486.25 270.365 1481.67 Q267.309 1477.06 267.309 1468.33 Q267.309 1459.58 270.365 1455 Q273.443 1450.39 279.254 1450.39 Z\" fill=\"#000000\" fill-rule=\"evenodd\" fill-opacity=\"1\" /><path clip-path=\"url(#clip320)\" d=\"M299.416 1479.7 L304.3 1479.7 L304.3 1485.58 L299.416 1485.58 L299.416 1479.7 Z\" fill=\"#000000\" fill-rule=\"evenodd\" fill-opacity=\"1\" /><path clip-path=\"url(#clip320)\" d=\"M324.485 1454.1 Q320.874 1454.1 319.045 1457.66 Q317.24 1461.2 317.24 1468.33 Q317.24 1475.44 319.045 1479.01 Q320.874 1482.55 324.485 1482.55 Q328.119 1482.55 329.925 1479.01 Q331.753 1475.44 331.753 1468.33 Q331.753 1461.2 329.925 1457.66 Q328.119 1454.1 324.485 1454.1 M324.485 1450.39 Q330.295 1450.39 333.351 1455 Q336.429 1459.58 336.429 1468.33 Q336.429 1477.06 333.351 1481.67 Q330.295 1486.25 324.485 1486.25 Q318.675 1486.25 315.596 1481.67 Q312.54 1477.06 312.54 1468.33 Q312.54 1459.58 315.596 1455 Q318.675 1450.39 324.485 1450.39 Z\" fill=\"#000000\" fill-rule=\"evenodd\" fill-opacity=\"1\" /><path clip-path=\"url(#clip320)\" d=\"M771.394 1481.64 L787.713 1481.64 L787.713 1485.58 L765.769 1485.58 L765.769 1481.64 Q768.431 1478.89 773.014 1474.26 Q777.62 1469.61 778.801 1468.27 Q781.046 1465.74 781.926 1464.01 Q782.829 1462.25 782.829 1460.56 Q782.829 1457.8 780.884 1456.07 Q778.963 1454.33 775.861 1454.33 Q773.662 1454.33 771.208 1455.09 Q768.778 1455.86 766 1457.41 L766 1452.69 Q768.824 1451.55 771.278 1450.97 Q773.731 1450.39 775.768 1450.39 Q781.139 1450.39 784.333 1453.08 Q787.528 1455.77 787.528 1460.26 Q787.528 1462.39 786.718 1464.31 Q785.93 1466.2 783.824 1468.8 Q783.245 1469.47 780.143 1472.69 Q777.042 1475.88 771.394 1481.64 Z\" fill=\"#000000\" fill-rule=\"evenodd\" fill-opacity=\"1\" /><path clip-path=\"url(#clip320)\" d=\"M797.528 1479.7 L802.412 1479.7 L802.412 1485.58 L797.528 1485.58 L797.528 1479.7 Z\" fill=\"#000000\" fill-rule=\"evenodd\" fill-opacity=\"1\" /><path clip-path=\"url(#clip320)\" d=\"M812.643 1451.02 L831 1451.02 L831 1454.96 L816.926 1454.96 L816.926 1463.43 Q817.944 1463.08 818.963 1462.92 Q819.981 1462.73 821 1462.73 Q826.787 1462.73 830.166 1465.9 Q833.546 1469.08 833.546 1474.49 Q833.546 1480.07 830.074 1483.17 Q826.602 1486.25 820.282 1486.25 Q818.106 1486.25 815.838 1485.88 Q813.592 1485.51 811.185 1484.77 L811.185 1480.07 Q813.268 1481.2 815.491 1481.76 Q817.713 1482.32 820.19 1482.32 Q824.194 1482.32 826.532 1480.21 Q828.87 1478.1 828.87 1474.49 Q828.87 1470.88 826.532 1468.77 Q824.194 1466.67 820.19 1466.67 Q818.315 1466.67 816.44 1467.08 Q814.588 1467.5 812.643 1468.38 L812.643 1451.02 Z\" fill=\"#000000\" fill-rule=\"evenodd\" fill-opacity=\"1\" /><path clip-path=\"url(#clip320)\" d=\"M1264.61 1451.02 L1282.97 1451.02 L1282.97 1454.96 L1268.89 1454.96 L1268.89 1463.43 Q1269.91 1463.08 1270.93 1462.92 Q1271.95 1462.73 1272.97 1462.73 Q1278.75 1462.73 1282.13 1465.9 Q1285.51 1469.08 1285.51 1474.49 Q1285.51 1480.07 1282.04 1483.17 Q1278.57 1486.25 1272.25 1486.25 Q1270.07 1486.25 1267.8 1485.88 Q1265.56 1485.51 1263.15 1484.77 L1263.15 1480.07 Q1265.23 1481.2 1267.46 1481.76 Q1269.68 1482.32 1272.16 1482.32 Q1276.16 1482.32 1278.5 1480.21 Q1280.84 1478.1 1280.84 1474.49 Q1280.84 1470.88 1278.5 1468.77 Q1276.16 1466.67 1272.16 1466.67 Q1270.28 1466.67 1268.41 1467.08 Q1266.55 1467.5 1264.61 1468.38 L1264.61 1451.02 Z\" fill=\"#000000\" fill-rule=\"evenodd\" fill-opacity=\"1\" /><path clip-path=\"url(#clip320)\" d=\"M1294.73 1479.7 L1299.61 1479.7 L1299.61 1485.58 L1294.73 1485.58 L1294.73 1479.7 Z\" fill=\"#000000\" fill-rule=\"evenodd\" fill-opacity=\"1\" /><path clip-path=\"url(#clip320)\" d=\"M1319.79 1454.1 Q1316.18 1454.1 1314.35 1457.66 Q1312.55 1461.2 1312.55 1468.33 Q1312.55 1475.44 1314.35 1479.01 Q1316.18 1482.55 1319.79 1482.55 Q1323.43 1482.55 1325.23 1479.01 Q1327.06 1475.44 1327.06 1468.33 Q1327.06 1461.2 1325.23 1457.66 Q1323.43 1454.1 1319.79 1454.1 M1319.79 1450.39 Q1325.6 1450.39 1328.66 1455 Q1331.74 1459.58 1331.74 1468.33 Q1331.74 1477.06 1328.66 1481.67 Q1325.6 1486.25 1319.79 1486.25 Q1313.98 1486.25 1310.91 1481.67 Q1307.85 1477.06 1307.85 1468.33 Q1307.85 1459.58 1310.91 1455 Q1313.98 1450.39 1319.79 1450.39 Z\" fill=\"#000000\" fill-rule=\"evenodd\" fill-opacity=\"1\" /><path clip-path=\"url(#clip320)\" d=\"M1761.55 1451.02 L1783.78 1451.02 L1783.78 1453.01 L1771.23 1485.58 L1766.34 1485.58 L1778.15 1454.96 L1761.55 1454.96 L1761.55 1451.02 Z\" fill=\"#000000\" fill-rule=\"evenodd\" fill-opacity=\"1\" /><path clip-path=\"url(#clip320)\" d=\"M1792.9 1479.7 L1797.78 1479.7 L1797.78 1485.58 L1792.9 1485.58 L1792.9 1479.7 Z\" fill=\"#000000\" fill-rule=\"evenodd\" fill-opacity=\"1\" /><path clip-path=\"url(#clip320)\" d=\"M1808.01 1451.02 L1826.37 1451.02 L1826.37 1454.96 L1812.29 1454.96 L1812.29 1463.43 Q1813.31 1463.08 1814.33 1462.92 Q1815.35 1462.73 1816.37 1462.73 Q1822.15 1462.73 1825.53 1465.9 Q1828.91 1469.08 1828.91 1474.49 Q1828.91 1480.07 1825.44 1483.17 Q1821.97 1486.25 1815.65 1486.25 Q1813.47 1486.25 1811.21 1485.88 Q1808.96 1485.51 1806.55 1484.77 L1806.55 1480.07 Q1808.64 1481.2 1810.86 1481.76 Q1813.08 1482.32 1815.56 1482.32 Q1819.56 1482.32 1821.9 1480.21 Q1824.24 1478.1 1824.24 1474.49 Q1824.24 1470.88 1821.9 1468.77 Q1819.56 1466.67 1815.56 1466.67 Q1813.68 1466.67 1811.81 1467.08 Q1809.96 1467.5 1808.01 1468.38 L1808.01 1451.02 Z\" fill=\"#000000\" fill-rule=\"evenodd\" fill-opacity=\"1\" /><path clip-path=\"url(#clip320)\" d=\"M2245.09 1481.64 L2252.73 1481.64 L2252.73 1455.28 L2244.42 1456.95 L2244.42 1452.69 L2252.69 1451.02 L2257.36 1451.02 L2257.36 1481.64 L2265 1481.64 L2265 1485.58 L2245.09 1485.58 L2245.09 1481.64 Z\" fill=\"#000000\" fill-rule=\"evenodd\" fill-opacity=\"1\" /><path clip-path=\"url(#clip320)\" d=\"M2284.44 1454.1 Q2280.83 1454.1 2279.01 1457.66 Q2277.2 1461.2 2277.2 1468.33 Q2277.2 1475.44 2279.01 1479.01 Q2280.83 1482.55 2284.44 1482.55 Q2288.08 1482.55 2289.88 1479.01 Q2291.71 1475.44 2291.71 1468.33 Q2291.71 1461.2 2289.88 1457.66 Q2288.08 1454.1 2284.44 1454.1 M2284.44 1450.39 Q2290.26 1450.39 2293.31 1455 Q2296.39 1459.58 2296.39 1468.33 Q2296.39 1477.06 2293.31 1481.67 Q2290.26 1486.25 2284.44 1486.25 Q2278.63 1486.25 2275.56 1481.67 Q2272.5 1477.06 2272.5 1468.33 Q2272.5 1459.58 2275.56 1455 Q2278.63 1450.39 2284.44 1450.39 Z\" fill=\"#000000\" fill-rule=\"evenodd\" fill-opacity=\"1\" /><path clip-path=\"url(#clip320)\" d=\"M2304.61 1479.7 L2309.49 1479.7 L2309.49 1485.58 L2304.61 1485.58 L2304.61 1479.7 Z\" fill=\"#000000\" fill-rule=\"evenodd\" fill-opacity=\"1\" /><path clip-path=\"url(#clip320)\" d=\"M2329.68 1454.1 Q2326.07 1454.1 2324.24 1457.66 Q2322.43 1461.2 2322.43 1468.33 Q2322.43 1475.44 2324.24 1479.01 Q2326.07 1482.55 2329.68 1482.55 Q2333.31 1482.55 2335.12 1479.01 Q2336.94 1475.44 2336.94 1468.33 Q2336.94 1461.2 2335.12 1457.66 Q2333.31 1454.1 2329.68 1454.1 M2329.68 1450.39 Q2335.49 1450.39 2338.54 1455 Q2341.62 1459.58 2341.62 1468.33 Q2341.62 1477.06 2338.54 1481.67 Q2335.49 1486.25 2329.68 1486.25 Q2323.87 1486.25 2320.79 1481.67 Q2317.73 1477.06 2317.73 1468.33 Q2317.73 1459.58 2320.79 1455 Q2323.87 1450.39 2329.68 1450.39 Z\" fill=\"#000000\" fill-rule=\"evenodd\" fill-opacity=\"1\" /><path clip-path=\"url(#clip320)\" d=\"M1184.9 1522.27 L1184.9 1532.4 L1196.96 1532.4 L1196.96 1536.95 L1184.9 1536.95 L1184.9 1556.3 Q1184.9 1560.66 1186.08 1561.9 Q1187.29 1563.14 1190.95 1563.14 L1196.96 1563.14 L1196.96 1568.04 L1190.95 1568.04 Q1184.17 1568.04 1181.59 1565.53 Q1179.01 1562.98 1179.01 1556.3 L1179.01 1536.95 L1174.71 1536.95 L1174.71 1532.4 L1179.01 1532.4 L1179.01 1522.27 L1184.9 1522.27 Z\" fill=\"#000000\" fill-rule=\"evenodd\" fill-opacity=\"1\" /><path clip-path=\"url(#clip320)\" d=\"M1204.67 1532.4 L1210.52 1532.4 L1210.52 1568.04 L1204.67 1568.04 L1204.67 1532.4 M1204.67 1518.52 L1210.52 1518.52 L1210.52 1525.93 L1204.67 1525.93 L1204.67 1518.52 Z\" fill=\"#000000\" fill-rule=\"evenodd\" fill-opacity=\"1\" /><path clip-path=\"url(#clip320)\" d=\"M1250.53 1539.24 Q1252.73 1535.29 1255.78 1533.41 Q1258.84 1531.54 1262.97 1531.54 Q1268.54 1531.54 1271.57 1535.45 Q1274.59 1539.33 1274.59 1546.53 L1274.59 1568.04 L1268.7 1568.04 L1268.7 1546.72 Q1268.7 1541.59 1266.89 1539.11 Q1265.08 1536.63 1261.35 1536.63 Q1256.8 1536.63 1254.16 1539.65 Q1251.52 1542.68 1251.52 1547.9 L1251.52 1568.04 L1245.63 1568.04 L1245.63 1546.72 Q1245.63 1541.56 1243.81 1539.11 Q1242 1536.63 1238.21 1536.63 Q1233.72 1536.63 1231.08 1539.68 Q1228.44 1542.71 1228.44 1547.9 L1228.44 1568.04 L1222.55 1568.04 L1222.55 1532.4 L1228.44 1532.4 L1228.44 1537.93 Q1230.45 1534.66 1233.25 1533.1 Q1236.05 1531.54 1239.9 1531.54 Q1243.78 1531.54 1246.49 1533.51 Q1249.23 1535.48 1250.53 1539.24 Z\" fill=\"#000000\" fill-rule=\"evenodd\" fill-opacity=\"1\" /><path clip-path=\"url(#clip320)\" d=\"M1316.77 1548.76 L1316.77 1551.62 L1289.84 1551.62 Q1290.22 1557.67 1293.47 1560.85 Q1296.75 1564 1302.57 1564 Q1305.94 1564 1309.09 1563.17 Q1312.28 1562.35 1315.4 1560.69 L1315.4 1566.23 Q1312.25 1567.57 1308.94 1568.27 Q1305.63 1568.97 1302.22 1568.97 Q1293.69 1568.97 1288.69 1564 Q1283.73 1559.04 1283.73 1550.57 Q1283.73 1541.82 1288.44 1536.69 Q1293.18 1531.54 1301.2 1531.54 Q1308.39 1531.54 1312.56 1536.18 Q1316.77 1540.8 1316.77 1548.76 M1310.91 1547.04 Q1310.85 1542.23 1308.2 1539.37 Q1305.59 1536.5 1301.26 1536.5 Q1296.36 1536.5 1293.4 1539.27 Q1290.47 1542.04 1290.03 1547.07 L1310.91 1547.04 Z\" fill=\"#000000\" fill-rule=\"evenodd\" fill-opacity=\"1\" /><path clip-path=\"url(#clip320)\" d=\"M1361.17 1518.58 Q1356.9 1525.9 1354.83 1533.06 Q1352.76 1540.23 1352.76 1547.58 Q1352.76 1554.93 1354.83 1562.16 Q1356.93 1569.35 1361.17 1576.64 L1356.07 1576.64 Q1351.3 1569.16 1348.91 1561.93 Q1346.56 1554.71 1346.56 1547.58 Q1346.56 1540.48 1348.91 1533.29 Q1351.27 1526.09 1356.07 1518.58 L1361.17 1518.58 Z\" fill=\"#000000\" fill-rule=\"evenodd\" fill-opacity=\"1\" /><path clip-path=\"url(#clip320)\" d=\"M1395.25 1533.45 L1395.25 1538.98 Q1392.77 1537.71 1390.1 1537.07 Q1387.42 1536.44 1384.56 1536.44 Q1380.2 1536.44 1378 1537.77 Q1375.84 1539.11 1375.84 1541.79 Q1375.84 1543.82 1377.4 1545 Q1378.96 1546.15 1383.67 1547.2 L1385.67 1547.64 Q1391.91 1548.98 1394.52 1551.43 Q1397.16 1553.85 1397.16 1558.21 Q1397.16 1563.17 1393.22 1566.07 Q1389.3 1568.97 1382.43 1568.97 Q1379.56 1568.97 1376.44 1568.39 Q1373.36 1567.85 1369.92 1566.74 L1369.92 1560.69 Q1373.17 1562.38 1376.32 1563.24 Q1379.47 1564.07 1382.55 1564.07 Q1386.69 1564.07 1388.92 1562.66 Q1391.15 1561.23 1391.15 1558.65 Q1391.15 1556.27 1389.53 1554.99 Q1387.93 1553.72 1382.49 1552.54 L1380.45 1552.07 Q1375.01 1550.92 1372.59 1548.56 Q1370.17 1546.18 1370.17 1542.04 Q1370.17 1537.01 1373.74 1534.27 Q1377.3 1531.54 1383.86 1531.54 Q1387.11 1531.54 1389.97 1532.01 Q1392.84 1532.49 1395.25 1533.45 Z\" fill=\"#000000\" fill-rule=\"evenodd\" fill-opacity=\"1\" /><path clip-path=\"url(#clip320)\" d=\"M1405.57 1518.58 L1410.66 1518.58 Q1415.43 1526.09 1417.79 1533.29 Q1420.18 1540.48 1420.18 1547.58 Q1420.18 1554.71 1417.79 1561.93 Q1415.43 1569.16 1410.66 1576.64 L1405.57 1576.64 Q1409.8 1569.35 1411.87 1562.16 Q1413.97 1554.93 1413.97 1547.58 Q1413.97 1540.23 1411.87 1533.06 Q1409.8 1525.9 1405.57 1518.58 Z\" fill=\"#000000\" fill-rule=\"evenodd\" fill-opacity=\"1\" /><polyline clip-path=\"url(#clip322)\" style=\"stroke:#000000; stroke-linecap:round; stroke-linejoin:round; stroke-width:2; stroke-opacity:0.1; fill:none\" points=\"242.135,1153.66 2352.76,1153.66 \"/>\n",
       "<polyline clip-path=\"url(#clip322)\" style=\"stroke:#000000; stroke-linecap:round; stroke-linejoin:round; stroke-width:2; stroke-opacity:0.1; fill:none\" points=\"242.135,822.524 2352.76,822.524 \"/>\n",
       "<polyline clip-path=\"url(#clip322)\" style=\"stroke:#000000; stroke-linecap:round; stroke-linejoin:round; stroke-width:2; stroke-opacity:0.1; fill:none\" points=\"242.135,491.39 2352.76,491.39 \"/>\n",
       "<polyline clip-path=\"url(#clip322)\" style=\"stroke:#000000; stroke-linecap:round; stroke-linejoin:round; stroke-width:2; stroke-opacity:0.1; fill:none\" points=\"242.135,160.256 2352.76,160.256 \"/>\n",
       "<polyline clip-path=\"url(#clip320)\" style=\"stroke:#000000; stroke-linecap:round; stroke-linejoin:round; stroke-width:4; stroke-opacity:1; fill:none\" points=\"242.135,1423.18 242.135,123.472 \"/>\n",
       "<polyline clip-path=\"url(#clip320)\" style=\"stroke:#000000; stroke-linecap:round; stroke-linejoin:round; stroke-width:4; stroke-opacity:1; fill:none\" points=\"242.135,1153.66 261.032,1153.66 \"/>\n",
       "<polyline clip-path=\"url(#clip320)\" style=\"stroke:#000000; stroke-linecap:round; stroke-linejoin:round; stroke-width:4; stroke-opacity:1; fill:none\" points=\"242.135,822.524 261.032,822.524 \"/>\n",
       "<polyline clip-path=\"url(#clip320)\" style=\"stroke:#000000; stroke-linecap:round; stroke-linejoin:round; stroke-width:4; stroke-opacity:1; fill:none\" points=\"242.135,491.39 261.032,491.39 \"/>\n",
       "<polyline clip-path=\"url(#clip320)\" style=\"stroke:#000000; stroke-linecap:round; stroke-linejoin:round; stroke-width:4; stroke-opacity:1; fill:none\" points=\"242.135,160.256 261.032,160.256 \"/>\n",
       "<path clip-path=\"url(#clip320)\" d=\"M114.26 1154.11 L143.936 1154.11 L143.936 1158.04 L114.26 1158.04 L114.26 1154.11 Z\" fill=\"#000000\" fill-rule=\"evenodd\" fill-opacity=\"1\" /><path clip-path=\"url(#clip320)\" d=\"M154.839 1167 L162.477 1167 L162.477 1140.64 L154.167 1142.3 L154.167 1138.04 L162.431 1136.38 L167.107 1136.38 L167.107 1167 L174.746 1167 L174.746 1170.94 L154.839 1170.94 L154.839 1167 Z\" fill=\"#000000\" fill-rule=\"evenodd\" fill-opacity=\"1\" /><path clip-path=\"url(#clip320)\" d=\"M194.19 1139.46 Q190.579 1139.46 188.75 1143.02 Q186.945 1146.56 186.945 1153.69 Q186.945 1160.8 188.75 1164.36 Q190.579 1167.91 194.19 1167.91 Q197.825 1167.91 199.63 1164.36 Q201.459 1160.8 201.459 1153.69 Q201.459 1146.56 199.63 1143.02 Q197.825 1139.46 194.19 1139.46 M194.19 1135.75 Q200 1135.75 203.056 1140.36 Q206.135 1144.94 206.135 1153.69 Q206.135 1162.42 203.056 1167.03 Q200 1171.61 194.19 1171.61 Q188.38 1171.61 185.301 1167.03 Q182.246 1162.42 182.246 1153.69 Q182.246 1144.94 185.301 1140.36 Q188.38 1135.75 194.19 1135.75 Z\" fill=\"#000000\" fill-rule=\"evenodd\" fill-opacity=\"1\" /><path clip-path=\"url(#clip320)\" d=\"M194.19 808.323 Q190.579 808.323 188.75 811.888 Q186.945 815.429 186.945 822.559 Q186.945 829.665 188.75 833.23 Q190.579 836.772 194.19 836.772 Q197.825 836.772 199.63 833.23 Q201.459 829.665 201.459 822.559 Q201.459 815.429 199.63 811.888 Q197.825 808.323 194.19 808.323 M194.19 804.619 Q200 804.619 203.056 809.226 Q206.135 813.809 206.135 822.559 Q206.135 831.286 203.056 835.892 Q200 840.476 194.19 840.476 Q188.38 840.476 185.301 835.892 Q182.246 831.286 182.246 822.559 Q182.246 813.809 185.301 809.226 Q188.38 804.619 194.19 804.619 Z\" fill=\"#000000\" fill-rule=\"evenodd\" fill-opacity=\"1\" /><path clip-path=\"url(#clip320)\" d=\"M154.839 504.735 L162.477 504.735 L162.477 478.37 L154.167 480.036 L154.167 475.777 L162.431 474.11 L167.107 474.11 L167.107 504.735 L174.746 504.735 L174.746 508.67 L154.839 508.67 L154.839 504.735 Z\" fill=\"#000000\" fill-rule=\"evenodd\" fill-opacity=\"1\" /><path clip-path=\"url(#clip320)\" d=\"M194.19 477.189 Q190.579 477.189 188.75 480.754 Q186.945 484.295 186.945 491.425 Q186.945 498.531 188.75 502.096 Q190.579 505.638 194.19 505.638 Q197.825 505.638 199.63 502.096 Q201.459 498.531 201.459 491.425 Q201.459 484.295 199.63 480.754 Q197.825 477.189 194.19 477.189 M194.19 473.485 Q200 473.485 203.056 478.092 Q206.135 482.675 206.135 491.425 Q206.135 500.152 203.056 504.758 Q200 509.342 194.19 509.342 Q188.38 509.342 185.301 504.758 Q182.246 500.152 182.246 491.425 Q182.246 482.675 185.301 478.092 Q188.38 473.485 194.19 473.485 Z\" fill=\"#000000\" fill-rule=\"evenodd\" fill-opacity=\"1\" /><path clip-path=\"url(#clip320)\" d=\"M158.056 173.601 L174.376 173.601 L174.376 177.536 L152.431 177.536 L152.431 173.601 Q155.093 170.847 159.677 166.217 Q164.283 161.564 165.464 160.222 Q167.709 157.698 168.589 155.962 Q169.491 154.203 169.491 152.513 Q169.491 149.759 167.547 148.023 Q165.626 146.286 162.524 146.286 Q160.325 146.286 157.871 147.05 Q155.44 147.814 152.663 149.365 L152.663 144.643 Q155.487 143.509 157.94 142.93 Q160.394 142.351 162.431 142.351 Q167.802 142.351 170.996 145.036 Q174.19 147.722 174.19 152.212 Q174.19 154.342 173.38 156.263 Q172.593 158.161 170.487 160.754 Q169.908 161.425 166.806 164.643 Q163.704 167.837 158.056 173.601 Z\" fill=\"#000000\" fill-rule=\"evenodd\" fill-opacity=\"1\" /><path clip-path=\"url(#clip320)\" d=\"M194.19 146.055 Q190.579 146.055 188.75 149.62 Q186.945 153.161 186.945 160.291 Q186.945 167.397 188.75 170.962 Q190.579 174.504 194.19 174.504 Q197.825 174.504 199.63 170.962 Q201.459 167.397 201.459 160.291 Q201.459 153.161 199.63 149.62 Q197.825 146.055 194.19 146.055 M194.19 142.351 Q200 142.351 203.056 146.958 Q206.135 151.541 206.135 160.291 Q206.135 169.018 203.056 173.624 Q200 178.208 194.19 178.208 Q188.38 178.208 185.301 173.624 Q182.246 169.018 182.246 160.291 Q182.246 151.541 185.301 146.958 Q188.38 142.351 194.19 142.351 Z\" fill=\"#000000\" fill-rule=\"evenodd\" fill-opacity=\"1\" /><path clip-path=\"url(#clip320)\" d=\"M28.3562 756.711 L45.7028 769.602 L64.0042 756.043 L64.0042 762.95 L49.9996 773.326 L64.0042 783.702 L64.0042 790.609 L45.3526 776.763 L28.3562 789.431 L28.3562 782.524 L41.0558 773.071 L28.3562 763.618 L28.3562 756.711 Z\" fill=\"#000000\" fill-rule=\"evenodd\" fill-opacity=\"1\" /><path clip-path=\"url(#clip320)\" d=\"M1069.78 14.0809 L1069.78 22.0612 Q1065.13 19.8332 1060.99 18.7395 Q1056.86 17.6457 1053.01 17.6457 Q1046.33 17.6457 1042.68 20.2383 Q1039.08 22.8309 1039.08 27.611 Q1039.08 31.6214 1041.47 33.6873 Q1043.9 35.7128 1050.62 36.9686 L1055.57 37.9813 Q1064.72 39.7232 1069.06 44.1387 Q1073.43 48.5136 1073.43 55.8863 Q1073.43 64.6767 1067.52 69.2137 Q1061.64 73.7508 1050.26 73.7508 Q1045.97 73.7508 1041.1 72.7785 Q1036.28 71.8063 1031.1 69.9024 L1031.1 61.4765 Q1036.08 64.2716 1040.86 65.6895 Q1045.64 67.1073 1050.26 67.1073 Q1057.27 67.1073 1061.08 64.3527 Q1064.88 61.598 1064.88 56.4939 Q1064.88 52.0379 1062.13 49.5264 Q1059.41 47.0148 1053.18 45.759 L1048.19 44.7868 Q1039.04 42.9639 1034.95 39.075 Q1030.86 35.1862 1030.86 28.2591 Q1030.86 20.2383 1036.49 15.6203 Q1042.16 11.0023 1052.08 11.0023 Q1056.34 11.0023 1060.75 11.7719 Q1065.17 12.5416 1069.78 14.0809 Z\" fill=\"#000000\" fill-rule=\"evenodd\" fill-opacity=\"1\" /><path clip-path=\"url(#clip320)\" d=\"M1093.24 14.324 L1093.24 27.2059 L1108.59 27.2059 L1108.59 32.9987 L1093.24 32.9987 L1093.24 57.6282 Q1093.24 63.1779 1094.74 64.7578 Q1096.28 66.3376 1100.94 66.3376 L1108.59 66.3376 L1108.59 72.576 L1100.94 72.576 Q1092.31 72.576 1089.03 69.3758 Q1085.75 66.1351 1085.75 57.6282 L1085.75 32.9987 L1080.28 32.9987 L1080.28 27.2059 L1085.75 27.2059 L1085.75 14.324 L1093.24 14.324 Z\" fill=\"#000000\" fill-rule=\"evenodd\" fill-opacity=\"1\" /><path clip-path=\"url(#clip320)\" d=\"M1139.01 49.7694 Q1129.98 49.7694 1126.5 51.8354 Q1123.01 53.9013 1123.01 58.8839 Q1123.01 62.8538 1125.61 65.2034 Q1128.24 67.5124 1132.74 67.5124 Q1138.93 67.5124 1142.66 63.1374 Q1146.43 58.7219 1146.43 51.4303 L1146.43 49.7694 L1139.01 49.7694 M1153.88 46.6907 L1153.88 72.576 L1146.43 72.576 L1146.43 65.6895 Q1143.88 69.8214 1140.07 71.8063 Q1136.26 73.7508 1130.75 73.7508 Q1123.78 73.7508 1119.65 69.8619 Q1115.56 65.9325 1115.56 59.3701 Q1115.56 51.7138 1120.66 47.825 Q1125.81 43.9361 1135.98 43.9361 L1146.43 43.9361 L1146.43 43.2069 Q1146.43 38.0623 1143.02 35.2672 Q1139.66 32.4315 1133.55 32.4315 Q1129.66 32.4315 1125.97 33.3632 Q1122.28 34.295 1118.88 36.1584 L1118.88 29.2718 Q1122.97 27.692 1126.82 26.9223 Q1130.67 26.1121 1134.32 26.1121 Q1144.16 26.1121 1149.02 31.2163 Q1153.88 36.3204 1153.88 46.6907 Z\" fill=\"#000000\" fill-rule=\"evenodd\" fill-opacity=\"1\" /><path clip-path=\"url(#clip320)\" d=\"M1176.61 14.324 L1176.61 27.2059 L1191.96 27.2059 L1191.96 32.9987 L1176.61 32.9987 L1176.61 57.6282 Q1176.61 63.1779 1178.11 64.7578 Q1179.64 66.3376 1184.3 66.3376 L1191.96 66.3376 L1191.96 72.576 L1184.3 72.576 Q1175.68 72.576 1172.39 69.3758 Q1169.11 66.1351 1169.11 57.6282 L1169.11 32.9987 L1163.64 32.9987 L1163.64 27.2059 L1169.11 27.2059 L1169.11 14.324 L1176.61 14.324 Z\" fill=\"#000000\" fill-rule=\"evenodd\" fill-opacity=\"1\" /><path clip-path=\"url(#clip320)\" d=\"M1240.57 48.0275 L1240.57 51.6733 L1206.3 51.6733 Q1206.79 59.3701 1210.92 63.421 Q1215.09 67.4314 1222.5 67.4314 Q1226.8 67.4314 1230.81 66.3781 Q1234.86 65.3249 1238.83 63.2184 L1238.83 70.267 Q1234.82 71.9684 1230.61 72.8596 Q1226.39 73.7508 1222.06 73.7508 Q1211.2 73.7508 1204.84 67.4314 Q1198.52 61.1119 1198.52 50.3365 Q1198.52 39.1965 1204.52 32.6746 Q1210.55 26.1121 1220.76 26.1121 Q1229.92 26.1121 1235.22 32.0264 Q1240.57 37.9003 1240.57 48.0275 M1233.12 45.84 Q1233.04 39.7232 1229.67 36.0774 Q1226.35 32.4315 1220.84 32.4315 Q1214.6 32.4315 1210.84 35.9558 Q1207.11 39.4801 1206.54 45.8805 L1233.12 45.84 Z\" fill=\"#000000\" fill-rule=\"evenodd\" fill-opacity=\"1\" /><path clip-path=\"url(#clip320)\" d=\"M1279.5 12.096 L1287.68 12.096 L1287.68 36.8875 L1317.42 36.8875 L1317.42 12.096 L1325.6 12.096 L1325.6 72.576 L1317.42 72.576 L1317.42 43.7741 L1287.68 43.7741 L1287.68 72.576 L1279.5 72.576 L1279.5 12.096 Z\" fill=\"#000000\" fill-rule=\"evenodd\" fill-opacity=\"1\" /><path clip-path=\"url(#clip320)\" d=\"M1341.56 27.2059 L1349.01 27.2059 L1349.01 72.576 L1341.56 72.576 L1341.56 27.2059 M1341.56 9.54393 L1349.01 9.54393 L1349.01 18.9825 L1341.56 18.9825 L1341.56 9.54393 Z\" fill=\"#000000\" fill-rule=\"evenodd\" fill-opacity=\"1\" /><path clip-path=\"url(#clip320)\" d=\"M1393.53 28.5427 L1393.53 35.5912 Q1390.37 33.9709 1386.97 33.1607 Q1383.57 32.3505 1379.92 32.3505 Q1374.37 32.3505 1371.58 34.0519 Q1368.82 35.7533 1368.82 39.156 Q1368.82 41.7486 1370.81 43.2475 Q1372.79 44.7058 1378.79 46.0426 L1381.34 46.6097 Q1389.28 48.3111 1392.6 51.4303 Q1395.96 54.509 1395.96 60.0587 Q1395.96 66.3781 1390.94 70.0644 Q1385.96 73.7508 1377.21 73.7508 Q1373.56 73.7508 1369.59 73.0216 Q1365.66 72.3329 1361.29 70.9151 L1361.29 63.2184 Q1365.42 65.3654 1369.43 66.4591 Q1373.44 67.5124 1377.37 67.5124 Q1382.64 67.5124 1385.47 65.73 Q1388.31 63.9071 1388.31 60.6258 Q1388.31 57.5877 1386.24 55.9673 Q1384.22 54.3469 1377.29 52.8481 L1374.7 52.2405 Q1367.77 50.7821 1364.69 47.7845 Q1361.61 44.7463 1361.61 39.4801 Q1361.61 33.0797 1366.15 29.5959 Q1370.69 26.1121 1379.03 26.1121 Q1383.16 26.1121 1386.81 26.7198 Q1390.45 27.3274 1393.53 28.5427 Z\" fill=\"#000000\" fill-rule=\"evenodd\" fill-opacity=\"1\" /><path clip-path=\"url(#clip320)\" d=\"M1415.21 14.324 L1415.21 27.2059 L1430.56 27.2059 L1430.56 32.9987 L1415.21 32.9987 L1415.21 57.6282 Q1415.21 63.1779 1416.7 64.7578 Q1418.24 66.3376 1422.9 66.3376 L1430.56 66.3376 L1430.56 72.576 L1422.9 72.576 Q1414.27 72.576 1410.99 69.3758 Q1407.71 66.1351 1407.71 57.6282 L1407.71 32.9987 L1402.24 32.9987 L1402.24 27.2059 L1407.71 27.2059 L1407.71 14.324 L1415.21 14.324 Z\" fill=\"#000000\" fill-rule=\"evenodd\" fill-opacity=\"1\" /><path clip-path=\"url(#clip320)\" d=\"M1457.94 32.4315 Q1451.95 32.4315 1448.46 37.1306 Q1444.98 41.7891 1444.98 49.9314 Q1444.98 58.0738 1448.42 62.7728 Q1451.91 67.4314 1457.94 67.4314 Q1463.9 67.4314 1467.38 62.7323 Q1470.86 58.0333 1470.86 49.9314 Q1470.86 41.8701 1467.38 37.1711 Q1463.9 32.4315 1457.94 32.4315 M1457.94 26.1121 Q1467.66 26.1121 1473.21 32.4315 Q1478.76 38.7509 1478.76 49.9314 Q1478.76 61.0714 1473.21 67.4314 Q1467.66 73.7508 1457.94 73.7508 Q1448.18 73.7508 1442.63 67.4314 Q1437.12 61.0714 1437.12 49.9314 Q1437.12 38.7509 1442.63 32.4315 Q1448.18 26.1121 1457.94 26.1121 Z\" fill=\"#000000\" fill-rule=\"evenodd\" fill-opacity=\"1\" /><path clip-path=\"url(#clip320)\" d=\"M1517.41 34.1734 Q1516.15 33.4443 1514.65 33.1202 Q1513.2 32.7556 1511.41 32.7556 Q1505.09 32.7556 1501.69 36.8875 Q1498.33 40.9789 1498.33 48.6757 L1498.33 72.576 L1490.84 72.576 L1490.84 27.2059 L1498.33 27.2059 L1498.33 34.2544 Q1500.68 30.1225 1504.45 28.1376 Q1508.21 26.1121 1513.6 26.1121 Q1514.37 26.1121 1515.3 26.2337 Q1516.23 26.3147 1517.37 26.5172 L1517.41 34.1734 Z\" fill=\"#000000\" fill-rule=\"evenodd\" fill-opacity=\"1\" /><path clip-path=\"url(#clip320)\" d=\"M1544.1 76.7889 Q1540.95 84.8907 1537.95 87.3618 Q1534.95 89.8329 1529.93 89.8329 L1523.97 89.8329 L1523.97 83.5945 L1528.35 83.5945 Q1531.43 83.5945 1533.13 82.1361 Q1534.83 80.6778 1536.89 75.2496 L1538.23 71.8468 L1519.88 27.2059 L1527.78 27.2059 L1541.96 62.6918 L1556.14 27.2059 L1564.04 27.2059 L1544.1 76.7889 Z\" fill=\"#000000\" fill-rule=\"evenodd\" fill-opacity=\"1\" /><polyline clip-path=\"url(#clip322)\" style=\"stroke:#009af9; stroke-linecap:round; stroke-linejoin:round; stroke-width:4; stroke-opacity:1; fill:none\" points=\"301.869,690.071 321.781,695.025 341.692,699.953 361.604,704.855 381.515,709.732 401.427,714.583 421.338,719.41 441.25,724.212 461.161,728.989 481.073,733.743 500.984,738.472 520.896,743.177 540.807,747.86 560.719,752.519 580.631,757.155 600.542,761.768 620.454,766.359 640.365,770.928 660.277,775.474 680.188,779.999 700.1,784.503 720.011,788.986 739.923,793.447 759.834,797.888 779.746,802.308 799.657,806.709 819.569,811.089 839.48,815.45 859.392,819.791 879.303,824.113 899.215,828.417 919.126,832.701 939.038,836.968 958.949,841.216 978.861,845.446 998.772,849.659 1018.68,853.854 1038.6,858.032 1058.51,862.193 1078.42,866.338 1098.33,870.466 1118.24,874.578 1138.15,878.674 1158.06,882.755 1177.98,886.82 1197.89,890.87 1217.8,894.906 1237.71,898.926 1257.62,902.933 1277.53,906.925 1297.45,910.903 1317.36,914.868 1337.27,918.82 1357.18,922.758 1377.09,926.684 1397,930.597 1416.91,934.497 1436.83,938.386 1456.74,942.263 1476.65,946.128 1496.56,949.982 1516.47,953.824 1536.38,957.656 1556.3,961.478 1576.21,965.289 1596.12,969.09 1616.03,972.881 1635.94,976.662 1655.85,980.435 1675.76,984.198 1695.68,987.952 1715.59,991.698 1735.5,995.436 1755.41,999.165 1775.32,1002.89 1795.23,1006.6 1815.14,1010.31 1835.06,1014.01 1854.97,1017.7 1874.88,1021.39 1894.79,1025.07 1914.7,1028.74 1934.61,1032.41 1954.53,1036.07 1974.44,1039.73 1994.35,1043.38 2014.26,1047.03 2034.17,1050.67 2054.08,1054.31 2073.99,1057.94 2093.91,1061.58 2113.82,1065.2 2133.73,1068.83 2153.64,1072.45 2173.55,1076.06 2193.46,1079.68 2213.38,1083.29 2233.29,1086.9 2253.2,1090.51 2273.11,1094.12 2293.02,1097.73 \"/>\n",
       "<polyline clip-path=\"url(#clip322)\" style=\"stroke:#e26f46; stroke-linecap:round; stroke-linejoin:round; stroke-width:4; stroke-opacity:1; fill:none\" points=\"301.869,756.297 321.781,753 341.692,749.732 361.604,746.491 381.515,743.278 401.427,740.093 421.338,736.934 441.25,733.803 461.161,730.698 481.073,727.62 500.984,724.567 520.896,721.541 540.807,718.539 560.719,715.563 580.631,712.612 600.542,709.685 620.454,706.782 640.365,703.903 660.277,701.048 680.188,698.216 700.1,695.407 720.011,692.621 739.923,689.858 759.834,687.116 779.746,684.397 799.657,681.699 819.569,679.022 839.48,676.367 859.392,673.732 879.303,671.117 899.215,668.523 919.126,665.948 939.038,663.393 958.949,660.858 978.861,658.341 998.772,655.843 1018.68,653.363 1038.6,650.901 1058.51,648.457 1078.42,646.031 1098.33,643.622 1118.24,641.229 1138.15,638.854 1158.06,636.494 1177.98,634.151 1197.89,631.823 1217.8,629.511 1237.71,627.214 1257.62,624.932 1277.53,622.665 1297.45,620.412 1317.36,618.173 1337.27,615.948 1357.18,613.736 1377.09,611.537 1397,609.351 1416.91,607.178 1436.83,605.017 1456.74,602.868 1476.65,600.731 1496.56,598.605 1516.47,596.491 1536.38,594.387 1556.3,592.294 1576.21,590.211 1596.12,588.138 1616.03,586.075 1635.94,584.021 1655.85,581.977 1675.76,579.941 1695.68,577.914 1715.59,575.896 1735.5,573.885 1755.41,571.882 1775.32,569.886 1795.23,567.898 1815.14,565.917 1835.06,563.942 1854.97,561.973 1874.88,560.011 1894.79,558.054 1914.7,556.103 1934.61,554.157 1954.53,552.215 1974.44,550.279 1994.35,548.346 2014.26,546.418 2034.17,544.494 2054.08,542.573 2073.99,540.655 2093.91,538.741 2113.82,536.828 2133.73,534.919 2153.64,533.011 2173.55,531.105 2193.46,529.201 2213.38,527.298 2233.29,525.396 2253.2,523.494 2273.11,521.593 2293.02,519.692 \"/>\n",
       "<polyline clip-path=\"url(#clip322)\" style=\"stroke:#3da44d; stroke-linecap:round; stroke-linejoin:round; stroke-width:4; stroke-opacity:1; fill:none\" points=\"301.869,160.256 321.781,168.425 341.692,176.378 361.604,184.124 381.515,191.672 401.427,199.029 421.338,206.205 441.25,213.208 461.161,220.046 481.073,226.728 500.984,233.262 520.896,239.656 540.807,245.92 560.719,252.061 580.631,258.088 600.542,264.01 620.454,269.834 640.365,275.569 660.277,281.225 680.188,286.808 700.1,292.328 720.011,297.794 739.923,303.213 759.834,308.593 779.746,313.945 799.657,319.275 819.569,324.593 839.48,329.906 859.392,335.224 879.303,340.555 899.215,345.907 919.126,351.288 939.038,356.708 958.949,362.174 978.861,367.696 998.772,373.281 1018.68,378.937 1038.6,384.675 1058.51,390.501 1078.42,396.425 1098.33,402.454 1118.24,408.598 1138.15,414.865 1158.06,421.263 1177.98,427.801 1197.89,434.487 1217.8,441.329 1237.71,448.337 1257.62,455.518 1277.53,462.881 1297.45,470.435 1317.36,478.188 1337.27,486.148 1357.18,494.325 1377.09,502.725 1397,511.359 1416.91,520.234 1436.83,529.359 1456.74,538.742 1476.65,548.392 1496.56,558.317 1516.47,568.526 1536.38,579.027 1556.3,589.829 1576.21,600.94 1596.12,612.369 1616.03,624.123 1635.94,636.213 1655.85,648.645 1675.76,661.429 1695.68,674.573 1715.59,688.085 1735.5,701.974 1755.41,716.249 1775.32,730.918 1795.23,745.989 1815.14,761.471 1835.06,777.372 1854.97,793.701 1874.88,810.466 1894.79,827.676 1914.7,845.34 1934.61,863.465 1954.53,882.06 1974.44,901.134 1994.35,920.695 2014.26,940.751 2034.17,961.312 2054.08,982.385 2073.99,1003.98 2093.91,1026.1 2113.82,1048.76 2133.73,1071.97 2153.64,1095.74 2173.55,1120.06 2193.46,1144.96 2213.38,1170.44 2233.29,1196.51 2253.2,1223.17 2273.11,1250.44 2293.02,1278.33 \"/>\n",
       "<polyline clip-path=\"url(#clip322)\" style=\"stroke:#c271d2; stroke-linecap:round; stroke-linejoin:round; stroke-width:4; stroke-opacity:1; fill:none\" points=\"301.869,921.864 321.781,921.343 341.692,920.826 361.604,920.314 381.515,919.807 401.427,919.305 421.338,918.809 441.25,918.317 461.161,917.83 481.073,917.349 500.984,916.872 520.896,916.401 540.807,915.934 560.719,915.473 580.631,915.016 600.542,914.565 620.454,914.119 640.365,913.678 660.277,913.242 680.188,912.81 700.1,912.384 720.011,911.963 739.923,911.548 759.834,911.137 779.746,910.731 799.657,910.33 819.569,909.934 839.48,909.544 859.392,909.158 879.303,908.778 899.215,908.402 919.126,908.032 939.038,907.667 958.949,907.306 978.861,906.951 998.772,906.601 1018.68,906.256 1038.6,905.916 1058.51,905.581 1078.42,905.251 1098.33,904.926 1118.24,904.606 1138.15,904.292 1158.06,903.982 1177.98,903.677 1197.89,903.378 1217.8,903.083 1237.71,902.794 1257.62,902.509 1277.53,902.23 1297.45,901.955 1317.36,901.686 1337.27,901.422 1357.18,901.163 1377.09,900.908 1397,900.659 1416.91,900.415 1436.83,900.176 1456.74,899.942 1476.65,899.713 1496.56,899.489 1516.47,899.27 1536.38,899.056 1556.3,898.847 1576.21,898.643 1596.12,898.445 1616.03,898.251 1635.94,898.062 1655.85,897.878 1675.76,897.699 1695.68,897.526 1715.59,897.357 1735.5,897.193 1755.41,897.034 1775.32,896.881 1795.23,896.732 1815.14,896.588 1835.06,896.45 1854.97,896.316 1874.88,896.187 1894.79,896.063 1914.7,895.945 1934.61,895.831 1954.53,895.722 1974.44,895.618 1994.35,895.52 2014.26,895.426 2034.17,895.337 2054.08,895.253 2073.99,895.174 2093.91,895.1 2113.82,895.031 2133.73,894.968 2153.64,894.909 2173.55,894.854 2193.46,894.805 2213.38,894.761 2233.29,894.722 2253.2,894.688 2273.11,894.659 2293.02,894.634 \"/>\n",
       "<polyline clip-path=\"url(#clip322)\" style=\"stroke:#ac8d18; stroke-linecap:round; stroke-linejoin:round; stroke-width:4; stroke-opacity:1; fill:none\" points=\"301.869,756.297 321.781,756.868 341.692,757.432 361.604,757.99 381.515,758.543 401.427,759.089 421.338,759.63 441.25,760.165 461.161,760.693 481.073,761.216 500.984,761.733 520.896,762.244 540.807,762.749 560.719,763.249 580.631,763.742 600.542,764.229 620.454,764.711 640.365,765.187 660.277,765.656 680.188,766.12 700.1,766.578 720.011,767.03 739.923,767.477 759.834,767.917 779.746,768.352 799.657,768.78 819.569,769.203 839.48,769.62 859.392,770.031 879.303,770.437 899.215,770.836 919.126,771.23 939.038,771.618 958.949,771.999 978.861,772.376 998.772,772.746 1018.68,773.11 1038.6,773.469 1058.51,773.822 1078.42,774.169 1098.33,774.51 1118.24,774.846 1138.15,775.175 1158.06,775.499 1177.98,775.817 1197.89,776.13 1217.8,776.436 1237.71,776.737 1257.62,777.032 1277.53,777.321 1297.45,777.604 1317.36,777.882 1337.27,778.154 1357.18,778.42 1377.09,778.681 1397,778.935 1416.91,779.184 1436.83,779.427 1456.74,779.665 1476.65,779.897 1496.56,780.123 1516.47,780.343 1536.38,780.557 1556.3,780.766 1576.21,780.969 1596.12,781.167 1616.03,781.358 1635.94,781.544 1655.85,781.725 1675.76,781.899 1695.68,782.068 1715.59,782.231 1735.5,782.389 1755.41,782.541 1775.32,782.687 1795.23,782.828 1815.14,782.962 1835.06,783.092 1854.97,783.215 1874.88,783.333 1894.79,783.445 1914.7,783.552 1934.61,783.653 1954.53,783.748 1974.44,783.837 1994.35,783.921 2014.26,784 2034.17,784.073 2054.08,784.14 2073.99,784.201 2093.91,784.257 2113.82,784.307 2133.73,784.352 2153.64,784.391 2173.55,784.424 2193.46,784.452 2213.38,784.474 2233.29,784.491 2253.2,784.502 2273.11,784.507 2293.02,784.507 \"/>\n",
       "<polyline clip-path=\"url(#clip322)\" style=\"stroke:#00a9ad; stroke-linecap:round; stroke-linejoin:round; stroke-width:4; stroke-opacity:1; fill:none\" points=\"301.869,988.091 321.781,983.699 341.692,979.475 361.604,975.421 381.515,971.535 401.427,967.818 421.338,964.27 441.25,960.891 461.161,957.68 481.073,954.639 500.984,951.766 520.896,949.063 540.807,946.528 560.719,944.163 580.631,941.966 600.542,939.939 620.454,938.08 640.365,936.391 660.277,934.87 680.188,933.519 700.1,932.337 720.011,931.324 739.923,930.479 759.834,929.804 779.746,929.299 799.657,928.962 819.569,928.794 839.48,928.796 859.392,928.967 879.303,929.307 899.215,929.816 919.126,930.494 939.038,931.342 958.949,932.359 978.861,933.545 998.772,934.9 1018.68,936.425 1038.6,938.119 1058.51,939.982 1078.42,942.015 1098.33,944.217 1118.24,946.588 1138.15,949.128 1158.06,951.838 1177.98,954.717 1197.89,957.766 1217.8,960.984 1237.71,964.371 1257.62,967.928 1277.53,971.654 1297.45,975.549 1317.36,979.614 1337.27,983.848 1357.18,988.252 1377.09,992.825 1397,997.568 1416.91,1002.48 1436.83,1007.56 1456.74,1012.81 1476.65,1018.23 1496.56,1023.82 1516.47,1029.58 1536.38,1035.51 1556.3,1041.61 1576.21,1047.88 1596.12,1054.32 1616.03,1060.92 1635.94,1067.7 1655.85,1074.64 1675.76,1081.76 1695.68,1089.04 1715.59,1096.5 1735.5,1104.12 1755.41,1111.92 1775.32,1119.88 1795.23,1128.01 1815.14,1136.31 1835.06,1144.78 1854.97,1153.43 1874.88,1162.24 1894.79,1171.22 1914.7,1180.37 1934.61,1189.68 1954.53,1199.17 1974.44,1208.83 1994.35,1218.66 2014.26,1228.65 2034.17,1238.82 2054.08,1249.16 2073.99,1259.66 2093.91,1270.34 2113.82,1281.18 2133.73,1292.19 2153.64,1303.38 2173.55,1314.73 2193.46,1326.25 2213.38,1337.94 2233.29,1349.8 2253.2,1361.83 2273.11,1374.03 2293.02,1386.4 \"/>\n",
       "<path clip-path=\"url(#clip320)\" d=\"M2028.05 529.676 L2282.4 529.676 L2282.4 166.796 L2028.05 166.796  Z\" fill=\"#ffffff\" fill-rule=\"evenodd\" fill-opacity=\"1\"/>\n",
       "<polyline clip-path=\"url(#clip320)\" style=\"stroke:#000000; stroke-linecap:round; stroke-linejoin:round; stroke-width:4; stroke-opacity:1; fill:none\" points=\"2028.05,529.676 2282.4,529.676 2282.4,166.796 2028.05,166.796 2028.05,529.676 \"/>\n",
       "<polyline clip-path=\"url(#clip320)\" style=\"stroke:#009af9; stroke-linecap:round; stroke-linejoin:round; stroke-width:4; stroke-opacity:1; fill:none\" points=\"2051.5,218.636 2192.21,218.636 \"/>\n",
       "<path clip-path=\"url(#clip320)\" d=\"M2240.32 209.99 L2230.94 222.606 L2240.8 235.916 L2235.78 235.916 L2228.23 225.731 L2220.69 235.916 L2215.66 235.916 L2225.73 222.351 L2216.52 209.99 L2221.54 209.99 L2228.42 219.226 L2235.29 209.99 L2240.32 209.99 Z\" fill=\"#000000\" fill-rule=\"evenodd\" fill-opacity=\"1\" /><path clip-path=\"url(#clip320)\" d=\"M2245.96 233.369 L2250.69 233.369 L2250.69 219.226 L2245.52 220.175 L2245.52 217.49 L2250.85 216.587 L2254.02 216.587 L2254.02 233.369 L2258.77 233.369 L2258.77 235.916 L2245.96 235.916 L2245.96 233.369 Z\" fill=\"#000000\" fill-rule=\"evenodd\" fill-opacity=\"1\" /><polyline clip-path=\"url(#clip320)\" style=\"stroke:#e26f46; stroke-linecap:round; stroke-linejoin:round; stroke-width:4; stroke-opacity:1; fill:none\" points=\"2051.5,270.476 2192.21,270.476 \"/>\n",
       "<path clip-path=\"url(#clip320)\" d=\"M2240.32 261.83 L2230.94 274.446 L2240.8 287.756 L2235.78 287.756 L2228.23 277.571 L2220.69 287.756 L2215.66 287.756 L2225.73 274.191 L2216.52 261.83 L2221.54 261.83 L2228.42 271.066 L2235.29 261.83 L2240.32 261.83 Z\" fill=\"#000000\" fill-rule=\"evenodd\" fill-opacity=\"1\" /><path clip-path=\"url(#clip320)\" d=\"M2248.56 285.117 L2258.37 285.117 L2258.37 287.756 L2244.53 287.756 L2244.53 285.209 Q2245.32 284.492 2246.77 283.196 Q2254.74 276.135 2254.74 273.959 Q2254.74 272.432 2253.53 271.506 Q2252.33 270.557 2250.36 270.557 Q2249.16 270.557 2247.75 270.973 Q2246.33 271.367 2244.67 272.177 L2244.67 269.33 Q2246.45 268.682 2247.98 268.358 Q2249.53 268.034 2250.85 268.034 Q2254.21 268.034 2256.22 269.561 Q2258.23 271.089 2258.23 273.589 Q2258.23 276.807 2250.57 283.381 Q2249.27 284.492 2248.56 285.117 Z\" fill=\"#000000\" fill-rule=\"evenodd\" fill-opacity=\"1\" /><polyline clip-path=\"url(#clip320)\" style=\"stroke:#3da44d; stroke-linecap:round; stroke-linejoin:round; stroke-width:4; stroke-opacity:1; fill:none\" points=\"2051.5,322.316 2192.21,322.316 \"/>\n",
       "<path clip-path=\"url(#clip320)\" d=\"M2240.32 313.67 L2230.94 326.286 L2240.8 339.596 L2235.78 339.596 L2228.23 329.411 L2220.69 339.596 L2215.66 339.596 L2225.73 326.031 L2216.52 313.67 L2221.54 313.67 L2228.42 322.906 L2235.29 313.67 L2240.32 313.67 Z\" fill=\"#000000\" fill-rule=\"evenodd\" fill-opacity=\"1\" /><path clip-path=\"url(#clip320)\" d=\"M2254.48 329.133 Q2256.61 329.549 2257.77 330.823 Q2258.95 332.073 2258.95 333.971 Q2258.95 336.841 2256.75 338.392 Q2254.55 339.943 2250.46 339.943 Q2249.14 339.943 2247.68 339.688 Q2246.24 339.457 2244.62 338.994 L2244.62 336.193 Q2245.83 336.818 2247.19 337.119 Q2248.58 337.42 2250.13 337.42 Q2252.65 337.42 2254.04 336.517 Q2255.43 335.591 2255.43 333.971 Q2255.43 332.258 2254.14 331.378 Q2252.86 330.499 2250.36 330.499 L2248.37 330.499 L2248.37 327.999 L2250.55 327.999 Q2252.72 327.999 2253.83 327.281 Q2254.97 326.54 2254.97 325.151 Q2254.97 323.809 2253.81 323.114 Q2252.65 322.397 2250.46 322.397 Q2249.53 322.397 2248.35 322.605 Q2247.17 322.813 2245.29 323.346 L2245.29 320.684 Q2246.98 320.29 2248.46 320.082 Q2249.95 319.874 2251.22 319.874 Q2254.55 319.874 2256.5 321.239 Q2258.46 322.605 2258.46 324.897 Q2258.46 326.494 2257.42 327.605 Q2256.38 328.716 2254.48 329.133 Z\" fill=\"#000000\" fill-rule=\"evenodd\" fill-opacity=\"1\" /><polyline clip-path=\"url(#clip320)\" style=\"stroke:#c271d2; stroke-linecap:round; stroke-linejoin:round; stroke-width:4; stroke-opacity:1; fill:none\" points=\"2051.5,374.156 2192.21,374.156 \"/>\n",
       "<path clip-path=\"url(#clip320)\" d=\"M2240.32 365.51 L2230.94 378.126 L2240.8 391.436 L2235.78 391.436 L2228.23 381.251 L2220.69 391.436 L2215.66 391.436 L2225.73 377.871 L2216.52 365.51 L2221.54 365.51 L2228.42 374.746 L2235.29 365.51 L2240.32 365.51 Z\" fill=\"#000000\" fill-rule=\"evenodd\" fill-opacity=\"1\" /><path clip-path=\"url(#clip320)\" d=\"M2228.33 355.417 L2232.58 355.417 L2232.58 360.811 L2228.33 360.811 L2228.33 355.417 M2230.5 364.885 L2230.5 364.885 Z\" fill=\"#000000\" fill-rule=\"evenodd\" fill-opacity=\"1\" /><path clip-path=\"url(#clip320)\" d=\"M2245.96 388.889 L2250.69 388.889 L2250.69 374.746 L2245.52 375.695 L2245.52 373.01 L2250.85 372.107 L2254.02 372.107 L2254.02 388.889 L2258.77 388.889 L2258.77 391.436 L2245.96 391.436 L2245.96 388.889 Z\" fill=\"#000000\" fill-rule=\"evenodd\" fill-opacity=\"1\" /><polyline clip-path=\"url(#clip320)\" style=\"stroke:#ac8d18; stroke-linecap:round; stroke-linejoin:round; stroke-width:4; stroke-opacity:1; fill:none\" points=\"2051.5,425.996 2192.21,425.996 \"/>\n",
       "<path clip-path=\"url(#clip320)\" d=\"M2240.32 417.35 L2230.94 429.966 L2240.8 443.276 L2235.78 443.276 L2228.23 433.091 L2220.69 443.276 L2215.66 443.276 L2225.73 429.711 L2216.52 417.35 L2221.54 417.35 L2228.42 426.586 L2235.29 417.35 L2240.32 417.35 Z\" fill=\"#000000\" fill-rule=\"evenodd\" fill-opacity=\"1\" /><path clip-path=\"url(#clip320)\" d=\"M2228.33 407.257 L2232.58 407.257 L2232.58 412.651 L2228.33 412.651 L2228.33 407.257 M2230.5 416.725 L2230.5 416.725 Z\" fill=\"#000000\" fill-rule=\"evenodd\" fill-opacity=\"1\" /><path clip-path=\"url(#clip320)\" d=\"M2248.56 440.637 L2258.37 440.637 L2258.37 443.276 L2244.53 443.276 L2244.53 440.729 Q2245.32 440.012 2246.77 438.716 Q2254.74 431.655 2254.74 429.479 Q2254.74 427.952 2253.53 427.026 Q2252.33 426.077 2250.36 426.077 Q2249.16 426.077 2247.75 426.493 Q2246.33 426.887 2244.67 427.697 L2244.67 424.85 Q2246.45 424.202 2247.98 423.878 Q2249.53 423.554 2250.85 423.554 Q2254.21 423.554 2256.22 425.081 Q2258.23 426.609 2258.23 429.109 Q2258.23 432.327 2250.57 438.901 Q2249.27 440.012 2248.56 440.637 Z\" fill=\"#000000\" fill-rule=\"evenodd\" fill-opacity=\"1\" /><polyline clip-path=\"url(#clip320)\" style=\"stroke:#00a9ad; stroke-linecap:round; stroke-linejoin:round; stroke-width:4; stroke-opacity:1; fill:none\" points=\"2051.5,477.836 2192.21,477.836 \"/>\n",
       "<path clip-path=\"url(#clip320)\" d=\"M2240.32 469.19 L2230.94 481.806 L2240.8 495.116 L2235.78 495.116 L2228.23 484.931 L2220.69 495.116 L2215.66 495.116 L2225.73 481.551 L2216.52 469.19 L2221.54 469.19 L2228.42 478.426 L2235.29 469.19 L2240.32 469.19 Z\" fill=\"#000000\" fill-rule=\"evenodd\" fill-opacity=\"1\" /><path clip-path=\"url(#clip320)\" d=\"M2228.33 459.097 L2232.58 459.097 L2232.58 464.491 L2228.33 464.491 L2228.33 459.097 M2230.5 468.565 L2230.5 468.565 Z\" fill=\"#000000\" fill-rule=\"evenodd\" fill-opacity=\"1\" /><path clip-path=\"url(#clip320)\" d=\"M2254.48 484.653 Q2256.61 485.069 2257.77 486.343 Q2258.95 487.593 2258.95 489.491 Q2258.95 492.361 2256.75 493.912 Q2254.55 495.463 2250.46 495.463 Q2249.14 495.463 2247.68 495.208 Q2246.24 494.977 2244.62 494.514 L2244.62 491.713 Q2245.83 492.338 2247.19 492.639 Q2248.58 492.94 2250.13 492.94 Q2252.65 492.94 2254.04 492.037 Q2255.43 491.111 2255.43 489.491 Q2255.43 487.778 2254.14 486.898 Q2252.86 486.019 2250.36 486.019 L2248.37 486.019 L2248.37 483.519 L2250.55 483.519 Q2252.72 483.519 2253.83 482.801 Q2254.97 482.06 2254.97 480.671 Q2254.97 479.329 2253.81 478.634 Q2252.65 477.917 2250.46 477.917 Q2249.53 477.917 2248.35 478.125 Q2247.17 478.333 2245.29 478.866 L2245.29 476.204 Q2246.98 475.81 2248.46 475.602 Q2249.95 475.394 2251.22 475.394 Q2254.55 475.394 2256.5 476.759 Q2258.46 478.125 2258.46 480.417 Q2258.46 482.014 2257.42 483.125 Q2256.38 484.236 2254.48 484.653 Z\" fill=\"#000000\" fill-rule=\"evenodd\" fill-opacity=\"1\" /></svg>\n"
      ]
     },
     "metadata": {},
     "output_type": "display_data"
    },
    {
     "data": {
      "image/png": "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",
      "image/svg+xml": "<?xml version=\"1.0\" encoding=\"utf-8\"?>\n<svg xmlns=\"http://www.w3.org/2000/svg\" xmlns:xlink=\"http://www.w3.org/1999/xlink\" width=\"600\" height=\"400\" viewBox=\"0 0 2400 1600\">\n<defs>\n  <clipPath id=\"clip360\">\n    <rect x=\"0\" y=\"0\" width=\"2400\" height=\"1600\"/>\n  </clipPath>\n</defs>\n<path clip-path=\"url(#clip360)\" d=\"M0 1600 L2400 1600 L2400 0 L0 0  Z\" fill=\"#ffffff\" fill-rule=\"evenodd\" fill-opacity=\"1\"/>\n<defs>\n  <clipPath id=\"clip361\">\n    <rect x=\"480\" y=\"0\" width=\"1681\" height=\"1600\"/>\n  </clipPath>\n</defs>\n<path clip-path=\"url(#clip360)\" d=\"M232.389 1423.18 L2352.76 1423.18 L2352.76 123.472 L232.389 123.472  Z\" fill=\"#ffffff\" fill-rule=\"evenodd\" fill-opacity=\"1\"/>\n<defs>\n  <clipPath id=\"clip362\">\n    <rect x=\"232\" y=\"123\" width=\"2121\" height=\"1301\"/>\n  </clipPath>\n</defs>\n<polyline clip-path=\"url(#clip362)\" style=\"stroke:#000000; stroke-linecap:round; stroke-linejoin:round; stroke-width:2; stroke-opacity:0.1; fill:none\" points=\"292.4,1423.18 292.4,123.472 \"/>\n<polyline clip-path=\"url(#clip362)\" style=\"stroke:#000000; stroke-linecap:round; stroke-linejoin:round; stroke-width:2; stroke-opacity:0.1; fill:none\" points=\"797.538,1423.18 797.538,123.472 \"/>\n<polyline clip-path=\"url(#clip362)\" style=\"stroke:#000000; stroke-linecap:round; stroke-linejoin:round; stroke-width:2; stroke-opacity:0.1; fill:none\" points=\"1302.68,1423.18 1302.68,123.472 \"/>\n<polyline clip-path=\"url(#clip362)\" style=\"stroke:#000000; stroke-linecap:round; stroke-linejoin:round; stroke-width:2; stroke-opacity:0.1; fill:none\" points=\"1807.81,1423.18 1807.81,123.472 \"/>\n<polyline clip-path=\"url(#clip362)\" style=\"stroke:#000000; stroke-linecap:round; stroke-linejoin:round; stroke-width:2; stroke-opacity:0.1; fill:none\" points=\"2312.95,1423.18 2312.95,123.472 \"/>\n<polyline clip-path=\"url(#clip360)\" style=\"stroke:#000000; stroke-linecap:round; stroke-linejoin:round; stroke-width:4; stroke-opacity:1; fill:none\" points=\"232.389,1423.18 2352.76,1423.18 \"/>\n<polyline clip-path=\"url(#clip360)\" style=\"stroke:#000000; stroke-linecap:round; stroke-linejoin:round; stroke-width:4; stroke-opacity:1; fill:none\" points=\"292.4,1423.18 292.4,1404.28 \"/>\n<polyline clip-path=\"url(#clip360)\" style=\"stroke:#000000; stroke-linecap:round; stroke-linejoin:round; stroke-width:4; stroke-opacity:1; fill:none\" points=\"797.538,1423.18 797.538,1404.28 \"/>\n<polyline clip-path=\"url(#clip360)\" style=\"stroke:#000000; stroke-linecap:round; stroke-linejoin:round; stroke-width:4; stroke-opacity:1; fill:none\" points=\"1302.68,1423.18 1302.68,1404.28 \"/>\n<polyline clip-path=\"url(#clip360)\" style=\"stroke:#000000; stroke-linecap:round; stroke-linejoin:round; stroke-width:4; stroke-opacity:1; fill:none\" points=\"1807.81,1423.18 1807.81,1404.28 \"/>\n<polyline clip-path=\"url(#clip360)\" style=\"stroke:#000000; stroke-linecap:round; stroke-linejoin:round; stroke-width:4; stroke-opacity:1; fill:none\" points=\"2312.95,1423.18 2312.95,1404.28 \"/>\n<path clip-path=\"url(#clip360)\" d=\"M269.784 1454.1 Q266.173 1454.1 264.344 1457.66 Q262.539 1461.2 262.539 1468.33 Q262.539 1475.44 264.344 1479.01 Q266.173 1482.55 269.784 1482.55 Q273.418 1482.55 275.224 1479.01 Q277.053 1475.44 277.053 1468.33 Q277.053 1461.2 275.224 1457.66 Q273.418 1454.1 269.784 1454.1 M269.784 1450.39 Q275.594 1450.39 278.65 1455 Q281.728 1459.58 281.728 1468.33 Q281.728 1477.06 278.65 1481.67 Q275.594 1486.25 269.784 1486.25 Q263.974 1486.25 260.895 1481.67 Q257.84 1477.06 257.84 1468.33 Q257.84 1459.58 260.895 1455 Q263.974 1450.39 269.784 1450.39 Z\" fill=\"#000000\" fill-rule=\"evenodd\" fill-opacity=\"1\" /><path clip-path=\"url(#clip360)\" d=\"M289.946 1479.7 L294.83 1479.7 L294.83 1485.58 L289.946 1485.58 L289.946 1479.7 Z\" fill=\"#000000\" fill-rule=\"evenodd\" fill-opacity=\"1\" /><path clip-path=\"url(#clip360)\" d=\"M315.015 1454.1 Q311.404 1454.1 309.576 1457.66 Q307.77 1461.2 307.77 1468.33 Q307.77 1475.44 309.576 1479.01 Q311.404 1482.55 315.015 1482.55 Q318.65 1482.55 320.455 1479.01 Q322.284 1475.44 322.284 1468.33 Q322.284 1461.2 320.455 1457.66 Q318.65 1454.1 315.015 1454.1 M315.015 1450.39 Q320.825 1450.39 323.881 1455 Q326.96 1459.58 326.96 1468.33 Q326.96 1477.06 323.881 1481.67 Q320.825 1486.25 315.015 1486.25 Q309.205 1486.25 306.126 1481.67 Q303.071 1477.06 303.071 1468.33 Q303.071 1459.58 306.126 1455 Q309.205 1450.39 315.015 1450.39 Z\" fill=\"#000000\" fill-rule=\"evenodd\" fill-opacity=\"1\" /><path clip-path=\"url(#clip360)\" d=\"M769.274 1481.64 L785.593 1481.64 L785.593 1485.58 L763.649 1485.58 L763.649 1481.64 Q766.311 1478.89 770.894 1474.26 Q775.501 1469.61 776.681 1468.27 Q778.927 1465.74 779.806 1464.01 Q780.709 1462.25 780.709 1460.56 Q780.709 1457.8 778.765 1456.07 Q776.843 1454.33 773.741 1454.33 Q771.542 1454.33 769.089 1455.09 Q766.658 1455.86 763.88 1457.41 L763.88 1452.69 Q766.704 1451.55 769.158 1450.97 Q771.612 1450.39 773.649 1450.39 Q779.019 1450.39 782.214 1453.08 Q785.408 1455.77 785.408 1460.26 Q785.408 1462.39 784.598 1464.31 Q783.811 1466.2 781.704 1468.8 Q781.126 1469.47 778.024 1472.69 Q774.922 1475.88 769.274 1481.64 Z\" fill=\"#000000\" fill-rule=\"evenodd\" fill-opacity=\"1\" /><path clip-path=\"url(#clip360)\" d=\"M795.408 1479.7 L800.292 1479.7 L800.292 1485.58 L795.408 1485.58 L795.408 1479.7 Z\" fill=\"#000000\" fill-rule=\"evenodd\" fill-opacity=\"1\" /><path clip-path=\"url(#clip360)\" d=\"M810.524 1451.02 L828.88 1451.02 L828.88 1454.96 L814.806 1454.96 L814.806 1463.43 Q815.824 1463.08 816.843 1462.92 Q817.862 1462.73 818.88 1462.73 Q824.667 1462.73 828.047 1465.9 Q831.426 1469.08 831.426 1474.49 Q831.426 1480.07 827.954 1483.17 Q824.482 1486.25 818.162 1486.25 Q815.987 1486.25 813.718 1485.88 Q811.473 1485.51 809.065 1484.77 L809.065 1480.07 Q811.149 1481.2 813.371 1481.76 Q815.593 1482.32 818.07 1482.32 Q822.074 1482.32 824.412 1480.21 Q826.75 1478.1 826.75 1474.49 Q826.75 1470.88 824.412 1468.77 Q822.074 1466.67 818.07 1466.67 Q816.195 1466.67 814.32 1467.08 Q812.468 1467.5 810.524 1468.38 L810.524 1451.02 Z\" fill=\"#000000\" fill-rule=\"evenodd\" fill-opacity=\"1\" /><path clip-path=\"url(#clip360)\" d=\"M1269.84 1451.02 L1288.2 1451.02 L1288.2 1454.96 L1274.12 1454.96 L1274.12 1463.43 Q1275.14 1463.08 1276.16 1462.92 Q1277.18 1462.73 1278.2 1462.73 Q1283.98 1462.73 1287.36 1465.9 Q1290.74 1469.08 1290.74 1474.49 Q1290.74 1480.07 1287.27 1483.17 Q1283.8 1486.25 1277.48 1486.25 Q1275.3 1486.25 1273.03 1485.88 Q1270.79 1485.51 1268.38 1484.77 L1268.38 1480.07 Q1270.46 1481.2 1272.69 1481.76 Q1274.91 1482.32 1277.39 1482.32 Q1281.39 1482.32 1283.73 1480.21 Q1286.07 1478.1 1286.07 1474.49 Q1286.07 1470.88 1283.73 1468.77 Q1281.39 1466.67 1277.39 1466.67 Q1275.51 1466.67 1273.64 1467.08 Q1271.78 1467.5 1269.84 1468.38 L1269.84 1451.02 Z\" fill=\"#000000\" fill-rule=\"evenodd\" fill-opacity=\"1\" /><path clip-path=\"url(#clip360)\" d=\"M1299.96 1479.7 L1304.84 1479.7 L1304.84 1485.58 L1299.96 1485.58 L1299.96 1479.7 Z\" fill=\"#000000\" fill-rule=\"evenodd\" fill-opacity=\"1\" /><path clip-path=\"url(#clip360)\" d=\"M1325.02 1454.1 Q1321.41 1454.1 1319.59 1457.66 Q1317.78 1461.2 1317.78 1468.33 Q1317.78 1475.44 1319.59 1479.01 Q1321.41 1482.55 1325.02 1482.55 Q1328.66 1482.55 1330.46 1479.01 Q1332.29 1475.44 1332.29 1468.33 Q1332.29 1461.2 1330.46 1457.66 Q1328.66 1454.1 1325.02 1454.1 M1325.02 1450.39 Q1330.83 1450.39 1333.89 1455 Q1336.97 1459.58 1336.97 1468.33 Q1336.97 1477.06 1333.89 1481.67 Q1330.83 1486.25 1325.02 1486.25 Q1319.21 1486.25 1316.14 1481.67 Q1313.08 1477.06 1313.08 1468.33 Q1313.08 1459.58 1316.14 1455 Q1319.21 1450.39 1325.02 1450.39 Z\" fill=\"#000000\" fill-rule=\"evenodd\" fill-opacity=\"1\" /><path clip-path=\"url(#clip360)\" d=\"M1774.13 1451.02 L1796.35 1451.02 L1796.35 1453.01 L1783.81 1485.58 L1778.92 1485.58 L1790.73 1454.96 L1774.13 1454.96 L1774.13 1451.02 Z\" fill=\"#000000\" fill-rule=\"evenodd\" fill-opacity=\"1\" /><path clip-path=\"url(#clip360)\" d=\"M1805.48 1479.7 L1810.36 1479.7 L1810.36 1485.58 L1805.48 1485.58 L1805.48 1479.7 Z\" fill=\"#000000\" fill-rule=\"evenodd\" fill-opacity=\"1\" /><path clip-path=\"url(#clip360)\" d=\"M1820.59 1451.02 L1838.95 1451.02 L1838.95 1454.96 L1824.87 1454.96 L1824.87 1463.43 Q1825.89 1463.08 1826.91 1462.92 Q1827.93 1462.73 1828.95 1462.73 Q1834.73 1462.73 1838.11 1465.9 Q1841.49 1469.08 1841.49 1474.49 Q1841.49 1480.07 1838.02 1483.17 Q1834.55 1486.25 1828.23 1486.25 Q1826.05 1486.25 1823.79 1485.88 Q1821.54 1485.51 1819.13 1484.77 L1819.13 1480.07 Q1821.22 1481.2 1823.44 1481.76 Q1825.66 1482.32 1828.14 1482.32 Q1832.14 1482.32 1834.48 1480.21 Q1836.82 1478.1 1836.82 1474.49 Q1836.82 1470.88 1834.48 1468.77 Q1832.14 1466.67 1828.14 1466.67 Q1826.26 1466.67 1824.39 1467.08 Q1822.54 1467.5 1820.59 1468.38 L1820.59 1451.02 Z\" fill=\"#000000\" fill-rule=\"evenodd\" fill-opacity=\"1\" /><path clip-path=\"url(#clip360)\" d=\"M2265.02 1481.64 L2272.66 1481.64 L2272.66 1455.28 L2264.35 1456.95 L2264.35 1452.69 L2272.62 1451.02 L2277.29 1451.02 L2277.29 1481.64 L2284.93 1481.64 L2284.93 1485.58 L2265.02 1485.58 L2265.02 1481.64 Z\" fill=\"#000000\" fill-rule=\"evenodd\" fill-opacity=\"1\" /><path clip-path=\"url(#clip360)\" d=\"M2304.37 1454.1 Q2300.76 1454.1 2298.93 1457.66 Q2297.13 1461.2 2297.13 1468.33 Q2297.13 1475.44 2298.93 1479.01 Q2300.76 1482.55 2304.37 1482.55 Q2308.01 1482.55 2309.81 1479.01 Q2311.64 1475.44 2311.64 1468.33 Q2311.64 1461.2 2309.81 1457.66 Q2308.01 1454.1 2304.37 1454.1 M2304.37 1450.39 Q2310.18 1450.39 2313.24 1455 Q2316.32 1459.58 2316.32 1468.33 Q2316.32 1477.06 2313.24 1481.67 Q2310.18 1486.25 2304.37 1486.25 Q2298.56 1486.25 2295.49 1481.67 Q2292.43 1477.06 2292.43 1468.33 Q2292.43 1459.58 2295.49 1455 Q2298.56 1450.39 2304.37 1450.39 Z\" fill=\"#000000\" fill-rule=\"evenodd\" fill-opacity=\"1\" /><path clip-path=\"url(#clip360)\" d=\"M2324.54 1479.7 L2329.42 1479.7 L2329.42 1485.58 L2324.54 1485.58 L2324.54 1479.7 Z\" fill=\"#000000\" fill-rule=\"evenodd\" fill-opacity=\"1\" /><path clip-path=\"url(#clip360)\" d=\"M2349.61 1454.1 Q2345.99 1454.1 2344.17 1457.66 Q2342.36 1461.2 2342.36 1468.33 Q2342.36 1475.44 2344.17 1479.01 Q2345.99 1482.55 2349.61 1482.55 Q2353.24 1482.55 2355.05 1479.01 Q2356.87 1475.44 2356.87 1468.33 Q2356.87 1461.2 2355.05 1457.66 Q2353.24 1454.1 2349.61 1454.1 M2349.61 1450.39 Q2355.42 1450.39 2358.47 1455 Q2361.55 1459.58 2361.55 1468.33 Q2361.55 1477.06 2358.47 1481.67 Q2355.42 1486.25 2349.61 1486.25 Q2343.8 1486.25 2340.72 1481.67 Q2337.66 1477.06 2337.66 1468.33 Q2337.66 1459.58 2340.72 1455 Q2343.8 1450.39 2349.61 1450.39 Z\" fill=\"#000000\" fill-rule=\"evenodd\" fill-opacity=\"1\" /><path clip-path=\"url(#clip360)\" d=\"M1180.03 1522.27 L1180.03 1532.4 L1192.09 1532.4 L1192.09 1536.95 L1180.03 1536.95 L1180.03 1556.3 Q1180.03 1560.66 1181.2 1561.9 Q1182.41 1563.14 1186.07 1563.14 L1192.09 1563.14 L1192.09 1568.04 L1186.07 1568.04 Q1179.29 1568.04 1176.72 1565.53 Q1174.14 1562.98 1174.14 1556.3 L1174.14 1536.95 L1169.84 1536.95 L1169.84 1532.4 L1174.14 1532.4 L1174.14 1522.27 L1180.03 1522.27 Z\" fill=\"#000000\" fill-rule=\"evenodd\" fill-opacity=\"1\" /><path clip-path=\"url(#clip360)\" d=\"M1199.79 1532.4 L1205.65 1532.4 L1205.65 1568.04 L1199.79 1568.04 L1199.79 1532.4 M1199.79 1518.52 L1205.65 1518.52 L1205.65 1525.93 L1199.79 1525.93 L1199.79 1518.52 Z\" fill=\"#000000\" fill-rule=\"evenodd\" fill-opacity=\"1\" /><path clip-path=\"url(#clip360)\" d=\"M1245.66 1539.24 Q1247.85 1535.29 1250.91 1533.41 Q1253.96 1531.54 1258.1 1531.54 Q1263.67 1531.54 1266.7 1535.45 Q1269.72 1539.33 1269.72 1546.53 L1269.72 1568.04 L1263.83 1568.04 L1263.83 1546.72 Q1263.83 1541.59 1262.02 1539.11 Q1260.2 1536.63 1256.48 1536.63 Q1251.93 1536.63 1249.29 1539.65 Q1246.64 1542.68 1246.64 1547.9 L1246.64 1568.04 L1240.76 1568.04 L1240.76 1546.72 Q1240.76 1541.56 1238.94 1539.11 Q1237.13 1536.63 1233.34 1536.63 Q1228.85 1536.63 1226.21 1539.68 Q1223.57 1542.71 1223.57 1547.9 L1223.57 1568.04 L1217.68 1568.04 L1217.68 1532.4 L1223.57 1532.4 L1223.57 1537.93 Q1225.57 1534.66 1228.37 1533.1 Q1231.18 1531.54 1235.03 1531.54 Q1238.91 1531.54 1241.62 1533.51 Q1244.35 1535.48 1245.66 1539.24 Z\" fill=\"#000000\" fill-rule=\"evenodd\" fill-opacity=\"1\" /><path clip-path=\"url(#clip360)\" d=\"M1311.89 1548.76 L1311.89 1551.62 L1284.97 1551.62 Q1285.35 1557.67 1288.59 1560.85 Q1291.87 1564 1297.7 1564 Q1301.07 1564 1304.22 1563.17 Q1307.4 1562.35 1310.52 1560.69 L1310.52 1566.23 Q1307.37 1567.57 1304.06 1568.27 Q1300.75 1568.97 1297.35 1568.97 Q1288.82 1568.97 1283.82 1564 Q1278.85 1559.04 1278.85 1550.57 Q1278.85 1541.82 1283.57 1536.69 Q1288.31 1531.54 1296.33 1531.54 Q1303.52 1531.54 1307.69 1536.18 Q1311.89 1540.8 1311.89 1548.76 M1306.04 1547.04 Q1305.97 1542.23 1303.33 1539.37 Q1300.72 1536.5 1296.39 1536.5 Q1291.49 1536.5 1288.53 1539.27 Q1285.6 1542.04 1285.16 1547.07 L1306.04 1547.04 Z\" fill=\"#000000\" fill-rule=\"evenodd\" fill-opacity=\"1\" /><path clip-path=\"url(#clip360)\" d=\"M1356.29 1518.58 Q1352.03 1525.9 1349.96 1533.06 Q1347.89 1540.23 1347.89 1547.58 Q1347.89 1554.93 1349.96 1562.16 Q1352.06 1569.35 1356.29 1576.64 L1351.2 1576.64 Q1346.43 1569.16 1344.04 1561.93 Q1341.68 1554.71 1341.68 1547.58 Q1341.68 1540.48 1344.04 1533.29 Q1346.39 1526.09 1351.2 1518.58 L1356.29 1518.58 Z\" fill=\"#000000\" fill-rule=\"evenodd\" fill-opacity=\"1\" /><path clip-path=\"url(#clip360)\" d=\"M1390.38 1533.45 L1390.38 1538.98 Q1387.9 1537.71 1385.23 1537.07 Q1382.55 1536.44 1379.69 1536.44 Q1375.33 1536.44 1373.13 1537.77 Q1370.97 1539.11 1370.97 1541.79 Q1370.97 1543.82 1372.53 1545 Q1374.09 1546.15 1378.8 1547.2 L1380.8 1547.64 Q1387.04 1548.98 1389.65 1551.43 Q1392.29 1553.85 1392.29 1558.21 Q1392.29 1563.17 1388.34 1566.07 Q1384.43 1568.97 1377.55 1568.97 Q1374.69 1568.97 1371.57 1568.39 Q1368.48 1567.85 1365.05 1566.74 L1365.05 1560.69 Q1368.29 1562.38 1371.44 1563.24 Q1374.59 1564.07 1377.68 1564.07 Q1381.82 1564.07 1384.05 1562.66 Q1386.28 1561.23 1386.28 1558.65 Q1386.28 1556.27 1384.65 1554.99 Q1383.06 1553.72 1377.62 1552.54 L1375.58 1552.07 Q1370.14 1550.92 1367.72 1548.56 Q1365.3 1546.18 1365.3 1542.04 Q1365.3 1537.01 1368.87 1534.27 Q1372.43 1531.54 1378.99 1531.54 Q1382.23 1531.54 1385.1 1532.01 Q1387.96 1532.49 1390.38 1533.45 Z\" fill=\"#000000\" fill-rule=\"evenodd\" fill-opacity=\"1\" /><path clip-path=\"url(#clip360)\" d=\"M1400.69 1518.58 L1405.79 1518.58 Q1410.56 1526.09 1412.92 1533.29 Q1415.3 1540.48 1415.3 1547.58 Q1415.3 1554.71 1412.92 1561.93 Q1410.56 1569.16 1405.79 1576.64 L1400.69 1576.64 Q1404.93 1569.35 1407 1562.16 Q1409.1 1554.93 1409.1 1547.58 Q1409.1 1540.23 1407 1533.06 Q1404.93 1525.9 1400.69 1518.58 Z\" fill=\"#000000\" fill-rule=\"evenodd\" fill-opacity=\"1\" /><polyline clip-path=\"url(#clip362)\" style=\"stroke:#000000; stroke-linecap:round; stroke-linejoin:round; stroke-width:2; stroke-opacity:0.1; fill:none\" points=\"232.389,1353.42 2352.76,1353.42 \"/>\n<polyline clip-path=\"url(#clip362)\" style=\"stroke:#000000; stroke-linecap:round; stroke-linejoin:round; stroke-width:2; stroke-opacity:0.1; fill:none\" points=\"232.389,1161.95 2352.76,1161.95 \"/>\n<polyline clip-path=\"url(#clip362)\" style=\"stroke:#000000; stroke-linecap:round; stroke-linejoin:round; stroke-width:2; stroke-opacity:0.1; fill:none\" points=\"232.389,970.474 2352.76,970.474 \"/>\n<polyline clip-path=\"url(#clip362)\" style=\"stroke:#000000; stroke-linecap:round; stroke-linejoin:round; stroke-width:2; stroke-opacity:0.1; fill:none\" points=\"232.389,778.999 2352.76,778.999 \"/>\n<polyline clip-path=\"url(#clip362)\" style=\"stroke:#000000; stroke-linecap:round; stroke-linejoin:round; stroke-width:2; stroke-opacity:0.1; fill:none\" points=\"232.389,587.524 2352.76,587.524 \"/>\n<polyline clip-path=\"url(#clip362)\" style=\"stroke:#000000; stroke-linecap:round; stroke-linejoin:round; stroke-width:2; stroke-opacity:0.1; fill:none\" points=\"232.389,396.049 2352.76,396.049 \"/>\n<polyline clip-path=\"url(#clip362)\" style=\"stroke:#000000; stroke-linecap:round; stroke-linejoin:round; stroke-width:2; stroke-opacity:0.1; fill:none\" points=\"232.389,204.575 2352.76,204.575 \"/>\n<polyline clip-path=\"url(#clip360)\" style=\"stroke:#000000; stroke-linecap:round; stroke-linejoin:round; stroke-width:4; stroke-opacity:1; fill:none\" points=\"232.389,1423.18 232.389,123.472 \"/>\n<polyline clip-path=\"url(#clip360)\" style=\"stroke:#000000; stroke-linecap:round; stroke-linejoin:round; stroke-width:4; stroke-opacity:1; fill:none\" points=\"232.389,1353.42 251.287,1353.42 \"/>\n<polyline clip-path=\"url(#clip360)\" style=\"stroke:#000000; stroke-linecap:round; stroke-linejoin:round; stroke-width:4; stroke-opacity:1; fill:none\" points=\"232.389,1161.95 251.287,1161.95 \"/>\n<polyline clip-path=\"url(#clip360)\" style=\"stroke:#000000; stroke-linecap:round; stroke-linejoin:round; stroke-width:4; stroke-opacity:1; fill:none\" points=\"232.389,970.474 251.287,970.474 \"/>\n<polyline clip-path=\"url(#clip360)\" style=\"stroke:#000000; stroke-linecap:round; stroke-linejoin:round; stroke-width:4; stroke-opacity:1; fill:none\" points=\"232.389,778.999 251.287,778.999 \"/>\n<polyline clip-path=\"url(#clip360)\" style=\"stroke:#000000; stroke-linecap:round; stroke-linejoin:round; stroke-width:4; stroke-opacity:1; fill:none\" points=\"232.389,587.524 251.287,587.524 \"/>\n<polyline clip-path=\"url(#clip360)\" style=\"stroke:#000000; stroke-linecap:round; stroke-linejoin:round; stroke-width:4; stroke-opacity:1; fill:none\" points=\"232.389,396.049 251.287,396.049 \"/>\n<polyline clip-path=\"url(#clip360)\" style=\"stroke:#000000; stroke-linecap:round; stroke-linejoin:round; stroke-width:4; stroke-opacity:1; fill:none\" points=\"232.389,204.575 251.287,204.575 \"/>\n<path clip-path=\"url(#clip360)\" d=\"M184.445 1339.22 Q180.834 1339.22 179.005 1342.79 Q177.2 1346.33 177.2 1353.46 Q177.2 1360.56 179.005 1364.13 Q180.834 1367.67 184.445 1367.67 Q188.079 1367.67 189.885 1364.13 Q191.713 1360.56 191.713 1353.46 Q191.713 1346.33 189.885 1342.79 Q188.079 1339.22 184.445 1339.22 M184.445 1335.52 Q190.255 1335.52 193.311 1340.12 Q196.389 1344.71 196.389 1353.46 Q196.389 1362.18 193.311 1366.79 Q190.255 1371.37 184.445 1371.37 Q178.635 1371.37 175.556 1366.79 Q172.501 1362.18 172.501 1353.46 Q172.501 1344.71 175.556 1340.12 Q178.635 1335.52 184.445 1335.52 Z\" fill=\"#000000\" fill-rule=\"evenodd\" fill-opacity=\"1\" /><path clip-path=\"url(#clip360)\" d=\"M148.311 1175.29 L164.63 1175.29 L164.63 1179.23 L142.686 1179.23 L142.686 1175.29 Q145.348 1172.54 149.931 1167.91 Q154.538 1163.26 155.718 1161.91 Q157.964 1159.39 158.843 1157.65 Q159.746 1155.9 159.746 1154.21 Q159.746 1151.45 157.802 1149.71 Q155.88 1147.98 152.778 1147.98 Q150.579 1147.98 148.126 1148.74 Q145.695 1149.51 142.917 1151.06 L142.917 1146.34 Q145.741 1145.2 148.195 1144.62 Q150.649 1144.04 152.686 1144.04 Q158.056 1144.04 161.251 1146.73 Q164.445 1149.41 164.445 1153.9 Q164.445 1156.03 163.635 1157.96 Q162.848 1159.85 160.741 1162.45 Q160.163 1163.12 157.061 1166.34 Q153.959 1169.53 148.311 1175.29 Z\" fill=\"#000000\" fill-rule=\"evenodd\" fill-opacity=\"1\" /><path clip-path=\"url(#clip360)\" d=\"M184.445 1147.75 Q180.834 1147.75 179.005 1151.31 Q177.2 1154.85 177.2 1161.98 Q177.2 1169.09 179.005 1172.65 Q180.834 1176.2 184.445 1176.2 Q188.079 1176.2 189.885 1172.65 Q191.713 1169.09 191.713 1161.98 Q191.713 1154.85 189.885 1151.31 Q188.079 1147.75 184.445 1147.75 M184.445 1144.04 Q190.255 1144.04 193.311 1148.65 Q196.389 1153.23 196.389 1161.98 Q196.389 1170.71 193.311 1175.32 Q190.255 1179.9 184.445 1179.9 Q178.635 1179.9 175.556 1175.32 Q172.501 1170.71 172.501 1161.98 Q172.501 1153.23 175.556 1148.65 Q178.635 1144.04 184.445 1144.04 Z\" fill=\"#000000\" fill-rule=\"evenodd\" fill-opacity=\"1\" /><path clip-path=\"url(#clip360)\" d=\"M157.13 957.268 L145.325 975.717 L157.13 975.717 L157.13 957.268 M155.903 953.194 L161.783 953.194 L161.783 975.717 L166.714 975.717 L166.714 979.606 L161.783 979.606 L161.783 987.754 L157.13 987.754 L157.13 979.606 L141.529 979.606 L141.529 975.092 L155.903 953.194 Z\" fill=\"#000000\" fill-rule=\"evenodd\" fill-opacity=\"1\" /><path clip-path=\"url(#clip360)\" d=\"M184.445 956.272 Q180.834 956.272 179.005 959.837 Q177.2 963.379 177.2 970.508 Q177.2 977.615 179.005 981.18 Q180.834 984.721 184.445 984.721 Q188.079 984.721 189.885 981.18 Q191.713 977.615 191.713 970.508 Q191.713 963.379 189.885 959.837 Q188.079 956.272 184.445 956.272 M184.445 952.569 Q190.255 952.569 193.311 957.175 Q196.389 961.759 196.389 970.508 Q196.389 979.235 193.311 983.842 Q190.255 988.425 184.445 988.425 Q178.635 988.425 175.556 983.842 Q172.501 979.235 172.501 970.508 Q172.501 961.759 175.556 957.175 Q178.635 952.569 184.445 952.569 Z\" fill=\"#000000\" fill-rule=\"evenodd\" fill-opacity=\"1\" /><path clip-path=\"url(#clip360)\" d=\"M154.862 777.136 Q151.714 777.136 149.862 779.288 Q148.033 781.441 148.033 785.191 Q148.033 788.918 149.862 791.094 Q151.714 793.247 154.862 793.247 Q158.01 793.247 159.839 791.094 Q161.69 788.918 161.69 785.191 Q161.69 781.441 159.839 779.288 Q158.01 777.136 154.862 777.136 M164.144 762.483 L164.144 766.742 Q162.385 765.909 160.579 765.469 Q158.797 765.029 157.038 765.029 Q152.408 765.029 149.954 768.154 Q147.524 771.279 147.177 777.598 Q148.542 775.585 150.603 774.52 Q152.663 773.432 155.14 773.432 Q160.348 773.432 163.357 776.603 Q166.39 779.751 166.39 785.191 Q166.39 790.515 163.241 793.733 Q160.093 796.95 154.862 796.95 Q148.866 796.95 145.695 792.367 Q142.524 787.76 142.524 779.034 Q142.524 770.839 146.413 765.978 Q150.302 761.094 156.853 761.094 Q158.612 761.094 160.394 761.441 Q162.2 761.788 164.144 762.483 Z\" fill=\"#000000\" fill-rule=\"evenodd\" fill-opacity=\"1\" /><path clip-path=\"url(#clip360)\" d=\"M184.445 764.798 Q180.834 764.798 179.005 768.362 Q177.2 771.904 177.2 779.034 Q177.2 786.14 179.005 789.705 Q180.834 793.247 184.445 793.247 Q188.079 793.247 189.885 789.705 Q191.713 786.14 191.713 779.034 Q191.713 771.904 189.885 768.362 Q188.079 764.798 184.445 764.798 M184.445 761.094 Q190.255 761.094 193.311 765.7 Q196.389 770.284 196.389 779.034 Q196.389 787.76 193.311 792.367 Q190.255 796.95 184.445 796.95 Q178.635 796.95 175.556 792.367 Q172.501 787.76 172.501 779.034 Q172.501 770.284 175.556 765.7 Q178.635 761.094 184.445 761.094 Z\" fill=\"#000000\" fill-rule=\"evenodd\" fill-opacity=\"1\" /><path clip-path=\"url(#clip360)\" d=\"M154.283 588.392 Q150.95 588.392 149.028 590.175 Q147.13 591.957 147.13 595.082 Q147.13 598.207 149.028 599.989 Q150.95 601.772 154.283 601.772 Q157.616 601.772 159.538 599.989 Q161.459 598.184 161.459 595.082 Q161.459 591.957 159.538 590.175 Q157.64 588.392 154.283 588.392 M149.607 586.401 Q146.598 585.661 144.908 583.601 Q143.241 581.54 143.241 578.577 Q143.241 574.434 146.181 572.027 Q149.144 569.619 154.283 569.619 Q159.445 569.619 162.385 572.027 Q165.325 574.434 165.325 578.577 Q165.325 581.54 163.635 583.601 Q161.968 585.661 158.982 586.401 Q162.362 587.188 164.237 589.48 Q166.135 591.772 166.135 595.082 Q166.135 600.105 163.056 602.79 Q160.001 605.475 154.283 605.475 Q148.566 605.475 145.487 602.79 Q142.431 600.105 142.431 595.082 Q142.431 591.772 144.329 589.48 Q146.228 587.188 149.607 586.401 M147.894 579.017 Q147.894 581.702 149.561 583.207 Q151.251 584.712 154.283 584.712 Q157.292 584.712 158.982 583.207 Q160.695 581.702 160.695 579.017 Q160.695 576.332 158.982 574.827 Q157.292 573.323 154.283 573.323 Q151.251 573.323 149.561 574.827 Q147.894 576.332 147.894 579.017 Z\" fill=\"#000000\" fill-rule=\"evenodd\" fill-opacity=\"1\" /><path clip-path=\"url(#clip360)\" d=\"M184.445 573.323 Q180.834 573.323 179.005 576.888 Q177.2 580.429 177.2 587.559 Q177.2 594.665 179.005 598.23 Q180.834 601.772 184.445 601.772 Q188.079 601.772 189.885 598.23 Q191.713 594.665 191.713 587.559 Q191.713 580.429 189.885 576.888 Q188.079 573.323 184.445 573.323 M184.445 569.619 Q190.255 569.619 193.311 574.226 Q196.389 578.809 196.389 587.559 Q196.389 596.286 193.311 600.892 Q190.255 605.475 184.445 605.475 Q178.635 605.475 175.556 600.892 Q172.501 596.286 172.501 587.559 Q172.501 578.809 175.556 574.226 Q178.635 569.619 184.445 569.619 Z\" fill=\"#000000\" fill-rule=\"evenodd\" fill-opacity=\"1\" /><path clip-path=\"url(#clip360)\" d=\"M114.931 409.394 L122.57 409.394 L122.57 383.029 L114.26 384.695 L114.26 380.436 L122.524 378.769 L127.2 378.769 L127.2 409.394 L134.839 409.394 L134.839 413.329 L114.931 413.329 L114.931 409.394 Z\" fill=\"#000000\" fill-rule=\"evenodd\" fill-opacity=\"1\" /><path clip-path=\"url(#clip360)\" d=\"M154.283 381.848 Q150.672 381.848 148.843 385.413 Q147.038 388.954 147.038 396.084 Q147.038 403.19 148.843 406.755 Q150.672 410.297 154.283 410.297 Q157.917 410.297 159.723 406.755 Q161.552 403.19 161.552 396.084 Q161.552 388.954 159.723 385.413 Q157.917 381.848 154.283 381.848 M154.283 378.144 Q160.093 378.144 163.149 382.751 Q166.227 387.334 166.227 396.084 Q166.227 404.811 163.149 409.417 Q160.093 414.001 154.283 414.001 Q148.473 414.001 145.394 409.417 Q142.339 404.811 142.339 396.084 Q142.339 387.334 145.394 382.751 Q148.473 378.144 154.283 378.144 Z\" fill=\"#000000\" fill-rule=\"evenodd\" fill-opacity=\"1\" /><path clip-path=\"url(#clip360)\" d=\"M184.445 381.848 Q180.834 381.848 179.005 385.413 Q177.2 388.954 177.2 396.084 Q177.2 403.19 179.005 406.755 Q180.834 410.297 184.445 410.297 Q188.079 410.297 189.885 406.755 Q191.713 403.19 191.713 396.084 Q191.713 388.954 189.885 385.413 Q188.079 381.848 184.445 381.848 M184.445 378.144 Q190.255 378.144 193.311 382.751 Q196.389 387.334 196.389 396.084 Q196.389 404.811 193.311 409.417 Q190.255 414.001 184.445 414.001 Q178.635 414.001 175.556 409.417 Q172.501 404.811 172.501 396.084 Q172.501 387.334 175.556 382.751 Q178.635 378.144 184.445 378.144 Z\" fill=\"#000000\" fill-rule=\"evenodd\" fill-opacity=\"1\" /><path clip-path=\"url(#clip360)\" d=\"M114.931 217.919 L122.57 217.919 L122.57 191.554 L114.26 193.22 L114.26 188.961 L122.524 187.295 L127.2 187.295 L127.2 217.919 L134.839 217.919 L134.839 221.855 L114.931 221.855 L114.931 217.919 Z\" fill=\"#000000\" fill-rule=\"evenodd\" fill-opacity=\"1\" /><path clip-path=\"url(#clip360)\" d=\"M148.311 217.919 L164.63 217.919 L164.63 221.855 L142.686 221.855 L142.686 217.919 Q145.348 215.165 149.931 210.535 Q154.538 205.882 155.718 204.54 Q157.964 202.017 158.843 200.281 Q159.746 198.521 159.746 196.831 Q159.746 194.077 157.802 192.341 Q155.88 190.605 152.778 190.605 Q150.579 190.605 148.126 191.369 Q145.695 192.132 142.917 193.683 L142.917 188.961 Q145.741 187.827 148.195 187.248 Q150.649 186.67 152.686 186.67 Q158.056 186.67 161.251 189.355 Q164.445 192.04 164.445 196.531 Q164.445 198.66 163.635 200.581 Q162.848 202.48 160.741 205.072 Q160.163 205.743 157.061 208.961 Q153.959 212.155 148.311 217.919 Z\" fill=\"#000000\" fill-rule=\"evenodd\" fill-opacity=\"1\" /><path clip-path=\"url(#clip360)\" d=\"M184.445 190.373 Q180.834 190.373 179.005 193.938 Q177.2 197.48 177.2 204.609 Q177.2 211.716 179.005 215.28 Q180.834 218.822 184.445 218.822 Q188.079 218.822 189.885 215.28 Q191.713 211.716 191.713 204.609 Q191.713 197.48 189.885 193.938 Q188.079 190.373 184.445 190.373 M184.445 186.67 Q190.255 186.67 193.311 191.276 Q196.389 195.859 196.389 204.609 Q196.389 213.336 193.311 217.942 Q190.255 222.526 184.445 222.526 Q178.635 222.526 175.556 217.942 Q172.501 213.336 172.501 204.609 Q172.501 195.859 175.556 191.276 Q178.635 186.67 184.445 186.67 Z\" fill=\"#000000\" fill-rule=\"evenodd\" fill-opacity=\"1\" /><path clip-path=\"url(#clip360)\" d=\"M49.9359 788.254 L28.3562 788.254 L28.3562 782.397 L49.7131 782.397 Q54.7739 782.397 57.3202 780.424 Q59.8346 778.45 59.8346 774.504 Q59.8346 769.761 56.8109 767.024 Q53.7872 764.255 48.5673 764.255 L28.3562 764.255 L28.3562 758.398 L64.0042 758.398 L64.0042 764.255 L58.5296 764.255 Q61.7762 766.387 63.3676 769.22 Q64.9272 772.021 64.9272 775.745 Q64.9272 781.888 61.1078 785.071 Q57.2883 788.254 49.9359 788.254 M27.4968 773.517 L27.4968 773.517 Z\" fill=\"#000000\" fill-rule=\"evenodd\" fill-opacity=\"1\" /><path clip-path=\"url(#clip360)\" d=\"M1029.71 12.096 L1037.89 12.096 L1037.89 72.576 L1029.71 72.576 L1029.71 12.096 Z\" fill=\"#000000\" fill-rule=\"evenodd\" fill-opacity=\"1\" /><path clip-path=\"url(#clip360)\" d=\"M1091.57 45.1919 L1091.57 72.576 L1084.11 72.576 L1084.11 45.4349 Q1084.11 38.994 1081.6 35.7938 Q1079.09 32.5936 1074.07 32.5936 Q1068.03 32.5936 1064.55 36.4419 Q1061.06 40.2903 1061.06 46.9338 L1061.06 72.576 L1053.57 72.576 L1053.57 27.2059 L1061.06 27.2059 L1061.06 34.2544 Q1063.74 30.163 1067.34 28.1376 Q1070.99 26.1121 1075.73 26.1121 Q1083.55 26.1121 1087.56 30.9732 Q1091.57 35.7938 1091.57 45.1919 Z\" fill=\"#000000\" fill-rule=\"evenodd\" fill-opacity=\"1\" /><path clip-path=\"url(#clip360)\" d=\"M1113.64 65.7705 L1113.64 89.8329 L1106.15 89.8329 L1106.15 27.2059 L1113.64 27.2059 L1113.64 34.0924 Q1115.99 30.0415 1119.56 28.0971 Q1123.16 26.1121 1128.15 26.1121 Q1136.41 26.1121 1141.55 32.6746 Q1146.74 39.2371 1146.74 49.9314 Q1146.74 60.6258 1141.55 67.1883 Q1136.41 73.7508 1128.15 73.7508 Q1123.16 73.7508 1119.56 71.8063 Q1115.99 69.8214 1113.64 65.7705 M1139 49.9314 Q1139 41.7081 1135.6 37.0496 Q1132.24 32.3505 1126.32 32.3505 Q1120.41 32.3505 1117.01 37.0496 Q1113.64 41.7081 1113.64 49.9314 Q1113.64 58.1548 1117.01 62.8538 Q1120.41 67.5124 1126.32 67.5124 Q1132.24 67.5124 1135.6 62.8538 Q1139 58.1548 1139 49.9314 Z\" fill=\"#000000\" fill-rule=\"evenodd\" fill-opacity=\"1\" /><path clip-path=\"url(#clip360)\" d=\"M1158.33 54.671 L1158.33 27.2059 L1165.78 27.2059 L1165.78 54.3874 Q1165.78 60.8284 1168.29 64.0691 Q1170.8 67.2693 1175.83 67.2693 Q1181.86 67.2693 1185.35 63.421 Q1188.87 59.5726 1188.87 52.9291 L1188.87 27.2059 L1196.32 27.2059 L1196.32 72.576 L1188.87 72.576 L1188.87 65.6084 Q1186.16 69.7404 1182.55 71.7658 Q1178.99 73.7508 1174.25 73.7508 Q1166.43 73.7508 1162.38 68.8897 Q1158.33 64.0286 1158.33 54.671 M1177.08 26.1121 L1177.08 26.1121 Z\" fill=\"#000000\" fill-rule=\"evenodd\" fill-opacity=\"1\" /><path clip-path=\"url(#clip360)\" d=\"M1219.05 14.324 L1219.05 27.2059 L1234.4 27.2059 L1234.4 32.9987 L1219.05 32.9987 L1219.05 57.6282 Q1219.05 63.1779 1220.55 64.7578 Q1222.09 66.3376 1226.75 66.3376 L1234.4 66.3376 L1234.4 72.576 L1226.75 72.576 Q1218.12 72.576 1214.84 69.3758 Q1211.55 66.1351 1211.55 57.6282 L1211.55 32.9987 L1206.09 32.9987 L1206.09 27.2059 L1211.55 27.2059 L1211.55 14.324 L1219.05 14.324 Z\" fill=\"#000000\" fill-rule=\"evenodd\" fill-opacity=\"1\" /><path clip-path=\"url(#clip360)\" d=\"M1270.9 12.096 L1279.08 12.096 L1279.08 36.8875 L1308.82 36.8875 L1308.82 12.096 L1317 12.096 L1317 72.576 L1308.82 72.576 L1308.82 43.7741 L1279.08 43.7741 L1279.08 72.576 L1270.9 72.576 L1270.9 12.096 Z\" fill=\"#000000\" fill-rule=\"evenodd\" fill-opacity=\"1\" /><path clip-path=\"url(#clip360)\" d=\"M1332.96 27.2059 L1340.41 27.2059 L1340.41 72.576 L1332.96 72.576 L1332.96 27.2059 M1332.96 9.54393 L1340.41 9.54393 L1340.41 18.9825 L1332.96 18.9825 L1332.96 9.54393 Z\" fill=\"#000000\" fill-rule=\"evenodd\" fill-opacity=\"1\" /><path clip-path=\"url(#clip360)\" d=\"M1384.93 28.5427 L1384.93 35.5912 Q1381.77 33.9709 1378.37 33.1607 Q1374.97 32.3505 1371.32 32.3505 Q1365.77 32.3505 1362.98 34.0519 Q1360.22 35.7533 1360.22 39.156 Q1360.22 41.7486 1362.21 43.2475 Q1364.19 44.7058 1370.19 46.0426 L1372.74 46.6097 Q1380.68 48.3111 1384 51.4303 Q1387.36 54.509 1387.36 60.0587 Q1387.36 66.3781 1382.34 70.0644 Q1377.36 73.7508 1368.61 73.7508 Q1364.96 73.7508 1360.99 73.0216 Q1357.06 72.3329 1352.69 70.9151 L1352.69 63.2184 Q1356.82 65.3654 1360.83 66.4591 Q1364.84 67.5124 1368.77 67.5124 Q1374.04 67.5124 1376.87 65.73 Q1379.71 63.9071 1379.71 60.6258 Q1379.71 57.5877 1377.64 55.9673 Q1375.62 54.3469 1368.69 52.8481 L1366.1 52.2405 Q1359.17 50.7821 1356.09 47.7845 Q1353.01 44.7463 1353.01 39.4801 Q1353.01 33.0797 1357.55 29.5959 Q1362.09 26.1121 1370.43 26.1121 Q1374.56 26.1121 1378.21 26.7198 Q1381.85 27.3274 1384.93 28.5427 Z\" fill=\"#000000\" fill-rule=\"evenodd\" fill-opacity=\"1\" /><path clip-path=\"url(#clip360)\" d=\"M1406.61 14.324 L1406.61 27.2059 L1421.96 27.2059 L1421.96 32.9987 L1406.61 32.9987 L1406.61 57.6282 Q1406.61 63.1779 1408.1 64.7578 Q1409.64 66.3376 1414.3 66.3376 L1421.96 66.3376 L1421.96 72.576 L1414.3 72.576 Q1405.67 72.576 1402.39 69.3758 Q1399.11 66.1351 1399.11 57.6282 L1399.11 32.9987 L1393.64 32.9987 L1393.64 27.2059 L1399.11 27.2059 L1399.11 14.324 L1406.61 14.324 Z\" fill=\"#000000\" fill-rule=\"evenodd\" fill-opacity=\"1\" /><path clip-path=\"url(#clip360)\" d=\"M1449.34 32.4315 Q1443.35 32.4315 1439.86 37.1306 Q1436.38 41.7891 1436.38 49.9314 Q1436.38 58.0738 1439.82 62.7728 Q1443.31 67.4314 1449.34 67.4314 Q1455.3 67.4314 1458.78 62.7323 Q1462.27 58.0333 1462.27 49.9314 Q1462.27 41.8701 1458.78 37.1711 Q1455.3 32.4315 1449.34 32.4315 M1449.34 26.1121 Q1459.06 26.1121 1464.61 32.4315 Q1470.16 38.7509 1470.16 49.9314 Q1470.16 61.0714 1464.61 67.4314 Q1459.06 73.7508 1449.34 73.7508 Q1439.58 73.7508 1434.03 67.4314 Q1428.52 61.0714 1428.52 49.9314 Q1428.52 38.7509 1434.03 32.4315 Q1439.58 26.1121 1449.34 26.1121 Z\" fill=\"#000000\" fill-rule=\"evenodd\" fill-opacity=\"1\" /><path clip-path=\"url(#clip360)\" d=\"M1508.81 34.1734 Q1507.55 33.4443 1506.06 33.1202 Q1504.6 32.7556 1502.81 32.7556 Q1496.5 32.7556 1493.09 36.8875 Q1489.73 40.9789 1489.73 48.6757 L1489.73 72.576 L1482.24 72.576 L1482.24 27.2059 L1489.73 27.2059 L1489.73 34.2544 Q1492.08 30.1225 1495.85 28.1376 Q1499.61 26.1121 1505 26.1121 Q1505.77 26.1121 1506.7 26.2337 Q1507.64 26.3147 1508.77 26.5172 L1508.81 34.1734 Z\" fill=\"#000000\" fill-rule=\"evenodd\" fill-opacity=\"1\" /><path clip-path=\"url(#clip360)\" d=\"M1535.51 76.7889 Q1532.35 84.8907 1529.35 87.3618 Q1526.35 89.8329 1521.33 89.8329 L1515.37 89.8329 L1515.37 83.5945 L1519.75 83.5945 Q1522.83 83.5945 1524.53 82.1361 Q1526.23 80.6778 1528.29 75.2496 L1529.63 71.8468 L1511.28 27.2059 L1519.18 27.2059 L1533.36 62.6918 L1547.54 27.2059 L1555.44 27.2059 L1535.51 76.7889 Z\" fill=\"#000000\" fill-rule=\"evenodd\" fill-opacity=\"1\" /><polyline clip-path=\"url(#clip362)\" style=\"stroke:#009af9; stroke-linecap:round; stroke-linejoin:round; stroke-width:4; stroke-opacity:1; fill:none\" points=\"292.4,1323.25 312.605,1323.54 332.811,1323.83 353.016,1324.12 373.222,1324.41 393.427,1324.7 413.633,1324.99 433.838,1325.28 454.044,1325.58 474.249,1325.87 494.455,1326.16 514.66,1326.45 534.866,1326.74 555.071,1327.04 575.277,1327.33 595.482,1327.62 615.688,1327.91 635.893,1328.2 656.099,1328.5 676.304,1328.79 696.51,1329.08 716.715,1329.37 736.921,1329.67 757.127,1329.96 777.332,1330.25 797.538,1330.54 817.743,1330.84 837.949,1331.13 858.154,1331.42 878.36,1331.71 898.565,1332.01 918.771,1332.3 938.976,1332.59 959.182,1332.88 979.387,1333.18 999.593,1333.47 1019.8,1333.76 1040,1334.05 1060.21,1334.35 1080.41,1334.64 1100.62,1334.93 1120.83,1335.22 1141.03,1335.52 1161.24,1335.81 1181.44,1336.1 1201.65,1336.39 1221.85,1336.68 1242.06,1336.98 1262.26,1337.27 1282.47,1337.56 1302.68,1337.85 1322.88,1338.14 1343.09,1338.43 1363.29,1338.72 1383.5,1339.02 1403.7,1339.31 1423.91,1339.6 1444.11,1339.89 1464.32,1340.18 1484.53,1340.47 1504.73,1340.76 1524.94,1341.05 1545.14,1341.34 1565.35,1341.63 1585.55,1341.93 1605.76,1342.22 1625.96,1342.51 1646.17,1342.8 1666.37,1343.09 1686.58,1343.38 1706.79,1343.67 1726.99,1343.96 1747.2,1344.25 1767.4,1344.53 1787.61,1344.82 1807.81,1345.11 1828.02,1345.4 1848.22,1345.69 1868.43,1345.98 1888.64,1346.27 1908.84,1346.56 1929.05,1346.85 1949.25,1347.14 1969.46,1347.42 1989.66,1347.71 2009.87,1348 2030.07,1348.29 2050.28,1348.58 2070.48,1348.86 2090.69,1349.15 2110.9,1349.44 2131.1,1349.73 2151.31,1350.01 2171.51,1350.3 2191.72,1350.59 2211.92,1350.87 2232.13,1351.16 2252.33,1351.45 2272.54,1351.73 2292.75,1352.02 \"/>\n<polyline clip-path=\"url(#clip362)\" style=\"stroke:#e26f46; stroke-linecap:round; stroke-linejoin:round; stroke-width:4; stroke-opacity:1; fill:none\" points=\"292.4,1386.4 312.605,1386.05 332.811,1385.71 353.016,1385.37 373.222,1385.02 393.427,1384.68 413.633,1384.34 433.838,1384 454.044,1383.66 474.249,1383.32 494.455,1382.97 514.66,1382.63 534.866,1382.29 555.071,1381.95 575.277,1381.61 595.482,1381.27 615.688,1380.93 635.893,1380.59 656.099,1380.25 676.304,1379.91 696.51,1379.57 716.715,1379.23 736.921,1378.89 757.127,1378.55 777.332,1378.21 797.538,1377.87 817.743,1377.54 837.949,1377.2 858.154,1376.86 878.36,1376.52 898.565,1376.18 918.771,1375.85 938.976,1375.51 959.182,1375.17 979.387,1374.84 999.593,1374.5 1019.8,1374.16 1040,1373.83 1060.21,1373.49 1080.41,1373.16 1100.62,1372.82 1120.83,1372.49 1141.03,1372.15 1161.24,1371.82 1181.44,1371.48 1201.65,1371.15 1221.85,1370.81 1242.06,1370.48 1262.26,1370.15 1282.47,1369.81 1302.68,1369.48 1322.88,1369.15 1343.09,1368.81 1363.29,1368.48 1383.5,1368.15 1403.7,1367.82 1423.91,1367.48 1444.11,1367.15 1464.32,1366.82 1484.53,1366.49 1504.73,1366.16 1524.94,1365.83 1545.14,1365.5 1565.35,1365.17 1585.55,1364.84 1605.76,1364.51 1625.96,1364.18 1646.17,1363.85 1666.37,1363.52 1686.58,1363.19 1706.79,1362.86 1726.99,1362.53 1747.2,1362.2 1767.4,1361.88 1787.61,1361.55 1807.81,1361.22 1828.02,1360.89 1848.22,1360.57 1868.43,1360.24 1888.64,1359.91 1908.84,1359.58 1929.05,1359.26 1949.25,1358.93 1969.46,1358.61 1989.66,1358.28 2009.87,1357.95 2030.07,1357.63 2050.28,1357.3 2070.48,1356.98 2090.69,1356.65 2110.9,1356.33 2131.1,1356 2151.31,1355.68 2171.51,1355.35 2191.72,1355.03 2211.92,1354.71 2232.13,1354.38 2252.33,1354.06 2272.54,1353.73 2292.75,1353.41 \"/>\n<polyline clip-path=\"url(#clip362)\" style=\"stroke:#3da44d; stroke-linecap:round; stroke-linejoin:round; stroke-width:4; stroke-opacity:1; fill:none\" points=\"292.4,160.256 312.605,170.018 332.811,179.781 353.016,189.544 373.222,199.309 393.427,209.074 413.633,218.84 433.838,228.607 454.044,238.375 474.249,248.144 494.455,257.913 514.66,267.684 534.866,277.455 555.071,287.227 575.277,296.999 595.482,306.773 615.688,316.547 635.893,326.323 656.099,336.098 676.304,345.875 696.51,355.653 716.715,365.431 736.921,375.21 757.127,384.989 777.332,394.77 797.538,404.551 817.743,414.333 837.949,424.115 858.154,433.899 878.36,443.683 898.565,453.467 918.771,463.253 938.976,473.039 959.182,482.825 979.387,492.613 999.593,502.4 1019.8,512.189 1040,521.978 1060.21,531.768 1080.41,541.558 1100.62,551.349 1120.83,561.141 1141.03,570.933 1161.24,580.726 1181.44,590.519 1201.65,600.313 1221.85,610.107 1242.06,619.902 1262.26,629.697 1282.47,639.492 1302.68,649.289 1322.88,659.085 1343.09,668.882 1363.29,678.68 1383.5,688.477 1403.7,698.276 1423.91,708.074 1444.11,717.873 1464.32,727.672 1484.53,737.472 1504.73,747.272 1524.94,757.072 1545.14,766.872 1565.35,776.673 1585.55,786.473 1605.76,796.274 1625.96,806.075 1646.17,815.876 1666.37,825.678 1686.58,835.479 1706.79,845.281 1726.99,855.082 1747.2,864.884 1767.4,874.685 1787.61,884.486 1807.81,894.288 1828.02,904.089 1848.22,913.89 1868.43,923.691 1888.64,933.492 1908.84,943.292 1929.05,953.092 1949.25,962.892 1969.46,972.692 1989.66,982.491 2009.87,992.29 2030.07,1002.09 2050.28,1011.89 2070.48,1021.68 2090.69,1031.48 2110.9,1041.28 2131.1,1051.07 2151.31,1060.87 2171.51,1070.66 2191.72,1080.45 2211.92,1090.25 2232.13,1100.04 2252.33,1109.83 2272.54,1119.62 2292.75,1129.41 \"/>\n<path clip-path=\"url(#clip360)\" d=\"M2027.42 374.156 L2282.08 374.156 L2282.08 166.796 L2027.42 166.796  Z\" fill=\"#ffffff\" fill-rule=\"evenodd\" fill-opacity=\"1\"/>\n<polyline clip-path=\"url(#clip360)\" style=\"stroke:#000000; stroke-linecap:round; stroke-linejoin:round; stroke-width:4; stroke-opacity:1; fill:none\" points=\"2027.42,374.156 2282.08,374.156 2282.08,166.796 2027.42,166.796 2027.42,374.156 \"/>\n<polyline clip-path=\"url(#clip360)\" style=\"stroke:#009af9; stroke-linecap:round; stroke-linejoin:round; stroke-width:4; stroke-opacity:1; fill:none\" points=\"2050.98,218.636 2192.34,218.636 \"/>\n<path clip-path=\"url(#clip360)\" d=\"M2215.9 225.684 L2215.9 209.99 L2220.16 209.99 L2220.16 225.522 Q2220.16 229.203 2221.6 231.055 Q2223.03 232.883 2225.9 232.883 Q2229.35 232.883 2231.34 230.684 Q2233.36 228.485 2233.36 224.689 L2233.36 209.99 L2237.61 209.99 L2237.61 235.916 L2233.36 235.916 L2233.36 231.934 Q2231.8 234.295 2229.74 235.453 Q2227.71 236.587 2225 236.587 Q2220.53 236.587 2218.22 233.809 Q2215.9 231.031 2215.9 225.684 M2226.62 209.365 L2226.62 209.365 Z\" fill=\"#000000\" fill-rule=\"evenodd\" fill-opacity=\"1\" /><path clip-path=\"url(#clip360)\" d=\"M2245.53 233.369 L2250.25 233.369 L2250.25 219.226 L2245.09 220.175 L2245.09 217.49 L2250.42 216.587 L2253.59 216.587 L2253.59 233.369 L2258.33 233.369 L2258.33 235.916 L2245.53 235.916 L2245.53 233.369 Z\" fill=\"#000000\" fill-rule=\"evenodd\" fill-opacity=\"1\" /><polyline clip-path=\"url(#clip360)\" style=\"stroke:#e26f46; stroke-linecap:round; stroke-linejoin:round; stroke-width:4; stroke-opacity:1; fill:none\" points=\"2050.98,270.476 2192.34,270.476 \"/>\n<path clip-path=\"url(#clip360)\" d=\"M2215.9 277.524 L2215.9 261.83 L2220.16 261.83 L2220.16 277.362 Q2220.16 281.043 2221.6 282.895 Q2223.03 284.723 2225.9 284.723 Q2229.35 284.723 2231.34 282.524 Q2233.36 280.325 2233.36 276.529 L2233.36 261.83 L2237.61 261.83 L2237.61 287.756 L2233.36 287.756 L2233.36 283.774 Q2231.8 286.135 2229.74 287.293 Q2227.71 288.427 2225 288.427 Q2220.53 288.427 2218.22 285.649 Q2215.9 282.871 2215.9 277.524 M2226.62 261.205 L2226.62 261.205 Z\" fill=\"#000000\" fill-rule=\"evenodd\" fill-opacity=\"1\" /><path clip-path=\"url(#clip360)\" d=\"M2248.12 285.117 L2257.94 285.117 L2257.94 287.756 L2244.1 287.756 L2244.1 285.209 Q2244.88 284.492 2246.34 283.196 Q2254.3 276.135 2254.3 273.959 Q2254.3 272.432 2253.1 271.506 Q2251.9 270.557 2249.93 270.557 Q2248.73 270.557 2247.31 270.973 Q2245.9 271.367 2244.24 272.177 L2244.24 269.33 Q2246.02 268.682 2247.55 268.358 Q2249.1 268.034 2250.42 268.034 Q2253.77 268.034 2255.79 269.561 Q2257.8 271.089 2257.8 273.589 Q2257.8 276.807 2250.14 283.381 Q2248.84 284.492 2248.12 285.117 Z\" fill=\"#000000\" fill-rule=\"evenodd\" fill-opacity=\"1\" /><polyline clip-path=\"url(#clip360)\" style=\"stroke:#3da44d; stroke-linecap:round; stroke-linejoin:round; stroke-width:4; stroke-opacity:1; fill:none\" points=\"2050.98,322.316 2192.34,322.316 \"/>\n<path clip-path=\"url(#clip360)\" d=\"M2215.9 329.364 L2215.9 313.67 L2220.16 313.67 L2220.16 329.202 Q2220.16 332.883 2221.6 334.735 Q2223.03 336.563 2225.9 336.563 Q2229.35 336.563 2231.34 334.364 Q2233.36 332.165 2233.36 328.369 L2233.36 313.67 L2237.61 313.67 L2237.61 339.596 L2233.36 339.596 L2233.36 335.614 Q2231.8 337.975 2229.74 339.133 Q2227.71 340.267 2225 340.267 Q2220.53 340.267 2218.22 337.489 Q2215.9 334.711 2215.9 329.364 M2226.62 313.045 L2226.62 313.045 Z\" fill=\"#000000\" fill-rule=\"evenodd\" fill-opacity=\"1\" /><path clip-path=\"url(#clip360)\" d=\"M2254.05 329.133 Q2256.18 329.549 2257.34 330.823 Q2258.52 332.073 2258.52 333.971 Q2258.52 336.841 2256.32 338.392 Q2254.12 339.943 2250.02 339.943 Q2248.7 339.943 2247.24 339.688 Q2245.81 339.457 2244.19 338.994 L2244.19 336.193 Q2245.39 336.818 2246.76 337.119 Q2248.15 337.42 2249.7 337.42 Q2252.22 337.42 2253.61 336.517 Q2255 335.591 2255 333.971 Q2255 332.258 2253.7 331.378 Q2252.43 330.499 2249.93 330.499 L2247.94 330.499 L2247.94 327.999 L2250.11 327.999 Q2252.29 327.999 2253.4 327.281 Q2254.54 326.54 2254.54 325.151 Q2254.54 323.809 2253.38 323.114 Q2252.22 322.397 2250.02 322.397 Q2249.1 322.397 2247.92 322.605 Q2246.74 322.813 2244.86 323.346 L2244.86 320.684 Q2246.55 320.29 2248.03 320.082 Q2249.51 319.874 2250.79 319.874 Q2254.12 319.874 2256.06 321.239 Q2258.03 322.605 2258.03 324.897 Q2258.03 326.494 2256.99 327.605 Q2255.95 328.716 2254.05 329.133 Z\" fill=\"#000000\" fill-rule=\"evenodd\" fill-opacity=\"1\" /></svg>\n",
      "text/html": [
       "<?xml version=\"1.0\" encoding=\"utf-8\"?>\n",
       "<svg xmlns=\"http://www.w3.org/2000/svg\" xmlns:xlink=\"http://www.w3.org/1999/xlink\" width=\"600\" height=\"400\" viewBox=\"0 0 2400 1600\">\n",
       "<defs>\n",
       "  <clipPath id=\"clip410\">\n",
       "    <rect x=\"0\" y=\"0\" width=\"2400\" height=\"1600\"/>\n",
       "  </clipPath>\n",
       "</defs>\n",
       "<path clip-path=\"url(#clip410)\" d=\"M0 1600 L2400 1600 L2400 0 L0 0  Z\" fill=\"#ffffff\" fill-rule=\"evenodd\" fill-opacity=\"1\"/>\n",
       "<defs>\n",
       "  <clipPath id=\"clip411\">\n",
       "    <rect x=\"480\" y=\"0\" width=\"1681\" height=\"1600\"/>\n",
       "  </clipPath>\n",
       "</defs>\n",
       "<path clip-path=\"url(#clip410)\" d=\"M232.389 1423.18 L2352.76 1423.18 L2352.76 123.472 L232.389 123.472  Z\" fill=\"#ffffff\" fill-rule=\"evenodd\" fill-opacity=\"1\"/>\n",
       "<defs>\n",
       "  <clipPath id=\"clip412\">\n",
       "    <rect x=\"232\" y=\"123\" width=\"2121\" height=\"1301\"/>\n",
       "  </clipPath>\n",
       "</defs>\n",
       "<polyline clip-path=\"url(#clip412)\" style=\"stroke:#000000; stroke-linecap:round; stroke-linejoin:round; stroke-width:2; stroke-opacity:0.1; fill:none\" points=\"292.4,1423.18 292.4,123.472 \"/>\n",
       "<polyline clip-path=\"url(#clip412)\" style=\"stroke:#000000; stroke-linecap:round; stroke-linejoin:round; stroke-width:2; stroke-opacity:0.1; fill:none\" points=\"797.538,1423.18 797.538,123.472 \"/>\n",
       "<polyline clip-path=\"url(#clip412)\" style=\"stroke:#000000; stroke-linecap:round; stroke-linejoin:round; stroke-width:2; stroke-opacity:0.1; fill:none\" points=\"1302.68,1423.18 1302.68,123.472 \"/>\n",
       "<polyline clip-path=\"url(#clip412)\" style=\"stroke:#000000; stroke-linecap:round; stroke-linejoin:round; stroke-width:2; stroke-opacity:0.1; fill:none\" points=\"1807.81,1423.18 1807.81,123.472 \"/>\n",
       "<polyline clip-path=\"url(#clip412)\" style=\"stroke:#000000; stroke-linecap:round; stroke-linejoin:round; stroke-width:2; stroke-opacity:0.1; fill:none\" points=\"2312.95,1423.18 2312.95,123.472 \"/>\n",
       "<polyline clip-path=\"url(#clip410)\" style=\"stroke:#000000; stroke-linecap:round; stroke-linejoin:round; stroke-width:4; stroke-opacity:1; fill:none\" points=\"232.389,1423.18 2352.76,1423.18 \"/>\n",
       "<polyline clip-path=\"url(#clip410)\" style=\"stroke:#000000; stroke-linecap:round; stroke-linejoin:round; stroke-width:4; stroke-opacity:1; fill:none\" points=\"292.4,1423.18 292.4,1404.28 \"/>\n",
       "<polyline clip-path=\"url(#clip410)\" style=\"stroke:#000000; stroke-linecap:round; stroke-linejoin:round; stroke-width:4; stroke-opacity:1; fill:none\" points=\"797.538,1423.18 797.538,1404.28 \"/>\n",
       "<polyline clip-path=\"url(#clip410)\" style=\"stroke:#000000; stroke-linecap:round; stroke-linejoin:round; stroke-width:4; stroke-opacity:1; fill:none\" points=\"1302.68,1423.18 1302.68,1404.28 \"/>\n",
       "<polyline clip-path=\"url(#clip410)\" style=\"stroke:#000000; stroke-linecap:round; stroke-linejoin:round; stroke-width:4; stroke-opacity:1; fill:none\" points=\"1807.81,1423.18 1807.81,1404.28 \"/>\n",
       "<polyline clip-path=\"url(#clip410)\" style=\"stroke:#000000; stroke-linecap:round; stroke-linejoin:round; stroke-width:4; stroke-opacity:1; fill:none\" points=\"2312.95,1423.18 2312.95,1404.28 \"/>\n",
       "<path clip-path=\"url(#clip410)\" d=\"M269.784 1454.1 Q266.173 1454.1 264.344 1457.66 Q262.539 1461.2 262.539 1468.33 Q262.539 1475.44 264.344 1479.01 Q266.173 1482.55 269.784 1482.55 Q273.418 1482.55 275.224 1479.01 Q277.053 1475.44 277.053 1468.33 Q277.053 1461.2 275.224 1457.66 Q273.418 1454.1 269.784 1454.1 M269.784 1450.39 Q275.594 1450.39 278.65 1455 Q281.728 1459.58 281.728 1468.33 Q281.728 1477.06 278.65 1481.67 Q275.594 1486.25 269.784 1486.25 Q263.974 1486.25 260.895 1481.67 Q257.84 1477.06 257.84 1468.33 Q257.84 1459.58 260.895 1455 Q263.974 1450.39 269.784 1450.39 Z\" fill=\"#000000\" fill-rule=\"evenodd\" fill-opacity=\"1\" /><path clip-path=\"url(#clip410)\" d=\"M289.946 1479.7 L294.83 1479.7 L294.83 1485.58 L289.946 1485.58 L289.946 1479.7 Z\" fill=\"#000000\" fill-rule=\"evenodd\" fill-opacity=\"1\" /><path clip-path=\"url(#clip410)\" d=\"M315.015 1454.1 Q311.404 1454.1 309.576 1457.66 Q307.77 1461.2 307.77 1468.33 Q307.77 1475.44 309.576 1479.01 Q311.404 1482.55 315.015 1482.55 Q318.65 1482.55 320.455 1479.01 Q322.284 1475.44 322.284 1468.33 Q322.284 1461.2 320.455 1457.66 Q318.65 1454.1 315.015 1454.1 M315.015 1450.39 Q320.825 1450.39 323.881 1455 Q326.96 1459.58 326.96 1468.33 Q326.96 1477.06 323.881 1481.67 Q320.825 1486.25 315.015 1486.25 Q309.205 1486.25 306.126 1481.67 Q303.071 1477.06 303.071 1468.33 Q303.071 1459.58 306.126 1455 Q309.205 1450.39 315.015 1450.39 Z\" fill=\"#000000\" fill-rule=\"evenodd\" fill-opacity=\"1\" /><path clip-path=\"url(#clip410)\" d=\"M769.274 1481.64 L785.593 1481.64 L785.593 1485.58 L763.649 1485.58 L763.649 1481.64 Q766.311 1478.89 770.894 1474.26 Q775.501 1469.61 776.681 1468.27 Q778.927 1465.74 779.806 1464.01 Q780.709 1462.25 780.709 1460.56 Q780.709 1457.8 778.765 1456.07 Q776.843 1454.33 773.741 1454.33 Q771.542 1454.33 769.089 1455.09 Q766.658 1455.86 763.88 1457.41 L763.88 1452.69 Q766.704 1451.55 769.158 1450.97 Q771.612 1450.39 773.649 1450.39 Q779.019 1450.39 782.214 1453.08 Q785.408 1455.77 785.408 1460.26 Q785.408 1462.39 784.598 1464.31 Q783.811 1466.2 781.704 1468.8 Q781.126 1469.47 778.024 1472.69 Q774.922 1475.88 769.274 1481.64 Z\" fill=\"#000000\" fill-rule=\"evenodd\" fill-opacity=\"1\" /><path clip-path=\"url(#clip410)\" d=\"M795.408 1479.7 L800.292 1479.7 L800.292 1485.58 L795.408 1485.58 L795.408 1479.7 Z\" fill=\"#000000\" fill-rule=\"evenodd\" fill-opacity=\"1\" /><path clip-path=\"url(#clip410)\" d=\"M810.524 1451.02 L828.88 1451.02 L828.88 1454.96 L814.806 1454.96 L814.806 1463.43 Q815.824 1463.08 816.843 1462.92 Q817.862 1462.73 818.88 1462.73 Q824.667 1462.73 828.047 1465.9 Q831.426 1469.08 831.426 1474.49 Q831.426 1480.07 827.954 1483.17 Q824.482 1486.25 818.162 1486.25 Q815.987 1486.25 813.718 1485.88 Q811.473 1485.51 809.065 1484.77 L809.065 1480.07 Q811.149 1481.2 813.371 1481.76 Q815.593 1482.32 818.07 1482.32 Q822.074 1482.32 824.412 1480.21 Q826.75 1478.1 826.75 1474.49 Q826.75 1470.88 824.412 1468.77 Q822.074 1466.67 818.07 1466.67 Q816.195 1466.67 814.32 1467.08 Q812.468 1467.5 810.524 1468.38 L810.524 1451.02 Z\" fill=\"#000000\" fill-rule=\"evenodd\" fill-opacity=\"1\" /><path clip-path=\"url(#clip410)\" d=\"M1269.84 1451.02 L1288.2 1451.02 L1288.2 1454.96 L1274.12 1454.96 L1274.12 1463.43 Q1275.14 1463.08 1276.16 1462.92 Q1277.18 1462.73 1278.2 1462.73 Q1283.98 1462.73 1287.36 1465.9 Q1290.74 1469.08 1290.74 1474.49 Q1290.74 1480.07 1287.27 1483.17 Q1283.8 1486.25 1277.48 1486.25 Q1275.3 1486.25 1273.03 1485.88 Q1270.79 1485.51 1268.38 1484.77 L1268.38 1480.07 Q1270.46 1481.2 1272.69 1481.76 Q1274.91 1482.32 1277.39 1482.32 Q1281.39 1482.32 1283.73 1480.21 Q1286.07 1478.1 1286.07 1474.49 Q1286.07 1470.88 1283.73 1468.77 Q1281.39 1466.67 1277.39 1466.67 Q1275.51 1466.67 1273.64 1467.08 Q1271.78 1467.5 1269.84 1468.38 L1269.84 1451.02 Z\" fill=\"#000000\" fill-rule=\"evenodd\" fill-opacity=\"1\" /><path clip-path=\"url(#clip410)\" d=\"M1299.96 1479.7 L1304.84 1479.7 L1304.84 1485.58 L1299.96 1485.58 L1299.96 1479.7 Z\" fill=\"#000000\" fill-rule=\"evenodd\" fill-opacity=\"1\" /><path clip-path=\"url(#clip410)\" d=\"M1325.02 1454.1 Q1321.41 1454.1 1319.59 1457.66 Q1317.78 1461.2 1317.78 1468.33 Q1317.78 1475.44 1319.59 1479.01 Q1321.41 1482.55 1325.02 1482.55 Q1328.66 1482.55 1330.46 1479.01 Q1332.29 1475.44 1332.29 1468.33 Q1332.29 1461.2 1330.46 1457.66 Q1328.66 1454.1 1325.02 1454.1 M1325.02 1450.39 Q1330.83 1450.39 1333.89 1455 Q1336.97 1459.58 1336.97 1468.33 Q1336.97 1477.06 1333.89 1481.67 Q1330.83 1486.25 1325.02 1486.25 Q1319.21 1486.25 1316.14 1481.67 Q1313.08 1477.06 1313.08 1468.33 Q1313.08 1459.58 1316.14 1455 Q1319.21 1450.39 1325.02 1450.39 Z\" fill=\"#000000\" fill-rule=\"evenodd\" fill-opacity=\"1\" /><path clip-path=\"url(#clip410)\" d=\"M1774.13 1451.02 L1796.35 1451.02 L1796.35 1453.01 L1783.81 1485.58 L1778.92 1485.58 L1790.73 1454.96 L1774.13 1454.96 L1774.13 1451.02 Z\" fill=\"#000000\" fill-rule=\"evenodd\" fill-opacity=\"1\" /><path clip-path=\"url(#clip410)\" d=\"M1805.48 1479.7 L1810.36 1479.7 L1810.36 1485.58 L1805.48 1485.58 L1805.48 1479.7 Z\" fill=\"#000000\" fill-rule=\"evenodd\" fill-opacity=\"1\" /><path clip-path=\"url(#clip410)\" d=\"M1820.59 1451.02 L1838.95 1451.02 L1838.95 1454.96 L1824.87 1454.96 L1824.87 1463.43 Q1825.89 1463.08 1826.91 1462.92 Q1827.93 1462.73 1828.95 1462.73 Q1834.73 1462.73 1838.11 1465.9 Q1841.49 1469.08 1841.49 1474.49 Q1841.49 1480.07 1838.02 1483.17 Q1834.55 1486.25 1828.23 1486.25 Q1826.05 1486.25 1823.79 1485.88 Q1821.54 1485.51 1819.13 1484.77 L1819.13 1480.07 Q1821.22 1481.2 1823.44 1481.76 Q1825.66 1482.32 1828.14 1482.32 Q1832.14 1482.32 1834.48 1480.21 Q1836.82 1478.1 1836.82 1474.49 Q1836.82 1470.88 1834.48 1468.77 Q1832.14 1466.67 1828.14 1466.67 Q1826.26 1466.67 1824.39 1467.08 Q1822.54 1467.5 1820.59 1468.38 L1820.59 1451.02 Z\" fill=\"#000000\" fill-rule=\"evenodd\" fill-opacity=\"1\" /><path clip-path=\"url(#clip410)\" d=\"M2265.02 1481.64 L2272.66 1481.64 L2272.66 1455.28 L2264.35 1456.95 L2264.35 1452.69 L2272.62 1451.02 L2277.29 1451.02 L2277.29 1481.64 L2284.93 1481.64 L2284.93 1485.58 L2265.02 1485.58 L2265.02 1481.64 Z\" fill=\"#000000\" fill-rule=\"evenodd\" fill-opacity=\"1\" /><path clip-path=\"url(#clip410)\" d=\"M2304.37 1454.1 Q2300.76 1454.1 2298.93 1457.66 Q2297.13 1461.2 2297.13 1468.33 Q2297.13 1475.44 2298.93 1479.01 Q2300.76 1482.55 2304.37 1482.55 Q2308.01 1482.55 2309.81 1479.01 Q2311.64 1475.44 2311.64 1468.33 Q2311.64 1461.2 2309.81 1457.66 Q2308.01 1454.1 2304.37 1454.1 M2304.37 1450.39 Q2310.18 1450.39 2313.24 1455 Q2316.32 1459.58 2316.32 1468.33 Q2316.32 1477.06 2313.24 1481.67 Q2310.18 1486.25 2304.37 1486.25 Q2298.56 1486.25 2295.49 1481.67 Q2292.43 1477.06 2292.43 1468.33 Q2292.43 1459.58 2295.49 1455 Q2298.56 1450.39 2304.37 1450.39 Z\" fill=\"#000000\" fill-rule=\"evenodd\" fill-opacity=\"1\" /><path clip-path=\"url(#clip410)\" d=\"M2324.54 1479.7 L2329.42 1479.7 L2329.42 1485.58 L2324.54 1485.58 L2324.54 1479.7 Z\" fill=\"#000000\" fill-rule=\"evenodd\" fill-opacity=\"1\" /><path clip-path=\"url(#clip410)\" d=\"M2349.61 1454.1 Q2345.99 1454.1 2344.17 1457.66 Q2342.36 1461.2 2342.36 1468.33 Q2342.36 1475.44 2344.17 1479.01 Q2345.99 1482.55 2349.61 1482.55 Q2353.24 1482.55 2355.05 1479.01 Q2356.87 1475.44 2356.87 1468.33 Q2356.87 1461.2 2355.05 1457.66 Q2353.24 1454.1 2349.61 1454.1 M2349.61 1450.39 Q2355.42 1450.39 2358.47 1455 Q2361.55 1459.58 2361.55 1468.33 Q2361.55 1477.06 2358.47 1481.67 Q2355.42 1486.25 2349.61 1486.25 Q2343.8 1486.25 2340.72 1481.67 Q2337.66 1477.06 2337.66 1468.33 Q2337.66 1459.58 2340.72 1455 Q2343.8 1450.39 2349.61 1450.39 Z\" fill=\"#000000\" fill-rule=\"evenodd\" fill-opacity=\"1\" /><path clip-path=\"url(#clip410)\" d=\"M1180.03 1522.27 L1180.03 1532.4 L1192.09 1532.4 L1192.09 1536.95 L1180.03 1536.95 L1180.03 1556.3 Q1180.03 1560.66 1181.2 1561.9 Q1182.41 1563.14 1186.07 1563.14 L1192.09 1563.14 L1192.09 1568.04 L1186.07 1568.04 Q1179.29 1568.04 1176.72 1565.53 Q1174.14 1562.98 1174.14 1556.3 L1174.14 1536.95 L1169.84 1536.95 L1169.84 1532.4 L1174.14 1532.4 L1174.14 1522.27 L1180.03 1522.27 Z\" fill=\"#000000\" fill-rule=\"evenodd\" fill-opacity=\"1\" /><path clip-path=\"url(#clip410)\" d=\"M1199.79 1532.4 L1205.65 1532.4 L1205.65 1568.04 L1199.79 1568.04 L1199.79 1532.4 M1199.79 1518.52 L1205.65 1518.52 L1205.65 1525.93 L1199.79 1525.93 L1199.79 1518.52 Z\" fill=\"#000000\" fill-rule=\"evenodd\" fill-opacity=\"1\" /><path clip-path=\"url(#clip410)\" d=\"M1245.66 1539.24 Q1247.85 1535.29 1250.91 1533.41 Q1253.96 1531.54 1258.1 1531.54 Q1263.67 1531.54 1266.7 1535.45 Q1269.72 1539.33 1269.72 1546.53 L1269.72 1568.04 L1263.83 1568.04 L1263.83 1546.72 Q1263.83 1541.59 1262.02 1539.11 Q1260.2 1536.63 1256.48 1536.63 Q1251.93 1536.63 1249.29 1539.65 Q1246.64 1542.68 1246.64 1547.9 L1246.64 1568.04 L1240.76 1568.04 L1240.76 1546.72 Q1240.76 1541.56 1238.94 1539.11 Q1237.13 1536.63 1233.34 1536.63 Q1228.85 1536.63 1226.21 1539.68 Q1223.57 1542.71 1223.57 1547.9 L1223.57 1568.04 L1217.68 1568.04 L1217.68 1532.4 L1223.57 1532.4 L1223.57 1537.93 Q1225.57 1534.66 1228.37 1533.1 Q1231.18 1531.54 1235.03 1531.54 Q1238.91 1531.54 1241.62 1533.51 Q1244.35 1535.48 1245.66 1539.24 Z\" fill=\"#000000\" fill-rule=\"evenodd\" fill-opacity=\"1\" /><path clip-path=\"url(#clip410)\" d=\"M1311.89 1548.76 L1311.89 1551.62 L1284.97 1551.62 Q1285.35 1557.67 1288.59 1560.85 Q1291.87 1564 1297.7 1564 Q1301.07 1564 1304.22 1563.17 Q1307.4 1562.35 1310.52 1560.69 L1310.52 1566.23 Q1307.37 1567.57 1304.06 1568.27 Q1300.75 1568.97 1297.35 1568.97 Q1288.82 1568.97 1283.82 1564 Q1278.85 1559.04 1278.85 1550.57 Q1278.85 1541.82 1283.57 1536.69 Q1288.31 1531.54 1296.33 1531.54 Q1303.52 1531.54 1307.69 1536.18 Q1311.89 1540.8 1311.89 1548.76 M1306.04 1547.04 Q1305.97 1542.23 1303.33 1539.37 Q1300.72 1536.5 1296.39 1536.5 Q1291.49 1536.5 1288.53 1539.27 Q1285.6 1542.04 1285.16 1547.07 L1306.04 1547.04 Z\" fill=\"#000000\" fill-rule=\"evenodd\" fill-opacity=\"1\" /><path clip-path=\"url(#clip410)\" d=\"M1356.29 1518.58 Q1352.03 1525.9 1349.96 1533.06 Q1347.89 1540.23 1347.89 1547.58 Q1347.89 1554.93 1349.96 1562.16 Q1352.06 1569.35 1356.29 1576.64 L1351.2 1576.64 Q1346.43 1569.16 1344.04 1561.93 Q1341.68 1554.71 1341.68 1547.58 Q1341.68 1540.48 1344.04 1533.29 Q1346.39 1526.09 1351.2 1518.58 L1356.29 1518.58 Z\" fill=\"#000000\" fill-rule=\"evenodd\" fill-opacity=\"1\" /><path clip-path=\"url(#clip410)\" d=\"M1390.38 1533.45 L1390.38 1538.98 Q1387.9 1537.71 1385.23 1537.07 Q1382.55 1536.44 1379.69 1536.44 Q1375.33 1536.44 1373.13 1537.77 Q1370.97 1539.11 1370.97 1541.79 Q1370.97 1543.82 1372.53 1545 Q1374.09 1546.15 1378.8 1547.2 L1380.8 1547.64 Q1387.04 1548.98 1389.65 1551.43 Q1392.29 1553.85 1392.29 1558.21 Q1392.29 1563.17 1388.34 1566.07 Q1384.43 1568.97 1377.55 1568.97 Q1374.69 1568.97 1371.57 1568.39 Q1368.48 1567.85 1365.05 1566.74 L1365.05 1560.69 Q1368.29 1562.38 1371.44 1563.24 Q1374.59 1564.07 1377.68 1564.07 Q1381.82 1564.07 1384.05 1562.66 Q1386.28 1561.23 1386.28 1558.65 Q1386.28 1556.27 1384.65 1554.99 Q1383.06 1553.72 1377.62 1552.54 L1375.58 1552.07 Q1370.14 1550.92 1367.72 1548.56 Q1365.3 1546.18 1365.3 1542.04 Q1365.3 1537.01 1368.87 1534.27 Q1372.43 1531.54 1378.99 1531.54 Q1382.23 1531.54 1385.1 1532.01 Q1387.96 1532.49 1390.38 1533.45 Z\" fill=\"#000000\" fill-rule=\"evenodd\" fill-opacity=\"1\" /><path clip-path=\"url(#clip410)\" d=\"M1400.69 1518.58 L1405.79 1518.58 Q1410.56 1526.09 1412.92 1533.29 Q1415.3 1540.48 1415.3 1547.58 Q1415.3 1554.71 1412.92 1561.93 Q1410.56 1569.16 1405.79 1576.64 L1400.69 1576.64 Q1404.93 1569.35 1407 1562.16 Q1409.1 1554.93 1409.1 1547.58 Q1409.1 1540.23 1407 1533.06 Q1404.93 1525.9 1400.69 1518.58 Z\" fill=\"#000000\" fill-rule=\"evenodd\" fill-opacity=\"1\" /><polyline clip-path=\"url(#clip412)\" style=\"stroke:#000000; stroke-linecap:round; stroke-linejoin:round; stroke-width:2; stroke-opacity:0.1; fill:none\" points=\"232.389,1353.42 2352.76,1353.42 \"/>\n",
       "<polyline clip-path=\"url(#clip412)\" style=\"stroke:#000000; stroke-linecap:round; stroke-linejoin:round; stroke-width:2; stroke-opacity:0.1; fill:none\" points=\"232.389,1161.95 2352.76,1161.95 \"/>\n",
       "<polyline clip-path=\"url(#clip412)\" style=\"stroke:#000000; stroke-linecap:round; stroke-linejoin:round; stroke-width:2; stroke-opacity:0.1; fill:none\" points=\"232.389,970.474 2352.76,970.474 \"/>\n",
       "<polyline clip-path=\"url(#clip412)\" style=\"stroke:#000000; stroke-linecap:round; stroke-linejoin:round; stroke-width:2; stroke-opacity:0.1; fill:none\" points=\"232.389,778.999 2352.76,778.999 \"/>\n",
       "<polyline clip-path=\"url(#clip412)\" style=\"stroke:#000000; stroke-linecap:round; stroke-linejoin:round; stroke-width:2; stroke-opacity:0.1; fill:none\" points=\"232.389,587.524 2352.76,587.524 \"/>\n",
       "<polyline clip-path=\"url(#clip412)\" style=\"stroke:#000000; stroke-linecap:round; stroke-linejoin:round; stroke-width:2; stroke-opacity:0.1; fill:none\" points=\"232.389,396.049 2352.76,396.049 \"/>\n",
       "<polyline clip-path=\"url(#clip412)\" style=\"stroke:#000000; stroke-linecap:round; stroke-linejoin:round; stroke-width:2; stroke-opacity:0.1; fill:none\" points=\"232.389,204.575 2352.76,204.575 \"/>\n",
       "<polyline clip-path=\"url(#clip410)\" style=\"stroke:#000000; stroke-linecap:round; stroke-linejoin:round; stroke-width:4; stroke-opacity:1; fill:none\" points=\"232.389,1423.18 232.389,123.472 \"/>\n",
       "<polyline clip-path=\"url(#clip410)\" style=\"stroke:#000000; stroke-linecap:round; stroke-linejoin:round; stroke-width:4; stroke-opacity:1; fill:none\" points=\"232.389,1353.42 251.287,1353.42 \"/>\n",
       "<polyline clip-path=\"url(#clip410)\" style=\"stroke:#000000; stroke-linecap:round; stroke-linejoin:round; stroke-width:4; stroke-opacity:1; fill:none\" points=\"232.389,1161.95 251.287,1161.95 \"/>\n",
       "<polyline clip-path=\"url(#clip410)\" style=\"stroke:#000000; stroke-linecap:round; stroke-linejoin:round; stroke-width:4; stroke-opacity:1; fill:none\" points=\"232.389,970.474 251.287,970.474 \"/>\n",
       "<polyline clip-path=\"url(#clip410)\" style=\"stroke:#000000; stroke-linecap:round; stroke-linejoin:round; stroke-width:4; stroke-opacity:1; fill:none\" points=\"232.389,778.999 251.287,778.999 \"/>\n",
       "<polyline clip-path=\"url(#clip410)\" style=\"stroke:#000000; stroke-linecap:round; stroke-linejoin:round; stroke-width:4; stroke-opacity:1; fill:none\" points=\"232.389,587.524 251.287,587.524 \"/>\n",
       "<polyline clip-path=\"url(#clip410)\" style=\"stroke:#000000; stroke-linecap:round; stroke-linejoin:round; stroke-width:4; stroke-opacity:1; fill:none\" points=\"232.389,396.049 251.287,396.049 \"/>\n",
       "<polyline clip-path=\"url(#clip410)\" style=\"stroke:#000000; stroke-linecap:round; stroke-linejoin:round; stroke-width:4; stroke-opacity:1; fill:none\" points=\"232.389,204.575 251.287,204.575 \"/>\n",
       "<path clip-path=\"url(#clip410)\" d=\"M184.445 1339.22 Q180.834 1339.22 179.005 1342.79 Q177.2 1346.33 177.2 1353.46 Q177.2 1360.56 179.005 1364.13 Q180.834 1367.67 184.445 1367.67 Q188.079 1367.67 189.885 1364.13 Q191.713 1360.56 191.713 1353.46 Q191.713 1346.33 189.885 1342.79 Q188.079 1339.22 184.445 1339.22 M184.445 1335.52 Q190.255 1335.52 193.311 1340.12 Q196.389 1344.71 196.389 1353.46 Q196.389 1362.18 193.311 1366.79 Q190.255 1371.37 184.445 1371.37 Q178.635 1371.37 175.556 1366.79 Q172.501 1362.18 172.501 1353.46 Q172.501 1344.71 175.556 1340.12 Q178.635 1335.52 184.445 1335.52 Z\" fill=\"#000000\" fill-rule=\"evenodd\" fill-opacity=\"1\" /><path clip-path=\"url(#clip410)\" d=\"M148.311 1175.29 L164.63 1175.29 L164.63 1179.23 L142.686 1179.23 L142.686 1175.29 Q145.348 1172.54 149.931 1167.91 Q154.538 1163.26 155.718 1161.91 Q157.964 1159.39 158.843 1157.65 Q159.746 1155.9 159.746 1154.21 Q159.746 1151.45 157.802 1149.71 Q155.88 1147.98 152.778 1147.98 Q150.579 1147.98 148.126 1148.74 Q145.695 1149.51 142.917 1151.06 L142.917 1146.34 Q145.741 1145.2 148.195 1144.62 Q150.649 1144.04 152.686 1144.04 Q158.056 1144.04 161.251 1146.73 Q164.445 1149.41 164.445 1153.9 Q164.445 1156.03 163.635 1157.96 Q162.848 1159.85 160.741 1162.45 Q160.163 1163.12 157.061 1166.34 Q153.959 1169.53 148.311 1175.29 Z\" fill=\"#000000\" fill-rule=\"evenodd\" fill-opacity=\"1\" /><path clip-path=\"url(#clip410)\" d=\"M184.445 1147.75 Q180.834 1147.75 179.005 1151.31 Q177.2 1154.85 177.2 1161.98 Q177.2 1169.09 179.005 1172.65 Q180.834 1176.2 184.445 1176.2 Q188.079 1176.2 189.885 1172.65 Q191.713 1169.09 191.713 1161.98 Q191.713 1154.85 189.885 1151.31 Q188.079 1147.75 184.445 1147.75 M184.445 1144.04 Q190.255 1144.04 193.311 1148.65 Q196.389 1153.23 196.389 1161.98 Q196.389 1170.71 193.311 1175.32 Q190.255 1179.9 184.445 1179.9 Q178.635 1179.9 175.556 1175.32 Q172.501 1170.71 172.501 1161.98 Q172.501 1153.23 175.556 1148.65 Q178.635 1144.04 184.445 1144.04 Z\" fill=\"#000000\" fill-rule=\"evenodd\" fill-opacity=\"1\" /><path clip-path=\"url(#clip410)\" d=\"M157.13 957.268 L145.325 975.717 L157.13 975.717 L157.13 957.268 M155.903 953.194 L161.783 953.194 L161.783 975.717 L166.714 975.717 L166.714 979.606 L161.783 979.606 L161.783 987.754 L157.13 987.754 L157.13 979.606 L141.529 979.606 L141.529 975.092 L155.903 953.194 Z\" fill=\"#000000\" fill-rule=\"evenodd\" fill-opacity=\"1\" /><path clip-path=\"url(#clip410)\" d=\"M184.445 956.272 Q180.834 956.272 179.005 959.837 Q177.2 963.379 177.2 970.508 Q177.2 977.615 179.005 981.18 Q180.834 984.721 184.445 984.721 Q188.079 984.721 189.885 981.18 Q191.713 977.615 191.713 970.508 Q191.713 963.379 189.885 959.837 Q188.079 956.272 184.445 956.272 M184.445 952.569 Q190.255 952.569 193.311 957.175 Q196.389 961.759 196.389 970.508 Q196.389 979.235 193.311 983.842 Q190.255 988.425 184.445 988.425 Q178.635 988.425 175.556 983.842 Q172.501 979.235 172.501 970.508 Q172.501 961.759 175.556 957.175 Q178.635 952.569 184.445 952.569 Z\" fill=\"#000000\" fill-rule=\"evenodd\" fill-opacity=\"1\" /><path clip-path=\"url(#clip410)\" d=\"M154.862 777.136 Q151.714 777.136 149.862 779.288 Q148.033 781.441 148.033 785.191 Q148.033 788.918 149.862 791.094 Q151.714 793.247 154.862 793.247 Q158.01 793.247 159.839 791.094 Q161.69 788.918 161.69 785.191 Q161.69 781.441 159.839 779.288 Q158.01 777.136 154.862 777.136 M164.144 762.483 L164.144 766.742 Q162.385 765.909 160.579 765.469 Q158.797 765.029 157.038 765.029 Q152.408 765.029 149.954 768.154 Q147.524 771.279 147.177 777.598 Q148.542 775.585 150.603 774.52 Q152.663 773.432 155.14 773.432 Q160.348 773.432 163.357 776.603 Q166.39 779.751 166.39 785.191 Q166.39 790.515 163.241 793.733 Q160.093 796.95 154.862 796.95 Q148.866 796.95 145.695 792.367 Q142.524 787.76 142.524 779.034 Q142.524 770.839 146.413 765.978 Q150.302 761.094 156.853 761.094 Q158.612 761.094 160.394 761.441 Q162.2 761.788 164.144 762.483 Z\" fill=\"#000000\" fill-rule=\"evenodd\" fill-opacity=\"1\" /><path clip-path=\"url(#clip410)\" d=\"M184.445 764.798 Q180.834 764.798 179.005 768.362 Q177.2 771.904 177.2 779.034 Q177.2 786.14 179.005 789.705 Q180.834 793.247 184.445 793.247 Q188.079 793.247 189.885 789.705 Q191.713 786.14 191.713 779.034 Q191.713 771.904 189.885 768.362 Q188.079 764.798 184.445 764.798 M184.445 761.094 Q190.255 761.094 193.311 765.7 Q196.389 770.284 196.389 779.034 Q196.389 787.76 193.311 792.367 Q190.255 796.95 184.445 796.95 Q178.635 796.95 175.556 792.367 Q172.501 787.76 172.501 779.034 Q172.501 770.284 175.556 765.7 Q178.635 761.094 184.445 761.094 Z\" fill=\"#000000\" fill-rule=\"evenodd\" fill-opacity=\"1\" /><path clip-path=\"url(#clip410)\" d=\"M154.283 588.392 Q150.95 588.392 149.028 590.175 Q147.13 591.957 147.13 595.082 Q147.13 598.207 149.028 599.989 Q150.95 601.772 154.283 601.772 Q157.616 601.772 159.538 599.989 Q161.459 598.184 161.459 595.082 Q161.459 591.957 159.538 590.175 Q157.64 588.392 154.283 588.392 M149.607 586.401 Q146.598 585.661 144.908 583.601 Q143.241 581.54 143.241 578.577 Q143.241 574.434 146.181 572.027 Q149.144 569.619 154.283 569.619 Q159.445 569.619 162.385 572.027 Q165.325 574.434 165.325 578.577 Q165.325 581.54 163.635 583.601 Q161.968 585.661 158.982 586.401 Q162.362 587.188 164.237 589.48 Q166.135 591.772 166.135 595.082 Q166.135 600.105 163.056 602.79 Q160.001 605.475 154.283 605.475 Q148.566 605.475 145.487 602.79 Q142.431 600.105 142.431 595.082 Q142.431 591.772 144.329 589.48 Q146.228 587.188 149.607 586.401 M147.894 579.017 Q147.894 581.702 149.561 583.207 Q151.251 584.712 154.283 584.712 Q157.292 584.712 158.982 583.207 Q160.695 581.702 160.695 579.017 Q160.695 576.332 158.982 574.827 Q157.292 573.323 154.283 573.323 Q151.251 573.323 149.561 574.827 Q147.894 576.332 147.894 579.017 Z\" fill=\"#000000\" fill-rule=\"evenodd\" fill-opacity=\"1\" /><path clip-path=\"url(#clip410)\" d=\"M184.445 573.323 Q180.834 573.323 179.005 576.888 Q177.2 580.429 177.2 587.559 Q177.2 594.665 179.005 598.23 Q180.834 601.772 184.445 601.772 Q188.079 601.772 189.885 598.23 Q191.713 594.665 191.713 587.559 Q191.713 580.429 189.885 576.888 Q188.079 573.323 184.445 573.323 M184.445 569.619 Q190.255 569.619 193.311 574.226 Q196.389 578.809 196.389 587.559 Q196.389 596.286 193.311 600.892 Q190.255 605.475 184.445 605.475 Q178.635 605.475 175.556 600.892 Q172.501 596.286 172.501 587.559 Q172.501 578.809 175.556 574.226 Q178.635 569.619 184.445 569.619 Z\" fill=\"#000000\" fill-rule=\"evenodd\" fill-opacity=\"1\" /><path clip-path=\"url(#clip410)\" d=\"M114.931 409.394 L122.57 409.394 L122.57 383.029 L114.26 384.695 L114.26 380.436 L122.524 378.769 L127.2 378.769 L127.2 409.394 L134.839 409.394 L134.839 413.329 L114.931 413.329 L114.931 409.394 Z\" fill=\"#000000\" fill-rule=\"evenodd\" fill-opacity=\"1\" /><path clip-path=\"url(#clip410)\" d=\"M154.283 381.848 Q150.672 381.848 148.843 385.413 Q147.038 388.954 147.038 396.084 Q147.038 403.19 148.843 406.755 Q150.672 410.297 154.283 410.297 Q157.917 410.297 159.723 406.755 Q161.552 403.19 161.552 396.084 Q161.552 388.954 159.723 385.413 Q157.917 381.848 154.283 381.848 M154.283 378.144 Q160.093 378.144 163.149 382.751 Q166.227 387.334 166.227 396.084 Q166.227 404.811 163.149 409.417 Q160.093 414.001 154.283 414.001 Q148.473 414.001 145.394 409.417 Q142.339 404.811 142.339 396.084 Q142.339 387.334 145.394 382.751 Q148.473 378.144 154.283 378.144 Z\" fill=\"#000000\" fill-rule=\"evenodd\" fill-opacity=\"1\" /><path clip-path=\"url(#clip410)\" d=\"M184.445 381.848 Q180.834 381.848 179.005 385.413 Q177.2 388.954 177.2 396.084 Q177.2 403.19 179.005 406.755 Q180.834 410.297 184.445 410.297 Q188.079 410.297 189.885 406.755 Q191.713 403.19 191.713 396.084 Q191.713 388.954 189.885 385.413 Q188.079 381.848 184.445 381.848 M184.445 378.144 Q190.255 378.144 193.311 382.751 Q196.389 387.334 196.389 396.084 Q196.389 404.811 193.311 409.417 Q190.255 414.001 184.445 414.001 Q178.635 414.001 175.556 409.417 Q172.501 404.811 172.501 396.084 Q172.501 387.334 175.556 382.751 Q178.635 378.144 184.445 378.144 Z\" fill=\"#000000\" fill-rule=\"evenodd\" fill-opacity=\"1\" /><path clip-path=\"url(#clip410)\" d=\"M114.931 217.919 L122.57 217.919 L122.57 191.554 L114.26 193.22 L114.26 188.961 L122.524 187.295 L127.2 187.295 L127.2 217.919 L134.839 217.919 L134.839 221.855 L114.931 221.855 L114.931 217.919 Z\" fill=\"#000000\" fill-rule=\"evenodd\" fill-opacity=\"1\" /><path clip-path=\"url(#clip410)\" d=\"M148.311 217.919 L164.63 217.919 L164.63 221.855 L142.686 221.855 L142.686 217.919 Q145.348 215.165 149.931 210.535 Q154.538 205.882 155.718 204.54 Q157.964 202.017 158.843 200.281 Q159.746 198.521 159.746 196.831 Q159.746 194.077 157.802 192.341 Q155.88 190.605 152.778 190.605 Q150.579 190.605 148.126 191.369 Q145.695 192.132 142.917 193.683 L142.917 188.961 Q145.741 187.827 148.195 187.248 Q150.649 186.67 152.686 186.67 Q158.056 186.67 161.251 189.355 Q164.445 192.04 164.445 196.531 Q164.445 198.66 163.635 200.581 Q162.848 202.48 160.741 205.072 Q160.163 205.743 157.061 208.961 Q153.959 212.155 148.311 217.919 Z\" fill=\"#000000\" fill-rule=\"evenodd\" fill-opacity=\"1\" /><path clip-path=\"url(#clip410)\" d=\"M184.445 190.373 Q180.834 190.373 179.005 193.938 Q177.2 197.48 177.2 204.609 Q177.2 211.716 179.005 215.28 Q180.834 218.822 184.445 218.822 Q188.079 218.822 189.885 215.28 Q191.713 211.716 191.713 204.609 Q191.713 197.48 189.885 193.938 Q188.079 190.373 184.445 190.373 M184.445 186.67 Q190.255 186.67 193.311 191.276 Q196.389 195.859 196.389 204.609 Q196.389 213.336 193.311 217.942 Q190.255 222.526 184.445 222.526 Q178.635 222.526 175.556 217.942 Q172.501 213.336 172.501 204.609 Q172.501 195.859 175.556 191.276 Q178.635 186.67 184.445 186.67 Z\" fill=\"#000000\" fill-rule=\"evenodd\" fill-opacity=\"1\" /><path clip-path=\"url(#clip410)\" d=\"M49.9359 788.254 L28.3562 788.254 L28.3562 782.397 L49.7131 782.397 Q54.7739 782.397 57.3202 780.424 Q59.8346 778.45 59.8346 774.504 Q59.8346 769.761 56.8109 767.024 Q53.7872 764.255 48.5673 764.255 L28.3562 764.255 L28.3562 758.398 L64.0042 758.398 L64.0042 764.255 L58.5296 764.255 Q61.7762 766.387 63.3676 769.22 Q64.9272 772.021 64.9272 775.745 Q64.9272 781.888 61.1078 785.071 Q57.2883 788.254 49.9359 788.254 M27.4968 773.517 L27.4968 773.517 Z\" fill=\"#000000\" fill-rule=\"evenodd\" fill-opacity=\"1\" /><path clip-path=\"url(#clip410)\" d=\"M1029.71 12.096 L1037.89 12.096 L1037.89 72.576 L1029.71 72.576 L1029.71 12.096 Z\" fill=\"#000000\" fill-rule=\"evenodd\" fill-opacity=\"1\" /><path clip-path=\"url(#clip410)\" d=\"M1091.57 45.1919 L1091.57 72.576 L1084.11 72.576 L1084.11 45.4349 Q1084.11 38.994 1081.6 35.7938 Q1079.09 32.5936 1074.07 32.5936 Q1068.03 32.5936 1064.55 36.4419 Q1061.06 40.2903 1061.06 46.9338 L1061.06 72.576 L1053.57 72.576 L1053.57 27.2059 L1061.06 27.2059 L1061.06 34.2544 Q1063.74 30.163 1067.34 28.1376 Q1070.99 26.1121 1075.73 26.1121 Q1083.55 26.1121 1087.56 30.9732 Q1091.57 35.7938 1091.57 45.1919 Z\" fill=\"#000000\" fill-rule=\"evenodd\" fill-opacity=\"1\" /><path clip-path=\"url(#clip410)\" d=\"M1113.64 65.7705 L1113.64 89.8329 L1106.15 89.8329 L1106.15 27.2059 L1113.64 27.2059 L1113.64 34.0924 Q1115.99 30.0415 1119.56 28.0971 Q1123.16 26.1121 1128.15 26.1121 Q1136.41 26.1121 1141.55 32.6746 Q1146.74 39.2371 1146.74 49.9314 Q1146.74 60.6258 1141.55 67.1883 Q1136.41 73.7508 1128.15 73.7508 Q1123.16 73.7508 1119.56 71.8063 Q1115.99 69.8214 1113.64 65.7705 M1139 49.9314 Q1139 41.7081 1135.6 37.0496 Q1132.24 32.3505 1126.32 32.3505 Q1120.41 32.3505 1117.01 37.0496 Q1113.64 41.7081 1113.64 49.9314 Q1113.64 58.1548 1117.01 62.8538 Q1120.41 67.5124 1126.32 67.5124 Q1132.24 67.5124 1135.6 62.8538 Q1139 58.1548 1139 49.9314 Z\" fill=\"#000000\" fill-rule=\"evenodd\" fill-opacity=\"1\" /><path clip-path=\"url(#clip410)\" d=\"M1158.33 54.671 L1158.33 27.2059 L1165.78 27.2059 L1165.78 54.3874 Q1165.78 60.8284 1168.29 64.0691 Q1170.8 67.2693 1175.83 67.2693 Q1181.86 67.2693 1185.35 63.421 Q1188.87 59.5726 1188.87 52.9291 L1188.87 27.2059 L1196.32 27.2059 L1196.32 72.576 L1188.87 72.576 L1188.87 65.6084 Q1186.16 69.7404 1182.55 71.7658 Q1178.99 73.7508 1174.25 73.7508 Q1166.43 73.7508 1162.38 68.8897 Q1158.33 64.0286 1158.33 54.671 M1177.08 26.1121 L1177.08 26.1121 Z\" fill=\"#000000\" fill-rule=\"evenodd\" fill-opacity=\"1\" /><path clip-path=\"url(#clip410)\" d=\"M1219.05 14.324 L1219.05 27.2059 L1234.4 27.2059 L1234.4 32.9987 L1219.05 32.9987 L1219.05 57.6282 Q1219.05 63.1779 1220.55 64.7578 Q1222.09 66.3376 1226.75 66.3376 L1234.4 66.3376 L1234.4 72.576 L1226.75 72.576 Q1218.12 72.576 1214.84 69.3758 Q1211.55 66.1351 1211.55 57.6282 L1211.55 32.9987 L1206.09 32.9987 L1206.09 27.2059 L1211.55 27.2059 L1211.55 14.324 L1219.05 14.324 Z\" fill=\"#000000\" fill-rule=\"evenodd\" fill-opacity=\"1\" /><path clip-path=\"url(#clip410)\" d=\"M1270.9 12.096 L1279.08 12.096 L1279.08 36.8875 L1308.82 36.8875 L1308.82 12.096 L1317 12.096 L1317 72.576 L1308.82 72.576 L1308.82 43.7741 L1279.08 43.7741 L1279.08 72.576 L1270.9 72.576 L1270.9 12.096 Z\" fill=\"#000000\" fill-rule=\"evenodd\" fill-opacity=\"1\" /><path clip-path=\"url(#clip410)\" d=\"M1332.96 27.2059 L1340.41 27.2059 L1340.41 72.576 L1332.96 72.576 L1332.96 27.2059 M1332.96 9.54393 L1340.41 9.54393 L1340.41 18.9825 L1332.96 18.9825 L1332.96 9.54393 Z\" fill=\"#000000\" fill-rule=\"evenodd\" fill-opacity=\"1\" /><path clip-path=\"url(#clip410)\" d=\"M1384.93 28.5427 L1384.93 35.5912 Q1381.77 33.9709 1378.37 33.1607 Q1374.97 32.3505 1371.32 32.3505 Q1365.77 32.3505 1362.98 34.0519 Q1360.22 35.7533 1360.22 39.156 Q1360.22 41.7486 1362.21 43.2475 Q1364.19 44.7058 1370.19 46.0426 L1372.74 46.6097 Q1380.68 48.3111 1384 51.4303 Q1387.36 54.509 1387.36 60.0587 Q1387.36 66.3781 1382.34 70.0644 Q1377.36 73.7508 1368.61 73.7508 Q1364.96 73.7508 1360.99 73.0216 Q1357.06 72.3329 1352.69 70.9151 L1352.69 63.2184 Q1356.82 65.3654 1360.83 66.4591 Q1364.84 67.5124 1368.77 67.5124 Q1374.04 67.5124 1376.87 65.73 Q1379.71 63.9071 1379.71 60.6258 Q1379.71 57.5877 1377.64 55.9673 Q1375.62 54.3469 1368.69 52.8481 L1366.1 52.2405 Q1359.17 50.7821 1356.09 47.7845 Q1353.01 44.7463 1353.01 39.4801 Q1353.01 33.0797 1357.55 29.5959 Q1362.09 26.1121 1370.43 26.1121 Q1374.56 26.1121 1378.21 26.7198 Q1381.85 27.3274 1384.93 28.5427 Z\" fill=\"#000000\" fill-rule=\"evenodd\" fill-opacity=\"1\" /><path clip-path=\"url(#clip410)\" d=\"M1406.61 14.324 L1406.61 27.2059 L1421.96 27.2059 L1421.96 32.9987 L1406.61 32.9987 L1406.61 57.6282 Q1406.61 63.1779 1408.1 64.7578 Q1409.64 66.3376 1414.3 66.3376 L1421.96 66.3376 L1421.96 72.576 L1414.3 72.576 Q1405.67 72.576 1402.39 69.3758 Q1399.11 66.1351 1399.11 57.6282 L1399.11 32.9987 L1393.64 32.9987 L1393.64 27.2059 L1399.11 27.2059 L1399.11 14.324 L1406.61 14.324 Z\" fill=\"#000000\" fill-rule=\"evenodd\" fill-opacity=\"1\" /><path clip-path=\"url(#clip410)\" d=\"M1449.34 32.4315 Q1443.35 32.4315 1439.86 37.1306 Q1436.38 41.7891 1436.38 49.9314 Q1436.38 58.0738 1439.82 62.7728 Q1443.31 67.4314 1449.34 67.4314 Q1455.3 67.4314 1458.78 62.7323 Q1462.27 58.0333 1462.27 49.9314 Q1462.27 41.8701 1458.78 37.1711 Q1455.3 32.4315 1449.34 32.4315 M1449.34 26.1121 Q1459.06 26.1121 1464.61 32.4315 Q1470.16 38.7509 1470.16 49.9314 Q1470.16 61.0714 1464.61 67.4314 Q1459.06 73.7508 1449.34 73.7508 Q1439.58 73.7508 1434.03 67.4314 Q1428.52 61.0714 1428.52 49.9314 Q1428.52 38.7509 1434.03 32.4315 Q1439.58 26.1121 1449.34 26.1121 Z\" fill=\"#000000\" fill-rule=\"evenodd\" fill-opacity=\"1\" /><path clip-path=\"url(#clip410)\" d=\"M1508.81 34.1734 Q1507.55 33.4443 1506.06 33.1202 Q1504.6 32.7556 1502.81 32.7556 Q1496.5 32.7556 1493.09 36.8875 Q1489.73 40.9789 1489.73 48.6757 L1489.73 72.576 L1482.24 72.576 L1482.24 27.2059 L1489.73 27.2059 L1489.73 34.2544 Q1492.08 30.1225 1495.85 28.1376 Q1499.61 26.1121 1505 26.1121 Q1505.77 26.1121 1506.7 26.2337 Q1507.64 26.3147 1508.77 26.5172 L1508.81 34.1734 Z\" fill=\"#000000\" fill-rule=\"evenodd\" fill-opacity=\"1\" /><path clip-path=\"url(#clip410)\" d=\"M1535.51 76.7889 Q1532.35 84.8907 1529.35 87.3618 Q1526.35 89.8329 1521.33 89.8329 L1515.37 89.8329 L1515.37 83.5945 L1519.75 83.5945 Q1522.83 83.5945 1524.53 82.1361 Q1526.23 80.6778 1528.29 75.2496 L1529.63 71.8468 L1511.28 27.2059 L1519.18 27.2059 L1533.36 62.6918 L1547.54 27.2059 L1555.44 27.2059 L1535.51 76.7889 Z\" fill=\"#000000\" fill-rule=\"evenodd\" fill-opacity=\"1\" /><polyline clip-path=\"url(#clip412)\" style=\"stroke:#009af9; stroke-linecap:round; stroke-linejoin:round; stroke-width:4; stroke-opacity:1; fill:none\" points=\"292.4,1323.25 312.605,1323.54 332.811,1323.83 353.016,1324.12 373.222,1324.41 393.427,1324.7 413.633,1324.99 433.838,1325.28 454.044,1325.58 474.249,1325.87 494.455,1326.16 514.66,1326.45 534.866,1326.74 555.071,1327.04 575.277,1327.33 595.482,1327.62 615.688,1327.91 635.893,1328.2 656.099,1328.5 676.304,1328.79 696.51,1329.08 716.715,1329.37 736.921,1329.67 757.127,1329.96 777.332,1330.25 797.538,1330.54 817.743,1330.84 837.949,1331.13 858.154,1331.42 878.36,1331.71 898.565,1332.01 918.771,1332.3 938.976,1332.59 959.182,1332.88 979.387,1333.18 999.593,1333.47 1019.8,1333.76 1040,1334.05 1060.21,1334.35 1080.41,1334.64 1100.62,1334.93 1120.83,1335.22 1141.03,1335.52 1161.24,1335.81 1181.44,1336.1 1201.65,1336.39 1221.85,1336.68 1242.06,1336.98 1262.26,1337.27 1282.47,1337.56 1302.68,1337.85 1322.88,1338.14 1343.09,1338.43 1363.29,1338.72 1383.5,1339.02 1403.7,1339.31 1423.91,1339.6 1444.11,1339.89 1464.32,1340.18 1484.53,1340.47 1504.73,1340.76 1524.94,1341.05 1545.14,1341.34 1565.35,1341.63 1585.55,1341.93 1605.76,1342.22 1625.96,1342.51 1646.17,1342.8 1666.37,1343.09 1686.58,1343.38 1706.79,1343.67 1726.99,1343.96 1747.2,1344.25 1767.4,1344.53 1787.61,1344.82 1807.81,1345.11 1828.02,1345.4 1848.22,1345.69 1868.43,1345.98 1888.64,1346.27 1908.84,1346.56 1929.05,1346.85 1949.25,1347.14 1969.46,1347.42 1989.66,1347.71 2009.87,1348 2030.07,1348.29 2050.28,1348.58 2070.48,1348.86 2090.69,1349.15 2110.9,1349.44 2131.1,1349.73 2151.31,1350.01 2171.51,1350.3 2191.72,1350.59 2211.92,1350.87 2232.13,1351.16 2252.33,1351.45 2272.54,1351.73 2292.75,1352.02 \"/>\n",
       "<polyline clip-path=\"url(#clip412)\" style=\"stroke:#e26f46; stroke-linecap:round; stroke-linejoin:round; stroke-width:4; stroke-opacity:1; fill:none\" points=\"292.4,1386.4 312.605,1386.05 332.811,1385.71 353.016,1385.37 373.222,1385.02 393.427,1384.68 413.633,1384.34 433.838,1384 454.044,1383.66 474.249,1383.32 494.455,1382.97 514.66,1382.63 534.866,1382.29 555.071,1381.95 575.277,1381.61 595.482,1381.27 615.688,1380.93 635.893,1380.59 656.099,1380.25 676.304,1379.91 696.51,1379.57 716.715,1379.23 736.921,1378.89 757.127,1378.55 777.332,1378.21 797.538,1377.87 817.743,1377.54 837.949,1377.2 858.154,1376.86 878.36,1376.52 898.565,1376.18 918.771,1375.85 938.976,1375.51 959.182,1375.17 979.387,1374.84 999.593,1374.5 1019.8,1374.16 1040,1373.83 1060.21,1373.49 1080.41,1373.16 1100.62,1372.82 1120.83,1372.49 1141.03,1372.15 1161.24,1371.82 1181.44,1371.48 1201.65,1371.15 1221.85,1370.81 1242.06,1370.48 1262.26,1370.15 1282.47,1369.81 1302.68,1369.48 1322.88,1369.15 1343.09,1368.81 1363.29,1368.48 1383.5,1368.15 1403.7,1367.82 1423.91,1367.48 1444.11,1367.15 1464.32,1366.82 1484.53,1366.49 1504.73,1366.16 1524.94,1365.83 1545.14,1365.5 1565.35,1365.17 1585.55,1364.84 1605.76,1364.51 1625.96,1364.18 1646.17,1363.85 1666.37,1363.52 1686.58,1363.19 1706.79,1362.86 1726.99,1362.53 1747.2,1362.2 1767.4,1361.88 1787.61,1361.55 1807.81,1361.22 1828.02,1360.89 1848.22,1360.57 1868.43,1360.24 1888.64,1359.91 1908.84,1359.58 1929.05,1359.26 1949.25,1358.93 1969.46,1358.61 1989.66,1358.28 2009.87,1357.95 2030.07,1357.63 2050.28,1357.3 2070.48,1356.98 2090.69,1356.65 2110.9,1356.33 2131.1,1356 2151.31,1355.68 2171.51,1355.35 2191.72,1355.03 2211.92,1354.71 2232.13,1354.38 2252.33,1354.06 2272.54,1353.73 2292.75,1353.41 \"/>\n",
       "<polyline clip-path=\"url(#clip412)\" style=\"stroke:#3da44d; stroke-linecap:round; stroke-linejoin:round; stroke-width:4; stroke-opacity:1; fill:none\" points=\"292.4,160.256 312.605,170.018 332.811,179.781 353.016,189.544 373.222,199.309 393.427,209.074 413.633,218.84 433.838,228.607 454.044,238.375 474.249,248.144 494.455,257.913 514.66,267.684 534.866,277.455 555.071,287.227 575.277,296.999 595.482,306.773 615.688,316.547 635.893,326.323 656.099,336.098 676.304,345.875 696.51,355.653 716.715,365.431 736.921,375.21 757.127,384.989 777.332,394.77 797.538,404.551 817.743,414.333 837.949,424.115 858.154,433.899 878.36,443.683 898.565,453.467 918.771,463.253 938.976,473.039 959.182,482.825 979.387,492.613 999.593,502.4 1019.8,512.189 1040,521.978 1060.21,531.768 1080.41,541.558 1100.62,551.349 1120.83,561.141 1141.03,570.933 1161.24,580.726 1181.44,590.519 1201.65,600.313 1221.85,610.107 1242.06,619.902 1262.26,629.697 1282.47,639.492 1302.68,649.289 1322.88,659.085 1343.09,668.882 1363.29,678.68 1383.5,688.477 1403.7,698.276 1423.91,708.074 1444.11,717.873 1464.32,727.672 1484.53,737.472 1504.73,747.272 1524.94,757.072 1545.14,766.872 1565.35,776.673 1585.55,786.473 1605.76,796.274 1625.96,806.075 1646.17,815.876 1666.37,825.678 1686.58,835.479 1706.79,845.281 1726.99,855.082 1747.2,864.884 1767.4,874.685 1787.61,884.486 1807.81,894.288 1828.02,904.089 1848.22,913.89 1868.43,923.691 1888.64,933.492 1908.84,943.292 1929.05,953.092 1949.25,962.892 1969.46,972.692 1989.66,982.491 2009.87,992.29 2030.07,1002.09 2050.28,1011.89 2070.48,1021.68 2090.69,1031.48 2110.9,1041.28 2131.1,1051.07 2151.31,1060.87 2171.51,1070.66 2191.72,1080.45 2211.92,1090.25 2232.13,1100.04 2252.33,1109.83 2272.54,1119.62 2292.75,1129.41 \"/>\n",
       "<path clip-path=\"url(#clip410)\" d=\"M2027.42 374.156 L2282.08 374.156 L2282.08 166.796 L2027.42 166.796  Z\" fill=\"#ffffff\" fill-rule=\"evenodd\" fill-opacity=\"1\"/>\n",
       "<polyline clip-path=\"url(#clip410)\" style=\"stroke:#000000; stroke-linecap:round; stroke-linejoin:round; stroke-width:4; stroke-opacity:1; fill:none\" points=\"2027.42,374.156 2282.08,374.156 2282.08,166.796 2027.42,166.796 2027.42,374.156 \"/>\n",
       "<polyline clip-path=\"url(#clip410)\" style=\"stroke:#009af9; stroke-linecap:round; stroke-linejoin:round; stroke-width:4; stroke-opacity:1; fill:none\" points=\"2050.98,218.636 2192.34,218.636 \"/>\n",
       "<path clip-path=\"url(#clip410)\" d=\"M2215.9 225.684 L2215.9 209.99 L2220.16 209.99 L2220.16 225.522 Q2220.16 229.203 2221.6 231.055 Q2223.03 232.883 2225.9 232.883 Q2229.35 232.883 2231.34 230.684 Q2233.36 228.485 2233.36 224.689 L2233.36 209.99 L2237.61 209.99 L2237.61 235.916 L2233.36 235.916 L2233.36 231.934 Q2231.8 234.295 2229.74 235.453 Q2227.71 236.587 2225 236.587 Q2220.53 236.587 2218.22 233.809 Q2215.9 231.031 2215.9 225.684 M2226.62 209.365 L2226.62 209.365 Z\" fill=\"#000000\" fill-rule=\"evenodd\" fill-opacity=\"1\" /><path clip-path=\"url(#clip410)\" d=\"M2245.53 233.369 L2250.25 233.369 L2250.25 219.226 L2245.09 220.175 L2245.09 217.49 L2250.42 216.587 L2253.59 216.587 L2253.59 233.369 L2258.33 233.369 L2258.33 235.916 L2245.53 235.916 L2245.53 233.369 Z\" fill=\"#000000\" fill-rule=\"evenodd\" fill-opacity=\"1\" /><polyline clip-path=\"url(#clip410)\" style=\"stroke:#e26f46; stroke-linecap:round; stroke-linejoin:round; stroke-width:4; stroke-opacity:1; fill:none\" points=\"2050.98,270.476 2192.34,270.476 \"/>\n",
       "<path clip-path=\"url(#clip410)\" d=\"M2215.9 277.524 L2215.9 261.83 L2220.16 261.83 L2220.16 277.362 Q2220.16 281.043 2221.6 282.895 Q2223.03 284.723 2225.9 284.723 Q2229.35 284.723 2231.34 282.524 Q2233.36 280.325 2233.36 276.529 L2233.36 261.83 L2237.61 261.83 L2237.61 287.756 L2233.36 287.756 L2233.36 283.774 Q2231.8 286.135 2229.74 287.293 Q2227.71 288.427 2225 288.427 Q2220.53 288.427 2218.22 285.649 Q2215.9 282.871 2215.9 277.524 M2226.62 261.205 L2226.62 261.205 Z\" fill=\"#000000\" fill-rule=\"evenodd\" fill-opacity=\"1\" /><path clip-path=\"url(#clip410)\" d=\"M2248.12 285.117 L2257.94 285.117 L2257.94 287.756 L2244.1 287.756 L2244.1 285.209 Q2244.88 284.492 2246.34 283.196 Q2254.3 276.135 2254.3 273.959 Q2254.3 272.432 2253.1 271.506 Q2251.9 270.557 2249.93 270.557 Q2248.73 270.557 2247.31 270.973 Q2245.9 271.367 2244.24 272.177 L2244.24 269.33 Q2246.02 268.682 2247.55 268.358 Q2249.1 268.034 2250.42 268.034 Q2253.77 268.034 2255.79 269.561 Q2257.8 271.089 2257.8 273.589 Q2257.8 276.807 2250.14 283.381 Q2248.84 284.492 2248.12 285.117 Z\" fill=\"#000000\" fill-rule=\"evenodd\" fill-opacity=\"1\" /><polyline clip-path=\"url(#clip410)\" style=\"stroke:#3da44d; stroke-linecap:round; stroke-linejoin:round; stroke-width:4; stroke-opacity:1; fill:none\" points=\"2050.98,322.316 2192.34,322.316 \"/>\n",
       "<path clip-path=\"url(#clip410)\" d=\"M2215.9 329.364 L2215.9 313.67 L2220.16 313.67 L2220.16 329.202 Q2220.16 332.883 2221.6 334.735 Q2223.03 336.563 2225.9 336.563 Q2229.35 336.563 2231.34 334.364 Q2233.36 332.165 2233.36 328.369 L2233.36 313.67 L2237.61 313.67 L2237.61 339.596 L2233.36 339.596 L2233.36 335.614 Q2231.8 337.975 2229.74 339.133 Q2227.71 340.267 2225 340.267 Q2220.53 340.267 2218.22 337.489 Q2215.9 334.711 2215.9 329.364 M2226.62 313.045 L2226.62 313.045 Z\" fill=\"#000000\" fill-rule=\"evenodd\" fill-opacity=\"1\" /><path clip-path=\"url(#clip410)\" d=\"M2254.05 329.133 Q2256.18 329.549 2257.34 330.823 Q2258.52 332.073 2258.52 333.971 Q2258.52 336.841 2256.32 338.392 Q2254.12 339.943 2250.02 339.943 Q2248.7 339.943 2247.24 339.688 Q2245.81 339.457 2244.19 338.994 L2244.19 336.193 Q2245.39 336.818 2246.76 337.119 Q2248.15 337.42 2249.7 337.42 Q2252.22 337.42 2253.61 336.517 Q2255 335.591 2255 333.971 Q2255 332.258 2253.7 331.378 Q2252.43 330.499 2249.93 330.499 L2247.94 330.499 L2247.94 327.999 L2250.11 327.999 Q2252.29 327.999 2253.4 327.281 Q2254.54 326.54 2254.54 325.151 Q2254.54 323.809 2253.38 323.114 Q2252.22 322.397 2250.02 322.397 Q2249.1 322.397 2247.92 322.605 Q2246.74 322.813 2244.86 323.346 L2244.86 320.684 Q2246.55 320.29 2248.03 320.082 Q2249.51 319.874 2250.79 319.874 Q2254.12 319.874 2256.06 321.239 Q2258.03 322.605 2258.03 324.897 Q2258.03 326.494 2256.99 327.605 Q2255.95 328.716 2254.05 329.133 Z\" fill=\"#000000\" fill-rule=\"evenodd\" fill-opacity=\"1\" /></svg>\n"
      ]
     },
     "metadata": {},
     "output_type": "display_data"
    },
    {
     "name": "stdout",
     "output_type": "stream",
     "text": [
      "iter     J           ΔJ        |d|         α        reg         ρ\n",
      "---------------------------------------------------------------------\n",
<<<<<<< HEAD
      "  1    0.000e+00   3.18e+04   0.00e+00  0.0000    1.00e-08    1.00e+00\n",
      "update cone\n",
      "convio = 33.33396509933647\n",
      "  2    0.000e+00   2.24e+05   0.00e+00  0.0000    1.00e-08    1.00e+01\n",
      "update cone\n",
      "convio = 27.988206394915338\n",
      "  3    0.000e+00   2.07e+06   0.00e+00  0.0000    1.00e-08    1.00e+02\n",
      "update cone\n",
      "convio = 21.756452448319763\n",
      "  4    0.000e+00   2.11e+07   0.00e+00  0.0000    1.00e-08    1.00e+03\n",
      "update cone\n",
      "convio = 18.957975578879605\n",
      "  5    0.000e+00   2.14e+08   0.00e+00  0.0000    1.00e-08    1.00e+04\n",
      "update cone\n",
      "convio = 18.209290152623232\n",
      "  6    0.000e+00   2.14e+09   0.00e+00  0.0000    1.00e-08    1.00e+05\n",
      "update cone\n",
      "convio = 17.789701041218144\n",
      "  7    0.000e+00   2.12e+10   0.00e+00  0.0000    1.00e-08    1.00e+06\n",
      "update cone\n",
      "convio = 17.545034621975248\n",
      "  8    0.000e+00   2.10e+11   0.00e+00  0.0000    1.00e-08    1.00e+07\n",
      "update cone\n",
      "convio = 17.39336913462579\n",
      "  9    0.000e+00   2.09e+12   0.00e+00  0.0000    1.00e-08    1.00e+08\n",
      "update cone\n",
      "convio = 17.29236342765499\n",
      " 10    0.000e+00   2.07e+13   0.00e+00  0.0000    1.00e-08    1.00e+09\n",
      "update cone\n",
      "convio = 17.22010700237282\n",
      "iter     J           ΔJ        |d|         α        reg         ρ\n",
      "---------------------------------------------------------------------\n",
      " 11    0.000e+00   2.06e+14   0.00e+00  0.0000    1.00e-08    1.00e+10\n",
      "update cone\n",
      "convio = 17.165116312477018\n",
      " 12    0.000e+00   2.04e+15   0.00e+00  0.0000    1.00e-08    1.00e+11\n",
      "update cone\n",
      "convio = 17.121234373291127\n",
      " 13    0.000e+00   2.03e+16   0.00e+00  0.0000    1.00e-08    1.00e+12\n",
      "update cone\n",
      "convio = 17.085042158459252\n",
      " 14    0.000e+00   2.03e+17   0.00e+00  0.0000    1.00e-08    1.00e+13\n",
      "update cone\n",
      "convio = 17.05454403696137\n",
      " 15    0.000e+00   2.02e+18   0.00e+00  0.0000    1.00e-08    1.00e+14\n",
      "update cone\n",
      "convio = 17.028498263035882\n"
     ]
=======
      "  1    0.000e+00   3.56e+06   0.00e+00  0.0000    1.00e-08    1.00e+00\n",
      "convio = 29.899759669898994\n",
      "  2    0.000e+00   3.60e+06   0.00e+00  0.0000    1.00e-08    1.00e+01\n",
      "convio = 29.3319637774497\n",
      "  3    0.000e+00   3.82e+06   0.00e+00  0.0000    1.00e-08    1.00e+02\n",
      "convio = 25.16204518205809\n",
      "  4    0.000e+00   3.74e+06   0.00e+00  0.0000    1.00e-08    1.00e+03\n",
      "convio = 11.43586560822942\n",
      "  5    0.000e+00   3.19e+06   0.00e+00  0.0000    1.00e-08    1.00e+04\n",
      "convio = 1.8073307857280299\n",
      "  6    0.000e+00   3.08e+06   0.00e+00  0.0000    1.00e-08    1.00e+05\n",
      "convio = 0.19195892925755476\n",
      "  7    0.000e+00   3.30e+06   0.00e+00  0.0000    1.00e-08    1.00e+06\n",
      "convio = 0.019315970889693335\n",
      "  8    0.000e+00   5.51e+06   0.00e+00  0.0000    1.00e-08    1.00e+07\n",
      "convio = 0.0019328062391565926\n",
      "  9    0.000e+00   2.73e+07   0.00e+00  0.0000    1.00e-08    1.00e+08\n",
      "convio = 0.00019329272384571716\n",
      " 10    0.000e+00   2.44e+08   0.00e+00  0.0000    1.00e-08    1.00e+09\n",
      "convio = 1.9329393392497618e-5\n"
     ]
    },
    {
     "data": {
      "image/svg+xml": [
       "<?xml version=\"1.0\" encoding=\"utf-8\"?>\n",
       "<svg xmlns=\"http://www.w3.org/2000/svg\" xmlns:xlink=\"http://www.w3.org/1999/xlink\" width=\"600\" height=\"400\" viewBox=\"0 0 2400 1600\">\n",
       "<defs>\n",
       "  <clipPath id=\"clip960\">\n",
       "    <rect x=\"0\" y=\"0\" width=\"2400\" height=\"1600\"/>\n",
       "  </clipPath>\n",
       "</defs>\n",
       "<path clip-path=\"url(#clip960)\" d=\"M0 1600 L2400 1600 L2400 0 L0 0  Z\" fill=\"#ffffff\" fill-rule=\"evenodd\" fill-opacity=\"1\"/>\n",
       "<defs>\n",
       "  <clipPath id=\"clip961\">\n",
       "    <rect x=\"480\" y=\"0\" width=\"1681\" height=\"1600\"/>\n",
       "  </clipPath>\n",
       "</defs>\n",
       "<path clip-path=\"url(#clip960)\" d=\"M210.977 1423.18 L2352.76 1423.18 L2352.76 123.472 L210.977 123.472  Z\" fill=\"#ffffff\" fill-rule=\"evenodd\" fill-opacity=\"1\"/>\n",
       "<defs>\n",
       "  <clipPath id=\"clip962\">\n",
       "    <rect x=\"210\" y=\"123\" width=\"2143\" height=\"1301\"/>\n",
       "  </clipPath>\n",
       "</defs>\n",
       "<polyline clip-path=\"url(#clip962)\" style=\"stroke:#000000; stroke-linecap:round; stroke-linejoin:round; stroke-width:2; stroke-opacity:0.1; fill:none\" points=\"271.594,1423.18 271.594,123.472 \"/>\n",
       "<polyline clip-path=\"url(#clip962)\" style=\"stroke:#000000; stroke-linecap:round; stroke-linejoin:round; stroke-width:2; stroke-opacity:0.1; fill:none\" points=\"945.109,1423.18 945.109,123.472 \"/>\n",
       "<polyline clip-path=\"url(#clip962)\" style=\"stroke:#000000; stroke-linecap:round; stroke-linejoin:round; stroke-width:2; stroke-opacity:0.1; fill:none\" points=\"1618.62,1423.18 1618.62,123.472 \"/>\n",
       "<polyline clip-path=\"url(#clip962)\" style=\"stroke:#000000; stroke-linecap:round; stroke-linejoin:round; stroke-width:2; stroke-opacity:0.1; fill:none\" points=\"2292.14,1423.18 2292.14,123.472 \"/>\n",
       "<polyline clip-path=\"url(#clip960)\" style=\"stroke:#000000; stroke-linecap:round; stroke-linejoin:round; stroke-width:4; stroke-opacity:1; fill:none\" points=\"210.977,1423.18 2352.76,1423.18 \"/>\n",
       "<polyline clip-path=\"url(#clip960)\" style=\"stroke:#000000; stroke-linecap:round; stroke-linejoin:round; stroke-width:4; stroke-opacity:1; fill:none\" points=\"271.594,1423.18 271.594,1404.28 \"/>\n",
       "<polyline clip-path=\"url(#clip960)\" style=\"stroke:#000000; stroke-linecap:round; stroke-linejoin:round; stroke-width:4; stroke-opacity:1; fill:none\" points=\"945.109,1423.18 945.109,1404.28 \"/>\n",
       "<polyline clip-path=\"url(#clip960)\" style=\"stroke:#000000; stroke-linecap:round; stroke-linejoin:round; stroke-width:4; stroke-opacity:1; fill:none\" points=\"1618.62,1423.18 1618.62,1404.28 \"/>\n",
       "<polyline clip-path=\"url(#clip960)\" style=\"stroke:#000000; stroke-linecap:round; stroke-linejoin:round; stroke-width:4; stroke-opacity:1; fill:none\" points=\"2292.14,1423.18 2292.14,1404.28 \"/>\n",
       "<path clip-path=\"url(#clip960)\" d=\"M271.594 1454.1 Q267.983 1454.1 266.154 1457.66 Q264.348 1461.2 264.348 1468.33 Q264.348 1475.44 266.154 1479.01 Q267.983 1482.55 271.594 1482.55 Q275.228 1482.55 277.034 1479.01 Q278.862 1475.44 278.862 1468.33 Q278.862 1461.2 277.034 1457.66 Q275.228 1454.1 271.594 1454.1 M271.594 1450.39 Q277.404 1450.39 280.459 1455 Q283.538 1459.58 283.538 1468.33 Q283.538 1477.06 280.459 1481.67 Q277.404 1486.25 271.594 1486.25 Q265.784 1486.25 262.705 1481.67 Q259.649 1477.06 259.649 1468.33 Q259.649 1459.58 262.705 1455 Q265.784 1450.39 271.594 1450.39 Z\" fill=\"#000000\" fill-rule=\"evenodd\" fill-opacity=\"1\" /><path clip-path=\"url(#clip960)\" d=\"M935.387 1451.02 L953.743 1451.02 L953.743 1454.96 L939.669 1454.96 L939.669 1463.43 Q940.688 1463.08 941.706 1462.92 Q942.725 1462.73 943.743 1462.73 Q949.53 1462.73 952.91 1465.9 Q956.29 1469.08 956.29 1474.49 Q956.29 1480.07 952.817 1483.17 Q949.345 1486.25 943.026 1486.25 Q940.85 1486.25 938.581 1485.88 Q936.336 1485.51 933.929 1484.77 L933.929 1480.07 Q936.012 1481.2 938.234 1481.76 Q940.456 1482.32 942.933 1482.32 Q946.938 1482.32 949.276 1480.21 Q951.614 1478.1 951.614 1474.49 Q951.614 1470.88 949.276 1468.77 Q946.938 1466.67 942.933 1466.67 Q941.058 1466.67 939.183 1467.08 Q937.331 1467.5 935.387 1468.38 L935.387 1451.02 Z\" fill=\"#000000\" fill-rule=\"evenodd\" fill-opacity=\"1\" /><path clip-path=\"url(#clip960)\" d=\"M1593.31 1481.64 L1600.95 1481.64 L1600.95 1455.28 L1592.64 1456.95 L1592.64 1452.69 L1600.9 1451.02 L1605.58 1451.02 L1605.58 1481.64 L1613.22 1481.64 L1613.22 1485.58 L1593.31 1485.58 L1593.31 1481.64 Z\" fill=\"#000000\" fill-rule=\"evenodd\" fill-opacity=\"1\" /><path clip-path=\"url(#clip960)\" d=\"M1632.66 1454.1 Q1629.05 1454.1 1627.22 1457.66 Q1625.42 1461.2 1625.42 1468.33 Q1625.42 1475.44 1627.22 1479.01 Q1629.05 1482.55 1632.66 1482.55 Q1636.3 1482.55 1638.1 1479.01 Q1639.93 1475.44 1639.93 1468.33 Q1639.93 1461.2 1638.1 1457.66 Q1636.3 1454.1 1632.66 1454.1 M1632.66 1450.39 Q1638.47 1450.39 1641.53 1455 Q1644.61 1459.58 1644.61 1468.33 Q1644.61 1477.06 1641.53 1481.67 Q1638.47 1486.25 1632.66 1486.25 Q1626.85 1486.25 1623.77 1481.67 Q1620.72 1477.06 1620.72 1468.33 Q1620.72 1459.58 1623.77 1455 Q1626.85 1450.39 1632.66 1450.39 Z\" fill=\"#000000\" fill-rule=\"evenodd\" fill-opacity=\"1\" /><path clip-path=\"url(#clip960)\" d=\"M2267.32 1481.64 L2274.96 1481.64 L2274.96 1455.28 L2266.65 1456.95 L2266.65 1452.69 L2274.92 1451.02 L2279.59 1451.02 L2279.59 1481.64 L2287.23 1481.64 L2287.23 1485.58 L2267.32 1485.58 L2267.32 1481.64 Z\" fill=\"#000000\" fill-rule=\"evenodd\" fill-opacity=\"1\" /><path clip-path=\"url(#clip960)\" d=\"M2296.72 1451.02 L2315.08 1451.02 L2315.08 1454.96 L2301.01 1454.96 L2301.01 1463.43 Q2302.02 1463.08 2303.04 1462.92 Q2304.06 1462.73 2305.08 1462.73 Q2310.87 1462.73 2314.25 1465.9 Q2317.63 1469.08 2317.63 1474.49 Q2317.63 1480.07 2314.15 1483.17 Q2310.68 1486.25 2304.36 1486.25 Q2302.19 1486.25 2299.92 1485.88 Q2297.67 1485.51 2295.26 1484.77 L2295.26 1480.07 Q2297.35 1481.2 2299.57 1481.76 Q2301.79 1482.32 2304.27 1482.32 Q2308.27 1482.32 2310.61 1480.21 Q2312.95 1478.1 2312.95 1474.49 Q2312.95 1470.88 2310.61 1468.77 Q2308.27 1466.67 2304.27 1466.67 Q2302.39 1466.67 2300.52 1467.08 Q2298.67 1467.5 2296.72 1468.38 L2296.72 1451.02 Z\" fill=\"#000000\" fill-rule=\"evenodd\" fill-opacity=\"1\" /><path clip-path=\"url(#clip960)\" d=\"M1169.32 1522.27 L1169.32 1532.4 L1181.38 1532.4 L1181.38 1536.95 L1169.32 1536.95 L1169.32 1556.3 Q1169.32 1560.66 1170.5 1561.9 Q1171.71 1563.14 1175.37 1563.14 L1181.38 1563.14 L1181.38 1568.04 L1175.37 1568.04 Q1168.59 1568.04 1166.01 1565.53 Q1163.43 1562.98 1163.43 1556.3 L1163.43 1536.95 L1159.14 1536.95 L1159.14 1532.4 L1163.43 1532.4 L1163.43 1522.27 L1169.32 1522.27 Z\" fill=\"#000000\" fill-rule=\"evenodd\" fill-opacity=\"1\" /><path clip-path=\"url(#clip960)\" d=\"M1189.09 1532.4 L1194.94 1532.4 L1194.94 1568.04 L1189.09 1568.04 L1189.09 1532.4 M1189.09 1518.52 L1194.94 1518.52 L1194.94 1525.93 L1189.09 1525.93 L1189.09 1518.52 Z\" fill=\"#000000\" fill-rule=\"evenodd\" fill-opacity=\"1\" /><path clip-path=\"url(#clip960)\" d=\"M1234.95 1539.24 Q1237.15 1535.29 1240.2 1533.41 Q1243.26 1531.54 1247.4 1531.54 Q1252.97 1531.54 1255.99 1535.45 Q1259.01 1539.33 1259.01 1546.53 L1259.01 1568.04 L1253.13 1568.04 L1253.13 1546.72 Q1253.13 1541.59 1251.31 1539.11 Q1249.5 1536.63 1245.77 1536.63 Q1241.22 1536.63 1238.58 1539.65 Q1235.94 1542.68 1235.94 1547.9 L1235.94 1568.04 L1230.05 1568.04 L1230.05 1546.72 Q1230.05 1541.56 1228.24 1539.11 Q1226.42 1536.63 1222.63 1536.63 Q1218.15 1536.63 1215.5 1539.68 Q1212.86 1542.71 1212.86 1547.9 L1212.86 1568.04 L1206.97 1568.04 L1206.97 1532.4 L1212.86 1532.4 L1212.86 1537.93 Q1214.87 1534.66 1217.67 1533.1 Q1220.47 1531.54 1224.32 1531.54 Q1228.2 1531.54 1230.91 1533.51 Q1233.65 1535.48 1234.95 1539.24 Z\" fill=\"#000000\" fill-rule=\"evenodd\" fill-opacity=\"1\" /><path clip-path=\"url(#clip960)\" d=\"M1301.19 1548.76 L1301.19 1551.62 L1274.26 1551.62 Q1274.64 1557.67 1277.89 1560.85 Q1281.17 1564 1286.99 1564 Q1290.36 1564 1293.52 1563.17 Q1296.7 1562.35 1299.82 1560.69 L1299.82 1566.23 Q1296.67 1567.57 1293.36 1568.27 Q1290.05 1568.97 1286.64 1568.97 Q1278.11 1568.97 1273.11 1564 Q1268.15 1559.04 1268.15 1550.57 Q1268.15 1541.82 1272.86 1536.69 Q1277.6 1531.54 1285.62 1531.54 Q1292.82 1531.54 1296.99 1536.18 Q1301.19 1540.8 1301.19 1548.76 M1295.33 1547.04 Q1295.27 1542.23 1292.62 1539.37 Q1290.01 1536.5 1285.69 1536.5 Q1280.78 1536.5 1277.82 1539.27 Q1274.9 1542.04 1274.45 1547.07 L1295.33 1547.04 Z\" fill=\"#000000\" fill-rule=\"evenodd\" fill-opacity=\"1\" /><path clip-path=\"url(#clip960)\" d=\"M1345.59 1518.58 Q1341.32 1525.9 1339.25 1533.06 Q1337.18 1540.23 1337.18 1547.58 Q1337.18 1554.93 1339.25 1562.16 Q1341.35 1569.35 1345.59 1576.64 L1340.49 1576.64 Q1335.72 1569.16 1333.33 1561.93 Q1330.98 1554.71 1330.98 1547.58 Q1330.98 1540.48 1333.33 1533.29 Q1335.69 1526.09 1340.49 1518.58 L1345.59 1518.58 Z\" fill=\"#000000\" fill-rule=\"evenodd\" fill-opacity=\"1\" /><path clip-path=\"url(#clip960)\" d=\"M1379.68 1533.45 L1379.68 1538.98 Q1377.19 1537.71 1374.52 1537.07 Q1371.85 1536.44 1368.98 1536.44 Q1364.62 1536.44 1362.42 1537.77 Q1360.26 1539.11 1360.26 1541.79 Q1360.26 1543.82 1361.82 1545 Q1363.38 1546.15 1368.09 1547.2 L1370.1 1547.64 Q1376.33 1548.98 1378.94 1551.43 Q1381.59 1553.85 1381.59 1558.21 Q1381.59 1563.17 1377.64 1566.07 Q1373.72 1568.97 1366.85 1568.97 Q1363.98 1568.97 1360.87 1568.39 Q1357.78 1567.85 1354.34 1566.74 L1354.34 1560.69 Q1357.59 1562.38 1360.74 1563.24 Q1363.89 1564.07 1366.98 1564.07 Q1371.11 1564.07 1373.34 1562.66 Q1375.57 1561.23 1375.57 1558.65 Q1375.57 1556.27 1373.95 1554.99 Q1372.36 1553.72 1366.91 1552.54 L1364.88 1552.07 Q1359.43 1550.92 1357.01 1548.56 Q1354.59 1546.18 1354.59 1542.04 Q1354.59 1537.01 1358.16 1534.27 Q1361.72 1531.54 1368.28 1531.54 Q1371.53 1531.54 1374.39 1532.01 Q1377.26 1532.49 1379.68 1533.45 Z\" fill=\"#000000\" fill-rule=\"evenodd\" fill-opacity=\"1\" /><path clip-path=\"url(#clip960)\" d=\"M1389.99 1518.58 L1395.08 1518.58 Q1399.86 1526.09 1402.21 1533.29 Q1404.6 1540.48 1404.6 1547.58 Q1404.6 1554.71 1402.21 1561.93 Q1399.86 1569.16 1395.08 1576.64 L1389.99 1576.64 Q1394.22 1569.35 1396.29 1562.16 Q1398.39 1554.93 1398.39 1547.58 Q1398.39 1540.23 1396.29 1533.06 Q1394.22 1525.9 1389.99 1518.58 Z\" fill=\"#000000\" fill-rule=\"evenodd\" fill-opacity=\"1\" /><polyline clip-path=\"url(#clip962)\" style=\"stroke:#000000; stroke-linecap:round; stroke-linejoin:round; stroke-width:2; stroke-opacity:0.1; fill:none\" points=\"210.977,1386.4 2352.76,1386.4 \"/>\n",
       "<polyline clip-path=\"url(#clip962)\" style=\"stroke:#000000; stroke-linecap:round; stroke-linejoin:round; stroke-width:2; stroke-opacity:0.1; fill:none\" points=\"210.977,1141.17 2352.76,1141.17 \"/>\n",
       "<polyline clip-path=\"url(#clip962)\" style=\"stroke:#000000; stroke-linecap:round; stroke-linejoin:round; stroke-width:2; stroke-opacity:0.1; fill:none\" points=\"210.977,895.94 2352.76,895.94 \"/>\n",
       "<polyline clip-path=\"url(#clip962)\" style=\"stroke:#000000; stroke-linecap:round; stroke-linejoin:round; stroke-width:2; stroke-opacity:0.1; fill:none\" points=\"210.977,650.712 2352.76,650.712 \"/>\n",
       "<polyline clip-path=\"url(#clip962)\" style=\"stroke:#000000; stroke-linecap:round; stroke-linejoin:round; stroke-width:2; stroke-opacity:0.1; fill:none\" points=\"210.977,405.484 2352.76,405.484 \"/>\n",
       "<polyline clip-path=\"url(#clip962)\" style=\"stroke:#000000; stroke-linecap:round; stroke-linejoin:round; stroke-width:2; stroke-opacity:0.1; fill:none\" points=\"210.977,160.256 2352.76,160.256 \"/>\n",
       "<polyline clip-path=\"url(#clip960)\" style=\"stroke:#000000; stroke-linecap:round; stroke-linejoin:round; stroke-width:4; stroke-opacity:1; fill:none\" points=\"210.977,1423.18 210.977,123.472 \"/>\n",
       "<polyline clip-path=\"url(#clip960)\" style=\"stroke:#000000; stroke-linecap:round; stroke-linejoin:round; stroke-width:4; stroke-opacity:1; fill:none\" points=\"210.977,1386.4 229.875,1386.4 \"/>\n",
       "<polyline clip-path=\"url(#clip960)\" style=\"stroke:#000000; stroke-linecap:round; stroke-linejoin:round; stroke-width:4; stroke-opacity:1; fill:none\" points=\"210.977,1141.17 229.875,1141.17 \"/>\n",
       "<polyline clip-path=\"url(#clip960)\" style=\"stroke:#000000; stroke-linecap:round; stroke-linejoin:round; stroke-width:4; stroke-opacity:1; fill:none\" points=\"210.977,895.94 229.875,895.94 \"/>\n",
       "<polyline clip-path=\"url(#clip960)\" style=\"stroke:#000000; stroke-linecap:round; stroke-linejoin:round; stroke-width:4; stroke-opacity:1; fill:none\" points=\"210.977,650.712 229.875,650.712 \"/>\n",
       "<polyline clip-path=\"url(#clip960)\" style=\"stroke:#000000; stroke-linecap:round; stroke-linejoin:round; stroke-width:4; stroke-opacity:1; fill:none\" points=\"210.977,405.484 229.875,405.484 \"/>\n",
       "<polyline clip-path=\"url(#clip960)\" style=\"stroke:#000000; stroke-linecap:round; stroke-linejoin:round; stroke-width:4; stroke-opacity:1; fill:none\" points=\"210.977,160.256 229.875,160.256 \"/>\n",
       "<path clip-path=\"url(#clip960)\" d=\"M114.26 1386.85 L143.936 1386.85 L143.936 1390.78 L114.26 1390.78 L114.26 1386.85 Z\" fill=\"#000000\" fill-rule=\"evenodd\" fill-opacity=\"1\" /><path clip-path=\"url(#clip960)\" d=\"M154.075 1369.12 L172.431 1369.12 L172.431 1373.05 L158.357 1373.05 L158.357 1381.52 Q159.376 1381.18 160.394 1381.01 Q161.413 1380.83 162.431 1380.83 Q168.218 1380.83 171.598 1384 Q174.977 1387.17 174.977 1392.59 Q174.977 1398.17 171.505 1401.27 Q168.033 1404.35 161.714 1404.35 Q159.538 1404.35 157.269 1403.98 Q155.024 1403.61 152.616 1402.87 L152.616 1398.17 Q154.7 1399.3 156.922 1399.86 Q159.144 1400.41 161.621 1400.41 Q165.626 1400.41 167.964 1398.31 Q170.302 1396.2 170.302 1392.59 Q170.302 1388.98 167.964 1386.87 Q165.626 1384.76 161.621 1384.76 Q159.746 1384.76 157.871 1385.18 Q156.019 1385.6 154.075 1386.48 L154.075 1369.12 Z\" fill=\"#000000\" fill-rule=\"evenodd\" fill-opacity=\"1\" /><path clip-path=\"url(#clip960)\" d=\"M163.033 1126.97 Q159.422 1126.97 157.593 1130.53 Q155.788 1134.07 155.788 1141.2 Q155.788 1148.31 157.593 1151.87 Q159.422 1155.42 163.033 1155.42 Q166.667 1155.42 168.473 1151.87 Q170.302 1148.31 170.302 1141.2 Q170.302 1134.07 168.473 1130.53 Q166.667 1126.97 163.033 1126.97 M163.033 1123.26 Q168.843 1123.26 171.899 1127.87 Q174.977 1132.45 174.977 1141.2 Q174.977 1149.93 171.899 1154.54 Q168.843 1159.12 163.033 1159.12 Q157.223 1159.12 154.144 1154.54 Q151.089 1149.93 151.089 1141.2 Q151.089 1132.45 154.144 1127.87 Q157.223 1123.26 163.033 1123.26 Z\" fill=\"#000000\" fill-rule=\"evenodd\" fill-opacity=\"1\" /><path clip-path=\"url(#clip960)\" d=\"M154.075 878.66 L172.431 878.66 L172.431 882.595 L158.357 882.595 L158.357 891.067 Q159.376 890.72 160.394 890.558 Q161.413 890.373 162.431 890.373 Q168.218 890.373 171.598 893.544 Q174.977 896.715 174.977 902.132 Q174.977 907.711 171.505 910.813 Q168.033 913.891 161.714 913.891 Q159.538 913.891 157.269 913.521 Q155.024 913.15 152.616 912.41 L152.616 907.711 Q154.7 908.845 156.922 909.4 Q159.144 909.956 161.621 909.956 Q165.626 909.956 167.964 907.85 Q170.302 905.743 170.302 902.132 Q170.302 898.521 167.964 896.414 Q165.626 894.308 161.621 894.308 Q159.746 894.308 157.871 894.725 Q156.019 895.141 154.075 896.021 L154.075 878.66 Z\" fill=\"#000000\" fill-rule=\"evenodd\" fill-opacity=\"1\" /><path clip-path=\"url(#clip960)\" d=\"M123.681 664.057 L131.32 664.057 L131.32 637.691 L123.01 639.358 L123.01 635.099 L131.274 633.432 L135.95 633.432 L135.95 664.057 L143.589 664.057 L143.589 667.992 L123.681 667.992 L123.681 664.057 Z\" fill=\"#000000\" fill-rule=\"evenodd\" fill-opacity=\"1\" /><path clip-path=\"url(#clip960)\" d=\"M163.033 636.511 Q159.422 636.511 157.593 640.076 Q155.788 643.617 155.788 650.747 Q155.788 657.853 157.593 661.418 Q159.422 664.96 163.033 664.96 Q166.667 664.96 168.473 661.418 Q170.302 657.853 170.302 650.747 Q170.302 643.617 168.473 640.076 Q166.667 636.511 163.033 636.511 M163.033 632.807 Q168.843 632.807 171.899 637.414 Q174.977 641.997 174.977 650.747 Q174.977 659.474 171.899 664.08 Q168.843 668.663 163.033 668.663 Q157.223 668.663 154.144 664.08 Q151.089 659.474 151.089 650.747 Q151.089 641.997 154.144 637.414 Q157.223 632.807 163.033 632.807 Z\" fill=\"#000000\" fill-rule=\"evenodd\" fill-opacity=\"1\" /><path clip-path=\"url(#clip960)\" d=\"M124.677 418.829 L132.316 418.829 L132.316 392.463 L124.005 394.13 L124.005 389.871 L132.269 388.204 L136.945 388.204 L136.945 418.829 L144.584 418.829 L144.584 422.764 L124.677 422.764 L124.677 418.829 Z\" fill=\"#000000\" fill-rule=\"evenodd\" fill-opacity=\"1\" /><path clip-path=\"url(#clip960)\" d=\"M154.075 388.204 L172.431 388.204 L172.431 392.139 L158.357 392.139 L158.357 400.612 Q159.376 400.264 160.394 400.102 Q161.413 399.917 162.431 399.917 Q168.218 399.917 171.598 403.088 Q174.977 406.26 174.977 411.676 Q174.977 417.255 171.505 420.357 Q168.033 423.435 161.714 423.435 Q159.538 423.435 157.269 423.065 Q155.024 422.695 152.616 421.954 L152.616 417.255 Q154.7 418.389 156.922 418.945 Q159.144 419.5 161.621 419.5 Q165.626 419.5 167.964 417.394 Q170.302 415.287 170.302 411.676 Q170.302 408.065 167.964 405.959 Q165.626 403.852 161.621 403.852 Q159.746 403.852 157.871 404.269 Q156.019 404.686 154.075 405.565 L154.075 388.204 Z\" fill=\"#000000\" fill-rule=\"evenodd\" fill-opacity=\"1\" /><path clip-path=\"url(#clip960)\" d=\"M126.899 173.601 L143.218 173.601 L143.218 177.536 L121.274 177.536 L121.274 173.601 Q123.936 170.847 128.519 166.217 Q133.126 161.564 134.306 160.222 Q136.552 157.698 137.431 155.962 Q138.334 154.203 138.334 152.513 Q138.334 149.759 136.39 148.023 Q134.468 146.286 131.367 146.286 Q129.167 146.286 126.714 147.05 Q124.283 147.814 121.505 149.365 L121.505 144.643 Q124.33 143.509 126.783 142.93 Q129.237 142.351 131.274 142.351 Q136.644 142.351 139.839 145.036 Q143.033 147.722 143.033 152.212 Q143.033 154.342 142.223 156.263 Q141.436 158.161 139.329 160.754 Q138.751 161.425 135.649 164.643 Q132.547 167.837 126.899 173.601 Z\" fill=\"#000000\" fill-rule=\"evenodd\" fill-opacity=\"1\" /><path clip-path=\"url(#clip960)\" d=\"M163.033 146.055 Q159.422 146.055 157.593 149.62 Q155.788 153.161 155.788 160.291 Q155.788 167.397 157.593 170.962 Q159.422 174.504 163.033 174.504 Q166.667 174.504 168.473 170.962 Q170.302 167.397 170.302 160.291 Q170.302 153.161 168.473 149.62 Q166.667 146.055 163.033 146.055 M163.033 142.351 Q168.843 142.351 171.899 146.958 Q174.977 151.541 174.977 160.291 Q174.977 169.018 171.899 173.624 Q168.843 178.208 163.033 178.208 Q157.223 178.208 154.144 173.624 Q151.089 169.018 151.089 160.291 Q151.089 151.541 154.144 146.958 Q157.223 142.351 163.033 142.351 Z\" fill=\"#000000\" fill-rule=\"evenodd\" fill-opacity=\"1\" /><path clip-path=\"url(#clip960)\" d=\"M28.3562 756.711 L45.7028 769.602 L64.0042 756.043 L64.0042 762.95 L49.9996 773.326 L64.0042 783.702 L64.0042 790.609 L45.3526 776.763 L28.3562 789.431 L28.3562 782.524 L41.0558 773.071 L28.3562 763.618 L28.3562 756.711 Z\" fill=\"#000000\" fill-rule=\"evenodd\" fill-opacity=\"1\" /><path clip-path=\"url(#clip960)\" d=\"M1054.21 14.0809 L1054.21 22.0612 Q1049.55 19.8332 1045.42 18.7395 Q1041.28 17.6457 1037.44 17.6457 Q1030.75 17.6457 1027.11 20.2383 Q1023.5 22.8309 1023.5 27.611 Q1023.5 31.6214 1025.89 33.6873 Q1028.32 35.7128 1035.05 36.9686 L1039.99 37.9813 Q1049.14 39.7232 1053.48 44.1387 Q1057.85 48.5136 1057.85 55.8863 Q1057.85 64.6767 1051.94 69.2137 Q1046.06 73.7508 1034.68 73.7508 Q1030.39 73.7508 1025.53 72.7785 Q1020.7 71.8063 1015.52 69.9024 L1015.52 61.4765 Q1020.5 64.2716 1025.28 65.6895 Q1030.06 67.1073 1034.68 67.1073 Q1041.69 67.1073 1045.5 64.3527 Q1049.3 61.598 1049.3 56.4939 Q1049.3 52.0379 1046.55 49.5264 Q1043.84 47.0148 1037.6 45.759 L1032.61 44.7868 Q1023.46 42.9639 1019.37 39.075 Q1015.28 35.1862 1015.28 28.2591 Q1015.28 20.2383 1020.91 15.6203 Q1026.58 11.0023 1036.5 11.0023 Q1040.76 11.0023 1045.17 11.7719 Q1049.59 12.5416 1054.21 14.0809 Z\" fill=\"#000000\" fill-rule=\"evenodd\" fill-opacity=\"1\" /><path clip-path=\"url(#clip960)\" d=\"M1077.66 14.324 L1077.66 27.2059 L1093.01 27.2059 L1093.01 32.9987 L1077.66 32.9987 L1077.66 57.6282 Q1077.66 63.1779 1079.16 64.7578 Q1080.7 66.3376 1085.36 66.3376 L1093.01 66.3376 L1093.01 72.576 L1085.36 72.576 Q1076.73 72.576 1073.45 69.3758 Q1070.17 66.1351 1070.17 57.6282 L1070.17 32.9987 L1064.7 32.9987 L1064.7 27.2059 L1070.17 27.2059 L1070.17 14.324 L1077.66 14.324 Z\" fill=\"#000000\" fill-rule=\"evenodd\" fill-opacity=\"1\" /><path clip-path=\"url(#clip960)\" d=\"M1123.44 49.7694 Q1114.4 49.7694 1110.92 51.8354 Q1107.43 53.9013 1107.43 58.8839 Q1107.43 62.8538 1110.03 65.2034 Q1112.66 67.5124 1117.16 67.5124 Q1123.35 67.5124 1127.08 63.1374 Q1130.85 58.7219 1130.85 51.4303 L1130.85 49.7694 L1123.44 49.7694 M1138.3 46.6907 L1138.3 72.576 L1130.85 72.576 L1130.85 65.6895 Q1128.3 69.8214 1124.49 71.8063 Q1120.68 73.7508 1115.17 73.7508 Q1108.2 73.7508 1104.07 69.8619 Q1099.98 65.9325 1099.98 59.3701 Q1099.98 51.7138 1105.09 47.825 Q1110.23 43.9361 1120.4 43.9361 L1130.85 43.9361 L1130.85 43.2069 Q1130.85 38.0623 1127.45 35.2672 Q1124.08 32.4315 1117.97 32.4315 Q1114.08 32.4315 1110.39 33.3632 Q1106.71 34.295 1103.3 36.1584 L1103.3 29.2718 Q1107.39 27.692 1111.24 26.9223 Q1115.09 26.1121 1118.74 26.1121 Q1128.58 26.1121 1133.44 31.2163 Q1138.3 36.3204 1138.3 46.6907 Z\" fill=\"#000000\" fill-rule=\"evenodd\" fill-opacity=\"1\" /><path clip-path=\"url(#clip960)\" d=\"M1161.03 14.324 L1161.03 27.2059 L1176.38 27.2059 L1176.38 32.9987 L1161.03 32.9987 L1161.03 57.6282 Q1161.03 63.1779 1162.53 64.7578 Q1164.07 66.3376 1168.72 66.3376 L1176.38 66.3376 L1176.38 72.576 L1168.72 72.576 Q1160.1 72.576 1156.82 69.3758 Q1153.53 66.1351 1153.53 57.6282 L1153.53 32.9987 L1148.07 32.9987 L1148.07 27.2059 L1153.53 27.2059 L1153.53 14.324 L1161.03 14.324 Z\" fill=\"#000000\" fill-rule=\"evenodd\" fill-opacity=\"1\" /><path clip-path=\"url(#clip960)\" d=\"M1224.99 48.0275 L1224.99 51.6733 L1190.72 51.6733 Q1191.21 59.3701 1195.34 63.421 Q1199.51 67.4314 1206.92 67.4314 Q1211.22 67.4314 1215.23 66.3781 Q1219.28 65.3249 1223.25 63.2184 L1223.25 70.267 Q1219.24 71.9684 1215.03 72.8596 Q1210.81 73.7508 1206.48 73.7508 Q1195.62 73.7508 1189.26 67.4314 Q1182.94 61.1119 1182.94 50.3365 Q1182.94 39.1965 1188.94 32.6746 Q1194.97 26.1121 1205.18 26.1121 Q1214.34 26.1121 1219.64 32.0264 Q1224.99 37.9003 1224.99 48.0275 M1217.54 45.84 Q1217.46 39.7232 1214.1 36.0774 Q1210.77 32.4315 1205.26 32.4315 Q1199.03 32.4315 1195.26 35.9558 Q1191.53 39.4801 1190.96 45.8805 L1217.54 45.84 Z\" fill=\"#000000\" fill-rule=\"evenodd\" fill-opacity=\"1\" /><path clip-path=\"url(#clip960)\" d=\"M1263.92 12.096 L1272.1 12.096 L1272.1 36.8875 L1301.84 36.8875 L1301.84 12.096 L1310.02 12.096 L1310.02 72.576 L1301.84 72.576 L1301.84 43.7741 L1272.1 43.7741 L1272.1 72.576 L1263.92 72.576 L1263.92 12.096 Z\" fill=\"#000000\" fill-rule=\"evenodd\" fill-opacity=\"1\" /><path clip-path=\"url(#clip960)\" d=\"M1325.98 27.2059 L1333.43 27.2059 L1333.43 72.576 L1325.98 72.576 L1325.98 27.2059 M1325.98 9.54393 L1333.43 9.54393 L1333.43 18.9825 L1325.98 18.9825 L1325.98 9.54393 Z\" fill=\"#000000\" fill-rule=\"evenodd\" fill-opacity=\"1\" /><path clip-path=\"url(#clip960)\" d=\"M1377.95 28.5427 L1377.95 35.5912 Q1374.79 33.9709 1371.39 33.1607 Q1367.99 32.3505 1364.34 32.3505 Q1358.79 32.3505 1356 34.0519 Q1353.24 35.7533 1353.24 39.156 Q1353.24 41.7486 1355.23 43.2475 Q1357.21 44.7058 1363.21 46.0426 L1365.76 46.6097 Q1373.7 48.3111 1377.02 51.4303 Q1380.38 54.509 1380.38 60.0587 Q1380.38 66.3781 1375.36 70.0644 Q1370.38 73.7508 1361.63 73.7508 Q1357.98 73.7508 1354.01 73.0216 Q1350.08 72.3329 1345.71 70.9151 L1345.71 63.2184 Q1349.84 65.3654 1353.85 66.4591 Q1357.86 67.5124 1361.79 67.5124 Q1367.06 67.5124 1369.89 65.73 Q1372.73 63.9071 1372.73 60.6258 Q1372.73 57.5877 1370.66 55.9673 Q1368.64 54.3469 1361.71 52.8481 L1359.12 52.2405 Q1352.19 50.7821 1349.11 47.7845 Q1346.03 44.7463 1346.03 39.4801 Q1346.03 33.0797 1350.57 29.5959 Q1355.11 26.1121 1363.45 26.1121 Q1367.58 26.1121 1371.23 26.7198 Q1374.88 27.3274 1377.95 28.5427 Z\" fill=\"#000000\" fill-rule=\"evenodd\" fill-opacity=\"1\" /><path clip-path=\"url(#clip960)\" d=\"M1399.63 14.324 L1399.63 27.2059 L1414.98 27.2059 L1414.98 32.9987 L1399.63 32.9987 L1399.63 57.6282 Q1399.63 63.1779 1401.13 64.7578 Q1402.66 66.3376 1407.32 66.3376 L1414.98 66.3376 L1414.98 72.576 L1407.32 72.576 Q1398.69 72.576 1395.41 69.3758 Q1392.13 66.1351 1392.13 57.6282 L1392.13 32.9987 L1386.66 32.9987 L1386.66 27.2059 L1392.13 27.2059 L1392.13 14.324 L1399.63 14.324 Z\" fill=\"#000000\" fill-rule=\"evenodd\" fill-opacity=\"1\" /><path clip-path=\"url(#clip960)\" d=\"M1442.36 32.4315 Q1436.37 32.4315 1432.88 37.1306 Q1429.4 41.7891 1429.4 49.9314 Q1429.4 58.0738 1432.84 62.7728 Q1436.33 67.4314 1442.36 67.4314 Q1448.32 67.4314 1451.8 62.7323 Q1455.29 58.0333 1455.29 49.9314 Q1455.29 41.8701 1451.8 37.1711 Q1448.32 32.4315 1442.36 32.4315 M1442.36 26.1121 Q1452.09 26.1121 1457.64 32.4315 Q1463.19 38.7509 1463.19 49.9314 Q1463.19 61.0714 1457.64 67.4314 Q1452.09 73.7508 1442.36 73.7508 Q1432.6 73.7508 1427.05 67.4314 Q1421.54 61.0714 1421.54 49.9314 Q1421.54 38.7509 1427.05 32.4315 Q1432.6 26.1121 1442.36 26.1121 Z\" fill=\"#000000\" fill-rule=\"evenodd\" fill-opacity=\"1\" /><path clip-path=\"url(#clip960)\" d=\"M1501.83 34.1734 Q1500.57 33.4443 1499.08 33.1202 Q1497.62 32.7556 1495.84 32.7556 Q1489.52 32.7556 1486.11 36.8875 Q1482.75 40.9789 1482.75 48.6757 L1482.75 72.576 L1475.26 72.576 L1475.26 27.2059 L1482.75 27.2059 L1482.75 34.2544 Q1485.1 30.1225 1488.87 28.1376 Q1492.64 26.1121 1498.02 26.1121 Q1498.79 26.1121 1499.72 26.2337 Q1500.66 26.3147 1501.79 26.5172 L1501.83 34.1734 Z\" fill=\"#000000\" fill-rule=\"evenodd\" fill-opacity=\"1\" /><path clip-path=\"url(#clip960)\" d=\"M1528.53 76.7889 Q1525.37 84.8907 1522.37 87.3618 Q1519.37 89.8329 1514.35 89.8329 L1508.39 89.8329 L1508.39 83.5945 L1512.77 83.5945 Q1515.85 83.5945 1517.55 82.1361 Q1519.25 80.6778 1521.32 75.2496 L1522.65 71.8468 L1504.3 27.2059 L1512.2 27.2059 L1526.38 62.6918 L1540.56 27.2059 L1548.46 27.2059 L1528.53 76.7889 Z\" fill=\"#000000\" fill-rule=\"evenodd\" fill-opacity=\"1\" /><polyline clip-path=\"url(#clip962)\" style=\"stroke:#009af9; stroke-linecap:round; stroke-linejoin:round; stroke-width:4; stroke-opacity:1; fill:none\" points=\"271.594,944.985 278.329,952.297 285.064,959.518 291.799,966.648 298.534,973.689 305.27,980.641 312.005,987.504 318.74,994.279 325.475,1000.97 332.21,1007.57 338.945,1014.08 345.68,1020.51 352.416,1026.85 359.151,1033.1 365.886,1039.28 372.621,1045.36 379.356,1051.37 386.091,1057.29 392.827,1063.13 399.562,1068.88 406.297,1074.56 413.032,1080.15 419.767,1085.66 426.502,1091.1 433.237,1096.45 439.973,1101.72 446.708,1106.92 453.443,1112.03 460.178,1117.07 466.913,1122.03 473.648,1126.92 480.384,1131.73 487.119,1136.46 493.854,1141.12 500.589,1145.71 507.324,1150.22 514.059,1154.65 520.794,1159.02 527.53,1163.31 534.265,1167.53 541,1171.67 547.735,1175.75 554.47,1179.76 561.205,1183.69 567.941,1187.56 574.676,1191.35 581.411,1195.08 588.146,1198.74 594.881,1202.34 601.616,1205.86 608.351,1209.32 615.087,1212.72 621.822,1216.04 628.557,1219.31 635.292,1222.5 642.027,1225.64 648.762,1228.71 655.497,1231.72 662.233,1234.66 668.968,1237.54 675.703,1240.36 682.438,1243.12 689.173,1245.82 695.908,1248.46 702.644,1251.04 709.379,1253.56 716.114,1256.02 722.849,1258.43 729.584,1260.77 736.319,1263.06 743.054,1265.29 749.79,1267.47 756.525,1269.59 763.26,1271.65 769.995,1273.66 776.73,1275.62 783.465,1277.52 790.201,1279.37 796.936,1281.17 803.671,1282.91 810.406,1284.6 817.141,1286.24 823.876,1287.83 830.611,1289.37 837.347,1290.85 844.082,1292.29 850.817,1293.68 857.552,1295.02 864.287,1296.32 871.022,1297.56 877.758,1298.76 884.493,1299.91 891.228,1301.01 897.963,1302.07 904.698,1303.09 911.433,1304.05 918.168,1304.98 924.904,1305.86 931.639,1306.69 938.374,1307.49 945.109,1308.24 951.844,1308.95 958.579,1309.61 965.314,1310.24 972.05,1310.82 978.785,1311.36 985.52,1311.87 992.255,1312.33 998.99,1312.76 1005.73,1313.14 1012.46,1313.49 1019.2,1313.8 1025.93,1314.08 1032.67,1314.31 1039.4,1314.51 1046.14,1314.67 1052.87,1314.8 1059.61,1314.9 1066.34,1314.95 1073.08,1314.98 1079.81,1314.97 1086.55,1314.92 1093.28,1314.85 1100.02,1314.74 1106.75,1314.6 1113.49,1314.42 1120.22,1314.22 1126.96,1313.98 1133.69,1313.72 1140.43,1313.42 1147.16,1313.1 1153.9,1312.74 1160.63,1312.36 1167.37,1311.95 1174.1,1311.51 1180.84,1311.04 1187.57,1310.55 1194.31,1310.02 1201.04,1309.48 1207.78,1308.9 1214.52,1308.3 1221.25,1307.68 1227.99,1307.03 1234.72,1306.36 1241.46,1305.66 1248.19,1304.94 1254.93,1304.2 1261.66,1303.43 1268.4,1302.64 1275.13,1301.83 1281.87,1301 1288.6,1300.14 1295.34,1299.27 1302.07,1298.37 1308.81,1297.46 1315.54,1296.53 1322.28,1295.57 1329.01,1294.6 1335.75,1293.61 1342.48,1292.6 1349.22,1291.57 1355.95,1290.53 1362.69,1289.47 1369.42,1288.39 1376.16,1287.3 1382.89,1286.19 1389.63,1285.07 1396.36,1283.93 1403.1,1282.77 1409.83,1281.61 1416.57,1280.43 1423.3,1279.23 1430.04,1278.02 1436.78,1276.8 1443.51,1275.57 1450.25,1274.32 1456.98,1273.07 1463.72,1271.8 1470.45,1270.52 1477.19,1269.23 1483.92,1267.93 1490.66,1266.62 1497.39,1265.3 1504.13,1263.97 1510.86,1262.64 1517.6,1261.29 1524.33,1259.94 1531.07,1258.58 1537.8,1257.21 1544.54,1255.84 1551.27,1254.45 1558.01,1253.07 1564.74,1251.67 1571.48,1250.28 1578.21,1248.87 1584.95,1247.46 1591.68,1246.05 1598.42,1244.63 1605.15,1243.21 1611.89,1241.79 1618.62,1240.36 1625.36,1238.93 1632.09,1237.5 1638.83,1236.07 1645.56,1234.63 1652.3,1233.2 1659.04,1231.76 1665.77,1230.32 1672.51,1228.89 1679.24,1227.45 1685.98,1226.01 1692.71,1224.58 1699.45,1223.14 1706.18,1221.71 1712.92,1220.28 1719.65,1218.85 1726.39,1217.42 1733.12,1216 1739.86,1214.57 1746.59,1213.16 1753.33,1211.74 1760.06,1210.34 1766.8,1208.93 1773.53,1207.53 1780.27,1206.14 1787,1204.75 1793.74,1203.37 1800.47,1201.99 1807.21,1200.62 1813.94,1199.26 1820.68,1197.91 1827.41,1196.56 1834.15,1195.22 1840.88,1193.89 1847.62,1192.57 1854.35,1191.26 1861.09,1189.95 1867.82,1188.66 1874.56,1187.37 1881.3,1186.1 1888.03,1184.84 1894.77,1183.59 1901.5,1182.34 1908.24,1181.12 1914.97,1179.9 1921.71,1178.69 1928.44,1177.5 1935.18,1176.32 1941.91,1175.16 1948.65,1174.01 1955.38,1172.87 1962.12,1171.75 1968.85,1170.64 1975.59,1169.54 1982.32,1168.47 1989.06,1167.4 1995.79,1166.36 2002.53,1165.33 2009.26,1164.31 2016,1163.32 2022.73,1162.34 2029.47,1161.38 2036.2,1160.43 2042.94,1159.51 2049.67,1158.6 2056.41,1157.71 2063.14,1156.84 2069.88,1155.99 2076.61,1155.17 2083.35,1154.36 2090.08,1153.57 2096.82,1152.8 2103.56,1152.06 2110.29,1151.33 2117.03,1150.63 2123.76,1149.95 2130.5,1149.3 2137.23,1148.66 2143.97,1148.05 2150.7,1147.46 2157.44,1146.9 2164.17,1146.36 2170.91,1145.85 2177.64,1145.36 2184.38,1144.89 2191.11,1144.45 2197.85,1144.04 2204.58,1143.65 2211.32,1143.29 2218.05,1142.96 2224.79,1142.66 2231.52,1142.38 2238.26,1142.13 2244.99,1141.9 2251.73,1141.71 2258.46,1141.55 2265.2,1141.41 2271.93,1141.31 2278.67,1141.23 2285.4,1141.18 2292.14,1141.17 \"/>\n",
       "<polyline clip-path=\"url(#clip962)\" style=\"stroke:#e26f46; stroke-linecap:round; stroke-linejoin:round; stroke-width:4; stroke-opacity:1; fill:none\" points=\"271.594,1043.08 278.329,1038.21 285.064,1033.43 291.799,1028.73 298.534,1024.11 305.27,1019.57 312.005,1015.11 318.74,1010.73 325.475,1006.43 332.21,1002.2 338.945,998.051 345.68,993.979 352.416,989.983 359.151,986.062 365.886,982.216 372.621,978.445 379.356,974.747 386.091,971.122 392.827,967.57 399.562,964.089 406.297,960.681 413.032,957.343 419.767,954.075 426.502,950.877 433.237,947.748 439.973,944.688 446.708,941.696 453.443,938.771 460.178,935.914 466.913,933.122 473.648,930.397 480.384,927.737 487.119,925.141 493.854,922.61 500.589,920.143 507.324,917.738 514.059,915.396 520.794,913.116 527.53,910.898 534.265,908.741 541,906.644 547.735,904.606 554.47,902.629 561.205,900.71 567.941,898.849 574.676,897.046 581.411,895.3 588.146,893.611 594.881,891.978 601.616,890.401 608.351,888.879 615.087,887.412 621.822,885.999 628.557,884.639 635.292,883.332 642.027,882.078 648.762,880.876 655.497,879.726 662.233,878.627 668.968,877.578 675.703,876.579 682.438,875.63 689.173,874.729 695.908,873.878 702.644,873.074 709.379,872.318 716.114,871.609 722.849,870.947 729.584,870.33 736.319,869.76 743.054,869.234 749.79,868.753 756.525,868.316 763.26,867.923 769.995,867.573 776.73,867.266 783.465,867.001 790.201,866.778 796.936,866.596 803.671,866.455 810.406,866.355 817.141,866.294 823.876,866.273 830.611,866.29 837.347,866.347 844.082,866.441 850.817,866.573 857.552,866.742 864.287,866.948 871.022,867.19 877.758,867.468 884.493,867.781 891.228,868.13 897.963,868.512 904.698,868.929 911.433,869.379 918.168,869.863 924.904,870.379 931.639,870.928 938.374,871.508 945.109,872.12 951.844,872.763 958.579,873.436 965.314,874.14 972.05,874.873 978.785,875.636 985.52,876.428 992.255,877.248 998.99,878.096 1005.73,878.971 1012.46,879.874 1019.2,880.804 1025.93,881.76 1032.67,882.743 1039.4,883.75 1046.14,884.783 1052.87,885.841 1059.61,886.923 1066.34,888.03 1073.08,889.159 1079.81,890.312 1086.55,891.488 1093.28,892.686 1100.02,893.907 1106.75,895.148 1113.49,896.412 1120.22,897.696 1126.96,899 1133.69,900.324 1140.43,901.669 1147.16,903.032 1153.9,904.415 1160.63,905.816 1167.37,907.235 1174.1,908.672 1180.84,910.127 1187.57,911.598 1194.31,913.087 1201.04,914.591 1207.78,916.112 1214.52,917.648 1221.25,919.2 1227.99,920.766 1234.72,922.347 1241.46,923.942 1248.19,925.551 1254.93,927.174 1261.66,928.809 1268.4,930.457 1275.13,932.118 1281.87,933.791 1288.6,935.475 1295.34,937.171 1302.07,938.877 1308.81,940.595 1315.54,942.322 1322.28,944.06 1329.01,945.807 1335.75,947.564 1342.48,949.329 1349.22,951.103 1355.95,952.886 1362.69,954.676 1369.42,956.474 1376.16,958.279 1382.89,960.091 1389.63,961.909 1396.36,963.734 1403.1,965.565 1409.83,967.402 1416.57,969.243 1423.3,971.09 1430.04,972.941 1436.78,974.797 1443.51,976.657 1450.25,978.52 1456.98,980.387 1463.72,982.257 1470.45,984.129 1477.19,986.004 1483.92,987.881 1490.66,989.759 1497.39,991.64 1504.13,993.521 1510.86,995.403 1517.6,997.286 1524.33,999.168 1531.07,1001.05 1537.8,1002.93 1544.54,1004.81 1551.27,1006.7 1558.01,1008.57 1564.74,1010.45 1571.48,1012.33 1578.21,1014.2 1584.95,1016.07 1591.68,1017.94 1598.42,1019.81 1605.15,1021.67 1611.89,1023.52 1618.62,1025.38 1625.36,1027.23 1632.09,1029.07 1638.83,1030.91 1645.56,1032.75 1652.3,1034.57 1659.04,1036.4 1665.77,1038.21 1672.51,1040.03 1679.24,1041.83 1685.98,1043.63 1692.71,1045.42 1699.45,1047.2 1706.18,1048.97 1712.92,1050.74 1719.65,1052.49 1726.39,1054.24 1733.12,1055.98 1739.86,1057.71 1746.59,1059.43 1753.33,1061.14 1760.06,1062.85 1766.8,1064.54 1773.53,1066.22 1780.27,1067.88 1787,1069.54 1793.74,1071.19 1800.47,1072.82 1807.21,1074.44 1813.94,1076.05 1820.68,1077.65 1827.41,1079.23 1834.15,1080.8 1840.88,1082.36 1847.62,1083.9 1854.35,1085.43 1861.09,1086.94 1867.82,1088.44 1874.56,1089.92 1881.3,1091.39 1888.03,1092.85 1894.77,1094.28 1901.5,1095.71 1908.24,1097.11 1914.97,1098.5 1921.71,1099.87 1928.44,1101.23 1935.18,1102.56 1941.91,1103.88 1948.65,1105.18 1955.38,1106.47 1962.12,1107.73 1968.85,1108.98 1975.59,1110.2 1982.32,1111.41 1989.06,1112.6 1995.79,1113.76 2002.53,1114.91 2009.26,1116.04 2016,1117.14 2022.73,1118.23 2029.47,1119.29 2036.2,1120.33 2042.94,1121.35 2049.67,1122.35 2056.41,1123.32 2063.14,1124.27 2069.88,1125.2 2076.61,1126.11 2083.35,1126.99 2090.08,1127.85 2096.82,1128.69 2103.56,1129.5 2110.29,1130.28 2117.03,1131.04 2123.76,1131.78 2130.5,1132.49 2137.23,1133.17 2143.97,1133.83 2150.7,1134.46 2157.44,1135.07 2164.17,1135.64 2170.91,1136.2 2177.64,1136.72 2184.38,1137.22 2191.11,1137.68 2197.85,1138.12 2204.58,1138.54 2211.32,1138.92 2218.05,1139.27 2224.79,1139.6 2231.52,1139.89 2238.26,1140.16 2244.99,1140.39 2251.73,1140.6 2258.46,1140.77 2265.2,1140.91 2271.93,1141.02 2278.67,1141.1 2285.4,1141.15 2292.14,1141.17 \"/>\n",
       "<polyline clip-path=\"url(#clip962)\" style=\"stroke:#3da44d; stroke-linecap:round; stroke-linejoin:round; stroke-width:4; stroke-opacity:1; fill:none\" points=\"271.594,160.256 278.329,172.473 285.064,184.599 291.799,196.635 298.534,208.581 305.27,220.437 312.005,232.204 318.74,243.881 325.475,255.469 332.21,266.967 338.945,278.376 345.68,289.696 352.416,300.927 359.151,312.07 365.886,323.124 372.621,334.089 379.356,344.966 386.091,355.755 392.827,366.456 399.562,377.069 406.297,387.595 413.032,398.034 419.767,408.385 426.502,418.649 433.237,428.827 439.973,438.918 446.708,448.922 453.443,458.841 460.178,468.673 466.913,478.42 473.648,488.082 480.384,497.658 487.119,507.149 493.854,516.556 500.589,525.878 507.324,535.116 514.059,544.269 520.794,553.339 527.53,562.326 534.265,571.229 541,580.049 547.735,588.787 554.47,597.442 561.205,606.015 567.941,614.507 574.676,622.916 581.411,631.245 588.146,639.492 594.881,647.659 601.616,655.745 608.351,663.751 615.087,671.677 621.822,679.524 628.557,687.291 635.292,694.98 642.027,702.59 648.762,710.121 655.497,717.575 662.233,724.951 668.968,732.25 675.703,739.471 682.438,746.616 689.173,753.685 695.908,760.677 702.644,767.594 709.379,774.435 716.114,781.202 722.849,787.894 729.584,794.511 736.319,801.054 743.054,807.524 749.79,813.92 756.525,820.244 763.26,826.494 769.995,832.673 776.73,838.779 783.465,844.814 790.201,850.778 796.936,856.671 803.671,862.493 810.406,868.246 817.141,873.928 823.876,879.541 830.611,885.086 837.347,890.561 844.082,895.968 850.817,901.307 857.552,906.579 864.287,911.784 871.022,916.921 877.758,921.992 884.493,926.998 891.228,931.937 897.963,936.811 904.698,941.621 911.433,946.366 918.168,951.046 924.904,955.663 931.639,960.217 938.374,964.707 945.109,969.135 951.844,973.501 958.579,977.805 965.314,982.047 972.05,986.229 978.785,990.349 985.52,994.41 992.255,998.41 998.99,1002.35 1005.73,1006.23 1012.46,1010.06 1019.2,1013.82 1025.93,1017.53 1032.67,1021.18 1039.4,1024.77 1046.14,1028.31 1052.87,1031.79 1059.61,1035.21 1066.34,1038.58 1073.08,1041.89 1079.81,1045.15 1086.55,1048.35 1093.28,1051.51 1100.02,1054.6 1106.75,1057.65 1113.49,1060.64 1120.22,1063.58 1126.96,1066.46 1133.69,1069.3 1140.43,1072.08 1147.16,1074.82 1153.9,1077.5 1160.63,1080.13 1167.37,1082.72 1174.1,1085.25 1180.84,1087.74 1187.57,1090.18 1194.31,1092.57 1201.04,1094.91 1207.78,1097.21 1214.52,1099.46 1221.25,1101.66 1227.99,1103.82 1234.72,1105.93 1241.46,1108 1248.19,1110.02 1254.93,1112 1261.66,1113.93 1268.4,1115.82 1275.13,1117.67 1281.87,1119.48 1288.6,1121.24 1295.34,1122.96 1302.07,1124.64 1308.81,1126.28 1315.54,1127.88 1322.28,1129.44 1329.01,1130.96 1335.75,1132.44 1342.48,1133.89 1349.22,1135.29 1355.95,1136.65 1362.69,1137.98 1369.42,1139.27 1376.16,1140.53 1382.89,1141.74 1389.63,1142.93 1396.36,1144.07 1403.1,1145.18 1409.83,1146.26 1416.57,1147.3 1423.3,1148.31 1430.04,1149.28 1436.78,1150.22 1443.51,1151.13 1450.25,1152.01 1456.98,1152.85 1463.72,1153.67 1470.45,1154.45 1477.19,1155.2 1483.92,1155.92 1490.66,1156.61 1497.39,1157.27 1504.13,1157.91 1510.86,1158.51 1517.6,1159.09 1524.33,1159.63 1531.07,1160.15 1537.8,1160.65 1544.54,1161.11 1551.27,1161.55 1558.01,1161.97 1564.74,1162.36 1571.48,1162.72 1578.21,1163.06 1584.95,1163.38 1591.68,1163.67 1598.42,1163.94 1605.15,1164.18 1611.89,1164.41 1618.62,1164.61 1625.36,1164.79 1632.09,1164.95 1638.83,1165.08 1645.56,1165.2 1652.3,1165.29 1659.04,1165.37 1665.77,1165.43 1672.51,1165.47 1679.24,1165.49 1685.98,1165.49 1692.71,1165.47 1699.45,1165.44 1706.18,1165.39 1712.92,1165.32 1719.65,1165.23 1726.39,1165.14 1733.12,1165.02 1739.86,1164.89 1746.59,1164.75 1753.33,1164.59 1760.06,1164.42 1766.8,1164.23 1773.53,1164.03 1780.27,1163.82 1787,1163.6 1793.74,1163.37 1800.47,1163.12 1807.21,1162.86 1813.94,1162.6 1820.68,1162.32 1827.41,1162.03 1834.15,1161.73 1840.88,1161.43 1847.62,1161.11 1854.35,1160.79 1861.09,1160.46 1867.82,1160.12 1874.56,1159.78 1881.3,1159.43 1888.03,1159.07 1894.77,1158.7 1901.5,1158.34 1908.24,1157.96 1914.97,1157.58 1921.71,1157.2 1928.44,1156.81 1935.18,1156.42 1941.91,1156.03 1948.65,1155.64 1955.38,1155.24 1962.12,1154.84 1968.85,1154.44 1975.59,1154.03 1982.32,1153.63 1989.06,1153.23 1995.79,1152.82 2002.53,1152.42 2009.26,1152.02 2016,1151.62 2022.73,1151.22 2029.47,1150.82 2036.2,1150.43 2042.94,1150.04 2049.67,1149.65 2056.41,1149.27 2063.14,1148.89 2069.88,1148.51 2076.61,1148.14 2083.35,1147.77 2090.08,1147.41 2096.82,1147.06 2103.56,1146.71 2110.29,1146.37 2117.03,1146.03 2123.76,1145.71 2130.5,1145.39 2137.23,1145.08 2143.97,1144.78 2150.7,1144.49 2157.44,1144.2 2164.17,1143.93 2170.91,1143.67 2177.64,1143.42 2184.38,1143.18 2191.11,1142.95 2197.85,1142.73 2204.58,1142.53 2211.32,1142.34 2218.05,1142.16 2224.79,1141.99 2231.52,1141.84 2238.26,1141.7 2244.99,1141.58 2251.73,1141.47 2258.46,1141.38 2265.2,1141.31 2271.93,1141.25 2278.67,1141.2 2285.4,1141.18 2292.14,1141.17 \"/>\n",
       "<polyline clip-path=\"url(#clip962)\" style=\"stroke:#c271d2; stroke-linecap:round; stroke-linejoin:round; stroke-width:4; stroke-opacity:1; fill:none\" stroke-dasharray=\"16, 10\" points=\"271.594,1288.3 278.329,1286.49 285.064,1284.68 291.799,1282.88 298.534,1281.09 305.27,1279.31 312.005,1277.55 318.74,1275.79 325.475,1274.04 332.21,1272.3 338.945,1270.57 345.68,1268.85 352.416,1267.15 359.151,1265.45 365.886,1263.76 372.621,1262.08 379.356,1260.41 386.091,1258.75 392.827,1257.11 399.562,1255.47 406.297,1253.84 413.032,1252.22 419.767,1250.61 426.502,1249.02 433.237,1247.43 439.973,1245.85 446.708,1244.28 453.443,1242.73 460.178,1241.18 466.913,1239.64 473.648,1238.12 480.384,1236.6 487.119,1235.09 493.854,1233.6 500.589,1232.11 507.324,1230.63 514.059,1229.17 520.794,1227.71 527.53,1226.26 534.265,1224.83 541,1223.4 547.735,1221.98 554.47,1220.58 561.205,1219.18 567.941,1217.8 574.676,1216.42 581.411,1215.05 588.146,1213.7 594.881,1212.35 601.616,1211.02 608.351,1209.69 615.087,1208.37 621.822,1207.07 628.557,1205.77 635.292,1204.49 642.027,1203.21 648.762,1201.94 655.497,1200.69 662.233,1199.44 668.968,1198.2 675.703,1196.98 682.438,1195.76 689.173,1194.55 695.908,1193.35 702.644,1192.17 709.379,1190.99 716.114,1189.82 722.849,1188.66 729.584,1187.51 736.319,1186.37 743.054,1185.24 749.79,1184.12 756.525,1183.01 763.26,1181.91 769.995,1180.82 776.73,1179.74 783.465,1178.67 790.201,1177.6 796.936,1176.55 803.671,1175.51 810.406,1174.47 817.141,1173.45 823.876,1172.43 830.611,1171.43 837.347,1170.43 844.082,1169.44 850.817,1168.47 857.552,1167.5 864.287,1166.54 871.022,1165.59 877.758,1164.65 884.493,1163.72 891.228,1162.8 897.963,1161.88 904.698,1160.98 911.433,1160.09 918.168,1159.2 924.904,1158.32 931.639,1157.46 938.374,1156.6 945.109,1155.75 951.844,1154.91 958.579,1154.08 965.314,1153.26 972.05,1152.44 978.785,1151.64 985.52,1150.84 992.255,1150.06 998.99,1149.28 1005.73,1148.51 1012.46,1147.75 1019.2,1147 1025.93,1146.26 1032.67,1145.52 1039.4,1144.8 1046.14,1144.08 1052.87,1143.38 1059.61,1142.68 1066.34,1141.99 1073.08,1141.3 1079.81,1140.63 1086.55,1139.97 1093.28,1139.31 1100.02,1138.66 1106.75,1138.02 1113.49,1137.39 1120.22,1136.77 1126.96,1136.16 1133.69,1135.55 1140.43,1134.95 1147.16,1134.37 1153.9,1133.78 1160.63,1133.21 1167.37,1132.65 1174.1,1132.09 1180.84,1131.55 1187.57,1131.01 1194.31,1130.48 1201.04,1129.95 1207.78,1129.44 1214.52,1128.93 1221.25,1128.43 1227.99,1127.94 1234.72,1127.46 1241.46,1126.98 1248.19,1126.52 1254.93,1126.06 1261.66,1125.61 1268.4,1125.17 1275.13,1124.73 1281.87,1124.31 1288.6,1123.89 1295.34,1123.48 1302.07,1123.07 1308.81,1122.68 1315.54,1122.29 1322.28,1121.91 1329.01,1121.54 1335.75,1121.17 1342.48,1120.82 1349.22,1120.47 1355.95,1120.13 1362.69,1119.79 1369.42,1119.47 1376.16,1119.15 1382.89,1118.84 1389.63,1118.53 1396.36,1118.24 1403.1,1117.95 1409.83,1117.67 1416.57,1117.4 1423.3,1117.13 1430.04,1116.87 1436.78,1116.62 1443.51,1116.38 1450.25,1116.14 1456.98,1115.92 1463.72,1115.69 1470.45,1115.48 1477.19,1115.27 1483.92,1115.07 1490.66,1114.88 1497.39,1114.7 1504.13,1114.52 1510.86,1114.35 1517.6,1114.19 1524.33,1114.03 1531.07,1113.88 1537.8,1113.74 1544.54,1113.61 1551.27,1113.48 1558.01,1113.36 1564.74,1113.25 1571.48,1113.15 1578.21,1113.05 1584.95,1112.96 1591.68,1112.87 1598.42,1112.8 1605.15,1112.73 1611.89,1112.66 1618.62,1112.61 1625.36,1112.56 1632.09,1112.52 1638.83,1112.48 1645.56,1112.45 1652.3,1112.43 1659.04,1112.42 1665.77,1112.41 1672.51,1112.41 1679.24,1112.42 1685.98,1112.43 1692.71,1112.45 1699.45,1112.48 1706.18,1112.52 1712.92,1112.56 1719.65,1112.61 1726.39,1112.66 1733.12,1112.72 1739.86,1112.79 1746.59,1112.87 1753.33,1112.95 1760.06,1113.04 1766.8,1113.13 1773.53,1113.24 1780.27,1113.35 1787,1113.46 1793.74,1113.59 1800.47,1113.72 1807.21,1113.85 1813.94,1114 1820.68,1114.15 1827.41,1114.3 1834.15,1114.47 1840.88,1114.64 1847.62,1114.82 1854.35,1115 1861.09,1115.19 1867.82,1115.39 1874.56,1115.59 1881.3,1115.8 1888.03,1116.02 1894.77,1116.24 1901.5,1116.47 1908.24,1116.71 1914.97,1116.95 1921.71,1117.2 1928.44,1117.46 1935.18,1117.73 1941.91,1118 1948.65,1118.27 1955.38,1118.56 1962.12,1118.85 1968.85,1119.14 1975.59,1119.45 1982.32,1119.76 1989.06,1120.07 1995.79,1120.4 2002.53,1120.73 2009.26,1121.06 2016,1121.41 2022.73,1121.76 2029.47,1122.11 2036.2,1122.48 2042.94,1122.85 2049.67,1123.22 2056.41,1123.61 2063.14,1124 2069.88,1124.39 2076.61,1124.8 2083.35,1125.2 2090.08,1125.62 2096.82,1126.04 2103.56,1126.47 2110.29,1126.91 2117.03,1127.35 2123.76,1127.8 2130.5,1128.25 2137.23,1128.72 2143.97,1129.19 2150.7,1129.66 2157.44,1130.14 2164.17,1130.63 2170.91,1131.13 2177.64,1131.63 2184.38,1132.14 2191.11,1132.65 2197.85,1133.17 2204.58,1133.7 2211.32,1134.24 2218.05,1134.78 2224.79,1135.33 2231.52,1135.88 2238.26,1136.44 2244.99,1137.01 2251.73,1137.58 2258.46,1138.16 2265.2,1138.75 2271.93,1139.35 2278.67,1139.95 2285.4,1140.55 2292.14,1141.17 \"/>\n",
       "<polyline clip-path=\"url(#clip962)\" style=\"stroke:#ac8d18; stroke-linecap:round; stroke-linejoin:round; stroke-width:4; stroke-opacity:1; fill:none\" stroke-dasharray=\"16, 10\" points=\"271.594,1043.08 278.329,1044.72 285.064,1046.35 291.799,1047.96 298.534,1049.57 305.27,1051.17 312.005,1052.75 318.74,1054.32 325.475,1055.88 332.21,1057.43 338.945,1058.96 345.68,1060.49 352.416,1062 359.151,1063.51 365.886,1065 372.621,1066.48 379.356,1067.94 386.091,1069.4 392.827,1070.85 399.562,1072.28 406.297,1073.7 413.032,1075.11 419.767,1076.51 426.502,1077.9 433.237,1079.28 439.973,1080.65 446.708,1082 453.443,1083.35 460.178,1084.68 466.913,1086 473.648,1087.31 480.384,1088.61 487.119,1089.9 493.854,1091.18 500.589,1092.45 507.324,1093.71 514.059,1094.95 520.794,1096.19 527.53,1097.41 534.265,1098.63 541,1099.83 547.735,1101.02 554.47,1102.2 561.205,1103.37 567.941,1104.53 574.676,1105.68 581.411,1106.82 588.146,1107.95 594.881,1109.07 601.616,1110.18 608.351,1111.28 615.087,1112.36 621.822,1113.44 628.557,1114.51 635.292,1115.56 642.027,1116.61 648.762,1117.65 655.497,1118.67 662.233,1119.69 668.968,1120.69 675.703,1121.69 682.438,1122.68 689.173,1123.65 695.908,1124.62 702.644,1125.57 709.379,1126.52 716.114,1127.46 722.849,1128.38 729.584,1129.3 736.319,1130.21 743.054,1131.1 749.79,1131.99 756.525,1132.87 763.26,1133.74 769.995,1134.6 776.73,1135.45 783.465,1136.29 790.201,1137.12 796.936,1137.94 803.671,1138.75 810.406,1139.56 817.141,1140.35 823.876,1141.13 830.611,1141.91 837.347,1142.68 844.082,1143.43 850.817,1144.18 857.552,1144.92 864.287,1145.65 871.022,1146.37 877.758,1147.08 884.493,1147.79 891.228,1148.48 897.963,1149.16 904.698,1149.84 911.433,1150.51 918.168,1151.17 924.904,1151.82 931.639,1152.46 938.374,1153.09 945.109,1153.72 951.844,1154.33 958.579,1154.94 965.314,1155.54 972.05,1156.13 978.785,1156.71 985.52,1157.29 992.255,1157.85 998.99,1158.41 1005.73,1158.96 1012.46,1159.5 1019.2,1160.03 1025.93,1160.55 1032.67,1161.07 1039.4,1161.58 1046.14,1162.08 1052.87,1162.57 1059.61,1163.05 1066.34,1163.53 1073.08,1164 1079.81,1164.46 1086.55,1164.91 1093.28,1165.35 1100.02,1165.79 1106.75,1166.22 1113.49,1166.64 1120.22,1167.05 1126.96,1167.46 1133.69,1167.86 1140.43,1168.25 1147.16,1168.63 1153.9,1169.01 1160.63,1169.37 1167.37,1169.73 1174.1,1170.09 1180.84,1170.43 1187.57,1170.77 1194.31,1171.1 1201.04,1171.42 1207.78,1171.74 1214.52,1172.05 1221.25,1172.35 1227.99,1172.64 1234.72,1172.93 1241.46,1173.21 1248.19,1173.48 1254.93,1173.75 1261.66,1174.01 1268.4,1174.26 1275.13,1174.5 1281.87,1174.74 1288.6,1174.97 1295.34,1175.19 1302.07,1175.41 1308.81,1175.62 1315.54,1175.82 1322.28,1176.02 1329.01,1176.21 1335.75,1176.39 1342.48,1176.56 1349.22,1176.73 1355.95,1176.9 1362.69,1177.05 1369.42,1177.2 1376.16,1177.34 1382.89,1177.48 1389.63,1177.61 1396.36,1177.73 1403.1,1177.84 1409.83,1177.95 1416.57,1178.05 1423.3,1178.15 1430.04,1178.24 1436.78,1178.32 1443.51,1178.4 1450.25,1178.47 1456.98,1178.53 1463.72,1178.59 1470.45,1178.64 1477.19,1178.69 1483.92,1178.73 1490.66,1178.76 1497.39,1178.78 1504.13,1178.8 1510.86,1178.82 1517.6,1178.82 1524.33,1178.82 1531.07,1178.82 1537.8,1178.81 1544.54,1178.79 1551.27,1178.77 1558.01,1178.74 1564.74,1178.7 1571.48,1178.66 1578.21,1178.61 1584.95,1178.56 1591.68,1178.5 1598.42,1178.43 1605.15,1178.36 1611.89,1178.28 1618.62,1178.2 1625.36,1178.11 1632.09,1178.01 1638.83,1177.91 1645.56,1177.8 1652.3,1177.69 1659.04,1177.57 1665.77,1177.44 1672.51,1177.31 1679.24,1177.18 1685.98,1177.03 1692.71,1176.88 1699.45,1176.73 1706.18,1176.57 1712.92,1176.4 1719.65,1176.23 1726.39,1176.05 1733.12,1175.87 1739.86,1175.68 1746.59,1175.49 1753.33,1175.28 1760.06,1175.08 1766.8,1174.87 1773.53,1174.65 1780.27,1174.42 1787,1174.2 1793.74,1173.96 1800.47,1173.72 1807.21,1173.47 1813.94,1173.22 1820.68,1172.96 1827.41,1172.7 1834.15,1172.43 1840.88,1172.16 1847.62,1171.88 1854.35,1171.59 1861.09,1171.3 1867.82,1171 1874.56,1170.7 1881.3,1170.39 1888.03,1170.08 1894.77,1169.76 1901.5,1169.44 1908.24,1169.11 1914.97,1168.77 1921.71,1168.43 1928.44,1168.08 1935.18,1167.73 1941.91,1167.37 1948.65,1167.01 1955.38,1166.64 1962.12,1166.26 1968.85,1165.88 1975.59,1165.5 1982.32,1165.11 1989.06,1164.71 1995.79,1164.31 2002.53,1163.9 2009.26,1163.49 2016,1163.07 2022.73,1162.64 2029.47,1162.22 2036.2,1161.78 2042.94,1161.34 2049.67,1160.89 2056.41,1160.44 2063.14,1159.98 2069.88,1159.52 2076.61,1159.05 2083.35,1158.58 2090.08,1158.1 2096.82,1157.62 2103.56,1157.12 2110.29,1156.63 2117.03,1156.13 2123.76,1155.62 2130.5,1155.11 2137.23,1154.59 2143.97,1154.07 2150.7,1153.54 2157.44,1153.01 2164.17,1152.47 2170.91,1151.92 2177.64,1151.37 2184.38,1150.81 2191.11,1150.25 2197.85,1149.69 2204.58,1149.11 2211.32,1148.53 2218.05,1147.95 2224.79,1147.36 2231.52,1146.77 2238.26,1146.17 2244.99,1145.56 2251.73,1144.95 2258.46,1144.33 2265.2,1143.71 2271.93,1143.08 2278.67,1142.45 2285.4,1141.81 2292.14,1141.17 \"/>\n",
       "<polyline clip-path=\"url(#clip962)\" style=\"stroke:#00a9ad; stroke-linecap:round; stroke-linejoin:round; stroke-width:4; stroke-opacity:1; fill:none\" stroke-dasharray=\"16, 10\" points=\"271.594,1386.4 278.329,1384.59 285.064,1382.79 291.799,1380.99 298.534,1379.19 305.27,1377.4 312.005,1375.6 318.74,1373.81 325.475,1372.03 332.21,1370.24 338.945,1368.46 345.68,1366.68 352.416,1364.9 359.151,1363.13 365.886,1361.36 372.621,1359.59 379.356,1357.83 386.091,1356.07 392.827,1354.31 399.562,1352.56 406.297,1350.81 413.032,1349.06 419.767,1347.32 426.502,1345.58 433.237,1343.85 439.973,1342.12 446.708,1340.4 453.443,1338.68 460.178,1336.96 466.913,1335.25 473.648,1333.54 480.384,1331.84 487.119,1330.14 493.854,1328.45 500.589,1326.76 507.324,1325.08 514.059,1323.4 520.794,1321.73 527.53,1320.06 534.265,1318.4 541,1316.75 547.735,1315.1 554.47,1313.45 561.205,1311.81 567.941,1310.17 574.676,1308.55 581.411,1306.92 588.146,1305.31 594.881,1303.69 601.616,1302.09 608.351,1300.49 615.087,1298.9 621.822,1297.31 628.557,1295.73 635.292,1294.15 642.027,1292.58 648.762,1291.02 655.497,1289.46 662.233,1287.91 668.968,1286.37 675.703,1284.83 682.438,1283.3 689.173,1281.78 695.908,1280.26 702.644,1278.75 709.379,1277.24 716.114,1275.75 722.849,1274.26 729.584,1272.77 736.319,1271.3 743.054,1269.83 749.79,1268.36 756.525,1266.91 763.26,1265.46 769.995,1264.02 776.73,1262.58 783.465,1261.15 790.201,1259.73 796.936,1258.32 803.671,1256.91 810.406,1255.51 817.141,1254.12 823.876,1252.74 830.611,1251.36 837.347,1249.99 844.082,1248.63 850.817,1247.27 857.552,1245.93 864.287,1244.59 871.022,1243.26 877.758,1241.93 884.493,1240.61 891.228,1239.3 897.963,1238 904.698,1236.71 911.433,1235.42 918.168,1234.14 924.904,1232.87 931.639,1231.61 938.374,1230.35 945.109,1229.1 951.844,1227.86 958.579,1226.63 965.314,1225.4 972.05,1224.19 978.785,1222.98 985.52,1221.78 992.255,1220.58 998.99,1219.4 1005.73,1218.22 1012.46,1217.05 1019.2,1215.89 1025.93,1214.73 1032.67,1213.59 1039.4,1212.45 1046.14,1211.32 1052.87,1210.2 1059.61,1209.09 1066.34,1207.98 1073.08,1206.88 1079.81,1205.79 1086.55,1204.71 1093.28,1203.64 1100.02,1202.57 1106.75,1201.51 1113.49,1200.46 1120.22,1199.42 1126.96,1198.39 1133.69,1197.36 1140.43,1196.35 1147.16,1195.34 1153.9,1194.34 1160.63,1193.34 1167.37,1192.36 1174.1,1191.38 1180.84,1190.41 1187.57,1189.45 1194.31,1188.5 1201.04,1187.56 1207.78,1186.62 1214.52,1185.69 1221.25,1184.77 1227.99,1183.86 1234.72,1182.96 1241.46,1182.06 1248.19,1181.18 1254.93,1180.3 1261.66,1179.43 1268.4,1178.57 1275.13,1177.71 1281.87,1176.87 1288.6,1176.03 1295.34,1175.2 1302.07,1174.38 1308.81,1173.56 1315.54,1172.76 1322.28,1171.96 1329.01,1171.17 1335.75,1170.39 1342.48,1169.62 1349.22,1168.86 1355.95,1168.1 1362.69,1167.35 1369.42,1166.61 1376.16,1165.88 1382.89,1165.16 1389.63,1164.44 1396.36,1163.73 1403.1,1163.04 1409.83,1162.34 1416.57,1161.66 1423.3,1160.99 1430.04,1160.32 1436.78,1159.66 1443.51,1159.01 1450.25,1158.37 1456.98,1157.74 1463.72,1157.11 1470.45,1156.5 1477.19,1155.89 1483.92,1155.29 1490.66,1154.69 1497.39,1154.11 1504.13,1153.53 1510.86,1152.96 1517.6,1152.4 1524.33,1151.85 1531.07,1151.3 1537.8,1150.77 1544.54,1150.24 1551.27,1149.72 1558.01,1149.21 1564.74,1148.7 1571.48,1148.21 1578.21,1147.72 1584.95,1147.24 1591.68,1146.77 1598.42,1146.31 1605.15,1145.85 1611.89,1145.4 1618.62,1144.96 1625.36,1144.53 1632.09,1144.11 1638.83,1143.7 1645.56,1143.29 1652.3,1142.89 1659.04,1142.5 1665.77,1142.12 1672.51,1141.74 1679.24,1141.37 1685.98,1141.01 1692.71,1140.66 1699.45,1140.32 1706.18,1139.99 1712.92,1139.66 1719.65,1139.34 1726.39,1139.03 1733.12,1138.73 1739.86,1138.43 1746.59,1138.14 1753.33,1137.87 1760.06,1137.59 1766.8,1137.33 1773.53,1137.08 1780.27,1136.83 1787,1136.59 1793.74,1136.36 1800.47,1136.14 1807.21,1135.92 1813.94,1135.71 1820.68,1135.51 1827.41,1135.32 1834.15,1135.14 1840.88,1134.96 1847.62,1134.79 1854.35,1134.64 1861.09,1134.48 1867.82,1134.34 1874.56,1134.2 1881.3,1134.08 1888.03,1133.96 1894.77,1133.84 1901.5,1133.74 1908.24,1133.64 1914.97,1133.55 1921.71,1133.47 1928.44,1133.4 1935.18,1133.34 1941.91,1133.28 1948.65,1133.23 1955.38,1133.19 1962.12,1133.16 1968.85,1133.13 1975.59,1133.11 1982.32,1133.1 1989.06,1133.1 1995.79,1133.11 2002.53,1133.12 2009.26,1133.14 2016,1133.17 2022.73,1133.21 2029.47,1133.26 2036.2,1133.31 2042.94,1133.37 2049.67,1133.44 2056.41,1133.52 2063.14,1133.6 2069.88,1133.69 2076.61,1133.8 2083.35,1133.9 2090.08,1134.02 2096.82,1134.14 2103.56,1134.28 2110.29,1134.42 2117.03,1134.56 2123.76,1134.72 2130.5,1134.88 2137.23,1135.05 2143.97,1135.23 2150.7,1135.42 2157.44,1135.62 2164.17,1135.82 2170.91,1136.03 2177.64,1136.25 2184.38,1136.48 2191.11,1136.71 2197.85,1136.95 2204.58,1137.2 2211.32,1137.46 2218.05,1137.73 2224.79,1138 2231.52,1138.28 2238.26,1138.57 2244.99,1138.87 2251.73,1139.17 2258.46,1139.49 2265.2,1139.81 2271.93,1140.14 2278.67,1140.47 2285.4,1140.82 2292.14,1141.17 \"/>\n",
       "<path clip-path=\"url(#clip960)\" d=\"M2023.9 529.676 L2281.36 529.676 L2281.36 166.796 L2023.9 166.796  Z\" fill=\"#ffffff\" fill-rule=\"evenodd\" fill-opacity=\"1\"/>\n",
       "<polyline clip-path=\"url(#clip960)\" style=\"stroke:#000000; stroke-linecap:round; stroke-linejoin:round; stroke-width:4; stroke-opacity:1; fill:none\" points=\"2023.9,529.676 2281.36,529.676 2281.36,166.796 2023.9,166.796 2023.9,529.676 \"/>\n",
       "<polyline clip-path=\"url(#clip960)\" style=\"stroke:#009af9; stroke-linecap:round; stroke-linejoin:round; stroke-width:4; stroke-opacity:1; fill:none\" points=\"2047.7,218.636 2190.48,218.636 \"/>\n",
       "<path clip-path=\"url(#clip960)\" d=\"M2238.93 209.99 L2229.56 222.606 L2239.42 235.916 L2234.39 235.916 L2226.85 225.731 L2219.3 235.916 L2214.28 235.916 L2224.35 222.351 L2215.14 209.99 L2220.16 209.99 L2227.03 219.226 L2233.91 209.99 L2238.93 209.99 Z\" fill=\"#000000\" fill-rule=\"evenodd\" fill-opacity=\"1\" /><path clip-path=\"url(#clip960)\" d=\"M2244.58 233.369 L2249.3 233.369 L2249.3 219.226 L2244.14 220.175 L2244.14 217.49 L2249.46 216.587 L2252.64 216.587 L2252.64 233.369 L2257.38 233.369 L2257.38 235.916 L2244.58 235.916 L2244.58 233.369 Z\" fill=\"#000000\" fill-rule=\"evenodd\" fill-opacity=\"1\" /><polyline clip-path=\"url(#clip960)\" style=\"stroke:#e26f46; stroke-linecap:round; stroke-linejoin:round; stroke-width:4; stroke-opacity:1; fill:none\" points=\"2047.7,270.476 2190.48,270.476 \"/>\n",
       "<path clip-path=\"url(#clip960)\" d=\"M2238.93 261.83 L2229.56 274.446 L2239.42 287.756 L2234.39 287.756 L2226.85 277.571 L2219.3 287.756 L2214.28 287.756 L2224.35 274.191 L2215.14 261.83 L2220.16 261.83 L2227.03 271.066 L2233.91 261.83 L2238.93 261.83 Z\" fill=\"#000000\" fill-rule=\"evenodd\" fill-opacity=\"1\" /><path clip-path=\"url(#clip960)\" d=\"M2247.17 285.117 L2256.99 285.117 L2256.99 287.756 L2243.14 287.756 L2243.14 285.209 Q2243.93 284.492 2245.39 283.196 Q2253.35 276.135 2253.35 273.959 Q2253.35 272.432 2252.15 271.506 Q2250.95 270.557 2248.98 270.557 Q2247.77 270.557 2246.36 270.973 Q2244.95 271.367 2243.28 272.177 L2243.28 269.33 Q2245.07 268.682 2246.59 268.358 Q2248.14 268.034 2249.46 268.034 Q2252.82 268.034 2254.83 269.561 Q2256.85 271.089 2256.85 273.589 Q2256.85 276.807 2249.19 283.381 Q2247.89 284.492 2247.17 285.117 Z\" fill=\"#000000\" fill-rule=\"evenodd\" fill-opacity=\"1\" /><polyline clip-path=\"url(#clip960)\" style=\"stroke:#3da44d; stroke-linecap:round; stroke-linejoin:round; stroke-width:4; stroke-opacity:1; fill:none\" points=\"2047.7,322.316 2190.48,322.316 \"/>\n",
       "<path clip-path=\"url(#clip960)\" d=\"M2238.93 313.67 L2229.56 326.286 L2239.42 339.596 L2234.39 339.596 L2226.85 329.411 L2219.3 339.596 L2214.28 339.596 L2224.35 326.031 L2215.14 313.67 L2220.16 313.67 L2227.03 322.906 L2233.91 313.67 L2238.93 313.67 Z\" fill=\"#000000\" fill-rule=\"evenodd\" fill-opacity=\"1\" /><path clip-path=\"url(#clip960)\" d=\"M2253.1 329.133 Q2255.23 329.549 2256.39 330.823 Q2257.57 332.073 2257.57 333.971 Q2257.57 336.841 2255.37 338.392 Q2253.17 339.943 2249.07 339.943 Q2247.75 339.943 2246.29 339.688 Q2244.86 339.457 2243.24 338.994 L2243.24 336.193 Q2244.44 336.818 2245.81 337.119 Q2247.2 337.42 2248.75 337.42 Q2251.27 337.42 2252.66 336.517 Q2254.05 335.591 2254.05 333.971 Q2254.05 332.258 2252.75 331.378 Q2251.48 330.499 2248.98 330.499 L2246.99 330.499 L2246.99 327.999 L2249.16 327.999 Q2251.34 327.999 2252.45 327.281 Q2253.58 326.54 2253.58 325.151 Q2253.58 323.809 2252.43 323.114 Q2251.27 322.397 2249.07 322.397 Q2248.14 322.397 2246.96 322.605 Q2245.78 322.813 2243.91 323.346 L2243.91 320.684 Q2245.6 320.29 2247.08 320.082 Q2248.56 319.874 2249.83 319.874 Q2253.17 319.874 2255.11 321.239 Q2257.08 322.605 2257.08 324.897 Q2257.08 326.494 2256.04 327.605 Q2255 328.716 2253.1 329.133 Z\" fill=\"#000000\" fill-rule=\"evenodd\" fill-opacity=\"1\" /><polyline clip-path=\"url(#clip960)\" style=\"stroke:#c271d2; stroke-linecap:round; stroke-linejoin:round; stroke-width:4; stroke-opacity:1; fill:none\" stroke-dasharray=\"16, 10\" points=\"2047.7,374.156 2190.48,374.156 \"/>\n",
       "<path clip-path=\"url(#clip960)\" d=\"M2238.93 365.51 L2229.56 378.126 L2239.42 391.436 L2234.39 391.436 L2226.85 381.251 L2219.3 391.436 L2214.28 391.436 L2224.35 377.871 L2215.14 365.51 L2220.16 365.51 L2227.03 374.746 L2233.91 365.51 L2238.93 365.51 Z\" fill=\"#000000\" fill-rule=\"evenodd\" fill-opacity=\"1\" /><path clip-path=\"url(#clip960)\" d=\"M2226.94 355.417 L2231.2 355.417 L2231.2 360.811 L2226.94 360.811 L2226.94 355.417 M2229.12 364.885 L2229.12 364.885 Z\" fill=\"#000000\" fill-rule=\"evenodd\" fill-opacity=\"1\" /><path clip-path=\"url(#clip960)\" d=\"M2244.58 388.889 L2249.3 388.889 L2249.3 374.746 L2244.14 375.695 L2244.14 373.01 L2249.46 372.107 L2252.64 372.107 L2252.64 388.889 L2257.38 388.889 L2257.38 391.436 L2244.58 391.436 L2244.58 388.889 Z\" fill=\"#000000\" fill-rule=\"evenodd\" fill-opacity=\"1\" /><polyline clip-path=\"url(#clip960)\" style=\"stroke:#ac8d18; stroke-linecap:round; stroke-linejoin:round; stroke-width:4; stroke-opacity:1; fill:none\" stroke-dasharray=\"16, 10\" points=\"2047.7,425.996 2190.48,425.996 \"/>\n",
       "<path clip-path=\"url(#clip960)\" d=\"M2238.93 417.35 L2229.56 429.966 L2239.42 443.276 L2234.39 443.276 L2226.85 433.091 L2219.3 443.276 L2214.28 443.276 L2224.35 429.711 L2215.14 417.35 L2220.16 417.35 L2227.03 426.586 L2233.91 417.35 L2238.93 417.35 Z\" fill=\"#000000\" fill-rule=\"evenodd\" fill-opacity=\"1\" /><path clip-path=\"url(#clip960)\" d=\"M2226.94 407.257 L2231.2 407.257 L2231.2 412.651 L2226.94 412.651 L2226.94 407.257 M2229.12 416.725 L2229.12 416.725 Z\" fill=\"#000000\" fill-rule=\"evenodd\" fill-opacity=\"1\" /><path clip-path=\"url(#clip960)\" d=\"M2247.17 440.637 L2256.99 440.637 L2256.99 443.276 L2243.14 443.276 L2243.14 440.729 Q2243.93 440.012 2245.39 438.716 Q2253.35 431.655 2253.35 429.479 Q2253.35 427.952 2252.15 427.026 Q2250.95 426.077 2248.98 426.077 Q2247.77 426.077 2246.36 426.493 Q2244.95 426.887 2243.28 427.697 L2243.28 424.85 Q2245.07 424.202 2246.59 423.878 Q2248.14 423.554 2249.46 423.554 Q2252.82 423.554 2254.83 425.081 Q2256.85 426.609 2256.85 429.109 Q2256.85 432.327 2249.19 438.901 Q2247.89 440.012 2247.17 440.637 Z\" fill=\"#000000\" fill-rule=\"evenodd\" fill-opacity=\"1\" /><polyline clip-path=\"url(#clip960)\" style=\"stroke:#00a9ad; stroke-linecap:round; stroke-linejoin:round; stroke-width:4; stroke-opacity:1; fill:none\" stroke-dasharray=\"16, 10\" points=\"2047.7,477.836 2190.48,477.836 \"/>\n",
       "<path clip-path=\"url(#clip960)\" d=\"M2238.93 469.19 L2229.56 481.806 L2239.42 495.116 L2234.39 495.116 L2226.85 484.931 L2219.3 495.116 L2214.28 495.116 L2224.35 481.551 L2215.14 469.19 L2220.16 469.19 L2227.03 478.426 L2233.91 469.19 L2238.93 469.19 Z\" fill=\"#000000\" fill-rule=\"evenodd\" fill-opacity=\"1\" /><path clip-path=\"url(#clip960)\" d=\"M2226.94 459.097 L2231.2 459.097 L2231.2 464.491 L2226.94 464.491 L2226.94 459.097 M2229.12 468.565 L2229.12 468.565 Z\" fill=\"#000000\" fill-rule=\"evenodd\" fill-opacity=\"1\" /><path clip-path=\"url(#clip960)\" d=\"M2253.1 484.653 Q2255.23 485.069 2256.39 486.343 Q2257.57 487.593 2257.57 489.491 Q2257.57 492.361 2255.37 493.912 Q2253.17 495.463 2249.07 495.463 Q2247.75 495.463 2246.29 495.208 Q2244.86 494.977 2243.24 494.514 L2243.24 491.713 Q2244.44 492.338 2245.81 492.639 Q2247.2 492.94 2248.75 492.94 Q2251.27 492.94 2252.66 492.037 Q2254.05 491.111 2254.05 489.491 Q2254.05 487.778 2252.75 486.898 Q2251.48 486.019 2248.98 486.019 L2246.99 486.019 L2246.99 483.519 L2249.16 483.519 Q2251.34 483.519 2252.45 482.801 Q2253.58 482.06 2253.58 480.671 Q2253.58 479.329 2252.43 478.634 Q2251.27 477.917 2249.07 477.917 Q2248.14 477.917 2246.96 478.125 Q2245.78 478.333 2243.91 478.866 L2243.91 476.204 Q2245.6 475.81 2247.08 475.602 Q2248.56 475.394 2249.83 475.394 Q2253.17 475.394 2255.11 476.759 Q2257.08 478.125 2257.08 480.417 Q2257.08 482.014 2256.04 483.125 Q2255 484.236 2253.1 484.653 Z\" fill=\"#000000\" fill-rule=\"evenodd\" fill-opacity=\"1\" /></svg>\n"
      ]
     },
     "metadata": {},
     "output_type": "display_data"
    },
    {
     "data": {
      "image/svg+xml": [
       "<?xml version=\"1.0\" encoding=\"utf-8\"?>\n",
       "<svg xmlns=\"http://www.w3.org/2000/svg\" xmlns:xlink=\"http://www.w3.org/1999/xlink\" width=\"600\" height=\"400\" viewBox=\"0 0 2400 1600\">\n",
       "<defs>\n",
       "  <clipPath id=\"clip000\">\n",
       "    <rect x=\"0\" y=\"0\" width=\"2400\" height=\"1600\"/>\n",
       "  </clipPath>\n",
       "</defs>\n",
       "<path clip-path=\"url(#clip000)\" d=\"M0 1600 L2400 1600 L2400 0 L0 0  Z\" fill=\"#ffffff\" fill-rule=\"evenodd\" fill-opacity=\"1\"/>\n",
       "<defs>\n",
       "  <clipPath id=\"clip001\">\n",
       "    <rect x=\"480\" y=\"0\" width=\"1681\" height=\"1600\"/>\n",
       "  </clipPath>\n",
       "</defs>\n",
       "<path clip-path=\"url(#clip000)\" d=\"M232.389 1423.18 L2352.76 1423.18 L2352.76 123.472 L232.389 123.472  Z\" fill=\"#ffffff\" fill-rule=\"evenodd\" fill-opacity=\"1\"/>\n",
       "<defs>\n",
       "  <clipPath id=\"clip002\">\n",
       "    <rect x=\"232\" y=\"123\" width=\"2121\" height=\"1301\"/>\n",
       "  </clipPath>\n",
       "</defs>\n",
       "<polyline clip-path=\"url(#clip002)\" style=\"stroke:#000000; stroke-linecap:round; stroke-linejoin:round; stroke-width:2; stroke-opacity:0.1; fill:none\" points=\"292.4,1423.18 292.4,123.472 \"/>\n",
       "<polyline clip-path=\"url(#clip002)\" style=\"stroke:#000000; stroke-linecap:round; stroke-linejoin:round; stroke-width:2; stroke-opacity:0.1; fill:none\" points=\"961.412,1423.18 961.412,123.472 \"/>\n",
       "<polyline clip-path=\"url(#clip002)\" style=\"stroke:#000000; stroke-linecap:round; stroke-linejoin:round; stroke-width:2; stroke-opacity:0.1; fill:none\" points=\"1630.42,1423.18 1630.42,123.472 \"/>\n",
       "<polyline clip-path=\"url(#clip002)\" style=\"stroke:#000000; stroke-linecap:round; stroke-linejoin:round; stroke-width:2; stroke-opacity:0.1; fill:none\" points=\"2299.44,1423.18 2299.44,123.472 \"/>\n",
       "<polyline clip-path=\"url(#clip000)\" style=\"stroke:#000000; stroke-linecap:round; stroke-linejoin:round; stroke-width:4; stroke-opacity:1; fill:none\" points=\"232.389,1423.18 2352.76,1423.18 \"/>\n",
       "<polyline clip-path=\"url(#clip000)\" style=\"stroke:#000000; stroke-linecap:round; stroke-linejoin:round; stroke-width:4; stroke-opacity:1; fill:none\" points=\"292.4,1423.18 292.4,1404.28 \"/>\n",
       "<polyline clip-path=\"url(#clip000)\" style=\"stroke:#000000; stroke-linecap:round; stroke-linejoin:round; stroke-width:4; stroke-opacity:1; fill:none\" points=\"961.412,1423.18 961.412,1404.28 \"/>\n",
       "<polyline clip-path=\"url(#clip000)\" style=\"stroke:#000000; stroke-linecap:round; stroke-linejoin:round; stroke-width:4; stroke-opacity:1; fill:none\" points=\"1630.42,1423.18 1630.42,1404.28 \"/>\n",
       "<polyline clip-path=\"url(#clip000)\" style=\"stroke:#000000; stroke-linecap:round; stroke-linejoin:round; stroke-width:4; stroke-opacity:1; fill:none\" points=\"2299.44,1423.18 2299.44,1404.28 \"/>\n",
       "<path clip-path=\"url(#clip000)\" d=\"M292.4 1454.1 Q288.789 1454.1 286.96 1457.66 Q285.154 1461.2 285.154 1468.33 Q285.154 1475.44 286.96 1479.01 Q288.789 1482.55 292.4 1482.55 Q296.034 1482.55 297.84 1479.01 Q299.668 1475.44 299.668 1468.33 Q299.668 1461.2 297.84 1457.66 Q296.034 1454.1 292.4 1454.1 M292.4 1450.39 Q298.21 1450.39 301.265 1455 Q304.344 1459.58 304.344 1468.33 Q304.344 1477.06 301.265 1481.67 Q298.21 1486.25 292.4 1486.25 Q286.59 1486.25 283.511 1481.67 Q280.455 1477.06 280.455 1468.33 Q280.455 1459.58 283.511 1455 Q286.59 1450.39 292.4 1450.39 Z\" fill=\"#000000\" fill-rule=\"evenodd\" fill-opacity=\"1\" /><path clip-path=\"url(#clip000)\" d=\"M951.69 1451.02 L970.046 1451.02 L970.046 1454.96 L955.972 1454.96 L955.972 1463.43 Q956.99 1463.08 958.009 1462.92 Q959.027 1462.73 960.046 1462.73 Q965.833 1462.73 969.213 1465.9 Q972.592 1469.08 972.592 1474.49 Q972.592 1480.07 969.12 1483.17 Q965.648 1486.25 959.328 1486.25 Q957.152 1486.25 954.884 1485.88 Q952.639 1485.51 950.231 1484.77 L950.231 1480.07 Q952.315 1481.2 954.537 1481.76 Q956.759 1482.32 959.236 1482.32 Q963.24 1482.32 965.578 1480.21 Q967.916 1478.1 967.916 1474.49 Q967.916 1470.88 965.578 1468.77 Q963.24 1466.67 959.236 1466.67 Q957.361 1466.67 955.486 1467.08 Q953.634 1467.5 951.69 1468.38 L951.69 1451.02 Z\" fill=\"#000000\" fill-rule=\"evenodd\" fill-opacity=\"1\" /><path clip-path=\"url(#clip000)\" d=\"M1605.11 1481.64 L1612.75 1481.64 L1612.75 1455.28 L1604.44 1456.95 L1604.44 1452.69 L1612.7 1451.02 L1617.38 1451.02 L1617.38 1481.64 L1625.02 1481.64 L1625.02 1485.58 L1605.11 1485.58 L1605.11 1481.64 Z\" fill=\"#000000\" fill-rule=\"evenodd\" fill-opacity=\"1\" /><path clip-path=\"url(#clip000)\" d=\"M1644.46 1454.1 Q1640.85 1454.1 1639.02 1457.66 Q1637.22 1461.2 1637.22 1468.33 Q1637.22 1475.44 1639.02 1479.01 Q1640.85 1482.55 1644.46 1482.55 Q1648.1 1482.55 1649.9 1479.01 Q1651.73 1475.44 1651.73 1468.33 Q1651.73 1461.2 1649.9 1457.66 Q1648.1 1454.1 1644.46 1454.1 M1644.46 1450.39 Q1650.27 1450.39 1653.33 1455 Q1656.41 1459.58 1656.41 1468.33 Q1656.41 1477.06 1653.33 1481.67 Q1650.27 1486.25 1644.46 1486.25 Q1638.65 1486.25 1635.57 1481.67 Q1632.52 1477.06 1632.52 1468.33 Q1632.52 1459.58 1635.57 1455 Q1638.65 1450.39 1644.46 1450.39 Z\" fill=\"#000000\" fill-rule=\"evenodd\" fill-opacity=\"1\" /><path clip-path=\"url(#clip000)\" d=\"M2274.62 1481.64 L2282.26 1481.64 L2282.26 1455.28 L2273.95 1456.95 L2273.95 1452.69 L2282.21 1451.02 L2286.89 1451.02 L2286.89 1481.64 L2294.53 1481.64 L2294.53 1485.58 L2274.62 1485.58 L2274.62 1481.64 Z\" fill=\"#000000\" fill-rule=\"evenodd\" fill-opacity=\"1\" /><path clip-path=\"url(#clip000)\" d=\"M2304.02 1451.02 L2322.38 1451.02 L2322.38 1454.96 L2308.3 1454.96 L2308.3 1463.43 Q2309.32 1463.08 2310.34 1462.92 Q2311.36 1462.73 2312.38 1462.73 Q2318.16 1462.73 2321.54 1465.9 Q2324.92 1469.08 2324.92 1474.49 Q2324.92 1480.07 2321.45 1483.17 Q2317.98 1486.25 2311.66 1486.25 Q2309.48 1486.25 2307.21 1485.88 Q2304.97 1485.51 2302.56 1484.77 L2302.56 1480.07 Q2304.64 1481.2 2306.87 1481.76 Q2309.09 1482.32 2311.57 1482.32 Q2315.57 1482.32 2317.91 1480.21 Q2320.25 1478.1 2320.25 1474.49 Q2320.25 1470.88 2317.91 1468.77 Q2315.57 1466.67 2311.57 1466.67 Q2309.69 1466.67 2307.82 1467.08 Q2305.96 1467.5 2304.02 1468.38 L2304.02 1451.02 Z\" fill=\"#000000\" fill-rule=\"evenodd\" fill-opacity=\"1\" /><path clip-path=\"url(#clip000)\" d=\"M1180.03 1522.27 L1180.03 1532.4 L1192.09 1532.4 L1192.09 1536.95 L1180.03 1536.95 L1180.03 1556.3 Q1180.03 1560.66 1181.2 1561.9 Q1182.41 1563.14 1186.07 1563.14 L1192.09 1563.14 L1192.09 1568.04 L1186.07 1568.04 Q1179.29 1568.04 1176.72 1565.53 Q1174.14 1562.98 1174.14 1556.3 L1174.14 1536.95 L1169.84 1536.95 L1169.84 1532.4 L1174.14 1532.4 L1174.14 1522.27 L1180.03 1522.27 Z\" fill=\"#000000\" fill-rule=\"evenodd\" fill-opacity=\"1\" /><path clip-path=\"url(#clip000)\" d=\"M1199.79 1532.4 L1205.65 1532.4 L1205.65 1568.04 L1199.79 1568.04 L1199.79 1532.4 M1199.79 1518.52 L1205.65 1518.52 L1205.65 1525.93 L1199.79 1525.93 L1199.79 1518.52 Z\" fill=\"#000000\" fill-rule=\"evenodd\" fill-opacity=\"1\" /><path clip-path=\"url(#clip000)\" d=\"M1245.66 1539.24 Q1247.85 1535.29 1250.91 1533.41 Q1253.96 1531.54 1258.1 1531.54 Q1263.67 1531.54 1266.7 1535.45 Q1269.72 1539.33 1269.72 1546.53 L1269.72 1568.04 L1263.83 1568.04 L1263.83 1546.72 Q1263.83 1541.59 1262.02 1539.11 Q1260.2 1536.63 1256.48 1536.63 Q1251.93 1536.63 1249.29 1539.65 Q1246.64 1542.68 1246.64 1547.9 L1246.64 1568.04 L1240.76 1568.04 L1240.76 1546.72 Q1240.76 1541.56 1238.94 1539.11 Q1237.13 1536.63 1233.34 1536.63 Q1228.85 1536.63 1226.21 1539.68 Q1223.57 1542.71 1223.57 1547.9 L1223.57 1568.04 L1217.68 1568.04 L1217.68 1532.4 L1223.57 1532.4 L1223.57 1537.93 Q1225.57 1534.66 1228.37 1533.1 Q1231.18 1531.54 1235.03 1531.54 Q1238.91 1531.54 1241.62 1533.51 Q1244.35 1535.48 1245.66 1539.24 Z\" fill=\"#000000\" fill-rule=\"evenodd\" fill-opacity=\"1\" /><path clip-path=\"url(#clip000)\" d=\"M1311.89 1548.76 L1311.89 1551.62 L1284.97 1551.62 Q1285.35 1557.67 1288.59 1560.85 Q1291.87 1564 1297.7 1564 Q1301.07 1564 1304.22 1563.17 Q1307.4 1562.35 1310.52 1560.69 L1310.52 1566.23 Q1307.37 1567.57 1304.06 1568.27 Q1300.75 1568.97 1297.35 1568.97 Q1288.82 1568.97 1283.82 1564 Q1278.85 1559.04 1278.85 1550.57 Q1278.85 1541.82 1283.57 1536.69 Q1288.31 1531.54 1296.33 1531.54 Q1303.52 1531.54 1307.69 1536.18 Q1311.89 1540.8 1311.89 1548.76 M1306.04 1547.04 Q1305.97 1542.23 1303.33 1539.37 Q1300.72 1536.5 1296.39 1536.5 Q1291.49 1536.5 1288.53 1539.27 Q1285.6 1542.04 1285.16 1547.07 L1306.04 1547.04 Z\" fill=\"#000000\" fill-rule=\"evenodd\" fill-opacity=\"1\" /><path clip-path=\"url(#clip000)\" d=\"M1356.29 1518.58 Q1352.03 1525.9 1349.96 1533.06 Q1347.89 1540.23 1347.89 1547.58 Q1347.89 1554.93 1349.96 1562.16 Q1352.06 1569.35 1356.29 1576.64 L1351.2 1576.64 Q1346.43 1569.16 1344.04 1561.93 Q1341.68 1554.71 1341.68 1547.58 Q1341.68 1540.48 1344.04 1533.29 Q1346.39 1526.09 1351.2 1518.58 L1356.29 1518.58 Z\" fill=\"#000000\" fill-rule=\"evenodd\" fill-opacity=\"1\" /><path clip-path=\"url(#clip000)\" d=\"M1390.38 1533.45 L1390.38 1538.98 Q1387.9 1537.71 1385.23 1537.07 Q1382.55 1536.44 1379.69 1536.44 Q1375.33 1536.44 1373.13 1537.77 Q1370.97 1539.11 1370.97 1541.79 Q1370.97 1543.82 1372.53 1545 Q1374.09 1546.15 1378.8 1547.2 L1380.8 1547.64 Q1387.04 1548.98 1389.65 1551.43 Q1392.29 1553.85 1392.29 1558.21 Q1392.29 1563.17 1388.34 1566.07 Q1384.43 1568.97 1377.55 1568.97 Q1374.69 1568.97 1371.57 1568.39 Q1368.48 1567.85 1365.05 1566.74 L1365.05 1560.69 Q1368.29 1562.38 1371.44 1563.24 Q1374.59 1564.07 1377.68 1564.07 Q1381.82 1564.07 1384.05 1562.66 Q1386.28 1561.23 1386.28 1558.65 Q1386.28 1556.27 1384.65 1554.99 Q1383.06 1553.72 1377.62 1552.54 L1375.58 1552.07 Q1370.14 1550.92 1367.72 1548.56 Q1365.3 1546.18 1365.3 1542.04 Q1365.3 1537.01 1368.87 1534.27 Q1372.43 1531.54 1378.99 1531.54 Q1382.23 1531.54 1385.1 1532.01 Q1387.96 1532.49 1390.38 1533.45 Z\" fill=\"#000000\" fill-rule=\"evenodd\" fill-opacity=\"1\" /><path clip-path=\"url(#clip000)\" d=\"M1400.69 1518.58 L1405.79 1518.58 Q1410.56 1526.09 1412.92 1533.29 Q1415.3 1540.48 1415.3 1547.58 Q1415.3 1554.71 1412.92 1561.93 Q1410.56 1569.16 1405.79 1576.64 L1400.69 1576.64 Q1404.93 1569.35 1407 1562.16 Q1409.1 1554.93 1409.1 1547.58 Q1409.1 1540.23 1407 1533.06 Q1404.93 1525.9 1400.69 1518.58 Z\" fill=\"#000000\" fill-rule=\"evenodd\" fill-opacity=\"1\" /><polyline clip-path=\"url(#clip002)\" style=\"stroke:#000000; stroke-linecap:round; stroke-linejoin:round; stroke-width:2; stroke-opacity:0.1; fill:none\" points=\"232.389,1313.23 2352.76,1313.23 \"/>\n",
       "<polyline clip-path=\"url(#clip002)\" style=\"stroke:#000000; stroke-linecap:round; stroke-linejoin:round; stroke-width:2; stroke-opacity:0.1; fill:none\" points=\"232.389,1039.9 2352.76,1039.9 \"/>\n",
       "<polyline clip-path=\"url(#clip002)\" style=\"stroke:#000000; stroke-linecap:round; stroke-linejoin:round; stroke-width:2; stroke-opacity:0.1; fill:none\" points=\"232.389,766.563 2352.76,766.563 \"/>\n",
       "<polyline clip-path=\"url(#clip002)\" style=\"stroke:#000000; stroke-linecap:round; stroke-linejoin:round; stroke-width:2; stroke-opacity:0.1; fill:none\" points=\"232.389,493.23 2352.76,493.23 \"/>\n",
       "<polyline clip-path=\"url(#clip002)\" style=\"stroke:#000000; stroke-linecap:round; stroke-linejoin:round; stroke-width:2; stroke-opacity:0.1; fill:none\" points=\"232.389,219.897 2352.76,219.897 \"/>\n",
       "<polyline clip-path=\"url(#clip000)\" style=\"stroke:#000000; stroke-linecap:round; stroke-linejoin:round; stroke-width:4; stroke-opacity:1; fill:none\" points=\"232.389,1423.18 232.389,123.472 \"/>\n",
       "<polyline clip-path=\"url(#clip000)\" style=\"stroke:#000000; stroke-linecap:round; stroke-linejoin:round; stroke-width:4; stroke-opacity:1; fill:none\" points=\"232.389,1313.23 251.287,1313.23 \"/>\n",
       "<polyline clip-path=\"url(#clip000)\" style=\"stroke:#000000; stroke-linecap:round; stroke-linejoin:round; stroke-width:4; stroke-opacity:1; fill:none\" points=\"232.389,1039.9 251.287,1039.9 \"/>\n",
       "<polyline clip-path=\"url(#clip000)\" style=\"stroke:#000000; stroke-linecap:round; stroke-linejoin:round; stroke-width:4; stroke-opacity:1; fill:none\" points=\"232.389,766.563 251.287,766.563 \"/>\n",
       "<polyline clip-path=\"url(#clip000)\" style=\"stroke:#000000; stroke-linecap:round; stroke-linejoin:round; stroke-width:4; stroke-opacity:1; fill:none\" points=\"232.389,493.23 251.287,493.23 \"/>\n",
       "<polyline clip-path=\"url(#clip000)\" style=\"stroke:#000000; stroke-linecap:round; stroke-linejoin:round; stroke-width:4; stroke-opacity:1; fill:none\" points=\"232.389,219.897 251.287,219.897 \"/>\n",
       "<path clip-path=\"url(#clip000)\" d=\"M184.445 1299.03 Q180.834 1299.03 179.005 1302.59 Q177.2 1306.13 177.2 1313.26 Q177.2 1320.37 179.005 1323.93 Q180.834 1327.48 184.445 1327.48 Q188.079 1327.48 189.885 1323.93 Q191.713 1320.37 191.713 1313.26 Q191.713 1306.13 189.885 1302.59 Q188.079 1299.03 184.445 1299.03 M184.445 1295.32 Q190.255 1295.32 193.311 1299.93 Q196.389 1304.51 196.389 1313.26 Q196.389 1321.99 193.311 1326.6 Q190.255 1331.18 184.445 1331.18 Q178.635 1331.18 175.556 1326.6 Q172.501 1321.99 172.501 1313.26 Q172.501 1304.51 175.556 1299.93 Q178.635 1295.32 184.445 1295.32 Z\" fill=\"#000000\" fill-rule=\"evenodd\" fill-opacity=\"1\" /><path clip-path=\"url(#clip000)\" d=\"M149.306 1053.24 L165.626 1053.24 L165.626 1057.18 L143.681 1057.18 L143.681 1053.24 Q146.343 1050.49 150.927 1045.86 Q155.533 1041.2 156.714 1039.86 Q158.959 1037.34 159.839 1035.6 Q160.741 1033.84 160.741 1032.15 Q160.741 1029.4 158.797 1027.66 Q156.876 1025.93 153.774 1025.93 Q151.575 1025.93 149.121 1026.69 Q146.691 1027.45 143.913 1029 L143.913 1024.28 Q146.737 1023.15 149.191 1022.57 Q151.644 1021.99 153.681 1021.99 Q159.052 1021.99 162.246 1024.68 Q165.44 1027.36 165.44 1031.85 Q165.44 1033.98 164.63 1035.9 Q163.843 1037.8 161.737 1040.39 Q161.158 1041.06 158.056 1044.28 Q154.954 1047.48 149.306 1053.24 Z\" fill=\"#000000\" fill-rule=\"evenodd\" fill-opacity=\"1\" /><path clip-path=\"url(#clip000)\" d=\"M175.487 1022.62 L193.843 1022.62 L193.843 1026.55 L179.769 1026.55 L179.769 1035.02 Q180.788 1034.68 181.806 1034.51 Q182.825 1034.33 183.843 1034.33 Q189.63 1034.33 193.01 1037.5 Q196.389 1040.67 196.389 1046.09 Q196.389 1051.67 192.917 1054.77 Q189.445 1057.85 183.126 1057.85 Q180.95 1057.85 178.681 1057.48 Q176.436 1057.11 174.028 1056.37 L174.028 1051.67 Q176.112 1052.8 178.334 1053.36 Q180.556 1053.91 183.033 1053.91 Q187.038 1053.91 189.375 1051.81 Q191.713 1049.7 191.713 1046.09 Q191.713 1042.48 189.375 1040.37 Q187.038 1038.26 183.033 1038.26 Q181.158 1038.26 179.283 1038.68 Q177.431 1039.1 175.487 1039.98 L175.487 1022.62 Z\" fill=\"#000000\" fill-rule=\"evenodd\" fill-opacity=\"1\" /><path clip-path=\"url(#clip000)\" d=\"M144.329 749.283 L162.686 749.283 L162.686 753.218 L148.612 753.218 L148.612 761.69 Q149.63 761.343 150.649 761.181 Q151.667 760.996 152.686 760.996 Q158.473 760.996 161.852 764.167 Q165.232 767.338 165.232 772.755 Q165.232 778.334 161.76 781.435 Q158.288 784.514 151.968 784.514 Q149.792 784.514 147.524 784.144 Q145.279 783.773 142.871 783.033 L142.871 778.334 Q144.954 779.468 147.177 780.023 Q149.399 780.579 151.876 780.579 Q155.88 780.579 158.218 778.472 Q160.556 776.366 160.556 772.755 Q160.556 769.144 158.218 767.037 Q155.88 764.931 151.876 764.931 Q150.001 764.931 148.126 765.347 Q146.274 765.764 144.329 766.644 L144.329 749.283 Z\" fill=\"#000000\" fill-rule=\"evenodd\" fill-opacity=\"1\" /><path clip-path=\"url(#clip000)\" d=\"M184.445 752.361 Q180.834 752.361 179.005 755.926 Q177.2 759.468 177.2 766.597 Q177.2 773.704 179.005 777.269 Q180.834 780.81 184.445 780.81 Q188.079 780.81 189.885 777.269 Q191.713 773.704 191.713 766.597 Q191.713 759.468 189.885 755.926 Q188.079 752.361 184.445 752.361 M184.445 748.658 Q190.255 748.658 193.311 753.264 Q196.389 757.848 196.389 766.597 Q196.389 775.324 193.311 779.931 Q190.255 784.514 184.445 784.514 Q178.635 784.514 175.556 779.931 Q172.501 775.324 172.501 766.597 Q172.501 757.848 175.556 753.264 Q178.635 748.658 184.445 748.658 Z\" fill=\"#000000\" fill-rule=\"evenodd\" fill-opacity=\"1\" /><path clip-path=\"url(#clip000)\" d=\"M144.098 475.95 L166.32 475.95 L166.32 477.941 L153.774 510.51 L148.89 510.51 L160.695 479.885 L144.098 479.885 L144.098 475.95 Z\" fill=\"#000000\" fill-rule=\"evenodd\" fill-opacity=\"1\" /><path clip-path=\"url(#clip000)\" d=\"M175.487 475.95 L193.843 475.95 L193.843 479.885 L179.769 479.885 L179.769 488.357 Q180.788 488.01 181.806 487.848 Q182.825 487.663 183.843 487.663 Q189.63 487.663 193.01 490.834 Q196.389 494.005 196.389 499.422 Q196.389 505.001 192.917 508.102 Q189.445 511.181 183.126 511.181 Q180.95 511.181 178.681 510.811 Q176.436 510.44 174.028 509.7 L174.028 505.001 Q176.112 506.135 178.334 506.69 Q180.556 507.246 183.033 507.246 Q187.038 507.246 189.375 505.139 Q191.713 503.033 191.713 499.422 Q191.713 495.811 189.375 493.704 Q187.038 491.598 183.033 491.598 Q181.158 491.598 179.283 492.015 Q177.431 492.431 175.487 493.311 L175.487 475.95 Z\" fill=\"#000000\" fill-rule=\"evenodd\" fill-opacity=\"1\" /><path clip-path=\"url(#clip000)\" d=\"M114.931 233.242 L122.57 233.242 L122.57 206.876 L114.26 208.543 L114.26 204.284 L122.524 202.617 L127.2 202.617 L127.2 233.242 L134.839 233.242 L134.839 237.177 L114.931 237.177 L114.931 233.242 Z\" fill=\"#000000\" fill-rule=\"evenodd\" fill-opacity=\"1\" /><path clip-path=\"url(#clip000)\" d=\"M154.283 205.696 Q150.672 205.696 148.843 209.26 Q147.038 212.802 147.038 219.932 Q147.038 227.038 148.843 230.603 Q150.672 234.145 154.283 234.145 Q157.917 234.145 159.723 230.603 Q161.552 227.038 161.552 219.932 Q161.552 212.802 159.723 209.26 Q157.917 205.696 154.283 205.696 M154.283 201.992 Q160.093 201.992 163.149 206.598 Q166.227 211.182 166.227 219.932 Q166.227 228.658 163.149 233.265 Q160.093 237.848 154.283 237.848 Q148.473 237.848 145.394 233.265 Q142.339 228.658 142.339 219.932 Q142.339 211.182 145.394 206.598 Q148.473 201.992 154.283 201.992 Z\" fill=\"#000000\" fill-rule=\"evenodd\" fill-opacity=\"1\" /><path clip-path=\"url(#clip000)\" d=\"M184.445 205.696 Q180.834 205.696 179.005 209.26 Q177.2 212.802 177.2 219.932 Q177.2 227.038 179.005 230.603 Q180.834 234.145 184.445 234.145 Q188.079 234.145 189.885 230.603 Q191.713 227.038 191.713 219.932 Q191.713 212.802 189.885 209.26 Q188.079 205.696 184.445 205.696 M184.445 201.992 Q190.255 201.992 193.311 206.598 Q196.389 211.182 196.389 219.932 Q196.389 228.658 193.311 233.265 Q190.255 237.848 184.445 237.848 Q178.635 237.848 175.556 233.265 Q172.501 228.658 172.501 219.932 Q172.501 211.182 175.556 206.598 Q178.635 201.992 184.445 201.992 Z\" fill=\"#000000\" fill-rule=\"evenodd\" fill-opacity=\"1\" /><path clip-path=\"url(#clip000)\" d=\"M49.9359 788.254 L28.3562 788.254 L28.3562 782.397 L49.7131 782.397 Q54.7739 782.397 57.3202 780.424 Q59.8346 778.45 59.8346 774.504 Q59.8346 769.761 56.8109 767.024 Q53.7872 764.255 48.5673 764.255 L28.3562 764.255 L28.3562 758.398 L64.0042 758.398 L64.0042 764.255 L58.5296 764.255 Q61.7762 766.387 63.3676 769.22 Q64.9272 772.021 64.9272 775.745 Q64.9272 781.888 61.1078 785.071 Q57.2883 788.254 49.9359 788.254 M27.4968 773.517 L27.4968 773.517 Z\" fill=\"#000000\" fill-rule=\"evenodd\" fill-opacity=\"1\" /><path clip-path=\"url(#clip000)\" d=\"M1029.71 12.096 L1037.89 12.096 L1037.89 72.576 L1029.71 72.576 L1029.71 12.096 Z\" fill=\"#000000\" fill-rule=\"evenodd\" fill-opacity=\"1\" /><path clip-path=\"url(#clip000)\" d=\"M1091.57 45.1919 L1091.57 72.576 L1084.11 72.576 L1084.11 45.4349 Q1084.11 38.994 1081.6 35.7938 Q1079.09 32.5936 1074.07 32.5936 Q1068.03 32.5936 1064.55 36.4419 Q1061.06 40.2903 1061.06 46.9338 L1061.06 72.576 L1053.57 72.576 L1053.57 27.2059 L1061.06 27.2059 L1061.06 34.2544 Q1063.74 30.163 1067.34 28.1376 Q1070.99 26.1121 1075.73 26.1121 Q1083.55 26.1121 1087.56 30.9732 Q1091.57 35.7938 1091.57 45.1919 Z\" fill=\"#000000\" fill-rule=\"evenodd\" fill-opacity=\"1\" /><path clip-path=\"url(#clip000)\" d=\"M1113.64 65.7705 L1113.64 89.8329 L1106.15 89.8329 L1106.15 27.2059 L1113.64 27.2059 L1113.64 34.0924 Q1115.99 30.0415 1119.56 28.0971 Q1123.16 26.1121 1128.15 26.1121 Q1136.41 26.1121 1141.55 32.6746 Q1146.74 39.2371 1146.74 49.9314 Q1146.74 60.6258 1141.55 67.1883 Q1136.41 73.7508 1128.15 73.7508 Q1123.16 73.7508 1119.56 71.8063 Q1115.99 69.8214 1113.64 65.7705 M1139 49.9314 Q1139 41.7081 1135.6 37.0496 Q1132.24 32.3505 1126.32 32.3505 Q1120.41 32.3505 1117.01 37.0496 Q1113.64 41.7081 1113.64 49.9314 Q1113.64 58.1548 1117.01 62.8538 Q1120.41 67.5124 1126.32 67.5124 Q1132.24 67.5124 1135.6 62.8538 Q1139 58.1548 1139 49.9314 Z\" fill=\"#000000\" fill-rule=\"evenodd\" fill-opacity=\"1\" /><path clip-path=\"url(#clip000)\" d=\"M1158.33 54.671 L1158.33 27.2059 L1165.78 27.2059 L1165.78 54.3874 Q1165.78 60.8284 1168.29 64.0691 Q1170.8 67.2693 1175.83 67.2693 Q1181.86 67.2693 1185.35 63.421 Q1188.87 59.5726 1188.87 52.9291 L1188.87 27.2059 L1196.32 27.2059 L1196.32 72.576 L1188.87 72.576 L1188.87 65.6084 Q1186.16 69.7404 1182.55 71.7658 Q1178.99 73.7508 1174.25 73.7508 Q1166.43 73.7508 1162.38 68.8897 Q1158.33 64.0286 1158.33 54.671 M1177.08 26.1121 L1177.08 26.1121 Z\" fill=\"#000000\" fill-rule=\"evenodd\" fill-opacity=\"1\" /><path clip-path=\"url(#clip000)\" d=\"M1219.05 14.324 L1219.05 27.2059 L1234.4 27.2059 L1234.4 32.9987 L1219.05 32.9987 L1219.05 57.6282 Q1219.05 63.1779 1220.55 64.7578 Q1222.09 66.3376 1226.75 66.3376 L1234.4 66.3376 L1234.4 72.576 L1226.75 72.576 Q1218.12 72.576 1214.84 69.3758 Q1211.55 66.1351 1211.55 57.6282 L1211.55 32.9987 L1206.09 32.9987 L1206.09 27.2059 L1211.55 27.2059 L1211.55 14.324 L1219.05 14.324 Z\" fill=\"#000000\" fill-rule=\"evenodd\" fill-opacity=\"1\" /><path clip-path=\"url(#clip000)\" d=\"M1270.9 12.096 L1279.08 12.096 L1279.08 36.8875 L1308.82 36.8875 L1308.82 12.096 L1317 12.096 L1317 72.576 L1308.82 72.576 L1308.82 43.7741 L1279.08 43.7741 L1279.08 72.576 L1270.9 72.576 L1270.9 12.096 Z\" fill=\"#000000\" fill-rule=\"evenodd\" fill-opacity=\"1\" /><path clip-path=\"url(#clip000)\" d=\"M1332.96 27.2059 L1340.41 27.2059 L1340.41 72.576 L1332.96 72.576 L1332.96 27.2059 M1332.96 9.54393 L1340.41 9.54393 L1340.41 18.9825 L1332.96 18.9825 L1332.96 9.54393 Z\" fill=\"#000000\" fill-rule=\"evenodd\" fill-opacity=\"1\" /><path clip-path=\"url(#clip000)\" d=\"M1384.93 28.5427 L1384.93 35.5912 Q1381.77 33.9709 1378.37 33.1607 Q1374.97 32.3505 1371.32 32.3505 Q1365.77 32.3505 1362.98 34.0519 Q1360.22 35.7533 1360.22 39.156 Q1360.22 41.7486 1362.21 43.2475 Q1364.19 44.7058 1370.19 46.0426 L1372.74 46.6097 Q1380.68 48.3111 1384 51.4303 Q1387.36 54.509 1387.36 60.0587 Q1387.36 66.3781 1382.34 70.0644 Q1377.36 73.7508 1368.61 73.7508 Q1364.96 73.7508 1360.99 73.0216 Q1357.06 72.3329 1352.69 70.9151 L1352.69 63.2184 Q1356.82 65.3654 1360.83 66.4591 Q1364.84 67.5124 1368.77 67.5124 Q1374.04 67.5124 1376.87 65.73 Q1379.71 63.9071 1379.71 60.6258 Q1379.71 57.5877 1377.64 55.9673 Q1375.62 54.3469 1368.69 52.8481 L1366.1 52.2405 Q1359.17 50.7821 1356.09 47.7845 Q1353.01 44.7463 1353.01 39.4801 Q1353.01 33.0797 1357.55 29.5959 Q1362.09 26.1121 1370.43 26.1121 Q1374.56 26.1121 1378.21 26.7198 Q1381.85 27.3274 1384.93 28.5427 Z\" fill=\"#000000\" fill-rule=\"evenodd\" fill-opacity=\"1\" /><path clip-path=\"url(#clip000)\" d=\"M1406.61 14.324 L1406.61 27.2059 L1421.96 27.2059 L1421.96 32.9987 L1406.61 32.9987 L1406.61 57.6282 Q1406.61 63.1779 1408.1 64.7578 Q1409.64 66.3376 1414.3 66.3376 L1421.96 66.3376 L1421.96 72.576 L1414.3 72.576 Q1405.67 72.576 1402.39 69.3758 Q1399.11 66.1351 1399.11 57.6282 L1399.11 32.9987 L1393.64 32.9987 L1393.64 27.2059 L1399.11 27.2059 L1399.11 14.324 L1406.61 14.324 Z\" fill=\"#000000\" fill-rule=\"evenodd\" fill-opacity=\"1\" /><path clip-path=\"url(#clip000)\" d=\"M1449.34 32.4315 Q1443.35 32.4315 1439.86 37.1306 Q1436.38 41.7891 1436.38 49.9314 Q1436.38 58.0738 1439.82 62.7728 Q1443.31 67.4314 1449.34 67.4314 Q1455.3 67.4314 1458.78 62.7323 Q1462.27 58.0333 1462.27 49.9314 Q1462.27 41.8701 1458.78 37.1711 Q1455.3 32.4315 1449.34 32.4315 M1449.34 26.1121 Q1459.06 26.1121 1464.61 32.4315 Q1470.16 38.7509 1470.16 49.9314 Q1470.16 61.0714 1464.61 67.4314 Q1459.06 73.7508 1449.34 73.7508 Q1439.58 73.7508 1434.03 67.4314 Q1428.52 61.0714 1428.52 49.9314 Q1428.52 38.7509 1434.03 32.4315 Q1439.58 26.1121 1449.34 26.1121 Z\" fill=\"#000000\" fill-rule=\"evenodd\" fill-opacity=\"1\" /><path clip-path=\"url(#clip000)\" d=\"M1508.81 34.1734 Q1507.55 33.4443 1506.06 33.1202 Q1504.6 32.7556 1502.81 32.7556 Q1496.5 32.7556 1493.09 36.8875 Q1489.73 40.9789 1489.73 48.6757 L1489.73 72.576 L1482.24 72.576 L1482.24 27.2059 L1489.73 27.2059 L1489.73 34.2544 Q1492.08 30.1225 1495.85 28.1376 Q1499.61 26.1121 1505 26.1121 Q1505.77 26.1121 1506.7 26.2337 Q1507.64 26.3147 1508.77 26.5172 L1508.81 34.1734 Z\" fill=\"#000000\" fill-rule=\"evenodd\" fill-opacity=\"1\" /><path clip-path=\"url(#clip000)\" d=\"M1535.51 76.7889 Q1532.35 84.8907 1529.35 87.3618 Q1526.35 89.8329 1521.33 89.8329 L1515.37 89.8329 L1515.37 83.5945 L1519.75 83.5945 Q1522.83 83.5945 1524.53 82.1361 Q1526.23 80.6778 1528.29 75.2496 L1529.63 71.8468 L1511.28 27.2059 L1519.18 27.2059 L1533.36 62.6918 L1547.54 27.2059 L1555.44 27.2059 L1535.51 76.7889 Z\" fill=\"#000000\" fill-rule=\"evenodd\" fill-opacity=\"1\" /><polyline clip-path=\"url(#clip002)\" style=\"stroke:#009af9; stroke-linecap:round; stroke-linejoin:round; stroke-width:4; stroke-opacity:1; fill:none\" points=\"292.4,1232.18 299.09,1232.62 305.78,1233.06 312.47,1233.5 319.16,1233.94 325.85,1234.39 332.54,1234.83 339.231,1235.28 345.921,1235.72 352.611,1236.17 359.301,1236.61 365.991,1237.06 372.681,1237.51 379.371,1237.96 386.061,1238.4 392.752,1238.85 399.442,1239.3 406.132,1239.75 412.822,1240.2 419.512,1240.65 426.202,1241.1 432.892,1241.55 439.582,1242 446.272,1242.45 452.963,1242.9 459.653,1243.35 466.343,1243.8 473.033,1244.25 479.723,1244.7 486.413,1245.15 493.103,1245.6 499.793,1246.05 506.484,1246.5 513.174,1246.95 519.864,1247.4 526.554,1247.85 533.244,1248.3 539.934,1248.75 546.624,1249.2 553.314,1249.65 560.005,1250.09 566.695,1250.54 573.385,1250.99 580.075,1251.44 586.765,1251.88 593.455,1252.33 600.145,1252.77 606.835,1253.22 613.525,1253.66 620.216,1254.11 626.906,1254.55 633.596,1255 640.286,1255.44 646.976,1255.88 653.666,1256.32 660.356,1256.76 667.046,1257.2 673.737,1257.64 680.427,1258.08 687.117,1258.52 693.807,1258.96 700.497,1259.4 707.187,1259.83 713.877,1260.27 720.567,1260.7 727.258,1261.14 733.948,1261.57 740.638,1262 747.328,1262.43 754.018,1262.86 760.708,1263.29 767.398,1263.72 774.088,1264.15 780.778,1264.58 787.469,1265.01 794.159,1265.43 800.849,1265.86 807.539,1266.28 814.229,1266.7 820.919,1267.13 827.609,1267.55 834.299,1267.97 840.99,1268.39 847.68,1268.81 854.37,1269.23 861.06,1269.64 867.75,1270.06 874.44,1270.47 881.13,1270.89 887.82,1271.3 894.511,1271.71 901.201,1272.12 907.891,1272.53 914.581,1272.94 921.271,1273.35 927.961,1273.76 934.651,1274.16 941.341,1274.57 948.031,1274.97 954.722,1275.37 961.412,1275.78 968.102,1276.18 974.792,1276.58 981.482,1276.98 988.172,1277.37 994.862,1277.77 1001.55,1278.17 1008.24,1278.56 1014.93,1278.95 1021.62,1279.35 1028.31,1279.74 1035,1280.13 1041.69,1280.52 1048.38,1280.91 1055.07,1281.29 1061.76,1281.68 1068.45,1282.07 1075.14,1282.45 1081.83,1282.83 1088.52,1283.21 1095.21,1283.6 1101.9,1283.98 1108.59,1284.35 1115.28,1284.73 1121.97,1285.11 1128.66,1285.49 1135.35,1285.86 1142.04,1286.23 1148.74,1286.61 1155.43,1286.98 1162.12,1287.35 1168.81,1287.72 1175.5,1288.09 1182.19,1288.46 1188.88,1288.82 1195.57,1289.19 1202.26,1289.55 1208.95,1289.92 1215.64,1290.28 1222.33,1290.64 1229.02,1291 1235.71,1291.36 1242.4,1291.72 1249.09,1292.08 1255.78,1292.43 1262.47,1292.79 1269.16,1293.14 1275.85,1293.5 1282.54,1293.85 1289.23,1294.2 1295.92,1294.55 1302.61,1294.9 1309.3,1295.25 1315.99,1295.6 1322.68,1295.95 1329.37,1296.29 1336.06,1296.64 1342.75,1296.99 1349.44,1297.33 1356.13,1297.67 1362.82,1298.01 1369.51,1298.35 1376.2,1298.69 1382.89,1299.03 1389.58,1299.37 1396.27,1299.71 1402.96,1300.05 1409.65,1300.38 1416.34,1300.72 1423.03,1301.05 1429.72,1301.39 1436.41,1301.72 1443.1,1302.05 1449.79,1302.38 1456.48,1302.71 1463.17,1303.04 1469.86,1303.37 1476.55,1303.7 1483.24,1304.03 1489.93,1304.35 1496.62,1304.68 1503.31,1305 1510,1305.33 1516.69,1305.65 1523.38,1305.97 1530.07,1306.3 1536.76,1306.62 1543.45,1306.94 1550.14,1307.26 1556.83,1307.58 1563.52,1307.9 1570.21,1308.22 1576.9,1308.53 1583.59,1308.85 1590.28,1309.17 1596.97,1309.48 1603.66,1309.8 1610.35,1310.11 1617.04,1310.43 1623.73,1310.74 1630.42,1311.05 1637.11,1311.37 1643.8,1311.68 1650.49,1311.99 1657.18,1312.3 1663.87,1312.61 1670.56,1312.92 1677.25,1313.23 1683.94,1313.54 1690.63,1313.85 1697.32,1314.15 1704.01,1314.46 1710.71,1314.77 1717.4,1315.07 1724.09,1315.38 1730.78,1315.69 1737.47,1315.99 1744.16,1316.3 1750.85,1316.6 1757.54,1316.9 1764.23,1317.21 1770.92,1317.51 1777.61,1317.81 1784.3,1318.12 1790.99,1318.42 1797.68,1318.72 1804.37,1319.02 1811.06,1319.32 1817.75,1319.62 1824.44,1319.92 1831.13,1320.22 1837.82,1320.52 1844.51,1320.82 1851.2,1321.12 1857.89,1321.42 1864.58,1321.72 1871.27,1322.02 1877.96,1322.32 1884.65,1322.61 1891.34,1322.91 1898.03,1323.21 1904.72,1323.51 1911.41,1323.8 1918.1,1324.1 1924.79,1324.4 1931.48,1324.69 1938.17,1324.99 1944.86,1325.29 1951.55,1325.58 1958.24,1325.88 1964.93,1326.17 1971.62,1326.47 1978.31,1326.77 1985,1327.06 1991.69,1327.36 1998.38,1327.65 2005.07,1327.95 2011.76,1328.24 2018.45,1328.54 2025.14,1328.83 2031.83,1329.13 2038.52,1329.42 2045.21,1329.71 2051.9,1330.01 2058.59,1330.3 2065.28,1330.6 2071.97,1330.89 2078.66,1331.19 2085.35,1331.48 2092.04,1331.77 2098.73,1332.07 2105.42,1332.36 2112.11,1332.66 2118.8,1332.95 2125.49,1333.24 2132.18,1333.54 2138.87,1333.83 2145.56,1334.13 2152.25,1334.42 2158.94,1334.71 2165.63,1335.01 2172.32,1335.3 2179.01,1335.6 2185.7,1335.89 2192.39,1336.19 2199.08,1336.48 2205.77,1336.77 2212.46,1337.07 2219.15,1337.36 2225.84,1337.66 2232.53,1337.95 2239.22,1338.25 2245.91,1338.54 2252.6,1338.84 2259.29,1339.13 2265.99,1339.43 2272.68,1339.72 2279.37,1340.01 2286.06,1340.31 2292.75,1340.6 \"/>\n",
       "<polyline clip-path=\"url(#clip002)\" style=\"stroke:#e26f46; stroke-linecap:round; stroke-linejoin:round; stroke-width:4; stroke-opacity:1; fill:none\" points=\"292.4,1386.4 299.09,1385.88 305.78,1385.36 312.47,1384.84 319.16,1384.32 325.85,1383.8 332.54,1383.28 339.231,1382.77 345.921,1382.25 352.611,1381.74 359.301,1381.23 365.991,1380.72 372.681,1380.21 379.371,1379.7 386.061,1379.19 392.752,1378.68 399.442,1378.17 406.132,1377.67 412.822,1377.16 419.512,1376.66 426.202,1376.16 432.892,1375.66 439.582,1375.16 446.272,1374.66 452.963,1374.16 459.653,1373.66 466.343,1373.17 473.033,1372.68 479.723,1372.18 486.413,1371.69 493.103,1371.2 499.793,1370.72 506.484,1370.23 513.174,1369.74 519.864,1369.26 526.554,1368.78 533.244,1368.29 539.934,1367.81 546.624,1367.34 553.314,1366.86 560.005,1366.38 566.695,1365.91 573.385,1365.44 580.075,1364.96 586.765,1364.49 593.455,1364.03 600.145,1363.56 606.835,1363.09 613.525,1362.63 620.216,1362.17 626.906,1361.71 633.596,1361.25 640.286,1360.79 646.976,1360.33 653.666,1359.88 660.356,1359.42 667.046,1358.97 673.737,1358.52 680.427,1358.07 687.117,1357.63 693.807,1357.18 700.497,1356.74 707.187,1356.3 713.877,1355.86 720.567,1355.42 727.258,1354.98 733.948,1354.54 740.638,1354.11 747.328,1353.68 754.018,1353.25 760.708,1352.82 767.398,1352.39 774.088,1351.96 780.778,1351.54 787.469,1351.12 794.159,1350.69 800.849,1350.27 807.539,1349.86 814.229,1349.44 820.919,1349.03 827.609,1348.61 834.299,1348.2 840.99,1347.79 847.68,1347.38 854.37,1346.98 861.06,1346.57 867.75,1346.17 874.44,1345.77 881.13,1345.37 887.82,1344.97 894.511,1344.57 901.201,1344.17 907.891,1343.78 914.581,1343.39 921.271,1343 927.961,1342.61 934.651,1342.22 941.341,1341.84 948.031,1341.45 954.722,1341.07 961.412,1340.69 968.102,1340.31 974.792,1339.93 981.482,1339.55 988.172,1339.18 994.862,1338.81 1001.55,1338.43 1008.24,1338.06 1014.93,1337.7 1021.62,1337.33 1028.31,1336.96 1035,1336.6 1041.69,1336.24 1048.38,1335.87 1055.07,1335.52 1061.76,1335.16 1068.45,1334.8 1075.14,1334.45 1081.83,1334.09 1088.52,1333.74 1095.21,1333.39 1101.9,1333.04 1108.59,1332.69 1115.28,1332.34 1121.97,1332 1128.66,1331.66 1135.35,1331.31 1142.04,1330.97 1148.74,1330.63 1155.43,1330.29 1162.12,1329.96 1168.81,1329.62 1175.5,1329.29 1182.19,1328.96 1188.88,1328.62 1195.57,1328.29 1202.26,1327.97 1208.95,1327.64 1215.64,1327.31 1222.33,1326.99 1229.02,1326.66 1235.71,1326.34 1242.4,1326.02 1249.09,1325.7 1255.78,1325.38 1262.47,1325.07 1269.16,1324.75 1275.85,1324.44 1282.54,1324.12 1289.23,1323.81 1295.92,1323.5 1302.61,1323.19 1309.3,1322.88 1315.99,1322.57 1322.68,1322.27 1329.37,1321.96 1336.06,1321.66 1342.75,1321.35 1349.44,1321.05 1356.13,1320.75 1362.82,1320.45 1369.51,1320.15 1376.2,1319.85 1382.89,1319.56 1389.58,1319.26 1396.27,1318.97 1402.96,1318.67 1409.65,1318.38 1416.34,1318.09 1423.03,1317.8 1429.72,1317.51 1436.41,1317.22 1443.1,1316.93 1449.79,1316.65 1456.48,1316.36 1463.17,1316.07 1469.86,1315.79 1476.55,1315.51 1483.24,1315.23 1489.93,1314.94 1496.62,1314.66 1503.31,1314.38 1510,1314.11 1516.69,1313.83 1523.38,1313.55 1530.07,1313.27 1536.76,1313 1543.45,1312.72 1550.14,1312.45 1556.83,1312.18 1563.52,1311.9 1570.21,1311.63 1576.9,1311.36 1583.59,1311.09 1590.28,1310.82 1596.97,1310.55 1603.66,1310.28 1610.35,1310.02 1617.04,1309.75 1623.73,1309.48 1630.42,1309.22 1637.11,1308.95 1643.8,1308.69 1650.49,1308.43 1657.18,1308.16 1663.87,1307.9 1670.56,1307.64 1677.25,1307.38 1683.94,1307.12 1690.63,1306.86 1697.32,1306.6 1704.01,1306.34 1710.71,1306.08 1717.4,1305.82 1724.09,1305.56 1730.78,1305.3 1737.47,1305.05 1744.16,1304.79 1750.85,1304.54 1757.54,1304.28 1764.23,1304.03 1770.92,1303.77 1777.61,1303.52 1784.3,1303.26 1790.99,1303.01 1797.68,1302.76 1804.37,1302.5 1811.06,1302.25 1817.75,1302 1824.44,1301.75 1831.13,1301.5 1837.82,1301.25 1844.51,1301 1851.2,1300.75 1857.89,1300.49 1864.58,1300.25 1871.27,1300 1877.96,1299.75 1884.65,1299.5 1891.34,1299.25 1898.03,1299 1904.72,1298.75 1911.41,1298.5 1918.1,1298.26 1924.79,1298.01 1931.48,1297.76 1938.17,1297.51 1944.86,1297.27 1951.55,1297.02 1958.24,1296.77 1964.93,1296.53 1971.62,1296.28 1978.31,1296.03 1985,1295.79 1991.69,1295.54 1998.38,1295.3 2005.07,1295.05 2011.76,1294.81 2018.45,1294.56 2025.14,1294.31 2031.83,1294.07 2038.52,1293.82 2045.21,1293.58 2051.9,1293.33 2058.59,1293.09 2065.28,1292.84 2071.97,1292.6 2078.66,1292.35 2085.35,1292.11 2092.04,1291.86 2098.73,1291.62 2105.42,1291.37 2112.11,1291.13 2118.8,1290.88 2125.49,1290.64 2132.18,1290.39 2138.87,1290.15 2145.56,1289.9 2152.25,1289.66 2158.94,1289.41 2165.63,1289.17 2172.32,1288.92 2179.01,1288.68 2185.7,1288.43 2192.39,1288.19 2199.08,1287.94 2205.77,1287.7 2212.46,1287.45 2219.15,1287.21 2225.84,1286.96 2232.53,1286.72 2239.22,1286.47 2245.91,1286.23 2252.6,1285.98 2259.29,1285.74 2265.99,1285.49 2272.68,1285.24 2279.37,1285 2286.06,1284.75 2292.75,1284.51 \"/>\n",
       "<polyline clip-path=\"url(#clip002)\" style=\"stroke:#3da44d; stroke-linecap:round; stroke-linejoin:round; stroke-width:4; stroke-opacity:1; fill:none\" points=\"292.4,160.256 299.09,160.341 305.78,160.431 312.47,160.526 319.16,160.626 325.85,160.731 332.54,160.841 339.231,160.955 345.921,161.075 352.611,161.199 359.301,161.328 365.991,161.461 372.681,161.599 379.371,161.741 386.061,161.888 392.752,162.039 399.442,162.195 406.132,162.354 412.822,162.518 419.512,162.686 426.202,162.858 432.892,163.033 439.582,163.213 446.272,163.397 452.963,163.584 459.653,163.775 466.343,163.97 473.033,164.169 479.723,164.371 486.413,164.576 493.103,164.785 499.793,164.998 506.484,165.214 513.174,165.433 519.864,165.655 526.554,165.881 533.244,166.11 539.934,166.342 546.624,166.577 553.314,166.815 560.005,167.056 566.695,167.3 573.385,167.546 580.075,167.796 586.765,168.048 593.455,168.304 600.145,168.561 606.835,168.822 613.525,169.085 620.216,169.35 626.906,169.619 633.596,169.889 640.286,170.162 646.976,170.437 653.666,170.715 660.356,170.995 667.046,171.277 673.737,171.562 680.427,171.848 687.117,172.137 693.807,172.428 700.497,172.721 707.187,173.015 713.877,173.312 720.567,173.611 727.258,173.912 733.948,174.214 740.638,174.519 747.328,174.825 754.018,175.133 760.708,175.442 767.398,175.753 774.088,176.066 780.778,176.381 787.469,176.697 794.159,177.015 800.849,177.334 807.539,177.654 814.229,177.976 820.919,178.3 827.609,178.625 834.299,178.951 840.99,179.278 847.68,179.607 854.37,179.937 861.06,180.269 867.75,180.601 874.44,180.935 881.13,181.27 887.82,181.606 894.511,181.943 901.201,182.281 907.891,182.62 914.581,182.96 921.271,183.301 927.961,183.643 934.651,183.986 941.341,184.33 948.031,184.675 954.722,185.02 961.412,185.367 968.102,185.714 974.792,186.062 981.482,186.411 988.172,186.761 994.862,187.111 1001.55,187.462 1008.24,187.814 1014.93,188.166 1021.62,188.519 1028.31,188.872 1035,189.226 1041.69,189.581 1048.38,189.936 1055.07,190.292 1061.76,190.649 1068.45,191.005 1075.14,191.363 1081.83,191.72 1088.52,192.078 1095.21,192.437 1101.9,192.796 1108.59,193.155 1115.28,193.515 1121.97,193.875 1128.66,194.236 1135.35,194.597 1142.04,194.958 1148.74,195.319 1155.43,195.681 1162.12,196.043 1168.81,196.405 1175.5,196.767 1182.19,197.13 1188.88,197.493 1195.57,197.856 1202.26,198.219 1208.95,198.582 1215.64,198.946 1222.33,199.31 1229.02,199.673 1235.71,200.037 1242.4,200.402 1249.09,200.766 1255.78,201.13 1262.47,201.494 1269.16,201.859 1275.85,202.223 1282.54,202.588 1289.23,202.952 1295.92,203.317 1302.61,203.682 1309.3,204.046 1315.99,204.411 1322.68,204.776 1329.37,205.14 1336.06,205.505 1342.75,205.869 1349.44,206.234 1356.13,206.598 1362.82,206.963 1369.51,207.327 1376.2,207.692 1382.89,208.056 1389.58,208.42 1396.27,208.784 1402.96,209.148 1409.65,209.512 1416.34,209.876 1423.03,210.24 1429.72,210.603 1436.41,210.967 1443.1,211.33 1449.79,211.694 1456.48,212.057 1463.17,212.42 1469.86,212.783 1476.55,213.145 1483.24,213.508 1489.93,213.871 1496.62,214.233 1503.31,214.595 1510,214.957 1516.69,215.319 1523.38,215.681 1530.07,216.042 1536.76,216.404 1543.45,216.765 1550.14,217.126 1556.83,217.487 1563.52,217.847 1570.21,218.208 1576.9,218.568 1583.59,218.929 1590.28,219.289 1596.97,219.648 1603.66,220.008 1610.35,220.368 1617.04,220.727 1623.73,221.086 1630.42,221.445 1637.11,221.804 1643.8,222.162 1650.49,222.521 1657.18,222.879 1663.87,223.237 1670.56,223.595 1677.25,223.953 1683.94,224.31 1690.63,224.668 1697.32,225.025 1704.01,225.382 1710.71,225.739 1717.4,226.095 1724.09,226.452 1730.78,226.808 1737.47,227.164 1744.16,227.52 1750.85,227.876 1757.54,228.232 1764.23,228.587 1770.92,228.942 1777.61,229.298 1784.3,229.653 1790.99,230.007 1797.68,230.362 1804.37,230.717 1811.06,231.071 1817.75,231.425 1824.44,231.779 1831.13,232.133 1837.82,232.487 1844.51,232.841 1851.2,233.195 1857.89,233.548 1864.58,233.901 1871.27,234.254 1877.96,234.608 1884.65,234.96 1891.34,235.313 1898.03,235.666 1904.72,236.019 1911.41,236.371 1918.1,236.723 1924.79,237.076 1931.48,237.428 1938.17,237.78 1944.86,238.132 1951.55,238.484 1958.24,238.836 1964.93,239.187 1971.62,239.539 1978.31,239.891 1985,240.242 1991.69,240.594 1998.38,240.945 2005.07,241.296 2011.76,241.647 2018.45,241.999 2025.14,242.35 2031.83,242.701 2038.52,243.052 2045.21,243.403 2051.9,243.754 2058.59,244.105 2065.28,244.455 2071.97,244.806 2078.66,245.157 2085.35,245.508 2092.04,245.859 2098.73,246.209 2105.42,246.56 2112.11,246.911 2118.8,247.261 2125.49,247.612 2132.18,247.962 2138.87,248.313 2145.56,248.664 2152.25,249.014 2158.94,249.365 2165.63,249.716 2172.32,250.066 2179.01,250.417 2185.7,250.767 2192.39,251.118 2199.08,251.469 2205.77,251.82 2212.46,252.17 2219.15,252.521 2225.84,252.872 2232.53,253.223 2239.22,253.573 2245.91,253.924 2252.6,254.275 2259.29,254.626 2265.99,254.977 2272.68,255.328 2279.37,255.679 2286.06,256.03 2292.75,256.381 \"/>\n",
       "<path clip-path=\"url(#clip000)\" d=\"M2027.42 374.156 L2282.08 374.156 L2282.08 166.796 L2027.42 166.796  Z\" fill=\"#ffffff\" fill-rule=\"evenodd\" fill-opacity=\"1\"/>\n",
       "<polyline clip-path=\"url(#clip000)\" style=\"stroke:#000000; stroke-linecap:round; stroke-linejoin:round; stroke-width:4; stroke-opacity:1; fill:none\" points=\"2027.42,374.156 2282.08,374.156 2282.08,166.796 2027.42,166.796 2027.42,374.156 \"/>\n",
       "<polyline clip-path=\"url(#clip000)\" style=\"stroke:#009af9; stroke-linecap:round; stroke-linejoin:round; stroke-width:4; stroke-opacity:1; fill:none\" points=\"2050.98,218.636 2192.34,218.636 \"/>\n",
       "<path clip-path=\"url(#clip000)\" d=\"M2215.9 225.684 L2215.9 209.99 L2220.16 209.99 L2220.16 225.522 Q2220.16 229.203 2221.6 231.055 Q2223.03 232.883 2225.9 232.883 Q2229.35 232.883 2231.34 230.684 Q2233.36 228.485 2233.36 224.689 L2233.36 209.99 L2237.61 209.99 L2237.61 235.916 L2233.36 235.916 L2233.36 231.934 Q2231.8 234.295 2229.74 235.453 Q2227.71 236.587 2225 236.587 Q2220.53 236.587 2218.22 233.809 Q2215.9 231.031 2215.9 225.684 M2226.62 209.365 L2226.62 209.365 Z\" fill=\"#000000\" fill-rule=\"evenodd\" fill-opacity=\"1\" /><path clip-path=\"url(#clip000)\" d=\"M2245.53 233.369 L2250.25 233.369 L2250.25 219.226 L2245.09 220.175 L2245.09 217.49 L2250.42 216.587 L2253.59 216.587 L2253.59 233.369 L2258.33 233.369 L2258.33 235.916 L2245.53 235.916 L2245.53 233.369 Z\" fill=\"#000000\" fill-rule=\"evenodd\" fill-opacity=\"1\" /><polyline clip-path=\"url(#clip000)\" style=\"stroke:#e26f46; stroke-linecap:round; stroke-linejoin:round; stroke-width:4; stroke-opacity:1; fill:none\" points=\"2050.98,270.476 2192.34,270.476 \"/>\n",
       "<path clip-path=\"url(#clip000)\" d=\"M2215.9 277.524 L2215.9 261.83 L2220.16 261.83 L2220.16 277.362 Q2220.16 281.043 2221.6 282.895 Q2223.03 284.723 2225.9 284.723 Q2229.35 284.723 2231.34 282.524 Q2233.36 280.325 2233.36 276.529 L2233.36 261.83 L2237.61 261.83 L2237.61 287.756 L2233.36 287.756 L2233.36 283.774 Q2231.8 286.135 2229.74 287.293 Q2227.71 288.427 2225 288.427 Q2220.53 288.427 2218.22 285.649 Q2215.9 282.871 2215.9 277.524 M2226.62 261.205 L2226.62 261.205 Z\" fill=\"#000000\" fill-rule=\"evenodd\" fill-opacity=\"1\" /><path clip-path=\"url(#clip000)\" d=\"M2248.12 285.117 L2257.94 285.117 L2257.94 287.756 L2244.1 287.756 L2244.1 285.209 Q2244.88 284.492 2246.34 283.196 Q2254.3 276.135 2254.3 273.959 Q2254.3 272.432 2253.1 271.506 Q2251.9 270.557 2249.93 270.557 Q2248.73 270.557 2247.31 270.973 Q2245.9 271.367 2244.24 272.177 L2244.24 269.33 Q2246.02 268.682 2247.55 268.358 Q2249.1 268.034 2250.42 268.034 Q2253.77 268.034 2255.79 269.561 Q2257.8 271.089 2257.8 273.589 Q2257.8 276.807 2250.14 283.381 Q2248.84 284.492 2248.12 285.117 Z\" fill=\"#000000\" fill-rule=\"evenodd\" fill-opacity=\"1\" /><polyline clip-path=\"url(#clip000)\" style=\"stroke:#3da44d; stroke-linecap:round; stroke-linejoin:round; stroke-width:4; stroke-opacity:1; fill:none\" points=\"2050.98,322.316 2192.34,322.316 \"/>\n",
       "<path clip-path=\"url(#clip000)\" d=\"M2215.9 329.364 L2215.9 313.67 L2220.16 313.67 L2220.16 329.202 Q2220.16 332.883 2221.6 334.735 Q2223.03 336.563 2225.9 336.563 Q2229.35 336.563 2231.34 334.364 Q2233.36 332.165 2233.36 328.369 L2233.36 313.67 L2237.61 313.67 L2237.61 339.596 L2233.36 339.596 L2233.36 335.614 Q2231.8 337.975 2229.74 339.133 Q2227.71 340.267 2225 340.267 Q2220.53 340.267 2218.22 337.489 Q2215.9 334.711 2215.9 329.364 M2226.62 313.045 L2226.62 313.045 Z\" fill=\"#000000\" fill-rule=\"evenodd\" fill-opacity=\"1\" /><path clip-path=\"url(#clip000)\" d=\"M2254.05 329.133 Q2256.18 329.549 2257.34 330.823 Q2258.52 332.073 2258.52 333.971 Q2258.52 336.841 2256.32 338.392 Q2254.12 339.943 2250.02 339.943 Q2248.7 339.943 2247.24 339.688 Q2245.81 339.457 2244.19 338.994 L2244.19 336.193 Q2245.39 336.818 2246.76 337.119 Q2248.15 337.42 2249.7 337.42 Q2252.22 337.42 2253.61 336.517 Q2255 335.591 2255 333.971 Q2255 332.258 2253.7 331.378 Q2252.43 330.499 2249.93 330.499 L2247.94 330.499 L2247.94 327.999 L2250.11 327.999 Q2252.29 327.999 2253.4 327.281 Q2254.54 326.54 2254.54 325.151 Q2254.54 323.809 2253.38 323.114 Q2252.22 322.397 2250.02 322.397 Q2249.1 322.397 2247.92 322.605 Q2246.74 322.813 2244.86 323.346 L2244.86 320.684 Q2246.55 320.29 2248.03 320.082 Q2249.51 319.874 2250.79 319.874 Q2254.12 319.874 2256.06 321.239 Q2258.03 322.605 2258.03 324.897 Q2258.03 326.494 2256.99 327.605 Q2255.95 328.716 2254.05 329.133 Z\" fill=\"#000000\" fill-rule=\"evenodd\" fill-opacity=\"1\" /></svg>\n"
      ]
     },
     "metadata": {},
     "output_type": "display_data"
>>>>>>> khai_dev_mpc
    }
   ],
   "source": [
    "# Let's solve\n",
    "\n",
    "nx = 6\n",
    "nu = 3\n",
    "N = 301\n",
    "dt = 0.05\n",
    "t_vec = dt*(0:N-1)\n",
    "x0 = [4, 2, 20, -3, 2, -5.0]\n",
    "xg = [0,0,0,0,0,0.0]\n",
    "Xref = [deepcopy(xg) for i = 1:N]\n",
    "Uref = [zeros(nu) for i = 1:N-1]\n",
    "\n",
    "Q = 1e-1*Diagonal([1,1,1,1.0,1,1])\n",
    "R = 1e-0*Diagonal([1,1,1])\n",
    "Qf = 1000*Q\n",
    "\n",
    "# ground_level = 0.0\n",
    "gravity = [0; 0; -9.81]\n",
    "mass = 10.0\n",
    "# ωPlanet = [0.0; 0.0; 0.0]\n",
    "perWeightMax = 2.0\n",
    "θ_thrust_max = 5.0  # deg\n",
    "# θ_glideslope = 60.0 # deg\n",
    "# glide_recover_k = 8\n",
    "\n",
    "A_cone = [1 0 0; 0 1 0]\n",
    "c_cone = [0.0, 0.0, tand(θ_thrust_max)]\n",
    "u_bnd = mass * abs(gravity[3]) * perWeightMax\n",
    "u_min = -170*ones(nu)\n",
    "u_max =  170*ones(nu)\n",
    "\n",
    "# state is x y v θ\n",
    "x_min = [-5,-5,0,-10,-10,-10.0]\n",
    "x_max = [5,5,20,10,10,10.0]\n",
    "\n",
    "ncx = 2*nx*0\n",
    "ncu = 2*nu*0\n",
    "ncg = 1\n",
<<<<<<< HEAD
    "ncu_cone = nu; \n",
=======
    "ncu_cone = nu*0; \n",
    "cone_scale = 1  # very fragile for each problem\n",
>>>>>>> khai_dev_mpc
    "\n",
    "params = (\n",
    "    nx = nx,\n",
    "    nu = nu,\n",
    "    ncx = ncx,\n",
    "    ncu = ncu,\n",
    "    ncg = ncg,\n",
    "    ncu_cone = ncu_cone,\n",
    "    A_cone = A_cone,\n",
    "    c_cone = c_cone,\n",
    "    N = N,\n",
    "    Q = Q,\n",
    "    R = R,\n",
    "    Qf = Qf,\n",
    "    u_min = u_min,\n",
    "    u_max = u_max,\n",
    "    x_min = x_min,\n",
    "    x_max = x_max,\n",
    "    Xref = Xref,\n",
    "    Uref = Uref,\n",
    "    dt = dt,\n",
    "    mc = 1.0,\n",
    "    mp = 0.2,\n",
    "    l = 0.5,\n",
    "    g = 9.81,\n",
    ");\n",
    "\n",
    "# previous iterate\n",
    "X = [deepcopy(x0) for i = 1:N]\n",
    "U = [-mass * gravity for k = 1:N-1]\n",
    "\n",
    "# new iterate\n",
    "Xn = deepcopy(X)\n",
    "Un = deepcopy(U)\n",
    "\n",
    "P = [zeros(nx,nx) for i = 1:N]   # cost to go quadratic term\n",
    "p = [zeros(nx) for i = 1:N]      # cost to go linear term\n",
    "d = [zeros(nu) for i = 1:N-1]    # feedforward control\n",
    "K = [zeros(nu,nx) for i = 1:N-1] # feedback gain\n",
    "Xhist = mpc(params,X,U,P,p,K,d,Xn,Un;atol=1e-1,max_iters = 11,verbose = true,ρ = 1e0, ϕ = 10.0);\n",
    "function mat_from_vec(X::Vector{Vector{Float64}})::Matrix\n",
    "    # convert a vector of vectors to a matrix \n",
    "    Xm = hcat(X...)\n",
    "    return Xm \n",
    "end\n",
    "Xsim_m = mat_from_vec(Xn)\n",
    "Usim_m = mat_from_vec(Un)\n",
    "using Plots\n",
    "display(plot(t_vec,Xsim_m',label = [\"x₁\" \"x₂\" \"x₃\" \"ẋ₁\" \"ẋ₂\" \"ẋ₃\"],linestyle=[:solid :solid :solid :dash :dash :dash],\n",
    "             title = \"State History\",\n",
    "             xlabel = \"time (s)\", ylabel = \"x\"))\n",
    "display(plot(t_vec[1:end-1],Usim_m',label = [\"u₁\" \"u₂\" \"u₃\"],\n",
    "             title = \"Input History\",\n",
    "             xlabel = \"time (s)\", ylabel = \"u\"))"
   ]
  },
  {
   "cell_type": "markdown",
   "id": "416df651-52ee-4c43-93e5-aca23c5630b2",
   "metadata": {},
   "source": [
    "For TrajOpt, it needs more tricks to get better results:\n",
    "- Hessian of the projection => better approximation\n",
    "- Scaling between conic constraints and other ones\n",
    "- Solution polishing"
   ]
  },
  {
   "cell_type": "code",
<<<<<<< HEAD
   "execution_count": 78,
=======
   "execution_count": 766,
>>>>>>> khai_dev_mpc
   "id": "12ec6530-7479-455f-843a-81d2c40fb13a",
   "metadata": {},
   "outputs": [
    {
     "data": {
      "text/plain": [
<<<<<<< HEAD
       "0.0"
=======
       "0.7607807303012883"
>>>>>>> khai_dev_mpc
      ]
     },
     "metadata": {},
     "output_type": "display_data"
    },
    {
     "data": {
      "text/plain": [
<<<<<<< HEAD
       "0.0"
=======
       "0.6996756250965088"
>>>>>>> khai_dev_mpc
      ]
     },
     "metadata": {},
     "output_type": "display_data"
    },
    {
     "data": {
      "text/plain": [
<<<<<<< HEAD
       "0.0"
=======
       "0.638609504310427"
>>>>>>> khai_dev_mpc
      ]
     },
     "metadata": {},
     "output_type": "display_data"
    },
    {
     "data": {
      "text/plain": [
<<<<<<< HEAD
       "0.0"
=======
       "0.5775858835778784"
>>>>>>> khai_dev_mpc
      ]
     },
     "metadata": {},
     "output_type": "display_data"
    },
    {
     "data": {
      "text/plain": [
<<<<<<< HEAD
       "0.0"
=======
       "0.5166082232591425"
>>>>>>> khai_dev_mpc
      ]
     },
     "metadata": {},
     "output_type": "display_data"
    },
    {
     "data": {
      "text/plain": [
<<<<<<< HEAD
       "0.0"
=======
       "0.45567992880183716"
>>>>>>> khai_dev_mpc
      ]
     },
     "metadata": {},
     "output_type": "display_data"
    },
    {
     "data": {
      "text/plain": [
<<<<<<< HEAD
       "0.0"
=======
       "0.3948043511032875"
>>>>>>> khai_dev_mpc
      ]
     },
     "metadata": {},
     "output_type": "display_data"
    },
    {
     "data": {
      "text/plain": [
<<<<<<< HEAD
       "0.0"
=======
       "0.3339847868733177"
>>>>>>> khai_dev_mpc
      ]
     },
     "metadata": {},
     "output_type": "display_data"
    },
    {
     "data": {
      "text/plain": [
<<<<<<< HEAD
       "0.0"
=======
       "0.2732244789974416"
>>>>>>> khai_dev_mpc
      ]
     },
     "metadata": {},
     "output_type": "display_data"
    },
    {
     "data": {
      "text/plain": [
<<<<<<< HEAD
       "0.0"
=======
       "0.21252661690041208"
>>>>>>> khai_dev_mpc
      ]
     },
     "metadata": {},
     "output_type": "display_data"
    },
    {
     "data": {
      "text/plain": [
<<<<<<< HEAD
       "0.0"
=======
       "0.15189433691008958"
>>>>>>> khai_dev_mpc
      ]
     },
     "metadata": {},
     "output_type": "display_data"
    },
    {
     "data": {
      "text/plain": [
<<<<<<< HEAD
       "0.0"
=======
       "0.09133072262163644"
>>>>>>> khai_dev_mpc
      ]
     },
     "metadata": {},
     "output_type": "display_data"
    },
    {
     "data": {
      "text/plain": [
<<<<<<< HEAD
       "0.0"
=======
       "0.030838805261955926"
>>>>>>> khai_dev_mpc
      ]
     },
     "metadata": {},
     "output_type": "display_data"
    },
    {
     "data": {
      "text/plain": [
<<<<<<< HEAD
       "0.0"
=======
       "-0.029578435945587955"
>>>>>>> khai_dev_mpc
      ]
     },
     "metadata": {},
     "output_type": "display_data"
    },
    {
     "data": {
      "text/plain": [
<<<<<<< HEAD
       "0.0"
=======
       "-0.08991807341626767"
>>>>>>> khai_dev_mpc
      ]
     },
     "metadata": {},
     "output_type": "display_data"
    },
    {
     "data": {
      "text/plain": [
<<<<<<< HEAD
       "0.0"
=======
       "-0.15017723083886914"
>>>>>>> khai_dev_mpc
      ]
     },
     "metadata": {},
     "output_type": "display_data"
    },
    {
     "data": {
      "text/plain": [
<<<<<<< HEAD
       "0.0"
=======
       "-0.21035308281040876"
>>>>>>> khai_dev_mpc
      ]
     },
     "metadata": {},
     "output_type": "display_data"
    },
    {
     "data": {
      "text/plain": [
<<<<<<< HEAD
       "0.0"
=======
       "-0.27044285447070315"
>>>>>>> khai_dev_mpc
      ]
     },
     "metadata": {},
     "output_type": "display_data"
    },
    {
     "data": {
      "text/plain": [
<<<<<<< HEAD
       "0.0"
=======
       "-0.3304438211367948"
>>>>>>> khai_dev_mpc
      ]
     },
     "metadata": {},
     "output_type": "display_data"
    },
    {
     "data": {
      "text/plain": [
<<<<<<< HEAD
       "0.0"
=======
       "-0.39035330793731937"
>>>>>>> khai_dev_mpc
      ]
     },
     "metadata": {},
     "output_type": "display_data"
    },
    {
     "data": {
      "text/plain": [
<<<<<<< HEAD
       "0.0"
=======
       "-0.4501686894467323"
>>>>>>> khai_dev_mpc
      ]
     },
     "metadata": {},
     "output_type": "display_data"
    },
    {
     "data": {
      "text/plain": [
<<<<<<< HEAD
       "0.0"
=======
       "-0.5098873893195126"
>>>>>>> khai_dev_mpc
      ]
     },
     "metadata": {},
     "output_type": "display_data"
    },
    {
     "data": {
      "text/plain": [
       "-0.5695068799242797"
      ]
     },
     "metadata": {},
     "output_type": "display_data"
    },
    {
     "data": {
      "text/plain": [
       "-0.6290246819779295"
      ]
     },
     "metadata": {},
     "output_type": "display_data"
    },
    {
     "data": {
      "text/plain": [
       "-0.6884383641796852"
      ]
     },
     "metadata": {},
     "output_type": "display_data"
    },
    {
     "data": {
      "text/plain": [
       "-0.7477455428452231"
      ]
     },
     "metadata": {},
     "output_type": "display_data"
    },
    {
     "data": {
      "text/plain": [
       "-0.8069438815407342"
      ]
     },
     "metadata": {},
     "output_type": "display_data"
    },
    {
     "data": {
      "text/plain": [
       "-0.8660310907170619"
      ]
     },
     "metadata": {},
     "output_type": "display_data"
    },
    {
     "data": {
      "text/plain": [
       "-0.9250049273438439"
      ]
     },
     "metadata": {},
     "output_type": "display_data"
    },
    {
     "data": {
      "text/plain": [
       "-0.9838631945437051"
      ]
     },
     "metadata": {},
     "output_type": "display_data"
    },
    {
     "data": {
      "text/plain": [
       "-1.042603741226511"
      ]
     },
     "metadata": {},
     "output_type": "display_data"
    },
    {
     "data": {
      "text/plain": [
       "-1.1012244617236497"
      ]
     },
     "metadata": {},
     "output_type": "display_data"
    },
    {
     "data": {
      "text/plain": [
       "-1.1597232954224062"
      ]
     },
     "metadata": {},
     "output_type": "display_data"
    },
    {
     "data": {
      "text/plain": [
       "-1.2180982264004072"
      ]
     },
     "metadata": {},
     "output_type": "display_data"
    },
    {
     "data": {
      "text/plain": [
       "-1.276347283060086"
      ]
     },
     "metadata": {},
     "output_type": "display_data"
    },
    {
     "data": {
      "text/plain": [
       "-1.334468537763283"
      ]
     },
     "metadata": {},
     "output_type": "display_data"
    },
    {
     "data": {
      "text/plain": [
       "-1.3924601064658892"
      ]
     },
     "metadata": {},
     "output_type": "display_data"
    },
    {
     "data": {
      "text/plain": [
       "-1.4503201483525423"
      ]
     },
     "metadata": {},
     "output_type": "display_data"
    },
    {
     "data": {
      "text/plain": [
       "-1.5080468654714476"
      ]
     },
     "metadata": {},
     "output_type": "display_data"
    },
    {
     "data": {
      "text/plain": [
       "-1.5656385023691834"
      ]
     },
     "metadata": {},
     "output_type": "display_data"
    },
    {
     "data": {
      "text/plain": [
       "-1.6230933457256427"
      ]
     },
     "metadata": {},
     "output_type": "display_data"
    },
    {
     "data": {
      "text/plain": [
       "-1.6804097239889737"
      ]
     },
     "metadata": {},
     "output_type": "display_data"
    },
    {
     "data": {
      "text/plain": [
       "-1.7375860070105773"
      ]
     },
     "metadata": {},
     "output_type": "display_data"
    },
    {
     "data": {
      "text/plain": [
       "-1.7946206056801461"
      ]
     },
     "metadata": {},
     "output_type": "display_data"
    },
    {
     "data": {
      "text/plain": [
       "-1.851511971560706"
      ]
     },
     "metadata": {},
     "output_type": "display_data"
    },
    {
     "data": {
      "text/plain": [
       "-1.9082585965236696"
      ]
     },
     "metadata": {},
     "output_type": "display_data"
    },
    {
     "data": {
      "text/plain": [
       "-1.9648590123838625"
      ]
     },
     "metadata": {},
     "output_type": "display_data"
    },
    {
     "data": {
      "text/plain": [
       "-2.02131179053454"
      ]
     },
     "metadata": {},
     "output_type": "display_data"
    },
    {
     "data": {
      "text/plain": [
       "-2.07761554158232"
      ]
     },
     "metadata": {},
     "output_type": "display_data"
    },
    {
     "data": {
      "text/plain": [
       "-2.1337689149820704"
      ]
     },
     "metadata": {},
     "output_type": "display_data"
    },
    {
     "data": {
      "text/plain": [
       "-2.189770598671667"
      ]
     },
     "metadata": {},
     "output_type": "display_data"
    },
    {
     "data": {
      "text/plain": [
       "-2.2456193187066376"
      ]
     },
     "metadata": {},
     "output_type": "display_data"
    },
    {
     "data": {
      "text/plain": [
       "-2.3013138388946217"
      ]
     },
     "metadata": {},
     "output_type": "display_data"
    },
    {
     "data": {
      "text/plain": [
       "-2.356852960429678"
      ]
     },
     "metadata": {},
     "output_type": "display_data"
    },
    {
     "data": {
      "text/plain": [
       "-2.4122355215262985"
      ]
     },
     "metadata": {},
     "output_type": "display_data"
    },
    {
     "data": {
      "text/plain": [
       "-2.46746039705321"
      ]
     },
     "metadata": {},
     "output_type": "display_data"
    },
    {
     "data": {
      "text/plain": [
       "-2.522526498166811"
      ]
     },
     "metadata": {},
     "output_type": "display_data"
    },
    {
     "data": {
      "text/plain": [
       "-2.577432771944289"
      ]
     },
     "metadata": {},
     "output_type": "display_data"
    },
    {
     "data": {
      "text/plain": [
       "-2.6321782010163073"
      ]
     },
     "metadata": {},
     "output_type": "display_data"
    },
    {
     "data": {
      "text/plain": [
       "-2.68676180319921"
      ]
     },
     "metadata": {},
     "output_type": "display_data"
    },
    {
     "data": {
      "text/plain": [
       "-2.7411826311267538"
      ]
     },
     "metadata": {},
     "output_type": "display_data"
    },
    {
     "data": {
      "text/plain": [
       "-2.7954397718811945"
      ]
     },
     "metadata": {},
     "output_type": "display_data"
    },
    {
     "data": {
      "text/plain": [
       "-2.849532346623783"
      ]
     },
     "metadata": {},
     "output_type": "display_data"
    },
    {
     "data": {
      "text/plain": [
       "-2.9034595102244927"
      ]
     },
     "metadata": {},
     "output_type": "display_data"
    },
    {
     "data": {
      "text/plain": [
       "-2.9572204508909934"
      ]
     },
     "metadata": {},
     "output_type": "display_data"
    },
    {
     "data": {
      "text/plain": [
       "-3.0108143897967024"
      ]
     },
     "metadata": {},
     "output_type": "display_data"
    },
    {
     "data": {
      "text/plain": [
       "-3.064240580707902"
      ]
     },
     "metadata": {},
     "output_type": "display_data"
    },
    {
     "data": {
      "text/plain": [
       "-3.117498309609796"
      ]
     },
     "metadata": {},
     "output_type": "display_data"
    },
    {
     "data": {
      "text/plain": [
       "-3.1705868943313913"
      ]
     },
     "metadata": {},
     "output_type": "display_data"
    },
    {
     "data": {
      "text/plain": [
       "-3.2235056841691323"
      ]
     },
     "metadata": {},
     "output_type": "display_data"
    },
    {
     "data": {
      "text/plain": [
       "-3.276254059509151"
      ]
     },
     "metadata": {},
     "output_type": "display_data"
    },
    {
     "data": {
      "text/plain": [
       "-3.3288314314480196"
      ]
     },
     "metadata": {},
     "output_type": "display_data"
    },
    {
     "data": {
      "text/plain": [
       "-3.381237241411875"
      ]
     },
     "metadata": {},
     "output_type": "display_data"
    },
    {
     "data": {
      "text/plain": [
       "-3.433470960773777"
      ]
     },
     "metadata": {},
     "output_type": "display_data"
    },
    {
     "data": {
      "text/plain": [
       "-3.4855320904691514"
      ]
     },
     "metadata": {},
     "output_type": "display_data"
    },
    {
     "data": {
      "text/plain": [
       "-3.5374201606091553"
      ]
     },
     "metadata": {},
     "output_type": "display_data"
    },
    {
     "data": {
      "text/plain": [
       "-3.589134730091808"
      ]
     },
     "metadata": {},
     "output_type": "display_data"
    },
    {
     "data": {
      "text/plain": [
       "-3.6406753862107077"
      ]
     },
     "metadata": {},
     "output_type": "display_data"
    },
    {
     "data": {
      "text/plain": [
       "-3.692041744261087"
      ]
     },
     "metadata": {},
     "output_type": "display_data"
    },
    {
     "data": {
      "text/plain": [
       "-3.7432334471431297"
      ]
     },
     "metadata": {},
     "output_type": "display_data"
    },
    {
     "data": {
      "text/plain": [
       "-3.7942501649621576"
      ]
     },
     "metadata": {},
     "output_type": "display_data"
    },
    {
     "data": {
      "text/plain": [
       "-3.84509159462561"
      ]
     },
     "metadata": {},
     "output_type": "display_data"
    },
    {
     "data": {
      "text/plain": [
       "-3.8957574594364344"
      ]
     },
     "metadata": {},
     "output_type": "display_data"
    },
    {
     "data": {
      "text/plain": [
       "-3.946247508682739"
      ]
     },
     "metadata": {},
     "output_type": "display_data"
    },
    {
     "data": {
      "text/plain": [
       "-3.9965615172232836"
      ]
     },
     "metadata": {},
     "output_type": "display_data"
    },
    {
     "data": {
      "text/plain": [
       "-4.046699285068632"
      ]
     },
     "metadata": {},
     "output_type": "display_data"
    },
    {
     "data": {
      "text/plain": [
       "-4.09666063695755"
      ]
     },
     "metadata": {},
     "output_type": "display_data"
    },
    {
     "data": {
      "text/plain": [
       "-4.146445421928301"
      ]
     },
     "metadata": {},
     "output_type": "display_data"
    },
    {
     "data": {
      "text/plain": [
       "-4.196053512884494"
      ]
     },
     "metadata": {},
     "output_type": "display_data"
    },
    {
     "data": {
      "text/plain": [
       "-4.245484806155042"
      ]
     },
     "metadata": {},
     "output_type": "display_data"
    },
    {
     "data": {
      "text/plain": [
       "-4.294739221047803"
      ]
     },
     "metadata": {},
     "output_type": "display_data"
    },
    {
     "data": {
      "text/plain": [
       "-4.34381669939642"
      ]
     },
     "metadata": {},
     "output_type": "display_data"
    },
    {
     "data": {
      "text/plain": [
       "-4.39271720509989"
      ]
     },
     "metadata": {},
     "output_type": "display_data"
    },
    {
     "data": {
      "text/plain": [
       "-4.441440723654239"
      ]
     },
     "metadata": {},
     "output_type": "display_data"
    },
    {
     "data": {
      "text/plain": [
       "-4.489987261675818"
      ]
     },
     "metadata": {},
     "output_type": "display_data"
    },
    {
     "data": {
      "text/plain": [
       "-4.538356846415481"
      ]
     },
     "metadata": {},
     "output_type": "display_data"
    },
    {
     "data": {
      "text/plain": [
       "-4.586549525263069"
      ]
     },
     "metadata": {},
     "output_type": "display_data"
    },
    {
     "data": {
      "text/plain": [
       "-4.6345653652413565"
      ]
     },
     "metadata": {},
     "output_type": "display_data"
    },
    {
     "data": {
      "text/plain": [
       "-4.6824044524887665"
      ]
     },
     "metadata": {},
     "output_type": "display_data"
    },
    {
     "data": {
      "text/plain": [
       "-4.730066891729963"
      ]
     },
     "metadata": {},
     "output_type": "display_data"
    },
    {
     "data": {
      "text/plain": [
       "-4.77755280573334"
      ]
     },
     "metadata": {},
     "output_type": "display_data"
    },
    {
     "data": {
      "text/plain": [
       "-4.824862334754502"
      ]
     },
     "metadata": {},
     "output_type": "display_data"
    },
    {
     "data": {
      "text/plain": [
       "-4.871995635964626"
      ]
     },
     "metadata": {},
     "output_type": "display_data"
    },
    {
     "data": {
      "text/plain": [
       "-4.918952882862492"
      ]
     },
     "metadata": {},
     "output_type": "display_data"
    },
    {
     "data": {
      "text/plain": [
       "-4.96573426466899"
      ]
     },
     "metadata": {},
     "output_type": "display_data"
    },
    {
     "data": {
      "text/plain": [
       "-5.0123399857026545"
      ]
     },
     "metadata": {},
     "output_type": "display_data"
    },
    {
     "data": {
      "text/plain": [
       "-5.058770264734815"
      ]
     },
     "metadata": {},
     "output_type": "display_data"
    },
    {
     "data": {
      "text/plain": [
       "-5.105025334322711"
      ]
     },
     "metadata": {},
     "output_type": "display_data"
    },
    {
     "data": {
      "text/plain": [
       "-5.151105440118789"
      ]
     },
     "metadata": {},
     "output_type": "display_data"
    },
    {
     "data": {
      "text/plain": [
       "-5.197010840154368"
      ]
     },
     "metadata": {},
     "output_type": "display_data"
    },
    {
     "data": {
      "text/plain": [
       "-5.242741804095438"
      ]
     },
     "metadata": {},
     "output_type": "display_data"
    },
    {
     "data": {
      "text/plain": [
       "-5.288298612468543"
      ]
     },
     "metadata": {},
     "output_type": "display_data"
    },
    {
     "data": {
      "text/plain": [
       "-5.333681555854086"
      ]
     },
     "metadata": {},
     "output_type": "display_data"
    },
    {
     "data": {
      "text/plain": [
       "-5.378890934044485"
      ]
     },
     "metadata": {},
     "output_type": "display_data"
    },
    {
     "data": {
      "text/plain": [
       "-5.4239270551642065"
      ]
     },
     "metadata": {},
     "output_type": "display_data"
    },
    {
     "data": {
      "text/plain": [
       "-5.468790234748454"
      ]
     },
     "metadata": {},
     "output_type": "display_data"
    },
    {
     "data": {
      "text/plain": [
       "-5.5134807947770295"
      ]
     },
     "metadata": {},
     "output_type": "display_data"
    },
    {
     "data": {
      "text/plain": [
       "-5.557999062659469"
      ]
     },
     "metadata": {},
     "output_type": "display_data"
    },
    {
     "data": {
      "text/plain": [
       "-5.6023453701673365"
      ]
     },
     "metadata": {},
     "output_type": "display_data"
    },
    {
     "data": {
      "text/plain": [
       "-5.646520052308876"
      ]
     },
     "metadata": {},
     "output_type": "display_data"
    },
    {
     "data": {
      "text/plain": [
       "-5.6905234461410945"
      ]
     },
     "metadata": {},
     "output_type": "display_data"
    },
    {
     "data": {
      "text/plain": [
       "-5.734355889513596"
      ]
     },
     "metadata": {},
     "output_type": "display_data"
    },
    {
     "data": {
      "text/plain": [
       "-5.778017719738033"
      ]
     },
     "metadata": {},
     "output_type": "display_data"
    },
    {
     "data": {
      "text/plain": [
       "-5.821509272176355"
      ]
     },
     "metadata": {},
     "output_type": "display_data"
    },
    {
     "data": {
      "text/plain": [
       "-5.864830878740372"
      ]
     },
     "metadata": {},
     "output_type": "display_data"
    },
    {
     "data": {
      "text/plain": [
       "-5.907982866294378"
      ]
     },
     "metadata": {},
     "output_type": "display_data"
    },
    {
     "data": {
      "text/plain": [
       "-5.950965554951602"
      ]
     },
     "metadata": {},
     "output_type": "display_data"
    },
    {
     "data": {
      "text/plain": [
       "-5.993779256254433"
      ]
     },
     "metadata": {},
     "output_type": "display_data"
    },
    {
     "data": {
      "text/plain": [
       "-6.036424271227062"
      ]
     },
     "metadata": {},
     "output_type": "display_data"
    },
    {
     "data": {
      "text/plain": [
       "-6.078900888288127"
      ]
     },
     "metadata": {},
     "output_type": "display_data"
    },
    {
     "data": {
      "text/plain": [
       "-6.12120938100943"
      ]
     },
     "metadata": {},
     "output_type": "display_data"
    },
    {
     "data": {
      "text/plain": [
       "-6.163350005705257"
      ]
     },
     "metadata": {},
     "output_type": "display_data"
    },
    {
     "data": {
      "text/plain": [
       "-6.205322998835083"
      ]
     },
     "metadata": {},
     "output_type": "display_data"
    },
    {
     "data": {
      "text/plain": [
       "-6.247128574200392"
      ]
     },
     "metadata": {},
     "output_type": "display_data"
    },
    {
     "data": {
      "text/plain": [
       "-6.288766919914082"
      ]
     },
     "metadata": {},
     "output_type": "display_data"
    },
    {
     "data": {
      "text/plain": [
       "-6.330238195118399"
      ]
     },
     "metadata": {},
     "output_type": "display_data"
    },
    {
     "data": {
      "text/plain": [
       "-6.371542526424326"
      ]
     },
     "metadata": {},
     "output_type": "display_data"
    },
    {
     "data": {
      "text/plain": [
       "-6.412680004042182"
      ]
     },
     "metadata": {},
     "output_type": "display_data"
    },
    {
     "data": {
      "text/plain": [
       "-6.453650677569132"
      ]
     },
     "metadata": {},
     "output_type": "display_data"
    },
    {
     "data": {
      "text/plain": [
       "-6.494454551395389"
      ]
     },
     "metadata": {},
     "output_type": "display_data"
    },
    {
     "data": {
      "text/plain": [
       "-6.535091579685483"
      ]
     },
     "metadata": {},
     "output_type": "display_data"
    },
    {
     "data": {
      "text/plain": [
       "-6.575561660885752"
      ]
     },
     "metadata": {},
     "output_type": "display_data"
    },
    {
     "data": {
      "text/plain": [
       "-6.615864631702373"
      ]
     },
     "metadata": {},
     "output_type": "display_data"
    },
    {
     "data": {
      "text/plain": [
       "-6.656000260486982"
      ]
     },
     "metadata": {},
     "output_type": "display_data"
    },
    {
     "data": {
      "text/plain": [
       "-6.695968239958342"
      ]
     },
     "metadata": {},
     "output_type": "display_data"
    },
    {
     "data": {
      "text/plain": [
       "-6.735768179178439"
      ]
     },
     "metadata": {},
     "output_type": "display_data"
    },
    {
     "data": {
      "text/plain": [
       "-6.775399594690146"
      ]
     },
     "metadata": {},
     "output_type": "display_data"
    },
    {
     "data": {
      "text/plain": [
       "-6.814861900710038"
      ]
     },
     "metadata": {},
     "output_type": "display_data"
    },
    {
     "data": {
      "text/plain": [
       "-6.854154398254797"
      ]
     },
     "metadata": {},
     "output_type": "display_data"
    },
    {
     "data": {
      "text/plain": [
       "-6.893276263061482"
      ]
     },
     "metadata": {},
     "output_type": "display_data"
    },
    {
     "data": {
      "text/plain": [
       "-6.932226532140971"
      ]
     },
     "metadata": {},
     "output_type": "display_data"
    },
    {
     "data": {
      "text/plain": [
       "-6.9710040887797176"
      ]
     },
     "metadata": {},
     "output_type": "display_data"
    },
    {
     "data": {
      "text/plain": [
       "-7.009607645775753"
      ]
     },
     "metadata": {},
     "output_type": "display_data"
    },
    {
     "data": {
      "text/plain": [
       "-7.048035726661843"
      ]
     },
     "metadata": {},
     "output_type": "display_data"
    },
    {
     "data": {
      "text/plain": [
       "-7.086286644628473"
      ]
     },
     "metadata": {},
     "output_type": "display_data"
    },
    {
     "data": {
      "text/plain": [
       "-7.1243584788130665"
      ]
     },
     "metadata": {},
     "output_type": "display_data"
    },
    {
     "data": {
      "text/plain": [
       "-7.162249047566328"
      ]
     },
     "metadata": {},
     "output_type": "display_data"
    },
    {
     "data": {
      "text/plain": [
       "-7.199955878241179"
      ]
     },
     "metadata": {},
     "output_type": "display_data"
    },
    {
     "data": {
      "text/plain": [
       "-7.237476172972026"
      ]
     },
     "metadata": {},
     "output_type": "display_data"
    },
    {
     "data": {
      "text/plain": [
       "-7.274806769819326"
      ]
     },
     "metadata": {},
     "output_type": "display_data"
    },
    {
     "data": {
      "text/plain": [
       "-7.3119440985439095"
      ]
     },
     "metadata": {},
     "output_type": "display_data"
    },
    {
     "data": {
      "text/plain": [
       "-7.348884130143243"
      ]
     },
     "metadata": {},
     "output_type": "display_data"
    },
    {
     "data": {
      "text/plain": [
       "-7.385622319123097"
      ]
     },
     "metadata": {},
     "output_type": "display_data"
    },
    {
     "data": {
      "text/plain": [
       "-7.4221535372875636"
      ]
     },
     "metadata": {},
     "output_type": "display_data"
    },
    {
     "data": {
      "text/plain": [
       "-7.458471997600681"
      ]
     },
     "metadata": {},
     "output_type": "display_data"
    },
    {
     "data": {
      "text/plain": [
       "-7.494571166396331"
      ]
     },
     "metadata": {},
     "output_type": "display_data"
    },
    {
     "data": {
      "text/plain": [
       "-7.530443661878237"
      ]
     },
     "metadata": {},
     "output_type": "display_data"
    },
    {
     "data": {
      "text/plain": [
       "-7.566081136447267"
      ]
     },
     "metadata": {},
     "output_type": "display_data"
    },
    {
     "data": {
      "text/plain": [
       "-7.601474139903267"
      ]
     },
     "metadata": {},
     "output_type": "display_data"
    },
    {
     "data": {
      "text/plain": [
       "-7.636611959974635"
      ]
     },
     "metadata": {},
     "output_type": "display_data"
    },
    {
     "data": {
      "text/plain": [
       "-7.671482435910029"
      ]
     },
     "metadata": {},
     "output_type": "display_data"
    },
    {
     "data": {
      "text/plain": [
       "-7.706071739996737"
      ]
     },
     "metadata": {},
     "output_type": "display_data"
    },
    {
     "data": {
      "text/plain": [
       "-7.7403641208211935"
      ]
     },
     "metadata": {},
     "output_type": "display_data"
    },
    {
     "data": {
      "text/plain": [
       "-7.774341600826108"
      ]
     },
     "metadata": {},
     "output_type": "display_data"
    },
    {
     "data": {
      "text/plain": [
       "-7.807983619214555"
      ]
     },
     "metadata": {},
     "output_type": "display_data"
    },
    {
     "data": {
      "text/plain": [
       "-7.841266609473014"
      ]
     },
     "metadata": {},
     "output_type": "display_data"
    },
    {
     "data": {
      "text/plain": [
       "-7.874163498715918"
      ]
     },
     "metadata": {},
     "output_type": "display_data"
    },
    {
     "data": {
      "text/plain": [
       "-7.90664311369931"
      ]
     },
     "metadata": {},
     "output_type": "display_data"
    },
    {
     "data": {
      "text/plain": [
       "-7.93866947576721"
      ]
     },
     "metadata": {},
     "output_type": "display_data"
    },
    {
     "data": {
      "text/plain": [
       "-7.970200964325028"
      ]
     },
     "metadata": {},
     "output_type": "display_data"
    },
    {
     "data": {
      "text/plain": [
       "-8.001189325981525"
      ]
     },
     "metadata": {},
     "output_type": "display_data"
    },
    {
     "data": {
      "text/plain": [
       "-8.031578504822743"
      ]
     },
     "metadata": {},
     "output_type": "display_data"
    },
    {
     "data": {
      "text/plain": [
       "-8.061303269361442"
      ]
     },
     "metadata": {},
     "output_type": "display_data"
    },
    {
     "data": {
      "text/plain": [
       "-8.090287615188007"
      ]
     },
     "metadata": {},
     "output_type": "display_data"
    },
    {
     "data": {
      "text/plain": [
       "-8.118442931879828"
      ]
     },
     "metadata": {},
     "output_type": "display_data"
    },
    {
     "data": {
      "text/plain": [
       "-8.145665942385477"
      ]
     },
     "metadata": {},
     "output_type": "display_data"
    },
    {
     "data": {
      "text/plain": [
       "-8.171836458861653"
      ]
     },
     "metadata": {},
     "output_type": "display_data"
    },
    {
     "data": {
      "text/plain": [
       "-8.196815058941151"
      ]
     },
     "metadata": {},
     "output_type": "display_data"
    },
    {
     "data": {
      "text/plain": [
       "-8.220440880502114"
      ]
     },
     "metadata": {},
     "output_type": "display_data"
    },
    {
     "data": {
      "text/plain": [
       "-8.242529870552222"
      ]
     },
     "metadata": {},
     "output_type": "display_data"
    },
    {
     "data": {
      "text/plain": [
       "-8.26287400801672"
      ]
     },
     "metadata": {},
     "output_type": "display_data"
    },
    {
     "data": {
      "text/plain": [
       "-8.281242236729222"
      ]
     },
     "metadata": {},
     "output_type": "display_data"
    },
    {
     "data": {
      "text/plain": [
       "-8.29738404423962"
      ]
     },
     "metadata": {},
     "output_type": "display_data"
    },
    {
     "data": {
      "text/plain": [
       "-8.31103669977008"
      ]
     },
     "metadata": {},
     "output_type": "display_data"
    },
    {
     "data": {
      "text/plain": [
       "-8.321936956792193"
      ]
     },
     "metadata": {},
     "output_type": "display_data"
    },
    {
     "data": {
      "text/plain": [
       "-8.329837351365487"
      ]
     },
     "metadata": {},
     "output_type": "display_data"
    },
    {
     "data": {
      "text/plain": [
       "-8.334526010695587"
      ]
     },
     "metadata": {},
     "output_type": "display_data"
    },
    {
     "data": {
      "text/plain": [
       "-8.335847337108751"
      ]
     },
     "metadata": {},
     "output_type": "display_data"
    },
    {
     "data": {
      "text/plain": [
       "-8.333719650443582"
      ]
     },
     "metadata": {},
     "output_type": "display_data"
    },
    {
     "data": {
      "text/plain": [
       "-8.328145663187346"
      ]
     },
     "metadata": {},
     "output_type": "display_data"
    },
    {
     "data": {
      "text/plain": [
       "-8.319213017768039"
      ]
     },
     "metadata": {},
     "output_type": "display_data"
    },
    {
     "data": {
      "text/plain": [
       "-8.307084693678613"
      ]
     },
     "metadata": {},
     "output_type": "display_data"
    },
    {
     "data": {
      "text/plain": [
       "-8.291981768097328"
      ]
     },
     "metadata": {},
     "output_type": "display_data"
    },
    {
     "data": {
      "text/plain": [
       "-8.274162592453235"
      ]
     },
     "metadata": {},
     "output_type": "display_data"
    },
    {
     "data": {
      "text/plain": [
       "-8.253902444772827"
      ]
     },
     "metadata": {},
     "output_type": "display_data"
    },
    {
     "data": {
      "text/plain": [
       "-8.231476525345075"
      ]
     },
     "metadata": {},
     "output_type": "display_data"
    },
    {
     "data": {
      "text/plain": [
       "-8.207147586513246"
      ]
     },
     "metadata": {},
     "output_type": "display_data"
    },
    {
     "data": {
      "text/plain": [
       "-8.181158185027122"
      ]
     },
     "metadata": {},
     "output_type": "display_data"
    },
    {
     "data": {
      "text/plain": [
       "-8.153726786151978"
      ]
     },
     "metadata": {},
     "output_type": "display_data"
    },
    {
     "data": {
      "text/plain": [
       "-8.125046685706314"
      ]
     },
     "metadata": {},
     "output_type": "display_data"
    },
    {
     "data": {
      "text/plain": [
       "-8.09528677045596"
      ]
     },
     "metadata": {},
     "output_type": "display_data"
    },
    {
     "data": {
      "text/plain": [
       "-8.064593334612686"
      ]
     },
     "metadata": {},
     "output_type": "display_data"
    },
    {
     "data": {
      "text/plain": [
       "-8.033092394987326"
      ]
     },
     "metadata": {},
     "output_type": "display_data"
    },
    {
     "data": {
      "text/plain": [
       "-8.000892142487325"
      ]
     },
     "metadata": {},
     "output_type": "display_data"
    },
    {
     "data": {
      "text/plain": [
       "-7.968085315014254"
      ]
     },
     "metadata": {},
     "output_type": "display_data"
    },
    {
     "data": {
      "text/plain": [
       "-7.934751378310676"
      ]
     },
     "metadata": {},
     "output_type": "display_data"
    },
    {
     "data": {
      "text/plain": [
       "-7.900958466305071"
      ]
     },
     "metadata": {},
     "output_type": "display_data"
    },
    {
     "data": {
      "text/plain": [
       "-7.866765071355868"
      ]
     },
     "metadata": {},
     "output_type": "display_data"
    },
    {
     "data": {
      "text/plain": [
       "-7.832221496202648"
      ]
     },
     "metadata": {},
     "output_type": "display_data"
    },
    {
     "data": {
      "text/plain": [
       "-7.7973710898398725"
      ]
     },
     "metadata": {},
     "output_type": "display_data"
    },
    {
     "data": {
      "text/plain": [
       "-7.762251293358814"
      ]
     },
     "metadata": {},
     "output_type": "display_data"
    },
    {
     "data": {
      "text/plain": [
       "-7.726894521932608"
      ]
     },
     "metadata": {},
     "output_type": "display_data"
    },
    {
     "data": {
      "text/plain": [
       "-7.691328907336831"
      ]
     },
     "metadata": {},
     "output_type": "display_data"
    },
    {
     "data": {
      "text/plain": [
       "-7.655578922771527"
      ]
     },
     "metadata": {},
     "output_type": "display_data"
    },
    {
     "data": {
      "text/plain": [
       "-7.619665908890009"
      ]
     },
     "metadata": {},
     "output_type": "display_data"
    },
    {
     "data": {
      "text/plain": [
       "-7.583608517169331"
      ]
     },
     "metadata": {},
     "output_type": "display_data"
    },
    {
     "data": {
      "text/plain": [
       "-7.547423084235012"
      ]
     },
     "metadata": {},
     "output_type": "display_data"
    },
    {
     "data": {
      "text/plain": [
       "-7.5111239485378265"
      ]
     },
     "metadata": {},
     "output_type": "display_data"
    },
    {
     "data": {
      "text/plain": [
       "-7.474723718879893"
      ]
     },
     "metadata": {},
     "output_type": "display_data"
    },
    {
     "data": {
      "text/plain": [
       "-7.438233502681046"
      ]
     },
     "metadata": {},
     "output_type": "display_data"
    },
    {
     "data": {
      "text/plain": [
       "-7.401663100532284"
      ]
     },
     "metadata": {},
     "output_type": "display_data"
    },
    {
     "data": {
      "text/plain": [
       "-7.365021172465885"
      ]
     },
     "metadata": {},
     "output_type": "display_data"
    },
    {
     "data": {
      "text/plain": [
       "-7.328315380446739"
      ]
     },
     "metadata": {},
     "output_type": "display_data"
    },
    {
     "data": {
      "text/plain": [
       "-7.29155251082579"
      ]
     },
     "metadata": {},
     "output_type": "display_data"
    },
    {
     "data": {
      "text/plain": [
       "-7.254738579866682"
      ]
     },
     "metadata": {},
     "output_type": "display_data"
    },
    {
     "data": {
      "text/plain": [
       "-7.2178789249374"
      ]
     },
     "metadata": {},
     "output_type": "display_data"
    },
    {
     "data": {
      "text/plain": [
       "-7.1809782835303615"
      ]
     },
     "metadata": {},
     "output_type": "display_data"
    },
    {
     "data": {
      "text/plain": [
       "-7.144040861920937"
      ]
     },
     "metadata": {},
     "output_type": "display_data"
    },
    {
     "data": {
      "text/plain": [
       "-7.107070394981973"
      ]
     },
     "metadata": {},
     "output_type": "display_data"
    },
    {
     "data": {
      "text/plain": [
       "-7.070070198429878"
      ]
     },
     "metadata": {},
     "output_type": "display_data"
    },
    {
     "data": {
      "text/plain": [
       "-7.033043214577064"
      ]
     },
     "metadata": {},
     "output_type": "display_data"
    },
    {
     "data": {
      "text/plain": [
       "-6.9959920524985115"
      ]
     },
     "metadata": {},
     "output_type": "display_data"
    },
    {
     "data": {
      "text/plain": [
       "-6.958919023381253"
      ]
     },
     "metadata": {},
     "output_type": "display_data"
    },
    {
     "data": {
      "text/plain": [
       "-6.921826171709326"
      ]
     },
     "metadata": {},
     "output_type": "display_data"
    },
    {
     "data": {
      "text/plain": [
       "-6.884715302839664"
      ]
     },
     "metadata": {},
     "output_type": "display_data"
    },
    {
     "data": {
      "text/plain": [
       "-6.847588007442631"
      ]
     },
     "metadata": {},
     "output_type": "display_data"
    },
    {
     "data": {
      "text/plain": [
       "-6.810445683212607"
      ]
     },
     "metadata": {},
     "output_type": "display_data"
    },
    {
     "data": {
      "text/plain": [
       "-6.773289554195891"
      ]
     },
     "metadata": {},
     "output_type": "display_data"
    },
    {
     "data": {
      "text/plain": [
       "-6.736120688034621"
      ]
     },
     "metadata": {},
     "output_type": "display_data"
    },
    {
     "data": {
      "text/plain": [
       "-6.698940011383774"
      ]
     },
     "metadata": {},
     "output_type": "display_data"
    },
    {
     "data": {
      "text/plain": [
       "-6.661748323723303"
      ]
     },
     "metadata": {},
     "output_type": "display_data"
    },
    {
     "data": {
      "text/plain": [
       "-6.624546309757522"
      ]
     },
     "metadata": {},
     "output_type": "display_data"
    },
    {
     "data": {
      "text/plain": [
       "-6.587334550568377"
      ]
     },
     "metadata": {},
     "output_type": "display_data"
    },
    {
     "data": {
      "text/plain": [
       "-6.550113533667336"
      ]
     },
     "metadata": {},
     "output_type": "display_data"
    },
    {
     "data": {
      "text/plain": [
       "-6.5128836620719515"
      ]
     },
     "metadata": {},
     "output_type": "display_data"
    },
    {
     "data": {
      "text/plain": [
       "-6.475645262517256"
      ]
     },
     "metadata": {},
     "output_type": "display_data"
    },
    {
     "data": {
      "text/plain": [
       "-6.4383985928981105"
      ]
     },
     "metadata": {},
     "output_type": "display_data"
    },
    {
     "data": {
      "text/plain": [
       "-6.401143849026795"
      ]
     },
     "metadata": {},
     "output_type": "display_data"
    },
    {
     "data": {
      "text/plain": [
       "-6.363881170779994"
      ]
     },
     "metadata": {},
     "output_type": "display_data"
    },
    {
     "data": {
      "text/plain": [
       "-6.326610647700066"
      ]
     },
     "metadata": {},
     "output_type": "display_data"
    },
    {
     "data": {
      "text/plain": [
       "-6.28933232410809"
      ]
     },
     "metadata": {},
     "output_type": "display_data"
    },
    {
     "data": {
      "text/plain": [
       "-6.25204620377931"
      ]
     },
     "metadata": {},
     "output_type": "display_data"
    },
    {
     "data": {
      "text/plain": [
       "-6.214752254225624"
      ]
     },
     "metadata": {},
     "output_type": "display_data"
    },
    {
     "data": {
      "text/plain": [
       "-6.177450410624923"
      ]
     },
     "metadata": {},
     "output_type": "display_data"
    },
    {
     "data": {
      "text/plain": [
       "-6.140140579432304"
      ]
     },
     "metadata": {},
     "output_type": "display_data"
    },
    {
     "data": {
      "text/plain": [
       "-6.102822641704558"
      ]
     },
     "metadata": {},
     "output_type": "display_data"
    },
    {
     "data": {
      "text/plain": [
       "-6.065496456165617"
      ]
     },
     "metadata": {},
     "output_type": "display_data"
    },
    {
     "data": {
      "text/plain": [
       "-6.028161862037931"
      ]
     },
     "metadata": {},
     "output_type": "display_data"
    },
    {
     "data": {
      "text/plain": [
       "-5.990818681661714"
      ]
     },
     "metadata": {},
     "output_type": "display_data"
    },
    {
     "data": {
      "text/plain": [
       "-5.953466722922034"
      ]
     },
     "metadata": {},
     "output_type": "display_data"
    },
    {
     "data": {
      "text/plain": [
       "-5.916105781501398"
      ]
     },
     "metadata": {},
     "output_type": "display_data"
    },
    {
     "data": {
      "text/plain": [
       "-5.87873564297375"
      ]
     },
     "metadata": {},
     "output_type": "display_data"
    },
    {
     "data": {
      "text/plain": [
       "-5.841356084754084"
      ]
     },
     "metadata": {},
     "output_type": "display_data"
    },
    {
     "data": {
      "text/plain": [
       "-5.803966877916684"
      ]
     },
     "metadata": {},
     "output_type": "display_data"
    },
    {
     "data": {
      "text/plain": [
       "-5.766567788893292"
      ]
     },
     "metadata": {},
     "output_type": "display_data"
    },
    {
     "data": {
      "text/plain": [
       "-5.729158581061881"
      ]
     },
     "metadata": {},
     "output_type": "display_data"
    },
    {
     "data": {
      "text/plain": [
       "-5.6917390162352195"
      ]
     },
     "metadata": {},
     "output_type": "display_data"
    },
    {
     "data": {
      "text/plain": [
       "-5.65430885605789"
      ]
     },
     "metadata": {},
     "output_type": "display_data"
    },
    {
     "data": {
      "text/plain": [
       "-5.616867863319306"
      ]
     },
     "metadata": {},
     "output_type": "display_data"
    },
    {
     "data": {
      "text/plain": [
       "-5.579415803189821"
      ]
     },
     "metadata": {},
     "output_type": "display_data"
    },
    {
     "data": {
      "text/plain": [
       "-5.541952444386126"
      ]
     },
     "metadata": {},
     "output_type": "display_data"
    },
    {
     "data": {
      "text/plain": [
       "-5.504477560271782"
      ]
     },
     "metadata": {},
     "output_type": "display_data"
    },
    {
     "data": {
      "text/plain": [
       "-5.466990929898025"
      ]
     },
     "metadata": {},
     "output_type": "display_data"
    },
    {
     "data": {
      "text/plain": [
       "-5.429492338989586"
      ]
     },
     "metadata": {},
     "output_type": "display_data"
    },
    {
     "data": {
      "text/plain": [
       "-5.391981580879884"
      ]
     },
     "metadata": {},
     "output_type": "display_data"
    },
    {
     "data": {
      "text/plain": [
       "-5.354458457399541"
      ]
     },
     "metadata": {},
     "output_type": "display_data"
    },
    {
     "data": {
      "text/plain": [
       "-5.316922779721693"
      ]
     },
     "metadata": {},
     "output_type": "display_data"
    },
    {
     "data": {
      "text/plain": [
       "-5.2793743691676145"
      ]
     },
     "metadata": {},
     "output_type": "display_data"
    },
    {
     "data": {
      "text/plain": [
       "-5.241813057975373"
      ]
     },
     "metadata": {},
     "output_type": "display_data"
    },
    {
     "data": {
      "text/plain": [
       "-5.204238690034533"
      ]
     },
     "metadata": {},
     "output_type": "display_data"
    },
    {
     "data": {
      "text/plain": [
       "-5.166651121589188"
      ]
     },
     "metadata": {},
     "output_type": "display_data"
    },
    {
     "data": {
      "text/plain": [
       "-5.129050221911916"
      ]
     },
     "metadata": {},
     "output_type": "display_data"
    },
    {
     "data": {
      "text/plain": [
       "-5.091435873950379"
      ]
     },
     "metadata": {},
     "output_type": "display_data"
    },
    {
     "data": {
      "text/plain": [
       "-5.0538079749489855"
      ]
     },
     "metadata": {},
     "output_type": "display_data"
    },
    {
     "data": {
      "text/plain": [
       "-5.016166437047008"
      ]
     },
     "metadata": {},
     "output_type": "display_data"
    },
    {
     "data": {
      "text/plain": [
       "-4.978511187855013"
      ]
     },
     "metadata": {},
     "output_type": "display_data"
    },
    {
     "data": {
      "text/plain": [
       "-4.940842171011094"
      ]
     },
     "metadata": {},
     "output_type": "display_data"
    },
    {
     "data": {
      "text/plain": [
       "-4.903159346718318"
      ]
     },
     "metadata": {},
     "output_type": "display_data"
    },
    {
     "data": {
      "text/plain": [
       "-4.86546269226469"
      ]
     },
     "metadata": {},
     "output_type": "display_data"
    },
    {
     "data": {
      "text/plain": [
       "-4.827752202603817"
      ]
     },
     "metadata": {},
     "output_type": "display_data"
    }
   ],
   "source": [
    "# Check conic violation\n",
    "convio = 0.0\n",
    "for k = 1:N-1\n",
    "    Uc = cone_u(params, U[k])\n",
    "    huc = norm(Uc[1:2]) - Uc[3]\n",
    "    convio = norm(huc + abs.(huc),Inf)\n",
    "    display(huc) # should <= 0\n",
    "end\n",
    "Xref .= Xn;\n",
    "Uref .= Un;"
   ]
  },
  {
   "cell_type": "code",
   "execution_count": 767,
   "id": "5c8d15e2-a563-4077-96df-8f829ba24d00",
   "metadata": {},
   "outputs": [],
   "source": [
    "### MPC style ###\n",
    "Nsim = 301\n",
    "Nh = 21\n",
    "t_vec = dt*(0:Nsim-1)\n",
    "\n",
    "x0 = [4, 2, 20, -3, 2, -5.0]  # initial plan\n",
    "# x0 = [5, 2, 21, -3, 2, -5.0]  # change this!\n",
    "# x0 = [4.4, 2.2, 20.2, -3.03, 2.02, -5.05]\n",
    "\n",
    "xg = [0,0,0,0,0,0.0]\n",
    "Q = 10e-1*Diagonal([1,1,1,1.0,1,1])  # make this higher!\n",
    "R = 1e-1*Diagonal([1,1,1])\n",
    "Qf = 100*Q  # change this!\n",
    "θ_thrust_max = 7.0  # increase max thrust from plan!\n",
    "\n",
    "# state is x y v θ\n",
    "x_min = [-5,-5,0,-10,-10,-10.0]\n",
    "x_max = [5,5,20,10,10,10.0]\n",
    "\n",
    "ncx = 2*nx*0\n",
    "ncu = 2*nu*0\n",
    "ncg = 0\n",
    "ncu_cone = nu*1; \n",
    "cone_scale = 1\n",
    "\n",
    "params = (\n",
    "    nx = nx,\n",
    "    nu = nu,\n",
    "    ncx = ncx,\n",
    "    ncu = ncu,\n",
    "    ncg = ncg,\n",
    "    ncu_cone = ncu_cone,\n",
    "    A_cone = A_cone,\n",
    "    c_cone = c_cone,\n",
    "    N = Nh,\n",
    "    Q = Q,\n",
    "    R = R,\n",
    "    Qf = Qf,\n",
    "    u_min = u_min,\n",
    "    u_max = u_max,\n",
    "    x_min = x_min,\n",
    "    x_max = x_max,\n",
    "    Xref = Xref,\n",
    "    Uref = Uref,\n",
    "    dt = dt,\n",
    "    mc = 1.0,\n",
    "    mp = 0.2,\n",
    "    l = 0.5,\n",
    "    g = 9.81,\n",
    ");\n",
    "\n",
    "Xhist = [deepcopy(x0) for i = 1:Nsim]\n",
    "Uhist = [-mass * gravity for k = 1:Nsim-1]\n",
    "# previous iterate\n",
    "X = [deepcopy(x0) for i = 1:Nh]\n",
    "U = [-mass * gravity for k = 1:Nh-1]\n",
    "\n",
    "# new iterate\n",
    "Xn = deepcopy(X)\n",
    "Un = deepcopy(U)\n",
    "\n",
    "P = [zeros(nx,nx) for i = 1:Nh]   # cost to go quadratic term\n",
    "p = [zeros(nx) for i = 1:Nh]      # cost to go linear term\n",
    "d = [zeros(nu) for i = 1:Nh-1]    # feedforward control\n",
    "K = [zeros(nu,nx) for i = 1:Nh-1] # feedback gain\n",
    "\n",
    "for i = 1:Nsim-Nh-1\n",
    "    params1 = (; params..., Uref = Uref[i:Nh+i], Xref = Xref[i:Nh+i-1])  # update ref\n",
    "    \n",
    "    # noise_pos = randn(3)\n",
    "    # noise_vel = randn(3)\n",
    "    # pos_norm = norm(Xhist[i][1:3], Inf) / 100 # 1% noise\n",
    "    # vel_norm = norm(x0[4:6], Inf) / 1e6 # 1ppm noise\n",
    "    # Xhist[i] += [noise_pos * pos_norm; noise_vel * vel_norm]\n",
    "    X[1] .= Xhist[i]  # update initial\n",
    "    X_ = mpc(params1,X,U,P,p,K,d,Xn,Un;atol=1e-1,max_iters = 15,verbose = false,ρ = 1e0, ϕ = 10.0);\n",
    "    Uhist[i] = Un[1]\n",
    "    Xhist[i+1] = discrete_dynamics(params1,Xhist[i],Uhist[i],i)  # dynamics\n",
    "end"
   ]
  },
  {
   "cell_type": "code",
   "execution_count": 768,
   "id": "d651f59e-e700-4bc9-927c-98835f2679f4",
   "metadata": {},
   "outputs": [
    {
     "data": {
      "text/plain": [
       "10.939270972512656"
      ]
     },
     "metadata": {},
     "output_type": "display_data"
    },
    {
     "data": {
      "text/plain": [
       "12.337506547719777"
      ]
     },
     "metadata": {},
     "output_type": "display_data"
    },
    {
     "data": {
      "text/plain": [
       "13.119179957628976"
      ]
     },
     "metadata": {},
     "output_type": "display_data"
    },
    {
     "data": {
      "text/plain": [
       "13.991532866790608"
      ]
     },
     "metadata": {},
     "output_type": "display_data"
    },
    {
     "data": {
      "text/plain": [
       "14.964939512419106"
      ]
     },
     "metadata": {},
     "output_type": "display_data"
    },
    {
     "data": {
      "text/plain": [
       "15.563269958474097"
      ]
     },
     "metadata": {},
     "output_type": "display_data"
    },
    {
     "data": {
      "text/plain": [
       "16.430735039115902"
      ]
     },
     "metadata": {},
     "output_type": "display_data"
    },
    {
     "data": {
      "text/plain": [
       "17.33068699498218"
      ]
     },
     "metadata": {},
     "output_type": "display_data"
    },
    {
     "data": {
      "text/plain": [
       "18.48595572916708"
      ]
     },
     "metadata": {},
     "output_type": "display_data"
    },
    {
     "data": {
      "text/plain": [
       "19.426451402736248"
      ]
     },
     "metadata": {},
     "output_type": "display_data"
    },
    {
     "data": {
      "text/plain": [
       "20.6479315821163"
      ]
     },
     "metadata": {},
     "output_type": "display_data"
    },
    {
     "data": {
      "text/plain": [
       "20.155383252600778"
      ]
     },
     "metadata": {},
     "output_type": "display_data"
    },
    {
     "data": {
      "text/plain": [
       "22.459514760977196"
      ]
     },
     "metadata": {},
     "output_type": "display_data"
    },
    {
     "data": {
      "text/plain": [
       "23.743438742181304"
      ]
     },
     "metadata": {},
     "output_type": "display_data"
    },
    {
     "data": {
      "text/plain": [
       "25.175434061066014"
      ]
     },
     "metadata": {},
     "output_type": "display_data"
    },
    {
     "data": {
      "text/plain": [
       "26.506145122002238"
      ]
     },
     "metadata": {},
     "output_type": "display_data"
    },
    {
     "data": {
      "text/plain": [
       "27.70779691518956"
      ]
     },
     "metadata": {},
     "output_type": "display_data"
    },
    {
     "data": {
      "text/plain": [
       "26.98088052897525"
      ]
     },
     "metadata": {},
     "output_type": "display_data"
    },
    {
     "data": {
      "text/plain": [
       "30.711621587016936"
      ]
     },
     "metadata": {},
     "output_type": "display_data"
    },
    {
     "data": {
      "text/plain": [
       "32.23416202992078"
      ]
     },
     "metadata": {},
     "output_type": "display_data"
    },
    {
     "data": {
      "text/plain": [
       "33.71029990150336"
      ]
     },
     "metadata": {},
     "output_type": "display_data"
    },
    {
     "data": {
      "text/plain": [
       "35.398276620090655"
      ]
     },
     "metadata": {},
     "output_type": "display_data"
    },
    {
     "data": {
      "text/plain": [
       "37.088891063606766"
      ]
     },
     "metadata": {},
     "output_type": "display_data"
    },
    {
     "data": {
      "text/plain": [
       "38.97168813185681"
      ]
     },
     "metadata": {},
     "output_type": "display_data"
    },
    {
     "data": {
      "text/plain": [
       "37.62563273547503"
      ]
     },
     "metadata": {},
     "output_type": "display_data"
    },
    {
     "data": {
      "text/plain": [
       "42.310578462527666"
      ]
     },
     "metadata": {},
     "output_type": "display_data"
    },
    {
     "data": {
      "text/plain": [
       "44.34614682848303"
      ]
     },
     "metadata": {},
     "output_type": "display_data"
    },
    {
     "data": {
      "text/plain": [
       "46.50924164758333"
      ]
     },
     "metadata": {},
     "output_type": "display_data"
    },
    {
     "data": {
      "text/plain": [
       "44.959018940137376"
      ]
     },
     "metadata": {},
     "output_type": "display_data"
    },
    {
     "data": {
      "text/plain": [
       "51.13410386044885"
      ]
     },
     "metadata": {},
     "output_type": "display_data"
    },
    {
     "data": {
      "text/plain": [
       "53.270183772530245"
      ]
     },
     "metadata": {},
     "output_type": "display_data"
    },
    {
     "data": {
      "text/plain": [
       "55.64062086190539"
      ]
     },
     "metadata": {},
     "output_type": "display_data"
    },
    {
     "data": {
      "text/plain": [
       "58.32572211254346"
      ]
     },
     "metadata": {},
     "output_type": "display_data"
    },
    {
     "data": {
      "text/plain": [
       "56.05460913631518"
      ]
     },
     "metadata": {},
     "output_type": "display_data"
    },
    {
     "data": {
      "text/plain": [
       "63.51681142189333"
      ]
     },
     "metadata": {},
     "output_type": "display_data"
    },
    {
     "data": {
      "text/plain": [
       "66.63383698638869"
      ]
     },
     "metadata": {},
     "output_type": "display_data"
    },
    {
     "data": {
      "text/plain": [
       "68.92659009012402"
      ]
     },
     "metadata": {},
     "output_type": "display_data"
    },
    {
     "data": {
      "text/plain": [
       "71.91711636475479"
      ]
     },
     "metadata": {},
     "output_type": "display_data"
    },
    {
     "data": {
      "text/plain": [
       "74.84002931790268"
      ]
     },
     "metadata": {},
     "output_type": "display_data"
    },
    {
     "data": {
      "text/plain": [
       "78.36234697463041"
      ]
     },
     "metadata": {},
     "output_type": "display_data"
    },
    {
     "data": {
      "text/plain": [
       "76.06151806187695"
      ]
     },
     "metadata": {},
     "output_type": "display_data"
    },
    {
     "data": {
      "text/plain": [
       "85.41786621417818"
      ]
     },
     "metadata": {},
     "output_type": "display_data"
    },
    {
     "data": {
      "text/plain": [
       "89.17420790248258"
      ]
     },
     "metadata": {},
     "output_type": "display_data"
    },
    {
     "data": {
      "text/plain": [
       "85.90035168298407"
      ]
     },
     "metadata": {},
     "output_type": "display_data"
    },
    {
     "data": {
      "text/plain": [
       "88.0381033807731"
      ]
     },
     "metadata": {},
     "output_type": "display_data"
    },
    {
     "data": {
      "text/plain": [
       "100.99395672527442"
      ]
     },
     "metadata": {},
     "output_type": "display_data"
    },
    {
     "data": {
      "text/plain": [
       "104.94964321254835"
      ]
     },
     "metadata": {},
     "output_type": "display_data"
    },
    {
     "data": {
      "text/plain": [
       "100.76554263106901"
      ]
     },
     "metadata": {},
     "output_type": "display_data"
    },
    {
     "data": {
      "text/plain": [
       "113.763919627066"
      ]
     },
     "metadata": {},
     "output_type": "display_data"
    },
    {
     "data": {
      "text/plain": [
       "118.61859416156365"
      ]
     },
     "metadata": {},
     "output_type": "display_data"
    },
    {
     "data": {
      "text/plain": [
       "112.17683885269311"
      ]
     },
     "metadata": {},
     "output_type": "display_data"
    },
    {
     "data": {
      "text/plain": [
       "128.0733020844505"
      ]
     },
     "metadata": {},
     "output_type": "display_data"
    },
    {
     "data": {
      "text/plain": [
       "122.27863526595837"
      ]
     },
     "metadata": {},
     "output_type": "display_data"
    },
    {
     "data": {
      "text/plain": [
       "139.4063595215824"
      ]
     },
     "metadata": {},
     "output_type": "display_data"
    },
    {
     "data": {
      "text/plain": [
       "144.8646832435885"
      ]
     },
     "metadata": {},
     "output_type": "display_data"
    },
    {
     "data": {
      "text/plain": [
       "137.45224593653845"
      ]
     },
     "metadata": {},
     "output_type": "display_data"
    },
    {
     "data": {
      "text/plain": [
       "156.85700604931432"
      ]
     },
     "metadata": {},
     "output_type": "display_data"
    },
    {
     "data": {
      "text/plain": [
       "163.59087665562805"
      ]
     },
     "metadata": {},
     "output_type": "display_data"
    },
    {
     "data": {
      "text/plain": [
       "154.48784494718294"
      ]
     },
     "metadata": {},
     "output_type": "display_data"
    },
    {
     "data": {
      "text/plain": [
       "175.30409006910867"
      ]
     },
     "metadata": {},
     "output_type": "display_data"
    },
    {
     "data": {
      "text/plain": [
       "184.73398886012586"
      ]
     },
     "metadata": {},
     "output_type": "display_data"
    },
    {
     "data": {
      "text/plain": [
       "190.42847666854558"
      ]
     },
     "metadata": {},
     "output_type": "display_data"
    },
    {
     "data": {
      "text/plain": [
       "199.40198305233466"
      ]
     },
     "metadata": {},
     "output_type": "display_data"
    },
    {
     "data": {
      "text/plain": [
       "207.3960138978277"
      ]
     },
     "metadata": {},
     "output_type": "display_data"
    },
    {
     "data": {
      "text/plain": [
       "196.5090122174748"
      ]
     },
     "metadata": {},
     "output_type": "display_data"
    },
    {
     "data": {
      "text/plain": [
       "222.84780258562816"
      ]
     },
     "metadata": {},
     "output_type": "display_data"
    },
    {
     "data": {
      "text/plain": [
       "232.74873821185307"
      ]
     },
     "metadata": {},
     "output_type": "display_data"
    },
    {
     "data": {
      "text/plain": [
       "242.40074664170828"
      ]
     },
     "metadata": {},
     "output_type": "display_data"
    },
    {
     "data": {
      "text/plain": [
       "250.1724512545485"
      ]
     },
     "metadata": {},
     "output_type": "display_data"
    },
    {
     "data": {
      "text/plain": [
       "260.351248280946"
      ]
     },
     "metadata": {},
     "output_type": "display_data"
    },
    {
     "data": {
      "text/plain": [
       "275.71488900388965"
      ]
     },
     "metadata": {},
     "output_type": "display_data"
    },
    {
     "data": {
      "text/plain": [
       "283.8590898717365"
      ]
     },
     "metadata": {},
     "output_type": "display_data"
    },
    {
     "data": {
      "text/plain": [
       "292.7432189618023"
      ]
     },
     "metadata": {},
     "output_type": "display_data"
    },
    {
     "data": {
      "text/plain": [
       "305.64933691701407"
      ]
     },
     "metadata": {},
     "output_type": "display_data"
    },
    {
     "data": {
      "text/plain": [
       "318.6351347952318"
      ]
     },
     "metadata": {},
     "output_type": "display_data"
    },
    {
     "data": {
      "text/plain": [
       "331.20297087269864"
      ]
     },
     "metadata": {},
     "output_type": "display_data"
    },
    {
     "data": {
      "text/plain": [
       "346.4380166898976"
      ]
     },
     "metadata": {},
     "output_type": "display_data"
    },
    {
     "data": {
      "text/plain": [
       "356.7810219978011"
      ]
     },
     "metadata": {},
     "output_type": "display_data"
    },
    {
     "data": {
      "text/plain": [
       "336.69541488201315"
      ]
     },
     "metadata": {},
     "output_type": "display_data"
    },
    {
     "data": {
      "text/plain": [
       "390.0747380024195"
      ]
     },
     "metadata": {},
     "output_type": "display_data"
    },
    {
     "data": {
      "text/plain": [
       "407.2921296068128"
      ]
     },
     "metadata": {},
     "output_type": "display_data"
    },
    {
     "data": {
      "text/plain": [
       "416.9534983635331"
      ]
     },
     "metadata": {},
     "output_type": "display_data"
    },
    {
     "data": {
      "text/plain": [
       "432.7113052342631"
      ]
     },
     "metadata": {},
     "output_type": "display_data"
    },
    {
     "data": {
      "text/plain": [
       "414.1575588919229"
      ]
     },
     "metadata": {},
     "output_type": "display_data"
    },
    {
     "data": {
      "text/plain": [
       "426.4908931413584"
      ]
     },
     "metadata": {},
     "output_type": "display_data"
    },
    {
     "data": {
      "text/plain": [
       "489.6299633852103"
      ]
     },
     "metadata": {},
     "output_type": "display_data"
    },
    {
     "data": {
      "text/plain": [
       "456.5949486111381"
      ]
     },
     "metadata": {},
     "output_type": "display_data"
    },
    {
     "data": {
      "text/plain": [
       "530.0662263032132"
      ]
     },
     "metadata": {},
     "output_type": "display_data"
    },
    {
     "data": {
      "text/plain": [
       "545.9776321946382"
      ]
     },
     "metadata": {},
     "output_type": "display_data"
    },
    {
     "data": {
      "text/plain": [
       "565.1492987742691"
      ]
     },
     "metadata": {},
     "output_type": "display_data"
    },
    {
     "data": {
      "text/plain": [
       "591.9656845600725"
      ]
     },
     "metadata": {},
     "output_type": "display_data"
    },
    {
     "data": {
      "text/plain": [
       "617.7931018078791"
      ]
     },
     "metadata": {},
     "output_type": "display_data"
    },
    {
     "data": {
      "text/plain": [
       "635.6845447364002"
      ]
     },
     "metadata": {},
     "output_type": "display_data"
    },
    {
     "data": {
      "text/plain": [
       "672.3991133702949"
      ]
     },
     "metadata": {},
     "output_type": "display_data"
    },
    {
     "data": {
      "text/plain": [
       "621.8211954285356"
      ]
     },
     "metadata": {},
     "output_type": "display_data"
    },
    {
     "data": {
      "text/plain": [
       "721.7335464717802"
      ]
     },
     "metadata": {},
     "output_type": "display_data"
    },
    {
     "data": {
      "text/plain": [
       "737.8251316206682"
      ]
     },
     "metadata": {},
     "output_type": "display_data"
    },
    {
     "data": {
      "text/plain": [
       "769.1103289842082"
      ]
     },
     "metadata": {},
     "output_type": "display_data"
    },
    {
     "data": {
      "text/plain": [
       "804.2209303796569"
      ]
     },
     "metadata": {},
     "output_type": "display_data"
    },
    {
     "data": {
      "text/plain": [
       "832.1374201271566"
      ]
     },
     "metadata": {},
     "output_type": "display_data"
    },
    {
     "data": {
      "text/plain": [
       "786.8304506416839"
      ]
     },
     "metadata": {},
     "output_type": "display_data"
    },
    {
     "data": {
      "text/plain": [
       "895.638130939861"
      ]
     },
     "metadata": {},
     "output_type": "display_data"
    },
    {
     "data": {
      "text/plain": [
       "936.699452199154"
      ]
     },
     "metadata": {},
     "output_type": "display_data"
    },
    {
     "data": {
      "text/plain": [
       "969.8215407962474"
      ]
     },
     "metadata": {},
     "output_type": "display_data"
    },
    {
     "data": {
      "text/plain": [
       "1023.5919843169089"
      ]
     },
     "metadata": {},
     "output_type": "display_data"
    },
    {
     "data": {
      "text/plain": [
       "1038.668772960224"
      ]
     },
     "metadata": {},
     "output_type": "display_data"
    },
    {
     "data": {
      "text/plain": [
       "976.7856249404805"
      ]
     },
     "metadata": {},
     "output_type": "display_data"
    },
    {
     "data": {
      "text/plain": [
       "1130.2052528462143"
      ]
     },
     "metadata": {},
     "output_type": "display_data"
    },
    {
     "data": {
      "text/plain": [
       "1172.3327296124546"
      ]
     },
     "metadata": {},
     "output_type": "display_data"
    },
    {
     "data": {
      "text/plain": [
       "1205.4491747685333"
      ]
     },
     "metadata": {},
     "output_type": "display_data"
    },
    {
     "data": {
      "text/plain": [
       "1140.9748556337763"
      ]
     },
     "metadata": {},
     "output_type": "display_data"
    },
    {
     "data": {
      "text/plain": [
       "1303.3218683599878"
      ]
     },
     "metadata": {},
     "output_type": "display_data"
    },
    {
     "data": {
      "text/plain": [
       "1362.1067480899794"
      ]
     },
     "metadata": {},
     "output_type": "display_data"
    },
    {
     "data": {
      "text/plain": [
       "1286.399869355487"
      ]
     },
     "metadata": {},
     "output_type": "display_data"
    },
    {
     "data": {
      "text/plain": [
       "1466.8941065447461"
      ]
     },
     "metadata": {},
     "output_type": "display_data"
    },
    {
     "data": {
      "text/plain": [
       "1525.99757738346"
      ]
     },
     "metadata": {},
     "output_type": "display_data"
    },
    {
     "data": {
      "text/plain": [
       "1575.402635754545"
      ]
     },
     "metadata": {},
     "output_type": "display_data"
    },
    {
     "data": {
      "text/plain": [
       "1636.1725683208513"
      ]
     },
     "metadata": {},
     "output_type": "display_data"
    },
    {
     "data": {
      "text/plain": [
       "1703.64200799899"
      ]
     },
     "metadata": {},
     "output_type": "display_data"
    },
    {
     "data": {
      "text/plain": [
       "1595.3630326285104"
      ]
     },
     "metadata": {},
     "output_type": "display_data"
    },
    {
     "data": {
      "text/plain": [
       "1677.556122706359"
      ]
     },
     "metadata": {},
     "output_type": "display_data"
    },
    {
     "data": {
      "text/plain": [
       "1710.5724791531504"
      ]
     },
     "metadata": {},
     "output_type": "display_data"
    },
    {
     "data": {
      "text/plain": [
       "1989.408029248016"
      ]
     },
     "metadata": {},
     "output_type": "display_data"
    },
    {
     "data": {
      "text/plain": [
       "2031.768551169614"
      ]
     },
     "metadata": {},
     "output_type": "display_data"
    },
    {
     "data": {
      "text/plain": [
       "1917.3185581013747"
      ]
     },
     "metadata": {},
     "output_type": "display_data"
    },
    {
     "data": {
      "text/plain": [
       "2212.3625214100334"
      ]
     },
     "metadata": {},
     "output_type": "display_data"
    },
    {
     "data": {
      "text/plain": [
       "2292.1001765687984"
      ]
     },
     "metadata": {},
     "output_type": "display_data"
    },
    {
     "data": {
      "text/plain": [
       "2368.0810538569367"
      ]
     },
     "metadata": {},
     "output_type": "display_data"
    },
    {
     "data": {
      "text/plain": [
       "2474.201531134651"
      ]
     },
     "metadata": {},
     "output_type": "display_data"
    },
    {
     "data": {
      "text/plain": [
       "2555.4834730308876"
      ]
     },
     "metadata": {},
     "output_type": "display_data"
    },
    {
     "data": {
      "text/plain": [
       "2668.0578941086787"
      ]
     },
     "metadata": {},
     "output_type": "display_data"
    },
    {
     "data": {
      "text/plain": [
       "2753.607743116585"
      ]
     },
     "metadata": {},
     "output_type": "display_data"
    },
    {
     "data": {
      "text/plain": [
       "2881.7230906753593"
      ]
     },
     "metadata": {},
     "output_type": "display_data"
    },
    {
     "data": {
      "text/plain": [
       "3007.179005975795"
      ]
     },
     "metadata": {},
     "output_type": "display_data"
    },
    {
     "data": {
      "text/plain": [
       "3107.39349004608"
      ]
     },
     "metadata": {},
     "output_type": "display_data"
    },
    {
     "data": {
      "text/plain": [
       "3243.6590771862593"
      ]
     },
     "metadata": {},
     "output_type": "display_data"
    },
    {
     "data": {
      "text/plain": [
       "3376.4087781292715"
      ]
     },
     "metadata": {},
     "output_type": "display_data"
    },
    {
     "data": {
      "text/plain": [
       "3459.041447411442"
      ]
     },
     "metadata": {},
     "output_type": "display_data"
    },
    {
     "data": {
      "text/plain": [
       "3594.1960504927506"
      ]
     },
     "metadata": {},
     "output_type": "display_data"
    },
    {
     "data": {
      "text/plain": [
       "3375.3207601402396"
      ]
     },
     "metadata": {},
     "output_type": "display_data"
    },
    {
     "data": {
      "text/plain": [
       "3541.7467340995136"
      ]
     },
     "metadata": {},
     "output_type": "display_data"
    },
    {
     "data": {
      "text/plain": [
       "4097.190784930424"
      ]
     },
     "metadata": {},
     "output_type": "display_data"
    },
    {
     "data": {
      "text/plain": [
       "4161.014530201587"
      ]
     },
     "metadata": {},
     "output_type": "display_data"
    },
    {
     "data": {
      "text/plain": [
       "4353.415245980878"
      ]
     },
     "metadata": {},
     "output_type": "display_data"
    },
    {
     "data": {
      "text/plain": [
       "4502.17079193853"
      ]
     },
     "metadata": {},
     "output_type": "display_data"
    },
    {
     "data": {
      "text/plain": [
       "4270.295186529588"
      ]
     },
     "metadata": {},
     "output_type": "display_data"
    },
    {
     "data": {
      "text/plain": [
       "4859.148936801855"
      ]
     },
     "metadata": {},
     "output_type": "display_data"
    },
    {
     "data": {
      "text/plain": [
       "5104.6664938540625"
      ]
     },
     "metadata": {},
     "output_type": "display_data"
    },
    {
     "data": {
      "text/plain": [
       "5309.048085763888"
      ]
     },
     "metadata": {},
     "output_type": "display_data"
    },
    {
     "data": {
      "text/plain": [
       "5497.977993953775"
      ]
     },
     "metadata": {},
     "output_type": "display_data"
    },
    {
     "data": {
      "text/plain": [
       "5686.41457692942"
      ]
     },
     "metadata": {},
     "output_type": "display_data"
    },
    {
     "data": {
      "text/plain": [
       "5921.493061307228"
      ]
     },
     "metadata": {},
     "output_type": "display_data"
    },
    {
     "data": {
      "text/plain": [
       "6124.388100073731"
      ]
     },
     "metadata": {},
     "output_type": "display_data"
    },
    {
     "data": {
      "text/plain": [
       "5751.181001702068"
      ]
     },
     "metadata": {},
     "output_type": "display_data"
    },
    {
     "data": {
      "text/plain": [
       "6592.497259402132"
      ]
     },
     "metadata": {},
     "output_type": "display_data"
    },
    {
     "data": {
      "text/plain": [
       "6904.551201725265"
      ]
     },
     "metadata": {},
     "output_type": "display_data"
    },
    {
     "data": {
      "text/plain": [
       "6382.698654563253"
      ]
     },
     "metadata": {},
     "output_type": "display_data"
    },
    {
     "data": {
      "text/plain": [
       "6634.333527618123"
      ]
     },
     "metadata": {},
     "output_type": "display_data"
    },
    {
     "data": {
      "text/plain": [
       "7627.788455031354"
      ]
     },
     "metadata": {},
     "output_type": "display_data"
    },
    {
     "data": {
      "text/plain": [
       "8017.830704058918"
      ]
     },
     "metadata": {},
     "output_type": "display_data"
    },
    {
     "data": {
      "text/plain": [
       "8214.69173729105"
      ]
     },
     "metadata": {},
     "output_type": "display_data"
    },
    {
     "data": {
      "text/plain": [
       "8490.946589294097"
      ]
     },
     "metadata": {},
     "output_type": "display_data"
    },
    {
     "data": {
      "text/plain": [
       "8949.968355772351"
      ]
     },
     "metadata": {},
     "output_type": "display_data"
    },
    {
     "data": {
      "text/plain": [
       "9171.465985869436"
      ]
     },
     "metadata": {},
     "output_type": "display_data"
    },
    {
     "data": {
      "text/plain": [
       "9636.143841707673"
      ]
     },
     "metadata": {},
     "output_type": "display_data"
    },
    {
     "data": {
      "text/plain": [
       "9947.85154259108"
      ]
     },
     "metadata": {},
     "output_type": "display_data"
    },
    {
     "data": {
      "text/plain": [
       "10311.941757662706"
      ]
     },
     "metadata": {},
     "output_type": "display_data"
    },
    {
     "data": {
      "text/plain": [
       "10807.519941579967"
      ]
     },
     "metadata": {},
     "output_type": "display_data"
    },
    {
     "data": {
      "text/plain": [
       "11138.1033800716"
      ]
     },
     "metadata": {},
     "output_type": "display_data"
    },
    {
     "data": {
      "text/plain": [
       "11576.701906952612"
      ]
     },
     "metadata": {},
     "output_type": "display_data"
    },
    {
     "data": {
      "text/plain": [
       "12172.378304446851"
      ]
     },
     "metadata": {},
     "output_type": "display_data"
    },
    {
     "data": {
      "text/plain": [
       "12551.231970599583"
      ]
     },
     "metadata": {},
     "output_type": "display_data"
    },
    {
     "data": {
      "text/plain": [
       "12861.180264717681"
      ]
     },
     "metadata": {},
     "output_type": "display_data"
    },
    {
     "data": {
      "text/plain": [
       "13435.553606634847"
      ]
     },
     "metadata": {},
     "output_type": "display_data"
    },
    {
     "data": {
      "text/plain": [
       "12663.046074738295"
      ]
     },
     "metadata": {},
     "output_type": "display_data"
    },
    {
     "data": {
      "text/plain": [
       "14660.486172678884"
      ]
     },
     "metadata": {},
     "output_type": "display_data"
    },
    {
     "data": {
      "text/plain": [
       "14931.196292275543"
      ]
     },
     "metadata": {},
     "output_type": "display_data"
    },
    {
     "data": {
      "text/plain": [
       "15575.510783799142"
      ]
     },
     "metadata": {},
     "output_type": "display_data"
    },
    {
     "data": {
      "text/plain": [
       "14668.70620432405"
      ]
     },
     "metadata": {},
     "output_type": "display_data"
    },
    {
     "data": {
      "text/plain": [
       "17014.941306964014"
      ]
     },
     "metadata": {},
     "output_type": "display_data"
    },
    {
     "data": {
      "text/plain": [
       "17465.816082112007"
      ]
     },
     "metadata": {},
     "output_type": "display_data"
    },
    {
     "data": {
      "text/plain": [
       "16378.102706601672"
      ]
     },
     "metadata": {},
     "output_type": "display_data"
    },
    {
     "data": {
      "text/plain": [
       "18655.556167899096"
      ]
     },
     "metadata": {},
     "output_type": "display_data"
    },
    {
     "data": {
      "text/plain": [
       "17719.172520266642"
      ]
     },
     "metadata": {},
     "output_type": "display_data"
    },
    {
     "data": {
      "text/plain": [
       "20185.43630888776"
      ]
     },
     "metadata": {},
     "output_type": "display_data"
    },
    {
     "data": {
      "text/plain": [
       "20948.665094588097"
      ]
     },
     "metadata": {},
     "output_type": "display_data"
    },
    {
     "data": {
      "text/plain": [
       "22114.037850875782"
      ]
     },
     "metadata": {},
     "output_type": "display_data"
    },
    {
     "data": {
      "text/plain": [
       "22750.885670179625"
      ]
     },
     "metadata": {},
     "output_type": "display_data"
    },
    {
     "data": {
      "text/plain": [
       "23432.432506814752"
      ]
     },
     "metadata": {},
     "output_type": "display_data"
    },
    {
     "data": {
      "text/plain": [
       "24503.878283118538"
      ]
     },
     "metadata": {},
     "output_type": "display_data"
    },
    {
     "data": {
      "text/plain": [
       "22882.370163385618"
      ]
     },
     "metadata": {},
     "output_type": "display_data"
    },
    {
     "data": {
      "text/plain": [
       "26377.306672039253"
      ]
     },
     "metadata": {},
     "output_type": "display_data"
    },
    {
     "data": {
      "text/plain": [
       "27329.873720526746"
      ]
     },
     "metadata": {},
     "output_type": "display_data"
    },
    {
     "data": {
      "text/plain": [
       "28382.126755745354"
      ]
     },
     "metadata": {},
     "output_type": "display_data"
    },
    {
     "data": {
      "text/plain": [
       "29583.046435158"
      ]
     },
     "metadata": {},
     "output_type": "display_data"
    },
    {
     "data": {
      "text/plain": [
       "30928.20487387766"
      ]
     },
     "metadata": {},
     "output_type": "display_data"
    },
    {
     "data": {
      "text/plain": [
       "31765.63746304685"
      ]
     },
     "metadata": {},
     "output_type": "display_data"
    },
    {
     "data": {
      "text/plain": [
       "29972.01097261912"
      ]
     },
     "metadata": {},
     "output_type": "display_data"
    },
    {
     "data": {
      "text/plain": [
       "34204.64955058343"
      ]
     },
     "metadata": {},
     "output_type": "display_data"
    },
    {
     "data": {
      "text/plain": [
       "35591.13253016176"
      ]
     },
     "metadata": {},
     "output_type": "display_data"
    },
    {
     "data": {
      "text/plain": [
       "33871.355026026315"
      ]
     },
     "metadata": {},
     "output_type": "display_data"
    },
    {
     "data": {
      "text/plain": [
       "38374.979185383585"
      ]
     },
     "metadata": {},
     "output_type": "display_data"
    },
    {
     "data": {
      "text/plain": [
       "39768.11603350484"
      ]
     },
     "metadata": {},
     "output_type": "display_data"
    },
    {
     "data": {
      "text/plain": [
       "41337.76533163281"
      ]
     },
     "metadata": {},
     "output_type": "display_data"
    },
    {
     "data": {
      "text/plain": [
       "42610.47742235804"
      ]
     },
     "metadata": {},
     "output_type": "display_data"
    },
    {
     "data": {
      "text/plain": [
       "44359.10193678368"
      ]
     },
     "metadata": {},
     "output_type": "display_data"
    },
    {
     "data": {
      "text/plain": [
       "46016.112728681"
      ]
     },
     "metadata": {},
     "output_type": "display_data"
    },
    {
     "data": {
      "text/plain": [
       "48282.425050763806"
      ]
     },
     "metadata": {},
     "output_type": "display_data"
    },
    {
     "data": {
      "text/plain": [
       "49696.87629962952"
      ]
     },
     "metadata": {},
     "output_type": "display_data"
    },
    {
     "data": {
      "text/plain": [
       "51966.47812826208"
      ]
     },
     "metadata": {},
     "output_type": "display_data"
    },
    {
     "data": {
      "text/plain": [
       "54116.068799755725"
      ]
     },
     "metadata": {},
     "output_type": "display_data"
    },
    {
     "data": {
      "text/plain": [
       "55624.66551609181"
      ]
     },
     "metadata": {},
     "output_type": "display_data"
    },
    {
     "data": {
      "text/plain": [
       "58510.60752991439"
      ]
     },
     "metadata": {},
     "output_type": "display_data"
    },
    {
     "data": {
      "text/plain": [
       "60095.2195520735"
      ]
     },
     "metadata": {},
     "output_type": "display_data"
    },
    {
     "data": {
      "text/plain": [
       "56546.694236388794"
      ]
     },
     "metadata": {},
     "output_type": "display_data"
    },
    {
     "data": {
      "text/plain": [
       "64425.115135627384"
      ]
     },
     "metadata": {},
     "output_type": "display_data"
    },
    {
     "data": {
      "text/plain": [
       "67033.21305823572"
      ]
     },
     "metadata": {},
     "output_type": "display_data"
    },
    {
     "data": {
      "text/plain": [
       "63002.05438620912"
      ]
     },
     "metadata": {},
     "output_type": "display_data"
    },
    {
     "data": {
      "text/plain": [
       "71935.75540732073"
      ]
     },
     "metadata": {},
     "output_type": "display_data"
    },
    {
     "data": {
      "text/plain": [
       "74823.48761752859"
      ]
     },
     "metadata": {},
     "output_type": "display_data"
    },
    {
     "data": {
      "text/plain": [
       "78226.53045319676"
      ]
     },
     "metadata": {},
     "output_type": "display_data"
    },
    {
     "data": {
      "text/plain": [
       "81368.13194337007"
      ]
     },
     "metadata": {},
     "output_type": "display_data"
    },
    {
     "data": {
      "text/plain": [
       "83999.8800620277"
      ]
     },
     "metadata": {},
     "output_type": "display_data"
    },
    {
     "data": {
      "text/plain": [
       "86981.53339690923"
      ]
     },
     "metadata": {},
     "output_type": "display_data"
    },
    {
     "data": {
      "text/plain": [
       "90531.87538097054"
      ]
     },
     "metadata": {},
     "output_type": "display_data"
    },
    {
     "data": {
      "text/plain": [
       "93841.08869773931"
      ]
     },
     "metadata": {},
     "output_type": "display_data"
    },
    {
     "data": {
      "text/plain": [
       "97548.82146852053"
      ]
     },
     "metadata": {},
     "output_type": "display_data"
    },
    {
     "data": {
      "text/plain": [
       "101884.35669127596"
      ]
     },
     "metadata": {},
     "output_type": "display_data"
    },
    {
     "data": {
      "text/plain": [
       "96138.41118274402"
      ]
     },
     "metadata": {},
     "output_type": "display_data"
    },
    {
     "data": {
      "text/plain": [
       "110301.50623907197"
      ]
     },
     "metadata": {},
     "output_type": "display_data"
    },
    {
     "data": {
      "text/plain": [
       "114403.7752333024"
      ]
     },
     "metadata": {},
     "output_type": "display_data"
    },
    {
     "data": {
      "text/plain": [
       "117874.4995986996"
      ]
     },
     "metadata": {},
     "output_type": "display_data"
    },
    {
     "data": {
      "text/plain": [
       "122494.98269356746"
      ]
     },
     "metadata": {},
     "output_type": "display_data"
    },
    {
     "data": {
      "text/plain": [
       "126945.96411434747"
      ]
     },
     "metadata": {},
     "output_type": "display_data"
    },
    {
     "data": {
      "text/plain": [
       "133445.28518356112"
      ]
     },
     "metadata": {},
     "output_type": "display_data"
    },
    {
     "data": {
      "text/plain": [
       "137616.5073591676"
      ]
     },
     "metadata": {},
     "output_type": "display_data"
    },
    {
     "data": {
      "text/plain": [
       "143290.05429303076"
      ]
     },
     "metadata": {},
     "output_type": "display_data"
    },
    {
     "data": {
      "text/plain": [
       "133453.998060947"
      ]
     },
     "metadata": {},
     "output_type": "display_data"
    },
    {
     "data": {
      "text/plain": [
       "139925.31395515794"
      ]
     },
     "metadata": {},
     "output_type": "display_data"
    },
    {
     "data": {
      "text/plain": [
       "158725.48575857157"
      ]
     },
     "metadata": {},
     "output_type": "display_data"
    },
    {
     "data": {
      "text/plain": [
       "164184.75727577833"
      ]
     },
     "metadata": {},
     "output_type": "display_data"
    },
    {
     "data": {
      "text/plain": [
       "171077.3047589362"
      ]
     },
     "metadata": {},
     "output_type": "display_data"
    },
    {
     "data": {
      "text/plain": [
       "177907.47997339332"
      ]
     },
     "metadata": {},
     "output_type": "display_data"
    },
    {
     "data": {
      "text/plain": [
       "185325.17765645692"
      ]
     },
     "metadata": {},
     "output_type": "display_data"
    },
    {
     "data": {
      "text/plain": [
       "191725.95951310795"
      ]
     },
     "metadata": {},
     "output_type": "display_data"
    },
    {
     "data": {
      "text/plain": [
       "199397.3589119983"
      ]
     },
     "metadata": {},
     "output_type": "display_data"
    },
    {
     "data": {
      "text/plain": [
       "206537.49626729047"
      ]
     },
     "metadata": {},
     "output_type": "display_data"
    },
    {
     "data": {
      "text/plain": [
       "215118.45404190567"
      ]
     },
     "metadata": {},
     "output_type": "display_data"
    },
    {
     "data": {
      "text/plain": [
       "203723.3418404801"
      ]
     },
     "metadata": {},
     "output_type": "display_data"
    },
    {
     "data": {
      "text/plain": [
       "230256.46279103466"
      ]
     },
     "metadata": {},
     "output_type": "display_data"
    },
    {
     "data": {
      "text/plain": [
       "240593.41291013022"
      ]
     },
     "metadata": {},
     "output_type": "display_data"
    },
    {
     "data": {
      "text/plain": [
       "250894.97556299277"
      ]
     },
     "metadata": {},
     "output_type": "display_data"
    },
    {
     "data": {
      "text/plain": [
       "262142.4623445505"
      ]
     },
     "metadata": {},
     "output_type": "display_data"
    },
    {
     "data": {
      "text/plain": [
       "270601.38460487855"
      ]
     },
     "metadata": {},
     "output_type": "display_data"
    },
    {
     "data": {
      "text/plain": [
       "281652.3576936622"
      ]
     },
     "metadata": {},
     "output_type": "display_data"
    },
    {
     "data": {
      "text/plain": [
       "292699.1325461847"
      ]
     },
     "metadata": {},
     "output_type": "display_data"
    },
    {
     "data": {
      "text/plain": [
       "300493.01951408776"
      ]
     },
     "metadata": {},
     "output_type": "display_data"
    },
    {
     "data": {
      "text/plain": [
       "312190.24335846235"
      ]
     },
     "metadata": {},
     "output_type": "display_data"
    },
    {
     "data": {
      "text/plain": [
       "297253.31073049"
      ]
     },
     "metadata": {},
     "output_type": "display_data"
    },
    {
     "data": {
      "text/plain": [
       "305035.4856870267"
      ]
     },
     "metadata": {},
     "output_type": "display_data"
    },
    {
     "data": {
      "text/plain": [
       "350010.92896778346"
      ]
     },
     "metadata": {},
     "output_type": "display_data"
    },
    {
     "data": {
      "text/plain": [
       "362528.39920936414"
      ]
     },
     "metadata": {},
     "output_type": "display_data"
    },
    {
     "data": {
      "text/plain": [
       "383015.4942051054"
      ]
     },
     "metadata": {},
     "output_type": "display_data"
    },
    {
     "data": {
      "text/plain": [
       "393787.89765334665"
      ]
     },
     "metadata": {},
     "output_type": "display_data"
    },
    {
     "data": {
      "text/plain": [
       "407986.78178664274"
      ]
     },
     "metadata": {},
     "output_type": "display_data"
    },
    {
     "data": {
      "text/plain": [
       "420445.1778595991"
      ]
     },
     "metadata": {},
     "output_type": "display_data"
    },
    {
     "data": {
      "text/plain": [
       "440442.5787310011"
      ]
     },
     "metadata": {},
     "output_type": "display_data"
    },
    {
     "data": {
      "text/plain": [
       "411874.18512956804"
      ]
     },
     "metadata": {},
     "output_type": "display_data"
    },
    {
     "data": {
      "text/plain": [
       "473635.5179375395"
      ]
     },
     "metadata": {},
     "output_type": "display_data"
    },
    {
     "data": {
      "text/plain": [
       "488958.30586502975"
      ]
     },
     "metadata": {},
     "output_type": "display_data"
    },
    {
     "data": {
      "text/plain": [
       "513909.8421615465"
      ]
     },
     "metadata": {},
     "output_type": "display_data"
    },
    {
     "data": {
      "text/plain": [
       "480644.3737925049"
      ]
     },
     "metadata": {},
     "output_type": "display_data"
    },
    {
     "data": {
      "text/plain": [
       "497013.9545190324"
      ]
     },
     "metadata": {},
     "output_type": "display_data"
    },
    {
     "data": {
      "text/plain": [
       "512989.7100515217"
      ]
     },
     "metadata": {},
     "output_type": "display_data"
    },
    {
     "data": {
      "text/plain": [
       "588918.7527212717"
      ]
     },
     "metadata": {},
     "output_type": "display_data"
    },
    {
     "data": {
      "text/plain": [
       "611681.254440128"
      ]
     },
     "metadata": {},
     "output_type": "display_data"
    },
    {
     "data": {
      "text/plain": [
       "573068.0088315317"
      ]
     },
     "metadata": {},
     "output_type": "display_data"
    },
    {
     "data": {
      "text/plain": [
       "661988.7939295801"
      ]
     },
     "metadata": {},
     "output_type": "display_data"
    },
    {
     "data": {
      "text/plain": [
       "690201.2808737303"
      ]
     },
     "metadata": {},
     "output_type": "display_data"
    },
    {
     "data": {
      "text/plain": [
       "-8.582637891893146"
      ]
     },
     "metadata": {},
     "output_type": "display_data"
    },
    {
     "data": {
      "text/plain": [
       "-8.582637891893146"
      ]
     },
     "metadata": {},
     "output_type": "display_data"
    },
    {
     "data": {
      "text/plain": [
       "-8.582637891893146"
      ]
     },
     "metadata": {},
     "output_type": "display_data"
    },
    {
     "data": {
      "text/plain": [
       "-8.582637891893146"
      ]
     },
     "metadata": {},
     "output_type": "display_data"
    },
    {
     "data": {
      "text/plain": [
       "-8.582637891893146"
      ]
     },
     "metadata": {},
     "output_type": "display_data"
    },
    {
     "data": {
      "text/plain": [
       "-8.582637891893146"
      ]
     },
     "metadata": {},
     "output_type": "display_data"
    },
    {
     "data": {
      "text/plain": [
       "-8.582637891893146"
      ]
     },
     "metadata": {},
     "output_type": "display_data"
    },
    {
     "data": {
      "text/plain": [
       "-8.582637891893146"
      ]
     },
     "metadata": {},
     "output_type": "display_data"
    },
    {
     "data": {
      "text/plain": [
       "-8.582637891893146"
      ]
     },
     "metadata": {},
     "output_type": "display_data"
    },
    {
     "data": {
      "text/plain": [
       "-8.582637891893146"
      ]
     },
     "metadata": {},
     "output_type": "display_data"
    },
    {
     "data": {
      "text/plain": [
       "-8.582637891893146"
      ]
     },
     "metadata": {},
     "output_type": "display_data"
    },
    {
     "data": {
      "text/plain": [
       "-8.582637891893146"
      ]
     },
     "metadata": {},
     "output_type": "display_data"
    },
    {
     "data": {
      "text/plain": [
       "-8.582637891893146"
      ]
     },
     "metadata": {},
     "output_type": "display_data"
    },
    {
     "data": {
      "text/plain": [
       "-8.582637891893146"
      ]
     },
     "metadata": {},
     "output_type": "display_data"
    },
    {
     "data": {
      "text/plain": [
       "-8.582637891893146"
      ]
     },
     "metadata": {},
     "output_type": "display_data"
    },
    {
     "data": {
      "text/plain": [
       "-8.582637891893146"
      ]
     },
     "metadata": {},
     "output_type": "display_data"
    },
    {
     "data": {
      "text/plain": [
       "-8.582637891893146"
      ]
     },
     "metadata": {},
     "output_type": "display_data"
    },
    {
     "data": {
      "text/plain": [
       "-8.582637891893146"
      ]
     },
     "metadata": {},
     "output_type": "display_data"
    },
    {
     "data": {
      "text/plain": [
       "-8.582637891893146"
      ]
     },
     "metadata": {},
     "output_type": "display_data"
    },
    {
     "data": {
      "text/plain": [
       "-8.582637891893146"
      ]
     },
     "metadata": {},
     "output_type": "display_data"
    },
    {
     "data": {
      "text/plain": [
       "-8.582637891893146"
      ]
     },
     "metadata": {},
     "output_type": "display_data"
    }
   ],
   "source": [
    "# Check conic violation\n",
    "convio = 0.0\n",
    "for k = 1:Nsim-1\n",
    "    Uc = cone_u(params, Uhist[k])\n",
    "    huc = norm(Uc[1:2]) - Uc[3]\n",
    "    convio = norm(huc + abs.(huc),Inf)\n",
    "    display(huc) # should <= 0\n",
    "end"
   ]
  },
  {
   "cell_type": "code",
   "execution_count": 769,
   "id": "ffaab90d-dddc-4512-8c8b-4561cd053fdf",
   "metadata": {},
   "outputs": [
    {
     "data": {
      "image/svg+xml": [
       "<?xml version=\"1.0\" encoding=\"utf-8\"?>\n",
       "<svg xmlns=\"http://www.w3.org/2000/svg\" xmlns:xlink=\"http://www.w3.org/1999/xlink\" width=\"600\" height=\"400\" viewBox=\"0 0 2400 1600\">\n",
       "<defs>\n",
       "  <clipPath id=\"clip040\">\n",
       "    <rect x=\"0\" y=\"0\" width=\"2400\" height=\"1600\"/>\n",
       "  </clipPath>\n",
       "</defs>\n",
       "<path clip-path=\"url(#clip040)\" d=\"M0 1600 L2400 1600 L2400 0 L0 0  Z\" fill=\"#ffffff\" fill-rule=\"evenodd\" fill-opacity=\"1\"/>\n",
       "<defs>\n",
       "  <clipPath id=\"clip041\">\n",
       "    <rect x=\"480\" y=\"0\" width=\"1681\" height=\"1600\"/>\n",
       "  </clipPath>\n",
       "</defs>\n",
       "<path clip-path=\"url(#clip040)\" d=\"M407.875 1423.18 L2352.76 1423.18 L2352.76 123.472 L407.875 123.472  Z\" fill=\"#ffffff\" fill-rule=\"evenodd\" fill-opacity=\"1\"/>\n",
       "<defs>\n",
       "  <clipPath id=\"clip042\">\n",
       "    <rect x=\"407\" y=\"123\" width=\"1946\" height=\"1301\"/>\n",
       "  </clipPath>\n",
       "</defs>\n",
       "<polyline clip-path=\"url(#clip042)\" style=\"stroke:#000000; stroke-linecap:round; stroke-linejoin:round; stroke-width:2; stroke-opacity:0.1; fill:none\" points=\"462.918,1423.18 462.918,123.472 \"/>\n",
       "<polyline clip-path=\"url(#clip042)\" style=\"stroke:#000000; stroke-linecap:round; stroke-linejoin:round; stroke-width:2; stroke-opacity:0.1; fill:none\" points=\"791.734,1423.18 791.734,123.472 \"/>\n",
       "<polyline clip-path=\"url(#clip042)\" style=\"stroke:#000000; stroke-linecap:round; stroke-linejoin:round; stroke-width:2; stroke-opacity:0.1; fill:none\" points=\"1120.55,1423.18 1120.55,123.472 \"/>\n",
       "<polyline clip-path=\"url(#clip042)\" style=\"stroke:#000000; stroke-linecap:round; stroke-linejoin:round; stroke-width:2; stroke-opacity:0.1; fill:none\" points=\"1449.37,1423.18 1449.37,123.472 \"/>\n",
       "<polyline clip-path=\"url(#clip042)\" style=\"stroke:#000000; stroke-linecap:round; stroke-linejoin:round; stroke-width:2; stroke-opacity:0.1; fill:none\" points=\"1778.18,1423.18 1778.18,123.472 \"/>\n",
       "<polyline clip-path=\"url(#clip042)\" style=\"stroke:#000000; stroke-linecap:round; stroke-linejoin:round; stroke-width:2; stroke-opacity:0.1; fill:none\" points=\"2107,1423.18 2107,123.472 \"/>\n",
       "<polyline clip-path=\"url(#clip040)\" style=\"stroke:#000000; stroke-linecap:round; stroke-linejoin:round; stroke-width:4; stroke-opacity:1; fill:none\" points=\"407.875,1423.18 2352.76,1423.18 \"/>\n",
       "<polyline clip-path=\"url(#clip040)\" style=\"stroke:#000000; stroke-linecap:round; stroke-linejoin:round; stroke-width:4; stroke-opacity:1; fill:none\" points=\"462.918,1423.18 462.918,1404.28 \"/>\n",
       "<polyline clip-path=\"url(#clip040)\" style=\"stroke:#000000; stroke-linecap:round; stroke-linejoin:round; stroke-width:4; stroke-opacity:1; fill:none\" points=\"791.734,1423.18 791.734,1404.28 \"/>\n",
       "<polyline clip-path=\"url(#clip040)\" style=\"stroke:#000000; stroke-linecap:round; stroke-linejoin:round; stroke-width:4; stroke-opacity:1; fill:none\" points=\"1120.55,1423.18 1120.55,1404.28 \"/>\n",
       "<polyline clip-path=\"url(#clip040)\" style=\"stroke:#000000; stroke-linecap:round; stroke-linejoin:round; stroke-width:4; stroke-opacity:1; fill:none\" points=\"1449.37,1423.18 1449.37,1404.28 \"/>\n",
       "<polyline clip-path=\"url(#clip040)\" style=\"stroke:#000000; stroke-linecap:round; stroke-linejoin:round; stroke-width:4; stroke-opacity:1; fill:none\" points=\"1778.18,1423.18 1778.18,1404.28 \"/>\n",
       "<polyline clip-path=\"url(#clip040)\" style=\"stroke:#000000; stroke-linecap:round; stroke-linejoin:round; stroke-width:4; stroke-opacity:1; fill:none\" points=\"2107,1423.18 2107,1404.28 \"/>\n",
       "<path clip-path=\"url(#clip040)\" d=\"M440.303 1454.1 Q436.692 1454.1 434.863 1457.66 Q433.057 1461.2 433.057 1468.33 Q433.057 1475.44 434.863 1479.01 Q436.692 1482.55 440.303 1482.55 Q443.937 1482.55 445.742 1479.01 Q447.571 1475.44 447.571 1468.33 Q447.571 1461.2 445.742 1457.66 Q443.937 1454.1 440.303 1454.1 M440.303 1450.39 Q446.113 1450.39 449.168 1455 Q452.247 1459.58 452.247 1468.33 Q452.247 1477.06 449.168 1481.67 Q446.113 1486.25 440.303 1486.25 Q434.493 1486.25 431.414 1481.67 Q428.358 1477.06 428.358 1468.33 Q428.358 1459.58 431.414 1455 Q434.493 1450.39 440.303 1450.39 Z\" fill=\"#000000\" fill-rule=\"evenodd\" fill-opacity=\"1\" /><path clip-path=\"url(#clip040)\" d=\"M460.465 1479.7 L465.349 1479.7 L465.349 1485.58 L460.465 1485.58 L460.465 1479.7 Z\" fill=\"#000000\" fill-rule=\"evenodd\" fill-opacity=\"1\" /><path clip-path=\"url(#clip040)\" d=\"M485.534 1454.1 Q481.923 1454.1 480.094 1457.66 Q478.289 1461.2 478.289 1468.33 Q478.289 1475.44 480.094 1479.01 Q481.923 1482.55 485.534 1482.55 Q489.168 1482.55 490.974 1479.01 Q492.802 1475.44 492.802 1468.33 Q492.802 1461.2 490.974 1457.66 Q489.168 1454.1 485.534 1454.1 M485.534 1450.39 Q491.344 1450.39 494.4 1455 Q497.478 1459.58 497.478 1468.33 Q497.478 1477.06 494.4 1481.67 Q491.344 1486.25 485.534 1486.25 Q479.724 1486.25 476.645 1481.67 Q473.59 1477.06 473.59 1468.33 Q473.59 1459.58 476.645 1455 Q479.724 1450.39 485.534 1450.39 Z\" fill=\"#000000\" fill-rule=\"evenodd\" fill-opacity=\"1\" /><path clip-path=\"url(#clip040)\" d=\"M763.471 1481.64 L779.79 1481.64 L779.79 1485.58 L757.846 1485.58 L757.846 1481.64 Q760.508 1478.89 765.091 1474.26 Q769.697 1469.61 770.878 1468.27 Q773.123 1465.74 774.003 1464.01 Q774.906 1462.25 774.906 1460.56 Q774.906 1457.8 772.961 1456.07 Q771.04 1454.33 767.938 1454.33 Q765.739 1454.33 763.285 1455.09 Q760.855 1455.86 758.077 1457.41 L758.077 1452.69 Q760.901 1451.55 763.355 1450.97 Q765.809 1450.39 767.846 1450.39 Q773.216 1450.39 776.41 1453.08 Q779.605 1455.77 779.605 1460.26 Q779.605 1462.39 778.795 1464.31 Q778.008 1466.2 775.901 1468.8 Q775.322 1469.47 772.221 1472.69 Q769.119 1475.88 763.471 1481.64 Z\" fill=\"#000000\" fill-rule=\"evenodd\" fill-opacity=\"1\" /><path clip-path=\"url(#clip040)\" d=\"M789.605 1479.7 L794.489 1479.7 L794.489 1485.58 L789.605 1485.58 L789.605 1479.7 Z\" fill=\"#000000\" fill-rule=\"evenodd\" fill-opacity=\"1\" /><path clip-path=\"url(#clip040)\" d=\"M804.72 1451.02 L823.077 1451.02 L823.077 1454.96 L809.003 1454.96 L809.003 1463.43 Q810.021 1463.08 811.04 1462.92 Q812.058 1462.73 813.077 1462.73 Q818.864 1462.73 822.244 1465.9 Q825.623 1469.08 825.623 1474.49 Q825.623 1480.07 822.151 1483.17 Q818.679 1486.25 812.359 1486.25 Q810.183 1486.25 807.915 1485.88 Q805.67 1485.51 803.262 1484.77 L803.262 1480.07 Q805.345 1481.2 807.568 1481.76 Q809.79 1482.32 812.267 1482.32 Q816.271 1482.32 818.609 1480.21 Q820.947 1478.1 820.947 1474.49 Q820.947 1470.88 818.609 1468.77 Q816.271 1466.67 812.267 1466.67 Q810.392 1466.67 808.517 1467.08 Q806.665 1467.5 804.72 1468.38 L804.72 1451.02 Z\" fill=\"#000000\" fill-rule=\"evenodd\" fill-opacity=\"1\" /><path clip-path=\"url(#clip040)\" d=\"M1087.72 1451.02 L1106.07 1451.02 L1106.07 1454.96 L1092 1454.96 L1092 1463.43 Q1093.02 1463.08 1094.03 1462.92 Q1095.05 1462.73 1096.07 1462.73 Q1101.86 1462.73 1105.24 1465.9 Q1108.62 1469.08 1108.62 1474.49 Q1108.62 1480.07 1105.15 1483.17 Q1101.67 1486.25 1095.35 1486.25 Q1093.18 1486.25 1090.91 1485.88 Q1088.66 1485.51 1086.26 1484.77 L1086.26 1480.07 Q1088.34 1481.2 1090.56 1481.76 Q1092.78 1482.32 1095.26 1482.32 Q1099.27 1482.32 1101.6 1480.21 Q1103.94 1478.1 1103.94 1474.49 Q1103.94 1470.88 1101.6 1468.77 Q1099.27 1466.67 1095.26 1466.67 Q1093.39 1466.67 1091.51 1467.08 Q1089.66 1467.5 1087.72 1468.38 L1087.72 1451.02 Z\" fill=\"#000000\" fill-rule=\"evenodd\" fill-opacity=\"1\" /><path clip-path=\"url(#clip040)\" d=\"M1117.83 1479.7 L1122.71 1479.7 L1122.71 1485.58 L1117.83 1485.58 L1117.83 1479.7 Z\" fill=\"#000000\" fill-rule=\"evenodd\" fill-opacity=\"1\" /><path clip-path=\"url(#clip040)\" d=\"M1142.9 1454.1 Q1139.29 1454.1 1137.46 1457.66 Q1135.65 1461.2 1135.65 1468.33 Q1135.65 1475.44 1137.46 1479.01 Q1139.29 1482.55 1142.9 1482.55 Q1146.53 1482.55 1148.34 1479.01 Q1150.17 1475.44 1150.17 1468.33 Q1150.17 1461.2 1148.34 1457.66 Q1146.53 1454.1 1142.9 1454.1 M1142.9 1450.39 Q1148.71 1450.39 1151.77 1455 Q1154.84 1459.58 1154.84 1468.33 Q1154.84 1477.06 1151.77 1481.67 Q1148.71 1486.25 1142.9 1486.25 Q1137.09 1486.25 1134.01 1481.67 Q1130.96 1477.06 1130.96 1468.33 Q1130.96 1459.58 1134.01 1455 Q1137.09 1450.39 1142.9 1450.39 Z\" fill=\"#000000\" fill-rule=\"evenodd\" fill-opacity=\"1\" /><path clip-path=\"url(#clip040)\" d=\"M1415.69 1451.02 L1437.91 1451.02 L1437.91 1453.01 L1425.36 1485.58 L1420.48 1485.58 L1432.28 1454.96 L1415.69 1454.96 L1415.69 1451.02 Z\" fill=\"#000000\" fill-rule=\"evenodd\" fill-opacity=\"1\" /><path clip-path=\"url(#clip040)\" d=\"M1447.03 1479.7 L1451.91 1479.7 L1451.91 1485.58 L1447.03 1485.58 L1447.03 1479.7 Z\" fill=\"#000000\" fill-rule=\"evenodd\" fill-opacity=\"1\" /><path clip-path=\"url(#clip040)\" d=\"M1462.14 1451.02 L1480.5 1451.02 L1480.5 1454.96 L1466.43 1454.96 L1466.43 1463.43 Q1467.45 1463.08 1468.46 1462.92 Q1469.48 1462.73 1470.5 1462.73 Q1476.29 1462.73 1479.67 1465.9 Q1483.05 1469.08 1483.05 1474.49 Q1483.05 1480.07 1479.57 1483.17 Q1476.1 1486.25 1469.78 1486.25 Q1467.61 1486.25 1465.34 1485.88 Q1463.09 1485.51 1460.69 1484.77 L1460.69 1480.07 Q1462.77 1481.2 1464.99 1481.76 Q1467.21 1482.32 1469.69 1482.32 Q1473.7 1482.32 1476.03 1480.21 Q1478.37 1478.1 1478.37 1474.49 Q1478.37 1470.88 1476.03 1468.77 Q1473.7 1466.67 1469.69 1466.67 Q1467.82 1466.67 1465.94 1467.08 Q1464.09 1467.5 1462.14 1468.38 L1462.14 1451.02 Z\" fill=\"#000000\" fill-rule=\"evenodd\" fill-opacity=\"1\" /><path clip-path=\"url(#clip040)\" d=\"M1730.25 1481.64 L1737.89 1481.64 L1737.89 1455.28 L1729.58 1456.95 L1729.58 1452.69 L1737.85 1451.02 L1742.52 1451.02 L1742.52 1481.64 L1750.16 1481.64 L1750.16 1485.58 L1730.25 1485.58 L1730.25 1481.64 Z\" fill=\"#000000\" fill-rule=\"evenodd\" fill-opacity=\"1\" /><path clip-path=\"url(#clip040)\" d=\"M1769.61 1454.1 Q1766 1454.1 1764.17 1457.66 Q1762.36 1461.2 1762.36 1468.33 Q1762.36 1475.44 1764.17 1479.01 Q1766 1482.55 1769.61 1482.55 Q1773.24 1482.55 1775.05 1479.01 Q1776.87 1475.44 1776.87 1468.33 Q1776.87 1461.2 1775.05 1457.66 Q1773.24 1454.1 1769.61 1454.1 M1769.61 1450.39 Q1775.42 1450.39 1778.47 1455 Q1781.55 1459.58 1781.55 1468.33 Q1781.55 1477.06 1778.47 1481.67 Q1775.42 1486.25 1769.61 1486.25 Q1763.8 1486.25 1760.72 1481.67 Q1757.66 1477.06 1757.66 1468.33 Q1757.66 1459.58 1760.72 1455 Q1763.8 1450.39 1769.61 1450.39 Z\" fill=\"#000000\" fill-rule=\"evenodd\" fill-opacity=\"1\" /><path clip-path=\"url(#clip040)\" d=\"M1789.77 1479.7 L1794.65 1479.7 L1794.65 1485.58 L1789.77 1485.58 L1789.77 1479.7 Z\" fill=\"#000000\" fill-rule=\"evenodd\" fill-opacity=\"1\" /><path clip-path=\"url(#clip040)\" d=\"M1814.84 1454.1 Q1811.23 1454.1 1809.4 1457.66 Q1807.59 1461.2 1807.59 1468.33 Q1807.59 1475.44 1809.4 1479.01 Q1811.23 1482.55 1814.84 1482.55 Q1818.47 1482.55 1820.28 1479.01 Q1822.11 1475.44 1822.11 1468.33 Q1822.11 1461.2 1820.28 1457.66 Q1818.47 1454.1 1814.84 1454.1 M1814.84 1450.39 Q1820.65 1450.39 1823.7 1455 Q1826.78 1459.58 1826.78 1468.33 Q1826.78 1477.06 1823.7 1481.67 Q1820.65 1486.25 1814.84 1486.25 Q1809.03 1486.25 1805.95 1481.67 Q1802.89 1477.06 1802.89 1468.33 Q1802.89 1459.58 1805.95 1455 Q1809.03 1450.39 1814.84 1450.39 Z\" fill=\"#000000\" fill-rule=\"evenodd\" fill-opacity=\"1\" /><path clip-path=\"url(#clip040)\" d=\"M2059.57 1481.64 L2067.21 1481.64 L2067.21 1455.28 L2058.9 1456.95 L2058.9 1452.69 L2067.16 1451.02 L2071.84 1451.02 L2071.84 1481.64 L2079.48 1481.64 L2079.48 1485.58 L2059.57 1485.58 L2059.57 1481.64 Z\" fill=\"#000000\" fill-rule=\"evenodd\" fill-opacity=\"1\" /><path clip-path=\"url(#clip040)\" d=\"M2092.95 1481.64 L2109.27 1481.64 L2109.27 1485.58 L2087.32 1485.58 L2087.32 1481.64 Q2089.98 1478.89 2094.57 1474.26 Q2099.17 1469.61 2100.36 1468.27 Q2102.6 1465.74 2103.48 1464.01 Q2104.38 1462.25 2104.38 1460.56 Q2104.38 1457.8 2102.44 1456.07 Q2100.52 1454.33 2097.42 1454.33 Q2095.22 1454.33 2092.76 1455.09 Q2090.33 1455.86 2087.55 1457.41 L2087.55 1452.69 Q2090.38 1451.55 2092.83 1450.97 Q2095.29 1450.39 2097.32 1450.39 Q2102.69 1450.39 2105.89 1453.08 Q2109.08 1455.77 2109.08 1460.26 Q2109.08 1462.39 2108.27 1464.31 Q2107.48 1466.2 2105.38 1468.8 Q2104.8 1469.47 2101.7 1472.69 Q2098.6 1475.88 2092.95 1481.64 Z\" fill=\"#000000\" fill-rule=\"evenodd\" fill-opacity=\"1\" /><path clip-path=\"url(#clip040)\" d=\"M2119.08 1479.7 L2123.97 1479.7 L2123.97 1485.58 L2119.08 1485.58 L2119.08 1479.7 Z\" fill=\"#000000\" fill-rule=\"evenodd\" fill-opacity=\"1\" /><path clip-path=\"url(#clip040)\" d=\"M2134.2 1451.02 L2152.55 1451.02 L2152.55 1454.96 L2138.48 1454.96 L2138.48 1463.43 Q2139.5 1463.08 2140.52 1462.92 Q2141.54 1462.73 2142.55 1462.73 Q2148.34 1462.73 2151.72 1465.9 Q2155.1 1469.08 2155.1 1474.49 Q2155.1 1480.07 2151.63 1483.17 Q2148.16 1486.25 2141.84 1486.25 Q2139.66 1486.25 2137.39 1485.88 Q2135.15 1485.51 2132.74 1484.77 L2132.74 1480.07 Q2134.82 1481.2 2137.04 1481.76 Q2139.27 1482.32 2141.74 1482.32 Q2145.75 1482.32 2148.09 1480.21 Q2150.42 1478.1 2150.42 1474.49 Q2150.42 1470.88 2148.09 1468.77 Q2145.75 1466.67 2141.74 1466.67 Q2139.87 1466.67 2137.99 1467.08 Q2136.14 1467.5 2134.2 1468.38 L2134.2 1451.02 Z\" fill=\"#000000\" fill-rule=\"evenodd\" fill-opacity=\"1\" /><path clip-path=\"url(#clip040)\" d=\"M1267.77 1522.27 L1267.77 1532.4 L1279.83 1532.4 L1279.83 1536.95 L1267.77 1536.95 L1267.77 1556.3 Q1267.77 1560.66 1268.95 1561.9 Q1270.16 1563.14 1273.82 1563.14 L1279.83 1563.14 L1279.83 1568.04 L1273.82 1568.04 Q1267.04 1568.04 1264.46 1565.53 Q1261.88 1562.98 1261.88 1556.3 L1261.88 1536.95 L1257.58 1536.95 L1257.58 1532.4 L1261.88 1532.4 L1261.88 1522.27 L1267.77 1522.27 Z\" fill=\"#000000\" fill-rule=\"evenodd\" fill-opacity=\"1\" /><path clip-path=\"url(#clip040)\" d=\"M1287.54 1532.4 L1293.39 1532.4 L1293.39 1568.04 L1287.54 1568.04 L1287.54 1532.4 M1287.54 1518.52 L1293.39 1518.52 L1293.39 1525.93 L1287.54 1525.93 L1287.54 1518.52 Z\" fill=\"#000000\" fill-rule=\"evenodd\" fill-opacity=\"1\" /><path clip-path=\"url(#clip040)\" d=\"M1333.4 1539.24 Q1335.6 1535.29 1338.65 1533.41 Q1341.71 1531.54 1345.84 1531.54 Q1351.41 1531.54 1354.44 1535.45 Q1357.46 1539.33 1357.46 1546.53 L1357.46 1568.04 L1351.57 1568.04 L1351.57 1546.72 Q1351.57 1541.59 1349.76 1539.11 Q1347.95 1536.63 1344.22 1536.63 Q1339.67 1536.63 1337.03 1539.65 Q1334.39 1542.68 1334.39 1547.9 L1334.39 1568.04 L1328.5 1568.04 L1328.5 1546.72 Q1328.5 1541.56 1326.68 1539.11 Q1324.87 1536.63 1321.08 1536.63 Q1316.59 1536.63 1313.95 1539.68 Q1311.31 1542.71 1311.31 1547.9 L1311.31 1568.04 L1305.42 1568.04 L1305.42 1532.4 L1311.31 1532.4 L1311.31 1537.93 Q1313.32 1534.66 1316.12 1533.1 Q1318.92 1531.54 1322.77 1531.54 Q1326.65 1531.54 1329.36 1533.51 Q1332.09 1535.48 1333.4 1539.24 Z\" fill=\"#000000\" fill-rule=\"evenodd\" fill-opacity=\"1\" /><path clip-path=\"url(#clip040)\" d=\"M1399.64 1548.76 L1399.64 1551.62 L1372.71 1551.62 Q1373.09 1557.67 1376.34 1560.85 Q1379.61 1564 1385.44 1564 Q1388.81 1564 1391.96 1563.17 Q1395.15 1562.35 1398.27 1560.69 L1398.27 1566.23 Q1395.12 1567.57 1391.81 1568.27 Q1388.5 1568.97 1385.09 1568.97 Q1376.56 1568.97 1371.56 1564 Q1366.6 1559.04 1366.6 1550.57 Q1366.6 1541.82 1371.31 1536.69 Q1376.05 1531.54 1384.07 1531.54 Q1391.26 1531.54 1395.43 1536.18 Q1399.64 1540.8 1399.64 1548.76 M1393.78 1547.04 Q1393.72 1542.23 1391.07 1539.37 Q1388.46 1536.5 1384.13 1536.5 Q1379.23 1536.5 1376.27 1539.27 Q1373.34 1542.04 1372.9 1547.07 L1393.78 1547.04 Z\" fill=\"#000000\" fill-rule=\"evenodd\" fill-opacity=\"1\" /><path clip-path=\"url(#clip040)\" d=\"M1444.04 1518.58 Q1439.77 1525.9 1437.7 1533.06 Q1435.63 1540.23 1435.63 1547.58 Q1435.63 1554.93 1437.7 1562.16 Q1439.8 1569.35 1444.04 1576.64 L1438.94 1576.64 Q1434.17 1569.16 1431.78 1561.93 Q1429.43 1554.71 1429.43 1547.58 Q1429.43 1540.48 1431.78 1533.29 Q1434.14 1526.09 1438.94 1518.58 L1444.04 1518.58 Z\" fill=\"#000000\" fill-rule=\"evenodd\" fill-opacity=\"1\" /><path clip-path=\"url(#clip040)\" d=\"M1478.12 1533.45 L1478.12 1538.98 Q1475.64 1537.71 1472.97 1537.07 Q1470.29 1536.44 1467.43 1536.44 Q1463.07 1536.44 1460.87 1537.77 Q1458.71 1539.11 1458.71 1541.79 Q1458.71 1543.82 1460.27 1545 Q1461.83 1546.15 1466.54 1547.2 L1468.54 1547.64 Q1474.78 1548.98 1477.39 1551.43 Q1480.03 1553.85 1480.03 1558.21 Q1480.03 1563.17 1476.09 1566.07 Q1472.17 1568.97 1465.3 1568.97 Q1462.43 1568.97 1459.31 1568.39 Q1456.23 1567.85 1452.79 1566.74 L1452.79 1560.69 Q1456.04 1562.38 1459.19 1563.24 Q1462.34 1564.07 1465.42 1564.07 Q1469.56 1564.07 1471.79 1562.66 Q1474.02 1561.23 1474.02 1558.65 Q1474.02 1556.27 1472.4 1554.99 Q1470.8 1553.72 1465.36 1552.54 L1463.32 1552.07 Q1457.88 1550.92 1455.46 1548.56 Q1453.04 1546.18 1453.04 1542.04 Q1453.04 1537.01 1456.61 1534.27 Q1460.17 1531.54 1466.73 1531.54 Q1469.98 1531.54 1472.84 1532.01 Q1475.71 1532.49 1478.12 1533.45 Z\" fill=\"#000000\" fill-rule=\"evenodd\" fill-opacity=\"1\" /><path clip-path=\"url(#clip040)\" d=\"M1488.44 1518.58 L1493.53 1518.58 Q1498.3 1526.09 1500.66 1533.29 Q1503.05 1540.48 1503.05 1547.58 Q1503.05 1554.71 1500.66 1561.93 Q1498.3 1569.16 1493.53 1576.64 L1488.44 1576.64 Q1492.67 1569.35 1494.74 1562.16 Q1496.84 1554.93 1496.84 1547.58 Q1496.84 1540.23 1494.74 1533.06 Q1492.67 1525.9 1488.44 1518.58 Z\" fill=\"#000000\" fill-rule=\"evenodd\" fill-opacity=\"1\" /><polyline clip-path=\"url(#clip042)\" style=\"stroke:#000000; stroke-linecap:round; stroke-linejoin:round; stroke-width:2; stroke-opacity:0.1; fill:none\" points=\"407.875,1355.27 2352.76,1355.27 \"/>\n",
       "<polyline clip-path=\"url(#clip042)\" style=\"stroke:#000000; stroke-linecap:round; stroke-linejoin:round; stroke-width:2; stroke-opacity:0.1; fill:none\" points=\"407.875,1175.34 2352.76,1175.34 \"/>\n",
       "<polyline clip-path=\"url(#clip042)\" style=\"stroke:#000000; stroke-linecap:round; stroke-linejoin:round; stroke-width:2; stroke-opacity:0.1; fill:none\" points=\"407.875,995.397 2352.76,995.397 \"/>\n",
       "<polyline clip-path=\"url(#clip042)\" style=\"stroke:#000000; stroke-linecap:round; stroke-linejoin:round; stroke-width:2; stroke-opacity:0.1; fill:none\" points=\"407.875,815.459 2352.76,815.459 \"/>\n",
       "<polyline clip-path=\"url(#clip042)\" style=\"stroke:#000000; stroke-linecap:round; stroke-linejoin:round; stroke-width:2; stroke-opacity:0.1; fill:none\" points=\"407.875,635.52 2352.76,635.52 \"/>\n",
       "<polyline clip-path=\"url(#clip042)\" style=\"stroke:#000000; stroke-linecap:round; stroke-linejoin:round; stroke-width:2; stroke-opacity:0.1; fill:none\" points=\"407.875,455.581 2352.76,455.581 \"/>\n",
       "<polyline clip-path=\"url(#clip042)\" style=\"stroke:#000000; stroke-linecap:round; stroke-linejoin:round; stroke-width:2; stroke-opacity:0.1; fill:none\" points=\"407.875,275.643 2352.76,275.643 \"/>\n",
       "<polyline clip-path=\"url(#clip040)\" style=\"stroke:#000000; stroke-linecap:round; stroke-linejoin:round; stroke-width:4; stroke-opacity:1; fill:none\" points=\"407.875,1423.18 407.875,123.472 \"/>\n",
       "<polyline clip-path=\"url(#clip040)\" style=\"stroke:#000000; stroke-linecap:round; stroke-linejoin:round; stroke-width:4; stroke-opacity:1; fill:none\" points=\"407.875,1355.27 426.772,1355.27 \"/>\n",
       "<polyline clip-path=\"url(#clip040)\" style=\"stroke:#000000; stroke-linecap:round; stroke-linejoin:round; stroke-width:4; stroke-opacity:1; fill:none\" points=\"407.875,1175.34 426.772,1175.34 \"/>\n",
       "<polyline clip-path=\"url(#clip040)\" style=\"stroke:#000000; stroke-linecap:round; stroke-linejoin:round; stroke-width:4; stroke-opacity:1; fill:none\" points=\"407.875,995.397 426.772,995.397 \"/>\n",
       "<polyline clip-path=\"url(#clip040)\" style=\"stroke:#000000; stroke-linecap:round; stroke-linejoin:round; stroke-width:4; stroke-opacity:1; fill:none\" points=\"407.875,815.459 426.772,815.459 \"/>\n",
       "<polyline clip-path=\"url(#clip040)\" style=\"stroke:#000000; stroke-linecap:round; stroke-linejoin:round; stroke-width:4; stroke-opacity:1; fill:none\" points=\"407.875,635.52 426.772,635.52 \"/>\n",
       "<polyline clip-path=\"url(#clip040)\" style=\"stroke:#000000; stroke-linecap:round; stroke-linejoin:round; stroke-width:4; stroke-opacity:1; fill:none\" points=\"407.875,455.581 426.772,455.581 \"/>\n",
       "<polyline clip-path=\"url(#clip040)\" style=\"stroke:#000000; stroke-linecap:round; stroke-linejoin:round; stroke-width:4; stroke-opacity:1; fill:none\" points=\"407.875,275.643 426.772,275.643 \"/>\n",
       "<path clip-path=\"url(#clip040)\" d=\"M114.26 1362.17 L143.936 1362.17 L143.936 1366.11 L114.26 1366.11 L114.26 1362.17 Z\" fill=\"#000000\" fill-rule=\"evenodd\" fill-opacity=\"1\" /><path clip-path=\"url(#clip040)\" d=\"M152.848 1344.44 L175.07 1344.44 L175.07 1346.43 L162.524 1379 L157.64 1379 L169.445 1348.38 L152.848 1348.38 L152.848 1344.44 Z\" fill=\"#000000\" fill-rule=\"evenodd\" fill-opacity=\"1\" /><path clip-path=\"url(#clip040)\" d=\"M184.19 1373.12 L189.075 1373.12 L189.075 1379 L184.19 1379 L184.19 1373.12 Z\" fill=\"#000000\" fill-rule=\"evenodd\" fill-opacity=\"1\" /><path clip-path=\"url(#clip040)\" d=\"M199.306 1344.44 L217.662 1344.44 L217.662 1348.38 L203.588 1348.38 L203.588 1356.85 Q204.607 1356.5 205.625 1356.34 Q206.644 1356.16 207.662 1356.16 Q213.449 1356.16 216.829 1359.33 Q220.209 1362.5 220.209 1367.91 Q220.209 1373.49 216.736 1376.59 Q213.264 1379.67 206.945 1379.67 Q204.769 1379.67 202.5 1379.3 Q200.255 1378.93 197.848 1378.19 L197.848 1373.49 Q199.931 1374.63 202.153 1375.18 Q204.375 1375.74 206.852 1375.74 Q210.857 1375.74 213.195 1373.63 Q215.533 1371.53 215.533 1367.91 Q215.533 1364.3 213.195 1362.2 Q210.857 1360.09 206.852 1360.09 Q204.977 1360.09 203.102 1360.51 Q201.25 1360.92 199.306 1361.8 L199.306 1344.44 Z\" fill=\"#000000\" fill-rule=\"evenodd\" fill-opacity=\"1\" /><path clip-path=\"url(#clip040)\" d=\"M239.422 1347.52 Q235.81 1347.52 233.982 1351.09 Q232.176 1354.63 232.176 1361.76 Q232.176 1368.86 233.982 1372.43 Q235.81 1375.97 239.422 1375.97 Q243.056 1375.97 244.861 1372.43 Q246.69 1368.86 246.69 1361.76 Q246.69 1354.63 244.861 1351.09 Q243.056 1347.52 239.422 1347.52 M239.422 1343.82 Q245.232 1343.82 248.287 1348.42 Q251.366 1353.01 251.366 1361.76 Q251.366 1370.48 248.287 1375.09 Q245.232 1379.67 239.422 1379.67 Q233.611 1379.67 230.533 1375.09 Q227.477 1370.48 227.477 1361.76 Q227.477 1353.01 230.533 1348.42 Q233.611 1343.82 239.422 1343.82 Z\" fill=\"#000000\" fill-rule=\"evenodd\" fill-opacity=\"1\" /><path clip-path=\"url(#clip040)\" d=\"M287.755 1353.54 L277.176 1364.16 L287.755 1374.74 L285 1377.54 L274.375 1366.92 L263.75 1377.54 L261.019 1374.74 L271.574 1364.16 L261.019 1353.54 L263.75 1350.74 L274.375 1361.36 L285 1350.74 L287.755 1353.54 Z\" fill=\"#000000\" fill-rule=\"evenodd\" fill-opacity=\"1\" /><path clip-path=\"url(#clip040)\" d=\"M300.116 1375.07 L307.754 1375.07 L307.754 1348.7 L299.444 1350.37 L299.444 1346.11 L307.708 1344.44 L312.384 1344.44 L312.384 1375.07 L320.023 1375.07 L320.023 1379 L300.116 1379 L300.116 1375.07 Z\" fill=\"#000000\" fill-rule=\"evenodd\" fill-opacity=\"1\" /><path clip-path=\"url(#clip040)\" d=\"M339.467 1347.52 Q335.856 1347.52 334.027 1351.09 Q332.222 1354.63 332.222 1361.76 Q332.222 1368.86 334.027 1372.43 Q335.856 1375.97 339.467 1375.97 Q343.102 1375.97 344.907 1372.43 Q346.736 1368.86 346.736 1361.76 Q346.736 1354.63 344.907 1351.09 Q343.102 1347.52 339.467 1347.52 M339.467 1343.82 Q345.277 1343.82 348.333 1348.42 Q351.412 1353.01 351.412 1361.76 Q351.412 1370.48 348.333 1375.09 Q345.277 1379.67 339.467 1379.67 Q333.657 1379.67 330.578 1375.09 Q327.523 1370.48 327.523 1361.76 Q327.523 1353.01 330.578 1348.42 Q333.657 1343.82 339.467 1343.82 Z\" fill=\"#000000\" fill-rule=\"evenodd\" fill-opacity=\"1\" /><path clip-path=\"url(#clip040)\" d=\"M364.088 1326.82 L354.496 1341.81 L364.088 1341.81 L364.088 1326.82 M363.091 1323.51 L367.868 1323.51 L367.868 1341.81 L371.875 1341.81 L371.875 1344.97 L367.868 1344.97 L367.868 1351.59 L364.088 1351.59 L364.088 1344.97 L351.412 1344.97 L351.412 1341.3 L363.091 1323.51 Z\" fill=\"#000000\" fill-rule=\"evenodd\" fill-opacity=\"1\" /><path clip-path=\"url(#clip040)\" d=\"M114.26 1182.24 L143.936 1182.24 L143.936 1186.17 L114.26 1186.17 L114.26 1182.24 Z\" fill=\"#000000\" fill-rule=\"evenodd\" fill-opacity=\"1\" /><path clip-path=\"url(#clip040)\" d=\"M154.075 1164.5 L172.431 1164.5 L172.431 1168.44 L158.357 1168.44 L158.357 1176.91 Q159.376 1176.56 160.394 1176.4 Q161.413 1176.22 162.431 1176.22 Q168.218 1176.22 171.598 1179.39 Q174.977 1182.56 174.977 1187.98 Q174.977 1193.55 171.505 1196.66 Q168.033 1199.73 161.714 1199.73 Q159.538 1199.73 157.269 1199.36 Q155.024 1198.99 152.616 1198.25 L152.616 1193.55 Q154.7 1194.69 156.922 1195.24 Q159.144 1195.8 161.621 1195.8 Q165.626 1195.8 167.964 1193.69 Q170.302 1191.59 170.302 1187.98 Q170.302 1184.36 167.964 1182.26 Q165.626 1180.15 161.621 1180.15 Q159.746 1180.15 157.871 1180.57 Q156.019 1180.99 154.075 1181.86 L154.075 1164.5 Z\" fill=\"#000000\" fill-rule=\"evenodd\" fill-opacity=\"1\" /><path clip-path=\"url(#clip040)\" d=\"M184.19 1193.18 L189.075 1193.18 L189.075 1199.06 L184.19 1199.06 L184.19 1193.18 Z\" fill=\"#000000\" fill-rule=\"evenodd\" fill-opacity=\"1\" /><path clip-path=\"url(#clip040)\" d=\"M209.26 1167.58 Q205.649 1167.58 203.82 1171.15 Q202.014 1174.69 202.014 1181.82 Q202.014 1188.92 203.82 1192.49 Q205.649 1196.03 209.26 1196.03 Q212.894 1196.03 214.699 1192.49 Q216.528 1188.92 216.528 1181.82 Q216.528 1174.69 214.699 1171.15 Q212.894 1167.58 209.26 1167.58 M209.26 1163.88 Q215.07 1163.88 218.125 1168.49 Q221.204 1173.07 221.204 1181.82 Q221.204 1190.55 218.125 1195.15 Q215.07 1199.73 209.26 1199.73 Q203.449 1199.73 200.371 1195.15 Q197.315 1190.55 197.315 1181.82 Q197.315 1173.07 200.371 1168.49 Q203.449 1163.88 209.26 1163.88 Z\" fill=\"#000000\" fill-rule=\"evenodd\" fill-opacity=\"1\" /><path clip-path=\"url(#clip040)\" d=\"M239.422 1167.58 Q235.81 1167.58 233.982 1171.15 Q232.176 1174.69 232.176 1181.82 Q232.176 1188.92 233.982 1192.49 Q235.81 1196.03 239.422 1196.03 Q243.056 1196.03 244.861 1192.49 Q246.69 1188.92 246.69 1181.82 Q246.69 1174.69 244.861 1171.15 Q243.056 1167.58 239.422 1167.58 M239.422 1163.88 Q245.232 1163.88 248.287 1168.49 Q251.366 1173.07 251.366 1181.82 Q251.366 1190.55 248.287 1195.15 Q245.232 1199.73 239.422 1199.73 Q233.611 1199.73 230.533 1195.15 Q227.477 1190.55 227.477 1181.82 Q227.477 1173.07 230.533 1168.49 Q233.611 1163.88 239.422 1163.88 Z\" fill=\"#000000\" fill-rule=\"evenodd\" fill-opacity=\"1\" /><path clip-path=\"url(#clip040)\" d=\"M287.755 1173.6 L277.176 1184.23 L287.755 1194.8 L285 1197.61 L274.375 1186.98 L263.75 1197.61 L261.019 1194.8 L271.574 1184.23 L261.019 1173.6 L263.75 1170.8 L274.375 1181.42 L285 1170.8 L287.755 1173.6 Z\" fill=\"#000000\" fill-rule=\"evenodd\" fill-opacity=\"1\" /><path clip-path=\"url(#clip040)\" d=\"M300.116 1195.13 L307.754 1195.13 L307.754 1168.76 L299.444 1170.43 L299.444 1166.17 L307.708 1164.5 L312.384 1164.5 L312.384 1195.13 L320.023 1195.13 L320.023 1199.06 L300.116 1199.06 L300.116 1195.13 Z\" fill=\"#000000\" fill-rule=\"evenodd\" fill-opacity=\"1\" /><path clip-path=\"url(#clip040)\" d=\"M339.467 1167.58 Q335.856 1167.58 334.027 1171.15 Q332.222 1174.69 332.222 1181.82 Q332.222 1188.92 334.027 1192.49 Q335.856 1196.03 339.467 1196.03 Q343.102 1196.03 344.907 1192.49 Q346.736 1188.92 346.736 1181.82 Q346.736 1174.69 344.907 1171.15 Q343.102 1167.58 339.467 1167.58 M339.467 1163.88 Q345.277 1163.88 348.333 1168.49 Q351.412 1173.07 351.412 1181.82 Q351.412 1190.55 348.333 1195.15 Q345.277 1199.73 339.467 1199.73 Q333.657 1199.73 330.578 1195.15 Q327.523 1190.55 327.523 1181.82 Q327.523 1173.07 330.578 1168.49 Q333.657 1163.88 339.467 1163.88 Z\" fill=\"#000000\" fill-rule=\"evenodd\" fill-opacity=\"1\" /><path clip-path=\"url(#clip040)\" d=\"M364.088 1146.88 L354.496 1161.87 L364.088 1161.87 L364.088 1146.88 M363.091 1143.57 L367.868 1143.57 L367.868 1161.87 L371.875 1161.87 L371.875 1165.03 L367.868 1165.03 L367.868 1171.65 L364.088 1171.65 L364.088 1165.03 L351.412 1165.03 L351.412 1161.37 L363.091 1143.57 Z\" fill=\"#000000\" fill-rule=\"evenodd\" fill-opacity=\"1\" /><path clip-path=\"url(#clip040)\" d=\"M114.26 1002.3 L143.936 1002.3 L143.936 1006.23 L114.26 1006.23 L114.26 1002.3 Z\" fill=\"#000000\" fill-rule=\"evenodd\" fill-opacity=\"1\" /><path clip-path=\"url(#clip040)\" d=\"M158.056 1015.19 L174.376 1015.19 L174.376 1019.12 L152.431 1019.12 L152.431 1015.19 Q155.093 1012.44 159.677 1007.81 Q164.283 1003.15 165.464 1001.81 Q167.709 999.287 168.589 997.551 Q169.491 995.792 169.491 994.102 Q169.491 991.347 167.547 989.611 Q165.626 987.875 162.524 987.875 Q160.325 987.875 157.871 988.639 Q155.44 989.403 152.663 990.954 L152.663 986.232 Q155.487 985.097 157.94 984.519 Q160.394 983.94 162.431 983.94 Q167.802 983.94 170.996 986.625 Q174.19 989.31 174.19 993.801 Q174.19 995.931 173.38 997.852 Q172.593 999.75 170.487 1002.34 Q169.908 1003.01 166.806 1006.23 Q163.704 1009.43 158.056 1015.19 Z\" fill=\"#000000\" fill-rule=\"evenodd\" fill-opacity=\"1\" /><path clip-path=\"url(#clip040)\" d=\"M184.19 1013.25 L189.075 1013.25 L189.075 1019.12 L184.19 1019.12 L184.19 1013.25 Z\" fill=\"#000000\" fill-rule=\"evenodd\" fill-opacity=\"1\" /><path clip-path=\"url(#clip040)\" d=\"M199.306 984.565 L217.662 984.565 L217.662 988.5 L203.588 988.5 L203.588 996.972 Q204.607 996.625 205.625 996.463 Q206.644 996.278 207.662 996.278 Q213.449 996.278 216.829 999.449 Q220.209 1002.62 220.209 1008.04 Q220.209 1013.62 216.736 1016.72 Q213.264 1019.8 206.945 1019.8 Q204.769 1019.8 202.5 1019.43 Q200.255 1019.06 197.848 1018.31 L197.848 1013.62 Q199.931 1014.75 202.153 1015.31 Q204.375 1015.86 206.852 1015.86 Q210.857 1015.86 213.195 1013.75 Q215.533 1011.65 215.533 1008.04 Q215.533 1004.43 213.195 1002.32 Q210.857 1000.21 206.852 1000.21 Q204.977 1000.21 203.102 1000.63 Q201.25 1001.05 199.306 1001.93 L199.306 984.565 Z\" fill=\"#000000\" fill-rule=\"evenodd\" fill-opacity=\"1\" /><path clip-path=\"url(#clip040)\" d=\"M239.422 987.644 Q235.81 987.644 233.982 991.208 Q232.176 994.75 232.176 1001.88 Q232.176 1008.99 233.982 1012.55 Q235.81 1016.09 239.422 1016.09 Q243.056 1016.09 244.861 1012.55 Q246.69 1008.99 246.69 1001.88 Q246.69 994.75 244.861 991.208 Q243.056 987.644 239.422 987.644 M239.422 983.94 Q245.232 983.94 248.287 988.546 Q251.366 993.13 251.366 1001.88 Q251.366 1010.61 248.287 1015.21 Q245.232 1019.8 239.422 1019.8 Q233.611 1019.8 230.533 1015.21 Q227.477 1010.61 227.477 1001.88 Q227.477 993.13 230.533 988.546 Q233.611 983.94 239.422 983.94 Z\" fill=\"#000000\" fill-rule=\"evenodd\" fill-opacity=\"1\" /><path clip-path=\"url(#clip040)\" d=\"M287.755 993.662 L277.176 1004.29 L287.755 1014.87 L285 1017.67 L274.375 1007.04 L263.75 1017.67 L261.019 1014.87 L271.574 1004.29 L261.019 993.662 L263.75 990.861 L274.375 1001.49 L285 990.861 L287.755 993.662 Z\" fill=\"#000000\" fill-rule=\"evenodd\" fill-opacity=\"1\" /><path clip-path=\"url(#clip040)\" d=\"M300.116 1015.19 L307.754 1015.19 L307.754 988.824 L299.444 990.491 L299.444 986.232 L307.708 984.565 L312.384 984.565 L312.384 1015.19 L320.023 1015.19 L320.023 1019.12 L300.116 1019.12 L300.116 1015.19 Z\" fill=\"#000000\" fill-rule=\"evenodd\" fill-opacity=\"1\" /><path clip-path=\"url(#clip040)\" d=\"M339.467 987.644 Q335.856 987.644 334.027 991.208 Q332.222 994.75 332.222 1001.88 Q332.222 1008.99 334.027 1012.55 Q335.856 1016.09 339.467 1016.09 Q343.102 1016.09 344.907 1012.55 Q346.736 1008.99 346.736 1001.88 Q346.736 994.75 344.907 991.208 Q343.102 987.644 339.467 987.644 M339.467 983.94 Q345.277 983.94 348.333 988.546 Q351.412 993.13 351.412 1001.88 Q351.412 1010.61 348.333 1015.21 Q345.277 1019.8 339.467 1019.8 Q333.657 1019.8 330.578 1015.21 Q327.523 1010.61 327.523 1001.88 Q327.523 993.13 330.578 988.546 Q333.657 983.94 339.467 983.94 Z\" fill=\"#000000\" fill-rule=\"evenodd\" fill-opacity=\"1\" /><path clip-path=\"url(#clip040)\" d=\"M364.088 966.945 L354.496 981.935 L364.088 981.935 L364.088 966.945 M363.091 963.635 L367.868 963.635 L367.868 981.935 L371.875 981.935 L371.875 985.094 L367.868 985.094 L367.868 991.715 L364.088 991.715 L364.088 985.094 L351.412 985.094 L351.412 981.427 L363.091 963.635 Z\" fill=\"#000000\" fill-rule=\"evenodd\" fill-opacity=\"1\" /><path clip-path=\"url(#clip040)\" d=\"M359.93 801.257 Q356.319 801.257 354.49 804.822 Q352.685 808.364 352.685 815.493 Q352.685 822.6 354.49 826.165 Q356.319 829.706 359.93 829.706 Q363.564 829.706 365.37 826.165 Q367.199 822.6 367.199 815.493 Q367.199 808.364 365.37 804.822 Q363.564 801.257 359.93 801.257 M359.93 797.554 Q365.74 797.554 368.796 802.16 Q371.875 806.744 371.875 815.493 Q371.875 824.22 368.796 828.827 Q365.74 833.41 359.93 833.41 Q354.12 833.41 351.041 828.827 Q347.986 824.22 347.986 815.493 Q347.986 806.744 351.041 802.16 Q354.12 797.554 359.93 797.554 Z\" fill=\"#000000\" fill-rule=\"evenodd\" fill-opacity=\"1\" /><path clip-path=\"url(#clip040)\" d=\"M158.056 655.313 L174.376 655.313 L174.376 659.248 L152.431 659.248 L152.431 655.313 Q155.093 652.558 159.677 647.928 Q164.283 643.276 165.464 641.933 Q167.709 639.41 168.589 637.674 Q169.491 635.914 169.491 634.225 Q169.491 631.47 167.547 629.734 Q165.626 627.998 162.524 627.998 Q160.325 627.998 157.871 628.762 Q155.44 629.526 152.663 631.077 L152.663 626.354 Q155.487 625.22 157.94 624.641 Q160.394 624.063 162.431 624.063 Q167.802 624.063 170.996 626.748 Q174.19 629.433 174.19 633.924 Q174.19 636.053 173.38 637.975 Q172.593 639.873 170.487 642.465 Q169.908 643.137 166.806 646.354 Q163.704 649.549 158.056 655.313 Z\" fill=\"#000000\" fill-rule=\"evenodd\" fill-opacity=\"1\" /><path clip-path=\"url(#clip040)\" d=\"M184.19 653.368 L189.075 653.368 L189.075 659.248 L184.19 659.248 L184.19 653.368 Z\" fill=\"#000000\" fill-rule=\"evenodd\" fill-opacity=\"1\" /><path clip-path=\"url(#clip040)\" d=\"M199.306 624.688 L217.662 624.688 L217.662 628.623 L203.588 628.623 L203.588 637.095 Q204.607 636.748 205.625 636.586 Q206.644 636.401 207.662 636.401 Q213.449 636.401 216.829 639.572 Q220.209 642.743 220.209 648.16 Q220.209 653.738 216.736 656.84 Q213.264 659.919 206.945 659.919 Q204.769 659.919 202.5 659.549 Q200.255 659.178 197.848 658.438 L197.848 653.738 Q199.931 654.873 202.153 655.428 Q204.375 655.984 206.852 655.984 Q210.857 655.984 213.195 653.877 Q215.533 651.771 215.533 648.16 Q215.533 644.549 213.195 642.442 Q210.857 640.336 206.852 640.336 Q204.977 640.336 203.102 640.752 Q201.25 641.169 199.306 642.049 L199.306 624.688 Z\" fill=\"#000000\" fill-rule=\"evenodd\" fill-opacity=\"1\" /><path clip-path=\"url(#clip040)\" d=\"M239.422 627.766 Q235.81 627.766 233.982 631.331 Q232.176 634.873 232.176 642.002 Q232.176 649.109 233.982 652.674 Q235.81 656.215 239.422 656.215 Q243.056 656.215 244.861 652.674 Q246.69 649.109 246.69 642.002 Q246.69 634.873 244.861 631.331 Q243.056 627.766 239.422 627.766 M239.422 624.063 Q245.232 624.063 248.287 628.669 Q251.366 633.252 251.366 642.002 Q251.366 650.729 248.287 655.336 Q245.232 659.919 239.422 659.919 Q233.611 659.919 230.533 655.336 Q227.477 650.729 227.477 642.002 Q227.477 633.252 230.533 628.669 Q233.611 624.063 239.422 624.063 Z\" fill=\"#000000\" fill-rule=\"evenodd\" fill-opacity=\"1\" /><path clip-path=\"url(#clip040)\" d=\"M287.755 633.785 L277.176 644.41 L287.755 654.988 L285 657.789 L274.375 647.164 L263.75 657.789 L261.019 654.988 L271.574 644.41 L261.019 633.785 L263.75 630.984 L274.375 641.609 L285 630.984 L287.755 633.785 Z\" fill=\"#000000\" fill-rule=\"evenodd\" fill-opacity=\"1\" /><path clip-path=\"url(#clip040)\" d=\"M300.116 655.313 L307.754 655.313 L307.754 628.947 L299.444 630.614 L299.444 626.354 L307.708 624.688 L312.384 624.688 L312.384 655.313 L320.023 655.313 L320.023 659.248 L300.116 659.248 L300.116 655.313 Z\" fill=\"#000000\" fill-rule=\"evenodd\" fill-opacity=\"1\" /><path clip-path=\"url(#clip040)\" d=\"M339.467 627.766 Q335.856 627.766 334.027 631.331 Q332.222 634.873 332.222 642.002 Q332.222 649.109 334.027 652.674 Q335.856 656.215 339.467 656.215 Q343.102 656.215 344.907 652.674 Q346.736 649.109 346.736 642.002 Q346.736 634.873 344.907 631.331 Q343.102 627.766 339.467 627.766 M339.467 624.063 Q345.277 624.063 348.333 628.669 Q351.412 633.252 351.412 642.002 Q351.412 650.729 348.333 655.336 Q345.277 659.919 339.467 659.919 Q333.657 659.919 330.578 655.336 Q327.523 650.729 327.523 642.002 Q327.523 633.252 330.578 628.669 Q333.657 624.063 339.467 624.063 Z\" fill=\"#000000\" fill-rule=\"evenodd\" fill-opacity=\"1\" /><path clip-path=\"url(#clip040)\" d=\"M364.088 607.067 L354.496 622.057 L364.088 622.057 L364.088 607.067 M363.091 603.757 L367.868 603.757 L367.868 622.057 L371.875 622.057 L371.875 625.217 L367.868 625.217 L367.868 631.837 L364.088 631.837 L364.088 625.217 L351.412 625.217 L351.412 621.549 L363.091 603.757 Z\" fill=\"#000000\" fill-rule=\"evenodd\" fill-opacity=\"1\" /><path clip-path=\"url(#clip040)\" d=\"M154.075 444.749 L172.431 444.749 L172.431 448.684 L158.357 448.684 L158.357 457.156 Q159.376 456.809 160.394 456.647 Q161.413 456.462 162.431 456.462 Q168.218 456.462 171.598 459.633 Q174.977 462.805 174.977 468.221 Q174.977 473.8 171.505 476.902 Q168.033 479.98 161.714 479.98 Q159.538 479.98 157.269 479.61 Q155.024 479.24 152.616 478.499 L152.616 473.8 Q154.7 474.934 156.922 475.49 Q159.144 476.045 161.621 476.045 Q165.626 476.045 167.964 473.939 Q170.302 471.832 170.302 468.221 Q170.302 464.61 167.964 462.504 Q165.626 460.397 161.621 460.397 Q159.746 460.397 157.871 460.814 Q156.019 461.23 154.075 462.11 L154.075 444.749 Z\" fill=\"#000000\" fill-rule=\"evenodd\" fill-opacity=\"1\" /><path clip-path=\"url(#clip040)\" d=\"M184.19 473.429 L189.075 473.429 L189.075 479.309 L184.19 479.309 L184.19 473.429 Z\" fill=\"#000000\" fill-rule=\"evenodd\" fill-opacity=\"1\" /><path clip-path=\"url(#clip040)\" d=\"M209.26 447.828 Q205.649 447.828 203.82 451.393 Q202.014 454.934 202.014 462.064 Q202.014 469.17 203.82 472.735 Q205.649 476.277 209.26 476.277 Q212.894 476.277 214.699 472.735 Q216.528 469.17 216.528 462.064 Q216.528 454.934 214.699 451.393 Q212.894 447.828 209.26 447.828 M209.26 444.124 Q215.07 444.124 218.125 448.731 Q221.204 453.314 221.204 462.064 Q221.204 470.791 218.125 475.397 Q215.07 479.98 209.26 479.98 Q203.449 479.98 200.371 475.397 Q197.315 470.791 197.315 462.064 Q197.315 453.314 200.371 448.731 Q203.449 444.124 209.26 444.124 Z\" fill=\"#000000\" fill-rule=\"evenodd\" fill-opacity=\"1\" /><path clip-path=\"url(#clip040)\" d=\"M239.422 447.828 Q235.81 447.828 233.982 451.393 Q232.176 454.934 232.176 462.064 Q232.176 469.17 233.982 472.735 Q235.81 476.277 239.422 476.277 Q243.056 476.277 244.861 472.735 Q246.69 469.17 246.69 462.064 Q246.69 454.934 244.861 451.393 Q243.056 447.828 239.422 447.828 M239.422 444.124 Q245.232 444.124 248.287 448.731 Q251.366 453.314 251.366 462.064 Q251.366 470.791 248.287 475.397 Q245.232 479.98 239.422 479.98 Q233.611 479.98 230.533 475.397 Q227.477 470.791 227.477 462.064 Q227.477 453.314 230.533 448.731 Q233.611 444.124 239.422 444.124 Z\" fill=\"#000000\" fill-rule=\"evenodd\" fill-opacity=\"1\" /><path clip-path=\"url(#clip040)\" d=\"M287.755 453.846 L277.176 464.471 L287.755 475.05 L285 477.851 L274.375 467.226 L263.75 477.851 L261.019 475.05 L271.574 464.471 L261.019 453.846 L263.75 451.045 L274.375 461.67 L285 451.045 L287.755 453.846 Z\" fill=\"#000000\" fill-rule=\"evenodd\" fill-opacity=\"1\" /><path clip-path=\"url(#clip040)\" d=\"M300.116 475.374 L307.754 475.374 L307.754 449.008 L299.444 450.675 L299.444 446.416 L307.708 444.749 L312.384 444.749 L312.384 475.374 L320.023 475.374 L320.023 479.309 L300.116 479.309 L300.116 475.374 Z\" fill=\"#000000\" fill-rule=\"evenodd\" fill-opacity=\"1\" /><path clip-path=\"url(#clip040)\" d=\"M339.467 447.828 Q335.856 447.828 334.027 451.393 Q332.222 454.934 332.222 462.064 Q332.222 469.17 334.027 472.735 Q335.856 476.277 339.467 476.277 Q343.102 476.277 344.907 472.735 Q346.736 469.17 346.736 462.064 Q346.736 454.934 344.907 451.393 Q343.102 447.828 339.467 447.828 M339.467 444.124 Q345.277 444.124 348.333 448.731 Q351.412 453.314 351.412 462.064 Q351.412 470.791 348.333 475.397 Q345.277 479.98 339.467 479.98 Q333.657 479.98 330.578 475.397 Q327.523 470.791 327.523 462.064 Q327.523 453.314 330.578 448.731 Q333.657 444.124 339.467 444.124 Z\" fill=\"#000000\" fill-rule=\"evenodd\" fill-opacity=\"1\" /><path clip-path=\"url(#clip040)\" d=\"M364.088 427.129 L354.496 442.119 L364.088 442.119 L364.088 427.129 M363.091 423.819 L367.868 423.819 L367.868 442.119 L371.875 442.119 L371.875 445.278 L367.868 445.278 L367.868 451.899 L364.088 451.899 L364.088 445.278 L351.412 445.278 L351.412 441.611 L363.091 423.819 Z\" fill=\"#000000\" fill-rule=\"evenodd\" fill-opacity=\"1\" /><path clip-path=\"url(#clip040)\" d=\"M152.848 264.81 L175.07 264.81 L175.07 266.801 L162.524 299.37 L157.64 299.37 L169.445 268.746 L152.848 268.746 L152.848 264.81 Z\" fill=\"#000000\" fill-rule=\"evenodd\" fill-opacity=\"1\" /><path clip-path=\"url(#clip040)\" d=\"M184.19 293.491 L189.075 293.491 L189.075 299.37 L184.19 299.37 L184.19 293.491 Z\" fill=\"#000000\" fill-rule=\"evenodd\" fill-opacity=\"1\" /><path clip-path=\"url(#clip040)\" d=\"M199.306 264.81 L217.662 264.81 L217.662 268.746 L203.588 268.746 L203.588 277.218 Q204.607 276.871 205.625 276.709 Q206.644 276.523 207.662 276.523 Q213.449 276.523 216.829 279.695 Q220.209 282.866 220.209 288.283 Q220.209 293.861 216.736 296.963 Q213.264 300.042 206.945 300.042 Q204.769 300.042 202.5 299.671 Q200.255 299.301 197.848 298.56 L197.848 293.861 Q199.931 294.995 202.153 295.551 Q204.375 296.107 206.852 296.107 Q210.857 296.107 213.195 294 Q215.533 291.894 215.533 288.283 Q215.533 284.671 213.195 282.565 Q210.857 280.458 206.852 280.458 Q204.977 280.458 203.102 280.875 Q201.25 281.292 199.306 282.171 L199.306 264.81 Z\" fill=\"#000000\" fill-rule=\"evenodd\" fill-opacity=\"1\" /><path clip-path=\"url(#clip040)\" d=\"M239.422 267.889 Q235.81 267.889 233.982 271.454 Q232.176 274.996 232.176 282.125 Q232.176 289.232 233.982 292.796 Q235.81 296.338 239.422 296.338 Q243.056 296.338 244.861 292.796 Q246.69 289.232 246.69 282.125 Q246.69 274.996 244.861 271.454 Q243.056 267.889 239.422 267.889 M239.422 264.185 Q245.232 264.185 248.287 268.792 Q251.366 273.375 251.366 282.125 Q251.366 290.852 248.287 295.458 Q245.232 300.042 239.422 300.042 Q233.611 300.042 230.533 295.458 Q227.477 290.852 227.477 282.125 Q227.477 273.375 230.533 268.792 Q233.611 264.185 239.422 264.185 Z\" fill=\"#000000\" fill-rule=\"evenodd\" fill-opacity=\"1\" /><path clip-path=\"url(#clip040)\" d=\"M287.755 273.908 L277.176 284.533 L287.755 295.111 L285 297.912 L274.375 287.287 L263.75 297.912 L261.019 295.111 L271.574 284.533 L261.019 273.908 L263.75 271.107 L274.375 281.732 L285 271.107 L287.755 273.908 Z\" fill=\"#000000\" fill-rule=\"evenodd\" fill-opacity=\"1\" /><path clip-path=\"url(#clip040)\" d=\"M300.116 295.435 L307.754 295.435 L307.754 269.07 L299.444 270.736 L299.444 266.477 L307.708 264.81 L312.384 264.81 L312.384 295.435 L320.023 295.435 L320.023 299.37 L300.116 299.37 L300.116 295.435 Z\" fill=\"#000000\" fill-rule=\"evenodd\" fill-opacity=\"1\" /><path clip-path=\"url(#clip040)\" d=\"M339.467 267.889 Q335.856 267.889 334.027 271.454 Q332.222 274.996 332.222 282.125 Q332.222 289.232 334.027 292.796 Q335.856 296.338 339.467 296.338 Q343.102 296.338 344.907 292.796 Q346.736 289.232 346.736 282.125 Q346.736 274.996 344.907 271.454 Q343.102 267.889 339.467 267.889 M339.467 264.185 Q345.277 264.185 348.333 268.792 Q351.412 273.375 351.412 282.125 Q351.412 290.852 348.333 295.458 Q345.277 300.042 339.467 300.042 Q333.657 300.042 330.578 295.458 Q327.523 290.852 327.523 282.125 Q327.523 273.375 330.578 268.792 Q333.657 264.185 339.467 264.185 Z\" fill=\"#000000\" fill-rule=\"evenodd\" fill-opacity=\"1\" /><path clip-path=\"url(#clip040)\" d=\"M364.088 247.19 L354.496 262.18 L364.088 262.18 L364.088 247.19 M363.091 243.88 L367.868 243.88 L367.868 262.18 L371.875 262.18 L371.875 265.34 L367.868 265.34 L367.868 271.96 L364.088 271.96 L364.088 265.34 L351.412 265.34 L351.412 261.672 L363.091 243.88 Z\" fill=\"#000000\" fill-rule=\"evenodd\" fill-opacity=\"1\" /><path clip-path=\"url(#clip040)\" d=\"M28.3562 756.711 L45.7028 769.602 L64.0042 756.043 L64.0042 762.95 L49.9996 773.326 L64.0042 783.702 L64.0042 790.609 L45.3526 776.763 L28.3562 789.431 L28.3562 782.524 L41.0558 773.071 L28.3562 763.618 L28.3562 756.711 Z\" fill=\"#000000\" fill-rule=\"evenodd\" fill-opacity=\"1\" /><path clip-path=\"url(#clip040)\" d=\"M1038.36 14.0809 L1038.36 22.0612 Q1033.7 19.8332 1029.57 18.7395 Q1025.44 17.6457 1021.59 17.6457 Q1014.9 17.6457 1011.26 20.2383 Q1007.65 22.8309 1007.65 27.611 Q1007.65 31.6214 1010.04 33.6873 Q1012.47 35.7128 1019.2 36.9686 L1024.14 37.9813 Q1033.29 39.7232 1037.63 44.1387 Q1042 48.5136 1042 55.8863 Q1042 64.6767 1036.09 69.2137 Q1030.22 73.7508 1018.83 73.7508 Q1014.54 73.7508 1009.68 72.7785 Q1004.86 71.8063 999.672 69.9024 L999.672 61.4765 Q1004.65 64.2716 1009.43 65.6895 Q1014.21 67.1073 1018.83 67.1073 Q1025.84 67.1073 1029.65 64.3527 Q1033.46 61.598 1033.46 56.4939 Q1033.46 52.0379 1030.7 49.5264 Q1027.99 47.0148 1021.75 45.759 L1016.77 44.7868 Q1007.61 42.9639 1003.52 39.075 Q999.429 35.1862 999.429 28.2591 Q999.429 20.2383 1005.06 15.6203 Q1010.73 11.0023 1020.66 11.0023 Q1024.91 11.0023 1029.32 11.7719 Q1033.74 12.5416 1038.36 14.0809 Z\" fill=\"#000000\" fill-rule=\"evenodd\" fill-opacity=\"1\" /><path clip-path=\"url(#clip040)\" d=\"M1061.81 14.324 L1061.81 27.2059 L1077.17 27.2059 L1077.17 32.9987 L1061.81 32.9987 L1061.81 57.6282 Q1061.81 63.1779 1063.31 64.7578 Q1064.85 66.3376 1069.51 66.3376 L1077.17 66.3376 L1077.17 72.576 L1069.51 72.576 Q1060.88 72.576 1057.6 69.3758 Q1054.32 66.1351 1054.32 57.6282 L1054.32 32.9987 L1048.85 32.9987 L1048.85 27.2059 L1054.32 27.2059 L1054.32 14.324 L1061.81 14.324 Z\" fill=\"#000000\" fill-rule=\"evenodd\" fill-opacity=\"1\" /><path clip-path=\"url(#clip040)\" d=\"M1107.59 49.7694 Q1098.55 49.7694 1095.07 51.8354 Q1091.59 53.9013 1091.59 58.8839 Q1091.59 62.8538 1094.18 65.2034 Q1096.81 67.5124 1101.31 67.5124 Q1107.51 67.5124 1111.23 63.1374 Q1115 58.7219 1115 51.4303 L1115 49.7694 L1107.59 49.7694 M1122.45 46.6907 L1122.45 72.576 L1115 72.576 L1115 65.6895 Q1112.45 69.8214 1108.64 71.8063 Q1104.83 73.7508 1099.32 73.7508 Q1092.36 73.7508 1088.22 69.8619 Q1084.13 65.9325 1084.13 59.3701 Q1084.13 51.7138 1089.24 47.825 Q1094.38 43.9361 1104.55 43.9361 L1115 43.9361 L1115 43.2069 Q1115 38.0623 1111.6 35.2672 Q1108.24 32.4315 1102.12 32.4315 Q1098.23 32.4315 1094.54 33.3632 Q1090.86 34.295 1087.46 36.1584 L1087.46 29.2718 Q1091.55 27.692 1095.39 26.9223 Q1099.24 26.1121 1102.89 26.1121 Q1112.73 26.1121 1117.59 31.2163 Q1122.45 36.3204 1122.45 46.6907 Z\" fill=\"#000000\" fill-rule=\"evenodd\" fill-opacity=\"1\" /><path clip-path=\"url(#clip040)\" d=\"M1145.18 14.324 L1145.18 27.2059 L1160.53 27.2059 L1160.53 32.9987 L1145.18 32.9987 L1145.18 57.6282 Q1145.18 63.1779 1146.68 64.7578 Q1148.22 66.3376 1152.88 66.3376 L1160.53 66.3376 L1160.53 72.576 L1152.88 72.576 Q1144.25 72.576 1140.97 69.3758 Q1137.69 66.1351 1137.69 57.6282 L1137.69 32.9987 L1132.22 32.9987 L1132.22 27.2059 L1137.69 27.2059 L1137.69 14.324 L1145.18 14.324 Z\" fill=\"#000000\" fill-rule=\"evenodd\" fill-opacity=\"1\" /><path clip-path=\"url(#clip040)\" d=\"M1209.14 48.0275 L1209.14 51.6733 L1174.87 51.6733 Q1175.36 59.3701 1179.49 63.421 Q1183.66 67.4314 1191.08 67.4314 Q1195.37 67.4314 1199.38 66.3781 Q1203.43 65.3249 1207.4 63.2184 L1207.4 70.267 Q1203.39 71.9684 1199.18 72.8596 Q1194.97 73.7508 1190.63 73.7508 Q1179.78 73.7508 1173.42 67.4314 Q1167.1 61.1119 1167.1 50.3365 Q1167.1 39.1965 1173.09 32.6746 Q1179.13 26.1121 1189.34 26.1121 Q1198.49 26.1121 1203.8 32.0264 Q1209.14 37.9003 1209.14 48.0275 M1201.69 45.84 Q1201.61 39.7232 1198.25 36.0774 Q1194.93 32.4315 1189.42 32.4315 Q1183.18 32.4315 1179.41 35.9558 Q1175.68 39.4801 1175.12 45.8805 L1201.69 45.84 Z\" fill=\"#000000\" fill-rule=\"evenodd\" fill-opacity=\"1\" /><path clip-path=\"url(#clip040)\" d=\"M1248.07 12.096 L1286.31 12.096 L1286.31 18.9825 L1256.26 18.9825 L1256.26 36.8875 L1285.06 36.8875 L1285.06 43.7741 L1256.26 43.7741 L1256.26 65.6895 L1287.04 65.6895 L1287.04 72.576 L1248.07 72.576 L1248.07 12.096 Z\" fill=\"#000000\" fill-rule=\"evenodd\" fill-opacity=\"1\" /><path clip-path=\"url(#clip040)\" d=\"M1326.46 34.1734 Q1325.2 33.4443 1323.7 33.1202 Q1322.25 32.7556 1320.46 32.7556 Q1314.14 32.7556 1310.74 36.8875 Q1307.38 40.9789 1307.38 48.6757 L1307.38 72.576 L1299.88 72.576 L1299.88 27.2059 L1307.38 27.2059 L1307.38 34.2544 Q1309.73 30.1225 1313.5 28.1376 Q1317.26 26.1121 1322.65 26.1121 Q1323.42 26.1121 1324.35 26.2337 Q1325.28 26.3147 1326.42 26.5172 L1326.46 34.1734 Z\" fill=\"#000000\" fill-rule=\"evenodd\" fill-opacity=\"1\" /><path clip-path=\"url(#clip040)\" d=\"M1359.11 34.1734 Q1357.85 33.4443 1356.35 33.1202 Q1354.9 32.7556 1353.11 32.7556 Q1346.79 32.7556 1343.39 36.8875 Q1340.03 40.9789 1340.03 48.6757 L1340.03 72.576 L1332.53 72.576 L1332.53 27.2059 L1340.03 27.2059 L1340.03 34.2544 Q1342.38 30.1225 1346.15 28.1376 Q1349.91 26.1121 1355.3 26.1121 Q1356.07 26.1121 1357 26.2337 Q1357.93 26.3147 1359.07 26.5172 L1359.11 34.1734 Z\" fill=\"#000000\" fill-rule=\"evenodd\" fill-opacity=\"1\" /><path clip-path=\"url(#clip040)\" d=\"M1382.68 32.4315 Q1376.69 32.4315 1373.21 37.1306 Q1369.72 41.7891 1369.72 49.9314 Q1369.72 58.0738 1373.17 62.7728 Q1376.65 67.4314 1382.68 67.4314 Q1388.64 67.4314 1392.12 62.7323 Q1395.61 58.0333 1395.61 49.9314 Q1395.61 41.8701 1392.12 37.1711 Q1388.64 32.4315 1382.68 32.4315 M1382.68 26.1121 Q1392.41 26.1121 1397.96 32.4315 Q1403.51 38.7509 1403.51 49.9314 Q1403.51 61.0714 1397.96 67.4314 Q1392.41 73.7508 1382.68 73.7508 Q1372.92 73.7508 1367.37 67.4314 Q1361.86 61.0714 1361.86 49.9314 Q1361.86 38.7509 1367.37 32.4315 Q1372.92 26.1121 1382.68 26.1121 Z\" fill=\"#000000\" fill-rule=\"evenodd\" fill-opacity=\"1\" /><path clip-path=\"url(#clip040)\" d=\"M1442.15 34.1734 Q1440.9 33.4443 1439.4 33.1202 Q1437.94 32.7556 1436.16 32.7556 Q1429.84 32.7556 1426.43 36.8875 Q1423.07 40.9789 1423.07 48.6757 L1423.07 72.576 L1415.58 72.576 L1415.58 27.2059 L1423.07 27.2059 L1423.07 34.2544 Q1425.42 30.1225 1429.19 28.1376 Q1432.96 26.1121 1438.34 26.1121 Q1439.11 26.1121 1440.05 26.2337 Q1440.98 26.3147 1442.11 26.5172 L1442.15 34.1734 Z\" fill=\"#000000\" fill-rule=\"evenodd\" fill-opacity=\"1\" /><path clip-path=\"url(#clip040)\" d=\"M1476.67 12.096 L1484.85 12.096 L1484.85 36.8875 L1514.58 36.8875 L1514.58 12.096 L1522.77 12.096 L1522.77 72.576 L1514.58 72.576 L1514.58 43.7741 L1484.85 43.7741 L1484.85 72.576 L1476.67 72.576 L1476.67 12.096 Z\" fill=\"#000000\" fill-rule=\"evenodd\" fill-opacity=\"1\" /><path clip-path=\"url(#clip040)\" d=\"M1538.73 27.2059 L1546.18 27.2059 L1546.18 72.576 L1538.73 72.576 L1538.73 27.2059 M1538.73 9.54393 L1546.18 9.54393 L1546.18 18.9825 L1538.73 18.9825 L1538.73 9.54393 Z\" fill=\"#000000\" fill-rule=\"evenodd\" fill-opacity=\"1\" /><path clip-path=\"url(#clip040)\" d=\"M1590.7 28.5427 L1590.7 35.5912 Q1587.54 33.9709 1584.14 33.1607 Q1580.73 32.3505 1577.09 32.3505 Q1571.54 32.3505 1568.74 34.0519 Q1565.99 35.7533 1565.99 39.156 Q1565.99 41.7486 1567.97 43.2475 Q1569.96 44.7058 1575.95 46.0426 L1578.51 46.6097 Q1586.45 48.3111 1589.77 51.4303 Q1593.13 54.509 1593.13 60.0587 Q1593.13 66.3781 1588.11 70.0644 Q1583.12 73.7508 1574.37 73.7508 Q1570.73 73.7508 1566.76 73.0216 Q1562.83 72.3329 1558.45 70.9151 L1558.45 63.2184 Q1562.59 65.3654 1566.6 66.4591 Q1570.61 67.5124 1574.54 67.5124 Q1579.8 67.5124 1582.64 65.73 Q1585.47 63.9071 1585.47 60.6258 Q1585.47 57.5877 1583.41 55.9673 Q1581.38 54.3469 1574.45 52.8481 L1571.86 52.2405 Q1564.94 50.7821 1561.86 47.7845 Q1558.78 44.7463 1558.78 39.4801 Q1558.78 33.0797 1563.31 29.5959 Q1567.85 26.1121 1576.2 26.1121 Q1580.33 26.1121 1583.97 26.7198 Q1587.62 27.3274 1590.7 28.5427 Z\" fill=\"#000000\" fill-rule=\"evenodd\" fill-opacity=\"1\" /><path clip-path=\"url(#clip040)\" d=\"M1612.37 14.324 L1612.37 27.2059 L1627.72 27.2059 L1627.72 32.9987 L1612.37 32.9987 L1612.37 57.6282 Q1612.37 63.1779 1613.87 64.7578 Q1615.41 66.3376 1620.07 66.3376 L1627.72 66.3376 L1627.72 72.576 L1620.07 72.576 Q1611.44 72.576 1608.16 69.3758 Q1604.88 66.1351 1604.88 57.6282 L1604.88 32.9987 L1599.41 32.9987 L1599.41 27.2059 L1604.88 27.2059 L1604.88 14.324 L1612.37 14.324 Z\" fill=\"#000000\" fill-rule=\"evenodd\" fill-opacity=\"1\" /><path clip-path=\"url(#clip040)\" d=\"M1655.11 32.4315 Q1649.11 32.4315 1645.63 37.1306 Q1642.15 41.7891 1642.15 49.9314 Q1642.15 58.0738 1645.59 62.7728 Q1649.07 67.4314 1655.11 67.4314 Q1661.06 67.4314 1664.55 62.7323 Q1668.03 58.0333 1668.03 49.9314 Q1668.03 41.8701 1664.55 37.1711 Q1661.06 32.4315 1655.11 32.4315 M1655.11 26.1121 Q1664.83 26.1121 1670.38 32.4315 Q1675.93 38.7509 1675.93 49.9314 Q1675.93 61.0714 1670.38 67.4314 Q1664.83 73.7508 1655.11 73.7508 Q1645.35 73.7508 1639.8 67.4314 Q1634.29 61.0714 1634.29 49.9314 Q1634.29 38.7509 1639.8 32.4315 Q1645.35 26.1121 1655.11 26.1121 Z\" fill=\"#000000\" fill-rule=\"evenodd\" fill-opacity=\"1\" /><path clip-path=\"url(#clip040)\" d=\"M1714.58 34.1734 Q1713.32 33.4443 1711.82 33.1202 Q1710.36 32.7556 1708.58 32.7556 Q1702.26 32.7556 1698.86 36.8875 Q1695.5 40.9789 1695.5 48.6757 L1695.5 72.576 L1688 72.576 L1688 27.2059 L1695.5 27.2059 L1695.5 34.2544 Q1697.85 30.1225 1701.61 28.1376 Q1705.38 26.1121 1710.77 26.1121 Q1711.54 26.1121 1712.47 26.2337 Q1713.4 26.3147 1714.54 26.5172 L1714.58 34.1734 Z\" fill=\"#000000\" fill-rule=\"evenodd\" fill-opacity=\"1\" /><path clip-path=\"url(#clip040)\" d=\"M1741.27 76.7889 Q1738.11 84.8907 1735.11 87.3618 Q1732.12 89.8329 1727.09 89.8329 L1721.14 89.8329 L1721.14 83.5945 L1725.51 83.5945 Q1728.59 83.5945 1730.29 82.1361 Q1731.99 80.6778 1734.06 75.2496 L1735.4 71.8468 L1717.05 27.2059 L1724.95 27.2059 L1739.12 62.6918 L1753.3 27.2059 L1761.2 27.2059 L1741.27 76.7889 Z\" fill=\"#000000\" fill-rule=\"evenodd\" fill-opacity=\"1\" /><polyline clip-path=\"url(#clip042)\" style=\"stroke:#009af9; stroke-linecap:round; stroke-linejoin:round; stroke-width:4; stroke-opacity:1; fill:none\" points=\"462.918,815.459 469.495,815.459 476.071,815.459 482.647,815.459 489.224,815.458 495.8,815.458 502.376,815.458 508.953,815.458 515.529,815.457 522.105,815.457 528.682,815.457 535.258,815.456 541.834,815.456 548.411,815.455 554.987,815.454 561.563,815.454 568.139,815.453 574.716,815.452 581.292,815.451 587.868,815.45 594.445,815.449 601.021,815.448 607.597,815.447 614.174,815.446 620.75,815.445 627.326,815.443 633.903,815.442 640.479,815.44 647.055,815.439 653.632,815.437 660.208,815.435 666.784,815.433 673.361,815.431 679.937,815.429 686.513,815.427 693.09,815.425 699.666,815.422 706.242,815.42 712.819,815.417 719.395,815.415 725.971,815.412 732.548,815.409 739.124,815.406 745.7,815.402 752.276,815.399 758.853,815.396 765.429,815.392 772.005,815.388 778.582,815.384 785.158,815.38 791.734,815.376 798.311,815.371 804.887,815.366 811.463,815.362 818.04,815.356 824.616,815.351 831.192,815.346 837.769,815.34 844.345,815.334 850.921,815.328 857.498,815.322 864.074,815.315 870.65,815.308 877.227,815.301 883.803,815.293 890.379,815.285 896.956,815.277 903.532,815.269 910.108,815.26 916.685,815.251 923.261,815.241 929.837,815.232 936.413,815.221 942.99,815.211 949.566,815.2 956.142,815.188 962.719,815.176 969.295,815.164 975.871,815.151 982.448,815.137 989.024,815.123 995.6,815.109 1002.18,815.094 1008.75,815.078 1015.33,815.062 1021.91,815.045 1028.48,815.028 1035.06,815.01 1041.63,814.991 1048.21,814.972 1054.79,814.951 1061.36,814.93 1067.94,814.909 1074.52,814.886 1081.09,814.862 1087.67,814.838 1094.25,814.812 1100.82,814.786 1107.4,814.759 1113.97,814.73 1120.55,814.701 1127.13,814.67 1133.7,814.638 1140.28,814.605 1146.86,814.571 1153.43,814.535 1160.01,814.498 1166.58,814.459 1173.16,814.42 1179.74,814.378 1186.31,814.335 1192.89,814.29 1199.47,814.244 1206.04,814.196 1212.62,814.146 1219.2,814.095 1225.77,814.041 1232.35,813.985 1238.92,813.927 1245.5,813.867 1252.08,813.805 1258.65,813.74 1265.23,813.673 1271.81,813.604 1278.38,813.532 1284.96,813.457 1291.53,813.379 1298.11,813.299 1304.69,813.215 1311.26,813.128 1317.84,813.038 1324.42,812.944 1330.99,812.847 1337.57,812.746 1344.15,812.641 1350.72,812.531 1357.3,812.418 1363.87,812.3 1370.45,812.178 1377.03,812.05 1383.6,811.919 1390.18,811.782 1396.76,811.641 1403.33,811.493 1409.91,811.341 1416.48,811.182 1423.06,811.017 1429.64,810.847 1436.21,810.669 1442.79,810.485 1449.37,810.293 1455.94,810.094 1462.52,809.887 1469.1,809.673 1475.67,809.45 1482.25,809.219 1488.82,808.979 1495.4,808.73 1501.98,808.472 1508.55,808.205 1515.13,807.927 1521.71,807.639 1528.28,807.339 1534.86,807.028 1541.44,806.705 1548.01,806.369 1554.59,806.02 1561.16,805.657 1567.74,805.28 1574.32,804.889 1580.89,804.483 1587.47,804.06 1594.05,803.621 1600.62,803.166 1607.2,802.692 1613.77,802.201 1620.35,801.692 1626.93,801.163 1633.5,800.614 1640.08,800.045 1646.66,799.454 1653.23,798.841 1659.81,798.205 1666.39,797.545 1672.96,796.862 1679.54,796.153 1686.11,795.416 1692.69,794.651 1699.27,793.856 1705.84,793.03 1712.42,792.172 1719,791.282 1725.57,790.359 1732.15,789.401 1738.72,788.406 1745.3,787.371 1751.88,786.297 1758.45,785.18 1765.03,784.022 1771.61,782.822 1778.18,781.575 1784.76,780.282 1791.34,778.94 1797.91,777.546 1804.49,776.098 1811.06,774.594 1817.64,773.032 1824.22,771.41 1830.79,769.725 1837.37,767.974 1843.95,766.156 1850.52,764.266 1857.1,762.304 1863.67,760.265 1870.25,758.147 1876.83,755.952 1883.4,753.675 1889.98,751.311 1896.56,748.861 1903.13,746.32 1909.71,743.681 1916.29,740.94 1922.86,738.093 1929.44,735.135 1936.01,732.064 1942.59,728.873 1949.17,725.56 1955.74,722.119 1962.32,718.545 1968.9,714.839 1975.47,710.995 1982.05,707.001 1988.62,702.852 1995.2,698.543 2001.78,694.067 2008.35,689.418 2014.93,684.587 2021.51,679.57 2028.08,674.367 2034.66,668.983 2041.24,663.399 2047.81,657.6 2054.39,651.577 2060.96,645.321 2067.54,638.823 2074.12,632.073 2080.69,625.062 2087.27,617.781 2093.85,610.218 2100.42,602.375 2107,594.244 2113.58,585.798 2120.15,577.024 2126.73,567.907 2133.3,558.435 2139.88,548.595 2146.46,538.371 2153.03,527.751 2159.61,516.723 2166.19,505.288 2172.76,493.452 2179.34,481.179 2185.91,468.431 2192.49,455.185 2199.07,441.42 2205.64,427.121 2212.22,412.269 2218.8,396.842 2225.37,380.847 2231.95,364.261 2238.53,347.033 2245.1,329.136 2251.68,310.575 2258.25,291.363 2264.83,271.479 2271.41,250.859 2277.98,229.438 2284.56,207.228 2291.14,184.193 2297.71,160.256 \"/>\n",
       "<polyline clip-path=\"url(#clip042)\" style=\"stroke:#e26f46; stroke-linecap:round; stroke-linejoin:round; stroke-width:4; stroke-opacity:1; fill:none\" points=\"462.918,815.459 469.495,815.459 476.071,815.459 482.647,815.459 489.224,815.459 495.8,815.459 502.376,815.459 508.953,815.46 515.529,815.46 522.105,815.46 528.682,815.461 535.258,815.461 541.834,815.462 548.411,815.462 554.987,815.463 561.563,815.463 568.139,815.464 574.716,815.465 581.292,815.465 587.868,815.466 594.445,815.467 601.021,815.468 607.597,815.469 614.174,815.47 620.75,815.471 627.326,815.473 633.903,815.474 640.479,815.475 647.055,815.477 653.632,815.478 660.208,815.48 666.784,815.481 673.361,815.483 679.937,815.485 686.513,815.487 693.09,815.489 699.666,815.491 706.242,815.493 712.819,815.495 719.395,815.498 725.971,815.5 732.548,815.503 739.124,815.506 745.7,815.508 752.276,815.511 758.853,815.514 765.429,815.518 772.005,815.521 778.582,815.524 785.158,815.528 791.734,815.532 798.311,815.536 804.887,815.54 811.463,815.544 818.04,815.549 824.616,815.553 831.192,815.558 837.769,815.563 844.345,815.568 850.921,815.574 857.498,815.579 864.074,815.585 870.65,815.591 877.227,815.598 883.803,815.604 890.379,815.611 896.956,815.618 903.532,815.625 910.108,815.633 916.685,815.641 923.261,815.649 929.837,815.658 936.413,815.667 942.99,815.676 949.566,815.686 956.142,815.696 962.719,815.706 969.295,815.717 975.871,815.729 982.448,815.74 989.024,815.752 995.6,815.765 1002.18,815.778 1008.75,815.792 1015.33,815.806 1021.91,815.821 1028.48,815.836 1035.06,815.851 1041.63,815.868 1048.21,815.885 1054.79,815.902 1061.36,815.921 1067.94,815.94 1074.52,815.96 1081.09,815.98 1087.67,816.002 1094.25,816.024 1100.82,816.047 1107.4,816.071 1113.97,816.095 1120.55,816.121 1127.13,816.148 1133.7,816.176 1140.28,816.205 1146.86,816.235 1153.43,816.266 1160.01,816.298 1166.58,816.332 1173.16,816.366 1179.74,816.402 1186.31,816.44 1192.89,816.479 1199.47,816.519 1206.04,816.561 1212.62,816.605 1219.2,816.65 1225.77,816.696 1232.35,816.745 1238.92,816.796 1245.5,816.848 1252.08,816.902 1258.65,816.959 1265.23,817.017 1271.81,817.078 1278.38,817.14 1284.96,817.205 1291.53,817.273 1298.11,817.343 1304.69,817.416 1311.26,817.492 1317.84,817.57 1324.42,817.652 1330.99,817.737 1337.57,817.825 1344.15,817.917 1350.72,818.012 1357.3,818.111 1363.87,818.214 1370.45,818.32 1377.03,818.431 1383.6,818.546 1390.18,818.665 1396.76,818.789 1403.33,818.917 1409.91,819.05 1416.48,819.188 1423.06,819.332 1429.64,819.48 1436.21,819.635 1442.79,819.796 1449.37,819.963 1455.94,820.136 1462.52,820.316 1469.1,820.504 1475.67,820.698 1482.25,820.899 1488.82,821.108 1495.4,821.325 1501.98,821.55 1508.55,821.782 1515.13,822.024 1521.71,822.276 1528.28,822.537 1534.86,822.808 1541.44,823.09 1548.01,823.383 1554.59,823.687 1561.16,824.003 1567.74,824.331 1574.32,824.672 1580.89,825.026 1587.47,825.394 1594.05,825.777 1600.62,826.174 1607.2,826.586 1613.77,827.014 1620.35,827.458 1626.93,827.918 1633.5,828.397 1640.08,828.893 1646.66,829.408 1653.23,829.942 1659.81,830.497 1666.39,831.071 1672.96,831.667 1679.54,832.285 1686.11,832.927 1692.69,833.593 1699.27,834.286 1705.84,835.006 1712.42,835.754 1719,836.529 1725.57,837.333 1732.15,838.168 1738.72,839.036 1745.3,839.937 1751.88,840.873 1758.45,841.846 1765.03,842.855 1771.61,843.901 1778.18,844.988 1784.76,846.115 1791.34,847.284 1797.91,848.498 1804.49,849.76 1811.06,851.07 1817.64,852.432 1824.22,853.845 1830.79,855.314 1837.37,856.839 1843.95,858.424 1850.52,860.07 1857.1,861.78 1863.67,863.557 1870.25,865.402 1876.83,867.315 1883.4,869.299 1889.98,871.359 1896.56,873.495 1903.13,875.709 1909.71,878.008 1916.29,880.396 1922.86,882.877 1929.44,885.455 1936.01,888.131 1942.59,890.911 1949.17,893.798 1955.74,896.797 1962.32,899.911 1968.9,903.141 1975.47,906.49 1982.05,909.97 1988.62,913.586 1995.2,917.341 2001.78,921.241 2008.35,925.292 2014.93,929.501 2021.51,933.874 2028.08,938.407 2034.66,943.099 2041.24,947.965 2047.81,953.018 2054.39,958.266 2060.96,963.717 2067.54,969.38 2074.12,975.261 2080.69,981.37 2087.27,987.716 2093.85,994.306 2100.42,1001.14 2107,1008.23 2113.58,1015.59 2120.15,1023.23 2126.73,1031.17 2133.3,1039.43 2139.88,1048 2146.46,1056.91 2153.03,1066.17 2159.61,1075.78 2166.19,1085.74 2172.76,1096.05 2179.34,1106.75 2185.91,1117.86 2192.49,1129.4 2199.07,1141.39 2205.64,1153.85 2212.22,1166.8 2218.8,1180.24 2225.37,1194.18 2231.95,1208.63 2238.53,1223.64 2245.1,1239.24 2251.68,1255.41 2258.25,1272.15 2264.83,1289.48 2271.41,1307.45 2277.98,1326.11 2284.56,1345.47 2291.14,1365.54 2297.71,1386.4 \"/>\n",
       "<polyline clip-path=\"url(#clip042)\" style=\"stroke:#3da44d; stroke-linecap:round; stroke-linejoin:round; stroke-width:4; stroke-opacity:1; fill:none\" points=\"462.918,815.459 469.495,815.459 476.071,815.459 482.647,815.459 489.224,815.459 495.8,815.459 502.376,815.459 508.953,815.459 515.529,815.458 522.105,815.458 528.682,815.458 535.258,815.458 541.834,815.458 548.411,815.458 554.987,815.458 561.563,815.458 568.139,815.457 574.716,815.457 581.292,815.457 587.868,815.457 594.445,815.457 601.021,815.456 607.597,815.456 614.174,815.456 620.75,815.456 627.326,815.455 633.903,815.455 640.479,815.455 647.055,815.454 653.632,815.454 660.208,815.453 666.784,815.453 673.361,815.452 679.937,815.452 686.513,815.451 693.09,815.451 699.666,815.45 706.242,815.45 712.819,815.449 719.395,815.448 725.971,815.448 732.548,815.447 739.124,815.446 745.7,815.446 752.276,815.445 758.853,815.444 765.429,815.443 772.005,815.442 778.582,815.441 785.158,815.44 791.734,815.439 798.311,815.438 804.887,815.437 811.463,815.436 818.04,815.434 824.616,815.433 831.192,815.432 837.769,815.43 844.345,815.429 850.921,815.427 857.498,815.426 864.074,815.424 870.65,815.422 877.227,815.42 883.803,815.419 890.379,815.417 896.956,815.415 903.532,815.413 910.108,815.41 916.685,815.408 923.261,815.406 929.837,815.403 936.413,815.401 942.99,815.398 949.566,815.395 956.142,815.392 962.719,815.389 969.295,815.386 975.871,815.383 982.448,815.38 989.024,815.376 995.6,815.373 1002.18,815.369 1008.75,815.365 1015.33,815.361 1021.91,815.357 1028.48,815.352 1035.06,815.348 1041.63,815.343 1048.21,815.338 1054.79,815.333 1061.36,815.327 1067.94,815.322 1074.52,815.316 1081.09,815.31 1087.67,815.304 1094.25,815.298 1100.82,815.291 1107.4,815.284 1113.97,815.277 1120.55,815.269 1127.13,815.262 1133.7,815.254 1140.28,815.245 1146.86,815.237 1153.43,815.228 1160.01,815.218 1166.58,815.209 1173.16,815.199 1179.74,815.188 1186.31,815.177 1192.89,815.166 1199.47,815.154 1206.04,815.142 1212.62,815.129 1219.2,815.116 1225.77,815.103 1232.35,815.089 1238.92,815.074 1245.5,815.059 1252.08,815.043 1258.65,815.026 1265.23,815.009 1271.81,814.992 1278.38,814.973 1284.96,814.954 1291.53,814.934 1298.11,814.914 1304.69,814.893 1311.26,814.871 1317.84,814.848 1324.42,814.824 1330.99,814.799 1337.57,814.774 1344.15,814.747 1350.72,814.719 1357.3,814.691 1363.87,814.661 1370.45,814.63 1377.03,814.598 1383.6,814.564 1390.18,814.53 1396.76,814.494 1403.33,814.457 1409.91,814.418 1416.48,814.378 1423.06,814.336 1429.64,814.293 1436.21,814.248 1442.79,814.201 1449.37,814.153 1455.94,814.102 1462.52,814.05 1469.1,813.996 1475.67,813.94 1482.25,813.881 1488.82,813.821 1495.4,813.758 1501.98,813.692 1508.55,813.624 1515.13,813.554 1521.71,813.481 1528.28,813.405 1534.86,813.326 1541.44,813.244 1548.01,813.159 1554.59,813.071 1561.16,812.98 1567.74,812.885 1574.32,812.786 1580.89,812.684 1587.47,812.577 1594.05,812.467 1600.62,812.352 1607.2,812.233 1613.77,812.109 1620.35,811.981 1626.93,811.847 1633.5,811.709 1640.08,811.565 1646.66,811.416 1653.23,811.261 1659.81,811.1 1666.39,810.933 1672.96,810.759 1679.54,810.579 1686.11,810.392 1692.69,810.198 1699.27,809.997 1705.84,809.788 1712.42,809.571 1719,809.345 1725.57,809.111 1732.15,808.869 1738.72,808.616 1745.3,808.355 1751.88,808.083 1758.45,807.801 1765.03,807.508 1771.61,807.204 1778.18,806.889 1784.76,806.561 1791.34,806.221 1797.91,805.868 1804.49,805.501 1811.06,805.121 1817.64,804.726 1824.22,804.316 1830.79,803.89 1837.37,803.448 1843.95,802.989 1850.52,802.512 1857.1,802.017 1863.67,801.504 1870.25,800.97 1876.83,800.416 1883.4,799.841 1889.98,799.244 1896.56,798.624 1903.13,797.98 1909.71,797.311 1916.29,796.618 1922.86,795.897 1929.44,795.15 1936.01,794.373 1942.59,793.567 1949.17,792.731 1955.74,791.862 1962.32,790.96 1968.9,790.023 1975.47,789.05 1982.05,788.041 1988.62,786.993 1995.2,785.904 2001.78,784.774 2008.35,783.601 2014.93,782.383 2021.51,781.118 2028.08,779.805 2034.66,778.441 2041.24,777.025 2047.81,775.555 2054.39,774.03 2060.96,772.446 2067.54,770.802 2074.12,769.095 2080.69,767.323 2087.27,765.483 2093.85,763.573 2100.42,761.589 2107,759.53 2113.58,757.393 2120.15,755.173 2126.73,752.869 2133.3,750.477 2139.88,747.994 2146.46,745.415 2153.03,742.737 2159.61,739.957 2166.19,737.07 2172.76,734.072 2179.34,730.961 2185.91,727.73 2192.49,724.377 2199.07,720.896 2205.64,717.281 2212.22,713.529 2218.8,709.633 2225.37,705.588 2231.95,701.388 2238.53,697.029 2245.1,692.503 2251.68,687.803 2258.25,682.925 2264.83,677.862 2271.41,672.607 2277.98,667.153 2284.56,661.493 2291.14,655.619 2297.71,649.524 \"/>\n",
       "<polyline clip-path=\"url(#clip042)\" style=\"stroke:#c271d2; stroke-linecap:round; stroke-linejoin:round; stroke-width:4; stroke-opacity:1; fill:none\" stroke-dasharray=\"16, 10\" points=\"462.918,815.459 469.495,815.458 476.071,815.457 482.647,815.456 489.224,815.455 495.8,815.454 502.376,815.454 508.953,815.453 515.529,815.452 522.105,815.451 528.682,815.45 535.258,815.449 541.834,815.448 548.411,815.447 554.987,815.445 561.563,815.444 568.139,815.443 574.716,815.442 581.292,815.441 587.868,815.439 594.445,815.438 601.021,815.437 607.597,815.435 614.174,815.434 620.75,815.432 627.326,815.431 633.903,815.429 640.479,815.428 647.055,815.426 653.632,815.424 660.208,815.422 666.784,815.42 673.361,815.418 679.937,815.416 686.513,815.415 693.09,815.412 699.666,815.41 706.242,815.408 712.819,815.405 719.395,815.403 725.971,815.401 732.548,815.398 739.124,815.395 745.7,815.392 752.276,815.39 758.853,815.387 765.429,815.384 772.005,815.381 778.582,815.377 785.158,815.374 791.734,815.37 798.311,815.367 804.887,815.363 811.463,815.359 818.04,815.355 824.616,815.351 831.192,815.347 837.769,815.342 844.345,815.338 850.921,815.333 857.498,815.328 864.074,815.323 870.65,815.317 877.227,815.311 883.803,815.305 890.379,815.3 896.956,815.293 903.532,815.287 910.108,815.28 916.685,815.273 923.261,815.265 929.837,815.258 936.413,815.25 942.99,815.242 949.566,815.233 956.142,815.224 962.719,815.215 969.295,815.205 975.871,815.195 982.448,815.186 989.024,815.175 995.6,815.164 1002.18,815.152 1008.75,815.14 1015.33,815.129 1021.91,815.117 1028.48,815.104 1035.06,815.091 1041.63,815.077 1048.21,815.062 1054.79,815.046 1061.36,815.03 1067.94,815.013 1074.52,814.996 1081.09,814.978 1087.67,814.961 1094.25,814.941 1100.82,814.921 1107.4,814.9 1113.97,814.878 1120.55,814.856 1127.13,814.834 1133.7,814.81 1140.28,814.785 1146.86,814.759 1153.43,814.731 1160.01,814.703 1166.58,814.676 1173.16,814.646 1179.74,814.614 1186.31,814.582 1192.89,814.551 1199.47,814.516 1206.04,814.479 1212.62,814.445 1219.2,814.405 1225.77,814.364 1232.35,814.322 1238.92,814.278 1245.5,814.232 1252.08,814.189 1258.65,814.144 1265.23,814.098 1271.81,814.045 1278.38,813.99 1284.96,813.939 1291.53,813.879 1298.11,813.818 1304.69,813.754 1311.26,813.688 1317.84,813.619 1324.42,813.548 1330.99,813.474 1337.57,813.397 1344.15,813.316 1350.72,813.233 1357.3,813.146 1363.87,813.056 1370.45,812.963 1377.03,812.867 1383.6,812.776 1390.18,812.682 1396.76,812.572 1403.33,812.461 1409.91,812.344 1416.48,812.224 1423.06,812.11 1429.64,811.98 1436.21,811.843 1442.79,811.701 1449.37,811.554 1455.94,811.402 1462.52,811.243 1469.1,811.08 1475.67,810.926 1482.25,810.75 1488.82,810.565 1495.4,810.395 1501.98,810.218 1508.55,810.014 1515.13,809.8 1521.71,809.58 1528.28,809.353 1534.86,809.114 1541.44,808.869 1548.01,808.611 1554.59,808.345 1561.16,808.07 1567.74,807.781 1574.32,807.483 1580.89,807.174 1587.47,806.849 1594.05,806.514 1600.62,806.17 1607.2,805.811 1613.77,805.474 1620.35,805.082 1626.93,804.683 1633.5,804.267 1640.08,803.876 1646.66,803.422 1653.23,802.955 1659.81,802.518 1666.39,802.02 1672.96,801.548 1679.54,801.009 1686.11,800.449 1692.69,799.859 1699.27,799.251 1705.84,798.625 1712.42,797.971 1719,797.361 1725.57,796.657 1732.15,795.927 1738.72,795.169 1745.3,794.379 1751.88,793.553 1758.45,792.705 1765.03,791.906 1771.61,790.993 1778.18,790.042 1784.76,789.139 1791.34,788.115 1797.91,787.053 1804.49,785.949 1811.06,784.811 1817.64,783.627 1824.22,782.399 1830.79,781.11 1837.37,779.783 1843.95,778.395 1850.52,776.95 1857.1,775.466 1863.67,773.903 1870.25,772.299 1876.83,770.792 1883.4,769.073 1889.98,767.283 1896.56,765.604 1903.13,763.684 1909.71,761.687 1916.29,759.598 1922.86,757.426 1929.44,755.184 1936.01,752.862 1942.59,750.445 1949.17,747.94 1955.74,745.336 1962.32,742.617 1968.9,740.054 1975.47,737.11 1982.05,734.055 1988.62,730.909 1995.2,727.639 2001.78,724.25 2008.35,720.688 2014.93,717.014 2021.51,713.189 2028.08,709.633 2034.66,705.904 2041.24,701.667 2047.81,697.285 2054.39,692.718 2060.96,687.969 2067.54,683.022 2074.12,677.904 2080.69,672.581 2087.27,667.069 2093.85,661.326 2100.42,655.897 2107,649.751 2113.58,643.329 2120.15,636.631 2126.73,629.632 2133.3,622.408 2139.88,614.89 2146.46,607.076 2153.03,599.056 2159.61,590.723 2166.19,582.801 2172.76,574.673 2179.34,565.33 2185.91,555.653 2192.49,545.426 2199.07,534.913 2205.64,524.022 2212.22,512.801 2218.8,501.043 2225.37,490.068 2231.95,477.425 2238.53,464.374 2245.1,450.654 2251.68,437.845 2258.25,424.6 2264.83,410.93 2271.41,395.208 2277.98,378.879 2284.56,363.608 2291.14,345.933 2297.71,327.504 \"/>\n",
       "<polyline clip-path=\"url(#clip042)\" style=\"stroke:#ac8d18; stroke-linecap:round; stroke-linejoin:round; stroke-width:4; stroke-opacity:1; fill:none\" stroke-dasharray=\"16, 10\" points=\"462.918,815.459 469.495,815.459 476.071,815.46 482.647,815.461 489.224,815.462 495.8,815.463 502.376,815.463 508.953,815.464 515.529,815.465 522.105,815.466 528.682,815.467 535.258,815.468 541.834,815.469 548.411,815.47 554.987,815.471 561.563,815.472 568.139,815.473 574.716,815.474 581.292,815.475 587.868,815.476 594.445,815.477 601.021,815.478 607.597,815.48 614.174,815.481 620.75,815.482 627.326,815.483 633.903,815.485 640.479,815.486 647.055,815.488 653.632,815.489 660.208,815.491 666.784,815.493 673.361,815.494 679.937,815.496 686.513,815.498 693.09,815.5 699.666,815.501 706.242,815.503 712.819,815.506 719.395,815.508 725.971,815.51 732.548,815.512 739.124,815.514 745.7,815.517 752.276,815.519 758.853,815.522 765.429,815.524 772.005,815.527 778.582,815.53 785.158,815.533 791.734,815.536 798.311,815.539 804.887,815.542 811.463,815.546 818.04,815.549 824.616,815.553 831.192,815.557 837.769,815.561 844.345,815.565 850.921,815.569 857.498,815.573 864.074,815.578 870.65,815.583 877.227,815.588 883.803,815.593 890.379,815.598 896.956,815.603 903.532,815.609 910.108,815.615 916.685,815.621 923.261,815.628 929.837,815.634 936.413,815.641 942.99,815.648 949.566,815.656 956.142,815.664 962.719,815.672 969.295,815.68 975.871,815.689 982.448,815.697 989.024,815.706 995.6,815.716 1002.18,815.726 1008.75,815.737 1015.33,815.746 1021.91,815.757 1028.48,815.768 1035.06,815.779 1041.63,815.792 1048.21,815.805 1054.79,815.818 1061.36,815.833 1067.94,815.847 1074.52,815.862 1081.09,815.878 1087.67,815.893 1094.25,815.91 1100.82,815.928 1107.4,815.946 1113.97,815.965 1120.55,815.985 1127.13,816.003 1133.7,816.024 1140.28,816.046 1146.86,816.069 1153.43,816.093 1160.01,816.118 1166.58,816.141 1173.16,816.167 1179.74,816.195 1186.31,816.223 1192.89,816.25 1199.47,816.281 1206.04,816.313 1212.62,816.343 1219.2,816.377 1225.77,816.413 1232.35,816.45 1238.92,816.488 1245.5,816.528 1252.08,816.565 1258.65,816.605 1265.23,816.645 1271.81,816.691 1278.38,816.739 1284.96,816.784 1291.53,816.835 1298.11,816.889 1304.69,816.944 1311.26,817.002 1317.84,817.062 1324.42,817.124 1330.99,817.189 1337.57,817.256 1344.15,817.326 1350.72,817.399 1357.3,817.474 1363.87,817.553 1370.45,817.634 1377.03,817.718 1383.6,817.796 1390.18,817.879 1396.76,817.974 1403.33,818.071 1409.91,818.173 1416.48,818.278 1423.06,818.377 1429.64,818.491 1436.21,818.61 1442.79,818.733 1449.37,818.862 1455.94,818.994 1462.52,819.132 1469.1,819.275 1475.67,819.409 1482.25,819.562 1488.82,819.723 1495.4,819.872 1501.98,820.026 1508.55,820.204 1515.13,820.39 1521.71,820.582 1528.28,820.779 1534.86,820.988 1541.44,821.201 1548.01,821.426 1554.59,821.657 1561.16,821.897 1567.74,822.149 1574.32,822.408 1580.89,822.678 1587.47,822.961 1594.05,823.254 1600.62,823.553 1607.2,823.866 1613.77,824.16 1620.35,824.501 1626.93,824.849 1633.5,825.211 1640.08,825.552 1646.66,825.948 1653.23,826.354 1659.81,826.735 1666.39,827.169 1672.96,827.581 1679.54,828.05 1686.11,828.538 1692.69,829.053 1699.27,829.582 1705.84,830.127 1712.42,830.698 1719,831.229 1725.57,831.843 1732.15,832.479 1738.72,833.139 1745.3,833.828 1751.88,834.547 1758.45,835.286 1765.03,835.982 1771.61,836.778 1778.18,837.606 1784.76,838.393 1791.34,839.286 1797.91,840.211 1804.49,841.173 1811.06,842.164 1817.64,843.196 1824.22,844.267 1830.79,845.39 1837.37,846.546 1843.95,847.755 1850.52,849.014 1857.1,850.308 1863.67,851.67 1870.25,853.067 1876.83,854.38 1883.4,855.879 1889.98,857.438 1896.56,858.901 1903.13,860.574 1909.71,862.315 1916.29,864.135 1922.86,866.028 1929.44,867.982 1936.01,870.005 1942.59,872.111 1949.17,874.293 1955.74,876.562 1962.32,878.932 1968.9,881.165 1975.47,883.731 1982.05,886.393 1988.62,889.134 1995.2,891.984 2001.78,894.936 2008.35,898.041 2014.93,901.242 2021.51,904.575 2028.08,907.674 2034.66,910.923 2041.24,914.615 2047.81,918.434 2054.39,922.413 2060.96,926.551 2067.54,930.862 2074.12,935.322 2080.69,939.96 2087.27,944.764 2093.85,949.767 2100.42,954.498 2107,959.854 2113.58,965.45 2120.15,971.287 2126.73,977.385 2133.3,983.68 2139.88,990.232 2146.46,997.041 2153.03,1004.03 2159.61,1011.29 2166.19,1018.19 2172.76,1025.28 2179.34,1033.42 2185.91,1041.85 2192.49,1050.76 2199.07,1059.92 2205.64,1069.41 2212.22,1079.19 2218.8,1089.44 2225.37,1099 2231.95,1110.02 2238.53,1121.39 2245.1,1133.34 2251.68,1144.51 2258.25,1156.05 2264.83,1167.96 2271.41,1181.66 2277.98,1195.89 2284.56,1209.2 2291.14,1224.6 2297.71,1240.65 \"/>\n",
       "<polyline clip-path=\"url(#clip042)\" style=\"stroke:#00a9ad; stroke-linecap:round; stroke-linejoin:round; stroke-width:4; stroke-opacity:1; fill:none\" stroke-dasharray=\"16, 10\" points=\"462.918,815.459 469.495,815.459 476.071,815.458 482.647,815.458 489.224,815.458 495.8,815.458 502.376,815.458 508.953,815.457 515.529,815.457 522.105,815.457 528.682,815.457 535.258,815.456 541.834,815.456 548.411,815.456 554.987,815.456 561.563,815.455 568.139,815.455 574.716,815.455 581.292,815.455 587.868,815.454 594.445,815.454 601.021,815.454 607.597,815.453 614.174,815.453 620.75,815.453 627.326,815.452 633.903,815.452 640.479,815.451 647.055,815.451 653.632,815.451 660.208,815.45 666.784,815.45 673.361,815.449 679.937,815.449 686.513,815.448 693.09,815.448 699.666,815.447 706.242,815.447 712.819,815.446 719.395,815.445 725.971,815.445 732.548,815.444 739.124,815.443 745.7,815.443 752.276,815.442 758.853,815.441 765.429,815.441 772.005,815.44 778.582,815.439 785.158,815.438 791.734,815.437 798.311,815.436 804.887,815.435 811.463,815.434 818.04,815.433 824.616,815.432 831.192,815.431 837.769,815.43 844.345,815.429 850.921,815.427 857.498,815.426 864.074,815.425 870.65,815.423 877.227,815.422 883.803,815.421 890.379,815.419 896.956,815.417 903.532,815.416 910.108,815.414 916.685,815.412 923.261,815.41 929.837,815.409 936.413,815.407 942.99,815.404 949.566,815.402 956.142,815.4 962.719,815.398 969.295,815.395 975.871,815.393 982.448,815.39 989.024,815.388 995.6,815.385 1002.18,815.382 1008.75,815.379 1015.33,815.376 1021.91,815.373 1028.48,815.369 1035.06,815.366 1041.63,815.362 1048.21,815.358 1054.79,815.355 1061.36,815.351 1067.94,815.346 1074.52,815.342 1081.09,815.338 1087.67,815.333 1094.25,815.328 1100.82,815.323 1107.4,815.318 1113.97,815.312 1120.55,815.307 1127.13,815.301 1133.7,815.295 1140.28,815.289 1146.86,815.282 1153.43,815.275 1160.01,815.268 1166.58,815.261 1173.16,815.253 1179.74,815.245 1186.31,815.237 1192.89,815.229 1199.47,815.22 1206.04,815.211 1212.62,815.201 1219.2,815.192 1225.77,815.181 1232.35,815.171 1238.92,815.16 1245.5,815.148 1252.08,815.137 1258.65,815.124 1265.23,815.112 1271.81,815.099 1278.38,815.085 1284.96,815.071 1291.53,815.056 1298.11,815.041 1304.69,815.025 1311.26,815.009 1317.84,814.992 1324.42,814.974 1330.99,814.955 1337.57,814.936 1344.15,814.916 1350.72,814.896 1357.3,814.874 1363.87,814.852 1370.45,814.829 1377.03,814.805 1383.6,814.78 1390.18,814.754 1396.76,814.727 1403.33,814.699 1409.91,814.67 1416.48,814.64 1423.06,814.609 1429.64,814.577 1436.21,814.543 1442.79,814.508 1449.37,814.472 1455.94,814.434 1462.52,814.395 1469.1,814.354 1475.67,814.312 1482.25,814.268 1488.82,814.223 1495.4,814.175 1501.98,814.127 1508.55,814.076 1515.13,814.024 1521.71,813.969 1528.28,813.912 1534.86,813.853 1541.44,813.792 1548.01,813.729 1554.59,813.662 1561.16,813.594 1567.74,813.522 1574.32,813.448 1580.89,813.371 1587.47,813.291 1594.05,813.208 1600.62,813.121 1607.2,813.031 1613.77,812.938 1620.35,812.841 1626.93,812.741 1633.5,812.637 1640.08,812.528 1646.66,812.416 1653.23,812.3 1659.81,812.179 1666.39,812.054 1672.96,811.925 1679.54,811.79 1686.11,811.651 1692.69,811.506 1699.27,811.356 1705.84,811.199 1712.42,811.037 1719,810.868 1725.57,810.693 1732.15,810.512 1738.72,810.323 1745.3,810.127 1751.88,809.924 1758.45,809.712 1765.03,809.492 1771.61,809.265 1778.18,809.029 1784.76,808.783 1791.34,808.529 1797.91,808.265 1804.49,807.991 1811.06,807.706 1817.64,807.41 1824.22,807.103 1830.79,806.784 1837.37,806.452 1843.95,806.107 1850.52,805.748 1857.1,805.376 1863.67,804.989 1870.25,804.587 1876.83,804.17 1883.4,803.738 1889.98,803.29 1896.56,802.824 1903.13,802.343 1909.71,801.843 1916.29,801.324 1922.86,800.784 1929.44,800.224 1936.01,799.641 1942.59,799.036 1949.17,798.408 1955.74,797.755 1962.32,797.077 1968.9,796.373 1975.47,795.645 1982.05,794.888 1988.62,794.101 1995.2,793.284 2001.78,792.435 2008.35,791.553 2014.93,790.637 2021.51,789.685 2028.08,788.695 2034.66,787.673 2041.24,786.615 2047.81,785.517 2054.39,784.376 2060.96,783.191 2067.54,781.959 2074.12,780.68 2080.69,779.351 2087.27,777.971 2093.85,776.536 2100.42,775.047 2107,773.506 2113.58,771.906 2120.15,770.243 2126.73,768.516 2133.3,766.72 2139.88,764.854 2146.46,762.914 2153.03,760.899 2159.61,758.806 2166.19,756.632 2172.76,754.384 2179.34,752.06 2185.91,749.646 2192.49,747.138 2199.07,744.529 2205.64,741.819 2212.22,739.002 2218.8,736.077 2225.37,733.038 2231.95,729.896 2238.53,726.631 2245.1,723.24 2251.68,719.716 2258.25,716.072 2264.83,712.304 2271.41,708.41 2277.98,704.362 2284.56,700.157 2291.14,695.81 2297.71,691.29 \"/>\n",
       "<path clip-path=\"url(#clip040)\" d=\"M472.704 529.676 L737.562 529.676 L737.562 166.796 L472.704 166.796  Z\" fill=\"#ffffff\" fill-rule=\"evenodd\" fill-opacity=\"1\"/>\n",
       "<polyline clip-path=\"url(#clip040)\" style=\"stroke:#000000; stroke-linecap:round; stroke-linejoin:round; stroke-width:4; stroke-opacity:1; fill:none\" points=\"472.704,529.676 737.562,529.676 737.562,166.796 472.704,166.796 472.704,529.676 \"/>\n",
       "<polyline clip-path=\"url(#clip040)\" style=\"stroke:#009af9; stroke-linecap:round; stroke-linejoin:round; stroke-width:4; stroke-opacity:1; fill:none\" points=\"494.314,218.636 623.972,218.636 \"/>\n",
       "<path clip-path=\"url(#clip040)\" d=\"M669.61 221.888 L669.61 223.971 L650.027 223.971 Q650.304 228.369 652.666 230.684 Q655.05 232.976 659.286 232.976 Q661.74 232.976 664.031 232.374 Q666.346 231.772 668.615 230.569 L668.615 234.596 Q666.323 235.568 663.915 236.078 Q661.508 236.587 659.031 236.587 Q652.828 236.587 649.193 232.976 Q645.582 229.365 645.582 223.207 Q645.582 216.842 649.008 213.115 Q652.457 209.365 658.291 209.365 Q663.522 209.365 666.554 212.745 Q669.61 216.101 669.61 221.888 M665.351 220.638 Q665.304 217.143 663.383 215.059 Q661.485 212.976 658.337 212.976 Q654.772 212.976 652.619 214.99 Q650.49 217.004 650.166 220.661 L665.351 220.638 Z\" fill=\"#000000\" fill-rule=\"evenodd\" fill-opacity=\"1\" /><path clip-path=\"url(#clip040)\" d=\"M697.318 209.99 L687.943 222.606 L697.804 235.916 L692.781 235.916 L685.235 225.731 L677.689 235.916 L672.665 235.916 L682.735 222.351 L673.522 209.99 L678.545 209.99 L685.42 219.226 L692.295 209.99 L697.318 209.99 Z\" fill=\"#000000\" fill-rule=\"evenodd\" fill-opacity=\"1\" /><path clip-path=\"url(#clip040)\" d=\"M702.966 233.369 L707.688 233.369 L707.688 219.226 L702.526 220.175 L702.526 217.49 L707.85 216.587 L711.022 216.587 L711.022 233.369 L715.767 233.369 L715.767 235.916 L702.966 235.916 L702.966 233.369 Z\" fill=\"#000000\" fill-rule=\"evenodd\" fill-opacity=\"1\" /><polyline clip-path=\"url(#clip040)\" style=\"stroke:#e26f46; stroke-linecap:round; stroke-linejoin:round; stroke-width:4; stroke-opacity:1; fill:none\" points=\"494.314,270.476 623.972,270.476 \"/>\n",
       "<path clip-path=\"url(#clip040)\" d=\"M669.61 273.728 L669.61 275.811 L650.027 275.811 Q650.304 280.209 652.666 282.524 Q655.05 284.816 659.286 284.816 Q661.74 284.816 664.031 284.214 Q666.346 283.612 668.615 282.409 L668.615 286.436 Q666.323 287.408 663.915 287.918 Q661.508 288.427 659.031 288.427 Q652.828 288.427 649.193 284.816 Q645.582 281.205 645.582 275.047 Q645.582 268.682 649.008 264.955 Q652.457 261.205 658.291 261.205 Q663.522 261.205 666.554 264.585 Q669.61 267.941 669.61 273.728 M665.351 272.478 Q665.304 268.983 663.383 266.899 Q661.485 264.816 658.337 264.816 Q654.772 264.816 652.619 266.83 Q650.49 268.844 650.166 272.501 L665.351 272.478 Z\" fill=\"#000000\" fill-rule=\"evenodd\" fill-opacity=\"1\" /><path clip-path=\"url(#clip040)\" d=\"M697.318 261.83 L687.943 274.446 L697.804 287.756 L692.781 287.756 L685.235 277.571 L677.689 287.756 L672.665 287.756 L682.735 274.191 L673.522 261.83 L678.545 261.83 L685.42 271.066 L692.295 261.83 L697.318 261.83 Z\" fill=\"#000000\" fill-rule=\"evenodd\" fill-opacity=\"1\" /><path clip-path=\"url(#clip040)\" d=\"M705.559 285.117 L715.374 285.117 L715.374 287.756 L701.531 287.756 L701.531 285.209 Q702.318 284.492 703.776 283.196 Q711.739 276.135 711.739 273.959 Q711.739 272.432 710.536 271.506 Q709.332 270.557 707.364 270.557 Q706.161 270.557 704.749 270.973 Q703.337 271.367 701.67 272.177 L701.67 269.33 Q703.452 268.682 704.98 268.358 Q706.531 268.034 707.85 268.034 Q711.207 268.034 713.221 269.561 Q715.235 271.089 715.235 273.589 Q715.235 276.807 707.573 283.381 Q706.276 284.492 705.559 285.117 Z\" fill=\"#000000\" fill-rule=\"evenodd\" fill-opacity=\"1\" /><polyline clip-path=\"url(#clip040)\" style=\"stroke:#3da44d; stroke-linecap:round; stroke-linejoin:round; stroke-width:4; stroke-opacity:1; fill:none\" points=\"494.314,322.316 623.972,322.316 \"/>\n",
       "<path clip-path=\"url(#clip040)\" d=\"M669.61 325.568 L669.61 327.651 L650.027 327.651 Q650.304 332.049 652.666 334.364 Q655.05 336.656 659.286 336.656 Q661.74 336.656 664.031 336.054 Q666.346 335.452 668.615 334.249 L668.615 338.276 Q666.323 339.248 663.915 339.758 Q661.508 340.267 659.031 340.267 Q652.828 340.267 649.193 336.656 Q645.582 333.045 645.582 326.887 Q645.582 320.522 649.008 316.795 Q652.457 313.045 658.291 313.045 Q663.522 313.045 666.554 316.425 Q669.61 319.781 669.61 325.568 M665.351 324.318 Q665.304 320.823 663.383 318.739 Q661.485 316.656 658.337 316.656 Q654.772 316.656 652.619 318.67 Q650.49 320.684 650.166 324.341 L665.351 324.318 Z\" fill=\"#000000\" fill-rule=\"evenodd\" fill-opacity=\"1\" /><path clip-path=\"url(#clip040)\" d=\"M697.318 313.67 L687.943 326.286 L697.804 339.596 L692.781 339.596 L685.235 329.411 L677.689 339.596 L672.665 339.596 L682.735 326.031 L673.522 313.67 L678.545 313.67 L685.42 322.906 L692.295 313.67 L697.318 313.67 Z\" fill=\"#000000\" fill-rule=\"evenodd\" fill-opacity=\"1\" /><path clip-path=\"url(#clip040)\" d=\"M711.485 329.133 Q713.614 329.549 714.772 330.823 Q715.952 332.073 715.952 333.971 Q715.952 336.841 713.753 338.392 Q711.554 339.943 707.457 339.943 Q706.137 339.943 704.679 339.688 Q703.244 339.457 701.624 338.994 L701.624 336.193 Q702.827 336.818 704.193 337.119 Q705.582 337.42 707.133 337.42 Q709.656 337.42 711.045 336.517 Q712.434 335.591 712.434 333.971 Q712.434 332.258 711.137 331.378 Q709.864 330.499 707.364 330.499 L705.374 330.499 L705.374 327.999 L707.55 327.999 Q709.725 327.999 710.837 327.281 Q711.971 326.54 711.971 325.151 Q711.971 323.809 710.813 323.114 Q709.656 322.397 707.457 322.397 Q706.531 322.397 705.35 322.605 Q704.17 322.813 702.295 323.346 L702.295 320.684 Q703.985 320.29 705.466 320.082 Q706.948 319.874 708.221 319.874 Q711.554 319.874 713.499 321.239 Q715.466 322.605 715.466 324.897 Q715.466 326.494 714.424 327.605 Q713.383 328.716 711.485 329.133 Z\" fill=\"#000000\" fill-rule=\"evenodd\" fill-opacity=\"1\" /><polyline clip-path=\"url(#clip040)\" style=\"stroke:#c271d2; stroke-linecap:round; stroke-linejoin:round; stroke-width:4; stroke-opacity:1; fill:none\" stroke-dasharray=\"16, 10\" points=\"494.314,374.156 623.972,374.156 \"/>\n",
       "<path clip-path=\"url(#clip040)\" d=\"M669.61 377.408 L669.61 379.491 L650.027 379.491 Q650.304 383.889 652.666 386.204 Q655.05 388.496 659.286 388.496 Q661.74 388.496 664.031 387.894 Q666.346 387.292 668.615 386.089 L668.615 390.116 Q666.323 391.088 663.915 391.598 Q661.508 392.107 659.031 392.107 Q652.828 392.107 649.193 388.496 Q645.582 384.885 645.582 378.727 Q645.582 372.362 649.008 368.635 Q652.457 364.885 658.291 364.885 Q663.522 364.885 666.554 368.265 Q669.61 371.621 669.61 377.408 M665.351 376.158 Q665.304 372.663 663.383 370.579 Q661.485 368.496 658.337 368.496 Q654.772 368.496 652.619 370.51 Q650.49 372.524 650.166 376.181 L665.351 376.158 Z\" fill=\"#000000\" fill-rule=\"evenodd\" fill-opacity=\"1\" /><path clip-path=\"url(#clip040)\" d=\"M697.318 365.51 L687.943 378.126 L697.804 391.436 L692.781 391.436 L685.235 381.251 L677.689 391.436 L672.665 391.436 L682.735 377.871 L673.522 365.51 L678.545 365.51 L685.42 374.746 L692.295 365.51 L697.318 365.51 Z\" fill=\"#000000\" fill-rule=\"evenodd\" fill-opacity=\"1\" /><path clip-path=\"url(#clip040)\" d=\"M685.327 355.417 L689.587 355.417 L689.587 360.811 L685.327 360.811 L685.327 355.417 M687.503 364.885 L687.503 364.885 Z\" fill=\"#000000\" fill-rule=\"evenodd\" fill-opacity=\"1\" /><path clip-path=\"url(#clip040)\" d=\"M702.966 388.889 L707.688 388.889 L707.688 374.746 L702.526 375.695 L702.526 373.01 L707.85 372.107 L711.022 372.107 L711.022 388.889 L715.767 388.889 L715.767 391.436 L702.966 391.436 L702.966 388.889 Z\" fill=\"#000000\" fill-rule=\"evenodd\" fill-opacity=\"1\" /><polyline clip-path=\"url(#clip040)\" style=\"stroke:#ac8d18; stroke-linecap:round; stroke-linejoin:round; stroke-width:4; stroke-opacity:1; fill:none\" stroke-dasharray=\"16, 10\" points=\"494.314,425.996 623.972,425.996 \"/>\n",
       "<path clip-path=\"url(#clip040)\" d=\"M669.61 429.248 L669.61 431.331 L650.027 431.331 Q650.304 435.729 652.666 438.044 Q655.05 440.336 659.286 440.336 Q661.74 440.336 664.031 439.734 Q666.346 439.132 668.615 437.929 L668.615 441.956 Q666.323 442.928 663.915 443.438 Q661.508 443.947 659.031 443.947 Q652.828 443.947 649.193 440.336 Q645.582 436.725 645.582 430.567 Q645.582 424.202 649.008 420.475 Q652.457 416.725 658.291 416.725 Q663.522 416.725 666.554 420.105 Q669.61 423.461 669.61 429.248 M665.351 427.998 Q665.304 424.503 663.383 422.419 Q661.485 420.336 658.337 420.336 Q654.772 420.336 652.619 422.35 Q650.49 424.364 650.166 428.021 L665.351 427.998 Z\" fill=\"#000000\" fill-rule=\"evenodd\" fill-opacity=\"1\" /><path clip-path=\"url(#clip040)\" d=\"M697.318 417.35 L687.943 429.966 L697.804 443.276 L692.781 443.276 L685.235 433.091 L677.689 443.276 L672.665 443.276 L682.735 429.711 L673.522 417.35 L678.545 417.35 L685.42 426.586 L692.295 417.35 L697.318 417.35 Z\" fill=\"#000000\" fill-rule=\"evenodd\" fill-opacity=\"1\" /><path clip-path=\"url(#clip040)\" d=\"M685.327 407.257 L689.587 407.257 L689.587 412.651 L685.327 412.651 L685.327 407.257 M687.503 416.725 L687.503 416.725 Z\" fill=\"#000000\" fill-rule=\"evenodd\" fill-opacity=\"1\" /><path clip-path=\"url(#clip040)\" d=\"M705.559 440.637 L715.374 440.637 L715.374 443.276 L701.531 443.276 L701.531 440.729 Q702.318 440.012 703.776 438.716 Q711.739 431.655 711.739 429.479 Q711.739 427.952 710.536 427.026 Q709.332 426.077 707.364 426.077 Q706.161 426.077 704.749 426.493 Q703.337 426.887 701.67 427.697 L701.67 424.85 Q703.452 424.202 704.98 423.878 Q706.531 423.554 707.85 423.554 Q711.207 423.554 713.221 425.081 Q715.235 426.609 715.235 429.109 Q715.235 432.327 707.573 438.901 Q706.276 440.012 705.559 440.637 Z\" fill=\"#000000\" fill-rule=\"evenodd\" fill-opacity=\"1\" /><polyline clip-path=\"url(#clip040)\" style=\"stroke:#00a9ad; stroke-linecap:round; stroke-linejoin:round; stroke-width:4; stroke-opacity:1; fill:none\" stroke-dasharray=\"16, 10\" points=\"494.314,477.836 623.972,477.836 \"/>\n",
       "<path clip-path=\"url(#clip040)\" d=\"M669.61 481.088 L669.61 483.171 L650.027 483.171 Q650.304 487.569 652.666 489.884 Q655.05 492.176 659.286 492.176 Q661.74 492.176 664.031 491.574 Q666.346 490.972 668.615 489.769 L668.615 493.796 Q666.323 494.768 663.915 495.278 Q661.508 495.787 659.031 495.787 Q652.828 495.787 649.193 492.176 Q645.582 488.565 645.582 482.407 Q645.582 476.042 649.008 472.315 Q652.457 468.565 658.291 468.565 Q663.522 468.565 666.554 471.945 Q669.61 475.301 669.61 481.088 M665.351 479.838 Q665.304 476.343 663.383 474.259 Q661.485 472.176 658.337 472.176 Q654.772 472.176 652.619 474.19 Q650.49 476.204 650.166 479.861 L665.351 479.838 Z\" fill=\"#000000\" fill-rule=\"evenodd\" fill-opacity=\"1\" /><path clip-path=\"url(#clip040)\" d=\"M697.318 469.19 L687.943 481.806 L697.804 495.116 L692.781 495.116 L685.235 484.931 L677.689 495.116 L672.665 495.116 L682.735 481.551 L673.522 469.19 L678.545 469.19 L685.42 478.426 L692.295 469.19 L697.318 469.19 Z\" fill=\"#000000\" fill-rule=\"evenodd\" fill-opacity=\"1\" /><path clip-path=\"url(#clip040)\" d=\"M685.327 459.097 L689.587 459.097 L689.587 464.491 L685.327 464.491 L685.327 459.097 M687.503 468.565 L687.503 468.565 Z\" fill=\"#000000\" fill-rule=\"evenodd\" fill-opacity=\"1\" /><path clip-path=\"url(#clip040)\" d=\"M711.485 484.653 Q713.614 485.069 714.772 486.343 Q715.952 487.593 715.952 489.491 Q715.952 492.361 713.753 493.912 Q711.554 495.463 707.457 495.463 Q706.137 495.463 704.679 495.208 Q703.244 494.977 701.624 494.514 L701.624 491.713 Q702.827 492.338 704.193 492.639 Q705.582 492.94 707.133 492.94 Q709.656 492.94 711.045 492.037 Q712.434 491.111 712.434 489.491 Q712.434 487.778 711.137 486.898 Q709.864 486.019 707.364 486.019 L705.374 486.019 L705.374 483.519 L707.55 483.519 Q709.725 483.519 710.837 482.801 Q711.971 482.06 711.971 480.671 Q711.971 479.329 710.813 478.634 Q709.656 477.917 707.457 477.917 Q706.531 477.917 705.35 478.125 Q704.17 478.333 702.295 478.866 L702.295 476.204 Q703.985 475.81 705.466 475.602 Q706.948 475.394 708.221 475.394 Q711.554 475.394 713.499 476.759 Q715.466 478.125 715.466 480.417 Q715.466 482.014 714.424 483.125 Q713.383 484.236 711.485 484.653 Z\" fill=\"#000000\" fill-rule=\"evenodd\" fill-opacity=\"1\" /></svg>\n"
      ]
     },
     "metadata": {},
     "output_type": "display_data"
    },
    {
     "data": {
      "image/svg+xml": [
       "<?xml version=\"1.0\" encoding=\"utf-8\"?>\n",
       "<svg xmlns=\"http://www.w3.org/2000/svg\" xmlns:xlink=\"http://www.w3.org/1999/xlink\" width=\"600\" height=\"400\" viewBox=\"0 0 2400 1600\">\n",
       "<defs>\n",
       "  <clipPath id=\"clip080\">\n",
       "    <rect x=\"0\" y=\"0\" width=\"2400\" height=\"1600\"/>\n",
       "  </clipPath>\n",
       "</defs>\n",
       "<path clip-path=\"url(#clip080)\" d=\"M0 1600 L2400 1600 L2400 0 L0 0  Z\" fill=\"#ffffff\" fill-rule=\"evenodd\" fill-opacity=\"1\"/>\n",
       "<defs>\n",
       "  <clipPath id=\"clip081\">\n",
       "    <rect x=\"480\" y=\"0\" width=\"1681\" height=\"1600\"/>\n",
       "  </clipPath>\n",
       "</defs>\n",
       "<path clip-path=\"url(#clip080)\" d=\"M375.418 1423.18 L2352.76 1423.18 L2352.76 123.472 L375.418 123.472  Z\" fill=\"#ffffff\" fill-rule=\"evenodd\" fill-opacity=\"1\"/>\n",
       "<defs>\n",
       "  <clipPath id=\"clip082\">\n",
       "    <rect x=\"375\" y=\"123\" width=\"1978\" height=\"1301\"/>\n",
       "  </clipPath>\n",
       "</defs>\n",
       "<polyline clip-path=\"url(#clip082)\" style=\"stroke:#000000; stroke-linecap:round; stroke-linejoin:round; stroke-width:2; stroke-opacity:0.1; fill:none\" points=\"431.38,1423.18 431.38,123.472 \"/>\n",
       "<polyline clip-path=\"url(#clip082)\" style=\"stroke:#000000; stroke-linecap:round; stroke-linejoin:round; stroke-width:2; stroke-opacity:0.1; fill:none\" points=\"768.098,1423.18 768.098,123.472 \"/>\n",
       "<polyline clip-path=\"url(#clip082)\" style=\"stroke:#000000; stroke-linecap:round; stroke-linejoin:round; stroke-width:2; stroke-opacity:0.1; fill:none\" points=\"1104.81,1423.18 1104.81,123.472 \"/>\n",
       "<polyline clip-path=\"url(#clip082)\" style=\"stroke:#000000; stroke-linecap:round; stroke-linejoin:round; stroke-width:2; stroke-opacity:0.1; fill:none\" points=\"1441.53,1423.18 1441.53,123.472 \"/>\n",
       "<polyline clip-path=\"url(#clip082)\" style=\"stroke:#000000; stroke-linecap:round; stroke-linejoin:round; stroke-width:2; stroke-opacity:0.1; fill:none\" points=\"1778.25,1423.18 1778.25,123.472 \"/>\n",
       "<polyline clip-path=\"url(#clip082)\" style=\"stroke:#000000; stroke-linecap:round; stroke-linejoin:round; stroke-width:2; stroke-opacity:0.1; fill:none\" points=\"2114.97,1423.18 2114.97,123.472 \"/>\n",
       "<polyline clip-path=\"url(#clip080)\" style=\"stroke:#000000; stroke-linecap:round; stroke-linejoin:round; stroke-width:4; stroke-opacity:1; fill:none\" points=\"375.418,1423.18 2352.76,1423.18 \"/>\n",
       "<polyline clip-path=\"url(#clip080)\" style=\"stroke:#000000; stroke-linecap:round; stroke-linejoin:round; stroke-width:4; stroke-opacity:1; fill:none\" points=\"431.38,1423.18 431.38,1404.28 \"/>\n",
       "<polyline clip-path=\"url(#clip080)\" style=\"stroke:#000000; stroke-linecap:round; stroke-linejoin:round; stroke-width:4; stroke-opacity:1; fill:none\" points=\"768.098,1423.18 768.098,1404.28 \"/>\n",
       "<polyline clip-path=\"url(#clip080)\" style=\"stroke:#000000; stroke-linecap:round; stroke-linejoin:round; stroke-width:4; stroke-opacity:1; fill:none\" points=\"1104.81,1423.18 1104.81,1404.28 \"/>\n",
       "<polyline clip-path=\"url(#clip080)\" style=\"stroke:#000000; stroke-linecap:round; stroke-linejoin:round; stroke-width:4; stroke-opacity:1; fill:none\" points=\"1441.53,1423.18 1441.53,1404.28 \"/>\n",
       "<polyline clip-path=\"url(#clip080)\" style=\"stroke:#000000; stroke-linecap:round; stroke-linejoin:round; stroke-width:4; stroke-opacity:1; fill:none\" points=\"1778.25,1423.18 1778.25,1404.28 \"/>\n",
       "<polyline clip-path=\"url(#clip080)\" style=\"stroke:#000000; stroke-linecap:round; stroke-linejoin:round; stroke-width:4; stroke-opacity:1; fill:none\" points=\"2114.97,1423.18 2114.97,1404.28 \"/>\n",
       "<path clip-path=\"url(#clip080)\" d=\"M408.765 1454.1 Q405.154 1454.1 403.325 1457.66 Q401.52 1461.2 401.52 1468.33 Q401.52 1475.44 403.325 1479.01 Q405.154 1482.55 408.765 1482.55 Q412.399 1482.55 414.205 1479.01 Q416.033 1475.44 416.033 1468.33 Q416.033 1461.2 414.205 1457.66 Q412.399 1454.1 408.765 1454.1 M408.765 1450.39 Q414.575 1450.39 417.631 1455 Q420.709 1459.58 420.709 1468.33 Q420.709 1477.06 417.631 1481.67 Q414.575 1486.25 408.765 1486.25 Q402.955 1486.25 399.876 1481.67 Q396.82 1477.06 396.82 1468.33 Q396.82 1459.58 399.876 1455 Q402.955 1450.39 408.765 1450.39 Z\" fill=\"#000000\" fill-rule=\"evenodd\" fill-opacity=\"1\" /><path clip-path=\"url(#clip080)\" d=\"M428.927 1479.7 L433.811 1479.7 L433.811 1485.58 L428.927 1485.58 L428.927 1479.7 Z\" fill=\"#000000\" fill-rule=\"evenodd\" fill-opacity=\"1\" /><path clip-path=\"url(#clip080)\" d=\"M453.996 1454.1 Q450.385 1454.1 448.556 1457.66 Q446.751 1461.2 446.751 1468.33 Q446.751 1475.44 448.556 1479.01 Q450.385 1482.55 453.996 1482.55 Q457.63 1482.55 459.436 1479.01 Q461.265 1475.44 461.265 1468.33 Q461.265 1461.2 459.436 1457.66 Q457.63 1454.1 453.996 1454.1 M453.996 1450.39 Q459.806 1450.39 462.862 1455 Q465.94 1459.58 465.94 1468.33 Q465.94 1477.06 462.862 1481.67 Q459.806 1486.25 453.996 1486.25 Q448.186 1486.25 445.107 1481.67 Q442.052 1477.06 442.052 1468.33 Q442.052 1459.58 445.107 1455 Q448.186 1450.39 453.996 1450.39 Z\" fill=\"#000000\" fill-rule=\"evenodd\" fill-opacity=\"1\" /><path clip-path=\"url(#clip080)\" d=\"M739.834 1481.64 L756.153 1481.64 L756.153 1485.58 L734.209 1485.58 L734.209 1481.64 Q736.871 1478.89 741.454 1474.26 Q746.061 1469.61 747.241 1468.27 Q749.487 1465.74 750.366 1464.01 Q751.269 1462.25 751.269 1460.56 Q751.269 1457.8 749.325 1456.07 Q747.403 1454.33 744.301 1454.33 Q742.102 1454.33 739.649 1455.09 Q737.218 1455.86 734.44 1457.41 L734.44 1452.69 Q737.264 1451.55 739.718 1450.97 Q742.172 1450.39 744.209 1450.39 Q749.579 1450.39 752.774 1453.08 Q755.968 1455.77 755.968 1460.26 Q755.968 1462.39 755.158 1464.31 Q754.371 1466.2 752.264 1468.8 Q751.686 1469.47 748.584 1472.69 Q745.482 1475.88 739.834 1481.64 Z\" fill=\"#000000\" fill-rule=\"evenodd\" fill-opacity=\"1\" /><path clip-path=\"url(#clip080)\" d=\"M765.968 1479.7 L770.852 1479.7 L770.852 1485.58 L765.968 1485.58 L765.968 1479.7 Z\" fill=\"#000000\" fill-rule=\"evenodd\" fill-opacity=\"1\" /><path clip-path=\"url(#clip080)\" d=\"M781.084 1451.02 L799.44 1451.02 L799.44 1454.96 L785.366 1454.96 L785.366 1463.43 Q786.385 1463.08 787.403 1462.92 Q788.422 1462.73 789.44 1462.73 Q795.227 1462.73 798.607 1465.9 Q801.986 1469.08 801.986 1474.49 Q801.986 1480.07 798.514 1483.17 Q795.042 1486.25 788.723 1486.25 Q786.547 1486.25 784.278 1485.88 Q782.033 1485.51 779.625 1484.77 L779.625 1480.07 Q781.709 1481.2 783.931 1481.76 Q786.153 1482.32 788.63 1482.32 Q792.635 1482.32 794.972 1480.21 Q797.31 1478.1 797.31 1474.49 Q797.31 1470.88 794.972 1468.77 Q792.635 1466.67 788.63 1466.67 Q786.755 1466.67 784.88 1467.08 Q783.028 1467.5 781.084 1468.38 L781.084 1451.02 Z\" fill=\"#000000\" fill-rule=\"evenodd\" fill-opacity=\"1\" /><path clip-path=\"url(#clip080)\" d=\"M1071.98 1451.02 L1090.34 1451.02 L1090.34 1454.96 L1076.26 1454.96 L1076.26 1463.43 Q1077.28 1463.08 1078.3 1462.92 Q1079.32 1462.73 1080.34 1462.73 Q1086.12 1462.73 1089.5 1465.9 Q1092.88 1469.08 1092.88 1474.49 Q1092.88 1480.07 1089.41 1483.17 Q1085.94 1486.25 1079.62 1486.25 Q1077.44 1486.25 1075.17 1485.88 Q1072.93 1485.51 1070.52 1484.77 L1070.52 1480.07 Q1072.6 1481.2 1074.83 1481.76 Q1077.05 1482.32 1079.53 1482.32 Q1083.53 1482.32 1085.87 1480.21 Q1088.21 1478.1 1088.21 1474.49 Q1088.21 1470.88 1085.87 1468.77 Q1083.53 1466.67 1079.53 1466.67 Q1077.65 1466.67 1075.78 1467.08 Q1073.92 1467.5 1071.98 1468.38 L1071.98 1451.02 Z\" fill=\"#000000\" fill-rule=\"evenodd\" fill-opacity=\"1\" /><path clip-path=\"url(#clip080)\" d=\"M1102.09 1479.7 L1106.98 1479.7 L1106.98 1485.58 L1102.09 1485.58 L1102.09 1479.7 Z\" fill=\"#000000\" fill-rule=\"evenodd\" fill-opacity=\"1\" /><path clip-path=\"url(#clip080)\" d=\"M1127.16 1454.1 Q1123.55 1454.1 1121.72 1457.66 Q1119.92 1461.2 1119.92 1468.33 Q1119.92 1475.44 1121.72 1479.01 Q1123.55 1482.55 1127.16 1482.55 Q1130.8 1482.55 1132.6 1479.01 Q1134.43 1475.44 1134.43 1468.33 Q1134.43 1461.2 1132.6 1457.66 Q1130.8 1454.1 1127.16 1454.1 M1127.16 1450.39 Q1132.97 1450.39 1136.03 1455 Q1139.11 1459.58 1139.11 1468.33 Q1139.11 1477.06 1136.03 1481.67 Q1132.97 1486.25 1127.16 1486.25 Q1121.35 1486.25 1118.28 1481.67 Q1115.22 1477.06 1115.22 1468.33 Q1115.22 1459.58 1118.28 1455 Q1121.35 1450.39 1127.16 1450.39 Z\" fill=\"#000000\" fill-rule=\"evenodd\" fill-opacity=\"1\" /><path clip-path=\"url(#clip080)\" d=\"M1407.85 1451.02 L1430.07 1451.02 L1430.07 1453.01 L1417.53 1485.58 L1412.64 1485.58 L1424.45 1454.96 L1407.85 1454.96 L1407.85 1451.02 Z\" fill=\"#000000\" fill-rule=\"evenodd\" fill-opacity=\"1\" /><path clip-path=\"url(#clip080)\" d=\"M1439.19 1479.7 L1444.08 1479.7 L1444.08 1485.58 L1439.19 1485.58 L1439.19 1479.7 Z\" fill=\"#000000\" fill-rule=\"evenodd\" fill-opacity=\"1\" /><path clip-path=\"url(#clip080)\" d=\"M1454.31 1451.02 L1472.67 1451.02 L1472.67 1454.96 L1458.59 1454.96 L1458.59 1463.43 Q1459.61 1463.08 1460.63 1462.92 Q1461.65 1462.73 1462.67 1462.73 Q1468.45 1462.73 1471.83 1465.9 Q1475.21 1469.08 1475.21 1474.49 Q1475.21 1480.07 1471.74 1483.17 Q1468.27 1486.25 1461.95 1486.25 Q1459.77 1486.25 1457.5 1485.88 Q1455.26 1485.51 1452.85 1484.77 L1452.85 1480.07 Q1454.93 1481.2 1457.16 1481.76 Q1459.38 1482.32 1461.86 1482.32 Q1465.86 1482.32 1468.2 1480.21 Q1470.54 1478.1 1470.54 1474.49 Q1470.54 1470.88 1468.2 1468.77 Q1465.86 1466.67 1461.86 1466.67 Q1459.98 1466.67 1458.11 1467.08 Q1456.25 1467.5 1454.31 1468.38 L1454.31 1451.02 Z\" fill=\"#000000\" fill-rule=\"evenodd\" fill-opacity=\"1\" /><path clip-path=\"url(#clip080)\" d=\"M1730.32 1481.64 L1737.96 1481.64 L1737.96 1455.28 L1729.65 1456.95 L1729.65 1452.69 L1737.91 1451.02 L1742.59 1451.02 L1742.59 1481.64 L1750.23 1481.64 L1750.23 1485.58 L1730.32 1485.58 L1730.32 1481.64 Z\" fill=\"#000000\" fill-rule=\"evenodd\" fill-opacity=\"1\" /><path clip-path=\"url(#clip080)\" d=\"M1769.67 1454.1 Q1766.06 1454.1 1764.23 1457.66 Q1762.43 1461.2 1762.43 1468.33 Q1762.43 1475.44 1764.23 1479.01 Q1766.06 1482.55 1769.67 1482.55 Q1773.31 1482.55 1775.11 1479.01 Q1776.94 1475.44 1776.94 1468.33 Q1776.94 1461.2 1775.11 1457.66 Q1773.31 1454.1 1769.67 1454.1 M1769.67 1450.39 Q1775.48 1450.39 1778.54 1455 Q1781.62 1459.58 1781.62 1468.33 Q1781.62 1477.06 1778.54 1481.67 Q1775.48 1486.25 1769.67 1486.25 Q1763.86 1486.25 1760.78 1481.67 Q1757.73 1477.06 1757.73 1468.33 Q1757.73 1459.58 1760.78 1455 Q1763.86 1450.39 1769.67 1450.39 Z\" fill=\"#000000\" fill-rule=\"evenodd\" fill-opacity=\"1\" /><path clip-path=\"url(#clip080)\" d=\"M1789.83 1479.7 L1794.72 1479.7 L1794.72 1485.58 L1789.83 1485.58 L1789.83 1479.7 Z\" fill=\"#000000\" fill-rule=\"evenodd\" fill-opacity=\"1\" /><path clip-path=\"url(#clip080)\" d=\"M1814.9 1454.1 Q1811.29 1454.1 1809.46 1457.66 Q1807.66 1461.2 1807.66 1468.33 Q1807.66 1475.44 1809.46 1479.01 Q1811.29 1482.55 1814.9 1482.55 Q1818.54 1482.55 1820.34 1479.01 Q1822.17 1475.44 1822.17 1468.33 Q1822.17 1461.2 1820.34 1457.66 Q1818.54 1454.1 1814.9 1454.1 M1814.9 1450.39 Q1820.71 1450.39 1823.77 1455 Q1826.85 1459.58 1826.85 1468.33 Q1826.85 1477.06 1823.77 1481.67 Q1820.71 1486.25 1814.9 1486.25 Q1809.09 1486.25 1806.02 1481.67 Q1802.96 1477.06 1802.96 1468.33 Q1802.96 1459.58 1806.02 1455 Q1809.09 1450.39 1814.9 1450.39 Z\" fill=\"#000000\" fill-rule=\"evenodd\" fill-opacity=\"1\" /><path clip-path=\"url(#clip080)\" d=\"M2067.54 1481.64 L2075.17 1481.64 L2075.17 1455.28 L2066.86 1456.95 L2066.86 1452.69 L2075.13 1451.02 L2079.8 1451.02 L2079.8 1481.64 L2087.44 1481.64 L2087.44 1485.58 L2067.54 1485.58 L2067.54 1481.64 Z\" fill=\"#000000\" fill-rule=\"evenodd\" fill-opacity=\"1\" /><path clip-path=\"url(#clip080)\" d=\"M2100.92 1481.64 L2117.23 1481.64 L2117.23 1485.58 L2095.29 1485.58 L2095.29 1481.64 Q2097.95 1478.89 2102.54 1474.26 Q2107.14 1469.61 2108.32 1468.27 Q2110.57 1465.74 2111.45 1464.01 Q2112.35 1462.25 2112.35 1460.56 Q2112.35 1457.8 2110.41 1456.07 Q2108.48 1454.33 2105.38 1454.33 Q2103.18 1454.33 2100.73 1455.09 Q2098.3 1455.86 2095.52 1457.41 L2095.52 1452.69 Q2098.35 1451.55 2100.8 1450.97 Q2103.25 1450.39 2105.29 1450.39 Q2110.66 1450.39 2113.86 1453.08 Q2117.05 1455.77 2117.05 1460.26 Q2117.05 1462.39 2116.24 1464.31 Q2115.45 1466.2 2113.35 1468.8 Q2112.77 1469.47 2109.67 1472.69 Q2106.56 1475.88 2100.92 1481.64 Z\" fill=\"#000000\" fill-rule=\"evenodd\" fill-opacity=\"1\" /><path clip-path=\"url(#clip080)\" d=\"M2127.05 1479.7 L2131.93 1479.7 L2131.93 1485.58 L2127.05 1485.58 L2127.05 1479.7 Z\" fill=\"#000000\" fill-rule=\"evenodd\" fill-opacity=\"1\" /><path clip-path=\"url(#clip080)\" d=\"M2142.17 1451.02 L2160.52 1451.02 L2160.52 1454.96 L2146.45 1454.96 L2146.45 1463.43 Q2147.47 1463.08 2148.48 1462.92 Q2149.5 1462.73 2150.52 1462.73 Q2156.31 1462.73 2159.69 1465.9 Q2163.07 1469.08 2163.07 1474.49 Q2163.07 1480.07 2159.6 1483.17 Q2156.12 1486.25 2149.8 1486.25 Q2147.63 1486.25 2145.36 1485.88 Q2143.11 1485.51 2140.71 1484.77 L2140.71 1480.07 Q2142.79 1481.2 2145.01 1481.76 Q2147.23 1482.32 2149.71 1482.32 Q2153.72 1482.32 2156.05 1480.21 Q2158.39 1478.1 2158.39 1474.49 Q2158.39 1470.88 2156.05 1468.77 Q2153.72 1466.67 2149.71 1466.67 Q2147.84 1466.67 2145.96 1467.08 Q2144.11 1467.5 2142.17 1468.38 L2142.17 1451.02 Z\" fill=\"#000000\" fill-rule=\"evenodd\" fill-opacity=\"1\" /><path clip-path=\"url(#clip080)\" d=\"M1251.54 1522.27 L1251.54 1532.4 L1263.6 1532.4 L1263.6 1536.95 L1251.54 1536.95 L1251.54 1556.3 Q1251.54 1560.66 1252.72 1561.9 Q1253.93 1563.14 1257.59 1563.14 L1263.6 1563.14 L1263.6 1568.04 L1257.59 1568.04 Q1250.81 1568.04 1248.23 1565.53 Q1245.65 1562.98 1245.65 1556.3 L1245.65 1536.95 L1241.36 1536.95 L1241.36 1532.4 L1245.65 1532.4 L1245.65 1522.27 L1251.54 1522.27 Z\" fill=\"#000000\" fill-rule=\"evenodd\" fill-opacity=\"1\" /><path clip-path=\"url(#clip080)\" d=\"M1271.31 1532.4 L1277.16 1532.4 L1277.16 1568.04 L1271.31 1568.04 L1271.31 1532.4 M1271.31 1518.52 L1277.16 1518.52 L1277.16 1525.93 L1271.31 1525.93 L1271.31 1518.52 Z\" fill=\"#000000\" fill-rule=\"evenodd\" fill-opacity=\"1\" /><path clip-path=\"url(#clip080)\" d=\"M1317.17 1539.24 Q1319.37 1535.29 1322.42 1533.41 Q1325.48 1531.54 1329.62 1531.54 Q1335.19 1531.54 1338.21 1535.45 Q1341.23 1539.33 1341.23 1546.53 L1341.23 1568.04 L1335.35 1568.04 L1335.35 1546.72 Q1335.35 1541.59 1333.53 1539.11 Q1331.72 1536.63 1327.99 1536.63 Q1323.44 1536.63 1320.8 1539.65 Q1318.16 1542.68 1318.16 1547.9 L1318.16 1568.04 L1312.27 1568.04 L1312.27 1546.72 Q1312.27 1541.56 1310.46 1539.11 Q1308.64 1536.63 1304.85 1536.63 Q1300.37 1536.63 1297.72 1539.68 Q1295.08 1542.71 1295.08 1547.9 L1295.08 1568.04 L1289.19 1568.04 L1289.19 1532.4 L1295.08 1532.4 L1295.08 1537.93 Q1297.09 1534.66 1299.89 1533.1 Q1302.69 1531.54 1306.54 1531.54 Q1310.42 1531.54 1313.13 1533.51 Q1315.87 1535.48 1317.17 1539.24 Z\" fill=\"#000000\" fill-rule=\"evenodd\" fill-opacity=\"1\" /><path clip-path=\"url(#clip080)\" d=\"M1383.41 1548.76 L1383.41 1551.62 L1356.48 1551.62 Q1356.86 1557.67 1360.11 1560.85 Q1363.39 1564 1369.21 1564 Q1372.59 1564 1375.74 1563.17 Q1378.92 1562.35 1382.04 1560.69 L1382.04 1566.23 Q1378.89 1567.57 1375.58 1568.27 Q1372.27 1568.97 1368.86 1568.97 Q1360.33 1568.97 1355.33 1564 Q1350.37 1559.04 1350.37 1550.57 Q1350.37 1541.82 1355.08 1536.69 Q1359.82 1531.54 1367.84 1531.54 Q1375.04 1531.54 1379.21 1536.18 Q1383.41 1540.8 1383.41 1548.76 M1377.55 1547.04 Q1377.49 1542.23 1374.85 1539.37 Q1372.24 1536.5 1367.91 1536.5 Q1363 1536.5 1360.04 1539.27 Q1357.12 1542.04 1356.67 1547.07 L1377.55 1547.04 Z\" fill=\"#000000\" fill-rule=\"evenodd\" fill-opacity=\"1\" /><path clip-path=\"url(#clip080)\" d=\"M1427.81 1518.58 Q1423.54 1525.9 1421.47 1533.06 Q1419.4 1540.23 1419.4 1547.58 Q1419.4 1554.93 1421.47 1562.16 Q1423.57 1569.35 1427.81 1576.64 L1422.72 1576.64 Q1417.94 1569.16 1415.55 1561.93 Q1413.2 1554.71 1413.2 1547.58 Q1413.2 1540.48 1415.55 1533.29 Q1417.91 1526.09 1422.72 1518.58 L1427.81 1518.58 Z\" fill=\"#000000\" fill-rule=\"evenodd\" fill-opacity=\"1\" /><path clip-path=\"url(#clip080)\" d=\"M1461.9 1533.45 L1461.9 1538.98 Q1459.41 1537.71 1456.74 1537.07 Q1454.07 1536.44 1451.2 1536.44 Q1446.84 1536.44 1444.65 1537.77 Q1442.48 1539.11 1442.48 1541.79 Q1442.48 1543.82 1444.04 1545 Q1445.6 1546.15 1450.31 1547.2 L1452.32 1547.64 Q1458.55 1548.98 1461.16 1551.43 Q1463.81 1553.85 1463.81 1558.21 Q1463.81 1563.17 1459.86 1566.07 Q1455.94 1568.97 1449.07 1568.97 Q1446.2 1568.97 1443.09 1568.39 Q1440 1567.85 1436.56 1566.74 L1436.56 1560.69 Q1439.81 1562.38 1442.96 1563.24 Q1446.11 1564.07 1449.2 1564.07 Q1453.33 1564.07 1455.56 1562.66 Q1457.79 1561.23 1457.79 1558.65 Q1457.79 1556.27 1456.17 1554.99 Q1454.58 1553.72 1449.13 1552.54 L1447.1 1552.07 Q1441.65 1550.92 1439.23 1548.56 Q1436.82 1546.18 1436.82 1542.04 Q1436.82 1537.01 1440.38 1534.27 Q1443.94 1531.54 1450.5 1531.54 Q1453.75 1531.54 1456.61 1532.01 Q1459.48 1532.49 1461.9 1533.45 Z\" fill=\"#000000\" fill-rule=\"evenodd\" fill-opacity=\"1\" /><path clip-path=\"url(#clip080)\" d=\"M1472.21 1518.58 L1477.3 1518.58 Q1482.08 1526.09 1484.43 1533.29 Q1486.82 1540.48 1486.82 1547.58 Q1486.82 1554.71 1484.43 1561.93 Q1482.08 1569.16 1477.3 1576.64 L1472.21 1576.64 Q1476.44 1569.35 1478.51 1562.16 Q1480.61 1554.93 1480.61 1547.58 Q1480.61 1540.23 1478.51 1533.06 Q1476.44 1525.9 1472.21 1518.58 Z\" fill=\"#000000\" fill-rule=\"evenodd\" fill-opacity=\"1\" /><polyline clip-path=\"url(#clip082)\" style=\"stroke:#000000; stroke-linecap:round; stroke-linejoin:round; stroke-width:2; stroke-opacity:0.1; fill:none\" points=\"375.418,1264.82 2352.76,1264.82 \"/>\n",
       "<polyline clip-path=\"url(#clip082)\" style=\"stroke:#000000; stroke-linecap:round; stroke-linejoin:round; stroke-width:2; stroke-opacity:0.1; fill:none\" points=\"375.418,998.007 2352.76,998.007 \"/>\n",
       "<polyline clip-path=\"url(#clip082)\" style=\"stroke:#000000; stroke-linecap:round; stroke-linejoin:round; stroke-width:2; stroke-opacity:0.1; fill:none\" points=\"375.418,731.192 2352.76,731.192 \"/>\n",
       "<polyline clip-path=\"url(#clip082)\" style=\"stroke:#000000; stroke-linecap:round; stroke-linejoin:round; stroke-width:2; stroke-opacity:0.1; fill:none\" points=\"375.418,464.376 2352.76,464.376 \"/>\n",
       "<polyline clip-path=\"url(#clip082)\" style=\"stroke:#000000; stroke-linecap:round; stroke-linejoin:round; stroke-width:2; stroke-opacity:0.1; fill:none\" points=\"375.418,197.561 2352.76,197.561 \"/>\n",
       "<polyline clip-path=\"url(#clip080)\" style=\"stroke:#000000; stroke-linecap:round; stroke-linejoin:round; stroke-width:4; stroke-opacity:1; fill:none\" points=\"375.418,1423.18 375.418,123.472 \"/>\n",
       "<polyline clip-path=\"url(#clip080)\" style=\"stroke:#000000; stroke-linecap:round; stroke-linejoin:round; stroke-width:4; stroke-opacity:1; fill:none\" points=\"375.418,1264.82 394.316,1264.82 \"/>\n",
       "<polyline clip-path=\"url(#clip080)\" style=\"stroke:#000000; stroke-linecap:round; stroke-linejoin:round; stroke-width:4; stroke-opacity:1; fill:none\" points=\"375.418,998.007 394.316,998.007 \"/>\n",
       "<polyline clip-path=\"url(#clip080)\" style=\"stroke:#000000; stroke-linecap:round; stroke-linejoin:round; stroke-width:4; stroke-opacity:1; fill:none\" points=\"375.418,731.192 394.316,731.192 \"/>\n",
       "<polyline clip-path=\"url(#clip080)\" style=\"stroke:#000000; stroke-linecap:round; stroke-linejoin:round; stroke-width:4; stroke-opacity:1; fill:none\" points=\"375.418,464.376 394.316,464.376 \"/>\n",
       "<polyline clip-path=\"url(#clip080)\" style=\"stroke:#000000; stroke-linecap:round; stroke-linejoin:round; stroke-width:4; stroke-opacity:1; fill:none\" points=\"375.418,197.561 394.316,197.561 \"/>\n",
       "<path clip-path=\"url(#clip080)\" d=\"M114.26 1271.72 L143.936 1271.72 L143.936 1275.66 L114.26 1275.66 L114.26 1271.72 Z\" fill=\"#000000\" fill-rule=\"evenodd\" fill-opacity=\"1\" /><path clip-path=\"url(#clip080)\" d=\"M166.876 1258.06 L155.07 1276.51 L166.876 1276.51 L166.876 1258.06 M165.649 1253.99 L171.528 1253.99 L171.528 1276.51 L176.459 1276.51 L176.459 1280.4 L171.528 1280.4 L171.528 1288.55 L166.876 1288.55 L166.876 1280.4 L151.274 1280.4 L151.274 1275.89 L165.649 1253.99 Z\" fill=\"#000000\" fill-rule=\"evenodd\" fill-opacity=\"1\" /><path clip-path=\"url(#clip080)\" d=\"M184.19 1282.67 L189.075 1282.67 L189.075 1288.55 L184.19 1288.55 L184.19 1282.67 Z\" fill=\"#000000\" fill-rule=\"evenodd\" fill-opacity=\"1\" /><path clip-path=\"url(#clip080)\" d=\"M209.26 1257.07 Q205.649 1257.07 203.82 1260.63 Q202.014 1264.18 202.014 1271.31 Q202.014 1278.41 203.82 1281.98 Q205.649 1285.52 209.26 1285.52 Q212.894 1285.52 214.699 1281.98 Q216.528 1278.41 216.528 1271.31 Q216.528 1264.18 214.699 1260.63 Q212.894 1257.07 209.26 1257.07 M209.26 1253.37 Q215.07 1253.37 218.125 1257.97 Q221.204 1262.56 221.204 1271.31 Q221.204 1280.03 218.125 1284.64 Q215.07 1289.22 209.26 1289.22 Q203.449 1289.22 200.371 1284.64 Q197.315 1280.03 197.315 1271.31 Q197.315 1262.56 200.371 1257.97 Q203.449 1253.37 209.26 1253.37 Z\" fill=\"#000000\" fill-rule=\"evenodd\" fill-opacity=\"1\" /><path clip-path=\"url(#clip080)\" d=\"M257.593 1263.09 L247.014 1273.71 L257.593 1284.29 L254.838 1287.09 L244.213 1276.47 L233.588 1287.09 L230.857 1284.29 L241.412 1273.71 L230.857 1263.09 L233.588 1260.29 L244.213 1270.91 L254.838 1260.29 L257.593 1263.09 Z\" fill=\"#000000\" fill-rule=\"evenodd\" fill-opacity=\"1\" /><path clip-path=\"url(#clip080)\" d=\"M269.954 1284.62 L277.593 1284.62 L277.593 1258.25 L269.282 1259.92 L269.282 1255.66 L277.546 1253.99 L282.222 1253.99 L282.222 1284.62 L289.861 1284.62 L289.861 1288.55 L269.954 1288.55 L269.954 1284.62 Z\" fill=\"#000000\" fill-rule=\"evenodd\" fill-opacity=\"1\" /><path clip-path=\"url(#clip080)\" d=\"M309.305 1257.07 Q305.694 1257.07 303.866 1260.63 Q302.06 1264.18 302.06 1271.31 Q302.06 1278.41 303.866 1281.98 Q305.694 1285.52 309.305 1285.52 Q312.94 1285.52 314.745 1281.98 Q316.574 1278.41 316.574 1271.31 Q316.574 1264.18 314.745 1260.63 Q312.94 1257.07 309.305 1257.07 M309.305 1253.37 Q315.116 1253.37 318.171 1257.97 Q321.25 1262.56 321.25 1271.31 Q321.25 1280.03 318.171 1284.64 Q315.116 1289.22 309.305 1289.22 Q303.495 1289.22 300.417 1284.64 Q297.361 1280.03 297.361 1271.31 Q297.361 1262.56 300.417 1257.97 Q303.495 1253.37 309.305 1253.37 Z\" fill=\"#000000\" fill-rule=\"evenodd\" fill-opacity=\"1\" /><path clip-path=\"url(#clip080)\" d=\"M322.435 1233.06 L337.349 1233.06 L337.349 1236.26 L325.914 1236.26 L325.914 1243.14 Q326.742 1242.86 327.569 1242.73 Q328.397 1242.58 329.224 1242.58 Q333.926 1242.58 336.672 1245.15 Q339.418 1247.73 339.418 1252.13 Q339.418 1256.66 336.597 1259.18 Q333.776 1261.69 328.641 1261.69 Q326.873 1261.69 325.03 1261.38 Q323.206 1261.08 321.25 1260.48 L321.25 1256.66 Q322.942 1257.59 324.748 1258.04 Q326.554 1258.49 328.566 1258.49 Q331.82 1258.49 333.719 1256.78 Q335.619 1255.07 335.619 1252.13 Q335.619 1249.2 333.719 1247.49 Q331.82 1245.77 328.566 1245.77 Q327.043 1245.77 325.519 1246.11 Q324.015 1246.45 322.435 1247.17 L322.435 1233.06 Z\" fill=\"#000000\" fill-rule=\"evenodd\" fill-opacity=\"1\" /><path clip-path=\"url(#clip080)\" d=\"M114.26 1004.91 L143.936 1004.91 L143.936 1008.84 L114.26 1008.84 L114.26 1004.91 Z\" fill=\"#000000\" fill-rule=\"evenodd\" fill-opacity=\"1\" /><path clip-path=\"url(#clip080)\" d=\"M158.056 1017.8 L174.376 1017.8 L174.376 1021.73 L152.431 1021.73 L152.431 1017.8 Q155.093 1015.05 159.677 1010.42 Q164.283 1005.76 165.464 1004.42 Q167.709 1001.9 168.589 1000.16 Q169.491 998.402 169.491 996.712 Q169.491 993.957 167.547 992.221 Q165.626 990.485 162.524 990.485 Q160.325 990.485 157.871 991.249 Q155.44 992.013 152.663 993.564 L152.663 988.842 Q155.487 987.707 157.94 987.129 Q160.394 986.55 162.431 986.55 Q167.802 986.55 170.996 989.235 Q174.19 991.92 174.19 996.411 Q174.19 998.541 173.38 1000.46 Q172.593 1002.36 170.487 1004.95 Q169.908 1005.62 166.806 1008.84 Q163.704 1012.04 158.056 1017.8 Z\" fill=\"#000000\" fill-rule=\"evenodd\" fill-opacity=\"1\" /><path clip-path=\"url(#clip080)\" d=\"M184.19 1015.86 L189.075 1015.86 L189.075 1021.73 L184.19 1021.73 L184.19 1015.86 Z\" fill=\"#000000\" fill-rule=\"evenodd\" fill-opacity=\"1\" /><path clip-path=\"url(#clip080)\" d=\"M209.26 990.254 Q205.649 990.254 203.82 993.818 Q202.014 997.36 202.014 1004.49 Q202.014 1011.6 203.82 1015.16 Q205.649 1018.7 209.26 1018.7 Q212.894 1018.7 214.699 1015.16 Q216.528 1011.6 216.528 1004.49 Q216.528 997.36 214.699 993.818 Q212.894 990.254 209.26 990.254 M209.26 986.55 Q215.07 986.55 218.125 991.156 Q221.204 995.74 221.204 1004.49 Q221.204 1013.22 218.125 1017.82 Q215.07 1022.41 209.26 1022.41 Q203.449 1022.41 200.371 1017.82 Q197.315 1013.22 197.315 1004.49 Q197.315 995.74 200.371 991.156 Q203.449 986.55 209.26 986.55 Z\" fill=\"#000000\" fill-rule=\"evenodd\" fill-opacity=\"1\" /><path clip-path=\"url(#clip080)\" d=\"M257.593 996.272 L247.014 1006.9 L257.593 1017.48 L254.838 1020.28 L244.213 1009.65 L233.588 1020.28 L230.857 1017.48 L241.412 1006.9 L230.857 996.272 L233.588 993.471 L244.213 1004.1 L254.838 993.471 L257.593 996.272 Z\" fill=\"#000000\" fill-rule=\"evenodd\" fill-opacity=\"1\" /><path clip-path=\"url(#clip080)\" d=\"M269.954 1017.8 L277.593 1017.8 L277.593 991.434 L269.282 993.101 L269.282 988.842 L277.546 987.175 L282.222 987.175 L282.222 1017.8 L289.861 1017.8 L289.861 1021.73 L269.954 1021.73 L269.954 1017.8 Z\" fill=\"#000000\" fill-rule=\"evenodd\" fill-opacity=\"1\" /><path clip-path=\"url(#clip080)\" d=\"M309.305 990.254 Q305.694 990.254 303.866 993.818 Q302.06 997.36 302.06 1004.49 Q302.06 1011.6 303.866 1015.16 Q305.694 1018.7 309.305 1018.7 Q312.94 1018.7 314.745 1015.16 Q316.574 1011.6 316.574 1004.49 Q316.574 997.36 314.745 993.818 Q312.94 990.254 309.305 990.254 M309.305 986.55 Q315.116 986.55 318.171 991.156 Q321.25 995.74 321.25 1004.49 Q321.25 1013.22 318.171 1017.82 Q315.116 1022.41 309.305 1022.41 Q303.495 1022.41 300.417 1017.82 Q297.361 1013.22 297.361 1004.49 Q297.361 995.74 300.417 991.156 Q303.495 986.55 309.305 986.55 Z\" fill=\"#000000\" fill-rule=\"evenodd\" fill-opacity=\"1\" /><path clip-path=\"url(#clip080)\" d=\"M322.435 966.245 L337.349 966.245 L337.349 969.442 L325.914 969.442 L325.914 976.326 Q326.742 976.043 327.569 975.912 Q328.397 975.761 329.224 975.761 Q333.926 975.761 336.672 978.338 Q339.418 980.915 339.418 985.316 Q339.418 989.848 336.597 992.369 Q333.776 994.87 328.641 994.87 Q326.873 994.87 325.03 994.569 Q323.206 994.268 321.25 993.666 L321.25 989.848 Q322.942 990.77 324.748 991.221 Q326.554 991.673 328.566 991.673 Q331.82 991.673 333.719 989.961 Q335.619 988.25 335.619 985.316 Q335.619 982.382 333.719 980.67 Q331.82 978.959 328.566 978.959 Q327.043 978.959 325.519 979.297 Q324.015 979.636 322.435 980.35 L322.435 966.245 Z\" fill=\"#000000\" fill-rule=\"evenodd\" fill-opacity=\"1\" /><path clip-path=\"url(#clip080)\" d=\"M327.474 716.991 Q323.863 716.991 322.034 720.555 Q320.228 724.097 320.228 731.227 Q320.228 738.333 322.034 741.898 Q323.863 745.439 327.474 745.439 Q331.108 745.439 332.913 741.898 Q334.742 738.333 334.742 731.227 Q334.742 724.097 332.913 720.555 Q331.108 716.991 327.474 716.991 M327.474 713.287 Q333.284 713.287 336.339 717.893 Q339.418 722.477 339.418 731.227 Q339.418 739.953 336.339 744.56 Q333.284 749.143 327.474 749.143 Q321.664 749.143 318.585 744.56 Q315.529 739.953 315.529 731.227 Q315.529 722.477 318.585 717.893 Q321.664 713.287 327.474 713.287 Z\" fill=\"#000000\" fill-rule=\"evenodd\" fill-opacity=\"1\" /><path clip-path=\"url(#clip080)\" d=\"M158.056 484.169 L174.376 484.169 L174.376 488.104 L152.431 488.104 L152.431 484.169 Q155.093 481.414 159.677 476.785 Q164.283 472.132 165.464 470.789 Q167.709 468.266 168.589 466.53 Q169.491 464.771 169.491 463.081 Q169.491 460.326 167.547 458.59 Q165.626 456.854 162.524 456.854 Q160.325 456.854 157.871 457.618 Q155.44 458.382 152.663 459.933 L152.663 455.211 Q155.487 454.076 157.94 453.498 Q160.394 452.919 162.431 452.919 Q167.802 452.919 170.996 455.604 Q174.19 458.289 174.19 462.78 Q174.19 464.91 173.38 466.831 Q172.593 468.729 170.487 471.322 Q169.908 471.993 166.806 475.211 Q163.704 478.405 158.056 484.169 Z\" fill=\"#000000\" fill-rule=\"evenodd\" fill-opacity=\"1\" /><path clip-path=\"url(#clip080)\" d=\"M184.19 482.224 L189.075 482.224 L189.075 488.104 L184.19 488.104 L184.19 482.224 Z\" fill=\"#000000\" fill-rule=\"evenodd\" fill-opacity=\"1\" /><path clip-path=\"url(#clip080)\" d=\"M209.26 456.623 Q205.649 456.623 203.82 460.187 Q202.014 463.729 202.014 470.859 Q202.014 477.965 203.82 481.53 Q205.649 485.072 209.26 485.072 Q212.894 485.072 214.699 481.53 Q216.528 477.965 216.528 470.859 Q216.528 463.729 214.699 460.187 Q212.894 456.623 209.26 456.623 M209.26 452.919 Q215.07 452.919 218.125 457.525 Q221.204 462.109 221.204 470.859 Q221.204 479.586 218.125 484.192 Q215.07 488.775 209.26 488.775 Q203.449 488.775 200.371 484.192 Q197.315 479.586 197.315 470.859 Q197.315 462.109 200.371 457.525 Q203.449 452.919 209.26 452.919 Z\" fill=\"#000000\" fill-rule=\"evenodd\" fill-opacity=\"1\" /><path clip-path=\"url(#clip080)\" d=\"M257.593 462.641 L247.014 473.266 L257.593 483.845 L254.838 486.646 L244.213 476.021 L233.588 486.646 L230.857 483.845 L241.412 473.266 L230.857 462.641 L233.588 459.84 L244.213 470.465 L254.838 459.84 L257.593 462.641 Z\" fill=\"#000000\" fill-rule=\"evenodd\" fill-opacity=\"1\" /><path clip-path=\"url(#clip080)\" d=\"M269.954 484.169 L277.593 484.169 L277.593 457.803 L269.282 459.47 L269.282 455.211 L277.546 453.544 L282.222 453.544 L282.222 484.169 L289.861 484.169 L289.861 488.104 L269.954 488.104 L269.954 484.169 Z\" fill=\"#000000\" fill-rule=\"evenodd\" fill-opacity=\"1\" /><path clip-path=\"url(#clip080)\" d=\"M309.305 456.623 Q305.694 456.623 303.866 460.187 Q302.06 463.729 302.06 470.859 Q302.06 477.965 303.866 481.53 Q305.694 485.072 309.305 485.072 Q312.94 485.072 314.745 481.53 Q316.574 477.965 316.574 470.859 Q316.574 463.729 314.745 460.187 Q312.94 456.623 309.305 456.623 M309.305 452.919 Q315.116 452.919 318.171 457.525 Q321.25 462.109 321.25 470.859 Q321.25 479.586 318.171 484.192 Q315.116 488.775 309.305 488.775 Q303.495 488.775 300.417 484.192 Q297.361 479.586 297.361 470.859 Q297.361 462.109 300.417 457.525 Q303.495 452.919 309.305 452.919 Z\" fill=\"#000000\" fill-rule=\"evenodd\" fill-opacity=\"1\" /><path clip-path=\"url(#clip080)\" d=\"M322.435 432.614 L337.349 432.614 L337.349 435.811 L325.914 435.811 L325.914 442.695 Q326.742 442.412 327.569 442.281 Q328.397 442.13 329.224 442.13 Q333.926 442.13 336.672 444.707 Q339.418 447.284 339.418 451.685 Q339.418 456.217 336.597 458.738 Q333.776 461.239 328.641 461.239 Q326.873 461.239 325.03 460.938 Q323.206 460.637 321.25 460.035 L321.25 456.217 Q322.942 457.139 324.748 457.59 Q326.554 458.042 328.566 458.042 Q331.82 458.042 333.719 456.33 Q335.619 454.619 335.619 451.685 Q335.619 448.751 333.719 447.039 Q331.82 445.328 328.566 445.328 Q327.043 445.328 325.519 445.666 Q324.015 446.005 322.435 446.719 L322.435 432.614 Z\" fill=\"#000000\" fill-rule=\"evenodd\" fill-opacity=\"1\" /><path clip-path=\"url(#clip080)\" d=\"M166.876 190.803 L155.07 209.252 L166.876 209.252 L166.876 190.803 M165.649 186.729 L171.528 186.729 L171.528 209.252 L176.459 209.252 L176.459 213.14 L171.528 213.14 L171.528 221.289 L166.876 221.289 L166.876 213.14 L151.274 213.14 L151.274 208.627 L165.649 186.729 Z\" fill=\"#000000\" fill-rule=\"evenodd\" fill-opacity=\"1\" /><path clip-path=\"url(#clip080)\" d=\"M184.19 215.409 L189.075 215.409 L189.075 221.289 L184.19 221.289 L184.19 215.409 Z\" fill=\"#000000\" fill-rule=\"evenodd\" fill-opacity=\"1\" /><path clip-path=\"url(#clip080)\" d=\"M209.26 189.807 Q205.649 189.807 203.82 193.372 Q202.014 196.914 202.014 204.043 Q202.014 211.15 203.82 214.715 Q205.649 218.256 209.26 218.256 Q212.894 218.256 214.699 214.715 Q216.528 211.15 216.528 204.043 Q216.528 196.914 214.699 193.372 Q212.894 189.807 209.26 189.807 M209.26 186.104 Q215.07 186.104 218.125 190.71 Q221.204 195.293 221.204 204.043 Q221.204 212.77 218.125 217.377 Q215.07 221.96 209.26 221.96 Q203.449 221.96 200.371 217.377 Q197.315 212.77 197.315 204.043 Q197.315 195.293 200.371 190.71 Q203.449 186.104 209.26 186.104 Z\" fill=\"#000000\" fill-rule=\"evenodd\" fill-opacity=\"1\" /><path clip-path=\"url(#clip080)\" d=\"M257.593 195.826 L247.014 206.451 L257.593 217.029 L254.838 219.83 L244.213 209.205 L233.588 219.83 L230.857 217.029 L241.412 206.451 L230.857 195.826 L233.588 193.025 L244.213 203.65 L254.838 193.025 L257.593 195.826 Z\" fill=\"#000000\" fill-rule=\"evenodd\" fill-opacity=\"1\" /><path clip-path=\"url(#clip080)\" d=\"M269.954 217.353 L277.593 217.353 L277.593 190.988 L269.282 192.654 L269.282 188.395 L277.546 186.729 L282.222 186.729 L282.222 217.353 L289.861 217.353 L289.861 221.289 L269.954 221.289 L269.954 217.353 Z\" fill=\"#000000\" fill-rule=\"evenodd\" fill-opacity=\"1\" /><path clip-path=\"url(#clip080)\" d=\"M309.305 189.807 Q305.694 189.807 303.866 193.372 Q302.06 196.914 302.06 204.043 Q302.06 211.15 303.866 214.715 Q305.694 218.256 309.305 218.256 Q312.94 218.256 314.745 214.715 Q316.574 211.15 316.574 204.043 Q316.574 196.914 314.745 193.372 Q312.94 189.807 309.305 189.807 M309.305 186.104 Q315.116 186.104 318.171 190.71 Q321.25 195.293 321.25 204.043 Q321.25 212.77 318.171 217.377 Q315.116 221.96 309.305 221.96 Q303.495 221.96 300.417 217.377 Q297.361 212.77 297.361 204.043 Q297.361 195.293 300.417 190.71 Q303.495 186.104 309.305 186.104 Z\" fill=\"#000000\" fill-rule=\"evenodd\" fill-opacity=\"1\" /><path clip-path=\"url(#clip080)\" d=\"M322.435 165.798 L337.349 165.798 L337.349 168.995 L325.914 168.995 L325.914 175.879 Q326.742 175.597 327.569 175.465 Q328.397 175.315 329.224 175.315 Q333.926 175.315 336.672 177.892 Q339.418 180.468 339.418 184.869 Q339.418 189.402 336.597 191.922 Q333.776 194.424 328.641 194.424 Q326.873 194.424 325.03 194.123 Q323.206 193.822 321.25 193.22 L321.25 189.402 Q322.942 190.323 324.748 190.775 Q326.554 191.226 328.566 191.226 Q331.82 191.226 333.719 189.515 Q335.619 187.803 335.619 184.869 Q335.619 181.935 333.719 180.224 Q331.82 178.512 328.566 178.512 Q327.043 178.512 325.519 178.851 Q324.015 179.189 322.435 179.904 L322.435 165.798 Z\" fill=\"#000000\" fill-rule=\"evenodd\" fill-opacity=\"1\" /><path clip-path=\"url(#clip080)\" d=\"M49.9359 788.254 L28.3562 788.254 L28.3562 782.397 L49.7131 782.397 Q54.7739 782.397 57.3202 780.424 Q59.8346 778.45 59.8346 774.504 Q59.8346 769.761 56.8109 767.024 Q53.7872 764.255 48.5673 764.255 L28.3562 764.255 L28.3562 758.398 L64.0042 758.398 L64.0042 764.255 L58.5296 764.255 Q61.7762 766.387 63.3676 769.22 Q64.9272 772.021 64.9272 775.745 Q64.9272 781.888 61.1078 785.071 Q57.2883 788.254 49.9359 788.254 M27.4968 773.517 L27.4968 773.517 Z\" fill=\"#000000\" fill-rule=\"evenodd\" fill-opacity=\"1\" /><path clip-path=\"url(#clip080)\" d=\"M1101.22 12.096 L1109.41 12.096 L1109.41 72.576 L1101.22 72.576 L1101.22 12.096 Z\" fill=\"#000000\" fill-rule=\"evenodd\" fill-opacity=\"1\" /><path clip-path=\"url(#clip080)\" d=\"M1163.08 45.1919 L1163.08 72.576 L1155.63 72.576 L1155.63 45.4349 Q1155.63 38.994 1153.12 35.7938 Q1150.6 32.5936 1145.58 32.5936 Q1139.55 32.5936 1136.06 36.4419 Q1132.58 40.2903 1132.58 46.9338 L1132.58 72.576 L1125.08 72.576 L1125.08 27.2059 L1132.58 27.2059 L1132.58 34.2544 Q1135.25 30.163 1138.86 28.1376 Q1142.5 26.1121 1147.24 26.1121 Q1155.06 26.1121 1159.07 30.9732 Q1163.08 35.7938 1163.08 45.1919 Z\" fill=\"#000000\" fill-rule=\"evenodd\" fill-opacity=\"1\" /><path clip-path=\"url(#clip080)\" d=\"M1185.16 65.7705 L1185.16 89.8329 L1177.66 89.8329 L1177.66 27.2059 L1185.16 27.2059 L1185.16 34.0924 Q1187.51 30.0415 1191.07 28.0971 Q1194.68 26.1121 1199.66 26.1121 Q1207.92 26.1121 1213.07 32.6746 Q1218.25 39.2371 1218.25 49.9314 Q1218.25 60.6258 1213.07 67.1883 Q1207.92 73.7508 1199.66 73.7508 Q1194.68 73.7508 1191.07 71.8063 Q1187.51 69.8214 1185.16 65.7705 M1210.52 49.9314 Q1210.52 41.7081 1207.11 37.0496 Q1203.75 32.3505 1197.84 32.3505 Q1191.92 32.3505 1188.52 37.0496 Q1185.16 41.7081 1185.16 49.9314 Q1185.16 58.1548 1188.52 62.8538 Q1191.92 67.5124 1197.84 67.5124 Q1203.75 67.5124 1207.11 62.8538 Q1210.52 58.1548 1210.52 49.9314 Z\" fill=\"#000000\" fill-rule=\"evenodd\" fill-opacity=\"1\" /><path clip-path=\"url(#clip080)\" d=\"M1229.84 54.671 L1229.84 27.2059 L1237.29 27.2059 L1237.29 54.3874 Q1237.29 60.8284 1239.81 64.0691 Q1242.32 67.2693 1247.34 67.2693 Q1253.38 67.2693 1256.86 63.421 Q1260.38 59.5726 1260.38 52.9291 L1260.38 27.2059 L1267.84 27.2059 L1267.84 72.576 L1260.38 72.576 L1260.38 65.6084 Q1257.67 69.7404 1254.06 71.7658 Q1250.5 73.7508 1245.76 73.7508 Q1237.94 73.7508 1233.89 68.8897 Q1229.84 64.0286 1229.84 54.671 M1248.6 26.1121 L1248.6 26.1121 Z\" fill=\"#000000\" fill-rule=\"evenodd\" fill-opacity=\"1\" /><path clip-path=\"url(#clip080)\" d=\"M1290.56 14.324 L1290.56 27.2059 L1305.92 27.2059 L1305.92 32.9987 L1290.56 32.9987 L1290.56 57.6282 Q1290.56 63.1779 1292.06 64.7578 Q1293.6 66.3376 1298.26 66.3376 L1305.92 66.3376 L1305.92 72.576 L1298.26 72.576 Q1289.63 72.576 1286.35 69.3758 Q1283.07 66.1351 1283.07 57.6282 L1283.07 32.9987 L1277.6 32.9987 L1277.6 27.2059 L1283.07 27.2059 L1283.07 14.324 L1290.56 14.324 Z\" fill=\"#000000\" fill-rule=\"evenodd\" fill-opacity=\"1\" /><path clip-path=\"url(#clip080)\" d=\"M1342.41 12.096 L1350.6 12.096 L1350.6 36.8875 L1380.33 36.8875 L1380.33 12.096 L1388.51 12.096 L1388.51 72.576 L1380.33 72.576 L1380.33 43.7741 L1350.6 43.7741 L1350.6 72.576 L1342.41 72.576 L1342.41 12.096 Z\" fill=\"#000000\" fill-rule=\"evenodd\" fill-opacity=\"1\" /><path clip-path=\"url(#clip080)\" d=\"M1404.47 27.2059 L1411.93 27.2059 L1411.93 72.576 L1404.47 72.576 L1404.47 27.2059 M1404.47 9.54393 L1411.93 9.54393 L1411.93 18.9825 L1404.47 18.9825 L1404.47 9.54393 Z\" fill=\"#000000\" fill-rule=\"evenodd\" fill-opacity=\"1\" /><path clip-path=\"url(#clip080)\" d=\"M1456.45 28.5427 L1456.45 35.5912 Q1453.29 33.9709 1449.89 33.1607 Q1446.48 32.3505 1442.84 32.3505 Q1437.29 32.3505 1434.49 34.0519 Q1431.74 35.7533 1431.74 39.156 Q1431.74 41.7486 1433.72 43.2475 Q1435.71 44.7058 1441.7 46.0426 L1444.25 46.6097 Q1452.19 48.3111 1455.52 51.4303 Q1458.88 54.509 1458.88 60.0587 Q1458.88 66.3781 1453.86 70.0644 Q1448.87 73.7508 1440.12 73.7508 Q1436.48 73.7508 1432.51 73.0216 Q1428.58 72.3329 1424.2 70.9151 L1424.2 63.2184 Q1428.33 65.3654 1432.34 66.4591 Q1436.36 67.5124 1440.28 67.5124 Q1445.55 67.5124 1448.39 65.73 Q1451.22 63.9071 1451.22 60.6258 Q1451.22 57.5877 1449.16 55.9673 Q1447.13 54.3469 1440.2 52.8481 L1437.61 52.2405 Q1430.68 50.7821 1427.61 47.7845 Q1424.53 44.7463 1424.53 39.4801 Q1424.53 33.0797 1429.06 29.5959 Q1433.6 26.1121 1441.95 26.1121 Q1446.08 26.1121 1449.72 26.7198 Q1453.37 27.3274 1456.45 28.5427 Z\" fill=\"#000000\" fill-rule=\"evenodd\" fill-opacity=\"1\" /><path clip-path=\"url(#clip080)\" d=\"M1478.12 14.324 L1478.12 27.2059 L1493.47 27.2059 L1493.47 32.9987 L1478.12 32.9987 L1478.12 57.6282 Q1478.12 63.1779 1479.62 64.7578 Q1481.16 66.3376 1485.82 66.3376 L1493.47 66.3376 L1493.47 72.576 L1485.82 72.576 Q1477.19 72.576 1473.91 69.3758 Q1470.63 66.1351 1470.63 57.6282 L1470.63 32.9987 L1465.16 32.9987 L1465.16 27.2059 L1470.63 27.2059 L1470.63 14.324 L1478.12 14.324 Z\" fill=\"#000000\" fill-rule=\"evenodd\" fill-opacity=\"1\" /><path clip-path=\"url(#clip080)\" d=\"M1520.86 32.4315 Q1514.86 32.4315 1511.38 37.1306 Q1507.89 41.7891 1507.89 49.9314 Q1507.89 58.0738 1511.34 62.7728 Q1514.82 67.4314 1520.86 67.4314 Q1526.81 67.4314 1530.3 62.7323 Q1533.78 58.0333 1533.78 49.9314 Q1533.78 41.8701 1530.3 37.1711 Q1526.81 32.4315 1520.86 32.4315 M1520.86 26.1121 Q1530.58 26.1121 1536.13 32.4315 Q1541.68 38.7509 1541.68 49.9314 Q1541.68 61.0714 1536.13 67.4314 Q1530.58 73.7508 1520.86 73.7508 Q1511.09 73.7508 1505.54 67.4314 Q1500.04 61.0714 1500.04 49.9314 Q1500.04 38.7509 1505.54 32.4315 Q1511.09 26.1121 1520.86 26.1121 Z\" fill=\"#000000\" fill-rule=\"evenodd\" fill-opacity=\"1\" /><path clip-path=\"url(#clip080)\" d=\"M1580.32 34.1734 Q1579.07 33.4443 1577.57 33.1202 Q1576.11 32.7556 1574.33 32.7556 Q1568.01 32.7556 1564.61 36.8875 Q1561.24 40.9789 1561.24 48.6757 L1561.24 72.576 L1553.75 72.576 L1553.75 27.2059 L1561.24 27.2059 L1561.24 34.2544 Q1563.59 30.1225 1567.36 28.1376 Q1571.13 26.1121 1576.52 26.1121 Q1577.29 26.1121 1578.22 26.2337 Q1579.15 26.3147 1580.28 26.5172 L1580.32 34.1734 Z\" fill=\"#000000\" fill-rule=\"evenodd\" fill-opacity=\"1\" /><path clip-path=\"url(#clip080)\" d=\"M1607.02 76.7889 Q1603.86 84.8907 1600.86 87.3618 Q1597.86 89.8329 1592.84 89.8329 L1586.89 89.8329 L1586.89 83.5945 L1591.26 83.5945 Q1594.34 83.5945 1596.04 82.1361 Q1597.74 80.6778 1599.81 75.2496 L1601.15 71.8468 L1582.8 27.2059 L1590.69 27.2059 L1604.87 62.6918 L1619.05 27.2059 L1626.95 27.2059 L1607.02 76.7889 Z\" fill=\"#000000\" fill-rule=\"evenodd\" fill-opacity=\"1\" /><polyline clip-path=\"url(#clip082)\" style=\"stroke:#009af9; stroke-linecap:round; stroke-linejoin:round; stroke-width:4; stroke-opacity:1; fill:none\" points=\"431.38,731.212 438.115,731.213 444.849,731.214 451.584,731.215 458.318,731.216 465.052,731.216 471.787,731.217 478.521,731.218 485.255,731.219 491.99,731.22 498.724,731.221 505.458,731.221 512.193,731.223 518.927,731.224 525.661,731.226 532.396,731.227 539.13,731.228 545.864,731.227 552.599,731.231 559.333,731.233 566.067,731.234 572.802,731.236 579.536,731.237 586.27,731.239 593.005,731.238 599.739,731.243 606.473,731.245 613.208,731.247 619.942,731.245 626.676,731.251 633.411,731.253 640.145,731.256 646.879,731.258 653.614,731.256 660.348,731.264 667.082,731.267 673.817,731.269 680.551,731.272 687.286,731.275 694.02,731.278 700.754,731.276 707.489,731.285 714.223,731.289 720.957,731.286 727.692,731.288 734.426,731.301 741.16,731.304 747.895,731.3 754.629,731.313 761.363,731.318 768.098,731.311 774.832,731.327 781.566,731.321 788.301,731.339 795.035,731.344 801.769,731.336 808.504,731.356 815.238,731.362 821.972,731.353 828.707,731.374 835.441,731.383 842.175,731.389 848.91,731.398 855.644,731.406 862.378,731.395 869.113,731.421 875.847,731.431 882.581,731.44 889.316,731.448 896.05,731.458 902.785,731.473 909.519,731.481 916.253,731.49 922.988,731.503 929.722,731.516 936.456,731.528 943.191,731.543 949.925,731.554 956.659,731.533 963.394,731.587 970.128,731.604 976.862,731.613 983.597,731.629 990.331,731.61 997.065,731.622 1003.8,731.685 1010.53,731.652 1017.27,731.725 1024,731.741 1030.74,731.76 1037.47,731.786 1044.21,731.812 1050.94,731.829 1057.67,731.866 1064.41,731.815 1071.14,731.915 1077.88,731.931 1084.61,731.962 1091.35,731.996 1098.08,732.024 1104.81,731.978 1111.55,732.087 1118.28,732.127 1125.02,732.16 1131.75,732.214 1138.49,732.228 1145.22,732.165 1151.96,732.319 1158.69,732.361 1165.42,732.393 1172.16,732.328 1178.89,732.49 1185.63,732.548 1192.36,732.471 1199.1,732.652 1205.83,732.711 1212.56,732.759 1219.3,732.819 1226.03,732.886 1232.77,732.776 1239.5,732.858 1246.24,732.89 1252.97,733.17 1259.7,733.211 1266.44,733.094 1273.17,733.39 1279.91,733.469 1286.64,733.544 1293.38,733.649 1300.11,733.729 1306.85,733.841 1313.58,733.925 1320.31,734.052 1327.05,734.177 1333.78,734.275 1340.52,734.41 1347.25,734.542 1353.99,734.623 1360.72,734.757 1367.45,734.534 1374.19,734.7 1380.92,735.256 1387.66,735.318 1394.39,735.508 1401.13,735.655 1407.86,735.419 1414.59,736.009 1421.33,736.253 1428.06,736.455 1434.8,736.642 1441.53,736.828 1448.27,737.06 1455,737.261 1461.73,736.882 1468.47,737.724 1475.2,738.034 1481.94,737.505 1488.67,737.754 1495.41,738.749 1502.14,739.136 1508.88,739.329 1515.61,739.602 1522.34,740.058 1529.08,740.275 1535.81,740.737 1542.55,741.044 1549.28,741.404 1556.02,741.896 1562.75,742.222 1569.48,742.656 1576.22,743.247 1582.95,743.621 1589.69,743.924 1596.42,744.494 1603.16,743.709 1609.89,745.71 1616.62,745.973 1623.36,746.611 1630.09,745.689 1636.83,748.04 1643.56,748.483 1650.3,747.378 1657.03,749.659 1663.77,748.705 1670.5,751.175 1677.23,751.93 1683.97,753.089 1690.7,753.715 1697.44,754.386 1704.17,755.449 1710.91,753.802 1717.64,757.304 1724.37,758.245 1731.11,759.286 1737.84,760.476 1744.58,761.81 1751.31,762.633 1758.05,760.808 1764.78,765.047 1771.51,766.42 1778.25,764.668 1784.98,769.177 1791.72,770.554 1798.45,772.107 1805.19,773.361 1811.92,775.093 1818.66,776.731 1825.39,778.982 1832.12,780.374 1838.86,782.625 1845.59,784.754 1852.33,786.237 1859.06,789.104 1865.8,790.661 1872.53,787.054 1879.26,794.943 1886,797.526 1892.73,793.429 1899.47,802.376 1906.2,805.235 1912.94,808.611 1919.67,811.721 1926.4,814.316 1933.14,817.262 1939.87,820.778 1946.61,824.049 1953.34,827.719 1960.08,832.018 1966.81,826.174 1973.55,840.36 1980.28,844.416 1987.01,847.834 1993.75,852.407 2000.48,856.806 2007.22,863.263 2013.95,867.373 2020.69,872.992 2027.42,863.008 2034.15,869.436 2040.89,888.26 2047.62,893.65 2054.36,900.479 2061.09,907.241 2067.83,914.589 2074.56,920.909 2081.29,928.504 2088.03,935.559 2094.76,944.059 2101.5,932.461 2108.23,959.024 2114.97,969.275 2121.7,979.484 2128.43,990.637 2135.17,998.978 2141.9,1009.92 2148.64,1020.85 2155.37,1028.51 2162.11,1040.08 2168.84,1024.86 2175.58,1032.51 2182.31,1077.56 2189.04,1089.93 2195.78,1110.3 2202.51,1120.89 2209.25,1134.92 2215.98,1147.2 2222.72,1167.04 2229.45,1138.03 2236.18,1199.9 2242.92,1215.01 2249.65,1239.8 2256.39,1206.01 2263.12,1222.18 2269.86,1237.95 2276.59,1314.01 2283.32,1336.53 2290.06,1297.31 2296.79,1386.4 \"/>\n",
       "<polyline clip-path=\"url(#clip082)\" style=\"stroke:#e26f46; stroke-linecap:round; stroke-linejoin:round; stroke-width:4; stroke-opacity:1; fill:none\" points=\"431.38,731.174 438.115,731.173 444.849,731.172 451.584,731.172 458.318,731.171 465.052,731.17 471.787,731.17 478.521,731.169 485.255,731.168 491.99,731.167 498.724,731.166 505.458,731.166 512.193,731.164 518.927,731.163 525.661,731.162 532.396,731.161 539.13,731.16 545.864,731.161 552.599,731.157 559.333,731.156 566.067,731.155 572.802,731.153 579.536,731.152 586.27,731.15 593.005,731.151 599.739,731.147 606.473,731.146 613.208,731.144 619.942,731.145 626.676,731.14 633.411,731.138 640.145,731.136 646.879,731.134 653.614,731.136 660.348,731.129 667.082,731.126 673.817,731.124 680.551,731.122 687.286,731.119 694.02,731.116 700.754,731.118 707.489,731.11 714.223,731.107 720.957,731.11 727.692,731.108 734.426,731.097 741.16,731.093 747.895,731.097 754.629,731.086 761.363,731.082 768.098,731.087 774.832,731.073 781.566,731.079 788.301,731.064 795.035,731.059 801.769,731.066 808.504,731.049 815.238,731.043 821.972,731.051 828.707,731.033 835.441,731.025 842.175,731.02 848.91,731.012 855.644,731.005 862.378,731.015 869.113,730.992 875.847,730.983 882.581,730.975 889.316,730.968 896.05,730.959 902.785,730.946 909.519,730.939 916.253,730.931 922.988,730.92 929.722,730.909 936.456,730.898 943.191,730.885 949.925,730.876 956.659,730.894 963.394,730.847 970.128,730.833 976.862,730.824 983.597,730.811 990.331,730.827 997.065,730.817 1003.8,730.762 1010.53,730.791 1017.27,730.727 1024,730.713 1030.74,730.697 1037.47,730.673 1044.21,730.651 1050.94,730.636 1057.67,730.604 1064.41,730.649 1071.14,730.561 1077.88,730.548 1084.61,730.521 1091.35,730.49 1098.08,730.466 1104.81,730.507 1111.55,730.412 1118.28,730.376 1125.02,730.348 1131.75,730.301 1138.49,730.288 1145.22,730.343 1151.96,730.209 1158.69,730.173 1165.42,730.145 1172.16,730.202 1178.89,730.06 1185.63,730.009 1192.36,730.076 1199.1,729.919 1205.83,729.868 1212.56,729.825 1219.3,729.773 1226.03,729.715 1232.77,729.811 1239.5,729.74 1246.24,729.712 1252.97,729.468 1259.7,729.432 1266.44,729.533 1273.17,729.276 1279.91,729.207 1286.64,729.142 1293.38,729.05 1300.11,728.98 1306.85,728.883 1313.58,728.81 1320.31,728.699 1327.05,728.59 1333.78,728.504 1340.52,728.387 1347.25,728.272 1353.99,728.202 1360.72,728.085 1367.45,728.279 1374.19,728.135 1380.92,727.65 1387.66,727.596 1394.39,727.43 1401.13,727.302 1407.86,727.508 1414.59,726.994 1421.33,726.781 1428.06,726.605 1434.8,726.442 1441.53,726.28 1448.27,726.077 1455,725.903 1461.73,726.233 1468.47,725.499 1475.2,725.229 1481.94,725.691 1488.67,725.473 1495.41,724.606 1502.14,724.268 1508.88,724.1 1515.61,723.863 1522.34,723.465 1529.08,723.276 1535.81,722.874 1542.55,722.606 1549.28,722.292 1556.02,721.864 1562.75,721.58 1569.48,721.202 1576.22,720.686 1582.95,720.361 1589.69,720.096 1596.42,719.6 1603.16,720.284 1609.89,718.541 1616.62,718.311 1623.36,717.755 1630.09,718.558 1636.83,716.51 1643.56,716.124 1650.3,717.087 1657.03,715.1 1663.77,715.931 1670.5,713.778 1677.23,713.121 1683.97,712.111 1690.7,711.565 1697.44,710.98 1704.17,710.054 1710.91,711.489 1717.64,708.438 1724.37,707.618 1731.11,706.71 1737.84,705.674 1744.58,704.511 1751.31,703.794 1758.05,705.384 1764.78,701.69 1771.51,700.494 1778.25,702.021 1784.98,698.092 1791.72,696.892 1798.45,695.538 1805.19,694.446 1811.92,692.937 1818.66,691.509 1825.39,689.548 1832.12,688.335 1838.86,686.373 1845.59,684.518 1852.33,683.226 1859.06,680.727 1865.8,679.371 1872.53,682.514 1879.26,675.639 1886,673.389 1892.73,676.959 1899.47,669.162 1906.2,666.671 1912.94,663.73 1919.67,661.02 1926.4,658.758 1933.14,656.191 1939.87,653.127 1946.61,650.277 1953.34,647.079 1960.08,643.333 1966.81,648.426 1973.55,636.063 1980.28,632.529 1987.01,629.551 1993.75,625.566 2000.48,621.733 2007.22,616.107 2013.95,612.525 2020.69,607.628 2027.42,616.329 2034.15,610.727 2040.89,594.324 2047.62,589.627 2054.36,583.677 2061.09,577.785 2067.83,571.382 2074.56,565.874 2081.29,559.257 2088.03,553.109 2094.76,545.702 2101.5,555.808 2108.23,532.662 2114.97,523.729 2121.7,514.833 2128.43,505.114 2135.17,497.846 2141.9,488.31 2148.64,478.784 2155.37,472.116 2162.11,462.029 2168.84,475.293 2175.58,468.63 2182.31,429.373 2189.04,418.595 2195.78,400.84 2202.51,391.612 2209.25,379.385 2215.98,368.692 2222.72,351.397 2229.45,376.679 2236.18,322.767 2242.92,309.6 2249.65,288.001 2256.39,317.44 2263.12,303.348 2269.86,289.609 2276.59,223.333 2283.32,203.709 2290.06,237.888 2296.79,160.256 \"/>\n",
       "<polyline clip-path=\"url(#clip082)\" style=\"stroke:#3da44d; stroke-linecap:round; stroke-linejoin:round; stroke-width:4; stroke-opacity:1; fill:none\" points=\"431.38,731.058 438.115,731.058 444.849,731.058 451.584,731.058 458.318,731.059 465.052,731.059 471.787,731.059 478.521,731.059 485.255,731.06 491.99,731.06 498.724,731.06 505.458,731.06 512.193,731.061 518.927,731.061 525.661,731.061 532.396,731.062 539.13,731.062 545.864,731.062 552.599,731.063 559.333,731.063 566.067,731.064 572.802,731.064 579.536,731.064 586.27,731.065 593.005,731.065 599.739,731.066 606.473,731.066 613.208,731.067 619.942,731.068 626.676,731.068 633.411,731.069 640.145,731.069 646.879,731.07 653.614,731.071 660.348,731.071 667.082,731.072 673.817,731.073 680.551,731.074 687.286,731.075 694.02,731.075 700.754,731.076 707.489,731.077 714.223,731.078 720.957,731.079 727.692,731.08 734.426,731.081 741.16,731.082 747.895,731.083 754.629,731.084 761.363,731.086 768.098,731.087 774.832,731.088 781.566,731.089 788.301,731.091 795.035,731.092 801.769,731.094 808.504,731.095 815.238,731.097 821.972,731.098 828.707,731.1 835.441,731.102 842.175,731.104 848.91,731.106 855.644,731.108 862.378,731.11 869.113,731.112 875.847,731.114 882.581,731.117 889.316,731.119 896.05,731.122 902.785,731.124 909.519,731.127 916.253,731.13 922.988,731.133 929.722,731.136 936.456,731.139 943.191,731.142 949.925,731.146 956.659,731.15 963.394,731.153 970.128,731.157 976.862,731.161 983.597,731.165 990.331,731.169 997.065,731.173 1003.8,731.177 1010.53,731.182 1017.27,731.186 1024,731.192 1030.74,731.197 1037.47,731.203 1044.21,731.208 1050.94,731.215 1057.67,731.221 1064.41,731.227 1071.14,731.233 1077.88,731.24 1084.61,731.248 1091.35,731.255 1098.08,731.263 1104.81,731.271 1111.55,731.279 1118.28,731.287 1125.02,731.297 1131.75,731.306 1138.49,731.316 1145.22,731.326 1151.96,731.335 1158.69,731.346 1165.42,731.358 1172.16,731.369 1178.89,731.38 1185.63,731.393 1192.36,731.406 1199.1,731.418 1205.83,731.432 1212.56,731.447 1219.3,731.462 1226.03,731.478 1232.77,731.495 1239.5,731.509 1246.24,731.525 1252.97,731.541 1259.7,731.56 1266.44,731.58 1273.17,731.598 1279.91,731.619 1286.64,731.641 1293.38,731.664 1300.11,731.688 1306.85,731.713 1313.58,731.739 1320.31,731.765 1327.05,731.793 1333.78,731.822 1340.52,731.852 1347.25,731.884 1353.99,731.916 1360.72,731.95 1367.45,731.984 1374.19,732.015 1380.92,732.048 1387.66,732.088 1394.39,732.128 1401.13,732.17 1407.86,732.214 1414.59,732.253 1421.33,732.3 1428.06,732.35 1434.8,732.401 1441.53,732.454 1448.27,732.509 1455,732.566 1461.73,732.626 1468.47,732.679 1475.2,732.742 1481.94,732.809 1488.67,732.868 1495.41,732.929 1502.14,733.003 1508.88,733.08 1515.61,733.159 1522.34,733.241 1529.08,733.328 1535.81,733.416 1542.55,733.509 1549.28,733.605 1556.02,733.704 1562.75,733.809 1569.48,733.916 1576.22,734.027 1582.95,734.145 1589.69,734.266 1596.42,734.39 1603.16,734.519 1609.89,734.636 1616.62,734.778 1623.36,734.921 1630.09,735.071 1636.83,735.206 1643.56,735.37 1650.3,735.538 1657.03,735.689 1663.77,735.867 1670.5,736.031 1677.23,736.225 1683.97,736.426 1690.7,736.64 1697.44,736.859 1704.17,737.084 1710.91,737.32 1717.64,737.53 1724.37,737.784 1731.11,738.047 1737.84,738.32 1744.58,738.605 1751.31,738.904 1758.05,739.209 1764.78,739.486 1771.51,739.814 1778.25,740.157 1784.98,740.471 1791.72,740.841 1798.45,741.223 1805.19,741.621 1811.92,742.03 1818.66,742.456 1825.39,742.898 1832.12,743.364 1838.86,743.841 1845.59,744.341 1852.33,744.864 1859.06,745.397 1865.8,745.962 1872.53,746.54 1879.26,747.061 1886,747.678 1892.73,748.321 1899.47,748.901 1906.2,749.59 1912.94,750.306 1919.67,751.06 1926.4,751.843 1933.14,752.648 1939.87,753.484 1946.61,754.353 1953.34,755.252 1960.08,756.19 1966.81,757.169 1973.55,758.055 1980.28,759.118 1987.01,760.223 1993.75,761.353 2000.48,762.53 2007.22,763.75 2013.95,765.038 2020.69,766.36 2027.42,767.741 2034.15,768.963 2040.89,770.256 2047.62,771.782 2054.36,773.355 2061.09,774.996 2067.83,776.704 2074.56,778.481 2081.29,780.327 2088.03,782.243 2094.76,784.225 2101.5,786.29 2108.23,788.174 2114.97,790.376 2121.7,792.691 2128.43,795.105 2135.17,797.637 2141.9,800.241 2148.64,802.951 2155.37,805.779 2162.11,808.652 2168.84,811.649 2175.58,814.397 2182.31,817.206 2189.04,820.559 2195.78,824.036 2202.51,827.751 2209.25,831.537 2215.98,835.471 2222.72,839.495 2229.45,843.737 2236.18,847.526 2242.92,852.083 2249.65,856.769 2256.39,861.711 2263.12,866.155 2269.86,870.729 2276.59,875.432 2283.32,881.097 2290.06,886.961 2296.79,892.214 \"/>\n",
       "<path clip-path=\"url(#clip080)\" d=\"M441.329 374.156 L681.679 374.156 L681.679 166.796 L441.329 166.796  Z\" fill=\"#ffffff\" fill-rule=\"evenodd\" fill-opacity=\"1\"/>\n",
       "<polyline clip-path=\"url(#clip080)\" style=\"stroke:#000000; stroke-linecap:round; stroke-linejoin:round; stroke-width:4; stroke-opacity:1; fill:none\" points=\"441.329,374.156 681.679,374.156 681.679,166.796 441.329,166.796 441.329,374.156 \"/>\n",
       "<polyline clip-path=\"url(#clip080)\" style=\"stroke:#009af9; stroke-linecap:round; stroke-linejoin:round; stroke-width:4; stroke-opacity:1; fill:none\" points=\"463.3,218.636 595.122,218.636 \"/>\n",
       "<path clip-path=\"url(#clip080)\" d=\"M617.093 225.684 L617.093 209.99 L621.352 209.99 L621.352 225.522 Q621.352 229.203 622.787 231.055 Q624.222 232.883 627.093 232.883 Q630.542 232.883 632.532 230.684 Q634.546 228.485 634.546 224.689 L634.546 209.99 L638.806 209.99 L638.806 235.916 L634.546 235.916 L634.546 231.934 Q632.995 234.295 630.935 235.453 Q628.898 236.587 626.19 236.587 Q621.722 236.587 619.408 233.809 Q617.093 231.031 617.093 225.684 M627.81 209.365 L627.81 209.365 Z\" fill=\"#000000\" fill-rule=\"evenodd\" fill-opacity=\"1\" /><path clip-path=\"url(#clip080)\" d=\"M646.722 233.369 L651.444 233.369 L651.444 219.226 L646.282 220.175 L646.282 217.49 L651.606 216.587 L654.778 216.587 L654.778 233.369 L659.523 233.369 L659.523 235.916 L646.722 235.916 L646.722 233.369 Z\" fill=\"#000000\" fill-rule=\"evenodd\" fill-opacity=\"1\" /><polyline clip-path=\"url(#clip080)\" style=\"stroke:#e26f46; stroke-linecap:round; stroke-linejoin:round; stroke-width:4; stroke-opacity:1; fill:none\" points=\"463.3,270.476 595.122,270.476 \"/>\n",
       "<path clip-path=\"url(#clip080)\" d=\"M617.093 277.524 L617.093 261.83 L621.352 261.83 L621.352 277.362 Q621.352 281.043 622.787 282.895 Q624.222 284.723 627.093 284.723 Q630.542 284.723 632.532 282.524 Q634.546 280.325 634.546 276.529 L634.546 261.83 L638.806 261.83 L638.806 287.756 L634.546 287.756 L634.546 283.774 Q632.995 286.135 630.935 287.293 Q628.898 288.427 626.19 288.427 Q621.722 288.427 619.408 285.649 Q617.093 282.871 617.093 277.524 M627.81 261.205 L627.81 261.205 Z\" fill=\"#000000\" fill-rule=\"evenodd\" fill-opacity=\"1\" /><path clip-path=\"url(#clip080)\" d=\"M649.315 285.117 L659.13 285.117 L659.13 287.756 L645.287 287.756 L645.287 285.209 Q646.074 284.492 647.532 283.196 Q655.495 276.135 655.495 273.959 Q655.495 272.432 654.292 271.506 Q653.088 270.557 651.12 270.557 Q649.917 270.557 648.505 270.973 Q647.093 271.367 645.426 272.177 L645.426 269.33 Q647.208 268.682 648.736 268.358 Q650.287 268.034 651.606 268.034 Q654.963 268.034 656.977 269.561 Q658.991 271.089 658.991 273.589 Q658.991 276.807 651.329 283.381 Q650.032 284.492 649.315 285.117 Z\" fill=\"#000000\" fill-rule=\"evenodd\" fill-opacity=\"1\" /><polyline clip-path=\"url(#clip080)\" style=\"stroke:#3da44d; stroke-linecap:round; stroke-linejoin:round; stroke-width:4; stroke-opacity:1; fill:none\" points=\"463.3,322.316 595.122,322.316 \"/>\n",
       "<path clip-path=\"url(#clip080)\" d=\"M617.093 329.364 L617.093 313.67 L621.352 313.67 L621.352 329.202 Q621.352 332.883 622.787 334.735 Q624.222 336.563 627.093 336.563 Q630.542 336.563 632.532 334.364 Q634.546 332.165 634.546 328.369 L634.546 313.67 L638.806 313.67 L638.806 339.596 L634.546 339.596 L634.546 335.614 Q632.995 337.975 630.935 339.133 Q628.898 340.267 626.19 340.267 Q621.722 340.267 619.408 337.489 Q617.093 334.711 617.093 329.364 M627.81 313.045 L627.81 313.045 Z\" fill=\"#000000\" fill-rule=\"evenodd\" fill-opacity=\"1\" /><path clip-path=\"url(#clip080)\" d=\"M655.241 329.133 Q657.37 329.549 658.528 330.823 Q659.708 332.073 659.708 333.971 Q659.708 336.841 657.509 338.392 Q655.31 339.943 651.213 339.943 Q649.893 339.943 648.435 339.688 Q647 339.457 645.38 338.994 L645.38 336.193 Q646.583 336.818 647.949 337.119 Q649.338 337.42 650.889 337.42 Q653.412 337.42 654.801 336.517 Q656.19 335.591 656.19 333.971 Q656.19 332.258 654.893 331.378 Q653.62 330.499 651.12 330.499 L649.13 330.499 L649.13 327.999 L651.305 327.999 Q653.481 327.999 654.593 327.281 Q655.727 326.54 655.727 325.151 Q655.727 323.809 654.569 323.114 Q653.412 322.397 651.213 322.397 Q650.287 322.397 649.106 322.605 Q647.926 322.813 646.051 323.346 L646.051 320.684 Q647.741 320.29 649.222 320.082 Q650.704 319.874 651.977 319.874 Q655.31 319.874 657.255 321.239 Q659.222 322.605 659.222 324.897 Q659.222 326.494 658.18 327.605 Q657.139 328.716 655.241 329.133 Z\" fill=\"#000000\" fill-rule=\"evenodd\" fill-opacity=\"1\" /></svg>\n"
      ]
     },
     "metadata": {},
     "output_type": "display_data"
    },
    {
     "data": {
      "image/svg+xml": [
       "<?xml version=\"1.0\" encoding=\"utf-8\"?>\n",
       "<svg xmlns=\"http://www.w3.org/2000/svg\" xmlns:xlink=\"http://www.w3.org/1999/xlink\" width=\"600\" height=\"400\" viewBox=\"0 0 2400 1600\">\n",
       "<defs>\n",
       "  <clipPath id=\"clip120\">\n",
       "    <rect x=\"0\" y=\"0\" width=\"2400\" height=\"1600\"/>\n",
       "  </clipPath>\n",
       "</defs>\n",
       "<path clip-path=\"url(#clip120)\" d=\"M0 1600 L2400 1600 L2400 0 L0 0  Z\" fill=\"#ffffff\" fill-rule=\"evenodd\" fill-opacity=\"1\"/>\n",
       "<defs>\n",
       "  <clipPath id=\"clip121\">\n",
       "    <rect x=\"480\" y=\"0\" width=\"1681\" height=\"1600\"/>\n",
       "  </clipPath>\n",
       "</defs>\n",
       "<path clip-path=\"url(#clip120)\" d=\"M407.875 1423.18 L2352.76 1423.18 L2352.76 123.472 L407.875 123.472  Z\" fill=\"#ffffff\" fill-rule=\"evenodd\" fill-opacity=\"1\"/>\n",
       "<defs>\n",
       "  <clipPath id=\"clip122\">\n",
       "    <rect x=\"407\" y=\"123\" width=\"1946\" height=\"1301\"/>\n",
       "  </clipPath>\n",
       "</defs>\n",
       "<polyline clip-path=\"url(#clip122)\" style=\"stroke:#000000; stroke-linecap:round; stroke-linejoin:round; stroke-width:2; stroke-opacity:0.1; fill:none\" points=\"462.918,1423.18 462.918,123.472 \"/>\n",
       "<polyline clip-path=\"url(#clip122)\" style=\"stroke:#000000; stroke-linecap:round; stroke-linejoin:round; stroke-width:2; stroke-opacity:0.1; fill:none\" points=\"791.734,1423.18 791.734,123.472 \"/>\n",
       "<polyline clip-path=\"url(#clip122)\" style=\"stroke:#000000; stroke-linecap:round; stroke-linejoin:round; stroke-width:2; stroke-opacity:0.1; fill:none\" points=\"1120.55,1423.18 1120.55,123.472 \"/>\n",
       "<polyline clip-path=\"url(#clip122)\" style=\"stroke:#000000; stroke-linecap:round; stroke-linejoin:round; stroke-width:2; stroke-opacity:0.1; fill:none\" points=\"1449.37,1423.18 1449.37,123.472 \"/>\n",
       "<polyline clip-path=\"url(#clip122)\" style=\"stroke:#000000; stroke-linecap:round; stroke-linejoin:round; stroke-width:2; stroke-opacity:0.1; fill:none\" points=\"1778.18,1423.18 1778.18,123.472 \"/>\n",
       "<polyline clip-path=\"url(#clip122)\" style=\"stroke:#000000; stroke-linecap:round; stroke-linejoin:round; stroke-width:2; stroke-opacity:0.1; fill:none\" points=\"2107,1423.18 2107,123.472 \"/>\n",
       "<polyline clip-path=\"url(#clip120)\" style=\"stroke:#000000; stroke-linecap:round; stroke-linejoin:round; stroke-width:4; stroke-opacity:1; fill:none\" points=\"407.875,1423.18 2352.76,1423.18 \"/>\n",
       "<polyline clip-path=\"url(#clip120)\" style=\"stroke:#000000; stroke-linecap:round; stroke-linejoin:round; stroke-width:4; stroke-opacity:1; fill:none\" points=\"462.918,1423.18 462.918,1404.28 \"/>\n",
       "<polyline clip-path=\"url(#clip120)\" style=\"stroke:#000000; stroke-linecap:round; stroke-linejoin:round; stroke-width:4; stroke-opacity:1; fill:none\" points=\"791.734,1423.18 791.734,1404.28 \"/>\n",
       "<polyline clip-path=\"url(#clip120)\" style=\"stroke:#000000; stroke-linecap:round; stroke-linejoin:round; stroke-width:4; stroke-opacity:1; fill:none\" points=\"1120.55,1423.18 1120.55,1404.28 \"/>\n",
       "<polyline clip-path=\"url(#clip120)\" style=\"stroke:#000000; stroke-linecap:round; stroke-linejoin:round; stroke-width:4; stroke-opacity:1; fill:none\" points=\"1449.37,1423.18 1449.37,1404.28 \"/>\n",
       "<polyline clip-path=\"url(#clip120)\" style=\"stroke:#000000; stroke-linecap:round; stroke-linejoin:round; stroke-width:4; stroke-opacity:1; fill:none\" points=\"1778.18,1423.18 1778.18,1404.28 \"/>\n",
       "<polyline clip-path=\"url(#clip120)\" style=\"stroke:#000000; stroke-linecap:round; stroke-linejoin:round; stroke-width:4; stroke-opacity:1; fill:none\" points=\"2107,1423.18 2107,1404.28 \"/>\n",
       "<path clip-path=\"url(#clip120)\" d=\"M440.303 1454.1 Q436.692 1454.1 434.863 1457.66 Q433.057 1461.2 433.057 1468.33 Q433.057 1475.44 434.863 1479.01 Q436.692 1482.55 440.303 1482.55 Q443.937 1482.55 445.742 1479.01 Q447.571 1475.44 447.571 1468.33 Q447.571 1461.2 445.742 1457.66 Q443.937 1454.1 440.303 1454.1 M440.303 1450.39 Q446.113 1450.39 449.168 1455 Q452.247 1459.58 452.247 1468.33 Q452.247 1477.06 449.168 1481.67 Q446.113 1486.25 440.303 1486.25 Q434.493 1486.25 431.414 1481.67 Q428.358 1477.06 428.358 1468.33 Q428.358 1459.58 431.414 1455 Q434.493 1450.39 440.303 1450.39 Z\" fill=\"#000000\" fill-rule=\"evenodd\" fill-opacity=\"1\" /><path clip-path=\"url(#clip120)\" d=\"M460.465 1479.7 L465.349 1479.7 L465.349 1485.58 L460.465 1485.58 L460.465 1479.7 Z\" fill=\"#000000\" fill-rule=\"evenodd\" fill-opacity=\"1\" /><path clip-path=\"url(#clip120)\" d=\"M485.534 1454.1 Q481.923 1454.1 480.094 1457.66 Q478.289 1461.2 478.289 1468.33 Q478.289 1475.44 480.094 1479.01 Q481.923 1482.55 485.534 1482.55 Q489.168 1482.55 490.974 1479.01 Q492.802 1475.44 492.802 1468.33 Q492.802 1461.2 490.974 1457.66 Q489.168 1454.1 485.534 1454.1 M485.534 1450.39 Q491.344 1450.39 494.4 1455 Q497.478 1459.58 497.478 1468.33 Q497.478 1477.06 494.4 1481.67 Q491.344 1486.25 485.534 1486.25 Q479.724 1486.25 476.645 1481.67 Q473.59 1477.06 473.59 1468.33 Q473.59 1459.58 476.645 1455 Q479.724 1450.39 485.534 1450.39 Z\" fill=\"#000000\" fill-rule=\"evenodd\" fill-opacity=\"1\" /><path clip-path=\"url(#clip120)\" d=\"M763.471 1481.64 L779.79 1481.64 L779.79 1485.58 L757.846 1485.58 L757.846 1481.64 Q760.508 1478.89 765.091 1474.26 Q769.697 1469.61 770.878 1468.27 Q773.123 1465.74 774.003 1464.01 Q774.906 1462.25 774.906 1460.56 Q774.906 1457.8 772.961 1456.07 Q771.04 1454.33 767.938 1454.33 Q765.739 1454.33 763.285 1455.09 Q760.855 1455.86 758.077 1457.41 L758.077 1452.69 Q760.901 1451.55 763.355 1450.97 Q765.809 1450.39 767.846 1450.39 Q773.216 1450.39 776.41 1453.08 Q779.605 1455.77 779.605 1460.26 Q779.605 1462.39 778.795 1464.31 Q778.008 1466.2 775.901 1468.8 Q775.322 1469.47 772.221 1472.69 Q769.119 1475.88 763.471 1481.64 Z\" fill=\"#000000\" fill-rule=\"evenodd\" fill-opacity=\"1\" /><path clip-path=\"url(#clip120)\" d=\"M789.605 1479.7 L794.489 1479.7 L794.489 1485.58 L789.605 1485.58 L789.605 1479.7 Z\" fill=\"#000000\" fill-rule=\"evenodd\" fill-opacity=\"1\" /><path clip-path=\"url(#clip120)\" d=\"M804.72 1451.02 L823.077 1451.02 L823.077 1454.96 L809.003 1454.96 L809.003 1463.43 Q810.021 1463.08 811.04 1462.92 Q812.058 1462.73 813.077 1462.73 Q818.864 1462.73 822.244 1465.9 Q825.623 1469.08 825.623 1474.49 Q825.623 1480.07 822.151 1483.17 Q818.679 1486.25 812.359 1486.25 Q810.183 1486.25 807.915 1485.88 Q805.67 1485.51 803.262 1484.77 L803.262 1480.07 Q805.345 1481.2 807.568 1481.76 Q809.79 1482.32 812.267 1482.32 Q816.271 1482.32 818.609 1480.21 Q820.947 1478.1 820.947 1474.49 Q820.947 1470.88 818.609 1468.77 Q816.271 1466.67 812.267 1466.67 Q810.392 1466.67 808.517 1467.08 Q806.665 1467.5 804.72 1468.38 L804.72 1451.02 Z\" fill=\"#000000\" fill-rule=\"evenodd\" fill-opacity=\"1\" /><path clip-path=\"url(#clip120)\" d=\"M1087.72 1451.02 L1106.07 1451.02 L1106.07 1454.96 L1092 1454.96 L1092 1463.43 Q1093.02 1463.08 1094.03 1462.92 Q1095.05 1462.73 1096.07 1462.73 Q1101.86 1462.73 1105.24 1465.9 Q1108.62 1469.08 1108.62 1474.49 Q1108.62 1480.07 1105.15 1483.17 Q1101.67 1486.25 1095.35 1486.25 Q1093.18 1486.25 1090.91 1485.88 Q1088.66 1485.51 1086.26 1484.77 L1086.26 1480.07 Q1088.34 1481.2 1090.56 1481.76 Q1092.78 1482.32 1095.26 1482.32 Q1099.27 1482.32 1101.6 1480.21 Q1103.94 1478.1 1103.94 1474.49 Q1103.94 1470.88 1101.6 1468.77 Q1099.27 1466.67 1095.26 1466.67 Q1093.39 1466.67 1091.51 1467.08 Q1089.66 1467.5 1087.72 1468.38 L1087.72 1451.02 Z\" fill=\"#000000\" fill-rule=\"evenodd\" fill-opacity=\"1\" /><path clip-path=\"url(#clip120)\" d=\"M1117.83 1479.7 L1122.71 1479.7 L1122.71 1485.58 L1117.83 1485.58 L1117.83 1479.7 Z\" fill=\"#000000\" fill-rule=\"evenodd\" fill-opacity=\"1\" /><path clip-path=\"url(#clip120)\" d=\"M1142.9 1454.1 Q1139.29 1454.1 1137.46 1457.66 Q1135.65 1461.2 1135.65 1468.33 Q1135.65 1475.44 1137.46 1479.01 Q1139.29 1482.55 1142.9 1482.55 Q1146.53 1482.55 1148.34 1479.01 Q1150.17 1475.44 1150.17 1468.33 Q1150.17 1461.2 1148.34 1457.66 Q1146.53 1454.1 1142.9 1454.1 M1142.9 1450.39 Q1148.71 1450.39 1151.77 1455 Q1154.84 1459.58 1154.84 1468.33 Q1154.84 1477.06 1151.77 1481.67 Q1148.71 1486.25 1142.9 1486.25 Q1137.09 1486.25 1134.01 1481.67 Q1130.96 1477.06 1130.96 1468.33 Q1130.96 1459.58 1134.01 1455 Q1137.09 1450.39 1142.9 1450.39 Z\" fill=\"#000000\" fill-rule=\"evenodd\" fill-opacity=\"1\" /><path clip-path=\"url(#clip120)\" d=\"M1415.69 1451.02 L1437.91 1451.02 L1437.91 1453.01 L1425.36 1485.58 L1420.48 1485.58 L1432.28 1454.96 L1415.69 1454.96 L1415.69 1451.02 Z\" fill=\"#000000\" fill-rule=\"evenodd\" fill-opacity=\"1\" /><path clip-path=\"url(#clip120)\" d=\"M1447.03 1479.7 L1451.91 1479.7 L1451.91 1485.58 L1447.03 1485.58 L1447.03 1479.7 Z\" fill=\"#000000\" fill-rule=\"evenodd\" fill-opacity=\"1\" /><path clip-path=\"url(#clip120)\" d=\"M1462.14 1451.02 L1480.5 1451.02 L1480.5 1454.96 L1466.43 1454.96 L1466.43 1463.43 Q1467.45 1463.08 1468.46 1462.92 Q1469.48 1462.73 1470.5 1462.73 Q1476.29 1462.73 1479.67 1465.9 Q1483.05 1469.08 1483.05 1474.49 Q1483.05 1480.07 1479.57 1483.17 Q1476.1 1486.25 1469.78 1486.25 Q1467.61 1486.25 1465.34 1485.88 Q1463.09 1485.51 1460.69 1484.77 L1460.69 1480.07 Q1462.77 1481.2 1464.99 1481.76 Q1467.21 1482.32 1469.69 1482.32 Q1473.7 1482.32 1476.03 1480.21 Q1478.37 1478.1 1478.37 1474.49 Q1478.37 1470.88 1476.03 1468.77 Q1473.7 1466.67 1469.69 1466.67 Q1467.82 1466.67 1465.94 1467.08 Q1464.09 1467.5 1462.14 1468.38 L1462.14 1451.02 Z\" fill=\"#000000\" fill-rule=\"evenodd\" fill-opacity=\"1\" /><path clip-path=\"url(#clip120)\" d=\"M1730.25 1481.64 L1737.89 1481.64 L1737.89 1455.28 L1729.58 1456.95 L1729.58 1452.69 L1737.85 1451.02 L1742.52 1451.02 L1742.52 1481.64 L1750.16 1481.64 L1750.16 1485.58 L1730.25 1485.58 L1730.25 1481.64 Z\" fill=\"#000000\" fill-rule=\"evenodd\" fill-opacity=\"1\" /><path clip-path=\"url(#clip120)\" d=\"M1769.61 1454.1 Q1766 1454.1 1764.17 1457.66 Q1762.36 1461.2 1762.36 1468.33 Q1762.36 1475.44 1764.17 1479.01 Q1766 1482.55 1769.61 1482.55 Q1773.24 1482.55 1775.05 1479.01 Q1776.87 1475.44 1776.87 1468.33 Q1776.87 1461.2 1775.05 1457.66 Q1773.24 1454.1 1769.61 1454.1 M1769.61 1450.39 Q1775.42 1450.39 1778.47 1455 Q1781.55 1459.58 1781.55 1468.33 Q1781.55 1477.06 1778.47 1481.67 Q1775.42 1486.25 1769.61 1486.25 Q1763.8 1486.25 1760.72 1481.67 Q1757.66 1477.06 1757.66 1468.33 Q1757.66 1459.58 1760.72 1455 Q1763.8 1450.39 1769.61 1450.39 Z\" fill=\"#000000\" fill-rule=\"evenodd\" fill-opacity=\"1\" /><path clip-path=\"url(#clip120)\" d=\"M1789.77 1479.7 L1794.65 1479.7 L1794.65 1485.58 L1789.77 1485.58 L1789.77 1479.7 Z\" fill=\"#000000\" fill-rule=\"evenodd\" fill-opacity=\"1\" /><path clip-path=\"url(#clip120)\" d=\"M1814.84 1454.1 Q1811.23 1454.1 1809.4 1457.66 Q1807.59 1461.2 1807.59 1468.33 Q1807.59 1475.44 1809.4 1479.01 Q1811.23 1482.55 1814.84 1482.55 Q1818.47 1482.55 1820.28 1479.01 Q1822.11 1475.44 1822.11 1468.33 Q1822.11 1461.2 1820.28 1457.66 Q1818.47 1454.1 1814.84 1454.1 M1814.84 1450.39 Q1820.65 1450.39 1823.7 1455 Q1826.78 1459.58 1826.78 1468.33 Q1826.78 1477.06 1823.7 1481.67 Q1820.65 1486.25 1814.84 1486.25 Q1809.03 1486.25 1805.95 1481.67 Q1802.89 1477.06 1802.89 1468.33 Q1802.89 1459.58 1805.95 1455 Q1809.03 1450.39 1814.84 1450.39 Z\" fill=\"#000000\" fill-rule=\"evenodd\" fill-opacity=\"1\" /><path clip-path=\"url(#clip120)\" d=\"M2059.57 1481.64 L2067.21 1481.64 L2067.21 1455.28 L2058.9 1456.95 L2058.9 1452.69 L2067.16 1451.02 L2071.84 1451.02 L2071.84 1481.64 L2079.48 1481.64 L2079.48 1485.58 L2059.57 1485.58 L2059.57 1481.64 Z\" fill=\"#000000\" fill-rule=\"evenodd\" fill-opacity=\"1\" /><path clip-path=\"url(#clip120)\" d=\"M2092.95 1481.64 L2109.27 1481.64 L2109.27 1485.58 L2087.32 1485.58 L2087.32 1481.64 Q2089.98 1478.89 2094.57 1474.26 Q2099.17 1469.61 2100.36 1468.27 Q2102.6 1465.74 2103.48 1464.01 Q2104.38 1462.25 2104.38 1460.56 Q2104.38 1457.8 2102.44 1456.07 Q2100.52 1454.33 2097.42 1454.33 Q2095.22 1454.33 2092.76 1455.09 Q2090.33 1455.86 2087.55 1457.41 L2087.55 1452.69 Q2090.38 1451.55 2092.83 1450.97 Q2095.29 1450.39 2097.32 1450.39 Q2102.69 1450.39 2105.89 1453.08 Q2109.08 1455.77 2109.08 1460.26 Q2109.08 1462.39 2108.27 1464.31 Q2107.48 1466.2 2105.38 1468.8 Q2104.8 1469.47 2101.7 1472.69 Q2098.6 1475.88 2092.95 1481.64 Z\" fill=\"#000000\" fill-rule=\"evenodd\" fill-opacity=\"1\" /><path clip-path=\"url(#clip120)\" d=\"M2119.08 1479.7 L2123.97 1479.7 L2123.97 1485.58 L2119.08 1485.58 L2119.08 1479.7 Z\" fill=\"#000000\" fill-rule=\"evenodd\" fill-opacity=\"1\" /><path clip-path=\"url(#clip120)\" d=\"M2134.2 1451.02 L2152.55 1451.02 L2152.55 1454.96 L2138.48 1454.96 L2138.48 1463.43 Q2139.5 1463.08 2140.52 1462.92 Q2141.54 1462.73 2142.55 1462.73 Q2148.34 1462.73 2151.72 1465.9 Q2155.1 1469.08 2155.1 1474.49 Q2155.1 1480.07 2151.63 1483.17 Q2148.16 1486.25 2141.84 1486.25 Q2139.66 1486.25 2137.39 1485.88 Q2135.15 1485.51 2132.74 1484.77 L2132.74 1480.07 Q2134.82 1481.2 2137.04 1481.76 Q2139.27 1482.32 2141.74 1482.32 Q2145.75 1482.32 2148.09 1480.21 Q2150.42 1478.1 2150.42 1474.49 Q2150.42 1470.88 2148.09 1468.77 Q2145.75 1466.67 2141.74 1466.67 Q2139.87 1466.67 2137.99 1467.08 Q2136.14 1467.5 2134.2 1468.38 L2134.2 1451.02 Z\" fill=\"#000000\" fill-rule=\"evenodd\" fill-opacity=\"1\" /><path clip-path=\"url(#clip120)\" d=\"M1267.77 1522.27 L1267.77 1532.4 L1279.83 1532.4 L1279.83 1536.95 L1267.77 1536.95 L1267.77 1556.3 Q1267.77 1560.66 1268.95 1561.9 Q1270.16 1563.14 1273.82 1563.14 L1279.83 1563.14 L1279.83 1568.04 L1273.82 1568.04 Q1267.04 1568.04 1264.46 1565.53 Q1261.88 1562.98 1261.88 1556.3 L1261.88 1536.95 L1257.58 1536.95 L1257.58 1532.4 L1261.88 1532.4 L1261.88 1522.27 L1267.77 1522.27 Z\" fill=\"#000000\" fill-rule=\"evenodd\" fill-opacity=\"1\" /><path clip-path=\"url(#clip120)\" d=\"M1287.54 1532.4 L1293.39 1532.4 L1293.39 1568.04 L1287.54 1568.04 L1287.54 1532.4 M1287.54 1518.52 L1293.39 1518.52 L1293.39 1525.93 L1287.54 1525.93 L1287.54 1518.52 Z\" fill=\"#000000\" fill-rule=\"evenodd\" fill-opacity=\"1\" /><path clip-path=\"url(#clip120)\" d=\"M1333.4 1539.24 Q1335.6 1535.29 1338.65 1533.41 Q1341.71 1531.54 1345.84 1531.54 Q1351.41 1531.54 1354.44 1535.45 Q1357.46 1539.33 1357.46 1546.53 L1357.46 1568.04 L1351.57 1568.04 L1351.57 1546.72 Q1351.57 1541.59 1349.76 1539.11 Q1347.95 1536.63 1344.22 1536.63 Q1339.67 1536.63 1337.03 1539.65 Q1334.39 1542.68 1334.39 1547.9 L1334.39 1568.04 L1328.5 1568.04 L1328.5 1546.72 Q1328.5 1541.56 1326.68 1539.11 Q1324.87 1536.63 1321.08 1536.63 Q1316.59 1536.63 1313.95 1539.68 Q1311.31 1542.71 1311.31 1547.9 L1311.31 1568.04 L1305.42 1568.04 L1305.42 1532.4 L1311.31 1532.4 L1311.31 1537.93 Q1313.32 1534.66 1316.12 1533.1 Q1318.92 1531.54 1322.77 1531.54 Q1326.65 1531.54 1329.36 1533.51 Q1332.09 1535.48 1333.4 1539.24 Z\" fill=\"#000000\" fill-rule=\"evenodd\" fill-opacity=\"1\" /><path clip-path=\"url(#clip120)\" d=\"M1399.64 1548.76 L1399.64 1551.62 L1372.71 1551.62 Q1373.09 1557.67 1376.34 1560.85 Q1379.61 1564 1385.44 1564 Q1388.81 1564 1391.96 1563.17 Q1395.15 1562.35 1398.27 1560.69 L1398.27 1566.23 Q1395.12 1567.57 1391.81 1568.27 Q1388.5 1568.97 1385.09 1568.97 Q1376.56 1568.97 1371.56 1564 Q1366.6 1559.04 1366.6 1550.57 Q1366.6 1541.82 1371.31 1536.69 Q1376.05 1531.54 1384.07 1531.54 Q1391.26 1531.54 1395.43 1536.18 Q1399.64 1540.8 1399.64 1548.76 M1393.78 1547.04 Q1393.72 1542.23 1391.07 1539.37 Q1388.46 1536.5 1384.13 1536.5 Q1379.23 1536.5 1376.27 1539.27 Q1373.34 1542.04 1372.9 1547.07 L1393.78 1547.04 Z\" fill=\"#000000\" fill-rule=\"evenodd\" fill-opacity=\"1\" /><path clip-path=\"url(#clip120)\" d=\"M1444.04 1518.58 Q1439.77 1525.9 1437.7 1533.06 Q1435.63 1540.23 1435.63 1547.58 Q1435.63 1554.93 1437.7 1562.16 Q1439.8 1569.35 1444.04 1576.64 L1438.94 1576.64 Q1434.17 1569.16 1431.78 1561.93 Q1429.43 1554.71 1429.43 1547.58 Q1429.43 1540.48 1431.78 1533.29 Q1434.14 1526.09 1438.94 1518.58 L1444.04 1518.58 Z\" fill=\"#000000\" fill-rule=\"evenodd\" fill-opacity=\"1\" /><path clip-path=\"url(#clip120)\" d=\"M1478.12 1533.45 L1478.12 1538.98 Q1475.64 1537.71 1472.97 1537.07 Q1470.29 1536.44 1467.43 1536.44 Q1463.07 1536.44 1460.87 1537.77 Q1458.71 1539.11 1458.71 1541.79 Q1458.71 1543.82 1460.27 1545 Q1461.83 1546.15 1466.54 1547.2 L1468.54 1547.64 Q1474.78 1548.98 1477.39 1551.43 Q1480.03 1553.85 1480.03 1558.21 Q1480.03 1563.17 1476.09 1566.07 Q1472.17 1568.97 1465.3 1568.97 Q1462.43 1568.97 1459.31 1568.39 Q1456.23 1567.85 1452.79 1566.74 L1452.79 1560.69 Q1456.04 1562.38 1459.19 1563.24 Q1462.34 1564.07 1465.42 1564.07 Q1469.56 1564.07 1471.79 1562.66 Q1474.02 1561.23 1474.02 1558.65 Q1474.02 1556.27 1472.4 1554.99 Q1470.8 1553.72 1465.36 1552.54 L1463.32 1552.07 Q1457.88 1550.92 1455.46 1548.56 Q1453.04 1546.18 1453.04 1542.04 Q1453.04 1537.01 1456.61 1534.27 Q1460.17 1531.54 1466.73 1531.54 Q1469.98 1531.54 1472.84 1532.01 Q1475.71 1532.49 1478.12 1533.45 Z\" fill=\"#000000\" fill-rule=\"evenodd\" fill-opacity=\"1\" /><path clip-path=\"url(#clip120)\" d=\"M1488.44 1518.58 L1493.53 1518.58 Q1498.3 1526.09 1500.66 1533.29 Q1503.05 1540.48 1503.05 1547.58 Q1503.05 1554.71 1500.66 1561.93 Q1498.3 1569.16 1493.53 1576.64 L1488.44 1576.64 Q1492.67 1569.35 1494.74 1562.16 Q1496.84 1554.93 1496.84 1547.58 Q1496.84 1540.23 1494.74 1533.06 Q1492.67 1525.9 1488.44 1518.58 Z\" fill=\"#000000\" fill-rule=\"evenodd\" fill-opacity=\"1\" /><polyline clip-path=\"url(#clip122)\" style=\"stroke:#000000; stroke-linecap:round; stroke-linejoin:round; stroke-width:2; stroke-opacity:0.1; fill:none\" points=\"407.875,1271.01 2352.76,1271.01 \"/>\n",
       "<polyline clip-path=\"url(#clip122)\" style=\"stroke:#000000; stroke-linecap:round; stroke-linejoin:round; stroke-width:2; stroke-opacity:0.1; fill:none\" points=\"407.875,1091.07 2352.76,1091.07 \"/>\n",
       "<polyline clip-path=\"url(#clip122)\" style=\"stroke:#000000; stroke-linecap:round; stroke-linejoin:round; stroke-width:2; stroke-opacity:0.1; fill:none\" points=\"407.875,911.132 2352.76,911.132 \"/>\n",
       "<polyline clip-path=\"url(#clip122)\" style=\"stroke:#000000; stroke-linecap:round; stroke-linejoin:round; stroke-width:2; stroke-opacity:0.1; fill:none\" points=\"407.875,731.193 2352.76,731.193 \"/>\n",
       "<polyline clip-path=\"url(#clip122)\" style=\"stroke:#000000; stroke-linecap:round; stroke-linejoin:round; stroke-width:2; stroke-opacity:0.1; fill:none\" points=\"407.875,551.255 2352.76,551.255 \"/>\n",
       "<polyline clip-path=\"url(#clip122)\" style=\"stroke:#000000; stroke-linecap:round; stroke-linejoin:round; stroke-width:2; stroke-opacity:0.1; fill:none\" points=\"407.875,371.317 2352.76,371.317 \"/>\n",
       "<polyline clip-path=\"url(#clip122)\" style=\"stroke:#000000; stroke-linecap:round; stroke-linejoin:round; stroke-width:2; stroke-opacity:0.1; fill:none\" points=\"407.875,191.378 2352.76,191.378 \"/>\n",
       "<polyline clip-path=\"url(#clip120)\" style=\"stroke:#000000; stroke-linecap:round; stroke-linejoin:round; stroke-width:4; stroke-opacity:1; fill:none\" points=\"407.875,1423.18 407.875,123.472 \"/>\n",
       "<polyline clip-path=\"url(#clip120)\" style=\"stroke:#000000; stroke-linecap:round; stroke-linejoin:round; stroke-width:4; stroke-opacity:1; fill:none\" points=\"407.875,1271.01 426.772,1271.01 \"/>\n",
       "<polyline clip-path=\"url(#clip120)\" style=\"stroke:#000000; stroke-linecap:round; stroke-linejoin:round; stroke-width:4; stroke-opacity:1; fill:none\" points=\"407.875,1091.07 426.772,1091.07 \"/>\n",
       "<polyline clip-path=\"url(#clip120)\" style=\"stroke:#000000; stroke-linecap:round; stroke-linejoin:round; stroke-width:4; stroke-opacity:1; fill:none\" points=\"407.875,911.132 426.772,911.132 \"/>\n",
       "<polyline clip-path=\"url(#clip120)\" style=\"stroke:#000000; stroke-linecap:round; stroke-linejoin:round; stroke-width:4; stroke-opacity:1; fill:none\" points=\"407.875,731.193 426.772,731.193 \"/>\n",
       "<polyline clip-path=\"url(#clip120)\" style=\"stroke:#000000; stroke-linecap:round; stroke-linejoin:round; stroke-width:4; stroke-opacity:1; fill:none\" points=\"407.875,551.255 426.772,551.255 \"/>\n",
       "<polyline clip-path=\"url(#clip120)\" style=\"stroke:#000000; stroke-linecap:round; stroke-linejoin:round; stroke-width:4; stroke-opacity:1; fill:none\" points=\"407.875,371.317 426.772,371.317 \"/>\n",
       "<polyline clip-path=\"url(#clip120)\" style=\"stroke:#000000; stroke-linecap:round; stroke-linejoin:round; stroke-width:4; stroke-opacity:1; fill:none\" points=\"407.875,191.378 426.772,191.378 \"/>\n",
       "<path clip-path=\"url(#clip120)\" d=\"M114.26 1277.91 L143.936 1277.91 L143.936 1281.84 L114.26 1281.84 L114.26 1277.91 Z\" fill=\"#000000\" fill-rule=\"evenodd\" fill-opacity=\"1\" /><path clip-path=\"url(#clip120)\" d=\"M152.848 1260.18 L175.07 1260.18 L175.07 1262.17 L162.524 1294.74 L157.64 1294.74 L169.445 1264.11 L152.848 1264.11 L152.848 1260.18 Z\" fill=\"#000000\" fill-rule=\"evenodd\" fill-opacity=\"1\" /><path clip-path=\"url(#clip120)\" d=\"M184.19 1288.86 L189.075 1288.86 L189.075 1294.74 L184.19 1294.74 L184.19 1288.86 Z\" fill=\"#000000\" fill-rule=\"evenodd\" fill-opacity=\"1\" /><path clip-path=\"url(#clip120)\" d=\"M199.306 1260.18 L217.662 1260.18 L217.662 1264.11 L203.588 1264.11 L203.588 1272.58 Q204.607 1272.24 205.625 1272.07 Q206.644 1271.89 207.662 1271.89 Q213.449 1271.89 216.829 1275.06 Q220.209 1278.23 220.209 1283.65 Q220.209 1289.23 216.736 1292.33 Q213.264 1295.41 206.945 1295.41 Q204.769 1295.41 202.5 1295.04 Q200.255 1294.67 197.848 1293.93 L197.848 1289.23 Q199.931 1290.36 202.153 1290.92 Q204.375 1291.47 206.852 1291.47 Q210.857 1291.47 213.195 1289.37 Q215.533 1287.26 215.533 1283.65 Q215.533 1280.04 213.195 1277.93 Q210.857 1275.82 206.852 1275.82 Q204.977 1275.82 203.102 1276.24 Q201.25 1276.66 199.306 1277.54 L199.306 1260.18 Z\" fill=\"#000000\" fill-rule=\"evenodd\" fill-opacity=\"1\" /><path clip-path=\"url(#clip120)\" d=\"M239.422 1263.25 Q235.81 1263.25 233.982 1266.82 Q232.176 1270.36 232.176 1277.49 Q232.176 1284.6 233.982 1288.16 Q235.81 1291.7 239.422 1291.7 Q243.056 1291.7 244.861 1288.16 Q246.69 1284.6 246.69 1277.49 Q246.69 1270.36 244.861 1266.82 Q243.056 1263.25 239.422 1263.25 M239.422 1259.55 Q245.232 1259.55 248.287 1264.16 Q251.366 1268.74 251.366 1277.49 Q251.366 1286.22 248.287 1290.82 Q245.232 1295.41 239.422 1295.41 Q233.611 1295.41 230.533 1290.82 Q227.477 1286.22 227.477 1277.49 Q227.477 1268.74 230.533 1264.16 Q233.611 1259.55 239.422 1259.55 Z\" fill=\"#000000\" fill-rule=\"evenodd\" fill-opacity=\"1\" /><path clip-path=\"url(#clip120)\" d=\"M287.755 1269.27 L277.176 1279.9 L287.755 1290.48 L285 1293.28 L274.375 1282.65 L263.75 1293.28 L261.019 1290.48 L271.574 1279.9 L261.019 1269.27 L263.75 1266.47 L274.375 1277.1 L285 1266.47 L287.755 1269.27 Z\" fill=\"#000000\" fill-rule=\"evenodd\" fill-opacity=\"1\" /><path clip-path=\"url(#clip120)\" d=\"M300.116 1290.8 L307.754 1290.8 L307.754 1264.44 L299.444 1266.1 L299.444 1261.84 L307.708 1260.18 L312.384 1260.18 L312.384 1290.8 L320.023 1290.8 L320.023 1294.74 L300.116 1294.74 L300.116 1290.8 Z\" fill=\"#000000\" fill-rule=\"evenodd\" fill-opacity=\"1\" /><path clip-path=\"url(#clip120)\" d=\"M339.467 1263.25 Q335.856 1263.25 334.027 1266.82 Q332.222 1270.36 332.222 1277.49 Q332.222 1284.6 334.027 1288.16 Q335.856 1291.7 339.467 1291.7 Q343.102 1291.7 344.907 1288.16 Q346.736 1284.6 346.736 1277.49 Q346.736 1270.36 344.907 1266.82 Q343.102 1263.25 339.467 1263.25 M339.467 1259.55 Q345.277 1259.55 348.333 1264.16 Q351.412 1268.74 351.412 1277.49 Q351.412 1286.22 348.333 1290.82 Q345.277 1295.41 339.467 1295.41 Q333.657 1295.41 330.578 1290.82 Q327.523 1286.22 327.523 1277.49 Q327.523 1268.74 330.578 1264.16 Q333.657 1259.55 339.467 1259.55 Z\" fill=\"#000000\" fill-rule=\"evenodd\" fill-opacity=\"1\" /><path clip-path=\"url(#clip120)\" d=\"M364.088 1242.56 L354.496 1257.55 L364.088 1257.55 L364.088 1242.56 M363.091 1239.25 L367.868 1239.25 L367.868 1257.55 L371.875 1257.55 L371.875 1260.71 L367.868 1260.71 L367.868 1267.33 L364.088 1267.33 L364.088 1260.71 L351.412 1260.71 L351.412 1257.04 L363.091 1239.25 Z\" fill=\"#000000\" fill-rule=\"evenodd\" fill-opacity=\"1\" /><path clip-path=\"url(#clip120)\" d=\"M114.26 1097.97 L143.936 1097.97 L143.936 1101.9 L114.26 1101.9 L114.26 1097.97 Z\" fill=\"#000000\" fill-rule=\"evenodd\" fill-opacity=\"1\" /><path clip-path=\"url(#clip120)\" d=\"M154.075 1080.24 L172.431 1080.24 L172.431 1084.17 L158.357 1084.17 L158.357 1092.64 Q159.376 1092.3 160.394 1092.14 Q161.413 1091.95 162.431 1091.95 Q168.218 1091.95 171.598 1095.12 Q174.977 1098.29 174.977 1103.71 Q174.977 1109.29 171.505 1112.39 Q168.033 1115.47 161.714 1115.47 Q159.538 1115.47 157.269 1115.1 Q155.024 1114.73 152.616 1113.99 L152.616 1109.29 Q154.7 1110.42 156.922 1110.98 Q159.144 1111.53 161.621 1111.53 Q165.626 1111.53 167.964 1109.43 Q170.302 1107.32 170.302 1103.71 Q170.302 1100.1 167.964 1097.99 Q165.626 1095.89 161.621 1095.89 Q159.746 1095.89 157.871 1096.3 Q156.019 1096.72 154.075 1097.6 L154.075 1080.24 Z\" fill=\"#000000\" fill-rule=\"evenodd\" fill-opacity=\"1\" /><path clip-path=\"url(#clip120)\" d=\"M184.19 1108.92 L189.075 1108.92 L189.075 1114.8 L184.19 1114.8 L184.19 1108.92 Z\" fill=\"#000000\" fill-rule=\"evenodd\" fill-opacity=\"1\" /><path clip-path=\"url(#clip120)\" d=\"M209.26 1083.32 Q205.649 1083.32 203.82 1086.88 Q202.014 1090.42 202.014 1097.55 Q202.014 1104.66 203.82 1108.22 Q205.649 1111.77 209.26 1111.77 Q212.894 1111.77 214.699 1108.22 Q216.528 1104.66 216.528 1097.55 Q216.528 1090.42 214.699 1086.88 Q212.894 1083.32 209.26 1083.32 M209.26 1079.61 Q215.07 1079.61 218.125 1084.22 Q221.204 1088.8 221.204 1097.55 Q221.204 1106.28 218.125 1110.89 Q215.07 1115.47 209.26 1115.47 Q203.449 1115.47 200.371 1110.89 Q197.315 1106.28 197.315 1097.55 Q197.315 1088.8 200.371 1084.22 Q203.449 1079.61 209.26 1079.61 Z\" fill=\"#000000\" fill-rule=\"evenodd\" fill-opacity=\"1\" /><path clip-path=\"url(#clip120)\" d=\"M239.422 1083.32 Q235.81 1083.32 233.982 1086.88 Q232.176 1090.42 232.176 1097.55 Q232.176 1104.66 233.982 1108.22 Q235.81 1111.77 239.422 1111.77 Q243.056 1111.77 244.861 1108.22 Q246.69 1104.66 246.69 1097.55 Q246.69 1090.42 244.861 1086.88 Q243.056 1083.32 239.422 1083.32 M239.422 1079.61 Q245.232 1079.61 248.287 1084.22 Q251.366 1088.8 251.366 1097.55 Q251.366 1106.28 248.287 1110.89 Q245.232 1115.47 239.422 1115.47 Q233.611 1115.47 230.533 1110.89 Q227.477 1106.28 227.477 1097.55 Q227.477 1088.8 230.533 1084.22 Q233.611 1079.61 239.422 1079.61 Z\" fill=\"#000000\" fill-rule=\"evenodd\" fill-opacity=\"1\" /><path clip-path=\"url(#clip120)\" d=\"M287.755 1089.33 L277.176 1099.96 L287.755 1110.54 L285 1113.34 L274.375 1102.71 L263.75 1113.34 L261.019 1110.54 L271.574 1099.96 L261.019 1089.33 L263.75 1086.53 L274.375 1097.16 L285 1086.53 L287.755 1089.33 Z\" fill=\"#000000\" fill-rule=\"evenodd\" fill-opacity=\"1\" /><path clip-path=\"url(#clip120)\" d=\"M300.116 1110.86 L307.754 1110.86 L307.754 1084.5 L299.444 1086.16 L299.444 1081.9 L307.708 1080.24 L312.384 1080.24 L312.384 1110.86 L320.023 1110.86 L320.023 1114.8 L300.116 1114.8 L300.116 1110.86 Z\" fill=\"#000000\" fill-rule=\"evenodd\" fill-opacity=\"1\" /><path clip-path=\"url(#clip120)\" d=\"M339.467 1083.32 Q335.856 1083.32 334.027 1086.88 Q332.222 1090.42 332.222 1097.55 Q332.222 1104.66 334.027 1108.22 Q335.856 1111.77 339.467 1111.77 Q343.102 1111.77 344.907 1108.22 Q346.736 1104.66 346.736 1097.55 Q346.736 1090.42 344.907 1086.88 Q343.102 1083.32 339.467 1083.32 M339.467 1079.61 Q345.277 1079.61 348.333 1084.22 Q351.412 1088.8 351.412 1097.55 Q351.412 1106.28 348.333 1110.89 Q345.277 1115.47 339.467 1115.47 Q333.657 1115.47 330.578 1110.89 Q327.523 1106.28 327.523 1097.55 Q327.523 1088.8 330.578 1084.22 Q333.657 1079.61 339.467 1079.61 Z\" fill=\"#000000\" fill-rule=\"evenodd\" fill-opacity=\"1\" /><path clip-path=\"url(#clip120)\" d=\"M364.088 1062.62 L354.496 1077.61 L364.088 1077.61 L364.088 1062.62 M363.091 1059.31 L367.868 1059.31 L367.868 1077.61 L371.875 1077.61 L371.875 1080.77 L367.868 1080.77 L367.868 1087.39 L364.088 1087.39 L364.088 1080.77 L351.412 1080.77 L351.412 1077.1 L363.091 1059.31 Z\" fill=\"#000000\" fill-rule=\"evenodd\" fill-opacity=\"1\" /><path clip-path=\"url(#clip120)\" d=\"M114.26 918.031 L143.936 918.031 L143.936 921.966 L114.26 921.966 L114.26 918.031 Z\" fill=\"#000000\" fill-rule=\"evenodd\" fill-opacity=\"1\" /><path clip-path=\"url(#clip120)\" d=\"M158.056 930.924 L174.376 930.924 L174.376 934.859 L152.431 934.859 L152.431 930.924 Q155.093 928.17 159.677 923.54 Q164.283 918.887 165.464 917.545 Q167.709 915.021 168.589 913.285 Q169.491 911.526 169.491 909.836 Q169.491 907.082 167.547 905.346 Q165.626 903.609 162.524 903.609 Q160.325 903.609 157.871 904.373 Q155.44 905.137 152.663 906.688 L152.663 901.966 Q155.487 900.832 157.94 900.253 Q160.394 899.674 162.431 899.674 Q167.802 899.674 170.996 902.359 Q174.19 905.045 174.19 909.535 Q174.19 911.665 173.38 913.586 Q172.593 915.484 170.487 918.077 Q169.908 918.748 166.806 921.966 Q163.704 925.16 158.056 930.924 Z\" fill=\"#000000\" fill-rule=\"evenodd\" fill-opacity=\"1\" /><path clip-path=\"url(#clip120)\" d=\"M184.19 928.98 L189.075 928.98 L189.075 934.859 L184.19 934.859 L184.19 928.98 Z\" fill=\"#000000\" fill-rule=\"evenodd\" fill-opacity=\"1\" /><path clip-path=\"url(#clip120)\" d=\"M199.306 900.299 L217.662 900.299 L217.662 904.234 L203.588 904.234 L203.588 912.707 Q204.607 912.359 205.625 912.197 Q206.644 912.012 207.662 912.012 Q213.449 912.012 216.829 915.183 Q220.209 918.355 220.209 923.771 Q220.209 929.35 216.736 932.452 Q213.264 935.531 206.945 935.531 Q204.769 935.531 202.5 935.16 Q200.255 934.79 197.848 934.049 L197.848 929.35 Q199.931 930.484 202.153 931.04 Q204.375 931.595 206.852 931.595 Q210.857 931.595 213.195 929.489 Q215.533 927.382 215.533 923.771 Q215.533 920.16 213.195 918.054 Q210.857 915.947 206.852 915.947 Q204.977 915.947 203.102 916.364 Q201.25 916.781 199.306 917.66 L199.306 900.299 Z\" fill=\"#000000\" fill-rule=\"evenodd\" fill-opacity=\"1\" /><path clip-path=\"url(#clip120)\" d=\"M239.422 903.378 Q235.81 903.378 233.982 906.943 Q232.176 910.484 232.176 917.614 Q232.176 924.72 233.982 928.285 Q235.81 931.827 239.422 931.827 Q243.056 931.827 244.861 928.285 Q246.69 924.72 246.69 917.614 Q246.69 910.484 244.861 906.943 Q243.056 903.378 239.422 903.378 M239.422 899.674 Q245.232 899.674 248.287 904.281 Q251.366 908.864 251.366 917.614 Q251.366 926.341 248.287 930.947 Q245.232 935.531 239.422 935.531 Q233.611 935.531 230.533 930.947 Q227.477 926.341 227.477 917.614 Q227.477 908.864 230.533 904.281 Q233.611 899.674 239.422 899.674 Z\" fill=\"#000000\" fill-rule=\"evenodd\" fill-opacity=\"1\" /><path clip-path=\"url(#clip120)\" d=\"M287.755 909.396 L277.176 920.021 L287.755 930.6 L285 933.401 L274.375 922.776 L263.75 933.401 L261.019 930.6 L271.574 920.021 L261.019 909.396 L263.75 906.596 L274.375 917.22 L285 906.596 L287.755 909.396 Z\" fill=\"#000000\" fill-rule=\"evenodd\" fill-opacity=\"1\" /><path clip-path=\"url(#clip120)\" d=\"M300.116 930.924 L307.754 930.924 L307.754 904.559 L299.444 906.225 L299.444 901.966 L307.708 900.299 L312.384 900.299 L312.384 930.924 L320.023 930.924 L320.023 934.859 L300.116 934.859 L300.116 930.924 Z\" fill=\"#000000\" fill-rule=\"evenodd\" fill-opacity=\"1\" /><path clip-path=\"url(#clip120)\" d=\"M339.467 903.378 Q335.856 903.378 334.027 906.943 Q332.222 910.484 332.222 917.614 Q332.222 924.72 334.027 928.285 Q335.856 931.827 339.467 931.827 Q343.102 931.827 344.907 928.285 Q346.736 924.72 346.736 917.614 Q346.736 910.484 344.907 906.943 Q343.102 903.378 339.467 903.378 M339.467 899.674 Q345.277 899.674 348.333 904.281 Q351.412 908.864 351.412 917.614 Q351.412 926.341 348.333 930.947 Q345.277 935.531 339.467 935.531 Q333.657 935.531 330.578 930.947 Q327.523 926.341 327.523 917.614 Q327.523 908.864 330.578 904.281 Q333.657 899.674 339.467 899.674 Z\" fill=\"#000000\" fill-rule=\"evenodd\" fill-opacity=\"1\" /><path clip-path=\"url(#clip120)\" d=\"M364.088 882.679 L354.496 897.669 L364.088 897.669 L364.088 882.679 M363.091 879.369 L367.868 879.369 L367.868 897.669 L371.875 897.669 L371.875 900.829 L367.868 900.829 L367.868 907.449 L364.088 907.449 L364.088 900.829 L351.412 900.829 L351.412 897.161 L363.091 879.369 Z\" fill=\"#000000\" fill-rule=\"evenodd\" fill-opacity=\"1\" /><path clip-path=\"url(#clip120)\" d=\"M359.93 716.992 Q356.319 716.992 354.49 720.557 Q352.685 724.098 352.685 731.228 Q352.685 738.334 354.49 741.899 Q356.319 745.441 359.93 745.441 Q363.564 745.441 365.37 741.899 Q367.199 738.334 367.199 731.228 Q367.199 724.098 365.37 720.557 Q363.564 716.992 359.93 716.992 M359.93 713.288 Q365.74 713.288 368.796 717.895 Q371.875 722.478 371.875 731.228 Q371.875 739.955 368.796 744.561 Q365.74 749.145 359.93 749.145 Q354.12 749.145 351.041 744.561 Q347.986 739.955 347.986 731.228 Q347.986 722.478 351.041 717.895 Q354.12 713.288 359.93 713.288 Z\" fill=\"#000000\" fill-rule=\"evenodd\" fill-opacity=\"1\" /><path clip-path=\"url(#clip120)\" d=\"M158.056 571.047 L174.376 571.047 L174.376 574.983 L152.431 574.983 L152.431 571.047 Q155.093 568.293 159.677 563.663 Q164.283 559.01 165.464 557.668 Q167.709 555.145 168.589 553.409 Q169.491 551.649 169.491 549.96 Q169.491 547.205 167.547 545.469 Q165.626 543.733 162.524 543.733 Q160.325 543.733 157.871 544.497 Q155.44 545.261 152.663 546.811 L152.663 542.089 Q155.487 540.955 157.94 540.376 Q160.394 539.798 162.431 539.798 Q167.802 539.798 170.996 542.483 Q174.19 545.168 174.19 549.659 Q174.19 551.788 173.38 553.71 Q172.593 555.608 170.487 558.2 Q169.908 558.872 166.806 562.089 Q163.704 565.284 158.056 571.047 Z\" fill=\"#000000\" fill-rule=\"evenodd\" fill-opacity=\"1\" /><path clip-path=\"url(#clip120)\" d=\"M184.19 569.103 L189.075 569.103 L189.075 574.983 L184.19 574.983 L184.19 569.103 Z\" fill=\"#000000\" fill-rule=\"evenodd\" fill-opacity=\"1\" /><path clip-path=\"url(#clip120)\" d=\"M199.306 540.423 L217.662 540.423 L217.662 544.358 L203.588 544.358 L203.588 552.83 Q204.607 552.483 205.625 552.321 Q206.644 552.135 207.662 552.135 Q213.449 552.135 216.829 555.307 Q220.209 558.478 220.209 563.895 Q220.209 569.473 216.736 572.575 Q213.264 575.654 206.945 575.654 Q204.769 575.654 202.5 575.283 Q200.255 574.913 197.848 574.172 L197.848 569.473 Q199.931 570.608 202.153 571.163 Q204.375 571.719 206.852 571.719 Q210.857 571.719 213.195 569.612 Q215.533 567.506 215.533 563.895 Q215.533 560.284 213.195 558.177 Q210.857 556.071 206.852 556.071 Q204.977 556.071 203.102 556.487 Q201.25 556.904 199.306 557.784 L199.306 540.423 Z\" fill=\"#000000\" fill-rule=\"evenodd\" fill-opacity=\"1\" /><path clip-path=\"url(#clip120)\" d=\"M239.422 543.501 Q235.81 543.501 233.982 547.066 Q232.176 550.608 232.176 557.737 Q232.176 564.844 233.982 568.409 Q235.81 571.95 239.422 571.95 Q243.056 571.95 244.861 568.409 Q246.69 564.844 246.69 557.737 Q246.69 550.608 244.861 547.066 Q243.056 543.501 239.422 543.501 M239.422 539.798 Q245.232 539.798 248.287 544.404 Q251.366 548.987 251.366 557.737 Q251.366 566.464 248.287 571.071 Q245.232 575.654 239.422 575.654 Q233.611 575.654 230.533 571.071 Q227.477 566.464 227.477 557.737 Q227.477 548.987 230.533 544.404 Q233.611 539.798 239.422 539.798 Z\" fill=\"#000000\" fill-rule=\"evenodd\" fill-opacity=\"1\" /><path clip-path=\"url(#clip120)\" d=\"M287.755 549.52 L277.176 560.145 L287.755 570.723 L285 573.524 L274.375 562.899 L263.75 573.524 L261.019 570.723 L271.574 560.145 L261.019 549.52 L263.75 546.719 L274.375 557.344 L285 546.719 L287.755 549.52 Z\" fill=\"#000000\" fill-rule=\"evenodd\" fill-opacity=\"1\" /><path clip-path=\"url(#clip120)\" d=\"M300.116 571.047 L307.754 571.047 L307.754 544.682 L299.444 546.348 L299.444 542.089 L307.708 540.423 L312.384 540.423 L312.384 571.047 L320.023 571.047 L320.023 574.983 L300.116 574.983 L300.116 571.047 Z\" fill=\"#000000\" fill-rule=\"evenodd\" fill-opacity=\"1\" /><path clip-path=\"url(#clip120)\" d=\"M339.467 543.501 Q335.856 543.501 334.027 547.066 Q332.222 550.608 332.222 557.737 Q332.222 564.844 334.027 568.409 Q335.856 571.95 339.467 571.95 Q343.102 571.95 344.907 568.409 Q346.736 564.844 346.736 557.737 Q346.736 550.608 344.907 547.066 Q343.102 543.501 339.467 543.501 M339.467 539.798 Q345.277 539.798 348.333 544.404 Q351.412 548.987 351.412 557.737 Q351.412 566.464 348.333 571.071 Q345.277 575.654 339.467 575.654 Q333.657 575.654 330.578 571.071 Q327.523 566.464 327.523 557.737 Q327.523 548.987 330.578 544.404 Q333.657 539.798 339.467 539.798 Z\" fill=\"#000000\" fill-rule=\"evenodd\" fill-opacity=\"1\" /><path clip-path=\"url(#clip120)\" d=\"M364.088 522.802 L354.496 537.792 L364.088 537.792 L364.088 522.802 M363.091 519.492 L367.868 519.492 L367.868 537.792 L371.875 537.792 L371.875 540.952 L367.868 540.952 L367.868 547.572 L364.088 547.572 L364.088 540.952 L351.412 540.952 L351.412 537.284 L363.091 519.492 Z\" fill=\"#000000\" fill-rule=\"evenodd\" fill-opacity=\"1\" /><path clip-path=\"url(#clip120)\" d=\"M154.075 360.484 L172.431 360.484 L172.431 364.419 L158.357 364.419 L158.357 372.892 Q159.376 372.544 160.394 372.382 Q161.413 372.197 162.431 372.197 Q168.218 372.197 171.598 375.368 Q174.977 378.54 174.977 383.956 Q174.977 389.535 171.505 392.637 Q168.033 395.716 161.714 395.716 Q159.538 395.716 157.269 395.345 Q155.024 394.975 152.616 394.234 L152.616 389.535 Q154.7 390.669 156.922 391.225 Q159.144 391.78 161.621 391.78 Q165.626 391.78 167.964 389.674 Q170.302 387.567 170.302 383.956 Q170.302 380.345 167.964 378.239 Q165.626 376.132 161.621 376.132 Q159.746 376.132 157.871 376.549 Q156.019 376.966 154.075 377.845 L154.075 360.484 Z\" fill=\"#000000\" fill-rule=\"evenodd\" fill-opacity=\"1\" /><path clip-path=\"url(#clip120)\" d=\"M184.19 389.165 L189.075 389.165 L189.075 395.044 L184.19 395.044 L184.19 389.165 Z\" fill=\"#000000\" fill-rule=\"evenodd\" fill-opacity=\"1\" /><path clip-path=\"url(#clip120)\" d=\"M209.26 363.563 Q205.649 363.563 203.82 367.128 Q202.014 370.669 202.014 377.799 Q202.014 384.905 203.82 388.47 Q205.649 392.012 209.26 392.012 Q212.894 392.012 214.699 388.47 Q216.528 384.905 216.528 377.799 Q216.528 370.669 214.699 367.128 Q212.894 363.563 209.26 363.563 M209.26 359.859 Q215.07 359.859 218.125 364.466 Q221.204 369.049 221.204 377.799 Q221.204 386.526 218.125 391.132 Q215.07 395.716 209.26 395.716 Q203.449 395.716 200.371 391.132 Q197.315 386.526 197.315 377.799 Q197.315 369.049 200.371 364.466 Q203.449 359.859 209.26 359.859 Z\" fill=\"#000000\" fill-rule=\"evenodd\" fill-opacity=\"1\" /><path clip-path=\"url(#clip120)\" d=\"M239.422 363.563 Q235.81 363.563 233.982 367.128 Q232.176 370.669 232.176 377.799 Q232.176 384.905 233.982 388.47 Q235.81 392.012 239.422 392.012 Q243.056 392.012 244.861 388.47 Q246.69 384.905 246.69 377.799 Q246.69 370.669 244.861 367.128 Q243.056 363.563 239.422 363.563 M239.422 359.859 Q245.232 359.859 248.287 364.466 Q251.366 369.049 251.366 377.799 Q251.366 386.526 248.287 391.132 Q245.232 395.716 239.422 395.716 Q233.611 395.716 230.533 391.132 Q227.477 386.526 227.477 377.799 Q227.477 369.049 230.533 364.466 Q233.611 359.859 239.422 359.859 Z\" fill=\"#000000\" fill-rule=\"evenodd\" fill-opacity=\"1\" /><path clip-path=\"url(#clip120)\" d=\"M287.755 369.581 L277.176 380.206 L287.755 390.785 L285 393.586 L274.375 382.961 L263.75 393.586 L261.019 390.785 L271.574 380.206 L261.019 369.581 L263.75 366.78 L274.375 377.405 L285 366.78 L287.755 369.581 Z\" fill=\"#000000\" fill-rule=\"evenodd\" fill-opacity=\"1\" /><path clip-path=\"url(#clip120)\" d=\"M300.116 391.109 L307.754 391.109 L307.754 364.743 L299.444 366.41 L299.444 362.151 L307.708 360.484 L312.384 360.484 L312.384 391.109 L320.023 391.109 L320.023 395.044 L300.116 395.044 L300.116 391.109 Z\" fill=\"#000000\" fill-rule=\"evenodd\" fill-opacity=\"1\" /><path clip-path=\"url(#clip120)\" d=\"M339.467 363.563 Q335.856 363.563 334.027 367.128 Q332.222 370.669 332.222 377.799 Q332.222 384.905 334.027 388.47 Q335.856 392.012 339.467 392.012 Q343.102 392.012 344.907 388.47 Q346.736 384.905 346.736 377.799 Q346.736 370.669 344.907 367.128 Q343.102 363.563 339.467 363.563 M339.467 359.859 Q345.277 359.859 348.333 364.466 Q351.412 369.049 351.412 377.799 Q351.412 386.526 348.333 391.132 Q345.277 395.716 339.467 395.716 Q333.657 395.716 330.578 391.132 Q327.523 386.526 327.523 377.799 Q327.523 369.049 330.578 364.466 Q333.657 359.859 339.467 359.859 Z\" fill=\"#000000\" fill-rule=\"evenodd\" fill-opacity=\"1\" /><path clip-path=\"url(#clip120)\" d=\"M364.088 342.864 L354.496 357.854 L364.088 357.854 L364.088 342.864 M363.091 339.554 L367.868 339.554 L367.868 357.854 L371.875 357.854 L371.875 361.013 L367.868 361.013 L367.868 367.634 L364.088 367.634 L364.088 361.013 L351.412 361.013 L351.412 357.346 L363.091 339.554 Z\" fill=\"#000000\" fill-rule=\"evenodd\" fill-opacity=\"1\" /><path clip-path=\"url(#clip120)\" d=\"M152.848 180.546 L175.07 180.546 L175.07 182.537 L162.524 215.106 L157.64 215.106 L169.445 184.481 L152.848 184.481 L152.848 180.546 Z\" fill=\"#000000\" fill-rule=\"evenodd\" fill-opacity=\"1\" /><path clip-path=\"url(#clip120)\" d=\"M184.19 209.226 L189.075 209.226 L189.075 215.106 L184.19 215.106 L184.19 209.226 Z\" fill=\"#000000\" fill-rule=\"evenodd\" fill-opacity=\"1\" /><path clip-path=\"url(#clip120)\" d=\"M199.306 180.546 L217.662 180.546 L217.662 184.481 L203.588 184.481 L203.588 192.953 Q204.607 192.606 205.625 192.444 Q206.644 192.259 207.662 192.259 Q213.449 192.259 216.829 195.43 Q220.209 198.601 220.209 204.018 Q220.209 209.597 216.736 212.698 Q213.264 215.777 206.945 215.777 Q204.769 215.777 202.5 215.407 Q200.255 215.036 197.848 214.296 L197.848 209.597 Q199.931 210.731 202.153 211.286 Q204.375 211.842 206.852 211.842 Q210.857 211.842 213.195 209.736 Q215.533 207.629 215.533 204.018 Q215.533 200.407 213.195 198.3 Q210.857 196.194 206.852 196.194 Q204.977 196.194 203.102 196.611 Q201.25 197.027 199.306 197.907 L199.306 180.546 Z\" fill=\"#000000\" fill-rule=\"evenodd\" fill-opacity=\"1\" /><path clip-path=\"url(#clip120)\" d=\"M239.422 183.625 Q235.81 183.625 233.982 187.189 Q232.176 190.731 232.176 197.861 Q232.176 204.967 233.982 208.532 Q235.81 212.073 239.422 212.073 Q243.056 212.073 244.861 208.532 Q246.69 204.967 246.69 197.861 Q246.69 190.731 244.861 187.189 Q243.056 183.625 239.422 183.625 M239.422 179.921 Q245.232 179.921 248.287 184.527 Q251.366 189.111 251.366 197.861 Q251.366 206.587 248.287 211.194 Q245.232 215.777 239.422 215.777 Q233.611 215.777 230.533 211.194 Q227.477 206.587 227.477 197.861 Q227.477 189.111 230.533 184.527 Q233.611 179.921 239.422 179.921 Z\" fill=\"#000000\" fill-rule=\"evenodd\" fill-opacity=\"1\" /><path clip-path=\"url(#clip120)\" d=\"M287.755 189.643 L277.176 200.268 L287.755 210.847 L285 213.648 L274.375 203.023 L263.75 213.648 L261.019 210.847 L271.574 200.268 L261.019 189.643 L263.75 186.842 L274.375 197.467 L285 186.842 L287.755 189.643 Z\" fill=\"#000000\" fill-rule=\"evenodd\" fill-opacity=\"1\" /><path clip-path=\"url(#clip120)\" d=\"M300.116 211.171 L307.754 211.171 L307.754 184.805 L299.444 186.472 L299.444 182.213 L307.708 180.546 L312.384 180.546 L312.384 211.171 L320.023 211.171 L320.023 215.106 L300.116 215.106 L300.116 211.171 Z\" fill=\"#000000\" fill-rule=\"evenodd\" fill-opacity=\"1\" /><path clip-path=\"url(#clip120)\" d=\"M339.467 183.625 Q335.856 183.625 334.027 187.189 Q332.222 190.731 332.222 197.861 Q332.222 204.967 334.027 208.532 Q335.856 212.073 339.467 212.073 Q343.102 212.073 344.907 208.532 Q346.736 204.967 346.736 197.861 Q346.736 190.731 344.907 187.189 Q343.102 183.625 339.467 183.625 M339.467 179.921 Q345.277 179.921 348.333 184.527 Q351.412 189.111 351.412 197.861 Q351.412 206.587 348.333 211.194 Q345.277 215.777 339.467 215.777 Q333.657 215.777 330.578 211.194 Q327.523 206.587 327.523 197.861 Q327.523 189.111 330.578 184.527 Q333.657 179.921 339.467 179.921 Z\" fill=\"#000000\" fill-rule=\"evenodd\" fill-opacity=\"1\" /><path clip-path=\"url(#clip120)\" d=\"M364.088 162.926 L354.496 177.915 L364.088 177.915 L364.088 162.926 M363.091 159.615 L367.868 159.615 L367.868 177.915 L371.875 177.915 L371.875 181.075 L367.868 181.075 L367.868 187.695 L364.088 187.695 L364.088 181.075 L351.412 181.075 L351.412 177.408 L363.091 159.615 Z\" fill=\"#000000\" fill-rule=\"evenodd\" fill-opacity=\"1\" /><path clip-path=\"url(#clip120)\" d=\"M28.3562 756.711 L45.7028 769.602 L64.0042 756.043 L64.0042 762.95 L49.9996 773.326 L64.0042 783.702 L64.0042 790.609 L45.3526 776.763 L28.3562 789.431 L28.3562 782.524 L41.0558 773.071 L28.3562 763.618 L28.3562 756.711 Z\" fill=\"#000000\" fill-rule=\"evenodd\" fill-opacity=\"1\" /><path clip-path=\"url(#clip120)\" d=\"M1152.65 14.0809 L1152.65 22.0612 Q1148 19.8332 1143.86 18.7395 Q1139.73 17.6457 1135.88 17.6457 Q1129.2 17.6457 1125.55 20.2383 Q1121.95 22.8309 1121.95 27.611 Q1121.95 31.6214 1124.34 33.6873 Q1126.77 35.7128 1133.49 36.9686 L1138.44 37.9813 Q1147.59 39.7232 1151.93 44.1387 Q1156.3 48.5136 1156.3 55.8863 Q1156.3 64.6767 1150.39 69.2137 Q1144.51 73.7508 1133.13 73.7508 Q1128.84 73.7508 1123.97 72.7785 Q1119.15 71.8063 1113.97 69.9024 L1113.97 61.4765 Q1118.95 64.2716 1123.73 65.6895 Q1128.51 67.1073 1133.13 67.1073 Q1140.14 67.1073 1143.94 64.3527 Q1147.75 61.598 1147.75 56.4939 Q1147.75 52.0379 1145 49.5264 Q1142.28 47.0148 1136.05 45.759 L1131.06 44.7868 Q1121.91 42.9639 1117.82 39.075 Q1113.73 35.1862 1113.73 28.2591 Q1113.73 20.2383 1119.36 15.6203 Q1125.03 11.0023 1134.95 11.0023 Q1139.21 11.0023 1143.62 11.7719 Q1148.04 12.5416 1152.65 14.0809 Z\" fill=\"#000000\" fill-rule=\"evenodd\" fill-opacity=\"1\" /><path clip-path=\"url(#clip120)\" d=\"M1176.11 14.324 L1176.11 27.2059 L1191.46 27.2059 L1191.46 32.9987 L1176.11 32.9987 L1176.11 57.6282 Q1176.11 63.1779 1177.61 64.7578 Q1179.15 66.3376 1183.81 66.3376 L1191.46 66.3376 L1191.46 72.576 L1183.81 72.576 Q1175.18 72.576 1171.9 69.3758 Q1168.61 66.1351 1168.61 57.6282 L1168.61 32.9987 L1163.15 32.9987 L1163.15 27.2059 L1168.61 27.2059 L1168.61 14.324 L1176.11 14.324 Z\" fill=\"#000000\" fill-rule=\"evenodd\" fill-opacity=\"1\" /><path clip-path=\"url(#clip120)\" d=\"M1221.88 49.7694 Q1212.85 49.7694 1209.37 51.8354 Q1205.88 53.9013 1205.88 58.8839 Q1205.88 62.8538 1208.48 65.2034 Q1211.11 67.5124 1215.61 67.5124 Q1221.8 67.5124 1225.53 63.1374 Q1229.3 58.7219 1229.3 51.4303 L1229.3 49.7694 L1221.88 49.7694 M1236.75 46.6907 L1236.75 72.576 L1229.3 72.576 L1229.3 65.6895 Q1226.75 69.8214 1222.94 71.8063 Q1219.13 73.7508 1213.62 73.7508 Q1206.65 73.7508 1202.52 69.8619 Q1198.43 65.9325 1198.43 59.3701 Q1198.43 51.7138 1203.53 47.825 Q1208.68 43.9361 1218.85 43.9361 L1229.3 43.9361 L1229.3 43.2069 Q1229.3 38.0623 1225.89 35.2672 Q1222.53 32.4315 1216.42 32.4315 Q1212.53 32.4315 1208.84 33.3632 Q1205.15 34.295 1201.75 36.1584 L1201.75 29.2718 Q1205.84 27.692 1209.69 26.9223 Q1213.54 26.1121 1217.19 26.1121 Q1227.03 26.1121 1231.89 31.2163 Q1236.75 36.3204 1236.75 46.6907 Z\" fill=\"#000000\" fill-rule=\"evenodd\" fill-opacity=\"1\" /><path clip-path=\"url(#clip120)\" d=\"M1259.48 14.324 L1259.48 27.2059 L1274.83 27.2059 L1274.83 32.9987 L1259.48 32.9987 L1259.48 57.6282 Q1259.48 63.1779 1260.98 64.7578 Q1262.51 66.3376 1267.17 66.3376 L1274.83 66.3376 L1274.83 72.576 L1267.17 72.576 Q1258.55 72.576 1255.26 69.3758 Q1251.98 66.1351 1251.98 57.6282 L1251.98 32.9987 L1246.51 32.9987 L1246.51 27.2059 L1251.98 27.2059 L1251.98 14.324 L1259.48 14.324 Z\" fill=\"#000000\" fill-rule=\"evenodd\" fill-opacity=\"1\" /><path clip-path=\"url(#clip120)\" d=\"M1323.44 48.0275 L1323.44 51.6733 L1289.17 51.6733 Q1289.66 59.3701 1293.79 63.421 Q1297.96 67.4314 1305.37 67.4314 Q1309.67 67.4314 1313.68 66.3781 Q1317.73 65.3249 1321.7 63.2184 L1321.7 70.267 Q1317.69 71.9684 1313.48 72.8596 Q1309.26 73.7508 1304.93 73.7508 Q1294.07 73.7508 1287.71 67.4314 Q1281.39 61.1119 1281.39 50.3365 Q1281.39 39.1965 1287.39 32.6746 Q1293.42 26.1121 1303.63 26.1121 Q1312.79 26.1121 1318.09 32.0264 Q1323.44 37.9003 1323.44 48.0275 M1315.99 45.84 Q1315.91 39.7232 1312.54 36.0774 Q1309.22 32.4315 1303.71 32.4315 Q1297.47 32.4315 1293.71 35.9558 Q1289.98 39.4801 1289.41 45.8805 L1315.99 45.84 Z\" fill=\"#000000\" fill-rule=\"evenodd\" fill-opacity=\"1\" /><path clip-path=\"url(#clip120)\" d=\"M1362.37 12.096 L1370.55 12.096 L1370.55 36.8875 L1400.29 36.8875 L1400.29 12.096 L1408.47 12.096 L1408.47 72.576 L1400.29 72.576 L1400.29 43.7741 L1370.55 43.7741 L1370.55 72.576 L1362.37 72.576 L1362.37 12.096 Z\" fill=\"#000000\" fill-rule=\"evenodd\" fill-opacity=\"1\" /><path clip-path=\"url(#clip120)\" d=\"M1424.43 27.2059 L1431.88 27.2059 L1431.88 72.576 L1424.43 72.576 L1424.43 27.2059 M1424.43 9.54393 L1431.88 9.54393 L1431.88 18.9825 L1424.43 18.9825 L1424.43 9.54393 Z\" fill=\"#000000\" fill-rule=\"evenodd\" fill-opacity=\"1\" /><path clip-path=\"url(#clip120)\" d=\"M1476.4 28.5427 L1476.4 35.5912 Q1473.24 33.9709 1469.84 33.1607 Q1466.44 32.3505 1462.79 32.3505 Q1457.24 32.3505 1454.45 34.0519 Q1451.69 35.7533 1451.69 39.156 Q1451.69 41.7486 1453.68 43.2475 Q1455.66 44.7058 1461.66 46.0426 L1464.21 46.6097 Q1472.15 48.3111 1475.47 51.4303 Q1478.83 54.509 1478.83 60.0587 Q1478.83 66.3781 1473.81 70.0644 Q1468.83 73.7508 1460.08 73.7508 Q1456.43 73.7508 1452.46 73.0216 Q1448.53 72.3329 1444.16 70.9151 L1444.16 63.2184 Q1448.29 65.3654 1452.3 66.4591 Q1456.31 67.5124 1460.24 67.5124 Q1465.51 67.5124 1468.34 65.73 Q1471.18 63.9071 1471.18 60.6258 Q1471.18 57.5877 1469.11 55.9673 Q1467.09 54.3469 1460.16 52.8481 L1457.57 52.2405 Q1450.64 50.7821 1447.56 47.7845 Q1444.48 44.7463 1444.48 39.4801 Q1444.48 33.0797 1449.02 29.5959 Q1453.56 26.1121 1461.9 26.1121 Q1466.03 26.1121 1469.68 26.7198 Q1473.32 27.3274 1476.4 28.5427 Z\" fill=\"#000000\" fill-rule=\"evenodd\" fill-opacity=\"1\" /><path clip-path=\"url(#clip120)\" d=\"M1498.07 14.324 L1498.07 27.2059 L1513.43 27.2059 L1513.43 32.9987 L1498.07 32.9987 L1498.07 57.6282 Q1498.07 63.1779 1499.57 64.7578 Q1501.11 66.3376 1505.77 66.3376 L1513.43 66.3376 L1513.43 72.576 L1505.77 72.576 Q1497.14 72.576 1493.86 69.3758 Q1490.58 66.1351 1490.58 57.6282 L1490.58 32.9987 L1485.11 32.9987 L1485.11 27.2059 L1490.58 27.2059 L1490.58 14.324 L1498.07 14.324 Z\" fill=\"#000000\" fill-rule=\"evenodd\" fill-opacity=\"1\" /><path clip-path=\"url(#clip120)\" d=\"M1540.81 32.4315 Q1534.82 32.4315 1531.33 37.1306 Q1527.85 41.7891 1527.85 49.9314 Q1527.85 58.0738 1531.29 62.7728 Q1534.78 67.4314 1540.81 67.4314 Q1546.77 67.4314 1550.25 62.7323 Q1553.73 58.0333 1553.73 49.9314 Q1553.73 41.8701 1550.25 37.1711 Q1546.77 32.4315 1540.81 32.4315 M1540.81 26.1121 Q1550.53 26.1121 1556.08 32.4315 Q1561.63 38.7509 1561.63 49.9314 Q1561.63 61.0714 1556.08 67.4314 Q1550.53 73.7508 1540.81 73.7508 Q1531.05 73.7508 1525.5 67.4314 Q1519.99 61.0714 1519.99 49.9314 Q1519.99 38.7509 1525.5 32.4315 Q1531.05 26.1121 1540.81 26.1121 Z\" fill=\"#000000\" fill-rule=\"evenodd\" fill-opacity=\"1\" /><path clip-path=\"url(#clip120)\" d=\"M1600.28 34.1734 Q1599.02 33.4443 1597.52 33.1202 Q1596.07 32.7556 1594.28 32.7556 Q1587.96 32.7556 1584.56 36.8875 Q1581.2 40.9789 1581.2 48.6757 L1581.2 72.576 L1573.71 72.576 L1573.71 27.2059 L1581.2 27.2059 L1581.2 34.2544 Q1583.55 30.1225 1587.32 28.1376 Q1591.08 26.1121 1596.47 26.1121 Q1597.24 26.1121 1598.17 26.2337 Q1599.1 26.3147 1600.24 26.5172 L1600.28 34.1734 Z\" fill=\"#000000\" fill-rule=\"evenodd\" fill-opacity=\"1\" /><path clip-path=\"url(#clip120)\" d=\"M1626.97 76.7889 Q1623.82 84.8907 1620.82 87.3618 Q1617.82 89.8329 1612.8 89.8329 L1606.84 89.8329 L1606.84 83.5945 L1611.22 83.5945 Q1614.3 83.5945 1616 82.1361 Q1617.7 80.6778 1619.76 75.2496 L1621.1 71.8468 L1602.75 27.2059 L1610.65 27.2059 L1624.83 62.6918 L1639.01 27.2059 L1646.91 27.2059 L1626.97 76.7889 Z\" fill=\"#000000\" fill-rule=\"evenodd\" fill-opacity=\"1\" /><polyline clip-path=\"url(#clip122)\" style=\"stroke:#009af9; stroke-linecap:round; stroke-linejoin:round; stroke-width:4; stroke-opacity:1; fill:none\" points=\"462.918,731.165 469.495,731.166 476.071,731.167 482.647,731.168 489.224,731.169 495.8,731.17 502.376,731.172 508.953,731.173 515.529,731.174 522.105,731.175 528.682,731.177 535.258,731.178 541.834,731.18 548.411,731.181 554.987,731.183 561.563,731.184 568.139,731.186 574.716,731.188 581.292,731.189 587.868,731.191 594.445,731.193 601.021,731.195 607.597,731.197 614.174,731.199 620.75,731.201 627.326,731.203 633.903,731.205 640.479,731.208 647.055,731.21 653.632,731.212 660.208,731.215 666.784,731.217 673.361,731.22 679.937,731.223 686.513,731.226 693.09,731.229 699.666,731.232 706.242,731.235 712.819,731.238 719.395,731.241 725.971,731.245 732.548,731.248 739.124,731.252 745.7,731.256 752.276,731.26 758.853,731.264 765.429,731.268 772.005,731.272 778.582,731.277 785.158,731.282 791.734,731.286 798.311,731.291 804.887,731.297 811.463,731.302 818.04,731.308 824.616,731.313 831.192,731.319 837.769,731.325 844.345,731.332 850.921,731.338 857.498,731.345 864.074,731.352 870.65,731.36 877.227,731.367 883.803,731.375 890.379,731.383 896.956,731.392 903.532,731.4 910.108,731.41 916.685,731.419 923.261,731.429 929.837,731.439 936.413,731.45 942.99,731.461 949.566,731.472 956.142,731.484 962.719,731.496 969.295,731.509 975.871,731.522 982.448,731.536 989.024,731.55 995.6,731.564 1002.18,731.58 1008.75,731.595 1015.33,731.612 1021.91,731.629 1028.48,731.646 1035.06,731.665 1041.63,731.684 1048.21,731.703 1054.79,731.724 1061.36,731.745 1067.94,731.767 1074.52,731.79 1081.09,731.814 1087.67,731.838 1094.25,731.864 1100.82,731.89 1107.4,731.918 1113.97,731.946 1120.55,731.976 1127.13,732.007 1133.7,732.039 1140.28,732.072 1146.86,732.106 1153.43,732.142 1160.01,732.179 1166.58,732.218 1173.16,732.258 1179.74,732.299 1186.31,732.342 1192.89,732.387 1199.47,732.433 1206.04,732.481 1212.62,732.531 1219.2,732.583 1225.77,732.637 1232.35,732.692 1238.92,732.75 1245.5,732.811 1252.08,732.873 1258.65,732.938 1265.23,733.004 1271.81,733.074 1278.38,733.146 1284.96,733.221 1291.53,733.298 1298.11,733.379 1304.69,733.462 1311.26,733.549 1317.84,733.639 1324.42,733.733 1330.99,733.83 1337.57,733.931 1344.15,734.036 1350.72,734.145 1357.3,734.259 1363.87,734.377 1370.45,734.499 1377.03,734.626 1383.6,734.758 1390.18,734.894 1396.76,735.036 1403.33,735.183 1409.91,735.336 1416.48,735.494 1423.06,735.659 1429.64,735.829 1436.21,736.007 1442.79,736.191 1449.37,736.382 1455.94,736.581 1462.52,736.788 1469.1,737.003 1475.67,737.225 1482.25,737.456 1488.82,737.696 1495.4,737.945 1501.98,738.202 1508.55,738.469 1515.13,738.747 1521.71,739.035 1528.28,739.335 1534.86,739.646 1541.44,739.969 1548.01,740.305 1554.59,740.654 1561.16,741.016 1567.74,741.392 1574.32,741.784 1580.89,742.19 1587.47,742.612 1594.05,743.051 1600.62,743.506 1607.2,743.98 1613.77,744.47 1620.35,744.979 1626.93,745.508 1633.5,746.057 1640.08,746.626 1646.66,747.216 1653.23,747.83 1659.81,748.465 1666.39,749.125 1672.96,749.808 1679.54,750.517 1686.11,751.253 1692.69,752.018 1699.27,752.813 1705.84,753.639 1712.42,754.497 1719,755.387 1725.57,756.309 1732.15,757.267 1738.72,758.262 1745.3,759.296 1751.88,760.371 1758.45,761.487 1765.03,762.645 1771.61,763.845 1778.18,765.092 1784.76,766.385 1791.34,767.726 1797.91,769.12 1804.49,770.567 1811.06,772.071 1817.64,773.633 1824.22,775.255 1830.79,776.94 1837.37,778.69 1843.95,780.509 1850.52,782.398 1857.1,784.36 1863.67,786.399 1870.25,788.516 1876.83,790.712 1883.4,792.988 1889.98,795.352 1896.56,797.802 1903.13,800.343 1909.71,802.981 1916.29,805.722 1922.86,808.569 1929.44,811.526 1936.01,814.598 1942.59,817.788 1949.17,821.101 1955.74,824.542 1962.32,828.116 1968.9,831.822 1975.47,835.665 1982.05,839.659 1988.62,843.808 1995.2,848.117 2001.78,852.592 2008.35,857.241 2014.93,862.072 2021.51,867.089 2028.08,872.291 2034.66,877.676 2041.24,883.259 2047.81,889.058 2054.39,895.081 2060.96,901.336 2067.54,907.834 2074.12,914.584 2080.69,921.595 2087.27,928.876 2093.85,936.439 2100.42,944.281 2107,952.413 2113.58,960.859 2120.15,969.632 2126.73,978.748 2133.3,988.22 2139.88,998.061 2146.46,1008.28 2153.03,1018.9 2159.61,1029.93 2166.19,1041.37 2172.76,1053.2 2179.34,1065.48 2185.91,1078.22 2192.49,1091.47 2199.07,1105.23 2205.64,1119.53 2212.22,1134.39 2218.8,1149.81 2225.37,1165.81 2231.95,1182.39 2238.53,1199.62 2245.1,1217.52 2251.68,1236.08 2258.25,1255.29 2264.83,1275.17 2271.41,1295.79 2277.98,1317.21 2284.56,1339.42 2291.14,1362.46 2297.71,1386.4 \"/>\n",
       "<polyline clip-path=\"url(#clip122)\" style=\"stroke:#e26f46; stroke-linecap:round; stroke-linejoin:round; stroke-width:4; stroke-opacity:1; fill:none\" points=\"462.918,731.179 469.495,731.178 476.071,731.177 482.647,731.177 489.224,731.176 495.8,731.175 502.376,731.174 508.953,731.173 515.529,731.172 522.105,731.171 528.682,731.17 535.258,731.169 541.834,731.168 548.411,731.167 554.987,731.166 561.563,731.165 568.139,731.164 574.716,731.162 581.292,731.161 587.868,731.16 594.445,731.158 601.021,731.157 607.597,731.155 614.174,731.154 620.75,731.152 627.326,731.151 633.903,731.149 640.479,731.147 647.055,731.145 653.632,731.143 660.208,731.142 666.784,731.139 673.361,731.137 679.937,731.135 686.513,731.133 693.09,731.131 699.666,731.128 706.242,731.126 712.819,731.123 719.395,731.12 725.971,731.117 732.548,731.115 739.124,731.112 745.7,731.108 752.276,731.105 758.853,731.102 765.429,731.098 772.005,731.095 778.582,731.091 785.158,731.087 791.734,731.083 798.311,731.079 804.887,731.075 811.463,731.07 818.04,731.066 824.616,731.061 831.192,731.056 837.769,731.051 844.345,731.045 850.921,731.04 857.498,731.034 864.074,731.028 870.65,731.022 877.227,731.015 883.803,731.009 890.379,731.002 896.956,730.994 903.532,730.987 910.108,730.979 916.685,730.971 923.261,730.963 929.837,730.954 936.413,730.945 942.99,730.936 949.566,730.926 956.142,730.916 962.719,730.905 969.295,730.895 975.871,730.883 982.448,730.872 989.024,730.859 995.6,730.847 1002.18,730.834 1008.75,730.82 1015.33,730.806 1021.91,730.791 1028.48,730.776 1035.06,730.76 1041.63,730.744 1048.21,730.727 1054.79,730.709 1061.36,730.691 1067.94,730.672 1074.52,730.652 1081.09,730.632 1087.67,730.611 1094.25,730.589 1100.82,730.566 1107.4,730.542 1113.97,730.517 1120.55,730.491 1127.13,730.465 1133.7,730.437 1140.28,730.408 1146.86,730.378 1153.43,730.347 1160.01,730.315 1166.58,730.282 1173.16,730.247 1179.74,730.211 1186.31,730.174 1192.89,730.135 1199.47,730.095 1206.04,730.053 1212.62,730.01 1219.2,729.965 1225.77,729.918 1232.35,729.87 1238.92,729.819 1245.5,729.767 1252.08,729.713 1258.65,729.657 1265.23,729.599 1271.81,729.538 1278.38,729.476 1284.96,729.411 1291.53,729.343 1298.11,729.273 1304.69,729.201 1311.26,729.125 1317.84,729.047 1324.42,728.965 1330.99,728.88 1337.57,728.793 1344.15,728.701 1350.72,728.606 1357.3,728.507 1363.87,728.405 1370.45,728.298 1377.03,728.188 1383.6,728.073 1390.18,727.954 1396.76,727.831 1403.33,727.703 1409.91,727.57 1416.48,727.432 1423.06,727.289 1429.64,727.14 1436.21,726.986 1442.79,726.826 1449.37,726.659 1455.94,726.486 1462.52,726.306 1469.1,726.119 1475.67,725.925 1482.25,725.724 1488.82,725.515 1495.4,725.298 1501.98,725.074 1508.55,724.841 1515.13,724.6 1521.71,724.349 1528.28,724.088 1534.86,723.817 1541.44,723.535 1548.01,723.243 1554.59,722.939 1561.16,722.623 1567.74,722.295 1574.32,721.955 1580.89,721.601 1587.47,721.233 1594.05,720.851 1600.62,720.454 1607.2,720.042 1613.77,719.614 1620.35,719.171 1626.93,718.71 1633.5,718.232 1640.08,717.736 1646.66,717.222 1653.23,716.688 1659.81,716.134 1666.39,715.559 1672.96,714.964 1679.54,714.346 1686.11,713.705 1692.69,713.038 1699.27,712.345 1705.84,711.626 1712.42,710.878 1719,710.104 1725.57,709.3 1732.15,708.465 1738.72,707.598 1745.3,706.697 1751.88,705.761 1758.45,704.788 1765.03,703.78 1771.61,702.734 1778.18,701.647 1784.76,700.521 1791.34,699.352 1797.91,698.138 1804.49,696.876 1811.06,695.566 1817.64,694.205 1824.22,692.792 1830.79,691.324 1837.37,689.798 1843.95,688.214 1850.52,686.568 1857.1,684.858 1863.67,683.082 1870.25,681.237 1876.83,679.324 1883.4,677.34 1889.98,675.281 1896.56,673.145 1903.13,670.932 1909.71,668.633 1916.29,666.245 1922.86,663.764 1929.44,661.187 1936.01,658.51 1942.59,655.73 1949.17,652.844 1955.74,649.845 1962.32,646.731 1968.9,643.502 1975.47,640.153 1982.05,636.673 1988.62,633.058 1995.2,629.303 2001.78,625.403 2008.35,621.352 2014.93,617.143 2021.51,612.771 2028.08,608.238 2034.66,603.546 2041.24,598.681 2047.81,593.628 2054.39,588.38 2060.96,582.929 2067.54,577.266 2074.12,571.385 2080.69,565.276 2087.27,558.931 2093.85,552.341 2100.42,545.507 2107,538.422 2113.58,531.062 2120.15,523.417 2126.73,515.473 2133.3,507.22 2139.88,498.645 2146.46,489.736 2153.03,480.483 2159.61,470.873 2166.19,460.909 2172.76,450.595 2179.34,439.901 2185.91,428.793 2192.49,417.25 2199.07,405.256 2205.64,392.796 2212.22,379.854 2218.8,366.412 2225.37,352.474 2231.95,338.022 2238.53,323.009 2245.1,307.414 2251.68,291.241 2258.25,274.5 2264.83,257.173 2271.41,239.206 2277.98,220.54 2284.56,201.186 2291.14,181.115 2297.71,160.256 \"/>\n",
       "<polyline clip-path=\"url(#clip122)\" style=\"stroke:#3da44d; stroke-linecap:round; stroke-linejoin:round; stroke-width:4; stroke-opacity:1; fill:none\" points=\"462.918,731.049 469.495,731.051 476.071,731.053 482.647,731.055 489.224,731.057 495.8,731.058 502.376,731.06 508.953,731.062 515.529,731.064 522.105,731.065 528.682,731.067 535.258,731.069 541.834,731.071 548.411,731.072 554.987,731.074 561.563,731.076 568.139,731.078 574.716,731.08 581.292,731.081 587.868,731.083 594.445,731.085 601.021,731.087 607.597,731.088 614.174,731.09 620.75,731.092 627.326,731.094 633.903,731.096 640.479,731.097 647.055,731.099 653.632,731.101 660.208,731.103 666.784,731.105 673.361,731.107 679.937,731.108 686.513,731.11 693.09,731.112 699.666,731.114 706.242,731.116 712.819,731.118 719.395,731.12 725.971,731.122 732.548,731.124 739.124,731.126 745.7,731.128 752.276,731.13 758.853,731.132 765.429,731.134 772.005,731.136 778.582,731.139 785.158,731.141 791.734,731.143 798.311,731.145 804.887,731.148 811.463,731.15 818.04,731.152 824.616,731.155 831.192,731.157 837.769,731.16 844.345,731.162 850.921,731.165 857.498,731.167 864.074,731.17 870.65,731.173 877.227,731.176 883.803,731.179 890.379,731.182 896.956,731.185 903.532,731.188 910.108,731.191 916.685,731.194 923.261,731.197 929.837,731.201 936.413,731.204 942.99,731.208 949.566,731.212 956.142,731.215 962.719,731.219 969.295,731.223 975.871,731.227 982.448,731.232 989.024,731.236 995.6,731.24 1002.18,731.245 1008.75,731.25 1015.33,731.255 1021.91,731.26 1028.48,731.265 1035.06,731.27 1041.63,731.276 1048.21,731.281 1054.79,731.287 1061.36,731.293 1067.94,731.299 1074.52,731.306 1081.09,731.312 1087.67,731.319 1094.25,731.326 1100.82,731.334 1107.4,731.341 1113.97,731.349 1120.55,731.357 1127.13,731.366 1133.7,731.374 1140.28,731.383 1146.86,731.393 1153.43,731.402 1160.01,731.412 1166.58,731.423 1173.16,731.433 1179.74,731.444 1186.31,731.456 1192.89,731.467 1199.47,731.48 1206.04,731.492 1212.62,731.506 1219.2,731.519 1225.77,731.533 1232.35,731.548 1238.92,731.563 1245.5,731.579 1252.08,731.595 1258.65,731.612 1265.23,731.63 1271.81,731.648 1278.38,731.667 1284.96,731.686 1291.53,731.706 1298.11,731.727 1304.69,731.749 1311.26,731.771 1317.84,731.795 1324.42,731.819 1330.99,731.844 1337.57,731.87 1344.15,731.897 1350.72,731.925 1357.3,731.954 1363.87,731.984 1370.45,732.015 1377.03,732.048 1383.6,732.081 1390.18,732.116 1396.76,732.153 1403.33,732.19 1409.91,732.229 1416.48,732.27 1423.06,732.312 1429.64,732.355 1436.21,732.401 1442.79,732.447 1449.37,732.496 1455.94,732.547 1462.52,732.599 1469.1,732.654 1475.67,732.71 1482.25,732.769 1488.82,732.83 1495.4,732.893 1501.98,732.959 1508.55,733.027 1515.13,733.097 1521.71,733.171 1528.28,733.247 1534.86,733.326 1541.44,733.408 1548.01,733.493 1554.59,733.581 1561.16,733.673 1567.74,733.768 1574.32,733.867 1580.89,733.969 1587.47,734.076 1594.05,734.187 1600.62,734.301 1607.2,734.421 1613.77,734.545 1620.35,734.673 1626.93,734.807 1633.5,734.945 1640.08,735.089 1646.66,735.239 1653.23,735.394 1659.81,735.555 1666.39,735.722 1672.96,735.896 1679.54,736.076 1686.11,736.263 1692.69,736.457 1699.27,736.658 1705.84,736.867 1712.42,737.084 1719,737.31 1725.57,737.544 1732.15,737.787 1738.72,738.039 1745.3,738.301 1751.88,738.572 1758.45,738.854 1765.03,739.147 1771.61,739.451 1778.18,739.767 1784.76,740.095 1791.34,740.435 1797.91,740.788 1804.49,741.154 1811.06,741.535 1817.64,741.93 1824.22,742.34 1830.79,742.766 1837.37,743.208 1843.95,743.667 1850.52,744.143 1857.1,744.638 1863.67,745.152 1870.25,745.685 1876.83,746.239 1883.4,746.815 1889.98,747.412 1896.56,748.032 1903.13,748.676 1909.71,749.344 1916.29,750.038 1922.86,750.758 1929.44,751.506 1936.01,752.282 1942.59,753.088 1949.17,753.925 1955.74,754.794 1962.32,755.696 1968.9,756.632 1975.47,757.605 1982.05,758.614 1988.62,759.662 1995.2,760.751 2001.78,761.881 2008.35,763.054 2014.93,764.272 2021.51,765.537 2028.08,766.85 2034.66,768.214 2041.24,769.63 2047.81,771.099 2054.39,772.625 2060.96,774.208 2067.54,775.853 2074.12,777.559 2080.69,779.331 2087.27,781.171 2093.85,783.082 2100.42,785.065 2107,787.124 2113.58,789.261 2120.15,791.481 2126.73,793.785 2133.3,796.177 2139.88,798.66 2146.46,801.239 2153.03,803.916 2159.61,806.697 2166.19,809.583 2172.76,812.581 2179.34,815.693 2185.91,818.923 2192.49,822.276 2199.07,825.758 2205.64,829.372 2212.22,833.124 2218.8,837.02 2225.37,841.065 2231.95,845.264 2238.53,849.624 2245.1,854.15 2251.68,858.849 2258.25,863.727 2264.83,868.791 2271.41,874.046 2277.98,879.5 2284.56,885.159 2291.14,891.033 2297.71,897.129 \"/>\n",
       "<polyline clip-path=\"url(#clip122)\" style=\"stroke:#c271d2; stroke-linecap:round; stroke-linejoin:round; stroke-width:4; stroke-opacity:1; fill:none\" stroke-dasharray=\"16, 10\" points=\"462.918,731.215 469.495,731.215 476.071,731.216 482.647,731.217 489.224,731.217 495.8,731.218 502.376,731.219 508.953,731.219 515.529,731.22 522.105,731.221 528.682,731.221 535.258,731.222 541.834,731.223 548.411,731.224 554.987,731.225 561.563,731.226 568.139,731.227 574.716,731.227 581.292,731.228 587.868,731.23 594.445,731.231 601.021,731.232 607.597,731.233 614.174,731.234 620.75,731.235 627.326,731.237 633.903,731.238 640.479,731.239 647.055,731.241 653.632,731.242 660.208,731.244 666.784,731.246 673.361,731.247 679.937,731.249 686.513,731.251 693.09,731.253 699.666,731.255 706.242,731.257 712.819,731.259 719.395,731.261 725.971,731.264 732.548,731.266 739.124,731.268 745.7,731.271 752.276,731.274 758.853,731.276 765.429,731.279 772.005,731.282 778.582,731.285 785.158,731.288 791.734,731.292 798.311,731.295 804.887,731.299 811.463,731.302 818.04,731.306 824.616,731.31 831.192,731.314 837.769,731.318 844.345,731.323 850.921,731.327 857.498,731.332 864.074,731.337 870.65,731.343 877.227,731.348 883.803,731.354 890.379,731.36 896.956,731.366 903.532,731.372 910.108,731.379 916.685,731.386 923.261,731.393 929.837,731.401 936.413,731.408 942.99,731.416 949.566,731.425 956.142,731.434 962.719,731.443 969.295,731.452 975.871,731.462 982.448,731.471 989.024,731.482 995.6,731.493 1002.18,731.504 1008.75,731.516 1015.33,731.527 1021.91,731.539 1028.48,731.552 1035.06,731.565 1041.63,731.579 1048.21,731.594 1054.79,731.609 1061.36,731.625 1067.94,731.642 1074.52,731.659 1081.09,731.677 1087.67,731.694 1094.25,731.714 1100.82,731.733 1107.4,731.754 1113.97,731.776 1120.55,731.798 1127.13,731.82 1133.7,731.844 1140.28,731.869 1146.86,731.895 1153.43,731.923 1160.01,731.951 1166.58,731.977 1173.16,732.007 1179.74,732.039 1186.31,732.071 1192.89,732.102 1199.47,732.137 1206.04,732.173 1212.62,732.208 1219.2,732.247 1225.77,732.288 1232.35,732.331 1238.92,732.375 1245.5,732.42 1252.08,732.463 1258.65,732.508 1265.23,732.554 1271.81,732.607 1278.38,732.662 1284.96,732.713 1291.53,732.772 1298.11,732.834 1304.69,732.897 1311.26,732.963 1317.84,733.032 1324.42,733.103 1330.99,733.177 1337.57,733.254 1344.15,733.335 1350.72,733.418 1357.3,733.505 1363.87,733.595 1370.45,733.688 1377.03,733.784 1383.6,733.874 1390.18,733.968 1396.76,734.078 1403.33,734.189 1409.91,734.306 1416.48,734.426 1423.06,734.54 1429.64,734.67 1436.21,734.807 1442.79,734.949 1449.37,735.096 1455.94,735.248 1462.52,735.406 1469.1,735.57 1475.67,735.723 1482.25,735.899 1488.82,736.084 1495.4,736.254 1501.98,736.431 1508.55,736.635 1515.13,736.85 1521.71,737.069 1528.28,737.296 1534.86,737.535 1541.44,737.78 1548.01,738.038 1554.59,738.303 1561.16,738.579 1567.74,738.868 1574.32,739.165 1580.89,739.474 1587.47,739.8 1594.05,740.135 1600.62,740.478 1607.2,740.837 1613.77,741.175 1620.35,741.566 1626.93,741.965 1633.5,742.381 1640.08,742.772 1646.66,743.227 1653.23,743.693 1659.81,744.13 1666.39,744.628 1672.96,745.1 1679.54,745.639 1686.11,746.199 1692.69,746.789 1699.27,747.397 1705.84,748.023 1712.42,748.677 1719,749.287 1725.57,749.991 1732.15,750.721 1738.72,751.479 1745.3,752.269 1751.88,753.095 1758.45,753.943 1765.03,754.742 1771.61,755.655 1778.18,756.606 1784.76,757.509 1791.34,758.533 1797.91,759.595 1804.49,760.699 1811.06,761.836 1817.64,763.021 1824.22,764.249 1830.79,765.538 1837.37,766.865 1843.95,768.252 1850.52,769.697 1857.1,771.182 1863.67,772.744 1870.25,774.349 1876.83,775.856 1883.4,777.575 1889.98,779.365 1896.56,781.044 1903.13,782.964 1909.71,784.961 1916.29,787.05 1922.86,789.222 1929.44,791.464 1936.01,793.786 1942.59,796.203 1949.17,798.708 1955.74,801.311 1962.32,804.031 1968.9,806.593 1975.47,809.538 1982.05,812.593 1988.62,815.739 1995.2,819.009 2001.78,822.398 2008.35,825.96 2014.93,829.634 2021.51,833.459 2028.08,837.015 2034.66,840.744 2041.24,844.981 2047.81,849.364 2054.39,853.93 2060.96,858.679 2067.54,863.627 2074.12,868.744 2080.69,874.067 2087.27,879.58 2093.85,885.322 2100.42,890.751 2107,896.897 2113.58,903.32 2120.15,910.018 2126.73,917.016 2133.3,924.24 2139.88,931.759 2146.46,939.573 2153.03,947.593 2159.61,955.926 2166.19,963.848 2172.76,971.976 2179.34,981.319 2185.91,990.996 2192.49,1001.22 2199.07,1011.74 2205.64,1022.63 2212.22,1033.85 2218.8,1045.61 2225.37,1056.58 2231.95,1069.22 2238.53,1082.28 2245.1,1096 2251.68,1108.8 2258.25,1122.05 2264.83,1135.72 2271.41,1151.44 2277.98,1167.77 2284.56,1183.04 2291.14,1200.72 2297.71,1219.15 \"/>\n",
       "<polyline clip-path=\"url(#clip122)\" style=\"stroke:#ac8d18; stroke-linecap:round; stroke-linejoin:round; stroke-width:4; stroke-opacity:1; fill:none\" stroke-dasharray=\"16, 10\" points=\"462.918,731.179 469.495,731.178 476.071,731.178 482.647,731.177 489.224,731.177 495.8,731.176 502.376,731.176 508.953,731.175 515.529,731.175 522.105,731.174 528.682,731.173 535.258,731.172 541.834,731.172 548.411,731.171 554.987,731.17 561.563,731.169 568.139,731.169 574.716,731.168 581.292,731.167 587.868,731.166 594.445,731.165 601.021,731.164 607.597,731.163 614.174,731.162 620.75,731.161 627.326,731.16 633.903,731.159 640.479,731.157 647.055,731.156 653.632,731.155 660.208,731.153 666.784,731.152 673.361,731.15 679.937,731.149 686.513,731.147 693.09,731.146 699.666,731.144 706.242,731.142 712.819,731.14 719.395,731.138 725.971,731.136 732.548,731.134 739.124,731.132 745.7,731.13 752.276,731.127 758.853,731.125 765.429,731.123 772.005,731.12 778.582,731.117 785.158,731.114 791.734,731.112 798.311,731.109 804.887,731.105 811.463,731.102 818.04,731.099 824.616,731.095 831.192,731.092 837.769,731.088 844.345,731.084 850.921,731.08 857.498,731.076 864.074,731.071 870.65,731.067 877.227,731.062 883.803,731.057 890.379,731.052 896.956,731.047 903.532,731.041 910.108,731.035 916.685,731.029 923.261,731.023 929.837,731.016 936.413,731.01 942.99,731.003 949.566,730.995 956.142,730.988 962.719,730.98 969.295,730.971 975.871,730.963 982.448,730.955 989.024,730.946 995.6,730.936 1002.18,730.926 1008.75,730.916 1015.33,730.906 1021.91,730.896 1028.48,730.884 1035.06,730.873 1041.63,730.861 1048.21,730.848 1054.79,730.834 1061.36,730.82 1067.94,730.806 1074.52,730.791 1081.09,730.775 1087.67,730.76 1094.25,730.743 1100.82,730.726 1107.4,730.708 1113.97,730.689 1120.55,730.669 1127.13,730.651 1133.7,730.63 1140.28,730.608 1146.86,730.585 1153.43,730.561 1160.01,730.537 1166.58,730.514 1173.16,730.487 1179.74,730.46 1186.31,730.432 1192.89,730.405 1199.47,730.374 1206.04,730.342 1212.62,730.312 1219.2,730.278 1225.77,730.242 1232.35,730.205 1238.92,730.167 1245.5,730.127 1252.08,730.09 1258.65,730.051 1265.23,730.011 1271.81,729.964 1278.38,729.917 1284.96,729.872 1291.53,729.82 1298.11,729.767 1304.69,729.712 1311.26,729.654 1317.84,729.594 1324.42,729.532 1330.99,729.468 1337.57,729.4 1344.15,729.33 1350.72,729.258 1357.3,729.182 1363.87,729.103 1370.45,729.023 1377.03,728.939 1383.6,728.86 1390.18,728.778 1396.76,728.682 1403.33,728.585 1409.91,728.484 1416.48,728.379 1423.06,728.279 1429.64,728.166 1436.21,728.047 1442.79,727.923 1449.37,727.795 1455.94,727.663 1462.52,727.525 1469.1,727.382 1475.67,727.248 1482.25,727.095 1488.82,726.934 1495.4,726.786 1501.98,726.631 1508.55,726.454 1515.13,726.267 1521.71,726.076 1528.28,725.878 1534.86,725.67 1541.44,725.456 1548.01,725.232 1554.59,725 1561.16,724.76 1567.74,724.508 1574.32,724.249 1580.89,723.98 1587.47,723.696 1594.05,723.404 1600.62,723.105 1607.2,722.792 1613.77,722.498 1620.35,722.156 1626.93,721.809 1633.5,721.447 1640.08,721.106 1646.66,720.71 1653.23,720.303 1659.81,719.923 1666.39,719.489 1672.96,719.077 1679.54,718.607 1686.11,718.12 1692.69,717.605 1699.27,717.076 1705.84,716.53 1712.42,715.96 1719,715.429 1725.57,714.815 1732.15,714.179 1738.72,713.518 1745.3,712.83 1751.88,712.11 1758.45,711.371 1765.03,710.675 1771.61,709.879 1778.18,709.051 1784.76,708.264 1791.34,707.371 1797.91,706.446 1804.49,705.484 1811.06,704.493 1817.64,703.461 1824.22,702.391 1830.79,701.267 1837.37,700.111 1843.95,698.902 1850.52,697.643 1857.1,696.349 1863.67,694.988 1870.25,693.59 1876.83,692.277 1883.4,690.778 1889.98,689.219 1896.56,687.756 1903.13,686.083 1909.71,684.342 1916.29,682.522 1922.86,680.629 1929.44,678.675 1936.01,676.652 1942.59,674.546 1949.17,672.364 1955.74,670.095 1962.32,667.725 1968.9,665.492 1975.47,662.926 1982.05,660.264 1988.62,657.522 1995.2,654.673 2001.78,651.72 2008.35,648.616 2014.93,645.415 2021.51,642.082 2028.08,638.983 2034.66,635.733 2041.24,632.041 2047.81,628.222 2054.39,624.243 2060.96,620.105 2067.54,615.794 2074.12,611.334 2080.69,606.696 2087.27,601.892 2093.85,596.889 2100.42,592.158 2107,586.802 2113.58,581.206 2120.15,575.369 2126.73,569.271 2133.3,562.976 2139.88,556.424 2146.46,549.615 2153.03,542.626 2159.61,535.366 2166.19,528.462 2172.76,521.38 2179.34,513.238 2185.91,504.805 2192.49,495.894 2199.07,486.734 2205.64,477.243 2212.22,467.465 2218.8,457.219 2225.37,447.656 2231.95,436.639 2238.53,425.266 2245.1,413.31 2251.68,402.149 2258.25,390.608 2264.83,378.696 2271.41,364.996 2277.98,350.767 2284.56,337.46 2291.14,322.058 2297.71,306 \"/>\n",
       "<polyline clip-path=\"url(#clip122)\" style=\"stroke:#00a9ad; stroke-linecap:round; stroke-linejoin:round; stroke-width:4; stroke-opacity:1; fill:none\" stroke-dasharray=\"16, 10\" points=\"462.918,731.229 469.495,731.229 476.071,731.229 482.647,731.229 489.224,731.229 495.8,731.229 502.376,731.229 508.953,731.229 515.529,731.229 522.105,731.229 528.682,731.229 535.258,731.229 541.834,731.229 548.411,731.229 554.987,731.229 561.563,731.229 568.139,731.229 574.716,731.229 581.292,731.229 587.868,731.229 594.445,731.229 601.021,731.229 607.597,731.229 614.174,731.229 620.75,731.229 627.326,731.229 633.903,731.229 640.479,731.23 647.055,731.23 653.632,731.23 660.208,731.23 666.784,731.23 673.361,731.231 679.937,731.231 686.513,731.231 693.09,731.231 699.666,731.232 706.242,731.232 712.819,731.232 719.395,731.233 725.971,731.233 732.548,731.233 739.124,731.234 745.7,731.234 752.276,731.235 758.853,731.235 765.429,731.236 772.005,731.236 778.582,731.237 785.158,731.238 791.734,731.238 798.311,731.239 804.887,731.24 811.463,731.241 818.04,731.241 824.616,731.242 831.192,731.243 837.769,731.244 844.345,731.245 850.921,731.246 857.498,731.247 864.074,731.248 870.65,731.249 877.227,731.25 883.803,731.252 890.379,731.253 896.956,731.254 903.532,731.256 910.108,731.257 916.685,731.259 923.261,731.261 929.837,731.262 936.413,731.264 942.99,731.266 949.566,731.268 956.142,731.27 962.719,731.272 969.295,731.274 975.871,731.276 982.448,731.279 989.024,731.281 995.6,731.284 1002.18,731.287 1008.75,731.289 1015.33,731.292 1021.91,731.295 1028.48,731.298 1035.06,731.302 1041.63,731.305 1048.21,731.309 1054.79,731.312 1061.36,731.316 1067.94,731.32 1074.52,731.324 1081.09,731.329 1087.67,731.333 1094.25,731.338 1100.82,731.343 1107.4,731.348 1113.97,731.353 1120.55,731.358 1127.13,731.364 1133.7,731.37 1140.28,731.376 1146.86,731.382 1153.43,731.389 1160.01,731.396 1166.58,731.403 1173.16,731.41 1179.74,731.418 1186.31,731.426 1192.89,731.434 1199.47,731.443 1206.04,731.452 1212.62,731.461 1219.2,731.471 1225.77,731.481 1232.35,731.491 1238.92,731.502 1245.5,731.513 1252.08,731.525 1258.65,731.537 1265.23,731.55 1271.81,731.563 1278.38,731.576 1284.96,731.59 1291.53,731.605 1298.11,731.62 1304.69,731.635 1311.26,731.651 1317.84,731.668 1324.42,731.686 1330.99,731.704 1337.57,731.723 1344.15,731.743 1350.72,731.764 1357.3,731.785 1363.87,731.807 1370.45,731.83 1377.03,731.854 1383.6,731.879 1390.18,731.905 1396.76,731.931 1403.33,731.959 1409.91,731.988 1416.48,732.018 1423.06,732.049 1429.64,732.081 1436.21,732.114 1442.79,732.149 1449.37,732.185 1455.94,732.223 1462.52,732.262 1469.1,732.303 1475.67,732.345 1482.25,732.389 1488.82,732.434 1495.4,732.481 1501.98,732.53 1508.55,732.58 1515.13,732.633 1521.71,732.687 1528.28,732.744 1534.86,732.802 1541.44,732.864 1548.01,732.927 1554.59,732.993 1561.16,733.062 1567.74,733.133 1574.32,733.207 1580.89,733.284 1587.47,733.364 1594.05,733.447 1600.62,733.534 1607.2,733.624 1613.77,733.717 1620.35,733.813 1626.93,733.914 1633.5,734.018 1640.08,734.126 1646.66,734.238 1653.23,734.354 1659.81,734.475 1666.39,734.6 1672.96,734.729 1679.54,734.863 1686.11,735.003 1692.69,735.147 1699.27,735.298 1705.84,735.454 1712.42,735.617 1719,735.786 1725.57,735.96 1732.15,736.141 1738.72,736.33 1745.3,736.526 1751.88,736.729 1758.45,736.941 1765.03,737.161 1771.61,737.388 1778.18,737.624 1784.76,737.869 1791.34,738.123 1797.91,738.387 1804.49,738.661 1811.06,738.946 1817.64,739.242 1824.22,739.549 1830.79,739.869 1837.37,740.2 1843.95,740.545 1850.52,740.903 1857.1,741.276 1863.67,741.663 1870.25,742.065 1876.83,742.482 1883.4,742.914 1889.98,743.362 1896.56,743.828 1903.13,744.309 1909.71,744.809 1916.29,745.328 1922.86,745.867 1929.44,746.428 1936.01,747.01 1942.59,747.615 1949.17,748.243 1955.74,748.896 1962.32,749.574 1968.9,750.278 1975.47,751.006 1982.05,751.763 1988.62,752.55 1995.2,753.367 2001.78,754.216 2008.35,755.098 2014.93,756.014 2021.51,756.966 2028.08,757.956 2034.66,758.978 2041.24,760.036 2047.81,761.134 2054.39,762.275 2060.96,763.46 2067.54,764.691 2074.12,765.971 2080.69,767.3 2087.27,768.68 2093.85,770.114 2100.42,771.604 2107,773.145 2113.58,774.745 2120.15,776.408 2126.73,778.135 2133.3,779.931 2139.88,781.797 2146.46,783.737 2153.03,785.752 2159.61,787.845 2166.19,790.019 2172.76,792.267 2179.34,794.591 2185.91,797.005 2192.49,799.513 2199.07,802.122 2205.64,804.832 2212.22,807.649 2218.8,810.574 2225.37,813.613 2231.95,816.755 2238.53,820.019 2245.1,823.411 2251.68,826.935 2258.25,830.579 2264.83,834.347 2271.41,838.241 2277.98,842.289 2284.56,846.494 2291.14,850.841 2297.71,855.361 \"/>\n",
       "<path clip-path=\"url(#clip120)\" d=\"M472.704 529.676 L710.479 529.676 L710.479 166.796 L472.704 166.796  Z\" fill=\"#ffffff\" fill-rule=\"evenodd\" fill-opacity=\"1\"/>\n",
       "<polyline clip-path=\"url(#clip120)\" style=\"stroke:#000000; stroke-linecap:round; stroke-linejoin:round; stroke-width:4; stroke-opacity:1; fill:none\" points=\"472.704,529.676 710.479,529.676 710.479,166.796 472.704,166.796 472.704,529.676 \"/>\n",
       "<polyline clip-path=\"url(#clip120)\" style=\"stroke:#009af9; stroke-linecap:round; stroke-linejoin:round; stroke-width:4; stroke-opacity:1; fill:none\" points=\"494.314,218.636 623.972,218.636 \"/>\n",
       "<path clip-path=\"url(#clip120)\" d=\"M670.235 209.99 L660.86 222.606 L670.721 235.916 L665.698 235.916 L658.152 225.731 L650.605 235.916 L645.582 235.916 L655.652 222.351 L646.439 209.99 L651.462 209.99 L658.337 219.226 L665.212 209.99 L670.235 209.99 Z\" fill=\"#000000\" fill-rule=\"evenodd\" fill-opacity=\"1\" /><path clip-path=\"url(#clip120)\" d=\"M675.883 233.369 L680.605 233.369 L680.605 219.226 L675.443 220.175 L675.443 217.49 L680.767 216.587 L683.939 216.587 L683.939 233.369 L688.684 233.369 L688.684 235.916 L675.883 235.916 L675.883 233.369 Z\" fill=\"#000000\" fill-rule=\"evenodd\" fill-opacity=\"1\" /><polyline clip-path=\"url(#clip120)\" style=\"stroke:#e26f46; stroke-linecap:round; stroke-linejoin:round; stroke-width:4; stroke-opacity:1; fill:none\" points=\"494.314,270.476 623.972,270.476 \"/>\n",
       "<path clip-path=\"url(#clip120)\" d=\"M670.235 261.83 L660.86 274.446 L670.721 287.756 L665.698 287.756 L658.152 277.571 L650.605 287.756 L645.582 287.756 L655.652 274.191 L646.439 261.83 L651.462 261.83 L658.337 271.066 L665.212 261.83 L670.235 261.83 Z\" fill=\"#000000\" fill-rule=\"evenodd\" fill-opacity=\"1\" /><path clip-path=\"url(#clip120)\" d=\"M678.476 285.117 L688.29 285.117 L688.29 287.756 L674.448 287.756 L674.448 285.209 Q675.235 284.492 676.693 283.196 Q684.656 276.135 684.656 273.959 Q684.656 272.432 683.452 271.506 Q682.249 270.557 680.281 270.557 Q679.077 270.557 677.665 270.973 Q676.253 271.367 674.587 272.177 L674.587 269.33 Q676.369 268.682 677.897 268.358 Q679.448 268.034 680.767 268.034 Q684.124 268.034 686.138 269.561 Q688.151 271.089 688.151 273.589 Q688.151 276.807 680.489 283.381 Q679.193 284.492 678.476 285.117 Z\" fill=\"#000000\" fill-rule=\"evenodd\" fill-opacity=\"1\" /><polyline clip-path=\"url(#clip120)\" style=\"stroke:#3da44d; stroke-linecap:round; stroke-linejoin:round; stroke-width:4; stroke-opacity:1; fill:none\" points=\"494.314,322.316 623.972,322.316 \"/>\n",
       "<path clip-path=\"url(#clip120)\" d=\"M670.235 313.67 L660.86 326.286 L670.721 339.596 L665.698 339.596 L658.152 329.411 L650.605 339.596 L645.582 339.596 L655.652 326.031 L646.439 313.67 L651.462 313.67 L658.337 322.906 L665.212 313.67 L670.235 313.67 Z\" fill=\"#000000\" fill-rule=\"evenodd\" fill-opacity=\"1\" /><path clip-path=\"url(#clip120)\" d=\"M684.401 329.133 Q686.531 329.549 687.688 330.823 Q688.869 332.073 688.869 333.971 Q688.869 336.841 686.67 338.392 Q684.471 339.943 680.374 339.943 Q679.054 339.943 677.596 339.688 Q676.161 339.457 674.54 338.994 L674.54 336.193 Q675.744 336.818 677.11 337.119 Q678.499 337.42 680.05 337.42 Q682.573 337.42 683.962 336.517 Q685.351 335.591 685.351 333.971 Q685.351 332.258 684.054 331.378 Q682.781 330.499 680.281 330.499 L678.29 330.499 L678.29 327.999 L680.466 327.999 Q682.642 327.999 683.753 327.281 Q684.888 326.54 684.888 325.151 Q684.888 323.809 683.73 323.114 Q682.573 322.397 680.374 322.397 Q679.448 322.397 678.267 322.605 Q677.087 322.813 675.212 323.346 L675.212 320.684 Q676.902 320.29 678.383 320.082 Q679.864 319.874 681.138 319.874 Q684.471 319.874 686.415 321.239 Q688.383 322.605 688.383 324.897 Q688.383 326.494 687.341 327.605 Q686.3 328.716 684.401 329.133 Z\" fill=\"#000000\" fill-rule=\"evenodd\" fill-opacity=\"1\" /><polyline clip-path=\"url(#clip120)\" style=\"stroke:#c271d2; stroke-linecap:round; stroke-linejoin:round; stroke-width:4; stroke-opacity:1; fill:none\" stroke-dasharray=\"16, 10\" points=\"494.314,374.156 623.972,374.156 \"/>\n",
       "<path clip-path=\"url(#clip120)\" d=\"M670.235 365.51 L660.86 378.126 L670.721 391.436 L665.698 391.436 L658.152 381.251 L650.605 391.436 L645.582 391.436 L655.652 377.871 L646.439 365.51 L651.462 365.51 L658.337 374.746 L665.212 365.51 L670.235 365.51 Z\" fill=\"#000000\" fill-rule=\"evenodd\" fill-opacity=\"1\" /><path clip-path=\"url(#clip120)\" d=\"M658.244 355.417 L662.503 355.417 L662.503 360.811 L658.244 360.811 L658.244 355.417 M660.42 364.885 L660.42 364.885 Z\" fill=\"#000000\" fill-rule=\"evenodd\" fill-opacity=\"1\" /><path clip-path=\"url(#clip120)\" d=\"M675.883 388.889 L680.605 388.889 L680.605 374.746 L675.443 375.695 L675.443 373.01 L680.767 372.107 L683.939 372.107 L683.939 388.889 L688.684 388.889 L688.684 391.436 L675.883 391.436 L675.883 388.889 Z\" fill=\"#000000\" fill-rule=\"evenodd\" fill-opacity=\"1\" /><polyline clip-path=\"url(#clip120)\" style=\"stroke:#ac8d18; stroke-linecap:round; stroke-linejoin:round; stroke-width:4; stroke-opacity:1; fill:none\" stroke-dasharray=\"16, 10\" points=\"494.314,425.996 623.972,425.996 \"/>\n",
       "<path clip-path=\"url(#clip120)\" d=\"M670.235 417.35 L660.86 429.966 L670.721 443.276 L665.698 443.276 L658.152 433.091 L650.605 443.276 L645.582 443.276 L655.652 429.711 L646.439 417.35 L651.462 417.35 L658.337 426.586 L665.212 417.35 L670.235 417.35 Z\" fill=\"#000000\" fill-rule=\"evenodd\" fill-opacity=\"1\" /><path clip-path=\"url(#clip120)\" d=\"M658.244 407.257 L662.503 407.257 L662.503 412.651 L658.244 412.651 L658.244 407.257 M660.42 416.725 L660.42 416.725 Z\" fill=\"#000000\" fill-rule=\"evenodd\" fill-opacity=\"1\" /><path clip-path=\"url(#clip120)\" d=\"M678.476 440.637 L688.29 440.637 L688.29 443.276 L674.448 443.276 L674.448 440.729 Q675.235 440.012 676.693 438.716 Q684.656 431.655 684.656 429.479 Q684.656 427.952 683.452 427.026 Q682.249 426.077 680.281 426.077 Q679.077 426.077 677.665 426.493 Q676.253 426.887 674.587 427.697 L674.587 424.85 Q676.369 424.202 677.897 423.878 Q679.448 423.554 680.767 423.554 Q684.124 423.554 686.138 425.081 Q688.151 426.609 688.151 429.109 Q688.151 432.327 680.489 438.901 Q679.193 440.012 678.476 440.637 Z\" fill=\"#000000\" fill-rule=\"evenodd\" fill-opacity=\"1\" /><polyline clip-path=\"url(#clip120)\" style=\"stroke:#00a9ad; stroke-linecap:round; stroke-linejoin:round; stroke-width:4; stroke-opacity:1; fill:none\" stroke-dasharray=\"16, 10\" points=\"494.314,477.836 623.972,477.836 \"/>\n",
       "<path clip-path=\"url(#clip120)\" d=\"M670.235 469.19 L660.86 481.806 L670.721 495.116 L665.698 495.116 L658.152 484.931 L650.605 495.116 L645.582 495.116 L655.652 481.551 L646.439 469.19 L651.462 469.19 L658.337 478.426 L665.212 469.19 L670.235 469.19 Z\" fill=\"#000000\" fill-rule=\"evenodd\" fill-opacity=\"1\" /><path clip-path=\"url(#clip120)\" d=\"M658.244 459.097 L662.503 459.097 L662.503 464.491 L658.244 464.491 L658.244 459.097 M660.42 468.565 L660.42 468.565 Z\" fill=\"#000000\" fill-rule=\"evenodd\" fill-opacity=\"1\" /><path clip-path=\"url(#clip120)\" d=\"M684.401 484.653 Q686.531 485.069 687.688 486.343 Q688.869 487.593 688.869 489.491 Q688.869 492.361 686.67 493.912 Q684.471 495.463 680.374 495.463 Q679.054 495.463 677.596 495.208 Q676.161 494.977 674.54 494.514 L674.54 491.713 Q675.744 492.338 677.11 492.639 Q678.499 492.94 680.05 492.94 Q682.573 492.94 683.962 492.037 Q685.351 491.111 685.351 489.491 Q685.351 487.778 684.054 486.898 Q682.781 486.019 680.281 486.019 L678.29 486.019 L678.29 483.519 L680.466 483.519 Q682.642 483.519 683.753 482.801 Q684.888 482.06 684.888 480.671 Q684.888 479.329 683.73 478.634 Q682.573 477.917 680.374 477.917 Q679.448 477.917 678.267 478.125 Q677.087 478.333 675.212 478.866 L675.212 476.204 Q676.902 475.81 678.383 475.602 Q679.864 475.394 681.138 475.394 Q684.471 475.394 686.415 476.759 Q688.383 478.125 688.383 480.417 Q688.383 482.014 687.341 483.125 Q686.3 484.236 684.401 484.653 Z\" fill=\"#000000\" fill-rule=\"evenodd\" fill-opacity=\"1\" /></svg>\n"
      ]
     },
     "metadata": {},
     "output_type": "display_data"
    }
   ],
   "source": [
    "Xsim_m = mat_from_vec(Xhist[1:end-Nh])\n",
    "Usim_m = mat_from_vec(Uhist[1:end-Nh-1])\n",
    "e_sim_m = mat_from_vec(Xref[1:end-Nh]-Xhist[1:end-Nh])\n",
    "display(plot(t_vec[1:end-Nh],e_sim_m',label = [\"ex₁\" \"ex₂\" \"ex₃\" \"eẋ₁\" \"eẋ₂\" \"eẋ₃\"], linestyle=[:solid :solid :solid :dash :dash :dash],\n",
    "             title = \"State Error History\",\n",
    "             xlabel = \"time (s)\", ylabel = \"x\"))\n",
    "display(plot(t_vec[1:end-Nh-2],Usim_m',label = [\"u₁\" \"u₂\" \"u₃\"],\n",
    "             title = \"Input History\",\n",
    "             xlabel = \"time (s)\", ylabel = \"u\"))\n",
    "display(plot(t_vec[1:end-Nh],Xsim_m',label = [\"x₁\" \"x₂\" \"x₃\" \"ẋ₁\" \"ẋ₂\" \"ẋ₃\"], linestyle=[:solid :solid :solid :dash :dash :dash],\n",
    "             title = \"State History\",\n",
    "             xlabel = \"time (s)\", ylabel = \"x\"))"
   ]
  }
 ],
 "metadata": {
  "kernelspec": {
   "display_name": "Julia 1.6.7",
   "language": "julia",
   "name": "julia-1.6"
  },
  "language_info": {
   "file_extension": ".jl",
   "mimetype": "application/julia",
   "name": "julia",
   "version": "1.6.7"
  }
 },
 "nbformat": 4,
 "nbformat_minor": 5
}
