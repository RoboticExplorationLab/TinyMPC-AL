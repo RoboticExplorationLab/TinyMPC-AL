{
 "cells": [
  {
   "cell_type": "code",
   "execution_count": 1,
   "id": "6099cb4b-a2da-4b1b-ba0f-856484092fc4",
   "metadata": {},
   "outputs": [
    {
     "name": "stderr",
     "output_type": "stream",
     "text": [
      "\u001b[32m\u001b[1m  Activating\u001b[22m\u001b[39m environment at `~/SSD/Code/TinyMPC/julia/cone_simple/Project.toml`\n"
     ]
    }
   ],
   "source": [
    "using Pkg\n",
    "Pkg.activate(@__DIR__)\n",
    "Pkg.instantiate()\n",
    "\n",
    "using LinearAlgebra\n",
    "using Printf\n",
    "import ForwardDiff as FD\n",
    "using JuMP\n",
    "using COSMO\n",
    "using Random\n",
    "using ChangePrecision\n",
    "using BenchmarkTools"
   ]
  },
  {
   "cell_type": "code",
   "execution_count": 250,
   "id": "6179ca57-b5ff-4274-8391-85d5e728fc16",
   "metadata": {
    "tags": []
   },
   "outputs": [
    {
     "data": {
      "text/plain": [
       "mpc (generic function with 1 method)"
      ]
     },
     "execution_count": 250,
     "metadata": {},
     "output_type": "execute_result"
    }
   ],
   "source": [
    "# -------------------THIS IS ALL ALTRO-------------------------------\n",
    "# This enables goal equality constraints, state and input ineq constraints.\n",
    "# @changeprecision Float32 begin\n",
    "function stage_cost(p::NamedTuple,x,u,k)\n",
    "    dx = x - p.Xref[k]\n",
    "    du = u - p.Uref[k]\n",
    "    return 0.5*dx'*p.Q*dx + 0.5*du'*p.R*du\n",
    "end\n",
    "function term_cost(p::NamedTuple,x)\n",
    "    dx = x - p.Xref[p.N]\n",
    "    return 0.5*dx'*p.Qf*dx\n",
    "end\n",
    "function stage_cost_expansion(p::NamedTuple,k)\n",
    "    dx = - p.Xref[k]\n",
    "    du = - p.Uref[k]\n",
    "    return p.Q, p.Q*dx, p.R, p.R*du  # Hessian and gradient\n",
    "end\n",
    "function term_cost_expansion(p::NamedTuple)\n",
    "    dx = - p.Xref[p.N]\n",
    "    return p.Qf, p.Qf*dx\n",
    "end\n",
    "function conic_cost_expansion(p::NamedTuple, u, λc, ρ, k)\n",
    "    λhat = λc # already updated\n",
    "    ∇c = cone_u_jac(p, u)\n",
    "    G = -∇c'*∇projection(λhat)*projection(λhat)\n",
    "    # H = ∇c'*∇projection(λhat)'*∇projection(λhat)*∇c/ρ\n",
    "    H = ∇c'*(∇projection(λhat)'*∇projection(λhat) + ∇²projection(λhat, projection(λhat)))*∇c*ρ\n",
    "    return (G - H*u), H\n",
    "end\n",
    "function backward_pass!(params,X,U,P,p,d,K,reg,μ,μx,ρ,λ,λc)\n",
    "    \"\"\"iLQR backward pass with AL. This !function update its parameters\n",
    "    \"\"\"\n",
    "    N = params.N\n",
    "    ΔJ = 0.0    # expected cost reduction\n",
    "\n",
    "    # terminal cost expansion\n",
    "    P[N], p[N] = term_cost_expansion(params) \n",
    "    \n",
    "    if (params.ncx > 0)\n",
    "        # # add AL terms for the state constraint at the final time step\n",
    "        hxv = ineq_con_x(params,X[N])  # h(x) violation  \n",
    "        mask = eval_mask(μx[N],hxv)\n",
    "        ∇hx = ineq_con_x_jac(params,X[N])\n",
    "        # add these into the cost-to-go p and P\n",
    "        p[N]  += ∇hx'*(μx[N] - ρ*(mask * [params.x_max;-params.x_min]))  # multiplier term (1st)\n",
    "        P[N]  += ρ*∇hx'*mask*∇hx                # penalty term (2nd)\n",
    "    end\n",
    "    \n",
    "    if (params.ncg > 0)\n",
    "        # add AL terms for goal constraint \n",
    "        ∇hx = diagm(ones(params.nx))\n",
    "        # add these into the CTG p and P (equality active)\n",
    "        p[N]  += ∇hx'*(λ - ρ*params.Xref[N])   \n",
    "        P[N]  += ρ*∇hx'∇hx\n",
    "    end\n",
    "    \n",
    "    # iterate from N-1 to 1 backwards\n",
    "    for k = (N-1):(-1):1\n",
    "        # dynamics jacobians (linearization about previous iterate)\n",
    "        A = FD.jacobian(_x -> discrete_dynamics(params,_x,U[k],k),X[k])\n",
    "        B = FD.jacobian(_u -> discrete_dynamics(params,X[k],_u,k),U[k])\n",
    "\n",
    "        Sxx,Sx,Suu,Su = stage_cost_expansion(params,k)\n",
    "        \n",
    "        # one-step cost expansion: Q, Q*dx, R, R*du\n",
    "        Sx += A' * (P[k+1]*f + p[k+1]) \n",
    "        Su += B' * (P[k+1]*f + p[k+1]) \n",
    "        Sxx += A'*(P[k+1])*A\n",
    "        Suu += B'*(P[k+1] + reg*I)*B                                     \n",
    "        Sux = B'*(P[k+1])*A  \n",
    "        if (params.ncu > 0)\n",
    "            # control constraints\n",
    "            huv = ineq_con_u(params,U[k])  # calculate h(u) constraint\n",
    "            mask = eval_mask(μ[k],huv)  # choose active\n",
    "            ∇hu = ineq_con_u_jac(params,U[k])\n",
    "            Su  += ∇hu'*(μ[k] - ρ*(mask * [params.u_max;-params.u_min])) # add to cost\n",
    "            Suu += ρ*∇hu'*mask*∇hu\n",
    "        end\n",
    "        if (params.ncx > 0)\n",
    "            # state constraints\n",
    "            hxv = ineq_con_x(params,X[k])\n",
    "            mask = eval_mask(μx[k],hxv)\n",
    "            ∇hx = ineq_con_x_jac(params,X[k])\n",
    "            Sx  += ∇hx'*(μx[k] - ρ*(mask * [params.x_max;-params.x_min]))\n",
    "            Sxx += ρ*∇hx'*mask*∇hx\n",
    "        end\n",
    "        if (params.ncu_cone > 0)\n",
    "            # conic constraints\n",
    "            Qu, Quu = conic_cost_expansion(params, U[k], λc[k], ρ*cone_scale, k)\n",
    "            # display(Quu)\n",
    "            Su += Qu\n",
    "            Suu += Quu\n",
    "        end\n",
    "        \n",
    "        # Calculate Gains\n",
    "        # if isposdef(Suu) == false\n",
    "        #     for i = 1:10\n",
    "        #         Suu += reg*I*100\n",
    "        #         if isposdef(Suu) == true\n",
    "        #             break\n",
    "        #         end\n",
    "        #     end\n",
    "        # end\n",
    "            \n",
    "        F = cholesky(Symmetric(Suu))\n",
    "        d[k] = F\\Su\n",
    "        K[k] = F\\Sux\n",
    "\n",
    "        # Cost-to-go Recurrence (PSD stabilizing version, last term)\n",
    "        P[k] = Sxx + K[k]'*Suu*K[k] - 2*K[k]'*Sux\n",
    "        p[k] = Sx + K[k]'*Suu*d[k] - K[k]'*Su - Sux'*d[k]\n",
    "        # ΔJ += Su'*d[k]\n",
    "        ΔJ = 0.0\n",
    "    end\n",
    "\n",
    "    return ΔJ  # but also change params\n",
    "end\n",
    "function forward_pass!(params,X,U,K,d,ΔJ,Xn,Un,μ,μx,ρ,λ; \n",
    "                        max_linesearch_iters = 20)\n",
    "    \"\"\"iLQR forward pass and line-search\n",
    "    This !function update its parameters\n",
    "    \"\"\"\n",
    "    N = params.N\n",
    "        # Forward Rollout\n",
    "        for k = 1:(N-1)\n",
    "            Un[k] = - d[k] - K[k]*Xn[k] \n",
    "            Xn[k+1] = discrete_dynamics(params,Xn[k],Un[k],k)\n",
    "        end\n",
    "    X .= Xn\n",
    "    U .= Un\n",
    "    return 0, 0\n",
    "end\n",
    "function eval_mask(μv,huv)  \n",
    "    # Extract active inequality constraints\n",
    "    # active set mask\n",
    "    mask = Diagonal(zeros(length(huv)))\n",
    "    for i = 1:length(huv)\n",
    "        mask[i,i] = (μv[i] > 0 || huv[i] > 0)\n",
    "    end\n",
    "    mask\n",
    "end\n",
    "function mpc(params,X,U,P,p,K,d,Xn,Un;atol=1e-3,max_iters = 250,verbose = true,ρ=1,ρ_max = 1e8,ϕ=10)\n",
    "\n",
    "    # first check the sizes of everything\n",
    "    # @assert length(X) == params.N\n",
    "    # @assert length(U) == params.N-1\n",
    "    # @assert length(X[1]) == params.nx\n",
    "    # @assert length(U[1]) == params.nu\n",
    "\n",
    "    # initial rollout\n",
    "    N = params.N\n",
    "    for i = 1:N-1\n",
    "        X[i+1] = discrete_dynamics(params,X[i],U[i],i)\n",
    "    end\n",
    "\n",
    "    reg_min = 1e-8\n",
    "    reg = reg_min\n",
    "\n",
    "    μ = [zeros(params.ncu) for i = 1:N-1]   # input constraints\n",
    "\n",
    "    μx = [zeros(params.ncx) for i = 1:N]    # state constraints\n",
    "\n",
    "    λ = zeros(params.nx)    # goal constraint\n",
    "\n",
    "    λc = [zeros(params.ncu_cone) for i = 1:N-1]   # cone constraint\n",
    "    \n",
    "    # Inner loop to solve unconstrained problem (Riccati)\n",
    "    for iter = 1:max_iters\n",
    "        \n",
    "        J = 0.0\n",
    "        ΔJ = 0.0\n",
    "        α = 1.0\n",
    "        for i = 1:1\n",
    "            ΔJ = backward_pass!(params,X,U,P,p,d,K,reg,μ,μx,ρ,λ,λc)\n",
    "            J, α = forward_pass!(params,X,U,K,d,ΔJ,Xn,Un,μ,μx,ρ,λ)\n",
    "        end\n",
    "\n",
    "        if verbose\n",
    "            if rem(iter-1,10)==0\n",
    "                @printf \"iter     J           ΔJ        |d|         α        reg         ρ\\n\"\n",
    "                @printf \"---------------------------------------------------------------------\\n\"\n",
    "            end\n",
    "            @printf(\"%3d   %10.3e  %9.2e  %9.2e  %6.4f   %9.2e   %9.2e\\n\",\n",
    "              iter, J, ΔJ, 0, α, reg, ρ)\n",
    "        end\n",
    "        # update multipliers and check constraint violation, max of all\n",
    "        convio = 0  \n",
    "        \n",
    "        if (params.ncu > 0)\n",
    "            # control constraints (inequality)\n",
    "            for k = 1:N-1\n",
    "                huv = ineq_con_u(params,U[k])\n",
    "                mask = eval_mask(μ[k],huv)\n",
    "                # update dual\n",
    "                convio = max(convio,norm(huv + abs.(huv),Inf))\n",
    "                μ[k] = max.(0,μ[k] - ρ*(mask * [params.u_max;-params.u_min]))\n",
    "            end\n",
    "        end\n",
    "        if (params.ncx > 0)\n",
    "            # state constraints (inequality)\n",
    "            for k = 1:N\n",
    "                hxv = ineq_con_x(params,X[k])\n",
    "                mask = eval_mask(μx[k],hxv)\n",
    "                # update dual\n",
    "                convio = max(convio,norm(hxv + abs.(hxv),Inf))\n",
    "                μx[k] = max.(0,μx[k] - ρ*(mask * [params.x_max;-params.x_min]))                \n",
    "            end\n",
    "        end\n",
    "        if (params.ncu_cone > 0)\n",
    "            # conic constraints \n",
    "            if verbose\n",
    "                print(\"update cone\\n\")\n",
    "            end            \n",
    "            for k = 1:N-1\n",
    "                # update dual\n",
    "                Uc = cone_u(params, U[k])\n",
    "                huc = norm(Uc[1:2]) - Uc[3]\n",
    "                convio = max(convio, norm(huc + abs.(huc),Inf))\n",
    "                λbar = (λc[k] - ρ*Uc*cone_scale)\n",
    "                λc[k] = projection(λbar)\n",
    "                # display(λc[k])\n",
    "            end\n",
    "        end\n",
    "        if (params.ncg > 0)\n",
    "            # goal constraint (equality)\n",
    "            hxv = X[N] - params.Xref[N]\n",
    "            λ .-= ρ*params.Xref[N]\n",
    "            convio = max(convio, norm(hxv,Inf))\n",
    "        end\n",
    "        \n",
    "        ρ *= ϕ  # update penalty\n",
    "        \n",
    "        if verbose\n",
    "            @show convio\n",
    "        end\n",
    "        if convio < atol  # if terminal condition with contraint violation\n",
    "            # print(\"Our solver says SUCCESS\\n\") # @info \"success!\"\n",
    "            return U[1]\n",
    "        end\n",
    "        if ρ > ρ_max\n",
    "            print(\"Our solver reachs MAX PENALTY\\n\")\n",
    "            return U[1]\n",
    "        end\n",
    "    end\n",
    "    print(\"Our solver says INFEASIBLE and MAX ITER\\n\")\n",
    "    return U[1]\n",
    "end\n",
    "#----------------------ALTRO DONE --------------------------\n",
    "# end"
   ]
  },
  {
   "cell_type": "code",
   "execution_count": 230,
   "id": "ff9a97a1-b963-4f01-9223-eee0c5682b7d",
   "metadata": {
    "tags": []
   },
   "outputs": [
    {
     "data": {
      "text/plain": [
       "∇²projection (generic function with 1 method)"
      ]
     },
     "execution_count": 230,
     "metadata": {},
     "output_type": "execute_result"
    }
   ],
   "source": [
    "# @changeprecision Float32 begin\n",
    "# =============================\n",
    "# Example problem formulation and solve\n",
    "# =============================\n",
    "\n",
    "# ---------------------THIS IS WHAT YOU NEED TO INPUT--------\n",
    "A = [1.0 0.0 0.0 0.05 0.0 0.0; \n",
    "    0.0 1.0 0.0 0.0 0.05 0.0; \n",
    "    0.0 0.0 1.0 0.0 0.0 0.05; \n",
    "    0.0 0.0 0.0 1.0 0.0 0.0; \n",
    "    0.0 0.0 0.0 0.0 1.0 0.0; \n",
    "    0.0 0.0 0.0 0.0 0.0 1.0]\n",
    "B = [0.000125 0.0 0.0; \n",
    "    0.0 0.000125 0.0;\n",
    "    0.0 0.0 0.000125; \n",
    "    0.005 0.0 0.0; \n",
    "    0.0 0.005 0.0; \n",
    "    0.0 0.0 0.005]\n",
    "f = [0.0, 0.0, -0.0122625, 0.0, 0.0, -0.4905]\n",
    "function discrete_dynamics(p::NamedTuple,x,u,k)\n",
    "    A = [1.0 0.0 0.0 0.05 0.0 0.0; \n",
    "        0.0 1.0 0.0 0.0 0.05 0.0; \n",
    "        0.0 0.0 1.0 0.0 0.0 0.05; \n",
    "        0.0 0.0 0.0 1.0 0.0 0.0; \n",
    "        0.0 0.0 0.0 0.0 1.0 0.0; \n",
    "        0.0 0.0 0.0 0.0 0.0 1.0]\n",
    "    B = [0.000125 0.0 0.0; \n",
    "        0.0 0.000125 0.0;\n",
    "        0.0 0.0 0.000125; \n",
    "        0.005 0.0 0.0; \n",
    "        0.0 0.005 0.0; \n",
    "        0.0 0.0 0.005]\n",
    "    f = [0.0, 0.0, -0.0122625, 0.0, 0.0, -0.4905]\n",
    "    return A*x + B*u + f\n",
    "end\n",
    "function ineq_con_x(p,x)\n",
    "    [x-p.x_max;-x + p.x_min]\n",
    "end\n",
    "function ineq_con_u(p,u)\n",
    "    [u-p.u_max;-u + p.u_min]\n",
    "end\n",
    "function cone_u(p, u)\n",
    "    [p.A_cone*u;p.c_cone'*u]\n",
    "end\n",
    "function cone_u_jac(p, u)\n",
    "    J = zeros(p.nu, p.nu)\n",
    "    J[1:end-1,1:end] .= p.A_cone\n",
    "    J[end,1:end] .= p.c_cone\n",
    "    return J\n",
    "end\n",
    "function ineq_con_u_jac(params,u)\n",
    "    FD.jacobian(_u -> ineq_con_u(params,_u), u)\n",
    "end\n",
    "function ineq_con_x_jac(p,x)\n",
    "    FD.jacobian(_x -> ineq_con_x(p,_x),x)\n",
    "end\n",
    "function projection(x)\n",
    "    n = length(x)::Integer\n",
    "    s = x[end]\n",
    "    v = view(x,1:n-1)\n",
    "    a = norm(v)\n",
    "    if a <= -s  # below the cone\n",
    "        return zero(x)\n",
    "    elseif a <= s  # in the code\n",
    "        return x\n",
    "    elseif a >= abs(s)  # outside the cone\n",
    "        return 0.5 * (1 + s/a) * [v; a] \n",
    "    end\n",
    "end\n",
    "function ∇projection(x)\n",
    "    n = length(x)\n",
    "    J = zeros(eltype(x),n,n)\n",
    "    s = x[end]\n",
    "    v = view(x,1:n-1)\n",
    "    a = norm(v)\n",
    "    if a <= -s\n",
    "        return J  # zeros\n",
    "    elseif a <= s\n",
    "        J .= I(n)  \n",
    "        return J  # identity\n",
    "    elseif a >= abs(s)\n",
    "        c = 0.5 * (1 + s/a)\n",
    "\n",
    "        # dvdv ok!\n",
    "        for i = 1:n-1, j = 1:n-1\n",
    "            J[i,j] = -0.5*s/a^3 * v[i] * v[j]\n",
    "            if i == j\n",
    "                J[i,j] += c\n",
    "            end\n",
    "        end\n",
    "\n",
    "        # dvds ok!\n",
    "        for i = 1:n-1\n",
    "            J[i,n] = 0.5 * v[i] / a\n",
    "        end\n",
    "\n",
    "        # dsdv ok!\n",
    "        for i = 1:n-1\n",
    "            J[n,i] = ((-0.5*s/a^2) + c/a) * v[i]\n",
    "        end\n",
    "        J[n,n] = 0.5  # ok\n",
    "        return J\n",
    "    else\n",
    "        error(\"Invalid second-order cone projection.\")\n",
    "    end\n",
    "    return J\n",
    "end\n",
    "function ∇²projection(x, b)\n",
    "    n = length(x)\n",
    "    hess = zeros(eltype(x),n,n)\n",
    "    v = view(x, 1:n)\n",
    "    bv = view(b, 1:n)\n",
    "\n",
    "    n = length(x)-1\n",
    "    # @assert size(hess) == (n+1,n+1)\n",
    "    s = x[end]\n",
    "    bs = b[end]\n",
    "    a =  norm(v)\n",
    "    vbv = dot(v,bv)\n",
    "\n",
    "    if a <= -s\n",
    "        return hess .= 0\n",
    "    elseif a <= s\n",
    "        return hess .= 0\n",
    "    elseif a > abs(s)\n",
    "        # Original equations from chain rule\n",
    "        # n = n + 1\n",
    "        # dvdv = -s/norm(v)^2/norm(v)*(I - (v*v')/(v'v))*bv*v' + \n",
    "        #     s/norm(v)*((v*(v'bv))/(v'v)^2 * 2v' - (I*(v'bv) + v*bv')/(v'v)) + \n",
    "        #     bs/norm(v)*(I - (v*v')/(v'v))\n",
    "        # dvds = 1/norm(v)*(I - (v*v')/(v'v))*bv;\n",
    "        # hess[1:n-1,1:n-1] .= dvdv*0.5\n",
    "        # hess[1:n-1,n] .= dvds*0.5\n",
    "        # hess[n:n,1:n-1] .= 0.5*dvds'\n",
    "        # hess[n,n] = 0\n",
    "        # return hess\n",
    "\n",
    "        # The following is just an unrolled version of the above\n",
    "        dvdv = view(hess, 1:n, 1:n)\n",
    "        dvds = view(hess, 1:n, n+1)\n",
    "        dsdv = view(hess, n+1, 1:n)\n",
    "        @inbounds for i = 1:n\n",
    "            hi = 0\n",
    "            @inbounds for j = 1:n\n",
    "                Hij = -v[i]*v[j] / a^2\n",
    "                if i == j\n",
    "                    Hij += 1\n",
    "                end\n",
    "                hi += Hij * bv[j]\n",
    "            end\n",
    "            dvds[i] = hi / 2a\n",
    "            dsdv[i] = dvds[i]\n",
    "            @inbounds for j = 1:i\n",
    "                vij = v[i] * v[j]\n",
    "                H1 = hi * v[j] * (-s/a^3)\n",
    "                H2 = vij * (2*vbv) / a^4 - v[i] * bv[j] / a^2\n",
    "                H3 = -vij / a^2\n",
    "                if i == j\n",
    "                    H2 -= vbv / a^2\n",
    "                    H3 += 1\n",
    "                end\n",
    "                H2 *= s/a\n",
    "                H3 *= bs/a\n",
    "                dvdv[i,j] = (H1 + H2 + H3) / 2\n",
    "                dvdv[j,i] = dvdv[i,j]\n",
    "            end\n",
    "        end\n",
    "        hess[end,end] = 0\n",
    "        return hess\n",
    "    else\n",
    "        throw(ErrorException(\"Invalid second-order cone projection\"))\n",
    "    end\n",
    "end\n",
    "# end"
   ]
  },
  {
   "cell_type": "code",
   "execution_count": 258,
   "id": "f4edd7a6-7756-43ee-a37b-f91abdd18650",
   "metadata": {},
   "outputs": [
    {
     "name": "stdout",
     "output_type": "stream",
     "text": [
      "iter     J           ΔJ        |d|         α        reg         ρ\n",
      "---------------------------------------------------------------------\n",
      "  1    0.000e+00   0.00e+00   0.00e+00  0.0000    1.00e-08    1.00e+01\n",
      "update cone\n",
      "convio = 29.331974f0\n",
      "  2    0.000e+00   0.00e+00   0.00e+00  0.0000    1.00e-08    1.00e+02\n",
      "update cone\n",
      "convio = 25.162043f0\n",
      "  3    0.000e+00   0.00e+00   0.00e+00  0.0000    1.00e-08    1.00e+03\n",
      "update cone\n",
      "convio = 11.435863f0\n",
      "  4    0.000e+00   0.00e+00   0.00e+00  0.0000    1.00e-08    1.00e+04\n",
      "update cone\n",
      "convio = 1.8073151f0\n",
      "  5    0.000e+00   0.00e+00   0.00e+00  0.0000    1.00e-08    1.00e+05\n",
      "update cone\n",
      "convio = 0.9832115f0\n",
      "  6    0.000e+00   0.00e+00   0.00e+00  0.0000    1.00e-08    1.00e+06\n",
      "update cone\n",
      "convio = 0.91205597f0\n"
     ]
    },
    {
     "ename": "LoadError",
     "evalue": "PosDefException: matrix is not positive definite; Cholesky factorization failed.",
     "output_type": "error",
     "traceback": [
      "PosDefException: matrix is not positive definite; Cholesky factorization failed.",
      "",
      "Stacktrace:",
      " [1] checkpositivedefinite",
      "   @ /buildworker/worker/package_linux64/build/usr/share/julia/stdlib/v1.6/LinearAlgebra/src/factorization.jl:18 [inlined]",
      " [2] cholesky!(A::Symmetric{Float64, Matrix{Float64}}, ::Val{false}; check::Bool)",
      "   @ LinearAlgebra /buildworker/worker/package_linux64/build/usr/share/julia/stdlib/v1.6/LinearAlgebra/src/cholesky.jl:253",
      " [3] #cholesky#134",
      "   @ /buildworker/worker/package_linux64/build/usr/share/julia/stdlib/v1.6/LinearAlgebra/src/cholesky.jl:378 [inlined]",
      " [4] cholesky (repeats 2 times)",
      "   @ /buildworker/worker/package_linux64/build/usr/share/julia/stdlib/v1.6/LinearAlgebra/src/cholesky.jl:378 [inlined]",
      " [5] backward_pass!(params::NamedTuple{(:nx, :nu, :ncx, :ncu, :ncg, :ncu_cone, :A_cone, :c_cone, :N, :Q, :R, :Qf, :u_min, :u_max, :x_min, :x_max, :Xref, :Uref, :dt, :mc, :mp, :l, :g), Tuple{Int64, Int64, Int64, Int64, Int64, Int64, Matrix{Int64}, Vector{Float32}, Int64, Diagonal{Float32, Vector{Float32}}, Diagonal{Float32, Vector{Float32}}, Diagonal{Int64, Vector{Int64}}, Vector{Float32}, Vector{Float32}, Vector{Float32}, Vector{Float32}, Vector{Vector{Float32}}, Vector{Vector{Float32}}, Float32, Float32, Float32, Float32, Float32}}, X::Vector{Vector{Float32}}, U::Vector{Vector{Float32}}, P::Vector{Matrix{Float32}}, p::Vector{Vector{Float32}}, d::Vector{Vector{Float32}}, K::Vector{Matrix{Float32}}, reg::Float64, μ::Vector{Vector{Float64}}, μx::Vector{Vector{Float64}}, ρ::Float32, λ::Vector{Float64}, λc::Vector{Vector{Float64}})",
      "   @ Main ./In[250]:105",
      " [6] mpc(params::NamedTuple{(:nx, :nu, :ncx, :ncu, :ncg, :ncu_cone, :A_cone, :c_cone, :N, :Q, :R, :Qf, :u_min, :u_max, :x_min, :x_max, :Xref, :Uref, :dt, :mc, :mp, :l, :g), Tuple{Int64, Int64, Int64, Int64, Int64, Int64, Matrix{Int64}, Vector{Float32}, Int64, Diagonal{Float32, Vector{Float32}}, Diagonal{Float32, Vector{Float32}}, Diagonal{Int64, Vector{Int64}}, Vector{Float32}, Vector{Float32}, Vector{Float32}, Vector{Float32}, Vector{Vector{Float32}}, Vector{Vector{Float32}}, Float32, Float32, Float32, Float32, Float32}}, X::Vector{Vector{Float32}}, U::Vector{Vector{Float32}}, P::Vector{Matrix{Float32}}, p::Vector{Vector{Float32}}, K::Vector{Matrix{Float32}}, d::Vector{Vector{Float32}}, Xn::Vector{Vector{Float32}}, Un::Vector{Vector{Float32}}; atol::Float32, max_iters::Int64, verbose::Bool, ρ::Float32, ρ_max::Float32, ϕ::Float32)",
      "   @ Main ./In[250]:174",
      " [7] top-level scope",
      "   @ In[258]:87",
      " [8] eval",
      "   @ ./boot.jl:360 [inlined]",
      " [9] include_string(mapexpr::typeof(REPL.softscope), mod::Module, code::String, filename::String)",
      "   @ Base ./loading.jl:1116"
     ]
    }
   ],
   "source": [
    "@changeprecision Float32 begin\n",
    "# Let's solve\n",
    "\n",
    "# λ = zeros(params.nx)    # goal constraint\n",
    "# λc = [zeros(params.ncu_cone) for i = 1:N-1]   # goal constraint\n",
    "    \n",
    "# Let's solve\n",
    "\n",
    "nx = 6\n",
    "nu = 3\n",
    "N = 301\n",
    "dt = 0.05\n",
    "t_vec = dt*(0:N-1)\n",
    "x0 = [4, 2, 20, -3, 2, -5.0]\n",
    "xg = [0,0,0,0,0,0.0]\n",
    "Xref = [deepcopy(xg) for i = 1:N]\n",
    "Uref = [zeros(nu) for i = 1:N-1]\n",
    "\n",
    "Q = 1e-1*I(nx)\n",
    "R = 1e-0*I(nu)\n",
    "Qf = 100*I(nx)\n",
    "\n",
    "# ground_level = 0.0\n",
    "gravity = [0; 0; -9.81]\n",
    "mass = 10.0\n",
    "# ωPlanet = [0.0; 0.0; 0.0]\n",
    "perWeightMax = 2.0\n",
    "θ_thrust_max = 5.0  # deg\n",
    "# θ_glideslope = 60.0 # deg\n",
    "# glide_recover_k = 8\n",
    "\n",
    "A_cone = [1 0 0; 0 1 0]\n",
    "c_cone = [0.0, 0.0, tand(θ_thrust_max)]\n",
    "u_bnd = mass * abs(gravity[3]) * perWeightMax\n",
    "u_min = -170*ones(nu)\n",
    "u_max =  170*ones(nu)\n",
    "\n",
    "# state is x y v θ\n",
    "x_min = [-5,-5,0,-10,-10,-10.0]\n",
    "x_max = [5,5,20,10,10,10.0]\n",
    "\n",
    "ncx = 2*nx*0\n",
    "ncu = 2*nu*0\n",
    "ncg = 1\n",
    "ncu_cone = nu*1; \n",
    "cone_scale = 1.0e-3# very fragile for each problem\n",
    "\n",
    "params = (\n",
    "    nx = nx,\n",
    "    nu = nu,\n",
    "    ncx = ncx,\n",
    "    ncu = ncu,\n",
    "    ncg = ncg,\n",
    "    ncu_cone = ncu_cone,\n",
    "    A_cone = A_cone,\n",
    "    c_cone = c_cone,\n",
    "    N = N,\n",
    "    Q = Q,\n",
    "    R = R,\n",
    "    Qf = Qf,\n",
    "    u_min = u_min,\n",
    "    u_max = u_max,\n",
    "    x_min = x_min,\n",
    "    x_max = x_max,\n",
    "    Xref = Xref,\n",
    "    Uref = Uref,\n",
    "    dt = dt,\n",
    "    mc = 1.0,\n",
    "    mp = 0.2,\n",
    "    l = 0.5,\n",
    "    g = 9.81,\n",
    ");\n",
    "\n",
    "# previous iterate\n",
    "X = [deepcopy(x0) for i = 1:N]\n",
    "U = [zeros(nu) for k = 1:N-1]\n",
    "# X = Xref*1\n",
    "# U = Uref*1\n",
    "# new iterate\n",
    "Xn = deepcopy(X)\n",
    "Un = deepcopy(U)\n",
    "\n",
    "P = [zeros(nx,nx) for i = 1:N]   # cost to go quadratic term\n",
    "p = [zeros(nx) for i = 1:N]      # cost to go linear term\n",
    "d = [zeros(nu) for i = 1:N-1]    # feedforward control\n",
    "K = [zeros(nu,nx) for i = 1:N-1] # feedback gain\n",
    "u_ = mpc(params,X,U,P,p,K,d,Xn,Un; atol=1e-4, max_iters = 20, verbose = true, ρ = 1e1, ρ_max = 1e10, ϕ = 10.0);\n",
    "function mat_from_vec(X)::Matrix\n",
    "    # convert a vector of vectors to a matrix \n",
    "    Xm = hcat(X...)\n",
    "    return Xm \n",
    "end\n",
    "Xsim_m = mat_from_vec(Xn)\n",
    "Usim_m = mat_from_vec(Un)\n",
    "using Plots\n",
    "display(plot(t_vec,Xsim_m',label = [\"x₁\" \"x₂\" \"x₃\" \"ẋ₁\" \"ẋ₂\" \"ẋ₃\"],linestyle=[:solid :solid :solid :dash :dash :dash],\n",
    "             title = \"State History\",\n",
    "             xlabel = \"time (s)\", ylabel = \"x\"))\n",
    "display(plot(t_vec[1:end-1],Usim_m',label = [\"u₁\" \"u₂\" \"u₃\"],\n",
    "             title = \"Input History\",\n",
    "             xlabel = \"time (s)\", ylabel = \"u\"))\n",
    "end"
   ]
  },
  {
   "cell_type": "markdown",
   "id": "416df651-52ee-4c43-93e5-aca23c5630b2",
   "metadata": {},
   "source": [
    "For TrajOpt, it needs more tricks to get better results:\n",
    "- Hessian of the projection => better approximation (done)\n",
    "- Scaling between conic constraints and other ones (1/rho, Zac did not buy it)\n",
    "- Solution polishing?\n",
    "\n",
    "Maybe, we don't care about TrajOpt problem, except from a good initial guess, there is nothing we can tune to get better performance. How about reset mpc?"
   ]
  },
  {
   "cell_type": "code",
   "execution_count": 257,
   "id": "12ec6530-7479-455f-843a-81d2c40fb13a",
   "metadata": {},
   "outputs": [
    {
     "data": {
      "text/plain": [
       "-8.582639f0"
      ]
     },
     "metadata": {},
     "output_type": "display_data"
    },
    {
     "data": {
      "text/plain": [
       "-8.582639f0"
      ]
     },
     "metadata": {},
     "output_type": "display_data"
    },
    {
     "data": {
      "text/plain": [
       "-8.582639f0"
      ]
     },
     "metadata": {},
     "output_type": "display_data"
    },
    {
     "data": {
      "text/plain": [
       "-8.582639f0"
      ]
     },
     "metadata": {},
     "output_type": "display_data"
    },
    {
     "data": {
      "text/plain": [
       "-8.582639f0"
      ]
     },
     "metadata": {},
     "output_type": "display_data"
    },
    {
     "data": {
      "text/plain": [
       "-8.582639f0"
      ]
     },
     "metadata": {},
     "output_type": "display_data"
    },
    {
     "data": {
      "text/plain": [
       "-8.582639f0"
      ]
     },
     "metadata": {},
     "output_type": "display_data"
    },
    {
     "data": {
      "text/plain": [
       "-8.582639f0"
      ]
     },
     "metadata": {},
     "output_type": "display_data"
    },
    {
     "data": {
      "text/plain": [
       "-8.582639f0"
      ]
     },
     "metadata": {},
     "output_type": "display_data"
    },
    {
     "data": {
      "text/plain": [
       "-8.582639f0"
      ]
     },
     "metadata": {},
     "output_type": "display_data"
    },
    {
     "data": {
      "text/plain": [
       "-8.582639f0"
      ]
     },
     "metadata": {},
     "output_type": "display_data"
    },
    {
     "data": {
      "text/plain": [
       "-8.582639f0"
      ]
     },
     "metadata": {},
     "output_type": "display_data"
    },
    {
     "data": {
      "text/plain": [
       "-8.582639f0"
      ]
     },
     "metadata": {},
     "output_type": "display_data"
    },
    {
     "data": {
      "text/plain": [
       "-8.582639f0"
      ]
     },
     "metadata": {},
     "output_type": "display_data"
    },
    {
     "data": {
      "text/plain": [
       "-8.582639f0"
      ]
     },
     "metadata": {},
     "output_type": "display_data"
    },
    {
     "data": {
      "text/plain": [
       "-8.582639f0"
      ]
     },
     "metadata": {},
     "output_type": "display_data"
    },
    {
     "data": {
      "text/plain": [
       "-8.582639f0"
      ]
     },
     "metadata": {},
     "output_type": "display_data"
    },
    {
     "data": {
      "text/plain": [
       "-8.582639f0"
      ]
     },
     "metadata": {},
     "output_type": "display_data"
    },
    {
     "data": {
      "text/plain": [
       "-8.582639f0"
      ]
     },
     "metadata": {},
     "output_type": "display_data"
    },
    {
     "data": {
      "text/plain": [
       "-8.582639f0"
      ]
     },
     "metadata": {},
     "output_type": "display_data"
    },
    {
     "ename": "LoadError",
     "evalue": "BoundsError: attempt to access 20-element Vector{Vector{Float32}} at index [21]",
     "output_type": "error",
     "traceback": [
      "BoundsError: attempt to access 20-element Vector{Vector{Float32}} at index [21]",
      "",
      "Stacktrace:",
      " [1] getindex(A::Vector{Vector{Float32}}, i1::Int64)",
      "   @ Base ./array.jl:805",
      " [2] top-level scope",
      "   @ ./In[257]:4",
      " [3] eval",
      "   @ ./boot.jl:360 [inlined]",
      " [4] include_string(mapexpr::typeof(REPL.softscope), mod::Module, code::String, filename::String)",
      "   @ Base ./loading.jl:1116"
     ]
    }
   ],
   "source": [
    "# Check conic violation\n",
    "convio = 0.0\n",
    "for k = 1:25\n",
    "    Uc = cone_u(params, U[k])\n",
    "    huc = norm(Uc[1:2]) - Uc[3]\n",
    "    convio = max(convio, norm(huc + abs.(huc),Inf))\n",
    "    display(huc) # should <= 0\n",
    "end\n",
    "convio == 0 && print(\"SATISFY CONE\")\n",
    "Xref .= X;\n",
    "Uref .= U;"
   ]
  },
  {
   "cell_type": "code",
   "execution_count": 253,
   "id": "5c8d15e2-a563-4077-96df-8f829ba24d00",
   "metadata": {},
   "outputs": [],
   "source": [
    "# @changeprecision Float32 begin\n",
    "### MPC style with other solver ###\n",
    "include(\"mpc_JuMP.jl\")\n",
    "\n",
    "Nsim = 301\n",
    "Nh = 21\n",
    "t_vec = dt*(0:Nsim-1)\n",
    "\n",
    "x0 = [4, 2, 20, -3, 2, -5.0]  # initial plan\n",
    "# x0 = [5, 2, 21, -3, 2, -5.0]  # change this!\n",
    "# x0 = [4.4, 2.2, 20.2, -3.03, 2.02, -5.05]\n",
    "\n",
    "xg = [0,0,0,0,0,0.0]\n",
    "Q = 100e-1*I(nx)  # make this higher!\n",
    "R = 1e-1*I(nu)\n",
    "Qf = 100*I(nx) # change this!\n",
    "θ_thrust_max = 5.0  # increase max thrust from plan!\n",
    "\n",
    "# state is x y v θ\n",
    "x_min = [-5,-5,0,-10,-10,-10.0]\n",
    "x_max = [5,5,20,10,10,10.0]\n",
    "\n",
    "ncx = 2*nx*0\n",
    "ncu = 2*nu*0\n",
    "ncg = 0\n",
    "ncu_cone = nu*1; \n",
    "cone_scale = 1e-2\n",
    "\n",
    "params = (\n",
    "    nx = nx,\n",
    "    nu = nu,\n",
    "    ncx = ncx,\n",
    "    ncu = ncu,\n",
    "    ncg = ncg,\n",
    "    ncu_cone = ncu_cone,\n",
    "    A_cone = A_cone,\n",
    "    c_cone = c_cone,\n",
    "    N = Nh,\n",
    "    Q = Q,\n",
    "    R = R,\n",
    "    Qf = Qf,\n",
    "    u_min = u_min,\n",
    "    u_max = u_max,\n",
    "    x_min = x_min,\n",
    "    x_max = x_max,\n",
    "    Xref = Xref,\n",
    "    Uref = Uref,\n",
    "    dt = dt,\n",
    "    mc = 1.0,\n",
    "    mp = 0.2,\n",
    "    l = 0.5,\n",
    "    g = 9.81,\n",
    ");\n",
    "\n",
    "Xhist = [deepcopy(x0) for i = 1:Nsim]\n",
    "Uhist = [-mass * gravity for k = 1:Nsim-1]\n",
    "# previous iterate\n",
    "X = [deepcopy(x0) for i = 1:Nh]\n",
    "U = [-mass * gravity for k = 1:Nh-1]\n",
    "\n",
    "# new iterate\n",
    "Xn = deepcopy(X)\n",
    "Un = deepcopy(U)\n",
    "\n",
    "P = [zeros(nx,nx) for i = 1:Nh]   # cost to go quadratic term\n",
    "p = [zeros(nx) for i = 1:Nh]      # cost to go linear term\n",
    "d = [zeros(nu) for i = 1:Nh-1]    # feedforward control\n",
    "K = [zeros(nu,nx) for i = 1:Nh-1] # feedback gain\n",
    "\n",
    "optimizer = JuMP.optimizer_with_attributes(COSMO.Optimizer{Float64},\n",
    "    \"verbose\"=>false,\n",
    "    \"eps_abs\"=>1e-4,\n",
    "    \"eps_rel\"=>1e-4,\n",
    "    \"rho\"=>1e-2,\n",
    "    \"scaling\"=>0,\n",
    "    \"alpha\"=>1.0)\n",
    "Random.seed!(1);\n",
    "for i = 1:Nsim-Nh-1\n",
    "    params1 = (; params..., Uref = Uref[i:Nh+i], Xref = Xref[i:Nh+i-1])  # update ref\n",
    "    \n",
    "    pos_norm = norm(Xhist[i][1:3], Inf) / 100 # 1% noise\n",
    "    vel_norm = norm(Xhist[4:6], Inf) / 1e6 # 1ppm noise\n",
    "    noise_pos = randn(3)\n",
    "    noise_vel = randn(3)\n",
    "    Xhist[i] += [noise_pos * pos_norm; noise_vel * vel_norm]\n",
    "    X[1] .= Xhist[i]; \n",
    "\n",
    "    # X = [Xhist[i] for i = 1:Nh]  # reset, avoid warm-staring\n",
    "    # U = [-mass * gravity for k = 1:Nh-1]\n",
    "    \n",
    "    Uhist[i] = mpc_JuMP(optimizer, params1, X, U, A, B, f; warm_start=false)  # JuMP DOESN'T SUPPORT FLOAT32\n",
    "    # @time Uhist[i] = mpc(params1,X,U,P,p,K,d,Xn,Un;atol=1e-4,max_iters = 10,verbose = false,ρ = 10, ρ_max = 1e8, ϕ = 10.0) \n",
    "    # Uhist[i] = mpc(params1,X,U,P,p,K,d,Xn,Un;atol=1e-4,max_iters = 8,verbose = false,ρ = 1e-4, ρ_max = 1e7, ϕ = 10.0) \n",
    "    \n",
    "    Xhist[i+1] = discrete_dynamics(params1,Xhist[i],Uhist[i],i)  # dynamics\n",
    "end\n",
    "# end"
   ]
  },
  {
   "cell_type": "markdown",
   "id": "4a1732ad-eb0e-48b4-8896-73a7e8b9997c",
   "metadata": {},
   "source": [
    "1. COSMO gives better tracking results. Warm-start doesn't help much. Some cone is positive (within tol), closer to zero, better cone exploitation.\n",
    "2. Ours always need warm-start, will soon converge to tight tolerance (1-2 iters) if well warm-started."
   ]
  },
  {
   "cell_type": "code",
   "execution_count": 254,
   "id": "d651f59e-e700-4bc9-927c-98835f2679f4",
   "metadata": {},
   "outputs": [
    {
     "data": {
      "text/plain": [
       "0.00054472254f0"
      ]
     },
     "metadata": {},
     "output_type": "display_data"
    },
    {
     "data": {
      "text/plain": [
       "-0.0071318727f0"
      ]
     },
     "metadata": {},
     "output_type": "display_data"
    },
    {
     "data": {
      "text/plain": [
       "-0.0060651964f0"
      ]
     },
     "metadata": {},
     "output_type": "display_data"
    },
    {
     "data": {
      "text/plain": [
       "-0.0019415265f0"
      ]
     },
     "metadata": {},
     "output_type": "display_data"
    },
    {
     "data": {
      "text/plain": [
       "0.0042202375f0"
      ]
     },
     "metadata": {},
     "output_type": "display_data"
    },
    {
     "data": {
      "text/plain": [
       "-0.002838979f0"
      ]
     },
     "metadata": {},
     "output_type": "display_data"
    },
    {
     "data": {
      "text/plain": [
       "0.003022816f0"
      ]
     },
     "metadata": {},
     "output_type": "display_data"
    },
    {
     "data": {
      "text/plain": [
       "0.0012414769f0"
      ]
     },
     "metadata": {},
     "output_type": "display_data"
    },
    {
     "data": {
      "text/plain": [
       "-5.464096f-5"
      ]
     },
     "metadata": {},
     "output_type": "display_data"
    },
    {
     "data": {
      "text/plain": [
       "-0.0007423323f0"
      ]
     },
     "metadata": {},
     "output_type": "display_data"
    },
    {
     "data": {
      "text/plain": [
       "0.0010882865f0"
      ]
     },
     "metadata": {},
     "output_type": "display_data"
    },
    {
     "data": {
      "text/plain": [
       "0.0024979012f0"
      ]
     },
     "metadata": {},
     "output_type": "display_data"
    },
    {
     "data": {
      "text/plain": [
       "-0.005719536f0"
      ]
     },
     "metadata": {},
     "output_type": "display_data"
    },
    {
     "data": {
      "text/plain": [
       "0.0003709793f0"
      ]
     },
     "metadata": {},
     "output_type": "display_data"
    },
    {
     "data": {
      "text/plain": [
       "0.0002670288f0"
      ]
     },
     "metadata": {},
     "output_type": "display_data"
    },
    {
     "data": {
      "text/plain": [
       "-0.0017147064f0"
      ]
     },
     "metadata": {},
     "output_type": "display_data"
    },
    {
     "data": {
      "text/plain": [
       "0.0016021729f0"
      ]
     },
     "metadata": {},
     "output_type": "display_data"
    },
    {
     "data": {
      "text/plain": [
       "-0.00039958954f0"
      ]
     },
     "metadata": {},
     "output_type": "display_data"
    },
    {
     "data": {
      "text/plain": [
       "-0.0020074844f0"
      ]
     },
     "metadata": {},
     "output_type": "display_data"
    },
    {
     "data": {
      "text/plain": [
       "-0.00039672852f0"
      ]
     },
     "metadata": {},
     "output_type": "display_data"
    },
    {
     "data": {
      "text/plain": [
       "0.00026512146f0"
      ]
     },
     "metadata": {},
     "output_type": "display_data"
    },
    {
     "data": {
      "text/plain": [
       "8.106232f-5"
      ]
     },
     "metadata": {},
     "output_type": "display_data"
    },
    {
     "data": {
      "text/plain": [
       "0.0015449524f0"
      ]
     },
     "metadata": {},
     "output_type": "display_data"
    },
    {
     "data": {
      "text/plain": [
       "-0.0050315857f0"
      ]
     },
     "metadata": {},
     "output_type": "display_data"
    },
    {
     "data": {
      "text/plain": [
       "0.00012302399f0"
      ]
     },
     "metadata": {},
     "output_type": "display_data"
    },
    {
     "data": {
      "text/plain": [
       "0.00016307831f0"
      ]
     },
     "metadata": {},
     "output_type": "display_data"
    },
    {
     "data": {
      "text/plain": [
       "0.00010204315f0"
      ]
     },
     "metadata": {},
     "output_type": "display_data"
    },
    {
     "data": {
      "text/plain": [
       "-0.0023403168f0"
      ]
     },
     "metadata": {},
     "output_type": "display_data"
    },
    {
     "data": {
      "text/plain": [
       "-0.00033664703f0"
      ]
     },
     "metadata": {},
     "output_type": "display_data"
    },
    {
     "data": {
      "text/plain": [
       "-0.00016403198f0"
      ]
     },
     "metadata": {},
     "output_type": "display_data"
    },
    {
     "data": {
      "text/plain": [
       "false"
      ]
     },
     "execution_count": 254,
     "metadata": {},
     "output_type": "execute_result"
    }
   ],
   "source": [
    "# Check conic violation\n",
    "convio = 0.0\n",
    "for k = 1:30#Nsim-1\n",
    "    Uc = cone_u(params, Uhist[k])\n",
    "    huc = norm(Uc[1:2]) - Uc[3]\n",
    "    convio = max(convio, norm(huc + abs.(huc),Inf))\n",
    "    display(huc) # should <= 0\n",
    "end\n",
    "convio == 0 && print(\"SATISFY CONE\")"
   ]
  },
  {
   "cell_type": "code",
   "execution_count": 255,
   "id": "ffaab90d-dddc-4512-8c8b-4561cd053fdf",
   "metadata": {},
   "outputs": [
    {
     "name": "stdout",
     "output_type": "stream",
     "text": [
      "traj_error = maximum(norm.(e_sim_m, Inf)) = 19.880473104654353\n"
     ]
    },
    {
     "data": {
      "image/svg+xml": [
       "<?xml version=\"1.0\" encoding=\"utf-8\"?>\n",
       "<svg xmlns=\"http://www.w3.org/2000/svg\" xmlns:xlink=\"http://www.w3.org/1999/xlink\" width=\"600\" height=\"400\" viewBox=\"0 0 2400 1600\">\n",
       "<defs>\n",
       "  <clipPath id=\"clip460\">\n",
       "    <rect x=\"0\" y=\"0\" width=\"2400\" height=\"1600\"/>\n",
       "  </clipPath>\n",
       "</defs>\n",
       "<path clip-path=\"url(#clip460)\" d=\"M0 1600 L2400 1600 L2400 0 L0 0  Z\" fill=\"#ffffff\" fill-rule=\"evenodd\" fill-opacity=\"1\"/>\n",
       "<defs>\n",
       "  <clipPath id=\"clip461\">\n",
       "    <rect x=\"480\" y=\"0\" width=\"1681\" height=\"1600\"/>\n",
       "  </clipPath>\n",
       "</defs>\n",
       "<path clip-path=\"url(#clip460)\" d=\"M242.135 1423.18 L2352.76 1423.18 L2352.76 123.472 L242.135 123.472  Z\" fill=\"#ffffff\" fill-rule=\"evenodd\" fill-opacity=\"1\"/>\n",
       "<defs>\n",
       "  <clipPath id=\"clip462\">\n",
       "    <rect x=\"242\" y=\"123\" width=\"2112\" height=\"1301\"/>\n",
       "  </clipPath>\n",
       "</defs>\n",
       "<polyline clip-path=\"url(#clip462)\" style=\"stroke:#000000; stroke-linecap:round; stroke-linejoin:round; stroke-width:2; stroke-opacity:0.1; fill:none\" points=\"301.869,1423.18 301.869,123.472 \"/>\n",
       "<polyline clip-path=\"url(#clip462)\" style=\"stroke:#000000; stroke-linecap:round; stroke-linejoin:round; stroke-width:2; stroke-opacity:0.1; fill:none\" points=\"658.707,1423.18 658.707,123.472 \"/>\n",
       "<polyline clip-path=\"url(#clip462)\" style=\"stroke:#000000; stroke-linecap:round; stroke-linejoin:round; stroke-width:2; stroke-opacity:0.1; fill:none\" points=\"1015.54,1423.18 1015.54,123.472 \"/>\n",
       "<polyline clip-path=\"url(#clip462)\" style=\"stroke:#000000; stroke-linecap:round; stroke-linejoin:round; stroke-width:2; stroke-opacity:0.1; fill:none\" points=\"1372.38,1423.18 1372.38,123.472 \"/>\n",
       "<polyline clip-path=\"url(#clip462)\" style=\"stroke:#000000; stroke-linecap:round; stroke-linejoin:round; stroke-width:2; stroke-opacity:0.1; fill:none\" points=\"1729.22,1423.18 1729.22,123.472 \"/>\n",
       "<polyline clip-path=\"url(#clip462)\" style=\"stroke:#000000; stroke-linecap:round; stroke-linejoin:round; stroke-width:2; stroke-opacity:0.1; fill:none\" points=\"2086.06,1423.18 2086.06,123.472 \"/>\n",
       "<polyline clip-path=\"url(#clip460)\" style=\"stroke:#000000; stroke-linecap:round; stroke-linejoin:round; stroke-width:4; stroke-opacity:1; fill:none\" points=\"242.135,1423.18 2352.76,1423.18 \"/>\n",
       "<polyline clip-path=\"url(#clip460)\" style=\"stroke:#000000; stroke-linecap:round; stroke-linejoin:round; stroke-width:4; stroke-opacity:1; fill:none\" points=\"301.869,1423.18 301.869,1404.28 \"/>\n",
       "<polyline clip-path=\"url(#clip460)\" style=\"stroke:#000000; stroke-linecap:round; stroke-linejoin:round; stroke-width:4; stroke-opacity:1; fill:none\" points=\"658.707,1423.18 658.707,1404.28 \"/>\n",
       "<polyline clip-path=\"url(#clip460)\" style=\"stroke:#000000; stroke-linecap:round; stroke-linejoin:round; stroke-width:4; stroke-opacity:1; fill:none\" points=\"1015.54,1423.18 1015.54,1404.28 \"/>\n",
       "<polyline clip-path=\"url(#clip460)\" style=\"stroke:#000000; stroke-linecap:round; stroke-linejoin:round; stroke-width:4; stroke-opacity:1; fill:none\" points=\"1372.38,1423.18 1372.38,1404.28 \"/>\n",
       "<polyline clip-path=\"url(#clip460)\" style=\"stroke:#000000; stroke-linecap:round; stroke-linejoin:round; stroke-width:4; stroke-opacity:1; fill:none\" points=\"1729.22,1423.18 1729.22,1404.28 \"/>\n",
       "<polyline clip-path=\"url(#clip460)\" style=\"stroke:#000000; stroke-linecap:round; stroke-linejoin:round; stroke-width:4; stroke-opacity:1; fill:none\" points=\"2086.06,1423.18 2086.06,1404.28 \"/>\n",
       "<path clip-path=\"url(#clip460)\" d=\"M279.254 1454.1 Q275.643 1454.1 273.814 1457.66 Q272.008 1461.2 272.008 1468.33 Q272.008 1475.44 273.814 1479.01 Q275.643 1482.55 279.254 1482.55 Q282.888 1482.55 284.693 1479.01 Q286.522 1475.44 286.522 1468.33 Q286.522 1461.2 284.693 1457.66 Q282.888 1454.1 279.254 1454.1 M279.254 1450.39 Q285.064 1450.39 288.119 1455 Q291.198 1459.58 291.198 1468.33 Q291.198 1477.06 288.119 1481.67 Q285.064 1486.25 279.254 1486.25 Q273.443 1486.25 270.365 1481.67 Q267.309 1477.06 267.309 1468.33 Q267.309 1459.58 270.365 1455 Q273.443 1450.39 279.254 1450.39 Z\" fill=\"#000000\" fill-rule=\"evenodd\" fill-opacity=\"1\" /><path clip-path=\"url(#clip460)\" d=\"M299.416 1479.7 L304.3 1479.7 L304.3 1485.58 L299.416 1485.58 L299.416 1479.7 Z\" fill=\"#000000\" fill-rule=\"evenodd\" fill-opacity=\"1\" /><path clip-path=\"url(#clip460)\" d=\"M324.485 1454.1 Q320.874 1454.1 319.045 1457.66 Q317.24 1461.2 317.24 1468.33 Q317.24 1475.44 319.045 1479.01 Q320.874 1482.55 324.485 1482.55 Q328.119 1482.55 329.925 1479.01 Q331.753 1475.44 331.753 1468.33 Q331.753 1461.2 329.925 1457.66 Q328.119 1454.1 324.485 1454.1 M324.485 1450.39 Q330.295 1450.39 333.351 1455 Q336.429 1459.58 336.429 1468.33 Q336.429 1477.06 333.351 1481.67 Q330.295 1486.25 324.485 1486.25 Q318.675 1486.25 315.596 1481.67 Q312.54 1477.06 312.54 1468.33 Q312.54 1459.58 315.596 1455 Q318.675 1450.39 324.485 1450.39 Z\" fill=\"#000000\" fill-rule=\"evenodd\" fill-opacity=\"1\" /><path clip-path=\"url(#clip460)\" d=\"M630.443 1481.64 L646.762 1481.64 L646.762 1485.58 L624.818 1485.58 L624.818 1481.64 Q627.48 1478.89 632.063 1474.26 Q636.67 1469.61 637.85 1468.27 Q640.096 1465.74 640.975 1464.01 Q641.878 1462.25 641.878 1460.56 Q641.878 1457.8 639.933 1456.07 Q638.012 1454.33 634.91 1454.33 Q632.711 1454.33 630.258 1455.09 Q627.827 1455.86 625.049 1457.41 L625.049 1452.69 Q627.873 1451.55 630.327 1450.97 Q632.781 1450.39 634.818 1450.39 Q640.188 1450.39 643.383 1453.08 Q646.577 1455.77 646.577 1460.26 Q646.577 1462.39 645.767 1464.31 Q644.98 1466.2 642.873 1468.8 Q642.295 1469.47 639.193 1472.69 Q636.091 1475.88 630.443 1481.64 Z\" fill=\"#000000\" fill-rule=\"evenodd\" fill-opacity=\"1\" /><path clip-path=\"url(#clip460)\" d=\"M656.577 1479.7 L661.461 1479.7 L661.461 1485.58 L656.577 1485.58 L656.577 1479.7 Z\" fill=\"#000000\" fill-rule=\"evenodd\" fill-opacity=\"1\" /><path clip-path=\"url(#clip460)\" d=\"M671.693 1451.02 L690.049 1451.02 L690.049 1454.96 L675.975 1454.96 L675.975 1463.43 Q676.993 1463.08 678.012 1462.92 Q679.03 1462.73 680.049 1462.73 Q685.836 1462.73 689.216 1465.9 Q692.595 1469.08 692.595 1474.49 Q692.595 1480.07 689.123 1483.17 Q685.651 1486.25 679.331 1486.25 Q677.156 1486.25 674.887 1485.88 Q672.642 1485.51 670.234 1484.77 L670.234 1480.07 Q672.318 1481.2 674.54 1481.76 Q676.762 1482.32 679.239 1482.32 Q683.243 1482.32 685.581 1480.21 Q687.919 1478.1 687.919 1474.49 Q687.919 1470.88 685.581 1468.77 Q683.243 1466.67 679.239 1466.67 Q677.364 1466.67 675.489 1467.08 Q673.637 1467.5 671.693 1468.38 L671.693 1451.02 Z\" fill=\"#000000\" fill-rule=\"evenodd\" fill-opacity=\"1\" /><path clip-path=\"url(#clip460)\" d=\"M982.708 1451.02 L1001.06 1451.02 L1001.06 1454.96 L986.991 1454.96 L986.991 1463.43 Q988.009 1463.08 989.028 1462.92 Q990.046 1462.73 991.065 1462.73 Q996.852 1462.73 1000.23 1465.9 Q1003.61 1469.08 1003.61 1474.49 Q1003.61 1480.07 1000.14 1483.17 Q996.667 1486.25 990.347 1486.25 Q988.171 1486.25 985.903 1485.88 Q983.657 1485.51 981.25 1484.77 L981.25 1480.07 Q983.333 1481.2 985.556 1481.76 Q987.778 1482.32 990.255 1482.32 Q994.259 1482.32 996.597 1480.21 Q998.935 1478.1 998.935 1474.49 Q998.935 1470.88 996.597 1468.77 Q994.259 1466.67 990.255 1466.67 Q988.38 1466.67 986.505 1467.08 Q984.653 1467.5 982.708 1468.38 L982.708 1451.02 Z\" fill=\"#000000\" fill-rule=\"evenodd\" fill-opacity=\"1\" /><path clip-path=\"url(#clip460)\" d=\"M1012.82 1479.7 L1017.71 1479.7 L1017.71 1485.58 L1012.82 1485.58 L1012.82 1479.7 Z\" fill=\"#000000\" fill-rule=\"evenodd\" fill-opacity=\"1\" /><path clip-path=\"url(#clip460)\" d=\"M1037.89 1454.1 Q1034.28 1454.1 1032.45 1457.66 Q1030.65 1461.2 1030.65 1468.33 Q1030.65 1475.44 1032.45 1479.01 Q1034.28 1482.55 1037.89 1482.55 Q1041.53 1482.55 1043.33 1479.01 Q1045.16 1475.44 1045.16 1468.33 Q1045.16 1461.2 1043.33 1457.66 Q1041.53 1454.1 1037.89 1454.1 M1037.89 1450.39 Q1043.7 1450.39 1046.76 1455 Q1049.84 1459.58 1049.84 1468.33 Q1049.84 1477.06 1046.76 1481.67 Q1043.7 1486.25 1037.89 1486.25 Q1032.08 1486.25 1029 1481.67 Q1025.95 1477.06 1025.95 1468.33 Q1025.95 1459.58 1029 1455 Q1032.08 1450.39 1037.89 1450.39 Z\" fill=\"#000000\" fill-rule=\"evenodd\" fill-opacity=\"1\" /><path clip-path=\"url(#clip460)\" d=\"M1338.7 1451.02 L1360.92 1451.02 L1360.92 1453.01 L1348.38 1485.58 L1343.49 1485.58 L1355.3 1454.96 L1338.7 1454.96 L1338.7 1451.02 Z\" fill=\"#000000\" fill-rule=\"evenodd\" fill-opacity=\"1\" /><path clip-path=\"url(#clip460)\" d=\"M1370.04 1479.7 L1374.93 1479.7 L1374.93 1485.58 L1370.04 1485.58 L1370.04 1479.7 Z\" fill=\"#000000\" fill-rule=\"evenodd\" fill-opacity=\"1\" /><path clip-path=\"url(#clip460)\" d=\"M1385.16 1451.02 L1403.52 1451.02 L1403.52 1454.96 L1389.44 1454.96 L1389.44 1463.43 Q1390.46 1463.08 1391.48 1462.92 Q1392.5 1462.73 1393.52 1462.73 Q1399.3 1462.73 1402.68 1465.9 Q1406.06 1469.08 1406.06 1474.49 Q1406.06 1480.07 1402.59 1483.17 Q1399.12 1486.25 1392.8 1486.25 Q1390.62 1486.25 1388.35 1485.88 Q1386.11 1485.51 1383.7 1484.77 L1383.7 1480.07 Q1385.78 1481.2 1388.01 1481.76 Q1390.23 1482.32 1392.71 1482.32 Q1396.71 1482.32 1399.05 1480.21 Q1401.39 1478.1 1401.39 1474.49 Q1401.39 1470.88 1399.05 1468.77 Q1396.71 1466.67 1392.71 1466.67 Q1390.83 1466.67 1388.96 1467.08 Q1387.1 1467.5 1385.16 1468.38 L1385.16 1451.02 Z\" fill=\"#000000\" fill-rule=\"evenodd\" fill-opacity=\"1\" /><path clip-path=\"url(#clip460)\" d=\"M1681.29 1481.64 L1688.93 1481.64 L1688.93 1455.28 L1680.62 1456.95 L1680.62 1452.69 L1688.88 1451.02 L1693.56 1451.02 L1693.56 1481.64 L1701.2 1481.64 L1701.2 1485.58 L1681.29 1485.58 L1681.29 1481.64 Z\" fill=\"#000000\" fill-rule=\"evenodd\" fill-opacity=\"1\" /><path clip-path=\"url(#clip460)\" d=\"M1720.64 1454.1 Q1717.03 1454.1 1715.2 1457.66 Q1713.4 1461.2 1713.4 1468.33 Q1713.4 1475.44 1715.2 1479.01 Q1717.03 1482.55 1720.64 1482.55 Q1724.28 1482.55 1726.08 1479.01 Q1727.91 1475.44 1727.91 1468.33 Q1727.91 1461.2 1726.08 1457.66 Q1724.28 1454.1 1720.64 1454.1 M1720.64 1450.39 Q1726.45 1450.39 1729.51 1455 Q1732.59 1459.58 1732.59 1468.33 Q1732.59 1477.06 1729.51 1481.67 Q1726.45 1486.25 1720.64 1486.25 Q1714.83 1486.25 1711.75 1481.67 Q1708.7 1477.06 1708.7 1468.33 Q1708.7 1459.58 1711.75 1455 Q1714.83 1450.39 1720.64 1450.39 Z\" fill=\"#000000\" fill-rule=\"evenodd\" fill-opacity=\"1\" /><path clip-path=\"url(#clip460)\" d=\"M1740.8 1479.7 L1745.69 1479.7 L1745.69 1485.58 L1740.8 1485.58 L1740.8 1479.7 Z\" fill=\"#000000\" fill-rule=\"evenodd\" fill-opacity=\"1\" /><path clip-path=\"url(#clip460)\" d=\"M1765.87 1454.1 Q1762.26 1454.1 1760.43 1457.66 Q1758.63 1461.2 1758.63 1468.33 Q1758.63 1475.44 1760.43 1479.01 Q1762.26 1482.55 1765.87 1482.55 Q1769.51 1482.55 1771.31 1479.01 Q1773.14 1475.44 1773.14 1468.33 Q1773.14 1461.2 1771.31 1457.66 Q1769.51 1454.1 1765.87 1454.1 M1765.87 1450.39 Q1771.68 1450.39 1774.74 1455 Q1777.82 1459.58 1777.82 1468.33 Q1777.82 1477.06 1774.74 1481.67 Q1771.68 1486.25 1765.87 1486.25 Q1760.06 1486.25 1756.98 1481.67 Q1753.93 1477.06 1753.93 1468.33 Q1753.93 1459.58 1756.98 1455 Q1760.06 1450.39 1765.87 1450.39 Z\" fill=\"#000000\" fill-rule=\"evenodd\" fill-opacity=\"1\" /><path clip-path=\"url(#clip460)\" d=\"M2038.63 1481.64 L2046.26 1481.64 L2046.26 1455.28 L2037.95 1456.95 L2037.95 1452.69 L2046.22 1451.02 L2050.89 1451.02 L2050.89 1481.64 L2058.53 1481.64 L2058.53 1485.58 L2038.63 1485.58 L2038.63 1481.64 Z\" fill=\"#000000\" fill-rule=\"evenodd\" fill-opacity=\"1\" /><path clip-path=\"url(#clip460)\" d=\"M2072 1481.64 L2088.32 1481.64 L2088.32 1485.58 L2066.38 1485.58 L2066.38 1481.64 Q2069.04 1478.89 2073.63 1474.26 Q2078.23 1469.61 2079.41 1468.27 Q2081.66 1465.74 2082.54 1464.01 Q2083.44 1462.25 2083.44 1460.56 Q2083.44 1457.8 2081.5 1456.07 Q2079.57 1454.33 2076.47 1454.33 Q2074.27 1454.33 2071.82 1455.09 Q2069.39 1455.86 2066.61 1457.41 L2066.61 1452.69 Q2069.44 1451.55 2071.89 1450.97 Q2074.34 1450.39 2076.38 1450.39 Q2081.75 1450.39 2084.94 1453.08 Q2088.14 1455.77 2088.14 1460.26 Q2088.14 1462.39 2087.33 1464.31 Q2086.54 1466.2 2084.44 1468.8 Q2083.86 1469.47 2080.75 1472.69 Q2077.65 1475.88 2072 1481.64 Z\" fill=\"#000000\" fill-rule=\"evenodd\" fill-opacity=\"1\" /><path clip-path=\"url(#clip460)\" d=\"M2098.14 1479.7 L2103.02 1479.7 L2103.02 1485.58 L2098.14 1485.58 L2098.14 1479.7 Z\" fill=\"#000000\" fill-rule=\"evenodd\" fill-opacity=\"1\" /><path clip-path=\"url(#clip460)\" d=\"M2113.25 1451.02 L2131.61 1451.02 L2131.61 1454.96 L2117.54 1454.96 L2117.54 1463.43 Q2118.56 1463.08 2119.57 1462.92 Q2120.59 1462.73 2121.61 1462.73 Q2127.4 1462.73 2130.78 1465.9 Q2134.16 1469.08 2134.16 1474.49 Q2134.16 1480.07 2130.69 1483.17 Q2127.21 1486.25 2120.89 1486.25 Q2118.72 1486.25 2116.45 1485.88 Q2114.2 1485.51 2111.8 1484.77 L2111.8 1480.07 Q2113.88 1481.2 2116.1 1481.76 Q2118.32 1482.32 2120.8 1482.32 Q2124.81 1482.32 2127.14 1480.21 Q2129.48 1478.1 2129.48 1474.49 Q2129.48 1470.88 2127.14 1468.77 Q2124.81 1466.67 2120.8 1466.67 Q2118.93 1466.67 2117.05 1467.08 Q2115.2 1467.5 2113.25 1468.38 L2113.25 1451.02 Z\" fill=\"#000000\" fill-rule=\"evenodd\" fill-opacity=\"1\" /><path clip-path=\"url(#clip460)\" d=\"M1184.9 1522.27 L1184.9 1532.4 L1196.96 1532.4 L1196.96 1536.95 L1184.9 1536.95 L1184.9 1556.3 Q1184.9 1560.66 1186.08 1561.9 Q1187.29 1563.14 1190.95 1563.14 L1196.96 1563.14 L1196.96 1568.04 L1190.95 1568.04 Q1184.17 1568.04 1181.59 1565.53 Q1179.01 1562.98 1179.01 1556.3 L1179.01 1536.95 L1174.71 1536.95 L1174.71 1532.4 L1179.01 1532.4 L1179.01 1522.27 L1184.9 1522.27 Z\" fill=\"#000000\" fill-rule=\"evenodd\" fill-opacity=\"1\" /><path clip-path=\"url(#clip460)\" d=\"M1204.67 1532.4 L1210.52 1532.4 L1210.52 1568.04 L1204.67 1568.04 L1204.67 1532.4 M1204.67 1518.52 L1210.52 1518.52 L1210.52 1525.93 L1204.67 1525.93 L1204.67 1518.52 Z\" fill=\"#000000\" fill-rule=\"evenodd\" fill-opacity=\"1\" /><path clip-path=\"url(#clip460)\" d=\"M1250.53 1539.24 Q1252.73 1535.29 1255.78 1533.41 Q1258.84 1531.54 1262.97 1531.54 Q1268.54 1531.54 1271.57 1535.45 Q1274.59 1539.33 1274.59 1546.53 L1274.59 1568.04 L1268.7 1568.04 L1268.7 1546.72 Q1268.7 1541.59 1266.89 1539.11 Q1265.08 1536.63 1261.35 1536.63 Q1256.8 1536.63 1254.16 1539.65 Q1251.52 1542.68 1251.52 1547.9 L1251.52 1568.04 L1245.63 1568.04 L1245.63 1546.72 Q1245.63 1541.56 1243.81 1539.11 Q1242 1536.63 1238.21 1536.63 Q1233.72 1536.63 1231.08 1539.68 Q1228.44 1542.71 1228.44 1547.9 L1228.44 1568.04 L1222.55 1568.04 L1222.55 1532.4 L1228.44 1532.4 L1228.44 1537.93 Q1230.45 1534.66 1233.25 1533.1 Q1236.05 1531.54 1239.9 1531.54 Q1243.78 1531.54 1246.49 1533.51 Q1249.23 1535.48 1250.53 1539.24 Z\" fill=\"#000000\" fill-rule=\"evenodd\" fill-opacity=\"1\" /><path clip-path=\"url(#clip460)\" d=\"M1316.77 1548.76 L1316.77 1551.62 L1289.84 1551.62 Q1290.22 1557.67 1293.47 1560.85 Q1296.75 1564 1302.57 1564 Q1305.94 1564 1309.09 1563.17 Q1312.28 1562.35 1315.4 1560.69 L1315.4 1566.23 Q1312.25 1567.57 1308.94 1568.27 Q1305.63 1568.97 1302.22 1568.97 Q1293.69 1568.97 1288.69 1564 Q1283.73 1559.04 1283.73 1550.57 Q1283.73 1541.82 1288.44 1536.69 Q1293.18 1531.54 1301.2 1531.54 Q1308.39 1531.54 1312.56 1536.18 Q1316.77 1540.8 1316.77 1548.76 M1310.91 1547.04 Q1310.85 1542.23 1308.2 1539.37 Q1305.59 1536.5 1301.26 1536.5 Q1296.36 1536.5 1293.4 1539.27 Q1290.47 1542.04 1290.03 1547.07 L1310.91 1547.04 Z\" fill=\"#000000\" fill-rule=\"evenodd\" fill-opacity=\"1\" /><path clip-path=\"url(#clip460)\" d=\"M1361.17 1518.58 Q1356.9 1525.9 1354.83 1533.06 Q1352.76 1540.23 1352.76 1547.58 Q1352.76 1554.93 1354.83 1562.16 Q1356.93 1569.35 1361.17 1576.64 L1356.07 1576.64 Q1351.3 1569.16 1348.91 1561.93 Q1346.56 1554.71 1346.56 1547.58 Q1346.56 1540.48 1348.91 1533.29 Q1351.27 1526.09 1356.07 1518.58 L1361.17 1518.58 Z\" fill=\"#000000\" fill-rule=\"evenodd\" fill-opacity=\"1\" /><path clip-path=\"url(#clip460)\" d=\"M1395.25 1533.45 L1395.25 1538.98 Q1392.77 1537.71 1390.1 1537.07 Q1387.42 1536.44 1384.56 1536.44 Q1380.2 1536.44 1378 1537.77 Q1375.84 1539.11 1375.84 1541.79 Q1375.84 1543.82 1377.4 1545 Q1378.96 1546.15 1383.67 1547.2 L1385.67 1547.64 Q1391.91 1548.98 1394.52 1551.43 Q1397.16 1553.85 1397.16 1558.21 Q1397.16 1563.17 1393.22 1566.07 Q1389.3 1568.97 1382.43 1568.97 Q1379.56 1568.97 1376.44 1568.39 Q1373.36 1567.85 1369.92 1566.74 L1369.92 1560.69 Q1373.17 1562.38 1376.32 1563.24 Q1379.47 1564.07 1382.55 1564.07 Q1386.69 1564.07 1388.92 1562.66 Q1391.15 1561.23 1391.15 1558.65 Q1391.15 1556.27 1389.53 1554.99 Q1387.93 1553.72 1382.49 1552.54 L1380.45 1552.07 Q1375.01 1550.92 1372.59 1548.56 Q1370.17 1546.18 1370.17 1542.04 Q1370.17 1537.01 1373.74 1534.27 Q1377.3 1531.54 1383.86 1531.54 Q1387.11 1531.54 1389.97 1532.01 Q1392.84 1532.49 1395.25 1533.45 Z\" fill=\"#000000\" fill-rule=\"evenodd\" fill-opacity=\"1\" /><path clip-path=\"url(#clip460)\" d=\"M1405.57 1518.58 L1410.66 1518.58 Q1415.43 1526.09 1417.79 1533.29 Q1420.18 1540.48 1420.18 1547.58 Q1420.18 1554.71 1417.79 1561.93 Q1415.43 1569.16 1410.66 1576.64 L1405.57 1576.64 Q1409.8 1569.35 1411.87 1562.16 Q1413.97 1554.93 1413.97 1547.58 Q1413.97 1540.23 1411.87 1533.06 Q1409.8 1525.9 1405.57 1518.58 Z\" fill=\"#000000\" fill-rule=\"evenodd\" fill-opacity=\"1\" /><polyline clip-path=\"url(#clip462)\" style=\"stroke:#000000; stroke-linecap:round; stroke-linejoin:round; stroke-width:2; stroke-opacity:0.1; fill:none\" points=\"242.135,1391.08 2352.76,1391.08 \"/>\n",
       "<polyline clip-path=\"url(#clip462)\" style=\"stroke:#000000; stroke-linecap:round; stroke-linejoin:round; stroke-width:2; stroke-opacity:0.1; fill:none\" points=\"242.135,998.793 2352.76,998.793 \"/>\n",
       "<polyline clip-path=\"url(#clip462)\" style=\"stroke:#000000; stroke-linecap:round; stroke-linejoin:round; stroke-width:2; stroke-opacity:0.1; fill:none\" points=\"242.135,606.501 2352.76,606.501 \"/>\n",
       "<polyline clip-path=\"url(#clip462)\" style=\"stroke:#000000; stroke-linecap:round; stroke-linejoin:round; stroke-width:2; stroke-opacity:0.1; fill:none\" points=\"242.135,214.21 2352.76,214.21 \"/>\n",
       "<polyline clip-path=\"url(#clip460)\" style=\"stroke:#000000; stroke-linecap:round; stroke-linejoin:round; stroke-width:4; stroke-opacity:1; fill:none\" points=\"242.135,1423.18 242.135,123.472 \"/>\n",
       "<polyline clip-path=\"url(#clip460)\" style=\"stroke:#000000; stroke-linecap:round; stroke-linejoin:round; stroke-width:4; stroke-opacity:1; fill:none\" points=\"242.135,1391.08 261.032,1391.08 \"/>\n",
       "<polyline clip-path=\"url(#clip460)\" style=\"stroke:#000000; stroke-linecap:round; stroke-linejoin:round; stroke-width:4; stroke-opacity:1; fill:none\" points=\"242.135,998.793 261.032,998.793 \"/>\n",
       "<polyline clip-path=\"url(#clip460)\" style=\"stroke:#000000; stroke-linecap:round; stroke-linejoin:round; stroke-width:4; stroke-opacity:1; fill:none\" points=\"242.135,606.501 261.032,606.501 \"/>\n",
       "<polyline clip-path=\"url(#clip460)\" style=\"stroke:#000000; stroke-linecap:round; stroke-linejoin:round; stroke-width:4; stroke-opacity:1; fill:none\" points=\"242.135,214.21 261.032,214.21 \"/>\n",
       "<path clip-path=\"url(#clip460)\" d=\"M114.26 1391.54 L143.936 1391.54 L143.936 1395.47 L114.26 1395.47 L114.26 1391.54 Z\" fill=\"#000000\" fill-rule=\"evenodd\" fill-opacity=\"1\" /><path clip-path=\"url(#clip460)\" d=\"M158.056 1404.43 L174.376 1404.43 L174.376 1408.36 L152.431 1408.36 L152.431 1404.43 Q155.093 1401.67 159.677 1397.05 Q164.283 1392.39 165.464 1391.05 Q167.709 1388.53 168.589 1386.79 Q169.491 1385.03 169.491 1383.34 Q169.491 1380.59 167.547 1378.85 Q165.626 1377.11 162.524 1377.11 Q160.325 1377.11 157.871 1377.88 Q155.44 1378.64 152.663 1380.19 L152.663 1375.47 Q155.487 1374.34 157.94 1373.76 Q160.394 1373.18 162.431 1373.18 Q167.802 1373.18 170.996 1375.86 Q174.19 1378.55 174.19 1383.04 Q174.19 1385.17 173.38 1387.09 Q172.593 1388.99 170.487 1391.58 Q169.908 1392.25 166.806 1395.47 Q163.704 1398.67 158.056 1404.43 Z\" fill=\"#000000\" fill-rule=\"evenodd\" fill-opacity=\"1\" /><path clip-path=\"url(#clip460)\" d=\"M194.19 1376.88 Q190.579 1376.88 188.75 1380.45 Q186.945 1383.99 186.945 1391.12 Q186.945 1398.23 188.75 1401.79 Q190.579 1405.33 194.19 1405.33 Q197.825 1405.33 199.63 1401.79 Q201.459 1398.23 201.459 1391.12 Q201.459 1383.99 199.63 1380.45 Q197.825 1376.88 194.19 1376.88 M194.19 1373.18 Q200 1373.18 203.056 1377.79 Q206.135 1382.37 206.135 1391.12 Q206.135 1399.85 203.056 1404.45 Q200 1409.04 194.19 1409.04 Q188.38 1409.04 185.301 1404.45 Q182.246 1399.85 182.246 1391.12 Q182.246 1382.37 185.301 1377.79 Q188.38 1373.18 194.19 1373.18 Z\" fill=\"#000000\" fill-rule=\"evenodd\" fill-opacity=\"1\" /><path clip-path=\"url(#clip460)\" d=\"M114.26 999.244 L143.936 999.244 L143.936 1003.18 L114.26 1003.18 L114.26 999.244 Z\" fill=\"#000000\" fill-rule=\"evenodd\" fill-opacity=\"1\" /><path clip-path=\"url(#clip460)\" d=\"M154.839 1012.14 L162.477 1012.14 L162.477 985.772 L154.167 987.439 L154.167 983.18 L162.431 981.513 L167.107 981.513 L167.107 1012.14 L174.746 1012.14 L174.746 1016.07 L154.839 1016.07 L154.839 1012.14 Z\" fill=\"#000000\" fill-rule=\"evenodd\" fill-opacity=\"1\" /><path clip-path=\"url(#clip460)\" d=\"M194.19 984.592 Q190.579 984.592 188.75 988.157 Q186.945 991.698 186.945 998.828 Q186.945 1005.93 188.75 1009.5 Q190.579 1013.04 194.19 1013.04 Q197.825 1013.04 199.63 1009.5 Q201.459 1005.93 201.459 998.828 Q201.459 991.698 199.63 988.157 Q197.825 984.592 194.19 984.592 M194.19 980.888 Q200 980.888 203.056 985.495 Q206.135 990.078 206.135 998.828 Q206.135 1007.55 203.056 1012.16 Q200 1016.74 194.19 1016.74 Q188.38 1016.74 185.301 1012.16 Q182.246 1007.55 182.246 998.828 Q182.246 990.078 185.301 985.495 Q188.38 980.888 194.19 980.888 Z\" fill=\"#000000\" fill-rule=\"evenodd\" fill-opacity=\"1\" /><path clip-path=\"url(#clip460)\" d=\"M194.19 592.3 Q190.579 592.3 188.75 595.865 Q186.945 599.407 186.945 606.536 Q186.945 613.643 188.75 617.207 Q190.579 620.749 194.19 620.749 Q197.825 620.749 199.63 617.207 Q201.459 613.643 201.459 606.536 Q201.459 599.407 199.63 595.865 Q197.825 592.3 194.19 592.3 M194.19 588.596 Q200 588.596 203.056 593.203 Q206.135 597.786 206.135 606.536 Q206.135 615.263 203.056 619.869 Q200 624.453 194.19 624.453 Q188.38 624.453 185.301 619.869 Q182.246 615.263 182.246 606.536 Q182.246 597.786 185.301 593.203 Q188.38 588.596 194.19 588.596 Z\" fill=\"#000000\" fill-rule=\"evenodd\" fill-opacity=\"1\" /><path clip-path=\"url(#clip460)\" d=\"M154.839 227.555 L162.477 227.555 L162.477 201.189 L154.167 202.856 L154.167 198.597 L162.431 196.93 L167.107 196.93 L167.107 227.555 L174.746 227.555 L174.746 231.49 L154.839 231.49 L154.839 227.555 Z\" fill=\"#000000\" fill-rule=\"evenodd\" fill-opacity=\"1\" /><path clip-path=\"url(#clip460)\" d=\"M194.19 200.009 Q190.579 200.009 188.75 203.573 Q186.945 207.115 186.945 214.245 Q186.945 221.351 188.75 224.916 Q190.579 228.458 194.19 228.458 Q197.825 228.458 199.63 224.916 Q201.459 221.351 201.459 214.245 Q201.459 207.115 199.63 203.573 Q197.825 200.009 194.19 200.009 M194.19 196.305 Q200 196.305 203.056 200.911 Q206.135 205.495 206.135 214.245 Q206.135 222.971 203.056 227.578 Q200 232.161 194.19 232.161 Q188.38 232.161 185.301 227.578 Q182.246 222.971 182.246 214.245 Q182.246 205.495 185.301 200.911 Q188.38 196.305 194.19 196.305 Z\" fill=\"#000000\" fill-rule=\"evenodd\" fill-opacity=\"1\" /><path clip-path=\"url(#clip460)\" d=\"M28.3562 756.711 L45.7028 769.602 L64.0042 756.043 L64.0042 762.95 L49.9996 773.326 L64.0042 783.702 L64.0042 790.609 L45.3526 776.763 L28.3562 789.431 L28.3562 782.524 L41.0558 773.071 L28.3562 763.618 L28.3562 756.711 Z\" fill=\"#000000\" fill-rule=\"evenodd\" fill-opacity=\"1\" /><path clip-path=\"url(#clip460)\" d=\"M955.488 14.0809 L955.488 22.0612 Q950.83 19.8332 946.698 18.7395 Q942.566 17.6457 938.717 17.6457 Q932.033 17.6457 928.388 20.2383 Q924.782 22.8309 924.782 27.611 Q924.782 31.6214 927.172 33.6873 Q929.603 35.7128 936.327 36.9686 L941.27 37.9813 Q950.425 39.7232 954.759 44.1387 Q959.134 48.5136 959.134 55.8863 Q959.134 64.6767 953.22 69.2137 Q947.346 73.7508 935.963 73.7508 Q931.669 73.7508 926.808 72.7785 Q921.987 71.8063 916.802 69.9024 L916.802 61.4765 Q921.785 64.2716 926.565 65.6895 Q931.345 67.1073 935.963 67.1073 Q942.971 67.1073 946.779 64.3527 Q950.587 61.598 950.587 56.4939 Q950.587 52.0379 947.832 49.5264 Q945.118 47.0148 938.879 45.759 L933.897 44.7868 Q924.742 42.9639 920.65 39.075 Q916.559 35.1862 916.559 28.2591 Q916.559 20.2383 922.19 15.6203 Q927.861 11.0023 937.786 11.0023 Q942.039 11.0023 946.455 11.7719 Q950.87 12.5416 955.488 14.0809 Z\" fill=\"#000000\" fill-rule=\"evenodd\" fill-opacity=\"1\" /><path clip-path=\"url(#clip460)\" d=\"M978.943 14.324 L978.943 27.2059 L994.296 27.2059 L994.296 32.9987 L978.943 32.9987 L978.943 57.6282 Q978.943 63.1779 980.442 64.7578 Q981.981 66.3376 986.64 66.3376 L994.296 66.3376 L994.296 72.576 L986.64 72.576 Q978.011 72.576 974.73 69.3758 Q971.449 66.1351 971.449 57.6282 L971.449 32.9987 L965.98 32.9987 L965.98 27.2059 L971.449 27.2059 L971.449 14.324 L978.943 14.324 Z\" fill=\"#000000\" fill-rule=\"evenodd\" fill-opacity=\"1\" /><path clip-path=\"url(#clip460)\" d=\"M1024.72 49.7694 Q1015.68 49.7694 1012.2 51.8354 Q1008.72 53.9013 1008.72 58.8839 Q1008.72 62.8538 1011.31 65.2034 Q1013.94 67.5124 1018.44 67.5124 Q1024.64 67.5124 1028.36 63.1374 Q1032.13 58.7219 1032.13 51.4303 L1032.13 49.7694 L1024.72 49.7694 M1039.58 46.6907 L1039.58 72.576 L1032.13 72.576 L1032.13 65.6895 Q1029.58 69.8214 1025.77 71.8063 Q1021.96 73.7508 1016.45 73.7508 Q1009.49 73.7508 1005.35 69.8619 Q1001.26 65.9325 1001.26 59.3701 Q1001.26 51.7138 1006.37 47.825 Q1011.51 43.9361 1021.68 43.9361 L1032.13 43.9361 L1032.13 43.2069 Q1032.13 38.0623 1028.73 35.2672 Q1025.37 32.4315 1019.25 32.4315 Q1015.36 32.4315 1011.67 33.3632 Q1007.99 34.295 1004.59 36.1584 L1004.59 29.2718 Q1008.68 27.692 1012.52 26.9223 Q1016.37 26.1121 1020.02 26.1121 Q1029.86 26.1121 1034.72 31.2163 Q1039.58 36.3204 1039.58 46.6907 Z\" fill=\"#000000\" fill-rule=\"evenodd\" fill-opacity=\"1\" /><path clip-path=\"url(#clip460)\" d=\"M1062.31 14.324 L1062.31 27.2059 L1077.66 27.2059 L1077.66 32.9987 L1062.31 32.9987 L1062.31 57.6282 Q1062.31 63.1779 1063.81 64.7578 Q1065.35 66.3376 1070.01 66.3376 L1077.66 66.3376 L1077.66 72.576 L1070.01 72.576 Q1061.38 72.576 1058.1 69.3758 Q1054.82 66.1351 1054.82 57.6282 L1054.82 32.9987 L1049.35 32.9987 L1049.35 27.2059 L1054.82 27.2059 L1054.82 14.324 L1062.31 14.324 Z\" fill=\"#000000\" fill-rule=\"evenodd\" fill-opacity=\"1\" /><path clip-path=\"url(#clip460)\" d=\"M1126.27 48.0275 L1126.27 51.6733 L1092 51.6733 Q1092.49 59.3701 1096.62 63.421 Q1100.79 67.4314 1108.21 67.4314 Q1112.5 67.4314 1116.51 66.3781 Q1120.56 65.3249 1124.53 63.2184 L1124.53 70.267 Q1120.52 71.9684 1116.31 72.8596 Q1112.1 73.7508 1107.76 73.7508 Q1096.91 73.7508 1090.55 67.4314 Q1084.23 61.1119 1084.23 50.3365 Q1084.23 39.1965 1090.22 32.6746 Q1096.26 26.1121 1106.47 26.1121 Q1115.62 26.1121 1120.93 32.0264 Q1126.27 37.9003 1126.27 48.0275 M1118.82 45.84 Q1118.74 39.7232 1115.38 36.0774 Q1112.06 32.4315 1106.55 32.4315 Q1100.31 32.4315 1096.54 35.9558 Q1092.81 39.4801 1092.25 45.8805 L1118.82 45.84 Z\" fill=\"#000000\" fill-rule=\"evenodd\" fill-opacity=\"1\" /><path clip-path=\"url(#clip460)\" d=\"M1165.2 12.096 L1203.44 12.096 L1203.44 18.9825 L1173.39 18.9825 L1173.39 36.8875 L1202.19 36.8875 L1202.19 43.7741 L1173.39 43.7741 L1173.39 65.6895 L1204.17 65.6895 L1204.17 72.576 L1165.2 72.576 L1165.2 12.096 Z\" fill=\"#000000\" fill-rule=\"evenodd\" fill-opacity=\"1\" /><path clip-path=\"url(#clip460)\" d=\"M1243.59 34.1734 Q1242.33 33.4443 1240.83 33.1202 Q1239.38 32.7556 1237.59 32.7556 Q1231.27 32.7556 1227.87 36.8875 Q1224.51 40.9789 1224.51 48.6757 L1224.51 72.576 L1217.01 72.576 L1217.01 27.2059 L1224.51 27.2059 L1224.51 34.2544 Q1226.86 30.1225 1230.63 28.1376 Q1234.39 26.1121 1239.78 26.1121 Q1240.55 26.1121 1241.48 26.2337 Q1242.41 26.3147 1243.55 26.5172 L1243.59 34.1734 Z\" fill=\"#000000\" fill-rule=\"evenodd\" fill-opacity=\"1\" /><path clip-path=\"url(#clip460)\" d=\"M1276.24 34.1734 Q1274.98 33.4443 1273.48 33.1202 Q1272.03 32.7556 1270.24 32.7556 Q1263.92 32.7556 1260.52 36.8875 Q1257.16 40.9789 1257.16 48.6757 L1257.16 72.576 L1249.66 72.576 L1249.66 27.2059 L1257.16 27.2059 L1257.16 34.2544 Q1259.51 30.1225 1263.28 28.1376 Q1267.04 26.1121 1272.43 26.1121 Q1273.2 26.1121 1274.13 26.2337 Q1275.06 26.3147 1276.2 26.5172 L1276.24 34.1734 Z\" fill=\"#000000\" fill-rule=\"evenodd\" fill-opacity=\"1\" /><path clip-path=\"url(#clip460)\" d=\"M1299.82 32.4315 Q1293.82 32.4315 1290.34 37.1306 Q1286.85 41.7891 1286.85 49.9314 Q1286.85 58.0738 1290.3 62.7728 Q1293.78 67.4314 1299.82 67.4314 Q1305.77 67.4314 1309.25 62.7323 Q1312.74 58.0333 1312.74 49.9314 Q1312.74 41.8701 1309.25 37.1711 Q1305.77 32.4315 1299.82 32.4315 M1299.82 26.1121 Q1309.54 26.1121 1315.09 32.4315 Q1320.64 38.7509 1320.64 49.9314 Q1320.64 61.0714 1315.09 67.4314 Q1309.54 73.7508 1299.82 73.7508 Q1290.05 73.7508 1284.5 67.4314 Q1278.99 61.0714 1278.99 49.9314 Q1278.99 38.7509 1284.5 32.4315 Q1290.05 26.1121 1299.82 26.1121 Z\" fill=\"#000000\" fill-rule=\"evenodd\" fill-opacity=\"1\" /><path clip-path=\"url(#clip460)\" d=\"M1359.28 34.1734 Q1358.03 33.4443 1356.53 33.1202 Q1355.07 32.7556 1353.29 32.7556 Q1346.97 32.7556 1343.56 36.8875 Q1340.2 40.9789 1340.2 48.6757 L1340.2 72.576 L1332.71 72.576 L1332.71 27.2059 L1340.2 27.2059 L1340.2 34.2544 Q1342.55 30.1225 1346.32 28.1376 Q1350.09 26.1121 1355.47 26.1121 Q1356.24 26.1121 1357.18 26.2337 Q1358.11 26.3147 1359.24 26.5172 L1359.28 34.1734 Z\" fill=\"#000000\" fill-rule=\"evenodd\" fill-opacity=\"1\" /><path clip-path=\"url(#clip460)\" d=\"M1393.8 12.096 L1401.98 12.096 L1401.98 36.8875 L1431.71 36.8875 L1431.71 12.096 L1439.9 12.096 L1439.9 72.576 L1431.71 72.576 L1431.71 43.7741 L1401.98 43.7741 L1401.98 72.576 L1393.8 72.576 L1393.8 12.096 Z\" fill=\"#000000\" fill-rule=\"evenodd\" fill-opacity=\"1\" /><path clip-path=\"url(#clip460)\" d=\"M1455.86 27.2059 L1463.31 27.2059 L1463.31 72.576 L1455.86 72.576 L1455.86 27.2059 M1455.86 9.54393 L1463.31 9.54393 L1463.31 18.9825 L1455.86 18.9825 L1455.86 9.54393 Z\" fill=\"#000000\" fill-rule=\"evenodd\" fill-opacity=\"1\" /><path clip-path=\"url(#clip460)\" d=\"M1507.83 28.5427 L1507.83 35.5912 Q1504.67 33.9709 1501.27 33.1607 Q1497.86 32.3505 1494.22 32.3505 Q1488.67 32.3505 1485.87 34.0519 Q1483.12 35.7533 1483.12 39.156 Q1483.12 41.7486 1485.1 43.2475 Q1487.09 44.7058 1493.08 46.0426 L1495.64 46.6097 Q1503.58 48.3111 1506.9 51.4303 Q1510.26 54.509 1510.26 60.0587 Q1510.26 66.3781 1505.24 70.0644 Q1500.25 73.7508 1491.5 73.7508 Q1487.86 73.7508 1483.89 73.0216 Q1479.96 72.3329 1475.58 70.9151 L1475.58 63.2184 Q1479.72 65.3654 1483.73 66.4591 Q1487.74 67.5124 1491.67 67.5124 Q1496.93 67.5124 1499.77 65.73 Q1502.6 63.9071 1502.6 60.6258 Q1502.6 57.5877 1500.54 55.9673 Q1498.51 54.3469 1491.58 52.8481 L1488.99 52.2405 Q1482.07 50.7821 1478.99 47.7845 Q1475.91 44.7463 1475.91 39.4801 Q1475.91 33.0797 1480.44 29.5959 Q1484.98 26.1121 1493.33 26.1121 Q1497.46 26.1121 1501.1 26.7198 Q1504.75 27.3274 1507.83 28.5427 Z\" fill=\"#000000\" fill-rule=\"evenodd\" fill-opacity=\"1\" /><path clip-path=\"url(#clip460)\" d=\"M1529.5 14.324 L1529.5 27.2059 L1544.85 27.2059 L1544.85 32.9987 L1529.5 32.9987 L1529.5 57.6282 Q1529.5 63.1779 1531 64.7578 Q1532.54 66.3376 1537.2 66.3376 L1544.85 66.3376 L1544.85 72.576 L1537.2 72.576 Q1528.57 72.576 1525.29 69.3758 Q1522.01 66.1351 1522.01 57.6282 L1522.01 32.9987 L1516.54 32.9987 L1516.54 27.2059 L1522.01 27.2059 L1522.01 14.324 L1529.5 14.324 Z\" fill=\"#000000\" fill-rule=\"evenodd\" fill-opacity=\"1\" /><path clip-path=\"url(#clip460)\" d=\"M1572.24 32.4315 Q1566.24 32.4315 1562.76 37.1306 Q1559.28 41.7891 1559.28 49.9314 Q1559.28 58.0738 1562.72 62.7728 Q1566.2 67.4314 1572.24 67.4314 Q1578.19 67.4314 1581.68 62.7323 Q1585.16 58.0333 1585.16 49.9314 Q1585.16 41.8701 1581.68 37.1711 Q1578.19 32.4315 1572.24 32.4315 M1572.24 26.1121 Q1581.96 26.1121 1587.51 32.4315 Q1593.06 38.7509 1593.06 49.9314 Q1593.06 61.0714 1587.51 67.4314 Q1581.96 73.7508 1572.24 73.7508 Q1562.48 73.7508 1556.93 67.4314 Q1551.42 61.0714 1551.42 49.9314 Q1551.42 38.7509 1556.93 32.4315 Q1562.48 26.1121 1572.24 26.1121 Z\" fill=\"#000000\" fill-rule=\"evenodd\" fill-opacity=\"1\" /><path clip-path=\"url(#clip460)\" d=\"M1631.71 34.1734 Q1630.45 33.4443 1628.95 33.1202 Q1627.49 32.7556 1625.71 32.7556 Q1619.39 32.7556 1615.99 36.8875 Q1612.63 40.9789 1612.63 48.6757 L1612.63 72.576 L1605.13 72.576 L1605.13 27.2059 L1612.63 27.2059 L1612.63 34.2544 Q1614.98 30.1225 1618.74 28.1376 Q1622.51 26.1121 1627.9 26.1121 Q1628.67 26.1121 1629.6 26.2337 Q1630.53 26.3147 1631.67 26.5172 L1631.71 34.1734 Z\" fill=\"#000000\" fill-rule=\"evenodd\" fill-opacity=\"1\" /><path clip-path=\"url(#clip460)\" d=\"M1658.4 76.7889 Q1655.24 84.8907 1652.24 87.3618 Q1649.25 89.8329 1644.22 89.8329 L1638.27 89.8329 L1638.27 83.5945 L1642.64 83.5945 Q1645.72 83.5945 1647.42 82.1361 Q1649.12 80.6778 1651.19 75.2496 L1652.53 71.8468 L1634.18 27.2059 L1642.08 27.2059 L1656.25 62.6918 L1670.43 27.2059 L1678.33 27.2059 L1658.4 76.7889 Z\" fill=\"#000000\" fill-rule=\"evenodd\" fill-opacity=\"1\" /><polyline clip-path=\"url(#clip462)\" style=\"stroke:#009af9; stroke-linecap:round; stroke-linejoin:round; stroke-width:4; stroke-opacity:1; fill:none\" points=\"301.869,765.751 309.006,777.529 316.143,775.143 323.279,770.168 330.416,763.823 337.553,756.762 344.69,753.516 351.826,748.109 358.963,736.521 366.1,730.442 373.237,715.557 380.373,699.59 387.51,700.247 394.647,705.724 401.784,703.928 408.92,699.393 416.057,694.414 423.194,682.016 430.331,676.409 437.467,673.545 444.604,663.344 451.741,651.997 458.878,649.553 466.014,648.403 473.151,640.586 480.288,634.524 487.425,629.478 494.561,624.949 501.698,620.134 508.835,619.162 515.972,615.007 523.108,612.337 530.245,608.899 537.382,606.144 544.519,600.68 551.655,598.385 558.792,594.996 565.929,592.724 573.066,588.011 580.202,585.57 587.339,580.724 594.476,578.595 601.613,575.531 608.749,566.47 615.886,565.958 623.023,562.659 630.16,557.717 637.296,551.944 644.433,548.242 651.57,546.819 658.707,543.582 665.843,538.681 672.98,530.925 680.117,528.075 687.254,526.689 694.39,525.39 701.527,522.068 708.664,520.103 715.801,516.67 722.937,515.722 730.074,514.987 737.211,512.375 744.347,509.603 751.484,507.523 758.621,507.92 765.758,505.755 772.894,505.261 780.031,503.833 787.168,502.072 794.305,502.671 801.441,502.319 808.578,504.389 815.715,504.031 822.852,501.127 829.988,499.171 837.125,495.977 844.262,492.947 851.399,493.426 858.535,495.762 865.672,496.021 872.809,498.084 879.946,499.868 887.082,501.194 894.219,499.612 901.356,499.849 908.493,500.226 915.629,500.309 922.766,499.749 929.903,498.629 937.04,498.177 944.176,497.96 951.313,499.07 958.45,499.975 965.587,499.827 972.723,501.447 979.86,501.9 986.997,502.619 994.134,503.14 1001.27,504.018 1008.41,504.003 1015.54,504.859 1022.68,506.751 1029.82,507.749 1036.95,508.854 1044.09,508.474 1051.23,509.45 1058.36,510.803 1065.5,511.501 1072.64,514.785 1079.77,515.148 1086.91,518.26 1094.05,520.885 1101.18,523.737 1108.32,526.425 1115.46,529.709 1122.6,531.283 1129.73,533.163 1136.87,534.928 1144.01,537.361 1151.14,540.072 1158.28,543.531 1165.42,545.984 1172.55,547.599 1179.69,550.706 1186.83,552.83 1193.96,553.717 1201.1,555.708 1208.24,557.732 1215.37,559.106 1222.51,560.424 1229.65,562.424 1236.78,564.27 1243.92,566.008 1251.06,567.75 1258.19,568.825 1265.33,569.895 1272.47,571.724 1279.6,573.607 1286.74,574.839 1293.88,576.273 1301.01,577.722 1308.15,578.998 1315.29,579.519 1322.42,581.077 1329.56,582.165 1336.7,583.566 1343.83,584.475 1350.97,585.881 1358.11,586.845 1365.24,587.859 1372.38,588.597 1379.52,589.347 1386.65,590.117 1393.79,590.75 1400.93,591.379 1408.06,592.133 1415.2,592.686 1422.34,593.283 1429.48,593.74 1436.61,594.261 1443.75,594.792 1450.89,595.253 1458.02,595.809 1465.16,596.122 1472.3,596.478 1479.43,596.982 1486.57,597.375 1493.71,597.769 1500.84,597.976 1507.98,598.309 1515.12,598.62 1522.25,599.026 1529.39,599.449 1536.53,599.857 1543.66,600.085 1550.8,600.396 1557.94,600.622 1565.07,600.813 1572.21,600.95 1579.35,601.108 1586.48,601.361 1593.62,601.603 1600.76,601.887 1607.89,602.112 1615.03,602.281 1622.17,602.449 1629.3,602.676 1636.44,602.785 1643.58,602.947 1650.71,603.097 1657.85,603.231 1664.99,603.282 1672.12,603.408 1679.26,603.607 1686.4,603.754 1693.53,603.868 1700.67,603.948 1707.81,604.054 1714.94,604.162 1722.08,604.305 1729.22,604.403 1736.36,604.507 1743.49,604.593 1750.63,604.669 1757.77,604.735 1764.9,604.796 1772.04,604.85 1779.18,604.904 1786.31,604.969 1793.45,605.047 1800.59,605.107 1807.72,605.134 1814.86,605.204 1822,605.235 1829.13,605.284 1836.27,605.322 1843.41,605.354 1850.54,605.373 1857.68,605.438 1864.82,605.477 1871.95,605.488 1879.09,605.507 1886.23,605.538 1893.36,605.566 1900.5,605.589 1907.64,605.599 1914.77,605.622 1921.91,605.651 1929.05,605.684 1936.18,605.71 1943.32,605.726 1950.46,605.741 1957.59,605.746 1964.73,605.745 1971.87,605.762 1979,605.761 1986.14,605.769 1993.28,605.789 2000.41,605.815 2007.55,605.815 2014.69,605.83 2021.83,605.856 2028.96,605.883 2036.1,605.903 2043.24,605.92 2050.37,605.923 2057.51,605.928 2064.65,605.941 2071.78,605.948 2078.92,605.957 2086.06,605.966 2093.19,605.975 2100.33,605.979 2107.47,605.983 2114.6,605.991 2121.74,605.99 2128.88,605.991 2136.01,605.995 2143.15,606.006 2150.29,606.004 2157.42,606.019 2164.56,606.029 2171.7,606.037 2178.83,606.041 2185.97,606.056 2193.11,606.066 2200.24,606.08 2207.38,606.087 2214.52,606.091 2221.65,606.103 2228.79,606.114 2235.93,606.12 2243.06,606.12 2250.2,606.123 2257.34,606.132 2264.47,606.134 2271.61,606.132 2278.75,606.134 2285.88,606.143 2293.02,606.147 \"/>\n",
       "<polyline clip-path=\"url(#clip462)\" style=\"stroke:#e26f46; stroke-linecap:round; stroke-linejoin:round; stroke-width:4; stroke-opacity:1; fill:none\" points=\"301.869,687.96 309.006,674.435 316.143,674.376 323.279,672.591 330.416,686.235 337.553,675.087 344.69,674.511 351.826,680.745 358.963,692.245 366.1,693.843 373.237,694.49 380.373,700.293 387.51,696.827 394.647,695.965 401.784,698.974 408.92,704.976 416.057,704.802 423.194,699.65 430.331,700.302 437.467,698.468 444.604,696.383 451.741,689.252 458.878,694.731 466.014,703.943 473.151,703.476 480.288,705.719 487.425,706.755 494.561,708.282 501.698,713.9 508.835,717.928 515.972,721.529 523.108,728.334 530.245,731.744 537.382,737.777 544.519,740.753 551.655,738.952 558.792,741.677 565.929,743.783 573.066,746.189 580.202,745.966 587.339,748.934 594.476,750.219 601.613,751.072 608.749,753.217 615.886,751.631 623.023,752.345 630.16,753.715 637.296,756.433 644.433,757.327 651.57,755.965 658.707,756.653 665.843,757.774 672.98,756.166 680.117,755.126 687.254,757.529 694.39,757.61 701.527,759.508 708.664,756.981 715.801,756.274 722.937,756.251 730.074,755.905 737.211,754.339 744.347,755.989 751.484,752.649 758.621,751.411 765.758,750.9 772.894,751.887 780.031,752.047 787.168,751.646 794.305,749.824 801.441,749.699 808.578,749.983 815.715,748.239 822.852,747.803 829.988,747.591 837.125,745.631 844.262,745.157 851.399,744.978 858.535,741.659 865.672,738.73 872.809,738.996 879.946,739.271 887.082,740.605 894.219,738.936 901.356,738.391 908.493,736.132 915.629,733.945 922.766,730.155 929.903,729.774 937.04,727.729 944.176,724.817 951.313,722.897 958.45,721.588 965.587,718.292 972.723,717.341 979.86,713.916 986.997,711.977 994.134,709.747 1001.27,706.683 1008.41,704.838 1015.54,703.647 1022.68,701.864 1029.82,699.193 1036.95,698.008 1044.09,696.715 1051.23,696.007 1058.36,694.8 1065.5,690.74 1072.64,688.125 1079.77,685.516 1086.91,683.314 1094.05,680.88 1101.18,679.54 1108.32,678.83 1115.46,677.316 1122.6,674.431 1129.73,671.126 1136.87,668.303 1144.01,665.086 1151.14,663.411 1158.28,661.061 1165.42,658.94 1172.55,656.833 1179.69,655.39 1186.83,652.954 1193.96,651.013 1201.1,648.852 1208.24,647.404 1215.37,645.753 1222.51,644.291 1229.65,643.015 1236.78,641.681 1243.92,640.596 1251.06,639.511 1258.19,638.805 1265.33,637.628 1272.47,636.507 1279.6,635.148 1286.74,633.761 1293.88,633.215 1301.01,632.116 1308.15,630.92 1315.29,629.671 1322.42,628.714 1329.56,627.771 1336.7,626.564 1343.83,625.801 1350.97,625.239 1358.11,624.587 1365.24,623.538 1372.38,622.442 1379.52,621.534 1386.65,620.832 1393.79,620.27 1400.93,619.921 1408.06,619.582 1415.2,619.018 1422.34,618.355 1429.48,617.859 1436.61,617.447 1443.75,616.909 1450.89,616.372 1458.02,615.819 1465.16,615.425 1472.3,615.016 1479.43,614.514 1486.57,614.193 1493.71,613.871 1500.84,613.682 1507.98,613.376 1515.12,613.051 1522.25,612.849 1529.39,612.619 1536.53,612.442 1543.66,612.251 1550.8,612.075 1557.94,611.921 1565.07,611.729 1572.21,611.506 1579.35,611.295 1586.48,611.053 1593.62,610.845 1600.76,610.642 1607.89,610.514 1615.03,610.335 1622.17,610.214 1629.3,610.072 1636.44,609.857 1643.58,609.74 1650.71,609.628 1657.85,609.495 1664.99,609.34 1672.12,609.256 1679.26,609.144 1686.4,609.001 1693.53,608.855 1700.67,608.734 1707.81,608.656 1714.94,608.581 1722.08,608.51 1729.22,608.424 1736.36,608.361 1743.49,608.309 1750.63,608.214 1757.77,608.151 1764.9,608.099 1772.04,608.056 1779.18,607.995 1786.31,607.947 1793.45,607.884 1800.59,607.837 1807.72,607.8 1814.86,607.765 1822,607.719 1829.13,607.687 1836.27,607.66 1843.41,607.652 1850.54,607.629 1857.68,607.575 1864.82,607.548 1871.95,607.536 1879.09,607.506 1886.23,607.487 1893.36,607.464 1900.5,607.461 1907.64,607.431 1914.77,607.403 1921.91,607.371 1929.05,607.33 1936.18,607.31 1943.32,607.285 1950.46,607.274 1957.59,607.256 1964.73,607.239 1971.87,607.234 1979,607.225 1986.14,607.216 1993.28,607.207 2000.41,607.205 2007.55,607.18 2014.69,607.166 2021.83,607.144 2028.96,607.13 2036.1,607.129 2043.24,607.108 2050.37,607.099 2057.51,607.09 2064.65,607.069 2071.78,607.059 2078.92,607.048 2086.06,607.04 2093.19,607.032 2100.33,607.024 2107.47,607.015 2114.6,607.003 2121.74,607.006 2128.88,606.998 2136.01,606.99 2143.15,606.982 2150.29,606.969 2157.42,606.969 2164.56,606.964 2171.7,606.955 2178.83,606.941 2185.97,606.944 2193.11,606.932 2200.24,606.92 2207.38,606.911 2214.52,606.904 2221.65,606.9 2228.79,606.889 2235.93,606.891 2243.06,606.886 2250.2,606.879 2257.34,606.876 2264.47,606.869 2271.61,606.859 2278.75,606.856 2285.88,606.858 2293.02,606.854 \"/>\n",
       "<polyline clip-path=\"url(#clip462)\" style=\"stroke:#3da44d; stroke-linecap:round; stroke-linejoin:round; stroke-width:4; stroke-opacity:1; fill:none\" points=\"301.869,1386.4 309.006,1380.19 316.143,1372.05 323.279,1346.81 330.416,1333.1 337.553,1318.49 344.69,1298.76 351.826,1294.44 358.963,1268.37 366.1,1237.46 373.237,1212.62 380.373,1184.23 387.51,1154.48 394.647,1138.69 401.784,1114.01 408.92,1093.32 416.057,1064.62 423.194,1051.2 430.331,1034.12 437.467,1012.48 444.604,989.88 451.741,971.985 458.878,950.793 466.014,935.887 473.151,919.603 480.288,909.431 487.425,903.166 494.561,891.22 501.698,879.764 508.835,869.668 515.972,859.585 523.108,849.534 530.245,840.958 537.382,827.813 544.519,814.429 551.655,804.85 558.792,797.259 565.929,787.946 573.066,782.247 580.202,775.759 587.339,767.615 594.476,761.805 601.613,755.653 608.749,750.468 615.886,745.767 623.023,742.656 630.16,739.668 637.296,734.044 644.433,729.084 651.57,728.199 658.707,725.656 665.843,721.948 672.98,718.7 680.117,711.435 687.254,706.491 694.39,701.976 701.527,699.603 708.664,693.774 715.801,690.594 722.937,686.971 730.074,684.274 737.211,682.776 744.347,679.135 751.484,676.264 758.621,674.973 765.758,673.092 772.894,670.151 780.031,669.413 787.168,667.687 794.305,665.655 801.441,663.34 808.578,661.663 815.715,659.53 822.852,658.504 829.988,657.554 837.125,658.511 844.262,657.78 851.399,657.556 858.535,654.125 865.672,655.304 872.809,654.411 879.946,651.426 887.082,650.53 894.219,649.822 901.356,647.504 908.493,647.033 915.629,647.394 922.766,645.573 929.903,646.478 937.04,645.405 944.176,643.816 951.313,644.806 958.45,644.969 965.587,643.732 972.723,642.508 979.86,640.891 986.997,639.811 994.134,637.416 1001.27,637.343 1008.41,636.059 1015.54,636.523 1022.68,636.145 1029.82,635.378 1036.95,635.887 1044.09,636.235 1051.23,635.198 1058.36,633.505 1065.5,632.744 1072.64,629.768 1079.77,627.876 1086.91,627.948 1094.05,627.608 1101.18,627.612 1108.32,627.011 1115.46,626.467 1122.6,625.596 1129.73,624.724 1136.87,624.575 1144.01,622.648 1151.14,622.417 1158.28,623.005 1165.42,622.603 1172.55,622.191 1179.69,621.395 1186.83,620.467 1193.96,619.963 1201.1,619.728 1208.24,619.301 1215.37,618.569 1222.51,618.39 1229.65,618.125 1236.78,618.078 1243.92,617.792 1251.06,617.194 1258.19,616.175 1265.33,615.513 1272.47,614.866 1279.6,614.791 1286.74,614.372 1293.88,614.281 1301.01,613.869 1308.15,613.586 1315.29,613.845 1322.42,613.81 1329.56,613.612 1336.7,613.256 1343.83,612.592 1350.97,612.347 1358.11,612.328 1365.24,612.041 1372.38,611.647 1379.52,611.678 1386.65,611.461 1393.79,611.105 1400.93,610.898 1408.06,610.833 1415.2,610.605 1422.34,610.499 1429.48,610.484 1436.61,610.134 1443.75,609.851 1450.89,609.643 1458.02,609.649 1465.16,609.514 1472.3,609.33 1479.43,609.245 1486.57,609.099 1493.71,609.015 1500.84,608.957 1507.98,608.721 1515.12,608.386 1522.25,608.319 1529.39,608.232 1536.53,608.227 1543.66,608.163 1550.8,608.136 1557.94,607.968 1565.07,607.895 1572.21,607.85 1579.35,607.771 1586.48,607.724 1593.62,607.664 1600.76,607.618 1607.89,607.626 1615.03,607.61 1622.17,607.507 1629.3,607.375 1636.44,607.356 1643.58,607.378 1650.71,607.388 1657.85,607.376 1664.99,607.388 1672.12,607.354 1679.26,607.312 1686.4,607.222 1693.53,607.2 1700.67,607.152 1707.81,607.106 1714.94,607.051 1722.08,607.058 1729.22,607.03 1736.36,607.016 1743.49,607.039 1750.63,607.059 1757.77,607.049 1764.9,607.019 1772.04,607.012 1779.18,607.005 1786.31,606.984 1793.45,606.963 1800.59,606.933 1807.72,606.887 1814.86,606.849 1822,606.829 1829.13,606.791 1836.27,606.794 1843.41,606.791 1850.54,606.794 1857.68,606.774 1864.82,606.782 1871.95,606.777 1879.09,606.767 1886.23,606.756 1893.36,606.742 1900.5,606.744 1907.64,606.745 1914.77,606.747 1921.91,606.732 1929.05,606.725 1936.18,606.703 1943.32,606.695 1950.46,606.702 1957.59,606.698 1964.73,606.701 1971.87,606.696 1979,606.677 1986.14,606.665 1993.28,606.653 2000.41,606.651 2007.55,606.642 2014.69,606.623 2021.83,606.628 2028.96,606.616 2036.1,606.61 2043.24,606.616 2050.37,606.623 2057.51,606.622 2064.65,606.615 2071.78,606.614 2078.92,606.618 2086.06,606.618 2093.19,606.619 2100.33,606.622 2107.47,606.618 2114.6,606.61 2121.74,606.613 2128.88,606.608 2136.01,606.605 2143.15,606.598 2150.29,606.59 2157.42,606.593 2164.56,606.58 2171.7,606.575 2178.83,606.57 2185.97,606.563 2193.11,606.565 2200.24,606.56 2207.38,606.561 2214.52,606.556 2221.65,606.55 2228.79,606.543 2235.93,606.539 2243.06,606.541 2250.2,606.54 2257.34,606.542 2264.47,606.541 2271.61,606.543 2278.75,606.54 2285.88,606.541 2293.02,606.54 \"/>\n",
       "<polyline clip-path=\"url(#clip462)\" style=\"stroke:#c271d2; stroke-linecap:round; stroke-linejoin:round; stroke-width:4; stroke-opacity:1; fill:none\" stroke-dasharray=\"16, 10\" points=\"301.869,488.814 309.006,488.814 316.143,488.814 323.279,488.815 330.416,488.814 337.553,488.815 344.69,488.814 351.826,488.815 358.963,488.816 366.1,488.815 373.237,488.814 380.373,488.814 387.51,488.813 394.647,488.813 401.784,489.705 408.92,491.543 416.057,493.166 423.194,495.184 430.331,496.671 437.467,498.374 444.604,500.293 451.741,502.365 458.878,504.31 466.014,506.443 473.151,508.263 480.288,510.126 487.425,511.748 494.561,513.18 501.698,514.933 508.835,516.668 515.972,518.313 523.108,519.979 530.245,521.595 537.382,523.147 544.519,524.931 551.655,526.732 558.792,528.38 565.929,529.854 573.066,531.469 580.202,532.91 587.339,534.411 594.476,536.366 601.613,537.446 608.749,538.954 615.886,540.671 623.023,541.876 630.16,543.563 637.296,544.83 644.433,546.212 651.57,548.032 658.707,549.429 665.843,550.749 672.98,552.061 680.117,553.37 687.254,555.11 694.39,556.659 701.527,558.369 708.664,559.97 715.801,561.617 722.937,562.876 730.074,564.528 737.211,565.873 744.347,567.493 751.484,569.082 758.621,570.607 765.758,572.007 772.894,573.324 780.031,574.98 787.168,576.477 794.305,577.698 801.441,579.394 808.578,580.718 815.715,582.175 822.852,583.863 829.988,585.242 837.125,586.582 844.262,587.939 851.399,589.408 858.535,590.869 865.672,592.511 872.809,593.845 879.946,595.384 887.082,596.85 894.219,598.312 901.356,599.768 908.493,601.338 915.629,602.775 922.766,604.246 929.903,605.731 937.04,607.134 944.176,608.677 951.313,610.262 958.45,611.671 965.587,613.144 972.723,614.73 979.86,616.325 986.997,617.939 994.134,619.544 1001.27,621.304 1008.41,622.823 1015.54,624.475 1022.68,626.001 1029.82,627.598 1036.95,629.237 1044.09,630.791 1051.23,632.378 1058.36,634.058 1065.5,635.785 1072.64,637.459 1079.77,639.309 1086.91,641.098 1094.05,642.737 1101.18,644.366 1108.32,645.988 1115.46,647.628 1122.6,649.07 1129.73,649.885 1136.87,650.011 1144.01,649.804 1151.14,649.176 1158.28,648.312 1165.42,647.361 1172.55,646.206 1179.69,645.398 1186.83,644.327 1193.96,643.342 1201.1,642.962 1208.24,641.763 1215.37,641.34 1222.51,640.285 1229.65,640.419 1236.78,639.453 1243.92,638.648 1251.06,637.989 1258.19,637.1 1265.33,636.279 1272.47,635.628 1279.6,635.236 1286.74,634.293 1293.88,633.187 1301.01,632.221 1308.15,631.128 1315.29,630.049 1322.42,629.165 1329.56,628.202 1336.7,627.294 1343.83,626.261 1350.97,625.405 1358.11,624.333 1365.24,623.412 1372.38,622.43 1379.52,621.657 1386.65,621.077 1393.79,620.326 1400.93,619.516 1408.06,619.2 1415.2,618.472 1422.34,617.916 1429.48,617.535 1436.61,616.883 1443.75,616.414 1450.89,616.366 1458.02,615.963 1465.16,615.414 1472.3,615.188 1479.43,614.687 1486.57,614.513 1493.71,614.226 1500.84,613.936 1507.98,613.789 1515.12,613.345 1522.25,612.898 1529.39,612.669 1536.53,611.839 1543.66,611.873 1550.8,611.476 1557.94,611.42 1565.07,611.157 1572.21,610.979 1579.35,610.995 1586.48,610.872 1593.62,610.955 1600.76,610.438 1607.89,610.073 1615.03,610.165 1622.17,609.736 1629.3,609.859 1636.44,609.39 1643.58,609.237 1650.71,609.235 1657.85,609.066 1664.99,608.878 1672.12,609.047 1679.26,608.926 1686.4,608.696 1693.53,608.4 1700.67,608.436 1707.81,608.324 1714.94,608.299 1722.08,608.258 1729.22,608.161 1736.36,607.943 1743.49,607.832 1750.63,607.925 1757.77,607.781 1764.9,607.549 1772.04,607.69 1779.18,607.666 1786.31,607.549 1793.45,607.531 1800.59,607.434 1807.72,607.4 1814.86,607.482 1822,607.314 1829.13,607.214 1836.27,607.215 1843.41,607.133 1850.54,607.169 1857.68,607.175 1864.82,606.95 1871.95,607.103 1879.09,607.124 1886.23,607.027 1893.36,607.034 1900.5,606.94 1907.64,606.955 1914.77,606.964 1921.91,606.884 1929.05,607.101 1936.18,606.853 1943.32,606.835 1950.46,606.942 1957.59,606.781 1964.73,606.795 1971.87,606.79 1979,606.784 1986.14,606.752 1993.28,606.788 2000.41,606.786 2007.55,606.713 2014.69,606.703 2021.83,607.064 2028.96,606.721 2036.1,606.688 2043.24,606.738 2050.37,606.661 2057.51,606.717 2064.65,606.788 2071.78,606.687 2078.92,606.64 2086.06,606.709 2093.19,606.638 2100.33,606.664 2107.47,606.706 2114.6,606.667 2121.74,606.68 2128.88,606.707 2136.01,606.628 2143.15,606.66 2150.29,606.604 2157.42,606.645 2164.56,606.624 2171.7,606.669 2178.83,606.604 2185.97,606.67 2193.11,606.598 2200.24,606.704 2207.38,606.589 2214.52,606.665 2221.65,606.58 2228.79,606.589 2235.93,606.57 2243.06,606.609 2250.2,606.576 2257.34,606.621 2264.47,606.565 2271.61,606.571 2278.75,606.557 2285.88,606.602 2293.02,606.559 \"/>\n",
       "<polyline clip-path=\"url(#clip462)\" style=\"stroke:#ac8d18; stroke-linecap:round; stroke-linejoin:round; stroke-width:4; stroke-opacity:1; fill:none\" stroke-dasharray=\"16, 10\" points=\"301.869,684.959 309.006,684.96 316.143,684.959 323.279,684.96 330.416,684.959 337.553,684.96 344.69,684.959 351.826,684.959 358.963,684.959 366.1,684.958 373.237,684.958 380.373,684.958 387.51,684.959 394.647,684.959 401.784,683.437 408.92,680.31 416.057,677.57 423.194,674.275 430.331,672.082 437.467,669.651 444.604,666.978 451.741,664.299 458.878,662.026 466.014,659.501 473.151,657.271 480.288,655.09 487.425,653.238 494.561,651.64 501.698,649.717 508.835,647.814 515.972,645.982 523.108,644.138 530.245,642.312 537.382,640.563 544.519,638.522 551.655,636.494 558.792,634.681 565.929,633.068 573.066,631.303 580.202,629.748 587.339,628.154 594.476,626.098 601.613,624.968 608.749,623.411 615.886,621.704 623.023,620.522 630.16,618.885 637.296,617.68 644.433,616.388 651.57,614.71 658.707,613.44 665.843,612.254 672.98,611.096 680.117,609.997 687.254,608.569 694.39,607.286 701.527,605.879 708.664,604.568 715.801,603.255 722.937,602.274 730.074,600.991 737.211,599.952 744.347,598.73 751.484,597.537 758.621,596.43 765.758,595.421 772.894,594.486 780.031,593.301 787.168,592.237 794.305,591.38 801.441,590.202 808.578,589.282 815.715,588.25 822.852,587.077 829.988,586.14 837.125,585.239 844.262,584.363 851.399,583.438 858.535,582.516 865.672,581.494 872.809,580.685 879.946,579.73 887.082,578.8 894.219,577.844 901.356,576.923 908.493,575.93 915.629,575.044 922.766,574.157 929.903,573.314 937.04,572.528 944.176,571.69 951.313,570.874 958.45,570.156 965.587,569.415 972.723,568.67 979.86,567.913 986.997,567.201 994.134,566.517 1001.27,565.798 1008.41,565.23 1015.54,564.647 1022.68,564.116 1029.82,563.579 1036.95,563.076 1044.09,562.614 1051.23,562.175 1058.36,561.71 1065.5,561.25 1072.64,560.95 1079.77,560.693 1086.91,560.574 1094.05,560.538 1101.18,560.658 1108.32,560.866 1115.46,561.141 1122.6,561.758 1129.73,563.192 1136.87,564.848 1144.01,566.538 1151.14,568.231 1158.28,569.687 1165.42,571.031 1172.55,572.055 1179.69,572.948 1186.83,573.666 1193.96,574.558 1201.1,575.391 1208.24,576.545 1215.37,577.093 1222.51,578.213 1229.65,578.465 1236.78,579.238 1243.92,579.82 1251.06,580.132 1258.19,580.675 1265.33,581.231 1272.47,581.767 1279.6,581.867 1286.74,582.507 1293.88,583.479 1301.01,584.116 1308.15,584.906 1315.29,585.784 1322.42,586.803 1329.56,587.602 1336.7,588.366 1343.83,589.244 1350.97,589.948 1358.11,590.483 1365.24,591.109 1372.38,591.971 1379.52,592.864 1386.65,593.513 1393.79,594.318 1400.93,595.091 1408.06,595.271 1415.2,595.7 1422.34,596.176 1429.48,596.574 1436.61,597.229 1443.75,597.642 1450.89,597.724 1458.02,598.168 1465.16,598.715 1472.3,599.006 1479.43,599.536 1486.57,599.749 1493.71,600.002 1500.84,600.23 1507.98,600.364 1515.12,600.752 1522.25,601.188 1529.39,601.281 1536.53,601.882 1543.66,601.721 1550.8,602.05 1557.94,602.011 1565.07,602.21 1572.21,602.387 1579.35,602.453 1586.48,602.618 1593.62,602.559 1600.76,603.013 1607.89,603.294 1615.03,603.152 1622.17,603.564 1629.3,603.426 1636.44,603.803 1643.58,604.032 1650.71,604.011 1657.85,604.146 1664.99,604.326 1672.12,604.26 1679.26,604.343 1686.4,604.499 1693.53,604.773 1700.67,604.773 1707.81,604.909 1714.94,604.921 1722.08,604.937 1729.22,604.982 1736.36,605.182 1743.49,605.26 1750.63,605.153 1757.77,605.306 1764.9,605.524 1772.04,605.39 1779.18,605.405 1786.31,605.523 1793.45,605.53 1800.59,605.616 1807.72,605.64 1814.86,605.572 1822,605.709 1829.13,605.816 1836.27,605.807 1843.41,605.883 1850.54,605.831 1857.68,605.828 1864.82,606.051 1871.95,605.885 1879.09,605.867 1886.23,605.97 1893.36,605.955 1900.5,606.05 1907.64,606.023 1914.77,606.025 1921.91,606.109 1929.05,605.888 1936.18,606.146 1943.32,606.159 1950.46,606.056 1957.59,606.218 1964.73,606.21 1971.87,606.219 1979,606.222 1986.14,606.258 1993.28,606.223 2000.41,606.221 2007.55,606.285 2014.69,606.3 2021.83,605.945 2028.96,606.282 2036.1,606.313 2043.24,606.255 2050.37,606.335 2057.51,606.28 2064.65,606.209 2071.78,606.314 2078.92,606.361 2086.06,606.294 2093.19,606.365 2100.33,606.337 2107.47,606.298 2114.6,606.338 2121.74,606.326 2128.88,606.298 2136.01,606.377 2143.15,606.348 2150.29,606.403 2157.42,606.365 2164.56,606.38 2171.7,606.336 2178.83,606.403 2185.97,606.342 2193.11,606.406 2200.24,606.3 2207.38,606.414 2214.52,606.341 2221.65,606.422 2228.79,606.414 2235.93,606.434 2243.06,606.392 2250.2,606.425 2257.34,606.381 2264.47,606.438 2271.61,606.431 2278.75,606.446 2285.88,606.405 2293.02,606.446 \"/>\n",
       "<polyline clip-path=\"url(#clip462)\" style=\"stroke:#00a9ad; stroke-linecap:round; stroke-linejoin:round; stroke-width:4; stroke-opacity:1; fill:none\" stroke-dasharray=\"16, 10\" points=\"301.869,410.356 309.006,391.114 316.143,371.886 323.279,352.663 330.416,333.425 337.553,314.179 344.69,294.945 351.826,275.695 358.963,256.452 366.1,237.212 373.237,217.972 380.373,198.729 387.51,179.484 394.647,160.256 401.784,161.177 408.92,183.392 416.057,200.543 423.194,225.474 430.331,236.522 437.467,251.2 444.604,269.55 451.741,289.035 458.878,303.995 466.014,322.52 473.151,336.194 480.288,349.737 487.425,358.619 494.561,363.89 501.698,374.393 508.835,384.589 515.972,393.483 523.108,402.655 530.245,411.291 537.382,418.775 544.519,430.515 551.655,442.264 558.792,451.029 565.929,456.753 573.066,464.879 580.202,469.858 587.339,475.636 594.476,488.827 601.613,487.461 608.749,492.995 615.886,501.446 623.023,501.486 630.16,509.104 637.296,509.854 644.433,512.234 651.57,521.293 658.707,523.628 665.843,524.663 672.98,525.419 680.117,525.711 687.254,532.191 694.39,535.929 701.527,542.007 708.664,546.432 715.801,551.262 722.937,550.281 730.074,554.952 737.211,555.124 744.347,559.079 751.484,562.54 758.621,564.831 765.758,565.31 772.894,564.54 780.031,568.578 787.168,570.329 794.305,568.123 801.441,572.474 808.578,571.654 815.715,572.825 822.852,577.094 829.988,576.904 837.125,576.127 844.262,575.326 851.399,575.919 858.535,576.43 865.672,579.295 872.809,577.879 879.946,579.334 887.082,579.944 894.219,580.68 901.356,581.129 908.493,583.131 915.629,583.188 922.766,583.559 929.903,583.837 937.04,582.978 944.176,583.793 951.313,584.936 958.45,583.788 965.587,583.399 972.723,584.184 979.86,585.122 986.997,586.042 994.134,586.736 1001.27,589.238 1008.41,588.522 1015.54,589.287 1022.68,588.526 1029.82,588.543 1036.95,588.901 1044.09,588.197 1051.23,587.79 1058.36,588.483 1065.5,589.684 1072.64,589.895 1079.77,591.989 1086.91,593.241 1094.05,592.74 1101.18,592.172 1108.32,591.616 1115.46,591.389 1122.6,590.056 1129.73,589.67 1136.87,589.409 1144.01,589.641 1151.14,591.042 1158.28,591.154 1165.42,590.736 1172.55,591.602 1179.69,591.834 1186.83,592.848 1193.96,593.704 1201.1,593.951 1208.24,594.265 1215.37,594.902 1222.51,595.435 1229.65,595.616 1236.78,596.361 1243.92,596.662 1251.06,596.371 1258.19,597.451 1265.33,598.339 1272.47,598.842 1279.6,599.404 1286.74,599.433 1293.88,599.819 1301.01,599.839 1308.15,600.192 1315.29,600.445 1322.42,600.204 1329.56,600.225 1336.7,600.397 1343.83,600.703 1350.97,601.28 1358.11,601.481 1365.24,601.496 1372.38,601.748 1379.52,602.088 1386.65,602.049 1393.79,602.286 1400.93,602.592 1408.06,602.714 1415.2,602.807 1422.34,603.028 1429.48,603.061 1436.61,603.106 1443.75,603.421 1450.89,603.622 1458.02,603.798 1465.16,603.791 1472.3,603.913 1479.43,604.057 1486.57,604.145 1493.71,604.253 1500.84,604.328 1507.98,604.389 1515.12,604.625 1522.25,604.945 1529.39,604.935 1536.53,605.173 1543.66,604.996 1550.8,605.146 1557.94,605.165 1565.07,605.319 1572.21,605.302 1579.35,605.395 1586.48,605.457 1593.62,605.441 1600.76,605.502 1607.89,605.617 1615.03,605.543 1622.17,605.631 1629.3,605.665 1636.44,605.828 1643.58,605.848 1650.71,605.809 1657.85,605.819 1664.99,605.839 1672.12,605.79 1679.26,605.813 1686.4,605.881 1693.53,605.976 1700.67,605.969 1707.81,606.021 1714.94,606.048 1722.08,606.079 1729.22,606.073 1736.36,606.123 1743.49,606.141 1750.63,606.089 1757.77,606.08 1764.9,606.143 1772.04,606.134 1779.18,606.13 1786.31,606.153 1793.45,606.159 1800.59,606.179 1807.72,606.219 1814.86,606.233 1822,606.277 1829.13,606.3 1836.27,606.326 1843.41,606.325 1850.54,606.327 1857.68,606.323 1864.82,606.386 1871.95,606.328 1879.09,606.311 1886.23,606.348 1893.36,606.352 1900.5,606.376 1907.64,606.368 1914.77,606.368 1921.91,606.378 1929.05,606.33 1936.18,606.395 1943.32,606.399 1950.46,606.378 1957.59,606.417 1964.73,606.41 1971.87,606.409 1979,606.408 1986.14,606.423 1993.28,606.424 2000.41,606.43 2007.55,606.437 2014.69,606.45 2021.83,606.396 2028.96,606.449 2036.1,606.457 2043.24,606.452 2050.37,606.457 2057.51,606.447 2064.65,606.437 2071.78,606.461 2078.92,606.464 2086.06,606.451 2093.19,606.462 2100.33,606.456 2107.47,606.449 2114.6,606.46 2121.74,606.459 2128.88,606.447 2136.01,606.471 2143.15,606.462 2150.29,606.475 2157.42,606.471 2164.56,606.473 2171.7,606.469 2178.83,606.477 2185.97,606.475 2193.11,606.48 2200.24,606.471 2207.38,606.485 2214.52,606.471 2221.65,606.488 2228.79,606.488 2235.93,606.49 2243.06,606.489 2250.2,606.491 2257.34,606.488 2264.47,606.491 2271.61,606.492 2278.75,606.491 2285.88,606.489 2293.02,606.493 \"/>\n",
       "<path clip-path=\"url(#clip460)\" d=\"M2000.97 529.676 L2282.4 529.676 L2282.4 166.796 L2000.97 166.796  Z\" fill=\"#ffffff\" fill-rule=\"evenodd\" fill-opacity=\"1\"/>\n",
       "<polyline clip-path=\"url(#clip460)\" style=\"stroke:#000000; stroke-linecap:round; stroke-linejoin:round; stroke-width:4; stroke-opacity:1; fill:none\" points=\"2000.97,529.676 2282.4,529.676 2282.4,166.796 2000.97,166.796 2000.97,529.676 \"/>\n",
       "<polyline clip-path=\"url(#clip460)\" style=\"stroke:#009af9; stroke-linecap:round; stroke-linejoin:round; stroke-width:4; stroke-opacity:1; fill:none\" points=\"2024.42,218.636 2165.13,218.636 \"/>\n",
       "<path clip-path=\"url(#clip460)\" d=\"M2212.61 221.888 L2212.61 223.971 L2193.02 223.971 Q2193.3 228.369 2195.66 230.684 Q2198.05 232.976 2202.28 232.976 Q2204.74 232.976 2207.03 232.374 Q2209.34 231.772 2211.61 230.569 L2211.61 234.596 Q2209.32 235.568 2206.91 236.078 Q2204.51 236.587 2202.03 236.587 Q2195.83 236.587 2192.19 232.976 Q2188.58 229.365 2188.58 223.207 Q2188.58 216.842 2192.01 213.115 Q2195.46 209.365 2201.29 209.365 Q2206.52 209.365 2209.55 212.745 Q2212.61 216.101 2212.61 221.888 M2208.35 220.638 Q2208.3 217.143 2206.38 215.059 Q2204.48 212.976 2201.34 212.976 Q2197.77 212.976 2195.62 214.99 Q2193.49 217.004 2193.16 220.661 L2208.35 220.638 Z\" fill=\"#000000\" fill-rule=\"evenodd\" fill-opacity=\"1\" /><path clip-path=\"url(#clip460)\" d=\"M2240.32 209.99 L2230.94 222.606 L2240.8 235.916 L2235.78 235.916 L2228.23 225.731 L2220.69 235.916 L2215.66 235.916 L2225.73 222.351 L2216.52 209.99 L2221.54 209.99 L2228.42 219.226 L2235.29 209.99 L2240.32 209.99 Z\" fill=\"#000000\" fill-rule=\"evenodd\" fill-opacity=\"1\" /><path clip-path=\"url(#clip460)\" d=\"M2245.96 233.369 L2250.69 233.369 L2250.69 219.226 L2245.52 220.175 L2245.52 217.49 L2250.85 216.587 L2254.02 216.587 L2254.02 233.369 L2258.77 233.369 L2258.77 235.916 L2245.96 235.916 L2245.96 233.369 Z\" fill=\"#000000\" fill-rule=\"evenodd\" fill-opacity=\"1\" /><polyline clip-path=\"url(#clip460)\" style=\"stroke:#e26f46; stroke-linecap:round; stroke-linejoin:round; stroke-width:4; stroke-opacity:1; fill:none\" points=\"2024.42,270.476 2165.13,270.476 \"/>\n",
       "<path clip-path=\"url(#clip460)\" d=\"M2212.61 273.728 L2212.61 275.811 L2193.02 275.811 Q2193.3 280.209 2195.66 282.524 Q2198.05 284.816 2202.28 284.816 Q2204.74 284.816 2207.03 284.214 Q2209.34 283.612 2211.61 282.409 L2211.61 286.436 Q2209.32 287.408 2206.91 287.918 Q2204.51 288.427 2202.03 288.427 Q2195.83 288.427 2192.19 284.816 Q2188.58 281.205 2188.58 275.047 Q2188.58 268.682 2192.01 264.955 Q2195.46 261.205 2201.29 261.205 Q2206.52 261.205 2209.55 264.585 Q2212.61 267.941 2212.61 273.728 M2208.35 272.478 Q2208.3 268.983 2206.38 266.899 Q2204.48 264.816 2201.34 264.816 Q2197.77 264.816 2195.62 266.83 Q2193.49 268.844 2193.16 272.501 L2208.35 272.478 Z\" fill=\"#000000\" fill-rule=\"evenodd\" fill-opacity=\"1\" /><path clip-path=\"url(#clip460)\" d=\"M2240.32 261.83 L2230.94 274.446 L2240.8 287.756 L2235.78 287.756 L2228.23 277.571 L2220.69 287.756 L2215.66 287.756 L2225.73 274.191 L2216.52 261.83 L2221.54 261.83 L2228.42 271.066 L2235.29 261.83 L2240.32 261.83 Z\" fill=\"#000000\" fill-rule=\"evenodd\" fill-opacity=\"1\" /><path clip-path=\"url(#clip460)\" d=\"M2248.56 285.117 L2258.37 285.117 L2258.37 287.756 L2244.53 287.756 L2244.53 285.209 Q2245.32 284.492 2246.77 283.196 Q2254.74 276.135 2254.74 273.959 Q2254.74 272.432 2253.53 271.506 Q2252.33 270.557 2250.36 270.557 Q2249.16 270.557 2247.75 270.973 Q2246.33 271.367 2244.67 272.177 L2244.67 269.33 Q2246.45 268.682 2247.98 268.358 Q2249.53 268.034 2250.85 268.034 Q2254.21 268.034 2256.22 269.561 Q2258.23 271.089 2258.23 273.589 Q2258.23 276.807 2250.57 283.381 Q2249.27 284.492 2248.56 285.117 Z\" fill=\"#000000\" fill-rule=\"evenodd\" fill-opacity=\"1\" /><polyline clip-path=\"url(#clip460)\" style=\"stroke:#3da44d; stroke-linecap:round; stroke-linejoin:round; stroke-width:4; stroke-opacity:1; fill:none\" points=\"2024.42,322.316 2165.13,322.316 \"/>\n",
       "<path clip-path=\"url(#clip460)\" d=\"M2212.61 325.568 L2212.61 327.651 L2193.02 327.651 Q2193.3 332.049 2195.66 334.364 Q2198.05 336.656 2202.28 336.656 Q2204.74 336.656 2207.03 336.054 Q2209.34 335.452 2211.61 334.249 L2211.61 338.276 Q2209.32 339.248 2206.91 339.758 Q2204.51 340.267 2202.03 340.267 Q2195.83 340.267 2192.19 336.656 Q2188.58 333.045 2188.58 326.887 Q2188.58 320.522 2192.01 316.795 Q2195.46 313.045 2201.29 313.045 Q2206.52 313.045 2209.55 316.425 Q2212.61 319.781 2212.61 325.568 M2208.35 324.318 Q2208.3 320.823 2206.38 318.739 Q2204.48 316.656 2201.34 316.656 Q2197.77 316.656 2195.62 318.67 Q2193.49 320.684 2193.16 324.341 L2208.35 324.318 Z\" fill=\"#000000\" fill-rule=\"evenodd\" fill-opacity=\"1\" /><path clip-path=\"url(#clip460)\" d=\"M2240.32 313.67 L2230.94 326.286 L2240.8 339.596 L2235.78 339.596 L2228.23 329.411 L2220.69 339.596 L2215.66 339.596 L2225.73 326.031 L2216.52 313.67 L2221.54 313.67 L2228.42 322.906 L2235.29 313.67 L2240.32 313.67 Z\" fill=\"#000000\" fill-rule=\"evenodd\" fill-opacity=\"1\" /><path clip-path=\"url(#clip460)\" d=\"M2254.48 329.133 Q2256.61 329.549 2257.77 330.823 Q2258.95 332.073 2258.95 333.971 Q2258.95 336.841 2256.75 338.392 Q2254.55 339.943 2250.46 339.943 Q2249.14 339.943 2247.68 339.688 Q2246.24 339.457 2244.62 338.994 L2244.62 336.193 Q2245.83 336.818 2247.19 337.119 Q2248.58 337.42 2250.13 337.42 Q2252.65 337.42 2254.04 336.517 Q2255.43 335.591 2255.43 333.971 Q2255.43 332.258 2254.14 331.378 Q2252.86 330.499 2250.36 330.499 L2248.37 330.499 L2248.37 327.999 L2250.55 327.999 Q2252.72 327.999 2253.83 327.281 Q2254.97 326.54 2254.97 325.151 Q2254.97 323.809 2253.81 323.114 Q2252.65 322.397 2250.46 322.397 Q2249.53 322.397 2248.35 322.605 Q2247.17 322.813 2245.29 323.346 L2245.29 320.684 Q2246.98 320.29 2248.46 320.082 Q2249.95 319.874 2251.22 319.874 Q2254.55 319.874 2256.5 321.239 Q2258.46 322.605 2258.46 324.897 Q2258.46 326.494 2257.42 327.605 Q2256.38 328.716 2254.48 329.133 Z\" fill=\"#000000\" fill-rule=\"evenodd\" fill-opacity=\"1\" /><polyline clip-path=\"url(#clip460)\" style=\"stroke:#c271d2; stroke-linecap:round; stroke-linejoin:round; stroke-width:4; stroke-opacity:1; fill:none\" stroke-dasharray=\"16, 10\" points=\"2024.42,374.156 2165.13,374.156 \"/>\n",
       "<path clip-path=\"url(#clip460)\" d=\"M2212.61 377.408 L2212.61 379.491 L2193.02 379.491 Q2193.3 383.889 2195.66 386.204 Q2198.05 388.496 2202.28 388.496 Q2204.74 388.496 2207.03 387.894 Q2209.34 387.292 2211.61 386.089 L2211.61 390.116 Q2209.32 391.088 2206.91 391.598 Q2204.51 392.107 2202.03 392.107 Q2195.83 392.107 2192.19 388.496 Q2188.58 384.885 2188.58 378.727 Q2188.58 372.362 2192.01 368.635 Q2195.46 364.885 2201.29 364.885 Q2206.52 364.885 2209.55 368.265 Q2212.61 371.621 2212.61 377.408 M2208.35 376.158 Q2208.3 372.663 2206.38 370.579 Q2204.48 368.496 2201.34 368.496 Q2197.77 368.496 2195.62 370.51 Q2193.49 372.524 2193.16 376.181 L2208.35 376.158 Z\" fill=\"#000000\" fill-rule=\"evenodd\" fill-opacity=\"1\" /><path clip-path=\"url(#clip460)\" d=\"M2240.32 365.51 L2230.94 378.126 L2240.8 391.436 L2235.78 391.436 L2228.23 381.251 L2220.69 391.436 L2215.66 391.436 L2225.73 377.871 L2216.52 365.51 L2221.54 365.51 L2228.42 374.746 L2235.29 365.51 L2240.32 365.51 Z\" fill=\"#000000\" fill-rule=\"evenodd\" fill-opacity=\"1\" /><path clip-path=\"url(#clip460)\" d=\"M2228.33 355.417 L2232.58 355.417 L2232.58 360.811 L2228.33 360.811 L2228.33 355.417 M2230.5 364.885 L2230.5 364.885 Z\" fill=\"#000000\" fill-rule=\"evenodd\" fill-opacity=\"1\" /><path clip-path=\"url(#clip460)\" d=\"M2245.96 388.889 L2250.69 388.889 L2250.69 374.746 L2245.52 375.695 L2245.52 373.01 L2250.85 372.107 L2254.02 372.107 L2254.02 388.889 L2258.77 388.889 L2258.77 391.436 L2245.96 391.436 L2245.96 388.889 Z\" fill=\"#000000\" fill-rule=\"evenodd\" fill-opacity=\"1\" /><polyline clip-path=\"url(#clip460)\" style=\"stroke:#ac8d18; stroke-linecap:round; stroke-linejoin:round; stroke-width:4; stroke-opacity:1; fill:none\" stroke-dasharray=\"16, 10\" points=\"2024.42,425.996 2165.13,425.996 \"/>\n",
       "<path clip-path=\"url(#clip460)\" d=\"M2212.61 429.248 L2212.61 431.331 L2193.02 431.331 Q2193.3 435.729 2195.66 438.044 Q2198.05 440.336 2202.28 440.336 Q2204.74 440.336 2207.03 439.734 Q2209.34 439.132 2211.61 437.929 L2211.61 441.956 Q2209.32 442.928 2206.91 443.438 Q2204.51 443.947 2202.03 443.947 Q2195.83 443.947 2192.19 440.336 Q2188.58 436.725 2188.58 430.567 Q2188.58 424.202 2192.01 420.475 Q2195.46 416.725 2201.29 416.725 Q2206.52 416.725 2209.55 420.105 Q2212.61 423.461 2212.61 429.248 M2208.35 427.998 Q2208.3 424.503 2206.38 422.419 Q2204.48 420.336 2201.34 420.336 Q2197.77 420.336 2195.62 422.35 Q2193.49 424.364 2193.16 428.021 L2208.35 427.998 Z\" fill=\"#000000\" fill-rule=\"evenodd\" fill-opacity=\"1\" /><path clip-path=\"url(#clip460)\" d=\"M2240.32 417.35 L2230.94 429.966 L2240.8 443.276 L2235.78 443.276 L2228.23 433.091 L2220.69 443.276 L2215.66 443.276 L2225.73 429.711 L2216.52 417.35 L2221.54 417.35 L2228.42 426.586 L2235.29 417.35 L2240.32 417.35 Z\" fill=\"#000000\" fill-rule=\"evenodd\" fill-opacity=\"1\" /><path clip-path=\"url(#clip460)\" d=\"M2228.33 407.257 L2232.58 407.257 L2232.58 412.651 L2228.33 412.651 L2228.33 407.257 M2230.5 416.725 L2230.5 416.725 Z\" fill=\"#000000\" fill-rule=\"evenodd\" fill-opacity=\"1\" /><path clip-path=\"url(#clip460)\" d=\"M2248.56 440.637 L2258.37 440.637 L2258.37 443.276 L2244.53 443.276 L2244.53 440.729 Q2245.32 440.012 2246.77 438.716 Q2254.74 431.655 2254.74 429.479 Q2254.74 427.952 2253.53 427.026 Q2252.33 426.077 2250.36 426.077 Q2249.16 426.077 2247.75 426.493 Q2246.33 426.887 2244.67 427.697 L2244.67 424.85 Q2246.45 424.202 2247.98 423.878 Q2249.53 423.554 2250.85 423.554 Q2254.21 423.554 2256.22 425.081 Q2258.23 426.609 2258.23 429.109 Q2258.23 432.327 2250.57 438.901 Q2249.27 440.012 2248.56 440.637 Z\" fill=\"#000000\" fill-rule=\"evenodd\" fill-opacity=\"1\" /><polyline clip-path=\"url(#clip460)\" style=\"stroke:#00a9ad; stroke-linecap:round; stroke-linejoin:round; stroke-width:4; stroke-opacity:1; fill:none\" stroke-dasharray=\"16, 10\" points=\"2024.42,477.836 2165.13,477.836 \"/>\n",
       "<path clip-path=\"url(#clip460)\" d=\"M2212.61 481.088 L2212.61 483.171 L2193.02 483.171 Q2193.3 487.569 2195.66 489.884 Q2198.05 492.176 2202.28 492.176 Q2204.74 492.176 2207.03 491.574 Q2209.34 490.972 2211.61 489.769 L2211.61 493.796 Q2209.32 494.768 2206.91 495.278 Q2204.51 495.787 2202.03 495.787 Q2195.83 495.787 2192.19 492.176 Q2188.58 488.565 2188.58 482.407 Q2188.58 476.042 2192.01 472.315 Q2195.46 468.565 2201.29 468.565 Q2206.52 468.565 2209.55 471.945 Q2212.61 475.301 2212.61 481.088 M2208.35 479.838 Q2208.3 476.343 2206.38 474.259 Q2204.48 472.176 2201.34 472.176 Q2197.77 472.176 2195.62 474.19 Q2193.49 476.204 2193.16 479.861 L2208.35 479.838 Z\" fill=\"#000000\" fill-rule=\"evenodd\" fill-opacity=\"1\" /><path clip-path=\"url(#clip460)\" d=\"M2240.32 469.19 L2230.94 481.806 L2240.8 495.116 L2235.78 495.116 L2228.23 484.931 L2220.69 495.116 L2215.66 495.116 L2225.73 481.551 L2216.52 469.19 L2221.54 469.19 L2228.42 478.426 L2235.29 469.19 L2240.32 469.19 Z\" fill=\"#000000\" fill-rule=\"evenodd\" fill-opacity=\"1\" /><path clip-path=\"url(#clip460)\" d=\"M2228.33 459.097 L2232.58 459.097 L2232.58 464.491 L2228.33 464.491 L2228.33 459.097 M2230.5 468.565 L2230.5 468.565 Z\" fill=\"#000000\" fill-rule=\"evenodd\" fill-opacity=\"1\" /><path clip-path=\"url(#clip460)\" d=\"M2254.48 484.653 Q2256.61 485.069 2257.77 486.343 Q2258.95 487.593 2258.95 489.491 Q2258.95 492.361 2256.75 493.912 Q2254.55 495.463 2250.46 495.463 Q2249.14 495.463 2247.68 495.208 Q2246.24 494.977 2244.62 494.514 L2244.62 491.713 Q2245.83 492.338 2247.19 492.639 Q2248.58 492.94 2250.13 492.94 Q2252.65 492.94 2254.04 492.037 Q2255.43 491.111 2255.43 489.491 Q2255.43 487.778 2254.14 486.898 Q2252.86 486.019 2250.36 486.019 L2248.37 486.019 L2248.37 483.519 L2250.55 483.519 Q2252.72 483.519 2253.83 482.801 Q2254.97 482.06 2254.97 480.671 Q2254.97 479.329 2253.81 478.634 Q2252.65 477.917 2250.46 477.917 Q2249.53 477.917 2248.35 478.125 Q2247.17 478.333 2245.29 478.866 L2245.29 476.204 Q2246.98 475.81 2248.46 475.602 Q2249.95 475.394 2251.22 475.394 Q2254.55 475.394 2256.5 476.759 Q2258.46 478.125 2258.46 480.417 Q2258.46 482.014 2257.42 483.125 Q2256.38 484.236 2254.48 484.653 Z\" fill=\"#000000\" fill-rule=\"evenodd\" fill-opacity=\"1\" /></svg>\n"
      ]
     },
     "metadata": {},
     "output_type": "display_data"
    },
    {
     "data": {
      "image/svg+xml": [
       "<?xml version=\"1.0\" encoding=\"utf-8\"?>\n",
       "<svg xmlns=\"http://www.w3.org/2000/svg\" xmlns:xlink=\"http://www.w3.org/1999/xlink\" width=\"600\" height=\"400\" viewBox=\"0 0 2400 1600\">\n",
       "<defs>\n",
       "  <clipPath id=\"clip500\">\n",
       "    <rect x=\"0\" y=\"0\" width=\"2400\" height=\"1600\"/>\n",
       "  </clipPath>\n",
       "</defs>\n",
       "<path clip-path=\"url(#clip500)\" d=\"M0 1600 L2400 1600 L2400 0 L0 0  Z\" fill=\"#ffffff\" fill-rule=\"evenodd\" fill-opacity=\"1\"/>\n",
       "<defs>\n",
       "  <clipPath id=\"clip501\">\n",
       "    <rect x=\"480\" y=\"0\" width=\"1681\" height=\"1600\"/>\n",
       "  </clipPath>\n",
       "</defs>\n",
       "<path clip-path=\"url(#clip500)\" d=\"M234.125 1423.18 L2352.76 1423.18 L2352.76 123.472 L234.125 123.472  Z\" fill=\"#ffffff\" fill-rule=\"evenodd\" fill-opacity=\"1\"/>\n",
       "<defs>\n",
       "  <clipPath id=\"clip502\">\n",
       "    <rect x=\"234\" y=\"123\" width=\"2120\" height=\"1301\"/>\n",
       "  </clipPath>\n",
       "</defs>\n",
       "<polyline clip-path=\"url(#clip502)\" style=\"stroke:#000000; stroke-linecap:round; stroke-linejoin:round; stroke-width:2; stroke-opacity:0.1; fill:none\" points=\"294.087,1423.18 294.087,123.472 \"/>\n",
       "<polyline clip-path=\"url(#clip502)\" style=\"stroke:#000000; stroke-linecap:round; stroke-linejoin:round; stroke-width:2; stroke-opacity:0.1; fill:none\" points=\"654.864,1423.18 654.864,123.472 \"/>\n",
       "<polyline clip-path=\"url(#clip502)\" style=\"stroke:#000000; stroke-linecap:round; stroke-linejoin:round; stroke-width:2; stroke-opacity:0.1; fill:none\" points=\"1015.64,1423.18 1015.64,123.472 \"/>\n",
       "<polyline clip-path=\"url(#clip502)\" style=\"stroke:#000000; stroke-linecap:round; stroke-linejoin:round; stroke-width:2; stroke-opacity:0.1; fill:none\" points=\"1376.42,1423.18 1376.42,123.472 \"/>\n",
       "<polyline clip-path=\"url(#clip502)\" style=\"stroke:#000000; stroke-linecap:round; stroke-linejoin:round; stroke-width:2; stroke-opacity:0.1; fill:none\" points=\"1737.2,1423.18 1737.2,123.472 \"/>\n",
       "<polyline clip-path=\"url(#clip502)\" style=\"stroke:#000000; stroke-linecap:round; stroke-linejoin:round; stroke-width:2; stroke-opacity:0.1; fill:none\" points=\"2097.97,1423.18 2097.97,123.472 \"/>\n",
       "<polyline clip-path=\"url(#clip500)\" style=\"stroke:#000000; stroke-linecap:round; stroke-linejoin:round; stroke-width:4; stroke-opacity:1; fill:none\" points=\"234.125,1423.18 2352.76,1423.18 \"/>\n",
       "<polyline clip-path=\"url(#clip500)\" style=\"stroke:#000000; stroke-linecap:round; stroke-linejoin:round; stroke-width:4; stroke-opacity:1; fill:none\" points=\"294.087,1423.18 294.087,1404.28 \"/>\n",
       "<polyline clip-path=\"url(#clip500)\" style=\"stroke:#000000; stroke-linecap:round; stroke-linejoin:round; stroke-width:4; stroke-opacity:1; fill:none\" points=\"654.864,1423.18 654.864,1404.28 \"/>\n",
       "<polyline clip-path=\"url(#clip500)\" style=\"stroke:#000000; stroke-linecap:round; stroke-linejoin:round; stroke-width:4; stroke-opacity:1; fill:none\" points=\"1015.64,1423.18 1015.64,1404.28 \"/>\n",
       "<polyline clip-path=\"url(#clip500)\" style=\"stroke:#000000; stroke-linecap:round; stroke-linejoin:round; stroke-width:4; stroke-opacity:1; fill:none\" points=\"1376.42,1423.18 1376.42,1404.28 \"/>\n",
       "<polyline clip-path=\"url(#clip500)\" style=\"stroke:#000000; stroke-linecap:round; stroke-linejoin:round; stroke-width:4; stroke-opacity:1; fill:none\" points=\"1737.2,1423.18 1737.2,1404.28 \"/>\n",
       "<polyline clip-path=\"url(#clip500)\" style=\"stroke:#000000; stroke-linecap:round; stroke-linejoin:round; stroke-width:4; stroke-opacity:1; fill:none\" points=\"2097.97,1423.18 2097.97,1404.28 \"/>\n",
       "<path clip-path=\"url(#clip500)\" d=\"M271.471 1454.1 Q267.86 1454.1 266.031 1457.66 Q264.226 1461.2 264.226 1468.33 Q264.226 1475.44 266.031 1479.01 Q267.86 1482.55 271.471 1482.55 Q275.105 1482.55 276.911 1479.01 Q278.74 1475.44 278.74 1468.33 Q278.74 1461.2 276.911 1457.66 Q275.105 1454.1 271.471 1454.1 M271.471 1450.39 Q277.281 1450.39 280.337 1455 Q283.415 1459.58 283.415 1468.33 Q283.415 1477.06 280.337 1481.67 Q277.281 1486.25 271.471 1486.25 Q265.661 1486.25 262.582 1481.67 Q259.527 1477.06 259.527 1468.33 Q259.527 1459.58 262.582 1455 Q265.661 1450.39 271.471 1450.39 Z\" fill=\"#000000\" fill-rule=\"evenodd\" fill-opacity=\"1\" /><path clip-path=\"url(#clip500)\" d=\"M291.633 1479.7 L296.517 1479.7 L296.517 1485.58 L291.633 1485.58 L291.633 1479.7 Z\" fill=\"#000000\" fill-rule=\"evenodd\" fill-opacity=\"1\" /><path clip-path=\"url(#clip500)\" d=\"M316.702 1454.1 Q313.091 1454.1 311.263 1457.66 Q309.457 1461.2 309.457 1468.33 Q309.457 1475.44 311.263 1479.01 Q313.091 1482.55 316.702 1482.55 Q320.337 1482.55 322.142 1479.01 Q323.971 1475.44 323.971 1468.33 Q323.971 1461.2 322.142 1457.66 Q320.337 1454.1 316.702 1454.1 M316.702 1450.39 Q322.512 1450.39 325.568 1455 Q328.647 1459.58 328.647 1468.33 Q328.647 1477.06 325.568 1481.67 Q322.512 1486.25 316.702 1486.25 Q310.892 1486.25 307.813 1481.67 Q304.758 1477.06 304.758 1468.33 Q304.758 1459.58 307.813 1455 Q310.892 1450.39 316.702 1450.39 Z\" fill=\"#000000\" fill-rule=\"evenodd\" fill-opacity=\"1\" /><path clip-path=\"url(#clip500)\" d=\"M626.601 1481.64 L642.92 1481.64 L642.92 1485.58 L620.976 1485.58 L620.976 1481.64 Q623.638 1478.89 628.221 1474.26 Q632.827 1469.61 634.008 1468.27 Q636.253 1465.74 637.133 1464.01 Q638.036 1462.25 638.036 1460.56 Q638.036 1457.8 636.091 1456.07 Q634.17 1454.33 631.068 1454.33 Q628.869 1454.33 626.415 1455.09 Q623.985 1455.86 621.207 1457.41 L621.207 1452.69 Q624.031 1451.55 626.485 1450.97 Q628.939 1450.39 630.976 1450.39 Q636.346 1450.39 639.54 1453.08 Q642.735 1455.77 642.735 1460.26 Q642.735 1462.39 641.925 1464.31 Q641.138 1466.2 639.031 1468.8 Q638.452 1469.47 635.351 1472.69 Q632.249 1475.88 626.601 1481.64 Z\" fill=\"#000000\" fill-rule=\"evenodd\" fill-opacity=\"1\" /><path clip-path=\"url(#clip500)\" d=\"M652.735 1479.7 L657.619 1479.7 L657.619 1485.58 L652.735 1485.58 L652.735 1479.7 Z\" fill=\"#000000\" fill-rule=\"evenodd\" fill-opacity=\"1\" /><path clip-path=\"url(#clip500)\" d=\"M667.85 1451.02 L686.207 1451.02 L686.207 1454.96 L672.133 1454.96 L672.133 1463.43 Q673.151 1463.08 674.17 1462.92 Q675.188 1462.73 676.207 1462.73 Q681.994 1462.73 685.373 1465.9 Q688.753 1469.08 688.753 1474.49 Q688.753 1480.07 685.281 1483.17 Q681.809 1486.25 675.489 1486.25 Q673.313 1486.25 671.045 1485.88 Q668.799 1485.51 666.392 1484.77 L666.392 1480.07 Q668.475 1481.2 670.698 1481.76 Q672.92 1482.32 675.397 1482.32 Q679.401 1482.32 681.739 1480.21 Q684.077 1478.1 684.077 1474.49 Q684.077 1470.88 681.739 1468.77 Q679.401 1466.67 675.397 1466.67 Q673.522 1466.67 671.647 1467.08 Q669.795 1467.5 667.85 1468.38 L667.85 1451.02 Z\" fill=\"#000000\" fill-rule=\"evenodd\" fill-opacity=\"1\" /><path clip-path=\"url(#clip500)\" d=\"M982.806 1451.02 L1001.16 1451.02 L1001.16 1454.96 L987.089 1454.96 L987.089 1463.43 Q988.107 1463.08 989.126 1462.92 Q990.144 1462.73 991.163 1462.73 Q996.95 1462.73 1000.33 1465.9 Q1003.71 1469.08 1003.71 1474.49 Q1003.71 1480.07 1000.24 1483.17 Q996.765 1486.25 990.445 1486.25 Q988.269 1486.25 986.001 1485.88 Q983.755 1485.51 981.348 1484.77 L981.348 1480.07 Q983.431 1481.2 985.654 1481.76 Q987.876 1482.32 990.353 1482.32 Q994.357 1482.32 996.695 1480.21 Q999.033 1478.1 999.033 1474.49 Q999.033 1470.88 996.695 1468.77 Q994.357 1466.67 990.353 1466.67 Q988.478 1466.67 986.603 1467.08 Q984.751 1467.5 982.806 1468.38 L982.806 1451.02 Z\" fill=\"#000000\" fill-rule=\"evenodd\" fill-opacity=\"1\" /><path clip-path=\"url(#clip500)\" d=\"M1012.92 1479.7 L1017.81 1479.7 L1017.81 1485.58 L1012.92 1485.58 L1012.92 1479.7 Z\" fill=\"#000000\" fill-rule=\"evenodd\" fill-opacity=\"1\" /><path clip-path=\"url(#clip500)\" d=\"M1037.99 1454.1 Q1034.38 1454.1 1032.55 1457.66 Q1030.75 1461.2 1030.75 1468.33 Q1030.75 1475.44 1032.55 1479.01 Q1034.38 1482.55 1037.99 1482.55 Q1041.63 1482.55 1043.43 1479.01 Q1045.26 1475.44 1045.26 1468.33 Q1045.26 1461.2 1043.43 1457.66 Q1041.63 1454.1 1037.99 1454.1 M1037.99 1450.39 Q1043.8 1450.39 1046.86 1455 Q1049.94 1459.58 1049.94 1468.33 Q1049.94 1477.06 1046.86 1481.67 Q1043.8 1486.25 1037.99 1486.25 Q1032.18 1486.25 1029.1 1481.67 Q1026.05 1477.06 1026.05 1468.33 Q1026.05 1459.58 1029.1 1455 Q1032.18 1450.39 1037.99 1450.39 Z\" fill=\"#000000\" fill-rule=\"evenodd\" fill-opacity=\"1\" /><path clip-path=\"url(#clip500)\" d=\"M1342.74 1451.02 L1364.96 1451.02 L1364.96 1453.01 L1352.41 1485.58 L1347.53 1485.58 L1359.34 1454.96 L1342.74 1454.96 L1342.74 1451.02 Z\" fill=\"#000000\" fill-rule=\"evenodd\" fill-opacity=\"1\" /><path clip-path=\"url(#clip500)\" d=\"M1374.08 1479.7 L1378.97 1479.7 L1378.97 1485.58 L1374.08 1485.58 L1374.08 1479.7 Z\" fill=\"#000000\" fill-rule=\"evenodd\" fill-opacity=\"1\" /><path clip-path=\"url(#clip500)\" d=\"M1389.2 1451.02 L1407.55 1451.02 L1407.55 1454.96 L1393.48 1454.96 L1393.48 1463.43 Q1394.5 1463.08 1395.52 1462.92 Q1396.54 1462.73 1397.55 1462.73 Q1403.34 1462.73 1406.72 1465.9 Q1410.1 1469.08 1410.1 1474.49 Q1410.1 1480.07 1406.63 1483.17 Q1403.16 1486.25 1396.84 1486.25 Q1394.66 1486.25 1392.39 1485.88 Q1390.15 1485.51 1387.74 1484.77 L1387.74 1480.07 Q1389.82 1481.2 1392.04 1481.76 Q1394.27 1482.32 1396.74 1482.32 Q1400.75 1482.32 1403.09 1480.21 Q1405.42 1478.1 1405.42 1474.49 Q1405.42 1470.88 1403.09 1468.77 Q1400.75 1466.67 1396.74 1466.67 Q1394.87 1466.67 1392.99 1467.08 Q1391.14 1467.5 1389.2 1468.38 L1389.2 1451.02 Z\" fill=\"#000000\" fill-rule=\"evenodd\" fill-opacity=\"1\" /><path clip-path=\"url(#clip500)\" d=\"M1689.27 1481.64 L1696.91 1481.64 L1696.91 1455.28 L1688.6 1456.95 L1688.6 1452.69 L1696.86 1451.02 L1701.54 1451.02 L1701.54 1481.64 L1709.18 1481.64 L1709.18 1485.58 L1689.27 1485.58 L1689.27 1481.64 Z\" fill=\"#000000\" fill-rule=\"evenodd\" fill-opacity=\"1\" /><path clip-path=\"url(#clip500)\" d=\"M1728.62 1454.1 Q1725.01 1454.1 1723.18 1457.66 Q1721.38 1461.2 1721.38 1468.33 Q1721.38 1475.44 1723.18 1479.01 Q1725.01 1482.55 1728.62 1482.55 Q1732.25 1482.55 1734.06 1479.01 Q1735.89 1475.44 1735.89 1468.33 Q1735.89 1461.2 1734.06 1457.66 Q1732.25 1454.1 1728.62 1454.1 M1728.62 1450.39 Q1734.43 1450.39 1737.49 1455 Q1740.57 1459.58 1740.57 1468.33 Q1740.57 1477.06 1737.49 1481.67 Q1734.43 1486.25 1728.62 1486.25 Q1722.81 1486.25 1719.73 1481.67 Q1716.68 1477.06 1716.68 1468.33 Q1716.68 1459.58 1719.73 1455 Q1722.81 1450.39 1728.62 1450.39 Z\" fill=\"#000000\" fill-rule=\"evenodd\" fill-opacity=\"1\" /><path clip-path=\"url(#clip500)\" d=\"M1748.78 1479.7 L1753.67 1479.7 L1753.67 1485.58 L1748.78 1485.58 L1748.78 1479.7 Z\" fill=\"#000000\" fill-rule=\"evenodd\" fill-opacity=\"1\" /><path clip-path=\"url(#clip500)\" d=\"M1773.85 1454.1 Q1770.24 1454.1 1768.41 1457.66 Q1766.61 1461.2 1766.61 1468.33 Q1766.61 1475.44 1768.41 1479.01 Q1770.24 1482.55 1773.85 1482.55 Q1777.49 1482.55 1779.29 1479.01 Q1781.12 1475.44 1781.12 1468.33 Q1781.12 1461.2 1779.29 1457.66 Q1777.49 1454.1 1773.85 1454.1 M1773.85 1450.39 Q1779.66 1450.39 1782.72 1455 Q1785.8 1459.58 1785.8 1468.33 Q1785.8 1477.06 1782.72 1481.67 Q1779.66 1486.25 1773.85 1486.25 Q1768.04 1486.25 1764.96 1481.67 Q1761.91 1477.06 1761.91 1468.33 Q1761.91 1459.58 1764.96 1455 Q1768.04 1450.39 1773.85 1450.39 Z\" fill=\"#000000\" fill-rule=\"evenodd\" fill-opacity=\"1\" /><path clip-path=\"url(#clip500)\" d=\"M2050.54 1481.64 L2058.18 1481.64 L2058.18 1455.28 L2049.87 1456.95 L2049.87 1452.69 L2058.14 1451.02 L2062.81 1451.02 L2062.81 1481.64 L2070.45 1481.64 L2070.45 1485.58 L2050.54 1485.58 L2050.54 1481.64 Z\" fill=\"#000000\" fill-rule=\"evenodd\" fill-opacity=\"1\" /><path clip-path=\"url(#clip500)\" d=\"M2083.92 1481.64 L2100.24 1481.64 L2100.24 1485.58 L2078.3 1485.58 L2078.3 1481.64 Q2080.96 1478.89 2085.54 1474.26 Q2090.15 1469.61 2091.33 1468.27 Q2093.58 1465.74 2094.46 1464.01 Q2095.36 1462.25 2095.36 1460.56 Q2095.36 1457.8 2093.41 1456.07 Q2091.49 1454.33 2088.39 1454.33 Q2086.19 1454.33 2083.74 1455.09 Q2081.31 1455.86 2078.53 1457.41 L2078.53 1452.69 Q2081.35 1451.55 2083.81 1450.97 Q2086.26 1450.39 2088.3 1450.39 Q2093.67 1450.39 2096.86 1453.08 Q2100.06 1455.77 2100.06 1460.26 Q2100.06 1462.39 2099.25 1464.31 Q2098.46 1466.2 2096.35 1468.8 Q2095.78 1469.47 2092.67 1472.69 Q2089.57 1475.88 2083.92 1481.64 Z\" fill=\"#000000\" fill-rule=\"evenodd\" fill-opacity=\"1\" /><path clip-path=\"url(#clip500)\" d=\"M2110.06 1479.7 L2114.94 1479.7 L2114.94 1485.58 L2110.06 1485.58 L2110.06 1479.7 Z\" fill=\"#000000\" fill-rule=\"evenodd\" fill-opacity=\"1\" /><path clip-path=\"url(#clip500)\" d=\"M2125.17 1451.02 L2143.53 1451.02 L2143.53 1454.96 L2129.46 1454.96 L2129.46 1463.43 Q2130.47 1463.08 2131.49 1462.92 Q2132.51 1462.73 2133.53 1462.73 Q2139.32 1462.73 2142.7 1465.9 Q2146.08 1469.08 2146.08 1474.49 Q2146.08 1480.07 2142.6 1483.17 Q2139.13 1486.25 2132.81 1486.25 Q2130.64 1486.25 2128.37 1485.88 Q2126.12 1485.51 2123.72 1484.77 L2123.72 1480.07 Q2125.8 1481.2 2128.02 1481.76 Q2130.24 1482.32 2132.72 1482.32 Q2136.72 1482.32 2139.06 1480.21 Q2141.4 1478.1 2141.4 1474.49 Q2141.4 1470.88 2139.06 1468.77 Q2136.72 1466.67 2132.72 1466.67 Q2130.84 1466.67 2128.97 1467.08 Q2127.12 1467.5 2125.17 1468.38 L2125.17 1451.02 Z\" fill=\"#000000\" fill-rule=\"evenodd\" fill-opacity=\"1\" /><path clip-path=\"url(#clip500)\" d=\"M1180.89 1522.27 L1180.89 1532.4 L1192.96 1532.4 L1192.96 1536.95 L1180.89 1536.95 L1180.89 1556.3 Q1180.89 1560.66 1182.07 1561.9 Q1183.28 1563.14 1186.94 1563.14 L1192.96 1563.14 L1192.96 1568.04 L1186.94 1568.04 Q1180.16 1568.04 1177.58 1565.53 Q1175.01 1562.98 1175.01 1556.3 L1175.01 1536.95 L1170.71 1536.95 L1170.71 1532.4 L1175.01 1532.4 L1175.01 1522.27 L1180.89 1522.27 Z\" fill=\"#000000\" fill-rule=\"evenodd\" fill-opacity=\"1\" /><path clip-path=\"url(#clip500)\" d=\"M1200.66 1532.4 L1206.52 1532.4 L1206.52 1568.04 L1200.66 1568.04 L1200.66 1532.4 M1200.66 1518.52 L1206.52 1518.52 L1206.52 1525.93 L1200.66 1525.93 L1200.66 1518.52 Z\" fill=\"#000000\" fill-rule=\"evenodd\" fill-opacity=\"1\" /><path clip-path=\"url(#clip500)\" d=\"M1246.53 1539.24 Q1248.72 1535.29 1251.78 1533.41 Q1254.83 1531.54 1258.97 1531.54 Q1264.54 1531.54 1267.56 1535.45 Q1270.59 1539.33 1270.59 1546.53 L1270.59 1568.04 L1264.7 1568.04 L1264.7 1546.72 Q1264.7 1541.59 1262.89 1539.11 Q1261.07 1536.63 1257.35 1536.63 Q1252.8 1536.63 1250.15 1539.65 Q1247.51 1542.68 1247.51 1547.9 L1247.51 1568.04 L1241.62 1568.04 L1241.62 1546.72 Q1241.62 1541.56 1239.81 1539.11 Q1238 1536.63 1234.21 1536.63 Q1229.72 1536.63 1227.08 1539.68 Q1224.44 1542.71 1224.44 1547.9 L1224.44 1568.04 L1218.55 1568.04 L1218.55 1532.4 L1224.44 1532.4 L1224.44 1537.93 Q1226.44 1534.66 1229.24 1533.1 Q1232.04 1531.54 1235.89 1531.54 Q1239.78 1531.54 1242.48 1533.51 Q1245.22 1535.48 1246.53 1539.24 Z\" fill=\"#000000\" fill-rule=\"evenodd\" fill-opacity=\"1\" /><path clip-path=\"url(#clip500)\" d=\"M1312.76 1548.76 L1312.76 1551.62 L1285.83 1551.62 Q1286.22 1557.67 1289.46 1560.85 Q1292.74 1564 1298.57 1564 Q1301.94 1564 1305.09 1563.17 Q1308.27 1562.35 1311.39 1560.69 L1311.39 1566.23 Q1308.24 1567.57 1304.93 1568.27 Q1301.62 1568.97 1298.21 1568.97 Q1289.68 1568.97 1284.69 1564 Q1279.72 1559.04 1279.72 1550.57 Q1279.72 1541.82 1284.43 1536.69 Q1289.18 1531.54 1297.2 1531.54 Q1304.39 1531.54 1308.56 1536.18 Q1312.76 1540.8 1312.76 1548.76 M1306.9 1547.04 Q1306.84 1542.23 1304.2 1539.37 Q1301.59 1536.5 1297.26 1536.5 Q1292.36 1536.5 1289.4 1539.27 Q1286.47 1542.04 1286.02 1547.07 L1306.9 1547.04 Z\" fill=\"#000000\" fill-rule=\"evenodd\" fill-opacity=\"1\" /><path clip-path=\"url(#clip500)\" d=\"M1357.16 1518.58 Q1352.9 1525.9 1350.83 1533.06 Q1348.76 1540.23 1348.76 1547.58 Q1348.76 1554.93 1350.83 1562.16 Q1352.93 1569.35 1357.16 1576.64 L1352.07 1576.64 Q1347.29 1569.16 1344.91 1561.93 Q1342.55 1554.71 1342.55 1547.58 Q1342.55 1540.48 1344.91 1533.29 Q1347.26 1526.09 1352.07 1518.58 L1357.16 1518.58 Z\" fill=\"#000000\" fill-rule=\"evenodd\" fill-opacity=\"1\" /><path clip-path=\"url(#clip500)\" d=\"M1391.25 1533.45 L1391.25 1538.98 Q1388.77 1537.71 1386.09 1537.07 Q1383.42 1536.44 1380.56 1536.44 Q1376.19 1536.44 1374 1537.77 Q1371.83 1539.11 1371.83 1541.79 Q1371.83 1543.82 1373.39 1545 Q1374.95 1546.15 1379.66 1547.2 L1381.67 1547.64 Q1387.91 1548.98 1390.52 1551.43 Q1393.16 1553.85 1393.16 1558.21 Q1393.16 1563.17 1389.21 1566.07 Q1385.3 1568.97 1378.42 1568.97 Q1375.56 1568.97 1372.44 1568.39 Q1369.35 1567.85 1365.91 1566.74 L1365.91 1560.69 Q1369.16 1562.38 1372.31 1563.24 Q1375.46 1564.07 1378.55 1564.07 Q1382.69 1564.07 1384.92 1562.66 Q1387.14 1561.23 1387.14 1558.65 Q1387.14 1556.27 1385.52 1554.99 Q1383.93 1553.72 1378.49 1552.54 L1376.45 1552.07 Q1371.01 1550.92 1368.59 1548.56 Q1366.17 1546.18 1366.17 1542.04 Q1366.17 1537.01 1369.73 1534.27 Q1373.3 1531.54 1379.86 1531.54 Q1383.1 1531.54 1385.97 1532.01 Q1388.83 1532.49 1391.25 1533.45 Z\" fill=\"#000000\" fill-rule=\"evenodd\" fill-opacity=\"1\" /><path clip-path=\"url(#clip500)\" d=\"M1401.56 1518.58 L1406.65 1518.58 Q1411.43 1526.09 1413.78 1533.29 Q1416.17 1540.48 1416.17 1547.58 Q1416.17 1554.71 1413.78 1561.93 Q1411.43 1569.16 1406.65 1576.64 L1401.56 1576.64 Q1405.8 1569.35 1407.86 1562.16 Q1409.96 1554.93 1409.96 1547.58 Q1409.96 1540.23 1407.86 1533.06 Q1405.8 1525.9 1401.56 1518.58 Z\" fill=\"#000000\" fill-rule=\"evenodd\" fill-opacity=\"1\" /><polyline clip-path=\"url(#clip502)\" style=\"stroke:#000000; stroke-linecap:round; stroke-linejoin:round; stroke-width:2; stroke-opacity:0.1; fill:none\" points=\"234.125,1301.26 2352.76,1301.26 \"/>\n",
       "<polyline clip-path=\"url(#clip502)\" style=\"stroke:#000000; stroke-linecap:round; stroke-linejoin:round; stroke-width:2; stroke-opacity:0.1; fill:none\" points=\"234.125,1047.94 2352.76,1047.94 \"/>\n",
       "<polyline clip-path=\"url(#clip502)\" style=\"stroke:#000000; stroke-linecap:round; stroke-linejoin:round; stroke-width:2; stroke-opacity:0.1; fill:none\" points=\"234.125,794.625 2352.76,794.625 \"/>\n",
       "<polyline clip-path=\"url(#clip502)\" style=\"stroke:#000000; stroke-linecap:round; stroke-linejoin:round; stroke-width:2; stroke-opacity:0.1; fill:none\" points=\"234.125,541.308 2352.76,541.308 \"/>\n",
       "<polyline clip-path=\"url(#clip502)\" style=\"stroke:#000000; stroke-linecap:round; stroke-linejoin:round; stroke-width:2; stroke-opacity:0.1; fill:none\" points=\"234.125,287.991 2352.76,287.991 \"/>\n",
       "<polyline clip-path=\"url(#clip500)\" style=\"stroke:#000000; stroke-linecap:round; stroke-linejoin:round; stroke-width:4; stroke-opacity:1; fill:none\" points=\"234.125,1423.18 234.125,123.472 \"/>\n",
       "<polyline clip-path=\"url(#clip500)\" style=\"stroke:#000000; stroke-linecap:round; stroke-linejoin:round; stroke-width:4; stroke-opacity:1; fill:none\" points=\"234.125,1301.26 253.023,1301.26 \"/>\n",
       "<polyline clip-path=\"url(#clip500)\" style=\"stroke:#000000; stroke-linecap:round; stroke-linejoin:round; stroke-width:4; stroke-opacity:1; fill:none\" points=\"234.125,1047.94 253.023,1047.94 \"/>\n",
       "<polyline clip-path=\"url(#clip500)\" style=\"stroke:#000000; stroke-linecap:round; stroke-linejoin:round; stroke-width:4; stroke-opacity:1; fill:none\" points=\"234.125,794.625 253.023,794.625 \"/>\n",
       "<polyline clip-path=\"url(#clip500)\" style=\"stroke:#000000; stroke-linecap:round; stroke-linejoin:round; stroke-width:4; stroke-opacity:1; fill:none\" points=\"234.125,541.308 253.023,541.308 \"/>\n",
       "<polyline clip-path=\"url(#clip500)\" style=\"stroke:#000000; stroke-linecap:round; stroke-linejoin:round; stroke-width:4; stroke-opacity:1; fill:none\" points=\"234.125,287.991 253.023,287.991 \"/>\n",
       "<path clip-path=\"url(#clip500)\" d=\"M186.181 1287.06 Q182.57 1287.06 180.741 1290.62 Q178.936 1294.16 178.936 1301.29 Q178.936 1308.4 180.741 1311.97 Q182.57 1315.51 186.181 1315.51 Q189.815 1315.51 191.621 1311.97 Q193.45 1308.4 193.45 1301.29 Q193.45 1294.16 191.621 1290.62 Q189.815 1287.06 186.181 1287.06 M186.181 1283.35 Q191.991 1283.35 195.047 1287.96 Q198.125 1292.54 198.125 1301.29 Q198.125 1310.02 195.047 1314.63 Q191.991 1319.21 186.181 1319.21 Q180.371 1319.21 177.292 1314.63 Q174.237 1310.02 174.237 1301.29 Q174.237 1292.54 177.292 1287.96 Q180.371 1283.35 186.181 1283.35 Z\" fill=\"#000000\" fill-rule=\"evenodd\" fill-opacity=\"1\" /><path clip-path=\"url(#clip500)\" d=\"M146.066 1030.66 L164.422 1030.66 L164.422 1034.6 L150.348 1034.6 L150.348 1043.07 Q151.366 1042.72 152.385 1042.56 Q153.403 1042.38 154.422 1042.38 Q160.209 1042.38 163.589 1045.55 Q166.968 1048.72 166.968 1054.13 Q166.968 1059.71 163.496 1062.81 Q160.024 1065.89 153.704 1065.89 Q151.528 1065.89 149.26 1065.52 Q147.015 1065.15 144.607 1064.41 L144.607 1059.71 Q146.691 1060.85 148.913 1061.4 Q151.135 1061.96 153.612 1061.96 Q157.616 1061.96 159.954 1059.85 Q162.292 1057.75 162.292 1054.13 Q162.292 1050.52 159.954 1048.42 Q157.616 1046.31 153.612 1046.31 Q151.737 1046.31 149.862 1046.73 Q148.01 1047.14 146.066 1048.02 L146.066 1030.66 Z\" fill=\"#000000\" fill-rule=\"evenodd\" fill-opacity=\"1\" /><path clip-path=\"url(#clip500)\" d=\"M186.181 1033.74 Q182.57 1033.74 180.741 1037.31 Q178.936 1040.85 178.936 1047.98 Q178.936 1055.08 180.741 1058.65 Q182.57 1062.19 186.181 1062.19 Q189.815 1062.19 191.621 1058.65 Q193.45 1055.08 193.45 1047.98 Q193.45 1040.85 191.621 1037.31 Q189.815 1033.74 186.181 1033.74 M186.181 1030.04 Q191.991 1030.04 195.047 1034.64 Q198.125 1039.23 198.125 1047.98 Q198.125 1056.7 195.047 1061.31 Q191.991 1065.89 186.181 1065.89 Q180.371 1065.89 177.292 1061.31 Q174.237 1056.7 174.237 1047.98 Q174.237 1039.23 177.292 1034.64 Q180.371 1030.04 186.181 1030.04 Z\" fill=\"#000000\" fill-rule=\"evenodd\" fill-opacity=\"1\" /><path clip-path=\"url(#clip500)\" d=\"M116.668 807.97 L124.306 807.97 L124.306 781.604 L115.996 783.271 L115.996 779.012 L124.26 777.345 L128.936 777.345 L128.936 807.97 L136.575 807.97 L136.575 811.905 L116.668 811.905 L116.668 807.97 Z\" fill=\"#000000\" fill-rule=\"evenodd\" fill-opacity=\"1\" /><path clip-path=\"url(#clip500)\" d=\"M156.019 780.424 Q152.408 780.424 150.579 783.989 Q148.774 787.53 148.774 794.66 Q148.774 801.766 150.579 805.331 Q152.408 808.873 156.019 808.873 Q159.653 808.873 161.459 805.331 Q163.288 801.766 163.288 794.66 Q163.288 787.53 161.459 783.989 Q159.653 780.424 156.019 780.424 M156.019 776.72 Q161.829 776.72 164.885 781.327 Q167.964 785.91 167.964 794.66 Q167.964 803.387 164.885 807.993 Q161.829 812.576 156.019 812.576 Q150.209 812.576 147.13 807.993 Q144.075 803.387 144.075 794.66 Q144.075 785.91 147.13 781.327 Q150.209 776.72 156.019 776.72 Z\" fill=\"#000000\" fill-rule=\"evenodd\" fill-opacity=\"1\" /><path clip-path=\"url(#clip500)\" d=\"M186.181 780.424 Q182.57 780.424 180.741 783.989 Q178.936 787.53 178.936 794.66 Q178.936 801.766 180.741 805.331 Q182.57 808.873 186.181 808.873 Q189.815 808.873 191.621 805.331 Q193.45 801.766 193.45 794.66 Q193.45 787.53 191.621 783.989 Q189.815 780.424 186.181 780.424 M186.181 776.72 Q191.991 776.72 195.047 781.327 Q198.125 785.91 198.125 794.66 Q198.125 803.387 195.047 807.993 Q191.991 812.576 186.181 812.576 Q180.371 812.576 177.292 807.993 Q174.237 803.387 174.237 794.66 Q174.237 785.91 177.292 781.327 Q180.371 776.72 186.181 776.72 Z\" fill=\"#000000\" fill-rule=\"evenodd\" fill-opacity=\"1\" /><path clip-path=\"url(#clip500)\" d=\"M116.668 554.653 L124.306 554.653 L124.306 528.287 L115.996 529.954 L115.996 525.694 L124.26 524.028 L128.936 524.028 L128.936 554.653 L136.575 554.653 L136.575 558.588 L116.668 558.588 L116.668 554.653 Z\" fill=\"#000000\" fill-rule=\"evenodd\" fill-opacity=\"1\" /><path clip-path=\"url(#clip500)\" d=\"M146.066 524.028 L164.422 524.028 L164.422 527.963 L150.348 527.963 L150.348 536.435 Q151.366 536.088 152.385 535.926 Q153.403 535.741 154.422 535.741 Q160.209 535.741 163.589 538.912 Q166.968 542.083 166.968 547.5 Q166.968 553.079 163.496 556.18 Q160.024 559.259 153.704 559.259 Q151.528 559.259 149.26 558.889 Q147.015 558.518 144.607 557.778 L144.607 553.079 Q146.691 554.213 148.913 554.768 Q151.135 555.324 153.612 555.324 Q157.616 555.324 159.954 553.217 Q162.292 551.111 162.292 547.5 Q162.292 543.889 159.954 541.782 Q157.616 539.676 153.612 539.676 Q151.737 539.676 149.862 540.093 Q148.01 540.509 146.066 541.389 L146.066 524.028 Z\" fill=\"#000000\" fill-rule=\"evenodd\" fill-opacity=\"1\" /><path clip-path=\"url(#clip500)\" d=\"M186.181 527.107 Q182.57 527.107 180.741 530.671 Q178.936 534.213 178.936 541.343 Q178.936 548.449 180.741 552.014 Q182.57 555.555 186.181 555.555 Q189.815 555.555 191.621 552.014 Q193.45 548.449 193.45 541.343 Q193.45 534.213 191.621 530.671 Q189.815 527.107 186.181 527.107 M186.181 523.403 Q191.991 523.403 195.047 528.009 Q198.125 532.593 198.125 541.343 Q198.125 550.069 195.047 554.676 Q191.991 559.259 186.181 559.259 Q180.371 559.259 177.292 554.676 Q174.237 550.069 174.237 541.343 Q174.237 532.593 177.292 528.009 Q180.371 523.403 186.181 523.403 Z\" fill=\"#000000\" fill-rule=\"evenodd\" fill-opacity=\"1\" /><path clip-path=\"url(#clip500)\" d=\"M119.885 301.335 L136.204 301.335 L136.204 305.271 L114.26 305.271 L114.26 301.335 Q116.922 298.581 121.505 293.951 Q126.112 289.298 127.292 287.956 Q129.538 285.433 130.417 283.697 Q131.32 281.937 131.32 280.248 Q131.32 277.493 129.376 275.757 Q127.455 274.021 124.353 274.021 Q122.154 274.021 119.7 274.785 Q117.269 275.549 114.492 277.099 L114.492 272.377 Q117.316 271.243 119.769 270.664 Q122.223 270.086 124.26 270.086 Q129.63 270.086 132.825 272.771 Q136.019 275.456 136.019 279.947 Q136.019 282.076 135.209 283.998 Q134.422 285.896 132.316 288.488 Q131.737 289.16 128.635 292.377 Q125.533 295.572 119.885 301.335 Z\" fill=\"#000000\" fill-rule=\"evenodd\" fill-opacity=\"1\" /><path clip-path=\"url(#clip500)\" d=\"M156.019 273.789 Q152.408 273.789 150.579 277.354 Q148.774 280.896 148.774 288.025 Q148.774 295.132 150.579 298.697 Q152.408 302.238 156.019 302.238 Q159.653 302.238 161.459 298.697 Q163.288 295.132 163.288 288.025 Q163.288 280.896 161.459 277.354 Q159.653 273.789 156.019 273.789 M156.019 270.086 Q161.829 270.086 164.885 274.692 Q167.964 279.275 167.964 288.025 Q167.964 296.752 164.885 301.359 Q161.829 305.942 156.019 305.942 Q150.209 305.942 147.13 301.359 Q144.075 296.752 144.075 288.025 Q144.075 279.275 147.13 274.692 Q150.209 270.086 156.019 270.086 Z\" fill=\"#000000\" fill-rule=\"evenodd\" fill-opacity=\"1\" /><path clip-path=\"url(#clip500)\" d=\"M186.181 273.789 Q182.57 273.789 180.741 277.354 Q178.936 280.896 178.936 288.025 Q178.936 295.132 180.741 298.697 Q182.57 302.238 186.181 302.238 Q189.815 302.238 191.621 298.697 Q193.45 295.132 193.45 288.025 Q193.45 280.896 191.621 277.354 Q189.815 273.789 186.181 273.789 M186.181 270.086 Q191.991 270.086 195.047 274.692 Q198.125 279.275 198.125 288.025 Q198.125 296.752 195.047 301.359 Q191.991 305.942 186.181 305.942 Q180.371 305.942 177.292 301.359 Q174.237 296.752 174.237 288.025 Q174.237 279.275 177.292 274.692 Q180.371 270.086 186.181 270.086 Z\" fill=\"#000000\" fill-rule=\"evenodd\" fill-opacity=\"1\" /><path clip-path=\"url(#clip500)\" d=\"M49.9359 788.254 L28.3562 788.254 L28.3562 782.397 L49.7131 782.397 Q54.7739 782.397 57.3202 780.424 Q59.8346 778.45 59.8346 774.504 Q59.8346 769.761 56.8109 767.024 Q53.7872 764.255 48.5673 764.255 L28.3562 764.255 L28.3562 758.398 L64.0042 758.398 L64.0042 764.255 L58.5296 764.255 Q61.7762 766.387 63.3676 769.22 Q64.9272 772.021 64.9272 775.745 Q64.9272 781.888 61.1078 785.071 Q57.2883 788.254 49.9359 788.254 M27.4968 773.517 L27.4968 773.517 Z\" fill=\"#000000\" fill-rule=\"evenodd\" fill-opacity=\"1\" /><path clip-path=\"url(#clip500)\" d=\"M1030.58 12.096 L1038.76 12.096 L1038.76 72.576 L1030.58 72.576 L1030.58 12.096 Z\" fill=\"#000000\" fill-rule=\"evenodd\" fill-opacity=\"1\" /><path clip-path=\"url(#clip500)\" d=\"M1092.43 45.1919 L1092.43 72.576 L1084.98 72.576 L1084.98 45.4349 Q1084.98 38.994 1082.47 35.7938 Q1079.96 32.5936 1074.93 32.5936 Q1068.9 32.5936 1065.42 36.4419 Q1061.93 40.2903 1061.93 46.9338 L1061.93 72.576 L1054.44 72.576 L1054.44 27.2059 L1061.93 27.2059 L1061.93 34.2544 Q1064.61 30.163 1068.21 28.1376 Q1071.86 26.1121 1076.6 26.1121 Q1084.41 26.1121 1088.42 30.9732 Q1092.43 35.7938 1092.43 45.1919 Z\" fill=\"#000000\" fill-rule=\"evenodd\" fill-opacity=\"1\" /><path clip-path=\"url(#clip500)\" d=\"M1114.51 65.7705 L1114.51 89.8329 L1107.02 89.8329 L1107.02 27.2059 L1114.51 27.2059 L1114.51 34.0924 Q1116.86 30.0415 1120.43 28.0971 Q1124.03 26.1121 1129.01 26.1121 Q1137.28 26.1121 1142.42 32.6746 Q1147.61 39.2371 1147.61 49.9314 Q1147.61 60.6258 1142.42 67.1883 Q1137.28 73.7508 1129.01 73.7508 Q1124.03 73.7508 1120.43 71.8063 Q1116.86 69.8214 1114.51 65.7705 M1139.87 49.9314 Q1139.87 41.7081 1136.47 37.0496 Q1133.11 32.3505 1127.19 32.3505 Q1121.28 32.3505 1117.87 37.0496 Q1114.51 41.7081 1114.51 49.9314 Q1114.51 58.1548 1117.87 62.8538 Q1121.28 67.5124 1127.19 67.5124 Q1133.11 67.5124 1136.47 62.8538 Q1139.87 58.1548 1139.87 49.9314 Z\" fill=\"#000000\" fill-rule=\"evenodd\" fill-opacity=\"1\" /><path clip-path=\"url(#clip500)\" d=\"M1159.19 54.671 L1159.19 27.2059 L1166.65 27.2059 L1166.65 54.3874 Q1166.65 60.8284 1169.16 64.0691 Q1171.67 67.2693 1176.69 67.2693 Q1182.73 67.2693 1186.21 63.421 Q1189.74 59.5726 1189.74 52.9291 L1189.74 27.2059 L1197.19 27.2059 L1197.19 72.576 L1189.74 72.576 L1189.74 65.6084 Q1187.02 69.7404 1183.42 71.7658 Q1179.85 73.7508 1175.11 73.7508 Q1167.3 73.7508 1163.24 68.8897 Q1159.19 64.0286 1159.19 54.671 M1177.95 26.1121 L1177.95 26.1121 Z\" fill=\"#000000\" fill-rule=\"evenodd\" fill-opacity=\"1\" /><path clip-path=\"url(#clip500)\" d=\"M1219.92 14.324 L1219.92 27.2059 L1235.27 27.2059 L1235.27 32.9987 L1219.92 32.9987 L1219.92 57.6282 Q1219.92 63.1779 1221.42 64.7578 Q1222.95 66.3376 1227.61 66.3376 L1235.27 66.3376 L1235.27 72.576 L1227.61 72.576 Q1218.99 72.576 1215.7 69.3758 Q1212.42 66.1351 1212.42 57.6282 L1212.42 32.9987 L1206.95 32.9987 L1206.95 27.2059 L1212.42 27.2059 L1212.42 14.324 L1219.92 14.324 Z\" fill=\"#000000\" fill-rule=\"evenodd\" fill-opacity=\"1\" /><path clip-path=\"url(#clip500)\" d=\"M1271.77 12.096 L1279.95 12.096 L1279.95 36.8875 L1309.68 36.8875 L1309.68 12.096 L1317.87 12.096 L1317.87 72.576 L1309.68 72.576 L1309.68 43.7741 L1279.95 43.7741 L1279.95 72.576 L1271.77 72.576 L1271.77 12.096 Z\" fill=\"#000000\" fill-rule=\"evenodd\" fill-opacity=\"1\" /><path clip-path=\"url(#clip500)\" d=\"M1333.83 27.2059 L1341.28 27.2059 L1341.28 72.576 L1333.83 72.576 L1333.83 27.2059 M1333.83 9.54393 L1341.28 9.54393 L1341.28 18.9825 L1333.83 18.9825 L1333.83 9.54393 Z\" fill=\"#000000\" fill-rule=\"evenodd\" fill-opacity=\"1\" /><path clip-path=\"url(#clip500)\" d=\"M1385.8 28.5427 L1385.8 35.5912 Q1382.64 33.9709 1379.24 33.1607 Q1375.84 32.3505 1372.19 32.3505 Q1366.64 32.3505 1363.85 34.0519 Q1361.09 35.7533 1361.09 39.156 Q1361.09 41.7486 1363.08 43.2475 Q1365.06 44.7058 1371.06 46.0426 L1373.61 46.6097 Q1381.55 48.3111 1384.87 51.4303 Q1388.23 54.509 1388.23 60.0587 Q1388.23 66.3781 1383.21 70.0644 Q1378.23 73.7508 1369.48 73.7508 Q1365.83 73.7508 1361.86 73.0216 Q1357.93 72.3329 1353.56 70.9151 L1353.56 63.2184 Q1357.69 65.3654 1361.7 66.4591 Q1365.71 67.5124 1369.64 67.5124 Q1374.9 67.5124 1377.74 65.73 Q1380.58 63.9071 1380.58 60.6258 Q1380.58 57.5877 1378.51 55.9673 Q1376.48 54.3469 1369.56 52.8481 L1366.96 52.2405 Q1360.04 50.7821 1356.96 47.7845 Q1353.88 44.7463 1353.88 39.4801 Q1353.88 33.0797 1358.42 29.5959 Q1362.95 26.1121 1371.3 26.1121 Q1375.43 26.1121 1379.08 26.7198 Q1382.72 27.3274 1385.8 28.5427 Z\" fill=\"#000000\" fill-rule=\"evenodd\" fill-opacity=\"1\" /><path clip-path=\"url(#clip500)\" d=\"M1407.47 14.324 L1407.47 27.2059 L1422.83 27.2059 L1422.83 32.9987 L1407.47 32.9987 L1407.47 57.6282 Q1407.47 63.1779 1408.97 64.7578 Q1410.51 66.3376 1415.17 66.3376 L1422.83 66.3376 L1422.83 72.576 L1415.17 72.576 Q1406.54 72.576 1403.26 69.3758 Q1399.98 66.1351 1399.98 57.6282 L1399.98 32.9987 L1394.51 32.9987 L1394.51 27.2059 L1399.98 27.2059 L1399.98 14.324 L1407.47 14.324 Z\" fill=\"#000000\" fill-rule=\"evenodd\" fill-opacity=\"1\" /><path clip-path=\"url(#clip500)\" d=\"M1450.21 32.4315 Q1444.22 32.4315 1440.73 37.1306 Q1437.25 41.7891 1437.25 49.9314 Q1437.25 58.0738 1440.69 62.7728 Q1444.17 67.4314 1450.21 67.4314 Q1456.17 67.4314 1459.65 62.7323 Q1463.13 58.0333 1463.13 49.9314 Q1463.13 41.8701 1459.65 37.1711 Q1456.17 32.4315 1450.21 32.4315 M1450.21 26.1121 Q1459.93 26.1121 1465.48 32.4315 Q1471.03 38.7509 1471.03 49.9314 Q1471.03 61.0714 1465.48 67.4314 Q1459.93 73.7508 1450.21 73.7508 Q1440.45 73.7508 1434.9 67.4314 Q1429.39 61.0714 1429.39 49.9314 Q1429.39 38.7509 1434.9 32.4315 Q1440.45 26.1121 1450.21 26.1121 Z\" fill=\"#000000\" fill-rule=\"evenodd\" fill-opacity=\"1\" /><path clip-path=\"url(#clip500)\" d=\"M1509.68 34.1734 Q1508.42 33.4443 1506.92 33.1202 Q1505.47 32.7556 1503.68 32.7556 Q1497.36 32.7556 1493.96 36.8875 Q1490.6 40.9789 1490.6 48.6757 L1490.6 72.576 L1483.1 72.576 L1483.1 27.2059 L1490.6 27.2059 L1490.6 34.2544 Q1492.95 30.1225 1496.72 28.1376 Q1500.48 26.1121 1505.87 26.1121 Q1506.64 26.1121 1507.57 26.2337 Q1508.5 26.3147 1509.64 26.5172 L1509.68 34.1734 Z\" fill=\"#000000\" fill-rule=\"evenodd\" fill-opacity=\"1\" /><path clip-path=\"url(#clip500)\" d=\"M1536.37 76.7889 Q1533.21 84.8907 1530.22 87.3618 Q1527.22 89.8329 1522.2 89.8329 L1516.24 89.8329 L1516.24 83.5945 L1520.62 83.5945 Q1523.69 83.5945 1525.4 82.1361 Q1527.1 80.6778 1529.16 75.2496 L1530.5 71.8468 L1512.15 27.2059 L1520.05 27.2059 L1534.23 62.6918 L1548.4 27.2059 L1556.3 27.2059 L1536.37 76.7889 Z\" fill=\"#000000\" fill-rule=\"evenodd\" fill-opacity=\"1\" /><polyline clip-path=\"url(#clip502)\" style=\"stroke:#009af9; stroke-linecap:round; stroke-linejoin:round; stroke-width:4; stroke-opacity:1; fill:none\" points=\"294.087,1301.26 301.302,1301.26 308.518,1301.26 315.733,1301.26 322.949,1301.27 330.164,1301.26 337.38,1301.26 344.596,1301.26 351.811,1301.26 359.027,1301.26 366.242,1301.26 373.458,1301.26 380.673,1301.26 387.889,1278.22 395.104,1253.83 402.32,1259.36 409.536,1249.12 416.751,1262.84 423.967,1257.29 431.182,1251.69 438.398,1247.71 445.613,1251.02 452.829,1246.15 460.044,1254.26 467.26,1253.11 474.475,1259.39 481.691,1264.29 488.907,1255.98 496.122,1256.46 503.338,1258.79 510.553,1258.21 517.769,1259.5 524.984,1261.18 532.2,1255.15 539.415,1254.72 546.631,1258.7 553.847,1263.21 561.062,1259.5 568.278,1264.02 575.493,1262.49 582.709,1250.72 589.924,1273.33 597.14,1262.29 604.355,1256.87 611.571,1270.18 618.787,1257.7 626.002,1268.54 633.218,1265.59 640.433,1254.28 647.649,1265.21 654.864,1267.18 662.08,1267.37 669.295,1267.42 676.511,1256.32 683.727,1261.25 690.942,1257.08 698.158,1259.89 705.373,1258.74 712.589,1268.72 719.804,1258.58 727.02,1266.54 734.235,1259.4 741.451,1260.25 748.666,1261.88 755.882,1265.12 763.098,1267.22 770.313,1258.47 777.529,1262.6 784.744,1269.76 791.96,1257.49 799.175,1267.06 806.391,1263.6 813.606,1257.65 820.822,1265.66 828.038,1266.61 835.253,1266.24 842.469,1263.33 849.684,1263.52 856.9,1258.85 864.115,1266.8 871.331,1261.52 878.546,1263.36 885.762,1263.45 892.978,1263.66 900.193,1260.68 907.409,1264.15 914.624,1263.3 921.84,1262.9 929.055,1265.02 936.271,1261.41 943.486,1260.31 950.702,1264.82 957.917,1263.2 965.133,1260.29 972.349,1260.06 979.564,1259.57 986.78,1259.8 993.995,1255.76 1001.21,1262.05 1008.43,1258.61 1015.64,1261.8 1022.86,1260.02 1030.07,1258.91 1037.29,1261.13 1044.5,1260.24 1051.72,1257.84 1058.94,1256.62 1066.15,1257.99 1073.37,1253.51 1080.58,1255.05 1087.8,1258.93 1095.01,1259.17 1102.23,1259.38 1109.44,1258.87 1116.66,1264.04 1123.88,1280.22 1131.09,1297.99 1138.31,1306.63 1145.52,1317.48 1152.74,1323.54 1159.95,1325.82 1167.17,1331.11 1174.38,1322.11 1181.6,1328.89 1188.82,1326.7 1196.03,1311.05 1203.25,1332.22 1210.46,1312.21 1217.68,1328.54 1224.89,1297.81 1232.11,1326.21 1239.32,1322.05 1246.54,1318.33 1253.76,1324.21 1260.97,1322.44 1268.19,1318.08 1275.4,1311.39 1282.62,1325.57 1289.83,1329.85 1297.05,1326.15 1304.26,1329.48 1311.48,1329.13 1318.7,1324.1 1325.91,1326.11 1333.13,1324.71 1340.34,1327.97 1347.56,1323.38 1354.77,1328.97 1361.99,1325.03 1369.2,1326.63 1376.42,1321.22 1383.64,1316.27 1390.85,1320.64 1398.07,1322.19 1405.28,1309.4 1412.5,1320.01 1419.71,1315.59 1426.93,1311.09 1434.14,1318.1 1441.36,1313.37 1448.58,1302.51 1455.79,1311.63 1463.01,1315.45 1470.22,1307.11 1477.44,1314.2 1484.65,1305.73 1491.87,1308.66 1499.08,1308.76 1506.3,1305.06 1513.51,1312.74 1520.73,1312.81 1527.95,1307.18 1535.16,1322.7 1542.38,1300.34 1549.59,1311.49 1556.81,1302.74 1564.02,1308.02 1571.24,1305.85 1578.45,1300.88 1585.67,1304.42 1592.89,1299.1 1600.1,1314.64 1607.32,1310.65 1614.53,1298.91 1621.75,1312.4 1628.96,1298.07 1636.18,1313.35 1643.39,1305.21 1650.61,1301.3 1657.83,1305.61 1665.04,1306.09 1672.26,1296.92 1679.47,1304.39 1686.69,1307.2 1693.9,1308.86 1701.12,1300.31 1708.33,1304.16 1715.55,1301.94 1722.77,1302.25 1729.98,1303.75 1737.2,1306.92 1744.41,1304.12 1751.63,1298.84 1758.84,1304.97 1766.06,1307.29 1773.27,1297.62 1780.49,1301.85 1787.71,1304.29 1794.92,1301.71 1802.14,1303.8 1809.35,1302.09 1816.57,1299.2 1823.78,1305.57 1831,1303.82 1838.21,1301.24 1845.43,1303.38 1852.65,1300.31 1859.86,1301.1 1867.08,1307.1 1874.29,1297.26 1881.51,1300.72 1888.72,1303.76 1895.94,1301.03 1903.15,1303.68 1910.37,1300.85 1917.59,1301.02 1924.8,1303.32 1932.02,1295.66 1939.23,1307.68 1946.45,1301.7 1953.66,1298.53 1960.88,1305.42 1968.09,1300.9 1975.31,1301.36 1982.53,1301.44 1989.74,1302.1 1996.96,1300.33 2004.17,1301.33 2011.39,1303.14 2018.6,1301.52 2025.82,1291.91 2033.03,1310.13 2040.25,1302.12 2047.47,1299.99 2054.68,1303.2 2061.9,1299.81 2069.11,1299.45 2076.33,1303.87 2083.54,1302.43 2090.76,1299.49 2097.97,1303.13 2105.19,1300.57 2112.41,1300.23 2119.62,1302.29 2126.84,1300.93 2134.05,1300.59 2141.27,1303.31 2148.48,1300.4 2155.7,1302.71 2162.91,1300.2 2170.13,1301.76 2177.35,1300.1 2184.56,1302.93 2191.78,1299.57 2198.99,1303.12 2206.21,1298.52 2213.42,1304.21 2220.64,1299.3 2227.85,1303.43 2235.07,1301.02 2242.29,1301.76 2249.5,1300.22 2256.72,1302.11 2263.93,1300.11 2271.15,1302.72 2278.36,1301.08 2285.58,1301.61 2292.79,1300.11 \"/>\n",
       "<polyline clip-path=\"url(#clip502)\" style=\"stroke:#e26f46; stroke-linecap:round; stroke-linejoin:round; stroke-width:4; stroke-opacity:1; fill:none\" points=\"294.087,1301.26 301.302,1301.26 308.518,1301.25 315.733,1301.26 322.949,1301.25 330.164,1301.26 337.38,1301.26 344.596,1301.26 351.811,1301.26 359.027,1301.26 366.242,1301.26 373.458,1301.26 380.673,1301.26 387.889,1340.57 395.104,1382.05 402.32,1372.02 409.536,1386.4 416.751,1357.9 423.967,1364.03 431.182,1370.24 438.398,1370.48 445.613,1359.99 452.829,1366.43 460.044,1358.88 467.26,1357.57 474.475,1349.07 481.691,1342.51 488.907,1350.92 496.122,1350.43 503.338,1348.58 510.553,1348.92 517.769,1348.43 524.984,1346.44 532.2,1353.94 539.415,1353.59 546.631,1348.1 553.847,1342.91 561.062,1346.87 568.278,1341.38 575.493,1342.42 582.709,1354.33 589.924,1330.45 597.14,1341.48 604.355,1345.37 611.571,1331.8 618.787,1343.52 626.002,1332.41 633.218,1334.66 640.433,1344.65 647.649,1334.09 654.864,1331.89 662.08,1331.14 669.295,1329.61 676.511,1338.13 683.727,1334.36 690.942,1337.63 698.158,1335.15 705.373,1335.18 712.589,1326.63 719.804,1334.4 727.02,1328.08 734.235,1332.81 741.451,1332.09 748.666,1329.82 755.882,1327.32 763.098,1325.43 770.313,1331.85 777.529,1328.74 784.744,1323.39 791.96,1331.68 799.175,1324.99 806.391,1327.9 813.606,1331.59 820.822,1325.47 828.038,1324.52 835.253,1323.86 842.469,1325.15 849.684,1325.1 856.9,1327.66 864.115,1322.11 871.331,1325.93 878.546,1325.25 885.762,1325.94 892.978,1325.05 900.193,1326.9 907.409,1324.17 914.624,1324.13 921.84,1323.04 929.055,1321.57 936.271,1322.86 943.486,1322.35 950.702,1319.81 957.917,1320.39 965.133,1320.49 972.349,1320.81 979.564,1319.64 986.78,1318.9 993.995,1319.81 1001.21,1315.93 1008.43,1316.29 1015.64,1314.96 1022.86,1315.18 1030.07,1314.24 1037.29,1313.27 1044.5,1312.61 1051.72,1313.25 1058.94,1313.16 1066.15,1309.05 1073.37,1307.93 1080.58,1304.31 1087.8,1302.19 1095.01,1298.16 1102.23,1295.88 1109.44,1294.17 1116.66,1285.38 1123.88,1264.2 1131.09,1258.49 1138.31,1257.59 1145.52,1257.52 1152.74,1263.63 1159.95,1266.53 1167.17,1274.84 1174.38,1278.2 1181.6,1282.71 1188.82,1278.22 1196.03,1279.76 1203.25,1271.39 1210.46,1287.1 1217.68,1272.33 1224.89,1294.75 1232.11,1281.31 1239.32,1286.21 1246.54,1293.23 1253.76,1287.24 1260.97,1286.89 1268.19,1287.41 1275.4,1298.7 1282.62,1284.7 1289.83,1276.14 1297.05,1284.8 1304.26,1280.85 1311.48,1278.57 1318.7,1274.97 1325.91,1280.62 1333.13,1281.51 1340.34,1278.57 1347.56,1283.06 1354.77,1287.46 1361.99,1285.08 1369.2,1278.98 1376.42,1278.19 1383.64,1284.49 1390.85,1280.48 1398.07,1281.3 1405.28,1296.6 1412.5,1290.2 1419.71,1288.93 1426.93,1290.96 1434.14,1284.28 1441.36,1290.61 1448.58,1299.14 1455.79,1289.76 1463.01,1287.13 1470.22,1293.76 1477.44,1287.57 1484.65,1295.76 1491.87,1294.72 1499.08,1295.41 1506.3,1297.82 1513.51,1291.25 1520.73,1289.98 1527.95,1298.83 1535.16,1285.74 1542.38,1305.48 1549.59,1292.76 1556.81,1302.26 1564.02,1296.18 1571.24,1296.69 1578.45,1299.52 1585.67,1297 1592.89,1302.82 1600.1,1289.56 1607.32,1293.98 1614.53,1304.93 1621.75,1290.58 1628.96,1304.83 1636.18,1291.49 1643.39,1295.33 1650.61,1301.81 1657.83,1297.74 1665.04,1296.64 1672.26,1302.97 1679.47,1299.13 1686.69,1297.26 1693.9,1294.17 1701.12,1301.27 1708.33,1297.76 1715.55,1300.98 1722.77,1300.83 1729.98,1300.06 1737.2,1296.11 1744.41,1299.22 1751.63,1304.06 1758.84,1297.29 1766.06,1295.6 1773.27,1304.74 1780.49,1300.88 1787.71,1298.23 1794.92,1301.09 1802.14,1299.04 1809.35,1300.64 1816.57,1303.03 1823.78,1297.69 1831,1298.5 1838.21,1301.5 1845.43,1299.32 1852.65,1302.56 1859.86,1301.35 1867.08,1295.5 1874.29,1305.52 1881.51,1301.75 1888.72,1298.57 1895.94,1301.64 1903.15,1298.78 1910.37,1301.94 1917.59,1301.24 1924.8,1299.09 1932.02,1306.96 1939.23,1294.59 1946.45,1300.91 1953.66,1303.9 1960.88,1297.08 1968.09,1301.51 1975.31,1301.03 1982.53,1301.16 1989.74,1300.34 1996.96,1302.18 2004.17,1301.3 2011.39,1299.62 2018.6,1300.84 2025.82,1310.46 2033.03,1292.52 2040.25,1300.46 2047.47,1302.76 2054.68,1299.24 2061.9,1302.72 2069.11,1303.1 2076.33,1298.55 2083.54,1300.07 2090.76,1303 2097.97,1299.42 2105.19,1301.97 2112.41,1302.26 2119.62,1300.22 2126.84,1301.55 2134.05,1301.96 2141.27,1299.2 2148.48,1302.03 2155.7,1299.86 2162.91,1302.21 2170.13,1300.83 2177.35,1302.36 2184.56,1299.57 2191.78,1302.86 2198.99,1299.6 2206.21,1303.97 2213.42,1298.33 2220.64,1303.18 2227.85,1299.11 2235.07,1301.48 2242.29,1300.75 2249.5,1302.37 2256.72,1300.37 2263.93,1302.36 2271.15,1299.79 2278.36,1301.45 2285.58,1300.85 2292.79,1302.32 \"/>\n",
       "<polyline clip-path=\"url(#clip502)\" style=\"stroke:#3da44d; stroke-linecap:round; stroke-linejoin:round; stroke-width:4; stroke-opacity:1; fill:none\" points=\"294.087,1301.29 301.302,1300.84 308.518,1300.8 315.733,1301.14 322.949,1301.38 330.164,1301.06 337.38,1301.43 344.596,1301.32 351.811,1301.25 359.027,1301.2 366.242,1301.31 373.458,1301.36 380.673,1300.92 387.889,780.464 395.104,230.471 402.32,361.237 409.536,160.256 416.751,518.905 423.967,425.154 431.182,330.278 438.398,300.947 445.613,417.838 452.829,325.799 460.044,451.07 467.26,454.439 474.475,574.848 481.691,668.107 488.907,532.953 496.122,540.86 503.338,574.532 510.553,567.334 517.769,581.168 524.984,610.935 532.2,500.971 539.415,500.809 546.631,577.851 553.847,656.396 561.062,594.336 568.278,675.629 575.493,655 582.709,463.539 589.924,839.521 597.14,661.309 604.355,585.945 611.571,803.225 618.787,607.5 626.002,784.868 633.218,742.779 640.433,570.271 647.649,743.893 654.864,777.502 662.08,784.773 669.295,796.708 676.511,636.883 683.727,707.692 690.942,647.237 698.158,689.964 705.373,679.502 712.589,829.596 719.804,683.606 727.02,799.792 734.235,702.058 741.451,714.801 748.666,745.103 755.882,791.885 763.098,824.105 770.313,699.969 777.529,759.042 784.744,861.218 791.96,691.938 799.175,825.447 806.391,773.951 813.606,694.015 820.822,809.128 828.038,824.291 835.253,824.936 842.469,788.956 849.684,791.049 856.9,730.242 864.115,840.815 871.331,766.689 878.546,788.529 885.762,785.216 892.978,792.668 900.193,752.499 907.409,802.773 914.624,794.656 921.84,797.066 929.055,826.448 936.271,783.148 943.486,774.756 950.702,833.918 957.917,814.295 965.133,783.963 972.349,780.024 979.564,780.458 986.78,786.299 993.995,739.635 1001.21,822.795 1008.43,784.479 1015.64,823.89 1022.86,803.81 1030.07,795 1037.29,822.42 1044.5,814.819 1051.72,786.369 1058.94,773.231 1066.15,798.79 1073.37,750.12 1080.58,771.899 1087.8,817.246 1095.01,818.922 1102.23,818.613 1109.44,810.121 1116.66,838.711 1123.88,814.185 1131.09,811 1138.31,798.308 1145.52,768.045 1152.74,801.346 1159.95,815.083 1167.17,781.855 1174.38,798.236 1181.6,778.07 1188.82,782.111 1196.03,797.852 1203.25,796.149 1210.46,787.79 1217.68,790.492 1224.89,799.582 1232.11,785.025 1239.32,796.456 1246.54,811.767 1253.76,776.354 1260.97,781.301 1268.19,791.239 1275.4,789.729 1282.62,803.542 1289.83,794.297 1297.05,803.734 1304.26,795.111 1311.48,797.702 1318.7,810.49 1325.91,803.706 1333.13,799.808 1340.34,796.344 1347.56,789.363 1354.77,799.071 1361.99,803.838 1369.2,797.738 1376.42,795.478 1383.64,805.282 1390.85,798.168 1398.07,796.333 1405.28,801.049 1412.5,801.868 1419.71,798.584 1426.93,803.406 1434.14,803.088 1441.36,796.119 1448.58,799.035 1455.79,799.698 1463.01,804.414 1470.22,801.105 1477.44,800.489 1484.65,801.974 1491.87,801.484 1499.08,802.35 1506.3,802.708 1513.51,798.113 1520.73,795.983 1527.95,804.493 1535.16,798.079 1542.38,808.84 1549.59,800.405 1556.81,803.774 1564.02,800.288 1571.24,804.723 1578.45,801.846 1585.67,802.652 1592.89,804.668 1600.1,802.685 1607.32,801.267 1614.53,806.195 1621.75,801.983 1628.96,803.416 1636.18,800.001 1643.39,803.718 1650.61,805.238 1657.83,803.97 1665.04,803.76 1672.26,805.531 1679.47,803.68 1686.69,802.466 1693.9,801.812 1701.12,804.442 1708.33,802.892 1715.55,803.575 1722.77,803.431 1729.98,804.474 1737.2,802.95 1744.41,803.814 1751.63,805.603 1758.84,804.466 1766.06,802.61 1773.27,804.478 1780.49,804.388 1787.71,803.678 1794.92,804.061 1802.14,803.732 1809.35,803.229 1816.57,803.852 1823.78,803.13 1831,803.663 1838.21,803.599 1845.43,804.24 1852.65,804.23 1859.86,804.31 1867.08,802.634 1874.29,805.716 1881.51,804.654 1888.72,803.315 1895.94,804.153 1903.15,803.598 1910.37,804.425 1917.59,804.275 1924.8,804 1932.02,805.502 1939.23,802.573 1946.45,804.167 1953.66,804.773 1960.88,803.254 1968.09,804.418 1975.31,804.288 1982.53,804.272 1989.74,803.84 1996.96,804.227 2004.17,804.103 2011.39,804.046 2018.6,803.886 2025.82,805.631 2033.03,802.863 2040.25,804.059 2047.47,804.382 2054.68,804.108 2061.9,804.496 2069.11,804.525 2076.33,803.607 2083.54,804.205 2090.76,804.603 2097.97,803.968 2105.19,804.44 2112.41,804.421 2119.62,803.986 2126.84,804.267 2134.05,804.553 2141.27,803.641 2148.48,804.484 2155.7,803.939 2162.91,804.381 2170.13,804.252 2177.35,804.341 2184.56,804.014 2191.78,804.296 2198.99,804.08 2206.21,804.511 2213.42,803.889 2220.64,804.574 2227.85,803.851 2235.07,804.264 2242.29,804.171 2249.5,804.275 2256.72,804.206 2263.93,804.321 2271.15,804.156 2278.36,804.257 2285.58,804.254 2292.79,804.321 \"/>\n",
       "<path clip-path=\"url(#clip500)\" d=\"M2027.66 374.156 L2282.13 374.156 L2282.13 166.796 L2027.66 166.796  Z\" fill=\"#ffffff\" fill-rule=\"evenodd\" fill-opacity=\"1\"/>\n",
       "<polyline clip-path=\"url(#clip500)\" style=\"stroke:#000000; stroke-linecap:round; stroke-linejoin:round; stroke-width:4; stroke-opacity:1; fill:none\" points=\"2027.66,374.156 2282.13,374.156 2282.13,166.796 2027.66,166.796 2027.66,374.156 \"/>\n",
       "<polyline clip-path=\"url(#clip500)\" style=\"stroke:#009af9; stroke-linecap:round; stroke-linejoin:round; stroke-width:4; stroke-opacity:1; fill:none\" points=\"2051.2,218.636 2192.44,218.636 \"/>\n",
       "<path clip-path=\"url(#clip500)\" d=\"M2215.98 225.684 L2215.98 209.99 L2220.24 209.99 L2220.24 225.522 Q2220.24 229.203 2221.67 231.055 Q2223.11 232.883 2225.98 232.883 Q2229.43 232.883 2231.42 230.684 Q2233.43 228.485 2233.43 224.689 L2233.43 209.99 L2237.69 209.99 L2237.69 235.916 L2233.43 235.916 L2233.43 231.934 Q2231.88 234.295 2229.82 235.453 Q2227.78 236.587 2225.08 236.587 Q2220.61 236.587 2218.29 233.809 Q2215.98 231.031 2215.98 225.684 M2226.7 209.365 L2226.7 209.365 Z\" fill=\"#000000\" fill-rule=\"evenodd\" fill-opacity=\"1\" /><path clip-path=\"url(#clip500)\" d=\"M2245.61 233.369 L2250.33 233.369 L2250.33 219.226 L2245.17 220.175 L2245.17 217.49 L2250.49 216.587 L2253.66 216.587 L2253.66 233.369 L2258.41 233.369 L2258.41 235.916 L2245.61 235.916 L2245.61 233.369 Z\" fill=\"#000000\" fill-rule=\"evenodd\" fill-opacity=\"1\" /><polyline clip-path=\"url(#clip500)\" style=\"stroke:#e26f46; stroke-linecap:round; stroke-linejoin:round; stroke-width:4; stroke-opacity:1; fill:none\" points=\"2051.2,270.476 2192.44,270.476 \"/>\n",
       "<path clip-path=\"url(#clip500)\" d=\"M2215.98 277.524 L2215.98 261.83 L2220.24 261.83 L2220.24 277.362 Q2220.24 281.043 2221.67 282.895 Q2223.11 284.723 2225.98 284.723 Q2229.43 284.723 2231.42 282.524 Q2233.43 280.325 2233.43 276.529 L2233.43 261.83 L2237.69 261.83 L2237.69 287.756 L2233.43 287.756 L2233.43 283.774 Q2231.88 286.135 2229.82 287.293 Q2227.78 288.427 2225.08 288.427 Q2220.61 288.427 2218.29 285.649 Q2215.98 282.871 2215.98 277.524 M2226.7 261.205 L2226.7 261.205 Z\" fill=\"#000000\" fill-rule=\"evenodd\" fill-opacity=\"1\" /><path clip-path=\"url(#clip500)\" d=\"M2248.2 285.117 L2258.02 285.117 L2258.02 287.756 L2244.17 287.756 L2244.17 285.209 Q2244.96 284.492 2246.42 283.196 Q2254.38 276.135 2254.38 273.959 Q2254.38 272.432 2253.18 271.506 Q2251.97 270.557 2250.01 270.557 Q2248.8 270.557 2247.39 270.973 Q2245.98 271.367 2244.31 272.177 L2244.31 269.33 Q2246.09 268.682 2247.62 268.358 Q2249.17 268.034 2250.49 268.034 Q2253.85 268.034 2255.86 269.561 Q2257.88 271.089 2257.88 273.589 Q2257.88 276.807 2250.21 283.381 Q2248.92 284.492 2248.2 285.117 Z\" fill=\"#000000\" fill-rule=\"evenodd\" fill-opacity=\"1\" /><polyline clip-path=\"url(#clip500)\" style=\"stroke:#3da44d; stroke-linecap:round; stroke-linejoin:round; stroke-width:4; stroke-opacity:1; fill:none\" points=\"2051.2,322.316 2192.44,322.316 \"/>\n",
       "<path clip-path=\"url(#clip500)\" d=\"M2215.98 329.364 L2215.98 313.67 L2220.24 313.67 L2220.24 329.202 Q2220.24 332.883 2221.67 334.735 Q2223.11 336.563 2225.98 336.563 Q2229.43 336.563 2231.42 334.364 Q2233.43 332.165 2233.43 328.369 L2233.43 313.67 L2237.69 313.67 L2237.69 339.596 L2233.43 339.596 L2233.43 335.614 Q2231.88 337.975 2229.82 339.133 Q2227.78 340.267 2225.08 340.267 Q2220.61 340.267 2218.29 337.489 Q2215.98 334.711 2215.98 329.364 M2226.7 313.045 L2226.7 313.045 Z\" fill=\"#000000\" fill-rule=\"evenodd\" fill-opacity=\"1\" /><path clip-path=\"url(#clip500)\" d=\"M2254.13 329.133 Q2256.26 329.549 2257.41 330.823 Q2258.59 332.073 2258.59 333.971 Q2258.59 336.841 2256.4 338.392 Q2254.2 339.943 2250.1 339.943 Q2248.78 339.943 2247.32 339.688 Q2245.89 339.457 2244.27 338.994 L2244.27 336.193 Q2245.47 336.818 2246.84 337.119 Q2248.22 337.42 2249.78 337.42 Q2252.3 337.42 2253.69 336.517 Q2255.08 335.591 2255.08 333.971 Q2255.08 332.258 2253.78 331.378 Q2252.51 330.499 2250.01 330.499 L2248.02 330.499 L2248.02 327.999 L2250.19 327.999 Q2252.37 327.999 2253.48 327.281 Q2254.61 326.54 2254.61 325.151 Q2254.61 323.809 2253.46 323.114 Q2252.3 322.397 2250.1 322.397 Q2249.17 322.397 2247.99 322.605 Q2246.81 322.813 2244.94 323.346 L2244.94 320.684 Q2246.63 320.29 2248.11 320.082 Q2249.59 319.874 2250.86 319.874 Q2254.2 319.874 2256.14 321.239 Q2258.11 322.605 2258.11 324.897 Q2258.11 326.494 2257.07 327.605 Q2256.03 328.716 2254.13 329.133 Z\" fill=\"#000000\" fill-rule=\"evenodd\" fill-opacity=\"1\" /></svg>\n"
      ]
     },
     "metadata": {},
     "output_type": "display_data"
    },
    {
     "data": {
      "image/svg+xml": [
       "<?xml version=\"1.0\" encoding=\"utf-8\"?>\n",
       "<svg xmlns=\"http://www.w3.org/2000/svg\" xmlns:xlink=\"http://www.w3.org/1999/xlink\" width=\"600\" height=\"400\" viewBox=\"0 0 2400 1600\">\n",
       "<defs>\n",
       "  <clipPath id=\"clip540\">\n",
       "    <rect x=\"0\" y=\"0\" width=\"2400\" height=\"1600\"/>\n",
       "  </clipPath>\n",
       "</defs>\n",
       "<path clip-path=\"url(#clip540)\" d=\"M0 1600 L2400 1600 L2400 0 L0 0  Z\" fill=\"#ffffff\" fill-rule=\"evenodd\" fill-opacity=\"1\"/>\n",
       "<defs>\n",
       "  <clipPath id=\"clip541\">\n",
       "    <rect x=\"480\" y=\"0\" width=\"1681\" height=\"1600\"/>\n",
       "  </clipPath>\n",
       "</defs>\n",
       "<path clip-path=\"url(#clip540)\" d=\"M242.135 1423.18 L2352.76 1423.18 L2352.76 123.472 L242.135 123.472  Z\" fill=\"#ffffff\" fill-rule=\"evenodd\" fill-opacity=\"1\"/>\n",
       "<defs>\n",
       "  <clipPath id=\"clip542\">\n",
       "    <rect x=\"242\" y=\"123\" width=\"2112\" height=\"1301\"/>\n",
       "  </clipPath>\n",
       "</defs>\n",
       "<polyline clip-path=\"url(#clip542)\" style=\"stroke:#000000; stroke-linecap:round; stroke-linejoin:round; stroke-width:2; stroke-opacity:0.1; fill:none\" points=\"301.869,1423.18 301.869,123.472 \"/>\n",
       "<polyline clip-path=\"url(#clip542)\" style=\"stroke:#000000; stroke-linecap:round; stroke-linejoin:round; stroke-width:2; stroke-opacity:0.1; fill:none\" points=\"658.707,1423.18 658.707,123.472 \"/>\n",
       "<polyline clip-path=\"url(#clip542)\" style=\"stroke:#000000; stroke-linecap:round; stroke-linejoin:round; stroke-width:2; stroke-opacity:0.1; fill:none\" points=\"1015.54,1423.18 1015.54,123.472 \"/>\n",
       "<polyline clip-path=\"url(#clip542)\" style=\"stroke:#000000; stroke-linecap:round; stroke-linejoin:round; stroke-width:2; stroke-opacity:0.1; fill:none\" points=\"1372.38,1423.18 1372.38,123.472 \"/>\n",
       "<polyline clip-path=\"url(#clip542)\" style=\"stroke:#000000; stroke-linecap:round; stroke-linejoin:round; stroke-width:2; stroke-opacity:0.1; fill:none\" points=\"1729.22,1423.18 1729.22,123.472 \"/>\n",
       "<polyline clip-path=\"url(#clip542)\" style=\"stroke:#000000; stroke-linecap:round; stroke-linejoin:round; stroke-width:2; stroke-opacity:0.1; fill:none\" points=\"2086.06,1423.18 2086.06,123.472 \"/>\n",
       "<polyline clip-path=\"url(#clip540)\" style=\"stroke:#000000; stroke-linecap:round; stroke-linejoin:round; stroke-width:4; stroke-opacity:1; fill:none\" points=\"242.135,1423.18 2352.76,1423.18 \"/>\n",
       "<polyline clip-path=\"url(#clip540)\" style=\"stroke:#000000; stroke-linecap:round; stroke-linejoin:round; stroke-width:4; stroke-opacity:1; fill:none\" points=\"301.869,1423.18 301.869,1404.28 \"/>\n",
       "<polyline clip-path=\"url(#clip540)\" style=\"stroke:#000000; stroke-linecap:round; stroke-linejoin:round; stroke-width:4; stroke-opacity:1; fill:none\" points=\"658.707,1423.18 658.707,1404.28 \"/>\n",
       "<polyline clip-path=\"url(#clip540)\" style=\"stroke:#000000; stroke-linecap:round; stroke-linejoin:round; stroke-width:4; stroke-opacity:1; fill:none\" points=\"1015.54,1423.18 1015.54,1404.28 \"/>\n",
       "<polyline clip-path=\"url(#clip540)\" style=\"stroke:#000000; stroke-linecap:round; stroke-linejoin:round; stroke-width:4; stroke-opacity:1; fill:none\" points=\"1372.38,1423.18 1372.38,1404.28 \"/>\n",
       "<polyline clip-path=\"url(#clip540)\" style=\"stroke:#000000; stroke-linecap:round; stroke-linejoin:round; stroke-width:4; stroke-opacity:1; fill:none\" points=\"1729.22,1423.18 1729.22,1404.28 \"/>\n",
       "<polyline clip-path=\"url(#clip540)\" style=\"stroke:#000000; stroke-linecap:round; stroke-linejoin:round; stroke-width:4; stroke-opacity:1; fill:none\" points=\"2086.06,1423.18 2086.06,1404.28 \"/>\n",
       "<path clip-path=\"url(#clip540)\" d=\"M279.254 1454.1 Q275.643 1454.1 273.814 1457.66 Q272.008 1461.2 272.008 1468.33 Q272.008 1475.44 273.814 1479.01 Q275.643 1482.55 279.254 1482.55 Q282.888 1482.55 284.693 1479.01 Q286.522 1475.44 286.522 1468.33 Q286.522 1461.2 284.693 1457.66 Q282.888 1454.1 279.254 1454.1 M279.254 1450.39 Q285.064 1450.39 288.119 1455 Q291.198 1459.58 291.198 1468.33 Q291.198 1477.06 288.119 1481.67 Q285.064 1486.25 279.254 1486.25 Q273.443 1486.25 270.365 1481.67 Q267.309 1477.06 267.309 1468.33 Q267.309 1459.58 270.365 1455 Q273.443 1450.39 279.254 1450.39 Z\" fill=\"#000000\" fill-rule=\"evenodd\" fill-opacity=\"1\" /><path clip-path=\"url(#clip540)\" d=\"M299.416 1479.7 L304.3 1479.7 L304.3 1485.58 L299.416 1485.58 L299.416 1479.7 Z\" fill=\"#000000\" fill-rule=\"evenodd\" fill-opacity=\"1\" /><path clip-path=\"url(#clip540)\" d=\"M324.485 1454.1 Q320.874 1454.1 319.045 1457.66 Q317.24 1461.2 317.24 1468.33 Q317.24 1475.44 319.045 1479.01 Q320.874 1482.55 324.485 1482.55 Q328.119 1482.55 329.925 1479.01 Q331.753 1475.44 331.753 1468.33 Q331.753 1461.2 329.925 1457.66 Q328.119 1454.1 324.485 1454.1 M324.485 1450.39 Q330.295 1450.39 333.351 1455 Q336.429 1459.58 336.429 1468.33 Q336.429 1477.06 333.351 1481.67 Q330.295 1486.25 324.485 1486.25 Q318.675 1486.25 315.596 1481.67 Q312.54 1477.06 312.54 1468.33 Q312.54 1459.58 315.596 1455 Q318.675 1450.39 324.485 1450.39 Z\" fill=\"#000000\" fill-rule=\"evenodd\" fill-opacity=\"1\" /><path clip-path=\"url(#clip540)\" d=\"M630.443 1481.64 L646.762 1481.64 L646.762 1485.58 L624.818 1485.58 L624.818 1481.64 Q627.48 1478.89 632.063 1474.26 Q636.67 1469.61 637.85 1468.27 Q640.096 1465.74 640.975 1464.01 Q641.878 1462.25 641.878 1460.56 Q641.878 1457.8 639.933 1456.07 Q638.012 1454.33 634.91 1454.33 Q632.711 1454.33 630.258 1455.09 Q627.827 1455.86 625.049 1457.41 L625.049 1452.69 Q627.873 1451.55 630.327 1450.97 Q632.781 1450.39 634.818 1450.39 Q640.188 1450.39 643.383 1453.08 Q646.577 1455.77 646.577 1460.26 Q646.577 1462.39 645.767 1464.31 Q644.98 1466.2 642.873 1468.8 Q642.295 1469.47 639.193 1472.69 Q636.091 1475.88 630.443 1481.64 Z\" fill=\"#000000\" fill-rule=\"evenodd\" fill-opacity=\"1\" /><path clip-path=\"url(#clip540)\" d=\"M656.577 1479.7 L661.461 1479.7 L661.461 1485.58 L656.577 1485.58 L656.577 1479.7 Z\" fill=\"#000000\" fill-rule=\"evenodd\" fill-opacity=\"1\" /><path clip-path=\"url(#clip540)\" d=\"M671.693 1451.02 L690.049 1451.02 L690.049 1454.96 L675.975 1454.96 L675.975 1463.43 Q676.993 1463.08 678.012 1462.92 Q679.03 1462.73 680.049 1462.73 Q685.836 1462.73 689.216 1465.9 Q692.595 1469.08 692.595 1474.49 Q692.595 1480.07 689.123 1483.17 Q685.651 1486.25 679.331 1486.25 Q677.156 1486.25 674.887 1485.88 Q672.642 1485.51 670.234 1484.77 L670.234 1480.07 Q672.318 1481.2 674.54 1481.76 Q676.762 1482.32 679.239 1482.32 Q683.243 1482.32 685.581 1480.21 Q687.919 1478.1 687.919 1474.49 Q687.919 1470.88 685.581 1468.77 Q683.243 1466.67 679.239 1466.67 Q677.364 1466.67 675.489 1467.08 Q673.637 1467.5 671.693 1468.38 L671.693 1451.02 Z\" fill=\"#000000\" fill-rule=\"evenodd\" fill-opacity=\"1\" /><path clip-path=\"url(#clip540)\" d=\"M982.708 1451.02 L1001.06 1451.02 L1001.06 1454.96 L986.991 1454.96 L986.991 1463.43 Q988.009 1463.08 989.028 1462.92 Q990.046 1462.73 991.065 1462.73 Q996.852 1462.73 1000.23 1465.9 Q1003.61 1469.08 1003.61 1474.49 Q1003.61 1480.07 1000.14 1483.17 Q996.667 1486.25 990.347 1486.25 Q988.171 1486.25 985.903 1485.88 Q983.657 1485.51 981.25 1484.77 L981.25 1480.07 Q983.333 1481.2 985.556 1481.76 Q987.778 1482.32 990.255 1482.32 Q994.259 1482.32 996.597 1480.21 Q998.935 1478.1 998.935 1474.49 Q998.935 1470.88 996.597 1468.77 Q994.259 1466.67 990.255 1466.67 Q988.38 1466.67 986.505 1467.08 Q984.653 1467.5 982.708 1468.38 L982.708 1451.02 Z\" fill=\"#000000\" fill-rule=\"evenodd\" fill-opacity=\"1\" /><path clip-path=\"url(#clip540)\" d=\"M1012.82 1479.7 L1017.71 1479.7 L1017.71 1485.58 L1012.82 1485.58 L1012.82 1479.7 Z\" fill=\"#000000\" fill-rule=\"evenodd\" fill-opacity=\"1\" /><path clip-path=\"url(#clip540)\" d=\"M1037.89 1454.1 Q1034.28 1454.1 1032.45 1457.66 Q1030.65 1461.2 1030.65 1468.33 Q1030.65 1475.44 1032.45 1479.01 Q1034.28 1482.55 1037.89 1482.55 Q1041.53 1482.55 1043.33 1479.01 Q1045.16 1475.44 1045.16 1468.33 Q1045.16 1461.2 1043.33 1457.66 Q1041.53 1454.1 1037.89 1454.1 M1037.89 1450.39 Q1043.7 1450.39 1046.76 1455 Q1049.84 1459.58 1049.84 1468.33 Q1049.84 1477.06 1046.76 1481.67 Q1043.7 1486.25 1037.89 1486.25 Q1032.08 1486.25 1029 1481.67 Q1025.95 1477.06 1025.95 1468.33 Q1025.95 1459.58 1029 1455 Q1032.08 1450.39 1037.89 1450.39 Z\" fill=\"#000000\" fill-rule=\"evenodd\" fill-opacity=\"1\" /><path clip-path=\"url(#clip540)\" d=\"M1338.7 1451.02 L1360.92 1451.02 L1360.92 1453.01 L1348.38 1485.58 L1343.49 1485.58 L1355.3 1454.96 L1338.7 1454.96 L1338.7 1451.02 Z\" fill=\"#000000\" fill-rule=\"evenodd\" fill-opacity=\"1\" /><path clip-path=\"url(#clip540)\" d=\"M1370.04 1479.7 L1374.93 1479.7 L1374.93 1485.58 L1370.04 1485.58 L1370.04 1479.7 Z\" fill=\"#000000\" fill-rule=\"evenodd\" fill-opacity=\"1\" /><path clip-path=\"url(#clip540)\" d=\"M1385.16 1451.02 L1403.52 1451.02 L1403.52 1454.96 L1389.44 1454.96 L1389.44 1463.43 Q1390.46 1463.08 1391.48 1462.92 Q1392.5 1462.73 1393.52 1462.73 Q1399.3 1462.73 1402.68 1465.9 Q1406.06 1469.08 1406.06 1474.49 Q1406.06 1480.07 1402.59 1483.17 Q1399.12 1486.25 1392.8 1486.25 Q1390.62 1486.25 1388.35 1485.88 Q1386.11 1485.51 1383.7 1484.77 L1383.7 1480.07 Q1385.78 1481.2 1388.01 1481.76 Q1390.23 1482.32 1392.71 1482.32 Q1396.71 1482.32 1399.05 1480.21 Q1401.39 1478.1 1401.39 1474.49 Q1401.39 1470.88 1399.05 1468.77 Q1396.71 1466.67 1392.71 1466.67 Q1390.83 1466.67 1388.96 1467.08 Q1387.1 1467.5 1385.16 1468.38 L1385.16 1451.02 Z\" fill=\"#000000\" fill-rule=\"evenodd\" fill-opacity=\"1\" /><path clip-path=\"url(#clip540)\" d=\"M1681.29 1481.64 L1688.93 1481.64 L1688.93 1455.28 L1680.62 1456.95 L1680.62 1452.69 L1688.88 1451.02 L1693.56 1451.02 L1693.56 1481.64 L1701.2 1481.64 L1701.2 1485.58 L1681.29 1485.58 L1681.29 1481.64 Z\" fill=\"#000000\" fill-rule=\"evenodd\" fill-opacity=\"1\" /><path clip-path=\"url(#clip540)\" d=\"M1720.64 1454.1 Q1717.03 1454.1 1715.2 1457.66 Q1713.4 1461.2 1713.4 1468.33 Q1713.4 1475.44 1715.2 1479.01 Q1717.03 1482.55 1720.64 1482.55 Q1724.28 1482.55 1726.08 1479.01 Q1727.91 1475.44 1727.91 1468.33 Q1727.91 1461.2 1726.08 1457.66 Q1724.28 1454.1 1720.64 1454.1 M1720.64 1450.39 Q1726.45 1450.39 1729.51 1455 Q1732.59 1459.58 1732.59 1468.33 Q1732.59 1477.06 1729.51 1481.67 Q1726.45 1486.25 1720.64 1486.25 Q1714.83 1486.25 1711.75 1481.67 Q1708.7 1477.06 1708.7 1468.33 Q1708.7 1459.58 1711.75 1455 Q1714.83 1450.39 1720.64 1450.39 Z\" fill=\"#000000\" fill-rule=\"evenodd\" fill-opacity=\"1\" /><path clip-path=\"url(#clip540)\" d=\"M1740.8 1479.7 L1745.69 1479.7 L1745.69 1485.58 L1740.8 1485.58 L1740.8 1479.7 Z\" fill=\"#000000\" fill-rule=\"evenodd\" fill-opacity=\"1\" /><path clip-path=\"url(#clip540)\" d=\"M1765.87 1454.1 Q1762.26 1454.1 1760.43 1457.66 Q1758.63 1461.2 1758.63 1468.33 Q1758.63 1475.44 1760.43 1479.01 Q1762.26 1482.55 1765.87 1482.55 Q1769.51 1482.55 1771.31 1479.01 Q1773.14 1475.44 1773.14 1468.33 Q1773.14 1461.2 1771.31 1457.66 Q1769.51 1454.1 1765.87 1454.1 M1765.87 1450.39 Q1771.68 1450.39 1774.74 1455 Q1777.82 1459.58 1777.82 1468.33 Q1777.82 1477.06 1774.74 1481.67 Q1771.68 1486.25 1765.87 1486.25 Q1760.06 1486.25 1756.98 1481.67 Q1753.93 1477.06 1753.93 1468.33 Q1753.93 1459.58 1756.98 1455 Q1760.06 1450.39 1765.87 1450.39 Z\" fill=\"#000000\" fill-rule=\"evenodd\" fill-opacity=\"1\" /><path clip-path=\"url(#clip540)\" d=\"M2038.63 1481.64 L2046.26 1481.64 L2046.26 1455.28 L2037.95 1456.95 L2037.95 1452.69 L2046.22 1451.02 L2050.89 1451.02 L2050.89 1481.64 L2058.53 1481.64 L2058.53 1485.58 L2038.63 1485.58 L2038.63 1481.64 Z\" fill=\"#000000\" fill-rule=\"evenodd\" fill-opacity=\"1\" /><path clip-path=\"url(#clip540)\" d=\"M2072 1481.64 L2088.32 1481.64 L2088.32 1485.58 L2066.38 1485.58 L2066.38 1481.64 Q2069.04 1478.89 2073.63 1474.26 Q2078.23 1469.61 2079.41 1468.27 Q2081.66 1465.74 2082.54 1464.01 Q2083.44 1462.25 2083.44 1460.56 Q2083.44 1457.8 2081.5 1456.07 Q2079.57 1454.33 2076.47 1454.33 Q2074.27 1454.33 2071.82 1455.09 Q2069.39 1455.86 2066.61 1457.41 L2066.61 1452.69 Q2069.44 1451.55 2071.89 1450.97 Q2074.34 1450.39 2076.38 1450.39 Q2081.75 1450.39 2084.94 1453.08 Q2088.14 1455.77 2088.14 1460.26 Q2088.14 1462.39 2087.33 1464.31 Q2086.54 1466.2 2084.44 1468.8 Q2083.86 1469.47 2080.75 1472.69 Q2077.65 1475.88 2072 1481.64 Z\" fill=\"#000000\" fill-rule=\"evenodd\" fill-opacity=\"1\" /><path clip-path=\"url(#clip540)\" d=\"M2098.14 1479.7 L2103.02 1479.7 L2103.02 1485.58 L2098.14 1485.58 L2098.14 1479.7 Z\" fill=\"#000000\" fill-rule=\"evenodd\" fill-opacity=\"1\" /><path clip-path=\"url(#clip540)\" d=\"M2113.25 1451.02 L2131.61 1451.02 L2131.61 1454.96 L2117.54 1454.96 L2117.54 1463.43 Q2118.56 1463.08 2119.57 1462.92 Q2120.59 1462.73 2121.61 1462.73 Q2127.4 1462.73 2130.78 1465.9 Q2134.16 1469.08 2134.16 1474.49 Q2134.16 1480.07 2130.69 1483.17 Q2127.21 1486.25 2120.89 1486.25 Q2118.72 1486.25 2116.45 1485.88 Q2114.2 1485.51 2111.8 1484.77 L2111.8 1480.07 Q2113.88 1481.2 2116.1 1481.76 Q2118.32 1482.32 2120.8 1482.32 Q2124.81 1482.32 2127.14 1480.21 Q2129.48 1478.1 2129.48 1474.49 Q2129.48 1470.88 2127.14 1468.77 Q2124.81 1466.67 2120.8 1466.67 Q2118.93 1466.67 2117.05 1467.08 Q2115.2 1467.5 2113.25 1468.38 L2113.25 1451.02 Z\" fill=\"#000000\" fill-rule=\"evenodd\" fill-opacity=\"1\" /><path clip-path=\"url(#clip540)\" d=\"M1184.9 1522.27 L1184.9 1532.4 L1196.96 1532.4 L1196.96 1536.95 L1184.9 1536.95 L1184.9 1556.3 Q1184.9 1560.66 1186.08 1561.9 Q1187.29 1563.14 1190.95 1563.14 L1196.96 1563.14 L1196.96 1568.04 L1190.95 1568.04 Q1184.17 1568.04 1181.59 1565.53 Q1179.01 1562.98 1179.01 1556.3 L1179.01 1536.95 L1174.71 1536.95 L1174.71 1532.4 L1179.01 1532.4 L1179.01 1522.27 L1184.9 1522.27 Z\" fill=\"#000000\" fill-rule=\"evenodd\" fill-opacity=\"1\" /><path clip-path=\"url(#clip540)\" d=\"M1204.67 1532.4 L1210.52 1532.4 L1210.52 1568.04 L1204.67 1568.04 L1204.67 1532.4 M1204.67 1518.52 L1210.52 1518.52 L1210.52 1525.93 L1204.67 1525.93 L1204.67 1518.52 Z\" fill=\"#000000\" fill-rule=\"evenodd\" fill-opacity=\"1\" /><path clip-path=\"url(#clip540)\" d=\"M1250.53 1539.24 Q1252.73 1535.29 1255.78 1533.41 Q1258.84 1531.54 1262.97 1531.54 Q1268.54 1531.54 1271.57 1535.45 Q1274.59 1539.33 1274.59 1546.53 L1274.59 1568.04 L1268.7 1568.04 L1268.7 1546.72 Q1268.7 1541.59 1266.89 1539.11 Q1265.08 1536.63 1261.35 1536.63 Q1256.8 1536.63 1254.16 1539.65 Q1251.52 1542.68 1251.52 1547.9 L1251.52 1568.04 L1245.63 1568.04 L1245.63 1546.72 Q1245.63 1541.56 1243.81 1539.11 Q1242 1536.63 1238.21 1536.63 Q1233.72 1536.63 1231.08 1539.68 Q1228.44 1542.71 1228.44 1547.9 L1228.44 1568.04 L1222.55 1568.04 L1222.55 1532.4 L1228.44 1532.4 L1228.44 1537.93 Q1230.45 1534.66 1233.25 1533.1 Q1236.05 1531.54 1239.9 1531.54 Q1243.78 1531.54 1246.49 1533.51 Q1249.23 1535.48 1250.53 1539.24 Z\" fill=\"#000000\" fill-rule=\"evenodd\" fill-opacity=\"1\" /><path clip-path=\"url(#clip540)\" d=\"M1316.77 1548.76 L1316.77 1551.62 L1289.84 1551.62 Q1290.22 1557.67 1293.47 1560.85 Q1296.75 1564 1302.57 1564 Q1305.94 1564 1309.09 1563.17 Q1312.28 1562.35 1315.4 1560.69 L1315.4 1566.23 Q1312.25 1567.57 1308.94 1568.27 Q1305.63 1568.97 1302.22 1568.97 Q1293.69 1568.97 1288.69 1564 Q1283.73 1559.04 1283.73 1550.57 Q1283.73 1541.82 1288.44 1536.69 Q1293.18 1531.54 1301.2 1531.54 Q1308.39 1531.54 1312.56 1536.18 Q1316.77 1540.8 1316.77 1548.76 M1310.91 1547.04 Q1310.85 1542.23 1308.2 1539.37 Q1305.59 1536.5 1301.26 1536.5 Q1296.36 1536.5 1293.4 1539.27 Q1290.47 1542.04 1290.03 1547.07 L1310.91 1547.04 Z\" fill=\"#000000\" fill-rule=\"evenodd\" fill-opacity=\"1\" /><path clip-path=\"url(#clip540)\" d=\"M1361.17 1518.58 Q1356.9 1525.9 1354.83 1533.06 Q1352.76 1540.23 1352.76 1547.58 Q1352.76 1554.93 1354.83 1562.16 Q1356.93 1569.35 1361.17 1576.64 L1356.07 1576.64 Q1351.3 1569.16 1348.91 1561.93 Q1346.56 1554.71 1346.56 1547.58 Q1346.56 1540.48 1348.91 1533.29 Q1351.27 1526.09 1356.07 1518.58 L1361.17 1518.58 Z\" fill=\"#000000\" fill-rule=\"evenodd\" fill-opacity=\"1\" /><path clip-path=\"url(#clip540)\" d=\"M1395.25 1533.45 L1395.25 1538.98 Q1392.77 1537.71 1390.1 1537.07 Q1387.42 1536.44 1384.56 1536.44 Q1380.2 1536.44 1378 1537.77 Q1375.84 1539.11 1375.84 1541.79 Q1375.84 1543.82 1377.4 1545 Q1378.96 1546.15 1383.67 1547.2 L1385.67 1547.64 Q1391.91 1548.98 1394.52 1551.43 Q1397.16 1553.85 1397.16 1558.21 Q1397.16 1563.17 1393.22 1566.07 Q1389.3 1568.97 1382.43 1568.97 Q1379.56 1568.97 1376.44 1568.39 Q1373.36 1567.85 1369.92 1566.74 L1369.92 1560.69 Q1373.17 1562.38 1376.32 1563.24 Q1379.47 1564.07 1382.55 1564.07 Q1386.69 1564.07 1388.92 1562.66 Q1391.15 1561.23 1391.15 1558.65 Q1391.15 1556.27 1389.53 1554.99 Q1387.93 1553.72 1382.49 1552.54 L1380.45 1552.07 Q1375.01 1550.92 1372.59 1548.56 Q1370.17 1546.18 1370.17 1542.04 Q1370.17 1537.01 1373.74 1534.27 Q1377.3 1531.54 1383.86 1531.54 Q1387.11 1531.54 1389.97 1532.01 Q1392.84 1532.49 1395.25 1533.45 Z\" fill=\"#000000\" fill-rule=\"evenodd\" fill-opacity=\"1\" /><path clip-path=\"url(#clip540)\" d=\"M1405.57 1518.58 L1410.66 1518.58 Q1415.43 1526.09 1417.79 1533.29 Q1420.18 1540.48 1420.18 1547.58 Q1420.18 1554.71 1417.79 1561.93 Q1415.43 1569.16 1410.66 1576.64 L1405.57 1576.64 Q1409.8 1569.35 1411.87 1562.16 Q1413.97 1554.93 1413.97 1547.58 Q1413.97 1540.23 1411.87 1533.06 Q1409.8 1525.9 1405.57 1518.58 Z\" fill=\"#000000\" fill-rule=\"evenodd\" fill-opacity=\"1\" /><polyline clip-path=\"url(#clip542)\" style=\"stroke:#000000; stroke-linecap:round; stroke-linejoin:round; stroke-width:2; stroke-opacity:0.1; fill:none\" points=\"242.135,1332.44 2352.76,1332.44 \"/>\n",
       "<polyline clip-path=\"url(#clip542)\" style=\"stroke:#000000; stroke-linecap:round; stroke-linejoin:round; stroke-width:2; stroke-opacity:0.1; fill:none\" points=\"242.135,940.15 2352.76,940.15 \"/>\n",
       "<polyline clip-path=\"url(#clip542)\" style=\"stroke:#000000; stroke-linecap:round; stroke-linejoin:round; stroke-width:2; stroke-opacity:0.1; fill:none\" points=\"242.135,547.859 2352.76,547.859 \"/>\n",
       "<polyline clip-path=\"url(#clip542)\" style=\"stroke:#000000; stroke-linecap:round; stroke-linejoin:round; stroke-width:2; stroke-opacity:0.1; fill:none\" points=\"242.135,155.567 2352.76,155.567 \"/>\n",
       "<polyline clip-path=\"url(#clip540)\" style=\"stroke:#000000; stroke-linecap:round; stroke-linejoin:round; stroke-width:4; stroke-opacity:1; fill:none\" points=\"242.135,1423.18 242.135,123.472 \"/>\n",
       "<polyline clip-path=\"url(#clip540)\" style=\"stroke:#000000; stroke-linecap:round; stroke-linejoin:round; stroke-width:4; stroke-opacity:1; fill:none\" points=\"242.135,1332.44 261.032,1332.44 \"/>\n",
       "<polyline clip-path=\"url(#clip540)\" style=\"stroke:#000000; stroke-linecap:round; stroke-linejoin:round; stroke-width:4; stroke-opacity:1; fill:none\" points=\"242.135,940.15 261.032,940.15 \"/>\n",
       "<polyline clip-path=\"url(#clip540)\" style=\"stroke:#000000; stroke-linecap:round; stroke-linejoin:round; stroke-width:4; stroke-opacity:1; fill:none\" points=\"242.135,547.859 261.032,547.859 \"/>\n",
       "<polyline clip-path=\"url(#clip540)\" style=\"stroke:#000000; stroke-linecap:round; stroke-linejoin:round; stroke-width:4; stroke-opacity:1; fill:none\" points=\"242.135,155.567 261.032,155.567 \"/>\n",
       "<path clip-path=\"url(#clip540)\" d=\"M114.26 1332.89 L143.936 1332.89 L143.936 1336.83 L114.26 1336.83 L114.26 1332.89 Z\" fill=\"#000000\" fill-rule=\"evenodd\" fill-opacity=\"1\" /><path clip-path=\"url(#clip540)\" d=\"M154.839 1345.79 L162.477 1345.79 L162.477 1319.42 L154.167 1321.09 L154.167 1316.83 L162.431 1315.16 L167.107 1315.16 L167.107 1345.79 L174.746 1345.79 L174.746 1349.72 L154.839 1349.72 L154.839 1345.79 Z\" fill=\"#000000\" fill-rule=\"evenodd\" fill-opacity=\"1\" /><path clip-path=\"url(#clip540)\" d=\"M194.19 1318.24 Q190.579 1318.24 188.75 1321.81 Q186.945 1325.35 186.945 1332.48 Q186.945 1339.58 188.75 1343.15 Q190.579 1346.69 194.19 1346.69 Q197.825 1346.69 199.63 1343.15 Q201.459 1339.58 201.459 1332.48 Q201.459 1325.35 199.63 1321.81 Q197.825 1318.24 194.19 1318.24 M194.19 1314.54 Q200 1314.54 203.056 1319.14 Q206.135 1323.73 206.135 1332.48 Q206.135 1341.2 203.056 1345.81 Q200 1350.39 194.19 1350.39 Q188.38 1350.39 185.301 1345.81 Q182.246 1341.2 182.246 1332.48 Q182.246 1323.73 185.301 1319.14 Q188.38 1314.54 194.19 1314.54 Z\" fill=\"#000000\" fill-rule=\"evenodd\" fill-opacity=\"1\" /><path clip-path=\"url(#clip540)\" d=\"M194.19 925.949 Q190.579 925.949 188.75 929.514 Q186.945 933.056 186.945 940.185 Q186.945 947.292 188.75 950.856 Q190.579 954.398 194.19 954.398 Q197.825 954.398 199.63 950.856 Q201.459 947.292 201.459 940.185 Q201.459 933.056 199.63 929.514 Q197.825 925.949 194.19 925.949 M194.19 922.245 Q200 922.245 203.056 926.852 Q206.135 931.435 206.135 940.185 Q206.135 948.912 203.056 953.518 Q200 958.102 194.19 958.102 Q188.38 958.102 185.301 953.518 Q182.246 948.912 182.246 940.185 Q182.246 931.435 185.301 926.852 Q188.38 922.245 194.19 922.245 Z\" fill=\"#000000\" fill-rule=\"evenodd\" fill-opacity=\"1\" /><path clip-path=\"url(#clip540)\" d=\"M154.839 561.204 L162.477 561.204 L162.477 534.838 L154.167 536.505 L154.167 532.246 L162.431 530.579 L167.107 530.579 L167.107 561.204 L174.746 561.204 L174.746 565.139 L154.839 565.139 L154.839 561.204 Z\" fill=\"#000000\" fill-rule=\"evenodd\" fill-opacity=\"1\" /><path clip-path=\"url(#clip540)\" d=\"M194.19 533.658 Q190.579 533.658 188.75 537.222 Q186.945 540.764 186.945 547.894 Q186.945 555 188.75 558.565 Q190.579 562.107 194.19 562.107 Q197.825 562.107 199.63 558.565 Q201.459 555 201.459 547.894 Q201.459 540.764 199.63 537.222 Q197.825 533.658 194.19 533.658 M194.19 529.954 Q200 529.954 203.056 534.56 Q206.135 539.144 206.135 547.894 Q206.135 556.62 203.056 561.227 Q200 565.81 194.19 565.81 Q188.38 565.81 185.301 561.227 Q182.246 556.62 182.246 547.894 Q182.246 539.144 185.301 534.56 Q188.38 529.954 194.19 529.954 Z\" fill=\"#000000\" fill-rule=\"evenodd\" fill-opacity=\"1\" /><path clip-path=\"url(#clip540)\" d=\"M158.056 168.912 L174.376 168.912 L174.376 172.847 L152.431 172.847 L152.431 168.912 Q155.093 166.158 159.677 161.528 Q164.283 156.875 165.464 155.533 Q167.709 153.01 168.589 151.273 Q169.491 149.514 169.491 147.824 Q169.491 145.07 167.547 143.334 Q165.626 141.598 162.524 141.598 Q160.325 141.598 157.871 142.361 Q155.44 143.125 152.663 144.676 L152.663 139.954 Q155.487 138.82 157.94 138.241 Q160.394 137.662 162.431 137.662 Q167.802 137.662 170.996 140.348 Q174.19 143.033 174.19 147.523 Q174.19 149.653 173.38 151.574 Q172.593 153.472 170.487 156.065 Q169.908 156.736 166.806 159.954 Q163.704 163.148 158.056 168.912 Z\" fill=\"#000000\" fill-rule=\"evenodd\" fill-opacity=\"1\" /><path clip-path=\"url(#clip540)\" d=\"M194.19 141.366 Q190.579 141.366 188.75 144.931 Q186.945 148.472 186.945 155.602 Q186.945 162.709 188.75 166.273 Q190.579 169.815 194.19 169.815 Q197.825 169.815 199.63 166.273 Q201.459 162.709 201.459 155.602 Q201.459 148.472 199.63 144.931 Q197.825 141.366 194.19 141.366 M194.19 137.662 Q200 137.662 203.056 142.269 Q206.135 146.852 206.135 155.602 Q206.135 164.329 203.056 168.935 Q200 173.519 194.19 173.519 Q188.38 173.519 185.301 168.935 Q182.246 164.329 182.246 155.602 Q182.246 146.852 185.301 142.269 Q188.38 137.662 194.19 137.662 Z\" fill=\"#000000\" fill-rule=\"evenodd\" fill-opacity=\"1\" /><path clip-path=\"url(#clip540)\" d=\"M28.3562 756.711 L45.7028 769.602 L64.0042 756.043 L64.0042 762.95 L49.9996 773.326 L64.0042 783.702 L64.0042 790.609 L45.3526 776.763 L28.3562 789.431 L28.3562 782.524 L41.0558 773.071 L28.3562 763.618 L28.3562 756.711 Z\" fill=\"#000000\" fill-rule=\"evenodd\" fill-opacity=\"1\" /><path clip-path=\"url(#clip540)\" d=\"M1069.78 14.0809 L1069.78 22.0612 Q1065.13 19.8332 1060.99 18.7395 Q1056.86 17.6457 1053.01 17.6457 Q1046.33 17.6457 1042.68 20.2383 Q1039.08 22.8309 1039.08 27.611 Q1039.08 31.6214 1041.47 33.6873 Q1043.9 35.7128 1050.62 36.9686 L1055.57 37.9813 Q1064.72 39.7232 1069.06 44.1387 Q1073.43 48.5136 1073.43 55.8863 Q1073.43 64.6767 1067.52 69.2137 Q1061.64 73.7508 1050.26 73.7508 Q1045.97 73.7508 1041.1 72.7785 Q1036.28 71.8063 1031.1 69.9024 L1031.1 61.4765 Q1036.08 64.2716 1040.86 65.6895 Q1045.64 67.1073 1050.26 67.1073 Q1057.27 67.1073 1061.08 64.3527 Q1064.88 61.598 1064.88 56.4939 Q1064.88 52.0379 1062.13 49.5264 Q1059.41 47.0148 1053.18 45.759 L1048.19 44.7868 Q1039.04 42.9639 1034.95 39.075 Q1030.86 35.1862 1030.86 28.2591 Q1030.86 20.2383 1036.49 15.6203 Q1042.16 11.0023 1052.08 11.0023 Q1056.34 11.0023 1060.75 11.7719 Q1065.17 12.5416 1069.78 14.0809 Z\" fill=\"#000000\" fill-rule=\"evenodd\" fill-opacity=\"1\" /><path clip-path=\"url(#clip540)\" d=\"M1093.24 14.324 L1093.24 27.2059 L1108.59 27.2059 L1108.59 32.9987 L1093.24 32.9987 L1093.24 57.6282 Q1093.24 63.1779 1094.74 64.7578 Q1096.28 66.3376 1100.94 66.3376 L1108.59 66.3376 L1108.59 72.576 L1100.94 72.576 Q1092.31 72.576 1089.03 69.3758 Q1085.75 66.1351 1085.75 57.6282 L1085.75 32.9987 L1080.28 32.9987 L1080.28 27.2059 L1085.75 27.2059 L1085.75 14.324 L1093.24 14.324 Z\" fill=\"#000000\" fill-rule=\"evenodd\" fill-opacity=\"1\" /><path clip-path=\"url(#clip540)\" d=\"M1139.01 49.7694 Q1129.98 49.7694 1126.5 51.8354 Q1123.01 53.9013 1123.01 58.8839 Q1123.01 62.8538 1125.61 65.2034 Q1128.24 67.5124 1132.74 67.5124 Q1138.93 67.5124 1142.66 63.1374 Q1146.43 58.7219 1146.43 51.4303 L1146.43 49.7694 L1139.01 49.7694 M1153.88 46.6907 L1153.88 72.576 L1146.43 72.576 L1146.43 65.6895 Q1143.88 69.8214 1140.07 71.8063 Q1136.26 73.7508 1130.75 73.7508 Q1123.78 73.7508 1119.65 69.8619 Q1115.56 65.9325 1115.56 59.3701 Q1115.56 51.7138 1120.66 47.825 Q1125.81 43.9361 1135.98 43.9361 L1146.43 43.9361 L1146.43 43.2069 Q1146.43 38.0623 1143.02 35.2672 Q1139.66 32.4315 1133.55 32.4315 Q1129.66 32.4315 1125.97 33.3632 Q1122.28 34.295 1118.88 36.1584 L1118.88 29.2718 Q1122.97 27.692 1126.82 26.9223 Q1130.67 26.1121 1134.32 26.1121 Q1144.16 26.1121 1149.02 31.2163 Q1153.88 36.3204 1153.88 46.6907 Z\" fill=\"#000000\" fill-rule=\"evenodd\" fill-opacity=\"1\" /><path clip-path=\"url(#clip540)\" d=\"M1176.61 14.324 L1176.61 27.2059 L1191.96 27.2059 L1191.96 32.9987 L1176.61 32.9987 L1176.61 57.6282 Q1176.61 63.1779 1178.11 64.7578 Q1179.64 66.3376 1184.3 66.3376 L1191.96 66.3376 L1191.96 72.576 L1184.3 72.576 Q1175.68 72.576 1172.39 69.3758 Q1169.11 66.1351 1169.11 57.6282 L1169.11 32.9987 L1163.64 32.9987 L1163.64 27.2059 L1169.11 27.2059 L1169.11 14.324 L1176.61 14.324 Z\" fill=\"#000000\" fill-rule=\"evenodd\" fill-opacity=\"1\" /><path clip-path=\"url(#clip540)\" d=\"M1240.57 48.0275 L1240.57 51.6733 L1206.3 51.6733 Q1206.79 59.3701 1210.92 63.421 Q1215.09 67.4314 1222.5 67.4314 Q1226.8 67.4314 1230.81 66.3781 Q1234.86 65.3249 1238.83 63.2184 L1238.83 70.267 Q1234.82 71.9684 1230.61 72.8596 Q1226.39 73.7508 1222.06 73.7508 Q1211.2 73.7508 1204.84 67.4314 Q1198.52 61.1119 1198.52 50.3365 Q1198.52 39.1965 1204.52 32.6746 Q1210.55 26.1121 1220.76 26.1121 Q1229.92 26.1121 1235.22 32.0264 Q1240.57 37.9003 1240.57 48.0275 M1233.12 45.84 Q1233.04 39.7232 1229.67 36.0774 Q1226.35 32.4315 1220.84 32.4315 Q1214.6 32.4315 1210.84 35.9558 Q1207.11 39.4801 1206.54 45.8805 L1233.12 45.84 Z\" fill=\"#000000\" fill-rule=\"evenodd\" fill-opacity=\"1\" /><path clip-path=\"url(#clip540)\" d=\"M1279.5 12.096 L1287.68 12.096 L1287.68 36.8875 L1317.42 36.8875 L1317.42 12.096 L1325.6 12.096 L1325.6 72.576 L1317.42 72.576 L1317.42 43.7741 L1287.68 43.7741 L1287.68 72.576 L1279.5 72.576 L1279.5 12.096 Z\" fill=\"#000000\" fill-rule=\"evenodd\" fill-opacity=\"1\" /><path clip-path=\"url(#clip540)\" d=\"M1341.56 27.2059 L1349.01 27.2059 L1349.01 72.576 L1341.56 72.576 L1341.56 27.2059 M1341.56 9.54393 L1349.01 9.54393 L1349.01 18.9825 L1341.56 18.9825 L1341.56 9.54393 Z\" fill=\"#000000\" fill-rule=\"evenodd\" fill-opacity=\"1\" /><path clip-path=\"url(#clip540)\" d=\"M1393.53 28.5427 L1393.53 35.5912 Q1390.37 33.9709 1386.97 33.1607 Q1383.57 32.3505 1379.92 32.3505 Q1374.37 32.3505 1371.58 34.0519 Q1368.82 35.7533 1368.82 39.156 Q1368.82 41.7486 1370.81 43.2475 Q1372.79 44.7058 1378.79 46.0426 L1381.34 46.6097 Q1389.28 48.3111 1392.6 51.4303 Q1395.96 54.509 1395.96 60.0587 Q1395.96 66.3781 1390.94 70.0644 Q1385.96 73.7508 1377.21 73.7508 Q1373.56 73.7508 1369.59 73.0216 Q1365.66 72.3329 1361.29 70.9151 L1361.29 63.2184 Q1365.42 65.3654 1369.43 66.4591 Q1373.44 67.5124 1377.37 67.5124 Q1382.64 67.5124 1385.47 65.73 Q1388.31 63.9071 1388.31 60.6258 Q1388.31 57.5877 1386.24 55.9673 Q1384.22 54.3469 1377.29 52.8481 L1374.7 52.2405 Q1367.77 50.7821 1364.69 47.7845 Q1361.61 44.7463 1361.61 39.4801 Q1361.61 33.0797 1366.15 29.5959 Q1370.69 26.1121 1379.03 26.1121 Q1383.16 26.1121 1386.81 26.7198 Q1390.45 27.3274 1393.53 28.5427 Z\" fill=\"#000000\" fill-rule=\"evenodd\" fill-opacity=\"1\" /><path clip-path=\"url(#clip540)\" d=\"M1415.21 14.324 L1415.21 27.2059 L1430.56 27.2059 L1430.56 32.9987 L1415.21 32.9987 L1415.21 57.6282 Q1415.21 63.1779 1416.7 64.7578 Q1418.24 66.3376 1422.9 66.3376 L1430.56 66.3376 L1430.56 72.576 L1422.9 72.576 Q1414.27 72.576 1410.99 69.3758 Q1407.71 66.1351 1407.71 57.6282 L1407.71 32.9987 L1402.24 32.9987 L1402.24 27.2059 L1407.71 27.2059 L1407.71 14.324 L1415.21 14.324 Z\" fill=\"#000000\" fill-rule=\"evenodd\" fill-opacity=\"1\" /><path clip-path=\"url(#clip540)\" d=\"M1457.94 32.4315 Q1451.95 32.4315 1448.46 37.1306 Q1444.98 41.7891 1444.98 49.9314 Q1444.98 58.0738 1448.42 62.7728 Q1451.91 67.4314 1457.94 67.4314 Q1463.9 67.4314 1467.38 62.7323 Q1470.86 58.0333 1470.86 49.9314 Q1470.86 41.8701 1467.38 37.1711 Q1463.9 32.4315 1457.94 32.4315 M1457.94 26.1121 Q1467.66 26.1121 1473.21 32.4315 Q1478.76 38.7509 1478.76 49.9314 Q1478.76 61.0714 1473.21 67.4314 Q1467.66 73.7508 1457.94 73.7508 Q1448.18 73.7508 1442.63 67.4314 Q1437.12 61.0714 1437.12 49.9314 Q1437.12 38.7509 1442.63 32.4315 Q1448.18 26.1121 1457.94 26.1121 Z\" fill=\"#000000\" fill-rule=\"evenodd\" fill-opacity=\"1\" /><path clip-path=\"url(#clip540)\" d=\"M1517.41 34.1734 Q1516.15 33.4443 1514.65 33.1202 Q1513.2 32.7556 1511.41 32.7556 Q1505.09 32.7556 1501.69 36.8875 Q1498.33 40.9789 1498.33 48.6757 L1498.33 72.576 L1490.84 72.576 L1490.84 27.2059 L1498.33 27.2059 L1498.33 34.2544 Q1500.68 30.1225 1504.45 28.1376 Q1508.21 26.1121 1513.6 26.1121 Q1514.37 26.1121 1515.3 26.2337 Q1516.23 26.3147 1517.37 26.5172 L1517.41 34.1734 Z\" fill=\"#000000\" fill-rule=\"evenodd\" fill-opacity=\"1\" /><path clip-path=\"url(#clip540)\" d=\"M1544.1 76.7889 Q1540.95 84.8907 1537.95 87.3618 Q1534.95 89.8329 1529.93 89.8329 L1523.97 89.8329 L1523.97 83.5945 L1528.35 83.5945 Q1531.43 83.5945 1533.13 82.1361 Q1534.83 80.6778 1536.89 75.2496 L1538.23 71.8468 L1519.88 27.2059 L1527.78 27.2059 L1541.96 62.6918 L1556.14 27.2059 L1564.04 27.2059 L1544.1 76.7889 Z\" fill=\"#000000\" fill-rule=\"evenodd\" fill-opacity=\"1\" /><polyline clip-path=\"url(#clip542)\" style=\"stroke:#009af9; stroke-linecap:round; stroke-linejoin:round; stroke-width:4; stroke-opacity:1; fill:none\" points=\"301.869,780.901 309.006,769.123 316.143,771.509 323.279,776.484 330.416,782.829 337.553,789.89 344.69,793.136 351.826,798.543 358.963,810.131 366.1,816.21 373.237,831.095 380.373,847.062 387.51,846.405 394.647,840.928 401.784,842.724 408.92,847.259 416.057,852.238 423.194,864.636 430.331,870.243 437.467,873.107 444.604,883.308 451.741,894.655 458.878,897.099 466.014,898.249 473.151,906.066 480.288,912.128 487.425,917.173 494.561,921.703 501.698,926.518 508.835,927.49 515.972,931.645 523.108,934.315 530.245,937.753 537.382,940.508 544.519,945.972 551.655,948.267 558.792,951.656 565.929,953.928 573.066,958.641 580.202,961.082 587.339,965.927 594.476,968.057 601.613,971.12 608.749,980.182 615.886,980.694 623.023,983.992 630.16,988.935 637.296,994.708 644.433,998.41 651.57,999.833 658.707,1003.07 665.843,1007.97 672.98,1015.73 680.117,1018.58 687.254,1019.96 694.39,1021.26 701.527,1024.58 708.664,1026.55 715.801,1029.98 722.937,1030.93 730.074,1031.66 737.211,1034.28 744.347,1037.05 751.484,1039.13 758.621,1038.73 765.758,1040.9 772.894,1041.39 780.031,1042.82 787.168,1044.58 794.305,1043.98 801.441,1044.33 808.578,1042.26 815.715,1042.62 822.852,1045.52 829.988,1047.48 837.125,1050.68 844.262,1053.71 851.399,1053.23 858.535,1050.89 865.672,1050.63 872.809,1048.57 879.946,1046.78 887.082,1045.46 894.219,1047.04 901.356,1046.8 908.493,1046.43 915.629,1046.34 922.766,1046.9 929.903,1048.02 937.04,1048.47 944.176,1048.69 951.313,1047.58 958.45,1046.68 965.587,1046.83 972.723,1045.21 979.86,1044.75 986.997,1044.03 994.134,1043.51 1001.27,1042.63 1008.41,1042.65 1015.54,1041.79 1022.68,1039.9 1029.82,1038.9 1036.95,1037.8 1044.09,1038.18 1051.23,1037.2 1058.36,1035.85 1065.5,1035.15 1072.64,1031.87 1079.77,1031.5 1086.91,1028.39 1094.05,1025.77 1101.18,1022.91 1108.32,1020.23 1115.46,1016.94 1122.6,1015.37 1129.73,1013.49 1136.87,1011.72 1144.01,1009.29 1151.14,1006.58 1158.28,1003.12 1165.42,1000.67 1172.55,999.053 1179.69,995.946 1186.83,993.822 1193.96,992.935 1201.1,990.944 1208.24,988.92 1215.37,987.546 1222.51,986.228 1229.65,984.228 1236.78,982.382 1243.92,980.644 1251.06,978.902 1258.19,977.827 1265.33,976.757 1272.47,974.928 1279.6,973.045 1286.74,971.813 1293.88,970.379 1301.01,968.93 1308.15,967.654 1315.29,967.133 1322.42,965.575 1329.56,964.487 1336.7,963.086 1343.83,962.177 1350.97,960.771 1358.11,959.807 1365.24,958.793 1372.38,958.055 1379.52,957.305 1386.65,956.535 1393.79,955.902 1400.93,955.273 1408.06,954.519 1415.2,953.966 1422.34,953.369 1429.48,952.912 1436.61,952.391 1443.75,951.86 1450.89,951.399 1458.02,950.843 1465.16,950.53 1472.3,950.174 1479.43,949.67 1486.57,949.277 1493.71,948.883 1500.84,948.676 1507.98,948.343 1515.12,948.032 1522.25,947.626 1529.39,947.203 1536.53,946.795 1543.66,946.567 1550.8,946.256 1557.94,946.03 1565.07,945.839 1572.21,945.702 1579.35,945.544 1586.48,945.291 1593.62,945.049 1600.76,944.765 1607.89,944.54 1615.03,944.371 1622.17,944.203 1629.3,943.976 1636.44,943.867 1643.58,943.705 1650.71,943.555 1657.85,943.421 1664.99,943.37 1672.12,943.244 1679.26,943.044 1686.4,942.898 1693.53,942.784 1700.67,942.704 1707.81,942.598 1714.94,942.49 1722.08,942.347 1729.22,942.249 1736.36,942.145 1743.49,942.059 1750.63,941.983 1757.77,941.917 1764.9,941.856 1772.04,941.802 1779.18,941.748 1786.31,941.683 1793.45,941.605 1800.59,941.545 1807.72,941.518 1814.86,941.448 1822,941.417 1829.13,941.368 1836.27,941.33 1843.41,941.298 1850.54,941.279 1857.68,941.213 1864.82,941.175 1871.95,941.164 1879.09,941.145 1886.23,941.114 1893.36,941.086 1900.5,941.063 1907.64,941.053 1914.77,941.03 1921.91,941.001 1929.05,940.968 1936.18,940.942 1943.32,940.926 1950.46,940.911 1957.59,940.906 1964.73,940.907 1971.87,940.89 1979,940.891 1986.14,940.883 1993.28,940.863 2000.41,940.837 2007.55,940.837 2014.69,940.822 2021.83,940.795 2028.96,940.769 2036.1,940.749 2043.24,940.732 2050.37,940.729 2057.51,940.723 2064.65,940.711 2071.78,940.704 2078.92,940.695 2086.06,940.686 2093.19,940.677 2100.33,940.673 2107.47,940.669 2114.6,940.661 2121.74,940.662 2128.88,940.661 2136.01,940.657 2143.15,940.646 2150.29,940.648 2157.42,940.633 2164.56,940.623 2171.7,940.615 2178.83,940.611 2185.97,940.596 2193.11,940.586 2200.24,940.572 2207.38,940.565 2214.52,940.561 2221.65,940.549 2228.79,940.538 2235.93,940.532 2243.06,940.532 2250.2,940.529 2257.34,940.52 2264.47,940.518 2271.61,940.52 2278.75,940.518 2285.88,940.509 2293.02,940.505 \"/>\n",
       "<polyline clip-path=\"url(#clip542)\" style=\"stroke:#e26f46; stroke-linecap:round; stroke-linejoin:round; stroke-width:4; stroke-opacity:1; fill:none\" points=\"301.869,858.692 309.006,872.217 316.143,872.276 323.279,874.061 330.416,860.417 337.553,871.565 344.69,872.141 351.826,865.907 358.963,854.407 366.1,852.809 373.237,852.162 380.373,846.359 387.51,849.825 394.647,850.687 401.784,847.678 408.92,841.676 416.057,841.85 423.194,847.002 430.331,846.35 437.467,848.184 444.604,850.269 451.741,857.4 458.878,851.921 466.014,842.709 473.151,843.176 480.288,840.933 487.425,839.897 494.561,838.37 501.698,832.752 508.835,828.723 515.972,825.123 523.108,818.318 530.245,814.908 537.382,808.875 544.519,805.899 551.655,807.7 558.792,804.975 565.929,802.869 573.066,800.463 580.202,800.686 587.339,797.718 594.476,796.433 601.613,795.58 608.749,793.435 615.886,795.021 623.023,794.307 630.16,792.937 637.296,790.219 644.433,789.325 651.57,790.687 658.707,789.999 665.843,788.878 672.98,790.486 680.117,791.526 687.254,789.123 694.39,789.041 701.527,787.144 708.664,789.671 715.801,790.378 722.937,790.401 730.074,790.747 737.211,792.313 744.347,790.663 751.484,794.003 758.621,795.241 765.758,795.752 772.894,794.765 780.031,794.605 787.168,795.006 794.305,796.828 801.441,796.953 808.578,796.669 815.715,798.413 822.852,798.849 829.988,799.061 837.125,801.021 844.262,801.495 851.399,801.674 858.535,804.993 865.672,807.922 872.809,807.656 879.946,807.381 887.082,806.047 894.219,807.716 901.356,808.261 908.493,810.52 915.629,812.707 922.766,816.497 929.903,816.878 937.04,818.923 944.176,821.835 951.313,823.755 958.45,825.064 965.587,828.36 972.723,829.311 979.86,832.736 986.997,834.675 994.134,836.905 1001.27,839.969 1008.41,841.814 1015.54,843.005 1022.68,844.788 1029.82,847.459 1036.95,848.644 1044.09,849.937 1051.23,850.645 1058.36,851.852 1065.5,855.912 1072.64,858.527 1079.77,861.136 1086.91,863.338 1094.05,865.772 1101.18,867.112 1108.32,867.822 1115.46,869.336 1122.6,872.221 1129.73,875.526 1136.87,878.349 1144.01,881.566 1151.14,883.241 1158.28,885.591 1165.42,887.712 1172.55,889.819 1179.69,891.262 1186.83,893.698 1193.96,895.639 1201.1,897.8 1208.24,899.248 1215.37,900.899 1222.51,902.361 1229.65,903.637 1236.78,904.971 1243.92,906.056 1251.06,907.141 1258.19,907.847 1265.33,909.024 1272.47,910.145 1279.6,911.504 1286.74,912.891 1293.88,913.437 1301.01,914.536 1308.15,915.732 1315.29,916.981 1322.42,917.938 1329.56,918.881 1336.7,920.088 1343.83,920.851 1350.97,921.413 1358.11,922.065 1365.24,923.114 1372.38,924.21 1379.52,925.118 1386.65,925.82 1393.79,926.382 1400.93,926.731 1408.06,927.07 1415.2,927.634 1422.34,928.297 1429.48,928.793 1436.61,929.205 1443.75,929.743 1450.89,930.28 1458.02,930.833 1465.16,931.227 1472.3,931.636 1479.43,932.138 1486.57,932.459 1493.71,932.781 1500.84,932.97 1507.98,933.276 1515.12,933.601 1522.25,933.803 1529.39,934.033 1536.53,934.21 1543.66,934.401 1550.8,934.577 1557.94,934.731 1565.07,934.923 1572.21,935.146 1579.35,935.357 1586.48,935.599 1593.62,935.807 1600.76,936.01 1607.89,936.138 1615.03,936.317 1622.17,936.438 1629.3,936.58 1636.44,936.795 1643.58,936.912 1650.71,937.024 1657.85,937.157 1664.99,937.312 1672.12,937.396 1679.26,937.508 1686.4,937.651 1693.53,937.797 1700.67,937.918 1707.81,937.996 1714.94,938.071 1722.08,938.142 1729.22,938.228 1736.36,938.291 1743.49,938.343 1750.63,938.438 1757.77,938.501 1764.9,938.553 1772.04,938.596 1779.18,938.657 1786.31,938.705 1793.45,938.768 1800.59,938.815 1807.72,938.852 1814.86,938.887 1822,938.933 1829.13,938.965 1836.27,938.992 1843.41,939 1850.54,939.023 1857.68,939.077 1864.82,939.104 1871.95,939.116 1879.09,939.146 1886.23,939.165 1893.36,939.188 1900.5,939.191 1907.64,939.221 1914.77,939.249 1921.91,939.281 1929.05,939.322 1936.18,939.342 1943.32,939.367 1950.46,939.378 1957.59,939.396 1964.73,939.413 1971.87,939.418 1979,939.427 1986.14,939.436 1993.28,939.445 2000.41,939.447 2007.55,939.472 2014.69,939.486 2021.83,939.508 2028.96,939.522 2036.1,939.523 2043.24,939.544 2050.37,939.553 2057.51,939.562 2064.65,939.583 2071.78,939.593 2078.92,939.604 2086.06,939.612 2093.19,939.62 2100.33,939.628 2107.47,939.637 2114.6,939.649 2121.74,939.645 2128.88,939.654 2136.01,939.662 2143.15,939.67 2150.29,939.683 2157.42,939.683 2164.56,939.688 2171.7,939.697 2178.83,939.711 2185.97,939.708 2193.11,939.72 2200.24,939.732 2207.38,939.741 2214.52,939.748 2221.65,939.752 2228.79,939.763 2235.93,939.761 2243.06,939.766 2250.2,939.773 2257.34,939.776 2264.47,939.783 2271.61,939.792 2278.75,939.796 2285.88,939.794 2293.02,939.798 \"/>\n",
       "<polyline clip-path=\"url(#clip542)\" style=\"stroke:#3da44d; stroke-linecap:round; stroke-linejoin:round; stroke-width:4; stroke-opacity:1; fill:none\" points=\"301.869,160.256 309.006,166.466 316.143,174.602 323.279,199.845 330.416,213.549 337.553,228.16 344.69,247.889 351.826,252.215 358.963,278.284 366.1,309.192 373.237,334.034 380.373,362.426 387.51,392.168 394.647,407.96 401.784,432.642 408.92,453.332 416.057,482.029 423.194,495.455 430.331,512.529 437.467,534.177 444.604,556.772 451.741,574.667 458.878,595.859 466.014,610.765 473.151,627.049 480.288,637.221 487.425,643.485 494.561,655.432 501.698,666.887 508.835,676.984 515.972,687.067 523.108,697.118 530.245,705.694 537.382,718.839 544.519,732.223 551.655,741.802 558.792,749.393 565.929,758.706 573.066,764.405 580.202,770.893 587.339,779.037 594.476,784.847 601.613,790.999 608.749,796.184 615.886,800.885 623.023,803.996 630.16,806.984 637.296,812.608 644.433,817.568 651.57,818.453 658.707,820.996 665.843,824.703 672.98,827.952 680.117,835.217 687.254,840.161 694.39,844.675 701.527,847.049 708.664,852.878 715.801,856.058 722.937,859.681 730.074,862.378 737.211,863.876 744.347,867.517 751.484,870.388 758.621,871.679 765.758,873.56 772.894,876.501 780.031,877.239 787.168,878.965 794.305,880.997 801.441,883.312 808.578,884.989 815.715,887.122 822.852,888.148 829.988,889.098 837.125,888.141 844.262,888.872 851.399,889.096 858.535,892.527 865.672,891.348 872.809,892.241 879.946,895.226 887.082,896.122 894.219,896.83 901.356,899.148 908.493,899.619 915.629,899.258 922.766,901.079 929.903,900.174 937.04,901.247 944.176,902.836 951.313,901.846 958.45,901.683 965.587,902.92 972.723,904.144 979.86,905.761 986.997,906.841 994.134,909.236 1001.27,909.309 1008.41,910.593 1015.54,910.129 1022.68,910.507 1029.82,911.274 1036.95,910.765 1044.09,910.417 1051.23,911.454 1058.36,913.147 1065.5,913.908 1072.64,916.884 1079.77,918.776 1086.91,918.704 1094.05,919.044 1101.18,919.04 1108.32,919.641 1115.46,920.185 1122.6,921.056 1129.73,921.928 1136.87,922.077 1144.01,924.004 1151.14,924.235 1158.28,923.647 1165.42,924.049 1172.55,924.461 1179.69,925.257 1186.83,926.185 1193.96,926.689 1201.1,926.924 1208.24,927.351 1215.37,928.083 1222.51,928.262 1229.65,928.527 1236.78,928.574 1243.92,928.86 1251.06,929.458 1258.19,930.477 1265.33,931.139 1272.47,931.786 1279.6,931.861 1286.74,932.28 1293.88,932.371 1301.01,932.783 1308.15,933.066 1315.29,932.807 1322.42,932.842 1329.56,933.04 1336.7,933.396 1343.83,934.06 1350.97,934.305 1358.11,934.324 1365.24,934.611 1372.38,935.005 1379.52,934.974 1386.65,935.191 1393.79,935.547 1400.93,935.754 1408.06,935.819 1415.2,936.047 1422.34,936.153 1429.48,936.168 1436.61,936.518 1443.75,936.801 1450.89,937.009 1458.02,937.003 1465.16,937.138 1472.3,937.322 1479.43,937.407 1486.57,937.553 1493.71,937.637 1500.84,937.695 1507.98,937.931 1515.12,938.266 1522.25,938.333 1529.39,938.42 1536.53,938.425 1543.66,938.489 1550.8,938.516 1557.94,938.684 1565.07,938.757 1572.21,938.802 1579.35,938.881 1586.48,938.927 1593.62,938.988 1600.76,939.034 1607.89,939.025 1615.03,939.042 1622.17,939.145 1629.3,939.277 1636.44,939.296 1643.58,939.274 1650.71,939.264 1657.85,939.276 1664.99,939.264 1672.12,939.298 1679.26,939.34 1686.4,939.43 1693.53,939.452 1700.67,939.5 1707.81,939.546 1714.94,939.601 1722.08,939.594 1729.22,939.622 1736.36,939.636 1743.49,939.613 1750.63,939.593 1757.77,939.603 1764.9,939.633 1772.04,939.64 1779.18,939.647 1786.31,939.668 1793.45,939.689 1800.59,939.719 1807.72,939.765 1814.86,939.803 1822,939.823 1829.13,939.861 1836.27,939.858 1843.41,939.861 1850.54,939.858 1857.68,939.878 1864.82,939.87 1871.95,939.875 1879.09,939.885 1886.23,939.896 1893.36,939.91 1900.5,939.907 1907.64,939.907 1914.77,939.905 1921.91,939.92 1929.05,939.927 1936.18,939.949 1943.32,939.957 1950.46,939.95 1957.59,939.954 1964.73,939.951 1971.87,939.956 1979,939.975 1986.14,939.987 1993.28,939.999 2000.41,940.001 2007.55,940.01 2014.69,940.029 2021.83,940.024 2028.96,940.036 2036.1,940.042 2043.24,940.036 2050.37,940.029 2057.51,940.03 2064.65,940.037 2071.78,940.038 2078.92,940.034 2086.06,940.034 2093.19,940.033 2100.33,940.03 2107.47,940.034 2114.6,940.042 2121.74,940.039 2128.88,940.044 2136.01,940.047 2143.15,940.054 2150.29,940.062 2157.42,940.059 2164.56,940.072 2171.7,940.077 2178.83,940.082 2185.97,940.089 2193.11,940.086 2200.24,940.092 2207.38,940.091 2214.52,940.096 2221.65,940.102 2228.79,940.109 2235.93,940.113 2243.06,940.111 2250.2,940.112 2257.34,940.11 2264.47,940.111 2271.61,940.109 2278.75,940.112 2285.88,940.111 2293.02,940.112 \"/>\n",
       "<polyline clip-path=\"url(#clip542)\" style=\"stroke:#c271d2; stroke-linecap:round; stroke-linejoin:round; stroke-width:4; stroke-opacity:1; fill:none\" stroke-dasharray=\"16, 10\" points=\"301.869,1057.84 309.006,1057.84 316.143,1057.84 323.279,1057.84 330.416,1057.84 337.553,1057.84 344.69,1057.84 351.826,1057.84 358.963,1057.84 366.1,1057.84 373.237,1057.84 380.373,1057.84 387.51,1057.84 394.647,1057.84 401.784,1056.95 408.92,1055.11 416.057,1053.49 423.194,1051.47 430.331,1049.98 437.467,1048.28 444.604,1046.36 451.741,1044.29 458.878,1042.34 466.014,1040.21 473.151,1038.39 480.288,1036.53 487.425,1034.9 494.561,1033.47 501.698,1031.72 508.835,1029.98 515.972,1028.34 523.108,1026.67 530.245,1025.06 537.382,1023.51 544.519,1021.72 551.655,1019.92 558.792,1018.27 565.929,1016.8 573.066,1015.18 580.202,1013.74 587.339,1012.24 594.476,1010.29 601.613,1009.21 608.749,1007.7 615.886,1005.98 623.023,1004.78 630.16,1003.09 637.296,1001.82 644.433,1000.44 651.57,998.62 658.707,997.223 665.843,995.903 672.98,994.591 680.117,993.282 687.254,991.542 694.39,989.992 701.527,988.283 708.664,986.682 715.801,985.035 722.937,983.776 730.074,982.124 737.211,980.779 744.347,979.159 751.484,977.57 758.621,976.045 765.758,974.645 772.894,973.328 780.031,971.672 787.168,970.175 794.305,968.954 801.441,967.258 808.578,965.934 815.715,964.477 822.852,962.789 829.988,961.41 837.125,960.07 844.262,958.713 851.399,957.244 858.535,955.783 865.672,954.141 872.809,952.807 879.946,951.268 887.082,949.802 894.219,948.34 901.356,946.884 908.493,945.314 915.629,943.877 922.766,942.406 929.903,940.921 937.04,939.518 944.176,937.975 951.313,936.39 958.45,934.981 965.587,933.508 972.723,931.922 979.86,930.327 986.997,928.713 994.134,927.108 1001.27,925.348 1008.41,923.829 1015.54,922.177 1022.68,920.651 1029.82,919.054 1036.95,917.415 1044.09,915.861 1051.23,914.274 1058.36,912.594 1065.5,910.867 1072.64,909.193 1079.77,907.343 1086.91,905.554 1094.05,903.915 1101.18,902.286 1108.32,900.664 1115.46,899.024 1122.6,897.582 1129.73,896.767 1136.87,896.641 1144.01,896.848 1151.14,897.476 1158.28,898.34 1165.42,899.291 1172.55,900.446 1179.69,901.254 1186.83,902.325 1193.96,903.31 1201.1,903.69 1208.24,904.888 1215.37,905.311 1222.51,906.367 1229.65,906.233 1236.78,907.199 1243.92,908.004 1251.06,908.663 1258.19,909.552 1265.33,910.373 1272.47,911.024 1279.6,911.416 1286.74,912.359 1293.88,913.465 1301.01,914.431 1308.15,915.524 1315.29,916.603 1322.42,917.487 1329.56,918.45 1336.7,919.358 1343.83,920.391 1350.97,921.247 1358.11,922.319 1365.24,923.24 1372.38,924.222 1379.52,924.995 1386.65,925.575 1393.79,926.326 1400.93,927.136 1408.06,927.452 1415.2,928.18 1422.34,928.736 1429.48,929.117 1436.61,929.769 1443.75,930.238 1450.89,930.286 1458.02,930.689 1465.16,931.238 1472.3,931.464 1479.43,931.965 1486.57,932.139 1493.71,932.426 1500.84,932.716 1507.98,932.863 1515.12,933.307 1522.25,933.754 1529.39,933.983 1536.53,934.813 1543.66,934.779 1550.8,935.176 1557.94,935.232 1565.07,935.495 1572.21,935.673 1579.35,935.657 1586.48,935.78 1593.62,935.697 1600.76,936.214 1607.89,936.579 1615.03,936.487 1622.17,936.916 1629.3,936.793 1636.44,937.262 1643.58,937.415 1650.71,937.417 1657.85,937.586 1664.99,937.774 1672.12,937.605 1679.26,937.726 1686.4,937.956 1693.53,938.252 1700.67,938.216 1707.81,938.328 1714.94,938.353 1722.08,938.394 1729.22,938.491 1736.36,938.709 1743.49,938.82 1750.63,938.727 1757.77,938.871 1764.9,939.103 1772.04,938.962 1779.18,938.986 1786.31,939.103 1793.45,939.121 1800.59,939.218 1807.72,939.252 1814.86,939.17 1822,939.338 1829.13,939.438 1836.27,939.437 1843.41,939.519 1850.54,939.483 1857.68,939.477 1864.82,939.702 1871.95,939.549 1879.09,939.528 1886.23,939.625 1893.36,939.618 1900.5,939.712 1907.64,939.697 1914.77,939.687 1921.91,939.768 1929.05,939.551 1936.18,939.799 1943.32,939.817 1950.46,939.71 1957.59,939.871 1964.73,939.857 1971.87,939.862 1979,939.868 1986.14,939.9 1993.28,939.864 2000.41,939.866 2007.55,939.939 2014.69,939.949 2021.83,939.588 2028.96,939.931 2036.1,939.964 2043.24,939.914 2050.37,939.99 2057.51,939.935 2064.65,939.864 2071.78,939.965 2078.92,940.012 2086.06,939.943 2093.19,940.014 2100.33,939.987 2107.47,939.946 2114.6,939.985 2121.74,939.972 2128.88,939.945 2136.01,940.024 2143.15,939.992 2150.29,940.048 2157.42,940.007 2164.56,940.028 2171.7,939.983 2178.83,940.048 2185.97,939.982 2193.11,940.054 2200.24,939.948 2207.38,940.063 2214.52,939.987 2221.65,940.072 2228.79,940.063 2235.93,940.082 2243.06,940.043 2250.2,940.076 2257.34,940.031 2264.47,940.087 2271.61,940.081 2278.75,940.095 2285.88,940.05 2293.02,940.093 \"/>\n",
       "<polyline clip-path=\"url(#clip542)\" style=\"stroke:#ac8d18; stroke-linecap:round; stroke-linejoin:round; stroke-width:4; stroke-opacity:1; fill:none\" stroke-dasharray=\"16, 10\" points=\"301.869,861.693 309.006,861.692 316.143,861.693 323.279,861.692 330.416,861.693 337.553,861.692 344.69,861.693 351.826,861.693 358.963,861.693 366.1,861.694 373.237,861.694 380.373,861.694 387.51,861.693 394.647,861.693 401.784,863.215 408.92,866.342 416.057,869.082 423.194,872.377 430.331,874.57 437.467,877.001 444.604,879.674 451.741,882.353 458.878,884.626 466.014,887.151 473.151,889.381 480.288,891.562 487.425,893.414 494.561,895.012 501.698,896.935 508.835,898.838 515.972,900.67 523.108,902.514 530.245,904.34 537.382,906.089 544.519,908.13 551.655,910.158 558.792,911.971 565.929,913.584 573.066,915.349 580.202,916.904 587.339,918.498 594.476,920.554 601.613,921.684 608.749,923.241 615.886,924.948 623.023,926.13 630.16,927.766 637.296,928.972 644.433,930.264 651.57,931.942 658.707,933.212 665.843,934.397 672.98,935.556 680.117,936.655 687.254,938.083 694.39,939.366 701.527,940.773 708.664,942.084 715.801,943.397 722.937,944.378 730.074,945.661 737.211,946.7 744.347,947.922 751.484,949.115 758.621,950.222 765.758,951.231 772.894,952.166 780.031,953.351 787.168,954.415 794.305,955.272 801.441,956.45 808.578,957.369 815.715,958.402 822.852,959.575 829.988,960.512 837.125,961.413 844.262,962.289 851.399,963.214 858.535,964.136 865.672,965.158 872.809,965.967 879.946,966.922 887.082,967.852 894.219,968.808 901.356,969.729 908.493,970.722 915.629,971.608 922.766,972.495 929.903,973.338 937.04,974.124 944.176,974.962 951.313,975.778 958.45,976.496 965.587,977.237 972.723,977.982 979.86,978.739 986.997,979.451 994.134,980.135 1001.27,980.854 1008.41,981.422 1015.54,982.005 1022.68,982.536 1029.82,983.073 1036.95,983.576 1044.09,984.038 1051.23,984.477 1058.36,984.942 1065.5,985.402 1072.64,985.702 1079.77,985.959 1086.91,986.078 1094.05,986.114 1101.18,985.994 1108.32,985.786 1115.46,985.511 1122.6,984.894 1129.73,983.46 1136.87,981.804 1144.01,980.114 1151.14,978.421 1158.28,976.965 1165.42,975.621 1172.55,974.597 1179.69,973.704 1186.83,972.986 1193.96,972.094 1201.1,971.261 1208.24,970.107 1215.37,969.559 1222.51,968.439 1229.65,968.187 1236.78,967.414 1243.92,966.831 1251.06,966.52 1258.19,965.977 1265.33,965.421 1272.47,964.885 1279.6,964.785 1286.74,964.145 1293.88,963.173 1301.01,962.536 1308.15,961.746 1315.29,960.868 1322.42,959.849 1329.56,959.05 1336.7,958.286 1343.83,957.408 1350.97,956.704 1358.11,956.169 1365.24,955.543 1372.38,954.681 1379.52,953.788 1386.65,953.139 1393.79,952.334 1400.93,951.561 1408.06,951.381 1415.2,950.952 1422.34,950.476 1429.48,950.078 1436.61,949.423 1443.75,949.01 1450.89,948.928 1458.02,948.484 1465.16,947.937 1472.3,947.646 1479.43,947.115 1486.57,946.903 1493.71,946.65 1500.84,946.422 1507.98,946.288 1515.12,945.9 1522.25,945.464 1529.39,945.371 1536.53,944.77 1543.66,944.931 1550.8,944.602 1557.94,944.641 1565.07,944.442 1572.21,944.265 1579.35,944.199 1586.48,944.034 1593.62,944.093 1600.76,943.639 1607.89,943.358 1615.03,943.5 1622.17,943.088 1629.3,943.226 1636.44,942.849 1643.58,942.62 1650.71,942.641 1657.85,942.506 1664.99,942.326 1672.12,942.392 1679.26,942.309 1686.4,942.153 1693.53,941.879 1700.67,941.879 1707.81,941.743 1714.94,941.731 1722.08,941.715 1729.22,941.67 1736.36,941.47 1743.49,941.392 1750.63,941.499 1757.77,941.346 1764.9,941.128 1772.04,941.262 1779.18,941.246 1786.31,941.129 1793.45,941.122 1800.59,941.036 1807.72,941.012 1814.86,941.08 1822,940.943 1829.13,940.836 1836.27,940.845 1843.41,940.769 1850.54,940.821 1857.68,940.824 1864.82,940.601 1871.95,940.766 1879.09,940.785 1886.23,940.682 1893.36,940.697 1900.5,940.602 1907.64,940.629 1914.77,940.627 1921.91,940.543 1929.05,940.764 1936.18,940.506 1943.32,940.493 1950.46,940.596 1957.59,940.434 1964.73,940.442 1971.87,940.433 1979,940.43 1986.14,940.394 1993.28,940.429 2000.41,940.431 2007.55,940.367 2014.69,940.352 2021.83,940.707 2028.96,940.37 2036.1,940.339 2043.24,940.397 2050.37,940.317 2057.51,940.372 2064.65,940.443 2071.78,940.338 2078.92,940.291 2086.06,940.358 2093.19,940.287 2100.33,940.315 2107.47,940.354 2114.6,940.314 2121.74,940.326 2128.88,940.354 2136.01,940.275 2143.15,940.304 2150.29,940.249 2157.42,940.287 2164.56,940.272 2171.7,940.316 2178.83,940.249 2185.97,940.31 2193.11,940.246 2200.24,940.352 2207.38,940.238 2214.52,940.311 2221.65,940.23 2228.79,940.238 2235.93,940.218 2243.06,940.26 2250.2,940.227 2257.34,940.271 2264.47,940.214 2271.61,940.221 2278.75,940.206 2285.88,940.247 2293.02,940.206 \"/>\n",
       "<polyline clip-path=\"url(#clip542)\" style=\"stroke:#00a9ad; stroke-linecap:round; stroke-linejoin:round; stroke-width:4; stroke-opacity:1; fill:none\" stroke-dasharray=\"16, 10\" points=\"301.869,1136.3 309.006,1155.54 316.143,1174.77 323.279,1193.99 330.416,1213.23 337.553,1232.47 344.69,1251.71 351.826,1270.96 358.963,1290.2 366.1,1309.44 373.237,1328.68 380.373,1347.92 387.51,1367.17 394.647,1386.4 401.784,1385.47 408.92,1363.26 416.057,1346.11 423.194,1321.18 430.331,1310.13 437.467,1295.45 444.604,1277.1 451.741,1257.62 458.878,1242.66 466.014,1224.13 473.151,1210.46 480.288,1196.91 487.425,1188.03 494.561,1182.76 501.698,1172.26 508.835,1162.06 515.972,1153.17 523.108,1144 530.245,1135.36 537.382,1127.88 544.519,1116.14 551.655,1104.39 558.792,1095.62 565.929,1089.9 573.066,1081.77 580.202,1076.79 587.339,1071.02 594.476,1057.82 601.613,1059.19 608.749,1053.66 615.886,1045.21 623.023,1045.17 630.16,1037.55 637.296,1036.8 644.433,1034.42 651.57,1025.36 658.707,1023.02 665.843,1021.99 672.98,1021.23 680.117,1020.94 687.254,1014.46 694.39,1010.72 701.527,1004.64 708.664,1000.22 715.801,995.39 722.937,996.371 730.074,991.7 737.211,991.528 744.347,987.573 751.484,984.112 758.621,981.821 765.758,981.342 772.894,982.112 780.031,978.074 787.168,976.323 794.305,978.529 801.441,974.178 808.578,974.998 815.715,973.827 822.852,969.558 829.988,969.748 837.125,970.525 844.262,971.326 851.399,970.733 858.535,970.222 865.672,967.357 872.809,968.773 879.946,967.318 887.082,966.708 894.219,965.972 901.356,965.523 908.493,963.521 915.629,963.464 922.766,963.093 929.903,962.815 937.04,963.674 944.176,962.859 951.313,961.716 958.45,962.864 965.587,963.253 972.723,962.468 979.86,961.53 986.997,960.61 994.134,959.916 1001.27,957.414 1008.41,958.13 1015.54,957.365 1022.68,958.126 1029.82,958.109 1036.95,957.751 1044.09,958.455 1051.23,958.862 1058.36,958.169 1065.5,956.968 1072.64,956.757 1079.77,954.663 1086.91,953.411 1094.05,953.912 1101.18,954.48 1108.32,955.036 1115.46,955.263 1122.6,956.596 1129.73,956.982 1136.87,957.243 1144.01,957.011 1151.14,955.61 1158.28,955.498 1165.42,955.916 1172.55,955.05 1179.69,954.818 1186.83,953.804 1193.96,952.948 1201.1,952.701 1208.24,952.387 1215.37,951.75 1222.51,951.216 1229.65,951.036 1236.78,950.291 1243.92,949.99 1251.06,950.281 1258.19,949.201 1265.33,948.312 1272.47,947.81 1279.6,947.248 1286.74,947.219 1293.88,946.833 1301.01,946.813 1308.15,946.46 1315.29,946.207 1322.42,946.448 1329.56,946.427 1336.7,946.255 1343.83,945.949 1350.97,945.372 1358.11,945.171 1365.24,945.156 1372.38,944.904 1379.52,944.564 1386.65,944.603 1393.79,944.366 1400.93,944.06 1408.06,943.938 1415.2,943.845 1422.34,943.624 1429.48,943.591 1436.61,943.546 1443.75,943.231 1450.89,943.03 1458.02,942.854 1465.16,942.86 1472.3,942.739 1479.43,942.595 1486.57,942.507 1493.71,942.399 1500.84,942.324 1507.98,942.263 1515.12,942.026 1522.25,941.707 1529.39,941.717 1536.53,941.479 1543.66,941.656 1550.8,941.506 1557.94,941.487 1565.07,941.333 1572.21,941.35 1579.35,941.257 1586.48,941.195 1593.62,941.211 1600.76,941.15 1607.89,941.035 1615.03,941.109 1622.17,941.021 1629.3,940.987 1636.44,940.824 1643.58,940.804 1650.71,940.843 1657.85,940.833 1664.99,940.813 1672.12,940.862 1679.26,940.839 1686.4,940.771 1693.53,940.676 1700.67,940.683 1707.81,940.631 1714.94,940.604 1722.08,940.573 1729.22,940.579 1736.36,940.529 1743.49,940.511 1750.63,940.563 1757.77,940.572 1764.9,940.509 1772.04,940.518 1779.18,940.522 1786.31,940.499 1793.45,940.493 1800.59,940.473 1807.72,940.433 1814.86,940.419 1822,940.375 1829.13,940.352 1836.27,940.326 1843.41,940.327 1850.54,940.325 1857.68,940.329 1864.82,940.266 1871.95,940.324 1879.09,940.341 1886.23,940.304 1893.36,940.3 1900.5,940.276 1907.64,940.284 1914.77,940.284 1921.91,940.274 1929.05,940.322 1936.18,940.257 1943.32,940.253 1950.46,940.274 1957.59,940.235 1964.73,940.242 1971.87,940.243 1979,940.244 1986.14,940.229 1993.28,940.228 2000.41,940.222 2007.55,940.215 2014.69,940.202 2021.83,940.256 2028.96,940.203 2036.1,940.195 2043.24,940.2 2050.37,940.195 2057.51,940.204 2064.65,940.215 2071.78,940.191 2078.92,940.188 2086.06,940.201 2093.19,940.19 2100.33,940.196 2107.47,940.203 2114.6,940.192 2121.74,940.193 2128.88,940.205 2136.01,940.181 2143.15,940.19 2150.29,940.177 2157.42,940.18 2164.56,940.179 2171.7,940.183 2178.83,940.175 2185.97,940.177 2193.11,940.172 2200.24,940.181 2207.38,940.167 2214.52,940.181 2221.65,940.164 2228.79,940.164 2235.93,940.162 2243.06,940.163 2250.2,940.161 2257.34,940.164 2264.47,940.161 2271.61,940.16 2278.75,940.161 2285.88,940.163 2293.02,940.159 \"/>\n",
       "<path clip-path=\"url(#clip540)\" d=\"M2028.05 529.676 L2282.4 529.676 L2282.4 166.796 L2028.05 166.796  Z\" fill=\"#ffffff\" fill-rule=\"evenodd\" fill-opacity=\"1\"/>\n",
       "<polyline clip-path=\"url(#clip540)\" style=\"stroke:#000000; stroke-linecap:round; stroke-linejoin:round; stroke-width:4; stroke-opacity:1; fill:none\" points=\"2028.05,529.676 2282.4,529.676 2282.4,166.796 2028.05,166.796 2028.05,529.676 \"/>\n",
       "<polyline clip-path=\"url(#clip540)\" style=\"stroke:#009af9; stroke-linecap:round; stroke-linejoin:round; stroke-width:4; stroke-opacity:1; fill:none\" points=\"2051.5,218.636 2192.21,218.636 \"/>\n",
       "<path clip-path=\"url(#clip540)\" d=\"M2240.32 209.99 L2230.94 222.606 L2240.8 235.916 L2235.78 235.916 L2228.23 225.731 L2220.69 235.916 L2215.66 235.916 L2225.73 222.351 L2216.52 209.99 L2221.54 209.99 L2228.42 219.226 L2235.29 209.99 L2240.32 209.99 Z\" fill=\"#000000\" fill-rule=\"evenodd\" fill-opacity=\"1\" /><path clip-path=\"url(#clip540)\" d=\"M2245.96 233.369 L2250.69 233.369 L2250.69 219.226 L2245.52 220.175 L2245.52 217.49 L2250.85 216.587 L2254.02 216.587 L2254.02 233.369 L2258.77 233.369 L2258.77 235.916 L2245.96 235.916 L2245.96 233.369 Z\" fill=\"#000000\" fill-rule=\"evenodd\" fill-opacity=\"1\" /><polyline clip-path=\"url(#clip540)\" style=\"stroke:#e26f46; stroke-linecap:round; stroke-linejoin:round; stroke-width:4; stroke-opacity:1; fill:none\" points=\"2051.5,270.476 2192.21,270.476 \"/>\n",
       "<path clip-path=\"url(#clip540)\" d=\"M2240.32 261.83 L2230.94 274.446 L2240.8 287.756 L2235.78 287.756 L2228.23 277.571 L2220.69 287.756 L2215.66 287.756 L2225.73 274.191 L2216.52 261.83 L2221.54 261.83 L2228.42 271.066 L2235.29 261.83 L2240.32 261.83 Z\" fill=\"#000000\" fill-rule=\"evenodd\" fill-opacity=\"1\" /><path clip-path=\"url(#clip540)\" d=\"M2248.56 285.117 L2258.37 285.117 L2258.37 287.756 L2244.53 287.756 L2244.53 285.209 Q2245.32 284.492 2246.77 283.196 Q2254.74 276.135 2254.74 273.959 Q2254.74 272.432 2253.53 271.506 Q2252.33 270.557 2250.36 270.557 Q2249.16 270.557 2247.75 270.973 Q2246.33 271.367 2244.67 272.177 L2244.67 269.33 Q2246.45 268.682 2247.98 268.358 Q2249.53 268.034 2250.85 268.034 Q2254.21 268.034 2256.22 269.561 Q2258.23 271.089 2258.23 273.589 Q2258.23 276.807 2250.57 283.381 Q2249.27 284.492 2248.56 285.117 Z\" fill=\"#000000\" fill-rule=\"evenodd\" fill-opacity=\"1\" /><polyline clip-path=\"url(#clip540)\" style=\"stroke:#3da44d; stroke-linecap:round; stroke-linejoin:round; stroke-width:4; stroke-opacity:1; fill:none\" points=\"2051.5,322.316 2192.21,322.316 \"/>\n",
       "<path clip-path=\"url(#clip540)\" d=\"M2240.32 313.67 L2230.94 326.286 L2240.8 339.596 L2235.78 339.596 L2228.23 329.411 L2220.69 339.596 L2215.66 339.596 L2225.73 326.031 L2216.52 313.67 L2221.54 313.67 L2228.42 322.906 L2235.29 313.67 L2240.32 313.67 Z\" fill=\"#000000\" fill-rule=\"evenodd\" fill-opacity=\"1\" /><path clip-path=\"url(#clip540)\" d=\"M2254.48 329.133 Q2256.61 329.549 2257.77 330.823 Q2258.95 332.073 2258.95 333.971 Q2258.95 336.841 2256.75 338.392 Q2254.55 339.943 2250.46 339.943 Q2249.14 339.943 2247.68 339.688 Q2246.24 339.457 2244.62 338.994 L2244.62 336.193 Q2245.83 336.818 2247.19 337.119 Q2248.58 337.42 2250.13 337.42 Q2252.65 337.42 2254.04 336.517 Q2255.43 335.591 2255.43 333.971 Q2255.43 332.258 2254.14 331.378 Q2252.86 330.499 2250.36 330.499 L2248.37 330.499 L2248.37 327.999 L2250.55 327.999 Q2252.72 327.999 2253.83 327.281 Q2254.97 326.54 2254.97 325.151 Q2254.97 323.809 2253.81 323.114 Q2252.65 322.397 2250.46 322.397 Q2249.53 322.397 2248.35 322.605 Q2247.17 322.813 2245.29 323.346 L2245.29 320.684 Q2246.98 320.29 2248.46 320.082 Q2249.95 319.874 2251.22 319.874 Q2254.55 319.874 2256.5 321.239 Q2258.46 322.605 2258.46 324.897 Q2258.46 326.494 2257.42 327.605 Q2256.38 328.716 2254.48 329.133 Z\" fill=\"#000000\" fill-rule=\"evenodd\" fill-opacity=\"1\" /><polyline clip-path=\"url(#clip540)\" style=\"stroke:#c271d2; stroke-linecap:round; stroke-linejoin:round; stroke-width:4; stroke-opacity:1; fill:none\" stroke-dasharray=\"16, 10\" points=\"2051.5,374.156 2192.21,374.156 \"/>\n",
       "<path clip-path=\"url(#clip540)\" d=\"M2240.32 365.51 L2230.94 378.126 L2240.8 391.436 L2235.78 391.436 L2228.23 381.251 L2220.69 391.436 L2215.66 391.436 L2225.73 377.871 L2216.52 365.51 L2221.54 365.51 L2228.42 374.746 L2235.29 365.51 L2240.32 365.51 Z\" fill=\"#000000\" fill-rule=\"evenodd\" fill-opacity=\"1\" /><path clip-path=\"url(#clip540)\" d=\"M2228.33 355.417 L2232.58 355.417 L2232.58 360.811 L2228.33 360.811 L2228.33 355.417 M2230.5 364.885 L2230.5 364.885 Z\" fill=\"#000000\" fill-rule=\"evenodd\" fill-opacity=\"1\" /><path clip-path=\"url(#clip540)\" d=\"M2245.96 388.889 L2250.69 388.889 L2250.69 374.746 L2245.52 375.695 L2245.52 373.01 L2250.85 372.107 L2254.02 372.107 L2254.02 388.889 L2258.77 388.889 L2258.77 391.436 L2245.96 391.436 L2245.96 388.889 Z\" fill=\"#000000\" fill-rule=\"evenodd\" fill-opacity=\"1\" /><polyline clip-path=\"url(#clip540)\" style=\"stroke:#ac8d18; stroke-linecap:round; stroke-linejoin:round; stroke-width:4; stroke-opacity:1; fill:none\" stroke-dasharray=\"16, 10\" points=\"2051.5,425.996 2192.21,425.996 \"/>\n",
       "<path clip-path=\"url(#clip540)\" d=\"M2240.32 417.35 L2230.94 429.966 L2240.8 443.276 L2235.78 443.276 L2228.23 433.091 L2220.69 443.276 L2215.66 443.276 L2225.73 429.711 L2216.52 417.35 L2221.54 417.35 L2228.42 426.586 L2235.29 417.35 L2240.32 417.35 Z\" fill=\"#000000\" fill-rule=\"evenodd\" fill-opacity=\"1\" /><path clip-path=\"url(#clip540)\" d=\"M2228.33 407.257 L2232.58 407.257 L2232.58 412.651 L2228.33 412.651 L2228.33 407.257 M2230.5 416.725 L2230.5 416.725 Z\" fill=\"#000000\" fill-rule=\"evenodd\" fill-opacity=\"1\" /><path clip-path=\"url(#clip540)\" d=\"M2248.56 440.637 L2258.37 440.637 L2258.37 443.276 L2244.53 443.276 L2244.53 440.729 Q2245.32 440.012 2246.77 438.716 Q2254.74 431.655 2254.74 429.479 Q2254.74 427.952 2253.53 427.026 Q2252.33 426.077 2250.36 426.077 Q2249.16 426.077 2247.75 426.493 Q2246.33 426.887 2244.67 427.697 L2244.67 424.85 Q2246.45 424.202 2247.98 423.878 Q2249.53 423.554 2250.85 423.554 Q2254.21 423.554 2256.22 425.081 Q2258.23 426.609 2258.23 429.109 Q2258.23 432.327 2250.57 438.901 Q2249.27 440.012 2248.56 440.637 Z\" fill=\"#000000\" fill-rule=\"evenodd\" fill-opacity=\"1\" /><polyline clip-path=\"url(#clip540)\" style=\"stroke:#00a9ad; stroke-linecap:round; stroke-linejoin:round; stroke-width:4; stroke-opacity:1; fill:none\" stroke-dasharray=\"16, 10\" points=\"2051.5,477.836 2192.21,477.836 \"/>\n",
       "<path clip-path=\"url(#clip540)\" d=\"M2240.32 469.19 L2230.94 481.806 L2240.8 495.116 L2235.78 495.116 L2228.23 484.931 L2220.69 495.116 L2215.66 495.116 L2225.73 481.551 L2216.52 469.19 L2221.54 469.19 L2228.42 478.426 L2235.29 469.19 L2240.32 469.19 Z\" fill=\"#000000\" fill-rule=\"evenodd\" fill-opacity=\"1\" /><path clip-path=\"url(#clip540)\" d=\"M2228.33 459.097 L2232.58 459.097 L2232.58 464.491 L2228.33 464.491 L2228.33 459.097 M2230.5 468.565 L2230.5 468.565 Z\" fill=\"#000000\" fill-rule=\"evenodd\" fill-opacity=\"1\" /><path clip-path=\"url(#clip540)\" d=\"M2254.48 484.653 Q2256.61 485.069 2257.77 486.343 Q2258.95 487.593 2258.95 489.491 Q2258.95 492.361 2256.75 493.912 Q2254.55 495.463 2250.46 495.463 Q2249.14 495.463 2247.68 495.208 Q2246.24 494.977 2244.62 494.514 L2244.62 491.713 Q2245.83 492.338 2247.19 492.639 Q2248.58 492.94 2250.13 492.94 Q2252.65 492.94 2254.04 492.037 Q2255.43 491.111 2255.43 489.491 Q2255.43 487.778 2254.14 486.898 Q2252.86 486.019 2250.36 486.019 L2248.37 486.019 L2248.37 483.519 L2250.55 483.519 Q2252.72 483.519 2253.83 482.801 Q2254.97 482.06 2254.97 480.671 Q2254.97 479.329 2253.81 478.634 Q2252.65 477.917 2250.46 477.917 Q2249.53 477.917 2248.35 478.125 Q2247.17 478.333 2245.29 478.866 L2245.29 476.204 Q2246.98 475.81 2248.46 475.602 Q2249.95 475.394 2251.22 475.394 Q2254.55 475.394 2256.5 476.759 Q2258.46 478.125 2258.46 480.417 Q2258.46 482.014 2257.42 483.125 Q2256.38 484.236 2254.48 484.653 Z\" fill=\"#000000\" fill-rule=\"evenodd\" fill-opacity=\"1\" /></svg>\n"
      ]
     },
     "metadata": {},
     "output_type": "display_data"
    }
   ],
   "source": [
    "Xsim_m = mat_from_vec(Xhist[1:end-Nh])\n",
    "Usim_m = mat_from_vec(Uhist[1:end-Nh-1])\n",
    "e_sim_m = mat_from_vec(Xref[1:end-Nh]-Xhist[1:end-Nh])\n",
    "@show traj_error = maximum(norm.(e_sim_m, Inf))\n",
    "display(plot(t_vec[1:end-Nh],e_sim_m',label = [\"ex₁\" \"ex₂\" \"ex₃\" \"eẋ₁\" \"eẋ₂\" \"eẋ₃\"], \n",
    "             linestyle=[:solid :solid :solid :dash :dash :dash], \n",
    "             title = \"State Error History\",\n",
    "             xlabel = \"time (s)\", ylabel = \"x\"))\n",
    "display(plot(t_vec[1:end-Nh-2],Usim_m',label = [\"u₁\" \"u₂\" \"u₃\"],\n",
    "             title = \"Input History\",\n",
    "             xlabel = \"time (s)\", ylabel = \"u\"))\n",
    "display(plot(t_vec[1:end-Nh],Xsim_m',label = [\"x₁\" \"x₂\" \"x₃\" \"ẋ₁\" \"ẋ₂\" \"ẋ₃\"], \n",
    "             linestyle=[:solid :solid :solid :dash :dash :dash],\n",
    "             title = \"State History\",\n",
    "             xlabel = \"time (s)\", ylabel = \"x\"))"
   ]
  }
 ],
 "metadata": {
  "kernelspec": {
   "display_name": "Julia 1.6.7",
   "language": "julia",
   "name": "julia-1.6"
  },
  "language_info": {
   "file_extension": ".jl",
   "mimetype": "application/julia",
   "name": "julia",
   "version": "1.6.7"
  }
 },
 "nbformat": 4,
 "nbformat_minor": 5
}
