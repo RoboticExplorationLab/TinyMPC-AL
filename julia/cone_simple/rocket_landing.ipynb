{
 "cells": [
  {
   "cell_type": "code",
   "execution_count": 4,
   "id": "6099cb4b-a2da-4b1b-ba0f-856484092fc4",
   "metadata": {},
   "outputs": [
    {
     "name": "stderr",
     "output_type": "stream",
     "text": [
      "\u001b[32m\u001b[1m  Activating\u001b[22m\u001b[39m environment at `~/SSD/Code/TinyMPC/julia/cone_simple/Project.toml`\n",
      "┌ Info: Precompiling ForwardDiff [f6369f11-7733-5829-9624-2563aa707210]\n",
      "└ @ Base loading.jl:1342\n"
     ]
    }
   ],
   "source": [
    "using Pkg\n",
    "Pkg.activate(@__DIR__)\n",
    "Pkg.instantiate()\n",
    "\n",
    "using LinearAlgebra\n",
    "using Printf\n",
    "import ForwardDiff as FD"
   ]
  },
  {
   "cell_type": "code",
   "execution_count": 8,
   "id": "2539eadc-1ce3-410e-80f6-f5588603ffef",
   "metadata": {},
   "outputs": [
    {
     "data": {
      "text/plain": [
       "([0.3677494506644514 -0.32499271722309986 0.48981864178430756 0.32709824298604095; -0.32499271722309986 -0.019689468370414354 0.18234015010117832 -0.5045244519466224; 0.4898186417843078 0.1823401501011783 0.5559722146596785 -0.40160570442202803; 0.3270982429860413 -0.5045244519466225 -0.401605704422028 0.15156328123295848], [-1.0226747395456375 0.6156753831732915 -1.21792734832176; 1.0849749469203416 0.06882937450708991 0.6657137614883515; 1.5449895956578523 0.1411702230789941 -0.48222147792099784; -0.0815163898252962 -0.4757032768023395 0.992114999860799])"
      ]
     },
     "execution_count": 8,
     "metadata": {},
     "output_type": "execute_result"
    }
   ],
   "source": [
    "# include(\"random_linear.jl\")\n",
    "# A, B = gendiscrete(4, 3)"
   ]
  },
  {
   "cell_type": "code",
   "execution_count": 236,
   "id": "6179ca57-b5ff-4274-8391-85d5e728fc16",
   "metadata": {},
   "outputs": [
    {
     "data": {
      "text/plain": [
       "mpc (generic function with 1 method)"
      ]
     },
     "execution_count": 236,
     "metadata": {},
     "output_type": "execute_result"
    }
   ],
   "source": [
    "# -------------------THIS IS ALL ALTRO-------------------------------\n",
    "# This enables goal equality constraints, state and input ineq constraints.\n",
    "\n",
    "function stage_cost(p::NamedTuple,x,u,k)\n",
    "    dx = x - p.Xref[k]\n",
    "    du = u - p.Uref[k]\n",
    "    return 0.5*dx'*p.Q*dx + 0.5*du'*p.R*du\n",
    "end\n",
    "function term_cost(p::NamedTuple,x)\n",
    "    dx = x - p.Xref[p.N]\n",
    "    return 0.5*dx'*p.Qf*dx\n",
    "end\n",
    "function stage_cost_expansion(p::NamedTuple,k)\n",
    "    dx = - p.Xref[k]\n",
    "    du = - p.Uref[k]\n",
    "    return p.Q, p.Q*dx, p.R, p.R*du  # Hessian and gradient\n",
    "end\n",
    "function term_cost_expansion(p::NamedTuple)\n",
    "    dx = - p.Xref[p.N]\n",
    "    return p.Qf, p.Qf*dx\n",
    "end\n",
    "function conic_cost_expansion(p::NamedTuple, u, λc, ρ, k)\n",
    "    λhat = λc # already updated\n",
    "    ∇c = cone_u_jac(p, u)\n",
    "    G = ∇c'*∇projection(λhat)*projection(λhat)/ρ \n",
    "    H = ∇c'*∇projection(λhat)'*∇projection(λhat)*∇c/ρ\n",
    "    # display(∇projection(λhat)')\n",
    "    # H = zeros(p.ncu_cone,p.ncu_cone)\n",
    "    return (G - H*u), H\n",
    "end\n",
    "function backward_pass!(params,X,U,P,p,d,K,reg,μ,μx,ρ,λ,λc)\n",
    "    \"\"\"iLQR backward pass with AL. This !function update its parameters\n",
    "    \"\"\"\n",
    "    N = params.N\n",
    "    ΔJ = 0.0    # expected cost reduction\n",
    "\n",
    "    # terminal cost expansion\n",
    "    P[N], p[N] = term_cost_expansion(params) \n",
    "    \n",
    "    if (params.ncx > 0)\n",
    "        # # add AL terms for the state constraint at the final time step\n",
    "        hxv = ineq_con_x(params,X[N])  # h(x) violation  \n",
    "        mask = eval_mask(μx[N],hxv)\n",
    "        ∇hx = ineq_con_x_jac(params,X[N])\n",
    "        # add these into the cost-to-go p and P\n",
    "        p[N]  += ∇hx'*(μx[N] - ρ*(mask * [params.x_max;-params.x_min]))  # multiplier term (1st)\n",
    "        P[N]  += ρ*∇hx'*mask*∇hx                # penalty term (2nd)\n",
    "    end\n",
    "    \n",
    "    if (params.ncg > 0)\n",
    "        # add AL terms for goal constraint \n",
    "        ∇hx = diagm(ones(params.nx))\n",
    "        # add these into the CTG p and P (equality active)\n",
    "        p[N]  += ∇hx'*(λ - ρ*params.Xref[N])   \n",
    "        P[N]  += ρ*∇hx'∇hx\n",
    "    end\n",
    "    \n",
    "    # iterate from N-1 to 1 backwards\n",
    "    for k = (N-1):(-1):1\n",
    "        # dynamics jacobians (linearization about previous iterate)\n",
    "        A = FD.jacobian(_x -> discrete_dynamics(params,_x,U[k],k),X[k])\n",
    "        B = FD.jacobian(_u -> discrete_dynamics(params,X[k],_u,k),U[k])\n",
    "\n",
    "        Sxx,Sx,Suu,Su = stage_cost_expansion(params,k)\n",
    "        \n",
    "        # one-step cost expansion: Q, Q*dx, R, R*du\n",
    "        Sx += A' * (P[k+1]*f + p[k+1]) \n",
    "        Su += B' * (P[k+1]*f + p[k+1]) \n",
    "        Sxx += A'*(P[k+1])*A\n",
    "        Suu += B'*(P[k+1] + reg*I)*B                                     \n",
    "        Sux = B'*(P[k+1])*A  \n",
    "        if (params.ncu > 0)\n",
    "            # control constraints\n",
    "            huv = ineq_con_u(params,U[k])  # calculate h(u) constraint\n",
    "            mask = eval_mask(μ[k],huv)  # choose active\n",
    "            ∇hu = ineq_con_u_jac(params,U[k])\n",
    "            Su  += ∇hu'*(μ[k] - ρ*(mask * [params.u_max;-params.u_min])) # add to cost\n",
    "            Suu += ρ*∇hu'*mask*∇hu\n",
    "        end\n",
    "        if (params.ncx > 0)\n",
    "            # state constraints\n",
    "            hxv = ineq_con_x(params,X[k])\n",
    "            mask = eval_mask(μx[k],hxv)\n",
    "            ∇hx = ineq_con_x_jac(params,X[k])\n",
    "            Sx  += ∇hx'*(μx[k] - ρ*(mask * [params.x_max;-params.x_min]))\n",
    "            Sxx += ρ*∇hx'*mask*∇hx\n",
    "        end\n",
    "        if (params.ncu_cone > 0)\n",
    "            # conic constraints\n",
    "            Qu, Quu = conic_cost_expansion(params, U[k], λc[k], ρ, k)\n",
    "            # display(Quu)\n",
    "            Su += Qu\n",
    "            Suu += Quu\n",
    "        end\n",
    "        \n",
    "        # Calculate Gains\n",
    "        F = cholesky(Symmetric(Suu))\n",
    "        d[k] = F\\Su\n",
    "        K[k] = F\\Sux\n",
    "\n",
    "        # Cost-to-go Recurrence (PSD stabilizing version, last term)\n",
    "        P[k] = Sxx + K[k]'*Suu*K[k] - 2*K[k]'*Sux\n",
    "        p[k] = Sx + K[k]'*Suu*d[k] - K[k]'*Su - Sux'*d[k]\n",
    "        ΔJ += Su'*d[k]\n",
    "    end\n",
    "\n",
    "    return ΔJ  # but also change params\n",
    "end\n",
    "function forward_pass!(params,X,U,K,d,ΔJ,Xn,Un,μ,μx,ρ,λ; \n",
    "                        max_linesearch_iters = 20)\n",
    "    \"\"\"iLQR forward pass and line-search\n",
    "    This !function update its parameters\n",
    "    \"\"\"\n",
    "    N = params.N\n",
    "        # Forward Rollout\n",
    "        for k = 1:(N-1)\n",
    "            Un[k] = - d[k] - K[k]*Xn[k] \n",
    "            Xn[k+1] = discrete_dynamics(params,Xn[k],Un[k],k)\n",
    "        end\n",
    "    X .= Xn\n",
    "    U .= Un\n",
    "    return 0, 0\n",
    "end\n",
    "function eval_mask(μv,huv)  \n",
    "    # Extract active inequality constraints\n",
    "    # active set mask\n",
    "    mask = Diagonal(zeros(length(huv)))\n",
    "    for i = 1:length(huv)\n",
    "        mask[i,i] = (μv[i] > 0 || huv[i] > 0)\n",
    "    end\n",
    "    mask\n",
    "end\n",
    "function mpc(params,X,U,P,p,K,d,Xn,Un;atol=1e-3,max_iters = 250,verbose = true,ρ=1,ϕ=10)\n",
    "\n",
    "    # first check the sizes of everything\n",
    "    @assert length(X) == params.N\n",
    "    @assert length(U) == params.N-1\n",
    "    @assert length(X[1]) == params.nx\n",
    "    @assert length(U[1]) == params.nu\n",
    "\n",
    "    # keep track of trajectories for each iterate\n",
    "    Xhist=[deepcopy(X) for i = 1:1000]\n",
    "\n",
    "    # initial rollout\n",
    "    N = params.N\n",
    "    for i = 1:N-1\n",
    "        X[i+1] = discrete_dynamics(params,X[i],U[i],i)\n",
    "    end\n",
    "\n",
    "    Xhist[1] .= X\n",
    "\n",
    "    reg_min = 1e-8\n",
    "    reg = reg_min\n",
    "\n",
    "    μ = [zeros(params.ncu) for i = 1:N-1]   # input constraints\n",
    "\n",
    "    μx = [zeros(params.ncx) for i = 1:N]    # state constraints\n",
    "\n",
    "    λ = zeros(params.nx)    # goal constraint\n",
    "\n",
    "    λc = [zeros(params.ncu_cone) for i = 1:N-1]   # goal constraint\n",
    "    \n",
    "    # Inner loop to solve unconstrained problem (Riccati)\n",
    "    for iter = 1:max_iters\n",
    "        ΔJ = backward_pass!(params,X,U,P,p,d,K,reg,μ,μx,ρ,λ,λc)\n",
    "        J, α = forward_pass!(params,X,U,K,d,ΔJ,Xn,Un,μ,μx,ρ,λ)\n",
    "\n",
    "        Xhist[iter + 1] .= X  \n",
    "        if verbose\n",
    "            if rem(iter-1,10)==0\n",
    "                @printf \"iter     J           ΔJ        |d|         α        reg         ρ\\n\"\n",
    "                @printf \"---------------------------------------------------------------------\\n\"\n",
    "            end\n",
    "            @printf(\"%3d   %10.3e  %9.2e  %9.2e  %6.4f   %9.2e   %9.2e\\n\",\n",
    "              iter, J, ΔJ, 0, α, reg, ρ)\n",
    "        end\n",
    "        # update multipliers and check constraint violation, max of all\n",
    "        convio = 0  \n",
    "        \n",
    "        if (params.ncu > 0)\n",
    "            # control constraints (inequality)\n",
    "            for k = 1:N-1\n",
    "                huv = ineq_con_u(params,U[k])\n",
    "                mask = eval_mask(μ[k],huv)\n",
    "                # update dual\n",
    "                convio = max(convio,norm(huv + abs.(huv),Inf))\n",
    "                μ[k] = max.(0,μ[k] - ρ*(mask * [params.u_max;-params.u_min]))\n",
    "                \n",
    "            end\n",
    "        end\n",
    "        if (params.ncx > 0)\n",
    "            # state constraints (inequality)\n",
    "            for k = 1:N\n",
    "                hxv = ineq_con_x(params,X[k])\n",
    "                mask = eval_mask(μx[k],hxv)\n",
    "                # update dual\n",
    "                convio = max(convio,norm(hxv + abs.(hxv),Inf))\n",
    "                μx[k] = max.(0,μx[k] - ρ*(mask * [params.x_max;-params.x_min]))                \n",
    "            end\n",
    "        end\n",
    "        if (params.ncu_cone > 0)\n",
    "            # conic constraints \n",
    "            print(\"update cone\\n\")\n",
    "            for k = 1:N-1\n",
    "                # update dual\n",
    "                Uc = cone_u(params, U[k])\n",
    "                huc = norm(Uc[1:2]) - Uc[3]\n",
    "                convio = max(convio, norm(huc + abs.(huc),Inf))\n",
    "                λc[k] = projection(λc[k] + ρ*Uc)\n",
    "                # display(λc[k])\n",
    "            end\n",
    "        end\n",
    "        if (params.ncg > 0)\n",
    "            # goal constraint (equality)\n",
    "            hxv = X[N] - params.Xref[N]\n",
    "            λ .-= ρ*params.Xref[N]\n",
    "            convio = max(convio, norm(hxv,Inf))\n",
    "        end\n",
    "        @show convio\n",
    "        if convio <1e-4  # if terminal condition with contraint violation\n",
    "            @info \"success!\"\n",
    "            return Xhist[1:(iter + 1)];\n",
    "        end\n",
    "\n",
    "        ρ *= ϕ  # update penalty\n",
    "    end\n",
    "end\n",
    "#----------------------ALTRO DONE --------------------------"
   ]
  },
  {
   "cell_type": "code",
   "execution_count": 200,
   "id": "ff9a97a1-b963-4f01-9223-eee0c5682b7d",
   "metadata": {
    "tags": []
   },
   "outputs": [
    {
     "data": {
      "text/plain": [
       "∇projection (generic function with 1 method)"
      ]
     },
     "execution_count": 200,
     "metadata": {},
     "output_type": "execute_result"
    }
   ],
   "source": [
    "# =============================\n",
    "# Example problem formulation and solve\n",
    "# =============================\n",
    "\n",
    "# ---------------------THIS IS WHAT YOU NEED TO INPUT--------\n",
    "A = [1.0 0.0 0.0 0.05 0.0 0.0; \n",
    "    0.0 1.0 0.0 0.0 0.05 0.0; \n",
    "    0.0 0.0 1.0 0.0 0.0 0.05; \n",
    "    0.0 0.0 0.0 1.0 0.0 0.0; \n",
    "    0.0 0.0 0.0 0.0 1.0 0.0; \n",
    "    0.0 0.0 0.0 0.0 0.0 1.0]\n",
    "B = [0.000125 0.0 0.0; \n",
    "    0.0 0.000125 0.0;\n",
    "    0.0 0.0 0.000125; \n",
    "    0.005 0.0 0.0; \n",
    "    0.0 0.005 0.0; \n",
    "    0.0 0.0 0.005]\n",
    "f = [0.0, 0.0, -0.0122625, 0.0, 0.0, -0.4905]\n",
    "function discrete_dynamics(p::NamedTuple,x,u,k)\n",
    "    A = [1.0 0.0 0.0 0.05 0.0 0.0; \n",
    "        0.0 1.0 0.0 0.0 0.05 0.0; \n",
    "        0.0 0.0 1.0 0.0 0.0 0.05; \n",
    "        0.0 0.0 0.0 1.0 0.0 0.0; \n",
    "        0.0 0.0 0.0 0.0 1.0 0.0; \n",
    "        0.0 0.0 0.0 0.0 0.0 1.0]\n",
    "    B = [0.000125 0.0 0.0; \n",
    "        0.0 0.000125 0.0;\n",
    "        0.0 0.0 0.000125; \n",
    "        0.005 0.0 0.0; \n",
    "        0.0 0.005 0.0; \n",
    "        0.0 0.0 0.005]\n",
    "    f = [0.0, 0.0, -0.0122625, 0.0, 0.0, -0.4905]\n",
    "    return A*x + B*u + f\n",
    "end\n",
    "function ineq_con_x(p,x)\n",
    "    [x-p.x_max;-x + p.x_min]\n",
    "end\n",
    "function ineq_con_u(p,u)\n",
    "    [u-p.u_max;-u + p.u_min]\n",
    "end\n",
    "function cone_u(p, u)\n",
    "    [p.A_cone*u;p.c_cone'*u]\n",
    "end\n",
    "function cone_u_jac(p, u)\n",
    "    J = zeros(p.nu, p.nu)\n",
    "    J[1:end-1,1:end] .= p.A_cone\n",
    "    J[end,1:end] .= p.c_cone\n",
    "    return J\n",
    "end\n",
    "function ineq_con_u_jac(params,u)\n",
    "    FD.jacobian(_u -> ineq_con_u(params,_u), u)\n",
    "end\n",
    "function ineq_con_x_jac(p,x)\n",
    "    FD.jacobian(_x -> ineq_con_x(p,_x),x)\n",
    "end\n",
    "function projection(x)\n",
    "    n = length(x)\n",
    "    s = x[end]\n",
    "    v = view(x,1:n-1)\n",
    "    a = norm(v)\n",
    "    if a <= -s  # below the cone\n",
    "        return zero(x)\n",
    "    elseif a <= s  # in the code\n",
    "        return x\n",
    "    elseif a >= abs(s)  # outside the cone\n",
    "        return 0.5 * (1 + s/a) * [v; a] \n",
    "    end\n",
    "end\n",
    "function ∇projection(x)\n",
    "    n = length(x)\n",
    "    J = zeros(eltype(x),n,n)\n",
    "    s = x[end]\n",
    "    v = view(x,1:n-1)\n",
    "    a = norm(v)\n",
    "    if a <= -s\n",
    "        return J  # zeros\n",
    "    elseif a <= s\n",
    "        J .= I(n)  \n",
    "        return J  # identity\n",
    "    elseif a >= abs(s)\n",
    "        c = 0.5 * (1 + s/a)\n",
    "\n",
    "        # dvdv ok!\n",
    "        for i = 1:n-1, j = 1:n-1\n",
    "            J[i,j] = -0.5*s/a^3 * v[i] * v[j]\n",
    "            if i == j\n",
    "                J[i,j] += c\n",
    "            end\n",
    "        end\n",
    "\n",
    "        # dvds ok!\n",
    "        for i = 1:n-1\n",
    "            J[i,n] = 0.5 * v[i] / a\n",
    "        end\n",
    "\n",
    "        # dsdv ok!\n",
    "        for i = 1:n-1\n",
    "            J[n,i] = ((-0.5*s/a^2) + c/a) * v[i]\n",
    "        end\n",
    "        J[n,n] = 0.5  # ok\n",
    "        return J\n",
    "    else\n",
    "        error(\"Invalid second-order cone projection.\")\n",
    "    end\n",
    "    return J\n",
    "end"
   ]
  },
  {
   "cell_type": "code",
   "execution_count": 237,
   "id": "f4edd7a6-7756-43ee-a37b-f91abdd18650",
   "metadata": {},
   "outputs": [
    {
     "name": "stdout",
     "output_type": "stream",
     "text": [
      "iter     J           ΔJ        |d|         α        reg         ρ\n",
      "---------------------------------------------------------------------\n",
      "  1    0.000e+00   3.18e+04   0.00e+00  0.0000    1.00e-08    1.00e+00\n",
      "convio = 33.33396509933647\n",
      "  2    0.000e+00   4.91e+04   0.00e+00  0.0000    1.00e-08    1.00e+01\n",
      "convio = 19.91829275166245\n",
      "  3    0.000e+00   9.42e+04   0.00e+00  0.0000    1.00e-08    1.00e+02\n",
      "convio = 9.774971725628012\n",
      "  4    0.000e+00   1.07e+05   0.00e+00  0.0000    1.00e-08    1.00e+03\n",
      "convio = 2.151926393367333\n",
      "  5    0.000e+00   1.09e+05   0.00e+00  0.0000    1.00e-08    1.00e+04\n",
      "convio = 0.24775609157571332\n",
      "  6    0.000e+00   1.33e+05   0.00e+00  0.0000    1.00e-08    1.00e+05\n",
      "convio = 0.02516049074408011\n",
      "  7    0.000e+00   3.54e+05   0.00e+00  0.0000    1.00e-08    1.00e+06\n",
      "convio = 0.002519968099951142\n",
      "  8    0.000e+00   2.53e+06   0.00e+00  0.0000    1.00e-08    1.00e+07\n",
      "convio = 0.00025203607175994236\n",
      "  9    0.000e+00   2.43e+07   0.00e+00  0.0000    1.00e-08    1.00e+08\n",
      "convio = 2.5203999864720217e-5\n"
     ]
    },
    {
     "name": "stderr",
     "output_type": "stream",
     "text": [
      "┌ Info: success!\n",
      "└ @ Main In[236]:221\n"
     ]
    },
    {
     "data": {
      "image/svg+xml": [
       "<?xml version=\"1.0\" encoding=\"utf-8\"?>\n",
       "<svg xmlns=\"http://www.w3.org/2000/svg\" xmlns:xlink=\"http://www.w3.org/1999/xlink\" width=\"600\" height=\"400\" viewBox=\"0 0 2400 1600\">\n",
       "<defs>\n",
       "  <clipPath id=\"clip140\">\n",
       "    <rect x=\"0\" y=\"0\" width=\"2400\" height=\"1600\"/>\n",
       "  </clipPath>\n",
       "</defs>\n",
       "<path clip-path=\"url(#clip140)\" d=\"M0 1600 L2400 1600 L2400 0 L0 0  Z\" fill=\"#ffffff\" fill-rule=\"evenodd\" fill-opacity=\"1\"/>\n",
       "<defs>\n",
       "  <clipPath id=\"clip141\">\n",
       "    <rect x=\"480\" y=\"0\" width=\"1681\" height=\"1600\"/>\n",
       "  </clipPath>\n",
       "</defs>\n",
       "<path clip-path=\"url(#clip140)\" d=\"M210.977 1423.18 L2352.76 1423.18 L2352.76 123.472 L210.977 123.472  Z\" fill=\"#ffffff\" fill-rule=\"evenodd\" fill-opacity=\"1\"/>\n",
       "<defs>\n",
       "  <clipPath id=\"clip142\">\n",
       "    <rect x=\"210\" y=\"123\" width=\"2143\" height=\"1301\"/>\n",
       "  </clipPath>\n",
       "</defs>\n",
       "<polyline clip-path=\"url(#clip142)\" style=\"stroke:#000000; stroke-linecap:round; stroke-linejoin:round; stroke-width:2; stroke-opacity:0.1; fill:none\" points=\"271.594,1423.18 271.594,123.472 \"/>\n",
       "<polyline clip-path=\"url(#clip142)\" style=\"stroke:#000000; stroke-linecap:round; stroke-linejoin:round; stroke-width:2; stroke-opacity:0.1; fill:none\" points=\"776.73,1423.18 776.73,123.472 \"/>\n",
       "<polyline clip-path=\"url(#clip142)\" style=\"stroke:#000000; stroke-linecap:round; stroke-linejoin:round; stroke-width:2; stroke-opacity:0.1; fill:none\" points=\"1281.87,1423.18 1281.87,123.472 \"/>\n",
       "<polyline clip-path=\"url(#clip142)\" style=\"stroke:#000000; stroke-linecap:round; stroke-linejoin:round; stroke-width:2; stroke-opacity:0.1; fill:none\" points=\"1787,1423.18 1787,123.472 \"/>\n",
       "<polyline clip-path=\"url(#clip142)\" style=\"stroke:#000000; stroke-linecap:round; stroke-linejoin:round; stroke-width:2; stroke-opacity:0.1; fill:none\" points=\"2292.14,1423.18 2292.14,123.472 \"/>\n",
       "<polyline clip-path=\"url(#clip140)\" style=\"stroke:#000000; stroke-linecap:round; stroke-linejoin:round; stroke-width:4; stroke-opacity:1; fill:none\" points=\"210.977,1423.18 2352.76,1423.18 \"/>\n",
       "<polyline clip-path=\"url(#clip140)\" style=\"stroke:#000000; stroke-linecap:round; stroke-linejoin:round; stroke-width:4; stroke-opacity:1; fill:none\" points=\"271.594,1423.18 271.594,1404.28 \"/>\n",
       "<polyline clip-path=\"url(#clip140)\" style=\"stroke:#000000; stroke-linecap:round; stroke-linejoin:round; stroke-width:4; stroke-opacity:1; fill:none\" points=\"776.73,1423.18 776.73,1404.28 \"/>\n",
       "<polyline clip-path=\"url(#clip140)\" style=\"stroke:#000000; stroke-linecap:round; stroke-linejoin:round; stroke-width:4; stroke-opacity:1; fill:none\" points=\"1281.87,1423.18 1281.87,1404.28 \"/>\n",
       "<polyline clip-path=\"url(#clip140)\" style=\"stroke:#000000; stroke-linecap:round; stroke-linejoin:round; stroke-width:4; stroke-opacity:1; fill:none\" points=\"1787,1423.18 1787,1404.28 \"/>\n",
       "<polyline clip-path=\"url(#clip140)\" style=\"stroke:#000000; stroke-linecap:round; stroke-linejoin:round; stroke-width:4; stroke-opacity:1; fill:none\" points=\"2292.14,1423.18 2292.14,1404.28 \"/>\n",
       "<path clip-path=\"url(#clip140)\" d=\"M248.978 1454.1 Q245.367 1454.1 243.538 1457.66 Q241.733 1461.2 241.733 1468.33 Q241.733 1475.44 243.538 1479.01 Q245.367 1482.55 248.978 1482.55 Q252.612 1482.55 254.418 1479.01 Q256.247 1475.44 256.247 1468.33 Q256.247 1461.2 254.418 1457.66 Q252.612 1454.1 248.978 1454.1 M248.978 1450.39 Q254.788 1450.39 257.844 1455 Q260.923 1459.58 260.923 1468.33 Q260.923 1477.06 257.844 1481.67 Q254.788 1486.25 248.978 1486.25 Q243.168 1486.25 240.089 1481.67 Q237.034 1477.06 237.034 1468.33 Q237.034 1459.58 240.089 1455 Q243.168 1450.39 248.978 1450.39 Z\" fill=\"#000000\" fill-rule=\"evenodd\" fill-opacity=\"1\" /><path clip-path=\"url(#clip140)\" d=\"M269.14 1479.7 L274.024 1479.7 L274.024 1485.58 L269.14 1485.58 L269.14 1479.7 Z\" fill=\"#000000\" fill-rule=\"evenodd\" fill-opacity=\"1\" /><path clip-path=\"url(#clip140)\" d=\"M294.209 1454.1 Q290.598 1454.1 288.77 1457.66 Q286.964 1461.2 286.964 1468.33 Q286.964 1475.44 288.77 1479.01 Q290.598 1482.55 294.209 1482.55 Q297.844 1482.55 299.649 1479.01 Q301.478 1475.44 301.478 1468.33 Q301.478 1461.2 299.649 1457.66 Q297.844 1454.1 294.209 1454.1 M294.209 1450.39 Q300.02 1450.39 303.075 1455 Q306.154 1459.58 306.154 1468.33 Q306.154 1477.06 303.075 1481.67 Q300.02 1486.25 294.209 1486.25 Q288.399 1486.25 285.321 1481.67 Q282.265 1477.06 282.265 1468.33 Q282.265 1459.58 285.321 1455 Q288.399 1450.39 294.209 1450.39 Z\" fill=\"#000000\" fill-rule=\"evenodd\" fill-opacity=\"1\" /><path clip-path=\"url(#clip140)\" d=\"M748.466 1481.64 L764.786 1481.64 L764.786 1485.58 L742.842 1485.58 L742.842 1481.64 Q745.504 1478.89 750.087 1474.26 Q754.693 1469.61 755.874 1468.27 Q758.119 1465.74 758.999 1464.01 Q759.902 1462.25 759.902 1460.56 Q759.902 1457.8 757.957 1456.07 Q756.036 1454.33 752.934 1454.33 Q750.735 1454.33 748.281 1455.09 Q745.851 1455.86 743.073 1457.41 L743.073 1452.69 Q745.897 1451.55 748.351 1450.97 Q750.804 1450.39 752.841 1450.39 Q758.212 1450.39 761.406 1453.08 Q764.601 1455.77 764.601 1460.26 Q764.601 1462.39 763.79 1464.31 Q763.003 1466.2 760.897 1468.8 Q760.318 1469.47 757.216 1472.69 Q754.115 1475.88 748.466 1481.64 Z\" fill=\"#000000\" fill-rule=\"evenodd\" fill-opacity=\"1\" /><path clip-path=\"url(#clip140)\" d=\"M774.601 1479.7 L779.485 1479.7 L779.485 1485.58 L774.601 1485.58 L774.601 1479.7 Z\" fill=\"#000000\" fill-rule=\"evenodd\" fill-opacity=\"1\" /><path clip-path=\"url(#clip140)\" d=\"M789.716 1451.02 L808.073 1451.02 L808.073 1454.96 L793.999 1454.96 L793.999 1463.43 Q795.017 1463.08 796.036 1462.92 Q797.054 1462.73 798.073 1462.73 Q803.86 1462.73 807.239 1465.9 Q810.619 1469.08 810.619 1474.49 Q810.619 1480.07 807.147 1483.17 Q803.675 1486.25 797.355 1486.25 Q795.179 1486.25 792.911 1485.88 Q790.665 1485.51 788.258 1484.77 L788.258 1480.07 Q790.341 1481.2 792.563 1481.76 Q794.786 1482.32 797.263 1482.32 Q801.267 1482.32 803.605 1480.21 Q805.943 1478.1 805.943 1474.49 Q805.943 1470.88 803.605 1468.77 Q801.267 1466.67 797.263 1466.67 Q795.388 1466.67 793.513 1467.08 Q791.661 1467.5 789.716 1468.38 L789.716 1451.02 Z\" fill=\"#000000\" fill-rule=\"evenodd\" fill-opacity=\"1\" /><path clip-path=\"url(#clip140)\" d=\"M1249.03 1451.02 L1267.39 1451.02 L1267.39 1454.96 L1253.31 1454.96 L1253.31 1463.43 Q1254.33 1463.08 1255.35 1462.92 Q1256.37 1462.73 1257.39 1462.73 Q1263.17 1462.73 1266.55 1465.9 Q1269.93 1469.08 1269.93 1474.49 Q1269.93 1480.07 1266.46 1483.17 Q1262.99 1486.25 1256.67 1486.25 Q1254.49 1486.25 1252.23 1485.88 Q1249.98 1485.51 1247.57 1484.77 L1247.57 1480.07 Q1249.66 1481.2 1251.88 1481.76 Q1254.1 1482.32 1256.58 1482.32 Q1260.58 1482.32 1262.92 1480.21 Q1265.26 1478.1 1265.26 1474.49 Q1265.26 1470.88 1262.92 1468.77 Q1260.58 1466.67 1256.58 1466.67 Q1254.7 1466.67 1252.83 1467.08 Q1250.98 1467.5 1249.03 1468.38 L1249.03 1451.02 Z\" fill=\"#000000\" fill-rule=\"evenodd\" fill-opacity=\"1\" /><path clip-path=\"url(#clip140)\" d=\"M1279.15 1479.7 L1284.03 1479.7 L1284.03 1485.58 L1279.15 1485.58 L1279.15 1479.7 Z\" fill=\"#000000\" fill-rule=\"evenodd\" fill-opacity=\"1\" /><path clip-path=\"url(#clip140)\" d=\"M1304.22 1454.1 Q1300.6 1454.1 1298.78 1457.66 Q1296.97 1461.2 1296.97 1468.33 Q1296.97 1475.44 1298.78 1479.01 Q1300.6 1482.55 1304.22 1482.55 Q1307.85 1482.55 1309.66 1479.01 Q1311.48 1475.44 1311.48 1468.33 Q1311.48 1461.2 1309.66 1457.66 Q1307.85 1454.1 1304.22 1454.1 M1304.22 1450.39 Q1310.03 1450.39 1313.08 1455 Q1316.16 1459.58 1316.16 1468.33 Q1316.16 1477.06 1313.08 1481.67 Q1310.03 1486.25 1304.22 1486.25 Q1298.41 1486.25 1295.33 1481.67 Q1292.27 1477.06 1292.27 1468.33 Q1292.27 1459.58 1295.33 1455 Q1298.41 1450.39 1304.22 1450.39 Z\" fill=\"#000000\" fill-rule=\"evenodd\" fill-opacity=\"1\" /><path clip-path=\"url(#clip140)\" d=\"M1753.32 1451.02 L1775.54 1451.02 L1775.54 1453.01 L1763 1485.58 L1758.11 1485.58 L1769.92 1454.96 L1753.32 1454.96 L1753.32 1451.02 Z\" fill=\"#000000\" fill-rule=\"evenodd\" fill-opacity=\"1\" /><path clip-path=\"url(#clip140)\" d=\"M1784.67 1479.7 L1789.55 1479.7 L1789.55 1485.58 L1784.67 1485.58 L1784.67 1479.7 Z\" fill=\"#000000\" fill-rule=\"evenodd\" fill-opacity=\"1\" /><path clip-path=\"url(#clip140)\" d=\"M1799.78 1451.02 L1818.14 1451.02 L1818.14 1454.96 L1804.06 1454.96 L1804.06 1463.43 Q1805.08 1463.08 1806.1 1462.92 Q1807.12 1462.73 1808.14 1462.73 Q1813.92 1462.73 1817.3 1465.9 Q1820.68 1469.08 1820.68 1474.49 Q1820.68 1480.07 1817.21 1483.17 Q1813.74 1486.25 1807.42 1486.25 Q1805.24 1486.25 1802.98 1485.88 Q1800.73 1485.51 1798.32 1484.77 L1798.32 1480.07 Q1800.41 1481.2 1802.63 1481.76 Q1804.85 1482.32 1807.33 1482.32 Q1811.33 1482.32 1813.67 1480.21 Q1816.01 1478.1 1816.01 1474.49 Q1816.01 1470.88 1813.67 1468.77 Q1811.33 1466.67 1807.33 1466.67 Q1805.45 1466.67 1803.58 1467.08 Q1801.73 1467.5 1799.78 1468.38 L1799.78 1451.02 Z\" fill=\"#000000\" fill-rule=\"evenodd\" fill-opacity=\"1\" /><path clip-path=\"url(#clip140)\" d=\"M2244.21 1481.64 L2251.85 1481.64 L2251.85 1455.28 L2243.54 1456.95 L2243.54 1452.69 L2251.8 1451.02 L2256.48 1451.02 L2256.48 1481.64 L2264.12 1481.64 L2264.12 1485.58 L2244.21 1485.58 L2244.21 1481.64 Z\" fill=\"#000000\" fill-rule=\"evenodd\" fill-opacity=\"1\" /><path clip-path=\"url(#clip140)\" d=\"M2283.56 1454.1 Q2279.95 1454.1 2278.12 1457.66 Q2276.32 1461.2 2276.32 1468.33 Q2276.32 1475.44 2278.12 1479.01 Q2279.95 1482.55 2283.56 1482.55 Q2287.2 1482.55 2289 1479.01 Q2290.83 1475.44 2290.83 1468.33 Q2290.83 1461.2 2289 1457.66 Q2287.2 1454.1 2283.56 1454.1 M2283.56 1450.39 Q2289.37 1450.39 2292.43 1455 Q2295.51 1459.58 2295.51 1468.33 Q2295.51 1477.06 2292.43 1481.67 Q2289.37 1486.25 2283.56 1486.25 Q2277.75 1486.25 2274.67 1481.67 Q2271.62 1477.06 2271.62 1468.33 Q2271.62 1459.58 2274.67 1455 Q2277.75 1450.39 2283.56 1450.39 Z\" fill=\"#000000\" fill-rule=\"evenodd\" fill-opacity=\"1\" /><path clip-path=\"url(#clip140)\" d=\"M2303.73 1479.7 L2308.61 1479.7 L2308.61 1485.58 L2303.73 1485.58 L2303.73 1479.7 Z\" fill=\"#000000\" fill-rule=\"evenodd\" fill-opacity=\"1\" /><path clip-path=\"url(#clip140)\" d=\"M2328.79 1454.1 Q2325.18 1454.1 2323.35 1457.66 Q2321.55 1461.2 2321.55 1468.33 Q2321.55 1475.44 2323.35 1479.01 Q2325.18 1482.55 2328.79 1482.55 Q2332.43 1482.55 2334.23 1479.01 Q2336.06 1475.44 2336.06 1468.33 Q2336.06 1461.2 2334.23 1457.66 Q2332.43 1454.1 2328.79 1454.1 M2328.79 1450.39 Q2334.6 1450.39 2337.66 1455 Q2340.74 1459.58 2340.74 1468.33 Q2340.74 1477.06 2337.66 1481.67 Q2334.6 1486.25 2328.79 1486.25 Q2322.98 1486.25 2319.91 1481.67 Q2316.85 1477.06 2316.85 1468.33 Q2316.85 1459.58 2319.91 1455 Q2322.98 1450.39 2328.79 1450.39 Z\" fill=\"#000000\" fill-rule=\"evenodd\" fill-opacity=\"1\" /><path clip-path=\"url(#clip140)\" d=\"M1169.32 1522.27 L1169.32 1532.4 L1181.38 1532.4 L1181.38 1536.95 L1169.32 1536.95 L1169.32 1556.3 Q1169.32 1560.66 1170.5 1561.9 Q1171.71 1563.14 1175.37 1563.14 L1181.38 1563.14 L1181.38 1568.04 L1175.37 1568.04 Q1168.59 1568.04 1166.01 1565.53 Q1163.43 1562.98 1163.43 1556.3 L1163.43 1536.95 L1159.14 1536.95 L1159.14 1532.4 L1163.43 1532.4 L1163.43 1522.27 L1169.32 1522.27 Z\" fill=\"#000000\" fill-rule=\"evenodd\" fill-opacity=\"1\" /><path clip-path=\"url(#clip140)\" d=\"M1189.09 1532.4 L1194.94 1532.4 L1194.94 1568.04 L1189.09 1568.04 L1189.09 1532.4 M1189.09 1518.52 L1194.94 1518.52 L1194.94 1525.93 L1189.09 1525.93 L1189.09 1518.52 Z\" fill=\"#000000\" fill-rule=\"evenodd\" fill-opacity=\"1\" /><path clip-path=\"url(#clip140)\" d=\"M1234.95 1539.24 Q1237.15 1535.29 1240.2 1533.41 Q1243.26 1531.54 1247.4 1531.54 Q1252.97 1531.54 1255.99 1535.45 Q1259.01 1539.33 1259.01 1546.53 L1259.01 1568.04 L1253.13 1568.04 L1253.13 1546.72 Q1253.13 1541.59 1251.31 1539.11 Q1249.5 1536.63 1245.77 1536.63 Q1241.22 1536.63 1238.58 1539.65 Q1235.94 1542.68 1235.94 1547.9 L1235.94 1568.04 L1230.05 1568.04 L1230.05 1546.72 Q1230.05 1541.56 1228.24 1539.11 Q1226.42 1536.63 1222.63 1536.63 Q1218.15 1536.63 1215.5 1539.68 Q1212.86 1542.71 1212.86 1547.9 L1212.86 1568.04 L1206.97 1568.04 L1206.97 1532.4 L1212.86 1532.4 L1212.86 1537.93 Q1214.87 1534.66 1217.67 1533.1 Q1220.47 1531.54 1224.32 1531.54 Q1228.2 1531.54 1230.91 1533.51 Q1233.65 1535.48 1234.95 1539.24 Z\" fill=\"#000000\" fill-rule=\"evenodd\" fill-opacity=\"1\" /><path clip-path=\"url(#clip140)\" d=\"M1301.19 1548.76 L1301.19 1551.62 L1274.26 1551.62 Q1274.64 1557.67 1277.89 1560.85 Q1281.17 1564 1286.99 1564 Q1290.36 1564 1293.52 1563.17 Q1296.7 1562.35 1299.82 1560.69 L1299.82 1566.23 Q1296.67 1567.57 1293.36 1568.27 Q1290.05 1568.97 1286.64 1568.97 Q1278.11 1568.97 1273.11 1564 Q1268.15 1559.04 1268.15 1550.57 Q1268.15 1541.82 1272.86 1536.69 Q1277.6 1531.54 1285.62 1531.54 Q1292.82 1531.54 1296.99 1536.18 Q1301.19 1540.8 1301.19 1548.76 M1295.33 1547.04 Q1295.27 1542.23 1292.62 1539.37 Q1290.01 1536.5 1285.69 1536.5 Q1280.78 1536.5 1277.82 1539.27 Q1274.9 1542.04 1274.45 1547.07 L1295.33 1547.04 Z\" fill=\"#000000\" fill-rule=\"evenodd\" fill-opacity=\"1\" /><path clip-path=\"url(#clip140)\" d=\"M1345.59 1518.58 Q1341.32 1525.9 1339.25 1533.06 Q1337.18 1540.23 1337.18 1547.58 Q1337.18 1554.93 1339.25 1562.16 Q1341.35 1569.35 1345.59 1576.64 L1340.49 1576.64 Q1335.72 1569.16 1333.33 1561.93 Q1330.98 1554.71 1330.98 1547.58 Q1330.98 1540.48 1333.33 1533.29 Q1335.69 1526.09 1340.49 1518.58 L1345.59 1518.58 Z\" fill=\"#000000\" fill-rule=\"evenodd\" fill-opacity=\"1\" /><path clip-path=\"url(#clip140)\" d=\"M1379.68 1533.45 L1379.68 1538.98 Q1377.19 1537.71 1374.52 1537.07 Q1371.85 1536.44 1368.98 1536.44 Q1364.62 1536.44 1362.42 1537.77 Q1360.26 1539.11 1360.26 1541.79 Q1360.26 1543.82 1361.82 1545 Q1363.38 1546.15 1368.09 1547.2 L1370.1 1547.64 Q1376.33 1548.98 1378.94 1551.43 Q1381.59 1553.85 1381.59 1558.21 Q1381.59 1563.17 1377.64 1566.07 Q1373.72 1568.97 1366.85 1568.97 Q1363.98 1568.97 1360.87 1568.39 Q1357.78 1567.85 1354.34 1566.74 L1354.34 1560.69 Q1357.59 1562.38 1360.74 1563.24 Q1363.89 1564.07 1366.98 1564.07 Q1371.11 1564.07 1373.34 1562.66 Q1375.57 1561.23 1375.57 1558.65 Q1375.57 1556.27 1373.95 1554.99 Q1372.36 1553.72 1366.91 1552.54 L1364.88 1552.07 Q1359.43 1550.92 1357.01 1548.56 Q1354.59 1546.18 1354.59 1542.04 Q1354.59 1537.01 1358.16 1534.27 Q1361.72 1531.54 1368.28 1531.54 Q1371.53 1531.54 1374.39 1532.01 Q1377.26 1532.49 1379.68 1533.45 Z\" fill=\"#000000\" fill-rule=\"evenodd\" fill-opacity=\"1\" /><path clip-path=\"url(#clip140)\" d=\"M1389.99 1518.58 L1395.08 1518.58 Q1399.86 1526.09 1402.21 1533.29 Q1404.6 1540.48 1404.6 1547.58 Q1404.6 1554.71 1402.21 1561.93 Q1399.86 1569.16 1395.08 1576.64 L1389.99 1576.64 Q1394.22 1569.35 1396.29 1562.16 Q1398.39 1554.93 1398.39 1547.58 Q1398.39 1540.23 1396.29 1533.06 Q1394.22 1525.9 1389.99 1518.58 Z\" fill=\"#000000\" fill-rule=\"evenodd\" fill-opacity=\"1\" /><polyline clip-path=\"url(#clip142)\" style=\"stroke:#000000; stroke-linecap:round; stroke-linejoin:round; stroke-width:2; stroke-opacity:0.1; fill:none\" points=\"210.977,1364.64 2352.76,1364.64 \"/>\n",
       "<polyline clip-path=\"url(#clip142)\" style=\"stroke:#000000; stroke-linecap:round; stroke-linejoin:round; stroke-width:2; stroke-opacity:0.1; fill:none\" points=\"210.977,1123.77 2352.76,1123.77 \"/>\n",
       "<polyline clip-path=\"url(#clip142)\" style=\"stroke:#000000; stroke-linecap:round; stroke-linejoin:round; stroke-width:2; stroke-opacity:0.1; fill:none\" points=\"210.977,882.889 2352.76,882.889 \"/>\n",
       "<polyline clip-path=\"url(#clip142)\" style=\"stroke:#000000; stroke-linecap:round; stroke-linejoin:round; stroke-width:2; stroke-opacity:0.1; fill:none\" points=\"210.977,642.012 2352.76,642.012 \"/>\n",
       "<polyline clip-path=\"url(#clip142)\" style=\"stroke:#000000; stroke-linecap:round; stroke-linejoin:round; stroke-width:2; stroke-opacity:0.1; fill:none\" points=\"210.977,401.134 2352.76,401.134 \"/>\n",
       "<polyline clip-path=\"url(#clip142)\" style=\"stroke:#000000; stroke-linecap:round; stroke-linejoin:round; stroke-width:2; stroke-opacity:0.1; fill:none\" points=\"210.977,160.256 2352.76,160.256 \"/>\n",
       "<polyline clip-path=\"url(#clip140)\" style=\"stroke:#000000; stroke-linecap:round; stroke-linejoin:round; stroke-width:4; stroke-opacity:1; fill:none\" points=\"210.977,1423.18 210.977,123.472 \"/>\n",
       "<polyline clip-path=\"url(#clip140)\" style=\"stroke:#000000; stroke-linecap:round; stroke-linejoin:round; stroke-width:4; stroke-opacity:1; fill:none\" points=\"210.977,1364.64 229.875,1364.64 \"/>\n",
       "<polyline clip-path=\"url(#clip140)\" style=\"stroke:#000000; stroke-linecap:round; stroke-linejoin:round; stroke-width:4; stroke-opacity:1; fill:none\" points=\"210.977,1123.77 229.875,1123.77 \"/>\n",
       "<polyline clip-path=\"url(#clip140)\" style=\"stroke:#000000; stroke-linecap:round; stroke-linejoin:round; stroke-width:4; stroke-opacity:1; fill:none\" points=\"210.977,882.889 229.875,882.889 \"/>\n",
       "<polyline clip-path=\"url(#clip140)\" style=\"stroke:#000000; stroke-linecap:round; stroke-linejoin:round; stroke-width:4; stroke-opacity:1; fill:none\" points=\"210.977,642.012 229.875,642.012 \"/>\n",
       "<polyline clip-path=\"url(#clip140)\" style=\"stroke:#000000; stroke-linecap:round; stroke-linejoin:round; stroke-width:4; stroke-opacity:1; fill:none\" points=\"210.977,401.134 229.875,401.134 \"/>\n",
       "<polyline clip-path=\"url(#clip140)\" style=\"stroke:#000000; stroke-linecap:round; stroke-linejoin:round; stroke-width:4; stroke-opacity:1; fill:none\" points=\"210.977,160.256 229.875,160.256 \"/>\n",
       "<path clip-path=\"url(#clip140)\" d=\"M114.26 1365.1 L143.936 1365.1 L143.936 1369.03 L114.26 1369.03 L114.26 1365.1 Z\" fill=\"#000000\" fill-rule=\"evenodd\" fill-opacity=\"1\" /><path clip-path=\"url(#clip140)\" d=\"M154.075 1347.36 L172.431 1347.36 L172.431 1351.3 L158.357 1351.3 L158.357 1359.77 Q159.376 1359.42 160.394 1359.26 Q161.413 1359.08 162.431 1359.08 Q168.218 1359.08 171.598 1362.25 Q174.977 1365.42 174.977 1370.84 Q174.977 1376.42 171.505 1379.52 Q168.033 1382.6 161.714 1382.6 Q159.538 1382.6 157.269 1382.23 Q155.024 1381.85 152.616 1381.11 L152.616 1376.42 Q154.7 1377.55 156.922 1378.11 Q159.144 1378.66 161.621 1378.66 Q165.626 1378.66 167.964 1376.55 Q170.302 1374.45 170.302 1370.84 Q170.302 1367.23 167.964 1365.12 Q165.626 1363.01 161.621 1363.01 Q159.746 1363.01 157.871 1363.43 Q156.019 1363.85 154.075 1364.73 L154.075 1347.36 Z\" fill=\"#000000\" fill-rule=\"evenodd\" fill-opacity=\"1\" /><path clip-path=\"url(#clip140)\" d=\"M163.033 1109.57 Q159.422 1109.57 157.593 1113.13 Q155.788 1116.67 155.788 1123.8 Q155.788 1130.91 157.593 1134.47 Q159.422 1138.01 163.033 1138.01 Q166.667 1138.01 168.473 1134.47 Q170.302 1130.91 170.302 1123.8 Q170.302 1116.67 168.473 1113.13 Q166.667 1109.57 163.033 1109.57 M163.033 1105.86 Q168.843 1105.86 171.899 1110.47 Q174.977 1115.05 174.977 1123.8 Q174.977 1132.53 171.899 1137.13 Q168.843 1141.72 163.033 1141.72 Q157.223 1141.72 154.144 1137.13 Q151.089 1132.53 151.089 1123.8 Q151.089 1115.05 154.144 1110.47 Q157.223 1105.86 163.033 1105.86 Z\" fill=\"#000000\" fill-rule=\"evenodd\" fill-opacity=\"1\" /><path clip-path=\"url(#clip140)\" d=\"M154.075 865.609 L172.431 865.609 L172.431 869.544 L158.357 869.544 L158.357 878.017 Q159.376 877.669 160.394 877.507 Q161.413 877.322 162.431 877.322 Q168.218 877.322 171.598 880.493 Q174.977 883.665 174.977 889.081 Q174.977 894.66 171.505 897.762 Q168.033 900.84 161.714 900.84 Q159.538 900.84 157.269 900.47 Q155.024 900.1 152.616 899.359 L152.616 894.66 Q154.7 895.794 156.922 896.35 Q159.144 896.905 161.621 896.905 Q165.626 896.905 167.964 894.799 Q170.302 892.692 170.302 889.081 Q170.302 885.47 167.964 883.364 Q165.626 881.257 161.621 881.257 Q159.746 881.257 157.871 881.674 Q156.019 882.091 154.075 882.97 L154.075 865.609 Z\" fill=\"#000000\" fill-rule=\"evenodd\" fill-opacity=\"1\" /><path clip-path=\"url(#clip140)\" d=\"M123.681 655.356 L131.32 655.356 L131.32 628.991 L123.01 630.657 L123.01 626.398 L131.274 624.732 L135.95 624.732 L135.95 655.356 L143.589 655.356 L143.589 659.292 L123.681 659.292 L123.681 655.356 Z\" fill=\"#000000\" fill-rule=\"evenodd\" fill-opacity=\"1\" /><path clip-path=\"url(#clip140)\" d=\"M163.033 627.81 Q159.422 627.81 157.593 631.375 Q155.788 634.917 155.788 642.046 Q155.788 649.153 157.593 652.718 Q159.422 656.259 163.033 656.259 Q166.667 656.259 168.473 652.718 Q170.302 649.153 170.302 642.046 Q170.302 634.917 168.473 631.375 Q166.667 627.81 163.033 627.81 M163.033 624.107 Q168.843 624.107 171.899 628.713 Q174.977 633.296 174.977 642.046 Q174.977 650.773 171.899 655.38 Q168.843 659.963 163.033 659.963 Q157.223 659.963 154.144 655.38 Q151.089 650.773 151.089 642.046 Q151.089 633.296 154.144 628.713 Q157.223 624.107 163.033 624.107 Z\" fill=\"#000000\" fill-rule=\"evenodd\" fill-opacity=\"1\" /><path clip-path=\"url(#clip140)\" d=\"M124.677 414.479 L132.316 414.479 L132.316 388.113 L124.005 389.78 L124.005 385.521 L132.269 383.854 L136.945 383.854 L136.945 414.479 L144.584 414.479 L144.584 418.414 L124.677 418.414 L124.677 414.479 Z\" fill=\"#000000\" fill-rule=\"evenodd\" fill-opacity=\"1\" /><path clip-path=\"url(#clip140)\" d=\"M154.075 383.854 L172.431 383.854 L172.431 387.789 L158.357 387.789 L158.357 396.261 Q159.376 395.914 160.394 395.752 Q161.413 395.567 162.431 395.567 Q168.218 395.567 171.598 398.738 Q174.977 401.909 174.977 407.326 Q174.977 412.905 171.505 416.007 Q168.033 419.085 161.714 419.085 Q159.538 419.085 157.269 418.715 Q155.024 418.344 152.616 417.604 L152.616 412.905 Q154.7 414.039 156.922 414.595 Q159.144 415.15 161.621 415.15 Q165.626 415.15 167.964 413.044 Q170.302 410.937 170.302 407.326 Q170.302 403.715 167.964 401.608 Q165.626 399.502 161.621 399.502 Q159.746 399.502 157.871 399.919 Q156.019 400.335 154.075 401.215 L154.075 383.854 Z\" fill=\"#000000\" fill-rule=\"evenodd\" fill-opacity=\"1\" /><path clip-path=\"url(#clip140)\" d=\"M126.899 173.601 L143.218 173.601 L143.218 177.536 L121.274 177.536 L121.274 173.601 Q123.936 170.847 128.519 166.217 Q133.126 161.564 134.306 160.222 Q136.552 157.698 137.431 155.962 Q138.334 154.203 138.334 152.513 Q138.334 149.759 136.39 148.023 Q134.468 146.286 131.367 146.286 Q129.167 146.286 126.714 147.05 Q124.283 147.814 121.505 149.365 L121.505 144.643 Q124.33 143.509 126.783 142.93 Q129.237 142.351 131.274 142.351 Q136.644 142.351 139.839 145.036 Q143.033 147.722 143.033 152.212 Q143.033 154.342 142.223 156.263 Q141.436 158.161 139.329 160.754 Q138.751 161.425 135.649 164.643 Q132.547 167.837 126.899 173.601 Z\" fill=\"#000000\" fill-rule=\"evenodd\" fill-opacity=\"1\" /><path clip-path=\"url(#clip140)\" d=\"M163.033 146.055 Q159.422 146.055 157.593 149.62 Q155.788 153.161 155.788 160.291 Q155.788 167.397 157.593 170.962 Q159.422 174.504 163.033 174.504 Q166.667 174.504 168.473 170.962 Q170.302 167.397 170.302 160.291 Q170.302 153.161 168.473 149.62 Q166.667 146.055 163.033 146.055 M163.033 142.351 Q168.843 142.351 171.899 146.958 Q174.977 151.541 174.977 160.291 Q174.977 169.018 171.899 173.624 Q168.843 178.208 163.033 178.208 Q157.223 178.208 154.144 173.624 Q151.089 169.018 151.089 160.291 Q151.089 151.541 154.144 146.958 Q157.223 142.351 163.033 142.351 Z\" fill=\"#000000\" fill-rule=\"evenodd\" fill-opacity=\"1\" /><path clip-path=\"url(#clip140)\" d=\"M28.3562 756.711 L45.7028 769.602 L64.0042 756.043 L64.0042 762.95 L49.9996 773.326 L64.0042 783.702 L64.0042 790.609 L45.3526 776.763 L28.3562 789.431 L28.3562 782.524 L41.0558 773.071 L28.3562 763.618 L28.3562 756.711 Z\" fill=\"#000000\" fill-rule=\"evenodd\" fill-opacity=\"1\" /><path clip-path=\"url(#clip140)\" d=\"M1054.21 14.0809 L1054.21 22.0612 Q1049.55 19.8332 1045.42 18.7395 Q1041.28 17.6457 1037.44 17.6457 Q1030.75 17.6457 1027.11 20.2383 Q1023.5 22.8309 1023.5 27.611 Q1023.5 31.6214 1025.89 33.6873 Q1028.32 35.7128 1035.05 36.9686 L1039.99 37.9813 Q1049.14 39.7232 1053.48 44.1387 Q1057.85 48.5136 1057.85 55.8863 Q1057.85 64.6767 1051.94 69.2137 Q1046.06 73.7508 1034.68 73.7508 Q1030.39 73.7508 1025.53 72.7785 Q1020.7 71.8063 1015.52 69.9024 L1015.52 61.4765 Q1020.5 64.2716 1025.28 65.6895 Q1030.06 67.1073 1034.68 67.1073 Q1041.69 67.1073 1045.5 64.3527 Q1049.3 61.598 1049.3 56.4939 Q1049.3 52.0379 1046.55 49.5264 Q1043.84 47.0148 1037.6 45.759 L1032.61 44.7868 Q1023.46 42.9639 1019.37 39.075 Q1015.28 35.1862 1015.28 28.2591 Q1015.28 20.2383 1020.91 15.6203 Q1026.58 11.0023 1036.5 11.0023 Q1040.76 11.0023 1045.17 11.7719 Q1049.59 12.5416 1054.21 14.0809 Z\" fill=\"#000000\" fill-rule=\"evenodd\" fill-opacity=\"1\" /><path clip-path=\"url(#clip140)\" d=\"M1077.66 14.324 L1077.66 27.2059 L1093.01 27.2059 L1093.01 32.9987 L1077.66 32.9987 L1077.66 57.6282 Q1077.66 63.1779 1079.16 64.7578 Q1080.7 66.3376 1085.36 66.3376 L1093.01 66.3376 L1093.01 72.576 L1085.36 72.576 Q1076.73 72.576 1073.45 69.3758 Q1070.17 66.1351 1070.17 57.6282 L1070.17 32.9987 L1064.7 32.9987 L1064.7 27.2059 L1070.17 27.2059 L1070.17 14.324 L1077.66 14.324 Z\" fill=\"#000000\" fill-rule=\"evenodd\" fill-opacity=\"1\" /><path clip-path=\"url(#clip140)\" d=\"M1123.44 49.7694 Q1114.4 49.7694 1110.92 51.8354 Q1107.43 53.9013 1107.43 58.8839 Q1107.43 62.8538 1110.03 65.2034 Q1112.66 67.5124 1117.16 67.5124 Q1123.35 67.5124 1127.08 63.1374 Q1130.85 58.7219 1130.85 51.4303 L1130.85 49.7694 L1123.44 49.7694 M1138.3 46.6907 L1138.3 72.576 L1130.85 72.576 L1130.85 65.6895 Q1128.3 69.8214 1124.49 71.8063 Q1120.68 73.7508 1115.17 73.7508 Q1108.2 73.7508 1104.07 69.8619 Q1099.98 65.9325 1099.98 59.3701 Q1099.98 51.7138 1105.09 47.825 Q1110.23 43.9361 1120.4 43.9361 L1130.85 43.9361 L1130.85 43.2069 Q1130.85 38.0623 1127.45 35.2672 Q1124.08 32.4315 1117.97 32.4315 Q1114.08 32.4315 1110.39 33.3632 Q1106.71 34.295 1103.3 36.1584 L1103.3 29.2718 Q1107.39 27.692 1111.24 26.9223 Q1115.09 26.1121 1118.74 26.1121 Q1128.58 26.1121 1133.44 31.2163 Q1138.3 36.3204 1138.3 46.6907 Z\" fill=\"#000000\" fill-rule=\"evenodd\" fill-opacity=\"1\" /><path clip-path=\"url(#clip140)\" d=\"M1161.03 14.324 L1161.03 27.2059 L1176.38 27.2059 L1176.38 32.9987 L1161.03 32.9987 L1161.03 57.6282 Q1161.03 63.1779 1162.53 64.7578 Q1164.07 66.3376 1168.72 66.3376 L1176.38 66.3376 L1176.38 72.576 L1168.72 72.576 Q1160.1 72.576 1156.82 69.3758 Q1153.53 66.1351 1153.53 57.6282 L1153.53 32.9987 L1148.07 32.9987 L1148.07 27.2059 L1153.53 27.2059 L1153.53 14.324 L1161.03 14.324 Z\" fill=\"#000000\" fill-rule=\"evenodd\" fill-opacity=\"1\" /><path clip-path=\"url(#clip140)\" d=\"M1224.99 48.0275 L1224.99 51.6733 L1190.72 51.6733 Q1191.21 59.3701 1195.34 63.421 Q1199.51 67.4314 1206.92 67.4314 Q1211.22 67.4314 1215.23 66.3781 Q1219.28 65.3249 1223.25 63.2184 L1223.25 70.267 Q1219.24 71.9684 1215.03 72.8596 Q1210.81 73.7508 1206.48 73.7508 Q1195.62 73.7508 1189.26 67.4314 Q1182.94 61.1119 1182.94 50.3365 Q1182.94 39.1965 1188.94 32.6746 Q1194.97 26.1121 1205.18 26.1121 Q1214.34 26.1121 1219.64 32.0264 Q1224.99 37.9003 1224.99 48.0275 M1217.54 45.84 Q1217.46 39.7232 1214.1 36.0774 Q1210.77 32.4315 1205.26 32.4315 Q1199.03 32.4315 1195.26 35.9558 Q1191.53 39.4801 1190.96 45.8805 L1217.54 45.84 Z\" fill=\"#000000\" fill-rule=\"evenodd\" fill-opacity=\"1\" /><path clip-path=\"url(#clip140)\" d=\"M1263.92 12.096 L1272.1 12.096 L1272.1 36.8875 L1301.84 36.8875 L1301.84 12.096 L1310.02 12.096 L1310.02 72.576 L1301.84 72.576 L1301.84 43.7741 L1272.1 43.7741 L1272.1 72.576 L1263.92 72.576 L1263.92 12.096 Z\" fill=\"#000000\" fill-rule=\"evenodd\" fill-opacity=\"1\" /><path clip-path=\"url(#clip140)\" d=\"M1325.98 27.2059 L1333.43 27.2059 L1333.43 72.576 L1325.98 72.576 L1325.98 27.2059 M1325.98 9.54393 L1333.43 9.54393 L1333.43 18.9825 L1325.98 18.9825 L1325.98 9.54393 Z\" fill=\"#000000\" fill-rule=\"evenodd\" fill-opacity=\"1\" /><path clip-path=\"url(#clip140)\" d=\"M1377.95 28.5427 L1377.95 35.5912 Q1374.79 33.9709 1371.39 33.1607 Q1367.99 32.3505 1364.34 32.3505 Q1358.79 32.3505 1356 34.0519 Q1353.24 35.7533 1353.24 39.156 Q1353.24 41.7486 1355.23 43.2475 Q1357.21 44.7058 1363.21 46.0426 L1365.76 46.6097 Q1373.7 48.3111 1377.02 51.4303 Q1380.38 54.509 1380.38 60.0587 Q1380.38 66.3781 1375.36 70.0644 Q1370.38 73.7508 1361.63 73.7508 Q1357.98 73.7508 1354.01 73.0216 Q1350.08 72.3329 1345.71 70.9151 L1345.71 63.2184 Q1349.84 65.3654 1353.85 66.4591 Q1357.86 67.5124 1361.79 67.5124 Q1367.06 67.5124 1369.89 65.73 Q1372.73 63.9071 1372.73 60.6258 Q1372.73 57.5877 1370.66 55.9673 Q1368.64 54.3469 1361.71 52.8481 L1359.12 52.2405 Q1352.19 50.7821 1349.11 47.7845 Q1346.03 44.7463 1346.03 39.4801 Q1346.03 33.0797 1350.57 29.5959 Q1355.11 26.1121 1363.45 26.1121 Q1367.58 26.1121 1371.23 26.7198 Q1374.88 27.3274 1377.95 28.5427 Z\" fill=\"#000000\" fill-rule=\"evenodd\" fill-opacity=\"1\" /><path clip-path=\"url(#clip140)\" d=\"M1399.63 14.324 L1399.63 27.2059 L1414.98 27.2059 L1414.98 32.9987 L1399.63 32.9987 L1399.63 57.6282 Q1399.63 63.1779 1401.13 64.7578 Q1402.66 66.3376 1407.32 66.3376 L1414.98 66.3376 L1414.98 72.576 L1407.32 72.576 Q1398.69 72.576 1395.41 69.3758 Q1392.13 66.1351 1392.13 57.6282 L1392.13 32.9987 L1386.66 32.9987 L1386.66 27.2059 L1392.13 27.2059 L1392.13 14.324 L1399.63 14.324 Z\" fill=\"#000000\" fill-rule=\"evenodd\" fill-opacity=\"1\" /><path clip-path=\"url(#clip140)\" d=\"M1442.36 32.4315 Q1436.37 32.4315 1432.88 37.1306 Q1429.4 41.7891 1429.4 49.9314 Q1429.4 58.0738 1432.84 62.7728 Q1436.33 67.4314 1442.36 67.4314 Q1448.32 67.4314 1451.8 62.7323 Q1455.29 58.0333 1455.29 49.9314 Q1455.29 41.8701 1451.8 37.1711 Q1448.32 32.4315 1442.36 32.4315 M1442.36 26.1121 Q1452.09 26.1121 1457.64 32.4315 Q1463.19 38.7509 1463.19 49.9314 Q1463.19 61.0714 1457.64 67.4314 Q1452.09 73.7508 1442.36 73.7508 Q1432.6 73.7508 1427.05 67.4314 Q1421.54 61.0714 1421.54 49.9314 Q1421.54 38.7509 1427.05 32.4315 Q1432.6 26.1121 1442.36 26.1121 Z\" fill=\"#000000\" fill-rule=\"evenodd\" fill-opacity=\"1\" /><path clip-path=\"url(#clip140)\" d=\"M1501.83 34.1734 Q1500.57 33.4443 1499.08 33.1202 Q1497.62 32.7556 1495.84 32.7556 Q1489.52 32.7556 1486.11 36.8875 Q1482.75 40.9789 1482.75 48.6757 L1482.75 72.576 L1475.26 72.576 L1475.26 27.2059 L1482.75 27.2059 L1482.75 34.2544 Q1485.1 30.1225 1488.87 28.1376 Q1492.64 26.1121 1498.02 26.1121 Q1498.79 26.1121 1499.72 26.2337 Q1500.66 26.3147 1501.79 26.5172 L1501.83 34.1734 Z\" fill=\"#000000\" fill-rule=\"evenodd\" fill-opacity=\"1\" /><path clip-path=\"url(#clip140)\" d=\"M1528.53 76.7889 Q1525.37 84.8907 1522.37 87.3618 Q1519.37 89.8329 1514.35 89.8329 L1508.39 89.8329 L1508.39 83.5945 L1512.77 83.5945 Q1515.85 83.5945 1517.55 82.1361 Q1519.25 80.6778 1521.32 75.2496 L1522.65 71.8468 L1504.3 27.2059 L1512.2 27.2059 L1526.38 62.6918 L1540.56 27.2059 L1548.46 27.2059 L1528.53 76.7889 Z\" fill=\"#000000\" fill-rule=\"evenodd\" fill-opacity=\"1\" /><polyline clip-path=\"url(#clip142)\" style=\"stroke:#009af9; stroke-linecap:round; stroke-linejoin:round; stroke-width:4; stroke-opacity:1; fill:none\" points=\"271.594,931.065 291.799,938.205 312.005,945.174 332.21,951.973 352.416,958.605 372.621,965.071 392.827,971.375 413.032,977.516 433.237,983.499 453.443,989.324 473.648,994.994 493.854,1000.51 514.059,1005.88 534.265,1011.09 554.47,1016.16 574.676,1021.09 594.881,1025.87 615.087,1030.51 635.292,1035.01 655.497,1039.37 675.703,1043.6 695.908,1047.7 716.114,1051.66 736.319,1055.5 756.525,1059.21 776.73,1062.79 796.936,1066.25 817.141,1069.59 837.347,1072.81 857.552,1075.92 877.758,1078.91 897.963,1081.79 918.168,1084.55 938.374,1087.21 958.579,1089.76 978.785,1092.21 998.99,1094.55 1019.2,1096.79 1039.4,1098.94 1059.61,1100.99 1079.81,1102.94 1100.02,1104.8 1120.22,1106.57 1140.43,1108.26 1160.63,1109.85 1180.84,1111.36 1201.04,1112.79 1221.25,1114.14 1241.46,1115.41 1261.66,1116.61 1281.87,1117.73 1302.07,1118.78 1322.28,1119.75 1342.48,1120.66 1362.69,1121.51 1382.89,1122.29 1403.1,1123 1423.3,1123.66 1443.51,1124.26 1463.72,1124.8 1483.92,1125.29 1504.13,1125.73 1524.33,1126.11 1544.54,1126.45 1564.74,1126.75 1584.95,1127 1605.15,1127.2 1625.36,1127.37 1645.56,1127.5 1665.77,1127.59 1685.98,1127.65 1706.18,1127.68 1726.39,1127.68 1746.59,1127.65 1766.8,1127.6 1787,1127.52 1807.21,1127.42 1827.41,1127.3 1847.62,1127.16 1867.82,1127.01 1888.03,1126.84 1908.24,1126.66 1928.44,1126.47 1948.65,1126.28 1968.85,1126.08 1989.06,1125.87 2009.26,1125.67 2029.47,1125.46 2049.67,1125.26 2069.88,1125.06 2090.08,1124.87 2110.29,1124.69 2130.5,1124.52 2150.7,1124.36 2170.91,1124.21 2191.11,1124.08 2211.32,1123.98 2231.52,1123.89 2251.73,1123.82 2271.93,1123.78 2292.14,1123.77 \"/>\n",
       "<polyline clip-path=\"url(#clip142)\" style=\"stroke:#e26f46; stroke-linecap:round; stroke-linejoin:round; stroke-width:4; stroke-opacity:1; fill:none\" points=\"271.594,1027.42 291.799,1022.72 312.005,1018.28 332.21,1014.07 352.416,1010.11 372.621,1006.38 392.827,1002.88 413.032,999.613 433.237,996.565 453.443,993.735 473.648,991.12 493.854,988.715 514.059,986.516 534.265,984.519 554.47,982.721 574.676,981.116 594.881,979.702 615.087,978.473 635.292,977.426 655.497,976.557 675.703,975.862 695.908,975.336 716.114,974.975 736.319,974.776 756.525,974.734 776.73,974.846 796.936,975.107 817.141,975.513 837.347,976.059 857.552,976.743 877.758,977.56 897.963,978.506 918.168,979.576 938.374,980.768 958.579,982.076 978.785,983.496 998.99,985.026 1019.2,986.659 1039.4,988.393 1059.61,990.224 1079.81,992.147 1100.02,994.158 1120.22,996.254 1140.43,998.43 1160.63,1000.68 1180.84,1003.01 1201.04,1005.4 1221.25,1007.85 1241.46,1010.37 1261.66,1012.94 1281.87,1015.57 1302.07,1018.24 1322.28,1020.95 1342.48,1023.71 1362.69,1026.5 1382.89,1029.32 1403.1,1032.17 1423.3,1035.05 1443.51,1037.94 1463.72,1040.85 1483.92,1043.77 1504.13,1046.7 1524.33,1049.63 1544.54,1052.56 1564.74,1055.49 1584.95,1058.41 1605.15,1061.31 1625.36,1064.2 1645.56,1067.07 1665.77,1069.91 1685.98,1072.73 1706.18,1075.51 1726.39,1078.25 1746.59,1080.96 1766.8,1083.61 1787,1086.22 1807.21,1088.78 1827.41,1091.28 1847.62,1093.72 1867.82,1096.09 1888.03,1098.4 1908.24,1100.63 1928.44,1102.78 1948.65,1104.86 1968.85,1106.84 1989.06,1108.74 2009.26,1110.55 2029.47,1112.25 2049.67,1113.86 2069.88,1115.36 2090.08,1116.75 2110.29,1118.03 2130.5,1119.19 2150.7,1120.23 2170.91,1121.15 2191.11,1121.93 2211.32,1122.58 2231.52,1123.09 2251.73,1123.47 2271.93,1123.69 2292.14,1123.77 \"/>\n",
       "<polyline clip-path=\"url(#clip142)\" style=\"stroke:#3da44d; stroke-linecap:round; stroke-linejoin:round; stroke-width:4; stroke-opacity:1; fill:none\" points=\"271.594,160.256 291.799,172.348 312.005,184.535 332.21,196.81 352.416,209.171 372.621,221.613 392.827,234.131 413.032,246.72 433.237,259.377 453.443,272.096 473.648,284.874 493.854,297.705 514.059,310.585 534.265,323.511 554.47,336.477 574.676,349.479 594.881,362.512 615.087,375.573 635.292,388.656 655.497,401.758 675.703,414.874 695.908,427.999 716.114,441.129 736.319,454.259 756.525,467.386 776.73,480.505 796.936,493.611 817.141,506.701 837.347,519.769 857.552,532.811 877.758,545.823 897.963,558.801 918.168,571.74 938.374,584.636 958.579,597.485 978.785,610.281 998.99,623.021 1019.2,635.701 1039.4,648.316 1059.61,660.862 1079.81,673.334 1100.02,685.728 1120.22,698.039 1140.43,710.265 1160.63,722.399 1180.84,734.438 1201.04,746.377 1221.25,758.212 1241.46,769.939 1261.66,781.554 1281.87,793.051 1302.07,804.428 1322.28,815.679 1342.48,826.8 1362.69,837.787 1382.89,848.635 1403.1,859.341 1423.3,869.899 1443.51,880.307 1463.72,890.558 1483.92,900.649 1504.13,910.577 1524.33,920.335 1544.54,929.921 1564.74,939.329 1584.95,948.556 1605.15,957.598 1625.36,966.449 1645.56,975.105 1665.77,983.563 1685.98,991.818 1706.18,999.866 1726.39,1007.7 1746.59,1015.32 1766.8,1022.72 1787,1029.9 1807.21,1036.84 1827.41,1043.56 1847.62,1050.04 1867.82,1056.27 1888.03,1062.26 1908.24,1068 1928.44,1073.48 1948.65,1078.71 1968.85,1083.67 1989.06,1088.36 2009.26,1092.79 2029.47,1096.93 2049.67,1100.8 2069.88,1104.38 2090.08,1107.67 2110.29,1110.67 2130.5,1113.38 2150.7,1115.78 2170.91,1117.87 2191.11,1119.65 2211.32,1121.12 2231.52,1122.27 2251.73,1123.1 2271.93,1123.6 2292.14,1123.77 \"/>\n",
       "<polyline clip-path=\"url(#clip142)\" style=\"stroke:#c271d2; stroke-linecap:round; stroke-linejoin:round; stroke-width:4; stroke-opacity:1; fill:none\" points=\"271.594,1268.29 291.799,1264.84 312.005,1261.44 332.21,1258.07 352.416,1254.74 372.621,1251.45 392.827,1248.21 413.032,1245 433.237,1241.84 453.443,1238.71 473.648,1235.63 493.854,1232.58 514.059,1229.58 534.265,1226.61 554.47,1223.69 574.676,1220.81 594.881,1217.97 615.087,1215.16 635.292,1212.4 655.497,1209.68 675.703,1207 695.908,1204.36 716.114,1201.76 736.319,1199.2 756.525,1196.69 776.73,1194.21 796.936,1191.77 817.141,1189.38 837.347,1187.02 857.552,1184.7 877.758,1182.43 897.963,1180.19 918.168,1178 938.374,1175.85 958.579,1173.73 978.785,1171.66 998.99,1169.63 1019.2,1167.64 1039.4,1165.69 1059.61,1163.78 1079.81,1161.91 1100.02,1160.08 1120.22,1158.29 1140.43,1156.54 1160.63,1154.83 1180.84,1153.17 1201.04,1151.54 1221.25,1149.95 1241.46,1148.41 1261.66,1146.9 1281.87,1145.44 1302.07,1144.01 1322.28,1142.63 1342.48,1141.29 1362.69,1139.98 1382.89,1138.72 1403.1,1137.5 1423.3,1136.32 1443.51,1135.18 1463.72,1134.08 1483.92,1133.02 1504.13,1132 1524.33,1131.02 1544.54,1130.08 1564.74,1129.18 1584.95,1128.32 1605.15,1127.5 1625.36,1126.73 1645.56,1125.99 1665.77,1125.3 1685.98,1124.64 1706.18,1124.02 1726.39,1123.45 1746.59,1122.92 1766.8,1122.42 1787,1121.97 1807.21,1121.56 1827.41,1121.18 1847.62,1120.85 1867.82,1120.56 1888.03,1120.31 1908.24,1120.1 1928.44,1119.93 1948.65,1119.8 1968.85,1119.71 1989.06,1119.66 2009.26,1119.65 2029.47,1119.68 2049.67,1119.75 2069.88,1119.86 2090.08,1120.02 2110.29,1120.21 2130.5,1120.44 2150.7,1120.72 2170.91,1121.03 2191.11,1121.39 2211.32,1121.78 2231.52,1122.22 2251.73,1122.69 2271.93,1123.21 2292.14,1123.77 \"/>\n",
       "<polyline clip-path=\"url(#clip142)\" style=\"stroke:#ac8d18; stroke-linecap:round; stroke-linejoin:round; stroke-width:4; stroke-opacity:1; fill:none\" points=\"271.594,1027.42 291.799,1032.4 312.005,1037.3 332.21,1042.13 352.416,1046.87 372.621,1051.52 392.827,1056.1 413.032,1060.59 433.237,1065 453.443,1069.33 473.648,1073.58 493.854,1077.75 514.059,1081.83 534.265,1085.84 554.47,1089.76 574.676,1093.6 594.881,1097.36 615.087,1101.03 635.292,1104.63 655.497,1108.14 675.703,1111.57 695.908,1114.92 716.114,1118.19 736.319,1121.38 756.525,1124.48 776.73,1127.51 796.936,1130.45 817.141,1133.31 837.347,1136.1 857.552,1138.79 877.758,1141.41 897.963,1143.95 918.168,1146.41 938.374,1148.78 958.579,1151.07 978.785,1153.29 998.99,1155.42 1019.2,1157.47 1039.4,1159.43 1059.61,1161.32 1079.81,1163.13 1100.02,1164.86 1120.22,1166.5 1140.43,1168.06 1160.63,1169.55 1180.84,1170.95 1201.04,1172.27 1221.25,1173.51 1241.46,1174.67 1261.66,1175.75 1281.87,1176.75 1302.07,1177.66 1322.28,1178.5 1342.48,1179.25 1362.69,1179.93 1382.89,1180.52 1403.1,1181.03 1423.3,1181.47 1443.51,1181.82 1463.72,1182.09 1483.92,1182.28 1504.13,1182.39 1524.33,1182.42 1544.54,1182.36 1564.74,1182.23 1584.95,1182.02 1605.15,1181.72 1625.36,1181.35 1645.56,1180.89 1665.77,1180.36 1685.98,1179.74 1706.18,1179.05 1726.39,1178.27 1746.59,1177.41 1766.8,1176.47 1787,1175.45 1807.21,1174.35 1827.41,1173.17 1847.62,1171.91 1867.82,1170.57 1888.03,1169.14 1908.24,1167.64 1928.44,1166.06 1948.65,1164.39 1968.85,1162.65 1989.06,1160.82 2009.26,1158.92 2029.47,1156.93 2049.67,1154.86 2069.88,1152.72 2090.08,1150.49 2110.29,1148.18 2130.5,1145.79 2150.7,1143.32 2170.91,1140.77 2191.11,1138.14 2211.32,1135.42 2231.52,1132.63 2251.73,1129.76 2271.93,1126.8 2292.14,1123.77 \"/>\n",
       "<polyline clip-path=\"url(#clip142)\" style=\"stroke:#00a9ad; stroke-linecap:round; stroke-linejoin:round; stroke-width:4; stroke-opacity:1; fill:none\" points=\"271.594,1364.64 291.799,1366.57 312.005,1368.41 332.21,1370.16 352.416,1371.81 372.621,1373.38 392.827,1374.86 413.032,1376.25 433.237,1377.55 453.443,1378.76 473.648,1379.88 493.854,1380.91 514.059,1381.85 534.265,1382.7 554.47,1383.47 574.676,1384.14 594.881,1384.73 615.087,1385.23 635.292,1385.64 655.497,1385.96 675.703,1386.19 695.908,1386.34 716.114,1386.4 736.319,1386.36 756.525,1386.25 776.73,1386.04 796.936,1385.74 817.141,1385.36 837.347,1384.89 857.552,1384.34 877.758,1383.69 897.963,1382.96 918.168,1382.14 938.374,1381.23 958.579,1380.24 978.785,1379.16 998.99,1377.99 1019.2,1376.73 1039.4,1375.39 1059.61,1373.96 1079.81,1372.45 1100.02,1370.85 1120.22,1369.16 1140.43,1367.38 1160.63,1365.52 1180.84,1363.57 1201.04,1361.53 1221.25,1359.41 1241.46,1357.2 1261.66,1354.91 1281.87,1352.53 1302.07,1350.06 1322.28,1347.51 1342.48,1344.87 1362.69,1342.14 1382.89,1339.33 1403.1,1336.43 1423.3,1333.45 1443.51,1330.38 1463.72,1327.22 1483.92,1323.98 1504.13,1320.65 1524.33,1317.23 1544.54,1313.73 1564.74,1310.14 1584.95,1306.47 1605.15,1302.71 1625.36,1298.87 1645.56,1294.93 1665.77,1290.92 1685.98,1286.82 1706.18,1282.63 1726.39,1278.35 1746.59,1273.99 1766.8,1269.54 1787,1265.01 1807.21,1260.39 1827.41,1255.69 1847.62,1250.9 1867.82,1246.02 1888.03,1241.06 1908.24,1236.01 1928.44,1230.88 1948.65,1225.66 1968.85,1220.35 1989.06,1214.96 2009.26,1209.49 2029.47,1203.92 2049.67,1198.27 2069.88,1192.54 2090.08,1186.72 2110.29,1180.81 2130.5,1174.81 2150.7,1168.74 2170.91,1162.57 2191.11,1156.32 2211.32,1149.98 2231.52,1143.56 2251.73,1137.05 2271.93,1130.45 2292.14,1123.77 \"/>\n",
       "<path clip-path=\"url(#clip140)\" d=\"M2023.9 529.676 L2281.36 529.676 L2281.36 166.796 L2023.9 166.796  Z\" fill=\"#ffffff\" fill-rule=\"evenodd\" fill-opacity=\"1\"/>\n",
       "<polyline clip-path=\"url(#clip140)\" style=\"stroke:#000000; stroke-linecap:round; stroke-linejoin:round; stroke-width:4; stroke-opacity:1; fill:none\" points=\"2023.9,529.676 2281.36,529.676 2281.36,166.796 2023.9,166.796 2023.9,529.676 \"/>\n",
       "<polyline clip-path=\"url(#clip140)\" style=\"stroke:#009af9; stroke-linecap:round; stroke-linejoin:round; stroke-width:4; stroke-opacity:1; fill:none\" points=\"2047.7,218.636 2190.48,218.636 \"/>\n",
       "<path clip-path=\"url(#clip140)\" d=\"M2238.93 209.99 L2229.56 222.606 L2239.42 235.916 L2234.39 235.916 L2226.85 225.731 L2219.3 235.916 L2214.28 235.916 L2224.35 222.351 L2215.14 209.99 L2220.16 209.99 L2227.03 219.226 L2233.91 209.99 L2238.93 209.99 Z\" fill=\"#000000\" fill-rule=\"evenodd\" fill-opacity=\"1\" /><path clip-path=\"url(#clip140)\" d=\"M2244.58 233.369 L2249.3 233.369 L2249.3 219.226 L2244.14 220.175 L2244.14 217.49 L2249.46 216.587 L2252.64 216.587 L2252.64 233.369 L2257.38 233.369 L2257.38 235.916 L2244.58 235.916 L2244.58 233.369 Z\" fill=\"#000000\" fill-rule=\"evenodd\" fill-opacity=\"1\" /><polyline clip-path=\"url(#clip140)\" style=\"stroke:#e26f46; stroke-linecap:round; stroke-linejoin:round; stroke-width:4; stroke-opacity:1; fill:none\" points=\"2047.7,270.476 2190.48,270.476 \"/>\n",
       "<path clip-path=\"url(#clip140)\" d=\"M2238.93 261.83 L2229.56 274.446 L2239.42 287.756 L2234.39 287.756 L2226.85 277.571 L2219.3 287.756 L2214.28 287.756 L2224.35 274.191 L2215.14 261.83 L2220.16 261.83 L2227.03 271.066 L2233.91 261.83 L2238.93 261.83 Z\" fill=\"#000000\" fill-rule=\"evenodd\" fill-opacity=\"1\" /><path clip-path=\"url(#clip140)\" d=\"M2247.17 285.117 L2256.99 285.117 L2256.99 287.756 L2243.14 287.756 L2243.14 285.209 Q2243.93 284.492 2245.39 283.196 Q2253.35 276.135 2253.35 273.959 Q2253.35 272.432 2252.15 271.506 Q2250.95 270.557 2248.98 270.557 Q2247.77 270.557 2246.36 270.973 Q2244.95 271.367 2243.28 272.177 L2243.28 269.33 Q2245.07 268.682 2246.59 268.358 Q2248.14 268.034 2249.46 268.034 Q2252.82 268.034 2254.83 269.561 Q2256.85 271.089 2256.85 273.589 Q2256.85 276.807 2249.19 283.381 Q2247.89 284.492 2247.17 285.117 Z\" fill=\"#000000\" fill-rule=\"evenodd\" fill-opacity=\"1\" /><polyline clip-path=\"url(#clip140)\" style=\"stroke:#3da44d; stroke-linecap:round; stroke-linejoin:round; stroke-width:4; stroke-opacity:1; fill:none\" points=\"2047.7,322.316 2190.48,322.316 \"/>\n",
       "<path clip-path=\"url(#clip140)\" d=\"M2238.93 313.67 L2229.56 326.286 L2239.42 339.596 L2234.39 339.596 L2226.85 329.411 L2219.3 339.596 L2214.28 339.596 L2224.35 326.031 L2215.14 313.67 L2220.16 313.67 L2227.03 322.906 L2233.91 313.67 L2238.93 313.67 Z\" fill=\"#000000\" fill-rule=\"evenodd\" fill-opacity=\"1\" /><path clip-path=\"url(#clip140)\" d=\"M2253.1 329.133 Q2255.23 329.549 2256.39 330.823 Q2257.57 332.073 2257.57 333.971 Q2257.57 336.841 2255.37 338.392 Q2253.17 339.943 2249.07 339.943 Q2247.75 339.943 2246.29 339.688 Q2244.86 339.457 2243.24 338.994 L2243.24 336.193 Q2244.44 336.818 2245.81 337.119 Q2247.2 337.42 2248.75 337.42 Q2251.27 337.42 2252.66 336.517 Q2254.05 335.591 2254.05 333.971 Q2254.05 332.258 2252.75 331.378 Q2251.48 330.499 2248.98 330.499 L2246.99 330.499 L2246.99 327.999 L2249.16 327.999 Q2251.34 327.999 2252.45 327.281 Q2253.58 326.54 2253.58 325.151 Q2253.58 323.809 2252.43 323.114 Q2251.27 322.397 2249.07 322.397 Q2248.14 322.397 2246.96 322.605 Q2245.78 322.813 2243.91 323.346 L2243.91 320.684 Q2245.6 320.29 2247.08 320.082 Q2248.56 319.874 2249.83 319.874 Q2253.17 319.874 2255.11 321.239 Q2257.08 322.605 2257.08 324.897 Q2257.08 326.494 2256.04 327.605 Q2255 328.716 2253.1 329.133 Z\" fill=\"#000000\" fill-rule=\"evenodd\" fill-opacity=\"1\" /><polyline clip-path=\"url(#clip140)\" style=\"stroke:#c271d2; stroke-linecap:round; stroke-linejoin:round; stroke-width:4; stroke-opacity:1; fill:none\" points=\"2047.7,374.156 2190.48,374.156 \"/>\n",
       "<path clip-path=\"url(#clip140)\" d=\"M2238.93 365.51 L2229.56 378.126 L2239.42 391.436 L2234.39 391.436 L2226.85 381.251 L2219.3 391.436 L2214.28 391.436 L2224.35 377.871 L2215.14 365.51 L2220.16 365.51 L2227.03 374.746 L2233.91 365.51 L2238.93 365.51 Z\" fill=\"#000000\" fill-rule=\"evenodd\" fill-opacity=\"1\" /><path clip-path=\"url(#clip140)\" d=\"M2226.94 355.417 L2231.2 355.417 L2231.2 360.811 L2226.94 360.811 L2226.94 355.417 M2229.12 364.885 L2229.12 364.885 Z\" fill=\"#000000\" fill-rule=\"evenodd\" fill-opacity=\"1\" /><path clip-path=\"url(#clip140)\" d=\"M2244.58 388.889 L2249.3 388.889 L2249.3 374.746 L2244.14 375.695 L2244.14 373.01 L2249.46 372.107 L2252.64 372.107 L2252.64 388.889 L2257.38 388.889 L2257.38 391.436 L2244.58 391.436 L2244.58 388.889 Z\" fill=\"#000000\" fill-rule=\"evenodd\" fill-opacity=\"1\" /><polyline clip-path=\"url(#clip140)\" style=\"stroke:#ac8d18; stroke-linecap:round; stroke-linejoin:round; stroke-width:4; stroke-opacity:1; fill:none\" points=\"2047.7,425.996 2190.48,425.996 \"/>\n",
       "<path clip-path=\"url(#clip140)\" d=\"M2238.93 417.35 L2229.56 429.966 L2239.42 443.276 L2234.39 443.276 L2226.85 433.091 L2219.3 443.276 L2214.28 443.276 L2224.35 429.711 L2215.14 417.35 L2220.16 417.35 L2227.03 426.586 L2233.91 417.35 L2238.93 417.35 Z\" fill=\"#000000\" fill-rule=\"evenodd\" fill-opacity=\"1\" /><path clip-path=\"url(#clip140)\" d=\"M2226.94 407.257 L2231.2 407.257 L2231.2 412.651 L2226.94 412.651 L2226.94 407.257 M2229.12 416.725 L2229.12 416.725 Z\" fill=\"#000000\" fill-rule=\"evenodd\" fill-opacity=\"1\" /><path clip-path=\"url(#clip140)\" d=\"M2247.17 440.637 L2256.99 440.637 L2256.99 443.276 L2243.14 443.276 L2243.14 440.729 Q2243.93 440.012 2245.39 438.716 Q2253.35 431.655 2253.35 429.479 Q2253.35 427.952 2252.15 427.026 Q2250.95 426.077 2248.98 426.077 Q2247.77 426.077 2246.36 426.493 Q2244.95 426.887 2243.28 427.697 L2243.28 424.85 Q2245.07 424.202 2246.59 423.878 Q2248.14 423.554 2249.46 423.554 Q2252.82 423.554 2254.83 425.081 Q2256.85 426.609 2256.85 429.109 Q2256.85 432.327 2249.19 438.901 Q2247.89 440.012 2247.17 440.637 Z\" fill=\"#000000\" fill-rule=\"evenodd\" fill-opacity=\"1\" /><polyline clip-path=\"url(#clip140)\" style=\"stroke:#00a9ad; stroke-linecap:round; stroke-linejoin:round; stroke-width:4; stroke-opacity:1; fill:none\" points=\"2047.7,477.836 2190.48,477.836 \"/>\n",
       "<path clip-path=\"url(#clip140)\" d=\"M2238.93 469.19 L2229.56 481.806 L2239.42 495.116 L2234.39 495.116 L2226.85 484.931 L2219.3 495.116 L2214.28 495.116 L2224.35 481.551 L2215.14 469.19 L2220.16 469.19 L2227.03 478.426 L2233.91 469.19 L2238.93 469.19 Z\" fill=\"#000000\" fill-rule=\"evenodd\" fill-opacity=\"1\" /><path clip-path=\"url(#clip140)\" d=\"M2226.94 459.097 L2231.2 459.097 L2231.2 464.491 L2226.94 464.491 L2226.94 459.097 M2229.12 468.565 L2229.12 468.565 Z\" fill=\"#000000\" fill-rule=\"evenodd\" fill-opacity=\"1\" /><path clip-path=\"url(#clip140)\" d=\"M2253.1 484.653 Q2255.23 485.069 2256.39 486.343 Q2257.57 487.593 2257.57 489.491 Q2257.57 492.361 2255.37 493.912 Q2253.17 495.463 2249.07 495.463 Q2247.75 495.463 2246.29 495.208 Q2244.86 494.977 2243.24 494.514 L2243.24 491.713 Q2244.44 492.338 2245.81 492.639 Q2247.2 492.94 2248.75 492.94 Q2251.27 492.94 2252.66 492.037 Q2254.05 491.111 2254.05 489.491 Q2254.05 487.778 2252.75 486.898 Q2251.48 486.019 2248.98 486.019 L2246.99 486.019 L2246.99 483.519 L2249.16 483.519 Q2251.34 483.519 2252.45 482.801 Q2253.58 482.06 2253.58 480.671 Q2253.58 479.329 2252.43 478.634 Q2251.27 477.917 2249.07 477.917 Q2248.14 477.917 2246.96 478.125 Q2245.78 478.333 2243.91 478.866 L2243.91 476.204 Q2245.6 475.81 2247.08 475.602 Q2248.56 475.394 2249.83 475.394 Q2253.17 475.394 2255.11 476.759 Q2257.08 478.125 2257.08 480.417 Q2257.08 482.014 2256.04 483.125 Q2255 484.236 2253.1 484.653 Z\" fill=\"#000000\" fill-rule=\"evenodd\" fill-opacity=\"1\" /></svg>\n"
      ]
     },
     "metadata": {},
     "output_type": "display_data"
    },
    {
     "data": {
      "image/svg+xml": [
       "<?xml version=\"1.0\" encoding=\"utf-8\"?>\n",
       "<svg xmlns=\"http://www.w3.org/2000/svg\" xmlns:xlink=\"http://www.w3.org/1999/xlink\" width=\"600\" height=\"400\" viewBox=\"0 0 2400 1600\">\n",
       "<defs>\n",
       "  <clipPath id=\"clip180\">\n",
       "    <rect x=\"0\" y=\"0\" width=\"2400\" height=\"1600\"/>\n",
       "  </clipPath>\n",
       "</defs>\n",
       "<path clip-path=\"url(#clip180)\" d=\"M0 1600 L2400 1600 L2400 0 L0 0  Z\" fill=\"#ffffff\" fill-rule=\"evenodd\" fill-opacity=\"1\"/>\n",
       "<defs>\n",
       "  <clipPath id=\"clip181\">\n",
       "    <rect x=\"480\" y=\"0\" width=\"1681\" height=\"1600\"/>\n",
       "  </clipPath>\n",
       "</defs>\n",
       "<path clip-path=\"url(#clip180)\" d=\"M232.389 1423.18 L2352.76 1423.18 L2352.76 123.472 L232.389 123.472  Z\" fill=\"#ffffff\" fill-rule=\"evenodd\" fill-opacity=\"1\"/>\n",
       "<defs>\n",
       "  <clipPath id=\"clip182\">\n",
       "    <rect x=\"232\" y=\"123\" width=\"2121\" height=\"1301\"/>\n",
       "  </clipPath>\n",
       "</defs>\n",
       "<polyline clip-path=\"url(#clip182)\" style=\"stroke:#000000; stroke-linecap:round; stroke-linejoin:round; stroke-width:2; stroke-opacity:0.1; fill:none\" points=\"292.4,1423.18 292.4,123.472 \"/>\n",
       "<polyline clip-path=\"url(#clip182)\" style=\"stroke:#000000; stroke-linecap:round; stroke-linejoin:round; stroke-width:2; stroke-opacity:0.1; fill:none\" points=\"797.538,1423.18 797.538,123.472 \"/>\n",
       "<polyline clip-path=\"url(#clip182)\" style=\"stroke:#000000; stroke-linecap:round; stroke-linejoin:round; stroke-width:2; stroke-opacity:0.1; fill:none\" points=\"1302.68,1423.18 1302.68,123.472 \"/>\n",
       "<polyline clip-path=\"url(#clip182)\" style=\"stroke:#000000; stroke-linecap:round; stroke-linejoin:round; stroke-width:2; stroke-opacity:0.1; fill:none\" points=\"1807.81,1423.18 1807.81,123.472 \"/>\n",
       "<polyline clip-path=\"url(#clip182)\" style=\"stroke:#000000; stroke-linecap:round; stroke-linejoin:round; stroke-width:2; stroke-opacity:0.1; fill:none\" points=\"2312.95,1423.18 2312.95,123.472 \"/>\n",
       "<polyline clip-path=\"url(#clip180)\" style=\"stroke:#000000; stroke-linecap:round; stroke-linejoin:round; stroke-width:4; stroke-opacity:1; fill:none\" points=\"232.389,1423.18 2352.76,1423.18 \"/>\n",
       "<polyline clip-path=\"url(#clip180)\" style=\"stroke:#000000; stroke-linecap:round; stroke-linejoin:round; stroke-width:4; stroke-opacity:1; fill:none\" points=\"292.4,1423.18 292.4,1404.28 \"/>\n",
       "<polyline clip-path=\"url(#clip180)\" style=\"stroke:#000000; stroke-linecap:round; stroke-linejoin:round; stroke-width:4; stroke-opacity:1; fill:none\" points=\"797.538,1423.18 797.538,1404.28 \"/>\n",
       "<polyline clip-path=\"url(#clip180)\" style=\"stroke:#000000; stroke-linecap:round; stroke-linejoin:round; stroke-width:4; stroke-opacity:1; fill:none\" points=\"1302.68,1423.18 1302.68,1404.28 \"/>\n",
       "<polyline clip-path=\"url(#clip180)\" style=\"stroke:#000000; stroke-linecap:round; stroke-linejoin:round; stroke-width:4; stroke-opacity:1; fill:none\" points=\"1807.81,1423.18 1807.81,1404.28 \"/>\n",
       "<polyline clip-path=\"url(#clip180)\" style=\"stroke:#000000; stroke-linecap:round; stroke-linejoin:round; stroke-width:4; stroke-opacity:1; fill:none\" points=\"2312.95,1423.18 2312.95,1404.28 \"/>\n",
       "<path clip-path=\"url(#clip180)\" d=\"M269.784 1454.1 Q266.173 1454.1 264.344 1457.66 Q262.539 1461.2 262.539 1468.33 Q262.539 1475.44 264.344 1479.01 Q266.173 1482.55 269.784 1482.55 Q273.418 1482.55 275.224 1479.01 Q277.053 1475.44 277.053 1468.33 Q277.053 1461.2 275.224 1457.66 Q273.418 1454.1 269.784 1454.1 M269.784 1450.39 Q275.594 1450.39 278.65 1455 Q281.728 1459.58 281.728 1468.33 Q281.728 1477.06 278.65 1481.67 Q275.594 1486.25 269.784 1486.25 Q263.974 1486.25 260.895 1481.67 Q257.84 1477.06 257.84 1468.33 Q257.84 1459.58 260.895 1455 Q263.974 1450.39 269.784 1450.39 Z\" fill=\"#000000\" fill-rule=\"evenodd\" fill-opacity=\"1\" /><path clip-path=\"url(#clip180)\" d=\"M289.946 1479.7 L294.83 1479.7 L294.83 1485.58 L289.946 1485.58 L289.946 1479.7 Z\" fill=\"#000000\" fill-rule=\"evenodd\" fill-opacity=\"1\" /><path clip-path=\"url(#clip180)\" d=\"M315.015 1454.1 Q311.404 1454.1 309.576 1457.66 Q307.77 1461.2 307.77 1468.33 Q307.77 1475.44 309.576 1479.01 Q311.404 1482.55 315.015 1482.55 Q318.65 1482.55 320.455 1479.01 Q322.284 1475.44 322.284 1468.33 Q322.284 1461.2 320.455 1457.66 Q318.65 1454.1 315.015 1454.1 M315.015 1450.39 Q320.825 1450.39 323.881 1455 Q326.96 1459.58 326.96 1468.33 Q326.96 1477.06 323.881 1481.67 Q320.825 1486.25 315.015 1486.25 Q309.205 1486.25 306.126 1481.67 Q303.071 1477.06 303.071 1468.33 Q303.071 1459.58 306.126 1455 Q309.205 1450.39 315.015 1450.39 Z\" fill=\"#000000\" fill-rule=\"evenodd\" fill-opacity=\"1\" /><path clip-path=\"url(#clip180)\" d=\"M769.274 1481.64 L785.593 1481.64 L785.593 1485.58 L763.649 1485.58 L763.649 1481.64 Q766.311 1478.89 770.894 1474.26 Q775.501 1469.61 776.681 1468.27 Q778.927 1465.74 779.806 1464.01 Q780.709 1462.25 780.709 1460.56 Q780.709 1457.8 778.765 1456.07 Q776.843 1454.33 773.741 1454.33 Q771.542 1454.33 769.089 1455.09 Q766.658 1455.86 763.88 1457.41 L763.88 1452.69 Q766.704 1451.55 769.158 1450.97 Q771.612 1450.39 773.649 1450.39 Q779.019 1450.39 782.214 1453.08 Q785.408 1455.77 785.408 1460.26 Q785.408 1462.39 784.598 1464.31 Q783.811 1466.2 781.704 1468.8 Q781.126 1469.47 778.024 1472.69 Q774.922 1475.88 769.274 1481.64 Z\" fill=\"#000000\" fill-rule=\"evenodd\" fill-opacity=\"1\" /><path clip-path=\"url(#clip180)\" d=\"M795.408 1479.7 L800.292 1479.7 L800.292 1485.58 L795.408 1485.58 L795.408 1479.7 Z\" fill=\"#000000\" fill-rule=\"evenodd\" fill-opacity=\"1\" /><path clip-path=\"url(#clip180)\" d=\"M810.524 1451.02 L828.88 1451.02 L828.88 1454.96 L814.806 1454.96 L814.806 1463.43 Q815.824 1463.08 816.843 1462.92 Q817.862 1462.73 818.88 1462.73 Q824.667 1462.73 828.047 1465.9 Q831.426 1469.08 831.426 1474.49 Q831.426 1480.07 827.954 1483.17 Q824.482 1486.25 818.162 1486.25 Q815.987 1486.25 813.718 1485.88 Q811.473 1485.51 809.065 1484.77 L809.065 1480.07 Q811.149 1481.2 813.371 1481.76 Q815.593 1482.32 818.07 1482.32 Q822.074 1482.32 824.412 1480.21 Q826.75 1478.1 826.75 1474.49 Q826.75 1470.88 824.412 1468.77 Q822.074 1466.67 818.07 1466.67 Q816.195 1466.67 814.32 1467.08 Q812.468 1467.5 810.524 1468.38 L810.524 1451.02 Z\" fill=\"#000000\" fill-rule=\"evenodd\" fill-opacity=\"1\" /><path clip-path=\"url(#clip180)\" d=\"M1269.84 1451.02 L1288.2 1451.02 L1288.2 1454.96 L1274.12 1454.96 L1274.12 1463.43 Q1275.14 1463.08 1276.16 1462.92 Q1277.18 1462.73 1278.2 1462.73 Q1283.98 1462.73 1287.36 1465.9 Q1290.74 1469.08 1290.74 1474.49 Q1290.74 1480.07 1287.27 1483.17 Q1283.8 1486.25 1277.48 1486.25 Q1275.3 1486.25 1273.03 1485.88 Q1270.79 1485.51 1268.38 1484.77 L1268.38 1480.07 Q1270.46 1481.2 1272.69 1481.76 Q1274.91 1482.32 1277.39 1482.32 Q1281.39 1482.32 1283.73 1480.21 Q1286.07 1478.1 1286.07 1474.49 Q1286.07 1470.88 1283.73 1468.77 Q1281.39 1466.67 1277.39 1466.67 Q1275.51 1466.67 1273.64 1467.08 Q1271.78 1467.5 1269.84 1468.38 L1269.84 1451.02 Z\" fill=\"#000000\" fill-rule=\"evenodd\" fill-opacity=\"1\" /><path clip-path=\"url(#clip180)\" d=\"M1299.96 1479.7 L1304.84 1479.7 L1304.84 1485.58 L1299.96 1485.58 L1299.96 1479.7 Z\" fill=\"#000000\" fill-rule=\"evenodd\" fill-opacity=\"1\" /><path clip-path=\"url(#clip180)\" d=\"M1325.02 1454.1 Q1321.41 1454.1 1319.59 1457.66 Q1317.78 1461.2 1317.78 1468.33 Q1317.78 1475.44 1319.59 1479.01 Q1321.41 1482.55 1325.02 1482.55 Q1328.66 1482.55 1330.46 1479.01 Q1332.29 1475.44 1332.29 1468.33 Q1332.29 1461.2 1330.46 1457.66 Q1328.66 1454.1 1325.02 1454.1 M1325.02 1450.39 Q1330.83 1450.39 1333.89 1455 Q1336.97 1459.58 1336.97 1468.33 Q1336.97 1477.06 1333.89 1481.67 Q1330.83 1486.25 1325.02 1486.25 Q1319.21 1486.25 1316.14 1481.67 Q1313.08 1477.06 1313.08 1468.33 Q1313.08 1459.58 1316.14 1455 Q1319.21 1450.39 1325.02 1450.39 Z\" fill=\"#000000\" fill-rule=\"evenodd\" fill-opacity=\"1\" /><path clip-path=\"url(#clip180)\" d=\"M1774.13 1451.02 L1796.35 1451.02 L1796.35 1453.01 L1783.81 1485.58 L1778.92 1485.58 L1790.73 1454.96 L1774.13 1454.96 L1774.13 1451.02 Z\" fill=\"#000000\" fill-rule=\"evenodd\" fill-opacity=\"1\" /><path clip-path=\"url(#clip180)\" d=\"M1805.48 1479.7 L1810.36 1479.7 L1810.36 1485.58 L1805.48 1485.58 L1805.48 1479.7 Z\" fill=\"#000000\" fill-rule=\"evenodd\" fill-opacity=\"1\" /><path clip-path=\"url(#clip180)\" d=\"M1820.59 1451.02 L1838.95 1451.02 L1838.95 1454.96 L1824.87 1454.96 L1824.87 1463.43 Q1825.89 1463.08 1826.91 1462.92 Q1827.93 1462.73 1828.95 1462.73 Q1834.73 1462.73 1838.11 1465.9 Q1841.49 1469.08 1841.49 1474.49 Q1841.49 1480.07 1838.02 1483.17 Q1834.55 1486.25 1828.23 1486.25 Q1826.05 1486.25 1823.79 1485.88 Q1821.54 1485.51 1819.13 1484.77 L1819.13 1480.07 Q1821.22 1481.2 1823.44 1481.76 Q1825.66 1482.32 1828.14 1482.32 Q1832.14 1482.32 1834.48 1480.21 Q1836.82 1478.1 1836.82 1474.49 Q1836.82 1470.88 1834.48 1468.77 Q1832.14 1466.67 1828.14 1466.67 Q1826.26 1466.67 1824.39 1467.08 Q1822.54 1467.5 1820.59 1468.38 L1820.59 1451.02 Z\" fill=\"#000000\" fill-rule=\"evenodd\" fill-opacity=\"1\" /><path clip-path=\"url(#clip180)\" d=\"M2265.02 1481.64 L2272.66 1481.64 L2272.66 1455.28 L2264.35 1456.95 L2264.35 1452.69 L2272.62 1451.02 L2277.29 1451.02 L2277.29 1481.64 L2284.93 1481.64 L2284.93 1485.58 L2265.02 1485.58 L2265.02 1481.64 Z\" fill=\"#000000\" fill-rule=\"evenodd\" fill-opacity=\"1\" /><path clip-path=\"url(#clip180)\" d=\"M2304.37 1454.1 Q2300.76 1454.1 2298.93 1457.66 Q2297.13 1461.2 2297.13 1468.33 Q2297.13 1475.44 2298.93 1479.01 Q2300.76 1482.55 2304.37 1482.55 Q2308.01 1482.55 2309.81 1479.01 Q2311.64 1475.44 2311.64 1468.33 Q2311.64 1461.2 2309.81 1457.66 Q2308.01 1454.1 2304.37 1454.1 M2304.37 1450.39 Q2310.18 1450.39 2313.24 1455 Q2316.32 1459.58 2316.32 1468.33 Q2316.32 1477.06 2313.24 1481.67 Q2310.18 1486.25 2304.37 1486.25 Q2298.56 1486.25 2295.49 1481.67 Q2292.43 1477.06 2292.43 1468.33 Q2292.43 1459.58 2295.49 1455 Q2298.56 1450.39 2304.37 1450.39 Z\" fill=\"#000000\" fill-rule=\"evenodd\" fill-opacity=\"1\" /><path clip-path=\"url(#clip180)\" d=\"M2324.54 1479.7 L2329.42 1479.7 L2329.42 1485.58 L2324.54 1485.58 L2324.54 1479.7 Z\" fill=\"#000000\" fill-rule=\"evenodd\" fill-opacity=\"1\" /><path clip-path=\"url(#clip180)\" d=\"M2349.61 1454.1 Q2345.99 1454.1 2344.17 1457.66 Q2342.36 1461.2 2342.36 1468.33 Q2342.36 1475.44 2344.17 1479.01 Q2345.99 1482.55 2349.61 1482.55 Q2353.24 1482.55 2355.05 1479.01 Q2356.87 1475.44 2356.87 1468.33 Q2356.87 1461.2 2355.05 1457.66 Q2353.24 1454.1 2349.61 1454.1 M2349.61 1450.39 Q2355.42 1450.39 2358.47 1455 Q2361.55 1459.58 2361.55 1468.33 Q2361.55 1477.06 2358.47 1481.67 Q2355.42 1486.25 2349.61 1486.25 Q2343.8 1486.25 2340.72 1481.67 Q2337.66 1477.06 2337.66 1468.33 Q2337.66 1459.58 2340.72 1455 Q2343.8 1450.39 2349.61 1450.39 Z\" fill=\"#000000\" fill-rule=\"evenodd\" fill-opacity=\"1\" /><path clip-path=\"url(#clip180)\" d=\"M1180.03 1522.27 L1180.03 1532.4 L1192.09 1532.4 L1192.09 1536.95 L1180.03 1536.95 L1180.03 1556.3 Q1180.03 1560.66 1181.2 1561.9 Q1182.41 1563.14 1186.07 1563.14 L1192.09 1563.14 L1192.09 1568.04 L1186.07 1568.04 Q1179.29 1568.04 1176.72 1565.53 Q1174.14 1562.98 1174.14 1556.3 L1174.14 1536.95 L1169.84 1536.95 L1169.84 1532.4 L1174.14 1532.4 L1174.14 1522.27 L1180.03 1522.27 Z\" fill=\"#000000\" fill-rule=\"evenodd\" fill-opacity=\"1\" /><path clip-path=\"url(#clip180)\" d=\"M1199.79 1532.4 L1205.65 1532.4 L1205.65 1568.04 L1199.79 1568.04 L1199.79 1532.4 M1199.79 1518.52 L1205.65 1518.52 L1205.65 1525.93 L1199.79 1525.93 L1199.79 1518.52 Z\" fill=\"#000000\" fill-rule=\"evenodd\" fill-opacity=\"1\" /><path clip-path=\"url(#clip180)\" d=\"M1245.66 1539.24 Q1247.85 1535.29 1250.91 1533.41 Q1253.96 1531.54 1258.1 1531.54 Q1263.67 1531.54 1266.7 1535.45 Q1269.72 1539.33 1269.72 1546.53 L1269.72 1568.04 L1263.83 1568.04 L1263.83 1546.72 Q1263.83 1541.59 1262.02 1539.11 Q1260.2 1536.63 1256.48 1536.63 Q1251.93 1536.63 1249.29 1539.65 Q1246.64 1542.68 1246.64 1547.9 L1246.64 1568.04 L1240.76 1568.04 L1240.76 1546.72 Q1240.76 1541.56 1238.94 1539.11 Q1237.13 1536.63 1233.34 1536.63 Q1228.85 1536.63 1226.21 1539.68 Q1223.57 1542.71 1223.57 1547.9 L1223.57 1568.04 L1217.68 1568.04 L1217.68 1532.4 L1223.57 1532.4 L1223.57 1537.93 Q1225.57 1534.66 1228.37 1533.1 Q1231.18 1531.54 1235.03 1531.54 Q1238.91 1531.54 1241.62 1533.51 Q1244.35 1535.48 1245.66 1539.24 Z\" fill=\"#000000\" fill-rule=\"evenodd\" fill-opacity=\"1\" /><path clip-path=\"url(#clip180)\" d=\"M1311.89 1548.76 L1311.89 1551.62 L1284.97 1551.62 Q1285.35 1557.67 1288.59 1560.85 Q1291.87 1564 1297.7 1564 Q1301.07 1564 1304.22 1563.17 Q1307.4 1562.35 1310.52 1560.69 L1310.52 1566.23 Q1307.37 1567.57 1304.06 1568.27 Q1300.75 1568.97 1297.35 1568.97 Q1288.82 1568.97 1283.82 1564 Q1278.85 1559.04 1278.85 1550.57 Q1278.85 1541.82 1283.57 1536.69 Q1288.31 1531.54 1296.33 1531.54 Q1303.52 1531.54 1307.69 1536.18 Q1311.89 1540.8 1311.89 1548.76 M1306.04 1547.04 Q1305.97 1542.23 1303.33 1539.37 Q1300.72 1536.5 1296.39 1536.5 Q1291.49 1536.5 1288.53 1539.27 Q1285.6 1542.04 1285.16 1547.07 L1306.04 1547.04 Z\" fill=\"#000000\" fill-rule=\"evenodd\" fill-opacity=\"1\" /><path clip-path=\"url(#clip180)\" d=\"M1356.29 1518.58 Q1352.03 1525.9 1349.96 1533.06 Q1347.89 1540.23 1347.89 1547.58 Q1347.89 1554.93 1349.96 1562.16 Q1352.06 1569.35 1356.29 1576.64 L1351.2 1576.64 Q1346.43 1569.16 1344.04 1561.93 Q1341.68 1554.71 1341.68 1547.58 Q1341.68 1540.48 1344.04 1533.29 Q1346.39 1526.09 1351.2 1518.58 L1356.29 1518.58 Z\" fill=\"#000000\" fill-rule=\"evenodd\" fill-opacity=\"1\" /><path clip-path=\"url(#clip180)\" d=\"M1390.38 1533.45 L1390.38 1538.98 Q1387.9 1537.71 1385.23 1537.07 Q1382.55 1536.44 1379.69 1536.44 Q1375.33 1536.44 1373.13 1537.77 Q1370.97 1539.11 1370.97 1541.79 Q1370.97 1543.82 1372.53 1545 Q1374.09 1546.15 1378.8 1547.2 L1380.8 1547.64 Q1387.04 1548.98 1389.65 1551.43 Q1392.29 1553.85 1392.29 1558.21 Q1392.29 1563.17 1388.34 1566.07 Q1384.43 1568.97 1377.55 1568.97 Q1374.69 1568.97 1371.57 1568.39 Q1368.48 1567.85 1365.05 1566.74 L1365.05 1560.69 Q1368.29 1562.38 1371.44 1563.24 Q1374.59 1564.07 1377.68 1564.07 Q1381.82 1564.07 1384.05 1562.66 Q1386.28 1561.23 1386.28 1558.65 Q1386.28 1556.27 1384.65 1554.99 Q1383.06 1553.72 1377.62 1552.54 L1375.58 1552.07 Q1370.14 1550.92 1367.72 1548.56 Q1365.3 1546.18 1365.3 1542.04 Q1365.3 1537.01 1368.87 1534.27 Q1372.43 1531.54 1378.99 1531.54 Q1382.23 1531.54 1385.1 1532.01 Q1387.96 1532.49 1390.38 1533.45 Z\" fill=\"#000000\" fill-rule=\"evenodd\" fill-opacity=\"1\" /><path clip-path=\"url(#clip180)\" d=\"M1400.69 1518.58 L1405.79 1518.58 Q1410.56 1526.09 1412.92 1533.29 Q1415.3 1540.48 1415.3 1547.58 Q1415.3 1554.71 1412.92 1561.93 Q1410.56 1569.16 1405.79 1576.64 L1400.69 1576.64 Q1404.93 1569.35 1407 1562.16 Q1409.1 1554.93 1409.1 1547.58 Q1409.1 1540.23 1407 1533.06 Q1404.93 1525.9 1400.69 1518.58 Z\" fill=\"#000000\" fill-rule=\"evenodd\" fill-opacity=\"1\" /><polyline clip-path=\"url(#clip182)\" style=\"stroke:#000000; stroke-linecap:round; stroke-linejoin:round; stroke-width:2; stroke-opacity:0.1; fill:none\" points=\"232.389,1213.22 2352.76,1213.22 \"/>\n",
       "<polyline clip-path=\"url(#clip182)\" style=\"stroke:#000000; stroke-linecap:round; stroke-linejoin:round; stroke-width:2; stroke-opacity:0.1; fill:none\" points=\"232.389,962.197 2352.76,962.197 \"/>\n",
       "<polyline clip-path=\"url(#clip182)\" style=\"stroke:#000000; stroke-linecap:round; stroke-linejoin:round; stroke-width:2; stroke-opacity:0.1; fill:none\" points=\"232.389,711.175 2352.76,711.175 \"/>\n",
       "<polyline clip-path=\"url(#clip182)\" style=\"stroke:#000000; stroke-linecap:round; stroke-linejoin:round; stroke-width:2; stroke-opacity:0.1; fill:none\" points=\"232.389,460.153 2352.76,460.153 \"/>\n",
       "<polyline clip-path=\"url(#clip182)\" style=\"stroke:#000000; stroke-linecap:round; stroke-linejoin:round; stroke-width:2; stroke-opacity:0.1; fill:none\" points=\"232.389,209.132 2352.76,209.132 \"/>\n",
       "<polyline clip-path=\"url(#clip180)\" style=\"stroke:#000000; stroke-linecap:round; stroke-linejoin:round; stroke-width:4; stroke-opacity:1; fill:none\" points=\"232.389,1423.18 232.389,123.472 \"/>\n",
       "<polyline clip-path=\"url(#clip180)\" style=\"stroke:#000000; stroke-linecap:round; stroke-linejoin:round; stroke-width:4; stroke-opacity:1; fill:none\" points=\"232.389,1213.22 251.287,1213.22 \"/>\n",
       "<polyline clip-path=\"url(#clip180)\" style=\"stroke:#000000; stroke-linecap:round; stroke-linejoin:round; stroke-width:4; stroke-opacity:1; fill:none\" points=\"232.389,962.197 251.287,962.197 \"/>\n",
       "<polyline clip-path=\"url(#clip180)\" style=\"stroke:#000000; stroke-linecap:round; stroke-linejoin:round; stroke-width:4; stroke-opacity:1; fill:none\" points=\"232.389,711.175 251.287,711.175 \"/>\n",
       "<polyline clip-path=\"url(#clip180)\" style=\"stroke:#000000; stroke-linecap:round; stroke-linejoin:round; stroke-width:4; stroke-opacity:1; fill:none\" points=\"232.389,460.153 251.287,460.153 \"/>\n",
       "<polyline clip-path=\"url(#clip180)\" style=\"stroke:#000000; stroke-linecap:round; stroke-linejoin:round; stroke-width:4; stroke-opacity:1; fill:none\" points=\"232.389,209.132 251.287,209.132 \"/>\n",
       "<path clip-path=\"url(#clip180)\" d=\"M184.445 1199.02 Q180.834 1199.02 179.005 1202.58 Q177.2 1206.12 177.2 1213.25 Q177.2 1220.36 179.005 1223.92 Q180.834 1227.47 184.445 1227.47 Q188.079 1227.47 189.885 1223.92 Q191.713 1220.36 191.713 1213.25 Q191.713 1206.12 189.885 1202.58 Q188.079 1199.02 184.445 1199.02 M184.445 1195.31 Q190.255 1195.31 193.311 1199.92 Q196.389 1204.5 196.389 1213.25 Q196.389 1221.98 193.311 1226.59 Q190.255 1231.17 184.445 1231.17 Q178.635 1231.17 175.556 1226.59 Q172.501 1221.98 172.501 1213.25 Q172.501 1204.5 175.556 1199.92 Q178.635 1195.31 184.445 1195.31 Z\" fill=\"#000000\" fill-rule=\"evenodd\" fill-opacity=\"1\" /><path clip-path=\"url(#clip180)\" d=\"M158.45 960.843 Q161.806 961.56 163.681 963.829 Q165.579 966.097 165.579 969.431 Q165.579 974.546 162.061 977.347 Q158.542 980.148 152.061 980.148 Q149.885 980.148 147.57 979.708 Q145.279 979.292 142.825 978.435 L142.825 973.921 Q144.769 975.056 147.084 975.634 Q149.399 976.213 151.922 976.213 Q156.32 976.213 158.612 974.477 Q160.927 972.741 160.927 969.431 Q160.927 966.375 158.774 964.662 Q156.644 962.926 152.825 962.926 L148.797 962.926 L148.797 959.083 L153.01 959.083 Q156.459 959.083 158.288 957.718 Q160.116 956.329 160.116 953.736 Q160.116 951.074 158.218 949.662 Q156.343 948.227 152.825 948.227 Q150.903 948.227 148.704 948.644 Q146.505 949.06 143.866 949.94 L143.866 945.773 Q146.529 945.033 148.843 944.662 Q151.181 944.292 153.241 944.292 Q158.565 944.292 161.667 946.722 Q164.769 949.13 164.769 953.25 Q164.769 956.12 163.126 958.111 Q161.482 960.079 158.45 960.843 Z\" fill=\"#000000\" fill-rule=\"evenodd\" fill-opacity=\"1\" /><path clip-path=\"url(#clip180)\" d=\"M184.445 947.996 Q180.834 947.996 179.005 951.56 Q177.2 955.102 177.2 962.232 Q177.2 969.338 179.005 972.903 Q180.834 976.444 184.445 976.444 Q188.079 976.444 189.885 972.903 Q191.713 969.338 191.713 962.232 Q191.713 955.102 189.885 951.56 Q188.079 947.996 184.445 947.996 M184.445 944.292 Q190.255 944.292 193.311 948.898 Q196.389 953.482 196.389 962.232 Q196.389 970.958 193.311 975.565 Q190.255 980.148 184.445 980.148 Q178.635 980.148 175.556 975.565 Q172.501 970.958 172.501 962.232 Q172.501 953.482 175.556 948.898 Q178.635 944.292 184.445 944.292 Z\" fill=\"#000000\" fill-rule=\"evenodd\" fill-opacity=\"1\" /><path clip-path=\"url(#clip180)\" d=\"M154.862 709.312 Q151.714 709.312 149.862 711.464 Q148.033 713.617 148.033 717.367 Q148.033 721.094 149.862 723.27 Q151.714 725.423 154.862 725.423 Q158.01 725.423 159.839 723.27 Q161.69 721.094 161.69 717.367 Q161.69 713.617 159.839 711.464 Q158.01 709.312 154.862 709.312 M164.144 694.659 L164.144 698.918 Q162.385 698.085 160.579 697.645 Q158.797 697.205 157.038 697.205 Q152.408 697.205 149.954 700.33 Q147.524 703.455 147.177 709.775 Q148.542 707.761 150.603 706.696 Q152.663 705.608 155.14 705.608 Q160.348 705.608 163.357 708.779 Q166.39 711.927 166.39 717.367 Q166.39 722.691 163.241 725.909 Q160.093 729.126 154.862 729.126 Q148.866 729.126 145.695 724.543 Q142.524 719.937 142.524 711.21 Q142.524 703.015 146.413 698.154 Q150.302 693.27 156.853 693.27 Q158.612 693.27 160.394 693.617 Q162.2 693.965 164.144 694.659 Z\" fill=\"#000000\" fill-rule=\"evenodd\" fill-opacity=\"1\" /><path clip-path=\"url(#clip180)\" d=\"M184.445 696.974 Q180.834 696.974 179.005 700.539 Q177.2 704.08 177.2 711.21 Q177.2 718.316 179.005 721.881 Q180.834 725.423 184.445 725.423 Q188.079 725.423 189.885 721.881 Q191.713 718.316 191.713 711.21 Q191.713 704.08 189.885 700.539 Q188.079 696.974 184.445 696.974 M184.445 693.27 Q190.255 693.27 193.311 697.877 Q196.389 702.46 196.389 711.21 Q196.389 719.937 193.311 724.543 Q190.255 729.126 184.445 729.126 Q178.635 729.126 175.556 724.543 Q172.501 719.937 172.501 711.21 Q172.501 702.46 175.556 697.877 Q178.635 693.27 184.445 693.27 Z\" fill=\"#000000\" fill-rule=\"evenodd\" fill-opacity=\"1\" /><path clip-path=\"url(#clip180)\" d=\"M144.422 476.716 L144.422 472.457 Q146.181 473.29 147.987 473.73 Q149.792 474.169 151.528 474.169 Q156.158 474.169 158.589 471.068 Q161.042 467.943 161.39 461.6 Q160.047 463.591 157.987 464.656 Q155.927 465.72 153.427 465.72 Q148.241 465.72 145.209 462.595 Q142.2 459.447 142.2 454.008 Q142.2 448.684 145.348 445.466 Q148.496 442.248 153.728 442.248 Q159.723 442.248 162.871 446.855 Q166.042 451.438 166.042 460.188 Q166.042 468.359 162.153 473.244 Q158.288 478.105 151.737 478.105 Q149.978 478.105 148.172 477.757 Q146.366 477.41 144.422 476.716 M153.728 462.063 Q156.876 462.063 158.704 459.91 Q160.556 457.758 160.556 454.008 Q160.556 450.281 158.704 448.128 Q156.876 445.952 153.728 445.952 Q150.579 445.952 148.728 448.128 Q146.899 450.281 146.899 454.008 Q146.899 457.758 148.728 459.91 Q150.579 462.063 153.728 462.063 Z\" fill=\"#000000\" fill-rule=\"evenodd\" fill-opacity=\"1\" /><path clip-path=\"url(#clip180)\" d=\"M184.445 445.952 Q180.834 445.952 179.005 449.517 Q177.2 453.058 177.2 460.188 Q177.2 467.295 179.005 470.859 Q180.834 474.401 184.445 474.401 Q188.079 474.401 189.885 470.859 Q191.713 467.295 191.713 460.188 Q191.713 453.058 189.885 449.517 Q188.079 445.952 184.445 445.952 M184.445 442.248 Q190.255 442.248 193.311 446.855 Q196.389 451.438 196.389 460.188 Q196.389 468.915 193.311 473.521 Q190.255 478.105 184.445 478.105 Q178.635 478.105 175.556 473.521 Q172.501 468.915 172.501 460.188 Q172.501 451.438 175.556 446.855 Q178.635 442.248 184.445 442.248 Z\" fill=\"#000000\" fill-rule=\"evenodd\" fill-opacity=\"1\" /><path clip-path=\"url(#clip180)\" d=\"M114.931 222.476 L122.57 222.476 L122.57 196.111 L114.26 197.778 L114.26 193.518 L122.524 191.852 L127.2 191.852 L127.2 222.476 L134.839 222.476 L134.839 226.412 L114.931 226.412 L114.931 222.476 Z\" fill=\"#000000\" fill-rule=\"evenodd\" fill-opacity=\"1\" /><path clip-path=\"url(#clip180)\" d=\"M148.311 222.476 L164.63 222.476 L164.63 226.412 L142.686 226.412 L142.686 222.476 Q145.348 219.722 149.931 215.092 Q154.538 210.439 155.718 209.097 Q157.964 206.574 158.843 204.838 Q159.746 203.078 159.746 201.389 Q159.746 198.634 157.802 196.898 Q155.88 195.162 152.778 195.162 Q150.579 195.162 148.126 195.926 Q145.695 196.69 142.917 198.24 L142.917 193.518 Q145.741 192.384 148.195 191.805 Q150.649 191.227 152.686 191.227 Q158.056 191.227 161.251 193.912 Q164.445 196.597 164.445 201.088 Q164.445 203.217 163.635 205.139 Q162.848 207.037 160.741 209.629 Q160.163 210.301 157.061 213.518 Q153.959 216.713 148.311 222.476 Z\" fill=\"#000000\" fill-rule=\"evenodd\" fill-opacity=\"1\" /><path clip-path=\"url(#clip180)\" d=\"M184.445 194.93 Q180.834 194.93 179.005 198.495 Q177.2 202.037 177.2 209.166 Q177.2 216.273 179.005 219.838 Q180.834 223.379 184.445 223.379 Q188.079 223.379 189.885 219.838 Q191.713 216.273 191.713 209.166 Q191.713 202.037 189.885 198.495 Q188.079 194.93 184.445 194.93 M184.445 191.227 Q190.255 191.227 193.311 195.833 Q196.389 200.416 196.389 209.166 Q196.389 217.893 193.311 222.5 Q190.255 227.083 184.445 227.083 Q178.635 227.083 175.556 222.5 Q172.501 217.893 172.501 209.166 Q172.501 200.416 175.556 195.833 Q178.635 191.227 184.445 191.227 Z\" fill=\"#000000\" fill-rule=\"evenodd\" fill-opacity=\"1\" /><path clip-path=\"url(#clip180)\" d=\"M49.9359 788.254 L28.3562 788.254 L28.3562 782.397 L49.7131 782.397 Q54.7739 782.397 57.3202 780.424 Q59.8346 778.45 59.8346 774.504 Q59.8346 769.761 56.8109 767.024 Q53.7872 764.255 48.5673 764.255 L28.3562 764.255 L28.3562 758.398 L64.0042 758.398 L64.0042 764.255 L58.5296 764.255 Q61.7762 766.387 63.3676 769.22 Q64.9272 772.021 64.9272 775.745 Q64.9272 781.888 61.1078 785.071 Q57.2883 788.254 49.9359 788.254 M27.4968 773.517 L27.4968 773.517 Z\" fill=\"#000000\" fill-rule=\"evenodd\" fill-opacity=\"1\" /><path clip-path=\"url(#clip180)\" d=\"M1029.71 12.096 L1037.89 12.096 L1037.89 72.576 L1029.71 72.576 L1029.71 12.096 Z\" fill=\"#000000\" fill-rule=\"evenodd\" fill-opacity=\"1\" /><path clip-path=\"url(#clip180)\" d=\"M1091.57 45.1919 L1091.57 72.576 L1084.11 72.576 L1084.11 45.4349 Q1084.11 38.994 1081.6 35.7938 Q1079.09 32.5936 1074.07 32.5936 Q1068.03 32.5936 1064.55 36.4419 Q1061.06 40.2903 1061.06 46.9338 L1061.06 72.576 L1053.57 72.576 L1053.57 27.2059 L1061.06 27.2059 L1061.06 34.2544 Q1063.74 30.163 1067.34 28.1376 Q1070.99 26.1121 1075.73 26.1121 Q1083.55 26.1121 1087.56 30.9732 Q1091.57 35.7938 1091.57 45.1919 Z\" fill=\"#000000\" fill-rule=\"evenodd\" fill-opacity=\"1\" /><path clip-path=\"url(#clip180)\" d=\"M1113.64 65.7705 L1113.64 89.8329 L1106.15 89.8329 L1106.15 27.2059 L1113.64 27.2059 L1113.64 34.0924 Q1115.99 30.0415 1119.56 28.0971 Q1123.16 26.1121 1128.15 26.1121 Q1136.41 26.1121 1141.55 32.6746 Q1146.74 39.2371 1146.74 49.9314 Q1146.74 60.6258 1141.55 67.1883 Q1136.41 73.7508 1128.15 73.7508 Q1123.16 73.7508 1119.56 71.8063 Q1115.99 69.8214 1113.64 65.7705 M1139 49.9314 Q1139 41.7081 1135.6 37.0496 Q1132.24 32.3505 1126.32 32.3505 Q1120.41 32.3505 1117.01 37.0496 Q1113.64 41.7081 1113.64 49.9314 Q1113.64 58.1548 1117.01 62.8538 Q1120.41 67.5124 1126.32 67.5124 Q1132.24 67.5124 1135.6 62.8538 Q1139 58.1548 1139 49.9314 Z\" fill=\"#000000\" fill-rule=\"evenodd\" fill-opacity=\"1\" /><path clip-path=\"url(#clip180)\" d=\"M1158.33 54.671 L1158.33 27.2059 L1165.78 27.2059 L1165.78 54.3874 Q1165.78 60.8284 1168.29 64.0691 Q1170.8 67.2693 1175.83 67.2693 Q1181.86 67.2693 1185.35 63.421 Q1188.87 59.5726 1188.87 52.9291 L1188.87 27.2059 L1196.32 27.2059 L1196.32 72.576 L1188.87 72.576 L1188.87 65.6084 Q1186.16 69.7404 1182.55 71.7658 Q1178.99 73.7508 1174.25 73.7508 Q1166.43 73.7508 1162.38 68.8897 Q1158.33 64.0286 1158.33 54.671 M1177.08 26.1121 L1177.08 26.1121 Z\" fill=\"#000000\" fill-rule=\"evenodd\" fill-opacity=\"1\" /><path clip-path=\"url(#clip180)\" d=\"M1219.05 14.324 L1219.05 27.2059 L1234.4 27.2059 L1234.4 32.9987 L1219.05 32.9987 L1219.05 57.6282 Q1219.05 63.1779 1220.55 64.7578 Q1222.09 66.3376 1226.75 66.3376 L1234.4 66.3376 L1234.4 72.576 L1226.75 72.576 Q1218.12 72.576 1214.84 69.3758 Q1211.55 66.1351 1211.55 57.6282 L1211.55 32.9987 L1206.09 32.9987 L1206.09 27.2059 L1211.55 27.2059 L1211.55 14.324 L1219.05 14.324 Z\" fill=\"#000000\" fill-rule=\"evenodd\" fill-opacity=\"1\" /><path clip-path=\"url(#clip180)\" d=\"M1270.9 12.096 L1279.08 12.096 L1279.08 36.8875 L1308.82 36.8875 L1308.82 12.096 L1317 12.096 L1317 72.576 L1308.82 72.576 L1308.82 43.7741 L1279.08 43.7741 L1279.08 72.576 L1270.9 72.576 L1270.9 12.096 Z\" fill=\"#000000\" fill-rule=\"evenodd\" fill-opacity=\"1\" /><path clip-path=\"url(#clip180)\" d=\"M1332.96 27.2059 L1340.41 27.2059 L1340.41 72.576 L1332.96 72.576 L1332.96 27.2059 M1332.96 9.54393 L1340.41 9.54393 L1340.41 18.9825 L1332.96 18.9825 L1332.96 9.54393 Z\" fill=\"#000000\" fill-rule=\"evenodd\" fill-opacity=\"1\" /><path clip-path=\"url(#clip180)\" d=\"M1384.93 28.5427 L1384.93 35.5912 Q1381.77 33.9709 1378.37 33.1607 Q1374.97 32.3505 1371.32 32.3505 Q1365.77 32.3505 1362.98 34.0519 Q1360.22 35.7533 1360.22 39.156 Q1360.22 41.7486 1362.21 43.2475 Q1364.19 44.7058 1370.19 46.0426 L1372.74 46.6097 Q1380.68 48.3111 1384 51.4303 Q1387.36 54.509 1387.36 60.0587 Q1387.36 66.3781 1382.34 70.0644 Q1377.36 73.7508 1368.61 73.7508 Q1364.96 73.7508 1360.99 73.0216 Q1357.06 72.3329 1352.69 70.9151 L1352.69 63.2184 Q1356.82 65.3654 1360.83 66.4591 Q1364.84 67.5124 1368.77 67.5124 Q1374.04 67.5124 1376.87 65.73 Q1379.71 63.9071 1379.71 60.6258 Q1379.71 57.5877 1377.64 55.9673 Q1375.62 54.3469 1368.69 52.8481 L1366.1 52.2405 Q1359.17 50.7821 1356.09 47.7845 Q1353.01 44.7463 1353.01 39.4801 Q1353.01 33.0797 1357.55 29.5959 Q1362.09 26.1121 1370.43 26.1121 Q1374.56 26.1121 1378.21 26.7198 Q1381.85 27.3274 1384.93 28.5427 Z\" fill=\"#000000\" fill-rule=\"evenodd\" fill-opacity=\"1\" /><path clip-path=\"url(#clip180)\" d=\"M1406.61 14.324 L1406.61 27.2059 L1421.96 27.2059 L1421.96 32.9987 L1406.61 32.9987 L1406.61 57.6282 Q1406.61 63.1779 1408.1 64.7578 Q1409.64 66.3376 1414.3 66.3376 L1421.96 66.3376 L1421.96 72.576 L1414.3 72.576 Q1405.67 72.576 1402.39 69.3758 Q1399.11 66.1351 1399.11 57.6282 L1399.11 32.9987 L1393.64 32.9987 L1393.64 27.2059 L1399.11 27.2059 L1399.11 14.324 L1406.61 14.324 Z\" fill=\"#000000\" fill-rule=\"evenodd\" fill-opacity=\"1\" /><path clip-path=\"url(#clip180)\" d=\"M1449.34 32.4315 Q1443.35 32.4315 1439.86 37.1306 Q1436.38 41.7891 1436.38 49.9314 Q1436.38 58.0738 1439.82 62.7728 Q1443.31 67.4314 1449.34 67.4314 Q1455.3 67.4314 1458.78 62.7323 Q1462.27 58.0333 1462.27 49.9314 Q1462.27 41.8701 1458.78 37.1711 Q1455.3 32.4315 1449.34 32.4315 M1449.34 26.1121 Q1459.06 26.1121 1464.61 32.4315 Q1470.16 38.7509 1470.16 49.9314 Q1470.16 61.0714 1464.61 67.4314 Q1459.06 73.7508 1449.34 73.7508 Q1439.58 73.7508 1434.03 67.4314 Q1428.52 61.0714 1428.52 49.9314 Q1428.52 38.7509 1434.03 32.4315 Q1439.58 26.1121 1449.34 26.1121 Z\" fill=\"#000000\" fill-rule=\"evenodd\" fill-opacity=\"1\" /><path clip-path=\"url(#clip180)\" d=\"M1508.81 34.1734 Q1507.55 33.4443 1506.06 33.1202 Q1504.6 32.7556 1502.81 32.7556 Q1496.5 32.7556 1493.09 36.8875 Q1489.73 40.9789 1489.73 48.6757 L1489.73 72.576 L1482.24 72.576 L1482.24 27.2059 L1489.73 27.2059 L1489.73 34.2544 Q1492.08 30.1225 1495.85 28.1376 Q1499.61 26.1121 1505 26.1121 Q1505.77 26.1121 1506.7 26.2337 Q1507.64 26.3147 1508.77 26.5172 L1508.81 34.1734 Z\" fill=\"#000000\" fill-rule=\"evenodd\" fill-opacity=\"1\" /><path clip-path=\"url(#clip180)\" d=\"M1535.51 76.7889 Q1532.35 84.8907 1529.35 87.3618 Q1526.35 89.8329 1521.33 89.8329 L1515.37 89.8329 L1515.37 83.5945 L1519.75 83.5945 Q1522.83 83.5945 1524.53 82.1361 Q1526.23 80.6778 1528.29 75.2496 L1529.63 71.8468 L1511.28 27.2059 L1519.18 27.2059 L1533.36 62.6918 L1547.54 27.2059 L1555.44 27.2059 L1535.51 76.7889 Z\" fill=\"#000000\" fill-rule=\"evenodd\" fill-opacity=\"1\" /><polyline clip-path=\"url(#clip182)\" style=\"stroke:#009af9; stroke-linecap:round; stroke-linejoin:round; stroke-width:4; stroke-opacity:1; fill:none\" points=\"292.4,1093.43 312.605,1094.83 332.811,1096.23 353.016,1097.63 373.222,1099.04 393.427,1100.44 413.633,1101.84 433.838,1103.25 454.044,1104.65 474.249,1106.06 494.455,1107.46 514.66,1108.87 534.866,1110.27 555.071,1111.68 575.277,1113.08 595.482,1114.49 615.688,1115.9 635.893,1117.3 656.099,1118.71 676.304,1120.12 696.51,1121.53 716.715,1122.93 736.921,1124.34 757.127,1125.75 777.332,1127.15 797.538,1128.56 817.743,1129.97 837.949,1131.38 858.154,1132.78 878.36,1134.19 898.565,1135.6 918.771,1137.01 938.976,1138.42 959.182,1139.82 979.387,1141.23 999.593,1142.64 1019.8,1144.05 1040,1145.45 1060.21,1146.86 1080.41,1148.27 1100.62,1149.67 1120.83,1151.08 1141.03,1152.49 1161.24,1153.9 1181.44,1155.3 1201.65,1156.71 1221.85,1158.12 1242.06,1159.52 1262.26,1160.93 1282.47,1162.34 1302.68,1163.74 1322.88,1165.15 1343.09,1166.55 1363.29,1167.96 1383.5,1169.37 1403.7,1170.77 1423.91,1172.18 1444.11,1173.58 1464.32,1174.99 1484.53,1176.4 1504.73,1177.8 1524.94,1179.21 1545.14,1180.61 1565.35,1182.02 1585.55,1183.42 1605.76,1184.83 1625.96,1186.23 1646.17,1187.64 1666.37,1189.04 1686.58,1190.44 1706.79,1191.85 1726.99,1193.25 1747.2,1194.66 1767.4,1196.06 1787.61,1197.47 1807.81,1198.87 1828.02,1200.27 1848.22,1201.68 1868.43,1203.08 1888.64,1204.49 1908.84,1205.89 1929.05,1207.29 1949.25,1208.7 1969.46,1210.1 1989.66,1211.51 2009.87,1212.91 2030.07,1214.31 2050.28,1215.72 2070.48,1217.12 2090.69,1218.53 2110.9,1219.93 2131.1,1221.33 2151.31,1222.74 2171.51,1224.14 2191.72,1225.54 2211.92,1226.95 2232.13,1228.35 2252.33,1229.76 2272.54,1231.16 2292.75,1232.56 \"/>\n",
       "<polyline clip-path=\"url(#clip182)\" style=\"stroke:#e26f46; stroke-linecap:round; stroke-linejoin:round; stroke-width:4; stroke-opacity:1; fill:none\" points=\"292.4,1386.4 312.605,1383.55 332.811,1380.7 353.016,1377.85 373.222,1375.01 393.427,1372.16 413.633,1369.32 433.838,1366.47 454.044,1363.63 474.249,1360.79 494.455,1357.95 514.66,1355.11 534.866,1352.27 555.071,1349.44 575.277,1346.6 595.482,1343.76 615.688,1340.93 635.893,1338.09 656.099,1335.26 676.304,1332.43 696.51,1329.6 716.715,1326.77 736.921,1323.94 757.127,1321.11 777.332,1318.29 797.538,1315.46 817.743,1312.63 837.949,1309.81 858.154,1306.99 878.36,1304.16 898.565,1301.34 918.771,1298.52 938.976,1295.7 959.182,1292.88 979.387,1290.06 999.593,1287.24 1019.8,1284.43 1040,1281.61 1060.21,1278.8 1080.41,1275.98 1100.62,1273.17 1120.83,1270.35 1141.03,1267.54 1161.24,1264.73 1181.44,1261.92 1201.65,1259.11 1221.85,1256.3 1242.06,1253.49 1262.26,1250.68 1282.47,1247.87 1302.68,1245.06 1322.88,1242.26 1343.09,1239.45 1363.29,1236.65 1383.5,1233.84 1403.7,1231.04 1423.91,1228.23 1444.11,1225.43 1464.32,1222.62 1484.53,1219.82 1504.73,1217.02 1524.94,1214.21 1545.14,1211.41 1565.35,1208.61 1585.55,1205.81 1605.76,1203.01 1625.96,1200.21 1646.17,1197.41 1666.37,1194.6 1686.58,1191.8 1706.79,1189 1726.99,1186.2 1747.2,1183.4 1767.4,1180.6 1787.61,1177.8 1807.81,1175 1828.02,1172.2 1848.22,1169.41 1868.43,1166.61 1888.64,1163.81 1908.84,1161.01 1929.05,1158.21 1949.25,1155.41 1969.46,1152.61 1989.66,1149.81 2009.87,1147.01 2030.07,1144.21 2050.28,1141.41 2070.48,1138.61 2090.69,1135.81 2110.9,1133.01 2131.1,1130.21 2151.31,1127.41 2171.51,1124.6 2191.72,1121.8 2211.92,1119 2232.13,1116.2 2252.33,1113.4 2272.54,1110.6 2292.75,1107.79 \"/>\n",
       "<polyline clip-path=\"url(#clip182)\" style=\"stroke:#3da44d; stroke-linecap:round; stroke-linejoin:round; stroke-width:4; stroke-opacity:1; fill:none\" points=\"292.4,459.343 312.605,456.21 332.811,453.081 353.016,449.956 373.222,446.835 393.427,443.719 413.633,440.606 433.838,437.498 454.044,434.393 474.249,431.292 494.455,428.195 514.66,425.102 534.866,422.012 555.071,418.926 575.277,415.843 595.482,412.764 615.688,409.688 635.893,406.616 656.099,403.546 676.304,400.48 696.51,397.418 716.715,394.358 736.921,391.301 757.127,388.247 777.332,385.196 797.538,382.148 817.743,379.102 837.949,376.059 858.154,373.019 878.36,369.981 898.565,366.946 918.771,363.913 938.976,360.883 959.182,357.855 979.387,354.829 999.593,351.805 1019.8,348.784 1040,345.764 1060.21,342.746 1080.41,339.731 1100.62,336.717 1120.83,333.705 1141.03,330.694 1161.24,327.686 1181.44,324.679 1201.65,321.673 1221.85,318.669 1242.06,315.667 1262.26,312.665 1282.47,309.665 1302.68,306.667 1322.88,303.669 1343.09,300.673 1363.29,297.678 1383.5,294.683 1403.7,291.69 1423.91,288.698 1444.11,285.706 1464.32,282.716 1484.53,279.726 1504.73,276.737 1524.94,273.748 1545.14,270.76 1565.35,267.773 1585.55,264.786 1605.76,261.8 1625.96,258.814 1646.17,255.828 1666.37,252.843 1686.58,249.858 1706.79,246.873 1726.99,243.889 1747.2,240.904 1767.4,237.92 1787.61,234.936 1807.81,231.951 1828.02,228.967 1848.22,225.983 1868.43,222.999 1888.64,220.014 1908.84,217.029 1929.05,214.045 1949.25,211.06 1969.46,208.074 1989.66,205.089 2009.87,202.103 2030.07,199.117 2050.28,196.13 2070.48,193.143 2090.69,190.156 2110.9,187.168 2131.1,184.18 2151.31,181.192 2171.51,178.202 2191.72,175.213 2211.92,172.223 2232.13,169.232 2252.33,166.241 2272.54,163.249 2292.75,160.256 \"/>\n",
       "<path clip-path=\"url(#clip180)\" d=\"M303.068 374.156 L557.72 374.156 L557.72 166.796 L303.068 166.796  Z\" fill=\"#ffffff\" fill-rule=\"evenodd\" fill-opacity=\"1\"/>\n",
       "<polyline clip-path=\"url(#clip180)\" style=\"stroke:#000000; stroke-linecap:round; stroke-linejoin:round; stroke-width:4; stroke-opacity:1; fill:none\" points=\"303.068,374.156 557.72,374.156 557.72,166.796 303.068,166.796 303.068,374.156 \"/>\n",
       "<polyline clip-path=\"url(#clip180)\" style=\"stroke:#009af9; stroke-linecap:round; stroke-linejoin:round; stroke-width:4; stroke-opacity:1; fill:none\" points=\"326.628,218.636 467.986,218.636 \"/>\n",
       "<path clip-path=\"url(#clip180)\" d=\"M491.545 225.684 L491.545 209.99 L495.804 209.99 L495.804 225.522 Q495.804 229.203 497.24 231.055 Q498.675 232.883 501.545 232.883 Q504.994 232.883 506.985 230.684 Q508.999 228.485 508.999 224.689 L508.999 209.99 L513.258 209.99 L513.258 235.916 L508.999 235.916 L508.999 231.934 Q507.448 234.295 505.388 235.453 Q503.351 236.587 500.642 236.587 Q496.175 236.587 493.86 233.809 Q491.545 231.031 491.545 225.684 M502.263 209.365 L502.263 209.365 Z\" fill=\"#000000\" fill-rule=\"evenodd\" fill-opacity=\"1\" /><path clip-path=\"url(#clip180)\" d=\"M521.175 233.369 L525.897 233.369 L525.897 219.226 L520.735 220.175 L520.735 217.49 L526.059 216.587 L529.23 216.587 L529.23 233.369 L533.976 233.369 L533.976 235.916 L521.175 235.916 L521.175 233.369 Z\" fill=\"#000000\" fill-rule=\"evenodd\" fill-opacity=\"1\" /><polyline clip-path=\"url(#clip180)\" style=\"stroke:#e26f46; stroke-linecap:round; stroke-linejoin:round; stroke-width:4; stroke-opacity:1; fill:none\" points=\"326.628,270.476 467.986,270.476 \"/>\n",
       "<path clip-path=\"url(#clip180)\" d=\"M491.545 277.524 L491.545 261.83 L495.804 261.83 L495.804 277.362 Q495.804 281.043 497.24 282.895 Q498.675 284.723 501.545 284.723 Q504.994 284.723 506.985 282.524 Q508.999 280.325 508.999 276.529 L508.999 261.83 L513.258 261.83 L513.258 287.756 L508.999 287.756 L508.999 283.774 Q507.448 286.135 505.388 287.293 Q503.351 288.427 500.642 288.427 Q496.175 288.427 493.86 285.649 Q491.545 282.871 491.545 277.524 M502.263 261.205 L502.263 261.205 Z\" fill=\"#000000\" fill-rule=\"evenodd\" fill-opacity=\"1\" /><path clip-path=\"url(#clip180)\" d=\"M523.767 285.117 L533.582 285.117 L533.582 287.756 L519.74 287.756 L519.74 285.209 Q520.527 284.492 521.985 283.196 Q529.948 276.135 529.948 273.959 Q529.948 272.432 528.744 271.506 Q527.54 270.557 525.573 270.557 Q524.369 270.557 522.957 270.973 Q521.545 271.367 519.878 272.177 L519.878 269.33 Q521.661 268.682 523.189 268.358 Q524.74 268.034 526.059 268.034 Q529.415 268.034 531.429 269.561 Q533.443 271.089 533.443 273.589 Q533.443 276.807 525.781 283.381 Q524.485 284.492 523.767 285.117 Z\" fill=\"#000000\" fill-rule=\"evenodd\" fill-opacity=\"1\" /><polyline clip-path=\"url(#clip180)\" style=\"stroke:#3da44d; stroke-linecap:round; stroke-linejoin:round; stroke-width:4; stroke-opacity:1; fill:none\" points=\"326.628,322.316 467.986,322.316 \"/>\n",
       "<path clip-path=\"url(#clip180)\" d=\"M491.545 329.364 L491.545 313.67 L495.804 313.67 L495.804 329.202 Q495.804 332.883 497.24 334.735 Q498.675 336.563 501.545 336.563 Q504.994 336.563 506.985 334.364 Q508.999 332.165 508.999 328.369 L508.999 313.67 L513.258 313.67 L513.258 339.596 L508.999 339.596 L508.999 335.614 Q507.448 337.975 505.388 339.133 Q503.351 340.267 500.642 340.267 Q496.175 340.267 493.86 337.489 Q491.545 334.711 491.545 329.364 M502.263 313.045 L502.263 313.045 Z\" fill=\"#000000\" fill-rule=\"evenodd\" fill-opacity=\"1\" /><path clip-path=\"url(#clip180)\" d=\"M529.693 329.133 Q531.823 329.549 532.98 330.823 Q534.161 332.073 534.161 333.971 Q534.161 336.841 531.962 338.392 Q529.763 339.943 525.665 339.943 Q524.346 339.943 522.888 339.688 Q521.453 339.457 519.832 338.994 L519.832 336.193 Q521.036 336.818 522.402 337.119 Q523.79 337.42 525.341 337.42 Q527.865 337.42 529.253 336.517 Q530.642 335.591 530.642 333.971 Q530.642 332.258 529.346 331.378 Q528.073 330.499 525.573 330.499 L523.582 330.499 L523.582 327.999 L525.758 327.999 Q527.934 327.999 529.045 327.281 Q530.179 326.54 530.179 325.151 Q530.179 323.809 529.022 323.114 Q527.865 322.397 525.665 322.397 Q524.74 322.397 523.559 322.605 Q522.378 322.813 520.503 323.346 L520.503 320.684 Q522.193 320.29 523.675 320.082 Q525.156 319.874 526.429 319.874 Q529.763 319.874 531.707 321.239 Q533.675 322.605 533.675 324.897 Q533.675 326.494 532.633 327.605 Q531.591 328.716 529.693 329.133 Z\" fill=\"#000000\" fill-rule=\"evenodd\" fill-opacity=\"1\" /></svg>\n"
      ]
     },
     "metadata": {},
     "output_type": "display_data"
    }
   ],
   "source": [
    "# Let's solve\n",
    "\n",
    "nx = 6\n",
    "nu = 3\n",
    "N = 101\n",
    "dt = 0.1\n",
    "t_vec = dt*(0:N-1)\n",
    "x0 = [4, 2, 20, -3, 2, -5.0]\n",
    "xg = [0,0,0,0,0,0.0]\n",
    "Xref = [deepcopy(xg) for i = 1:N]\n",
    "Uref = [zeros(nu) for i = 1:N-1]\n",
    "\n",
    "Q = 1e-2*Diagonal([1,1,1,1.0,1,1])\n",
    "R = 1e-1*Diagonal([1,1,1])\n",
    "Qf = 1000*Q\n",
    "\n",
    "ground_level = 0.0\n",
    "gravity = [0; 0; 9.81]\n",
    "mass = 10.0\n",
    "ωPlanet = [0.0; 0.0; 0.0]\n",
    "perWeightMax = 2.0\n",
    "θ_thrust_max = 10.0  # deg\n",
    "θ_glideslope = 60.0 # deg\n",
    "glide_recover_k = 8\n",
    "\n",
    "A_cone = [1 0 0; 0 1 0]\n",
    "c_cone = [0.0, 0.0, tand(θ_thrust_max)]\n",
    "u_bnd = mass * abs(gravity[3]) * perWeightMax\n",
    "u_min = -170*ones(nu)\n",
    "u_max =  170*ones(nu)\n",
    "\n",
    "# state is x y v θ\n",
    "x_min = [-2,-2,-2,-2]\n",
    "x_max = [6,8,3,2]\n",
    "\n",
    "ncx = 2*nx*0\n",
    "ncu = 2*nu\n",
    "ncg = 1\n",
    "ncu_cone = nu*0; \n",
    "\n",
    "params = (\n",
    "    nx = nx,\n",
    "    nu = nu,\n",
    "    ncx = ncx,\n",
    "    ncu = ncu,\n",
    "    ncg = ncg,\n",
    "    ncu_cone = ncu_cone,\n",
    "    A_cone = A_cone,\n",
    "    c_cone = c_cone,\n",
    "    N = N,\n",
    "    Q = Q,\n",
    "    R = R,\n",
    "    Qf = Qf,\n",
    "    u_min = u_min,\n",
    "    u_max = u_max,\n",
    "    x_min = x_min,\n",
    "    x_max = x_max,\n",
    "    Xref = Xref,\n",
    "    Uref = Uref,\n",
    "    dt = dt,\n",
    "    mc = 1.0,\n",
    "    mp = 0.2,\n",
    "    l = 0.5,\n",
    "    g = 9.81,\n",
    ");\n",
    "\n",
    "# previous iterate\n",
    "X = [deepcopy(x0) for i = 1:N]\n",
    "U = [mass * gravity for k = 1:N-1]\n",
    "\n",
    "# new iterate\n",
    "Xn = deepcopy(X)\n",
    "Un = deepcopy(U)\n",
    "\n",
    "P = [zeros(nx,nx) for i = 1:N]   # cost to go quadratic term\n",
    "p = [zeros(nx) for i = 1:N]      # cost to go linear term\n",
    "d = [zeros(nu) for i = 1:N-1]    # feedforward control\n",
    "K = [zeros(nu,nx) for i = 1:N-1] # feedback gain\n",
    "Xhist = mpc(params,X,U,P,p,K,d,Xn,Un;atol=1e-1,max_iters = 15,verbose = true,ρ = 1e0, ϕ = 10.0);\n",
    "function mat_from_vec(X::Vector{Vector{Float64}})::Matrix\n",
    "    # convert a vector of vectors to a matrix \n",
    "    Xm = hcat(X...)\n",
    "    return Xm \n",
    "end\n",
    "Xsim_m = mat_from_vec(Xn)\n",
    "Usim_m = mat_from_vec(Un)\n",
    "using Plots\n",
    "display(plot(t_vec,Xsim_m',label = [\"x₁\" \"x₂\" \"x₃\" \"ẋ₁\" \"ẋ₂\" \"ẋ₃\"],\n",
    "             title = \"State History\",\n",
    "             xlabel = \"time (s)\", ylabel = \"x\"))\n",
    "display(plot(t_vec[1:end-1],Usim_m',label = [\"u₁\" \"u₂\" \"u₃\"],\n",
    "             title = \"Input History\",\n",
    "             xlabel = \"time (s)\", ylabel = \"u\"))"
   ]
  },
  {
   "cell_type": "code",
   "execution_count": 238,
   "id": "12ec6530-7479-455f-843a-81d2c40fb13a",
   "metadata": {},
   "outputs": [
    {
     "data": {
      "text/plain": [
       "18.558379400461323"
      ]
     },
     "metadata": {},
     "output_type": "display_data"
    },
    {
     "data": {
      "text/plain": [
       "17.675919531196833"
      ]
     },
     "metadata": {},
     "output_type": "display_data"
    },
    {
     "data": {
      "text/plain": [
       "16.79400297275007"
      ]
     },
     "metadata": {},
     "output_type": "display_data"
    },
    {
     "data": {
      "text/plain": [
       "15.912643674423173"
      ]
     },
     "metadata": {},
     "output_type": "display_data"
    },
    {
     "data": {
      "text/plain": [
       "15.031855967330685"
      ]
     },
     "metadata": {},
     "output_type": "display_data"
    },
    {
     "data": {
      "text/plain": [
       "14.151654624979052"
      ]
     },
     "metadata": {},
     "output_type": "display_data"
    },
    {
     "data": {
      "text/plain": [
       "13.272054929108556"
      ]
     },
     "metadata": {},
     "output_type": "display_data"
    },
    {
     "data": {
      "text/plain": [
       "12.393072741391649"
      ]
     },
     "metadata": {},
     "output_type": "display_data"
    },
    {
     "data": {
      "text/plain": [
       "11.514724581655969"
      ]
     },
     "metadata": {},
     "output_type": "display_data"
    },
    {
     "data": {
      "text/plain": [
       "10.637027713391198"
      ]
     },
     "metadata": {},
     "output_type": "display_data"
    },
    {
     "data": {
      "text/plain": [
       "9.760000237398259"
      ]
     },
     "metadata": {},
     "output_type": "display_data"
    },
    {
     "data": {
      "text/plain": [
       "8.883661194557362"
      ]
     },
     "metadata": {},
     "output_type": "display_data"
    },
    {
     "data": {
      "text/plain": [
       "8.008030678825932"
      ]
     },
     "metadata": {},
     "output_type": "display_data"
    },
    {
     "data": {
      "text/plain": [
       "7.13312996173358"
      ]
     },
     "metadata": {},
     "output_type": "display_data"
    },
    {
     "data": {
      "text/plain": [
       "6.258981629821555"
      ]
     },
     "metadata": {},
     "output_type": "display_data"
    },
    {
     "data": {
      "text/plain": [
       "5.385609736685225"
      ]
     },
     "metadata": {},
     "output_type": "display_data"
    },
    {
     "data": {
      "text/plain": [
       "4.513039971521216"
      ]
     },
     "metadata": {},
     "output_type": "display_data"
    },
    {
     "data": {
      "text/plain": [
       "3.641299846368149"
      ]
     },
     "metadata": {},
     "output_type": "display_data"
    },
    {
     "data": {
      "text/plain": [
       "2.7704189045617866"
      ]
     },
     "metadata": {},
     "output_type": "display_data"
    },
    {
     "data": {
      "text/plain": [
       "1.9004289533190715"
      ]
     },
     "metadata": {},
     "output_type": "display_data"
    },
    {
     "data": {
      "text/plain": [
       "1.031364323824647"
      ]
     },
     "metadata": {},
     "output_type": "display_data"
    },
    {
     "data": {
      "text/plain": [
       "0.1632621627370554"
      ]
     },
     "metadata": {},
     "output_type": "display_data"
    },
    {
     "data": {
      "text/plain": [
       "0.0"
      ]
     },
     "metadata": {},
     "output_type": "display_data"
    },
    {
     "data": {
      "text/plain": [
       "0.0"
      ]
     },
     "metadata": {},
     "output_type": "display_data"
    },
    {
     "data": {
      "text/plain": [
       "0.0"
      ]
     },
     "metadata": {},
     "output_type": "display_data"
    },
    {
     "data": {
      "text/plain": [
       "0.0"
      ]
     },
     "metadata": {},
     "output_type": "display_data"
    },
    {
     "data": {
      "text/plain": [
       "0.0"
      ]
     },
     "metadata": {},
     "output_type": "display_data"
    },
    {
     "data": {
      "text/plain": [
       "0.0"
      ]
     },
     "metadata": {},
     "output_type": "display_data"
    },
    {
     "data": {
      "text/plain": [
       "0.0"
      ]
     },
     "metadata": {},
     "output_type": "display_data"
    },
    {
     "data": {
      "text/plain": [
       "0.0"
      ]
     },
     "metadata": {},
     "output_type": "display_data"
    },
    {
     "data": {
      "text/plain": [
       "0.0"
      ]
     },
     "metadata": {},
     "output_type": "display_data"
    },
    {
     "data": {
      "text/plain": [
       "0.0"
      ]
     },
     "metadata": {},
     "output_type": "display_data"
    },
    {
     "data": {
      "text/plain": [
       "0.0"
      ]
     },
     "metadata": {},
     "output_type": "display_data"
    },
    {
     "data": {
      "text/plain": [
       "0.0"
      ]
     },
     "metadata": {},
     "output_type": "display_data"
    },
    {
     "data": {
      "text/plain": [
       "0.0"
      ]
     },
     "metadata": {},
     "output_type": "display_data"
    },
    {
     "data": {
      "text/plain": [
       "0.0"
      ]
     },
     "metadata": {},
     "output_type": "display_data"
    },
    {
     "data": {
      "text/plain": [
       "0.0"
      ]
     },
     "metadata": {},
     "output_type": "display_data"
    },
    {
     "data": {
      "text/plain": [
       "0.0"
      ]
     },
     "metadata": {},
     "output_type": "display_data"
    },
    {
     "data": {
      "text/plain": [
       "0.0"
      ]
     },
     "metadata": {},
     "output_type": "display_data"
    },
    {
     "data": {
      "text/plain": [
       "0.0"
      ]
     },
     "metadata": {},
     "output_type": "display_data"
    },
    {
     "data": {
      "text/plain": [
       "0.0"
      ]
     },
     "metadata": {},
     "output_type": "display_data"
    },
    {
     "data": {
      "text/plain": [
       "0.0"
      ]
     },
     "metadata": {},
     "output_type": "display_data"
    },
    {
     "data": {
      "text/plain": [
       "0.0"
      ]
     },
     "metadata": {},
     "output_type": "display_data"
    },
    {
     "data": {
      "text/plain": [
       "0.0"
      ]
     },
     "metadata": {},
     "output_type": "display_data"
    },
    {
     "data": {
      "text/plain": [
       "0.0"
      ]
     },
     "metadata": {},
     "output_type": "display_data"
    },
    {
     "data": {
      "text/plain": [
       "0.0"
      ]
     },
     "metadata": {},
     "output_type": "display_data"
    },
    {
     "data": {
      "text/plain": [
       "0.0"
      ]
     },
     "metadata": {},
     "output_type": "display_data"
    },
    {
     "data": {
      "text/plain": [
       "0.0"
      ]
     },
     "metadata": {},
     "output_type": "display_data"
    },
    {
     "data": {
      "text/plain": [
       "0.0"
      ]
     },
     "metadata": {},
     "output_type": "display_data"
    },
    {
     "data": {
      "text/plain": [
       "0.0"
      ]
     },
     "metadata": {},
     "output_type": "display_data"
    },
    {
     "data": {
      "text/plain": [
       "0.0"
      ]
     },
     "metadata": {},
     "output_type": "display_data"
    },
    {
     "data": {
      "text/plain": [
       "0.0"
      ]
     },
     "metadata": {},
     "output_type": "display_data"
    },
    {
     "data": {
      "text/plain": [
       "0.0"
      ]
     },
     "metadata": {},
     "output_type": "display_data"
    },
    {
     "data": {
      "text/plain": [
       "0.0"
      ]
     },
     "metadata": {},
     "output_type": "display_data"
    },
    {
     "data": {
      "text/plain": [
       "0.0"
      ]
     },
     "metadata": {},
     "output_type": "display_data"
    },
    {
     "data": {
      "text/plain": [
       "0.0"
      ]
     },
     "metadata": {},
     "output_type": "display_data"
    },
    {
     "data": {
      "text/plain": [
       "0.0"
      ]
     },
     "metadata": {},
     "output_type": "display_data"
    },
    {
     "data": {
      "text/plain": [
       "0.0"
      ]
     },
     "metadata": {},
     "output_type": "display_data"
    },
    {
     "data": {
      "text/plain": [
       "0.0"
      ]
     },
     "metadata": {},
     "output_type": "display_data"
    },
    {
     "data": {
      "text/plain": [
       "0.0"
      ]
     },
     "metadata": {},
     "output_type": "display_data"
    },
    {
     "data": {
      "text/plain": [
       "0.0"
      ]
     },
     "metadata": {},
     "output_type": "display_data"
    },
    {
     "data": {
      "text/plain": [
       "0.0"
      ]
     },
     "metadata": {},
     "output_type": "display_data"
    },
    {
     "data": {
      "text/plain": [
       "0.0"
      ]
     },
     "metadata": {},
     "output_type": "display_data"
    },
    {
     "data": {
      "text/plain": [
       "0.0"
      ]
     },
     "metadata": {},
     "output_type": "display_data"
    },
    {
     "data": {
      "text/plain": [
       "0.0"
      ]
     },
     "metadata": {},
     "output_type": "display_data"
    },
    {
     "data": {
      "text/plain": [
       "0.0"
      ]
     },
     "metadata": {},
     "output_type": "display_data"
    },
    {
     "data": {
      "text/plain": [
       "0.0"
      ]
     },
     "metadata": {},
     "output_type": "display_data"
    },
    {
     "data": {
      "text/plain": [
       "0.0"
      ]
     },
     "metadata": {},
     "output_type": "display_data"
    },
    {
     "data": {
      "text/plain": [
       "0.0"
      ]
     },
     "metadata": {},
     "output_type": "display_data"
    },
    {
     "data": {
      "text/plain": [
       "0.0"
      ]
     },
     "metadata": {},
     "output_type": "display_data"
    },
    {
     "data": {
      "text/plain": [
       "0.0"
      ]
     },
     "metadata": {},
     "output_type": "display_data"
    },
    {
     "data": {
      "text/plain": [
       "0.0"
      ]
     },
     "metadata": {},
     "output_type": "display_data"
    },
    {
     "data": {
      "text/plain": [
       "0.0"
      ]
     },
     "metadata": {},
     "output_type": "display_data"
    },
    {
     "data": {
      "text/plain": [
       "0.0"
      ]
     },
     "metadata": {},
     "output_type": "display_data"
    },
    {
     "data": {
      "text/plain": [
       "0.0"
      ]
     },
     "metadata": {},
     "output_type": "display_data"
    },
    {
     "data": {
      "text/plain": [
       "0.0"
      ]
     },
     "metadata": {},
     "output_type": "display_data"
    },
    {
     "data": {
      "text/plain": [
       "0.0"
      ]
     },
     "metadata": {},
     "output_type": "display_data"
    },
    {
     "data": {
      "text/plain": [
       "0.0"
      ]
     },
     "metadata": {},
     "output_type": "display_data"
    },
    {
     "data": {
      "text/plain": [
       "0.0"
      ]
     },
     "metadata": {},
     "output_type": "display_data"
    },
    {
     "data": {
      "text/plain": [
       "0.0"
      ]
     },
     "metadata": {},
     "output_type": "display_data"
    },
    {
     "data": {
      "text/plain": [
       "0.0"
      ]
     },
     "metadata": {},
     "output_type": "display_data"
    },
    {
     "data": {
      "text/plain": [
       "0.0"
      ]
     },
     "metadata": {},
     "output_type": "display_data"
    },
    {
     "data": {
      "text/plain": [
       "0.0"
      ]
     },
     "metadata": {},
     "output_type": "display_data"
    },
    {
     "data": {
      "text/plain": [
       "0.0"
      ]
     },
     "metadata": {},
     "output_type": "display_data"
    },
    {
     "data": {
      "text/plain": [
       "0.0"
      ]
     },
     "metadata": {},
     "output_type": "display_data"
    },
    {
     "data": {
      "text/plain": [
       "0.0"
      ]
     },
     "metadata": {},
     "output_type": "display_data"
    },
    {
     "data": {
      "text/plain": [
       "0.0"
      ]
     },
     "metadata": {},
     "output_type": "display_data"
    },
    {
     "data": {
      "text/plain": [
       "0.0"
      ]
     },
     "metadata": {},
     "output_type": "display_data"
    },
    {
     "data": {
      "text/plain": [
       "0.0"
      ]
     },
     "metadata": {},
     "output_type": "display_data"
    },
    {
     "data": {
      "text/plain": [
       "0.0"
      ]
     },
     "metadata": {},
     "output_type": "display_data"
    },
    {
     "data": {
      "text/plain": [
       "0.0"
      ]
     },
     "metadata": {},
     "output_type": "display_data"
    },
    {
     "data": {
      "text/plain": [
       "0.0"
      ]
     },
     "metadata": {},
     "output_type": "display_data"
    },
    {
     "data": {
      "text/plain": [
       "0.0"
      ]
     },
     "metadata": {},
     "output_type": "display_data"
    },
    {
     "data": {
      "text/plain": [
       "0.0"
      ]
     },
     "metadata": {},
     "output_type": "display_data"
    },
    {
     "data": {
      "text/plain": [
       "0.0"
      ]
     },
     "metadata": {},
     "output_type": "display_data"
    },
    {
     "data": {
      "text/plain": [
       "0.0"
      ]
     },
     "metadata": {},
     "output_type": "display_data"
    },
    {
     "data": {
      "text/plain": [
       "0.0"
      ]
     },
     "metadata": {},
     "output_type": "display_data"
    },
    {
     "data": {
      "text/plain": [
       "0.0"
      ]
     },
     "metadata": {},
     "output_type": "display_data"
    },
    {
     "data": {
      "text/plain": [
       "0.0"
      ]
     },
     "metadata": {},
     "output_type": "display_data"
    },
    {
     "data": {
      "text/plain": [
       "0.0"
      ]
     },
     "metadata": {},
     "output_type": "display_data"
    }
   ],
   "source": [
    "convio = 0.0\n",
    "for k = 1:N-1\n",
    "    # update dual\n",
    "    Uc = cone_u(params, U[k])\n",
    "    huc = norm(Uc[1:2]) - Uc[3]\n",
    "    convio = norm(huc + abs.(huc),Inf)\n",
    "    display(convio)\n",
    "end"
   ]
  }
 ],
 "metadata": {
  "kernelspec": {
   "display_name": "Julia 1.6.7",
   "language": "julia",
   "name": "julia-1.6"
  },
  "language_info": {
   "file_extension": ".jl",
   "mimetype": "application/julia",
   "name": "julia",
   "version": "1.6.7"
  }
 },
 "nbformat": 4,
 "nbformat_minor": 5
}
