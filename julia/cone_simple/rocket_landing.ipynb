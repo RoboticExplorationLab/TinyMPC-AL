{
 "cells": [
  {
   "cell_type": "code",
   "execution_count": 43,
   "id": "6099cb4b-a2da-4b1b-ba0f-856484092fc4",
   "metadata": {},
   "outputs": [
    {
     "name": "stderr",
     "output_type": "stream",
     "text": [
      "\u001b[32m\u001b[1m  Activating\u001b[22m\u001b[39m environment at `~/Documents/REx Lab/TinyMPC/julia/cone_simple/Project.toml`\n"
     ]
    },
    {
     "name": "stderr",
     "output_type": "stream",
     "text": [
      "\u001b[32m\u001b[1m   Resolving\u001b[22m\u001b[39m package versions...\n"
     ]
    },
    {
     "name": "stderr",
     "output_type": "stream",
     "text": [
      "\u001b[32m\u001b[1m  No Changes\u001b[22m\u001b[39m to `~/Documents/REx Lab/TinyMPC/julia/cone_simple/Project.toml`\n",
      "\u001b[32m\u001b[1m  No Changes\u001b[22m\u001b[39m to `~/Documents/REx Lab/TinyMPC/julia/cone_simple/Manifest.toml`\n"
     ]
    }
   ],
   "source": [
    "using Pkg\n",
    "Pkg.activate(@__DIR__)\n",
    "Pkg.instantiate()\n",
    "import Pkg; Pkg.add(\"ForwardDiff\")\n",
    "\n",
    "using LinearAlgebra\n",
    "using Printf\n",
    "import ForwardDiff as FD"
   ]
  },
  {
   "cell_type": "code",
   "execution_count": 44,
   "id": "2539eadc-1ce3-410e-80f6-f5588603ffef",
   "metadata": {},
   "outputs": [],
   "source": [
    "# include(\"random_linear.jl\")\n",
    "# A, B = gendiscrete(4, 3)"
   ]
  },
  {
   "cell_type": "code",
   "execution_count": 45,
   "id": "6179ca57-b5ff-4274-8391-85d5e728fc16",
   "metadata": {},
   "outputs": [
    {
     "data": {
      "text/plain": [
       "mpc (generic function with 1 method)"
      ]
     },
     "metadata": {},
     "output_type": "display_data"
    }
   ],
   "source": [
    "# -------------------THIS IS ALL ALTRO-------------------------------\n",
    "# This enables goal equality constraints, state and input ineq constraints.\n",
    "\n",
    "function stage_cost(p::NamedTuple,x,u,k)\n",
    "    dx = x - p.Xref[k]\n",
    "    du = u - p.Uref[k]\n",
    "    return 0.5*dx'*p.Q*dx + 0.5*du'*p.R*du\n",
    "end\n",
    "function term_cost(p::NamedTuple,x)\n",
    "    dx = x - p.Xref[p.N]\n",
    "    return 0.5*dx'*p.Qf*dx\n",
    "end\n",
    "function stage_cost_expansion(p::NamedTuple,k)\n",
    "    dx = - p.Xref[k]\n",
    "    du = - p.Uref[k]\n",
    "    return p.Q, p.Q*dx, p.R, p.R*du  # Hessian and gradient\n",
    "end\n",
    "function term_cost_expansion(p::NamedTuple)\n",
    "    dx = - p.Xref[p.N]\n",
    "    return p.Qf, p.Qf*dx\n",
    "end\n",
    "function cone_∇projection!(J, x)\n",
    "    n = length(x)-1\n",
    "    s = x[end]\n",
    "    v = x[1:n]\n",
    "    a = norm(v)\n",
    "\n",
    "    if a <= -s\n",
    "        J .*= 0\n",
    "    elseif a <= s\n",
    "        J .*= 0\n",
    "        for i = 1:n\n",
    "            J[i,i] = 1.0\n",
    "        end\n",
    "    elseif a >= abs(s)\n",
    "        # scalar\n",
    "        c = 0.5 * (1 + s/a)   \n",
    "\n",
    "        # dvdv = dbdv * v' + c * oneunit(SMatrix{n-1,n-1,T})\n",
    "        for i = 1:n-1, j = 1:n-1\n",
    "            J[i,j] = -0.5*s/a^3 * v[i] * v[j]\n",
    "            if i == j\n",
    "                J[i,j] += c\n",
    "            end\n",
    "        end\n",
    "\n",
    "        # dvds\n",
    "        for i = 1:n-1\n",
    "            J[i,n] = 0.5 * v[i] / a\n",
    "        end\n",
    "\n",
    "        # ds\n",
    "        for i = 1:n-1\n",
    "            J[n,i] = ((-0.5*s/a^2) + c/a) * v[i]\n",
    "        end\n",
    "        J[n,n] = 0.5 \n",
    "    else\n",
    "        throw(ErrorException(\"Invalid second-order cone projection\"))\n",
    "    end\n",
    "    return J\n",
    "end\n",
    "function cone_∇²projection!(hess, x)\n",
    "    n = length(x)-1\n",
    "    s = x[end]\n",
    "    v = x[1:n]\n",
    "    a = norm(v)\n",
    "\n",
    "    if a <= -s\n",
    "        return hess .= 0\n",
    "    elseif a <= s\n",
    "        return hess .= 0\n",
    "    elseif a > abs(s)\n",
    "\n",
    "        hess[end,end] = 0\n",
    "        return hess\n",
    "    else\n",
    "        throw(ErrorException(\"Invalid second-order cone projection\"))\n",
    "    end\n",
    "end    \n",
    "function conic_cost_expansion(p::NamedTuple, u, λc, ρ, k)\n",
    "    λhat = λc # already updated\n",
    "    ∇c = cone_u_jac(p, u)\n",
    "    G = ∇c'*∇projection(λhat)*projection(λhat)/ρ \n",
    "    H = ∇c'*∇projection(λhat)'*∇projection(λhat)*∇c/ρ\n",
    "    # display(∇projection(λhat)')\n",
    "    # H = zeros(p.ncu_cone,p.ncu_cone)\n",
    "    return (G - H*u), H\n",
    "end\n",
    "function backward_pass!(params,X,U,P,p,d,K,reg,μ,μx,ρ,λ,λc)\n",
    "    \"\"\"iLQR backward pass with AL. This !function update its parameters\n",
    "    \"\"\"\n",
    "    N = params.N\n",
    "    ΔJ = 0.0    # expected cost reduction\n",
    "\n",
    "    # terminal cost expansion\n",
    "    P[N], p[N] = term_cost_expansion(params) \n",
    "    \n",
    "    if (params.ncx > 0)\n",
    "        # # add AL terms for the state constraint at the final time step\n",
    "        hxv = ineq_con_x(params,X[N])  # h(x) violation  \n",
    "        mask = eval_mask(μx[N],hxv)\n",
    "        ∇hx = ineq_con_x_jac(params,X[N])\n",
    "        # add these into the cost-to-go p and P\n",
    "        p[N]  += ∇hx'*(μx[N] - ρ*(mask * [params.x_max;-params.x_min]))  # multiplier term (1st)\n",
    "        P[N]  += ρ*∇hx'*mask*∇hx                # penalty term (2nd)\n",
    "    end\n",
    "    \n",
    "    if (params.ncg > 0)\n",
    "        # add AL terms for goal constraint \n",
    "        ∇hx = diagm(ones(params.nx))\n",
    "        # add these into the CTG p and P (equality active)\n",
    "        p[N]  += ∇hx'*(λ - ρ*params.Xref[N])   \n",
    "        P[N]  += ρ*∇hx'∇hx\n",
    "    end\n",
    "    \n",
    "    # iterate from N-1 to 1 backwards\n",
    "    for k = (N-1):(-1):1\n",
    "        # dynamics jacobians (linearization about previous iterate)\n",
    "        A = FD.jacobian(_x -> discrete_dynamics(params,_x,U[k],k),X[k])\n",
    "        B = FD.jacobian(_u -> discrete_dynamics(params,X[k],_u,k),U[k])\n",
    "\n",
    "        Sxx,Sx,Suu,Su = stage_cost_expansion(params,k)\n",
    "        \n",
    "        # one-step cost expansion: Q, Q*dx, R, R*du\n",
    "        Sx += A' * (P[k+1]*f + p[k+1]) \n",
    "        Su += B' * (P[k+1]*f + p[k+1]) \n",
    "        Sxx += A'*(P[k+1])*A\n",
    "        Suu += B'*(P[k+1] + reg*I)*B                                     \n",
    "        Sux = B'*(P[k+1])*A  \n",
    "        if (params.ncu > 0)\n",
    "            # control constraints\n",
    "            huv = ineq_con_u(params,U[k])  # calculate h(u) constraint\n",
    "            mask = eval_mask(μ[k],huv)  # choose active\n",
    "            ∇hu = ineq_con_u_jac(params,U[k])\n",
    "            Su  += ∇hu'*(μ[k] - ρ*(mask * [params.u_max;-params.u_min])) # add to cost\n",
    "            Suu += ρ*∇hu'*mask*∇hu\n",
    "        end\n",
    "        if (params.ncx > 0)\n",
    "            # state constraints\n",
    "            hxv = ineq_con_x(params,X[k])\n",
    "            mask = eval_mask(μx[k],hxv)\n",
    "            ∇hx = ineq_con_x_jac(params,X[k])\n",
    "            Sx  += ∇hx'*(μx[k] - ρ*(mask * [params.x_max;-params.x_min]))\n",
    "            Sxx += ρ*∇hx'*mask*∇hx\n",
    "        end\n",
    "        if (params.ncu_cone > 0)\n",
    "            # conic constraints\n",
    "            Qu, Quu = conic_cost_expansion(params, U[k], λc[k], ρ, k)\n",
    "            # display(Quu)\n",
    "            Su += Qu\n",
    "            Suu += Quu\n",
    "        end\n",
    "        \n",
    "        # Calculate Gains\n",
    "        F = cholesky(Symmetric(Suu))\n",
    "        d[k] = F\\Su\n",
    "        K[k] = F\\Sux\n",
    "\n",
    "        # Cost-to-go Recurrence (PSD stabilizing version, last term)\n",
    "        P[k] = Sxx + K[k]'*Suu*K[k] - 2*K[k]'*Sux\n",
    "        p[k] = Sx + K[k]'*Suu*d[k] - K[k]'*Su - Sux'*d[k]\n",
    "        ΔJ += Su'*d[k]\n",
    "    end\n",
    "\n",
    "    return ΔJ  # but also change params\n",
    "end\n",
    "function forward_pass!(params,X,U,K,d,ΔJ,Xn,Un,μ,μx,ρ,λ; \n",
    "                        max_linesearch_iters = 20)\n",
    "    \"\"\"iLQR forward pass and line-search\n",
    "    This !function update its parameters\n",
    "    \"\"\"\n",
    "    N = params.N\n",
    "        # Forward Rollout\n",
    "        for k = 1:(N-1)\n",
    "            Un[k] = - d[k] - K[k]*Xn[k] \n",
    "            Xn[k+1] = discrete_dynamics(params,Xn[k],Un[k],k)\n",
    "        end\n",
    "    X .= Xn\n",
    "    U .= Un\n",
    "    return 0, 0\n",
    "end\n",
    "function eval_mask(μv,huv)  \n",
    "    # Extract active inequality constraints\n",
    "    # active set mask\n",
    "    mask = Diagonal(zeros(length(huv)))\n",
    "    for i = 1:length(huv)\n",
    "        mask[i,i] = (μv[i] > 0 || huv[i] > 0)\n",
    "    end\n",
    "    mask\n",
    "end\n",
    "function mpc(params,X,U,P,p,K,d,Xn,Un;atol=1e-3,max_iters = 250,verbose = true,ρ=1,ϕ=10)\n",
    "\n",
    "    # first check the sizes of everything\n",
    "    @assert length(X) == params.N\n",
    "    @assert length(U) == params.N-1\n",
    "    @assert length(X[1]) == params.nx\n",
    "    @assert length(U[1]) == params.nu\n",
    "\n",
    "    # keep track of trajectories for each iterate\n",
    "    Xhist=[deepcopy(X) for i = 1:1000]\n",
    "\n",
    "    # initial rollout\n",
    "    N = params.N\n",
    "    for i = 1:N-1\n",
    "        X[i+1] = discrete_dynamics(params,X[i],U[i],i)\n",
    "    end\n",
    "\n",
    "    Xhist[1] .= X\n",
    "\n",
    "    reg_min = 1e-8\n",
    "    reg = reg_min\n",
    "\n",
    "    μ = [zeros(params.ncu) for i = 1:N-1]   # input constraints\n",
    "\n",
    "    μx = [zeros(params.ncx) for i = 1:N]    # state constraints\n",
    "\n",
    "    λ = zeros(params.nx)    # goal constraint\n",
    "\n",
    "    λc = [zeros(params.ncu_cone) for i = 1:N-1]   # goal constraint\n",
    "    \n",
    "    # Inner loop to solve unconstrained problem (Riccati)\n",
    "    for iter = 1:max_iters\n",
    "        ΔJ = backward_pass!(params,X,U,P,p,d,K,reg,μ,μx,ρ,λ,λc)\n",
    "        J, α = forward_pass!(params,X,U,K,d,ΔJ,Xn,Un,μ,μx,ρ,λ)\n",
    "\n",
    "        Xhist[iter + 1] .= X  \n",
    "        if verbose\n",
    "            if rem(iter-1,10)==0\n",
    "                @printf \"iter     J           ΔJ        |d|         α        reg         ρ\\n\"\n",
    "                @printf \"---------------------------------------------------------------------\\n\"\n",
    "            end\n",
    "            @printf(\"%3d   %10.3e  %9.2e  %9.2e  %6.4f   %9.2e   %9.2e\\n\",\n",
    "              iter, J, ΔJ, 0, α, reg, ρ)\n",
    "        end\n",
    "        # update multipliers and check constraint violation, max of all\n",
    "        convio = 0  \n",
    "        \n",
    "        if (params.ncu > 0)\n",
    "            # control constraints (inequality)\n",
    "            for k = 1:N-1\n",
    "                huv = ineq_con_u(params,U[k])\n",
    "                mask = eval_mask(μ[k],huv)\n",
    "                # update dual\n",
    "                convio = max(convio,norm(huv + abs.(huv),Inf))\n",
    "                μ[k] = max.(0,μ[k] - ρ*(mask * [params.u_max;-params.u_min]))\n",
    "                \n",
    "            end\n",
    "        end\n",
    "        if (params.ncx > 0)\n",
    "            # state constraints (inequality)\n",
    "            for k = 1:N\n",
    "                hxv = ineq_con_x(params,X[k])\n",
    "                mask = eval_mask(μx[k],hxv)\n",
    "                # update dual\n",
    "                convio = max(convio,norm(hxv + abs.(hxv),Inf))\n",
    "                μx[k] = max.(0,μx[k] - ρ*(mask * [params.x_max;-params.x_min]))                \n",
    "            end\n",
    "        end\n",
    "        if (params.ncu_cone > 0)\n",
    "            # conic constraints \n",
    "            print(\"update cone\\n\")\n",
    "            for k = 1:N-1\n",
    "                # update dual\n",
    "                Uc = cone_u(params, U[k])\n",
    "                huc = norm(Uc[1:2]) - Uc[3]\n",
    "                convio = max(convio, norm(huc + abs.(huc),Inf))\n",
    "                λc[k] = projection(λc[k] + ρ*Uc)\n",
    "                # display(λc[k])\n",
    "            end\n",
    "        end\n",
    "        if (params.ncg > 0)\n",
    "            # goal constraint (equality)\n",
    "            hxv = X[N] - params.Xref[N]\n",
    "            λ .-= ρ*params.Xref[N]\n",
    "            convio = max(convio, norm(hxv,Inf))\n",
    "        end\n",
    "        @show convio\n",
    "        if convio <1e-4  # if terminal condition with contraint violation\n",
    "            @info \"success!\"\n",
    "            return Xhist[1:(iter + 1)];\n",
    "        end\n",
    "\n",
    "        ρ *= ϕ  # update penalty\n",
    "    end\n",
    "end\n",
    "#----------------------ALTRO DONE --------------------------"
   ]
  },
  {
   "cell_type": "code",
   "execution_count": 46,
   "id": "ff9a97a1-b963-4f01-9223-eee0c5682b7d",
   "metadata": {
    "tags": []
   },
   "outputs": [
    {
     "data": {
      "text/plain": [
       "∇projection (generic function with 1 method)"
      ]
     },
     "metadata": {},
     "output_type": "display_data"
    }
   ],
   "source": [
    "# =============================\n",
    "# Example problem formulation and solve\n",
    "# =============================\n",
    "\n",
    "# ---------------------THIS IS WHAT YOU NEED TO INPUT--------\n",
    "A = [1.0 0.0 0.0 0.05 0.0 0.0; \n",
    "    0.0 1.0 0.0 0.0 0.05 0.0; \n",
    "    0.0 0.0 1.0 0.0 0.0 0.05; \n",
    "    0.0 0.0 0.0 1.0 0.0 0.0; \n",
    "    0.0 0.0 0.0 0.0 1.0 0.0; \n",
    "    0.0 0.0 0.0 0.0 0.0 1.0]\n",
    "B = [0.000125 0.0 0.0; \n",
    "    0.0 0.000125 0.0;\n",
    "    0.0 0.0 0.000125; \n",
    "    0.005 0.0 0.0; \n",
    "    0.0 0.005 0.0; \n",
    "    0.0 0.0 0.005]\n",
    "f = [0.0, 0.0, -0.0122625, 0.0, 0.0, -0.4905]\n",
    "function discrete_dynamics(p::NamedTuple,x,u,k)\n",
    "    A = [1.0 0.0 0.0 0.05 0.0 0.0; \n",
    "        0.0 1.0 0.0 0.0 0.05 0.0; \n",
    "        0.0 0.0 1.0 0.0 0.0 0.05; \n",
    "        0.0 0.0 0.0 1.0 0.0 0.0; \n",
    "        0.0 0.0 0.0 0.0 1.0 0.0; \n",
    "        0.0 0.0 0.0 0.0 0.0 1.0]\n",
    "    B = [0.000125 0.0 0.0; \n",
    "        0.0 0.000125 0.0;\n",
    "        0.0 0.0 0.000125; \n",
    "        0.005 0.0 0.0; \n",
    "        0.0 0.005 0.0; \n",
    "        0.0 0.0 0.005]\n",
    "    f = [0.0, 0.0, -0.0122625, 0.0, 0.0, -0.4905]\n",
    "    return A*x + B*u + f\n",
    "end\n",
    "function ineq_con_x(p,x)\n",
    "    [x-p.x_max;-x + p.x_min]\n",
    "end\n",
    "function ineq_con_u(p,u)\n",
    "    [u-p.u_max;-u + p.u_min]\n",
    "end\n",
    "function cone_u(p, u)\n",
    "    [p.A_cone*u;p.c_cone'*u]\n",
    "end\n",
    "function cone_u_jac(p, u)\n",
    "    J = zeros(p.nu, p.nu)\n",
    "    J[1:end-1,1:end] .= p.A_cone\n",
    "    J[end,1:end] .= p.c_cone\n",
    "    return J\n",
    "end\n",
    "function ineq_con_u_jac(params,u)\n",
    "    FD.jacobian(_u -> ineq_con_u(params,_u), u)\n",
    "end\n",
    "function ineq_con_x_jac(p,x)\n",
    "    FD.jacobian(_x -> ineq_con_x(p,_x),x)\n",
    "end\n",
    "function projection(x)\n",
    "    n = length(x)\n",
    "    s = x[end]\n",
    "    v = view(x,1:n-1)\n",
    "    a = norm(v)\n",
    "    if a <= -s  # below the cone\n",
    "        return zero(x)\n",
    "    elseif a <= s  # in the code\n",
    "        return x\n",
    "    elseif a >= abs(s)  # outside the cone\n",
    "        return 0.5 * (1 + s/a) * [v; a] \n",
    "    end\n",
    "end\n",
    "function ∇projection(x)\n",
    "    n = length(x)\n",
    "    J = zeros(eltype(x),n,n)\n",
    "    s = x[end]\n",
    "    v = view(x,1:n-1)\n",
    "    a = norm(v)\n",
    "    if a <= -s\n",
    "        return J  # zeros\n",
    "    elseif a <= s\n",
    "        J .= I(n)  \n",
    "        return J  # identity\n",
    "    elseif a >= abs(s)\n",
    "        c = 0.5 * (1 + s/a)\n",
    "\n",
    "        # dvdv ok!\n",
    "        for i = 1:n-1, j = 1:n-1\n",
    "            J[i,j] = -0.5*s/a^3 * v[i] * v[j]\n",
    "            if i == j\n",
    "                J[i,j] += c\n",
    "            end\n",
    "        end\n",
    "\n",
    "        # dvds ok!\n",
    "        for i = 1:n-1\n",
    "            J[i,n] = 0.5 * v[i] / a\n",
    "        end\n",
    "\n",
    "        # dsdv ok!\n",
    "        for i = 1:n-1\n",
    "            J[n,i] = ((-0.5*s/a^2) + c/a) * v[i]\n",
    "        end\n",
    "        J[n,n] = 0.5  # ok\n",
    "        return J\n",
    "    else\n",
    "        error(\"Invalid second-order cone projection.\")\n",
    "    end\n",
    "    return J\n",
    "end"
   ]
  },
  {
   "cell_type": "code",
   "execution_count": 47,
   "id": "f4edd7a6-7756-43ee-a37b-f91abdd18650",
   "metadata": {},
   "outputs": [
    {
     "data": {
      "image/png": "[encoded data removed]",
      "image/svg+xml": "<?xml version=\"1.0\" encoding=\"utf-8\"?>\n<svg xmlns=\"http://www.w3.org/2000/svg\" xmlns:xlink=\"http://www.w3.org/1999/xlink\" width=\"600\" height=\"400\" viewBox=\"0 0 2400 1600\">\n<defs>\n  <clipPath id=\"clip250\">\n    <rect x=\"0\" y=\"0\" width=\"2400\" height=\"1600\"/>\n  </clipPath>\n</defs>\n<path clip-path=\"url(#clip250)\" d=\"M0 1600 L2400 1600 L2400 0 L0 0  Z\" fill=\"#ffffff\" fill-rule=\"evenodd\" fill-opacity=\"1\"/>\n<defs>\n  <clipPath id=\"clip251\">\n    <rect x=\"480\" y=\"0\" width=\"1681\" height=\"1600\"/>\n  </clipPath>\n</defs>\n<path clip-path=\"url(#clip250)\" d=\"M210.977 1423.18 L2352.76 1423.18 L2352.76 123.472 L210.977 123.472  Z\" fill=\"#ffffff\" fill-rule=\"evenodd\" fill-opacity=\"1\"/>\n<defs>\n  <clipPath id=\"clip252\">\n    <rect x=\"210\" y=\"123\" width=\"2143\" height=\"1301\"/>\n  </clipPath>\n</defs>\n<polyline clip-path=\"url(#clip252)\" style=\"stroke:#000000; stroke-linecap:round; stroke-linejoin:round; stroke-width:2; stroke-opacity:0.1; fill:none\" points=\"271.594,1423.18 271.594,123.472 \"/>\n<polyline clip-path=\"url(#clip252)\" style=\"stroke:#000000; stroke-linecap:round; stroke-linejoin:round; stroke-width:2; stroke-opacity:0.1; fill:none\" points=\"776.73,1423.18 776.73,123.472 \"/>\n<polyline clip-path=\"url(#clip252)\" style=\"stroke:#000000; stroke-linecap:round; stroke-linejoin:round; stroke-width:2; stroke-opacity:0.1; fill:none\" points=\"1281.87,1423.18 1281.87,123.472 \"/>\n<polyline clip-path=\"url(#clip252)\" style=\"stroke:#000000; stroke-linecap:round; stroke-linejoin:round; stroke-width:2; stroke-opacity:0.1; fill:none\" points=\"1787,1423.18 1787,123.472 \"/>\n<polyline clip-path=\"url(#clip252)\" style=\"stroke:#000000; stroke-linecap:round; stroke-linejoin:round; stroke-width:2; stroke-opacity:0.1; fill:none\" points=\"2292.14,1423.18 2292.14,123.472 \"/>\n<polyline clip-path=\"url(#clip250)\" style=\"stroke:#000000; stroke-linecap:round; stroke-linejoin:round; stroke-width:4; stroke-opacity:1; fill:none\" points=\"210.977,1423.18 2352.76,1423.18 \"/>\n<polyline clip-path=\"url(#clip250)\" style=\"stroke:#000000; stroke-linecap:round; stroke-linejoin:round; stroke-width:4; stroke-opacity:1; fill:none\" points=\"271.594,1423.18 271.594,1404.28 \"/>\n<polyline clip-path=\"url(#clip250)\" style=\"stroke:#000000; stroke-linecap:round; stroke-linejoin:round; stroke-width:4; stroke-opacity:1; fill:none\" points=\"776.73,1423.18 776.73,1404.28 \"/>\n<polyline clip-path=\"url(#clip250)\" style=\"stroke:#000000; stroke-linecap:round; stroke-linejoin:round; stroke-width:4; stroke-opacity:1; fill:none\" points=\"1281.87,1423.18 1281.87,1404.28 \"/>\n<polyline clip-path=\"url(#clip250)\" style=\"stroke:#000000; stroke-linecap:round; stroke-linejoin:round; stroke-width:4; stroke-opacity:1; fill:none\" points=\"1787,1423.18 1787,1404.28 \"/>\n<polyline clip-path=\"url(#clip250)\" style=\"stroke:#000000; stroke-linecap:round; stroke-linejoin:round; stroke-width:4; stroke-opacity:1; fill:none\" points=\"2292.14,1423.18 2292.14,1404.28 \"/>\n<path clip-path=\"url(#clip250)\" d=\"M248.978 1454.1 Q245.367 1454.1 243.538 1457.66 Q241.733 1461.2 241.733 1468.33 Q241.733 1475.44 243.538 1479.01 Q245.367 1482.55 248.978 1482.55 Q252.612 1482.55 254.418 1479.01 Q256.247 1475.44 256.247 1468.33 Q256.247 1461.2 254.418 1457.66 Q252.612 1454.1 248.978 1454.1 M248.978 1450.39 Q254.788 1450.39 257.844 1455 Q260.923 1459.58 260.923 1468.33 Q260.923 1477.06 257.844 1481.67 Q254.788 1486.25 248.978 1486.25 Q243.168 1486.25 240.089 1481.67 Q237.034 1477.06 237.034 1468.33 Q237.034 1459.58 240.089 1455 Q243.168 1450.39 248.978 1450.39 Z\" fill=\"#000000\" fill-rule=\"evenodd\" fill-opacity=\"1\" /><path clip-path=\"url(#clip250)\" d=\"M269.14 1479.7 L274.024 1479.7 L274.024 1485.58 L269.14 1485.58 L269.14 1479.7 Z\" fill=\"#000000\" fill-rule=\"evenodd\" fill-opacity=\"1\" /><path clip-path=\"url(#clip250)\" d=\"M294.209 1454.1 Q290.598 1454.1 288.77 1457.66 Q286.964 1461.2 286.964 1468.33 Q286.964 1475.44 288.77 1479.01 Q290.598 1482.55 294.209 1482.55 Q297.844 1482.55 299.649 1479.01 Q301.478 1475.44 301.478 1468.33 Q301.478 1461.2 299.649 1457.66 Q297.844 1454.1 294.209 1454.1 M294.209 1450.39 Q300.02 1450.39 303.075 1455 Q306.154 1459.58 306.154 1468.33 Q306.154 1477.06 303.075 1481.67 Q300.02 1486.25 294.209 1486.25 Q288.399 1486.25 285.321 1481.67 Q282.265 1477.06 282.265 1468.33 Q282.265 1459.58 285.321 1455 Q288.399 1450.39 294.209 1450.39 Z\" fill=\"#000000\" fill-rule=\"evenodd\" fill-opacity=\"1\" /><path clip-path=\"url(#clip250)\" d=\"M748.466 1481.64 L764.786 1481.64 L764.786 1485.58 L742.842 1485.58 L742.842 1481.64 Q745.504 1478.89 750.087 1474.26 Q754.693 1469.61 755.874 1468.27 Q758.119 1465.74 758.999 1464.01 Q759.902 1462.25 759.902 1460.56 Q759.902 1457.8 757.957 1456.07 Q756.036 1454.33 752.934 1454.33 Q750.735 1454.33 748.281 1455.09 Q745.851 1455.86 743.073 1457.41 L743.073 1452.69 Q745.897 1451.55 748.351 1450.97 Q750.804 1450.39 752.841 1450.39 Q758.212 1450.39 761.406 1453.08 Q764.601 1455.77 764.601 1460.26 Q764.601 1462.39 763.79 1464.31 Q763.003 1466.2 760.897 1468.8 Q760.318 1469.47 757.216 1472.69 Q754.115 1475.88 748.466 1481.64 Z\" fill=\"#000000\" fill-rule=\"evenodd\" fill-opacity=\"1\" /><path clip-path=\"url(#clip250)\" d=\"M774.601 1479.7 L779.485 1479.7 L779.485 1485.58 L774.601 1485.58 L774.601 1479.7 Z\" fill=\"#000000\" fill-rule=\"evenodd\" fill-opacity=\"1\" /><path clip-path=\"url(#clip250)\" d=\"M789.716 1451.02 L808.073 1451.02 L808.073 1454.96 L793.999 1454.96 L793.999 1463.43 Q795.017 1463.08 796.036 1462.92 Q797.054 1462.73 798.073 1462.73 Q803.86 1462.73 807.239 1465.9 Q810.619 1469.08 810.619 1474.49 Q810.619 1480.07 807.147 1483.17 Q803.675 1486.25 797.355 1486.25 Q795.179 1486.25 792.911 1485.88 Q790.665 1485.51 788.258 1484.77 L788.258 1480.07 Q790.341 1481.2 792.563 1481.76 Q794.786 1482.32 797.263 1482.32 Q801.267 1482.32 803.605 1480.21 Q805.943 1478.1 805.943 1474.49 Q805.943 1470.88 803.605 1468.77 Q801.267 1466.67 797.263 1466.67 Q795.388 1466.67 793.513 1467.08 Q791.661 1467.5 789.716 1468.38 L789.716 1451.02 Z\" fill=\"#000000\" fill-rule=\"evenodd\" fill-opacity=\"1\" /><path clip-path=\"url(#clip250)\" d=\"M1249.03 1451.02 L1267.39 1451.02 L1267.39 1454.96 L1253.31 1454.96 L1253.31 1463.43 Q1254.33 1463.08 1255.35 1462.92 Q1256.37 1462.73 1257.39 1462.73 Q1263.17 1462.73 1266.55 1465.9 Q1269.93 1469.08 1269.93 1474.49 Q1269.93 1480.07 1266.46 1483.17 Q1262.99 1486.25 1256.67 1486.25 Q1254.49 1486.25 1252.23 1485.88 Q1249.98 1485.51 1247.57 1484.77 L1247.57 1480.07 Q1249.66 1481.2 1251.88 1481.76 Q1254.1 1482.32 1256.58 1482.32 Q1260.58 1482.32 1262.92 1480.21 Q1265.26 1478.1 1265.26 1474.49 Q1265.26 1470.88 1262.92 1468.77 Q1260.58 1466.67 1256.58 1466.67 Q1254.7 1466.67 1252.83 1467.08 Q1250.98 1467.5 1249.03 1468.38 L1249.03 1451.02 Z\" fill=\"#000000\" fill-rule=\"evenodd\" fill-opacity=\"1\" /><path clip-path=\"url(#clip250)\" d=\"M1279.15 1479.7 L1284.03 1479.7 L1284.03 1485.58 L1279.15 1485.58 L1279.15 1479.7 Z\" fill=\"#000000\" fill-rule=\"evenodd\" fill-opacity=\"1\" /><path clip-path=\"url(#clip250)\" d=\"M1304.22 1454.1 Q1300.6 1454.1 1298.78 1457.66 Q1296.97 1461.2 1296.97 1468.33 Q1296.97 1475.44 1298.78 1479.01 Q1300.6 1482.55 1304.22 1482.55 Q1307.85 1482.55 1309.66 1479.01 Q1311.48 1475.44 1311.48 1468.33 Q1311.48 1461.2 1309.66 1457.66 Q1307.85 1454.1 1304.22 1454.1 M1304.22 1450.39 Q1310.03 1450.39 1313.08 1455 Q1316.16 1459.58 1316.16 1468.33 Q1316.16 1477.06 1313.08 1481.67 Q1310.03 1486.25 1304.22 1486.25 Q1298.41 1486.25 1295.33 1481.67 Q1292.27 1477.06 1292.27 1468.33 Q1292.27 1459.58 1295.33 1455 Q1298.41 1450.39 1304.22 1450.39 Z\" fill=\"#000000\" fill-rule=\"evenodd\" fill-opacity=\"1\" /><path clip-path=\"url(#clip250)\" d=\"M1753.32 1451.02 L1775.54 1451.02 L1775.54 1453.01 L1763 1485.58 L1758.11 1485.58 L1769.92 1454.96 L1753.32 1454.96 L1753.32 1451.02 Z\" fill=\"#000000\" fill-rule=\"evenodd\" fill-opacity=\"1\" /><path clip-path=\"url(#clip250)\" d=\"M1784.67 1479.7 L1789.55 1479.7 L1789.55 1485.58 L1784.67 1485.58 L1784.67 1479.7 Z\" fill=\"#000000\" fill-rule=\"evenodd\" fill-opacity=\"1\" /><path clip-path=\"url(#clip250)\" d=\"M1799.78 1451.02 L1818.14 1451.02 L1818.14 1454.96 L1804.06 1454.96 L1804.06 1463.43 Q1805.08 1463.08 1806.1 1462.92 Q1807.12 1462.73 1808.14 1462.73 Q1813.92 1462.73 1817.3 1465.9 Q1820.68 1469.08 1820.68 1474.49 Q1820.68 1480.07 1817.21 1483.17 Q1813.74 1486.25 1807.42 1486.25 Q1805.24 1486.25 1802.98 1485.88 Q1800.73 1485.51 1798.32 1484.77 L1798.32 1480.07 Q1800.41 1481.2 1802.63 1481.76 Q1804.85 1482.32 1807.33 1482.32 Q1811.33 1482.32 1813.67 1480.21 Q1816.01 1478.1 1816.01 1474.49 Q1816.01 1470.88 1813.67 1468.77 Q1811.33 1466.67 1807.33 1466.67 Q1805.45 1466.67 1803.58 1467.08 Q1801.73 1467.5 1799.78 1468.38 L1799.78 1451.02 Z\" fill=\"#000000\" fill-rule=\"evenodd\" fill-opacity=\"1\" /><path clip-path=\"url(#clip250)\" d=\"M2244.21 1481.64 L2251.85 1481.64 L2251.85 1455.28 L2243.54 1456.95 L2243.54 1452.69 L2251.8 1451.02 L2256.48 1451.02 L2256.48 1481.64 L2264.12 1481.64 L2264.12 1485.58 L2244.21 1485.58 L2244.21 1481.64 Z\" fill=\"#000000\" fill-rule=\"evenodd\" fill-opacity=\"1\" /><path clip-path=\"url(#clip250)\" d=\"M2283.56 1454.1 Q2279.95 1454.1 2278.12 1457.66 Q2276.32 1461.2 2276.32 1468.33 Q2276.32 1475.44 2278.12 1479.01 Q2279.95 1482.55 2283.56 1482.55 Q2287.2 1482.55 2289 1479.01 Q2290.83 1475.44 2290.83 1468.33 Q2290.83 1461.2 2289 1457.66 Q2287.2 1454.1 2283.56 1454.1 M2283.56 1450.39 Q2289.37 1450.39 2292.43 1455 Q2295.51 1459.58 2295.51 1468.33 Q2295.51 1477.06 2292.43 1481.67 Q2289.37 1486.25 2283.56 1486.25 Q2277.75 1486.25 2274.67 1481.67 Q2271.62 1477.06 2271.62 1468.33 Q2271.62 1459.58 2274.67 1455 Q2277.75 1450.39 2283.56 1450.39 Z\" fill=\"#000000\" fill-rule=\"evenodd\" fill-opacity=\"1\" /><path clip-path=\"url(#clip250)\" d=\"M2303.73 1479.7 L2308.61 1479.7 L2308.61 1485.58 L2303.73 1485.58 L2303.73 1479.7 Z\" fill=\"#000000\" fill-rule=\"evenodd\" fill-opacity=\"1\" /><path clip-path=\"url(#clip250)\" d=\"M2328.79 1454.1 Q2325.18 1454.1 2323.35 1457.66 Q2321.55 1461.2 2321.55 1468.33 Q2321.55 1475.44 2323.35 1479.01 Q2325.18 1482.55 2328.79 1482.55 Q2332.43 1482.55 2334.23 1479.01 Q2336.06 1475.44 2336.06 1468.33 Q2336.06 1461.2 2334.23 1457.66 Q2332.43 1454.1 2328.79 1454.1 M2328.79 1450.39 Q2334.6 1450.39 2337.66 1455 Q2340.74 1459.58 2340.74 1468.33 Q2340.74 1477.06 2337.66 1481.67 Q2334.6 1486.25 2328.79 1486.25 Q2322.98 1486.25 2319.91 1481.67 Q2316.85 1477.06 2316.85 1468.33 Q2316.85 1459.58 2319.91 1455 Q2322.98 1450.39 2328.79 1450.39 Z\" fill=\"#000000\" fill-rule=\"evenodd\" fill-opacity=\"1\" /><path clip-path=\"url(#clip250)\" d=\"M1169.32 1522.27 L1169.32 1532.4 L1181.38 1532.4 L1181.38 1536.95 L1169.32 1536.95 L1169.32 1556.3 Q1169.32 1560.66 1170.5 1561.9 Q1171.71 1563.14 1175.37 1563.14 L1181.38 1563.14 L1181.38 1568.04 L1175.37 1568.04 Q1168.59 1568.04 1166.01 1565.53 Q1163.43 1562.98 1163.43 1556.3 L1163.43 1536.95 L1159.14 1536.95 L1159.14 1532.4 L1163.43 1532.4 L1163.43 1522.27 L1169.32 1522.27 Z\" fill=\"#000000\" fill-rule=\"evenodd\" fill-opacity=\"1\" /><path clip-path=\"url(#clip250)\" d=\"M1189.09 1532.4 L1194.94 1532.4 L1194.94 1568.04 L1189.09 1568.04 L1189.09 1532.4 M1189.09 1518.52 L1194.94 1518.52 L1194.94 1525.93 L1189.09 1525.93 L1189.09 1518.52 Z\" fill=\"#000000\" fill-rule=\"evenodd\" fill-opacity=\"1\" /><path clip-path=\"url(#clip250)\" d=\"M1234.95 1539.24 Q1237.15 1535.29 1240.2 1533.41 Q1243.26 1531.54 1247.4 1531.54 Q1252.97 1531.54 1255.99 1535.45 Q1259.01 1539.33 1259.01 1546.53 L1259.01 1568.04 L1253.13 1568.04 L1253.13 1546.72 Q1253.13 1541.59 1251.31 1539.11 Q1249.5 1536.63 1245.77 1536.63 Q1241.22 1536.63 1238.58 1539.65 Q1235.94 1542.68 1235.94 1547.9 L1235.94 1568.04 L1230.05 1568.04 L1230.05 1546.72 Q1230.05 1541.56 1228.24 1539.11 Q1226.42 1536.63 1222.63 1536.63 Q1218.15 1536.63 1215.5 1539.68 Q1212.86 1542.71 1212.86 1547.9 L1212.86 1568.04 L1206.97 1568.04 L1206.97 1532.4 L1212.86 1532.4 L1212.86 1537.93 Q1214.87 1534.66 1217.67 1533.1 Q1220.47 1531.54 1224.32 1531.54 Q1228.2 1531.54 1230.91 1533.51 Q1233.65 1535.48 1234.95 1539.24 Z\" fill=\"#000000\" fill-rule=\"evenodd\" fill-opacity=\"1\" /><path clip-path=\"url(#clip250)\" d=\"M1301.19 1548.76 L1301.19 1551.62 L1274.26 1551.62 Q1274.64 1557.67 1277.89 1560.85 Q1281.17 1564 1286.99 1564 Q1290.36 1564 1293.52 1563.17 Q1296.7 1562.35 1299.82 1560.69 L1299.82 1566.23 Q1296.67 1567.57 1293.36 1568.27 Q1290.05 1568.97 1286.64 1568.97 Q1278.11 1568.97 1273.11 1564 Q1268.15 1559.04 1268.15 1550.57 Q1268.15 1541.82 1272.86 1536.69 Q1277.6 1531.54 1285.62 1531.54 Q1292.82 1531.54 1296.99 1536.18 Q1301.19 1540.8 1301.19 1548.76 M1295.33 1547.04 Q1295.27 1542.23 1292.62 1539.37 Q1290.01 1536.5 1285.69 1536.5 Q1280.78 1536.5 1277.82 1539.27 Q1274.9 1542.04 1274.45 1547.07 L1295.33 1547.04 Z\" fill=\"#000000\" fill-rule=\"evenodd\" fill-opacity=\"1\" /><path clip-path=\"url(#clip250)\" d=\"M1345.59 1518.58 Q1341.32 1525.9 1339.25 1533.06 Q1337.18 1540.23 1337.18 1547.58 Q1337.18 1554.93 1339.25 1562.16 Q1341.35 1569.35 1345.59 1576.64 L1340.49 1576.64 Q1335.72 1569.16 1333.33 1561.93 Q1330.98 1554.71 1330.98 1547.58 Q1330.98 1540.48 1333.33 1533.29 Q1335.69 1526.09 1340.49 1518.58 L1345.59 1518.58 Z\" fill=\"#000000\" fill-rule=\"evenodd\" fill-opacity=\"1\" /><path clip-path=\"url(#clip250)\" d=\"M1379.68 1533.45 L1379.68 1538.98 Q1377.19 1537.71 1374.52 1537.07 Q1371.85 1536.44 1368.98 1536.44 Q1364.62 1536.44 1362.42 1537.77 Q1360.26 1539.11 1360.26 1541.79 Q1360.26 1543.82 1361.82 1545 Q1363.38 1546.15 1368.09 1547.2 L1370.1 1547.64 Q1376.33 1548.98 1378.94 1551.43 Q1381.59 1553.85 1381.59 1558.21 Q1381.59 1563.17 1377.64 1566.07 Q1373.72 1568.97 1366.85 1568.97 Q1363.98 1568.97 1360.87 1568.39 Q1357.78 1567.85 1354.34 1566.74 L1354.34 1560.69 Q1357.59 1562.38 1360.74 1563.24 Q1363.89 1564.07 1366.98 1564.07 Q1371.11 1564.07 1373.34 1562.66 Q1375.57 1561.23 1375.57 1558.65 Q1375.57 1556.27 1373.95 1554.99 Q1372.36 1553.72 1366.91 1552.54 L1364.88 1552.07 Q1359.43 1550.92 1357.01 1548.56 Q1354.59 1546.18 1354.59 1542.04 Q1354.59 1537.01 1358.16 1534.27 Q1361.72 1531.54 1368.28 1531.54 Q1371.53 1531.54 1374.39 1532.01 Q1377.26 1532.49 1379.68 1533.45 Z\" fill=\"#000000\" fill-rule=\"evenodd\" fill-opacity=\"1\" /><path clip-path=\"url(#clip250)\" d=\"M1389.99 1518.58 L1395.08 1518.58 Q1399.86 1526.09 1402.21 1533.29 Q1404.6 1540.48 1404.6 1547.58 Q1404.6 1554.71 1402.21 1561.93 Q1399.86 1569.16 1395.08 1576.64 L1389.99 1576.64 Q1394.22 1569.35 1396.29 1562.16 Q1398.39 1554.93 1398.39 1547.58 Q1398.39 1540.23 1396.29 1533.06 Q1394.22 1525.9 1389.99 1518.58 Z\" fill=\"#000000\" fill-rule=\"evenodd\" fill-opacity=\"1\" /><polyline clip-path=\"url(#clip252)\" style=\"stroke:#000000; stroke-linecap:round; stroke-linejoin:round; stroke-width:2; stroke-opacity:0.1; fill:none\" points=\"210.977,1363.8 2352.76,1363.8 \"/>\n<polyline clip-path=\"url(#clip252)\" style=\"stroke:#000000; stroke-linecap:round; stroke-linejoin:round; stroke-width:2; stroke-opacity:0.1; fill:none\" points=\"210.977,1123.09 2352.76,1123.09 \"/>\n<polyline clip-path=\"url(#clip252)\" style=\"stroke:#000000; stroke-linecap:round; stroke-linejoin:round; stroke-width:2; stroke-opacity:0.1; fill:none\" points=\"210.977,882.382 2352.76,882.382 \"/>\n<polyline clip-path=\"url(#clip252)\" style=\"stroke:#000000; stroke-linecap:round; stroke-linejoin:round; stroke-width:2; stroke-opacity:0.1; fill:none\" points=\"210.977,641.673 2352.76,641.673 \"/>\n<polyline clip-path=\"url(#clip252)\" style=\"stroke:#000000; stroke-linecap:round; stroke-linejoin:round; stroke-width:2; stroke-opacity:0.1; fill:none\" points=\"210.977,400.965 2352.76,400.965 \"/>\n<polyline clip-path=\"url(#clip252)\" style=\"stroke:#000000; stroke-linecap:round; stroke-linejoin:round; stroke-width:2; stroke-opacity:0.1; fill:none\" points=\"210.977,160.256 2352.76,160.256 \"/>\n<polyline clip-path=\"url(#clip250)\" style=\"stroke:#000000; stroke-linecap:round; stroke-linejoin:round; stroke-width:4; stroke-opacity:1; fill:none\" points=\"210.977,1423.18 210.977,123.472 \"/>\n<polyline clip-path=\"url(#clip250)\" style=\"stroke:#000000; stroke-linecap:round; stroke-linejoin:round; stroke-width:4; stroke-opacity:1; fill:none\" points=\"210.977,1363.8 229.875,1363.8 \"/>\n<polyline clip-path=\"url(#clip250)\" style=\"stroke:#000000; stroke-linecap:round; stroke-linejoin:round; stroke-width:4; stroke-opacity:1; fill:none\" points=\"210.977,1123.09 229.875,1123.09 \"/>\n<polyline clip-path=\"url(#clip250)\" style=\"stroke:#000000; stroke-linecap:round; stroke-linejoin:round; stroke-width:4; stroke-opacity:1; fill:none\" points=\"210.977,882.382 229.875,882.382 \"/>\n<polyline clip-path=\"url(#clip250)\" style=\"stroke:#000000; stroke-linecap:round; stroke-linejoin:round; stroke-width:4; stroke-opacity:1; fill:none\" points=\"210.977,641.673 229.875,641.673 \"/>\n<polyline clip-path=\"url(#clip250)\" style=\"stroke:#000000; stroke-linecap:round; stroke-linejoin:round; stroke-width:4; stroke-opacity:1; fill:none\" points=\"210.977,400.965 229.875,400.965 \"/>\n<polyline clip-path=\"url(#clip250)\" style=\"stroke:#000000; stroke-linecap:round; stroke-linejoin:round; stroke-width:4; stroke-opacity:1; fill:none\" points=\"210.977,160.256 229.875,160.256 \"/>\n<path clip-path=\"url(#clip250)\" d=\"M114.26 1364.25 L143.936 1364.25 L143.936 1368.18 L114.26 1368.18 L114.26 1364.25 Z\" fill=\"#000000\" fill-rule=\"evenodd\" fill-opacity=\"1\" /><path clip-path=\"url(#clip250)\" d=\"M154.075 1346.52 L172.431 1346.52 L172.431 1350.45 L158.357 1350.45 L158.357 1358.93 Q159.376 1358.58 160.394 1358.42 Q161.413 1358.23 162.431 1358.23 Q168.218 1358.23 171.598 1361.4 Q174.977 1364.57 174.977 1369.99 Q174.977 1375.57 171.505 1378.67 Q168.033 1381.75 161.714 1381.75 Q159.538 1381.75 157.269 1381.38 Q155.024 1381.01 152.616 1380.27 L152.616 1375.57 Q154.7 1376.7 156.922 1377.26 Q159.144 1377.81 161.621 1377.81 Q165.626 1377.81 167.964 1375.71 Q170.302 1373.6 170.302 1369.99 Q170.302 1366.38 167.964 1364.27 Q165.626 1362.17 161.621 1362.17 Q159.746 1362.17 157.871 1362.58 Q156.019 1363 154.075 1363.88 L154.075 1346.52 Z\" fill=\"#000000\" fill-rule=\"evenodd\" fill-opacity=\"1\" /><path clip-path=\"url(#clip250)\" d=\"M163.033 1108.89 Q159.422 1108.89 157.593 1112.45 Q155.788 1116 155.788 1123.12 Q155.788 1130.23 157.593 1133.8 Q159.422 1137.34 163.033 1137.34 Q166.667 1137.34 168.473 1133.8 Q170.302 1130.23 170.302 1123.12 Q170.302 1116 168.473 1112.45 Q166.667 1108.89 163.033 1108.89 M163.033 1105.19 Q168.843 1105.19 171.899 1109.79 Q174.977 1114.37 174.977 1123.12 Q174.977 1131.85 171.899 1136.46 Q168.843 1141.04 163.033 1141.04 Q157.223 1141.04 154.144 1136.46 Q151.089 1131.85 151.089 1123.12 Q151.089 1114.37 154.144 1109.79 Q157.223 1105.19 163.033 1105.19 Z\" fill=\"#000000\" fill-rule=\"evenodd\" fill-opacity=\"1\" /><path clip-path=\"url(#clip250)\" d=\"M154.075 865.102 L172.431 865.102 L172.431 869.037 L158.357 869.037 L158.357 877.509 Q159.376 877.162 160.394 877 Q161.413 876.814 162.431 876.814 Q168.218 876.814 171.598 879.986 Q174.977 883.157 174.977 888.574 Q174.977 894.152 171.505 897.254 Q168.033 900.333 161.714 900.333 Q159.538 900.333 157.269 899.963 Q155.024 899.592 152.616 898.851 L152.616 894.152 Q154.7 895.287 156.922 895.842 Q159.144 896.398 161.621 896.398 Q165.626 896.398 167.964 894.291 Q170.302 892.185 170.302 888.574 Q170.302 884.963 167.964 882.856 Q165.626 880.75 161.621 880.75 Q159.746 880.75 157.871 881.166 Q156.019 881.583 154.075 882.463 L154.075 865.102 Z\" fill=\"#000000\" fill-rule=\"evenodd\" fill-opacity=\"1\" /><path clip-path=\"url(#clip250)\" d=\"M123.681 655.018 L131.32 655.018 L131.32 628.652 L123.01 630.319 L123.01 626.06 L131.274 624.393 L135.95 624.393 L135.95 655.018 L143.589 655.018 L143.589 658.953 L123.681 658.953 L123.681 655.018 Z\" fill=\"#000000\" fill-rule=\"evenodd\" fill-opacity=\"1\" /><path clip-path=\"url(#clip250)\" d=\"M163.033 627.472 Q159.422 627.472 157.593 631.037 Q155.788 634.578 155.788 641.708 Q155.788 648.814 157.593 652.379 Q159.422 655.921 163.033 655.921 Q166.667 655.921 168.473 652.379 Q170.302 648.814 170.302 641.708 Q170.302 634.578 168.473 631.037 Q166.667 627.472 163.033 627.472 M163.033 623.768 Q168.843 623.768 171.899 628.375 Q174.977 632.958 174.977 641.708 Q174.977 650.435 171.899 655.041 Q168.843 659.624 163.033 659.624 Q157.223 659.624 154.144 655.041 Q151.089 650.435 151.089 641.708 Q151.089 632.958 154.144 628.375 Q157.223 623.768 163.033 623.768 Z\" fill=\"#000000\" fill-rule=\"evenodd\" fill-opacity=\"1\" /><path clip-path=\"url(#clip250)\" d=\"M124.677 414.31 L132.316 414.31 L132.316 387.944 L124.005 389.611 L124.005 385.351 L132.269 383.685 L136.945 383.685 L136.945 414.31 L144.584 414.31 L144.584 418.245 L124.677 418.245 L124.677 414.31 Z\" fill=\"#000000\" fill-rule=\"evenodd\" fill-opacity=\"1\" /><path clip-path=\"url(#clip250)\" d=\"M154.075 383.685 L172.431 383.685 L172.431 387.62 L158.357 387.62 L158.357 396.092 Q159.376 395.745 160.394 395.583 Q161.413 395.398 162.431 395.398 Q168.218 395.398 171.598 398.569 Q174.977 401.74 174.977 407.157 Q174.977 412.736 171.505 415.837 Q168.033 418.916 161.714 418.916 Q159.538 418.916 157.269 418.546 Q155.024 418.175 152.616 417.435 L152.616 412.736 Q154.7 413.87 156.922 414.425 Q159.144 414.981 161.621 414.981 Q165.626 414.981 167.964 412.874 Q170.302 410.768 170.302 407.157 Q170.302 403.546 167.964 401.439 Q165.626 399.333 161.621 399.333 Q159.746 399.333 157.871 399.749 Q156.019 400.166 154.075 401.046 L154.075 383.685 Z\" fill=\"#000000\" fill-rule=\"evenodd\" fill-opacity=\"1\" /><path clip-path=\"url(#clip250)\" d=\"M126.899 173.601 L143.218 173.601 L143.218 177.536 L121.274 177.536 L121.274 173.601 Q123.936 170.847 128.519 166.217 Q133.126 161.564 134.306 160.222 Q136.552 157.698 137.431 155.962 Q138.334 154.203 138.334 152.513 Q138.334 149.759 136.39 148.023 Q134.468 146.286 131.367 146.286 Q129.167 146.286 126.714 147.05 Q124.283 147.814 121.505 149.365 L121.505 144.643 Q124.33 143.509 126.783 142.93 Q129.237 142.351 131.274 142.351 Q136.644 142.351 139.839 145.036 Q143.033 147.722 143.033 152.212 Q143.033 154.342 142.223 156.263 Q141.436 158.161 139.329 160.754 Q138.751 161.425 135.649 164.643 Q132.547 167.837 126.899 173.601 Z\" fill=\"#000000\" fill-rule=\"evenodd\" fill-opacity=\"1\" /><path clip-path=\"url(#clip250)\" d=\"M163.033 146.055 Q159.422 146.055 157.593 149.62 Q155.788 153.161 155.788 160.291 Q155.788 167.397 157.593 170.962 Q159.422 174.504 163.033 174.504 Q166.667 174.504 168.473 170.962 Q170.302 167.397 170.302 160.291 Q170.302 153.161 168.473 149.62 Q166.667 146.055 163.033 146.055 M163.033 142.351 Q168.843 142.351 171.899 146.958 Q174.977 151.541 174.977 160.291 Q174.977 169.018 171.899 173.624 Q168.843 178.208 163.033 178.208 Q157.223 178.208 154.144 173.624 Q151.089 169.018 151.089 160.291 Q151.089 151.541 154.144 146.958 Q157.223 142.351 163.033 142.351 Z\" fill=\"#000000\" fill-rule=\"evenodd\" fill-opacity=\"1\" /><path clip-path=\"url(#clip250)\" d=\"M28.3562 756.711 L45.7028 769.602 L64.0042 756.043 L64.0042 762.95 L49.9996 773.326 L64.0042 783.702 L64.0042 790.609 L45.3526 776.763 L28.3562 789.431 L28.3562 782.524 L41.0558 773.071 L28.3562 763.618 L28.3562 756.711 Z\" fill=\"#000000\" fill-rule=\"evenodd\" fill-opacity=\"1\" /><path clip-path=\"url(#clip250)\" d=\"M1054.21 14.0809 L1054.21 22.0612 Q1049.55 19.8332 1045.42 18.7395 Q1041.28 17.6457 1037.44 17.6457 Q1030.75 17.6457 1027.11 20.2383 Q1023.5 22.8309 1023.5 27.611 Q1023.5 31.6214 1025.89 33.6873 Q1028.32 35.7128 1035.05 36.9686 L1039.99 37.9813 Q1049.14 39.7232 1053.48 44.1387 Q1057.85 48.5136 1057.85 55.8863 Q1057.85 64.6767 1051.94 69.2137 Q1046.06 73.7508 1034.68 73.7508 Q1030.39 73.7508 1025.53 72.7785 Q1020.7 71.8063 1015.52 69.9024 L1015.52 61.4765 Q1020.5 64.2716 1025.28 65.6895 Q1030.06 67.1073 1034.68 67.1073 Q1041.69 67.1073 1045.5 64.3527 Q1049.3 61.598 1049.3 56.4939 Q1049.3 52.0379 1046.55 49.5264 Q1043.84 47.0148 1037.6 45.759 L1032.61 44.7868 Q1023.46 42.9639 1019.37 39.075 Q1015.28 35.1862 1015.28 28.2591 Q1015.28 20.2383 1020.91 15.6203 Q1026.58 11.0023 1036.5 11.0023 Q1040.76 11.0023 1045.17 11.7719 Q1049.59 12.5416 1054.21 14.0809 Z\" fill=\"#000000\" fill-rule=\"evenodd\" fill-opacity=\"1\" /><path clip-path=\"url(#clip250)\" d=\"M1077.66 14.324 L1077.66 27.2059 L1093.01 27.2059 L1093.01 32.9987 L1077.66 32.9987 L1077.66 57.6282 Q1077.66 63.1779 1079.16 64.7578 Q1080.7 66.3376 1085.36 66.3376 L1093.01 66.3376 L1093.01 72.576 L1085.36 72.576 Q1076.73 72.576 1073.45 69.3758 Q1070.17 66.1351 1070.17 57.6282 L1070.17 32.9987 L1064.7 32.9987 L1064.7 27.2059 L1070.17 27.2059 L1070.17 14.324 L1077.66 14.324 Z\" fill=\"#000000\" fill-rule=\"evenodd\" fill-opacity=\"1\" /><path clip-path=\"url(#clip250)\" d=\"M1123.44 49.7694 Q1114.4 49.7694 1110.92 51.8354 Q1107.43 53.9013 1107.43 58.8839 Q1107.43 62.8538 1110.03 65.2034 Q1112.66 67.5124 1117.16 67.5124 Q1123.35 67.5124 1127.08 63.1374 Q1130.85 58.7219 1130.85 51.4303 L1130.85 49.7694 L1123.44 49.7694 M1138.3 46.6907 L1138.3 72.576 L1130.85 72.576 L1130.85 65.6895 Q1128.3 69.8214 1124.49 71.8063 Q1120.68 73.7508 1115.17 73.7508 Q1108.2 73.7508 1104.07 69.8619 Q1099.98 65.9325 1099.98 59.3701 Q1099.98 51.7138 1105.09 47.825 Q1110.23 43.9361 1120.4 43.9361 L1130.85 43.9361 L1130.85 43.2069 Q1130.85 38.0623 1127.45 35.2672 Q1124.08 32.4315 1117.97 32.4315 Q1114.08 32.4315 1110.39 33.3632 Q1106.71 34.295 1103.3 36.1584 L1103.3 29.2718 Q1107.39 27.692 1111.24 26.9223 Q1115.09 26.1121 1118.74 26.1121 Q1128.58 26.1121 1133.44 31.2163 Q1138.3 36.3204 1138.3 46.6907 Z\" fill=\"#000000\" fill-rule=\"evenodd\" fill-opacity=\"1\" /><path clip-path=\"url(#clip250)\" d=\"M1161.03 14.324 L1161.03 27.2059 L1176.38 27.2059 L1176.38 32.9987 L1161.03 32.9987 L1161.03 57.6282 Q1161.03 63.1779 1162.53 64.7578 Q1164.07 66.3376 1168.72 66.3376 L1176.38 66.3376 L1176.38 72.576 L1168.72 72.576 Q1160.1 72.576 1156.82 69.3758 Q1153.53 66.1351 1153.53 57.6282 L1153.53 32.9987 L1148.07 32.9987 L1148.07 27.2059 L1153.53 27.2059 L1153.53 14.324 L1161.03 14.324 Z\" fill=\"#000000\" fill-rule=\"evenodd\" fill-opacity=\"1\" /><path clip-path=\"url(#clip250)\" d=\"M1224.99 48.0275 L1224.99 51.6733 L1190.72 51.6733 Q1191.21 59.3701 1195.34 63.421 Q1199.51 67.4314 1206.92 67.4314 Q1211.22 67.4314 1215.23 66.3781 Q1219.28 65.3249 1223.25 63.2184 L1223.25 70.267 Q1219.24 71.9684 1215.03 72.8596 Q1210.81 73.7508 1206.48 73.7508 Q1195.62 73.7508 1189.26 67.4314 Q1182.94 61.1119 1182.94 50.3365 Q1182.94 39.1965 1188.94 32.6746 Q1194.97 26.1121 1205.18 26.1121 Q1214.34 26.1121 1219.64 32.0264 Q1224.99 37.9003 1224.99 48.0275 M1217.54 45.84 Q1217.46 39.7232 1214.1 36.0774 Q1210.77 32.4315 1205.26 32.4315 Q1199.03 32.4315 1195.26 35.9558 Q1191.53 39.4801 1190.96 45.8805 L1217.54 45.84 Z\" fill=\"#000000\" fill-rule=\"evenodd\" fill-opacity=\"1\" /><path clip-path=\"url(#clip250)\" d=\"M1263.92 12.096 L1272.1 12.096 L1272.1 36.8875 L1301.84 36.8875 L1301.84 12.096 L1310.02 12.096 L1310.02 72.576 L1301.84 72.576 L1301.84 43.7741 L1272.1 43.7741 L1272.1 72.576 L1263.92 72.576 L1263.92 12.096 Z\" fill=\"#000000\" fill-rule=\"evenodd\" fill-opacity=\"1\" /><path clip-path=\"url(#clip250)\" d=\"M1325.98 27.2059 L1333.43 27.2059 L1333.43 72.576 L1325.98 72.576 L1325.98 27.2059 M1325.98 9.54393 L1333.43 9.54393 L1333.43 18.9825 L1325.98 18.9825 L1325.98 9.54393 Z\" fill=\"#000000\" fill-rule=\"evenodd\" fill-opacity=\"1\" /><path clip-path=\"url(#clip250)\" d=\"M1377.95 28.5427 L1377.95 35.5912 Q1374.79 33.9709 1371.39 33.1607 Q1367.99 32.3505 1364.34 32.3505 Q1358.79 32.3505 1356 34.0519 Q1353.24 35.7533 1353.24 39.156 Q1353.24 41.7486 1355.23 43.2475 Q1357.21 44.7058 1363.21 46.0426 L1365.76 46.6097 Q1373.7 48.3111 1377.02 51.4303 Q1380.38 54.509 1380.38 60.0587 Q1380.38 66.3781 1375.36 70.0644 Q1370.38 73.7508 1361.63 73.7508 Q1357.98 73.7508 1354.01 73.0216 Q1350.08 72.3329 1345.71 70.9151 L1345.71 63.2184 Q1349.84 65.3654 1353.85 66.4591 Q1357.86 67.5124 1361.79 67.5124 Q1367.06 67.5124 1369.89 65.73 Q1372.73 63.9071 1372.73 60.6258 Q1372.73 57.5877 1370.66 55.9673 Q1368.64 54.3469 1361.71 52.8481 L1359.12 52.2405 Q1352.19 50.7821 1349.11 47.7845 Q1346.03 44.7463 1346.03 39.4801 Q1346.03 33.0797 1350.57 29.5959 Q1355.11 26.1121 1363.45 26.1121 Q1367.58 26.1121 1371.23 26.7198 Q1374.88 27.3274 1377.95 28.5427 Z\" fill=\"#000000\" fill-rule=\"evenodd\" fill-opacity=\"1\" /><path clip-path=\"url(#clip250)\" d=\"M1399.63 14.324 L1399.63 27.2059 L1414.98 27.2059 L1414.98 32.9987 L1399.63 32.9987 L1399.63 57.6282 Q1399.63 63.1779 1401.13 64.7578 Q1402.66 66.3376 1407.32 66.3376 L1414.98 66.3376 L1414.98 72.576 L1407.32 72.576 Q1398.69 72.576 1395.41 69.3758 Q1392.13 66.1351 1392.13 57.6282 L1392.13 32.9987 L1386.66 32.9987 L1386.66 27.2059 L1392.13 27.2059 L1392.13 14.324 L1399.63 14.324 Z\" fill=\"#000000\" fill-rule=\"evenodd\" fill-opacity=\"1\" /><path clip-path=\"url(#clip250)\" d=\"M1442.36 32.4315 Q1436.37 32.4315 1432.88 37.1306 Q1429.4 41.7891 1429.4 49.9314 Q1429.4 58.0738 1432.84 62.7728 Q1436.33 67.4314 1442.36 67.4314 Q1448.32 67.4314 1451.8 62.7323 Q1455.29 58.0333 1455.29 49.9314 Q1455.29 41.8701 1451.8 37.1711 Q1448.32 32.4315 1442.36 32.4315 M1442.36 26.1121 Q1452.09 26.1121 1457.64 32.4315 Q1463.19 38.7509 1463.19 49.9314 Q1463.19 61.0714 1457.64 67.4314 Q1452.09 73.7508 1442.36 73.7508 Q1432.6 73.7508 1427.05 67.4314 Q1421.54 61.0714 1421.54 49.9314 Q1421.54 38.7509 1427.05 32.4315 Q1432.6 26.1121 1442.36 26.1121 Z\" fill=\"#000000\" fill-rule=\"evenodd\" fill-opacity=\"1\" /><path clip-path=\"url(#clip250)\" d=\"M1501.83 34.1734 Q1500.57 33.4443 1499.08 33.1202 Q1497.62 32.7556 1495.84 32.7556 Q1489.52 32.7556 1486.11 36.8875 Q1482.75 40.9789 1482.75 48.6757 L1482.75 72.576 L1475.26 72.576 L1475.26 27.2059 L1482.75 27.2059 L1482.75 34.2544 Q1485.1 30.1225 1488.87 28.1376 Q1492.64 26.1121 1498.02 26.1121 Q1498.79 26.1121 1499.72 26.2337 Q1500.66 26.3147 1501.79 26.5172 L1501.83 34.1734 Z\" fill=\"#000000\" fill-rule=\"evenodd\" fill-opacity=\"1\" /><path clip-path=\"url(#clip250)\" d=\"M1528.53 76.7889 Q1525.37 84.8907 1522.37 87.3618 Q1519.37 89.8329 1514.35 89.8329 L1508.39 89.8329 L1508.39 83.5945 L1512.77 83.5945 Q1515.85 83.5945 1517.55 82.1361 Q1519.25 80.6778 1521.32 75.2496 L1522.65 71.8468 L1504.3 27.2059 L1512.2 27.2059 L1526.38 62.6918 L1540.56 27.2059 L1548.46 27.2059 L1528.53 76.7889 Z\" fill=\"#000000\" fill-rule=\"evenodd\" fill-opacity=\"1\" /><polyline clip-path=\"url(#clip252)\" style=\"stroke:#009af9; stroke-linecap:round; stroke-linejoin:round; stroke-width:4; stroke-opacity:1; fill:none\" points=\"271.594,930.523 291.799,937.652 312.005,944.597 332.21,951.361 352.416,957.948 372.621,964.359 392.827,970.599 413.032,976.669 433.237,982.574 453.443,988.315 473.648,993.896 493.854,999.32 514.059,1004.59 534.265,1009.71 554.47,1014.68 574.676,1019.5 594.881,1024.18 615.087,1028.73 635.292,1033.13 655.497,1037.4 675.703,1041.55 695.908,1045.56 716.114,1049.45 736.319,1053.22 756.525,1056.86 776.73,1060.38 796.936,1063.79 817.141,1067.08 837.347,1070.26 857.552,1073.32 877.758,1076.27 897.963,1079.12 918.168,1081.86 938.374,1084.49 958.579,1087.02 978.785,1089.46 998.99,1091.79 1019.2,1094.02 1039.4,1096.16 1059.61,1098.21 1079.81,1100.17 1100.02,1102.03 1120.22,1103.81 1140.43,1105.51 1160.63,1107.12 1180.84,1108.65 1201.04,1110.1 1221.25,1111.47 1241.46,1112.77 1261.66,1113.99 1281.87,1115.14 1302.07,1116.22 1322.28,1117.23 1342.48,1118.17 1362.69,1119.06 1382.89,1119.87 1403.1,1120.63 1423.3,1121.33 1443.51,1121.98 1463.72,1122.56 1483.92,1123.1 1504.13,1123.58 1524.33,1124.02 1544.54,1124.41 1564.74,1124.75 1584.95,1125.05 1605.15,1125.31 1625.36,1125.52 1645.56,1125.71 1665.77,1125.85 1685.98,1125.96 1706.18,1126.04 1726.39,1126.09 1746.59,1126.11 1766.8,1126.11 1787,1126.08 1807.21,1126.03 1827.41,1125.96 1847.62,1125.87 1867.82,1125.76 1888.03,1125.64 1908.24,1125.51 1928.44,1125.36 1948.65,1125.21 1968.85,1125.05 1989.06,1124.88 2009.26,1124.71 2029.47,1124.54 2049.67,1124.37 2069.88,1124.21 2090.08,1124.05 2110.29,1123.89 2130.5,1123.74 2150.7,1123.6 2170.91,1123.48 2191.11,1123.37 2211.32,1123.27 2231.52,1123.2 2251.73,1123.14 2271.93,1123.1 2292.14,1123.09 \"/>\n<polyline clip-path=\"url(#clip252)\" style=\"stroke:#e26f46; stroke-linecap:round; stroke-linejoin:round; stroke-width:4; stroke-opacity:1; fill:none\" points=\"271.594,1026.81 291.799,1022.13 312.005,1017.71 332.21,1013.55 352.416,1009.65 372.621,1006 392.827,1002.59 413.032,999.411 433.237,996.469 453.443,993.753 473.648,991.258 493.854,988.978 514.059,986.909 534.265,985.045 554.47,983.379 574.676,981.908 594.881,980.625 615.087,979.525 635.292,978.603 655.497,977.853 675.703,977.271 695.908,976.85 716.114,976.588 736.319,976.479 756.525,976.521 776.73,976.709 796.936,977.039 817.141,977.508 837.347,978.112 857.552,978.846 877.758,979.707 897.963,980.691 918.168,981.794 938.374,983.012 958.579,984.342 978.785,985.778 998.99,987.319 1019.2,988.958 1039.4,990.694 1059.61,992.521 1079.81,994.436 1100.02,996.435 1120.22,998.514 1140.43,1000.67 1160.63,1002.9 1180.84,1005.19 1201.04,1007.55 1221.25,1009.97 1241.46,1012.45 1261.66,1014.98 1281.87,1017.56 1302.07,1020.19 1322.28,1022.85 1342.48,1025.56 1362.69,1028.29 1382.89,1031.06 1403.1,1033.85 1423.3,1036.66 1443.51,1039.49 1463.72,1042.34 1483.92,1045.2 1504.13,1048.06 1524.33,1050.92 1544.54,1053.78 1564.74,1056.64 1584.95,1059.49 1605.15,1062.32 1625.36,1065.14 1645.56,1067.94 1665.77,1070.71 1685.98,1073.45 1706.18,1076.16 1726.39,1078.83 1746.59,1081.47 1766.8,1084.05 1787,1086.6 1807.21,1089.08 1827.41,1091.52 1847.62,1093.89 1867.82,1096.2 1888.03,1098.44 1908.24,1100.61 1928.44,1102.7 1948.65,1104.72 1968.85,1106.65 1989.06,1108.5 2009.26,1110.25 2029.47,1111.91 2049.67,1113.47 2069.88,1114.93 2090.08,1116.28 2110.29,1117.52 2130.5,1118.65 2150.7,1119.66 2170.91,1120.55 2191.11,1121.31 2211.32,1121.94 2231.52,1122.44 2251.73,1122.8 2271.93,1123.02 2292.14,1123.09 \"/>\n<polyline clip-path=\"url(#clip252)\" style=\"stroke:#3da44d; stroke-linecap:round; stroke-linejoin:round; stroke-width:4; stroke-opacity:1; fill:none\" points=\"271.594,160.256 291.799,172.344 312.005,184.533 332.21,196.82 352.416,209.198 372.621,221.662 392.827,234.208 413.032,246.831 433.237,259.525 453.443,272.285 473.648,285.106 493.854,297.984 514.059,310.913 534.265,323.888 554.47,336.904 574.676,349.956 594.881,363.039 615.087,376.148 635.292,389.278 655.497,402.424 675.703,415.581 695.908,428.744 716.114,441.909 736.319,455.072 756.525,468.228 776.73,481.372 796.936,494.501 817.141,507.61 837.347,520.696 857.552,533.752 877.758,546.776 897.963,559.763 918.168,572.709 938.374,585.609 958.579,598.459 978.785,611.255 998.99,623.992 1019.2,636.667 1039.4,649.274 1059.61,661.811 1079.81,674.272 1100.02,686.653 1120.22,698.949 1140.43,711.158 1160.63,723.274 1180.84,735.293 1201.04,747.211 1221.25,759.023 1241.46,770.726 1261.66,782.315 1281.87,793.785 1302.07,805.134 1322.28,816.355 1342.48,827.446 1362.69,838.402 1382.89,849.218 1403.1,859.891 1423.3,870.416 1443.51,880.788 1463.72,891.005 1483.92,901.061 1504.13,910.952 1524.33,920.674 1544.54,930.223 1564.74,939.594 1584.95,948.784 1605.15,957.787 1625.36,966.601 1645.56,975.22 1665.77,983.64 1685.98,991.858 1706.18,999.868 1726.39,1007.67 1746.59,1015.25 1766.8,1022.62 1787,1029.76 1807.21,1036.67 1827.41,1043.35 1847.62,1049.79 1867.82,1055.99 1888.03,1061.95 1908.24,1067.65 1928.44,1073.11 1948.65,1078.3 1968.85,1083.24 1989.06,1087.9 2009.26,1092.3 2029.47,1096.42 2049.67,1100.27 2069.88,1103.83 2090.08,1107.1 2110.29,1110.08 2130.5,1112.77 2150.7,1115.15 2170.91,1117.23 2191.11,1119.01 2211.32,1120.46 2231.52,1121.61 2251.73,1122.43 2271.93,1122.92 2292.14,1123.09 \"/>\n<polyline clip-path=\"url(#clip252)\" style=\"stroke:#c271d2; stroke-linecap:round; stroke-linejoin:round; stroke-width:4; stroke-opacity:1; fill:none\" points=\"271.594,1267.52 291.799,1263.81 312.005,1260.17 332.21,1256.58 352.416,1253.06 372.621,1249.59 392.827,1246.18 413.032,1242.82 433.237,1239.53 453.443,1236.3 473.648,1233.12 493.854,1230.01 514.059,1226.95 534.265,1223.95 554.47,1221.01 574.676,1218.14 594.881,1215.32 615.087,1212.56 635.292,1209.86 655.497,1207.23 675.703,1204.65 695.908,1202.12 716.114,1199.63 736.319,1197.18 756.525,1194.76 776.73,1192.38 796.936,1190.04 817.141,1187.74 837.347,1185.48 857.552,1183.26 877.758,1181.07 897.963,1178.92 918.168,1176.81 938.374,1174.74 958.579,1172.71 978.785,1170.71 998.99,1168.76 1019.2,1166.84 1039.4,1164.96 1059.61,1163.12 1079.81,1161.31 1100.02,1159.55 1120.22,1157.82 1140.43,1156.13 1160.63,1154.48 1180.84,1152.87 1201.04,1151.29 1221.25,1149.76 1241.46,1148.26 1261.66,1146.8 1281.87,1145.38 1302.07,1144 1322.28,1142.65 1342.48,1141.35 1362.69,1140.08 1382.89,1138.85 1403.1,1137.66 1423.3,1136.5 1443.51,1135.39 1463.72,1134.31 1483.92,1133.27 1504.13,1132.27 1524.33,1131.31 1544.54,1130.39 1564.74,1129.5 1584.95,1128.65 1605.15,1127.85 1625.36,1127.07 1645.56,1126.34 1665.77,1125.65 1685.98,1124.99 1706.18,1124.37 1726.39,1123.79 1746.59,1123.25 1766.8,1122.75 1787,1122.28 1807.21,1121.86 1827.41,1121.47 1847.62,1121.12 1867.82,1120.81 1888.03,1120.53 1908.24,1120.3 1928.44,1120.1 1948.65,1119.94 1968.85,1119.82 1989.06,1119.74 2009.26,1119.69 2029.47,1119.69 2049.67,1119.72 2069.88,1119.79 2090.08,1119.9 2110.29,1120.05 2130.5,1120.23 2150.7,1120.45 2170.91,1120.72 2191.11,1121.02 2211.32,1121.35 2231.52,1121.73 2251.73,1122.15 2271.93,1122.6 2292.14,1123.09 \"/>\n<polyline clip-path=\"url(#clip252)\" style=\"stroke:#ac8d18; stroke-linecap:round; stroke-linejoin:round; stroke-width:4; stroke-opacity:1; fill:none\" points=\"271.594,1026.81 291.799,1032.16 312.005,1037.4 332.21,1042.53 352.416,1047.55 372.621,1052.46 392.827,1057.26 413.032,1061.95 433.237,1066.53 453.443,1071.01 473.648,1075.37 493.854,1079.63 514.059,1083.78 534.265,1087.82 554.47,1091.75 574.676,1095.57 594.881,1099.29 615.087,1102.9 635.292,1106.4 655.497,1109.79 675.703,1113.08 695.908,1116.28 716.114,1119.4 736.319,1122.44 756.525,1125.41 776.73,1128.29 796.936,1131.1 817.141,1133.83 837.347,1136.49 857.552,1139.06 877.758,1141.56 897.963,1143.98 918.168,1146.32 938.374,1148.58 958.579,1150.77 978.785,1152.88 998.99,1154.91 1019.2,1156.86 1039.4,1158.73 1059.61,1160.53 1079.81,1162.25 1100.02,1163.89 1120.22,1165.45 1140.43,1166.94 1160.63,1168.34 1180.84,1169.67 1201.04,1170.92 1221.25,1172.1 1241.46,1173.19 1261.66,1174.21 1281.87,1175.15 1302.07,1176.01 1322.28,1176.8 1342.48,1177.51 1362.69,1178.14 1382.89,1178.69 1403.1,1179.16 1423.3,1179.56 1443.51,1179.88 1463.72,1180.12 1483.92,1180.28 1504.13,1180.36 1524.33,1180.37 1544.54,1180.3 1564.74,1180.15 1584.95,1179.93 1605.15,1179.63 1625.36,1179.24 1645.56,1178.79 1665.77,1178.25 1685.98,1177.64 1706.18,1176.94 1726.39,1176.17 1746.59,1175.33 1766.8,1174.4 1787,1173.4 1807.21,1172.32 1827.41,1171.16 1847.62,1169.93 1867.82,1168.61 1888.03,1167.22 1908.24,1165.75 1928.44,1164.21 1948.65,1162.58 1968.85,1160.88 1989.06,1159.1 2009.26,1157.25 2029.47,1155.31 2049.67,1153.3 2069.88,1151.21 2090.08,1149.04 2110.29,1146.8 2130.5,1144.47 2150.7,1142.07 2170.91,1139.59 2191.11,1137.04 2211.32,1134.4 2231.52,1131.69 2251.73,1128.9 2271.93,1126.04 2292.14,1123.09 \"/>\n<polyline clip-path=\"url(#clip252)\" style=\"stroke:#00a9ad; stroke-linecap:round; stroke-linejoin:round; stroke-width:4; stroke-opacity:1; fill:none\" points=\"271.594,1363.8 291.799,1365.89 312.005,1367.87 332.21,1369.76 352.416,1371.54 372.621,1373.22 392.827,1374.8 413.032,1376.28 433.237,1377.66 453.443,1378.93 473.648,1380.11 493.854,1381.18 514.059,1382.15 534.265,1383.02 554.47,1383.8 574.676,1384.47 594.881,1385.04 615.087,1385.51 635.292,1385.88 655.497,1386.15 675.703,1386.32 695.908,1386.4 716.114,1386.39 736.319,1386.29 756.525,1386.11 776.73,1385.85 796.936,1385.49 817.141,1385.05 837.347,1384.53 857.552,1383.92 877.758,1383.22 897.963,1382.44 918.168,1381.57 938.374,1380.61 958.579,1379.57 978.785,1378.44 998.99,1377.23 1019.2,1375.93 1039.4,1374.55 1059.61,1373.08 1079.81,1371.53 1100.02,1369.89 1120.22,1368.16 1140.43,1366.35 1160.63,1364.46 1180.84,1362.48 1201.04,1360.41 1221.25,1358.26 1241.46,1356.03 1261.66,1353.71 1281.87,1351.3 1302.07,1348.81 1322.28,1346.24 1342.48,1343.58 1362.69,1340.83 1382.89,1338 1403.1,1335.09 1423.3,1332.09 1443.51,1329 1463.72,1325.83 1483.92,1322.58 1504.13,1319.24 1524.33,1315.82 1544.54,1312.31 1564.74,1308.72 1584.95,1305.04 1605.15,1301.28 1625.36,1297.44 1645.56,1293.51 1665.77,1289.49 1685.98,1285.39 1706.18,1281.21 1726.39,1276.94 1746.59,1272.59 1766.8,1268.15 1787,1263.63 1807.21,1259.02 1827.41,1254.33 1847.62,1249.55 1867.82,1244.69 1888.03,1239.75 1908.24,1234.72 1928.44,1229.61 1948.65,1224.41 1968.85,1219.12 1989.06,1213.76 2009.26,1208.3 2029.47,1202.77 2049.67,1197.15 2069.88,1191.44 2090.08,1185.65 2110.29,1179.78 2130.5,1173.82 2150.7,1167.77 2170.91,1161.64 2191.11,1155.43 2211.32,1149.13 2231.52,1142.75 2251.73,1136.28 2271.93,1129.73 2292.14,1123.09 \"/>\n<path clip-path=\"url(#clip250)\" d=\"M2023.9 529.676 L2281.36 529.676 L2281.36 166.796 L2023.9 166.796  Z\" fill=\"#ffffff\" fill-rule=\"evenodd\" fill-opacity=\"1\"/>\n<polyline clip-path=\"url(#clip250)\" style=\"stroke:#000000; stroke-linecap:round; stroke-linejoin:round; stroke-width:4; stroke-opacity:1; fill:none\" points=\"2023.9,529.676 2281.36,529.676 2281.36,166.796 2023.9,166.796 2023.9,529.676 \"/>\n<polyline clip-path=\"url(#clip250)\" style=\"stroke:#009af9; stroke-linecap:round; stroke-linejoin:round; stroke-width:4; stroke-opacity:1; fill:none\" points=\"2047.7,218.636 2190.48,218.636 \"/>\n<path clip-path=\"url(#clip250)\" d=\"M2238.93 209.99 L2229.56 222.606 L2239.42 235.916 L2234.39 235.916 L2226.85 225.731 L2219.3 235.916 L2214.28 235.916 L2224.35 222.351 L2215.14 209.99 L2220.16 209.99 L2227.03 219.226 L2233.91 209.99 L2238.93 209.99 Z\" fill=\"#000000\" fill-rule=\"evenodd\" fill-opacity=\"1\" /><path clip-path=\"url(#clip250)\" d=\"M2244.58 233.369 L2249.3 233.369 L2249.3 219.226 L2244.14 220.175 L2244.14 217.49 L2249.46 216.587 L2252.64 216.587 L2252.64 233.369 L2257.38 233.369 L2257.38 235.916 L2244.58 235.916 L2244.58 233.369 Z\" fill=\"#000000\" fill-rule=\"evenodd\" fill-opacity=\"1\" /><polyline clip-path=\"url(#clip250)\" style=\"stroke:#e26f46; stroke-linecap:round; stroke-linejoin:round; stroke-width:4; stroke-opacity:1; fill:none\" points=\"2047.7,270.476 2190.48,270.476 \"/>\n<path clip-path=\"url(#clip250)\" d=\"M2238.93 261.83 L2229.56 274.446 L2239.42 287.756 L2234.39 287.756 L2226.85 277.571 L2219.3 287.756 L2214.28 287.756 L2224.35 274.191 L2215.14 261.83 L2220.16 261.83 L2227.03 271.066 L2233.91 261.83 L2238.93 261.83 Z\" fill=\"#000000\" fill-rule=\"evenodd\" fill-opacity=\"1\" /><path clip-path=\"url(#clip250)\" d=\"M2247.17 285.117 L2256.99 285.117 L2256.99 287.756 L2243.14 287.756 L2243.14 285.209 Q2243.93 284.492 2245.39 283.196 Q2253.35 276.135 2253.35 273.959 Q2253.35 272.432 2252.15 271.506 Q2250.95 270.557 2248.98 270.557 Q2247.77 270.557 2246.36 270.973 Q2244.95 271.367 2243.28 272.177 L2243.28 269.33 Q2245.07 268.682 2246.59 268.358 Q2248.14 268.034 2249.46 268.034 Q2252.82 268.034 2254.83 269.561 Q2256.85 271.089 2256.85 273.589 Q2256.85 276.807 2249.19 283.381 Q2247.89 284.492 2247.17 285.117 Z\" fill=\"#000000\" fill-rule=\"evenodd\" fill-opacity=\"1\" /><polyline clip-path=\"url(#clip250)\" style=\"stroke:#3da44d; stroke-linecap:round; stroke-linejoin:round; stroke-width:4; stroke-opacity:1; fill:none\" points=\"2047.7,322.316 2190.48,322.316 \"/>\n<path clip-path=\"url(#clip250)\" d=\"M2238.93 313.67 L2229.56 326.286 L2239.42 339.596 L2234.39 339.596 L2226.85 329.411 L2219.3 339.596 L2214.28 339.596 L2224.35 326.031 L2215.14 313.67 L2220.16 313.67 L2227.03 322.906 L2233.91 313.67 L2238.93 313.67 Z\" fill=\"#000000\" fill-rule=\"evenodd\" fill-opacity=\"1\" /><path clip-path=\"url(#clip250)\" d=\"M2253.1 329.133 Q2255.23 329.549 2256.39 330.823 Q2257.57 332.073 2257.57 333.971 Q2257.57 336.841 2255.37 338.392 Q2253.17 339.943 2249.07 339.943 Q2247.75 339.943 2246.29 339.688 Q2244.86 339.457 2243.24 338.994 L2243.24 336.193 Q2244.44 336.818 2245.81 337.119 Q2247.2 337.42 2248.75 337.42 Q2251.27 337.42 2252.66 336.517 Q2254.05 335.591 2254.05 333.971 Q2254.05 332.258 2252.75 331.378 Q2251.48 330.499 2248.98 330.499 L2246.99 330.499 L2246.99 327.999 L2249.16 327.999 Q2251.34 327.999 2252.45 327.281 Q2253.58 326.54 2253.58 325.151 Q2253.58 323.809 2252.43 323.114 Q2251.27 322.397 2249.07 322.397 Q2248.14 322.397 2246.96 322.605 Q2245.78 322.813 2243.91 323.346 L2243.91 320.684 Q2245.6 320.29 2247.08 320.082 Q2248.56 319.874 2249.83 319.874 Q2253.17 319.874 2255.11 321.239 Q2257.08 322.605 2257.08 324.897 Q2257.08 326.494 2256.04 327.605 Q2255 328.716 2253.1 329.133 Z\" fill=\"#000000\" fill-rule=\"evenodd\" fill-opacity=\"1\" /><polyline clip-path=\"url(#clip250)\" style=\"stroke:#c271d2; stroke-linecap:round; stroke-linejoin:round; stroke-width:4; stroke-opacity:1; fill:none\" points=\"2047.7,374.156 2190.48,374.156 \"/>\n<path clip-path=\"url(#clip250)\" d=\"M2238.93 365.51 L2229.56 378.126 L2239.42 391.436 L2234.39 391.436 L2226.85 381.251 L2219.3 391.436 L2214.28 391.436 L2224.35 377.871 L2215.14 365.51 L2220.16 365.51 L2227.03 374.746 L2233.91 365.51 L2238.93 365.51 Z\" fill=\"#000000\" fill-rule=\"evenodd\" fill-opacity=\"1\" /><path clip-path=\"url(#clip250)\" d=\"M2226.94 355.417 L2231.2 355.417 L2231.2 360.811 L2226.94 360.811 L2226.94 355.417 M2229.12 364.885 L2229.12 364.885 Z\" fill=\"#000000\" fill-rule=\"evenodd\" fill-opacity=\"1\" /><path clip-path=\"url(#clip250)\" d=\"M2244.58 388.889 L2249.3 388.889 L2249.3 374.746 L2244.14 375.695 L2244.14 373.01 L2249.46 372.107 L2252.64 372.107 L2252.64 388.889 L2257.38 388.889 L2257.38 391.436 L2244.58 391.436 L2244.58 388.889 Z\" fill=\"#000000\" fill-rule=\"evenodd\" fill-opacity=\"1\" /><polyline clip-path=\"url(#clip250)\" style=\"stroke:#ac8d18; stroke-linecap:round; stroke-linejoin:round; stroke-width:4; stroke-opacity:1; fill:none\" points=\"2047.7,425.996 2190.48,425.996 \"/>\n<path clip-path=\"url(#clip250)\" d=\"M2238.93 417.35 L2229.56 429.966 L2239.42 443.276 L2234.39 443.276 L2226.85 433.091 L2219.3 443.276 L2214.28 443.276 L2224.35 429.711 L2215.14 417.35 L2220.16 417.35 L2227.03 426.586 L2233.91 417.35 L2238.93 417.35 Z\" fill=\"#000000\" fill-rule=\"evenodd\" fill-opacity=\"1\" /><path clip-path=\"url(#clip250)\" d=\"M2226.94 407.257 L2231.2 407.257 L2231.2 412.651 L2226.94 412.651 L2226.94 407.257 M2229.12 416.725 L2229.12 416.725 Z\" fill=\"#000000\" fill-rule=\"evenodd\" fill-opacity=\"1\" /><path clip-path=\"url(#clip250)\" d=\"M2247.17 440.637 L2256.99 440.637 L2256.99 443.276 L2243.14 443.276 L2243.14 440.729 Q2243.93 440.012 2245.39 438.716 Q2253.35 431.655 2253.35 429.479 Q2253.35 427.952 2252.15 427.026 Q2250.95 426.077 2248.98 426.077 Q2247.77 426.077 2246.36 426.493 Q2244.95 426.887 2243.28 427.697 L2243.28 424.85 Q2245.07 424.202 2246.59 423.878 Q2248.14 423.554 2249.46 423.554 Q2252.82 423.554 2254.83 425.081 Q2256.85 426.609 2256.85 429.109 Q2256.85 432.327 2249.19 438.901 Q2247.89 440.012 2247.17 440.637 Z\" fill=\"#000000\" fill-rule=\"evenodd\" fill-opacity=\"1\" /><polyline clip-path=\"url(#clip250)\" style=\"stroke:#00a9ad; stroke-linecap:round; stroke-linejoin:round; stroke-width:4; stroke-opacity:1; fill:none\" points=\"2047.7,477.836 2190.48,477.836 \"/>\n<path clip-path=\"url(#clip250)\" d=\"M2238.93 469.19 L2229.56 481.806 L2239.42 495.116 L2234.39 495.116 L2226.85 484.931 L2219.3 495.116 L2214.28 495.116 L2224.35 481.551 L2215.14 469.19 L2220.16 469.19 L2227.03 478.426 L2233.91 469.19 L2238.93 469.19 Z\" fill=\"#000000\" fill-rule=\"evenodd\" fill-opacity=\"1\" /><path clip-path=\"url(#clip250)\" d=\"M2226.94 459.097 L2231.2 459.097 L2231.2 464.491 L2226.94 464.491 L2226.94 459.097 M2229.12 468.565 L2229.12 468.565 Z\" fill=\"#000000\" fill-rule=\"evenodd\" fill-opacity=\"1\" /><path clip-path=\"url(#clip250)\" d=\"M2253.1 484.653 Q2255.23 485.069 2256.39 486.343 Q2257.57 487.593 2257.57 489.491 Q2257.57 492.361 2255.37 493.912 Q2253.17 495.463 2249.07 495.463 Q2247.75 495.463 2246.29 495.208 Q2244.86 494.977 2243.24 494.514 L2243.24 491.713 Q2244.44 492.338 2245.81 492.639 Q2247.2 492.94 2248.75 492.94 Q2251.27 492.94 2252.66 492.037 Q2254.05 491.111 2254.05 489.491 Q2254.05 487.778 2252.75 486.898 Q2251.48 486.019 2248.98 486.019 L2246.99 486.019 L2246.99 483.519 L2249.16 483.519 Q2251.34 483.519 2252.45 482.801 Q2253.58 482.06 2253.58 480.671 Q2253.58 479.329 2252.43 478.634 Q2251.27 477.917 2249.07 477.917 Q2248.14 477.917 2246.96 478.125 Q2245.78 478.333 2243.91 478.866 L2243.91 476.204 Q2245.6 475.81 2247.08 475.602 Q2248.56 475.394 2249.83 475.394 Q2253.17 475.394 2255.11 476.759 Q2257.08 478.125 2257.08 480.417 Q2257.08 482.014 2256.04 483.125 Q2255 484.236 2253.1 484.653 Z\" fill=\"#000000\" fill-rule=\"evenodd\" fill-opacity=\"1\" /></svg>\n",
      "text/html": [
       "<?xml version=\"1.0\" encoding=\"utf-8\"?>\n",
       "<svg xmlns=\"http://www.w3.org/2000/svg\" xmlns:xlink=\"http://www.w3.org/1999/xlink\" width=\"600\" height=\"400\" viewBox=\"0 0 2400 1600\">\n",
       "<defs>\n",
       "  <clipPath id=\"clip300\">\n",
       "    <rect x=\"0\" y=\"0\" width=\"2400\" height=\"1600\"/>\n",
       "  </clipPath>\n",
       "</defs>\n",
       "<path clip-path=\"url(#clip300)\" d=\"M0 1600 L2400 1600 L2400 0 L0 0  Z\" fill=\"#ffffff\" fill-rule=\"evenodd\" fill-opacity=\"1\"/>\n",
       "<defs>\n",
       "  <clipPath id=\"clip301\">\n",
       "    <rect x=\"480\" y=\"0\" width=\"1681\" height=\"1600\"/>\n",
       "  </clipPath>\n",
       "</defs>\n",
       "<path clip-path=\"url(#clip300)\" d=\"M210.977 1423.18 L2352.76 1423.18 L2352.76 123.472 L210.977 123.472  Z\" fill=\"#ffffff\" fill-rule=\"evenodd\" fill-opacity=\"1\"/>\n",
       "<defs>\n",
       "  <clipPath id=\"clip302\">\n",
       "    <rect x=\"210\" y=\"123\" width=\"2143\" height=\"1301\"/>\n",
       "  </clipPath>\n",
       "</defs>\n",
       "<polyline clip-path=\"url(#clip302)\" style=\"stroke:#000000; stroke-linecap:round; stroke-linejoin:round; stroke-width:2; stroke-opacity:0.1; fill:none\" points=\"271.594,1423.18 271.594,123.472 \"/>\n",
       "<polyline clip-path=\"url(#clip302)\" style=\"stroke:#000000; stroke-linecap:round; stroke-linejoin:round; stroke-width:2; stroke-opacity:0.1; fill:none\" points=\"776.73,1423.18 776.73,123.472 \"/>\n",
       "<polyline clip-path=\"url(#clip302)\" style=\"stroke:#000000; stroke-linecap:round; stroke-linejoin:round; stroke-width:2; stroke-opacity:0.1; fill:none\" points=\"1281.87,1423.18 1281.87,123.472 \"/>\n",
       "<polyline clip-path=\"url(#clip302)\" style=\"stroke:#000000; stroke-linecap:round; stroke-linejoin:round; stroke-width:2; stroke-opacity:0.1; fill:none\" points=\"1787,1423.18 1787,123.472 \"/>\n",
       "<polyline clip-path=\"url(#clip302)\" style=\"stroke:#000000; stroke-linecap:round; stroke-linejoin:round; stroke-width:2; stroke-opacity:0.1; fill:none\" points=\"2292.14,1423.18 2292.14,123.472 \"/>\n",
       "<polyline clip-path=\"url(#clip300)\" style=\"stroke:#000000; stroke-linecap:round; stroke-linejoin:round; stroke-width:4; stroke-opacity:1; fill:none\" points=\"210.977,1423.18 2352.76,1423.18 \"/>\n",
       "<polyline clip-path=\"url(#clip300)\" style=\"stroke:#000000; stroke-linecap:round; stroke-linejoin:round; stroke-width:4; stroke-opacity:1; fill:none\" points=\"271.594,1423.18 271.594,1404.28 \"/>\n",
       "<polyline clip-path=\"url(#clip300)\" style=\"stroke:#000000; stroke-linecap:round; stroke-linejoin:round; stroke-width:4; stroke-opacity:1; fill:none\" points=\"776.73,1423.18 776.73,1404.28 \"/>\n",
       "<polyline clip-path=\"url(#clip300)\" style=\"stroke:#000000; stroke-linecap:round; stroke-linejoin:round; stroke-width:4; stroke-opacity:1; fill:none\" points=\"1281.87,1423.18 1281.87,1404.28 \"/>\n",
       "<polyline clip-path=\"url(#clip300)\" style=\"stroke:#000000; stroke-linecap:round; stroke-linejoin:round; stroke-width:4; stroke-opacity:1; fill:none\" points=\"1787,1423.18 1787,1404.28 \"/>\n",
       "<polyline clip-path=\"url(#clip300)\" style=\"stroke:#000000; stroke-linecap:round; stroke-linejoin:round; stroke-width:4; stroke-opacity:1; fill:none\" points=\"2292.14,1423.18 2292.14,1404.28 \"/>\n",
       "<path clip-path=\"url(#clip300)\" d=\"M248.978 1454.1 Q245.367 1454.1 243.538 1457.66 Q241.733 1461.2 241.733 1468.33 Q241.733 1475.44 243.538 1479.01 Q245.367 1482.55 248.978 1482.55 Q252.612 1482.55 254.418 1479.01 Q256.247 1475.44 256.247 1468.33 Q256.247 1461.2 254.418 1457.66 Q252.612 1454.1 248.978 1454.1 M248.978 1450.39 Q254.788 1450.39 257.844 1455 Q260.923 1459.58 260.923 1468.33 Q260.923 1477.06 257.844 1481.67 Q254.788 1486.25 248.978 1486.25 Q243.168 1486.25 240.089 1481.67 Q237.034 1477.06 237.034 1468.33 Q237.034 1459.58 240.089 1455 Q243.168 1450.39 248.978 1450.39 Z\" fill=\"#000000\" fill-rule=\"evenodd\" fill-opacity=\"1\" /><path clip-path=\"url(#clip300)\" d=\"M269.14 1479.7 L274.024 1479.7 L274.024 1485.58 L269.14 1485.58 L269.14 1479.7 Z\" fill=\"#000000\" fill-rule=\"evenodd\" fill-opacity=\"1\" /><path clip-path=\"url(#clip300)\" d=\"M294.209 1454.1 Q290.598 1454.1 288.77 1457.66 Q286.964 1461.2 286.964 1468.33 Q286.964 1475.44 288.77 1479.01 Q290.598 1482.55 294.209 1482.55 Q297.844 1482.55 299.649 1479.01 Q301.478 1475.44 301.478 1468.33 Q301.478 1461.2 299.649 1457.66 Q297.844 1454.1 294.209 1454.1 M294.209 1450.39 Q300.02 1450.39 303.075 1455 Q306.154 1459.58 306.154 1468.33 Q306.154 1477.06 303.075 1481.67 Q300.02 1486.25 294.209 1486.25 Q288.399 1486.25 285.321 1481.67 Q282.265 1477.06 282.265 1468.33 Q282.265 1459.58 285.321 1455 Q288.399 1450.39 294.209 1450.39 Z\" fill=\"#000000\" fill-rule=\"evenodd\" fill-opacity=\"1\" /><path clip-path=\"url(#clip300)\" d=\"M748.466 1481.64 L764.786 1481.64 L764.786 1485.58 L742.842 1485.58 L742.842 1481.64 Q745.504 1478.89 750.087 1474.26 Q754.693 1469.61 755.874 1468.27 Q758.119 1465.74 758.999 1464.01 Q759.902 1462.25 759.902 1460.56 Q759.902 1457.8 757.957 1456.07 Q756.036 1454.33 752.934 1454.33 Q750.735 1454.33 748.281 1455.09 Q745.851 1455.86 743.073 1457.41 L743.073 1452.69 Q745.897 1451.55 748.351 1450.97 Q750.804 1450.39 752.841 1450.39 Q758.212 1450.39 761.406 1453.08 Q764.601 1455.77 764.601 1460.26 Q764.601 1462.39 763.79 1464.31 Q763.003 1466.2 760.897 1468.8 Q760.318 1469.47 757.216 1472.69 Q754.115 1475.88 748.466 1481.64 Z\" fill=\"#000000\" fill-rule=\"evenodd\" fill-opacity=\"1\" /><path clip-path=\"url(#clip300)\" d=\"M774.601 1479.7 L779.485 1479.7 L779.485 1485.58 L774.601 1485.58 L774.601 1479.7 Z\" fill=\"#000000\" fill-rule=\"evenodd\" fill-opacity=\"1\" /><path clip-path=\"url(#clip300)\" d=\"M789.716 1451.02 L808.073 1451.02 L808.073 1454.96 L793.999 1454.96 L793.999 1463.43 Q795.017 1463.08 796.036 1462.92 Q797.054 1462.73 798.073 1462.73 Q803.86 1462.73 807.239 1465.9 Q810.619 1469.08 810.619 1474.49 Q810.619 1480.07 807.147 1483.17 Q803.675 1486.25 797.355 1486.25 Q795.179 1486.25 792.911 1485.88 Q790.665 1485.51 788.258 1484.77 L788.258 1480.07 Q790.341 1481.2 792.563 1481.76 Q794.786 1482.32 797.263 1482.32 Q801.267 1482.32 803.605 1480.21 Q805.943 1478.1 805.943 1474.49 Q805.943 1470.88 803.605 1468.77 Q801.267 1466.67 797.263 1466.67 Q795.388 1466.67 793.513 1467.08 Q791.661 1467.5 789.716 1468.38 L789.716 1451.02 Z\" fill=\"#000000\" fill-rule=\"evenodd\" fill-opacity=\"1\" /><path clip-path=\"url(#clip300)\" d=\"M1249.03 1451.02 L1267.39 1451.02 L1267.39 1454.96 L1253.31 1454.96 L1253.31 1463.43 Q1254.33 1463.08 1255.35 1462.92 Q1256.37 1462.73 1257.39 1462.73 Q1263.17 1462.73 1266.55 1465.9 Q1269.93 1469.08 1269.93 1474.49 Q1269.93 1480.07 1266.46 1483.17 Q1262.99 1486.25 1256.67 1486.25 Q1254.49 1486.25 1252.23 1485.88 Q1249.98 1485.51 1247.57 1484.77 L1247.57 1480.07 Q1249.66 1481.2 1251.88 1481.76 Q1254.1 1482.32 1256.58 1482.32 Q1260.58 1482.32 1262.92 1480.21 Q1265.26 1478.1 1265.26 1474.49 Q1265.26 1470.88 1262.92 1468.77 Q1260.58 1466.67 1256.58 1466.67 Q1254.7 1466.67 1252.83 1467.08 Q1250.98 1467.5 1249.03 1468.38 L1249.03 1451.02 Z\" fill=\"#000000\" fill-rule=\"evenodd\" fill-opacity=\"1\" /><path clip-path=\"url(#clip300)\" d=\"M1279.15 1479.7 L1284.03 1479.7 L1284.03 1485.58 L1279.15 1485.58 L1279.15 1479.7 Z\" fill=\"#000000\" fill-rule=\"evenodd\" fill-opacity=\"1\" /><path clip-path=\"url(#clip300)\" d=\"M1304.22 1454.1 Q1300.6 1454.1 1298.78 1457.66 Q1296.97 1461.2 1296.97 1468.33 Q1296.97 1475.44 1298.78 1479.01 Q1300.6 1482.55 1304.22 1482.55 Q1307.85 1482.55 1309.66 1479.01 Q1311.48 1475.44 1311.48 1468.33 Q1311.48 1461.2 1309.66 1457.66 Q1307.85 1454.1 1304.22 1454.1 M1304.22 1450.39 Q1310.03 1450.39 1313.08 1455 Q1316.16 1459.58 1316.16 1468.33 Q1316.16 1477.06 1313.08 1481.67 Q1310.03 1486.25 1304.22 1486.25 Q1298.41 1486.25 1295.33 1481.67 Q1292.27 1477.06 1292.27 1468.33 Q1292.27 1459.58 1295.33 1455 Q1298.41 1450.39 1304.22 1450.39 Z\" fill=\"#000000\" fill-rule=\"evenodd\" fill-opacity=\"1\" /><path clip-path=\"url(#clip300)\" d=\"M1753.32 1451.02 L1775.54 1451.02 L1775.54 1453.01 L1763 1485.58 L1758.11 1485.58 L1769.92 1454.96 L1753.32 1454.96 L1753.32 1451.02 Z\" fill=\"#000000\" fill-rule=\"evenodd\" fill-opacity=\"1\" /><path clip-path=\"url(#clip300)\" d=\"M1784.67 1479.7 L1789.55 1479.7 L1789.55 1485.58 L1784.67 1485.58 L1784.67 1479.7 Z\" fill=\"#000000\" fill-rule=\"evenodd\" fill-opacity=\"1\" /><path clip-path=\"url(#clip300)\" d=\"M1799.78 1451.02 L1818.14 1451.02 L1818.14 1454.96 L1804.06 1454.96 L1804.06 1463.43 Q1805.08 1463.08 1806.1 1462.92 Q1807.12 1462.73 1808.14 1462.73 Q1813.92 1462.73 1817.3 1465.9 Q1820.68 1469.08 1820.68 1474.49 Q1820.68 1480.07 1817.21 1483.17 Q1813.74 1486.25 1807.42 1486.25 Q1805.24 1486.25 1802.98 1485.88 Q1800.73 1485.51 1798.32 1484.77 L1798.32 1480.07 Q1800.41 1481.2 1802.63 1481.76 Q1804.85 1482.32 1807.33 1482.32 Q1811.33 1482.32 1813.67 1480.21 Q1816.01 1478.1 1816.01 1474.49 Q1816.01 1470.88 1813.67 1468.77 Q1811.33 1466.67 1807.33 1466.67 Q1805.45 1466.67 1803.58 1467.08 Q1801.73 1467.5 1799.78 1468.38 L1799.78 1451.02 Z\" fill=\"#000000\" fill-rule=\"evenodd\" fill-opacity=\"1\" /><path clip-path=\"url(#clip300)\" d=\"M2244.21 1481.64 L2251.85 1481.64 L2251.85 1455.28 L2243.54 1456.95 L2243.54 1452.69 L2251.8 1451.02 L2256.48 1451.02 L2256.48 1481.64 L2264.12 1481.64 L2264.12 1485.58 L2244.21 1485.58 L2244.21 1481.64 Z\" fill=\"#000000\" fill-rule=\"evenodd\" fill-opacity=\"1\" /><path clip-path=\"url(#clip300)\" d=\"M2283.56 1454.1 Q2279.95 1454.1 2278.12 1457.66 Q2276.32 1461.2 2276.32 1468.33 Q2276.32 1475.44 2278.12 1479.01 Q2279.95 1482.55 2283.56 1482.55 Q2287.2 1482.55 2289 1479.01 Q2290.83 1475.44 2290.83 1468.33 Q2290.83 1461.2 2289 1457.66 Q2287.2 1454.1 2283.56 1454.1 M2283.56 1450.39 Q2289.37 1450.39 2292.43 1455 Q2295.51 1459.58 2295.51 1468.33 Q2295.51 1477.06 2292.43 1481.67 Q2289.37 1486.25 2283.56 1486.25 Q2277.75 1486.25 2274.67 1481.67 Q2271.62 1477.06 2271.62 1468.33 Q2271.62 1459.58 2274.67 1455 Q2277.75 1450.39 2283.56 1450.39 Z\" fill=\"#000000\" fill-rule=\"evenodd\" fill-opacity=\"1\" /><path clip-path=\"url(#clip300)\" d=\"M2303.73 1479.7 L2308.61 1479.7 L2308.61 1485.58 L2303.73 1485.58 L2303.73 1479.7 Z\" fill=\"#000000\" fill-rule=\"evenodd\" fill-opacity=\"1\" /><path clip-path=\"url(#clip300)\" d=\"M2328.79 1454.1 Q2325.18 1454.1 2323.35 1457.66 Q2321.55 1461.2 2321.55 1468.33 Q2321.55 1475.44 2323.35 1479.01 Q2325.18 1482.55 2328.79 1482.55 Q2332.43 1482.55 2334.23 1479.01 Q2336.06 1475.44 2336.06 1468.33 Q2336.06 1461.2 2334.23 1457.66 Q2332.43 1454.1 2328.79 1454.1 M2328.79 1450.39 Q2334.6 1450.39 2337.66 1455 Q2340.74 1459.58 2340.74 1468.33 Q2340.74 1477.06 2337.66 1481.67 Q2334.6 1486.25 2328.79 1486.25 Q2322.98 1486.25 2319.91 1481.67 Q2316.85 1477.06 2316.85 1468.33 Q2316.85 1459.58 2319.91 1455 Q2322.98 1450.39 2328.79 1450.39 Z\" fill=\"#000000\" fill-rule=\"evenodd\" fill-opacity=\"1\" /><path clip-path=\"url(#clip300)\" d=\"M1169.32 1522.27 L1169.32 1532.4 L1181.38 1532.4 L1181.38 1536.95 L1169.32 1536.95 L1169.32 1556.3 Q1169.32 1560.66 1170.5 1561.9 Q1171.71 1563.14 1175.37 1563.14 L1181.38 1563.14 L1181.38 1568.04 L1175.37 1568.04 Q1168.59 1568.04 1166.01 1565.53 Q1163.43 1562.98 1163.43 1556.3 L1163.43 1536.95 L1159.14 1536.95 L1159.14 1532.4 L1163.43 1532.4 L1163.43 1522.27 L1169.32 1522.27 Z\" fill=\"#000000\" fill-rule=\"evenodd\" fill-opacity=\"1\" /><path clip-path=\"url(#clip300)\" d=\"M1189.09 1532.4 L1194.94 1532.4 L1194.94 1568.04 L1189.09 1568.04 L1189.09 1532.4 M1189.09 1518.52 L1194.94 1518.52 L1194.94 1525.93 L1189.09 1525.93 L1189.09 1518.52 Z\" fill=\"#000000\" fill-rule=\"evenodd\" fill-opacity=\"1\" /><path clip-path=\"url(#clip300)\" d=\"M1234.95 1539.24 Q1237.15 1535.29 1240.2 1533.41 Q1243.26 1531.54 1247.4 1531.54 Q1252.97 1531.54 1255.99 1535.45 Q1259.01 1539.33 1259.01 1546.53 L1259.01 1568.04 L1253.13 1568.04 L1253.13 1546.72 Q1253.13 1541.59 1251.31 1539.11 Q1249.5 1536.63 1245.77 1536.63 Q1241.22 1536.63 1238.58 1539.65 Q1235.94 1542.68 1235.94 1547.9 L1235.94 1568.04 L1230.05 1568.04 L1230.05 1546.72 Q1230.05 1541.56 1228.24 1539.11 Q1226.42 1536.63 1222.63 1536.63 Q1218.15 1536.63 1215.5 1539.68 Q1212.86 1542.71 1212.86 1547.9 L1212.86 1568.04 L1206.97 1568.04 L1206.97 1532.4 L1212.86 1532.4 L1212.86 1537.93 Q1214.87 1534.66 1217.67 1533.1 Q1220.47 1531.54 1224.32 1531.54 Q1228.2 1531.54 1230.91 1533.51 Q1233.65 1535.48 1234.95 1539.24 Z\" fill=\"#000000\" fill-rule=\"evenodd\" fill-opacity=\"1\" /><path clip-path=\"url(#clip300)\" d=\"M1301.19 1548.76 L1301.19 1551.62 L1274.26 1551.62 Q1274.64 1557.67 1277.89 1560.85 Q1281.17 1564 1286.99 1564 Q1290.36 1564 1293.52 1563.17 Q1296.7 1562.35 1299.82 1560.69 L1299.82 1566.23 Q1296.67 1567.57 1293.36 1568.27 Q1290.05 1568.97 1286.64 1568.97 Q1278.11 1568.97 1273.11 1564 Q1268.15 1559.04 1268.15 1550.57 Q1268.15 1541.82 1272.86 1536.69 Q1277.6 1531.54 1285.62 1531.54 Q1292.82 1531.54 1296.99 1536.18 Q1301.19 1540.8 1301.19 1548.76 M1295.33 1547.04 Q1295.27 1542.23 1292.62 1539.37 Q1290.01 1536.5 1285.69 1536.5 Q1280.78 1536.5 1277.82 1539.27 Q1274.9 1542.04 1274.45 1547.07 L1295.33 1547.04 Z\" fill=\"#000000\" fill-rule=\"evenodd\" fill-opacity=\"1\" /><path clip-path=\"url(#clip300)\" d=\"M1345.59 1518.58 Q1341.32 1525.9 1339.25 1533.06 Q1337.18 1540.23 1337.18 1547.58 Q1337.18 1554.93 1339.25 1562.16 Q1341.35 1569.35 1345.59 1576.64 L1340.49 1576.64 Q1335.72 1569.16 1333.33 1561.93 Q1330.98 1554.71 1330.98 1547.58 Q1330.98 1540.48 1333.33 1533.29 Q1335.69 1526.09 1340.49 1518.58 L1345.59 1518.58 Z\" fill=\"#000000\" fill-rule=\"evenodd\" fill-opacity=\"1\" /><path clip-path=\"url(#clip300)\" d=\"M1379.68 1533.45 L1379.68 1538.98 Q1377.19 1537.71 1374.52 1537.07 Q1371.85 1536.44 1368.98 1536.44 Q1364.62 1536.44 1362.42 1537.77 Q1360.26 1539.11 1360.26 1541.79 Q1360.26 1543.82 1361.82 1545 Q1363.38 1546.15 1368.09 1547.2 L1370.1 1547.64 Q1376.33 1548.98 1378.94 1551.43 Q1381.59 1553.85 1381.59 1558.21 Q1381.59 1563.17 1377.64 1566.07 Q1373.72 1568.97 1366.85 1568.97 Q1363.98 1568.97 1360.87 1568.39 Q1357.78 1567.85 1354.34 1566.74 L1354.34 1560.69 Q1357.59 1562.38 1360.74 1563.24 Q1363.89 1564.07 1366.98 1564.07 Q1371.11 1564.07 1373.34 1562.66 Q1375.57 1561.23 1375.57 1558.65 Q1375.57 1556.27 1373.95 1554.99 Q1372.36 1553.72 1366.91 1552.54 L1364.88 1552.07 Q1359.43 1550.92 1357.01 1548.56 Q1354.59 1546.18 1354.59 1542.04 Q1354.59 1537.01 1358.16 1534.27 Q1361.72 1531.54 1368.28 1531.54 Q1371.53 1531.54 1374.39 1532.01 Q1377.26 1532.49 1379.68 1533.45 Z\" fill=\"#000000\" fill-rule=\"evenodd\" fill-opacity=\"1\" /><path clip-path=\"url(#clip300)\" d=\"M1389.99 1518.58 L1395.08 1518.58 Q1399.86 1526.09 1402.21 1533.29 Q1404.6 1540.48 1404.6 1547.58 Q1404.6 1554.71 1402.21 1561.93 Q1399.86 1569.16 1395.08 1576.64 L1389.99 1576.64 Q1394.22 1569.35 1396.29 1562.16 Q1398.39 1554.93 1398.39 1547.58 Q1398.39 1540.23 1396.29 1533.06 Q1394.22 1525.9 1389.99 1518.58 Z\" fill=\"#000000\" fill-rule=\"evenodd\" fill-opacity=\"1\" /><polyline clip-path=\"url(#clip302)\" style=\"stroke:#000000; stroke-linecap:round; stroke-linejoin:round; stroke-width:2; stroke-opacity:0.1; fill:none\" points=\"210.977,1363.8 2352.76,1363.8 \"/>\n",
       "<polyline clip-path=\"url(#clip302)\" style=\"stroke:#000000; stroke-linecap:round; stroke-linejoin:round; stroke-width:2; stroke-opacity:0.1; fill:none\" points=\"210.977,1123.09 2352.76,1123.09 \"/>\n",
       "<polyline clip-path=\"url(#clip302)\" style=\"stroke:#000000; stroke-linecap:round; stroke-linejoin:round; stroke-width:2; stroke-opacity:0.1; fill:none\" points=\"210.977,882.382 2352.76,882.382 \"/>\n",
       "<polyline clip-path=\"url(#clip302)\" style=\"stroke:#000000; stroke-linecap:round; stroke-linejoin:round; stroke-width:2; stroke-opacity:0.1; fill:none\" points=\"210.977,641.673 2352.76,641.673 \"/>\n",
       "<polyline clip-path=\"url(#clip302)\" style=\"stroke:#000000; stroke-linecap:round; stroke-linejoin:round; stroke-width:2; stroke-opacity:0.1; fill:none\" points=\"210.977,400.965 2352.76,400.965 \"/>\n",
       "<polyline clip-path=\"url(#clip302)\" style=\"stroke:#000000; stroke-linecap:round; stroke-linejoin:round; stroke-width:2; stroke-opacity:0.1; fill:none\" points=\"210.977,160.256 2352.76,160.256 \"/>\n",
       "<polyline clip-path=\"url(#clip300)\" style=\"stroke:#000000; stroke-linecap:round; stroke-linejoin:round; stroke-width:4; stroke-opacity:1; fill:none\" points=\"210.977,1423.18 210.977,123.472 \"/>\n",
       "<polyline clip-path=\"url(#clip300)\" style=\"stroke:#000000; stroke-linecap:round; stroke-linejoin:round; stroke-width:4; stroke-opacity:1; fill:none\" points=\"210.977,1363.8 229.875,1363.8 \"/>\n",
       "<polyline clip-path=\"url(#clip300)\" style=\"stroke:#000000; stroke-linecap:round; stroke-linejoin:round; stroke-width:4; stroke-opacity:1; fill:none\" points=\"210.977,1123.09 229.875,1123.09 \"/>\n",
       "<polyline clip-path=\"url(#clip300)\" style=\"stroke:#000000; stroke-linecap:round; stroke-linejoin:round; stroke-width:4; stroke-opacity:1; fill:none\" points=\"210.977,882.382 229.875,882.382 \"/>\n",
       "<polyline clip-path=\"url(#clip300)\" style=\"stroke:#000000; stroke-linecap:round; stroke-linejoin:round; stroke-width:4; stroke-opacity:1; fill:none\" points=\"210.977,641.673 229.875,641.673 \"/>\n",
       "<polyline clip-path=\"url(#clip300)\" style=\"stroke:#000000; stroke-linecap:round; stroke-linejoin:round; stroke-width:4; stroke-opacity:1; fill:none\" points=\"210.977,400.965 229.875,400.965 \"/>\n",
       "<polyline clip-path=\"url(#clip300)\" style=\"stroke:#000000; stroke-linecap:round; stroke-linejoin:round; stroke-width:4; stroke-opacity:1; fill:none\" points=\"210.977,160.256 229.875,160.256 \"/>\n",
       "<path clip-path=\"url(#clip300)\" d=\"M114.26 1364.25 L143.936 1364.25 L143.936 1368.18 L114.26 1368.18 L114.26 1364.25 Z\" fill=\"#000000\" fill-rule=\"evenodd\" fill-opacity=\"1\" /><path clip-path=\"url(#clip300)\" d=\"M154.075 1346.52 L172.431 1346.52 L172.431 1350.45 L158.357 1350.45 L158.357 1358.93 Q159.376 1358.58 160.394 1358.42 Q161.413 1358.23 162.431 1358.23 Q168.218 1358.23 171.598 1361.4 Q174.977 1364.57 174.977 1369.99 Q174.977 1375.57 171.505 1378.67 Q168.033 1381.75 161.714 1381.75 Q159.538 1381.75 157.269 1381.38 Q155.024 1381.01 152.616 1380.27 L152.616 1375.57 Q154.7 1376.7 156.922 1377.26 Q159.144 1377.81 161.621 1377.81 Q165.626 1377.81 167.964 1375.71 Q170.302 1373.6 170.302 1369.99 Q170.302 1366.38 167.964 1364.27 Q165.626 1362.17 161.621 1362.17 Q159.746 1362.17 157.871 1362.58 Q156.019 1363 154.075 1363.88 L154.075 1346.52 Z\" fill=\"#000000\" fill-rule=\"evenodd\" fill-opacity=\"1\" /><path clip-path=\"url(#clip300)\" d=\"M163.033 1108.89 Q159.422 1108.89 157.593 1112.45 Q155.788 1116 155.788 1123.12 Q155.788 1130.23 157.593 1133.8 Q159.422 1137.34 163.033 1137.34 Q166.667 1137.34 168.473 1133.8 Q170.302 1130.23 170.302 1123.12 Q170.302 1116 168.473 1112.45 Q166.667 1108.89 163.033 1108.89 M163.033 1105.19 Q168.843 1105.19 171.899 1109.79 Q174.977 1114.37 174.977 1123.12 Q174.977 1131.85 171.899 1136.46 Q168.843 1141.04 163.033 1141.04 Q157.223 1141.04 154.144 1136.46 Q151.089 1131.85 151.089 1123.12 Q151.089 1114.37 154.144 1109.79 Q157.223 1105.19 163.033 1105.19 Z\" fill=\"#000000\" fill-rule=\"evenodd\" fill-opacity=\"1\" /><path clip-path=\"url(#clip300)\" d=\"M154.075 865.102 L172.431 865.102 L172.431 869.037 L158.357 869.037 L158.357 877.509 Q159.376 877.162 160.394 877 Q161.413 876.814 162.431 876.814 Q168.218 876.814 171.598 879.986 Q174.977 883.157 174.977 888.574 Q174.977 894.152 171.505 897.254 Q168.033 900.333 161.714 900.333 Q159.538 900.333 157.269 899.963 Q155.024 899.592 152.616 898.851 L152.616 894.152 Q154.7 895.287 156.922 895.842 Q159.144 896.398 161.621 896.398 Q165.626 896.398 167.964 894.291 Q170.302 892.185 170.302 888.574 Q170.302 884.963 167.964 882.856 Q165.626 880.75 161.621 880.75 Q159.746 880.75 157.871 881.166 Q156.019 881.583 154.075 882.463 L154.075 865.102 Z\" fill=\"#000000\" fill-rule=\"evenodd\" fill-opacity=\"1\" /><path clip-path=\"url(#clip300)\" d=\"M123.681 655.018 L131.32 655.018 L131.32 628.652 L123.01 630.319 L123.01 626.06 L131.274 624.393 L135.95 624.393 L135.95 655.018 L143.589 655.018 L143.589 658.953 L123.681 658.953 L123.681 655.018 Z\" fill=\"#000000\" fill-rule=\"evenodd\" fill-opacity=\"1\" /><path clip-path=\"url(#clip300)\" d=\"M163.033 627.472 Q159.422 627.472 157.593 631.037 Q155.788 634.578 155.788 641.708 Q155.788 648.814 157.593 652.379 Q159.422 655.921 163.033 655.921 Q166.667 655.921 168.473 652.379 Q170.302 648.814 170.302 641.708 Q170.302 634.578 168.473 631.037 Q166.667 627.472 163.033 627.472 M163.033 623.768 Q168.843 623.768 171.899 628.375 Q174.977 632.958 174.977 641.708 Q174.977 650.435 171.899 655.041 Q168.843 659.624 163.033 659.624 Q157.223 659.624 154.144 655.041 Q151.089 650.435 151.089 641.708 Q151.089 632.958 154.144 628.375 Q157.223 623.768 163.033 623.768 Z\" fill=\"#000000\" fill-rule=\"evenodd\" fill-opacity=\"1\" /><path clip-path=\"url(#clip300)\" d=\"M124.677 414.31 L132.316 414.31 L132.316 387.944 L124.005 389.611 L124.005 385.351 L132.269 383.685 L136.945 383.685 L136.945 414.31 L144.584 414.31 L144.584 418.245 L124.677 418.245 L124.677 414.31 Z\" fill=\"#000000\" fill-rule=\"evenodd\" fill-opacity=\"1\" /><path clip-path=\"url(#clip300)\" d=\"M154.075 383.685 L172.431 383.685 L172.431 387.62 L158.357 387.62 L158.357 396.092 Q159.376 395.745 160.394 395.583 Q161.413 395.398 162.431 395.398 Q168.218 395.398 171.598 398.569 Q174.977 401.74 174.977 407.157 Q174.977 412.736 171.505 415.837 Q168.033 418.916 161.714 418.916 Q159.538 418.916 157.269 418.546 Q155.024 418.175 152.616 417.435 L152.616 412.736 Q154.7 413.87 156.922 414.425 Q159.144 414.981 161.621 414.981 Q165.626 414.981 167.964 412.874 Q170.302 410.768 170.302 407.157 Q170.302 403.546 167.964 401.439 Q165.626 399.333 161.621 399.333 Q159.746 399.333 157.871 399.749 Q156.019 400.166 154.075 401.046 L154.075 383.685 Z\" fill=\"#000000\" fill-rule=\"evenodd\" fill-opacity=\"1\" /><path clip-path=\"url(#clip300)\" d=\"M126.899 173.601 L143.218 173.601 L143.218 177.536 L121.274 177.536 L121.274 173.601 Q123.936 170.847 128.519 166.217 Q133.126 161.564 134.306 160.222 Q136.552 157.698 137.431 155.962 Q138.334 154.203 138.334 152.513 Q138.334 149.759 136.39 148.023 Q134.468 146.286 131.367 146.286 Q129.167 146.286 126.714 147.05 Q124.283 147.814 121.505 149.365 L121.505 144.643 Q124.33 143.509 126.783 142.93 Q129.237 142.351 131.274 142.351 Q136.644 142.351 139.839 145.036 Q143.033 147.722 143.033 152.212 Q143.033 154.342 142.223 156.263 Q141.436 158.161 139.329 160.754 Q138.751 161.425 135.649 164.643 Q132.547 167.837 126.899 173.601 Z\" fill=\"#000000\" fill-rule=\"evenodd\" fill-opacity=\"1\" /><path clip-path=\"url(#clip300)\" d=\"M163.033 146.055 Q159.422 146.055 157.593 149.62 Q155.788 153.161 155.788 160.291 Q155.788 167.397 157.593 170.962 Q159.422 174.504 163.033 174.504 Q166.667 174.504 168.473 170.962 Q170.302 167.397 170.302 160.291 Q170.302 153.161 168.473 149.62 Q166.667 146.055 163.033 146.055 M163.033 142.351 Q168.843 142.351 171.899 146.958 Q174.977 151.541 174.977 160.291 Q174.977 169.018 171.899 173.624 Q168.843 178.208 163.033 178.208 Q157.223 178.208 154.144 173.624 Q151.089 169.018 151.089 160.291 Q151.089 151.541 154.144 146.958 Q157.223 142.351 163.033 142.351 Z\" fill=\"#000000\" fill-rule=\"evenodd\" fill-opacity=\"1\" /><path clip-path=\"url(#clip300)\" d=\"M28.3562 756.711 L45.7028 769.602 L64.0042 756.043 L64.0042 762.95 L49.9996 773.326 L64.0042 783.702 L64.0042 790.609 L45.3526 776.763 L28.3562 789.431 L28.3562 782.524 L41.0558 773.071 L28.3562 763.618 L28.3562 756.711 Z\" fill=\"#000000\" fill-rule=\"evenodd\" fill-opacity=\"1\" /><path clip-path=\"url(#clip300)\" d=\"M1054.21 14.0809 L1054.21 22.0612 Q1049.55 19.8332 1045.42 18.7395 Q1041.28 17.6457 1037.44 17.6457 Q1030.75 17.6457 1027.11 20.2383 Q1023.5 22.8309 1023.5 27.611 Q1023.5 31.6214 1025.89 33.6873 Q1028.32 35.7128 1035.05 36.9686 L1039.99 37.9813 Q1049.14 39.7232 1053.48 44.1387 Q1057.85 48.5136 1057.85 55.8863 Q1057.85 64.6767 1051.94 69.2137 Q1046.06 73.7508 1034.68 73.7508 Q1030.39 73.7508 1025.53 72.7785 Q1020.7 71.8063 1015.52 69.9024 L1015.52 61.4765 Q1020.5 64.2716 1025.28 65.6895 Q1030.06 67.1073 1034.68 67.1073 Q1041.69 67.1073 1045.5 64.3527 Q1049.3 61.598 1049.3 56.4939 Q1049.3 52.0379 1046.55 49.5264 Q1043.84 47.0148 1037.6 45.759 L1032.61 44.7868 Q1023.46 42.9639 1019.37 39.075 Q1015.28 35.1862 1015.28 28.2591 Q1015.28 20.2383 1020.91 15.6203 Q1026.58 11.0023 1036.5 11.0023 Q1040.76 11.0023 1045.17 11.7719 Q1049.59 12.5416 1054.21 14.0809 Z\" fill=\"#000000\" fill-rule=\"evenodd\" fill-opacity=\"1\" /><path clip-path=\"url(#clip300)\" d=\"M1077.66 14.324 L1077.66 27.2059 L1093.01 27.2059 L1093.01 32.9987 L1077.66 32.9987 L1077.66 57.6282 Q1077.66 63.1779 1079.16 64.7578 Q1080.7 66.3376 1085.36 66.3376 L1093.01 66.3376 L1093.01 72.576 L1085.36 72.576 Q1076.73 72.576 1073.45 69.3758 Q1070.17 66.1351 1070.17 57.6282 L1070.17 32.9987 L1064.7 32.9987 L1064.7 27.2059 L1070.17 27.2059 L1070.17 14.324 L1077.66 14.324 Z\" fill=\"#000000\" fill-rule=\"evenodd\" fill-opacity=\"1\" /><path clip-path=\"url(#clip300)\" d=\"M1123.44 49.7694 Q1114.4 49.7694 1110.92 51.8354 Q1107.43 53.9013 1107.43 58.8839 Q1107.43 62.8538 1110.03 65.2034 Q1112.66 67.5124 1117.16 67.5124 Q1123.35 67.5124 1127.08 63.1374 Q1130.85 58.7219 1130.85 51.4303 L1130.85 49.7694 L1123.44 49.7694 M1138.3 46.6907 L1138.3 72.576 L1130.85 72.576 L1130.85 65.6895 Q1128.3 69.8214 1124.49 71.8063 Q1120.68 73.7508 1115.17 73.7508 Q1108.2 73.7508 1104.07 69.8619 Q1099.98 65.9325 1099.98 59.3701 Q1099.98 51.7138 1105.09 47.825 Q1110.23 43.9361 1120.4 43.9361 L1130.85 43.9361 L1130.85 43.2069 Q1130.85 38.0623 1127.45 35.2672 Q1124.08 32.4315 1117.97 32.4315 Q1114.08 32.4315 1110.39 33.3632 Q1106.71 34.295 1103.3 36.1584 L1103.3 29.2718 Q1107.39 27.692 1111.24 26.9223 Q1115.09 26.1121 1118.74 26.1121 Q1128.58 26.1121 1133.44 31.2163 Q1138.3 36.3204 1138.3 46.6907 Z\" fill=\"#000000\" fill-rule=\"evenodd\" fill-opacity=\"1\" /><path clip-path=\"url(#clip300)\" d=\"M1161.03 14.324 L1161.03 27.2059 L1176.38 27.2059 L1176.38 32.9987 L1161.03 32.9987 L1161.03 57.6282 Q1161.03 63.1779 1162.53 64.7578 Q1164.07 66.3376 1168.72 66.3376 L1176.38 66.3376 L1176.38 72.576 L1168.72 72.576 Q1160.1 72.576 1156.82 69.3758 Q1153.53 66.1351 1153.53 57.6282 L1153.53 32.9987 L1148.07 32.9987 L1148.07 27.2059 L1153.53 27.2059 L1153.53 14.324 L1161.03 14.324 Z\" fill=\"#000000\" fill-rule=\"evenodd\" fill-opacity=\"1\" /><path clip-path=\"url(#clip300)\" d=\"M1224.99 48.0275 L1224.99 51.6733 L1190.72 51.6733 Q1191.21 59.3701 1195.34 63.421 Q1199.51 67.4314 1206.92 67.4314 Q1211.22 67.4314 1215.23 66.3781 Q1219.28 65.3249 1223.25 63.2184 L1223.25 70.267 Q1219.24 71.9684 1215.03 72.8596 Q1210.81 73.7508 1206.48 73.7508 Q1195.62 73.7508 1189.26 67.4314 Q1182.94 61.1119 1182.94 50.3365 Q1182.94 39.1965 1188.94 32.6746 Q1194.97 26.1121 1205.18 26.1121 Q1214.34 26.1121 1219.64 32.0264 Q1224.99 37.9003 1224.99 48.0275 M1217.54 45.84 Q1217.46 39.7232 1214.1 36.0774 Q1210.77 32.4315 1205.26 32.4315 Q1199.03 32.4315 1195.26 35.9558 Q1191.53 39.4801 1190.96 45.8805 L1217.54 45.84 Z\" fill=\"#000000\" fill-rule=\"evenodd\" fill-opacity=\"1\" /><path clip-path=\"url(#clip300)\" d=\"M1263.92 12.096 L1272.1 12.096 L1272.1 36.8875 L1301.84 36.8875 L1301.84 12.096 L1310.02 12.096 L1310.02 72.576 L1301.84 72.576 L1301.84 43.7741 L1272.1 43.7741 L1272.1 72.576 L1263.92 72.576 L1263.92 12.096 Z\" fill=\"#000000\" fill-rule=\"evenodd\" fill-opacity=\"1\" /><path clip-path=\"url(#clip300)\" d=\"M1325.98 27.2059 L1333.43 27.2059 L1333.43 72.576 L1325.98 72.576 L1325.98 27.2059 M1325.98 9.54393 L1333.43 9.54393 L1333.43 18.9825 L1325.98 18.9825 L1325.98 9.54393 Z\" fill=\"#000000\" fill-rule=\"evenodd\" fill-opacity=\"1\" /><path clip-path=\"url(#clip300)\" d=\"M1377.95 28.5427 L1377.95 35.5912 Q1374.79 33.9709 1371.39 33.1607 Q1367.99 32.3505 1364.34 32.3505 Q1358.79 32.3505 1356 34.0519 Q1353.24 35.7533 1353.24 39.156 Q1353.24 41.7486 1355.23 43.2475 Q1357.21 44.7058 1363.21 46.0426 L1365.76 46.6097 Q1373.7 48.3111 1377.02 51.4303 Q1380.38 54.509 1380.38 60.0587 Q1380.38 66.3781 1375.36 70.0644 Q1370.38 73.7508 1361.63 73.7508 Q1357.98 73.7508 1354.01 73.0216 Q1350.08 72.3329 1345.71 70.9151 L1345.71 63.2184 Q1349.84 65.3654 1353.85 66.4591 Q1357.86 67.5124 1361.79 67.5124 Q1367.06 67.5124 1369.89 65.73 Q1372.73 63.9071 1372.73 60.6258 Q1372.73 57.5877 1370.66 55.9673 Q1368.64 54.3469 1361.71 52.8481 L1359.12 52.2405 Q1352.19 50.7821 1349.11 47.7845 Q1346.03 44.7463 1346.03 39.4801 Q1346.03 33.0797 1350.57 29.5959 Q1355.11 26.1121 1363.45 26.1121 Q1367.58 26.1121 1371.23 26.7198 Q1374.88 27.3274 1377.95 28.5427 Z\" fill=\"#000000\" fill-rule=\"evenodd\" fill-opacity=\"1\" /><path clip-path=\"url(#clip300)\" d=\"M1399.63 14.324 L1399.63 27.2059 L1414.98 27.2059 L1414.98 32.9987 L1399.63 32.9987 L1399.63 57.6282 Q1399.63 63.1779 1401.13 64.7578 Q1402.66 66.3376 1407.32 66.3376 L1414.98 66.3376 L1414.98 72.576 L1407.32 72.576 Q1398.69 72.576 1395.41 69.3758 Q1392.13 66.1351 1392.13 57.6282 L1392.13 32.9987 L1386.66 32.9987 L1386.66 27.2059 L1392.13 27.2059 L1392.13 14.324 L1399.63 14.324 Z\" fill=\"#000000\" fill-rule=\"evenodd\" fill-opacity=\"1\" /><path clip-path=\"url(#clip300)\" d=\"M1442.36 32.4315 Q1436.37 32.4315 1432.88 37.1306 Q1429.4 41.7891 1429.4 49.9314 Q1429.4 58.0738 1432.84 62.7728 Q1436.33 67.4314 1442.36 67.4314 Q1448.32 67.4314 1451.8 62.7323 Q1455.29 58.0333 1455.29 49.9314 Q1455.29 41.8701 1451.8 37.1711 Q1448.32 32.4315 1442.36 32.4315 M1442.36 26.1121 Q1452.09 26.1121 1457.64 32.4315 Q1463.19 38.7509 1463.19 49.9314 Q1463.19 61.0714 1457.64 67.4314 Q1452.09 73.7508 1442.36 73.7508 Q1432.6 73.7508 1427.05 67.4314 Q1421.54 61.0714 1421.54 49.9314 Q1421.54 38.7509 1427.05 32.4315 Q1432.6 26.1121 1442.36 26.1121 Z\" fill=\"#000000\" fill-rule=\"evenodd\" fill-opacity=\"1\" /><path clip-path=\"url(#clip300)\" d=\"M1501.83 34.1734 Q1500.57 33.4443 1499.08 33.1202 Q1497.62 32.7556 1495.84 32.7556 Q1489.52 32.7556 1486.11 36.8875 Q1482.75 40.9789 1482.75 48.6757 L1482.75 72.576 L1475.26 72.576 L1475.26 27.2059 L1482.75 27.2059 L1482.75 34.2544 Q1485.1 30.1225 1488.87 28.1376 Q1492.64 26.1121 1498.02 26.1121 Q1498.79 26.1121 1499.72 26.2337 Q1500.66 26.3147 1501.79 26.5172 L1501.83 34.1734 Z\" fill=\"#000000\" fill-rule=\"evenodd\" fill-opacity=\"1\" /><path clip-path=\"url(#clip300)\" d=\"M1528.53 76.7889 Q1525.37 84.8907 1522.37 87.3618 Q1519.37 89.8329 1514.35 89.8329 L1508.39 89.8329 L1508.39 83.5945 L1512.77 83.5945 Q1515.85 83.5945 1517.55 82.1361 Q1519.25 80.6778 1521.32 75.2496 L1522.65 71.8468 L1504.3 27.2059 L1512.2 27.2059 L1526.38 62.6918 L1540.56 27.2059 L1548.46 27.2059 L1528.53 76.7889 Z\" fill=\"#000000\" fill-rule=\"evenodd\" fill-opacity=\"1\" /><polyline clip-path=\"url(#clip302)\" style=\"stroke:#009af9; stroke-linecap:round; stroke-linejoin:round; stroke-width:4; stroke-opacity:1; fill:none\" points=\"271.594,930.523 291.799,937.652 312.005,944.597 332.21,951.361 352.416,957.948 372.621,964.359 392.827,970.599 413.032,976.669 433.237,982.574 453.443,988.315 473.648,993.896 493.854,999.32 514.059,1004.59 534.265,1009.71 554.47,1014.68 574.676,1019.5 594.881,1024.18 615.087,1028.73 635.292,1033.13 655.497,1037.4 675.703,1041.55 695.908,1045.56 716.114,1049.45 736.319,1053.22 756.525,1056.86 776.73,1060.38 796.936,1063.79 817.141,1067.08 837.347,1070.26 857.552,1073.32 877.758,1076.27 897.963,1079.12 918.168,1081.86 938.374,1084.49 958.579,1087.02 978.785,1089.46 998.99,1091.79 1019.2,1094.02 1039.4,1096.16 1059.61,1098.21 1079.81,1100.17 1100.02,1102.03 1120.22,1103.81 1140.43,1105.51 1160.63,1107.12 1180.84,1108.65 1201.04,1110.1 1221.25,1111.47 1241.46,1112.77 1261.66,1113.99 1281.87,1115.14 1302.07,1116.22 1322.28,1117.23 1342.48,1118.17 1362.69,1119.06 1382.89,1119.87 1403.1,1120.63 1423.3,1121.33 1443.51,1121.98 1463.72,1122.56 1483.92,1123.1 1504.13,1123.58 1524.33,1124.02 1544.54,1124.41 1564.74,1124.75 1584.95,1125.05 1605.15,1125.31 1625.36,1125.52 1645.56,1125.71 1665.77,1125.85 1685.98,1125.96 1706.18,1126.04 1726.39,1126.09 1746.59,1126.11 1766.8,1126.11 1787,1126.08 1807.21,1126.03 1827.41,1125.96 1847.62,1125.87 1867.82,1125.76 1888.03,1125.64 1908.24,1125.51 1928.44,1125.36 1948.65,1125.21 1968.85,1125.05 1989.06,1124.88 2009.26,1124.71 2029.47,1124.54 2049.67,1124.37 2069.88,1124.21 2090.08,1124.05 2110.29,1123.89 2130.5,1123.74 2150.7,1123.6 2170.91,1123.48 2191.11,1123.37 2211.32,1123.27 2231.52,1123.2 2251.73,1123.14 2271.93,1123.1 2292.14,1123.09 \"/>\n",
       "<polyline clip-path=\"url(#clip302)\" style=\"stroke:#e26f46; stroke-linecap:round; stroke-linejoin:round; stroke-width:4; stroke-opacity:1; fill:none\" points=\"271.594,1026.81 291.799,1022.13 312.005,1017.71 332.21,1013.55 352.416,1009.65 372.621,1006 392.827,1002.59 413.032,999.411 433.237,996.469 453.443,993.753 473.648,991.258 493.854,988.978 514.059,986.909 534.265,985.045 554.47,983.379 574.676,981.908 594.881,980.625 615.087,979.525 635.292,978.603 655.497,977.853 675.703,977.271 695.908,976.85 716.114,976.588 736.319,976.479 756.525,976.521 776.73,976.709 796.936,977.039 817.141,977.508 837.347,978.112 857.552,978.846 877.758,979.707 897.963,980.691 918.168,981.794 938.374,983.012 958.579,984.342 978.785,985.778 998.99,987.319 1019.2,988.958 1039.4,990.694 1059.61,992.521 1079.81,994.436 1100.02,996.435 1120.22,998.514 1140.43,1000.67 1160.63,1002.9 1180.84,1005.19 1201.04,1007.55 1221.25,1009.97 1241.46,1012.45 1261.66,1014.98 1281.87,1017.56 1302.07,1020.19 1322.28,1022.85 1342.48,1025.56 1362.69,1028.29 1382.89,1031.06 1403.1,1033.85 1423.3,1036.66 1443.51,1039.49 1463.72,1042.34 1483.92,1045.2 1504.13,1048.06 1524.33,1050.92 1544.54,1053.78 1564.74,1056.64 1584.95,1059.49 1605.15,1062.32 1625.36,1065.14 1645.56,1067.94 1665.77,1070.71 1685.98,1073.45 1706.18,1076.16 1726.39,1078.83 1746.59,1081.47 1766.8,1084.05 1787,1086.6 1807.21,1089.08 1827.41,1091.52 1847.62,1093.89 1867.82,1096.2 1888.03,1098.44 1908.24,1100.61 1928.44,1102.7 1948.65,1104.72 1968.85,1106.65 1989.06,1108.5 2009.26,1110.25 2029.47,1111.91 2049.67,1113.47 2069.88,1114.93 2090.08,1116.28 2110.29,1117.52 2130.5,1118.65 2150.7,1119.66 2170.91,1120.55 2191.11,1121.31 2211.32,1121.94 2231.52,1122.44 2251.73,1122.8 2271.93,1123.02 2292.14,1123.09 \"/>\n",
       "<polyline clip-path=\"url(#clip302)\" style=\"stroke:#3da44d; stroke-linecap:round; stroke-linejoin:round; stroke-width:4; stroke-opacity:1; fill:none\" points=\"271.594,160.256 291.799,172.344 312.005,184.533 332.21,196.82 352.416,209.198 372.621,221.662 392.827,234.208 413.032,246.831 433.237,259.525 453.443,272.285 473.648,285.106 493.854,297.984 514.059,310.913 534.265,323.888 554.47,336.904 574.676,349.956 594.881,363.039 615.087,376.148 635.292,389.278 655.497,402.424 675.703,415.581 695.908,428.744 716.114,441.909 736.319,455.072 756.525,468.228 776.73,481.372 796.936,494.501 817.141,507.61 837.347,520.696 857.552,533.752 877.758,546.776 897.963,559.763 918.168,572.709 938.374,585.609 958.579,598.459 978.785,611.255 998.99,623.992 1019.2,636.667 1039.4,649.274 1059.61,661.811 1079.81,674.272 1100.02,686.653 1120.22,698.949 1140.43,711.158 1160.63,723.274 1180.84,735.293 1201.04,747.211 1221.25,759.023 1241.46,770.726 1261.66,782.315 1281.87,793.785 1302.07,805.134 1322.28,816.355 1342.48,827.446 1362.69,838.402 1382.89,849.218 1403.1,859.891 1423.3,870.416 1443.51,880.788 1463.72,891.005 1483.92,901.061 1504.13,910.952 1524.33,920.674 1544.54,930.223 1564.74,939.594 1584.95,948.784 1605.15,957.787 1625.36,966.601 1645.56,975.22 1665.77,983.64 1685.98,991.858 1706.18,999.868 1726.39,1007.67 1746.59,1015.25 1766.8,1022.62 1787,1029.76 1807.21,1036.67 1827.41,1043.35 1847.62,1049.79 1867.82,1055.99 1888.03,1061.95 1908.24,1067.65 1928.44,1073.11 1948.65,1078.3 1968.85,1083.24 1989.06,1087.9 2009.26,1092.3 2029.47,1096.42 2049.67,1100.27 2069.88,1103.83 2090.08,1107.1 2110.29,1110.08 2130.5,1112.77 2150.7,1115.15 2170.91,1117.23 2191.11,1119.01 2211.32,1120.46 2231.52,1121.61 2251.73,1122.43 2271.93,1122.92 2292.14,1123.09 \"/>\n",
       "<polyline clip-path=\"url(#clip302)\" style=\"stroke:#c271d2; stroke-linecap:round; stroke-linejoin:round; stroke-width:4; stroke-opacity:1; fill:none\" points=\"271.594,1267.52 291.799,1263.81 312.005,1260.17 332.21,1256.58 352.416,1253.06 372.621,1249.59 392.827,1246.18 413.032,1242.82 433.237,1239.53 453.443,1236.3 473.648,1233.12 493.854,1230.01 514.059,1226.95 534.265,1223.95 554.47,1221.01 574.676,1218.14 594.881,1215.32 615.087,1212.56 635.292,1209.86 655.497,1207.23 675.703,1204.65 695.908,1202.12 716.114,1199.63 736.319,1197.18 756.525,1194.76 776.73,1192.38 796.936,1190.04 817.141,1187.74 837.347,1185.48 857.552,1183.26 877.758,1181.07 897.963,1178.92 918.168,1176.81 938.374,1174.74 958.579,1172.71 978.785,1170.71 998.99,1168.76 1019.2,1166.84 1039.4,1164.96 1059.61,1163.12 1079.81,1161.31 1100.02,1159.55 1120.22,1157.82 1140.43,1156.13 1160.63,1154.48 1180.84,1152.87 1201.04,1151.29 1221.25,1149.76 1241.46,1148.26 1261.66,1146.8 1281.87,1145.38 1302.07,1144 1322.28,1142.65 1342.48,1141.35 1362.69,1140.08 1382.89,1138.85 1403.1,1137.66 1423.3,1136.5 1443.51,1135.39 1463.72,1134.31 1483.92,1133.27 1504.13,1132.27 1524.33,1131.31 1544.54,1130.39 1564.74,1129.5 1584.95,1128.65 1605.15,1127.85 1625.36,1127.07 1645.56,1126.34 1665.77,1125.65 1685.98,1124.99 1706.18,1124.37 1726.39,1123.79 1746.59,1123.25 1766.8,1122.75 1787,1122.28 1807.21,1121.86 1827.41,1121.47 1847.62,1121.12 1867.82,1120.81 1888.03,1120.53 1908.24,1120.3 1928.44,1120.1 1948.65,1119.94 1968.85,1119.82 1989.06,1119.74 2009.26,1119.69 2029.47,1119.69 2049.67,1119.72 2069.88,1119.79 2090.08,1119.9 2110.29,1120.05 2130.5,1120.23 2150.7,1120.45 2170.91,1120.72 2191.11,1121.02 2211.32,1121.35 2231.52,1121.73 2251.73,1122.15 2271.93,1122.6 2292.14,1123.09 \"/>\n",
       "<polyline clip-path=\"url(#clip302)\" style=\"stroke:#ac8d18; stroke-linecap:round; stroke-linejoin:round; stroke-width:4; stroke-opacity:1; fill:none\" points=\"271.594,1026.81 291.799,1032.16 312.005,1037.4 332.21,1042.53 352.416,1047.55 372.621,1052.46 392.827,1057.26 413.032,1061.95 433.237,1066.53 453.443,1071.01 473.648,1075.37 493.854,1079.63 514.059,1083.78 534.265,1087.82 554.47,1091.75 574.676,1095.57 594.881,1099.29 615.087,1102.9 635.292,1106.4 655.497,1109.79 675.703,1113.08 695.908,1116.28 716.114,1119.4 736.319,1122.44 756.525,1125.41 776.73,1128.29 796.936,1131.1 817.141,1133.83 837.347,1136.49 857.552,1139.06 877.758,1141.56 897.963,1143.98 918.168,1146.32 938.374,1148.58 958.579,1150.77 978.785,1152.88 998.99,1154.91 1019.2,1156.86 1039.4,1158.73 1059.61,1160.53 1079.81,1162.25 1100.02,1163.89 1120.22,1165.45 1140.43,1166.94 1160.63,1168.34 1180.84,1169.67 1201.04,1170.92 1221.25,1172.1 1241.46,1173.19 1261.66,1174.21 1281.87,1175.15 1302.07,1176.01 1322.28,1176.8 1342.48,1177.51 1362.69,1178.14 1382.89,1178.69 1403.1,1179.16 1423.3,1179.56 1443.51,1179.88 1463.72,1180.12 1483.92,1180.28 1504.13,1180.36 1524.33,1180.37 1544.54,1180.3 1564.74,1180.15 1584.95,1179.93 1605.15,1179.63 1625.36,1179.24 1645.56,1178.79 1665.77,1178.25 1685.98,1177.64 1706.18,1176.94 1726.39,1176.17 1746.59,1175.33 1766.8,1174.4 1787,1173.4 1807.21,1172.32 1827.41,1171.16 1847.62,1169.93 1867.82,1168.61 1888.03,1167.22 1908.24,1165.75 1928.44,1164.21 1948.65,1162.58 1968.85,1160.88 1989.06,1159.1 2009.26,1157.25 2029.47,1155.31 2049.67,1153.3 2069.88,1151.21 2090.08,1149.04 2110.29,1146.8 2130.5,1144.47 2150.7,1142.07 2170.91,1139.59 2191.11,1137.04 2211.32,1134.4 2231.52,1131.69 2251.73,1128.9 2271.93,1126.04 2292.14,1123.09 \"/>\n",
       "<polyline clip-path=\"url(#clip302)\" style=\"stroke:#00a9ad; stroke-linecap:round; stroke-linejoin:round; stroke-width:4; stroke-opacity:1; fill:none\" points=\"271.594,1363.8 291.799,1365.89 312.005,1367.87 332.21,1369.76 352.416,1371.54 372.621,1373.22 392.827,1374.8 413.032,1376.28 433.237,1377.66 453.443,1378.93 473.648,1380.11 493.854,1381.18 514.059,1382.15 534.265,1383.02 554.47,1383.8 574.676,1384.47 594.881,1385.04 615.087,1385.51 635.292,1385.88 655.497,1386.15 675.703,1386.32 695.908,1386.4 716.114,1386.39 736.319,1386.29 756.525,1386.11 776.73,1385.85 796.936,1385.49 817.141,1385.05 837.347,1384.53 857.552,1383.92 877.758,1383.22 897.963,1382.44 918.168,1381.57 938.374,1380.61 958.579,1379.57 978.785,1378.44 998.99,1377.23 1019.2,1375.93 1039.4,1374.55 1059.61,1373.08 1079.81,1371.53 1100.02,1369.89 1120.22,1368.16 1140.43,1366.35 1160.63,1364.46 1180.84,1362.48 1201.04,1360.41 1221.25,1358.26 1241.46,1356.03 1261.66,1353.71 1281.87,1351.3 1302.07,1348.81 1322.28,1346.24 1342.48,1343.58 1362.69,1340.83 1382.89,1338 1403.1,1335.09 1423.3,1332.09 1443.51,1329 1463.72,1325.83 1483.92,1322.58 1504.13,1319.24 1524.33,1315.82 1544.54,1312.31 1564.74,1308.72 1584.95,1305.04 1605.15,1301.28 1625.36,1297.44 1645.56,1293.51 1665.77,1289.49 1685.98,1285.39 1706.18,1281.21 1726.39,1276.94 1746.59,1272.59 1766.8,1268.15 1787,1263.63 1807.21,1259.02 1827.41,1254.33 1847.62,1249.55 1867.82,1244.69 1888.03,1239.75 1908.24,1234.72 1928.44,1229.61 1948.65,1224.41 1968.85,1219.12 1989.06,1213.76 2009.26,1208.3 2029.47,1202.77 2049.67,1197.15 2069.88,1191.44 2090.08,1185.65 2110.29,1179.78 2130.5,1173.82 2150.7,1167.77 2170.91,1161.64 2191.11,1155.43 2211.32,1149.13 2231.52,1142.75 2251.73,1136.28 2271.93,1129.73 2292.14,1123.09 \"/>\n",
       "<path clip-path=\"url(#clip300)\" d=\"M2023.9 529.676 L2281.36 529.676 L2281.36 166.796 L2023.9 166.796  Z\" fill=\"#ffffff\" fill-rule=\"evenodd\" fill-opacity=\"1\"/>\n",
       "<polyline clip-path=\"url(#clip300)\" style=\"stroke:#000000; stroke-linecap:round; stroke-linejoin:round; stroke-width:4; stroke-opacity:1; fill:none\" points=\"2023.9,529.676 2281.36,529.676 2281.36,166.796 2023.9,166.796 2023.9,529.676 \"/>\n",
       "<polyline clip-path=\"url(#clip300)\" style=\"stroke:#009af9; stroke-linecap:round; stroke-linejoin:round; stroke-width:4; stroke-opacity:1; fill:none\" points=\"2047.7,218.636 2190.48,218.636 \"/>\n",
       "<path clip-path=\"url(#clip300)\" d=\"M2238.93 209.99 L2229.56 222.606 L2239.42 235.916 L2234.39 235.916 L2226.85 225.731 L2219.3 235.916 L2214.28 235.916 L2224.35 222.351 L2215.14 209.99 L2220.16 209.99 L2227.03 219.226 L2233.91 209.99 L2238.93 209.99 Z\" fill=\"#000000\" fill-rule=\"evenodd\" fill-opacity=\"1\" /><path clip-path=\"url(#clip300)\" d=\"M2244.58 233.369 L2249.3 233.369 L2249.3 219.226 L2244.14 220.175 L2244.14 217.49 L2249.46 216.587 L2252.64 216.587 L2252.64 233.369 L2257.38 233.369 L2257.38 235.916 L2244.58 235.916 L2244.58 233.369 Z\" fill=\"#000000\" fill-rule=\"evenodd\" fill-opacity=\"1\" /><polyline clip-path=\"url(#clip300)\" style=\"stroke:#e26f46; stroke-linecap:round; stroke-linejoin:round; stroke-width:4; stroke-opacity:1; fill:none\" points=\"2047.7,270.476 2190.48,270.476 \"/>\n",
       "<path clip-path=\"url(#clip300)\" d=\"M2238.93 261.83 L2229.56 274.446 L2239.42 287.756 L2234.39 287.756 L2226.85 277.571 L2219.3 287.756 L2214.28 287.756 L2224.35 274.191 L2215.14 261.83 L2220.16 261.83 L2227.03 271.066 L2233.91 261.83 L2238.93 261.83 Z\" fill=\"#000000\" fill-rule=\"evenodd\" fill-opacity=\"1\" /><path clip-path=\"url(#clip300)\" d=\"M2247.17 285.117 L2256.99 285.117 L2256.99 287.756 L2243.14 287.756 L2243.14 285.209 Q2243.93 284.492 2245.39 283.196 Q2253.35 276.135 2253.35 273.959 Q2253.35 272.432 2252.15 271.506 Q2250.95 270.557 2248.98 270.557 Q2247.77 270.557 2246.36 270.973 Q2244.95 271.367 2243.28 272.177 L2243.28 269.33 Q2245.07 268.682 2246.59 268.358 Q2248.14 268.034 2249.46 268.034 Q2252.82 268.034 2254.83 269.561 Q2256.85 271.089 2256.85 273.589 Q2256.85 276.807 2249.19 283.381 Q2247.89 284.492 2247.17 285.117 Z\" fill=\"#000000\" fill-rule=\"evenodd\" fill-opacity=\"1\" /><polyline clip-path=\"url(#clip300)\" style=\"stroke:#3da44d; stroke-linecap:round; stroke-linejoin:round; stroke-width:4; stroke-opacity:1; fill:none\" points=\"2047.7,322.316 2190.48,322.316 \"/>\n",
       "<path clip-path=\"url(#clip300)\" d=\"M2238.93 313.67 L2229.56 326.286 L2239.42 339.596 L2234.39 339.596 L2226.85 329.411 L2219.3 339.596 L2214.28 339.596 L2224.35 326.031 L2215.14 313.67 L2220.16 313.67 L2227.03 322.906 L2233.91 313.67 L2238.93 313.67 Z\" fill=\"#000000\" fill-rule=\"evenodd\" fill-opacity=\"1\" /><path clip-path=\"url(#clip300)\" d=\"M2253.1 329.133 Q2255.23 329.549 2256.39 330.823 Q2257.57 332.073 2257.57 333.971 Q2257.57 336.841 2255.37 338.392 Q2253.17 339.943 2249.07 339.943 Q2247.75 339.943 2246.29 339.688 Q2244.86 339.457 2243.24 338.994 L2243.24 336.193 Q2244.44 336.818 2245.81 337.119 Q2247.2 337.42 2248.75 337.42 Q2251.27 337.42 2252.66 336.517 Q2254.05 335.591 2254.05 333.971 Q2254.05 332.258 2252.75 331.378 Q2251.48 330.499 2248.98 330.499 L2246.99 330.499 L2246.99 327.999 L2249.16 327.999 Q2251.34 327.999 2252.45 327.281 Q2253.58 326.54 2253.58 325.151 Q2253.58 323.809 2252.43 323.114 Q2251.27 322.397 2249.07 322.397 Q2248.14 322.397 2246.96 322.605 Q2245.78 322.813 2243.91 323.346 L2243.91 320.684 Q2245.6 320.29 2247.08 320.082 Q2248.56 319.874 2249.83 319.874 Q2253.17 319.874 2255.11 321.239 Q2257.08 322.605 2257.08 324.897 Q2257.08 326.494 2256.04 327.605 Q2255 328.716 2253.1 329.133 Z\" fill=\"#000000\" fill-rule=\"evenodd\" fill-opacity=\"1\" /><polyline clip-path=\"url(#clip300)\" style=\"stroke:#c271d2; stroke-linecap:round; stroke-linejoin:round; stroke-width:4; stroke-opacity:1; fill:none\" points=\"2047.7,374.156 2190.48,374.156 \"/>\n",
       "<path clip-path=\"url(#clip300)\" d=\"M2238.93 365.51 L2229.56 378.126 L2239.42 391.436 L2234.39 391.436 L2226.85 381.251 L2219.3 391.436 L2214.28 391.436 L2224.35 377.871 L2215.14 365.51 L2220.16 365.51 L2227.03 374.746 L2233.91 365.51 L2238.93 365.51 Z\" fill=\"#000000\" fill-rule=\"evenodd\" fill-opacity=\"1\" /><path clip-path=\"url(#clip300)\" d=\"M2226.94 355.417 L2231.2 355.417 L2231.2 360.811 L2226.94 360.811 L2226.94 355.417 M2229.12 364.885 L2229.12 364.885 Z\" fill=\"#000000\" fill-rule=\"evenodd\" fill-opacity=\"1\" /><path clip-path=\"url(#clip300)\" d=\"M2244.58 388.889 L2249.3 388.889 L2249.3 374.746 L2244.14 375.695 L2244.14 373.01 L2249.46 372.107 L2252.64 372.107 L2252.64 388.889 L2257.38 388.889 L2257.38 391.436 L2244.58 391.436 L2244.58 388.889 Z\" fill=\"#000000\" fill-rule=\"evenodd\" fill-opacity=\"1\" /><polyline clip-path=\"url(#clip300)\" style=\"stroke:#ac8d18; stroke-linecap:round; stroke-linejoin:round; stroke-width:4; stroke-opacity:1; fill:none\" points=\"2047.7,425.996 2190.48,425.996 \"/>\n",
       "<path clip-path=\"url(#clip300)\" d=\"M2238.93 417.35 L2229.56 429.966 L2239.42 443.276 L2234.39 443.276 L2226.85 433.091 L2219.3 443.276 L2214.28 443.276 L2224.35 429.711 L2215.14 417.35 L2220.16 417.35 L2227.03 426.586 L2233.91 417.35 L2238.93 417.35 Z\" fill=\"#000000\" fill-rule=\"evenodd\" fill-opacity=\"1\" /><path clip-path=\"url(#clip300)\" d=\"M2226.94 407.257 L2231.2 407.257 L2231.2 412.651 L2226.94 412.651 L2226.94 407.257 M2229.12 416.725 L2229.12 416.725 Z\" fill=\"#000000\" fill-rule=\"evenodd\" fill-opacity=\"1\" /><path clip-path=\"url(#clip300)\" d=\"M2247.17 440.637 L2256.99 440.637 L2256.99 443.276 L2243.14 443.276 L2243.14 440.729 Q2243.93 440.012 2245.39 438.716 Q2253.35 431.655 2253.35 429.479 Q2253.35 427.952 2252.15 427.026 Q2250.95 426.077 2248.98 426.077 Q2247.77 426.077 2246.36 426.493 Q2244.95 426.887 2243.28 427.697 L2243.28 424.85 Q2245.07 424.202 2246.59 423.878 Q2248.14 423.554 2249.46 423.554 Q2252.82 423.554 2254.83 425.081 Q2256.85 426.609 2256.85 429.109 Q2256.85 432.327 2249.19 438.901 Q2247.89 440.012 2247.17 440.637 Z\" fill=\"#000000\" fill-rule=\"evenodd\" fill-opacity=\"1\" /><polyline clip-path=\"url(#clip300)\" style=\"stroke:#00a9ad; stroke-linecap:round; stroke-linejoin:round; stroke-width:4; stroke-opacity:1; fill:none\" points=\"2047.7,477.836 2190.48,477.836 \"/>\n",
       "<path clip-path=\"url(#clip300)\" d=\"M2238.93 469.19 L2229.56 481.806 L2239.42 495.116 L2234.39 495.116 L2226.85 484.931 L2219.3 495.116 L2214.28 495.116 L2224.35 481.551 L2215.14 469.19 L2220.16 469.19 L2227.03 478.426 L2233.91 469.19 L2238.93 469.19 Z\" fill=\"#000000\" fill-rule=\"evenodd\" fill-opacity=\"1\" /><path clip-path=\"url(#clip300)\" d=\"M2226.94 459.097 L2231.2 459.097 L2231.2 464.491 L2226.94 464.491 L2226.94 459.097 M2229.12 468.565 L2229.12 468.565 Z\" fill=\"#000000\" fill-rule=\"evenodd\" fill-opacity=\"1\" /><path clip-path=\"url(#clip300)\" d=\"M2253.1 484.653 Q2255.23 485.069 2256.39 486.343 Q2257.57 487.593 2257.57 489.491 Q2257.57 492.361 2255.37 493.912 Q2253.17 495.463 2249.07 495.463 Q2247.75 495.463 2246.29 495.208 Q2244.86 494.977 2243.24 494.514 L2243.24 491.713 Q2244.44 492.338 2245.81 492.639 Q2247.2 492.94 2248.75 492.94 Q2251.27 492.94 2252.66 492.037 Q2254.05 491.111 2254.05 489.491 Q2254.05 487.778 2252.75 486.898 Q2251.48 486.019 2248.98 486.019 L2246.99 486.019 L2246.99 483.519 L2249.16 483.519 Q2251.34 483.519 2252.45 482.801 Q2253.58 482.06 2253.58 480.671 Q2253.58 479.329 2252.43 478.634 Q2251.27 477.917 2249.07 477.917 Q2248.14 477.917 2246.96 478.125 Q2245.78 478.333 2243.91 478.866 L2243.91 476.204 Q2245.6 475.81 2247.08 475.602 Q2248.56 475.394 2249.83 475.394 Q2253.17 475.394 2255.11 476.759 Q2257.08 478.125 2257.08 480.417 Q2257.08 482.014 2256.04 483.125 Q2255 484.236 2253.1 484.653 Z\" fill=\"#000000\" fill-rule=\"evenodd\" fill-opacity=\"1\" /></svg>\n"
      ]
     },
     "metadata": {},
     "output_type": "display_data"
    },
    {
     "data": {
      "image/png": "[encoded data removed]",
      "image/svg+xml": "<?xml version=\"1.0\" encoding=\"utf-8\"?>\n<svg xmlns=\"http://www.w3.org/2000/svg\" xmlns:xlink=\"http://www.w3.org/1999/xlink\" width=\"600\" height=\"400\" viewBox=\"0 0 2400 1600\">\n<defs>\n  <clipPath id=\"clip340\">\n    <rect x=\"0\" y=\"0\" width=\"2400\" height=\"1600\"/>\n  </clipPath>\n</defs>\n<path clip-path=\"url(#clip340)\" d=\"M0 1600 L2400 1600 L2400 0 L0 0  Z\" fill=\"#ffffff\" fill-rule=\"evenodd\" fill-opacity=\"1\"/>\n<defs>\n  <clipPath id=\"clip341\">\n    <rect x=\"480\" y=\"0\" width=\"1681\" height=\"1600\"/>\n  </clipPath>\n</defs>\n<path clip-path=\"url(#clip340)\" d=\"M232.389 1423.18 L2352.76 1423.18 L2352.76 123.472 L232.389 123.472  Z\" fill=\"#ffffff\" fill-rule=\"evenodd\" fill-opacity=\"1\"/>\n<defs>\n  <clipPath id=\"clip342\">\n    <rect x=\"232\" y=\"123\" width=\"2121\" height=\"1301\"/>\n  </clipPath>\n</defs>\n<polyline clip-path=\"url(#clip342)\" style=\"stroke:#000000; stroke-linecap:round; stroke-linejoin:round; stroke-width:2; stroke-opacity:0.1; fill:none\" points=\"292.4,1423.18 292.4,123.472 \"/>\n<polyline clip-path=\"url(#clip342)\" style=\"stroke:#000000; stroke-linecap:round; stroke-linejoin:round; stroke-width:2; stroke-opacity:0.1; fill:none\" points=\"797.538,1423.18 797.538,123.472 \"/>\n<polyline clip-path=\"url(#clip342)\" style=\"stroke:#000000; stroke-linecap:round; stroke-linejoin:round; stroke-width:2; stroke-opacity:0.1; fill:none\" points=\"1302.68,1423.18 1302.68,123.472 \"/>\n<polyline clip-path=\"url(#clip342)\" style=\"stroke:#000000; stroke-linecap:round; stroke-linejoin:round; stroke-width:2; stroke-opacity:0.1; fill:none\" points=\"1807.81,1423.18 1807.81,123.472 \"/>\n<polyline clip-path=\"url(#clip342)\" style=\"stroke:#000000; stroke-linecap:round; stroke-linejoin:round; stroke-width:2; stroke-opacity:0.1; fill:none\" points=\"2312.95,1423.18 2312.95,123.472 \"/>\n<polyline clip-path=\"url(#clip340)\" style=\"stroke:#000000; stroke-linecap:round; stroke-linejoin:round; stroke-width:4; stroke-opacity:1; fill:none\" points=\"232.389,1423.18 2352.76,1423.18 \"/>\n<polyline clip-path=\"url(#clip340)\" style=\"stroke:#000000; stroke-linecap:round; stroke-linejoin:round; stroke-width:4; stroke-opacity:1; fill:none\" points=\"292.4,1423.18 292.4,1404.28 \"/>\n<polyline clip-path=\"url(#clip340)\" style=\"stroke:#000000; stroke-linecap:round; stroke-linejoin:round; stroke-width:4; stroke-opacity:1; fill:none\" points=\"797.538,1423.18 797.538,1404.28 \"/>\n<polyline clip-path=\"url(#clip340)\" style=\"stroke:#000000; stroke-linecap:round; stroke-linejoin:round; stroke-width:4; stroke-opacity:1; fill:none\" points=\"1302.68,1423.18 1302.68,1404.28 \"/>\n<polyline clip-path=\"url(#clip340)\" style=\"stroke:#000000; stroke-linecap:round; stroke-linejoin:round; stroke-width:4; stroke-opacity:1; fill:none\" points=\"1807.81,1423.18 1807.81,1404.28 \"/>\n<polyline clip-path=\"url(#clip340)\" style=\"stroke:#000000; stroke-linecap:round; stroke-linejoin:round; stroke-width:4; stroke-opacity:1; fill:none\" points=\"2312.95,1423.18 2312.95,1404.28 \"/>\n<path clip-path=\"url(#clip340)\" d=\"M269.784 1454.1 Q266.173 1454.1 264.344 1457.66 Q262.539 1461.2 262.539 1468.33 Q262.539 1475.44 264.344 1479.01 Q266.173 1482.55 269.784 1482.55 Q273.418 1482.55 275.224 1479.01 Q277.053 1475.44 277.053 1468.33 Q277.053 1461.2 275.224 1457.66 Q273.418 1454.1 269.784 1454.1 M269.784 1450.39 Q275.594 1450.39 278.65 1455 Q281.728 1459.58 281.728 1468.33 Q281.728 1477.06 278.65 1481.67 Q275.594 1486.25 269.784 1486.25 Q263.974 1486.25 260.895 1481.67 Q257.84 1477.06 257.84 1468.33 Q257.84 1459.58 260.895 1455 Q263.974 1450.39 269.784 1450.39 Z\" fill=\"#000000\" fill-rule=\"evenodd\" fill-opacity=\"1\" /><path clip-path=\"url(#clip340)\" d=\"M289.946 1479.7 L294.83 1479.7 L294.83 1485.58 L289.946 1485.58 L289.946 1479.7 Z\" fill=\"#000000\" fill-rule=\"evenodd\" fill-opacity=\"1\" /><path clip-path=\"url(#clip340)\" d=\"M315.015 1454.1 Q311.404 1454.1 309.576 1457.66 Q307.77 1461.2 307.77 1468.33 Q307.77 1475.44 309.576 1479.01 Q311.404 1482.55 315.015 1482.55 Q318.65 1482.55 320.455 1479.01 Q322.284 1475.44 322.284 1468.33 Q322.284 1461.2 320.455 1457.66 Q318.65 1454.1 315.015 1454.1 M315.015 1450.39 Q320.825 1450.39 323.881 1455 Q326.96 1459.58 326.96 1468.33 Q326.96 1477.06 323.881 1481.67 Q320.825 1486.25 315.015 1486.25 Q309.205 1486.25 306.126 1481.67 Q303.071 1477.06 303.071 1468.33 Q303.071 1459.58 306.126 1455 Q309.205 1450.39 315.015 1450.39 Z\" fill=\"#000000\" fill-rule=\"evenodd\" fill-opacity=\"1\" /><path clip-path=\"url(#clip340)\" d=\"M769.274 1481.64 L785.593 1481.64 L785.593 1485.58 L763.649 1485.58 L763.649 1481.64 Q766.311 1478.89 770.894 1474.26 Q775.501 1469.61 776.681 1468.27 Q778.927 1465.74 779.806 1464.01 Q780.709 1462.25 780.709 1460.56 Q780.709 1457.8 778.765 1456.07 Q776.843 1454.33 773.741 1454.33 Q771.542 1454.33 769.089 1455.09 Q766.658 1455.86 763.88 1457.41 L763.88 1452.69 Q766.704 1451.55 769.158 1450.97 Q771.612 1450.39 773.649 1450.39 Q779.019 1450.39 782.214 1453.08 Q785.408 1455.77 785.408 1460.26 Q785.408 1462.39 784.598 1464.31 Q783.811 1466.2 781.704 1468.8 Q781.126 1469.47 778.024 1472.69 Q774.922 1475.88 769.274 1481.64 Z\" fill=\"#000000\" fill-rule=\"evenodd\" fill-opacity=\"1\" /><path clip-path=\"url(#clip340)\" d=\"M795.408 1479.7 L800.292 1479.7 L800.292 1485.58 L795.408 1485.58 L795.408 1479.7 Z\" fill=\"#000000\" fill-rule=\"evenodd\" fill-opacity=\"1\" /><path clip-path=\"url(#clip340)\" d=\"M810.524 1451.02 L828.88 1451.02 L828.88 1454.96 L814.806 1454.96 L814.806 1463.43 Q815.824 1463.08 816.843 1462.92 Q817.862 1462.73 818.88 1462.73 Q824.667 1462.73 828.047 1465.9 Q831.426 1469.08 831.426 1474.49 Q831.426 1480.07 827.954 1483.17 Q824.482 1486.25 818.162 1486.25 Q815.987 1486.25 813.718 1485.88 Q811.473 1485.51 809.065 1484.77 L809.065 1480.07 Q811.149 1481.2 813.371 1481.76 Q815.593 1482.32 818.07 1482.32 Q822.074 1482.32 824.412 1480.21 Q826.75 1478.1 826.75 1474.49 Q826.75 1470.88 824.412 1468.77 Q822.074 1466.67 818.07 1466.67 Q816.195 1466.67 814.32 1467.08 Q812.468 1467.5 810.524 1468.38 L810.524 1451.02 Z\" fill=\"#000000\" fill-rule=\"evenodd\" fill-opacity=\"1\" /><path clip-path=\"url(#clip340)\" d=\"M1269.84 1451.02 L1288.2 1451.02 L1288.2 1454.96 L1274.12 1454.96 L1274.12 1463.43 Q1275.14 1463.08 1276.16 1462.92 Q1277.18 1462.73 1278.2 1462.73 Q1283.98 1462.73 1287.36 1465.9 Q1290.74 1469.08 1290.74 1474.49 Q1290.74 1480.07 1287.27 1483.17 Q1283.8 1486.25 1277.48 1486.25 Q1275.3 1486.25 1273.03 1485.88 Q1270.79 1485.51 1268.38 1484.77 L1268.38 1480.07 Q1270.46 1481.2 1272.69 1481.76 Q1274.91 1482.32 1277.39 1482.32 Q1281.39 1482.32 1283.73 1480.21 Q1286.07 1478.1 1286.07 1474.49 Q1286.07 1470.88 1283.73 1468.77 Q1281.39 1466.67 1277.39 1466.67 Q1275.51 1466.67 1273.64 1467.08 Q1271.78 1467.5 1269.84 1468.38 L1269.84 1451.02 Z\" fill=\"#000000\" fill-rule=\"evenodd\" fill-opacity=\"1\" /><path clip-path=\"url(#clip340)\" d=\"M1299.96 1479.7 L1304.84 1479.7 L1304.84 1485.58 L1299.96 1485.58 L1299.96 1479.7 Z\" fill=\"#000000\" fill-rule=\"evenodd\" fill-opacity=\"1\" /><path clip-path=\"url(#clip340)\" d=\"M1325.02 1454.1 Q1321.41 1454.1 1319.59 1457.66 Q1317.78 1461.2 1317.78 1468.33 Q1317.78 1475.44 1319.59 1479.01 Q1321.41 1482.55 1325.02 1482.55 Q1328.66 1482.55 1330.46 1479.01 Q1332.29 1475.44 1332.29 1468.33 Q1332.29 1461.2 1330.46 1457.66 Q1328.66 1454.1 1325.02 1454.1 M1325.02 1450.39 Q1330.83 1450.39 1333.89 1455 Q1336.97 1459.58 1336.97 1468.33 Q1336.97 1477.06 1333.89 1481.67 Q1330.83 1486.25 1325.02 1486.25 Q1319.21 1486.25 1316.14 1481.67 Q1313.08 1477.06 1313.08 1468.33 Q1313.08 1459.58 1316.14 1455 Q1319.21 1450.39 1325.02 1450.39 Z\" fill=\"#000000\" fill-rule=\"evenodd\" fill-opacity=\"1\" /><path clip-path=\"url(#clip340)\" d=\"M1774.13 1451.02 L1796.35 1451.02 L1796.35 1453.01 L1783.81 1485.58 L1778.92 1485.58 L1790.73 1454.96 L1774.13 1454.96 L1774.13 1451.02 Z\" fill=\"#000000\" fill-rule=\"evenodd\" fill-opacity=\"1\" /><path clip-path=\"url(#clip340)\" d=\"M1805.48 1479.7 L1810.36 1479.7 L1810.36 1485.58 L1805.48 1485.58 L1805.48 1479.7 Z\" fill=\"#000000\" fill-rule=\"evenodd\" fill-opacity=\"1\" /><path clip-path=\"url(#clip340)\" d=\"M1820.59 1451.02 L1838.95 1451.02 L1838.95 1454.96 L1824.87 1454.96 L1824.87 1463.43 Q1825.89 1463.08 1826.91 1462.92 Q1827.93 1462.73 1828.95 1462.73 Q1834.73 1462.73 1838.11 1465.9 Q1841.49 1469.08 1841.49 1474.49 Q1841.49 1480.07 1838.02 1483.17 Q1834.55 1486.25 1828.23 1486.25 Q1826.05 1486.25 1823.79 1485.88 Q1821.54 1485.51 1819.13 1484.77 L1819.13 1480.07 Q1821.22 1481.2 1823.44 1481.76 Q1825.66 1482.32 1828.14 1482.32 Q1832.14 1482.32 1834.48 1480.21 Q1836.82 1478.1 1836.82 1474.49 Q1836.82 1470.88 1834.48 1468.77 Q1832.14 1466.67 1828.14 1466.67 Q1826.26 1466.67 1824.39 1467.08 Q1822.54 1467.5 1820.59 1468.38 L1820.59 1451.02 Z\" fill=\"#000000\" fill-rule=\"evenodd\" fill-opacity=\"1\" /><path clip-path=\"url(#clip340)\" d=\"M2265.02 1481.64 L2272.66 1481.64 L2272.66 1455.28 L2264.35 1456.95 L2264.35 1452.69 L2272.62 1451.02 L2277.29 1451.02 L2277.29 1481.64 L2284.93 1481.64 L2284.93 1485.58 L2265.02 1485.58 L2265.02 1481.64 Z\" fill=\"#000000\" fill-rule=\"evenodd\" fill-opacity=\"1\" /><path clip-path=\"url(#clip340)\" d=\"M2304.37 1454.1 Q2300.76 1454.1 2298.93 1457.66 Q2297.13 1461.2 2297.13 1468.33 Q2297.13 1475.44 2298.93 1479.01 Q2300.76 1482.55 2304.37 1482.55 Q2308.01 1482.55 2309.81 1479.01 Q2311.64 1475.44 2311.64 1468.33 Q2311.64 1461.2 2309.81 1457.66 Q2308.01 1454.1 2304.37 1454.1 M2304.37 1450.39 Q2310.18 1450.39 2313.24 1455 Q2316.32 1459.58 2316.32 1468.33 Q2316.32 1477.06 2313.24 1481.67 Q2310.18 1486.25 2304.37 1486.25 Q2298.56 1486.25 2295.49 1481.67 Q2292.43 1477.06 2292.43 1468.33 Q2292.43 1459.58 2295.49 1455 Q2298.56 1450.39 2304.37 1450.39 Z\" fill=\"#000000\" fill-rule=\"evenodd\" fill-opacity=\"1\" /><path clip-path=\"url(#clip340)\" d=\"M2324.54 1479.7 L2329.42 1479.7 L2329.42 1485.58 L2324.54 1485.58 L2324.54 1479.7 Z\" fill=\"#000000\" fill-rule=\"evenodd\" fill-opacity=\"1\" /><path clip-path=\"url(#clip340)\" d=\"M2349.61 1454.1 Q2345.99 1454.1 2344.17 1457.66 Q2342.36 1461.2 2342.36 1468.33 Q2342.36 1475.44 2344.17 1479.01 Q2345.99 1482.55 2349.61 1482.55 Q2353.24 1482.55 2355.05 1479.01 Q2356.87 1475.44 2356.87 1468.33 Q2356.87 1461.2 2355.05 1457.66 Q2353.24 1454.1 2349.61 1454.1 M2349.61 1450.39 Q2355.42 1450.39 2358.47 1455 Q2361.55 1459.58 2361.55 1468.33 Q2361.55 1477.06 2358.47 1481.67 Q2355.42 1486.25 2349.61 1486.25 Q2343.8 1486.25 2340.72 1481.67 Q2337.66 1477.06 2337.66 1468.33 Q2337.66 1459.58 2340.72 1455 Q2343.8 1450.39 2349.61 1450.39 Z\" fill=\"#000000\" fill-rule=\"evenodd\" fill-opacity=\"1\" /><path clip-path=\"url(#clip340)\" d=\"M1180.03 1522.27 L1180.03 1532.4 L1192.09 1532.4 L1192.09 1536.95 L1180.03 1536.95 L1180.03 1556.3 Q1180.03 1560.66 1181.2 1561.9 Q1182.41 1563.14 1186.07 1563.14 L1192.09 1563.14 L1192.09 1568.04 L1186.07 1568.04 Q1179.29 1568.04 1176.72 1565.53 Q1174.14 1562.98 1174.14 1556.3 L1174.14 1536.95 L1169.84 1536.95 L1169.84 1532.4 L1174.14 1532.4 L1174.14 1522.27 L1180.03 1522.27 Z\" fill=\"#000000\" fill-rule=\"evenodd\" fill-opacity=\"1\" /><path clip-path=\"url(#clip340)\" d=\"M1199.79 1532.4 L1205.65 1532.4 L1205.65 1568.04 L1199.79 1568.04 L1199.79 1532.4 M1199.79 1518.52 L1205.65 1518.52 L1205.65 1525.93 L1199.79 1525.93 L1199.79 1518.52 Z\" fill=\"#000000\" fill-rule=\"evenodd\" fill-opacity=\"1\" /><path clip-path=\"url(#clip340)\" d=\"M1245.66 1539.24 Q1247.85 1535.29 1250.91 1533.41 Q1253.96 1531.54 1258.1 1531.54 Q1263.67 1531.54 1266.7 1535.45 Q1269.72 1539.33 1269.72 1546.53 L1269.72 1568.04 L1263.83 1568.04 L1263.83 1546.72 Q1263.83 1541.59 1262.02 1539.11 Q1260.2 1536.63 1256.48 1536.63 Q1251.93 1536.63 1249.29 1539.65 Q1246.64 1542.68 1246.64 1547.9 L1246.64 1568.04 L1240.76 1568.04 L1240.76 1546.72 Q1240.76 1541.56 1238.94 1539.11 Q1237.13 1536.63 1233.34 1536.63 Q1228.85 1536.63 1226.21 1539.68 Q1223.57 1542.71 1223.57 1547.9 L1223.57 1568.04 L1217.68 1568.04 L1217.68 1532.4 L1223.57 1532.4 L1223.57 1537.93 Q1225.57 1534.66 1228.37 1533.1 Q1231.18 1531.54 1235.03 1531.54 Q1238.91 1531.54 1241.62 1533.51 Q1244.35 1535.48 1245.66 1539.24 Z\" fill=\"#000000\" fill-rule=\"evenodd\" fill-opacity=\"1\" /><path clip-path=\"url(#clip340)\" d=\"M1311.89 1548.76 L1311.89 1551.62 L1284.97 1551.62 Q1285.35 1557.67 1288.59 1560.85 Q1291.87 1564 1297.7 1564 Q1301.07 1564 1304.22 1563.17 Q1307.4 1562.35 1310.52 1560.69 L1310.52 1566.23 Q1307.37 1567.57 1304.06 1568.27 Q1300.75 1568.97 1297.35 1568.97 Q1288.82 1568.97 1283.82 1564 Q1278.85 1559.04 1278.85 1550.57 Q1278.85 1541.82 1283.57 1536.69 Q1288.31 1531.54 1296.33 1531.54 Q1303.52 1531.54 1307.69 1536.18 Q1311.89 1540.8 1311.89 1548.76 M1306.04 1547.04 Q1305.97 1542.23 1303.33 1539.37 Q1300.72 1536.5 1296.39 1536.5 Q1291.49 1536.5 1288.53 1539.27 Q1285.6 1542.04 1285.16 1547.07 L1306.04 1547.04 Z\" fill=\"#000000\" fill-rule=\"evenodd\" fill-opacity=\"1\" /><path clip-path=\"url(#clip340)\" d=\"M1356.29 1518.58 Q1352.03 1525.9 1349.96 1533.06 Q1347.89 1540.23 1347.89 1547.58 Q1347.89 1554.93 1349.96 1562.16 Q1352.06 1569.35 1356.29 1576.64 L1351.2 1576.64 Q1346.43 1569.16 1344.04 1561.93 Q1341.68 1554.71 1341.68 1547.58 Q1341.68 1540.48 1344.04 1533.29 Q1346.39 1526.09 1351.2 1518.58 L1356.29 1518.58 Z\" fill=\"#000000\" fill-rule=\"evenodd\" fill-opacity=\"1\" /><path clip-path=\"url(#clip340)\" d=\"M1390.38 1533.45 L1390.38 1538.98 Q1387.9 1537.71 1385.23 1537.07 Q1382.55 1536.44 1379.69 1536.44 Q1375.33 1536.44 1373.13 1537.77 Q1370.97 1539.11 1370.97 1541.79 Q1370.97 1543.82 1372.53 1545 Q1374.09 1546.15 1378.8 1547.2 L1380.8 1547.64 Q1387.04 1548.98 1389.65 1551.43 Q1392.29 1553.85 1392.29 1558.21 Q1392.29 1563.17 1388.34 1566.07 Q1384.43 1568.97 1377.55 1568.97 Q1374.69 1568.97 1371.57 1568.39 Q1368.48 1567.85 1365.05 1566.74 L1365.05 1560.69 Q1368.29 1562.38 1371.44 1563.24 Q1374.59 1564.07 1377.68 1564.07 Q1381.82 1564.07 1384.05 1562.66 Q1386.28 1561.23 1386.28 1558.65 Q1386.28 1556.27 1384.65 1554.99 Q1383.06 1553.72 1377.62 1552.54 L1375.58 1552.07 Q1370.14 1550.92 1367.72 1548.56 Q1365.3 1546.18 1365.3 1542.04 Q1365.3 1537.01 1368.87 1534.27 Q1372.43 1531.54 1378.99 1531.54 Q1382.23 1531.54 1385.1 1532.01 Q1387.96 1532.49 1390.38 1533.45 Z\" fill=\"#000000\" fill-rule=\"evenodd\" fill-opacity=\"1\" /><path clip-path=\"url(#clip340)\" d=\"M1400.69 1518.58 L1405.79 1518.58 Q1410.56 1526.09 1412.92 1533.29 Q1415.3 1540.48 1415.3 1547.58 Q1415.3 1554.71 1412.92 1561.93 Q1410.56 1569.16 1405.79 1576.64 L1400.69 1576.64 Q1404.93 1569.35 1407 1562.16 Q1409.1 1554.93 1409.1 1547.58 Q1409.1 1540.23 1407 1533.06 Q1404.93 1525.9 1400.69 1518.58 Z\" fill=\"#000000\" fill-rule=\"evenodd\" fill-opacity=\"1\" /><polyline clip-path=\"url(#clip342)\" style=\"stroke:#000000; stroke-linecap:round; stroke-linejoin:round; stroke-width:2; stroke-opacity:0.1; fill:none\" points=\"232.389,1202.15 2352.76,1202.15 \"/>\n<polyline clip-path=\"url(#clip342)\" style=\"stroke:#000000; stroke-linecap:round; stroke-linejoin:round; stroke-width:2; stroke-opacity:0.1; fill:none\" points=\"232.389,953.435 2352.76,953.435 \"/>\n<polyline clip-path=\"url(#clip342)\" style=\"stroke:#000000; stroke-linecap:round; stroke-linejoin:round; stroke-width:2; stroke-opacity:0.1; fill:none\" points=\"232.389,704.721 2352.76,704.721 \"/>\n<polyline clip-path=\"url(#clip342)\" style=\"stroke:#000000; stroke-linecap:round; stroke-linejoin:round; stroke-width:2; stroke-opacity:0.1; fill:none\" points=\"232.389,456.007 2352.76,456.007 \"/>\n<polyline clip-path=\"url(#clip342)\" style=\"stroke:#000000; stroke-linecap:round; stroke-linejoin:round; stroke-width:2; stroke-opacity:0.1; fill:none\" points=\"232.389,207.292 2352.76,207.292 \"/>\n<polyline clip-path=\"url(#clip340)\" style=\"stroke:#000000; stroke-linecap:round; stroke-linejoin:round; stroke-width:4; stroke-opacity:1; fill:none\" points=\"232.389,1423.18 232.389,123.472 \"/>\n<polyline clip-path=\"url(#clip340)\" style=\"stroke:#000000; stroke-linecap:round; stroke-linejoin:round; stroke-width:4; stroke-opacity:1; fill:none\" points=\"232.389,1202.15 251.287,1202.15 \"/>\n<polyline clip-path=\"url(#clip340)\" style=\"stroke:#000000; stroke-linecap:round; stroke-linejoin:round; stroke-width:4; stroke-opacity:1; fill:none\" points=\"232.389,953.435 251.287,953.435 \"/>\n<polyline clip-path=\"url(#clip340)\" style=\"stroke:#000000; stroke-linecap:round; stroke-linejoin:round; stroke-width:4; stroke-opacity:1; fill:none\" points=\"232.389,704.721 251.287,704.721 \"/>\n<polyline clip-path=\"url(#clip340)\" style=\"stroke:#000000; stroke-linecap:round; stroke-linejoin:round; stroke-width:4; stroke-opacity:1; fill:none\" points=\"232.389,456.007 251.287,456.007 \"/>\n<polyline clip-path=\"url(#clip340)\" style=\"stroke:#000000; stroke-linecap:round; stroke-linejoin:round; stroke-width:4; stroke-opacity:1; fill:none\" points=\"232.389,207.292 251.287,207.292 \"/>\n<path clip-path=\"url(#clip340)\" d=\"M184.445 1187.95 Q180.834 1187.95 179.005 1191.51 Q177.2 1195.05 177.2 1202.18 Q177.2 1209.29 179.005 1212.86 Q180.834 1216.4 184.445 1216.4 Q188.079 1216.4 189.885 1212.86 Q191.713 1209.29 191.713 1202.18 Q191.713 1195.05 189.885 1191.51 Q188.079 1187.95 184.445 1187.95 M184.445 1184.24 Q190.255 1184.24 193.311 1188.85 Q196.389 1193.43 196.389 1202.18 Q196.389 1210.91 193.311 1215.52 Q190.255 1220.1 184.445 1220.1 Q178.635 1220.1 175.556 1215.52 Q172.501 1210.91 172.501 1202.18 Q172.501 1193.43 175.556 1188.85 Q178.635 1184.24 184.445 1184.24 Z\" fill=\"#000000\" fill-rule=\"evenodd\" fill-opacity=\"1\" /><path clip-path=\"url(#clip340)\" d=\"M158.45 952.081 Q161.806 952.799 163.681 955.067 Q165.579 957.336 165.579 960.669 Q165.579 965.785 162.061 968.586 Q158.542 971.387 152.061 971.387 Q149.885 971.387 147.57 970.947 Q145.279 970.53 142.825 969.674 L142.825 965.16 Q144.769 966.294 147.084 966.873 Q149.399 967.451 151.922 967.451 Q156.32 967.451 158.612 965.715 Q160.927 963.979 160.927 960.669 Q160.927 957.613 158.774 955.901 Q156.644 954.164 152.825 954.164 L148.797 954.164 L148.797 950.322 L153.01 950.322 Q156.459 950.322 158.288 948.956 Q160.116 947.567 160.116 944.975 Q160.116 942.313 158.218 940.901 Q156.343 939.465 152.825 939.465 Q150.903 939.465 148.704 939.882 Q146.505 940.299 143.866 941.178 L143.866 937.012 Q146.529 936.271 148.843 935.901 Q151.181 935.53 153.241 935.53 Q158.565 935.53 161.667 937.961 Q164.769 940.368 164.769 944.489 Q164.769 947.359 163.126 949.35 Q161.482 951.317 158.45 952.081 Z\" fill=\"#000000\" fill-rule=\"evenodd\" fill-opacity=\"1\" /><path clip-path=\"url(#clip340)\" d=\"M184.445 939.234 Q180.834 939.234 179.005 942.799 Q177.2 946.34 177.2 953.47 Q177.2 960.576 179.005 964.141 Q180.834 967.683 184.445 967.683 Q188.079 967.683 189.885 964.141 Q191.713 960.576 191.713 953.47 Q191.713 946.34 189.885 942.799 Q188.079 939.234 184.445 939.234 M184.445 935.53 Q190.255 935.53 193.311 940.137 Q196.389 944.72 196.389 953.47 Q196.389 962.197 193.311 966.803 Q190.255 971.387 184.445 971.387 Q178.635 971.387 175.556 966.803 Q172.501 962.197 172.501 953.47 Q172.501 944.72 175.556 940.137 Q178.635 935.53 184.445 935.53 Z\" fill=\"#000000\" fill-rule=\"evenodd\" fill-opacity=\"1\" /><path clip-path=\"url(#clip340)\" d=\"M154.862 702.858 Q151.714 702.858 149.862 705.01 Q148.033 707.163 148.033 710.913 Q148.033 714.64 149.862 716.816 Q151.714 718.969 154.862 718.969 Q158.01 718.969 159.839 716.816 Q161.69 714.64 161.69 710.913 Q161.69 707.163 159.839 705.01 Q158.01 702.858 154.862 702.858 M164.144 688.205 L164.144 692.464 Q162.385 691.631 160.579 691.191 Q158.797 690.751 157.038 690.751 Q152.408 690.751 149.954 693.876 Q147.524 697.001 147.177 703.321 Q148.542 701.307 150.603 700.242 Q152.663 699.154 155.14 699.154 Q160.348 699.154 163.357 702.325 Q166.39 705.473 166.39 710.913 Q166.39 716.237 163.241 719.455 Q160.093 722.672 154.862 722.672 Q148.866 722.672 145.695 718.089 Q142.524 713.483 142.524 704.756 Q142.524 696.561 146.413 691.7 Q150.302 686.816 156.853 686.816 Q158.612 686.816 160.394 687.163 Q162.2 687.51 164.144 688.205 Z\" fill=\"#000000\" fill-rule=\"evenodd\" fill-opacity=\"1\" /><path clip-path=\"url(#clip340)\" d=\"M184.445 690.52 Q180.834 690.52 179.005 694.084 Q177.2 697.626 177.2 704.756 Q177.2 711.862 179.005 715.427 Q180.834 718.969 184.445 718.969 Q188.079 718.969 189.885 715.427 Q191.713 711.862 191.713 704.756 Q191.713 697.626 189.885 694.084 Q188.079 690.52 184.445 690.52 M184.445 686.816 Q190.255 686.816 193.311 691.422 Q196.389 696.006 196.389 704.756 Q196.389 713.483 193.311 718.089 Q190.255 722.672 184.445 722.672 Q178.635 722.672 175.556 718.089 Q172.501 713.483 172.501 704.756 Q172.501 696.006 175.556 691.422 Q178.635 686.816 184.445 686.816 Z\" fill=\"#000000\" fill-rule=\"evenodd\" fill-opacity=\"1\" /><path clip-path=\"url(#clip340)\" d=\"M144.422 472.569 L144.422 468.31 Q146.181 469.143 147.987 469.583 Q149.792 470.023 151.528 470.023 Q156.158 470.023 158.589 466.921 Q161.042 463.796 161.39 457.453 Q160.047 459.444 157.987 460.509 Q155.927 461.574 153.427 461.574 Q148.241 461.574 145.209 458.449 Q142.2 455.301 142.2 449.861 Q142.2 444.537 145.348 441.319 Q148.496 438.102 153.728 438.102 Q159.723 438.102 162.871 442.708 Q166.042 447.292 166.042 456.041 Q166.042 464.213 162.153 469.097 Q158.288 473.958 151.737 473.958 Q149.978 473.958 148.172 473.611 Q146.366 473.264 144.422 472.569 M153.728 457.916 Q156.876 457.916 158.704 455.764 Q160.556 453.611 160.556 449.861 Q160.556 446.134 158.704 443.981 Q156.876 441.805 153.728 441.805 Q150.579 441.805 148.728 443.981 Q146.899 446.134 146.899 449.861 Q146.899 453.611 148.728 455.764 Q150.579 457.916 153.728 457.916 Z\" fill=\"#000000\" fill-rule=\"evenodd\" fill-opacity=\"1\" /><path clip-path=\"url(#clip340)\" d=\"M184.445 441.805 Q180.834 441.805 179.005 445.37 Q177.2 448.912 177.2 456.041 Q177.2 463.148 179.005 466.713 Q180.834 470.254 184.445 470.254 Q188.079 470.254 189.885 466.713 Q191.713 463.148 191.713 456.041 Q191.713 448.912 189.885 445.37 Q188.079 441.805 184.445 441.805 M184.445 438.102 Q190.255 438.102 193.311 442.708 Q196.389 447.292 196.389 456.041 Q196.389 464.768 193.311 469.375 Q190.255 473.958 184.445 473.958 Q178.635 473.958 175.556 469.375 Q172.501 464.768 172.501 456.041 Q172.501 447.292 175.556 442.708 Q178.635 438.102 184.445 438.102 Z\" fill=\"#000000\" fill-rule=\"evenodd\" fill-opacity=\"1\" /><path clip-path=\"url(#clip340)\" d=\"M114.931 220.637 L122.57 220.637 L122.57 194.272 L114.26 195.938 L114.26 191.679 L122.524 190.012 L127.2 190.012 L127.2 220.637 L134.839 220.637 L134.839 224.572 L114.931 224.572 L114.931 220.637 Z\" fill=\"#000000\" fill-rule=\"evenodd\" fill-opacity=\"1\" /><path clip-path=\"url(#clip340)\" d=\"M148.311 220.637 L164.63 220.637 L164.63 224.572 L142.686 224.572 L142.686 220.637 Q145.348 217.883 149.931 213.253 Q154.538 208.6 155.718 207.258 Q157.964 204.735 158.843 202.999 Q159.746 201.239 159.746 199.549 Q159.746 196.795 157.802 195.059 Q155.88 193.323 152.778 193.323 Q150.579 193.323 148.126 194.087 Q145.695 194.85 142.917 196.401 L142.917 191.679 Q145.741 190.545 148.195 189.966 Q150.649 189.387 152.686 189.387 Q158.056 189.387 161.251 192.073 Q164.445 194.758 164.445 199.249 Q164.445 201.378 163.635 203.299 Q162.848 205.198 160.741 207.79 Q160.163 208.461 157.061 211.679 Q153.959 214.873 148.311 220.637 Z\" fill=\"#000000\" fill-rule=\"evenodd\" fill-opacity=\"1\" /><path clip-path=\"url(#clip340)\" d=\"M184.445 193.091 Q180.834 193.091 179.005 196.656 Q177.2 200.198 177.2 207.327 Q177.2 214.434 179.005 217.998 Q180.834 221.54 184.445 221.54 Q188.079 221.54 189.885 217.998 Q191.713 214.434 191.713 207.327 Q191.713 200.198 189.885 196.656 Q188.079 193.091 184.445 193.091 M184.445 189.387 Q190.255 189.387 193.311 193.994 Q196.389 198.577 196.389 207.327 Q196.389 216.054 193.311 220.66 Q190.255 225.244 184.445 225.244 Q178.635 225.244 175.556 220.66 Q172.501 216.054 172.501 207.327 Q172.501 198.577 175.556 193.994 Q178.635 189.387 184.445 189.387 Z\" fill=\"#000000\" fill-rule=\"evenodd\" fill-opacity=\"1\" /><path clip-path=\"url(#clip340)\" d=\"M49.9359 788.254 L28.3562 788.254 L28.3562 782.397 L49.7131 782.397 Q54.7739 782.397 57.3202 780.424 Q59.8346 778.45 59.8346 774.504 Q59.8346 769.761 56.8109 767.024 Q53.7872 764.255 48.5673 764.255 L28.3562 764.255 L28.3562 758.398 L64.0042 758.398 L64.0042 764.255 L58.5296 764.255 Q61.7762 766.387 63.3676 769.22 Q64.9272 772.021 64.9272 775.745 Q64.9272 781.888 61.1078 785.071 Q57.2883 788.254 49.9359 788.254 M27.4968 773.517 L27.4968 773.517 Z\" fill=\"#000000\" fill-rule=\"evenodd\" fill-opacity=\"1\" /><path clip-path=\"url(#clip340)\" d=\"M1029.71 12.096 L1037.89 12.096 L1037.89 72.576 L1029.71 72.576 L1029.71 12.096 Z\" fill=\"#000000\" fill-rule=\"evenodd\" fill-opacity=\"1\" /><path clip-path=\"url(#clip340)\" d=\"M1091.57 45.1919 L1091.57 72.576 L1084.11 72.576 L1084.11 45.4349 Q1084.11 38.994 1081.6 35.7938 Q1079.09 32.5936 1074.07 32.5936 Q1068.03 32.5936 1064.55 36.4419 Q1061.06 40.2903 1061.06 46.9338 L1061.06 72.576 L1053.57 72.576 L1053.57 27.2059 L1061.06 27.2059 L1061.06 34.2544 Q1063.74 30.163 1067.34 28.1376 Q1070.99 26.1121 1075.73 26.1121 Q1083.55 26.1121 1087.56 30.9732 Q1091.57 35.7938 1091.57 45.1919 Z\" fill=\"#000000\" fill-rule=\"evenodd\" fill-opacity=\"1\" /><path clip-path=\"url(#clip340)\" d=\"M1113.64 65.7705 L1113.64 89.8329 L1106.15 89.8329 L1106.15 27.2059 L1113.64 27.2059 L1113.64 34.0924 Q1115.99 30.0415 1119.56 28.0971 Q1123.16 26.1121 1128.15 26.1121 Q1136.41 26.1121 1141.55 32.6746 Q1146.74 39.2371 1146.74 49.9314 Q1146.74 60.6258 1141.55 67.1883 Q1136.41 73.7508 1128.15 73.7508 Q1123.16 73.7508 1119.56 71.8063 Q1115.99 69.8214 1113.64 65.7705 M1139 49.9314 Q1139 41.7081 1135.6 37.0496 Q1132.24 32.3505 1126.32 32.3505 Q1120.41 32.3505 1117.01 37.0496 Q1113.64 41.7081 1113.64 49.9314 Q1113.64 58.1548 1117.01 62.8538 Q1120.41 67.5124 1126.32 67.5124 Q1132.24 67.5124 1135.6 62.8538 Q1139 58.1548 1139 49.9314 Z\" fill=\"#000000\" fill-rule=\"evenodd\" fill-opacity=\"1\" /><path clip-path=\"url(#clip340)\" d=\"M1158.33 54.671 L1158.33 27.2059 L1165.78 27.2059 L1165.78 54.3874 Q1165.78 60.8284 1168.29 64.0691 Q1170.8 67.2693 1175.83 67.2693 Q1181.86 67.2693 1185.35 63.421 Q1188.87 59.5726 1188.87 52.9291 L1188.87 27.2059 L1196.32 27.2059 L1196.32 72.576 L1188.87 72.576 L1188.87 65.6084 Q1186.16 69.7404 1182.55 71.7658 Q1178.99 73.7508 1174.25 73.7508 Q1166.43 73.7508 1162.38 68.8897 Q1158.33 64.0286 1158.33 54.671 M1177.08 26.1121 L1177.08 26.1121 Z\" fill=\"#000000\" fill-rule=\"evenodd\" fill-opacity=\"1\" /><path clip-path=\"url(#clip340)\" d=\"M1219.05 14.324 L1219.05 27.2059 L1234.4 27.2059 L1234.4 32.9987 L1219.05 32.9987 L1219.05 57.6282 Q1219.05 63.1779 1220.55 64.7578 Q1222.09 66.3376 1226.75 66.3376 L1234.4 66.3376 L1234.4 72.576 L1226.75 72.576 Q1218.12 72.576 1214.84 69.3758 Q1211.55 66.1351 1211.55 57.6282 L1211.55 32.9987 L1206.09 32.9987 L1206.09 27.2059 L1211.55 27.2059 L1211.55 14.324 L1219.05 14.324 Z\" fill=\"#000000\" fill-rule=\"evenodd\" fill-opacity=\"1\" /><path clip-path=\"url(#clip340)\" d=\"M1270.9 12.096 L1279.08 12.096 L1279.08 36.8875 L1308.82 36.8875 L1308.82 12.096 L1317 12.096 L1317 72.576 L1308.82 72.576 L1308.82 43.7741 L1279.08 43.7741 L1279.08 72.576 L1270.9 72.576 L1270.9 12.096 Z\" fill=\"#000000\" fill-rule=\"evenodd\" fill-opacity=\"1\" /><path clip-path=\"url(#clip340)\" d=\"M1332.96 27.2059 L1340.41 27.2059 L1340.41 72.576 L1332.96 72.576 L1332.96 27.2059 M1332.96 9.54393 L1340.41 9.54393 L1340.41 18.9825 L1332.96 18.9825 L1332.96 9.54393 Z\" fill=\"#000000\" fill-rule=\"evenodd\" fill-opacity=\"1\" /><path clip-path=\"url(#clip340)\" d=\"M1384.93 28.5427 L1384.93 35.5912 Q1381.77 33.9709 1378.37 33.1607 Q1374.97 32.3505 1371.32 32.3505 Q1365.77 32.3505 1362.98 34.0519 Q1360.22 35.7533 1360.22 39.156 Q1360.22 41.7486 1362.21 43.2475 Q1364.19 44.7058 1370.19 46.0426 L1372.74 46.6097 Q1380.68 48.3111 1384 51.4303 Q1387.36 54.509 1387.36 60.0587 Q1387.36 66.3781 1382.34 70.0644 Q1377.36 73.7508 1368.61 73.7508 Q1364.96 73.7508 1360.99 73.0216 Q1357.06 72.3329 1352.69 70.9151 L1352.69 63.2184 Q1356.82 65.3654 1360.83 66.4591 Q1364.84 67.5124 1368.77 67.5124 Q1374.04 67.5124 1376.87 65.73 Q1379.71 63.9071 1379.71 60.6258 Q1379.71 57.5877 1377.64 55.9673 Q1375.62 54.3469 1368.69 52.8481 L1366.1 52.2405 Q1359.17 50.7821 1356.09 47.7845 Q1353.01 44.7463 1353.01 39.4801 Q1353.01 33.0797 1357.55 29.5959 Q1362.09 26.1121 1370.43 26.1121 Q1374.56 26.1121 1378.21 26.7198 Q1381.85 27.3274 1384.93 28.5427 Z\" fill=\"#000000\" fill-rule=\"evenodd\" fill-opacity=\"1\" /><path clip-path=\"url(#clip340)\" d=\"M1406.61 14.324 L1406.61 27.2059 L1421.96 27.2059 L1421.96 32.9987 L1406.61 32.9987 L1406.61 57.6282 Q1406.61 63.1779 1408.1 64.7578 Q1409.64 66.3376 1414.3 66.3376 L1421.96 66.3376 L1421.96 72.576 L1414.3 72.576 Q1405.67 72.576 1402.39 69.3758 Q1399.11 66.1351 1399.11 57.6282 L1399.11 32.9987 L1393.64 32.9987 L1393.64 27.2059 L1399.11 27.2059 L1399.11 14.324 L1406.61 14.324 Z\" fill=\"#000000\" fill-rule=\"evenodd\" fill-opacity=\"1\" /><path clip-path=\"url(#clip340)\" d=\"M1449.34 32.4315 Q1443.35 32.4315 1439.86 37.1306 Q1436.38 41.7891 1436.38 49.9314 Q1436.38 58.0738 1439.82 62.7728 Q1443.31 67.4314 1449.34 67.4314 Q1455.3 67.4314 1458.78 62.7323 Q1462.27 58.0333 1462.27 49.9314 Q1462.27 41.8701 1458.78 37.1711 Q1455.3 32.4315 1449.34 32.4315 M1449.34 26.1121 Q1459.06 26.1121 1464.61 32.4315 Q1470.16 38.7509 1470.16 49.9314 Q1470.16 61.0714 1464.61 67.4314 Q1459.06 73.7508 1449.34 73.7508 Q1439.58 73.7508 1434.03 67.4314 Q1428.52 61.0714 1428.52 49.9314 Q1428.52 38.7509 1434.03 32.4315 Q1439.58 26.1121 1449.34 26.1121 Z\" fill=\"#000000\" fill-rule=\"evenodd\" fill-opacity=\"1\" /><path clip-path=\"url(#clip340)\" d=\"M1508.81 34.1734 Q1507.55 33.4443 1506.06 33.1202 Q1504.6 32.7556 1502.81 32.7556 Q1496.5 32.7556 1493.09 36.8875 Q1489.73 40.9789 1489.73 48.6757 L1489.73 72.576 L1482.24 72.576 L1482.24 27.2059 L1489.73 27.2059 L1489.73 34.2544 Q1492.08 30.1225 1495.85 28.1376 Q1499.61 26.1121 1505 26.1121 Q1505.77 26.1121 1506.7 26.2337 Q1507.64 26.3147 1508.77 26.5172 L1508.81 34.1734 Z\" fill=\"#000000\" fill-rule=\"evenodd\" fill-opacity=\"1\" /><path clip-path=\"url(#clip340)\" d=\"M1535.51 76.7889 Q1532.35 84.8907 1529.35 87.3618 Q1526.35 89.8329 1521.33 89.8329 L1515.37 89.8329 L1515.37 83.5945 L1519.75 83.5945 Q1522.83 83.5945 1524.53 82.1361 Q1526.23 80.6778 1528.29 75.2496 L1529.63 71.8468 L1511.28 27.2059 L1519.18 27.2059 L1533.36 62.6918 L1547.54 27.2059 L1555.44 27.2059 L1535.51 76.7889 Z\" fill=\"#000000\" fill-rule=\"evenodd\" fill-opacity=\"1\" /><polyline clip-path=\"url(#clip342)\" style=\"stroke:#009af9; stroke-linecap:round; stroke-linejoin:round; stroke-width:4; stroke-opacity:1; fill:none\" points=\"292.4,1074.65 312.605,1076.65 332.811,1078.65 353.016,1080.66 373.222,1082.67 393.427,1084.68 413.633,1086.7 433.838,1088.73 454.044,1090.75 474.249,1092.79 494.455,1094.83 514.66,1096.87 534.866,1098.92 555.071,1100.97 575.277,1103.04 595.482,1105.1 615.688,1107.18 635.893,1109.26 656.099,1111.34 676.304,1113.44 696.51,1115 716.715,1116.31 736.921,1117.63 757.127,1118.95 777.332,1120.27 797.538,1121.58 817.743,1122.9 837.949,1124.22 858.154,1125.54 878.36,1126.85 898.565,1128.17 918.771,1129.49 938.976,1130.81 959.182,1132.13 979.387,1133.44 999.593,1134.76 1019.8,1136.08 1040,1137.4 1060.21,1138.71 1080.41,1140.03 1100.62,1141.35 1120.83,1142.67 1141.03,1143.98 1161.24,1145.3 1181.44,1146.62 1201.65,1147.94 1221.85,1149.25 1242.06,1150.57 1262.26,1151.89 1282.47,1153.21 1302.68,1154.52 1322.88,1155.84 1343.09,1157.16 1363.29,1158.48 1383.5,1159.79 1403.7,1161.11 1423.91,1162.43 1444.11,1163.74 1464.32,1165.06 1484.53,1166.38 1504.73,1167.7 1524.94,1169.01 1545.14,1170.33 1565.35,1171.65 1585.55,1172.96 1605.76,1174.28 1625.96,1175.6 1646.17,1176.92 1666.37,1178.23 1686.58,1179.55 1706.79,1180.87 1726.99,1182.18 1747.2,1183.5 1767.4,1184.82 1787.61,1186.14 1807.81,1187.45 1828.02,1188.77 1848.22,1190.09 1868.43,1191.4 1888.64,1192.72 1908.84,1194.04 1929.05,1195.36 1949.25,1196.67 1969.46,1197.99 1989.66,1199.31 2009.87,1200.62 2030.07,1201.94 2050.28,1203.26 2070.48,1204.58 2090.69,1205.89 2110.9,1207.21 2131.1,1208.53 2151.31,1209.85 2171.51,1211.16 2191.72,1212.48 2211.92,1213.8 2232.13,1215.12 2252.33,1216.43 2272.54,1217.75 2292.75,1219.07 \"/>\n<polyline clip-path=\"url(#clip342)\" style=\"stroke:#e26f46; stroke-linecap:round; stroke-linejoin:round; stroke-width:4; stroke-opacity:1; fill:none\" points=\"292.4,1386.4 312.605,1382.61 332.811,1378.84 353.016,1375.06 373.222,1371.29 393.427,1367.53 413.633,1363.76 433.838,1360.01 454.044,1356.25 474.249,1352.5 494.455,1348.76 514.66,1345.02 534.866,1341.29 555.071,1337.56 575.277,1333.84 595.482,1330.13 615.688,1326.42 635.893,1322.72 656.099,1319.02 676.304,1315.34 696.51,1312.34 716.715,1309.65 736.921,1306.96 757.127,1304.28 777.332,1301.59 797.538,1298.9 817.743,1296.22 837.949,1293.53 858.154,1290.85 878.36,1288.16 898.565,1285.48 918.771,1282.79 938.976,1280.11 959.182,1277.43 979.387,1274.74 999.593,1272.06 1019.8,1269.38 1040,1266.7 1060.21,1264.01 1080.41,1261.33 1100.62,1258.65 1120.83,1255.97 1141.03,1253.29 1161.24,1250.61 1181.44,1247.93 1201.65,1245.25 1221.85,1242.57 1242.06,1239.89 1262.26,1237.21 1282.47,1234.54 1302.68,1231.86 1322.88,1229.18 1343.09,1226.5 1363.29,1223.82 1383.5,1221.15 1403.7,1218.47 1423.91,1215.79 1444.11,1213.12 1464.32,1210.44 1484.53,1207.76 1504.73,1205.09 1524.94,1202.41 1545.14,1199.73 1565.35,1197.06 1585.55,1194.38 1605.76,1191.71 1625.96,1189.03 1646.17,1186.35 1666.37,1183.68 1686.58,1181 1706.79,1178.33 1726.99,1175.65 1747.2,1172.98 1767.4,1170.3 1787.61,1167.62 1807.81,1164.95 1828.02,1162.27 1848.22,1159.6 1868.43,1156.92 1888.64,1154.25 1908.84,1151.57 1929.05,1148.9 1949.25,1146.22 1969.46,1143.54 1989.66,1140.87 2009.87,1138.19 2030.07,1135.52 2050.28,1132.84 2070.48,1130.16 2090.69,1127.49 2110.9,1124.81 2131.1,1122.14 2151.31,1119.46 2171.51,1116.78 2191.72,1114.1 2211.92,1111.43 2232.13,1108.75 2252.33,1106.07 2272.54,1103.4 2292.75,1100.72 \"/>\n<polyline clip-path=\"url(#clip342)\" style=\"stroke:#3da44d; stroke-linecap:round; stroke-linejoin:round; stroke-width:4; stroke-opacity:1; fill:none\" points=\"292.4,460.783 312.605,457.269 332.811,453.759 353.016,450.253 373.222,446.752 393.427,443.254 413.633,439.761 433.838,436.272 454.044,432.787 474.249,429.306 494.455,425.829 514.66,422.356 534.866,418.886 555.071,415.421 575.277,411.959 595.482,408.501 615.688,405.046 635.893,401.595 656.099,398.148 676.304,394.704 696.51,391.582 716.715,388.598 736.921,385.618 757.127,382.64 777.332,379.665 797.538,376.693 817.743,373.723 837.949,370.756 858.154,367.792 878.36,364.83 898.565,361.87 918.771,358.912 938.976,355.957 959.182,353.004 979.387,350.053 999.593,347.104 1019.8,344.157 1040,341.212 1060.21,338.269 1080.41,335.328 1100.62,332.389 1120.83,329.451 1141.03,326.515 1161.24,323.58 1181.44,320.647 1201.65,317.716 1221.85,314.786 1242.06,311.857 1262.26,308.93 1282.47,306.003 1302.68,303.078 1322.88,300.155 1343.09,297.232 1363.29,294.31 1383.5,291.389 1403.7,288.47 1423.91,285.551 1444.11,282.632 1464.32,279.715 1484.53,276.798 1504.73,273.883 1524.94,270.967 1545.14,268.052 1565.35,265.138 1585.55,262.225 1605.76,259.311 1625.96,256.398 1646.17,253.486 1666.37,250.574 1686.58,247.662 1706.79,244.75 1726.99,241.838 1747.2,238.927 1767.4,236.015 1787.61,233.104 1807.81,230.193 1828.02,227.282 1848.22,224.37 1868.43,221.459 1888.64,218.548 1908.84,215.636 1929.05,212.724 1949.25,209.812 1969.46,206.9 1989.66,203.987 2009.87,201.075 2030.07,198.161 2050.28,195.248 2070.48,192.334 2090.69,189.42 2110.9,186.505 2131.1,183.59 2151.31,180.675 2171.51,177.759 2191.72,174.842 2211.92,171.925 2232.13,169.008 2252.33,166.09 2272.54,163.171 2292.75,160.256 \"/>\n<path clip-path=\"url(#clip340)\" d=\"M303.068 374.156 L557.72 374.156 L557.72 166.796 L303.068 166.796  Z\" fill=\"#ffffff\" fill-rule=\"evenodd\" fill-opacity=\"1\"/>\n<polyline clip-path=\"url(#clip340)\" style=\"stroke:#000000; stroke-linecap:round; stroke-linejoin:round; stroke-width:4; stroke-opacity:1; fill:none\" points=\"303.068,374.156 557.72,374.156 557.72,166.796 303.068,166.796 303.068,374.156 \"/>\n<polyline clip-path=\"url(#clip340)\" style=\"stroke:#009af9; stroke-linecap:round; stroke-linejoin:round; stroke-width:4; stroke-opacity:1; fill:none\" points=\"326.628,218.636 467.986,218.636 \"/>\n<path clip-path=\"url(#clip340)\" d=\"M491.545 225.684 L491.545 209.99 L495.804 209.99 L495.804 225.522 Q495.804 229.203 497.24 231.055 Q498.675 232.883 501.545 232.883 Q504.994 232.883 506.985 230.684 Q508.999 228.485 508.999 224.689 L508.999 209.99 L513.258 209.99 L513.258 235.916 L508.999 235.916 L508.999 231.934 Q507.448 234.295 505.388 235.453 Q503.351 236.587 500.642 236.587 Q496.175 236.587 493.86 233.809 Q491.545 231.031 491.545 225.684 M502.263 209.365 L502.263 209.365 Z\" fill=\"#000000\" fill-rule=\"evenodd\" fill-opacity=\"1\" /><path clip-path=\"url(#clip340)\" d=\"M521.175 233.369 L525.897 233.369 L525.897 219.226 L520.735 220.175 L520.735 217.49 L526.059 216.587 L529.23 216.587 L529.23 233.369 L533.976 233.369 L533.976 235.916 L521.175 235.916 L521.175 233.369 Z\" fill=\"#000000\" fill-rule=\"evenodd\" fill-opacity=\"1\" /><polyline clip-path=\"url(#clip340)\" style=\"stroke:#e26f46; stroke-linecap:round; stroke-linejoin:round; stroke-width:4; stroke-opacity:1; fill:none\" points=\"326.628,270.476 467.986,270.476 \"/>\n<path clip-path=\"url(#clip340)\" d=\"M491.545 277.524 L491.545 261.83 L495.804 261.83 L495.804 277.362 Q495.804 281.043 497.24 282.895 Q498.675 284.723 501.545 284.723 Q504.994 284.723 506.985 282.524 Q508.999 280.325 508.999 276.529 L508.999 261.83 L513.258 261.83 L513.258 287.756 L508.999 287.756 L508.999 283.774 Q507.448 286.135 505.388 287.293 Q503.351 288.427 500.642 288.427 Q496.175 288.427 493.86 285.649 Q491.545 282.871 491.545 277.524 M502.263 261.205 L502.263 261.205 Z\" fill=\"#000000\" fill-rule=\"evenodd\" fill-opacity=\"1\" /><path clip-path=\"url(#clip340)\" d=\"M523.767 285.117 L533.582 285.117 L533.582 287.756 L519.74 287.756 L519.74 285.209 Q520.527 284.492 521.985 283.196 Q529.948 276.135 529.948 273.959 Q529.948 272.432 528.744 271.506 Q527.54 270.557 525.573 270.557 Q524.369 270.557 522.957 270.973 Q521.545 271.367 519.878 272.177 L519.878 269.33 Q521.661 268.682 523.189 268.358 Q524.74 268.034 526.059 268.034 Q529.415 268.034 531.429 269.561 Q533.443 271.089 533.443 273.589 Q533.443 276.807 525.781 283.381 Q524.485 284.492 523.767 285.117 Z\" fill=\"#000000\" fill-rule=\"evenodd\" fill-opacity=\"1\" /><polyline clip-path=\"url(#clip340)\" style=\"stroke:#3da44d; stroke-linecap:round; stroke-linejoin:round; stroke-width:4; stroke-opacity:1; fill:none\" points=\"326.628,322.316 467.986,322.316 \"/>\n<path clip-path=\"url(#clip340)\" d=\"M491.545 329.364 L491.545 313.67 L495.804 313.67 L495.804 329.202 Q495.804 332.883 497.24 334.735 Q498.675 336.563 501.545 336.563 Q504.994 336.563 506.985 334.364 Q508.999 332.165 508.999 328.369 L508.999 313.67 L513.258 313.67 L513.258 339.596 L508.999 339.596 L508.999 335.614 Q507.448 337.975 505.388 339.133 Q503.351 340.267 500.642 340.267 Q496.175 340.267 493.86 337.489 Q491.545 334.711 491.545 329.364 M502.263 313.045 L502.263 313.045 Z\" fill=\"#000000\" fill-rule=\"evenodd\" fill-opacity=\"1\" /><path clip-path=\"url(#clip340)\" d=\"M529.693 329.133 Q531.823 329.549 532.98 330.823 Q534.161 332.073 534.161 333.971 Q534.161 336.841 531.962 338.392 Q529.763 339.943 525.665 339.943 Q524.346 339.943 522.888 339.688 Q521.453 339.457 519.832 338.994 L519.832 336.193 Q521.036 336.818 522.402 337.119 Q523.79 337.42 525.341 337.42 Q527.865 337.42 529.253 336.517 Q530.642 335.591 530.642 333.971 Q530.642 332.258 529.346 331.378 Q528.073 330.499 525.573 330.499 L523.582 330.499 L523.582 327.999 L525.758 327.999 Q527.934 327.999 529.045 327.281 Q530.179 326.54 530.179 325.151 Q530.179 323.809 529.022 323.114 Q527.865 322.397 525.665 322.397 Q524.74 322.397 523.559 322.605 Q522.378 322.813 520.503 323.346 L520.503 320.684 Q522.193 320.29 523.675 320.082 Q525.156 319.874 526.429 319.874 Q529.763 319.874 531.707 321.239 Q533.675 322.605 533.675 324.897 Q533.675 326.494 532.633 327.605 Q531.591 328.716 529.693 329.133 Z\" fill=\"#000000\" fill-rule=\"evenodd\" fill-opacity=\"1\" /></svg>\n",
      "text/html": [
       "<?xml version=\"1.0\" encoding=\"utf-8\"?>\n",
       "<svg xmlns=\"http://www.w3.org/2000/svg\" xmlns:xlink=\"http://www.w3.org/1999/xlink\" width=\"600\" height=\"400\" viewBox=\"0 0 2400 1600\">\n",
       "<defs>\n",
       "  <clipPath id=\"clip390\">\n",
       "    <rect x=\"0\" y=\"0\" width=\"2400\" height=\"1600\"/>\n",
       "  </clipPath>\n",
       "</defs>\n",
       "<path clip-path=\"url(#clip390)\" d=\"M0 1600 L2400 1600 L2400 0 L0 0  Z\" fill=\"#ffffff\" fill-rule=\"evenodd\" fill-opacity=\"1\"/>\n",
       "<defs>\n",
       "  <clipPath id=\"clip391\">\n",
       "    <rect x=\"480\" y=\"0\" width=\"1681\" height=\"1600\"/>\n",
       "  </clipPath>\n",
       "</defs>\n",
       "<path clip-path=\"url(#clip390)\" d=\"M232.389 1423.18 L2352.76 1423.18 L2352.76 123.472 L232.389 123.472  Z\" fill=\"#ffffff\" fill-rule=\"evenodd\" fill-opacity=\"1\"/>\n",
       "<defs>\n",
       "  <clipPath id=\"clip392\">\n",
       "    <rect x=\"232\" y=\"123\" width=\"2121\" height=\"1301\"/>\n",
       "  </clipPath>\n",
       "</defs>\n",
       "<polyline clip-path=\"url(#clip392)\" style=\"stroke:#000000; stroke-linecap:round; stroke-linejoin:round; stroke-width:2; stroke-opacity:0.1; fill:none\" points=\"292.4,1423.18 292.4,123.472 \"/>\n",
       "<polyline clip-path=\"url(#clip392)\" style=\"stroke:#000000; stroke-linecap:round; stroke-linejoin:round; stroke-width:2; stroke-opacity:0.1; fill:none\" points=\"797.538,1423.18 797.538,123.472 \"/>\n",
       "<polyline clip-path=\"url(#clip392)\" style=\"stroke:#000000; stroke-linecap:round; stroke-linejoin:round; stroke-width:2; stroke-opacity:0.1; fill:none\" points=\"1302.68,1423.18 1302.68,123.472 \"/>\n",
       "<polyline clip-path=\"url(#clip392)\" style=\"stroke:#000000; stroke-linecap:round; stroke-linejoin:round; stroke-width:2; stroke-opacity:0.1; fill:none\" points=\"1807.81,1423.18 1807.81,123.472 \"/>\n",
       "<polyline clip-path=\"url(#clip392)\" style=\"stroke:#000000; stroke-linecap:round; stroke-linejoin:round; stroke-width:2; stroke-opacity:0.1; fill:none\" points=\"2312.95,1423.18 2312.95,123.472 \"/>\n",
       "<polyline clip-path=\"url(#clip390)\" style=\"stroke:#000000; stroke-linecap:round; stroke-linejoin:round; stroke-width:4; stroke-opacity:1; fill:none\" points=\"232.389,1423.18 2352.76,1423.18 \"/>\n",
       "<polyline clip-path=\"url(#clip390)\" style=\"stroke:#000000; stroke-linecap:round; stroke-linejoin:round; stroke-width:4; stroke-opacity:1; fill:none\" points=\"292.4,1423.18 292.4,1404.28 \"/>\n",
       "<polyline clip-path=\"url(#clip390)\" style=\"stroke:#000000; stroke-linecap:round; stroke-linejoin:round; stroke-width:4; stroke-opacity:1; fill:none\" points=\"797.538,1423.18 797.538,1404.28 \"/>\n",
       "<polyline clip-path=\"url(#clip390)\" style=\"stroke:#000000; stroke-linecap:round; stroke-linejoin:round; stroke-width:4; stroke-opacity:1; fill:none\" points=\"1302.68,1423.18 1302.68,1404.28 \"/>\n",
       "<polyline clip-path=\"url(#clip390)\" style=\"stroke:#000000; stroke-linecap:round; stroke-linejoin:round; stroke-width:4; stroke-opacity:1; fill:none\" points=\"1807.81,1423.18 1807.81,1404.28 \"/>\n",
       "<polyline clip-path=\"url(#clip390)\" style=\"stroke:#000000; stroke-linecap:round; stroke-linejoin:round; stroke-width:4; stroke-opacity:1; fill:none\" points=\"2312.95,1423.18 2312.95,1404.28 \"/>\n",
       "<path clip-path=\"url(#clip390)\" d=\"M269.784 1454.1 Q266.173 1454.1 264.344 1457.66 Q262.539 1461.2 262.539 1468.33 Q262.539 1475.44 264.344 1479.01 Q266.173 1482.55 269.784 1482.55 Q273.418 1482.55 275.224 1479.01 Q277.053 1475.44 277.053 1468.33 Q277.053 1461.2 275.224 1457.66 Q273.418 1454.1 269.784 1454.1 M269.784 1450.39 Q275.594 1450.39 278.65 1455 Q281.728 1459.58 281.728 1468.33 Q281.728 1477.06 278.65 1481.67 Q275.594 1486.25 269.784 1486.25 Q263.974 1486.25 260.895 1481.67 Q257.84 1477.06 257.84 1468.33 Q257.84 1459.58 260.895 1455 Q263.974 1450.39 269.784 1450.39 Z\" fill=\"#000000\" fill-rule=\"evenodd\" fill-opacity=\"1\" /><path clip-path=\"url(#clip390)\" d=\"M289.946 1479.7 L294.83 1479.7 L294.83 1485.58 L289.946 1485.58 L289.946 1479.7 Z\" fill=\"#000000\" fill-rule=\"evenodd\" fill-opacity=\"1\" /><path clip-path=\"url(#clip390)\" d=\"M315.015 1454.1 Q311.404 1454.1 309.576 1457.66 Q307.77 1461.2 307.77 1468.33 Q307.77 1475.44 309.576 1479.01 Q311.404 1482.55 315.015 1482.55 Q318.65 1482.55 320.455 1479.01 Q322.284 1475.44 322.284 1468.33 Q322.284 1461.2 320.455 1457.66 Q318.65 1454.1 315.015 1454.1 M315.015 1450.39 Q320.825 1450.39 323.881 1455 Q326.96 1459.58 326.96 1468.33 Q326.96 1477.06 323.881 1481.67 Q320.825 1486.25 315.015 1486.25 Q309.205 1486.25 306.126 1481.67 Q303.071 1477.06 303.071 1468.33 Q303.071 1459.58 306.126 1455 Q309.205 1450.39 315.015 1450.39 Z\" fill=\"#000000\" fill-rule=\"evenodd\" fill-opacity=\"1\" /><path clip-path=\"url(#clip390)\" d=\"M769.274 1481.64 L785.593 1481.64 L785.593 1485.58 L763.649 1485.58 L763.649 1481.64 Q766.311 1478.89 770.894 1474.26 Q775.501 1469.61 776.681 1468.27 Q778.927 1465.74 779.806 1464.01 Q780.709 1462.25 780.709 1460.56 Q780.709 1457.8 778.765 1456.07 Q776.843 1454.33 773.741 1454.33 Q771.542 1454.33 769.089 1455.09 Q766.658 1455.86 763.88 1457.41 L763.88 1452.69 Q766.704 1451.55 769.158 1450.97 Q771.612 1450.39 773.649 1450.39 Q779.019 1450.39 782.214 1453.08 Q785.408 1455.77 785.408 1460.26 Q785.408 1462.39 784.598 1464.31 Q783.811 1466.2 781.704 1468.8 Q781.126 1469.47 778.024 1472.69 Q774.922 1475.88 769.274 1481.64 Z\" fill=\"#000000\" fill-rule=\"evenodd\" fill-opacity=\"1\" /><path clip-path=\"url(#clip390)\" d=\"M795.408 1479.7 L800.292 1479.7 L800.292 1485.58 L795.408 1485.58 L795.408 1479.7 Z\" fill=\"#000000\" fill-rule=\"evenodd\" fill-opacity=\"1\" /><path clip-path=\"url(#clip390)\" d=\"M810.524 1451.02 L828.88 1451.02 L828.88 1454.96 L814.806 1454.96 L814.806 1463.43 Q815.824 1463.08 816.843 1462.92 Q817.862 1462.73 818.88 1462.73 Q824.667 1462.73 828.047 1465.9 Q831.426 1469.08 831.426 1474.49 Q831.426 1480.07 827.954 1483.17 Q824.482 1486.25 818.162 1486.25 Q815.987 1486.25 813.718 1485.88 Q811.473 1485.51 809.065 1484.77 L809.065 1480.07 Q811.149 1481.2 813.371 1481.76 Q815.593 1482.32 818.07 1482.32 Q822.074 1482.32 824.412 1480.21 Q826.75 1478.1 826.75 1474.49 Q826.75 1470.88 824.412 1468.77 Q822.074 1466.67 818.07 1466.67 Q816.195 1466.67 814.32 1467.08 Q812.468 1467.5 810.524 1468.38 L810.524 1451.02 Z\" fill=\"#000000\" fill-rule=\"evenodd\" fill-opacity=\"1\" /><path clip-path=\"url(#clip390)\" d=\"M1269.84 1451.02 L1288.2 1451.02 L1288.2 1454.96 L1274.12 1454.96 L1274.12 1463.43 Q1275.14 1463.08 1276.16 1462.92 Q1277.18 1462.73 1278.2 1462.73 Q1283.98 1462.73 1287.36 1465.9 Q1290.74 1469.08 1290.74 1474.49 Q1290.74 1480.07 1287.27 1483.17 Q1283.8 1486.25 1277.48 1486.25 Q1275.3 1486.25 1273.03 1485.88 Q1270.79 1485.51 1268.38 1484.77 L1268.38 1480.07 Q1270.46 1481.2 1272.69 1481.76 Q1274.91 1482.32 1277.39 1482.32 Q1281.39 1482.32 1283.73 1480.21 Q1286.07 1478.1 1286.07 1474.49 Q1286.07 1470.88 1283.73 1468.77 Q1281.39 1466.67 1277.39 1466.67 Q1275.51 1466.67 1273.64 1467.08 Q1271.78 1467.5 1269.84 1468.38 L1269.84 1451.02 Z\" fill=\"#000000\" fill-rule=\"evenodd\" fill-opacity=\"1\" /><path clip-path=\"url(#clip390)\" d=\"M1299.96 1479.7 L1304.84 1479.7 L1304.84 1485.58 L1299.96 1485.58 L1299.96 1479.7 Z\" fill=\"#000000\" fill-rule=\"evenodd\" fill-opacity=\"1\" /><path clip-path=\"url(#clip390)\" d=\"M1325.02 1454.1 Q1321.41 1454.1 1319.59 1457.66 Q1317.78 1461.2 1317.78 1468.33 Q1317.78 1475.44 1319.59 1479.01 Q1321.41 1482.55 1325.02 1482.55 Q1328.66 1482.55 1330.46 1479.01 Q1332.29 1475.44 1332.29 1468.33 Q1332.29 1461.2 1330.46 1457.66 Q1328.66 1454.1 1325.02 1454.1 M1325.02 1450.39 Q1330.83 1450.39 1333.89 1455 Q1336.97 1459.58 1336.97 1468.33 Q1336.97 1477.06 1333.89 1481.67 Q1330.83 1486.25 1325.02 1486.25 Q1319.21 1486.25 1316.14 1481.67 Q1313.08 1477.06 1313.08 1468.33 Q1313.08 1459.58 1316.14 1455 Q1319.21 1450.39 1325.02 1450.39 Z\" fill=\"#000000\" fill-rule=\"evenodd\" fill-opacity=\"1\" /><path clip-path=\"url(#clip390)\" d=\"M1774.13 1451.02 L1796.35 1451.02 L1796.35 1453.01 L1783.81 1485.58 L1778.92 1485.58 L1790.73 1454.96 L1774.13 1454.96 L1774.13 1451.02 Z\" fill=\"#000000\" fill-rule=\"evenodd\" fill-opacity=\"1\" /><path clip-path=\"url(#clip390)\" d=\"M1805.48 1479.7 L1810.36 1479.7 L1810.36 1485.58 L1805.48 1485.58 L1805.48 1479.7 Z\" fill=\"#000000\" fill-rule=\"evenodd\" fill-opacity=\"1\" /><path clip-path=\"url(#clip390)\" d=\"M1820.59 1451.02 L1838.95 1451.02 L1838.95 1454.96 L1824.87 1454.96 L1824.87 1463.43 Q1825.89 1463.08 1826.91 1462.92 Q1827.93 1462.73 1828.95 1462.73 Q1834.73 1462.73 1838.11 1465.9 Q1841.49 1469.08 1841.49 1474.49 Q1841.49 1480.07 1838.02 1483.17 Q1834.55 1486.25 1828.23 1486.25 Q1826.05 1486.25 1823.79 1485.88 Q1821.54 1485.51 1819.13 1484.77 L1819.13 1480.07 Q1821.22 1481.2 1823.44 1481.76 Q1825.66 1482.32 1828.14 1482.32 Q1832.14 1482.32 1834.48 1480.21 Q1836.82 1478.1 1836.82 1474.49 Q1836.82 1470.88 1834.48 1468.77 Q1832.14 1466.67 1828.14 1466.67 Q1826.26 1466.67 1824.39 1467.08 Q1822.54 1467.5 1820.59 1468.38 L1820.59 1451.02 Z\" fill=\"#000000\" fill-rule=\"evenodd\" fill-opacity=\"1\" /><path clip-path=\"url(#clip390)\" d=\"M2265.02 1481.64 L2272.66 1481.64 L2272.66 1455.28 L2264.35 1456.95 L2264.35 1452.69 L2272.62 1451.02 L2277.29 1451.02 L2277.29 1481.64 L2284.93 1481.64 L2284.93 1485.58 L2265.02 1485.58 L2265.02 1481.64 Z\" fill=\"#000000\" fill-rule=\"evenodd\" fill-opacity=\"1\" /><path clip-path=\"url(#clip390)\" d=\"M2304.37 1454.1 Q2300.76 1454.1 2298.93 1457.66 Q2297.13 1461.2 2297.13 1468.33 Q2297.13 1475.44 2298.93 1479.01 Q2300.76 1482.55 2304.37 1482.55 Q2308.01 1482.55 2309.81 1479.01 Q2311.64 1475.44 2311.64 1468.33 Q2311.64 1461.2 2309.81 1457.66 Q2308.01 1454.1 2304.37 1454.1 M2304.37 1450.39 Q2310.18 1450.39 2313.24 1455 Q2316.32 1459.58 2316.32 1468.33 Q2316.32 1477.06 2313.24 1481.67 Q2310.18 1486.25 2304.37 1486.25 Q2298.56 1486.25 2295.49 1481.67 Q2292.43 1477.06 2292.43 1468.33 Q2292.43 1459.58 2295.49 1455 Q2298.56 1450.39 2304.37 1450.39 Z\" fill=\"#000000\" fill-rule=\"evenodd\" fill-opacity=\"1\" /><path clip-path=\"url(#clip390)\" d=\"M2324.54 1479.7 L2329.42 1479.7 L2329.42 1485.58 L2324.54 1485.58 L2324.54 1479.7 Z\" fill=\"#000000\" fill-rule=\"evenodd\" fill-opacity=\"1\" /><path clip-path=\"url(#clip390)\" d=\"M2349.61 1454.1 Q2345.99 1454.1 2344.17 1457.66 Q2342.36 1461.2 2342.36 1468.33 Q2342.36 1475.44 2344.17 1479.01 Q2345.99 1482.55 2349.61 1482.55 Q2353.24 1482.55 2355.05 1479.01 Q2356.87 1475.44 2356.87 1468.33 Q2356.87 1461.2 2355.05 1457.66 Q2353.24 1454.1 2349.61 1454.1 M2349.61 1450.39 Q2355.42 1450.39 2358.47 1455 Q2361.55 1459.58 2361.55 1468.33 Q2361.55 1477.06 2358.47 1481.67 Q2355.42 1486.25 2349.61 1486.25 Q2343.8 1486.25 2340.72 1481.67 Q2337.66 1477.06 2337.66 1468.33 Q2337.66 1459.58 2340.72 1455 Q2343.8 1450.39 2349.61 1450.39 Z\" fill=\"#000000\" fill-rule=\"evenodd\" fill-opacity=\"1\" /><path clip-path=\"url(#clip390)\" d=\"M1180.03 1522.27 L1180.03 1532.4 L1192.09 1532.4 L1192.09 1536.95 L1180.03 1536.95 L1180.03 1556.3 Q1180.03 1560.66 1181.2 1561.9 Q1182.41 1563.14 1186.07 1563.14 L1192.09 1563.14 L1192.09 1568.04 L1186.07 1568.04 Q1179.29 1568.04 1176.72 1565.53 Q1174.14 1562.98 1174.14 1556.3 L1174.14 1536.95 L1169.84 1536.95 L1169.84 1532.4 L1174.14 1532.4 L1174.14 1522.27 L1180.03 1522.27 Z\" fill=\"#000000\" fill-rule=\"evenodd\" fill-opacity=\"1\" /><path clip-path=\"url(#clip390)\" d=\"M1199.79 1532.4 L1205.65 1532.4 L1205.65 1568.04 L1199.79 1568.04 L1199.79 1532.4 M1199.79 1518.52 L1205.65 1518.52 L1205.65 1525.93 L1199.79 1525.93 L1199.79 1518.52 Z\" fill=\"#000000\" fill-rule=\"evenodd\" fill-opacity=\"1\" /><path clip-path=\"url(#clip390)\" d=\"M1245.66 1539.24 Q1247.85 1535.29 1250.91 1533.41 Q1253.96 1531.54 1258.1 1531.54 Q1263.67 1531.54 1266.7 1535.45 Q1269.72 1539.33 1269.72 1546.53 L1269.72 1568.04 L1263.83 1568.04 L1263.83 1546.72 Q1263.83 1541.59 1262.02 1539.11 Q1260.2 1536.63 1256.48 1536.63 Q1251.93 1536.63 1249.29 1539.65 Q1246.64 1542.68 1246.64 1547.9 L1246.64 1568.04 L1240.76 1568.04 L1240.76 1546.72 Q1240.76 1541.56 1238.94 1539.11 Q1237.13 1536.63 1233.34 1536.63 Q1228.85 1536.63 1226.21 1539.68 Q1223.57 1542.71 1223.57 1547.9 L1223.57 1568.04 L1217.68 1568.04 L1217.68 1532.4 L1223.57 1532.4 L1223.57 1537.93 Q1225.57 1534.66 1228.37 1533.1 Q1231.18 1531.54 1235.03 1531.54 Q1238.91 1531.54 1241.62 1533.51 Q1244.35 1535.48 1245.66 1539.24 Z\" fill=\"#000000\" fill-rule=\"evenodd\" fill-opacity=\"1\" /><path clip-path=\"url(#clip390)\" d=\"M1311.89 1548.76 L1311.89 1551.62 L1284.97 1551.62 Q1285.35 1557.67 1288.59 1560.85 Q1291.87 1564 1297.7 1564 Q1301.07 1564 1304.22 1563.17 Q1307.4 1562.35 1310.52 1560.69 L1310.52 1566.23 Q1307.37 1567.57 1304.06 1568.27 Q1300.75 1568.97 1297.35 1568.97 Q1288.82 1568.97 1283.82 1564 Q1278.85 1559.04 1278.85 1550.57 Q1278.85 1541.82 1283.57 1536.69 Q1288.31 1531.54 1296.33 1531.54 Q1303.52 1531.54 1307.69 1536.18 Q1311.89 1540.8 1311.89 1548.76 M1306.04 1547.04 Q1305.97 1542.23 1303.33 1539.37 Q1300.72 1536.5 1296.39 1536.5 Q1291.49 1536.5 1288.53 1539.27 Q1285.6 1542.04 1285.16 1547.07 L1306.04 1547.04 Z\" fill=\"#000000\" fill-rule=\"evenodd\" fill-opacity=\"1\" /><path clip-path=\"url(#clip390)\" d=\"M1356.29 1518.58 Q1352.03 1525.9 1349.96 1533.06 Q1347.89 1540.23 1347.89 1547.58 Q1347.89 1554.93 1349.96 1562.16 Q1352.06 1569.35 1356.29 1576.64 L1351.2 1576.64 Q1346.43 1569.16 1344.04 1561.93 Q1341.68 1554.71 1341.68 1547.58 Q1341.68 1540.48 1344.04 1533.29 Q1346.39 1526.09 1351.2 1518.58 L1356.29 1518.58 Z\" fill=\"#000000\" fill-rule=\"evenodd\" fill-opacity=\"1\" /><path clip-path=\"url(#clip390)\" d=\"M1390.38 1533.45 L1390.38 1538.98 Q1387.9 1537.71 1385.23 1537.07 Q1382.55 1536.44 1379.69 1536.44 Q1375.33 1536.44 1373.13 1537.77 Q1370.97 1539.11 1370.97 1541.79 Q1370.97 1543.82 1372.53 1545 Q1374.09 1546.15 1378.8 1547.2 L1380.8 1547.64 Q1387.04 1548.98 1389.65 1551.43 Q1392.29 1553.85 1392.29 1558.21 Q1392.29 1563.17 1388.34 1566.07 Q1384.43 1568.97 1377.55 1568.97 Q1374.69 1568.97 1371.57 1568.39 Q1368.48 1567.85 1365.05 1566.74 L1365.05 1560.69 Q1368.29 1562.38 1371.44 1563.24 Q1374.59 1564.07 1377.68 1564.07 Q1381.82 1564.07 1384.05 1562.66 Q1386.28 1561.23 1386.28 1558.65 Q1386.28 1556.27 1384.65 1554.99 Q1383.06 1553.72 1377.62 1552.54 L1375.58 1552.07 Q1370.14 1550.92 1367.72 1548.56 Q1365.3 1546.18 1365.3 1542.04 Q1365.3 1537.01 1368.87 1534.27 Q1372.43 1531.54 1378.99 1531.54 Q1382.23 1531.54 1385.1 1532.01 Q1387.96 1532.49 1390.38 1533.45 Z\" fill=\"#000000\" fill-rule=\"evenodd\" fill-opacity=\"1\" /><path clip-path=\"url(#clip390)\" d=\"M1400.69 1518.58 L1405.79 1518.58 Q1410.56 1526.09 1412.92 1533.29 Q1415.3 1540.48 1415.3 1547.58 Q1415.3 1554.71 1412.92 1561.93 Q1410.56 1569.16 1405.79 1576.64 L1400.69 1576.64 Q1404.93 1569.35 1407 1562.16 Q1409.1 1554.93 1409.1 1547.58 Q1409.1 1540.23 1407 1533.06 Q1404.93 1525.9 1400.69 1518.58 Z\" fill=\"#000000\" fill-rule=\"evenodd\" fill-opacity=\"1\" /><polyline clip-path=\"url(#clip392)\" style=\"stroke:#000000; stroke-linecap:round; stroke-linejoin:round; stroke-width:2; stroke-opacity:0.1; fill:none\" points=\"232.389,1202.15 2352.76,1202.15 \"/>\n",
       "<polyline clip-path=\"url(#clip392)\" style=\"stroke:#000000; stroke-linecap:round; stroke-linejoin:round; stroke-width:2; stroke-opacity:0.1; fill:none\" points=\"232.389,953.435 2352.76,953.435 \"/>\n",
       "<polyline clip-path=\"url(#clip392)\" style=\"stroke:#000000; stroke-linecap:round; stroke-linejoin:round; stroke-width:2; stroke-opacity:0.1; fill:none\" points=\"232.389,704.721 2352.76,704.721 \"/>\n",
       "<polyline clip-path=\"url(#clip392)\" style=\"stroke:#000000; stroke-linecap:round; stroke-linejoin:round; stroke-width:2; stroke-opacity:0.1; fill:none\" points=\"232.389,456.007 2352.76,456.007 \"/>\n",
       "<polyline clip-path=\"url(#clip392)\" style=\"stroke:#000000; stroke-linecap:round; stroke-linejoin:round; stroke-width:2; stroke-opacity:0.1; fill:none\" points=\"232.389,207.292 2352.76,207.292 \"/>\n",
       "<polyline clip-path=\"url(#clip390)\" style=\"stroke:#000000; stroke-linecap:round; stroke-linejoin:round; stroke-width:4; stroke-opacity:1; fill:none\" points=\"232.389,1423.18 232.389,123.472 \"/>\n",
       "<polyline clip-path=\"url(#clip390)\" style=\"stroke:#000000; stroke-linecap:round; stroke-linejoin:round; stroke-width:4; stroke-opacity:1; fill:none\" points=\"232.389,1202.15 251.287,1202.15 \"/>\n",
       "<polyline clip-path=\"url(#clip390)\" style=\"stroke:#000000; stroke-linecap:round; stroke-linejoin:round; stroke-width:4; stroke-opacity:1; fill:none\" points=\"232.389,953.435 251.287,953.435 \"/>\n",
       "<polyline clip-path=\"url(#clip390)\" style=\"stroke:#000000; stroke-linecap:round; stroke-linejoin:round; stroke-width:4; stroke-opacity:1; fill:none\" points=\"232.389,704.721 251.287,704.721 \"/>\n",
       "<polyline clip-path=\"url(#clip390)\" style=\"stroke:#000000; stroke-linecap:round; stroke-linejoin:round; stroke-width:4; stroke-opacity:1; fill:none\" points=\"232.389,456.007 251.287,456.007 \"/>\n",
       "<polyline clip-path=\"url(#clip390)\" style=\"stroke:#000000; stroke-linecap:round; stroke-linejoin:round; stroke-width:4; stroke-opacity:1; fill:none\" points=\"232.389,207.292 251.287,207.292 \"/>\n",
       "<path clip-path=\"url(#clip390)\" d=\"M184.445 1187.95 Q180.834 1187.95 179.005 1191.51 Q177.2 1195.05 177.2 1202.18 Q177.2 1209.29 179.005 1212.86 Q180.834 1216.4 184.445 1216.4 Q188.079 1216.4 189.885 1212.86 Q191.713 1209.29 191.713 1202.18 Q191.713 1195.05 189.885 1191.51 Q188.079 1187.95 184.445 1187.95 M184.445 1184.24 Q190.255 1184.24 193.311 1188.85 Q196.389 1193.43 196.389 1202.18 Q196.389 1210.91 193.311 1215.52 Q190.255 1220.1 184.445 1220.1 Q178.635 1220.1 175.556 1215.52 Q172.501 1210.91 172.501 1202.18 Q172.501 1193.43 175.556 1188.85 Q178.635 1184.24 184.445 1184.24 Z\" fill=\"#000000\" fill-rule=\"evenodd\" fill-opacity=\"1\" /><path clip-path=\"url(#clip390)\" d=\"M158.45 952.081 Q161.806 952.799 163.681 955.067 Q165.579 957.336 165.579 960.669 Q165.579 965.785 162.061 968.586 Q158.542 971.387 152.061 971.387 Q149.885 971.387 147.57 970.947 Q145.279 970.53 142.825 969.674 L142.825 965.16 Q144.769 966.294 147.084 966.873 Q149.399 967.451 151.922 967.451 Q156.32 967.451 158.612 965.715 Q160.927 963.979 160.927 960.669 Q160.927 957.613 158.774 955.901 Q156.644 954.164 152.825 954.164 L148.797 954.164 L148.797 950.322 L153.01 950.322 Q156.459 950.322 158.288 948.956 Q160.116 947.567 160.116 944.975 Q160.116 942.313 158.218 940.901 Q156.343 939.465 152.825 939.465 Q150.903 939.465 148.704 939.882 Q146.505 940.299 143.866 941.178 L143.866 937.012 Q146.529 936.271 148.843 935.901 Q151.181 935.53 153.241 935.53 Q158.565 935.53 161.667 937.961 Q164.769 940.368 164.769 944.489 Q164.769 947.359 163.126 949.35 Q161.482 951.317 158.45 952.081 Z\" fill=\"#000000\" fill-rule=\"evenodd\" fill-opacity=\"1\" /><path clip-path=\"url(#clip390)\" d=\"M184.445 939.234 Q180.834 939.234 179.005 942.799 Q177.2 946.34 177.2 953.47 Q177.2 960.576 179.005 964.141 Q180.834 967.683 184.445 967.683 Q188.079 967.683 189.885 964.141 Q191.713 960.576 191.713 953.47 Q191.713 946.34 189.885 942.799 Q188.079 939.234 184.445 939.234 M184.445 935.53 Q190.255 935.53 193.311 940.137 Q196.389 944.72 196.389 953.47 Q196.389 962.197 193.311 966.803 Q190.255 971.387 184.445 971.387 Q178.635 971.387 175.556 966.803 Q172.501 962.197 172.501 953.47 Q172.501 944.72 175.556 940.137 Q178.635 935.53 184.445 935.53 Z\" fill=\"#000000\" fill-rule=\"evenodd\" fill-opacity=\"1\" /><path clip-path=\"url(#clip390)\" d=\"M154.862 702.858 Q151.714 702.858 149.862 705.01 Q148.033 707.163 148.033 710.913 Q148.033 714.64 149.862 716.816 Q151.714 718.969 154.862 718.969 Q158.01 718.969 159.839 716.816 Q161.69 714.64 161.69 710.913 Q161.69 707.163 159.839 705.01 Q158.01 702.858 154.862 702.858 M164.144 688.205 L164.144 692.464 Q162.385 691.631 160.579 691.191 Q158.797 690.751 157.038 690.751 Q152.408 690.751 149.954 693.876 Q147.524 697.001 147.177 703.321 Q148.542 701.307 150.603 700.242 Q152.663 699.154 155.14 699.154 Q160.348 699.154 163.357 702.325 Q166.39 705.473 166.39 710.913 Q166.39 716.237 163.241 719.455 Q160.093 722.672 154.862 722.672 Q148.866 722.672 145.695 718.089 Q142.524 713.483 142.524 704.756 Q142.524 696.561 146.413 691.7 Q150.302 686.816 156.853 686.816 Q158.612 686.816 160.394 687.163 Q162.2 687.51 164.144 688.205 Z\" fill=\"#000000\" fill-rule=\"evenodd\" fill-opacity=\"1\" /><path clip-path=\"url(#clip390)\" d=\"M184.445 690.52 Q180.834 690.52 179.005 694.084 Q177.2 697.626 177.2 704.756 Q177.2 711.862 179.005 715.427 Q180.834 718.969 184.445 718.969 Q188.079 718.969 189.885 715.427 Q191.713 711.862 191.713 704.756 Q191.713 697.626 189.885 694.084 Q188.079 690.52 184.445 690.52 M184.445 686.816 Q190.255 686.816 193.311 691.422 Q196.389 696.006 196.389 704.756 Q196.389 713.483 193.311 718.089 Q190.255 722.672 184.445 722.672 Q178.635 722.672 175.556 718.089 Q172.501 713.483 172.501 704.756 Q172.501 696.006 175.556 691.422 Q178.635 686.816 184.445 686.816 Z\" fill=\"#000000\" fill-rule=\"evenodd\" fill-opacity=\"1\" /><path clip-path=\"url(#clip390)\" d=\"M144.422 472.569 L144.422 468.31 Q146.181 469.143 147.987 469.583 Q149.792 470.023 151.528 470.023 Q156.158 470.023 158.589 466.921 Q161.042 463.796 161.39 457.453 Q160.047 459.444 157.987 460.509 Q155.927 461.574 153.427 461.574 Q148.241 461.574 145.209 458.449 Q142.2 455.301 142.2 449.861 Q142.2 444.537 145.348 441.319 Q148.496 438.102 153.728 438.102 Q159.723 438.102 162.871 442.708 Q166.042 447.292 166.042 456.041 Q166.042 464.213 162.153 469.097 Q158.288 473.958 151.737 473.958 Q149.978 473.958 148.172 473.611 Q146.366 473.264 144.422 472.569 M153.728 457.916 Q156.876 457.916 158.704 455.764 Q160.556 453.611 160.556 449.861 Q160.556 446.134 158.704 443.981 Q156.876 441.805 153.728 441.805 Q150.579 441.805 148.728 443.981 Q146.899 446.134 146.899 449.861 Q146.899 453.611 148.728 455.764 Q150.579 457.916 153.728 457.916 Z\" fill=\"#000000\" fill-rule=\"evenodd\" fill-opacity=\"1\" /><path clip-path=\"url(#clip390)\" d=\"M184.445 441.805 Q180.834 441.805 179.005 445.37 Q177.2 448.912 177.2 456.041 Q177.2 463.148 179.005 466.713 Q180.834 470.254 184.445 470.254 Q188.079 470.254 189.885 466.713 Q191.713 463.148 191.713 456.041 Q191.713 448.912 189.885 445.37 Q188.079 441.805 184.445 441.805 M184.445 438.102 Q190.255 438.102 193.311 442.708 Q196.389 447.292 196.389 456.041 Q196.389 464.768 193.311 469.375 Q190.255 473.958 184.445 473.958 Q178.635 473.958 175.556 469.375 Q172.501 464.768 172.501 456.041 Q172.501 447.292 175.556 442.708 Q178.635 438.102 184.445 438.102 Z\" fill=\"#000000\" fill-rule=\"evenodd\" fill-opacity=\"1\" /><path clip-path=\"url(#clip390)\" d=\"M114.931 220.637 L122.57 220.637 L122.57 194.272 L114.26 195.938 L114.26 191.679 L122.524 190.012 L127.2 190.012 L127.2 220.637 L134.839 220.637 L134.839 224.572 L114.931 224.572 L114.931 220.637 Z\" fill=\"#000000\" fill-rule=\"evenodd\" fill-opacity=\"1\" /><path clip-path=\"url(#clip390)\" d=\"M148.311 220.637 L164.63 220.637 L164.63 224.572 L142.686 224.572 L142.686 220.637 Q145.348 217.883 149.931 213.253 Q154.538 208.6 155.718 207.258 Q157.964 204.735 158.843 202.999 Q159.746 201.239 159.746 199.549 Q159.746 196.795 157.802 195.059 Q155.88 193.323 152.778 193.323 Q150.579 193.323 148.126 194.087 Q145.695 194.85 142.917 196.401 L142.917 191.679 Q145.741 190.545 148.195 189.966 Q150.649 189.387 152.686 189.387 Q158.056 189.387 161.251 192.073 Q164.445 194.758 164.445 199.249 Q164.445 201.378 163.635 203.299 Q162.848 205.198 160.741 207.79 Q160.163 208.461 157.061 211.679 Q153.959 214.873 148.311 220.637 Z\" fill=\"#000000\" fill-rule=\"evenodd\" fill-opacity=\"1\" /><path clip-path=\"url(#clip390)\" d=\"M184.445 193.091 Q180.834 193.091 179.005 196.656 Q177.2 200.198 177.2 207.327 Q177.2 214.434 179.005 217.998 Q180.834 221.54 184.445 221.54 Q188.079 221.54 189.885 217.998 Q191.713 214.434 191.713 207.327 Q191.713 200.198 189.885 196.656 Q188.079 193.091 184.445 193.091 M184.445 189.387 Q190.255 189.387 193.311 193.994 Q196.389 198.577 196.389 207.327 Q196.389 216.054 193.311 220.66 Q190.255 225.244 184.445 225.244 Q178.635 225.244 175.556 220.66 Q172.501 216.054 172.501 207.327 Q172.501 198.577 175.556 193.994 Q178.635 189.387 184.445 189.387 Z\" fill=\"#000000\" fill-rule=\"evenodd\" fill-opacity=\"1\" /><path clip-path=\"url(#clip390)\" d=\"M49.9359 788.254 L28.3562 788.254 L28.3562 782.397 L49.7131 782.397 Q54.7739 782.397 57.3202 780.424 Q59.8346 778.45 59.8346 774.504 Q59.8346 769.761 56.8109 767.024 Q53.7872 764.255 48.5673 764.255 L28.3562 764.255 L28.3562 758.398 L64.0042 758.398 L64.0042 764.255 L58.5296 764.255 Q61.7762 766.387 63.3676 769.22 Q64.9272 772.021 64.9272 775.745 Q64.9272 781.888 61.1078 785.071 Q57.2883 788.254 49.9359 788.254 M27.4968 773.517 L27.4968 773.517 Z\" fill=\"#000000\" fill-rule=\"evenodd\" fill-opacity=\"1\" /><path clip-path=\"url(#clip390)\" d=\"M1029.71 12.096 L1037.89 12.096 L1037.89 72.576 L1029.71 72.576 L1029.71 12.096 Z\" fill=\"#000000\" fill-rule=\"evenodd\" fill-opacity=\"1\" /><path clip-path=\"url(#clip390)\" d=\"M1091.57 45.1919 L1091.57 72.576 L1084.11 72.576 L1084.11 45.4349 Q1084.11 38.994 1081.6 35.7938 Q1079.09 32.5936 1074.07 32.5936 Q1068.03 32.5936 1064.55 36.4419 Q1061.06 40.2903 1061.06 46.9338 L1061.06 72.576 L1053.57 72.576 L1053.57 27.2059 L1061.06 27.2059 L1061.06 34.2544 Q1063.74 30.163 1067.34 28.1376 Q1070.99 26.1121 1075.73 26.1121 Q1083.55 26.1121 1087.56 30.9732 Q1091.57 35.7938 1091.57 45.1919 Z\" fill=\"#000000\" fill-rule=\"evenodd\" fill-opacity=\"1\" /><path clip-path=\"url(#clip390)\" d=\"M1113.64 65.7705 L1113.64 89.8329 L1106.15 89.8329 L1106.15 27.2059 L1113.64 27.2059 L1113.64 34.0924 Q1115.99 30.0415 1119.56 28.0971 Q1123.16 26.1121 1128.15 26.1121 Q1136.41 26.1121 1141.55 32.6746 Q1146.74 39.2371 1146.74 49.9314 Q1146.74 60.6258 1141.55 67.1883 Q1136.41 73.7508 1128.15 73.7508 Q1123.16 73.7508 1119.56 71.8063 Q1115.99 69.8214 1113.64 65.7705 M1139 49.9314 Q1139 41.7081 1135.6 37.0496 Q1132.24 32.3505 1126.32 32.3505 Q1120.41 32.3505 1117.01 37.0496 Q1113.64 41.7081 1113.64 49.9314 Q1113.64 58.1548 1117.01 62.8538 Q1120.41 67.5124 1126.32 67.5124 Q1132.24 67.5124 1135.6 62.8538 Q1139 58.1548 1139 49.9314 Z\" fill=\"#000000\" fill-rule=\"evenodd\" fill-opacity=\"1\" /><path clip-path=\"url(#clip390)\" d=\"M1158.33 54.671 L1158.33 27.2059 L1165.78 27.2059 L1165.78 54.3874 Q1165.78 60.8284 1168.29 64.0691 Q1170.8 67.2693 1175.83 67.2693 Q1181.86 67.2693 1185.35 63.421 Q1188.87 59.5726 1188.87 52.9291 L1188.87 27.2059 L1196.32 27.2059 L1196.32 72.576 L1188.87 72.576 L1188.87 65.6084 Q1186.16 69.7404 1182.55 71.7658 Q1178.99 73.7508 1174.25 73.7508 Q1166.43 73.7508 1162.38 68.8897 Q1158.33 64.0286 1158.33 54.671 M1177.08 26.1121 L1177.08 26.1121 Z\" fill=\"#000000\" fill-rule=\"evenodd\" fill-opacity=\"1\" /><path clip-path=\"url(#clip390)\" d=\"M1219.05 14.324 L1219.05 27.2059 L1234.4 27.2059 L1234.4 32.9987 L1219.05 32.9987 L1219.05 57.6282 Q1219.05 63.1779 1220.55 64.7578 Q1222.09 66.3376 1226.75 66.3376 L1234.4 66.3376 L1234.4 72.576 L1226.75 72.576 Q1218.12 72.576 1214.84 69.3758 Q1211.55 66.1351 1211.55 57.6282 L1211.55 32.9987 L1206.09 32.9987 L1206.09 27.2059 L1211.55 27.2059 L1211.55 14.324 L1219.05 14.324 Z\" fill=\"#000000\" fill-rule=\"evenodd\" fill-opacity=\"1\" /><path clip-path=\"url(#clip390)\" d=\"M1270.9 12.096 L1279.08 12.096 L1279.08 36.8875 L1308.82 36.8875 L1308.82 12.096 L1317 12.096 L1317 72.576 L1308.82 72.576 L1308.82 43.7741 L1279.08 43.7741 L1279.08 72.576 L1270.9 72.576 L1270.9 12.096 Z\" fill=\"#000000\" fill-rule=\"evenodd\" fill-opacity=\"1\" /><path clip-path=\"url(#clip390)\" d=\"M1332.96 27.2059 L1340.41 27.2059 L1340.41 72.576 L1332.96 72.576 L1332.96 27.2059 M1332.96 9.54393 L1340.41 9.54393 L1340.41 18.9825 L1332.96 18.9825 L1332.96 9.54393 Z\" fill=\"#000000\" fill-rule=\"evenodd\" fill-opacity=\"1\" /><path clip-path=\"url(#clip390)\" d=\"M1384.93 28.5427 L1384.93 35.5912 Q1381.77 33.9709 1378.37 33.1607 Q1374.97 32.3505 1371.32 32.3505 Q1365.77 32.3505 1362.98 34.0519 Q1360.22 35.7533 1360.22 39.156 Q1360.22 41.7486 1362.21 43.2475 Q1364.19 44.7058 1370.19 46.0426 L1372.74 46.6097 Q1380.68 48.3111 1384 51.4303 Q1387.36 54.509 1387.36 60.0587 Q1387.36 66.3781 1382.34 70.0644 Q1377.36 73.7508 1368.61 73.7508 Q1364.96 73.7508 1360.99 73.0216 Q1357.06 72.3329 1352.69 70.9151 L1352.69 63.2184 Q1356.82 65.3654 1360.83 66.4591 Q1364.84 67.5124 1368.77 67.5124 Q1374.04 67.5124 1376.87 65.73 Q1379.71 63.9071 1379.71 60.6258 Q1379.71 57.5877 1377.64 55.9673 Q1375.62 54.3469 1368.69 52.8481 L1366.1 52.2405 Q1359.17 50.7821 1356.09 47.7845 Q1353.01 44.7463 1353.01 39.4801 Q1353.01 33.0797 1357.55 29.5959 Q1362.09 26.1121 1370.43 26.1121 Q1374.56 26.1121 1378.21 26.7198 Q1381.85 27.3274 1384.93 28.5427 Z\" fill=\"#000000\" fill-rule=\"evenodd\" fill-opacity=\"1\" /><path clip-path=\"url(#clip390)\" d=\"M1406.61 14.324 L1406.61 27.2059 L1421.96 27.2059 L1421.96 32.9987 L1406.61 32.9987 L1406.61 57.6282 Q1406.61 63.1779 1408.1 64.7578 Q1409.64 66.3376 1414.3 66.3376 L1421.96 66.3376 L1421.96 72.576 L1414.3 72.576 Q1405.67 72.576 1402.39 69.3758 Q1399.11 66.1351 1399.11 57.6282 L1399.11 32.9987 L1393.64 32.9987 L1393.64 27.2059 L1399.11 27.2059 L1399.11 14.324 L1406.61 14.324 Z\" fill=\"#000000\" fill-rule=\"evenodd\" fill-opacity=\"1\" /><path clip-path=\"url(#clip390)\" d=\"M1449.34 32.4315 Q1443.35 32.4315 1439.86 37.1306 Q1436.38 41.7891 1436.38 49.9314 Q1436.38 58.0738 1439.82 62.7728 Q1443.31 67.4314 1449.34 67.4314 Q1455.3 67.4314 1458.78 62.7323 Q1462.27 58.0333 1462.27 49.9314 Q1462.27 41.8701 1458.78 37.1711 Q1455.3 32.4315 1449.34 32.4315 M1449.34 26.1121 Q1459.06 26.1121 1464.61 32.4315 Q1470.16 38.7509 1470.16 49.9314 Q1470.16 61.0714 1464.61 67.4314 Q1459.06 73.7508 1449.34 73.7508 Q1439.58 73.7508 1434.03 67.4314 Q1428.52 61.0714 1428.52 49.9314 Q1428.52 38.7509 1434.03 32.4315 Q1439.58 26.1121 1449.34 26.1121 Z\" fill=\"#000000\" fill-rule=\"evenodd\" fill-opacity=\"1\" /><path clip-path=\"url(#clip390)\" d=\"M1508.81 34.1734 Q1507.55 33.4443 1506.06 33.1202 Q1504.6 32.7556 1502.81 32.7556 Q1496.5 32.7556 1493.09 36.8875 Q1489.73 40.9789 1489.73 48.6757 L1489.73 72.576 L1482.24 72.576 L1482.24 27.2059 L1489.73 27.2059 L1489.73 34.2544 Q1492.08 30.1225 1495.85 28.1376 Q1499.61 26.1121 1505 26.1121 Q1505.77 26.1121 1506.7 26.2337 Q1507.64 26.3147 1508.77 26.5172 L1508.81 34.1734 Z\" fill=\"#000000\" fill-rule=\"evenodd\" fill-opacity=\"1\" /><path clip-path=\"url(#clip390)\" d=\"M1535.51 76.7889 Q1532.35 84.8907 1529.35 87.3618 Q1526.35 89.8329 1521.33 89.8329 L1515.37 89.8329 L1515.37 83.5945 L1519.75 83.5945 Q1522.83 83.5945 1524.53 82.1361 Q1526.23 80.6778 1528.29 75.2496 L1529.63 71.8468 L1511.28 27.2059 L1519.18 27.2059 L1533.36 62.6918 L1547.54 27.2059 L1555.44 27.2059 L1535.51 76.7889 Z\" fill=\"#000000\" fill-rule=\"evenodd\" fill-opacity=\"1\" /><polyline clip-path=\"url(#clip392)\" style=\"stroke:#009af9; stroke-linecap:round; stroke-linejoin:round; stroke-width:4; stroke-opacity:1; fill:none\" points=\"292.4,1074.65 312.605,1076.65 332.811,1078.65 353.016,1080.66 373.222,1082.67 393.427,1084.68 413.633,1086.7 433.838,1088.73 454.044,1090.75 474.249,1092.79 494.455,1094.83 514.66,1096.87 534.866,1098.92 555.071,1100.97 575.277,1103.04 595.482,1105.1 615.688,1107.18 635.893,1109.26 656.099,1111.34 676.304,1113.44 696.51,1115 716.715,1116.31 736.921,1117.63 757.127,1118.95 777.332,1120.27 797.538,1121.58 817.743,1122.9 837.949,1124.22 858.154,1125.54 878.36,1126.85 898.565,1128.17 918.771,1129.49 938.976,1130.81 959.182,1132.13 979.387,1133.44 999.593,1134.76 1019.8,1136.08 1040,1137.4 1060.21,1138.71 1080.41,1140.03 1100.62,1141.35 1120.83,1142.67 1141.03,1143.98 1161.24,1145.3 1181.44,1146.62 1201.65,1147.94 1221.85,1149.25 1242.06,1150.57 1262.26,1151.89 1282.47,1153.21 1302.68,1154.52 1322.88,1155.84 1343.09,1157.16 1363.29,1158.48 1383.5,1159.79 1403.7,1161.11 1423.91,1162.43 1444.11,1163.74 1464.32,1165.06 1484.53,1166.38 1504.73,1167.7 1524.94,1169.01 1545.14,1170.33 1565.35,1171.65 1585.55,1172.96 1605.76,1174.28 1625.96,1175.6 1646.17,1176.92 1666.37,1178.23 1686.58,1179.55 1706.79,1180.87 1726.99,1182.18 1747.2,1183.5 1767.4,1184.82 1787.61,1186.14 1807.81,1187.45 1828.02,1188.77 1848.22,1190.09 1868.43,1191.4 1888.64,1192.72 1908.84,1194.04 1929.05,1195.36 1949.25,1196.67 1969.46,1197.99 1989.66,1199.31 2009.87,1200.62 2030.07,1201.94 2050.28,1203.26 2070.48,1204.58 2090.69,1205.89 2110.9,1207.21 2131.1,1208.53 2151.31,1209.85 2171.51,1211.16 2191.72,1212.48 2211.92,1213.8 2232.13,1215.12 2252.33,1216.43 2272.54,1217.75 2292.75,1219.07 \"/>\n",
       "<polyline clip-path=\"url(#clip392)\" style=\"stroke:#e26f46; stroke-linecap:round; stroke-linejoin:round; stroke-width:4; stroke-opacity:1; fill:none\" points=\"292.4,1386.4 312.605,1382.61 332.811,1378.84 353.016,1375.06 373.222,1371.29 393.427,1367.53 413.633,1363.76 433.838,1360.01 454.044,1356.25 474.249,1352.5 494.455,1348.76 514.66,1345.02 534.866,1341.29 555.071,1337.56 575.277,1333.84 595.482,1330.13 615.688,1326.42 635.893,1322.72 656.099,1319.02 676.304,1315.34 696.51,1312.34 716.715,1309.65 736.921,1306.96 757.127,1304.28 777.332,1301.59 797.538,1298.9 817.743,1296.22 837.949,1293.53 858.154,1290.85 878.36,1288.16 898.565,1285.48 918.771,1282.79 938.976,1280.11 959.182,1277.43 979.387,1274.74 999.593,1272.06 1019.8,1269.38 1040,1266.7 1060.21,1264.01 1080.41,1261.33 1100.62,1258.65 1120.83,1255.97 1141.03,1253.29 1161.24,1250.61 1181.44,1247.93 1201.65,1245.25 1221.85,1242.57 1242.06,1239.89 1262.26,1237.21 1282.47,1234.54 1302.68,1231.86 1322.88,1229.18 1343.09,1226.5 1363.29,1223.82 1383.5,1221.15 1403.7,1218.47 1423.91,1215.79 1444.11,1213.12 1464.32,1210.44 1484.53,1207.76 1504.73,1205.09 1524.94,1202.41 1545.14,1199.73 1565.35,1197.06 1585.55,1194.38 1605.76,1191.71 1625.96,1189.03 1646.17,1186.35 1666.37,1183.68 1686.58,1181 1706.79,1178.33 1726.99,1175.65 1747.2,1172.98 1767.4,1170.3 1787.61,1167.62 1807.81,1164.95 1828.02,1162.27 1848.22,1159.6 1868.43,1156.92 1888.64,1154.25 1908.84,1151.57 1929.05,1148.9 1949.25,1146.22 1969.46,1143.54 1989.66,1140.87 2009.87,1138.19 2030.07,1135.52 2050.28,1132.84 2070.48,1130.16 2090.69,1127.49 2110.9,1124.81 2131.1,1122.14 2151.31,1119.46 2171.51,1116.78 2191.72,1114.1 2211.92,1111.43 2232.13,1108.75 2252.33,1106.07 2272.54,1103.4 2292.75,1100.72 \"/>\n",
       "<polyline clip-path=\"url(#clip392)\" style=\"stroke:#3da44d; stroke-linecap:round; stroke-linejoin:round; stroke-width:4; stroke-opacity:1; fill:none\" points=\"292.4,460.783 312.605,457.269 332.811,453.759 353.016,450.253 373.222,446.752 393.427,443.254 413.633,439.761 433.838,436.272 454.044,432.787 474.249,429.306 494.455,425.829 514.66,422.356 534.866,418.886 555.071,415.421 575.277,411.959 595.482,408.501 615.688,405.046 635.893,401.595 656.099,398.148 676.304,394.704 696.51,391.582 716.715,388.598 736.921,385.618 757.127,382.64 777.332,379.665 797.538,376.693 817.743,373.723 837.949,370.756 858.154,367.792 878.36,364.83 898.565,361.87 918.771,358.912 938.976,355.957 959.182,353.004 979.387,350.053 999.593,347.104 1019.8,344.157 1040,341.212 1060.21,338.269 1080.41,335.328 1100.62,332.389 1120.83,329.451 1141.03,326.515 1161.24,323.58 1181.44,320.647 1201.65,317.716 1221.85,314.786 1242.06,311.857 1262.26,308.93 1282.47,306.003 1302.68,303.078 1322.88,300.155 1343.09,297.232 1363.29,294.31 1383.5,291.389 1403.7,288.47 1423.91,285.551 1444.11,282.632 1464.32,279.715 1484.53,276.798 1504.73,273.883 1524.94,270.967 1545.14,268.052 1565.35,265.138 1585.55,262.225 1605.76,259.311 1625.96,256.398 1646.17,253.486 1666.37,250.574 1686.58,247.662 1706.79,244.75 1726.99,241.838 1747.2,238.927 1767.4,236.015 1787.61,233.104 1807.81,230.193 1828.02,227.282 1848.22,224.37 1868.43,221.459 1888.64,218.548 1908.84,215.636 1929.05,212.724 1949.25,209.812 1969.46,206.9 1989.66,203.987 2009.87,201.075 2030.07,198.161 2050.28,195.248 2070.48,192.334 2090.69,189.42 2110.9,186.505 2131.1,183.59 2151.31,180.675 2171.51,177.759 2191.72,174.842 2211.92,171.925 2232.13,169.008 2252.33,166.09 2272.54,163.171 2292.75,160.256 \"/>\n",
       "<path clip-path=\"url(#clip390)\" d=\"M303.068 374.156 L557.72 374.156 L557.72 166.796 L303.068 166.796  Z\" fill=\"#ffffff\" fill-rule=\"evenodd\" fill-opacity=\"1\"/>\n",
       "<polyline clip-path=\"url(#clip390)\" style=\"stroke:#000000; stroke-linecap:round; stroke-linejoin:round; stroke-width:4; stroke-opacity:1; fill:none\" points=\"303.068,374.156 557.72,374.156 557.72,166.796 303.068,166.796 303.068,374.156 \"/>\n",
       "<polyline clip-path=\"url(#clip390)\" style=\"stroke:#009af9; stroke-linecap:round; stroke-linejoin:round; stroke-width:4; stroke-opacity:1; fill:none\" points=\"326.628,218.636 467.986,218.636 \"/>\n",
       "<path clip-path=\"url(#clip390)\" d=\"M491.545 225.684 L491.545 209.99 L495.804 209.99 L495.804 225.522 Q495.804 229.203 497.24 231.055 Q498.675 232.883 501.545 232.883 Q504.994 232.883 506.985 230.684 Q508.999 228.485 508.999 224.689 L508.999 209.99 L513.258 209.99 L513.258 235.916 L508.999 235.916 L508.999 231.934 Q507.448 234.295 505.388 235.453 Q503.351 236.587 500.642 236.587 Q496.175 236.587 493.86 233.809 Q491.545 231.031 491.545 225.684 M502.263 209.365 L502.263 209.365 Z\" fill=\"#000000\" fill-rule=\"evenodd\" fill-opacity=\"1\" /><path clip-path=\"url(#clip390)\" d=\"M521.175 233.369 L525.897 233.369 L525.897 219.226 L520.735 220.175 L520.735 217.49 L526.059 216.587 L529.23 216.587 L529.23 233.369 L533.976 233.369 L533.976 235.916 L521.175 235.916 L521.175 233.369 Z\" fill=\"#000000\" fill-rule=\"evenodd\" fill-opacity=\"1\" /><polyline clip-path=\"url(#clip390)\" style=\"stroke:#e26f46; stroke-linecap:round; stroke-linejoin:round; stroke-width:4; stroke-opacity:1; fill:none\" points=\"326.628,270.476 467.986,270.476 \"/>\n",
       "<path clip-path=\"url(#clip390)\" d=\"M491.545 277.524 L491.545 261.83 L495.804 261.83 L495.804 277.362 Q495.804 281.043 497.24 282.895 Q498.675 284.723 501.545 284.723 Q504.994 284.723 506.985 282.524 Q508.999 280.325 508.999 276.529 L508.999 261.83 L513.258 261.83 L513.258 287.756 L508.999 287.756 L508.999 283.774 Q507.448 286.135 505.388 287.293 Q503.351 288.427 500.642 288.427 Q496.175 288.427 493.86 285.649 Q491.545 282.871 491.545 277.524 M502.263 261.205 L502.263 261.205 Z\" fill=\"#000000\" fill-rule=\"evenodd\" fill-opacity=\"1\" /><path clip-path=\"url(#clip390)\" d=\"M523.767 285.117 L533.582 285.117 L533.582 287.756 L519.74 287.756 L519.74 285.209 Q520.527 284.492 521.985 283.196 Q529.948 276.135 529.948 273.959 Q529.948 272.432 528.744 271.506 Q527.54 270.557 525.573 270.557 Q524.369 270.557 522.957 270.973 Q521.545 271.367 519.878 272.177 L519.878 269.33 Q521.661 268.682 523.189 268.358 Q524.74 268.034 526.059 268.034 Q529.415 268.034 531.429 269.561 Q533.443 271.089 533.443 273.589 Q533.443 276.807 525.781 283.381 Q524.485 284.492 523.767 285.117 Z\" fill=\"#000000\" fill-rule=\"evenodd\" fill-opacity=\"1\" /><polyline clip-path=\"url(#clip390)\" style=\"stroke:#3da44d; stroke-linecap:round; stroke-linejoin:round; stroke-width:4; stroke-opacity:1; fill:none\" points=\"326.628,322.316 467.986,322.316 \"/>\n",
       "<path clip-path=\"url(#clip390)\" d=\"M491.545 329.364 L491.545 313.67 L495.804 313.67 L495.804 329.202 Q495.804 332.883 497.24 334.735 Q498.675 336.563 501.545 336.563 Q504.994 336.563 506.985 334.364 Q508.999 332.165 508.999 328.369 L508.999 313.67 L513.258 313.67 L513.258 339.596 L508.999 339.596 L508.999 335.614 Q507.448 337.975 505.388 339.133 Q503.351 340.267 500.642 340.267 Q496.175 340.267 493.86 337.489 Q491.545 334.711 491.545 329.364 M502.263 313.045 L502.263 313.045 Z\" fill=\"#000000\" fill-rule=\"evenodd\" fill-opacity=\"1\" /><path clip-path=\"url(#clip390)\" d=\"M529.693 329.133 Q531.823 329.549 532.98 330.823 Q534.161 332.073 534.161 333.971 Q534.161 336.841 531.962 338.392 Q529.763 339.943 525.665 339.943 Q524.346 339.943 522.888 339.688 Q521.453 339.457 519.832 338.994 L519.832 336.193 Q521.036 336.818 522.402 337.119 Q523.79 337.42 525.341 337.42 Q527.865 337.42 529.253 336.517 Q530.642 335.591 530.642 333.971 Q530.642 332.258 529.346 331.378 Q528.073 330.499 525.573 330.499 L523.582 330.499 L523.582 327.999 L525.758 327.999 Q527.934 327.999 529.045 327.281 Q530.179 326.54 530.179 325.151 Q530.179 323.809 529.022 323.114 Q527.865 322.397 525.665 322.397 Q524.74 322.397 523.559 322.605 Q522.378 322.813 520.503 323.346 L520.503 320.684 Q522.193 320.29 523.675 320.082 Q525.156 319.874 526.429 319.874 Q529.763 319.874 531.707 321.239 Q533.675 322.605 533.675 324.897 Q533.675 326.494 532.633 327.605 Q531.591 328.716 529.693 329.133 Z\" fill=\"#000000\" fill-rule=\"evenodd\" fill-opacity=\"1\" /></svg>\n"
      ]
     },
     "metadata": {},
     "output_type": "display_data"
    },
    {
     "name": "stdout",
     "output_type": "stream",
     "text": [
      "iter     J           ΔJ        |d|         α        reg         ρ\n",
      "---------------------------------------------------------------------\n",
      "  1    0.000e+00   3.18e+04   0.00e+00  0.0000    1.00e-08    1.00e+00\n",
      "update cone\n",
      "convio = 33.33396509933647\n",
      "  2    0.000e+00   4.96e+04   0.00e+00  0.0000    1.00e-08    1.00e+01\n",
      "update cone\n",
      "convio = 20.502917474698727\n",
      "  3    0.000e+00   9.39e+04   0.00e+00  0.0000    1.00e-08    1.00e+02\n",
      "update cone\n",
      "convio = 9.853284095611647\n",
      "  4    0.000e+00   1.07e+05   0.00e+00  0.0000    1.00e-08    1.00e+03\n",
      "update cone\n",
      "convio = 12.423969468764781\n",
      "  5    0.000e+00   1.09e+05   0.00e+00  0.0000    1.00e-08    1.00e+04\n",
      "update cone\n",
      "convio = 21.819829210045818\n",
      "  6    0.000e+00   1.33e+05   0.00e+00  0.0000    1.00e-08    1.00e+05\n",
      "update cone\n",
      "convio = 22.14325151443724\n",
      "  7    0.000e+00   3.54e+05   0.00e+00  0.0000    1.00e-08    1.00e+06\n",
      "update cone\n",
      "convio = 22.59352400009904\n",
      "  8    0.000e+00   2.53e+06   0.00e+00  0.0000    1.00e-08    1.00e+07\n",
      "update cone\n",
      "convio = 22.479400103432287\n",
      "  9    0.000e+00   2.43e+07   0.00e+00  0.0000    1.00e-08    1.00e+08\n",
      "update cone\n",
      "convio = 22.531279095559793\n",
      " 10    0.000e+00   2.41e+08   0.00e+00  0.0000    1.00e-08    1.00e+09\n",
      "update cone\n",
      "convio = 22.51266621747156\n",
      "iter     J           ΔJ        |d|         α        reg         ρ\n",
      "---------------------------------------------------------------------\n",
      " 11    0.000e+00   2.41e+09   0.00e+00  0.0000    1.00e-08    1.00e+10\n",
      "update cone\n",
      "convio = 22.518990644086383\n",
      " 12    0.000e+00   2.41e+10   0.00e+00  0.0000    1.00e-08    1.00e+11\n",
      "update cone\n",
      "convio = 22.517403519727182\n",
      " 13    0.000e+00   2.41e+11   0.00e+00  0.0000    1.00e-08    1.00e+12\n",
      "update cone\n",
      "convio = 22.517354614951685\n",
      " 14    0.000e+00   2.41e+12   0.00e+00  0.0000    1.00e-08    1.00e+13\n",
      "update cone\n",
      "convio = 22.517871144030096\n",
      " 15    0.000e+00   2.41e+13   0.00e+00  0.0000    1.00e-08    1.00e+14\n",
      "update cone\n",
      "convio = 22.51731307951697\n"
     ]
    }
   ],
   "source": [
    "# Let's solve\n",
    "\n",
    "nx = 6\n",
    "nu = 3\n",
    "N = 101\n",
    "dt = 0.1\n",
    "t_vec = dt*(0:N-1)\n",
    "x0 = [4, 2, 20, -3, 2, -5.0]\n",
    "xg = [0,0,0,0,0,0.0]\n",
    "Xref = [deepcopy(xg) for i = 1:N]\n",
    "Uref = [zeros(nu) for i = 1:N-1]\n",
    "\n",
    "Q = 1e-2*Diagonal([1,1,1,1.0,1,1])\n",
    "R = 1e-1*Diagonal([1,1,1])\n",
    "Qf = 1000*Q\n",
    "\n",
    "ground_level = 0.0\n",
    "gravity = [0; 0; 9.81]\n",
    "mass = 10.0\n",
    "ωPlanet = [0.0; 0.0; 0.0]\n",
    "perWeightMax = 2.0\n",
    "θ_thrust_max = 10.0  # deg\n",
    "θ_glideslope = 60.0 # deg\n",
    "glide_recover_k = 8\n",
    "\n",
    "A_cone = [1 0 0; 0 1 0]\n",
    "c_cone = [0.0, 0.0, tand(θ_thrust_max)]\n",
    "u_bnd = mass * abs(gravity[3]) * perWeightMax\n",
    "u_min = -170*ones(nu)\n",
    "u_max =  170*ones(nu)\n",
    "\n",
    "# state is x y v θ\n",
    "x_min = [-2,-2,-2,-2]\n",
    "x_max = [6,8,3,2]\n",
    "\n",
    "ncx = 2*nx*0\n",
    "ncu = 2*nu\n",
    "ncg = 1\n",
    "ncu_cone = nu; \n",
    "\n",
    "params = (\n",
    "    nx = nx,\n",
    "    nu = nu,\n",
    "    ncx = ncx,\n",
    "    ncu = ncu,\n",
    "    ncg = ncg,\n",
    "    ncu_cone = ncu_cone,\n",
    "    A_cone = A_cone,\n",
    "    c_cone = c_cone,\n",
    "    N = N,\n",
    "    Q = Q,\n",
    "    R = R,\n",
    "    Qf = Qf,\n",
    "    u_min = u_min,\n",
    "    u_max = u_max,\n",
    "    x_min = x_min,\n",
    "    x_max = x_max,\n",
    "    Xref = Xref,\n",
    "    Uref = Uref,\n",
    "    dt = dt,\n",
    "    mc = 1.0,\n",
    "    mp = 0.2,\n",
    "    l = 0.5,\n",
    "    g = 9.81,\n",
    ");\n",
    "\n",
    "# previous iterate\n",
    "X = [deepcopy(x0) for i = 1:N]\n",
    "U = [mass * gravity for k = 1:N-1]\n",
    "\n",
    "# new iterate\n",
    "Xn = deepcopy(X)\n",
    "Un = deepcopy(U)\n",
    "\n",
    "P = [zeros(nx,nx) for i = 1:N]   # cost to go quadratic term\n",
    "p = [zeros(nx) for i = 1:N]      # cost to go linear term\n",
    "d = [zeros(nu) for i = 1:N-1]    # feedforward control\n",
    "K = [zeros(nu,nx) for i = 1:N-1] # feedback gain\n",
    "Xhist = mpc(params,X,U,P,p,K,d,Xn,Un;atol=1e-1,max_iters = 15,verbose = true,ρ = 1e0, ϕ = 10.0);\n",
    "function mat_from_vec(X::Vector{Vector{Float64}})::Matrix\n",
    "    # convert a vector of vectors to a matrix \n",
    "    Xm = hcat(X...)\n",
    "    return Xm \n",
    "end\n",
    "Xsim_m = mat_from_vec(Xn)\n",
    "Usim_m = mat_from_vec(Un)\n",
    "using Plots\n",
    "display(plot(t_vec,Xsim_m',label = [\"x₁\" \"x₂\" \"x₃\" \"ẋ₁\" \"ẋ₂\" \"ẋ₃\"],\n",
    "             title = \"State History\",\n",
    "             xlabel = \"time (s)\", ylabel = \"x\"))\n",
    "display(plot(t_vec[1:end-1],Usim_m',label = [\"u₁\" \"u₂\" \"u₃\"],\n",
    "             title = \"Input History\",\n",
    "             xlabel = \"time (s)\", ylabel = \"u\"))"
   ]
  },
  {
   "cell_type": "code",
   "execution_count": 49,
   "id": "12ec6530-7479-455f-843a-81d2c40fb13a",
   "metadata": {},
   "outputs": [
    {
     "data": {
      "text/plain": [
       "22.51731307951697"
      ]
     },
     "metadata": {},
     "output_type": "display_data"
    },
    {
     "data": {
      "text/plain": [
       "21.343296080558837"
      ]
     },
     "metadata": {},
     "output_type": "display_data"
    },
    {
     "data": {
      "text/plain": [
       "20.169955366050726"
      ]
     },
     "metadata": {},
     "output_type": "display_data"
    },
    {
     "data": {
      "text/plain": [
       "18.997306600077597"
      ]
     },
     "metadata": {},
     "output_type": "display_data"
    },
    {
     "data": {
      "text/plain": [
       "17.825366265099298"
      ]
     },
     "metadata": {},
     "output_type": "display_data"
    },
    {
     "data": {
      "text/plain": [
       "16.65415162890423"
      ]
     },
     "metadata": {},
     "output_type": "display_data"
    },
    {
     "data": {
      "text/plain": [
       "15.483681008680009"
      ]
     },
     "metadata": {},
     "output_type": "display_data"
    },
    {
     "data": {
      "text/plain": [
       "14.313973685087149"
      ]
     },
     "metadata": {},
     "output_type": "display_data"
    },
    {
     "data": {
      "text/plain": [
       "13.145050162199418"
      ]
     },
     "metadata": {},
     "output_type": "display_data"
    },
    {
     "data": {
      "text/plain": [
       "11.976932215523725"
      ]
     },
     "metadata": {},
     "output_type": "display_data"
    },
    {
     "data": {
      "text/plain": [
       "10.809643042324296"
      ]
     },
     "metadata": {},
     "output_type": "display_data"
    },
    {
     "data": {
      "text/plain": [
       "9.643207407162528"
      ]
     },
     "metadata": {},
     "output_type": "display_data"
    },
    {
     "data": {
      "text/plain": [
       "8.47765180381267"
      ]
     },
     "metadata": {},
     "output_type": "display_data"
    },
    {
     "data": {
      "text/plain": [
       "7.31300463367748"
      ]
     },
     "metadata": {},
     "output_type": "display_data"
    },
    {
     "data": {
      "text/plain": [
       "6.149296378055801"
      ]
     },
     "metadata": {},
     "output_type": "display_data"
    },
    {
     "data": {
      "text/plain": [
       "4.986559945656609"
      ]
     },
     "metadata": {},
     "output_type": "display_data"
    },
    {
     "data": {
      "text/plain": [
       "3.8248306623069865"
      ]
     },
     "metadata": {},
     "output_type": "display_data"
    },
    {
     "data": {
      "text/plain": [
       "2.6641838076283477"
      ]
     },
     "metadata": {},
     "output_type": "display_data"
    },
    {
     "data": {
      "text/plain": [
       "1.5046483058109175"
      ]
     },
     "metadata": {},
     "output_type": "display_data"
    },
    {
     "data": {
      "text/plain": [
       "0.34623496939865817"
      ]
     },
     "metadata": {},
     "output_type": "display_data"
    },
    {
     "data": {
      "text/plain": [
       "0.0"
      ]
     },
     "metadata": {},
     "output_type": "display_data"
    },
    {
     "data": {
      "text/plain": [
       "0.0"
      ]
     },
     "metadata": {},
     "output_type": "display_data"
    },
    {
     "data": {
      "text/plain": [
       "0.0"
      ]
     },
     "metadata": {},
     "output_type": "display_data"
    },
    {
     "data": {
      "text/plain": [
       "0.0"
      ]
     },
     "metadata": {},
     "output_type": "display_data"
    },
    {
     "data": {
      "text/plain": [
       "0.0"
      ]
     },
     "metadata": {},
     "output_type": "display_data"
    },
    {
     "data": {
      "text/plain": [
       "0.0"
      ]
     },
     "metadata": {},
     "output_type": "display_data"
    },
    {
     "data": {
      "text/plain": [
       "0.0"
      ]
     },
     "metadata": {},
     "output_type": "display_data"
    },
    {
     "data": {
      "text/plain": [
       "0.0"
      ]
     },
     "metadata": {},
     "output_type": "display_data"
    },
    {
     "data": {
      "text/plain": [
       "0.0"
      ]
     },
     "metadata": {},
     "output_type": "display_data"
    },
    {
     "data": {
      "text/plain": [
       "0.0"
      ]
     },
     "metadata": {},
     "output_type": "display_data"
    },
    {
     "data": {
      "text/plain": [
       "0.0"
      ]
     },
     "metadata": {},
     "output_type": "display_data"
    },
    {
     "data": {
      "text/plain": [
       "0.0"
      ]
     },
     "metadata": {},
     "output_type": "display_data"
    },
    {
     "data": {
      "text/plain": [
       "0.0"
      ]
     },
     "metadata": {},
     "output_type": "display_data"
    },
    {
     "data": {
      "text/plain": [
       "0.0"
      ]
     },
     "metadata": {},
     "output_type": "display_data"
    },
    {
     "data": {
      "text/plain": [
       "0.0"
      ]
     },
     "metadata": {},
     "output_type": "display_data"
    },
    {
     "data": {
      "text/plain": [
       "0.0"
      ]
     },
     "metadata": {},
     "output_type": "display_data"
    },
    {
     "data": {
      "text/plain": [
       "0.0"
      ]
     },
     "metadata": {},
     "output_type": "display_data"
    },
    {
     "data": {
      "text/plain": [
       "0.0"
      ]
     },
     "metadata": {},
     "output_type": "display_data"
    },
    {
     "data": {
      "text/plain": [
       "0.0"
      ]
     },
     "metadata": {},
     "output_type": "display_data"
    },
    {
     "data": {
      "text/plain": [
       "0.0"
      ]
     },
     "metadata": {},
     "output_type": "display_data"
    },
    {
     "data": {
      "text/plain": [
       "0.0"
      ]
     },
     "metadata": {},
     "output_type": "display_data"
    },
    {
     "data": {
      "text/plain": [
       "0.0"
      ]
     },
     "metadata": {},
     "output_type": "display_data"
    },
    {
     "data": {
      "text/plain": [
       "0.0"
      ]
     },
     "metadata": {},
     "output_type": "display_data"
    },
    {
     "data": {
      "text/plain": [
       "0.0"
      ]
     },
     "metadata": {},
     "output_type": "display_data"
    },
    {
     "data": {
      "text/plain": [
       "0.0"
      ]
     },
     "metadata": {},
     "output_type": "display_data"
    },
    {
     "data": {
      "text/plain": [
       "0.0"
      ]
     },
     "metadata": {},
     "output_type": "display_data"
    },
    {
     "data": {
      "text/plain": [
       "0.0"
      ]
     },
     "metadata": {},
     "output_type": "display_data"
    },
    {
     "data": {
      "text/plain": [
       "0.0"
      ]
     },
     "metadata": {},
     "output_type": "display_data"
    },
    {
     "data": {
      "text/plain": [
       "0.0"
      ]
     },
     "metadata": {},
     "output_type": "display_data"
    },
    {
     "data": {
      "text/plain": [
       "0.0"
      ]
     },
     "metadata": {},
     "output_type": "display_data"
    },
    {
     "data": {
      "text/plain": [
       "0.0"
      ]
     },
     "metadata": {},
     "output_type": "display_data"
    },
    {
     "data": {
      "text/plain": [
       "0.0"
      ]
     },
     "metadata": {},
     "output_type": "display_data"
    },
    {
     "data": {
      "text/plain": [
       "0.0"
      ]
     },
     "metadata": {},
     "output_type": "display_data"
    },
    {
     "data": {
      "text/plain": [
       "0.0"
      ]
     },
     "metadata": {},
     "output_type": "display_data"
    },
    {
     "data": {
      "text/plain": [
       "0.0"
      ]
     },
     "metadata": {},
     "output_type": "display_data"
    },
    {
     "data": {
      "text/plain": [
       "0.0"
      ]
     },
     "metadata": {},
     "output_type": "display_data"
    },
    {
     "data": {
      "text/plain": [
       "0.0"
      ]
     },
     "metadata": {},
     "output_type": "display_data"
    },
    {
     "data": {
      "text/plain": [
       "0.0"
      ]
     },
     "metadata": {},
     "output_type": "display_data"
    },
    {
     "data": {
      "text/plain": [
       "0.0"
      ]
     },
     "metadata": {},
     "output_type": "display_data"
    },
    {
     "data": {
      "text/plain": [
       "0.0"
      ]
     },
     "metadata": {},
     "output_type": "display_data"
    },
    {
     "data": {
      "text/plain": [
       "0.0"
      ]
     },
     "metadata": {},
     "output_type": "display_data"
    },
    {
     "data": {
      "text/plain": [
       "0.0"
      ]
     },
     "metadata": {},
     "output_type": "display_data"
    },
    {
     "data": {
      "text/plain": [
       "0.0"
      ]
     },
     "metadata": {},
     "output_type": "display_data"
    },
    {
     "data": {
      "text/plain": [
       "0.0"
      ]
     },
     "metadata": {},
     "output_type": "display_data"
    },
    {
     "data": {
      "text/plain": [
       "0.0"
      ]
     },
     "metadata": {},
     "output_type": "display_data"
    },
    {
     "data": {
      "text/plain": [
       "0.0"
      ]
     },
     "metadata": {},
     "output_type": "display_data"
    },
    {
     "data": {
      "text/plain": [
       "0.0"
      ]
     },
     "metadata": {},
     "output_type": "display_data"
    },
    {
     "data": {
      "text/plain": [
       "0.0"
      ]
     },
     "metadata": {},
     "output_type": "display_data"
    },
    {
     "data": {
      "text/plain": [
       "0.0"
      ]
     },
     "metadata": {},
     "output_type": "display_data"
    },
    {
     "data": {
      "text/plain": [
       "0.0"
      ]
     },
     "metadata": {},
     "output_type": "display_data"
    },
    {
     "data": {
      "text/plain": [
       "0.0"
      ]
     },
     "metadata": {},
     "output_type": "display_data"
    },
    {
     "data": {
      "text/plain": [
       "0.0"
      ]
     },
     "metadata": {},
     "output_type": "display_data"
    },
    {
     "data": {
      "text/plain": [
       "0.0"
      ]
     },
     "metadata": {},
     "output_type": "display_data"
    },
    {
     "data": {
      "text/plain": [
       "0.0"
      ]
     },
     "metadata": {},
     "output_type": "display_data"
    },
    {
     "data": {
      "text/plain": [
       "0.0"
      ]
     },
     "metadata": {},
     "output_type": "display_data"
    },
    {
     "data": {
      "text/plain": [
       "0.0"
      ]
     },
     "metadata": {},
     "output_type": "display_data"
    },
    {
     "data": {
      "text/plain": [
       "0.0"
      ]
     },
     "metadata": {},
     "output_type": "display_data"
    },
    {
     "data": {
      "text/plain": [
       "0.0"
      ]
     },
     "metadata": {},
     "output_type": "display_data"
    },
    {
     "data": {
      "text/plain": [
       "0.0"
      ]
     },
     "metadata": {},
     "output_type": "display_data"
    },
    {
     "data": {
      "text/plain": [
       "0.0"
      ]
     },
     "metadata": {},
     "output_type": "display_data"
    },
    {
     "data": {
      "text/plain": [
       "0.0"
      ]
     },
     "metadata": {},
     "output_type": "display_data"
    },
    {
     "data": {
      "text/plain": [
       "0.0"
      ]
     },
     "metadata": {},
     "output_type": "display_data"
    },
    {
     "data": {
      "text/plain": [
       "0.0"
      ]
     },
     "metadata": {},
     "output_type": "display_data"
    },
    {
     "data": {
      "text/plain": [
       "0.0"
      ]
     },
     "metadata": {},
     "output_type": "display_data"
    },
    {
     "data": {
      "text/plain": [
       "0.0"
      ]
     },
     "metadata": {},
     "output_type": "display_data"
    },
    {
     "data": {
      "text/plain": [
       "0.0"
      ]
     },
     "metadata": {},
     "output_type": "display_data"
    },
    {
     "data": {
      "text/plain": [
       "0.0"
      ]
     },
     "metadata": {},
     "output_type": "display_data"
    },
    {
     "data": {
      "text/plain": [
       "0.0"
      ]
     },
     "metadata": {},
     "output_type": "display_data"
    },
    {
     "data": {
      "text/plain": [
       "0.0"
      ]
     },
     "metadata": {},
     "output_type": "display_data"
    },
    {
     "data": {
      "text/plain": [
       "0.0"
      ]
     },
     "metadata": {},
     "output_type": "display_data"
    },
    {
     "data": {
      "text/plain": [
       "0.0"
      ]
     },
     "metadata": {},
     "output_type": "display_data"
    },
    {
     "data": {
      "text/plain": [
       "0.0"
      ]
     },
     "metadata": {},
     "output_type": "display_data"
    },
    {
     "data": {
      "text/plain": [
       "0.0"
      ]
     },
     "metadata": {},
     "output_type": "display_data"
    },
    {
     "data": {
      "text/plain": [
       "0.0"
      ]
     },
     "metadata": {},
     "output_type": "display_data"
    },
    {
     "data": {
      "text/plain": [
       "0.0"
      ]
     },
     "metadata": {},
     "output_type": "display_data"
    },
    {
     "data": {
      "text/plain": [
       "0.0"
      ]
     },
     "metadata": {},
     "output_type": "display_data"
    },
    {
     "data": {
      "text/plain": [
       "0.0"
      ]
     },
     "metadata": {},
     "output_type": "display_data"
    },
    {
     "data": {
      "text/plain": [
       "0.0"
      ]
     },
     "metadata": {},
     "output_type": "display_data"
    },
    {
     "data": {
      "text/plain": [
       "0.0"
      ]
     },
     "metadata": {},
     "output_type": "display_data"
    },
    {
     "data": {
      "text/plain": [
       "0.0"
      ]
     },
     "metadata": {},
     "output_type": "display_data"
    }
   ],
   "source": [
    "convio = 0.0\n",
    "for k = 1:N-1\n",
    "    # update dual\n",
    "    Uc = cone_u(params, U[k])\n",
    "    huc = norm(Uc[1:2]) - Uc[3]\n",
    "    convio = norm(huc + abs.(huc),Inf)\n",
    "    display(convio)\n",
    "end"
   ]
  }
 ],
 "metadata": {
  "kernelspec": {
   "display_name": "Julia 1.6.7",
   "language": "julia",
   "name": "julia-1.6"
  },
  "language_info": {
   "file_extension": ".jl",
   "mimetype": "application/julia",
   "name": "julia",
   "version": "1.6.7"
  }
 },
 "nbformat": 4,
 "nbformat_minor": 5
}
