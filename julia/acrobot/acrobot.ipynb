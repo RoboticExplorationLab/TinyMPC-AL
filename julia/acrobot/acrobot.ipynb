{
 "cells": [
  {
   "cell_type": "code",
   "execution_count": 1,
   "id": "e09838ee-cf73-4103-93d8-e213ee0b28f7",
   "metadata": {},
   "outputs": [
    {
     "name": "stderr",
     "output_type": "stream",
     "text": [
      "\u001b[32m\u001b[1m  Activating\u001b[22m\u001b[39m environment at `~/SSD/Code/TinyMPC/julia/acrobot/Project.toml`\n"
     ]
    }
   ],
   "source": [
    "import Pkg; Pkg.activate(@__DIR__); Pkg.instantiate()"
   ]
  },
  {
   "cell_type": "code",
   "execution_count": 5,
   "id": "ff7776db-3f6d-4fbe-b949-550c16104865",
   "metadata": {},
   "outputs": [],
   "source": [
    "using Symbolics\n",
    "using LinearAlgebra\n",
    "import ForwardDiff as FD"
   ]
  },
  {
   "cell_type": "code",
   "execution_count": 8,
   "id": "c79e5ce2-109f-4f1d-8314-612f184a0e1e",
   "metadata": {},
   "outputs": [
    {
     "data": {
      "text/latex": [
       "$$ \\begin{equation}\n",
       "\\left[\n",
       "\\begin{array}{cc}\n",
       "1 & 0 \\\\\n",
       "0 & 1 \\\\\n",
       "-1 & 0 \\\\\n",
       "0 & -1 \\\\\n",
       "\\end{array}\n",
       "\\right]\n",
       "\\end{equation}\n",
       " $$"
      ],
      "text/plain": [
       "4×2 Matrix{Num}:\n",
       "  1   0\n",
       "  0   1\n",
       " -1   0\n",
       "  0  -1"
      ]
     },
     "execution_count": 8,
     "metadata": {},
     "output_type": "execute_result"
    }
   ],
   "source": [
    "@variables u[1:2]\n",
    "u = collect(u)\n",
    "function ineq_con_u(u)\n",
    "    [u;-u]\n",
    "end\n",
    "sym_jac_A = Symbolics.jacobian(ineq_con_u(u), u)"
   ]
  },
  {
   "cell_type": "code",
   "execution_count": 9,
   "id": "1f975bd8-b5c9-456e-864e-b208e4719039",
   "metadata": {},
   "outputs": [
    {
     "data": {
      "text/latex": [
       "$$ \\begin{equation}\n",
       "\\left[\n",
       "\\begin{array}{ccc}\n",
       "1 & 0 & 0 \\\\\n",
       "0 & 1 & 0 \\\\\n",
       "0 & 0 & 1 \\\\\n",
       "-1 & 0 & 0 \\\\\n",
       "0 & -1 & 0 \\\\\n",
       "0 & 0 & -1 \\\\\n",
       "\\end{array}\n",
       "\\right]\n",
       "\\end{equation}\n",
       " $$"
      ],
      "text/plain": [
       "6×3 Matrix{Num}:\n",
       "  1   0   0\n",
       "  0   1   0\n",
       "  0   0   1\n",
       " -1   0   0\n",
       "  0  -1   0\n",
       "  0   0  -1"
      ]
     },
     "execution_count": 9,
     "metadata": {},
     "output_type": "execute_result"
    }
   ],
   "source": [
    "@variables u[1:3]\n",
    "u = collect(u)\n",
    "function ineq_con_u(u)\n",
    "    [u;-u]\n",
    "end\n",
    "sym_jac_A = Symbolics.jacobian(ineq_con_u(u), u)"
   ]
  },
  {
   "cell_type": "code",
   "execution_count": 17,
   "id": "b1d5a143-a916-44a7-b681-43022de56295",
   "metadata": {},
   "outputs": [
    {
     "ename": "LoadError",
     "evalue": "MethodError: no method matching vec(::Num)\n\nSome of the types have been truncated in the stacktrace for improved reading. To emit complete information\nin the stack trace, evaluate `TruncatedStacktraces.VERBOSE[] = true` and re-run the code.\n\n\u001b[0mClosest candidates are:\n\u001b[0m  vec(\u001b[91m::Distributions.Distribution{var\"#s519\", S} where {var\"#s519\"<:Distributions.ArrayLikeVariate, S<:Distributions.ValueSupport}\u001b[39m) at /home/khai/.julia/packages/Distributions/WdWXr/src/reshaped.jl:143\n\u001b[0m  vec(\u001b[91m::StaticArraysCore.SizedArray{S, T, N, M, TData} where {T, N, M, TData<:AbstractArray{T, M}}\u001b[39m) where S at /home/khai/.julia/packages/StaticArrays/pTgFe/src/SizedArray.jl:168\n\u001b[0m  vec(\u001b[91m::Transpose{T, var\"#s814\"} where {T, var\"#s814\"<:(AbstractVector{T} where T)}\u001b[39m) at /buildworker/worker/package_linux64/build/usr/share/julia/stdlib/v1.6/LinearAlgebra/src/adjtrans.jl:239\n\u001b[0m  ...",
     "output_type": "error",
     "traceback": [
      "MethodError: no method matching vec(::Num)\n\nSome of the types have been truncated in the stacktrace for improved reading. To emit complete information\nin the stack trace, evaluate `TruncatedStacktraces.VERBOSE[] = true` and re-run the code.\n\n\u001b[0mClosest candidates are:\n\u001b[0m  vec(\u001b[91m::Distributions.Distribution{var\"#s519\", S} where {var\"#s519\"<:Distributions.ArrayLikeVariate, S<:Distributions.ValueSupport}\u001b[39m) at /home/khai/.julia/packages/Distributions/WdWXr/src/reshaped.jl:143\n\u001b[0m  vec(\u001b[91m::StaticArraysCore.SizedArray{S, T, N, M, TData} where {T, N, M, TData<:AbstractArray{T, M}}\u001b[39m) where S at /home/khai/.julia/packages/StaticArrays/pTgFe/src/SizedArray.jl:168\n\u001b[0m  vec(\u001b[91m::Transpose{T, var\"#s814\"} where {T, var\"#s814\"<:(AbstractVector{T} where T)}\u001b[39m) at /buildworker/worker/package_linux64/build/usr/share/julia/stdlib/v1.6/LinearAlgebra/src/adjtrans.jl:239\n\u001b[0m  ...",
      "",
      "Stacktrace:",
      " [1] jacobian(ops::Vector{Num}, vars::Num; simplify::Bool)",
      "   @ Symbolics ~/.julia/packages/Symbolics/VIBnK/src/diff.jl:449",
      " [2] jacobian(ops::Vector{Num}, vars::Num)",
      "   @ Symbolics ~/.julia/packages/Symbolics/VIBnK/src/diff.jl:448",
      " [3] top-level scope",
      "   @ In[17]:61",
      " [4] eval",
      "   @ ./boot.jl:360 [inlined]",
      " [5] include_string(mapexpr::typeof(REPL.softscope), mod::Module, code::String, filename::String)",
      "   @ Base ./loading.jl:1116"
     ]
    }
   ],
   "source": [
    "# ====================\n",
    "# Explicit model params (working)\n",
    "# ====================\n",
    "@variables x[1:4] u\n",
    "x = collect(x);\n",
    "x0 = [1; 2; 3; 4]; u0 = 7\n",
    "# Second-order Bicycle Dynamics\n",
    "function dynamics(x, u)\n",
    "    g = 9.81\n",
    "    m1,m2 = [1; 1]\n",
    "    l1,l2 = [1; 1]\n",
    "    J1,J2 = [1; 1]\n",
    "    θ1,    θ2    = x[1], x[2]\n",
    "    θ1dot, θ2dot = x[3], x[4]\n",
    "    s1,c1 = sincos(θ1)\n",
    "    s2,c2 = sincos(θ2)\n",
    "    c12 = cos(θ1 + θ2)\n",
    "\n",
    "    # mass matrix\n",
    "    m11 = m1*l1^2 + J1 + m2*(l1^2 + l2^2 + 2*l1*l2*c2) + J2\n",
    "    m12 = m2*(l2^2 + l1*l2*c2 + J2)\n",
    "    m22 = l2^2*m2 + J2\n",
    "    M = [m11 m12; m12 m22]\n",
    "\n",
    "    # bias term\n",
    "    tmp = l1*l2*m2*s2\n",
    "    b1 = -(2 * θ1dot * θ2dot + θ2dot^2)*tmp\n",
    "    b2 = tmp * θ1dot^2\n",
    "    B = [b1, b2]\n",
    "\n",
    "    # friction\n",
    "    c = 1.0\n",
    "    C = [c*θ1dot, c*θ2dot]\n",
    "\n",
    "    # gravity term\n",
    "    g1 = ((m1 + m2)*l2*c1 + m2*l2*c12) * g\n",
    "    g2 = m2*l2*c12*g\n",
    "    G = [g1, g2]\n",
    "\n",
    "    # equations of motion\n",
    "    τ = [0, u]\n",
    "    θddot = M\\(τ - B - G - C)\n",
    "    return [θ1dot, θ2dot, θddot[1], θddot[2]]\n",
    "end\n",
    "function rk4(x, u)\n",
    "    dt = 0.05\n",
    "    k1 = dt*dynamics(x, u)\n",
    "    k2 = dt*dynamics(x + k1/2, u)\n",
    "    k3 = dt*dynamics(x + k2/2, u)\n",
    "    k4 = dt*dynamics(x + k3, u)\n",
    "    x + (1/6)*(k1 + 2*k2 + 2*k3 + k4)\n",
    "end\n",
    "function midpoint(x, u)\n",
    "    dt = 0.05\n",
    "    k1 = dt*dynamics(x, u)\n",
    "    k2 = dt*dynamics(x + k1/2, u)\n",
    "    x += k2\n",
    "end\n",
    "\n",
    "sym_jac_A = Symbolics.jacobian(rk4(x, u), x);\n",
    "sym_jac_B = Symbolics.jacobian(rk4(x, u), u);\n",
    "# # Sub value to validate with ForwardDiff\n",
    "# sub_dict = Dict()\n",
    "# [sub_dict[x] = y for (x,y) in zip([x; u], [x0; u0])]\n",
    "# val_jac_A = substitute.(sym_jac_A, (sub_dict,))\n",
    "# val_jac_B = substitute.(sym_jac_B, (sub_dict,))\n",
    "# fd_jac_A = FD.jacobian(_x->rk4(_x, u0), x0)\n",
    "# fd_jac_B = FD.jacobian(_u->rk4(x0, _u), u0)\n",
    "# display(norm(fd_jac_A - val_jac_A) + norm(fd_jac_B - val_jac_B))\n",
    "# display(val_jac_A)\n",
    "# display(val_jac_B)"
   ]
  }
 ],
 "metadata": {
  "kernelspec": {
   "display_name": "Julia 1.6.7",
   "language": "julia",
   "name": "julia-1.6"
  },
  "language_info": {
   "file_extension": ".jl",
   "mimetype": "application/julia",
   "name": "julia",
   "version": "1.6.7"
  }
 },
 "nbformat": 4,
 "nbformat_minor": 5
}
