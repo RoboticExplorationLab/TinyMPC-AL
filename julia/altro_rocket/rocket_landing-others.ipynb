{
 "cells": [
  {
   "cell_type": "code",
   "execution_count": 3,
   "id": "6099cb4b-a2da-4b1b-ba0f-856484092fc4",
   "metadata": {},
   "outputs": [
    {
     "name": "stderr",
     "output_type": "stream",
     "text": [
      "\u001b[32m\u001b[1m  Activating\u001b[22m\u001b[39m environment at `~/SSD/Code/TinyMPC/julia/altro_rocket/Project.toml`\n"
     ]
    },
    {
     "ename": "LoadError",
     "evalue": "ArgumentError: Package JuMP not found in current path:\n- Run `import Pkg; Pkg.add(\"JuMP\")` to install the JuMP package.\n",
     "output_type": "error",
     "traceback": [
      "ArgumentError: Package JuMP not found in current path:\n- Run `import Pkg; Pkg.add(\"JuMP\")` to install the JuMP package.\n",
      "",
      "Stacktrace:",
      " [1] require(into::Module, mod::Symbol)",
      "   @ Base ./loading.jl:893",
      " [2] eval",
      "   @ ./boot.jl:360 [inlined]",
      " [3] include_string(mapexpr::typeof(REPL.softscope), mod::Module, code::String, filename::String)",
      "   @ Base ./loading.jl:1116"
     ]
    }
   ],
   "source": [
    "using Pkg\n",
    "Pkg.activate(@__DIR__)\n",
    "Pkg.instantiate()\n",
    "\n",
    "using LinearAlgebra\n",
    "using Printf\n",
    "using ForwardDiff\n",
    "using JuMP\n",
    "using COSMO\n",
    "using ECOS\n",
    "using Random; "
   ]
  },
  {
   "cell_type": "code",
   "execution_count": null,
   "id": "6179ca57-b5ff-4274-8391-85d5e728fc16",
   "metadata": {
    "tags": []
   },
   "outputs": [
    {
     "data": {
      "text/plain": [
       "mpc (generic function with 1 method)"
      ]
     },
     "execution_count": 231,
     "metadata": {},
     "output_type": "execute_result"
    }
   ],
   "source": [
    "# -------------------THIS IS ALL ALTRO-------------------------------\n",
    "# This enables goal equality constraints, state and input ineq constraints.\n",
    "\n",
    "function stage_cost(p::NamedTuple,x,u,k)\n",
    "    dx = x - p.Xref[k]\n",
    "    du = u - p.Uref[k]\n",
    "    return 0.5*dx'*p.Q*dx + 0.5*du'*p.R*du\n",
    "end\n",
    "function term_cost(p::NamedTuple,x)\n",
    "    dx = x - p.Xref[p.N]\n",
    "    return 0.5*dx'*p.Qf*dx\n",
    "end\n",
    "function stage_cost_expansion(p::NamedTuple,k)\n",
    "    dx = - p.Xref[k]\n",
    "    du = - p.Uref[k]\n",
    "    return p.Q, p.Q*dx, p.R, p.R*du  # Hessian and gradient\n",
    "end\n",
    "function term_cost_expansion(p::NamedTuple)\n",
    "    dx = - p.Xref[p.N]\n",
    "    return p.Qf, p.Qf*dx\n",
    "end\n",
    "function conic_cost_expansion(p::NamedTuple, u, λc, ρ, k)\n",
    "    λhat = λc # already updated\n",
    "    ∇c = cone_u_jac(p, u)\n",
    "    G = -∇c'*∇projection(λhat)*projection(λhat)\n",
    "    # H = ∇c'*∇projection(λhat)'*∇projection(λhat)*∇c/ρ\n",
    "    H = ∇c'*(∇projection(λhat)'*∇projection(λhat) + ∇²projection(λhat, projection(λhat)))*∇c*ρ\n",
    "    return (G - H*u), H\n",
    "end\n",
    "function backward_pass!(params,X,U,P,p,d,K,reg,μ,μx,ρ,λ,λc)\n",
    "    \"\"\"iLQR backward pass with AL. This !function update its parameters\n",
    "    \"\"\"\n",
    "    N = params.N\n",
    "    ΔJ = 0.0    # expected cost reduction\n",
    "\n",
    "    # terminal cost expansion\n",
    "    P[N], p[N] = term_cost_expansion(params) \n",
    "    \n",
    "    if (params.ncx > 0)\n",
    "        # # add AL terms for the state constraint at the final time step\n",
    "        hxv = ineq_con_x(params,X[N])  # h(x) violation  \n",
    "        mask = eval_mask(μx[N],hxv)\n",
    "        ∇hx = ineq_con_x_jac(params,X[N])\n",
    "        # add these into the cost-to-go p and P\n",
    "        p[N]  += ∇hx'*(μx[N] - ρ*(mask * [params.x_max;-params.x_min]))  # multiplier term (1st)\n",
    "        P[N]  += ρ*∇hx'*mask*∇hx                # penalty term (2nd)\n",
    "        ΔJ += \n",
    "    end\n",
    "    \n",
    "    if (params.ncg > 0)\n",
    "        # add AL terms for goal constraint \n",
    "        ∇hx = diagm(ones(params.nx))\n",
    "        # add these into the CTG p and P (equality active)\n",
    "        p[N]  += ∇hx'*(λ - 0*ρ*params.Xref[N])   \n",
    "        P[N]  += ρ*∇hx'∇hx\n",
    "    end\n",
    "    \n",
    "    # iterate from N-1 to 1 backwards\n",
    "    for k = (N-1):(-1):1\n",
    "        # dynamics jacobians (linearization about previous iterate)\n",
    "        A = ForwardDiff.jacobian(_x -> discrete_dynamics(params,_x,U[k],k),X[k])\n",
    "        B = ForwardDiff.jacobian(_u -> discrete_dynamics(params,X[k],_u,k),U[k])\n",
    "\n",
    "        Sxx,Sx,Suu,Su = stage_cost_expansion(params,k)\n",
    "        \n",
    "        # one-step cost expansion: Q, Q*dx, R, R*du\n",
    "        Sx += A' * (P[k+1]*f + p[k+1]) \n",
    "        Su += B' * (P[k+1]*f + p[k+1]) \n",
    "        Sxx += A'*(P[k+1])*A\n",
    "        Suu += B'*(P[k+1] + reg*I)*B                                     \n",
    "        Sux = B'*(P[k+1])*A  \n",
    "        if (params.ncu > 0)\n",
    "            # control constraints\n",
    "            huv = ineq_con_u(params,U[k])  # calculate h(u) constraint\n",
    "            mask = eval_mask(μ[k],huv)  # choose active\n",
    "            ∇hu = ineq_con_u_jac(params,U[k])\n",
    "            μ[k] .= μ[k] - ρ*(mask * [params.u_max;-params.u_min])\n",
    "            Su  += ∇hu'*μ[k] # add to cost\n",
    "            Suu += ρ*∇hu'*mask*∇hu\n",
    "        end\n",
    "        if (params.ncx > 0)\n",
    "            # state constraints\n",
    "            hxv = ineq_con_x(params,X[k])\n",
    "            mask = eval_mask(μx[k],hxv)\n",
    "            ∇hx = ineq_con_x_jac(params,X[k])\n",
    "            μx[k] .= μx[k] - 0*ρ*(mask * [params.x_max;-params.x_min])\n",
    "            Sx  += ∇hx'*μx[k]\n",
    "            Sxx += ρ*∇hx'*mask*∇hx\n",
    "        end\n",
    "        if (params.ncu_cone > 0)\n",
    "            # conic constraints\n",
    "            Qu, Quu = conic_cost_expansion(params, U[k], λc[k], ρ*cone_scale, k)\n",
    "            # display(Quu)\n",
    "            Su += Qu\n",
    "            Suu += Quu\n",
    "        end\n",
    "        \n",
    "        # Calculate Gains\n",
    "        # for i = 1:10\n",
    "        #     if isposdef(Suu) == 0\n",
    "        #         Suu += reg*I\n",
    "        #     end\n",
    "        # end\n",
    "        F = cholesky(Symmetric(Suu))\n",
    "        d[k] = Suu\\Su\n",
    "        K[k] = Suu\\Sux\n",
    "\n",
    "        # Cost-to-go Recurrence (PSD stabilizing version, last term)\n",
    "        P[k] = Sxx + K[k]'*Suu*K[k] - 2*K[k]'*Sux\n",
    "        p[k] = Sx + K[k]'*Suu*d[k] - K[k]'*Su - Sux'*d[k]\n",
    "        ΔJ += Su'*d[k]\n",
    "    end\n",
    "\n",
    "    return ΔJ  # but also change params\n",
    "end\n",
    "function forward_pass!(params,X,U,K,d,ΔJ,Xn,Un,μ,μx,ρ,λ; \n",
    "                        max_linesearch_iters = 20)\n",
    "    \"\"\"iLQR forward pass and line-search\n",
    "    This !function update its parameters\n",
    "    \"\"\"\n",
    "    N = params.N\n",
    "        # Forward Rollout\n",
    "        for k = 1:(N-1)\n",
    "            Un[k] = - d[k] - K[k]*Xn[k] \n",
    "            Xn[k+1] = discrete_dynamics(params,Xn[k],Un[k],k)\n",
    "        end\n",
    "    X .= Xn\n",
    "    U .= Un\n",
    "    return 0, 0\n",
    "end\n",
    "function eval_mask(μv,huv)  \n",
    "    # Extract active inequality constraints\n",
    "    # active set mask\n",
    "    mask = Diagonal(zeros(length(huv)))\n",
    "    for i = 1:length(huv)\n",
    "        mask[i,i] = (μv[i] > 0 || huv[i] > 0)\n",
    "    end\n",
    "    mask\n",
    "end\n",
    "function mpc(params,X,U,P,p,K,d,Xn,Un;atol=1e-3,max_iters = 250,verbose = true,ρ=1,ρmax=1e8,ϕ=10)\n",
    "\n",
    "    # first check the sizes of everything\n",
    "    # @assert length(X) == params.N\n",
    "    # @assert length(U) == params.N-1\n",
    "    # @assert length(X[1]) == params.nx\n",
    "    # @assert length(U[1]) == params.nu\n",
    "\n",
    "    # initial rollout\n",
    "    N = params.N\n",
    "    for i = 1:N-1\n",
    "        X[i+1] = discrete_dynamics(params,X[i],U[i],i)\n",
    "    end\n",
    "\n",
    "    reg_min = 0*1e-8\n",
    "    reg = reg_min\n",
    "\n",
    "    μ = params.μ   # input constraints\n",
    "    μx = params.μx    # state constraints\n",
    "    λ = params.λ    # goal constraint\n",
    "    λc = params.λc   # goal constraint\n",
    "    \n",
    "    # Inner loop to solve unconstrained problem (Riccati)\n",
    "    for iter = 1:max_iters        \n",
    "        J = 0.0\n",
    "        ΔJ = 0.0\n",
    "        α = 1.0\n",
    "        for i = 1:1\n",
    "            ΔJ = backward_pass!(params,X,U,P,p,d,K,reg,μ,μx,ρ,λ,λc)\n",
    "            J, α = forward_pass!(params,X,U,K,d,ΔJ,Xn,Un,μ,μx,ρ,λ)\n",
    "        end\n",
    "\n",
    "        if verbose\n",
    "            if rem(iter-1,10)==0\n",
    "                @printf \"iter     J           ΔJ        |d|         α        reg         ρ\\n\"\n",
    "                @printf \"---------------------------------------------------------------------\\n\"\n",
    "            end\n",
    "            @printf(\"%3d   %10.3e  %9.2e  %9.2e  %6.4f   %9.2e   %9.2e\\n\",\n",
    "              iter, J, ΔJ, 0, α, reg, ρ)\n",
    "        end\n",
    "        # update multipliers and check constraint violation, max of all\n",
    "        convio = 0.0  \n",
    "        \n",
    "        if (params.ncu > 0)\n",
    "            # control constraints (inequality)\n",
    "            for k = 1:N-1\n",
    "                huv = ineq_con_u(params,U[k])\n",
    "                mask = eval_mask(μ[k],huv)\n",
    "                # update dual?\n",
    "                convio = max(convio,norm(huv + abs.(huv),Inf))\n",
    "                # μ[k] .= max.(0,μ[k] - ρ*(mask * [params.u_max;-params.u_min]))\n",
    "            end\n",
    "        end\n",
    "        if (params.ncx > 0)\n",
    "            # state constraints (inequality)\n",
    "            for k = 1:N\n",
    "                hxv = ineq_con_x(params,X[k])\n",
    "                mask = eval_mask(μx[k],hxv)\n",
    "                # update dual\n",
    "                convio = max(convio,norm(hxv + abs.(hxv),Inf))\n",
    "                # @show μx[k] .= max.(0,μx[k] - ρ*(mask * [params.x_max;-params.x_min]))                \n",
    "            end\n",
    "        end\n",
    "        if (params.ncu_cone > 0)\n",
    "            # conic constraints \n",
    "            if verbose\n",
    "                print(\"update cone\\n\")\n",
    "            end            \n",
    "            for k = 1:N-1\n",
    "                # update dual\n",
    "                Uc = cone_u(params, U[k])\n",
    "                huc = norm(Uc[1:2]) - Uc[3]\n",
    "                convio = max(convio, norm(huc + abs.(huc),Inf))\n",
    "                λc[k] = projection(λc[k] - Uc*cone_scale*ρ)\n",
    "                # display(λc[k])\n",
    "            end\n",
    "        end\n",
    "        if (params.ncg > 0)\n",
    "            # goal constraint (equality)\n",
    "            hxv = X[N] - params.Xref[N]\n",
    "            # λ .-= ρ*params.Xref[N]\n",
    "            convio = max(convio, norm(hxv,Inf))\n",
    "        end\n",
    "        \n",
    "        ρ *= ϕ  # update penalty\n",
    "        \n",
    "        if verbose\n",
    "            @show convio\n",
    "        end\n",
    "        if convio < atol  # if terminal condition with contraint violation\n",
    "            # print(\"Our solver says SUCCESS\\n\") # @info \"success!\"\n",
    "            return U[1]\n",
    "        end\n",
    "        if ρ > ρmax\n",
    "            print(\"Our solver reachs MAX PENALTY\\n\")\n",
    "            return U[1]\n",
    "        end\n",
    "    end\n",
    "    print(\"Our solver says INFEASIBLE and MAX ITER\\n\")\n",
    "    return U[1]\n",
    "end\n",
    "#----------------------ALTRO DONE --------------------------"
   ]
  },
  {
   "cell_type": "code",
   "execution_count": null,
   "id": "ff9a97a1-b963-4f01-9223-eee0c5682b7d",
   "metadata": {
    "tags": []
   },
   "outputs": [
    {
     "data": {
      "text/plain": [
       "∇²projection (generic function with 1 method)"
      ]
     },
     "execution_count": 180,
     "metadata": {},
     "output_type": "execute_result"
    }
   ],
   "source": [
    "# =============================\n",
    "# Example problem formulation and solve\n",
    "# =============================\n",
    "\n",
    "# ---------------------THIS IS WHAT YOU NEED TO INPUT--------\n",
    "A = [1.0 0.0 0.0 0.05 0.0 0.0; \n",
    "    0.0 1.0 0.0 0.0 0.05 0.0; \n",
    "    0.0 0.0 1.0 0.0 0.0 0.05; \n",
    "    0.0 0.0 0.0 1.0 0.0 0.0; \n",
    "    0.0 0.0 0.0 0.0 1.0 0.0; \n",
    "    0.0 0.0 0.0 0.0 0.0 1.0]\n",
    "B = [0.000125 0.0 0.0; \n",
    "    0.0 0.000125 0.0;\n",
    "    0.0 0.0 0.000125; \n",
    "    0.005 0.0 0.0; \n",
    "    0.0 0.005 0.0; \n",
    "    0.0 0.0 0.005]\n",
    "f = [0.0, 0.0, -0.0122625, 0.0, 0.0, -0.4905]\n",
    "function discrete_dynamics(p::NamedTuple,x,u,k)\n",
    "    A = [1.0 0.0 0.0 0.05 0.0 0.0; \n",
    "        0.0 1.0 0.0 0.0 0.05 0.0; \n",
    "        0.0 0.0 1.0 0.0 0.0 0.05; \n",
    "        0.0 0.0 0.0 1.0 0.0 0.0; \n",
    "        0.0 0.0 0.0 0.0 1.0 0.0; \n",
    "        0.0 0.0 0.0 0.0 0.0 1.0]\n",
    "    B = [0.000125 0.0 0.0; \n",
    "        0.0 0.000125 0.0;\n",
    "        0.0 0.0 0.000125; \n",
    "        0.005 0.0 0.0; \n",
    "        0.0 0.005 0.0; \n",
    "        0.0 0.0 0.005]\n",
    "    f = [0.0, 0.0, -0.0122625, 0.0, 0.0, -0.4905]\n",
    "    return A*x + B*u + f\n",
    "end\n",
    "function ineq_con_x(p,x)\n",
    "    [x-p.x_max;-x + p.x_min]\n",
    "end\n",
    "function ineq_con_u(p,u)\n",
    "    [u-p.u_max;-u + p.u_min]\n",
    "end\n",
    "function cone_u(p, u)\n",
    "    [p.A_cone*u;p.c_cone'*u]\n",
    "end\n",
    "function cone_u_jac(p, u)\n",
    "    J = zeros(p.nu, p.nu)\n",
    "    J[1:end-1,1:end] .= p.A_cone\n",
    "    J[end,1:end] .= p.c_cone\n",
    "    return J\n",
    "end\n",
    "function ineq_con_u_jac(params,u)\n",
    "    ForwardDiff.jacobian(_u -> ineq_con_u(params,_u), u)\n",
    "end\n",
    "function ineq_con_x_jac(p,x)\n",
    "    ForwardDiff.jacobian(_x -> ineq_con_x(p,_x),x)\n",
    "end\n",
    "function projection(x)\n",
    "    # assumes x is stacked [v; s] such that ||v||₂ ≤ s\n",
    "    n = length(x)\n",
    "    v = view(x, 1:n-1)\n",
    "    s = x[end]\n",
    "    a = norm(v)\n",
    "    if a <= -s          # below the cone\n",
    "        return zero(x) \n",
    "    elseif a <= s       # in the cone\n",
    "        return x\n",
    "    elseif a >= abs(s)  # outside the cone\n",
    "        return 0.5 * (1 + s/a) * [v; a]\n",
    "    else\n",
    "        throw(ErrorException(\"Invalid second-order cone projection\"))\n",
    "    end\n",
    "end\n",
    "function ∇projection(x)\n",
    "    n = length(x)\n",
    "    J = zeros(eltype(x),n,n)\n",
    "    s = x[end]\n",
    "    v = view(x,1:n-1)\n",
    "    a = norm(v)\n",
    "    if a <= -s\n",
    "        return J  # zeros\n",
    "    elseif a <= s\n",
    "        J .= I(n)  \n",
    "        return J  # identity\n",
    "    elseif a >= abs(s)\n",
    "        c = 0.5 * (1 + s/a)\n",
    "\n",
    "        # dvdv ok!\n",
    "        for i = 1:n-1, j = 1:n-1\n",
    "            J[i,j] = -0.5*s/a^3 * v[i] * v[j]\n",
    "            if i == j\n",
    "                J[i,j] += c\n",
    "            end\n",
    "        end\n",
    "\n",
    "        # dvds ok!\n",
    "        for i = 1:n-1\n",
    "            J[i,n] = 0.5 * v[i] / a\n",
    "        end\n",
    "\n",
    "        # dsdv ok!\n",
    "        for i = 1:n-1\n",
    "            J[n,i] = ((-0.5*s/a^2) + c/a) * v[i]\n",
    "        end\n",
    "        J[n,n] = 0.5  # ok\n",
    "        return J\n",
    "    else\n",
    "        error(\"Invalid second-order cone projection.\")\n",
    "    end\n",
    "    return J\n",
    "end\n",
    "function ∇projection(x) \n",
    "    n = length(x)\n",
    "    v = view(x, 1:n-1)\n",
    "    s = x[end]\n",
    "    a = norm(v)\n",
    "    J = zeros(n, n)\n",
    "    if a <= -s                               # below cone\n",
    "        J .*= 0\n",
    "    elseif a <= s                            # in cone\n",
    "        J .*= 0\n",
    "        for i = 1:n\n",
    "            J[i,i] = 1.0\n",
    "        end\n",
    "    elseif a >= abs(s)                       # outside cone\n",
    "        # scalar\n",
    "        c = 0.5 * (1 + s/a)   \n",
    "\n",
    "        # dvdv = dbdv * v' + c * oneunit(SMatrix{n-1,n-1,T})\n",
    "        for i = 1:n-1, j = 1:n-1\n",
    "            J[i,j] = -0.5*s/a^3 * v[i] * v[j]\n",
    "            if i == j\n",
    "                J[i,j] += c\n",
    "            end\n",
    "        end\n",
    "\n",
    "        # dvds\n",
    "        for i = 1:n-1\n",
    "            J[i,n] = 0.5 * v[i] / a\n",
    "        end\n",
    "\n",
    "        # ds\n",
    "        for i = 1:n-1\n",
    "            J[n,i] = ((-0.5*s/a^2) + c/a) * v[i]\n",
    "        end\n",
    "        J[n,n] = 0.5 \n",
    "    else\n",
    "        throw(ErrorException(\"Invalid second-order cone projection\"))\n",
    "    end\n",
    "    return J\n",
    "end\n",
    "function ∇²projection(x, b)\n",
    "    # x is lamda_bar, b is projection(lambda_bar)\n",
    "    n = length(x)\n",
    "    hess = zeros(eltype(x),n,n)\n",
    "    v = view(x, 1:n-1)\n",
    "    bv = view(b, 1:n-1)\n",
    "\n",
    "    # @assert size(hess) == (n+1,n+1)\n",
    "    s = x[end]\n",
    "    bs = b[end]\n",
    "    a =  norm(v)\n",
    "    vbv = dot(v,bv)\n",
    "\n",
    "    if a <= -s\n",
    "        return hess .= 0\n",
    "    elseif a <= s\n",
    "        return hess .= 0\n",
    "    elseif a > abs(s)\n",
    "        # Original equations from chain rule\n",
    "        # dvdv = -s/norm(v)^2/norm(v)*(I - (v*v')/(v'v))*bv*v' + \n",
    "        #     s/norm(v)*((v*(v'bv))/(v'v)^2 * 2v' - (I*(v'bv) + v*bv')/(v'v)) + \n",
    "        #     bs/norm(v)*(I - (v*v')/(v'v))\n",
    "        # dvds = 1/norm(v)*(I - (v*v')/(v'v))*bv;\n",
    "        # # display(dvds)\n",
    "        # # display(dvdv)\n",
    "        # hess[1:n-1,1:n-1] .= dvdv*0.5\n",
    "        # hess[1:n-1,n] .= dvds*0.5\n",
    "        # hess[n:n,1:n-1] .= 0.5*dvds'\n",
    "        # hess[n,n] = 0\n",
    "        # return hess\n",
    "\n",
    "        # The following is just an unrolled version of the above\n",
    "        n = n - 1\n",
    "        dvdv = view(hess, 1:n, 1:n)\n",
    "        dvds = view(hess, 1:n, n+1)\n",
    "        dsdv = view(hess, n+1, 1:n)\n",
    "        @inbounds for i = 1:n\n",
    "            hi = 0\n",
    "            @inbounds for j = 1:n\n",
    "                Hij = -v[i]*v[j] / a^2\n",
    "                if i == j\n",
    "                    Hij += 1\n",
    "                end\n",
    "                hi += Hij * bv[j]\n",
    "            end\n",
    "            dvds[i] = hi / 2a\n",
    "            dsdv[i] = dvds[i]\n",
    "            @inbounds for j = 1:i\n",
    "                vij = v[i] * v[j]\n",
    "                H1 = hi * v[j] * (-s/a^3)\n",
    "                H2 = vij * (2*vbv) / a^4 - v[i] * bv[j] / a^2\n",
    "                H3 = -vij / a^2\n",
    "                if i == j\n",
    "                    H2 -= vbv / a^2\n",
    "                    H3 += 1\n",
    "                end\n",
    "                H2 *= s/a\n",
    "                H3 *= bs/a\n",
    "                dvdv[i,j] = (H1 + H2 + H3) / 2\n",
    "                dvdv[j,i] = dvdv[i,j]\n",
    "            end\n",
    "        end\n",
    "        hess[end,end] = 0\n",
    "        return hess\n",
    "    else\n",
    "        throw(ErrorException(\"Invalid second-order cone projection\"))\n",
    "    end\n",
    "end"
   ]
  },
  {
   "cell_type": "code",
   "execution_count": null,
   "id": "f4edd7a6-7756-43ee-a37b-f91abdd18650",
   "metadata": {},
   "outputs": [
    {
     "name": "stdout",
     "output_type": "stream",
     "text": [
      "iter     J           ΔJ        |d|         α        reg         ρ\n",
      "---------------------------------------------------------------------\n",
      "  1    0.000e+00   3.04e+06   0.00e+00  0.0000    0.00e+00    1.00e+02\n",
      "convio = 5.49967797973767\n",
      "  2    0.000e+00   3.38e+06   0.00e+00  0.0000    0.00e+00    1.00e+03\n",
      "convio = 5.527682734136084\n",
      "  3    0.000e+00   3.30e+06   0.00e+00  0.0000    0.00e+00    1.00e+04\n",
      "convio = 1.5618078043024464\n",
      "  4    0.000e+00   3.30e+06   0.00e+00  0.0000    0.00e+00    1.00e+05\n",
      "convio = 1.2173168934150915\n",
      "  5    0.000e+00   3.58e+06   0.00e+00  0.0000    0.00e+00    1.00e+06\n",
      "convio = 0.019579635134449325\n",
      "  6    0.000e+00   5.87e+06   0.00e+00  0.0000    0.00e+00    1.00e+07\n",
      "convio = 1.2098559782363996\n",
      "  7    0.000e+00   2.79e+07   0.00e+00  0.0000    0.00e+00    1.00e+08\n",
      "convio = 0.0005714847241545945\n",
      "Our solver reachs MAX PENALTY\n"
     ]
    },
    {
     "data": {
      "image/svg+xml": "<?xml version=\"1.0\" encoding=\"utf-8\"?>\n<svg xmlns=\"http://www.w3.org/2000/svg\" xmlns:xlink=\"http://www.w3.org/1999/xlink\" width=\"600\" height=\"400\" viewBox=\"0 0 2400 1600\">\n<defs>\n  <clipPath id=\"clip330\">\n    <rect x=\"0\" y=\"0\" width=\"2400\" height=\"1600\"/>\n  </clipPath>\n</defs>\n<path clip-path=\"url(#clip330)\" d=\"M0 1600 L2400 1600 L2400 0 L0 0  Z\" fill=\"#ffffff\" fill-rule=\"evenodd\" fill-opacity=\"1\"/>\n<defs>\n  <clipPath id=\"clip331\">\n    <rect x=\"480\" y=\"0\" width=\"1681\" height=\"1600\"/>\n  </clipPath>\n</defs>\n<path clip-path=\"url(#clip330)\" d=\"M210.977 1423.18 L2352.76 1423.18 L2352.76 123.472 L210.977 123.472  Z\" fill=\"#ffffff\" fill-rule=\"evenodd\" fill-opacity=\"1\"/>\n<defs>\n  <clipPath id=\"clip332\">\n    <rect x=\"210\" y=\"123\" width=\"2143\" height=\"1301\"/>\n  </clipPath>\n</defs>\n<polyline clip-path=\"url(#clip332)\" style=\"stroke:#000000; stroke-linecap:round; stroke-linejoin:round; stroke-width:2; stroke-opacity:0.1; fill:none\" points=\"271.594,1423.18 271.594,123.472 \"/>\n<polyline clip-path=\"url(#clip332)\" style=\"stroke:#000000; stroke-linecap:round; stroke-linejoin:round; stroke-width:2; stroke-opacity:0.1; fill:none\" points=\"945.109,1423.18 945.109,123.472 \"/>\n<polyline clip-path=\"url(#clip332)\" style=\"stroke:#000000; stroke-linecap:round; stroke-linejoin:round; stroke-width:2; stroke-opacity:0.1; fill:none\" points=\"1618.62,1423.18 1618.62,123.472 \"/>\n<polyline clip-path=\"url(#clip332)\" style=\"stroke:#000000; stroke-linecap:round; stroke-linejoin:round; stroke-width:2; stroke-opacity:0.1; fill:none\" points=\"2292.14,1423.18 2292.14,123.472 \"/>\n<polyline clip-path=\"url(#clip330)\" style=\"stroke:#000000; stroke-linecap:round; stroke-linejoin:round; stroke-width:4; stroke-opacity:1; fill:none\" points=\"210.977,1423.18 2352.76,1423.18 \"/>\n<polyline clip-path=\"url(#clip330)\" style=\"stroke:#000000; stroke-linecap:round; stroke-linejoin:round; stroke-width:4; stroke-opacity:1; fill:none\" points=\"271.594,1423.18 271.594,1404.28 \"/>\n<polyline clip-path=\"url(#clip330)\" style=\"stroke:#000000; stroke-linecap:round; stroke-linejoin:round; stroke-width:4; stroke-opacity:1; fill:none\" points=\"945.109,1423.18 945.109,1404.28 \"/>\n<polyline clip-path=\"url(#clip330)\" style=\"stroke:#000000; stroke-linecap:round; stroke-linejoin:round; stroke-width:4; stroke-opacity:1; fill:none\" points=\"1618.62,1423.18 1618.62,1404.28 \"/>\n<polyline clip-path=\"url(#clip330)\" style=\"stroke:#000000; stroke-linecap:round; stroke-linejoin:round; stroke-width:4; stroke-opacity:1; fill:none\" points=\"2292.14,1423.18 2292.14,1404.28 \"/>\n<path clip-path=\"url(#clip330)\" d=\"M271.594 1454.1 Q267.983 1454.1 266.154 1457.66 Q264.348 1461.2 264.348 1468.33 Q264.348 1475.44 266.154 1479.01 Q267.983 1482.55 271.594 1482.55 Q275.228 1482.55 277.034 1479.01 Q278.862 1475.44 278.862 1468.33 Q278.862 1461.2 277.034 1457.66 Q275.228 1454.1 271.594 1454.1 M271.594 1450.39 Q277.404 1450.39 280.459 1455 Q283.538 1459.58 283.538 1468.33 Q283.538 1477.06 280.459 1481.67 Q277.404 1486.25 271.594 1486.25 Q265.784 1486.25 262.705 1481.67 Q259.649 1477.06 259.649 1468.33 Q259.649 1459.58 262.705 1455 Q265.784 1450.39 271.594 1450.39 Z\" fill=\"#000000\" fill-rule=\"evenodd\" fill-opacity=\"1\" /><path clip-path=\"url(#clip330)\" d=\"M935.387 1451.02 L953.743 1451.02 L953.743 1454.96 L939.669 1454.96 L939.669 1463.43 Q940.688 1463.08 941.706 1462.92 Q942.725 1462.73 943.743 1462.73 Q949.53 1462.73 952.91 1465.9 Q956.29 1469.08 956.29 1474.49 Q956.29 1480.07 952.817 1483.17 Q949.345 1486.25 943.026 1486.25 Q940.85 1486.25 938.581 1485.88 Q936.336 1485.51 933.929 1484.77 L933.929 1480.07 Q936.012 1481.2 938.234 1481.76 Q940.456 1482.32 942.933 1482.32 Q946.938 1482.32 949.276 1480.21 Q951.614 1478.1 951.614 1474.49 Q951.614 1470.88 949.276 1468.77 Q946.938 1466.67 942.933 1466.67 Q941.058 1466.67 939.183 1467.08 Q937.331 1467.5 935.387 1468.38 L935.387 1451.02 Z\" fill=\"#000000\" fill-rule=\"evenodd\" fill-opacity=\"1\" /><path clip-path=\"url(#clip330)\" d=\"M1593.31 1481.64 L1600.95 1481.64 L1600.95 1455.28 L1592.64 1456.95 L1592.64 1452.69 L1600.9 1451.02 L1605.58 1451.02 L1605.58 1481.64 L1613.22 1481.64 L1613.22 1485.58 L1593.31 1485.58 L1593.31 1481.64 Z\" fill=\"#000000\" fill-rule=\"evenodd\" fill-opacity=\"1\" /><path clip-path=\"url(#clip330)\" d=\"M1632.66 1454.1 Q1629.05 1454.1 1627.22 1457.66 Q1625.42 1461.2 1625.42 1468.33 Q1625.42 1475.44 1627.22 1479.01 Q1629.05 1482.55 1632.66 1482.55 Q1636.3 1482.55 1638.1 1479.01 Q1639.93 1475.44 1639.93 1468.33 Q1639.93 1461.2 1638.1 1457.66 Q1636.3 1454.1 1632.66 1454.1 M1632.66 1450.39 Q1638.47 1450.39 1641.53 1455 Q1644.61 1459.58 1644.61 1468.33 Q1644.61 1477.06 1641.53 1481.67 Q1638.47 1486.25 1632.66 1486.25 Q1626.85 1486.25 1623.77 1481.67 Q1620.72 1477.06 1620.72 1468.33 Q1620.72 1459.58 1623.77 1455 Q1626.85 1450.39 1632.66 1450.39 Z\" fill=\"#000000\" fill-rule=\"evenodd\" fill-opacity=\"1\" /><path clip-path=\"url(#clip330)\" d=\"M2267.32 1481.64 L2274.96 1481.64 L2274.96 1455.28 L2266.65 1456.95 L2266.65 1452.69 L2274.92 1451.02 L2279.59 1451.02 L2279.59 1481.64 L2287.23 1481.64 L2287.23 1485.58 L2267.32 1485.58 L2267.32 1481.64 Z\" fill=\"#000000\" fill-rule=\"evenodd\" fill-opacity=\"1\" /><path clip-path=\"url(#clip330)\" d=\"M2296.72 1451.02 L2315.08 1451.02 L2315.08 1454.96 L2301.01 1454.96 L2301.01 1463.43 Q2302.02 1463.08 2303.04 1462.92 Q2304.06 1462.73 2305.08 1462.73 Q2310.87 1462.73 2314.25 1465.9 Q2317.63 1469.08 2317.63 1474.49 Q2317.63 1480.07 2314.15 1483.17 Q2310.68 1486.25 2304.36 1486.25 Q2302.19 1486.25 2299.92 1485.88 Q2297.67 1485.51 2295.26 1484.77 L2295.26 1480.07 Q2297.35 1481.2 2299.57 1481.76 Q2301.79 1482.32 2304.27 1482.32 Q2308.27 1482.32 2310.61 1480.21 Q2312.95 1478.1 2312.95 1474.49 Q2312.95 1470.88 2310.61 1468.77 Q2308.27 1466.67 2304.27 1466.67 Q2302.39 1466.67 2300.52 1467.08 Q2298.67 1467.5 2296.72 1468.38 L2296.72 1451.02 Z\" fill=\"#000000\" fill-rule=\"evenodd\" fill-opacity=\"1\" /><path clip-path=\"url(#clip330)\" d=\"M1169.32 1522.27 L1169.32 1532.4 L1181.38 1532.4 L1181.38 1536.95 L1169.32 1536.95 L1169.32 1556.3 Q1169.32 1560.66 1170.5 1561.9 Q1171.71 1563.14 1175.37 1563.14 L1181.38 1563.14 L1181.38 1568.04 L1175.37 1568.04 Q1168.59 1568.04 1166.01 1565.53 Q1163.43 1562.98 1163.43 1556.3 L1163.43 1536.95 L1159.14 1536.95 L1159.14 1532.4 L1163.43 1532.4 L1163.43 1522.27 L1169.32 1522.27 Z\" fill=\"#000000\" fill-rule=\"evenodd\" fill-opacity=\"1\" /><path clip-path=\"url(#clip330)\" d=\"M1189.09 1532.4 L1194.94 1532.4 L1194.94 1568.04 L1189.09 1568.04 L1189.09 1532.4 M1189.09 1518.52 L1194.94 1518.52 L1194.94 1525.93 L1189.09 1525.93 L1189.09 1518.52 Z\" fill=\"#000000\" fill-rule=\"evenodd\" fill-opacity=\"1\" /><path clip-path=\"url(#clip330)\" d=\"M1234.95 1539.24 Q1237.15 1535.29 1240.2 1533.41 Q1243.26 1531.54 1247.4 1531.54 Q1252.97 1531.54 1255.99 1535.45 Q1259.01 1539.33 1259.01 1546.53 L1259.01 1568.04 L1253.13 1568.04 L1253.13 1546.72 Q1253.13 1541.59 1251.31 1539.11 Q1249.5 1536.63 1245.77 1536.63 Q1241.22 1536.63 1238.58 1539.65 Q1235.94 1542.68 1235.94 1547.9 L1235.94 1568.04 L1230.05 1568.04 L1230.05 1546.72 Q1230.05 1541.56 1228.24 1539.11 Q1226.42 1536.63 1222.63 1536.63 Q1218.15 1536.63 1215.5 1539.68 Q1212.86 1542.71 1212.86 1547.9 L1212.86 1568.04 L1206.97 1568.04 L1206.97 1532.4 L1212.86 1532.4 L1212.86 1537.93 Q1214.87 1534.66 1217.67 1533.1 Q1220.47 1531.54 1224.32 1531.54 Q1228.2 1531.54 1230.91 1533.51 Q1233.65 1535.48 1234.95 1539.24 Z\" fill=\"#000000\" fill-rule=\"evenodd\" fill-opacity=\"1\" /><path clip-path=\"url(#clip330)\" d=\"M1301.19 1548.76 L1301.19 1551.62 L1274.26 1551.62 Q1274.64 1557.67 1277.89 1560.85 Q1281.17 1564 1286.99 1564 Q1290.36 1564 1293.52 1563.17 Q1296.7 1562.35 1299.82 1560.69 L1299.82 1566.23 Q1296.67 1567.57 1293.36 1568.27 Q1290.05 1568.97 1286.64 1568.97 Q1278.11 1568.97 1273.11 1564 Q1268.15 1559.04 1268.15 1550.57 Q1268.15 1541.82 1272.86 1536.69 Q1277.6 1531.54 1285.62 1531.54 Q1292.82 1531.54 1296.99 1536.18 Q1301.19 1540.8 1301.19 1548.76 M1295.33 1547.04 Q1295.27 1542.23 1292.62 1539.37 Q1290.01 1536.5 1285.69 1536.5 Q1280.78 1536.5 1277.82 1539.27 Q1274.9 1542.04 1274.45 1547.07 L1295.33 1547.04 Z\" fill=\"#000000\" fill-rule=\"evenodd\" fill-opacity=\"1\" /><path clip-path=\"url(#clip330)\" d=\"M1345.59 1518.58 Q1341.32 1525.9 1339.25 1533.06 Q1337.18 1540.23 1337.18 1547.58 Q1337.18 1554.93 1339.25 1562.16 Q1341.35 1569.35 1345.59 1576.64 L1340.49 1576.64 Q1335.72 1569.16 1333.33 1561.93 Q1330.98 1554.71 1330.98 1547.58 Q1330.98 1540.48 1333.33 1533.29 Q1335.69 1526.09 1340.49 1518.58 L1345.59 1518.58 Z\" fill=\"#000000\" fill-rule=\"evenodd\" fill-opacity=\"1\" /><path clip-path=\"url(#clip330)\" d=\"M1379.68 1533.45 L1379.68 1538.98 Q1377.19 1537.71 1374.52 1537.07 Q1371.85 1536.44 1368.98 1536.44 Q1364.62 1536.44 1362.42 1537.77 Q1360.26 1539.11 1360.26 1541.79 Q1360.26 1543.82 1361.82 1545 Q1363.38 1546.15 1368.09 1547.2 L1370.1 1547.64 Q1376.33 1548.98 1378.94 1551.43 Q1381.59 1553.85 1381.59 1558.21 Q1381.59 1563.17 1377.64 1566.07 Q1373.72 1568.97 1366.85 1568.97 Q1363.98 1568.97 1360.87 1568.39 Q1357.78 1567.85 1354.34 1566.74 L1354.34 1560.69 Q1357.59 1562.38 1360.74 1563.24 Q1363.89 1564.07 1366.98 1564.07 Q1371.11 1564.07 1373.34 1562.66 Q1375.57 1561.23 1375.57 1558.65 Q1375.57 1556.27 1373.95 1554.99 Q1372.36 1553.72 1366.91 1552.54 L1364.88 1552.07 Q1359.43 1550.92 1357.01 1548.56 Q1354.59 1546.18 1354.59 1542.04 Q1354.59 1537.01 1358.16 1534.27 Q1361.72 1531.54 1368.28 1531.54 Q1371.53 1531.54 1374.39 1532.01 Q1377.26 1532.49 1379.68 1533.45 Z\" fill=\"#000000\" fill-rule=\"evenodd\" fill-opacity=\"1\" /><path clip-path=\"url(#clip330)\" d=\"M1389.99 1518.58 L1395.08 1518.58 Q1399.86 1526.09 1402.21 1533.29 Q1404.6 1540.48 1404.6 1547.58 Q1404.6 1554.71 1402.21 1561.93 Q1399.86 1569.16 1395.08 1576.64 L1389.99 1576.64 Q1394.22 1569.35 1396.29 1562.16 Q1398.39 1554.93 1398.39 1547.58 Q1398.39 1540.23 1396.29 1533.06 Q1394.22 1525.9 1389.99 1518.58 Z\" fill=\"#000000\" fill-rule=\"evenodd\" fill-opacity=\"1\" /><polyline clip-path=\"url(#clip332)\" style=\"stroke:#000000; stroke-linecap:round; stroke-linejoin:round; stroke-width:2; stroke-opacity:0.1; fill:none\" points=\"210.977,1386.4 2352.76,1386.4 \"/>\n<polyline clip-path=\"url(#clip332)\" style=\"stroke:#000000; stroke-linecap:round; stroke-linejoin:round; stroke-width:2; stroke-opacity:0.1; fill:none\" points=\"210.977,1141.17 2352.76,1141.17 \"/>\n<polyline clip-path=\"url(#clip332)\" style=\"stroke:#000000; stroke-linecap:round; stroke-linejoin:round; stroke-width:2; stroke-opacity:0.1; fill:none\" points=\"210.977,895.94 2352.76,895.94 \"/>\n<polyline clip-path=\"url(#clip332)\" style=\"stroke:#000000; stroke-linecap:round; stroke-linejoin:round; stroke-width:2; stroke-opacity:0.1; fill:none\" points=\"210.977,650.712 2352.76,650.712 \"/>\n<polyline clip-path=\"url(#clip332)\" style=\"stroke:#000000; stroke-linecap:round; stroke-linejoin:round; stroke-width:2; stroke-opacity:0.1; fill:none\" points=\"210.977,405.484 2352.76,405.484 \"/>\n<polyline clip-path=\"url(#clip332)\" style=\"stroke:#000000; stroke-linecap:round; stroke-linejoin:round; stroke-width:2; stroke-opacity:0.1; fill:none\" points=\"210.977,160.256 2352.76,160.256 \"/>\n<polyline clip-path=\"url(#clip330)\" style=\"stroke:#000000; stroke-linecap:round; stroke-linejoin:round; stroke-width:4; stroke-opacity:1; fill:none\" points=\"210.977,1423.18 210.977,123.472 \"/>\n<polyline clip-path=\"url(#clip330)\" style=\"stroke:#000000; stroke-linecap:round; stroke-linejoin:round; stroke-width:4; stroke-opacity:1; fill:none\" points=\"210.977,1386.4 229.875,1386.4 \"/>\n<polyline clip-path=\"url(#clip330)\" style=\"stroke:#000000; stroke-linecap:round; stroke-linejoin:round; stroke-width:4; stroke-opacity:1; fill:none\" points=\"210.977,1141.17 229.875,1141.17 \"/>\n<polyline clip-path=\"url(#clip330)\" style=\"stroke:#000000; stroke-linecap:round; stroke-linejoin:round; stroke-width:4; stroke-opacity:1; fill:none\" points=\"210.977,895.94 229.875,895.94 \"/>\n<polyline clip-path=\"url(#clip330)\" style=\"stroke:#000000; stroke-linecap:round; stroke-linejoin:round; stroke-width:4; stroke-opacity:1; fill:none\" points=\"210.977,650.712 229.875,650.712 \"/>\n<polyline clip-path=\"url(#clip330)\" style=\"stroke:#000000; stroke-linecap:round; stroke-linejoin:round; stroke-width:4; stroke-opacity:1; fill:none\" points=\"210.977,405.484 229.875,405.484 \"/>\n<polyline clip-path=\"url(#clip330)\" style=\"stroke:#000000; stroke-linecap:round; stroke-linejoin:round; stroke-width:4; stroke-opacity:1; fill:none\" points=\"210.977,160.256 229.875,160.256 \"/>\n<path clip-path=\"url(#clip330)\" d=\"M114.26 1386.85 L143.936 1386.85 L143.936 1390.78 L114.26 1390.78 L114.26 1386.85 Z\" fill=\"#000000\" fill-rule=\"evenodd\" fill-opacity=\"1\" /><path clip-path=\"url(#clip330)\" d=\"M154.075 1369.12 L172.431 1369.12 L172.431 1373.05 L158.357 1373.05 L158.357 1381.52 Q159.376 1381.18 160.394 1381.01 Q161.413 1380.83 162.431 1380.83 Q168.218 1380.83 171.598 1384 Q174.977 1387.17 174.977 1392.59 Q174.977 1398.17 171.505 1401.27 Q168.033 1404.35 161.714 1404.35 Q159.538 1404.35 157.269 1403.98 Q155.024 1403.61 152.616 1402.87 L152.616 1398.17 Q154.7 1399.3 156.922 1399.86 Q159.144 1400.41 161.621 1400.41 Q165.626 1400.41 167.964 1398.31 Q170.302 1396.2 170.302 1392.59 Q170.302 1388.98 167.964 1386.87 Q165.626 1384.76 161.621 1384.76 Q159.746 1384.76 157.871 1385.18 Q156.019 1385.6 154.075 1386.48 L154.075 1369.12 Z\" fill=\"#000000\" fill-rule=\"evenodd\" fill-opacity=\"1\" /><path clip-path=\"url(#clip330)\" d=\"M163.033 1126.97 Q159.422 1126.97 157.593 1130.53 Q155.788 1134.07 155.788 1141.2 Q155.788 1148.31 157.593 1151.87 Q159.422 1155.42 163.033 1155.42 Q166.667 1155.42 168.473 1151.87 Q170.302 1148.31 170.302 1141.2 Q170.302 1134.07 168.473 1130.53 Q166.667 1126.97 163.033 1126.97 M163.033 1123.26 Q168.843 1123.26 171.899 1127.87 Q174.977 1132.45 174.977 1141.2 Q174.977 1149.93 171.899 1154.54 Q168.843 1159.12 163.033 1159.12 Q157.223 1159.12 154.144 1154.54 Q151.089 1149.93 151.089 1141.2 Q151.089 1132.45 154.144 1127.87 Q157.223 1123.26 163.033 1123.26 Z\" fill=\"#000000\" fill-rule=\"evenodd\" fill-opacity=\"1\" /><path clip-path=\"url(#clip330)\" d=\"M154.075 878.66 L172.431 878.66 L172.431 882.595 L158.357 882.595 L158.357 891.067 Q159.376 890.72 160.394 890.558 Q161.413 890.373 162.431 890.373 Q168.218 890.373 171.598 893.544 Q174.977 896.715 174.977 902.132 Q174.977 907.711 171.505 910.813 Q168.033 913.891 161.714 913.891 Q159.538 913.891 157.269 913.521 Q155.024 913.15 152.616 912.41 L152.616 907.711 Q154.7 908.845 156.922 909.4 Q159.144 909.956 161.621 909.956 Q165.626 909.956 167.964 907.85 Q170.302 905.743 170.302 902.132 Q170.302 898.521 167.964 896.414 Q165.626 894.308 161.621 894.308 Q159.746 894.308 157.871 894.725 Q156.019 895.141 154.075 896.021 L154.075 878.66 Z\" fill=\"#000000\" fill-rule=\"evenodd\" fill-opacity=\"1\" /><path clip-path=\"url(#clip330)\" d=\"M123.681 664.057 L131.32 664.057 L131.32 637.691 L123.01 639.358 L123.01 635.099 L131.274 633.432 L135.95 633.432 L135.95 664.057 L143.589 664.057 L143.589 667.992 L123.681 667.992 L123.681 664.057 Z\" fill=\"#000000\" fill-rule=\"evenodd\" fill-opacity=\"1\" /><path clip-path=\"url(#clip330)\" d=\"M163.033 636.511 Q159.422 636.511 157.593 640.076 Q155.788 643.617 155.788 650.747 Q155.788 657.853 157.593 661.418 Q159.422 664.96 163.033 664.96 Q166.667 664.96 168.473 661.418 Q170.302 657.853 170.302 650.747 Q170.302 643.617 168.473 640.076 Q166.667 636.511 163.033 636.511 M163.033 632.807 Q168.843 632.807 171.899 637.414 Q174.977 641.997 174.977 650.747 Q174.977 659.474 171.899 664.08 Q168.843 668.663 163.033 668.663 Q157.223 668.663 154.144 664.08 Q151.089 659.474 151.089 650.747 Q151.089 641.997 154.144 637.414 Q157.223 632.807 163.033 632.807 Z\" fill=\"#000000\" fill-rule=\"evenodd\" fill-opacity=\"1\" /><path clip-path=\"url(#clip330)\" d=\"M124.677 418.829 L132.316 418.829 L132.316 392.463 L124.005 394.13 L124.005 389.871 L132.269 388.204 L136.945 388.204 L136.945 418.829 L144.584 418.829 L144.584 422.764 L124.677 422.764 L124.677 418.829 Z\" fill=\"#000000\" fill-rule=\"evenodd\" fill-opacity=\"1\" /><path clip-path=\"url(#clip330)\" d=\"M154.075 388.204 L172.431 388.204 L172.431 392.139 L158.357 392.139 L158.357 400.612 Q159.376 400.264 160.394 400.102 Q161.413 399.917 162.431 399.917 Q168.218 399.917 171.598 403.088 Q174.977 406.26 174.977 411.676 Q174.977 417.255 171.505 420.357 Q168.033 423.435 161.714 423.435 Q159.538 423.435 157.269 423.065 Q155.024 422.695 152.616 421.954 L152.616 417.255 Q154.7 418.389 156.922 418.945 Q159.144 419.5 161.621 419.5 Q165.626 419.5 167.964 417.394 Q170.302 415.287 170.302 411.676 Q170.302 408.065 167.964 405.959 Q165.626 403.852 161.621 403.852 Q159.746 403.852 157.871 404.269 Q156.019 404.686 154.075 405.565 L154.075 388.204 Z\" fill=\"#000000\" fill-rule=\"evenodd\" fill-opacity=\"1\" /><path clip-path=\"url(#clip330)\" d=\"M126.899 173.601 L143.218 173.601 L143.218 177.536 L121.274 177.536 L121.274 173.601 Q123.936 170.847 128.519 166.217 Q133.126 161.564 134.306 160.222 Q136.552 157.698 137.431 155.962 Q138.334 154.203 138.334 152.513 Q138.334 149.759 136.39 148.023 Q134.468 146.286 131.367 146.286 Q129.167 146.286 126.714 147.05 Q124.283 147.814 121.505 149.365 L121.505 144.643 Q124.33 143.509 126.783 142.93 Q129.237 142.351 131.274 142.351 Q136.644 142.351 139.839 145.036 Q143.033 147.722 143.033 152.212 Q143.033 154.342 142.223 156.263 Q141.436 158.161 139.329 160.754 Q138.751 161.425 135.649 164.643 Q132.547 167.837 126.899 173.601 Z\" fill=\"#000000\" fill-rule=\"evenodd\" fill-opacity=\"1\" /><path clip-path=\"url(#clip330)\" d=\"M163.033 146.055 Q159.422 146.055 157.593 149.62 Q155.788 153.161 155.788 160.291 Q155.788 167.397 157.593 170.962 Q159.422 174.504 163.033 174.504 Q166.667 174.504 168.473 170.962 Q170.302 167.397 170.302 160.291 Q170.302 153.161 168.473 149.62 Q166.667 146.055 163.033 146.055 M163.033 142.351 Q168.843 142.351 171.899 146.958 Q174.977 151.541 174.977 160.291 Q174.977 169.018 171.899 173.624 Q168.843 178.208 163.033 178.208 Q157.223 178.208 154.144 173.624 Q151.089 169.018 151.089 160.291 Q151.089 151.541 154.144 146.958 Q157.223 142.351 163.033 142.351 Z\" fill=\"#000000\" fill-rule=\"evenodd\" fill-opacity=\"1\" /><path clip-path=\"url(#clip330)\" d=\"M28.3562 756.711 L45.7028 769.602 L64.0042 756.043 L64.0042 762.95 L49.9996 773.326 L64.0042 783.702 L64.0042 790.609 L45.3526 776.763 L28.3562 789.431 L28.3562 782.524 L41.0558 773.071 L28.3562 763.618 L28.3562 756.711 Z\" fill=\"#000000\" fill-rule=\"evenodd\" fill-opacity=\"1\" /><path clip-path=\"url(#clip330)\" d=\"M1054.21 14.0809 L1054.21 22.0612 Q1049.55 19.8332 1045.42 18.7395 Q1041.28 17.6457 1037.44 17.6457 Q1030.75 17.6457 1027.11 20.2383 Q1023.5 22.8309 1023.5 27.611 Q1023.5 31.6214 1025.89 33.6873 Q1028.32 35.7128 1035.05 36.9686 L1039.99 37.9813 Q1049.14 39.7232 1053.48 44.1387 Q1057.85 48.5136 1057.85 55.8863 Q1057.85 64.6767 1051.94 69.2137 Q1046.06 73.7508 1034.68 73.7508 Q1030.39 73.7508 1025.53 72.7785 Q1020.7 71.8063 1015.52 69.9024 L1015.52 61.4765 Q1020.5 64.2716 1025.28 65.6895 Q1030.06 67.1073 1034.68 67.1073 Q1041.69 67.1073 1045.5 64.3527 Q1049.3 61.598 1049.3 56.4939 Q1049.3 52.0379 1046.55 49.5264 Q1043.84 47.0148 1037.6 45.759 L1032.61 44.7868 Q1023.46 42.9639 1019.37 39.075 Q1015.28 35.1862 1015.28 28.2591 Q1015.28 20.2383 1020.91 15.6203 Q1026.58 11.0023 1036.5 11.0023 Q1040.76 11.0023 1045.17 11.7719 Q1049.59 12.5416 1054.21 14.0809 Z\" fill=\"#000000\" fill-rule=\"evenodd\" fill-opacity=\"1\" /><path clip-path=\"url(#clip330)\" d=\"M1077.66 14.324 L1077.66 27.2059 L1093.01 27.2059 L1093.01 32.9987 L1077.66 32.9987 L1077.66 57.6282 Q1077.66 63.1779 1079.16 64.7578 Q1080.7 66.3376 1085.36 66.3376 L1093.01 66.3376 L1093.01 72.576 L1085.36 72.576 Q1076.73 72.576 1073.45 69.3758 Q1070.17 66.1351 1070.17 57.6282 L1070.17 32.9987 L1064.7 32.9987 L1064.7 27.2059 L1070.17 27.2059 L1070.17 14.324 L1077.66 14.324 Z\" fill=\"#000000\" fill-rule=\"evenodd\" fill-opacity=\"1\" /><path clip-path=\"url(#clip330)\" d=\"M1123.44 49.7694 Q1114.4 49.7694 1110.92 51.8354 Q1107.43 53.9013 1107.43 58.8839 Q1107.43 62.8538 1110.03 65.2034 Q1112.66 67.5124 1117.16 67.5124 Q1123.35 67.5124 1127.08 63.1374 Q1130.85 58.7219 1130.85 51.4303 L1130.85 49.7694 L1123.44 49.7694 M1138.3 46.6907 L1138.3 72.576 L1130.85 72.576 L1130.85 65.6895 Q1128.3 69.8214 1124.49 71.8063 Q1120.68 73.7508 1115.17 73.7508 Q1108.2 73.7508 1104.07 69.8619 Q1099.98 65.9325 1099.98 59.3701 Q1099.98 51.7138 1105.09 47.825 Q1110.23 43.9361 1120.4 43.9361 L1130.85 43.9361 L1130.85 43.2069 Q1130.85 38.0623 1127.45 35.2672 Q1124.08 32.4315 1117.97 32.4315 Q1114.08 32.4315 1110.39 33.3632 Q1106.71 34.295 1103.3 36.1584 L1103.3 29.2718 Q1107.39 27.692 1111.24 26.9223 Q1115.09 26.1121 1118.74 26.1121 Q1128.58 26.1121 1133.44 31.2163 Q1138.3 36.3204 1138.3 46.6907 Z\" fill=\"#000000\" fill-rule=\"evenodd\" fill-opacity=\"1\" /><path clip-path=\"url(#clip330)\" d=\"M1161.03 14.324 L1161.03 27.2059 L1176.38 27.2059 L1176.38 32.9987 L1161.03 32.9987 L1161.03 57.6282 Q1161.03 63.1779 1162.53 64.7578 Q1164.07 66.3376 1168.72 66.3376 L1176.38 66.3376 L1176.38 72.576 L1168.72 72.576 Q1160.1 72.576 1156.82 69.3758 Q1153.53 66.1351 1153.53 57.6282 L1153.53 32.9987 L1148.07 32.9987 L1148.07 27.2059 L1153.53 27.2059 L1153.53 14.324 L1161.03 14.324 Z\" fill=\"#000000\" fill-rule=\"evenodd\" fill-opacity=\"1\" /><path clip-path=\"url(#clip330)\" d=\"M1224.99 48.0275 L1224.99 51.6733 L1190.72 51.6733 Q1191.21 59.3701 1195.34 63.421 Q1199.51 67.4314 1206.92 67.4314 Q1211.22 67.4314 1215.23 66.3781 Q1219.28 65.3249 1223.25 63.2184 L1223.25 70.267 Q1219.24 71.9684 1215.03 72.8596 Q1210.81 73.7508 1206.48 73.7508 Q1195.62 73.7508 1189.26 67.4314 Q1182.94 61.1119 1182.94 50.3365 Q1182.94 39.1965 1188.94 32.6746 Q1194.97 26.1121 1205.18 26.1121 Q1214.34 26.1121 1219.64 32.0264 Q1224.99 37.9003 1224.99 48.0275 M1217.54 45.84 Q1217.46 39.7232 1214.1 36.0774 Q1210.77 32.4315 1205.26 32.4315 Q1199.03 32.4315 1195.26 35.9558 Q1191.53 39.4801 1190.96 45.8805 L1217.54 45.84 Z\" fill=\"#000000\" fill-rule=\"evenodd\" fill-opacity=\"1\" /><path clip-path=\"url(#clip330)\" d=\"M1263.92 12.096 L1272.1 12.096 L1272.1 36.8875 L1301.84 36.8875 L1301.84 12.096 L1310.02 12.096 L1310.02 72.576 L1301.84 72.576 L1301.84 43.7741 L1272.1 43.7741 L1272.1 72.576 L1263.92 72.576 L1263.92 12.096 Z\" fill=\"#000000\" fill-rule=\"evenodd\" fill-opacity=\"1\" /><path clip-path=\"url(#clip330)\" d=\"M1325.98 27.2059 L1333.43 27.2059 L1333.43 72.576 L1325.98 72.576 L1325.98 27.2059 M1325.98 9.54393 L1333.43 9.54393 L1333.43 18.9825 L1325.98 18.9825 L1325.98 9.54393 Z\" fill=\"#000000\" fill-rule=\"evenodd\" fill-opacity=\"1\" /><path clip-path=\"url(#clip330)\" d=\"M1377.95 28.5427 L1377.95 35.5912 Q1374.79 33.9709 1371.39 33.1607 Q1367.99 32.3505 1364.34 32.3505 Q1358.79 32.3505 1356 34.0519 Q1353.24 35.7533 1353.24 39.156 Q1353.24 41.7486 1355.23 43.2475 Q1357.21 44.7058 1363.21 46.0426 L1365.76 46.6097 Q1373.7 48.3111 1377.02 51.4303 Q1380.38 54.509 1380.38 60.0587 Q1380.38 66.3781 1375.36 70.0644 Q1370.38 73.7508 1361.63 73.7508 Q1357.98 73.7508 1354.01 73.0216 Q1350.08 72.3329 1345.71 70.9151 L1345.71 63.2184 Q1349.84 65.3654 1353.85 66.4591 Q1357.86 67.5124 1361.79 67.5124 Q1367.06 67.5124 1369.89 65.73 Q1372.73 63.9071 1372.73 60.6258 Q1372.73 57.5877 1370.66 55.9673 Q1368.64 54.3469 1361.71 52.8481 L1359.12 52.2405 Q1352.19 50.7821 1349.11 47.7845 Q1346.03 44.7463 1346.03 39.4801 Q1346.03 33.0797 1350.57 29.5959 Q1355.11 26.1121 1363.45 26.1121 Q1367.58 26.1121 1371.23 26.7198 Q1374.88 27.3274 1377.95 28.5427 Z\" fill=\"#000000\" fill-rule=\"evenodd\" fill-opacity=\"1\" /><path clip-path=\"url(#clip330)\" d=\"M1399.63 14.324 L1399.63 27.2059 L1414.98 27.2059 L1414.98 32.9987 L1399.63 32.9987 L1399.63 57.6282 Q1399.63 63.1779 1401.13 64.7578 Q1402.66 66.3376 1407.32 66.3376 L1414.98 66.3376 L1414.98 72.576 L1407.32 72.576 Q1398.69 72.576 1395.41 69.3758 Q1392.13 66.1351 1392.13 57.6282 L1392.13 32.9987 L1386.66 32.9987 L1386.66 27.2059 L1392.13 27.2059 L1392.13 14.324 L1399.63 14.324 Z\" fill=\"#000000\" fill-rule=\"evenodd\" fill-opacity=\"1\" /><path clip-path=\"url(#clip330)\" d=\"M1442.36 32.4315 Q1436.37 32.4315 1432.88 37.1306 Q1429.4 41.7891 1429.4 49.9314 Q1429.4 58.0738 1432.84 62.7728 Q1436.33 67.4314 1442.36 67.4314 Q1448.32 67.4314 1451.8 62.7323 Q1455.29 58.0333 1455.29 49.9314 Q1455.29 41.8701 1451.8 37.1711 Q1448.32 32.4315 1442.36 32.4315 M1442.36 26.1121 Q1452.09 26.1121 1457.64 32.4315 Q1463.19 38.7509 1463.19 49.9314 Q1463.19 61.0714 1457.64 67.4314 Q1452.09 73.7508 1442.36 73.7508 Q1432.6 73.7508 1427.05 67.4314 Q1421.54 61.0714 1421.54 49.9314 Q1421.54 38.7509 1427.05 32.4315 Q1432.6 26.1121 1442.36 26.1121 Z\" fill=\"#000000\" fill-rule=\"evenodd\" fill-opacity=\"1\" /><path clip-path=\"url(#clip330)\" d=\"M1501.83 34.1734 Q1500.57 33.4443 1499.08 33.1202 Q1497.62 32.7556 1495.84 32.7556 Q1489.52 32.7556 1486.11 36.8875 Q1482.75 40.9789 1482.75 48.6757 L1482.75 72.576 L1475.26 72.576 L1475.26 27.2059 L1482.75 27.2059 L1482.75 34.2544 Q1485.1 30.1225 1488.87 28.1376 Q1492.64 26.1121 1498.02 26.1121 Q1498.79 26.1121 1499.72 26.2337 Q1500.66 26.3147 1501.79 26.5172 L1501.83 34.1734 Z\" fill=\"#000000\" fill-rule=\"evenodd\" fill-opacity=\"1\" /><path clip-path=\"url(#clip330)\" d=\"M1528.53 76.7889 Q1525.37 84.8907 1522.37 87.3618 Q1519.37 89.8329 1514.35 89.8329 L1508.39 89.8329 L1508.39 83.5945 L1512.77 83.5945 Q1515.85 83.5945 1517.55 82.1361 Q1519.25 80.6778 1521.32 75.2496 L1522.65 71.8468 L1504.3 27.2059 L1512.2 27.2059 L1526.38 62.6918 L1540.56 27.2059 L1548.46 27.2059 L1528.53 76.7889 Z\" fill=\"#000000\" fill-rule=\"evenodd\" fill-opacity=\"1\" /><polyline clip-path=\"url(#clip332)\" style=\"stroke:#009af9; stroke-linecap:round; stroke-linejoin:round; stroke-width:4; stroke-opacity:1; fill:none\" points=\"271.594,944.985 278.329,952.297 285.064,959.518 291.799,966.648 298.534,973.689 305.27,980.641 312.005,987.504 318.74,994.279 325.475,1000.97 332.21,1007.57 338.945,1014.08 345.68,1020.51 352.416,1026.85 359.151,1033.1 365.886,1039.28 372.621,1045.36 379.356,1051.37 386.091,1057.29 392.827,1063.13 399.562,1068.88 406.297,1074.56 413.032,1080.15 419.767,1085.66 426.502,1091.1 433.237,1096.45 439.973,1101.72 446.708,1106.92 453.443,1112.03 460.178,1117.07 466.913,1122.03 473.648,1126.92 480.384,1131.73 487.119,1136.46 493.854,1141.12 500.589,1145.71 507.324,1150.22 514.059,1154.65 520.794,1159.02 527.53,1163.31 534.265,1167.53 541,1171.67 547.735,1175.75 554.47,1179.76 561.205,1183.69 567.941,1187.56 574.676,1191.35 581.411,1195.08 588.146,1198.74 594.881,1202.34 601.616,1205.86 608.351,1209.32 615.087,1212.72 621.822,1216.04 628.557,1219.31 635.292,1222.5 642.027,1225.64 648.762,1228.71 655.497,1231.72 662.233,1234.66 668.968,1237.54 675.703,1240.36 682.438,1243.12 689.173,1245.82 695.908,1248.46 702.644,1251.04 709.379,1253.56 716.114,1256.02 722.849,1258.43 729.584,1260.77 736.319,1263.06 743.054,1265.29 749.79,1267.47 756.525,1269.59 763.26,1271.66 769.995,1273.67 776.73,1275.62 783.465,1277.52 790.201,1279.37 796.936,1281.17 803.671,1282.91 810.406,1284.6 817.141,1286.24 823.876,1287.83 830.611,1289.37 837.347,1290.86 844.082,1292.29 850.817,1293.68 857.552,1295.02 864.287,1296.32 871.022,1297.56 877.758,1298.76 884.493,1299.91 891.228,1301.01 897.963,1302.07 904.698,1303.09 911.433,1304.05 918.168,1304.98 924.904,1305.86 931.639,1306.69 938.374,1307.49 945.109,1308.24 951.844,1308.95 958.579,1309.61 965.314,1310.24 972.05,1310.82 978.785,1311.36 985.52,1311.87 992.255,1312.33 998.99,1312.76 1005.73,1313.14 1012.46,1313.49 1019.2,1313.8 1025.93,1314.08 1032.67,1314.31 1039.4,1314.51 1046.14,1314.67 1052.87,1314.8 1059.61,1314.9 1066.34,1314.95 1073.08,1314.98 1079.81,1314.97 1086.55,1314.92 1093.28,1314.85 1100.02,1314.74 1106.75,1314.6 1113.49,1314.42 1120.22,1314.22 1126.96,1313.99 1133.69,1313.72 1140.43,1313.42 1147.16,1313.1 1153.9,1312.74 1160.63,1312.36 1167.37,1311.95 1174.1,1311.51 1180.84,1311.04 1187.57,1310.55 1194.31,1310.03 1201.04,1309.48 1207.78,1308.9 1214.52,1308.3 1221.25,1307.68 1227.99,1307.03 1234.72,1306.36 1241.46,1305.66 1248.19,1304.94 1254.93,1304.2 1261.66,1303.43 1268.4,1302.64 1275.13,1301.83 1281.87,1301 1288.6,1300.14 1295.34,1299.27 1302.07,1298.37 1308.81,1297.46 1315.54,1296.53 1322.28,1295.57 1329.01,1294.6 1335.75,1293.61 1342.48,1292.6 1349.22,1291.57 1355.95,1290.53 1362.69,1289.47 1369.42,1288.39 1376.16,1287.3 1382.89,1286.19 1389.63,1285.07 1396.36,1283.93 1403.1,1282.78 1409.83,1281.61 1416.57,1280.43 1423.3,1279.23 1430.04,1278.02 1436.78,1276.8 1443.51,1275.57 1450.25,1274.32 1456.98,1273.07 1463.72,1271.8 1470.45,1270.52 1477.19,1269.23 1483.92,1267.93 1490.66,1266.62 1497.39,1265.3 1504.13,1263.97 1510.86,1262.64 1517.6,1261.29 1524.33,1259.94 1531.07,1258.58 1537.8,1257.21 1544.54,1255.84 1551.27,1254.45 1558.01,1253.07 1564.74,1251.67 1571.48,1250.28 1578.21,1248.87 1584.95,1247.46 1591.68,1246.05 1598.42,1244.63 1605.15,1243.21 1611.89,1241.79 1618.62,1240.36 1625.36,1238.94 1632.09,1237.5 1638.83,1236.07 1645.56,1234.64 1652.3,1233.2 1659.04,1231.76 1665.77,1230.32 1672.51,1228.89 1679.24,1227.45 1685.98,1226.01 1692.71,1224.58 1699.45,1223.14 1706.18,1221.71 1712.92,1220.28 1719.65,1218.85 1726.39,1217.42 1733.12,1216 1739.86,1214.58 1746.59,1213.16 1753.33,1211.75 1760.06,1210.34 1766.8,1208.93 1773.53,1207.53 1780.27,1206.14 1787,1204.75 1793.74,1203.37 1800.47,1201.99 1807.21,1200.62 1813.94,1199.26 1820.68,1197.91 1827.41,1196.56 1834.15,1195.22 1840.88,1193.89 1847.62,1192.57 1854.35,1191.26 1861.09,1189.95 1867.82,1188.66 1874.56,1187.37 1881.3,1186.1 1888.03,1184.84 1894.77,1183.59 1901.5,1182.34 1908.24,1181.12 1914.97,1179.9 1921.71,1178.69 1928.44,1177.5 1935.18,1176.32 1941.91,1175.16 1948.65,1174.01 1955.38,1172.87 1962.12,1171.75 1968.85,1170.64 1975.59,1169.54 1982.32,1168.47 1989.06,1167.4 1995.79,1166.36 2002.53,1165.33 2009.26,1164.31 2016,1163.32 2022.73,1162.34 2029.47,1161.38 2036.2,1160.43 2042.94,1159.51 2049.67,1158.6 2056.41,1157.71 2063.14,1156.84 2069.88,1156 2076.61,1155.17 2083.35,1154.36 2090.08,1153.57 2096.82,1152.8 2103.56,1152.06 2110.29,1151.33 2117.03,1150.63 2123.76,1149.95 2130.5,1149.3 2137.23,1148.66 2143.97,1148.05 2150.7,1147.46 2157.44,1146.9 2164.17,1146.36 2170.91,1145.85 2177.64,1145.36 2184.38,1144.89 2191.11,1144.45 2197.85,1144.04 2204.58,1143.65 2211.32,1143.29 2218.05,1142.96 2224.79,1142.66 2231.52,1142.38 2238.26,1142.13 2244.99,1141.91 2251.73,1141.71 2258.46,1141.55 2265.2,1141.41 2271.93,1141.31 2278.67,1141.23 2285.4,1141.18 2292.14,1141.17 \"/>\n<polyline clip-path=\"url(#clip332)\" style=\"stroke:#e26f46; stroke-linecap:round; stroke-linejoin:round; stroke-width:4; stroke-opacity:1; fill:none\" points=\"271.594,1043.08 278.329,1038.51 285.064,1034.62 291.799,1031.37 298.534,1028.73 305.27,1026.69 312.005,1025.22 318.74,1024.29 325.475,1023.87 332.21,1023.95 338.945,1024.49 345.68,1025.48 352.416,1026.87 359.151,1028.66 365.886,1030.82 372.621,1033.31 379.356,1036.12 386.091,1039.22 392.827,1042.58 399.562,1046.18 406.297,1049.99 413.032,1053.99 419.767,1058.16 426.502,1062.46 433.237,1066.87 439.973,1071.37 446.708,1075.93 453.443,1080.53 460.178,1085.14 466.913,1089.73 473.648,1094.28 480.384,1098.77 487.119,1103.17 493.854,1107.45 500.589,1111.59 507.324,1115.57 514.059,1119.35 520.794,1122.92 527.53,1126.25 534.265,1129.3 541,1132.07 547.735,1134.52 554.47,1136.62 561.205,1138.36 567.941,1139.7 574.676,1140.62 581.411,1141.1 588.146,1141.21 594.881,1141.19 601.616,1141.17 608.351,1141.17 615.087,1141.17 621.822,1141.17 628.557,1141.17 635.292,1141.17 642.027,1141.17 648.762,1141.17 655.497,1141.17 662.233,1141.17 668.968,1141.17 675.703,1141.17 682.438,1141.17 689.173,1141.17 695.908,1141.17 702.644,1141.17 709.379,1141.17 716.114,1141.17 722.849,1141.17 729.584,1141.17 736.319,1141.17 743.054,1141.17 749.79,1141.17 756.525,1141.17 763.26,1141.17 769.995,1141.17 776.73,1141.17 783.465,1141.17 790.201,1141.17 796.936,1141.17 803.671,1141.17 810.406,1141.17 817.141,1141.17 823.876,1141.17 830.611,1141.17 837.347,1141.17 844.082,1141.17 850.817,1141.17 857.552,1141.17 864.287,1141.17 871.022,1141.17 877.758,1141.17 884.493,1141.17 891.228,1141.17 897.963,1141.17 904.698,1141.17 911.433,1141.17 918.168,1141.17 924.904,1141.17 931.639,1141.17 938.374,1141.17 945.109,1141.17 951.844,1141.17 958.579,1141.17 965.314,1141.17 972.05,1141.17 978.785,1141.17 985.52,1141.17 992.255,1141.17 998.99,1141.17 1005.73,1141.17 1012.46,1141.17 1019.2,1141.17 1025.93,1141.17 1032.67,1141.17 1039.4,1141.17 1046.14,1141.17 1052.87,1141.17 1059.61,1141.17 1066.34,1141.17 1073.08,1141.17 1079.81,1141.17 1086.55,1141.17 1093.28,1141.17 1100.02,1141.17 1106.75,1141.17 1113.49,1141.17 1120.22,1141.17 1126.96,1141.17 1133.69,1141.17 1140.43,1141.17 1147.16,1141.17 1153.9,1141.17 1160.63,1141.17 1167.37,1141.17 1174.1,1141.17 1180.84,1141.17 1187.57,1141.17 1194.31,1141.17 1201.04,1141.17 1207.78,1141.17 1214.52,1141.17 1221.25,1141.17 1227.99,1141.17 1234.72,1141.17 1241.46,1141.17 1248.19,1141.17 1254.93,1141.17 1261.66,1141.17 1268.4,1141.17 1275.13,1141.17 1281.87,1141.17 1288.6,1141.17 1295.34,1141.17 1302.07,1141.17 1308.81,1141.17 1315.54,1141.17 1322.28,1141.17 1329.01,1141.17 1335.75,1141.17 1342.48,1141.17 1349.22,1141.17 1355.95,1141.17 1362.69,1141.17 1369.42,1141.17 1376.16,1141.17 1382.89,1141.17 1389.63,1141.17 1396.36,1141.17 1403.1,1141.17 1409.83,1141.17 1416.57,1141.17 1423.3,1141.17 1430.04,1141.17 1436.78,1141.17 1443.51,1141.17 1450.25,1141.17 1456.98,1141.17 1463.72,1141.17 1470.45,1141.17 1477.19,1141.17 1483.92,1141.17 1490.66,1141.17 1497.39,1141.17 1504.13,1141.17 1510.86,1141.17 1517.6,1141.17 1524.33,1141.17 1531.07,1141.17 1537.8,1141.17 1544.54,1141.17 1551.27,1141.17 1558.01,1141.17 1564.74,1141.17 1571.48,1141.17 1578.21,1141.17 1584.95,1141.17 1591.68,1141.17 1598.42,1141.17 1605.15,1141.17 1611.89,1141.17 1618.62,1141.17 1625.36,1141.17 1632.09,1141.17 1638.83,1141.17 1645.56,1141.17 1652.3,1141.17 1659.04,1141.17 1665.77,1141.17 1672.51,1141.17 1679.24,1141.17 1685.98,1141.17 1692.71,1141.17 1699.45,1141.17 1706.18,1141.17 1712.92,1141.17 1719.65,1141.17 1726.39,1141.17 1733.12,1141.17 1739.86,1141.17 1746.59,1141.17 1753.33,1141.17 1760.06,1141.17 1766.8,1141.17 1773.53,1141.17 1780.27,1141.17 1787,1141.17 1793.74,1141.17 1800.47,1141.17 1807.21,1141.17 1813.94,1141.17 1820.68,1141.17 1827.41,1141.17 1834.15,1141.17 1840.88,1141.17 1847.62,1141.17 1854.35,1141.17 1861.09,1141.17 1867.82,1141.17 1874.56,1141.17 1881.3,1141.17 1888.03,1141.17 1894.77,1141.17 1901.5,1141.17 1908.24,1141.17 1914.97,1141.17 1921.71,1141.17 1928.44,1141.17 1935.18,1141.17 1941.91,1141.17 1948.65,1141.17 1955.38,1141.17 1962.12,1141.17 1968.85,1141.17 1975.59,1141.17 1982.32,1141.17 1989.06,1141.17 1995.79,1141.17 2002.53,1141.17 2009.26,1141.17 2016,1141.17 2022.73,1141.17 2029.47,1141.17 2036.2,1141.17 2042.94,1141.17 2049.67,1141.17 2056.41,1141.17 2063.14,1141.17 2069.88,1141.17 2076.61,1141.17 2083.35,1141.17 2090.08,1141.17 2096.82,1141.17 2103.56,1141.17 2110.29,1141.17 2117.03,1141.17 2123.76,1141.17 2130.5,1141.17 2137.23,1141.17 2143.97,1141.17 2150.7,1141.17 2157.44,1141.17 2164.17,1141.17 2170.91,1141.17 2177.64,1141.17 2184.38,1141.17 2191.11,1141.17 2197.85,1141.17 2204.58,1141.17 2211.32,1141.17 2218.05,1141.17 2224.79,1141.17 2231.52,1141.17 2238.26,1141.17 2244.99,1141.17 2251.73,1141.17 2258.46,1141.17 2265.2,1141.17 2271.93,1141.17 2278.67,1141.17 2285.4,1141.17 2292.14,1141.17 \"/>\n<polyline clip-path=\"url(#clip332)\" style=\"stroke:#3da44d; stroke-linecap:round; stroke-linejoin:round; stroke-width:4; stroke-opacity:1; fill:none\" points=\"271.594,160.256 278.329,172.499 285.064,184.702 291.799,196.866 298.534,208.99 305.27,221.072 312.005,233.112 318.74,245.109 325.475,257.061 332.21,268.968 338.945,280.83 345.68,292.644 352.416,304.411 359.151,316.129 365.886,327.798 372.621,339.416 379.356,350.983 386.091,362.498 392.827,373.96 399.562,385.368 406.297,396.721 413.032,408.019 419.767,419.261 426.502,430.445 433.237,441.571 439.973,452.639 446.708,463.647 453.443,474.594 460.178,485.48 466.913,496.304 473.648,507.065 480.384,517.763 487.119,528.396 493.854,538.964 500.589,549.465 507.324,559.9 514.059,570.267 520.794,580.565 527.53,590.795 534.265,600.954 541,611.043 547.735,621.06 554.47,631.005 561.205,640.877 567.941,650.675 574.676,660.399 581.411,670.047 588.146,679.619 594.881,689.115 601.616,698.533 608.351,707.872 615.087,717.133 621.822,726.314 628.557,735.414 635.292,744.433 642.027,753.371 648.762,762.225 655.497,770.996 662.233,779.683 668.968,788.286 675.703,796.802 682.438,805.233 689.173,813.576 695.908,821.832 702.644,830 709.379,838.078 716.114,846.067 722.849,853.965 729.584,861.771 736.319,869.486 743.054,877.109 749.79,884.638 756.525,892.073 763.26,899.413 769.995,906.658 776.73,913.807 783.465,920.859 790.201,927.813 796.936,934.67 803.671,941.427 810.406,948.085 817.141,954.643 823.876,961.1 830.611,967.455 837.347,973.708 844.082,979.859 850.817,985.905 857.552,991.847 864.287,997.684 871.022,1003.42 877.758,1009.04 884.493,1014.56 891.228,1019.97 897.963,1025.27 904.698,1030.46 911.433,1035.55 918.168,1040.52 924.904,1045.38 931.639,1050.13 938.374,1054.77 945.109,1059.29 951.844,1063.7 958.579,1068 965.314,1072.18 972.05,1076.25 978.785,1080.2 985.52,1084.03 992.255,1087.74 998.99,1091.34 1005.73,1094.81 1012.46,1098.17 1019.2,1101.4 1025.93,1104.52 1032.67,1107.51 1039.4,1110.38 1046.14,1113.13 1052.87,1115.75 1059.61,1118.25 1066.34,1120.62 1073.08,1122.87 1079.81,1124.99 1086.55,1126.98 1093.28,1128.85 1100.02,1130.58 1106.75,1132.19 1113.49,1133.67 1120.22,1135.02 1126.96,1136.23 1133.69,1137.32 1140.43,1138.27 1147.16,1139.08 1153.9,1139.77 1160.63,1140.32 1167.37,1140.73 1174.1,1141.01 1180.84,1141.15 1187.57,1141.18 1194.31,1141.17 1201.04,1141.17 1207.78,1141.17 1214.52,1141.17 1221.25,1141.17 1227.99,1141.17 1234.72,1141.17 1241.46,1141.17 1248.19,1141.17 1254.93,1141.17 1261.66,1141.17 1268.4,1141.17 1275.13,1141.17 1281.87,1141.17 1288.6,1141.17 1295.34,1141.17 1302.07,1141.17 1308.81,1141.17 1315.54,1141.17 1322.28,1141.17 1329.01,1141.17 1335.75,1141.18 1342.48,1141.18 1349.22,1141.18 1355.95,1141.18 1362.69,1141.18 1369.42,1141.18 1376.16,1141.18 1382.89,1141.18 1389.63,1141.18 1396.36,1141.18 1403.1,1141.18 1409.83,1141.18 1416.57,1141.18 1423.3,1141.18 1430.04,1141.18 1436.78,1141.18 1443.51,1141.18 1450.25,1141.18 1456.98,1141.18 1463.72,1141.18 1470.45,1141.18 1477.19,1141.18 1483.92,1141.18 1490.66,1141.18 1497.39,1141.18 1504.13,1141.18 1510.86,1141.18 1517.6,1141.18 1524.33,1141.18 1531.07,1141.18 1537.8,1141.18 1544.54,1141.18 1551.27,1141.18 1558.01,1141.18 1564.74,1141.18 1571.48,1141.18 1578.21,1141.18 1584.95,1141.18 1591.68,1141.18 1598.42,1141.18 1605.15,1141.18 1611.89,1141.17 1618.62,1141.17 1625.36,1141.17 1632.09,1141.17 1638.83,1141.17 1645.56,1141.17 1652.3,1141.17 1659.04,1141.17 1665.77,1141.17 1672.51,1141.17 1679.24,1141.17 1685.98,1141.17 1692.71,1141.17 1699.45,1141.17 1706.18,1141.17 1712.92,1141.17 1719.65,1141.17 1726.39,1141.17 1733.12,1141.17 1739.86,1141.17 1746.59,1141.17 1753.33,1141.17 1760.06,1141.17 1766.8,1141.17 1773.53,1141.17 1780.27,1141.17 1787,1141.17 1793.74,1141.17 1800.47,1141.17 1807.21,1141.17 1813.94,1141.17 1820.68,1141.17 1827.41,1141.17 1834.15,1141.17 1840.88,1141.17 1847.62,1141.17 1854.35,1141.17 1861.09,1141.17 1867.82,1141.17 1874.56,1141.17 1881.3,1141.17 1888.03,1141.16 1894.77,1141.16 1901.5,1141.16 1908.24,1141.16 1914.97,1141.16 1921.71,1141.16 1928.44,1141.16 1935.18,1141.16 1941.91,1141.16 1948.65,1141.16 1955.38,1141.16 1962.12,1141.16 1968.85,1141.16 1975.59,1141.16 1982.32,1141.16 1989.06,1141.16 1995.79,1141.16 2002.53,1141.16 2009.26,1141.16 2016,1141.16 2022.73,1141.16 2029.47,1141.16 2036.2,1141.16 2042.94,1141.16 2049.67,1141.16 2056.41,1141.16 2063.14,1141.16 2069.88,1141.16 2076.61,1141.16 2083.35,1141.16 2090.08,1141.16 2096.82,1141.16 2103.56,1141.16 2110.29,1141.16 2117.03,1141.16 2123.76,1141.16 2130.5,1141.16 2137.23,1141.16 2143.97,1141.16 2150.7,1141.16 2157.44,1141.16 2164.17,1141.16 2170.91,1141.16 2177.64,1141.16 2184.38,1141.16 2191.11,1141.16 2197.85,1141.16 2204.58,1141.16 2211.32,1141.16 2218.05,1141.16 2224.79,1141.16 2231.52,1141.16 2238.26,1141.16 2244.99,1141.16 2251.73,1141.17 2258.46,1141.17 2265.2,1141.17 2271.93,1141.17 2278.67,1141.17 2285.4,1141.17 2292.14,1141.17 \"/>\n<polyline clip-path=\"url(#clip332)\" style=\"stroke:#c271d2; stroke-linecap:round; stroke-linejoin:round; stroke-width:4; stroke-opacity:1; fill:none\" stroke-dasharray=\"16, 10\" points=\"271.594,1288.3 278.329,1286.49 285.064,1284.68 291.799,1282.88 298.534,1281.09 305.27,1279.31 312.005,1277.55 318.74,1275.79 325.475,1274.04 332.21,1272.3 338.945,1270.57 345.68,1268.85 352.416,1267.15 359.151,1265.45 365.886,1263.76 372.621,1262.08 379.356,1260.41 386.091,1258.75 392.827,1257.11 399.562,1255.47 406.297,1253.84 413.032,1252.22 419.767,1250.61 426.502,1249.02 433.237,1247.43 439.973,1245.85 446.708,1244.28 453.443,1242.73 460.178,1241.18 466.913,1239.64 473.648,1238.12 480.384,1236.6 487.119,1235.09 493.854,1233.6 500.589,1232.11 507.324,1230.63 514.059,1229.17 520.794,1227.71 527.53,1226.26 534.265,1224.83 541,1223.4 547.735,1221.98 554.47,1220.58 561.205,1219.18 567.941,1217.8 574.676,1216.42 581.411,1215.05 588.146,1213.7 594.881,1212.35 601.616,1211.02 608.351,1209.69 615.087,1208.37 621.822,1207.07 628.557,1205.77 635.292,1204.49 642.027,1203.21 648.762,1201.94 655.497,1200.69 662.233,1199.44 668.968,1198.2 675.703,1196.98 682.438,1195.76 689.173,1194.55 695.908,1193.35 702.644,1192.17 709.379,1190.99 716.114,1189.82 722.849,1188.66 729.584,1187.51 736.319,1186.37 743.054,1185.24 749.79,1184.12 756.525,1183.01 763.26,1181.91 769.995,1180.82 776.73,1179.74 783.465,1178.67 790.201,1177.6 796.936,1176.55 803.671,1175.51 810.406,1174.47 817.141,1173.45 823.876,1172.43 830.611,1171.43 837.347,1170.43 844.082,1169.44 850.817,1168.47 857.552,1167.5 864.287,1166.54 871.022,1165.59 877.758,1164.65 884.493,1163.72 891.228,1162.8 897.963,1161.88 904.698,1160.98 911.433,1160.09 918.168,1159.2 924.904,1158.32 931.639,1157.46 938.374,1156.6 945.109,1155.75 951.844,1154.91 958.579,1154.08 965.314,1153.26 972.05,1152.44 978.785,1151.64 985.52,1150.84 992.255,1150.06 998.99,1149.28 1005.73,1148.51 1012.46,1147.75 1019.2,1147 1025.93,1146.26 1032.67,1145.52 1039.4,1144.8 1046.14,1144.08 1052.87,1143.38 1059.61,1142.68 1066.34,1141.99 1073.08,1141.3 1079.81,1140.63 1086.55,1139.97 1093.28,1139.31 1100.02,1138.66 1106.75,1138.02 1113.49,1137.39 1120.22,1136.77 1126.96,1136.16 1133.69,1135.55 1140.43,1134.95 1147.16,1134.37 1153.9,1133.78 1160.63,1133.21 1167.37,1132.65 1174.1,1132.09 1180.84,1131.55 1187.57,1131.01 1194.31,1130.48 1201.04,1129.95 1207.78,1129.44 1214.52,1128.93 1221.25,1128.43 1227.99,1127.94 1234.72,1127.46 1241.46,1126.99 1248.19,1126.52 1254.93,1126.06 1261.66,1125.61 1268.4,1125.17 1275.13,1124.73 1281.87,1124.31 1288.6,1123.89 1295.34,1123.48 1302.07,1123.07 1308.81,1122.68 1315.54,1122.29 1322.28,1121.91 1329.01,1121.54 1335.75,1121.17 1342.48,1120.82 1349.22,1120.47 1355.95,1120.13 1362.69,1119.79 1369.42,1119.47 1376.16,1119.15 1382.89,1118.84 1389.63,1118.53 1396.36,1118.24 1403.1,1117.95 1409.83,1117.67 1416.57,1117.4 1423.3,1117.13 1430.04,1116.87 1436.78,1116.62 1443.51,1116.38 1450.25,1116.14 1456.98,1115.92 1463.72,1115.69 1470.45,1115.48 1477.19,1115.27 1483.92,1115.07 1490.66,1114.88 1497.39,1114.7 1504.13,1114.52 1510.86,1114.35 1517.6,1114.19 1524.33,1114.03 1531.07,1113.88 1537.8,1113.74 1544.54,1113.61 1551.27,1113.48 1558.01,1113.36 1564.74,1113.25 1571.48,1113.15 1578.21,1113.05 1584.95,1112.96 1591.68,1112.87 1598.42,1112.8 1605.15,1112.73 1611.89,1112.66 1618.62,1112.61 1625.36,1112.56 1632.09,1112.52 1638.83,1112.48 1645.56,1112.45 1652.3,1112.43 1659.04,1112.42 1665.77,1112.41 1672.51,1112.41 1679.24,1112.42 1685.98,1112.43 1692.71,1112.45 1699.45,1112.48 1706.18,1112.52 1712.92,1112.56 1719.65,1112.61 1726.39,1112.66 1733.12,1112.72 1739.86,1112.79 1746.59,1112.87 1753.33,1112.95 1760.06,1113.04 1766.8,1113.13 1773.53,1113.24 1780.27,1113.35 1787,1113.46 1793.74,1113.59 1800.47,1113.72 1807.21,1113.85 1813.94,1114 1820.68,1114.15 1827.41,1114.3 1834.15,1114.47 1840.88,1114.64 1847.62,1114.82 1854.35,1115 1861.09,1115.19 1867.82,1115.39 1874.56,1115.59 1881.3,1115.8 1888.03,1116.02 1894.77,1116.24 1901.5,1116.47 1908.24,1116.71 1914.97,1116.95 1921.71,1117.2 1928.44,1117.46 1935.18,1117.72 1941.91,1118 1948.65,1118.27 1955.38,1118.56 1962.12,1118.85 1968.85,1119.14 1975.59,1119.45 1982.32,1119.76 1989.06,1120.07 1995.79,1120.4 2002.53,1120.73 2009.26,1121.06 2016,1121.41 2022.73,1121.76 2029.47,1122.11 2036.2,1122.48 2042.94,1122.85 2049.67,1123.22 2056.41,1123.61 2063.14,1124 2069.88,1124.39 2076.61,1124.8 2083.35,1125.2 2090.08,1125.62 2096.82,1126.04 2103.56,1126.47 2110.29,1126.91 2117.03,1127.35 2123.76,1127.8 2130.5,1128.25 2137.23,1128.72 2143.97,1129.19 2150.7,1129.66 2157.44,1130.14 2164.17,1130.63 2170.91,1131.13 2177.64,1131.63 2184.38,1132.14 2191.11,1132.65 2197.85,1133.17 2204.58,1133.7 2211.32,1134.24 2218.05,1134.78 2224.79,1135.32 2231.52,1135.88 2238.26,1136.44 2244.99,1137.01 2251.73,1137.58 2258.46,1138.16 2265.2,1138.75 2271.93,1139.35 2278.67,1139.95 2285.4,1140.55 2292.14,1141.17 \"/>\n<polyline clip-path=\"url(#clip332)\" style=\"stroke:#ac8d18; stroke-linecap:round; stroke-linejoin:round; stroke-width:4; stroke-opacity:1; fill:none\" stroke-dasharray=\"16, 10\" points=\"271.594,1043.08 278.329,1056.7 285.064,1069.83 291.799,1082.44 298.534,1094.55 305.27,1106.15 312.005,1117.24 318.74,1127.83 325.475,1137.92 332.21,1147.49 338.945,1156.56 345.68,1165.13 352.416,1173.19 359.151,1180.74 365.886,1187.78 372.621,1194.32 379.356,1200.36 386.091,1205.88 392.827,1210.91 399.562,1215.42 406.297,1219.43 413.032,1222.94 419.767,1225.94 426.502,1228.43 433.237,1230.42 439.973,1231.9 446.708,1232.87 453.443,1233.34 460.178,1233.3 466.913,1232.76 473.648,1231.71 480.384,1230.16 487.119,1228.1 493.854,1225.54 500.589,1222.47 507.324,1218.89 514.059,1214.81 520.794,1210.22 527.53,1205.13 534.265,1199.53 541,1193.42 547.735,1186.81 554.47,1179.69 561.205,1172.07 567.941,1163.94 574.676,1155.31 581.411,1146.17 588.146,1140.78 594.881,1140.48 601.616,1141.03 608.351,1141.22 615.087,1141.2 621.822,1141.17 628.557,1141.16 635.292,1141.17 642.027,1141.17 648.762,1141.17 655.497,1141.17 662.233,1141.17 668.968,1141.17 675.703,1141.17 682.438,1141.17 689.173,1141.17 695.908,1141.17 702.644,1141.17 709.379,1141.17 716.114,1141.17 722.849,1141.17 729.584,1141.17 736.319,1141.17 743.054,1141.17 749.79,1141.17 756.525,1141.17 763.26,1141.17 769.995,1141.17 776.73,1141.17 783.465,1141.17 790.201,1141.17 796.936,1141.17 803.671,1141.17 810.406,1141.17 817.141,1141.17 823.876,1141.17 830.611,1141.17 837.347,1141.17 844.082,1141.17 850.817,1141.17 857.552,1141.17 864.287,1141.17 871.022,1141.17 877.758,1141.17 884.493,1141.17 891.228,1141.17 897.963,1141.17 904.698,1141.17 911.433,1141.17 918.168,1141.17 924.904,1141.17 931.639,1141.17 938.374,1141.17 945.109,1141.17 951.844,1141.17 958.579,1141.17 965.314,1141.17 972.05,1141.17 978.785,1141.17 985.52,1141.17 992.255,1141.17 998.99,1141.17 1005.73,1141.17 1012.46,1141.17 1019.2,1141.17 1025.93,1141.17 1032.67,1141.17 1039.4,1141.17 1046.14,1141.17 1052.87,1141.17 1059.61,1141.17 1066.34,1141.17 1073.08,1141.17 1079.81,1141.17 1086.55,1141.17 1093.28,1141.17 1100.02,1141.17 1106.75,1141.17 1113.49,1141.17 1120.22,1141.17 1126.96,1141.17 1133.69,1141.17 1140.43,1141.17 1147.16,1141.17 1153.9,1141.17 1160.63,1141.17 1167.37,1141.17 1174.1,1141.17 1180.84,1141.17 1187.57,1141.17 1194.31,1141.17 1201.04,1141.17 1207.78,1141.17 1214.52,1141.17 1221.25,1141.17 1227.99,1141.17 1234.72,1141.17 1241.46,1141.17 1248.19,1141.17 1254.93,1141.17 1261.66,1141.17 1268.4,1141.17 1275.13,1141.17 1281.87,1141.17 1288.6,1141.17 1295.34,1141.17 1302.07,1141.17 1308.81,1141.17 1315.54,1141.17 1322.28,1141.17 1329.01,1141.17 1335.75,1141.17 1342.48,1141.17 1349.22,1141.17 1355.95,1141.17 1362.69,1141.17 1369.42,1141.17 1376.16,1141.17 1382.89,1141.17 1389.63,1141.17 1396.36,1141.17 1403.1,1141.17 1409.83,1141.17 1416.57,1141.17 1423.3,1141.17 1430.04,1141.17 1436.78,1141.17 1443.51,1141.17 1450.25,1141.17 1456.98,1141.17 1463.72,1141.17 1470.45,1141.17 1477.19,1141.17 1483.92,1141.17 1490.66,1141.17 1497.39,1141.17 1504.13,1141.17 1510.86,1141.17 1517.6,1141.17 1524.33,1141.17 1531.07,1141.17 1537.8,1141.17 1544.54,1141.17 1551.27,1141.17 1558.01,1141.17 1564.74,1141.17 1571.48,1141.17 1578.21,1141.17 1584.95,1141.17 1591.68,1141.17 1598.42,1141.17 1605.15,1141.17 1611.89,1141.17 1618.62,1141.17 1625.36,1141.17 1632.09,1141.17 1638.83,1141.17 1645.56,1141.17 1652.3,1141.17 1659.04,1141.17 1665.77,1141.17 1672.51,1141.17 1679.24,1141.17 1685.98,1141.17 1692.71,1141.17 1699.45,1141.17 1706.18,1141.17 1712.92,1141.17 1719.65,1141.17 1726.39,1141.17 1733.12,1141.17 1739.86,1141.17 1746.59,1141.17 1753.33,1141.17 1760.06,1141.17 1766.8,1141.17 1773.53,1141.17 1780.27,1141.17 1787,1141.17 1793.74,1141.17 1800.47,1141.17 1807.21,1141.17 1813.94,1141.17 1820.68,1141.17 1827.41,1141.17 1834.15,1141.17 1840.88,1141.17 1847.62,1141.17 1854.35,1141.17 1861.09,1141.17 1867.82,1141.17 1874.56,1141.17 1881.3,1141.17 1888.03,1141.17 1894.77,1141.17 1901.5,1141.17 1908.24,1141.17 1914.97,1141.17 1921.71,1141.17 1928.44,1141.17 1935.18,1141.17 1941.91,1141.17 1948.65,1141.17 1955.38,1141.17 1962.12,1141.17 1968.85,1141.17 1975.59,1141.17 1982.32,1141.17 1989.06,1141.17 1995.79,1141.17 2002.53,1141.17 2009.26,1141.17 2016,1141.17 2022.73,1141.17 2029.47,1141.17 2036.2,1141.17 2042.94,1141.17 2049.67,1141.17 2056.41,1141.17 2063.14,1141.17 2069.88,1141.17 2076.61,1141.17 2083.35,1141.17 2090.08,1141.17 2096.82,1141.17 2103.56,1141.17 2110.29,1141.17 2117.03,1141.17 2123.76,1141.17 2130.5,1141.17 2137.23,1141.17 2143.97,1141.17 2150.7,1141.17 2157.44,1141.17 2164.17,1141.17 2170.91,1141.17 2177.64,1141.17 2184.38,1141.17 2191.11,1141.17 2197.85,1141.17 2204.58,1141.17 2211.32,1141.17 2218.05,1141.17 2224.79,1141.17 2231.52,1141.17 2238.26,1141.17 2244.99,1141.17 2251.73,1141.17 2258.46,1141.17 2265.2,1141.17 2271.93,1141.17 2278.67,1141.17 2285.4,1141.17 2292.14,1141.17 \"/>\n<polyline clip-path=\"url(#clip332)\" style=\"stroke:#00a9ad; stroke-linecap:round; stroke-linejoin:round; stroke-width:4; stroke-opacity:1; fill:none\" stroke-dasharray=\"16, 10\" points=\"271.594,1386.4 278.329,1385.63 285.064,1384.85 291.799,1384.05 298.534,1383.23 305.27,1382.39 312.005,1381.54 318.74,1380.66 325.475,1379.77 332.21,1378.86 338.945,1377.93 345.68,1376.98 352.416,1376.02 359.151,1375.04 365.886,1374.04 372.621,1373.02 379.356,1371.99 386.091,1370.94 392.827,1369.87 399.562,1368.79 406.297,1367.69 413.032,1366.57 419.767,1365.43 426.502,1364.28 433.237,1363.11 439.973,1361.93 446.708,1360.72 453.443,1359.51 460.178,1358.27 466.913,1357.02 473.648,1355.76 480.384,1354.48 487.119,1353.18 493.854,1351.86 500.589,1350.53 507.324,1349.19 514.059,1347.83 520.794,1346.45 527.53,1345.06 534.265,1343.65 541,1342.23 547.735,1340.79 554.47,1339.34 561.205,1337.87 567.941,1336.39 574.676,1334.89 581.411,1333.38 588.146,1331.85 594.881,1330.3 601.616,1328.75 608.351,1327.17 615.087,1325.59 621.822,1323.98 628.557,1322.37 635.292,1320.74 642.027,1319.09 648.762,1317.43 655.497,1315.75 662.233,1314.07 668.968,1312.36 675.703,1310.64 682.438,1308.91 689.173,1307.16 695.908,1305.4 702.644,1303.63 709.379,1301.84 716.114,1300.04 722.849,1298.22 729.584,1296.39 736.319,1294.54 743.054,1292.68 749.79,1290.81 756.525,1288.92 763.26,1287.02 769.995,1285.11 776.73,1283.18 783.465,1281.24 790.201,1279.28 796.936,1277.31 803.671,1275.33 810.406,1273.33 817.141,1271.32 823.876,1269.29 830.611,1267.26 837.347,1265.2 844.082,1263.14 850.817,1261.06 857.552,1258.96 864.287,1256.86 871.022,1254.74 877.758,1252.6 884.493,1250.46 891.228,1248.29 897.963,1246.12 904.698,1243.93 911.433,1241.73 918.168,1239.52 924.904,1237.29 931.639,1235.05 938.374,1232.79 945.109,1230.52 951.844,1228.24 958.579,1225.94 965.314,1223.63 972.05,1221.31 978.785,1218.97 985.52,1216.62 992.255,1214.26 998.99,1211.88 1005.73,1209.49 1012.46,1207.09 1019.2,1204.67 1025.93,1202.24 1032.67,1199.8 1039.4,1197.34 1046.14,1194.87 1052.87,1192.38 1059.61,1189.89 1066.34,1187.37 1073.08,1184.85 1079.81,1182.31 1086.55,1179.76 1093.28,1177.19 1100.02,1174.61 1106.75,1172.02 1113.49,1169.42 1120.22,1166.8 1126.96,1164.16 1133.69,1161.52 1140.43,1158.86 1147.16,1156.18 1153.9,1153.5 1160.63,1150.8 1167.37,1148.08 1174.1,1145.35 1180.84,1142.61 1187.57,1141.04 1194.31,1140.97 1201.04,1141.13 1207.78,1141.18 1214.52,1141.18 1221.25,1141.18 1227.99,1141.18 1234.72,1141.18 1241.46,1141.18 1248.19,1141.18 1254.93,1141.18 1261.66,1141.18 1268.4,1141.18 1275.13,1141.18 1281.87,1141.18 1288.6,1141.18 1295.34,1141.18 1302.07,1141.17 1308.81,1141.17 1315.54,1141.17 1322.28,1141.17 1329.01,1141.17 1335.75,1141.17 1342.48,1141.17 1349.22,1141.17 1355.95,1141.17 1362.69,1141.17 1369.42,1141.17 1376.16,1141.17 1382.89,1141.17 1389.63,1141.17 1396.36,1141.17 1403.1,1141.17 1409.83,1141.17 1416.57,1141.17 1423.3,1141.17 1430.04,1141.17 1436.78,1141.17 1443.51,1141.17 1450.25,1141.17 1456.98,1141.17 1463.72,1141.17 1470.45,1141.17 1477.19,1141.17 1483.92,1141.17 1490.66,1141.17 1497.39,1141.17 1504.13,1141.17 1510.86,1141.17 1517.6,1141.17 1524.33,1141.17 1531.07,1141.17 1537.8,1141.17 1544.54,1141.17 1551.27,1141.17 1558.01,1141.16 1564.74,1141.16 1571.48,1141.16 1578.21,1141.16 1584.95,1141.16 1591.68,1141.16 1598.42,1141.16 1605.15,1141.16 1611.89,1141.16 1618.62,1141.16 1625.36,1141.16 1632.09,1141.16 1638.83,1141.16 1645.56,1141.16 1652.3,1141.16 1659.04,1141.16 1665.77,1141.16 1672.51,1141.16 1679.24,1141.16 1685.98,1141.16 1692.71,1141.16 1699.45,1141.16 1706.18,1141.16 1712.92,1141.16 1719.65,1141.16 1726.39,1141.16 1733.12,1141.16 1739.86,1141.16 1746.59,1141.16 1753.33,1141.16 1760.06,1141.16 1766.8,1141.16 1773.53,1141.16 1780.27,1141.16 1787,1141.16 1793.74,1141.16 1800.47,1141.16 1807.21,1141.16 1813.94,1141.16 1820.68,1141.16 1827.41,1141.16 1834.15,1141.16 1840.88,1141.16 1847.62,1141.16 1854.35,1141.16 1861.09,1141.16 1867.82,1141.16 1874.56,1141.16 1881.3,1141.16 1888.03,1141.16 1894.77,1141.16 1901.5,1141.16 1908.24,1141.16 1914.97,1141.16 1921.71,1141.16 1928.44,1141.16 1935.18,1141.16 1941.91,1141.16 1948.65,1141.16 1955.38,1141.16 1962.12,1141.16 1968.85,1141.16 1975.59,1141.16 1982.32,1141.16 1989.06,1141.17 1995.79,1141.17 2002.53,1141.17 2009.26,1141.17 2016,1141.17 2022.73,1141.17 2029.47,1141.17 2036.2,1141.17 2042.94,1141.17 2049.67,1141.17 2056.41,1141.17 2063.14,1141.17 2069.88,1141.17 2076.61,1141.17 2083.35,1141.17 2090.08,1141.17 2096.82,1141.17 2103.56,1141.17 2110.29,1141.17 2117.03,1141.17 2123.76,1141.17 2130.5,1141.17 2137.23,1141.17 2143.97,1141.17 2150.7,1141.17 2157.44,1141.17 2164.17,1141.17 2170.91,1141.17 2177.64,1141.17 2184.38,1141.17 2191.11,1141.17 2197.85,1141.17 2204.58,1141.17 2211.32,1141.17 2218.05,1141.17 2224.79,1141.17 2231.52,1141.17 2238.26,1141.17 2244.99,1141.17 2251.73,1141.18 2258.46,1141.18 2265.2,1141.18 2271.93,1141.18 2278.67,1141.18 2285.4,1141.18 2292.14,1141.18 \"/>\n<path clip-path=\"url(#clip330)\" d=\"M2023.9 529.676 L2281.36 529.676 L2281.36 166.796 L2023.9 166.796  Z\" fill=\"#ffffff\" fill-rule=\"evenodd\" fill-opacity=\"1\"/>\n<polyline clip-path=\"url(#clip330)\" style=\"stroke:#000000; stroke-linecap:round; stroke-linejoin:round; stroke-width:4; stroke-opacity:1; fill:none\" points=\"2023.9,529.676 2281.36,529.676 2281.36,166.796 2023.9,166.796 2023.9,529.676 \"/>\n<polyline clip-path=\"url(#clip330)\" style=\"stroke:#009af9; stroke-linecap:round; stroke-linejoin:round; stroke-width:4; stroke-opacity:1; fill:none\" points=\"2047.7,218.636 2190.48,218.636 \"/>\n<path clip-path=\"url(#clip330)\" d=\"M2238.93 209.99 L2229.56 222.606 L2239.42 235.916 L2234.39 235.916 L2226.85 225.731 L2219.3 235.916 L2214.28 235.916 L2224.35 222.351 L2215.14 209.99 L2220.16 209.99 L2227.03 219.226 L2233.91 209.99 L2238.93 209.99 Z\" fill=\"#000000\" fill-rule=\"evenodd\" fill-opacity=\"1\" /><path clip-path=\"url(#clip330)\" d=\"M2244.58 233.369 L2249.3 233.369 L2249.3 219.226 L2244.14 220.175 L2244.14 217.49 L2249.46 216.587 L2252.64 216.587 L2252.64 233.369 L2257.38 233.369 L2257.38 235.916 L2244.58 235.916 L2244.58 233.369 Z\" fill=\"#000000\" fill-rule=\"evenodd\" fill-opacity=\"1\" /><polyline clip-path=\"url(#clip330)\" style=\"stroke:#e26f46; stroke-linecap:round; stroke-linejoin:round; stroke-width:4; stroke-opacity:1; fill:none\" points=\"2047.7,270.476 2190.48,270.476 \"/>\n<path clip-path=\"url(#clip330)\" d=\"M2238.93 261.83 L2229.56 274.446 L2239.42 287.756 L2234.39 287.756 L2226.85 277.571 L2219.3 287.756 L2214.28 287.756 L2224.35 274.191 L2215.14 261.83 L2220.16 261.83 L2227.03 271.066 L2233.91 261.83 L2238.93 261.83 Z\" fill=\"#000000\" fill-rule=\"evenodd\" fill-opacity=\"1\" /><path clip-path=\"url(#clip330)\" d=\"M2247.17 285.117 L2256.99 285.117 L2256.99 287.756 L2243.14 287.756 L2243.14 285.209 Q2243.93 284.492 2245.39 283.196 Q2253.35 276.135 2253.35 273.959 Q2253.35 272.432 2252.15 271.506 Q2250.95 270.557 2248.98 270.557 Q2247.77 270.557 2246.36 270.973 Q2244.95 271.367 2243.28 272.177 L2243.28 269.33 Q2245.07 268.682 2246.59 268.358 Q2248.14 268.034 2249.46 268.034 Q2252.82 268.034 2254.83 269.561 Q2256.85 271.089 2256.85 273.589 Q2256.85 276.807 2249.19 283.381 Q2247.89 284.492 2247.17 285.117 Z\" fill=\"#000000\" fill-rule=\"evenodd\" fill-opacity=\"1\" /><polyline clip-path=\"url(#clip330)\" style=\"stroke:#3da44d; stroke-linecap:round; stroke-linejoin:round; stroke-width:4; stroke-opacity:1; fill:none\" points=\"2047.7,322.316 2190.48,322.316 \"/>\n<path clip-path=\"url(#clip330)\" d=\"M2238.93 313.67 L2229.56 326.286 L2239.42 339.596 L2234.39 339.596 L2226.85 329.411 L2219.3 339.596 L2214.28 339.596 L2224.35 326.031 L2215.14 313.67 L2220.16 313.67 L2227.03 322.906 L2233.91 313.67 L2238.93 313.67 Z\" fill=\"#000000\" fill-rule=\"evenodd\" fill-opacity=\"1\" /><path clip-path=\"url(#clip330)\" d=\"M2253.1 329.133 Q2255.23 329.549 2256.39 330.823 Q2257.57 332.073 2257.57 333.971 Q2257.57 336.841 2255.37 338.392 Q2253.17 339.943 2249.07 339.943 Q2247.75 339.943 2246.29 339.688 Q2244.86 339.457 2243.24 338.994 L2243.24 336.193 Q2244.44 336.818 2245.81 337.119 Q2247.2 337.42 2248.75 337.42 Q2251.27 337.42 2252.66 336.517 Q2254.05 335.591 2254.05 333.971 Q2254.05 332.258 2252.75 331.378 Q2251.48 330.499 2248.98 330.499 L2246.99 330.499 L2246.99 327.999 L2249.16 327.999 Q2251.34 327.999 2252.45 327.281 Q2253.58 326.54 2253.58 325.151 Q2253.58 323.809 2252.43 323.114 Q2251.27 322.397 2249.07 322.397 Q2248.14 322.397 2246.96 322.605 Q2245.78 322.813 2243.91 323.346 L2243.91 320.684 Q2245.6 320.29 2247.08 320.082 Q2248.56 319.874 2249.83 319.874 Q2253.17 319.874 2255.11 321.239 Q2257.08 322.605 2257.08 324.897 Q2257.08 326.494 2256.04 327.605 Q2255 328.716 2253.1 329.133 Z\" fill=\"#000000\" fill-rule=\"evenodd\" fill-opacity=\"1\" /><polyline clip-path=\"url(#clip330)\" style=\"stroke:#c271d2; stroke-linecap:round; stroke-linejoin:round; stroke-width:4; stroke-opacity:1; fill:none\" stroke-dasharray=\"16, 10\" points=\"2047.7,374.156 2190.48,374.156 \"/>\n<path clip-path=\"url(#clip330)\" d=\"M2238.93 365.51 L2229.56 378.126 L2239.42 391.436 L2234.39 391.436 L2226.85 381.251 L2219.3 391.436 L2214.28 391.436 L2224.35 377.871 L2215.14 365.51 L2220.16 365.51 L2227.03 374.746 L2233.91 365.51 L2238.93 365.51 Z\" fill=\"#000000\" fill-rule=\"evenodd\" fill-opacity=\"1\" /><path clip-path=\"url(#clip330)\" d=\"M2226.94 355.417 L2231.2 355.417 L2231.2 360.811 L2226.94 360.811 L2226.94 355.417 M2229.12 364.885 L2229.12 364.885 Z\" fill=\"#000000\" fill-rule=\"evenodd\" fill-opacity=\"1\" /><path clip-path=\"url(#clip330)\" d=\"M2244.58 388.889 L2249.3 388.889 L2249.3 374.746 L2244.14 375.695 L2244.14 373.01 L2249.46 372.107 L2252.64 372.107 L2252.64 388.889 L2257.38 388.889 L2257.38 391.436 L2244.58 391.436 L2244.58 388.889 Z\" fill=\"#000000\" fill-rule=\"evenodd\" fill-opacity=\"1\" /><polyline clip-path=\"url(#clip330)\" style=\"stroke:#ac8d18; stroke-linecap:round; stroke-linejoin:round; stroke-width:4; stroke-opacity:1; fill:none\" stroke-dasharray=\"16, 10\" points=\"2047.7,425.996 2190.48,425.996 \"/>\n<path clip-path=\"url(#clip330)\" d=\"M2238.93 417.35 L2229.56 429.966 L2239.42 443.276 L2234.39 443.276 L2226.85 433.091 L2219.3 443.276 L2214.28 443.276 L2224.35 429.711 L2215.14 417.35 L2220.16 417.35 L2227.03 426.586 L2233.91 417.35 L2238.93 417.35 Z\" fill=\"#000000\" fill-rule=\"evenodd\" fill-opacity=\"1\" /><path clip-path=\"url(#clip330)\" d=\"M2226.94 407.257 L2231.2 407.257 L2231.2 412.651 L2226.94 412.651 L2226.94 407.257 M2229.12 416.725 L2229.12 416.725 Z\" fill=\"#000000\" fill-rule=\"evenodd\" fill-opacity=\"1\" /><path clip-path=\"url(#clip330)\" d=\"M2247.17 440.637 L2256.99 440.637 L2256.99 443.276 L2243.14 443.276 L2243.14 440.729 Q2243.93 440.012 2245.39 438.716 Q2253.35 431.655 2253.35 429.479 Q2253.35 427.952 2252.15 427.026 Q2250.95 426.077 2248.98 426.077 Q2247.77 426.077 2246.36 426.493 Q2244.95 426.887 2243.28 427.697 L2243.28 424.85 Q2245.07 424.202 2246.59 423.878 Q2248.14 423.554 2249.46 423.554 Q2252.82 423.554 2254.83 425.081 Q2256.85 426.609 2256.85 429.109 Q2256.85 432.327 2249.19 438.901 Q2247.89 440.012 2247.17 440.637 Z\" fill=\"#000000\" fill-rule=\"evenodd\" fill-opacity=\"1\" /><polyline clip-path=\"url(#clip330)\" style=\"stroke:#00a9ad; stroke-linecap:round; stroke-linejoin:round; stroke-width:4; stroke-opacity:1; fill:none\" stroke-dasharray=\"16, 10\" points=\"2047.7,477.836 2190.48,477.836 \"/>\n<path clip-path=\"url(#clip330)\" d=\"M2238.93 469.19 L2229.56 481.806 L2239.42 495.116 L2234.39 495.116 L2226.85 484.931 L2219.3 495.116 L2214.28 495.116 L2224.35 481.551 L2215.14 469.19 L2220.16 469.19 L2227.03 478.426 L2233.91 469.19 L2238.93 469.19 Z\" fill=\"#000000\" fill-rule=\"evenodd\" fill-opacity=\"1\" /><path clip-path=\"url(#clip330)\" d=\"M2226.94 459.097 L2231.2 459.097 L2231.2 464.491 L2226.94 464.491 L2226.94 459.097 M2229.12 468.565 L2229.12 468.565 Z\" fill=\"#000000\" fill-rule=\"evenodd\" fill-opacity=\"1\" /><path clip-path=\"url(#clip330)\" d=\"M2253.1 484.653 Q2255.23 485.069 2256.39 486.343 Q2257.57 487.593 2257.57 489.491 Q2257.57 492.361 2255.37 493.912 Q2253.17 495.463 2249.07 495.463 Q2247.75 495.463 2246.29 495.208 Q2244.86 494.977 2243.24 494.514 L2243.24 491.713 Q2244.44 492.338 2245.81 492.639 Q2247.2 492.94 2248.75 492.94 Q2251.27 492.94 2252.66 492.037 Q2254.05 491.111 2254.05 489.491 Q2254.05 487.778 2252.75 486.898 Q2251.48 486.019 2248.98 486.019 L2246.99 486.019 L2246.99 483.519 L2249.16 483.519 Q2251.34 483.519 2252.45 482.801 Q2253.58 482.06 2253.58 480.671 Q2253.58 479.329 2252.43 478.634 Q2251.27 477.917 2249.07 477.917 Q2248.14 477.917 2246.96 478.125 Q2245.78 478.333 2243.91 478.866 L2243.91 476.204 Q2245.6 475.81 2247.08 475.602 Q2248.56 475.394 2249.83 475.394 Q2253.17 475.394 2255.11 476.759 Q2257.08 478.125 2257.08 480.417 Q2257.08 482.014 2256.04 483.125 Q2255 484.236 2253.1 484.653 Z\" fill=\"#000000\" fill-rule=\"evenodd\" fill-opacity=\"1\" /></svg>\n"
     },
     "metadata": {},
     "output_type": "display_data"
    },
    {
     "data": {
      "image/svg+xml": "<?xml version=\"1.0\" encoding=\"utf-8\"?>\n<svg xmlns=\"http://www.w3.org/2000/svg\" xmlns:xlink=\"http://www.w3.org/1999/xlink\" width=\"600\" height=\"400\" viewBox=\"0 0 2400 1600\">\n<defs>\n  <clipPath id=\"clip370\">\n    <rect x=\"0\" y=\"0\" width=\"2400\" height=\"1600\"/>\n  </clipPath>\n</defs>\n<path clip-path=\"url(#clip370)\" d=\"M0 1600 L2400 1600 L2400 0 L0 0  Z\" fill=\"#ffffff\" fill-rule=\"evenodd\" fill-opacity=\"1\"/>\n<defs>\n  <clipPath id=\"clip371\">\n    <rect x=\"480\" y=\"0\" width=\"1681\" height=\"1600\"/>\n  </clipPath>\n</defs>\n<path clip-path=\"url(#clip370)\" d=\"M242.135 1423.18 L2352.76 1423.18 L2352.76 123.472 L242.135 123.472  Z\" fill=\"#ffffff\" fill-rule=\"evenodd\" fill-opacity=\"1\"/>\n<defs>\n  <clipPath id=\"clip372\">\n    <rect x=\"242\" y=\"123\" width=\"2112\" height=\"1301\"/>\n  </clipPath>\n</defs>\n<polyline clip-path=\"url(#clip372)\" style=\"stroke:#000000; stroke-linecap:round; stroke-linejoin:round; stroke-width:2; stroke-opacity:0.1; fill:none\" points=\"301.869,1423.18 301.869,123.472 \"/>\n<polyline clip-path=\"url(#clip372)\" style=\"stroke:#000000; stroke-linecap:round; stroke-linejoin:round; stroke-width:2; stroke-opacity:0.1; fill:none\" points=\"967.806,1423.18 967.806,123.472 \"/>\n<polyline clip-path=\"url(#clip372)\" style=\"stroke:#000000; stroke-linecap:round; stroke-linejoin:round; stroke-width:2; stroke-opacity:0.1; fill:none\" points=\"1633.74,1423.18 1633.74,123.472 \"/>\n<polyline clip-path=\"url(#clip372)\" style=\"stroke:#000000; stroke-linecap:round; stroke-linejoin:round; stroke-width:2; stroke-opacity:0.1; fill:none\" points=\"2299.68,1423.18 2299.68,123.472 \"/>\n<polyline clip-path=\"url(#clip370)\" style=\"stroke:#000000; stroke-linecap:round; stroke-linejoin:round; stroke-width:4; stroke-opacity:1; fill:none\" points=\"242.135,1423.18 2352.76,1423.18 \"/>\n<polyline clip-path=\"url(#clip370)\" style=\"stroke:#000000; stroke-linecap:round; stroke-linejoin:round; stroke-width:4; stroke-opacity:1; fill:none\" points=\"301.869,1423.18 301.869,1404.28 \"/>\n<polyline clip-path=\"url(#clip370)\" style=\"stroke:#000000; stroke-linecap:round; stroke-linejoin:round; stroke-width:4; stroke-opacity:1; fill:none\" points=\"967.806,1423.18 967.806,1404.28 \"/>\n<polyline clip-path=\"url(#clip370)\" style=\"stroke:#000000; stroke-linecap:round; stroke-linejoin:round; stroke-width:4; stroke-opacity:1; fill:none\" points=\"1633.74,1423.18 1633.74,1404.28 \"/>\n<polyline clip-path=\"url(#clip370)\" style=\"stroke:#000000; stroke-linecap:round; stroke-linejoin:round; stroke-width:4; stroke-opacity:1; fill:none\" points=\"2299.68,1423.18 2299.68,1404.28 \"/>\n<path clip-path=\"url(#clip370)\" d=\"M301.869 1454.1 Q298.258 1454.1 296.429 1457.66 Q294.624 1461.2 294.624 1468.33 Q294.624 1475.44 296.429 1479.01 Q298.258 1482.55 301.869 1482.55 Q305.503 1482.55 307.309 1479.01 Q309.138 1475.44 309.138 1468.33 Q309.138 1461.2 307.309 1457.66 Q305.503 1454.1 301.869 1454.1 M301.869 1450.39 Q307.679 1450.39 310.735 1455 Q313.814 1459.58 313.814 1468.33 Q313.814 1477.06 310.735 1481.67 Q307.679 1486.25 301.869 1486.25 Q296.059 1486.25 292.98 1481.67 Q289.925 1477.06 289.925 1468.33 Q289.925 1459.58 292.98 1455 Q296.059 1450.39 301.869 1450.39 Z\" fill=\"#000000\" fill-rule=\"evenodd\" fill-opacity=\"1\" /><path clip-path=\"url(#clip370)\" d=\"M958.084 1451.02 L976.441 1451.02 L976.441 1454.96 L962.367 1454.96 L962.367 1463.43 Q963.385 1463.08 964.404 1462.92 Q965.422 1462.73 966.441 1462.73 Q972.228 1462.73 975.607 1465.9 Q978.987 1469.08 978.987 1474.49 Q978.987 1480.07 975.515 1483.17 Q972.042 1486.25 965.723 1486.25 Q963.547 1486.25 961.279 1485.88 Q959.033 1485.51 956.626 1484.77 L956.626 1480.07 Q958.709 1481.2 960.931 1481.76 Q963.154 1482.32 965.63 1482.32 Q969.635 1482.32 971.973 1480.21 Q974.311 1478.1 974.311 1474.49 Q974.311 1470.88 971.973 1468.77 Q969.635 1466.67 965.63 1466.67 Q963.755 1466.67 961.88 1467.08 Q960.029 1467.5 958.084 1468.38 L958.084 1451.02 Z\" fill=\"#000000\" fill-rule=\"evenodd\" fill-opacity=\"1\" /><path clip-path=\"url(#clip370)\" d=\"M1608.43 1481.64 L1616.07 1481.64 L1616.07 1455.28 L1607.76 1456.95 L1607.76 1452.69 L1616.02 1451.02 L1620.7 1451.02 L1620.7 1481.64 L1628.34 1481.64 L1628.34 1485.58 L1608.43 1485.58 L1608.43 1481.64 Z\" fill=\"#000000\" fill-rule=\"evenodd\" fill-opacity=\"1\" /><path clip-path=\"url(#clip370)\" d=\"M1647.78 1454.1 Q1644.17 1454.1 1642.34 1457.66 Q1640.54 1461.2 1640.54 1468.33 Q1640.54 1475.44 1642.34 1479.01 Q1644.17 1482.55 1647.78 1482.55 Q1651.42 1482.55 1653.22 1479.01 Q1655.05 1475.44 1655.05 1468.33 Q1655.05 1461.2 1653.22 1457.66 Q1651.42 1454.1 1647.78 1454.1 M1647.78 1450.39 Q1653.59 1450.39 1656.65 1455 Q1659.73 1459.58 1659.73 1468.33 Q1659.73 1477.06 1656.65 1481.67 Q1653.59 1486.25 1647.78 1486.25 Q1641.97 1486.25 1638.89 1481.67 Q1635.84 1477.06 1635.84 1468.33 Q1635.84 1459.58 1638.89 1455 Q1641.97 1450.39 1647.78 1450.39 Z\" fill=\"#000000\" fill-rule=\"evenodd\" fill-opacity=\"1\" /><path clip-path=\"url(#clip370)\" d=\"M2274.87 1481.64 L2282.5 1481.64 L2282.5 1455.28 L2274.19 1456.95 L2274.19 1452.69 L2282.46 1451.02 L2287.13 1451.02 L2287.13 1481.64 L2294.77 1481.64 L2294.77 1485.58 L2274.87 1485.58 L2274.87 1481.64 Z\" fill=\"#000000\" fill-rule=\"evenodd\" fill-opacity=\"1\" /><path clip-path=\"url(#clip370)\" d=\"M2304.26 1451.02 L2322.62 1451.02 L2322.62 1454.96 L2308.55 1454.96 L2308.55 1463.43 Q2309.56 1463.08 2310.58 1462.92 Q2311.6 1462.73 2312.62 1462.73 Q2318.41 1462.73 2321.79 1465.9 Q2325.17 1469.08 2325.17 1474.49 Q2325.17 1480.07 2321.69 1483.17 Q2318.22 1486.25 2311.9 1486.25 Q2309.73 1486.25 2307.46 1485.88 Q2305.21 1485.51 2302.81 1484.77 L2302.81 1480.07 Q2304.89 1481.2 2307.11 1481.76 Q2309.33 1482.32 2311.81 1482.32 Q2315.81 1482.32 2318.15 1480.21 Q2320.49 1478.1 2320.49 1474.49 Q2320.49 1470.88 2318.15 1468.77 Q2315.81 1466.67 2311.81 1466.67 Q2309.94 1466.67 2308.06 1467.08 Q2306.21 1467.5 2304.26 1468.38 L2304.26 1451.02 Z\" fill=\"#000000\" fill-rule=\"evenodd\" fill-opacity=\"1\" /><path clip-path=\"url(#clip370)\" d=\"M1184.9 1522.27 L1184.9 1532.4 L1196.96 1532.4 L1196.96 1536.95 L1184.9 1536.95 L1184.9 1556.3 Q1184.9 1560.66 1186.08 1561.9 Q1187.29 1563.14 1190.95 1563.14 L1196.96 1563.14 L1196.96 1568.04 L1190.95 1568.04 Q1184.17 1568.04 1181.59 1565.53 Q1179.01 1562.98 1179.01 1556.3 L1179.01 1536.95 L1174.71 1536.95 L1174.71 1532.4 L1179.01 1532.4 L1179.01 1522.27 L1184.9 1522.27 Z\" fill=\"#000000\" fill-rule=\"evenodd\" fill-opacity=\"1\" /><path clip-path=\"url(#clip370)\" d=\"M1204.67 1532.4 L1210.52 1532.4 L1210.52 1568.04 L1204.67 1568.04 L1204.67 1532.4 M1204.67 1518.52 L1210.52 1518.52 L1210.52 1525.93 L1204.67 1525.93 L1204.67 1518.52 Z\" fill=\"#000000\" fill-rule=\"evenodd\" fill-opacity=\"1\" /><path clip-path=\"url(#clip370)\" d=\"M1250.53 1539.24 Q1252.73 1535.29 1255.78 1533.41 Q1258.84 1531.54 1262.97 1531.54 Q1268.54 1531.54 1271.57 1535.45 Q1274.59 1539.33 1274.59 1546.53 L1274.59 1568.04 L1268.7 1568.04 L1268.7 1546.72 Q1268.7 1541.59 1266.89 1539.11 Q1265.08 1536.63 1261.35 1536.63 Q1256.8 1536.63 1254.16 1539.65 Q1251.52 1542.68 1251.52 1547.9 L1251.52 1568.04 L1245.63 1568.04 L1245.63 1546.72 Q1245.63 1541.56 1243.81 1539.11 Q1242 1536.63 1238.21 1536.63 Q1233.72 1536.63 1231.08 1539.68 Q1228.44 1542.71 1228.44 1547.9 L1228.44 1568.04 L1222.55 1568.04 L1222.55 1532.4 L1228.44 1532.4 L1228.44 1537.93 Q1230.45 1534.66 1233.25 1533.1 Q1236.05 1531.54 1239.9 1531.54 Q1243.78 1531.54 1246.49 1533.51 Q1249.23 1535.48 1250.53 1539.24 Z\" fill=\"#000000\" fill-rule=\"evenodd\" fill-opacity=\"1\" /><path clip-path=\"url(#clip370)\" d=\"M1316.77 1548.76 L1316.77 1551.62 L1289.84 1551.62 Q1290.22 1557.67 1293.47 1560.85 Q1296.75 1564 1302.57 1564 Q1305.94 1564 1309.09 1563.17 Q1312.28 1562.35 1315.4 1560.69 L1315.4 1566.23 Q1312.25 1567.57 1308.94 1568.27 Q1305.63 1568.97 1302.22 1568.97 Q1293.69 1568.97 1288.69 1564 Q1283.73 1559.04 1283.73 1550.57 Q1283.73 1541.82 1288.44 1536.69 Q1293.18 1531.54 1301.2 1531.54 Q1308.39 1531.54 1312.56 1536.18 Q1316.77 1540.8 1316.77 1548.76 M1310.91 1547.04 Q1310.85 1542.23 1308.2 1539.37 Q1305.59 1536.5 1301.26 1536.5 Q1296.36 1536.5 1293.4 1539.27 Q1290.47 1542.04 1290.03 1547.07 L1310.91 1547.04 Z\" fill=\"#000000\" fill-rule=\"evenodd\" fill-opacity=\"1\" /><path clip-path=\"url(#clip370)\" d=\"M1361.17 1518.58 Q1356.9 1525.9 1354.83 1533.06 Q1352.76 1540.23 1352.76 1547.58 Q1352.76 1554.93 1354.83 1562.16 Q1356.93 1569.35 1361.17 1576.64 L1356.07 1576.64 Q1351.3 1569.16 1348.91 1561.93 Q1346.56 1554.71 1346.56 1547.58 Q1346.56 1540.48 1348.91 1533.29 Q1351.27 1526.09 1356.07 1518.58 L1361.17 1518.58 Z\" fill=\"#000000\" fill-rule=\"evenodd\" fill-opacity=\"1\" /><path clip-path=\"url(#clip370)\" d=\"M1395.25 1533.45 L1395.25 1538.98 Q1392.77 1537.71 1390.1 1537.07 Q1387.42 1536.44 1384.56 1536.44 Q1380.2 1536.44 1378 1537.77 Q1375.84 1539.11 1375.84 1541.79 Q1375.84 1543.82 1377.4 1545 Q1378.96 1546.15 1383.67 1547.2 L1385.67 1547.64 Q1391.91 1548.98 1394.52 1551.43 Q1397.16 1553.85 1397.16 1558.21 Q1397.16 1563.17 1393.22 1566.07 Q1389.3 1568.97 1382.43 1568.97 Q1379.56 1568.97 1376.44 1568.39 Q1373.36 1567.85 1369.92 1566.74 L1369.92 1560.69 Q1373.17 1562.38 1376.32 1563.24 Q1379.47 1564.07 1382.55 1564.07 Q1386.69 1564.07 1388.92 1562.66 Q1391.15 1561.23 1391.15 1558.65 Q1391.15 1556.27 1389.53 1554.99 Q1387.93 1553.72 1382.49 1552.54 L1380.45 1552.07 Q1375.01 1550.92 1372.59 1548.56 Q1370.17 1546.18 1370.17 1542.04 Q1370.17 1537.01 1373.74 1534.27 Q1377.3 1531.54 1383.86 1531.54 Q1387.11 1531.54 1389.97 1532.01 Q1392.84 1532.49 1395.25 1533.45 Z\" fill=\"#000000\" fill-rule=\"evenodd\" fill-opacity=\"1\" /><path clip-path=\"url(#clip370)\" d=\"M1405.57 1518.58 L1410.66 1518.58 Q1415.43 1526.09 1417.79 1533.29 Q1420.18 1540.48 1420.18 1547.58 Q1420.18 1554.71 1417.79 1561.93 Q1415.43 1569.16 1410.66 1576.64 L1405.57 1576.64 Q1409.8 1569.35 1411.87 1562.16 Q1413.97 1554.93 1413.97 1547.58 Q1413.97 1540.23 1411.87 1533.06 Q1409.8 1525.9 1405.57 1518.58 Z\" fill=\"#000000\" fill-rule=\"evenodd\" fill-opacity=\"1\" /><polyline clip-path=\"url(#clip372)\" style=\"stroke:#000000; stroke-linecap:round; stroke-linejoin:round; stroke-width:2; stroke-opacity:0.1; fill:none\" points=\"242.135,1344.96 2352.76,1344.96 \"/>\n<polyline clip-path=\"url(#clip372)\" style=\"stroke:#000000; stroke-linecap:round; stroke-linejoin:round; stroke-width:2; stroke-opacity:0.1; fill:none\" points=\"242.135,973.065 2352.76,973.065 \"/>\n<polyline clip-path=\"url(#clip372)\" style=\"stroke:#000000; stroke-linecap:round; stroke-linejoin:round; stroke-width:2; stroke-opacity:0.1; fill:none\" points=\"242.135,601.169 2352.76,601.169 \"/>\n<polyline clip-path=\"url(#clip372)\" style=\"stroke:#000000; stroke-linecap:round; stroke-linejoin:round; stroke-width:2; stroke-opacity:0.1; fill:none\" points=\"242.135,229.273 2352.76,229.273 \"/>\n<polyline clip-path=\"url(#clip370)\" style=\"stroke:#000000; stroke-linecap:round; stroke-linejoin:round; stroke-width:4; stroke-opacity:1; fill:none\" points=\"242.135,1423.18 242.135,123.472 \"/>\n<polyline clip-path=\"url(#clip370)\" style=\"stroke:#000000; stroke-linecap:round; stroke-linejoin:round; stroke-width:4; stroke-opacity:1; fill:none\" points=\"242.135,1344.96 261.032,1344.96 \"/>\n<polyline clip-path=\"url(#clip370)\" style=\"stroke:#000000; stroke-linecap:round; stroke-linejoin:round; stroke-width:4; stroke-opacity:1; fill:none\" points=\"242.135,973.065 261.032,973.065 \"/>\n<polyline clip-path=\"url(#clip370)\" style=\"stroke:#000000; stroke-linecap:round; stroke-linejoin:round; stroke-width:4; stroke-opacity:1; fill:none\" points=\"242.135,601.169 261.032,601.169 \"/>\n<polyline clip-path=\"url(#clip370)\" style=\"stroke:#000000; stroke-linecap:round; stroke-linejoin:round; stroke-width:4; stroke-opacity:1; fill:none\" points=\"242.135,229.273 261.032,229.273 \"/>\n<path clip-path=\"url(#clip370)\" d=\"M114.26 1345.41 L143.936 1345.41 L143.936 1349.35 L114.26 1349.35 L114.26 1345.41 Z\" fill=\"#000000\" fill-rule=\"evenodd\" fill-opacity=\"1\" /><path clip-path=\"url(#clip370)\" d=\"M154.075 1327.68 L172.431 1327.68 L172.431 1331.62 L158.357 1331.62 L158.357 1340.09 Q159.376 1339.74 160.394 1339.58 Q161.413 1339.39 162.431 1339.39 Q168.218 1339.39 171.598 1342.57 Q174.977 1345.74 174.977 1351.15 Q174.977 1356.73 171.505 1359.83 Q168.033 1362.91 161.714 1362.91 Q159.538 1362.91 157.269 1362.54 Q155.024 1362.17 152.616 1361.43 L152.616 1356.73 Q154.7 1357.87 156.922 1358.42 Q159.144 1358.98 161.621 1358.98 Q165.626 1358.98 167.964 1356.87 Q170.302 1354.76 170.302 1351.15 Q170.302 1347.54 167.964 1345.44 Q165.626 1343.33 161.621 1343.33 Q159.746 1343.33 157.871 1343.75 Q156.019 1344.16 154.075 1345.04 L154.075 1327.68 Z\" fill=\"#000000\" fill-rule=\"evenodd\" fill-opacity=\"1\" /><path clip-path=\"url(#clip370)\" d=\"M194.19 1330.76 Q190.579 1330.76 188.75 1334.32 Q186.945 1337.87 186.945 1345 Q186.945 1352.1 188.75 1355.67 Q190.579 1359.21 194.19 1359.21 Q197.825 1359.21 199.63 1355.67 Q201.459 1352.1 201.459 1345 Q201.459 1337.87 199.63 1334.32 Q197.825 1330.76 194.19 1330.76 M194.19 1327.06 Q200 1327.06 203.056 1331.66 Q206.135 1336.25 206.135 1345 Q206.135 1353.72 203.056 1358.33 Q200 1362.91 194.19 1362.91 Q188.38 1362.91 185.301 1358.33 Q182.246 1353.72 182.246 1345 Q182.246 1336.25 185.301 1331.66 Q188.38 1327.06 194.19 1327.06 Z\" fill=\"#000000\" fill-rule=\"evenodd\" fill-opacity=\"1\" /><path clip-path=\"url(#clip370)\" d=\"M194.19 958.864 Q190.579 958.864 188.75 962.429 Q186.945 965.97 186.945 973.1 Q186.945 980.206 188.75 983.771 Q190.579 987.313 194.19 987.313 Q197.825 987.313 199.63 983.771 Q201.459 980.206 201.459 973.1 Q201.459 965.97 199.63 962.429 Q197.825 958.864 194.19 958.864 M194.19 955.16 Q200 955.16 203.056 959.767 Q206.135 964.35 206.135 973.1 Q206.135 981.827 203.056 986.433 Q200 991.016 194.19 991.016 Q188.38 991.016 185.301 986.433 Q182.246 981.827 182.246 973.1 Q182.246 964.35 185.301 959.767 Q188.38 955.16 194.19 955.16 Z\" fill=\"#000000\" fill-rule=\"evenodd\" fill-opacity=\"1\" /><path clip-path=\"url(#clip370)\" d=\"M154.075 583.889 L172.431 583.889 L172.431 587.824 L158.357 587.824 L158.357 596.296 Q159.376 595.949 160.394 595.787 Q161.413 595.602 162.431 595.602 Q168.218 595.602 171.598 598.773 Q174.977 601.944 174.977 607.361 Q174.977 612.94 171.505 616.042 Q168.033 619.12 161.714 619.12 Q159.538 619.12 157.269 618.75 Q155.024 618.379 152.616 617.639 L152.616 612.94 Q154.7 614.074 156.922 614.63 Q159.144 615.185 161.621 615.185 Q165.626 615.185 167.964 613.079 Q170.302 610.972 170.302 607.361 Q170.302 603.75 167.964 601.643 Q165.626 599.537 161.621 599.537 Q159.746 599.537 157.871 599.954 Q156.019 600.37 154.075 601.25 L154.075 583.889 Z\" fill=\"#000000\" fill-rule=\"evenodd\" fill-opacity=\"1\" /><path clip-path=\"url(#clip370)\" d=\"M194.19 586.968 Q190.579 586.968 188.75 590.532 Q186.945 594.074 186.945 601.204 Q186.945 608.31 188.75 611.875 Q190.579 615.417 194.19 615.417 Q197.825 615.417 199.63 611.875 Q201.459 608.31 201.459 601.204 Q201.459 594.074 199.63 590.532 Q197.825 586.968 194.19 586.968 M194.19 583.264 Q200 583.264 203.056 587.87 Q206.135 592.454 206.135 601.204 Q206.135 609.93 203.056 614.537 Q200 619.12 194.19 619.12 Q188.38 619.12 185.301 614.537 Q182.246 609.93 182.246 601.204 Q182.246 592.454 185.301 587.87 Q188.38 583.264 194.19 583.264 Z\" fill=\"#000000\" fill-rule=\"evenodd\" fill-opacity=\"1\" /><path clip-path=\"url(#clip370)\" d=\"M124.677 242.618 L132.316 242.618 L132.316 216.252 L124.005 217.919 L124.005 213.659 L132.269 211.993 L136.945 211.993 L136.945 242.618 L144.584 242.618 L144.584 246.553 L124.677 246.553 L124.677 242.618 Z\" fill=\"#000000\" fill-rule=\"evenodd\" fill-opacity=\"1\" /><path clip-path=\"url(#clip370)\" d=\"M164.028 215.071 Q160.417 215.071 158.589 218.636 Q156.783 222.178 156.783 229.308 Q156.783 236.414 158.589 239.979 Q160.417 243.52 164.028 243.52 Q167.663 243.52 169.468 239.979 Q171.297 236.414 171.297 229.308 Q171.297 222.178 169.468 218.636 Q167.663 215.071 164.028 215.071 M164.028 211.368 Q169.839 211.368 172.894 215.974 Q175.973 220.558 175.973 229.308 Q175.973 238.034 172.894 242.641 Q169.839 247.224 164.028 247.224 Q158.218 247.224 155.14 242.641 Q152.084 238.034 152.084 229.308 Q152.084 220.558 155.14 215.974 Q158.218 211.368 164.028 211.368 Z\" fill=\"#000000\" fill-rule=\"evenodd\" fill-opacity=\"1\" /><path clip-path=\"url(#clip370)\" d=\"M194.19 215.071 Q190.579 215.071 188.75 218.636 Q186.945 222.178 186.945 229.308 Q186.945 236.414 188.75 239.979 Q190.579 243.52 194.19 243.52 Q197.825 243.52 199.63 239.979 Q201.459 236.414 201.459 229.308 Q201.459 222.178 199.63 218.636 Q197.825 215.071 194.19 215.071 M194.19 211.368 Q200 211.368 203.056 215.974 Q206.135 220.558 206.135 229.308 Q206.135 238.034 203.056 242.641 Q200 247.224 194.19 247.224 Q188.38 247.224 185.301 242.641 Q182.246 238.034 182.246 229.308 Q182.246 220.558 185.301 215.974 Q188.38 211.368 194.19 211.368 Z\" fill=\"#000000\" fill-rule=\"evenodd\" fill-opacity=\"1\" /><path clip-path=\"url(#clip370)\" d=\"M49.9359 788.254 L28.3562 788.254 L28.3562 782.397 L49.7131 782.397 Q54.7739 782.397 57.3202 780.424 Q59.8346 778.45 59.8346 774.504 Q59.8346 769.761 56.8109 767.024 Q53.7872 764.255 48.5673 764.255 L28.3562 764.255 L28.3562 758.398 L64.0042 758.398 L64.0042 764.255 L58.5296 764.255 Q61.7762 766.387 63.3676 769.22 Q64.9272 772.021 64.9272 775.745 Q64.9272 781.888 61.1078 785.071 Q57.2883 788.254 49.9359 788.254 M27.4968 773.517 L27.4968 773.517 Z\" fill=\"#000000\" fill-rule=\"evenodd\" fill-opacity=\"1\" /><path clip-path=\"url(#clip370)\" d=\"M1034.58 12.096 L1042.76 12.096 L1042.76 72.576 L1034.58 72.576 L1034.58 12.096 Z\" fill=\"#000000\" fill-rule=\"evenodd\" fill-opacity=\"1\" /><path clip-path=\"url(#clip370)\" d=\"M1096.44 45.1919 L1096.44 72.576 L1088.99 72.576 L1088.99 45.4349 Q1088.99 38.994 1086.47 35.7938 Q1083.96 32.5936 1078.94 32.5936 Q1072.9 32.5936 1069.42 36.4419 Q1065.94 40.2903 1065.94 46.9338 L1065.94 72.576 L1058.44 72.576 L1058.44 27.2059 L1065.94 27.2059 L1065.94 34.2544 Q1068.61 30.163 1072.22 28.1376 Q1075.86 26.1121 1080.6 26.1121 Q1088.42 26.1121 1092.43 30.9732 Q1096.44 35.7938 1096.44 45.1919 Z\" fill=\"#000000\" fill-rule=\"evenodd\" fill-opacity=\"1\" /><path clip-path=\"url(#clip370)\" d=\"M1118.52 65.7705 L1118.52 89.8329 L1111.02 89.8329 L1111.02 27.2059 L1118.52 27.2059 L1118.52 34.0924 Q1120.87 30.0415 1124.43 28.0971 Q1128.04 26.1121 1133.02 26.1121 Q1141.28 26.1121 1146.43 32.6746 Q1151.61 39.2371 1151.61 49.9314 Q1151.61 60.6258 1146.43 67.1883 Q1141.28 73.7508 1133.02 73.7508 Q1128.04 73.7508 1124.43 71.8063 Q1120.87 69.8214 1118.52 65.7705 M1143.88 49.9314 Q1143.88 41.7081 1140.47 37.0496 Q1137.11 32.3505 1131.2 32.3505 Q1125.28 32.3505 1121.88 37.0496 Q1118.52 41.7081 1118.52 49.9314 Q1118.52 58.1548 1121.88 62.8538 Q1125.28 67.5124 1131.2 67.5124 Q1137.11 67.5124 1140.47 62.8538 Q1143.88 58.1548 1143.88 49.9314 Z\" fill=\"#000000\" fill-rule=\"evenodd\" fill-opacity=\"1\" /><path clip-path=\"url(#clip370)\" d=\"M1163.2 54.671 L1163.2 27.2059 L1170.65 27.2059 L1170.65 54.3874 Q1170.65 60.8284 1173.16 64.0691 Q1175.68 67.2693 1180.7 67.2693 Q1186.73 67.2693 1190.22 63.421 Q1193.74 59.5726 1193.74 52.9291 L1193.74 27.2059 L1201.2 27.2059 L1201.2 72.576 L1193.74 72.576 L1193.74 65.6084 Q1191.03 69.7404 1187.42 71.7658 Q1183.86 73.7508 1179.12 73.7508 Q1171.3 73.7508 1167.25 68.8897 Q1163.2 64.0286 1163.2 54.671 M1181.95 26.1121 L1181.95 26.1121 Z\" fill=\"#000000\" fill-rule=\"evenodd\" fill-opacity=\"1\" /><path clip-path=\"url(#clip370)\" d=\"M1223.92 14.324 L1223.92 27.2059 L1239.27 27.2059 L1239.27 32.9987 L1223.92 32.9987 L1223.92 57.6282 Q1223.92 63.1779 1225.42 64.7578 Q1226.96 66.3376 1231.62 66.3376 L1239.27 66.3376 L1239.27 72.576 L1231.62 72.576 Q1222.99 72.576 1219.71 69.3758 Q1216.43 66.1351 1216.43 57.6282 L1216.43 32.9987 L1210.96 32.9987 L1210.96 27.2059 L1216.43 27.2059 L1216.43 14.324 L1223.92 14.324 Z\" fill=\"#000000\" fill-rule=\"evenodd\" fill-opacity=\"1\" /><path clip-path=\"url(#clip370)\" d=\"M1275.77 12.096 L1283.96 12.096 L1283.96 36.8875 L1313.69 36.8875 L1313.69 12.096 L1321.87 12.096 L1321.87 72.576 L1313.69 72.576 L1313.69 43.7741 L1283.96 43.7741 L1283.96 72.576 L1275.77 72.576 L1275.77 12.096 Z\" fill=\"#000000\" fill-rule=\"evenodd\" fill-opacity=\"1\" /><path clip-path=\"url(#clip370)\" d=\"M1337.83 27.2059 L1345.29 27.2059 L1345.29 72.576 L1337.83 72.576 L1337.83 27.2059 M1337.83 9.54393 L1345.29 9.54393 L1345.29 18.9825 L1337.83 18.9825 L1337.83 9.54393 Z\" fill=\"#000000\" fill-rule=\"evenodd\" fill-opacity=\"1\" /><path clip-path=\"url(#clip370)\" d=\"M1389.81 28.5427 L1389.81 35.5912 Q1386.65 33.9709 1383.24 33.1607 Q1379.84 32.3505 1376.19 32.3505 Q1370.65 32.3505 1367.85 34.0519 Q1365.1 35.7533 1365.1 39.156 Q1365.1 41.7486 1367.08 43.2475 Q1369.07 44.7058 1375.06 46.0426 L1377.61 46.6097 Q1385.55 48.3111 1388.87 51.4303 Q1392.24 54.509 1392.24 60.0587 Q1392.24 66.3781 1387.21 70.0644 Q1382.23 73.7508 1373.48 73.7508 Q1369.83 73.7508 1365.87 73.0216 Q1361.94 72.3329 1357.56 70.9151 L1357.56 63.2184 Q1361.69 65.3654 1365.7 66.4591 Q1369.71 67.5124 1373.64 67.5124 Q1378.91 67.5124 1381.74 65.73 Q1384.58 63.9071 1384.58 60.6258 Q1384.58 57.5877 1382.51 55.9673 Q1380.49 54.3469 1373.56 52.8481 L1370.97 52.2405 Q1364.04 50.7821 1360.96 47.7845 Q1357.88 44.7463 1357.88 39.4801 Q1357.88 33.0797 1362.42 29.5959 Q1366.96 26.1121 1375.3 26.1121 Q1379.44 26.1121 1383.08 26.7198 Q1386.73 27.3274 1389.81 28.5427 Z\" fill=\"#000000\" fill-rule=\"evenodd\" fill-opacity=\"1\" /><path clip-path=\"url(#clip370)\" d=\"M1411.48 14.324 L1411.48 27.2059 L1426.83 27.2059 L1426.83 32.9987 L1411.48 32.9987 L1411.48 57.6282 Q1411.48 63.1779 1412.98 64.7578 Q1414.52 66.3376 1419.17 66.3376 L1426.83 66.3376 L1426.83 72.576 L1419.17 72.576 Q1410.55 72.576 1407.27 69.3758 Q1403.98 66.1351 1403.98 57.6282 L1403.98 32.9987 L1398.52 32.9987 L1398.52 27.2059 L1403.98 27.2059 L1403.98 14.324 L1411.48 14.324 Z\" fill=\"#000000\" fill-rule=\"evenodd\" fill-opacity=\"1\" /><path clip-path=\"url(#clip370)\" d=\"M1454.22 32.4315 Q1448.22 32.4315 1444.74 37.1306 Q1441.25 41.7891 1441.25 49.9314 Q1441.25 58.0738 1444.7 62.7728 Q1448.18 67.4314 1454.22 67.4314 Q1460.17 67.4314 1463.65 62.7323 Q1467.14 58.0333 1467.14 49.9314 Q1467.14 41.8701 1463.65 37.1711 Q1460.17 32.4315 1454.22 32.4315 M1454.22 26.1121 Q1463.94 26.1121 1469.49 32.4315 Q1475.04 38.7509 1475.04 49.9314 Q1475.04 61.0714 1469.49 67.4314 Q1463.94 73.7508 1454.22 73.7508 Q1444.45 73.7508 1438.9 67.4314 Q1433.39 61.0714 1433.39 49.9314 Q1433.39 38.7509 1438.9 32.4315 Q1444.45 26.1121 1454.22 26.1121 Z\" fill=\"#000000\" fill-rule=\"evenodd\" fill-opacity=\"1\" /><path clip-path=\"url(#clip370)\" d=\"M1513.68 34.1734 Q1512.43 33.4443 1510.93 33.1202 Q1509.47 32.7556 1507.69 32.7556 Q1501.37 32.7556 1497.97 36.8875 Q1494.6 40.9789 1494.6 48.6757 L1494.6 72.576 L1487.11 72.576 L1487.11 27.2059 L1494.6 27.2059 L1494.6 34.2544 Q1496.95 30.1225 1500.72 28.1376 Q1504.49 26.1121 1509.87 26.1121 Q1510.64 26.1121 1511.58 26.2337 Q1512.51 26.3147 1513.64 26.5172 L1513.68 34.1734 Z\" fill=\"#000000\" fill-rule=\"evenodd\" fill-opacity=\"1\" /><path clip-path=\"url(#clip370)\" d=\"M1540.38 76.7889 Q1537.22 84.8907 1534.22 87.3618 Q1531.22 89.8329 1526.2 89.8329 L1520.25 89.8329 L1520.25 83.5945 L1524.62 83.5945 Q1527.7 83.5945 1529.4 82.1361 Q1531.1 80.6778 1533.17 75.2496 L1534.5 71.8468 L1516.15 27.2059 L1524.05 27.2059 L1538.23 62.6918 L1552.41 27.2059 L1560.31 27.2059 L1540.38 76.7889 Z\" fill=\"#000000\" fill-rule=\"evenodd\" fill-opacity=\"1\" /><polyline clip-path=\"url(#clip372)\" style=\"stroke:#009af9; stroke-linecap:round; stroke-linejoin:round; stroke-width:4; stroke-opacity:1; fill:none\" points=\"301.869,917.927 308.529,918.227 315.188,918.527 321.847,918.827 328.507,919.128 335.166,919.43 341.825,919.732 348.485,920.034 355.144,920.337 361.804,920.64 368.463,920.944 375.122,921.248 381.782,921.552 388.441,921.857 395.1,922.162 401.76,922.467 408.419,922.772 415.079,923.077 421.738,923.383 428.397,923.689 435.057,923.995 441.716,924.301 448.375,924.607 455.035,924.913 461.694,925.22 468.354,925.526 475.013,925.833 481.672,926.139 488.332,926.445 494.991,926.752 501.65,927.058 508.31,927.364 514.969,927.67 521.628,927.976 528.288,928.282 534.947,928.588 541.607,928.894 548.266,929.199 554.925,929.504 561.585,929.809 568.244,930.114 574.903,930.419 581.563,930.723 588.222,931.027 594.882,931.331 601.541,931.635 608.2,931.938 614.86,932.241 621.519,932.544 628.178,932.846 634.838,933.148 641.497,933.449 648.157,933.75 654.816,934.051 661.475,934.352 668.135,934.652 674.794,934.951 681.453,935.25 688.113,935.549 694.772,935.847 701.432,936.145 708.091,936.442 714.75,936.739 721.41,937.035 728.069,937.331 734.728,937.626 741.388,937.921 748.047,938.215 754.706,938.509 761.366,938.802 768.025,939.095 774.685,939.387 781.344,939.678 788.003,939.969 794.663,940.26 801.322,940.549 807.981,940.839 814.641,941.127 821.3,941.415 827.96,941.702 834.619,941.989 841.278,942.275 847.938,942.561 854.597,942.845 861.256,943.13 867.916,943.413 874.575,943.696 881.235,943.978 887.894,944.26 894.553,944.541 901.213,944.821 907.872,945.101 914.531,945.38 921.191,945.658 927.85,945.935 934.51,946.212 941.169,946.488 947.828,946.764 954.488,947.039 961.147,947.313 967.806,947.586 974.466,947.859 981.125,948.131 987.785,948.402 994.444,948.673 1001.1,948.943 1007.76,949.212 1014.42,949.48 1021.08,949.748 1027.74,950.015 1034.4,950.281 1041.06,950.547 1047.72,950.812 1054.38,951.076 1061.04,951.34 1067.7,951.603 1074.36,951.865 1081.02,952.126 1087.68,952.387 1094.33,952.647 1100.99,952.906 1107.65,953.164 1114.31,953.422 1120.97,953.679 1127.63,953.936 1134.29,954.191 1140.95,954.446 1147.61,954.701 1154.27,954.954 1160.93,955.207 1167.59,955.459 1174.25,955.711 1180.91,955.962 1187.57,956.212 1194.23,956.461 1200.88,956.71 1207.54,956.958 1214.2,957.205 1220.86,957.452 1227.52,957.698 1234.18,957.943 1240.84,958.188 1247.5,958.432 1254.16,958.675 1260.82,958.918 1267.48,959.16 1274.14,959.402 1280.8,959.642 1287.46,959.882 1294.12,960.122 1300.77,960.361 1307.43,960.599 1314.09,960.836 1320.75,961.073 1327.41,961.309 1334.07,961.545 1340.73,961.78 1347.39,962.015 1354.05,962.248 1360.71,962.482 1367.37,962.714 1374.03,962.946 1380.69,963.178 1387.35,963.408 1394.01,963.639 1400.67,963.868 1407.32,964.098 1413.98,964.326 1420.64,964.554 1427.3,964.782 1433.96,965.008 1440.62,965.235 1447.28,965.461 1453.94,965.686 1460.6,965.911 1467.26,966.135 1473.92,966.358 1480.58,966.582 1487.24,966.804 1493.9,967.026 1500.56,967.248 1507.22,967.469 1513.87,967.69 1520.53,967.91 1527.19,968.13 1533.85,968.349 1540.51,968.568 1547.17,968.786 1553.83,969.004 1560.49,969.222 1567.15,969.439 1573.81,969.655 1580.47,969.871 1587.13,970.087 1593.79,970.302 1600.45,970.517 1607.11,970.732 1613.77,970.946 1620.42,971.159 1627.08,971.373 1633.74,971.585 1640.4,971.798 1647.06,972.01 1653.72,972.222 1660.38,972.433 1667.04,972.644 1673.7,972.855 1680.36,973.065 1687.02,973.276 1693.68,973.485 1700.34,973.695 1707,973.904 1713.66,974.112 1720.32,974.321 1726.97,974.529 1733.63,974.737 1740.29,974.945 1746.95,975.152 1753.61,975.359 1760.27,975.566 1766.93,975.772 1773.59,975.978 1780.25,976.184 1786.91,976.39 1793.57,976.596 1800.23,976.801 1806.89,977.006 1813.55,977.211 1820.21,977.415 1826.87,977.62 1833.52,977.824 1840.18,978.028 1846.84,978.231 1853.5,978.435 1860.16,978.638 1866.82,978.842 1873.48,979.045 1880.14,979.248 1886.8,979.45 1893.46,979.653 1900.12,979.855 1906.78,980.057 1913.44,980.26 1920.1,980.462 1926.76,980.663 1933.42,980.865 1940.07,981.067 1946.73,981.268 1953.39,981.47 1960.05,981.671 1966.71,981.872 1973.37,982.073 1980.03,982.274 1986.69,982.475 1993.35,982.676 2000.01,982.877 2006.67,983.077 2013.33,983.278 2019.99,983.478 2026.65,983.679 2033.31,983.879 2039.97,984.08 2046.62,984.28 2053.28,984.48 2059.94,984.681 2066.6,984.881 2073.26,985.081 2079.92,985.281 2086.58,985.481 2093.24,985.681 2099.9,985.881 2106.56,986.081 2113.22,986.281 2119.88,986.481 2126.54,986.682 2133.2,986.882 2139.86,987.082 2146.52,987.282 2153.17,987.482 2159.83,987.682 2166.49,987.882 2173.15,988.082 2179.81,988.282 2186.47,988.482 2193.13,988.682 2199.79,988.883 2206.45,989.083 2213.11,989.283 2219.77,989.483 2226.43,989.684 2233.09,989.884 2239.75,990.084 2246.41,990.285 2253.07,990.485 2259.72,990.686 2266.38,990.886 2273.04,991.087 2279.7,991.288 2286.36,991.488 2293.02,991.689 \"/>\n<polyline clip-path=\"url(#clip372)\" style=\"stroke:#e26f46; stroke-linecap:round; stroke-linejoin:round; stroke-width:4; stroke-opacity:1; fill:none\" points=\"301.869,1386.4 308.529,1371.03 315.188,1355.67 321.847,1340.31 328.507,1324.95 335.166,1309.59 341.825,1294.24 348.485,1278.88 355.144,1263.53 361.804,1248.17 368.463,1232.82 375.122,1217.47 381.782,1202.12 388.441,1186.77 395.1,1171.42 401.76,1156.08 408.419,1140.73 415.079,1125.38 421.738,1110.04 428.397,1094.7 435.057,1079.35 441.716,1064.01 448.375,1048.67 455.035,1033.33 461.694,1017.99 468.354,1002.65 475.013,987.305 481.672,971.965 488.332,956.625 494.991,941.286 501.65,925.946 508.31,910.607 514.969,895.267 521.628,879.927 528.288,864.588 534.947,849.248 541.607,833.908 548.266,818.567 554.925,803.227 561.585,787.885 568.244,772.544 574.903,757.202 581.563,741.86 588.222,726.516 594.882,711.173 601.541,695.829 608.2,809.805 614.86,963.76 621.519,989.998 628.178,978.537 634.838,972.472 641.497,972.264 648.157,972.929 654.816,973.125 661.475,973.097 668.135,973.066 674.794,973.062 681.453,973.064 688.113,973.065 694.772,973.065 701.432,973.065 708.091,973.065 714.75,973.065 721.41,973.065 728.069,973.065 734.728,973.065 741.388,973.065 748.047,973.065 754.706,973.065 761.366,973.065 768.025,973.065 774.685,973.065 781.344,973.065 788.003,973.065 794.663,973.065 801.322,973.065 807.981,973.065 814.641,973.065 821.3,973.065 827.96,973.065 834.619,973.065 841.278,973.065 847.938,973.065 854.597,973.065 861.256,973.065 867.916,973.065 874.575,973.065 881.235,973.065 887.894,973.065 894.553,973.065 901.213,973.065 907.872,973.065 914.531,973.065 921.191,973.065 927.85,973.065 934.51,973.065 941.169,973.065 947.828,973.065 954.488,973.065 961.147,973.065 967.806,973.065 974.466,973.065 981.125,973.065 987.785,973.065 994.444,973.065 1001.1,973.065 1007.76,973.065 1014.42,973.065 1021.08,973.065 1027.74,973.065 1034.4,973.065 1041.06,973.065 1047.72,973.065 1054.38,973.065 1061.04,973.065 1067.7,973.065 1074.36,973.065 1081.02,973.065 1087.68,973.065 1094.33,973.065 1100.99,973.065 1107.65,973.065 1114.31,973.065 1120.97,973.065 1127.63,973.065 1134.29,973.065 1140.95,973.065 1147.61,973.065 1154.27,973.065 1160.93,973.065 1167.59,973.065 1174.25,973.065 1180.91,973.065 1187.57,973.065 1194.23,973.065 1200.88,973.065 1207.54,973.065 1214.2,973.065 1220.86,973.065 1227.52,973.065 1234.18,973.065 1240.84,973.065 1247.5,973.065 1254.16,973.065 1260.82,973.065 1267.48,973.065 1274.14,973.065 1280.8,973.065 1287.46,973.065 1294.12,973.065 1300.77,973.065 1307.43,973.065 1314.09,973.065 1320.75,973.065 1327.41,973.065 1334.07,973.065 1340.73,973.065 1347.39,973.065 1354.05,973.065 1360.71,973.065 1367.37,973.065 1374.03,973.065 1380.69,973.065 1387.35,973.065 1394.01,973.065 1400.67,973.065 1407.32,973.065 1413.98,973.065 1420.64,973.065 1427.3,973.065 1433.96,973.065 1440.62,973.065 1447.28,973.065 1453.94,973.065 1460.6,973.065 1467.26,973.065 1473.92,973.065 1480.58,973.065 1487.24,973.065 1493.9,973.065 1500.56,973.065 1507.22,973.065 1513.87,973.065 1520.53,973.065 1527.19,973.065 1533.85,973.065 1540.51,973.065 1547.17,973.065 1553.83,973.065 1560.49,973.065 1567.15,973.065 1573.81,973.065 1580.47,973.065 1587.13,973.065 1593.79,973.065 1600.45,973.065 1607.11,973.065 1613.77,973.065 1620.42,973.065 1627.08,973.065 1633.74,973.065 1640.4,973.065 1647.06,973.065 1653.72,973.065 1660.38,973.065 1667.04,973.065 1673.7,973.065 1680.36,973.065 1687.02,973.065 1693.68,973.065 1700.34,973.065 1707,973.065 1713.66,973.065 1720.32,973.065 1726.97,973.065 1733.63,973.065 1740.29,973.065 1746.95,973.065 1753.61,973.065 1760.27,973.065 1766.93,973.065 1773.59,973.065 1780.25,973.065 1786.91,973.065 1793.57,973.065 1800.23,973.065 1806.89,973.065 1813.55,973.065 1820.21,973.065 1826.87,973.065 1833.52,973.065 1840.18,973.065 1846.84,973.065 1853.5,973.065 1860.16,973.065 1866.82,973.065 1873.48,973.065 1880.14,973.065 1886.8,973.065 1893.46,973.065 1900.12,973.065 1906.78,973.065 1913.44,973.065 1920.1,973.065 1926.76,973.065 1933.42,973.065 1940.07,973.065 1946.73,973.065 1953.39,973.065 1960.05,973.065 1966.71,973.065 1973.37,973.065 1980.03,973.065 1986.69,973.065 1993.35,973.065 2000.01,973.065 2006.67,973.065 2013.33,973.065 2019.99,973.065 2026.65,973.065 2033.31,973.065 2039.97,973.065 2046.62,973.065 2053.28,973.065 2059.94,973.065 2066.6,973.065 2073.26,973.065 2079.92,973.065 2086.58,973.065 2093.24,973.065 2099.9,973.065 2106.56,973.065 2113.22,973.065 2119.88,973.065 2126.54,973.065 2133.2,973.065 2139.86,973.065 2146.52,973.065 2153.17,973.065 2159.83,973.065 2166.49,973.065 2173.15,973.065 2179.81,973.065 2186.47,973.065 2193.13,973.065 2199.79,973.065 2206.45,973.065 2213.11,973.065 2219.77,973.065 2226.43,973.065 2233.09,973.065 2239.75,973.065 2246.41,973.065 2253.07,973.065 2259.72,973.065 2266.38,973.065 2273.04,973.065 2279.7,973.065 2286.36,973.065 2293.02,973.065 \"/>\n<polyline clip-path=\"url(#clip372)\" style=\"stroke:#3da44d; stroke-linecap:round; stroke-linejoin:round; stroke-width:4; stroke-opacity:1; fill:none\" points=\"301.869,220.253 308.529,219.683 315.188,219.117 321.847,218.554 328.507,217.994 335.166,217.438 341.825,216.885 348.485,216.336 355.144,215.79 361.804,215.247 368.463,214.708 375.122,214.171 381.782,213.638 388.441,213.108 395.1,212.581 401.76,212.056 408.419,211.535 415.079,211.017 421.738,210.501 428.397,209.989 435.057,209.479 441.716,208.971 448.375,208.467 455.035,207.965 461.694,207.466 468.354,206.969 475.013,206.475 481.672,205.983 488.332,205.493 494.991,205.006 501.65,204.522 508.31,204.039 514.969,203.559 521.628,203.081 528.288,202.605 534.947,202.131 541.607,201.66 548.266,201.19 554.925,200.723 561.585,200.257 568.244,199.793 574.903,199.332 581.563,198.872 588.222,198.413 594.882,197.957 601.541,197.502 608.2,197.049 614.86,196.598 621.519,196.148 628.178,195.7 634.838,195.253 641.497,194.808 648.157,194.365 654.816,193.923 661.475,193.482 668.135,193.042 674.794,192.604 681.453,192.167 688.113,191.732 694.772,191.298 701.432,190.864 708.091,190.432 714.75,190.002 721.41,189.572 728.069,189.143 734.728,188.715 741.388,188.289 748.047,187.863 754.706,187.438 761.366,187.014 768.025,186.591 774.685,186.169 781.344,185.748 788.003,185.327 794.663,184.908 801.322,184.489 807.981,184.07 814.641,183.652 821.3,183.235 827.96,182.819 834.619,182.403 841.278,181.988 847.938,181.573 854.597,181.159 861.256,180.745 867.916,180.332 874.575,179.919 881.235,179.507 887.894,179.095 894.553,178.683 901.213,178.272 907.872,177.861 914.531,177.45 921.191,177.04 927.85,176.63 934.51,176.22 941.169,175.811 947.828,175.401 954.488,174.992 961.147,174.583 967.806,174.174 974.466,173.765 981.125,173.356 987.785,172.948 994.444,172.539 1001.1,172.131 1007.76,171.722 1014.42,171.314 1021.08,170.906 1027.74,170.497 1034.4,170.089 1041.06,169.681 1047.72,169.272 1054.38,168.864 1061.04,168.455 1067.7,168.047 1074.36,167.638 1081.02,167.229 1087.68,166.82 1094.33,166.411 1100.99,166.002 1107.65,165.593 1114.31,165.183 1120.97,164.774 1127.63,164.364 1134.29,163.954 1140.95,163.544 1147.61,163.134 1154.27,162.723 1160.93,162.312 1167.59,161.902 1174.25,161.491 1180.91,161.079 1187.57,160.668 1194.23,160.256 1200.88,195.883 1207.54,240.982 1214.2,248.38 1220.86,244.952 1227.52,243.392 1234.18,243.392 1240.84,243.392 1247.5,243.393 1254.16,243.393 1260.82,243.393 1267.48,243.393 1274.14,243.393 1280.8,243.393 1287.46,243.393 1294.12,243.394 1300.77,243.394 1307.43,243.394 1314.09,243.394 1320.75,243.394 1327.41,243.394 1334.07,243.395 1340.73,243.395 1347.39,243.395 1354.05,243.395 1360.71,243.395 1367.37,243.395 1374.03,243.395 1380.69,243.396 1387.35,243.396 1394.01,243.396 1400.67,243.396 1407.32,243.396 1413.98,243.396 1420.64,243.397 1427.3,243.397 1433.96,243.397 1440.62,243.397 1447.28,243.397 1453.94,243.397 1460.6,243.397 1467.26,243.398 1473.92,243.398 1480.58,243.398 1487.24,243.398 1493.9,243.398 1500.56,243.398 1507.22,243.399 1513.87,243.399 1520.53,243.399 1527.19,243.399 1533.85,243.399 1540.51,243.399 1547.17,243.399 1553.83,243.4 1560.49,243.4 1567.15,243.4 1573.81,243.4 1580.47,243.4 1587.13,243.4 1593.79,243.401 1600.45,243.401 1607.11,243.401 1613.77,243.401 1620.42,243.401 1627.08,243.401 1633.74,243.401 1640.4,243.402 1647.06,243.402 1653.72,243.402 1660.38,243.402 1667.04,243.402 1673.7,243.402 1680.36,243.403 1687.02,243.403 1693.68,243.403 1700.34,243.403 1707,243.403 1713.66,243.403 1720.32,243.403 1726.97,243.404 1733.63,243.404 1740.29,243.404 1746.95,243.404 1753.61,243.404 1760.27,243.404 1766.93,243.404 1773.59,243.405 1780.25,243.405 1786.91,243.405 1793.57,243.405 1800.23,243.405 1806.89,243.405 1813.55,243.406 1820.21,243.406 1826.87,243.406 1833.52,243.406 1840.18,243.406 1846.84,243.406 1853.5,243.406 1860.16,243.407 1866.82,243.407 1873.48,243.407 1880.14,243.407 1886.8,243.407 1893.46,243.407 1900.12,243.408 1906.78,243.408 1913.44,243.408 1920.1,243.408 1926.76,243.408 1933.42,243.408 1940.07,243.408 1946.73,243.409 1953.39,243.409 1960.05,243.409 1966.71,243.409 1973.37,243.409 1980.03,243.409 1986.69,243.409 1993.35,243.41 2000.01,243.41 2006.67,243.41 2013.33,243.41 2019.99,243.41 2026.65,243.41 2033.31,243.411 2039.97,243.411 2046.62,243.411 2053.28,243.411 2059.94,243.411 2066.6,243.411 2073.26,243.411 2079.92,243.412 2086.58,243.412 2093.24,243.412 2099.9,243.412 2106.56,243.412 2113.22,243.412 2119.88,243.413 2126.54,243.413 2133.2,243.413 2139.86,243.413 2146.52,243.413 2153.17,243.413 2159.83,243.413 2166.49,243.414 2173.15,243.414 2179.81,243.414 2186.47,243.414 2193.13,243.414 2199.79,243.414 2206.45,243.415 2213.11,243.415 2219.77,243.415 2226.43,243.415 2233.09,243.415 2239.75,243.415 2246.41,243.415 2253.07,243.416 2259.72,243.416 2266.38,243.416 2273.04,243.416 2279.7,243.416 2286.36,243.416 2293.02,243.417 \"/>\n<path clip-path=\"url(#clip370)\" d=\"M2028.72 1379.86 L2282.4 1379.86 L2282.4 1172.5 L2028.72 1172.5  Z\" fill=\"#ffffff\" fill-rule=\"evenodd\" fill-opacity=\"1\"/>\n<polyline clip-path=\"url(#clip370)\" style=\"stroke:#000000; stroke-linecap:round; stroke-linejoin:round; stroke-width:4; stroke-opacity:1; fill:none\" points=\"2028.72,1379.86 2282.4,1379.86 2282.4,1172.5 2028.72,1172.5 2028.72,1379.86 \"/>\n<polyline clip-path=\"url(#clip370)\" style=\"stroke:#009af9; stroke-linecap:round; stroke-linejoin:round; stroke-width:4; stroke-opacity:1; fill:none\" points=\"2052.18,1224.34 2192.88,1224.34 \"/>\n<path clip-path=\"url(#clip370)\" d=\"M2216.34 1231.38 L2216.34 1215.69 L2220.59 1215.69 L2220.59 1231.22 Q2220.59 1234.9 2222.03 1236.76 Q2223.46 1238.58 2226.33 1238.58 Q2229.78 1238.58 2231.77 1236.38 Q2233.79 1234.19 2233.79 1230.39 L2233.79 1215.69 L2238.05 1215.69 L2238.05 1241.62 L2233.79 1241.62 L2233.79 1237.63 Q2232.24 1240 2230.18 1241.15 Q2228.14 1242.29 2225.43 1242.29 Q2220.96 1242.29 2218.65 1239.51 Q2216.34 1236.73 2216.34 1231.38 M2227.05 1215.07 L2227.05 1215.07 Z\" fill=\"#000000\" fill-rule=\"evenodd\" fill-opacity=\"1\" /><path clip-path=\"url(#clip370)\" d=\"M2245.96 1239.07 L2250.69 1239.07 L2250.69 1224.93 L2245.52 1225.88 L2245.52 1223.19 L2250.85 1222.29 L2254.02 1222.29 L2254.02 1239.07 L2258.77 1239.07 L2258.77 1241.62 L2245.96 1241.62 L2245.96 1239.07 Z\" fill=\"#000000\" fill-rule=\"evenodd\" fill-opacity=\"1\" /><polyline clip-path=\"url(#clip370)\" style=\"stroke:#e26f46; stroke-linecap:round; stroke-linejoin:round; stroke-width:4; stroke-opacity:1; fill:none\" points=\"2052.18,1276.18 2192.88,1276.18 \"/>\n<path clip-path=\"url(#clip370)\" d=\"M2216.34 1283.22 L2216.34 1267.53 L2220.59 1267.53 L2220.59 1283.06 Q2220.59 1286.74 2222.03 1288.6 Q2223.46 1290.42 2226.33 1290.42 Q2229.78 1290.42 2231.77 1288.22 Q2233.79 1286.03 2233.79 1282.23 L2233.79 1267.53 L2238.05 1267.53 L2238.05 1293.46 L2233.79 1293.46 L2233.79 1289.47 Q2232.24 1291.84 2230.18 1292.99 Q2228.14 1294.13 2225.43 1294.13 Q2220.96 1294.13 2218.65 1291.35 Q2216.34 1288.57 2216.34 1283.22 M2227.05 1266.91 L2227.05 1266.91 Z\" fill=\"#000000\" fill-rule=\"evenodd\" fill-opacity=\"1\" /><path clip-path=\"url(#clip370)\" d=\"M2248.56 1290.82 L2258.37 1290.82 L2258.37 1293.46 L2244.53 1293.46 L2244.53 1290.91 Q2245.32 1290.19 2246.77 1288.9 Q2254.74 1281.84 2254.74 1279.66 Q2254.74 1278.13 2253.53 1277.21 Q2252.33 1276.26 2250.36 1276.26 Q2249.16 1276.26 2247.75 1276.67 Q2246.33 1277.07 2244.67 1277.88 L2244.67 1275.03 Q2246.45 1274.38 2247.98 1274.06 Q2249.53 1273.73 2250.85 1273.73 Q2254.21 1273.73 2256.22 1275.26 Q2258.23 1276.79 2258.23 1279.29 Q2258.23 1282.51 2250.57 1289.08 Q2249.27 1290.19 2248.56 1290.82 Z\" fill=\"#000000\" fill-rule=\"evenodd\" fill-opacity=\"1\" /><polyline clip-path=\"url(#clip370)\" style=\"stroke:#3da44d; stroke-linecap:round; stroke-linejoin:round; stroke-width:4; stroke-opacity:1; fill:none\" points=\"2052.18,1328.02 2192.88,1328.02 \"/>\n<path clip-path=\"url(#clip370)\" d=\"M2216.34 1335.06 L2216.34 1319.37 L2220.59 1319.37 L2220.59 1334.9 Q2220.59 1338.58 2222.03 1340.44 Q2223.46 1342.26 2226.33 1342.26 Q2229.78 1342.26 2231.77 1340.06 Q2233.79 1337.87 2233.79 1334.07 L2233.79 1319.37 L2238.05 1319.37 L2238.05 1345.3 L2233.79 1345.3 L2233.79 1341.31 Q2232.24 1343.68 2230.18 1344.83 Q2228.14 1345.97 2225.43 1345.97 Q2220.96 1345.97 2218.65 1343.19 Q2216.34 1340.41 2216.34 1335.06 M2227.05 1318.75 L2227.05 1318.75 Z\" fill=\"#000000\" fill-rule=\"evenodd\" fill-opacity=\"1\" /><path clip-path=\"url(#clip370)\" d=\"M2254.48 1334.83 Q2256.61 1335.25 2257.77 1336.52 Q2258.95 1337.77 2258.95 1339.67 Q2258.95 1342.54 2256.75 1344.09 Q2254.55 1345.64 2250.46 1345.64 Q2249.14 1345.64 2247.68 1345.39 Q2246.24 1345.16 2244.62 1344.69 L2244.62 1341.89 Q2245.83 1342.52 2247.19 1342.82 Q2248.58 1343.12 2250.13 1343.12 Q2252.65 1343.12 2254.04 1342.22 Q2255.43 1341.29 2255.43 1339.67 Q2255.43 1337.96 2254.14 1337.08 Q2252.86 1336.2 2250.36 1336.2 L2248.37 1336.2 L2248.37 1333.7 L2250.55 1333.7 Q2252.72 1333.7 2253.83 1332.98 Q2254.97 1332.24 2254.97 1330.85 Q2254.97 1329.51 2253.81 1328.81 Q2252.65 1328.1 2250.46 1328.1 Q2249.53 1328.1 2248.35 1328.31 Q2247.17 1328.51 2245.29 1329.05 L2245.29 1326.38 Q2246.98 1325.99 2248.46 1325.78 Q2249.95 1325.57 2251.22 1325.57 Q2254.55 1325.57 2256.5 1326.94 Q2258.46 1328.31 2258.46 1330.6 Q2258.46 1332.19 2257.42 1333.31 Q2256.38 1334.42 2254.48 1334.83 Z\" fill=\"#000000\" fill-rule=\"evenodd\" fill-opacity=\"1\" /></svg>\n"
     },
     "metadata": {},
     "output_type": "display_data"
    }
   ],
   "source": [
    "# Let's solve\n",
    "# include(\"mpc_JuMP.jl\")\n",
    "\n",
    "nx = 6\n",
    "nu = 3\n",
    "N = 301\n",
    "dt = 0.05\n",
    "t_vec = dt*(0:N-1)\n",
    "x0 = [4, 2, 20, -3, 2, -5.0]\n",
    "xg = [0,0,0,0,0,0.0]\n",
    "Xref = [deepcopy(xg) for i = 1:N]\n",
    "Uref = [zeros(nu) for i = 1:N-1]\n",
    "\n",
    "Q = 1e-1*I(nx)\n",
    "R = 1e-0*I(nu)\n",
    "Qf = 1000*I(nx)\n",
    "\n",
    "# ground_level = 0.0\n",
    "gravity = [0; 0; -9.81]\n",
    "mass = 10.0\n",
    "# ωPlanet = [0.0; 0.0; 0.0]\n",
    "perWeightMax = 2.0\n",
    "θ_thrust_max = 5.0  # deg\n",
    "# θ_glideslope = 60.0 # deg\n",
    "# glide_recover_k = 8\n",
    "\n",
    "A_cone = [1 0 0; 0 1 0]\n",
    "c_cone = [0.0, 0.0, tand(θ_thrust_max)]\n",
    "u_bnd = mass * abs(gravity[3]) * perWeightMax\n",
    "u_min = -10*ones(nu)\n",
    "u_max =  102*ones(nu)\n",
    "\n",
    "# state is x y v θ\n",
    "x_min = [-5,-5,0,-10,-10,-10.0]\n",
    "x_max = [5,5,20,10,10,10.0]\n",
    "\n",
    "ncx = 2*nx*1\n",
    "ncu = 2*nu*0\n",
    "ncg = 1\n",
    "ncu_cone = nu*0; \n",
    "cone_scale = 1e-2  # very fragile for each problem\n",
    "\n",
    "μ = [zeros(ncu) for i = 1:N-1]   # input constraints\n",
    "μx = [zeros(ncx) for i = 1:N]    # state constraints\n",
    "λ = zeros(nx)    # goal constraint\n",
    "λc = [zeros(ncu_cone) for i = 1:N-1]   # goal constraint\n",
    "\n",
    "params = (\n",
    "    nx = nx,\n",
    "    nu = nu,\n",
    "    ncx = ncx,\n",
    "    ncu = ncu,\n",
    "    ncg = ncg,\n",
    "    ncu_cone = ncu_cone,\n",
    "    μ = μ, μx = μx, λ = λ, λc = λc,\n",
    "    A_cone = A_cone,\n",
    "    c_cone = c_cone,A\n",
    "    N = N,\n",
    "    Q = Q,\n",
    "    R = R,\n",
    "    Qf = Qf,\n",
    "    u_min = u_min,\n",
    "    u_max = u_max,\n",
    "    x_min = x_min,\n",
    "    x_max = x_max,\n",
    "    Xref = Xref,A\n",
    "    Uref = Uref,\n",
    "    dt = dt,\n",
    "    mc = 1.0,\n",
    "    mp = 0.2,\n",
    "    l = 0.5,\n",
    "    g = 9.81,\n",
    ");\n",
    "\n",
    "# previous iterate\n",
    "X = [deepcopy(x0) for i = 1:N]\n",
    "U = [ones(nu) for k = 1:N-1]\n",
    "# X = Xref*1\n",
    "# U = Uref*1\n",
    "# new iterate\n",
    "Xn = deepcopy(X)\n",
    "Un = deepcopy(U)\n",
    "\n",
    "P = [zeros(nx,nx) for i = 1:N]   # cost to go quadratic term\n",
    "p = [zeros(nx) for i = 1:N]      # cost to go linear term\n",
    "d = [zeros(nu) for i = 1:N-1]    # feedforward control\n",
    "K = [zeros(nu,nx) for i = 1:N-1] # feedback gain\n",
    "\n",
    "include(\"mpc_JuMP.jl\")\n",
    "optimizers = (\n",
    "    JuMP.optimizer_with_attributes(COSMO.Optimizer,\n",
    "        \"verbose\"=>false,\n",
    "        \"eps_abs\"=>1e-4,\n",
    "        \"eps_rel\"=>1e-4,\n",
    "        \"rho\"=>1e-2,\n",
    "        \"scaling\"=>0,\n",
    "        \"alpha\"=>1.0),\n",
    "    JuMP.optimizer_with_attributes(ECOS.Optimizer, \n",
    "        \"verbose\"=>false,\n",
    "        \"feastol\"=>1e-4,\n",
    "        \"abstol\"=>1e-4,\n",
    "        \"reltol\"=>1e-4)) \n",
    "# trajopt_JuMP1(optimizers[1], params, Xn, Un, A, B, f; warm_start=false)\n",
    "u_ = mpc(params,X,U,P,p,K,d,Xn,Un; atol=1e-4, max_iters = 20, verbose = true, ρ = 1e2, ρmax = 1e8, ϕ = 10.0);\n",
    "\n",
    "function mat_from_vec(X::Vector{Vector{Float64}})::Matrix\n",
    "    # convert a vector of vectors to a matrix \n",
    "    Xm = hcat(X...)\n",
    "    return Xm \n",
    "end\n",
    "Xsim_m = mat_from_vec(Xn)\n",
    "Usim_m = mat_from_vec(Un)\n",
    "using Plots\n",
    "display(plot(t_vec,Xsim_m',label = [\"x₁\" \"x₂\" \"x₃\" \"ẋ₁\" \"ẋ₂\" \"ẋ₃\"],linestyle=[:solid :solid :solid :dash :dash :dash],\n",
    "             title = \"State History\",\n",
    "             xlabel = \"time (s)\", ylabel = \"x\"))\n",
    "display(plot(t_vec[1:end-1],Usim_m',label = [\"u₁\" \"u₂\" \"u₃\"],\n",
    "             title = \"Input History\",\n",
    "             xlabel = \"time (s)\", ylabel = \"u\"))"
   ]
  },
  {
   "cell_type": "code",
   "execution_count": null,
   "id": "6d73805d",
   "metadata": {},
   "outputs": [
    {
     "ename": "LoadError",
     "evalue": "UndefVarError: I not defined",
     "output_type": "error",
     "traceback": [
      "UndefVarError: I not defined",
      "",
      "Stacktrace:",
      " [1] top-level scope",
      "   @ In[1]:36",
      " [2] eval",
      "   @ ./boot.jl:360 [inlined]",
      " [3] include_string(mapexpr::typeof(REPL.softscope), mod::Module, code::String, filename::String)",
      "   @ Base ./loading.jl:1116"
     ]
    }
   ],
   "source": []
  },
  {
   "cell_type": "code",
   "execution_count": null,
   "id": "dc3a372d",
   "metadata": {},
   "outputs": [
    {
     "data": {
      "text/plain": [
       "trajopt_JuMP1 (generic function with 1 method)"
      ]
     },
     "execution_count": 163,
     "metadata": {},
     "output_type": "execute_result"
    }
   ],
   "source": [
    "# Enable warm-starting\n",
    "function trajopt_JuMP1(optimizer, params, X, U, A, B, f; warm_start=true)\n",
    "  Nh = params.N\n",
    "  nx = params.nx\n",
    "  nu = params.nu\n",
    "  α_max = params.c_cone[3]\n",
    "  NN = Nh*nx + (Nh-1)*nu\n",
    "  x0 .= X[1]\n",
    "  \n",
    "  inds = reshape(1:(nx+nu)*Nh,nx+nu,Nh)  \n",
    "  xinds = [z[1:nx] for z in eachcol(inds)]\n",
    "  uinds = [z[nx+1:end] for z in eachcol(inds)][1:Nh-1]    \n",
    "  \n",
    "  model = Model(optimizer)\n",
    "  \n",
    "  @variable(model, z[1:NN])  # z is all decision variables (X U)\n",
    "  if warm_start\n",
    "      z_ws = zeros(NN,1)\n",
    "      for j = 1:Nh-1\n",
    "          z_ws[xinds[j]] .= X[j]\n",
    "          z_ws[uinds[j]] .= U[j]\n",
    "      end\n",
    "      z_ws[xinds[Nh]] .= X[Nh]\n",
    "      set_start_value.(z, z_ws)\n",
    "  end\n",
    "  \n",
    "  P = zeros(NN, NN)\n",
    "  q = zeros(NN, 1) \n",
    "  # Cost function   \n",
    "  for j = 1:Nh-1\n",
    "      P[(j-1)*(nx+nu).+(1:nx),(j-1)*(nx+nu).+(1:nx)], q[(j-1)*(nx+nu).+(1:nx)], \n",
    "      P[(j-1)*(nx+nu)+nx.+(1:nu),(j-1)*(nx+nu)+nx.+(1:nu)], q[(j-1)*(nx+nu)+nx.+(1:nu)] = stage_cost_expansion(params, j)\n",
    "  end    \n",
    "  P[end-nx+1:end,end-nx+1:end], q[end-nx+1:end] = term_cost_expansion(params)\n",
    "  @objective(model, Min, 0.5*dot(z,P,z) + dot(q,z))\n",
    "\n",
    "  # Dynamics Constraints\n",
    "  for k = 1:Nh-1\n",
    "      @constraint(model, A*z[xinds[k]] .+ B*z[uinds[k]] .+ f .== z[xinds[k+1]])\n",
    "  end\n",
    "  \n",
    "  # Initial condition \n",
    "  @constraint(model, z[xinds[1]] .== x0)\n",
    "  \n",
    "#   Thrust angle constraint\n",
    "  if params.ncu_cone > 0 \n",
    "    for k = 1:Nh-1\n",
    "        u1,u2,u3 = z[uinds[k]]\n",
    "        @constraint(model, [α_max * u3, u1, u2] in JuMP.SecondOrderCone())\n",
    "    end\n",
    "  end\n",
    "  \n",
    "  # State Constraints\n",
    "  if params.ncx > 0 \n",
    "    for k = 1:Nh-1\n",
    "      @constraint(model, z[xinds[k]] .<= params.x_max)\n",
    "      @constraint(model, z[xinds[k]] .>= params.x_min)\n",
    "    end  \n",
    "  end\n",
    "\n",
    "  # State Constraints\n",
    "  if params.ncu > 0 \n",
    "    for k = 1:Nh-1\n",
    "      @constraint(model, z[uinds[k]] .<= params.u_max)\n",
    "      @constraint(model, z[uinds[k]] .>= params.u_min)\n",
    "    end  \n",
    "  end\n",
    "\n",
    "  # Goal constraint\n",
    "  if params.ncg > 0 \n",
    "      @constraint(model, z[xinds[N]] .== zeros(nx))\n",
    "  end    \n",
    "\n",
    "  optimize!(model)   \n",
    "  termination_status(model) == INFEASIBLE && print(\"Other solver says INFEASIBLE\\n\")\n",
    "  for j = 1:Nh-1\n",
    "      X[j] .= value.(z[xinds[j]]) \n",
    "      U[j] .= value.(z[uinds[j]]) \n",
    "  end    \n",
    "  X[Nh] .= value.(z[xinds[Nh]])\n",
    "  # display(MOI.get(model, MOI.SolveTimeSec()))\n",
    "  return X\n",
    "end"
   ]
  },
  {
   "cell_type": "code",
   "execution_count": null,
   "id": "cf498bfb",
   "metadata": {},
   "outputs": [
    {
     "name": "stdout",
     "output_type": "stream",
     "text": [
      "(params.λ)' * X[N] = 0.0\n",
      "(params.μx[k])' * hxv = 0.0\n",
      "(params.μx[k])' * hxv = 0.0\n",
      "(params.μx[k])' * hxv = 0.0\n",
      "(params.μx[k])' * hxv = 0.0\n",
      "(params.μx[k])' * hxv = 0.0\n",
      "(params.μx[k])' * hxv = 0.0\n",
      "(params.μx[k])' * hxv = 0.0\n",
      "(params.μx[k])' * hxv = 0.0\n",
      "(params.μx[k])' * hxv = 0.0\n",
      "(params.μx[k])' * hxv = 0.0\n",
      "(params.μx[k])' * hxv = 0.0\n",
      "(params.μx[k])' * hxv = 0.0\n",
      "(params.μx[k])' * hxv = 0.0\n",
      "(params.μx[k])' * hxv = 0.0\n",
      "(params.μx[k])' * hxv = 0.0\n",
      "(params.μx[k])' * hxv = 0.0\n",
      "(params.μx[k])' * hxv = 0.0\n",
      "(params.μx[k])' * hxv = 0.0\n",
      "(params.μx[k])' * hxv = 0.0\n",
      "(params.μx[k])' * hxv = 0.0\n",
      "(params.μx[k])' * hxv = 0.0\n",
      "(params.μx[k])' * hxv = 0.0\n",
      "(params.μx[k])' * hxv = 0.0\n",
      "(params.μx[k])' * hxv = 0.0\n",
      "(params.μx[k])' * hxv = 0.0\n",
      "(params.μx[k])' * hxv = 0.0\n",
      "(params.μx[k])' * hxv = 0.0\n",
      "(params.μx[k])' * hxv = 0.0\n",
      "(params.μx[k])' * hxv = 0.0\n",
      "(params.μx[k])' * hxv = 0.0\n",
      "(params.μx[k])' * hxv = 0.0\n",
      "(params.μx[k])' * hxv = 0.0\n",
      "(params.μx[k])' * hxv = 0.0\n",
      "(params.μx[k])' * hxv = 0.0\n",
      "(params.μx[k])' * hxv = 0.0\n",
      "(params.μx[k])' * hxv = 0.0\n",
      "(params.μx[k])' * hxv = 0.0\n",
      "(params.μx[k])' * hxv = 0.0\n",
      "(params.μx[k])' * hxv = 0.0\n",
      "(params.μx[k])' * hxv = 0.0\n",
      "(params.μx[k])' * hxv = 0.0\n",
      "(params.μx[k])' * hxv = 0.0\n",
      "(params.μx[k])' * hxv = 0.0\n",
      "(params.μx[k])' * hxv = 0.0\n",
      "(params.μx[k])' * hxv = 0.0\n",
      "(params.μx[k])' * hxv = 0.0\n",
      "(params.μx[k])' * hxv = 0.0\n",
      "(params.μx[k])' * hxv = 0.0\n",
      "(params.μx[k])' * hxv = 0.0\n",
      "(params.μx[k])' * hxv = 0.0\n",
      "(params.μx[k])' * hxv = 0.0\n",
      "(params.μx[k])' * hxv = 0.0\n",
      "(params.μx[k])' * hxv = 0.0\n",
      "(params.μx[k])' * hxv = 0.0\n",
      "(params.μx[k])' * hxv = 0.0\n",
      "(params.μx[k])' * hxv = 0.0\n",
      "(params.μx[k])' * hxv = 0.0\n",
      "(params.μx[k])' * hxv = 0.0\n",
      "(params.μx[k])' * hxv = 0.0\n",
      "(params.μx[k])' * hxv = 0.0\n",
      "(params.μx[k])' * hxv = 0.0\n",
      "(params.μx[k])' * hxv = 0.0\n",
      "(params.μx[k])' * hxv = 0.0\n",
      "(params.μx[k])' * hxv = 0.0\n",
      "(params.μx[k])' * hxv = 0.0\n",
      "(params.μx[k])' * hxv = 0.0\n",
      "(params.μx[k])' * hxv = 0.0\n",
      "(params.μx[k])' * hxv = 0.0\n",
      "(params.μx[k])' * hxv = 0.0\n",
      "(params.μx[k])' * hxv = 0.0\n",
      "(params.μx[k])' * hxv = 0.0\n",
      "(params.μx[k])' * hxv = 0.0\n",
      "(params.μx[k])' * hxv = 0.0\n",
      "(params.μx[k])' * hxv = 0.0\n",
      "(params.μx[k])' * hxv = 0.0\n",
      "(params.μx[k])' * hxv = 0.0\n",
      "(params.μx[k])' * hxv = 0.0\n",
      "(params.μx[k])' * hxv = 0.0\n",
      "(params.μx[k])' * hxv = 0.0\n",
      "(params.μx[k])' * hxv = 0.0\n",
      "(params.μx[k])' * hxv = 0.0\n",
      "(params.μx[k])' * hxv = 0.0\n",
      "(params.μx[k])' * hxv = 0.0\n",
      "(params.μx[k])' * hxv = 0.0\n",
      "(params.μx[k])' * hxv = 0.0\n",
      "(params.μx[k])' * hxv = 0.0\n",
      "(params.μx[k])' * hxv = 0.0\n",
      "(params.μx[k])' * hxv = 0.0\n",
      "(params.μx[k])' * hxv = 0.0\n",
      "(params.μx[k])' * hxv = 0.0\n",
      "(params.μx[k])' * hxv = 0.0\n",
      "(params.μx[k])' * hxv = 0.0\n",
      "(params.μx[k])' * hxv = 0.0\n",
      "(params.μx[k])' * hxv = 0.0\n",
      "(params.μx[k])' * hxv = 0.0\n",
      "(params.μx[k])' * hxv = 0.0\n",
      "(params.μx[k])' * hxv = 0.0\n",
      "(params.μx[k])' * hxv = 0.0\n",
      "(params.μx[k])' * hxv = 0.0\n",
      "(params.μx[k])' * hxv = 0.0\n",
      "(params.μx[k])' * hxv = 0.0\n",
      "(params.μx[k])' * hxv = 0.0\n",
      "(params.μx[k])' * hxv = 0.0\n",
      "(params.μx[k])' * hxv = 0.0\n",
      "(params.μx[k])' * hxv = 0.0\n",
      "(params.μx[k])' * hxv = 0.0\n",
      "(params.μx[k])' * hxv = 0.0\n",
      "(params.μx[k])' * hxv = 0.0\n",
      "(params.μx[k])' * hxv = 0.0\n",
      "(params.μx[k])' * hxv = 0.0\n",
      "(params.μx[k])' * hxv = 0.0\n",
      "(params.μx[k])' * hxv = 0.0\n",
      "(params.μx[k])' * hxv = 0.0\n",
      "(params.μx[k])' * hxv = 0.0\n",
      "(params.μx[k])' * hxv = 0.0\n",
      "(params.μx[k])' * hxv = 0.0\n",
      "(params.μx[k])' * hxv = 0.0\n",
      "(params.μx[k])' * hxv = 0.0\n",
      "(params.μx[k])' * hxv = 0.0\n",
      "(params.μx[k])' * hxv = 0.0\n",
      "(params.μx[k])' * hxv = 0.0\n",
      "(params.μx[k])' * hxv = 0.0\n",
      "(params.μx[k])' * hxv = 0.0\n",
      "(params.μx[k])' * hxv = 0.0\n",
      "(params.μx[k])' * hxv = 0.0\n",
      "(params.μx[k])' * hxv = 0.0\n",
      "(params.μx[k])' * hxv = 0.0\n",
      "(params.μx[k])' * hxv = 0.0\n",
      "(params.μx[k])' * hxv = 0.0\n",
      "(params.μx[k])' * hxv = 0.0\n",
      "(params.μx[k])' * hxv = 0.0\n",
      "(params.μx[k])' * hxv = 0.0\n",
      "(params.μx[k])' * hxv = 0.0\n",
      "(params.μx[k])' * hxv = 0.0\n",
      "(params.μx[k])' * hxv = 0.0\n",
      "(params.μx[k])' * hxv = 0.0\n",
      "(params.μx[k])' * hxv = 0.0\n",
      "(params.μx[k])' * hxv = 0.0\n",
      "(params.μx[k])' * hxv = 0.0\n",
      "(params.μx[k])' * hxv = 0.0\n",
      "(params.μx[k])' * hxv = 0.0\n",
      "(params.μx[k])' * hxv = 0.0\n",
      "(params.μx[k])' * hxv = 0.0\n",
      "(params.μx[k])' * hxv = 0.0\n",
      "(params.μx[k])' * hxv = 0.0\n",
      "(params.μx[k])' * hxv = 0.0\n",
      "(params.μx[k])' * hxv = 0.0\n",
      "(params.μx[k])' * hxv = 0.0\n",
      "(params.μx[k])' * hxv = 0.0\n",
      "(params.μx[k])' * hxv = 0.0\n",
      "(params.μx[k])' * hxv = 0.0\n",
      "(params.μx[k])' * hxv = 0.0\n",
      "(params.μx[k])' * hxv = 0.0\n",
      "(params.μx[k])' * hxv = 0.0\n",
      "(params.μx[k])' * hxv = 0.0\n",
      "(params.μx[k])' * hxv = 0.0\n",
      "(params.μx[k])' * hxv = 0.0\n",
      "(params.μx[k])' * hxv = 0.0\n",
      "(params.μx[k])' * hxv = 0.0\n",
      "(params.μx[k])' * hxv = 0.0\n",
      "(params.μx[k])' * hxv = 0.0\n",
      "(params.μx[k])' * hxv = 0.0\n",
      "(params.μx[k])' * hxv = 0.0\n",
      "(params.μx[k])' * hxv = 0.0\n",
      "(params.μx[k])' * hxv = 0.0\n",
      "(params.μx[k])' * hxv = 0.0\n",
      "(params.μx[k])' * hxv = 0.0\n",
      "(params.μx[k])' * hxv = 0.0\n",
      "(params.μx[k])' * hxv = 0.0\n",
      "(params.μx[k])' * hxv = 0.0\n",
      "(params.μx[k])' * hxv = 0.0\n",
      "(params.μx[k])' * hxv = 0.0\n",
      "(params.μx[k])' * hxv = 0.0\n",
      "(params.μx[k])' * hxv = 0.0\n",
      "(params.μx[k])' * hxv = 0.0\n",
      "(params.μx[k])' * hxv = 0.0\n",
      "(params.μx[k])' * hxv = 0.0\n",
      "(params.μx[k])' * hxv = 0.0\n",
      "(params.μx[k])' * hxv = 0.0\n",
      "(params.μx[k])' * hxv = 0.0\n",
      "(params.μx[k])' * hxv = 0.0\n",
      "(params.μx[k])' * hxv = 0.0\n",
      "(params.μx[k])' * hxv = 0.0\n",
      "(params.μx[k])' * hxv = 0.0\n",
      "(params.μx[k])' * hxv = 0.0\n",
      "(params.μx[k])' * hxv = 0.0\n",
      "(params.μx[k])' * hxv = 0.0\n",
      "(params.μx[k])' * hxv = 0.0\n",
      "(params.μx[k])' * hxv = 0.0\n",
      "(params.μx[k])' * hxv = 0.0\n",
      "(params.μx[k])' * hxv = 0.0\n",
      "(params.μx[k])' * hxv = 0.0\n",
      "(params.μx[k])' * hxv = 0.0\n",
      "(params.μx[k])' * hxv = 0.0\n",
      "(params.μx[k])' * hxv = 0.0\n",
      "(params.μx[k])' * hxv = 0.0\n",
      "(params.μx[k])' * hxv = 0.0\n",
      "(params.μx[k])' * hxv = 0.0\n",
      "(params.μx[k])' * hxv = 0.0\n",
      "(params.μx[k])' * hxv = 0.0\n",
      "(params.μx[k])' * hxv = 0.0\n",
      "(params.μx[k])' * hxv = 0.0\n",
      "(params.μx[k])' * hxv = 0.0\n",
      "(params.μx[k])' * hxv = 0.0\n",
      "(params.μx[k])' * hxv = 0.0\n",
      "(params.μx[k])' * hxv = 0.0\n",
      "(params.μx[k])' * hxv = 0.0\n",
      "(params.μx[k])' * hxv = 0.0\n",
      "(params.μx[k])' * hxv = 0.0\n",
      "(params.μx[k])' * hxv = 0.0\n",
      "(params.μx[k])' * hxv = 0.0\n",
      "(params.μx[k])' * hxv = 0.0\n",
      "(params.μx[k])' * hxv = 0.0\n",
      "(params.μx[k])' * hxv = 0.0\n",
      "(params.μx[k])' * hxv = 0.0\n",
      "(params.μx[k])' * hxv = 0.0\n",
      "(params.μx[k])' * hxv = 0.0\n",
      "(params.μx[k])' * hxv = 0.0\n",
      "(params.μx[k])' * hxv = 0.0\n",
      "(params.μx[k])' * hxv = 0.0\n",
      "(params.μx[k])' * hxv = 0.0\n",
      "(params.μx[k])' * hxv = 0.0\n",
      "(params.μx[k])' * hxv = 0.0\n",
      "(params.μx[k])' * hxv = 0.0\n",
      "(params.μx[k])' * hxv = 0.0\n",
      "(params.μx[k])' * hxv = 0.0\n",
      "(params.μx[k])' * hxv = 0.0\n",
      "(params.μx[k])' * hxv = 0.0\n",
      "(params.μx[k])' * hxv = 0.0\n",
      "(params.μx[k])' * hxv = 0.0\n",
      "(params.μx[k])' * hxv = 0.0\n",
      "(params.μx[k])' * hxv = 0.0\n",
      "(params.μx[k])' * hxv = 0.0\n",
      "(params.μx[k])' * hxv = 0.0\n",
      "(params.μx[k])' * hxv = 0.0\n",
      "(params.μx[k])' * hxv = 0.0\n",
      "(params.μx[k])' * hxv = 0.0\n",
      "(params.μx[k])' * hxv = 0.0\n",
      "(params.μx[k])' * hxv = 0.0\n",
      "(params.μx[k])' * hxv = 0.0\n",
      "(params.μx[k])' * hxv = 0.0\n",
      "(params.μx[k])' * hxv = 0.0\n",
      "(params.μx[k])' * hxv = 0.0\n",
      "(params.μx[k])' * hxv = 0.0\n",
      "(params.μx[k])' * hxv = 0.0\n",
      "(params.μx[k])' * hxv = 0.0\n",
      "(params.μx[k])' * hxv = 0.0\n",
      "(params.μx[k])' * hxv = 0.0\n",
      "(params.μx[k])' * hxv = 0.0\n",
      "(params.μx[k])' * hxv = 0.0\n",
      "(params.μx[k])' * hxv = 0.0\n",
      "(params.μx[k])' * hxv = 0.0\n",
      "(params.μx[k])' * hxv = 0.0\n",
      "(params.μx[k])' * hxv = 0.0\n",
      "(params.μx[k])' * hxv = 0.0\n",
      "(params.μx[k])' * hxv = 0.0\n",
      "(params.μx[k])' * hxv = 0.0\n",
      "(params.μx[k])' * hxv = 0.0\n",
      "(params.μx[k])' * hxv = 0.0\n",
      "(params.μx[k])' * hxv = 0.0\n",
      "(params.μx[k])' * hxv = 0.0\n",
      "(params.μx[k])' * hxv = 0.0\n",
      "(params.μx[k])' * hxv = 0.0\n",
      "(params.μx[k])' * hxv = 0.0\n",
      "(params.μx[k])' * hxv = 0.0\n",
      "(params.μx[k])' * hxv = 0.0\n",
      "(params.μx[k])' * hxv = 0.0\n",
      "(params.μx[k])' * hxv = 0.0\n",
      "(params.μx[k])' * hxv = 0.0\n",
      "(params.μx[k])' * hxv = 0.0\n",
      "(params.μx[k])' * hxv = 0.0\n",
      "(params.μx[k])' * hxv = 0.0\n",
      "(params.μx[k])' * hxv = 0.0\n",
      "(params.μx[k])' * hxv = 0.0\n",
      "(params.μx[k])' * hxv = 0.0\n",
      "(params.μx[k])' * hxv = 0.0\n",
      "(params.μx[k])' * hxv = 0.0\n",
      "(params.μx[k])' * hxv = 0.0\n",
      "(params.μx[k])' * hxv = 0.0\n",
      "(params.μx[k])' * hxv = 0.0\n",
      "(params.μx[k])' * hxv = 0.0\n",
      "(params.μx[k])' * hxv = 0.0\n",
      "(params.μx[k])' * hxv = 0.0\n",
      "(params.μx[k])' * hxv = 0.0\n",
      "(params.μx[k])' * hxv = 0.0\n",
      "(params.μx[k])' * hxv = 0.0\n",
      "(params.μx[k])' * hxv = 0.0\n",
      "(params.μx[k])' * hxv = 0.0\n",
      "(params.μx[k])' * hxv = 0.0\n",
      "(params.μx[k])' * hxv = 0.0\n",
      "(params.μx[k])' * hxv = 0.0\n",
      "(params.μx[k])' * hxv = 0.0\n",
      "(params.μx[k])' * hxv = 0.0\n",
      "(params.μx[k])' * hxv = 0.0\n",
      "(params.μx[k])' * hxv = 0.0\n",
      "(params.μx[k])' * hxv = 0.0\n",
      "(params.μx[k])' * hxv = 0.0\n",
      "(params.μx[k])' * hxv = 0.0\n",
      "(params.μx[k])' * hxv = 0.0\n",
      "(params.μx[k])' * hxv = 0.0\n",
      "(params.μx[k])' * hxv = 0.0\n"
     ]
    }
   ],
   "source": [
    "@show params.λ'*X[N]\n",
    "X[N]\n",
    "# params.μx\n",
    "convio = 0.0\n",
    "if params.ncx > 0\n",
    "  for k = 1:N\n",
    "    hxv = ineq_con_x(params,X[k])\n",
    "    mask = eval_mask(μx[k],hxv)\n",
    "    # update dual\n",
    "    convio = max(convio,norm(hxv + abs.(hxv),Inf)) \n",
    "    @show params.μx[k]'*hxv         \n",
    "  end\n",
    "end"
   ]
  },
  {
   "cell_type": "markdown",
   "id": "416df651-52ee-4c43-93e5-aca23c5630b2",
   "metadata": {},
   "source": [
    "For TrajOpt, it needs more tricks to get better results:\n",
    "- Hessian of the projection => better approximation (done)\n",
    "- Scaling between conic constraints and other ones (1/rho, Zac did not buy it)\n",
    "- Solution polishing?\n",
    "\n",
    "Maybe, we don't care about TrajOpt problem, except from a good initial guess, there is nothing we can tune to get better performance. How about reset mpc?"
   ]
  },
  {
   "cell_type": "code",
   "execution_count": null,
   "id": "12ec6530-7479-455f-843a-81d2c40fb13a",
   "metadata": {},
   "outputs": [
    {
     "data": {
      "text/plain": [
       "0.7607807288640416"
      ]
     },
     "metadata": {},
     "output_type": "display_data"
    },
    {
     "data": {
      "text/plain": [
       "0.6996756236806245"
      ]
     },
     "metadata": {},
     "output_type": "display_data"
    },
    {
     "data": {
      "text/plain": [
       "0.6386095029159282"
      ]
     },
     "metadata": {},
     "output_type": "display_data"
    },
    {
     "data": {
      "text/plain": [
       "0.5775858822047848"
      ]
     },
     "metadata": {},
     "output_type": "display_data"
    },
    {
     "data": {
      "text/plain": [
       "0.5166082219074664"
      ]
     },
     "metadata": {},
     "output_type": "display_data"
    },
    {
     "data": {
      "text/plain": [
       "0.45567992747159103"
      ]
     },
     "metadata": {},
     "output_type": "display_data"
    },
    {
     "data": {
      "text/plain": [
       "0.394804349794482"
      ]
     },
     "metadata": {},
     "output_type": "display_data"
    },
    {
     "data": {
      "text/plain": [
       "0.3339847855859652"
      ]
     },
     "metadata": {},
     "output_type": "display_data"
    },
    {
     "data": {
      "text/plain": [
       "0.2732244777315511"
      ]
     },
     "metadata": {},
     "output_type": "display_data"
    },
    {
     "data": {
      "text/plain": [
       "0.2125266156559853"
      ]
     },
     "metadata": {},
     "output_type": "display_data"
    },
    {
     "data": {
      "text/plain": [
       "0.1518943356871354"
      ]
     },
     "metadata": {},
     "output_type": "display_data"
    },
    {
     "data": {
      "text/plain": [
       "0.0913307214201442"
      ]
     },
     "metadata": {},
     "output_type": "display_data"
    },
    {
     "data": {
      "text/plain": [
       "0.030838804081929183"
      ]
     },
     "metadata": {},
     "output_type": "display_data"
    },
    {
     "data": {
      "text/plain": [
       "-0.029578437104152755"
      ]
     },
     "metadata": {},
     "output_type": "display_data"
    },
    {
     "data": {
      "text/plain": [
       "-0.08991807455337941"
      ]
     },
     "metadata": {},
     "output_type": "display_data"
    },
    {
     "data": {
      "text/plain": [
       "-0.1501772319545367"
      ]
     },
     "metadata": {},
     "output_type": "display_data"
    },
    {
     "data": {
      "text/plain": [
       "-0.2103530839046428"
      ]
     },
     "metadata": {},
     "output_type": "display_data"
    },
    {
     "data": {
      "text/plain": [
       "-0.2704428555435143"
      ]
     },
     "metadata": {},
     "output_type": "display_data"
    },
    {
     "data": {
      "text/plain": [
       "-0.33044382218819734"
      ]
     },
     "metadata": {},
     "output_type": "display_data"
    },
    {
     "data": {
      "text/plain": [
       "-0.390353308967331"
      ]
     },
     "metadata": {},
     "output_type": "display_data"
    },
    {
     "data": {
      "text/plain": [
       "-0.4501686904553761"
      ]
     },
     "metadata": {},
     "output_type": "display_data"
    },
    {
     "data": {
      "text/plain": [
       "-0.5098873903068029"
      ]
     },
     "metadata": {},
     "output_type": "display_data"
    },
    {
     "data": {
      "text/plain": [
       "-0.5695068808902413"
      ]
     },
     "metadata": {},
     "output_type": "display_data"
    },
    {
     "data": {
      "text/plain": [
       "-0.629024682922589"
      ]
     },
     "metadata": {},
     "output_type": "display_data"
    },
    {
     "data": {
      "text/plain": [
       "-0.6884383651030728"
      ]
     },
     "metadata": {},
     "output_type": "display_data"
    },
    {
     "data": {
      "text/plain": [
       "-0.7477455437473655"
      ]
     },
     "metadata": {},
     "output_type": "display_data"
    },
    {
     "data": {
      "text/plain": [
       "-0.8069438824216633"
      ]
     },
     "metadata": {},
     "output_type": "display_data"
    },
    {
     "data": {
      "text/plain": [
       "-0.8660310915768132"
      ]
     },
     "metadata": {},
     "output_type": "display_data"
    },
    {
     "data": {
      "text/plain": [
       "-0.9250049281824495"
      ]
     },
     "metadata": {},
     "output_type": "display_data"
    },
    {
     "data": {
      "text/plain": [
       "-0.9838631953612058"
      ]
     },
     "metadata": {},
     "output_type": "display_data"
    }
   ],
   "source": [
    "# Check conic violation\n",
    "convio = 0.0\n",
    "for k = 1:30\n",
    "    Uc = cone_u(params, Un[k])\n",
    "    huc = norm(Uc[1:2]) - Uc[3]\n",
    "    convio = norm(huc + abs.(huc),Inf)\n",
    "    display(huc) # should <= 0\n",
    "end\n",
    "Xref .= Xn;\n",
    "Uref .= Un;"
   ]
  },
  {
   "cell_type": "code",
   "execution_count": null,
   "id": "5c8d15e2-a563-4077-96df-8f829ba24d00",
   "metadata": {},
   "outputs": [
    {
     "name": "stdout",
     "output_type": "stream",
     "text": [
      "Our solver reachs MAX PENALTY\n",
      "Our solver reachs MAX PENALTY\n",
      "Our solver reachs MAX PENALTY\n",
      "Our solver reachs MAX PENALTY\n",
      "Our solver reachs MAX PENALTY\n",
      "Our solver reachs MAX PENALTY\n",
      "Our solver reachs MAX PENALTY\n",
      "Our solver reachs MAX PENALTY\n"
     ]
    }
   ],
   "source": [
    "### MPC style with other solver ###\n",
    "include(\"mpc_JuMP.jl\")\n",
    "\n",
    "Nsim = 301\n",
    "Nh = 21\n",
    "t_vec = dt*(0:Nsim-1)\n",
    "\n",
    "x0 = [4, 2, 20, -3, 2, -5.0]  # initial plan\n",
    "# x0 = [5, 2, 21, -3, 2, -5.0]  # change this!\n",
    "# x0 = [4.4, 2.2, 20.2, -3.03, 2.02, -5.05]\n",
    "\n",
    "xg = [0,0,0,0,0,0.0]\n",
    "Q = 100e-1*I(nx)  # make this higher!\n",
    "R = 1e-1*I(nu)\n",
    "Qf = 10*I(nx) # change this!\n",
    "θ_thrust_max = 5.0  # increase max thrust from plan!\n",
    "\n",
    "# state is x y v θ\n",
    "x_min = [-5,-5,0,-10,-10,-10.0]\n",
    "x_max = [5,5,20,10,10,10.0]\n",
    "\n",
    "ncx = 2*nx*0\n",
    "ncu = 2*nu*0\n",
    "ncg = 0\n",
    "ncu_cone = nu*1; \n",
    "cone_scale = 1e0\n",
    "\n",
    "params = (\n",
    "    nx = nx,\n",
    "    nu = nu,\n",
    "    ncx = ncx,\n",
    "    ncu = ncu,\n",
    "    ncg = ncg,\n",
    "    ncu_cone = ncu_cone,\n",
    "    A_cone = A_cone,\n",
    "    c_cone = c_cone,\n",
    "    N = Nh,\n",
    "    Q = Q,\n",
    "    R = R,\n",
    "    Qf = Qf,\n",
    "    u_min = u_min,\n",
    "    u_max = u_max,\n",
    "    x_min = x_min,\n",
    "    x_max = x_max,\n",
    "    Xref = Xref,\n",
    "    Uref = Uref,\n",
    "    dt = dt,\n",
    "    mc = 1.0,\n",
    "    mp = 0.2,\n",
    "    l = 0.5,\n",
    "    g = 9.81,\n",
    ");\n",
    "\n",
    "Xhist = [deepcopy(x0) for i = 1:Nsim]\n",
    "Uhist = [-mass * gravity for k = 1:Nsim-1]\n",
    "# previous iterate\n",
    "X = [deepcopy(x0) for i = 1:Nh]\n",
    "U = [-mass * gravity for k = 1:Nh-1]\n",
    "\n",
    "# new iterate\n",
    "Xn = deepcopy(X)\n",
    "Un = deepcopy(U)\n",
    "\n",
    "P = [zeros(nx,nx) for i = 1:Nh]   # cost to go quadratic term\n",
    "p = [zeros(nx) for i = 1:Nh]      # cost to go linear term\n",
    "d = [zeros(nu) for i = 1:Nh-1]    # feedforward control\n",
    "K = [zeros(nu,nx) for i = 1:Nh-1] # feedback gain\n",
    "\n",
    "optimizer = JuMP.optimizer_with_attributes(COSMO.Optimizer,\n",
    "    \"verbose\"=>false,\n",
    "    \"eps_abs\"=>1e-4,\n",
    "    \"eps_rel\"=>1e-4,\n",
    "    \"rho\"=>1e-2,\n",
    "    \"scaling\"=>0,\n",
    "    \"alpha\"=>1.0)\n",
    "Random.seed!(1);\n",
    "for i = 1:Nsim-Nh-1\n",
    "    params1 = (; params..., Uref = Uref[i:Nh+i], Xref = Xref[i:Nh+i-1])  # update ref\n",
    "    \n",
    "    pos_norm = norm(Xhist[i][1:3], Inf) / 100 # 1% noise\n",
    "    vel_norm = norm(Xhist[4:6], Inf) / 1e6 # 1ppm noise\n",
    "    noise_pos = randn(3)\n",
    "    noise_vel = randn(3)\n",
    "    Xhist[i] += [noise_pos * pos_norm; noise_vel * vel_norm]\n",
    "    X[1] .= Xhist[i] \n",
    "    \n",
    "    # Uhist[i] = mpc_JuMP(optimizer, params1, X, U, A, B, f; warm_start=false)\n",
    "    \n",
    "    # X = [Xhist[i] for i = 1:Nh]  # reset, avoid warm-staring\n",
    "    # U = [-mass * gravity for k = 1:Nh-1]\n",
    "    X[1] .= Xhist[i]; Uhist[i] = mpc(params1,X,U,P,p,K,d,Xn,Un;atol=1e-4,max_iters = 10,verbose = false,ρ = 100, ϕ = 10.0) \n",
    "    \n",
    "    Xhist[i+1] = discrete_dynamics(params1,Xhist[i],Uhist[i],i)  # dynamics\n",
    "end"
   ]
  },
  {
   "cell_type": "markdown",
   "id": "4a1732ad-eb0e-48b4-8896-73a7e8b9997c",
   "metadata": {},
   "source": [
    "1. COSMO gives better tracking results\n",
    "2. Ours always need warm-start"
   ]
  },
  {
   "cell_type": "code",
   "execution_count": null,
   "id": "d651f59e-e700-4bc9-927c-98835f2679f4",
   "metadata": {},
   "outputs": [
    {
     "data": {
      "text/plain": [
       "0.5773827925917239"
      ]
     },
     "metadata": {},
     "output_type": "display_data"
    },
    {
     "data": {
      "text/plain": [
       "-1.2092557891129108"
      ]
     },
     "metadata": {},
     "output_type": "display_data"
    },
    {
     "data": {
      "text/plain": [
       "-1.6772519392017582"
      ]
     },
     "metadata": {},
     "output_type": "display_data"
    },
    {
     "data": {
      "text/plain": [
       "-2.239516548578866"
      ]
     },
     "metadata": {},
     "output_type": "display_data"
    },
    {
     "data": {
      "text/plain": [
       "-1.3960037758558084"
      ]
     },
     "metadata": {},
     "output_type": "display_data"
    },
    {
     "data": {
      "text/plain": [
       "-2.444445673634301"
      ]
     },
     "metadata": {},
     "output_type": "display_data"
    },
    {
     "data": {
      "text/plain": [
       "-2.9138795583666868"
      ]
     },
     "metadata": {},
     "output_type": "display_data"
    },
    {
     "data": {
      "text/plain": [
       "-2.5783432123487335"
      ]
     },
     "metadata": {},
     "output_type": "display_data"
    },
    {
     "data": {
      "text/plain": [
       "-1.6142133196191661"
      ]
     },
     "metadata": {},
     "output_type": "display_data"
    },
    {
     "data": {
      "text/plain": [
       "-1.8599183863501398"
      ]
     },
     "metadata": {},
     "output_type": "display_data"
    },
    {
     "data": {
      "text/plain": [
       "-1.4070973663932218"
      ]
     },
     "metadata": {},
     "output_type": "display_data"
    },
    {
     "data": {
      "text/plain": [
       "-0.487174665197573"
      ]
     },
     "metadata": {},
     "output_type": "display_data"
    },
    {
     "data": {
      "text/plain": [
       "-1.6727815912545"
      ]
     },
     "metadata": {},
     "output_type": "display_data"
    },
    {
     "data": {
      "text/plain": [
       "-2.9513547742837734"
      ]
     },
     "metadata": {},
     "output_type": "display_data"
    },
    {
     "data": {
      "text/plain": [
       "-3.3250042999963405"
      ]
     },
     "metadata": {},
     "output_type": "display_data"
    },
    {
     "data": {
      "text/plain": [
       "-3.143286601233962"
      ]
     },
     "metadata": {},
     "output_type": "display_data"
    },
    {
     "data": {
      "text/plain": [
       "-3.524979675168588"
      ]
     },
     "metadata": {},
     "output_type": "display_data"
    },
    {
     "data": {
      "text/plain": [
       "-3.268260369717094"
      ]
     },
     "metadata": {},
     "output_type": "display_data"
    },
    {
     "data": {
      "text/plain": [
       "-3.325391207384439"
      ]
     },
     "metadata": {},
     "output_type": "display_data"
    },
    {
     "data": {
      "text/plain": [
       "-3.9153724577795073"
      ]
     },
     "metadata": {},
     "output_type": "display_data"
    },
    {
     "data": {
      "text/plain": [
       "-3.4997671723883954"
      ]
     },
     "metadata": {},
     "output_type": "display_data"
    },
    {
     "data": {
      "text/plain": [
       "-2.882591391146941"
      ]
     },
     "metadata": {},
     "output_type": "display_data"
    },
    {
     "data": {
      "text/plain": [
       "-3.3056392460609905"
      ]
     },
     "metadata": {},
     "output_type": "display_data"
    },
    {
     "data": {
      "text/plain": [
       "-3.5461848198881887"
      ]
     },
     "metadata": {},
     "output_type": "display_data"
    },
    {
     "data": {
      "text/plain": [
       "-3.243514068972692"
      ]
     },
     "metadata": {},
     "output_type": "display_data"
    },
    {
     "data": {
      "text/plain": [
       "-2.965515581811835"
      ]
     },
     "metadata": {},
     "output_type": "display_data"
    },
    {
     "data": {
      "text/plain": [
       "-2.860309257714996"
      ]
     },
     "metadata": {},
     "output_type": "display_data"
    },
    {
     "data": {
      "text/plain": [
       "-2.8970573276001508"
      ]
     },
     "metadata": {},
     "output_type": "display_data"
    },
    {
     "data": {
      "text/plain": [
       "-2.5751511676844085"
      ]
     },
     "metadata": {},
     "output_type": "display_data"
    },
    {
     "data": {
      "text/plain": [
       "-2.9528545519892235"
      ]
     },
     "metadata": {},
     "output_type": "display_data"
    },
    {
     "data": {
      "text/plain": [
       "-2.7555859990873905"
      ]
     },
     "metadata": {},
     "output_type": "display_data"
    },
    {
     "data": {
      "text/plain": [
       "-2.337757692717253"
      ]
     },
     "metadata": {},
     "output_type": "display_data"
    },
    {
     "data": {
      "text/plain": [
       "-2.1706043244831736"
      ]
     },
     "metadata": {},
     "output_type": "display_data"
    },
    {
     "data": {
      "text/plain": [
       "-1.7130878529995428"
      ]
     },
     "metadata": {},
     "output_type": "display_data"
    },
    {
     "data": {
      "text/plain": [
       "-1.369676505454219"
      ]
     },
     "metadata": {},
     "output_type": "display_data"
    },
    {
     "data": {
      "text/plain": [
       "-2.2964955626576575"
      ]
     },
     "metadata": {},
     "output_type": "display_data"
    },
    {
     "data": {
      "text/plain": [
       "-2.116036185859265"
      ]
     },
     "metadata": {},
     "output_type": "display_data"
    },
    {
     "data": {
      "text/plain": [
       "-2.2491653058534897"
      ]
     },
     "metadata": {},
     "output_type": "display_data"
    },
    {
     "data": {
      "text/plain": [
       "-1.8217796590568565"
      ]
     },
     "metadata": {},
     "output_type": "display_data"
    },
    {
     "data": {
      "text/plain": [
       "-2.353667339964298"
      ]
     },
     "metadata": {},
     "output_type": "display_data"
    },
    {
     "data": {
      "text/plain": [
       "-1.7609474216833298"
      ]
     },
     "metadata": {},
     "output_type": "display_data"
    },
    {
     "data": {
      "text/plain": [
       "-1.968332656682895"
      ]
     },
     "metadata": {},
     "output_type": "display_data"
    },
    {
     "data": {
      "text/plain": [
       "-2.0994904923331834"
      ]
     },
     "metadata": {},
     "output_type": "display_data"
    },
    {
     "data": {
      "text/plain": [
       "-0.6840538466520627"
      ]
     },
     "metadata": {},
     "output_type": "display_data"
    },
    {
     "data": {
      "text/plain": [
       "-1.880634475475878"
      ]
     },
     "metadata": {},
     "output_type": "display_data"
    },
    {
     "data": {
      "text/plain": [
       "-1.854687225479796"
      ]
     },
     "metadata": {},
     "output_type": "display_data"
    },
    {
     "data": {
      "text/plain": [
       "-1.296395628503877"
      ]
     },
     "metadata": {},
     "output_type": "display_data"
    },
    {
     "data": {
      "text/plain": [
       "-0.32343161589511205"
      ]
     },
     "metadata": {},
     "output_type": "display_data"
    },
    {
     "data": {
      "text/plain": [
       "-0.22815132390204163"
      ]
     },
     "metadata": {},
     "output_type": "display_data"
    },
    {
     "data": {
      "text/plain": [
       "-0.9834678301770268"
      ]
     },
     "metadata": {},
     "output_type": "display_data"
    },
    {
     "data": {
      "text/plain": [
       "-0.8941781540126073"
      ]
     },
     "metadata": {},
     "output_type": "display_data"
    },
    {
     "data": {
      "text/plain": [
       "-0.33539580071324515"
      ]
     },
     "metadata": {},
     "output_type": "display_data"
    },
    {
     "data": {
      "text/plain": [
       "0.23279691108732337"
      ]
     },
     "metadata": {},
     "output_type": "display_data"
    },
    {
     "data": {
      "text/plain": [
       "0.024086456558949365"
      ]
     },
     "metadata": {},
     "output_type": "display_data"
    },
    {
     "data": {
      "text/plain": [
       "-0.09979386644097588"
      ]
     },
     "metadata": {},
     "output_type": "display_data"
    },
    {
     "data": {
      "text/plain": [
       "-0.5996962731661082"
      ]
     },
     "metadata": {},
     "output_type": "display_data"
    },
    {
     "data": {
      "text/plain": [
       "-0.17186720921952414"
      ]
     },
     "metadata": {},
     "output_type": "display_data"
    },
    {
     "data": {
      "text/plain": [
       "-0.9551546630429328"
      ]
     },
     "metadata": {},
     "output_type": "display_data"
    },
    {
     "data": {
      "text/plain": [
       "-0.9160612726433239"
      ]
     },
     "metadata": {},
     "output_type": "display_data"
    },
    {
     "data": {
      "text/plain": [
       "-1.3872357486624658"
      ]
     },
     "metadata": {},
     "output_type": "display_data"
    },
    {
     "data": {
      "text/plain": [
       "-1.8918508443503645"
      ]
     },
     "metadata": {},
     "output_type": "display_data"
    },
    {
     "data": {
      "text/plain": [
       "-2.0532936676695055"
      ]
     },
     "metadata": {},
     "output_type": "display_data"
    },
    {
     "data": {
      "text/plain": [
       "-1.6670392877759488"
      ]
     },
     "metadata": {},
     "output_type": "display_data"
    },
    {
     "data": {
      "text/plain": [
       "-2.233233725273318"
      ]
     },
     "metadata": {},
     "output_type": "display_data"
    },
    {
     "data": {
      "text/plain": [
       "-3.038963559290419"
      ]
     },
     "metadata": {},
     "output_type": "display_data"
    },
    {
     "data": {
      "text/plain": [
       "-3.0032686063121616"
      ]
     },
     "metadata": {},
     "output_type": "display_data"
    },
    {
     "data": {
      "text/plain": [
       "-3.1828502320767935"
      ]
     },
     "metadata": {},
     "output_type": "display_data"
    },
    {
     "data": {
      "text/plain": [
       "-3.143648785901777"
      ]
     },
     "metadata": {},
     "output_type": "display_data"
    },
    {
     "data": {
      "text/plain": [
       "-3.124468047458291"
      ]
     },
     "metadata": {},
     "output_type": "display_data"
    },
    {
     "data": {
      "text/plain": [
       "-3.955710426511004"
      ]
     },
     "metadata": {},
     "output_type": "display_data"
    },
    {
     "data": {
      "text/plain": [
       "-4.1684235771648845"
      ]
     },
     "metadata": {},
     "output_type": "display_data"
    },
    {
     "data": {
      "text/plain": [
       "-4.7438251489613705"
      ]
     },
     "metadata": {},
     "output_type": "display_data"
    },
    {
     "data": {
      "text/plain": [
       "-5.200653192157047"
      ]
     },
     "metadata": {},
     "output_type": "display_data"
    },
    {
     "data": {
      "text/plain": [
       "-4.714675131565797"
      ]
     },
     "metadata": {},
     "output_type": "display_data"
    },
    {
     "data": {
      "text/plain": [
       "-4.37091212170323"
      ]
     },
     "metadata": {},
     "output_type": "display_data"
    },
    {
     "data": {
      "text/plain": [
       "-3.999664726369584"
      ]
     },
     "metadata": {},
     "output_type": "display_data"
    },
    {
     "data": {
      "text/plain": [
       "-3.422860539415457"
      ]
     },
     "metadata": {},
     "output_type": "display_data"
    },
    {
     "data": {
      "text/plain": [
       "-3.89606872687828"
      ]
     },
     "metadata": {},
     "output_type": "display_data"
    },
    {
     "data": {
      "text/plain": [
       "-5.551998687976506"
      ]
     },
     "metadata": {},
     "output_type": "display_data"
    },
    {
     "data": {
      "text/plain": [
       "-6.104701177763527"
      ]
     },
     "metadata": {},
     "output_type": "display_data"
    },
    {
     "data": {
      "text/plain": [
       "-6.928292957332893"
      ]
     },
     "metadata": {},
     "output_type": "display_data"
    },
    {
     "data": {
      "text/plain": [
       "-7.366940296978721"
      ]
     },
     "metadata": {},
     "output_type": "display_data"
    },
    {
     "data": {
      "text/plain": [
       "-6.747620702687646"
      ]
     },
     "metadata": {},
     "output_type": "display_data"
    },
    {
     "data": {
      "text/plain": [
       "-6.579697368049345"
      ]
     },
     "metadata": {},
     "output_type": "display_data"
    },
    {
     "data": {
      "text/plain": [
       "-6.153676537847965"
      ]
     },
     "metadata": {},
     "output_type": "display_data"
    },
    {
     "data": {
      "text/plain": [
       "-6.104421119144458"
      ]
     },
     "metadata": {},
     "output_type": "display_data"
    },
    {
     "data": {
      "text/plain": [
       "-5.793339217062525"
      ]
     },
     "metadata": {},
     "output_type": "display_data"
    },
    {
     "data": {
      "text/plain": [
       "-5.980210776945206"
      ]
     },
     "metadata": {},
     "output_type": "display_data"
    },
    {
     "data": {
      "text/plain": [
       "-4.690327926155208"
      ]
     },
     "metadata": {},
     "output_type": "display_data"
    },
    {
     "data": {
      "text/plain": [
       "-4.535970152191225"
      ]
     },
     "metadata": {},
     "output_type": "display_data"
    },
    {
     "data": {
      "text/plain": [
       "-4.953173362422353"
      ]
     },
     "metadata": {},
     "output_type": "display_data"
    },
    {
     "data": {
      "text/plain": [
       "-5.154468580092326"
      ]
     },
     "metadata": {},
     "output_type": "display_data"
    },
    {
     "data": {
      "text/plain": [
       "-5.046667874084184"
      ]
     },
     "metadata": {},
     "output_type": "display_data"
    },
    {
     "data": {
      "text/plain": [
       "-5.534743254382043"
      ]
     },
     "metadata": {},
     "output_type": "display_data"
    },
    {
     "data": {
      "text/plain": [
       "-5.433499668220815"
      ]
     },
     "metadata": {},
     "output_type": "display_data"
    },
    {
     "data": {
      "text/plain": [
       "-6.098409074068181"
      ]
     },
     "metadata": {},
     "output_type": "display_data"
    },
    {
     "data": {
      "text/plain": [
       "-6.09639018635259"
      ]
     },
     "metadata": {},
     "output_type": "display_data"
    },
    {
     "data": {
      "text/plain": [
       "-6.1809816784597125"
      ]
     },
     "metadata": {},
     "output_type": "display_data"
    },
    {
     "data": {
      "text/plain": [
       "-6.544078184315619"
      ]
     },
     "metadata": {},
     "output_type": "display_data"
    },
    {
     "data": {
      "text/plain": [
       "-6.080446420536225"
      ]
     },
     "metadata": {},
     "output_type": "display_data"
    },
    {
     "data": {
      "text/plain": [
       "-5.63376962612886"
      ]
     },
     "metadata": {},
     "output_type": "display_data"
    },
    {
     "data": {
      "text/plain": [
       "-5.781143800550421"
      ]
     },
     "metadata": {},
     "output_type": "display_data"
    },
    {
     "data": {
      "text/plain": [
       "-5.95738256309426"
      ]
     },
     "metadata": {},
     "output_type": "display_data"
    },
    {
     "data": {
      "text/plain": [
       "-5.407270249448292"
      ]
     },
     "metadata": {},
     "output_type": "display_data"
    },
    {
     "data": {
      "text/plain": [
       "-4.31569742398861"
      ]
     },
     "metadata": {},
     "output_type": "display_data"
    },
    {
     "data": {
      "text/plain": [
       "-3.559640818777755"
      ]
     },
     "metadata": {},
     "output_type": "display_data"
    },
    {
     "data": {
      "text/plain": [
       "-3.1807838289250876"
      ]
     },
     "metadata": {},
     "output_type": "display_data"
    },
    {
     "data": {
      "text/plain": [
       "-3.7947790851715295"
      ]
     },
     "metadata": {},
     "output_type": "display_data"
    },
    {
     "data": {
      "text/plain": [
       "-4.900642224562565"
      ]
     },
     "metadata": {},
     "output_type": "display_data"
    },
    {
     "data": {
      "text/plain": [
       "-4.545270090574057"
      ]
     },
     "metadata": {},
     "output_type": "display_data"
    },
    {
     "data": {
      "text/plain": [
       "-5.145726394826202"
      ]
     },
     "metadata": {},
     "output_type": "display_data"
    },
    {
     "data": {
      "text/plain": [
       "-5.56375921209187"
      ]
     },
     "metadata": {},
     "output_type": "display_data"
    },
    {
     "data": {
      "text/plain": [
       "-5.288683069760928"
      ]
     },
     "metadata": {},
     "output_type": "display_data"
    },
    {
     "data": {
      "text/plain": [
       "-4.380528937315249"
      ]
     },
     "metadata": {},
     "output_type": "display_data"
    },
    {
     "data": {
      "text/plain": [
       "-4.006010637114419"
      ]
     },
     "metadata": {},
     "output_type": "display_data"
    },
    {
     "data": {
      "text/plain": [
       "-4.622629656345957"
      ]
     },
     "metadata": {},
     "output_type": "display_data"
    },
    {
     "data": {
      "text/plain": [
       "-5.547730942910623"
      ]
     },
     "metadata": {},
     "output_type": "display_data"
    },
    {
     "data": {
      "text/plain": [
       "-5.9126669766100335"
      ]
     },
     "metadata": {},
     "output_type": "display_data"
    },
    {
     "data": {
      "text/plain": [
       "-6.930400767175626"
      ]
     },
     "metadata": {},
     "output_type": "display_data"
    },
    {
     "data": {
      "text/plain": [
       "-6.9310391135705185"
      ]
     },
     "metadata": {},
     "output_type": "display_data"
    },
    {
     "data": {
      "text/plain": [
       "-7.489945909091688"
      ]
     },
     "metadata": {},
     "output_type": "display_data"
    },
    {
     "data": {
      "text/plain": [
       "-7.65853468067873"
      ]
     },
     "metadata": {},
     "output_type": "display_data"
    },
    {
     "data": {
      "text/plain": [
       "-8.112165443501944"
      ]
     },
     "metadata": {},
     "output_type": "display_data"
    },
    {
     "data": {
      "text/plain": [
       "-7.304840656571251"
      ]
     },
     "metadata": {},
     "output_type": "display_data"
    },
    {
     "data": {
      "text/plain": [
       "-7.489204873084939"
      ]
     },
     "metadata": {},
     "output_type": "display_data"
    },
    {
     "data": {
      "text/plain": [
       "-7.809462001619837"
      ]
     },
     "metadata": {},
     "output_type": "display_data"
    },
    {
     "data": {
      "text/plain": [
       "-7.191053092692164"
      ]
     },
     "metadata": {},
     "output_type": "display_data"
    },
    {
     "data": {
      "text/plain": [
       "-7.421371498659555"
      ]
     },
     "metadata": {},
     "output_type": "display_data"
    },
    {
     "data": {
      "text/plain": [
       "-7.009954436387233"
      ]
     },
     "metadata": {},
     "output_type": "display_data"
    },
    {
     "data": {
      "text/plain": [
       "-6.486592103891809"
      ]
     },
     "metadata": {},
     "output_type": "display_data"
    },
    {
     "data": {
      "text/plain": [
       "-6.924605842159767"
      ]
     },
     "metadata": {},
     "output_type": "display_data"
    },
    {
     "data": {
      "text/plain": [
       "-7.088772778940951"
      ]
     },
     "metadata": {},
     "output_type": "display_data"
    },
    {
     "data": {
      "text/plain": [
       "-7.261818366527171"
      ]
     },
     "metadata": {},
     "output_type": "display_data"
    },
    {
     "data": {
      "text/plain": [
       "-7.3099316179094105"
      ]
     },
     "metadata": {},
     "output_type": "display_data"
    },
    {
     "data": {
      "text/plain": [
       "-5.901346472483153"
      ]
     },
     "metadata": {},
     "output_type": "display_data"
    },
    {
     "data": {
      "text/plain": [
       "-5.102101898523404"
      ]
     },
     "metadata": {},
     "output_type": "display_data"
    },
    {
     "data": {
      "text/plain": [
       "-5.522995000768271"
      ]
     },
     "metadata": {},
     "output_type": "display_data"
    },
    {
     "data": {
      "text/plain": [
       "-6.236604762992206"
      ]
     },
     "metadata": {},
     "output_type": "display_data"
    },
    {
     "data": {
      "text/plain": [
       "-6.168939518903629"
      ]
     },
     "metadata": {},
     "output_type": "display_data"
    },
    {
     "data": {
      "text/plain": [
       "-5.1130306803665775"
      ]
     },
     "metadata": {},
     "output_type": "display_data"
    },
    {
     "data": {
      "text/plain": [
       "-5.2471225402333985"
      ]
     },
     "metadata": {},
     "output_type": "display_data"
    },
    {
     "data": {
      "text/plain": [
       "-5.491819868011435"
      ]
     },
     "metadata": {},
     "output_type": "display_data"
    },
    {
     "data": {
      "text/plain": [
       "-4.319472654195039"
      ]
     },
     "metadata": {},
     "output_type": "display_data"
    },
    {
     "data": {
      "text/plain": [
       "-5.1290144980660815"
      ]
     },
     "metadata": {},
     "output_type": "display_data"
    },
    {
     "data": {
      "text/plain": [
       "-5.008855046977763"
      ]
     },
     "metadata": {},
     "output_type": "display_data"
    },
    {
     "data": {
      "text/plain": [
       "-6.416557293919298"
      ]
     },
     "metadata": {},
     "output_type": "display_data"
    },
    {
     "data": {
      "text/plain": [
       "-5.935063520815477"
      ]
     },
     "metadata": {},
     "output_type": "display_data"
    },
    {
     "data": {
      "text/plain": [
       "-5.846264114924331"
      ]
     },
     "metadata": {},
     "output_type": "display_data"
    },
    {
     "data": {
      "text/plain": [
       "-5.250729255580829"
      ]
     },
     "metadata": {},
     "output_type": "display_data"
    },
    {
     "data": {
      "text/plain": [
       "-6.427793543712462"
      ]
     },
     "metadata": {},
     "output_type": "display_data"
    },
    {
     "data": {
      "text/plain": [
       "-7.755656426779545"
      ]
     },
     "metadata": {},
     "output_type": "display_data"
    },
    {
     "data": {
      "text/plain": [
       "-7.270651092734911"
      ]
     },
     "metadata": {},
     "output_type": "display_data"
    },
    {
     "data": {
      "text/plain": [
       "-7.193655949770335"
      ]
     },
     "metadata": {},
     "output_type": "display_data"
    },
    {
     "data": {
      "text/plain": [
       "-7.01573763932284"
      ]
     },
     "metadata": {},
     "output_type": "display_data"
    },
    {
     "data": {
      "text/plain": [
       "-6.4785321107128375"
      ]
     },
     "metadata": {},
     "output_type": "display_data"
    },
    {
     "data": {
      "text/plain": [
       "-5.846288397275712"
      ]
     },
     "metadata": {},
     "output_type": "display_data"
    },
    {
     "data": {
      "text/plain": [
       "-5.755967192699586"
      ]
     },
     "metadata": {},
     "output_type": "display_data"
    },
    {
     "data": {
      "text/plain": [
       "-6.317111220201267"
      ]
     },
     "metadata": {},
     "output_type": "display_data"
    },
    {
     "data": {
      "text/plain": [
       "-5.616390787071972"
      ]
     },
     "metadata": {},
     "output_type": "display_data"
    },
    {
     "data": {
      "text/plain": [
       "-5.4001651167134685"
      ]
     },
     "metadata": {},
     "output_type": "display_data"
    },
    {
     "data": {
      "text/plain": [
       "-5.864093090786188"
      ]
     },
     "metadata": {},
     "output_type": "display_data"
    },
    {
     "data": {
      "text/plain": [
       "-5.806291163134411"
      ]
     },
     "metadata": {},
     "output_type": "display_data"
    },
    {
     "data": {
      "text/plain": [
       "-6.118778358485605"
      ]
     },
     "metadata": {},
     "output_type": "display_data"
    },
    {
     "data": {
      "text/plain": [
       "-5.018854004904721"
      ]
     },
     "metadata": {},
     "output_type": "display_data"
    },
    {
     "data": {
      "text/plain": [
       "-4.394391581760039"
      ]
     },
     "metadata": {},
     "output_type": "display_data"
    },
    {
     "data": {
      "text/plain": [
       "-4.657526987713216"
      ]
     },
     "metadata": {},
     "output_type": "display_data"
    },
    {
     "data": {
      "text/plain": [
       "-4.721374080147872"
      ]
     },
     "metadata": {},
     "output_type": "display_data"
    },
    {
     "data": {
      "text/plain": [
       "-4.7875213443106945"
      ]
     },
     "metadata": {},
     "output_type": "display_data"
    },
    {
     "data": {
      "text/plain": [
       "-3.423121072766845"
      ]
     },
     "metadata": {},
     "output_type": "display_data"
    },
    {
     "data": {
      "text/plain": [
       "-3.2900277781416642"
      ]
     },
     "metadata": {},
     "output_type": "display_data"
    },
    {
     "data": {
      "text/plain": [
       "-3.181806129901484"
      ]
     },
     "metadata": {},
     "output_type": "display_data"
    },
    {
     "data": {
      "text/plain": [
       "-3.9867099388135685"
      ]
     },
     "metadata": {},
     "output_type": "display_data"
    },
    {
     "data": {
      "text/plain": [
       "-5.113465256093601"
      ]
     },
     "metadata": {},
     "output_type": "display_data"
    },
    {
     "data": {
      "text/plain": [
       "-5.858033159289658"
      ]
     },
     "metadata": {},
     "output_type": "display_data"
    },
    {
     "data": {
      "text/plain": [
       "-5.155823107875875"
      ]
     },
     "metadata": {},
     "output_type": "display_data"
    },
    {
     "data": {
      "text/plain": [
       "-5.016829191378204"
      ]
     },
     "metadata": {},
     "output_type": "display_data"
    },
    {
     "data": {
      "text/plain": [
       "-4.283638543966338"
      ]
     },
     "metadata": {},
     "output_type": "display_data"
    },
    {
     "data": {
      "text/plain": [
       "-3.755876763775885"
      ]
     },
     "metadata": {},
     "output_type": "display_data"
    },
    {
     "data": {
      "text/plain": [
       "-3.186940285819171"
      ]
     },
     "metadata": {},
     "output_type": "display_data"
    },
    {
     "data": {
      "text/plain": [
       "-2.688898742065188"
      ]
     },
     "metadata": {},
     "output_type": "display_data"
    },
    {
     "data": {
      "text/plain": [
       "-3.5797961116972647"
      ]
     },
     "metadata": {},
     "output_type": "display_data"
    },
    {
     "data": {
      "text/plain": [
       "-4.101505906418765"
      ]
     },
     "metadata": {},
     "output_type": "display_data"
    },
    {
     "data": {
      "text/plain": [
       "-5.3606539803170365"
      ]
     },
     "metadata": {},
     "output_type": "display_data"
    },
    {
     "data": {
      "text/plain": [
       "-5.314750444805702"
      ]
     },
     "metadata": {},
     "output_type": "display_data"
    },
    {
     "data": {
      "text/plain": [
       "-5.416826531109802"
      ]
     },
     "metadata": {},
     "output_type": "display_data"
    },
    {
     "data": {
      "text/plain": [
       "-5.018933431041698"
      ]
     },
     "metadata": {},
     "output_type": "display_data"
    },
    {
     "data": {
      "text/plain": [
       "-5.653928076977802"
      ]
     },
     "metadata": {},
     "output_type": "display_data"
    },
    {
     "data": {
      "text/plain": [
       "-6.310627077765342"
      ]
     },
     "metadata": {},
     "output_type": "display_data"
    },
    {
     "data": {
      "text/plain": [
       "-6.4596074925259765"
      ]
     },
     "metadata": {},
     "output_type": "display_data"
    },
    {
     "data": {
      "text/plain": [
       "-6.401653235118101"
      ]
     },
     "metadata": {},
     "output_type": "display_data"
    },
    {
     "data": {
      "text/plain": [
       "-6.6453125721944035"
      ]
     },
     "metadata": {},
     "output_type": "display_data"
    },
    {
     "data": {
      "text/plain": [
       "-5.062709702554846"
      ]
     },
     "metadata": {},
     "output_type": "display_data"
    },
    {
     "data": {
      "text/plain": [
       "-5.2014331285877144"
      ]
     },
     "metadata": {},
     "output_type": "display_data"
    },
    {
     "data": {
      "text/plain": [
       "-7.321748677307772"
      ]
     },
     "metadata": {},
     "output_type": "display_data"
    },
    {
     "data": {
      "text/plain": [
       "-7.076552938866118"
      ]
     },
     "metadata": {},
     "output_type": "display_data"
    },
    {
     "data": {
      "text/plain": [
       "-5.804510648062453"
      ]
     },
     "metadata": {},
     "output_type": "display_data"
    },
    {
     "data": {
      "text/plain": [
       "-5.167434195832058"
      ]
     },
     "metadata": {},
     "output_type": "display_data"
    },
    {
     "data": {
      "text/plain": [
       "-5.510715723281235"
      ]
     },
     "metadata": {},
     "output_type": "display_data"
    },
    {
     "data": {
      "text/plain": [
       "-5.568851116528722"
      ]
     },
     "metadata": {},
     "output_type": "display_data"
    },
    {
     "data": {
      "text/plain": [
       "-4.455056613914781"
      ]
     },
     "metadata": {},
     "output_type": "display_data"
    },
    {
     "data": {
      "text/plain": [
       "-3.5318851517346586"
      ]
     },
     "metadata": {},
     "output_type": "display_data"
    },
    {
     "data": {
      "text/plain": [
       "-2.284108578520268"
      ]
     },
     "metadata": {},
     "output_type": "display_data"
    },
    {
     "data": {
      "text/plain": [
       "-1.0466405858840497"
      ]
     },
     "metadata": {},
     "output_type": "display_data"
    },
    {
     "data": {
      "text/plain": [
       "0.27124340965843885"
      ]
     },
     "metadata": {},
     "output_type": "display_data"
    },
    {
     "data": {
      "text/plain": [
       "0.2734989337017728"
      ]
     },
     "metadata": {},
     "output_type": "display_data"
    },
    {
     "data": {
      "text/plain": [
       "0.10465879442447967"
      ]
     },
     "metadata": {},
     "output_type": "display_data"
    },
    {
     "data": {
      "text/plain": [
       "-0.40888241574866413"
      ]
     },
     "metadata": {},
     "output_type": "display_data"
    },
    {
     "data": {
      "text/plain": [
       "-0.6985674404510624"
      ]
     },
     "metadata": {},
     "output_type": "display_data"
    },
    {
     "data": {
      "text/plain": [
       "-0.722143306507542"
      ]
     },
     "metadata": {},
     "output_type": "display_data"
    },
    {
     "data": {
      "text/plain": [
       "0.24343829652398075"
      ]
     },
     "metadata": {},
     "output_type": "display_data"
    },
    {
     "data": {
      "text/plain": [
       "0.2860787695362328"
      ]
     },
     "metadata": {},
     "output_type": "display_data"
    },
    {
     "data": {
      "text/plain": [
       "-1.0532604217336408"
      ]
     },
     "metadata": {},
     "output_type": "display_data"
    },
    {
     "data": {
      "text/plain": [
       "-0.5895845717650916"
      ]
     },
     "metadata": {},
     "output_type": "display_data"
    },
    {
     "data": {
      "text/plain": [
       "-1.7003862984363587"
      ]
     },
     "metadata": {},
     "output_type": "display_data"
    },
    {
     "data": {
      "text/plain": [
       "-1.6965455769046889"
      ]
     },
     "metadata": {},
     "output_type": "display_data"
    },
    {
     "data": {
      "text/plain": [
       "-1.9589139228313242"
      ]
     },
     "metadata": {},
     "output_type": "display_data"
    },
    {
     "data": {
      "text/plain": [
       "-2.3599877281710655"
      ]
     },
     "metadata": {},
     "output_type": "display_data"
    },
    {
     "data": {
      "text/plain": [
       "-3.2614704546114637"
      ]
     },
     "metadata": {},
     "output_type": "display_data"
    },
    {
     "data": {
      "text/plain": [
       "-1.8281901782514351"
      ]
     },
     "metadata": {},
     "output_type": "display_data"
    },
    {
     "data": {
      "text/plain": [
       "-1.3909796219284711"
      ]
     },
     "metadata": {},
     "output_type": "display_data"
    },
    {
     "data": {
      "text/plain": [
       "-2.7575658351980663"
      ]
     },
     "metadata": {},
     "output_type": "display_data"
    },
    {
     "data": {
      "text/plain": [
       "-3.7822938357797757"
      ]
     },
     "metadata": {},
     "output_type": "display_data"
    },
    {
     "data": {
      "text/plain": [
       "-3.598256360100307"
      ]
     },
     "metadata": {},
     "output_type": "display_data"
    },
    {
     "data": {
      "text/plain": [
       "-3.7605501543632"
      ]
     },
     "metadata": {},
     "output_type": "display_data"
    },
    {
     "data": {
      "text/plain": [
       "-2.89641097631911"
      ]
     },
     "metadata": {},
     "output_type": "display_data"
    },
    {
     "data": {
      "text/plain": [
       "-3.9639473976423494"
      ]
     },
     "metadata": {},
     "output_type": "display_data"
    },
    {
     "data": {
      "text/plain": [
       "-4.476771213510503"
      ]
     },
     "metadata": {},
     "output_type": "display_data"
    },
    {
     "data": {
      "text/plain": [
       "-5.065552812321612"
      ]
     },
     "metadata": {},
     "output_type": "display_data"
    },
    {
     "data": {
      "text/plain": [
       "-5.036474952980124"
      ]
     },
     "metadata": {},
     "output_type": "display_data"
    },
    {
     "data": {
      "text/plain": [
       "-5.259891786853596"
      ]
     },
     "metadata": {},
     "output_type": "display_data"
    },
    {
     "data": {
      "text/plain": [
       "-5.455139383575771"
      ]
     },
     "metadata": {},
     "output_type": "display_data"
    },
    {
     "data": {
      "text/plain": [
       "-6.029931180384583"
      ]
     },
     "metadata": {},
     "output_type": "display_data"
    },
    {
     "data": {
      "text/plain": [
       "-6.7918048245606775"
      ]
     },
     "metadata": {},
     "output_type": "display_data"
    },
    {
     "data": {
      "text/plain": [
       "-5.5696462889035505"
      ]
     },
     "metadata": {},
     "output_type": "display_data"
    },
    {
     "data": {
      "text/plain": [
       "-5.809160350005481"
      ]
     },
     "metadata": {},
     "output_type": "display_data"
    },
    {
     "data": {
      "text/plain": [
       "-4.83511094416089"
      ]
     },
     "metadata": {},
     "output_type": "display_data"
    },
    {
     "data": {
      "text/plain": [
       "-4.530306885624906"
      ]
     },
     "metadata": {},
     "output_type": "display_data"
    },
    {
     "data": {
      "text/plain": [
       "-5.101156460100444"
      ]
     },
     "metadata": {},
     "output_type": "display_data"
    },
    {
     "data": {
      "text/plain": [
       "-5.491474729338641"
      ]
     },
     "metadata": {},
     "output_type": "display_data"
    },
    {
     "data": {
      "text/plain": [
       "-5.436745503872732"
      ]
     },
     "metadata": {},
     "output_type": "display_data"
    },
    {
     "data": {
      "text/plain": [
       "-6.053041844511056"
      ]
     },
     "metadata": {},
     "output_type": "display_data"
    },
    {
     "data": {
      "text/plain": [
       "-6.655354953653765"
      ]
     },
     "metadata": {},
     "output_type": "display_data"
    },
    {
     "data": {
      "text/plain": [
       "-7.2670041834065024"
      ]
     },
     "metadata": {},
     "output_type": "display_data"
    },
    {
     "data": {
      "text/plain": [
       "-7.366495077202089"
      ]
     },
     "metadata": {},
     "output_type": "display_data"
    },
    {
     "data": {
      "text/plain": [
       "-8.004519369502466"
      ]
     },
     "metadata": {},
     "output_type": "display_data"
    },
    {
     "data": {
      "text/plain": [
       "-7.959850239414592"
      ]
     },
     "metadata": {},
     "output_type": "display_data"
    },
    {
     "data": {
      "text/plain": [
       "-7.7623328079785665"
      ]
     },
     "metadata": {},
     "output_type": "display_data"
    },
    {
     "data": {
      "text/plain": [
       "-7.500940217189252"
      ]
     },
     "metadata": {},
     "output_type": "display_data"
    },
    {
     "data": {
      "text/plain": [
       "-7.382155576069179"
      ]
     },
     "metadata": {},
     "output_type": "display_data"
    },
    {
     "data": {
      "text/plain": [
       "-7.304686839467098"
      ]
     },
     "metadata": {},
     "output_type": "display_data"
    },
    {
     "data": {
      "text/plain": [
       "-7.399857645805278"
      ]
     },
     "metadata": {},
     "output_type": "display_data"
    },
    {
     "data": {
      "text/plain": [
       "-7.462265707790129"
      ]
     },
     "metadata": {},
     "output_type": "display_data"
    },
    {
     "data": {
      "text/plain": [
       "-7.318037511106379"
      ]
     },
     "metadata": {},
     "output_type": "display_data"
    },
    {
     "data": {
      "text/plain": [
       "-7.145872505522806"
      ]
     },
     "metadata": {},
     "output_type": "display_data"
    },
    {
     "data": {
      "text/plain": [
       "-7.069376494197698"
      ]
     },
     "metadata": {},
     "output_type": "display_data"
    },
    {
     "data": {
      "text/plain": [
       "-7.0458973110059695"
      ]
     },
     "metadata": {},
     "output_type": "display_data"
    },
    {
     "data": {
      "text/plain": [
       "-6.688521013558742"
      ]
     },
     "metadata": {},
     "output_type": "display_data"
    },
    {
     "data": {
      "text/plain": [
       "-6.634710308234169"
      ]
     },
     "metadata": {},
     "output_type": "display_data"
    },
    {
     "data": {
      "text/plain": [
       "-6.9935285228740325"
      ]
     },
     "metadata": {},
     "output_type": "display_data"
    },
    {
     "data": {
      "text/plain": [
       "-6.581882640037528"
      ]
     },
     "metadata": {},
     "output_type": "display_data"
    },
    {
     "data": {
      "text/plain": [
       "-7.2945844767948405"
      ]
     },
     "metadata": {},
     "output_type": "display_data"
    },
    {
     "data": {
      "text/plain": [
       "-7.657173275978467"
      ]
     },
     "metadata": {},
     "output_type": "display_data"
    },
    {
     "data": {
      "text/plain": [
       "-7.741059740864648"
      ]
     },
     "metadata": {},
     "output_type": "display_data"
    },
    {
     "data": {
      "text/plain": [
       "-7.554523052822484"
      ]
     },
     "metadata": {},
     "output_type": "display_data"
    },
    {
     "data": {
      "text/plain": [
       "-8.243181338982307"
      ]
     },
     "metadata": {},
     "output_type": "display_data"
    },
    {
     "data": {
      "text/plain": [
       "-8.142306195972699"
      ]
     },
     "metadata": {},
     "output_type": "display_data"
    },
    {
     "data": {
      "text/plain": [
       "-8.113333455415368"
      ]
     },
     "metadata": {},
     "output_type": "display_data"
    },
    {
     "data": {
      "text/plain": [
       "-8.092777567356642"
      ]
     },
     "metadata": {},
     "output_type": "display_data"
    },
    {
     "data": {
      "text/plain": [
       "-8.131863166525575"
      ]
     },
     "metadata": {},
     "output_type": "display_data"
    },
    {
     "data": {
      "text/plain": [
       "-8.300010808611777"
      ]
     },
     "metadata": {},
     "output_type": "display_data"
    },
    {
     "data": {
      "text/plain": [
       "-8.110508838839888"
      ]
     },
     "metadata": {},
     "output_type": "display_data"
    },
    {
     "data": {
      "text/plain": [
       "-8.353133797324947"
      ]
     },
     "metadata": {},
     "output_type": "display_data"
    },
    {
     "data": {
      "text/plain": [
       "-8.394393134985512"
      ]
     },
     "metadata": {},
     "output_type": "display_data"
    },
    {
     "data": {
      "text/plain": [
       "-8.359825413816388"
      ]
     },
     "metadata": {},
     "output_type": "display_data"
    },
    {
     "data": {
      "text/plain": [
       "-8.434920522376268"
      ]
     },
     "metadata": {},
     "output_type": "display_data"
    },
    {
     "data": {
      "text/plain": [
       "-8.426627847873478"
      ]
     },
     "metadata": {},
     "output_type": "display_data"
    },
    {
     "data": {
      "text/plain": [
       "-8.347897969427489"
      ]
     },
     "metadata": {},
     "output_type": "display_data"
    },
    {
     "data": {
      "text/plain": [
       "-8.404982283083388"
      ]
     },
     "metadata": {},
     "output_type": "display_data"
    },
    {
     "data": {
      "text/plain": [
       "-8.544783828831793"
      ]
     },
     "metadata": {},
     "output_type": "display_data"
    },
    {
     "data": {
      "text/plain": [
       "-8.582637891893146"
      ]
     },
     "metadata": {},
     "output_type": "display_data"
    },
    {
     "data": {
      "text/plain": [
       "-8.582637891893146"
      ]
     },
     "metadata": {},
     "output_type": "display_data"
    },
    {
     "data": {
      "text/plain": [
       "-8.582637891893146"
      ]
     },
     "metadata": {},
     "output_type": "display_data"
    },
    {
     "data": {
      "text/plain": [
       "-8.582637891893146"
      ]
     },
     "metadata": {},
     "output_type": "display_data"
    },
    {
     "data": {
      "text/plain": [
       "-8.582637891893146"
      ]
     },
     "metadata": {},
     "output_type": "display_data"
    },
    {
     "data": {
      "text/plain": [
       "-8.582637891893146"
      ]
     },
     "metadata": {},
     "output_type": "display_data"
    },
    {
     "data": {
      "text/plain": [
       "-8.582637891893146"
      ]
     },
     "metadata": {},
     "output_type": "display_data"
    },
    {
     "data": {
      "text/plain": [
       "-8.582637891893146"
      ]
     },
     "metadata": {},
     "output_type": "display_data"
    },
    {
     "data": {
      "text/plain": [
       "-8.582637891893146"
      ]
     },
     "metadata": {},
     "output_type": "display_data"
    },
    {
     "data": {
      "text/plain": [
       "-8.582637891893146"
      ]
     },
     "metadata": {},
     "output_type": "display_data"
    },
    {
     "data": {
      "text/plain": [
       "-8.582637891893146"
      ]
     },
     "metadata": {},
     "output_type": "display_data"
    },
    {
     "data": {
      "text/plain": [
       "-8.582637891893146"
      ]
     },
     "metadata": {},
     "output_type": "display_data"
    },
    {
     "data": {
      "text/plain": [
       "-8.582637891893146"
      ]
     },
     "metadata": {},
     "output_type": "display_data"
    },
    {
     "data": {
      "text/plain": [
       "-8.582637891893146"
      ]
     },
     "metadata": {},
     "output_type": "display_data"
    },
    {
     "data": {
      "text/plain": [
       "-8.582637891893146"
      ]
     },
     "metadata": {},
     "output_type": "display_data"
    },
    {
     "data": {
      "text/plain": [
       "-8.582637891893146"
      ]
     },
     "metadata": {},
     "output_type": "display_data"
    },
    {
     "data": {
      "text/plain": [
       "-8.582637891893146"
      ]
     },
     "metadata": {},
     "output_type": "display_data"
    },
    {
     "data": {
      "text/plain": [
       "-8.582637891893146"
      ]
     },
     "metadata": {},
     "output_type": "display_data"
    },
    {
     "data": {
      "text/plain": [
       "-8.582637891893146"
      ]
     },
     "metadata": {},
     "output_type": "display_data"
    },
    {
     "data": {
      "text/plain": [
       "-8.582637891893146"
      ]
     },
     "metadata": {},
     "output_type": "display_data"
    },
    {
     "data": {
      "text/plain": [
       "-8.582637891893146"
      ]
     },
     "metadata": {},
     "output_type": "display_data"
    }
   ],
   "source": [
    "# Check conic violation\n",
    "convio = 0.0\n",
    "for k = 1:Nsim-1\n",
    "    Uc = cone_u(params, Uhist[k])\n",
    "    huc = norm(Uc[1:2]) - Uc[3]\n",
    "    convio = norm(huc + abs.(huc),Inf)\n",
    "    display(huc) # should <= 0\n",
    "end"
   ]
  },
  {
   "cell_type": "code",
   "execution_count": null,
   "id": "ffaab90d-dddc-4512-8c8b-4561cd053fdf",
   "metadata": {},
   "outputs": [
    {
     "name": "stdout",
     "output_type": "stream",
     "text": [
      "traj_error = maximum(norm.(e_sim_m, Inf)) = 2.777066571520142\n"
     ]
    },
    {
     "data": {
      "image/svg+xml": "<?xml version=\"1.0\" encoding=\"utf-8\"?>\n<svg xmlns=\"http://www.w3.org/2000/svg\" xmlns:xlink=\"http://www.w3.org/1999/xlink\" width=\"600\" height=\"400\" viewBox=\"0 0 2400 1600\">\n<defs>\n  <clipPath id=\"clip330\">\n    <rect x=\"0\" y=\"0\" width=\"2400\" height=\"1600\"/>\n  </clipPath>\n</defs>\n<path clip-path=\"url(#clip330)\" d=\"M0 1600 L2400 1600 L2400 0 L0 0  Z\" fill=\"#ffffff\" fill-rule=\"evenodd\" fill-opacity=\"1\"/>\n<defs>\n  <clipPath id=\"clip331\">\n    <rect x=\"480\" y=\"0\" width=\"1681\" height=\"1600\"/>\n  </clipPath>\n</defs>\n<path clip-path=\"url(#clip330)\" d=\"M210.746 1423.18 L2352.76 1423.18 L2352.76 123.472 L210.746 123.472  Z\" fill=\"#ffffff\" fill-rule=\"evenodd\" fill-opacity=\"1\"/>\n<defs>\n  <clipPath id=\"clip332\">\n    <rect x=\"210\" y=\"123\" width=\"2143\" height=\"1301\"/>\n  </clipPath>\n</defs>\n<polyline clip-path=\"url(#clip332)\" style=\"stroke:#000000; stroke-linecap:round; stroke-linejoin:round; stroke-width:2; stroke-opacity:0.1; fill:none\" points=\"271.369,1423.18 271.369,123.472 \"/>\n<polyline clip-path=\"url(#clip332)\" style=\"stroke:#000000; stroke-linecap:round; stroke-linejoin:round; stroke-width:2; stroke-opacity:0.1; fill:none\" points=\"633.513,1423.18 633.513,123.472 \"/>\n<polyline clip-path=\"url(#clip332)\" style=\"stroke:#000000; stroke-linecap:round; stroke-linejoin:round; stroke-width:2; stroke-opacity:0.1; fill:none\" points=\"995.657,1423.18 995.657,123.472 \"/>\n<polyline clip-path=\"url(#clip332)\" style=\"stroke:#000000; stroke-linecap:round; stroke-linejoin:round; stroke-width:2; stroke-opacity:0.1; fill:none\" points=\"1357.8,1423.18 1357.8,123.472 \"/>\n<polyline clip-path=\"url(#clip332)\" style=\"stroke:#000000; stroke-linecap:round; stroke-linejoin:round; stroke-width:2; stroke-opacity:0.1; fill:none\" points=\"1719.95,1423.18 1719.95,123.472 \"/>\n<polyline clip-path=\"url(#clip332)\" style=\"stroke:#000000; stroke-linecap:round; stroke-linejoin:round; stroke-width:2; stroke-opacity:0.1; fill:none\" points=\"2082.09,1423.18 2082.09,123.472 \"/>\n<polyline clip-path=\"url(#clip330)\" style=\"stroke:#000000; stroke-linecap:round; stroke-linejoin:round; stroke-width:4; stroke-opacity:1; fill:none\" points=\"210.746,1423.18 2352.76,1423.18 \"/>\n<polyline clip-path=\"url(#clip330)\" style=\"stroke:#000000; stroke-linecap:round; stroke-linejoin:round; stroke-width:4; stroke-opacity:1; fill:none\" points=\"271.369,1423.18 271.369,1404.28 \"/>\n<polyline clip-path=\"url(#clip330)\" style=\"stroke:#000000; stroke-linecap:round; stroke-linejoin:round; stroke-width:4; stroke-opacity:1; fill:none\" points=\"633.513,1423.18 633.513,1404.28 \"/>\n<polyline clip-path=\"url(#clip330)\" style=\"stroke:#000000; stroke-linecap:round; stroke-linejoin:round; stroke-width:4; stroke-opacity:1; fill:none\" points=\"995.657,1423.18 995.657,1404.28 \"/>\n<polyline clip-path=\"url(#clip330)\" style=\"stroke:#000000; stroke-linecap:round; stroke-linejoin:round; stroke-width:4; stroke-opacity:1; fill:none\" points=\"1357.8,1423.18 1357.8,1404.28 \"/>\n<polyline clip-path=\"url(#clip330)\" style=\"stroke:#000000; stroke-linecap:round; stroke-linejoin:round; stroke-width:4; stroke-opacity:1; fill:none\" points=\"1719.95,1423.18 1719.95,1404.28 \"/>\n<polyline clip-path=\"url(#clip330)\" style=\"stroke:#000000; stroke-linecap:round; stroke-linejoin:round; stroke-width:4; stroke-opacity:1; fill:none\" points=\"2082.09,1423.18 2082.09,1404.28 \"/>\n<path clip-path=\"url(#clip330)\" d=\"M248.753 1454.1 Q245.142 1454.1 243.313 1457.66 Q241.508 1461.2 241.508 1468.33 Q241.508 1475.44 243.313 1479.01 Q245.142 1482.55 248.753 1482.55 Q252.387 1482.55 254.193 1479.01 Q256.022 1475.44 256.022 1468.33 Q256.022 1461.2 254.193 1457.66 Q252.387 1454.1 248.753 1454.1 M248.753 1450.39 Q254.563 1450.39 257.619 1455 Q260.698 1459.58 260.698 1468.33 Q260.698 1477.06 257.619 1481.67 Q254.563 1486.25 248.753 1486.25 Q242.943 1486.25 239.864 1481.67 Q236.809 1477.06 236.809 1468.33 Q236.809 1459.58 239.864 1455 Q242.943 1450.39 248.753 1450.39 Z\" fill=\"#000000\" fill-rule=\"evenodd\" fill-opacity=\"1\" /><path clip-path=\"url(#clip330)\" d=\"M268.915 1479.7 L273.799 1479.7 L273.799 1485.58 L268.915 1485.58 L268.915 1479.7 Z\" fill=\"#000000\" fill-rule=\"evenodd\" fill-opacity=\"1\" /><path clip-path=\"url(#clip330)\" d=\"M293.984 1454.1 Q290.373 1454.1 288.545 1457.66 Q286.739 1461.2 286.739 1468.33 Q286.739 1475.44 288.545 1479.01 Q290.373 1482.55 293.984 1482.55 Q297.619 1482.55 299.424 1479.01 Q301.253 1475.44 301.253 1468.33 Q301.253 1461.2 299.424 1457.66 Q297.619 1454.1 293.984 1454.1 M293.984 1450.39 Q299.795 1450.39 302.85 1455 Q305.929 1459.58 305.929 1468.33 Q305.929 1477.06 302.85 1481.67 Q299.795 1486.25 293.984 1486.25 Q288.174 1486.25 285.096 1481.67 Q282.04 1477.06 282.04 1468.33 Q282.04 1459.58 285.096 1455 Q288.174 1450.39 293.984 1450.39 Z\" fill=\"#000000\" fill-rule=\"evenodd\" fill-opacity=\"1\" /><path clip-path=\"url(#clip330)\" d=\"M605.249 1481.64 L621.569 1481.64 L621.569 1485.58 L599.624 1485.58 L599.624 1481.64 Q602.286 1478.89 606.87 1474.26 Q611.476 1469.61 612.657 1468.27 Q614.902 1465.74 615.782 1464.01 Q616.684 1462.25 616.684 1460.56 Q616.684 1457.8 614.74 1456.07 Q612.819 1454.33 609.717 1454.33 Q607.518 1454.33 605.064 1455.09 Q602.634 1455.86 599.856 1457.41 L599.856 1452.69 Q602.68 1451.55 605.133 1450.97 Q607.587 1450.39 609.624 1450.39 Q614.995 1450.39 618.189 1453.08 Q621.383 1455.77 621.383 1460.26 Q621.383 1462.39 620.573 1464.31 Q619.786 1466.2 617.68 1468.8 Q617.101 1469.47 613.999 1472.69 Q610.897 1475.88 605.249 1481.64 Z\" fill=\"#000000\" fill-rule=\"evenodd\" fill-opacity=\"1\" /><path clip-path=\"url(#clip330)\" d=\"M631.383 1479.7 L636.268 1479.7 L636.268 1485.58 L631.383 1485.58 L631.383 1479.7 Z\" fill=\"#000000\" fill-rule=\"evenodd\" fill-opacity=\"1\" /><path clip-path=\"url(#clip330)\" d=\"M646.499 1451.02 L664.855 1451.02 L664.855 1454.96 L650.781 1454.96 L650.781 1463.43 Q651.8 1463.08 652.818 1462.92 Q653.837 1462.73 654.855 1462.73 Q660.642 1462.73 664.022 1465.9 Q667.402 1469.08 667.402 1474.49 Q667.402 1480.07 663.929 1483.17 Q660.457 1486.25 654.138 1486.25 Q651.962 1486.25 649.693 1485.88 Q647.448 1485.51 645.041 1484.77 L645.041 1480.07 Q647.124 1481.2 649.346 1481.76 Q651.568 1482.32 654.045 1482.32 Q658.05 1482.32 660.388 1480.21 Q662.726 1478.1 662.726 1474.49 Q662.726 1470.88 660.388 1468.77 Q658.05 1466.67 654.045 1466.67 Q652.17 1466.67 650.295 1467.08 Q648.443 1467.5 646.499 1468.38 L646.499 1451.02 Z\" fill=\"#000000\" fill-rule=\"evenodd\" fill-opacity=\"1\" /><path clip-path=\"url(#clip330)\" d=\"M962.822 1451.02 L981.178 1451.02 L981.178 1454.96 L967.104 1454.96 L967.104 1463.43 Q968.123 1463.08 969.141 1462.92 Q970.16 1462.73 971.178 1462.73 Q976.965 1462.73 980.345 1465.9 Q983.724 1469.08 983.724 1474.49 Q983.724 1480.07 980.252 1483.17 Q976.78 1486.25 970.46 1486.25 Q968.285 1486.25 966.016 1485.88 Q963.771 1485.51 961.363 1484.77 L961.363 1480.07 Q963.447 1481.2 965.669 1481.76 Q967.891 1482.32 970.368 1482.32 Q974.372 1482.32 976.71 1480.21 Q979.048 1478.1 979.048 1474.49 Q979.048 1470.88 976.71 1468.77 Q974.372 1466.67 970.368 1466.67 Q968.493 1466.67 966.618 1467.08 Q964.766 1467.5 962.822 1468.38 L962.822 1451.02 Z\" fill=\"#000000\" fill-rule=\"evenodd\" fill-opacity=\"1\" /><path clip-path=\"url(#clip330)\" d=\"M992.937 1479.7 L997.821 1479.7 L997.821 1485.58 L992.937 1485.58 L992.937 1479.7 Z\" fill=\"#000000\" fill-rule=\"evenodd\" fill-opacity=\"1\" /><path clip-path=\"url(#clip330)\" d=\"M1018.01 1454.1 Q1014.4 1454.1 1012.57 1457.66 Q1010.76 1461.2 1010.76 1468.33 Q1010.76 1475.44 1012.57 1479.01 Q1014.4 1482.55 1018.01 1482.55 Q1021.64 1482.55 1023.45 1479.01 Q1025.27 1475.44 1025.27 1468.33 Q1025.27 1461.2 1023.45 1457.66 Q1021.64 1454.1 1018.01 1454.1 M1018.01 1450.39 Q1023.82 1450.39 1026.87 1455 Q1029.95 1459.58 1029.95 1468.33 Q1029.95 1477.06 1026.87 1481.67 Q1023.82 1486.25 1018.01 1486.25 Q1012.2 1486.25 1009.12 1481.67 Q1006.06 1477.06 1006.06 1468.33 Q1006.06 1459.58 1009.12 1455 Q1012.2 1450.39 1018.01 1450.39 Z\" fill=\"#000000\" fill-rule=\"evenodd\" fill-opacity=\"1\" /><path clip-path=\"url(#clip330)\" d=\"M1324.12 1451.02 L1346.34 1451.02 L1346.34 1453.01 L1333.8 1485.58 L1328.91 1485.58 L1340.72 1454.96 L1324.12 1454.96 L1324.12 1451.02 Z\" fill=\"#000000\" fill-rule=\"evenodd\" fill-opacity=\"1\" /><path clip-path=\"url(#clip330)\" d=\"M1355.46 1479.7 L1360.35 1479.7 L1360.35 1485.58 L1355.46 1485.58 L1355.46 1479.7 Z\" fill=\"#000000\" fill-rule=\"evenodd\" fill-opacity=\"1\" /><path clip-path=\"url(#clip330)\" d=\"M1370.58 1451.02 L1388.94 1451.02 L1388.94 1454.96 L1374.86 1454.96 L1374.86 1463.43 Q1375.88 1463.08 1376.9 1462.92 Q1377.92 1462.73 1378.94 1462.73 Q1384.72 1462.73 1388.1 1465.9 Q1391.48 1469.08 1391.48 1474.49 Q1391.48 1480.07 1388.01 1483.17 Q1384.54 1486.25 1378.22 1486.25 Q1376.04 1486.25 1373.77 1485.88 Q1371.53 1485.51 1369.12 1484.77 L1369.12 1480.07 Q1371.2 1481.2 1373.43 1481.76 Q1375.65 1482.32 1378.13 1482.32 Q1382.13 1482.32 1384.47 1480.21 Q1386.81 1478.1 1386.81 1474.49 Q1386.81 1470.88 1384.47 1468.77 Q1382.13 1466.67 1378.13 1466.67 Q1376.25 1466.67 1374.38 1467.08 Q1372.52 1467.5 1370.58 1468.38 L1370.58 1451.02 Z\" fill=\"#000000\" fill-rule=\"evenodd\" fill-opacity=\"1\" /><path clip-path=\"url(#clip330)\" d=\"M1672.02 1481.64 L1679.66 1481.64 L1679.66 1455.28 L1671.35 1456.95 L1671.35 1452.69 L1679.61 1451.02 L1684.29 1451.02 L1684.29 1481.64 L1691.92 1481.64 L1691.92 1485.58 L1672.02 1485.58 L1672.02 1481.64 Z\" fill=\"#000000\" fill-rule=\"evenodd\" fill-opacity=\"1\" /><path clip-path=\"url(#clip330)\" d=\"M1711.37 1454.1 Q1707.76 1454.1 1705.93 1457.66 Q1704.12 1461.2 1704.12 1468.33 Q1704.12 1475.44 1705.93 1479.01 Q1707.76 1482.55 1711.37 1482.55 Q1715 1482.55 1716.81 1479.01 Q1718.64 1475.44 1718.64 1468.33 Q1718.64 1461.2 1716.81 1457.66 Q1715 1454.1 1711.37 1454.1 M1711.37 1450.39 Q1717.18 1450.39 1720.23 1455 Q1723.31 1459.58 1723.31 1468.33 Q1723.31 1477.06 1720.23 1481.67 Q1717.18 1486.25 1711.37 1486.25 Q1705.56 1486.25 1702.48 1481.67 Q1699.42 1477.06 1699.42 1468.33 Q1699.42 1459.58 1702.48 1455 Q1705.56 1450.39 1711.37 1450.39 Z\" fill=\"#000000\" fill-rule=\"evenodd\" fill-opacity=\"1\" /><path clip-path=\"url(#clip330)\" d=\"M1731.53 1479.7 L1736.42 1479.7 L1736.42 1485.58 L1731.53 1485.58 L1731.53 1479.7 Z\" fill=\"#000000\" fill-rule=\"evenodd\" fill-opacity=\"1\" /><path clip-path=\"url(#clip330)\" d=\"M1756.6 1454.1 Q1752.99 1454.1 1751.16 1457.66 Q1749.35 1461.2 1749.35 1468.33 Q1749.35 1475.44 1751.16 1479.01 Q1752.99 1482.55 1756.6 1482.55 Q1760.23 1482.55 1762.04 1479.01 Q1763.87 1475.44 1763.87 1468.33 Q1763.87 1461.2 1762.04 1457.66 Q1760.23 1454.1 1756.6 1454.1 M1756.6 1450.39 Q1762.41 1450.39 1765.47 1455 Q1768.54 1459.58 1768.54 1468.33 Q1768.54 1477.06 1765.47 1481.67 Q1762.41 1486.25 1756.6 1486.25 Q1750.79 1486.25 1747.71 1481.67 Q1744.66 1477.06 1744.66 1468.33 Q1744.66 1459.58 1747.71 1455 Q1750.79 1450.39 1756.6 1450.39 Z\" fill=\"#000000\" fill-rule=\"evenodd\" fill-opacity=\"1\" /><path clip-path=\"url(#clip330)\" d=\"M2034.66 1481.64 L2042.3 1481.64 L2042.3 1455.28 L2033.99 1456.95 L2033.99 1452.69 L2042.25 1451.02 L2046.93 1451.02 L2046.93 1481.64 L2054.57 1481.64 L2054.57 1485.58 L2034.66 1485.58 L2034.66 1481.64 Z\" fill=\"#000000\" fill-rule=\"evenodd\" fill-opacity=\"1\" /><path clip-path=\"url(#clip330)\" d=\"M2068.04 1481.64 L2084.36 1481.64 L2084.36 1485.58 L2062.41 1485.58 L2062.41 1481.64 Q2065.08 1478.89 2069.66 1474.26 Q2074.27 1469.61 2075.45 1468.27 Q2077.69 1465.74 2078.57 1464.01 Q2079.47 1462.25 2079.47 1460.56 Q2079.47 1457.8 2077.53 1456.07 Q2075.61 1454.33 2072.51 1454.33 Q2070.31 1454.33 2067.85 1455.09 Q2065.42 1455.86 2062.65 1457.41 L2062.65 1452.69 Q2065.47 1451.55 2067.92 1450.97 Q2070.38 1450.39 2072.41 1450.39 Q2077.78 1450.39 2080.98 1453.08 Q2084.17 1455.77 2084.17 1460.26 Q2084.17 1462.39 2083.36 1464.31 Q2082.58 1466.2 2080.47 1468.8 Q2079.89 1469.47 2076.79 1472.69 Q2073.69 1475.88 2068.04 1481.64 Z\" fill=\"#000000\" fill-rule=\"evenodd\" fill-opacity=\"1\" /><path clip-path=\"url(#clip330)\" d=\"M2094.17 1479.7 L2099.06 1479.7 L2099.06 1485.58 L2094.17 1485.58 L2094.17 1479.7 Z\" fill=\"#000000\" fill-rule=\"evenodd\" fill-opacity=\"1\" /><path clip-path=\"url(#clip330)\" d=\"M2109.29 1451.02 L2127.64 1451.02 L2127.64 1454.96 L2113.57 1454.96 L2113.57 1463.43 Q2114.59 1463.08 2115.61 1462.92 Q2116.63 1462.73 2117.64 1462.73 Q2123.43 1462.73 2126.81 1465.9 Q2130.19 1469.08 2130.19 1474.49 Q2130.19 1480.07 2126.72 1483.17 Q2123.25 1486.25 2116.93 1486.25 Q2114.75 1486.25 2112.48 1485.88 Q2110.24 1485.51 2107.83 1484.77 L2107.83 1480.07 Q2109.91 1481.2 2112.14 1481.76 Q2114.36 1482.32 2116.83 1482.32 Q2120.84 1482.32 2123.18 1480.21 Q2125.52 1478.1 2125.52 1474.49 Q2125.52 1470.88 2123.18 1468.77 Q2120.84 1466.67 2116.83 1466.67 Q2114.96 1466.67 2113.08 1467.08 Q2111.23 1467.5 2109.29 1468.38 L2109.29 1451.02 Z\" fill=\"#000000\" fill-rule=\"evenodd\" fill-opacity=\"1\" /><path clip-path=\"url(#clip330)\" d=\"M1169.21 1522.27 L1169.21 1532.4 L1181.27 1532.4 L1181.27 1536.95 L1169.21 1536.95 L1169.21 1556.3 Q1169.21 1560.66 1170.38 1561.9 Q1171.59 1563.14 1175.25 1563.14 L1181.27 1563.14 L1181.27 1568.04 L1175.25 1568.04 Q1168.47 1568.04 1165.9 1565.53 Q1163.32 1562.98 1163.32 1556.3 L1163.32 1536.95 L1159.02 1536.95 L1159.02 1532.4 L1163.32 1532.4 L1163.32 1522.27 L1169.21 1522.27 Z\" fill=\"#000000\" fill-rule=\"evenodd\" fill-opacity=\"1\" /><path clip-path=\"url(#clip330)\" d=\"M1188.97 1532.4 L1194.83 1532.4 L1194.83 1568.04 L1188.97 1568.04 L1188.97 1532.4 M1188.97 1518.52 L1194.83 1518.52 L1194.83 1525.93 L1188.97 1525.93 L1188.97 1518.52 Z\" fill=\"#000000\" fill-rule=\"evenodd\" fill-opacity=\"1\" /><path clip-path=\"url(#clip330)\" d=\"M1234.84 1539.24 Q1237.03 1535.29 1240.09 1533.41 Q1243.14 1531.54 1247.28 1531.54 Q1252.85 1531.54 1255.87 1535.45 Q1258.9 1539.33 1258.9 1546.53 L1258.9 1568.04 L1253.01 1568.04 L1253.01 1546.72 Q1253.01 1541.59 1251.2 1539.11 Q1249.38 1536.63 1245.66 1536.63 Q1241.11 1536.63 1238.46 1539.65 Q1235.82 1542.68 1235.82 1547.9 L1235.82 1568.04 L1229.93 1568.04 L1229.93 1546.72 Q1229.93 1541.56 1228.12 1539.11 Q1226.31 1536.63 1222.52 1536.63 Q1218.03 1536.63 1215.39 1539.68 Q1212.75 1542.71 1212.75 1547.9 L1212.75 1568.04 L1206.86 1568.04 L1206.86 1532.4 L1212.75 1532.4 L1212.75 1537.93 Q1214.75 1534.66 1217.55 1533.1 Q1220.35 1531.54 1224.2 1531.54 Q1228.09 1531.54 1230.79 1533.51 Q1233.53 1535.48 1234.84 1539.24 Z\" fill=\"#000000\" fill-rule=\"evenodd\" fill-opacity=\"1\" /><path clip-path=\"url(#clip330)\" d=\"M1301.07 1548.76 L1301.07 1551.62 L1274.14 1551.62 Q1274.53 1557.67 1277.77 1560.85 Q1281.05 1564 1286.88 1564 Q1290.25 1564 1293.4 1563.17 Q1296.58 1562.35 1299.7 1560.69 L1299.7 1566.23 Q1296.55 1567.57 1293.24 1568.27 Q1289.93 1568.97 1286.53 1568.97 Q1278 1568.97 1273 1564 Q1268.03 1559.04 1268.03 1550.57 Q1268.03 1541.82 1272.74 1536.69 Q1277.49 1531.54 1285.51 1531.54 Q1292.7 1531.54 1296.87 1536.18 Q1301.07 1540.8 1301.07 1548.76 M1295.21 1547.04 Q1295.15 1542.23 1292.51 1539.37 Q1289.9 1536.5 1285.57 1536.5 Q1280.67 1536.5 1277.71 1539.27 Q1274.78 1542.04 1274.33 1547.07 L1295.21 1547.04 Z\" fill=\"#000000\" fill-rule=\"evenodd\" fill-opacity=\"1\" /><path clip-path=\"url(#clip330)\" d=\"M1345.47 1518.58 Q1341.21 1525.9 1339.14 1533.06 Q1337.07 1540.23 1337.07 1547.58 Q1337.07 1554.93 1339.14 1562.16 Q1341.24 1569.35 1345.47 1576.64 L1340.38 1576.64 Q1335.6 1569.16 1333.22 1561.93 Q1330.86 1554.71 1330.86 1547.58 Q1330.86 1540.48 1333.22 1533.29 Q1335.57 1526.09 1340.38 1518.58 L1345.47 1518.58 Z\" fill=\"#000000\" fill-rule=\"evenodd\" fill-opacity=\"1\" /><path clip-path=\"url(#clip330)\" d=\"M1379.56 1533.45 L1379.56 1538.98 Q1377.08 1537.71 1374.4 1537.07 Q1371.73 1536.44 1368.87 1536.44 Q1364.51 1536.44 1362.31 1537.77 Q1360.14 1539.11 1360.14 1541.79 Q1360.14 1543.82 1361.7 1545 Q1363.26 1546.15 1367.97 1547.2 L1369.98 1547.64 Q1376.22 1548.98 1378.83 1551.43 Q1381.47 1553.85 1381.47 1558.21 Q1381.47 1563.17 1377.52 1566.07 Q1373.61 1568.97 1366.73 1568.97 Q1363.87 1568.97 1360.75 1568.39 Q1357.66 1567.85 1354.22 1566.74 L1354.22 1560.69 Q1357.47 1562.38 1360.62 1563.24 Q1363.77 1564.07 1366.86 1564.07 Q1371 1564.07 1373.23 1562.66 Q1375.45 1561.23 1375.45 1558.65 Q1375.45 1556.27 1373.83 1554.99 Q1372.24 1553.72 1366.8 1552.54 L1364.76 1552.07 Q1359.32 1550.92 1356.9 1548.56 Q1354.48 1546.18 1354.48 1542.04 Q1354.48 1537.01 1358.04 1534.27 Q1361.61 1531.54 1368.17 1531.54 Q1371.41 1531.54 1374.28 1532.01 Q1377.14 1532.49 1379.56 1533.45 Z\" fill=\"#000000\" fill-rule=\"evenodd\" fill-opacity=\"1\" /><path clip-path=\"url(#clip330)\" d=\"M1389.87 1518.58 L1394.97 1518.58 Q1399.74 1526.09 1402.09 1533.29 Q1404.48 1540.48 1404.48 1547.58 Q1404.48 1554.71 1402.09 1561.93 Q1399.74 1569.16 1394.97 1576.64 L1389.87 1576.64 Q1394.11 1569.35 1396.17 1562.16 Q1398.28 1554.93 1398.28 1547.58 Q1398.28 1540.23 1396.17 1533.06 Q1394.11 1525.9 1389.87 1518.58 Z\" fill=\"#000000\" fill-rule=\"evenodd\" fill-opacity=\"1\" /><polyline clip-path=\"url(#clip332)\" style=\"stroke:#000000; stroke-linecap:round; stroke-linejoin:round; stroke-width:2; stroke-opacity:0.1; fill:none\" points=\"210.746,1195.27 2352.76,1195.27 \"/>\n<polyline clip-path=\"url(#clip332)\" style=\"stroke:#000000; stroke-linecap:round; stroke-linejoin:round; stroke-width:2; stroke-opacity:0.1; fill:none\" points=\"210.746,949.309 2352.76,949.309 \"/>\n<polyline clip-path=\"url(#clip332)\" style=\"stroke:#000000; stroke-linecap:round; stroke-linejoin:round; stroke-width:2; stroke-opacity:0.1; fill:none\" points=\"210.746,703.35 2352.76,703.35 \"/>\n<polyline clip-path=\"url(#clip332)\" style=\"stroke:#000000; stroke-linecap:round; stroke-linejoin:round; stroke-width:2; stroke-opacity:0.1; fill:none\" points=\"210.746,457.391 2352.76,457.391 \"/>\n<polyline clip-path=\"url(#clip332)\" style=\"stroke:#000000; stroke-linecap:round; stroke-linejoin:round; stroke-width:2; stroke-opacity:0.1; fill:none\" points=\"210.746,211.431 2352.76,211.431 \"/>\n<polyline clip-path=\"url(#clip330)\" style=\"stroke:#000000; stroke-linecap:round; stroke-linejoin:round; stroke-width:4; stroke-opacity:1; fill:none\" points=\"210.746,1423.18 210.746,123.472 \"/>\n<polyline clip-path=\"url(#clip330)\" style=\"stroke:#000000; stroke-linecap:round; stroke-linejoin:round; stroke-width:4; stroke-opacity:1; fill:none\" points=\"210.746,1195.27 229.644,1195.27 \"/>\n<polyline clip-path=\"url(#clip330)\" style=\"stroke:#000000; stroke-linecap:round; stroke-linejoin:round; stroke-width:4; stroke-opacity:1; fill:none\" points=\"210.746,949.309 229.644,949.309 \"/>\n<polyline clip-path=\"url(#clip330)\" style=\"stroke:#000000; stroke-linecap:round; stroke-linejoin:round; stroke-width:4; stroke-opacity:1; fill:none\" points=\"210.746,703.35 229.644,703.35 \"/>\n<polyline clip-path=\"url(#clip330)\" style=\"stroke:#000000; stroke-linecap:round; stroke-linejoin:round; stroke-width:4; stroke-opacity:1; fill:none\" points=\"210.746,457.391 229.644,457.391 \"/>\n<polyline clip-path=\"url(#clip330)\" style=\"stroke:#000000; stroke-linecap:round; stroke-linejoin:round; stroke-width:4; stroke-opacity:1; fill:none\" points=\"210.746,211.431 229.644,211.431 \"/>\n<path clip-path=\"url(#clip330)\" d=\"M114.631 1195.72 L144.306 1195.72 L144.306 1199.66 L114.631 1199.66 L114.631 1195.72 Z\" fill=\"#000000\" fill-rule=\"evenodd\" fill-opacity=\"1\" /><path clip-path=\"url(#clip330)\" d=\"M158.427 1208.61 L174.746 1208.61 L174.746 1212.55 L152.802 1212.55 L152.802 1208.61 Q155.464 1205.86 160.047 1201.23 Q164.653 1196.58 165.834 1195.23 Q168.079 1192.71 168.959 1190.97 Q169.862 1189.22 169.862 1187.53 Q169.862 1184.77 167.917 1183.04 Q165.996 1181.3 162.894 1181.3 Q160.695 1181.3 158.241 1182.06 Q155.811 1182.83 153.033 1184.38 L153.033 1179.66 Q155.857 1178.52 158.311 1177.94 Q160.765 1177.36 162.802 1177.36 Q168.172 1177.36 171.366 1180.05 Q174.561 1182.73 174.561 1187.22 Q174.561 1189.35 173.751 1191.28 Q172.964 1193.17 170.857 1195.77 Q170.278 1196.44 167.177 1199.66 Q164.075 1202.85 158.427 1208.61 Z\" fill=\"#000000\" fill-rule=\"evenodd\" fill-opacity=\"1\" /><path clip-path=\"url(#clip330)\" d=\"M114.26 949.761 L143.936 949.761 L143.936 953.696 L114.26 953.696 L114.26 949.761 Z\" fill=\"#000000\" fill-rule=\"evenodd\" fill-opacity=\"1\" /><path clip-path=\"url(#clip330)\" d=\"M154.839 962.654 L162.477 962.654 L162.477 936.289 L154.167 937.955 L154.167 933.696 L162.431 932.029 L167.107 932.029 L167.107 962.654 L174.746 962.654 L174.746 966.589 L154.839 966.589 L154.839 962.654 Z\" fill=\"#000000\" fill-rule=\"evenodd\" fill-opacity=\"1\" /><path clip-path=\"url(#clip330)\" d=\"M162.802 689.149 Q159.19 689.149 157.362 692.713 Q155.556 696.255 155.556 703.385 Q155.556 710.491 157.362 714.056 Q159.19 717.598 162.802 717.598 Q166.436 717.598 168.241 714.056 Q170.07 710.491 170.07 703.385 Q170.07 696.255 168.241 692.713 Q166.436 689.149 162.802 689.149 M162.802 685.445 Q168.612 685.445 171.667 690.051 Q174.746 694.635 174.746 703.385 Q174.746 712.112 171.667 716.718 Q168.612 721.301 162.802 721.301 Q156.991 721.301 153.913 716.718 Q150.857 712.112 150.857 703.385 Q150.857 694.635 153.913 690.051 Q156.991 685.445 162.802 685.445 Z\" fill=\"#000000\" fill-rule=\"evenodd\" fill-opacity=\"1\" /><path clip-path=\"url(#clip330)\" d=\"M154.839 470.735 L162.477 470.735 L162.477 444.37 L154.167 446.036 L154.167 441.777 L162.431 440.111 L167.107 440.111 L167.107 470.735 L174.746 470.735 L174.746 474.671 L154.839 474.671 L154.839 470.735 Z\" fill=\"#000000\" fill-rule=\"evenodd\" fill-opacity=\"1\" /><path clip-path=\"url(#clip330)\" d=\"M158.427 224.776 L174.746 224.776 L174.746 228.711 L152.802 228.711 L152.802 224.776 Q155.464 222.021 160.047 217.392 Q164.653 212.739 165.834 211.396 Q168.079 208.873 168.959 207.137 Q169.862 205.378 169.862 203.688 Q169.862 200.934 167.917 199.197 Q165.996 197.461 162.894 197.461 Q160.695 197.461 158.241 198.225 Q155.811 198.989 153.033 200.54 L153.033 195.818 Q155.857 194.684 158.311 194.105 Q160.765 193.526 162.802 193.526 Q168.172 193.526 171.366 196.211 Q174.561 198.896 174.561 203.387 Q174.561 205.517 173.751 207.438 Q172.964 209.336 170.857 211.929 Q170.278 212.6 167.177 215.818 Q164.075 219.012 158.427 224.776 Z\" fill=\"#000000\" fill-rule=\"evenodd\" fill-opacity=\"1\" /><path clip-path=\"url(#clip330)\" d=\"M28.3562 756.711 L45.7028 769.602 L64.0042 756.043 L64.0042 762.95 L49.9996 773.326 L64.0042 783.702 L64.0042 790.609 L45.3526 776.763 L28.3562 789.431 L28.3562 782.524 L41.0558 773.071 L28.3562 763.618 L28.3562 756.711 Z\" fill=\"#000000\" fill-rule=\"evenodd\" fill-opacity=\"1\" /><path clip-path=\"url(#clip330)\" d=\"M939.794 14.0809 L939.794 22.0612 Q935.135 19.8332 931.003 18.7395 Q926.871 17.6457 923.023 17.6457 Q916.339 17.6457 912.693 20.2383 Q909.088 22.8309 909.088 27.611 Q909.088 31.6214 911.478 33.6873 Q913.909 35.7128 920.633 36.9686 L925.575 37.9813 Q934.73 39.7232 939.065 44.1387 Q943.44 48.5136 943.44 55.8863 Q943.44 64.6767 937.525 69.2137 Q931.652 73.7508 920.268 73.7508 Q915.975 73.7508 911.113 72.7785 Q906.293 71.8063 901.108 69.9024 L901.108 61.4765 Q906.09 64.2716 910.87 65.6895 Q915.65 67.1073 920.268 67.1073 Q927.277 67.1073 931.084 64.3527 Q934.892 61.598 934.892 56.4939 Q934.892 52.0379 932.138 49.5264 Q929.424 47.0148 923.185 45.759 L918.203 44.7868 Q909.047 42.9639 904.956 39.075 Q900.865 35.1862 900.865 28.2591 Q900.865 20.2383 906.495 15.6203 Q912.167 11.0023 922.091 11.0023 Q926.345 11.0023 930.76 11.7719 Q935.176 12.5416 939.794 14.0809 Z\" fill=\"#000000\" fill-rule=\"evenodd\" fill-opacity=\"1\" /><path clip-path=\"url(#clip330)\" d=\"M963.249 14.324 L963.249 27.2059 L978.602 27.2059 L978.602 32.9987 L963.249 32.9987 L963.249 57.6282 Q963.249 63.1779 964.747 64.7578 Q966.287 66.3376 970.945 66.3376 L978.602 66.3376 L978.602 72.576 L970.945 72.576 Q962.317 72.576 959.036 69.3758 Q955.754 66.1351 955.754 57.6282 L955.754 32.9987 L950.286 32.9987 L950.286 27.2059 L955.754 27.2059 L955.754 14.324 L963.249 14.324 Z\" fill=\"#000000\" fill-rule=\"evenodd\" fill-opacity=\"1\" /><path clip-path=\"url(#clip330)\" d=\"M1009.02 49.7694 Q999.99 49.7694 996.507 51.8354 Q993.023 53.9013 993.023 58.8839 Q993.023 62.8538 995.615 65.2034 Q998.248 67.5124 1002.74 67.5124 Q1008.94 67.5124 1012.67 63.1374 Q1016.44 58.7219 1016.44 51.4303 L1016.44 49.7694 L1009.02 49.7694 M1023.89 46.6907 L1023.89 72.576 L1016.44 72.576 L1016.44 65.6895 Q1013.88 69.8214 1010.08 71.8063 Q1006.27 73.7508 1000.76 73.7508 Q993.792 73.7508 989.66 69.8619 Q985.569 65.9325 985.569 59.3701 Q985.569 51.7138 990.673 47.825 Q995.818 43.9361 1005.99 43.9361 L1016.44 43.9361 L1016.44 43.2069 Q1016.44 38.0623 1013.03 35.2672 Q1009.67 32.4315 1003.56 32.4315 Q999.666 32.4315 995.98 33.3632 Q992.294 34.295 988.891 36.1584 L988.891 29.2718 Q992.982 27.692 996.831 26.9223 Q1000.68 26.1121 1004.32 26.1121 Q1014.17 26.1121 1019.03 31.2163 Q1023.89 36.3204 1023.89 46.6907 Z\" fill=\"#000000\" fill-rule=\"evenodd\" fill-opacity=\"1\" /><path clip-path=\"url(#clip330)\" d=\"M1046.62 14.324 L1046.62 27.2059 L1061.97 27.2059 L1061.97 32.9987 L1046.62 32.9987 L1046.62 57.6282 Q1046.62 63.1779 1048.12 64.7578 Q1049.65 66.3376 1054.31 66.3376 L1061.97 66.3376 L1061.97 72.576 L1054.31 72.576 Q1045.68 72.576 1042.4 69.3758 Q1039.12 66.1351 1039.12 57.6282 L1039.12 32.9987 L1033.65 32.9987 L1033.65 27.2059 L1039.12 27.2059 L1039.12 14.324 L1046.62 14.324 Z\" fill=\"#000000\" fill-rule=\"evenodd\" fill-opacity=\"1\" /><path clip-path=\"url(#clip330)\" d=\"M1110.58 48.0275 L1110.58 51.6733 L1076.31 51.6733 Q1076.8 59.3701 1080.93 63.421 Q1085.1 67.4314 1092.51 67.4314 Q1096.81 67.4314 1100.82 66.3781 Q1104.87 65.3249 1108.84 63.2184 L1108.84 70.267 Q1104.83 71.9684 1100.61 72.8596 Q1096.4 73.7508 1092.07 73.7508 Q1081.21 73.7508 1074.85 67.4314 Q1068.53 61.1119 1068.53 50.3365 Q1068.53 39.1965 1074.53 32.6746 Q1080.56 26.1121 1090.77 26.1121 Q1099.93 26.1121 1105.23 32.0264 Q1110.58 37.9003 1110.58 48.0275 M1103.13 45.84 Q1103.05 39.7232 1099.68 36.0774 Q1096.36 32.4315 1090.85 32.4315 Q1084.61 32.4315 1080.85 35.9558 Q1077.12 39.4801 1076.55 45.8805 L1103.13 45.84 Z\" fill=\"#000000\" fill-rule=\"evenodd\" fill-opacity=\"1\" /><path clip-path=\"url(#clip330)\" d=\"M1149.51 12.096 L1187.75 12.096 L1187.75 18.9825 L1157.69 18.9825 L1157.69 36.8875 L1186.49 36.8875 L1186.49 43.7741 L1157.69 43.7741 L1157.69 65.6895 L1188.48 65.6895 L1188.48 72.576 L1149.51 72.576 L1149.51 12.096 Z\" fill=\"#000000\" fill-rule=\"evenodd\" fill-opacity=\"1\" /><path clip-path=\"url(#clip330)\" d=\"M1227.89 34.1734 Q1226.64 33.4443 1225.14 33.1202 Q1223.68 32.7556 1221.9 32.7556 Q1215.58 32.7556 1212.18 36.8875 Q1208.81 40.9789 1208.81 48.6757 L1208.81 72.576 L1201.32 72.576 L1201.32 27.2059 L1208.81 27.2059 L1208.81 34.2544 Q1211.16 30.1225 1214.93 28.1376 Q1218.7 26.1121 1224.09 26.1121 Q1224.86 26.1121 1225.79 26.2337 Q1226.72 26.3147 1227.85 26.5172 L1227.89 34.1734 Z\" fill=\"#000000\" fill-rule=\"evenodd\" fill-opacity=\"1\" /><path clip-path=\"url(#clip330)\" d=\"M1260.54 34.1734 Q1259.29 33.4443 1257.79 33.1202 Q1256.33 32.7556 1254.55 32.7556 Q1248.23 32.7556 1244.83 36.8875 Q1241.46 40.9789 1241.46 48.6757 L1241.46 72.576 L1233.97 72.576 L1233.97 27.2059 L1241.46 27.2059 L1241.46 34.2544 Q1243.81 30.1225 1247.58 28.1376 Q1251.35 26.1121 1256.74 26.1121 Q1257.51 26.1121 1258.44 26.2337 Q1259.37 26.3147 1260.5 26.5172 L1260.54 34.1734 Z\" fill=\"#000000\" fill-rule=\"evenodd\" fill-opacity=\"1\" /><path clip-path=\"url(#clip330)\" d=\"M1284.12 32.4315 Q1278.13 32.4315 1274.64 37.1306 Q1271.16 41.7891 1271.16 49.9314 Q1271.16 58.0738 1274.6 62.7728 Q1278.08 67.4314 1284.12 67.4314 Q1290.08 67.4314 1293.56 62.7323 Q1297.04 58.0333 1297.04 49.9314 Q1297.04 41.8701 1293.56 37.1711 Q1290.08 32.4315 1284.12 32.4315 M1284.12 26.1121 Q1293.84 26.1121 1299.39 32.4315 Q1304.94 38.7509 1304.94 49.9314 Q1304.94 61.0714 1299.39 67.4314 Q1293.84 73.7508 1284.12 73.7508 Q1274.36 73.7508 1268.81 67.4314 Q1263.3 61.0714 1263.3 49.9314 Q1263.3 38.7509 1268.81 32.4315 Q1274.36 26.1121 1284.12 26.1121 Z\" fill=\"#000000\" fill-rule=\"evenodd\" fill-opacity=\"1\" /><path clip-path=\"url(#clip330)\" d=\"M1343.59 34.1734 Q1342.33 33.4443 1340.83 33.1202 Q1339.38 32.7556 1337.59 32.7556 Q1331.27 32.7556 1327.87 36.8875 Q1324.51 40.9789 1324.51 48.6757 L1324.51 72.576 L1317.01 72.576 L1317.01 27.2059 L1324.51 27.2059 L1324.51 34.2544 Q1326.86 30.1225 1330.63 28.1376 Q1334.39 26.1121 1339.78 26.1121 Q1340.55 26.1121 1341.48 26.2337 Q1342.41 26.3147 1343.55 26.5172 L1343.59 34.1734 Z\" fill=\"#000000\" fill-rule=\"evenodd\" fill-opacity=\"1\" /><path clip-path=\"url(#clip330)\" d=\"M1378.1 12.096 L1386.28 12.096 L1386.28 36.8875 L1416.02 36.8875 L1416.02 12.096 L1424.2 12.096 L1424.2 72.576 L1416.02 72.576 L1416.02 43.7741 L1386.28 43.7741 L1386.28 72.576 L1378.1 72.576 L1378.1 12.096 Z\" fill=\"#000000\" fill-rule=\"evenodd\" fill-opacity=\"1\" /><path clip-path=\"url(#clip330)\" d=\"M1440.16 27.2059 L1447.62 27.2059 L1447.62 72.576 L1440.16 72.576 L1440.16 27.2059 M1440.16 9.54393 L1447.62 9.54393 L1447.62 18.9825 L1440.16 18.9825 L1440.16 9.54393 Z\" fill=\"#000000\" fill-rule=\"evenodd\" fill-opacity=\"1\" /><path clip-path=\"url(#clip330)\" d=\"M1492.13 28.5427 L1492.13 35.5912 Q1488.97 33.9709 1485.57 33.1607 Q1482.17 32.3505 1478.52 32.3505 Q1472.97 32.3505 1470.18 34.0519 Q1467.42 35.7533 1467.42 39.156 Q1467.42 41.7486 1469.41 43.2475 Q1471.39 44.7058 1477.39 46.0426 L1479.94 46.6097 Q1487.88 48.3111 1491.2 51.4303 Q1494.57 54.509 1494.57 60.0587 Q1494.57 66.3781 1489.54 70.0644 Q1484.56 73.7508 1475.81 73.7508 Q1472.16 73.7508 1468.19 73.0216 Q1464.26 72.3329 1459.89 70.9151 L1459.89 63.2184 Q1464.02 65.3654 1468.03 66.4591 Q1472.04 67.5124 1475.97 67.5124 Q1481.24 67.5124 1484.07 65.73 Q1486.91 63.9071 1486.91 60.6258 Q1486.91 57.5877 1484.84 55.9673 Q1482.82 54.3469 1475.89 52.8481 L1473.3 52.2405 Q1466.37 50.7821 1463.29 47.7845 Q1460.21 44.7463 1460.21 39.4801 Q1460.21 33.0797 1464.75 29.5959 Q1469.29 26.1121 1477.63 26.1121 Q1481.76 26.1121 1485.41 26.7198 Q1489.06 27.3274 1492.13 28.5427 Z\" fill=\"#000000\" fill-rule=\"evenodd\" fill-opacity=\"1\" /><path clip-path=\"url(#clip330)\" d=\"M1513.81 14.324 L1513.81 27.2059 L1529.16 27.2059 L1529.16 32.9987 L1513.81 32.9987 L1513.81 57.6282 Q1513.81 63.1779 1515.31 64.7578 Q1516.85 66.3376 1521.5 66.3376 L1529.16 66.3376 L1529.16 72.576 L1521.5 72.576 Q1512.88 72.576 1509.59 69.3758 Q1506.31 66.1351 1506.31 57.6282 L1506.31 32.9987 L1500.84 32.9987 L1500.84 27.2059 L1506.31 27.2059 L1506.31 14.324 L1513.81 14.324 Z\" fill=\"#000000\" fill-rule=\"evenodd\" fill-opacity=\"1\" /><path clip-path=\"url(#clip330)\" d=\"M1556.54 32.4315 Q1550.55 32.4315 1547.06 37.1306 Q1543.58 41.7891 1543.58 49.9314 Q1543.58 58.0738 1547.02 62.7728 Q1550.51 67.4314 1556.54 67.4314 Q1562.5 67.4314 1565.98 62.7323 Q1569.47 58.0333 1569.47 49.9314 Q1569.47 41.8701 1565.98 37.1711 Q1562.5 32.4315 1556.54 32.4315 M1556.54 26.1121 Q1566.27 26.1121 1571.82 32.4315 Q1577.37 38.7509 1577.37 49.9314 Q1577.37 61.0714 1571.82 67.4314 Q1566.27 73.7508 1556.54 73.7508 Q1546.78 73.7508 1541.23 67.4314 Q1535.72 61.0714 1535.72 49.9314 Q1535.72 38.7509 1541.23 32.4315 Q1546.78 26.1121 1556.54 26.1121 Z\" fill=\"#000000\" fill-rule=\"evenodd\" fill-opacity=\"1\" /><path clip-path=\"url(#clip330)\" d=\"M1616.01 34.1734 Q1614.76 33.4443 1613.26 33.1202 Q1611.8 32.7556 1610.02 32.7556 Q1603.7 32.7556 1600.29 36.8875 Q1596.93 40.9789 1596.93 48.6757 L1596.93 72.576 L1589.44 72.576 L1589.44 27.2059 L1596.93 27.2059 L1596.93 34.2544 Q1599.28 30.1225 1603.05 28.1376 Q1606.82 26.1121 1612.2 26.1121 Q1612.97 26.1121 1613.9 26.2337 Q1614.84 26.3147 1615.97 26.5172 L1616.01 34.1734 Z\" fill=\"#000000\" fill-rule=\"evenodd\" fill-opacity=\"1\" /><path clip-path=\"url(#clip330)\" d=\"M1642.71 76.7889 Q1639.55 84.8907 1636.55 87.3618 Q1633.55 89.8329 1628.53 89.8329 L1622.57 89.8329 L1622.57 83.5945 L1626.95 83.5945 Q1630.03 83.5945 1631.73 82.1361 Q1633.43 80.6778 1635.5 75.2496 L1636.83 71.8468 L1618.48 27.2059 L1626.38 27.2059 L1640.56 62.6918 L1654.74 27.2059 L1662.64 27.2059 L1642.71 76.7889 Z\" fill=\"#000000\" fill-rule=\"evenodd\" fill-opacity=\"1\" /><polyline clip-path=\"url(#clip332)\" style=\"stroke:#009af9; stroke-linecap:round; stroke-linejoin:round; stroke-width:4; stroke-opacity:1; fill:none\" points=\"271.369,717.974 278.612,828.796 285.855,850.722 293.098,856.266 300.34,853.007 307.583,845.021 314.826,861.479 322.069,863.898 329.312,825.343 336.555,823.127 343.798,760.496 351.041,688.907 358.283,734.863 365.526,817.841 372.769,847.854 380.012,856.718 387.255,861.497 394.498,803.267 401.741,801.287 408.984,823.15 416.227,776.859 423.469,717.066 430.712,742.608 437.955,781.344 445.198,749.684 452.441,735.245 459.684,730.912 466.927,731.676 474.17,728.102 481.412,771.687 488.655,774.347 495.898,796.013 503.141,806.621 510.384,826.314 517.627,804.974 524.87,830.563 532.113,838.115 539.356,863.2 546.598,845.842 553.841,866.956 561.084,843.089 568.327,868.599 575.57,875.038 582.813,759.229 590.056,813.533 597.299,810.906 604.541,773.433 611.784,717.484 619.027,702.701 626.27,731.31 633.513,722.586 640.756,678.617 647.999,575.951 655.242,571.233 662.485,594.808 669.727,618.066 676.97,600.071 684.213,607.108 691.456,584.177 698.699,608.292 705.942,635.15 713.185,624.232 720.428,608.576 727.67,605.159 734.913,649.364 742.156,641.267 749.399,665.646 756.642,669.607 763.885,665.275 771.128,707.602 778.371,729.395 785.613,799.554 792.856,818.146 800.099,782.001 807.342,763.798 814.585,717.579 821.828,671.838 829.071,702.272 836.314,773.547 843.557,796.333 850.799,861.655 858.042,918.745 865.285,962.361 872.528,934.574 879.771,948.541 887.014,963.862 894.257,970.229 901.5,958.148 908.742,928.682 915.985,914.645 923.228,904.706 930.471,930.234 937.714,948.41 944.957,932.583 952.2,969.695 959.443,967.248 966.686,970.837 973.928,965.01 981.171,968.264 988.414,937.917 995.657,934.794 1002.9,965.517 1010.14,961.679 1017.39,958.682 1024.63,895.628 1031.87,881.357 1039.11,878.538 1046.36,846.239 1053.6,914.647 1060.84,860.512 1068.09,915.581 1075.33,948.927 1082.57,990.248 1089.81,1022.16 1097.06,1080.7 1104.3,1049.99 1111.54,1031.68 1118.79,1005.26 1126.03,1015.9 1133.27,1044.21 1140.51,1122.47 1147.76,1143.54 1155,1110.83 1162.24,1188.84 1169.49,1199.5 1176.73,1115.65 1183.97,1123.05 1191.21,1137.27 1198.46,1097.13 1205.7,1054.06 1212.94,1077.96 1220.19,1089.82 1227.43,1095.72 1234.67,1106.86 1241.92,1043.12 1249.16,983.001 1256.4,1021.43 1263.64,1072.69 1270.89,1040.77 1278.13,1044.97 1285.37,1060.2 1292.62,1056.59 1299.86,932.058 1307.1,998.248 1314.34,987.832 1321.59,1050.59 1328.83,1021.41 1336.07,1113.13 1343.32,1117.6 1350.56,1148.19 1357.8,1119.34 1365.04,1105.19 1372.29,1106.09 1379.53,1075.43 1386.77,1055.21 1394.02,1085.33 1401.26,1055.84 1408.5,1053.63 1415.74,1005.85 1422.99,993.322 1430.23,996.429 1437.47,974.856 1444.72,1001.29 1451.96,923.274 1459.2,874.777 1466.44,910.924 1473.69,897.623 1480.93,892.013 1488.17,782.837 1495.42,755.092 1502.66,722.512 1509.9,765.014 1517.14,833.131 1524.39,914.334 1531.63,878.504 1538.87,915.283 1546.12,892.659 1553.36,845.952 1560.6,759.835 1567.84,694.157 1575.09,719.497 1582.33,736.276 1589.57,809.402 1596.82,846.112 1604.06,828.58 1611.3,820.06 1618.54,894.216 1625.79,828.565 1633.03,853.739 1640.27,869.153 1647.52,869.034 1654.76,748.613 1662,750.734 1669.25,876.097 1676.49,928.625 1683.73,947.418 1690.97,912.796 1698.22,934.294 1705.46,967.212 1712.7,1079.11 1719.95,1104.26 1727.19,1163.08 1734.43,1203.22 1741.67,1216.72 1748.92,1206.99 1756.16,1210.5 1763.4,1199.35 1770.65,1181.26 1777.89,1207.57 1785.13,1289.95 1792.37,1322.19 1799.62,1249.08 1806.86,1325.38 1814.1,1265.09 1821.35,1298.42 1828.59,1299.69 1835.83,1287.79 1843.07,1225.31 1850.32,1348.76 1857.56,1386.4 1864.8,1308.41 1872.05,1252.24 1879.29,1255.16 1886.53,1250.72 1893.77,1235.77 1901.02,1170.93 1908.26,1163.17 1915.5,1194.11 1922.75,1223.28 1929.99,1224.34 1937.23,1210.95 1944.47,1182.39 1951.72,1105.26 1958.96,1021.3 1966.2,1022.55 1973.45,941.274 1980.69,904.137 1987.93,926.207 1995.17,975.107 2002.42,908.146 2009.66,920.723 2016.9,946.617 2024.15,972.477 2031.39,1008.82 2038.63,1027.13 2045.87,988.53 2053.12,965.474 2060.36,958.518 2067.6,928.456 2074.85,924.379 2082.09,921.831 2089.33,914.02 2096.58,894.013 2103.82,867.142 2111.06,852.54 2118.3,809.713 2125.55,767.794 2132.79,747.073 2140.03,754.768 2147.28,718.128 2154.52,743.719 2161.76,749.036 2169,746.255 2176.25,734.92 2183.49,755.012 2190.73,757.796 2197.98,771.526 2205.22,768.578 2212.46,758.847 2219.7,768.443 2226.95,779.988 2234.19,782.14 2241.43,770.582 2248.68,763.081 2255.92,767.641 2263.16,760.312 2270.4,749 2277.65,744.567 2284.89,748.224 2292.13,745.481 \"/>\n<polyline clip-path=\"url(#clip332)\" style=\"stroke:#e26f46; stroke-linecap:round; stroke-linejoin:round; stroke-width:4; stroke-opacity:1; fill:none\" points=\"271.369,722.161 278.612,612.692 285.855,587.705 293.098,551.825 300.34,613.822 307.583,517.793 314.826,489.233 322.069,504.981 329.312,555.95 336.555,541.263 343.798,519.873 351.041,534.195 358.283,482.439 365.526,448.49 372.769,443.378 380.012,462.689 387.255,433.706 394.498,363.273 401.741,342.215 408.984,299.344 416.227,254.037 423.469,160.256 430.712,189.809 437.955,260.126 445.198,231.594 452.441,233.135 459.684,222.285 466.927,217.921 474.17,264.228 481.412,293.409 488.655,319.25 495.898,390.32 503.141,417.74 510.384,485.114 517.627,510.39 524.87,463.895 532.113,489.64 539.356,507.196 546.598,531.76 553.841,511.583 561.084,550.746 568.327,560.621 575.57,563.607 582.813,593.875 590.056,551.057 597.299,555.342 604.541,574.298 611.784,622.068 619.027,633.69 626.27,602.28 633.513,612.635 640.756,632.985 647.999,599.115 655.242,577.388 662.485,626.837 669.727,630.679 676.97,671.293 684.213,626.779 691.456,618.85 698.699,625.272 705.942,626.434 713.185,604.927 720.428,647.677 727.67,593.829 734.913,581.597 742.156,584.81 749.399,619.343 756.642,637.963 763.885,646.478 771.128,627.011 778.371,643.232 785.613,668.906 792.856,653.664 800.099,666.623 807.342,685.456 814.585,668.101 821.828,683.714 829.071,707.01 836.314,660.484 843.557,623.267 850.799,662.031 858.042,702.265 865.285,768.455 872.528,763.927 879.771,787.615 887.014,770.587 894.257,755.907 901.5,700.24 908.742,734.795 915.985,725.771 923.228,693.394 930.471,689.71 937.714,705.143 944.957,661.29 952.2,691.196 959.443,643.488 966.686,644.517 973.928,636.934 981.171,602.38 988.414,610.288 995.657,641.856 1002.9,654.248 1010.14,635.512 1017.39,672.644 1024.63,707.711 1031.87,766.838 1039.11,807.913 1046.36,736.505 1053.6,723.186 1060.84,710.392 1068.09,714.683 1075.33,709.276 1082.57,752.607 1089.81,827.347 1097.06,864.99 1104.3,832.492 1111.54,774.04 1118.79,735.747 1126.03,668.788 1133.27,685.032 1140.51,655.873 1147.76,634.931 1155,609.835 1162.24,628.575 1169.49,568.983 1176.73,543.444 1183.97,495.81 1191.21,503.163 1198.46,488.706 1205.7,487.755 1212.94,501.617 1220.19,507.823 1227.43,537.959 1234.67,567.147 1241.92,640.748 1249.16,654.575 1256.4,672.24 1263.64,657.304 1270.89,634.522 1278.13,728.635 1285.37,735.605 1292.62,721.031 1299.86,689.24 1307.1,700.057 1314.34,705.363 1321.59,648.941 1328.83,676.481 1336.07,740.479 1343.32,780.469 1350.56,714.136 1357.8,621.114 1365.04,565.384 1372.29,555.428 1379.53,577.201 1386.77,655.4 1394.02,732.286 1401.26,728.739 1408.5,679.883 1415.74,684.791 1422.99,713.421 1430.23,678.434 1437.47,637.414 1444.72,581.469 1451.96,586.463 1459.2,573.919 1466.44,502.459 1473.69,515.74 1480.93,522.318 1488.17,601.354 1495.42,605.764 1502.66,589.129 1509.9,638.851 1517.14,662.44 1524.39,713.363 1531.63,748.823 1538.87,793.841 1546.12,853.663 1553.36,879.158 1560.6,868.23 1567.84,862.101 1575.09,821.96 1582.33,809.946 1589.57,792.424 1596.82,835.268 1604.06,818.365 1611.3,862.685 1618.54,873.023 1625.79,779.958 1633.03,795.216 1640.27,811.611 1647.52,793.847 1654.76,725.805 1662,768.215 1669.25,764.287 1676.49,691.901 1683.73,593.206 1690.97,523.741 1698.22,533.453 1705.46,541.901 1712.7,558.128 1719.95,539.483 1727.19,557.581 1734.43,589.145 1741.67,506.691 1748.92,508.173 1756.16,515.719 1763.4,545.26 1770.65,529.24 1777.89,541.785 1785.13,493.757 1792.37,492.862 1799.62,519.414 1806.86,557.557 1814.1,548.95 1821.35,569.172 1828.59,599.071 1835.83,698.251 1843.07,735.383 1850.32,655.571 1857.56,660.17 1864.8,724.177 1872.05,730.724 1879.29,779.378 1886.53,795.066 1893.77,896.846 1901.02,868.583 1908.26,848.958 1915.5,802.991 1922.75,723.932 1929.99,749.424 1937.23,712.687 1944.47,751.4 1951.72,754.611 1958.96,740.783 1966.2,790.046 1973.45,811.767 1980.69,832.42 1987.93,852.876 1995.17,905.622 2002.42,847.758 2009.66,830.356 2016.9,815.239 2024.15,841.222 2031.39,883.557 2038.63,836.93 2045.87,841.989 2053.12,845.932 2060.36,805.221 2067.6,814.868 2074.85,801.916 2082.09,802.179 2089.33,805.337 2096.58,801.646 2103.82,798.713 2111.06,788.003 2118.3,833.075 2125.55,835.125 2132.79,833.61 2140.03,827.124 2147.28,802.793 2154.52,820.645 2161.76,824.312 2169,815.183 2176.25,792.242 2183.49,817.373 2190.73,799.722 2197.98,784.718 2205.22,778.477 2212.46,775.948 2219.7,778.977 2226.95,761.168 2234.19,772.035 2241.43,769.965 2248.68,763.011 2255.92,764.751 2263.16,759.016 2270.4,748.463 2277.65,746.592 2284.89,751.895 2292.13,750.352 \"/>\n<polyline clip-path=\"url(#clip332)\" style=\"stroke:#3da44d; stroke-linecap:round; stroke-linejoin:round; stroke-width:4; stroke-opacity:1; fill:none\" points=\"271.369,673.951 278.612,699.623 285.855,719.363 293.098,637.236 300.34,634.02 307.583,631.195 314.826,601.564 322.069,678.534 329.312,619.043 336.555,532.565 343.798,492.693 351.041,433.985 358.283,371.19 365.526,416.921 372.769,400.051 380.012,409.659 387.255,346.631 394.498,401.152 401.741,418.149 408.984,389.003 416.227,342.515 423.469,330.566 430.712,277.09 437.955,277.811 445.198,255.556 452.441,292.238 459.684,368.238 466.927,376.066 474.17,385.316 481.412,405.419 488.655,420.136 495.898,429.623 503.141,453.696 510.384,406.719 517.627,347.161 524.87,335.248 532.113,346.525 539.356,323.544 546.598,355.864 553.841,369.379 561.084,347.755 568.327,360.788 575.57,361.556 582.813,379.714 590.056,400.419 597.299,449.144 604.541,496.776 611.784,486.558 619.027,488.317 626.27,564.442 633.513,603.365 640.756,616.88 647.999,638.565 655.242,577.366 662.485,560.556 669.727,547.574 676.97,571.758 684.213,523.4 691.456,522.033 698.699,510.092 705.942,514.392 713.185,539.595 720.428,520.69 727.67,513.516 734.913,534.576 742.156,542.589 749.399,529.258 756.642,558.595 763.885,565.209 771.128,565.787 778.371,559.325 785.613,564.132 792.856,559.302 800.099,574.61 807.342,589.427 814.585,645.38 821.828,666.766 829.071,699.684 836.314,659.662 843.557,722.758 850.799,737.874 858.042,702.337 865.285,715.733 872.528,732.665 879.771,709.834 887.014,730.332 894.257,770.775 901.5,755.605 908.742,811.998 915.985,815.927 923.228,805.365 930.471,866.777 937.714,905.743 944.957,903.864 952.2,901.782 959.443,885.438 966.686,884.584 973.928,837.685 981.171,866.412 988.414,852.295 995.657,898.395 1002.9,915.716 1010.14,919.861 1017.39,970.998 1024.63,1017.7 1031.87,1012.09 1039.11,980.082 1046.36,982.783 1053.6,894.365 1060.84,846.471 1068.09,875.842 1075.33,888.2 1082.57,917.724 1089.81,921.532 1097.06,929.224 1104.3,922.545 1111.54,917.833 1118.79,953.367 1126.03,889.37 1133.27,920.142 1140.51,1000.65 1147.76,1022.71 1155,1044.39 1162.24,1036.95 1169.49,1016.51 1176.73,1025.53 1183.97,1054.51 1191.21,1067.23 1198.46,1050.84 1205.7,1082.95 1212.94,1106.26 1220.19,1151.02 1227.43,1169.67 1234.67,1153.43 1241.92,1083.35 1249.16,1049.67 1256.4,1012.7 1263.64,1046.11 1270.89,1031.47 1278.13,1063.29 1285.37,1045.46 1292.62,1046.54 1299.86,1139.04 1307.1,1182.48 1314.34,1199.16 1321.59,1183.42 1328.83,1097.56 1336.07,1097.95 1343.32,1148.35 1350.56,1132.44 1357.8,1085.22 1365.04,1150.99 1372.29,1145.59 1379.53,1095.39 1386.77,1087.14 1394.02,1122.62 1401.26,1100.93 1408.5,1120.9 1415.74,1175.39 1422.99,1094.6 1430.23,1036.31 1437.47,1003.25 1444.72,1061.92 1451.96,1055.08 1459.2,1021.9 1466.44,1036.13 1473.69,1014.71 1480.93,1025.23 1488.17,1049.24 1495.42,962.793 1502.66,806.313 1509.9,811.697 1517.14,799.215 1524.39,840.744 1531.63,840.217 1538.87,869.3 1546.12,777.952 1553.36,764.138 1560.6,771.692 1567.84,746.717 1575.09,748.055 1582.33,735.296 1589.57,736.699 1596.82,793.23 1604.06,823.695 1611.3,748.947 1618.54,631.063 1625.79,651.566 1633.03,722.964 1640.27,782.577 1647.52,812.434 1654.76,881.857 1662,880.293 1669.25,864.04 1676.49,756.353 1683.73,765.291 1690.97,721.065 1698.22,675.135 1705.46,607.323 1712.7,666.924 1719.95,648.464 1727.19,660.488 1734.43,765.09 1741.67,869.312 1748.92,896.649 1756.16,864 1763.4,895.396 1770.65,931.25 1777.89,918.748 1785.13,901.042 1792.37,852.565 1799.62,736.086 1806.86,646.19 1814.1,616.145 1821.35,508.365 1828.59,553.747 1835.83,577.65 1843.07,620.961 1850.32,573.51 1857.56,639.239 1864.8,644.816 1872.05,639.759 1879.29,632.171 1886.53,601.692 1893.77,642.098 1901.02,670.477 1908.26,713.192 1915.5,670.902 1922.75,673.998 1929.99,600.377 1937.23,585.143 1944.47,648.522 1951.72,651.058 1958.96,688.611 1966.2,685.387 1973.45,614.969 1980.69,579.041 1987.93,542.502 1995.17,552.709 2002.42,523.576 2009.66,454.457 2016.9,493.373 2024.15,459.108 2031.39,440.384 2038.63,480.49 2045.87,523.838 2053.12,533.295 2060.36,517.238 2067.6,522.145 2074.85,551.67 2082.09,562.63 2089.33,581.93 2096.58,603.792 2103.82,601.281 2111.06,576.625 2118.3,600.156 2125.55,591.192 2132.79,592.213 2140.03,575.654 2147.28,555.885 2154.52,570.895 2161.76,536.535 2169,526.732 2176.25,516.548 2183.49,503.821 2190.73,516.285 2197.98,507.751 2205.22,516.071 2212.46,509.237 2219.7,499.816 2226.95,487.513 2234.19,482.726 2241.43,490.751 2248.68,493.88 2255.92,501.235 2263.16,502.947 2270.4,510.11 2277.65,510.018 2284.89,514.806 2292.13,517.998 \"/>\n<polyline clip-path=\"url(#clip332)\" style=\"stroke:#c271d2; stroke-linecap:round; stroke-linejoin:round; stroke-width:4; stroke-opacity:1; fill:none\" stroke-dasharray=\"16, 10\" points=\"271.369,703.35 278.612,703.065 285.855,700.694 293.098,698.024 300.34,695.367 307.583,692.908 314.826,690.703 322.069,688.305 329.312,685.975 336.555,684.48 343.798,683.094 351.041,682.969 358.283,684.21 365.526,684.519 372.769,683.239 380.012,681.457 387.255,679.59 394.498,677.712 401.741,677.03 408.984,676.422 416.227,675.428 423.469,675.351 430.712,676.417 437.955,676.951 445.198,676.722 452.441,677.104 459.684,677.749 466.927,678.445 474.17,679.093 481.412,679.779 488.655,679.606 495.898,679.382 503.141,678.753 510.384,677.961 517.627,676.828 524.87,676.152 532.113,675.029 539.356,673.817 546.598,672.176 553.841,670.946 561.084,669.377 568.327,668.324 575.57,666.839 582.813,665.31 590.056,666.051 597.299,665.737 604.541,665.486 611.784,665.957 619.027,667.469 626.27,669.198 633.513,670.295 640.756,671.507 647.999,673.492 655.242,677.095 662.485,680.836 669.727,683.973 676.97,686.51 684.213,689.271 691.456,691.775 698.699,694.587 705.942,696.809 713.185,698.42 720.428,700.155 727.67,702.116 734.913,704.041 742.156,705.039 749.399,706.133 756.642,706.714 763.885,707.196 771.128,707.748 778.371,707.462 785.613,706.773 792.856,704.777 800.099,702.521 807.342,701.071 814.585,700.024 821.828,699.917 829.071,700.686 836.314,700.834 843.557,699.616 850.799,698.027 858.042,695.272 865.285,691.556 872.528,687.184 879.771,683.56 887.014,679.835 894.257,676.003 901.5,672.238 908.742,668.874 915.985,666.228 923.228,663.982 930.471,662.022 937.714,659.666 944.957,657.083 952.2,654.923 959.443,652.165 966.686,649.584 973.928,647.054 981.171,644.751 988.414,642.508 995.657,640.946 1002.9,639.507 1010.14,637.56 1017.39,635.777 1024.63,634.138 1031.87,633.769 1039.11,633.689 1046.36,633.665 1053.6,634.257 1060.84,633.534 1068.09,633.861 1075.33,633.135 1082.57,631.803 1089.81,629.755 1097.06,627.192 1104.3,623.648 1111.54,620.85 1118.79,618.528 1126.03,616.828 1133.27,615 1140.51,612.717 1147.76,609.058 1155,605.182 1162.24,602.099 1169.49,597.678 1176.73,593.271 1183.97,590.664 1191.21,588.046 1198.46,585.289 1205.7,583.426 1212.94,582.461 1220.19,581.091 1227.43,579.56 1234.67,577.997 1241.92,576.286 1249.16,575.863 1256.4,576.616 1263.64,576.6 1270.89,575.595 1278.13,575.259 1285.37,574.844 1292.62,574.171 1299.86,573.6 1307.1,575.422 1314.34,575.897 1321.59,576.55 1328.83,575.985 1336.07,576.001 1343.32,574.269 1350.56,572.531 1357.8,570.3 1365.04,568.718 1372.29,567.485 1379.53,566.289 1386.77,565.737 1394.02,565.587 1401.26,564.868 1408.5,564.744 1415.74,564.675 1422.99,565.52 1430.23,566.561 1437.47,567.5 1444.72,568.787 1451.96,569.524 1459.2,571.715 1466.44,574.713 1473.69,576.882 1480.93,579.197 1488.17,581.519 1495.42,585.8 1502.66,590.409 1509.9,595.415 1517.14,599.378 1524.39,601.856 1531.63,602.662 1538.87,604.117 1546.12,604.814 1553.36,605.893 1560.6,607.815 1567.84,611.29 1575.09,615.839 1582.33,619.689 1589.57,623.048 1596.82,624.845 1604.06,625.871 1611.3,627.185 1618.54,628.59 1625.79,628.512 1633.03,629.688 1640.27,630.329 1647.52,630.647 1654.76,630.953 1662,633.538 1669.25,635.96 1676.49,635.878 1683.73,634.796 1690.97,633.413 1698.22,632.758 1705.46,631.733 1712.7,630.108 1719.95,626.446 1727.19,622.49 1734.43,617.594 1741.67,612.167 1748.92,607.02 1756.16,602.29 1763.4,597.564 1770.65,593.158 1777.89,589.32 1785.13,585.157 1792.37,579.836 1799.62,574.127 1806.86,569.908 1814.1,564.426 1821.35,560.353 1828.59,555.84 1835.83,551.52 1843.07,547.631 1850.32,545.109 1857.56,540.373 1864.8,535.132 1872.05,531.628 1879.29,529.361 1886.53,527.138 1893.77,525.114 1901.02,523.464 1908.26,523.131 1915.5,522.957 1922.75,522.207 1929.99,520.943 1937.23,519.713 1944.47,518.803 1951.72,518.474 1958.96,519.628 1966.2,522.312 1973.45,524.858 1980.69,528.826 1987.93,533.309 1995.17,537.166 2002.42,539.898 2009.66,543.782 2016.9,547.233 2024.15,550.03 2031.39,552.207 2038.63,553.593 2045.87,554.554 2053.12,556.204 2060.36,558.225 2067.6,560.28 2074.85,562.792 2082.09,565.283 2089.33,567.702 2096.58,570.147 2103.82,572.866 2111.06,575.961 2118.3,579.189 2125.55,583.077 2132.79,587.571 2140.03,592.239 2147.28,596.548 2154.52,601.345 2161.76,605.419 2169,609.206 2176.25,612.869 2183.49,616.571 2190.73,619.719 2197.98,622.661 2205.22,625.198 2212.46,627.672 2219.7,630.211 2226.95,632.449 2234.19,634.368 2241.43,636.143 2248.68,638.063 2255.92,640.032 2263.16,641.83 2270.4,643.663 2277.65,645.633 2284.89,647.597 2292.13,649.395 \"/>\n<polyline clip-path=\"url(#clip332)\" style=\"stroke:#ac8d18; stroke-linecap:round; stroke-linejoin:round; stroke-width:4; stroke-opacity:1; fill:none\" stroke-dasharray=\"16, 10\" points=\"271.369,703.346 278.612,703.686 285.855,705.389 293.098,707.494 300.34,710.17 307.583,711.55 314.826,714.681 322.069,718.212 329.312,721.276 336.555,723.219 343.798,725.356 351.041,727.795 358.283,729.853 365.526,732.79 372.769,736.236 380.012,739.62 387.255,742.469 394.498,745.738 401.741,750.187 408.984,754.816 416.227,760.034 423.469,765.885 430.712,773.236 437.955,779.667 445.198,784.464 452.441,789.566 459.684,794.399 466.927,799.207 474.17,803.871 481.412,807.444 488.655,810.288 495.898,812.508 503.141,813.265 510.384,813.469 517.627,812.375 524.87,810.847 532.113,810.288 539.356,809.26 546.598,807.957 553.841,806.236 561.084,804.981 568.327,803.043 575.57,801.013 582.813,799.026 590.056,796.563 597.299,795.026 604.541,793.479 611.784,791.647 619.027,788.999 626.27,786.261 633.513,784.248 640.756,782.128 647.999,779.71 655.242,778.196 662.485,777.035 669.727,774.98 676.97,772.957 684.213,770.266 691.456,768.54 698.699,767.055 705.942,765.51 713.185,764.018 720.428,762.999 727.67,761.222 734.913,760.548 742.156,760.142 749.399,759.695 756.642,758.612 763.885,757.227 771.128,755.745 778.371,754.702 785.613,753.398 792.856,751.665 800.099,750.321 807.342,748.788 814.585,746.965 821.828,745.557 829.071,743.921 836.314,741.929 843.557,740.906 850.799,740.635 858.042,739.648 865.285,737.937 872.528,735.05 879.771,732.392 887.014,729.41 894.257,726.895 901.5,724.771 908.742,723.813 915.985,722.24 923.228,720.909 930.471,720.264 937.714,719.72 944.957,718.905 952.2,718.962 959.443,718.452 966.686,718.864 973.928,719.239 981.171,719.74 988.414,720.878 995.657,721.809 1002.9,722.101 1010.14,722.151 1017.39,722.547 1024.63,722.233 1031.87,721.254 1039.11,719.19 1046.36,716.454 1053.6,715.214 1060.84,714.277 1068.09,713.62 1075.33,712.915 1082.57,712.348 1089.81,710.984 1097.06,708.266 1104.3,704.973 1111.54,702.44 1118.79,701.14 1126.03,700.623 1133.27,701.406 1140.51,701.846 1147.76,702.818 1155,704.146 1162.24,705.889 1169.49,707.187 1176.73,709.563 1183.97,712.308 1191.21,715.816 1198.46,719.024 1205.7,722.355 1212.94,725.552 1220.19,728.335 1227.43,730.861 1234.67,732.699 1241.92,733.893 1249.16,733.628 1256.4,733.116 1263.64,732.296 1270.89,731.79 1278.13,731.745 1285.37,729.912 1292.62,728.036 1299.86,726.523 1307.1,725.696 1314.34,724.693 1321.59,723.638 1328.83,723.707 1336.07,723.243 1343.32,721.595 1350.56,719.264 1357.8,718.299 1365.04,719.152 1372.29,721.021 1379.53,722.992 1386.77,724.456 1394.02,724.366 1401.26,722.817 1408.5,721.404 1415.74,720.986 1422.99,720.488 1430.23,719.484 1437.47,719.188 1444.72,719.683 1451.96,721.221 1459.2,722.599 1466.44,724.146 1473.69,726.973 1480.93,729.416 1488.17,731.627 1495.42,732.227 1502.66,732.709 1509.9,733.482 1517.14,733.267 1524.39,732.624 1531.63,731.054 1538.87,728.871 1546.12,725.939 1553.36,722.017 1560.6,717.791 1567.84,713.964 1575.09,710.44 1582.33,707.856 1589.57,705.62 1596.82,703.815 1604.06,701.285 1611.3,699.186 1618.54,696.357 1625.79,693.46 1633.03,692.47 1640.27,691.242 1647.52,689.755 1654.76,688.684 1662,688.958 1669.25,688.414 1676.49,687.975 1683.73,688.917 1690.97,691.701 1698.22,695.672 1705.46,699.274 1712.7,702.53 1719.95,705.323 1727.19,708.348 1734.43,710.878 1741.67,712.694 1748.92,715.791 1756.16,718.717 1763.4,721.483 1770.65,723.628 1777.89,725.975 1785.13,727.975 1792.37,730.665 1799.62,733.262 1806.86,735.338 1814.1,736.583 1821.35,737.941 1828.59,738.843 1835.83,739.143 1843.07,737.532 1850.32,735.298 1857.56,734.686 1864.8,734.015 1872.05,732.162 1879.29,730.267 1886.53,727.537 1893.77,724.643 1901.02,719.948 1908.26,716.024 1915.5,712.655 1922.75,710.317 1929.99,709.596 1937.23,708.419 1944.47,707.992 1951.72,706.86 1958.96,705.728 1966.2,704.905 1973.45,703.179 1980.69,701.131 1987.93,698.785 1995.17,696.159 2002.42,692.662 2009.66,690.417 2016.9,688.622 2024.15,687.187 2031.39,685.34 2038.63,682.774 2045.87,681.221 2053.12,679.646 2060.36,678.067 2067.6,677.337 2074.85,676.46 2082.09,675.867 2089.33,675.29 2096.58,674.686 2103.82,674.179 2111.06,673.75 2118.3,673.547 2125.55,672.493 2132.79,671.452 2140.03,670.498 2147.28,669.71 2154.52,669.412 2161.76,668.786 2169,668.123 2176.25,667.681 2183.49,667.696 2190.73,667.223 2197.98,667.102 2205.22,667.283 2212.46,667.573 2219.7,667.887 2226.95,668.138 2234.19,668.718 2241.43,669.061 2248.68,669.418 2255.92,669.892 2263.16,670.315 2270.4,670.829 2277.65,671.511 2284.89,672.204 2292.13,672.763 \"/>\n<polyline clip-path=\"url(#clip332)\" style=\"stroke:#00a9ad; stroke-linecap:round; stroke-linejoin:round; stroke-width:4; stroke-opacity:1; fill:none\" stroke-dasharray=\"16, 10\" points=\"271.369,703.352 278.612,706.543 285.855,706.453 293.098,706.004 300.34,707.134 307.583,708.275 314.826,709.411 322.069,711.052 329.312,711.161 336.555,712.402 343.798,715.214 351.041,718.659 358.283,723.058 365.526,728.442 372.769,732.694 380.012,737.063 387.255,741.039 394.498,746.019 401.741,749.741 408.984,752.958 416.227,756.574 423.469,760.899 430.712,765.246 437.955,770.413 445.198,775.315 452.441,780.407 459.684,784.555 466.927,787.064 474.17,789.302 481.412,791.253 488.655,792.74 495.898,793.87 503.141,794.762 510.384,795.159 517.627,796.422 524.87,798.773 532.113,801.226 539.356,803.351 546.598,805.811 553.841,807.54 561.084,808.934 568.327,810.671 575.57,812.074 582.813,813.399 590.056,814.313 597.299,814.797 604.541,814.33 611.784,812.98 619.027,811.889 626.27,810.812 633.513,808.335 640.756,805.242 647.999,802.047 655.242,798.811 662.485,796.746 669.727,795.016 676.97,793.616 684.213,791.825 691.456,791.038 698.699,790.316 705.942,789.857 713.185,789.332 720.428,788.343 727.67,787.761 734.913,787.364 742.156,786.577 749.399,785.665 756.642,785.064 763.885,783.933 771.128,782.727 778.371,781.58 785.613,780.601 792.856,779.565 800.099,778.682 807.342,777.539 814.585,776.173 821.828,773.812 829.071,771.159 836.314,768.004 843.557,765.76 850.799,762.419 858.042,758.957 865.285,756.34 872.528,753.582 879.771,750.638 887.014,748.259 894.257,745.607 901.5,742.316 908.742,739.466 915.985,735.685 923.228,731.998 930.471,728.701 937.714,724.392 944.957,719.548 952.2,714.964 959.443,710.639 966.686,706.824 973.928,703.208 981.171,700.661 988.414,697.701 995.657,695.136 1002.9,691.818 1010.14,688.329 1017.39,684.928 1024.63,680.712 1031.87,675.828 1039.11,671.272 1046.36,667.541 1053.6,663.927 1060.84,662.162 1068.09,661.399 1075.33,660.125 1082.57,658.666 1089.81,656.717 1097.06,654.787 1104.3,652.812 1111.54,651.043 1118.79,649.456 1126.03,647.276 1133.27,646.405 1140.51,644.988 1147.76,642.12 1155,638.957 1162.24,635.528 1169.49,632.415 1176.73,629.831 1183.97,627.196 1191.21,624.144 1198.46,620.992 1205.7,618.312 1212.94,615.141 1220.19,611.679 1227.43,607.524 1234.67,603.219 1241.92,599.424 1249.16,597.144 1256.4,595.606 1263.64,594.848 1270.89,593.498 1278.13,592.489 1285.37,590.92 1292.62,589.76 1299.86,588.635 1307.1,585.81 1314.34,582.293 1321.59,578.627 1328.83,575.432 1336.07,574.027 1343.32,572.677 1350.56,570.429 1357.8,568.594 1365.04,567.747 1372.29,565.692 1379.53,563.839 1386.77,563.017 1394.02,562.388 1401.26,561.126 1408.5,560.338 1415.74,559.208 1422.99,557.089 1430.23,556.608 1437.47,557.254 1444.72,558.499 1451.96,558.569 1459.2,558.766 1466.44,559.577 1473.69,560.09 1480.93,560.987 1488.17,561.647 1495.42,561.817 1502.66,563.612 1509.9,568.295 1517.14,572.654 1524.39,577.043 1531.63,580.438 1538.87,583.69 1546.12,586.23 1553.36,590.386 1560.6,594.606 1567.84,598.481 1575.09,602.64 1582.33,606.582 1589.57,610.577 1596.82,614.356 1604.06,616.882 1611.3,618.712 1618.54,621.876 1625.79,627.117 1633.03,631.721 1640.27,634.753 1647.52,636.503 1654.76,637.611 1662,637.347 1669.25,637.131 1676.49,637.221 1683.73,639.36 1690.97,641.224 1698.22,643.839 1705.46,647.209 1712.7,651.703 1719.95,654.868 1727.19,658.213 1734.43,661.18 1741.67,662.012 1748.92,660.835 1756.16,659.451 1763.4,658.495 1770.65,656.983 1777.89,654.86 1785.13,653.067 1792.37,652.453 1799.62,653.684 1806.86,655.413 1814.1,658.781 1821.35,662.56 1828.59,668.207 1835.83,672.718 1843.07,676.568 1850.32,679.398 1857.56,683.005 1864.8,685.184 1872.05,687.155 1879.29,689.138 1886.53,691.168 1893.77,693.67 1901.02,695.289 1908.26,696.299 1915.5,696.449 1922.75,697.397 1929.99,698.24 1937.23,700.443 1944.47,702.821 1951.72,703.892 1958.96,704.859 1966.2,705.07 1973.45,705.329 1980.69,706.91 1987.93,709.104 1995.17,711.887 2002.42,714.34 2009.66,717.225 2016.9,721.291 2024.15,724.428 2031.39,728.07 2038.63,731.893 2045.87,734.767 2053.12,736.685 2060.36,738.334 2067.6,740.204 2074.85,741.903 2082.09,742.951 2089.33,743.748 2096.58,744.138 2103.82,744.093 2111.06,744.095 2118.3,744.566 2125.55,744.564 2132.79,744.741 2140.03,744.882 2147.28,745.344 2154.52,746.157 2161.76,746.647 2169,747.754 2176.25,748.992 2183.49,750.371 2190.73,751.92 2197.98,753.172 2205.22,754.524 2212.46,755.641 2219.7,756.848 2226.95,758.178 2234.19,759.668 2241.43,761.182 2248.68,762.472 2255.92,763.639 2263.16,764.612 2270.4,765.513 2277.65,766.227 2284.89,766.913 2292.13,767.474 \"/>\n<path clip-path=\"url(#clip330)\" d=\"M282.146 1379.86 L566.717 1379.86 L566.717 1016.98 L282.146 1016.98  Z\" fill=\"#ffffff\" fill-rule=\"evenodd\" fill-opacity=\"1\"/>\n<polyline clip-path=\"url(#clip330)\" style=\"stroke:#000000; stroke-linecap:round; stroke-linejoin:round; stroke-width:4; stroke-opacity:1; fill:none\" points=\"282.146,1379.86 566.717,1379.86 566.717,1016.98 282.146,1016.98 282.146,1379.86 \"/>\n<polyline clip-path=\"url(#clip330)\" style=\"stroke:#009af9; stroke-linecap:round; stroke-linejoin:round; stroke-width:4; stroke-opacity:1; fill:none\" points=\"305.946,1068.82 448.747,1068.82 \"/>\n<path clip-path=\"url(#clip330)\" d=\"M496.575 1072.07 L496.575 1074.15 L476.992 1074.15 Q477.269 1078.55 479.63 1080.86 Q482.015 1083.16 486.251 1083.16 Q488.704 1083.16 490.996 1082.55 Q493.311 1081.95 495.579 1080.75 L495.579 1084.78 Q493.288 1085.75 490.88 1086.26 Q488.473 1086.77 485.996 1086.77 Q479.792 1086.77 476.158 1083.16 Q472.547 1079.55 472.547 1073.39 Q472.547 1067.02 475.973 1063.3 Q479.422 1059.55 485.255 1059.55 Q490.487 1059.55 493.519 1062.93 Q496.575 1066.28 496.575 1072.07 M492.316 1070.82 Q492.269 1067.32 490.348 1065.24 Q488.45 1063.16 485.302 1063.16 Q481.737 1063.16 479.584 1065.17 Q477.455 1067.18 477.13 1070.84 L492.316 1070.82 Z\" fill=\"#000000\" fill-rule=\"evenodd\" fill-opacity=\"1\" /><path clip-path=\"url(#clip330)\" d=\"M524.283 1060.17 L514.908 1072.79 L524.769 1086.1 L519.746 1086.1 L512.2 1075.91 L504.653 1086.1 L499.63 1086.1 L509.7 1072.53 L500.487 1060.17 L505.51 1060.17 L512.385 1069.41 L519.26 1060.17 L524.283 1060.17 Z\" fill=\"#000000\" fill-rule=\"evenodd\" fill-opacity=\"1\" /><path clip-path=\"url(#clip330)\" d=\"M529.931 1083.55 L534.653 1083.55 L534.653 1069.41 L529.491 1070.36 L529.491 1067.67 L534.815 1066.77 L537.987 1066.77 L537.987 1083.55 L542.732 1083.55 L542.732 1086.1 L529.931 1086.1 L529.931 1083.55 Z\" fill=\"#000000\" fill-rule=\"evenodd\" fill-opacity=\"1\" /><polyline clip-path=\"url(#clip330)\" style=\"stroke:#e26f46; stroke-linecap:round; stroke-linejoin:round; stroke-width:4; stroke-opacity:1; fill:none\" points=\"305.946,1120.66 448.747,1120.66 \"/>\n<path clip-path=\"url(#clip330)\" d=\"M496.575 1123.91 L496.575 1125.99 L476.992 1125.99 Q477.269 1130.39 479.63 1132.7 Q482.015 1135 486.251 1135 Q488.704 1135 490.996 1134.39 Q493.311 1133.79 495.579 1132.59 L495.579 1136.62 Q493.288 1137.59 490.88 1138.1 Q488.473 1138.61 485.996 1138.61 Q479.792 1138.61 476.158 1135 Q472.547 1131.39 472.547 1125.23 Q472.547 1118.86 475.973 1115.14 Q479.422 1111.39 485.255 1111.39 Q490.487 1111.39 493.519 1114.77 Q496.575 1118.12 496.575 1123.91 M492.316 1122.66 Q492.269 1119.16 490.348 1117.08 Q488.45 1115 485.302 1115 Q481.737 1115 479.584 1117.01 Q477.455 1119.02 477.13 1122.68 L492.316 1122.66 Z\" fill=\"#000000\" fill-rule=\"evenodd\" fill-opacity=\"1\" /><path clip-path=\"url(#clip330)\" d=\"M524.283 1112.01 L514.908 1124.63 L524.769 1137.94 L519.746 1137.94 L512.2 1127.75 L504.653 1137.94 L499.63 1137.94 L509.7 1124.37 L500.487 1112.01 L505.51 1112.01 L512.385 1121.25 L519.26 1112.01 L524.283 1112.01 Z\" fill=\"#000000\" fill-rule=\"evenodd\" fill-opacity=\"1\" /><path clip-path=\"url(#clip330)\" d=\"M532.524 1135.3 L542.338 1135.3 L542.338 1137.94 L528.496 1137.94 L528.496 1135.39 Q529.283 1134.67 530.741 1133.38 Q538.704 1126.32 538.704 1124.14 Q538.704 1122.61 537.501 1121.69 Q536.297 1120.74 534.329 1120.74 Q533.126 1120.74 531.714 1121.15 Q530.301 1121.55 528.635 1122.36 L528.635 1119.51 Q530.417 1118.86 531.945 1118.54 Q533.496 1118.21 534.815 1118.21 Q538.172 1118.21 540.186 1119.74 Q542.2 1121.27 542.2 1123.77 Q542.2 1126.99 534.538 1133.56 Q533.241 1134.67 532.524 1135.3 Z\" fill=\"#000000\" fill-rule=\"evenodd\" fill-opacity=\"1\" /><polyline clip-path=\"url(#clip330)\" style=\"stroke:#3da44d; stroke-linecap:round; stroke-linejoin:round; stroke-width:4; stroke-opacity:1; fill:none\" points=\"305.946,1172.5 448.747,1172.5 \"/>\n<path clip-path=\"url(#clip330)\" d=\"M496.575 1175.75 L496.575 1177.83 L476.992 1177.83 Q477.269 1182.23 479.63 1184.54 Q482.015 1186.84 486.251 1186.84 Q488.704 1186.84 490.996 1186.23 Q493.311 1185.63 495.579 1184.43 L495.579 1188.46 Q493.288 1189.43 490.88 1189.94 Q488.473 1190.45 485.996 1190.45 Q479.792 1190.45 476.158 1186.84 Q472.547 1183.23 472.547 1177.07 Q472.547 1170.7 475.973 1166.98 Q479.422 1163.23 485.255 1163.23 Q490.487 1163.23 493.519 1166.61 Q496.575 1169.96 496.575 1175.75 M492.316 1174.5 Q492.269 1171 490.348 1168.92 Q488.45 1166.84 485.302 1166.84 Q481.737 1166.84 479.584 1168.85 Q477.455 1170.86 477.13 1174.52 L492.316 1174.5 Z\" fill=\"#000000\" fill-rule=\"evenodd\" fill-opacity=\"1\" /><path clip-path=\"url(#clip330)\" d=\"M524.283 1163.85 L514.908 1176.47 L524.769 1189.78 L519.746 1189.78 L512.2 1179.59 L504.653 1189.78 L499.63 1189.78 L509.7 1176.21 L500.487 1163.85 L505.51 1163.85 L512.385 1173.09 L519.26 1163.85 L524.283 1163.85 Z\" fill=\"#000000\" fill-rule=\"evenodd\" fill-opacity=\"1\" /><path clip-path=\"url(#clip330)\" d=\"M538.45 1179.31 Q540.579 1179.73 541.737 1181 Q542.917 1182.25 542.917 1184.15 Q542.917 1187.02 540.718 1188.57 Q538.519 1190.12 534.422 1190.12 Q533.102 1190.12 531.644 1189.87 Q530.209 1189.64 528.589 1189.17 L528.589 1186.37 Q529.792 1187 531.158 1187.3 Q532.547 1187.6 534.098 1187.6 Q536.621 1187.6 538.01 1186.7 Q539.399 1185.77 539.399 1184.15 Q539.399 1182.44 538.102 1181.56 Q536.829 1180.68 534.329 1180.68 L532.339 1180.68 L532.339 1178.18 L534.514 1178.18 Q536.69 1178.18 537.801 1177.46 Q538.936 1176.72 538.936 1175.33 Q538.936 1173.99 537.778 1173.29 Q536.621 1172.58 534.422 1172.58 Q533.496 1172.58 532.315 1172.79 Q531.135 1172.99 529.26 1173.53 L529.26 1170.86 Q530.95 1170.47 532.431 1170.26 Q533.913 1170.05 535.186 1170.05 Q538.519 1170.05 540.463 1171.42 Q542.431 1172.79 542.431 1175.08 Q542.431 1176.67 541.389 1177.79 Q540.348 1178.9 538.45 1179.31 Z\" fill=\"#000000\" fill-rule=\"evenodd\" fill-opacity=\"1\" /><polyline clip-path=\"url(#clip330)\" style=\"stroke:#c271d2; stroke-linecap:round; stroke-linejoin:round; stroke-width:4; stroke-opacity:1; fill:none\" stroke-dasharray=\"16, 10\" points=\"305.946,1224.34 448.747,1224.34 \"/>\n<path clip-path=\"url(#clip330)\" d=\"M496.575 1227.59 L496.575 1229.67 L476.992 1229.67 Q477.269 1234.07 479.63 1236.38 Q482.015 1238.68 486.251 1238.68 Q488.704 1238.68 490.996 1238.07 Q493.311 1237.47 495.579 1236.27 L495.579 1240.3 Q493.288 1241.27 490.88 1241.78 Q488.473 1242.29 485.996 1242.29 Q479.792 1242.29 476.158 1238.68 Q472.547 1235.07 472.547 1228.91 Q472.547 1222.54 475.973 1218.82 Q479.422 1215.07 485.255 1215.07 Q490.487 1215.07 493.519 1218.45 Q496.575 1221.8 496.575 1227.59 M492.316 1226.34 Q492.269 1222.84 490.348 1220.76 Q488.45 1218.68 485.302 1218.68 Q481.737 1218.68 479.584 1220.69 Q477.455 1222.7 477.13 1226.36 L492.316 1226.34 Z\" fill=\"#000000\" fill-rule=\"evenodd\" fill-opacity=\"1\" /><path clip-path=\"url(#clip330)\" d=\"M524.283 1215.69 L514.908 1228.31 L524.769 1241.62 L519.746 1241.62 L512.2 1231.43 L504.653 1241.62 L499.63 1241.62 L509.7 1228.05 L500.487 1215.69 L505.51 1215.69 L512.385 1224.93 L519.26 1215.69 L524.283 1215.69 Z\" fill=\"#000000\" fill-rule=\"evenodd\" fill-opacity=\"1\" /><path clip-path=\"url(#clip330)\" d=\"M512.292 1205.6 L516.552 1205.6 L516.552 1210.99 L512.292 1210.99 L512.292 1205.6 M514.468 1215.07 L514.468 1215.07 Z\" fill=\"#000000\" fill-rule=\"evenodd\" fill-opacity=\"1\" /><path clip-path=\"url(#clip330)\" d=\"M529.931 1239.07 L534.653 1239.07 L534.653 1224.93 L529.491 1225.88 L529.491 1223.19 L534.815 1222.29 L537.987 1222.29 L537.987 1239.07 L542.732 1239.07 L542.732 1241.62 L529.931 1241.62 L529.931 1239.07 Z\" fill=\"#000000\" fill-rule=\"evenodd\" fill-opacity=\"1\" /><polyline clip-path=\"url(#clip330)\" style=\"stroke:#ac8d18; stroke-linecap:round; stroke-linejoin:round; stroke-width:4; stroke-opacity:1; fill:none\" stroke-dasharray=\"16, 10\" points=\"305.946,1276.18 448.747,1276.18 \"/>\n<path clip-path=\"url(#clip330)\" d=\"M496.575 1279.43 L496.575 1281.51 L476.992 1281.51 Q477.269 1285.91 479.63 1288.22 Q482.015 1290.52 486.251 1290.52 Q488.704 1290.52 490.996 1289.91 Q493.311 1289.31 495.579 1288.11 L495.579 1292.14 Q493.288 1293.11 490.88 1293.62 Q488.473 1294.13 485.996 1294.13 Q479.792 1294.13 476.158 1290.52 Q472.547 1286.91 472.547 1280.75 Q472.547 1274.38 475.973 1270.66 Q479.422 1266.91 485.255 1266.91 Q490.487 1266.91 493.519 1270.29 Q496.575 1273.64 496.575 1279.43 M492.316 1278.18 Q492.269 1274.68 490.348 1272.6 Q488.45 1270.52 485.302 1270.52 Q481.737 1270.52 479.584 1272.53 Q477.455 1274.54 477.13 1278.2 L492.316 1278.18 Z\" fill=\"#000000\" fill-rule=\"evenodd\" fill-opacity=\"1\" /><path clip-path=\"url(#clip330)\" d=\"M524.283 1267.53 L514.908 1280.15 L524.769 1293.46 L519.746 1293.46 L512.2 1283.27 L504.653 1293.46 L499.63 1293.46 L509.7 1279.89 L500.487 1267.53 L505.51 1267.53 L512.385 1276.77 L519.26 1267.53 L524.283 1267.53 Z\" fill=\"#000000\" fill-rule=\"evenodd\" fill-opacity=\"1\" /><path clip-path=\"url(#clip330)\" d=\"M512.292 1257.44 L516.552 1257.44 L516.552 1262.83 L512.292 1262.83 L512.292 1257.44 M514.468 1266.91 L514.468 1266.91 Z\" fill=\"#000000\" fill-rule=\"evenodd\" fill-opacity=\"1\" /><path clip-path=\"url(#clip330)\" d=\"M532.524 1290.82 L542.338 1290.82 L542.338 1293.46 L528.496 1293.46 L528.496 1290.91 Q529.283 1290.19 530.741 1288.9 Q538.704 1281.84 538.704 1279.66 Q538.704 1278.13 537.501 1277.21 Q536.297 1276.26 534.329 1276.26 Q533.126 1276.26 531.714 1276.67 Q530.301 1277.07 528.635 1277.88 L528.635 1275.03 Q530.417 1274.38 531.945 1274.06 Q533.496 1273.73 534.815 1273.73 Q538.172 1273.73 540.186 1275.26 Q542.2 1276.79 542.2 1279.29 Q542.2 1282.51 534.538 1289.08 Q533.241 1290.19 532.524 1290.82 Z\" fill=\"#000000\" fill-rule=\"evenodd\" fill-opacity=\"1\" /><polyline clip-path=\"url(#clip330)\" style=\"stroke:#00a9ad; stroke-linecap:round; stroke-linejoin:round; stroke-width:4; stroke-opacity:1; fill:none\" stroke-dasharray=\"16, 10\" points=\"305.946,1328.02 448.747,1328.02 \"/>\n<path clip-path=\"url(#clip330)\" d=\"M496.575 1331.27 L496.575 1333.35 L476.992 1333.35 Q477.269 1337.75 479.63 1340.06 Q482.015 1342.36 486.251 1342.36 Q488.704 1342.36 490.996 1341.75 Q493.311 1341.15 495.579 1339.95 L495.579 1343.98 Q493.288 1344.95 490.88 1345.46 Q488.473 1345.97 485.996 1345.97 Q479.792 1345.97 476.158 1342.36 Q472.547 1338.75 472.547 1332.59 Q472.547 1326.22 475.973 1322.5 Q479.422 1318.75 485.255 1318.75 Q490.487 1318.75 493.519 1322.13 Q496.575 1325.48 496.575 1331.27 M492.316 1330.02 Q492.269 1326.52 490.348 1324.44 Q488.45 1322.36 485.302 1322.36 Q481.737 1322.36 479.584 1324.37 Q477.455 1326.38 477.13 1330.04 L492.316 1330.02 Z\" fill=\"#000000\" fill-rule=\"evenodd\" fill-opacity=\"1\" /><path clip-path=\"url(#clip330)\" d=\"M524.283 1319.37 L514.908 1331.99 L524.769 1345.3 L519.746 1345.3 L512.2 1335.11 L504.653 1345.3 L499.63 1345.3 L509.7 1331.73 L500.487 1319.37 L505.51 1319.37 L512.385 1328.61 L519.26 1319.37 L524.283 1319.37 Z\" fill=\"#000000\" fill-rule=\"evenodd\" fill-opacity=\"1\" /><path clip-path=\"url(#clip330)\" d=\"M512.292 1309.28 L516.552 1309.28 L516.552 1314.67 L512.292 1314.67 L512.292 1309.28 M514.468 1318.75 L514.468 1318.75 Z\" fill=\"#000000\" fill-rule=\"evenodd\" fill-opacity=\"1\" /><path clip-path=\"url(#clip330)\" d=\"M538.45 1334.83 Q540.579 1335.25 541.737 1336.52 Q542.917 1337.77 542.917 1339.67 Q542.917 1342.54 540.718 1344.09 Q538.519 1345.64 534.422 1345.64 Q533.102 1345.64 531.644 1345.39 Q530.209 1345.16 528.589 1344.69 L528.589 1341.89 Q529.792 1342.52 531.158 1342.82 Q532.547 1343.12 534.098 1343.12 Q536.621 1343.12 538.01 1342.22 Q539.399 1341.29 539.399 1339.67 Q539.399 1337.96 538.102 1337.08 Q536.829 1336.2 534.329 1336.2 L532.339 1336.2 L532.339 1333.7 L534.514 1333.7 Q536.69 1333.7 537.801 1332.98 Q538.936 1332.24 538.936 1330.85 Q538.936 1329.51 537.778 1328.81 Q536.621 1328.1 534.422 1328.1 Q533.496 1328.1 532.315 1328.31 Q531.135 1328.51 529.26 1329.05 L529.26 1326.38 Q530.95 1325.99 532.431 1325.78 Q533.913 1325.57 535.186 1325.57 Q538.519 1325.57 540.463 1326.94 Q542.431 1328.31 542.431 1330.6 Q542.431 1332.19 541.389 1333.31 Q540.348 1334.42 538.45 1334.83 Z\" fill=\"#000000\" fill-rule=\"evenodd\" fill-opacity=\"1\" /></svg>\n"
     },
     "metadata": {},
     "output_type": "display_data"
    },
    {
     "data": {
      "image/svg+xml": "<?xml version=\"1.0\" encoding=\"utf-8\"?>\n<svg xmlns=\"http://www.w3.org/2000/svg\" xmlns:xlink=\"http://www.w3.org/1999/xlink\" width=\"600\" height=\"400\" viewBox=\"0 0 2400 1600\">\n<defs>\n  <clipPath id=\"clip370\">\n    <rect x=\"0\" y=\"0\" width=\"2400\" height=\"1600\"/>\n  </clipPath>\n</defs>\n<path clip-path=\"url(#clip370)\" d=\"M0 1600 L2400 1600 L2400 0 L0 0  Z\" fill=\"#ffffff\" fill-rule=\"evenodd\" fill-opacity=\"1\"/>\n<defs>\n  <clipPath id=\"clip371\">\n    <rect x=\"480\" y=\"0\" width=\"1681\" height=\"1600\"/>\n  </clipPath>\n</defs>\n<path clip-path=\"url(#clip370)\" d=\"M232.389 1423.18 L2352.76 1423.18 L2352.76 123.472 L232.389 123.472  Z\" fill=\"#ffffff\" fill-rule=\"evenodd\" fill-opacity=\"1\"/>\n<defs>\n  <clipPath id=\"clip372\">\n    <rect x=\"232\" y=\"123\" width=\"2121\" height=\"1301\"/>\n  </clipPath>\n</defs>\n<polyline clip-path=\"url(#clip372)\" style=\"stroke:#000000; stroke-linecap:round; stroke-linejoin:round; stroke-width:2; stroke-opacity:0.1; fill:none\" points=\"292.4,1423.18 292.4,123.472 \"/>\n<polyline clip-path=\"url(#clip372)\" style=\"stroke:#000000; stroke-linecap:round; stroke-linejoin:round; stroke-width:2; stroke-opacity:0.1; fill:none\" points=\"653.473,1423.18 653.473,123.472 \"/>\n<polyline clip-path=\"url(#clip372)\" style=\"stroke:#000000; stroke-linecap:round; stroke-linejoin:round; stroke-width:2; stroke-opacity:0.1; fill:none\" points=\"1014.55,1423.18 1014.55,123.472 \"/>\n<polyline clip-path=\"url(#clip372)\" style=\"stroke:#000000; stroke-linecap:round; stroke-linejoin:round; stroke-width:2; stroke-opacity:0.1; fill:none\" points=\"1375.62,1423.18 1375.62,123.472 \"/>\n<polyline clip-path=\"url(#clip372)\" style=\"stroke:#000000; stroke-linecap:round; stroke-linejoin:round; stroke-width:2; stroke-opacity:0.1; fill:none\" points=\"1736.69,1423.18 1736.69,123.472 \"/>\n<polyline clip-path=\"url(#clip372)\" style=\"stroke:#000000; stroke-linecap:round; stroke-linejoin:round; stroke-width:2; stroke-opacity:0.1; fill:none\" points=\"2097.77,1423.18 2097.77,123.472 \"/>\n<polyline clip-path=\"url(#clip370)\" style=\"stroke:#000000; stroke-linecap:round; stroke-linejoin:round; stroke-width:4; stroke-opacity:1; fill:none\" points=\"232.389,1423.18 2352.76,1423.18 \"/>\n<polyline clip-path=\"url(#clip370)\" style=\"stroke:#000000; stroke-linecap:round; stroke-linejoin:round; stroke-width:4; stroke-opacity:1; fill:none\" points=\"292.4,1423.18 292.4,1404.28 \"/>\n<polyline clip-path=\"url(#clip370)\" style=\"stroke:#000000; stroke-linecap:round; stroke-linejoin:round; stroke-width:4; stroke-opacity:1; fill:none\" points=\"653.473,1423.18 653.473,1404.28 \"/>\n<polyline clip-path=\"url(#clip370)\" style=\"stroke:#000000; stroke-linecap:round; stroke-linejoin:round; stroke-width:4; stroke-opacity:1; fill:none\" points=\"1014.55,1423.18 1014.55,1404.28 \"/>\n<polyline clip-path=\"url(#clip370)\" style=\"stroke:#000000; stroke-linecap:round; stroke-linejoin:round; stroke-width:4; stroke-opacity:1; fill:none\" points=\"1375.62,1423.18 1375.62,1404.28 \"/>\n<polyline clip-path=\"url(#clip370)\" style=\"stroke:#000000; stroke-linecap:round; stroke-linejoin:round; stroke-width:4; stroke-opacity:1; fill:none\" points=\"1736.69,1423.18 1736.69,1404.28 \"/>\n<polyline clip-path=\"url(#clip370)\" style=\"stroke:#000000; stroke-linecap:round; stroke-linejoin:round; stroke-width:4; stroke-opacity:1; fill:none\" points=\"2097.77,1423.18 2097.77,1404.28 \"/>\n<path clip-path=\"url(#clip370)\" d=\"M269.784 1454.1 Q266.173 1454.1 264.344 1457.66 Q262.539 1461.2 262.539 1468.33 Q262.539 1475.44 264.344 1479.01 Q266.173 1482.55 269.784 1482.55 Q273.418 1482.55 275.224 1479.01 Q277.053 1475.44 277.053 1468.33 Q277.053 1461.2 275.224 1457.66 Q273.418 1454.1 269.784 1454.1 M269.784 1450.39 Q275.594 1450.39 278.65 1455 Q281.728 1459.58 281.728 1468.33 Q281.728 1477.06 278.65 1481.67 Q275.594 1486.25 269.784 1486.25 Q263.974 1486.25 260.895 1481.67 Q257.84 1477.06 257.84 1468.33 Q257.84 1459.58 260.895 1455 Q263.974 1450.39 269.784 1450.39 Z\" fill=\"#000000\" fill-rule=\"evenodd\" fill-opacity=\"1\" /><path clip-path=\"url(#clip370)\" d=\"M289.946 1479.7 L294.83 1479.7 L294.83 1485.58 L289.946 1485.58 L289.946 1479.7 Z\" fill=\"#000000\" fill-rule=\"evenodd\" fill-opacity=\"1\" /><path clip-path=\"url(#clip370)\" d=\"M315.015 1454.1 Q311.404 1454.1 309.576 1457.66 Q307.77 1461.2 307.77 1468.33 Q307.77 1475.44 309.576 1479.01 Q311.404 1482.55 315.015 1482.55 Q318.65 1482.55 320.455 1479.01 Q322.284 1475.44 322.284 1468.33 Q322.284 1461.2 320.455 1457.66 Q318.65 1454.1 315.015 1454.1 M315.015 1450.39 Q320.825 1450.39 323.881 1455 Q326.96 1459.58 326.96 1468.33 Q326.96 1477.06 323.881 1481.67 Q320.825 1486.25 315.015 1486.25 Q309.205 1486.25 306.126 1481.67 Q303.071 1477.06 303.071 1468.33 Q303.071 1459.58 306.126 1455 Q309.205 1450.39 315.015 1450.39 Z\" fill=\"#000000\" fill-rule=\"evenodd\" fill-opacity=\"1\" /><path clip-path=\"url(#clip370)\" d=\"M625.209 1481.64 L641.529 1481.64 L641.529 1485.58 L619.584 1485.58 L619.584 1481.64 Q622.246 1478.89 626.83 1474.26 Q631.436 1469.61 632.617 1468.27 Q634.862 1465.74 635.742 1464.01 Q636.644 1462.25 636.644 1460.56 Q636.644 1457.8 634.7 1456.07 Q632.779 1454.33 629.677 1454.33 Q627.478 1454.33 625.024 1455.09 Q622.594 1455.86 619.816 1457.41 L619.816 1452.69 Q622.64 1451.55 625.093 1450.97 Q627.547 1450.39 629.584 1450.39 Q634.955 1450.39 638.149 1453.08 Q641.343 1455.77 641.343 1460.26 Q641.343 1462.39 640.533 1464.31 Q639.746 1466.2 637.64 1468.8 Q637.061 1469.47 633.959 1472.69 Q630.857 1475.88 625.209 1481.64 Z\" fill=\"#000000\" fill-rule=\"evenodd\" fill-opacity=\"1\" /><path clip-path=\"url(#clip370)\" d=\"M651.343 1479.7 L656.228 1479.7 L656.228 1485.58 L651.343 1485.58 L651.343 1479.7 Z\" fill=\"#000000\" fill-rule=\"evenodd\" fill-opacity=\"1\" /><path clip-path=\"url(#clip370)\" d=\"M666.459 1451.02 L684.815 1451.02 L684.815 1454.96 L670.741 1454.96 L670.741 1463.43 Q671.76 1463.08 672.778 1462.92 Q673.797 1462.73 674.815 1462.73 Q680.602 1462.73 683.982 1465.9 Q687.362 1469.08 687.362 1474.49 Q687.362 1480.07 683.889 1483.17 Q680.417 1486.25 674.098 1486.25 Q671.922 1486.25 669.653 1485.88 Q667.408 1485.51 665.001 1484.77 L665.001 1480.07 Q667.084 1481.2 669.306 1481.76 Q671.528 1482.32 674.005 1482.32 Q678.01 1482.32 680.348 1480.21 Q682.686 1478.1 682.686 1474.49 Q682.686 1470.88 680.348 1468.77 Q678.01 1466.67 674.005 1466.67 Q672.13 1466.67 670.255 1467.08 Q668.403 1467.5 666.459 1468.38 L666.459 1451.02 Z\" fill=\"#000000\" fill-rule=\"evenodd\" fill-opacity=\"1\" /><path clip-path=\"url(#clip370)\" d=\"M981.711 1451.02 L1000.07 1451.02 L1000.07 1454.96 L985.993 1454.96 L985.993 1463.43 Q987.012 1463.08 988.03 1462.92 Q989.049 1462.73 990.067 1462.73 Q995.854 1462.73 999.234 1465.9 Q1002.61 1469.08 1002.61 1474.49 Q1002.61 1480.07 999.141 1483.17 Q995.669 1486.25 989.35 1486.25 Q987.174 1486.25 984.905 1485.88 Q982.66 1485.51 980.252 1484.77 L980.252 1480.07 Q982.336 1481.2 984.558 1481.76 Q986.78 1482.32 989.257 1482.32 Q993.262 1482.32 995.6 1480.21 Q997.938 1478.1 997.938 1474.49 Q997.938 1470.88 995.6 1468.77 Q993.262 1466.67 989.257 1466.67 Q987.382 1466.67 985.507 1467.08 Q983.655 1467.5 981.711 1468.38 L981.711 1451.02 Z\" fill=\"#000000\" fill-rule=\"evenodd\" fill-opacity=\"1\" /><path clip-path=\"url(#clip370)\" d=\"M1011.83 1479.7 L1016.71 1479.7 L1016.71 1485.58 L1011.83 1485.58 L1011.83 1479.7 Z\" fill=\"#000000\" fill-rule=\"evenodd\" fill-opacity=\"1\" /><path clip-path=\"url(#clip370)\" d=\"M1036.9 1454.1 Q1033.28 1454.1 1031.46 1457.66 Q1029.65 1461.2 1029.65 1468.33 Q1029.65 1475.44 1031.46 1479.01 Q1033.28 1482.55 1036.9 1482.55 Q1040.53 1482.55 1042.34 1479.01 Q1044.16 1475.44 1044.16 1468.33 Q1044.16 1461.2 1042.34 1457.66 Q1040.53 1454.1 1036.9 1454.1 M1036.9 1450.39 Q1042.71 1450.39 1045.76 1455 Q1048.84 1459.58 1048.84 1468.33 Q1048.84 1477.06 1045.76 1481.67 Q1042.71 1486.25 1036.9 1486.25 Q1031.09 1486.25 1028.01 1481.67 Q1024.95 1477.06 1024.95 1468.33 Q1024.95 1459.58 1028.01 1455 Q1031.09 1450.39 1036.9 1450.39 Z\" fill=\"#000000\" fill-rule=\"evenodd\" fill-opacity=\"1\" /><path clip-path=\"url(#clip370)\" d=\"M1341.94 1451.02 L1364.16 1451.02 L1364.16 1453.01 L1351.61 1485.58 L1346.73 1485.58 L1358.54 1454.96 L1341.94 1454.96 L1341.94 1451.02 Z\" fill=\"#000000\" fill-rule=\"evenodd\" fill-opacity=\"1\" /><path clip-path=\"url(#clip370)\" d=\"M1373.28 1479.7 L1378.17 1479.7 L1378.17 1485.58 L1373.28 1485.58 L1373.28 1479.7 Z\" fill=\"#000000\" fill-rule=\"evenodd\" fill-opacity=\"1\" /><path clip-path=\"url(#clip370)\" d=\"M1388.4 1451.02 L1406.75 1451.02 L1406.75 1454.96 L1392.68 1454.96 L1392.68 1463.43 Q1393.7 1463.08 1394.72 1462.92 Q1395.74 1462.73 1396.75 1462.73 Q1402.54 1462.73 1405.92 1465.9 Q1409.3 1469.08 1409.3 1474.49 Q1409.3 1480.07 1405.83 1483.17 Q1402.36 1486.25 1396.04 1486.25 Q1393.86 1486.25 1391.59 1485.88 Q1389.35 1485.51 1386.94 1484.77 L1386.94 1480.07 Q1389.02 1481.2 1391.24 1481.76 Q1393.47 1482.32 1395.94 1482.32 Q1399.95 1482.32 1402.29 1480.21 Q1404.62 1478.1 1404.62 1474.49 Q1404.62 1470.88 1402.29 1468.77 Q1399.95 1466.67 1395.94 1466.67 Q1394.07 1466.67 1392.19 1467.08 Q1390.34 1467.5 1388.4 1468.38 L1388.4 1451.02 Z\" fill=\"#000000\" fill-rule=\"evenodd\" fill-opacity=\"1\" /><path clip-path=\"url(#clip370)\" d=\"M1688.76 1481.64 L1696.4 1481.64 L1696.4 1455.28 L1688.09 1456.95 L1688.09 1452.69 L1696.36 1451.02 L1701.03 1451.02 L1701.03 1481.64 L1708.67 1481.64 L1708.67 1485.58 L1688.76 1485.58 L1688.76 1481.64 Z\" fill=\"#000000\" fill-rule=\"evenodd\" fill-opacity=\"1\" /><path clip-path=\"url(#clip370)\" d=\"M1728.12 1454.1 Q1724.51 1454.1 1722.68 1457.66 Q1720.87 1461.2 1720.87 1468.33 Q1720.87 1475.44 1722.68 1479.01 Q1724.51 1482.55 1728.12 1482.55 Q1731.75 1482.55 1733.56 1479.01 Q1735.38 1475.44 1735.38 1468.33 Q1735.38 1461.2 1733.56 1457.66 Q1731.75 1454.1 1728.12 1454.1 M1728.12 1450.39 Q1733.93 1450.39 1736.98 1455 Q1740.06 1459.58 1740.06 1468.33 Q1740.06 1477.06 1736.98 1481.67 Q1733.93 1486.25 1728.12 1486.25 Q1722.31 1486.25 1719.23 1481.67 Q1716.17 1477.06 1716.17 1468.33 Q1716.17 1459.58 1719.23 1455 Q1722.31 1450.39 1728.12 1450.39 Z\" fill=\"#000000\" fill-rule=\"evenodd\" fill-opacity=\"1\" /><path clip-path=\"url(#clip370)\" d=\"M1748.28 1479.7 L1753.16 1479.7 L1753.16 1485.58 L1748.28 1485.58 L1748.28 1479.7 Z\" fill=\"#000000\" fill-rule=\"evenodd\" fill-opacity=\"1\" /><path clip-path=\"url(#clip370)\" d=\"M1773.35 1454.1 Q1769.74 1454.1 1767.91 1457.66 Q1766.1 1461.2 1766.1 1468.33 Q1766.1 1475.44 1767.91 1479.01 Q1769.74 1482.55 1773.35 1482.55 Q1776.98 1482.55 1778.79 1479.01 Q1780.62 1475.44 1780.62 1468.33 Q1780.62 1461.2 1778.79 1457.66 Q1776.98 1454.1 1773.35 1454.1 M1773.35 1450.39 Q1779.16 1450.39 1782.21 1455 Q1785.29 1459.58 1785.29 1468.33 Q1785.29 1477.06 1782.21 1481.67 Q1779.16 1486.25 1773.35 1486.25 Q1767.54 1486.25 1764.46 1481.67 Q1761.4 1477.06 1761.4 1468.33 Q1761.4 1459.58 1764.46 1455 Q1767.54 1450.39 1773.35 1450.39 Z\" fill=\"#000000\" fill-rule=\"evenodd\" fill-opacity=\"1\" /><path clip-path=\"url(#clip370)\" d=\"M2050.34 1481.64 L2057.97 1481.64 L2057.97 1455.28 L2049.66 1456.95 L2049.66 1452.69 L2057.93 1451.02 L2062.6 1451.02 L2062.6 1481.64 L2070.24 1481.64 L2070.24 1485.58 L2050.34 1485.58 L2050.34 1481.64 Z\" fill=\"#000000\" fill-rule=\"evenodd\" fill-opacity=\"1\" /><path clip-path=\"url(#clip370)\" d=\"M2083.72 1481.64 L2100.03 1481.64 L2100.03 1485.58 L2078.09 1485.58 L2078.09 1481.64 Q2080.75 1478.89 2085.34 1474.26 Q2089.94 1469.61 2091.12 1468.27 Q2093.37 1465.74 2094.25 1464.01 Q2095.15 1462.25 2095.15 1460.56 Q2095.15 1457.8 2093.21 1456.07 Q2091.28 1454.33 2088.18 1454.33 Q2085.98 1454.33 2083.53 1455.09 Q2081.1 1455.86 2078.32 1457.41 L2078.32 1452.69 Q2081.15 1451.55 2083.6 1450.97 Q2086.05 1450.39 2088.09 1450.39 Q2093.46 1450.39 2096.65 1453.08 Q2099.85 1455.77 2099.85 1460.26 Q2099.85 1462.39 2099.04 1464.31 Q2098.25 1466.2 2096.15 1468.8 Q2095.57 1469.47 2092.47 1472.69 Q2089.36 1475.88 2083.72 1481.64 Z\" fill=\"#000000\" fill-rule=\"evenodd\" fill-opacity=\"1\" /><path clip-path=\"url(#clip370)\" d=\"M2109.85 1479.7 L2114.73 1479.7 L2114.73 1485.58 L2109.85 1485.58 L2109.85 1479.7 Z\" fill=\"#000000\" fill-rule=\"evenodd\" fill-opacity=\"1\" /><path clip-path=\"url(#clip370)\" d=\"M2124.96 1451.02 L2143.32 1451.02 L2143.32 1454.96 L2129.25 1454.96 L2129.25 1463.43 Q2130.27 1463.08 2131.28 1462.92 Q2132.3 1462.73 2133.32 1462.73 Q2139.11 1462.73 2142.49 1465.9 Q2145.87 1469.08 2145.87 1474.49 Q2145.87 1480.07 2142.4 1483.17 Q2138.92 1486.25 2132.6 1486.25 Q2130.43 1486.25 2128.16 1485.88 Q2125.91 1485.51 2123.51 1484.77 L2123.51 1480.07 Q2125.59 1481.2 2127.81 1481.76 Q2130.03 1482.32 2132.51 1482.32 Q2136.52 1482.32 2138.85 1480.21 Q2141.19 1478.1 2141.19 1474.49 Q2141.19 1470.88 2138.85 1468.77 Q2136.52 1466.67 2132.51 1466.67 Q2130.64 1466.67 2128.76 1467.08 Q2126.91 1467.5 2124.96 1468.38 L2124.96 1451.02 Z\" fill=\"#000000\" fill-rule=\"evenodd\" fill-opacity=\"1\" /><path clip-path=\"url(#clip370)\" d=\"M1180.03 1522.27 L1180.03 1532.4 L1192.09 1532.4 L1192.09 1536.95 L1180.03 1536.95 L1180.03 1556.3 Q1180.03 1560.66 1181.2 1561.9 Q1182.41 1563.14 1186.07 1563.14 L1192.09 1563.14 L1192.09 1568.04 L1186.07 1568.04 Q1179.29 1568.04 1176.72 1565.53 Q1174.14 1562.98 1174.14 1556.3 L1174.14 1536.95 L1169.84 1536.95 L1169.84 1532.4 L1174.14 1532.4 L1174.14 1522.27 L1180.03 1522.27 Z\" fill=\"#000000\" fill-rule=\"evenodd\" fill-opacity=\"1\" /><path clip-path=\"url(#clip370)\" d=\"M1199.79 1532.4 L1205.65 1532.4 L1205.65 1568.04 L1199.79 1568.04 L1199.79 1532.4 M1199.79 1518.52 L1205.65 1518.52 L1205.65 1525.93 L1199.79 1525.93 L1199.79 1518.52 Z\" fill=\"#000000\" fill-rule=\"evenodd\" fill-opacity=\"1\" /><path clip-path=\"url(#clip370)\" d=\"M1245.66 1539.24 Q1247.85 1535.29 1250.91 1533.41 Q1253.96 1531.54 1258.1 1531.54 Q1263.67 1531.54 1266.7 1535.45 Q1269.72 1539.33 1269.72 1546.53 L1269.72 1568.04 L1263.83 1568.04 L1263.83 1546.72 Q1263.83 1541.59 1262.02 1539.11 Q1260.2 1536.63 1256.48 1536.63 Q1251.93 1536.63 1249.29 1539.65 Q1246.64 1542.68 1246.64 1547.9 L1246.64 1568.04 L1240.76 1568.04 L1240.76 1546.72 Q1240.76 1541.56 1238.94 1539.11 Q1237.13 1536.63 1233.34 1536.63 Q1228.85 1536.63 1226.21 1539.68 Q1223.57 1542.71 1223.57 1547.9 L1223.57 1568.04 L1217.68 1568.04 L1217.68 1532.4 L1223.57 1532.4 L1223.57 1537.93 Q1225.57 1534.66 1228.37 1533.1 Q1231.18 1531.54 1235.03 1531.54 Q1238.91 1531.54 1241.62 1533.51 Q1244.35 1535.48 1245.66 1539.24 Z\" fill=\"#000000\" fill-rule=\"evenodd\" fill-opacity=\"1\" /><path clip-path=\"url(#clip370)\" d=\"M1311.89 1548.76 L1311.89 1551.62 L1284.97 1551.62 Q1285.35 1557.67 1288.59 1560.85 Q1291.87 1564 1297.7 1564 Q1301.07 1564 1304.22 1563.17 Q1307.4 1562.35 1310.52 1560.69 L1310.52 1566.23 Q1307.37 1567.57 1304.06 1568.27 Q1300.75 1568.97 1297.35 1568.97 Q1288.82 1568.97 1283.82 1564 Q1278.85 1559.04 1278.85 1550.57 Q1278.85 1541.82 1283.57 1536.69 Q1288.31 1531.54 1296.33 1531.54 Q1303.52 1531.54 1307.69 1536.18 Q1311.89 1540.8 1311.89 1548.76 M1306.04 1547.04 Q1305.97 1542.23 1303.33 1539.37 Q1300.72 1536.5 1296.39 1536.5 Q1291.49 1536.5 1288.53 1539.27 Q1285.6 1542.04 1285.16 1547.07 L1306.04 1547.04 Z\" fill=\"#000000\" fill-rule=\"evenodd\" fill-opacity=\"1\" /><path clip-path=\"url(#clip370)\" d=\"M1356.29 1518.58 Q1352.03 1525.9 1349.96 1533.06 Q1347.89 1540.23 1347.89 1547.58 Q1347.89 1554.93 1349.96 1562.16 Q1352.06 1569.35 1356.29 1576.64 L1351.2 1576.64 Q1346.43 1569.16 1344.04 1561.93 Q1341.68 1554.71 1341.68 1547.58 Q1341.68 1540.48 1344.04 1533.29 Q1346.39 1526.09 1351.2 1518.58 L1356.29 1518.58 Z\" fill=\"#000000\" fill-rule=\"evenodd\" fill-opacity=\"1\" /><path clip-path=\"url(#clip370)\" d=\"M1390.38 1533.45 L1390.38 1538.98 Q1387.9 1537.71 1385.23 1537.07 Q1382.55 1536.44 1379.69 1536.44 Q1375.33 1536.44 1373.13 1537.77 Q1370.97 1539.11 1370.97 1541.79 Q1370.97 1543.82 1372.53 1545 Q1374.09 1546.15 1378.8 1547.2 L1380.8 1547.64 Q1387.04 1548.98 1389.65 1551.43 Q1392.29 1553.85 1392.29 1558.21 Q1392.29 1563.17 1388.34 1566.07 Q1384.43 1568.97 1377.55 1568.97 Q1374.69 1568.97 1371.57 1568.39 Q1368.48 1567.85 1365.05 1566.74 L1365.05 1560.69 Q1368.29 1562.38 1371.44 1563.24 Q1374.59 1564.07 1377.68 1564.07 Q1381.82 1564.07 1384.05 1562.66 Q1386.28 1561.23 1386.28 1558.65 Q1386.28 1556.27 1384.65 1554.99 Q1383.06 1553.72 1377.62 1552.54 L1375.58 1552.07 Q1370.14 1550.92 1367.72 1548.56 Q1365.3 1546.18 1365.3 1542.04 Q1365.3 1537.01 1368.87 1534.27 Q1372.43 1531.54 1378.99 1531.54 Q1382.23 1531.54 1385.1 1532.01 Q1387.96 1532.49 1390.38 1533.45 Z\" fill=\"#000000\" fill-rule=\"evenodd\" fill-opacity=\"1\" /><path clip-path=\"url(#clip370)\" d=\"M1400.69 1518.58 L1405.79 1518.58 Q1410.56 1526.09 1412.92 1533.29 Q1415.3 1540.48 1415.3 1547.58 Q1415.3 1554.71 1412.92 1561.93 Q1410.56 1569.16 1405.79 1576.64 L1400.69 1576.64 Q1404.93 1569.35 1407 1562.16 Q1409.1 1554.93 1409.1 1547.58 Q1409.1 1540.23 1407 1533.06 Q1404.93 1525.9 1400.69 1518.58 Z\" fill=\"#000000\" fill-rule=\"evenodd\" fill-opacity=\"1\" /><polyline clip-path=\"url(#clip372)\" style=\"stroke:#000000; stroke-linecap:round; stroke-linejoin:round; stroke-width:2; stroke-opacity:0.1; fill:none\" points=\"232.389,1309.13 2352.76,1309.13 \"/>\n<polyline clip-path=\"url(#clip372)\" style=\"stroke:#000000; stroke-linecap:round; stroke-linejoin:round; stroke-width:2; stroke-opacity:0.1; fill:none\" points=\"232.389,1125.86 2352.76,1125.86 \"/>\n<polyline clip-path=\"url(#clip372)\" style=\"stroke:#000000; stroke-linecap:round; stroke-linejoin:round; stroke-width:2; stroke-opacity:0.1; fill:none\" points=\"232.389,942.6 2352.76,942.6 \"/>\n<polyline clip-path=\"url(#clip372)\" style=\"stroke:#000000; stroke-linecap:round; stroke-linejoin:round; stroke-width:2; stroke-opacity:0.1; fill:none\" points=\"232.389,759.337 2352.76,759.337 \"/>\n<polyline clip-path=\"url(#clip372)\" style=\"stroke:#000000; stroke-linecap:round; stroke-linejoin:round; stroke-width:2; stroke-opacity:0.1; fill:none\" points=\"232.389,576.075 2352.76,576.075 \"/>\n<polyline clip-path=\"url(#clip372)\" style=\"stroke:#000000; stroke-linecap:round; stroke-linejoin:round; stroke-width:2; stroke-opacity:0.1; fill:none\" points=\"232.389,392.812 2352.76,392.812 \"/>\n<polyline clip-path=\"url(#clip372)\" style=\"stroke:#000000; stroke-linecap:round; stroke-linejoin:round; stroke-width:2; stroke-opacity:0.1; fill:none\" points=\"232.389,209.549 2352.76,209.549 \"/>\n<polyline clip-path=\"url(#clip370)\" style=\"stroke:#000000; stroke-linecap:round; stroke-linejoin:round; stroke-width:4; stroke-opacity:1; fill:none\" points=\"232.389,1423.18 232.389,123.472 \"/>\n<polyline clip-path=\"url(#clip370)\" style=\"stroke:#000000; stroke-linecap:round; stroke-linejoin:round; stroke-width:4; stroke-opacity:1; fill:none\" points=\"232.389,1309.13 251.287,1309.13 \"/>\n<polyline clip-path=\"url(#clip370)\" style=\"stroke:#000000; stroke-linecap:round; stroke-linejoin:round; stroke-width:4; stroke-opacity:1; fill:none\" points=\"232.389,1125.86 251.287,1125.86 \"/>\n<polyline clip-path=\"url(#clip370)\" style=\"stroke:#000000; stroke-linecap:round; stroke-linejoin:round; stroke-width:4; stroke-opacity:1; fill:none\" points=\"232.389,942.6 251.287,942.6 \"/>\n<polyline clip-path=\"url(#clip370)\" style=\"stroke:#000000; stroke-linecap:round; stroke-linejoin:round; stroke-width:4; stroke-opacity:1; fill:none\" points=\"232.389,759.337 251.287,759.337 \"/>\n<polyline clip-path=\"url(#clip370)\" style=\"stroke:#000000; stroke-linecap:round; stroke-linejoin:round; stroke-width:4; stroke-opacity:1; fill:none\" points=\"232.389,576.075 251.287,576.075 \"/>\n<polyline clip-path=\"url(#clip370)\" style=\"stroke:#000000; stroke-linecap:round; stroke-linejoin:round; stroke-width:4; stroke-opacity:1; fill:none\" points=\"232.389,392.812 251.287,392.812 \"/>\n<polyline clip-path=\"url(#clip370)\" style=\"stroke:#000000; stroke-linecap:round; stroke-linejoin:round; stroke-width:4; stroke-opacity:1; fill:none\" points=\"232.389,209.549 251.287,209.549 \"/>\n<path clip-path=\"url(#clip370)\" d=\"M184.445 1294.92 Q180.834 1294.92 179.005 1298.49 Q177.2 1302.03 177.2 1309.16 Q177.2 1316.27 179.005 1319.83 Q180.834 1323.37 184.445 1323.37 Q188.079 1323.37 189.885 1319.83 Q191.713 1316.27 191.713 1309.16 Q191.713 1302.03 189.885 1298.49 Q188.079 1294.92 184.445 1294.92 M184.445 1291.22 Q190.255 1291.22 193.311 1295.83 Q196.389 1300.41 196.389 1309.16 Q196.389 1317.89 193.311 1322.49 Q190.255 1327.08 184.445 1327.08 Q178.635 1327.08 175.556 1322.49 Q172.501 1317.89 172.501 1309.16 Q172.501 1300.41 175.556 1295.83 Q178.635 1291.22 184.445 1291.22 Z\" fill=\"#000000\" fill-rule=\"evenodd\" fill-opacity=\"1\" /><path clip-path=\"url(#clip370)\" d=\"M148.311 1139.21 L164.63 1139.21 L164.63 1143.14 L142.686 1143.14 L142.686 1139.21 Q145.348 1136.45 149.931 1131.82 Q154.538 1127.17 155.718 1125.83 Q157.964 1123.3 158.843 1121.57 Q159.746 1119.81 159.746 1118.12 Q159.746 1115.37 157.802 1113.63 Q155.88 1111.89 152.778 1111.89 Q150.579 1111.89 148.126 1112.66 Q145.695 1113.42 142.917 1114.97 L142.917 1110.25 Q145.741 1109.12 148.195 1108.54 Q150.649 1107.96 152.686 1107.96 Q158.056 1107.96 161.251 1110.64 Q164.445 1113.33 164.445 1117.82 Q164.445 1119.95 163.635 1121.87 Q162.848 1123.77 160.741 1126.36 Q160.163 1127.03 157.061 1130.25 Q153.959 1133.44 148.311 1139.21 Z\" fill=\"#000000\" fill-rule=\"evenodd\" fill-opacity=\"1\" /><path clip-path=\"url(#clip370)\" d=\"M184.445 1111.66 Q180.834 1111.66 179.005 1115.23 Q177.2 1118.77 177.2 1125.9 Q177.2 1133 179.005 1136.57 Q180.834 1140.11 184.445 1140.11 Q188.079 1140.11 189.885 1136.57 Q191.713 1133 191.713 1125.9 Q191.713 1118.77 189.885 1115.23 Q188.079 1111.66 184.445 1111.66 M184.445 1107.96 Q190.255 1107.96 193.311 1112.56 Q196.389 1117.15 196.389 1125.9 Q196.389 1134.62 193.311 1139.23 Q190.255 1143.81 184.445 1143.81 Q178.635 1143.81 175.556 1139.23 Q172.501 1134.62 172.501 1125.9 Q172.501 1117.15 175.556 1112.56 Q178.635 1107.96 184.445 1107.96 Z\" fill=\"#000000\" fill-rule=\"evenodd\" fill-opacity=\"1\" /><path clip-path=\"url(#clip370)\" d=\"M157.13 929.394 L145.325 947.843 L157.13 947.843 L157.13 929.394 M155.903 925.32 L161.783 925.32 L161.783 947.843 L166.714 947.843 L166.714 951.732 L161.783 951.732 L161.783 959.88 L157.13 959.88 L157.13 951.732 L141.529 951.732 L141.529 947.218 L155.903 925.32 Z\" fill=\"#000000\" fill-rule=\"evenodd\" fill-opacity=\"1\" /><path clip-path=\"url(#clip370)\" d=\"M184.445 928.399 Q180.834 928.399 179.005 931.964 Q177.2 935.505 177.2 942.635 Q177.2 949.741 179.005 953.306 Q180.834 956.848 184.445 956.848 Q188.079 956.848 189.885 953.306 Q191.713 949.741 191.713 942.635 Q191.713 935.505 189.885 931.964 Q188.079 928.399 184.445 928.399 M184.445 924.695 Q190.255 924.695 193.311 929.302 Q196.389 933.885 196.389 942.635 Q196.389 951.362 193.311 955.968 Q190.255 960.551 184.445 960.551 Q178.635 960.551 175.556 955.968 Q172.501 951.362 172.501 942.635 Q172.501 933.885 175.556 929.302 Q178.635 924.695 184.445 924.695 Z\" fill=\"#000000\" fill-rule=\"evenodd\" fill-opacity=\"1\" /><path clip-path=\"url(#clip370)\" d=\"M154.862 757.474 Q151.714 757.474 149.862 759.627 Q148.033 761.78 148.033 765.529 Q148.033 769.256 149.862 771.432 Q151.714 773.585 154.862 773.585 Q158.01 773.585 159.839 771.432 Q161.69 769.256 161.69 765.529 Q161.69 761.78 159.839 759.627 Q158.01 757.474 154.862 757.474 M164.144 742.821 L164.144 747.081 Q162.385 746.247 160.579 745.807 Q158.797 745.368 157.038 745.368 Q152.408 745.368 149.954 748.493 Q147.524 751.618 147.177 757.937 Q148.542 755.923 150.603 754.858 Q152.663 753.77 155.14 753.77 Q160.348 753.77 163.357 756.942 Q166.39 760.09 166.39 765.529 Q166.39 770.854 163.241 774.071 Q160.093 777.289 154.862 777.289 Q148.866 777.289 145.695 772.705 Q142.524 768.099 142.524 759.372 Q142.524 751.178 146.413 746.317 Q150.302 741.432 156.853 741.432 Q158.612 741.432 160.394 741.78 Q162.2 742.127 164.144 742.821 Z\" fill=\"#000000\" fill-rule=\"evenodd\" fill-opacity=\"1\" /><path clip-path=\"url(#clip370)\" d=\"M184.445 745.136 Q180.834 745.136 179.005 748.701 Q177.2 752.243 177.2 759.372 Q177.2 766.479 179.005 770.043 Q180.834 773.585 184.445 773.585 Q188.079 773.585 189.885 770.043 Q191.713 766.479 191.713 759.372 Q191.713 752.243 189.885 748.701 Q188.079 745.136 184.445 745.136 M184.445 741.432 Q190.255 741.432 193.311 746.039 Q196.389 750.622 196.389 759.372 Q196.389 768.099 193.311 772.705 Q190.255 777.289 184.445 777.289 Q178.635 777.289 175.556 772.705 Q172.501 768.099 172.501 759.372 Q172.501 750.622 175.556 746.039 Q178.635 741.432 184.445 741.432 Z\" fill=\"#000000\" fill-rule=\"evenodd\" fill-opacity=\"1\" /><path clip-path=\"url(#clip370)\" d=\"M154.283 576.943 Q150.95 576.943 149.028 578.725 Q147.13 580.508 147.13 583.632 Q147.13 586.757 149.028 588.54 Q150.95 590.322 154.283 590.322 Q157.616 590.322 159.538 588.54 Q161.459 586.734 161.459 583.632 Q161.459 580.508 159.538 578.725 Q157.64 576.943 154.283 576.943 M149.607 574.952 Q146.598 574.211 144.908 572.151 Q143.241 570.091 143.241 567.128 Q143.241 562.984 146.181 560.577 Q149.144 558.17 154.283 558.17 Q159.445 558.17 162.385 560.577 Q165.325 562.984 165.325 567.128 Q165.325 570.091 163.635 572.151 Q161.968 574.211 158.982 574.952 Q162.362 575.739 164.237 578.031 Q166.135 580.322 166.135 583.632 Q166.135 588.656 163.056 591.341 Q160.001 594.026 154.283 594.026 Q148.566 594.026 145.487 591.341 Q142.431 588.656 142.431 583.632 Q142.431 580.322 144.329 578.031 Q146.228 575.739 149.607 574.952 M147.894 567.568 Q147.894 570.253 149.561 571.758 Q151.251 573.262 154.283 573.262 Q157.292 573.262 158.982 571.758 Q160.695 570.253 160.695 567.568 Q160.695 564.883 158.982 563.378 Q157.292 561.873 154.283 561.873 Q151.251 561.873 149.561 563.378 Q147.894 564.883 147.894 567.568 Z\" fill=\"#000000\" fill-rule=\"evenodd\" fill-opacity=\"1\" /><path clip-path=\"url(#clip370)\" d=\"M184.445 561.873 Q180.834 561.873 179.005 565.438 Q177.2 568.98 177.2 576.109 Q177.2 583.216 179.005 586.781 Q180.834 590.322 184.445 590.322 Q188.079 590.322 189.885 586.781 Q191.713 583.216 191.713 576.109 Q191.713 568.98 189.885 565.438 Q188.079 561.873 184.445 561.873 M184.445 558.17 Q190.255 558.17 193.311 562.776 Q196.389 567.359 196.389 576.109 Q196.389 584.836 193.311 589.443 Q190.255 594.026 184.445 594.026 Q178.635 594.026 175.556 589.443 Q172.501 584.836 172.501 576.109 Q172.501 567.359 175.556 562.776 Q178.635 558.17 184.445 558.17 Z\" fill=\"#000000\" fill-rule=\"evenodd\" fill-opacity=\"1\" /><path clip-path=\"url(#clip370)\" d=\"M114.931 406.157 L122.57 406.157 L122.57 379.791 L114.26 381.458 L114.26 377.199 L122.524 375.532 L127.2 375.532 L127.2 406.157 L134.839 406.157 L134.839 410.092 L114.931 410.092 L114.931 406.157 Z\" fill=\"#000000\" fill-rule=\"evenodd\" fill-opacity=\"1\" /><path clip-path=\"url(#clip370)\" d=\"M154.283 378.611 Q150.672 378.611 148.843 382.175 Q147.038 385.717 147.038 392.847 Q147.038 399.953 148.843 403.518 Q150.672 407.06 154.283 407.06 Q157.917 407.06 159.723 403.518 Q161.552 399.953 161.552 392.847 Q161.552 385.717 159.723 382.175 Q157.917 378.611 154.283 378.611 M154.283 374.907 Q160.093 374.907 163.149 379.513 Q166.227 384.097 166.227 392.847 Q166.227 401.573 163.149 406.18 Q160.093 410.763 154.283 410.763 Q148.473 410.763 145.394 406.18 Q142.339 401.573 142.339 392.847 Q142.339 384.097 145.394 379.513 Q148.473 374.907 154.283 374.907 Z\" fill=\"#000000\" fill-rule=\"evenodd\" fill-opacity=\"1\" /><path clip-path=\"url(#clip370)\" d=\"M184.445 378.611 Q180.834 378.611 179.005 382.175 Q177.2 385.717 177.2 392.847 Q177.2 399.953 179.005 403.518 Q180.834 407.06 184.445 407.06 Q188.079 407.06 189.885 403.518 Q191.713 399.953 191.713 392.847 Q191.713 385.717 189.885 382.175 Q188.079 378.611 184.445 378.611 M184.445 374.907 Q190.255 374.907 193.311 379.513 Q196.389 384.097 196.389 392.847 Q196.389 401.573 193.311 406.18 Q190.255 410.763 184.445 410.763 Q178.635 410.763 175.556 406.18 Q172.501 401.573 172.501 392.847 Q172.501 384.097 175.556 379.513 Q178.635 374.907 184.445 374.907 Z\" fill=\"#000000\" fill-rule=\"evenodd\" fill-opacity=\"1\" /><path clip-path=\"url(#clip370)\" d=\"M114.931 222.894 L122.57 222.894 L122.57 196.528 L114.26 198.195 L114.26 193.936 L122.524 192.269 L127.2 192.269 L127.2 222.894 L134.839 222.894 L134.839 226.829 L114.931 226.829 L114.931 222.894 Z\" fill=\"#000000\" fill-rule=\"evenodd\" fill-opacity=\"1\" /><path clip-path=\"url(#clip370)\" d=\"M148.311 222.894 L164.63 222.894 L164.63 226.829 L142.686 226.829 L142.686 222.894 Q145.348 220.139 149.931 215.51 Q154.538 210.857 155.718 209.514 Q157.964 206.991 158.843 205.255 Q159.746 203.496 159.746 201.806 Q159.746 199.052 157.802 197.315 Q155.88 195.579 152.778 195.579 Q150.579 195.579 148.126 196.343 Q145.695 197.107 142.917 198.658 L142.917 193.936 Q145.741 192.802 148.195 192.223 Q150.649 191.644 152.686 191.644 Q158.056 191.644 161.251 194.329 Q164.445 197.015 164.445 201.505 Q164.445 203.635 163.635 205.556 Q162.848 207.454 160.741 210.047 Q160.163 210.718 157.061 213.936 Q153.959 217.13 148.311 222.894 Z\" fill=\"#000000\" fill-rule=\"evenodd\" fill-opacity=\"1\" /><path clip-path=\"url(#clip370)\" d=\"M184.445 195.348 Q180.834 195.348 179.005 198.913 Q177.2 202.454 177.2 209.584 Q177.2 216.69 179.005 220.255 Q180.834 223.797 184.445 223.797 Q188.079 223.797 189.885 220.255 Q191.713 216.69 191.713 209.584 Q191.713 202.454 189.885 198.913 Q188.079 195.348 184.445 195.348 M184.445 191.644 Q190.255 191.644 193.311 196.251 Q196.389 200.834 196.389 209.584 Q196.389 218.311 193.311 222.917 Q190.255 227.5 184.445 227.5 Q178.635 227.5 175.556 222.917 Q172.501 218.311 172.501 209.584 Q172.501 200.834 175.556 196.251 Q178.635 191.644 184.445 191.644 Z\" fill=\"#000000\" fill-rule=\"evenodd\" fill-opacity=\"1\" /><path clip-path=\"url(#clip370)\" d=\"M49.9359 788.254 L28.3562 788.254 L28.3562 782.397 L49.7131 782.397 Q54.7739 782.397 57.3202 780.424 Q59.8346 778.45 59.8346 774.504 Q59.8346 769.761 56.8109 767.024 Q53.7872 764.255 48.5673 764.255 L28.3562 764.255 L28.3562 758.398 L64.0042 758.398 L64.0042 764.255 L58.5296 764.255 Q61.7762 766.387 63.3676 769.22 Q64.9272 772.021 64.9272 775.745 Q64.9272 781.888 61.1078 785.071 Q57.2883 788.254 49.9359 788.254 M27.4968 773.517 L27.4968 773.517 Z\" fill=\"#000000\" fill-rule=\"evenodd\" fill-opacity=\"1\" /><path clip-path=\"url(#clip370)\" d=\"M1029.71 12.096 L1037.89 12.096 L1037.89 72.576 L1029.71 72.576 L1029.71 12.096 Z\" fill=\"#000000\" fill-rule=\"evenodd\" fill-opacity=\"1\" /><path clip-path=\"url(#clip370)\" d=\"M1091.57 45.1919 L1091.57 72.576 L1084.11 72.576 L1084.11 45.4349 Q1084.11 38.994 1081.6 35.7938 Q1079.09 32.5936 1074.07 32.5936 Q1068.03 32.5936 1064.55 36.4419 Q1061.06 40.2903 1061.06 46.9338 L1061.06 72.576 L1053.57 72.576 L1053.57 27.2059 L1061.06 27.2059 L1061.06 34.2544 Q1063.74 30.163 1067.34 28.1376 Q1070.99 26.1121 1075.73 26.1121 Q1083.55 26.1121 1087.56 30.9732 Q1091.57 35.7938 1091.57 45.1919 Z\" fill=\"#000000\" fill-rule=\"evenodd\" fill-opacity=\"1\" /><path clip-path=\"url(#clip370)\" d=\"M1113.64 65.7705 L1113.64 89.8329 L1106.15 89.8329 L1106.15 27.2059 L1113.64 27.2059 L1113.64 34.0924 Q1115.99 30.0415 1119.56 28.0971 Q1123.16 26.1121 1128.15 26.1121 Q1136.41 26.1121 1141.55 32.6746 Q1146.74 39.2371 1146.74 49.9314 Q1146.74 60.6258 1141.55 67.1883 Q1136.41 73.7508 1128.15 73.7508 Q1123.16 73.7508 1119.56 71.8063 Q1115.99 69.8214 1113.64 65.7705 M1139 49.9314 Q1139 41.7081 1135.6 37.0496 Q1132.24 32.3505 1126.32 32.3505 Q1120.41 32.3505 1117.01 37.0496 Q1113.64 41.7081 1113.64 49.9314 Q1113.64 58.1548 1117.01 62.8538 Q1120.41 67.5124 1126.32 67.5124 Q1132.24 67.5124 1135.6 62.8538 Q1139 58.1548 1139 49.9314 Z\" fill=\"#000000\" fill-rule=\"evenodd\" fill-opacity=\"1\" /><path clip-path=\"url(#clip370)\" d=\"M1158.33 54.671 L1158.33 27.2059 L1165.78 27.2059 L1165.78 54.3874 Q1165.78 60.8284 1168.29 64.0691 Q1170.8 67.2693 1175.83 67.2693 Q1181.86 67.2693 1185.35 63.421 Q1188.87 59.5726 1188.87 52.9291 L1188.87 27.2059 L1196.32 27.2059 L1196.32 72.576 L1188.87 72.576 L1188.87 65.6084 Q1186.16 69.7404 1182.55 71.7658 Q1178.99 73.7508 1174.25 73.7508 Q1166.43 73.7508 1162.38 68.8897 Q1158.33 64.0286 1158.33 54.671 M1177.08 26.1121 L1177.08 26.1121 Z\" fill=\"#000000\" fill-rule=\"evenodd\" fill-opacity=\"1\" /><path clip-path=\"url(#clip370)\" d=\"M1219.05 14.324 L1219.05 27.2059 L1234.4 27.2059 L1234.4 32.9987 L1219.05 32.9987 L1219.05 57.6282 Q1219.05 63.1779 1220.55 64.7578 Q1222.09 66.3376 1226.75 66.3376 L1234.4 66.3376 L1234.4 72.576 L1226.75 72.576 Q1218.12 72.576 1214.84 69.3758 Q1211.55 66.1351 1211.55 57.6282 L1211.55 32.9987 L1206.09 32.9987 L1206.09 27.2059 L1211.55 27.2059 L1211.55 14.324 L1219.05 14.324 Z\" fill=\"#000000\" fill-rule=\"evenodd\" fill-opacity=\"1\" /><path clip-path=\"url(#clip370)\" d=\"M1270.9 12.096 L1279.08 12.096 L1279.08 36.8875 L1308.82 36.8875 L1308.82 12.096 L1317 12.096 L1317 72.576 L1308.82 72.576 L1308.82 43.7741 L1279.08 43.7741 L1279.08 72.576 L1270.9 72.576 L1270.9 12.096 Z\" fill=\"#000000\" fill-rule=\"evenodd\" fill-opacity=\"1\" /><path clip-path=\"url(#clip370)\" d=\"M1332.96 27.2059 L1340.41 27.2059 L1340.41 72.576 L1332.96 72.576 L1332.96 27.2059 M1332.96 9.54393 L1340.41 9.54393 L1340.41 18.9825 L1332.96 18.9825 L1332.96 9.54393 Z\" fill=\"#000000\" fill-rule=\"evenodd\" fill-opacity=\"1\" /><path clip-path=\"url(#clip370)\" d=\"M1384.93 28.5427 L1384.93 35.5912 Q1381.77 33.9709 1378.37 33.1607 Q1374.97 32.3505 1371.32 32.3505 Q1365.77 32.3505 1362.98 34.0519 Q1360.22 35.7533 1360.22 39.156 Q1360.22 41.7486 1362.21 43.2475 Q1364.19 44.7058 1370.19 46.0426 L1372.74 46.6097 Q1380.68 48.3111 1384 51.4303 Q1387.36 54.509 1387.36 60.0587 Q1387.36 66.3781 1382.34 70.0644 Q1377.36 73.7508 1368.61 73.7508 Q1364.96 73.7508 1360.99 73.0216 Q1357.06 72.3329 1352.69 70.9151 L1352.69 63.2184 Q1356.82 65.3654 1360.83 66.4591 Q1364.84 67.5124 1368.77 67.5124 Q1374.04 67.5124 1376.87 65.73 Q1379.71 63.9071 1379.71 60.6258 Q1379.71 57.5877 1377.64 55.9673 Q1375.62 54.3469 1368.69 52.8481 L1366.1 52.2405 Q1359.17 50.7821 1356.09 47.7845 Q1353.01 44.7463 1353.01 39.4801 Q1353.01 33.0797 1357.55 29.5959 Q1362.09 26.1121 1370.43 26.1121 Q1374.56 26.1121 1378.21 26.7198 Q1381.85 27.3274 1384.93 28.5427 Z\" fill=\"#000000\" fill-rule=\"evenodd\" fill-opacity=\"1\" /><path clip-path=\"url(#clip370)\" d=\"M1406.61 14.324 L1406.61 27.2059 L1421.96 27.2059 L1421.96 32.9987 L1406.61 32.9987 L1406.61 57.6282 Q1406.61 63.1779 1408.1 64.7578 Q1409.64 66.3376 1414.3 66.3376 L1421.96 66.3376 L1421.96 72.576 L1414.3 72.576 Q1405.67 72.576 1402.39 69.3758 Q1399.11 66.1351 1399.11 57.6282 L1399.11 32.9987 L1393.64 32.9987 L1393.64 27.2059 L1399.11 27.2059 L1399.11 14.324 L1406.61 14.324 Z\" fill=\"#000000\" fill-rule=\"evenodd\" fill-opacity=\"1\" /><path clip-path=\"url(#clip370)\" d=\"M1449.34 32.4315 Q1443.35 32.4315 1439.86 37.1306 Q1436.38 41.7891 1436.38 49.9314 Q1436.38 58.0738 1439.82 62.7728 Q1443.31 67.4314 1449.34 67.4314 Q1455.3 67.4314 1458.78 62.7323 Q1462.27 58.0333 1462.27 49.9314 Q1462.27 41.8701 1458.78 37.1711 Q1455.3 32.4315 1449.34 32.4315 M1449.34 26.1121 Q1459.06 26.1121 1464.61 32.4315 Q1470.16 38.7509 1470.16 49.9314 Q1470.16 61.0714 1464.61 67.4314 Q1459.06 73.7508 1449.34 73.7508 Q1439.58 73.7508 1434.03 67.4314 Q1428.52 61.0714 1428.52 49.9314 Q1428.52 38.7509 1434.03 32.4315 Q1439.58 26.1121 1449.34 26.1121 Z\" fill=\"#000000\" fill-rule=\"evenodd\" fill-opacity=\"1\" /><path clip-path=\"url(#clip370)\" d=\"M1508.81 34.1734 Q1507.55 33.4443 1506.06 33.1202 Q1504.6 32.7556 1502.81 32.7556 Q1496.5 32.7556 1493.09 36.8875 Q1489.73 40.9789 1489.73 48.6757 L1489.73 72.576 L1482.24 72.576 L1482.24 27.2059 L1489.73 27.2059 L1489.73 34.2544 Q1492.08 30.1225 1495.85 28.1376 Q1499.61 26.1121 1505 26.1121 Q1505.77 26.1121 1506.7 26.2337 Q1507.64 26.3147 1508.77 26.5172 L1508.81 34.1734 Z\" fill=\"#000000\" fill-rule=\"evenodd\" fill-opacity=\"1\" /><path clip-path=\"url(#clip370)\" d=\"M1535.51 76.7889 Q1532.35 84.8907 1529.35 87.3618 Q1526.35 89.8329 1521.33 89.8329 L1515.37 89.8329 L1515.37 83.5945 L1519.75 83.5945 Q1522.83 83.5945 1524.53 82.1361 Q1526.23 80.6778 1528.29 75.2496 L1529.63 71.8468 L1511.28 27.2059 L1519.18 27.2059 L1533.36 62.6918 L1547.54 27.2059 L1555.44 27.2059 L1535.51 76.7889 Z\" fill=\"#000000\" fill-rule=\"evenodd\" fill-opacity=\"1\" /><polyline clip-path=\"url(#clip372)\" style=\"stroke:#009af9; stroke-linecap:round; stroke-linejoin:round; stroke-width:4; stroke-opacity:1; fill:none\" points=\"292.4,1243.34 299.621,1259.24 306.843,1261.87 314.064,1262.08 321.286,1261.05 328.507,1259.42 335.729,1261.34 342.95,1261.21 350.171,1255.29 357.393,1254.82 364.614,1245.84 371.836,1236.03 379.057,1243.35 386.279,1255.59 393.5,1259.76 400.722,1260.76 407.943,1261.15 415.165,1252.61 422.386,1252.47 429.608,1255.73 436.829,1249.2 444.05,1241.08 451.272,1245.45 458.493,1251.5 465.715,1247.31 472.936,1245.78 480.158,1245.77 487.379,1246.51 494.601,1246.61 501.822,1253.4 509.044,1254.09 516.265,1257.46 523.487,1259.12 530.708,1262 537.93,1258.95 545.151,1262.71 552.372,1263.76 559.594,1267.26 566.815,1264.6 574.037,1267.53 581.258,1263.97 588.48,1267.58 595.701,1268.34 602.923,1251.78 610.144,1260.1 617.366,1259.99 624.587,1254.97 631.809,1247.59 639.03,1246.4 646.252,1251.44 653.473,1250.97 660.694,1245.54 667.916,1233.79 675.137,1233.21 682.359,1238.09 689.58,1242.86 696.802,1241.58 704.023,1243.92 711.245,1241.93 718.466,1246.71 725.688,1251.67 732.909,1251.06 740.131,1249.82 747.352,1250.4 754.573,1257.71 761.795,1257.28 769.016,1261.48 776.238,1262.61 783.459,1262.53 790.681,1269.08 797.902,1272.42 805.124,1282.47 812.345,1284.76 819.567,1279.2 826.788,1276.47 834.01,1269.91 841.231,1263.75 848.453,1268.68 855.674,1279.19 862.895,1282.33 870.117,1291.38 877.338,1298.84 884.56,1304.05 891.781,1298.92 899.003,1299.96 906.224,1301.16 913.446,1301.05 920.667,1298.35 927.889,1293.34 935.11,1290.76 942.332,1288.9 949.553,1292.16 956.775,1294.25 963.996,1291.43 971.217,1296.26 978.439,1295.28 985.66,1295.22 992.882,1293.83 1000.1,1293.82 1007.32,1289.06 1014.55,1288.4 1021.77,1292.58 1028.99,1291.68 1036.21,1290.96 1043.43,1281.78 1050.65,1279.96 1057.88,1279.87 1065.1,1275.62 1072.32,1285.84 1079.54,1278.25 1086.76,1286.49 1093.98,1291.28 1101.2,1296.99 1108.43,1301.11 1115.65,1308.82 1122.87,1303.54 1130.09,1300.27 1137.31,1296.03 1144.53,1297.26 1151.75,1300.94 1158.98,1311.53 1166.2,1313.54 1173.42,1307.85 1180.64,1318.12 1187.86,1318.38 1195.08,1305.26 1202.3,1305.7 1209.53,1307.1 1216.75,1300.75 1223.97,1294.3 1231.19,1297.66 1238.41,1299.16 1245.63,1299.76 1252.85,1301.09 1260.08,1291.77 1267.3,1283.41 1274.52,1289.42 1281.74,1296.98 1288.96,1292.41 1296.18,1293.19 1303.4,1295.5 1310.63,1295.05 1317.85,1277.51 1325.07,1287.83 1332.29,1286.83 1339.51,1296.24 1346.73,1292.21 1353.96,1305.5 1361.18,1305.81 1368.4,1309.83 1375.62,1305.24 1382.84,1302.97 1390.06,1302.95 1397.28,1298.48 1404.51,1295.71 1411.73,1300.22 1418.95,1296.07 1426.17,1296.01 1433.39,1289.5 1440.61,1288.32 1447.83,1289.41 1455.06,1286.97 1462.28,1291.46 1469.5,1280.96 1476.72,1275.15 1483.94,1281.61 1491.16,1280.78 1498.38,1281.09 1505.61,1266.73 1512.83,1264.6 1520.05,1261.89 1527.27,1269.97 1534.49,1281.29 1541.71,1293.95 1548.93,1289.44 1556.16,1295.44 1563.38,1292.76 1570.6,1286.8 1577.82,1275.56 1585.04,1267.76 1592.26,1273.24 1599.48,1277.25 1606.71,1289.07 1613.93,1295.17 1621.15,1293.32 1628.37,1292.85 1635.59,1304.12 1642.81,1295.07 1650.04,1299.32 1657.26,1301.99 1664.48,1302.36 1671.7,1285.68 1678.92,1287.16 1686.14,1306.04 1693.36,1313.71 1700.59,1316.26 1707.81,1311.13 1715.03,1314.2 1722.25,1318.77 1729.47,1334.3 1736.69,1336.82 1743.91,1344.01 1751.14,1348.23 1758.36,1346.42 1765.58,1343.63 1772.8,1343.82 1780.02,1341.62 1787.24,1337.76 1794.46,1340.38 1801.69,1349.32 1808.91,1352.38 1816.13,1341.65 1823.35,1351.22 1830.57,1341 1837.79,1344.53 1845.01,1343.37 1852.24,1340.41 1859.46,1330.44 1866.68,1347.28 1873.9,1351.19 1881.12,1338.54 1888.34,1329.6 1895.56,1329.46 1902.79,1328.3 1910.01,1325.72 1917.23,1316.2 1924.45,1315.24 1931.67,1319.81 1938.89,1323.93 1946.12,1323.88 1953.34,1321.8 1960.56,1317.69 1967.78,1306.9 1975,1295.67 1982.22,1297.05 1989.44,1286.69 1996.67,1283.08 2003.89,1288.05 2011.11,1296.59 2018.33,1288.32 2025.55,1291.73 2032.77,1296.87 2039.99,1301.77 2047.22,1307.94 2054.44,1311.27 2061.66,1306.39 2068.88,1303.96 2076.1,1303.94 2083.32,1300.66 2090.54,1301.22 2097.77,1301.99 2104.99,1301.99 2112.21,1300.27 2119.43,1297.67 2126.65,1296.95 2133.87,1292.28 2141.09,1287.96 2148.32,1286.87 2155.54,1289.86 2162.76,1286.44 2169.98,1292.01 2177.2,1294.46 2184.42,1295.65 2191.65,1295.59 2198.87,1299.99 2206.09,1301.75 2213.31,1304.98 2220.53,1305.71 2227.75,1305.46 2234.97,1307.96 2242.2,1310.64 2249.42,1311.87 2256.64,1311.11 2263.86,1310.97 2271.08,1312.56 2278.3,1312.41 2285.52,1311.7 2292.75,1312.02 \"/>\n<polyline clip-path=\"url(#clip372)\" style=\"stroke:#e26f46; stroke-linecap:round; stroke-linejoin:round; stroke-width:4; stroke-opacity:1; fill:none\" points=\"292.4,1386.4 299.621,1375.31 306.843,1371.5 314.064,1366.29 321.286,1375.14 328.507,1361.15 335.729,1357.34 342.95,1359.95 350.171,1367.38 357.393,1365.12 364.614,1361.98 371.836,1364 379.057,1356.53 386.279,1351.89 393.5,1351.52 400.722,1354.59 407.943,1350.63 415.165,1340.95 422.386,1338.68 429.608,1333.39 436.829,1327.96 444.05,1315.89 451.272,1321.82 458.493,1333.2 465.715,1330 472.936,1331.17 480.158,1330.49 487.379,1330.72 494.601,1338.08 501.822,1342.62 509.044,1346.44 516.265,1356.44 523.487,1359.74 530.708,1368.51 537.93,1370.85 545.151,1362.88 552.372,1365.48 559.594,1366.76 566.815,1368.94 574.037,1364.63 581.258,1368.89 588.48,1368.76 595.701,1367.63 602.923,1370.37 610.144,1362.6 617.366,1361.83 624.587,1363.13 631.809,1368.42 639.03,1368.29 646.252,1362.04 653.473,1361.97 660.694,1363.27 667.916,1355.73 675.137,1352.27 682.359,1358.12 689.58,1357.12 696.802,1361.33 704.023,1353.25 711.245,1350.7 718.466,1350.26 725.688,1349.07 732.909,1344.68 740.131,1349.55 747.352,1340.49 754.573,1337.7 761.795,1337.2 769.016,1341.13 776.238,1342.57 783.459,1342.48 790.681,1338.39 797.902,1339.52 805.124,1341.89 812.345,1338.31 819.567,1338.87 826.788,1340.19 834.01,1336.29 841.231,1335.89 848.453,1334.8 855.674,1323.48 862.895,1314.41 870.117,1317.34 877.338,1321.33 884.56,1329.95 891.781,1329.43 899.003,1334.4 906.224,1334.96 913.446,1337.34 920.667,1334.76 927.889,1344.67 935.11,1344.94 942.332,1339.57 949.553,1338.51 956.775,1340.19 963.996,1333.38 971.217,1337.32 978.439,1330.08 985.66,1330.06 992.882,1328.82 1000.1,1323.8 1007.32,1325.02 1014.55,1329.51 1021.77,1331.07 1028.99,1328.14 1036.21,1333.24 1043.43,1337.79 1050.65,1345.52 1057.88,1350.31 1065.1,1338.94 1072.32,1336.32 1079.54,1333.88 1086.76,1333.97 1093.98,1332.66 1101.2,1338.31 1108.43,1348.12 1115.65,1352.2 1122.87,1346.15 1130.09,1336.69 1137.31,1330.53 1144.53,1320.58 1151.75,1322.88 1158.98,1318.62 1166.2,1315.72 1173.42,1312.36 1180.64,1315.36 1187.86,1307.1 1195.08,1304.06 1202.3,1298.01 1209.53,1300.02 1216.75,1298.84 1223.97,1299.62 1231.19,1302.44 1238.41,1304.04 1245.63,1308.94 1252.85,1313.46 1260.08,1324.04 1267.3,1325.64 1274.52,1327.7 1281.74,1325.03 1288.96,1321.36 1296.18,1334.42 1303.4,1334.5 1310.63,1331.51 1317.85,1326.22 1325.07,1327.2 1332.29,1327.34 1339.51,1318.72 1346.73,1322.39 1353.96,1331.04 1361.18,1335.87 1368.4,1325.4 1375.62,1311.64 1382.84,1303.8 1390.06,1302.8 1397.28,1306.34 1404.51,1317.69 1411.73,1328.3 1418.95,1327 1426.17,1319.34 1433.39,1319.65 1440.61,1323.28 1447.83,1317.73 1455.06,1311.58 1462.28,1303.59 1469.5,1304.61 1476.72,1303.08 1483.94,1293.28 1491.16,1295.92 1498.38,1297.49 1505.61,1309.23 1512.83,1309.83 1520.05,1307.41 1527.27,1314.5 1534.49,1317.53 1541.71,1324.29 1548.93,1328.52 1556.16,1333.89 1563.38,1341.1 1570.6,1343.09 1577.82,1339.82 1585.04,1337.37 1592.26,1330.21 1599.48,1327.37 1606.71,1323.87 1613.93,1329.08 1621.15,1325.57 1628.37,1330.88 1635.59,1331.12 1642.81,1316.69 1650.04,1318.28 1657.26,1319.95 1664.48,1316.69 1671.7,1306.45 1678.92,1312.34 1686.14,1311.37 1693.36,1300.75 1700.59,1286.89 1707.81,1277.82 1715.03,1280.39 1722.25,1282.65 1729.47,1285.88 1736.69,1284.02 1743.91,1287.44 1751.14,1292.6 1758.36,1282.8 1765.58,1283.84 1772.8,1284.89 1780.02,1289.29 1787.24,1287.57 1794.46,1289.97 1801.69,1284.59 1808.91,1285.06 1816.13,1288.76 1823.35,1294.69 1830.57,1293.7 1837.79,1296.84 1845.01,1301.19 1852.24,1315.13 1859.46,1319.61 1866.68,1307.31 1873.9,1307.54 1881.12,1316.16 1888.34,1316.23 1895.56,1322.24 1902.79,1323.29 1910.01,1336.48 1917.23,1330.61 1924.45,1326.23 1931.67,1318.33 1938.89,1306.1 1946.12,1309.25 1953.34,1303.43 1960.56,1308.56 1967.78,1308.41 1975,1305.85 1982.22,1312.33 1989.44,1314.59 1996.67,1316.59 2003.89,1318.46 2011.11,1324.8 2018.33,1315.16 2025.55,1311.7 2032.77,1308.73 2039.99,1311.7 2047.22,1316.84 2054.44,1309.13 2061.66,1309.09 2068.88,1308.89 2076.1,1302.37 2083.32,1303.28 2090.54,1300.93 2097.77,1300.56 2104.99,1300.61 2112.21,1299.67 2119.43,1298.88 2126.65,1297.01 2133.87,1303.12 2141.09,1302.84 2148.32,1302.06 2155.54,1300.61 2162.76,1296.68 2169.98,1298.91 2177.2,1299.01 2184.42,1297.28 2191.65,1293.68 2198.87,1297.05 2206.09,1294.18 2213.31,1291.82 2220.53,1290.8 2227.75,1290.35 2234.97,1290.69 2242.2,1288.06 2249.42,1289.61 2256.64,1289.24 2263.86,1288.18 2271.08,1288.4 2278.3,1287.54 2285.52,1286.03 2292.75,1285.81 \"/>\n<polyline clip-path=\"url(#clip372)\" style=\"stroke:#3da44d; stroke-linecap:round; stroke-linejoin:round; stroke-width:4; stroke-opacity:1; fill:none\" points=\"292.4,209.674 299.621,235.151 306.843,239.051 314.064,228.403 321.286,229.493 328.507,230.646 335.729,228.004 342.95,240.643 350.171,233.417 357.393,222.773 364.614,219.291 371.836,213.368 379.057,207.209 386.279,216.771 393.5,217.071 400.722,221.164 407.943,214.836 415.165,225.514 422.386,230.434 429.608,228.646 436.829,224.545 444.05,225.591 451.272,220.766 458.493,223.911 465.715,223.711 472.936,231.928 480.158,245.381 487.379,248.603 494.601,251.933 501.822,256.701 509.044,260.545 516.265,263.525 523.487,268.489 530.708,263.22 537.93,256.478 545.151,256.871 552.372,260.588 559.594,259.34 566.815,266.044 574.037,269.83 581.258,268.523 588.48,272.249 595.701,274.122 602.923,278.433 610.144,282.962 617.366,291.309 624.587,299.168 631.809,298.523 639.03,299.669 646.252,311.355 653.473,317.278 660.694,319.388 667.916,320.932 675.137,313.549 682.359,312.292 689.58,311.143 696.802,315.376 704.023,309.201 711.245,310.039 718.466,309.404 725.688,311.166 732.909,315.867 740.131,314.16 747.352,314.261 754.573,318.428 761.795,320.613 769.016,319.732 776.238,325.008 783.459,326.88 790.681,327.873 797.902,327.893 805.124,329.571 812.345,329.867 819.567,333.071 826.788,336.117 834.01,344.911 841.231,348.461 848.453,353.543 855.674,348.12 862.895,357.626 870.117,359.951 877.338,355.063 884.56,357.406 891.781,360.203 899.003,357.306 906.224,360.748 913.446,366.92 920.667,364.993 927.889,373.36 935.11,373.97 942.332,372.564 949.553,381.492 956.775,386.885 963.996,386.307 971.217,385.796 978.439,383.359 985.66,383.3 992.882,376.793 1000.1,381.378 1007.32,379.752 1014.55,386.797 1021.77,389.503 1028.99,390.285 1036.21,397.756 1043.43,404.313 1050.65,403.23 1057.88,398.526 1065.1,399.033 1072.32,386.681 1079.54,380.726 1086.76,386.072 1093.98,388.83 1101.2,393.957 1108.43,395.272 1115.65,397.147 1122.87,396.974 1130.09,397.156 1137.31,403.105 1144.53,394.752 1151.75,400.287 1158.98,412.676 1166.2,416.277 1173.42,419.722 1180.64,418.954 1187.86,416.46 1195.08,418.329 1202.3,423.01 1209.53,425.244 1216.75,423.324 1223.97,428.442 1231.19,432.146 1238.41,438.785 1245.63,441.488 1252.85,439.199 1260.08,429.469 1267.3,425.435 1274.52,421.203 1281.74,427.217 1288.96,426.22 1296.18,431.927 1303.4,430.41 1310.63,431.718 1317.85,445.989 1325.07,452.715 1332.29,455.41 1339.51,453.465 1346.73,441.76 1353.96,442.908 1361.18,451.162 1368.4,449.711 1375.62,443.978 1382.84,454.598 1390.06,454.717 1397.28,448.566 1404.51,448.727 1411.73,455.153 1418.95,453.262 1426.17,457.444 1433.39,466.397 1440.61,455.846 1447.83,449.067 1455.06,446.263 1462.28,456.667 1469.5,457.382 1476.72,454.416 1483.94,458.386 1491.16,457.206 1498.38,460.691 1505.61,466.005 1512.83,455.509 1520.05,435.674 1527.27,439.791 1534.49,441.266 1541.71,450.406 1548.93,453.243 1556.16,460.227 1563.38,449.908 1570.6,451.146 1577.82,455.438 1585.04,455.006 1592.26,458.405 1599.48,459.736 1606.71,463.096 1613.93,474.19 1621.15,481.155 1628.37,472.978 1635.59,459.169 1642.81,465.699 1650.04,479.215 1657.26,490.511 1664.48,497.143 1671.7,509.155 1678.92,510.634 1686.14,498.649 1693.36,458.789 1700.59,434.278 1707.81,409.387 1715.03,398.42 1722.25,403.794 1729.47,450.921 1736.69,511.919 1743.91,600.375 1751.14,714.287 1758.36,815.708 1765.58,848.883 1772.8,836.329 1780.02,831.158 1787.24,826.343 1794.46,814.469 1801.69,796.368 1808.91,773.315 1816.13,760.164 1823.35,738.716 1830.57,726.33 1837.79,703.087 1845.01,702.201 1852.24,697.875 1859.46,696.069 1866.68,681.054 1873.9,682.346 1881.12,674.62 1888.34,665.318 1895.56,655.667 1902.79,642.795 1910.01,640.134 1917.23,635.461 1924.45,632.608 1931.67,617.416 1938.89,608.938 1946.12,589.563 1953.34,578.943 1960.56,579.521 1967.78,571.025 1975,567.454 1982.22,557.844 1989.44,538.74 1996.67,524.992 2003.89,511.378 2011.11,504.596 2018.33,492.13 2025.55,474.157 2032.77,471.906 2039.99,458.965 2047.22,448.407 2054.44,446.247 2061.66,444.213 2068.88,437.043 2076.1,426.168 2083.32,418.342 2090.54,413.945 2097.77,406.691 2104.99,400.53 2112.21,394.591 2119.43,385.048 2126.65,372.387 2133.87,366.719 2141.09,356.283 2148.32,347.327 2155.54,335.87 2162.76,324.073 2169.98,317.328 2177.2,303.477 2184.42,293.325 2191.65,283.166 2198.87,272.699 2206.09,265.86 2213.31,255.943 2220.53,248.449 2227.75,238.726 2234.97,228.67 2242.2,218.25 2249.42,208.952 2256.64,201.476 2263.86,193.229 2271.08,185.537 2278.3,176.977 2285.52,169.163 2292.75,160.256 \"/>\n<path clip-path=\"url(#clip370)\" d=\"M2027.42 374.156 L2282.08 374.156 L2282.08 166.796 L2027.42 166.796  Z\" fill=\"#ffffff\" fill-rule=\"evenodd\" fill-opacity=\"1\"/>\n<polyline clip-path=\"url(#clip370)\" style=\"stroke:#000000; stroke-linecap:round; stroke-linejoin:round; stroke-width:4; stroke-opacity:1; fill:none\" points=\"2027.42,374.156 2282.08,374.156 2282.08,166.796 2027.42,166.796 2027.42,374.156 \"/>\n<polyline clip-path=\"url(#clip370)\" style=\"stroke:#009af9; stroke-linecap:round; stroke-linejoin:round; stroke-width:4; stroke-opacity:1; fill:none\" points=\"2050.98,218.636 2192.34,218.636 \"/>\n<path clip-path=\"url(#clip370)\" d=\"M2215.9 225.684 L2215.9 209.99 L2220.16 209.99 L2220.16 225.522 Q2220.16 229.203 2221.6 231.055 Q2223.03 232.883 2225.9 232.883 Q2229.35 232.883 2231.34 230.684 Q2233.36 228.485 2233.36 224.689 L2233.36 209.99 L2237.61 209.99 L2237.61 235.916 L2233.36 235.916 L2233.36 231.934 Q2231.8 234.295 2229.74 235.453 Q2227.71 236.587 2225 236.587 Q2220.53 236.587 2218.22 233.809 Q2215.9 231.031 2215.9 225.684 M2226.62 209.365 L2226.62 209.365 Z\" fill=\"#000000\" fill-rule=\"evenodd\" fill-opacity=\"1\" /><path clip-path=\"url(#clip370)\" d=\"M2245.53 233.369 L2250.25 233.369 L2250.25 219.226 L2245.09 220.175 L2245.09 217.49 L2250.42 216.587 L2253.59 216.587 L2253.59 233.369 L2258.33 233.369 L2258.33 235.916 L2245.53 235.916 L2245.53 233.369 Z\" fill=\"#000000\" fill-rule=\"evenodd\" fill-opacity=\"1\" /><polyline clip-path=\"url(#clip370)\" style=\"stroke:#e26f46; stroke-linecap:round; stroke-linejoin:round; stroke-width:4; stroke-opacity:1; fill:none\" points=\"2050.98,270.476 2192.34,270.476 \"/>\n<path clip-path=\"url(#clip370)\" d=\"M2215.9 277.524 L2215.9 261.83 L2220.16 261.83 L2220.16 277.362 Q2220.16 281.043 2221.6 282.895 Q2223.03 284.723 2225.9 284.723 Q2229.35 284.723 2231.34 282.524 Q2233.36 280.325 2233.36 276.529 L2233.36 261.83 L2237.61 261.83 L2237.61 287.756 L2233.36 287.756 L2233.36 283.774 Q2231.8 286.135 2229.74 287.293 Q2227.71 288.427 2225 288.427 Q2220.53 288.427 2218.22 285.649 Q2215.9 282.871 2215.9 277.524 M2226.62 261.205 L2226.62 261.205 Z\" fill=\"#000000\" fill-rule=\"evenodd\" fill-opacity=\"1\" /><path clip-path=\"url(#clip370)\" d=\"M2248.12 285.117 L2257.94 285.117 L2257.94 287.756 L2244.1 287.756 L2244.1 285.209 Q2244.88 284.492 2246.34 283.196 Q2254.3 276.135 2254.3 273.959 Q2254.3 272.432 2253.1 271.506 Q2251.9 270.557 2249.93 270.557 Q2248.73 270.557 2247.31 270.973 Q2245.9 271.367 2244.24 272.177 L2244.24 269.33 Q2246.02 268.682 2247.55 268.358 Q2249.1 268.034 2250.42 268.034 Q2253.77 268.034 2255.79 269.561 Q2257.8 271.089 2257.8 273.589 Q2257.8 276.807 2250.14 283.381 Q2248.84 284.492 2248.12 285.117 Z\" fill=\"#000000\" fill-rule=\"evenodd\" fill-opacity=\"1\" /><polyline clip-path=\"url(#clip370)\" style=\"stroke:#3da44d; stroke-linecap:round; stroke-linejoin:round; stroke-width:4; stroke-opacity:1; fill:none\" points=\"2050.98,322.316 2192.34,322.316 \"/>\n<path clip-path=\"url(#clip370)\" d=\"M2215.9 329.364 L2215.9 313.67 L2220.16 313.67 L2220.16 329.202 Q2220.16 332.883 2221.6 334.735 Q2223.03 336.563 2225.9 336.563 Q2229.35 336.563 2231.34 334.364 Q2233.36 332.165 2233.36 328.369 L2233.36 313.67 L2237.61 313.67 L2237.61 339.596 L2233.36 339.596 L2233.36 335.614 Q2231.8 337.975 2229.74 339.133 Q2227.71 340.267 2225 340.267 Q2220.53 340.267 2218.22 337.489 Q2215.9 334.711 2215.9 329.364 M2226.62 313.045 L2226.62 313.045 Z\" fill=\"#000000\" fill-rule=\"evenodd\" fill-opacity=\"1\" /><path clip-path=\"url(#clip370)\" d=\"M2254.05 329.133 Q2256.18 329.549 2257.34 330.823 Q2258.52 332.073 2258.52 333.971 Q2258.52 336.841 2256.32 338.392 Q2254.12 339.943 2250.02 339.943 Q2248.7 339.943 2247.24 339.688 Q2245.81 339.457 2244.19 338.994 L2244.19 336.193 Q2245.39 336.818 2246.76 337.119 Q2248.15 337.42 2249.7 337.42 Q2252.22 337.42 2253.61 336.517 Q2255 335.591 2255 333.971 Q2255 332.258 2253.7 331.378 Q2252.43 330.499 2249.93 330.499 L2247.94 330.499 L2247.94 327.999 L2250.11 327.999 Q2252.29 327.999 2253.4 327.281 Q2254.54 326.54 2254.54 325.151 Q2254.54 323.809 2253.38 323.114 Q2252.22 322.397 2250.02 322.397 Q2249.1 322.397 2247.92 322.605 Q2246.74 322.813 2244.86 323.346 L2244.86 320.684 Q2246.55 320.29 2248.03 320.082 Q2249.51 319.874 2250.79 319.874 Q2254.12 319.874 2256.06 321.239 Q2258.03 322.605 2258.03 324.897 Q2258.03 326.494 2256.99 327.605 Q2255.95 328.716 2254.05 329.133 Z\" fill=\"#000000\" fill-rule=\"evenodd\" fill-opacity=\"1\" /></svg>\n"
     },
     "metadata": {},
     "output_type": "display_data"
    },
    {
     "data": {
      "image/svg+xml": "<?xml version=\"1.0\" encoding=\"utf-8\"?>\n<svg xmlns=\"http://www.w3.org/2000/svg\" xmlns:xlink=\"http://www.w3.org/1999/xlink\" width=\"600\" height=\"400\" viewBox=\"0 0 2400 1600\">\n<defs>\n  <clipPath id=\"clip410\">\n    <rect x=\"0\" y=\"0\" width=\"2400\" height=\"1600\"/>\n  </clipPath>\n</defs>\n<path clip-path=\"url(#clip410)\" d=\"M0 1600 L2400 1600 L2400 0 L0 0  Z\" fill=\"#ffffff\" fill-rule=\"evenodd\" fill-opacity=\"1\"/>\n<defs>\n  <clipPath id=\"clip411\">\n    <rect x=\"480\" y=\"0\" width=\"1681\" height=\"1600\"/>\n  </clipPath>\n</defs>\n<path clip-path=\"url(#clip410)\" d=\"M210.977 1423.18 L2352.76 1423.18 L2352.76 123.472 L210.977 123.472  Z\" fill=\"#ffffff\" fill-rule=\"evenodd\" fill-opacity=\"1\"/>\n<defs>\n  <clipPath id=\"clip412\">\n    <rect x=\"210\" y=\"123\" width=\"2143\" height=\"1301\"/>\n  </clipPath>\n</defs>\n<polyline clip-path=\"url(#clip412)\" style=\"stroke:#000000; stroke-linecap:round; stroke-linejoin:round; stroke-width:2; stroke-opacity:0.1; fill:none\" points=\"271.594,1423.18 271.594,123.472 \"/>\n<polyline clip-path=\"url(#clip412)\" style=\"stroke:#000000; stroke-linecap:round; stroke-linejoin:round; stroke-width:2; stroke-opacity:0.1; fill:none\" points=\"633.699,1423.18 633.699,123.472 \"/>\n<polyline clip-path=\"url(#clip412)\" style=\"stroke:#000000; stroke-linecap:round; stroke-linejoin:round; stroke-width:2; stroke-opacity:0.1; fill:none\" points=\"995.804,1423.18 995.804,123.472 \"/>\n<polyline clip-path=\"url(#clip412)\" style=\"stroke:#000000; stroke-linecap:round; stroke-linejoin:round; stroke-width:2; stroke-opacity:0.1; fill:none\" points=\"1357.91,1423.18 1357.91,123.472 \"/>\n<polyline clip-path=\"url(#clip412)\" style=\"stroke:#000000; stroke-linecap:round; stroke-linejoin:round; stroke-width:2; stroke-opacity:0.1; fill:none\" points=\"1720.01,1423.18 1720.01,123.472 \"/>\n<polyline clip-path=\"url(#clip412)\" style=\"stroke:#000000; stroke-linecap:round; stroke-linejoin:round; stroke-width:2; stroke-opacity:0.1; fill:none\" points=\"2082.12,1423.18 2082.12,123.472 \"/>\n<polyline clip-path=\"url(#clip410)\" style=\"stroke:#000000; stroke-linecap:round; stroke-linejoin:round; stroke-width:4; stroke-opacity:1; fill:none\" points=\"210.977,1423.18 2352.76,1423.18 \"/>\n<polyline clip-path=\"url(#clip410)\" style=\"stroke:#000000; stroke-linecap:round; stroke-linejoin:round; stroke-width:4; stroke-opacity:1; fill:none\" points=\"271.594,1423.18 271.594,1404.28 \"/>\n<polyline clip-path=\"url(#clip410)\" style=\"stroke:#000000; stroke-linecap:round; stroke-linejoin:round; stroke-width:4; stroke-opacity:1; fill:none\" points=\"633.699,1423.18 633.699,1404.28 \"/>\n<polyline clip-path=\"url(#clip410)\" style=\"stroke:#000000; stroke-linecap:round; stroke-linejoin:round; stroke-width:4; stroke-opacity:1; fill:none\" points=\"995.804,1423.18 995.804,1404.28 \"/>\n<polyline clip-path=\"url(#clip410)\" style=\"stroke:#000000; stroke-linecap:round; stroke-linejoin:round; stroke-width:4; stroke-opacity:1; fill:none\" points=\"1357.91,1423.18 1357.91,1404.28 \"/>\n<polyline clip-path=\"url(#clip410)\" style=\"stroke:#000000; stroke-linecap:round; stroke-linejoin:round; stroke-width:4; stroke-opacity:1; fill:none\" points=\"1720.01,1423.18 1720.01,1404.28 \"/>\n<polyline clip-path=\"url(#clip410)\" style=\"stroke:#000000; stroke-linecap:round; stroke-linejoin:round; stroke-width:4; stroke-opacity:1; fill:none\" points=\"2082.12,1423.18 2082.12,1404.28 \"/>\n<path clip-path=\"url(#clip410)\" d=\"M248.978 1454.1 Q245.367 1454.1 243.538 1457.66 Q241.733 1461.2 241.733 1468.33 Q241.733 1475.44 243.538 1479.01 Q245.367 1482.55 248.978 1482.55 Q252.612 1482.55 254.418 1479.01 Q256.247 1475.44 256.247 1468.33 Q256.247 1461.2 254.418 1457.66 Q252.612 1454.1 248.978 1454.1 M248.978 1450.39 Q254.788 1450.39 257.844 1455 Q260.923 1459.58 260.923 1468.33 Q260.923 1477.06 257.844 1481.67 Q254.788 1486.25 248.978 1486.25 Q243.168 1486.25 240.089 1481.67 Q237.034 1477.06 237.034 1468.33 Q237.034 1459.58 240.089 1455 Q243.168 1450.39 248.978 1450.39 Z\" fill=\"#000000\" fill-rule=\"evenodd\" fill-opacity=\"1\" /><path clip-path=\"url(#clip410)\" d=\"M269.14 1479.7 L274.024 1479.7 L274.024 1485.58 L269.14 1485.58 L269.14 1479.7 Z\" fill=\"#000000\" fill-rule=\"evenodd\" fill-opacity=\"1\" /><path clip-path=\"url(#clip410)\" d=\"M294.209 1454.1 Q290.598 1454.1 288.77 1457.66 Q286.964 1461.2 286.964 1468.33 Q286.964 1475.44 288.77 1479.01 Q290.598 1482.55 294.209 1482.55 Q297.844 1482.55 299.649 1479.01 Q301.478 1475.44 301.478 1468.33 Q301.478 1461.2 299.649 1457.66 Q297.844 1454.1 294.209 1454.1 M294.209 1450.39 Q300.02 1450.39 303.075 1455 Q306.154 1459.58 306.154 1468.33 Q306.154 1477.06 303.075 1481.67 Q300.02 1486.25 294.209 1486.25 Q288.399 1486.25 285.321 1481.67 Q282.265 1477.06 282.265 1468.33 Q282.265 1459.58 285.321 1455 Q288.399 1450.39 294.209 1450.39 Z\" fill=\"#000000\" fill-rule=\"evenodd\" fill-opacity=\"1\" /><path clip-path=\"url(#clip410)\" d=\"M605.435 1481.64 L621.754 1481.64 L621.754 1485.58 L599.81 1485.58 L599.81 1481.64 Q602.472 1478.89 607.055 1474.26 Q611.662 1469.61 612.842 1468.27 Q615.088 1465.74 615.967 1464.01 Q616.87 1462.25 616.87 1460.56 Q616.87 1457.8 614.926 1456.07 Q613.004 1454.33 609.903 1454.33 Q607.704 1454.33 605.25 1455.09 Q602.819 1455.86 600.042 1457.41 L600.042 1452.69 Q602.866 1451.55 605.319 1450.97 Q607.773 1450.39 609.81 1450.39 Q615.18 1450.39 618.375 1453.08 Q621.569 1455.77 621.569 1460.26 Q621.569 1462.39 620.759 1464.31 Q619.972 1466.2 617.866 1468.8 Q617.287 1469.47 614.185 1472.69 Q611.083 1475.88 605.435 1481.64 Z\" fill=\"#000000\" fill-rule=\"evenodd\" fill-opacity=\"1\" /><path clip-path=\"url(#clip410)\" d=\"M631.569 1479.7 L636.453 1479.7 L636.453 1485.58 L631.569 1485.58 L631.569 1479.7 Z\" fill=\"#000000\" fill-rule=\"evenodd\" fill-opacity=\"1\" /><path clip-path=\"url(#clip410)\" d=\"M646.685 1451.02 L665.041 1451.02 L665.041 1454.96 L650.967 1454.96 L650.967 1463.43 Q651.986 1463.08 653.004 1462.92 Q654.023 1462.73 655.041 1462.73 Q660.828 1462.73 664.208 1465.9 Q667.587 1469.08 667.587 1474.49 Q667.587 1480.07 664.115 1483.17 Q660.643 1486.25 654.324 1486.25 Q652.148 1486.25 649.879 1485.88 Q647.634 1485.51 645.226 1484.77 L645.226 1480.07 Q647.31 1481.2 649.532 1481.76 Q651.754 1482.32 654.231 1482.32 Q658.236 1482.32 660.574 1480.21 Q662.912 1478.1 662.912 1474.49 Q662.912 1470.88 660.574 1468.77 Q658.236 1466.67 654.231 1466.67 Q652.356 1466.67 650.481 1467.08 Q648.629 1467.5 646.685 1468.38 L646.685 1451.02 Z\" fill=\"#000000\" fill-rule=\"evenodd\" fill-opacity=\"1\" /><path clip-path=\"url(#clip410)\" d=\"M962.968 1451.02 L981.325 1451.02 L981.325 1454.96 L967.251 1454.96 L967.251 1463.43 Q968.269 1463.08 969.288 1462.92 Q970.306 1462.73 971.325 1462.73 Q977.112 1462.73 980.491 1465.9 Q983.871 1469.08 983.871 1474.49 Q983.871 1480.07 980.399 1483.17 Q976.927 1486.25 970.607 1486.25 Q968.431 1486.25 966.163 1485.88 Q963.917 1485.51 961.51 1484.77 L961.51 1480.07 Q963.593 1481.2 965.815 1481.76 Q968.038 1482.32 970.515 1482.32 Q974.519 1482.32 976.857 1480.21 Q979.195 1478.1 979.195 1474.49 Q979.195 1470.88 976.857 1468.77 Q974.519 1466.67 970.515 1466.67 Q968.64 1466.67 966.765 1467.08 Q964.913 1467.5 962.968 1468.38 L962.968 1451.02 Z\" fill=\"#000000\" fill-rule=\"evenodd\" fill-opacity=\"1\" /><path clip-path=\"url(#clip410)\" d=\"M993.084 1479.7 L997.968 1479.7 L997.968 1485.58 L993.084 1485.58 L993.084 1479.7 Z\" fill=\"#000000\" fill-rule=\"evenodd\" fill-opacity=\"1\" /><path clip-path=\"url(#clip410)\" d=\"M1018.15 1454.1 Q1014.54 1454.1 1012.71 1457.66 Q1010.91 1461.2 1010.91 1468.33 Q1010.91 1475.44 1012.71 1479.01 Q1014.54 1482.55 1018.15 1482.55 Q1021.79 1482.55 1023.59 1479.01 Q1025.42 1475.44 1025.42 1468.33 Q1025.42 1461.2 1023.59 1457.66 Q1021.79 1454.1 1018.15 1454.1 M1018.15 1450.39 Q1023.96 1450.39 1027.02 1455 Q1030.1 1459.58 1030.1 1468.33 Q1030.1 1477.06 1027.02 1481.67 Q1023.96 1486.25 1018.15 1486.25 Q1012.34 1486.25 1009.26 1481.67 Q1006.21 1477.06 1006.21 1468.33 Q1006.21 1459.58 1009.26 1455 Q1012.34 1450.39 1018.15 1450.39 Z\" fill=\"#000000\" fill-rule=\"evenodd\" fill-opacity=\"1\" /><path clip-path=\"url(#clip410)\" d=\"M1324.23 1451.02 L1346.45 1451.02 L1346.45 1453.01 L1333.9 1485.58 L1329.02 1485.58 L1340.83 1454.96 L1324.23 1454.96 L1324.23 1451.02 Z\" fill=\"#000000\" fill-rule=\"evenodd\" fill-opacity=\"1\" /><path clip-path=\"url(#clip410)\" d=\"M1355.57 1479.7 L1360.45 1479.7 L1360.45 1485.58 L1355.57 1485.58 L1355.57 1479.7 Z\" fill=\"#000000\" fill-rule=\"evenodd\" fill-opacity=\"1\" /><path clip-path=\"url(#clip410)\" d=\"M1370.69 1451.02 L1389.04 1451.02 L1389.04 1454.96 L1374.97 1454.96 L1374.97 1463.43 Q1375.99 1463.08 1377.01 1462.92 Q1378.02 1462.73 1379.04 1462.73 Q1384.83 1462.73 1388.21 1465.9 Q1391.59 1469.08 1391.59 1474.49 Q1391.59 1480.07 1388.12 1483.17 Q1384.64 1486.25 1378.33 1486.25 Q1376.15 1486.25 1373.88 1485.88 Q1371.64 1485.51 1369.23 1484.77 L1369.23 1480.07 Q1371.31 1481.2 1373.53 1481.76 Q1375.76 1482.32 1378.23 1482.32 Q1382.24 1482.32 1384.58 1480.21 Q1386.91 1478.1 1386.91 1474.49 Q1386.91 1470.88 1384.58 1468.77 Q1382.24 1466.67 1378.23 1466.67 Q1376.36 1466.67 1374.48 1467.08 Q1372.63 1467.5 1370.69 1468.38 L1370.69 1451.02 Z\" fill=\"#000000\" fill-rule=\"evenodd\" fill-opacity=\"1\" /><path clip-path=\"url(#clip410)\" d=\"M1672.09 1481.64 L1679.72 1481.64 L1679.72 1455.28 L1671.41 1456.95 L1671.41 1452.69 L1679.68 1451.02 L1684.35 1451.02 L1684.35 1481.64 L1691.99 1481.64 L1691.99 1485.58 L1672.09 1485.58 L1672.09 1481.64 Z\" fill=\"#000000\" fill-rule=\"evenodd\" fill-opacity=\"1\" /><path clip-path=\"url(#clip410)\" d=\"M1711.44 1454.1 Q1707.83 1454.1 1706 1457.66 Q1704.19 1461.2 1704.19 1468.33 Q1704.19 1475.44 1706 1479.01 Q1707.83 1482.55 1711.44 1482.55 Q1715.07 1482.55 1716.88 1479.01 Q1718.71 1475.44 1718.71 1468.33 Q1718.71 1461.2 1716.88 1457.66 Q1715.07 1454.1 1711.44 1454.1 M1711.44 1450.39 Q1717.25 1450.39 1720.3 1455 Q1723.38 1459.58 1723.38 1468.33 Q1723.38 1477.06 1720.3 1481.67 Q1717.25 1486.25 1711.44 1486.25 Q1705.63 1486.25 1702.55 1481.67 Q1699.49 1477.06 1699.49 1468.33 Q1699.49 1459.58 1702.55 1455 Q1705.63 1450.39 1711.44 1450.39 Z\" fill=\"#000000\" fill-rule=\"evenodd\" fill-opacity=\"1\" /><path clip-path=\"url(#clip410)\" d=\"M1731.6 1479.7 L1736.48 1479.7 L1736.48 1485.58 L1731.6 1485.58 L1731.6 1479.7 Z\" fill=\"#000000\" fill-rule=\"evenodd\" fill-opacity=\"1\" /><path clip-path=\"url(#clip410)\" d=\"M1756.67 1454.1 Q1753.06 1454.1 1751.23 1457.66 Q1749.42 1461.2 1749.42 1468.33 Q1749.42 1475.44 1751.23 1479.01 Q1753.06 1482.55 1756.67 1482.55 Q1760.3 1482.55 1762.11 1479.01 Q1763.94 1475.44 1763.94 1468.33 Q1763.94 1461.2 1762.11 1457.66 Q1760.3 1454.1 1756.67 1454.1 M1756.67 1450.39 Q1762.48 1450.39 1765.53 1455 Q1768.61 1459.58 1768.61 1468.33 Q1768.61 1477.06 1765.53 1481.67 Q1762.48 1486.25 1756.67 1486.25 Q1750.86 1486.25 1747.78 1481.67 Q1744.72 1477.06 1744.72 1468.33 Q1744.72 1459.58 1747.78 1455 Q1750.86 1450.39 1756.67 1450.39 Z\" fill=\"#000000\" fill-rule=\"evenodd\" fill-opacity=\"1\" /><path clip-path=\"url(#clip410)\" d=\"M2034.69 1481.64 L2042.33 1481.64 L2042.33 1455.28 L2034.02 1456.95 L2034.02 1452.69 L2042.28 1451.02 L2046.96 1451.02 L2046.96 1481.64 L2054.6 1481.64 L2054.6 1485.58 L2034.69 1485.58 L2034.69 1481.64 Z\" fill=\"#000000\" fill-rule=\"evenodd\" fill-opacity=\"1\" /><path clip-path=\"url(#clip410)\" d=\"M2068.07 1481.64 L2084.39 1481.64 L2084.39 1485.58 L2062.44 1485.58 L2062.44 1481.64 Q2065.1 1478.89 2069.69 1474.26 Q2074.29 1469.61 2075.48 1468.27 Q2077.72 1465.74 2078.6 1464.01 Q2079.5 1462.25 2079.5 1460.56 Q2079.5 1457.8 2077.56 1456.07 Q2075.64 1454.33 2072.54 1454.33 Q2070.34 1454.33 2067.88 1455.09 Q2065.45 1455.86 2062.67 1457.41 L2062.67 1452.69 Q2065.5 1451.55 2067.95 1450.97 Q2070.41 1450.39 2072.44 1450.39 Q2077.81 1450.39 2081.01 1453.08 Q2084.2 1455.77 2084.2 1460.26 Q2084.2 1462.39 2083.39 1464.31 Q2082.6 1466.2 2080.5 1468.8 Q2079.92 1469.47 2076.82 1472.69 Q2073.72 1475.88 2068.07 1481.64 Z\" fill=\"#000000\" fill-rule=\"evenodd\" fill-opacity=\"1\" /><path clip-path=\"url(#clip410)\" d=\"M2094.2 1479.7 L2099.09 1479.7 L2099.09 1485.58 L2094.2 1485.58 L2094.2 1479.7 Z\" fill=\"#000000\" fill-rule=\"evenodd\" fill-opacity=\"1\" /><path clip-path=\"url(#clip410)\" d=\"M2109.32 1451.02 L2127.67 1451.02 L2127.67 1454.96 L2113.6 1454.96 L2113.6 1463.43 Q2114.62 1463.08 2115.64 1462.92 Q2116.66 1462.73 2117.67 1462.73 Q2123.46 1462.73 2126.84 1465.9 Q2130.22 1469.08 2130.22 1474.49 Q2130.22 1480.07 2126.75 1483.17 Q2123.28 1486.25 2116.96 1486.25 Q2114.78 1486.25 2112.51 1485.88 Q2110.27 1485.51 2107.86 1484.77 L2107.86 1480.07 Q2109.94 1481.2 2112.16 1481.76 Q2114.39 1482.32 2116.86 1482.32 Q2120.87 1482.32 2123.21 1480.21 Q2125.54 1478.1 2125.54 1474.49 Q2125.54 1470.88 2123.21 1468.77 Q2120.87 1466.67 2116.86 1466.67 Q2114.99 1466.67 2113.11 1467.08 Q2111.26 1467.5 2109.32 1468.38 L2109.32 1451.02 Z\" fill=\"#000000\" fill-rule=\"evenodd\" fill-opacity=\"1\" /><path clip-path=\"url(#clip410)\" d=\"M1169.32 1522.27 L1169.32 1532.4 L1181.38 1532.4 L1181.38 1536.95 L1169.32 1536.95 L1169.32 1556.3 Q1169.32 1560.66 1170.5 1561.9 Q1171.71 1563.14 1175.37 1563.14 L1181.38 1563.14 L1181.38 1568.04 L1175.37 1568.04 Q1168.59 1568.04 1166.01 1565.53 Q1163.43 1562.98 1163.43 1556.3 L1163.43 1536.95 L1159.14 1536.95 L1159.14 1532.4 L1163.43 1532.4 L1163.43 1522.27 L1169.32 1522.27 Z\" fill=\"#000000\" fill-rule=\"evenodd\" fill-opacity=\"1\" /><path clip-path=\"url(#clip410)\" d=\"M1189.09 1532.4 L1194.94 1532.4 L1194.94 1568.04 L1189.09 1568.04 L1189.09 1532.4 M1189.09 1518.52 L1194.94 1518.52 L1194.94 1525.93 L1189.09 1525.93 L1189.09 1518.52 Z\" fill=\"#000000\" fill-rule=\"evenodd\" fill-opacity=\"1\" /><path clip-path=\"url(#clip410)\" d=\"M1234.95 1539.24 Q1237.15 1535.29 1240.2 1533.41 Q1243.26 1531.54 1247.4 1531.54 Q1252.97 1531.54 1255.99 1535.45 Q1259.01 1539.33 1259.01 1546.53 L1259.01 1568.04 L1253.13 1568.04 L1253.13 1546.72 Q1253.13 1541.59 1251.31 1539.11 Q1249.5 1536.63 1245.77 1536.63 Q1241.22 1536.63 1238.58 1539.65 Q1235.94 1542.68 1235.94 1547.9 L1235.94 1568.04 L1230.05 1568.04 L1230.05 1546.72 Q1230.05 1541.56 1228.24 1539.11 Q1226.42 1536.63 1222.63 1536.63 Q1218.15 1536.63 1215.5 1539.68 Q1212.86 1542.71 1212.86 1547.9 L1212.86 1568.04 L1206.97 1568.04 L1206.97 1532.4 L1212.86 1532.4 L1212.86 1537.93 Q1214.87 1534.66 1217.67 1533.1 Q1220.47 1531.54 1224.32 1531.54 Q1228.2 1531.54 1230.91 1533.51 Q1233.65 1535.48 1234.95 1539.24 Z\" fill=\"#000000\" fill-rule=\"evenodd\" fill-opacity=\"1\" /><path clip-path=\"url(#clip410)\" d=\"M1301.19 1548.76 L1301.19 1551.62 L1274.26 1551.62 Q1274.64 1557.67 1277.89 1560.85 Q1281.17 1564 1286.99 1564 Q1290.36 1564 1293.52 1563.17 Q1296.7 1562.35 1299.82 1560.69 L1299.82 1566.23 Q1296.67 1567.57 1293.36 1568.27 Q1290.05 1568.97 1286.64 1568.97 Q1278.11 1568.97 1273.11 1564 Q1268.15 1559.04 1268.15 1550.57 Q1268.15 1541.82 1272.86 1536.69 Q1277.6 1531.54 1285.62 1531.54 Q1292.82 1531.54 1296.99 1536.18 Q1301.19 1540.8 1301.19 1548.76 M1295.33 1547.04 Q1295.27 1542.23 1292.62 1539.37 Q1290.01 1536.5 1285.69 1536.5 Q1280.78 1536.5 1277.82 1539.27 Q1274.9 1542.04 1274.45 1547.07 L1295.33 1547.04 Z\" fill=\"#000000\" fill-rule=\"evenodd\" fill-opacity=\"1\" /><path clip-path=\"url(#clip410)\" d=\"M1345.59 1518.58 Q1341.32 1525.9 1339.25 1533.06 Q1337.18 1540.23 1337.18 1547.58 Q1337.18 1554.93 1339.25 1562.16 Q1341.35 1569.35 1345.59 1576.64 L1340.49 1576.64 Q1335.72 1569.16 1333.33 1561.93 Q1330.98 1554.71 1330.98 1547.58 Q1330.98 1540.48 1333.33 1533.29 Q1335.69 1526.09 1340.49 1518.58 L1345.59 1518.58 Z\" fill=\"#000000\" fill-rule=\"evenodd\" fill-opacity=\"1\" /><path clip-path=\"url(#clip410)\" d=\"M1379.68 1533.45 L1379.68 1538.98 Q1377.19 1537.71 1374.52 1537.07 Q1371.85 1536.44 1368.98 1536.44 Q1364.62 1536.44 1362.42 1537.77 Q1360.26 1539.11 1360.26 1541.79 Q1360.26 1543.82 1361.82 1545 Q1363.38 1546.15 1368.09 1547.2 L1370.1 1547.64 Q1376.33 1548.98 1378.94 1551.43 Q1381.59 1553.85 1381.59 1558.21 Q1381.59 1563.17 1377.64 1566.07 Q1373.72 1568.97 1366.85 1568.97 Q1363.98 1568.97 1360.87 1568.39 Q1357.78 1567.85 1354.34 1566.74 L1354.34 1560.69 Q1357.59 1562.38 1360.74 1563.24 Q1363.89 1564.07 1366.98 1564.07 Q1371.11 1564.07 1373.34 1562.66 Q1375.57 1561.23 1375.57 1558.65 Q1375.57 1556.27 1373.95 1554.99 Q1372.36 1553.72 1366.91 1552.54 L1364.88 1552.07 Q1359.43 1550.92 1357.01 1548.56 Q1354.59 1546.18 1354.59 1542.04 Q1354.59 1537.01 1358.16 1534.27 Q1361.72 1531.54 1368.28 1531.54 Q1371.53 1531.54 1374.39 1532.01 Q1377.26 1532.49 1379.68 1533.45 Z\" fill=\"#000000\" fill-rule=\"evenodd\" fill-opacity=\"1\" /><path clip-path=\"url(#clip410)\" d=\"M1389.99 1518.58 L1395.08 1518.58 Q1399.86 1526.09 1402.21 1533.29 Q1404.6 1540.48 1404.6 1547.58 Q1404.6 1554.71 1402.21 1561.93 Q1399.86 1569.16 1395.08 1576.64 L1389.99 1576.64 Q1394.22 1569.35 1396.29 1562.16 Q1398.39 1554.93 1398.39 1547.58 Q1398.39 1540.23 1396.29 1533.06 Q1394.22 1525.9 1389.99 1518.58 Z\" fill=\"#000000\" fill-rule=\"evenodd\" fill-opacity=\"1\" /><polyline clip-path=\"url(#clip412)\" style=\"stroke:#000000; stroke-linecap:round; stroke-linejoin:round; stroke-width:2; stroke-opacity:0.1; fill:none\" points=\"210.977,1343.9 2352.76,1343.9 \"/>\n<polyline clip-path=\"url(#clip412)\" style=\"stroke:#000000; stroke-linecap:round; stroke-linejoin:round; stroke-width:2; stroke-opacity:0.1; fill:none\" points=\"210.977,1114.08 2352.76,1114.08 \"/>\n<polyline clip-path=\"url(#clip412)\" style=\"stroke:#000000; stroke-linecap:round; stroke-linejoin:round; stroke-width:2; stroke-opacity:0.1; fill:none\" points=\"210.977,884.258 2352.76,884.258 \"/>\n<polyline clip-path=\"url(#clip412)\" style=\"stroke:#000000; stroke-linecap:round; stroke-linejoin:round; stroke-width:2; stroke-opacity:0.1; fill:none\" points=\"210.977,654.438 2352.76,654.438 \"/>\n<polyline clip-path=\"url(#clip412)\" style=\"stroke:#000000; stroke-linecap:round; stroke-linejoin:round; stroke-width:2; stroke-opacity:0.1; fill:none\" points=\"210.977,424.617 2352.76,424.617 \"/>\n<polyline clip-path=\"url(#clip412)\" style=\"stroke:#000000; stroke-linecap:round; stroke-linejoin:round; stroke-width:2; stroke-opacity:0.1; fill:none\" points=\"210.977,194.797 2352.76,194.797 \"/>\n<polyline clip-path=\"url(#clip410)\" style=\"stroke:#000000; stroke-linecap:round; stroke-linejoin:round; stroke-width:4; stroke-opacity:1; fill:none\" points=\"210.977,1423.18 210.977,123.472 \"/>\n<polyline clip-path=\"url(#clip410)\" style=\"stroke:#000000; stroke-linecap:round; stroke-linejoin:round; stroke-width:4; stroke-opacity:1; fill:none\" points=\"210.977,1343.9 229.875,1343.9 \"/>\n<polyline clip-path=\"url(#clip410)\" style=\"stroke:#000000; stroke-linecap:round; stroke-linejoin:round; stroke-width:4; stroke-opacity:1; fill:none\" points=\"210.977,1114.08 229.875,1114.08 \"/>\n<polyline clip-path=\"url(#clip410)\" style=\"stroke:#000000; stroke-linecap:round; stroke-linejoin:round; stroke-width:4; stroke-opacity:1; fill:none\" points=\"210.977,884.258 229.875,884.258 \"/>\n<polyline clip-path=\"url(#clip410)\" style=\"stroke:#000000; stroke-linecap:round; stroke-linejoin:round; stroke-width:4; stroke-opacity:1; fill:none\" points=\"210.977,654.438 229.875,654.438 \"/>\n<polyline clip-path=\"url(#clip410)\" style=\"stroke:#000000; stroke-linecap:round; stroke-linejoin:round; stroke-width:4; stroke-opacity:1; fill:none\" points=\"210.977,424.617 229.875,424.617 \"/>\n<polyline clip-path=\"url(#clip410)\" style=\"stroke:#000000; stroke-linecap:round; stroke-linejoin:round; stroke-width:4; stroke-opacity:1; fill:none\" points=\"210.977,194.797 229.875,194.797 \"/>\n<path clip-path=\"url(#clip410)\" d=\"M114.26 1344.35 L143.936 1344.35 L143.936 1348.29 L114.26 1348.29 L114.26 1344.35 Z\" fill=\"#000000\" fill-rule=\"evenodd\" fill-opacity=\"1\" /><path clip-path=\"url(#clip410)\" d=\"M154.075 1326.62 L172.431 1326.62 L172.431 1330.55 L158.357 1330.55 L158.357 1339.03 Q159.376 1338.68 160.394 1338.52 Q161.413 1338.33 162.431 1338.33 Q168.218 1338.33 171.598 1341.5 Q174.977 1344.67 174.977 1350.09 Q174.977 1355.67 171.505 1358.77 Q168.033 1361.85 161.714 1361.85 Q159.538 1361.85 157.269 1361.48 Q155.024 1361.11 152.616 1360.37 L152.616 1355.67 Q154.7 1356.8 156.922 1357.36 Q159.144 1357.92 161.621 1357.92 Q165.626 1357.92 167.964 1355.81 Q170.302 1353.7 170.302 1350.09 Q170.302 1346.48 167.964 1344.37 Q165.626 1342.27 161.621 1342.27 Q159.746 1342.27 157.871 1342.68 Q156.019 1343.1 154.075 1343.98 L154.075 1326.62 Z\" fill=\"#000000\" fill-rule=\"evenodd\" fill-opacity=\"1\" /><path clip-path=\"url(#clip410)\" d=\"M163.033 1099.88 Q159.422 1099.88 157.593 1103.44 Q155.788 1106.98 155.788 1114.11 Q155.788 1121.22 157.593 1124.78 Q159.422 1128.33 163.033 1128.33 Q166.667 1128.33 168.473 1124.78 Q170.302 1121.22 170.302 1114.11 Q170.302 1106.98 168.473 1103.44 Q166.667 1099.88 163.033 1099.88 M163.033 1096.17 Q168.843 1096.17 171.899 1100.78 Q174.977 1105.36 174.977 1114.11 Q174.977 1122.84 171.899 1127.45 Q168.843 1132.03 163.033 1132.03 Q157.223 1132.03 154.144 1127.45 Q151.089 1122.84 151.089 1114.11 Q151.089 1105.36 154.144 1100.78 Q157.223 1096.17 163.033 1096.17 Z\" fill=\"#000000\" fill-rule=\"evenodd\" fill-opacity=\"1\" /><path clip-path=\"url(#clip410)\" d=\"M154.075 866.978 L172.431 866.978 L172.431 870.913 L158.357 870.913 L158.357 879.385 Q159.376 879.038 160.394 878.876 Q161.413 878.691 162.431 878.691 Q168.218 878.691 171.598 881.862 Q174.977 885.034 174.977 890.45 Q174.977 896.029 171.505 899.131 Q168.033 902.209 161.714 902.209 Q159.538 902.209 157.269 901.839 Q155.024 901.469 152.616 900.728 L152.616 896.029 Q154.7 897.163 156.922 897.719 Q159.144 898.274 161.621 898.274 Q165.626 898.274 167.964 896.168 Q170.302 894.061 170.302 890.45 Q170.302 886.839 167.964 884.733 Q165.626 882.626 161.621 882.626 Q159.746 882.626 157.871 883.043 Q156.019 883.459 154.075 884.339 L154.075 866.978 Z\" fill=\"#000000\" fill-rule=\"evenodd\" fill-opacity=\"1\" /><path clip-path=\"url(#clip410)\" d=\"M123.681 667.782 L131.32 667.782 L131.32 641.417 L123.01 643.083 L123.01 638.824 L131.274 637.158 L135.95 637.158 L135.95 667.782 L143.589 667.782 L143.589 671.718 L123.681 671.718 L123.681 667.782 Z\" fill=\"#000000\" fill-rule=\"evenodd\" fill-opacity=\"1\" /><path clip-path=\"url(#clip410)\" d=\"M163.033 640.236 Q159.422 640.236 157.593 643.801 Q155.788 647.343 155.788 654.472 Q155.788 661.579 157.593 665.144 Q159.422 668.685 163.033 668.685 Q166.667 668.685 168.473 665.144 Q170.302 661.579 170.302 654.472 Q170.302 647.343 168.473 643.801 Q166.667 640.236 163.033 640.236 M163.033 636.533 Q168.843 636.533 171.899 641.139 Q174.977 645.722 174.977 654.472 Q174.977 663.199 171.899 667.806 Q168.843 672.389 163.033 672.389 Q157.223 672.389 154.144 667.806 Q151.089 663.199 151.089 654.472 Q151.089 645.722 154.144 641.139 Q157.223 636.533 163.033 636.533 Z\" fill=\"#000000\" fill-rule=\"evenodd\" fill-opacity=\"1\" /><path clip-path=\"url(#clip410)\" d=\"M124.677 437.962 L132.316 437.962 L132.316 411.596 L124.005 413.263 L124.005 409.004 L132.269 407.337 L136.945 407.337 L136.945 437.962 L144.584 437.962 L144.584 441.897 L124.677 441.897 L124.677 437.962 Z\" fill=\"#000000\" fill-rule=\"evenodd\" fill-opacity=\"1\" /><path clip-path=\"url(#clip410)\" d=\"M154.075 407.337 L172.431 407.337 L172.431 411.272 L158.357 411.272 L158.357 419.744 Q159.376 419.397 160.394 419.235 Q161.413 419.05 162.431 419.05 Q168.218 419.05 171.598 422.221 Q174.977 425.393 174.977 430.809 Q174.977 436.388 171.505 439.49 Q168.033 442.568 161.714 442.568 Q159.538 442.568 157.269 442.198 Q155.024 441.828 152.616 441.087 L152.616 436.388 Q154.7 437.522 156.922 438.078 Q159.144 438.633 161.621 438.633 Q165.626 438.633 167.964 436.527 Q170.302 434.42 170.302 430.809 Q170.302 427.198 167.964 425.092 Q165.626 422.985 161.621 422.985 Q159.746 422.985 157.871 423.402 Q156.019 423.818 154.075 424.698 L154.075 407.337 Z\" fill=\"#000000\" fill-rule=\"evenodd\" fill-opacity=\"1\" /><path clip-path=\"url(#clip410)\" d=\"M126.899 208.141 L143.218 208.141 L143.218 212.077 L121.274 212.077 L121.274 208.141 Q123.936 205.387 128.519 200.757 Q133.126 196.104 134.306 194.762 Q136.552 192.239 137.431 190.503 Q138.334 188.743 138.334 187.054 Q138.334 184.299 136.39 182.563 Q134.468 180.827 131.367 180.827 Q129.167 180.827 126.714 181.591 Q124.283 182.355 121.505 183.905 L121.505 179.183 Q124.33 178.049 126.783 177.47 Q129.237 176.892 131.274 176.892 Q136.644 176.892 139.839 179.577 Q143.033 182.262 143.033 186.753 Q143.033 188.882 142.223 190.804 Q141.436 192.702 139.329 195.294 Q138.751 195.966 135.649 199.183 Q132.547 202.378 126.899 208.141 Z\" fill=\"#000000\" fill-rule=\"evenodd\" fill-opacity=\"1\" /><path clip-path=\"url(#clip410)\" d=\"M163.033 180.595 Q159.422 180.595 157.593 184.16 Q155.788 187.702 155.788 194.831 Q155.788 201.938 157.593 205.503 Q159.422 209.044 163.033 209.044 Q166.667 209.044 168.473 205.503 Q170.302 201.938 170.302 194.831 Q170.302 187.702 168.473 184.16 Q166.667 180.595 163.033 180.595 M163.033 176.892 Q168.843 176.892 171.899 181.498 Q174.977 186.081 174.977 194.831 Q174.977 203.558 171.899 208.165 Q168.843 212.748 163.033 212.748 Q157.223 212.748 154.144 208.165 Q151.089 203.558 151.089 194.831 Q151.089 186.081 154.144 181.498 Q157.223 176.892 163.033 176.892 Z\" fill=\"#000000\" fill-rule=\"evenodd\" fill-opacity=\"1\" /><path clip-path=\"url(#clip410)\" d=\"M28.3562 756.711 L45.7028 769.602 L64.0042 756.043 L64.0042 762.95 L49.9996 773.326 L64.0042 783.702 L64.0042 790.609 L45.3526 776.763 L28.3562 789.431 L28.3562 782.524 L41.0558 773.071 L28.3562 763.618 L28.3562 756.711 Z\" fill=\"#000000\" fill-rule=\"evenodd\" fill-opacity=\"1\" /><path clip-path=\"url(#clip410)\" d=\"M1054.21 14.0809 L1054.21 22.0612 Q1049.55 19.8332 1045.42 18.7395 Q1041.28 17.6457 1037.44 17.6457 Q1030.75 17.6457 1027.11 20.2383 Q1023.5 22.8309 1023.5 27.611 Q1023.5 31.6214 1025.89 33.6873 Q1028.32 35.7128 1035.05 36.9686 L1039.99 37.9813 Q1049.14 39.7232 1053.48 44.1387 Q1057.85 48.5136 1057.85 55.8863 Q1057.85 64.6767 1051.94 69.2137 Q1046.06 73.7508 1034.68 73.7508 Q1030.39 73.7508 1025.53 72.7785 Q1020.7 71.8063 1015.52 69.9024 L1015.52 61.4765 Q1020.5 64.2716 1025.28 65.6895 Q1030.06 67.1073 1034.68 67.1073 Q1041.69 67.1073 1045.5 64.3527 Q1049.3 61.598 1049.3 56.4939 Q1049.3 52.0379 1046.55 49.5264 Q1043.84 47.0148 1037.6 45.759 L1032.61 44.7868 Q1023.46 42.9639 1019.37 39.075 Q1015.28 35.1862 1015.28 28.2591 Q1015.28 20.2383 1020.91 15.6203 Q1026.58 11.0023 1036.5 11.0023 Q1040.76 11.0023 1045.17 11.7719 Q1049.59 12.5416 1054.21 14.0809 Z\" fill=\"#000000\" fill-rule=\"evenodd\" fill-opacity=\"1\" /><path clip-path=\"url(#clip410)\" d=\"M1077.66 14.324 L1077.66 27.2059 L1093.01 27.2059 L1093.01 32.9987 L1077.66 32.9987 L1077.66 57.6282 Q1077.66 63.1779 1079.16 64.7578 Q1080.7 66.3376 1085.36 66.3376 L1093.01 66.3376 L1093.01 72.576 L1085.36 72.576 Q1076.73 72.576 1073.45 69.3758 Q1070.17 66.1351 1070.17 57.6282 L1070.17 32.9987 L1064.7 32.9987 L1064.7 27.2059 L1070.17 27.2059 L1070.17 14.324 L1077.66 14.324 Z\" fill=\"#000000\" fill-rule=\"evenodd\" fill-opacity=\"1\" /><path clip-path=\"url(#clip410)\" d=\"M1123.44 49.7694 Q1114.4 49.7694 1110.92 51.8354 Q1107.43 53.9013 1107.43 58.8839 Q1107.43 62.8538 1110.03 65.2034 Q1112.66 67.5124 1117.16 67.5124 Q1123.35 67.5124 1127.08 63.1374 Q1130.85 58.7219 1130.85 51.4303 L1130.85 49.7694 L1123.44 49.7694 M1138.3 46.6907 L1138.3 72.576 L1130.85 72.576 L1130.85 65.6895 Q1128.3 69.8214 1124.49 71.8063 Q1120.68 73.7508 1115.17 73.7508 Q1108.2 73.7508 1104.07 69.8619 Q1099.98 65.9325 1099.98 59.3701 Q1099.98 51.7138 1105.09 47.825 Q1110.23 43.9361 1120.4 43.9361 L1130.85 43.9361 L1130.85 43.2069 Q1130.85 38.0623 1127.45 35.2672 Q1124.08 32.4315 1117.97 32.4315 Q1114.08 32.4315 1110.39 33.3632 Q1106.71 34.295 1103.3 36.1584 L1103.3 29.2718 Q1107.39 27.692 1111.24 26.9223 Q1115.09 26.1121 1118.74 26.1121 Q1128.58 26.1121 1133.44 31.2163 Q1138.3 36.3204 1138.3 46.6907 Z\" fill=\"#000000\" fill-rule=\"evenodd\" fill-opacity=\"1\" /><path clip-path=\"url(#clip410)\" d=\"M1161.03 14.324 L1161.03 27.2059 L1176.38 27.2059 L1176.38 32.9987 L1161.03 32.9987 L1161.03 57.6282 Q1161.03 63.1779 1162.53 64.7578 Q1164.07 66.3376 1168.72 66.3376 L1176.38 66.3376 L1176.38 72.576 L1168.72 72.576 Q1160.1 72.576 1156.82 69.3758 Q1153.53 66.1351 1153.53 57.6282 L1153.53 32.9987 L1148.07 32.9987 L1148.07 27.2059 L1153.53 27.2059 L1153.53 14.324 L1161.03 14.324 Z\" fill=\"#000000\" fill-rule=\"evenodd\" fill-opacity=\"1\" /><path clip-path=\"url(#clip410)\" d=\"M1224.99 48.0275 L1224.99 51.6733 L1190.72 51.6733 Q1191.21 59.3701 1195.34 63.421 Q1199.51 67.4314 1206.92 67.4314 Q1211.22 67.4314 1215.23 66.3781 Q1219.28 65.3249 1223.25 63.2184 L1223.25 70.267 Q1219.24 71.9684 1215.03 72.8596 Q1210.81 73.7508 1206.48 73.7508 Q1195.62 73.7508 1189.26 67.4314 Q1182.94 61.1119 1182.94 50.3365 Q1182.94 39.1965 1188.94 32.6746 Q1194.97 26.1121 1205.18 26.1121 Q1214.34 26.1121 1219.64 32.0264 Q1224.99 37.9003 1224.99 48.0275 M1217.54 45.84 Q1217.46 39.7232 1214.1 36.0774 Q1210.77 32.4315 1205.26 32.4315 Q1199.03 32.4315 1195.26 35.9558 Q1191.53 39.4801 1190.96 45.8805 L1217.54 45.84 Z\" fill=\"#000000\" fill-rule=\"evenodd\" fill-opacity=\"1\" /><path clip-path=\"url(#clip410)\" d=\"M1263.92 12.096 L1272.1 12.096 L1272.1 36.8875 L1301.84 36.8875 L1301.84 12.096 L1310.02 12.096 L1310.02 72.576 L1301.84 72.576 L1301.84 43.7741 L1272.1 43.7741 L1272.1 72.576 L1263.92 72.576 L1263.92 12.096 Z\" fill=\"#000000\" fill-rule=\"evenodd\" fill-opacity=\"1\" /><path clip-path=\"url(#clip410)\" d=\"M1325.98 27.2059 L1333.43 27.2059 L1333.43 72.576 L1325.98 72.576 L1325.98 27.2059 M1325.98 9.54393 L1333.43 9.54393 L1333.43 18.9825 L1325.98 18.9825 L1325.98 9.54393 Z\" fill=\"#000000\" fill-rule=\"evenodd\" fill-opacity=\"1\" /><path clip-path=\"url(#clip410)\" d=\"M1377.95 28.5427 L1377.95 35.5912 Q1374.79 33.9709 1371.39 33.1607 Q1367.99 32.3505 1364.34 32.3505 Q1358.79 32.3505 1356 34.0519 Q1353.24 35.7533 1353.24 39.156 Q1353.24 41.7486 1355.23 43.2475 Q1357.21 44.7058 1363.21 46.0426 L1365.76 46.6097 Q1373.7 48.3111 1377.02 51.4303 Q1380.38 54.509 1380.38 60.0587 Q1380.38 66.3781 1375.36 70.0644 Q1370.38 73.7508 1361.63 73.7508 Q1357.98 73.7508 1354.01 73.0216 Q1350.08 72.3329 1345.71 70.9151 L1345.71 63.2184 Q1349.84 65.3654 1353.85 66.4591 Q1357.86 67.5124 1361.79 67.5124 Q1367.06 67.5124 1369.89 65.73 Q1372.73 63.9071 1372.73 60.6258 Q1372.73 57.5877 1370.66 55.9673 Q1368.64 54.3469 1361.71 52.8481 L1359.12 52.2405 Q1352.19 50.7821 1349.11 47.7845 Q1346.03 44.7463 1346.03 39.4801 Q1346.03 33.0797 1350.57 29.5959 Q1355.11 26.1121 1363.45 26.1121 Q1367.58 26.1121 1371.23 26.7198 Q1374.88 27.3274 1377.95 28.5427 Z\" fill=\"#000000\" fill-rule=\"evenodd\" fill-opacity=\"1\" /><path clip-path=\"url(#clip410)\" d=\"M1399.63 14.324 L1399.63 27.2059 L1414.98 27.2059 L1414.98 32.9987 L1399.63 32.9987 L1399.63 57.6282 Q1399.63 63.1779 1401.13 64.7578 Q1402.66 66.3376 1407.32 66.3376 L1414.98 66.3376 L1414.98 72.576 L1407.32 72.576 Q1398.69 72.576 1395.41 69.3758 Q1392.13 66.1351 1392.13 57.6282 L1392.13 32.9987 L1386.66 32.9987 L1386.66 27.2059 L1392.13 27.2059 L1392.13 14.324 L1399.63 14.324 Z\" fill=\"#000000\" fill-rule=\"evenodd\" fill-opacity=\"1\" /><path clip-path=\"url(#clip410)\" d=\"M1442.36 32.4315 Q1436.37 32.4315 1432.88 37.1306 Q1429.4 41.7891 1429.4 49.9314 Q1429.4 58.0738 1432.84 62.7728 Q1436.33 67.4314 1442.36 67.4314 Q1448.32 67.4314 1451.8 62.7323 Q1455.29 58.0333 1455.29 49.9314 Q1455.29 41.8701 1451.8 37.1711 Q1448.32 32.4315 1442.36 32.4315 M1442.36 26.1121 Q1452.09 26.1121 1457.64 32.4315 Q1463.19 38.7509 1463.19 49.9314 Q1463.19 61.0714 1457.64 67.4314 Q1452.09 73.7508 1442.36 73.7508 Q1432.6 73.7508 1427.05 67.4314 Q1421.54 61.0714 1421.54 49.9314 Q1421.54 38.7509 1427.05 32.4315 Q1432.6 26.1121 1442.36 26.1121 Z\" fill=\"#000000\" fill-rule=\"evenodd\" fill-opacity=\"1\" /><path clip-path=\"url(#clip410)\" d=\"M1501.83 34.1734 Q1500.57 33.4443 1499.08 33.1202 Q1497.62 32.7556 1495.84 32.7556 Q1489.52 32.7556 1486.11 36.8875 Q1482.75 40.9789 1482.75 48.6757 L1482.75 72.576 L1475.26 72.576 L1475.26 27.2059 L1482.75 27.2059 L1482.75 34.2544 Q1485.1 30.1225 1488.87 28.1376 Q1492.64 26.1121 1498.02 26.1121 Q1498.79 26.1121 1499.72 26.2337 Q1500.66 26.3147 1501.79 26.5172 L1501.83 34.1734 Z\" fill=\"#000000\" fill-rule=\"evenodd\" fill-opacity=\"1\" /><path clip-path=\"url(#clip410)\" d=\"M1528.53 76.7889 Q1525.37 84.8907 1522.37 87.3618 Q1519.37 89.8329 1514.35 89.8329 L1508.39 89.8329 L1508.39 83.5945 L1512.77 83.5945 Q1515.85 83.5945 1517.55 82.1361 Q1519.25 80.6778 1521.32 75.2496 L1522.65 71.8468 L1504.3 27.2059 L1512.2 27.2059 L1526.38 62.6918 L1540.56 27.2059 L1548.46 27.2059 L1528.53 76.7889 Z\" fill=\"#000000\" fill-rule=\"evenodd\" fill-opacity=\"1\" /><polyline clip-path=\"url(#clip412)\" style=\"stroke:#009af9; stroke-linecap:round; stroke-linejoin:round; stroke-width:4; stroke-opacity:1; fill:none\" points=\"271.594,927.489 278.836,913.631 286.078,916.301 293.32,921.947 300.562,929.155 307.804,937.162 315.046,940.519 322.288,946.416 329.531,959.888 336.773,966.488 344.015,984.296 351.257,1003.7 358.499,1001.05 365.741,991.41 372.983,991.585 380.225,995.634 387.467,1000.37 394.709,1016.8 401.952,1022.64 409.194,1023.95 416.436,1037.92 423.678,1054.33 430.92,1054.73 438.162,1052.58 445.404,1063.51 452.646,1071.15 459.888,1076.83 467.13,1081.48 474.373,1086.87 481.615,1083.38 488.857,1087.46 496.099,1087.92 503.341,1090.37 510.583,1091.06 517.825,1099.34 525.067,1098.79 532.309,1101.54 539.551,1100.94 546.794,1108.2 554.036,1108.21 561.278,1116.56 568.52,1115.61 575.762,1118.16 583.004,1143.49 590.246,1136.97 597.488,1141.02 604.73,1151.52 611.972,1165.4 619.215,1171.53 626.457,1169.49 633.699,1174.36 640.941,1185.76 648.183,1208.06 655.425,1212 662.667,1210.6 669.909,1209.19 677.151,1215.43 684.393,1216.93 691.636,1223.98 698.878,1222.17 706.12,1219.8 713.362,1224.42 720.604,1229.88 727.846,1232.99 735.088,1227.15 742.33,1231.02 749.572,1228.78 756.814,1230.29 764.057,1233.3 771.299,1227.53 778.541,1225.55 785.783,1214.48 793.025,1212.99 800.267,1221.68 807.509,1226.97 814.751,1237.44 821.993,1247.77 829.235,1243.81 836.478,1232.18 843.72,1229.55 850.962,1218.93 858.204,1209.8 865.446,1203.14 872.688,1209.77 879.93,1208.56 887.172,1207.04 894.414,1207.16 901.656,1210.67 908.899,1217.39 916.141,1221.18 923.383,1224.16 930.625,1220.47 937.867,1218.11 945.109,1222.06 952.351,1216.07 959.593,1217.44 966.835,1217.63 974.077,1219.55 981.32,1219.72 988.562,1226.14 995.804,1227.42 1003.05,1222.35 1010.29,1223.69 1017.53,1224.83 1024.77,1237.16 1032.01,1240.34 1039.26,1241.34 1046.5,1247.81 1053.74,1235.43 1060.98,1245.91 1068.22,1235.94 1075.47,1230 1082.71,1222.54 1089.95,1216.79 1097.19,1206.04 1104.44,1211.93 1111.68,1215.48 1118.92,1220.5 1126.16,1218.57 1133.4,1213.3 1140.65,1198.67 1147.89,1194.69 1155.13,1200.73 1162.37,1186.05 1169.61,1183.93 1176.86,1199.43 1184.1,1197.86 1191.34,1194.98 1198.58,1202.23 1205.82,1210.01 1213.07,1205.23 1220.31,1202.69 1227.55,1201.23 1234.79,1198.76 1242.04,1210.26 1249.28,1221.05 1256.52,1213.41 1263.76,1203.34 1271,1208.79 1278.25,1207.47 1285.49,1204.06 1292.73,1204.15 1299.97,1226.82 1307.21,1213.82 1314.46,1215.11 1321.7,1202.71 1328.94,1207.47 1336.18,1189.61 1343.42,1188.03 1350.67,1181.56 1357.91,1186.17 1365.15,1188.01 1372.39,1187.03 1379.64,1191.92 1386.88,1194.84 1394.12,1188.33 1401.36,1192.95 1408.6,1192.45 1415.85,1200.46 1423.09,1201.85 1430.33,1200.31 1437.57,1203.36 1444.81,1197.43 1452.06,1211 1459.3,1219.04 1466.54,1211.24 1473.78,1212.68 1481.02,1212.66 1488.27,1231.98 1495.51,1236.07 1502.75,1241.05 1509.99,1231.99 1517.23,1218.13 1524.48,1201.81 1531.72,1207.35 1538.96,1199.31 1546.2,1202.36 1553.45,1209.9 1560.69,1224.79 1567.93,1235.86 1575.17,1229.91 1582.41,1225.54 1589.66,1210.64 1596.9,1202.54 1604.14,1204.56 1611.38,1204.89 1618.62,1189.77 1625.87,1200.76 1633.11,1194.78 1640.35,1190.61 1647.59,1189.34 1654.83,1210.54 1662.08,1208.84 1669.32,1184.1 1676.56,1172.97 1683.8,1168.14 1691.05,1173.28 1698.29,1167.94 1705.53,1160.45 1712.77,1138.21 1720.01,1132.17 1727.26,1119.84 1734.5,1111 1741.74,1107.13 1748.98,1107.61 1756.22,1105.6 1763.47,1106.34 1770.71,1108.37 1777.95,1102.11 1785.19,1085.37 1792.43,1077.99 1799.68,1090.31 1806.92,1074.71 1814.16,1084.63 1821.4,1077.06 1828.65,1075.49 1835.89,1076.37 1843.13,1086.71 1850.37,1062.31 1857.61,1053.95 1864.86,1067.2 1872.1,1076.38 1879.34,1074.51 1886.58,1074.03 1893.82,1075.52 1901.07,1086.34 1908.31,1086.49 1915.55,1079.42 1922.79,1072.69 1930.03,1071.21 1937.28,1072.44 1944.52,1076.52 1951.76,1089.68 1959,1104.12 1966.25,1102.65 1973.49,1116.6 1980.73,1122.32 1987.97,1116.99 1995.21,1106.64 2002.46,1117.96 2009.7,1114.43 2016.94,1108.42 2024.18,1102.42 2031.42,1094.48 2038.67,1089.91 2045.91,1096 2053.15,1099.19 2060.39,1099.39 2067.63,1103.91 2074.88,1103.59 2082.12,1103 2089.36,1103.41 2096.6,1106.11 2103.84,1110.1 2111.09,1111.82 2118.33,1118.83 2125.57,1125.68 2132.81,1128.59 2140.06,1126.2 2147.3,1132.11 2154.54,1126.41 2161.78,1124.52 2169.02,1124.15 2176.27,1125.4 2183.51,1120.8 2190.75,1119.44 2197.99,1116.06 2205.23,1115.82 2212.48,1116.86 2219.72,1114.31 2226.96,1111.41 2234.2,1110.29 2241.44,1111.75 2248.69,1112.47 2255.93,1110.96 2263.17,1111.69 2270.41,1113.19 2277.66,1113.43 2284.9,1112.17 2292.14,1112.13 \"/>\n<polyline clip-path=\"url(#clip412)\" style=\"stroke:#e26f46; stroke-linecap:round; stroke-linejoin:round; stroke-width:4; stroke-opacity:1; fill:none\" points=\"271.594,1018.64 278.836,1034.55 286.078,1034.77 293.32,1037.13 300.562,1021.29 307.804,1035.08 315.046,1036.36 322.288,1029.45 329.531,1016.05 336.773,1015.01 344.015,1015.32 351.257,1009.04 358.499,1015.2 365.741,1018.12 372.983,1015.74 380.225,1008.88 387.467,1011.12 394.709,1021.2 401.952,1022.13 409.194,1027.22 416.436,1032.84 423.678,1047.61 430.92,1039.4 438.162,1023.65 445.404,1026.44 452.646,1023.69 459.888,1023.34 467.13,1021.84 474.373,1010.94 481.615,1003.31 488.857,996.38 496.099,981.063 503.341,973.97 510.583,959.477 517.825,952.915 525.067,959.829 532.309,953.306 539.551,948.375 546.794,942.195 554.036,944.436 561.278,935.646 568.52,932.387 575.762,930.471 583.004,923.512 590.246,930.266 597.488,928.27 604.73,923.585 611.972,913.566 619.215,910.353 626.457,915.23 633.699,912.35 640.941,907.65 648.183,913.128 655.425,916.381 662.667,906.377 669.909,904.939 677.151,896.671 684.393,904.352 691.636,905.236 698.878,903.477 706.12,902.738 713.362,906.272 720.604,897.834 727.846,907.482 735.088,909.387 742.33,908.438 749.572,901.668 756.814,897.902 764.057,896.053 771.299,899.463 778.541,896.231 785.783,891.258 793.025,893.958 800.267,891.411 807.509,887.791 814.751,890.955 821.993,887.98 829.235,883.589 836.478,892.262 843.72,899.207 850.962,891.958 858.204,884.438 865.446,872.067 872.688,872.911 879.93,868.482 887.172,871.663 894.414,874.413 901.656,884.834 908.899,878.415 916.141,880.165 923.383,886.311 930.625,887.128 937.867,884.404 945.109,892.79 952.351,887.424 959.593,896.593 966.835,896.685 974.077,898.415 981.32,905.216 988.562,904.111 995.804,898.613 1003.05,896.727 1010.29,900.687 1017.53,894.233 1024.77,888.193 1032.01,877.684 1039.26,870.575 1046.5,884.512 1053.74,887.62 1060.98,890.655 1068.22,890.523 1075.47,892.227 1082.71,884.848 1089.95,871.624 1097.19,865.356 1104.44,872.218 1111.68,883.954 1118.92,891.945 1126.16,905.316 1133.4,903.159 1140.65,909.509 1147.89,914.345 1155.13,919.978 1162.37,917.439 1169.61,929.559 1176.86,935.334 1184.1,945.259 1191.34,944.927 1198.58,948.689 1205.82,949.946 1213.07,948.452 1220.31,948.407 1227.55,943.908 1234.79,939.603 1242.04,927.014 1249.28,925.613 1256.52,923.51 1263.76,927.516 1271,933.003 1278.25,916.66 1285.49,916.618 1292.73,920.615 1299.97,927.844 1307.21,927.125 1314.46,927.449 1321.7,939.321 1328.94,935.516 1336.18,924.911 1343.42,918.804 1350.67,932.578 1357.91,951.351 1365.15,963.167 1372.39,966.439 1379.64,963.793 1386.88,950.612 1394.12,937.687 1401.36,939.802 1408.6,950.395 1415.85,950.949 1423.09,947.078 1430.33,955.105 1437.57,964.267 1444.81,976.227 1452.06,976.806 1459.3,980.669 1466.54,995.55 1473.78,994.601 1481.02,994.912 1488.27,981.688 1495.51,982.415 1502.75,987.081 1509.99,979.351 1517.23,976.51 1524.48,968.566 1531.72,963.516 1538.96,956.683 1546.2,947.088 1553.45,943.911 1560.69,947.544 1567.93,950.284 1575.17,959.381 1582.41,963.226 1589.66,968.101 1596.9,961.697 1604.14,966.46 1611.38,959.783 1618.62,959.458 1625.87,978.457 1633.11,977.213 1640.35,975.757 1647.59,980.684 1654.83,995.007 1662.08,988.688 1669.32,991.028 1676.56,1006.16 1683.8,1026.21 1691.05,1040.79 1698.29,1040.57 1705.53,1040.59 1712.77,1039.15 1720.01,1044.23 1727.26,1042.43 1734.5,1038.12 1741.74,1055.11 1748.98,1056.41 1756.22,1056.57 1763.47,1052.62 1770.71,1057.18 1777.95,1056.39 1785.19,1066.92 1792.43,1068.64 1799.68,1065.22 1806.92,1059.63 1814.16,1062.76 1821.4,1060.51 1828.65,1056.44 1835.89,1039.41 1843.13,1033.98 1850.37,1050.39 1857.61,1051.01 1864.86,1040.53 1872.1,1040.78 1879.34,1033.15 1886.58,1031.67 1893.82,1014.09 1901.07,1020.81 1908.31,1025.9 1915.55,1035.9 1922.79,1052.08 1930.03,1048.71 1937.28,1056.96 1944.52,1051.1 1951.76,1051.86 1959,1055.79 1966.25,1047.92 1973.49,1045.19 1980.73,1042.65 1987.97,1040.13 1995.21,1031.56 2002.46,1043.65 2009.7,1048.16 2016.94,1052.24 2024.18,1048.62 2031.42,1041.93 2038.67,1051.85 2045.91,1052.09 2053.15,1052.54 2060.39,1061.31 2067.63,1060.65 2074.88,1064.2 2082.12,1065.27 2089.36,1065.78 2096.6,1067.56 2103.84,1069.17 2111.09,1072.23 2118.33,1064.84 2125.57,1065.47 2132.81,1066.76 2140.06,1068.95 2147.3,1074.46 2154.54,1072.07 2161.78,1072.31 2169.02,1074.93 2176.27,1080.11 2183.51,1076.28 2190.75,1080.43 2197.99,1084.07 2205.23,1086.04 2212.48,1087.31 2219.72,1087.51 2226.96,1091.59 2234.2,1090.29 2241.44,1091.39 2248.69,1093.37 2255.93,1093.71 2263.17,1095.43 2270.41,1098.02 2277.66,1098.97 2284.9,1098.56 2292.14,1099.4 \"/>\n<polyline clip-path=\"url(#clip412)\" style=\"stroke:#3da44d; stroke-linecap:round; stroke-linejoin:round; stroke-width:4; stroke-opacity:1; fill:none\" points=\"271.594,200.291 278.836,206.873 286.078,214.343 293.32,240.631 300.562,251.953 307.804,262.986 315.046,278.812 322.288,274.504 329.531,295.485 336.773,321.297 344.015,338.191 351.257,358.397 358.499,379.16 365.741,379.437 372.983,391.209 380.225,397.831 387.467,417.826 394.709,415.654 401.952,420.298 409.194,433.368 416.436,449.485 423.678,458.953 430.92,475.991 438.162,482.71 445.404,493.534 452.646,493.158 459.888,485.248 467.13,489.893 474.373,494.091 481.615,496.079 488.857,498.894 496.099,502.509 503.341,503.222 510.583,517.037 517.825,533.031 525.067,539.949 532.309,542.363 539.551,551.011 546.794,549.157 554.036,550.652 561.278,558.55 568.52,559.808 575.762,563.199 583.004,563.18 590.246,562.528 597.488,556.484 604.73,550.49 611.972,555.154 619.215,557.429 626.457,545.657 633.699,540.689 640.941,540.323 648.183,538.286 655.425,551.594 662.667,556.467 669.909,560.483 677.151,557.417 684.393,567.77 691.636,569.207 698.878,572.487 706.12,572.6 713.362,568.677 720.604,572.868 727.846,574.741 735.088,571.212 742.33,569.998 749.572,572.651 756.814,567.211 764.057,565.899 771.299,565.598 778.541,566.497 785.783,565.178 793.025,565.548 800.267,562.045 807.509,558.525 814.751,547.211 821.993,542.252 829.235,535.035 836.478,541.348 843.72,528.291 850.962,524.101 858.204,529.282 865.446,525.223 872.688,520.411 879.93,522.938 887.172,517.279 894.414,507.805 901.656,508.638 908.899,496.013 916.141,493.11 923.383,492.834 930.625,479.03 937.867,469.342 945.109,467.212 952.351,465.047 959.593,465.474 966.835,462.937 974.077,468.937 981.32,460.736 988.562,460.478 995.804,448.903 1003.05,442.646 1010.29,438.791 1017.53,426.096 1024.77,414.176 1032.01,411.975 1039.26,414.657 1046.5,410.801 1053.74,423.925 1060.98,429.429 1068.22,420.449 1075.47,414.605 1082.71,405.512 1089.95,401.185 1097.19,396.095 1104.44,393.654 1111.68,390.812 1118.92,380.417 1126.16,388.591 1133.4,379.026 1140.65,360.141 1147.89,352.153 1155.13,344.214 1162.37,341.695 1169.61,341.586 1176.86,335.956 1184.1,326.579 1191.34,320.229 1198.58,319.306 1205.82,309.311 1213.07,300.951 1220.31,288.579 1227.55,281.079 1234.79,280.1 1242.04,289.182 1249.28,291.464 1256.52,294.363 1263.76,284.116 1271,282.856 1278.25,272.925 1285.49,272.281 1292.73,268.118 1299.97,246.888 1307.21,234.842 1314.46,227.815 1321.7,226.87 1328.94,239.052 1336.18,235.14 1343.42,221.911 1350.67,221.103 1357.91,226.176 1365.15,210.168 1372.39,207.497 1379.64,213.234 1386.88,211.171 1394.12,200.977 1401.36,201.511 1408.6,194.305 1415.85,180.696 1423.09,192.416 1430.33,199.984 1437.57,202.891 1444.81,188.712 1452.06,186.832 1459.3,189.934 1466.54,184.239 1473.78,185.271 1481.02,180.399 1488.27,173.076 1495.51,186.464 1502.75,213.013 1509.99,209.387 1517.23,209.177 1524.48,198.953 1531.72,196.669 1538.96,188.934 1546.2,203.791 1553.45,204.246 1560.69,200.797 1567.93,203.519 1575.17,201.418 1582.41,202.047 1589.66,200.128 1596.9,188.007 1604.14,180.86 1611.38,193.481 1618.62,214.269 1625.87,209.305 1633.11,194.942 1640.35,182.894 1647.59,176.524 1654.83,162.877 1662.08,162.617 1669.32,165.225 1676.56,185.037 1683.8,183.152 1691.05,191.265 1698.29,199.733 1705.53,212.309 1712.77,201.101 1720.01,204.537 1727.26,202.397 1734.5,183.168 1741.74,164.338 1748.98,160.319 1756.22,168.027 1763.47,164.299 1770.71,160.256 1777.95,165.759 1785.19,172.729 1792.43,185.935 1799.68,212.321 1806.92,234.2 1814.16,245.344 1821.4,271.453 1828.65,269.365 1835.89,271.704 1843.13,270.82 1850.37,287.287 1857.61,282.983 1864.86,290.288 1872.1,299.936 1879.34,310.401 1886.58,325.476 1893.82,327.625 1901.07,332.332 1908.31,334.657 1915.55,353.153 1922.79,363.442 1930.03,388.331 1937.28,402.56 1944.52,402.338 1951.76,413.714 1959,418.762 1966.25,431.636 1973.49,457.26 1980.73,476.62 1987.97,496.265 1995.21,507.333 2002.46,525.899 2009.7,552.074 2016.94,558.183 2024.18,578.081 2031.42,595.175 2038.67,601.364 2045.91,607.026 2053.15,619.087 2060.39,635.971 2067.63,648.981 2074.88,657.422 2082.12,669.352 2089.36,679.733 2096.6,689.632 2103.84,704.071 2111.09,722.624 2118.33,732.133 2125.57,747.667 2132.81,761.274 2140.06,778.095 2147.3,795.432 2154.54,806.176 2161.78,826.039 2169.02,841.195 2176.27,856.294 2183.51,871.726 2190.75,882.299 2197.99,896.633 2205.23,907.641 2212.48,921.295 2219.72,935.235 2226.96,949.503 2234.2,962.146 2241.44,972.162 2248.69,982.849 2255.93,992.49 2263.17,1002.92 2270.41,1012.05 2277.66,1022.25 2284.9,1031.24 2292.14,1040.21 \"/>\n<polyline clip-path=\"url(#clip412)\" style=\"stroke:#c271d2; stroke-linecap:round; stroke-linejoin:round; stroke-width:4; stroke-opacity:1; fill:none\" stroke-dasharray=\"16, 10\" points=\"271.594,1251.97 278.836,1250.32 286.078,1249.07 293.32,1247.88 300.562,1246.7 307.804,1245.5 315.046,1244.25 322.288,1243.05 329.531,1241.85 336.773,1240.5 344.015,1239.14 351.257,1237.55 358.499,1235.72 365.741,1234.07 372.983,1232.73 380.225,1231.49 387.467,1230.27 394.709,1229.07 401.952,1227.65 409.194,1226.23 416.436,1224.89 423.678,1223.39 430.92,1221.68 438.162,1220.09 445.404,1218.64 452.646,1217.09 459.888,1215.5 467.13,1213.91 474.373,1212.34 481.615,1210.77 488.857,1209.38 496.099,1208 503.341,1206.7 510.583,1205.45 517.825,1204.27 525.067,1203.01 532.309,1201.84 539.551,1200.71 546.794,1199.66 554.036,1198.54 561.278,1197.5 568.52,1196.37 575.762,1195.33 583.004,1194.31 590.246,1192.87 597.488,1191.64 604.73,1190.4 611.972,1189.05 619.215,1187.5 626.457,1185.93 633.699,1184.48 640.941,1183.02 648.183,1181.42 655.425,1179.54 662.667,1177.63 669.909,1175.85 677.151,1174.19 684.393,1172.49 691.636,1170.86 698.878,1169.17 706.12,1167.61 713.362,1166.17 720.604,1164.71 727.846,1163.22 735.088,1161.75 742.33,1160.46 749.572,1159.16 756.814,1157.96 764.057,1156.8 771.299,1155.63 778.541,1154.62 785.783,1153.7 793.025,1153.03 800.267,1152.42 807.509,1151.67 814.751,1150.85 821.993,1149.87 829.235,1148.73 836.478,1147.72 843.72,1146.97 850.962,1146.29 858.204,1145.85 865.446,1145.59 872.688,1145.47 879.93,1145.21 887.172,1144.98 894.414,1144.78 901.656,1144.58 908.899,1144.31 916.141,1143.91 923.383,1143.45 930.625,1142.94 937.867,1142.52 945.109,1142.15 952.351,1141.7 959.593,1141.38 966.835,1141.03 974.077,1140.68 981.32,1140.3 988.562,1139.92 995.804,1139.41 1003.05,1138.9 1010.29,1138.48 1017.53,1138.04 1024.77,1137.59 1032.01,1136.9 1039.26,1136.17 1046.5,1135.44 1053.74,1134.6 1060.98,1134.01 1068.22,1133.24 1075.47,1132.67 1082.71,1132.23 1089.95,1131.92 1097.19,1131.72 1104.44,1131.71 1111.68,1131.57 1118.92,1131.35 1126.16,1131.02 1133.4,1130.72 1140.65,1130.52 1147.89,1130.58 1155.13,1130.69 1162.37,1130.66 1169.61,1130.89 1176.86,1131.12 1184.1,1131.02 1191.34,1130.94 1198.58,1130.88 1205.82,1130.67 1213.07,1130.3 1220.31,1130.01 1227.55,1129.76 1234.79,1129.53 1242.04,1129.33 1249.28,1128.89 1256.52,1128.25 1263.76,1127.75 1271,1127.45 1278.25,1127.03 1285.49,1126.63 1292.73,1126.29 1299.97,1125.94 1307.21,1125.14 1314.46,1124.61 1321.7,1124.05 1328.94,1123.73 1336.18,1123.3 1343.42,1123.21 1350.67,1123.13 1357.91,1123.15 1365.15,1123.05 1372.39,1122.89 1379.64,1122.74 1386.88,1122.47 1394.12,1122.14 1401.36,1121.92 1408.6,1121.59 1415.85,1121.26 1423.09,1120.77 1430.33,1120.25 1437.57,1119.75 1444.81,1119.2 1452.06,1118.76 1459.3,1118.05 1466.54,1117.2 1473.78,1116.51 1481.02,1115.8 1488.27,1115.09 1495.51,1114.03 1502.75,1112.91 1509.99,1111.73 1517.23,1110.74 1524.48,1110.05 1531.72,1109.67 1538.96,1109.18 1546.2,1108.83 1553.45,1108.42 1560.69,1107.86 1567.93,1107.02 1575.17,1105.98 1582.41,1105.08 1589.66,1104.28 1596.9,1103.78 1604.14,1103.43 1611.38,1103.03 1618.62,1102.62 1625.87,1102.5 1633.11,1102.15 1640.35,1101.9 1647.59,1101.72 1654.83,1101.55 1662.08,1100.96 1669.32,1100.41 1676.56,1100.34 1683.8,1100.45 1691.05,1100.63 1698.29,1100.68 1705.53,1100.81 1712.77,1101.05 1720.01,1101.68 1727.26,1102.38 1734.5,1103.25 1741.74,1104.24 1748.98,1105.17 1756.22,1106.04 1763.47,1106.91 1770.71,1107.72 1777.95,1108.44 1785.19,1109.22 1792.43,1110.23 1799.68,1111.32 1806.92,1112.13 1814.16,1113.19 1821.4,1113.99 1828.65,1114.88 1835.89,1115.73 1843.13,1116.52 1850.37,1117.06 1857.61,1118.01 1864.86,1119.07 1872.1,1119.81 1879.34,1120.32 1886.58,1120.83 1893.82,1121.31 1901.07,1121.73 1908.31,1121.91 1915.55,1122.06 1922.79,1122.33 1930.03,1122.7 1937.28,1123.07 1944.52,1123.39 1951.76,1123.6 1959,1123.54 1966.25,1123.21 1973.49,1122.9 1980.73,1122.34 1987.97,1121.69 1995.21,1121.16 2002.46,1120.85 2009.7,1120.32 2016.94,1119.89 2024.18,1119.58 2031.42,1119.4 2038.67,1119.36 2045.91,1119.42 2053.15,1119.35 2060.39,1119.22 2067.63,1119.09 2074.88,1118.88 2082.12,1118.68 2089.36,1118.5 2096.6,1118.32 2103.84,1118.1 2111.09,1117.81 2118.33,1117.5 2125.57,1117.08 2132.81,1116.55 2140.06,1115.99 2147.3,1115.51 2154.54,1114.94 2161.78,1114.51 2169.02,1114.14 2176.27,1113.81 2183.51,1113.47 2190.75,1113.24 2197.99,1113.05 2205.23,1112.95 2212.48,1112.86 2219.72,1112.77 2226.96,1112.74 2234.2,1112.78 2241.44,1112.85 2248.69,1112.9 2255.93,1112.95 2263.17,1113.03 2270.41,1113.12 2277.66,1113.18 2284.9,1113.25 2292.14,1113.36 \"/>\n<polyline clip-path=\"url(#clip412)\" style=\"stroke:#ac8d18; stroke-linecap:round; stroke-linejoin:round; stroke-width:4; stroke-opacity:1; fill:none\" stroke-dasharray=\"16, 10\" points=\"271.594,1022.15 278.836,1024.09 286.078,1025.75 293.32,1027.31 300.562,1028.75 307.804,1030.4 315.046,1031.71 322.288,1032.92 329.531,1034.19 336.773,1035.66 344.015,1037.06 351.257,1038.39 358.499,1039.76 365.741,1040.95 372.983,1042.02 380.225,1043.08 387.467,1044.22 394.709,1045.26 401.952,1046.06 409.194,1046.81 416.436,1047.42 423.678,1047.89 430.92,1048.06 438.162,1048.38 445.404,1048.98 452.646,1049.5 459.888,1050.06 467.13,1050.6 474.373,1051.14 481.615,1051.86 488.857,1052.7 496.099,1053.64 503.341,1054.82 510.583,1056.09 517.825,1057.58 525.067,1059.13 532.309,1060.48 539.551,1061.9 546.794,1063.34 554.036,1064.84 561.278,1066.24 568.52,1067.74 575.762,1069.23 583.004,1070.7 590.246,1072.23 597.488,1073.57 604.73,1074.9 611.972,1076.25 619.215,1077.74 626.457,1079.22 633.699,1080.55 640.941,1081.87 648.183,1083.23 655.425,1084.4 662.667,1085.48 669.909,1086.71 677.151,1087.92 684.393,1089.22 691.636,1090.33 698.878,1091.37 706.12,1092.4 713.362,1093.41 720.604,1094.3 727.846,1095.31 735.088,1096.1 742.33,1096.82 749.572,1097.52 756.814,1098.32 764.057,1099.16 771.299,1100 778.541,1100.73 785.783,1101.5 793.025,1102.32 800.267,1103.05 807.509,1103.79 814.751,1104.57 821.993,1105.26 829.235,1105.93 836.478,1106.57 843.72,1106.93 850.962,1107.07 858.204,1107.27 865.446,1107.58 872.688,1108.1 879.93,1108.61 887.172,1109.24 894.414,1109.89 901.656,1110.6 908.899,1111.24 916.141,1112.13 923.383,1113.03 930.625,1113.8 937.867,1114.53 945.109,1115.31 952.351,1115.92 959.593,1116.63 966.835,1117.16 974.077,1117.68 981.32,1118.18 988.562,1118.55 995.804,1118.95 1003.05,1119.46 1010.29,1120.01 1017.53,1120.48 1024.77,1121.08 1032.01,1121.8 1039.26,1122.72 1046.5,1123.75 1053.74,1124.49 1060.98,1125.18 1068.22,1125.8 1075.47,1126.42 1082.71,1127.01 1089.95,1127.74 1097.19,1128.72 1104.44,1129.8 1111.68,1130.73 1118.92,1131.42 1126.16,1131.96 1133.4,1132.24 1140.65,1132.59 1147.89,1132.83 1155.13,1132.99 1162.37,1133.07 1169.61,1133.23 1176.86,1133.18 1184.1,1133.05 1191.34,1132.77 1198.58,1132.55 1205.82,1132.29 1213.07,1132.05 1220.31,1131.88 1227.55,1131.76 1234.79,1131.75 1242.04,1131.86 1249.28,1132.23 1256.52,1132.65 1263.76,1133.11 1271,1133.51 1278.25,1133.82 1285.49,1134.45 1292.73,1135.09 1299.97,1135.65 1307.21,1136.08 1314.46,1136.53 1321.7,1136.99 1328.94,1137.23 1336.18,1137.57 1343.42,1138.11 1350.67,1138.78 1357.91,1139.19 1365.15,1139.26 1372.39,1139.12 1379.64,1138.96 1386.88,1138.89 1394.12,1139.11 1401.36,1139.59 1408.6,1140.04 1415.85,1140.3 1423.09,1140.56 1430.33,1140.92 1437.57,1141.13 1444.81,1141.2 1452.06,1141.06 1459.3,1140.94 1466.54,1140.79 1473.78,1140.39 1481.02,1140.06 1488.27,1139.77 1495.51,1139.77 1502.75,1139.79 1509.99,1139.75 1517.23,1139.88 1524.48,1140.09 1531.72,1140.47 1538.96,1140.96 1546.2,1141.58 1553.45,1142.38 1560.69,1143.23 1567.93,1144 1575.17,1144.71 1582.41,1145.24 1589.66,1145.69 1596.9,1146.06 1604.14,1146.56 1611.38,1146.98 1618.62,1147.52 1625.87,1148.08 1633.11,1148.27 1640.35,1148.5 1647.59,1148.77 1654.83,1148.96 1662.08,1148.89 1669.32,1148.97 1676.56,1149.03 1683.8,1148.82 1691.05,1148.26 1698.29,1147.47 1705.53,1146.75 1712.77,1146.09 1720.01,1145.51 1727.26,1144.87 1734.5,1144.33 1741.74,1143.92 1748.98,1143.26 1756.22,1142.62 1763.47,1142.01 1770.71,1141.52 1777.95,1140.98 1785.19,1140.49 1792.43,1139.88 1799.68,1139.28 1806.92,1138.76 1814.16,1138.4 1821.4,1138.02 1828.65,1137.71 1835.89,1137.51 1843.13,1137.66 1850.37,1137.92 1857.61,1137.88 1864.86,1137.84 1872.1,1138.01 1879.34,1138.19 1886.58,1138.52 1893.82,1138.88 1901.07,1139.56 1908.31,1140.1 1915.55,1140.53 1922.79,1140.76 1930.03,1140.69 1937.28,1140.69 1944.52,1140.55 1951.76,1140.53 1959,1140.51 1966.25,1140.43 1973.49,1140.51 1980.73,1140.65 1987.97,1140.84 1995.21,1141.07 2002.46,1141.46 2009.7,1141.62 2016.94,1141.68 2024.18,1141.67 2031.42,1141.73 2038.67,1141.93 2045.91,1141.93 2053.15,1141.92 2060.39,1141.92 2067.63,1141.75 2074.88,1141.6 2082.12,1141.39 2089.36,1141.18 2096.6,1140.97 2103.84,1140.73 2111.09,1140.47 2118.33,1140.17 2125.57,1140.02 2132.81,1139.86 2140.06,1139.69 2147.3,1139.47 2154.54,1139.16 2161.78,1138.91 2169.02,1138.65 2176.27,1138.36 2183.51,1137.97 2190.75,1137.66 2197.99,1137.29 2205.23,1136.86 2212.48,1136.39 2219.72,1135.93 2226.96,1135.46 2234.2,1134.93 2241.44,1134.44 2248.69,1133.95 2255.93,1133.42 2263.17,1132.9 2270.41,1132.36 2277.66,1131.78 2284.9,1131.2 2292.14,1130.63 \"/>\n<polyline clip-path=\"url(#clip412)\" style=\"stroke:#00a9ad; stroke-linecap:round; stroke-linejoin:round; stroke-width:4; stroke-opacity:1; fill:none\" stroke-dasharray=\"16, 10\" points=\"271.594,1343.9 278.836,1338.87 286.078,1334.48 293.32,1330.18 300.562,1325.62 307.804,1321.09 315.046,1316.59 322.288,1312.02 329.531,1307.76 336.773,1303.33 344.015,1298.63 351.257,1293.84 358.499,1288.9 365.741,1283.81 372.983,1278.95 380.225,1274.11 387.467,1269.37 394.709,1264.47 401.952,1259.84 409.194,1255.33 416.436,1250.77 423.678,1246.11 430.92,1241.48 438.162,1236.73 445.404,1232.06 452.646,1227.38 459.888,1222.91 467.13,1218.77 474.373,1214.72 481.615,1210.75 488.857,1206.9 496.099,1203.15 503.341,1199.47 510.583,1195.91 517.825,1192.23 525.067,1188.37 532.309,1184.53 539.551,1180.77 546.794,1176.99 554.036,1173.37 561.278,1169.85 568.52,1166.3 575.762,1162.84 583.004,1159.43 590.246,1156.12 597.488,1152.93 604.73,1149.95 611.972,1147.16 619.215,1144.36 626.457,1141.59 633.699,1139.11 640.941,1136.78 648.183,1134.5 655.425,1132.26 662.667,1129.83 669.909,1127.38 677.151,1124.89 684.393,1122.51 691.636,1119.98 698.878,1117.47 706.12,1114.94 713.362,1112.45 720.604,1110.09 727.846,1107.68 735.088,1105.27 742.33,1102.97 749.572,1100.73 756.814,1098.46 764.057,1096.32 771.299,1094.23 778.541,1092.16 785.783,1090.09 793.025,1088.07 800.267,1086.06 807.509,1084.12 814.751,1082.27 821.993,1080.63 829.235,1079.08 836.478,1077.66 843.72,1076.1 850.962,1074.78 858.204,1073.52 865.446,1072.14 872.688,1070.81 879.93,1069.56 887.172,1068.23 894.414,1066.99 901.656,1065.9 908.899,1064.77 916.141,1063.85 923.383,1062.94 930.625,1061.99 937.867,1061.27 945.109,1060.69 952.351,1060.09 959.593,1059.47 966.835,1058.8 974.077,1058.13 981.32,1057.29 988.562,1056.56 995.804,1055.8 1003.05,1055.21 1010.29,1054.69 1017.53,1054.19 1024.77,1053.88 1032.01,1053.73 1039.26,1053.55 1046.5,1053.26 1053.74,1052.98 1060.98,1052.39 1068.22,1051.65 1075.47,1051.05 1082.71,1050.51 1089.95,1050.1 1097.19,1049.73 1104.44,1049.4 1111.68,1049.07 1118.92,1048.74 1126.16,1048.56 1133.4,1048.17 1140.65,1047.92 1147.89,1047.98 1155.13,1048.13 1162.37,1048.37 1169.61,1048.59 1176.86,1048.75 1184.1,1048.95 1191.34,1049.28 1198.58,1049.65 1205.82,1049.98 1213.07,1050.44 1220.31,1050.99 1227.55,1051.7 1234.79,1052.49 1242.04,1053.21 1249.28,1053.7 1256.52,1054.08 1263.76,1054.36 1271,1054.78 1278.25,1055.18 1285.49,1055.73 1292.73,1056.23 1299.97,1056.77 1307.21,1057.67 1314.46,1058.74 1321.7,1059.87 1328.94,1060.95 1336.18,1061.74 1343.42,1062.56 1350.67,1063.59 1357.91,1064.58 1365.15,1065.43 1372.39,1066.54 1379.64,1067.65 1386.88,1068.62 1394.12,1069.58 1401.36,1070.71 1408.6,1071.79 1415.85,1072.97 1423.09,1074.38 1430.33,1075.52 1437.57,1076.5 1444.81,1077.4 1452.06,1078.57 1459.3,1079.75 1466.54,1080.86 1473.78,1082.07 1481.02,1083.25 1488.27,1084.51 1495.51,1085.91 1502.75,1087.05 1509.99,1087.69 1517.23,1088.43 1524.48,1089.21 1531.72,1090.22 1538.96,1091.29 1546.2,1092.55 1553.45,1093.54 1560.69,1094.57 1567.93,1095.7 1575.17,1096.82 1582.41,1098.03 1589.66,1099.27 1596.9,1100.6 1604.14,1102.2 1611.38,1103.98 1618.62,1105.55 1625.87,1106.78 1633.11,1108.18 1640.35,1109.91 1647.59,1111.92 1654.83,1114.1 1662.08,1116.58 1669.32,1119.1 1676.56,1121.32 1683.8,1122.54 1691.05,1123.14 1698.29,1123.12 1705.53,1122.82 1712.77,1122.66 1720.01,1123.68 1727.26,1126.23 1734.5,1131 1741.74,1138.62 1748.98,1148.79 1756.22,1159.8 1763.47,1170.48 1770.71,1181.04 1777.95,1191.48 1785.19,1201.62 1792.43,1211.3 1799.68,1220.41 1806.92,1229.19 1814.16,1237.43 1821.4,1245.35 1828.65,1252.7 1835.89,1260.02 1843.13,1267.24 1850.37,1274.41 1857.61,1281.2 1864.86,1288.03 1872.1,1294.66 1879.34,1301.06 1886.58,1307.21 1893.82,1313.05 1901.07,1318.81 1908.31,1324.46 1915.55,1330.04 1922.79,1335.24 1930.03,1340.22 1937.28,1344.72 1944.52,1348.95 1951.76,1353.2 1959,1357.23 1966.25,1361.17 1973.49,1364.87 1980.73,1368.1 1987.97,1370.98 1995.21,1373.51 2002.46,1375.88 2009.7,1377.94 2016.94,1379.54 2024.18,1381.09 2031.42,1382.31 2038.67,1383.27 2045.91,1384.17 2053.15,1385.03 2060.39,1385.7 2067.63,1386.1 2074.88,1386.3 2082.12,1386.4 2089.36,1386.31 2096.6,1386.06 2103.84,1385.67 2111.09,1385.04 2118.33,1384.09 2125.57,1383 2132.81,1381.65 2140.06,1380.07 2147.3,1378.2 2154.54,1376.04 2161.78,1373.71 2169.02,1371.03 2176.27,1368.1 2183.51,1364.92 2190.75,1361.47 2197.99,1357.85 2205.23,1353.98 2212.48,1349.92 2219.72,1345.62 2226.96,1341.06 2234.2,1336.25 2241.44,1331.2 2248.69,1325.97 2255.93,1320.52 2263.17,1314.89 2270.41,1309.04 2277.66,1302.99 2284.9,1296.72 2292.14,1290.25 \"/>\n<path clip-path=\"url(#clip410)\" d=\"M2023.9 529.676 L2281.36 529.676 L2281.36 166.796 L2023.9 166.796  Z\" fill=\"#ffffff\" fill-rule=\"evenodd\" fill-opacity=\"1\"/>\n<polyline clip-path=\"url(#clip410)\" style=\"stroke:#000000; stroke-linecap:round; stroke-linejoin:round; stroke-width:4; stroke-opacity:1; fill:none\" points=\"2023.9,529.676 2281.36,529.676 2281.36,166.796 2023.9,166.796 2023.9,529.676 \"/>\n<polyline clip-path=\"url(#clip410)\" style=\"stroke:#009af9; stroke-linecap:round; stroke-linejoin:round; stroke-width:4; stroke-opacity:1; fill:none\" points=\"2047.7,218.636 2190.48,218.636 \"/>\n<path clip-path=\"url(#clip410)\" d=\"M2238.93 209.99 L2229.56 222.606 L2239.42 235.916 L2234.39 235.916 L2226.85 225.731 L2219.3 235.916 L2214.28 235.916 L2224.35 222.351 L2215.14 209.99 L2220.16 209.99 L2227.03 219.226 L2233.91 209.99 L2238.93 209.99 Z\" fill=\"#000000\" fill-rule=\"evenodd\" fill-opacity=\"1\" /><path clip-path=\"url(#clip410)\" d=\"M2244.58 233.369 L2249.3 233.369 L2249.3 219.226 L2244.14 220.175 L2244.14 217.49 L2249.46 216.587 L2252.64 216.587 L2252.64 233.369 L2257.38 233.369 L2257.38 235.916 L2244.58 235.916 L2244.58 233.369 Z\" fill=\"#000000\" fill-rule=\"evenodd\" fill-opacity=\"1\" /><polyline clip-path=\"url(#clip410)\" style=\"stroke:#e26f46; stroke-linecap:round; stroke-linejoin:round; stroke-width:4; stroke-opacity:1; fill:none\" points=\"2047.7,270.476 2190.48,270.476 \"/>\n<path clip-path=\"url(#clip410)\" d=\"M2238.93 261.83 L2229.56 274.446 L2239.42 287.756 L2234.39 287.756 L2226.85 277.571 L2219.3 287.756 L2214.28 287.756 L2224.35 274.191 L2215.14 261.83 L2220.16 261.83 L2227.03 271.066 L2233.91 261.83 L2238.93 261.83 Z\" fill=\"#000000\" fill-rule=\"evenodd\" fill-opacity=\"1\" /><path clip-path=\"url(#clip410)\" d=\"M2247.17 285.117 L2256.99 285.117 L2256.99 287.756 L2243.14 287.756 L2243.14 285.209 Q2243.93 284.492 2245.39 283.196 Q2253.35 276.135 2253.35 273.959 Q2253.35 272.432 2252.15 271.506 Q2250.95 270.557 2248.98 270.557 Q2247.77 270.557 2246.36 270.973 Q2244.95 271.367 2243.28 272.177 L2243.28 269.33 Q2245.07 268.682 2246.59 268.358 Q2248.14 268.034 2249.46 268.034 Q2252.82 268.034 2254.83 269.561 Q2256.85 271.089 2256.85 273.589 Q2256.85 276.807 2249.19 283.381 Q2247.89 284.492 2247.17 285.117 Z\" fill=\"#000000\" fill-rule=\"evenodd\" fill-opacity=\"1\" /><polyline clip-path=\"url(#clip410)\" style=\"stroke:#3da44d; stroke-linecap:round; stroke-linejoin:round; stroke-width:4; stroke-opacity:1; fill:none\" points=\"2047.7,322.316 2190.48,322.316 \"/>\n<path clip-path=\"url(#clip410)\" d=\"M2238.93 313.67 L2229.56 326.286 L2239.42 339.596 L2234.39 339.596 L2226.85 329.411 L2219.3 339.596 L2214.28 339.596 L2224.35 326.031 L2215.14 313.67 L2220.16 313.67 L2227.03 322.906 L2233.91 313.67 L2238.93 313.67 Z\" fill=\"#000000\" fill-rule=\"evenodd\" fill-opacity=\"1\" /><path clip-path=\"url(#clip410)\" d=\"M2253.1 329.133 Q2255.23 329.549 2256.39 330.823 Q2257.57 332.073 2257.57 333.971 Q2257.57 336.841 2255.37 338.392 Q2253.17 339.943 2249.07 339.943 Q2247.75 339.943 2246.29 339.688 Q2244.86 339.457 2243.24 338.994 L2243.24 336.193 Q2244.44 336.818 2245.81 337.119 Q2247.2 337.42 2248.75 337.42 Q2251.27 337.42 2252.66 336.517 Q2254.05 335.591 2254.05 333.971 Q2254.05 332.258 2252.75 331.378 Q2251.48 330.499 2248.98 330.499 L2246.99 330.499 L2246.99 327.999 L2249.16 327.999 Q2251.34 327.999 2252.45 327.281 Q2253.58 326.54 2253.58 325.151 Q2253.58 323.809 2252.43 323.114 Q2251.27 322.397 2249.07 322.397 Q2248.14 322.397 2246.96 322.605 Q2245.78 322.813 2243.91 323.346 L2243.91 320.684 Q2245.6 320.29 2247.08 320.082 Q2248.56 319.874 2249.83 319.874 Q2253.17 319.874 2255.11 321.239 Q2257.08 322.605 2257.08 324.897 Q2257.08 326.494 2256.04 327.605 Q2255 328.716 2253.1 329.133 Z\" fill=\"#000000\" fill-rule=\"evenodd\" fill-opacity=\"1\" /><polyline clip-path=\"url(#clip410)\" style=\"stroke:#c271d2; stroke-linecap:round; stroke-linejoin:round; stroke-width:4; stroke-opacity:1; fill:none\" stroke-dasharray=\"16, 10\" points=\"2047.7,374.156 2190.48,374.156 \"/>\n<path clip-path=\"url(#clip410)\" d=\"M2238.93 365.51 L2229.56 378.126 L2239.42 391.436 L2234.39 391.436 L2226.85 381.251 L2219.3 391.436 L2214.28 391.436 L2224.35 377.871 L2215.14 365.51 L2220.16 365.51 L2227.03 374.746 L2233.91 365.51 L2238.93 365.51 Z\" fill=\"#000000\" fill-rule=\"evenodd\" fill-opacity=\"1\" /><path clip-path=\"url(#clip410)\" d=\"M2226.94 355.417 L2231.2 355.417 L2231.2 360.811 L2226.94 360.811 L2226.94 355.417 M2229.12 364.885 L2229.12 364.885 Z\" fill=\"#000000\" fill-rule=\"evenodd\" fill-opacity=\"1\" /><path clip-path=\"url(#clip410)\" d=\"M2244.58 388.889 L2249.3 388.889 L2249.3 374.746 L2244.14 375.695 L2244.14 373.01 L2249.46 372.107 L2252.64 372.107 L2252.64 388.889 L2257.38 388.889 L2257.38 391.436 L2244.58 391.436 L2244.58 388.889 Z\" fill=\"#000000\" fill-rule=\"evenodd\" fill-opacity=\"1\" /><polyline clip-path=\"url(#clip410)\" style=\"stroke:#ac8d18; stroke-linecap:round; stroke-linejoin:round; stroke-width:4; stroke-opacity:1; fill:none\" stroke-dasharray=\"16, 10\" points=\"2047.7,425.996 2190.48,425.996 \"/>\n<path clip-path=\"url(#clip410)\" d=\"M2238.93 417.35 L2229.56 429.966 L2239.42 443.276 L2234.39 443.276 L2226.85 433.091 L2219.3 443.276 L2214.28 443.276 L2224.35 429.711 L2215.14 417.35 L2220.16 417.35 L2227.03 426.586 L2233.91 417.35 L2238.93 417.35 Z\" fill=\"#000000\" fill-rule=\"evenodd\" fill-opacity=\"1\" /><path clip-path=\"url(#clip410)\" d=\"M2226.94 407.257 L2231.2 407.257 L2231.2 412.651 L2226.94 412.651 L2226.94 407.257 M2229.12 416.725 L2229.12 416.725 Z\" fill=\"#000000\" fill-rule=\"evenodd\" fill-opacity=\"1\" /><path clip-path=\"url(#clip410)\" d=\"M2247.17 440.637 L2256.99 440.637 L2256.99 443.276 L2243.14 443.276 L2243.14 440.729 Q2243.93 440.012 2245.39 438.716 Q2253.35 431.655 2253.35 429.479 Q2253.35 427.952 2252.15 427.026 Q2250.95 426.077 2248.98 426.077 Q2247.77 426.077 2246.36 426.493 Q2244.95 426.887 2243.28 427.697 L2243.28 424.85 Q2245.07 424.202 2246.59 423.878 Q2248.14 423.554 2249.46 423.554 Q2252.82 423.554 2254.83 425.081 Q2256.85 426.609 2256.85 429.109 Q2256.85 432.327 2249.19 438.901 Q2247.89 440.012 2247.17 440.637 Z\" fill=\"#000000\" fill-rule=\"evenodd\" fill-opacity=\"1\" /><polyline clip-path=\"url(#clip410)\" style=\"stroke:#00a9ad; stroke-linecap:round; stroke-linejoin:round; stroke-width:4; stroke-opacity:1; fill:none\" stroke-dasharray=\"16, 10\" points=\"2047.7,477.836 2190.48,477.836 \"/>\n<path clip-path=\"url(#clip410)\" d=\"M2238.93 469.19 L2229.56 481.806 L2239.42 495.116 L2234.39 495.116 L2226.85 484.931 L2219.3 495.116 L2214.28 495.116 L2224.35 481.551 L2215.14 469.19 L2220.16 469.19 L2227.03 478.426 L2233.91 469.19 L2238.93 469.19 Z\" fill=\"#000000\" fill-rule=\"evenodd\" fill-opacity=\"1\" /><path clip-path=\"url(#clip410)\" d=\"M2226.94 459.097 L2231.2 459.097 L2231.2 464.491 L2226.94 464.491 L2226.94 459.097 M2229.12 468.565 L2229.12 468.565 Z\" fill=\"#000000\" fill-rule=\"evenodd\" fill-opacity=\"1\" /><path clip-path=\"url(#clip410)\" d=\"M2253.1 484.653 Q2255.23 485.069 2256.39 486.343 Q2257.57 487.593 2257.57 489.491 Q2257.57 492.361 2255.37 493.912 Q2253.17 495.463 2249.07 495.463 Q2247.75 495.463 2246.29 495.208 Q2244.86 494.977 2243.24 494.514 L2243.24 491.713 Q2244.44 492.338 2245.81 492.639 Q2247.2 492.94 2248.75 492.94 Q2251.27 492.94 2252.66 492.037 Q2254.05 491.111 2254.05 489.491 Q2254.05 487.778 2252.75 486.898 Q2251.48 486.019 2248.98 486.019 L2246.99 486.019 L2246.99 483.519 L2249.16 483.519 Q2251.34 483.519 2252.45 482.801 Q2253.58 482.06 2253.58 480.671 Q2253.58 479.329 2252.43 478.634 Q2251.27 477.917 2249.07 477.917 Q2248.14 477.917 2246.96 478.125 Q2245.78 478.333 2243.91 478.866 L2243.91 476.204 Q2245.6 475.81 2247.08 475.602 Q2248.56 475.394 2249.83 475.394 Q2253.17 475.394 2255.11 476.759 Q2257.08 478.125 2257.08 480.417 Q2257.08 482.014 2256.04 483.125 Q2255 484.236 2253.1 484.653 Z\" fill=\"#000000\" fill-rule=\"evenodd\" fill-opacity=\"1\" /></svg>\n"
     },
     "metadata": {},
     "output_type": "display_data"
    }
   ],
   "source": [
    "Xsim_m = mat_from_vec(Xhist[1:end-Nh])\n",
    "Usim_m = mat_from_vec(Uhist[1:end-Nh-1])\n",
    "e_sim_m = mat_from_vec(Xref[1:end-Nh]-Xhist[1:end-Nh])\n",
    "@show traj_error = maximum(norm.(e_sim_m, Inf))\n",
    "display(plot(t_vec[1:end-Nh],e_sim_m',label = [\"ex₁\" \"ex₂\" \"ex₃\" \"eẋ₁\" \"eẋ₂\" \"eẋ₃\"], \n",
    "             linestyle=[:solid :solid :solid :dash :dash :dash], \n",
    "             title = \"State Error History\",\n",
    "             xlabel = \"time (s)\", ylabel = \"x\"))\n",
    "display(plot(t_vec[1:end-Nh-2],Usim_m',label = [\"u₁\" \"u₂\" \"u₃\"],\n",
    "             title = \"Input History\",\n",
    "             xlabel = \"time (s)\", ylabel = \"u\"))\n",
    "display(plot(t_vec[1:end-Nh],Xsim_m',label = [\"x₁\" \"x₂\" \"x₃\" \"ẋ₁\" \"ẋ₂\" \"ẋ₃\"], \n",
    "             linestyle=[:solid :solid :solid :dash :dash :dash],\n",
    "             title = \"State History\",\n",
    "             xlabel = \"time (s)\", ylabel = \"x\"))"
   ]
  }
 ],
 "metadata": {
  "kernelspec": {
   "display_name": "Julia 1.6.7",
   "language": "julia",
   "name": "julia-1.6"
  },
  "language_info": {
   "file_extension": ".jl",
   "mimetype": "application/julia",
   "name": "julia",
   "version": "1.6.7"
  }
 },
 "nbformat": 4,
 "nbformat_minor": 5
}
