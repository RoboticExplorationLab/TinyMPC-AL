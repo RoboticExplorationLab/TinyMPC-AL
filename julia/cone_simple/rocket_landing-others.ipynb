{
 "cells": [
  {
   "cell_type": "code",
   "execution_count": 12,
   "id": "6099cb4b-a2da-4b1b-ba0f-856484092fc4",
   "metadata": {},
   "outputs": [
    {
     "name": "stderr",
     "output_type": "stream",
     "text": [
      "\u001b[32m\u001b[1m  Activating\u001b[22m\u001b[39m environment at `~/SSD/Code/TinyMPC/julia/cone_simple/Project.toml`\n"
     ]
    }
   ],
   "source": [
    "using Pkg\n",
    "Pkg.activate(@__DIR__)\n",
    "Pkg.instantiate()\n",
    "\n",
    "using LinearAlgebra\n",
    "using Printf\n",
    "using ForwardDiff\n",
    "using JuMP\n",
    "using COSMO\n",
    "using ECOS\n",
    "using Random; "
   ]
  },
  {
   "cell_type": "code",
   "execution_count": 13,
   "id": "6179ca57-b5ff-4274-8391-85d5e728fc16",
   "metadata": {
    "tags": []
   },
   "outputs": [
    {
     "data": {
      "text/plain": [
       "mpc (generic function with 1 method)"
      ]
     },
     "execution_count": 13,
     "metadata": {},
     "output_type": "execute_result"
    }
   ],
   "source": [
    "# -------------------THIS IS ALL ALTRO-------------------------------\n",
    "# This enables goal equality constraints, state and input ineq constraints.\n",
    "\n",
    "function stage_cost(p::NamedTuple,x,u,k)\n",
    "    dx = x - p.Xref[k]\n",
    "    du = u - p.Uref[k]\n",
    "    return 0.5*dx'*p.Q*dx + 0.5*du'*p.R*du\n",
    "end\n",
    "function term_cost(p::NamedTuple,x)\n",
    "    dx = x - p.Xref[p.N]\n",
    "    return 0.5*dx'*p.Qf*dx\n",
    "end\n",
    "function stage_cost_expansion(p::NamedTuple,k)\n",
    "    dx = - p.Xref[k]\n",
    "    du = - p.Uref[k]\n",
    "    return p.Q, p.Q*dx, p.R, p.R*du  # Hessian and gradient\n",
    "end\n",
    "function term_cost_expansion(p::NamedTuple)\n",
    "    dx = - p.Xref[p.N]\n",
    "    return p.Qf, p.Qf*dx\n",
    "end\n",
    "function conic_cost_expansion(p::NamedTuple, u, λc, ρ, k)\n",
    "    λhat = λc # already updated\n",
    "    ∇c = cone_u_jac(p, u)\n",
    "    G = -∇c'*∇projection(λhat)*projection(λhat)\n",
    "    # H = ∇c'*∇projection(λhat)'*∇projection(λhat)*∇c/ρ\n",
    "    H = ∇c'*(∇projection(λhat)'*∇projection(λhat) + ∇²projection(λhat, projection(λhat)))*∇c*ρ\n",
    "    return (G - H*u), H\n",
    "end\n",
    "function backward_pass!(params,X,U,P,p,d,K,reg,μ,μx,ρ,λ,λc)\n",
    "    \"\"\"iLQR backward pass with AL. This !function update its parameters\n",
    "    \"\"\"\n",
    "    N = params.N\n",
    "    ΔJ = 0.0    # expected cost reduction\n",
    "\n",
    "    # terminal cost expansion\n",
    "    P[N], p[N] = term_cost_expansion(params) \n",
    "    \n",
    "    if (params.ncx > 0)\n",
    "        # add AL terms for the state constraint at the final time step\n",
    "        hxv = ineq_con_x(params,X[N])  # h(x) violation  \n",
    "        mask = eval_mask(μx[N],hxv)\n",
    "        ∇hx = ineq_con_x_jac(params,X[N])\n",
    "        # add these into the cost-to-go p and P\n",
    "        μx[N] = μx[N] - ρ*(mask * [params.x_max;-params.x_min])\n",
    "        p[N] += ∇hx'*μx[N]  # multiplier term (1st)\n",
    "        P[N] += ρ*∇hx'*mask*∇hx                # penalty term (2nd)\n",
    "    end\n",
    "    \n",
    "    if (params.ncg > 0)\n",
    "        # add AL terms for goal constraint \n",
    "        ∇hx = diagm(ones(params.nx))\n",
    "        # add these into the CTG p and P (equality active)\n",
    "        λ = λ - ρ*params.Xref[N]\n",
    "        p[N] += ∇hx'*λ \n",
    "        P[N] += ρ*∇hx'∇hx\n",
    "    end\n",
    "    \n",
    "    # iterate from N-1 to 1 backwards\n",
    "    for k = (N-1):(-1):1\n",
    "        # dynamics jacobians (basically linear but still computed)\n",
    "        A = ForwardDiff.jacobian(_x -> discrete_dynamics(params,_x,U[k],k),X[k])\n",
    "        B = ForwardDiff.jacobian(_u -> discrete_dynamics(params,X[k],_u,k),U[k])\n",
    "        f = discrete_dynamics(params,zeros(params.nx),zeros(params.nu),k)\n",
    "\n",
    "        Sxx,Sx,Suu,Su = stage_cost_expansion(params,k)\n",
    "        \n",
    "        # one-step cost expansion: Q, Q*dx, R, R*du\n",
    "        Sx += A' * (P[k+1]*f + p[k+1]) \n",
    "        Su += B' * (P[k+1]*f + p[k+1]) \n",
    "        Sxx += A' * P[k+1] * A\n",
    "        Suu += B' * (P[k+1] + reg*I) * B                                     \n",
    "        Sux = B' * P[k+1] *A  \n",
    "        if (params.ncu > 0)\n",
    "            # control constraints\n",
    "            huv = ineq_con_u(params,U[k])  # calculate h(u) constraint\n",
    "            mask = eval_mask(μ[k],huv)  # choose active\n",
    "            ∇hu = ineq_con_u_jac(params,U[k])\n",
    "            μ[k] .= μ[k] - ρ*(mask * [params.u_max;-params.u_min])\n",
    "            Su  += ∇hu'*μ[k] # add to cost\n",
    "            Suu += ρ*∇hu'*mask*∇hu\n",
    "        end\n",
    "        if (params.ncx > 0)\n",
    "            # state constraints\n",
    "            hxv = ineq_con_x(params,X[k])\n",
    "            mask = eval_mask(μx[k],hxv)\n",
    "            ∇hx = ineq_con_x_jac(params,X[k])\n",
    "            μx[k] .= μx[k] - ρ*(mask * [params.x_max;-params.x_min])\n",
    "            Sx  += ∇hx'*μx[k]\n",
    "            Sxx += ρ*∇hx'*mask*∇hx\n",
    "        end\n",
    "        if (params.ncu_cone > 0)\n",
    "            # conic constraints\n",
    "            Qu, Quu = conic_cost_expansion(params, U[k], λc[k], ρ*cone_scale, k)\n",
    "            # display(Quu)\n",
    "            Su += Qu\n",
    "            Suu += Quu\n",
    "        end\n",
    "        \n",
    "        # Calculate Gains\n",
    "        # for i = 1:10\n",
    "        #     if isposdef(Suu) == 0\n",
    "        #         Suu += reg*I\n",
    "        #     end\n",
    "        # end\n",
    "        F = cholesky(Symmetric(Suu))\n",
    "        d[k] = Suu\\Su\n",
    "        K[k] = Suu\\Sux\n",
    "\n",
    "        # Cost-to-go Recurrence (PSD stabilizing version, last term)\n",
    "        P[k] = Sxx + K[k]'*Suu*K[k] - K[k]'*Sux - Sux'*K[k]\n",
    "        p[k] = Sx + K[k]'*Suu*d[k] - K[k]'*Su - Sux'*d[k]\n",
    "        ΔJ += Su'*d[k]\n",
    "    end\n",
    "\n",
    "    return ΔJ  # but also change params\n",
    "end\n",
    "function forward_pass!(params,X,U,K,d,ΔJ,Xn,Un,μ,μx,ρ,λ)\n",
    "    \"\"\"iLQR forward pass and line-search\n",
    "    This !function update its parameters\n",
    "    \"\"\"\n",
    "    N = params.N\n",
    "        # Forward Rollout\n",
    "        for k = 1:(N-1)\n",
    "            Un[k] = - d[k] - K[k]*Xn[k] \n",
    "            Xn[k+1] = discrete_dynamics(params,Xn[k],Un[k],k)\n",
    "        end\n",
    "    X .= Xn\n",
    "    U .= Un\n",
    "    return 0, 0\n",
    "end\n",
    "function eval_mask(μv,huv)  \n",
    "    # Extract active inequality constraints\n",
    "    # active set mask\n",
    "    mask = Diagonal(zeros(length(huv)))\n",
    "    for i = 1:length(huv)\n",
    "        mask[i,i] = (μv[i] > 0 || huv[i] > 0)\n",
    "    end\n",
    "    mask\n",
    "end\n",
    "function mpc(params,X,U,P,p,K,d,Xn,Un;atol=1e-3,max_iters=250,verbose=true,ρ=1,ρmax=1e8,ϕ=10)\n",
    "\n",
    "    # first check the sizes of everything\n",
    "    # @assert length(X) == params.N\n",
    "    # @assert length(U) == params.N-1\n",
    "    # @assert length(X[1]) == params.nx\n",
    "    # @assert length(U[1]) == params.nu\n",
    "\n",
    "    # initial rollout\n",
    "    N = params.N\n",
    "    for i = 1:N-1\n",
    "        X[i+1] = discrete_dynamics(params,X[i],U[i],i)\n",
    "    end\n",
    "\n",
    "    reg_min = 0*1e-8\n",
    "    reg = reg_min\n",
    "\n",
    "    μ = params.μ   # input constraints\n",
    "    μx = params.μx    # state constraints\n",
    "    λ = params.λ    # goal constraint\n",
    "    λc = params.λc   # goal constraint\n",
    "    \n",
    "    # Inner loop to solve unconstrained problem (Riccati)\n",
    "    for iter = 1:max_iters        \n",
    "        J = 0.0\n",
    "        ΔJ = 0.0\n",
    "        α = 1.0\n",
    "        for i = 1:1\n",
    "            ΔJ = backward_pass!(params,X,U,P,p,d,K,reg,μ,μx,ρ,λ,λc)\n",
    "            J, α = forward_pass!(params,X,U,K,d,ΔJ,Xn,Un,μ,μx,ρ,λ)\n",
    "        end\n",
    "\n",
    "        if verbose\n",
    "            if rem(iter-1,10)==0\n",
    "                @printf \"iter     J           ΔJ        |d|         α        reg         ρ\\n\"\n",
    "                @printf \"---------------------------------------------------------------------\\n\"\n",
    "            end\n",
    "            @printf(\"%3d   %10.3e  %9.2e  %9.2e  %6.4f   %9.2e   %9.2e\\n\",\n",
    "              iter, J, ΔJ, 0, α, reg, ρ)\n",
    "        end\n",
    "        # update multipliers and check constraint violation, max of all\n",
    "        convio = 0.0  \n",
    "        \n",
    "        if (params.ncu > 0)\n",
    "            # control constraints (inequality)\n",
    "            for k = 1:N-1\n",
    "                huv = ineq_con_u(params,U[k])\n",
    "                mask = eval_mask(μ[k],huv)\n",
    "                # update dual?\n",
    "                convio = max(convio,norm(huv + abs.(huv),Inf))\n",
    "                # μ[k] .= max.(0,μ[k] - ρ*(mask * [params.u_max;-params.u_min]))\n",
    "            end\n",
    "        end\n",
    "        if (params.ncx > 0)\n",
    "            # state constraints (inequality)\n",
    "            for k = 1:N\n",
    "                hxv = ineq_con_x(params,X[k])\n",
    "                mask = eval_mask(μx[k],hxv)\n",
    "                # update dual\n",
    "                convio = max(convio,norm(hxv + abs.(hxv),Inf))\n",
    "                # @show μx[k] .= max.(0,μx[k] - ρ*(mask * [params.x_max;-params.x_min]))                \n",
    "            end\n",
    "        end\n",
    "        if (params.ncu_cone > 0)\n",
    "            # conic constraints \n",
    "            if verbose\n",
    "                print(\"update cone\\n\")\n",
    "            end            \n",
    "            for k = 1:N-1\n",
    "                # update dual\n",
    "                Uc = cone_u(params, U[k])\n",
    "                huc = norm(Uc[1:2]) - Uc[3]\n",
    "                convio = max(convio, norm(huc + abs.(huc),Inf))\n",
    "                λc[k] = projection(λc[k] - Uc*cone_scale*ρ)\n",
    "                # display(λc[k])\n",
    "            end\n",
    "        end\n",
    "        if (params.ncg > 0)\n",
    "            # goal constraint (equality)\n",
    "            hxv = X[N] - params.Xref[N]\n",
    "            # λ .-= ρ*params.Xref[N]\n",
    "            convio = max(convio, norm(hxv,Inf))\n",
    "        end\n",
    "        \n",
    "        ρ *= ϕ  # update penalty\n",
    "        \n",
    "        if verbose\n",
    "            @show convio\n",
    "        end\n",
    "        if convio < atol  # if terminal condition with contraint violation\n",
    "            # print(\"Our solver says SUCCESS\\n\") # @info \"success!\"\n",
    "            return U[1]\n",
    "        end\n",
    "        if ρ > ρmax\n",
    "            print(\"Our solver reachs MAX PENALTY\\n\")\n",
    "            return U[1]\n",
    "        end\n",
    "    end\n",
    "    print(\"Our solver says INFEASIBLE and MAX ITER\\n\")\n",
    "    return U[1]\n",
    "end\n",
    "#----------------------ALTRO DONE --------------------------"
   ]
  },
  {
   "cell_type": "code",
   "execution_count": 14,
   "id": "3ab28117",
   "metadata": {},
   "outputs": [
    {
     "data": {
      "text/plain": [
       "1"
      ]
     },
     "execution_count": 14,
     "metadata": {},
     "output_type": "execute_result"
    }
   ],
   "source": [
    "# -------------------THIS IS ALL ALTRO-------------------------------\n",
    "# This enables goal equality constraints, state and input ineq constraints.\n",
    "function stage_cost(p::NamedTuple,x,u,k)\n",
    "  dx = x - p.Xref[k]\n",
    "  du = u - p.Uref[k]\n",
    "  return 0.5*dx'*p.Q*dx + 0.5*du'*p.R*du\n",
    "end\n",
    "function term_cost(p::NamedTuple,x)\n",
    "  dx = x - p.Xref[p.N]\n",
    "  return 0.5*dx'*p.Qf*dx\n",
    "end\n",
    "function stage_cost_expansion(p::NamedTuple,k)\n",
    "  dx = - p.Xref[k]\n",
    "  du = - p.Uref[k]\n",
    "  return p.Q, p.Q*dx, p.R, p.R*du  # Hessian and gradient\n",
    "end\n",
    "function term_cost_expansion(p::NamedTuple)\n",
    "  dx = - p.Xref[p.N]\n",
    "  return p.Qf, p.Qf*dx\n",
    "end\n",
    "function conic_cost_expansion(p::NamedTuple, u, λc, ρ, k)\n",
    "    Uc = cone_u(params, u)\n",
    "    λhat = 1*λc # already updated\n",
    "    # λhat = 1*projection(λc - Uc*cone_scale*ρ)\n",
    "    ∇c = cone_u_jac(p, u)\n",
    "    G = -∇c'*∇projection(λhat)*projection(λhat)\n",
    "    # H = ∇c'*∇projection(λhat)'*∇projection(λhat)*∇c*ρ\n",
    "    H = ∇c'*(∇projection(λhat)'*∇projection(λhat) + ∇²projection(λhat, projection(λhat)))*∇c*ρ\n",
    "    return (G - H*u), H\n",
    "end\n",
    "function backward_pass!(params,X,U,P,p,d,K,reg,μ,μx,ρ,λ,λc)\n",
    "  \"\"\"iLQR backward pass with AL. This !function update its parameters\n",
    "  \"\"\"\n",
    "  N = params.N\n",
    "  ΔJ = 0.0    # expected cost reduction\n",
    "\n",
    "  # terminal cost expansion\n",
    "  P[N], p[N] = term_cost_expansion(params) \n",
    "  \n",
    "  if (params.ncx > 0)\n",
    "      # # add AL terms for the state constraint at the final time step\n",
    "      hxv = ineq_con_x(params,X[N])  # h(x) violation  \n",
    "      mask = eval_mask(μx[N],hxv)\n",
    "      ∇hx = ineq_con_x_jac(params,X[N])\n",
    "      # add these into the cost-to-go p and P\n",
    "      p[N]  += ∇hx'*(μx[N] - ρ*(mask * [params.x_max;-params.x_min]))  # multiplier term (1st)\n",
    "      P[N]  += ρ*∇hx'*mask*∇hx                # penalty term (2nd)\n",
    "  end\n",
    "  \n",
    "  if (params.ncg > 0)\n",
    "      # add AL terms for goal constraint \n",
    "      ∇hx = diagm(ones(params.nx))\n",
    "      # add these into the CTG p and P (equality active)\n",
    "      p[N]  += ∇hx'*(λ - ρ*params.Xref[N])   \n",
    "      P[N]  += ρ*∇hx'∇hx\n",
    "  end\n",
    "  \n",
    "  # iterate from N-1 to 1 backwards\n",
    "  for k = (N-1):(-1):1\n",
    "      # dynamics jacobians (linearization about previous iterate)\n",
    "      A = ForwardDiff.jacobian(_x -> discrete_dynamics(params,_x,U[k],k),X[k])\n",
    "      B = ForwardDiff.jacobian(_u -> discrete_dynamics(params,X[k],_u,k),U[k])\n",
    "      f = discrete_dynamics(params,zeros(params.nx),zeros(params.nu),k)\n",
    "      Sxx,Sx,Suu,Su = stage_cost_expansion(params,k)\n",
    "      \n",
    "      # one-step cost expansion: Q, Q*dx, R, R*du\n",
    "      Sx += A' * (P[k+1]*f + p[k+1]) \n",
    "      Su += B' * (P[k+1]*f + p[k+1]) \n",
    "      Sxx += A'*(P[k+1])*A\n",
    "      Suu += B'*(P[k+1] + reg*I)*B                                     \n",
    "      Sux = B'*(P[k+1])*A  \n",
    "      if (params.ncu > 0)\n",
    "          # control constraints\n",
    "          huv = ineq_con_u(params,U[k])  # calculate h(u) constraint\n",
    "          mask = eval_mask(μ[k],huv)  # choose active\n",
    "          ∇hu = ineq_con_u_jac(params,U[k])\n",
    "          Su  += ∇hu'*(μ[k] - ρ*(mask * [params.u_max;-params.u_min])) # add to cost\n",
    "          Suu += ρ*∇hu'*mask*∇hu\n",
    "      end\n",
    "      if (params.ncx > 0)\n",
    "          # state constraints\n",
    "          hxv = ineq_con_x(params,X[k])\n",
    "          mask = eval_mask(μx[k],hxv)\n",
    "          ∇hx = ineq_con_x_jac(params,X[k])\n",
    "          Sx  += ∇hx'*(μx[k] - ρ*(mask * [params.x_max;-params.x_min]))\n",
    "          Sxx += ρ*∇hx'*mask*∇hx\n",
    "      end\n",
    "      if (params.ncu_cone > 0)\n",
    "          # conic constraints\n",
    "          Qu, Quu = conic_cost_expansion(params, U[k], λc[k], ρ*cone_scale, k)\n",
    "          # display(Quu)\n",
    "          Su += Qu\n",
    "          Suu += Quu\n",
    "      end\n",
    "      \n",
    "      # Calculate Gains\n",
    "      # if isposdef(Suu) == 0\n",
    "      #     for i = 1:10\n",
    "      #         Suu += reg*I\n",
    "      #         if isposdef(Suu) == 1\n",
    "      #             break\n",
    "      #         end\n",
    "      #     end\n",
    "      # end\n",
    "          \n",
    "      F = cholesky(Symmetric(Suu))\n",
    "      d[k] = F\\Su\n",
    "      K[k] = F\\Sux\n",
    "\n",
    "      # Cost-to-go Recurrence (PSD stabilizing version, last term)\n",
    "      P[k] = Sxx + K[k]'*Suu*K[k] - K[k]'*Sux - Sux'*K[k]\n",
    "      p[k] = Sx + K[k]'*Suu*d[k] - K[k]'*Su - Sux'*d[k]\n",
    "      ΔJ += Su'*d[k]\n",
    "  end\n",
    "\n",
    "  return ΔJ  # but also change params\n",
    "end\n",
    "function trajectory_AL_cost(params,X,U,μ,μx,ρ,λ,λc)\n",
    "    N = params.N\n",
    "    J = 0.0\n",
    "    for k = 1:N-1\n",
    "        J += stage_cost(params,X[k],U[k],k)\n",
    "        if params.ncu > 0\n",
    "            # AL terms for ineq_con_u\n",
    "            huv = ineq_con_u(params,U[k])\n",
    "            mask = eval_mask(μ[k],huv)\n",
    "            J += dot(μ[k],huv) + 0.5*ρ*huv'*mask*huv\n",
    "        end\n",
    "        if params.ncx > 0\n",
    "            # AL terms for ineq_con_x\n",
    "            hxv = ineq_con_x(params,X[k])\n",
    "            mask = eval_mask(μx[k],hxv)\n",
    "            J += dot(μx[k],hxv) + 0.5*ρ*hxv'*mask*hxv\n",
    "        end\n",
    "        if params.ncu_cone > 0\n",
    "            Uc = cone_u(params, U[k])\n",
    "            λhat = 1*projection(λc[k] - Uc*cone_scale*ρ)\n",
    "            J += (0.5/ρ)*(λhat'*λhat - λc[k]'*λc[k])\n",
    "        end\n",
    "\n",
    "    end\n",
    "    if params.ncx > 0\n",
    "    # AL terms for state constraint at last time step\n",
    "    J += term_cost(params,X[N])\n",
    "    hxv = ineq_con_x(params,X[params.N])\n",
    "    mask = eval_mask(μx[params.N],hxv)\n",
    "    J += dot(μx[params.N],hxv) + 0.5*ρ*hxv'*mask*hxv\n",
    "    end\n",
    "    if params.ncg > 0\n",
    "    # AL terms for goal constraint\n",
    "    hxv = X[N] - params.Xref[N]\n",
    "    J += dot(λ,hxv) + 0.5*ρ*hxv'*hxv\n",
    "    end\n",
    "    return J\n",
    "end\n",
    "function forward_pass!(params,X,U,K,d,ΔJ,Xn,Un,μ,μx,ρ,λ,λc; max_linesearch_iters=20)\n",
    "  \"\"\"iLQR forward pass and line-search\n",
    "  This !function update its parameters\n",
    "  \"\"\"\n",
    "  N = params.N\n",
    "  # Forward Rollout\n",
    "  J = trajectory_AL_cost(params,X,U,μ,μx,ρ,λ,λc)\n",
    "  for k = 1:(N-1)\n",
    "      Un[k] = - d[k] - K[k]*Xn[k] \n",
    "      Xn[k+1] = discrete_dynamics(params,Xn[k],Un[k],k)\n",
    "  end\n",
    "  Jn = trajectory_AL_cost(params,Xn,Un,μ,μx,ρ,λ,λc)\n",
    "  ΔJ = J - Jn\n",
    "  X .= Xn\n",
    "  U .= Un\n",
    "  return Jn, ΔJ\n",
    "end\n",
    "function eval_mask(μv,huv)  \n",
    "  # Extract active inequality constraints\n",
    "  # active set mask\n",
    "  mask = Diagonal(zeros(length(huv)))\n",
    "  for i = 1:length(huv)\n",
    "      mask[i,i] = (μv[i] > 0 || huv[i] > 0)\n",
    "  end\n",
    "  mask\n",
    "end\n",
    "function mpc(params,X,U,P,p,K,d,Xn,Un;atol=1e-3,max_iters=250,verbose=true,ρ=1,ρ_max=1e8,ϕ=10)\n",
    "  \n",
    "  # first check the sizes of everything\n",
    "  # @assert length(X) == params.N\n",
    "  # @assert length(U) == params.N-1\n",
    "  # @assert length(X[1]) == params.nx\n",
    "  # @assert length(U[1]) == params.nu\n",
    "\n",
    "  # initial rollout\n",
    "  N = params.N\n",
    "  for i = 1:N-1\n",
    "      X[i+1] = discrete_dynamics(params,X[i],U[i],i)\n",
    "  end\n",
    "\n",
    "  reg_min = 1e-8\n",
    "  reg = reg_min\n",
    "\n",
    "  μ = params.μ\n",
    "  μx = params.μx\n",
    "  λ = params.λ\n",
    "  λc = params.λc\n",
    "  \n",
    "  # Inner loop to solve unconstrained problem (Riccati)\n",
    "  for iter = 1:max_iters      \n",
    "      J = 0.0\n",
    "      ΔJ = 0.0\n",
    "      α = 1.0\n",
    "      for i = 1:max_inner_iters\n",
    "          ΔJ = backward_pass!(params,X,U,P,p,d,K,reg,μ,μx,ρ,λ,λc)\n",
    "          J, ΔJ = forward_pass!(params,X,U,K,d,ΔJ,Xn,Un,μ,μx,ρ,λ,λc)\n",
    "          @show ΔJ\n",
    "          if 0.0 <= ΔJ <= 1.0 \n",
    "            break\n",
    "          end\n",
    "      end\n",
    "\n",
    "      if verbose\n",
    "          if rem(iter-1,10)==0\n",
    "              @printf \"iter     J           ΔJ        |d|         α        reg         ρ\\n\"\n",
    "              @printf \"---------------------------------------------------------------------\\n\"\n",
    "          end\n",
    "          @printf(\"%3d   %10.3e  %9.2e  %9.2e  %6.4f   %9.2e   %9.2e\\n\",\n",
    "            iter, J, ΔJ, 0, α, reg, ρ)\n",
    "      end\n",
    "      # update multipliers and check constraint violation, max of all\n",
    "      convio = 0  \n",
    "      \n",
    "      if (params.ncu > 0)\n",
    "          # control constraints (inequality)\n",
    "          for k = 1:N-1\n",
    "              huv = ineq_con_u(params,U[k])\n",
    "              mask = eval_mask(μ[k],huv)\n",
    "              # update dual\n",
    "              convio = max(convio,norm(huv + abs.(huv),Inf))\n",
    "              μ[k] .= max.(0,μ[k] - ρ*(mask * [params.u_max;-params.u_min]))\n",
    "          end\n",
    "      end\n",
    "      if (params.ncx > 0)\n",
    "          # state constraints (inequality)\n",
    "          for k = 1:N\n",
    "              hxv = ineq_con_x(params,X[k])\n",
    "              mask = eval_mask(μx[k],hxv)\n",
    "              # update dual\n",
    "              convio = max(convio,norm(hxv + abs.(hxv),Inf))\n",
    "              μx[k] .= max.(0,μx[k] - ρ*(mask * [params.x_max;-params.x_min]))                \n",
    "          end\n",
    "      end\n",
    "      if (params.ncu_cone > 0)\n",
    "          # conic constraints \n",
    "          if verbose\n",
    "              print(\"update cone\\n\")\n",
    "          end            \n",
    "          for k = 1:N-1\n",
    "              # update dual\n",
    "              Uc = cone_u(params, U[k])\n",
    "              huc = norm(Uc[1:2]) - Uc[3]\n",
    "              convio = max(convio, norm(huc + abs.(huc),Inf))\n",
    "              λc[k] .= projection(λc[k] - Uc*cone_scale*ρ)\n",
    "              # display(λc[k])\n",
    "          end\n",
    "      end\n",
    "      if (params.ncg > 0)\n",
    "          # goal constraint (equality)\n",
    "          hxv = X[N] - params.Xref[N]\n",
    "          λ .-= ρ*params.Xref[N]\n",
    "          convio = max(convio, norm(hxv,Inf))\n",
    "      end\n",
    "      \n",
    "      ρ *= ϕ  # update penalty\n",
    "      \n",
    "      if verbose\n",
    "          @show convio\n",
    "      end\n",
    "      if convio < atol  # if terminal condition with contraint violation\n",
    "          # print(\"Our solver says SUCCESS\\n\") # @info \"success!\"\n",
    "          return U[1]\n",
    "      end\n",
    "      if ρ > ρ_max\n",
    "          print(\"Our solver reachs MAX PENALTY\\n\")\n",
    "          return U[1]\n",
    "      end\n",
    "  end\n",
    "  print(\"Our solver says INFEASIBLE and MAX ITER\\n\")\n",
    "  return U[1]\n",
    "end\n",
    "\n",
    "affine = 1  # SOLVE AFFINE DYNAMICS"
   ]
  },
  {
   "cell_type": "code",
   "execution_count": 21,
   "id": "ff9a97a1-b963-4f01-9223-eee0c5682b7d",
   "metadata": {
    "tags": []
   },
   "outputs": [
    {
     "data": {
      "text/plain": [
       "∇²projection (generic function with 1 method)"
      ]
     },
     "execution_count": 21,
     "metadata": {},
     "output_type": "execute_result"
    }
   ],
   "source": [
    "# =============================\n",
    "# Example problem formulation and solve\n",
    "# =============================\n",
    "\n",
    "# ---------------------THIS IS WHAT YOU NEED TO INPUT--------\n",
    "A = [1.0 0.0 0.0 0.05 0.0 0.0; \n",
    "0.0 1.0 0.0 0.0 0.05 0.0; \n",
    "0.0 0.0 1.0 0.0 0.0 0.05; \n",
    "0.0 0.0 0.0 1.0 0.0 0.0; \n",
    "0.0 0.0 0.0 0.0 1.0 0.0; \n",
    "0.0 0.0 0.0 0.0 0.0 1.0]\n",
    "B = [0.000125 0.0 0.0; \n",
    "0.0 0.000125 0.0;\n",
    "0.0 0.0 0.000125; \n",
    "0.005 0.0 0.0; \n",
    "0.0 0.005 0.0; \n",
    "0.0 0.0 0.005]\n",
    "f = [0.0, 0.0, -0.0122625, 0.0, 0.0, -0.4905]*affine\n",
    "function discrete_dynamics(p::NamedTuple,x,u,k)\n",
    "    A = [1.0 0.0 0.0 0.05 0.0 0.0; \n",
    "        0.0 1.0 0.0 0.0 0.05 0.0; \n",
    "        0.0 0.0 1.0 0.0 0.0 0.05; \n",
    "        0.0 0.0 0.0 1.0 0.0 0.0; \n",
    "        0.0 0.0 0.0 0.0 1.0 0.0; \n",
    "        0.0 0.0 0.0 0.0 0.0 1.0]\n",
    "    B = [0.000125 0.0 0.0; \n",
    "        0.0 0.000125 0.0;\n",
    "        0.0 0.0 0.000125; \n",
    "        0.005 0.0 0.0; \n",
    "        0.0 0.005 0.0; \n",
    "        0.0 0.0 0.005]\n",
    "    f = [0.0, 0.0, -0.0122625, 0.0, 0.0, -0.4905]\n",
    "    return A*x + B*u + f*affine\n",
    "end\n",
    "function ineq_con_x(p,x)\n",
    "    [x-p.x_max;-x + p.x_min]\n",
    "end\n",
    "function ineq_con_u(p,u)\n",
    "    [u-p.u_max;-u + p.u_min]\n",
    "end\n",
    "function cone_u(p, u)\n",
    "    [p.A_cone*u;p.c_cone'*u]\n",
    "end\n",
    "function cone_u_jac(p, u)\n",
    "    J = zeros(p.nu, p.nu)\n",
    "    J[1:end-1,1:end] .= p.A_cone\n",
    "    J[end,1:end] .= p.c_cone\n",
    "    return J\n",
    "end\n",
    "function ineq_con_u_jac(params,u)\n",
    "    ForwardDiff.jacobian(_u -> ineq_con_u(params,_u), u)\n",
    "end\n",
    "function ineq_con_x_jac(p,x)\n",
    "    ForwardDiff.jacobian(_x -> ineq_con_x(p,_x),x)\n",
    "end\n",
    "function projection(x)\n",
    "    # assumes x is stacked [v; s] such that ||v||₂ ≤ s\n",
    "    n = length(x)\n",
    "    v = view(x, 1:n-1)\n",
    "    s = x[end]\n",
    "    a = norm(v)\n",
    "    if a <= -s          # below the cone \n",
    "        return zero(x) \n",
    "    elseif a <= s       # in the cone\n",
    "        return x\n",
    "    elseif a >= abs(s)  # outside the cone \n",
    "        return 0.5 * (1 + s/a) * [v; a]\n",
    "    else\n",
    "        throw(ErrorException(\"Invalid second-order cone projection\"))  # Nan\n",
    "    end\n",
    "end\n",
    "function ∇projection(x)\n",
    "    n = length(x)\n",
    "    J = zeros(eltype(x),n,n)\n",
    "    s = x[end]\n",
    "    v = view(x,1:n-1)\n",
    "    a = norm(v)\n",
    "    if a <= -s\n",
    "        return J  # zeros\n",
    "    elseif a <= s\n",
    "        J .= I(n)  \n",
    "        return J  # identity\n",
    "    elseif a >= abs(s)\n",
    "        c = 0.5 * (1 + s/a)\n",
    "\n",
    "        # dvdv ok!\n",
    "        for i = 1:n-1, j = 1:n-1\n",
    "            J[i,j] = -0.5*s/a^3 * v[i] * v[j]\n",
    "            if i == j\n",
    "                J[i,j] += c\n",
    "            end\n",
    "        end\n",
    "\n",
    "        # dvds ok!\n",
    "        for i = 1:n-1\n",
    "            J[i,n] = 0.5 * v[i] / a\n",
    "        end\n",
    "\n",
    "        # dsdv ok!\n",
    "        for i = 1:n-1\n",
    "            J[n,i] = ((-0.5*s/a^2) + c/a) * v[i]\n",
    "        end\n",
    "        J[n,n] = 0.5  # ok\n",
    "        return J\n",
    "    else\n",
    "        error(\"Invalid second-order cone projection.\")\n",
    "    end\n",
    "    return J\n",
    "end\n",
    "function ∇projection(x) \n",
    "    n = length(x)\n",
    "    v = view(x, 1:n-1)\n",
    "    s = x[end]\n",
    "    a = norm(v)\n",
    "    J = zeros(n, n)\n",
    "    if a <= -s                               # below cone\n",
    "        J .*= 0\n",
    "    elseif a <= s                            # in cone\n",
    "        J .*= 0\n",
    "        for i = 1:n\n",
    "            J[i,i] = 1.0\n",
    "        end\n",
    "    elseif a >= abs(s)                       # outside cone\n",
    "        # scalar\n",
    "        c = 0.5 * (1 + s/a)   \n",
    "\n",
    "        # dvdv = dbdv * v' + c * oneunit(SMatrix{n-1,n-1,T})\n",
    "        for i = 1:n-1, j = 1:n-1\n",
    "            J[i,j] = -0.5*s/a^3 * v[i] * v[j]\n",
    "            if i == j\n",
    "                J[i,j] += c\n",
    "            end\n",
    "        end\n",
    "\n",
    "        # dvds\n",
    "        for i = 1:n-1\n",
    "            J[i,n] = 0.5 * v[i] / a\n",
    "        end\n",
    "\n",
    "        # ds\n",
    "        for i = 1:n-1\n",
    "            J[n,i] = ((-0.5*s/a^2) + c/a) * v[i]\n",
    "        end\n",
    "        J[n,n] = 0.5 \n",
    "    else\n",
    "        throw(ErrorException(\"Invalid second-order cone projection\"))\n",
    "    end\n",
    "    return J\n",
    "end\n",
    "function ∇²projection(x, b)\n",
    "    # x is lamda_bar, b is projection(lambda_bar)\n",
    "    n = length(x)\n",
    "    hess = zeros(eltype(x),n,n)\n",
    "    v = view(x, 1:n-1)\n",
    "    bv = view(b, 1:n-1)\n",
    "\n",
    "    # @assert size(hess) == (n+1,n+1)\n",
    "    s = x[end]\n",
    "    bs = b[end]\n",
    "    a =  norm(v)\n",
    "    vbv = dot(v,bv)\n",
    "\n",
    "    if a <= -s\n",
    "        return hess .= 0\n",
    "    elseif a <= s\n",
    "        return hess .= 0\n",
    "    elseif a > abs(s)\n",
    "        # Original equations from chain rule\n",
    "        # dvdv = -s/norm(v)^2/norm(v)*(I - (v*v')/(v'v))*bv*v' + \n",
    "        #     s/norm(v)*((v*(v'bv))/(v'v)^2 * 2v' - (I*(v'bv) + v*bv')/(v'v)) + \n",
    "        #     bs/norm(v)*(I - (v*v')/(v'v))\n",
    "        # dvds = 1/norm(v)*(I - (v*v')/(v'v))*bv;\n",
    "        # # display(dvds)\n",
    "        # # display(dvdv)\n",
    "        # hess[1:n-1,1:n-1] .= dvdv*0.5\n",
    "        # hess[1:n-1,n] .= dvds*0.5\n",
    "        # hess[n:n,1:n-1] .= 0.5*dvds'\n",
    "        # hess[n,n] = 0\n",
    "        # return hess\n",
    "\n",
    "        # The following is just an unrolled version of the above\n",
    "        n = n - 1\n",
    "        dvdv = view(hess, 1:n, 1:n)\n",
    "        dvds = view(hess, 1:n, n+1)\n",
    "        dsdv = view(hess, n+1, 1:n)\n",
    "        @inbounds for i = 1:n\n",
    "            hi = 0\n",
    "            @inbounds for j = 1:n\n",
    "                Hij = -v[i]*v[j] / a^2\n",
    "                if i == j\n",
    "                    Hij += 1\n",
    "                end\n",
    "                hi += Hij * bv[j]\n",
    "            end\n",
    "            dvds[i] = hi / 2a\n",
    "            dsdv[i] = dvds[i]\n",
    "            @inbounds for j = 1:i\n",
    "                vij = v[i] * v[j]\n",
    "                H1 = hi * v[j] * (-s/a^3)\n",
    "                H2 = vij * (2*vbv) / a^4 - v[i] * bv[j] / a^2\n",
    "                H3 = -vij / a^2\n",
    "                if i == j\n",
    "                    H2 -= vbv / a^2\n",
    "                    H3 += 1\n",
    "                end\n",
    "                H2 *= s/a\n",
    "                H3 *= bs/a\n",
    "                dvdv[i,j] = (H1 + H2 + H3) / 2\n",
    "                dvdv[j,i] = dvdv[i,j]\n",
    "            end\n",
    "        end\n",
    "        hess[end,end] = 0\n",
    "        return hess\n",
    "    else\n",
    "        throw(ErrorException(\"Invalid second-order cone projection\"))\n",
    "    end\n",
    "end"
   ]
  },
  {
   "cell_type": "code",
   "execution_count": 23,
   "id": "f4edd7a6-7756-43ee-a37b-f91abdd18650",
   "metadata": {},
   "outputs": [
    {
     "name": "stdout",
     "output_type": "stream",
     "text": [
      "ΔJ = 4.03904008243794e7\n",
      "ΔJ = 0.0\n",
      "iter     J           ΔJ        |d|         α        reg         ρ\n",
      "---------------------------------------------------------------------\n",
      "  1    1.262e+06   0.00e+00   0.00e+00  1.0000    1.00e-08    1.00e-02\n",
      "convio = 25.70540363407883\n",
      "ΔJ = -59.816445698263124\n",
      "ΔJ = 0.0\n",
      "  2    1.262e+06   0.00e+00   0.00e+00  1.0000    1.00e-08    1.00e-01\n",
      "convio = 25.687408982081863\n",
      "ΔJ = -589.9369846205227\n",
      "ΔJ = 0.0\n",
      "  3    1.263e+06   0.00e+00   0.00e+00  1.0000    1.00e-08    1.00e+00\n",
      "convio = 25.50869784510975\n",
      "ΔJ = -5143.123241520021\n",
      "ΔJ = 0.0\n",
      "  4    1.274e+06   0.00e+00   0.00e+00  1.0000    1.00e-08    1.00e+01\n",
      "convio = 23.837171754411823\n",
      "ΔJ = -12109.054997113533\n",
      "ΔJ = 0.0\n",
      "  5    1.336e+06   0.00e+00   0.00e+00  1.0000    1.00e-08    1.00e+02\n",
      "convio = 19.76904837417863\n",
      "ΔJ = 141759.79754503164\n",
      "ΔJ = 0.0\n",
      "  6    1.458e+06   0.00e+00   0.00e+00  1.0000    1.00e-08    1.00e+03\n",
      "convio = 9.73699998035871\n",
      "ΔJ = 358297.3849114883\n",
      "ΔJ = 0.0\n",
      "  7    1.540e+06   0.00e+00   0.00e+00  1.0000    1.00e-08    1.00e+04\n",
      "convio = 1.7524009916403547\n",
      "ΔJ = 123077.4265009875\n",
      "ΔJ = 0.0\n",
      "  8    1.555e+06   0.00e+00   0.00e+00  1.0000    1.00e-08    1.00e+05\n",
      "convio = 0.19103845332667552\n",
      "ΔJ = 14766.395814151969\n",
      "ΔJ = 0.0\n",
      "  9    1.557e+06   0.00e+00   0.00e+00  1.0000    1.00e-08    1.00e+06\n",
      "convio = 0.019278327078015245\n",
      "ΔJ = 1505.2345987970475\n",
      "ΔJ = 0.0\n",
      " 10    1.557e+06   0.00e+00   0.00e+00  1.0000    1.00e-08    1.00e+07\n",
      "convio = 0.0019295957742205272\n",
      "ΔJ = 150.81399726960808\n",
      "ΔJ = 0.0\n",
      "iter     J           ΔJ        |d|         α        reg         ρ\n",
      "---------------------------------------------------------------------\n",
      " 11    1.557e+06   0.00e+00   0.00e+00  1.0000    1.00e-08    1.00e+08\n",
      "convio = 0.00019297722653111027\n",
      "ΔJ = 15.084309754194692\n",
      "ΔJ = 0.0\n",
      " 12    1.557e+06   0.00e+00   0.00e+00  1.0000    1.00e-08    1.00e+09\n",
      "convio = 1.9297899159664844e-5\n"
     ]
    },
    {
     "data": {
      "image/svg+xml": "<?xml version=\"1.0\" encoding=\"utf-8\"?>\n<svg xmlns=\"http://www.w3.org/2000/svg\" xmlns:xlink=\"http://www.w3.org/1999/xlink\" width=\"600\" height=\"400\" viewBox=\"0 0 2400 1600\">\n<defs>\n  <clipPath id=\"clip240\">\n    <rect x=\"0\" y=\"0\" width=\"2400\" height=\"1600\"/>\n  </clipPath>\n</defs>\n<path clip-path=\"url(#clip240)\" d=\"M0 1600 L2400 1600 L2400 0 L0 0  Z\" fill=\"#ffffff\" fill-rule=\"evenodd\" fill-opacity=\"1\"/>\n<defs>\n  <clipPath id=\"clip241\">\n    <rect x=\"480\" y=\"0\" width=\"1681\" height=\"1600\"/>\n  </clipPath>\n</defs>\n<path clip-path=\"url(#clip240)\" d=\"M210.977 1423.18 L2352.76 1423.18 L2352.76 123.472 L210.977 123.472  Z\" fill=\"#ffffff\" fill-rule=\"evenodd\" fill-opacity=\"1\"/>\n<defs>\n  <clipPath id=\"clip242\">\n    <rect x=\"210\" y=\"123\" width=\"2143\" height=\"1301\"/>\n  </clipPath>\n</defs>\n<polyline clip-path=\"url(#clip242)\" style=\"stroke:#000000; stroke-linecap:round; stroke-linejoin:round; stroke-width:2; stroke-opacity:0.1; fill:none\" points=\"271.594,1423.18 271.594,123.472 \"/>\n<polyline clip-path=\"url(#clip242)\" style=\"stroke:#000000; stroke-linecap:round; stroke-linejoin:round; stroke-width:2; stroke-opacity:0.1; fill:none\" points=\"945.109,1423.18 945.109,123.472 \"/>\n<polyline clip-path=\"url(#clip242)\" style=\"stroke:#000000; stroke-linecap:round; stroke-linejoin:round; stroke-width:2; stroke-opacity:0.1; fill:none\" points=\"1618.62,1423.18 1618.62,123.472 \"/>\n<polyline clip-path=\"url(#clip242)\" style=\"stroke:#000000; stroke-linecap:round; stroke-linejoin:round; stroke-width:2; stroke-opacity:0.1; fill:none\" points=\"2292.14,1423.18 2292.14,123.472 \"/>\n<polyline clip-path=\"url(#clip240)\" style=\"stroke:#000000; stroke-linecap:round; stroke-linejoin:round; stroke-width:4; stroke-opacity:1; fill:none\" points=\"210.977,1423.18 2352.76,1423.18 \"/>\n<polyline clip-path=\"url(#clip240)\" style=\"stroke:#000000; stroke-linecap:round; stroke-linejoin:round; stroke-width:4; stroke-opacity:1; fill:none\" points=\"271.594,1423.18 271.594,1404.28 \"/>\n<polyline clip-path=\"url(#clip240)\" style=\"stroke:#000000; stroke-linecap:round; stroke-linejoin:round; stroke-width:4; stroke-opacity:1; fill:none\" points=\"945.109,1423.18 945.109,1404.28 \"/>\n<polyline clip-path=\"url(#clip240)\" style=\"stroke:#000000; stroke-linecap:round; stroke-linejoin:round; stroke-width:4; stroke-opacity:1; fill:none\" points=\"1618.62,1423.18 1618.62,1404.28 \"/>\n<polyline clip-path=\"url(#clip240)\" style=\"stroke:#000000; stroke-linecap:round; stroke-linejoin:round; stroke-width:4; stroke-opacity:1; fill:none\" points=\"2292.14,1423.18 2292.14,1404.28 \"/>\n<path clip-path=\"url(#clip240)\" d=\"M271.594 1454.1 Q267.983 1454.1 266.154 1457.66 Q264.348 1461.2 264.348 1468.33 Q264.348 1475.44 266.154 1479.01 Q267.983 1482.55 271.594 1482.55 Q275.228 1482.55 277.034 1479.01 Q278.862 1475.44 278.862 1468.33 Q278.862 1461.2 277.034 1457.66 Q275.228 1454.1 271.594 1454.1 M271.594 1450.39 Q277.404 1450.39 280.459 1455 Q283.538 1459.58 283.538 1468.33 Q283.538 1477.06 280.459 1481.67 Q277.404 1486.25 271.594 1486.25 Q265.784 1486.25 262.705 1481.67 Q259.649 1477.06 259.649 1468.33 Q259.649 1459.58 262.705 1455 Q265.784 1450.39 271.594 1450.39 Z\" fill=\"#000000\" fill-rule=\"evenodd\" fill-opacity=\"1\" /><path clip-path=\"url(#clip240)\" d=\"M935.387 1451.02 L953.743 1451.02 L953.743 1454.96 L939.669 1454.96 L939.669 1463.43 Q940.688 1463.08 941.706 1462.92 Q942.725 1462.73 943.743 1462.73 Q949.53 1462.73 952.91 1465.9 Q956.29 1469.08 956.29 1474.49 Q956.29 1480.07 952.817 1483.17 Q949.345 1486.25 943.026 1486.25 Q940.85 1486.25 938.581 1485.88 Q936.336 1485.51 933.929 1484.77 L933.929 1480.07 Q936.012 1481.2 938.234 1481.76 Q940.456 1482.32 942.933 1482.32 Q946.938 1482.32 949.276 1480.21 Q951.614 1478.1 951.614 1474.49 Q951.614 1470.88 949.276 1468.77 Q946.938 1466.67 942.933 1466.67 Q941.058 1466.67 939.183 1467.08 Q937.331 1467.5 935.387 1468.38 L935.387 1451.02 Z\" fill=\"#000000\" fill-rule=\"evenodd\" fill-opacity=\"1\" /><path clip-path=\"url(#clip240)\" d=\"M1593.31 1481.64 L1600.95 1481.64 L1600.95 1455.28 L1592.64 1456.95 L1592.64 1452.69 L1600.9 1451.02 L1605.58 1451.02 L1605.58 1481.64 L1613.22 1481.64 L1613.22 1485.58 L1593.31 1485.58 L1593.31 1481.64 Z\" fill=\"#000000\" fill-rule=\"evenodd\" fill-opacity=\"1\" /><path clip-path=\"url(#clip240)\" d=\"M1632.66 1454.1 Q1629.05 1454.1 1627.22 1457.66 Q1625.42 1461.2 1625.42 1468.33 Q1625.42 1475.44 1627.22 1479.01 Q1629.05 1482.55 1632.66 1482.55 Q1636.3 1482.55 1638.1 1479.01 Q1639.93 1475.44 1639.93 1468.33 Q1639.93 1461.2 1638.1 1457.66 Q1636.3 1454.1 1632.66 1454.1 M1632.66 1450.39 Q1638.47 1450.39 1641.53 1455 Q1644.61 1459.58 1644.61 1468.33 Q1644.61 1477.06 1641.53 1481.67 Q1638.47 1486.25 1632.66 1486.25 Q1626.85 1486.25 1623.77 1481.67 Q1620.72 1477.06 1620.72 1468.33 Q1620.72 1459.58 1623.77 1455 Q1626.85 1450.39 1632.66 1450.39 Z\" fill=\"#000000\" fill-rule=\"evenodd\" fill-opacity=\"1\" /><path clip-path=\"url(#clip240)\" d=\"M2267.32 1481.64 L2274.96 1481.64 L2274.96 1455.28 L2266.65 1456.95 L2266.65 1452.69 L2274.92 1451.02 L2279.59 1451.02 L2279.59 1481.64 L2287.23 1481.64 L2287.23 1485.58 L2267.32 1485.58 L2267.32 1481.64 Z\" fill=\"#000000\" fill-rule=\"evenodd\" fill-opacity=\"1\" /><path clip-path=\"url(#clip240)\" d=\"M2296.72 1451.02 L2315.08 1451.02 L2315.08 1454.96 L2301.01 1454.96 L2301.01 1463.43 Q2302.02 1463.08 2303.04 1462.92 Q2304.06 1462.73 2305.08 1462.73 Q2310.87 1462.73 2314.25 1465.9 Q2317.63 1469.08 2317.63 1474.49 Q2317.63 1480.07 2314.15 1483.17 Q2310.68 1486.25 2304.36 1486.25 Q2302.19 1486.25 2299.92 1485.88 Q2297.67 1485.51 2295.26 1484.77 L2295.26 1480.07 Q2297.35 1481.2 2299.57 1481.76 Q2301.79 1482.32 2304.27 1482.32 Q2308.27 1482.32 2310.61 1480.21 Q2312.95 1478.1 2312.95 1474.49 Q2312.95 1470.88 2310.61 1468.77 Q2308.27 1466.67 2304.27 1466.67 Q2302.39 1466.67 2300.52 1467.08 Q2298.67 1467.5 2296.72 1468.38 L2296.72 1451.02 Z\" fill=\"#000000\" fill-rule=\"evenodd\" fill-opacity=\"1\" /><path clip-path=\"url(#clip240)\" d=\"M1169.32 1522.27 L1169.32 1532.4 L1181.38 1532.4 L1181.38 1536.95 L1169.32 1536.95 L1169.32 1556.3 Q1169.32 1560.66 1170.5 1561.9 Q1171.71 1563.14 1175.37 1563.14 L1181.38 1563.14 L1181.38 1568.04 L1175.37 1568.04 Q1168.59 1568.04 1166.01 1565.53 Q1163.43 1562.98 1163.43 1556.3 L1163.43 1536.95 L1159.14 1536.95 L1159.14 1532.4 L1163.43 1532.4 L1163.43 1522.27 L1169.32 1522.27 Z\" fill=\"#000000\" fill-rule=\"evenodd\" fill-opacity=\"1\" /><path clip-path=\"url(#clip240)\" d=\"M1189.09 1532.4 L1194.94 1532.4 L1194.94 1568.04 L1189.09 1568.04 L1189.09 1532.4 M1189.09 1518.52 L1194.94 1518.52 L1194.94 1525.93 L1189.09 1525.93 L1189.09 1518.52 Z\" fill=\"#000000\" fill-rule=\"evenodd\" fill-opacity=\"1\" /><path clip-path=\"url(#clip240)\" d=\"M1234.95 1539.24 Q1237.15 1535.29 1240.2 1533.41 Q1243.26 1531.54 1247.4 1531.54 Q1252.97 1531.54 1255.99 1535.45 Q1259.01 1539.33 1259.01 1546.53 L1259.01 1568.04 L1253.13 1568.04 L1253.13 1546.72 Q1253.13 1541.59 1251.31 1539.11 Q1249.5 1536.63 1245.77 1536.63 Q1241.22 1536.63 1238.58 1539.65 Q1235.94 1542.68 1235.94 1547.9 L1235.94 1568.04 L1230.05 1568.04 L1230.05 1546.72 Q1230.05 1541.56 1228.24 1539.11 Q1226.42 1536.63 1222.63 1536.63 Q1218.15 1536.63 1215.5 1539.68 Q1212.86 1542.71 1212.86 1547.9 L1212.86 1568.04 L1206.97 1568.04 L1206.97 1532.4 L1212.86 1532.4 L1212.86 1537.93 Q1214.87 1534.66 1217.67 1533.1 Q1220.47 1531.54 1224.32 1531.54 Q1228.2 1531.54 1230.91 1533.51 Q1233.65 1535.48 1234.95 1539.24 Z\" fill=\"#000000\" fill-rule=\"evenodd\" fill-opacity=\"1\" /><path clip-path=\"url(#clip240)\" d=\"M1301.19 1548.76 L1301.19 1551.62 L1274.26 1551.62 Q1274.64 1557.67 1277.89 1560.85 Q1281.17 1564 1286.99 1564 Q1290.36 1564 1293.52 1563.17 Q1296.7 1562.35 1299.82 1560.69 L1299.82 1566.23 Q1296.67 1567.57 1293.36 1568.27 Q1290.05 1568.97 1286.64 1568.97 Q1278.11 1568.97 1273.11 1564 Q1268.15 1559.04 1268.15 1550.57 Q1268.15 1541.82 1272.86 1536.69 Q1277.6 1531.54 1285.62 1531.54 Q1292.82 1531.54 1296.99 1536.18 Q1301.19 1540.8 1301.19 1548.76 M1295.33 1547.04 Q1295.27 1542.23 1292.62 1539.37 Q1290.01 1536.5 1285.69 1536.5 Q1280.78 1536.5 1277.82 1539.27 Q1274.9 1542.04 1274.45 1547.07 L1295.33 1547.04 Z\" fill=\"#000000\" fill-rule=\"evenodd\" fill-opacity=\"1\" /><path clip-path=\"url(#clip240)\" d=\"M1345.59 1518.58 Q1341.32 1525.9 1339.25 1533.06 Q1337.18 1540.23 1337.18 1547.58 Q1337.18 1554.93 1339.25 1562.16 Q1341.35 1569.35 1345.59 1576.64 L1340.49 1576.64 Q1335.72 1569.16 1333.33 1561.93 Q1330.98 1554.71 1330.98 1547.58 Q1330.98 1540.48 1333.33 1533.29 Q1335.69 1526.09 1340.49 1518.58 L1345.59 1518.58 Z\" fill=\"#000000\" fill-rule=\"evenodd\" fill-opacity=\"1\" /><path clip-path=\"url(#clip240)\" d=\"M1379.68 1533.45 L1379.68 1538.98 Q1377.19 1537.71 1374.52 1537.07 Q1371.85 1536.44 1368.98 1536.44 Q1364.62 1536.44 1362.42 1537.77 Q1360.26 1539.11 1360.26 1541.79 Q1360.26 1543.82 1361.82 1545 Q1363.38 1546.15 1368.09 1547.2 L1370.1 1547.64 Q1376.33 1548.98 1378.94 1551.43 Q1381.59 1553.85 1381.59 1558.21 Q1381.59 1563.17 1377.64 1566.07 Q1373.72 1568.97 1366.85 1568.97 Q1363.98 1568.97 1360.87 1568.39 Q1357.78 1567.85 1354.34 1566.74 L1354.34 1560.69 Q1357.59 1562.38 1360.74 1563.24 Q1363.89 1564.07 1366.98 1564.07 Q1371.11 1564.07 1373.34 1562.66 Q1375.57 1561.23 1375.57 1558.65 Q1375.57 1556.27 1373.95 1554.99 Q1372.36 1553.72 1366.91 1552.54 L1364.88 1552.07 Q1359.43 1550.92 1357.01 1548.56 Q1354.59 1546.18 1354.59 1542.04 Q1354.59 1537.01 1358.16 1534.27 Q1361.72 1531.54 1368.28 1531.54 Q1371.53 1531.54 1374.39 1532.01 Q1377.26 1532.49 1379.68 1533.45 Z\" fill=\"#000000\" fill-rule=\"evenodd\" fill-opacity=\"1\" /><path clip-path=\"url(#clip240)\" d=\"M1389.99 1518.58 L1395.08 1518.58 Q1399.86 1526.09 1402.21 1533.29 Q1404.6 1540.48 1404.6 1547.58 Q1404.6 1554.71 1402.21 1561.93 Q1399.86 1569.16 1395.08 1576.64 L1389.99 1576.64 Q1394.22 1569.35 1396.29 1562.16 Q1398.39 1554.93 1398.39 1547.58 Q1398.39 1540.23 1396.29 1533.06 Q1394.22 1525.9 1389.99 1518.58 Z\" fill=\"#000000\" fill-rule=\"evenodd\" fill-opacity=\"1\" /><polyline clip-path=\"url(#clip242)\" style=\"stroke:#000000; stroke-linecap:round; stroke-linejoin:round; stroke-width:2; stroke-opacity:0.1; fill:none\" points=\"210.977,1386.4 2352.76,1386.4 \"/>\n<polyline clip-path=\"url(#clip242)\" style=\"stroke:#000000; stroke-linecap:round; stroke-linejoin:round; stroke-width:2; stroke-opacity:0.1; fill:none\" points=\"210.977,1141.17 2352.76,1141.17 \"/>\n<polyline clip-path=\"url(#clip242)\" style=\"stroke:#000000; stroke-linecap:round; stroke-linejoin:round; stroke-width:2; stroke-opacity:0.1; fill:none\" points=\"210.977,895.94 2352.76,895.94 \"/>\n<polyline clip-path=\"url(#clip242)\" style=\"stroke:#000000; stroke-linecap:round; stroke-linejoin:round; stroke-width:2; stroke-opacity:0.1; fill:none\" points=\"210.977,650.712 2352.76,650.712 \"/>\n<polyline clip-path=\"url(#clip242)\" style=\"stroke:#000000; stroke-linecap:round; stroke-linejoin:round; stroke-width:2; stroke-opacity:0.1; fill:none\" points=\"210.977,405.484 2352.76,405.484 \"/>\n<polyline clip-path=\"url(#clip242)\" style=\"stroke:#000000; stroke-linecap:round; stroke-linejoin:round; stroke-width:2; stroke-opacity:0.1; fill:none\" points=\"210.977,160.256 2352.76,160.256 \"/>\n<polyline clip-path=\"url(#clip240)\" style=\"stroke:#000000; stroke-linecap:round; stroke-linejoin:round; stroke-width:4; stroke-opacity:1; fill:none\" points=\"210.977,1423.18 210.977,123.472 \"/>\n<polyline clip-path=\"url(#clip240)\" style=\"stroke:#000000; stroke-linecap:round; stroke-linejoin:round; stroke-width:4; stroke-opacity:1; fill:none\" points=\"210.977,1386.4 229.875,1386.4 \"/>\n<polyline clip-path=\"url(#clip240)\" style=\"stroke:#000000; stroke-linecap:round; stroke-linejoin:round; stroke-width:4; stroke-opacity:1; fill:none\" points=\"210.977,1141.17 229.875,1141.17 \"/>\n<polyline clip-path=\"url(#clip240)\" style=\"stroke:#000000; stroke-linecap:round; stroke-linejoin:round; stroke-width:4; stroke-opacity:1; fill:none\" points=\"210.977,895.94 229.875,895.94 \"/>\n<polyline clip-path=\"url(#clip240)\" style=\"stroke:#000000; stroke-linecap:round; stroke-linejoin:round; stroke-width:4; stroke-opacity:1; fill:none\" points=\"210.977,650.712 229.875,650.712 \"/>\n<polyline clip-path=\"url(#clip240)\" style=\"stroke:#000000; stroke-linecap:round; stroke-linejoin:round; stroke-width:4; stroke-opacity:1; fill:none\" points=\"210.977,405.484 229.875,405.484 \"/>\n<polyline clip-path=\"url(#clip240)\" style=\"stroke:#000000; stroke-linecap:round; stroke-linejoin:round; stroke-width:4; stroke-opacity:1; fill:none\" points=\"210.977,160.256 229.875,160.256 \"/>\n<path clip-path=\"url(#clip240)\" d=\"M114.26 1386.85 L143.936 1386.85 L143.936 1390.78 L114.26 1390.78 L114.26 1386.85 Z\" fill=\"#000000\" fill-rule=\"evenodd\" fill-opacity=\"1\" /><path clip-path=\"url(#clip240)\" d=\"M154.075 1369.12 L172.431 1369.12 L172.431 1373.05 L158.357 1373.05 L158.357 1381.52 Q159.376 1381.18 160.394 1381.01 Q161.413 1380.83 162.431 1380.83 Q168.218 1380.83 171.598 1384 Q174.977 1387.17 174.977 1392.59 Q174.977 1398.17 171.505 1401.27 Q168.033 1404.35 161.714 1404.35 Q159.538 1404.35 157.269 1403.98 Q155.024 1403.61 152.616 1402.87 L152.616 1398.17 Q154.7 1399.3 156.922 1399.86 Q159.144 1400.41 161.621 1400.41 Q165.626 1400.41 167.964 1398.31 Q170.302 1396.2 170.302 1392.59 Q170.302 1388.98 167.964 1386.87 Q165.626 1384.76 161.621 1384.76 Q159.746 1384.76 157.871 1385.18 Q156.019 1385.6 154.075 1386.48 L154.075 1369.12 Z\" fill=\"#000000\" fill-rule=\"evenodd\" fill-opacity=\"1\" /><path clip-path=\"url(#clip240)\" d=\"M163.033 1126.97 Q159.422 1126.97 157.593 1130.53 Q155.788 1134.07 155.788 1141.2 Q155.788 1148.31 157.593 1151.87 Q159.422 1155.42 163.033 1155.42 Q166.667 1155.42 168.473 1151.87 Q170.302 1148.31 170.302 1141.2 Q170.302 1134.07 168.473 1130.53 Q166.667 1126.97 163.033 1126.97 M163.033 1123.26 Q168.843 1123.26 171.899 1127.87 Q174.977 1132.45 174.977 1141.2 Q174.977 1149.93 171.899 1154.54 Q168.843 1159.12 163.033 1159.12 Q157.223 1159.12 154.144 1154.54 Q151.089 1149.93 151.089 1141.2 Q151.089 1132.45 154.144 1127.87 Q157.223 1123.26 163.033 1123.26 Z\" fill=\"#000000\" fill-rule=\"evenodd\" fill-opacity=\"1\" /><path clip-path=\"url(#clip240)\" d=\"M154.075 878.66 L172.431 878.66 L172.431 882.595 L158.357 882.595 L158.357 891.067 Q159.376 890.72 160.394 890.558 Q161.413 890.373 162.431 890.373 Q168.218 890.373 171.598 893.544 Q174.977 896.715 174.977 902.132 Q174.977 907.711 171.505 910.813 Q168.033 913.891 161.714 913.891 Q159.538 913.891 157.269 913.521 Q155.024 913.15 152.616 912.41 L152.616 907.711 Q154.7 908.845 156.922 909.4 Q159.144 909.956 161.621 909.956 Q165.626 909.956 167.964 907.85 Q170.302 905.743 170.302 902.132 Q170.302 898.521 167.964 896.414 Q165.626 894.308 161.621 894.308 Q159.746 894.308 157.871 894.725 Q156.019 895.141 154.075 896.021 L154.075 878.66 Z\" fill=\"#000000\" fill-rule=\"evenodd\" fill-opacity=\"1\" /><path clip-path=\"url(#clip240)\" d=\"M123.681 664.057 L131.32 664.057 L131.32 637.691 L123.01 639.358 L123.01 635.099 L131.274 633.432 L135.95 633.432 L135.95 664.057 L143.589 664.057 L143.589 667.992 L123.681 667.992 L123.681 664.057 Z\" fill=\"#000000\" fill-rule=\"evenodd\" fill-opacity=\"1\" /><path clip-path=\"url(#clip240)\" d=\"M163.033 636.511 Q159.422 636.511 157.593 640.076 Q155.788 643.617 155.788 650.747 Q155.788 657.853 157.593 661.418 Q159.422 664.96 163.033 664.96 Q166.667 664.96 168.473 661.418 Q170.302 657.853 170.302 650.747 Q170.302 643.617 168.473 640.076 Q166.667 636.511 163.033 636.511 M163.033 632.807 Q168.843 632.807 171.899 637.414 Q174.977 641.997 174.977 650.747 Q174.977 659.474 171.899 664.08 Q168.843 668.663 163.033 668.663 Q157.223 668.663 154.144 664.08 Q151.089 659.474 151.089 650.747 Q151.089 641.997 154.144 637.414 Q157.223 632.807 163.033 632.807 Z\" fill=\"#000000\" fill-rule=\"evenodd\" fill-opacity=\"1\" /><path clip-path=\"url(#clip240)\" d=\"M124.677 418.829 L132.316 418.829 L132.316 392.463 L124.005 394.13 L124.005 389.871 L132.269 388.204 L136.945 388.204 L136.945 418.829 L144.584 418.829 L144.584 422.764 L124.677 422.764 L124.677 418.829 Z\" fill=\"#000000\" fill-rule=\"evenodd\" fill-opacity=\"1\" /><path clip-path=\"url(#clip240)\" d=\"M154.075 388.204 L172.431 388.204 L172.431 392.139 L158.357 392.139 L158.357 400.612 Q159.376 400.264 160.394 400.102 Q161.413 399.917 162.431 399.917 Q168.218 399.917 171.598 403.088 Q174.977 406.26 174.977 411.676 Q174.977 417.255 171.505 420.357 Q168.033 423.435 161.714 423.435 Q159.538 423.435 157.269 423.065 Q155.024 422.695 152.616 421.954 L152.616 417.255 Q154.7 418.389 156.922 418.945 Q159.144 419.5 161.621 419.5 Q165.626 419.5 167.964 417.394 Q170.302 415.287 170.302 411.676 Q170.302 408.065 167.964 405.959 Q165.626 403.852 161.621 403.852 Q159.746 403.852 157.871 404.269 Q156.019 404.686 154.075 405.565 L154.075 388.204 Z\" fill=\"#000000\" fill-rule=\"evenodd\" fill-opacity=\"1\" /><path clip-path=\"url(#clip240)\" d=\"M126.899 173.601 L143.218 173.601 L143.218 177.536 L121.274 177.536 L121.274 173.601 Q123.936 170.847 128.519 166.217 Q133.126 161.564 134.306 160.222 Q136.552 157.698 137.431 155.962 Q138.334 154.203 138.334 152.513 Q138.334 149.759 136.39 148.023 Q134.468 146.286 131.367 146.286 Q129.167 146.286 126.714 147.05 Q124.283 147.814 121.505 149.365 L121.505 144.643 Q124.33 143.509 126.783 142.93 Q129.237 142.351 131.274 142.351 Q136.644 142.351 139.839 145.036 Q143.033 147.722 143.033 152.212 Q143.033 154.342 142.223 156.263 Q141.436 158.161 139.329 160.754 Q138.751 161.425 135.649 164.643 Q132.547 167.837 126.899 173.601 Z\" fill=\"#000000\" fill-rule=\"evenodd\" fill-opacity=\"1\" /><path clip-path=\"url(#clip240)\" d=\"M163.033 146.055 Q159.422 146.055 157.593 149.62 Q155.788 153.161 155.788 160.291 Q155.788 167.397 157.593 170.962 Q159.422 174.504 163.033 174.504 Q166.667 174.504 168.473 170.962 Q170.302 167.397 170.302 160.291 Q170.302 153.161 168.473 149.62 Q166.667 146.055 163.033 146.055 M163.033 142.351 Q168.843 142.351 171.899 146.958 Q174.977 151.541 174.977 160.291 Q174.977 169.018 171.899 173.624 Q168.843 178.208 163.033 178.208 Q157.223 178.208 154.144 173.624 Q151.089 169.018 151.089 160.291 Q151.089 151.541 154.144 146.958 Q157.223 142.351 163.033 142.351 Z\" fill=\"#000000\" fill-rule=\"evenodd\" fill-opacity=\"1\" /><path clip-path=\"url(#clip240)\" d=\"M28.3562 756.711 L45.7028 769.602 L64.0042 756.043 L64.0042 762.95 L49.9996 773.326 L64.0042 783.702 L64.0042 790.609 L45.3526 776.763 L28.3562 789.431 L28.3562 782.524 L41.0558 773.071 L28.3562 763.618 L28.3562 756.711 Z\" fill=\"#000000\" fill-rule=\"evenodd\" fill-opacity=\"1\" /><path clip-path=\"url(#clip240)\" d=\"M1054.21 14.0809 L1054.21 22.0612 Q1049.55 19.8332 1045.42 18.7395 Q1041.28 17.6457 1037.44 17.6457 Q1030.75 17.6457 1027.11 20.2383 Q1023.5 22.8309 1023.5 27.611 Q1023.5 31.6214 1025.89 33.6873 Q1028.32 35.7128 1035.05 36.9686 L1039.99 37.9813 Q1049.14 39.7232 1053.48 44.1387 Q1057.85 48.5136 1057.85 55.8863 Q1057.85 64.6767 1051.94 69.2137 Q1046.06 73.7508 1034.68 73.7508 Q1030.39 73.7508 1025.53 72.7785 Q1020.7 71.8063 1015.52 69.9024 L1015.52 61.4765 Q1020.5 64.2716 1025.28 65.6895 Q1030.06 67.1073 1034.68 67.1073 Q1041.69 67.1073 1045.5 64.3527 Q1049.3 61.598 1049.3 56.4939 Q1049.3 52.0379 1046.55 49.5264 Q1043.84 47.0148 1037.6 45.759 L1032.61 44.7868 Q1023.46 42.9639 1019.37 39.075 Q1015.28 35.1862 1015.28 28.2591 Q1015.28 20.2383 1020.91 15.6203 Q1026.58 11.0023 1036.5 11.0023 Q1040.76 11.0023 1045.17 11.7719 Q1049.59 12.5416 1054.21 14.0809 Z\" fill=\"#000000\" fill-rule=\"evenodd\" fill-opacity=\"1\" /><path clip-path=\"url(#clip240)\" d=\"M1077.66 14.324 L1077.66 27.2059 L1093.01 27.2059 L1093.01 32.9987 L1077.66 32.9987 L1077.66 57.6282 Q1077.66 63.1779 1079.16 64.7578 Q1080.7 66.3376 1085.36 66.3376 L1093.01 66.3376 L1093.01 72.576 L1085.36 72.576 Q1076.73 72.576 1073.45 69.3758 Q1070.17 66.1351 1070.17 57.6282 L1070.17 32.9987 L1064.7 32.9987 L1064.7 27.2059 L1070.17 27.2059 L1070.17 14.324 L1077.66 14.324 Z\" fill=\"#000000\" fill-rule=\"evenodd\" fill-opacity=\"1\" /><path clip-path=\"url(#clip240)\" d=\"M1123.44 49.7694 Q1114.4 49.7694 1110.92 51.8354 Q1107.43 53.9013 1107.43 58.8839 Q1107.43 62.8538 1110.03 65.2034 Q1112.66 67.5124 1117.16 67.5124 Q1123.35 67.5124 1127.08 63.1374 Q1130.85 58.7219 1130.85 51.4303 L1130.85 49.7694 L1123.44 49.7694 M1138.3 46.6907 L1138.3 72.576 L1130.85 72.576 L1130.85 65.6895 Q1128.3 69.8214 1124.49 71.8063 Q1120.68 73.7508 1115.17 73.7508 Q1108.2 73.7508 1104.07 69.8619 Q1099.98 65.9325 1099.98 59.3701 Q1099.98 51.7138 1105.09 47.825 Q1110.23 43.9361 1120.4 43.9361 L1130.85 43.9361 L1130.85 43.2069 Q1130.85 38.0623 1127.45 35.2672 Q1124.08 32.4315 1117.97 32.4315 Q1114.08 32.4315 1110.39 33.3632 Q1106.71 34.295 1103.3 36.1584 L1103.3 29.2718 Q1107.39 27.692 1111.24 26.9223 Q1115.09 26.1121 1118.74 26.1121 Q1128.58 26.1121 1133.44 31.2163 Q1138.3 36.3204 1138.3 46.6907 Z\" fill=\"#000000\" fill-rule=\"evenodd\" fill-opacity=\"1\" /><path clip-path=\"url(#clip240)\" d=\"M1161.03 14.324 L1161.03 27.2059 L1176.38 27.2059 L1176.38 32.9987 L1161.03 32.9987 L1161.03 57.6282 Q1161.03 63.1779 1162.53 64.7578 Q1164.07 66.3376 1168.72 66.3376 L1176.38 66.3376 L1176.38 72.576 L1168.72 72.576 Q1160.1 72.576 1156.82 69.3758 Q1153.53 66.1351 1153.53 57.6282 L1153.53 32.9987 L1148.07 32.9987 L1148.07 27.2059 L1153.53 27.2059 L1153.53 14.324 L1161.03 14.324 Z\" fill=\"#000000\" fill-rule=\"evenodd\" fill-opacity=\"1\" /><path clip-path=\"url(#clip240)\" d=\"M1224.99 48.0275 L1224.99 51.6733 L1190.72 51.6733 Q1191.21 59.3701 1195.34 63.421 Q1199.51 67.4314 1206.92 67.4314 Q1211.22 67.4314 1215.23 66.3781 Q1219.28 65.3249 1223.25 63.2184 L1223.25 70.267 Q1219.24 71.9684 1215.03 72.8596 Q1210.81 73.7508 1206.48 73.7508 Q1195.62 73.7508 1189.26 67.4314 Q1182.94 61.1119 1182.94 50.3365 Q1182.94 39.1965 1188.94 32.6746 Q1194.97 26.1121 1205.18 26.1121 Q1214.34 26.1121 1219.64 32.0264 Q1224.99 37.9003 1224.99 48.0275 M1217.54 45.84 Q1217.46 39.7232 1214.1 36.0774 Q1210.77 32.4315 1205.26 32.4315 Q1199.03 32.4315 1195.26 35.9558 Q1191.53 39.4801 1190.96 45.8805 L1217.54 45.84 Z\" fill=\"#000000\" fill-rule=\"evenodd\" fill-opacity=\"1\" /><path clip-path=\"url(#clip240)\" d=\"M1263.92 12.096 L1272.1 12.096 L1272.1 36.8875 L1301.84 36.8875 L1301.84 12.096 L1310.02 12.096 L1310.02 72.576 L1301.84 72.576 L1301.84 43.7741 L1272.1 43.7741 L1272.1 72.576 L1263.92 72.576 L1263.92 12.096 Z\" fill=\"#000000\" fill-rule=\"evenodd\" fill-opacity=\"1\" /><path clip-path=\"url(#clip240)\" d=\"M1325.98 27.2059 L1333.43 27.2059 L1333.43 72.576 L1325.98 72.576 L1325.98 27.2059 M1325.98 9.54393 L1333.43 9.54393 L1333.43 18.9825 L1325.98 18.9825 L1325.98 9.54393 Z\" fill=\"#000000\" fill-rule=\"evenodd\" fill-opacity=\"1\" /><path clip-path=\"url(#clip240)\" d=\"M1377.95 28.5427 L1377.95 35.5912 Q1374.79 33.9709 1371.39 33.1607 Q1367.99 32.3505 1364.34 32.3505 Q1358.79 32.3505 1356 34.0519 Q1353.24 35.7533 1353.24 39.156 Q1353.24 41.7486 1355.23 43.2475 Q1357.21 44.7058 1363.21 46.0426 L1365.76 46.6097 Q1373.7 48.3111 1377.02 51.4303 Q1380.38 54.509 1380.38 60.0587 Q1380.38 66.3781 1375.36 70.0644 Q1370.38 73.7508 1361.63 73.7508 Q1357.98 73.7508 1354.01 73.0216 Q1350.08 72.3329 1345.71 70.9151 L1345.71 63.2184 Q1349.84 65.3654 1353.85 66.4591 Q1357.86 67.5124 1361.79 67.5124 Q1367.06 67.5124 1369.89 65.73 Q1372.73 63.9071 1372.73 60.6258 Q1372.73 57.5877 1370.66 55.9673 Q1368.64 54.3469 1361.71 52.8481 L1359.12 52.2405 Q1352.19 50.7821 1349.11 47.7845 Q1346.03 44.7463 1346.03 39.4801 Q1346.03 33.0797 1350.57 29.5959 Q1355.11 26.1121 1363.45 26.1121 Q1367.58 26.1121 1371.23 26.7198 Q1374.88 27.3274 1377.95 28.5427 Z\" fill=\"#000000\" fill-rule=\"evenodd\" fill-opacity=\"1\" /><path clip-path=\"url(#clip240)\" d=\"M1399.63 14.324 L1399.63 27.2059 L1414.98 27.2059 L1414.98 32.9987 L1399.63 32.9987 L1399.63 57.6282 Q1399.63 63.1779 1401.13 64.7578 Q1402.66 66.3376 1407.32 66.3376 L1414.98 66.3376 L1414.98 72.576 L1407.32 72.576 Q1398.69 72.576 1395.41 69.3758 Q1392.13 66.1351 1392.13 57.6282 L1392.13 32.9987 L1386.66 32.9987 L1386.66 27.2059 L1392.13 27.2059 L1392.13 14.324 L1399.63 14.324 Z\" fill=\"#000000\" fill-rule=\"evenodd\" fill-opacity=\"1\" /><path clip-path=\"url(#clip240)\" d=\"M1442.36 32.4315 Q1436.37 32.4315 1432.88 37.1306 Q1429.4 41.7891 1429.4 49.9314 Q1429.4 58.0738 1432.84 62.7728 Q1436.33 67.4314 1442.36 67.4314 Q1448.32 67.4314 1451.8 62.7323 Q1455.29 58.0333 1455.29 49.9314 Q1455.29 41.8701 1451.8 37.1711 Q1448.32 32.4315 1442.36 32.4315 M1442.36 26.1121 Q1452.09 26.1121 1457.64 32.4315 Q1463.19 38.7509 1463.19 49.9314 Q1463.19 61.0714 1457.64 67.4314 Q1452.09 73.7508 1442.36 73.7508 Q1432.6 73.7508 1427.05 67.4314 Q1421.54 61.0714 1421.54 49.9314 Q1421.54 38.7509 1427.05 32.4315 Q1432.6 26.1121 1442.36 26.1121 Z\" fill=\"#000000\" fill-rule=\"evenodd\" fill-opacity=\"1\" /><path clip-path=\"url(#clip240)\" d=\"M1501.83 34.1734 Q1500.57 33.4443 1499.08 33.1202 Q1497.62 32.7556 1495.84 32.7556 Q1489.52 32.7556 1486.11 36.8875 Q1482.75 40.9789 1482.75 48.6757 L1482.75 72.576 L1475.26 72.576 L1475.26 27.2059 L1482.75 27.2059 L1482.75 34.2544 Q1485.1 30.1225 1488.87 28.1376 Q1492.64 26.1121 1498.02 26.1121 Q1498.79 26.1121 1499.72 26.2337 Q1500.66 26.3147 1501.79 26.5172 L1501.83 34.1734 Z\" fill=\"#000000\" fill-rule=\"evenodd\" fill-opacity=\"1\" /><path clip-path=\"url(#clip240)\" d=\"M1528.53 76.7889 Q1525.37 84.8907 1522.37 87.3618 Q1519.37 89.8329 1514.35 89.8329 L1508.39 89.8329 L1508.39 83.5945 L1512.77 83.5945 Q1515.85 83.5945 1517.55 82.1361 Q1519.25 80.6778 1521.32 75.2496 L1522.65 71.8468 L1504.3 27.2059 L1512.2 27.2059 L1526.38 62.6918 L1540.56 27.2059 L1548.46 27.2059 L1528.53 76.7889 Z\" fill=\"#000000\" fill-rule=\"evenodd\" fill-opacity=\"1\" /><polyline clip-path=\"url(#clip242)\" style=\"stroke:#009af9; stroke-linecap:round; stroke-linejoin:round; stroke-width:4; stroke-opacity:1; fill:none\" points=\"271.594,944.985 278.329,952.283 285.064,959.461 291.799,966.521 298.534,973.465 305.27,980.292 312.005,987.004 318.74,993.601 325.475,1000.09 332.21,1006.46 338.945,1012.72 345.68,1018.87 352.416,1024.91 359.151,1030.84 365.886,1036.67 372.621,1042.38 379.356,1048 386.091,1053.51 392.827,1058.91 399.562,1064.21 406.297,1069.41 413.032,1074.51 419.767,1079.51 426.502,1084.42 433.237,1089.22 439.973,1093.93 446.708,1098.54 453.443,1103.06 460.178,1107.48 466.913,1111.82 473.648,1116.06 480.384,1120.21 487.119,1124.27 493.854,1128.24 500.589,1132.13 507.324,1135.92 514.059,1139.64 520.794,1143.27 527.53,1146.81 534.265,1150.27 541,1153.66 547.735,1156.96 554.47,1160.18 561.205,1163.32 567.941,1166.39 574.676,1169.38 581.411,1172.29 588.146,1175.13 594.881,1177.9 601.616,1180.59 608.351,1183.21 615.087,1185.76 621.822,1188.24 628.557,1190.66 635.292,1193 642.027,1195.28 648.762,1197.49 655.497,1199.64 662.233,1201.72 668.968,1203.74 675.703,1205.7 682.438,1207.6 689.173,1209.43 695.908,1211.21 702.644,1212.93 709.379,1214.59 716.114,1216.19 722.849,1217.74 729.584,1219.23 736.319,1220.66 743.054,1222.05 749.79,1223.38 756.525,1224.66 763.26,1225.89 769.995,1227.07 776.73,1228.2 783.465,1229.28 790.201,1230.31 796.936,1231.3 803.671,1232.24 810.406,1233.14 817.141,1233.99 823.876,1234.8 830.611,1235.56 837.347,1236.28 844.082,1236.96 850.817,1237.6 857.552,1238.21 864.287,1238.77 871.022,1239.29 877.758,1239.78 884.493,1240.22 891.228,1240.64 897.963,1241.01 904.698,1241.35 911.433,1241.66 918.168,1241.94 924.904,1242.18 931.639,1242.39 938.374,1242.56 945.109,1242.71 951.844,1242.83 958.579,1242.91 965.314,1242.97 972.05,1243 978.785,1243 985.52,1242.98 992.255,1242.92 998.99,1242.84 1005.73,1242.74 1012.46,1242.61 1019.2,1242.46 1025.93,1242.28 1032.67,1242.09 1039.4,1241.86 1046.14,1241.62 1052.87,1241.35 1059.61,1241.07 1066.34,1240.76 1073.08,1240.44 1079.81,1240.09 1086.55,1239.73 1093.28,1239.34 1100.02,1238.94 1106.75,1238.52 1113.49,1238.09 1120.22,1237.64 1126.96,1237.17 1133.69,1236.68 1140.43,1236.19 1147.16,1235.67 1153.9,1235.15 1160.63,1234.61 1167.37,1234.05 1174.1,1233.48 1180.84,1232.9 1187.57,1232.31 1194.31,1231.71 1201.04,1231.09 1207.78,1230.47 1214.52,1229.83 1221.25,1229.19 1227.99,1228.53 1234.72,1227.86 1241.46,1227.19 1248.19,1226.51 1254.93,1225.81 1261.66,1225.11 1268.4,1224.41 1275.13,1223.69 1281.87,1222.97 1288.6,1222.24 1295.34,1221.51 1302.07,1220.77 1308.81,1220.02 1315.54,1219.27 1322.28,1218.51 1329.01,1217.75 1335.75,1216.98 1342.48,1216.21 1349.22,1215.44 1355.95,1214.66 1362.69,1213.88 1369.42,1213.09 1376.16,1212.3 1382.89,1211.51 1389.63,1210.72 1396.36,1209.92 1403.1,1209.12 1409.83,1208.33 1416.57,1207.52 1423.3,1206.72 1430.04,1205.92 1436.78,1205.12 1443.51,1204.31 1450.25,1203.51 1456.98,1202.7 1463.72,1201.9 1470.45,1201.09 1477.19,1200.29 1483.92,1199.48 1490.66,1198.68 1497.39,1197.88 1504.13,1197.08 1510.86,1196.28 1517.6,1195.48 1524.33,1194.68 1531.07,1193.89 1537.8,1193.09 1544.54,1192.3 1551.27,1191.51 1558.01,1190.73 1564.74,1189.95 1571.48,1189.16 1578.21,1188.39 1584.95,1187.61 1591.68,1186.84 1598.42,1186.07 1605.15,1185.31 1611.89,1184.55 1618.62,1183.79 1625.36,1183.04 1632.09,1182.29 1638.83,1181.54 1645.56,1180.8 1652.3,1180.06 1659.04,1179.33 1665.77,1178.6 1672.51,1177.88 1679.24,1177.16 1685.98,1176.45 1692.71,1175.74 1699.45,1175.04 1706.18,1174.34 1712.92,1173.65 1719.65,1172.96 1726.39,1172.28 1733.12,1171.6 1739.86,1170.93 1746.59,1170.26 1753.33,1169.6 1760.06,1168.95 1766.8,1168.3 1773.53,1167.66 1780.27,1167.03 1787,1166.4 1793.74,1165.77 1800.47,1165.16 1807.21,1164.55 1813.94,1163.94 1820.68,1163.34 1827.41,1162.75 1834.15,1162.17 1840.88,1161.59 1847.62,1161.02 1854.35,1160.46 1861.09,1159.9 1867.82,1159.35 1874.56,1158.81 1881.3,1158.28 1888.03,1157.75 1894.77,1157.23 1901.5,1156.71 1908.24,1156.21 1914.97,1155.71 1921.71,1155.22 1928.44,1154.73 1935.18,1154.26 1941.91,1153.79 1948.65,1153.33 1955.38,1152.88 1962.12,1152.43 1968.85,1151.99 1975.59,1151.56 1982.32,1151.14 1989.06,1150.73 1995.79,1150.32 2002.53,1149.93 2009.26,1149.54 2016,1149.16 2022.73,1148.78 2029.47,1148.42 2036.2,1148.06 2042.94,1147.72 2049.67,1147.38 2056.41,1147.05 2063.14,1146.72 2069.88,1146.41 2076.61,1146.11 2083.35,1145.81 2090.08,1145.52 2096.82,1145.24 2103.56,1144.97 2110.29,1144.71 2117.03,1144.46 2123.76,1144.22 2130.5,1143.98 2137.23,1143.76 2143.97,1143.54 2150.7,1143.33 2157.44,1143.13 2164.17,1142.95 2170.91,1142.77 2177.64,1142.6 2184.38,1142.43 2191.11,1142.28 2197.85,1142.14 2204.58,1142.01 2211.32,1141.88 2218.05,1141.77 2224.79,1141.67 2231.52,1141.57 2238.26,1141.49 2244.99,1141.41 2251.73,1141.35 2258.46,1141.29 2265.2,1141.25 2271.93,1141.21 2278.67,1141.19 2285.4,1141.17 2292.14,1141.17 \"/>\n<polyline clip-path=\"url(#clip242)\" style=\"stroke:#e26f46; stroke-linecap:round; stroke-linejoin:round; stroke-width:4; stroke-opacity:1; fill:none\" points=\"271.594,1043.08 278.329,1038.24 285.064,1033.54 291.799,1028.97 298.534,1024.53 305.27,1020.23 312.005,1016.05 318.74,1011.99 325.475,1008.06 332.21,1004.26 338.945,1000.57 345.68,997 352.416,993.548 359.151,990.211 365.886,986.987 372.621,983.874 379.356,980.871 386.091,977.976 392.827,975.186 399.562,972.502 406.297,969.92 413.032,967.439 419.767,965.057 426.502,962.773 433.237,960.585 439.973,958.492 446.708,956.491 453.443,954.582 460.178,952.762 466.913,951.031 473.648,949.385 480.384,947.825 487.119,946.348 493.854,944.953 500.589,943.638 507.324,942.403 514.059,941.244 520.794,940.162 527.53,939.154 534.265,938.219 541,937.355 547.735,936.562 554.47,935.838 561.205,935.181 567.941,934.59 574.676,934.064 581.411,933.601 588.146,933.201 594.881,932.861 601.616,932.581 608.351,932.359 615.087,932.193 621.822,932.084 628.557,932.029 635.292,932.027 642.027,932.077 648.762,932.179 655.497,932.329 662.233,932.529 668.968,932.775 675.703,933.068 682.438,933.406 689.173,933.789 695.908,934.214 702.644,934.68 709.379,935.188 716.114,935.736 722.849,936.322 729.584,936.946 736.319,937.606 743.054,938.302 749.79,939.033 756.525,939.798 763.26,940.595 769.995,941.425 776.73,942.285 783.465,943.175 790.201,944.095 796.936,945.042 803.671,946.017 810.406,947.019 817.141,948.046 823.876,949.098 830.611,950.174 837.347,951.273 844.082,952.395 850.817,953.538 857.552,954.702 864.287,955.886 871.022,957.09 877.758,958.312 884.493,959.552 891.228,960.809 897.963,962.083 904.698,963.372 911.433,964.676 918.168,965.995 924.904,967.328 931.639,968.674 938.374,970.032 945.109,971.402 951.844,972.784 958.579,974.176 965.314,975.578 972.05,976.99 978.785,978.411 985.52,979.84 992.255,981.277 998.99,982.722 1005.73,984.173 1012.46,985.63 1019.2,987.093 1025.93,988.562 1032.67,990.035 1039.4,991.513 1046.14,992.994 1052.87,994.479 1059.61,995.967 1066.34,997.457 1073.08,998.95 1079.81,1000.44 1086.55,1001.94 1093.28,1003.44 1100.02,1004.93 1106.75,1006.43 1113.49,1007.93 1120.22,1009.42 1126.96,1010.92 1133.69,1012.41 1140.43,1013.9 1147.16,1015.39 1153.9,1016.88 1160.63,1018.36 1167.37,1019.84 1174.1,1021.32 1180.84,1022.8 1187.57,1024.27 1194.31,1025.73 1201.04,1027.2 1207.78,1028.65 1214.52,1030.11 1221.25,1031.55 1227.99,1033 1234.72,1034.43 1241.46,1035.86 1248.19,1037.29 1254.93,1038.7 1261.66,1040.11 1268.4,1041.52 1275.13,1042.91 1281.87,1044.3 1288.6,1045.69 1295.34,1047.06 1302.07,1048.43 1308.81,1049.79 1315.54,1051.14 1322.28,1052.48 1329.01,1053.82 1335.75,1055.14 1342.48,1056.46 1349.22,1057.77 1355.95,1059.07 1362.69,1060.36 1369.42,1061.64 1376.16,1062.91 1382.89,1064.17 1389.63,1065.42 1396.36,1066.67 1403.1,1067.9 1409.83,1069.12 1416.57,1070.33 1423.3,1071.54 1430.04,1072.73 1436.78,1073.91 1443.51,1075.08 1450.25,1076.25 1456.98,1077.4 1463.72,1078.54 1470.45,1079.67 1477.19,1080.79 1483.92,1081.9 1490.66,1083 1497.39,1084.08 1504.13,1085.16 1510.86,1086.22 1517.6,1087.28 1524.33,1088.32 1531.07,1089.36 1537.8,1090.38 1544.54,1091.39 1551.27,1092.39 1558.01,1093.38 1564.74,1094.35 1571.48,1095.32 1578.21,1096.28 1584.95,1097.22 1591.68,1098.15 1598.42,1099.08 1605.15,1099.99 1611.89,1100.89 1618.62,1101.77 1625.36,1102.65 1632.09,1103.52 1638.83,1104.37 1645.56,1105.22 1652.3,1106.05 1659.04,1106.87 1665.77,1107.68 1672.51,1108.48 1679.24,1109.27 1685.98,1110.05 1692.71,1110.82 1699.45,1111.57 1706.18,1112.32 1712.92,1113.05 1719.65,1113.78 1726.39,1114.49 1733.12,1115.19 1739.86,1115.88 1746.59,1116.56 1753.33,1117.23 1760.06,1117.89 1766.8,1118.54 1773.53,1119.18 1780.27,1119.81 1787,1120.42 1793.74,1121.03 1800.47,1121.63 1807.21,1122.21 1813.94,1122.79 1820.68,1123.35 1827.41,1123.91 1834.15,1124.46 1840.88,1124.99 1847.62,1125.52 1854.35,1126.03 1861.09,1126.54 1867.82,1127.03 1874.56,1127.52 1881.3,1128 1888.03,1128.46 1894.77,1128.92 1901.5,1129.37 1908.24,1129.81 1914.97,1130.24 1921.71,1130.65 1928.44,1131.06 1935.18,1131.47 1941.91,1131.86 1948.65,1132.24 1955.38,1132.61 1962.12,1132.98 1968.85,1133.33 1975.59,1133.68 1982.32,1134.02 1989.06,1134.35 1995.79,1134.67 2002.53,1134.98 2009.26,1135.28 2016,1135.58 2022.73,1135.86 2029.47,1136.14 2036.2,1136.41 2042.94,1136.67 2049.67,1136.93 2056.41,1137.17 2063.14,1137.41 2069.88,1137.64 2076.61,1137.86 2083.35,1138.08 2090.08,1138.28 2096.82,1138.48 2103.56,1138.67 2110.29,1138.85 2117.03,1139.03 2123.76,1139.2 2130.5,1139.36 2137.23,1139.51 2143.97,1139.66 2150.7,1139.8 2157.44,1139.93 2164.17,1140.05 2170.91,1140.17 2177.64,1140.28 2184.38,1140.38 2191.11,1140.48 2197.85,1140.57 2204.58,1140.66 2211.32,1140.73 2218.05,1140.8 2224.79,1140.87 2231.52,1140.93 2238.26,1140.98 2244.99,1141.02 2251.73,1141.06 2258.46,1141.09 2265.2,1141.12 2271.93,1141.14 2278.67,1141.16 2285.4,1141.16 2292.14,1141.17 \"/>\n<polyline clip-path=\"url(#clip242)\" style=\"stroke:#3da44d; stroke-linecap:round; stroke-linejoin:round; stroke-width:4; stroke-opacity:1; fill:none\" points=\"271.594,160.256 278.329,172.499 285.064,184.703 291.799,196.867 298.534,208.989 305.27,221.065 312.005,233.095 318.74,245.076 325.475,257.007 332.21,268.886 338.945,280.71 345.68,292.478 352.416,304.189 359.151,315.841 365.886,327.432 372.621,338.961 379.356,350.426 386.091,361.826 392.827,373.159 399.562,384.425 406.297,395.621 413.032,406.748 419.767,417.802 426.502,428.784 433.237,439.692 439.973,450.526 446.708,461.283 453.443,471.964 460.178,482.567 466.913,493.091 473.648,503.536 480.384,513.9 487.119,524.183 493.854,534.385 500.589,544.504 507.324,554.539 514.059,564.491 520.794,574.358 527.53,584.14 534.265,593.836 541,603.447 547.735,612.971 554.47,622.408 561.205,631.757 567.941,641.019 574.676,650.192 581.411,659.278 588.146,668.274 594.881,677.181 601.616,685.999 608.351,694.728 615.087,703.367 621.822,711.917 628.557,720.376 635.292,728.745 642.027,737.025 648.762,745.214 655.497,753.313 662.233,761.321 668.968,769.24 675.703,777.068 682.438,784.807 689.173,792.455 695.908,800.013 702.644,807.481 709.379,814.86 716.114,822.149 722.849,829.349 729.584,836.46 736.319,843.481 743.054,850.414 749.79,857.258 756.525,864.014 763.26,870.682 769.995,877.262 776.73,883.755 783.465,890.16 790.201,896.479 796.936,902.711 803.671,908.857 810.406,914.918 817.141,920.893 823.876,926.782 830.611,932.588 837.347,938.309 844.082,943.946 850.817,949.5 857.552,954.972 864.287,960.36 871.022,965.667 877.758,970.892 884.493,976.037 891.228,981.1 897.963,986.084 904.698,990.988 911.433,995.813 918.168,1000.56 924.904,1005.23 931.639,1009.82 938.374,1014.33 945.109,1018.77 951.844,1023.13 958.579,1027.42 965.314,1031.63 972.05,1035.77 978.785,1039.84 985.52,1043.83 992.255,1047.75 998.99,1051.6 1005.73,1055.37 1012.46,1059.08 1019.2,1062.71 1025.93,1066.28 1032.67,1069.78 1039.4,1073.21 1046.14,1076.57 1052.87,1079.87 1059.61,1083.1 1066.34,1086.26 1073.08,1089.36 1079.81,1092.39 1086.55,1095.36 1093.28,1098.27 1100.02,1101.11 1106.75,1103.89 1113.49,1106.62 1120.22,1109.28 1126.96,1111.88 1133.69,1114.42 1140.43,1116.9 1147.16,1119.32 1153.9,1121.69 1160.63,1124 1167.37,1126.25 1174.1,1128.45 1180.84,1130.59 1187.57,1132.68 1194.31,1134.72 1201.04,1136.7 1207.78,1138.63 1214.52,1140.51 1221.25,1142.33 1227.99,1144.11 1234.72,1145.83 1241.46,1147.51 1248.19,1149.14 1254.93,1150.72 1261.66,1152.25 1268.4,1153.73 1275.13,1155.17 1281.87,1156.57 1288.6,1157.92 1295.34,1159.22 1302.07,1160.48 1308.81,1161.7 1315.54,1162.87 1322.28,1164 1329.01,1165.09 1335.75,1166.14 1342.48,1167.15 1349.22,1168.12 1355.95,1169.05 1362.69,1169.95 1369.42,1170.8 1376.16,1171.62 1382.89,1172.4 1389.63,1173.15 1396.36,1173.85 1403.1,1174.53 1409.83,1175.17 1416.57,1175.77 1423.3,1176.35 1430.04,1176.89 1436.78,1177.39 1443.51,1177.87 1450.25,1178.31 1456.98,1178.73 1463.72,1179.11 1470.45,1179.46 1477.19,1179.79 1483.92,1180.09 1490.66,1180.36 1497.39,1180.6 1504.13,1180.81 1510.86,1181 1517.6,1181.16 1524.33,1181.3 1531.07,1181.41 1537.8,1181.5 1544.54,1181.56 1551.27,1181.6 1558.01,1181.62 1564.74,1181.62 1571.48,1181.59 1578.21,1181.54 1584.95,1181.48 1591.68,1181.39 1598.42,1181.28 1605.15,1181.15 1611.89,1181 1618.62,1180.84 1625.36,1180.65 1632.09,1180.45 1638.83,1180.23 1645.56,1180 1652.3,1179.75 1659.04,1179.48 1665.77,1179.2 1672.51,1178.9 1679.24,1178.59 1685.98,1178.26 1692.71,1177.93 1699.45,1177.57 1706.18,1177.21 1712.92,1176.83 1719.65,1176.44 1726.39,1176.04 1733.12,1175.63 1739.86,1175.21 1746.59,1174.78 1753.33,1174.34 1760.06,1173.88 1766.8,1173.43 1773.53,1172.96 1780.27,1172.48 1787,1172 1793.74,1171.51 1800.47,1171.01 1807.21,1170.5 1813.94,1169.99 1820.68,1169.48 1827.41,1168.95 1834.15,1168.43 1840.88,1167.9 1847.62,1167.36 1854.35,1166.82 1861.09,1166.28 1867.82,1165.73 1874.56,1165.19 1881.3,1164.64 1888.03,1164.08 1894.77,1163.53 1901.5,1162.97 1908.24,1162.42 1914.97,1161.86 1921.71,1161.31 1928.44,1160.75 1935.18,1160.2 1941.91,1159.64 1948.65,1159.09 1955.38,1158.54 1962.12,1157.99 1968.85,1157.45 1975.59,1156.91 1982.32,1156.37 1989.06,1155.83 1995.79,1155.3 2002.53,1154.77 2009.26,1154.25 2016,1153.73 2022.73,1153.22 2029.47,1152.71 2036.2,1152.21 2042.94,1151.72 2049.67,1151.23 2056.41,1150.75 2063.14,1150.28 2069.88,1149.81 2076.61,1149.36 2083.35,1148.91 2090.08,1148.47 2096.82,1148.04 2103.56,1147.62 2110.29,1147.21 2117.03,1146.81 2123.76,1146.42 2130.5,1146.04 2137.23,1145.68 2143.97,1145.32 2150.7,1144.98 2157.44,1144.65 2164.17,1144.33 2170.91,1144.02 2177.64,1143.73 2184.38,1143.45 2191.11,1143.19 2197.85,1142.94 2204.58,1142.71 2211.32,1142.49 2218.05,1142.28 2224.79,1142.1 2231.52,1141.92 2238.26,1141.77 2244.99,1141.63 2251.73,1141.51 2258.46,1141.41 2265.2,1141.32 2271.93,1141.25 2278.67,1141.21 2285.4,1141.18 2292.14,1141.17 \"/>\n<polyline clip-path=\"url(#clip242)\" style=\"stroke:#c271d2; stroke-linecap:round; stroke-linejoin:round; stroke-width:4; stroke-opacity:1; fill:none\" stroke-dasharray=\"16, 10\" points=\"271.594,1288.3 278.329,1285.92 285.064,1283.55 291.799,1281.2 298.534,1278.87 305.27,1276.55 312.005,1274.26 318.74,1271.98 325.475,1269.73 332.21,1267.49 338.945,1265.27 345.68,1263.07 352.416,1260.89 359.151,1258.73 365.886,1256.59 372.621,1254.47 379.356,1252.37 386.091,1250.29 392.827,1248.23 399.562,1246.19 406.297,1244.17 413.032,1242.17 419.767,1240.19 426.502,1238.23 433.237,1236.29 439.973,1234.37 446.708,1232.47 453.443,1230.59 460.178,1228.73 466.913,1226.89 473.648,1225.07 480.384,1223.27 487.119,1221.5 493.854,1219.74 500.589,1218 507.324,1216.28 514.059,1214.58 520.794,1212.9 527.53,1211.25 534.265,1209.61 541,1207.99 547.735,1206.39 554.47,1204.81 561.205,1203.26 567.941,1201.72 574.676,1200.2 581.411,1198.7 588.146,1197.22 594.881,1195.76 601.616,1194.31 608.351,1192.89 615.087,1191.49 621.822,1190.1 628.557,1188.74 635.292,1187.39 642.027,1186.06 648.762,1184.75 655.497,1183.46 662.233,1182.19 668.968,1180.94 675.703,1179.7 682.438,1178.48 689.173,1177.28 695.908,1176.1 702.644,1174.94 709.379,1173.79 716.114,1172.66 722.849,1171.55 729.584,1170.46 736.319,1169.38 743.054,1168.32 749.79,1167.28 756.525,1166.25 763.26,1165.24 769.995,1164.25 776.73,1163.27 783.465,1162.31 790.201,1161.37 796.936,1160.44 803.671,1159.53 810.406,1158.63 817.141,1157.75 823.876,1156.89 830.611,1156.04 837.347,1155.2 844.082,1154.38 850.817,1153.58 857.552,1152.79 864.287,1152.01 871.022,1151.25 877.758,1150.5 884.493,1149.77 891.228,1149.05 897.963,1148.35 904.698,1147.66 911.433,1146.98 918.168,1146.31 924.904,1145.66 931.639,1145.03 938.374,1144.4 945.109,1143.79 951.844,1143.19 958.579,1142.61 965.314,1142.03 972.05,1141.47 978.785,1140.92 985.52,1140.39 992.255,1139.86 998.99,1139.35 1005.73,1138.85 1012.46,1138.36 1019.2,1137.88 1025.93,1137.41 1032.67,1136.96 1039.4,1136.51 1046.14,1136.08 1052.87,1135.65 1059.61,1135.24 1066.34,1134.84 1073.08,1134.44 1079.81,1134.06 1086.55,1133.69 1093.28,1133.33 1100.02,1132.97 1106.75,1132.63 1113.49,1132.3 1120.22,1131.97 1126.96,1131.66 1133.69,1131.35 1140.43,1131.05 1147.16,1130.76 1153.9,1130.48 1160.63,1130.21 1167.37,1129.95 1174.1,1129.7 1180.84,1129.45 1187.57,1129.21 1194.31,1128.98 1201.04,1128.76 1207.78,1128.55 1214.52,1128.34 1221.25,1128.14 1227.99,1127.95 1234.72,1127.76 1241.46,1127.59 1248.19,1127.42 1254.93,1127.25 1261.66,1127.1 1268.4,1126.95 1275.13,1126.8 1281.87,1126.67 1288.6,1126.53 1295.34,1126.41 1302.07,1126.29 1308.81,1126.18 1315.54,1126.07 1322.28,1125.97 1329.01,1125.88 1335.75,1125.79 1342.48,1125.71 1349.22,1125.63 1355.95,1125.56 1362.69,1125.49 1369.42,1125.43 1376.16,1125.37 1382.89,1125.32 1389.63,1125.28 1396.36,1125.23 1403.1,1125.2 1409.83,1125.17 1416.57,1125.14 1423.3,1125.11 1430.04,1125.1 1436.78,1125.08 1443.51,1125.07 1450.25,1125.07 1456.98,1125.06 1463.72,1125.07 1470.45,1125.07 1477.19,1125.08 1483.92,1125.1 1490.66,1125.11 1497.39,1125.13 1504.13,1125.16 1510.86,1125.19 1517.6,1125.22 1524.33,1125.25 1531.07,1125.29 1537.8,1125.33 1544.54,1125.38 1551.27,1125.43 1558.01,1125.48 1564.74,1125.53 1571.48,1125.59 1578.21,1125.65 1584.95,1125.71 1591.68,1125.77 1598.42,1125.84 1605.15,1125.91 1611.89,1125.99 1618.62,1126.06 1625.36,1126.14 1632.09,1126.22 1638.83,1126.3 1645.56,1126.39 1652.3,1126.48 1659.04,1126.57 1665.77,1126.66 1672.51,1126.75 1679.24,1126.85 1685.98,1126.95 1692.71,1127.05 1699.45,1127.15 1706.18,1127.25 1712.92,1127.36 1719.65,1127.47 1726.39,1127.58 1733.12,1127.69 1739.86,1127.8 1746.59,1127.92 1753.33,1128.04 1760.06,1128.15 1766.8,1128.27 1773.53,1128.4 1780.27,1128.52 1787,1128.64 1793.74,1128.77 1800.47,1128.9 1807.21,1129.03 1813.94,1129.16 1820.68,1129.29 1827.41,1129.42 1834.15,1129.56 1840.88,1129.69 1847.62,1129.83 1854.35,1129.97 1861.09,1130.11 1867.82,1130.25 1874.56,1130.39 1881.3,1130.54 1888.03,1130.68 1894.77,1130.83 1901.5,1130.97 1908.24,1131.12 1914.97,1131.27 1921.71,1131.42 1928.44,1131.57 1935.18,1131.72 1941.91,1131.88 1948.65,1132.03 1955.38,1132.19 1962.12,1132.34 1968.85,1132.5 1975.59,1132.66 1982.32,1132.82 1989.06,1132.98 1995.79,1133.14 2002.53,1133.3 2009.26,1133.47 2016,1133.63 2022.73,1133.8 2029.47,1133.96 2036.2,1134.13 2042.94,1134.3 2049.67,1134.47 2056.41,1134.64 2063.14,1134.81 2069.88,1134.98 2076.61,1135.15 2083.35,1135.33 2090.08,1135.5 2096.82,1135.68 2103.56,1135.85 2110.29,1136.03 2117.03,1136.21 2123.76,1136.39 2130.5,1136.57 2137.23,1136.75 2143.97,1136.93 2150.7,1137.11 2157.44,1137.3 2164.17,1137.48 2170.91,1137.67 2177.64,1137.85 2184.38,1138.04 2191.11,1138.23 2197.85,1138.42 2204.58,1138.61 2211.32,1138.8 2218.05,1138.99 2224.79,1139.19 2231.52,1139.38 2238.26,1139.57 2244.99,1139.77 2251.73,1139.97 2258.46,1140.16 2265.2,1140.36 2271.93,1140.56 2278.67,1140.76 2285.4,1140.97 2292.14,1141.17 \"/>\n<polyline clip-path=\"url(#clip242)\" style=\"stroke:#ac8d18; stroke-linecap:round; stroke-linejoin:round; stroke-width:4; stroke-opacity:1; fill:none\" stroke-dasharray=\"16, 10\" points=\"271.594,1043.08 278.329,1045.8 285.064,1048.48 291.799,1051.13 298.534,1053.74 305.27,1056.31 312.005,1058.85 318.74,1061.34 325.475,1063.8 332.21,1066.23 338.945,1068.62 345.68,1070.97 352.416,1073.28 359.151,1075.56 365.886,1077.81 372.621,1080.02 379.356,1082.19 386.091,1084.33 392.827,1086.44 399.562,1088.51 406.297,1090.55 413.032,1092.55 419.767,1094.52 426.502,1096.46 433.237,1098.36 439.973,1100.24 446.708,1102.08 453.443,1103.88 460.178,1105.66 466.913,1107.41 473.648,1109.12 480.384,1110.8 487.119,1112.46 493.854,1114.08 500.589,1115.67 507.324,1117.23 514.059,1118.77 520.794,1120.27 527.53,1121.74 534.265,1123.19 541,1124.61 547.735,1126 554.47,1127.36 561.205,1128.7 567.941,1130.01 574.676,1131.29 581.411,1132.54 588.146,1133.77 594.881,1134.97 601.616,1136.15 608.351,1137.3 615.087,1138.43 621.822,1139.53 628.557,1140.61 635.292,1141.66 642.027,1142.69 648.762,1143.69 655.497,1144.68 662.233,1145.63 668.968,1146.57 675.703,1147.48 682.438,1148.38 689.173,1149.24 695.908,1150.09 702.644,1150.92 709.379,1151.72 716.114,1152.51 722.849,1153.27 729.584,1154.02 736.319,1154.74 743.054,1155.44 749.79,1156.13 756.525,1156.79 763.26,1157.44 769.995,1158.07 776.73,1158.68 783.465,1159.27 790.201,1159.84 796.936,1160.4 803.671,1160.94 810.406,1161.46 817.141,1161.96 823.876,1162.45 830.611,1162.92 837.347,1163.38 844.082,1163.82 850.817,1164.24 857.552,1164.65 864.287,1165.05 871.022,1165.43 877.758,1165.79 884.493,1166.14 891.228,1166.48 897.963,1166.8 904.698,1167.11 911.433,1167.4 918.168,1167.69 924.904,1167.96 931.639,1168.21 938.374,1168.46 945.109,1168.69 951.844,1168.91 958.579,1169.12 965.314,1169.31 972.05,1169.5 978.785,1169.67 985.52,1169.83 992.255,1169.98 998.99,1170.13 1005.73,1170.26 1012.46,1170.38 1019.2,1170.49 1025.93,1170.59 1032.67,1170.68 1039.4,1170.76 1046.14,1170.83 1052.87,1170.9 1059.61,1170.95 1066.34,1171 1073.08,1171.04 1079.81,1171.06 1086.55,1171.09 1093.28,1171.1 1100.02,1171.1 1106.75,1171.1 1113.49,1171.09 1120.22,1171.08 1126.96,1171.05 1133.69,1171.02 1140.43,1170.98 1147.16,1170.94 1153.9,1170.89 1160.63,1170.83 1167.37,1170.77 1174.1,1170.7 1180.84,1170.62 1187.57,1170.54 1194.31,1170.46 1201.04,1170.36 1207.78,1170.27 1214.52,1170.17 1221.25,1170.06 1227.99,1169.95 1234.72,1169.83 1241.46,1169.71 1248.19,1169.58 1254.93,1169.45 1261.66,1169.32 1268.4,1169.18 1275.13,1169.04 1281.87,1168.89 1288.6,1168.74 1295.34,1168.59 1302.07,1168.43 1308.81,1168.27 1315.54,1168.11 1322.28,1167.94 1329.01,1167.77 1335.75,1167.6 1342.48,1167.42 1349.22,1167.24 1355.95,1167.06 1362.69,1166.88 1369.42,1166.69 1376.16,1166.5 1382.89,1166.31 1389.63,1166.12 1396.36,1165.92 1403.1,1165.73 1409.83,1165.53 1416.57,1165.33 1423.3,1165.12 1430.04,1164.92 1436.78,1164.71 1443.51,1164.51 1450.25,1164.3 1456.98,1164.09 1463.72,1163.88 1470.45,1163.67 1477.19,1163.45 1483.92,1163.24 1490.66,1163.02 1497.39,1162.81 1504.13,1162.59 1510.86,1162.37 1517.6,1162.15 1524.33,1161.93 1531.07,1161.71 1537.8,1161.49 1544.54,1161.27 1551.27,1161.05 1558.01,1160.83 1564.74,1160.61 1571.48,1160.38 1578.21,1160.16 1584.95,1159.94 1591.68,1159.72 1598.42,1159.49 1605.15,1159.27 1611.89,1159.05 1618.62,1158.83 1625.36,1158.6 1632.09,1158.38 1638.83,1158.16 1645.56,1157.94 1652.3,1157.72 1659.04,1157.5 1665.77,1157.28 1672.51,1157.06 1679.24,1156.84 1685.98,1156.62 1692.71,1156.4 1699.45,1156.18 1706.18,1155.96 1712.92,1155.75 1719.65,1155.53 1726.39,1155.31 1733.12,1155.1 1739.86,1154.88 1746.59,1154.67 1753.33,1154.46 1760.06,1154.25 1766.8,1154.04 1773.53,1153.83 1780.27,1153.62 1787,1153.41 1793.74,1153.2 1800.47,1153 1807.21,1152.79 1813.94,1152.59 1820.68,1152.38 1827.41,1152.18 1834.15,1151.98 1840.88,1151.78 1847.62,1151.58 1854.35,1151.38 1861.09,1151.18 1867.82,1150.99 1874.56,1150.79 1881.3,1150.6 1888.03,1150.41 1894.77,1150.22 1901.5,1150.03 1908.24,1149.84 1914.97,1149.65 1921.71,1149.46 1928.44,1149.28 1935.18,1149.09 1941.91,1148.91 1948.65,1148.73 1955.38,1148.55 1962.12,1148.37 1968.85,1148.19 1975.59,1148.01 1982.32,1147.84 1989.06,1147.66 1995.79,1147.49 2002.53,1147.32 2009.26,1147.15 2016,1146.98 2022.73,1146.81 2029.47,1146.65 2036.2,1146.48 2042.94,1146.32 2049.67,1146.16 2056.41,1145.99 2063.14,1145.83 2069.88,1145.68 2076.61,1145.52 2083.35,1145.36 2090.08,1145.21 2096.82,1145.06 2103.56,1144.9 2110.29,1144.75 2117.03,1144.6 2123.76,1144.45 2130.5,1144.31 2137.23,1144.16 2143.97,1144.02 2150.7,1143.88 2157.44,1143.73 2164.17,1143.59 2170.91,1143.45 2177.64,1143.32 2184.38,1143.18 2191.11,1143.04 2197.85,1142.91 2204.58,1142.78 2211.32,1142.65 2218.05,1142.52 2224.79,1142.39 2231.52,1142.26 2238.26,1142.13 2244.99,1142.01 2251.73,1141.88 2258.46,1141.76 2265.2,1141.64 2271.93,1141.52 2278.67,1141.4 2285.4,1141.28 2292.14,1141.17 \"/>\n<polyline clip-path=\"url(#clip242)\" style=\"stroke:#00a9ad; stroke-linecap:round; stroke-linejoin:round; stroke-width:4; stroke-opacity:1; fill:none\" stroke-dasharray=\"16, 10\" points=\"271.594,1386.4 278.329,1385.65 285.064,1384.86 291.799,1384.03 298.534,1383.16 305.27,1382.24 312.005,1381.29 318.74,1380.3 325.475,1379.27 332.21,1378.2 338.945,1377.1 345.68,1375.97 352.416,1374.8 359.151,1373.6 365.886,1372.37 372.621,1371.11 379.356,1369.83 386.091,1368.51 392.827,1367.17 399.562,1365.8 406.297,1364.4 413.032,1362.98 419.767,1361.54 426.502,1360.08 433.237,1358.59 439.973,1357.08 446.708,1355.55 453.443,1354.01 460.178,1352.44 466.913,1350.86 473.648,1349.26 480.384,1347.65 487.119,1346.02 493.854,1344.37 500.589,1342.71 507.324,1341.04 514.059,1339.36 520.794,1337.66 527.53,1335.96 534.265,1334.24 541,1332.51 547.735,1330.78 554.47,1329.03 561.205,1327.28 567.941,1325.52 574.676,1323.76 581.411,1321.98 588.146,1320.21 594.881,1318.42 601.616,1316.64 608.351,1314.85 615.087,1313.05 621.822,1311.26 628.557,1309.46 635.292,1307.65 642.027,1305.85 648.762,1304.05 655.497,1302.24 662.233,1300.44 668.968,1298.64 675.703,1296.83 682.438,1295.03 689.173,1293.23 695.908,1291.43 702.644,1289.64 709.379,1287.85 716.114,1286.06 722.849,1284.27 729.584,1282.49 736.319,1280.71 743.054,1278.94 749.79,1277.17 756.525,1275.4 763.26,1273.65 769.995,1271.89 776.73,1270.15 783.465,1268.41 790.201,1266.68 796.936,1264.95 803.671,1263.23 810.406,1261.52 817.141,1259.81 823.876,1258.12 830.611,1256.43 837.347,1254.75 844.082,1253.08 850.817,1251.42 857.552,1249.76 864.287,1248.12 871.022,1246.49 877.758,1244.86 884.493,1243.24 891.228,1241.64 897.963,1240.04 904.698,1238.46 911.433,1236.88 918.168,1235.32 924.904,1233.76 931.639,1232.22 938.374,1230.69 945.109,1229.17 951.844,1227.66 958.579,1226.16 965.314,1224.67 972.05,1223.2 978.785,1221.73 985.52,1220.28 992.255,1218.84 998.99,1217.41 1005.73,1215.99 1012.46,1214.59 1019.2,1213.19 1025.93,1211.81 1032.67,1210.44 1039.4,1209.08 1046.14,1207.74 1052.87,1206.41 1059.61,1205.09 1066.34,1203.78 1073.08,1202.49 1079.81,1201.2 1086.55,1199.93 1093.28,1198.68 1100.02,1197.43 1106.75,1196.2 1113.49,1194.98 1120.22,1193.77 1126.96,1192.58 1133.69,1191.4 1140.43,1190.23 1147.16,1189.07 1153.9,1187.93 1160.63,1186.8 1167.37,1185.68 1174.1,1184.57 1180.84,1183.48 1187.57,1182.4 1194.31,1181.33 1201.04,1180.27 1207.78,1179.23 1214.52,1178.2 1221.25,1177.18 1227.99,1176.18 1234.72,1175.19 1241.46,1174.2 1248.19,1173.24 1254.93,1172.28 1261.66,1171.34 1268.4,1170.41 1275.13,1169.49 1281.87,1168.58 1288.6,1167.69 1295.34,1166.8 1302.07,1165.93 1308.81,1165.08 1315.54,1164.23 1322.28,1163.4 1329.01,1162.57 1335.75,1161.76 1342.48,1160.97 1349.22,1160.18 1355.95,1159.4 1362.69,1158.64 1369.42,1157.89 1376.16,1157.15 1382.89,1156.42 1389.63,1155.7 1396.36,1155 1403.1,1154.3 1409.83,1153.62 1416.57,1152.94 1423.3,1152.28 1430.04,1151.63 1436.78,1150.99 1443.51,1150.37 1450.25,1149.75 1456.98,1149.14 1463.72,1148.55 1470.45,1147.96 1477.19,1147.39 1483.92,1146.82 1490.66,1146.27 1497.39,1145.73 1504.13,1145.19 1510.86,1144.67 1517.6,1144.16 1524.33,1143.66 1531.07,1143.17 1537.8,1142.69 1544.54,1142.21 1551.27,1141.75 1558.01,1141.3 1564.74,1140.86 1571.48,1140.43 1578.21,1140.01 1584.95,1139.59 1591.68,1139.19 1598.42,1138.8 1605.15,1138.41 1611.89,1138.04 1618.62,1137.67 1625.36,1137.32 1632.09,1136.97 1638.83,1136.63 1645.56,1136.3 1652.3,1135.98 1659.04,1135.67 1665.77,1135.37 1672.51,1135.08 1679.24,1134.79 1685.98,1134.52 1692.71,1134.25 1699.45,1134 1706.18,1133.75 1712.92,1133.51 1719.65,1133.27 1726.39,1133.05 1733.12,1132.84 1739.86,1132.63 1746.59,1132.43 1753.33,1132.24 1760.06,1132.06 1766.8,1131.88 1773.53,1131.72 1780.27,1131.56 1787,1131.41 1793.74,1131.27 1800.47,1131.14 1807.21,1131.01 1813.94,1130.89 1820.68,1130.78 1827.41,1130.68 1834.15,1130.59 1840.88,1130.5 1847.62,1130.42 1854.35,1130.35 1861.09,1130.29 1867.82,1130.23 1874.56,1130.18 1881.3,1130.14 1888.03,1130.11 1894.77,1130.08 1901.5,1130.07 1908.24,1130.05 1914.97,1130.05 1921.71,1130.05 1928.44,1130.07 1935.18,1130.08 1941.91,1130.11 1948.65,1130.14 1955.38,1130.18 1962.12,1130.23 1968.85,1130.28 1975.59,1130.35 1982.32,1130.41 1989.06,1130.49 1995.79,1130.57 2002.53,1130.66 2009.26,1130.76 2016,1130.87 2022.73,1130.98 2029.47,1131.1 2036.2,1131.22 2042.94,1131.35 2049.67,1131.49 2056.41,1131.64 2063.14,1131.79 2069.88,1131.95 2076.61,1132.12 2083.35,1132.3 2090.08,1132.48 2096.82,1132.67 2103.56,1132.86 2110.29,1133.06 2117.03,1133.27 2123.76,1133.49 2130.5,1133.71 2137.23,1133.94 2143.97,1134.18 2150.7,1134.43 2157.44,1134.68 2164.17,1134.94 2170.91,1135.2 2177.64,1135.47 2184.38,1135.75 2191.11,1136.04 2197.85,1136.33 2204.58,1136.63 2211.32,1136.94 2218.05,1137.25 2224.79,1137.57 2231.52,1137.9 2238.26,1138.24 2244.99,1138.58 2251.73,1138.93 2258.46,1139.28 2265.2,1139.65 2271.93,1140.02 2278.67,1140.39 2285.4,1140.78 2292.14,1141.17 \"/>\n<path clip-path=\"url(#clip240)\" d=\"M2023.9 529.676 L2281.36 529.676 L2281.36 166.796 L2023.9 166.796  Z\" fill=\"#ffffff\" fill-rule=\"evenodd\" fill-opacity=\"1\"/>\n<polyline clip-path=\"url(#clip240)\" style=\"stroke:#000000; stroke-linecap:round; stroke-linejoin:round; stroke-width:4; stroke-opacity:1; fill:none\" points=\"2023.9,529.676 2281.36,529.676 2281.36,166.796 2023.9,166.796 2023.9,529.676 \"/>\n<polyline clip-path=\"url(#clip240)\" style=\"stroke:#009af9; stroke-linecap:round; stroke-linejoin:round; stroke-width:4; stroke-opacity:1; fill:none\" points=\"2047.7,218.636 2190.48,218.636 \"/>\n<path clip-path=\"url(#clip240)\" d=\"M2238.93 209.99 L2229.56 222.606 L2239.42 235.916 L2234.39 235.916 L2226.85 225.731 L2219.3 235.916 L2214.28 235.916 L2224.35 222.351 L2215.14 209.99 L2220.16 209.99 L2227.03 219.226 L2233.91 209.99 L2238.93 209.99 Z\" fill=\"#000000\" fill-rule=\"evenodd\" fill-opacity=\"1\" /><path clip-path=\"url(#clip240)\" d=\"M2244.58 233.369 L2249.3 233.369 L2249.3 219.226 L2244.14 220.175 L2244.14 217.49 L2249.46 216.587 L2252.64 216.587 L2252.64 233.369 L2257.38 233.369 L2257.38 235.916 L2244.58 235.916 L2244.58 233.369 Z\" fill=\"#000000\" fill-rule=\"evenodd\" fill-opacity=\"1\" /><polyline clip-path=\"url(#clip240)\" style=\"stroke:#e26f46; stroke-linecap:round; stroke-linejoin:round; stroke-width:4; stroke-opacity:1; fill:none\" points=\"2047.7,270.476 2190.48,270.476 \"/>\n<path clip-path=\"url(#clip240)\" d=\"M2238.93 261.83 L2229.56 274.446 L2239.42 287.756 L2234.39 287.756 L2226.85 277.571 L2219.3 287.756 L2214.28 287.756 L2224.35 274.191 L2215.14 261.83 L2220.16 261.83 L2227.03 271.066 L2233.91 261.83 L2238.93 261.83 Z\" fill=\"#000000\" fill-rule=\"evenodd\" fill-opacity=\"1\" /><path clip-path=\"url(#clip240)\" d=\"M2247.17 285.117 L2256.99 285.117 L2256.99 287.756 L2243.14 287.756 L2243.14 285.209 Q2243.93 284.492 2245.39 283.196 Q2253.35 276.135 2253.35 273.959 Q2253.35 272.432 2252.15 271.506 Q2250.95 270.557 2248.98 270.557 Q2247.77 270.557 2246.36 270.973 Q2244.95 271.367 2243.28 272.177 L2243.28 269.33 Q2245.07 268.682 2246.59 268.358 Q2248.14 268.034 2249.46 268.034 Q2252.82 268.034 2254.83 269.561 Q2256.85 271.089 2256.85 273.589 Q2256.85 276.807 2249.19 283.381 Q2247.89 284.492 2247.17 285.117 Z\" fill=\"#000000\" fill-rule=\"evenodd\" fill-opacity=\"1\" /><polyline clip-path=\"url(#clip240)\" style=\"stroke:#3da44d; stroke-linecap:round; stroke-linejoin:round; stroke-width:4; stroke-opacity:1; fill:none\" points=\"2047.7,322.316 2190.48,322.316 \"/>\n<path clip-path=\"url(#clip240)\" d=\"M2238.93 313.67 L2229.56 326.286 L2239.42 339.596 L2234.39 339.596 L2226.85 329.411 L2219.3 339.596 L2214.28 339.596 L2224.35 326.031 L2215.14 313.67 L2220.16 313.67 L2227.03 322.906 L2233.91 313.67 L2238.93 313.67 Z\" fill=\"#000000\" fill-rule=\"evenodd\" fill-opacity=\"1\" /><path clip-path=\"url(#clip240)\" d=\"M2253.1 329.133 Q2255.23 329.549 2256.39 330.823 Q2257.57 332.073 2257.57 333.971 Q2257.57 336.841 2255.37 338.392 Q2253.17 339.943 2249.07 339.943 Q2247.75 339.943 2246.29 339.688 Q2244.86 339.457 2243.24 338.994 L2243.24 336.193 Q2244.44 336.818 2245.81 337.119 Q2247.2 337.42 2248.75 337.42 Q2251.27 337.42 2252.66 336.517 Q2254.05 335.591 2254.05 333.971 Q2254.05 332.258 2252.75 331.378 Q2251.48 330.499 2248.98 330.499 L2246.99 330.499 L2246.99 327.999 L2249.16 327.999 Q2251.34 327.999 2252.45 327.281 Q2253.58 326.54 2253.58 325.151 Q2253.58 323.809 2252.43 323.114 Q2251.27 322.397 2249.07 322.397 Q2248.14 322.397 2246.96 322.605 Q2245.78 322.813 2243.91 323.346 L2243.91 320.684 Q2245.6 320.29 2247.08 320.082 Q2248.56 319.874 2249.83 319.874 Q2253.17 319.874 2255.11 321.239 Q2257.08 322.605 2257.08 324.897 Q2257.08 326.494 2256.04 327.605 Q2255 328.716 2253.1 329.133 Z\" fill=\"#000000\" fill-rule=\"evenodd\" fill-opacity=\"1\" /><polyline clip-path=\"url(#clip240)\" style=\"stroke:#c271d2; stroke-linecap:round; stroke-linejoin:round; stroke-width:4; stroke-opacity:1; fill:none\" stroke-dasharray=\"16, 10\" points=\"2047.7,374.156 2190.48,374.156 \"/>\n<path clip-path=\"url(#clip240)\" d=\"M2238.93 365.51 L2229.56 378.126 L2239.42 391.436 L2234.39 391.436 L2226.85 381.251 L2219.3 391.436 L2214.28 391.436 L2224.35 377.871 L2215.14 365.51 L2220.16 365.51 L2227.03 374.746 L2233.91 365.51 L2238.93 365.51 Z\" fill=\"#000000\" fill-rule=\"evenodd\" fill-opacity=\"1\" /><path clip-path=\"url(#clip240)\" d=\"M2226.94 355.417 L2231.2 355.417 L2231.2 360.811 L2226.94 360.811 L2226.94 355.417 M2229.12 364.885 L2229.12 364.885 Z\" fill=\"#000000\" fill-rule=\"evenodd\" fill-opacity=\"1\" /><path clip-path=\"url(#clip240)\" d=\"M2244.58 388.889 L2249.3 388.889 L2249.3 374.746 L2244.14 375.695 L2244.14 373.01 L2249.46 372.107 L2252.64 372.107 L2252.64 388.889 L2257.38 388.889 L2257.38 391.436 L2244.58 391.436 L2244.58 388.889 Z\" fill=\"#000000\" fill-rule=\"evenodd\" fill-opacity=\"1\" /><polyline clip-path=\"url(#clip240)\" style=\"stroke:#ac8d18; stroke-linecap:round; stroke-linejoin:round; stroke-width:4; stroke-opacity:1; fill:none\" stroke-dasharray=\"16, 10\" points=\"2047.7,425.996 2190.48,425.996 \"/>\n<path clip-path=\"url(#clip240)\" d=\"M2238.93 417.35 L2229.56 429.966 L2239.42 443.276 L2234.39 443.276 L2226.85 433.091 L2219.3 443.276 L2214.28 443.276 L2224.35 429.711 L2215.14 417.35 L2220.16 417.35 L2227.03 426.586 L2233.91 417.35 L2238.93 417.35 Z\" fill=\"#000000\" fill-rule=\"evenodd\" fill-opacity=\"1\" /><path clip-path=\"url(#clip240)\" d=\"M2226.94 407.257 L2231.2 407.257 L2231.2 412.651 L2226.94 412.651 L2226.94 407.257 M2229.12 416.725 L2229.12 416.725 Z\" fill=\"#000000\" fill-rule=\"evenodd\" fill-opacity=\"1\" /><path clip-path=\"url(#clip240)\" d=\"M2247.17 440.637 L2256.99 440.637 L2256.99 443.276 L2243.14 443.276 L2243.14 440.729 Q2243.93 440.012 2245.39 438.716 Q2253.35 431.655 2253.35 429.479 Q2253.35 427.952 2252.15 427.026 Q2250.95 426.077 2248.98 426.077 Q2247.77 426.077 2246.36 426.493 Q2244.95 426.887 2243.28 427.697 L2243.28 424.85 Q2245.07 424.202 2246.59 423.878 Q2248.14 423.554 2249.46 423.554 Q2252.82 423.554 2254.83 425.081 Q2256.85 426.609 2256.85 429.109 Q2256.85 432.327 2249.19 438.901 Q2247.89 440.012 2247.17 440.637 Z\" fill=\"#000000\" fill-rule=\"evenodd\" fill-opacity=\"1\" /><polyline clip-path=\"url(#clip240)\" style=\"stroke:#00a9ad; stroke-linecap:round; stroke-linejoin:round; stroke-width:4; stroke-opacity:1; fill:none\" stroke-dasharray=\"16, 10\" points=\"2047.7,477.836 2190.48,477.836 \"/>\n<path clip-path=\"url(#clip240)\" d=\"M2238.93 469.19 L2229.56 481.806 L2239.42 495.116 L2234.39 495.116 L2226.85 484.931 L2219.3 495.116 L2214.28 495.116 L2224.35 481.551 L2215.14 469.19 L2220.16 469.19 L2227.03 478.426 L2233.91 469.19 L2238.93 469.19 Z\" fill=\"#000000\" fill-rule=\"evenodd\" fill-opacity=\"1\" /><path clip-path=\"url(#clip240)\" d=\"M2226.94 459.097 L2231.2 459.097 L2231.2 464.491 L2226.94 464.491 L2226.94 459.097 M2229.12 468.565 L2229.12 468.565 Z\" fill=\"#000000\" fill-rule=\"evenodd\" fill-opacity=\"1\" /><path clip-path=\"url(#clip240)\" d=\"M2253.1 484.653 Q2255.23 485.069 2256.39 486.343 Q2257.57 487.593 2257.57 489.491 Q2257.57 492.361 2255.37 493.912 Q2253.17 495.463 2249.07 495.463 Q2247.75 495.463 2246.29 495.208 Q2244.86 494.977 2243.24 494.514 L2243.24 491.713 Q2244.44 492.338 2245.81 492.639 Q2247.2 492.94 2248.75 492.94 Q2251.27 492.94 2252.66 492.037 Q2254.05 491.111 2254.05 489.491 Q2254.05 487.778 2252.75 486.898 Q2251.48 486.019 2248.98 486.019 L2246.99 486.019 L2246.99 483.519 L2249.16 483.519 Q2251.34 483.519 2252.45 482.801 Q2253.58 482.06 2253.58 480.671 Q2253.58 479.329 2252.43 478.634 Q2251.27 477.917 2249.07 477.917 Q2248.14 477.917 2246.96 478.125 Q2245.78 478.333 2243.91 478.866 L2243.91 476.204 Q2245.6 475.81 2247.08 475.602 Q2248.56 475.394 2249.83 475.394 Q2253.17 475.394 2255.11 476.759 Q2257.08 478.125 2257.08 480.417 Q2257.08 482.014 2256.04 483.125 Q2255 484.236 2253.1 484.653 Z\" fill=\"#000000\" fill-rule=\"evenodd\" fill-opacity=\"1\" /></svg>\n"
     },
     "metadata": {},
     "output_type": "display_data"
    },
    {
     "data": {
      "image/svg+xml": "<?xml version=\"1.0\" encoding=\"utf-8\"?>\n<svg xmlns=\"http://www.w3.org/2000/svg\" xmlns:xlink=\"http://www.w3.org/1999/xlink\" width=\"600\" height=\"400\" viewBox=\"0 0 2400 1600\">\n<defs>\n  <clipPath id=\"clip280\">\n    <rect x=\"0\" y=\"0\" width=\"2400\" height=\"1600\"/>\n  </clipPath>\n</defs>\n<path clip-path=\"url(#clip280)\" d=\"M0 1600 L2400 1600 L2400 0 L0 0  Z\" fill=\"#ffffff\" fill-rule=\"evenodd\" fill-opacity=\"1\"/>\n<defs>\n  <clipPath id=\"clip281\">\n    <rect x=\"480\" y=\"0\" width=\"1681\" height=\"1600\"/>\n  </clipPath>\n</defs>\n<path clip-path=\"url(#clip280)\" d=\"M232.389 1423.18 L2352.76 1423.18 L2352.76 123.472 L232.389 123.472  Z\" fill=\"#ffffff\" fill-rule=\"evenodd\" fill-opacity=\"1\"/>\n<defs>\n  <clipPath id=\"clip282\">\n    <rect x=\"232\" y=\"123\" width=\"2121\" height=\"1301\"/>\n  </clipPath>\n</defs>\n<polyline clip-path=\"url(#clip282)\" style=\"stroke:#000000; stroke-linecap:round; stroke-linejoin:round; stroke-width:2; stroke-opacity:0.1; fill:none\" points=\"292.4,1423.18 292.4,123.472 \"/>\n<polyline clip-path=\"url(#clip282)\" style=\"stroke:#000000; stroke-linecap:round; stroke-linejoin:round; stroke-width:2; stroke-opacity:0.1; fill:none\" points=\"961.412,1423.18 961.412,123.472 \"/>\n<polyline clip-path=\"url(#clip282)\" style=\"stroke:#000000; stroke-linecap:round; stroke-linejoin:round; stroke-width:2; stroke-opacity:0.1; fill:none\" points=\"1630.42,1423.18 1630.42,123.472 \"/>\n<polyline clip-path=\"url(#clip282)\" style=\"stroke:#000000; stroke-linecap:round; stroke-linejoin:round; stroke-width:2; stroke-opacity:0.1; fill:none\" points=\"2299.44,1423.18 2299.44,123.472 \"/>\n<polyline clip-path=\"url(#clip280)\" style=\"stroke:#000000; stroke-linecap:round; stroke-linejoin:round; stroke-width:4; stroke-opacity:1; fill:none\" points=\"232.389,1423.18 2352.76,1423.18 \"/>\n<polyline clip-path=\"url(#clip280)\" style=\"stroke:#000000; stroke-linecap:round; stroke-linejoin:round; stroke-width:4; stroke-opacity:1; fill:none\" points=\"292.4,1423.18 292.4,1404.28 \"/>\n<polyline clip-path=\"url(#clip280)\" style=\"stroke:#000000; stroke-linecap:round; stroke-linejoin:round; stroke-width:4; stroke-opacity:1; fill:none\" points=\"961.412,1423.18 961.412,1404.28 \"/>\n<polyline clip-path=\"url(#clip280)\" style=\"stroke:#000000; stroke-linecap:round; stroke-linejoin:round; stroke-width:4; stroke-opacity:1; fill:none\" points=\"1630.42,1423.18 1630.42,1404.28 \"/>\n<polyline clip-path=\"url(#clip280)\" style=\"stroke:#000000; stroke-linecap:round; stroke-linejoin:round; stroke-width:4; stroke-opacity:1; fill:none\" points=\"2299.44,1423.18 2299.44,1404.28 \"/>\n<path clip-path=\"url(#clip280)\" d=\"M292.4 1454.1 Q288.789 1454.1 286.96 1457.66 Q285.154 1461.2 285.154 1468.33 Q285.154 1475.44 286.96 1479.01 Q288.789 1482.55 292.4 1482.55 Q296.034 1482.55 297.84 1479.01 Q299.668 1475.44 299.668 1468.33 Q299.668 1461.2 297.84 1457.66 Q296.034 1454.1 292.4 1454.1 M292.4 1450.39 Q298.21 1450.39 301.265 1455 Q304.344 1459.58 304.344 1468.33 Q304.344 1477.06 301.265 1481.67 Q298.21 1486.25 292.4 1486.25 Q286.59 1486.25 283.511 1481.67 Q280.455 1477.06 280.455 1468.33 Q280.455 1459.58 283.511 1455 Q286.59 1450.39 292.4 1450.39 Z\" fill=\"#000000\" fill-rule=\"evenodd\" fill-opacity=\"1\" /><path clip-path=\"url(#clip280)\" d=\"M951.69 1451.02 L970.046 1451.02 L970.046 1454.96 L955.972 1454.96 L955.972 1463.43 Q956.99 1463.08 958.009 1462.92 Q959.027 1462.73 960.046 1462.73 Q965.833 1462.73 969.213 1465.9 Q972.592 1469.08 972.592 1474.49 Q972.592 1480.07 969.12 1483.17 Q965.648 1486.25 959.328 1486.25 Q957.152 1486.25 954.884 1485.88 Q952.639 1485.51 950.231 1484.77 L950.231 1480.07 Q952.315 1481.2 954.537 1481.76 Q956.759 1482.32 959.236 1482.32 Q963.24 1482.32 965.578 1480.21 Q967.916 1478.1 967.916 1474.49 Q967.916 1470.88 965.578 1468.77 Q963.24 1466.67 959.236 1466.67 Q957.361 1466.67 955.486 1467.08 Q953.634 1467.5 951.69 1468.38 L951.69 1451.02 Z\" fill=\"#000000\" fill-rule=\"evenodd\" fill-opacity=\"1\" /><path clip-path=\"url(#clip280)\" d=\"M1605.11 1481.64 L1612.75 1481.64 L1612.75 1455.28 L1604.44 1456.95 L1604.44 1452.69 L1612.7 1451.02 L1617.38 1451.02 L1617.38 1481.64 L1625.02 1481.64 L1625.02 1485.58 L1605.11 1485.58 L1605.11 1481.64 Z\" fill=\"#000000\" fill-rule=\"evenodd\" fill-opacity=\"1\" /><path clip-path=\"url(#clip280)\" d=\"M1644.46 1454.1 Q1640.85 1454.1 1639.02 1457.66 Q1637.22 1461.2 1637.22 1468.33 Q1637.22 1475.44 1639.02 1479.01 Q1640.85 1482.55 1644.46 1482.55 Q1648.1 1482.55 1649.9 1479.01 Q1651.73 1475.44 1651.73 1468.33 Q1651.73 1461.2 1649.9 1457.66 Q1648.1 1454.1 1644.46 1454.1 M1644.46 1450.39 Q1650.27 1450.39 1653.33 1455 Q1656.41 1459.58 1656.41 1468.33 Q1656.41 1477.06 1653.33 1481.67 Q1650.27 1486.25 1644.46 1486.25 Q1638.65 1486.25 1635.57 1481.67 Q1632.52 1477.06 1632.52 1468.33 Q1632.52 1459.58 1635.57 1455 Q1638.65 1450.39 1644.46 1450.39 Z\" fill=\"#000000\" fill-rule=\"evenodd\" fill-opacity=\"1\" /><path clip-path=\"url(#clip280)\" d=\"M2274.62 1481.64 L2282.26 1481.64 L2282.26 1455.28 L2273.95 1456.95 L2273.95 1452.69 L2282.21 1451.02 L2286.89 1451.02 L2286.89 1481.64 L2294.53 1481.64 L2294.53 1485.58 L2274.62 1485.58 L2274.62 1481.64 Z\" fill=\"#000000\" fill-rule=\"evenodd\" fill-opacity=\"1\" /><path clip-path=\"url(#clip280)\" d=\"M2304.02 1451.02 L2322.38 1451.02 L2322.38 1454.96 L2308.3 1454.96 L2308.3 1463.43 Q2309.32 1463.08 2310.34 1462.92 Q2311.36 1462.73 2312.38 1462.73 Q2318.16 1462.73 2321.54 1465.9 Q2324.92 1469.08 2324.92 1474.49 Q2324.92 1480.07 2321.45 1483.17 Q2317.98 1486.25 2311.66 1486.25 Q2309.48 1486.25 2307.21 1485.88 Q2304.97 1485.51 2302.56 1484.77 L2302.56 1480.07 Q2304.64 1481.2 2306.87 1481.76 Q2309.09 1482.32 2311.57 1482.32 Q2315.57 1482.32 2317.91 1480.21 Q2320.25 1478.1 2320.25 1474.49 Q2320.25 1470.88 2317.91 1468.77 Q2315.57 1466.67 2311.57 1466.67 Q2309.69 1466.67 2307.82 1467.08 Q2305.96 1467.5 2304.02 1468.38 L2304.02 1451.02 Z\" fill=\"#000000\" fill-rule=\"evenodd\" fill-opacity=\"1\" /><path clip-path=\"url(#clip280)\" d=\"M1180.03 1522.27 L1180.03 1532.4 L1192.09 1532.4 L1192.09 1536.95 L1180.03 1536.95 L1180.03 1556.3 Q1180.03 1560.66 1181.2 1561.9 Q1182.41 1563.14 1186.07 1563.14 L1192.09 1563.14 L1192.09 1568.04 L1186.07 1568.04 Q1179.29 1568.04 1176.72 1565.53 Q1174.14 1562.98 1174.14 1556.3 L1174.14 1536.95 L1169.84 1536.95 L1169.84 1532.4 L1174.14 1532.4 L1174.14 1522.27 L1180.03 1522.27 Z\" fill=\"#000000\" fill-rule=\"evenodd\" fill-opacity=\"1\" /><path clip-path=\"url(#clip280)\" d=\"M1199.79 1532.4 L1205.65 1532.4 L1205.65 1568.04 L1199.79 1568.04 L1199.79 1532.4 M1199.79 1518.52 L1205.65 1518.52 L1205.65 1525.93 L1199.79 1525.93 L1199.79 1518.52 Z\" fill=\"#000000\" fill-rule=\"evenodd\" fill-opacity=\"1\" /><path clip-path=\"url(#clip280)\" d=\"M1245.66 1539.24 Q1247.85 1535.29 1250.91 1533.41 Q1253.96 1531.54 1258.1 1531.54 Q1263.67 1531.54 1266.7 1535.45 Q1269.72 1539.33 1269.72 1546.53 L1269.72 1568.04 L1263.83 1568.04 L1263.83 1546.72 Q1263.83 1541.59 1262.02 1539.11 Q1260.2 1536.63 1256.48 1536.63 Q1251.93 1536.63 1249.29 1539.65 Q1246.64 1542.68 1246.64 1547.9 L1246.64 1568.04 L1240.76 1568.04 L1240.76 1546.72 Q1240.76 1541.56 1238.94 1539.11 Q1237.13 1536.63 1233.34 1536.63 Q1228.85 1536.63 1226.21 1539.68 Q1223.57 1542.71 1223.57 1547.9 L1223.57 1568.04 L1217.68 1568.04 L1217.68 1532.4 L1223.57 1532.4 L1223.57 1537.93 Q1225.57 1534.66 1228.37 1533.1 Q1231.18 1531.54 1235.03 1531.54 Q1238.91 1531.54 1241.62 1533.51 Q1244.35 1535.48 1245.66 1539.24 Z\" fill=\"#000000\" fill-rule=\"evenodd\" fill-opacity=\"1\" /><path clip-path=\"url(#clip280)\" d=\"M1311.89 1548.76 L1311.89 1551.62 L1284.97 1551.62 Q1285.35 1557.67 1288.59 1560.85 Q1291.87 1564 1297.7 1564 Q1301.07 1564 1304.22 1563.17 Q1307.4 1562.35 1310.52 1560.69 L1310.52 1566.23 Q1307.37 1567.57 1304.06 1568.27 Q1300.75 1568.97 1297.35 1568.97 Q1288.82 1568.97 1283.82 1564 Q1278.85 1559.04 1278.85 1550.57 Q1278.85 1541.82 1283.57 1536.69 Q1288.31 1531.54 1296.33 1531.54 Q1303.52 1531.54 1307.69 1536.18 Q1311.89 1540.8 1311.89 1548.76 M1306.04 1547.04 Q1305.97 1542.23 1303.33 1539.37 Q1300.72 1536.5 1296.39 1536.5 Q1291.49 1536.5 1288.53 1539.27 Q1285.6 1542.04 1285.16 1547.07 L1306.04 1547.04 Z\" fill=\"#000000\" fill-rule=\"evenodd\" fill-opacity=\"1\" /><path clip-path=\"url(#clip280)\" d=\"M1356.29 1518.58 Q1352.03 1525.9 1349.96 1533.06 Q1347.89 1540.23 1347.89 1547.58 Q1347.89 1554.93 1349.96 1562.16 Q1352.06 1569.35 1356.29 1576.64 L1351.2 1576.64 Q1346.43 1569.16 1344.04 1561.93 Q1341.68 1554.71 1341.68 1547.58 Q1341.68 1540.48 1344.04 1533.29 Q1346.39 1526.09 1351.2 1518.58 L1356.29 1518.58 Z\" fill=\"#000000\" fill-rule=\"evenodd\" fill-opacity=\"1\" /><path clip-path=\"url(#clip280)\" d=\"M1390.38 1533.45 L1390.38 1538.98 Q1387.9 1537.71 1385.23 1537.07 Q1382.55 1536.44 1379.69 1536.44 Q1375.33 1536.44 1373.13 1537.77 Q1370.97 1539.11 1370.97 1541.79 Q1370.97 1543.82 1372.53 1545 Q1374.09 1546.15 1378.8 1547.2 L1380.8 1547.64 Q1387.04 1548.98 1389.65 1551.43 Q1392.29 1553.85 1392.29 1558.21 Q1392.29 1563.17 1388.34 1566.07 Q1384.43 1568.97 1377.55 1568.97 Q1374.69 1568.97 1371.57 1568.39 Q1368.48 1567.85 1365.05 1566.74 L1365.05 1560.69 Q1368.29 1562.38 1371.44 1563.24 Q1374.59 1564.07 1377.68 1564.07 Q1381.82 1564.07 1384.05 1562.66 Q1386.28 1561.23 1386.28 1558.65 Q1386.28 1556.27 1384.65 1554.99 Q1383.06 1553.72 1377.62 1552.54 L1375.58 1552.07 Q1370.14 1550.92 1367.72 1548.56 Q1365.3 1546.18 1365.3 1542.04 Q1365.3 1537.01 1368.87 1534.27 Q1372.43 1531.54 1378.99 1531.54 Q1382.23 1531.54 1385.1 1532.01 Q1387.96 1532.49 1390.38 1533.45 Z\" fill=\"#000000\" fill-rule=\"evenodd\" fill-opacity=\"1\" /><path clip-path=\"url(#clip280)\" d=\"M1400.69 1518.58 L1405.79 1518.58 Q1410.56 1526.09 1412.92 1533.29 Q1415.3 1540.48 1415.3 1547.58 Q1415.3 1554.71 1412.92 1561.93 Q1410.56 1569.16 1405.79 1576.64 L1400.69 1576.64 Q1404.93 1569.35 1407 1562.16 Q1409.1 1554.93 1409.1 1547.58 Q1409.1 1540.23 1407 1533.06 Q1404.93 1525.9 1400.69 1518.58 Z\" fill=\"#000000\" fill-rule=\"evenodd\" fill-opacity=\"1\" /><polyline clip-path=\"url(#clip282)\" style=\"stroke:#000000; stroke-linecap:round; stroke-linejoin:round; stroke-width:2; stroke-opacity:0.1; fill:none\" points=\"232.389,1269.6 2352.76,1269.6 \"/>\n<polyline clip-path=\"url(#clip282)\" style=\"stroke:#000000; stroke-linecap:round; stroke-linejoin:round; stroke-width:2; stroke-opacity:0.1; fill:none\" points=\"232.389,1006.62 2352.76,1006.62 \"/>\n<polyline clip-path=\"url(#clip282)\" style=\"stroke:#000000; stroke-linecap:round; stroke-linejoin:round; stroke-width:2; stroke-opacity:0.1; fill:none\" points=\"232.389,743.632 2352.76,743.632 \"/>\n<polyline clip-path=\"url(#clip282)\" style=\"stroke:#000000; stroke-linecap:round; stroke-linejoin:round; stroke-width:2; stroke-opacity:0.1; fill:none\" points=\"232.389,480.646 2352.76,480.646 \"/>\n<polyline clip-path=\"url(#clip282)\" style=\"stroke:#000000; stroke-linecap:round; stroke-linejoin:round; stroke-width:2; stroke-opacity:0.1; fill:none\" points=\"232.389,217.66 2352.76,217.66 \"/>\n<polyline clip-path=\"url(#clip280)\" style=\"stroke:#000000; stroke-linecap:round; stroke-linejoin:round; stroke-width:4; stroke-opacity:1; fill:none\" points=\"232.389,1423.18 232.389,123.472 \"/>\n<polyline clip-path=\"url(#clip280)\" style=\"stroke:#000000; stroke-linecap:round; stroke-linejoin:round; stroke-width:4; stroke-opacity:1; fill:none\" points=\"232.389,1269.6 251.287,1269.6 \"/>\n<polyline clip-path=\"url(#clip280)\" style=\"stroke:#000000; stroke-linecap:round; stroke-linejoin:round; stroke-width:4; stroke-opacity:1; fill:none\" points=\"232.389,1006.62 251.287,1006.62 \"/>\n<polyline clip-path=\"url(#clip280)\" style=\"stroke:#000000; stroke-linecap:round; stroke-linejoin:round; stroke-width:4; stroke-opacity:1; fill:none\" points=\"232.389,743.632 251.287,743.632 \"/>\n<polyline clip-path=\"url(#clip280)\" style=\"stroke:#000000; stroke-linecap:round; stroke-linejoin:round; stroke-width:4; stroke-opacity:1; fill:none\" points=\"232.389,480.646 251.287,480.646 \"/>\n<polyline clip-path=\"url(#clip280)\" style=\"stroke:#000000; stroke-linecap:round; stroke-linejoin:round; stroke-width:4; stroke-opacity:1; fill:none\" points=\"232.389,217.66 251.287,217.66 \"/>\n<path clip-path=\"url(#clip280)\" d=\"M184.445 1255.4 Q180.834 1255.4 179.005 1258.97 Q177.2 1262.51 177.2 1269.64 Q177.2 1276.75 179.005 1280.31 Q180.834 1283.85 184.445 1283.85 Q188.079 1283.85 189.885 1280.31 Q191.713 1276.75 191.713 1269.64 Q191.713 1262.51 189.885 1258.97 Q188.079 1255.4 184.445 1255.4 M184.445 1251.7 Q190.255 1251.7 193.311 1256.31 Q196.389 1260.89 196.389 1269.64 Q196.389 1278.37 193.311 1282.97 Q190.255 1287.56 184.445 1287.56 Q178.635 1287.56 175.556 1282.97 Q172.501 1278.37 172.501 1269.64 Q172.501 1260.89 175.556 1256.31 Q178.635 1251.7 184.445 1251.7 Z\" fill=\"#000000\" fill-rule=\"evenodd\" fill-opacity=\"1\" /><path clip-path=\"url(#clip280)\" d=\"M149.306 1019.96 L165.626 1019.96 L165.626 1023.9 L143.681 1023.9 L143.681 1019.96 Q146.343 1017.21 150.927 1012.58 Q155.533 1007.93 156.714 1006.58 Q158.959 1004.06 159.839 1002.32 Q160.741 1000.57 160.741 998.876 Q160.741 996.121 158.797 994.385 Q156.876 992.649 153.774 992.649 Q151.575 992.649 149.121 993.413 Q146.691 994.176 143.913 995.727 L143.913 991.005 Q146.737 989.871 149.191 989.292 Q151.644 988.714 153.681 988.714 Q159.052 988.714 162.246 991.399 Q165.44 994.084 165.44 998.575 Q165.44 1000.7 164.63 1002.63 Q163.843 1004.52 161.737 1007.12 Q161.158 1007.79 158.056 1011.01 Q154.954 1014.2 149.306 1019.96 Z\" fill=\"#000000\" fill-rule=\"evenodd\" fill-opacity=\"1\" /><path clip-path=\"url(#clip280)\" d=\"M175.487 989.339 L193.843 989.339 L193.843 993.274 L179.769 993.274 L179.769 1001.75 Q180.788 1001.4 181.806 1001.24 Q182.825 1001.05 183.843 1001.05 Q189.63 1001.05 193.01 1004.22 Q196.389 1007.39 196.389 1012.81 Q196.389 1018.39 192.917 1021.49 Q189.445 1024.57 183.126 1024.57 Q180.95 1024.57 178.681 1024.2 Q176.436 1023.83 174.028 1023.09 L174.028 1018.39 Q176.112 1019.52 178.334 1020.08 Q180.556 1020.63 183.033 1020.63 Q187.038 1020.63 189.375 1018.53 Q191.713 1016.42 191.713 1012.81 Q191.713 1009.2 189.375 1007.09 Q187.038 1004.99 183.033 1004.99 Q181.158 1004.99 179.283 1005.4 Q177.431 1005.82 175.487 1006.7 L175.487 989.339 Z\" fill=\"#000000\" fill-rule=\"evenodd\" fill-opacity=\"1\" /><path clip-path=\"url(#clip280)\" d=\"M144.329 726.352 L162.686 726.352 L162.686 730.288 L148.612 730.288 L148.612 738.76 Q149.63 738.413 150.649 738.251 Q151.667 738.065 152.686 738.065 Q158.473 738.065 161.852 741.237 Q165.232 744.408 165.232 749.825 Q165.232 755.403 161.76 758.505 Q158.288 761.584 151.968 761.584 Q149.792 761.584 147.524 761.213 Q145.279 760.843 142.871 760.102 L142.871 755.403 Q144.954 756.537 147.177 757.093 Q149.399 757.649 151.876 757.649 Q155.88 757.649 158.218 755.542 Q160.556 753.436 160.556 749.825 Q160.556 746.213 158.218 744.107 Q155.88 742.001 151.876 742.001 Q150.001 742.001 148.126 742.417 Q146.274 742.834 144.329 743.713 L144.329 726.352 Z\" fill=\"#000000\" fill-rule=\"evenodd\" fill-opacity=\"1\" /><path clip-path=\"url(#clip280)\" d=\"M184.445 729.431 Q180.834 729.431 179.005 732.996 Q177.2 736.538 177.2 743.667 Q177.2 750.774 179.005 754.338 Q180.834 757.88 184.445 757.88 Q188.079 757.88 189.885 754.338 Q191.713 750.774 191.713 743.667 Q191.713 736.538 189.885 732.996 Q188.079 729.431 184.445 729.431 M184.445 725.727 Q190.255 725.727 193.311 730.334 Q196.389 734.917 196.389 743.667 Q196.389 752.394 193.311 757 Q190.255 761.584 184.445 761.584 Q178.635 761.584 175.556 757 Q172.501 752.394 172.501 743.667 Q172.501 734.917 175.556 730.334 Q178.635 725.727 184.445 725.727 Z\" fill=\"#000000\" fill-rule=\"evenodd\" fill-opacity=\"1\" /><path clip-path=\"url(#clip280)\" d=\"M144.098 463.366 L166.32 463.366 L166.32 465.357 L153.774 497.926 L148.89 497.926 L160.695 467.302 L144.098 467.302 L144.098 463.366 Z\" fill=\"#000000\" fill-rule=\"evenodd\" fill-opacity=\"1\" /><path clip-path=\"url(#clip280)\" d=\"M175.487 463.366 L193.843 463.366 L193.843 467.302 L179.769 467.302 L179.769 475.774 Q180.788 475.426 181.806 475.264 Q182.825 475.079 183.843 475.079 Q189.63 475.079 193.01 478.251 Q196.389 481.422 196.389 486.838 Q196.389 492.417 192.917 495.519 Q189.445 498.598 183.126 498.598 Q180.95 498.598 178.681 498.227 Q176.436 497.857 174.028 497.116 L174.028 492.417 Q176.112 493.551 178.334 494.107 Q180.556 494.662 183.033 494.662 Q187.038 494.662 189.375 492.556 Q191.713 490.45 191.713 486.838 Q191.713 483.227 189.375 481.121 Q187.038 479.014 183.033 479.014 Q181.158 479.014 179.283 479.431 Q177.431 479.848 175.487 480.727 L175.487 463.366 Z\" fill=\"#000000\" fill-rule=\"evenodd\" fill-opacity=\"1\" /><path clip-path=\"url(#clip280)\" d=\"M114.931 231.005 L122.57 231.005 L122.57 204.64 L114.26 206.306 L114.26 202.047 L122.524 200.38 L127.2 200.38 L127.2 231.005 L134.839 231.005 L134.839 234.94 L114.931 234.94 L114.931 231.005 Z\" fill=\"#000000\" fill-rule=\"evenodd\" fill-opacity=\"1\" /><path clip-path=\"url(#clip280)\" d=\"M154.283 203.459 Q150.672 203.459 148.843 207.024 Q147.038 210.565 147.038 217.695 Q147.038 224.801 148.843 228.366 Q150.672 231.908 154.283 231.908 Q157.917 231.908 159.723 228.366 Q161.552 224.801 161.552 217.695 Q161.552 210.565 159.723 207.024 Q157.917 203.459 154.283 203.459 M154.283 199.755 Q160.093 199.755 163.149 204.362 Q166.227 208.945 166.227 217.695 Q166.227 226.422 163.149 231.028 Q160.093 235.612 154.283 235.612 Q148.473 235.612 145.394 231.028 Q142.339 226.422 142.339 217.695 Q142.339 208.945 145.394 204.362 Q148.473 199.755 154.283 199.755 Z\" fill=\"#000000\" fill-rule=\"evenodd\" fill-opacity=\"1\" /><path clip-path=\"url(#clip280)\" d=\"M184.445 203.459 Q180.834 203.459 179.005 207.024 Q177.2 210.565 177.2 217.695 Q177.2 224.801 179.005 228.366 Q180.834 231.908 184.445 231.908 Q188.079 231.908 189.885 228.366 Q191.713 224.801 191.713 217.695 Q191.713 210.565 189.885 207.024 Q188.079 203.459 184.445 203.459 M184.445 199.755 Q190.255 199.755 193.311 204.362 Q196.389 208.945 196.389 217.695 Q196.389 226.422 193.311 231.028 Q190.255 235.612 184.445 235.612 Q178.635 235.612 175.556 231.028 Q172.501 226.422 172.501 217.695 Q172.501 208.945 175.556 204.362 Q178.635 199.755 184.445 199.755 Z\" fill=\"#000000\" fill-rule=\"evenodd\" fill-opacity=\"1\" /><path clip-path=\"url(#clip280)\" d=\"M49.9359 788.254 L28.3562 788.254 L28.3562 782.397 L49.7131 782.397 Q54.7739 782.397 57.3202 780.424 Q59.8346 778.45 59.8346 774.504 Q59.8346 769.761 56.8109 767.024 Q53.7872 764.255 48.5673 764.255 L28.3562 764.255 L28.3562 758.398 L64.0042 758.398 L64.0042 764.255 L58.5296 764.255 Q61.7762 766.387 63.3676 769.22 Q64.9272 772.021 64.9272 775.745 Q64.9272 781.888 61.1078 785.071 Q57.2883 788.254 49.9359 788.254 M27.4968 773.517 L27.4968 773.517 Z\" fill=\"#000000\" fill-rule=\"evenodd\" fill-opacity=\"1\" /><path clip-path=\"url(#clip280)\" d=\"M1029.71 12.096 L1037.89 12.096 L1037.89 72.576 L1029.71 72.576 L1029.71 12.096 Z\" fill=\"#000000\" fill-rule=\"evenodd\" fill-opacity=\"1\" /><path clip-path=\"url(#clip280)\" d=\"M1091.57 45.1919 L1091.57 72.576 L1084.11 72.576 L1084.11 45.4349 Q1084.11 38.994 1081.6 35.7938 Q1079.09 32.5936 1074.07 32.5936 Q1068.03 32.5936 1064.55 36.4419 Q1061.06 40.2903 1061.06 46.9338 L1061.06 72.576 L1053.57 72.576 L1053.57 27.2059 L1061.06 27.2059 L1061.06 34.2544 Q1063.74 30.163 1067.34 28.1376 Q1070.99 26.1121 1075.73 26.1121 Q1083.55 26.1121 1087.56 30.9732 Q1091.57 35.7938 1091.57 45.1919 Z\" fill=\"#000000\" fill-rule=\"evenodd\" fill-opacity=\"1\" /><path clip-path=\"url(#clip280)\" d=\"M1113.64 65.7705 L1113.64 89.8329 L1106.15 89.8329 L1106.15 27.2059 L1113.64 27.2059 L1113.64 34.0924 Q1115.99 30.0415 1119.56 28.0971 Q1123.16 26.1121 1128.15 26.1121 Q1136.41 26.1121 1141.55 32.6746 Q1146.74 39.2371 1146.74 49.9314 Q1146.74 60.6258 1141.55 67.1883 Q1136.41 73.7508 1128.15 73.7508 Q1123.16 73.7508 1119.56 71.8063 Q1115.99 69.8214 1113.64 65.7705 M1139 49.9314 Q1139 41.7081 1135.6 37.0496 Q1132.24 32.3505 1126.32 32.3505 Q1120.41 32.3505 1117.01 37.0496 Q1113.64 41.7081 1113.64 49.9314 Q1113.64 58.1548 1117.01 62.8538 Q1120.41 67.5124 1126.32 67.5124 Q1132.24 67.5124 1135.6 62.8538 Q1139 58.1548 1139 49.9314 Z\" fill=\"#000000\" fill-rule=\"evenodd\" fill-opacity=\"1\" /><path clip-path=\"url(#clip280)\" d=\"M1158.33 54.671 L1158.33 27.2059 L1165.78 27.2059 L1165.78 54.3874 Q1165.78 60.8284 1168.29 64.0691 Q1170.8 67.2693 1175.83 67.2693 Q1181.86 67.2693 1185.35 63.421 Q1188.87 59.5726 1188.87 52.9291 L1188.87 27.2059 L1196.32 27.2059 L1196.32 72.576 L1188.87 72.576 L1188.87 65.6084 Q1186.16 69.7404 1182.55 71.7658 Q1178.99 73.7508 1174.25 73.7508 Q1166.43 73.7508 1162.38 68.8897 Q1158.33 64.0286 1158.33 54.671 M1177.08 26.1121 L1177.08 26.1121 Z\" fill=\"#000000\" fill-rule=\"evenodd\" fill-opacity=\"1\" /><path clip-path=\"url(#clip280)\" d=\"M1219.05 14.324 L1219.05 27.2059 L1234.4 27.2059 L1234.4 32.9987 L1219.05 32.9987 L1219.05 57.6282 Q1219.05 63.1779 1220.55 64.7578 Q1222.09 66.3376 1226.75 66.3376 L1234.4 66.3376 L1234.4 72.576 L1226.75 72.576 Q1218.12 72.576 1214.84 69.3758 Q1211.55 66.1351 1211.55 57.6282 L1211.55 32.9987 L1206.09 32.9987 L1206.09 27.2059 L1211.55 27.2059 L1211.55 14.324 L1219.05 14.324 Z\" fill=\"#000000\" fill-rule=\"evenodd\" fill-opacity=\"1\" /><path clip-path=\"url(#clip280)\" d=\"M1270.9 12.096 L1279.08 12.096 L1279.08 36.8875 L1308.82 36.8875 L1308.82 12.096 L1317 12.096 L1317 72.576 L1308.82 72.576 L1308.82 43.7741 L1279.08 43.7741 L1279.08 72.576 L1270.9 72.576 L1270.9 12.096 Z\" fill=\"#000000\" fill-rule=\"evenodd\" fill-opacity=\"1\" /><path clip-path=\"url(#clip280)\" d=\"M1332.96 27.2059 L1340.41 27.2059 L1340.41 72.576 L1332.96 72.576 L1332.96 27.2059 M1332.96 9.54393 L1340.41 9.54393 L1340.41 18.9825 L1332.96 18.9825 L1332.96 9.54393 Z\" fill=\"#000000\" fill-rule=\"evenodd\" fill-opacity=\"1\" /><path clip-path=\"url(#clip280)\" d=\"M1384.93 28.5427 L1384.93 35.5912 Q1381.77 33.9709 1378.37 33.1607 Q1374.97 32.3505 1371.32 32.3505 Q1365.77 32.3505 1362.98 34.0519 Q1360.22 35.7533 1360.22 39.156 Q1360.22 41.7486 1362.21 43.2475 Q1364.19 44.7058 1370.19 46.0426 L1372.74 46.6097 Q1380.68 48.3111 1384 51.4303 Q1387.36 54.509 1387.36 60.0587 Q1387.36 66.3781 1382.34 70.0644 Q1377.36 73.7508 1368.61 73.7508 Q1364.96 73.7508 1360.99 73.0216 Q1357.06 72.3329 1352.69 70.9151 L1352.69 63.2184 Q1356.82 65.3654 1360.83 66.4591 Q1364.84 67.5124 1368.77 67.5124 Q1374.04 67.5124 1376.87 65.73 Q1379.71 63.9071 1379.71 60.6258 Q1379.71 57.5877 1377.64 55.9673 Q1375.62 54.3469 1368.69 52.8481 L1366.1 52.2405 Q1359.17 50.7821 1356.09 47.7845 Q1353.01 44.7463 1353.01 39.4801 Q1353.01 33.0797 1357.55 29.5959 Q1362.09 26.1121 1370.43 26.1121 Q1374.56 26.1121 1378.21 26.7198 Q1381.85 27.3274 1384.93 28.5427 Z\" fill=\"#000000\" fill-rule=\"evenodd\" fill-opacity=\"1\" /><path clip-path=\"url(#clip280)\" d=\"M1406.61 14.324 L1406.61 27.2059 L1421.96 27.2059 L1421.96 32.9987 L1406.61 32.9987 L1406.61 57.6282 Q1406.61 63.1779 1408.1 64.7578 Q1409.64 66.3376 1414.3 66.3376 L1421.96 66.3376 L1421.96 72.576 L1414.3 72.576 Q1405.67 72.576 1402.39 69.3758 Q1399.11 66.1351 1399.11 57.6282 L1399.11 32.9987 L1393.64 32.9987 L1393.64 27.2059 L1399.11 27.2059 L1399.11 14.324 L1406.61 14.324 Z\" fill=\"#000000\" fill-rule=\"evenodd\" fill-opacity=\"1\" /><path clip-path=\"url(#clip280)\" d=\"M1449.34 32.4315 Q1443.35 32.4315 1439.86 37.1306 Q1436.38 41.7891 1436.38 49.9314 Q1436.38 58.0738 1439.82 62.7728 Q1443.31 67.4314 1449.34 67.4314 Q1455.3 67.4314 1458.78 62.7323 Q1462.27 58.0333 1462.27 49.9314 Q1462.27 41.8701 1458.78 37.1711 Q1455.3 32.4315 1449.34 32.4315 M1449.34 26.1121 Q1459.06 26.1121 1464.61 32.4315 Q1470.16 38.7509 1470.16 49.9314 Q1470.16 61.0714 1464.61 67.4314 Q1459.06 73.7508 1449.34 73.7508 Q1439.58 73.7508 1434.03 67.4314 Q1428.52 61.0714 1428.52 49.9314 Q1428.52 38.7509 1434.03 32.4315 Q1439.58 26.1121 1449.34 26.1121 Z\" fill=\"#000000\" fill-rule=\"evenodd\" fill-opacity=\"1\" /><path clip-path=\"url(#clip280)\" d=\"M1508.81 34.1734 Q1507.55 33.4443 1506.06 33.1202 Q1504.6 32.7556 1502.81 32.7556 Q1496.5 32.7556 1493.09 36.8875 Q1489.73 40.9789 1489.73 48.6757 L1489.73 72.576 L1482.24 72.576 L1482.24 27.2059 L1489.73 27.2059 L1489.73 34.2544 Q1492.08 30.1225 1495.85 28.1376 Q1499.61 26.1121 1505 26.1121 Q1505.77 26.1121 1506.7 26.2337 Q1507.64 26.3147 1508.77 26.5172 L1508.81 34.1734 Z\" fill=\"#000000\" fill-rule=\"evenodd\" fill-opacity=\"1\" /><path clip-path=\"url(#clip280)\" d=\"M1535.51 76.7889 Q1532.35 84.8907 1529.35 87.3618 Q1526.35 89.8329 1521.33 89.8329 L1515.37 89.8329 L1515.37 83.5945 L1519.75 83.5945 Q1522.83 83.5945 1524.53 82.1361 Q1526.23 80.6778 1528.29 75.2496 L1529.63 71.8468 L1511.28 27.2059 L1519.18 27.2059 L1533.36 62.6918 L1547.54 27.2059 L1555.44 27.2059 L1535.51 76.7889 Z\" fill=\"#000000\" fill-rule=\"evenodd\" fill-opacity=\"1\" /><polyline clip-path=\"url(#clip282)\" style=\"stroke:#009af9; stroke-linecap:round; stroke-linejoin:round; stroke-width:4; stroke-opacity:1; fill:none\" points=\"292.4,1167.22 299.09,1168 305.78,1168.79 312.47,1169.58 319.16,1170.37 325.85,1171.18 332.54,1171.99 339.231,1172.81 345.921,1173.63 352.611,1174.45 359.301,1175.28 365.991,1176.12 372.681,1176.96 379.371,1177.8 386.061,1178.65 392.752,1179.5 399.442,1180.35 406.132,1181.21 412.822,1182.06 419.512,1182.92 426.202,1183.79 432.892,1184.65 439.582,1185.51 446.272,1186.38 452.963,1187.25 459.653,1188.11 466.343,1188.98 473.033,1189.85 479.723,1190.72 486.413,1191.58 493.103,1192.45 499.793,1193.32 506.484,1194.18 513.174,1195.04 519.864,1195.91 526.554,1196.77 533.244,1197.63 539.934,1198.49 546.624,1199.34 553.314,1200.2 560.005,1201.05 566.695,1201.9 573.385,1202.74 580.075,1203.59 586.765,1204.43 593.455,1205.26 600.145,1206.1 606.835,1206.93 613.525,1207.76 620.216,1208.58 626.906,1209.4 633.596,1210.22 640.286,1211.03 646.976,1211.84 653.666,1212.64 660.356,1213.44 667.046,1214.24 673.737,1215.03 680.427,1215.82 687.117,1216.6 693.807,1217.37 700.497,1218.15 707.187,1218.91 713.877,1219.68 720.567,1220.43 727.258,1221.19 733.948,1221.93 740.638,1222.68 747.328,1223.41 754.018,1224.14 760.708,1224.87 767.398,1225.59 774.088,1226.3 780.778,1227.01 787.469,1227.72 794.159,1228.41 800.849,1229.11 807.539,1229.79 814.229,1230.47 820.919,1231.15 827.609,1231.82 834.299,1232.48 840.99,1233.14 847.68,1233.79 854.37,1234.43 861.06,1235.07 867.75,1235.71 874.44,1236.33 881.13,1236.95 887.82,1237.57 894.511,1238.18 901.201,1238.78 907.891,1239.38 914.581,1239.97 921.271,1240.55 927.961,1241.13 934.651,1241.7 941.341,1242.27 948.031,1242.83 954.722,1243.38 961.412,1243.93 968.102,1244.47 974.792,1245.01 981.482,1245.54 988.172,1246.06 994.862,1246.58 1001.55,1247.09 1008.24,1247.59 1014.93,1248.09 1021.62,1248.59 1028.31,1249.07 1035,1249.56 1041.69,1250.03 1048.38,1250.5 1055.07,1250.97 1061.76,1251.42 1068.45,1251.88 1075.14,1252.32 1081.83,1252.76 1088.52,1253.2 1095.21,1253.63 1101.9,1254.05 1108.59,1254.47 1115.28,1254.88 1121.97,1255.29 1128.66,1255.69 1135.35,1256.08 1142.04,1256.47 1148.74,1256.86 1155.43,1257.23 1162.12,1257.61 1168.81,1257.98 1175.5,1258.34 1182.19,1258.7 1188.88,1259.05 1195.57,1259.4 1202.26,1259.74 1208.95,1260.08 1215.64,1260.41 1222.33,1260.73 1229.02,1261.06 1235.71,1261.37 1242.4,1261.68 1249.09,1261.99 1255.78,1262.29 1262.47,1262.59 1269.16,1262.88 1275.85,1263.17 1282.54,1263.46 1289.23,1263.73 1295.92,1264.01 1302.61,1264.28 1309.3,1264.54 1315.99,1264.81 1322.68,1265.06 1329.37,1265.31 1336.06,1265.56 1342.75,1265.81 1349.44,1266.04 1356.13,1266.28 1362.82,1266.51 1369.51,1266.74 1376.2,1266.96 1382.89,1267.18 1389.58,1267.4 1396.27,1267.61 1402.96,1267.82 1409.65,1268.02 1416.34,1268.22 1423.03,1268.42 1429.72,1268.61 1436.41,1268.8 1443.1,1268.99 1449.79,1269.17 1456.48,1269.35 1463.17,1269.52 1469.86,1269.7 1476.55,1269.86 1483.24,1270.03 1489.93,1270.19 1496.62,1270.35 1503.31,1270.51 1510,1270.66 1516.69,1270.81 1523.38,1270.96 1530.07,1271.11 1536.76,1271.25 1543.45,1271.39 1550.14,1271.52 1556.83,1271.66 1563.52,1271.79 1570.21,1271.91 1576.9,1272.04 1583.59,1272.16 1590.28,1272.28 1596.97,1272.4 1603.66,1272.52 1610.35,1272.63 1617.04,1272.74 1623.73,1272.85 1630.42,1272.96 1637.11,1273.06 1643.8,1273.16 1650.49,1273.26 1657.18,1273.36 1663.87,1273.46 1670.56,1273.55 1677.25,1273.64 1683.94,1273.74 1690.63,1273.82 1697.32,1273.91 1704.01,1274 1710.71,1274.08 1717.4,1274.16 1724.09,1274.24 1730.78,1274.32 1737.47,1274.39 1744.16,1274.47 1750.85,1274.54 1757.54,1274.62 1764.23,1274.69 1770.92,1274.76 1777.61,1274.82 1784.3,1274.89 1790.99,1274.96 1797.68,1275.02 1804.37,1275.08 1811.06,1275.15 1817.75,1275.21 1824.44,1275.27 1831.13,1275.32 1837.82,1275.38 1844.51,1275.44 1851.2,1275.49 1857.89,1275.55 1864.58,1275.6 1871.27,1275.66 1877.96,1275.71 1884.65,1275.76 1891.34,1275.81 1898.03,1275.86 1904.72,1275.91 1911.41,1275.96 1918.1,1276 1924.79,1276.05 1931.48,1276.1 1938.17,1276.14 1944.86,1276.19 1951.55,1276.23 1958.24,1276.28 1964.93,1276.32 1971.62,1276.36 1978.31,1276.41 1985,1276.45 1991.69,1276.49 1998.38,1276.53 2005.07,1276.57 2011.76,1276.62 2018.45,1276.66 2025.14,1276.7 2031.83,1276.74 2038.52,1276.78 2045.21,1276.82 2051.9,1276.86 2058.59,1276.9 2065.28,1276.94 2071.97,1276.98 2078.66,1277.02 2085.35,1277.05 2092.04,1277.09 2098.73,1277.13 2105.42,1277.17 2112.11,1277.21 2118.8,1277.25 2125.49,1277.29 2132.18,1277.33 2138.87,1277.37 2145.56,1277.41 2152.25,1277.44 2158.94,1277.48 2165.63,1277.52 2172.32,1277.56 2179.01,1277.6 2185.7,1277.64 2192.39,1277.68 2199.08,1277.72 2205.77,1277.76 2212.46,1277.8 2219.15,1277.84 2225.84,1277.88 2232.53,1277.92 2239.22,1277.96 2245.91,1278 2252.6,1278.05 2259.29,1278.09 2265.99,1278.13 2272.68,1278.17 2279.37,1278.21 2286.06,1278.25 2292.75,1278.3 \"/>\n<polyline clip-path=\"url(#clip282)\" style=\"stroke:#e26f46; stroke-linecap:round; stroke-linejoin:round; stroke-width:4; stroke-opacity:1; fill:none\" points=\"292.4,1386.4 299.09,1384.76 305.78,1383.14 312.47,1381.52 319.16,1379.92 325.85,1378.32 332.54,1376.73 339.231,1375.16 345.921,1373.59 352.611,1372.03 359.301,1370.48 365.991,1368.94 372.681,1367.41 379.371,1365.89 386.061,1364.39 392.752,1362.89 399.442,1361.41 406.132,1359.93 412.822,1358.47 419.512,1357.01 426.202,1355.57 432.892,1354.14 439.582,1352.73 446.272,1351.32 452.963,1349.92 459.653,1348.54 466.343,1347.17 473.033,1345.81 479.723,1344.46 486.413,1343.13 493.103,1341.8 499.793,1340.49 506.484,1339.19 513.174,1337.91 519.864,1336.63 526.554,1335.37 533.244,1334.12 539.934,1332.88 546.624,1331.66 553.314,1330.44 560.005,1329.24 566.695,1328.05 573.385,1326.88 580.075,1325.72 586.765,1324.57 593.455,1323.43 600.145,1322.3 606.835,1321.19 613.525,1320.09 620.216,1319 626.906,1317.92 633.596,1316.86 640.286,1315.81 646.976,1314.77 653.666,1313.74 660.356,1312.73 667.046,1311.73 673.737,1310.74 680.427,1309.76 687.117,1308.8 693.807,1307.84 700.497,1306.9 707.187,1305.97 713.877,1305.06 720.567,1304.15 727.258,1303.26 733.948,1302.38 740.638,1301.51 747.328,1300.65 754.018,1299.8 760.708,1298.97 767.398,1298.15 774.088,1297.34 780.778,1296.54 787.469,1295.75 794.159,1294.97 800.849,1294.21 807.539,1293.45 814.229,1292.71 820.919,1291.98 827.609,1291.26 834.299,1290.55 840.99,1289.85 847.68,1289.16 854.37,1288.48 861.06,1287.81 867.75,1287.16 874.44,1286.51 881.13,1285.87 887.82,1285.25 894.511,1284.63 901.201,1284.03 907.891,1283.43 914.581,1282.85 921.271,1282.27 927.961,1281.71 934.651,1281.15 941.341,1280.61 948.031,1280.07 954.722,1279.54 961.412,1279.03 968.102,1278.52 974.792,1278.02 981.482,1277.53 988.172,1277.05 994.862,1276.58 1001.55,1276.11 1008.24,1275.66 1014.93,1275.21 1021.62,1274.78 1028.31,1274.35 1035,1273.93 1041.69,1273.52 1048.38,1273.11 1055.07,1272.72 1061.76,1272.33 1068.45,1271.95 1075.14,1271.58 1081.83,1271.22 1088.52,1270.86 1095.21,1270.51 1101.9,1270.17 1108.59,1269.84 1115.28,1269.51 1121.97,1269.19 1128.66,1268.88 1135.35,1268.58 1142.04,1268.28 1148.74,1267.99 1155.43,1267.7 1162.12,1267.43 1168.81,1267.16 1175.5,1266.89 1182.19,1266.64 1188.88,1266.39 1195.57,1266.14 1202.26,1265.9 1208.95,1265.67 1215.64,1265.44 1222.33,1265.22 1229.02,1265.01 1235.71,1264.8 1242.4,1264.6 1249.09,1264.4 1255.78,1264.21 1262.47,1264.02 1269.16,1263.84 1275.85,1263.67 1282.54,1263.5 1289.23,1263.33 1295.92,1263.17 1302.61,1263.02 1309.3,1262.87 1315.99,1262.72 1322.68,1262.58 1329.37,1262.44 1336.06,1262.31 1342.75,1262.19 1349.44,1262.06 1356.13,1261.95 1362.82,1261.83 1369.51,1261.72 1376.2,1261.62 1382.89,1261.52 1389.58,1261.42 1396.27,1261.33 1402.96,1261.24 1409.65,1261.15 1416.34,1261.07 1423.03,1260.99 1429.72,1260.92 1436.41,1260.85 1443.1,1260.78 1449.79,1260.72 1456.48,1260.66 1463.17,1260.6 1469.86,1260.55 1476.55,1260.5 1483.24,1260.45 1489.93,1260.4 1496.62,1260.36 1503.31,1260.32 1510,1260.29 1516.69,1260.26 1523.38,1260.22 1530.07,1260.2 1536.76,1260.17 1543.45,1260.15 1550.14,1260.13 1556.83,1260.11 1563.52,1260.1 1570.21,1260.08 1576.9,1260.07 1583.59,1260.07 1590.28,1260.06 1596.97,1260.06 1603.66,1260.05 1610.35,1260.05 1617.04,1260.06 1623.73,1260.06 1630.42,1260.07 1637.11,1260.08 1643.8,1260.09 1650.49,1260.1 1657.18,1260.11 1663.87,1260.13 1670.56,1260.14 1677.25,1260.16 1683.94,1260.18 1690.63,1260.2 1697.32,1260.22 1704.01,1260.25 1710.71,1260.27 1717.4,1260.3 1724.09,1260.33 1730.78,1260.36 1737.47,1260.39 1744.16,1260.42 1750.85,1260.45 1757.54,1260.49 1764.23,1260.52 1770.92,1260.56 1777.61,1260.59 1784.3,1260.63 1790.99,1260.67 1797.68,1260.71 1804.37,1260.75 1811.06,1260.79 1817.75,1260.84 1824.44,1260.88 1831.13,1260.92 1837.82,1260.97 1844.51,1261.01 1851.2,1261.06 1857.89,1261.11 1864.58,1261.15 1871.27,1261.2 1877.96,1261.25 1884.65,1261.3 1891.34,1261.35 1898.03,1261.4 1904.72,1261.45 1911.41,1261.5 1918.1,1261.55 1924.79,1261.6 1931.48,1261.65 1938.17,1261.71 1944.86,1261.76 1951.55,1261.81 1958.24,1261.87 1964.93,1261.92 1971.62,1261.97 1978.31,1262.03 1985,1262.08 1991.69,1262.14 1998.38,1262.19 2005.07,1262.25 2011.76,1262.3 2018.45,1262.36 2025.14,1262.41 2031.83,1262.47 2038.52,1262.52 2045.21,1262.58 2051.9,1262.63 2058.59,1262.69 2065.28,1262.75 2071.97,1262.8 2078.66,1262.86 2085.35,1262.91 2092.04,1262.97 2098.73,1263.03 2105.42,1263.08 2112.11,1263.14 2118.8,1263.19 2125.49,1263.25 2132.18,1263.3 2138.87,1263.36 2145.56,1263.42 2152.25,1263.47 2158.94,1263.53 2165.63,1263.58 2172.32,1263.64 2179.01,1263.69 2185.7,1263.75 2192.39,1263.8 2199.08,1263.86 2205.77,1263.91 2212.46,1263.97 2219.15,1264.02 2225.84,1264.08 2232.53,1264.13 2239.22,1264.19 2245.91,1264.24 2252.6,1264.29 2259.29,1264.35 2265.99,1264.4 2272.68,1264.45 2279.37,1264.51 2286.06,1264.56 2292.75,1264.61 \"/>\n<polyline clip-path=\"url(#clip282)\" style=\"stroke:#3da44d; stroke-linecap:round; stroke-linejoin:round; stroke-width:4; stroke-opacity:1; fill:none\" points=\"292.4,205.691 299.09,203.802 305.78,201.964 312.47,200.176 319.16,198.437 325.85,196.747 332.54,195.105 339.231,193.51 345.921,191.962 352.611,190.459 359.301,189.003 365.991,187.59 372.681,186.222 379.371,184.897 386.061,183.614 392.752,182.374 399.442,181.175 406.132,180.016 412.822,178.898 419.512,177.819 426.202,176.778 432.892,175.776 439.582,174.812 446.272,173.884 452.963,172.993 459.653,172.137 466.343,171.316 473.033,170.53 479.723,169.778 486.413,169.06 493.103,168.374 499.793,167.72 506.484,167.098 513.174,166.506 519.864,165.946 526.554,165.415 533.244,164.914 539.934,164.441 546.624,163.997 553.314,163.58 560.005,163.191 566.695,162.829 573.385,162.492 580.075,162.182 586.765,161.896 593.455,161.636 600.145,161.399 606.835,161.186 613.525,160.997 620.216,160.83 626.906,160.685 633.596,160.562 640.286,160.46 646.976,160.38 653.666,160.319 660.356,160.279 667.046,160.258 673.737,160.256 680.427,160.273 687.117,160.308 693.807,160.361 700.497,160.431 707.187,160.519 713.877,160.623 720.567,160.743 727.258,160.878 733.948,161.029 740.638,161.196 747.328,161.376 754.018,161.571 760.708,161.78 767.398,162.003 774.088,162.238 780.778,162.486 787.469,162.747 794.159,163.02 800.849,163.305 807.539,163.601 814.229,163.908 820.919,164.226 827.609,164.554 834.299,164.893 840.99,165.241 847.68,165.599 854.37,165.967 861.06,166.343 867.75,166.727 874.44,167.12 881.13,167.522 887.82,167.931 894.511,168.347 901.201,168.771 907.891,169.202 914.581,169.639 921.271,170.083 927.961,170.533 934.651,170.989 941.341,171.451 948.031,171.919 954.722,172.392 961.412,172.869 968.102,173.352 974.792,173.839 981.482,174.331 988.172,174.827 994.862,175.326 1001.55,175.83 1008.24,176.337 1014.93,176.848 1021.62,177.361 1028.31,177.878 1035,178.397 1041.69,178.919 1048.38,179.444 1055.07,179.971 1061.76,180.5 1068.45,181.031 1075.14,181.563 1081.83,182.098 1088.52,182.633 1095.21,183.17 1101.9,183.709 1108.59,184.248 1115.28,184.788 1121.97,185.329 1128.66,185.871 1135.35,186.413 1142.04,186.955 1148.74,187.498 1155.43,188.041 1162.12,188.583 1168.81,189.126 1175.5,189.668 1182.19,190.21 1188.88,190.752 1195.57,191.293 1202.26,191.833 1208.95,192.373 1215.64,192.912 1222.33,193.45 1229.02,193.987 1235.71,194.522 1242.4,195.057 1249.09,195.59 1255.78,196.122 1262.47,196.653 1269.16,197.182 1275.85,197.709 1282.54,198.235 1289.23,198.759 1295.92,199.282 1302.61,199.802 1309.3,200.321 1315.99,200.838 1322.68,201.353 1329.37,201.865 1336.06,202.376 1342.75,202.885 1349.44,203.391 1356.13,203.895 1362.82,204.397 1369.51,204.896 1376.2,205.394 1382.89,205.888 1389.58,206.381 1396.27,206.871 1402.96,207.358 1409.65,207.843 1416.34,208.326 1423.03,208.806 1429.72,209.283 1436.41,209.758 1443.1,210.231 1449.79,210.7 1456.48,211.167 1463.17,211.632 1469.86,212.093 1476.55,212.552 1483.24,213.009 1489.93,213.462 1496.62,213.913 1503.31,214.362 1510,214.807 1516.69,215.25 1523.38,215.691 1530.07,216.128 1536.76,216.563 1543.45,216.995 1550.14,217.425 1556.83,217.852 1563.52,218.276 1570.21,218.697 1576.9,219.116 1583.59,219.532 1590.28,219.946 1596.97,220.357 1603.66,220.766 1610.35,221.171 1617.04,221.575 1623.73,221.975 1630.42,222.374 1637.11,222.769 1643.8,223.163 1650.49,223.554 1657.18,223.942 1663.87,224.328 1670.56,224.711 1677.25,225.093 1683.94,225.471 1690.63,225.848 1697.32,226.222 1704.01,226.594 1710.71,226.964 1717.4,227.331 1724.09,227.697 1730.78,228.06 1737.47,228.421 1744.16,228.78 1750.85,229.137 1757.54,229.492 1764.23,229.844 1770.92,230.195 1777.61,230.544 1784.3,230.891 1790.99,231.237 1797.68,231.58 1804.37,231.922 1811.06,232.262 1817.75,232.6 1824.44,232.936 1831.13,233.271 1837.82,233.604 1844.51,233.936 1851.2,234.266 1857.89,234.594 1864.58,234.921 1871.27,235.247 1877.96,235.571 1884.65,235.894 1891.34,236.216 1898.03,236.536 1904.72,236.855 1911.41,237.173 1918.1,237.49 1924.79,237.806 1931.48,238.12 1938.17,238.434 1944.86,238.746 1951.55,239.057 1958.24,239.368 1964.93,239.678 1971.62,239.986 1978.31,240.294 1985,240.601 1991.69,240.908 1998.38,241.213 2005.07,241.518 2011.76,241.823 2018.45,242.126 2025.14,242.429 2031.83,242.732 2038.52,243.034 2045.21,243.336 2051.9,243.637 2058.59,243.938 2065.28,244.238 2071.97,244.538 2078.66,244.838 2085.35,245.137 2092.04,245.437 2098.73,245.736 2105.42,246.035 2112.11,246.333 2118.8,246.632 2125.49,246.93 2132.18,247.229 2138.87,247.527 2145.56,247.826 2152.25,248.124 2158.94,248.423 2165.63,248.721 2172.32,249.02 2179.01,249.319 2185.7,249.618 2192.39,249.917 2199.08,250.216 2205.77,250.516 2212.46,250.815 2219.15,251.115 2225.84,251.416 2232.53,251.716 2239.22,252.017 2245.91,252.318 2252.6,252.62 2259.29,252.922 2265.99,253.224 2272.68,253.526 2279.37,253.829 2286.06,254.133 2292.75,254.437 \"/>\n<path clip-path=\"url(#clip280)\" d=\"M2027.42 374.156 L2282.08 374.156 L2282.08 166.796 L2027.42 166.796  Z\" fill=\"#ffffff\" fill-rule=\"evenodd\" fill-opacity=\"1\"/>\n<polyline clip-path=\"url(#clip280)\" style=\"stroke:#000000; stroke-linecap:round; stroke-linejoin:round; stroke-width:4; stroke-opacity:1; fill:none\" points=\"2027.42,374.156 2282.08,374.156 2282.08,166.796 2027.42,166.796 2027.42,374.156 \"/>\n<polyline clip-path=\"url(#clip280)\" style=\"stroke:#009af9; stroke-linecap:round; stroke-linejoin:round; stroke-width:4; stroke-opacity:1; fill:none\" points=\"2050.98,218.636 2192.34,218.636 \"/>\n<path clip-path=\"url(#clip280)\" d=\"M2215.9 225.684 L2215.9 209.99 L2220.16 209.99 L2220.16 225.522 Q2220.16 229.203 2221.6 231.055 Q2223.03 232.883 2225.9 232.883 Q2229.35 232.883 2231.34 230.684 Q2233.36 228.485 2233.36 224.689 L2233.36 209.99 L2237.61 209.99 L2237.61 235.916 L2233.36 235.916 L2233.36 231.934 Q2231.8 234.295 2229.74 235.453 Q2227.71 236.587 2225 236.587 Q2220.53 236.587 2218.22 233.809 Q2215.9 231.031 2215.9 225.684 M2226.62 209.365 L2226.62 209.365 Z\" fill=\"#000000\" fill-rule=\"evenodd\" fill-opacity=\"1\" /><path clip-path=\"url(#clip280)\" d=\"M2245.53 233.369 L2250.25 233.369 L2250.25 219.226 L2245.09 220.175 L2245.09 217.49 L2250.42 216.587 L2253.59 216.587 L2253.59 233.369 L2258.33 233.369 L2258.33 235.916 L2245.53 235.916 L2245.53 233.369 Z\" fill=\"#000000\" fill-rule=\"evenodd\" fill-opacity=\"1\" /><polyline clip-path=\"url(#clip280)\" style=\"stroke:#e26f46; stroke-linecap:round; stroke-linejoin:round; stroke-width:4; stroke-opacity:1; fill:none\" points=\"2050.98,270.476 2192.34,270.476 \"/>\n<path clip-path=\"url(#clip280)\" d=\"M2215.9 277.524 L2215.9 261.83 L2220.16 261.83 L2220.16 277.362 Q2220.16 281.043 2221.6 282.895 Q2223.03 284.723 2225.9 284.723 Q2229.35 284.723 2231.34 282.524 Q2233.36 280.325 2233.36 276.529 L2233.36 261.83 L2237.61 261.83 L2237.61 287.756 L2233.36 287.756 L2233.36 283.774 Q2231.8 286.135 2229.74 287.293 Q2227.71 288.427 2225 288.427 Q2220.53 288.427 2218.22 285.649 Q2215.9 282.871 2215.9 277.524 M2226.62 261.205 L2226.62 261.205 Z\" fill=\"#000000\" fill-rule=\"evenodd\" fill-opacity=\"1\" /><path clip-path=\"url(#clip280)\" d=\"M2248.12 285.117 L2257.94 285.117 L2257.94 287.756 L2244.1 287.756 L2244.1 285.209 Q2244.88 284.492 2246.34 283.196 Q2254.3 276.135 2254.3 273.959 Q2254.3 272.432 2253.1 271.506 Q2251.9 270.557 2249.93 270.557 Q2248.73 270.557 2247.31 270.973 Q2245.9 271.367 2244.24 272.177 L2244.24 269.33 Q2246.02 268.682 2247.55 268.358 Q2249.1 268.034 2250.42 268.034 Q2253.77 268.034 2255.79 269.561 Q2257.8 271.089 2257.8 273.589 Q2257.8 276.807 2250.14 283.381 Q2248.84 284.492 2248.12 285.117 Z\" fill=\"#000000\" fill-rule=\"evenodd\" fill-opacity=\"1\" /><polyline clip-path=\"url(#clip280)\" style=\"stroke:#3da44d; stroke-linecap:round; stroke-linejoin:round; stroke-width:4; stroke-opacity:1; fill:none\" points=\"2050.98,322.316 2192.34,322.316 \"/>\n<path clip-path=\"url(#clip280)\" d=\"M2215.9 329.364 L2215.9 313.67 L2220.16 313.67 L2220.16 329.202 Q2220.16 332.883 2221.6 334.735 Q2223.03 336.563 2225.9 336.563 Q2229.35 336.563 2231.34 334.364 Q2233.36 332.165 2233.36 328.369 L2233.36 313.67 L2237.61 313.67 L2237.61 339.596 L2233.36 339.596 L2233.36 335.614 Q2231.8 337.975 2229.74 339.133 Q2227.71 340.267 2225 340.267 Q2220.53 340.267 2218.22 337.489 Q2215.9 334.711 2215.9 329.364 M2226.62 313.045 L2226.62 313.045 Z\" fill=\"#000000\" fill-rule=\"evenodd\" fill-opacity=\"1\" /><path clip-path=\"url(#clip280)\" d=\"M2254.05 329.133 Q2256.18 329.549 2257.34 330.823 Q2258.52 332.073 2258.52 333.971 Q2258.52 336.841 2256.32 338.392 Q2254.12 339.943 2250.02 339.943 Q2248.7 339.943 2247.24 339.688 Q2245.81 339.457 2244.19 338.994 L2244.19 336.193 Q2245.39 336.818 2246.76 337.119 Q2248.15 337.42 2249.7 337.42 Q2252.22 337.42 2253.61 336.517 Q2255 335.591 2255 333.971 Q2255 332.258 2253.7 331.378 Q2252.43 330.499 2249.93 330.499 L2247.94 330.499 L2247.94 327.999 L2250.11 327.999 Q2252.29 327.999 2253.4 327.281 Q2254.54 326.54 2254.54 325.151 Q2254.54 323.809 2253.38 323.114 Q2252.22 322.397 2250.02 322.397 Q2249.1 322.397 2247.92 322.605 Q2246.74 322.813 2244.86 323.346 L2244.86 320.684 Q2246.55 320.29 2248.03 320.082 Q2249.51 319.874 2250.79 319.874 Q2254.12 319.874 2256.06 321.239 Q2258.03 322.605 2258.03 324.897 Q2258.03 326.494 2256.99 327.605 Q2255.95 328.716 2254.05 329.133 Z\" fill=\"#000000\" fill-rule=\"evenodd\" fill-opacity=\"1\" /></svg>\n"
     },
     "metadata": {},
     "output_type": "display_data"
    }
   ],
   "source": [
    "# Let's solve\n",
    "# include(\"mpc_JuMP.jl\")\n",
    "nx = 6\n",
    "nu = 3\n",
    "N = 301\n",
    "dt = 0.05\n",
    "t_vec = dt*(0:N-1)\n",
    "x0 = [4, 2, 20, -3, 2, -5.0]\n",
    "xg = [0,0,0,0,0,0.0]\n",
    "Xref = [deepcopy(xg) for i = 1:N]\n",
    "Uref = [zeros(nu) for i = 1:N-1]\n",
    "\n",
    "Q = 10e-1*I(nx)\n",
    "R = 1e-0*I(nu)\n",
    "Qf = 100*I(nx)\n",
    "\n",
    "# ground_level = 0.0\n",
    "gravity = [0; 0; -9.81]\n",
    "mass = 10.0\n",
    "# ωPlanet = [0.0; 0.0; 0.0]\n",
    "perWeightMax = 2.0\n",
    "θ_thrust_max = 5.0  # deg\n",
    "# θ_glideslope = 60.0 # deg\n",
    "# glide_recover_k = 8\n",
    "\n",
    "A_cone = [1 0 0; 0 1 0]\n",
    "c_cone = [0.0, 0.0, tand(θ_thrust_max)]\n",
    "u_bnd = mass * abs(gravity[3]) * perWeightMax\n",
    "u_min = -10.0*ones(nu)\n",
    "u_max =  105.0*ones(nu)\n",
    "\n",
    "# state is x y v θ\n",
    "x_min = [-5,-5,0,-10,-10,-10.0]\n",
    "x_max = [5,5,20,10,10,10.0]\n",
    "\n",
    "max_inner_iters = 10  # MAX RICCATI SOLVING ITERATION\n",
    "ncx = 2*nx*0\n",
    "ncu = 2*nu*0\n",
    "ncg = 1\n",
    "ncu_cone = nu*0; \n",
    "cone_scale = 1e0  # very fragile for each problem\n",
    "\n",
    "μ = [zeros(ncu) for i = 1:N-1]   # input constraints\n",
    "μx = [zeros(ncx) for i = 1:N]    # state constraints\n",
    "λ = zeros(nx)    # goal constraint\n",
    "λc = [zeros(ncu_cone) for i = 1:N-1]   # goal constraint\n",
    "\n",
    "params = (\n",
    "    nx = nx,\n",
    "    nu = nu,\n",
    "    ncx = ncx,\n",
    "    ncu = ncu,\n",
    "    ncg = ncg,\n",
    "    ncu_cone = ncu_cone,\n",
    "    μ = μ, μx = μx, λ = λ, λc = λc,\n",
    "    A_cone = A_cone,\n",
    "    c_cone = c_cone,\n",
    "    N = N,\n",
    "    Q = Q,\n",
    "    R = R,\n",
    "    Qf = Qf,\n",
    "    u_min = u_min,\n",
    "    u_max = u_max,\n",
    "    x_min = x_min,\n",
    "    x_max = x_max,\n",
    "    Xref = Xref,\n",
    "    Uref = Uref,\n",
    "    dt = dt,\n",
    "    mc = 1.0,\n",
    "    mp = 0.2,\n",
    "    l = 0.5,\n",
    "    g = 9.81,\n",
    ");\n",
    "\n",
    "# previous iterate\n",
    "X = [deepcopy(x0) for i = 1:N]\n",
    "U = [zeros(nu) for k = 1:N-1]\n",
    "# new iterate\n",
    "Xn = deepcopy(X)\n",
    "Un = deepcopy(U)\n",
    "\n",
    "P = [zeros(nx,nx) for i = 1:N]   # cost to go quadratic term\n",
    "p = [zeros(nx) for i = 1:N]      # cost to go linear term\n",
    "d = [zeros(nu) for i = 1:N-1]    # feedforward control\n",
    "K = [zeros(nu,nx) for i = 1:N-1] # feedback gain\n",
    "\n",
    "include(\"mpc_JuMP.jl\")\n",
    "optimizers = (\n",
    "    JuMP.optimizer_with_attributes(COSMO.Optimizer,\n",
    "        \"verbose\"=>false,\n",
    "        \"eps_abs\"=>1e-4,\n",
    "        \"eps_rel\"=>1e-4,\n",
    "        \"rho\"=>1e-2,\n",
    "        \"scaling\"=>0,\n",
    "        \"alpha\"=>1.0),\n",
    "    JuMP.optimizer_with_attributes(ECOS.Optimizer, \n",
    "        \"verbose\"=>false,\n",
    "        \"feastol\"=>1e-4,\n",
    "        \"abstol\"=>1e-4,\n",
    "        \"reltol\"=>1e-4)) \n",
    "# trajopt_JuMP1(optimizers[1], params, Xn, Un, A, B, f; warm_start=false)\n",
    "u_ = mpc(params,X,U,P,p,K,d,Xn,Un; atol=1e-4, max_iters=20, verbose = true, ρ = 1e-2, ρ_max=1e10, ϕ=10.0);\n",
    "\n",
    "function mat_from_vec(X::Vector{Vector{Float64}})::Matrix\n",
    "    # convert a vector of vectors to a matrix \n",
    "    Xm = hcat(X...)\n",
    "    return Xm \n",
    "end\n",
    "Xsim_m = mat_from_vec(Xn)\n",
    "Usim_m = mat_from_vec(Un)\n",
    "using Plots\n",
    "display(plot(t_vec,Xsim_m',label = [\"x₁\" \"x₂\" \"x₃\" \"ẋ₁\" \"ẋ₂\" \"ẋ₃\"],linestyle=[:solid :solid :solid :dash :dash :dash],\n",
    "             title = \"State History\",\n",
    "             xlabel = \"time (s)\", ylabel = \"x\"))\n",
    "display(plot(t_vec[1:end-1],Usim_m',label = [\"u₁\" \"u₂\" \"u₃\"],\n",
    "             title = \"Input History\",\n",
    "             xlabel = \"time (s)\", ylabel = \"u\"))"
   ]
  },
  {
   "cell_type": "code",
   "execution_count": 17,
   "id": "8c6dfcfd",
   "metadata": {},
   "outputs": [
    {
     "data": {
      "image/svg+xml": "<?xml version=\"1.0\" encoding=\"utf-8\"?>\n<svg xmlns=\"http://www.w3.org/2000/svg\" xmlns:xlink=\"http://www.w3.org/1999/xlink\" width=\"600\" height=\"400\" viewBox=\"0 0 2400 1600\">\n<defs>\n  <clipPath id=\"clip080\">\n    <rect x=\"0\" y=\"0\" width=\"2400\" height=\"1600\"/>\n  </clipPath>\n</defs>\n<path clip-path=\"url(#clip080)\" d=\"M0 1600 L2400 1600 L2400 0 L0 0  Z\" fill=\"#ffffff\" fill-rule=\"evenodd\" fill-opacity=\"1\"/>\n<defs>\n  <clipPath id=\"clip081\">\n    <rect x=\"480\" y=\"0\" width=\"1681\" height=\"1600\"/>\n  </clipPath>\n</defs>\n<path clip-path=\"url(#clip080)\" d=\"M210.977 1423.18 L2352.76 1423.18 L2352.76 123.472 L210.977 123.472  Z\" fill=\"#ffffff\" fill-rule=\"evenodd\" fill-opacity=\"1\"/>\n<defs>\n  <clipPath id=\"clip082\">\n    <rect x=\"210\" y=\"123\" width=\"2143\" height=\"1301\"/>\n  </clipPath>\n</defs>\n<polyline clip-path=\"url(#clip082)\" style=\"stroke:#000000; stroke-linecap:round; stroke-linejoin:round; stroke-width:2; stroke-opacity:0.1; fill:none\" points=\"271.594,1423.18 271.594,123.472 \"/>\n<polyline clip-path=\"url(#clip082)\" style=\"stroke:#000000; stroke-linecap:round; stroke-linejoin:round; stroke-width:2; stroke-opacity:0.1; fill:none\" points=\"945.109,1423.18 945.109,123.472 \"/>\n<polyline clip-path=\"url(#clip082)\" style=\"stroke:#000000; stroke-linecap:round; stroke-linejoin:round; stroke-width:2; stroke-opacity:0.1; fill:none\" points=\"1618.62,1423.18 1618.62,123.472 \"/>\n<polyline clip-path=\"url(#clip082)\" style=\"stroke:#000000; stroke-linecap:round; stroke-linejoin:round; stroke-width:2; stroke-opacity:0.1; fill:none\" points=\"2292.14,1423.18 2292.14,123.472 \"/>\n<polyline clip-path=\"url(#clip080)\" style=\"stroke:#000000; stroke-linecap:round; stroke-linejoin:round; stroke-width:4; stroke-opacity:1; fill:none\" points=\"210.977,1423.18 2352.76,1423.18 \"/>\n<polyline clip-path=\"url(#clip080)\" style=\"stroke:#000000; stroke-linecap:round; stroke-linejoin:round; stroke-width:4; stroke-opacity:1; fill:none\" points=\"271.594,1423.18 271.594,1404.28 \"/>\n<polyline clip-path=\"url(#clip080)\" style=\"stroke:#000000; stroke-linecap:round; stroke-linejoin:round; stroke-width:4; stroke-opacity:1; fill:none\" points=\"945.109,1423.18 945.109,1404.28 \"/>\n<polyline clip-path=\"url(#clip080)\" style=\"stroke:#000000; stroke-linecap:round; stroke-linejoin:round; stroke-width:4; stroke-opacity:1; fill:none\" points=\"1618.62,1423.18 1618.62,1404.28 \"/>\n<polyline clip-path=\"url(#clip080)\" style=\"stroke:#000000; stroke-linecap:round; stroke-linejoin:round; stroke-width:4; stroke-opacity:1; fill:none\" points=\"2292.14,1423.18 2292.14,1404.28 \"/>\n<path clip-path=\"url(#clip080)\" d=\"M271.594 1454.1 Q267.983 1454.1 266.154 1457.66 Q264.348 1461.2 264.348 1468.33 Q264.348 1475.44 266.154 1479.01 Q267.983 1482.55 271.594 1482.55 Q275.228 1482.55 277.034 1479.01 Q278.862 1475.44 278.862 1468.33 Q278.862 1461.2 277.034 1457.66 Q275.228 1454.1 271.594 1454.1 M271.594 1450.39 Q277.404 1450.39 280.459 1455 Q283.538 1459.58 283.538 1468.33 Q283.538 1477.06 280.459 1481.67 Q277.404 1486.25 271.594 1486.25 Q265.784 1486.25 262.705 1481.67 Q259.649 1477.06 259.649 1468.33 Q259.649 1459.58 262.705 1455 Q265.784 1450.39 271.594 1450.39 Z\" fill=\"#000000\" fill-rule=\"evenodd\" fill-opacity=\"1\" /><path clip-path=\"url(#clip080)\" d=\"M935.387 1451.02 L953.743 1451.02 L953.743 1454.96 L939.669 1454.96 L939.669 1463.43 Q940.688 1463.08 941.706 1462.92 Q942.725 1462.73 943.743 1462.73 Q949.53 1462.73 952.91 1465.9 Q956.29 1469.08 956.29 1474.49 Q956.29 1480.07 952.817 1483.17 Q949.345 1486.25 943.026 1486.25 Q940.85 1486.25 938.581 1485.88 Q936.336 1485.51 933.929 1484.77 L933.929 1480.07 Q936.012 1481.2 938.234 1481.76 Q940.456 1482.32 942.933 1482.32 Q946.938 1482.32 949.276 1480.21 Q951.614 1478.1 951.614 1474.49 Q951.614 1470.88 949.276 1468.77 Q946.938 1466.67 942.933 1466.67 Q941.058 1466.67 939.183 1467.08 Q937.331 1467.5 935.387 1468.38 L935.387 1451.02 Z\" fill=\"#000000\" fill-rule=\"evenodd\" fill-opacity=\"1\" /><path clip-path=\"url(#clip080)\" d=\"M1593.31 1481.64 L1600.95 1481.64 L1600.95 1455.28 L1592.64 1456.95 L1592.64 1452.69 L1600.9 1451.02 L1605.58 1451.02 L1605.58 1481.64 L1613.22 1481.64 L1613.22 1485.58 L1593.31 1485.58 L1593.31 1481.64 Z\" fill=\"#000000\" fill-rule=\"evenodd\" fill-opacity=\"1\" /><path clip-path=\"url(#clip080)\" d=\"M1632.66 1454.1 Q1629.05 1454.1 1627.22 1457.66 Q1625.42 1461.2 1625.42 1468.33 Q1625.42 1475.44 1627.22 1479.01 Q1629.05 1482.55 1632.66 1482.55 Q1636.3 1482.55 1638.1 1479.01 Q1639.93 1475.44 1639.93 1468.33 Q1639.93 1461.2 1638.1 1457.66 Q1636.3 1454.1 1632.66 1454.1 M1632.66 1450.39 Q1638.47 1450.39 1641.53 1455 Q1644.61 1459.58 1644.61 1468.33 Q1644.61 1477.06 1641.53 1481.67 Q1638.47 1486.25 1632.66 1486.25 Q1626.85 1486.25 1623.77 1481.67 Q1620.72 1477.06 1620.72 1468.33 Q1620.72 1459.58 1623.77 1455 Q1626.85 1450.39 1632.66 1450.39 Z\" fill=\"#000000\" fill-rule=\"evenodd\" fill-opacity=\"1\" /><path clip-path=\"url(#clip080)\" d=\"M2267.32 1481.64 L2274.96 1481.64 L2274.96 1455.28 L2266.65 1456.95 L2266.65 1452.69 L2274.92 1451.02 L2279.59 1451.02 L2279.59 1481.64 L2287.23 1481.64 L2287.23 1485.58 L2267.32 1485.58 L2267.32 1481.64 Z\" fill=\"#000000\" fill-rule=\"evenodd\" fill-opacity=\"1\" /><path clip-path=\"url(#clip080)\" d=\"M2296.72 1451.02 L2315.08 1451.02 L2315.08 1454.96 L2301.01 1454.96 L2301.01 1463.43 Q2302.02 1463.08 2303.04 1462.92 Q2304.06 1462.73 2305.08 1462.73 Q2310.87 1462.73 2314.25 1465.9 Q2317.63 1469.08 2317.63 1474.49 Q2317.63 1480.07 2314.15 1483.17 Q2310.68 1486.25 2304.36 1486.25 Q2302.19 1486.25 2299.92 1485.88 Q2297.67 1485.51 2295.26 1484.77 L2295.26 1480.07 Q2297.35 1481.2 2299.57 1481.76 Q2301.79 1482.32 2304.27 1482.32 Q2308.27 1482.32 2310.61 1480.21 Q2312.95 1478.1 2312.95 1474.49 Q2312.95 1470.88 2310.61 1468.77 Q2308.27 1466.67 2304.27 1466.67 Q2302.39 1466.67 2300.52 1467.08 Q2298.67 1467.5 2296.72 1468.38 L2296.72 1451.02 Z\" fill=\"#000000\" fill-rule=\"evenodd\" fill-opacity=\"1\" /><path clip-path=\"url(#clip080)\" d=\"M1169.32 1522.27 L1169.32 1532.4 L1181.38 1532.4 L1181.38 1536.95 L1169.32 1536.95 L1169.32 1556.3 Q1169.32 1560.66 1170.5 1561.9 Q1171.71 1563.14 1175.37 1563.14 L1181.38 1563.14 L1181.38 1568.04 L1175.37 1568.04 Q1168.59 1568.04 1166.01 1565.53 Q1163.43 1562.98 1163.43 1556.3 L1163.43 1536.95 L1159.14 1536.95 L1159.14 1532.4 L1163.43 1532.4 L1163.43 1522.27 L1169.32 1522.27 Z\" fill=\"#000000\" fill-rule=\"evenodd\" fill-opacity=\"1\" /><path clip-path=\"url(#clip080)\" d=\"M1189.09 1532.4 L1194.94 1532.4 L1194.94 1568.04 L1189.09 1568.04 L1189.09 1532.4 M1189.09 1518.52 L1194.94 1518.52 L1194.94 1525.93 L1189.09 1525.93 L1189.09 1518.52 Z\" fill=\"#000000\" fill-rule=\"evenodd\" fill-opacity=\"1\" /><path clip-path=\"url(#clip080)\" d=\"M1234.95 1539.24 Q1237.15 1535.29 1240.2 1533.41 Q1243.26 1531.54 1247.4 1531.54 Q1252.97 1531.54 1255.99 1535.45 Q1259.01 1539.33 1259.01 1546.53 L1259.01 1568.04 L1253.13 1568.04 L1253.13 1546.72 Q1253.13 1541.59 1251.31 1539.11 Q1249.5 1536.63 1245.77 1536.63 Q1241.22 1536.63 1238.58 1539.65 Q1235.94 1542.68 1235.94 1547.9 L1235.94 1568.04 L1230.05 1568.04 L1230.05 1546.72 Q1230.05 1541.56 1228.24 1539.11 Q1226.42 1536.63 1222.63 1536.63 Q1218.15 1536.63 1215.5 1539.68 Q1212.86 1542.71 1212.86 1547.9 L1212.86 1568.04 L1206.97 1568.04 L1206.97 1532.4 L1212.86 1532.4 L1212.86 1537.93 Q1214.87 1534.66 1217.67 1533.1 Q1220.47 1531.54 1224.32 1531.54 Q1228.2 1531.54 1230.91 1533.51 Q1233.65 1535.48 1234.95 1539.24 Z\" fill=\"#000000\" fill-rule=\"evenodd\" fill-opacity=\"1\" /><path clip-path=\"url(#clip080)\" d=\"M1301.19 1548.76 L1301.19 1551.62 L1274.26 1551.62 Q1274.64 1557.67 1277.89 1560.85 Q1281.17 1564 1286.99 1564 Q1290.36 1564 1293.52 1563.17 Q1296.7 1562.35 1299.82 1560.69 L1299.82 1566.23 Q1296.67 1567.57 1293.36 1568.27 Q1290.05 1568.97 1286.64 1568.97 Q1278.11 1568.97 1273.11 1564 Q1268.15 1559.04 1268.15 1550.57 Q1268.15 1541.82 1272.86 1536.69 Q1277.6 1531.54 1285.62 1531.54 Q1292.82 1531.54 1296.99 1536.18 Q1301.19 1540.8 1301.19 1548.76 M1295.33 1547.04 Q1295.27 1542.23 1292.62 1539.37 Q1290.01 1536.5 1285.69 1536.5 Q1280.78 1536.5 1277.82 1539.27 Q1274.9 1542.04 1274.45 1547.07 L1295.33 1547.04 Z\" fill=\"#000000\" fill-rule=\"evenodd\" fill-opacity=\"1\" /><path clip-path=\"url(#clip080)\" d=\"M1345.59 1518.58 Q1341.32 1525.9 1339.25 1533.06 Q1337.18 1540.23 1337.18 1547.58 Q1337.18 1554.93 1339.25 1562.16 Q1341.35 1569.35 1345.59 1576.64 L1340.49 1576.64 Q1335.72 1569.16 1333.33 1561.93 Q1330.98 1554.71 1330.98 1547.58 Q1330.98 1540.48 1333.33 1533.29 Q1335.69 1526.09 1340.49 1518.58 L1345.59 1518.58 Z\" fill=\"#000000\" fill-rule=\"evenodd\" fill-opacity=\"1\" /><path clip-path=\"url(#clip080)\" d=\"M1379.68 1533.45 L1379.68 1538.98 Q1377.19 1537.71 1374.52 1537.07 Q1371.85 1536.44 1368.98 1536.44 Q1364.62 1536.44 1362.42 1537.77 Q1360.26 1539.11 1360.26 1541.79 Q1360.26 1543.82 1361.82 1545 Q1363.38 1546.15 1368.09 1547.2 L1370.1 1547.64 Q1376.33 1548.98 1378.94 1551.43 Q1381.59 1553.85 1381.59 1558.21 Q1381.59 1563.17 1377.64 1566.07 Q1373.72 1568.97 1366.85 1568.97 Q1363.98 1568.97 1360.87 1568.39 Q1357.78 1567.85 1354.34 1566.74 L1354.34 1560.69 Q1357.59 1562.38 1360.74 1563.24 Q1363.89 1564.07 1366.98 1564.07 Q1371.11 1564.07 1373.34 1562.66 Q1375.57 1561.23 1375.57 1558.65 Q1375.57 1556.27 1373.95 1554.99 Q1372.36 1553.72 1366.91 1552.54 L1364.88 1552.07 Q1359.43 1550.92 1357.01 1548.56 Q1354.59 1546.18 1354.59 1542.04 Q1354.59 1537.01 1358.16 1534.27 Q1361.72 1531.54 1368.28 1531.54 Q1371.53 1531.54 1374.39 1532.01 Q1377.26 1532.49 1379.68 1533.45 Z\" fill=\"#000000\" fill-rule=\"evenodd\" fill-opacity=\"1\" /><path clip-path=\"url(#clip080)\" d=\"M1389.99 1518.58 L1395.08 1518.58 Q1399.86 1526.09 1402.21 1533.29 Q1404.6 1540.48 1404.6 1547.58 Q1404.6 1554.71 1402.21 1561.93 Q1399.86 1569.16 1395.08 1576.64 L1389.99 1576.64 Q1394.22 1569.35 1396.29 1562.16 Q1398.39 1554.93 1398.39 1547.58 Q1398.39 1540.23 1396.29 1533.06 Q1394.22 1525.9 1389.99 1518.58 Z\" fill=\"#000000\" fill-rule=\"evenodd\" fill-opacity=\"1\" /><polyline clip-path=\"url(#clip082)\" style=\"stroke:#000000; stroke-linecap:round; stroke-linejoin:round; stroke-width:2; stroke-opacity:0.1; fill:none\" points=\"210.977,1386.4 2352.76,1386.4 \"/>\n<polyline clip-path=\"url(#clip082)\" style=\"stroke:#000000; stroke-linecap:round; stroke-linejoin:round; stroke-width:2; stroke-opacity:0.1; fill:none\" points=\"210.977,1141.17 2352.76,1141.17 \"/>\n<polyline clip-path=\"url(#clip082)\" style=\"stroke:#000000; stroke-linecap:round; stroke-linejoin:round; stroke-width:2; stroke-opacity:0.1; fill:none\" points=\"210.977,895.94 2352.76,895.94 \"/>\n<polyline clip-path=\"url(#clip082)\" style=\"stroke:#000000; stroke-linecap:round; stroke-linejoin:round; stroke-width:2; stroke-opacity:0.1; fill:none\" points=\"210.977,650.712 2352.76,650.712 \"/>\n<polyline clip-path=\"url(#clip082)\" style=\"stroke:#000000; stroke-linecap:round; stroke-linejoin:round; stroke-width:2; stroke-opacity:0.1; fill:none\" points=\"210.977,405.484 2352.76,405.484 \"/>\n<polyline clip-path=\"url(#clip082)\" style=\"stroke:#000000; stroke-linecap:round; stroke-linejoin:round; stroke-width:2; stroke-opacity:0.1; fill:none\" points=\"210.977,160.256 2352.76,160.256 \"/>\n<polyline clip-path=\"url(#clip080)\" style=\"stroke:#000000; stroke-linecap:round; stroke-linejoin:round; stroke-width:4; stroke-opacity:1; fill:none\" points=\"210.977,1423.18 210.977,123.472 \"/>\n<polyline clip-path=\"url(#clip080)\" style=\"stroke:#000000; stroke-linecap:round; stroke-linejoin:round; stroke-width:4; stroke-opacity:1; fill:none\" points=\"210.977,1386.4 229.875,1386.4 \"/>\n<polyline clip-path=\"url(#clip080)\" style=\"stroke:#000000; stroke-linecap:round; stroke-linejoin:round; stroke-width:4; stroke-opacity:1; fill:none\" points=\"210.977,1141.17 229.875,1141.17 \"/>\n<polyline clip-path=\"url(#clip080)\" style=\"stroke:#000000; stroke-linecap:round; stroke-linejoin:round; stroke-width:4; stroke-opacity:1; fill:none\" points=\"210.977,895.94 229.875,895.94 \"/>\n<polyline clip-path=\"url(#clip080)\" style=\"stroke:#000000; stroke-linecap:round; stroke-linejoin:round; stroke-width:4; stroke-opacity:1; fill:none\" points=\"210.977,650.712 229.875,650.712 \"/>\n<polyline clip-path=\"url(#clip080)\" style=\"stroke:#000000; stroke-linecap:round; stroke-linejoin:round; stroke-width:4; stroke-opacity:1; fill:none\" points=\"210.977,405.484 229.875,405.484 \"/>\n<polyline clip-path=\"url(#clip080)\" style=\"stroke:#000000; stroke-linecap:round; stroke-linejoin:round; stroke-width:4; stroke-opacity:1; fill:none\" points=\"210.977,160.256 229.875,160.256 \"/>\n<path clip-path=\"url(#clip080)\" d=\"M114.26 1386.85 L143.936 1386.85 L143.936 1390.78 L114.26 1390.78 L114.26 1386.85 Z\" fill=\"#000000\" fill-rule=\"evenodd\" fill-opacity=\"1\" /><path clip-path=\"url(#clip080)\" d=\"M154.075 1369.12 L172.431 1369.12 L172.431 1373.05 L158.357 1373.05 L158.357 1381.52 Q159.376 1381.18 160.394 1381.01 Q161.413 1380.83 162.431 1380.83 Q168.218 1380.83 171.598 1384 Q174.977 1387.17 174.977 1392.59 Q174.977 1398.17 171.505 1401.27 Q168.033 1404.35 161.714 1404.35 Q159.538 1404.35 157.269 1403.98 Q155.024 1403.61 152.616 1402.87 L152.616 1398.17 Q154.7 1399.3 156.922 1399.86 Q159.144 1400.41 161.621 1400.41 Q165.626 1400.41 167.964 1398.31 Q170.302 1396.2 170.302 1392.59 Q170.302 1388.98 167.964 1386.87 Q165.626 1384.76 161.621 1384.76 Q159.746 1384.76 157.871 1385.18 Q156.019 1385.6 154.075 1386.48 L154.075 1369.12 Z\" fill=\"#000000\" fill-rule=\"evenodd\" fill-opacity=\"1\" /><path clip-path=\"url(#clip080)\" d=\"M163.033 1126.97 Q159.422 1126.97 157.593 1130.53 Q155.788 1134.07 155.788 1141.2 Q155.788 1148.31 157.593 1151.87 Q159.422 1155.42 163.033 1155.42 Q166.667 1155.42 168.473 1151.87 Q170.302 1148.31 170.302 1141.2 Q170.302 1134.07 168.473 1130.53 Q166.667 1126.97 163.033 1126.97 M163.033 1123.26 Q168.843 1123.26 171.899 1127.87 Q174.977 1132.45 174.977 1141.2 Q174.977 1149.93 171.899 1154.54 Q168.843 1159.12 163.033 1159.12 Q157.223 1159.12 154.144 1154.54 Q151.089 1149.93 151.089 1141.2 Q151.089 1132.45 154.144 1127.87 Q157.223 1123.26 163.033 1123.26 Z\" fill=\"#000000\" fill-rule=\"evenodd\" fill-opacity=\"1\" /><path clip-path=\"url(#clip080)\" d=\"M154.075 878.66 L172.431 878.66 L172.431 882.595 L158.357 882.595 L158.357 891.067 Q159.376 890.72 160.394 890.558 Q161.413 890.373 162.431 890.373 Q168.218 890.373 171.598 893.544 Q174.977 896.715 174.977 902.132 Q174.977 907.711 171.505 910.813 Q168.033 913.891 161.714 913.891 Q159.538 913.891 157.269 913.521 Q155.024 913.15 152.616 912.41 L152.616 907.711 Q154.7 908.845 156.922 909.4 Q159.144 909.956 161.621 909.956 Q165.626 909.956 167.964 907.85 Q170.302 905.743 170.302 902.132 Q170.302 898.521 167.964 896.414 Q165.626 894.308 161.621 894.308 Q159.746 894.308 157.871 894.725 Q156.019 895.141 154.075 896.021 L154.075 878.66 Z\" fill=\"#000000\" fill-rule=\"evenodd\" fill-opacity=\"1\" /><path clip-path=\"url(#clip080)\" d=\"M123.681 664.057 L131.32 664.057 L131.32 637.691 L123.01 639.358 L123.01 635.099 L131.274 633.432 L135.95 633.432 L135.95 664.057 L143.589 664.057 L143.589 667.992 L123.681 667.992 L123.681 664.057 Z\" fill=\"#000000\" fill-rule=\"evenodd\" fill-opacity=\"1\" /><path clip-path=\"url(#clip080)\" d=\"M163.033 636.511 Q159.422 636.511 157.593 640.076 Q155.788 643.617 155.788 650.747 Q155.788 657.853 157.593 661.418 Q159.422 664.96 163.033 664.96 Q166.667 664.96 168.473 661.418 Q170.302 657.853 170.302 650.747 Q170.302 643.617 168.473 640.076 Q166.667 636.511 163.033 636.511 M163.033 632.807 Q168.843 632.807 171.899 637.414 Q174.977 641.997 174.977 650.747 Q174.977 659.474 171.899 664.08 Q168.843 668.663 163.033 668.663 Q157.223 668.663 154.144 664.08 Q151.089 659.474 151.089 650.747 Q151.089 641.997 154.144 637.414 Q157.223 632.807 163.033 632.807 Z\" fill=\"#000000\" fill-rule=\"evenodd\" fill-opacity=\"1\" /><path clip-path=\"url(#clip080)\" d=\"M124.677 418.829 L132.316 418.829 L132.316 392.463 L124.005 394.13 L124.005 389.871 L132.269 388.204 L136.945 388.204 L136.945 418.829 L144.584 418.829 L144.584 422.764 L124.677 422.764 L124.677 418.829 Z\" fill=\"#000000\" fill-rule=\"evenodd\" fill-opacity=\"1\" /><path clip-path=\"url(#clip080)\" d=\"M154.075 388.204 L172.431 388.204 L172.431 392.139 L158.357 392.139 L158.357 400.612 Q159.376 400.264 160.394 400.102 Q161.413 399.917 162.431 399.917 Q168.218 399.917 171.598 403.088 Q174.977 406.26 174.977 411.676 Q174.977 417.255 171.505 420.357 Q168.033 423.435 161.714 423.435 Q159.538 423.435 157.269 423.065 Q155.024 422.695 152.616 421.954 L152.616 417.255 Q154.7 418.389 156.922 418.945 Q159.144 419.5 161.621 419.5 Q165.626 419.5 167.964 417.394 Q170.302 415.287 170.302 411.676 Q170.302 408.065 167.964 405.959 Q165.626 403.852 161.621 403.852 Q159.746 403.852 157.871 404.269 Q156.019 404.686 154.075 405.565 L154.075 388.204 Z\" fill=\"#000000\" fill-rule=\"evenodd\" fill-opacity=\"1\" /><path clip-path=\"url(#clip080)\" d=\"M126.899 173.601 L143.218 173.601 L143.218 177.536 L121.274 177.536 L121.274 173.601 Q123.936 170.847 128.519 166.217 Q133.126 161.564 134.306 160.222 Q136.552 157.698 137.431 155.962 Q138.334 154.203 138.334 152.513 Q138.334 149.759 136.39 148.023 Q134.468 146.286 131.367 146.286 Q129.167 146.286 126.714 147.05 Q124.283 147.814 121.505 149.365 L121.505 144.643 Q124.33 143.509 126.783 142.93 Q129.237 142.351 131.274 142.351 Q136.644 142.351 139.839 145.036 Q143.033 147.722 143.033 152.212 Q143.033 154.342 142.223 156.263 Q141.436 158.161 139.329 160.754 Q138.751 161.425 135.649 164.643 Q132.547 167.837 126.899 173.601 Z\" fill=\"#000000\" fill-rule=\"evenodd\" fill-opacity=\"1\" /><path clip-path=\"url(#clip080)\" d=\"M163.033 146.055 Q159.422 146.055 157.593 149.62 Q155.788 153.161 155.788 160.291 Q155.788 167.397 157.593 170.962 Q159.422 174.504 163.033 174.504 Q166.667 174.504 168.473 170.962 Q170.302 167.397 170.302 160.291 Q170.302 153.161 168.473 149.62 Q166.667 146.055 163.033 146.055 M163.033 142.351 Q168.843 142.351 171.899 146.958 Q174.977 151.541 174.977 160.291 Q174.977 169.018 171.899 173.624 Q168.843 178.208 163.033 178.208 Q157.223 178.208 154.144 173.624 Q151.089 169.018 151.089 160.291 Q151.089 151.541 154.144 146.958 Q157.223 142.351 163.033 142.351 Z\" fill=\"#000000\" fill-rule=\"evenodd\" fill-opacity=\"1\" /><path clip-path=\"url(#clip080)\" d=\"M28.3562 756.711 L45.7028 769.602 L64.0042 756.043 L64.0042 762.95 L49.9996 773.326 L64.0042 783.702 L64.0042 790.609 L45.3526 776.763 L28.3562 789.431 L28.3562 782.524 L41.0558 773.071 L28.3562 763.618 L28.3562 756.711 Z\" fill=\"#000000\" fill-rule=\"evenodd\" fill-opacity=\"1\" /><path clip-path=\"url(#clip080)\" d=\"M1054.21 14.0809 L1054.21 22.0612 Q1049.55 19.8332 1045.42 18.7395 Q1041.28 17.6457 1037.44 17.6457 Q1030.75 17.6457 1027.11 20.2383 Q1023.5 22.8309 1023.5 27.611 Q1023.5 31.6214 1025.89 33.6873 Q1028.32 35.7128 1035.05 36.9686 L1039.99 37.9813 Q1049.14 39.7232 1053.48 44.1387 Q1057.85 48.5136 1057.85 55.8863 Q1057.85 64.6767 1051.94 69.2137 Q1046.06 73.7508 1034.68 73.7508 Q1030.39 73.7508 1025.53 72.7785 Q1020.7 71.8063 1015.52 69.9024 L1015.52 61.4765 Q1020.5 64.2716 1025.28 65.6895 Q1030.06 67.1073 1034.68 67.1073 Q1041.69 67.1073 1045.5 64.3527 Q1049.3 61.598 1049.3 56.4939 Q1049.3 52.0379 1046.55 49.5264 Q1043.84 47.0148 1037.6 45.759 L1032.61 44.7868 Q1023.46 42.9639 1019.37 39.075 Q1015.28 35.1862 1015.28 28.2591 Q1015.28 20.2383 1020.91 15.6203 Q1026.58 11.0023 1036.5 11.0023 Q1040.76 11.0023 1045.17 11.7719 Q1049.59 12.5416 1054.21 14.0809 Z\" fill=\"#000000\" fill-rule=\"evenodd\" fill-opacity=\"1\" /><path clip-path=\"url(#clip080)\" d=\"M1077.66 14.324 L1077.66 27.2059 L1093.01 27.2059 L1093.01 32.9987 L1077.66 32.9987 L1077.66 57.6282 Q1077.66 63.1779 1079.16 64.7578 Q1080.7 66.3376 1085.36 66.3376 L1093.01 66.3376 L1093.01 72.576 L1085.36 72.576 Q1076.73 72.576 1073.45 69.3758 Q1070.17 66.1351 1070.17 57.6282 L1070.17 32.9987 L1064.7 32.9987 L1064.7 27.2059 L1070.17 27.2059 L1070.17 14.324 L1077.66 14.324 Z\" fill=\"#000000\" fill-rule=\"evenodd\" fill-opacity=\"1\" /><path clip-path=\"url(#clip080)\" d=\"M1123.44 49.7694 Q1114.4 49.7694 1110.92 51.8354 Q1107.43 53.9013 1107.43 58.8839 Q1107.43 62.8538 1110.03 65.2034 Q1112.66 67.5124 1117.16 67.5124 Q1123.35 67.5124 1127.08 63.1374 Q1130.85 58.7219 1130.85 51.4303 L1130.85 49.7694 L1123.44 49.7694 M1138.3 46.6907 L1138.3 72.576 L1130.85 72.576 L1130.85 65.6895 Q1128.3 69.8214 1124.49 71.8063 Q1120.68 73.7508 1115.17 73.7508 Q1108.2 73.7508 1104.07 69.8619 Q1099.98 65.9325 1099.98 59.3701 Q1099.98 51.7138 1105.09 47.825 Q1110.23 43.9361 1120.4 43.9361 L1130.85 43.9361 L1130.85 43.2069 Q1130.85 38.0623 1127.45 35.2672 Q1124.08 32.4315 1117.97 32.4315 Q1114.08 32.4315 1110.39 33.3632 Q1106.71 34.295 1103.3 36.1584 L1103.3 29.2718 Q1107.39 27.692 1111.24 26.9223 Q1115.09 26.1121 1118.74 26.1121 Q1128.58 26.1121 1133.44 31.2163 Q1138.3 36.3204 1138.3 46.6907 Z\" fill=\"#000000\" fill-rule=\"evenodd\" fill-opacity=\"1\" /><path clip-path=\"url(#clip080)\" d=\"M1161.03 14.324 L1161.03 27.2059 L1176.38 27.2059 L1176.38 32.9987 L1161.03 32.9987 L1161.03 57.6282 Q1161.03 63.1779 1162.53 64.7578 Q1164.07 66.3376 1168.72 66.3376 L1176.38 66.3376 L1176.38 72.576 L1168.72 72.576 Q1160.1 72.576 1156.82 69.3758 Q1153.53 66.1351 1153.53 57.6282 L1153.53 32.9987 L1148.07 32.9987 L1148.07 27.2059 L1153.53 27.2059 L1153.53 14.324 L1161.03 14.324 Z\" fill=\"#000000\" fill-rule=\"evenodd\" fill-opacity=\"1\" /><path clip-path=\"url(#clip080)\" d=\"M1224.99 48.0275 L1224.99 51.6733 L1190.72 51.6733 Q1191.21 59.3701 1195.34 63.421 Q1199.51 67.4314 1206.92 67.4314 Q1211.22 67.4314 1215.23 66.3781 Q1219.28 65.3249 1223.25 63.2184 L1223.25 70.267 Q1219.24 71.9684 1215.03 72.8596 Q1210.81 73.7508 1206.48 73.7508 Q1195.62 73.7508 1189.26 67.4314 Q1182.94 61.1119 1182.94 50.3365 Q1182.94 39.1965 1188.94 32.6746 Q1194.97 26.1121 1205.18 26.1121 Q1214.34 26.1121 1219.64 32.0264 Q1224.99 37.9003 1224.99 48.0275 M1217.54 45.84 Q1217.46 39.7232 1214.1 36.0774 Q1210.77 32.4315 1205.26 32.4315 Q1199.03 32.4315 1195.26 35.9558 Q1191.53 39.4801 1190.96 45.8805 L1217.54 45.84 Z\" fill=\"#000000\" fill-rule=\"evenodd\" fill-opacity=\"1\" /><path clip-path=\"url(#clip080)\" d=\"M1263.92 12.096 L1272.1 12.096 L1272.1 36.8875 L1301.84 36.8875 L1301.84 12.096 L1310.02 12.096 L1310.02 72.576 L1301.84 72.576 L1301.84 43.7741 L1272.1 43.7741 L1272.1 72.576 L1263.92 72.576 L1263.92 12.096 Z\" fill=\"#000000\" fill-rule=\"evenodd\" fill-opacity=\"1\" /><path clip-path=\"url(#clip080)\" d=\"M1325.98 27.2059 L1333.43 27.2059 L1333.43 72.576 L1325.98 72.576 L1325.98 27.2059 M1325.98 9.54393 L1333.43 9.54393 L1333.43 18.9825 L1325.98 18.9825 L1325.98 9.54393 Z\" fill=\"#000000\" fill-rule=\"evenodd\" fill-opacity=\"1\" /><path clip-path=\"url(#clip080)\" d=\"M1377.95 28.5427 L1377.95 35.5912 Q1374.79 33.9709 1371.39 33.1607 Q1367.99 32.3505 1364.34 32.3505 Q1358.79 32.3505 1356 34.0519 Q1353.24 35.7533 1353.24 39.156 Q1353.24 41.7486 1355.23 43.2475 Q1357.21 44.7058 1363.21 46.0426 L1365.76 46.6097 Q1373.7 48.3111 1377.02 51.4303 Q1380.38 54.509 1380.38 60.0587 Q1380.38 66.3781 1375.36 70.0644 Q1370.38 73.7508 1361.63 73.7508 Q1357.98 73.7508 1354.01 73.0216 Q1350.08 72.3329 1345.71 70.9151 L1345.71 63.2184 Q1349.84 65.3654 1353.85 66.4591 Q1357.86 67.5124 1361.79 67.5124 Q1367.06 67.5124 1369.89 65.73 Q1372.73 63.9071 1372.73 60.6258 Q1372.73 57.5877 1370.66 55.9673 Q1368.64 54.3469 1361.71 52.8481 L1359.12 52.2405 Q1352.19 50.7821 1349.11 47.7845 Q1346.03 44.7463 1346.03 39.4801 Q1346.03 33.0797 1350.57 29.5959 Q1355.11 26.1121 1363.45 26.1121 Q1367.58 26.1121 1371.23 26.7198 Q1374.88 27.3274 1377.95 28.5427 Z\" fill=\"#000000\" fill-rule=\"evenodd\" fill-opacity=\"1\" /><path clip-path=\"url(#clip080)\" d=\"M1399.63 14.324 L1399.63 27.2059 L1414.98 27.2059 L1414.98 32.9987 L1399.63 32.9987 L1399.63 57.6282 Q1399.63 63.1779 1401.13 64.7578 Q1402.66 66.3376 1407.32 66.3376 L1414.98 66.3376 L1414.98 72.576 L1407.32 72.576 Q1398.69 72.576 1395.41 69.3758 Q1392.13 66.1351 1392.13 57.6282 L1392.13 32.9987 L1386.66 32.9987 L1386.66 27.2059 L1392.13 27.2059 L1392.13 14.324 L1399.63 14.324 Z\" fill=\"#000000\" fill-rule=\"evenodd\" fill-opacity=\"1\" /><path clip-path=\"url(#clip080)\" d=\"M1442.36 32.4315 Q1436.37 32.4315 1432.88 37.1306 Q1429.4 41.7891 1429.4 49.9314 Q1429.4 58.0738 1432.84 62.7728 Q1436.33 67.4314 1442.36 67.4314 Q1448.32 67.4314 1451.8 62.7323 Q1455.29 58.0333 1455.29 49.9314 Q1455.29 41.8701 1451.8 37.1711 Q1448.32 32.4315 1442.36 32.4315 M1442.36 26.1121 Q1452.09 26.1121 1457.64 32.4315 Q1463.19 38.7509 1463.19 49.9314 Q1463.19 61.0714 1457.64 67.4314 Q1452.09 73.7508 1442.36 73.7508 Q1432.6 73.7508 1427.05 67.4314 Q1421.54 61.0714 1421.54 49.9314 Q1421.54 38.7509 1427.05 32.4315 Q1432.6 26.1121 1442.36 26.1121 Z\" fill=\"#000000\" fill-rule=\"evenodd\" fill-opacity=\"1\" /><path clip-path=\"url(#clip080)\" d=\"M1501.83 34.1734 Q1500.57 33.4443 1499.08 33.1202 Q1497.62 32.7556 1495.84 32.7556 Q1489.52 32.7556 1486.11 36.8875 Q1482.75 40.9789 1482.75 48.6757 L1482.75 72.576 L1475.26 72.576 L1475.26 27.2059 L1482.75 27.2059 L1482.75 34.2544 Q1485.1 30.1225 1488.87 28.1376 Q1492.64 26.1121 1498.02 26.1121 Q1498.79 26.1121 1499.72 26.2337 Q1500.66 26.3147 1501.79 26.5172 L1501.83 34.1734 Z\" fill=\"#000000\" fill-rule=\"evenodd\" fill-opacity=\"1\" /><path clip-path=\"url(#clip080)\" d=\"M1528.53 76.7889 Q1525.37 84.8907 1522.37 87.3618 Q1519.37 89.8329 1514.35 89.8329 L1508.39 89.8329 L1508.39 83.5945 L1512.77 83.5945 Q1515.85 83.5945 1517.55 82.1361 Q1519.25 80.6778 1521.32 75.2496 L1522.65 71.8468 L1504.3 27.2059 L1512.2 27.2059 L1526.38 62.6918 L1540.56 27.2059 L1548.46 27.2059 L1528.53 76.7889 Z\" fill=\"#000000\" fill-rule=\"evenodd\" fill-opacity=\"1\" /><polyline clip-path=\"url(#clip082)\" style=\"stroke:#009af9; stroke-linecap:round; stroke-linejoin:round; stroke-width:4; stroke-opacity:1; fill:none\" points=\"271.594,944.985 278.329,952.295 285.064,959.488 291.799,966.583 298.534,973.62 305.27,980.578 312.005,987.443 318.74,994.214 325.475,1000.87 332.21,1007.4 338.945,1013.82 345.68,1020.14 352.416,1026.37 359.151,1032.5 365.886,1038.55 372.621,1044.5 379.356,1050.38 386.091,1056.17 392.827,1061.88 399.562,1067.51 406.297,1073.06 413.032,1078.51 419.767,1083.88 426.502,1089.16 433.237,1094.34 439.973,1099.41 446.708,1104.39 453.443,1109.3 460.178,1114.12 466.913,1118.85 473.648,1123.5 480.384,1128.06 487.119,1132.53 493.854,1136.93 500.589,1141.24 507.324,1145.47 514.059,1149.62 520.794,1153.68 527.53,1157.66 534.265,1161.56 541,1165.37 547.735,1169.1 554.47,1172.73 561.205,1176.27 567.941,1179.73 574.676,1183.09 581.411,1186.37 588.146,1189.56 594.881,1192.66 601.616,1195.69 608.351,1198.62 615.087,1201.48 621.822,1204.26 628.557,1206.95 635.292,1209.57 642.027,1212.11 648.762,1214.57 655.497,1216.96 662.233,1219.28 668.968,1221.52 675.703,1223.69 682.438,1225.79 689.173,1227.82 695.908,1229.78 702.644,1231.67 709.379,1233.5 716.114,1235.26 722.849,1236.95 729.584,1238.59 736.319,1240.16 743.054,1241.67 749.79,1243.12 756.525,1244.51 763.26,1245.84 769.995,1247.11 776.73,1248.33 783.465,1249.49 790.201,1250.6 796.936,1251.65 803.671,1252.65 810.406,1253.6 817.141,1254.5 823.876,1255.35 830.611,1256.15 837.347,1256.9 844.082,1257.6 850.817,1258.26 857.552,1258.87 864.287,1259.44 871.022,1259.96 877.758,1260.44 884.493,1260.88 891.228,1261.27 897.963,1261.63 904.698,1261.95 911.433,1262.22 918.168,1262.46 924.904,1262.66 931.639,1262.83 938.374,1262.96 945.109,1263.05 951.844,1263.11 958.579,1263.14 965.314,1263.13 972.05,1263.09 978.785,1263.02 985.52,1262.92 992.255,1262.79 998.99,1262.63 1005.73,1262.44 1012.46,1262.23 1019.2,1261.98 1025.93,1261.71 1032.67,1261.42 1039.4,1261.09 1046.14,1260.75 1052.87,1260.38 1059.61,1259.98 1066.34,1259.56 1073.08,1259.13 1079.81,1258.66 1086.55,1258.18 1093.28,1257.68 1100.02,1257.16 1106.75,1256.61 1113.49,1256.05 1120.22,1255.47 1126.96,1254.87 1133.69,1254.26 1140.43,1253.63 1147.16,1252.98 1153.9,1252.32 1160.63,1251.64 1167.37,1250.95 1174.1,1250.24 1180.84,1249.52 1187.57,1248.78 1194.31,1248.03 1201.04,1247.27 1207.78,1246.5 1214.52,1245.72 1221.25,1244.92 1227.99,1244.12 1234.72,1243.3 1241.46,1242.48 1248.19,1241.64 1254.93,1240.8 1261.66,1239.95 1268.4,1239.09 1275.13,1238.22 1281.87,1237.35 1288.6,1236.46 1295.34,1235.57 1302.07,1234.68 1308.81,1233.78 1315.54,1232.87 1322.28,1231.96 1329.01,1231.04 1335.75,1230.12 1342.48,1229.19 1349.22,1228.26 1355.95,1227.32 1362.69,1226.39 1369.42,1225.44 1376.16,1224.5 1382.89,1223.55 1389.63,1222.61 1396.36,1221.66 1403.1,1220.7 1409.83,1219.75 1416.57,1218.79 1423.3,1217.84 1430.04,1216.88 1436.78,1215.93 1443.51,1214.97 1450.25,1214.01 1456.98,1213.05 1463.72,1212.1 1470.45,1211.14 1477.19,1210.19 1483.92,1209.24 1490.66,1208.28 1497.39,1207.33 1504.13,1206.39 1510.86,1205.44 1517.6,1204.49 1524.33,1203.55 1531.07,1202.61 1537.8,1201.68 1544.54,1200.74 1551.27,1199.81 1558.01,1198.89 1564.74,1197.96 1571.48,1197.04 1578.21,1196.13 1584.95,1195.22 1591.68,1194.31 1598.42,1193.41 1605.15,1192.51 1611.89,1191.61 1618.62,1190.72 1625.36,1189.84 1632.09,1188.96 1638.83,1188.08 1645.56,1187.21 1652.3,1186.35 1659.04,1185.49 1665.77,1184.64 1672.51,1183.79 1679.24,1182.95 1685.98,1182.11 1692.71,1181.28 1699.45,1180.46 1706.18,1179.64 1712.92,1178.83 1719.65,1178.03 1726.39,1177.23 1733.12,1176.44 1739.86,1175.66 1746.59,1174.88 1753.33,1174.11 1760.06,1173.35 1766.8,1172.59 1773.53,1171.84 1780.27,1171.1 1787,1170.37 1793.74,1169.64 1800.47,1168.92 1807.21,1168.21 1813.94,1167.51 1820.68,1166.82 1827.41,1166.13 1834.15,1165.45 1840.88,1164.78 1847.62,1164.12 1854.35,1163.46 1861.09,1162.81 1867.82,1162.18 1874.56,1161.55 1881.3,1160.92 1888.03,1160.31 1894.77,1159.71 1901.5,1159.11 1908.24,1158.53 1914.97,1157.95 1921.71,1157.38 1928.44,1156.82 1935.18,1156.27 1941.91,1155.72 1948.65,1155.19 1955.38,1154.67 1962.12,1154.15 1968.85,1153.64 1975.59,1153.15 1982.32,1152.66 1989.06,1152.18 1995.79,1151.71 2002.53,1151.26 2009.26,1150.81 2016,1150.37 2022.73,1149.94 2029.47,1149.52 2036.2,1149.1 2042.94,1148.7 2049.67,1148.31 2056.41,1147.93 2063.14,1147.56 2069.88,1147.2 2076.61,1146.85 2083.35,1146.5 2090.08,1146.17 2096.82,1145.85 2103.56,1145.54 2110.29,1145.24 2117.03,1144.95 2123.76,1144.67 2130.5,1144.4 2137.23,1144.14 2143.97,1143.89 2150.7,1143.65 2157.44,1143.43 2164.17,1143.21 2170.91,1143 2177.64,1142.81 2184.38,1142.62 2191.11,1142.45 2197.85,1142.28 2204.58,1142.13 2211.32,1141.99 2218.05,1141.86 2224.79,1141.74 2231.52,1141.63 2238.26,1141.54 2244.99,1141.45 2251.73,1141.38 2258.46,1141.31 2265.2,1141.26 2271.93,1141.22 2278.67,1141.19 2285.4,1141.17 2292.14,1141.17 \"/>\n<polyline clip-path=\"url(#clip082)\" style=\"stroke:#e26f46; stroke-linecap:round; stroke-linejoin:round; stroke-width:4; stroke-opacity:1; fill:none\" points=\"271.594,1043.08 278.329,1038.23 285.064,1033.51 291.799,1028.9 298.534,1024.35 305.27,1019.9 312.005,1015.54 318.74,1011.29 325.475,1007.16 332.21,1003.18 338.945,999.312 345.68,995.547 352.416,991.883 359.151,988.315 365.886,984.843 372.621,981.466 379.356,978.172 386.091,974.961 392.827,971.835 399.562,968.789 406.297,965.833 413.032,962.967 419.767,960.189 426.502,957.498 433.237,954.908 439.973,952.418 446.708,950.019 453.443,947.699 460.178,945.458 466.913,943.302 473.648,941.227 480.384,939.232 487.119,937.317 493.854,935.481 500.589,933.718 507.324,932.027 514.059,930.413 520.794,928.877 527.53,927.418 534.265,926.032 541,924.719 547.735,923.483 554.47,922.329 561.205,921.256 567.941,920.262 574.676,919.346 581.411,918.506 588.146,917.739 594.881,917.046 601.616,916.425 608.351,915.873 615.087,915.39 621.822,914.975 628.557,914.627 635.292,914.343 642.027,914.122 648.762,913.963 655.497,913.864 662.233,913.823 668.968,913.841 675.703,913.914 682.438,914.043 689.173,914.225 695.908,914.46 702.644,914.746 709.379,915.082 716.114,915.466 722.849,915.899 729.584,916.377 736.319,916.901 743.054,917.469 749.79,918.08 756.525,918.732 763.26,919.426 769.995,920.159 776.73,920.93 783.465,921.739 790.201,922.585 796.936,923.466 803.671,924.381 810.406,925.329 817.141,926.311 823.876,927.323 830.611,928.366 837.347,929.438 844.082,930.54 850.817,931.668 857.552,932.824 864.287,934.005 871.022,935.212 877.758,936.442 884.493,937.696 891.228,938.973 897.963,940.271 904.698,941.59 911.433,942.929 918.168,944.287 924.904,945.663 931.639,947.058 938.374,948.469 945.109,949.897 951.844,951.34 958.579,952.798 965.314,954.27 972.05,955.756 978.785,957.254 985.52,958.765 992.255,960.287 998.99,961.819 1005.73,963.362 1012.46,964.915 1019.2,966.477 1025.93,968.047 1032.67,969.625 1039.4,971.21 1046.14,972.802 1052.87,974.4 1059.61,976.004 1066.34,977.612 1073.08,979.226 1079.81,980.843 1086.55,982.464 1093.28,984.089 1100.02,985.715 1106.75,987.344 1113.49,988.975 1120.22,990.607 1126.96,992.24 1133.69,993.873 1140.43,995.507 1147.16,997.14 1153.9,998.772 1160.63,1000.4 1167.37,1002.03 1174.1,1003.66 1180.84,1005.28 1187.57,1006.91 1194.31,1008.53 1201.04,1010.14 1207.78,1011.76 1214.52,1013.36 1221.25,1014.97 1227.99,1016.57 1234.72,1018.16 1241.46,1019.75 1248.19,1021.34 1254.93,1022.91 1261.66,1024.49 1268.4,1026.05 1275.13,1027.61 1281.87,1029.16 1288.6,1030.71 1295.34,1032.25 1302.07,1033.78 1308.81,1035.3 1315.54,1036.82 1322.28,1038.33 1329.01,1039.82 1335.75,1041.31 1342.48,1042.8 1349.22,1044.27 1355.95,1045.73 1362.69,1047.19 1369.42,1048.63 1376.16,1050.07 1382.89,1051.5 1389.63,1052.91 1396.36,1054.32 1403.1,1055.71 1409.83,1057.1 1416.57,1058.48 1423.3,1059.84 1430.04,1061.2 1436.78,1062.54 1443.51,1063.87 1450.25,1065.2 1456.98,1066.51 1463.72,1067.81 1470.45,1069.1 1477.19,1070.37 1483.92,1071.64 1490.66,1072.89 1497.39,1074.14 1504.13,1075.37 1510.86,1076.59 1517.6,1077.8 1524.33,1078.99 1531.07,1080.18 1537.8,1081.35 1544.54,1082.51 1551.27,1083.66 1558.01,1084.8 1564.74,1085.93 1571.48,1087.04 1578.21,1088.14 1584.95,1089.23 1591.68,1090.31 1598.42,1091.37 1605.15,1092.42 1611.89,1093.46 1618.62,1094.49 1625.36,1095.51 1632.09,1096.51 1638.83,1097.5 1645.56,1098.48 1652.3,1099.45 1659.04,1100.4 1665.77,1101.35 1672.51,1102.28 1679.24,1103.2 1685.98,1104.1 1692.71,1105 1699.45,1105.88 1706.18,1106.75 1712.92,1107.61 1719.65,1108.45 1726.39,1109.29 1733.12,1110.11 1739.86,1110.92 1746.59,1111.72 1753.33,1112.5 1760.06,1113.28 1766.8,1114.04 1773.53,1114.79 1780.27,1115.53 1787,1116.25 1793.74,1116.97 1800.47,1117.67 1807.21,1118.36 1813.94,1119.04 1820.68,1119.71 1827.41,1120.37 1834.15,1121.02 1840.88,1121.65 1847.62,1122.27 1854.35,1122.88 1861.09,1123.48 1867.82,1124.07 1874.56,1124.65 1881.3,1125.22 1888.03,1125.77 1894.77,1126.32 1901.5,1126.85 1908.24,1127.38 1914.97,1127.89 1921.71,1128.39 1928.44,1128.88 1935.18,1129.36 1941.91,1129.83 1948.65,1130.29 1955.38,1130.74 1962.12,1131.18 1968.85,1131.6 1975.59,1132.02 1982.32,1132.43 1989.06,1132.82 1995.79,1133.21 2002.53,1133.59 2009.26,1133.95 2016,1134.31 2022.73,1134.66 2029.47,1135 2036.2,1135.32 2042.94,1135.64 2049.67,1135.95 2056.41,1136.25 2063.14,1136.54 2069.88,1136.82 2076.61,1137.09 2083.35,1137.35 2090.08,1137.6 2096.82,1137.84 2103.56,1138.08 2110.29,1138.3 2117.03,1138.52 2123.76,1138.72 2130.5,1138.92 2137.23,1139.11 2143.97,1139.29 2150.7,1139.46 2157.44,1139.62 2164.17,1139.78 2170.91,1139.92 2177.64,1140.06 2184.38,1140.19 2191.11,1140.31 2197.85,1140.42 2204.58,1140.53 2211.32,1140.62 2218.05,1140.71 2224.79,1140.79 2231.52,1140.86 2238.26,1140.93 2244.99,1140.98 2251.73,1141.03 2258.46,1141.07 2265.2,1141.11 2271.93,1141.13 2278.67,1141.15 2285.4,1141.16 2292.14,1141.17 \"/>\n<polyline clip-path=\"url(#clip082)\" style=\"stroke:#3da44d; stroke-linecap:round; stroke-linejoin:round; stroke-width:4; stroke-opacity:1; fill:none\" points=\"271.594,160.256 278.329,172.298 285.064,184.189 291.799,196.211 298.534,208.354 305.27,220.359 312.005,231.972 318.74,243.202 325.475,254.303 332.21,265.518 338.945,276.617 345.68,287.283 352.416,297.527 359.151,307.452 365.886,317.068 372.621,326.385 379.356,335.597 386.091,344.63 392.827,353.481 399.562,362.245 406.297,370.761 413.032,379.041 419.767,387.094 426.502,394.93 433.237,402.694 439.973,410.322 446.708,417.617 453.443,424.776 460.178,431.812 466.913,438.621 473.648,445.284 480.384,451.809 487.119,458.208 493.854,464.489 500.589,470.732 507.324,476.948 514.059,483.075 520.794,489.065 527.53,494.926 534.265,500.727 541,506.477 547.735,512.217 554.47,517.982 561.205,523.77 567.941,529.579 574.676,535.406 581.411,541.252 588.146,547.112 594.881,552.986 601.616,558.872 608.351,564.768 615.087,570.672 621.822,576.57 628.557,582.459 635.292,588.353 642.027,594.248 648.762,600.143 655.497,606.037 662.233,611.928 668.968,617.816 675.703,623.697 682.438,629.572 689.173,635.439 695.908,641.296 702.644,647.143 709.379,652.977 716.114,658.798 722.849,664.605 729.584,670.396 736.319,676.17 743.054,681.927 749.79,687.665 756.525,693.383 763.26,699.08 769.995,704.755 776.73,710.407 783.465,716.036 790.201,721.64 796.936,727.219 803.671,732.771 810.406,738.296 817.141,743.793 823.876,749.261 830.611,754.7 837.347,760.109 844.082,765.486 850.817,770.833 857.552,776.146 864.287,781.427 871.022,786.675 877.758,791.888 884.493,797.067 891.228,802.211 897.963,807.319 904.698,812.39 911.433,817.425 918.168,822.423 924.904,827.383 931.639,832.305 938.374,837.189 945.109,842.033 951.844,846.839 958.579,851.605 965.314,856.331 972.05,861.016 978.785,865.662 985.52,870.266 992.255,874.829 998.99,879.351 1005.73,883.831 1012.46,888.27 1019.2,892.666 1025.93,897.02 1032.67,901.332 1039.4,905.601 1046.14,909.828 1052.87,914.011 1059.61,918.152 1066.34,922.249 1073.08,926.304 1079.81,930.314 1086.55,934.282 1093.28,938.206 1100.02,942.087 1106.75,945.924 1113.49,949.718 1120.22,953.468 1126.96,957.174 1133.69,960.837 1140.43,964.456 1147.16,968.032 1153.9,971.565 1160.63,975.054 1167.37,978.499 1174.1,981.901 1180.84,985.26 1187.57,988.576 1194.31,991.849 1201.04,995.078 1207.78,998.265 1214.52,1001.41 1221.25,1004.51 1227.99,1007.57 1234.72,1010.59 1241.46,1013.56 1248.19,1016.49 1254.93,1019.38 1261.66,1022.23 1268.4,1025.04 1275.13,1027.81 1281.87,1030.53 1288.6,1033.21 1295.34,1035.86 1302.07,1038.46 1308.81,1041.02 1315.54,1043.54 1322.28,1046.02 1329.01,1048.47 1335.75,1050.87 1342.48,1053.23 1349.22,1055.56 1355.95,1057.84 1362.69,1060.09 1369.42,1062.3 1376.16,1064.47 1382.89,1066.6 1389.63,1068.69 1396.36,1070.75 1403.1,1072.77 1409.83,1074.76 1416.57,1076.71 1423.3,1078.62 1430.04,1080.49 1436.78,1082.33 1443.51,1084.14 1450.25,1085.91 1456.98,1087.64 1463.72,1089.35 1470.45,1091.01 1477.19,1092.65 1483.92,1094.25 1490.66,1095.81 1497.39,1097.35 1504.13,1098.85 1510.86,1100.32 1517.6,1101.75 1524.33,1103.16 1531.07,1104.53 1537.8,1105.88 1544.54,1107.19 1551.27,1108.47 1558.01,1109.73 1564.74,1110.95 1571.48,1112.14 1578.21,1113.31 1584.95,1114.44 1591.68,1115.55 1598.42,1116.63 1605.15,1117.68 1611.89,1118.71 1618.62,1119.7 1625.36,1120.68 1632.09,1121.62 1638.83,1122.54 1645.56,1123.43 1652.3,1124.3 1659.04,1125.14 1665.77,1125.96 1672.51,1126.76 1679.24,1127.53 1685.98,1128.27 1692.71,1128.99 1699.45,1129.69 1706.18,1130.37 1712.92,1131.03 1719.65,1131.66 1726.39,1132.27 1733.12,1132.86 1739.86,1133.43 1746.59,1133.98 1753.33,1134.51 1760.06,1135.02 1766.8,1135.51 1773.53,1135.98 1780.27,1136.43 1787,1136.87 1793.74,1137.28 1800.47,1137.68 1807.21,1138.06 1813.94,1138.42 1820.68,1138.77 1827.41,1139.1 1834.15,1139.41 1840.88,1139.71 1847.62,1139.99 1854.35,1140.26 1861.09,1140.51 1867.82,1140.75 1874.56,1140.97 1881.3,1141.18 1888.03,1141.38 1894.77,1141.56 1901.5,1141.73 1908.24,1141.89 1914.97,1142.04 1921.71,1142.17 1928.44,1142.29 1935.18,1142.41 1941.91,1142.51 1948.65,1142.6 1955.38,1142.68 1962.12,1142.75 1968.85,1142.81 1975.59,1142.86 1982.32,1142.91 1989.06,1142.94 1995.79,1142.97 2002.53,1142.99 2009.26,1143 2016,1143.01 2022.73,1143.01 2029.47,1143 2036.2,1142.98 2042.94,1142.96 2049.67,1142.94 2056.41,1142.91 2063.14,1142.87 2069.88,1142.83 2076.61,1142.79 2083.35,1142.74 2090.08,1142.69 2096.82,1142.64 2103.56,1142.58 2110.29,1142.52 2117.03,1142.46 2123.76,1142.4 2130.5,1142.33 2137.23,1142.26 2143.97,1142.2 2150.7,1142.13 2157.44,1142.06 2164.17,1141.99 2170.91,1141.93 2177.64,1141.86 2184.38,1141.8 2191.11,1141.73 2197.85,1141.67 2204.58,1141.61 2211.32,1141.55 2218.05,1141.5 2224.79,1141.45 2231.52,1141.4 2238.26,1141.35 2244.99,1141.31 2251.73,1141.28 2258.46,1141.24 2265.2,1141.22 2271.93,1141.2 2278.67,1141.18 2285.4,1141.17 2292.14,1141.17 \"/>\n<polyline clip-path=\"url(#clip082)\" style=\"stroke:#c271d2; stroke-linecap:round; stroke-linejoin:round; stroke-width:4; stroke-opacity:1; fill:none\" stroke-dasharray=\"16, 10\" points=\"271.594,1288.3 278.329,1286.41 285.064,1283.64 291.799,1282.53 298.534,1281.27 305.27,1279.39 312.005,1277.53 318.74,1275.66 325.475,1273.03 332.21,1270.41 338.945,1268.57 345.68,1266.63 352.416,1264.8 359.151,1262.98 365.886,1261.16 372.621,1259.35 379.356,1257.99 386.091,1256.09 392.827,1254.72 399.562,1252.93 406.297,1251.15 413.032,1249.38 419.767,1247.61 426.502,1245.86 433.237,1243.59 439.973,1241.76 446.708,1239.93 453.443,1238.49 460.178,1236.67 466.913,1234.96 473.648,1233.24 480.384,1231.54 487.119,1229.84 493.854,1228.15 500.589,1226.65 507.324,1224.98 514.059,1223.31 520.794,1221.56 527.53,1219.91 534.265,1218.26 541,1216.62 547.735,1214.76 554.47,1212.93 561.205,1211.12 567.941,1209.34 574.676,1207.58 581.411,1205.84 588.146,1204.13 594.881,1202.44 601.616,1200.77 608.351,1199.12 615.087,1197.5 621.822,1195.86 628.557,1194.28 635.292,1192.73 642.027,1191.19 648.762,1189.68 655.497,1188.19 662.233,1186.72 668.968,1185.28 675.703,1183.85 682.438,1182.45 689.173,1181.06 695.908,1179.7 702.644,1178.36 709.379,1177.04 716.114,1175.74 722.849,1174.46 729.584,1173.21 736.319,1171.97 743.054,1170.75 749.79,1169.55 756.525,1168.37 763.26,1167.21 769.995,1166.07 776.73,1164.95 783.465,1163.85 790.201,1162.77 796.936,1161.71 803.671,1160.66 810.406,1159.63 817.141,1158.63 823.876,1157.64 830.611,1156.66 837.347,1155.71 844.082,1154.77 850.817,1153.85 857.552,1152.95 864.287,1152.06 871.022,1151.19 877.758,1150.34 884.493,1149.51 891.228,1148.69 897.963,1147.89 904.698,1147.1 911.433,1146.33 918.168,1145.57 924.904,1144.83 931.639,1144.11 938.374,1143.4 945.109,1142.71 951.844,1142.03 958.579,1141.36 965.314,1140.71 972.05,1140.08 978.785,1139.46 985.52,1138.85 992.255,1138.26 998.99,1137.68 1005.73,1137.11 1012.46,1136.56 1019.2,1136.02 1025.93,1135.49 1032.67,1134.98 1039.4,1134.48 1046.14,1133.99 1052.87,1133.51 1059.61,1133.05 1066.34,1132.6 1073.08,1132.16 1079.81,1131.73 1086.55,1131.31 1093.28,1130.91 1100.02,1130.51 1106.75,1130.13 1113.49,1129.76 1120.22,1129.39 1126.96,1129.04 1133.69,1128.7 1140.43,1128.37 1147.16,1128.05 1153.9,1127.75 1160.63,1127.45 1167.37,1127.16 1174.1,1126.88 1180.84,1126.6 1187.57,1126.34 1194.31,1126.09 1201.04,1125.85 1207.78,1125.61 1214.52,1125.39 1221.25,1125.17 1227.99,1124.96 1234.72,1124.76 1241.46,1124.57 1248.19,1124.39 1254.93,1124.21 1261.66,1124.04 1268.4,1123.88 1275.13,1123.73 1281.87,1123.58 1288.6,1123.45 1295.34,1123.32 1302.07,1123.19 1308.81,1123.07 1315.54,1122.96 1322.28,1122.86 1329.01,1122.77 1335.75,1122.67 1342.48,1122.59 1349.22,1122.51 1355.95,1122.44 1362.69,1122.38 1369.42,1122.32 1376.16,1122.26 1382.89,1122.22 1389.63,1122.17 1396.36,1122.14 1403.1,1122.11 1409.83,1122.08 1416.57,1122.06 1423.3,1122.04 1430.04,1122.03 1436.78,1122.03 1443.51,1122.03 1450.25,1122.03 1456.98,1122.04 1463.72,1122.05 1470.45,1122.07 1477.19,1122.09 1483.92,1122.12 1490.66,1122.15 1497.39,1122.18 1504.13,1122.22 1510.86,1122.26 1517.6,1122.31 1524.33,1122.36 1531.07,1122.41 1537.8,1122.47 1544.54,1122.53 1551.27,1122.6 1558.01,1122.66 1564.74,1122.74 1571.48,1122.81 1578.21,1122.89 1584.95,1122.97 1591.68,1123.05 1598.42,1123.14 1605.15,1123.23 1611.89,1123.32 1618.62,1123.42 1625.36,1123.52 1632.09,1123.62 1638.83,1123.72 1645.56,1123.83 1652.3,1123.94 1659.04,1124.05 1665.77,1124.16 1672.51,1124.28 1679.24,1124.4 1685.98,1124.52 1692.71,1124.64 1699.45,1124.77 1706.18,1124.89 1712.92,1125.02 1719.65,1125.15 1726.39,1125.29 1733.12,1125.42 1739.86,1125.56 1746.59,1125.7 1753.33,1125.84 1760.06,1125.98 1766.8,1126.13 1773.53,1126.28 1780.27,1126.42 1787,1126.57 1793.74,1126.72 1800.47,1126.88 1807.21,1127.03 1813.94,1127.19 1820.68,1127.35 1827.41,1127.5 1834.15,1127.66 1840.88,1127.83 1847.62,1127.99 1854.35,1128.15 1861.09,1128.32 1867.82,1128.49 1874.56,1128.66 1881.3,1128.83 1888.03,1129 1894.77,1129.17 1901.5,1129.34 1908.24,1129.52 1914.97,1129.69 1921.71,1129.87 1928.44,1130.05 1935.18,1130.23 1941.91,1130.41 1948.65,1130.59 1955.38,1130.77 1962.12,1130.96 1968.85,1131.14 1975.59,1131.33 1982.32,1131.52 1989.06,1131.7 1995.79,1131.89 2002.53,1132.08 2009.26,1132.27 2016,1132.46 2022.73,1132.66 2029.47,1132.85 2036.2,1133.05 2042.94,1133.24 2049.67,1133.44 2056.41,1133.64 2063.14,1133.84 2069.88,1134.04 2076.61,1134.24 2083.35,1134.44 2090.08,1134.64 2096.82,1134.84 2103.56,1135.05 2110.29,1135.25 2117.03,1135.46 2123.76,1135.67 2130.5,1135.88 2137.23,1136.09 2143.97,1136.3 2150.7,1136.51 2157.44,1136.72 2164.17,1136.93 2170.91,1137.15 2177.64,1137.36 2184.38,1137.58 2191.11,1137.79 2197.85,1138.01 2204.58,1138.23 2211.32,1138.45 2218.05,1138.67 2224.79,1138.89 2231.52,1139.12 2238.26,1139.34 2244.99,1139.57 2251.73,1139.79 2258.46,1140.02 2265.2,1140.25 2271.93,1140.47 2278.67,1140.7 2285.4,1140.94 2292.14,1141.17 \"/>\n<polyline clip-path=\"url(#clip082)\" style=\"stroke:#ac8d18; stroke-linecap:round; stroke-linejoin:round; stroke-width:4; stroke-opacity:1; fill:none\" stroke-dasharray=\"16, 10\" points=\"271.594,1043.08 278.329,1045.24 285.064,1048.35 291.799,1049.58 298.534,1050.99 305.27,1053.07 312.005,1055.13 318.74,1057.18 325.475,1060.04 332.21,1062.86 338.945,1064.84 345.68,1066.9 352.416,1068.85 359.151,1070.78 365.886,1072.68 372.621,1074.57 379.356,1075.98 386.091,1077.93 392.827,1079.34 399.562,1081.16 406.297,1082.95 413.032,1084.73 419.767,1086.49 426.502,1088.23 433.237,1090.47 439.973,1092.28 446.708,1094.08 453.443,1095.47 460.178,1097.23 466.913,1098.86 473.648,1100.48 480.384,1102.08 487.119,1103.66 493.854,1105.22 500.589,1106.6 507.324,1108.13 514.059,1109.64 520.794,1111.24 527.53,1112.72 534.265,1114.18 541,1115.63 547.735,1117.28 554.47,1118.91 561.205,1120.51 567.941,1122.07 574.676,1123.61 581.411,1125.11 588.146,1126.58 594.881,1128.03 601.616,1129.44 608.351,1130.83 615.087,1132.18 621.822,1133.55 628.557,1134.85 635.292,1136.13 642.027,1137.37 648.762,1138.59 655.497,1139.78 662.233,1140.95 668.968,1142.08 675.703,1143.2 682.438,1144.28 689.173,1145.34 695.908,1146.38 702.644,1147.39 709.379,1148.38 716.114,1149.34 722.849,1150.28 729.584,1151.2 736.319,1152.09 743.054,1152.96 749.79,1153.81 756.525,1154.63 763.26,1155.44 769.995,1156.22 776.73,1156.98 783.465,1157.72 790.201,1158.44 796.936,1159.13 803.671,1159.81 810.406,1160.47 817.141,1161.11 823.876,1161.73 830.611,1162.33 837.347,1162.91 844.082,1163.47 850.817,1164.02 857.552,1164.54 864.287,1165.05 871.022,1165.54 877.758,1166.02 884.493,1166.47 891.228,1166.92 897.963,1167.34 904.698,1167.75 911.433,1168.14 918.168,1168.52 924.904,1168.88 931.639,1169.23 938.374,1169.56 945.109,1169.88 951.844,1170.18 958.579,1170.47 965.314,1170.75 972.05,1171.01 978.785,1171.26 985.52,1171.5 992.255,1171.72 998.99,1171.93 1005.73,1172.13 1012.46,1172.31 1019.2,1172.49 1025.93,1172.65 1032.67,1172.8 1039.4,1172.94 1046.14,1173.07 1052.87,1173.19 1059.61,1173.3 1066.34,1173.39 1073.08,1173.48 1079.81,1173.56 1086.55,1173.62 1093.28,1173.68 1100.02,1173.73 1106.75,1173.77 1113.49,1173.8 1120.22,1173.82 1126.96,1173.83 1133.69,1173.84 1140.43,1173.83 1147.16,1173.82 1153.9,1173.8 1160.63,1173.77 1167.37,1173.74 1174.1,1173.69 1180.84,1173.65 1187.57,1173.59 1194.31,1173.53 1201.04,1173.46 1207.78,1173.38 1214.52,1173.3 1221.25,1173.21 1227.99,1173.11 1234.72,1173.01 1241.46,1172.9 1248.19,1172.79 1254.93,1172.67 1261.66,1172.55 1268.4,1172.42 1275.13,1172.29 1281.87,1172.15 1288.6,1172.01 1295.34,1171.86 1302.07,1171.71 1308.81,1171.56 1315.54,1171.4 1322.28,1171.23 1329.01,1171.06 1335.75,1170.89 1342.48,1170.72 1349.22,1170.54 1355.95,1170.36 1362.69,1170.17 1369.42,1169.98 1376.16,1169.79 1382.89,1169.59 1389.63,1169.4 1396.36,1169.2 1403.1,1168.99 1409.83,1168.79 1416.57,1168.58 1423.3,1168.37 1430.04,1168.15 1436.78,1167.94 1443.51,1167.72 1450.25,1167.5 1456.98,1167.28 1463.72,1167.06 1470.45,1166.83 1477.19,1166.61 1483.92,1166.38 1490.66,1166.15 1497.39,1165.92 1504.13,1165.69 1510.86,1165.45 1517.6,1165.22 1524.33,1164.98 1531.07,1164.75 1537.8,1164.51 1544.54,1164.27 1551.27,1164.03 1558.01,1163.79 1564.74,1163.55 1571.48,1163.31 1578.21,1163.07 1584.95,1162.83 1591.68,1162.58 1598.42,1162.34 1605.15,1162.1 1611.89,1161.85 1618.62,1161.61 1625.36,1161.37 1632.09,1161.12 1638.83,1160.88 1645.56,1160.63 1652.3,1160.39 1659.04,1160.15 1665.77,1159.9 1672.51,1159.66 1679.24,1159.42 1685.98,1159.17 1692.71,1158.93 1699.45,1158.69 1706.18,1158.45 1712.92,1158.2 1719.65,1157.96 1726.39,1157.72 1733.12,1157.48 1739.86,1157.24 1746.59,1157 1753.33,1156.77 1760.06,1156.53 1766.8,1156.29 1773.53,1156.06 1780.27,1155.82 1787,1155.59 1793.74,1155.35 1800.47,1155.12 1807.21,1154.89 1813.94,1154.65 1820.68,1154.42 1827.41,1154.2 1834.15,1153.97 1840.88,1153.74 1847.62,1153.51 1854.35,1153.29 1861.09,1153.06 1867.82,1152.84 1874.56,1152.62 1881.3,1152.39 1888.03,1152.17 1894.77,1151.95 1901.5,1151.74 1908.24,1151.52 1914.97,1151.3 1921.71,1151.09 1928.44,1150.87 1935.18,1150.66 1941.91,1150.45 1948.65,1150.24 1955.38,1150.03 1962.12,1149.82 1968.85,1149.62 1975.59,1149.41 1982.32,1149.21 1989.06,1149.01 1995.79,1148.8 2002.53,1148.6 2009.26,1148.4 2016,1148.21 2022.73,1148.01 2029.47,1147.81 2036.2,1147.62 2042.94,1147.43 2049.67,1147.23 2056.41,1147.04 2063.14,1146.86 2069.88,1146.67 2076.61,1146.48 2083.35,1146.3 2090.08,1146.11 2096.82,1145.93 2103.56,1145.75 2110.29,1145.57 2117.03,1145.39 2123.76,1145.21 2130.5,1145.03 2137.23,1144.86 2143.97,1144.68 2150.7,1144.51 2157.44,1144.34 2164.17,1144.17 2170.91,1144 2177.64,1143.83 2184.38,1143.67 2191.11,1143.5 2197.85,1143.34 2204.58,1143.17 2211.32,1143.01 2218.05,1142.85 2224.79,1142.69 2231.52,1142.53 2238.26,1142.38 2244.99,1142.22 2251.73,1142.07 2258.46,1141.92 2265.2,1141.76 2271.93,1141.61 2278.67,1141.46 2285.4,1141.31 2292.14,1141.17 \"/>\n<polyline clip-path=\"url(#clip082)\" style=\"stroke:#00a9ad; stroke-linecap:round; stroke-linejoin:round; stroke-width:4; stroke-opacity:1; fill:none\" stroke-dasharray=\"16, 10\" points=\"271.594,1386.4 278.329,1377.61 285.064,1380.36 291.799,1382.83 298.534,1385.24 305.27,1377.29 312.005,1369.55 318.74,1362.02 325.475,1364.34 332.21,1366.59 338.945,1359.69 345.68,1349.29 352.416,1342.81 359.151,1336.52 365.886,1330.45 372.621,1324.58 379.356,1326.24 386.091,1317.42 392.827,1318.96 399.562,1313.92 406.297,1309.08 413.032,1304.44 419.767,1300.01 426.502,1295.78 433.237,1297.11 439.973,1290.34 446.708,1283.81 453.443,1284.89 460.178,1278.87 466.913,1275.84 473.648,1273 480.384,1270.36 487.119,1267.91 493.854,1265.66 500.589,1266.42 507.324,1264.55 514.059,1262.87 520.794,1259.05 527.53,1257.75 534.265,1256.63 541,1255.7 547.735,1256.22 554.47,1256.7 561.205,1257.14 567.941,1257.55 574.676,1257.91 581.411,1258.23 588.146,1258.52 594.881,1258.77 601.616,1258.99 608.351,1259.17 615.087,1259.32 621.822,1258.92 628.557,1259.01 635.292,1259.06 642.027,1259.08 648.762,1259.07 655.497,1259.03 662.233,1258.96 668.968,1258.87 675.703,1258.74 682.438,1258.59 689.173,1258.41 695.908,1258.21 702.644,1257.98 709.379,1257.73 716.114,1257.45 722.849,1257.15 729.584,1256.83 736.319,1256.48 743.054,1256.12 749.79,1255.73 756.525,1255.32 763.26,1254.9 769.995,1254.45 776.73,1253.98 783.465,1253.5 790.201,1253 796.936,1252.48 803.671,1251.94 810.406,1251.39 817.141,1250.83 823.876,1250.24 830.611,1249.65 837.347,1249.03 844.082,1248.41 850.817,1247.77 857.552,1247.12 864.287,1246.46 871.022,1245.78 877.758,1245.09 884.493,1244.39 891.228,1243.68 897.963,1242.97 904.698,1242.24 911.433,1241.5 918.168,1240.75 924.904,1239.99 931.639,1239.23 938.374,1238.45 945.109,1237.67 951.844,1236.88 958.579,1236.09 965.314,1235.29 972.05,1234.48 978.785,1233.66 985.52,1232.84 992.255,1232.02 998.99,1231.19 1005.73,1230.36 1012.46,1229.52 1019.2,1228.67 1025.93,1227.83 1032.67,1226.98 1039.4,1226.12 1046.14,1225.27 1052.87,1224.41 1059.61,1223.55 1066.34,1222.69 1073.08,1221.82 1079.81,1220.95 1086.55,1220.09 1093.28,1219.22 1100.02,1218.35 1106.75,1217.48 1113.49,1216.6 1120.22,1215.73 1126.96,1214.86 1133.69,1213.99 1140.43,1213.12 1147.16,1212.25 1153.9,1211.38 1160.63,1210.51 1167.37,1209.64 1174.1,1208.78 1180.84,1207.91 1187.57,1207.05 1194.31,1206.19 1201.04,1205.33 1207.78,1204.48 1214.52,1203.62 1221.25,1202.77 1227.99,1201.92 1234.72,1201.08 1241.46,1200.23 1248.19,1199.4 1254.93,1198.56 1261.66,1197.73 1268.4,1196.9 1275.13,1196.07 1281.87,1195.25 1288.6,1194.43 1295.34,1193.62 1302.07,1192.81 1308.81,1192 1315.54,1191.2 1322.28,1190.4 1329.01,1189.61 1335.75,1188.82 1342.48,1188.04 1349.22,1187.26 1355.95,1186.49 1362.69,1185.72 1369.42,1184.96 1376.16,1184.2 1382.89,1183.45 1389.63,1182.7 1396.36,1181.96 1403.1,1181.22 1409.83,1180.49 1416.57,1179.76 1423.3,1179.04 1430.04,1178.33 1436.78,1177.62 1443.51,1176.92 1450.25,1176.22 1456.98,1175.53 1463.72,1174.85 1470.45,1174.17 1477.19,1173.5 1483.92,1172.83 1490.66,1172.17 1497.39,1171.52 1504.13,1170.87 1510.86,1170.23 1517.6,1169.59 1524.33,1168.97 1531.07,1168.34 1537.8,1167.73 1544.54,1167.12 1551.27,1166.52 1558.01,1165.92 1564.74,1165.33 1571.48,1164.75 1578.21,1164.17 1584.95,1163.6 1591.68,1163.04 1598.42,1162.48 1605.15,1161.93 1611.89,1161.39 1618.62,1160.85 1625.36,1160.32 1632.09,1159.8 1638.83,1159.28 1645.56,1158.78 1652.3,1158.27 1659.04,1157.78 1665.77,1157.29 1672.51,1156.81 1679.24,1156.33 1685.98,1155.86 1692.71,1155.4 1699.45,1154.94 1706.18,1154.5 1712.92,1154.05 1719.65,1153.62 1726.39,1153.19 1733.12,1152.77 1739.86,1152.36 1746.59,1151.95 1753.33,1151.55 1760.06,1151.16 1766.8,1150.77 1773.53,1150.39 1780.27,1150.02 1787,1149.65 1793.74,1149.29 1800.47,1148.94 1807.21,1148.59 1813.94,1148.25 1820.68,1147.92 1827.41,1147.59 1834.15,1147.27 1840.88,1146.96 1847.62,1146.66 1854.35,1146.36 1861.09,1146.07 1867.82,1145.78 1874.56,1145.5 1881.3,1145.23 1888.03,1144.97 1894.77,1144.71 1901.5,1144.46 1908.24,1144.21 1914.97,1143.97 1921.71,1143.74 1928.44,1143.52 1935.18,1143.3 1941.91,1143.09 1948.65,1142.88 1955.38,1142.69 1962.12,1142.49 1968.85,1142.31 1975.59,1142.13 1982.32,1141.96 1989.06,1141.8 1995.79,1141.64 2002.53,1141.49 2009.26,1141.34 2016,1141.2 2022.73,1141.07 2029.47,1140.95 2036.2,1140.83 2042.94,1140.71 2049.67,1140.61 2056.41,1140.51 2063.14,1140.42 2069.88,1140.33 2076.61,1140.25 2083.35,1140.18 2090.08,1140.11 2096.82,1140.05 2103.56,1140 2110.29,1139.96 2117.03,1139.92 2123.76,1139.88 2130.5,1139.86 2137.23,1139.83 2143.97,1139.82 2150.7,1139.81 2157.44,1139.81 2164.17,1139.82 2170.91,1139.83 2177.64,1139.85 2184.38,1139.88 2191.11,1139.91 2197.85,1139.95 2204.58,1139.99 2211.32,1140.04 2218.05,1140.1 2224.79,1140.16 2231.52,1140.24 2238.26,1140.31 2244.99,1140.4 2251.73,1140.49 2258.46,1140.58 2265.2,1140.69 2271.93,1140.8 2278.67,1140.91 2285.4,1141.04 2292.14,1141.17 \"/>\n<path clip-path=\"url(#clip080)\" d=\"M2023.9 529.676 L2281.36 529.676 L2281.36 166.796 L2023.9 166.796  Z\" fill=\"#ffffff\" fill-rule=\"evenodd\" fill-opacity=\"1\"/>\n<polyline clip-path=\"url(#clip080)\" style=\"stroke:#000000; stroke-linecap:round; stroke-linejoin:round; stroke-width:4; stroke-opacity:1; fill:none\" points=\"2023.9,529.676 2281.36,529.676 2281.36,166.796 2023.9,166.796 2023.9,529.676 \"/>\n<polyline clip-path=\"url(#clip080)\" style=\"stroke:#009af9; stroke-linecap:round; stroke-linejoin:round; stroke-width:4; stroke-opacity:1; fill:none\" points=\"2047.7,218.636 2190.48,218.636 \"/>\n<path clip-path=\"url(#clip080)\" d=\"M2238.93 209.99 L2229.56 222.606 L2239.42 235.916 L2234.39 235.916 L2226.85 225.731 L2219.3 235.916 L2214.28 235.916 L2224.35 222.351 L2215.14 209.99 L2220.16 209.99 L2227.03 219.226 L2233.91 209.99 L2238.93 209.99 Z\" fill=\"#000000\" fill-rule=\"evenodd\" fill-opacity=\"1\" /><path clip-path=\"url(#clip080)\" d=\"M2244.58 233.369 L2249.3 233.369 L2249.3 219.226 L2244.14 220.175 L2244.14 217.49 L2249.46 216.587 L2252.64 216.587 L2252.64 233.369 L2257.38 233.369 L2257.38 235.916 L2244.58 235.916 L2244.58 233.369 Z\" fill=\"#000000\" fill-rule=\"evenodd\" fill-opacity=\"1\" /><polyline clip-path=\"url(#clip080)\" style=\"stroke:#e26f46; stroke-linecap:round; stroke-linejoin:round; stroke-width:4; stroke-opacity:1; fill:none\" points=\"2047.7,270.476 2190.48,270.476 \"/>\n<path clip-path=\"url(#clip080)\" d=\"M2238.93 261.83 L2229.56 274.446 L2239.42 287.756 L2234.39 287.756 L2226.85 277.571 L2219.3 287.756 L2214.28 287.756 L2224.35 274.191 L2215.14 261.83 L2220.16 261.83 L2227.03 271.066 L2233.91 261.83 L2238.93 261.83 Z\" fill=\"#000000\" fill-rule=\"evenodd\" fill-opacity=\"1\" /><path clip-path=\"url(#clip080)\" d=\"M2247.17 285.117 L2256.99 285.117 L2256.99 287.756 L2243.14 287.756 L2243.14 285.209 Q2243.93 284.492 2245.39 283.196 Q2253.35 276.135 2253.35 273.959 Q2253.35 272.432 2252.15 271.506 Q2250.95 270.557 2248.98 270.557 Q2247.77 270.557 2246.36 270.973 Q2244.95 271.367 2243.28 272.177 L2243.28 269.33 Q2245.07 268.682 2246.59 268.358 Q2248.14 268.034 2249.46 268.034 Q2252.82 268.034 2254.83 269.561 Q2256.85 271.089 2256.85 273.589 Q2256.85 276.807 2249.19 283.381 Q2247.89 284.492 2247.17 285.117 Z\" fill=\"#000000\" fill-rule=\"evenodd\" fill-opacity=\"1\" /><polyline clip-path=\"url(#clip080)\" style=\"stroke:#3da44d; stroke-linecap:round; stroke-linejoin:round; stroke-width:4; stroke-opacity:1; fill:none\" points=\"2047.7,322.316 2190.48,322.316 \"/>\n<path clip-path=\"url(#clip080)\" d=\"M2238.93 313.67 L2229.56 326.286 L2239.42 339.596 L2234.39 339.596 L2226.85 329.411 L2219.3 339.596 L2214.28 339.596 L2224.35 326.031 L2215.14 313.67 L2220.16 313.67 L2227.03 322.906 L2233.91 313.67 L2238.93 313.67 Z\" fill=\"#000000\" fill-rule=\"evenodd\" fill-opacity=\"1\" /><path clip-path=\"url(#clip080)\" d=\"M2253.1 329.133 Q2255.23 329.549 2256.39 330.823 Q2257.57 332.073 2257.57 333.971 Q2257.57 336.841 2255.37 338.392 Q2253.17 339.943 2249.07 339.943 Q2247.75 339.943 2246.29 339.688 Q2244.86 339.457 2243.24 338.994 L2243.24 336.193 Q2244.44 336.818 2245.81 337.119 Q2247.2 337.42 2248.75 337.42 Q2251.27 337.42 2252.66 336.517 Q2254.05 335.591 2254.05 333.971 Q2254.05 332.258 2252.75 331.378 Q2251.48 330.499 2248.98 330.499 L2246.99 330.499 L2246.99 327.999 L2249.16 327.999 Q2251.34 327.999 2252.45 327.281 Q2253.58 326.54 2253.58 325.151 Q2253.58 323.809 2252.43 323.114 Q2251.27 322.397 2249.07 322.397 Q2248.14 322.397 2246.96 322.605 Q2245.78 322.813 2243.91 323.346 L2243.91 320.684 Q2245.6 320.29 2247.08 320.082 Q2248.56 319.874 2249.83 319.874 Q2253.17 319.874 2255.11 321.239 Q2257.08 322.605 2257.08 324.897 Q2257.08 326.494 2256.04 327.605 Q2255 328.716 2253.1 329.133 Z\" fill=\"#000000\" fill-rule=\"evenodd\" fill-opacity=\"1\" /><polyline clip-path=\"url(#clip080)\" style=\"stroke:#c271d2; stroke-linecap:round; stroke-linejoin:round; stroke-width:4; stroke-opacity:1; fill:none\" stroke-dasharray=\"16, 10\" points=\"2047.7,374.156 2190.48,374.156 \"/>\n<path clip-path=\"url(#clip080)\" d=\"M2238.93 365.51 L2229.56 378.126 L2239.42 391.436 L2234.39 391.436 L2226.85 381.251 L2219.3 391.436 L2214.28 391.436 L2224.35 377.871 L2215.14 365.51 L2220.16 365.51 L2227.03 374.746 L2233.91 365.51 L2238.93 365.51 Z\" fill=\"#000000\" fill-rule=\"evenodd\" fill-opacity=\"1\" /><path clip-path=\"url(#clip080)\" d=\"M2226.94 355.417 L2231.2 355.417 L2231.2 360.811 L2226.94 360.811 L2226.94 355.417 M2229.12 364.885 L2229.12 364.885 Z\" fill=\"#000000\" fill-rule=\"evenodd\" fill-opacity=\"1\" /><path clip-path=\"url(#clip080)\" d=\"M2244.58 388.889 L2249.3 388.889 L2249.3 374.746 L2244.14 375.695 L2244.14 373.01 L2249.46 372.107 L2252.64 372.107 L2252.64 388.889 L2257.38 388.889 L2257.38 391.436 L2244.58 391.436 L2244.58 388.889 Z\" fill=\"#000000\" fill-rule=\"evenodd\" fill-opacity=\"1\" /><polyline clip-path=\"url(#clip080)\" style=\"stroke:#ac8d18; stroke-linecap:round; stroke-linejoin:round; stroke-width:4; stroke-opacity:1; fill:none\" stroke-dasharray=\"16, 10\" points=\"2047.7,425.996 2190.48,425.996 \"/>\n<path clip-path=\"url(#clip080)\" d=\"M2238.93 417.35 L2229.56 429.966 L2239.42 443.276 L2234.39 443.276 L2226.85 433.091 L2219.3 443.276 L2214.28 443.276 L2224.35 429.711 L2215.14 417.35 L2220.16 417.35 L2227.03 426.586 L2233.91 417.35 L2238.93 417.35 Z\" fill=\"#000000\" fill-rule=\"evenodd\" fill-opacity=\"1\" /><path clip-path=\"url(#clip080)\" d=\"M2226.94 407.257 L2231.2 407.257 L2231.2 412.651 L2226.94 412.651 L2226.94 407.257 M2229.12 416.725 L2229.12 416.725 Z\" fill=\"#000000\" fill-rule=\"evenodd\" fill-opacity=\"1\" /><path clip-path=\"url(#clip080)\" d=\"M2247.17 440.637 L2256.99 440.637 L2256.99 443.276 L2243.14 443.276 L2243.14 440.729 Q2243.93 440.012 2245.39 438.716 Q2253.35 431.655 2253.35 429.479 Q2253.35 427.952 2252.15 427.026 Q2250.95 426.077 2248.98 426.077 Q2247.77 426.077 2246.36 426.493 Q2244.95 426.887 2243.28 427.697 L2243.28 424.85 Q2245.07 424.202 2246.59 423.878 Q2248.14 423.554 2249.46 423.554 Q2252.82 423.554 2254.83 425.081 Q2256.85 426.609 2256.85 429.109 Q2256.85 432.327 2249.19 438.901 Q2247.89 440.012 2247.17 440.637 Z\" fill=\"#000000\" fill-rule=\"evenodd\" fill-opacity=\"1\" /><polyline clip-path=\"url(#clip080)\" style=\"stroke:#00a9ad; stroke-linecap:round; stroke-linejoin:round; stroke-width:4; stroke-opacity:1; fill:none\" stroke-dasharray=\"16, 10\" points=\"2047.7,477.836 2190.48,477.836 \"/>\n<path clip-path=\"url(#clip080)\" d=\"M2238.93 469.19 L2229.56 481.806 L2239.42 495.116 L2234.39 495.116 L2226.85 484.931 L2219.3 495.116 L2214.28 495.116 L2224.35 481.551 L2215.14 469.19 L2220.16 469.19 L2227.03 478.426 L2233.91 469.19 L2238.93 469.19 Z\" fill=\"#000000\" fill-rule=\"evenodd\" fill-opacity=\"1\" /><path clip-path=\"url(#clip080)\" d=\"M2226.94 459.097 L2231.2 459.097 L2231.2 464.491 L2226.94 464.491 L2226.94 459.097 M2229.12 468.565 L2229.12 468.565 Z\" fill=\"#000000\" fill-rule=\"evenodd\" fill-opacity=\"1\" /><path clip-path=\"url(#clip080)\" d=\"M2253.1 484.653 Q2255.23 485.069 2256.39 486.343 Q2257.57 487.593 2257.57 489.491 Q2257.57 492.361 2255.37 493.912 Q2253.17 495.463 2249.07 495.463 Q2247.75 495.463 2246.29 495.208 Q2244.86 494.977 2243.24 494.514 L2243.24 491.713 Q2244.44 492.338 2245.81 492.639 Q2247.2 492.94 2248.75 492.94 Q2251.27 492.94 2252.66 492.037 Q2254.05 491.111 2254.05 489.491 Q2254.05 487.778 2252.75 486.898 Q2251.48 486.019 2248.98 486.019 L2246.99 486.019 L2246.99 483.519 L2249.16 483.519 Q2251.34 483.519 2252.45 482.801 Q2253.58 482.06 2253.58 480.671 Q2253.58 479.329 2252.43 478.634 Q2251.27 477.917 2249.07 477.917 Q2248.14 477.917 2246.96 478.125 Q2245.78 478.333 2243.91 478.866 L2243.91 476.204 Q2245.6 475.81 2247.08 475.602 Q2248.56 475.394 2249.83 475.394 Q2253.17 475.394 2255.11 476.759 Q2257.08 478.125 2257.08 480.417 Q2257.08 482.014 2256.04 483.125 Q2255 484.236 2253.1 484.653 Z\" fill=\"#000000\" fill-rule=\"evenodd\" fill-opacity=\"1\" /></svg>\n"
     },
     "metadata": {},
     "output_type": "display_data"
    },
    {
     "data": {
      "image/svg+xml": "<?xml version=\"1.0\" encoding=\"utf-8\"?>\n<svg xmlns=\"http://www.w3.org/2000/svg\" xmlns:xlink=\"http://www.w3.org/1999/xlink\" width=\"600\" height=\"400\" viewBox=\"0 0 2400 1600\">\n<defs>\n  <clipPath id=\"clip120\">\n    <rect x=\"0\" y=\"0\" width=\"2400\" height=\"1600\"/>\n  </clipPath>\n</defs>\n<path clip-path=\"url(#clip120)\" d=\"M0 1600 L2400 1600 L2400 0 L0 0  Z\" fill=\"#ffffff\" fill-rule=\"evenodd\" fill-opacity=\"1\"/>\n<defs>\n  <clipPath id=\"clip121\">\n    <rect x=\"480\" y=\"0\" width=\"1681\" height=\"1600\"/>\n  </clipPath>\n</defs>\n<path clip-path=\"url(#clip120)\" d=\"M232.389 1423.18 L2352.76 1423.18 L2352.76 123.472 L232.389 123.472  Z\" fill=\"#ffffff\" fill-rule=\"evenodd\" fill-opacity=\"1\"/>\n<defs>\n  <clipPath id=\"clip122\">\n    <rect x=\"232\" y=\"123\" width=\"2121\" height=\"1301\"/>\n  </clipPath>\n</defs>\n<polyline clip-path=\"url(#clip122)\" style=\"stroke:#000000; stroke-linecap:round; stroke-linejoin:round; stroke-width:2; stroke-opacity:0.1; fill:none\" points=\"292.4,1423.18 292.4,123.472 \"/>\n<polyline clip-path=\"url(#clip122)\" style=\"stroke:#000000; stroke-linecap:round; stroke-linejoin:round; stroke-width:2; stroke-opacity:0.1; fill:none\" points=\"961.412,1423.18 961.412,123.472 \"/>\n<polyline clip-path=\"url(#clip122)\" style=\"stroke:#000000; stroke-linecap:round; stroke-linejoin:round; stroke-width:2; stroke-opacity:0.1; fill:none\" points=\"1630.42,1423.18 1630.42,123.472 \"/>\n<polyline clip-path=\"url(#clip122)\" style=\"stroke:#000000; stroke-linecap:round; stroke-linejoin:round; stroke-width:2; stroke-opacity:0.1; fill:none\" points=\"2299.44,1423.18 2299.44,123.472 \"/>\n<polyline clip-path=\"url(#clip120)\" style=\"stroke:#000000; stroke-linecap:round; stroke-linejoin:round; stroke-width:4; stroke-opacity:1; fill:none\" points=\"232.389,1423.18 2352.76,1423.18 \"/>\n<polyline clip-path=\"url(#clip120)\" style=\"stroke:#000000; stroke-linecap:round; stroke-linejoin:round; stroke-width:4; stroke-opacity:1; fill:none\" points=\"292.4,1423.18 292.4,1404.28 \"/>\n<polyline clip-path=\"url(#clip120)\" style=\"stroke:#000000; stroke-linecap:round; stroke-linejoin:round; stroke-width:4; stroke-opacity:1; fill:none\" points=\"961.412,1423.18 961.412,1404.28 \"/>\n<polyline clip-path=\"url(#clip120)\" style=\"stroke:#000000; stroke-linecap:round; stroke-linejoin:round; stroke-width:4; stroke-opacity:1; fill:none\" points=\"1630.42,1423.18 1630.42,1404.28 \"/>\n<polyline clip-path=\"url(#clip120)\" style=\"stroke:#000000; stroke-linecap:round; stroke-linejoin:round; stroke-width:4; stroke-opacity:1; fill:none\" points=\"2299.44,1423.18 2299.44,1404.28 \"/>\n<path clip-path=\"url(#clip120)\" d=\"M292.4 1454.1 Q288.789 1454.1 286.96 1457.66 Q285.154 1461.2 285.154 1468.33 Q285.154 1475.44 286.96 1479.01 Q288.789 1482.55 292.4 1482.55 Q296.034 1482.55 297.84 1479.01 Q299.668 1475.44 299.668 1468.33 Q299.668 1461.2 297.84 1457.66 Q296.034 1454.1 292.4 1454.1 M292.4 1450.39 Q298.21 1450.39 301.265 1455 Q304.344 1459.58 304.344 1468.33 Q304.344 1477.06 301.265 1481.67 Q298.21 1486.25 292.4 1486.25 Q286.59 1486.25 283.511 1481.67 Q280.455 1477.06 280.455 1468.33 Q280.455 1459.58 283.511 1455 Q286.59 1450.39 292.4 1450.39 Z\" fill=\"#000000\" fill-rule=\"evenodd\" fill-opacity=\"1\" /><path clip-path=\"url(#clip120)\" d=\"M951.69 1451.02 L970.046 1451.02 L970.046 1454.96 L955.972 1454.96 L955.972 1463.43 Q956.99 1463.08 958.009 1462.92 Q959.027 1462.73 960.046 1462.73 Q965.833 1462.73 969.213 1465.9 Q972.592 1469.08 972.592 1474.49 Q972.592 1480.07 969.12 1483.17 Q965.648 1486.25 959.328 1486.25 Q957.152 1486.25 954.884 1485.88 Q952.639 1485.51 950.231 1484.77 L950.231 1480.07 Q952.315 1481.2 954.537 1481.76 Q956.759 1482.32 959.236 1482.32 Q963.24 1482.32 965.578 1480.21 Q967.916 1478.1 967.916 1474.49 Q967.916 1470.88 965.578 1468.77 Q963.24 1466.67 959.236 1466.67 Q957.361 1466.67 955.486 1467.08 Q953.634 1467.5 951.69 1468.38 L951.69 1451.02 Z\" fill=\"#000000\" fill-rule=\"evenodd\" fill-opacity=\"1\" /><path clip-path=\"url(#clip120)\" d=\"M1605.11 1481.64 L1612.75 1481.64 L1612.75 1455.28 L1604.44 1456.95 L1604.44 1452.69 L1612.7 1451.02 L1617.38 1451.02 L1617.38 1481.64 L1625.02 1481.64 L1625.02 1485.58 L1605.11 1485.58 L1605.11 1481.64 Z\" fill=\"#000000\" fill-rule=\"evenodd\" fill-opacity=\"1\" /><path clip-path=\"url(#clip120)\" d=\"M1644.46 1454.1 Q1640.85 1454.1 1639.02 1457.66 Q1637.22 1461.2 1637.22 1468.33 Q1637.22 1475.44 1639.02 1479.01 Q1640.85 1482.55 1644.46 1482.55 Q1648.1 1482.55 1649.9 1479.01 Q1651.73 1475.44 1651.73 1468.33 Q1651.73 1461.2 1649.9 1457.66 Q1648.1 1454.1 1644.46 1454.1 M1644.46 1450.39 Q1650.27 1450.39 1653.33 1455 Q1656.41 1459.58 1656.41 1468.33 Q1656.41 1477.06 1653.33 1481.67 Q1650.27 1486.25 1644.46 1486.25 Q1638.65 1486.25 1635.57 1481.67 Q1632.52 1477.06 1632.52 1468.33 Q1632.52 1459.58 1635.57 1455 Q1638.65 1450.39 1644.46 1450.39 Z\" fill=\"#000000\" fill-rule=\"evenodd\" fill-opacity=\"1\" /><path clip-path=\"url(#clip120)\" d=\"M2274.62 1481.64 L2282.26 1481.64 L2282.26 1455.28 L2273.95 1456.95 L2273.95 1452.69 L2282.21 1451.02 L2286.89 1451.02 L2286.89 1481.64 L2294.53 1481.64 L2294.53 1485.58 L2274.62 1485.58 L2274.62 1481.64 Z\" fill=\"#000000\" fill-rule=\"evenodd\" fill-opacity=\"1\" /><path clip-path=\"url(#clip120)\" d=\"M2304.02 1451.02 L2322.38 1451.02 L2322.38 1454.96 L2308.3 1454.96 L2308.3 1463.43 Q2309.32 1463.08 2310.34 1462.92 Q2311.36 1462.73 2312.38 1462.73 Q2318.16 1462.73 2321.54 1465.9 Q2324.92 1469.08 2324.92 1474.49 Q2324.92 1480.07 2321.45 1483.17 Q2317.98 1486.25 2311.66 1486.25 Q2309.48 1486.25 2307.21 1485.88 Q2304.97 1485.51 2302.56 1484.77 L2302.56 1480.07 Q2304.64 1481.2 2306.87 1481.76 Q2309.09 1482.32 2311.57 1482.32 Q2315.57 1482.32 2317.91 1480.21 Q2320.25 1478.1 2320.25 1474.49 Q2320.25 1470.88 2317.91 1468.77 Q2315.57 1466.67 2311.57 1466.67 Q2309.69 1466.67 2307.82 1467.08 Q2305.96 1467.5 2304.02 1468.38 L2304.02 1451.02 Z\" fill=\"#000000\" fill-rule=\"evenodd\" fill-opacity=\"1\" /><path clip-path=\"url(#clip120)\" d=\"M1180.03 1522.27 L1180.03 1532.4 L1192.09 1532.4 L1192.09 1536.95 L1180.03 1536.95 L1180.03 1556.3 Q1180.03 1560.66 1181.2 1561.9 Q1182.41 1563.14 1186.07 1563.14 L1192.09 1563.14 L1192.09 1568.04 L1186.07 1568.04 Q1179.29 1568.04 1176.72 1565.53 Q1174.14 1562.98 1174.14 1556.3 L1174.14 1536.95 L1169.84 1536.95 L1169.84 1532.4 L1174.14 1532.4 L1174.14 1522.27 L1180.03 1522.27 Z\" fill=\"#000000\" fill-rule=\"evenodd\" fill-opacity=\"1\" /><path clip-path=\"url(#clip120)\" d=\"M1199.79 1532.4 L1205.65 1532.4 L1205.65 1568.04 L1199.79 1568.04 L1199.79 1532.4 M1199.79 1518.52 L1205.65 1518.52 L1205.65 1525.93 L1199.79 1525.93 L1199.79 1518.52 Z\" fill=\"#000000\" fill-rule=\"evenodd\" fill-opacity=\"1\" /><path clip-path=\"url(#clip120)\" d=\"M1245.66 1539.24 Q1247.85 1535.29 1250.91 1533.41 Q1253.96 1531.54 1258.1 1531.54 Q1263.67 1531.54 1266.7 1535.45 Q1269.72 1539.33 1269.72 1546.53 L1269.72 1568.04 L1263.83 1568.04 L1263.83 1546.72 Q1263.83 1541.59 1262.02 1539.11 Q1260.2 1536.63 1256.48 1536.63 Q1251.93 1536.63 1249.29 1539.65 Q1246.64 1542.68 1246.64 1547.9 L1246.64 1568.04 L1240.76 1568.04 L1240.76 1546.72 Q1240.76 1541.56 1238.94 1539.11 Q1237.13 1536.63 1233.34 1536.63 Q1228.85 1536.63 1226.21 1539.68 Q1223.57 1542.71 1223.57 1547.9 L1223.57 1568.04 L1217.68 1568.04 L1217.68 1532.4 L1223.57 1532.4 L1223.57 1537.93 Q1225.57 1534.66 1228.37 1533.1 Q1231.18 1531.54 1235.03 1531.54 Q1238.91 1531.54 1241.62 1533.51 Q1244.35 1535.48 1245.66 1539.24 Z\" fill=\"#000000\" fill-rule=\"evenodd\" fill-opacity=\"1\" /><path clip-path=\"url(#clip120)\" d=\"M1311.89 1548.76 L1311.89 1551.62 L1284.97 1551.62 Q1285.35 1557.67 1288.59 1560.85 Q1291.87 1564 1297.7 1564 Q1301.07 1564 1304.22 1563.17 Q1307.4 1562.35 1310.52 1560.69 L1310.52 1566.23 Q1307.37 1567.57 1304.06 1568.27 Q1300.75 1568.97 1297.35 1568.97 Q1288.82 1568.97 1283.82 1564 Q1278.85 1559.04 1278.85 1550.57 Q1278.85 1541.82 1283.57 1536.69 Q1288.31 1531.54 1296.33 1531.54 Q1303.52 1531.54 1307.69 1536.18 Q1311.89 1540.8 1311.89 1548.76 M1306.04 1547.04 Q1305.97 1542.23 1303.33 1539.37 Q1300.72 1536.5 1296.39 1536.5 Q1291.49 1536.5 1288.53 1539.27 Q1285.6 1542.04 1285.16 1547.07 L1306.04 1547.04 Z\" fill=\"#000000\" fill-rule=\"evenodd\" fill-opacity=\"1\" /><path clip-path=\"url(#clip120)\" d=\"M1356.29 1518.58 Q1352.03 1525.9 1349.96 1533.06 Q1347.89 1540.23 1347.89 1547.58 Q1347.89 1554.93 1349.96 1562.16 Q1352.06 1569.35 1356.29 1576.64 L1351.2 1576.64 Q1346.43 1569.16 1344.04 1561.93 Q1341.68 1554.71 1341.68 1547.58 Q1341.68 1540.48 1344.04 1533.29 Q1346.39 1526.09 1351.2 1518.58 L1356.29 1518.58 Z\" fill=\"#000000\" fill-rule=\"evenodd\" fill-opacity=\"1\" /><path clip-path=\"url(#clip120)\" d=\"M1390.38 1533.45 L1390.38 1538.98 Q1387.9 1537.71 1385.23 1537.07 Q1382.55 1536.44 1379.69 1536.44 Q1375.33 1536.44 1373.13 1537.77 Q1370.97 1539.11 1370.97 1541.79 Q1370.97 1543.82 1372.53 1545 Q1374.09 1546.15 1378.8 1547.2 L1380.8 1547.64 Q1387.04 1548.98 1389.65 1551.43 Q1392.29 1553.85 1392.29 1558.21 Q1392.29 1563.17 1388.34 1566.07 Q1384.43 1568.97 1377.55 1568.97 Q1374.69 1568.97 1371.57 1568.39 Q1368.48 1567.85 1365.05 1566.74 L1365.05 1560.69 Q1368.29 1562.38 1371.44 1563.24 Q1374.59 1564.07 1377.68 1564.07 Q1381.82 1564.07 1384.05 1562.66 Q1386.28 1561.23 1386.28 1558.65 Q1386.28 1556.27 1384.65 1554.99 Q1383.06 1553.72 1377.62 1552.54 L1375.58 1552.07 Q1370.14 1550.92 1367.72 1548.56 Q1365.3 1546.18 1365.3 1542.04 Q1365.3 1537.01 1368.87 1534.27 Q1372.43 1531.54 1378.99 1531.54 Q1382.23 1531.54 1385.1 1532.01 Q1387.96 1532.49 1390.38 1533.45 Z\" fill=\"#000000\" fill-rule=\"evenodd\" fill-opacity=\"1\" /><path clip-path=\"url(#clip120)\" d=\"M1400.69 1518.58 L1405.79 1518.58 Q1410.56 1526.09 1412.92 1533.29 Q1415.3 1540.48 1415.3 1547.58 Q1415.3 1554.71 1412.92 1561.93 Q1410.56 1569.16 1405.79 1576.64 L1400.69 1576.64 Q1404.93 1569.35 1407 1562.16 Q1409.1 1554.93 1409.1 1547.58 Q1409.1 1540.23 1407 1533.06 Q1404.93 1525.9 1400.69 1518.58 Z\" fill=\"#000000\" fill-rule=\"evenodd\" fill-opacity=\"1\" /><polyline clip-path=\"url(#clip122)\" style=\"stroke:#000000; stroke-linecap:round; stroke-linejoin:round; stroke-width:2; stroke-opacity:0.1; fill:none\" points=\"232.389,1284.86 2352.76,1284.86 \"/>\n<polyline clip-path=\"url(#clip122)\" style=\"stroke:#000000; stroke-linecap:round; stroke-linejoin:round; stroke-width:2; stroke-opacity:0.1; fill:none\" points=\"232.389,1044.69 2352.76,1044.69 \"/>\n<polyline clip-path=\"url(#clip122)\" style=\"stroke:#000000; stroke-linecap:round; stroke-linejoin:round; stroke-width:2; stroke-opacity:0.1; fill:none\" points=\"232.389,804.525 2352.76,804.525 \"/>\n<polyline clip-path=\"url(#clip122)\" style=\"stroke:#000000; stroke-linecap:round; stroke-linejoin:round; stroke-width:2; stroke-opacity:0.1; fill:none\" points=\"232.389,564.356 2352.76,564.356 \"/>\n<polyline clip-path=\"url(#clip122)\" style=\"stroke:#000000; stroke-linecap:round; stroke-linejoin:round; stroke-width:2; stroke-opacity:0.1; fill:none\" points=\"232.389,324.187 2352.76,324.187 \"/>\n<polyline clip-path=\"url(#clip120)\" style=\"stroke:#000000; stroke-linecap:round; stroke-linejoin:round; stroke-width:4; stroke-opacity:1; fill:none\" points=\"232.389,1423.18 232.389,123.472 \"/>\n<polyline clip-path=\"url(#clip120)\" style=\"stroke:#000000; stroke-linecap:round; stroke-linejoin:round; stroke-width:4; stroke-opacity:1; fill:none\" points=\"232.389,1284.86 251.287,1284.86 \"/>\n<polyline clip-path=\"url(#clip120)\" style=\"stroke:#000000; stroke-linecap:round; stroke-linejoin:round; stroke-width:4; stroke-opacity:1; fill:none\" points=\"232.389,1044.69 251.287,1044.69 \"/>\n<polyline clip-path=\"url(#clip120)\" style=\"stroke:#000000; stroke-linecap:round; stroke-linejoin:round; stroke-width:4; stroke-opacity:1; fill:none\" points=\"232.389,804.525 251.287,804.525 \"/>\n<polyline clip-path=\"url(#clip120)\" style=\"stroke:#000000; stroke-linecap:round; stroke-linejoin:round; stroke-width:4; stroke-opacity:1; fill:none\" points=\"232.389,564.356 251.287,564.356 \"/>\n<polyline clip-path=\"url(#clip120)\" style=\"stroke:#000000; stroke-linecap:round; stroke-linejoin:round; stroke-width:4; stroke-opacity:1; fill:none\" points=\"232.389,324.187 251.287,324.187 \"/>\n<path clip-path=\"url(#clip120)\" d=\"M184.445 1270.66 Q180.834 1270.66 179.005 1274.23 Q177.2 1277.77 177.2 1284.9 Q177.2 1292 179.005 1295.57 Q180.834 1299.11 184.445 1299.11 Q188.079 1299.11 189.885 1295.57 Q191.713 1292 191.713 1284.9 Q191.713 1277.77 189.885 1274.23 Q188.079 1270.66 184.445 1270.66 M184.445 1266.96 Q190.255 1266.96 193.311 1271.57 Q196.389 1276.15 196.389 1284.9 Q196.389 1293.63 193.311 1298.23 Q190.255 1302.81 184.445 1302.81 Q178.635 1302.81 175.556 1298.23 Q172.501 1293.63 172.501 1284.9 Q172.501 1276.15 175.556 1271.57 Q178.635 1266.96 184.445 1266.96 Z\" fill=\"#000000\" fill-rule=\"evenodd\" fill-opacity=\"1\" /><path clip-path=\"url(#clip120)\" d=\"M158.45 1043.34 Q161.806 1044.06 163.681 1046.33 Q165.579 1048.59 165.579 1051.93 Q165.579 1057.04 162.061 1059.84 Q158.542 1062.65 152.061 1062.65 Q149.885 1062.65 147.57 1062.21 Q145.279 1061.79 142.825 1060.93 L142.825 1056.42 Q144.769 1057.55 147.084 1058.13 Q149.399 1058.71 151.922 1058.71 Q156.32 1058.71 158.612 1056.97 Q160.927 1055.24 160.927 1051.93 Q160.927 1048.87 158.774 1047.16 Q156.644 1045.42 152.825 1045.42 L148.797 1045.42 L148.797 1041.58 L153.01 1041.58 Q156.459 1041.58 158.288 1040.22 Q160.116 1038.83 160.116 1036.23 Q160.116 1033.57 158.218 1032.16 Q156.343 1030.72 152.825 1030.72 Q150.903 1030.72 148.704 1031.14 Q146.505 1031.56 143.866 1032.44 L143.866 1028.27 Q146.529 1027.53 148.843 1027.16 Q151.181 1026.79 153.241 1026.79 Q158.565 1026.79 161.667 1029.22 Q164.769 1031.63 164.769 1035.75 Q164.769 1038.62 163.126 1040.61 Q161.482 1042.58 158.45 1043.34 Z\" fill=\"#000000\" fill-rule=\"evenodd\" fill-opacity=\"1\" /><path clip-path=\"url(#clip120)\" d=\"M184.445 1030.49 Q180.834 1030.49 179.005 1034.06 Q177.2 1037.6 177.2 1044.73 Q177.2 1051.84 179.005 1055.4 Q180.834 1058.94 184.445 1058.94 Q188.079 1058.94 189.885 1055.4 Q191.713 1051.84 191.713 1044.73 Q191.713 1037.6 189.885 1034.06 Q188.079 1030.49 184.445 1030.49 M184.445 1026.79 Q190.255 1026.79 193.311 1031.4 Q196.389 1035.98 196.389 1044.73 Q196.389 1053.46 193.311 1058.06 Q190.255 1062.65 184.445 1062.65 Q178.635 1062.65 175.556 1058.06 Q172.501 1053.46 172.501 1044.73 Q172.501 1035.98 175.556 1031.4 Q178.635 1026.79 184.445 1026.79 Z\" fill=\"#000000\" fill-rule=\"evenodd\" fill-opacity=\"1\" /><path clip-path=\"url(#clip120)\" d=\"M154.862 802.662 Q151.714 802.662 149.862 804.814 Q148.033 806.967 148.033 810.717 Q148.033 814.444 149.862 816.62 Q151.714 818.773 154.862 818.773 Q158.01 818.773 159.839 816.62 Q161.69 814.444 161.69 810.717 Q161.69 806.967 159.839 804.814 Q158.01 802.662 154.862 802.662 M164.144 788.009 L164.144 792.268 Q162.385 791.435 160.579 790.995 Q158.797 790.555 157.038 790.555 Q152.408 790.555 149.954 793.68 Q147.524 796.805 147.177 803.125 Q148.542 801.111 150.603 800.046 Q152.663 798.958 155.14 798.958 Q160.348 798.958 163.357 802.129 Q166.39 805.277 166.39 810.717 Q166.39 816.041 163.241 819.259 Q160.093 822.476 154.862 822.476 Q148.866 822.476 145.695 817.893 Q142.524 813.287 142.524 804.56 Q142.524 796.365 146.413 791.504 Q150.302 786.62 156.853 786.62 Q158.612 786.62 160.394 786.967 Q162.2 787.315 164.144 788.009 Z\" fill=\"#000000\" fill-rule=\"evenodd\" fill-opacity=\"1\" /><path clip-path=\"url(#clip120)\" d=\"M184.445 790.324 Q180.834 790.324 179.005 793.889 Q177.2 797.43 177.2 804.56 Q177.2 811.666 179.005 815.231 Q180.834 818.773 184.445 818.773 Q188.079 818.773 189.885 815.231 Q191.713 811.666 191.713 804.56 Q191.713 797.43 189.885 793.889 Q188.079 790.324 184.445 790.324 M184.445 786.62 Q190.255 786.62 193.311 791.227 Q196.389 795.81 196.389 804.56 Q196.389 813.287 193.311 817.893 Q190.255 822.476 184.445 822.476 Q178.635 822.476 175.556 817.893 Q172.501 813.287 172.501 804.56 Q172.501 795.81 175.556 791.227 Q178.635 786.62 184.445 786.62 Z\" fill=\"#000000\" fill-rule=\"evenodd\" fill-opacity=\"1\" /><path clip-path=\"url(#clip120)\" d=\"M144.422 580.918 L144.422 576.659 Q146.181 577.492 147.987 577.932 Q149.792 578.372 151.528 578.372 Q156.158 578.372 158.589 575.27 Q161.042 572.145 161.39 565.803 Q160.047 567.793 157.987 568.858 Q155.927 569.923 153.427 569.923 Q148.241 569.923 145.209 566.798 Q142.2 563.65 142.2 558.21 Q142.2 552.886 145.348 549.668 Q148.496 546.451 153.728 546.451 Q159.723 546.451 162.871 551.057 Q166.042 555.641 166.042 564.391 Q166.042 572.562 162.153 577.446 Q158.288 582.307 151.737 582.307 Q149.978 582.307 148.172 581.96 Q146.366 581.613 144.422 580.918 M153.728 566.266 Q156.876 566.266 158.704 564.113 Q160.556 561.96 160.556 558.21 Q160.556 554.483 158.704 552.331 Q156.876 550.155 153.728 550.155 Q150.579 550.155 148.728 552.331 Q146.899 554.483 146.899 558.21 Q146.899 561.96 148.728 564.113 Q150.579 566.266 153.728 566.266 Z\" fill=\"#000000\" fill-rule=\"evenodd\" fill-opacity=\"1\" /><path clip-path=\"url(#clip120)\" d=\"M184.445 550.155 Q180.834 550.155 179.005 553.719 Q177.2 557.261 177.2 564.391 Q177.2 571.497 179.005 575.062 Q180.834 578.604 184.445 578.604 Q188.079 578.604 189.885 575.062 Q191.713 571.497 191.713 564.391 Q191.713 557.261 189.885 553.719 Q188.079 550.155 184.445 550.155 M184.445 546.451 Q190.255 546.451 193.311 551.057 Q196.389 555.641 196.389 564.391 Q196.389 573.117 193.311 577.724 Q190.255 582.307 184.445 582.307 Q178.635 582.307 175.556 577.724 Q172.501 573.117 172.501 564.391 Q172.501 555.641 175.556 551.057 Q178.635 546.451 184.445 546.451 Z\" fill=\"#000000\" fill-rule=\"evenodd\" fill-opacity=\"1\" /><path clip-path=\"url(#clip120)\" d=\"M114.931 337.532 L122.57 337.532 L122.57 311.166 L114.26 312.833 L114.26 308.573 L122.524 306.907 L127.2 306.907 L127.2 337.532 L134.839 337.532 L134.839 341.467 L114.931 341.467 L114.931 337.532 Z\" fill=\"#000000\" fill-rule=\"evenodd\" fill-opacity=\"1\" /><path clip-path=\"url(#clip120)\" d=\"M148.311 337.532 L164.63 337.532 L164.63 341.467 L142.686 341.467 L142.686 337.532 Q145.348 334.777 149.931 330.147 Q154.538 325.495 155.718 324.152 Q157.964 321.629 158.843 319.893 Q159.746 318.133 159.746 316.444 Q159.746 313.689 157.802 311.953 Q155.88 310.217 152.778 310.217 Q150.579 310.217 148.126 310.981 Q145.695 311.745 142.917 313.296 L142.917 308.573 Q145.741 307.439 148.195 306.86 Q150.649 306.282 152.686 306.282 Q158.056 306.282 161.251 308.967 Q164.445 311.652 164.445 316.143 Q164.445 318.272 163.635 320.194 Q162.848 322.092 160.741 324.684 Q160.163 325.356 157.061 328.573 Q153.959 331.768 148.311 337.532 Z\" fill=\"#000000\" fill-rule=\"evenodd\" fill-opacity=\"1\" /><path clip-path=\"url(#clip120)\" d=\"M184.445 309.985 Q180.834 309.985 179.005 313.55 Q177.2 317.092 177.2 324.221 Q177.2 331.328 179.005 334.893 Q180.834 338.434 184.445 338.434 Q188.079 338.434 189.885 334.893 Q191.713 331.328 191.713 324.221 Q191.713 317.092 189.885 313.55 Q188.079 309.985 184.445 309.985 M184.445 306.282 Q190.255 306.282 193.311 310.888 Q196.389 315.471 196.389 324.221 Q196.389 332.948 193.311 337.555 Q190.255 342.138 184.445 342.138 Q178.635 342.138 175.556 337.555 Q172.501 332.948 172.501 324.221 Q172.501 315.471 175.556 310.888 Q178.635 306.282 184.445 306.282 Z\" fill=\"#000000\" fill-rule=\"evenodd\" fill-opacity=\"1\" /><path clip-path=\"url(#clip120)\" d=\"M49.9359 788.254 L28.3562 788.254 L28.3562 782.397 L49.7131 782.397 Q54.7739 782.397 57.3202 780.424 Q59.8346 778.45 59.8346 774.504 Q59.8346 769.761 56.8109 767.024 Q53.7872 764.255 48.5673 764.255 L28.3562 764.255 L28.3562 758.398 L64.0042 758.398 L64.0042 764.255 L58.5296 764.255 Q61.7762 766.387 63.3676 769.22 Q64.9272 772.021 64.9272 775.745 Q64.9272 781.888 61.1078 785.071 Q57.2883 788.254 49.9359 788.254 M27.4968 773.517 L27.4968 773.517 Z\" fill=\"#000000\" fill-rule=\"evenodd\" fill-opacity=\"1\" /><path clip-path=\"url(#clip120)\" d=\"M1029.71 12.096 L1037.89 12.096 L1037.89 72.576 L1029.71 72.576 L1029.71 12.096 Z\" fill=\"#000000\" fill-rule=\"evenodd\" fill-opacity=\"1\" /><path clip-path=\"url(#clip120)\" d=\"M1091.57 45.1919 L1091.57 72.576 L1084.11 72.576 L1084.11 45.4349 Q1084.11 38.994 1081.6 35.7938 Q1079.09 32.5936 1074.07 32.5936 Q1068.03 32.5936 1064.55 36.4419 Q1061.06 40.2903 1061.06 46.9338 L1061.06 72.576 L1053.57 72.576 L1053.57 27.2059 L1061.06 27.2059 L1061.06 34.2544 Q1063.74 30.163 1067.34 28.1376 Q1070.99 26.1121 1075.73 26.1121 Q1083.55 26.1121 1087.56 30.9732 Q1091.57 35.7938 1091.57 45.1919 Z\" fill=\"#000000\" fill-rule=\"evenodd\" fill-opacity=\"1\" /><path clip-path=\"url(#clip120)\" d=\"M1113.64 65.7705 L1113.64 89.8329 L1106.15 89.8329 L1106.15 27.2059 L1113.64 27.2059 L1113.64 34.0924 Q1115.99 30.0415 1119.56 28.0971 Q1123.16 26.1121 1128.15 26.1121 Q1136.41 26.1121 1141.55 32.6746 Q1146.74 39.2371 1146.74 49.9314 Q1146.74 60.6258 1141.55 67.1883 Q1136.41 73.7508 1128.15 73.7508 Q1123.16 73.7508 1119.56 71.8063 Q1115.99 69.8214 1113.64 65.7705 M1139 49.9314 Q1139 41.7081 1135.6 37.0496 Q1132.24 32.3505 1126.32 32.3505 Q1120.41 32.3505 1117.01 37.0496 Q1113.64 41.7081 1113.64 49.9314 Q1113.64 58.1548 1117.01 62.8538 Q1120.41 67.5124 1126.32 67.5124 Q1132.24 67.5124 1135.6 62.8538 Q1139 58.1548 1139 49.9314 Z\" fill=\"#000000\" fill-rule=\"evenodd\" fill-opacity=\"1\" /><path clip-path=\"url(#clip120)\" d=\"M1158.33 54.671 L1158.33 27.2059 L1165.78 27.2059 L1165.78 54.3874 Q1165.78 60.8284 1168.29 64.0691 Q1170.8 67.2693 1175.83 67.2693 Q1181.86 67.2693 1185.35 63.421 Q1188.87 59.5726 1188.87 52.9291 L1188.87 27.2059 L1196.32 27.2059 L1196.32 72.576 L1188.87 72.576 L1188.87 65.6084 Q1186.16 69.7404 1182.55 71.7658 Q1178.99 73.7508 1174.25 73.7508 Q1166.43 73.7508 1162.38 68.8897 Q1158.33 64.0286 1158.33 54.671 M1177.08 26.1121 L1177.08 26.1121 Z\" fill=\"#000000\" fill-rule=\"evenodd\" fill-opacity=\"1\" /><path clip-path=\"url(#clip120)\" d=\"M1219.05 14.324 L1219.05 27.2059 L1234.4 27.2059 L1234.4 32.9987 L1219.05 32.9987 L1219.05 57.6282 Q1219.05 63.1779 1220.55 64.7578 Q1222.09 66.3376 1226.75 66.3376 L1234.4 66.3376 L1234.4 72.576 L1226.75 72.576 Q1218.12 72.576 1214.84 69.3758 Q1211.55 66.1351 1211.55 57.6282 L1211.55 32.9987 L1206.09 32.9987 L1206.09 27.2059 L1211.55 27.2059 L1211.55 14.324 L1219.05 14.324 Z\" fill=\"#000000\" fill-rule=\"evenodd\" fill-opacity=\"1\" /><path clip-path=\"url(#clip120)\" d=\"M1270.9 12.096 L1279.08 12.096 L1279.08 36.8875 L1308.82 36.8875 L1308.82 12.096 L1317 12.096 L1317 72.576 L1308.82 72.576 L1308.82 43.7741 L1279.08 43.7741 L1279.08 72.576 L1270.9 72.576 L1270.9 12.096 Z\" fill=\"#000000\" fill-rule=\"evenodd\" fill-opacity=\"1\" /><path clip-path=\"url(#clip120)\" d=\"M1332.96 27.2059 L1340.41 27.2059 L1340.41 72.576 L1332.96 72.576 L1332.96 27.2059 M1332.96 9.54393 L1340.41 9.54393 L1340.41 18.9825 L1332.96 18.9825 L1332.96 9.54393 Z\" fill=\"#000000\" fill-rule=\"evenodd\" fill-opacity=\"1\" /><path clip-path=\"url(#clip120)\" d=\"M1384.93 28.5427 L1384.93 35.5912 Q1381.77 33.9709 1378.37 33.1607 Q1374.97 32.3505 1371.32 32.3505 Q1365.77 32.3505 1362.98 34.0519 Q1360.22 35.7533 1360.22 39.156 Q1360.22 41.7486 1362.21 43.2475 Q1364.19 44.7058 1370.19 46.0426 L1372.74 46.6097 Q1380.68 48.3111 1384 51.4303 Q1387.36 54.509 1387.36 60.0587 Q1387.36 66.3781 1382.34 70.0644 Q1377.36 73.7508 1368.61 73.7508 Q1364.96 73.7508 1360.99 73.0216 Q1357.06 72.3329 1352.69 70.9151 L1352.69 63.2184 Q1356.82 65.3654 1360.83 66.4591 Q1364.84 67.5124 1368.77 67.5124 Q1374.04 67.5124 1376.87 65.73 Q1379.71 63.9071 1379.71 60.6258 Q1379.71 57.5877 1377.64 55.9673 Q1375.62 54.3469 1368.69 52.8481 L1366.1 52.2405 Q1359.17 50.7821 1356.09 47.7845 Q1353.01 44.7463 1353.01 39.4801 Q1353.01 33.0797 1357.55 29.5959 Q1362.09 26.1121 1370.43 26.1121 Q1374.56 26.1121 1378.21 26.7198 Q1381.85 27.3274 1384.93 28.5427 Z\" fill=\"#000000\" fill-rule=\"evenodd\" fill-opacity=\"1\" /><path clip-path=\"url(#clip120)\" d=\"M1406.61 14.324 L1406.61 27.2059 L1421.96 27.2059 L1421.96 32.9987 L1406.61 32.9987 L1406.61 57.6282 Q1406.61 63.1779 1408.1 64.7578 Q1409.64 66.3376 1414.3 66.3376 L1421.96 66.3376 L1421.96 72.576 L1414.3 72.576 Q1405.67 72.576 1402.39 69.3758 Q1399.11 66.1351 1399.11 57.6282 L1399.11 32.9987 L1393.64 32.9987 L1393.64 27.2059 L1399.11 27.2059 L1399.11 14.324 L1406.61 14.324 Z\" fill=\"#000000\" fill-rule=\"evenodd\" fill-opacity=\"1\" /><path clip-path=\"url(#clip120)\" d=\"M1449.34 32.4315 Q1443.35 32.4315 1439.86 37.1306 Q1436.38 41.7891 1436.38 49.9314 Q1436.38 58.0738 1439.82 62.7728 Q1443.31 67.4314 1449.34 67.4314 Q1455.3 67.4314 1458.78 62.7323 Q1462.27 58.0333 1462.27 49.9314 Q1462.27 41.8701 1458.78 37.1711 Q1455.3 32.4315 1449.34 32.4315 M1449.34 26.1121 Q1459.06 26.1121 1464.61 32.4315 Q1470.16 38.7509 1470.16 49.9314 Q1470.16 61.0714 1464.61 67.4314 Q1459.06 73.7508 1449.34 73.7508 Q1439.58 73.7508 1434.03 67.4314 Q1428.52 61.0714 1428.52 49.9314 Q1428.52 38.7509 1434.03 32.4315 Q1439.58 26.1121 1449.34 26.1121 Z\" fill=\"#000000\" fill-rule=\"evenodd\" fill-opacity=\"1\" /><path clip-path=\"url(#clip120)\" d=\"M1508.81 34.1734 Q1507.55 33.4443 1506.06 33.1202 Q1504.6 32.7556 1502.81 32.7556 Q1496.5 32.7556 1493.09 36.8875 Q1489.73 40.9789 1489.73 48.6757 L1489.73 72.576 L1482.24 72.576 L1482.24 27.2059 L1489.73 27.2059 L1489.73 34.2544 Q1492.08 30.1225 1495.85 28.1376 Q1499.61 26.1121 1505 26.1121 Q1505.77 26.1121 1506.7 26.2337 Q1507.64 26.3147 1508.77 26.5172 L1508.81 34.1734 Z\" fill=\"#000000\" fill-rule=\"evenodd\" fill-opacity=\"1\" /><path clip-path=\"url(#clip120)\" d=\"M1535.51 76.7889 Q1532.35 84.8907 1529.35 87.3618 Q1526.35 89.8329 1521.33 89.8329 L1515.37 89.8329 L1515.37 83.5945 L1519.75 83.5945 Q1522.83 83.5945 1524.53 82.1361 Q1526.23 80.6778 1528.29 75.2496 L1529.63 71.8468 L1511.28 27.2059 L1519.18 27.2059 L1533.36 62.6918 L1547.54 27.2059 L1555.44 27.2059 L1535.51 76.7889 Z\" fill=\"#000000\" fill-rule=\"evenodd\" fill-opacity=\"1\" /><polyline clip-path=\"url(#clip122)\" style=\"stroke:#009af9; stroke-linecap:round; stroke-linejoin:round; stroke-width:4; stroke-opacity:1; fill:none\" points=\"292.4,1222.99 299.09,1194.35 305.78,1248.7 312.47,1243.65 319.16,1223.7 325.85,1223.89 332.54,1224.08 339.231,1198.75 345.921,1199.49 352.611,1224.67 359.301,1221.78 365.991,1225.08 372.681,1225.28 379.371,1225.49 386.061,1225.7 392.752,1240.44 399.442,1223.11 406.132,1239.91 412.822,1226.56 419.512,1226.78 426.202,1227 432.892,1227.22 439.582,1227.44 446.272,1211.08 452.963,1224.97 459.653,1225.21 466.343,1237.61 473.033,1225.69 479.723,1228.79 486.413,1229.02 493.103,1229.24 499.793,1229.47 506.484,1229.69 513.174,1235.86 519.864,1230.15 526.554,1230.37 533.244,1227.84 539.934,1230.82 546.624,1231.05 553.314,1231.27 560.005,1224.35 566.695,1225.11 573.385,1225.88 580.075,1226.64 586.765,1227.4 593.455,1228.15 600.145,1228.9 606.835,1229.65 613.525,1230.4 620.216,1231.14 626.906,1231.88 633.596,1231.31 640.286,1233.34 646.976,1234.07 653.666,1234.79 660.356,1235.51 667.046,1236.22 673.737,1236.93 680.427,1237.64 687.117,1238.34 693.807,1239.04 700.497,1239.73 707.187,1240.42 713.877,1241.1 720.567,1241.78 727.258,1242.45 733.948,1243.12 740.638,1243.78 747.328,1244.44 754.018,1245.09 760.708,1245.74 767.398,1246.39 774.088,1247.02 780.778,1247.66 787.469,1248.28 794.159,1248.91 800.849,1249.52 807.539,1250.14 814.229,1250.74 820.919,1251.34 827.609,1251.94 834.299,1252.53 840.99,1253.11 847.68,1253.69 854.37,1254.27 861.06,1254.84 867.75,1255.4 874.44,1255.96 881.13,1256.51 887.82,1257.05 894.511,1257.6 901.201,1258.13 907.891,1258.66 914.581,1259.18 921.271,1259.7 927.961,1260.22 934.651,1260.72 941.341,1261.22 948.031,1261.72 954.722,1262.21 961.412,1262.7 968.102,1263.18 974.792,1263.65 981.482,1264.12 988.172,1264.58 994.862,1265.04 1001.55,1265.49 1008.24,1265.94 1014.93,1266.38 1021.62,1266.82 1028.31,1267.25 1035,1267.67 1041.69,1268.09 1048.38,1268.51 1055.07,1268.91 1061.76,1269.32 1068.45,1269.72 1075.14,1270.11 1081.83,1270.5 1088.52,1270.88 1095.21,1271.26 1101.9,1271.63 1108.59,1272 1115.28,1272.36 1121.97,1272.72 1128.66,1273.07 1135.35,1273.42 1142.04,1273.76 1148.74,1274.1 1155.43,1274.43 1162.12,1274.76 1168.81,1275.08 1175.5,1275.4 1182.19,1275.71 1188.88,1276.02 1195.57,1276.33 1202.26,1276.63 1208.95,1276.92 1215.64,1277.21 1222.33,1277.5 1229.02,1277.78 1235.71,1278.06 1242.4,1278.33 1249.09,1278.6 1255.78,1278.86 1262.47,1279.12 1269.16,1279.38 1275.85,1279.63 1282.54,1279.88 1289.23,1280.12 1295.92,1280.36 1302.61,1280.59 1309.3,1280.82 1315.99,1281.05 1322.68,1281.28 1329.37,1281.49 1336.06,1281.71 1342.75,1281.92 1349.44,1282.13 1356.13,1282.33 1362.82,1282.54 1369.51,1282.73 1376.2,1282.93 1382.89,1283.12 1389.58,1283.3 1396.27,1283.49 1402.96,1283.67 1409.65,1283.84 1416.34,1284.02 1423.03,1284.19 1429.72,1284.35 1436.41,1284.52 1443.1,1284.68 1449.79,1284.83 1456.48,1284.99 1463.17,1285.14 1469.86,1285.29 1476.55,1285.43 1483.24,1285.58 1489.93,1285.72 1496.62,1285.85 1503.31,1285.99 1510,1286.12 1516.69,1286.25 1523.38,1286.38 1530.07,1286.5 1536.76,1286.62 1543.45,1286.74 1550.14,1286.86 1556.83,1286.97 1563.52,1287.08 1570.21,1287.19 1576.9,1287.3 1583.59,1287.4 1590.28,1287.51 1596.97,1287.61 1603.66,1287.7 1610.35,1287.8 1617.04,1287.9 1623.73,1287.99 1630.42,1288.08 1637.11,1288.17 1643.8,1288.25 1650.49,1288.34 1657.18,1288.42 1663.87,1288.5 1670.56,1288.58 1677.25,1288.66 1683.94,1288.73 1690.63,1288.81 1697.32,1288.88 1704.01,1288.95 1710.71,1289.02 1717.4,1289.09 1724.09,1289.16 1730.78,1289.22 1737.47,1289.29 1744.16,1289.35 1750.85,1289.41 1757.54,1289.47 1764.23,1289.53 1770.92,1289.59 1777.61,1289.64 1784.3,1289.7 1790.99,1289.75 1797.68,1289.8 1804.37,1289.86 1811.06,1289.91 1817.75,1289.96 1824.44,1290.01 1831.13,1290.05 1837.82,1290.1 1844.51,1290.15 1851.2,1290.19 1857.89,1290.24 1864.58,1290.28 1871.27,1290.32 1877.96,1290.37 1884.65,1290.41 1891.34,1290.45 1898.03,1290.49 1904.72,1290.53 1911.41,1290.57 1918.1,1290.61 1924.79,1290.65 1931.48,1290.68 1938.17,1290.72 1944.86,1290.76 1951.55,1290.79 1958.24,1290.83 1964.93,1290.86 1971.62,1290.9 1978.31,1290.93 1985,1290.97 1991.69,1291 1998.38,1291.03 2005.07,1291.07 2011.76,1291.1 2018.45,1291.13 2025.14,1291.16 2031.83,1291.2 2038.52,1291.23 2045.21,1291.26 2051.9,1291.29 2058.59,1291.32 2065.28,1291.35 2071.97,1291.39 2078.66,1291.42 2085.35,1291.45 2092.04,1291.48 2098.73,1291.51 2105.42,1291.54 2112.11,1291.57 2118.8,1291.6 2125.49,1291.63 2132.18,1291.66 2138.87,1291.7 2145.56,1291.73 2152.25,1291.76 2158.94,1291.79 2165.63,1291.82 2172.32,1291.85 2179.01,1291.88 2185.7,1291.91 2192.39,1291.95 2199.08,1291.98 2205.77,1292.01 2212.46,1292.04 2219.15,1292.07 2225.84,1292.11 2232.53,1292.14 2239.22,1292.17 2245.91,1292.2 2252.6,1292.24 2259.29,1292.27 2265.99,1292.3 2272.68,1292.34 2279.37,1292.37 2286.06,1292.4 2292.75,1292.44 \"/>\n<polyline clip-path=\"url(#clip122)\" style=\"stroke:#e26f46; stroke-linecap:round; stroke-linejoin:round; stroke-width:4; stroke-opacity:1; fill:none\" points=\"292.4,1355.36 299.09,1386.4 305.78,1325.1 312.47,1330.94 319.16,1352.8 325.85,1352.17 332.54,1351.54 339.231,1378.3 345.921,1376.97 352.611,1349.65 359.301,1352.08 365.991,1348.4 372.681,1347.78 379.371,1347.16 386.061,1346.54 392.752,1330.89 399.442,1348.55 406.132,1330.83 412.822,1344.1 419.512,1343.5 426.202,1342.89 432.892,1342.3 439.582,1341.7 446.272,1358.04 452.963,1343.96 459.653,1343.4 466.343,1330.4 473.033,1342.28 479.723,1338.18 486.413,1337.6 493.103,1337.03 499.793,1336.46 506.484,1335.89 513.174,1329.86 519.864,1334.76 526.554,1334.2 533.244,1337.36 539.934,1333.09 546.624,1332.54 553.314,1331.99 560.005,1339.01 566.695,1337.98 573.385,1336.96 580.075,1335.95 586.765,1334.95 593.455,1333.96 600.145,1332.98 606.835,1332.01 613.525,1331.05 620.216,1330.1 626.906,1329.16 633.596,1329.6 640.286,1327.31 646.976,1326.4 653.666,1325.51 660.356,1324.62 667.046,1323.74 673.737,1322.88 680.427,1322.02 687.117,1321.17 693.807,1320.34 700.497,1319.51 707.187,1318.7 713.877,1317.89 720.567,1317.09 727.258,1316.31 733.948,1315.53 740.638,1314.77 747.328,1314.01 754.018,1313.27 760.708,1312.53 767.398,1311.8 774.088,1311.09 780.778,1310.38 787.469,1309.68 794.159,1309 800.849,1308.32 807.539,1307.65 814.229,1306.99 820.919,1306.34 827.609,1305.7 834.299,1305.07 840.99,1304.45 847.68,1303.84 854.37,1303.23 861.06,1302.64 867.75,1302.06 874.44,1301.48 881.13,1300.91 887.82,1300.35 894.511,1299.8 901.201,1299.26 907.891,1298.73 914.581,1298.21 921.271,1297.69 927.961,1297.19 934.651,1296.69 941.341,1296.2 948.031,1295.71 954.722,1295.24 961.412,1294.78 968.102,1294.32 974.792,1293.87 981.482,1293.43 988.172,1292.99 994.862,1292.57 1001.55,1292.15 1008.24,1291.74 1014.93,1291.33 1021.62,1290.94 1028.31,1290.55 1035,1290.17 1041.69,1289.79 1048.38,1289.43 1055.07,1289.07 1061.76,1288.71 1068.45,1288.37 1075.14,1288.03 1081.83,1287.7 1088.52,1287.37 1095.21,1287.05 1101.9,1286.74 1108.59,1286.44 1115.28,1286.14 1121.97,1285.84 1128.66,1285.56 1135.35,1285.28 1142.04,1285 1148.74,1284.73 1155.43,1284.47 1162.12,1284.21 1168.81,1283.96 1175.5,1283.72 1182.19,1283.48 1188.88,1283.25 1195.57,1283.02 1202.26,1282.79 1208.95,1282.58 1215.64,1282.37 1222.33,1282.16 1229.02,1281.96 1235.71,1281.76 1242.4,1281.57 1249.09,1281.38 1255.78,1281.2 1262.47,1281.02 1269.16,1280.85 1275.85,1280.69 1282.54,1280.52 1289.23,1280.37 1295.92,1280.21 1302.61,1280.06 1309.3,1279.92 1315.99,1279.78 1322.68,1279.64 1329.37,1279.51 1336.06,1279.38 1342.75,1279.26 1349.44,1279.14 1356.13,1279.02 1362.82,1278.91 1369.51,1278.8 1376.2,1278.7 1382.89,1278.59 1389.58,1278.5 1396.27,1278.4 1402.96,1278.31 1409.65,1278.23 1416.34,1278.14 1423.03,1278.06 1429.72,1277.98 1436.41,1277.91 1443.1,1277.84 1449.79,1277.77 1456.48,1277.71 1463.17,1277.64 1469.86,1277.58 1476.55,1277.53 1483.24,1277.48 1489.93,1277.42 1496.62,1277.38 1503.31,1277.33 1510,1277.29 1516.69,1277.25 1523.38,1277.21 1530.07,1277.17 1536.76,1277.14 1543.45,1277.11 1550.14,1277.08 1556.83,1277.06 1563.52,1277.03 1570.21,1277.01 1576.9,1276.99 1583.59,1276.97 1590.28,1276.96 1596.97,1276.94 1603.66,1276.93 1610.35,1276.92 1617.04,1276.91 1623.73,1276.91 1630.42,1276.9 1637.11,1276.9 1643.8,1276.9 1650.49,1276.9 1657.18,1276.9 1663.87,1276.9 1670.56,1276.91 1677.25,1276.91 1683.94,1276.92 1690.63,1276.93 1697.32,1276.94 1704.01,1276.95 1710.71,1276.96 1717.4,1276.98 1724.09,1276.99 1730.78,1277.01 1737.47,1277.03 1744.16,1277.05 1750.85,1277.06 1757.54,1277.09 1764.23,1277.11 1770.92,1277.13 1777.61,1277.15 1784.3,1277.18 1790.99,1277.2 1797.68,1277.23 1804.37,1277.26 1811.06,1277.28 1817.75,1277.31 1824.44,1277.34 1831.13,1277.37 1837.82,1277.4 1844.51,1277.43 1851.2,1277.47 1857.89,1277.5 1864.58,1277.53 1871.27,1277.56 1877.96,1277.6 1884.65,1277.63 1891.34,1277.67 1898.03,1277.7 1904.72,1277.74 1911.41,1277.78 1918.1,1277.81 1924.79,1277.85 1931.48,1277.89 1938.17,1277.93 1944.86,1277.96 1951.55,1278 1958.24,1278.04 1964.93,1278.08 1971.62,1278.12 1978.31,1278.16 1985,1278.2 1991.69,1278.24 1998.38,1278.28 2005.07,1278.32 2011.76,1278.36 2018.45,1278.4 2025.14,1278.44 2031.83,1278.48 2038.52,1278.52 2045.21,1278.56 2051.9,1278.61 2058.59,1278.65 2065.28,1278.69 2071.97,1278.73 2078.66,1278.77 2085.35,1278.81 2092.04,1278.85 2098.73,1278.89 2105.42,1278.94 2112.11,1278.98 2118.8,1279.02 2125.49,1279.06 2132.18,1279.1 2138.87,1279.14 2145.56,1279.18 2152.25,1279.22 2158.94,1279.26 2165.63,1279.31 2172.32,1279.35 2179.01,1279.39 2185.7,1279.43 2192.39,1279.47 2199.08,1279.51 2205.77,1279.55 2212.46,1279.59 2219.15,1279.63 2225.84,1279.67 2232.53,1279.71 2239.22,1279.75 2245.91,1279.79 2252.6,1279.83 2259.29,1279.87 2265.99,1279.91 2272.68,1279.95 2279.37,1279.98 2286.06,1280.02 2292.75,1280.06 \"/>\n<polyline clip-path=\"url(#clip122)\" style=\"stroke:#3da44d; stroke-linecap:round; stroke-linejoin:round; stroke-width:4; stroke-opacity:1; fill:none\" points=\"292.4,212.744 299.09,589.4 305.78,579.912 312.47,578.307 319.16,239.999 325.85,246.82 332.54,253.641 339.231,575.24 345.921,573.001 352.611,274.082 359.301,160.256 365.991,287.673 372.681,294.453 379.371,301.222 386.061,307.978 392.752,553.698 399.442,211.333 406.132,550.015 412.822,334.845 419.512,341.515 426.202,348.166 432.892,354.794 439.582,361.4 446.272,543.027 452.963,278.279 459.653,286.52 466.343,534.814 473.033,302.9 479.723,400.478 486.413,406.889 493.103,413.269 499.793,419.617 506.484,425.932 513.174,524.445 519.864,438.462 526.554,444.675 533.244,374.798 539.934,456.991 546.624,463.092 553.314,469.156 560.005,516.515 566.695,515.187 573.385,513.885 580.075,512.609 586.765,511.358 593.455,510.133 600.145,508.932 606.835,507.755 613.525,506.604 620.216,505.476 626.906,504.372 633.596,486.428 640.286,502.233 646.976,501.198 653.666,500.186 660.356,499.197 667.046,498.229 673.737,497.284 680.427,496.36 687.117,495.458 693.807,494.577 700.497,493.716 707.187,492.876 713.877,492.057 720.567,491.258 727.258,490.478 733.948,489.718 740.638,488.978 747.328,488.256 754.018,487.553 760.708,486.869 767.398,486.203 774.088,485.556 780.778,484.926 787.469,484.313 794.159,483.718 800.849,483.14 807.539,482.579 814.229,482.034 820.919,481.506 827.609,480.994 834.299,480.497 840.99,480.016 847.68,479.551 854.37,479.101 861.06,478.666 867.75,478.245 874.44,477.839 881.13,477.447 887.82,477.07 894.511,476.706 901.201,476.355 907.891,476.018 914.581,475.694 921.271,475.383 927.961,475.085 934.651,474.799 941.341,474.526 948.031,474.264 954.722,474.015 961.412,473.777 968.102,473.551 974.792,473.335 981.482,473.131 988.172,472.938 994.862,472.756 1001.55,472.584 1008.24,472.422 1014.93,472.27 1021.62,472.128 1028.31,471.996 1035,471.874 1041.69,471.761 1048.38,471.657 1055.07,471.562 1061.76,471.476 1068.45,471.398 1075.14,471.329 1081.83,471.269 1088.52,471.216 1095.21,471.172 1101.9,471.135 1108.59,471.106 1115.28,471.084 1121.97,471.07 1128.66,471.063 1135.35,471.063 1142.04,471.07 1148.74,471.083 1155.43,471.104 1162.12,471.13 1168.81,471.163 1175.5,471.202 1182.19,471.247 1188.88,471.298 1195.57,471.354 1202.26,471.417 1208.95,471.484 1215.64,471.557 1222.33,471.635 1229.02,471.719 1235.71,471.807 1242.4,471.9 1249.09,471.997 1255.78,472.1 1262.47,472.206 1269.16,472.317 1275.85,472.433 1282.54,472.552 1289.23,472.676 1295.92,472.803 1302.61,472.934 1309.3,473.069 1315.99,473.207 1322.68,473.349 1329.37,473.494 1336.06,473.643 1342.75,473.795 1349.44,473.949 1356.13,474.107 1362.82,474.268 1369.51,474.432 1376.2,474.598 1382.89,474.767 1389.58,474.938 1396.27,475.112 1402.96,475.288 1409.65,475.467 1416.34,475.648 1423.03,475.831 1429.72,476.016 1436.41,476.203 1443.1,476.392 1449.79,476.583 1456.48,476.776 1463.17,476.97 1469.86,477.166 1476.55,477.364 1483.24,477.563 1489.93,477.764 1496.62,477.966 1503.31,478.169 1510,478.374 1516.69,478.58 1523.38,478.787 1530.07,478.995 1536.76,479.204 1543.45,479.415 1550.14,479.626 1556.83,479.838 1563.52,480.051 1570.21,480.265 1576.9,480.48 1583.59,480.695 1590.28,480.911 1596.97,481.128 1603.66,481.345 1610.35,481.563 1617.04,481.781 1623.73,482 1630.42,482.22 1637.11,482.439 1643.8,482.659 1650.49,482.88 1657.18,483.101 1663.87,483.322 1670.56,483.543 1677.25,483.765 1683.94,483.987 1690.63,484.209 1697.32,484.431 1704.01,484.654 1710.71,484.876 1717.4,485.099 1724.09,485.321 1730.78,485.544 1737.47,485.767 1744.16,485.989 1750.85,486.212 1757.54,486.435 1764.23,486.657 1770.92,486.88 1777.61,487.102 1784.3,487.325 1790.99,487.547 1797.68,487.769 1804.37,487.991 1811.06,488.213 1817.75,488.435 1824.44,488.657 1831.13,488.878 1837.82,489.099 1844.51,489.32 1851.2,489.541 1857.89,489.762 1864.58,489.982 1871.27,490.203 1877.96,490.423 1884.65,490.643 1891.34,490.862 1898.03,491.082 1904.72,491.301 1911.41,491.52 1918.1,491.739 1924.79,491.957 1931.48,492.175 1938.17,492.394 1944.86,492.611 1951.55,492.829 1958.24,493.046 1964.93,493.264 1971.62,493.481 1978.31,493.697 1985,493.914 1991.69,494.13 1998.38,494.346 2005.07,494.562 2011.76,494.778 2018.45,494.993 2025.14,495.209 2031.83,495.424 2038.52,495.639 2045.21,495.854 2051.9,496.068 2058.59,496.283 2065.28,496.497 2071.97,496.711 2078.66,496.925 2085.35,497.139 2092.04,497.353 2098.73,497.567 2105.42,497.78 2112.11,497.994 2118.8,498.207 2125.49,498.42 2132.18,498.633 2138.87,498.847 2145.56,499.06 2152.25,499.273 2158.94,499.486 2165.63,499.699 2172.32,499.911 2179.01,500.124 2185.7,500.337 2192.39,500.55 2199.08,500.763 2205.77,500.976 2212.46,501.189 2219.15,501.402 2225.84,501.614 2232.53,501.827 2239.22,502.04 2245.91,502.254 2252.6,502.467 2259.29,502.68 2265.99,502.893 2272.68,503.107 2279.37,503.32 2286.06,503.534 2292.75,503.747 \"/>\n<path clip-path=\"url(#clip120)\" d=\"M2027.42 374.156 L2282.08 374.156 L2282.08 166.796 L2027.42 166.796  Z\" fill=\"#ffffff\" fill-rule=\"evenodd\" fill-opacity=\"1\"/>\n<polyline clip-path=\"url(#clip120)\" style=\"stroke:#000000; stroke-linecap:round; stroke-linejoin:round; stroke-width:4; stroke-opacity:1; fill:none\" points=\"2027.42,374.156 2282.08,374.156 2282.08,166.796 2027.42,166.796 2027.42,374.156 \"/>\n<polyline clip-path=\"url(#clip120)\" style=\"stroke:#009af9; stroke-linecap:round; stroke-linejoin:round; stroke-width:4; stroke-opacity:1; fill:none\" points=\"2050.98,218.636 2192.34,218.636 \"/>\n<path clip-path=\"url(#clip120)\" d=\"M2215.9 225.684 L2215.9 209.99 L2220.16 209.99 L2220.16 225.522 Q2220.16 229.203 2221.6 231.055 Q2223.03 232.883 2225.9 232.883 Q2229.35 232.883 2231.34 230.684 Q2233.36 228.485 2233.36 224.689 L2233.36 209.99 L2237.61 209.99 L2237.61 235.916 L2233.36 235.916 L2233.36 231.934 Q2231.8 234.295 2229.74 235.453 Q2227.71 236.587 2225 236.587 Q2220.53 236.587 2218.22 233.809 Q2215.9 231.031 2215.9 225.684 M2226.62 209.365 L2226.62 209.365 Z\" fill=\"#000000\" fill-rule=\"evenodd\" fill-opacity=\"1\" /><path clip-path=\"url(#clip120)\" d=\"M2245.53 233.369 L2250.25 233.369 L2250.25 219.226 L2245.09 220.175 L2245.09 217.49 L2250.42 216.587 L2253.59 216.587 L2253.59 233.369 L2258.33 233.369 L2258.33 235.916 L2245.53 235.916 L2245.53 233.369 Z\" fill=\"#000000\" fill-rule=\"evenodd\" fill-opacity=\"1\" /><polyline clip-path=\"url(#clip120)\" style=\"stroke:#e26f46; stroke-linecap:round; stroke-linejoin:round; stroke-width:4; stroke-opacity:1; fill:none\" points=\"2050.98,270.476 2192.34,270.476 \"/>\n<path clip-path=\"url(#clip120)\" d=\"M2215.9 277.524 L2215.9 261.83 L2220.16 261.83 L2220.16 277.362 Q2220.16 281.043 2221.6 282.895 Q2223.03 284.723 2225.9 284.723 Q2229.35 284.723 2231.34 282.524 Q2233.36 280.325 2233.36 276.529 L2233.36 261.83 L2237.61 261.83 L2237.61 287.756 L2233.36 287.756 L2233.36 283.774 Q2231.8 286.135 2229.74 287.293 Q2227.71 288.427 2225 288.427 Q2220.53 288.427 2218.22 285.649 Q2215.9 282.871 2215.9 277.524 M2226.62 261.205 L2226.62 261.205 Z\" fill=\"#000000\" fill-rule=\"evenodd\" fill-opacity=\"1\" /><path clip-path=\"url(#clip120)\" d=\"M2248.12 285.117 L2257.94 285.117 L2257.94 287.756 L2244.1 287.756 L2244.1 285.209 Q2244.88 284.492 2246.34 283.196 Q2254.3 276.135 2254.3 273.959 Q2254.3 272.432 2253.1 271.506 Q2251.9 270.557 2249.93 270.557 Q2248.73 270.557 2247.31 270.973 Q2245.9 271.367 2244.24 272.177 L2244.24 269.33 Q2246.02 268.682 2247.55 268.358 Q2249.1 268.034 2250.42 268.034 Q2253.77 268.034 2255.79 269.561 Q2257.8 271.089 2257.8 273.589 Q2257.8 276.807 2250.14 283.381 Q2248.84 284.492 2248.12 285.117 Z\" fill=\"#000000\" fill-rule=\"evenodd\" fill-opacity=\"1\" /><polyline clip-path=\"url(#clip120)\" style=\"stroke:#3da44d; stroke-linecap:round; stroke-linejoin:round; stroke-width:4; stroke-opacity:1; fill:none\" points=\"2050.98,322.316 2192.34,322.316 \"/>\n<path clip-path=\"url(#clip120)\" d=\"M2215.9 329.364 L2215.9 313.67 L2220.16 313.67 L2220.16 329.202 Q2220.16 332.883 2221.6 334.735 Q2223.03 336.563 2225.9 336.563 Q2229.35 336.563 2231.34 334.364 Q2233.36 332.165 2233.36 328.369 L2233.36 313.67 L2237.61 313.67 L2237.61 339.596 L2233.36 339.596 L2233.36 335.614 Q2231.8 337.975 2229.74 339.133 Q2227.71 340.267 2225 340.267 Q2220.53 340.267 2218.22 337.489 Q2215.9 334.711 2215.9 329.364 M2226.62 313.045 L2226.62 313.045 Z\" fill=\"#000000\" fill-rule=\"evenodd\" fill-opacity=\"1\" /><path clip-path=\"url(#clip120)\" d=\"M2254.05 329.133 Q2256.18 329.549 2257.34 330.823 Q2258.52 332.073 2258.52 333.971 Q2258.52 336.841 2256.32 338.392 Q2254.12 339.943 2250.02 339.943 Q2248.7 339.943 2247.24 339.688 Q2245.81 339.457 2244.19 338.994 L2244.19 336.193 Q2245.39 336.818 2246.76 337.119 Q2248.15 337.42 2249.7 337.42 Q2252.22 337.42 2253.61 336.517 Q2255 335.591 2255 333.971 Q2255 332.258 2253.7 331.378 Q2252.43 330.499 2249.93 330.499 L2247.94 330.499 L2247.94 327.999 L2250.11 327.999 Q2252.29 327.999 2253.4 327.281 Q2254.54 326.54 2254.54 325.151 Q2254.54 323.809 2253.38 323.114 Q2252.22 322.397 2250.02 322.397 Q2249.1 322.397 2247.92 322.605 Q2246.74 322.813 2244.86 323.346 L2244.86 320.684 Q2246.55 320.29 2248.03 320.082 Q2249.51 319.874 2250.79 319.874 Q2254.12 319.874 2256.06 321.239 Q2258.03 322.605 2258.03 324.897 Q2258.03 326.494 2256.99 327.605 Q2255.95 328.716 2254.05 329.133 Z\" fill=\"#000000\" fill-rule=\"evenodd\" fill-opacity=\"1\" /></svg>\n"
     },
     "metadata": {},
     "output_type": "display_data"
    }
   ],
   "source": [
    "Xtest = [deepcopy(x0) for i = 1:N]\n",
    "for k = 1:N-1\n",
    "  Xtest[k+1] = discrete_dynamics(params, Xtest[k], Un[k], k)\n",
    "end\n",
    "Xsim_m = mat_from_vec(Xtest)\n",
    "Usim_m = mat_from_vec(Un)\n",
    "display(plot(t_vec,Xsim_m',label = [\"x₁\" \"x₂\" \"x₃\" \"ẋ₁\" \"ẋ₂\" \"ẋ₃\"],linestyle=[:solid :solid :solid :dash :dash :dash],\n",
    "             title = \"State History\",\n",
    "             xlabel = \"time (s)\", ylabel = \"x\"))\n",
    "display(plot(t_vec[1:end-1],Usim_m',label = [\"u₁\" \"u₂\" \"u₃\"],\n",
    "             title = \"Input History\",\n",
    "             xlabel = \"time (s)\", ylabel = \"u\"))"
   ]
  },
  {
   "cell_type": "code",
   "execution_count": 18,
   "id": "68975019",
   "metadata": {},
   "outputs": [
    {
     "ename": "LoadError",
     "evalue": "MethodError: no method matching mpc(::NamedTuple{(:nx, :nu, :ncx, :ncu, :ncg, :ncu_cone, :μ, :μx, :λ, :λc, :A_cone, :c_cone, :N, :Q, :R, :Qf, :u_min, :u_max, :x_min, :x_max, :Xref, :Uref, :dt, :mc, :mp, :l, :g), Tuple{Int64, Int64, Int64, Int64, Int64, Int64, Vector{Vector{Float64}}, Vector{Vector{Float64}}, Vector{Float64}, Vector{Vector{Float64}}, Matrix{Int64}, Vector{Float64}, Int64, Diagonal{Float64, Vector{Float64}}, Diagonal{Float64, Vector{Float64}}, Diagonal{Int64, Vector{Int64}}, Vector{Float64}, Vector{Float64}, Vector{Float64}, Vector{Float64}, Vector{Vector{Float64}}, Vector{Vector{Float64}}, Float64, Float64, Float64, Float64, Float64}}, ::Vector{Vector{Float64}}, ::Vector{Vector{Float64}}, ::Vector{Matrix{Float64}}, ::Vector{Vector{Float64}}, ::Vector{Matrix{Float64}}, ::Vector{Vector{Float64}}, ::Vector{Vector{Float64}}, ::Vector{Vector{Float64}}; atol=0.0001, max_iters=20, verbose=true, ρ=100.0, ρmax=1.0e8, ϕ=10.0)\n\u001b[0mClosest candidates are:\n\u001b[0m  mpc(::Any, ::Any, ::Any, ::Any, ::Any, ::Any, ::Any, ::Any, ::Any; atol, max_iters, verbose, ρ, ρ_max, ϕ) at In[14]:182\u001b[91m got unsupported keyword argument \"ρmax\"\u001b[39m",
     "output_type": "error",
     "traceback": [
      "MethodError: no method matching mpc(::NamedTuple{(:nx, :nu, :ncx, :ncu, :ncg, :ncu_cone, :μ, :μx, :λ, :λc, :A_cone, :c_cone, :N, :Q, :R, :Qf, :u_min, :u_max, :x_min, :x_max, :Xref, :Uref, :dt, :mc, :mp, :l, :g), Tuple{Int64, Int64, Int64, Int64, Int64, Int64, Vector{Vector{Float64}}, Vector{Vector{Float64}}, Vector{Float64}, Vector{Vector{Float64}}, Matrix{Int64}, Vector{Float64}, Int64, Diagonal{Float64, Vector{Float64}}, Diagonal{Float64, Vector{Float64}}, Diagonal{Int64, Vector{Int64}}, Vector{Float64}, Vector{Float64}, Vector{Float64}, Vector{Float64}, Vector{Vector{Float64}}, Vector{Vector{Float64}}, Float64, Float64, Float64, Float64, Float64}}, ::Vector{Vector{Float64}}, ::Vector{Vector{Float64}}, ::Vector{Matrix{Float64}}, ::Vector{Vector{Float64}}, ::Vector{Matrix{Float64}}, ::Vector{Vector{Float64}}, ::Vector{Vector{Float64}}, ::Vector{Vector{Float64}}; atol=0.0001, max_iters=20, verbose=true, ρ=100.0, ρmax=1.0e8, ϕ=10.0)\n\u001b[0mClosest candidates are:\n\u001b[0m  mpc(::Any, ::Any, ::Any, ::Any, ::Any, ::Any, ::Any, ::Any, ::Any; atol, max_iters, verbose, ρ, ρ_max, ϕ) at In[14]:182\u001b[91m got unsupported keyword argument \"ρmax\"\u001b[39m",
      "",
      "Stacktrace:",
      " [1] kwerr(::NamedTuple{(:atol, :max_iters, :verbose, :ρ, :ρmax, :ϕ), Tuple{Float64, Int64, Bool, Float64, Float64, Float64}}, ::Function, ::NamedTuple{(:nx, :nu, :ncx, :ncu, :ncg, :ncu_cone, :μ, :μx, :λ, :λc, :A_cone, :c_cone, :N, :Q, :R, :Qf, :u_min, :u_max, :x_min, :x_max, :Xref, :Uref, :dt, :mc, :mp, :l, :g), Tuple{Int64, Int64, Int64, Int64, Int64, Int64, Vector{Vector{Float64}}, Vector{Vector{Float64}}, Vector{Float64}, Vector{Vector{Float64}}, Matrix{Int64}, Vector{Float64}, Int64, Diagonal{Float64, Vector{Float64}}, Diagonal{Float64, Vector{Float64}}, Diagonal{Int64, Vector{Int64}}, Vector{Float64}, Vector{Float64}, Vector{Float64}, Vector{Float64}, Vector{Vector{Float64}}, Vector{Vector{Float64}}, Float64, Float64, Float64, Float64, Float64}}, ::Vector{Vector{Float64}}, ::Vector{Vector{Float64}}, ::Vector{Matrix{Float64}}, ::Vector{Vector{Float64}}, ::Vector{Matrix{Float64}}, ::Vector{Vector{Float64}}, ::Vector{Vector{Float64}}, ::Vector{Vector{Float64}})",
      "   @ Base ./error.jl:157",
      " [2] top-level scope",
      "   @ In[18]:97",
      " [3] eval",
      "   @ ./boot.jl:360 [inlined]",
      " [4] include_string(mapexpr::typeof(REPL.softscope), mod::Module, code::String, filename::String)",
      "   @ Base ./loading.jl:1116"
     ]
    }
   ],
   "source": [
    "# ---------------------DOUBLE INTEGRATOR--------\n",
    "function discrete_dynamics(p::NamedTuple,x,u,k)\n",
    "    # RK4\n",
    "    A = [1.0  0.0  0.1  0.0;\n",
    "         0.0  1.0  0.0  0.1;\n",
    "         0.0  0.0  1.0  0.0;\n",
    "         0.0  0.0  0.0  1.0]\n",
    "    B = [0.005  0.0;\n",
    "         0.0    0.005;\n",
    "         0.1    0.0;\n",
    "         0.0    0.1]\n",
    "    return A*x + B*u\n",
    "end\n",
    "function ineq_con_x(p,x)\n",
    "    [x-p.x_max;-x + p.x_min]\n",
    "end\n",
    "function ineq_con_u(p,u)\n",
    "    [u-p.u_max;-u + p.u_min]\n",
    "end\n",
    "function ineq_con_u_jac(params,u)\n",
    "    ForwardDiff.jacobian(_u -> ineq_con_u(params,_u), u)\n",
    "end\n",
    "function ineq_con_x_jac(p,x)\n",
    "    ForwardDiff.jacobian(_x -> ineq_con_x(p,_x),x)\n",
    "end\n",
    "\n",
    "# here is the script\n",
    "nx = 4\n",
    "nu = 2\n",
    "N = 30\n",
    "dt = 0.1\n",
    "t_vec = dt*(0:N-1)\n",
    "x0 = [0,0,0,0.]\n",
    "xg = [1,1.,0,0]\n",
    "Xref = [deepcopy(xg) for i = 1:N]\n",
    "Uref = [zeros(nu) for i = 1:N-1]\n",
    "Q = 1e-2*I(nx)\n",
    "R = 1e-1*I(nu)\n",
    "Qf = 1*I(nx)\n",
    "\n",
    "u_min = -2*ones(nu)\n",
    "u_max =  2*ones(nu)\n",
    "\n",
    "# state is x y v θ\n",
    "x_min = -2*ones(nx)\n",
    "x_max =  2*ones(nx)\n",
    "\n",
    "ncx = 2*nx*0\n",
    "ncu = 2*nu*0\n",
    "ncg = 1\n",
    "ncu_cone = 0\n",
    "\n",
    "μ = [zeros(ncu) for i = 1:N-1]   # input constraints\n",
    "μx = [zeros(ncx) for i = 1:N]    # state constraints\n",
    "λ = zeros(nx)    # goal constraint\n",
    "λc = [zeros(ncu_cone) for i = 1:N-1]   # goal constraint\n",
    "\n",
    "params = (\n",
    "    nx = nx,\n",
    "    nu = nu,\n",
    "    ncx = ncx,\n",
    "    ncu = ncu,\n",
    "    ncg = ncg,\n",
    "    ncu_cone = ncu_cone,\n",
    "    μ = μ, μx = μx, λ = λ, λc = λc,\n",
    "    A_cone = A_cone,\n",
    "    c_cone = c_cone,\n",
    "    N = N,\n",
    "    Q = Q,\n",
    "    R = R,\n",
    "    Qf = Qf,\n",
    "    u_min = u_min,\n",
    "    u_max = u_max,\n",
    "    x_min = x_min,\n",
    "    x_max = x_max,\n",
    "    Xref = Xref,\n",
    "    Uref = Uref,\n",
    "    dt = dt,\n",
    "    mc = 1.0,\n",
    "    mp = 0.2,\n",
    "    l = 0.5,\n",
    "    g = 9.81,\n",
    ");\n",
    "\n",
    "# previous iterate\n",
    "X = [deepcopy(x0) for i = 1:N]\n",
    "U = [.01*randn(nu) for i = 1:N-1]\n",
    "\n",
    "# new iterate\n",
    "Xn = deepcopy(X)\n",
    "Un = deepcopy(U)\n",
    "\n",
    "P = [zeros(nx,nx) for i = 1:N]   # cost to go quadratic term\n",
    "p = [zeros(nx) for i = 1:N]      # cost to go linear term\n",
    "d = [zeros(nu) for i = 1:N-1]    # feedforward control\n",
    "K = [zeros(nu,nx) for i = 1:N-1] # feedback gain\n",
    "u_ = mpc(params,X,U,P,p,K,d,Xn,Un; atol=1e-4, max_iters = 20, verbose = true, ρ = 1e2, ρmax = 1e8, ϕ = 10.0);\n",
    "\n",
    "Xsim_m = mat_from_vec(Xn)\n",
    "Usim_m = mat_from_vec(Un)\n",
    "using Plots\n",
    "display(plot(t_vec,Xsim_m',label = [\"x₁\" \"x₂\" \"ẋ₁\" \"ẋ₂\" ],linestyle=[:solid :solid :dash :dash],\n",
    "             title = \"State History\",\n",
    "             xlabel = \"time (s)\", ylabel = \"x\"))\n",
    "display(plot(t_vec[1:end-1],Usim_m',label = [\"u₁\" \"u₂\"],\n",
    "             title = \"Input History\",\n",
    "             xlabel = \"time (s)\", ylabel = \"u\"))"
   ]
  },
  {
   "cell_type": "code",
   "execution_count": null,
   "id": "105489dc",
   "metadata": {},
   "outputs": [],
   "source": [
    "Un"
   ]
  },
  {
   "cell_type": "code",
   "execution_count": null,
   "id": "dc3a372d",
   "metadata": {},
   "outputs": [
    {
     "data": {
      "text/plain": [
       "trajopt_JuMP1 (generic function with 1 method)"
      ]
     },
     "execution_count": 97,
     "metadata": {},
     "output_type": "execute_result"
    }
   ],
   "source": [
    "# Enable warm-starting\n",
    "function trajopt_JuMP1(optimizer, params, X, U, A, B, f; warm_start=true)\n",
    "  Nh = params.N\n",
    "  nx = params.nx\n",
    "  nu = params.nu\n",
    "  α_max = params.c_cone[3]\n",
    "  NN = Nh*nx + (Nh-1)*nu\n",
    "  x0 .= X[1]\n",
    "  \n",
    "  inds = reshape(1:(nx+nu)*Nh,nx+nu,Nh)  \n",
    "  xinds = [z[1:nx] for z in eachcol(inds)]\n",
    "  uinds = [z[nx+1:end] for z in eachcol(inds)][1:Nh-1]    \n",
    "  \n",
    "  model = Model(optimizer)\n",
    "  \n",
    "  @variable(model, z[1:NN])  # z is all decision variables (X U)\n",
    "  if warm_start\n",
    "      z_ws = zeros(NN,1)\n",
    "      for j = 1:Nh-1\n",
    "          z_ws[xinds[j]] .= X[j]\n",
    "          z_ws[uinds[j]] .= U[j]\n",
    "      end\n",
    "      z_ws[xinds[Nh]] .= X[Nh]\n",
    "      set_start_value.(z, z_ws)\n",
    "  end\n",
    "  \n",
    "  P = zeros(NN, NN)\n",
    "  q = zeros(NN, 1) \n",
    "  # Cost function   \n",
    "  for j = 1:Nh-1\n",
    "      P[(j-1)*(nx+nu).+(1:nx),(j-1)*(nx+nu).+(1:nx)], q[(j-1)*(nx+nu).+(1:nx)], \n",
    "      P[(j-1)*(nx+nu)+nx.+(1:nu),(j-1)*(nx+nu)+nx.+(1:nu)], q[(j-1)*(nx+nu)+nx.+(1:nu)] = stage_cost_expansion(params, j)\n",
    "  end    \n",
    "  P[end-nx+1:end,end-nx+1:end], q[end-nx+1:end] = term_cost_expansion(params)\n",
    "  @objective(model, Min, 0.5*dot(z,P,z) + dot(q,z))\n",
    "\n",
    "  # Dynamics Constraints\n",
    "  for k = 1:Nh-1\n",
    "      @constraint(model, A*z[xinds[k]] .+ B*z[uinds[k]] .+ f .== z[xinds[k+1]])\n",
    "  end\n",
    "  \n",
    "  # Initial condition \n",
    "  @constraint(model, z[xinds[1]] .== x0)\n",
    "  \n",
    "#   Thrust angle constraint\n",
    "  if params.ncu_cone > 0 \n",
    "    for k = 1:Nh-1\n",
    "        u1,u2,u3 = z[uinds[k]]\n",
    "        @constraint(model, [α_max * u3, u1, u2] in JuMP.SecondOrderCone())\n",
    "    end\n",
    "  end\n",
    "  \n",
    "  # State Constraints\n",
    "  if params.ncx > 0 \n",
    "    for k = 1:Nh\n",
    "      @constraint(model, z[xinds[k]] .<= params.x_max)\n",
    "      @constraint(model, z[xinds[k]] .>= params.x_min)\n",
    "    end  \n",
    "  end\n",
    "\n",
    "  # Input Constraints\n",
    "  if params.ncu > 0 \n",
    "    for k = 1:Nh-1\n",
    "      @constraint(model, z[uinds[k]] .<= params.u_max)\n",
    "      @constraint(model, z[uinds[k]] .>= params.u_min)\n",
    "    end  \n",
    "  end\n",
    "\n",
    "  # Goal constraint\n",
    "  if params.ncg > 0 \n",
    "      @constraint(model, z[xinds[N]] .== zeros(nx))\n",
    "  end    \n",
    "\n",
    "  optimize!(model)   \n",
    "  termination_status(model) == INFEASIBLE && print(\"Other solver says INFEASIBLE\\n\")\n",
    "  for j = 1:Nh-1\n",
    "      X[j] .= value.(z[xinds[j]]) \n",
    "      U[j] .= value.(z[uinds[j]]) \n",
    "  end    \n",
    "  X[Nh] .= value.(z[xinds[Nh]])\n",
    "  # display(MOI.get(model, MOI.SolveTimeSec()))\n",
    "  return X\n",
    "end"
   ]
  },
  {
   "cell_type": "code",
   "execution_count": null,
   "id": "cf498bfb",
   "metadata": {},
   "outputs": [
    {
     "name": "stdout",
     "output_type": "stream",
     "text": [
      "(params.λ)' * X[N] = 0.0\n"
     ]
    }
   ],
   "source": [
    "@show params.λ'*X[N]\n",
    "X[N]\n",
    "# params.μx\n",
    "convio = 0.0\n",
    "if params.ncx > 0\n",
    "  for k = 1:N\n",
    "    hxv = ineq_con_x(params,X[k])\n",
    "    mask = eval_mask(μx[k],hxv)\n",
    "    # update dual\n",
    "    convio = max(convio,norm(hxv + abs.(hxv),Inf)) \n",
    "    @show params.μx[k]'*hxv         \n",
    "  end\n",
    "end"
   ]
  },
  {
   "cell_type": "markdown",
   "id": "416df651-52ee-4c43-93e5-aca23c5630b2",
   "metadata": {},
   "source": [
    "For TrajOpt, it needs more tricks to get better results:\n",
    "- Hessian of the projection => better approximation (done)\n",
    "- Scaling between conic constraints and other ones (1/rho, Zac did not buy it)\n",
    "- Solution polishing?\n",
    "\n",
    "Maybe, we don't care about TrajOpt problem, except from a good initial guess, there is nothing we can tune to get better performance. How about reset mpc?"
   ]
  },
  {
   "cell_type": "code",
   "execution_count": 24,
   "id": "12ec6530-7479-455f-843a-81d2c40fb13a",
   "metadata": {},
   "outputs": [
    {
     "data": {
      "text/plain": [
       "5.915899302599293"
      ]
     },
     "metadata": {},
     "output_type": "display_data"
    },
    {
     "data": {
      "text/plain": [
       "5.734887488641773"
      ]
     },
     "metadata": {},
     "output_type": "display_data"
    },
    {
     "data": {
      "text/plain": [
       "5.554590075562151"
      ]
     },
     "metadata": {},
     "output_type": "display_data"
    },
    {
     "data": {
      "text/plain": [
       "5.375033784363824"
      ]
     },
     "metadata": {},
     "output_type": "display_data"
    },
    {
     "data": {
      "text/plain": [
       "5.196244613326927"
      ]
     },
     "metadata": {},
     "output_type": "display_data"
    },
    {
     "data": {
      "text/plain": [
       "5.018247846138355"
      ]
     },
     "metadata": {},
     "output_type": "display_data"
    },
    {
     "data": {
      "text/plain": [
       "4.841068060104634"
      ]
     },
     "metadata": {},
     "output_type": "display_data"
    },
    {
     "data": {
      "text/plain": [
       "4.664729134440313"
      ]
     },
     "metadata": {},
     "output_type": "display_data"
    },
    {
     "data": {
      "text/plain": [
       "4.489254258624676"
      ]
     },
     "metadata": {},
     "output_type": "display_data"
    },
    {
     "data": {
      "text/plain": [
       "4.314665940820227"
      ]
     },
     "metadata": {},
     "output_type": "display_data"
    },
    {
     "data": {
      "text/plain": [
       "4.1409860163463925"
      ]
     },
     "metadata": {},
     "output_type": "display_data"
    },
    {
     "data": {
      "text/plain": [
       "3.9682356562025536"
      ]
     },
     "metadata": {},
     "output_type": "display_data"
    },
    {
     "data": {
      "text/plain": [
       "3.7964353756344646"
      ]
     },
     "metadata": {},
     "output_type": "display_data"
    },
    {
     "data": {
      "text/plain": [
       "3.6256050427388153"
      ]
     },
     "metadata": {},
     "output_type": "display_data"
    },
    {
     "data": {
      "text/plain": [
       "3.4557638871005185"
      ]
     },
     "metadata": {},
     "output_type": "display_data"
    },
    {
     "data": {
      "text/plain": [
       "3.2869305084580045"
      ]
     },
     "metadata": {},
     "output_type": "display_data"
    },
    {
     "data": {
      "text/plain": [
       "3.1191228853917092"
      ]
     },
     "metadata": {},
     "output_type": "display_data"
    },
    {
     "data": {
      "text/plain": [
       "2.9523583840314256"
      ]
     },
     "metadata": {},
     "output_type": "display_data"
    },
    {
     "data": {
      "text/plain": [
       "2.7866537667783327"
      ]
     },
     "metadata": {},
     "output_type": "display_data"
    },
    {
     "data": {
      "text/plain": [
       "2.6220252010377063"
      ]
     },
     "metadata": {},
     "output_type": "display_data"
    },
    {
     "data": {
      "text/plain": [
       "2.458488267958602"
      ]
     },
     "metadata": {},
     "output_type": "display_data"
    },
    {
     "data": {
      "text/plain": [
       "2.2960579711770173"
      ]
     },
     "metadata": {},
     "output_type": "display_data"
    },
    {
     "data": {
      "text/plain": [
       "2.1347487455591807"
      ]
     },
     "metadata": {},
     "output_type": "display_data"
    },
    {
     "data": {
      "text/plain": [
       "1.9745744659418563"
      ]
     },
     "metadata": {},
     "output_type": "display_data"
    },
    {
     "data": {
      "text/plain": [
       "1.8155484558667432"
      ]
     },
     "metadata": {},
     "output_type": "display_data"
    },
    {
     "data": {
      "text/plain": [
       "1.6576834963062446"
      ]
     },
     "metadata": {},
     "output_type": "display_data"
    },
    {
     "data": {
      "text/plain": [
       "1.5009918343780217"
      ]
     },
     "metadata": {},
     "output_type": "display_data"
    },
    {
     "data": {
      "text/plain": [
       "1.345485192045997"
      ]
     },
     "metadata": {},
     "output_type": "display_data"
    },
    {
     "data": {
      "text/plain": [
       "1.191174774805523"
      ]
     },
     "metadata": {},
     "output_type": "display_data"
    },
    {
     "data": {
      "text/plain": [
       "1.0380712803507546"
      ]
     },
     "metadata": {},
     "output_type": "display_data"
    }
   ],
   "source": [
    "# Check conic violation\n",
    "convio = 0.0\n",
    "for k = 1:30\n",
    "    Uc = cone_u(params, Un[k])\n",
    "    huc = norm(Uc[1:2]) - Uc[3]\n",
    "    convio = norm(huc + abs.(huc),Inf)\n",
    "    display(huc) # should <= 0\n",
    "end\n",
    "Xref .= Xn;\n",
    "Uref .= Un;"
   ]
  },
  {
   "cell_type": "code",
   "execution_count": 34,
   "id": "5c8d15e2-a563-4077-96df-8f829ba24d00",
   "metadata": {},
   "outputs": [
    {
     "name": "stdout",
     "output_type": "stream",
     "text": [
      "ΔJ = 2728.509932098254\n",
      "ΔJ = 0.0\n",
      "ΔJ = 15.980402622969848\n",
      "ΔJ = 0.0\n",
      "ΔJ = 0.49651170383344834\n",
      "ΔJ = 6.138778427369743\n",
      "ΔJ = 0.0\n",
      "ΔJ = 2.505591610368242\n",
      "ΔJ = 0.0\n",
      "ΔJ = 5.501312805749421\n",
      "ΔJ = 0.0\n",
      "ΔJ = 0.6625358912835964\n",
      "ΔJ = 3.3071600394498546\n",
      "ΔJ = 0.0\n",
      "ΔJ = 5.8650122882077085\n",
      "ΔJ = 0.0\n",
      "ΔJ = 4.16427025867074\n",
      "ΔJ = 0.0\n",
      "ΔJ = 2.6835222562635863\n",
      "ΔJ = 0.0\n",
      "ΔJ = 2.9391028370100685\n",
      "ΔJ = 0.0\n",
      "ΔJ = 3.6362000791359606\n",
      "ΔJ = 0.0\n",
      "ΔJ = 7.52596087091888\n",
      "ΔJ = 0.0\n",
      "ΔJ = 0.009854662939687842\n",
      "ΔJ = 0.8636889428998984\n",
      "ΔJ = 0.3349692179476733\n",
      "ΔJ = 6.971479792534865\n",
      "ΔJ = 0.0\n",
      "ΔJ = 0.37307651299943245\n",
      "ΔJ = -0.15551600946582766\n",
      "ΔJ = 0.0\n",
      "ΔJ = 0.5150801039344515\n",
      "ΔJ = 1.796663681066093\n",
      "ΔJ = 0.0\n",
      "ΔJ = 2.9972626402959577\n",
      "ΔJ = 0.0\n",
      "ΔJ = 7.207593773526241\n",
      "ΔJ = 0.0\n",
      "ΔJ = -0.41659263019028003\n",
      "ΔJ = 0.0\n",
      "ΔJ = 2.63775577765864\n",
      "ΔJ = 0.0\n",
      "ΔJ = 5.111555903690714\n",
      "ΔJ = 0.0\n",
      "ΔJ = 0.40486352483458177\n",
      "ΔJ = 2.7795097711546077\n",
      "ΔJ = 0.0\n",
      "ΔJ = 3.06351322887258\n",
      "ΔJ = 0.0\n",
      "ΔJ = 1.1372146636194884\n",
      "ΔJ = 0.0\n",
      "ΔJ = 3.4468102535638536\n",
      "ΔJ = 0.0\n",
      "ΔJ = 1.017635221891851\n",
      "ΔJ = 0.0\n",
      "ΔJ = 2.5112716025419104\n",
      "ΔJ = 0.0\n",
      "ΔJ = 1.0583004291638645\n",
      "ΔJ = 0.0\n",
      "ΔJ = 1.9628548336704625\n",
      "ΔJ = 0.0\n",
      "ΔJ = 0.6589631393917443\n",
      "ΔJ = 0.22821574003137357\n",
      "ΔJ = 1.4959997547739476\n",
      "ΔJ = 0.0\n",
      "ΔJ = 1.2125105364489173\n",
      "ΔJ = 0.0\n",
      "ΔJ = 0.5076455833409454\n",
      "ΔJ = 0.7757696704256887\n",
      "ΔJ = 0.3880688700887731\n",
      "ΔJ = 4.9547404401857875\n",
      "ΔJ = 0.0\n",
      "ΔJ = 3.528841180030213\n",
      "ΔJ = 0.0\n",
      "ΔJ = 1.4073003312473702\n",
      "ΔJ = 0.0\n",
      "ΔJ = 1.2820034786607266\n",
      "ΔJ = 0.0\n",
      "ΔJ = 0.8701565805477003\n",
      "ΔJ = 0.3459240545674902\n",
      "ΔJ = 3.509998395862908\n",
      "ΔJ = 0.0\n",
      "ΔJ = 0.5045939802366775\n",
      "ΔJ = 0.32980604313866024\n",
      "ΔJ = 2.4163677502373275\n",
      "ΔJ = 0.0\n",
      "ΔJ = 2.4779889304710423\n",
      "ΔJ = 0.0\n",
      "ΔJ = 1.4273010206271692\n",
      "ΔJ = 0.0\n",
      "ΔJ = 1.2159395856695028\n",
      "ΔJ = 0.0\n",
      "ΔJ = 0.2959134260915448\n",
      "ΔJ = 2.4125350519108224\n",
      "ΔJ = 0.0\n",
      "ΔJ = 0.4297370326762575\n",
      "ΔJ = 0.9723458513849437\n",
      "ΔJ = 0.9624186210226071\n",
      "ΔJ = 0.766382444722467\n",
      "ΔJ = 0.24270562023502862\n",
      "ΔJ = 1.4037627525237895\n",
      "ΔJ = 0.0\n",
      "ΔJ = 1.3383099413222226\n",
      "ΔJ = 0.0\n",
      "ΔJ = 0.22899389191132968\n",
      "ΔJ = 0.5252468537056529\n",
      "ΔJ = 0.368681380857538\n",
      "ΔJ = 0.22237018960527166\n",
      "ΔJ = 0.9631192993292075\n",
      "ΔJ = 0.3038623080382763\n",
      "ΔJ = 0.8603520919866128\n",
      "ΔJ = 0.4011485430251014\n",
      "ΔJ = 0.2276874478537252\n",
      "ΔJ = 0.11515494677732363\n",
      "ΔJ = 0.6625756184519389\n",
      "ΔJ = 0.13953839796158718\n",
      "ΔJ = 0.3659433682777262\n",
      "ΔJ = 1.5260039959962626\n",
      "ΔJ = 0.0\n",
      "ΔJ = 0.6751225394493474\n",
      "ΔJ = 0.3776725402011323\n",
      "ΔJ = 0.3957283854869047\n",
      "ΔJ = 0.07449310712036095\n",
      "ΔJ = 0.28449975321893817\n",
      "ΔJ = 0.1331554410774345\n",
      "ΔJ = 0.27638282116902246\n",
      "ΔJ = 0.24402420846908512\n",
      "ΔJ = 0.6106589944756706\n",
      "ΔJ = 0.1046861785644495\n",
      "ΔJ = 0.17210418212862066\n",
      "ΔJ = 0.320098020116518\n",
      "ΔJ = 0.14748200503835562\n",
      "ΔJ = 0.0101009570785493\n",
      "ΔJ = 0.3280377544273563\n",
      "ΔJ = 0.07200861048656293\n",
      "ΔJ = 0.3438171173187641\n",
      "ΔJ = 0.05515222360457983\n",
      "ΔJ = 0.23768046423346334\n",
      "ΔJ = 0.14052613009872061\n",
      "ΔJ = 0.0864001051177894\n",
      "ΔJ = 0.01297872154957247\n",
      "ΔJ = 0.04098054311234023\n",
      "ΔJ = 0.09253042168279535\n",
      "ΔJ = -0.00226497131279757\n",
      "ΔJ = 0.0\n",
      "ΔJ = 0.07755003532474802\n",
      "ΔJ = 0.04046048942535663\n",
      "ΔJ = 0.11760322987456107\n",
      "ΔJ = 0.4451523784099578\n",
      "ΔJ = 0.6107248754599652\n",
      "ΔJ = 0.2306277324789363\n",
      "ΔJ = 0.19029109074061523\n",
      "ΔJ = 0.10446179534181965\n",
      "ΔJ = 0.05903653347010618\n",
      "ΔJ = 0.035909680888551065\n",
      "ΔJ = 0.05787611671726722\n",
      "ΔJ = 0.2342262906630026\n",
      "ΔJ = 0.2894164244891897\n",
      "ΔJ = 0.1739395428240016\n",
      "ΔJ = 0.3317655784128988\n",
      "ΔJ = 0.040085726735100025\n",
      "ΔJ = 0.2378669446024162\n",
      "ΔJ = 0.02769854495159052\n",
      "ΔJ = 0.06888988865105716\n",
      "ΔJ = 0.061368330835563256\n",
      "ΔJ = 0.11224899971111313\n",
      "ΔJ = 0.17608808599757708\n",
      "ΔJ = 0.04230527851726151\n",
      "ΔJ = 0.001047927656173897\n",
      "ΔJ = 0.05526026313503962\n",
      "ΔJ = 0.03548568539616781\n",
      "ΔJ = 0.015458069744909153\n",
      "ΔJ = 0.010313766576842909\n",
      "ΔJ = 0.010438944130640948\n",
      "ΔJ = 0.029264146473281016\n",
      "ΔJ = 0.16461241215523614\n",
      "ΔJ = 0.06832786719854766\n",
      "ΔJ = 0.07182734127735557\n",
      "ΔJ = 0.09257423833295775\n",
      "ΔJ = 0.0565908228303158\n",
      "ΔJ = 0.07715367929901618\n",
      "ΔJ = 0.0409901844577405\n",
      "ΔJ = 0.049586830480905064\n",
      "ΔJ = 0.23342573615951778\n",
      "ΔJ = 0.09771461536439574\n",
      "ΔJ = 0.02602123302673931\n",
      "ΔJ = 0.12220083603796184\n",
      "ΔJ = 0.0815536348633259\n",
      "ΔJ = 0.10665877527179646\n",
      "ΔJ = 0.04457765817645054\n",
      "ΔJ = 0.09905356054773051\n",
      "ΔJ = 0.12424566249626423\n",
      "ΔJ = 0.086940172368287\n",
      "ΔJ = 0.027256142530120542\n",
      "ΔJ = 0.03906484996849713\n",
      "ΔJ = 0.052878201775428124\n",
      "ΔJ = 0.06840465620015834\n",
      "ΔJ = 0.03629491717757105\n",
      "ΔJ = 0.06642922894550907\n",
      "ΔJ = 0.056817442092579995\n",
      "ΔJ = 0.046820992655867144\n",
      "ΔJ = 0.05360307202239767\n",
      "ΔJ = 0.04755600329548315\n",
      "ΔJ = 0.1026451350808344\n",
      "ΔJ = 0.042345362609140125\n",
      "ΔJ = 0.03303852733077406\n",
      "ΔJ = 0.08419146606726713\n",
      "ΔJ = 0.03825530809479005\n",
      "ΔJ = 0.04903776914146363\n",
      "ΔJ = 0.07559627948170089\n",
      "ΔJ = 0.036701366395945456\n",
      "ΔJ = 0.05478203174768481\n",
      "ΔJ = 0.09856280255925043\n",
      "ΔJ = 0.0945612395026032\n",
      "ΔJ = 0.12689545770943766\n",
      "ΔJ = 0.049062302079079245\n",
      "ΔJ = 0.07991421875233584\n",
      "ΔJ = 0.029231069007998656\n",
      "ΔJ = 0.045085882011676404\n",
      "ΔJ = 0.06352928964437154\n",
      "ΔJ = 0.04346966222004767\n",
      "ΔJ = 0.08531976971490352\n",
      "ΔJ = 0.06320992147848514\n",
      "ΔJ = 0.0929213362411545\n",
      "ΔJ = 0.09407997640222732\n",
      "ΔJ = 0.06238385680092762\n",
      "ΔJ = 0.027618643067825133\n",
      "ΔJ = 0.05003361670849671\n",
      "ΔJ = 0.08853244081954159\n",
      "ΔJ = 0.09587869496238355\n",
      "ΔJ = 0.07630788962686097\n",
      "ΔJ = 0.055106754489283816\n",
      "ΔJ = 0.07838990529324619\n",
      "ΔJ = 0.040396668641278666\n",
      "ΔJ = 0.07323337629744131\n",
      "ΔJ = 0.03726317917625721\n",
      "ΔJ = 0.05430792461920397\n",
      "ΔJ = 0.02865668570490243\n",
      "ΔJ = 0.03286497740040595\n",
      "ΔJ = 0.03071083382520179\n",
      "ΔJ = 0.08371135696231846\n",
      "ΔJ = 0.03512313870777284\n",
      "ΔJ = 0.04725589210779013\n",
      "ΔJ = 0.07551262706924433\n",
      "ΔJ = 0.06420429558761143\n",
      "ΔJ = 0.03331279129724152\n",
      "ΔJ = 0.02207197965944019\n",
      "ΔJ = 0.03565632010187336\n",
      "ΔJ = 0.03285858263179264\n",
      "ΔJ = 0.024596071918351115\n",
      "ΔJ = 0.026868320124579625\n",
      "ΔJ = 0.018887150321953428\n",
      "ΔJ = 0.01878251944307685\n",
      "ΔJ = 0.023101332193119717\n",
      "ΔJ = 0.028355297852053596\n",
      "ΔJ = 0.016626352458928295\n",
      "ΔJ = 0.05278557073805068\n",
      "ΔJ = 0.04989265242244123\n",
      "ΔJ = 0.04717110540473257\n",
      "ΔJ = 0.039172509926912014\n",
      "ΔJ = 0.05058698156162578\n",
      "ΔJ = 0.03680670447140422\n",
      "ΔJ = 0.026910473517743227\n",
      "ΔJ = 0.02616310582154746\n",
      "ΔJ = 0.019860757825650666\n",
      "ΔJ = 0.04207219426339037\n",
      "ΔJ = 0.03412678407582437\n",
      "ΔJ = 0.03399373963859276\n",
      "ΔJ = 0.019727375499688726\n",
      "ΔJ = 0.029958871729505177\n",
      "ΔJ = 0.012588997209156183\n",
      "ΔJ = 0.021685949374959712\n",
      "ΔJ = 0.04213620901506854\n",
      "ΔJ = 0.02382160328207128\n",
      "ΔJ = 0.030421964900052778\n",
      "ΔJ = 0.022743564654991832\n",
      "ΔJ = 0.010983756863702343\n",
      "ΔJ = 0.01515623322469839\n",
      "ΔJ = 0.020323584080420343\n",
      "ΔJ = 0.03465454574074478\n",
      "ΔJ = 0.020172017089358896\n",
      "ΔJ = 0.0143108165424084\n",
      "ΔJ = 0.039999043669769474\n",
      "ΔJ = 0.019837054828613532\n",
      "ΔJ = 0.02487279391867503\n",
      "ΔJ = 0.03909418377385698\n",
      "ΔJ = 0.032636618000081885\n",
      "ΔJ = 0.021255843595410884\n",
      "ΔJ = 0.017385306407092127\n",
      "ΔJ = 0.019991309264422163\n",
      "ΔJ = 0.0260279443484146\n",
      "ΔJ = 0.020279264110557582\n",
      "ΔJ = 0.02121098661915899\n",
      "ΔJ = 0.020153722439631094\n",
      "ΔJ = 0.01467227075840194\n",
      "ΔJ = 0.011726425027406062\n",
      "ΔJ = 0.022472959330324116\n",
      "ΔJ = 0.01292179185116793\n",
      "ΔJ = 0.015459030218163194\n",
      "ΔJ = 0.014596386616267498\n",
      "ΔJ = 0.011886592163420584\n",
      "ΔJ = 0.024236004937316258\n",
      "ΔJ = 0.011812548886907415\n",
      "ΔJ = 0.014914030159581815\n",
      "ΔJ = 0.014387333868417063\n",
      "ΔJ = 0.0185391407207125\n",
      "ΔJ = 0.020313085220396765\n",
      "ΔJ = 0.016081030147932163\n",
      "ΔJ = 0.01824830766110974\n",
      "ΔJ = 0.013957629135441962\n",
      "ΔJ = 0.015230874802987016\n",
      "ΔJ = 0.014353998184579941\n",
      "ΔJ = 0.01616271165167693\n",
      "ΔJ = 0.0179985220884209\n",
      "ΔJ = 0.016115538527296636\n",
      "ΔJ = 0.018215477412865333\n",
      "ΔJ = 0.015009897131253336\n",
      "ΔJ = 0.016284271611916035\n",
      "ΔJ = 0.014281944412223302\n",
      "ΔJ = 0.01699680440858975\n"
     ]
    }
   ],
   "source": [
    "### MPC style with other solver ###\n",
    "include(\"mpc_JuMP.jl\")\n",
    "\n",
    "Nsim = 301\n",
    "Nh = 21\n",
    "t_vec = dt*(0:Nsim-1)\n",
    "\n",
    "x0 = [4, 2, 20, -3, 2, -5.0]  # initial plan\n",
    "# x0 = [5, 2, 21, -3, 2, -5.0]  # change this!\n",
    "# x0 = [4.4, 2.2, 20.2, -3.03, 2.02, -5.05]\n",
    "\n",
    "xg = [0,0,0,0,0,0.0]\n",
    "Q = 1000e-1*I(nx)\n",
    "R = 1e-0*I(nu)\n",
    "Qf = 100*I(nx)\n",
    "\n",
    "# ground_level = 0.0\n",
    "gravity = [0; 0; -9.81]\n",
    "mass = 10.0\n",
    "# ωPlanet = [0.0; 0.0; 0.0]\n",
    "perWeightMax = 2.0\n",
    "θ_thrust_max = 5.0  # deg\n",
    "# θ_glideslope = 60.0 # deg\n",
    "# glide_recover_k = 8\n",
    "\n",
    "A_cone = [1 0 0; 0 1 0]\n",
    "c_cone = [0.0, 0.0, tand(θ_thrust_max)]\n",
    "u_bnd = mass * abs(gravity[3]) * perWeightMax\n",
    "u_min = -10.0*ones(nu)\n",
    "u_max =  105.0*ones(nu)\n",
    "\n",
    "# state is x y v θ\n",
    "x_min = [-5,-5,0,-10,-10,-10.0]\n",
    "x_max = [5,5,20,10,10,10.0]\n",
    "\n",
    "ncx = 2*nx*0\n",
    "ncu = 2*nu*0\n",
    "ncg = 0\n",
    "ncu_cone = nu*0; \n",
    "cone_scale = 1e-2  # very fragile for each problem\n",
    "\n",
    "μ = [zeros(ncu) for i = 1:Nh-1]   # input constraints\n",
    "μx = [zeros(ncx) for i = 1:Nh]    # state constraints\n",
    "λ = zeros(nx)    # goal constraint\n",
    "λc = [zeros(ncu_cone) for i = 1:Nh-1]   # goal constraint\n",
    "\n",
    "params = (\n",
    "    nx = nx,\n",
    "    nu = nu,\n",
    "    ncx = ncx,\n",
    "    ncu = ncu,\n",
    "    ncg = ncg,\n",
    "    ncu_cone = ncu_cone,\n",
    "    μ = μ, μx = μx, λ = λ, λc = λc,\n",
    "    A_cone = A_cone,\n",
    "    c_cone = c_cone,\n",
    "    N = Nh,\n",
    "    Q = Q,\n",
    "    R = R,\n",
    "    Qf = Qf,\n",
    "    u_min = u_min,\n",
    "    u_max = u_max,\n",
    "    x_min = x_min,\n",
    "    x_max = x_max,\n",
    "    Xref = Xref,\n",
    "    Uref = Uref,\n",
    "    dt = dt,\n",
    "    g = 9.81,\n",
    ");\n",
    "\n",
    "Xhist = [deepcopy(x0) for i = 1:Nsim]\n",
    "Uhist = deepcopy(Uref)\n",
    "# previous iterate\n",
    "X = [deepcopy(x0) for i = 1:Nh]\n",
    "U = [-mass * gravity for k = 1:Nh-1]\n",
    "\n",
    "# new iterate\n",
    "Xn = deepcopy(X)\n",
    "Un = deepcopy(U)\n",
    "\n",
    "P = [zeros(nx,nx) for i = 1:Nh]   # cost to go quadratic term\n",
    "p = [zeros(nx) for i = 1:Nh]      # cost to go linear term\n",
    "d = [zeros(nu) for i = 1:Nh-1]    # feedforward control\n",
    "K = [zeros(nu,nx) for i = 1:Nh-1] # feedback gain\n",
    "\n",
    "optimizer = JuMP.optimizer_with_attributes(COSMO.Optimizer,\n",
    "    \"verbose\"=>false,\n",
    "    \"eps_abs\"=>1e-4,\n",
    "    \"eps_rel\"=>1e-4,\n",
    "    \"rho\"=>1e-2,\n",
    "    \"scaling\"=>0,\n",
    "    \"alpha\"=>1.0)\n",
    "Random.seed!(1);\n",
    "for i = 1:Nsim-Nh-1\n",
    "    params1 = (; params..., Uref = Uref[i:Nh+i-2], Xref = Xref[i:Nh+i-1])  # update ref\n",
    "    \n",
    "    pos_norm = norm(Xhist[i][1:3], Inf) / 100 # 1% noise\n",
    "    vel_norm = norm(Xhist[4:6], Inf) / 1e6 # 1ppm noise\n",
    "    noise_pos = randn(3)\n",
    "    noise_vel = randn(3)\n",
    "    Xhist[i] += [noise_pos * pos_norm; noise_vel * vel_norm]\n",
    "    X[1] .= Xhist[i] \n",
    "    \n",
    "    # Uhist[i] = mpc_JuMP(optimizer, params1, X, U, A, B, f; warm_start=false)\n",
    "    \n",
    "    # X = [Xhist[i] for i = 1:Nh]  # reset, avoid warm-staring\n",
    "    # U = [-mass * gravity for k = 1:Nh-1]\n",
    "    Uhist[i] = mpc(params1,X,U,P,p,K,d,Xn,Un;atol=1e-1,max_iters = 10,verbose = false,ρ = 1e1,ρ_max=1e8, ϕ = 10.0) \n",
    "    \n",
    "    Xhist[i+1] = discrete_dynamics(params1,Xhist[i],Uhist[i],i)  # dynamics\n",
    "end"
   ]
  },
  {
   "cell_type": "markdown",
   "id": "4a1732ad-eb0e-48b4-8896-73a7e8b9997c",
   "metadata": {},
   "source": [
    "1. COSMO gives better tracking results\n",
    "2. Ours always need warm-start"
   ]
  },
  {
   "cell_type": "code",
   "execution_count": 28,
   "id": "d651f59e-e700-4bc9-927c-98835f2679f4",
   "metadata": {},
   "outputs": [
    {
     "data": {
      "text/plain": [
       "5.915899302598335"
      ]
     },
     "metadata": {},
     "output_type": "display_data"
    },
    {
     "data": {
      "text/plain": [
       "13.89177653506471"
      ]
     },
     "metadata": {},
     "output_type": "display_data"
    },
    {
     "data": {
      "text/plain": [
       "156.3432853625436"
      ]
     },
     "metadata": {},
     "output_type": "display_data"
    },
    {
     "data": {
      "text/plain": [
       "278.6907740976344"
      ]
     },
     "metadata": {},
     "output_type": "display_data"
    },
    {
     "data": {
      "text/plain": [
       "356.4394555750109"
      ]
     },
     "metadata": {},
     "output_type": "display_data"
    },
    {
     "data": {
      "text/plain": [
       "451.0641229288547"
      ]
     },
     "metadata": {},
     "output_type": "display_data"
    },
    {
     "data": {
      "text/plain": [
       "503.7149290708176"
      ]
     },
     "metadata": {},
     "output_type": "display_data"
    },
    {
     "data": {
      "text/plain": [
       "533.1932895853963"
      ]
     },
     "metadata": {},
     "output_type": "display_data"
    },
    {
     "data": {
      "text/plain": [
       "540.6141396513792"
      ]
     },
     "metadata": {},
     "output_type": "display_data"
    },
    {
     "data": {
      "text/plain": [
       "555.6704805299057"
      ]
     },
     "metadata": {},
     "output_type": "display_data"
    },
    {
     "data": {
      "text/plain": [
       "578.9557251151791"
      ]
     },
     "metadata": {},
     "output_type": "display_data"
    },
    {
     "data": {
      "text/plain": [
       "576.2783092675566"
      ]
     },
     "metadata": {},
     "output_type": "display_data"
    },
    {
     "data": {
      "text/plain": [
       "580.6012224715619"
      ]
     },
     "metadata": {},
     "output_type": "display_data"
    },
    {
     "data": {
      "text/plain": [
       "575.6420388425979"
      ]
     },
     "metadata": {},
     "output_type": "display_data"
    },
    {
     "data": {
      "text/plain": [
       "553.8811864727619"
      ]
     },
     "metadata": {},
     "output_type": "display_data"
    },
    {
     "data": {
      "text/plain": [
       "512.2307346756177"
      ]
     },
     "metadata": {},
     "output_type": "display_data"
    },
    {
     "data": {
      "text/plain": [
       "525.1326113095661"
      ]
     },
     "metadata": {},
     "output_type": "display_data"
    },
    {
     "data": {
      "text/plain": [
       "615.7334542098694"
      ]
     },
     "metadata": {},
     "output_type": "display_data"
    },
    {
     "data": {
      "text/plain": [
       "605.6787621288689"
      ]
     },
     "metadata": {},
     "output_type": "display_data"
    },
    {
     "data": {
      "text/plain": [
       "631.2616271296761"
      ]
     },
     "metadata": {},
     "output_type": "display_data"
    },
    {
     "data": {
      "text/plain": [
       "656.9506666450769"
      ]
     },
     "metadata": {},
     "output_type": "display_data"
    },
    {
     "data": {
      "text/plain": [
       "803.3755589501303"
      ]
     },
     "metadata": {},
     "output_type": "display_data"
    },
    {
     "data": {
      "text/plain": [
       "609.4912818715238"
      ]
     },
     "metadata": {},
     "output_type": "display_data"
    },
    {
     "data": {
      "text/plain": [
       "382.060329951865"
      ]
     },
     "metadata": {},
     "output_type": "display_data"
    },
    {
     "data": {
      "text/plain": [
       "415.27663666897627"
      ]
     },
     "metadata": {},
     "output_type": "display_data"
    },
    {
     "data": {
      "text/plain": [
       "385.50458372633085"
      ]
     },
     "metadata": {},
     "output_type": "display_data"
    },
    {
     "data": {
      "text/plain": [
       "424.30604508740237"
      ]
     },
     "metadata": {},
     "output_type": "display_data"
    },
    {
     "data": {
      "text/plain": [
       "422.9002328272143"
      ]
     },
     "metadata": {},
     "output_type": "display_data"
    },
    {
     "data": {
      "text/plain": [
       "260.2078800326599"
      ]
     },
     "metadata": {},
     "output_type": "display_data"
    },
    {
     "data": {
      "text/plain": [
       "443.00418960452515"
      ]
     },
     "metadata": {},
     "output_type": "display_data"
    }
   ],
   "source": [
    "# Check conic violation\n",
    "convio = 0.0\n",
    "for k = 1:30\n",
    "    Uc = cone_u(params, Uhist[k])\n",
    "    huc = norm(Uc[1:2]) - Uc[3]\n",
    "    convio = norm(huc + abs.(huc),Inf)\n",
    "    display(huc) # should <= 0\n",
    "end"
   ]
  },
  {
   "cell_type": "code",
   "execution_count": 35,
   "id": "ffaab90d-dddc-4512-8c8b-4561cd053fdf",
   "metadata": {},
   "outputs": [
    {
     "name": "stdout",
     "output_type": "stream",
     "text": [
      "traj_error = maximum(norm.(e_sim_m, Inf)) = 2.146818075484183\n"
     ]
    },
    {
     "data": {
      "image/svg+xml": "<?xml version=\"1.0\" encoding=\"utf-8\"?>\n<svg xmlns=\"http://www.w3.org/2000/svg\" xmlns:xlink=\"http://www.w3.org/1999/xlink\" width=\"600\" height=\"400\" viewBox=\"0 0 2400 1600\">\n<defs>\n  <clipPath id=\"clip560\">\n    <rect x=\"0\" y=\"0\" width=\"2400\" height=\"1600\"/>\n  </clipPath>\n</defs>\n<path clip-path=\"url(#clip560)\" d=\"M0 1600 L2400 1600 L2400 0 L0 0  Z\" fill=\"#ffffff\" fill-rule=\"evenodd\" fill-opacity=\"1\"/>\n<defs>\n  <clipPath id=\"clip561\">\n    <rect x=\"480\" y=\"0\" width=\"1681\" height=\"1600\"/>\n  </clipPath>\n</defs>\n<path clip-path=\"url(#clip560)\" d=\"M256.209 1423.18 L2352.76 1423.18 L2352.76 123.472 L256.209 123.472  Z\" fill=\"#ffffff\" fill-rule=\"evenodd\" fill-opacity=\"1\"/>\n<defs>\n  <clipPath id=\"clip562\">\n    <rect x=\"256\" y=\"123\" width=\"2098\" height=\"1301\"/>\n  </clipPath>\n</defs>\n<polyline clip-path=\"url(#clip562)\" style=\"stroke:#000000; stroke-linecap:round; stroke-linejoin:round; stroke-width:2; stroke-opacity:0.1; fill:none\" points=\"315.545,1423.18 315.545,123.472 \"/>\n<polyline clip-path=\"url(#clip562)\" style=\"stroke:#000000; stroke-linecap:round; stroke-linejoin:round; stroke-width:2; stroke-opacity:0.1; fill:none\" points=\"670.003,1423.18 670.003,123.472 \"/>\n<polyline clip-path=\"url(#clip562)\" style=\"stroke:#000000; stroke-linecap:round; stroke-linejoin:round; stroke-width:2; stroke-opacity:0.1; fill:none\" points=\"1024.46,1423.18 1024.46,123.472 \"/>\n<polyline clip-path=\"url(#clip562)\" style=\"stroke:#000000; stroke-linecap:round; stroke-linejoin:round; stroke-width:2; stroke-opacity:0.1; fill:none\" points=\"1378.92,1423.18 1378.92,123.472 \"/>\n<polyline clip-path=\"url(#clip562)\" style=\"stroke:#000000; stroke-linecap:round; stroke-linejoin:round; stroke-width:2; stroke-opacity:0.1; fill:none\" points=\"1733.38,1423.18 1733.38,123.472 \"/>\n<polyline clip-path=\"url(#clip562)\" style=\"stroke:#000000; stroke-linecap:round; stroke-linejoin:round; stroke-width:2; stroke-opacity:0.1; fill:none\" points=\"2087.83,1423.18 2087.83,123.472 \"/>\n<polyline clip-path=\"url(#clip560)\" style=\"stroke:#000000; stroke-linecap:round; stroke-linejoin:round; stroke-width:4; stroke-opacity:1; fill:none\" points=\"256.209,1423.18 2352.76,1423.18 \"/>\n<polyline clip-path=\"url(#clip560)\" style=\"stroke:#000000; stroke-linecap:round; stroke-linejoin:round; stroke-width:4; stroke-opacity:1; fill:none\" points=\"315.545,1423.18 315.545,1404.28 \"/>\n<polyline clip-path=\"url(#clip560)\" style=\"stroke:#000000; stroke-linecap:round; stroke-linejoin:round; stroke-width:4; stroke-opacity:1; fill:none\" points=\"670.003,1423.18 670.003,1404.28 \"/>\n<polyline clip-path=\"url(#clip560)\" style=\"stroke:#000000; stroke-linecap:round; stroke-linejoin:round; stroke-width:4; stroke-opacity:1; fill:none\" points=\"1024.46,1423.18 1024.46,1404.28 \"/>\n<polyline clip-path=\"url(#clip560)\" style=\"stroke:#000000; stroke-linecap:round; stroke-linejoin:round; stroke-width:4; stroke-opacity:1; fill:none\" points=\"1378.92,1423.18 1378.92,1404.28 \"/>\n<polyline clip-path=\"url(#clip560)\" style=\"stroke:#000000; stroke-linecap:round; stroke-linejoin:round; stroke-width:4; stroke-opacity:1; fill:none\" points=\"1733.38,1423.18 1733.38,1404.28 \"/>\n<polyline clip-path=\"url(#clip560)\" style=\"stroke:#000000; stroke-linecap:round; stroke-linejoin:round; stroke-width:4; stroke-opacity:1; fill:none\" points=\"2087.83,1423.18 2087.83,1404.28 \"/>\n<path clip-path=\"url(#clip560)\" d=\"M292.929 1454.1 Q289.318 1454.1 287.49 1457.66 Q285.684 1461.2 285.684 1468.33 Q285.684 1475.44 287.49 1479.01 Q289.318 1482.55 292.929 1482.55 Q296.564 1482.55 298.369 1479.01 Q300.198 1475.44 300.198 1468.33 Q300.198 1461.2 298.369 1457.66 Q296.564 1454.1 292.929 1454.1 M292.929 1450.39 Q298.739 1450.39 301.795 1455 Q304.874 1459.58 304.874 1468.33 Q304.874 1477.06 301.795 1481.67 Q298.739 1486.25 292.929 1486.25 Q287.119 1486.25 284.04 1481.67 Q280.985 1477.06 280.985 1468.33 Q280.985 1459.58 284.04 1455 Q287.119 1450.39 292.929 1450.39 Z\" fill=\"#000000\" fill-rule=\"evenodd\" fill-opacity=\"1\" /><path clip-path=\"url(#clip560)\" d=\"M313.091 1479.7 L317.975 1479.7 L317.975 1485.58 L313.091 1485.58 L313.091 1479.7 Z\" fill=\"#000000\" fill-rule=\"evenodd\" fill-opacity=\"1\" /><path clip-path=\"url(#clip560)\" d=\"M338.161 1454.1 Q334.549 1454.1 332.721 1457.66 Q330.915 1461.2 330.915 1468.33 Q330.915 1475.44 332.721 1479.01 Q334.549 1482.55 338.161 1482.55 Q341.795 1482.55 343.6 1479.01 Q345.429 1475.44 345.429 1468.33 Q345.429 1461.2 343.6 1457.66 Q341.795 1454.1 338.161 1454.1 M338.161 1450.39 Q343.971 1450.39 347.026 1455 Q350.105 1459.58 350.105 1468.33 Q350.105 1477.06 347.026 1481.67 Q343.971 1486.25 338.161 1486.25 Q332.35 1486.25 329.272 1481.67 Q326.216 1477.06 326.216 1468.33 Q326.216 1459.58 329.272 1455 Q332.35 1450.39 338.161 1450.39 Z\" fill=\"#000000\" fill-rule=\"evenodd\" fill-opacity=\"1\" /><path clip-path=\"url(#clip560)\" d=\"M641.739 1481.64 L658.058 1481.64 L658.058 1485.58 L636.114 1485.58 L636.114 1481.64 Q638.776 1478.89 643.359 1474.26 Q647.966 1469.61 649.146 1468.27 Q651.392 1465.74 652.271 1464.01 Q653.174 1462.25 653.174 1460.56 Q653.174 1457.8 651.23 1456.07 Q649.308 1454.33 646.207 1454.33 Q644.008 1454.33 641.554 1455.09 Q639.123 1455.86 636.346 1457.41 L636.346 1452.69 Q639.17 1451.55 641.623 1450.97 Q644.077 1450.39 646.114 1450.39 Q651.484 1450.39 654.679 1453.08 Q657.873 1455.77 657.873 1460.26 Q657.873 1462.39 657.063 1464.31 Q656.276 1466.2 654.169 1468.8 Q653.591 1469.47 650.489 1472.69 Q647.387 1475.88 641.739 1481.64 Z\" fill=\"#000000\" fill-rule=\"evenodd\" fill-opacity=\"1\" /><path clip-path=\"url(#clip560)\" d=\"M667.873 1479.7 L672.757 1479.7 L672.757 1485.58 L667.873 1485.58 L667.873 1479.7 Z\" fill=\"#000000\" fill-rule=\"evenodd\" fill-opacity=\"1\" /><path clip-path=\"url(#clip560)\" d=\"M682.989 1451.02 L701.345 1451.02 L701.345 1454.96 L687.271 1454.96 L687.271 1463.43 Q688.29 1463.08 689.308 1462.92 Q690.327 1462.73 691.345 1462.73 Q697.132 1462.73 700.512 1465.9 Q703.891 1469.08 703.891 1474.49 Q703.891 1480.07 700.419 1483.17 Q696.947 1486.25 690.628 1486.25 Q688.452 1486.25 686.183 1485.88 Q683.938 1485.51 681.53 1484.77 L681.53 1480.07 Q683.614 1481.2 685.836 1481.76 Q688.058 1482.32 690.535 1482.32 Q694.54 1482.32 696.878 1480.21 Q699.216 1478.1 699.216 1474.49 Q699.216 1470.88 696.878 1468.77 Q694.54 1466.67 690.535 1466.67 Q688.66 1466.67 686.785 1467.08 Q684.933 1467.5 682.989 1468.38 L682.989 1451.02 Z\" fill=\"#000000\" fill-rule=\"evenodd\" fill-opacity=\"1\" /><path clip-path=\"url(#clip560)\" d=\"M991.625 1451.02 L1009.98 1451.02 L1009.98 1454.96 L995.908 1454.96 L995.908 1463.43 Q996.926 1463.08 997.945 1462.92 Q998.963 1462.73 999.982 1462.73 Q1005.77 1462.73 1009.15 1465.9 Q1012.53 1469.08 1012.53 1474.49 Q1012.53 1480.07 1009.06 1483.17 Q1005.58 1486.25 999.264 1486.25 Q997.088 1486.25 994.82 1485.88 Q992.574 1485.51 990.167 1484.77 L990.167 1480.07 Q992.25 1481.2 994.472 1481.76 Q996.695 1482.32 999.171 1482.32 Q1003.18 1482.32 1005.51 1480.21 Q1007.85 1478.1 1007.85 1474.49 Q1007.85 1470.88 1005.51 1468.77 Q1003.18 1466.67 999.171 1466.67 Q997.296 1466.67 995.421 1467.08 Q993.57 1467.5 991.625 1468.38 L991.625 1451.02 Z\" fill=\"#000000\" fill-rule=\"evenodd\" fill-opacity=\"1\" /><path clip-path=\"url(#clip560)\" d=\"M1021.74 1479.7 L1026.62 1479.7 L1026.62 1485.58 L1021.74 1485.58 L1021.74 1479.7 Z\" fill=\"#000000\" fill-rule=\"evenodd\" fill-opacity=\"1\" /><path clip-path=\"url(#clip560)\" d=\"M1046.81 1454.1 Q1043.2 1454.1 1041.37 1457.66 Q1039.56 1461.2 1039.56 1468.33 Q1039.56 1475.44 1041.37 1479.01 Q1043.2 1482.55 1046.81 1482.55 Q1050.44 1482.55 1052.25 1479.01 Q1054.08 1475.44 1054.08 1468.33 Q1054.08 1461.2 1052.25 1457.66 Q1050.44 1454.1 1046.81 1454.1 M1046.81 1450.39 Q1052.62 1450.39 1055.68 1455 Q1058.75 1459.58 1058.75 1468.33 Q1058.75 1477.06 1055.68 1481.67 Q1052.62 1486.25 1046.81 1486.25 Q1041 1486.25 1037.92 1481.67 Q1034.87 1477.06 1034.87 1468.33 Q1034.87 1459.58 1037.92 1455 Q1041 1450.39 1046.81 1450.39 Z\" fill=\"#000000\" fill-rule=\"evenodd\" fill-opacity=\"1\" /><path clip-path=\"url(#clip560)\" d=\"M1345.24 1451.02 L1367.46 1451.02 L1367.46 1453.01 L1354.91 1485.58 L1350.03 1485.58 L1361.84 1454.96 L1345.24 1454.96 L1345.24 1451.02 Z\" fill=\"#000000\" fill-rule=\"evenodd\" fill-opacity=\"1\" /><path clip-path=\"url(#clip560)\" d=\"M1376.58 1479.7 L1381.46 1479.7 L1381.46 1485.58 L1376.58 1485.58 L1376.58 1479.7 Z\" fill=\"#000000\" fill-rule=\"evenodd\" fill-opacity=\"1\" /><path clip-path=\"url(#clip560)\" d=\"M1391.7 1451.02 L1410.05 1451.02 L1410.05 1454.96 L1395.98 1454.96 L1395.98 1463.43 Q1397 1463.08 1398.02 1462.92 Q1399.03 1462.73 1400.05 1462.73 Q1405.84 1462.73 1409.22 1465.9 Q1412.6 1469.08 1412.6 1474.49 Q1412.6 1480.07 1409.13 1483.17 Q1405.65 1486.25 1399.33 1486.25 Q1397.16 1486.25 1394.89 1485.88 Q1392.65 1485.51 1390.24 1484.77 L1390.24 1480.07 Q1392.32 1481.2 1394.54 1481.76 Q1396.77 1482.32 1399.24 1482.32 Q1403.25 1482.32 1405.58 1480.21 Q1407.92 1478.1 1407.92 1474.49 Q1407.92 1470.88 1405.58 1468.77 Q1403.25 1466.67 1399.24 1466.67 Q1397.37 1466.67 1395.49 1467.08 Q1393.64 1467.5 1391.7 1468.38 L1391.7 1451.02 Z\" fill=\"#000000\" fill-rule=\"evenodd\" fill-opacity=\"1\" /><path clip-path=\"url(#clip560)\" d=\"M1685.45 1481.64 L1693.09 1481.64 L1693.09 1455.28 L1684.78 1456.95 L1684.78 1452.69 L1693.04 1451.02 L1697.72 1451.02 L1697.72 1481.64 L1705.36 1481.64 L1705.36 1485.58 L1685.45 1485.58 L1685.45 1481.64 Z\" fill=\"#000000\" fill-rule=\"evenodd\" fill-opacity=\"1\" /><path clip-path=\"url(#clip560)\" d=\"M1724.8 1454.1 Q1721.19 1454.1 1719.36 1457.66 Q1717.55 1461.2 1717.55 1468.33 Q1717.55 1475.44 1719.36 1479.01 Q1721.19 1482.55 1724.8 1482.55 Q1728.43 1482.55 1730.24 1479.01 Q1732.07 1475.44 1732.07 1468.33 Q1732.07 1461.2 1730.24 1457.66 Q1728.43 1454.1 1724.8 1454.1 M1724.8 1450.39 Q1730.61 1450.39 1733.67 1455 Q1736.74 1459.58 1736.74 1468.33 Q1736.74 1477.06 1733.67 1481.67 Q1730.61 1486.25 1724.8 1486.25 Q1718.99 1486.25 1715.91 1481.67 Q1712.86 1477.06 1712.86 1468.33 Q1712.86 1459.58 1715.91 1455 Q1718.99 1450.39 1724.8 1450.39 Z\" fill=\"#000000\" fill-rule=\"evenodd\" fill-opacity=\"1\" /><path clip-path=\"url(#clip560)\" d=\"M1744.96 1479.7 L1749.85 1479.7 L1749.85 1485.58 L1744.96 1485.58 L1744.96 1479.7 Z\" fill=\"#000000\" fill-rule=\"evenodd\" fill-opacity=\"1\" /><path clip-path=\"url(#clip560)\" d=\"M1770.03 1454.1 Q1766.42 1454.1 1764.59 1457.66 Q1762.79 1461.2 1762.79 1468.33 Q1762.79 1475.44 1764.59 1479.01 Q1766.42 1482.55 1770.03 1482.55 Q1773.67 1482.55 1775.47 1479.01 Q1777.3 1475.44 1777.3 1468.33 Q1777.3 1461.2 1775.47 1457.66 Q1773.67 1454.1 1770.03 1454.1 M1770.03 1450.39 Q1775.84 1450.39 1778.9 1455 Q1781.98 1459.58 1781.98 1468.33 Q1781.98 1477.06 1778.9 1481.67 Q1775.84 1486.25 1770.03 1486.25 Q1764.22 1486.25 1761.14 1481.67 Q1758.09 1477.06 1758.09 1468.33 Q1758.09 1459.58 1761.14 1455 Q1764.22 1450.39 1770.03 1450.39 Z\" fill=\"#000000\" fill-rule=\"evenodd\" fill-opacity=\"1\" /><path clip-path=\"url(#clip560)\" d=\"M2040.4 1481.64 L2048.04 1481.64 L2048.04 1455.28 L2039.73 1456.95 L2039.73 1452.69 L2048 1451.02 L2052.67 1451.02 L2052.67 1481.64 L2060.31 1481.64 L2060.31 1485.58 L2040.4 1485.58 L2040.4 1481.64 Z\" fill=\"#000000\" fill-rule=\"evenodd\" fill-opacity=\"1\" /><path clip-path=\"url(#clip560)\" d=\"M2073.78 1481.64 L2090.1 1481.64 L2090.1 1485.58 L2068.16 1485.58 L2068.16 1481.64 Q2070.82 1478.89 2075.4 1474.26 Q2080.01 1469.61 2081.19 1468.27 Q2083.44 1465.74 2084.32 1464.01 Q2085.22 1462.25 2085.22 1460.56 Q2085.22 1457.8 2083.27 1456.07 Q2081.35 1454.33 2078.25 1454.33 Q2076.05 1454.33 2073.6 1455.09 Q2071.17 1455.86 2068.39 1457.41 L2068.39 1452.69 Q2071.21 1451.55 2073.67 1450.97 Q2076.12 1450.39 2078.16 1450.39 Q2083.53 1450.39 2086.72 1453.08 Q2089.92 1455.77 2089.92 1460.26 Q2089.92 1462.39 2089.11 1464.31 Q2088.32 1466.2 2086.21 1468.8 Q2085.64 1469.47 2082.53 1472.69 Q2079.43 1475.88 2073.78 1481.64 Z\" fill=\"#000000\" fill-rule=\"evenodd\" fill-opacity=\"1\" /><path clip-path=\"url(#clip560)\" d=\"M2099.92 1479.7 L2104.8 1479.7 L2104.8 1485.58 L2099.92 1485.58 L2099.92 1479.7 Z\" fill=\"#000000\" fill-rule=\"evenodd\" fill-opacity=\"1\" /><path clip-path=\"url(#clip560)\" d=\"M2115.03 1451.02 L2133.39 1451.02 L2133.39 1454.96 L2119.32 1454.96 L2119.32 1463.43 Q2120.33 1463.08 2121.35 1462.92 Q2122.37 1462.73 2123.39 1462.73 Q2129.18 1462.73 2132.56 1465.9 Q2135.94 1469.08 2135.94 1474.49 Q2135.94 1480.07 2132.46 1483.17 Q2128.99 1486.25 2122.67 1486.25 Q2120.5 1486.25 2118.23 1485.88 Q2115.98 1485.51 2113.57 1484.77 L2113.57 1480.07 Q2115.66 1481.2 2117.88 1481.76 Q2120.1 1482.32 2122.58 1482.32 Q2126.58 1482.32 2128.92 1480.21 Q2131.26 1478.1 2131.26 1474.49 Q2131.26 1470.88 2128.92 1468.77 Q2126.58 1466.67 2122.58 1466.67 Q2120.7 1466.67 2118.83 1467.08 Q2116.98 1467.5 2115.03 1468.38 L2115.03 1451.02 Z\" fill=\"#000000\" fill-rule=\"evenodd\" fill-opacity=\"1\" /><path clip-path=\"url(#clip560)\" d=\"M1191.94 1522.27 L1191.94 1532.4 L1204 1532.4 L1204 1536.95 L1191.94 1536.95 L1191.94 1556.3 Q1191.94 1560.66 1193.11 1561.9 Q1194.32 1563.14 1197.98 1563.14 L1204 1563.14 L1204 1568.04 L1197.98 1568.04 Q1191.2 1568.04 1188.63 1565.53 Q1186.05 1562.98 1186.05 1556.3 L1186.05 1536.95 L1181.75 1536.95 L1181.75 1532.4 L1186.05 1532.4 L1186.05 1522.27 L1191.94 1522.27 Z\" fill=\"#000000\" fill-rule=\"evenodd\" fill-opacity=\"1\" /><path clip-path=\"url(#clip560)\" d=\"M1211.7 1532.4 L1217.56 1532.4 L1217.56 1568.04 L1211.7 1568.04 L1211.7 1532.4 M1211.7 1518.52 L1217.56 1518.52 L1217.56 1525.93 L1211.7 1525.93 L1211.7 1518.52 Z\" fill=\"#000000\" fill-rule=\"evenodd\" fill-opacity=\"1\" /><path clip-path=\"url(#clip560)\" d=\"M1257.57 1539.24 Q1259.76 1535.29 1262.82 1533.41 Q1265.87 1531.54 1270.01 1531.54 Q1275.58 1531.54 1278.61 1535.45 Q1281.63 1539.33 1281.63 1546.53 L1281.63 1568.04 L1275.74 1568.04 L1275.74 1546.72 Q1275.74 1541.59 1273.93 1539.11 Q1272.11 1536.63 1268.39 1536.63 Q1263.84 1536.63 1261.2 1539.65 Q1258.55 1542.68 1258.55 1547.9 L1258.55 1568.04 L1252.67 1568.04 L1252.67 1546.72 Q1252.67 1541.56 1250.85 1539.11 Q1249.04 1536.63 1245.25 1536.63 Q1240.76 1536.63 1238.12 1539.68 Q1235.48 1542.71 1235.48 1547.9 L1235.48 1568.04 L1229.59 1568.04 L1229.59 1532.4 L1235.48 1532.4 L1235.48 1537.93 Q1237.48 1534.66 1240.28 1533.1 Q1243.09 1531.54 1246.94 1531.54 Q1250.82 1531.54 1253.52 1533.51 Q1256.26 1535.48 1257.57 1539.24 Z\" fill=\"#000000\" fill-rule=\"evenodd\" fill-opacity=\"1\" /><path clip-path=\"url(#clip560)\" d=\"M1323.8 1548.76 L1323.8 1551.62 L1296.88 1551.62 Q1297.26 1557.67 1300.5 1560.85 Q1303.78 1564 1309.61 1564 Q1312.98 1564 1316.13 1563.17 Q1319.31 1562.35 1322.43 1560.69 L1322.43 1566.23 Q1319.28 1567.57 1315.97 1568.27 Q1312.66 1568.97 1309.26 1568.97 Q1300.73 1568.97 1295.73 1564 Q1290.76 1559.04 1290.76 1550.57 Q1290.76 1541.82 1295.47 1536.69 Q1300.22 1531.54 1308.24 1531.54 Q1315.43 1531.54 1319.6 1536.18 Q1323.8 1540.8 1323.8 1548.76 M1317.95 1547.04 Q1317.88 1542.23 1315.24 1539.37 Q1312.63 1536.5 1308.3 1536.5 Q1303.4 1536.5 1300.44 1539.27 Q1297.51 1542.04 1297.07 1547.07 L1317.95 1547.04 Z\" fill=\"#000000\" fill-rule=\"evenodd\" fill-opacity=\"1\" /><path clip-path=\"url(#clip560)\" d=\"M1368.2 1518.58 Q1363.94 1525.9 1361.87 1533.06 Q1359.8 1540.23 1359.8 1547.58 Q1359.8 1554.93 1361.87 1562.16 Q1363.97 1569.35 1368.2 1576.64 L1363.11 1576.64 Q1358.34 1569.16 1355.95 1561.93 Q1353.59 1554.71 1353.59 1547.58 Q1353.59 1540.48 1355.95 1533.29 Q1358.3 1526.09 1363.11 1518.58 L1368.2 1518.58 Z\" fill=\"#000000\" fill-rule=\"evenodd\" fill-opacity=\"1\" /><path clip-path=\"url(#clip560)\" d=\"M1402.29 1533.45 L1402.29 1538.98 Q1399.81 1537.71 1397.14 1537.07 Q1394.46 1536.44 1391.6 1536.44 Q1387.24 1536.44 1385.04 1537.77 Q1382.88 1539.11 1382.88 1541.79 Q1382.88 1543.82 1384.44 1545 Q1386 1546.15 1390.71 1547.2 L1392.71 1547.64 Q1398.95 1548.98 1401.56 1551.43 Q1404.2 1553.85 1404.2 1558.21 Q1404.2 1563.17 1400.25 1566.07 Q1396.34 1568.97 1389.46 1568.97 Q1386.6 1568.97 1383.48 1568.39 Q1380.39 1567.85 1376.96 1566.74 L1376.96 1560.69 Q1380.2 1562.38 1383.35 1563.24 Q1386.5 1564.07 1389.59 1564.07 Q1393.73 1564.07 1395.96 1562.66 Q1398.19 1561.23 1398.19 1558.65 Q1398.19 1556.27 1396.56 1554.99 Q1394.97 1553.72 1389.53 1552.54 L1387.49 1552.07 Q1382.05 1550.92 1379.63 1548.56 Q1377.21 1546.18 1377.21 1542.04 Q1377.21 1537.01 1380.78 1534.27 Q1384.34 1531.54 1390.9 1531.54 Q1394.14 1531.54 1397.01 1532.01 Q1399.87 1532.49 1402.29 1533.45 Z\" fill=\"#000000\" fill-rule=\"evenodd\" fill-opacity=\"1\" /><path clip-path=\"url(#clip560)\" d=\"M1412.6 1518.58 L1417.7 1518.58 Q1422.47 1526.09 1424.83 1533.29 Q1427.21 1540.48 1427.21 1547.58 Q1427.21 1554.71 1424.83 1561.93 Q1422.47 1569.16 1417.7 1576.64 L1412.6 1576.64 Q1416.84 1569.35 1418.91 1562.16 Q1421.01 1554.93 1421.01 1547.58 Q1421.01 1540.23 1418.91 1533.06 Q1416.84 1525.9 1412.6 1518.58 Z\" fill=\"#000000\" fill-rule=\"evenodd\" fill-opacity=\"1\" /><polyline clip-path=\"url(#clip562)\" style=\"stroke:#000000; stroke-linecap:round; stroke-linejoin:round; stroke-width:2; stroke-opacity:0.1; fill:none\" points=\"256.209,1319.51 2352.76,1319.51 \"/>\n<polyline clip-path=\"url(#clip562)\" style=\"stroke:#000000; stroke-linecap:round; stroke-linejoin:round; stroke-width:2; stroke-opacity:0.1; fill:none\" points=\"256.209,1100.52 2352.76,1100.52 \"/>\n<polyline clip-path=\"url(#clip562)\" style=\"stroke:#000000; stroke-linecap:round; stroke-linejoin:round; stroke-width:2; stroke-opacity:0.1; fill:none\" points=\"256.209,881.53 2352.76,881.53 \"/>\n<polyline clip-path=\"url(#clip562)\" style=\"stroke:#000000; stroke-linecap:round; stroke-linejoin:round; stroke-width:2; stroke-opacity:0.1; fill:none\" points=\"256.209,662.54 2352.76,662.54 \"/>\n<polyline clip-path=\"url(#clip562)\" style=\"stroke:#000000; stroke-linecap:round; stroke-linejoin:round; stroke-width:2; stroke-opacity:0.1; fill:none\" points=\"256.209,443.55 2352.76,443.55 \"/>\n<polyline clip-path=\"url(#clip562)\" style=\"stroke:#000000; stroke-linecap:round; stroke-linejoin:round; stroke-width:2; stroke-opacity:0.1; fill:none\" points=\"256.209,224.56 2352.76,224.56 \"/>\n<polyline clip-path=\"url(#clip560)\" style=\"stroke:#000000; stroke-linecap:round; stroke-linejoin:round; stroke-width:4; stroke-opacity:1; fill:none\" points=\"256.209,1423.18 256.209,123.472 \"/>\n<polyline clip-path=\"url(#clip560)\" style=\"stroke:#000000; stroke-linecap:round; stroke-linejoin:round; stroke-width:4; stroke-opacity:1; fill:none\" points=\"256.209,1319.51 275.106,1319.51 \"/>\n<polyline clip-path=\"url(#clip560)\" style=\"stroke:#000000; stroke-linecap:round; stroke-linejoin:round; stroke-width:4; stroke-opacity:1; fill:none\" points=\"256.209,1100.52 275.106,1100.52 \"/>\n<polyline clip-path=\"url(#clip560)\" style=\"stroke:#000000; stroke-linecap:round; stroke-linejoin:round; stroke-width:4; stroke-opacity:1; fill:none\" points=\"256.209,881.53 275.106,881.53 \"/>\n<polyline clip-path=\"url(#clip560)\" style=\"stroke:#000000; stroke-linecap:round; stroke-linejoin:round; stroke-width:4; stroke-opacity:1; fill:none\" points=\"256.209,662.54 275.106,662.54 \"/>\n<polyline clip-path=\"url(#clip560)\" style=\"stroke:#000000; stroke-linecap:round; stroke-linejoin:round; stroke-width:4; stroke-opacity:1; fill:none\" points=\"256.209,443.55 275.106,443.55 \"/>\n<polyline clip-path=\"url(#clip560)\" style=\"stroke:#000000; stroke-linecap:round; stroke-linejoin:round; stroke-width:4; stroke-opacity:1; fill:none\" points=\"256.209,224.56 275.106,224.56 \"/>\n<path clip-path=\"url(#clip560)\" d=\"M114.26 1319.96 L143.936 1319.96 L143.936 1323.9 L114.26 1323.9 L114.26 1319.96 Z\" fill=\"#000000\" fill-rule=\"evenodd\" fill-opacity=\"1\" /><path clip-path=\"url(#clip560)\" d=\"M164.028 1305.31 Q160.417 1305.31 158.589 1308.87 Q156.783 1312.42 156.783 1319.54 Q156.783 1326.65 158.589 1330.22 Q160.417 1333.76 164.028 1333.76 Q167.663 1333.76 169.468 1330.22 Q171.297 1326.65 171.297 1319.54 Q171.297 1312.42 169.468 1308.87 Q167.663 1305.31 164.028 1305.31 M164.028 1301.61 Q169.839 1301.61 172.894 1306.21 Q175.973 1310.79 175.973 1319.54 Q175.973 1328.27 172.894 1332.88 Q169.839 1337.46 164.028 1337.46 Q158.218 1337.46 155.14 1332.88 Q152.084 1328.27 152.084 1319.54 Q152.084 1310.79 155.14 1306.21 Q158.218 1301.61 164.028 1301.61 Z\" fill=\"#000000\" fill-rule=\"evenodd\" fill-opacity=\"1\" /><path clip-path=\"url(#clip560)\" d=\"M184.19 1330.91 L189.075 1330.91 L189.075 1336.79 L184.19 1336.79 L184.19 1330.91 Z\" fill=\"#000000\" fill-rule=\"evenodd\" fill-opacity=\"1\" /><path clip-path=\"url(#clip560)\" d=\"M199.306 1302.23 L217.662 1302.23 L217.662 1306.17 L203.588 1306.17 L203.588 1314.64 Q204.607 1314.29 205.625 1314.13 Q206.644 1313.94 207.662 1313.94 Q213.449 1313.94 216.829 1317.11 Q220.209 1320.29 220.209 1325.7 Q220.209 1331.28 216.736 1334.38 Q213.264 1337.46 206.945 1337.46 Q204.769 1337.46 202.5 1337.09 Q200.255 1336.72 197.848 1335.98 L197.848 1331.28 Q199.931 1332.42 202.153 1332.97 Q204.375 1333.53 206.852 1333.53 Q210.857 1333.53 213.195 1331.42 Q215.533 1329.31 215.533 1325.7 Q215.533 1322.09 213.195 1319.98 Q210.857 1317.88 206.852 1317.88 Q204.977 1317.88 203.102 1318.29 Q201.25 1318.71 199.306 1319.59 L199.306 1302.23 Z\" fill=\"#000000\" fill-rule=\"evenodd\" fill-opacity=\"1\" /><path clip-path=\"url(#clip560)\" d=\"M163.033 1086.32 Q159.422 1086.32 157.593 1089.88 Q155.788 1093.43 155.788 1100.55 Q155.788 1107.66 157.593 1111.23 Q159.422 1114.77 163.033 1114.77 Q166.667 1114.77 168.473 1111.23 Q170.302 1107.66 170.302 1100.55 Q170.302 1093.43 168.473 1089.88 Q166.667 1086.32 163.033 1086.32 M163.033 1082.62 Q168.843 1082.62 171.899 1087.22 Q174.977 1091.8 174.977 1100.55 Q174.977 1109.28 171.899 1113.89 Q168.843 1118.47 163.033 1118.47 Q157.223 1118.47 154.144 1113.89 Q151.089 1109.28 151.089 1100.55 Q151.089 1091.8 154.144 1087.22 Q157.223 1082.62 163.033 1082.62 Z\" fill=\"#000000\" fill-rule=\"evenodd\" fill-opacity=\"1\" /><path clip-path=\"url(#clip560)\" d=\"M183.195 1111.92 L188.079 1111.92 L188.079 1117.8 L183.195 1117.8 L183.195 1111.92 Z\" fill=\"#000000\" fill-rule=\"evenodd\" fill-opacity=\"1\" /><path clip-path=\"url(#clip560)\" d=\"M208.264 1086.32 Q204.653 1086.32 202.824 1089.88 Q201.019 1093.43 201.019 1100.55 Q201.019 1107.66 202.824 1111.23 Q204.653 1114.77 208.264 1114.77 Q211.899 1114.77 213.704 1111.23 Q215.533 1107.66 215.533 1100.55 Q215.533 1093.43 213.704 1089.88 Q211.899 1086.32 208.264 1086.32 M208.264 1082.62 Q214.074 1082.62 217.13 1087.22 Q220.209 1091.8 220.209 1100.55 Q220.209 1109.28 217.13 1113.89 Q214.074 1118.47 208.264 1118.47 Q202.454 1118.47 199.375 1113.89 Q196.32 1109.28 196.32 1100.55 Q196.32 1091.8 199.375 1087.22 Q202.454 1082.62 208.264 1082.62 Z\" fill=\"#000000\" fill-rule=\"evenodd\" fill-opacity=\"1\" /><path clip-path=\"url(#clip560)\" d=\"M164.028 867.329 Q160.417 867.329 158.589 870.893 Q156.783 874.435 156.783 881.565 Q156.783 888.671 158.589 892.236 Q160.417 895.778 164.028 895.778 Q167.663 895.778 169.468 892.236 Q171.297 888.671 171.297 881.565 Q171.297 874.435 169.468 870.893 Q167.663 867.329 164.028 867.329 M164.028 863.625 Q169.839 863.625 172.894 868.231 Q175.973 872.815 175.973 881.565 Q175.973 890.291 172.894 894.898 Q169.839 899.481 164.028 899.481 Q158.218 899.481 155.14 894.898 Q152.084 890.291 152.084 881.565 Q152.084 872.815 155.14 868.231 Q158.218 863.625 164.028 863.625 Z\" fill=\"#000000\" fill-rule=\"evenodd\" fill-opacity=\"1\" /><path clip-path=\"url(#clip560)\" d=\"M184.19 892.93 L189.075 892.93 L189.075 898.81 L184.19 898.81 L184.19 892.93 Z\" fill=\"#000000\" fill-rule=\"evenodd\" fill-opacity=\"1\" /><path clip-path=\"url(#clip560)\" d=\"M199.306 864.25 L217.662 864.25 L217.662 868.185 L203.588 868.185 L203.588 876.657 Q204.607 876.31 205.625 876.148 Q206.644 875.963 207.662 875.963 Q213.449 875.963 216.829 879.134 Q220.209 882.305 220.209 887.722 Q220.209 893.301 216.736 896.403 Q213.264 899.481 206.945 899.481 Q204.769 899.481 202.5 899.111 Q200.255 898.74 197.848 898 L197.848 893.301 Q199.931 894.435 202.153 894.991 Q204.375 895.546 206.852 895.546 Q210.857 895.546 213.195 893.44 Q215.533 891.333 215.533 887.722 Q215.533 884.111 213.195 882.004 Q210.857 879.898 206.852 879.898 Q204.977 879.898 203.102 880.315 Q201.25 880.731 199.306 881.611 L199.306 864.25 Z\" fill=\"#000000\" fill-rule=\"evenodd\" fill-opacity=\"1\" /><path clip-path=\"url(#clip560)\" d=\"M153.843 675.885 L161.482 675.885 L161.482 649.519 L153.172 651.186 L153.172 646.927 L161.436 645.26 L166.112 645.26 L166.112 675.885 L173.751 675.885 L173.751 679.82 L153.843 679.82 L153.843 675.885 Z\" fill=\"#000000\" fill-rule=\"evenodd\" fill-opacity=\"1\" /><path clip-path=\"url(#clip560)\" d=\"M183.195 673.94 L188.079 673.94 L188.079 679.82 L183.195 679.82 L183.195 673.94 Z\" fill=\"#000000\" fill-rule=\"evenodd\" fill-opacity=\"1\" /><path clip-path=\"url(#clip560)\" d=\"M208.264 648.339 Q204.653 648.339 202.824 651.903 Q201.019 655.445 201.019 662.575 Q201.019 669.681 202.824 673.246 Q204.653 676.787 208.264 676.787 Q211.899 676.787 213.704 673.246 Q215.533 669.681 215.533 662.575 Q215.533 655.445 213.704 651.903 Q211.899 648.339 208.264 648.339 M208.264 644.635 Q214.074 644.635 217.13 649.241 Q220.209 653.825 220.209 662.575 Q220.209 671.301 217.13 675.908 Q214.074 680.491 208.264 680.491 Q202.454 680.491 199.375 675.908 Q196.32 671.301 196.32 662.575 Q196.32 653.825 199.375 649.241 Q202.454 644.635 208.264 644.635 Z\" fill=\"#000000\" fill-rule=\"evenodd\" fill-opacity=\"1\" /><path clip-path=\"url(#clip560)\" d=\"M154.839 456.895 L162.477 456.895 L162.477 430.529 L154.167 432.196 L154.167 427.936 L162.431 426.27 L167.107 426.27 L167.107 456.895 L174.746 456.895 L174.746 460.83 L154.839 460.83 L154.839 456.895 Z\" fill=\"#000000\" fill-rule=\"evenodd\" fill-opacity=\"1\" /><path clip-path=\"url(#clip560)\" d=\"M184.19 454.95 L189.075 454.95 L189.075 460.83 L184.19 460.83 L184.19 454.95 Z\" fill=\"#000000\" fill-rule=\"evenodd\" fill-opacity=\"1\" /><path clip-path=\"url(#clip560)\" d=\"M199.306 426.27 L217.662 426.27 L217.662 430.205 L203.588 430.205 L203.588 438.677 Q204.607 438.33 205.625 438.168 Q206.644 437.983 207.662 437.983 Q213.449 437.983 216.829 441.154 Q220.209 444.325 220.209 449.742 Q220.209 455.321 216.736 458.422 Q213.264 461.501 206.945 461.501 Q204.769 461.501 202.5 461.131 Q200.255 460.76 197.848 460.02 L197.848 455.321 Q199.931 456.455 202.153 457.01 Q204.375 457.566 206.852 457.566 Q210.857 457.566 213.195 455.459 Q215.533 453.353 215.533 449.742 Q215.533 446.131 213.195 444.024 Q210.857 441.918 206.852 441.918 Q204.977 441.918 203.102 442.335 Q201.25 442.751 199.306 443.631 L199.306 426.27 Z\" fill=\"#000000\" fill-rule=\"evenodd\" fill-opacity=\"1\" /><path clip-path=\"url(#clip560)\" d=\"M157.061 237.905 L173.38 237.905 L173.38 241.84 L151.436 241.84 L151.436 237.905 Q154.098 235.15 158.681 230.52 Q163.288 225.868 164.468 224.525 Q166.714 222.002 167.593 220.266 Q168.496 218.507 168.496 216.817 Q168.496 214.062 166.552 212.326 Q164.63 210.59 161.528 210.59 Q159.329 210.59 156.876 211.354 Q154.445 212.118 151.667 213.669 L151.667 208.946 Q154.491 207.812 156.945 207.233 Q159.399 206.655 161.436 206.655 Q166.806 206.655 170.001 209.34 Q173.195 212.025 173.195 216.516 Q173.195 218.645 172.385 220.567 Q171.598 222.465 169.491 225.057 Q168.913 225.729 165.811 228.946 Q162.709 232.141 157.061 237.905 Z\" fill=\"#000000\" fill-rule=\"evenodd\" fill-opacity=\"1\" /><path clip-path=\"url(#clip560)\" d=\"M183.195 235.96 L188.079 235.96 L188.079 241.84 L183.195 241.84 L183.195 235.96 Z\" fill=\"#000000\" fill-rule=\"evenodd\" fill-opacity=\"1\" /><path clip-path=\"url(#clip560)\" d=\"M208.264 210.358 Q204.653 210.358 202.824 213.923 Q201.019 217.465 201.019 224.594 Q201.019 231.701 202.824 235.266 Q204.653 238.807 208.264 238.807 Q211.899 238.807 213.704 235.266 Q215.533 231.701 215.533 224.594 Q215.533 217.465 213.704 213.923 Q211.899 210.358 208.264 210.358 M208.264 206.655 Q214.074 206.655 217.13 211.261 Q220.209 215.844 220.209 224.594 Q220.209 233.321 217.13 237.928 Q214.074 242.511 208.264 242.511 Q202.454 242.511 199.375 237.928 Q196.32 233.321 196.32 224.594 Q196.32 215.844 199.375 211.261 Q202.454 206.655 208.264 206.655 Z\" fill=\"#000000\" fill-rule=\"evenodd\" fill-opacity=\"1\" /><path clip-path=\"url(#clip560)\" d=\"M28.3562 756.711 L45.7028 769.602 L64.0042 756.043 L64.0042 762.95 L49.9996 773.326 L64.0042 783.702 L64.0042 790.609 L45.3526 776.763 L28.3562 789.431 L28.3562 782.524 L41.0558 773.071 L28.3562 763.618 L28.3562 756.711 Z\" fill=\"#000000\" fill-rule=\"evenodd\" fill-opacity=\"1\" /><path clip-path=\"url(#clip560)\" d=\"M962.525 14.0809 L962.525 22.0612 Q957.867 19.8332 953.735 18.7395 Q949.603 17.6457 945.754 17.6457 Q939.07 17.6457 935.425 20.2383 Q931.819 22.8309 931.819 27.611 Q931.819 31.6214 934.209 33.6873 Q936.64 35.7128 943.364 36.9686 L948.307 37.9813 Q957.462 39.7232 961.796 44.1387 Q966.171 48.5136 966.171 55.8863 Q966.171 64.6767 960.257 69.2137 Q954.383 73.7508 943 73.7508 Q938.706 73.7508 933.845 72.7785 Q929.024 71.8063 923.839 69.9024 L923.839 61.4765 Q928.822 64.2716 933.602 65.6895 Q938.382 67.1073 943 67.1073 Q950.008 67.1073 953.816 64.3527 Q957.624 61.598 957.624 56.4939 Q957.624 52.0379 954.869 49.5264 Q952.155 47.0148 945.916 45.759 L940.934 44.7868 Q931.779 42.9639 927.687 39.075 Q923.596 35.1862 923.596 28.2591 Q923.596 20.2383 929.227 15.6203 Q934.898 11.0023 944.823 11.0023 Q949.076 11.0023 953.492 11.7719 Q957.907 12.5416 962.525 14.0809 Z\" fill=\"#000000\" fill-rule=\"evenodd\" fill-opacity=\"1\" /><path clip-path=\"url(#clip560)\" d=\"M985.98 14.324 L985.98 27.2059 L1001.33 27.2059 L1001.33 32.9987 L985.98 32.9987 L985.98 57.6282 Q985.98 63.1779 987.479 64.7578 Q989.018 66.3376 993.677 66.3376 L1001.33 66.3376 L1001.33 72.576 L993.677 72.576 Q985.048 72.576 981.767 69.3758 Q978.486 66.1351 978.486 57.6282 L978.486 32.9987 L973.017 32.9987 L973.017 27.2059 L978.486 27.2059 L978.486 14.324 L985.98 14.324 Z\" fill=\"#000000\" fill-rule=\"evenodd\" fill-opacity=\"1\" /><path clip-path=\"url(#clip560)\" d=\"M1031.76 49.7694 Q1022.72 49.7694 1019.24 51.8354 Q1015.75 53.9013 1015.75 58.8839 Q1015.75 62.8538 1018.35 65.2034 Q1020.98 67.5124 1025.48 67.5124 Q1031.67 67.5124 1035.4 63.1374 Q1039.17 58.7219 1039.17 51.4303 L1039.17 49.7694 L1031.76 49.7694 M1046.62 46.6907 L1046.62 72.576 L1039.17 72.576 L1039.17 65.6895 Q1036.62 69.8214 1032.81 71.8063 Q1029 73.7508 1023.49 73.7508 Q1016.52 73.7508 1012.39 69.8619 Q1008.3 65.9325 1008.3 59.3701 Q1008.3 51.7138 1013.4 47.825 Q1018.55 43.9361 1028.72 43.9361 L1039.17 43.9361 L1039.17 43.2069 Q1039.17 38.0623 1035.77 35.2672 Q1032.4 32.4315 1026.29 32.4315 Q1022.4 32.4315 1018.71 33.3632 Q1015.02 34.295 1011.62 36.1584 L1011.62 29.2718 Q1015.71 27.692 1019.56 26.9223 Q1023.41 26.1121 1027.06 26.1121 Q1036.9 26.1121 1041.76 31.2163 Q1046.62 36.3204 1046.62 46.6907 Z\" fill=\"#000000\" fill-rule=\"evenodd\" fill-opacity=\"1\" /><path clip-path=\"url(#clip560)\" d=\"M1069.35 14.324 L1069.35 27.2059 L1084.7 27.2059 L1084.7 32.9987 L1069.35 32.9987 L1069.35 57.6282 Q1069.35 63.1779 1070.85 64.7578 Q1072.39 66.3376 1077.04 66.3376 L1084.7 66.3376 L1084.7 72.576 L1077.04 72.576 Q1068.42 72.576 1065.13 69.3758 Q1061.85 66.1351 1061.85 57.6282 L1061.85 32.9987 L1056.38 32.9987 L1056.38 27.2059 L1061.85 27.2059 L1061.85 14.324 L1069.35 14.324 Z\" fill=\"#000000\" fill-rule=\"evenodd\" fill-opacity=\"1\" /><path clip-path=\"url(#clip560)\" d=\"M1133.31 48.0275 L1133.31 51.6733 L1099.04 51.6733 Q1099.53 59.3701 1103.66 63.421 Q1107.83 67.4314 1115.24 67.4314 Q1119.54 67.4314 1123.55 66.3781 Q1127.6 65.3249 1131.57 63.2184 L1131.57 70.267 Q1127.56 71.9684 1123.35 72.8596 Q1119.13 73.7508 1114.8 73.7508 Q1103.94 73.7508 1097.58 67.4314 Q1091.26 61.1119 1091.26 50.3365 Q1091.26 39.1965 1097.26 32.6746 Q1103.29 26.1121 1113.5 26.1121 Q1122.66 26.1121 1127.96 32.0264 Q1133.31 37.9003 1133.31 48.0275 M1125.86 45.84 Q1125.78 39.7232 1122.41 36.0774 Q1119.09 32.4315 1113.58 32.4315 Q1107.35 32.4315 1103.58 35.9558 Q1099.85 39.4801 1099.28 45.8805 L1125.86 45.84 Z\" fill=\"#000000\" fill-rule=\"evenodd\" fill-opacity=\"1\" /><path clip-path=\"url(#clip560)\" d=\"M1172.24 12.096 L1210.48 12.096 L1210.48 18.9825 L1180.42 18.9825 L1180.42 36.8875 L1209.23 36.8875 L1209.23 43.7741 L1180.42 43.7741 L1180.42 65.6895 L1211.21 65.6895 L1211.21 72.576 L1172.24 72.576 L1172.24 12.096 Z\" fill=\"#000000\" fill-rule=\"evenodd\" fill-opacity=\"1\" /><path clip-path=\"url(#clip560)\" d=\"M1250.63 34.1734 Q1249.37 33.4443 1247.87 33.1202 Q1246.41 32.7556 1244.63 32.7556 Q1238.31 32.7556 1234.91 36.8875 Q1231.55 40.9789 1231.55 48.6757 L1231.55 72.576 L1224.05 72.576 L1224.05 27.2059 L1231.55 27.2059 L1231.55 34.2544 Q1233.9 30.1225 1237.66 28.1376 Q1241.43 26.1121 1246.82 26.1121 Q1247.59 26.1121 1248.52 26.2337 Q1249.45 26.3147 1250.59 26.5172 L1250.63 34.1734 Z\" fill=\"#000000\" fill-rule=\"evenodd\" fill-opacity=\"1\" /><path clip-path=\"url(#clip560)\" d=\"M1283.28 34.1734 Q1282.02 33.4443 1280.52 33.1202 Q1279.06 32.7556 1277.28 32.7556 Q1270.96 32.7556 1267.56 36.8875 Q1264.2 40.9789 1264.2 48.6757 L1264.2 72.576 L1256.7 72.576 L1256.7 27.2059 L1264.2 27.2059 L1264.2 34.2544 Q1266.55 30.1225 1270.31 28.1376 Q1274.08 26.1121 1279.47 26.1121 Q1280.24 26.1121 1281.17 26.2337 Q1282.1 26.3147 1283.24 26.5172 L1283.28 34.1734 Z\" fill=\"#000000\" fill-rule=\"evenodd\" fill-opacity=\"1\" /><path clip-path=\"url(#clip560)\" d=\"M1306.85 32.4315 Q1300.86 32.4315 1297.37 37.1306 Q1293.89 41.7891 1293.89 49.9314 Q1293.89 58.0738 1297.33 62.7728 Q1300.82 67.4314 1306.85 67.4314 Q1312.81 67.4314 1316.29 62.7323 Q1319.77 58.0333 1319.77 49.9314 Q1319.77 41.8701 1316.29 37.1711 Q1312.81 32.4315 1306.85 32.4315 M1306.85 26.1121 Q1316.57 26.1121 1322.12 32.4315 Q1327.67 38.7509 1327.67 49.9314 Q1327.67 61.0714 1322.12 67.4314 Q1316.57 73.7508 1306.85 73.7508 Q1297.09 73.7508 1291.54 67.4314 Q1286.03 61.0714 1286.03 49.9314 Q1286.03 38.7509 1291.54 32.4315 Q1297.09 26.1121 1306.85 26.1121 Z\" fill=\"#000000\" fill-rule=\"evenodd\" fill-opacity=\"1\" /><path clip-path=\"url(#clip560)\" d=\"M1366.32 34.1734 Q1365.06 33.4443 1363.56 33.1202 Q1362.11 32.7556 1360.32 32.7556 Q1354 32.7556 1350.6 36.8875 Q1347.24 40.9789 1347.24 48.6757 L1347.24 72.576 L1339.75 72.576 L1339.75 27.2059 L1347.24 27.2059 L1347.24 34.2544 Q1349.59 30.1225 1353.36 28.1376 Q1357.12 26.1121 1362.51 26.1121 Q1363.28 26.1121 1364.21 26.2337 Q1365.14 26.3147 1366.28 26.5172 L1366.32 34.1734 Z\" fill=\"#000000\" fill-rule=\"evenodd\" fill-opacity=\"1\" /><path clip-path=\"url(#clip560)\" d=\"M1400.83 12.096 L1409.02 12.096 L1409.02 36.8875 L1438.75 36.8875 L1438.75 12.096 L1446.93 12.096 L1446.93 72.576 L1438.75 72.576 L1438.75 43.7741 L1409.02 43.7741 L1409.02 72.576 L1400.83 72.576 L1400.83 12.096 Z\" fill=\"#000000\" fill-rule=\"evenodd\" fill-opacity=\"1\" /><path clip-path=\"url(#clip560)\" d=\"M1462.89 27.2059 L1470.35 27.2059 L1470.35 72.576 L1462.89 72.576 L1462.89 27.2059 M1462.89 9.54393 L1470.35 9.54393 L1470.35 18.9825 L1462.89 18.9825 L1462.89 9.54393 Z\" fill=\"#000000\" fill-rule=\"evenodd\" fill-opacity=\"1\" /><path clip-path=\"url(#clip560)\" d=\"M1514.87 28.5427 L1514.87 35.5912 Q1511.71 33.9709 1508.3 33.1607 Q1504.9 32.3505 1501.25 32.3505 Q1495.71 32.3505 1492.91 34.0519 Q1490.16 35.7533 1490.16 39.156 Q1490.16 41.7486 1492.14 43.2475 Q1494.13 44.7058 1500.12 46.0426 L1502.67 46.6097 Q1510.61 48.3111 1513.93 51.4303 Q1517.3 54.509 1517.3 60.0587 Q1517.3 66.3781 1512.27 70.0644 Q1507.29 73.7508 1498.54 73.7508 Q1494.9 73.7508 1490.93 73.0216 Q1487 72.3329 1482.62 70.9151 L1482.62 63.2184 Q1486.75 65.3654 1490.76 66.4591 Q1494.77 67.5124 1498.7 67.5124 Q1503.97 67.5124 1506.8 65.73 Q1509.64 63.9071 1509.64 60.6258 Q1509.64 57.5877 1507.57 55.9673 Q1505.55 54.3469 1498.62 52.8481 L1496.03 52.2405 Q1489.1 50.7821 1486.02 47.7845 Q1482.94 44.7463 1482.94 39.4801 Q1482.94 33.0797 1487.48 29.5959 Q1492.02 26.1121 1500.36 26.1121 Q1504.5 26.1121 1508.14 26.7198 Q1511.79 27.3274 1514.87 28.5427 Z\" fill=\"#000000\" fill-rule=\"evenodd\" fill-opacity=\"1\" /><path clip-path=\"url(#clip560)\" d=\"M1536.54 14.324 L1536.54 27.2059 L1551.89 27.2059 L1551.89 32.9987 L1536.54 32.9987 L1536.54 57.6282 Q1536.54 63.1779 1538.04 64.7578 Q1539.58 66.3376 1544.24 66.3376 L1551.89 66.3376 L1551.89 72.576 L1544.24 72.576 Q1535.61 72.576 1532.33 69.3758 Q1529.04 66.1351 1529.04 57.6282 L1529.04 32.9987 L1523.58 32.9987 L1523.58 27.2059 L1529.04 27.2059 L1529.04 14.324 L1536.54 14.324 Z\" fill=\"#000000\" fill-rule=\"evenodd\" fill-opacity=\"1\" /><path clip-path=\"url(#clip560)\" d=\"M1579.28 32.4315 Q1573.28 32.4315 1569.8 37.1306 Q1566.31 41.7891 1566.31 49.9314 Q1566.31 58.0738 1569.76 62.7728 Q1573.24 67.4314 1579.28 67.4314 Q1585.23 67.4314 1588.71 62.7323 Q1592.2 58.0333 1592.2 49.9314 Q1592.2 41.8701 1588.71 37.1711 Q1585.23 32.4315 1579.28 32.4315 M1579.28 26.1121 Q1589 26.1121 1594.55 32.4315 Q1600.1 38.7509 1600.1 49.9314 Q1600.1 61.0714 1594.55 67.4314 Q1589 73.7508 1579.28 73.7508 Q1569.51 73.7508 1563.96 67.4314 Q1558.45 61.0714 1558.45 49.9314 Q1558.45 38.7509 1563.96 32.4315 Q1569.51 26.1121 1579.28 26.1121 Z\" fill=\"#000000\" fill-rule=\"evenodd\" fill-opacity=\"1\" /><path clip-path=\"url(#clip560)\" d=\"M1638.74 34.1734 Q1637.49 33.4443 1635.99 33.1202 Q1634.53 32.7556 1632.75 32.7556 Q1626.43 32.7556 1623.03 36.8875 Q1619.66 40.9789 1619.66 48.6757 L1619.66 72.576 L1612.17 72.576 L1612.17 27.2059 L1619.66 27.2059 L1619.66 34.2544 Q1622.01 30.1225 1625.78 28.1376 Q1629.55 26.1121 1634.93 26.1121 Q1635.7 26.1121 1636.64 26.2337 Q1637.57 26.3147 1638.7 26.5172 L1638.74 34.1734 Z\" fill=\"#000000\" fill-rule=\"evenodd\" fill-opacity=\"1\" /><path clip-path=\"url(#clip560)\" d=\"M1665.44 76.7889 Q1662.28 84.8907 1659.28 87.3618 Q1656.28 89.8329 1651.26 89.8329 L1645.31 89.8329 L1645.31 83.5945 L1649.68 83.5945 Q1652.76 83.5945 1654.46 82.1361 Q1656.16 80.6778 1658.23 75.2496 L1659.56 71.8468 L1641.21 27.2059 L1649.11 27.2059 L1663.29 62.6918 L1677.47 27.2059 L1685.37 27.2059 L1665.44 76.7889 Z\" fill=\"#000000\" fill-rule=\"evenodd\" fill-opacity=\"1\" /><polyline clip-path=\"url(#clip562)\" style=\"stroke:#009af9; stroke-linecap:round; stroke-linejoin:round; stroke-width:4; stroke-opacity:1; fill:none\" points=\"315.545,1126.56 322.634,1323.89 329.723,1362.94 336.812,1372.83 343.902,1367.06 350.991,1352.89 358.08,1382.1 365.169,1386.4 372.258,1318.24 379.347,1314.33 386.436,1204.07 393.526,1078.35 400.615,1158.8 407.704,1303.61 414.793,1355.79 421.882,1371.11 428.971,1379.31 436.061,1279.17 443.15,1275.7 450.239,1312.82 457.328,1234.33 464.417,1133.52 471.506,1176.12 478.596,1240.38 485.685,1187.91 492.774,1164.04 499.863,1156.77 506.952,1157.78 514.041,1151.81 521.13,1220.78 528.22,1224.7 535.309,1258.22 542.398,1274.31 549.487,1304.14 556.576,1271.45 563.665,1309.45 570.755,1320.25 577.844,1356.59 584.933,1331.02 592.022,1360.73 599.111,1326.54 606.2,1361.52 613.289,1369.78 620.379,1212.31 627.468,1284.14 634.557,1279.98 641.646,1230.69 648.735,1158.51 655.824,1139.12 662.914,1173.63 670.003,1162.13 677.092,1108.6 684.181,986.826 691.27,980.421 698.359,1006.28 705.449,1031.29 712.538,1010.62 719.627,1017.24 726.716,992.135 733.805,1016.13 740.894,1042.42 747.983,1030.73 755.073,1014.71 762.162,1010.66 769.251,1050.89 776.34,1042.81 783.429,1063.71 790.518,1066.48 797.608,1062.2 804.697,1096.51 811.786,1113.49 818.875,1167.98 825.964,1181.71 833.053,1154.37 840.143,1140.77 847.232,1107.77 854.321,1075.99 861.41,1095.96 868.499,1141.95 875.588,1156.03 882.677,1195.86 889.767,1229.67 896.856,1254.68 903.945,1238.72 911.034,1246.06 918.123,1253.91 925.212,1256.91 932.302,1250.4 939.391,1235.32 946.48,1228.03 953.569,1222.81 960.658,1234.58 967.747,1242.56 974.836,1234.85 981.926,1250.91 989.015,1249.3 996.104,1250.33 1003.19,1247.24 1010.28,1248.08 1017.37,1234.73 1024.46,1232.8 1031.55,1244.78 1038.64,1242.55 1045.73,1240.66 1052.82,1215.25 1059.91,1209 1067,1207.16 1074.08,1193.83 1081.17,1218.84 1088.26,1197.52 1095.35,1217.56 1102.44,1229.1 1109.53,1243.29 1116.62,1253.93 1123.71,1274.25 1130.8,1262.39 1137.89,1255.09 1144.98,1245.16 1152.07,1247.73 1159.15,1255.97 1166.24,1279.93 1173.33,1285.32 1180.42,1274.5 1187.51,1295.97 1194.6,1297.88 1201.69,1273.26 1208.78,1274.07 1215.87,1276.55 1222.96,1264.87 1230.05,1252.59 1237.14,1257.17 1244.22,1258.69 1251.31,1258.68 1258.4,1259.86 1265.49,1243.61 1272.58,1228.03 1279.67,1235.63 1286.76,1246.18 1293.85,1237.51 1300.94,1236.99 1308.03,1238.92 1315.12,1236.67 1322.21,1208.51 1329.29,1220.56 1336.38,1216.94 1343.47,1227.69 1350.56,1220.56 1357.65,1236.62 1364.74,1235.95 1371.83,1240.15 1378.92,1233.35 1386.01,1229.29 1393.1,1227.84 1400.19,1221.16 1407.28,1216.23 1414.36,1219.64 1421.45,1213.26 1428.54,1211.35 1435.63,1202.34 1442.72,1198.87 1449.81,1197.79 1456.9,1193.02 1463.99,1195.34 1471.08,1182.84 1478.17,1174.6 1485.26,1177.97 1492.34,1174.68 1499.43,1172.43 1506.52,1157.12 1513.61,1152.14 1520.7,1146.6 1527.79,1150.51 1534.88,1157.58 1541.97,1166.16 1549.06,1160.45 1556.15,1163.47 1563.24,1159.47 1570.33,1152.63 1577.41,1141.25 1584.5,1132.46 1591.59,1134.06 1598.68,1134.66 1605.77,1141.28 1612.86,1143.93 1619.95,1140.96 1627.04,1138.95 1634.13,1145.21 1641.22,1137.53 1648.31,1138.86 1655.4,1139.22 1662.48,1138.16 1669.57,1126.59 1676.66,1125.74 1683.75,1135.08 1690.84,1138.35 1697.93,1138.9 1705.02,1135.32 1712.11,1136.01 1719.2,1137.53 1726.29,1144.82 1733.38,1145.74 1740.47,1148.96 1747.55,1150.86 1754.64,1150.93 1761.73,1149.52 1768.82,1148.95 1775.91,1147.5 1783,1145.65 1790.09,1146.49 1797.18,1150.72 1804.27,1151.97 1811.36,1146.82 1818.45,1151.09 1825.54,1146.49 1832.62,1148.16 1839.71,1147.72 1846.8,1146.38 1853.89,1141.63 1860.98,1149.35 1868.07,1151.44 1875.16,1145.83 1882.25,1141.69 1889.34,1141.45 1896.43,1140.73 1903.52,1139.34 1910.61,1134.7 1917.69,1133.82 1924.78,1135.38 1931.87,1136.9 1938.96,1136.62 1946.05,1135.41 1953.14,1133.21 1960.23,1127.91 1967.32,1122.2 1974.41,1121.99 1981.5,1116.57 1988.59,1113.88 1995.68,1115.15 2002.76,1118.32 2009.85,1113.55 2016.94,1114.26 2024.03,1116.02 2031.12,1117.73 2038.21,1120.28 2045.3,1121.55 2052.39,1118.64 2059.48,1116.91 2066.57,1116.31 2073.66,1114.08 2080.74,1113.7 2087.83,1113.44 2094.92,1112.81 2102.01,1111.36 2109.1,1109.46 2116.19,1108.4 2123.28,1105.37 2130.37,1102.46 2137.46,1100.99 2144.55,1101.47 2151.64,1098.85 2158.73,1100.69 2165.81,1101.05 2172.9,1100.85 2179.99,1099.98 2187.08,1101.6 2194.17,1101.87 2201.26,1103.03 2208.35,1102.83 2215.44,1102.06 2222.53,1102.96 2229.62,1104.09 2236.71,1104.39 2243.8,1103.33 2250.88,1102.67 2257.97,1103.27 2265.06,1102.61 2272.15,1101.48 2279.24,1101.11 2286.33,1101.71 2293.42,1101.53 \"/>\n<polyline clip-path=\"url(#clip562)\" style=\"stroke:#e26f46; stroke-linecap:round; stroke-linejoin:round; stroke-width:4; stroke-opacity:1; fill:none\" points=\"315.545,1134.02 322.634,939.094 329.723,894.591 336.812,830.737 343.902,940.911 350.991,770.368 358.08,719.696 365.169,747.568 372.258,837.663 379.347,811.743 386.436,774.086 393.526,799.247 400.615,708.638 407.704,649.411 414.793,640.563 421.882,674.091 428.971,624.143 436.061,503.193 443.15,467.296 450.239,394.471 457.328,317.938 464.417,160.256 471.506,209.998 478.596,327.265 485.685,280.538 492.774,283.53 499.863,266.415 506.952,259.991 514.041,334.889 521.13,382.052 528.22,423.652 535.309,535.574 542.398,579.079 549.487,683.454 556.576,723.087 563.665,654.813 570.755,694.514 577.844,721.878 584.933,759.178 592.022,732.176 599.111,789.387 606.2,805.171 613.289,811.395 620.379,854.597 627.468,799.729 634.557,807.729 641.646,834.723 648.735,898.183 655.824,915.347 662.914,879.139 670.003,894.405 677.092,921.474 684.181,884.36 691.27,861.997 698.359,921.034 705.449,928.163 712.538,975.536 719.627,930.558 726.716,925.103 733.805,934.654 740.894,938.757 747.983,920.382 755.073,964.781 762.162,916.632 769.251,908.223 776.34,914.07 783.429,947.593 790.518,966.626 797.608,976.734 804.697,963.594 811.786,979.527 818.875,1002.53 825.964,993.739 833.053,1006.22 840.143,1022.67 847.232,1013.21 854.321,1026.68 861.41,1044.96 868.499,1017.4 875.588,996.513 882.677,1022.94 889.767,1049.53 896.856,1090.45 903.945,1090.37 911.034,1105.74 918.123,1099.02 925.212,1093.65 932.302,1067.49 939.391,1086.92 946.48,1084.6 953.569,1070.92 960.658,1071.14 967.747,1080.21 974.836,1062.05 981.926,1077.19 989.015,1057.64 996.104,1059.75 1003.19,1058.07 1010.28,1044.67 1017.37,1049.48 1024.46,1064.09 1031.55,1070.56 1038.64,1064.3 1045.73,1080.36 1052.82,1095.32 1059.91,1119.31 1067,1136.35 1074.08,1109.61 1081.17,1105.63 1088.26,1101.78 1095.35,1104.36 1102.44,1103.27 1109.53,1119.89 1116.62,1147.61 1123.71,1162 1130.8,1151.09 1137.89,1131.26 1144.98,1118.85 1152.07,1097.37 1159.15,1103.25 1166.24,1094.51 1173.33,1088.63 1180.42,1081.65 1187.51,1087.54 1194.6,1070.87 1201.69,1064.13 1208.78,1051.52 1215.87,1053.81 1222.96,1050.41 1230.05,1050.49 1237.14,1054.24 1244.22,1056.05 1251.31,1063.49 1258.4,1070.59 1265.49,1087.96 1272.58,1091.47 1279.67,1095.84 1286.76,1092.58 1293.85,1087.63 1300.94,1108.76 1308.03,1110.5 1315.12,1107.5 1322.21,1100.87 1329.29,1103.27 1336.38,1104.51 1343.47,1093.62 1350.56,1099.04 1357.65,1111.47 1364.74,1119.25 1371.83,1106.96 1378.92,1090.17 1386.01,1080.43 1393.1,1078.86 1400.19,1082.59 1407.28,1095.61 1414.36,1108.39 1421.45,1107.9 1428.54,1100.13 1435.63,1100.97 1442.72,1105.38 1449.81,1100.14 1456.9,1094.08 1463.99,1085.95 1471.08,1086.71 1478.17,1085.03 1485.26,1075.39 1492.34,1077.18 1499.43,1078.09 1506.52,1088.13 1513.61,1088.73 1520.7,1086.71 1527.79,1093.02 1534.88,1096 1541.97,1102.31 1549.06,1106.64 1556.15,1112.05 1563.24,1119.11 1570.33,1122.17 1577.41,1120.94 1584.5,1120.27 1591.59,1115.79 1598.68,1114.51 1605.77,1112.66 1612.86,1117.18 1619.95,1115.47 1627.04,1119.89 1634.13,1120.93 1641.22,1111.61 1648.31,1113.08 1655.4,1114.6 1662.48,1112.99 1669.57,1107.02 1676.66,1110.53 1683.75,1110.19 1690.84,1104.31 1697.93,1096.41 1705.02,1091.07 1712.11,1091.75 1719.2,1092.33 1726.29,1093.47 1733.38,1092.11 1740.47,1093.31 1747.55,1095.4 1754.64,1090 1761.73,1090.05 1768.82,1090.47 1775.91,1092.25 1783,1091.24 1790.09,1091.95 1797.18,1089.03 1804.27,1088.94 1811.36,1090.53 1818.45,1092.94 1825.54,1092.32 1832.62,1093.64 1839.71,1095.69 1846.8,1102.47 1853.89,1104.95 1860.98,1099.59 1868.07,1099.86 1875.16,1104.03 1882.25,1104.42 1889.34,1107.57 1896.43,1108.56 1903.52,1115.31 1910.61,1113.42 1917.69,1112.11 1924.78,1109.17 1931.87,1104.05 1938.96,1105.64 1946.05,1103.16 1953.14,1105.71 1960.23,1105.87 1967.32,1104.94 1974.41,1108.01 1981.5,1109.34 1988.59,1110.66 1995.68,1111.99 2002.76,1115.58 2009.85,1111.58 2016.94,1110.33 2024.03,1109.19 2031.12,1111.01 2038.21,1114.08 2045.3,1110.58 2052.39,1110.91 2059.48,1111.16 2066.57,1108.27 2073.66,1108.93 2080.74,1107.98 2087.83,1107.98 2094.92,1108.17 2102.01,1107.89 2109.1,1107.66 2116.19,1106.91 2123.28,1110.01 2130.37,1110.12 2137.46,1109.99 2144.55,1109.52 2151.64,1107.78 2158.73,1109.07 2165.81,1109.31 2172.9,1108.61 2179.99,1106.82 2187.08,1108.82 2194.17,1107.37 2201.26,1106.15 2208.35,1105.63 2215.44,1105.43 2222.53,1105.71 2229.62,1104.11 2236.71,1105.19 2243.8,1105.02 2250.88,1104.36 2257.97,1104.59 2265.06,1104.02 2272.15,1102.91 2279.24,1102.75 2286.33,1103.47 2293.42,1103.35 \"/>\n<polyline clip-path=\"url(#clip562)\" style=\"stroke:#3da44d; stroke-linecap:round; stroke-linejoin:round; stroke-width:4; stroke-opacity:1; fill:none\" points=\"315.545,1048.17 322.634,1093.74 329.723,1128.59 336.812,982.237 343.902,976.27 350.991,971.017 358.08,918.242 365.169,1054.34 372.258,948.965 379.347,796.196 386.436,725.832 393.526,622.583 400.615,512.487 407.704,592.189 414.793,562.745 421.882,579.322 428.971,470.476 436.061,564.163 443.15,593.258 450.239,543.698 457.328,465.07 464.417,445.093 471.506,355.779 478.596,357.226 485.685,320.777 492.774,381.304 499.863,505.442 506.952,518.612 514.041,534.04 521.13,566.668 528.22,590.623 535.309,606.296 542.398,644.469 549.487,573.588 556.576,484.463 563.665,467.836 570.755,485.887 577.844,453.652 584.933,501.98 592.022,522.956 599.111,494.204 606.2,514.24 613.289,517.295 620.379,544.009 627.468,573.888 634.557,640.332 641.646,704.523 648.735,694.076 655.824,698.987 662.914,795.897 670.003,846.151 677.092,865.322 684.181,893.926 691.27,826.247 698.359,810.342 705.449,799.12 712.538,828.956 719.627,780.347 726.716,782.349 733.805,773.505 740.894,781.397 747.983,809.958 755.073,795.254 762.162,792.118 769.251,815.361 776.34,826.37 783.429,818.335 790.518,847.519 797.608,856.934 804.697,861.263 811.786,859.937 818.875,867.589 825.964,867.797 833.053,883.091 840.143,897.736 847.232,941.107 854.321,959.695 861.41,985.583 868.499,963.443 875.588,1007.18 882.677,1020.3 889.767,1002.86 896.856,1014.39 903.945,1027.64 911.034,1018.81 918.123,1033.35 925.212,1058.03 932.302,1053.76 939.391,1085.31 946.48,1090.55 953.569,1088.65 960.658,1121.13 967.747,1142.28 974.836,1144.4 981.926,1146.36 989.015,1141.87 996.104,1144.2 1003.19,1126.52 1010.28,1141.47 1017.37,1137.96 1024.46,1159.54 1031.55,1168.9 1038.64,1172.73 1045.73,1195.14 1052.82,1215.39 1059.91,1215.1 1067,1204.5 1074.08,1207.26 1081.17,1175.54 1088.26,1158.89 1095.35,1171.45 1102.44,1177.4 1109.53,1189.41 1116.62,1191.98 1123.71,1195.9 1130.8,1194.57 1137.89,1193.89 1144.98,1206.92 1152.07,1186.58 1159.15,1197.31 1166.24,1223.63 1173.33,1230.92 1180.42,1237.83 1187.51,1236.06 1194.6,1230.52 1201.69,1233.28 1208.78,1241.35 1215.87,1244.78 1222.96,1240.54 1230.05,1248.65 1237.14,1254.31 1244.22,1265.02 1251.31,1269.18 1258.4,1265.05 1265.49,1248.38 1272.58,1240.04 1279.67,1230.93 1286.76,1238.24 1293.85,1234.37 1300.94,1240.84 1308.03,1236.25 1315.12,1235.81 1322.21,1254.89 1329.29,1262.98 1336.38,1265.46 1343.47,1261.46 1350.56,1244.12 1357.65,1243.22 1364.74,1251.85 1371.83,1247.83 1378.92,1238.15 1386.01,1248.64 1393.1,1246.53 1400.19,1236.97 1407.28,1234.35 1414.36,1238.95 1421.45,1234.13 1428.54,1236.04 1435.63,1243.19 1442.72,1229.59 1449.81,1219.37 1456.9,1213.04 1463.99,1220.22 1471.08,1217.8 1478.17,1211.76 1485.26,1212.22 1492.34,1207.91 1499.43,1207.75 1506.52,1209.26 1513.61,1196.92 1520.7,1175.86 1527.79,1175.05 1534.88,1172 1541.97,1175.62 1549.06,1174.07 1556.15,1176.06 1563.24,1163.88 1570.33,1160.79 1577.41,1160.24 1584.5,1155.95 1591.59,1154.67 1598.68,1151.86 1605.77,1150.6 1612.86,1155.12 1619.95,1156.85 1627.04,1148.06 1634.13,1134.96 1641.22,1135.69 1648.31,1141.23 1655.4,1145.46 1662.48,1146.87 1669.57,1151.68 1676.66,1150.3 1683.75,1147.72 1690.84,1137.81 1697.93,1137.33 1705.02,1132.78 1712.11,1128.21 1719.2,1122.09 1726.29,1125.32 1733.38,1122.93 1740.47,1122.7 1747.55,1128.74 1754.64,1134.49 1761.73,1135.19 1768.82,1132.22 1775.91,1133.2 1783,1134.46 1790.09,1132.8 1797.18,1130.86 1804.27,1127.08 1811.36,1119.11 1818.45,1112.54 1825.54,1109.77 1832.62,1101.77 1839.71,1104.24 1846.8,1105.17 1853.89,1107.43 1860.98,1103.6 1868.07,1107.42 1875.16,1107.16 1882.25,1106.21 1889.34,1105.12 1896.43,1102.54 1903.52,1104.68 1910.61,1106 1917.69,1108.24 1924.78,1105.07 1931.87,1104.78 1938.96,1099.6 1946.05,1098.13 1953.14,1101.95 1960.23,1101.69 1967.32,1103.71 1974.41,1103.12 1981.5,1098.29 1988.59,1095.57 1995.68,1092.77 2002.76,1093.14 2009.85,1090.82 2016.94,1085.69 2024.03,1088.24 2031.12,1085.51 2038.21,1083.86 2045.3,1086.58 2052.39,1089.47 2059.48,1089.89 2066.57,1088.53 2073.66,1088.66 2080.74,1090.54 2087.83,1091.11 2094.92,1092.25 2102.01,1093.56 2109.1,1093.22 2116.19,1091.4 2123.28,1092.87 2130.37,1092.12 2137.46,1092.05 2144.55,1090.77 2151.64,1089.25 2158.73,1090.21 2165.81,1087.62 2172.9,1086.76 2179.99,1085.86 2187.08,1084.72 2194.17,1085.63 2201.26,1084.82 2208.35,1085.41 2215.44,1084.72 2222.53,1083.78 2229.62,1082.54 2236.71,1081.95 2243.8,1082.62 2250.88,1082.8 2257.97,1083.43 2265.06,1083.47 2272.15,1084.11 2279.24,1083.93 2286.33,1084.33 2293.42,1084.53 \"/>\n<polyline clip-path=\"url(#clip562)\" style=\"stroke:#c271d2; stroke-linecap:round; stroke-linejoin:round; stroke-width:4; stroke-opacity:1; fill:none\" stroke-dasharray=\"16, 10\" points=\"315.545,1100.52 322.634,1100.52 329.723,1096.28 336.812,1091.5 343.902,1086.75 350.991,1082.35 358.08,1078.4 365.169,1074.11 372.258,1069.94 379.347,1067.25 386.436,1064.76 393.526,1064.49 400.615,1066.62 407.704,1067.12 414.793,1064.85 421.882,1061.71 428.971,1058.42 436.061,1055.12 443.15,1053.88 450.239,1052.77 457.328,1051.01 464.417,1050.81 471.506,1052.54 478.596,1053.38 485.685,1052.96 492.774,1053.56 499.863,1054.59 506.952,1055.71 514.041,1056.75 521.13,1057.86 528.22,1057.62 535.309,1057.29 542.398,1056.33 549.487,1055.13 556.576,1053.42 563.665,1052.4 570.755,1050.72 577.844,1048.91 584.933,1046.49 592.022,1044.67 599.111,1042.38 606.2,1040.83 613.289,1038.69 620.379,1036.51 627.468,1037.41 634.557,1036.94 641.646,1036.56 648.735,1037.13 655.824,1039.05 662.914,1041.26 670.003,1042.69 677.092,1044.28 684.181,1046.8 691.27,1051.5 698.359,1056.12 705.449,1060.03 712.538,1063.26 719.627,1066.74 726.716,1069.93 733.805,1073.44 740.894,1076.33 747.983,1078.59 755.073,1080.96 762.162,1083.53 769.251,1086.05 776.34,1087.69 783.429,1089.38 790.518,1090.61 797.608,1091.73 804.697,1092.89 811.786,1093.34 818.875,1093.44 825.964,1092.48 833.053,1091.31 840.143,1090.74 847.232,1090.42 854.321,1090.78 861.41,1091.72 868.499,1092.22 875.588,1091.83 882.677,1091.18 889.767,1089.82 896.856,1087.86 903.945,1085.52 911.034,1083.61 918.123,1081.63 925.212,1079.62 932.302,1077.65 939.391,1075.89 946.48,1074.49 953.569,1073.32 960.658,1072.28 967.747,1071.06 974.836,1069.75 981.926,1068.66 989.015,1067.32 996.104,1066.07 1003.19,1064.86 1010.28,1063.75 1017.37,1062.7 1024.46,1061.96 1031.55,1061.26 1038.64,1060.39 1045.73,1059.6 1052.82,1058.88 1059.91,1058.67 1067,1058.59 1074.08,1058.54 1081.17,1058.75 1088.26,1058.5 1095.35,1058.65 1102.44,1058.42 1109.53,1057.97 1116.62,1057.29 1123.71,1056.42 1130.8,1055.23 1137.89,1054.31 1144.98,1053.56 1152.07,1053.05 1159.15,1052.51 1166.24,1051.83 1173.33,1050.73 1180.42,1049.59 1187.51,1048.7 1194.6,1047.43 1201.69,1046.2 1208.78,1045.49 1215.87,1044.81 1222.96,1044.13 1230.05,1043.7 1237.14,1043.51 1244.22,1043.24 1251.31,1042.96 1258.4,1042.71 1265.49,1042.43 1272.58,1042.46 1279.67,1042.8 1286.76,1042.99 1293.85,1042.93 1300.94,1043.07 1308.03,1043.18 1315.12,1043.28 1322.21,1043.41 1329.29,1044.07 1336.38,1044.47 1343.47,1044.92 1350.56,1045.16 1357.65,1045.52 1364.74,1045.55 1371.83,1045.58 1378.92,1045.55 1386.01,1045.63 1393.1,1045.8 1400.19,1045.98 1407.28,1046.28 1414.36,1046.65 1421.45,1046.93 1428.54,1047.32 1435.63,1047.74 1442.72,1048.32 1449.81,1048.93 1456.9,1049.54 1463.99,1050.18 1471.08,1050.78 1478.17,1051.59 1485.26,1052.5 1492.34,1053.31 1499.43,1054.13 1506.52,1054.98 1513.61,1056.07 1520.7,1057.2 1527.79,1058.39 1534.88,1059.45 1541.97,1060.32 1549.06,1060.96 1556.15,1061.7 1563.24,1062.36 1570.33,1063.04 1577.41,1063.83 1584.5,1064.81 1591.59,1065.89 1598.68,1066.89 1605.77,1067.86 1612.86,1068.62 1619.95,1069.33 1627.04,1070.06 1634.13,1070.78 1641.22,1071.33 1648.31,1072.02 1655.4,1072.64 1662.48,1073.22 1669.57,1073.8 1676.66,1074.58 1683.75,1075.34 1690.84,1075.87 1697.93,1076.31 1705.02,1076.73 1712.11,1077.2 1719.2,1077.64 1726.29,1078 1733.38,1078.22 1740.47,1078.44 1747.55,1078.56 1754.64,1078.64 1761.73,1078.72 1768.82,1078.84 1775.91,1078.95 1783,1079.07 1790.09,1079.24 1797.18,1079.37 1804.27,1079.43 1811.36,1079.45 1818.45,1079.58 1825.54,1079.61 1832.62,1079.73 1839.71,1079.81 1846.8,1079.89 1853.89,1080 1860.98,1080.19 1868.07,1080.24 1875.16,1080.22 1882.25,1080.32 1889.34,1080.49 1896.43,1080.65 1903.52,1080.83 1910.61,1081.02 1917.69,1081.3 1924.78,1081.57 1931.87,1081.81 1938.96,1082.02 1946.05,1082.21 1953.14,1082.43 1960.23,1082.66 1967.32,1083 1974.41,1083.4 1981.5,1083.81 1988.59,1084.31 1995.68,1084.83 2002.76,1085.31 2009.85,1085.68 2016.94,1086.15 2024.03,1086.56 2031.12,1086.93 2038.21,1087.25 2045.3,1087.51 2052.39,1087.72 2059.48,1087.97 2066.57,1088.27 2073.66,1088.56 2080.74,1088.85 2087.83,1089.17 2094.92,1089.47 2102.01,1089.76 2109.1,1090.08 2116.19,1090.42 2123.28,1090.76 2130.37,1091.14 2137.46,1091.55 2144.55,1091.95 2151.64,1092.35 2158.73,1092.77 2165.81,1093.12 2172.9,1093.46 2179.99,1093.79 2187.08,1094.12 2194.17,1094.41 2201.26,1094.67 2208.35,1094.9 2215.44,1095.12 2222.53,1095.34 2229.62,1095.53 2236.71,1095.71 2243.8,1095.85 2250.88,1096.02 2257.97,1096.19 2265.06,1096.36 2272.15,1096.5 2279.24,1096.68 2286.33,1096.85 2293.42,1097 \"/>\n<polyline clip-path=\"url(#clip562)\" style=\"stroke:#ac8d18; stroke-linecap:round; stroke-linejoin:round; stroke-width:4; stroke-opacity:1; fill:none\" stroke-dasharray=\"16, 10\" points=\"315.545,1100.51 322.634,1100.52 329.723,1103.58 336.812,1107.35 343.902,1112.15 350.991,1114.63 358.08,1120.22 365.169,1126.53 372.258,1132 379.347,1135.49 386.436,1139.31 393.526,1143.67 400.615,1147.36 407.704,1152.57 414.793,1158.68 421.882,1164.66 428.971,1169.72 436.061,1175.49 443.15,1183.28 450.239,1191.37 457.328,1200.44 464.417,1210.57 471.506,1223.22 478.596,1234.3 485.685,1242.64 492.774,1251.45 499.863,1259.79 506.952,1268.06 514.041,1276.06 521.13,1282.28 528.22,1287.3 535.309,1291.29 542.398,1292.95 549.487,1293.72 556.576,1292.45 563.665,1290.47 570.755,1289.91 577.844,1288.62 584.933,1286.88 592.022,1284.49 599.111,1282.73 606.2,1279.97 613.289,1277.04 620.379,1274.15 627.468,1270.58 634.557,1268.21 641.646,1265.8 648.735,1262.99 655.824,1259.12 662.914,1255.12 670.003,1251.99 677.092,1248.71 684.181,1245.05 691.27,1242.27 698.359,1240.05 705.449,1236.82 712.538,1233.62 719.627,1229.68 726.716,1226.77 733.805,1224.12 740.894,1221.39 747.983,1218.72 755.073,1216.52 762.162,1213.58 769.251,1211.7 776.34,1210.06 783.429,1208.4 790.518,1206.18 797.608,1203.7 804.697,1201.14 811.786,1198.96 818.875,1196.57 825.964,1193.85 833.053,1191.45 840.143,1188.93 847.232,1186.2 854.321,1183.78 861.41,1181.22 868.499,1178.45 875.588,1176.32 882.677,1174.68 889.767,1172.63 896.856,1170.16 903.945,1167.03 911.034,1164.06 918.123,1160.94 925.212,1158.1 932.302,1155.48 939.391,1153.5 946.48,1151.23 953.569,1149.11 960.658,1147.37 967.747,1145.7 974.836,1143.93 981.926,1142.59 989.015,1141.04 996.104,1139.91 1003.19,1138.81 1010.28,1137.78 1017.37,1137.07 1024.46,1136.29 1031.55,1135.29 1038.64,1134.22 1045.73,1133.3 1052.82,1132.16 1059.91,1130.75 1067,1128.95 1074.08,1126.92 1081.17,1125.52 1088.26,1124.24 1095.35,1123.08 1102.44,1121.93 1109.53,1120.87 1116.62,1119.53 1123.71,1117.73 1130.8,1115.77 1137.89,1114.08 1144.98,1112.85 1152.07,1111.91 1159.15,1111.42 1166.24,1110.85 1173.33,1110.47 1180.42,1110.22 1187.51,1110.13 1194.6,1109.91 1201.69,1110.04 1208.78,1110.28 1215.87,1110.73 1222.96,1111.12 1230.05,1111.57 1237.14,1112 1244.22,1112.34 1251.31,1112.62 1258.4,1112.75 1265.49,1112.74 1272.58,1112.39 1279.67,1112 1286.76,1111.55 1293.85,1111.17 1300.94,1110.91 1308.03,1110.25 1315.12,1109.6 1322.21,1109.03 1329.29,1108.63 1336.38,1108.19 1343.47,1107.74 1350.56,1107.53 1357.65,1107.21 1364.74,1106.69 1371.83,1106.05 1378.92,1105.66 1386.01,1105.61 1393.1,1105.75 1400.19,1105.91 1407.28,1105.99 1414.36,1105.83 1421.45,1105.43 1428.54,1105.05 1435.63,1104.83 1442.72,1104.6 1449.81,1104.31 1456.9,1104.14 1463.99,1104.08 1471.08,1104.18 1478.17,1104.28 1485.26,1104.4 1492.34,1104.69 1499.43,1104.94 1506.52,1105.17 1513.61,1105.19 1520.7,1105.2 1527.79,1105.23 1534.88,1105.14 1541.97,1105.01 1549.06,1104.78 1556.15,1104.46 1563.24,1104.06 1570.33,1103.55 1577.41,1103 1584.5,1102.48 1591.59,1102.01 1598.68,1101.66 1605.77,1101.35 1612.86,1101.07 1619.95,1100.73 1627.04,1100.42 1634.13,1100.05 1641.22,1099.68 1648.31,1099.5 1655.4,1099.31 1662.48,1099.09 1669.57,1098.93 1676.66,1098.89 1683.75,1098.78 1690.84,1098.7 1697.93,1098.7 1705.02,1098.87 1712.11,1099.14 1719.2,1099.38 1726.29,1099.58 1733.38,1099.75 1740.47,1099.95 1747.55,1100.11 1754.64,1100.23 1761.73,1100.44 1768.82,1100.64 1775.91,1100.83 1783,1100.98 1790.09,1101.14 1797.18,1101.28 1804.27,1101.46 1811.36,1101.64 1818.45,1101.78 1825.54,1101.85 1832.62,1101.95 1839.71,1102.01 1846.8,1102.04 1853.89,1101.92 1860.98,1101.77 1868.07,1101.73 1875.16,1101.68 1882.25,1101.56 1889.34,1101.43 1896.43,1101.24 1903.52,1101.05 1910.61,1100.74 1917.69,1100.49 1924.78,1100.28 1931.87,1100.12 1938.96,1100.07 1946.05,1099.99 1953.14,1099.95 1960.23,1099.88 1967.32,1099.83 1974.41,1099.78 1981.5,1099.67 1988.59,1099.55 1995.68,1099.4 2002.76,1099.23 2009.85,1099.02 2016.94,1098.87 2024.03,1098.77 2031.12,1098.67 2038.21,1098.57 2045.3,1098.41 2052.39,1098.33 2059.48,1098.25 2066.57,1098.16 2073.66,1098.13 2080.74,1098.1 2087.83,1098.07 2094.92,1098.04 2102.01,1098.01 2109.1,1097.99 2116.19,1097.96 2123.28,1097.96 2130.37,1097.89 2137.46,1097.83 2144.55,1097.79 2151.64,1097.75 2158.73,1097.73 2165.81,1097.68 2172.9,1097.64 2179.99,1097.64 2187.08,1097.67 2194.17,1097.64 2201.26,1097.64 2208.35,1097.67 2215.44,1097.72 2222.53,1097.74 2229.62,1097.78 2236.71,1097.85 2243.8,1097.89 2250.88,1097.92 2257.97,1097.96 2265.06,1098 2272.15,1098.06 2279.24,1098.12 2286.33,1098.19 2293.42,1098.25 \"/>\n<polyline clip-path=\"url(#clip562)\" style=\"stroke:#00a9ad; stroke-linecap:round; stroke-linejoin:round; stroke-width:4; stroke-opacity:1; fill:none\" stroke-dasharray=\"16, 10\" points=\"315.545,1100.52 322.634,1100.53 329.723,1100.64 336.812,1100.11 343.902,1102.38 350.991,1104.66 358.08,1106.92 365.169,1110.07 372.258,1110.5 379.347,1112.92 386.436,1118.11 393.526,1124.41 400.615,1132.37 407.704,1142.04 414.793,1149.73 421.882,1157.61 428.971,1164.8 436.061,1173.7 443.15,1180.43 450.239,1186.28 457.328,1192.78 464.417,1200.47 471.506,1208.17 478.596,1217.22 485.685,1225.81 492.774,1234.67 499.863,1241.96 506.952,1246.55 514.041,1250.66 521.13,1254.28 528.22,1257.12 535.309,1259.36 542.398,1261.19 549.487,1262.22 556.576,1264.53 563.665,1268.45 570.755,1272.48 577.844,1275.98 584.933,1279.92 592.022,1282.76 599.111,1285.07 606.2,1287.82 613.289,1290.05 620.379,1292.12 627.468,1293.58 634.557,1294.41 641.646,1293.94 648.735,1292.27 655.824,1290.88 662.914,1289.46 670.003,1286.25 677.092,1282.25 684.181,1278.09 691.27,1273.57 698.359,1270.57 705.449,1267.99 712.538,1265.75 719.627,1263.06 726.716,1261.41 733.805,1259.81 740.894,1258.46 747.983,1257.01 755.073,1255.07 762.162,1253.5 769.251,1252.1 776.34,1250.31 783.429,1248.38 790.518,1246.72 797.608,1244.59 804.697,1242.37 811.786,1240.19 818.875,1238.13 825.964,1236 833.053,1233.98 840.143,1231.76 847.232,1229.36 854.321,1226.27 861.41,1222.97 868.499,1219.33 875.588,1216.29 882.677,1212.55 889.767,1208.75 896.856,1205.47 903.945,1202.11 911.034,1198.67 918.123,1195.55 925.212,1192.3 932.302,1188.74 939.391,1185.43 946.48,1181.68 953.569,1177.99 960.658,1174.54 967.747,1170.64 974.836,1166.51 981.926,1162.54 989.015,1158.71 996.104,1155.15 1003.19,1151.71 1010.28,1148.78 1017.37,1145.73 1024.46,1142.86 1031.55,1139.72 1038.64,1136.56 1045.73,1133.47 1052.82,1130.1 1059.91,1126.53 1067,1123.12 1074.08,1120.08 1081.17,1117.11 1088.26,1114.88 1095.35,1113.08 1102.44,1111.16 1109.53,1109.19 1116.62,1107.09 1123.71,1105.04 1130.8,1103.02 1137.89,1101.11 1144.98,1099.31 1152.07,1097.36 1159.15,1095.87 1166.24,1094.24 1173.33,1092.22 1180.42,1090.12 1187.51,1087.99 1194.6,1086.02 1201.69,1084.23 1208.78,1082.47 1215.87,1080.65 1222.96,1078.85 1230.05,1077.23 1237.14,1075.52 1244.22,1073.79 1251.31,1071.93 1258.4,1070.08 1265.49,1068.4 1272.58,1067.12 1279.67,1066.04 1286.76,1065.2 1293.85,1064.27 1300.94,1063.46 1308.03,1062.56 1315.12,1061.77 1322.21,1061.04 1329.29,1059.98 1336.38,1058.82 1343.47,1057.68 1350.56,1056.65 1357.65,1056.02 1364.74,1055.42 1371.83,1054.68 1378.92,1054.06 1386.01,1053.66 1393.1,1053.08 1400.19,1052.57 1407.28,1052.25 1414.36,1051.99 1421.45,1051.68 1428.54,1051.47 1435.63,1051.24 1442.72,1050.86 1449.81,1050.77 1456.9,1050.87 1463.99,1051.09 1471.08,1051.16 1478.17,1051.28 1485.26,1051.49 1492.34,1051.7 1499.43,1051.98 1506.52,1052.27 1513.61,1052.51 1520.7,1052.95 1527.79,1053.77 1534.88,1054.57 1541.97,1055.39 1549.06,1056.11 1556.15,1056.84 1563.24,1057.49 1570.33,1058.34 1577.41,1059.2 1584.5,1060.04 1591.59,1060.9 1598.68,1061.77 1605.77,1062.63 1612.86,1063.48 1619.95,1064.21 1627.04,1064.88 1634.13,1065.68 1641.22,1066.67 1648.31,1067.6 1655.4,1068.39 1662.48,1069.05 1669.57,1069.67 1676.66,1070.17 1683.75,1070.69 1690.84,1071.2 1697.93,1071.89 1705.02,1072.55 1712.11,1073.26 1719.2,1074.04 1726.29,1074.89 1733.38,1075.66 1740.47,1076.41 1747.55,1077.15 1754.64,1077.72 1761.73,1078.16 1768.82,1078.56 1775.91,1079 1783,1079.41 1790.09,1079.77 1797.18,1080.14 1804.27,1080.53 1811.36,1080.98 1818.45,1081.54 1825.54,1082.22 1832.62,1082.92 1839.71,1083.73 1846.8,1084.45 1853.89,1085.14 1860.98,1085.72 1868.07,1086.36 1875.16,1086.89 1882.25,1087.41 1889.34,1087.93 1896.43,1088.44 1903.52,1088.96 1910.61,1089.42 1917.69,1089.85 1924.78,1090.21 1931.87,1090.62 1938.96,1091.02 1946.05,1091.49 1953.14,1091.95 1960.23,1092.34 1967.32,1092.7 1974.41,1093.02 1981.5,1093.33 1988.59,1093.7 1995.68,1094.12 2002.76,1094.57 2009.85,1094.99 2016.94,1095.42 2024.03,1095.93 2031.12,1096.38 2038.21,1096.87 2045.3,1097.36 2052.39,1097.77 2059.48,1098.11 2066.57,1098.43 2073.66,1098.75 2080.74,1099.07 2087.83,1099.33 2094.92,1099.57 2102.01,1099.78 2109.1,1099.95 2116.19,1100.12 2123.28,1100.31 2130.37,1100.46 2137.46,1100.63 2144.55,1100.78 2151.64,1100.97 2158.73,1101.18 2165.81,1101.36 2172.9,1101.55 2179.99,1101.75 2187.08,1101.97 2194.17,1102.19 2201.26,1102.4 2208.35,1102.62 2215.44,1102.79 2222.53,1102.99 2229.62,1103.2 2236.71,1103.4 2243.8,1103.62 2250.88,1103.81 2257.97,1103.98 2265.06,1104.14 2272.15,1104.3 2279.24,1104.43 2286.33,1104.56 2293.42,1104.68 \"/>\n<path clip-path=\"url(#clip560)\" d=\"M2002.85 529.676 L2282.87 529.676 L2282.87 166.796 L2002.85 166.796  Z\" fill=\"#ffffff\" fill-rule=\"evenodd\" fill-opacity=\"1\"/>\n<polyline clip-path=\"url(#clip560)\" style=\"stroke:#000000; stroke-linecap:round; stroke-linejoin:round; stroke-width:4; stroke-opacity:1; fill:none\" points=\"2002.85,529.676 2282.87,529.676 2282.87,166.796 2002.85,166.796 2002.85,529.676 \"/>\n<polyline clip-path=\"url(#clip560)\" style=\"stroke:#009af9; stroke-linecap:round; stroke-linejoin:round; stroke-width:4; stroke-opacity:1; fill:none\" points=\"2026.14,218.636 2165.91,218.636 \"/>\n<path clip-path=\"url(#clip560)\" d=\"M2213.23 221.888 L2213.23 223.971 L2193.65 223.971 Q2193.93 228.369 2196.29 230.684 Q2198.67 232.976 2202.91 232.976 Q2205.36 232.976 2207.66 232.374 Q2209.97 231.772 2212.24 230.569 L2212.24 234.596 Q2209.95 235.568 2207.54 236.078 Q2205.13 236.587 2202.66 236.587 Q2196.45 236.587 2192.82 232.976 Q2189.21 229.365 2189.21 223.207 Q2189.21 216.842 2192.63 213.115 Q2196.08 209.365 2201.91 209.365 Q2207.15 209.365 2210.18 212.745 Q2213.23 216.101 2213.23 221.888 M2208.97 220.638 Q2208.93 217.143 2207.01 215.059 Q2205.11 212.976 2201.96 212.976 Q2198.4 212.976 2196.24 214.99 Q2194.11 217.004 2193.79 220.661 L2208.97 220.638 Z\" fill=\"#000000\" fill-rule=\"evenodd\" fill-opacity=\"1\" /><path clip-path=\"url(#clip560)\" d=\"M2240.94 209.99 L2231.57 222.606 L2241.43 235.916 L2236.4 235.916 L2228.86 225.731 L2221.31 235.916 L2216.29 235.916 L2226.36 222.351 L2217.15 209.99 L2222.17 209.99 L2229.04 219.226 L2235.92 209.99 L2240.94 209.99 Z\" fill=\"#000000\" fill-rule=\"evenodd\" fill-opacity=\"1\" /><path clip-path=\"url(#clip560)\" d=\"M2246.59 233.369 L2251.31 233.369 L2251.31 219.226 L2246.15 220.175 L2246.15 217.49 L2251.47 216.587 L2254.65 216.587 L2254.65 233.369 L2259.39 233.369 L2259.39 235.916 L2246.59 235.916 L2246.59 233.369 Z\" fill=\"#000000\" fill-rule=\"evenodd\" fill-opacity=\"1\" /><polyline clip-path=\"url(#clip560)\" style=\"stroke:#e26f46; stroke-linecap:round; stroke-linejoin:round; stroke-width:4; stroke-opacity:1; fill:none\" points=\"2026.14,270.476 2165.91,270.476 \"/>\n<path clip-path=\"url(#clip560)\" d=\"M2213.23 273.728 L2213.23 275.811 L2193.65 275.811 Q2193.93 280.209 2196.29 282.524 Q2198.67 284.816 2202.91 284.816 Q2205.36 284.816 2207.66 284.214 Q2209.97 283.612 2212.24 282.409 L2212.24 286.436 Q2209.95 287.408 2207.54 287.918 Q2205.13 288.427 2202.66 288.427 Q2196.45 288.427 2192.82 284.816 Q2189.21 281.205 2189.21 275.047 Q2189.21 268.682 2192.63 264.955 Q2196.08 261.205 2201.91 261.205 Q2207.15 261.205 2210.18 264.585 Q2213.23 267.941 2213.23 273.728 M2208.97 272.478 Q2208.93 268.983 2207.01 266.899 Q2205.11 264.816 2201.96 264.816 Q2198.4 264.816 2196.24 266.83 Q2194.11 268.844 2193.79 272.501 L2208.97 272.478 Z\" fill=\"#000000\" fill-rule=\"evenodd\" fill-opacity=\"1\" /><path clip-path=\"url(#clip560)\" d=\"M2240.94 261.83 L2231.57 274.446 L2241.43 287.756 L2236.4 287.756 L2228.86 277.571 L2221.31 287.756 L2216.29 287.756 L2226.36 274.191 L2217.15 261.83 L2222.17 261.83 L2229.04 271.066 L2235.92 261.83 L2240.94 261.83 Z\" fill=\"#000000\" fill-rule=\"evenodd\" fill-opacity=\"1\" /><path clip-path=\"url(#clip560)\" d=\"M2249.18 285.117 L2259 285.117 L2259 287.756 L2245.15 287.756 L2245.15 285.209 Q2245.94 284.492 2247.4 283.196 Q2255.36 276.135 2255.36 273.959 Q2255.36 272.432 2254.16 271.506 Q2252.96 270.557 2250.99 270.557 Q2249.78 270.557 2248.37 270.973 Q2246.96 271.367 2245.29 272.177 L2245.29 269.33 Q2247.08 268.682 2248.6 268.358 Q2250.15 268.034 2251.47 268.034 Q2254.83 268.034 2256.84 269.561 Q2258.86 271.089 2258.86 273.589 Q2258.86 276.807 2251.2 283.381 Q2249.9 284.492 2249.18 285.117 Z\" fill=\"#000000\" fill-rule=\"evenodd\" fill-opacity=\"1\" /><polyline clip-path=\"url(#clip560)\" style=\"stroke:#3da44d; stroke-linecap:round; stroke-linejoin:round; stroke-width:4; stroke-opacity:1; fill:none\" points=\"2026.14,322.316 2165.91,322.316 \"/>\n<path clip-path=\"url(#clip560)\" d=\"M2213.23 325.568 L2213.23 327.651 L2193.65 327.651 Q2193.93 332.049 2196.29 334.364 Q2198.67 336.656 2202.91 336.656 Q2205.36 336.656 2207.66 336.054 Q2209.97 335.452 2212.24 334.249 L2212.24 338.276 Q2209.95 339.248 2207.54 339.758 Q2205.13 340.267 2202.66 340.267 Q2196.45 340.267 2192.82 336.656 Q2189.21 333.045 2189.21 326.887 Q2189.21 320.522 2192.63 316.795 Q2196.08 313.045 2201.91 313.045 Q2207.15 313.045 2210.18 316.425 Q2213.23 319.781 2213.23 325.568 M2208.97 324.318 Q2208.93 320.823 2207.01 318.739 Q2205.11 316.656 2201.96 316.656 Q2198.4 316.656 2196.24 318.67 Q2194.11 320.684 2193.79 324.341 L2208.97 324.318 Z\" fill=\"#000000\" fill-rule=\"evenodd\" fill-opacity=\"1\" /><path clip-path=\"url(#clip560)\" d=\"M2240.94 313.67 L2231.57 326.286 L2241.43 339.596 L2236.4 339.596 L2228.86 329.411 L2221.31 339.596 L2216.29 339.596 L2226.36 326.031 L2217.15 313.67 L2222.17 313.67 L2229.04 322.906 L2235.92 313.67 L2240.94 313.67 Z\" fill=\"#000000\" fill-rule=\"evenodd\" fill-opacity=\"1\" /><path clip-path=\"url(#clip560)\" d=\"M2255.11 329.133 Q2257.24 329.549 2258.4 330.823 Q2259.58 332.073 2259.58 333.971 Q2259.58 336.841 2257.38 338.392 Q2255.18 339.943 2251.08 339.943 Q2249.76 339.943 2248.3 339.688 Q2246.87 339.457 2245.25 338.994 L2245.25 336.193 Q2246.45 336.818 2247.82 337.119 Q2249.21 337.42 2250.76 337.42 Q2253.28 337.42 2254.67 336.517 Q2256.06 335.591 2256.06 333.971 Q2256.06 332.258 2254.76 331.378 Q2253.49 330.499 2250.99 330.499 L2249 330.499 L2249 327.999 L2251.17 327.999 Q2253.35 327.999 2254.46 327.281 Q2255.59 326.54 2255.59 325.151 Q2255.59 323.809 2254.44 323.114 Q2253.28 322.397 2251.08 322.397 Q2250.15 322.397 2248.97 322.605 Q2247.79 322.813 2245.92 323.346 L2245.92 320.684 Q2247.61 320.29 2249.09 320.082 Q2250.57 319.874 2251.84 319.874 Q2255.18 319.874 2257.12 321.239 Q2259.09 322.605 2259.09 324.897 Q2259.09 326.494 2258.05 327.605 Q2257.01 328.716 2255.11 329.133 Z\" fill=\"#000000\" fill-rule=\"evenodd\" fill-opacity=\"1\" /><polyline clip-path=\"url(#clip560)\" style=\"stroke:#c271d2; stroke-linecap:round; stroke-linejoin:round; stroke-width:4; stroke-opacity:1; fill:none\" stroke-dasharray=\"16, 10\" points=\"2026.14,374.156 2165.91,374.156 \"/>\n<path clip-path=\"url(#clip560)\" d=\"M2213.23 377.408 L2213.23 379.491 L2193.65 379.491 Q2193.93 383.889 2196.29 386.204 Q2198.67 388.496 2202.91 388.496 Q2205.36 388.496 2207.66 387.894 Q2209.97 387.292 2212.24 386.089 L2212.24 390.116 Q2209.95 391.088 2207.54 391.598 Q2205.13 392.107 2202.66 392.107 Q2196.45 392.107 2192.82 388.496 Q2189.21 384.885 2189.21 378.727 Q2189.21 372.362 2192.63 368.635 Q2196.08 364.885 2201.91 364.885 Q2207.15 364.885 2210.18 368.265 Q2213.23 371.621 2213.23 377.408 M2208.97 376.158 Q2208.93 372.663 2207.01 370.579 Q2205.11 368.496 2201.96 368.496 Q2198.4 368.496 2196.24 370.51 Q2194.11 372.524 2193.79 376.181 L2208.97 376.158 Z\" fill=\"#000000\" fill-rule=\"evenodd\" fill-opacity=\"1\" /><path clip-path=\"url(#clip560)\" d=\"M2240.94 365.51 L2231.57 378.126 L2241.43 391.436 L2236.4 391.436 L2228.86 381.251 L2221.31 391.436 L2216.29 391.436 L2226.36 377.871 L2217.15 365.51 L2222.17 365.51 L2229.04 374.746 L2235.92 365.51 L2240.94 365.51 Z\" fill=\"#000000\" fill-rule=\"evenodd\" fill-opacity=\"1\" /><path clip-path=\"url(#clip560)\" d=\"M2228.95 355.417 L2233.21 355.417 L2233.21 360.811 L2228.95 360.811 L2228.95 355.417 M2231.13 364.885 L2231.13 364.885 Z\" fill=\"#000000\" fill-rule=\"evenodd\" fill-opacity=\"1\" /><path clip-path=\"url(#clip560)\" d=\"M2246.59 388.889 L2251.31 388.889 L2251.31 374.746 L2246.15 375.695 L2246.15 373.01 L2251.47 372.107 L2254.65 372.107 L2254.65 388.889 L2259.39 388.889 L2259.39 391.436 L2246.59 391.436 L2246.59 388.889 Z\" fill=\"#000000\" fill-rule=\"evenodd\" fill-opacity=\"1\" /><polyline clip-path=\"url(#clip560)\" style=\"stroke:#ac8d18; stroke-linecap:round; stroke-linejoin:round; stroke-width:4; stroke-opacity:1; fill:none\" stroke-dasharray=\"16, 10\" points=\"2026.14,425.996 2165.91,425.996 \"/>\n<path clip-path=\"url(#clip560)\" d=\"M2213.23 429.248 L2213.23 431.331 L2193.65 431.331 Q2193.93 435.729 2196.29 438.044 Q2198.67 440.336 2202.91 440.336 Q2205.36 440.336 2207.66 439.734 Q2209.97 439.132 2212.24 437.929 L2212.24 441.956 Q2209.95 442.928 2207.54 443.438 Q2205.13 443.947 2202.66 443.947 Q2196.45 443.947 2192.82 440.336 Q2189.21 436.725 2189.21 430.567 Q2189.21 424.202 2192.63 420.475 Q2196.08 416.725 2201.91 416.725 Q2207.15 416.725 2210.18 420.105 Q2213.23 423.461 2213.23 429.248 M2208.97 427.998 Q2208.93 424.503 2207.01 422.419 Q2205.11 420.336 2201.96 420.336 Q2198.4 420.336 2196.24 422.35 Q2194.11 424.364 2193.79 428.021 L2208.97 427.998 Z\" fill=\"#000000\" fill-rule=\"evenodd\" fill-opacity=\"1\" /><path clip-path=\"url(#clip560)\" d=\"M2240.94 417.35 L2231.57 429.966 L2241.43 443.276 L2236.4 443.276 L2228.86 433.091 L2221.31 443.276 L2216.29 443.276 L2226.36 429.711 L2217.15 417.35 L2222.17 417.35 L2229.04 426.586 L2235.92 417.35 L2240.94 417.35 Z\" fill=\"#000000\" fill-rule=\"evenodd\" fill-opacity=\"1\" /><path clip-path=\"url(#clip560)\" d=\"M2228.95 407.257 L2233.21 407.257 L2233.21 412.651 L2228.95 412.651 L2228.95 407.257 M2231.13 416.725 L2231.13 416.725 Z\" fill=\"#000000\" fill-rule=\"evenodd\" fill-opacity=\"1\" /><path clip-path=\"url(#clip560)\" d=\"M2249.18 440.637 L2259 440.637 L2259 443.276 L2245.15 443.276 L2245.15 440.729 Q2245.94 440.012 2247.4 438.716 Q2255.36 431.655 2255.36 429.479 Q2255.36 427.952 2254.16 427.026 Q2252.96 426.077 2250.99 426.077 Q2249.78 426.077 2248.37 426.493 Q2246.96 426.887 2245.29 427.697 L2245.29 424.85 Q2247.08 424.202 2248.6 423.878 Q2250.15 423.554 2251.47 423.554 Q2254.83 423.554 2256.84 425.081 Q2258.86 426.609 2258.86 429.109 Q2258.86 432.327 2251.2 438.901 Q2249.9 440.012 2249.18 440.637 Z\" fill=\"#000000\" fill-rule=\"evenodd\" fill-opacity=\"1\" /><polyline clip-path=\"url(#clip560)\" style=\"stroke:#00a9ad; stroke-linecap:round; stroke-linejoin:round; stroke-width:4; stroke-opacity:1; fill:none\" stroke-dasharray=\"16, 10\" points=\"2026.14,477.836 2165.91,477.836 \"/>\n<path clip-path=\"url(#clip560)\" d=\"M2213.23 481.088 L2213.23 483.171 L2193.65 483.171 Q2193.93 487.569 2196.29 489.884 Q2198.67 492.176 2202.91 492.176 Q2205.36 492.176 2207.66 491.574 Q2209.97 490.972 2212.24 489.769 L2212.24 493.796 Q2209.95 494.768 2207.54 495.278 Q2205.13 495.787 2202.66 495.787 Q2196.45 495.787 2192.82 492.176 Q2189.21 488.565 2189.21 482.407 Q2189.21 476.042 2192.63 472.315 Q2196.08 468.565 2201.91 468.565 Q2207.15 468.565 2210.18 471.945 Q2213.23 475.301 2213.23 481.088 M2208.97 479.838 Q2208.93 476.343 2207.01 474.259 Q2205.11 472.176 2201.96 472.176 Q2198.4 472.176 2196.24 474.19 Q2194.11 476.204 2193.79 479.861 L2208.97 479.838 Z\" fill=\"#000000\" fill-rule=\"evenodd\" fill-opacity=\"1\" /><path clip-path=\"url(#clip560)\" d=\"M2240.94 469.19 L2231.57 481.806 L2241.43 495.116 L2236.4 495.116 L2228.86 484.931 L2221.31 495.116 L2216.29 495.116 L2226.36 481.551 L2217.15 469.19 L2222.17 469.19 L2229.04 478.426 L2235.92 469.19 L2240.94 469.19 Z\" fill=\"#000000\" fill-rule=\"evenodd\" fill-opacity=\"1\" /><path clip-path=\"url(#clip560)\" d=\"M2228.95 459.097 L2233.21 459.097 L2233.21 464.491 L2228.95 464.491 L2228.95 459.097 M2231.13 468.565 L2231.13 468.565 Z\" fill=\"#000000\" fill-rule=\"evenodd\" fill-opacity=\"1\" /><path clip-path=\"url(#clip560)\" d=\"M2255.11 484.653 Q2257.24 485.069 2258.4 486.343 Q2259.58 487.593 2259.58 489.491 Q2259.58 492.361 2257.38 493.912 Q2255.18 495.463 2251.08 495.463 Q2249.76 495.463 2248.3 495.208 Q2246.87 494.977 2245.25 494.514 L2245.25 491.713 Q2246.45 492.338 2247.82 492.639 Q2249.21 492.94 2250.76 492.94 Q2253.28 492.94 2254.67 492.037 Q2256.06 491.111 2256.06 489.491 Q2256.06 487.778 2254.76 486.898 Q2253.49 486.019 2250.99 486.019 L2249 486.019 L2249 483.519 L2251.17 483.519 Q2253.35 483.519 2254.46 482.801 Q2255.59 482.06 2255.59 480.671 Q2255.59 479.329 2254.44 478.634 Q2253.28 477.917 2251.08 477.917 Q2250.15 477.917 2248.97 478.125 Q2247.79 478.333 2245.92 478.866 L2245.92 476.204 Q2247.61 475.81 2249.09 475.602 Q2250.57 475.394 2251.84 475.394 Q2255.18 475.394 2257.12 476.759 Q2259.09 478.125 2259.09 480.417 Q2259.09 482.014 2258.05 483.125 Q2257.01 484.236 2255.11 484.653 Z\" fill=\"#000000\" fill-rule=\"evenodd\" fill-opacity=\"1\" /></svg>\n"
     },
     "metadata": {},
     "output_type": "display_data"
    },
    {
     "data": {
      "image/svg+xml": "<?xml version=\"1.0\" encoding=\"utf-8\"?>\n<svg xmlns=\"http://www.w3.org/2000/svg\" xmlns:xlink=\"http://www.w3.org/1999/xlink\" width=\"600\" height=\"400\" viewBox=\"0 0 2400 1600\">\n<defs>\n  <clipPath id=\"clip600\">\n    <rect x=\"0\" y=\"0\" width=\"2400\" height=\"1600\"/>\n  </clipPath>\n</defs>\n<path clip-path=\"url(#clip600)\" d=\"M0 1600 L2400 1600 L2400 0 L0 0  Z\" fill=\"#ffffff\" fill-rule=\"evenodd\" fill-opacity=\"1\"/>\n<defs>\n  <clipPath id=\"clip601\">\n    <rect x=\"480\" y=\"0\" width=\"1681\" height=\"1600\"/>\n  </clipPath>\n</defs>\n<path clip-path=\"url(#clip600)\" d=\"M232.389 1423.18 L2352.76 1423.18 L2352.76 123.472 L232.389 123.472  Z\" fill=\"#ffffff\" fill-rule=\"evenodd\" fill-opacity=\"1\"/>\n<defs>\n  <clipPath id=\"clip602\">\n    <rect x=\"232\" y=\"123\" width=\"2121\" height=\"1301\"/>\n  </clipPath>\n</defs>\n<polyline clip-path=\"url(#clip602)\" style=\"stroke:#000000; stroke-linecap:round; stroke-linejoin:round; stroke-width:2; stroke-opacity:0.1; fill:none\" points=\"292.4,1423.18 292.4,123.472 \"/>\n<polyline clip-path=\"url(#clip602)\" style=\"stroke:#000000; stroke-linecap:round; stroke-linejoin:round; stroke-width:2; stroke-opacity:0.1; fill:none\" points=\"653.473,1423.18 653.473,123.472 \"/>\n<polyline clip-path=\"url(#clip602)\" style=\"stroke:#000000; stroke-linecap:round; stroke-linejoin:round; stroke-width:2; stroke-opacity:0.1; fill:none\" points=\"1014.55,1423.18 1014.55,123.472 \"/>\n<polyline clip-path=\"url(#clip602)\" style=\"stroke:#000000; stroke-linecap:round; stroke-linejoin:round; stroke-width:2; stroke-opacity:0.1; fill:none\" points=\"1375.62,1423.18 1375.62,123.472 \"/>\n<polyline clip-path=\"url(#clip602)\" style=\"stroke:#000000; stroke-linecap:round; stroke-linejoin:round; stroke-width:2; stroke-opacity:0.1; fill:none\" points=\"1736.69,1423.18 1736.69,123.472 \"/>\n<polyline clip-path=\"url(#clip602)\" style=\"stroke:#000000; stroke-linecap:round; stroke-linejoin:round; stroke-width:2; stroke-opacity:0.1; fill:none\" points=\"2097.77,1423.18 2097.77,123.472 \"/>\n<polyline clip-path=\"url(#clip600)\" style=\"stroke:#000000; stroke-linecap:round; stroke-linejoin:round; stroke-width:4; stroke-opacity:1; fill:none\" points=\"232.389,1423.18 2352.76,1423.18 \"/>\n<polyline clip-path=\"url(#clip600)\" style=\"stroke:#000000; stroke-linecap:round; stroke-linejoin:round; stroke-width:4; stroke-opacity:1; fill:none\" points=\"292.4,1423.18 292.4,1404.28 \"/>\n<polyline clip-path=\"url(#clip600)\" style=\"stroke:#000000; stroke-linecap:round; stroke-linejoin:round; stroke-width:4; stroke-opacity:1; fill:none\" points=\"653.473,1423.18 653.473,1404.28 \"/>\n<polyline clip-path=\"url(#clip600)\" style=\"stroke:#000000; stroke-linecap:round; stroke-linejoin:round; stroke-width:4; stroke-opacity:1; fill:none\" points=\"1014.55,1423.18 1014.55,1404.28 \"/>\n<polyline clip-path=\"url(#clip600)\" style=\"stroke:#000000; stroke-linecap:round; stroke-linejoin:round; stroke-width:4; stroke-opacity:1; fill:none\" points=\"1375.62,1423.18 1375.62,1404.28 \"/>\n<polyline clip-path=\"url(#clip600)\" style=\"stroke:#000000; stroke-linecap:round; stroke-linejoin:round; stroke-width:4; stroke-opacity:1; fill:none\" points=\"1736.69,1423.18 1736.69,1404.28 \"/>\n<polyline clip-path=\"url(#clip600)\" style=\"stroke:#000000; stroke-linecap:round; stroke-linejoin:round; stroke-width:4; stroke-opacity:1; fill:none\" points=\"2097.77,1423.18 2097.77,1404.28 \"/>\n<path clip-path=\"url(#clip600)\" d=\"M269.784 1454.1 Q266.173 1454.1 264.344 1457.66 Q262.539 1461.2 262.539 1468.33 Q262.539 1475.44 264.344 1479.01 Q266.173 1482.55 269.784 1482.55 Q273.418 1482.55 275.224 1479.01 Q277.053 1475.44 277.053 1468.33 Q277.053 1461.2 275.224 1457.66 Q273.418 1454.1 269.784 1454.1 M269.784 1450.39 Q275.594 1450.39 278.65 1455 Q281.728 1459.58 281.728 1468.33 Q281.728 1477.06 278.65 1481.67 Q275.594 1486.25 269.784 1486.25 Q263.974 1486.25 260.895 1481.67 Q257.84 1477.06 257.84 1468.33 Q257.84 1459.58 260.895 1455 Q263.974 1450.39 269.784 1450.39 Z\" fill=\"#000000\" fill-rule=\"evenodd\" fill-opacity=\"1\" /><path clip-path=\"url(#clip600)\" d=\"M289.946 1479.7 L294.83 1479.7 L294.83 1485.58 L289.946 1485.58 L289.946 1479.7 Z\" fill=\"#000000\" fill-rule=\"evenodd\" fill-opacity=\"1\" /><path clip-path=\"url(#clip600)\" d=\"M315.015 1454.1 Q311.404 1454.1 309.576 1457.66 Q307.77 1461.2 307.77 1468.33 Q307.77 1475.44 309.576 1479.01 Q311.404 1482.55 315.015 1482.55 Q318.65 1482.55 320.455 1479.01 Q322.284 1475.44 322.284 1468.33 Q322.284 1461.2 320.455 1457.66 Q318.65 1454.1 315.015 1454.1 M315.015 1450.39 Q320.825 1450.39 323.881 1455 Q326.96 1459.58 326.96 1468.33 Q326.96 1477.06 323.881 1481.67 Q320.825 1486.25 315.015 1486.25 Q309.205 1486.25 306.126 1481.67 Q303.071 1477.06 303.071 1468.33 Q303.071 1459.58 306.126 1455 Q309.205 1450.39 315.015 1450.39 Z\" fill=\"#000000\" fill-rule=\"evenodd\" fill-opacity=\"1\" /><path clip-path=\"url(#clip600)\" d=\"M625.209 1481.64 L641.529 1481.64 L641.529 1485.58 L619.584 1485.58 L619.584 1481.64 Q622.246 1478.89 626.83 1474.26 Q631.436 1469.61 632.617 1468.27 Q634.862 1465.74 635.742 1464.01 Q636.644 1462.25 636.644 1460.56 Q636.644 1457.8 634.7 1456.07 Q632.779 1454.33 629.677 1454.33 Q627.478 1454.33 625.024 1455.09 Q622.594 1455.86 619.816 1457.41 L619.816 1452.69 Q622.64 1451.55 625.093 1450.97 Q627.547 1450.39 629.584 1450.39 Q634.955 1450.39 638.149 1453.08 Q641.343 1455.77 641.343 1460.26 Q641.343 1462.39 640.533 1464.31 Q639.746 1466.2 637.64 1468.8 Q637.061 1469.47 633.959 1472.69 Q630.857 1475.88 625.209 1481.64 Z\" fill=\"#000000\" fill-rule=\"evenodd\" fill-opacity=\"1\" /><path clip-path=\"url(#clip600)\" d=\"M651.343 1479.7 L656.228 1479.7 L656.228 1485.58 L651.343 1485.58 L651.343 1479.7 Z\" fill=\"#000000\" fill-rule=\"evenodd\" fill-opacity=\"1\" /><path clip-path=\"url(#clip600)\" d=\"M666.459 1451.02 L684.815 1451.02 L684.815 1454.96 L670.741 1454.96 L670.741 1463.43 Q671.76 1463.08 672.778 1462.92 Q673.797 1462.73 674.815 1462.73 Q680.602 1462.73 683.982 1465.9 Q687.362 1469.08 687.362 1474.49 Q687.362 1480.07 683.889 1483.17 Q680.417 1486.25 674.098 1486.25 Q671.922 1486.25 669.653 1485.88 Q667.408 1485.51 665.001 1484.77 L665.001 1480.07 Q667.084 1481.2 669.306 1481.76 Q671.528 1482.32 674.005 1482.32 Q678.01 1482.32 680.348 1480.21 Q682.686 1478.1 682.686 1474.49 Q682.686 1470.88 680.348 1468.77 Q678.01 1466.67 674.005 1466.67 Q672.13 1466.67 670.255 1467.08 Q668.403 1467.5 666.459 1468.38 L666.459 1451.02 Z\" fill=\"#000000\" fill-rule=\"evenodd\" fill-opacity=\"1\" /><path clip-path=\"url(#clip600)\" d=\"M981.711 1451.02 L1000.07 1451.02 L1000.07 1454.96 L985.993 1454.96 L985.993 1463.43 Q987.012 1463.08 988.03 1462.92 Q989.049 1462.73 990.067 1462.73 Q995.854 1462.73 999.234 1465.9 Q1002.61 1469.08 1002.61 1474.49 Q1002.61 1480.07 999.141 1483.17 Q995.669 1486.25 989.35 1486.25 Q987.174 1486.25 984.905 1485.88 Q982.66 1485.51 980.252 1484.77 L980.252 1480.07 Q982.336 1481.2 984.558 1481.76 Q986.78 1482.32 989.257 1482.32 Q993.262 1482.32 995.6 1480.21 Q997.938 1478.1 997.938 1474.49 Q997.938 1470.88 995.6 1468.77 Q993.262 1466.67 989.257 1466.67 Q987.382 1466.67 985.507 1467.08 Q983.655 1467.5 981.711 1468.38 L981.711 1451.02 Z\" fill=\"#000000\" fill-rule=\"evenodd\" fill-opacity=\"1\" /><path clip-path=\"url(#clip600)\" d=\"M1011.83 1479.7 L1016.71 1479.7 L1016.71 1485.58 L1011.83 1485.58 L1011.83 1479.7 Z\" fill=\"#000000\" fill-rule=\"evenodd\" fill-opacity=\"1\" /><path clip-path=\"url(#clip600)\" d=\"M1036.9 1454.1 Q1033.28 1454.1 1031.46 1457.66 Q1029.65 1461.2 1029.65 1468.33 Q1029.65 1475.44 1031.46 1479.01 Q1033.28 1482.55 1036.9 1482.55 Q1040.53 1482.55 1042.34 1479.01 Q1044.16 1475.44 1044.16 1468.33 Q1044.16 1461.2 1042.34 1457.66 Q1040.53 1454.1 1036.9 1454.1 M1036.9 1450.39 Q1042.71 1450.39 1045.76 1455 Q1048.84 1459.58 1048.84 1468.33 Q1048.84 1477.06 1045.76 1481.67 Q1042.71 1486.25 1036.9 1486.25 Q1031.09 1486.25 1028.01 1481.67 Q1024.95 1477.06 1024.95 1468.33 Q1024.95 1459.58 1028.01 1455 Q1031.09 1450.39 1036.9 1450.39 Z\" fill=\"#000000\" fill-rule=\"evenodd\" fill-opacity=\"1\" /><path clip-path=\"url(#clip600)\" d=\"M1341.94 1451.02 L1364.16 1451.02 L1364.16 1453.01 L1351.61 1485.58 L1346.73 1485.58 L1358.54 1454.96 L1341.94 1454.96 L1341.94 1451.02 Z\" fill=\"#000000\" fill-rule=\"evenodd\" fill-opacity=\"1\" /><path clip-path=\"url(#clip600)\" d=\"M1373.28 1479.7 L1378.17 1479.7 L1378.17 1485.58 L1373.28 1485.58 L1373.28 1479.7 Z\" fill=\"#000000\" fill-rule=\"evenodd\" fill-opacity=\"1\" /><path clip-path=\"url(#clip600)\" d=\"M1388.4 1451.02 L1406.75 1451.02 L1406.75 1454.96 L1392.68 1454.96 L1392.68 1463.43 Q1393.7 1463.08 1394.72 1462.92 Q1395.74 1462.73 1396.75 1462.73 Q1402.54 1462.73 1405.92 1465.9 Q1409.3 1469.08 1409.3 1474.49 Q1409.3 1480.07 1405.83 1483.17 Q1402.36 1486.25 1396.04 1486.25 Q1393.86 1486.25 1391.59 1485.88 Q1389.35 1485.51 1386.94 1484.77 L1386.94 1480.07 Q1389.02 1481.2 1391.24 1481.76 Q1393.47 1482.32 1395.94 1482.32 Q1399.95 1482.32 1402.29 1480.21 Q1404.62 1478.1 1404.62 1474.49 Q1404.62 1470.88 1402.29 1468.77 Q1399.95 1466.67 1395.94 1466.67 Q1394.07 1466.67 1392.19 1467.08 Q1390.34 1467.5 1388.4 1468.38 L1388.4 1451.02 Z\" fill=\"#000000\" fill-rule=\"evenodd\" fill-opacity=\"1\" /><path clip-path=\"url(#clip600)\" d=\"M1688.76 1481.64 L1696.4 1481.64 L1696.4 1455.28 L1688.09 1456.95 L1688.09 1452.69 L1696.36 1451.02 L1701.03 1451.02 L1701.03 1481.64 L1708.67 1481.64 L1708.67 1485.58 L1688.76 1485.58 L1688.76 1481.64 Z\" fill=\"#000000\" fill-rule=\"evenodd\" fill-opacity=\"1\" /><path clip-path=\"url(#clip600)\" d=\"M1728.12 1454.1 Q1724.51 1454.1 1722.68 1457.66 Q1720.87 1461.2 1720.87 1468.33 Q1720.87 1475.44 1722.68 1479.01 Q1724.51 1482.55 1728.12 1482.55 Q1731.75 1482.55 1733.56 1479.01 Q1735.38 1475.44 1735.38 1468.33 Q1735.38 1461.2 1733.56 1457.66 Q1731.75 1454.1 1728.12 1454.1 M1728.12 1450.39 Q1733.93 1450.39 1736.98 1455 Q1740.06 1459.58 1740.06 1468.33 Q1740.06 1477.06 1736.98 1481.67 Q1733.93 1486.25 1728.12 1486.25 Q1722.31 1486.25 1719.23 1481.67 Q1716.17 1477.06 1716.17 1468.33 Q1716.17 1459.58 1719.23 1455 Q1722.31 1450.39 1728.12 1450.39 Z\" fill=\"#000000\" fill-rule=\"evenodd\" fill-opacity=\"1\" /><path clip-path=\"url(#clip600)\" d=\"M1748.28 1479.7 L1753.16 1479.7 L1753.16 1485.58 L1748.28 1485.58 L1748.28 1479.7 Z\" fill=\"#000000\" fill-rule=\"evenodd\" fill-opacity=\"1\" /><path clip-path=\"url(#clip600)\" d=\"M1773.35 1454.1 Q1769.74 1454.1 1767.91 1457.66 Q1766.1 1461.2 1766.1 1468.33 Q1766.1 1475.44 1767.91 1479.01 Q1769.74 1482.55 1773.35 1482.55 Q1776.98 1482.55 1778.79 1479.01 Q1780.62 1475.44 1780.62 1468.33 Q1780.62 1461.2 1778.79 1457.66 Q1776.98 1454.1 1773.35 1454.1 M1773.35 1450.39 Q1779.16 1450.39 1782.21 1455 Q1785.29 1459.58 1785.29 1468.33 Q1785.29 1477.06 1782.21 1481.67 Q1779.16 1486.25 1773.35 1486.25 Q1767.54 1486.25 1764.46 1481.67 Q1761.4 1477.06 1761.4 1468.33 Q1761.4 1459.58 1764.46 1455 Q1767.54 1450.39 1773.35 1450.39 Z\" fill=\"#000000\" fill-rule=\"evenodd\" fill-opacity=\"1\" /><path clip-path=\"url(#clip600)\" d=\"M2050.34 1481.64 L2057.97 1481.64 L2057.97 1455.28 L2049.66 1456.95 L2049.66 1452.69 L2057.93 1451.02 L2062.6 1451.02 L2062.6 1481.64 L2070.24 1481.64 L2070.24 1485.58 L2050.34 1485.58 L2050.34 1481.64 Z\" fill=\"#000000\" fill-rule=\"evenodd\" fill-opacity=\"1\" /><path clip-path=\"url(#clip600)\" d=\"M2083.72 1481.64 L2100.03 1481.64 L2100.03 1485.58 L2078.09 1485.58 L2078.09 1481.64 Q2080.75 1478.89 2085.34 1474.26 Q2089.94 1469.61 2091.12 1468.27 Q2093.37 1465.74 2094.25 1464.01 Q2095.15 1462.25 2095.15 1460.56 Q2095.15 1457.8 2093.21 1456.07 Q2091.28 1454.33 2088.18 1454.33 Q2085.98 1454.33 2083.53 1455.09 Q2081.1 1455.86 2078.32 1457.41 L2078.32 1452.69 Q2081.15 1451.55 2083.6 1450.97 Q2086.05 1450.39 2088.09 1450.39 Q2093.46 1450.39 2096.65 1453.08 Q2099.85 1455.77 2099.85 1460.26 Q2099.85 1462.39 2099.04 1464.31 Q2098.25 1466.2 2096.15 1468.8 Q2095.57 1469.47 2092.47 1472.69 Q2089.36 1475.88 2083.72 1481.64 Z\" fill=\"#000000\" fill-rule=\"evenodd\" fill-opacity=\"1\" /><path clip-path=\"url(#clip600)\" d=\"M2109.85 1479.7 L2114.73 1479.7 L2114.73 1485.58 L2109.85 1485.58 L2109.85 1479.7 Z\" fill=\"#000000\" fill-rule=\"evenodd\" fill-opacity=\"1\" /><path clip-path=\"url(#clip600)\" d=\"M2124.96 1451.02 L2143.32 1451.02 L2143.32 1454.96 L2129.25 1454.96 L2129.25 1463.43 Q2130.27 1463.08 2131.28 1462.92 Q2132.3 1462.73 2133.32 1462.73 Q2139.11 1462.73 2142.49 1465.9 Q2145.87 1469.08 2145.87 1474.49 Q2145.87 1480.07 2142.4 1483.17 Q2138.92 1486.25 2132.6 1486.25 Q2130.43 1486.25 2128.16 1485.88 Q2125.91 1485.51 2123.51 1484.77 L2123.51 1480.07 Q2125.59 1481.2 2127.81 1481.76 Q2130.03 1482.32 2132.51 1482.32 Q2136.52 1482.32 2138.85 1480.21 Q2141.19 1478.1 2141.19 1474.49 Q2141.19 1470.88 2138.85 1468.77 Q2136.52 1466.67 2132.51 1466.67 Q2130.64 1466.67 2128.76 1467.08 Q2126.91 1467.5 2124.96 1468.38 L2124.96 1451.02 Z\" fill=\"#000000\" fill-rule=\"evenodd\" fill-opacity=\"1\" /><path clip-path=\"url(#clip600)\" d=\"M1180.03 1522.27 L1180.03 1532.4 L1192.09 1532.4 L1192.09 1536.95 L1180.03 1536.95 L1180.03 1556.3 Q1180.03 1560.66 1181.2 1561.9 Q1182.41 1563.14 1186.07 1563.14 L1192.09 1563.14 L1192.09 1568.04 L1186.07 1568.04 Q1179.29 1568.04 1176.72 1565.53 Q1174.14 1562.98 1174.14 1556.3 L1174.14 1536.95 L1169.84 1536.95 L1169.84 1532.4 L1174.14 1532.4 L1174.14 1522.27 L1180.03 1522.27 Z\" fill=\"#000000\" fill-rule=\"evenodd\" fill-opacity=\"1\" /><path clip-path=\"url(#clip600)\" d=\"M1199.79 1532.4 L1205.65 1532.4 L1205.65 1568.04 L1199.79 1568.04 L1199.79 1532.4 M1199.79 1518.52 L1205.65 1518.52 L1205.65 1525.93 L1199.79 1525.93 L1199.79 1518.52 Z\" fill=\"#000000\" fill-rule=\"evenodd\" fill-opacity=\"1\" /><path clip-path=\"url(#clip600)\" d=\"M1245.66 1539.24 Q1247.85 1535.29 1250.91 1533.41 Q1253.96 1531.54 1258.1 1531.54 Q1263.67 1531.54 1266.7 1535.45 Q1269.72 1539.33 1269.72 1546.53 L1269.72 1568.04 L1263.83 1568.04 L1263.83 1546.72 Q1263.83 1541.59 1262.02 1539.11 Q1260.2 1536.63 1256.48 1536.63 Q1251.93 1536.63 1249.29 1539.65 Q1246.64 1542.68 1246.64 1547.9 L1246.64 1568.04 L1240.76 1568.04 L1240.76 1546.72 Q1240.76 1541.56 1238.94 1539.11 Q1237.13 1536.63 1233.34 1536.63 Q1228.85 1536.63 1226.21 1539.68 Q1223.57 1542.71 1223.57 1547.9 L1223.57 1568.04 L1217.68 1568.04 L1217.68 1532.4 L1223.57 1532.4 L1223.57 1537.93 Q1225.57 1534.66 1228.37 1533.1 Q1231.18 1531.54 1235.03 1531.54 Q1238.91 1531.54 1241.62 1533.51 Q1244.35 1535.48 1245.66 1539.24 Z\" fill=\"#000000\" fill-rule=\"evenodd\" fill-opacity=\"1\" /><path clip-path=\"url(#clip600)\" d=\"M1311.89 1548.76 L1311.89 1551.62 L1284.97 1551.62 Q1285.35 1557.67 1288.59 1560.85 Q1291.87 1564 1297.7 1564 Q1301.07 1564 1304.22 1563.17 Q1307.4 1562.35 1310.52 1560.69 L1310.52 1566.23 Q1307.37 1567.57 1304.06 1568.27 Q1300.75 1568.97 1297.35 1568.97 Q1288.82 1568.97 1283.82 1564 Q1278.85 1559.04 1278.85 1550.57 Q1278.85 1541.82 1283.57 1536.69 Q1288.31 1531.54 1296.33 1531.54 Q1303.52 1531.54 1307.69 1536.18 Q1311.89 1540.8 1311.89 1548.76 M1306.04 1547.04 Q1305.97 1542.23 1303.33 1539.37 Q1300.72 1536.5 1296.39 1536.5 Q1291.49 1536.5 1288.53 1539.27 Q1285.6 1542.04 1285.16 1547.07 L1306.04 1547.04 Z\" fill=\"#000000\" fill-rule=\"evenodd\" fill-opacity=\"1\" /><path clip-path=\"url(#clip600)\" d=\"M1356.29 1518.58 Q1352.03 1525.9 1349.96 1533.06 Q1347.89 1540.23 1347.89 1547.58 Q1347.89 1554.93 1349.96 1562.16 Q1352.06 1569.35 1356.29 1576.64 L1351.2 1576.64 Q1346.43 1569.16 1344.04 1561.93 Q1341.68 1554.71 1341.68 1547.58 Q1341.68 1540.48 1344.04 1533.29 Q1346.39 1526.09 1351.2 1518.58 L1356.29 1518.58 Z\" fill=\"#000000\" fill-rule=\"evenodd\" fill-opacity=\"1\" /><path clip-path=\"url(#clip600)\" d=\"M1390.38 1533.45 L1390.38 1538.98 Q1387.9 1537.71 1385.23 1537.07 Q1382.55 1536.44 1379.69 1536.44 Q1375.33 1536.44 1373.13 1537.77 Q1370.97 1539.11 1370.97 1541.79 Q1370.97 1543.82 1372.53 1545 Q1374.09 1546.15 1378.8 1547.2 L1380.8 1547.64 Q1387.04 1548.98 1389.65 1551.43 Q1392.29 1553.85 1392.29 1558.21 Q1392.29 1563.17 1388.34 1566.07 Q1384.43 1568.97 1377.55 1568.97 Q1374.69 1568.97 1371.57 1568.39 Q1368.48 1567.85 1365.05 1566.74 L1365.05 1560.69 Q1368.29 1562.38 1371.44 1563.24 Q1374.59 1564.07 1377.68 1564.07 Q1381.82 1564.07 1384.05 1562.66 Q1386.28 1561.23 1386.28 1558.65 Q1386.28 1556.27 1384.65 1554.99 Q1383.06 1553.72 1377.62 1552.54 L1375.58 1552.07 Q1370.14 1550.92 1367.72 1548.56 Q1365.3 1546.18 1365.3 1542.04 Q1365.3 1537.01 1368.87 1534.27 Q1372.43 1531.54 1378.99 1531.54 Q1382.23 1531.54 1385.1 1532.01 Q1387.96 1532.49 1390.38 1533.45 Z\" fill=\"#000000\" fill-rule=\"evenodd\" fill-opacity=\"1\" /><path clip-path=\"url(#clip600)\" d=\"M1400.69 1518.58 L1405.79 1518.58 Q1410.56 1526.09 1412.92 1533.29 Q1415.3 1540.48 1415.3 1547.58 Q1415.3 1554.71 1412.92 1561.93 Q1410.56 1569.16 1405.79 1576.64 L1400.69 1576.64 Q1404.93 1569.35 1407 1562.16 Q1409.1 1554.93 1409.1 1547.58 Q1409.1 1540.23 1407 1533.06 Q1404.93 1525.9 1400.69 1518.58 Z\" fill=\"#000000\" fill-rule=\"evenodd\" fill-opacity=\"1\" /><polyline clip-path=\"url(#clip602)\" style=\"stroke:#000000; stroke-linecap:round; stroke-linejoin:round; stroke-width:2; stroke-opacity:0.1; fill:none\" points=\"232.389,1272.38 2352.76,1272.38 \"/>\n<polyline clip-path=\"url(#clip602)\" style=\"stroke:#000000; stroke-linecap:round; stroke-linejoin:round; stroke-width:2; stroke-opacity:0.1; fill:none\" points=\"232.389,1015.64 2352.76,1015.64 \"/>\n<polyline clip-path=\"url(#clip602)\" style=\"stroke:#000000; stroke-linecap:round; stroke-linejoin:round; stroke-width:2; stroke-opacity:0.1; fill:none\" points=\"232.389,758.902 2352.76,758.902 \"/>\n<polyline clip-path=\"url(#clip602)\" style=\"stroke:#000000; stroke-linecap:round; stroke-linejoin:round; stroke-width:2; stroke-opacity:0.1; fill:none\" points=\"232.389,502.163 2352.76,502.163 \"/>\n<polyline clip-path=\"url(#clip602)\" style=\"stroke:#000000; stroke-linecap:round; stroke-linejoin:round; stroke-width:2; stroke-opacity:0.1; fill:none\" points=\"232.389,245.424 2352.76,245.424 \"/>\n<polyline clip-path=\"url(#clip600)\" style=\"stroke:#000000; stroke-linecap:round; stroke-linejoin:round; stroke-width:4; stroke-opacity:1; fill:none\" points=\"232.389,1423.18 232.389,123.472 \"/>\n<polyline clip-path=\"url(#clip600)\" style=\"stroke:#000000; stroke-linecap:round; stroke-linejoin:round; stroke-width:4; stroke-opacity:1; fill:none\" points=\"232.389,1272.38 251.287,1272.38 \"/>\n<polyline clip-path=\"url(#clip600)\" style=\"stroke:#000000; stroke-linecap:round; stroke-linejoin:round; stroke-width:4; stroke-opacity:1; fill:none\" points=\"232.389,1015.64 251.287,1015.64 \"/>\n<polyline clip-path=\"url(#clip600)\" style=\"stroke:#000000; stroke-linecap:round; stroke-linejoin:round; stroke-width:4; stroke-opacity:1; fill:none\" points=\"232.389,758.902 251.287,758.902 \"/>\n<polyline clip-path=\"url(#clip600)\" style=\"stroke:#000000; stroke-linecap:round; stroke-linejoin:round; stroke-width:4; stroke-opacity:1; fill:none\" points=\"232.389,502.163 251.287,502.163 \"/>\n<polyline clip-path=\"url(#clip600)\" style=\"stroke:#000000; stroke-linecap:round; stroke-linejoin:round; stroke-width:4; stroke-opacity:1; fill:none\" points=\"232.389,245.424 251.287,245.424 \"/>\n<path clip-path=\"url(#clip600)\" d=\"M184.445 1258.18 Q180.834 1258.18 179.005 1261.74 Q177.2 1265.28 177.2 1272.41 Q177.2 1279.52 179.005 1283.09 Q180.834 1286.63 184.445 1286.63 Q188.079 1286.63 189.885 1283.09 Q191.713 1279.52 191.713 1272.41 Q191.713 1265.28 189.885 1261.74 Q188.079 1258.18 184.445 1258.18 M184.445 1254.47 Q190.255 1254.47 193.311 1259.08 Q196.389 1263.66 196.389 1272.41 Q196.389 1281.14 193.311 1285.75 Q190.255 1290.33 184.445 1290.33 Q178.635 1290.33 175.556 1285.75 Q172.501 1281.14 172.501 1272.41 Q172.501 1263.66 175.556 1259.08 Q178.635 1254.47 184.445 1254.47 Z\" fill=\"#000000\" fill-rule=\"evenodd\" fill-opacity=\"1\" /><path clip-path=\"url(#clip600)\" d=\"M149.306 1028.99 L165.626 1028.99 L165.626 1032.92 L143.681 1032.92 L143.681 1028.99 Q146.343 1026.23 150.927 1021.6 Q155.533 1016.95 156.714 1015.61 Q158.959 1013.08 159.839 1011.35 Q160.741 1009.59 160.741 1007.9 Q160.741 1005.14 158.797 1003.41 Q156.876 1001.67 153.774 1001.67 Q151.575 1001.67 149.121 1002.43 Q146.691 1003.2 143.913 1004.75 L143.913 1000.03 Q146.737 998.893 149.191 998.314 Q151.644 997.735 153.681 997.735 Q159.052 997.735 162.246 1000.42 Q165.44 1003.11 165.44 1007.6 Q165.44 1009.73 164.63 1011.65 Q163.843 1013.55 161.737 1016.14 Q161.158 1016.81 158.056 1020.03 Q154.954 1023.22 149.306 1028.99 Z\" fill=\"#000000\" fill-rule=\"evenodd\" fill-opacity=\"1\" /><path clip-path=\"url(#clip600)\" d=\"M175.487 998.36 L193.843 998.36 L193.843 1002.3 L179.769 1002.3 L179.769 1010.77 Q180.788 1010.42 181.806 1010.26 Q182.825 1010.07 183.843 1010.07 Q189.63 1010.07 193.01 1013.24 Q196.389 1016.42 196.389 1021.83 Q196.389 1027.41 192.917 1030.51 Q189.445 1033.59 183.126 1033.59 Q180.95 1033.59 178.681 1033.22 Q176.436 1032.85 174.028 1032.11 L174.028 1027.41 Q176.112 1028.55 178.334 1029.1 Q180.556 1029.66 183.033 1029.66 Q187.038 1029.66 189.375 1027.55 Q191.713 1025.44 191.713 1021.83 Q191.713 1018.22 189.375 1016.11 Q187.038 1014.01 183.033 1014.01 Q181.158 1014.01 179.283 1014.43 Q177.431 1014.84 175.487 1015.72 L175.487 998.36 Z\" fill=\"#000000\" fill-rule=\"evenodd\" fill-opacity=\"1\" /><path clip-path=\"url(#clip600)\" d=\"M144.329 741.622 L162.686 741.622 L162.686 745.557 L148.612 745.557 L148.612 754.029 Q149.63 753.682 150.649 753.52 Q151.667 753.335 152.686 753.335 Q158.473 753.335 161.852 756.506 Q165.232 759.677 165.232 765.094 Q165.232 770.673 161.76 773.774 Q158.288 776.853 151.968 776.853 Q149.792 776.853 147.524 776.483 Q145.279 776.112 142.871 775.372 L142.871 770.673 Q144.954 771.807 147.177 772.362 Q149.399 772.918 151.876 772.918 Q155.88 772.918 158.218 770.811 Q160.556 768.705 160.556 765.094 Q160.556 761.483 158.218 759.376 Q155.88 757.27 151.876 757.27 Q150.001 757.27 148.126 757.686 Q146.274 758.103 144.329 758.983 L144.329 741.622 Z\" fill=\"#000000\" fill-rule=\"evenodd\" fill-opacity=\"1\" /><path clip-path=\"url(#clip600)\" d=\"M184.445 744.7 Q180.834 744.7 179.005 748.265 Q177.2 751.807 177.2 758.936 Q177.2 766.043 179.005 769.608 Q180.834 773.149 184.445 773.149 Q188.079 773.149 189.885 769.608 Q191.713 766.043 191.713 758.936 Q191.713 751.807 189.885 748.265 Q188.079 744.7 184.445 744.7 M184.445 740.997 Q190.255 740.997 193.311 745.603 Q196.389 750.186 196.389 758.936 Q196.389 767.663 193.311 772.27 Q190.255 776.853 184.445 776.853 Q178.635 776.853 175.556 772.27 Q172.501 767.663 172.501 758.936 Q172.501 750.186 175.556 745.603 Q178.635 740.997 184.445 740.997 Z\" fill=\"#000000\" fill-rule=\"evenodd\" fill-opacity=\"1\" /><path clip-path=\"url(#clip600)\" d=\"M144.098 484.883 L166.32 484.883 L166.32 486.874 L153.774 519.443 L148.89 519.443 L160.695 488.818 L144.098 488.818 L144.098 484.883 Z\" fill=\"#000000\" fill-rule=\"evenodd\" fill-opacity=\"1\" /><path clip-path=\"url(#clip600)\" d=\"M175.487 484.883 L193.843 484.883 L193.843 488.818 L179.769 488.818 L179.769 497.29 Q180.788 496.943 181.806 496.781 Q182.825 496.596 183.843 496.596 Q189.63 496.596 193.01 499.767 Q196.389 502.939 196.389 508.355 Q196.389 513.934 192.917 517.036 Q189.445 520.114 183.126 520.114 Q180.95 520.114 178.681 519.744 Q176.436 519.374 174.028 518.633 L174.028 513.934 Q176.112 515.068 178.334 515.624 Q180.556 516.179 183.033 516.179 Q187.038 516.179 189.375 514.073 Q191.713 511.966 191.713 508.355 Q191.713 504.744 189.375 502.638 Q187.038 500.531 183.033 500.531 Q181.158 500.531 179.283 500.948 Q177.431 501.364 175.487 502.244 L175.487 484.883 Z\" fill=\"#000000\" fill-rule=\"evenodd\" fill-opacity=\"1\" /><path clip-path=\"url(#clip600)\" d=\"M114.931 258.769 L122.57 258.769 L122.57 232.404 L114.26 234.07 L114.26 229.811 L122.524 228.144 L127.2 228.144 L127.2 258.769 L134.839 258.769 L134.839 262.704 L114.931 262.704 L114.931 258.769 Z\" fill=\"#000000\" fill-rule=\"evenodd\" fill-opacity=\"1\" /><path clip-path=\"url(#clip600)\" d=\"M154.283 231.223 Q150.672 231.223 148.843 234.788 Q147.038 238.33 147.038 245.459 Q147.038 252.566 148.843 256.13 Q150.672 259.672 154.283 259.672 Q157.917 259.672 159.723 256.13 Q161.552 252.566 161.552 245.459 Q161.552 238.33 159.723 234.788 Q157.917 231.223 154.283 231.223 M154.283 227.519 Q160.093 227.519 163.149 232.126 Q166.227 236.709 166.227 245.459 Q166.227 254.186 163.149 258.792 Q160.093 263.376 154.283 263.376 Q148.473 263.376 145.394 258.792 Q142.339 254.186 142.339 245.459 Q142.339 236.709 145.394 232.126 Q148.473 227.519 154.283 227.519 Z\" fill=\"#000000\" fill-rule=\"evenodd\" fill-opacity=\"1\" /><path clip-path=\"url(#clip600)\" d=\"M184.445 231.223 Q180.834 231.223 179.005 234.788 Q177.2 238.33 177.2 245.459 Q177.2 252.566 179.005 256.13 Q180.834 259.672 184.445 259.672 Q188.079 259.672 189.885 256.13 Q191.713 252.566 191.713 245.459 Q191.713 238.33 189.885 234.788 Q188.079 231.223 184.445 231.223 M184.445 227.519 Q190.255 227.519 193.311 232.126 Q196.389 236.709 196.389 245.459 Q196.389 254.186 193.311 258.792 Q190.255 263.376 184.445 263.376 Q178.635 263.376 175.556 258.792 Q172.501 254.186 172.501 245.459 Q172.501 236.709 175.556 232.126 Q178.635 227.519 184.445 227.519 Z\" fill=\"#000000\" fill-rule=\"evenodd\" fill-opacity=\"1\" /><path clip-path=\"url(#clip600)\" d=\"M49.9359 788.254 L28.3562 788.254 L28.3562 782.397 L49.7131 782.397 Q54.7739 782.397 57.3202 780.424 Q59.8346 778.45 59.8346 774.504 Q59.8346 769.761 56.8109 767.024 Q53.7872 764.255 48.5673 764.255 L28.3562 764.255 L28.3562 758.398 L64.0042 758.398 L64.0042 764.255 L58.5296 764.255 Q61.7762 766.387 63.3676 769.22 Q64.9272 772.021 64.9272 775.745 Q64.9272 781.888 61.1078 785.071 Q57.2883 788.254 49.9359 788.254 M27.4968 773.517 L27.4968 773.517 Z\" fill=\"#000000\" fill-rule=\"evenodd\" fill-opacity=\"1\" /><path clip-path=\"url(#clip600)\" d=\"M1029.71 12.096 L1037.89 12.096 L1037.89 72.576 L1029.71 72.576 L1029.71 12.096 Z\" fill=\"#000000\" fill-rule=\"evenodd\" fill-opacity=\"1\" /><path clip-path=\"url(#clip600)\" d=\"M1091.57 45.1919 L1091.57 72.576 L1084.11 72.576 L1084.11 45.4349 Q1084.11 38.994 1081.6 35.7938 Q1079.09 32.5936 1074.07 32.5936 Q1068.03 32.5936 1064.55 36.4419 Q1061.06 40.2903 1061.06 46.9338 L1061.06 72.576 L1053.57 72.576 L1053.57 27.2059 L1061.06 27.2059 L1061.06 34.2544 Q1063.74 30.163 1067.34 28.1376 Q1070.99 26.1121 1075.73 26.1121 Q1083.55 26.1121 1087.56 30.9732 Q1091.57 35.7938 1091.57 45.1919 Z\" fill=\"#000000\" fill-rule=\"evenodd\" fill-opacity=\"1\" /><path clip-path=\"url(#clip600)\" d=\"M1113.64 65.7705 L1113.64 89.8329 L1106.15 89.8329 L1106.15 27.2059 L1113.64 27.2059 L1113.64 34.0924 Q1115.99 30.0415 1119.56 28.0971 Q1123.16 26.1121 1128.15 26.1121 Q1136.41 26.1121 1141.55 32.6746 Q1146.74 39.2371 1146.74 49.9314 Q1146.74 60.6258 1141.55 67.1883 Q1136.41 73.7508 1128.15 73.7508 Q1123.16 73.7508 1119.56 71.8063 Q1115.99 69.8214 1113.64 65.7705 M1139 49.9314 Q1139 41.7081 1135.6 37.0496 Q1132.24 32.3505 1126.32 32.3505 Q1120.41 32.3505 1117.01 37.0496 Q1113.64 41.7081 1113.64 49.9314 Q1113.64 58.1548 1117.01 62.8538 Q1120.41 67.5124 1126.32 67.5124 Q1132.24 67.5124 1135.6 62.8538 Q1139 58.1548 1139 49.9314 Z\" fill=\"#000000\" fill-rule=\"evenodd\" fill-opacity=\"1\" /><path clip-path=\"url(#clip600)\" d=\"M1158.33 54.671 L1158.33 27.2059 L1165.78 27.2059 L1165.78 54.3874 Q1165.78 60.8284 1168.29 64.0691 Q1170.8 67.2693 1175.83 67.2693 Q1181.86 67.2693 1185.35 63.421 Q1188.87 59.5726 1188.87 52.9291 L1188.87 27.2059 L1196.32 27.2059 L1196.32 72.576 L1188.87 72.576 L1188.87 65.6084 Q1186.16 69.7404 1182.55 71.7658 Q1178.99 73.7508 1174.25 73.7508 Q1166.43 73.7508 1162.38 68.8897 Q1158.33 64.0286 1158.33 54.671 M1177.08 26.1121 L1177.08 26.1121 Z\" fill=\"#000000\" fill-rule=\"evenodd\" fill-opacity=\"1\" /><path clip-path=\"url(#clip600)\" d=\"M1219.05 14.324 L1219.05 27.2059 L1234.4 27.2059 L1234.4 32.9987 L1219.05 32.9987 L1219.05 57.6282 Q1219.05 63.1779 1220.55 64.7578 Q1222.09 66.3376 1226.75 66.3376 L1234.4 66.3376 L1234.4 72.576 L1226.75 72.576 Q1218.12 72.576 1214.84 69.3758 Q1211.55 66.1351 1211.55 57.6282 L1211.55 32.9987 L1206.09 32.9987 L1206.09 27.2059 L1211.55 27.2059 L1211.55 14.324 L1219.05 14.324 Z\" fill=\"#000000\" fill-rule=\"evenodd\" fill-opacity=\"1\" /><path clip-path=\"url(#clip600)\" d=\"M1270.9 12.096 L1279.08 12.096 L1279.08 36.8875 L1308.82 36.8875 L1308.82 12.096 L1317 12.096 L1317 72.576 L1308.82 72.576 L1308.82 43.7741 L1279.08 43.7741 L1279.08 72.576 L1270.9 72.576 L1270.9 12.096 Z\" fill=\"#000000\" fill-rule=\"evenodd\" fill-opacity=\"1\" /><path clip-path=\"url(#clip600)\" d=\"M1332.96 27.2059 L1340.41 27.2059 L1340.41 72.576 L1332.96 72.576 L1332.96 27.2059 M1332.96 9.54393 L1340.41 9.54393 L1340.41 18.9825 L1332.96 18.9825 L1332.96 9.54393 Z\" fill=\"#000000\" fill-rule=\"evenodd\" fill-opacity=\"1\" /><path clip-path=\"url(#clip600)\" d=\"M1384.93 28.5427 L1384.93 35.5912 Q1381.77 33.9709 1378.37 33.1607 Q1374.97 32.3505 1371.32 32.3505 Q1365.77 32.3505 1362.98 34.0519 Q1360.22 35.7533 1360.22 39.156 Q1360.22 41.7486 1362.21 43.2475 Q1364.19 44.7058 1370.19 46.0426 L1372.74 46.6097 Q1380.68 48.3111 1384 51.4303 Q1387.36 54.509 1387.36 60.0587 Q1387.36 66.3781 1382.34 70.0644 Q1377.36 73.7508 1368.61 73.7508 Q1364.96 73.7508 1360.99 73.0216 Q1357.06 72.3329 1352.69 70.9151 L1352.69 63.2184 Q1356.82 65.3654 1360.83 66.4591 Q1364.84 67.5124 1368.77 67.5124 Q1374.04 67.5124 1376.87 65.73 Q1379.71 63.9071 1379.71 60.6258 Q1379.71 57.5877 1377.64 55.9673 Q1375.62 54.3469 1368.69 52.8481 L1366.1 52.2405 Q1359.17 50.7821 1356.09 47.7845 Q1353.01 44.7463 1353.01 39.4801 Q1353.01 33.0797 1357.55 29.5959 Q1362.09 26.1121 1370.43 26.1121 Q1374.56 26.1121 1378.21 26.7198 Q1381.85 27.3274 1384.93 28.5427 Z\" fill=\"#000000\" fill-rule=\"evenodd\" fill-opacity=\"1\" /><path clip-path=\"url(#clip600)\" d=\"M1406.61 14.324 L1406.61 27.2059 L1421.96 27.2059 L1421.96 32.9987 L1406.61 32.9987 L1406.61 57.6282 Q1406.61 63.1779 1408.1 64.7578 Q1409.64 66.3376 1414.3 66.3376 L1421.96 66.3376 L1421.96 72.576 L1414.3 72.576 Q1405.67 72.576 1402.39 69.3758 Q1399.11 66.1351 1399.11 57.6282 L1399.11 32.9987 L1393.64 32.9987 L1393.64 27.2059 L1399.11 27.2059 L1399.11 14.324 L1406.61 14.324 Z\" fill=\"#000000\" fill-rule=\"evenodd\" fill-opacity=\"1\" /><path clip-path=\"url(#clip600)\" d=\"M1449.34 32.4315 Q1443.35 32.4315 1439.86 37.1306 Q1436.38 41.7891 1436.38 49.9314 Q1436.38 58.0738 1439.82 62.7728 Q1443.31 67.4314 1449.34 67.4314 Q1455.3 67.4314 1458.78 62.7323 Q1462.27 58.0333 1462.27 49.9314 Q1462.27 41.8701 1458.78 37.1711 Q1455.3 32.4315 1449.34 32.4315 M1449.34 26.1121 Q1459.06 26.1121 1464.61 32.4315 Q1470.16 38.7509 1470.16 49.9314 Q1470.16 61.0714 1464.61 67.4314 Q1459.06 73.7508 1449.34 73.7508 Q1439.58 73.7508 1434.03 67.4314 Q1428.52 61.0714 1428.52 49.9314 Q1428.52 38.7509 1434.03 32.4315 Q1439.58 26.1121 1449.34 26.1121 Z\" fill=\"#000000\" fill-rule=\"evenodd\" fill-opacity=\"1\" /><path clip-path=\"url(#clip600)\" d=\"M1508.81 34.1734 Q1507.55 33.4443 1506.06 33.1202 Q1504.6 32.7556 1502.81 32.7556 Q1496.5 32.7556 1493.09 36.8875 Q1489.73 40.9789 1489.73 48.6757 L1489.73 72.576 L1482.24 72.576 L1482.24 27.2059 L1489.73 27.2059 L1489.73 34.2544 Q1492.08 30.1225 1495.85 28.1376 Q1499.61 26.1121 1505 26.1121 Q1505.77 26.1121 1506.7 26.2337 Q1507.64 26.3147 1508.77 26.5172 L1508.81 34.1734 Z\" fill=\"#000000\" fill-rule=\"evenodd\" fill-opacity=\"1\" /><path clip-path=\"url(#clip600)\" d=\"M1535.51 76.7889 Q1532.35 84.8907 1529.35 87.3618 Q1526.35 89.8329 1521.33 89.8329 L1515.37 89.8329 L1515.37 83.5945 L1519.75 83.5945 Q1522.83 83.5945 1524.53 82.1361 Q1526.23 80.6778 1528.29 75.2496 L1529.63 71.8468 L1511.28 27.2059 L1519.18 27.2059 L1533.36 62.6918 L1547.54 27.2059 L1555.44 27.2059 L1535.51 76.7889 Z\" fill=\"#000000\" fill-rule=\"evenodd\" fill-opacity=\"1\" /><polyline clip-path=\"url(#clip602)\" style=\"stroke:#009af9; stroke-linecap:round; stroke-linejoin:round; stroke-width:4; stroke-opacity:1; fill:none\" points=\"292.4,1172.43 299.621,1193.1 306.843,1196.4 314.064,1196.99 321.286,1196.19 328.507,1194.73 335.729,1197.25 342.95,1197.47 350.171,1191.27 357.393,1191.13 364.614,1181.55 371.836,1171.1 379.057,1179.57 386.279,1193.41 393.5,1198.38 400.722,1199.88 407.943,1200.71 415.165,1191.88 422.386,1192.13 429.608,1196.03 436.829,1189.49 444.05,1181.3 451.272,1186.33 458.493,1193.09 465.715,1189.16 472.936,1188.01 480.158,1188.44 487.379,1189.63 494.601,1190.18 501.822,1197.42 509.044,1198.56 516.265,1202.32 523.487,1204.38 530.708,1207.62 537.93,1205.16 545.151,1209.16 552.372,1210.59 559.594,1214.27 566.815,1212.28 574.037,1215.36 581.258,1212.63 588.48,1216.23 595.701,1217.32 602.923,1203.62 610.144,1211.04 617.366,1211.38 624.587,1207.72 631.809,1202.23 639.03,1201.73 646.252,1206.1 653.473,1206.2 660.694,1202.58 667.916,1193.08 675.137,1194.35 682.359,1198.47 689.58,1202.35 696.802,1202.01 704.023,1204.14 711.245,1203.39 718.466,1207.07 725.688,1210.82 732.909,1211.03 740.131,1210.88 747.352,1211.84 754.573,1216.73 761.795,1217.11 769.016,1220.08 776.238,1221.32 783.459,1221.91 790.681,1225.94 797.902,1228.26 805.124,1233.84 812.345,1235.55 819.567,1233.55 826.788,1232.89 834.01,1230.56 841.231,1228.48 848.453,1231.14 855.674,1236.02 862.895,1237.85 870.117,1241.91 877.338,1245.26 884.56,1247.7 891.781,1246.39 899.003,1247.24 906.224,1248.13 913.446,1248.56 920.667,1248.16 927.889,1247.03 935.11,1246.67 942.332,1246.53 949.553,1247.94 956.775,1248.96 963.996,1248.56 971.217,1250.32 978.439,1250.44 985.66,1250.81 992.882,1250.82 1000.1,1251.19 1007.32,1250.31 1014.55,1250.51 1021.77,1251.95 1028.99,1252.08 1036.21,1252.25 1043.43,1250.33 1050.65,1250.24 1057.88,1250.55 1065.1,1249.85 1072.32,1252.61 1079.54,1251.14 1086.76,1253.43 1093.98,1254.88 1101.2,1256.51 1108.43,1257.76 1115.65,1259.83 1122.87,1258.96 1130.09,1258.54 1137.31,1257.93 1144.53,1258.47 1151.75,1259.51 1158.98,1261.91 1166.2,1262.56 1173.42,1261.75 1180.64,1263.87 1187.86,1264.15 1195.08,1262.08 1202.3,1262.38 1209.53,1262.83 1216.75,1262.01 1223.97,1261.19 1231.19,1261.92 1238.41,1262.35 1245.63,1262.64 1252.85,1263.04 1260.08,1261.87 1267.3,1260.83 1274.52,1261.92 1281.74,1263.23 1288.96,1262.77 1296.18,1263.07 1303.4,1263.58 1310.63,1263.71 1317.85,1261.54 1325.07,1263.06 1332.29,1263.12 1339.51,1264.47 1346.73,1264.17 1353.96,1265.97 1361.18,1266.19 1368.4,1266.84 1375.62,1266.5 1382.84,1266.42 1390.06,1266.59 1397.28,1266.28 1404.51,1266.16 1411.73,1266.8 1418.95,1266.53 1426.17,1266.69 1433.39,1266.21 1440.61,1266.26 1447.83,1266.52 1455.06,1266.46 1462.28,1267.03 1469.5,1266.26 1476.72,1265.92 1483.94,1266.63 1491.16,1266.72 1498.38,1266.9 1505.61,1265.92 1512.83,1265.91 1520.05,1265.86 1527.27,1266.65 1534.49,1267.7 1541.71,1268.84 1548.93,1268.65 1556.16,1269.25 1563.38,1269.21 1570.6,1268.92 1577.82,1268.24 1585.04,1267.84 1592.26,1268.38 1599.48,1268.81 1606.71,1269.76 1613.93,1270.32 1621.15,1270.35 1628.37,1270.48 1635.59,1271.33 1642.81,1270.91 1650.04,1271.31 1657.26,1271.61 1664.48,1271.78 1671.7,1271 1678.92,1271.22 1686.14,1272.34 1693.36,1272.87 1700.59,1273.13 1707.81,1273.02 1715.03,1273.3 1722.25,1273.64 1729.47,1274.48 1736.69,1274.71 1743.91,1275.15 1751.14,1275.44 1758.36,1275.57 1765.58,1275.55 1772.8,1275.62 1780.02,1275.61 1787.24,1275.56 1794.46,1275.76 1801.69,1276.26 1808.91,1276.47 1816.13,1276.09 1823.35,1276.59 1830.57,1276.26 1837.79,1276.51 1845.01,1276.57 1852.24,1276.54 1859.46,1276.22 1866.68,1277.02 1873.9,1277.29 1881.12,1276.85 1888.34,1276.57 1895.56,1276.66 1902.79,1276.69 1910.01,1276.67 1917.23,1276.36 1924.45,1276.41 1931.67,1276.67 1938.89,1276.92 1946.12,1277 1953.34,1276.99 1960.56,1276.9 1967.78,1276.53 1975,1276.15 1982.22,1276.28 1989.44,1275.94 1996.67,1275.86 2003.89,1276.14 2011.11,1276.58 2018.33,1276.29 2025.55,1276.5 2032.77,1276.8 2039.99,1277.08 2047.22,1277.43 2054.44,1277.65 2061.66,1277.48 2068.88,1277.42 2076.1,1277.48 2083.32,1277.39 2090.54,1277.47 2097.77,1277.56 2104.99,1277.61 2112.21,1277.59 2119.43,1277.53 2126.65,1277.55 2133.87,1277.4 2141.09,1277.27 2148.32,1277.26 2155.54,1277.44 2162.76,1277.33 2169.98,1277.63 2177.2,1277.78 2184.42,1277.87 2191.65,1277.91 2198.87,1278.17 2206.09,1278.29 2213.31,1278.5 2220.53,1278.57 2227.75,1278.58 2234.97,1278.75 2242.2,1278.93 2249.42,1279.04 2256.64,1279.01 2263.86,1279.03 2271.08,1279.16 2278.3,1279.18 2285.52,1279.15 2292.75,1279.19 \"/>\n<polyline clip-path=\"url(#clip602)\" style=\"stroke:#e26f46; stroke-linecap:round; stroke-linejoin:round; stroke-width:4; stroke-opacity:1; fill:none\" points=\"292.4,1386.4 299.621,1370.41 306.843,1365.54 314.064,1359.12 321.286,1368.44 328.507,1352.23 335.729,1347.41 342.95,1349.76 350.171,1357.48 357.393,1354.43 364.614,1350.41 371.836,1352.12 379.057,1343.38 386.279,1337.78 393.5,1336.88 400.722,1339.74 407.943,1334.97 415.165,1324.04 422.386,1321.15 429.608,1315.04 436.829,1308.84 444.05,1295.64 451.272,1301.51 458.493,1313.06 465.715,1309.4 472.936,1310.28 480.158,1309.27 487.379,1309.22 494.601,1316.36 501.822,1320.65 509.044,1324.18 516.265,1333.77 523.487,1336.75 530.708,1344.97 537.93,1346.97 545.151,1339.21 552.372,1341.41 559.594,1342.35 566.815,1344.09 574.037,1339.97 581.258,1343.5 588.48,1343.13 595.701,1341.89 602.923,1343.96 610.144,1337.15 617.366,1336.22 624.587,1336.99 631.809,1340.93 639.03,1340.53 646.252,1335.34 653.473,1334.96 660.694,1335.6 667.916,1330.45 675.137,1326.82 682.359,1330.59 689.58,1329.51 696.802,1332.04 704.023,1326.19 711.245,1324.1 718.466,1323.42 725.688,1322.24 732.909,1319.09 740.131,1321.65 747.352,1315.81 754.573,1313.76 761.795,1313.04 769.016,1314.8 776.238,1315.15 783.459,1314.66 790.681,1312.1 797.902,1312.21 805.124,1312.93 812.345,1310.75 819.567,1310.54 826.788,1310.68 834.01,1308.47 841.231,1308.38 848.453,1308.7 855.674,1304.9 862.895,1301.85 870.117,1303.14 877.338,1304.36 884.56,1306.77 891.781,1305.39 899.003,1305.44 906.224,1303.5 913.446,1301.74 920.667,1298.2 927.889,1298.86 935.11,1297.54 942.332,1295.25 949.553,1294.29 956.775,1294.14 963.996,1291.56 971.217,1292.05 978.439,1289.41 985.66,1288.8 992.882,1287.87 1000.1,1285.93 1007.32,1285.68 1014.55,1286.31 1021.77,1286.16 1028.99,1284.88 1036.21,1285.63 1043.43,1286.24 1050.65,1287.6 1057.88,1288.27 1065.1,1284.99 1072.32,1283.88 1079.54,1282.83 1086.76,1282.38 1093.98,1281.62 1101.2,1282.46 1108.43,1284.24 1115.65,1284.74 1122.87,1282.95 1130.09,1280.43 1137.31,1278.69 1144.53,1276.21 1151.75,1276.28 1158.98,1275.03 1166.2,1274.09 1173.42,1273.09 1180.64,1273.27 1187.86,1271.43 1195.08,1270.55 1202.3,1269.18 1209.53,1269.2 1216.75,1268.7 1223.97,1268.53 1231.19,1268.69 1238.41,1268.66 1245.63,1269.13 1252.85,1269.54 1260.08,1270.84 1267.3,1270.84 1274.52,1270.91 1281.74,1270.29 1288.96,1269.54 1296.18,1271.15 1303.4,1270.95 1310.63,1270.34 1317.85,1269.42 1325.07,1269.35 1332.29,1269.18 1339.51,1267.93 1346.73,1268.18 1353.96,1269.05 1361.18,1269.46 1368.4,1268.06 1375.62,1266.32 1382.84,1265.29 1390.06,1265.04 1397.28,1265.26 1404.51,1266.3 1411.73,1267.28 1418.95,1267.01 1426.17,1266.11 1433.39,1266.02 1440.61,1266.25 1447.83,1265.6 1455.06,1264.92 1462.28,1264.08 1469.5,1264.07 1476.72,1263.85 1483.94,1262.93 1491.16,1263.06 1498.38,1263.11 1505.61,1263.98 1512.83,1263.97 1520.05,1263.71 1527.27,1264.21 1534.49,1264.39 1541.71,1264.86 1548.93,1265.14 1556.16,1265.5 1563.38,1265.98 1570.6,1266.09 1577.82,1265.81 1585.04,1265.6 1592.26,1265.05 1599.48,1264.82 1606.71,1264.55 1613.93,1264.86 1621.15,1264.6 1628.37,1264.9 1635.59,1264.89 1642.81,1263.95 1650.04,1264.02 1657.26,1264.1 1664.48,1263.89 1671.7,1263.31 1678.92,1263.6 1686.14,1263.54 1693.36,1262.99 1700.59,1262.29 1707.81,1261.85 1715.03,1261.97 1722.25,1262.07 1729.47,1262.22 1736.69,1262.15 1743.91,1262.31 1751.14,1262.54 1758.36,1262.1 1765.58,1262.16 1772.8,1262.26 1780.02,1262.47 1787.24,1262.43 1794.46,1262.55 1801.69,1262.34 1808.91,1262.4 1816.13,1262.6 1823.35,1262.87 1830.57,1262.86 1837.79,1263.03 1845.01,1263.25 1852.24,1263.89 1859.46,1264.12 1866.68,1263.64 1873.9,1263.69 1881.12,1264.08 1888.34,1264.13 1895.56,1264.41 1902.79,1264.5 1910.01,1265.1 1917.23,1264.9 1924.45,1264.76 1931.67,1264.49 1938.89,1264.04 1946.12,1264.22 1953.34,1264.02 1960.56,1264.28 1967.78,1264.33 1975,1264.28 1982.22,1264.58 1989.44,1264.72 1996.67,1264.86 2003.89,1265 2011.11,1265.33 2018.33,1264.97 2025.55,1264.87 2032.77,1264.8 2039.99,1264.99 2047.22,1265.29 2054.44,1264.99 2061.66,1265.06 2068.88,1265.11 2076.1,1264.89 2083.32,1264.99 2090.54,1264.95 2097.77,1265 2104.99,1265.06 2112.21,1265.08 2119.43,1265.11 2126.65,1265.09 2133.87,1265.42 2141.09,1265.47 2148.32,1265.49 2155.54,1265.5 2162.76,1265.39 2169.98,1265.55 2177.2,1265.62 2184.42,1265.6 2191.65,1265.49 2198.87,1265.73 2206.09,1265.65 2213.31,1265.6 2220.53,1265.61 2227.75,1265.66 2234.97,1265.75 2242.2,1265.67 2249.42,1265.83 2256.64,1265.88 2263.86,1265.88 2271.08,1265.97 2278.3,1265.98 2285.52,1265.95 2292.75,1266 \"/>\n<polyline clip-path=\"url(#clip602)\" style=\"stroke:#3da44d; stroke-linecap:round; stroke-linejoin:round; stroke-width:4; stroke-opacity:1; fill:none\" points=\"292.4,233.739 299.621,231.293 306.843,232.631 314.064,217.721 321.286,215.997 328.507,214.387 335.729,208.585 342.95,219.861 350.171,209.054 357.393,194.511 364.614,187.974 371.836,178.796 379.057,169.423 386.279,177.39 393.5,175.229 400.722,177.252 407.943,167.983 415.165,177.188 422.386,180.189 429.608,176.022 436.829,169.449 444.05,168.404 451.272,161.219 458.493,162.461 465.715,160.256 472.936,166.793 480.158,178.682 487.379,180.111 494.601,181.669 501.822,184.682 509.044,186.781 516.265,188.04 523.487,191.242 530.708,184.577 537.93,176.601 545.151,175.475 552.372,177.493 559.594,174.939 566.815,179.692 574.037,181.789 581.258,179.362 588.48,181.406 595.701,181.847 602.923,184.387 610.144,187.097 617.366,192.95 624.587,198.336 631.809,196.824 639.03,196.767 646.252,204.924 653.473,208.547 660.694,209.243 667.916,210.766 675.137,203.647 682.359,201.501 689.58,199.887 696.802,202.026 704.023,197.091 711.245,196.92 718.466,195.809 725.688,196.262 732.909,198.553 740.131,196.894 747.352,196.366 754.573,198.244 761.795,198.959 769.016,197.96 776.238,200.353 783.459,200.892 790.681,200.973 797.902,200.574 805.124,201.013 812.345,200.786 819.567,201.943 826.788,203.006 834.01,206.605 841.231,207.849 848.453,209.71 855.674,207.225 862.895,210.755 870.117,211.411 877.338,209.341 884.56,209.977 891.781,210.759 899.003,209.563 906.224,210.529 913.446,212.38 920.667,211.59 927.889,214.055 935.11,214.086 942.332,213.501 949.553,216.04 956.775,217.474 963.996,217.171 971.217,216.893 978.439,216.079 985.66,215.937 992.882,214.046 1000.1,215.181 1007.32,214.649 1014.55,216.4 1021.77,217.006 1028.99,217.117 1036.21,218.906 1043.43,220.442 1050.65,220.109 1057.88,218.896 1065.1,218.958 1072.32,215.967 1079.54,214.487 1086.76,215.711 1093.98,216.318 1101.2,217.46 1108.43,217.732 1115.65,218.138 1122.87,218.087 1130.09,218.118 1137.31,219.398 1144.53,217.673 1151.75,218.82 1158.98,221.327 1166.2,222.05 1173.42,222.726 1180.64,222.621 1187.86,222.214 1195.08,222.59 1202.3,223.445 1209.53,223.875 1216.75,223.626 1223.97,224.518 1231.19,225.172 1238.41,226.27 1245.63,226.754 1252.85,226.504 1260.08,225.172 1267.3,224.671 1274.52,224.147 1281.74,225.138 1288.96,225.112 1296.18,226.032 1303.4,225.945 1310.63,226.254 1317.85,228.314 1325.07,229.32 1332.29,229.801 1339.51,229.707 1346.73,228.449 1353.96,228.742 1361.18,229.892 1368.4,229.881 1375.62,229.39 1382.84,230.744 1390.06,230.933 1397.28,230.472 1404.51,230.67 1411.73,231.522 1418.95,231.52 1426.17,232.141 1433.39,233.22 1440.61,232.417 1447.83,231.976 1455.06,231.922 1462.28,233.096 1469.5,233.38 1476.72,233.347 1483.94,233.913 1491.16,234.052 1498.38,234.575 1505.61,235.244 1512.83,234.666 1520.05,233.354 1527.27,233.928 1534.49,234.296 1541.71,235.26 1548.93,235.738 1556.16,236.532 1563.38,236.041 1570.6,236.404 1577.82,236.993 1585.04,237.239 1592.26,237.759 1599.48,238.138 1606.71,238.655 1613.93,239.68 1621.15,240.426 1628.37,240.218 1635.59,239.654 1642.81,240.362 1650.04,241.482 1657.26,242.453 1664.48,243.14 1671.7,244.118 1678.92,244.515 1686.14,244.806 1693.36,244.441 1700.59,244.953 1707.81,245.094 1715.03,245.241 1722.25,245.262 1729.47,246.131 1736.69,246.48 1743.91,247.013 1751.14,248.099 1758.36,249.122 1765.58,249.66 1772.8,249.861 1780.02,250.422 1787.24,250.997 1794.46,251.301 1801.69,251.577 1808.91,251.693 1816.13,251.446 1823.35,251.346 1830.57,251.608 1837.79,251.408 1845.01,252.164 1852.24,252.761 1859.46,253.465 1866.68,253.602 1873.9,254.433 1881.12,254.872 1888.34,255.245 1895.56,255.605 1902.79,255.828 1910.01,256.472 1917.23,257.027 1924.45,257.655 1931.67,257.786 1938.89,258.182 1946.12,258.136 1953.34,258.438 1960.56,259.206 1967.78,259.594 1975,260.177 1982.22,260.516 1989.44,260.473 1996.67,260.632 2003.89,260.792 2011.11,261.241 2018.33,261.442 2025.55,261.393 2032.77,262.047 2039.99,262.214 2047.22,262.484 2054.44,263.144 2061.66,263.799 2068.88,264.219 2076.1,264.475 2083.32,264.861 2090.54,265.405 2097.77,265.814 2104.99,266.272 2112.21,266.736 2119.43,267.044 2126.65,267.217 2133.87,267.689 2141.09,267.953 2148.32,268.282 2155.54,268.499 2162.76,268.701 2169.98,269.128 2177.2,269.232 2184.42,269.494 2191.65,269.752 2198.87,269.993 2206.09,270.416 2213.31,270.685 2220.53,271.077 2227.75,271.347 2234.97,271.6 2242.2,271.828 2249.42,272.113 2256.64,272.512 2263.86,272.862 2271.08,273.249 2278.3,273.578 2285.52,273.962 2292.75,274.267 \"/>\n<path clip-path=\"url(#clip600)\" d=\"M2027.42 374.156 L2282.08 374.156 L2282.08 166.796 L2027.42 166.796  Z\" fill=\"#ffffff\" fill-rule=\"evenodd\" fill-opacity=\"1\"/>\n<polyline clip-path=\"url(#clip600)\" style=\"stroke:#000000; stroke-linecap:round; stroke-linejoin:round; stroke-width:4; stroke-opacity:1; fill:none\" points=\"2027.42,374.156 2282.08,374.156 2282.08,166.796 2027.42,166.796 2027.42,374.156 \"/>\n<polyline clip-path=\"url(#clip600)\" style=\"stroke:#009af9; stroke-linecap:round; stroke-linejoin:round; stroke-width:4; stroke-opacity:1; fill:none\" points=\"2050.98,218.636 2192.34,218.636 \"/>\n<path clip-path=\"url(#clip600)\" d=\"M2215.9 225.684 L2215.9 209.99 L2220.16 209.99 L2220.16 225.522 Q2220.16 229.203 2221.6 231.055 Q2223.03 232.883 2225.9 232.883 Q2229.35 232.883 2231.34 230.684 Q2233.36 228.485 2233.36 224.689 L2233.36 209.99 L2237.61 209.99 L2237.61 235.916 L2233.36 235.916 L2233.36 231.934 Q2231.8 234.295 2229.74 235.453 Q2227.71 236.587 2225 236.587 Q2220.53 236.587 2218.22 233.809 Q2215.9 231.031 2215.9 225.684 M2226.62 209.365 L2226.62 209.365 Z\" fill=\"#000000\" fill-rule=\"evenodd\" fill-opacity=\"1\" /><path clip-path=\"url(#clip600)\" d=\"M2245.53 233.369 L2250.25 233.369 L2250.25 219.226 L2245.09 220.175 L2245.09 217.49 L2250.42 216.587 L2253.59 216.587 L2253.59 233.369 L2258.33 233.369 L2258.33 235.916 L2245.53 235.916 L2245.53 233.369 Z\" fill=\"#000000\" fill-rule=\"evenodd\" fill-opacity=\"1\" /><polyline clip-path=\"url(#clip600)\" style=\"stroke:#e26f46; stroke-linecap:round; stroke-linejoin:round; stroke-width:4; stroke-opacity:1; fill:none\" points=\"2050.98,270.476 2192.34,270.476 \"/>\n<path clip-path=\"url(#clip600)\" d=\"M2215.9 277.524 L2215.9 261.83 L2220.16 261.83 L2220.16 277.362 Q2220.16 281.043 2221.6 282.895 Q2223.03 284.723 2225.9 284.723 Q2229.35 284.723 2231.34 282.524 Q2233.36 280.325 2233.36 276.529 L2233.36 261.83 L2237.61 261.83 L2237.61 287.756 L2233.36 287.756 L2233.36 283.774 Q2231.8 286.135 2229.74 287.293 Q2227.71 288.427 2225 288.427 Q2220.53 288.427 2218.22 285.649 Q2215.9 282.871 2215.9 277.524 M2226.62 261.205 L2226.62 261.205 Z\" fill=\"#000000\" fill-rule=\"evenodd\" fill-opacity=\"1\" /><path clip-path=\"url(#clip600)\" d=\"M2248.12 285.117 L2257.94 285.117 L2257.94 287.756 L2244.1 287.756 L2244.1 285.209 Q2244.88 284.492 2246.34 283.196 Q2254.3 276.135 2254.3 273.959 Q2254.3 272.432 2253.1 271.506 Q2251.9 270.557 2249.93 270.557 Q2248.73 270.557 2247.31 270.973 Q2245.9 271.367 2244.24 272.177 L2244.24 269.33 Q2246.02 268.682 2247.55 268.358 Q2249.1 268.034 2250.42 268.034 Q2253.77 268.034 2255.79 269.561 Q2257.8 271.089 2257.8 273.589 Q2257.8 276.807 2250.14 283.381 Q2248.84 284.492 2248.12 285.117 Z\" fill=\"#000000\" fill-rule=\"evenodd\" fill-opacity=\"1\" /><polyline clip-path=\"url(#clip600)\" style=\"stroke:#3da44d; stroke-linecap:round; stroke-linejoin:round; stroke-width:4; stroke-opacity:1; fill:none\" points=\"2050.98,322.316 2192.34,322.316 \"/>\n<path clip-path=\"url(#clip600)\" d=\"M2215.9 329.364 L2215.9 313.67 L2220.16 313.67 L2220.16 329.202 Q2220.16 332.883 2221.6 334.735 Q2223.03 336.563 2225.9 336.563 Q2229.35 336.563 2231.34 334.364 Q2233.36 332.165 2233.36 328.369 L2233.36 313.67 L2237.61 313.67 L2237.61 339.596 L2233.36 339.596 L2233.36 335.614 Q2231.8 337.975 2229.74 339.133 Q2227.71 340.267 2225 340.267 Q2220.53 340.267 2218.22 337.489 Q2215.9 334.711 2215.9 329.364 M2226.62 313.045 L2226.62 313.045 Z\" fill=\"#000000\" fill-rule=\"evenodd\" fill-opacity=\"1\" /><path clip-path=\"url(#clip600)\" d=\"M2254.05 329.133 Q2256.18 329.549 2257.34 330.823 Q2258.52 332.073 2258.52 333.971 Q2258.52 336.841 2256.32 338.392 Q2254.12 339.943 2250.02 339.943 Q2248.7 339.943 2247.24 339.688 Q2245.81 339.457 2244.19 338.994 L2244.19 336.193 Q2245.39 336.818 2246.76 337.119 Q2248.15 337.42 2249.7 337.42 Q2252.22 337.42 2253.61 336.517 Q2255 335.591 2255 333.971 Q2255 332.258 2253.7 331.378 Q2252.43 330.499 2249.93 330.499 L2247.94 330.499 L2247.94 327.999 L2250.11 327.999 Q2252.29 327.999 2253.4 327.281 Q2254.54 326.54 2254.54 325.151 Q2254.54 323.809 2253.38 323.114 Q2252.22 322.397 2250.02 322.397 Q2249.1 322.397 2247.92 322.605 Q2246.74 322.813 2244.86 323.346 L2244.86 320.684 Q2246.55 320.29 2248.03 320.082 Q2249.51 319.874 2250.79 319.874 Q2254.12 319.874 2256.06 321.239 Q2258.03 322.605 2258.03 324.897 Q2258.03 326.494 2256.99 327.605 Q2255.95 328.716 2254.05 329.133 Z\" fill=\"#000000\" fill-rule=\"evenodd\" fill-opacity=\"1\" /></svg>\n"
     },
     "metadata": {},
     "output_type": "display_data"
    },
    {
     "data": {
      "image/svg+xml": "<?xml version=\"1.0\" encoding=\"utf-8\"?>\n<svg xmlns=\"http://www.w3.org/2000/svg\" xmlns:xlink=\"http://www.w3.org/1999/xlink\" width=\"600\" height=\"400\" viewBox=\"0 0 2400 1600\">\n<defs>\n  <clipPath id=\"clip640\">\n    <rect x=\"0\" y=\"0\" width=\"2400\" height=\"1600\"/>\n  </clipPath>\n</defs>\n<path clip-path=\"url(#clip640)\" d=\"M0 1600 L2400 1600 L2400 0 L0 0  Z\" fill=\"#ffffff\" fill-rule=\"evenodd\" fill-opacity=\"1\"/>\n<defs>\n  <clipPath id=\"clip641\">\n    <rect x=\"480\" y=\"0\" width=\"1681\" height=\"1600\"/>\n  </clipPath>\n</defs>\n<path clip-path=\"url(#clip640)\" d=\"M210.977 1423.18 L2352.76 1423.18 L2352.76 123.472 L210.977 123.472  Z\" fill=\"#ffffff\" fill-rule=\"evenodd\" fill-opacity=\"1\"/>\n<defs>\n  <clipPath id=\"clip642\">\n    <rect x=\"210\" y=\"123\" width=\"2143\" height=\"1301\"/>\n  </clipPath>\n</defs>\n<polyline clip-path=\"url(#clip642)\" style=\"stroke:#000000; stroke-linecap:round; stroke-linejoin:round; stroke-width:2; stroke-opacity:0.1; fill:none\" points=\"271.594,1423.18 271.594,123.472 \"/>\n<polyline clip-path=\"url(#clip642)\" style=\"stroke:#000000; stroke-linecap:round; stroke-linejoin:round; stroke-width:2; stroke-opacity:0.1; fill:none\" points=\"633.699,1423.18 633.699,123.472 \"/>\n<polyline clip-path=\"url(#clip642)\" style=\"stroke:#000000; stroke-linecap:round; stroke-linejoin:round; stroke-width:2; stroke-opacity:0.1; fill:none\" points=\"995.804,1423.18 995.804,123.472 \"/>\n<polyline clip-path=\"url(#clip642)\" style=\"stroke:#000000; stroke-linecap:round; stroke-linejoin:round; stroke-width:2; stroke-opacity:0.1; fill:none\" points=\"1357.91,1423.18 1357.91,123.472 \"/>\n<polyline clip-path=\"url(#clip642)\" style=\"stroke:#000000; stroke-linecap:round; stroke-linejoin:round; stroke-width:2; stroke-opacity:0.1; fill:none\" points=\"1720.01,1423.18 1720.01,123.472 \"/>\n<polyline clip-path=\"url(#clip642)\" style=\"stroke:#000000; stroke-linecap:round; stroke-linejoin:round; stroke-width:2; stroke-opacity:0.1; fill:none\" points=\"2082.12,1423.18 2082.12,123.472 \"/>\n<polyline clip-path=\"url(#clip640)\" style=\"stroke:#000000; stroke-linecap:round; stroke-linejoin:round; stroke-width:4; stroke-opacity:1; fill:none\" points=\"210.977,1423.18 2352.76,1423.18 \"/>\n<polyline clip-path=\"url(#clip640)\" style=\"stroke:#000000; stroke-linecap:round; stroke-linejoin:round; stroke-width:4; stroke-opacity:1; fill:none\" points=\"271.594,1423.18 271.594,1404.28 \"/>\n<polyline clip-path=\"url(#clip640)\" style=\"stroke:#000000; stroke-linecap:round; stroke-linejoin:round; stroke-width:4; stroke-opacity:1; fill:none\" points=\"633.699,1423.18 633.699,1404.28 \"/>\n<polyline clip-path=\"url(#clip640)\" style=\"stroke:#000000; stroke-linecap:round; stroke-linejoin:round; stroke-width:4; stroke-opacity:1; fill:none\" points=\"995.804,1423.18 995.804,1404.28 \"/>\n<polyline clip-path=\"url(#clip640)\" style=\"stroke:#000000; stroke-linecap:round; stroke-linejoin:round; stroke-width:4; stroke-opacity:1; fill:none\" points=\"1357.91,1423.18 1357.91,1404.28 \"/>\n<polyline clip-path=\"url(#clip640)\" style=\"stroke:#000000; stroke-linecap:round; stroke-linejoin:round; stroke-width:4; stroke-opacity:1; fill:none\" points=\"1720.01,1423.18 1720.01,1404.28 \"/>\n<polyline clip-path=\"url(#clip640)\" style=\"stroke:#000000; stroke-linecap:round; stroke-linejoin:round; stroke-width:4; stroke-opacity:1; fill:none\" points=\"2082.12,1423.18 2082.12,1404.28 \"/>\n<path clip-path=\"url(#clip640)\" d=\"M248.978 1454.1 Q245.367 1454.1 243.538 1457.66 Q241.733 1461.2 241.733 1468.33 Q241.733 1475.44 243.538 1479.01 Q245.367 1482.55 248.978 1482.55 Q252.612 1482.55 254.418 1479.01 Q256.247 1475.44 256.247 1468.33 Q256.247 1461.2 254.418 1457.66 Q252.612 1454.1 248.978 1454.1 M248.978 1450.39 Q254.788 1450.39 257.844 1455 Q260.923 1459.58 260.923 1468.33 Q260.923 1477.06 257.844 1481.67 Q254.788 1486.25 248.978 1486.25 Q243.168 1486.25 240.089 1481.67 Q237.034 1477.06 237.034 1468.33 Q237.034 1459.58 240.089 1455 Q243.168 1450.39 248.978 1450.39 Z\" fill=\"#000000\" fill-rule=\"evenodd\" fill-opacity=\"1\" /><path clip-path=\"url(#clip640)\" d=\"M269.14 1479.7 L274.024 1479.7 L274.024 1485.58 L269.14 1485.58 L269.14 1479.7 Z\" fill=\"#000000\" fill-rule=\"evenodd\" fill-opacity=\"1\" /><path clip-path=\"url(#clip640)\" d=\"M294.209 1454.1 Q290.598 1454.1 288.77 1457.66 Q286.964 1461.2 286.964 1468.33 Q286.964 1475.44 288.77 1479.01 Q290.598 1482.55 294.209 1482.55 Q297.844 1482.55 299.649 1479.01 Q301.478 1475.44 301.478 1468.33 Q301.478 1461.2 299.649 1457.66 Q297.844 1454.1 294.209 1454.1 M294.209 1450.39 Q300.02 1450.39 303.075 1455 Q306.154 1459.58 306.154 1468.33 Q306.154 1477.06 303.075 1481.67 Q300.02 1486.25 294.209 1486.25 Q288.399 1486.25 285.321 1481.67 Q282.265 1477.06 282.265 1468.33 Q282.265 1459.58 285.321 1455 Q288.399 1450.39 294.209 1450.39 Z\" fill=\"#000000\" fill-rule=\"evenodd\" fill-opacity=\"1\" /><path clip-path=\"url(#clip640)\" d=\"M605.435 1481.64 L621.754 1481.64 L621.754 1485.58 L599.81 1485.58 L599.81 1481.64 Q602.472 1478.89 607.055 1474.26 Q611.662 1469.61 612.842 1468.27 Q615.088 1465.74 615.967 1464.01 Q616.87 1462.25 616.87 1460.56 Q616.87 1457.8 614.926 1456.07 Q613.004 1454.33 609.903 1454.33 Q607.704 1454.33 605.25 1455.09 Q602.819 1455.86 600.042 1457.41 L600.042 1452.69 Q602.866 1451.55 605.319 1450.97 Q607.773 1450.39 609.81 1450.39 Q615.18 1450.39 618.375 1453.08 Q621.569 1455.77 621.569 1460.26 Q621.569 1462.39 620.759 1464.31 Q619.972 1466.2 617.866 1468.8 Q617.287 1469.47 614.185 1472.69 Q611.083 1475.88 605.435 1481.64 Z\" fill=\"#000000\" fill-rule=\"evenodd\" fill-opacity=\"1\" /><path clip-path=\"url(#clip640)\" d=\"M631.569 1479.7 L636.453 1479.7 L636.453 1485.58 L631.569 1485.58 L631.569 1479.7 Z\" fill=\"#000000\" fill-rule=\"evenodd\" fill-opacity=\"1\" /><path clip-path=\"url(#clip640)\" d=\"M646.685 1451.02 L665.041 1451.02 L665.041 1454.96 L650.967 1454.96 L650.967 1463.43 Q651.986 1463.08 653.004 1462.92 Q654.023 1462.73 655.041 1462.73 Q660.828 1462.73 664.208 1465.9 Q667.587 1469.08 667.587 1474.49 Q667.587 1480.07 664.115 1483.17 Q660.643 1486.25 654.324 1486.25 Q652.148 1486.25 649.879 1485.88 Q647.634 1485.51 645.226 1484.77 L645.226 1480.07 Q647.31 1481.2 649.532 1481.76 Q651.754 1482.32 654.231 1482.32 Q658.236 1482.32 660.574 1480.21 Q662.912 1478.1 662.912 1474.49 Q662.912 1470.88 660.574 1468.77 Q658.236 1466.67 654.231 1466.67 Q652.356 1466.67 650.481 1467.08 Q648.629 1467.5 646.685 1468.38 L646.685 1451.02 Z\" fill=\"#000000\" fill-rule=\"evenodd\" fill-opacity=\"1\" /><path clip-path=\"url(#clip640)\" d=\"M962.968 1451.02 L981.325 1451.02 L981.325 1454.96 L967.251 1454.96 L967.251 1463.43 Q968.269 1463.08 969.288 1462.92 Q970.306 1462.73 971.325 1462.73 Q977.112 1462.73 980.491 1465.9 Q983.871 1469.08 983.871 1474.49 Q983.871 1480.07 980.399 1483.17 Q976.927 1486.25 970.607 1486.25 Q968.431 1486.25 966.163 1485.88 Q963.917 1485.51 961.51 1484.77 L961.51 1480.07 Q963.593 1481.2 965.815 1481.76 Q968.038 1482.32 970.515 1482.32 Q974.519 1482.32 976.857 1480.21 Q979.195 1478.1 979.195 1474.49 Q979.195 1470.88 976.857 1468.77 Q974.519 1466.67 970.515 1466.67 Q968.64 1466.67 966.765 1467.08 Q964.913 1467.5 962.968 1468.38 L962.968 1451.02 Z\" fill=\"#000000\" fill-rule=\"evenodd\" fill-opacity=\"1\" /><path clip-path=\"url(#clip640)\" d=\"M993.084 1479.7 L997.968 1479.7 L997.968 1485.58 L993.084 1485.58 L993.084 1479.7 Z\" fill=\"#000000\" fill-rule=\"evenodd\" fill-opacity=\"1\" /><path clip-path=\"url(#clip640)\" d=\"M1018.15 1454.1 Q1014.54 1454.1 1012.71 1457.66 Q1010.91 1461.2 1010.91 1468.33 Q1010.91 1475.44 1012.71 1479.01 Q1014.54 1482.55 1018.15 1482.55 Q1021.79 1482.55 1023.59 1479.01 Q1025.42 1475.44 1025.42 1468.33 Q1025.42 1461.2 1023.59 1457.66 Q1021.79 1454.1 1018.15 1454.1 M1018.15 1450.39 Q1023.96 1450.39 1027.02 1455 Q1030.1 1459.58 1030.1 1468.33 Q1030.1 1477.06 1027.02 1481.67 Q1023.96 1486.25 1018.15 1486.25 Q1012.34 1486.25 1009.26 1481.67 Q1006.21 1477.06 1006.21 1468.33 Q1006.21 1459.58 1009.26 1455 Q1012.34 1450.39 1018.15 1450.39 Z\" fill=\"#000000\" fill-rule=\"evenodd\" fill-opacity=\"1\" /><path clip-path=\"url(#clip640)\" d=\"M1324.23 1451.02 L1346.45 1451.02 L1346.45 1453.01 L1333.9 1485.58 L1329.02 1485.58 L1340.83 1454.96 L1324.23 1454.96 L1324.23 1451.02 Z\" fill=\"#000000\" fill-rule=\"evenodd\" fill-opacity=\"1\" /><path clip-path=\"url(#clip640)\" d=\"M1355.57 1479.7 L1360.45 1479.7 L1360.45 1485.58 L1355.57 1485.58 L1355.57 1479.7 Z\" fill=\"#000000\" fill-rule=\"evenodd\" fill-opacity=\"1\" /><path clip-path=\"url(#clip640)\" d=\"M1370.69 1451.02 L1389.04 1451.02 L1389.04 1454.96 L1374.97 1454.96 L1374.97 1463.43 Q1375.99 1463.08 1377.01 1462.92 Q1378.02 1462.73 1379.04 1462.73 Q1384.83 1462.73 1388.21 1465.9 Q1391.59 1469.08 1391.59 1474.49 Q1391.59 1480.07 1388.12 1483.17 Q1384.64 1486.25 1378.33 1486.25 Q1376.15 1486.25 1373.88 1485.88 Q1371.64 1485.51 1369.23 1484.77 L1369.23 1480.07 Q1371.31 1481.2 1373.53 1481.76 Q1375.76 1482.32 1378.23 1482.32 Q1382.24 1482.32 1384.58 1480.21 Q1386.91 1478.1 1386.91 1474.49 Q1386.91 1470.88 1384.58 1468.77 Q1382.24 1466.67 1378.23 1466.67 Q1376.36 1466.67 1374.48 1467.08 Q1372.63 1467.5 1370.69 1468.38 L1370.69 1451.02 Z\" fill=\"#000000\" fill-rule=\"evenodd\" fill-opacity=\"1\" /><path clip-path=\"url(#clip640)\" d=\"M1672.09 1481.64 L1679.72 1481.64 L1679.72 1455.28 L1671.41 1456.95 L1671.41 1452.69 L1679.68 1451.02 L1684.35 1451.02 L1684.35 1481.64 L1691.99 1481.64 L1691.99 1485.58 L1672.09 1485.58 L1672.09 1481.64 Z\" fill=\"#000000\" fill-rule=\"evenodd\" fill-opacity=\"1\" /><path clip-path=\"url(#clip640)\" d=\"M1711.44 1454.1 Q1707.83 1454.1 1706 1457.66 Q1704.19 1461.2 1704.19 1468.33 Q1704.19 1475.44 1706 1479.01 Q1707.83 1482.55 1711.44 1482.55 Q1715.07 1482.55 1716.88 1479.01 Q1718.71 1475.44 1718.71 1468.33 Q1718.71 1461.2 1716.88 1457.66 Q1715.07 1454.1 1711.44 1454.1 M1711.44 1450.39 Q1717.25 1450.39 1720.3 1455 Q1723.38 1459.58 1723.38 1468.33 Q1723.38 1477.06 1720.3 1481.67 Q1717.25 1486.25 1711.44 1486.25 Q1705.63 1486.25 1702.55 1481.67 Q1699.49 1477.06 1699.49 1468.33 Q1699.49 1459.58 1702.55 1455 Q1705.63 1450.39 1711.44 1450.39 Z\" fill=\"#000000\" fill-rule=\"evenodd\" fill-opacity=\"1\" /><path clip-path=\"url(#clip640)\" d=\"M1731.6 1479.7 L1736.48 1479.7 L1736.48 1485.58 L1731.6 1485.58 L1731.6 1479.7 Z\" fill=\"#000000\" fill-rule=\"evenodd\" fill-opacity=\"1\" /><path clip-path=\"url(#clip640)\" d=\"M1756.67 1454.1 Q1753.06 1454.1 1751.23 1457.66 Q1749.42 1461.2 1749.42 1468.33 Q1749.42 1475.44 1751.23 1479.01 Q1753.06 1482.55 1756.67 1482.55 Q1760.3 1482.55 1762.11 1479.01 Q1763.94 1475.44 1763.94 1468.33 Q1763.94 1461.2 1762.11 1457.66 Q1760.3 1454.1 1756.67 1454.1 M1756.67 1450.39 Q1762.48 1450.39 1765.53 1455 Q1768.61 1459.58 1768.61 1468.33 Q1768.61 1477.06 1765.53 1481.67 Q1762.48 1486.25 1756.67 1486.25 Q1750.86 1486.25 1747.78 1481.67 Q1744.72 1477.06 1744.72 1468.33 Q1744.72 1459.58 1747.78 1455 Q1750.86 1450.39 1756.67 1450.39 Z\" fill=\"#000000\" fill-rule=\"evenodd\" fill-opacity=\"1\" /><path clip-path=\"url(#clip640)\" d=\"M2034.69 1481.64 L2042.33 1481.64 L2042.33 1455.28 L2034.02 1456.95 L2034.02 1452.69 L2042.28 1451.02 L2046.96 1451.02 L2046.96 1481.64 L2054.6 1481.64 L2054.6 1485.58 L2034.69 1485.58 L2034.69 1481.64 Z\" fill=\"#000000\" fill-rule=\"evenodd\" fill-opacity=\"1\" /><path clip-path=\"url(#clip640)\" d=\"M2068.07 1481.64 L2084.39 1481.64 L2084.39 1485.58 L2062.44 1485.58 L2062.44 1481.64 Q2065.1 1478.89 2069.69 1474.26 Q2074.29 1469.61 2075.48 1468.27 Q2077.72 1465.74 2078.6 1464.01 Q2079.5 1462.25 2079.5 1460.56 Q2079.5 1457.8 2077.56 1456.07 Q2075.64 1454.33 2072.54 1454.33 Q2070.34 1454.33 2067.88 1455.09 Q2065.45 1455.86 2062.67 1457.41 L2062.67 1452.69 Q2065.5 1451.55 2067.95 1450.97 Q2070.41 1450.39 2072.44 1450.39 Q2077.81 1450.39 2081.01 1453.08 Q2084.2 1455.77 2084.2 1460.26 Q2084.2 1462.39 2083.39 1464.31 Q2082.6 1466.2 2080.5 1468.8 Q2079.92 1469.47 2076.82 1472.69 Q2073.72 1475.88 2068.07 1481.64 Z\" fill=\"#000000\" fill-rule=\"evenodd\" fill-opacity=\"1\" /><path clip-path=\"url(#clip640)\" d=\"M2094.2 1479.7 L2099.09 1479.7 L2099.09 1485.58 L2094.2 1485.58 L2094.2 1479.7 Z\" fill=\"#000000\" fill-rule=\"evenodd\" fill-opacity=\"1\" /><path clip-path=\"url(#clip640)\" d=\"M2109.32 1451.02 L2127.67 1451.02 L2127.67 1454.96 L2113.6 1454.96 L2113.6 1463.43 Q2114.62 1463.08 2115.64 1462.92 Q2116.66 1462.73 2117.67 1462.73 Q2123.46 1462.73 2126.84 1465.9 Q2130.22 1469.08 2130.22 1474.49 Q2130.22 1480.07 2126.75 1483.17 Q2123.28 1486.25 2116.96 1486.25 Q2114.78 1486.25 2112.51 1485.88 Q2110.27 1485.51 2107.86 1484.77 L2107.86 1480.07 Q2109.94 1481.2 2112.16 1481.76 Q2114.39 1482.32 2116.86 1482.32 Q2120.87 1482.32 2123.21 1480.21 Q2125.54 1478.1 2125.54 1474.49 Q2125.54 1470.88 2123.21 1468.77 Q2120.87 1466.67 2116.86 1466.67 Q2114.99 1466.67 2113.11 1467.08 Q2111.26 1467.5 2109.32 1468.38 L2109.32 1451.02 Z\" fill=\"#000000\" fill-rule=\"evenodd\" fill-opacity=\"1\" /><path clip-path=\"url(#clip640)\" d=\"M1169.32 1522.27 L1169.32 1532.4 L1181.38 1532.4 L1181.38 1536.95 L1169.32 1536.95 L1169.32 1556.3 Q1169.32 1560.66 1170.5 1561.9 Q1171.71 1563.14 1175.37 1563.14 L1181.38 1563.14 L1181.38 1568.04 L1175.37 1568.04 Q1168.59 1568.04 1166.01 1565.53 Q1163.43 1562.98 1163.43 1556.3 L1163.43 1536.95 L1159.14 1536.95 L1159.14 1532.4 L1163.43 1532.4 L1163.43 1522.27 L1169.32 1522.27 Z\" fill=\"#000000\" fill-rule=\"evenodd\" fill-opacity=\"1\" /><path clip-path=\"url(#clip640)\" d=\"M1189.09 1532.4 L1194.94 1532.4 L1194.94 1568.04 L1189.09 1568.04 L1189.09 1532.4 M1189.09 1518.52 L1194.94 1518.52 L1194.94 1525.93 L1189.09 1525.93 L1189.09 1518.52 Z\" fill=\"#000000\" fill-rule=\"evenodd\" fill-opacity=\"1\" /><path clip-path=\"url(#clip640)\" d=\"M1234.95 1539.24 Q1237.15 1535.29 1240.2 1533.41 Q1243.26 1531.54 1247.4 1531.54 Q1252.97 1531.54 1255.99 1535.45 Q1259.01 1539.33 1259.01 1546.53 L1259.01 1568.04 L1253.13 1568.04 L1253.13 1546.72 Q1253.13 1541.59 1251.31 1539.11 Q1249.5 1536.63 1245.77 1536.63 Q1241.22 1536.63 1238.58 1539.65 Q1235.94 1542.68 1235.94 1547.9 L1235.94 1568.04 L1230.05 1568.04 L1230.05 1546.72 Q1230.05 1541.56 1228.24 1539.11 Q1226.42 1536.63 1222.63 1536.63 Q1218.15 1536.63 1215.5 1539.68 Q1212.86 1542.71 1212.86 1547.9 L1212.86 1568.04 L1206.97 1568.04 L1206.97 1532.4 L1212.86 1532.4 L1212.86 1537.93 Q1214.87 1534.66 1217.67 1533.1 Q1220.47 1531.54 1224.32 1531.54 Q1228.2 1531.54 1230.91 1533.51 Q1233.65 1535.48 1234.95 1539.24 Z\" fill=\"#000000\" fill-rule=\"evenodd\" fill-opacity=\"1\" /><path clip-path=\"url(#clip640)\" d=\"M1301.19 1548.76 L1301.19 1551.62 L1274.26 1551.62 Q1274.64 1557.67 1277.89 1560.85 Q1281.17 1564 1286.99 1564 Q1290.36 1564 1293.52 1563.17 Q1296.7 1562.35 1299.82 1560.69 L1299.82 1566.23 Q1296.67 1567.57 1293.36 1568.27 Q1290.05 1568.97 1286.64 1568.97 Q1278.11 1568.97 1273.11 1564 Q1268.15 1559.04 1268.15 1550.57 Q1268.15 1541.82 1272.86 1536.69 Q1277.6 1531.54 1285.62 1531.54 Q1292.82 1531.54 1296.99 1536.18 Q1301.19 1540.8 1301.19 1548.76 M1295.33 1547.04 Q1295.27 1542.23 1292.62 1539.37 Q1290.01 1536.5 1285.69 1536.5 Q1280.78 1536.5 1277.82 1539.27 Q1274.9 1542.04 1274.45 1547.07 L1295.33 1547.04 Z\" fill=\"#000000\" fill-rule=\"evenodd\" fill-opacity=\"1\" /><path clip-path=\"url(#clip640)\" d=\"M1345.59 1518.58 Q1341.32 1525.9 1339.25 1533.06 Q1337.18 1540.23 1337.18 1547.58 Q1337.18 1554.93 1339.25 1562.16 Q1341.35 1569.35 1345.59 1576.64 L1340.49 1576.64 Q1335.72 1569.16 1333.33 1561.93 Q1330.98 1554.71 1330.98 1547.58 Q1330.98 1540.48 1333.33 1533.29 Q1335.69 1526.09 1340.49 1518.58 L1345.59 1518.58 Z\" fill=\"#000000\" fill-rule=\"evenodd\" fill-opacity=\"1\" /><path clip-path=\"url(#clip640)\" d=\"M1379.68 1533.45 L1379.68 1538.98 Q1377.19 1537.71 1374.52 1537.07 Q1371.85 1536.44 1368.98 1536.44 Q1364.62 1536.44 1362.42 1537.77 Q1360.26 1539.11 1360.26 1541.79 Q1360.26 1543.82 1361.82 1545 Q1363.38 1546.15 1368.09 1547.2 L1370.1 1547.64 Q1376.33 1548.98 1378.94 1551.43 Q1381.59 1553.85 1381.59 1558.21 Q1381.59 1563.17 1377.64 1566.07 Q1373.72 1568.97 1366.85 1568.97 Q1363.98 1568.97 1360.87 1568.39 Q1357.78 1567.85 1354.34 1566.74 L1354.34 1560.69 Q1357.59 1562.38 1360.74 1563.24 Q1363.89 1564.07 1366.98 1564.07 Q1371.11 1564.07 1373.34 1562.66 Q1375.57 1561.23 1375.57 1558.65 Q1375.57 1556.27 1373.95 1554.99 Q1372.36 1553.72 1366.91 1552.54 L1364.88 1552.07 Q1359.43 1550.92 1357.01 1548.56 Q1354.59 1546.18 1354.59 1542.04 Q1354.59 1537.01 1358.16 1534.27 Q1361.72 1531.54 1368.28 1531.54 Q1371.53 1531.54 1374.39 1532.01 Q1377.26 1532.49 1379.68 1533.45 Z\" fill=\"#000000\" fill-rule=\"evenodd\" fill-opacity=\"1\" /><path clip-path=\"url(#clip640)\" d=\"M1389.99 1518.58 L1395.08 1518.58 Q1399.86 1526.09 1402.21 1533.29 Q1404.6 1540.48 1404.6 1547.58 Q1404.6 1554.71 1402.21 1561.93 Q1399.86 1569.16 1395.08 1576.64 L1389.99 1576.64 Q1394.22 1569.35 1396.29 1562.16 Q1398.39 1554.93 1398.39 1547.58 Q1398.39 1540.23 1396.29 1533.06 Q1394.22 1525.9 1389.99 1518.58 Z\" fill=\"#000000\" fill-rule=\"evenodd\" fill-opacity=\"1\" /><polyline clip-path=\"url(#clip642)\" style=\"stroke:#000000; stroke-linecap:round; stroke-linejoin:round; stroke-width:2; stroke-opacity:0.1; fill:none\" points=\"210.977,1386.4 2352.76,1386.4 \"/>\n<polyline clip-path=\"url(#clip642)\" style=\"stroke:#000000; stroke-linecap:round; stroke-linejoin:round; stroke-width:2; stroke-opacity:0.1; fill:none\" points=\"210.977,1139.99 2352.76,1139.99 \"/>\n<polyline clip-path=\"url(#clip642)\" style=\"stroke:#000000; stroke-linecap:round; stroke-linejoin:round; stroke-width:2; stroke-opacity:0.1; fill:none\" points=\"210.977,893.584 2352.76,893.584 \"/>\n<polyline clip-path=\"url(#clip642)\" style=\"stroke:#000000; stroke-linecap:round; stroke-linejoin:round; stroke-width:2; stroke-opacity:0.1; fill:none\" points=\"210.977,647.178 2352.76,647.178 \"/>\n<polyline clip-path=\"url(#clip642)\" style=\"stroke:#000000; stroke-linecap:round; stroke-linejoin:round; stroke-width:2; stroke-opacity:0.1; fill:none\" points=\"210.977,400.772 2352.76,400.772 \"/>\n<polyline clip-path=\"url(#clip642)\" style=\"stroke:#000000; stroke-linecap:round; stroke-linejoin:round; stroke-width:2; stroke-opacity:0.1; fill:none\" points=\"210.977,154.366 2352.76,154.366 \"/>\n<polyline clip-path=\"url(#clip640)\" style=\"stroke:#000000; stroke-linecap:round; stroke-linejoin:round; stroke-width:4; stroke-opacity:1; fill:none\" points=\"210.977,1423.18 210.977,123.472 \"/>\n<polyline clip-path=\"url(#clip640)\" style=\"stroke:#000000; stroke-linecap:round; stroke-linejoin:round; stroke-width:4; stroke-opacity:1; fill:none\" points=\"210.977,1386.4 229.875,1386.4 \"/>\n<polyline clip-path=\"url(#clip640)\" style=\"stroke:#000000; stroke-linecap:round; stroke-linejoin:round; stroke-width:4; stroke-opacity:1; fill:none\" points=\"210.977,1139.99 229.875,1139.99 \"/>\n<polyline clip-path=\"url(#clip640)\" style=\"stroke:#000000; stroke-linecap:round; stroke-linejoin:round; stroke-width:4; stroke-opacity:1; fill:none\" points=\"210.977,893.584 229.875,893.584 \"/>\n<polyline clip-path=\"url(#clip640)\" style=\"stroke:#000000; stroke-linecap:round; stroke-linejoin:round; stroke-width:4; stroke-opacity:1; fill:none\" points=\"210.977,647.178 229.875,647.178 \"/>\n<polyline clip-path=\"url(#clip640)\" style=\"stroke:#000000; stroke-linecap:round; stroke-linejoin:round; stroke-width:4; stroke-opacity:1; fill:none\" points=\"210.977,400.772 229.875,400.772 \"/>\n<polyline clip-path=\"url(#clip640)\" style=\"stroke:#000000; stroke-linecap:round; stroke-linejoin:round; stroke-width:4; stroke-opacity:1; fill:none\" points=\"210.977,154.366 229.875,154.366 \"/>\n<path clip-path=\"url(#clip640)\" d=\"M114.26 1386.85 L143.936 1386.85 L143.936 1390.78 L114.26 1390.78 L114.26 1386.85 Z\" fill=\"#000000\" fill-rule=\"evenodd\" fill-opacity=\"1\" /><path clip-path=\"url(#clip640)\" d=\"M154.075 1369.12 L172.431 1369.12 L172.431 1373.05 L158.357 1373.05 L158.357 1381.52 Q159.376 1381.18 160.394 1381.01 Q161.413 1380.83 162.431 1380.83 Q168.218 1380.83 171.598 1384 Q174.977 1387.17 174.977 1392.59 Q174.977 1398.17 171.505 1401.27 Q168.033 1404.35 161.714 1404.35 Q159.538 1404.35 157.269 1403.98 Q155.024 1403.61 152.616 1402.87 L152.616 1398.17 Q154.7 1399.3 156.922 1399.86 Q159.144 1400.41 161.621 1400.41 Q165.626 1400.41 167.964 1398.31 Q170.302 1396.2 170.302 1392.59 Q170.302 1388.98 167.964 1386.87 Q165.626 1384.76 161.621 1384.76 Q159.746 1384.76 157.871 1385.18 Q156.019 1385.6 154.075 1386.48 L154.075 1369.12 Z\" fill=\"#000000\" fill-rule=\"evenodd\" fill-opacity=\"1\" /><path clip-path=\"url(#clip640)\" d=\"M163.033 1125.79 Q159.422 1125.79 157.593 1129.35 Q155.788 1132.9 155.788 1140.02 Q155.788 1147.13 157.593 1150.7 Q159.422 1154.24 163.033 1154.24 Q166.667 1154.24 168.473 1150.7 Q170.302 1147.13 170.302 1140.02 Q170.302 1132.9 168.473 1129.35 Q166.667 1125.79 163.033 1125.79 M163.033 1122.08 Q168.843 1122.08 171.899 1126.69 Q174.977 1131.27 174.977 1140.02 Q174.977 1148.75 171.899 1153.36 Q168.843 1157.94 163.033 1157.94 Q157.223 1157.94 154.144 1153.36 Q151.089 1148.75 151.089 1140.02 Q151.089 1131.27 154.144 1126.69 Q157.223 1122.08 163.033 1122.08 Z\" fill=\"#000000\" fill-rule=\"evenodd\" fill-opacity=\"1\" /><path clip-path=\"url(#clip640)\" d=\"M154.075 876.304 L172.431 876.304 L172.431 880.239 L158.357 880.239 L158.357 888.711 Q159.376 888.364 160.394 888.202 Q161.413 888.017 162.431 888.017 Q168.218 888.017 171.598 891.188 Q174.977 894.359 174.977 899.776 Q174.977 905.355 171.505 908.457 Q168.033 911.535 161.714 911.535 Q159.538 911.535 157.269 911.165 Q155.024 910.795 152.616 910.054 L152.616 905.355 Q154.7 906.489 156.922 907.045 Q159.144 907.6 161.621 907.6 Q165.626 907.6 167.964 905.494 Q170.302 903.387 170.302 899.776 Q170.302 896.165 167.964 894.058 Q165.626 891.952 161.621 891.952 Q159.746 891.952 157.871 892.369 Q156.019 892.785 154.075 893.665 L154.075 876.304 Z\" fill=\"#000000\" fill-rule=\"evenodd\" fill-opacity=\"1\" /><path clip-path=\"url(#clip640)\" d=\"M123.681 660.523 L131.32 660.523 L131.32 634.157 L123.01 635.824 L123.01 631.565 L131.274 629.898 L135.95 629.898 L135.95 660.523 L143.589 660.523 L143.589 664.458 L123.681 664.458 L123.681 660.523 Z\" fill=\"#000000\" fill-rule=\"evenodd\" fill-opacity=\"1\" /><path clip-path=\"url(#clip640)\" d=\"M163.033 632.977 Q159.422 632.977 157.593 636.541 Q155.788 640.083 155.788 647.213 Q155.788 654.319 157.593 657.884 Q159.422 661.426 163.033 661.426 Q166.667 661.426 168.473 657.884 Q170.302 654.319 170.302 647.213 Q170.302 640.083 168.473 636.541 Q166.667 632.977 163.033 632.977 M163.033 629.273 Q168.843 629.273 171.899 633.879 Q174.977 638.463 174.977 647.213 Q174.977 655.939 171.899 660.546 Q168.843 665.129 163.033 665.129 Q157.223 665.129 154.144 660.546 Q151.089 655.939 151.089 647.213 Q151.089 638.463 154.144 633.879 Q157.223 629.273 163.033 629.273 Z\" fill=\"#000000\" fill-rule=\"evenodd\" fill-opacity=\"1\" /><path clip-path=\"url(#clip640)\" d=\"M124.677 414.117 L132.316 414.117 L132.316 387.751 L124.005 389.418 L124.005 385.159 L132.269 383.492 L136.945 383.492 L136.945 414.117 L144.584 414.117 L144.584 418.052 L124.677 418.052 L124.677 414.117 Z\" fill=\"#000000\" fill-rule=\"evenodd\" fill-opacity=\"1\" /><path clip-path=\"url(#clip640)\" d=\"M154.075 383.492 L172.431 383.492 L172.431 387.427 L158.357 387.427 L158.357 395.899 Q159.376 395.552 160.394 395.39 Q161.413 395.205 162.431 395.205 Q168.218 395.205 171.598 398.376 Q174.977 401.547 174.977 406.964 Q174.977 412.543 171.505 415.645 Q168.033 418.723 161.714 418.723 Q159.538 418.723 157.269 418.353 Q155.024 417.982 152.616 417.242 L152.616 412.543 Q154.7 413.677 156.922 414.232 Q159.144 414.788 161.621 414.788 Q165.626 414.788 167.964 412.682 Q170.302 410.575 170.302 406.964 Q170.302 403.353 167.964 401.246 Q165.626 399.14 161.621 399.14 Q159.746 399.14 157.871 399.557 Q156.019 399.973 154.075 400.853 L154.075 383.492 Z\" fill=\"#000000\" fill-rule=\"evenodd\" fill-opacity=\"1\" /><path clip-path=\"url(#clip640)\" d=\"M126.899 167.711 L143.218 167.711 L143.218 171.646 L121.274 171.646 L121.274 167.711 Q123.936 164.956 128.519 160.326 Q133.126 155.674 134.306 154.331 Q136.552 151.808 137.431 150.072 Q138.334 148.313 138.334 146.623 Q138.334 143.868 136.39 142.132 Q134.468 140.396 131.367 140.396 Q129.167 140.396 126.714 141.16 Q124.283 141.924 121.505 143.475 L121.505 138.753 Q124.33 137.618 126.783 137.04 Q129.237 136.461 131.274 136.461 Q136.644 136.461 139.839 139.146 Q143.033 141.831 143.033 146.322 Q143.033 148.452 142.223 150.373 Q141.436 152.271 139.329 154.864 Q138.751 155.535 135.649 158.752 Q132.547 161.947 126.899 167.711 Z\" fill=\"#000000\" fill-rule=\"evenodd\" fill-opacity=\"1\" /><path clip-path=\"url(#clip640)\" d=\"M163.033 140.165 Q159.422 140.165 157.593 143.729 Q155.788 147.271 155.788 154.401 Q155.788 161.507 157.593 165.072 Q159.422 168.613 163.033 168.613 Q166.667 168.613 168.473 165.072 Q170.302 161.507 170.302 154.401 Q170.302 147.271 168.473 143.729 Q166.667 140.165 163.033 140.165 M163.033 136.461 Q168.843 136.461 171.899 141.067 Q174.977 145.651 174.977 154.401 Q174.977 163.127 171.899 167.734 Q168.843 172.317 163.033 172.317 Q157.223 172.317 154.144 167.734 Q151.089 163.127 151.089 154.401 Q151.089 145.651 154.144 141.067 Q157.223 136.461 163.033 136.461 Z\" fill=\"#000000\" fill-rule=\"evenodd\" fill-opacity=\"1\" /><path clip-path=\"url(#clip640)\" d=\"M28.3562 756.711 L45.7028 769.602 L64.0042 756.043 L64.0042 762.95 L49.9996 773.326 L64.0042 783.702 L64.0042 790.609 L45.3526 776.763 L28.3562 789.431 L28.3562 782.524 L41.0558 773.071 L28.3562 763.618 L28.3562 756.711 Z\" fill=\"#000000\" fill-rule=\"evenodd\" fill-opacity=\"1\" /><path clip-path=\"url(#clip640)\" d=\"M1054.21 14.0809 L1054.21 22.0612 Q1049.55 19.8332 1045.42 18.7395 Q1041.28 17.6457 1037.44 17.6457 Q1030.75 17.6457 1027.11 20.2383 Q1023.5 22.8309 1023.5 27.611 Q1023.5 31.6214 1025.89 33.6873 Q1028.32 35.7128 1035.05 36.9686 L1039.99 37.9813 Q1049.14 39.7232 1053.48 44.1387 Q1057.85 48.5136 1057.85 55.8863 Q1057.85 64.6767 1051.94 69.2137 Q1046.06 73.7508 1034.68 73.7508 Q1030.39 73.7508 1025.53 72.7785 Q1020.7 71.8063 1015.52 69.9024 L1015.52 61.4765 Q1020.5 64.2716 1025.28 65.6895 Q1030.06 67.1073 1034.68 67.1073 Q1041.69 67.1073 1045.5 64.3527 Q1049.3 61.598 1049.3 56.4939 Q1049.3 52.0379 1046.55 49.5264 Q1043.84 47.0148 1037.6 45.759 L1032.61 44.7868 Q1023.46 42.9639 1019.37 39.075 Q1015.28 35.1862 1015.28 28.2591 Q1015.28 20.2383 1020.91 15.6203 Q1026.58 11.0023 1036.5 11.0023 Q1040.76 11.0023 1045.17 11.7719 Q1049.59 12.5416 1054.21 14.0809 Z\" fill=\"#000000\" fill-rule=\"evenodd\" fill-opacity=\"1\" /><path clip-path=\"url(#clip640)\" d=\"M1077.66 14.324 L1077.66 27.2059 L1093.01 27.2059 L1093.01 32.9987 L1077.66 32.9987 L1077.66 57.6282 Q1077.66 63.1779 1079.16 64.7578 Q1080.7 66.3376 1085.36 66.3376 L1093.01 66.3376 L1093.01 72.576 L1085.36 72.576 Q1076.73 72.576 1073.45 69.3758 Q1070.17 66.1351 1070.17 57.6282 L1070.17 32.9987 L1064.7 32.9987 L1064.7 27.2059 L1070.17 27.2059 L1070.17 14.324 L1077.66 14.324 Z\" fill=\"#000000\" fill-rule=\"evenodd\" fill-opacity=\"1\" /><path clip-path=\"url(#clip640)\" d=\"M1123.44 49.7694 Q1114.4 49.7694 1110.92 51.8354 Q1107.43 53.9013 1107.43 58.8839 Q1107.43 62.8538 1110.03 65.2034 Q1112.66 67.5124 1117.16 67.5124 Q1123.35 67.5124 1127.08 63.1374 Q1130.85 58.7219 1130.85 51.4303 L1130.85 49.7694 L1123.44 49.7694 M1138.3 46.6907 L1138.3 72.576 L1130.85 72.576 L1130.85 65.6895 Q1128.3 69.8214 1124.49 71.8063 Q1120.68 73.7508 1115.17 73.7508 Q1108.2 73.7508 1104.07 69.8619 Q1099.98 65.9325 1099.98 59.3701 Q1099.98 51.7138 1105.09 47.825 Q1110.23 43.9361 1120.4 43.9361 L1130.85 43.9361 L1130.85 43.2069 Q1130.85 38.0623 1127.45 35.2672 Q1124.08 32.4315 1117.97 32.4315 Q1114.08 32.4315 1110.39 33.3632 Q1106.71 34.295 1103.3 36.1584 L1103.3 29.2718 Q1107.39 27.692 1111.24 26.9223 Q1115.09 26.1121 1118.74 26.1121 Q1128.58 26.1121 1133.44 31.2163 Q1138.3 36.3204 1138.3 46.6907 Z\" fill=\"#000000\" fill-rule=\"evenodd\" fill-opacity=\"1\" /><path clip-path=\"url(#clip640)\" d=\"M1161.03 14.324 L1161.03 27.2059 L1176.38 27.2059 L1176.38 32.9987 L1161.03 32.9987 L1161.03 57.6282 Q1161.03 63.1779 1162.53 64.7578 Q1164.07 66.3376 1168.72 66.3376 L1176.38 66.3376 L1176.38 72.576 L1168.72 72.576 Q1160.1 72.576 1156.82 69.3758 Q1153.53 66.1351 1153.53 57.6282 L1153.53 32.9987 L1148.07 32.9987 L1148.07 27.2059 L1153.53 27.2059 L1153.53 14.324 L1161.03 14.324 Z\" fill=\"#000000\" fill-rule=\"evenodd\" fill-opacity=\"1\" /><path clip-path=\"url(#clip640)\" d=\"M1224.99 48.0275 L1224.99 51.6733 L1190.72 51.6733 Q1191.21 59.3701 1195.34 63.421 Q1199.51 67.4314 1206.92 67.4314 Q1211.22 67.4314 1215.23 66.3781 Q1219.28 65.3249 1223.25 63.2184 L1223.25 70.267 Q1219.24 71.9684 1215.03 72.8596 Q1210.81 73.7508 1206.48 73.7508 Q1195.62 73.7508 1189.26 67.4314 Q1182.94 61.1119 1182.94 50.3365 Q1182.94 39.1965 1188.94 32.6746 Q1194.97 26.1121 1205.18 26.1121 Q1214.34 26.1121 1219.64 32.0264 Q1224.99 37.9003 1224.99 48.0275 M1217.54 45.84 Q1217.46 39.7232 1214.1 36.0774 Q1210.77 32.4315 1205.26 32.4315 Q1199.03 32.4315 1195.26 35.9558 Q1191.53 39.4801 1190.96 45.8805 L1217.54 45.84 Z\" fill=\"#000000\" fill-rule=\"evenodd\" fill-opacity=\"1\" /><path clip-path=\"url(#clip640)\" d=\"M1263.92 12.096 L1272.1 12.096 L1272.1 36.8875 L1301.84 36.8875 L1301.84 12.096 L1310.02 12.096 L1310.02 72.576 L1301.84 72.576 L1301.84 43.7741 L1272.1 43.7741 L1272.1 72.576 L1263.92 72.576 L1263.92 12.096 Z\" fill=\"#000000\" fill-rule=\"evenodd\" fill-opacity=\"1\" /><path clip-path=\"url(#clip640)\" d=\"M1325.98 27.2059 L1333.43 27.2059 L1333.43 72.576 L1325.98 72.576 L1325.98 27.2059 M1325.98 9.54393 L1333.43 9.54393 L1333.43 18.9825 L1325.98 18.9825 L1325.98 9.54393 Z\" fill=\"#000000\" fill-rule=\"evenodd\" fill-opacity=\"1\" /><path clip-path=\"url(#clip640)\" d=\"M1377.95 28.5427 L1377.95 35.5912 Q1374.79 33.9709 1371.39 33.1607 Q1367.99 32.3505 1364.34 32.3505 Q1358.79 32.3505 1356 34.0519 Q1353.24 35.7533 1353.24 39.156 Q1353.24 41.7486 1355.23 43.2475 Q1357.21 44.7058 1363.21 46.0426 L1365.76 46.6097 Q1373.7 48.3111 1377.02 51.4303 Q1380.38 54.509 1380.38 60.0587 Q1380.38 66.3781 1375.36 70.0644 Q1370.38 73.7508 1361.63 73.7508 Q1357.98 73.7508 1354.01 73.0216 Q1350.08 72.3329 1345.71 70.9151 L1345.71 63.2184 Q1349.84 65.3654 1353.85 66.4591 Q1357.86 67.5124 1361.79 67.5124 Q1367.06 67.5124 1369.89 65.73 Q1372.73 63.9071 1372.73 60.6258 Q1372.73 57.5877 1370.66 55.9673 Q1368.64 54.3469 1361.71 52.8481 L1359.12 52.2405 Q1352.19 50.7821 1349.11 47.7845 Q1346.03 44.7463 1346.03 39.4801 Q1346.03 33.0797 1350.57 29.5959 Q1355.11 26.1121 1363.45 26.1121 Q1367.58 26.1121 1371.23 26.7198 Q1374.88 27.3274 1377.95 28.5427 Z\" fill=\"#000000\" fill-rule=\"evenodd\" fill-opacity=\"1\" /><path clip-path=\"url(#clip640)\" d=\"M1399.63 14.324 L1399.63 27.2059 L1414.98 27.2059 L1414.98 32.9987 L1399.63 32.9987 L1399.63 57.6282 Q1399.63 63.1779 1401.13 64.7578 Q1402.66 66.3376 1407.32 66.3376 L1414.98 66.3376 L1414.98 72.576 L1407.32 72.576 Q1398.69 72.576 1395.41 69.3758 Q1392.13 66.1351 1392.13 57.6282 L1392.13 32.9987 L1386.66 32.9987 L1386.66 27.2059 L1392.13 27.2059 L1392.13 14.324 L1399.63 14.324 Z\" fill=\"#000000\" fill-rule=\"evenodd\" fill-opacity=\"1\" /><path clip-path=\"url(#clip640)\" d=\"M1442.36 32.4315 Q1436.37 32.4315 1432.88 37.1306 Q1429.4 41.7891 1429.4 49.9314 Q1429.4 58.0738 1432.84 62.7728 Q1436.33 67.4314 1442.36 67.4314 Q1448.32 67.4314 1451.8 62.7323 Q1455.29 58.0333 1455.29 49.9314 Q1455.29 41.8701 1451.8 37.1711 Q1448.32 32.4315 1442.36 32.4315 M1442.36 26.1121 Q1452.09 26.1121 1457.64 32.4315 Q1463.19 38.7509 1463.19 49.9314 Q1463.19 61.0714 1457.64 67.4314 Q1452.09 73.7508 1442.36 73.7508 Q1432.6 73.7508 1427.05 67.4314 Q1421.54 61.0714 1421.54 49.9314 Q1421.54 38.7509 1427.05 32.4315 Q1432.6 26.1121 1442.36 26.1121 Z\" fill=\"#000000\" fill-rule=\"evenodd\" fill-opacity=\"1\" /><path clip-path=\"url(#clip640)\" d=\"M1501.83 34.1734 Q1500.57 33.4443 1499.08 33.1202 Q1497.62 32.7556 1495.84 32.7556 Q1489.52 32.7556 1486.11 36.8875 Q1482.75 40.9789 1482.75 48.6757 L1482.75 72.576 L1475.26 72.576 L1475.26 27.2059 L1482.75 27.2059 L1482.75 34.2544 Q1485.1 30.1225 1488.87 28.1376 Q1492.64 26.1121 1498.02 26.1121 Q1498.79 26.1121 1499.72 26.2337 Q1500.66 26.3147 1501.79 26.5172 L1501.83 34.1734 Z\" fill=\"#000000\" fill-rule=\"evenodd\" fill-opacity=\"1\" /><path clip-path=\"url(#clip640)\" d=\"M1528.53 76.7889 Q1525.37 84.8907 1522.37 87.3618 Q1519.37 89.8329 1514.35 89.8329 L1508.39 89.8329 L1508.39 83.5945 L1512.77 83.5945 Q1515.85 83.5945 1517.55 82.1361 Q1519.25 80.6778 1521.32 75.2496 L1522.65 71.8468 L1504.3 27.2059 L1512.2 27.2059 L1526.38 62.6918 L1540.56 27.2059 L1548.46 27.2059 L1528.53 76.7889 Z\" fill=\"#000000\" fill-rule=\"evenodd\" fill-opacity=\"1\" /><polyline clip-path=\"url(#clip642)\" style=\"stroke:#009af9; stroke-linecap:round; stroke-linejoin:round; stroke-width:4; stroke-opacity:1; fill:none\" points=\"271.594,939.935 278.836,925.064 286.078,927.883 293.32,933.865 300.562,941.491 307.804,949.944 315.046,953.402 322.288,959.548 329.531,973.732 336.773,980.575 344.015,999.272 351.257,1019.6 358.499,1016.62 365.741,1006.28 372.983,1006.26 380.225,1010.29 387.467,1015 394.709,1031.81 401.952,1037.63 409.194,1038.78 416.436,1052.84 423.678,1069.3 430.92,1069.53 438.162,1067.23 445.404,1077.96 452.646,1085.38 459.888,1090.83 467.13,1095.26 474.373,1100.37 481.615,1096.97 488.857,1100.79 496.099,1101.18 503.341,1103.45 510.583,1104.09 517.825,1111.67 525.067,1111.21 532.309,1113.73 539.551,1113.29 546.794,1119.72 554.036,1119.86 561.278,1127.11 568.52,1126.49 575.762,1128.79 583.004,1149.67 590.246,1144.67 597.488,1148.14 604.73,1156.62 611.972,1167.59 619.215,1172.55 626.457,1171.38 633.699,1175.3 640.941,1183.89 648.183,1200.09 655.425,1203.23 662.667,1202.68 669.909,1202.15 677.151,1206.7 684.393,1208.11 691.636,1213.03 698.878,1212.36 706.12,1211.37 713.362,1214.59 720.604,1218.24 727.846,1220.48 735.088,1217.68 742.33,1220.25 749.572,1219.51 756.814,1220.76 764.057,1222.74 771.299,1220.32 778.541,1219.8 785.783,1215.01 793.025,1214.75 800.267,1219.06 807.509,1221.78 814.751,1226.62 821.993,1231.29 829.235,1230.08 836.478,1225.89 843.72,1225.26 850.962,1221.67 858.204,1218.72 865.446,1216.72 872.688,1219.29 879.93,1219.19 887.172,1218.99 894.414,1219.29 901.656,1220.63 908.899,1222.89 916.141,1224.24 923.383,1225.31 930.625,1224.44 937.867,1223.95 945.109,1225.2 952.351,1223.74 959.593,1224.23 966.835,1224.39 974.077,1224.98 981.32,1225.09 988.562,1226.77 995.804,1227.14 1003.05,1225.9 1010.29,1226.24 1017.53,1226.51 1024.77,1229.4 1032.01,1230.11 1039.26,1230.29 1046.5,1231.73 1053.74,1228.84 1060.98,1231.14 1068.22,1228.75 1075.47,1227.3 1082.71,1225.53 1089.95,1224.13 1097.19,1221.62 1104.44,1222.71 1111.68,1223.27 1118.92,1224.1 1126.16,1223.5 1133.4,1222.24 1140.65,1219.2 1147.89,1218.23 1155.13,1219.06 1162.37,1216.24 1169.61,1215.61 1176.86,1217.94 1184.1,1217.39 1191.34,1216.64 1198.58,1217.47 1205.82,1218.35 1213.07,1217.32 1220.31,1216.62 1227.55,1216.08 1234.79,1215.39 1242.04,1216.65 1249.28,1217.82 1256.52,1216.37 1263.76,1214.58 1271,1214.93 1278.25,1214.36 1285.49,1213.51 1292.73,1213.11 1299.97,1215.62 1307.21,1213.6 1314.46,1213.33 1321.7,1211.43 1328.94,1211.54 1336.18,1209.03 1343.42,1208.39 1350.67,1207.2 1357.91,1207.24 1365.15,1206.96 1372.39,1206.39 1379.64,1206.4 1386.88,1206.2 1394.12,1205.06 1401.36,1205.02 1408.6,1204.47 1415.85,1204.71 1423.09,1204.33 1430.33,1203.67 1437.57,1203.43 1444.81,1202.38 1452.06,1203 1459.3,1203.13 1466.54,1201.96 1473.78,1201.53 1481.02,1200.98 1488.27,1201.91 1495.51,1201.66 1502.75,1201.48 1509.99,1200.23 1517.23,1198.63 1524.48,1196.86 1531.72,1196.69 1538.96,1195.54 1546.2,1195.18 1553.45,1195.15 1560.69,1195.62 1567.93,1195.8 1575.17,1194.81 1582.41,1193.94 1589.66,1192.38 1596.9,1191.28 1604.14,1190.81 1611.38,1190.24 1618.62,1188.73 1625.87,1188.8 1633.11,1187.85 1640.35,1187.02 1647.59,1186.34 1654.83,1186.86 1662.08,1186.16 1669.32,1184.33 1676.56,1183.18 1683.8,1182.34 1691.05,1181.97 1698.29,1181.12 1705.53,1180.18 1712.77,1178.59 1720.01,1177.73 1727.26,1176.61 1734.5,1175.64 1741.74,1174.89 1748.98,1174.3 1756.22,1173.62 1763.47,1173.05 1770.71,1172.53 1777.95,1171.71 1785.19,1170.51 1792.43,1169.65 1799.68,1169.52 1806.92,1168.33 1814.16,1168.15 1821.4,1167.26 1828.65,1166.62 1835.89,1166.09 1843.13,1165.94 1850.37,1164.4 1857.61,1163.5 1864.86,1163.46 1872.1,1163.27 1879.34,1162.65 1886.58,1162.09 1893.82,1161.6 1901.07,1161.49 1908.31,1160.97 1915.55,1160.17 1922.79,1159.39 1930.03,1158.81 1937.28,1158.35 1944.52,1158 1951.76,1158.01 1959,1158.07 1966.25,1157.52 1973.49,1157.57 1980.73,1157.31 1987.97,1156.62 1995.21,1155.72 2002.46,1155.71 2009.7,1155.1 2016.94,1154.38 2024.18,1153.67 2031.42,1152.88 2038.67,1152.23 2045.91,1152.07 2053.15,1151.78 2060.39,1151.37 2067.63,1151.15 2074.88,1150.73 2082.12,1150.3 2089.36,1149.93 2096.6,1149.65 2103.84,1149.43 2111.09,1149.13 2118.33,1149.05 2125.57,1148.97 2132.81,1148.74 2140.06,1148.29 2147.3,1148.21 2154.54,1147.62 2161.78,1147.22 2169.02,1146.88 2176.27,1146.63 2183.51,1146.11 2190.75,1145.75 2197.99,1145.29 2205.23,1145 2212.48,1144.78 2219.72,1144.38 2226.96,1143.96 2234.2,1143.65 2241.44,1143.5 2248.69,1143.31 2255.93,1142.99 2263.17,1142.82 2270.41,1142.71 2277.66,1142.52 2284.9,1142.24 2292.14,1142.05 \"/>\n<polyline clip-path=\"url(#clip642)\" style=\"stroke:#e26f46; stroke-linecap:round; stroke-linejoin:round; stroke-width:4; stroke-opacity:1; fill:none\" points=\"271.594,1037.66 278.836,1054.73 286.078,1055.01 293.32,1057.61 300.562,1040.76 307.804,1055.62 315.046,1057.12 322.288,1049.91 329.531,1035.82 336.773,1034.91 344.015,1035.45 351.257,1029.03 358.499,1035.76 365.741,1039.07 372.983,1036.82 380.225,1029.92 387.467,1032.52 394.709,1043.22 401.952,1044.46 409.194,1049.96 416.436,1055.97 423.678,1071.22 430.92,1063.23 438.162,1047.74 445.404,1050.8 452.646,1048.36 459.888,1048.28 467.13,1047.08 474.373,1036.83 481.615,1029.78 488.857,1023.45 496.099,1009.29 503.341,1002.91 510.583,989.761 517.825,983.98 525.067,990.421 532.309,984.789 539.551,980.623 546.794,975.413 554.036,977.512 561.278,970.207 568.52,967.634 575.762,966.206 583.004,960.685 590.246,966.265 597.488,964.836 604.73,961.334 611.972,953.791 619.215,951.518 626.457,955.31 633.699,953.369 640.941,950.158 648.183,954.224 655.425,956.685 662.667,950.04 669.909,949.288 677.151,944.06 684.393,949.272 691.636,950.086 698.878,949.26 706.12,949.092 713.362,951.499 720.604,946.888 727.846,952.732 735.088,954.148 742.33,954 749.572,950.778 756.814,949.225 764.057,948.715 771.299,950.857 778.541,949.764 785.783,947.91 793.025,949.668 800.267,949.065 807.509,948.047 814.751,949.975 821.993,949.355 829.235,948.221 836.478,952.275 843.72,955.605 850.962,953.638 858.204,951.678 865.446,948.131 872.688,949.221 879.93,948.596 887.172,950.479 894.414,952.233 901.656,956.345 908.899,955.348 916.141,956.819 923.383,959.586 930.625,960.808 937.867,961.05 945.109,964.373 952.351,963.966 959.593,967.476 966.835,968.563 974.077,970.091 981.32,972.952 988.562,973.775 995.804,973.508 1003.05,974.168 1010.29,976.272 1017.53,975.874 1024.77,975.608 1032.01,974.338 1039.26,973.856 1046.5,978.309 1053.74,980.207 1060.98,982.099 1068.22,983.273 1075.47,984.866 1082.71,984.471 1089.95,982.832 1097.19,982.698 1104.44,985.414 1111.68,989.138 1118.92,992.029 1126.16,995.943 1133.4,996.782 1140.65,999.267 1147.89,1001.43 1155.13,1003.72 1162.37,1004.56 1169.61,1007.94 1176.86,1010.2 1184.1,1013.12 1191.34,1014.37 1198.58,1016.25 1205.82,1017.74 1213.07,1018.82 1220.31,1020.11 1227.55,1020.76 1234.79,1021.45 1242.04,1020.98 1249.28,1022.07 1256.52,1023.06 1263.76,1024.9 1271,1026.92 1278.25,1026.01 1285.49,1027.27 1292.73,1029.06 1299.97,1031.26 1307.21,1032.43 1314.46,1033.73 1321.7,1036.38 1328.94,1037.2 1336.18,1037.22 1343.42,1037.75 1350.67,1040.54 1357.91,1043.83 1365.15,1046.31 1372.39,1047.87 1379.64,1048.82 1386.88,1048.72 1394.12,1048.64 1401.36,1050.05 1408.6,1052.26 1415.85,1053.5 1423.09,1054.33 1430.33,1056.23 1437.57,1058.22 1444.81,1060.43 1452.06,1061.63 1459.3,1063.1 1466.54,1065.45 1473.78,1066.51 1481.02,1067.65 1488.27,1067.76 1495.51,1068.92 1502.75,1070.37 1509.99,1070.87 1517.23,1071.73 1524.48,1072.21 1531.72,1072.9 1538.96,1073.46 1546.2,1073.82 1553.45,1074.62 1560.69,1075.9 1567.93,1077.1 1575.17,1078.72 1582.41,1079.96 1589.66,1081.26 1596.9,1081.84 1604.14,1083.1 1611.38,1083.66 1618.62,1084.59 1625.87,1086.68 1633.11,1087.54 1640.35,1088.39 1647.59,1089.57 1654.83,1091.24 1662.08,1091.82 1669.32,1092.83 1676.56,1094.46 1683.8,1096.29 1691.05,1097.83 1698.29,1098.68 1705.53,1099.53 1712.77,1100.31 1720.01,1101.35 1727.26,1102.1 1734.5,1102.73 1741.74,1104.2 1748.98,1105.04 1756.22,1105.83 1763.47,1106.46 1770.71,1107.39 1777.95,1108.11 1785.19,1109.23 1792.43,1110.03 1799.68,1110.62 1806.92,1111.11 1814.16,1111.92 1821.4,1112.51 1828.65,1113.01 1835.89,1112.96 1843.13,1113.39 1850.37,1114.69 1857.61,1115.34 1864.86,1115.54 1872.1,1116.16 1879.34,1116.46 1886.58,1116.99 1893.82,1116.86 1901.07,1117.69 1908.31,1118.45 1915.55,1119.38 1922.79,1120.55 1930.03,1120.95 1937.28,1121.79 1944.52,1122.07 1951.76,1122.6 1959,1123.24 1966.25,1123.42 1973.49,1123.79 1980.73,1124.15 1987.97,1124.5 1995.21,1124.58 2002.46,1125.51 2009.7,1126.12 2016.94,1126.71 2024.18,1126.95 2031.42,1127.05 2038.67,1127.87 2045.91,1128.26 2053.15,1128.64 2060.39,1129.37 2067.63,1129.69 2074.88,1130.18 2082.12,1130.56 2089.36,1130.9 2096.6,1131.29 2103.84,1131.66 2111.09,1132.09 2118.33,1132.07 2125.57,1132.38 2132.81,1132.71 2140.06,1133.06 2147.3,1133.56 2154.54,1133.7 2161.78,1133.95 2169.02,1134.3 2176.27,1134.77 2183.51,1134.8 2190.75,1135.2 2197.99,1135.58 2205.23,1135.87 2212.48,1136.12 2219.72,1136.3 2226.96,1136.69 2234.2,1136.76 2241.44,1136.97 2248.69,1137.23 2255.93,1137.38 2263.17,1137.61 2270.41,1137.9 2277.66,1138.07 2284.9,1138.14 2292.14,1138.29 \"/>\n<polyline clip-path=\"url(#clip642)\" style=\"stroke:#3da44d; stroke-linecap:round; stroke-linejoin:round; stroke-width:4; stroke-opacity:1; fill:none\" points=\"271.594,160.256 278.836,167.431 286.078,175.772 293.32,204.462 300.562,217.313 307.804,230.039 315.046,248.064 322.288,244.79 329.531,268.634 336.773,297.759 344.015,317.558 351.257,341 358.499,365.155 365.741,367.895 372.983,382.855 380.225,392.574 387.467,416.341 394.709,417.254 401.952,425.368 409.194,442.265 416.436,462.362 423.678,475.789 430.92,496.947 438.162,507.819 445.404,522.881 452.646,526.956 459.888,523.797 467.13,533.047 474.373,541.965 481.615,548.868 488.857,556.668 496.099,565.318 503.341,571.356 510.583,589.582 517.825,609.777 525.067,621.732 532.309,629.7 539.551,643.242 546.794,647.633 554.036,655.016 561.278,667.908 568.52,675.223 575.762,684.362 583.004,690.75 590.246,696.694 597.488,698.436 604.73,700.342 611.972,710.557 619.215,718.955 626.457,716.911 633.699,720.027 640.941,726.55 648.183,731.922 655.425,748.037 662.667,758.237 669.909,767.818 677.151,772.69 684.393,786.297 691.636,794.119 698.878,803.071 706.12,810.049 713.362,814.611 720.604,823.95 727.846,831.897 735.088,836.786 742.33,842.962 749.572,851.19 756.814,855.141 764.057,861.226 771.299,867.794 778.541,874.91 785.783,880.926 793.025,887.691 800.267,892.67 807.509,897.633 814.751,899.277 821.993,903.622 829.235,907.058 836.478,915.811 843.72,917.066 850.962,921.679 858.204,929.645 865.446,934.266 872.688,938.609 879.93,945.35 887.172,949.379 894.414,952.182 901.656,958.16 908.899,960.025 916.141,964.767 923.383,970.232 930.625,971.746 937.867,974.455 945.109,979.224 952.351,983.931 959.593,989.285 966.835,993.792 974.077,1000.47 981.32,1003.4 988.562,1008.33 995.804,1010.37 1003.05,1013.7 1010.29,1017.57 1017.53,1019.28 1024.77,1021.16 1032.01,1025.28 1039.26,1030.48 1046.5,1034.11 1053.74,1041.55 1060.98,1047.21 1068.22,1049.53 1075.47,1052.51 1082.71,1054.74 1089.95,1057.97 1097.19,1060.97 1104.44,1064.5 1111.68,1067.89 1118.92,1069.67 1126.16,1075.13 1133.4,1077.04 1140.65,1077.13 1147.89,1079.29 1155.13,1081.43 1162.37,1084.49 1169.61,1087.91 1176.86,1090.33 1184.1,1092.1 1191.34,1094.33 1198.58,1097.36 1205.82,1098.94 1213.07,1100.74 1220.31,1101.91 1227.55,1103.76 1234.79,1106.49 1242.04,1110.58 1249.28,1113.67 1256.52,1116.79 1263.76,1118.01 1271,1120.44 1278.25,1121.65 1285.49,1124.05 1292.73,1125.94 1299.97,1125.57 1307.21,1126.4 1314.46,1127.8 1321.7,1129.89 1328.94,1133.43 1336.18,1135.07 1343.42,1135.59 1350.67,1137.49 1357.91,1139.98 1365.15,1140.15 1372.39,1141.7 1379.64,1144.04 1386.88,1145.56 1394.12,1146.22 1401.36,1147.9 1408.6,1148.78 1415.85,1149.03 1423.09,1151.58 1430.33,1153.7 1437.57,1155.35 1444.81,1155.44 1452.06,1156.57 1459.3,1158.07 1466.54,1158.8 1473.78,1160.04 1481.02,1160.77 1488.27,1161.28 1495.51,1163.31 1502.75,1166.28 1509.99,1166.95 1517.23,1167.84 1524.48,1167.94 1531.72,1168.59 1538.96,1168.81 1546.2,1170.6 1553.45,1171.33 1560.69,1171.75 1567.93,1172.56 1575.17,1173 1582.41,1173.59 1589.66,1173.97 1596.9,1173.68 1604.14,1173.68 1611.38,1174.83 1618.62,1176.44 1625.87,1176.47 1633.11,1175.94 1640.35,1175.52 1647.59,1175.41 1654.83,1174.88 1662.08,1175.03 1669.32,1175.3 1676.56,1176.37 1683.8,1176.35 1691.05,1176.77 1698.29,1177.18 1705.53,1177.74 1712.77,1177.23 1720.01,1177.33 1727.26,1177.17 1734.5,1176.29 1741.74,1175.42 1748.98,1175.11 1756.22,1175.19 1763.47,1174.81 1770.71,1174.39 1777.95,1174.27 1785.19,1174.18 1792.43,1174.28 1799.68,1174.83 1806.92,1175.22 1814.16,1175.16 1821.4,1175.68 1828.65,1175.02 1835.89,1174.51 1843.13,1173.84 1850.37,1173.85 1857.61,1172.98 1864.86,1172.57 1872.1,1172.22 1879.34,1171.88 1886.58,1171.7 1893.82,1170.98 1901.07,1170.35 1908.31,1169.6 1915.55,1169.46 1922.79,1168.99 1930.03,1169.06 1937.28,1168.7 1944.52,1167.75 1951.76,1167.25 1959,1166.49 1966.25,1166.02 1973.49,1166.02 1980.73,1165.78 1987.97,1165.55 1995.21,1164.95 2002.46,1164.66 2009.7,1164.68 2016.94,1163.84 2024.18,1163.59 2031.42,1163.22 2038.67,1162.35 2045.91,1161.47 2053.15,1160.86 2060.39,1160.46 2067.63,1159.89 2074.88,1159.12 2082.12,1158.51 2089.36,1157.83 2096.6,1157.13 2103.84,1156.62 2111.09,1156.29 2118.33,1155.58 2125.57,1155.13 2132.81,1154.61 2140.06,1154.23 2147.3,1153.88 2154.54,1153.26 2161.78,1153.04 2169.02,1152.63 2176.27,1152.24 2183.51,1151.88 2190.75,1151.29 2197.99,1150.91 2205.23,1150.38 2212.48,1150 2219.72,1149.65 2226.96,1149.35 2234.2,1148.98 2241.44,1148.49 2248.69,1148.05 2255.93,1147.58 2263.17,1147.19 2270.41,1146.73 2277.66,1146.39 2284.9,1145.98 2292.14,1145.62 \"/>\n<polyline clip-path=\"url(#clip642)\" style=\"stroke:#c271d2; stroke-linecap:round; stroke-linejoin:round; stroke-width:4; stroke-opacity:1; fill:none\" stroke-dasharray=\"16, 10\" points=\"271.594,1287.83 278.836,1285.43 286.078,1283.53 293.32,1281.71 300.562,1279.9 307.804,1278.07 315.046,1276.21 322.288,1274.41 329.531,1272.61 336.773,1270.66 344.015,1268.71 351.257,1266.54 358.499,1264.11 365.741,1261.88 372.983,1259.98 380.225,1258.21 387.467,1256.47 394.709,1254.75 401.952,1252.82 409.194,1250.89 416.436,1249.06 423.678,1247.07 430.92,1244.89 438.162,1242.82 445.404,1240.92 452.646,1238.92 459.888,1236.9 467.13,1234.88 474.373,1232.9 481.615,1230.92 488.857,1229.13 496.099,1227.35 503.341,1225.68 510.583,1224.04 517.825,1222.49 525.067,1220.88 532.309,1219.36 539.551,1217.88 546.794,1216.49 554.036,1215.04 561.278,1213.68 568.52,1212.25 575.762,1210.9 583.004,1209.58 590.246,1207.93 597.488,1206.46 604.73,1204.99 611.972,1203.44 619.215,1201.76 626.457,1200.06 633.699,1198.47 640.941,1196.88 648.183,1195.21 655.425,1193.3 662.667,1191.43 669.909,1189.66 677.151,1187.98 684.393,1186.29 691.636,1184.65 698.878,1183 706.12,1181.43 713.362,1179.95 720.604,1178.48 727.846,1177 735.088,1175.55 742.33,1174.22 749.572,1172.89 756.814,1171.64 764.057,1170.41 771.299,1169.2 778.541,1168.08 785.783,1167.02 793.025,1166.1 800.267,1165.22 807.509,1164.28 814.751,1163.34 821.993,1162.33 829.235,1161.28 836.478,1160.29 843.72,1159.42 850.962,1158.59 858.204,1157.86 865.446,1157.21 872.688,1156.62 879.93,1155.99 887.172,1155.39 894.414,1154.81 901.656,1154.24 908.899,1153.66 916.141,1153.05 923.383,1152.43 930.625,1151.81 937.867,1151.23 945.109,1150.67 952.351,1150.09 959.593,1149.56 966.835,1149.04 974.077,1148.52 981.32,1148.01 988.562,1147.5 995.804,1146.97 1003.05,1146.44 1010.29,1145.95 1017.53,1145.46 1024.77,1144.98 1032.01,1144.45 1039.26,1143.92 1046.5,1143.4 1053.74,1142.86 1060.98,1142.39 1068.22,1141.88 1075.47,1141.42 1082.71,1141 1089.95,1140.62 1097.19,1140.27 1104.44,1139.97 1111.68,1139.65 1118.92,1139.32 1126.16,1138.97 1133.4,1138.64 1140.65,1138.33 1147.89,1138.08 1155.13,1137.84 1162.37,1137.59 1169.61,1137.38 1176.86,1137.19 1184.1,1136.94 1191.34,1136.7 1198.58,1136.47 1205.82,1136.22 1213.07,1135.95 1220.31,1135.7 1227.55,1135.46 1234.79,1135.22 1242.04,1135 1249.28,1134.75 1256.52,1134.47 1263.76,1134.22 1271,1134 1278.25,1133.77 1285.49,1133.55 1292.73,1133.34 1299.97,1133.13 1307.21,1132.87 1314.46,1132.65 1321.7,1132.43 1328.94,1132.24 1336.18,1132.04 1343.42,1131.88 1350.67,1131.74 1357.91,1131.6 1365.15,1131.46 1372.39,1131.32 1379.64,1131.18 1386.88,1131.03 1394.12,1130.89 1401.36,1130.75 1408.6,1130.62 1415.85,1130.48 1423.09,1130.33 1430.33,1130.18 1437.57,1130.04 1444.81,1129.9 1452.06,1129.77 1459.3,1129.63 1466.54,1129.47 1473.78,1129.33 1481.02,1129.2 1488.27,1129.07 1495.51,1128.91 1502.75,1128.76 1509.99,1128.6 1517.23,1128.46 1524.48,1128.35 1531.72,1128.27 1538.96,1128.18 1546.2,1128.1 1553.45,1128.03 1560.69,1127.95 1567.93,1127.84 1575.17,1127.74 1582.41,1127.64 1589.66,1127.55 1596.9,1127.49 1604.14,1127.44 1611.38,1127.39 1618.62,1127.35 1625.87,1127.32 1633.11,1127.29 1640.35,1127.26 1647.59,1127.24 1654.83,1127.23 1662.08,1127.2 1669.32,1127.17 1676.56,1127.17 1683.8,1127.18 1691.05,1127.2 1698.29,1127.22 1705.53,1127.24 1712.77,1127.27 1720.01,1127.32 1727.26,1127.37 1734.5,1127.44 1741.74,1127.52 1748.98,1127.59 1756.22,1127.67 1763.47,1127.75 1770.71,1127.82 1777.95,1127.9 1785.19,1127.98 1792.43,1128.07 1799.68,1128.17 1806.92,1128.26 1814.16,1128.36 1821.4,1128.46 1828.65,1128.56 1835.89,1128.66 1843.13,1128.76 1850.37,1128.85 1857.61,1128.96 1864.86,1129.08 1872.1,1129.19 1879.34,1129.29 1886.58,1129.39 1893.82,1129.5 1901.07,1129.6 1908.31,1129.69 1915.55,1129.79 1922.79,1129.9 1930.03,1130 1937.28,1130.11 1944.52,1130.22 1951.76,1130.33 1959,1130.43 1966.25,1130.52 1973.49,1130.62 1980.73,1130.7 1987.97,1130.79 1995.21,1130.87 2002.46,1130.98 2009.7,1131.07 2016.94,1131.17 2024.18,1131.28 2031.42,1131.39 2038.67,1131.51 2045.91,1131.64 2053.15,1131.76 2060.39,1131.88 2067.63,1132 2074.88,1132.12 2082.12,1132.24 2089.36,1132.37 2096.6,1132.49 2103.84,1132.62 2111.09,1132.74 2118.33,1132.86 2125.57,1132.98 2132.81,1133.1 2140.06,1133.22 2147.3,1133.34 2154.54,1133.46 2161.78,1133.58 2169.02,1133.71 2176.27,1133.85 2183.51,1133.98 2190.75,1134.12 2197.99,1134.26 2205.23,1134.41 2212.48,1134.56 2219.72,1134.71 2226.96,1134.86 2234.2,1135.01 2241.44,1135.18 2248.69,1135.33 2255.93,1135.49 2263.17,1135.66 2270.41,1135.82 2277.66,1135.98 2284.9,1136.15 2292.14,1136.31 \"/>\n<polyline clip-path=\"url(#clip642)\" style=\"stroke:#ac8d18; stroke-linecap:round; stroke-linejoin:round; stroke-width:4; stroke-opacity:1; fill:none\" stroke-dasharray=\"16, 10\" points=\"271.594,1041.43 278.836,1044.16 286.078,1046.52 293.32,1048.75 300.562,1050.83 307.804,1053.14 315.046,1055.06 322.288,1056.86 329.531,1058.71 336.773,1060.76 344.015,1062.72 351.257,1064.6 358.499,1066.51 365.741,1068.21 372.983,1069.78 380.225,1071.33 387.467,1072.94 394.709,1074.45 401.952,1075.68 409.194,1076.86 416.436,1077.88 423.678,1078.76 430.92,1079.31 438.162,1080.01 445.404,1080.99 452.646,1081.88 459.888,1082.79 467.13,1083.68 474.373,1084.56 481.615,1085.61 488.857,1086.77 496.099,1088.01 503.341,1089.49 510.583,1091.03 517.825,1092.77 525.067,1094.57 532.309,1096.17 539.551,1097.83 546.794,1099.5 554.036,1101.23 561.278,1102.85 568.52,1104.56 575.762,1106.26 583.004,1107.92 590.246,1109.64 597.488,1111.19 604.73,1112.73 611.972,1114.28 619.215,1115.92 626.457,1117.55 633.699,1119.06 640.941,1120.56 648.183,1122.08 655.425,1123.48 662.667,1124.78 669.909,1126.18 677.151,1127.55 684.393,1128.98 691.636,1130.27 698.878,1131.51 706.12,1132.74 713.362,1133.93 720.604,1135.05 727.846,1136.24 735.088,1137.28 742.33,1138.27 749.572,1139.25 756.814,1140.26 764.057,1141.29 771.299,1142.31 778.541,1143.26 785.783,1144.22 793.025,1145.19 800.267,1146.11 807.509,1147.02 814.751,1147.94 821.993,1148.81 829.235,1149.67 836.478,1150.54 843.72,1151.33 850.962,1152.03 858.204,1152.77 865.446,1153.54 872.688,1154.37 879.93,1155.16 887.172,1155.95 894.414,1156.7 901.656,1157.4 908.899,1158.02 916.141,1158.66 923.383,1159.26 930.625,1159.81 937.867,1160.34 945.109,1160.86 952.351,1161.32 959.593,1161.79 966.835,1162.2 974.077,1162.6 981.32,1162.97 988.562,1163.3 995.804,1163.62 1003.05,1163.95 1010.29,1164.28 1017.53,1164.58 1024.77,1164.9 1032.01,1165.23 1039.26,1165.59 1046.5,1165.97 1053.74,1166.27 1060.98,1166.55 1068.22,1166.8 1075.47,1167.04 1082.71,1167.26 1089.95,1167.5 1097.19,1167.79 1104.44,1168.08 1111.68,1168.34 1118.92,1168.53 1126.16,1168.68 1133.4,1168.77 1140.65,1168.87 1147.89,1168.93 1155.13,1168.97 1162.37,1168.99 1169.61,1169.01 1176.86,1168.99 1184.1,1168.94 1191.34,1168.87 1198.58,1168.79 1205.82,1168.71 1213.07,1168.61 1220.31,1168.52 1227.55,1168.43 1234.79,1168.36 1242.04,1168.29 1249.28,1168.25 1256.52,1168.21 1263.76,1168.18 1271,1168.13 1278.25,1168.06 1285.49,1168.03 1292.73,1168 1299.97,1167.95 1307.21,1167.88 1314.46,1167.8 1321.7,1167.73 1328.94,1167.62 1336.18,1167.52 1343.42,1167.44 1350.67,1167.37 1357.91,1167.27 1365.15,1167.12 1372.39,1166.95 1379.64,1166.78 1386.88,1166.61 1394.12,1166.46 1401.36,1166.34 1408.6,1166.21 1415.85,1166.06 1423.09,1165.91 1430.33,1165.76 1437.57,1165.6 1444.81,1165.42 1452.06,1165.22 1459.3,1165.02 1466.54,1164.82 1473.78,1164.59 1481.02,1164.37 1488.27,1164.14 1495.51,1163.94 1502.75,1163.74 1509.99,1163.53 1517.23,1163.34 1524.48,1163.15 1531.72,1162.96 1538.96,1162.79 1546.2,1162.62 1553.45,1162.47 1560.69,1162.32 1567.93,1162.16 1575.17,1162 1582.41,1161.82 1589.66,1161.64 1596.9,1161.45 1604.14,1161.27 1611.38,1161.09 1618.62,1160.91 1625.87,1160.73 1633.11,1160.53 1640.35,1160.33 1647.59,1160.13 1654.83,1159.92 1662.08,1159.71 1669.32,1159.49 1676.56,1159.28 1683.8,1159.06 1691.05,1158.81 1698.29,1158.56 1705.53,1158.31 1712.77,1158.06 1720.01,1157.82 1727.26,1157.57 1734.5,1157.33 1741.74,1157.1 1748.98,1156.85 1756.22,1156.61 1763.47,1156.36 1770.71,1156.12 1777.95,1155.89 1785.19,1155.65 1792.43,1155.41 1799.68,1155.17 1806.92,1154.93 1814.16,1154.71 1821.4,1154.48 1828.65,1154.25 1835.89,1154.03 1843.13,1153.83 1850.37,1153.63 1857.61,1153.42 1864.86,1153.21 1872.1,1153.02 1879.34,1152.82 1886.58,1152.63 1893.82,1152.44 1901.07,1152.27 1908.31,1152.08 1915.55,1151.9 1922.79,1151.71 1930.03,1151.51 1937.28,1151.32 1944.52,1151.12 1951.76,1150.92 1959,1150.73 1966.25,1150.53 1973.49,1150.35 1980.73,1150.16 1987.97,1149.98 1995.21,1149.81 2002.46,1149.64 2009.7,1149.46 2016.94,1149.28 2024.18,1149.1 2031.42,1148.92 2038.67,1148.75 2045.91,1148.57 2053.15,1148.39 2060.39,1148.22 2067.63,1148.04 2074.88,1147.86 2082.12,1147.68 2089.36,1147.5 2096.6,1147.33 2103.84,1147.15 2111.09,1146.98 2118.33,1146.81 2125.57,1146.64 2132.81,1146.47 2140.06,1146.31 2147.3,1146.14 2154.54,1145.98 2161.78,1145.82 2169.02,1145.65 2176.27,1145.49 2183.51,1145.32 2190.75,1145.16 2197.99,1145 2205.23,1144.84 2212.48,1144.68 2219.72,1144.52 2226.96,1144.36 2234.2,1144.2 2241.44,1144.04 2248.69,1143.88 2255.93,1143.73 2263.17,1143.58 2270.41,1143.42 2277.66,1143.27 2284.9,1143.12 2292.14,1142.97 \"/>\n<polyline clip-path=\"url(#clip642)\" style=\"stroke:#00a9ad; stroke-linecap:round; stroke-linejoin:round; stroke-width:4; stroke-opacity:1; fill:none\" stroke-dasharray=\"16, 10\" points=\"271.594,1386.4 278.836,1385.65 286.078,1384.84 293.32,1384.07 300.562,1382.93 307.804,1381.76 315.046,1380.54 322.288,1379.19 329.531,1378.11 336.773,1376.77 344.015,1375.08 351.257,1373.23 358.499,1371.16 365.741,1368.87 372.983,1366.77 380.225,1364.62 387.467,1362.51 394.709,1360.19 401.952,1358.08 409.194,1356.05 416.436,1353.91 423.678,1351.62 430.92,1349.31 438.162,1346.82 445.404,1344.36 452.646,1341.85 459.888,1339.49 467.13,1337.42 474.373,1335.39 481.615,1333.39 488.857,1331.46 496.099,1329.59 503.341,1327.75 510.583,1325.98 517.825,1324.05 525.067,1321.93 532.309,1319.78 539.551,1317.69 546.794,1315.53 554.036,1313.48 561.278,1311.49 568.52,1309.44 575.762,1307.43 583.004,1305.44 590.246,1303.51 597.488,1301.64 604.73,1299.91 611.972,1298.31 619.215,1296.68 626.457,1295.04 633.699,1293.61 640.941,1292.25 648.183,1290.91 655.425,1289.62 662.667,1288.14 669.909,1286.62 677.151,1285.06 684.393,1283.55 691.636,1281.92 698.878,1280.29 706.12,1278.63 713.362,1276.99 720.604,1275.4 727.846,1273.77 735.088,1272.12 742.33,1270.52 749.572,1268.94 756.814,1267.33 764.057,1265.78 771.299,1264.24 778.541,1262.7 785.783,1261.16 793.025,1259.63 800.267,1258.09 807.509,1256.58 814.751,1255.09 821.993,1253.69 829.235,1252.32 836.478,1251 843.72,1249.61 850.962,1248.31 858.204,1247.03 865.446,1245.69 872.688,1244.38 879.93,1243.07 887.172,1241.75 894.414,1240.44 901.656,1239.18 908.899,1237.9 916.141,1236.68 923.383,1235.46 930.625,1234.23 937.867,1233.05 945.109,1231.92 952.351,1230.77 959.593,1229.62 966.835,1228.45 974.077,1227.27 981.32,1226.05 988.562,1224.86 995.804,1223.65 1003.05,1222.48 1010.29,1221.33 1017.53,1220.19 1024.77,1219.08 1032.01,1218.01 1039.26,1216.94 1046.5,1215.83 1053.74,1214.73 1060.98,1213.56 1068.22,1212.35 1075.47,1211.16 1082.71,1210 1089.95,1208.86 1097.19,1207.73 1104.44,1206.6 1111.68,1205.48 1118.92,1204.35 1126.16,1203.26 1133.4,1202.13 1140.65,1201.02 1147.89,1199.97 1155.13,1198.94 1162.37,1197.93 1169.61,1196.92 1176.86,1195.89 1184.1,1194.88 1191.34,1193.88 1198.58,1192.9 1205.82,1191.91 1213.07,1190.94 1220.31,1189.98 1227.55,1189.05 1234.79,1188.14 1242.04,1187.22 1249.28,1186.26 1256.52,1185.3 1263.76,1184.32 1271,1183.36 1278.25,1182.41 1285.49,1181.47 1292.73,1180.54 1299.97,1179.61 1307.21,1178.73 1314.46,1177.88 1321.7,1177.03 1328.94,1176.19 1336.18,1175.31 1343.42,1174.44 1350.67,1173.6 1357.91,1172.76 1365.15,1171.91 1372.39,1171.09 1379.64,1170.27 1386.88,1169.44 1394.12,1168.62 1401.36,1167.82 1408.6,1167.02 1415.85,1166.23 1423.09,1165.47 1430.33,1164.69 1437.57,1163.9 1444.81,1163.11 1452.06,1162.34 1459.3,1161.59 1466.54,1160.83 1473.78,1160.09 1481.02,1159.35 1488.27,1158.61 1495.51,1157.9 1502.75,1157.18 1509.99,1156.42 1517.23,1155.68 1524.48,1154.94 1531.72,1154.23 1538.96,1153.53 1546.2,1152.84 1553.45,1152.15 1560.69,1151.46 1567.93,1150.79 1575.17,1150.13 1582.41,1149.48 1589.66,1148.83 1596.9,1148.2 1604.14,1147.6 1611.38,1147.01 1618.62,1146.41 1625.87,1145.81 1633.11,1145.22 1640.35,1144.66 1647.59,1144.12 1654.83,1143.6 1662.08,1143.09 1669.32,1142.6 1676.56,1142.12 1683.8,1141.63 1691.05,1141.15 1698.29,1140.67 1705.53,1140.2 1712.77,1139.73 1720.01,1139.27 1727.26,1138.83 1734.5,1138.4 1741.74,1138 1748.98,1137.62 1756.22,1137.25 1763.47,1136.89 1770.71,1136.54 1777.95,1136.21 1785.19,1135.88 1792.43,1135.56 1799.68,1135.24 1806.92,1134.92 1814.16,1134.59 1821.4,1134.27 1828.65,1133.95 1835.89,1133.64 1843.13,1133.35 1850.37,1133.08 1857.61,1132.8 1864.86,1132.55 1872.1,1132.31 1879.34,1132.08 1886.58,1131.85 1893.82,1131.64 1901.07,1131.44 1908.31,1131.25 1915.55,1131.07 1922.79,1130.9 1930.03,1130.74 1937.28,1130.57 1944.52,1130.42 1951.76,1130.28 1959,1130.15 1966.25,1130.04 1973.49,1129.93 1980.73,1129.83 1987.97,1129.72 1995.21,1129.62 2002.46,1129.53 2009.7,1129.45 2016.94,1129.37 2024.18,1129.3 2031.42,1129.23 2038.67,1129.17 2045.91,1129.13 2053.15,1129.11 2060.39,1129.09 2067.63,1129.08 2074.88,1129.07 2082.12,1129.09 2089.36,1129.11 2096.6,1129.14 2103.84,1129.18 2111.09,1129.23 2118.33,1129.29 2125.57,1129.35 2132.81,1129.42 2140.06,1129.5 2147.3,1129.59 2154.54,1129.68 2161.78,1129.78 2169.02,1129.88 2176.27,1129.99 2183.51,1130.11 2190.75,1130.23 2197.99,1130.36 2205.23,1130.5 2212.48,1130.65 2219.72,1130.8 2226.96,1130.96 2234.2,1131.12 2241.44,1131.3 2248.69,1131.48 2255.93,1131.67 2263.17,1131.87 2270.41,1132.07 2277.66,1132.29 2284.9,1132.52 2292.14,1132.75 \"/>\n<path clip-path=\"url(#clip640)\" d=\"M2023.9 529.676 L2281.36 529.676 L2281.36 166.796 L2023.9 166.796  Z\" fill=\"#ffffff\" fill-rule=\"evenodd\" fill-opacity=\"1\"/>\n<polyline clip-path=\"url(#clip640)\" style=\"stroke:#000000; stroke-linecap:round; stroke-linejoin:round; stroke-width:4; stroke-opacity:1; fill:none\" points=\"2023.9,529.676 2281.36,529.676 2281.36,166.796 2023.9,166.796 2023.9,529.676 \"/>\n<polyline clip-path=\"url(#clip640)\" style=\"stroke:#009af9; stroke-linecap:round; stroke-linejoin:round; stroke-width:4; stroke-opacity:1; fill:none\" points=\"2047.7,218.636 2190.48,218.636 \"/>\n<path clip-path=\"url(#clip640)\" d=\"M2238.93 209.99 L2229.56 222.606 L2239.42 235.916 L2234.39 235.916 L2226.85 225.731 L2219.3 235.916 L2214.28 235.916 L2224.35 222.351 L2215.14 209.99 L2220.16 209.99 L2227.03 219.226 L2233.91 209.99 L2238.93 209.99 Z\" fill=\"#000000\" fill-rule=\"evenodd\" fill-opacity=\"1\" /><path clip-path=\"url(#clip640)\" d=\"M2244.58 233.369 L2249.3 233.369 L2249.3 219.226 L2244.14 220.175 L2244.14 217.49 L2249.46 216.587 L2252.64 216.587 L2252.64 233.369 L2257.38 233.369 L2257.38 235.916 L2244.58 235.916 L2244.58 233.369 Z\" fill=\"#000000\" fill-rule=\"evenodd\" fill-opacity=\"1\" /><polyline clip-path=\"url(#clip640)\" style=\"stroke:#e26f46; stroke-linecap:round; stroke-linejoin:round; stroke-width:4; stroke-opacity:1; fill:none\" points=\"2047.7,270.476 2190.48,270.476 \"/>\n<path clip-path=\"url(#clip640)\" d=\"M2238.93 261.83 L2229.56 274.446 L2239.42 287.756 L2234.39 287.756 L2226.85 277.571 L2219.3 287.756 L2214.28 287.756 L2224.35 274.191 L2215.14 261.83 L2220.16 261.83 L2227.03 271.066 L2233.91 261.83 L2238.93 261.83 Z\" fill=\"#000000\" fill-rule=\"evenodd\" fill-opacity=\"1\" /><path clip-path=\"url(#clip640)\" d=\"M2247.17 285.117 L2256.99 285.117 L2256.99 287.756 L2243.14 287.756 L2243.14 285.209 Q2243.93 284.492 2245.39 283.196 Q2253.35 276.135 2253.35 273.959 Q2253.35 272.432 2252.15 271.506 Q2250.95 270.557 2248.98 270.557 Q2247.77 270.557 2246.36 270.973 Q2244.95 271.367 2243.28 272.177 L2243.28 269.33 Q2245.07 268.682 2246.59 268.358 Q2248.14 268.034 2249.46 268.034 Q2252.82 268.034 2254.83 269.561 Q2256.85 271.089 2256.85 273.589 Q2256.85 276.807 2249.19 283.381 Q2247.89 284.492 2247.17 285.117 Z\" fill=\"#000000\" fill-rule=\"evenodd\" fill-opacity=\"1\" /><polyline clip-path=\"url(#clip640)\" style=\"stroke:#3da44d; stroke-linecap:round; stroke-linejoin:round; stroke-width:4; stroke-opacity:1; fill:none\" points=\"2047.7,322.316 2190.48,322.316 \"/>\n<path clip-path=\"url(#clip640)\" d=\"M2238.93 313.67 L2229.56 326.286 L2239.42 339.596 L2234.39 339.596 L2226.85 329.411 L2219.3 339.596 L2214.28 339.596 L2224.35 326.031 L2215.14 313.67 L2220.16 313.67 L2227.03 322.906 L2233.91 313.67 L2238.93 313.67 Z\" fill=\"#000000\" fill-rule=\"evenodd\" fill-opacity=\"1\" /><path clip-path=\"url(#clip640)\" d=\"M2253.1 329.133 Q2255.23 329.549 2256.39 330.823 Q2257.57 332.073 2257.57 333.971 Q2257.57 336.841 2255.37 338.392 Q2253.17 339.943 2249.07 339.943 Q2247.75 339.943 2246.29 339.688 Q2244.86 339.457 2243.24 338.994 L2243.24 336.193 Q2244.44 336.818 2245.81 337.119 Q2247.2 337.42 2248.75 337.42 Q2251.27 337.42 2252.66 336.517 Q2254.05 335.591 2254.05 333.971 Q2254.05 332.258 2252.75 331.378 Q2251.48 330.499 2248.98 330.499 L2246.99 330.499 L2246.99 327.999 L2249.16 327.999 Q2251.34 327.999 2252.45 327.281 Q2253.58 326.54 2253.58 325.151 Q2253.58 323.809 2252.43 323.114 Q2251.27 322.397 2249.07 322.397 Q2248.14 322.397 2246.96 322.605 Q2245.78 322.813 2243.91 323.346 L2243.91 320.684 Q2245.6 320.29 2247.08 320.082 Q2248.56 319.874 2249.83 319.874 Q2253.17 319.874 2255.11 321.239 Q2257.08 322.605 2257.08 324.897 Q2257.08 326.494 2256.04 327.605 Q2255 328.716 2253.1 329.133 Z\" fill=\"#000000\" fill-rule=\"evenodd\" fill-opacity=\"1\" /><polyline clip-path=\"url(#clip640)\" style=\"stroke:#c271d2; stroke-linecap:round; stroke-linejoin:round; stroke-width:4; stroke-opacity:1; fill:none\" stroke-dasharray=\"16, 10\" points=\"2047.7,374.156 2190.48,374.156 \"/>\n<path clip-path=\"url(#clip640)\" d=\"M2238.93 365.51 L2229.56 378.126 L2239.42 391.436 L2234.39 391.436 L2226.85 381.251 L2219.3 391.436 L2214.28 391.436 L2224.35 377.871 L2215.14 365.51 L2220.16 365.51 L2227.03 374.746 L2233.91 365.51 L2238.93 365.51 Z\" fill=\"#000000\" fill-rule=\"evenodd\" fill-opacity=\"1\" /><path clip-path=\"url(#clip640)\" d=\"M2226.94 355.417 L2231.2 355.417 L2231.2 360.811 L2226.94 360.811 L2226.94 355.417 M2229.12 364.885 L2229.12 364.885 Z\" fill=\"#000000\" fill-rule=\"evenodd\" fill-opacity=\"1\" /><path clip-path=\"url(#clip640)\" d=\"M2244.58 388.889 L2249.3 388.889 L2249.3 374.746 L2244.14 375.695 L2244.14 373.01 L2249.46 372.107 L2252.64 372.107 L2252.64 388.889 L2257.38 388.889 L2257.38 391.436 L2244.58 391.436 L2244.58 388.889 Z\" fill=\"#000000\" fill-rule=\"evenodd\" fill-opacity=\"1\" /><polyline clip-path=\"url(#clip640)\" style=\"stroke:#ac8d18; stroke-linecap:round; stroke-linejoin:round; stroke-width:4; stroke-opacity:1; fill:none\" stroke-dasharray=\"16, 10\" points=\"2047.7,425.996 2190.48,425.996 \"/>\n<path clip-path=\"url(#clip640)\" d=\"M2238.93 417.35 L2229.56 429.966 L2239.42 443.276 L2234.39 443.276 L2226.85 433.091 L2219.3 443.276 L2214.28 443.276 L2224.35 429.711 L2215.14 417.35 L2220.16 417.35 L2227.03 426.586 L2233.91 417.35 L2238.93 417.35 Z\" fill=\"#000000\" fill-rule=\"evenodd\" fill-opacity=\"1\" /><path clip-path=\"url(#clip640)\" d=\"M2226.94 407.257 L2231.2 407.257 L2231.2 412.651 L2226.94 412.651 L2226.94 407.257 M2229.12 416.725 L2229.12 416.725 Z\" fill=\"#000000\" fill-rule=\"evenodd\" fill-opacity=\"1\" /><path clip-path=\"url(#clip640)\" d=\"M2247.17 440.637 L2256.99 440.637 L2256.99 443.276 L2243.14 443.276 L2243.14 440.729 Q2243.93 440.012 2245.39 438.716 Q2253.35 431.655 2253.35 429.479 Q2253.35 427.952 2252.15 427.026 Q2250.95 426.077 2248.98 426.077 Q2247.77 426.077 2246.36 426.493 Q2244.95 426.887 2243.28 427.697 L2243.28 424.85 Q2245.07 424.202 2246.59 423.878 Q2248.14 423.554 2249.46 423.554 Q2252.82 423.554 2254.83 425.081 Q2256.85 426.609 2256.85 429.109 Q2256.85 432.327 2249.19 438.901 Q2247.89 440.012 2247.17 440.637 Z\" fill=\"#000000\" fill-rule=\"evenodd\" fill-opacity=\"1\" /><polyline clip-path=\"url(#clip640)\" style=\"stroke:#00a9ad; stroke-linecap:round; stroke-linejoin:round; stroke-width:4; stroke-opacity:1; fill:none\" stroke-dasharray=\"16, 10\" points=\"2047.7,477.836 2190.48,477.836 \"/>\n<path clip-path=\"url(#clip640)\" d=\"M2238.93 469.19 L2229.56 481.806 L2239.42 495.116 L2234.39 495.116 L2226.85 484.931 L2219.3 495.116 L2214.28 495.116 L2224.35 481.551 L2215.14 469.19 L2220.16 469.19 L2227.03 478.426 L2233.91 469.19 L2238.93 469.19 Z\" fill=\"#000000\" fill-rule=\"evenodd\" fill-opacity=\"1\" /><path clip-path=\"url(#clip640)\" d=\"M2226.94 459.097 L2231.2 459.097 L2231.2 464.491 L2226.94 464.491 L2226.94 459.097 M2229.12 468.565 L2229.12 468.565 Z\" fill=\"#000000\" fill-rule=\"evenodd\" fill-opacity=\"1\" /><path clip-path=\"url(#clip640)\" d=\"M2253.1 484.653 Q2255.23 485.069 2256.39 486.343 Q2257.57 487.593 2257.57 489.491 Q2257.57 492.361 2255.37 493.912 Q2253.17 495.463 2249.07 495.463 Q2247.75 495.463 2246.29 495.208 Q2244.86 494.977 2243.24 494.514 L2243.24 491.713 Q2244.44 492.338 2245.81 492.639 Q2247.2 492.94 2248.75 492.94 Q2251.27 492.94 2252.66 492.037 Q2254.05 491.111 2254.05 489.491 Q2254.05 487.778 2252.75 486.898 Q2251.48 486.019 2248.98 486.019 L2246.99 486.019 L2246.99 483.519 L2249.16 483.519 Q2251.34 483.519 2252.45 482.801 Q2253.58 482.06 2253.58 480.671 Q2253.58 479.329 2252.43 478.634 Q2251.27 477.917 2249.07 477.917 Q2248.14 477.917 2246.96 478.125 Q2245.78 478.333 2243.91 478.866 L2243.91 476.204 Q2245.6 475.81 2247.08 475.602 Q2248.56 475.394 2249.83 475.394 Q2253.17 475.394 2255.11 476.759 Q2257.08 478.125 2257.08 480.417 Q2257.08 482.014 2256.04 483.125 Q2255 484.236 2253.1 484.653 Z\" fill=\"#000000\" fill-rule=\"evenodd\" fill-opacity=\"1\" /></svg>\n"
     },
     "metadata": {},
     "output_type": "display_data"
    }
   ],
   "source": [
    "Xsim_m = mat_from_vec(Xhist[1:end-Nh])\n",
    "Usim_m = mat_from_vec(Uhist[1:end-Nh-1])\n",
    "e_sim_m = mat_from_vec(Xref[1:end-Nh]-Xhist[1:end-Nh])\n",
    "@show traj_error = maximum(norm.(e_sim_m, Inf))\n",
    "display(plot(t_vec[1:end-Nh],e_sim_m',label = [\"ex₁\" \"ex₂\" \"ex₃\" \"eẋ₁\" \"eẋ₂\" \"eẋ₃\"], \n",
    "             linestyle=[:solid :solid :solid :dash :dash :dash], \n",
    "             title = \"State Error History\",\n",
    "             xlabel = \"time (s)\", ylabel = \"x\"))\n",
    "display(plot(t_vec[1:end-Nh-2],Usim_m',label = [\"u₁\" \"u₂\" \"u₃\"],\n",
    "             title = \"Input History\",\n",
    "             xlabel = \"time (s)\", ylabel = \"u\"))\n",
    "display(plot(t_vec[1:end-Nh],Xsim_m',label = [\"x₁\" \"x₂\" \"x₃\" \"ẋ₁\" \"ẋ₂\" \"ẋ₃\"], \n",
    "             linestyle=[:solid :solid :solid :dash :dash :dash],\n",
    "             title = \"State History\",\n",
    "             xlabel = \"time (s)\", ylabel = \"x\"))"
   ]
  }
 ],
 "metadata": {
  "kernelspec": {
   "display_name": "Julia 1.6.7",
   "language": "julia",
   "name": "julia-1.6"
  },
  "language_info": {
   "file_extension": ".jl",
   "mimetype": "application/julia",
   "name": "julia",
   "version": "1.6.7"
  }
 },
 "nbformat": 4,
 "nbformat_minor": 5
}
