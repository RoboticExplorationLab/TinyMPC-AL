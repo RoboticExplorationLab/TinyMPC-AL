{
 "cells": [
  {
   "cell_type": "code",
   "execution_count": 1,
   "metadata": {},
   "outputs": [
    {
     "name": "stderr",
     "output_type": "stream",
     "text": [
      "\u001b[32m\u001b[1m  Activating\u001b[22m\u001b[39m environment at `~/SSD/Code/TinyMPC/julia/quadrotor_quat/Project.toml`\n"
     ]
    }
   ],
   "source": [
    "import Pkg; Pkg.activate(@__DIR__); Pkg.instantiate()"
   ]
  },
  {
   "cell_type": "code",
   "execution_count": 2,
   "metadata": {},
   "outputs": [],
   "source": [
    "using LinearAlgebra\n",
    "using BlockDiagonals\n",
    "using ForwardDiff\n",
    "using Plots\n",
    "using Random; \n",
    "using Printf"
   ]
  },
  {
   "cell_type": "code",
   "execution_count": 3,
   "metadata": {},
   "outputs": [
    {
     "data": {
      "text/plain": [
       "E (generic function with 1 method)"
      ]
     },
     "metadata": {},
     "output_type": "display_data"
    }
   ],
   "source": [
    "#Quaternion stuff\n",
    "function hat(v)\n",
    "    return [0 -v[3] v[2];\n",
    "            v[3] 0 -v[1];\n",
    "            -v[2] v[1] 0]\n",
    "end\n",
    "function L(q)\n",
    "    s = q[1]\n",
    "    v = q[2:4]\n",
    "    L = [s    -v';\n",
    "         v  s*I+hat(v)]\n",
    "    return L\n",
    "end\n",
    "T = Diagonal([1; -ones(3)])\n",
    "H = [zeros(1,3); I]\n",
    "function qtoQ(q)\n",
    "    return H'*T*L(q)*T*L(q)*H\n",
    "end\n",
    "function G(q)\n",
    "    G = L(q)*H\n",
    "end\n",
    "function rptoq(ϕ)\n",
    "    (1/sqrt(1+ϕ'*ϕ))*[1; ϕ]\n",
    "end\n",
    "function qtorp(q)\n",
    "    q[2:4]/q[1]\n",
    "end\n",
    "function E(q)\n",
    "    E = BlockDiagonal([1.0*I(3), G(q), 1.0*I(6)])\n",
    "end"
   ]
  },
  {
   "cell_type": "code",
   "execution_count": 4,
   "metadata": {},
   "outputs": [
    {
     "ename": "UndefVarError",
     "evalue": "UndefVarError: scale not defined",
     "output_type": "error",
     "traceback": [
      "UndefVarError: scale not defined\n",
      "\n",
      "Stacktrace:\n",
      " [1] top-level scope\n",
      "   @ ~/SSD/Code/TinyMPC/julia/quadrotor_quat/quadrotor_dt.ipynb:10"
     ]
    }
   ],
   "source": [
    "#Quadrotor parameters\n",
    "m = 0.03\n",
    "ℓ = 0.046\n",
    "J = [16.6e-6 0.83e-6 0.72e-6;\n",
    "    0.83e-6 16.6e-6 1.8e-6;\n",
    "    0.72e-6 1.8e-6 29.3e-6];\n",
    "g = 9.81\n",
    "thrustToTorque = 0.005964552\n",
    "ℓ = 0.046/sqrt(2)\n",
    "kt = 2.245365e-6*scale # u is PWM in range [0...1]\n",
    "km = kt*thrustToTorque #4.4733e-8\n",
    "scale = 65535\n",
    "\n",
    "h = 1/50 #50 Hz\n",
    "\n",
    "Nx = 13     # number of states (quaternion)\n",
    "Nx̃ = 12     # number of states (linearized)\n",
    "Nu = 4     # number of controls\n",
    "Tfinal = 5.0 # final time\n",
    "Nt = Int(Tfinal/h)+1    # number of time steps\n",
    "t_vec = h*(0:Nt-1)\n",
    "thist = Array(range(0,h*(Nt-1), step=h));\n",
    "\n",
    "# Cost weights\n",
    "Q = Diagonal([10; 10; 10; 1; 1; 1; 1; 1; 1; 0.1; 0.1; 0.1]);\n",
    "R = Array(I(Nu));"
   ]
  },
  {
   "cell_type": "code",
   "execution_count": 5,
   "metadata": {},
   "outputs": [
    {
     "data": {
      "text/plain": [
       "quad_dynamics_rk4 (generic function with 1 method)"
      ]
     },
     "metadata": {},
     "output_type": "display_data"
    }
   ],
   "source": [
    "function quad_dynamics(x,u)\n",
    "  r = x[1:3]\n",
    "  q = x[4:7]/norm(x[4:7]) #normalize q just to be careful\n",
    "  v = x[8:10]\n",
    "  ω = x[11:13]\n",
    "  Q = qtoQ(q)\n",
    "  \n",
    "  ṙ = Q*v\n",
    "  q̇ = 0.5*L(q)*H*ω\n",
    "  \n",
    "  v̇ = Q'*[0; 0; -g] + (1/m)*[zeros(2,4); kt*ones(1,4)]*u - hat(ω)*v\n",
    "  \n",
    "  ω̇ = J\\(-hat(ω)*J*ω + [0 ℓ*kt 0 -ℓ*kt; -ℓ*kt 0 ℓ*kt 0; km -km km -km]*u)\n",
    "  \n",
    "  return [ṙ; q̇; v̇; ω̇]\n",
    "end\n",
    "function quad_dynamics_rk4(x,u)\n",
    "  #RK4 integration with zero-order hold on u\n",
    "  f1 = quad_dynamics(x, u)\n",
    "  f2 = quad_dynamics(x + 0.5*h*f1, u)\n",
    "  f3 = quad_dynamics(x + 0.5*h*f2, u)\n",
    "  f4 = quad_dynamics(x + h*f3, u)\n",
    "  xn = x + (h/6.0)*(f1 + 2*f2 + 2*f3 + f4)\n",
    "  xn[4:7] .= xn[4:7]/norm(xn[4:7]) #re-normalize quaternion\n",
    "  return xn\n",
    "end"
   ]
  },
  {
   "cell_type": "code",
   "execution_count": 6,
   "metadata": {},
   "outputs": [],
   "source": [
    "#Goal state\n",
    "uhover = (0.5)*ones(4)  # m = 30g and max thrust = 60g\n",
    "rg = [0.0; 0; 1.0]\n",
    "qg = [1.0; 0; 0; 0]\n",
    "vg = zeros(3)\n",
    "ωg = zeros(3)\n",
    "xg = [rg; qg; vg; ωg];"
   ]
  },
  {
   "cell_type": "code",
   "execution_count": 7,
   "metadata": {},
   "outputs": [
    {
     "ename": "UndefVarError",
     "evalue": "UndefVarError: kt not defined",
     "output_type": "error",
     "traceback": [
      "UndefVarError: kt not defined\n",
      "\n",
      "Stacktrace:\n",
      " [1] quad_dynamics(x::Vector{ForwardDiff.Dual{ForwardDiff.Tag{var\"#9#10\", Float64}, Float64, 7}}, u::Vector{Float64})\n",
      "   @ Main ~/SSD/Code/TinyMPC/julia/quadrotor_quat/quadrotor_dt.ipynb:11\n",
      " [2] quad_dynamics_rk4(x::Vector{ForwardDiff.Dual{ForwardDiff.Tag{var\"#9#10\", Float64}, Float64, 7}}, u::Vector{Float64})\n",
      "   @ Main ~/SSD/Code/TinyMPC/julia/quadrotor_quat/quadrotor_dt.ipynb:19\n",
      " [3] (::var\"#9#10\")(x::Vector{ForwardDiff.Dual{ForwardDiff.Tag{var\"#9#10\", Float64}, Float64, 7}})\n",
      "   @ Main ~/SSD/Code/TinyMPC/julia/quadrotor_quat/quadrotor_dt.ipynb:2\n",
      " [4] chunk_mode_jacobian(f::var\"#9#10\", x::Vector{Float64}, cfg::ForwardDiff.JacobianConfig{ForwardDiff.Tag{var\"#9#10\", Float64}, Float64, 7, Vector{ForwardDiff.Dual{ForwardDiff.Tag{var\"#9#10\", Float64}, Float64, 7}}})\n",
      "   @ ForwardDiff ~/.julia/packages/ForwardDiff/vXysl/src/jacobian.jl:183\n",
      " [5] jacobian(f::Function, x::Vector{Float64}, cfg::ForwardDiff.JacobianConfig{ForwardDiff.Tag{var\"#9#10\", Float64}, Float64, 7, Vector{ForwardDiff.Dual{ForwardDiff.Tag{var\"#9#10\", Float64}, Float64, 7}}}, ::Val{true})\n",
      "   @ ForwardDiff ~/.julia/packages/ForwardDiff/vXysl/src/jacobian.jl:23\n",
      " [6] jacobian(f::Function, x::Vector{Float64}, cfg::ForwardDiff.JacobianConfig{ForwardDiff.Tag{var\"#9#10\", Float64}, Float64, 7, Vector{ForwardDiff.Dual{ForwardDiff.Tag{var\"#9#10\", Float64}, Float64, 7}}}) (repeats 2 times)\n",
      "   @ ForwardDiff ~/.julia/packages/ForwardDiff/vXysl/src/jacobian.jl:19\n",
      " [7] top-level scope\n",
      "   @ ~/SSD/Code/TinyMPC/julia/quadrotor_quat/quadrotor_dt.ipynb:2"
     ]
    }
   ],
   "source": [
    "#Linearize dynamics about hover\n",
    "A = ForwardDiff.jacobian(x->quad_dynamics_rk4(x,uhover),xg)\n",
    "B = ForwardDiff.jacobian(u->quad_dynamics_rk4(xg,u),uhover);\n",
    "Ã = Array(E(qg)'*A*E(qg))\n",
    "B̃ = Array(E(qg)'*B);\n",
    "function discrete_dynamics(params,x,u,k)\n",
    "  Ã*x + B̃*u\n",
    "end"
   ]
  },
  {
   "cell_type": "code",
   "execution_count": 8,
   "metadata": {},
   "outputs": [
    {
     "data": {
      "text/plain": [
       "controller_lqr (generic function with 1 method)"
      ]
     },
     "metadata": {},
     "output_type": "display_data"
    }
   ],
   "source": [
    "#LQR Controller\n",
    "# K = dlqr(Ã,B̃,Q,R)\n",
    "#Feedback controller\n",
    "function controller_lqr(x, k)\n",
    "    \n",
    "  q0 = x0[4:7]\n",
    "  q = x[4:7]\n",
    "  ϕ = qtorp(L(q0)'*q)\n",
    "  \n",
    "  Δx̃ = [x[1:3]-r0; ϕ; x[8:10]-v0; x[11:13]-ω0]\n",
    "  \n",
    "  u = uhover - K*Δx̃\n",
    "end"
   ]
  },
  {
   "cell_type": "code",
   "execution_count": 9,
   "metadata": {},
   "outputs": [
    {
     "ename": "UndefVarError",
     "evalue": "UndefVarError: Nx̃ not defined",
     "output_type": "error",
     "traceback": [
      "UndefVarError: Nx̃ not defined\n",
      "\n",
      "Stacktrace:\n",
      " [1] top-level scope\n",
      "   @ ~/SSD/Code/TinyMPC/julia/quadrotor_quat/quadrotor_dt.ipynb:3"
     ]
    }
   ],
   "source": [
    "#Feedback hovering controller\n",
    "include(\"tinyMPC.jl\")\n",
    "nx = Nx̃\n",
    "nu = Nu\n",
    "N = Nt\n",
    "dt = h\n",
    "\n",
    "Δx̃g = zeros(nx)\n",
    "Xref = [deepcopy(Δx̃g) for i = 1:N]\n",
    "Uref = [zeros(nu) for i = 1:N-1]\n",
    "\n",
    "u_min = -1*uhover\n",
    "u_max =  1*uhover\n",
    "\n",
    "x_min = -100.0*ones(nx)\n",
    "x_min[1:7] .= -.8\n",
    "x_max = 100.0*ones(nx)\n",
    "x_max[1:7] .= 1.0\n",
    "\n",
    "max_inner_iters = 10  # MAX RICCATI SOLVING ITERATION\n",
    "ncx = 2*nx*0\n",
    "ncu = 2*nu*1\n",
    "ncg = 1\n",
    "ncu_cone = nu*0; \n",
    "cone_scale = 1e-3  # very fragile for each problem\n",
    "\n",
    "μ = [zeros(ncu) for i = 1:N-1]   # input constraints\n",
    "μx = [zeros(ncx) for i = 1:N]    # state constraints\n",
    "λ = zeros(nx)    # goal constraint\n",
    "λc = [zeros(ncu_cone) for i = 1:N-1]   # goal constraint\n",
    "A_cone = [1 0 0; 0 1 0]\n",
    "c_cone = [0.0, 0.0, tand(0)]\n",
    "\n",
    "params = (\n",
    "    nx = nx, nu = nu, ncx = ncx, ncu = ncu, ncg = ncg, ncu_cone = ncu_cone,\n",
    "    μ = μ, μx = μx, λ = λ, λc = λc,\n",
    "    A_cone = A_cone, c_cone = c_cone,\n",
    "    N = N, Q = Q, R = R, Qf = 10*Q,\n",
    "    u_min = u_min, u_max = u_max,\n",
    "    x_min = x_min, x_max = x_max,\n",
    "    Xref = Xref, Uref = Uref, dt = dt,\n",
    ");\n",
    "\n",
    "# previous MPC iterate\n",
    "X = [zeros(nx) for i = 1:N]\n",
    "U = [ones(nu) for k = 1:N-1]\n",
    "# new MPC iterate\n",
    "Xn = deepcopy(X)\n",
    "Un = deepcopy(U)\n",
    "\n",
    "P = [zeros(nx,nx) for i = 1:N]   # cost to go quadratic term\n",
    "p = [zeros(nx) for i = 1:N]      # cost to go linear term\n",
    "d = [zeros(nu) for i = 1:N-1]    # feedforward control\n",
    "K = [zeros(nu,nx) for i = 1:N-1] # feedback gain\n",
    "\n",
    "Random.seed!(12);\n",
    "x = [rg+rand(3); L(qg)*rptoq([1; 0; 0]); vg; ωg];\n",
    "q = x[4:7]\n",
    "ϕ = qtorp(L(qg)'*q)    \n",
    "Δx̃ = [x[1:3]-rg; ϕ; x[8:10]-vg; x[11:13]-ωg]\n",
    "X[1] .= Δx̃\n",
    "u = mpc!(params,X,U,P,p,K,d,Xn,Un; atol=1e-4,max_iters=20,verbose=true,ρ=1e0,ρ_max=1e10, ϕ=10.0)\n",
    "\n",
    "# Open-loop Simulation\n",
    "xhist = zeros(Nx,N)\n",
    "xhist[:,1] = x\n",
    "for k = 1:(N-1)\n",
    "    xhist[:,k+1] = quad_dynamics_rk4(xhist[:,k],Un[k])\n",
    "end\n",
    "\n",
    "# Plots\n",
    "Xsim_m = mat_from_vec(Xn)\n",
    "Usim_m = mat_from_vec(Un)\n",
    "display(plot(t_vec,Xsim_m[1:7,:]',label=[\"x\" \"y\" \"z\" \"qw\" \"qx\" \"qy\" \"qz\"],\n",
    "linestyle=[:solid :solid :solid :dash :dash :dash :dash], linewidth=[2 2 2 2 2 2 2],\n",
    "             title=\"State Solution\", xlabel=\"time (s)\", ylabel=\"x\"))\n",
    "display(plot(t_vec[1:end-1],Usim_m',label=[\"u₁\" \"u₂\" \"u₃\" \"u₄\"],\n",
    "             title=\"Input Solution\", linewidth=[2 2 2 2 2 2 2],\n",
    "             xlabel=\"time (s)\", ylabel=\"u\"))\n",
    "display(plot(t_vec,xhist[1:7,:]',label=[\"x\" \"y\" \"z\" \"qw\" \"qx\" \"qy\" \"qz\"],\n",
    "linestyle=[:solid :solid :solid :dash :dash :dash :dash], linewidth=[2 2 2 2 2 2 2],\n",
    "             title=\"Nonlinear State History\", xlabel=\"time (s)\", ylabel=\"x\"))             "
   ]
  },
  {
   "cell_type": "code",
   "execution_count": 10,
   "metadata": {},
   "outputs": [
    {
     "ename": "UndefVarError",
     "evalue": "UndefVarError: Nx̃ not defined",
     "output_type": "error",
     "traceback": [
      "UndefVarError: Nx̃ not defined\n",
      "\n",
      "Stacktrace:\n",
      " [1] top-level scope\n",
      "   @ ~/SSD/Code/TinyMPC/julia/quadrotor_quat/quadrotor_dt.ipynb:3"
     ]
    }
   ],
   "source": [
    "#Feedback tracking controller\n",
    "include(\"tinyMPC.jl\")\n",
    "nx = Nx̃\n",
    "nu = Nu\n",
    "N = Nt\n",
    "dt = h\n",
    "\n",
    "# Δx̃g = zeros(nx)\n",
    "# Xref = [deepcopy(Δx̃g) for i = 1:N]\n",
    "Δx̃ref = [zeros(nx) for i = 1:Nt]\n",
    "Uref = [zeros(nu) for i = 1:Nt-1]\n",
    "Xref = [[5*cos(t);5*cos(t)*sin(t);1.2+sin(t);1;zeros(9)] for t = range(-pi/2, 3*pi/2 + 4*pi, length = Nt)]\n",
    "for i = 1:Nt-1\n",
    "    Xref[i][8:10] = (Xref[i+1][1:3] - Xref[i][1:3])/dt\n",
    "end\n",
    "for k = 1:Nt\n",
    "    rref = Xref[k][1:3]\n",
    "    qref = Xref[k][4:7]\n",
    "    vref = Xref[k][8:10]\n",
    "    ωref = Xref[k][11:13]\n",
    "    ϕ = qtorp(L(qg)'*qref)    \n",
    "    Δx̃ref[k] .= [-xg[1:3]+rref; ϕ; -xg[8:10]+vref; -xg[11:13]+ωref]\n",
    "end\n",
    "u_min = -uhover\n",
    "u_max =  uhover\n",
    "\n",
    "# state is x y v θ\n",
    "x_min = -ones(nx)\n",
    "x_max = ones(nx)\n",
    "\n",
    "max_inner_iters = 10  # MAX RICCATI SOLVING ITERATION\n",
    "ncx = 2*nx*0\n",
    "ncu = 2*nu*1\n",
    "ncg = 0\n",
    "ncu_cone = nu*0; \n",
    "cone_scale = 1e-3  # very fragile for each problem\n",
    "\n",
    "μ = [zeros(ncu) for i = 1:N-1]   # input constraints\n",
    "μx = [zeros(ncx) for i = 1:N]    # state constraints\n",
    "λ = zeros(nx)    # goal constraint\n",
    "λc = [zeros(ncu_cone) for i = 1:N-1]   # goal constraint\n",
    "A_cone = [1 0 0; 0 1 0]\n",
    "c_cone = [0.0, 0.0, tand(0)]\n",
    "\n",
    "params = (\n",
    "    nx = nx, nu = nu, ncx = ncx, ncu = ncu, ncg = ncg, ncu_cone = ncu_cone,\n",
    "    μ = μ, μx = μx, λ = λ, λc = λc,\n",
    "    A_cone = A_cone, c_cone = c_cone,\n",
    "    N = N, Q = 10*Q, R = R, Qf = 10*Q,\n",
    "    u_min = u_min, u_max = u_max,\n",
    "    x_min = x_min, x_max = x_max,\n",
    "    Xref = Δx̃ref, Uref = Uref, dt = dt,\n",
    ");\n",
    "\n",
    "# previous MPC iterate\n",
    "X = [zeros(nx) for i = 1:N]\n",
    "U = [zeros(nu) for k = 1:N-1]\n",
    "# new MPC iterate\n",
    "Xn = deepcopy(X)\n",
    "Un = deepcopy(U)\n",
    "\n",
    "P = [zeros(nx,nx) for i = 1:N]   # cost to go quadratic term\n",
    "p = [zeros(nx) for i = 1:N]      # cost to go linear term\n",
    "d = [zeros(nu) for i = 1:N-1]    # feedforward control\n",
    "K = [zeros(nu,nx) for i = 1:N-1] # feedback gain\n",
    "\n",
    "X[1] .= Δx̃ref[1]\n",
    "u = mpc!(params,X,U,P,p,K,d,Xn,Un; atol=1e-4,max_iters=20,verbose=true,ρ=1e0,ρ_max=1e10, ϕ=10.0)\n",
    "\n",
    "# Open-loop Simulation\n",
    "xhist = zeros(Nx,N)\n",
    "xhist[:,1] = x\n",
    "for k = 1:(N-1)\n",
    "    xhist[:,k+1] = quad_dynamics_rk4(xhist[:,k],Un[k])\n",
    "end\n",
    "\n",
    "# Plots\n",
    "Xsim_m = mat_from_vec(Xn)\n",
    "Usim_m = mat_from_vec(Un)\n",
    "display(plot(t_vec,Xsim_m[1:7,:]',label=[\"x\" \"y\" \"z\" \"qw\" \"qx\" \"qy\" \"qz\"],\n",
    "linestyle=[:solid :solid :solid :dash :dash :dash :dash], linewidth=[2 2 2 2 2 2 2],\n",
    "             title=\"State Solution\", xlabel=\"time (s)\", ylabel=\"x\"))\n",
    "display(plot(t_vec[1:end-1],Usim_m',label=[\"u₁\" \"u₂\" \"u₃\" \"u₄\"],\n",
    "             title=\"Input Solution\", linewidth=[2 2 2 2 2 2 2],\n",
    "             xlabel=\"time (s)\", ylabel=\"u\"))\n",
    "display(plot(t_vec,xhist[1:7,:]',label=[\"x\" \"y\" \"z\" \"qw\" \"qx\" \"qy\" \"qz\"],\n",
    "linestyle=[:solid :solid :solid :dash :dash :dash :dash], linewidth=[2 2 2 2 2 2 2],\n",
    "             title=\"Nonlinear State History\", xlabel=\"time (s)\", ylabel=\"x\"))   "
   ]
  },
  {
   "cell_type": "code",
   "execution_count": 11,
   "metadata": {},
   "outputs": [
    {
     "ename": "UndefVarError",
     "evalue": "UndefVarError: Nx̃ not defined",
     "output_type": "error",
     "traceback": [
      "UndefVarError: Nx̃ not defined\n",
      "\n",
      "Stacktrace:\n",
      " [1] top-level scope\n",
      "   @ ~/SSD/Code/TinyMPC/julia/quadrotor_quat/quadrotor_dt.ipynb:3"
     ]
    }
   ],
   "source": [
    "#Feedback tracking controller\n",
    "include(\"tinyMPC.jl\")\n",
    "nx = Nx̃\n",
    "nu = Nu\n",
    "N = 10\n",
    "dt = h\n",
    "Tfinal = 10.0 # final time\n",
    "Nt = Int(Tfinal/h)+1    # number of time steps\n",
    "t_vec = h*(0:Nt-1)\n",
    "\n",
    "#Create trajectory to follow\n",
    "Xref = [[0;0;1;1;zeros(9)] for i = 1:Nt+N]\n",
    "Δx̃ref = [zeros(nx) for i = 1:Nt+N]\n",
    "Uref = [zeros(nu) for i = 1:Nt+N-1]\n",
    "\n",
    "# Number-eight\n",
    "Xref = [[1*cos(t)*sin(t);1*cos(t);1;1;zeros(9)] for t = range(0, 2*pi + 1*pi/4, length = Nt+N)]  \n",
    "\n",
    "# Triangle\n",
    "# p0 = [0; 0; 1.0]; p1 = [2; 3; 2.]; p2 = [0; 6; 2.]; p3 = [0; -2; 1.0]\n",
    "# range1 = collect(LinRange(p0, p1, round(Int,(Nt+N)/3)))\n",
    "# range2 = collect(LinRange(p1, p2, round(Int,(Nt+N)/3)))\n",
    "# range3 = collect(LinRange(p2, p3, round(Int,(Nt+N)/3)+1))\n",
    "# range123 = [range1; range2; range3]\n",
    "# for k = 1:Nt+N\n",
    "#     Xref[k][1:3] .= range123[k]\n",
    "# end\n",
    "\n",
    "for i = 1:Nt+N-1\n",
    "    Xref[i][8:10] = (Xref[i+1][1:3] - Xref[i][1:3])/dt\n",
    "end\n",
    "for k = 1:Nt+N\n",
    "    x = Xref[k]\n",
    "    q = x[4:7]\n",
    "    ϕ = qtorp(L(qg)'*q)   \n",
    "    Δx̃ref[k] .= [x[1:3]-rg; ϕ; x[8:10]-vg; x[11:13]-ωg]\n",
    "end\n",
    "\n",
    "u_min = -1*uhover\n",
    "u_max =  1*uhover\n",
    "\n",
    "# state is x y v θ\n",
    "x_min = -100*ones(nx)\n",
    "x_min[3] = -0.3\n",
    "x_max = 100*ones(nx)\n",
    "x_max[3] = 0.3\n",
    "\n",
    "ncx = 2*nx*0\n",
    "ncu = 2*nu*0\n",
    "ncg = 0\n",
    "ncu_cone = nu*0; \n",
    "cone_scale = 1e-3  # very fragile for each problem\n",
    "\n",
    "μ = [zeros(ncu) for i = 1:N-1]   # input constraints\n",
    "μx = [zeros(ncx) for i = 1:N]    # state constraints\n",
    "λ = zeros(nx)    # goal constraint\n",
    "λc = [zeros(ncu_cone) for i = 1:N-1]   # goal constraint\n",
    "A_cone = [1 0 0; 0 1 0]\n",
    "c_cone = [0.0, 0.0, tand(0)]\n",
    "\n",
    "params = (\n",
    "    nx = nx, nu = nu, ncx = ncx, ncu = ncu, ncg = ncg, ncu_cone = ncu_cone,\n",
    "    μ = μ, μx = μx, λ = λ, λc = λc,\n",
    "    A_cone = A_cone, c_cone = c_cone,\n",
    "    N = N, Q = 10*Q, R = R, Qf = 10*Q,\n",
    "    u_min = u_min, u_max = u_max,\n",
    "    x_min = x_min, x_max = x_max,\n",
    "    Xref = Δx̃ref, Uref = Uref, dt = dt,\n",
    ");\n",
    "    \n",
    "# previous MPC iterate\n",
    "X = [zeros(nx) for i = 1:N]\n",
    "U = [zeros(nu) for k = 1:N-1]\n",
    "# new MPC iterate\n",
    "Xn = deepcopy(X)\n",
    "Un = deepcopy(U)\n",
    "    \n",
    "P = [zeros(nx,nx) for i = 1:N]   # cost to go quadratic term\n",
    "p = [zeros(nx) for i = 1:N]      # cost to go linear term\n",
    "d = [zeros(nu) for i = 1:N-1]    # feedforward control\n",
    "K = [zeros(nu,nx) for i = 1:N-1] # feedback gain\n",
    "\n",
    "function controller_mpc(params, x, k)\n",
    "    q = x[4:7]\n",
    "    ϕ = qtorp(L(qg)'*q)\n",
    "    \n",
    "    Δx̃ = [x[1:3]-rg; ϕ; x[8:10]-vg; x[11:13]-ωg]\n",
    "    X[1] .= Δx̃\n",
    "    # u = mpc_JuMP(optimizer, params, X, U, Ã, B̃, 0.0; warm_start=true)\n",
    "    u = mpc!(params,X,U,P,p,K,d,Xn,Un; atol=1e-2,max_iters=20,max_inner_iters=5,verbose=false,ρ=1e0,ρ_max=1e6, ϕ=10.0)\n",
    "    return u + uhover\n",
    "end"
   ]
  },
  {
   "cell_type": "code",
   "execution_count": 12,
   "metadata": {},
   "outputs": [
    {
     "ename": "UndefVarError",
     "evalue": "UndefVarError: Nt not defined",
     "output_type": "error",
     "traceback": [
      "UndefVarError: Nt not defined\n",
      "\n",
      "Stacktrace:\n",
      " [1] top-level scope\n",
      "   @ ~/SSD/Code/TinyMPC/julia/quadrotor_quat/quadrotor_dt.ipynb:2"
     ]
    }
   ],
   "source": [
    "#Simulation\n",
    "uhist = [zeros(Nu) for i in 1:Nt-1]\n",
    "xhist = [zeros(Nx) for i in 1:Nt]\n",
    "Random.seed!(12);\n",
    "# xhist[1] .= [rg+randn(3); L(qg)*rptoq([1; 0; 0]); vg; ωg]  # initial conditions\n",
    "xhist[1] .= Xref[1]\n",
    "# xhist[1] .= Xref[1]; xhist[1][1:3] += rand(3)*0.2\n",
    "for k = 1:(Nt-1)\n",
    "    params1 = (; params..., Uref = Uref[k:N+k-1], Xref = Δx̃ref[k:N+k])  # update ref\n",
    "    shift_fill(U)\n",
    "    @time uhist[k] = controller_mpc(params1, xhist[k], k)\n",
    "    uhist[k] = clamp.(uhist[k], (uhover+u_min)[1], (uhover+u_max)[1])\n",
    "    xhist[k+1] = quad_dynamics_rk4(xhist[k],uhist[k]) \n",
    "end"
   ]
  },
  {
   "cell_type": "code",
   "execution_count": 13,
   "metadata": {},
   "outputs": [
    {
     "ename": "UndefVarError",
     "evalue": "UndefVarError: Nt not defined",
     "output_type": "error",
     "traceback": [
      "UndefVarError: Nt not defined\n",
      "\n",
      "Stacktrace:\n",
      " [1] top-level scope\n",
      "   @ ~/SSD/Code/TinyMPC/julia/quadrotor_quat/quadrotor_dt.ipynb:1"
     ]
    }
   ],
   "source": [
    "Xsim_m = mat_from_vec(Xref[1:Nt])\n",
    "plot(Xsim_m[2,:],Xsim_m[1,:],label=\"ref\",\n",
    "linestyle=:solid, linewidth=2,\n",
    "             title=\"State History\", xlabel=\"y\", ylabel=\"x\")\n",
    "Xsim_m = mat_from_vec(xhist[1:Nt])   \n",
    "display(plot!(Xsim_m[2,:],Xsim_m[1,:],label=\"real\", linestyle=:dash, linewidth=2,\n",
    "             title=\"State History\", xlabel=\"y\", ylabel=\"x\", aspect_ratio=:equal))"
   ]
  },
  {
   "cell_type": "code",
   "execution_count": 14,
   "metadata": {},
   "outputs": [
    {
     "ename": "UndefVarError",
     "evalue": "UndefVarError: Nt not defined",
     "output_type": "error",
     "traceback": [
      "UndefVarError: Nt not defined\n",
      "\n",
      "Stacktrace:\n",
      " [1] top-level scope\n",
      "   @ ~/SSD/Code/TinyMPC/julia/quadrotor_quat/quadrotor_dt.ipynb:1"
     ]
    }
   ],
   "source": [
    "Xsim_m = mat_from_vec(xhist[1:Nt])   \n",
    "Usim_m = mat_from_vec(uhist[1:Nt-1])   \n",
    "display(plot(t_vec,Xsim_m[1:7,:]',label=[\"x\" \"y\" \"z\" \"qw\" \"qx\" \"qy\" \"qz\"],\n",
    "linestyle=[:solid :solid :solid :dash :dash :dash :dash], linewidth=[2 2 2 2 2 2 2],\n",
    "             title=\"State History\", xlabel=\"time (s)\", ylabel=\"x\"))\n",
    "display(plot(t_vec[1:end-1],Usim_m',label=[\"u₁\" \"u₂\" \"u₃\" \"u₄\"],\n",
    "             title=\"Input History\", linewidth=[2 2 2 2 2 2 2],\n",
    "             xlabel=\"time (s)\", ylabel=\"u\"))"
   ]
  }
 ],
 "metadata": {
  "kernelspec": {
   "display_name": "Julia 1.6.7",
   "language": "julia",
   "name": "julia-1.6"
  },
  "language_info": {
   "file_extension": ".jl",
   "mimetype": "application/julia",
   "name": "julia",
   "version": "1.6.7"
  }
 },
 "nbformat": 4,
 "nbformat_minor": 4
}
