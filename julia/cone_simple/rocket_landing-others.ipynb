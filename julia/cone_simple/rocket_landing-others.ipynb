{
 "cells": [
  {
   "cell_type": "code",
   "execution_count": 1,
   "id": "6099cb4b-a2da-4b1b-ba0f-856484092fc4",
   "metadata": {},
   "outputs": [
    {
     "name": "stderr",
     "output_type": "stream",
     "text": [
      "\u001b[32m\u001b[1m  Activating\u001b[22m\u001b[39m environment at `~/SSD/Code/TinyMPC/julia/cone_simple/Project.toml`\n"
     ]
    }
   ],
   "source": [
    "using Pkg\n",
    "Pkg.activate(@__DIR__)\n",
    "Pkg.instantiate()\n",
    "\n",
    "using LinearAlgebra\n",
    "using Printf\n",
    "import ForwardDiff as FD\n",
    "using JuMP\n",
    "using COSMO\n",
    "using Random; "
   ]
  },
  {
   "cell_type": "code",
   "execution_count": 57,
   "id": "6179ca57-b5ff-4274-8391-85d5e728fc16",
   "metadata": {
    "tags": []
   },
   "outputs": [
    {
     "data": {
      "text/plain": [
       "mpc (generic function with 1 method)"
      ]
     },
     "execution_count": 57,
     "metadata": {},
     "output_type": "execute_result"
    }
   ],
   "source": [
    "# -------------------THIS IS ALL ALTRO-------------------------------\n",
    "# This enables goal equality constraints, state and input ineq constraints.\n",
    "\n",
    "function stage_cost(p::NamedTuple,x,u,k)\n",
    "    dx = x - p.Xref[k]\n",
    "    du = u - p.Uref[k]\n",
    "    return 0.5*dx'*p.Q*dx + 0.5*du'*p.R*du\n",
    "end\n",
    "function term_cost(p::NamedTuple,x)\n",
    "    dx = x - p.Xref[p.N]\n",
    "    return 0.5*dx'*p.Qf*dx\n",
    "end\n",
    "function stage_cost_expansion(p::NamedTuple,k)\n",
    "    dx = - p.Xref[k]\n",
    "    du = - p.Uref[k]\n",
    "    return p.Q, p.Q*dx, p.R, p.R*du  # Hessian and gradient\n",
    "end\n",
    "function term_cost_expansion(p::NamedTuple)\n",
    "    dx = - p.Xref[p.N]\n",
    "    return p.Qf, p.Qf*dx\n",
    "end\n",
    "function conic_cost_expansion(p::NamedTuple, u, λc, ρ, k)\n",
    "    λhat = λc # already updated\n",
    "    ∇c = cone_u_jac(p, u)\n",
    "    G = ∇c'*∇projection(λhat)*projection(λhat)\n",
    "    # H = ∇c'*∇projection(λhat)'*∇projection(λhat)*∇c/ρ\n",
    "    H = ∇c'*(∇projection(λhat)'*∇projection(λhat) + ∇²projection(λhat, projection(λhat)))*∇c/ρ\n",
    "    return (G - H*u), H\n",
    "end\n",
    "function backward_pass!(params,X,U,P,p,d,K,reg,μ,μx,ρ,λ,λc)\n",
    "    \"\"\"iLQR backward pass with AL. This !function update its parameters\n",
    "    \"\"\"\n",
    "    N = params.N\n",
    "    ΔJ = 0.0    # expected cost reduction\n",
    "\n",
    "    # terminal cost expansion\n",
    "    P[N], p[N] = term_cost_expansion(params) \n",
    "    \n",
    "    if (params.ncx > 0)\n",
    "        # # add AL terms for the state constraint at the final time step\n",
    "        hxv = ineq_con_x(params,X[N])  # h(x) violation  \n",
    "        mask = eval_mask(μx[N],hxv)\n",
    "        ∇hx = ineq_con_x_jac(params,X[N])\n",
    "        # add these into the cost-to-go p and P\n",
    "        p[N]  += ∇hx'*(μx[N] - ρ*(mask * [params.x_max;-params.x_min]))  # multiplier term (1st)\n",
    "        P[N]  += ρ*∇hx'*mask*∇hx                # penalty term (2nd)\n",
    "    end\n",
    "    \n",
    "    if (params.ncg > 0)\n",
    "        # add AL terms for goal constraint \n",
    "        ∇hx = diagm(ones(params.nx))\n",
    "        # add these into the CTG p and P (equality active)\n",
    "        p[N]  += ∇hx'*(λ - ρ*params.Xref[N])   \n",
    "        P[N]  += ρ*∇hx'∇hx\n",
    "    end\n",
    "    \n",
    "    # iterate from N-1 to 1 backwards\n",
    "    for k = (N-1):(-1):1\n",
    "        # dynamics jacobians (linearization about previous iterate)\n",
    "        A = FD.jacobian(_x -> discrete_dynamics(params,_x,U[k],k),X[k])\n",
    "        B = FD.jacobian(_u -> discrete_dynamics(params,X[k],_u,k),U[k])\n",
    "\n",
    "        Sxx,Sx,Suu,Su = stage_cost_expansion(params,k)\n",
    "        \n",
    "        # one-step cost expansion: Q, Q*dx, R, R*du\n",
    "        Sx += A' * (P[k+1]*f + p[k+1]) \n",
    "        Su += B' * (P[k+1]*f + p[k+1]) \n",
    "        Sxx += A'*(P[k+1])*A\n",
    "        Suu += B'*(P[k+1] + reg*I)*B                                     \n",
    "        Sux = B'*(P[k+1])*A  \n",
    "        if (params.ncu > 0)\n",
    "            # control constraints\n",
    "            huv = ineq_con_u(params,U[k])  # calculate h(u) constraint\n",
    "            mask = eval_mask(μ[k],huv)  # choose active\n",
    "            ∇hu = ineq_con_u_jac(params,U[k])\n",
    "            Su  += ∇hu'*(μ[k] - ρ*(mask * [params.u_max;-params.u_min])) # add to cost\n",
    "            Suu += ρ*∇hu'*mask*∇hu\n",
    "        end\n",
    "        if (params.ncx > 0)\n",
    "            # state constraints\n",
    "            hxv = ineq_con_x(params,X[k])\n",
    "            mask = eval_mask(μx[k],hxv)\n",
    "            ∇hx = ineq_con_x_jac(params,X[k])\n",
    "            Sx  += ∇hx'*(μx[k] - ρ*(mask * [params.x_max;-params.x_min]))\n",
    "            Sxx += ρ*∇hx'*mask*∇hx\n",
    "        end\n",
    "        if (params.ncu_cone > 0)\n",
    "            # conic constraints\n",
    "            Qu, Quu = conic_cost_expansion(params, U[k], λc[k], ρ/cone_scale, k)\n",
    "            # display(Quu)\n",
    "            Su += Qu\n",
    "            Suu += Quu\n",
    "        end\n",
    "        \n",
    "        # Calculate Gains\n",
    "        for i = 1:10\n",
    "            if isposdef(Suu) == 0\n",
    "                Suu += reg*I\n",
    "            end\n",
    "        end\n",
    "        # F = cholesky(Symmetric(Suu))\n",
    "        d[k] = Suu\\Su\n",
    "        K[k] = Suu\\Sux\n",
    "\n",
    "        # Cost-to-go Recurrence (PSD stabilizing version, last term)\n",
    "        P[k] = Sxx + K[k]'*Suu*K[k] - 2*K[k]'*Sux\n",
    "        p[k] = Sx + K[k]'*Suu*d[k] - K[k]'*Su - Sux'*d[k]\n",
    "        ΔJ += Su'*d[k]\n",
    "    end\n",
    "\n",
    "    return ΔJ  # but also change params\n",
    "end\n",
    "function forward_pass!(params,X,U,K,d,ΔJ,Xn,Un,μ,μx,ρ,λ; \n",
    "                        max_linesearch_iters = 20)\n",
    "    \"\"\"iLQR forward pass and line-search\n",
    "    This !function update its parameters\n",
    "    \"\"\"\n",
    "    N = params.N\n",
    "        # Forward Rollout\n",
    "        for k = 1:(N-1)\n",
    "            Un[k] = - d[k] - K[k]*Xn[k] \n",
    "            Xn[k+1] = discrete_dynamics(params,Xn[k],Un[k],k)\n",
    "        end\n",
    "    X .= Xn\n",
    "    U .= Un\n",
    "    return 0, 0\n",
    "end\n",
    "function eval_mask(μv,huv)  \n",
    "    # Extract active inequality constraints\n",
    "    # active set mask\n",
    "    mask = Diagonal(zeros(length(huv)))\n",
    "    for i = 1:length(huv)\n",
    "        mask[i,i] = (μv[i] > 0 || huv[i] > 0)\n",
    "    end\n",
    "    mask\n",
    "end\n",
    "function mpc(params,X,U,P,p,K,d,Xn,Un;atol=1e-3,max_iters = 250,verbose = true,ρ=1,ϕ=10)\n",
    "\n",
    "    # first check the sizes of everything\n",
    "    # @assert length(X) == params.N\n",
    "    # @assert length(U) == params.N-1\n",
    "    # @assert length(X[1]) == params.nx\n",
    "    # @assert length(U[1]) == params.nu\n",
    "\n",
    "    # initial rollout\n",
    "    N = params.N\n",
    "    for i = 1:N-1\n",
    "        X[i+1] = discrete_dynamics(params,X[i],U[i],i)\n",
    "    end\n",
    "\n",
    "    reg_min = 1e-8\n",
    "    reg = reg_min\n",
    "\n",
    "    μ = [zeros(params.ncu) for i = 1:N-1]   # input constraints\n",
    "\n",
    "    μx = [zeros(params.ncx) for i = 1:N]    # state constraints\n",
    "\n",
    "    λ = zeros(params.nx)    # goal constraint\n",
    "\n",
    "    λc = [zeros(params.ncu_cone) for i = 1:N-1]   # goal constraint\n",
    "    \n",
    "    # Inner loop to solve unconstrained problem (Riccati)\n",
    "    for iter = 1:max_iters\n",
    "        \n",
    "        J = 0.0\n",
    "        ΔJ = 0.0\n",
    "        α = 1.0\n",
    "        for i = 1:1\n",
    "            ΔJ = backward_pass!(params,X,U,P,p,d,K,reg,μ,μx,ρ,λ,λc)\n",
    "            J, α = forward_pass!(params,X,U,K,d,ΔJ,Xn,Un,μ,μx,ρ,λ)\n",
    "        end\n",
    "\n",
    "        if verbose\n",
    "            if rem(iter-1,10)==0\n",
    "                @printf \"iter     J           ΔJ        |d|         α        reg         ρ\\n\"\n",
    "                @printf \"---------------------------------------------------------------------\\n\"\n",
    "            end\n",
    "            @printf(\"%3d   %10.3e  %9.2e  %9.2e  %6.4f   %9.2e   %9.2e\\n\",\n",
    "              iter, J, ΔJ, 0, α, reg, ρ)\n",
    "        end\n",
    "        # update multipliers and check constraint violation, max of all\n",
    "        convio = 0  \n",
    "        \n",
    "        if (params.ncu > 0)\n",
    "            # control constraints (inequality)\n",
    "            for k = 1:N-1\n",
    "                huv = ineq_con_u(params,U[k])\n",
    "                mask = eval_mask(μ[k],huv)\n",
    "                # update dual\n",
    "                convio = max(convio,norm(huv + abs.(huv),Inf))\n",
    "                μ[k] = max.(0,μ[k] - ρ*(mask * [params.u_max;-params.u_min]))\n",
    "            end\n",
    "        end\n",
    "        if (params.ncx > 0)\n",
    "            # state constraints (inequality)\n",
    "            for k = 1:N\n",
    "                hxv = ineq_con_x(params,X[k])\n",
    "                mask = eval_mask(μx[k],hxv)\n",
    "                # update dual\n",
    "                convio = max(convio,norm(hxv + abs.(hxv),Inf))\n",
    "                μx[k] = max.(0,μx[k] - ρ*(mask * [params.x_max;-params.x_min]))                \n",
    "            end\n",
    "        end\n",
    "        if (params.ncu_cone > 0)\n",
    "            # conic constraints \n",
    "            if verbose\n",
    "                print(\"update cone\\n\")\n",
    "            end            \n",
    "            for k = 1:N-1\n",
    "                # update dual\n",
    "                Uc = cone_u(params, U[k])\n",
    "                huc = norm(Uc[1:2]) - Uc[3]\n",
    "                convio = max(convio, norm(huc + abs.(huc),Inf))\n",
    "                λc[k] = projection(λc[k] + Uc/cone_scale/ρ)\n",
    "                # display(λc[k])\n",
    "            end\n",
    "        end\n",
    "        if (params.ncg > 0)\n",
    "            # goal constraint (equality)\n",
    "            hxv = X[N] - params.Xref[N]\n",
    "            λ .-= ρ*params.Xref[N]\n",
    "            convio = max(convio, norm(hxv,Inf))\n",
    "        end\n",
    "        \n",
    "        ρ *= ϕ  # update penalty\n",
    "        \n",
    "        if verbose\n",
    "            @show convio\n",
    "        end\n",
    "        if convio < atol  # if terminal condition with contraint violation\n",
    "            # print(\"Our solver says SUCCESS\\n\") # @info \"success!\"\n",
    "            return U[1]\n",
    "        end\n",
    "        if ρ > 1e8\n",
    "            print(\"Our solver reachs MAX PENALTY\\n\")\n",
    "            return U[1]\n",
    "        end\n",
    "    end\n",
    "    print(\"Our solver says INFEASIBLE and MAX ITER\\n\")\n",
    "    return U[1]\n",
    "end\n",
    "#----------------------ALTRO DONE --------------------------"
   ]
  },
  {
   "cell_type": "code",
   "execution_count": 3,
   "id": "ff9a97a1-b963-4f01-9223-eee0c5682b7d",
   "metadata": {
    "tags": []
   },
   "outputs": [
    {
     "data": {
      "text/plain": [
       "∇²projection (generic function with 1 method)"
      ]
     },
     "execution_count": 3,
     "metadata": {},
     "output_type": "execute_result"
    }
   ],
   "source": [
    "# =============================\n",
    "# Example problem formulation and solve\n",
    "# =============================\n",
    "\n",
    "# ---------------------THIS IS WHAT YOU NEED TO INPUT--------\n",
    "A = [1.0 0.0 0.0 0.05 0.0 0.0; \n",
    "    0.0 1.0 0.0 0.0 0.05 0.0; \n",
    "    0.0 0.0 1.0 0.0 0.0 0.05; \n",
    "    0.0 0.0 0.0 1.0 0.0 0.0; \n",
    "    0.0 0.0 0.0 0.0 1.0 0.0; \n",
    "    0.0 0.0 0.0 0.0 0.0 1.0]\n",
    "B = [0.000125 0.0 0.0; \n",
    "    0.0 0.000125 0.0;\n",
    "    0.0 0.0 0.000125; \n",
    "    0.005 0.0 0.0; \n",
    "    0.0 0.005 0.0; \n",
    "    0.0 0.0 0.005]\n",
    "f = [0.0, 0.0, -0.0122625, 0.0, 0.0, -0.4905]\n",
    "function discrete_dynamics(p::NamedTuple,x,u,k)\n",
    "    A = [1.0 0.0 0.0 0.05 0.0 0.0; \n",
    "        0.0 1.0 0.0 0.0 0.05 0.0; \n",
    "        0.0 0.0 1.0 0.0 0.0 0.05; \n",
    "        0.0 0.0 0.0 1.0 0.0 0.0; \n",
    "        0.0 0.0 0.0 0.0 1.0 0.0; \n",
    "        0.0 0.0 0.0 0.0 0.0 1.0]\n",
    "    B = [0.000125 0.0 0.0; \n",
    "        0.0 0.000125 0.0;\n",
    "        0.0 0.0 0.000125; \n",
    "        0.005 0.0 0.0; \n",
    "        0.0 0.005 0.0; \n",
    "        0.0 0.0 0.005]\n",
    "    f = [0.0, 0.0, -0.0122625, 0.0, 0.0, -0.4905]\n",
    "    return A*x + B*u + f\n",
    "end\n",
    "function ineq_con_x(p,x)\n",
    "    [x-p.x_max;-x + p.x_min]\n",
    "end\n",
    "function ineq_con_u(p,u)\n",
    "    [u-p.u_max;-u + p.u_min]\n",
    "end\n",
    "function cone_u(p, u)\n",
    "    [p.A_cone*u;p.c_cone'*u]\n",
    "end\n",
    "function cone_u_jac(p, u)\n",
    "    J = zeros(p.nu, p.nu)\n",
    "    J[1:end-1,1:end] .= p.A_cone\n",
    "    J[end,1:end] .= p.c_cone\n",
    "    return J\n",
    "end\n",
    "function ineq_con_u_jac(params,u)\n",
    "    FD.jacobian(_u -> ineq_con_u(params,_u), u)\n",
    "end\n",
    "function ineq_con_x_jac(p,x)\n",
    "    FD.jacobian(_x -> ineq_con_x(p,_x),x)\n",
    "end\n",
    "function projection(x)\n",
    "    n = length(x)\n",
    "    s = x[end]\n",
    "    v = view(x,1:n-1)\n",
    "    a = norm(v)\n",
    "    if a <= -s  # below the cone\n",
    "        return zero(x)\n",
    "    elseif a <= s  # in the code\n",
    "        return x\n",
    "    elseif a >= abs(s)  # outside the cone\n",
    "        return 0.5 * (1 + s/a) * [v; a] \n",
    "    end\n",
    "end\n",
    "function ∇projection(x)\n",
    "    n = length(x)\n",
    "    J = zeros(eltype(x),n,n)\n",
    "    s = x[end]\n",
    "    v = view(x,1:n-1)\n",
    "    a = norm(v)\n",
    "    if a <= -s\n",
    "        return J  # zeros\n",
    "    elseif a <= s\n",
    "        J .= I(n)  \n",
    "        return J  # identity\n",
    "    elseif a >= abs(s)\n",
    "        c = 0.5 * (1 + s/a)\n",
    "\n",
    "        # dvdv ok!\n",
    "        for i = 1:n-1, j = 1:n-1\n",
    "            J[i,j] = -0.5*s/a^3 * v[i] * v[j]\n",
    "            if i == j\n",
    "                J[i,j] += c\n",
    "            end\n",
    "        end\n",
    "\n",
    "        # dvds ok!\n",
    "        for i = 1:n-1\n",
    "            J[i,n] = 0.5 * v[i] / a\n",
    "        end\n",
    "\n",
    "        # dsdv ok!\n",
    "        for i = 1:n-1\n",
    "            J[n,i] = ((-0.5*s/a^2) + c/a) * v[i]\n",
    "        end\n",
    "        J[n,n] = 0.5  # ok\n",
    "        return J\n",
    "    else\n",
    "        error(\"Invalid second-order cone projection.\")\n",
    "    end\n",
    "    return J\n",
    "end\n",
    "function ∇²projection(x, b)\n",
    "    n = length(x)\n",
    "    hess = zeros(eltype(x),n,n)\n",
    "    v = view(x, 1:n)\n",
    "    bv = view(b, 1:n)\n",
    "\n",
    "    n = length(x)-1\n",
    "    # @assert size(hess) == (n+1,n+1)\n",
    "    s = x[end]\n",
    "    bs = b[end]\n",
    "    a =  norm(v)\n",
    "    vbv = dot(v,bv)\n",
    "\n",
    "    if a <= -s\n",
    "        return hess .= 0\n",
    "    elseif a <= s\n",
    "        return hess .= 0\n",
    "    elseif a > abs(s)\n",
    "        # Original equations from chain rule\n",
    "        # n = n + 1\n",
    "        # dvdv = -s/norm(v)^2/norm(v)*(I - (v*v')/(v'v))*bv*v' + \n",
    "        #     s/norm(v)*((v*(v'bv))/(v'v)^2 * 2v' - (I*(v'bv) + v*bv')/(v'v)) + \n",
    "        #     bs/norm(v)*(I - (v*v')/(v'v))\n",
    "        # dvds = 1/norm(v)*(I - (v*v')/(v'v))*bv;\n",
    "        # hess[1:n-1,1:n-1] .= dvdv*0.5\n",
    "        # hess[1:n-1,n] .= dvds*0.5\n",
    "        # hess[n:n,1:n-1] .= 0.5*dvds'\n",
    "        # hess[n,n] = 0\n",
    "        # return hess\n",
    "\n",
    "        # The following is just an unrolled version of the above\n",
    "        dvdv = view(hess, 1:n, 1:n)\n",
    "        dvds = view(hess, 1:n, n+1)\n",
    "        dsdv = view(hess, n+1, 1:n)\n",
    "        @inbounds for i = 1:n\n",
    "            hi = 0\n",
    "            @inbounds for j = 1:n\n",
    "                Hij = -v[i]*v[j] / a^2\n",
    "                if i == j\n",
    "                    Hij += 1\n",
    "                end\n",
    "                hi += Hij * bv[j]\n",
    "            end\n",
    "            dvds[i] = hi / 2a\n",
    "            dsdv[i] = dvds[i]\n",
    "            @inbounds for j = 1:i\n",
    "                vij = v[i] * v[j]\n",
    "                H1 = hi * v[j] * (-s/a^3)\n",
    "                H2 = vij * (2*vbv) / a^4 - v[i] * bv[j] / a^2\n",
    "                H3 = -vij / a^2\n",
    "                if i == j\n",
    "                    H2 -= vbv / a^2\n",
    "                    H3 += 1\n",
    "                end\n",
    "                H2 *= s/a\n",
    "                H3 *= bs/a\n",
    "                dvdv[i,j] = (H1 + H2 + H3) / 2\n",
    "                dvdv[j,i] = dvdv[i,j]\n",
    "            end\n",
    "        end\n",
    "        hess[end,end] = 0\n",
    "        return hess\n",
    "    else\n",
    "        throw(ErrorException(\"Invalid second-order cone projection\"))\n",
    "    end\n",
    "end"
   ]
  },
  {
   "cell_type": "code",
   "execution_count": 4,
   "id": "90e80e62-224c-4d2f-870b-53319635b810",
   "metadata": {},
   "outputs": [
    {
     "data": {
      "text/plain": [
       "3×3 Matrix{Float64}:\n",
       "  1.00908   -0.554993   0.227043\n",
       " -0.554993   0.305246  -0.124873\n",
       "  0.227043  -0.124873   0.0"
      ]
     },
     "execution_count": 4,
     "metadata": {},
     "output_type": "execute_result"
    }
   ],
   "source": [
    "∇²projection([1.1 2 0], [4.1 5 6])"
   ]
  },
  {
   "cell_type": "code",
   "execution_count": 145,
   "id": "f4edd7a6-7756-43ee-a37b-f91abdd18650",
   "metadata": {},
   "outputs": [
    {
     "name": "stdout",
     "output_type": "stream",
     "text": [
      "iter     J           ΔJ        |d|         α        reg         ρ\n",
      "---------------------------------------------------------------------\n",
      "  1    0.000e+00   3.56e+06   0.00e+00  0.0000    1.00e-08    1.00e+00\n",
      "update cone\n",
      "convio = 29.89975966989896\n",
      "  2    0.000e+00   3.60e+06   0.00e+00  0.0000    1.00e-08    1.00e+01\n",
      "update cone\n",
      "convio = 29.393736378569667\n",
      "  3    0.000e+00   3.82e+06   0.00e+00  0.0000    1.00e-08    1.00e+02\n",
      "update cone\n",
      "convio = 25.216116367269624\n",
      "  4    0.000e+00   3.74e+06   0.00e+00  0.0000    1.00e-08    1.00e+03\n",
      "update cone\n",
      "convio = 11.458491343081608\n",
      "  5    0.000e+00   3.19e+06   0.00e+00  0.0000    1.00e-08    1.00e+04\n",
      "update cone\n",
      "convio = 1.8108362699677685\n",
      "  6    0.000e+00   3.08e+06   0.00e+00  0.0000    1.00e-08    1.00e+05\n",
      "update cone\n",
      "convio = 0.19233045964569762\n",
      "  7    0.000e+00   3.30e+06   0.00e+00  0.0000    1.00e-08    1.00e+06\n",
      "update cone\n",
      "convio = 0.01935334866946642\n",
      "  8    0.000e+00   5.51e+06   0.00e+00  0.0000    1.00e-08    1.00e+07\n",
      "update cone\n",
      "convio = 0.0019365462832364178\n",
      "  9    0.000e+00   2.73e+07   0.00e+00  0.0000    1.00e-08    1.00e+08\n",
      "update cone\n",
      "convio = 0.0001936667509080392\n",
      "Our solver reachs MAX PENALTY\n"
     ]
    },
    {
     "data": {
      "image/svg+xml": [
       "<?xml version=\"1.0\" encoding=\"utf-8\"?>\n",
       "<svg xmlns=\"http://www.w3.org/2000/svg\" xmlns:xlink=\"http://www.w3.org/1999/xlink\" width=\"600\" height=\"400\" viewBox=\"0 0 2400 1600\">\n",
       "<defs>\n",
       "  <clipPath id=\"clip170\">\n",
       "    <rect x=\"0\" y=\"0\" width=\"2400\" height=\"1600\"/>\n",
       "  </clipPath>\n",
       "</defs>\n",
       "<path clip-path=\"url(#clip170)\" d=\"M0 1600 L2400 1600 L2400 0 L0 0  Z\" fill=\"#ffffff\" fill-rule=\"evenodd\" fill-opacity=\"1\"/>\n",
       "<defs>\n",
       "  <clipPath id=\"clip171\">\n",
       "    <rect x=\"480\" y=\"0\" width=\"1681\" height=\"1600\"/>\n",
       "  </clipPath>\n",
       "</defs>\n",
       "<path clip-path=\"url(#clip170)\" d=\"M210.977 1423.18 L2352.76 1423.18 L2352.76 123.472 L210.977 123.472  Z\" fill=\"#ffffff\" fill-rule=\"evenodd\" fill-opacity=\"1\"/>\n",
       "<defs>\n",
       "  <clipPath id=\"clip172\">\n",
       "    <rect x=\"210\" y=\"123\" width=\"2143\" height=\"1301\"/>\n",
       "  </clipPath>\n",
       "</defs>\n",
       "<polyline clip-path=\"url(#clip172)\" style=\"stroke:#000000; stroke-linecap:round; stroke-linejoin:round; stroke-width:2; stroke-opacity:0.1; fill:none\" points=\"271.594,1423.18 271.594,123.472 \"/>\n",
       "<polyline clip-path=\"url(#clip172)\" style=\"stroke:#000000; stroke-linecap:round; stroke-linejoin:round; stroke-width:2; stroke-opacity:0.1; fill:none\" points=\"945.109,1423.18 945.109,123.472 \"/>\n",
       "<polyline clip-path=\"url(#clip172)\" style=\"stroke:#000000; stroke-linecap:round; stroke-linejoin:round; stroke-width:2; stroke-opacity:0.1; fill:none\" points=\"1618.62,1423.18 1618.62,123.472 \"/>\n",
       "<polyline clip-path=\"url(#clip172)\" style=\"stroke:#000000; stroke-linecap:round; stroke-linejoin:round; stroke-width:2; stroke-opacity:0.1; fill:none\" points=\"2292.14,1423.18 2292.14,123.472 \"/>\n",
       "<polyline clip-path=\"url(#clip170)\" style=\"stroke:#000000; stroke-linecap:round; stroke-linejoin:round; stroke-width:4; stroke-opacity:1; fill:none\" points=\"210.977,1423.18 2352.76,1423.18 \"/>\n",
       "<polyline clip-path=\"url(#clip170)\" style=\"stroke:#000000; stroke-linecap:round; stroke-linejoin:round; stroke-width:4; stroke-opacity:1; fill:none\" points=\"271.594,1423.18 271.594,1404.28 \"/>\n",
       "<polyline clip-path=\"url(#clip170)\" style=\"stroke:#000000; stroke-linecap:round; stroke-linejoin:round; stroke-width:4; stroke-opacity:1; fill:none\" points=\"945.109,1423.18 945.109,1404.28 \"/>\n",
       "<polyline clip-path=\"url(#clip170)\" style=\"stroke:#000000; stroke-linecap:round; stroke-linejoin:round; stroke-width:4; stroke-opacity:1; fill:none\" points=\"1618.62,1423.18 1618.62,1404.28 \"/>\n",
       "<polyline clip-path=\"url(#clip170)\" style=\"stroke:#000000; stroke-linecap:round; stroke-linejoin:round; stroke-width:4; stroke-opacity:1; fill:none\" points=\"2292.14,1423.18 2292.14,1404.28 \"/>\n",
       "<path clip-path=\"url(#clip170)\" d=\"M271.594 1454.1 Q267.983 1454.1 266.154 1457.66 Q264.348 1461.2 264.348 1468.33 Q264.348 1475.44 266.154 1479.01 Q267.983 1482.55 271.594 1482.55 Q275.228 1482.55 277.034 1479.01 Q278.862 1475.44 278.862 1468.33 Q278.862 1461.2 277.034 1457.66 Q275.228 1454.1 271.594 1454.1 M271.594 1450.39 Q277.404 1450.39 280.459 1455 Q283.538 1459.58 283.538 1468.33 Q283.538 1477.06 280.459 1481.67 Q277.404 1486.25 271.594 1486.25 Q265.784 1486.25 262.705 1481.67 Q259.649 1477.06 259.649 1468.33 Q259.649 1459.58 262.705 1455 Q265.784 1450.39 271.594 1450.39 Z\" fill=\"#000000\" fill-rule=\"evenodd\" fill-opacity=\"1\" /><path clip-path=\"url(#clip170)\" d=\"M935.387 1451.02 L953.743 1451.02 L953.743 1454.96 L939.669 1454.96 L939.669 1463.43 Q940.688 1463.08 941.706 1462.92 Q942.725 1462.73 943.743 1462.73 Q949.53 1462.73 952.91 1465.9 Q956.29 1469.08 956.29 1474.49 Q956.29 1480.07 952.817 1483.17 Q949.345 1486.25 943.026 1486.25 Q940.85 1486.25 938.581 1485.88 Q936.336 1485.51 933.929 1484.77 L933.929 1480.07 Q936.012 1481.2 938.234 1481.76 Q940.456 1482.32 942.933 1482.32 Q946.938 1482.32 949.276 1480.21 Q951.614 1478.1 951.614 1474.49 Q951.614 1470.88 949.276 1468.77 Q946.938 1466.67 942.933 1466.67 Q941.058 1466.67 939.183 1467.08 Q937.331 1467.5 935.387 1468.38 L935.387 1451.02 Z\" fill=\"#000000\" fill-rule=\"evenodd\" fill-opacity=\"1\" /><path clip-path=\"url(#clip170)\" d=\"M1593.31 1481.64 L1600.95 1481.64 L1600.95 1455.28 L1592.64 1456.95 L1592.64 1452.69 L1600.9 1451.02 L1605.58 1451.02 L1605.58 1481.64 L1613.22 1481.64 L1613.22 1485.58 L1593.31 1485.58 L1593.31 1481.64 Z\" fill=\"#000000\" fill-rule=\"evenodd\" fill-opacity=\"1\" /><path clip-path=\"url(#clip170)\" d=\"M1632.66 1454.1 Q1629.05 1454.1 1627.22 1457.66 Q1625.42 1461.2 1625.42 1468.33 Q1625.42 1475.44 1627.22 1479.01 Q1629.05 1482.55 1632.66 1482.55 Q1636.3 1482.55 1638.1 1479.01 Q1639.93 1475.44 1639.93 1468.33 Q1639.93 1461.2 1638.1 1457.66 Q1636.3 1454.1 1632.66 1454.1 M1632.66 1450.39 Q1638.47 1450.39 1641.53 1455 Q1644.61 1459.58 1644.61 1468.33 Q1644.61 1477.06 1641.53 1481.67 Q1638.47 1486.25 1632.66 1486.25 Q1626.85 1486.25 1623.77 1481.67 Q1620.72 1477.06 1620.72 1468.33 Q1620.72 1459.58 1623.77 1455 Q1626.85 1450.39 1632.66 1450.39 Z\" fill=\"#000000\" fill-rule=\"evenodd\" fill-opacity=\"1\" /><path clip-path=\"url(#clip170)\" d=\"M2267.32 1481.64 L2274.96 1481.64 L2274.96 1455.28 L2266.65 1456.95 L2266.65 1452.69 L2274.92 1451.02 L2279.59 1451.02 L2279.59 1481.64 L2287.23 1481.64 L2287.23 1485.58 L2267.32 1485.58 L2267.32 1481.64 Z\" fill=\"#000000\" fill-rule=\"evenodd\" fill-opacity=\"1\" /><path clip-path=\"url(#clip170)\" d=\"M2296.72 1451.02 L2315.08 1451.02 L2315.08 1454.96 L2301.01 1454.96 L2301.01 1463.43 Q2302.02 1463.08 2303.04 1462.92 Q2304.06 1462.73 2305.08 1462.73 Q2310.87 1462.73 2314.25 1465.9 Q2317.63 1469.08 2317.63 1474.49 Q2317.63 1480.07 2314.15 1483.17 Q2310.68 1486.25 2304.36 1486.25 Q2302.19 1486.25 2299.92 1485.88 Q2297.67 1485.51 2295.26 1484.77 L2295.26 1480.07 Q2297.35 1481.2 2299.57 1481.76 Q2301.79 1482.32 2304.27 1482.32 Q2308.27 1482.32 2310.61 1480.21 Q2312.95 1478.1 2312.95 1474.49 Q2312.95 1470.88 2310.61 1468.77 Q2308.27 1466.67 2304.27 1466.67 Q2302.39 1466.67 2300.52 1467.08 Q2298.67 1467.5 2296.72 1468.38 L2296.72 1451.02 Z\" fill=\"#000000\" fill-rule=\"evenodd\" fill-opacity=\"1\" /><path clip-path=\"url(#clip170)\" d=\"M1169.32 1522.27 L1169.32 1532.4 L1181.38 1532.4 L1181.38 1536.95 L1169.32 1536.95 L1169.32 1556.3 Q1169.32 1560.66 1170.5 1561.9 Q1171.71 1563.14 1175.37 1563.14 L1181.38 1563.14 L1181.38 1568.04 L1175.37 1568.04 Q1168.59 1568.04 1166.01 1565.53 Q1163.43 1562.98 1163.43 1556.3 L1163.43 1536.95 L1159.14 1536.95 L1159.14 1532.4 L1163.43 1532.4 L1163.43 1522.27 L1169.32 1522.27 Z\" fill=\"#000000\" fill-rule=\"evenodd\" fill-opacity=\"1\" /><path clip-path=\"url(#clip170)\" d=\"M1189.09 1532.4 L1194.94 1532.4 L1194.94 1568.04 L1189.09 1568.04 L1189.09 1532.4 M1189.09 1518.52 L1194.94 1518.52 L1194.94 1525.93 L1189.09 1525.93 L1189.09 1518.52 Z\" fill=\"#000000\" fill-rule=\"evenodd\" fill-opacity=\"1\" /><path clip-path=\"url(#clip170)\" d=\"M1234.95 1539.24 Q1237.15 1535.29 1240.2 1533.41 Q1243.26 1531.54 1247.4 1531.54 Q1252.97 1531.54 1255.99 1535.45 Q1259.01 1539.33 1259.01 1546.53 L1259.01 1568.04 L1253.13 1568.04 L1253.13 1546.72 Q1253.13 1541.59 1251.31 1539.11 Q1249.5 1536.63 1245.77 1536.63 Q1241.22 1536.63 1238.58 1539.65 Q1235.94 1542.68 1235.94 1547.9 L1235.94 1568.04 L1230.05 1568.04 L1230.05 1546.72 Q1230.05 1541.56 1228.24 1539.11 Q1226.42 1536.63 1222.63 1536.63 Q1218.15 1536.63 1215.5 1539.68 Q1212.86 1542.71 1212.86 1547.9 L1212.86 1568.04 L1206.97 1568.04 L1206.97 1532.4 L1212.86 1532.4 L1212.86 1537.93 Q1214.87 1534.66 1217.67 1533.1 Q1220.47 1531.54 1224.32 1531.54 Q1228.2 1531.54 1230.91 1533.51 Q1233.65 1535.48 1234.95 1539.24 Z\" fill=\"#000000\" fill-rule=\"evenodd\" fill-opacity=\"1\" /><path clip-path=\"url(#clip170)\" d=\"M1301.19 1548.76 L1301.19 1551.62 L1274.26 1551.62 Q1274.64 1557.67 1277.89 1560.85 Q1281.17 1564 1286.99 1564 Q1290.36 1564 1293.52 1563.17 Q1296.7 1562.35 1299.82 1560.69 L1299.82 1566.23 Q1296.67 1567.57 1293.36 1568.27 Q1290.05 1568.97 1286.64 1568.97 Q1278.11 1568.97 1273.11 1564 Q1268.15 1559.04 1268.15 1550.57 Q1268.15 1541.82 1272.86 1536.69 Q1277.6 1531.54 1285.62 1531.54 Q1292.82 1531.54 1296.99 1536.18 Q1301.19 1540.8 1301.19 1548.76 M1295.33 1547.04 Q1295.27 1542.23 1292.62 1539.37 Q1290.01 1536.5 1285.69 1536.5 Q1280.78 1536.5 1277.82 1539.27 Q1274.9 1542.04 1274.45 1547.07 L1295.33 1547.04 Z\" fill=\"#000000\" fill-rule=\"evenodd\" fill-opacity=\"1\" /><path clip-path=\"url(#clip170)\" d=\"M1345.59 1518.58 Q1341.32 1525.9 1339.25 1533.06 Q1337.18 1540.23 1337.18 1547.58 Q1337.18 1554.93 1339.25 1562.16 Q1341.35 1569.35 1345.59 1576.64 L1340.49 1576.64 Q1335.72 1569.16 1333.33 1561.93 Q1330.98 1554.71 1330.98 1547.58 Q1330.98 1540.48 1333.33 1533.29 Q1335.69 1526.09 1340.49 1518.58 L1345.59 1518.58 Z\" fill=\"#000000\" fill-rule=\"evenodd\" fill-opacity=\"1\" /><path clip-path=\"url(#clip170)\" d=\"M1379.68 1533.45 L1379.68 1538.98 Q1377.19 1537.71 1374.52 1537.07 Q1371.85 1536.44 1368.98 1536.44 Q1364.62 1536.44 1362.42 1537.77 Q1360.26 1539.11 1360.26 1541.79 Q1360.26 1543.82 1361.82 1545 Q1363.38 1546.15 1368.09 1547.2 L1370.1 1547.64 Q1376.33 1548.98 1378.94 1551.43 Q1381.59 1553.85 1381.59 1558.21 Q1381.59 1563.17 1377.64 1566.07 Q1373.72 1568.97 1366.85 1568.97 Q1363.98 1568.97 1360.87 1568.39 Q1357.78 1567.85 1354.34 1566.74 L1354.34 1560.69 Q1357.59 1562.38 1360.74 1563.24 Q1363.89 1564.07 1366.98 1564.07 Q1371.11 1564.07 1373.34 1562.66 Q1375.57 1561.23 1375.57 1558.65 Q1375.57 1556.27 1373.95 1554.99 Q1372.36 1553.72 1366.91 1552.54 L1364.88 1552.07 Q1359.43 1550.92 1357.01 1548.56 Q1354.59 1546.18 1354.59 1542.04 Q1354.59 1537.01 1358.16 1534.27 Q1361.72 1531.54 1368.28 1531.54 Q1371.53 1531.54 1374.39 1532.01 Q1377.26 1532.49 1379.68 1533.45 Z\" fill=\"#000000\" fill-rule=\"evenodd\" fill-opacity=\"1\" /><path clip-path=\"url(#clip170)\" d=\"M1389.99 1518.58 L1395.08 1518.58 Q1399.86 1526.09 1402.21 1533.29 Q1404.6 1540.48 1404.6 1547.58 Q1404.6 1554.71 1402.21 1561.93 Q1399.86 1569.16 1395.08 1576.64 L1389.99 1576.64 Q1394.22 1569.35 1396.29 1562.16 Q1398.39 1554.93 1398.39 1547.58 Q1398.39 1540.23 1396.29 1533.06 Q1394.22 1525.9 1389.99 1518.58 Z\" fill=\"#000000\" fill-rule=\"evenodd\" fill-opacity=\"1\" /><polyline clip-path=\"url(#clip172)\" style=\"stroke:#000000; stroke-linecap:round; stroke-linejoin:round; stroke-width:2; stroke-opacity:0.1; fill:none\" points=\"210.977,1386.4 2352.76,1386.4 \"/>\n",
       "<polyline clip-path=\"url(#clip172)\" style=\"stroke:#000000; stroke-linecap:round; stroke-linejoin:round; stroke-width:2; stroke-opacity:0.1; fill:none\" points=\"210.977,1141.17 2352.76,1141.17 \"/>\n",
       "<polyline clip-path=\"url(#clip172)\" style=\"stroke:#000000; stroke-linecap:round; stroke-linejoin:round; stroke-width:2; stroke-opacity:0.1; fill:none\" points=\"210.977,895.94 2352.76,895.94 \"/>\n",
       "<polyline clip-path=\"url(#clip172)\" style=\"stroke:#000000; stroke-linecap:round; stroke-linejoin:round; stroke-width:2; stroke-opacity:0.1; fill:none\" points=\"210.977,650.712 2352.76,650.712 \"/>\n",
       "<polyline clip-path=\"url(#clip172)\" style=\"stroke:#000000; stroke-linecap:round; stroke-linejoin:round; stroke-width:2; stroke-opacity:0.1; fill:none\" points=\"210.977,405.484 2352.76,405.484 \"/>\n",
       "<polyline clip-path=\"url(#clip172)\" style=\"stroke:#000000; stroke-linecap:round; stroke-linejoin:round; stroke-width:2; stroke-opacity:0.1; fill:none\" points=\"210.977,160.256 2352.76,160.256 \"/>\n",
       "<polyline clip-path=\"url(#clip170)\" style=\"stroke:#000000; stroke-linecap:round; stroke-linejoin:round; stroke-width:4; stroke-opacity:1; fill:none\" points=\"210.977,1423.18 210.977,123.472 \"/>\n",
       "<polyline clip-path=\"url(#clip170)\" style=\"stroke:#000000; stroke-linecap:round; stroke-linejoin:round; stroke-width:4; stroke-opacity:1; fill:none\" points=\"210.977,1386.4 229.875,1386.4 \"/>\n",
       "<polyline clip-path=\"url(#clip170)\" style=\"stroke:#000000; stroke-linecap:round; stroke-linejoin:round; stroke-width:4; stroke-opacity:1; fill:none\" points=\"210.977,1141.17 229.875,1141.17 \"/>\n",
       "<polyline clip-path=\"url(#clip170)\" style=\"stroke:#000000; stroke-linecap:round; stroke-linejoin:round; stroke-width:4; stroke-opacity:1; fill:none\" points=\"210.977,895.94 229.875,895.94 \"/>\n",
       "<polyline clip-path=\"url(#clip170)\" style=\"stroke:#000000; stroke-linecap:round; stroke-linejoin:round; stroke-width:4; stroke-opacity:1; fill:none\" points=\"210.977,650.712 229.875,650.712 \"/>\n",
       "<polyline clip-path=\"url(#clip170)\" style=\"stroke:#000000; stroke-linecap:round; stroke-linejoin:round; stroke-width:4; stroke-opacity:1; fill:none\" points=\"210.977,405.484 229.875,405.484 \"/>\n",
       "<polyline clip-path=\"url(#clip170)\" style=\"stroke:#000000; stroke-linecap:round; stroke-linejoin:round; stroke-width:4; stroke-opacity:1; fill:none\" points=\"210.977,160.256 229.875,160.256 \"/>\n",
       "<path clip-path=\"url(#clip170)\" d=\"M114.26 1386.85 L143.936 1386.85 L143.936 1390.78 L114.26 1390.78 L114.26 1386.85 Z\" fill=\"#000000\" fill-rule=\"evenodd\" fill-opacity=\"1\" /><path clip-path=\"url(#clip170)\" d=\"M154.075 1369.12 L172.431 1369.12 L172.431 1373.05 L158.357 1373.05 L158.357 1381.52 Q159.376 1381.18 160.394 1381.01 Q161.413 1380.83 162.431 1380.83 Q168.218 1380.83 171.598 1384 Q174.977 1387.17 174.977 1392.59 Q174.977 1398.17 171.505 1401.27 Q168.033 1404.35 161.714 1404.35 Q159.538 1404.35 157.269 1403.98 Q155.024 1403.61 152.616 1402.87 L152.616 1398.17 Q154.7 1399.3 156.922 1399.86 Q159.144 1400.41 161.621 1400.41 Q165.626 1400.41 167.964 1398.31 Q170.302 1396.2 170.302 1392.59 Q170.302 1388.98 167.964 1386.87 Q165.626 1384.76 161.621 1384.76 Q159.746 1384.76 157.871 1385.18 Q156.019 1385.6 154.075 1386.48 L154.075 1369.12 Z\" fill=\"#000000\" fill-rule=\"evenodd\" fill-opacity=\"1\" /><path clip-path=\"url(#clip170)\" d=\"M163.033 1126.97 Q159.422 1126.97 157.593 1130.53 Q155.788 1134.07 155.788 1141.2 Q155.788 1148.31 157.593 1151.87 Q159.422 1155.42 163.033 1155.42 Q166.667 1155.42 168.473 1151.87 Q170.302 1148.31 170.302 1141.2 Q170.302 1134.07 168.473 1130.53 Q166.667 1126.97 163.033 1126.97 M163.033 1123.26 Q168.843 1123.26 171.899 1127.87 Q174.977 1132.45 174.977 1141.2 Q174.977 1149.93 171.899 1154.54 Q168.843 1159.12 163.033 1159.12 Q157.223 1159.12 154.144 1154.54 Q151.089 1149.93 151.089 1141.2 Q151.089 1132.45 154.144 1127.87 Q157.223 1123.26 163.033 1123.26 Z\" fill=\"#000000\" fill-rule=\"evenodd\" fill-opacity=\"1\" /><path clip-path=\"url(#clip170)\" d=\"M154.075 878.66 L172.431 878.66 L172.431 882.595 L158.357 882.595 L158.357 891.067 Q159.376 890.72 160.394 890.558 Q161.413 890.373 162.431 890.373 Q168.218 890.373 171.598 893.544 Q174.977 896.715 174.977 902.132 Q174.977 907.711 171.505 910.813 Q168.033 913.891 161.714 913.891 Q159.538 913.891 157.269 913.521 Q155.024 913.15 152.616 912.41 L152.616 907.711 Q154.7 908.845 156.922 909.4 Q159.144 909.956 161.621 909.956 Q165.626 909.956 167.964 907.85 Q170.302 905.743 170.302 902.132 Q170.302 898.521 167.964 896.414 Q165.626 894.308 161.621 894.308 Q159.746 894.308 157.871 894.725 Q156.019 895.141 154.075 896.021 L154.075 878.66 Z\" fill=\"#000000\" fill-rule=\"evenodd\" fill-opacity=\"1\" /><path clip-path=\"url(#clip170)\" d=\"M123.681 664.057 L131.32 664.057 L131.32 637.691 L123.01 639.358 L123.01 635.099 L131.274 633.432 L135.95 633.432 L135.95 664.057 L143.589 664.057 L143.589 667.992 L123.681 667.992 L123.681 664.057 Z\" fill=\"#000000\" fill-rule=\"evenodd\" fill-opacity=\"1\" /><path clip-path=\"url(#clip170)\" d=\"M163.033 636.511 Q159.422 636.511 157.593 640.076 Q155.788 643.617 155.788 650.747 Q155.788 657.853 157.593 661.418 Q159.422 664.96 163.033 664.96 Q166.667 664.96 168.473 661.418 Q170.302 657.853 170.302 650.747 Q170.302 643.617 168.473 640.076 Q166.667 636.511 163.033 636.511 M163.033 632.807 Q168.843 632.807 171.899 637.414 Q174.977 641.997 174.977 650.747 Q174.977 659.474 171.899 664.08 Q168.843 668.663 163.033 668.663 Q157.223 668.663 154.144 664.08 Q151.089 659.474 151.089 650.747 Q151.089 641.997 154.144 637.414 Q157.223 632.807 163.033 632.807 Z\" fill=\"#000000\" fill-rule=\"evenodd\" fill-opacity=\"1\" /><path clip-path=\"url(#clip170)\" d=\"M124.677 418.829 L132.316 418.829 L132.316 392.463 L124.005 394.13 L124.005 389.871 L132.269 388.204 L136.945 388.204 L136.945 418.829 L144.584 418.829 L144.584 422.764 L124.677 422.764 L124.677 418.829 Z\" fill=\"#000000\" fill-rule=\"evenodd\" fill-opacity=\"1\" /><path clip-path=\"url(#clip170)\" d=\"M154.075 388.204 L172.431 388.204 L172.431 392.139 L158.357 392.139 L158.357 400.612 Q159.376 400.264 160.394 400.102 Q161.413 399.917 162.431 399.917 Q168.218 399.917 171.598 403.088 Q174.977 406.26 174.977 411.676 Q174.977 417.255 171.505 420.357 Q168.033 423.435 161.714 423.435 Q159.538 423.435 157.269 423.065 Q155.024 422.695 152.616 421.954 L152.616 417.255 Q154.7 418.389 156.922 418.945 Q159.144 419.5 161.621 419.5 Q165.626 419.5 167.964 417.394 Q170.302 415.287 170.302 411.676 Q170.302 408.065 167.964 405.959 Q165.626 403.852 161.621 403.852 Q159.746 403.852 157.871 404.269 Q156.019 404.686 154.075 405.565 L154.075 388.204 Z\" fill=\"#000000\" fill-rule=\"evenodd\" fill-opacity=\"1\" /><path clip-path=\"url(#clip170)\" d=\"M126.899 173.601 L143.218 173.601 L143.218 177.536 L121.274 177.536 L121.274 173.601 Q123.936 170.847 128.519 166.217 Q133.126 161.564 134.306 160.222 Q136.552 157.698 137.431 155.962 Q138.334 154.203 138.334 152.513 Q138.334 149.759 136.39 148.023 Q134.468 146.286 131.367 146.286 Q129.167 146.286 126.714 147.05 Q124.283 147.814 121.505 149.365 L121.505 144.643 Q124.33 143.509 126.783 142.93 Q129.237 142.351 131.274 142.351 Q136.644 142.351 139.839 145.036 Q143.033 147.722 143.033 152.212 Q143.033 154.342 142.223 156.263 Q141.436 158.161 139.329 160.754 Q138.751 161.425 135.649 164.643 Q132.547 167.837 126.899 173.601 Z\" fill=\"#000000\" fill-rule=\"evenodd\" fill-opacity=\"1\" /><path clip-path=\"url(#clip170)\" d=\"M163.033 146.055 Q159.422 146.055 157.593 149.62 Q155.788 153.161 155.788 160.291 Q155.788 167.397 157.593 170.962 Q159.422 174.504 163.033 174.504 Q166.667 174.504 168.473 170.962 Q170.302 167.397 170.302 160.291 Q170.302 153.161 168.473 149.62 Q166.667 146.055 163.033 146.055 M163.033 142.351 Q168.843 142.351 171.899 146.958 Q174.977 151.541 174.977 160.291 Q174.977 169.018 171.899 173.624 Q168.843 178.208 163.033 178.208 Q157.223 178.208 154.144 173.624 Q151.089 169.018 151.089 160.291 Q151.089 151.541 154.144 146.958 Q157.223 142.351 163.033 142.351 Z\" fill=\"#000000\" fill-rule=\"evenodd\" fill-opacity=\"1\" /><path clip-path=\"url(#clip170)\" d=\"M28.3562 756.711 L45.7028 769.602 L64.0042 756.043 L64.0042 762.95 L49.9996 773.326 L64.0042 783.702 L64.0042 790.609 L45.3526 776.763 L28.3562 789.431 L28.3562 782.524 L41.0558 773.071 L28.3562 763.618 L28.3562 756.711 Z\" fill=\"#000000\" fill-rule=\"evenodd\" fill-opacity=\"1\" /><path clip-path=\"url(#clip170)\" d=\"M1054.21 14.0809 L1054.21 22.0612 Q1049.55 19.8332 1045.42 18.7395 Q1041.28 17.6457 1037.44 17.6457 Q1030.75 17.6457 1027.11 20.2383 Q1023.5 22.8309 1023.5 27.611 Q1023.5 31.6214 1025.89 33.6873 Q1028.32 35.7128 1035.05 36.9686 L1039.99 37.9813 Q1049.14 39.7232 1053.48 44.1387 Q1057.85 48.5136 1057.85 55.8863 Q1057.85 64.6767 1051.94 69.2137 Q1046.06 73.7508 1034.68 73.7508 Q1030.39 73.7508 1025.53 72.7785 Q1020.7 71.8063 1015.52 69.9024 L1015.52 61.4765 Q1020.5 64.2716 1025.28 65.6895 Q1030.06 67.1073 1034.68 67.1073 Q1041.69 67.1073 1045.5 64.3527 Q1049.3 61.598 1049.3 56.4939 Q1049.3 52.0379 1046.55 49.5264 Q1043.84 47.0148 1037.6 45.759 L1032.61 44.7868 Q1023.46 42.9639 1019.37 39.075 Q1015.28 35.1862 1015.28 28.2591 Q1015.28 20.2383 1020.91 15.6203 Q1026.58 11.0023 1036.5 11.0023 Q1040.76 11.0023 1045.17 11.7719 Q1049.59 12.5416 1054.21 14.0809 Z\" fill=\"#000000\" fill-rule=\"evenodd\" fill-opacity=\"1\" /><path clip-path=\"url(#clip170)\" d=\"M1077.66 14.324 L1077.66 27.2059 L1093.01 27.2059 L1093.01 32.9987 L1077.66 32.9987 L1077.66 57.6282 Q1077.66 63.1779 1079.16 64.7578 Q1080.7 66.3376 1085.36 66.3376 L1093.01 66.3376 L1093.01 72.576 L1085.36 72.576 Q1076.73 72.576 1073.45 69.3758 Q1070.17 66.1351 1070.17 57.6282 L1070.17 32.9987 L1064.7 32.9987 L1064.7 27.2059 L1070.17 27.2059 L1070.17 14.324 L1077.66 14.324 Z\" fill=\"#000000\" fill-rule=\"evenodd\" fill-opacity=\"1\" /><path clip-path=\"url(#clip170)\" d=\"M1123.44 49.7694 Q1114.4 49.7694 1110.92 51.8354 Q1107.43 53.9013 1107.43 58.8839 Q1107.43 62.8538 1110.03 65.2034 Q1112.66 67.5124 1117.16 67.5124 Q1123.35 67.5124 1127.08 63.1374 Q1130.85 58.7219 1130.85 51.4303 L1130.85 49.7694 L1123.44 49.7694 M1138.3 46.6907 L1138.3 72.576 L1130.85 72.576 L1130.85 65.6895 Q1128.3 69.8214 1124.49 71.8063 Q1120.68 73.7508 1115.17 73.7508 Q1108.2 73.7508 1104.07 69.8619 Q1099.98 65.9325 1099.98 59.3701 Q1099.98 51.7138 1105.09 47.825 Q1110.23 43.9361 1120.4 43.9361 L1130.85 43.9361 L1130.85 43.2069 Q1130.85 38.0623 1127.45 35.2672 Q1124.08 32.4315 1117.97 32.4315 Q1114.08 32.4315 1110.39 33.3632 Q1106.71 34.295 1103.3 36.1584 L1103.3 29.2718 Q1107.39 27.692 1111.24 26.9223 Q1115.09 26.1121 1118.74 26.1121 Q1128.58 26.1121 1133.44 31.2163 Q1138.3 36.3204 1138.3 46.6907 Z\" fill=\"#000000\" fill-rule=\"evenodd\" fill-opacity=\"1\" /><path clip-path=\"url(#clip170)\" d=\"M1161.03 14.324 L1161.03 27.2059 L1176.38 27.2059 L1176.38 32.9987 L1161.03 32.9987 L1161.03 57.6282 Q1161.03 63.1779 1162.53 64.7578 Q1164.07 66.3376 1168.72 66.3376 L1176.38 66.3376 L1176.38 72.576 L1168.72 72.576 Q1160.1 72.576 1156.82 69.3758 Q1153.53 66.1351 1153.53 57.6282 L1153.53 32.9987 L1148.07 32.9987 L1148.07 27.2059 L1153.53 27.2059 L1153.53 14.324 L1161.03 14.324 Z\" fill=\"#000000\" fill-rule=\"evenodd\" fill-opacity=\"1\" /><path clip-path=\"url(#clip170)\" d=\"M1224.99 48.0275 L1224.99 51.6733 L1190.72 51.6733 Q1191.21 59.3701 1195.34 63.421 Q1199.51 67.4314 1206.92 67.4314 Q1211.22 67.4314 1215.23 66.3781 Q1219.28 65.3249 1223.25 63.2184 L1223.25 70.267 Q1219.24 71.9684 1215.03 72.8596 Q1210.81 73.7508 1206.48 73.7508 Q1195.62 73.7508 1189.26 67.4314 Q1182.94 61.1119 1182.94 50.3365 Q1182.94 39.1965 1188.94 32.6746 Q1194.97 26.1121 1205.18 26.1121 Q1214.34 26.1121 1219.64 32.0264 Q1224.99 37.9003 1224.99 48.0275 M1217.54 45.84 Q1217.46 39.7232 1214.1 36.0774 Q1210.77 32.4315 1205.26 32.4315 Q1199.03 32.4315 1195.26 35.9558 Q1191.53 39.4801 1190.96 45.8805 L1217.54 45.84 Z\" fill=\"#000000\" fill-rule=\"evenodd\" fill-opacity=\"1\" /><path clip-path=\"url(#clip170)\" d=\"M1263.92 12.096 L1272.1 12.096 L1272.1 36.8875 L1301.84 36.8875 L1301.84 12.096 L1310.02 12.096 L1310.02 72.576 L1301.84 72.576 L1301.84 43.7741 L1272.1 43.7741 L1272.1 72.576 L1263.92 72.576 L1263.92 12.096 Z\" fill=\"#000000\" fill-rule=\"evenodd\" fill-opacity=\"1\" /><path clip-path=\"url(#clip170)\" d=\"M1325.98 27.2059 L1333.43 27.2059 L1333.43 72.576 L1325.98 72.576 L1325.98 27.2059 M1325.98 9.54393 L1333.43 9.54393 L1333.43 18.9825 L1325.98 18.9825 L1325.98 9.54393 Z\" fill=\"#000000\" fill-rule=\"evenodd\" fill-opacity=\"1\" /><path clip-path=\"url(#clip170)\" d=\"M1377.95 28.5427 L1377.95 35.5912 Q1374.79 33.9709 1371.39 33.1607 Q1367.99 32.3505 1364.34 32.3505 Q1358.79 32.3505 1356 34.0519 Q1353.24 35.7533 1353.24 39.156 Q1353.24 41.7486 1355.23 43.2475 Q1357.21 44.7058 1363.21 46.0426 L1365.76 46.6097 Q1373.7 48.3111 1377.02 51.4303 Q1380.38 54.509 1380.38 60.0587 Q1380.38 66.3781 1375.36 70.0644 Q1370.38 73.7508 1361.63 73.7508 Q1357.98 73.7508 1354.01 73.0216 Q1350.08 72.3329 1345.71 70.9151 L1345.71 63.2184 Q1349.84 65.3654 1353.85 66.4591 Q1357.86 67.5124 1361.79 67.5124 Q1367.06 67.5124 1369.89 65.73 Q1372.73 63.9071 1372.73 60.6258 Q1372.73 57.5877 1370.66 55.9673 Q1368.64 54.3469 1361.71 52.8481 L1359.12 52.2405 Q1352.19 50.7821 1349.11 47.7845 Q1346.03 44.7463 1346.03 39.4801 Q1346.03 33.0797 1350.57 29.5959 Q1355.11 26.1121 1363.45 26.1121 Q1367.58 26.1121 1371.23 26.7198 Q1374.88 27.3274 1377.95 28.5427 Z\" fill=\"#000000\" fill-rule=\"evenodd\" fill-opacity=\"1\" /><path clip-path=\"url(#clip170)\" d=\"M1399.63 14.324 L1399.63 27.2059 L1414.98 27.2059 L1414.98 32.9987 L1399.63 32.9987 L1399.63 57.6282 Q1399.63 63.1779 1401.13 64.7578 Q1402.66 66.3376 1407.32 66.3376 L1414.98 66.3376 L1414.98 72.576 L1407.32 72.576 Q1398.69 72.576 1395.41 69.3758 Q1392.13 66.1351 1392.13 57.6282 L1392.13 32.9987 L1386.66 32.9987 L1386.66 27.2059 L1392.13 27.2059 L1392.13 14.324 L1399.63 14.324 Z\" fill=\"#000000\" fill-rule=\"evenodd\" fill-opacity=\"1\" /><path clip-path=\"url(#clip170)\" d=\"M1442.36 32.4315 Q1436.37 32.4315 1432.88 37.1306 Q1429.4 41.7891 1429.4 49.9314 Q1429.4 58.0738 1432.84 62.7728 Q1436.33 67.4314 1442.36 67.4314 Q1448.32 67.4314 1451.8 62.7323 Q1455.29 58.0333 1455.29 49.9314 Q1455.29 41.8701 1451.8 37.1711 Q1448.32 32.4315 1442.36 32.4315 M1442.36 26.1121 Q1452.09 26.1121 1457.64 32.4315 Q1463.19 38.7509 1463.19 49.9314 Q1463.19 61.0714 1457.64 67.4314 Q1452.09 73.7508 1442.36 73.7508 Q1432.6 73.7508 1427.05 67.4314 Q1421.54 61.0714 1421.54 49.9314 Q1421.54 38.7509 1427.05 32.4315 Q1432.6 26.1121 1442.36 26.1121 Z\" fill=\"#000000\" fill-rule=\"evenodd\" fill-opacity=\"1\" /><path clip-path=\"url(#clip170)\" d=\"M1501.83 34.1734 Q1500.57 33.4443 1499.08 33.1202 Q1497.62 32.7556 1495.84 32.7556 Q1489.52 32.7556 1486.11 36.8875 Q1482.75 40.9789 1482.75 48.6757 L1482.75 72.576 L1475.26 72.576 L1475.26 27.2059 L1482.75 27.2059 L1482.75 34.2544 Q1485.1 30.1225 1488.87 28.1376 Q1492.64 26.1121 1498.02 26.1121 Q1498.79 26.1121 1499.72 26.2337 Q1500.66 26.3147 1501.79 26.5172 L1501.83 34.1734 Z\" fill=\"#000000\" fill-rule=\"evenodd\" fill-opacity=\"1\" /><path clip-path=\"url(#clip170)\" d=\"M1528.53 76.7889 Q1525.37 84.8907 1522.37 87.3618 Q1519.37 89.8329 1514.35 89.8329 L1508.39 89.8329 L1508.39 83.5945 L1512.77 83.5945 Q1515.85 83.5945 1517.55 82.1361 Q1519.25 80.6778 1521.32 75.2496 L1522.65 71.8468 L1504.3 27.2059 L1512.2 27.2059 L1526.38 62.6918 L1540.56 27.2059 L1548.46 27.2059 L1528.53 76.7889 Z\" fill=\"#000000\" fill-rule=\"evenodd\" fill-opacity=\"1\" /><polyline clip-path=\"url(#clip172)\" style=\"stroke:#009af9; stroke-linecap:round; stroke-linejoin:round; stroke-width:4; stroke-opacity:1; fill:none\" points=\"271.594,944.985 278.329,952.301 285.064,959.533 291.799,966.682 298.534,973.75 305.27,980.735 312.005,987.639 318.74,994.462 325.475,1001.2 332.21,1007.87 338.945,1014.45 345.68,1020.95 352.416,1027.37 359.151,1033.72 365.886,1039.98 372.621,1046.17 379.356,1052.28 386.091,1058.31 392.827,1064.27 399.562,1070.15 406.297,1075.95 413.032,1081.68 419.767,1087.33 426.502,1092.9 433.237,1098.41 439.973,1103.83 446.708,1109.19 453.443,1114.47 460.178,1119.68 466.913,1124.81 473.648,1129.87 480.384,1134.86 487.119,1139.78 493.854,1144.63 500.589,1149.41 507.324,1154.11 514.059,1158.75 520.794,1163.31 527.53,1167.81 534.265,1172.24 541,1176.6 547.735,1180.89 554.47,1185.12 561.205,1189.27 567.941,1193.36 574.676,1197.38 581.411,1201.34 588.146,1205.23 594.881,1209.06 601.616,1212.82 608.351,1216.51 615.087,1220.14 621.822,1223.71 628.557,1227.22 635.292,1230.66 642.027,1234.03 648.762,1237.35 655.497,1240.6 662.233,1243.79 668.968,1246.92 675.703,1249.99 682.438,1253 689.173,1255.95 695.908,1258.84 702.644,1261.67 709.379,1264.44 716.114,1267.15 722.849,1269.81 729.584,1272.4 736.319,1274.94 743.054,1277.43 749.79,1279.85 756.525,1282.22 763.26,1284.53 769.995,1286.79 776.73,1288.99 783.465,1291.14 790.201,1293.23 796.936,1295.27 803.671,1297.26 810.406,1299.19 817.141,1301.07 823.876,1302.9 830.611,1304.67 837.347,1306.39 844.082,1308.07 850.817,1309.69 857.552,1311.26 864.287,1312.78 871.022,1314.25 877.758,1315.67 884.493,1317.04 891.228,1318.36 897.963,1319.64 904.698,1320.87 911.433,1322.05 918.168,1323.18 924.904,1324.27 931.639,1325.31 938.374,1326.3 945.109,1327.25 951.844,1328.15 958.579,1329.01 965.314,1329.83 972.05,1330.6 978.785,1331.32 985.52,1332.01 992.255,1332.65 998.99,1333.24 1005.73,1333.8 1012.46,1334.31 1019.2,1334.79 1025.93,1335.22 1032.67,1335.61 1039.4,1335.96 1046.14,1336.27 1052.87,1336.55 1059.61,1336.78 1066.34,1336.97 1073.08,1337.13 1079.81,1337.25 1086.55,1337.33 1093.28,1337.38 1100.02,1337.38 1106.75,1337.36 1113.49,1337.29 1120.22,1337.19 1126.96,1337.06 1133.69,1336.89 1140.43,1336.68 1147.16,1336.45 1153.9,1336.17 1160.63,1335.87 1167.37,1335.53 1174.1,1335.16 1180.84,1334.76 1187.57,1334.33 1194.31,1333.87 1201.04,1333.37 1207.78,1332.85 1214.52,1332.29 1221.25,1331.71 1227.99,1331.09 1234.72,1330.45 1241.46,1329.78 1248.19,1329.08 1254.93,1328.35 1261.66,1327.6 1268.4,1326.82 1275.13,1326.01 1281.87,1325.18 1288.6,1324.32 1295.34,1323.44 1302.07,1322.53 1308.81,1321.59 1315.54,1320.64 1322.28,1319.65 1329.01,1318.65 1335.75,1317.62 1342.48,1316.57 1349.22,1315.5 1355.95,1314.41 1362.69,1313.29 1369.42,1312.16 1376.16,1311 1382.89,1309.83 1389.63,1308.63 1396.36,1307.42 1403.1,1306.18 1409.83,1304.93 1416.57,1303.66 1423.3,1302.37 1430.04,1301.07 1436.78,1299.75 1443.51,1298.41 1450.25,1297.05 1456.98,1295.68 1463.72,1294.3 1470.45,1292.9 1477.19,1291.48 1483.92,1290.05 1490.66,1288.61 1497.39,1287.16 1504.13,1285.69 1510.86,1284.21 1517.6,1282.72 1524.33,1281.21 1531.07,1279.7 1537.8,1278.17 1544.54,1276.63 1551.27,1275.09 1558.01,1273.53 1564.74,1271.97 1571.48,1270.39 1578.21,1268.81 1584.95,1267.22 1591.68,1265.63 1598.42,1264.02 1605.15,1262.41 1611.89,1260.8 1618.62,1259.17 1625.36,1257.54 1632.09,1255.91 1638.83,1254.27 1645.56,1252.63 1652.3,1250.99 1659.04,1249.34 1665.77,1247.69 1672.51,1246.03 1679.24,1244.38 1685.98,1242.72 1692.71,1241.06 1699.45,1239.4 1706.18,1237.74 1712.92,1236.08 1719.65,1234.42 1726.39,1232.77 1733.12,1231.11 1739.86,1229.45 1746.59,1227.8 1753.33,1226.15 1760.06,1224.5 1766.8,1222.86 1773.53,1221.22 1780.27,1219.58 1787,1217.95 1793.74,1216.33 1800.47,1214.71 1807.21,1213.09 1813.94,1211.48 1820.68,1209.88 1827.41,1208.29 1834.15,1206.7 1840.88,1205.13 1847.62,1203.56 1854.35,1202 1861.09,1200.45 1867.82,1198.91 1874.56,1197.38 1881.3,1195.86 1888.03,1194.35 1894.77,1192.85 1901.5,1191.37 1908.24,1189.9 1914.97,1188.44 1921.71,1186.99 1928.44,1185.56 1935.18,1184.14 1941.91,1182.74 1948.65,1181.35 1955.38,1179.98 1962.12,1178.63 1968.85,1177.29 1975.59,1175.97 1982.32,1174.66 1989.06,1173.37 1995.79,1172.1 2002.53,1170.85 2009.26,1169.62 2016,1168.41 2022.73,1167.22 2029.47,1166.05 2036.2,1164.9 2042.94,1163.77 2049.67,1162.66 2056.41,1161.58 2063.14,1160.52 2069.88,1159.48 2076.61,1158.46 2083.35,1157.47 2090.08,1156.51 2096.82,1155.57 2103.56,1154.65 2110.29,1153.76 2117.03,1152.9 2123.76,1152.06 2130.5,1151.25 2137.23,1150.47 2143.97,1149.71 2150.7,1148.99 2157.44,1148.29 2164.17,1147.62 2170.91,1146.99 2177.64,1146.38 2184.38,1145.8 2191.11,1145.26 2197.85,1144.75 2204.58,1144.27 2211.32,1143.82 2218.05,1143.41 2224.79,1143.03 2231.52,1142.68 2238.26,1142.37 2244.99,1142.09 2251.73,1141.85 2258.46,1141.64 2265.2,1141.47 2271.93,1141.34 2278.67,1141.24 2285.4,1141.19 2292.14,1141.17 \"/>\n",
       "<polyline clip-path=\"url(#clip172)\" style=\"stroke:#e26f46; stroke-linecap:round; stroke-linejoin:round; stroke-width:4; stroke-opacity:1; fill:none\" points=\"271.594,1043.08 278.329,1038.21 285.064,1033.41 291.799,1028.68 298.534,1024.02 305.27,1019.43 312.005,1014.91 318.74,1010.45 325.475,1006.07 332.21,1001.75 338.945,997.498 345.68,993.314 352.416,989.198 359.151,985.147 365.886,981.162 372.621,977.243 379.356,973.389 386.091,969.6 392.827,965.876 399.562,962.216 406.297,958.619 413.032,955.086 419.767,951.617 426.502,948.21 433.237,944.865 439.973,941.583 446.708,938.362 453.443,935.202 460.178,932.104 466.913,929.066 473.648,926.089 480.384,923.172 487.119,920.314 493.854,917.515 500.589,914.776 507.324,912.094 514.059,909.472 520.794,906.907 527.53,904.399 534.265,901.949 541,899.555 547.735,897.218 554.47,894.937 561.205,892.712 567.941,890.542 574.676,888.427 581.411,886.367 588.146,884.361 594.881,882.409 601.616,880.511 608.351,878.666 615.087,876.874 621.822,875.134 628.557,873.447 635.292,871.812 642.027,870.228 648.762,868.695 655.497,867.213 662.233,865.782 668.968,864.401 675.703,863.069 682.438,861.787 689.173,860.554 695.908,859.37 702.644,858.234 709.379,857.146 716.114,856.105 722.849,855.112 729.584,854.166 736.319,853.266 743.054,852.413 749.79,851.606 756.525,850.844 763.26,850.127 769.995,849.455 776.73,848.828 783.465,848.244 790.201,847.705 796.936,847.209 803.671,846.755 810.406,846.345 817.141,845.977 823.876,845.651 830.611,845.367 837.347,845.123 844.082,844.921 850.817,844.76 857.552,844.638 864.287,844.557 871.022,844.515 877.758,844.512 884.493,844.548 891.228,844.623 897.963,844.735 904.698,844.886 911.433,845.073 918.168,845.298 924.904,845.56 931.639,845.857 938.374,846.191 945.109,846.561 951.844,846.965 958.579,847.405 965.314,847.879 972.05,848.388 978.785,848.93 985.52,849.506 992.255,850.115 998.99,850.756 1005.73,851.431 1012.46,852.137 1019.2,852.875 1025.93,853.644 1032.67,854.444 1039.4,855.275 1046.14,856.137 1052.87,857.028 1059.61,857.949 1066.34,858.899 1073.08,859.878 1079.81,860.885 1086.55,861.921 1093.28,862.984 1100.02,864.075 1106.75,865.193 1113.49,866.337 1120.22,867.508 1126.96,868.705 1133.69,869.928 1140.43,871.176 1147.16,872.449 1153.9,873.746 1160.63,875.068 1167.37,876.413 1174.1,877.782 1180.84,879.175 1187.57,880.589 1194.31,882.027 1201.04,883.486 1207.78,884.967 1214.52,886.47 1221.25,887.993 1227.99,889.537 1234.72,891.101 1241.46,892.686 1248.19,894.289 1254.93,895.912 1261.66,897.554 1268.4,899.214 1275.13,900.892 1281.87,902.588 1288.6,904.301 1295.34,906.031 1302.07,907.778 1308.81,909.541 1315.54,911.32 1322.28,913.115 1329.01,914.924 1335.75,916.749 1342.48,918.588 1349.22,920.441 1355.95,922.307 1362.69,924.187 1369.42,926.08 1376.16,927.986 1382.89,929.904 1389.63,931.833 1396.36,933.775 1403.1,935.727 1409.83,937.69 1416.57,939.663 1423.3,941.647 1430.04,943.64 1436.78,945.642 1443.51,947.654 1450.25,949.673 1456.98,951.701 1463.72,953.737 1470.45,955.78 1477.19,957.831 1483.92,959.887 1490.66,961.951 1497.39,964.02 1504.13,966.095 1510.86,968.174 1517.6,970.259 1524.33,972.348 1531.07,974.441 1537.8,976.538 1544.54,978.638 1551.27,980.742 1558.01,982.847 1564.74,984.955 1571.48,987.065 1578.21,989.176 1584.95,991.288 1591.68,993.4 1598.42,995.513 1605.15,997.626 1611.89,999.739 1618.62,1001.85 1625.36,1003.96 1632.09,1006.07 1638.83,1008.18 1645.56,1010.28 1652.3,1012.38 1659.04,1014.48 1665.77,1016.57 1672.51,1018.67 1679.24,1020.75 1685.98,1022.83 1692.71,1024.91 1699.45,1026.98 1706.18,1029.05 1712.92,1031.11 1719.65,1033.16 1726.39,1035.21 1733.12,1037.24 1739.86,1039.27 1746.59,1041.3 1753.33,1043.31 1760.06,1045.31 1766.8,1047.31 1773.53,1049.3 1780.27,1051.27 1787,1053.24 1793.74,1055.19 1800.47,1057.13 1807.21,1059.06 1813.94,1060.98 1820.68,1062.89 1827.41,1064.78 1834.15,1066.66 1840.88,1068.53 1847.62,1070.38 1854.35,1072.22 1861.09,1074.04 1867.82,1075.85 1874.56,1077.64 1881.3,1079.42 1888.03,1081.18 1894.77,1082.92 1901.5,1084.64 1908.24,1086.35 1914.97,1088.04 1921.71,1089.71 1928.44,1091.36 1935.18,1093 1941.91,1094.61 1948.65,1096.2 1955.38,1097.78 1962.12,1099.33 1968.85,1100.86 1975.59,1102.37 1982.32,1103.85 1989.06,1105.32 1995.79,1106.76 2002.53,1108.17 2009.26,1109.57 2016,1110.94 2022.73,1112.28 2029.47,1113.6 2036.2,1114.9 2042.94,1116.17 2049.67,1117.41 2056.41,1118.63 2063.14,1119.81 2069.88,1120.98 2076.61,1122.11 2083.35,1123.21 2090.08,1124.29 2096.82,1125.34 2103.56,1126.36 2110.29,1127.34 2117.03,1128.3 2123.76,1129.23 2130.5,1130.12 2137.23,1130.99 2143.97,1131.82 2150.7,1132.62 2157.44,1133.39 2164.17,1134.12 2170.91,1134.82 2177.64,1135.48 2184.38,1136.12 2191.11,1136.71 2197.85,1137.27 2204.58,1137.8 2211.32,1138.29 2218.05,1138.74 2224.79,1139.15 2231.52,1139.53 2238.26,1139.87 2244.99,1140.17 2251.73,1140.43 2258.46,1140.65 2265.2,1140.84 2271.93,1140.98 2278.67,1141.08 2285.4,1141.15 2292.14,1141.17 \"/>\n",
       "<polyline clip-path=\"url(#clip172)\" style=\"stroke:#3da44d; stroke-linecap:round; stroke-linejoin:round; stroke-width:4; stroke-opacity:1; fill:none\" points=\"271.594,160.256 278.329,172.472 285.064,184.598 291.799,196.632 298.534,208.577 305.27,220.431 312.005,232.194 318.74,243.868 325.475,255.452 332.21,266.945 338.945,278.35 345.68,289.664 352.416,300.889 359.151,312.025 365.886,323.072 372.621,334.031 379.356,344.9 386.091,355.681 392.827,366.374 399.562,376.978 406.297,387.494 413.032,397.923 419.767,408.264 426.502,418.518 433.237,428.685 439.973,438.765 446.708,448.758 453.443,458.665 460.178,468.485 466.913,478.22 473.648,487.869 480.384,497.432 487.119,506.91 493.854,516.303 500.589,525.611 507.324,534.834 514.059,543.974 520.794,553.029 527.53,562.001 534.265,570.889 541,579.694 547.735,588.416 554.47,597.055 561.205,605.612 567.941,614.087 574.676,622.48 581.411,630.792 588.146,639.023 594.881,647.172 601.616,655.241 608.351,663.23 615.087,671.139 621.822,678.968 628.557,686.718 635.292,694.389 642.027,701.981 648.762,709.495 655.497,716.93 662.233,724.288 668.968,731.568 675.703,738.772 682.438,745.898 689.173,752.948 695.908,759.922 702.644,766.82 709.379,773.643 716.114,780.391 722.849,787.064 729.584,793.663 736.319,800.187 743.054,806.638 749.79,813.016 756.525,819.321 763.26,825.553 769.995,831.713 776.73,837.8 783.465,843.817 790.201,849.762 796.936,855.636 803.671,861.44 810.406,867.174 817.141,872.838 823.876,878.433 830.611,883.959 837.347,889.416 844.082,894.806 850.817,900.127 857.552,905.381 864.287,910.568 871.022,915.688 877.758,920.741 884.493,925.729 891.228,930.652 897.963,935.509 904.698,940.301 911.433,945.029 918.168,949.693 924.904,954.293 931.639,958.831 938.374,963.305 945.109,967.717 951.844,972.067 958.579,976.355 965.314,980.582 972.05,984.748 978.785,988.854 985.52,992.9 992.255,996.886 998.99,1000.81 1005.73,1004.68 1012.46,1008.49 1019.2,1012.24 1025.93,1015.93 1032.67,1019.57 1039.4,1023.15 1046.14,1026.67 1052.87,1030.14 1059.61,1033.55 1066.34,1036.91 1073.08,1040.21 1079.81,1043.46 1086.55,1046.65 1093.28,1049.79 1100.02,1052.88 1106.75,1055.91 1113.49,1058.89 1120.22,1061.82 1126.96,1064.7 1133.69,1067.52 1140.43,1070.3 1147.16,1073.02 1153.9,1075.7 1160.63,1078.32 1167.37,1080.9 1174.1,1083.43 1180.84,1085.91 1187.57,1088.34 1194.31,1090.72 1201.04,1093.06 1207.78,1095.35 1214.52,1097.59 1221.25,1099.79 1227.99,1101.94 1234.72,1104.05 1241.46,1106.11 1248.19,1108.13 1254.93,1110.11 1261.66,1112.04 1268.4,1113.93 1275.13,1115.78 1281.87,1117.58 1288.6,1119.34 1295.34,1121.06 1302.07,1122.74 1308.81,1124.38 1315.54,1125.98 1322.28,1127.54 1329.01,1129.06 1335.75,1130.54 1342.48,1131.98 1349.22,1133.39 1355.95,1134.76 1362.69,1136.09 1369.42,1137.38 1376.16,1138.64 1382.89,1139.86 1389.63,1141.04 1396.36,1142.19 1403.1,1143.31 1409.83,1144.39 1416.57,1145.43 1423.3,1146.45 1430.04,1147.43 1436.78,1148.38 1443.51,1149.29 1450.25,1150.17 1456.98,1151.02 1463.72,1151.84 1470.45,1152.63 1477.19,1153.39 1483.92,1154.12 1490.66,1154.82 1497.39,1155.49 1504.13,1156.13 1510.86,1156.75 1517.6,1157.33 1524.33,1157.89 1531.07,1158.42 1537.8,1158.93 1544.54,1159.41 1551.27,1159.86 1558.01,1160.28 1564.74,1160.69 1571.48,1161.06 1578.21,1161.42 1584.95,1161.74 1591.68,1162.05 1598.42,1162.33 1605.15,1162.59 1611.89,1162.83 1618.62,1163.04 1625.36,1163.24 1632.09,1163.41 1638.83,1163.56 1645.56,1163.69 1652.3,1163.81 1659.04,1163.9 1665.77,1163.97 1672.51,1164.03 1679.24,1164.06 1685.98,1164.08 1692.71,1164.08 1699.45,1164.06 1706.18,1164.03 1712.92,1163.98 1719.65,1163.92 1726.39,1163.83 1733.12,1163.74 1739.86,1163.63 1746.59,1163.5 1753.33,1163.36 1760.06,1163.21 1766.8,1163.04 1773.53,1162.86 1780.27,1162.67 1787,1162.47 1793.74,1162.25 1800.47,1162.03 1807.21,1161.79 1813.94,1161.54 1820.68,1161.28 1827.41,1161.02 1834.15,1160.74 1840.88,1160.45 1847.62,1160.16 1854.35,1159.86 1861.09,1159.55 1867.82,1159.23 1874.56,1158.91 1881.3,1158.57 1888.03,1158.24 1894.77,1157.89 1901.5,1157.55 1908.24,1157.19 1914.97,1156.83 1921.71,1156.47 1928.44,1156.11 1935.18,1155.74 1941.91,1155.36 1948.65,1154.99 1955.38,1154.61 1962.12,1154.23 1968.85,1153.85 1975.59,1153.46 1982.32,1153.08 1989.06,1152.7 1995.79,1152.31 2002.53,1151.93 2009.26,1151.55 2016,1151.16 2022.73,1150.78 2029.47,1150.4 2036.2,1150.03 2042.94,1149.65 2049.67,1149.28 2056.41,1148.92 2063.14,1148.55 2069.88,1148.19 2076.61,1147.84 2083.35,1147.49 2090.08,1147.14 2096.82,1146.81 2103.56,1146.47 2110.29,1146.15 2117.03,1145.83 2123.76,1145.51 2130.5,1145.21 2137.23,1144.91 2143.97,1144.62 2150.7,1144.35 2157.44,1144.07 2164.17,1143.81 2170.91,1143.56 2177.64,1143.32 2184.38,1143.09 2191.11,1142.87 2197.85,1142.66 2204.58,1142.47 2211.32,1142.29 2218.05,1142.11 2224.79,1141.96 2231.52,1141.81 2238.26,1141.68 2244.99,1141.56 2251.73,1141.46 2258.46,1141.37 2265.2,1141.3 2271.93,1141.24 2278.67,1141.2 2285.4,1141.18 2292.14,1141.17 \"/>\n",
       "<polyline clip-path=\"url(#clip172)\" style=\"stroke:#c271d2; stroke-linecap:round; stroke-linejoin:round; stroke-width:4; stroke-opacity:1; fill:none\" stroke-dasharray=\"16, 10\" points=\"271.594,1288.3 278.329,1286.64 285.064,1284.98 291.799,1283.33 298.534,1281.69 305.27,1280.06 312.005,1278.43 318.74,1276.81 325.475,1275.2 332.21,1273.6 338.945,1272 345.68,1270.41 352.416,1268.83 359.151,1267.26 365.886,1265.7 372.621,1264.14 379.356,1262.59 386.091,1261.05 392.827,1259.51 399.562,1257.98 406.297,1256.47 413.032,1254.95 419.767,1253.45 426.502,1251.95 433.237,1250.46 439.973,1248.98 446.708,1247.51 453.443,1246.04 460.178,1244.58 466.913,1243.13 473.648,1241.69 480.384,1240.26 487.119,1238.83 493.854,1237.41 500.589,1236 507.324,1234.59 514.059,1233.19 520.794,1231.8 527.53,1230.42 534.265,1229.05 541,1227.68 547.735,1226.32 554.47,1224.97 561.205,1223.63 567.941,1222.29 574.676,1220.96 581.411,1219.64 588.146,1218.33 594.881,1217.02 601.616,1215.72 608.351,1214.43 615.087,1213.15 621.822,1211.88 628.557,1210.61 635.292,1209.35 642.027,1208.1 648.762,1206.85 655.497,1205.62 662.233,1204.39 668.968,1203.17 675.703,1201.95 682.438,1200.75 689.173,1199.55 695.908,1198.36 702.644,1197.17 709.379,1196 716.114,1194.83 722.849,1193.67 729.584,1192.52 736.319,1191.37 743.054,1190.23 749.79,1189.11 756.525,1187.98 763.26,1186.87 769.995,1185.76 776.73,1184.66 783.465,1183.57 790.201,1182.49 796.936,1181.41 803.671,1180.34 810.406,1179.28 817.141,1178.23 823.876,1177.18 830.611,1176.15 837.347,1175.12 844.082,1174.09 850.817,1173.08 857.552,1172.07 864.287,1171.07 871.022,1170.08 877.758,1169.1 884.493,1168.12 891.228,1167.15 897.963,1166.19 904.698,1165.24 911.433,1164.29 918.168,1163.36 924.904,1162.43 931.639,1161.5 938.374,1160.59 945.109,1159.68 951.844,1158.78 958.579,1157.89 965.314,1157.01 972.05,1156.13 978.785,1155.26 985.52,1154.4 992.255,1153.55 998.99,1152.71 1005.73,1151.87 1012.46,1151.04 1019.2,1150.22 1025.93,1149.4 1032.67,1148.6 1039.4,1147.8 1046.14,1147.01 1052.87,1146.22 1059.61,1145.45 1066.34,1144.68 1073.08,1143.92 1079.81,1143.17 1086.55,1142.43 1093.28,1141.69 1100.02,1140.96 1106.75,1140.24 1113.49,1139.53 1120.22,1138.82 1126.96,1138.12 1133.69,1137.43 1140.43,1136.75 1147.16,1136.08 1153.9,1135.41 1160.63,1134.75 1167.37,1134.1 1174.1,1133.46 1180.84,1132.83 1187.57,1132.2 1194.31,1131.58 1201.04,1130.97 1207.78,1130.36 1214.52,1129.77 1221.25,1129.18 1227.99,1128.6 1234.72,1128.03 1241.46,1127.46 1248.19,1126.91 1254.93,1126.36 1261.66,1125.82 1268.4,1125.29 1275.13,1124.76 1281.87,1124.25 1288.6,1123.74 1295.34,1123.24 1302.07,1122.74 1308.81,1122.26 1315.54,1121.78 1322.28,1121.31 1329.01,1120.85 1335.75,1120.4 1342.48,1119.95 1349.22,1119.52 1355.95,1119.09 1362.69,1118.67 1369.42,1118.25 1376.16,1117.85 1382.89,1117.45 1389.63,1117.06 1396.36,1116.68 1403.1,1116.31 1409.83,1115.94 1416.57,1115.58 1423.3,1115.24 1430.04,1114.89 1436.78,1114.56 1443.51,1114.24 1450.25,1113.92 1456.98,1113.61 1463.72,1113.31 1470.45,1113.02 1477.19,1112.74 1483.92,1112.46 1490.66,1112.19 1497.39,1111.93 1504.13,1111.68 1510.86,1111.44 1517.6,1111.2 1524.33,1110.98 1531.07,1110.76 1537.8,1110.55 1544.54,1110.34 1551.27,1110.15 1558.01,1109.96 1564.74,1109.79 1571.48,1109.62 1578.21,1109.45 1584.95,1109.3 1591.68,1109.16 1598.42,1109.02 1605.15,1108.89 1611.89,1108.77 1618.62,1108.66 1625.36,1108.56 1632.09,1108.46 1638.83,1108.38 1645.56,1108.3 1652.3,1108.23 1659.04,1108.17 1665.77,1108.11 1672.51,1108.07 1679.24,1108.03 1685.98,1108 1692.71,1107.98 1699.45,1107.97 1706.18,1107.97 1712.92,1107.98 1719.65,1107.99 1726.39,1108.01 1733.12,1108.04 1739.86,1108.08 1746.59,1108.13 1753.33,1108.19 1760.06,1108.25 1766.8,1108.33 1773.53,1108.41 1780.27,1108.5 1787,1108.6 1793.74,1108.71 1800.47,1108.82 1807.21,1108.95 1813.94,1109.08 1820.68,1109.22 1827.41,1109.37 1834.15,1109.53 1840.88,1109.7 1847.62,1109.88 1854.35,1110.06 1861.09,1110.26 1867.82,1110.46 1874.56,1110.67 1881.3,1110.89 1888.03,1111.12 1894.77,1111.36 1901.5,1111.6 1908.24,1111.86 1914.97,1112.12 1921.71,1112.4 1928.44,1112.68 1935.18,1112.97 1941.91,1113.27 1948.65,1113.57 1955.38,1113.89 1962.12,1114.22 1968.85,1114.55 1975.59,1114.89 1982.32,1115.24 1989.06,1115.61 1995.79,1115.98 2002.53,1116.35 2009.26,1116.74 2016,1117.14 2022.73,1117.54 2029.47,1117.96 2036.2,1118.38 2042.94,1118.81 2049.67,1119.25 2056.41,1119.7 2063.14,1120.16 2069.88,1120.63 2076.61,1121.11 2083.35,1121.59 2090.08,1122.09 2096.82,1122.59 2103.56,1123.1 2110.29,1123.63 2117.03,1124.16 2123.76,1124.7 2130.5,1125.25 2137.23,1125.8 2143.97,1126.37 2150.7,1126.95 2157.44,1127.53 2164.17,1128.13 2170.91,1128.73 2177.64,1129.34 2184.38,1129.97 2191.11,1130.6 2197.85,1131.24 2204.58,1131.89 2211.32,1132.55 2218.05,1133.21 2224.79,1133.89 2231.52,1134.58 2238.26,1135.27 2244.99,1135.98 2251.73,1136.69 2258.46,1137.41 2265.2,1138.15 2271.93,1138.89 2278.67,1139.64 2285.4,1140.4 2292.14,1141.17 \"/>\n",
       "<polyline clip-path=\"url(#clip172)\" style=\"stroke:#ac8d18; stroke-linecap:round; stroke-linejoin:round; stroke-width:4; stroke-opacity:1; fill:none\" stroke-dasharray=\"16, 10\" points=\"271.594,1043.08 278.329,1044.48 285.064,1045.88 291.799,1047.28 298.534,1048.66 305.27,1050.04 312.005,1051.41 318.74,1052.78 325.475,1054.13 332.21,1055.48 338.945,1056.83 345.68,1058.16 352.416,1059.49 359.151,1060.82 365.886,1062.13 372.621,1063.44 379.356,1064.74 386.091,1066.04 392.827,1067.32 399.562,1068.6 406.297,1069.88 413.032,1071.14 419.767,1072.4 426.502,1073.65 433.237,1074.9 439.973,1076.14 446.708,1077.37 453.443,1078.59 460.178,1079.81 466.913,1081.02 473.648,1082.22 480.384,1083.42 487.119,1084.61 493.854,1085.79 500.589,1086.96 507.324,1088.13 514.059,1089.29 520.794,1090.44 527.53,1091.59 534.265,1092.73 541,1093.86 547.735,1094.99 554.47,1096.11 561.205,1097.22 567.941,1098.32 574.676,1099.42 581.411,1100.51 588.146,1101.59 594.881,1102.67 601.616,1103.74 608.351,1104.8 615.087,1105.85 621.822,1106.9 628.557,1107.94 635.292,1108.98 642.027,1110 648.762,1111.02 655.497,1112.04 662.233,1113.04 668.968,1114.04 675.703,1115.03 682.438,1116.02 689.173,1117 695.908,1117.97 702.644,1118.93 709.379,1119.89 716.114,1120.83 722.849,1121.78 729.584,1122.71 736.319,1123.64 743.054,1124.56 749.79,1125.48 756.525,1126.38 763.26,1127.28 769.995,1128.18 776.73,1129.06 783.465,1129.94 790.201,1130.81 796.936,1131.68 803.671,1132.53 810.406,1133.39 817.141,1134.23 823.876,1135.06 830.611,1135.89 837.347,1136.72 844.082,1137.53 850.817,1138.34 857.552,1139.14 864.287,1139.94 871.022,1140.72 877.758,1141.5 884.493,1142.27 891.228,1143.04 897.963,1143.8 904.698,1144.55 911.433,1145.3 918.168,1146.03 924.904,1146.76 931.639,1147.49 938.374,1148.2 945.109,1148.91 951.844,1149.61 958.579,1150.31 965.314,1151 972.05,1151.68 978.785,1152.35 985.52,1153.02 992.255,1153.68 998.99,1154.33 1005.73,1154.97 1012.46,1155.61 1019.2,1156.24 1025.93,1156.87 1032.67,1157.48 1039.4,1158.09 1046.14,1158.69 1052.87,1159.29 1059.61,1159.88 1066.34,1160.46 1073.08,1161.03 1079.81,1161.6 1086.55,1162.16 1093.28,1162.71 1100.02,1163.26 1106.75,1163.79 1113.49,1164.33 1120.22,1164.85 1126.96,1165.37 1133.69,1165.88 1140.43,1166.38 1147.16,1166.87 1153.9,1167.36 1160.63,1167.84 1167.37,1168.31 1174.1,1168.78 1180.84,1169.24 1187.57,1169.69 1194.31,1170.14 1201.04,1170.57 1207.78,1171 1214.52,1171.43 1221.25,1171.84 1227.99,1172.25 1234.72,1172.65 1241.46,1173.05 1248.19,1173.43 1254.93,1173.81 1261.66,1174.19 1268.4,1174.55 1275.13,1174.91 1281.87,1175.26 1288.6,1175.6 1295.34,1175.94 1302.07,1176.27 1308.81,1176.59 1315.54,1176.9 1322.28,1177.21 1329.01,1177.51 1335.75,1177.8 1342.48,1178.09 1349.22,1178.37 1355.95,1178.64 1362.69,1178.9 1369.42,1179.15 1376.16,1179.4 1382.89,1179.64 1389.63,1179.88 1396.36,1180.1 1403.1,1180.32 1409.83,1180.53 1416.57,1180.74 1423.3,1180.93 1430.04,1181.12 1436.78,1181.31 1443.51,1181.48 1450.25,1181.65 1456.98,1181.81 1463.72,1181.96 1470.45,1182.1 1477.19,1182.24 1483.92,1182.37 1490.66,1182.49 1497.39,1182.61 1504.13,1182.72 1510.86,1182.82 1517.6,1182.91 1524.33,1182.99 1531.07,1183.07 1537.8,1183.14 1544.54,1183.2 1551.27,1183.26 1558.01,1183.3 1564.74,1183.34 1571.48,1183.38 1578.21,1183.4 1584.95,1183.42 1591.68,1183.43 1598.42,1183.43 1605.15,1183.42 1611.89,1183.41 1618.62,1183.39 1625.36,1183.36 1632.09,1183.32 1638.83,1183.28 1645.56,1183.23 1652.3,1183.17 1659.04,1183.1 1665.77,1183.03 1672.51,1182.94 1679.24,1182.85 1685.98,1182.76 1692.71,1182.65 1699.45,1182.54 1706.18,1182.42 1712.92,1182.29 1719.65,1182.15 1726.39,1182.01 1733.12,1181.86 1739.86,1181.7 1746.59,1181.53 1753.33,1181.35 1760.06,1181.17 1766.8,1180.98 1773.53,1180.78 1780.27,1180.57 1787,1180.36 1793.74,1180.14 1800.47,1179.91 1807.21,1179.67 1813.94,1179.42 1820.68,1179.17 1827.41,1178.9 1834.15,1178.63 1840.88,1178.36 1847.62,1178.07 1854.35,1177.78 1861.09,1177.48 1867.82,1177.17 1874.56,1176.85 1881.3,1176.52 1888.03,1176.19 1894.77,1175.85 1901.5,1175.5 1908.24,1175.14 1914.97,1174.77 1921.71,1174.4 1928.44,1174.02 1935.18,1173.63 1941.91,1173.23 1948.65,1172.82 1955.38,1172.41 1962.12,1171.99 1968.85,1171.56 1975.59,1171.12 1982.32,1170.67 1989.06,1170.22 1995.79,1169.75 2002.53,1169.28 2009.26,1168.8 2016,1168.32 2022.73,1167.82 2029.47,1167.32 2036.2,1166.8 2042.94,1166.28 2049.67,1165.76 2056.41,1165.22 2063.14,1164.67 2069.88,1164.12 2076.61,1163.56 2083.35,1162.99 2090.08,1162.41 2096.82,1161.82 2103.56,1161.23 2110.29,1160.63 2117.03,1160.01 2123.76,1159.39 2130.5,1158.77 2137.23,1158.13 2143.97,1157.48 2150.7,1156.83 2157.44,1156.17 2164.17,1155.5 2170.91,1154.82 2177.64,1154.13 2184.38,1153.44 2191.11,1152.74 2197.85,1152.02 2204.58,1151.3 2211.32,1150.57 2218.05,1149.84 2224.79,1149.09 2231.52,1148.34 2238.26,1147.57 2244.99,1146.8 2251.73,1146.02 2258.46,1145.24 2265.2,1144.44 2271.93,1143.63 2278.67,1142.82 2285.4,1142 2292.14,1141.17 \"/>\n",
       "<polyline clip-path=\"url(#clip172)\" style=\"stroke:#00a9ad; stroke-linecap:round; stroke-linejoin:round; stroke-width:4; stroke-opacity:1; fill:none\" stroke-dasharray=\"16, 10\" points=\"271.594,1386.4 278.329,1384.58 285.064,1382.77 291.799,1380.96 298.534,1379.15 305.27,1377.34 312.005,1375.54 318.74,1373.74 325.475,1371.94 332.21,1370.15 338.945,1368.35 345.68,1366.57 352.416,1364.78 359.151,1363 365.886,1361.22 372.621,1359.44 379.356,1357.67 386.091,1355.9 392.827,1354.14 399.562,1352.38 406.297,1350.62 413.032,1348.87 419.767,1347.12 426.502,1345.37 433.237,1343.63 439.973,1341.9 446.708,1340.17 453.443,1338.44 460.178,1336.72 466.913,1335 473.648,1333.29 480.384,1331.58 487.119,1329.87 493.854,1328.18 500.589,1326.48 507.324,1324.8 514.059,1323.11 520.794,1321.44 527.53,1319.76 534.265,1318.1 541,1316.44 547.735,1314.78 554.47,1313.13 561.205,1311.49 567.941,1309.85 574.676,1308.22 581.411,1306.59 588.146,1304.97 594.881,1303.35 601.616,1301.75 608.351,1300.14 615.087,1298.55 621.822,1296.96 628.557,1295.37 635.292,1293.79 642.027,1292.22 648.762,1290.66 655.497,1289.1 662.233,1287.55 668.968,1286 675.703,1284.46 682.438,1282.93 689.173,1281.41 695.908,1279.89 702.644,1278.38 709.379,1276.87 716.114,1275.37 722.849,1273.88 729.584,1272.4 736.319,1270.92 743.054,1269.45 749.79,1267.99 756.525,1266.53 763.26,1265.08 769.995,1263.64 776.73,1262.21 783.465,1260.78 790.201,1259.36 796.936,1257.95 803.671,1256.54 810.406,1255.15 817.141,1253.76 823.876,1252.37 830.611,1251 837.347,1249.63 844.082,1248.27 850.817,1246.92 857.552,1245.57 864.287,1244.23 871.022,1242.9 877.758,1241.58 884.493,1240.27 891.228,1238.96 897.963,1237.66 904.698,1236.37 911.433,1235.09 918.168,1233.81 924.904,1232.54 931.639,1231.28 938.374,1230.03 945.109,1228.78 951.844,1227.55 958.579,1226.32 965.314,1225.1 972.05,1223.88 978.785,1222.68 985.52,1221.48 992.255,1220.29 998.99,1219.11 1005.73,1217.94 1012.46,1216.77 1019.2,1215.62 1025.93,1214.47 1032.67,1213.33 1039.4,1212.19 1046.14,1211.07 1052.87,1209.95 1059.61,1208.84 1066.34,1207.74 1073.08,1206.65 1079.81,1205.56 1086.55,1204.49 1093.28,1203.42 1100.02,1202.36 1106.75,1201.31 1113.49,1200.26 1120.22,1199.23 1126.96,1198.2 1133.69,1197.18 1140.43,1196.17 1147.16,1195.17 1153.9,1194.17 1160.63,1193.19 1167.37,1192.21 1174.1,1191.24 1180.84,1190.27 1187.57,1189.32 1194.31,1188.37 1201.04,1187.44 1207.78,1186.51 1214.52,1185.59 1221.25,1184.67 1227.99,1183.77 1234.72,1182.87 1241.46,1181.98 1248.19,1181.1 1254.93,1180.23 1261.66,1179.37 1268.4,1178.51 1275.13,1177.67 1281.87,1176.83 1288.6,1176 1295.34,1175.17 1302.07,1174.36 1308.81,1173.55 1315.54,1172.75 1322.28,1171.96 1329.01,1171.18 1335.75,1170.41 1342.48,1169.64 1349.22,1168.89 1355.95,1168.14 1362.69,1167.4 1369.42,1166.66 1376.16,1165.94 1382.89,1165.22 1389.63,1164.52 1396.36,1163.82 1403.1,1163.12 1409.83,1162.44 1416.57,1161.76 1423.3,1161.1 1430.04,1160.44 1436.78,1159.79 1443.51,1159.14 1450.25,1158.51 1456.98,1157.88 1463.72,1157.26 1470.45,1156.65 1477.19,1156.05 1483.92,1155.46 1490.66,1154.87 1497.39,1154.29 1504.13,1153.72 1510.86,1153.16 1517.6,1152.6 1524.33,1152.06 1531.07,1151.52 1537.8,1150.99 1544.54,1150.47 1551.27,1149.95 1558.01,1149.45 1564.74,1148.95 1571.48,1148.46 1578.21,1147.98 1584.95,1147.51 1591.68,1147.04 1598.42,1146.58 1605.15,1146.13 1611.89,1145.69 1618.62,1145.26 1625.36,1144.83 1632.09,1144.41 1638.83,1144 1645.56,1143.6 1652.3,1143.21 1659.04,1142.82 1665.77,1142.44 1672.51,1142.07 1679.24,1141.71 1685.98,1141.35 1692.71,1141.01 1699.45,1140.67 1706.18,1140.34 1712.92,1140.01 1719.65,1139.7 1726.39,1139.39 1733.12,1139.09 1739.86,1138.8 1746.59,1138.52 1753.33,1138.24 1760.06,1137.97 1766.8,1137.71 1773.53,1137.46 1780.27,1137.22 1787,1136.98 1793.74,1136.75 1800.47,1136.53 1807.21,1136.32 1813.94,1136.11 1820.68,1135.91 1827.41,1135.72 1834.15,1135.54 1840.88,1135.37 1847.62,1135.2 1854.35,1135.04 1861.09,1134.89 1867.82,1134.75 1874.56,1134.61 1881.3,1134.48 1888.03,1134.36 1894.77,1134.25 1901.5,1134.15 1908.24,1134.05 1914.97,1133.96 1921.71,1133.88 1928.44,1133.8 1935.18,1133.74 1941.91,1133.68 1948.65,1133.63 1955.38,1133.58 1962.12,1133.55 1968.85,1133.52 1975.59,1133.5 1982.32,1133.49 1989.06,1133.48 1995.79,1133.49 2002.53,1133.5 2009.26,1133.52 2016,1133.54 2022.73,1133.58 2029.47,1133.62 2036.2,1133.67 2042.94,1133.72 2049.67,1133.79 2056.41,1133.86 2063.14,1133.94 2069.88,1134.02 2076.61,1134.12 2083.35,1134.22 2090.08,1134.33 2096.82,1134.45 2103.56,1134.57 2110.29,1134.71 2117.03,1134.85 2123.76,1135 2130.5,1135.15 2137.23,1135.32 2143.97,1135.49 2150.7,1135.67 2157.44,1135.85 2164.17,1136.05 2170.91,1136.25 2177.64,1136.46 2184.38,1136.67 2191.11,1136.9 2197.85,1137.13 2204.58,1137.37 2211.32,1137.62 2218.05,1137.87 2224.79,1138.13 2231.52,1138.4 2238.26,1138.68 2244.99,1138.97 2251.73,1139.26 2258.46,1139.56 2265.2,1139.87 2271.93,1140.18 2278.67,1140.51 2285.4,1140.84 2292.14,1141.18 \"/>\n",
       "<path clip-path=\"url(#clip170)\" d=\"M2023.9 529.676 L2281.36 529.676 L2281.36 166.796 L2023.9 166.796  Z\" fill=\"#ffffff\" fill-rule=\"evenodd\" fill-opacity=\"1\"/>\n",
       "<polyline clip-path=\"url(#clip170)\" style=\"stroke:#000000; stroke-linecap:round; stroke-linejoin:round; stroke-width:4; stroke-opacity:1; fill:none\" points=\"2023.9,529.676 2281.36,529.676 2281.36,166.796 2023.9,166.796 2023.9,529.676 \"/>\n",
       "<polyline clip-path=\"url(#clip170)\" style=\"stroke:#009af9; stroke-linecap:round; stroke-linejoin:round; stroke-width:4; stroke-opacity:1; fill:none\" points=\"2047.7,218.636 2190.48,218.636 \"/>\n",
       "<path clip-path=\"url(#clip170)\" d=\"M2238.93 209.99 L2229.56 222.606 L2239.42 235.916 L2234.39 235.916 L2226.85 225.731 L2219.3 235.916 L2214.28 235.916 L2224.35 222.351 L2215.14 209.99 L2220.16 209.99 L2227.03 219.226 L2233.91 209.99 L2238.93 209.99 Z\" fill=\"#000000\" fill-rule=\"evenodd\" fill-opacity=\"1\" /><path clip-path=\"url(#clip170)\" d=\"M2244.58 233.369 L2249.3 233.369 L2249.3 219.226 L2244.14 220.175 L2244.14 217.49 L2249.46 216.587 L2252.64 216.587 L2252.64 233.369 L2257.38 233.369 L2257.38 235.916 L2244.58 235.916 L2244.58 233.369 Z\" fill=\"#000000\" fill-rule=\"evenodd\" fill-opacity=\"1\" /><polyline clip-path=\"url(#clip170)\" style=\"stroke:#e26f46; stroke-linecap:round; stroke-linejoin:round; stroke-width:4; stroke-opacity:1; fill:none\" points=\"2047.7,270.476 2190.48,270.476 \"/>\n",
       "<path clip-path=\"url(#clip170)\" d=\"M2238.93 261.83 L2229.56 274.446 L2239.42 287.756 L2234.39 287.756 L2226.85 277.571 L2219.3 287.756 L2214.28 287.756 L2224.35 274.191 L2215.14 261.83 L2220.16 261.83 L2227.03 271.066 L2233.91 261.83 L2238.93 261.83 Z\" fill=\"#000000\" fill-rule=\"evenodd\" fill-opacity=\"1\" /><path clip-path=\"url(#clip170)\" d=\"M2247.17 285.117 L2256.99 285.117 L2256.99 287.756 L2243.14 287.756 L2243.14 285.209 Q2243.93 284.492 2245.39 283.196 Q2253.35 276.135 2253.35 273.959 Q2253.35 272.432 2252.15 271.506 Q2250.95 270.557 2248.98 270.557 Q2247.77 270.557 2246.36 270.973 Q2244.95 271.367 2243.28 272.177 L2243.28 269.33 Q2245.07 268.682 2246.59 268.358 Q2248.14 268.034 2249.46 268.034 Q2252.82 268.034 2254.83 269.561 Q2256.85 271.089 2256.85 273.589 Q2256.85 276.807 2249.19 283.381 Q2247.89 284.492 2247.17 285.117 Z\" fill=\"#000000\" fill-rule=\"evenodd\" fill-opacity=\"1\" /><polyline clip-path=\"url(#clip170)\" style=\"stroke:#3da44d; stroke-linecap:round; stroke-linejoin:round; stroke-width:4; stroke-opacity:1; fill:none\" points=\"2047.7,322.316 2190.48,322.316 \"/>\n",
       "<path clip-path=\"url(#clip170)\" d=\"M2238.93 313.67 L2229.56 326.286 L2239.42 339.596 L2234.39 339.596 L2226.85 329.411 L2219.3 339.596 L2214.28 339.596 L2224.35 326.031 L2215.14 313.67 L2220.16 313.67 L2227.03 322.906 L2233.91 313.67 L2238.93 313.67 Z\" fill=\"#000000\" fill-rule=\"evenodd\" fill-opacity=\"1\" /><path clip-path=\"url(#clip170)\" d=\"M2253.1 329.133 Q2255.23 329.549 2256.39 330.823 Q2257.57 332.073 2257.57 333.971 Q2257.57 336.841 2255.37 338.392 Q2253.17 339.943 2249.07 339.943 Q2247.75 339.943 2246.29 339.688 Q2244.86 339.457 2243.24 338.994 L2243.24 336.193 Q2244.44 336.818 2245.81 337.119 Q2247.2 337.42 2248.75 337.42 Q2251.27 337.42 2252.66 336.517 Q2254.05 335.591 2254.05 333.971 Q2254.05 332.258 2252.75 331.378 Q2251.48 330.499 2248.98 330.499 L2246.99 330.499 L2246.99 327.999 L2249.16 327.999 Q2251.34 327.999 2252.45 327.281 Q2253.58 326.54 2253.58 325.151 Q2253.58 323.809 2252.43 323.114 Q2251.27 322.397 2249.07 322.397 Q2248.14 322.397 2246.96 322.605 Q2245.78 322.813 2243.91 323.346 L2243.91 320.684 Q2245.6 320.29 2247.08 320.082 Q2248.56 319.874 2249.83 319.874 Q2253.17 319.874 2255.11 321.239 Q2257.08 322.605 2257.08 324.897 Q2257.08 326.494 2256.04 327.605 Q2255 328.716 2253.1 329.133 Z\" fill=\"#000000\" fill-rule=\"evenodd\" fill-opacity=\"1\" /><polyline clip-path=\"url(#clip170)\" style=\"stroke:#c271d2; stroke-linecap:round; stroke-linejoin:round; stroke-width:4; stroke-opacity:1; fill:none\" stroke-dasharray=\"16, 10\" points=\"2047.7,374.156 2190.48,374.156 \"/>\n",
       "<path clip-path=\"url(#clip170)\" d=\"M2238.93 365.51 L2229.56 378.126 L2239.42 391.436 L2234.39 391.436 L2226.85 381.251 L2219.3 391.436 L2214.28 391.436 L2224.35 377.871 L2215.14 365.51 L2220.16 365.51 L2227.03 374.746 L2233.91 365.51 L2238.93 365.51 Z\" fill=\"#000000\" fill-rule=\"evenodd\" fill-opacity=\"1\" /><path clip-path=\"url(#clip170)\" d=\"M2226.94 355.417 L2231.2 355.417 L2231.2 360.811 L2226.94 360.811 L2226.94 355.417 M2229.12 364.885 L2229.12 364.885 Z\" fill=\"#000000\" fill-rule=\"evenodd\" fill-opacity=\"1\" /><path clip-path=\"url(#clip170)\" d=\"M2244.58 388.889 L2249.3 388.889 L2249.3 374.746 L2244.14 375.695 L2244.14 373.01 L2249.46 372.107 L2252.64 372.107 L2252.64 388.889 L2257.38 388.889 L2257.38 391.436 L2244.58 391.436 L2244.58 388.889 Z\" fill=\"#000000\" fill-rule=\"evenodd\" fill-opacity=\"1\" /><polyline clip-path=\"url(#clip170)\" style=\"stroke:#ac8d18; stroke-linecap:round; stroke-linejoin:round; stroke-width:4; stroke-opacity:1; fill:none\" stroke-dasharray=\"16, 10\" points=\"2047.7,425.996 2190.48,425.996 \"/>\n",
       "<path clip-path=\"url(#clip170)\" d=\"M2238.93 417.35 L2229.56 429.966 L2239.42 443.276 L2234.39 443.276 L2226.85 433.091 L2219.3 443.276 L2214.28 443.276 L2224.35 429.711 L2215.14 417.35 L2220.16 417.35 L2227.03 426.586 L2233.91 417.35 L2238.93 417.35 Z\" fill=\"#000000\" fill-rule=\"evenodd\" fill-opacity=\"1\" /><path clip-path=\"url(#clip170)\" d=\"M2226.94 407.257 L2231.2 407.257 L2231.2 412.651 L2226.94 412.651 L2226.94 407.257 M2229.12 416.725 L2229.12 416.725 Z\" fill=\"#000000\" fill-rule=\"evenodd\" fill-opacity=\"1\" /><path clip-path=\"url(#clip170)\" d=\"M2247.17 440.637 L2256.99 440.637 L2256.99 443.276 L2243.14 443.276 L2243.14 440.729 Q2243.93 440.012 2245.39 438.716 Q2253.35 431.655 2253.35 429.479 Q2253.35 427.952 2252.15 427.026 Q2250.95 426.077 2248.98 426.077 Q2247.77 426.077 2246.36 426.493 Q2244.95 426.887 2243.28 427.697 L2243.28 424.85 Q2245.07 424.202 2246.59 423.878 Q2248.14 423.554 2249.46 423.554 Q2252.82 423.554 2254.83 425.081 Q2256.85 426.609 2256.85 429.109 Q2256.85 432.327 2249.19 438.901 Q2247.89 440.012 2247.17 440.637 Z\" fill=\"#000000\" fill-rule=\"evenodd\" fill-opacity=\"1\" /><polyline clip-path=\"url(#clip170)\" style=\"stroke:#00a9ad; stroke-linecap:round; stroke-linejoin:round; stroke-width:4; stroke-opacity:1; fill:none\" stroke-dasharray=\"16, 10\" points=\"2047.7,477.836 2190.48,477.836 \"/>\n",
       "<path clip-path=\"url(#clip170)\" d=\"M2238.93 469.19 L2229.56 481.806 L2239.42 495.116 L2234.39 495.116 L2226.85 484.931 L2219.3 495.116 L2214.28 495.116 L2224.35 481.551 L2215.14 469.19 L2220.16 469.19 L2227.03 478.426 L2233.91 469.19 L2238.93 469.19 Z\" fill=\"#000000\" fill-rule=\"evenodd\" fill-opacity=\"1\" /><path clip-path=\"url(#clip170)\" d=\"M2226.94 459.097 L2231.2 459.097 L2231.2 464.491 L2226.94 464.491 L2226.94 459.097 M2229.12 468.565 L2229.12 468.565 Z\" fill=\"#000000\" fill-rule=\"evenodd\" fill-opacity=\"1\" /><path clip-path=\"url(#clip170)\" d=\"M2253.1 484.653 Q2255.23 485.069 2256.39 486.343 Q2257.57 487.593 2257.57 489.491 Q2257.57 492.361 2255.37 493.912 Q2253.17 495.463 2249.07 495.463 Q2247.75 495.463 2246.29 495.208 Q2244.86 494.977 2243.24 494.514 L2243.24 491.713 Q2244.44 492.338 2245.81 492.639 Q2247.2 492.94 2248.75 492.94 Q2251.27 492.94 2252.66 492.037 Q2254.05 491.111 2254.05 489.491 Q2254.05 487.778 2252.75 486.898 Q2251.48 486.019 2248.98 486.019 L2246.99 486.019 L2246.99 483.519 L2249.16 483.519 Q2251.34 483.519 2252.45 482.801 Q2253.58 482.06 2253.58 480.671 Q2253.58 479.329 2252.43 478.634 Q2251.27 477.917 2249.07 477.917 Q2248.14 477.917 2246.96 478.125 Q2245.78 478.333 2243.91 478.866 L2243.91 476.204 Q2245.6 475.81 2247.08 475.602 Q2248.56 475.394 2249.83 475.394 Q2253.17 475.394 2255.11 476.759 Q2257.08 478.125 2257.08 480.417 Q2257.08 482.014 2256.04 483.125 Q2255 484.236 2253.1 484.653 Z\" fill=\"#000000\" fill-rule=\"evenodd\" fill-opacity=\"1\" /></svg>\n"
      ]
     },
     "metadata": {},
     "output_type": "display_data"
    },
    {
     "data": {
      "image/svg+xml": [
       "<?xml version=\"1.0\" encoding=\"utf-8\"?>\n",
       "<svg xmlns=\"http://www.w3.org/2000/svg\" xmlns:xlink=\"http://www.w3.org/1999/xlink\" width=\"600\" height=\"400\" viewBox=\"0 0 2400 1600\">\n",
       "<defs>\n",
       "  <clipPath id=\"clip210\">\n",
       "    <rect x=\"0\" y=\"0\" width=\"2400\" height=\"1600\"/>\n",
       "  </clipPath>\n",
       "</defs>\n",
       "<path clip-path=\"url(#clip210)\" d=\"M0 1600 L2400 1600 L2400 0 L0 0  Z\" fill=\"#ffffff\" fill-rule=\"evenodd\" fill-opacity=\"1\"/>\n",
       "<defs>\n",
       "  <clipPath id=\"clip211\">\n",
       "    <rect x=\"480\" y=\"0\" width=\"1681\" height=\"1600\"/>\n",
       "  </clipPath>\n",
       "</defs>\n",
       "<path clip-path=\"url(#clip210)\" d=\"M232.389 1423.18 L2352.76 1423.18 L2352.76 123.472 L232.389 123.472  Z\" fill=\"#ffffff\" fill-rule=\"evenodd\" fill-opacity=\"1\"/>\n",
       "<defs>\n",
       "  <clipPath id=\"clip212\">\n",
       "    <rect x=\"232\" y=\"123\" width=\"2121\" height=\"1301\"/>\n",
       "  </clipPath>\n",
       "</defs>\n",
       "<polyline clip-path=\"url(#clip212)\" style=\"stroke:#000000; stroke-linecap:round; stroke-linejoin:round; stroke-width:2; stroke-opacity:0.1; fill:none\" points=\"292.4,1423.18 292.4,123.472 \"/>\n",
       "<polyline clip-path=\"url(#clip212)\" style=\"stroke:#000000; stroke-linecap:round; stroke-linejoin:round; stroke-width:2; stroke-opacity:0.1; fill:none\" points=\"961.412,1423.18 961.412,123.472 \"/>\n",
       "<polyline clip-path=\"url(#clip212)\" style=\"stroke:#000000; stroke-linecap:round; stroke-linejoin:round; stroke-width:2; stroke-opacity:0.1; fill:none\" points=\"1630.42,1423.18 1630.42,123.472 \"/>\n",
       "<polyline clip-path=\"url(#clip212)\" style=\"stroke:#000000; stroke-linecap:round; stroke-linejoin:round; stroke-width:2; stroke-opacity:0.1; fill:none\" points=\"2299.44,1423.18 2299.44,123.472 \"/>\n",
       "<polyline clip-path=\"url(#clip210)\" style=\"stroke:#000000; stroke-linecap:round; stroke-linejoin:round; stroke-width:4; stroke-opacity:1; fill:none\" points=\"232.389,1423.18 2352.76,1423.18 \"/>\n",
       "<polyline clip-path=\"url(#clip210)\" style=\"stroke:#000000; stroke-linecap:round; stroke-linejoin:round; stroke-width:4; stroke-opacity:1; fill:none\" points=\"292.4,1423.18 292.4,1404.28 \"/>\n",
       "<polyline clip-path=\"url(#clip210)\" style=\"stroke:#000000; stroke-linecap:round; stroke-linejoin:round; stroke-width:4; stroke-opacity:1; fill:none\" points=\"961.412,1423.18 961.412,1404.28 \"/>\n",
       "<polyline clip-path=\"url(#clip210)\" style=\"stroke:#000000; stroke-linecap:round; stroke-linejoin:round; stroke-width:4; stroke-opacity:1; fill:none\" points=\"1630.42,1423.18 1630.42,1404.28 \"/>\n",
       "<polyline clip-path=\"url(#clip210)\" style=\"stroke:#000000; stroke-linecap:round; stroke-linejoin:round; stroke-width:4; stroke-opacity:1; fill:none\" points=\"2299.44,1423.18 2299.44,1404.28 \"/>\n",
       "<path clip-path=\"url(#clip210)\" d=\"M292.4 1454.1 Q288.789 1454.1 286.96 1457.66 Q285.154 1461.2 285.154 1468.33 Q285.154 1475.44 286.96 1479.01 Q288.789 1482.55 292.4 1482.55 Q296.034 1482.55 297.84 1479.01 Q299.668 1475.44 299.668 1468.33 Q299.668 1461.2 297.84 1457.66 Q296.034 1454.1 292.4 1454.1 M292.4 1450.39 Q298.21 1450.39 301.265 1455 Q304.344 1459.58 304.344 1468.33 Q304.344 1477.06 301.265 1481.67 Q298.21 1486.25 292.4 1486.25 Q286.59 1486.25 283.511 1481.67 Q280.455 1477.06 280.455 1468.33 Q280.455 1459.58 283.511 1455 Q286.59 1450.39 292.4 1450.39 Z\" fill=\"#000000\" fill-rule=\"evenodd\" fill-opacity=\"1\" /><path clip-path=\"url(#clip210)\" d=\"M951.69 1451.02 L970.046 1451.02 L970.046 1454.96 L955.972 1454.96 L955.972 1463.43 Q956.99 1463.08 958.009 1462.92 Q959.027 1462.73 960.046 1462.73 Q965.833 1462.73 969.213 1465.9 Q972.592 1469.08 972.592 1474.49 Q972.592 1480.07 969.12 1483.17 Q965.648 1486.25 959.328 1486.25 Q957.152 1486.25 954.884 1485.88 Q952.639 1485.51 950.231 1484.77 L950.231 1480.07 Q952.315 1481.2 954.537 1481.76 Q956.759 1482.32 959.236 1482.32 Q963.24 1482.32 965.578 1480.21 Q967.916 1478.1 967.916 1474.49 Q967.916 1470.88 965.578 1468.77 Q963.24 1466.67 959.236 1466.67 Q957.361 1466.67 955.486 1467.08 Q953.634 1467.5 951.69 1468.38 L951.69 1451.02 Z\" fill=\"#000000\" fill-rule=\"evenodd\" fill-opacity=\"1\" /><path clip-path=\"url(#clip210)\" d=\"M1605.11 1481.64 L1612.75 1481.64 L1612.75 1455.28 L1604.44 1456.95 L1604.44 1452.69 L1612.7 1451.02 L1617.38 1451.02 L1617.38 1481.64 L1625.02 1481.64 L1625.02 1485.58 L1605.11 1485.58 L1605.11 1481.64 Z\" fill=\"#000000\" fill-rule=\"evenodd\" fill-opacity=\"1\" /><path clip-path=\"url(#clip210)\" d=\"M1644.46 1454.1 Q1640.85 1454.1 1639.02 1457.66 Q1637.22 1461.2 1637.22 1468.33 Q1637.22 1475.44 1639.02 1479.01 Q1640.85 1482.55 1644.46 1482.55 Q1648.1 1482.55 1649.9 1479.01 Q1651.73 1475.44 1651.73 1468.33 Q1651.73 1461.2 1649.9 1457.66 Q1648.1 1454.1 1644.46 1454.1 M1644.46 1450.39 Q1650.27 1450.39 1653.33 1455 Q1656.41 1459.58 1656.41 1468.33 Q1656.41 1477.06 1653.33 1481.67 Q1650.27 1486.25 1644.46 1486.25 Q1638.65 1486.25 1635.57 1481.67 Q1632.52 1477.06 1632.52 1468.33 Q1632.52 1459.58 1635.57 1455 Q1638.65 1450.39 1644.46 1450.39 Z\" fill=\"#000000\" fill-rule=\"evenodd\" fill-opacity=\"1\" /><path clip-path=\"url(#clip210)\" d=\"M2274.62 1481.64 L2282.26 1481.64 L2282.26 1455.28 L2273.95 1456.95 L2273.95 1452.69 L2282.21 1451.02 L2286.89 1451.02 L2286.89 1481.64 L2294.53 1481.64 L2294.53 1485.58 L2274.62 1485.58 L2274.62 1481.64 Z\" fill=\"#000000\" fill-rule=\"evenodd\" fill-opacity=\"1\" /><path clip-path=\"url(#clip210)\" d=\"M2304.02 1451.02 L2322.38 1451.02 L2322.38 1454.96 L2308.3 1454.96 L2308.3 1463.43 Q2309.32 1463.08 2310.34 1462.92 Q2311.36 1462.73 2312.38 1462.73 Q2318.16 1462.73 2321.54 1465.9 Q2324.92 1469.08 2324.92 1474.49 Q2324.92 1480.07 2321.45 1483.17 Q2317.98 1486.25 2311.66 1486.25 Q2309.48 1486.25 2307.21 1485.88 Q2304.97 1485.51 2302.56 1484.77 L2302.56 1480.07 Q2304.64 1481.2 2306.87 1481.76 Q2309.09 1482.32 2311.57 1482.32 Q2315.57 1482.32 2317.91 1480.21 Q2320.25 1478.1 2320.25 1474.49 Q2320.25 1470.88 2317.91 1468.77 Q2315.57 1466.67 2311.57 1466.67 Q2309.69 1466.67 2307.82 1467.08 Q2305.96 1467.5 2304.02 1468.38 L2304.02 1451.02 Z\" fill=\"#000000\" fill-rule=\"evenodd\" fill-opacity=\"1\" /><path clip-path=\"url(#clip210)\" d=\"M1180.03 1522.27 L1180.03 1532.4 L1192.09 1532.4 L1192.09 1536.95 L1180.03 1536.95 L1180.03 1556.3 Q1180.03 1560.66 1181.2 1561.9 Q1182.41 1563.14 1186.07 1563.14 L1192.09 1563.14 L1192.09 1568.04 L1186.07 1568.04 Q1179.29 1568.04 1176.72 1565.53 Q1174.14 1562.98 1174.14 1556.3 L1174.14 1536.95 L1169.84 1536.95 L1169.84 1532.4 L1174.14 1532.4 L1174.14 1522.27 L1180.03 1522.27 Z\" fill=\"#000000\" fill-rule=\"evenodd\" fill-opacity=\"1\" /><path clip-path=\"url(#clip210)\" d=\"M1199.79 1532.4 L1205.65 1532.4 L1205.65 1568.04 L1199.79 1568.04 L1199.79 1532.4 M1199.79 1518.52 L1205.65 1518.52 L1205.65 1525.93 L1199.79 1525.93 L1199.79 1518.52 Z\" fill=\"#000000\" fill-rule=\"evenodd\" fill-opacity=\"1\" /><path clip-path=\"url(#clip210)\" d=\"M1245.66 1539.24 Q1247.85 1535.29 1250.91 1533.41 Q1253.96 1531.54 1258.1 1531.54 Q1263.67 1531.54 1266.7 1535.45 Q1269.72 1539.33 1269.72 1546.53 L1269.72 1568.04 L1263.83 1568.04 L1263.83 1546.72 Q1263.83 1541.59 1262.02 1539.11 Q1260.2 1536.63 1256.48 1536.63 Q1251.93 1536.63 1249.29 1539.65 Q1246.64 1542.68 1246.64 1547.9 L1246.64 1568.04 L1240.76 1568.04 L1240.76 1546.72 Q1240.76 1541.56 1238.94 1539.11 Q1237.13 1536.63 1233.34 1536.63 Q1228.85 1536.63 1226.21 1539.68 Q1223.57 1542.71 1223.57 1547.9 L1223.57 1568.04 L1217.68 1568.04 L1217.68 1532.4 L1223.57 1532.4 L1223.57 1537.93 Q1225.57 1534.66 1228.37 1533.1 Q1231.18 1531.54 1235.03 1531.54 Q1238.91 1531.54 1241.62 1533.51 Q1244.35 1535.48 1245.66 1539.24 Z\" fill=\"#000000\" fill-rule=\"evenodd\" fill-opacity=\"1\" /><path clip-path=\"url(#clip210)\" d=\"M1311.89 1548.76 L1311.89 1551.62 L1284.97 1551.62 Q1285.35 1557.67 1288.59 1560.85 Q1291.87 1564 1297.7 1564 Q1301.07 1564 1304.22 1563.17 Q1307.4 1562.35 1310.52 1560.69 L1310.52 1566.23 Q1307.37 1567.57 1304.06 1568.27 Q1300.75 1568.97 1297.35 1568.97 Q1288.82 1568.97 1283.82 1564 Q1278.85 1559.04 1278.85 1550.57 Q1278.85 1541.82 1283.57 1536.69 Q1288.31 1531.54 1296.33 1531.54 Q1303.52 1531.54 1307.69 1536.18 Q1311.89 1540.8 1311.89 1548.76 M1306.04 1547.04 Q1305.97 1542.23 1303.33 1539.37 Q1300.72 1536.5 1296.39 1536.5 Q1291.49 1536.5 1288.53 1539.27 Q1285.6 1542.04 1285.16 1547.07 L1306.04 1547.04 Z\" fill=\"#000000\" fill-rule=\"evenodd\" fill-opacity=\"1\" /><path clip-path=\"url(#clip210)\" d=\"M1356.29 1518.58 Q1352.03 1525.9 1349.96 1533.06 Q1347.89 1540.23 1347.89 1547.58 Q1347.89 1554.93 1349.96 1562.16 Q1352.06 1569.35 1356.29 1576.64 L1351.2 1576.64 Q1346.43 1569.16 1344.04 1561.93 Q1341.68 1554.71 1341.68 1547.58 Q1341.68 1540.48 1344.04 1533.29 Q1346.39 1526.09 1351.2 1518.58 L1356.29 1518.58 Z\" fill=\"#000000\" fill-rule=\"evenodd\" fill-opacity=\"1\" /><path clip-path=\"url(#clip210)\" d=\"M1390.38 1533.45 L1390.38 1538.98 Q1387.9 1537.71 1385.23 1537.07 Q1382.55 1536.44 1379.69 1536.44 Q1375.33 1536.44 1373.13 1537.77 Q1370.97 1539.11 1370.97 1541.79 Q1370.97 1543.82 1372.53 1545 Q1374.09 1546.15 1378.8 1547.2 L1380.8 1547.64 Q1387.04 1548.98 1389.65 1551.43 Q1392.29 1553.85 1392.29 1558.21 Q1392.29 1563.17 1388.34 1566.07 Q1384.43 1568.97 1377.55 1568.97 Q1374.69 1568.97 1371.57 1568.39 Q1368.48 1567.85 1365.05 1566.74 L1365.05 1560.69 Q1368.29 1562.38 1371.44 1563.24 Q1374.59 1564.07 1377.68 1564.07 Q1381.82 1564.07 1384.05 1562.66 Q1386.28 1561.23 1386.28 1558.65 Q1386.28 1556.27 1384.65 1554.99 Q1383.06 1553.72 1377.62 1552.54 L1375.58 1552.07 Q1370.14 1550.92 1367.72 1548.56 Q1365.3 1546.18 1365.3 1542.04 Q1365.3 1537.01 1368.87 1534.27 Q1372.43 1531.54 1378.99 1531.54 Q1382.23 1531.54 1385.1 1532.01 Q1387.96 1532.49 1390.38 1533.45 Z\" fill=\"#000000\" fill-rule=\"evenodd\" fill-opacity=\"1\" /><path clip-path=\"url(#clip210)\" d=\"M1400.69 1518.58 L1405.79 1518.58 Q1410.56 1526.09 1412.92 1533.29 Q1415.3 1540.48 1415.3 1547.58 Q1415.3 1554.71 1412.92 1561.93 Q1410.56 1569.16 1405.79 1576.64 L1400.69 1576.64 Q1404.93 1569.35 1407 1562.16 Q1409.1 1554.93 1409.1 1547.58 Q1409.1 1540.23 1407 1533.06 Q1404.93 1525.9 1400.69 1518.58 Z\" fill=\"#000000\" fill-rule=\"evenodd\" fill-opacity=\"1\" /><polyline clip-path=\"url(#clip212)\" style=\"stroke:#000000; stroke-linecap:round; stroke-linejoin:round; stroke-width:2; stroke-opacity:0.1; fill:none\" points=\"232.389,1323.16 2352.76,1323.16 \"/>\n",
       "<polyline clip-path=\"url(#clip212)\" style=\"stroke:#000000; stroke-linecap:round; stroke-linejoin:round; stroke-width:2; stroke-opacity:0.1; fill:none\" points=\"232.389,1047.59 2352.76,1047.59 \"/>\n",
       "<polyline clip-path=\"url(#clip212)\" style=\"stroke:#000000; stroke-linecap:round; stroke-linejoin:round; stroke-width:2; stroke-opacity:0.1; fill:none\" points=\"232.389,772.024 2352.76,772.024 \"/>\n",
       "<polyline clip-path=\"url(#clip212)\" style=\"stroke:#000000; stroke-linecap:round; stroke-linejoin:round; stroke-width:2; stroke-opacity:0.1; fill:none\" points=\"232.389,496.456 2352.76,496.456 \"/>\n",
       "<polyline clip-path=\"url(#clip212)\" style=\"stroke:#000000; stroke-linecap:round; stroke-linejoin:round; stroke-width:2; stroke-opacity:0.1; fill:none\" points=\"232.389,220.888 2352.76,220.888 \"/>\n",
       "<polyline clip-path=\"url(#clip210)\" style=\"stroke:#000000; stroke-linecap:round; stroke-linejoin:round; stroke-width:4; stroke-opacity:1; fill:none\" points=\"232.389,1423.18 232.389,123.472 \"/>\n",
       "<polyline clip-path=\"url(#clip210)\" style=\"stroke:#000000; stroke-linecap:round; stroke-linejoin:round; stroke-width:4; stroke-opacity:1; fill:none\" points=\"232.389,1323.16 251.287,1323.16 \"/>\n",
       "<polyline clip-path=\"url(#clip210)\" style=\"stroke:#000000; stroke-linecap:round; stroke-linejoin:round; stroke-width:4; stroke-opacity:1; fill:none\" points=\"232.389,1047.59 251.287,1047.59 \"/>\n",
       "<polyline clip-path=\"url(#clip210)\" style=\"stroke:#000000; stroke-linecap:round; stroke-linejoin:round; stroke-width:4; stroke-opacity:1; fill:none\" points=\"232.389,772.024 251.287,772.024 \"/>\n",
       "<polyline clip-path=\"url(#clip210)\" style=\"stroke:#000000; stroke-linecap:round; stroke-linejoin:round; stroke-width:4; stroke-opacity:1; fill:none\" points=\"232.389,496.456 251.287,496.456 \"/>\n",
       "<polyline clip-path=\"url(#clip210)\" style=\"stroke:#000000; stroke-linecap:round; stroke-linejoin:round; stroke-width:4; stroke-opacity:1; fill:none\" points=\"232.389,220.888 251.287,220.888 \"/>\n",
       "<path clip-path=\"url(#clip210)\" d=\"M184.445 1308.96 Q180.834 1308.96 179.005 1312.52 Q177.2 1316.07 177.2 1323.2 Q177.2 1330.3 179.005 1333.87 Q180.834 1337.41 184.445 1337.41 Q188.079 1337.41 189.885 1333.87 Q191.713 1330.3 191.713 1323.2 Q191.713 1316.07 189.885 1312.52 Q188.079 1308.96 184.445 1308.96 M184.445 1305.26 Q190.255 1305.26 193.311 1309.86 Q196.389 1314.45 196.389 1323.2 Q196.389 1331.92 193.311 1336.53 Q190.255 1341.11 184.445 1341.11 Q178.635 1341.11 175.556 1336.53 Q172.501 1331.92 172.501 1323.2 Q172.501 1314.45 175.556 1309.86 Q178.635 1305.26 184.445 1305.26 Z\" fill=\"#000000\" fill-rule=\"evenodd\" fill-opacity=\"1\" /><path clip-path=\"url(#clip210)\" d=\"M149.306 1060.94 L165.626 1060.94 L165.626 1064.87 L143.681 1064.87 L143.681 1060.94 Q146.343 1058.18 150.927 1053.55 Q155.533 1048.9 156.714 1047.56 Q158.959 1045.03 159.839 1043.3 Q160.741 1041.54 160.741 1039.85 Q160.741 1037.1 158.797 1035.36 Q156.876 1033.62 153.774 1033.62 Q151.575 1033.62 149.121 1034.39 Q146.691 1035.15 143.913 1036.7 L143.913 1031.98 Q146.737 1030.85 149.191 1030.27 Q151.644 1029.69 153.681 1029.69 Q159.052 1029.69 162.246 1032.37 Q165.44 1035.06 165.44 1039.55 Q165.44 1041.68 164.63 1043.6 Q163.843 1045.5 161.737 1048.09 Q161.158 1048.76 158.056 1051.98 Q154.954 1055.17 149.306 1060.94 Z\" fill=\"#000000\" fill-rule=\"evenodd\" fill-opacity=\"1\" /><path clip-path=\"url(#clip210)\" d=\"M175.487 1030.31 L193.843 1030.31 L193.843 1034.25 L179.769 1034.25 L179.769 1042.72 Q180.788 1042.37 181.806 1042.21 Q182.825 1042.03 183.843 1042.03 Q189.63 1042.03 193.01 1045.2 Q196.389 1048.37 196.389 1053.78 Q196.389 1059.36 192.917 1062.47 Q189.445 1065.54 183.126 1065.54 Q180.95 1065.54 178.681 1065.17 Q176.436 1064.8 174.028 1064.06 L174.028 1059.36 Q176.112 1060.5 178.334 1061.05 Q180.556 1061.61 183.033 1061.61 Q187.038 1061.61 189.375 1059.5 Q191.713 1057.4 191.713 1053.78 Q191.713 1050.17 189.375 1048.07 Q187.038 1045.96 183.033 1045.96 Q181.158 1045.96 179.283 1046.38 Q177.431 1046.79 175.487 1047.67 L175.487 1030.31 Z\" fill=\"#000000\" fill-rule=\"evenodd\" fill-opacity=\"1\" /><path clip-path=\"url(#clip210)\" d=\"M144.329 754.744 L162.686 754.744 L162.686 758.68 L148.612 758.68 L148.612 767.152 Q149.63 766.805 150.649 766.643 Q151.667 766.457 152.686 766.457 Q158.473 766.457 161.852 769.629 Q165.232 772.8 165.232 778.217 Q165.232 783.795 161.76 786.897 Q158.288 789.976 151.968 789.976 Q149.792 789.976 147.524 789.605 Q145.279 789.235 142.871 788.494 L142.871 783.795 Q144.954 784.929 147.177 785.485 Q149.399 786.041 151.876 786.041 Q155.88 786.041 158.218 783.934 Q160.556 781.828 160.556 778.217 Q160.556 774.605 158.218 772.499 Q155.88 770.393 151.876 770.393 Q150.001 770.393 148.126 770.809 Q146.274 771.226 144.329 772.105 L144.329 754.744 Z\" fill=\"#000000\" fill-rule=\"evenodd\" fill-opacity=\"1\" /><path clip-path=\"url(#clip210)\" d=\"M184.445 757.823 Q180.834 757.823 179.005 761.388 Q177.2 764.93 177.2 772.059 Q177.2 779.166 179.005 782.73 Q180.834 786.272 184.445 786.272 Q188.079 786.272 189.885 782.73 Q191.713 779.166 191.713 772.059 Q191.713 764.93 189.885 761.388 Q188.079 757.823 184.445 757.823 M184.445 754.119 Q190.255 754.119 193.311 758.726 Q196.389 763.309 196.389 772.059 Q196.389 780.786 193.311 785.392 Q190.255 789.976 184.445 789.976 Q178.635 789.976 175.556 785.392 Q172.501 780.786 172.501 772.059 Q172.501 763.309 175.556 758.726 Q178.635 754.119 184.445 754.119 Z\" fill=\"#000000\" fill-rule=\"evenodd\" fill-opacity=\"1\" /><path clip-path=\"url(#clip210)\" d=\"M144.098 479.176 L166.32 479.176 L166.32 481.167 L153.774 513.736 L148.89 513.736 L160.695 483.111 L144.098 483.111 L144.098 479.176 Z\" fill=\"#000000\" fill-rule=\"evenodd\" fill-opacity=\"1\" /><path clip-path=\"url(#clip210)\" d=\"M175.487 479.176 L193.843 479.176 L193.843 483.111 L179.769 483.111 L179.769 491.584 Q180.788 491.236 181.806 491.074 Q182.825 490.889 183.843 490.889 Q189.63 490.889 193.01 494.06 Q196.389 497.232 196.389 502.648 Q196.389 508.227 192.917 511.329 Q189.445 514.408 183.126 514.408 Q180.95 514.408 178.681 514.037 Q176.436 513.667 174.028 512.926 L174.028 508.227 Q176.112 509.361 178.334 509.917 Q180.556 510.472 183.033 510.472 Q187.038 510.472 189.375 508.366 Q191.713 506.259 191.713 502.648 Q191.713 499.037 189.375 496.931 Q187.038 494.824 183.033 494.824 Q181.158 494.824 179.283 495.241 Q177.431 495.658 175.487 496.537 L175.487 479.176 Z\" fill=\"#000000\" fill-rule=\"evenodd\" fill-opacity=\"1\" /><path clip-path=\"url(#clip210)\" d=\"M114.931 234.233 L122.57 234.233 L122.57 207.867 L114.26 209.534 L114.26 205.275 L122.524 203.608 L127.2 203.608 L127.2 234.233 L134.839 234.233 L134.839 238.168 L114.931 238.168 L114.931 234.233 Z\" fill=\"#000000\" fill-rule=\"evenodd\" fill-opacity=\"1\" /><path clip-path=\"url(#clip210)\" d=\"M154.283 206.687 Q150.672 206.687 148.843 210.251 Q147.038 213.793 147.038 220.923 Q147.038 228.029 148.843 231.594 Q150.672 235.136 154.283 235.136 Q157.917 235.136 159.723 231.594 Q161.552 228.029 161.552 220.923 Q161.552 213.793 159.723 210.251 Q157.917 206.687 154.283 206.687 M154.283 202.983 Q160.093 202.983 163.149 207.589 Q166.227 212.173 166.227 220.923 Q166.227 229.65 163.149 234.256 Q160.093 238.839 154.283 238.839 Q148.473 238.839 145.394 234.256 Q142.339 229.65 142.339 220.923 Q142.339 212.173 145.394 207.589 Q148.473 202.983 154.283 202.983 Z\" fill=\"#000000\" fill-rule=\"evenodd\" fill-opacity=\"1\" /><path clip-path=\"url(#clip210)\" d=\"M184.445 206.687 Q180.834 206.687 179.005 210.251 Q177.2 213.793 177.2 220.923 Q177.2 228.029 179.005 231.594 Q180.834 235.136 184.445 235.136 Q188.079 235.136 189.885 231.594 Q191.713 228.029 191.713 220.923 Q191.713 213.793 189.885 210.251 Q188.079 206.687 184.445 206.687 M184.445 202.983 Q190.255 202.983 193.311 207.589 Q196.389 212.173 196.389 220.923 Q196.389 229.65 193.311 234.256 Q190.255 238.839 184.445 238.839 Q178.635 238.839 175.556 234.256 Q172.501 229.65 172.501 220.923 Q172.501 212.173 175.556 207.589 Q178.635 202.983 184.445 202.983 Z\" fill=\"#000000\" fill-rule=\"evenodd\" fill-opacity=\"1\" /><path clip-path=\"url(#clip210)\" d=\"M49.9359 788.254 L28.3562 788.254 L28.3562 782.397 L49.7131 782.397 Q54.7739 782.397 57.3202 780.424 Q59.8346 778.45 59.8346 774.504 Q59.8346 769.761 56.8109 767.024 Q53.7872 764.255 48.5673 764.255 L28.3562 764.255 L28.3562 758.398 L64.0042 758.398 L64.0042 764.255 L58.5296 764.255 Q61.7762 766.387 63.3676 769.22 Q64.9272 772.021 64.9272 775.745 Q64.9272 781.888 61.1078 785.071 Q57.2883 788.254 49.9359 788.254 M27.4968 773.517 L27.4968 773.517 Z\" fill=\"#000000\" fill-rule=\"evenodd\" fill-opacity=\"1\" /><path clip-path=\"url(#clip210)\" d=\"M1029.71 12.096 L1037.89 12.096 L1037.89 72.576 L1029.71 72.576 L1029.71 12.096 Z\" fill=\"#000000\" fill-rule=\"evenodd\" fill-opacity=\"1\" /><path clip-path=\"url(#clip210)\" d=\"M1091.57 45.1919 L1091.57 72.576 L1084.11 72.576 L1084.11 45.4349 Q1084.11 38.994 1081.6 35.7938 Q1079.09 32.5936 1074.07 32.5936 Q1068.03 32.5936 1064.55 36.4419 Q1061.06 40.2903 1061.06 46.9338 L1061.06 72.576 L1053.57 72.576 L1053.57 27.2059 L1061.06 27.2059 L1061.06 34.2544 Q1063.74 30.163 1067.34 28.1376 Q1070.99 26.1121 1075.73 26.1121 Q1083.55 26.1121 1087.56 30.9732 Q1091.57 35.7938 1091.57 45.1919 Z\" fill=\"#000000\" fill-rule=\"evenodd\" fill-opacity=\"1\" /><path clip-path=\"url(#clip210)\" d=\"M1113.64 65.7705 L1113.64 89.8329 L1106.15 89.8329 L1106.15 27.2059 L1113.64 27.2059 L1113.64 34.0924 Q1115.99 30.0415 1119.56 28.0971 Q1123.16 26.1121 1128.15 26.1121 Q1136.41 26.1121 1141.55 32.6746 Q1146.74 39.2371 1146.74 49.9314 Q1146.74 60.6258 1141.55 67.1883 Q1136.41 73.7508 1128.15 73.7508 Q1123.16 73.7508 1119.56 71.8063 Q1115.99 69.8214 1113.64 65.7705 M1139 49.9314 Q1139 41.7081 1135.6 37.0496 Q1132.24 32.3505 1126.32 32.3505 Q1120.41 32.3505 1117.01 37.0496 Q1113.64 41.7081 1113.64 49.9314 Q1113.64 58.1548 1117.01 62.8538 Q1120.41 67.5124 1126.32 67.5124 Q1132.24 67.5124 1135.6 62.8538 Q1139 58.1548 1139 49.9314 Z\" fill=\"#000000\" fill-rule=\"evenodd\" fill-opacity=\"1\" /><path clip-path=\"url(#clip210)\" d=\"M1158.33 54.671 L1158.33 27.2059 L1165.78 27.2059 L1165.78 54.3874 Q1165.78 60.8284 1168.29 64.0691 Q1170.8 67.2693 1175.83 67.2693 Q1181.86 67.2693 1185.35 63.421 Q1188.87 59.5726 1188.87 52.9291 L1188.87 27.2059 L1196.32 27.2059 L1196.32 72.576 L1188.87 72.576 L1188.87 65.6084 Q1186.16 69.7404 1182.55 71.7658 Q1178.99 73.7508 1174.25 73.7508 Q1166.43 73.7508 1162.38 68.8897 Q1158.33 64.0286 1158.33 54.671 M1177.08 26.1121 L1177.08 26.1121 Z\" fill=\"#000000\" fill-rule=\"evenodd\" fill-opacity=\"1\" /><path clip-path=\"url(#clip210)\" d=\"M1219.05 14.324 L1219.05 27.2059 L1234.4 27.2059 L1234.4 32.9987 L1219.05 32.9987 L1219.05 57.6282 Q1219.05 63.1779 1220.55 64.7578 Q1222.09 66.3376 1226.75 66.3376 L1234.4 66.3376 L1234.4 72.576 L1226.75 72.576 Q1218.12 72.576 1214.84 69.3758 Q1211.55 66.1351 1211.55 57.6282 L1211.55 32.9987 L1206.09 32.9987 L1206.09 27.2059 L1211.55 27.2059 L1211.55 14.324 L1219.05 14.324 Z\" fill=\"#000000\" fill-rule=\"evenodd\" fill-opacity=\"1\" /><path clip-path=\"url(#clip210)\" d=\"M1270.9 12.096 L1279.08 12.096 L1279.08 36.8875 L1308.82 36.8875 L1308.82 12.096 L1317 12.096 L1317 72.576 L1308.82 72.576 L1308.82 43.7741 L1279.08 43.7741 L1279.08 72.576 L1270.9 72.576 L1270.9 12.096 Z\" fill=\"#000000\" fill-rule=\"evenodd\" fill-opacity=\"1\" /><path clip-path=\"url(#clip210)\" d=\"M1332.96 27.2059 L1340.41 27.2059 L1340.41 72.576 L1332.96 72.576 L1332.96 27.2059 M1332.96 9.54393 L1340.41 9.54393 L1340.41 18.9825 L1332.96 18.9825 L1332.96 9.54393 Z\" fill=\"#000000\" fill-rule=\"evenodd\" fill-opacity=\"1\" /><path clip-path=\"url(#clip210)\" d=\"M1384.93 28.5427 L1384.93 35.5912 Q1381.77 33.9709 1378.37 33.1607 Q1374.97 32.3505 1371.32 32.3505 Q1365.77 32.3505 1362.98 34.0519 Q1360.22 35.7533 1360.22 39.156 Q1360.22 41.7486 1362.21 43.2475 Q1364.19 44.7058 1370.19 46.0426 L1372.74 46.6097 Q1380.68 48.3111 1384 51.4303 Q1387.36 54.509 1387.36 60.0587 Q1387.36 66.3781 1382.34 70.0644 Q1377.36 73.7508 1368.61 73.7508 Q1364.96 73.7508 1360.99 73.0216 Q1357.06 72.3329 1352.69 70.9151 L1352.69 63.2184 Q1356.82 65.3654 1360.83 66.4591 Q1364.84 67.5124 1368.77 67.5124 Q1374.04 67.5124 1376.87 65.73 Q1379.71 63.9071 1379.71 60.6258 Q1379.71 57.5877 1377.64 55.9673 Q1375.62 54.3469 1368.69 52.8481 L1366.1 52.2405 Q1359.17 50.7821 1356.09 47.7845 Q1353.01 44.7463 1353.01 39.4801 Q1353.01 33.0797 1357.55 29.5959 Q1362.09 26.1121 1370.43 26.1121 Q1374.56 26.1121 1378.21 26.7198 Q1381.85 27.3274 1384.93 28.5427 Z\" fill=\"#000000\" fill-rule=\"evenodd\" fill-opacity=\"1\" /><path clip-path=\"url(#clip210)\" d=\"M1406.61 14.324 L1406.61 27.2059 L1421.96 27.2059 L1421.96 32.9987 L1406.61 32.9987 L1406.61 57.6282 Q1406.61 63.1779 1408.1 64.7578 Q1409.64 66.3376 1414.3 66.3376 L1421.96 66.3376 L1421.96 72.576 L1414.3 72.576 Q1405.67 72.576 1402.39 69.3758 Q1399.11 66.1351 1399.11 57.6282 L1399.11 32.9987 L1393.64 32.9987 L1393.64 27.2059 L1399.11 27.2059 L1399.11 14.324 L1406.61 14.324 Z\" fill=\"#000000\" fill-rule=\"evenodd\" fill-opacity=\"1\" /><path clip-path=\"url(#clip210)\" d=\"M1449.34 32.4315 Q1443.35 32.4315 1439.86 37.1306 Q1436.38 41.7891 1436.38 49.9314 Q1436.38 58.0738 1439.82 62.7728 Q1443.31 67.4314 1449.34 67.4314 Q1455.3 67.4314 1458.78 62.7323 Q1462.27 58.0333 1462.27 49.9314 Q1462.27 41.8701 1458.78 37.1711 Q1455.3 32.4315 1449.34 32.4315 M1449.34 26.1121 Q1459.06 26.1121 1464.61 32.4315 Q1470.16 38.7509 1470.16 49.9314 Q1470.16 61.0714 1464.61 67.4314 Q1459.06 73.7508 1449.34 73.7508 Q1439.58 73.7508 1434.03 67.4314 Q1428.52 61.0714 1428.52 49.9314 Q1428.52 38.7509 1434.03 32.4315 Q1439.58 26.1121 1449.34 26.1121 Z\" fill=\"#000000\" fill-rule=\"evenodd\" fill-opacity=\"1\" /><path clip-path=\"url(#clip210)\" d=\"M1508.81 34.1734 Q1507.55 33.4443 1506.06 33.1202 Q1504.6 32.7556 1502.81 32.7556 Q1496.5 32.7556 1493.09 36.8875 Q1489.73 40.9789 1489.73 48.6757 L1489.73 72.576 L1482.24 72.576 L1482.24 27.2059 L1489.73 27.2059 L1489.73 34.2544 Q1492.08 30.1225 1495.85 28.1376 Q1499.61 26.1121 1505 26.1121 Q1505.77 26.1121 1506.7 26.2337 Q1507.64 26.3147 1508.77 26.5172 L1508.81 34.1734 Z\" fill=\"#000000\" fill-rule=\"evenodd\" fill-opacity=\"1\" /><path clip-path=\"url(#clip210)\" d=\"M1535.51 76.7889 Q1532.35 84.8907 1529.35 87.3618 Q1526.35 89.8329 1521.33 89.8329 L1515.37 89.8329 L1515.37 83.5945 L1519.75 83.5945 Q1522.83 83.5945 1524.53 82.1361 Q1526.23 80.6778 1528.29 75.2496 L1529.63 71.8468 L1511.28 27.2059 L1519.18 27.2059 L1533.36 62.6918 L1547.54 27.2059 L1555.44 27.2059 L1535.51 76.7889 Z\" fill=\"#000000\" fill-rule=\"evenodd\" fill-opacity=\"1\" /><polyline clip-path=\"url(#clip212)\" style=\"stroke:#009af9; stroke-linecap:round; stroke-linejoin:round; stroke-width:4; stroke-opacity:1; fill:none\" points=\"292.4,1248.34 299.09,1248.68 305.78,1249.03 312.47,1249.37 319.16,1249.71 325.85,1250.06 332.54,1250.4 339.231,1250.74 345.921,1251.09 352.611,1251.43 359.301,1251.78 365.991,1252.12 372.681,1252.46 379.371,1252.81 386.061,1253.15 392.752,1253.49 399.442,1253.84 406.132,1254.18 412.822,1254.52 419.512,1254.87 426.202,1255.21 432.892,1255.55 439.582,1255.9 446.272,1256.24 452.963,1256.58 459.653,1256.93 466.343,1257.27 473.033,1257.61 479.723,1257.95 486.413,1258.3 493.103,1258.64 499.793,1258.98 506.484,1259.33 513.174,1259.67 519.864,1260.01 526.554,1260.36 533.244,1260.7 539.934,1261.04 546.624,1261.39 553.314,1261.73 560.005,1262.07 566.695,1262.42 573.385,1262.76 580.075,1263.1 586.765,1263.45 593.455,1263.79 600.145,1264.13 606.835,1264.48 613.525,1264.82 620.216,1265.16 626.906,1265.51 633.596,1265.85 640.286,1266.2 646.976,1266.54 653.666,1266.88 660.356,1267.23 667.046,1267.57 673.737,1267.91 680.427,1268.26 687.117,1268.6 693.807,1268.94 700.497,1269.29 707.187,1269.63 713.877,1269.98 720.567,1270.32 727.258,1270.66 733.948,1271.01 740.638,1271.35 747.328,1271.7 754.018,1272.04 760.708,1272.38 767.398,1272.73 774.088,1273.07 780.778,1273.42 787.469,1273.76 794.159,1274.11 800.849,1274.45 807.539,1274.8 814.229,1275.14 820.919,1275.49 827.609,1275.83 834.299,1276.17 840.99,1276.52 847.68,1276.86 854.37,1277.21 861.06,1277.56 867.75,1277.9 874.44,1278.25 881.13,1278.59 887.82,1278.94 894.511,1279.28 901.201,1279.63 907.891,1279.97 914.581,1280.32 921.271,1280.67 927.961,1281.01 934.651,1281.36 941.341,1281.71 948.031,1282.05 954.722,1282.4 961.412,1282.74 968.102,1283.09 974.792,1283.44 981.482,1283.79 988.172,1284.13 994.862,1284.48 1001.55,1284.83 1008.24,1285.18 1014.93,1285.52 1021.62,1285.87 1028.31,1286.22 1035,1286.57 1041.69,1286.92 1048.38,1287.26 1055.07,1287.61 1061.76,1287.96 1068.45,1288.31 1075.14,1288.66 1081.83,1289.01 1088.52,1289.36 1095.21,1289.71 1101.9,1290.06 1108.59,1290.41 1115.28,1290.76 1121.97,1291.11 1128.66,1291.46 1135.35,1291.81 1142.04,1292.16 1148.74,1292.51 1155.43,1292.86 1162.12,1293.21 1168.81,1293.57 1175.5,1293.92 1182.19,1294.27 1188.88,1294.62 1195.57,1294.97 1202.26,1295.33 1208.95,1295.68 1215.64,1296.03 1222.33,1296.39 1229.02,1296.74 1235.71,1297.1 1242.4,1297.45 1249.09,1297.8 1255.78,1298.16 1262.47,1298.51 1269.16,1298.87 1275.85,1299.22 1282.54,1299.58 1289.23,1299.94 1295.92,1300.29 1302.61,1300.65 1309.3,1301.01 1315.99,1301.36 1322.68,1301.72 1329.37,1302.08 1336.06,1302.44 1342.75,1302.79 1349.44,1303.15 1356.13,1303.51 1362.82,1303.87 1369.51,1304.23 1376.2,1304.59 1382.89,1304.95 1389.58,1305.31 1396.27,1305.67 1402.96,1306.03 1409.65,1306.39 1416.34,1306.75 1423.03,1307.12 1429.72,1307.48 1436.41,1307.84 1443.1,1308.2 1449.79,1308.57 1456.48,1308.93 1463.17,1309.3 1469.86,1309.66 1476.55,1310.02 1483.24,1310.39 1489.93,1310.76 1496.62,1311.12 1503.31,1311.49 1510,1311.85 1516.69,1312.22 1523.38,1312.59 1530.07,1312.96 1536.76,1313.32 1543.45,1313.69 1550.14,1314.06 1556.83,1314.43 1563.52,1314.8 1570.21,1315.17 1576.9,1315.54 1583.59,1315.91 1590.28,1316.28 1596.97,1316.65 1603.66,1317.03 1610.35,1317.4 1617.04,1317.77 1623.73,1318.15 1630.42,1318.52 1637.11,1318.89 1643.8,1319.27 1650.49,1319.64 1657.18,1320.02 1663.87,1320.39 1670.56,1320.77 1677.25,1321.15 1683.94,1321.53 1690.63,1321.9 1697.32,1322.28 1704.01,1322.66 1710.71,1323.04 1717.4,1323.42 1724.09,1323.8 1730.78,1324.18 1737.47,1324.56 1744.16,1324.94 1750.85,1325.32 1757.54,1325.7 1764.23,1326.09 1770.92,1326.47 1777.61,1326.85 1784.3,1327.24 1790.99,1327.62 1797.68,1328.01 1804.37,1328.39 1811.06,1328.78 1817.75,1329.16 1824.44,1329.55 1831.13,1329.94 1837.82,1330.33 1844.51,1330.71 1851.2,1331.1 1857.89,1331.49 1864.58,1331.88 1871.27,1332.27 1877.96,1332.66 1884.65,1333.05 1891.34,1333.45 1898.03,1333.84 1904.72,1334.23 1911.41,1334.62 1918.1,1335.02 1924.79,1335.41 1931.48,1335.8 1938.17,1336.2 1944.86,1336.59 1951.55,1336.99 1958.24,1337.39 1964.93,1337.78 1971.62,1338.18 1978.31,1338.58 1985,1338.98 1991.69,1339.37 1998.38,1339.77 2005.07,1340.17 2011.76,1340.57 2018.45,1340.97 2025.14,1341.37 2031.83,1341.78 2038.52,1342.18 2045.21,1342.58 2051.9,1342.98 2058.59,1343.38 2065.28,1343.79 2071.97,1344.19 2078.66,1344.6 2085.35,1345 2092.04,1345.41 2098.73,1345.81 2105.42,1346.22 2112.11,1346.62 2118.8,1347.03 2125.49,1347.44 2132.18,1347.85 2138.87,1348.25 2145.56,1348.66 2152.25,1349.07 2158.94,1349.48 2165.63,1349.89 2172.32,1350.3 2179.01,1350.71 2185.7,1351.12 2192.39,1351.53 2199.08,1351.94 2205.77,1352.35 2212.46,1352.77 2219.15,1353.18 2225.84,1353.59 2232.53,1354 2239.22,1354.42 2245.91,1354.83 2252.6,1355.24 2259.29,1355.66 2265.99,1356.07 2272.68,1356.49 2279.37,1356.9 2286.06,1357.32 2292.75,1357.73 \"/>\n",
       "<polyline clip-path=\"url(#clip212)\" style=\"stroke:#e26f46; stroke-linecap:round; stroke-linejoin:round; stroke-width:4; stroke-opacity:1; fill:none\" points=\"292.4,1386.4 299.09,1386.08 305.78,1385.76 312.47,1385.45 319.16,1385.13 325.85,1384.82 332.54,1384.5 339.231,1384.18 345.921,1383.87 352.611,1383.55 359.301,1383.23 365.991,1382.92 372.681,1382.6 379.371,1382.29 386.061,1381.97 392.752,1381.65 399.442,1381.34 406.132,1381.02 412.822,1380.7 419.512,1380.39 426.202,1380.07 432.892,1379.76 439.582,1379.44 446.272,1379.12 452.963,1378.81 459.653,1378.49 466.343,1378.18 473.033,1377.86 479.723,1377.54 486.413,1377.23 493.103,1376.91 499.793,1376.59 506.484,1376.28 513.174,1375.96 519.864,1375.64 526.554,1375.33 533.244,1375.01 539.934,1374.7 546.624,1374.38 553.314,1374.06 560.005,1373.75 566.695,1373.43 573.385,1373.11 580.075,1372.8 586.765,1372.48 593.455,1372.16 600.145,1371.85 606.835,1371.53 613.525,1371.22 620.216,1370.9 626.906,1370.58 633.596,1370.27 640.286,1369.95 646.976,1369.63 653.666,1369.32 660.356,1369 667.046,1368.68 673.737,1368.37 680.427,1368.05 687.117,1367.73 693.807,1367.42 700.497,1367.1 707.187,1366.78 713.877,1366.47 720.567,1366.15 727.258,1365.83 733.948,1365.52 740.638,1365.2 747.328,1364.88 754.018,1364.56 760.708,1364.25 767.398,1363.93 774.088,1363.61 780.778,1363.3 787.469,1362.98 794.159,1362.66 800.849,1362.34 807.539,1362.03 814.229,1361.71 820.919,1361.39 827.609,1361.08 834.299,1360.76 840.99,1360.44 847.68,1360.12 854.37,1359.81 861.06,1359.49 867.75,1359.17 874.44,1358.85 881.13,1358.53 887.82,1358.22 894.511,1357.9 901.201,1357.58 907.891,1357.26 914.581,1356.94 921.271,1356.62 927.961,1356.31 934.651,1355.99 941.341,1355.67 948.031,1355.35 954.722,1355.03 961.412,1354.71 968.102,1354.39 974.792,1354.07 981.482,1353.76 988.172,1353.44 994.862,1353.12 1001.55,1352.8 1008.24,1352.48 1014.93,1352.16 1021.62,1351.84 1028.31,1351.52 1035,1351.2 1041.69,1350.88 1048.38,1350.56 1055.07,1350.24 1061.76,1349.92 1068.45,1349.6 1075.14,1349.28 1081.83,1348.95 1088.52,1348.63 1095.21,1348.31 1101.9,1347.99 1108.59,1347.67 1115.28,1347.35 1121.97,1347.03 1128.66,1346.7 1135.35,1346.38 1142.04,1346.06 1148.74,1345.74 1155.43,1345.41 1162.12,1345.09 1168.81,1344.77 1175.5,1344.45 1182.19,1344.12 1188.88,1343.8 1195.57,1343.47 1202.26,1343.15 1208.95,1342.83 1215.64,1342.5 1222.33,1342.18 1229.02,1341.85 1235.71,1341.53 1242.4,1341.2 1249.09,1340.88 1255.78,1340.55 1262.47,1340.23 1269.16,1339.9 1275.85,1339.57 1282.54,1339.25 1289.23,1338.92 1295.92,1338.59 1302.61,1338.27 1309.3,1337.94 1315.99,1337.61 1322.68,1337.28 1329.37,1336.96 1336.06,1336.63 1342.75,1336.3 1349.44,1335.97 1356.13,1335.64 1362.82,1335.31 1369.51,1334.98 1376.2,1334.65 1382.89,1334.32 1389.58,1333.99 1396.27,1333.66 1402.96,1333.33 1409.65,1333 1416.34,1332.67 1423.03,1332.33 1429.72,1332 1436.41,1331.67 1443.1,1331.33 1449.79,1331 1456.48,1330.67 1463.17,1330.33 1469.86,1330 1476.55,1329.67 1483.24,1329.33 1489.93,1328.99 1496.62,1328.66 1503.31,1328.32 1510,1327.99 1516.69,1327.65 1523.38,1327.31 1530.07,1326.98 1536.76,1326.64 1543.45,1326.3 1550.14,1325.96 1556.83,1325.62 1563.52,1325.28 1570.21,1324.94 1576.9,1324.6 1583.59,1324.26 1590.28,1323.92 1596.97,1323.58 1603.66,1323.24 1610.35,1322.9 1617.04,1322.56 1623.73,1322.21 1630.42,1321.87 1637.11,1321.53 1643.8,1321.18 1650.49,1320.84 1657.18,1320.5 1663.87,1320.15 1670.56,1319.8 1677.25,1319.46 1683.94,1319.11 1690.63,1318.77 1697.32,1318.42 1704.01,1318.07 1710.71,1317.72 1717.4,1317.38 1724.09,1317.03 1730.78,1316.68 1737.47,1316.33 1744.16,1315.98 1750.85,1315.63 1757.54,1315.28 1764.23,1314.92 1770.92,1314.57 1777.61,1314.22 1784.3,1313.87 1790.99,1313.51 1797.68,1313.16 1804.37,1312.81 1811.06,1312.45 1817.75,1312.1 1824.44,1311.74 1831.13,1311.39 1837.82,1311.03 1844.51,1310.67 1851.2,1310.32 1857.89,1309.96 1864.58,1309.6 1871.27,1309.24 1877.96,1308.88 1884.65,1308.52 1891.34,1308.16 1898.03,1307.8 1904.72,1307.44 1911.41,1307.08 1918.1,1306.72 1924.79,1306.36 1931.48,1306 1938.17,1305.63 1944.86,1305.27 1951.55,1304.91 1958.24,1304.54 1964.93,1304.18 1971.62,1303.81 1978.31,1303.45 1985,1303.08 1991.69,1302.71 1998.38,1302.35 2005.07,1301.98 2011.76,1301.61 2018.45,1301.24 2025.14,1300.88 2031.83,1300.51 2038.52,1300.14 2045.21,1299.77 2051.9,1299.4 2058.59,1299.03 2065.28,1298.66 2071.97,1298.28 2078.66,1297.91 2085.35,1297.54 2092.04,1297.17 2098.73,1296.79 2105.42,1296.42 2112.11,1296.05 2118.8,1295.67 2125.49,1295.3 2132.18,1294.92 2138.87,1294.55 2145.56,1294.17 2152.25,1293.8 2158.94,1293.42 2165.63,1293.04 2172.32,1292.67 2179.01,1292.29 2185.7,1291.91 2192.39,1291.53 2199.08,1291.16 2205.77,1290.78 2212.46,1290.4 2219.15,1290.02 2225.84,1289.64 2232.53,1289.26 2239.22,1288.88 2245.91,1288.5 2252.6,1288.12 2259.29,1287.74 2265.99,1287.36 2272.68,1286.98 2279.37,1286.6 2286.06,1286.22 2292.75,1285.83 \"/>\n",
       "<polyline clip-path=\"url(#clip212)\" style=\"stroke:#3da44d; stroke-linecap:round; stroke-linejoin:round; stroke-width:4; stroke-opacity:1; fill:none\" points=\"292.4,160.256 299.09,160.35 305.78,160.449 312.47,160.553 319.16,160.662 325.85,160.776 332.54,160.895 339.231,161.019 345.921,161.148 352.611,161.281 359.301,161.419 365.991,161.561 372.681,161.708 379.371,161.86 386.061,162.016 392.752,162.176 399.442,162.34 406.132,162.509 412.822,162.682 419.512,162.859 426.202,163.04 432.892,163.225 439.582,163.414 446.272,163.606 452.963,163.803 459.653,164.003 466.343,164.207 473.033,164.415 479.723,164.626 486.413,164.841 493.103,165.059 499.793,165.281 506.484,165.506 513.174,165.734 519.864,165.965 526.554,166.2 533.244,166.438 539.934,166.679 546.624,166.923 553.314,167.17 560.005,167.42 566.695,167.673 573.385,167.929 580.075,168.188 586.765,168.449 593.455,168.713 600.145,168.98 606.835,169.25 613.525,169.522 620.216,169.796 626.906,170.073 633.596,170.353 640.286,170.635 646.976,170.919 653.666,171.206 660.356,171.495 667.046,171.786 673.737,172.079 680.427,172.374 687.117,172.672 693.807,172.971 700.497,173.273 707.187,173.577 713.877,173.882 720.567,174.19 727.258,174.499 733.948,174.81 740.638,175.123 747.328,175.438 754.018,175.755 760.708,176.073 767.398,176.393 774.088,176.714 780.778,177.037 787.469,177.362 794.159,177.688 800.849,178.015 807.539,178.344 814.229,178.675 820.919,179.007 827.609,179.34 834.299,179.674 840.99,180.01 847.68,180.347 854.37,180.685 861.06,181.025 867.75,181.365 874.44,181.707 881.13,182.05 887.82,182.394 894.511,182.739 901.201,183.085 907.891,183.432 914.581,183.78 921.271,184.128 927.961,184.478 934.651,184.829 941.341,185.18 948.031,185.533 954.722,185.886 961.412,186.24 968.102,186.595 974.792,186.95 981.482,187.306 988.172,187.663 994.862,188.021 1001.55,188.379 1008.24,188.737 1014.93,189.097 1021.62,189.457 1028.31,189.817 1035,190.178 1041.69,190.54 1048.38,190.902 1055.07,191.264 1061.76,191.627 1068.45,191.991 1075.14,192.354 1081.83,192.719 1088.52,193.083 1095.21,193.448 1101.9,193.813 1108.59,194.179 1115.28,194.545 1121.97,194.911 1128.66,195.277 1135.35,195.644 1142.04,196.011 1148.74,196.378 1155.43,196.746 1162.12,197.113 1168.81,197.481 1175.5,197.849 1182.19,198.217 1188.88,198.585 1195.57,198.953 1202.26,199.322 1208.95,199.69 1215.64,200.059 1222.33,200.427 1229.02,200.796 1235.71,201.165 1242.4,201.534 1249.09,201.902 1255.78,202.271 1262.47,202.64 1269.16,203.009 1275.85,203.378 1282.54,203.746 1289.23,204.115 1295.92,204.484 1302.61,204.852 1309.3,205.221 1315.99,205.589 1322.68,205.957 1329.37,206.325 1336.06,206.693 1342.75,207.061 1349.44,207.429 1356.13,207.797 1362.82,208.164 1369.51,208.532 1376.2,208.899 1382.89,209.266 1389.58,209.633 1396.27,210 1402.96,210.366 1409.65,210.733 1416.34,211.099 1423.03,211.465 1429.72,211.831 1436.41,212.196 1443.1,212.561 1449.79,212.926 1456.48,213.291 1463.17,213.656 1469.86,214.02 1476.55,214.384 1483.24,214.748 1489.93,215.112 1496.62,215.475 1503.31,215.839 1510,216.201 1516.69,216.564 1523.38,216.926 1530.07,217.288 1536.76,217.65 1543.45,218.012 1550.14,218.373 1556.83,218.734 1563.52,219.095 1570.21,219.455 1576.9,219.815 1583.59,220.175 1590.28,220.535 1596.97,220.894 1603.66,221.253 1610.35,221.612 1617.04,221.97 1623.73,222.328 1630.42,222.686 1637.11,223.044 1643.8,223.401 1650.49,223.758 1657.18,224.115 1663.87,224.471 1670.56,224.827 1677.25,225.183 1683.94,225.539 1690.63,225.894 1697.32,226.249 1704.01,226.604 1710.71,226.958 1717.4,227.312 1724.09,227.666 1730.78,228.02 1737.47,228.373 1744.16,228.726 1750.85,229.079 1757.54,229.431 1764.23,229.783 1770.92,230.135 1777.61,230.487 1784.3,230.838 1790.99,231.19 1797.68,231.54 1804.37,231.891 1811.06,232.241 1817.75,232.592 1824.44,232.941 1831.13,233.291 1837.82,233.64 1844.51,233.99 1851.2,234.339 1857.89,234.687 1864.58,235.036 1871.27,235.384 1877.96,235.732 1884.65,236.08 1891.34,236.427 1898.03,236.775 1904.72,237.122 1911.41,237.469 1918.1,237.816 1924.79,238.162 1931.48,238.509 1938.17,238.855 1944.86,239.201 1951.55,239.547 1958.24,239.892 1964.93,240.238 1971.62,240.583 1978.31,240.928 1985,241.273 1991.69,241.618 1998.38,241.963 2005.07,242.308 2011.76,242.652 2018.45,242.996 2025.14,243.34 2031.83,243.684 2038.52,244.028 2045.21,244.372 2051.9,244.716 2058.59,245.06 2065.28,245.403 2071.97,245.746 2078.66,246.09 2085.35,246.433 2092.04,246.776 2098.73,247.119 2105.42,247.462 2112.11,247.805 2118.8,248.148 2125.49,248.491 2132.18,248.834 2138.87,249.176 2145.56,249.519 2152.25,249.862 2158.94,250.204 2165.63,250.547 2172.32,250.889 2179.01,251.232 2185.7,251.574 2192.39,251.917 2199.08,252.259 2205.77,252.602 2212.46,252.944 2219.15,253.287 2225.84,253.629 2232.53,253.972 2239.22,254.314 2245.91,254.657 2252.6,255 2259.29,255.342 2265.99,255.685 2272.68,256.028 2279.37,256.371 2286.06,256.713 2292.75,257.056 \"/>\n",
       "<path clip-path=\"url(#clip210)\" d=\"M2027.42 374.156 L2282.08 374.156 L2282.08 166.796 L2027.42 166.796  Z\" fill=\"#ffffff\" fill-rule=\"evenodd\" fill-opacity=\"1\"/>\n",
       "<polyline clip-path=\"url(#clip210)\" style=\"stroke:#000000; stroke-linecap:round; stroke-linejoin:round; stroke-width:4; stroke-opacity:1; fill:none\" points=\"2027.42,374.156 2282.08,374.156 2282.08,166.796 2027.42,166.796 2027.42,374.156 \"/>\n",
       "<polyline clip-path=\"url(#clip210)\" style=\"stroke:#009af9; stroke-linecap:round; stroke-linejoin:round; stroke-width:4; stroke-opacity:1; fill:none\" points=\"2050.98,218.636 2192.34,218.636 \"/>\n",
       "<path clip-path=\"url(#clip210)\" d=\"M2215.9 225.684 L2215.9 209.99 L2220.16 209.99 L2220.16 225.522 Q2220.16 229.203 2221.6 231.055 Q2223.03 232.883 2225.9 232.883 Q2229.35 232.883 2231.34 230.684 Q2233.36 228.485 2233.36 224.689 L2233.36 209.99 L2237.61 209.99 L2237.61 235.916 L2233.36 235.916 L2233.36 231.934 Q2231.8 234.295 2229.74 235.453 Q2227.71 236.587 2225 236.587 Q2220.53 236.587 2218.22 233.809 Q2215.9 231.031 2215.9 225.684 M2226.62 209.365 L2226.62 209.365 Z\" fill=\"#000000\" fill-rule=\"evenodd\" fill-opacity=\"1\" /><path clip-path=\"url(#clip210)\" d=\"M2245.53 233.369 L2250.25 233.369 L2250.25 219.226 L2245.09 220.175 L2245.09 217.49 L2250.42 216.587 L2253.59 216.587 L2253.59 233.369 L2258.33 233.369 L2258.33 235.916 L2245.53 235.916 L2245.53 233.369 Z\" fill=\"#000000\" fill-rule=\"evenodd\" fill-opacity=\"1\" /><polyline clip-path=\"url(#clip210)\" style=\"stroke:#e26f46; stroke-linecap:round; stroke-linejoin:round; stroke-width:4; stroke-opacity:1; fill:none\" points=\"2050.98,270.476 2192.34,270.476 \"/>\n",
       "<path clip-path=\"url(#clip210)\" d=\"M2215.9 277.524 L2215.9 261.83 L2220.16 261.83 L2220.16 277.362 Q2220.16 281.043 2221.6 282.895 Q2223.03 284.723 2225.9 284.723 Q2229.35 284.723 2231.34 282.524 Q2233.36 280.325 2233.36 276.529 L2233.36 261.83 L2237.61 261.83 L2237.61 287.756 L2233.36 287.756 L2233.36 283.774 Q2231.8 286.135 2229.74 287.293 Q2227.71 288.427 2225 288.427 Q2220.53 288.427 2218.22 285.649 Q2215.9 282.871 2215.9 277.524 M2226.62 261.205 L2226.62 261.205 Z\" fill=\"#000000\" fill-rule=\"evenodd\" fill-opacity=\"1\" /><path clip-path=\"url(#clip210)\" d=\"M2248.12 285.117 L2257.94 285.117 L2257.94 287.756 L2244.1 287.756 L2244.1 285.209 Q2244.88 284.492 2246.34 283.196 Q2254.3 276.135 2254.3 273.959 Q2254.3 272.432 2253.1 271.506 Q2251.9 270.557 2249.93 270.557 Q2248.73 270.557 2247.31 270.973 Q2245.9 271.367 2244.24 272.177 L2244.24 269.33 Q2246.02 268.682 2247.55 268.358 Q2249.1 268.034 2250.42 268.034 Q2253.77 268.034 2255.79 269.561 Q2257.8 271.089 2257.8 273.589 Q2257.8 276.807 2250.14 283.381 Q2248.84 284.492 2248.12 285.117 Z\" fill=\"#000000\" fill-rule=\"evenodd\" fill-opacity=\"1\" /><polyline clip-path=\"url(#clip210)\" style=\"stroke:#3da44d; stroke-linecap:round; stroke-linejoin:round; stroke-width:4; stroke-opacity:1; fill:none\" points=\"2050.98,322.316 2192.34,322.316 \"/>\n",
       "<path clip-path=\"url(#clip210)\" d=\"M2215.9 329.364 L2215.9 313.67 L2220.16 313.67 L2220.16 329.202 Q2220.16 332.883 2221.6 334.735 Q2223.03 336.563 2225.9 336.563 Q2229.35 336.563 2231.34 334.364 Q2233.36 332.165 2233.36 328.369 L2233.36 313.67 L2237.61 313.67 L2237.61 339.596 L2233.36 339.596 L2233.36 335.614 Q2231.8 337.975 2229.74 339.133 Q2227.71 340.267 2225 340.267 Q2220.53 340.267 2218.22 337.489 Q2215.9 334.711 2215.9 329.364 M2226.62 313.045 L2226.62 313.045 Z\" fill=\"#000000\" fill-rule=\"evenodd\" fill-opacity=\"1\" /><path clip-path=\"url(#clip210)\" d=\"M2254.05 329.133 Q2256.18 329.549 2257.34 330.823 Q2258.52 332.073 2258.52 333.971 Q2258.52 336.841 2256.32 338.392 Q2254.12 339.943 2250.02 339.943 Q2248.7 339.943 2247.24 339.688 Q2245.81 339.457 2244.19 338.994 L2244.19 336.193 Q2245.39 336.818 2246.76 337.119 Q2248.15 337.42 2249.7 337.42 Q2252.22 337.42 2253.61 336.517 Q2255 335.591 2255 333.971 Q2255 332.258 2253.7 331.378 Q2252.43 330.499 2249.93 330.499 L2247.94 330.499 L2247.94 327.999 L2250.11 327.999 Q2252.29 327.999 2253.4 327.281 Q2254.54 326.54 2254.54 325.151 Q2254.54 323.809 2253.38 323.114 Q2252.22 322.397 2250.02 322.397 Q2249.1 322.397 2247.92 322.605 Q2246.74 322.813 2244.86 323.346 L2244.86 320.684 Q2246.55 320.29 2248.03 320.082 Q2249.51 319.874 2250.79 319.874 Q2254.12 319.874 2256.06 321.239 Q2258.03 322.605 2258.03 324.897 Q2258.03 326.494 2256.99 327.605 Q2255.95 328.716 2254.05 329.133 Z\" fill=\"#000000\" fill-rule=\"evenodd\" fill-opacity=\"1\" /></svg>\n"
      ]
     },
     "metadata": {},
     "output_type": "display_data"
    }
   ],
   "source": [
    "# Let's solve\n",
    "include(\"mpc_JuMP.jl\")\n",
    "\n",
    "nx = 6\n",
    "nu = 3\n",
    "N = 301\n",
    "dt = 0.05\n",
    "t_vec = dt*(0:N-1)\n",
    "x0 = [4, 2, 20, -3, 2, -5.0]\n",
    "xg = [0,0,0,0,0,0.0]\n",
    "Xref = [deepcopy(xg) for i = 1:N]\n",
    "Uref = [zeros(nu) for i = 1:N-1]\n",
    "\n",
    "Q = 1e-1*I(nx)\n",
    "R = 1e-0*I(nu)\n",
    "Qf = 100*I(nx)\n",
    "\n",
    "# ground_level = 0.0\n",
    "gravity = [0; 0; -9.81]\n",
    "mass = 10.0\n",
    "# ωPlanet = [0.0; 0.0; 0.0]\n",
    "perWeightMax = 2.0\n",
    "θ_thrust_max = 5.0  # deg\n",
    "# θ_glideslope = 60.0 # deg\n",
    "# glide_recover_k = 8\n",
    "\n",
    "A_cone = [1 0 0; 0 1 0]\n",
    "c_cone = [0.0, 0.0, tand(θ_thrust_max)]\n",
    "u_bnd = mass * abs(gravity[3]) * perWeightMax\n",
    "u_min = -170*ones(nu)\n",
    "u_max =  170*ones(nu)\n",
    "\n",
    "# state is x y v θ\n",
    "x_min = [-5,-5,0,-10,-10,-10.0]\n",
    "x_max = [5,5,20,10,10,10.0]\n",
    "\n",
    "ncx = 2*nx*0\n",
    "ncu = 2*nu*0\n",
    "ncg = 1\n",
    "ncu_cone = nu*1; \n",
    "cone_scale = 1e0  # very fragile for each problem\n",
    "\n",
    "params = (\n",
    "    nx = nx,\n",
    "    nu = nu,\n",
    "    ncx = ncx,\n",
    "    ncu = ncu,\n",
    "    ncg = ncg,\n",
    "    ncu_cone = ncu_cone,\n",
    "    A_cone = A_cone,\n",
    "    c_cone = c_cone,\n",
    "    N = N,\n",
    "    Q = Q,\n",
    "    R = R,\n",
    "    Qf = Qf,\n",
    "    u_min = u_min,\n",
    "    u_max = u_max,\n",
    "    x_min = x_min,\n",
    "    x_max = x_max,\n",
    "    Xref = Xref,\n",
    "    Uref = Uref,\n",
    "    dt = dt,\n",
    "    mc = 1.0,\n",
    "    mp = 0.2,\n",
    "    l = 0.5,\n",
    "    g = 9.81,\n",
    ");\n",
    "\n",
    "# previous iterate\n",
    "X = [deepcopy(x0) for i = 1:N]\n",
    "U = [zeros(nu) for k = 1:N-1]\n",
    "# X = Xref*1\n",
    "# U = Uref*1\n",
    "# new iterate\n",
    "Xn = deepcopy(X)\n",
    "Un = deepcopy(U)\n",
    "\n",
    "P = [zeros(nx,nx) for i = 1:N]   # cost to go quadratic term\n",
    "p = [zeros(nx) for i = 1:N]      # cost to go linear term\n",
    "d = [zeros(nu) for i = 1:N-1]    # feedforward control\n",
    "K = [zeros(nu,nx) for i = 1:N-1] # feedback gain\n",
    "\n",
    "include(\"mpc_JuMP.jl\")\n",
    "optimizer = JuMP.optimizer_with_attributes(COSMO.Optimizer,\n",
    "    \"verbose\"=>false,\n",
    "    \"eps_abs\"=>1e-4,\n",
    "    \"eps_rel\"=>1e-4,\n",
    "    \"rho\"=>1e-2,\n",
    "    \"scaling\"=>0,\n",
    "    \"alpha\"=>1.0)\n",
    "# trajopt_JuMP(optimizer, params, Xn, Un, A, B, f; warm_start=true)\n",
    "u_ = mpc(params,X,U,P,p,K,d,Xn,Un; atol=1e-4, max_iters = 20, verbose = true, ρ = 1e0, ϕ = 10.0);\n",
    "function mat_from_vec(X::Vector{Vector{Float64}})::Matrix\n",
    "    # convert a vector of vectors to a matrix \n",
    "    Xm = hcat(X...)\n",
    "    return Xm \n",
    "end\n",
    "Xsim_m = mat_from_vec(Xn)\n",
    "Usim_m = mat_from_vec(Un)\n",
    "using Plots\n",
    "display(plot(t_vec,Xsim_m',label = [\"x₁\" \"x₂\" \"x₃\" \"ẋ₁\" \"ẋ₂\" \"ẋ₃\"],linestyle=[:solid :solid :solid :dash :dash :dash],\n",
    "             title = \"State History\",\n",
    "             xlabel = \"time (s)\", ylabel = \"x\"))\n",
    "display(plot(t_vec[1:end-1],Usim_m',label = [\"u₁\" \"u₂\" \"u₃\"],\n",
    "             title = \"Input History\",\n",
    "             xlabel = \"time (s)\", ylabel = \"u\"))"
   ]
  },
  {
   "cell_type": "markdown",
   "id": "416df651-52ee-4c43-93e5-aca23c5630b2",
   "metadata": {},
   "source": [
    "For TrajOpt, it needs more tricks to get better results:\n",
    "- Hessian of the projection => better approximation (done)\n",
    "- Scaling between conic constraints and other ones (1/rho, Zac did not buy it)\n",
    "- Solution polishing?\n",
    "\n",
    "Maybe, we don't care about TrajOpt problem, except from a good initial guess, there is nothing we can tune to get better performance. How about reset mpc?"
   ]
  },
  {
   "cell_type": "code",
   "execution_count": 138,
   "id": "12ec6530-7479-455f-843a-81d2c40fb13a",
   "metadata": {},
   "outputs": [
    {
     "data": {
      "text/plain": [
       "0.0"
      ]
     },
     "metadata": {},
     "output_type": "display_data"
    },
    {
     "data": {
      "text/plain": [
       "0.0"
      ]
     },
     "metadata": {},
     "output_type": "display_data"
    },
    {
     "data": {
      "text/plain": [
       "0.0"
      ]
     },
     "metadata": {},
     "output_type": "display_data"
    },
    {
     "data": {
      "text/plain": [
       "0.0"
      ]
     },
     "metadata": {},
     "output_type": "display_data"
    },
    {
     "data": {
      "text/plain": [
       "0.0"
      ]
     },
     "metadata": {},
     "output_type": "display_data"
    },
    {
     "data": {
      "text/plain": [
       "0.0"
      ]
     },
     "metadata": {},
     "output_type": "display_data"
    },
    {
     "data": {
      "text/plain": [
       "0.0"
      ]
     },
     "metadata": {},
     "output_type": "display_data"
    },
    {
     "data": {
      "text/plain": [
       "0.0"
      ]
     },
     "metadata": {},
     "output_type": "display_data"
    },
    {
     "data": {
      "text/plain": [
       "0.0"
      ]
     },
     "metadata": {},
     "output_type": "display_data"
    },
    {
     "data": {
      "text/plain": [
       "0.0"
      ]
     },
     "metadata": {},
     "output_type": "display_data"
    },
    {
     "data": {
      "text/plain": [
       "0.0"
      ]
     },
     "metadata": {},
     "output_type": "display_data"
    },
    {
     "data": {
      "text/plain": [
       "0.0"
      ]
     },
     "metadata": {},
     "output_type": "display_data"
    },
    {
     "data": {
      "text/plain": [
       "0.0"
      ]
     },
     "metadata": {},
     "output_type": "display_data"
    },
    {
     "data": {
      "text/plain": [
       "0.0"
      ]
     },
     "metadata": {},
     "output_type": "display_data"
    },
    {
     "data": {
      "text/plain": [
       "0.0"
      ]
     },
     "metadata": {},
     "output_type": "display_data"
    },
    {
     "data": {
      "text/plain": [
       "0.0"
      ]
     },
     "metadata": {},
     "output_type": "display_data"
    },
    {
     "data": {
      "text/plain": [
       "0.0"
      ]
     },
     "metadata": {},
     "output_type": "display_data"
    },
    {
     "data": {
      "text/plain": [
       "0.0"
      ]
     },
     "metadata": {},
     "output_type": "display_data"
    },
    {
     "data": {
      "text/plain": [
       "0.0"
      ]
     },
     "metadata": {},
     "output_type": "display_data"
    },
    {
     "data": {
      "text/plain": [
       "0.0"
      ]
     },
     "metadata": {},
     "output_type": "display_data"
    },
    {
     "data": {
      "text/plain": [
       "0.0"
      ]
     },
     "metadata": {},
     "output_type": "display_data"
    },
    {
     "data": {
      "text/plain": [
       "0.0"
      ]
     },
     "metadata": {},
     "output_type": "display_data"
    },
    {
     "data": {
      "text/plain": [
       "0.0"
      ]
     },
     "metadata": {},
     "output_type": "display_data"
    },
    {
     "data": {
      "text/plain": [
       "0.0"
      ]
     },
     "metadata": {},
     "output_type": "display_data"
    },
    {
     "data": {
      "text/plain": [
       "0.0"
      ]
     },
     "metadata": {},
     "output_type": "display_data"
    },
    {
     "data": {
      "text/plain": [
       "0.0"
      ]
     },
     "metadata": {},
     "output_type": "display_data"
    },
    {
     "data": {
      "text/plain": [
       "0.0"
      ]
     },
     "metadata": {},
     "output_type": "display_data"
    },
    {
     "data": {
      "text/plain": [
       "0.0"
      ]
     },
     "metadata": {},
     "output_type": "display_data"
    },
    {
     "data": {
      "text/plain": [
       "0.0"
      ]
     },
     "metadata": {},
     "output_type": "display_data"
    },
    {
     "data": {
      "text/plain": [
       "0.0"
      ]
     },
     "metadata": {},
     "output_type": "display_data"
    }
   ],
   "source": [
    "# Check conic violation\n",
    "convio = 0.0\n",
    "for k = 1:30\n",
    "    Uc = cone_u(params, U[k])\n",
    "    huc = norm(Uc[1:2]) - Uc[3]\n",
    "    convio = norm(huc + abs.(huc),Inf)\n",
    "    display(huc) # should <= 0\n",
    "end\n",
    "Xref .= Xn;\n",
    "Uref .= Un;"
   ]
  },
  {
   "cell_type": "code",
   "execution_count": 142,
   "id": "5c8d15e2-a563-4077-96df-8f829ba24d00",
   "metadata": {},
   "outputs": [],
   "source": [
    "### MPC style with other solver ###\n",
    "include(\"mpc_JuMP.jl\")\n",
    "\n",
    "Nsim = 301\n",
    "Nh = 21\n",
    "t_vec = dt*(0:Nsim-1)\n",
    "\n",
    "x0 = [4, 2, 20, -3, 2, -5.0]  # initial plan\n",
    "# x0 = [5, 2, 21, -3, 2, -5.0]  # change this!\n",
    "# x0 = [4.4, 2.2, 20.2, -3.03, 2.02, -5.05]\n",
    "\n",
    "xg = [0,0,0,0,0,0.0]\n",
    "Q = 100e-1*I(nx)  # make this higher!\n",
    "R = 1e-1*I(nu)\n",
    "Qf = 10*I(nx) # change this!\n",
    "θ_thrust_max = 5.0  # increase max thrust from plan!\n",
    "\n",
    "# state is x y v θ\n",
    "x_min = [-5,-5,0,-10,-10,-10.0]\n",
    "x_max = [5,5,20,10,10,10.0]\n",
    "\n",
    "ncx = 2*nx*0\n",
    "ncu = 2*nu*0\n",
    "ncg = 0\n",
    "ncu_cone = nu*1; \n",
    "cone_scale = 1e0\n",
    "\n",
    "params = (\n",
    "    nx = nx,\n",
    "    nu = nu,\n",
    "    ncx = ncx,\n",
    "    ncu = ncu,\n",
    "    ncg = ncg,\n",
    "    ncu_cone = ncu_cone,\n",
    "    A_cone = A_cone,\n",
    "    c_cone = c_cone,\n",
    "    N = Nh,\n",
    "    Q = Q,\n",
    "    R = R,\n",
    "    Qf = Qf,\n",
    "    u_min = u_min,\n",
    "    u_max = u_max,\n",
    "    x_min = x_min,\n",
    "    x_max = x_max,\n",
    "    Xref = Xref,\n",
    "    Uref = Uref,\n",
    "    dt = dt,\n",
    "    mc = 1.0,\n",
    "    mp = 0.2,\n",
    "    l = 0.5,\n",
    "    g = 9.81,\n",
    ");\n",
    "\n",
    "Xhist = [deepcopy(x0) for i = 1:Nsim]\n",
    "Uhist = [-mass * gravity for k = 1:Nsim-1]\n",
    "# previous iterate\n",
    "X = [deepcopy(x0) for i = 1:Nh]\n",
    "U = [-mass * gravity for k = 1:Nh-1]\n",
    "\n",
    "# new iterate\n",
    "Xn = deepcopy(X)\n",
    "Un = deepcopy(U)\n",
    "\n",
    "P = [zeros(nx,nx) for i = 1:Nh]   # cost to go quadratic term\n",
    "p = [zeros(nx) for i = 1:Nh]      # cost to go linear term\n",
    "d = [zeros(nu) for i = 1:Nh-1]    # feedforward control\n",
    "K = [zeros(nu,nx) for i = 1:Nh-1] # feedback gain\n",
    "\n",
    "optimizer = JuMP.optimizer_with_attributes(COSMO.Optimizer,\n",
    "    \"verbose\"=>false,\n",
    "    \"eps_abs\"=>1e-4,\n",
    "    \"eps_rel\"=>1e-4,\n",
    "    \"rho\"=>1e-2,\n",
    "    \"scaling\"=>0,\n",
    "    \"alpha\"=>1.0)\n",
    "Random.seed!(1);\n",
    "for i = 1:Nsim-Nh-1\n",
    "    params1 = (; params..., Uref = Uref[i:Nh+i], Xref = Xref[i:Nh+i-1])  # update ref\n",
    "    \n",
    "    pos_norm = norm(Xhist[i][1:3], Inf) / 100 # 1% noise\n",
    "    vel_norm = norm(Xhist[4:6], Inf) / 1e6 # 1ppm noise\n",
    "    noise_pos = randn(3)\n",
    "    noise_vel = randn(3)\n",
    "    Xhist[i] += [noise_pos * pos_norm; noise_vel * vel_norm]\n",
    "    X[1] .= Xhist[i] \n",
    "    \n",
    "    Uhist[i] = mpc_JuMP(optimizer, params1, X, U, A, B, f; warm_start=false)\n",
    "    \n",
    "    # X = [Xhist[i] for i = 1:Nh]  # reset, avoid warm-staring\n",
    "    # U = [-mass * gravity for k = 1:Nh-1]\n",
    "    # X[1] .= Xhist[i]; Uhist[i] = mpc(params1,X,U,P,p,K,d,Xn,Un;atol=1e-4,max_iters = 10,verbose = false,ρ = 100, ϕ = 10.0) \n",
    "    \n",
    "    Xhist[i+1] = discrete_dynamics(params1,Xhist[i],Uhist[i],i)  # dynamics\n",
    "end"
   ]
  },
  {
   "cell_type": "markdown",
   "id": "4a1732ad-eb0e-48b4-8896-73a7e8b9997c",
   "metadata": {},
   "source": [
    "1. COSMO gives better tracking results\n",
    "2. Ours always need warm-start"
   ]
  },
  {
   "cell_type": "code",
   "execution_count": 143,
   "id": "d651f59e-e700-4bc9-927c-98835f2679f4",
   "metadata": {},
   "outputs": [
    {
     "data": {
      "text/plain": [
       "0.0013886049107535436"
      ]
     },
     "metadata": {},
     "output_type": "display_data"
    },
    {
     "data": {
      "text/plain": [
       "-7.252078298840628e-5"
      ]
     },
     "metadata": {},
     "output_type": "display_data"
    },
    {
     "data": {
      "text/plain": [
       "0.001084801728088738"
      ]
     },
     "metadata": {},
     "output_type": "display_data"
    },
    {
     "data": {
      "text/plain": [
       "0.00019480446896369408"
      ]
     },
     "metadata": {},
     "output_type": "display_data"
    },
    {
     "data": {
      "text/plain": [
       "0.0014363203908442368"
      ]
     },
     "metadata": {},
     "output_type": "display_data"
    },
    {
     "data": {
      "text/plain": [
       "-0.0007051146391978125"
      ]
     },
     "metadata": {},
     "output_type": "display_data"
    },
    {
     "data": {
      "text/plain": [
       "0.0008288337841428906"
      ]
     },
     "metadata": {},
     "output_type": "display_data"
    },
    {
     "data": {
      "text/plain": [
       "0.0002971867471793936"
      ]
     },
     "metadata": {},
     "output_type": "display_data"
    },
    {
     "data": {
      "text/plain": [
       "0.00015397714111452254"
      ]
     },
     "metadata": {},
     "output_type": "display_data"
    },
    {
     "data": {
      "text/plain": [
       "-0.00022285613218819833"
      ]
     },
     "metadata": {},
     "output_type": "display_data"
    },
    {
     "data": {
      "text/plain": [
       "-0.0009578296598053981"
      ]
     },
     "metadata": {},
     "output_type": "display_data"
    },
    {
     "data": {
      "text/plain": [
       "-0.00020027757876306396"
      ]
     },
     "metadata": {},
     "output_type": "display_data"
    },
    {
     "data": {
      "text/plain": [
       "-0.00011557271455053808"
      ]
     },
     "metadata": {},
     "output_type": "display_data"
    },
    {
     "data": {
      "text/plain": [
       "0.00027486618272528116"
      ]
     },
     "metadata": {},
     "output_type": "display_data"
    },
    {
     "data": {
      "text/plain": [
       "0.0003532128196371821"
      ]
     },
     "metadata": {},
     "output_type": "display_data"
    },
    {
     "data": {
      "text/plain": [
       "0.0017469719277531937"
      ]
     },
     "metadata": {},
     "output_type": "display_data"
    },
    {
     "data": {
      "text/plain": [
       "0.0016761242974503432"
      ]
     },
     "metadata": {},
     "output_type": "display_data"
    },
    {
     "data": {
      "text/plain": [
       "0.0022537553787760345"
      ]
     },
     "metadata": {},
     "output_type": "display_data"
    },
    {
     "data": {
      "text/plain": [
       "-0.0004635421694771935"
      ]
     },
     "metadata": {},
     "output_type": "display_data"
    },
    {
     "data": {
      "text/plain": [
       "-0.8016311170132013"
      ]
     },
     "metadata": {},
     "output_type": "display_data"
    },
    {
     "data": {
      "text/plain": [
       "0.0004725901101032548"
      ]
     },
     "metadata": {},
     "output_type": "display_data"
    },
    {
     "data": {
      "text/plain": [
       "-0.0029266069788533855"
      ]
     },
     "metadata": {},
     "output_type": "display_data"
    },
    {
     "data": {
      "text/plain": [
       "0.00013321452016867852"
      ]
     },
     "metadata": {},
     "output_type": "display_data"
    },
    {
     "data": {
      "text/plain": [
       "-0.0002974786679903474"
      ]
     },
     "metadata": {},
     "output_type": "display_data"
    },
    {
     "data": {
      "text/plain": [
       "-0.0008174053624649957"
      ]
     },
     "metadata": {},
     "output_type": "display_data"
    },
    {
     "data": {
      "text/plain": [
       "-0.00226870799668788"
      ]
     },
     "metadata": {},
     "output_type": "display_data"
    },
    {
     "data": {
      "text/plain": [
       "-6.875619904000985e-5"
      ]
     },
     "metadata": {},
     "output_type": "display_data"
    },
    {
     "data": {
      "text/plain": [
       "-0.00010001404883652754"
      ]
     },
     "metadata": {},
     "output_type": "display_data"
    },
    {
     "data": {
      "text/plain": [
       "-0.000712553696400775"
      ]
     },
     "metadata": {},
     "output_type": "display_data"
    },
    {
     "data": {
      "text/plain": [
       "0.0005857234871236017"
      ]
     },
     "metadata": {},
     "output_type": "display_data"
    },
    {
     "data": {
      "text/plain": [
       "-0.0011725982944206237"
      ]
     },
     "metadata": {},
     "output_type": "display_data"
    },
    {
     "data": {
      "text/plain": [
       "-2.2314620869323676e-5"
      ]
     },
     "metadata": {},
     "output_type": "display_data"
    },
    {
     "data": {
      "text/plain": [
       "-0.0004009795780017811"
      ]
     },
     "metadata": {},
     "output_type": "display_data"
    },
    {
     "data": {
      "text/plain": [
       "0.0003771692527916315"
      ]
     },
     "metadata": {},
     "output_type": "display_data"
    },
    {
     "data": {
      "text/plain": [
       "-4.722725657124727e-5"
      ]
     },
     "metadata": {},
     "output_type": "display_data"
    },
    {
     "data": {
      "text/plain": [
       "-0.00039961520029763165"
      ]
     },
     "metadata": {},
     "output_type": "display_data"
    },
    {
     "data": {
      "text/plain": [
       "0.00046402687507907103"
      ]
     },
     "metadata": {},
     "output_type": "display_data"
    },
    {
     "data": {
      "text/plain": [
       "0.0021373245345426284"
      ]
     },
     "metadata": {},
     "output_type": "display_data"
    },
    {
     "data": {
      "text/plain": [
       "3.140642044563435e-5"
      ]
     },
     "metadata": {},
     "output_type": "display_data"
    },
    {
     "data": {
      "text/plain": [
       "0.00011620145062707365"
      ]
     },
     "metadata": {},
     "output_type": "display_data"
    },
    {
     "data": {
      "text/plain": [
       "0.0007766701637397233"
      ]
     },
     "metadata": {},
     "output_type": "display_data"
    },
    {
     "data": {
      "text/plain": [
       "9.125699532752662e-5"
      ]
     },
     "metadata": {},
     "output_type": "display_data"
    },
    {
     "data": {
      "text/plain": [
       "-0.0001451689619607066"
      ]
     },
     "metadata": {},
     "output_type": "display_data"
    },
    {
     "data": {
      "text/plain": [
       "-0.0006384922922837433"
      ]
     },
     "metadata": {},
     "output_type": "display_data"
    },
    {
     "data": {
      "text/plain": [
       "-0.0003250139539012764"
      ]
     },
     "metadata": {},
     "output_type": "display_data"
    },
    {
     "data": {
      "text/plain": [
       "0.00026493286180695463"
      ]
     },
     "metadata": {},
     "output_type": "display_data"
    },
    {
     "data": {
      "text/plain": [
       "0.0003855389836342482"
      ]
     },
     "metadata": {},
     "output_type": "display_data"
    },
    {
     "data": {
      "text/plain": [
       "0.00012514540227925863"
      ]
     },
     "metadata": {},
     "output_type": "display_data"
    },
    {
     "data": {
      "text/plain": [
       "0.0002805910120677879"
      ]
     },
     "metadata": {},
     "output_type": "display_data"
    },
    {
     "data": {
      "text/plain": [
       "0.0012533925086426478"
      ]
     },
     "metadata": {},
     "output_type": "display_data"
    },
    {
     "data": {
      "text/plain": [
       "1.6252955287399118e-5"
      ]
     },
     "metadata": {},
     "output_type": "display_data"
    },
    {
     "data": {
      "text/plain": [
       "-0.0003351815335221886"
      ]
     },
     "metadata": {},
     "output_type": "display_data"
    },
    {
     "data": {
      "text/plain": [
       "-8.555046134617328e-6"
      ]
     },
     "metadata": {},
     "output_type": "display_data"
    },
    {
     "data": {
      "text/plain": [
       "0.0008931193894134992"
      ]
     },
     "metadata": {},
     "output_type": "display_data"
    },
    {
     "data": {
      "text/plain": [
       "-0.00023276497090840564"
      ]
     },
     "metadata": {},
     "output_type": "display_data"
    },
    {
     "data": {
      "text/plain": [
       "-0.0002611026715424458"
      ]
     },
     "metadata": {},
     "output_type": "display_data"
    },
    {
     "data": {
      "text/plain": [
       "0.0008853198244977989"
      ]
     },
     "metadata": {},
     "output_type": "display_data"
    },
    {
     "data": {
      "text/plain": [
       "-0.001410386240658923"
      ]
     },
     "metadata": {},
     "output_type": "display_data"
    },
    {
     "data": {
      "text/plain": [
       "0.0005869322688774048"
      ]
     },
     "metadata": {},
     "output_type": "display_data"
    },
    {
     "data": {
      "text/plain": [
       "-7.308364086355823e-6"
      ]
     },
     "metadata": {},
     "output_type": "display_data"
    },
    {
     "data": {
      "text/plain": [
       "8.449512313113416e-5"
      ]
     },
     "metadata": {},
     "output_type": "display_data"
    },
    {
     "data": {
      "text/plain": [
       "0.0005947956319989345"
      ]
     },
     "metadata": {},
     "output_type": "display_data"
    },
    {
     "data": {
      "text/plain": [
       "-6.908717434939149e-5"
      ]
     },
     "metadata": {},
     "output_type": "display_data"
    },
    {
     "data": {
      "text/plain": [
       "-0.00018670223118810725"
      ]
     },
     "metadata": {},
     "output_type": "display_data"
    },
    {
     "data": {
      "text/plain": [
       "-4.9693539789785746e-6"
      ]
     },
     "metadata": {},
     "output_type": "display_data"
    },
    {
     "data": {
      "text/plain": [
       "-0.00019764179611314603"
      ]
     },
     "metadata": {},
     "output_type": "display_data"
    },
    {
     "data": {
      "text/plain": [
       "-0.00010657711010786386"
      ]
     },
     "metadata": {},
     "output_type": "display_data"
    },
    {
     "data": {
      "text/plain": [
       "9.979317049157999e-6"
      ]
     },
     "metadata": {},
     "output_type": "display_data"
    },
    {
     "data": {
      "text/plain": [
       "-7.394868885768346e-5"
      ]
     },
     "metadata": {},
     "output_type": "display_data"
    },
    {
     "data": {
      "text/plain": [
       "-0.00018857271985162072"
      ]
     },
     "metadata": {},
     "output_type": "display_data"
    },
    {
     "data": {
      "text/plain": [
       "-0.0005479456639729818"
      ]
     },
     "metadata": {},
     "output_type": "display_data"
    },
    {
     "data": {
      "text/plain": [
       "-2.424039711002024e-5"
      ]
     },
     "metadata": {},
     "output_type": "display_data"
    },
    {
     "data": {
      "text/plain": [
       "0.0001220901602909663"
      ]
     },
     "metadata": {},
     "output_type": "display_data"
    },
    {
     "data": {
      "text/plain": [
       "2.3321834772715988e-5"
      ]
     },
     "metadata": {},
     "output_type": "display_data"
    },
    {
     "data": {
      "text/plain": [
       "-0.0013765956503881682"
      ]
     },
     "metadata": {},
     "output_type": "display_data"
    },
    {
     "data": {
      "text/plain": [
       "6.061177908911475e-5"
      ]
     },
     "metadata": {},
     "output_type": "display_data"
    },
    {
     "data": {
      "text/plain": [
       "6.745757105974803e-5"
      ]
     },
     "metadata": {},
     "output_type": "display_data"
    },
    {
     "data": {
      "text/plain": [
       "0.0001911804978043108"
      ]
     },
     "metadata": {},
     "output_type": "display_data"
    },
    {
     "data": {
      "text/plain": [
       "0.0001134380751217634"
      ]
     },
     "metadata": {},
     "output_type": "display_data"
    },
    {
     "data": {
      "text/plain": [
       "3.704965390483039e-5"
      ]
     },
     "metadata": {},
     "output_type": "display_data"
    },
    {
     "data": {
      "text/plain": [
       "-6.300939407566375e-6"
      ]
     },
     "metadata": {},
     "output_type": "display_data"
    },
    {
     "data": {
      "text/plain": [
       "0.0006025532477327289"
      ]
     },
     "metadata": {},
     "output_type": "display_data"
    },
    {
     "data": {
      "text/plain": [
       "-0.0010946081887066583"
      ]
     },
     "metadata": {},
     "output_type": "display_data"
    },
    {
     "data": {
      "text/plain": [
       "-6.266169910063013e-5"
      ]
     },
     "metadata": {},
     "output_type": "display_data"
    },
    {
     "data": {
      "text/plain": [
       "-0.0006571976586489114"
      ]
     },
     "metadata": {},
     "output_type": "display_data"
    },
    {
     "data": {
      "text/plain": [
       "-9.37966619964925e-5"
      ]
     },
     "metadata": {},
     "output_type": "display_data"
    },
    {
     "data": {
      "text/plain": [
       "-0.0005885225504762559"
      ]
     },
     "metadata": {},
     "output_type": "display_data"
    },
    {
     "data": {
      "text/plain": [
       "4.249637829722985e-5"
      ]
     },
     "metadata": {},
     "output_type": "display_data"
    },
    {
     "data": {
      "text/plain": [
       "0.0003581727027173187"
      ]
     },
     "metadata": {},
     "output_type": "display_data"
    },
    {
     "data": {
      "text/plain": [
       "0.001181459420459774"
      ]
     },
     "metadata": {},
     "output_type": "display_data"
    },
    {
     "data": {
      "text/plain": [
       "0.00030427131477850367"
      ]
     },
     "metadata": {},
     "output_type": "display_data"
    },
    {
     "data": {
      "text/plain": [
       "0.0014008351470069513"
      ]
     },
     "metadata": {},
     "output_type": "display_data"
    },
    {
     "data": {
      "text/plain": [
       "0.00045747441793686505"
      ]
     },
     "metadata": {},
     "output_type": "display_data"
    },
    {
     "data": {
      "text/plain": [
       "8.687307780341769e-5"
      ]
     },
     "metadata": {},
     "output_type": "display_data"
    },
    {
     "data": {
      "text/plain": [
       "5.150056654912305e-5"
      ]
     },
     "metadata": {},
     "output_type": "display_data"
    },
    {
     "data": {
      "text/plain": [
       "-0.0001447604000137659"
      ]
     },
     "metadata": {},
     "output_type": "display_data"
    },
    {
     "data": {
      "text/plain": [
       "-0.0006802378932988518"
      ]
     },
     "metadata": {},
     "output_type": "display_data"
    },
    {
     "data": {
      "text/plain": [
       "0.00012600749331603822"
      ]
     },
     "metadata": {},
     "output_type": "display_data"
    },
    {
     "data": {
      "text/plain": [
       "-3.101805222627263e-5"
      ]
     },
     "metadata": {},
     "output_type": "display_data"
    },
    {
     "data": {
      "text/plain": [
       "0.0004833567999220634"
      ]
     },
     "metadata": {},
     "output_type": "display_data"
    },
    {
     "data": {
      "text/plain": [
       "-1.2962516565906412e-5"
      ]
     },
     "metadata": {},
     "output_type": "display_data"
    },
    {
     "data": {
      "text/plain": [
       "-0.0003936316431065734"
      ]
     },
     "metadata": {},
     "output_type": "display_data"
    },
    {
     "data": {
      "text/plain": [
       "3.863640175794103e-5"
      ]
     },
     "metadata": {},
     "output_type": "display_data"
    },
    {
     "data": {
      "text/plain": [
       "-0.00040068897714196083"
      ]
     },
     "metadata": {},
     "output_type": "display_data"
    },
    {
     "data": {
      "text/plain": [
       "0.000846583031364645"
      ]
     },
     "metadata": {},
     "output_type": "display_data"
    },
    {
     "data": {
      "text/plain": [
       "4.516802105669626e-5"
      ]
     },
     "metadata": {},
     "output_type": "display_data"
    },
    {
     "data": {
      "text/plain": [
       "-0.00012335379290639992"
      ]
     },
     "metadata": {},
     "output_type": "display_data"
    },
    {
     "data": {
      "text/plain": [
       "-0.00014244830013687704"
      ]
     },
     "metadata": {},
     "output_type": "display_data"
    },
    {
     "data": {
      "text/plain": [
       "-2.5643872698211112e-5"
      ]
     },
     "metadata": {},
     "output_type": "display_data"
    },
    {
     "data": {
      "text/plain": [
       "-0.0001691817351829883"
      ]
     },
     "metadata": {},
     "output_type": "display_data"
    },
    {
     "data": {
      "text/plain": [
       "-2.719470641920907e-5"
      ]
     },
     "metadata": {},
     "output_type": "display_data"
    },
    {
     "data": {
      "text/plain": [
       "-1.3506299406884636e-5"
      ]
     },
     "metadata": {},
     "output_type": "display_data"
    },
    {
     "data": {
      "text/plain": [
       "-1.7776975202110634e-5"
      ]
     },
     "metadata": {},
     "output_type": "display_data"
    },
    {
     "data": {
      "text/plain": [
       "-3.5409032381750194e-5"
      ]
     },
     "metadata": {},
     "output_type": "display_data"
    },
    {
     "data": {
      "text/plain": [
       "-6.133530973606582e-5"
      ]
     },
     "metadata": {},
     "output_type": "display_data"
    },
    {
     "data": {
      "text/plain": [
       "-3.3468140209436115e-5"
      ]
     },
     "metadata": {},
     "output_type": "display_data"
    },
    {
     "data": {
      "text/plain": [
       "-6.074405638933911e-5"
      ]
     },
     "metadata": {},
     "output_type": "display_data"
    },
    {
     "data": {
      "text/plain": [
       "-0.00014592097590515607"
      ]
     },
     "metadata": {},
     "output_type": "display_data"
    },
    {
     "data": {
      "text/plain": [
       "-0.00017000215323115242"
      ]
     },
     "metadata": {},
     "output_type": "display_data"
    },
    {
     "data": {
      "text/plain": [
       "-0.00017316010523060754"
      ]
     },
     "metadata": {},
     "output_type": "display_data"
    },
    {
     "data": {
      "text/plain": [
       "-0.00022456177740348693"
      ]
     },
     "metadata": {},
     "output_type": "display_data"
    },
    {
     "data": {
      "text/plain": [
       "-8.628354909490099e-5"
      ]
     },
     "metadata": {},
     "output_type": "display_data"
    },
    {
     "data": {
      "text/plain": [
       "8.753305905173647e-5"
      ]
     },
     "metadata": {},
     "output_type": "display_data"
    },
    {
     "data": {
      "text/plain": [
       "-3.43286563442291e-5"
      ]
     },
     "metadata": {},
     "output_type": "display_data"
    },
    {
     "data": {
      "text/plain": [
       "6.722283224291914e-6"
      ]
     },
     "metadata": {},
     "output_type": "display_data"
    },
    {
     "data": {
      "text/plain": [
       "4.27319688540706e-5"
      ]
     },
     "metadata": {},
     "output_type": "display_data"
    },
    {
     "data": {
      "text/plain": [
       "-5.25313604988753e-5"
      ]
     },
     "metadata": {},
     "output_type": "display_data"
    },
    {
     "data": {
      "text/plain": [
       "9.36193962051135e-5"
      ]
     },
     "metadata": {},
     "output_type": "display_data"
    },
    {
     "data": {
      "text/plain": [
       "0.001773210342022935"
      ]
     },
     "metadata": {},
     "output_type": "display_data"
    },
    {
     "data": {
      "text/plain": [
       "1.0062392483689564e-6"
      ]
     },
     "metadata": {},
     "output_type": "display_data"
    },
    {
     "data": {
      "text/plain": [
       "-0.00027070622701153013"
      ]
     },
     "metadata": {},
     "output_type": "display_data"
    },
    {
     "data": {
      "text/plain": [
       "-5.324781326976336e-7"
      ]
     },
     "metadata": {},
     "output_type": "display_data"
    },
    {
     "data": {
      "text/plain": [
       "-0.0005602246516698273"
      ]
     },
     "metadata": {},
     "output_type": "display_data"
    },
    {
     "data": {
      "text/plain": [
       "-3.242212072152029e-5"
      ]
     },
     "metadata": {},
     "output_type": "display_data"
    },
    {
     "data": {
      "text/plain": [
       "0.00013498025600000574"
      ]
     },
     "metadata": {},
     "output_type": "display_data"
    },
    {
     "data": {
      "text/plain": [
       "-0.00010888644463236119"
      ]
     },
     "metadata": {},
     "output_type": "display_data"
    },
    {
     "data": {
      "text/plain": [
       "2.093319143803285e-5"
      ]
     },
     "metadata": {},
     "output_type": "display_data"
    },
    {
     "data": {
      "text/plain": [
       "1.773037351959772e-5"
      ]
     },
     "metadata": {},
     "output_type": "display_data"
    },
    {
     "data": {
      "text/plain": [
       "0.00013637681092149023"
      ]
     },
     "metadata": {},
     "output_type": "display_data"
    },
    {
     "data": {
      "text/plain": [
       "0.001006919072617407"
      ]
     },
     "metadata": {},
     "output_type": "display_data"
    },
    {
     "data": {
      "text/plain": [
       "-0.0009777370878101266"
      ]
     },
     "metadata": {},
     "output_type": "display_data"
    },
    {
     "data": {
      "text/plain": [
       "1.1121280044434911e-5"
      ]
     },
     "metadata": {},
     "output_type": "display_data"
    },
    {
     "data": {
      "text/plain": [
       "0.0001582171454792558"
      ]
     },
     "metadata": {},
     "output_type": "display_data"
    },
    {
     "data": {
      "text/plain": [
       "-0.0001080115854303898"
      ]
     },
     "metadata": {},
     "output_type": "display_data"
    },
    {
     "data": {
      "text/plain": [
       "0.0015150279297557745"
      ]
     },
     "metadata": {},
     "output_type": "display_data"
    },
    {
     "data": {
      "text/plain": [
       "0.00026012029594291164"
      ]
     },
     "metadata": {},
     "output_type": "display_data"
    },
    {
     "data": {
      "text/plain": [
       "0.00048390174352164195"
      ]
     },
     "metadata": {},
     "output_type": "display_data"
    },
    {
     "data": {
      "text/plain": [
       "-0.000677670878285852"
      ]
     },
     "metadata": {},
     "output_type": "display_data"
    },
    {
     "data": {
      "text/plain": [
       "0.0005601183060388593"
      ]
     },
     "metadata": {},
     "output_type": "display_data"
    },
    {
     "data": {
      "text/plain": [
       "1.6974813680903367e-5"
      ]
     },
     "metadata": {},
     "output_type": "display_data"
    },
    {
     "data": {
      "text/plain": [
       "-6.143879110354078e-6"
      ]
     },
     "metadata": {},
     "output_type": "display_data"
    },
    {
     "data": {
      "text/plain": [
       "-0.0006142391751513543"
      ]
     },
     "metadata": {},
     "output_type": "display_data"
    },
    {
     "data": {
      "text/plain": [
       "-7.227181311364461e-5"
      ]
     },
     "metadata": {},
     "output_type": "display_data"
    },
    {
     "data": {
      "text/plain": [
       "7.275979321264003e-7"
      ]
     },
     "metadata": {},
     "output_type": "display_data"
    },
    {
     "data": {
      "text/plain": [
       "-1.8211561396697107e-6"
      ]
     },
     "metadata": {},
     "output_type": "display_data"
    },
    {
     "data": {
      "text/plain": [
       "-0.0002475635620751149"
      ]
     },
     "metadata": {},
     "output_type": "display_data"
    },
    {
     "data": {
      "text/plain": [
       "-6.221420713714565e-6"
      ]
     },
     "metadata": {},
     "output_type": "display_data"
    },
    {
     "data": {
      "text/plain": [
       "-0.00010850683791829852"
      ]
     },
     "metadata": {},
     "output_type": "display_data"
    },
    {
     "data": {
      "text/plain": [
       "7.956091252481201e-6"
      ]
     },
     "metadata": {},
     "output_type": "display_data"
    },
    {
     "data": {
      "text/plain": [
       "-3.608669685029042e-5"
      ]
     },
     "metadata": {},
     "output_type": "display_data"
    },
    {
     "data": {
      "text/plain": [
       "-2.7400017515333275e-5"
      ]
     },
     "metadata": {},
     "output_type": "display_data"
    },
    {
     "data": {
      "text/plain": [
       "-0.00013158077397434909"
      ]
     },
     "metadata": {},
     "output_type": "display_data"
    },
    {
     "data": {
      "text/plain": [
       "-1.711702289242112e-5"
      ]
     },
     "metadata": {},
     "output_type": "display_data"
    },
    {
     "data": {
      "text/plain": [
       "0.0002161890802145905"
      ]
     },
     "metadata": {},
     "output_type": "display_data"
    },
    {
     "data": {
      "text/plain": [
       "0.00028287728059339656"
      ]
     },
     "metadata": {},
     "output_type": "display_data"
    },
    {
     "data": {
      "text/plain": [
       "0.00034627131853248727"
      ]
     },
     "metadata": {},
     "output_type": "display_data"
    },
    {
     "data": {
      "text/plain": [
       "0.00010684105550318179"
      ]
     },
     "metadata": {},
     "output_type": "display_data"
    },
    {
     "data": {
      "text/plain": [
       "0.0008997952491238692"
      ]
     },
     "metadata": {},
     "output_type": "display_data"
    },
    {
     "data": {
      "text/plain": [
       "0.0001349400516659216"
      ]
     },
     "metadata": {},
     "output_type": "display_data"
    },
    {
     "data": {
      "text/plain": [
       "0.000684032916021593"
      ]
     },
     "metadata": {},
     "output_type": "display_data"
    },
    {
     "data": {
      "text/plain": [
       "2.313508225348926e-5"
      ]
     },
     "metadata": {},
     "output_type": "display_data"
    },
    {
     "data": {
      "text/plain": [
       "0.0004534544253278483"
      ]
     },
     "metadata": {},
     "output_type": "display_data"
    },
    {
     "data": {
      "text/plain": [
       "0.00047225081346446984"
      ]
     },
     "metadata": {},
     "output_type": "display_data"
    },
    {
     "data": {
      "text/plain": [
       "-0.0018862818440776863"
      ]
     },
     "metadata": {},
     "output_type": "display_data"
    },
    {
     "data": {
      "text/plain": [
       "-2.5564079877874564"
      ]
     },
     "metadata": {},
     "output_type": "display_data"
    },
    {
     "data": {
      "text/plain": [
       "-3.25300749255861"
      ]
     },
     "metadata": {},
     "output_type": "display_data"
    },
    {
     "data": {
      "text/plain": [
       "-3.4779733876722494"
      ]
     },
     "metadata": {},
     "output_type": "display_data"
    },
    {
     "data": {
      "text/plain": [
       "-7.015296966112168"
      ]
     },
     "metadata": {},
     "output_type": "display_data"
    },
    {
     "data": {
      "text/plain": [
       "-5.198005828098827"
      ]
     },
     "metadata": {},
     "output_type": "display_data"
    },
    {
     "data": {
      "text/plain": [
       "-5.240335931113479"
      ]
     },
     "metadata": {},
     "output_type": "display_data"
    },
    {
     "data": {
      "text/plain": [
       "-4.303302489813729"
      ]
     },
     "metadata": {},
     "output_type": "display_data"
    },
    {
     "data": {
      "text/plain": [
       "-6.075129099162069"
      ]
     },
     "metadata": {},
     "output_type": "display_data"
    },
    {
     "data": {
      "text/plain": [
       "-4.836935633542625"
      ]
     },
     "metadata": {},
     "output_type": "display_data"
    },
    {
     "data": {
      "text/plain": [
       "-4.852645937865487"
      ]
     },
     "metadata": {},
     "output_type": "display_data"
    },
    {
     "data": {
      "text/plain": [
       "-5.797674864826645"
      ]
     },
     "metadata": {},
     "output_type": "display_data"
    },
    {
     "data": {
      "text/plain": [
       "-5.97968965638861"
      ]
     },
     "metadata": {},
     "output_type": "display_data"
    },
    {
     "data": {
      "text/plain": [
       "-5.037051420234372"
      ]
     },
     "metadata": {},
     "output_type": "display_data"
    },
    {
     "data": {
      "text/plain": [
       "-6.918167509645253"
      ]
     },
     "metadata": {},
     "output_type": "display_data"
    },
    {
     "data": {
      "text/plain": [
       "-5.780366232921393"
      ]
     },
     "metadata": {},
     "output_type": "display_data"
    },
    {
     "data": {
      "text/plain": [
       "-5.94160617072217"
      ]
     },
     "metadata": {},
     "output_type": "display_data"
    },
    {
     "data": {
      "text/plain": [
       "-5.821172571191912"
      ]
     },
     "metadata": {},
     "output_type": "display_data"
    },
    {
     "data": {
      "text/plain": [
       "-5.666731051437431"
      ]
     },
     "metadata": {},
     "output_type": "display_data"
    },
    {
     "data": {
      "text/plain": [
       "-5.138984872190762"
      ]
     },
     "metadata": {},
     "output_type": "display_data"
    },
    {
     "data": {
      "text/plain": [
       "-6.817129681929867"
      ]
     },
     "metadata": {},
     "output_type": "display_data"
    },
    {
     "data": {
      "text/plain": [
       "-6.515227134682416"
      ]
     },
     "metadata": {},
     "output_type": "display_data"
    },
    {
     "data": {
      "text/plain": [
       "-6.32061034191586"
      ]
     },
     "metadata": {},
     "output_type": "display_data"
    },
    {
     "data": {
      "text/plain": [
       "-7.590487906209098"
      ]
     },
     "metadata": {},
     "output_type": "display_data"
    },
    {
     "data": {
      "text/plain": [
       "-5.723218895844099"
      ]
     },
     "metadata": {},
     "output_type": "display_data"
    },
    {
     "data": {
      "text/plain": [
       "-7.737317855769026"
      ]
     },
     "metadata": {},
     "output_type": "display_data"
    },
    {
     "data": {
      "text/plain": [
       "-6.946340623777617"
      ]
     },
     "metadata": {},
     "output_type": "display_data"
    },
    {
     "data": {
      "text/plain": [
       "-7.786366297525053"
      ]
     },
     "metadata": {},
     "output_type": "display_data"
    },
    {
     "data": {
      "text/plain": [
       "-6.1159416365733845"
      ]
     },
     "metadata": {},
     "output_type": "display_data"
    },
    {
     "data": {
      "text/plain": [
       "-6.08787816183679"
      ]
     },
     "metadata": {},
     "output_type": "display_data"
    },
    {
     "data": {
      "text/plain": [
       "-6.456994072183411"
      ]
     },
     "metadata": {},
     "output_type": "display_data"
    },
    {
     "data": {
      "text/plain": [
       "-6.541433581868033"
      ]
     },
     "metadata": {},
     "output_type": "display_data"
    },
    {
     "data": {
      "text/plain": [
       "-7.390797295235961"
      ]
     },
     "metadata": {},
     "output_type": "display_data"
    },
    {
     "data": {
      "text/plain": [
       "-5.555568789528954"
      ]
     },
     "metadata": {},
     "output_type": "display_data"
    },
    {
     "data": {
      "text/plain": [
       "-7.137906581238658"
      ]
     },
     "metadata": {},
     "output_type": "display_data"
    },
    {
     "data": {
      "text/plain": [
       "-8.369789862182618"
      ]
     },
     "metadata": {},
     "output_type": "display_data"
    },
    {
     "data": {
      "text/plain": [
       "-6.809299555061531"
      ]
     },
     "metadata": {},
     "output_type": "display_data"
    },
    {
     "data": {
      "text/plain": [
       "-7.26209595570443"
      ]
     },
     "metadata": {},
     "output_type": "display_data"
    },
    {
     "data": {
      "text/plain": [
       "-8.549559604490378"
      ]
     },
     "metadata": {},
     "output_type": "display_data"
    },
    {
     "data": {
      "text/plain": [
       "-7.714918770464647"
      ]
     },
     "metadata": {},
     "output_type": "display_data"
    },
    {
     "data": {
      "text/plain": [
       "-7.845780992902772"
      ]
     },
     "metadata": {},
     "output_type": "display_data"
    },
    {
     "data": {
      "text/plain": [
       "-7.413179028860051"
      ]
     },
     "metadata": {},
     "output_type": "display_data"
    },
    {
     "data": {
      "text/plain": [
       "-6.6556294690314335"
      ]
     },
     "metadata": {},
     "output_type": "display_data"
    },
    {
     "data": {
      "text/plain": [
       "-8.358043593771908"
      ]
     },
     "metadata": {},
     "output_type": "display_data"
    },
    {
     "data": {
      "text/plain": [
       "-7.340059227087417"
      ]
     },
     "metadata": {},
     "output_type": "display_data"
    },
    {
     "data": {
      "text/plain": [
       "-8.20865670122776"
      ]
     },
     "metadata": {},
     "output_type": "display_data"
    },
    {
     "data": {
      "text/plain": [
       "-7.494371227928146"
      ]
     },
     "metadata": {},
     "output_type": "display_data"
    },
    {
     "data": {
      "text/plain": [
       "-8.337127197288504"
      ]
     },
     "metadata": {},
     "output_type": "display_data"
    },
    {
     "data": {
      "text/plain": [
       "-7.709893634405178"
      ]
     },
     "metadata": {},
     "output_type": "display_data"
    },
    {
     "data": {
      "text/plain": [
       "-8.43354411841225"
      ]
     },
     "metadata": {},
     "output_type": "display_data"
    },
    {
     "data": {
      "text/plain": [
       "-8.40467755202637"
      ]
     },
     "metadata": {},
     "output_type": "display_data"
    },
    {
     "data": {
      "text/plain": [
       "-7.042788667076746"
      ]
     },
     "metadata": {},
     "output_type": "display_data"
    },
    {
     "data": {
      "text/plain": [
       "-7.818424584957718"
      ]
     },
     "metadata": {},
     "output_type": "display_data"
    },
    {
     "data": {
      "text/plain": [
       "-7.280981110498787"
      ]
     },
     "metadata": {},
     "output_type": "display_data"
    },
    {
     "data": {
      "text/plain": [
       "-7.849095071161367"
      ]
     },
     "metadata": {},
     "output_type": "display_data"
    },
    {
     "data": {
      "text/plain": [
       "-7.277257193984996"
      ]
     },
     "metadata": {},
     "output_type": "display_data"
    },
    {
     "data": {
      "text/plain": [
       "-7.388718860578579"
      ]
     },
     "metadata": {},
     "output_type": "display_data"
    },
    {
     "data": {
      "text/plain": [
       "-6.958472420706126"
      ]
     },
     "metadata": {},
     "output_type": "display_data"
    },
    {
     "data": {
      "text/plain": [
       "-8.535217809562358"
      ]
     },
     "metadata": {},
     "output_type": "display_data"
    },
    {
     "data": {
      "text/plain": [
       "-8.357127347277373"
      ]
     },
     "metadata": {},
     "output_type": "display_data"
    },
    {
     "data": {
      "text/plain": [
       "-7.94731041341956"
      ]
     },
     "metadata": {},
     "output_type": "display_data"
    },
    {
     "data": {
      "text/plain": [
       "-7.368436004955292"
      ]
     },
     "metadata": {},
     "output_type": "display_data"
    },
    {
     "data": {
      "text/plain": [
       "-8.052970498156245"
      ]
     },
     "metadata": {},
     "output_type": "display_data"
    },
    {
     "data": {
      "text/plain": [
       "-7.370647239460681"
      ]
     },
     "metadata": {},
     "output_type": "display_data"
    },
    {
     "data": {
      "text/plain": [
       "-8.186471489402301"
      ]
     },
     "metadata": {},
     "output_type": "display_data"
    },
    {
     "data": {
      "text/plain": [
       "-8.151261542395131"
      ]
     },
     "metadata": {},
     "output_type": "display_data"
    },
    {
     "data": {
      "text/plain": [
       "-8.415642204550148"
      ]
     },
     "metadata": {},
     "output_type": "display_data"
    },
    {
     "data": {
      "text/plain": [
       "-7.777302551395656"
      ]
     },
     "metadata": {},
     "output_type": "display_data"
    },
    {
     "data": {
      "text/plain": [
       "-8.269489717921314"
      ]
     },
     "metadata": {},
     "output_type": "display_data"
    },
    {
     "data": {
      "text/plain": [
       "-8.163655608089256"
      ]
     },
     "metadata": {},
     "output_type": "display_data"
    },
    {
     "data": {
      "text/plain": [
       "-8.174171340323761"
      ]
     },
     "metadata": {},
     "output_type": "display_data"
    },
    {
     "data": {
      "text/plain": [
       "-8.445212834622648"
      ]
     },
     "metadata": {},
     "output_type": "display_data"
    },
    {
     "data": {
      "text/plain": [
       "-7.443756071540648"
      ]
     },
     "metadata": {},
     "output_type": "display_data"
    },
    {
     "data": {
      "text/plain": [
       "-8.538953830174336"
      ]
     },
     "metadata": {},
     "output_type": "display_data"
    },
    {
     "data": {
      "text/plain": [
       "-7.594503443920848"
      ]
     },
     "metadata": {},
     "output_type": "display_data"
    },
    {
     "data": {
      "text/plain": [
       "-7.466019036317596"
      ]
     },
     "metadata": {},
     "output_type": "display_data"
    },
    {
     "data": {
      "text/plain": [
       "-8.44925964042842"
      ]
     },
     "metadata": {},
     "output_type": "display_data"
    },
    {
     "data": {
      "text/plain": [
       "-7.926589823499478"
      ]
     },
     "metadata": {},
     "output_type": "display_data"
    },
    {
     "data": {
      "text/plain": [
       "-8.348865692237302"
      ]
     },
     "metadata": {},
     "output_type": "display_data"
    },
    {
     "data": {
      "text/plain": [
       "-8.25971513758355"
      ]
     },
     "metadata": {},
     "output_type": "display_data"
    },
    {
     "data": {
      "text/plain": [
       "-7.911489754223425"
      ]
     },
     "metadata": {},
     "output_type": "display_data"
    },
    {
     "data": {
      "text/plain": [
       "-7.430811277838315"
      ]
     },
     "metadata": {},
     "output_type": "display_data"
    },
    {
     "data": {
      "text/plain": [
       "-8.205955313598313"
      ]
     },
     "metadata": {},
     "output_type": "display_data"
    },
    {
     "data": {
      "text/plain": [
       "-8.535337443194386"
      ]
     },
     "metadata": {},
     "output_type": "display_data"
    },
    {
     "data": {
      "text/plain": [
       "-8.571862808927056"
      ]
     },
     "metadata": {},
     "output_type": "display_data"
    },
    {
     "data": {
      "text/plain": [
       "-8.504324658952664"
      ]
     },
     "metadata": {},
     "output_type": "display_data"
    },
    {
     "data": {
      "text/plain": [
       "-8.489719296148746"
      ]
     },
     "metadata": {},
     "output_type": "display_data"
    },
    {
     "data": {
      "text/plain": [
       "-8.14685900500865"
      ]
     },
     "metadata": {},
     "output_type": "display_data"
    },
    {
     "data": {
      "text/plain": [
       "-8.511821554926353"
      ]
     },
     "metadata": {},
     "output_type": "display_data"
    },
    {
     "data": {
      "text/plain": [
       "-7.455775293410506"
      ]
     },
     "metadata": {},
     "output_type": "display_data"
    },
    {
     "data": {
      "text/plain": [
       "-7.134150807068693"
      ]
     },
     "metadata": {},
     "output_type": "display_data"
    },
    {
     "data": {
      "text/plain": [
       "-8.521473860180999"
      ]
     },
     "metadata": {},
     "output_type": "display_data"
    },
    {
     "data": {
      "text/plain": [
       "-8.109962748584783"
      ]
     },
     "metadata": {},
     "output_type": "display_data"
    },
    {
     "data": {
      "text/plain": [
       "-7.830215833979467"
      ]
     },
     "metadata": {},
     "output_type": "display_data"
    },
    {
     "data": {
      "text/plain": [
       "-8.229903847095315"
      ]
     },
     "metadata": {},
     "output_type": "display_data"
    },
    {
     "data": {
      "text/plain": [
       "-8.035436787822134"
      ]
     },
     "metadata": {},
     "output_type": "display_data"
    },
    {
     "data": {
      "text/plain": [
       "-8.249875985968103"
      ]
     },
     "metadata": {},
     "output_type": "display_data"
    },
    {
     "data": {
      "text/plain": [
       "-8.089583878678214"
      ]
     },
     "metadata": {},
     "output_type": "display_data"
    },
    {
     "data": {
      "text/plain": [
       "-8.285026611943378"
      ]
     },
     "metadata": {},
     "output_type": "display_data"
    },
    {
     "data": {
      "text/plain": [
       "-8.15680019893347"
      ]
     },
     "metadata": {},
     "output_type": "display_data"
    },
    {
     "data": {
      "text/plain": [
       "-7.672285928848085"
      ]
     },
     "metadata": {},
     "output_type": "display_data"
    },
    {
     "data": {
      "text/plain": [
       "-7.912312860248016"
      ]
     },
     "metadata": {},
     "output_type": "display_data"
    },
    {
     "data": {
      "text/plain": [
       "-8.213027299785749"
      ]
     },
     "metadata": {},
     "output_type": "display_data"
    },
    {
     "data": {
      "text/plain": [
       "-7.75044361451504"
      ]
     },
     "metadata": {},
     "output_type": "display_data"
    },
    {
     "data": {
      "text/plain": [
       "-7.95368929725499"
      ]
     },
     "metadata": {},
     "output_type": "display_data"
    },
    {
     "data": {
      "text/plain": [
       "-8.269410169087049"
      ]
     },
     "metadata": {},
     "output_type": "display_data"
    },
    {
     "data": {
      "text/plain": [
       "-8.582637891893146"
      ]
     },
     "metadata": {},
     "output_type": "display_data"
    },
    {
     "data": {
      "text/plain": [
       "-8.582637891893146"
      ]
     },
     "metadata": {},
     "output_type": "display_data"
    },
    {
     "data": {
      "text/plain": [
       "-8.582637891893146"
      ]
     },
     "metadata": {},
     "output_type": "display_data"
    },
    {
     "data": {
      "text/plain": [
       "-8.582637891893146"
      ]
     },
     "metadata": {},
     "output_type": "display_data"
    },
    {
     "data": {
      "text/plain": [
       "-8.582637891893146"
      ]
     },
     "metadata": {},
     "output_type": "display_data"
    },
    {
     "data": {
      "text/plain": [
       "-8.582637891893146"
      ]
     },
     "metadata": {},
     "output_type": "display_data"
    },
    {
     "data": {
      "text/plain": [
       "-8.582637891893146"
      ]
     },
     "metadata": {},
     "output_type": "display_data"
    },
    {
     "data": {
      "text/plain": [
       "-8.582637891893146"
      ]
     },
     "metadata": {},
     "output_type": "display_data"
    },
    {
     "data": {
      "text/plain": [
       "-8.582637891893146"
      ]
     },
     "metadata": {},
     "output_type": "display_data"
    },
    {
     "data": {
      "text/plain": [
       "-8.582637891893146"
      ]
     },
     "metadata": {},
     "output_type": "display_data"
    },
    {
     "data": {
      "text/plain": [
       "-8.582637891893146"
      ]
     },
     "metadata": {},
     "output_type": "display_data"
    },
    {
     "data": {
      "text/plain": [
       "-8.582637891893146"
      ]
     },
     "metadata": {},
     "output_type": "display_data"
    },
    {
     "data": {
      "text/plain": [
       "-8.582637891893146"
      ]
     },
     "metadata": {},
     "output_type": "display_data"
    },
    {
     "data": {
      "text/plain": [
       "-8.582637891893146"
      ]
     },
     "metadata": {},
     "output_type": "display_data"
    },
    {
     "data": {
      "text/plain": [
       "-8.582637891893146"
      ]
     },
     "metadata": {},
     "output_type": "display_data"
    },
    {
     "data": {
      "text/plain": [
       "-8.582637891893146"
      ]
     },
     "metadata": {},
     "output_type": "display_data"
    },
    {
     "data": {
      "text/plain": [
       "-8.582637891893146"
      ]
     },
     "metadata": {},
     "output_type": "display_data"
    },
    {
     "data": {
      "text/plain": [
       "-8.582637891893146"
      ]
     },
     "metadata": {},
     "output_type": "display_data"
    },
    {
     "data": {
      "text/plain": [
       "-8.582637891893146"
      ]
     },
     "metadata": {},
     "output_type": "display_data"
    },
    {
     "data": {
      "text/plain": [
       "-8.582637891893146"
      ]
     },
     "metadata": {},
     "output_type": "display_data"
    },
    {
     "data": {
      "text/plain": [
       "-8.582637891893146"
      ]
     },
     "metadata": {},
     "output_type": "display_data"
    }
   ],
   "source": [
    "# Check conic violation\n",
    "convio = 0.0\n",
    "for k = 1:Nsim-1\n",
    "    Uc = cone_u(params, Uhist[k])\n",
    "    huc = norm(Uc[1:2]) - Uc[3]\n",
    "    convio = norm(huc + abs.(huc),Inf)\n",
    "    display(huc) # should <= 0\n",
    "end"
   ]
  },
  {
   "cell_type": "code",
   "execution_count": 144,
   "id": "ffaab90d-dddc-4512-8c8b-4561cd053fdf",
   "metadata": {},
   "outputs": [
    {
     "name": "stdout",
     "output_type": "stream",
     "text": [
      "traj_error = maximum(norm.(e_sim_m, Inf)) = 1.7627148317842982\n"
     ]
    },
    {
     "data": {
      "image/svg+xml": [
       "<?xml version=\"1.0\" encoding=\"utf-8\"?>\n",
       "<svg xmlns=\"http://www.w3.org/2000/svg\" xmlns:xlink=\"http://www.w3.org/1999/xlink\" width=\"600\" height=\"400\" viewBox=\"0 0 2400 1600\">\n",
       "<defs>\n",
       "  <clipPath id=\"clip050\">\n",
       "    <rect x=\"0\" y=\"0\" width=\"2400\" height=\"1600\"/>\n",
       "  </clipPath>\n",
       "</defs>\n",
       "<path clip-path=\"url(#clip050)\" d=\"M0 1600 L2400 1600 L2400 0 L0 0  Z\" fill=\"#ffffff\" fill-rule=\"evenodd\" fill-opacity=\"1\"/>\n",
       "<defs>\n",
       "  <clipPath id=\"clip051\">\n",
       "    <rect x=\"480\" y=\"0\" width=\"1681\" height=\"1600\"/>\n",
       "  </clipPath>\n",
       "</defs>\n",
       "<path clip-path=\"url(#clip050)\" d=\"M257.204 1423.18 L2352.76 1423.18 L2352.76 123.472 L257.204 123.472  Z\" fill=\"#ffffff\" fill-rule=\"evenodd\" fill-opacity=\"1\"/>\n",
       "<defs>\n",
       "  <clipPath id=\"clip052\">\n",
       "    <rect x=\"257\" y=\"123\" width=\"2097\" height=\"1301\"/>\n",
       "  </clipPath>\n",
       "</defs>\n",
       "<polyline clip-path=\"url(#clip052)\" style=\"stroke:#000000; stroke-linecap:round; stroke-linejoin:round; stroke-width:2; stroke-opacity:0.1; fill:none\" points=\"316.512,1423.18 316.512,123.472 \"/>\n",
       "<polyline clip-path=\"url(#clip052)\" style=\"stroke:#000000; stroke-linecap:round; stroke-linejoin:round; stroke-width:2; stroke-opacity:0.1; fill:none\" points=\"670.802,1423.18 670.802,123.472 \"/>\n",
       "<polyline clip-path=\"url(#clip052)\" style=\"stroke:#000000; stroke-linecap:round; stroke-linejoin:round; stroke-width:2; stroke-opacity:0.1; fill:none\" points=\"1025.09,1423.18 1025.09,123.472 \"/>\n",
       "<polyline clip-path=\"url(#clip052)\" style=\"stroke:#000000; stroke-linecap:round; stroke-linejoin:round; stroke-width:2; stroke-opacity:0.1; fill:none\" points=\"1379.38,1423.18 1379.38,123.472 \"/>\n",
       "<polyline clip-path=\"url(#clip052)\" style=\"stroke:#000000; stroke-linecap:round; stroke-linejoin:round; stroke-width:2; stroke-opacity:0.1; fill:none\" points=\"1733.67,1423.18 1733.67,123.472 \"/>\n",
       "<polyline clip-path=\"url(#clip052)\" style=\"stroke:#000000; stroke-linecap:round; stroke-linejoin:round; stroke-width:2; stroke-opacity:0.1; fill:none\" points=\"2087.96,1423.18 2087.96,123.472 \"/>\n",
       "<polyline clip-path=\"url(#clip050)\" style=\"stroke:#000000; stroke-linecap:round; stroke-linejoin:round; stroke-width:4; stroke-opacity:1; fill:none\" points=\"257.204,1423.18 2352.76,1423.18 \"/>\n",
       "<polyline clip-path=\"url(#clip050)\" style=\"stroke:#000000; stroke-linecap:round; stroke-linejoin:round; stroke-width:4; stroke-opacity:1; fill:none\" points=\"316.512,1423.18 316.512,1404.28 \"/>\n",
       "<polyline clip-path=\"url(#clip050)\" style=\"stroke:#000000; stroke-linecap:round; stroke-linejoin:round; stroke-width:4; stroke-opacity:1; fill:none\" points=\"670.802,1423.18 670.802,1404.28 \"/>\n",
       "<polyline clip-path=\"url(#clip050)\" style=\"stroke:#000000; stroke-linecap:round; stroke-linejoin:round; stroke-width:4; stroke-opacity:1; fill:none\" points=\"1025.09,1423.18 1025.09,1404.28 \"/>\n",
       "<polyline clip-path=\"url(#clip050)\" style=\"stroke:#000000; stroke-linecap:round; stroke-linejoin:round; stroke-width:4; stroke-opacity:1; fill:none\" points=\"1379.38,1423.18 1379.38,1404.28 \"/>\n",
       "<polyline clip-path=\"url(#clip050)\" style=\"stroke:#000000; stroke-linecap:round; stroke-linejoin:round; stroke-width:4; stroke-opacity:1; fill:none\" points=\"1733.67,1423.18 1733.67,1404.28 \"/>\n",
       "<polyline clip-path=\"url(#clip050)\" style=\"stroke:#000000; stroke-linecap:round; stroke-linejoin:round; stroke-width:4; stroke-opacity:1; fill:none\" points=\"2087.96,1423.18 2087.96,1404.28 \"/>\n",
       "<path clip-path=\"url(#clip050)\" d=\"M293.896 1454.1 Q290.285 1454.1 288.457 1457.66 Q286.651 1461.2 286.651 1468.33 Q286.651 1475.44 288.457 1479.01 Q290.285 1482.55 293.896 1482.55 Q297.531 1482.55 299.336 1479.01 Q301.165 1475.44 301.165 1468.33 Q301.165 1461.2 299.336 1457.66 Q297.531 1454.1 293.896 1454.1 M293.896 1450.39 Q299.707 1450.39 302.762 1455 Q305.841 1459.58 305.841 1468.33 Q305.841 1477.06 302.762 1481.67 Q299.707 1486.25 293.896 1486.25 Q288.086 1486.25 285.008 1481.67 Q281.952 1477.06 281.952 1468.33 Q281.952 1459.58 285.008 1455 Q288.086 1450.39 293.896 1450.39 Z\" fill=\"#000000\" fill-rule=\"evenodd\" fill-opacity=\"1\" /><path clip-path=\"url(#clip050)\" d=\"M314.058 1479.7 L318.943 1479.7 L318.943 1485.58 L314.058 1485.58 L314.058 1479.7 Z\" fill=\"#000000\" fill-rule=\"evenodd\" fill-opacity=\"1\" /><path clip-path=\"url(#clip050)\" d=\"M339.128 1454.1 Q335.517 1454.1 333.688 1457.66 Q331.882 1461.2 331.882 1468.33 Q331.882 1475.44 333.688 1479.01 Q335.517 1482.55 339.128 1482.55 Q342.762 1482.55 344.568 1479.01 Q346.396 1475.44 346.396 1468.33 Q346.396 1461.2 344.568 1457.66 Q342.762 1454.1 339.128 1454.1 M339.128 1450.39 Q344.938 1450.39 347.993 1455 Q351.072 1459.58 351.072 1468.33 Q351.072 1477.06 347.993 1481.67 Q344.938 1486.25 339.128 1486.25 Q333.318 1486.25 330.239 1481.67 Q327.183 1477.06 327.183 1468.33 Q327.183 1459.58 330.239 1455 Q333.318 1450.39 339.128 1450.39 Z\" fill=\"#000000\" fill-rule=\"evenodd\" fill-opacity=\"1\" /><path clip-path=\"url(#clip050)\" d=\"M642.538 1481.64 L658.857 1481.64 L658.857 1485.58 L636.913 1485.58 L636.913 1481.64 Q639.575 1478.89 644.158 1474.26 Q648.765 1469.61 649.945 1468.27 Q652.191 1465.74 653.07 1464.01 Q653.973 1462.25 653.973 1460.56 Q653.973 1457.8 652.029 1456.07 Q650.107 1454.33 647.005 1454.33 Q644.806 1454.33 642.353 1455.09 Q639.922 1455.86 637.144 1457.41 L637.144 1452.69 Q639.968 1451.55 642.422 1450.97 Q644.876 1450.39 646.913 1450.39 Q652.283 1450.39 655.478 1453.08 Q658.672 1455.77 658.672 1460.26 Q658.672 1462.39 657.862 1464.31 Q657.075 1466.2 654.968 1468.8 Q654.39 1469.47 651.288 1472.69 Q648.186 1475.88 642.538 1481.64 Z\" fill=\"#000000\" fill-rule=\"evenodd\" fill-opacity=\"1\" /><path clip-path=\"url(#clip050)\" d=\"M668.672 1479.7 L673.556 1479.7 L673.556 1485.58 L668.672 1485.58 L668.672 1479.7 Z\" fill=\"#000000\" fill-rule=\"evenodd\" fill-opacity=\"1\" /><path clip-path=\"url(#clip050)\" d=\"M683.788 1451.02 L702.144 1451.02 L702.144 1454.96 L688.07 1454.96 L688.07 1463.43 Q689.089 1463.08 690.107 1462.92 Q691.126 1462.73 692.144 1462.73 Q697.931 1462.73 701.311 1465.9 Q704.69 1469.08 704.69 1474.49 Q704.69 1480.07 701.218 1483.17 Q697.746 1486.25 691.427 1486.25 Q689.251 1486.25 686.982 1485.88 Q684.737 1485.51 682.329 1484.77 L682.329 1480.07 Q684.413 1481.2 686.635 1481.76 Q688.857 1482.32 691.334 1482.32 Q695.339 1482.32 697.677 1480.21 Q700.014 1478.1 700.014 1474.49 Q700.014 1470.88 697.677 1468.77 Q695.339 1466.67 691.334 1466.67 Q689.459 1466.67 687.584 1467.08 Q685.732 1467.5 683.788 1468.38 L683.788 1451.02 Z\" fill=\"#000000\" fill-rule=\"evenodd\" fill-opacity=\"1\" /><path clip-path=\"url(#clip050)\" d=\"M992.256 1451.02 L1010.61 1451.02 L1010.61 1454.96 L996.538 1454.96 L996.538 1463.43 Q997.557 1463.08 998.575 1462.92 Q999.594 1462.73 1000.61 1462.73 Q1006.4 1462.73 1009.78 1465.9 Q1013.16 1469.08 1013.16 1474.49 Q1013.16 1480.07 1009.69 1483.17 Q1006.21 1486.25 999.895 1486.25 Q997.719 1486.25 995.45 1485.88 Q993.205 1485.51 990.797 1484.77 L990.797 1480.07 Q992.881 1481.2 995.103 1481.76 Q997.325 1482.32 999.802 1482.32 Q1003.81 1482.32 1006.14 1480.21 Q1008.48 1478.1 1008.48 1474.49 Q1008.48 1470.88 1006.14 1468.77 Q1003.81 1466.67 999.802 1466.67 Q997.927 1466.67 996.052 1467.08 Q994.2 1467.5 992.256 1468.38 L992.256 1451.02 Z\" fill=\"#000000\" fill-rule=\"evenodd\" fill-opacity=\"1\" /><path clip-path=\"url(#clip050)\" d=\"M1022.37 1479.7 L1027.26 1479.7 L1027.26 1485.58 L1022.37 1485.58 L1022.37 1479.7 Z\" fill=\"#000000\" fill-rule=\"evenodd\" fill-opacity=\"1\" /><path clip-path=\"url(#clip050)\" d=\"M1047.44 1454.1 Q1043.83 1454.1 1042 1457.66 Q1040.2 1461.2 1040.2 1468.33 Q1040.2 1475.44 1042 1479.01 Q1043.83 1482.55 1047.44 1482.55 Q1051.07 1482.55 1052.88 1479.01 Q1054.71 1475.44 1054.71 1468.33 Q1054.71 1461.2 1052.88 1457.66 Q1051.07 1454.1 1047.44 1454.1 M1047.44 1450.39 Q1053.25 1450.39 1056.31 1455 Q1059.39 1459.58 1059.39 1468.33 Q1059.39 1477.06 1056.31 1481.67 Q1053.25 1486.25 1047.44 1486.25 Q1041.63 1486.25 1038.55 1481.67 Q1035.5 1477.06 1035.5 1468.33 Q1035.5 1459.58 1038.55 1455 Q1041.63 1450.39 1047.44 1450.39 Z\" fill=\"#000000\" fill-rule=\"evenodd\" fill-opacity=\"1\" /><path clip-path=\"url(#clip050)\" d=\"M1345.7 1451.02 L1367.92 1451.02 L1367.92 1453.01 L1355.38 1485.58 L1350.49 1485.58 L1362.3 1454.96 L1345.7 1454.96 L1345.7 1451.02 Z\" fill=\"#000000\" fill-rule=\"evenodd\" fill-opacity=\"1\" /><path clip-path=\"url(#clip050)\" d=\"M1377.04 1479.7 L1381.93 1479.7 L1381.93 1485.58 L1377.04 1485.58 L1377.04 1479.7 Z\" fill=\"#000000\" fill-rule=\"evenodd\" fill-opacity=\"1\" /><path clip-path=\"url(#clip050)\" d=\"M1392.16 1451.02 L1410.51 1451.02 L1410.51 1454.96 L1396.44 1454.96 L1396.44 1463.43 Q1397.46 1463.08 1398.48 1462.92 Q1399.5 1462.73 1400.51 1462.73 Q1406.3 1462.73 1409.68 1465.9 Q1413.06 1469.08 1413.06 1474.49 Q1413.06 1480.07 1409.59 1483.17 Q1406.12 1486.25 1399.8 1486.25 Q1397.62 1486.25 1395.35 1485.88 Q1393.11 1485.51 1390.7 1484.77 L1390.7 1480.07 Q1392.78 1481.2 1395.01 1481.76 Q1397.23 1482.32 1399.7 1482.32 Q1403.71 1482.32 1406.05 1480.21 Q1408.39 1478.1 1408.39 1474.49 Q1408.39 1470.88 1406.05 1468.77 Q1403.71 1466.67 1399.7 1466.67 Q1397.83 1466.67 1395.95 1467.08 Q1394.1 1467.5 1392.16 1468.38 L1392.16 1451.02 Z\" fill=\"#000000\" fill-rule=\"evenodd\" fill-opacity=\"1\" /><path clip-path=\"url(#clip050)\" d=\"M1685.74 1481.64 L1693.38 1481.64 L1693.38 1455.28 L1685.07 1456.95 L1685.07 1452.69 L1693.33 1451.02 L1698.01 1451.02 L1698.01 1481.64 L1705.65 1481.64 L1705.65 1485.58 L1685.74 1485.58 L1685.74 1481.64 Z\" fill=\"#000000\" fill-rule=\"evenodd\" fill-opacity=\"1\" /><path clip-path=\"url(#clip050)\" d=\"M1725.09 1454.1 Q1721.48 1454.1 1719.65 1457.66 Q1717.85 1461.2 1717.85 1468.33 Q1717.85 1475.44 1719.65 1479.01 Q1721.48 1482.55 1725.09 1482.55 Q1728.73 1482.55 1730.53 1479.01 Q1732.36 1475.44 1732.36 1468.33 Q1732.36 1461.2 1730.53 1457.66 Q1728.73 1454.1 1725.09 1454.1 M1725.09 1450.39 Q1730.9 1450.39 1733.96 1455 Q1737.04 1459.58 1737.04 1468.33 Q1737.04 1477.06 1733.96 1481.67 Q1730.9 1486.25 1725.09 1486.25 Q1719.28 1486.25 1716.21 1481.67 Q1713.15 1477.06 1713.15 1468.33 Q1713.15 1459.58 1716.21 1455 Q1719.28 1450.39 1725.09 1450.39 Z\" fill=\"#000000\" fill-rule=\"evenodd\" fill-opacity=\"1\" /><path clip-path=\"url(#clip050)\" d=\"M1745.26 1479.7 L1750.14 1479.7 L1750.14 1485.58 L1745.26 1485.58 L1745.26 1479.7 Z\" fill=\"#000000\" fill-rule=\"evenodd\" fill-opacity=\"1\" /><path clip-path=\"url(#clip050)\" d=\"M1770.33 1454.1 Q1766.71 1454.1 1764.89 1457.66 Q1763.08 1461.2 1763.08 1468.33 Q1763.08 1475.44 1764.89 1479.01 Q1766.71 1482.55 1770.33 1482.55 Q1773.96 1482.55 1775.77 1479.01 Q1777.59 1475.44 1777.59 1468.33 Q1777.59 1461.2 1775.77 1457.66 Q1773.96 1454.1 1770.33 1454.1 M1770.33 1450.39 Q1776.14 1450.39 1779.19 1455 Q1782.27 1459.58 1782.27 1468.33 Q1782.27 1477.06 1779.19 1481.67 Q1776.14 1486.25 1770.33 1486.25 Q1764.52 1486.25 1761.44 1481.67 Q1758.38 1477.06 1758.38 1468.33 Q1758.38 1459.58 1761.44 1455 Q1764.52 1450.39 1770.33 1450.39 Z\" fill=\"#000000\" fill-rule=\"evenodd\" fill-opacity=\"1\" /><path clip-path=\"url(#clip050)\" d=\"M2040.53 1481.64 L2048.17 1481.64 L2048.17 1455.28 L2039.86 1456.95 L2039.86 1452.69 L2048.12 1451.02 L2052.8 1451.02 L2052.8 1481.64 L2060.44 1481.64 L2060.44 1485.58 L2040.53 1485.58 L2040.53 1481.64 Z\" fill=\"#000000\" fill-rule=\"evenodd\" fill-opacity=\"1\" /><path clip-path=\"url(#clip050)\" d=\"M2073.91 1481.64 L2090.23 1481.64 L2090.23 1485.58 L2068.28 1485.58 L2068.28 1481.64 Q2070.95 1478.89 2075.53 1474.26 Q2080.14 1469.61 2081.32 1468.27 Q2083.56 1465.74 2084.44 1464.01 Q2085.34 1462.25 2085.34 1460.56 Q2085.34 1457.8 2083.4 1456.07 Q2081.48 1454.33 2078.38 1454.33 Q2076.18 1454.33 2073.72 1455.09 Q2071.29 1455.86 2068.52 1457.41 L2068.52 1452.69 Q2071.34 1451.55 2073.79 1450.97 Q2076.25 1450.39 2078.28 1450.39 Q2083.65 1450.39 2086.85 1453.08 Q2090.04 1455.77 2090.04 1460.26 Q2090.04 1462.39 2089.23 1464.31 Q2088.45 1466.2 2086.34 1468.8 Q2085.76 1469.47 2082.66 1472.69 Q2079.56 1475.88 2073.91 1481.64 Z\" fill=\"#000000\" fill-rule=\"evenodd\" fill-opacity=\"1\" /><path clip-path=\"url(#clip050)\" d=\"M2100.04 1479.7 L2104.93 1479.7 L2104.93 1485.58 L2100.04 1485.58 L2100.04 1479.7 Z\" fill=\"#000000\" fill-rule=\"evenodd\" fill-opacity=\"1\" /><path clip-path=\"url(#clip050)\" d=\"M2115.16 1451.02 L2133.52 1451.02 L2133.52 1454.96 L2119.44 1454.96 L2119.44 1463.43 Q2120.46 1463.08 2121.48 1462.92 Q2122.5 1462.73 2123.52 1462.73 Q2129.3 1462.73 2132.68 1465.9 Q2136.06 1469.08 2136.06 1474.49 Q2136.06 1480.07 2132.59 1483.17 Q2129.12 1486.25 2122.8 1486.25 Q2120.62 1486.25 2118.35 1485.88 Q2116.11 1485.51 2113.7 1484.77 L2113.7 1480.07 Q2115.78 1481.2 2118.01 1481.76 Q2120.23 1482.32 2122.71 1482.32 Q2126.71 1482.32 2129.05 1480.21 Q2131.39 1478.1 2131.39 1474.49 Q2131.39 1470.88 2129.05 1468.77 Q2126.71 1466.67 2122.71 1466.67 Q2120.83 1466.67 2118.96 1467.08 Q2117.1 1467.5 2115.16 1468.38 L2115.16 1451.02 Z\" fill=\"#000000\" fill-rule=\"evenodd\" fill-opacity=\"1\" /><path clip-path=\"url(#clip050)\" d=\"M1192.43 1522.27 L1192.43 1532.4 L1204.5 1532.4 L1204.5 1536.95 L1192.43 1536.95 L1192.43 1556.3 Q1192.43 1560.66 1193.61 1561.9 Q1194.82 1563.14 1198.48 1563.14 L1204.5 1563.14 L1204.5 1568.04 L1198.48 1568.04 Q1191.7 1568.04 1189.12 1565.53 Q1186.55 1562.98 1186.55 1556.3 L1186.55 1536.95 L1182.25 1536.95 L1182.25 1532.4 L1186.55 1532.4 L1186.55 1522.27 L1192.43 1522.27 Z\" fill=\"#000000\" fill-rule=\"evenodd\" fill-opacity=\"1\" /><path clip-path=\"url(#clip050)\" d=\"M1212.2 1532.4 L1218.06 1532.4 L1218.06 1568.04 L1212.2 1568.04 L1212.2 1532.4 M1212.2 1518.52 L1218.06 1518.52 L1218.06 1525.93 L1212.2 1525.93 L1212.2 1518.52 Z\" fill=\"#000000\" fill-rule=\"evenodd\" fill-opacity=\"1\" /><path clip-path=\"url(#clip050)\" d=\"M1258.06 1539.24 Q1260.26 1535.29 1263.32 1533.41 Q1266.37 1531.54 1270.51 1531.54 Q1276.08 1531.54 1279.1 1535.45 Q1282.13 1539.33 1282.13 1546.53 L1282.13 1568.04 L1276.24 1568.04 L1276.24 1546.72 Q1276.24 1541.59 1274.42 1539.11 Q1272.61 1536.63 1268.89 1536.63 Q1264.33 1536.63 1261.69 1539.65 Q1259.05 1542.68 1259.05 1547.9 L1259.05 1568.04 L1253.16 1568.04 L1253.16 1546.72 Q1253.16 1541.56 1251.35 1539.11 Q1249.53 1536.63 1245.75 1536.63 Q1241.26 1536.63 1238.62 1539.68 Q1235.98 1542.71 1235.98 1547.9 L1235.98 1568.04 L1230.09 1568.04 L1230.09 1532.4 L1235.98 1532.4 L1235.98 1537.93 Q1237.98 1534.66 1240.78 1533.1 Q1243.58 1531.54 1247.43 1531.54 Q1251.32 1531.54 1254.02 1533.51 Q1256.76 1535.48 1258.06 1539.24 Z\" fill=\"#000000\" fill-rule=\"evenodd\" fill-opacity=\"1\" /><path clip-path=\"url(#clip050)\" d=\"M1324.3 1548.76 L1324.3 1551.62 L1297.37 1551.62 Q1297.75 1557.67 1301 1560.85 Q1304.28 1564 1310.1 1564 Q1313.48 1564 1316.63 1563.17 Q1319.81 1562.35 1322.93 1560.69 L1322.93 1566.23 Q1319.78 1567.57 1316.47 1568.27 Q1313.16 1568.97 1309.75 1568.97 Q1301.22 1568.97 1296.23 1564 Q1291.26 1559.04 1291.26 1550.57 Q1291.26 1541.82 1295.97 1536.69 Q1300.71 1531.54 1308.74 1531.54 Q1315.93 1531.54 1320.1 1536.18 Q1324.3 1540.8 1324.3 1548.76 M1318.44 1547.04 Q1318.38 1542.23 1315.74 1539.37 Q1313.13 1536.5 1308.8 1536.5 Q1303.9 1536.5 1300.94 1539.27 Q1298.01 1542.04 1297.56 1547.07 L1318.44 1547.04 Z\" fill=\"#000000\" fill-rule=\"evenodd\" fill-opacity=\"1\" /><path clip-path=\"url(#clip050)\" d=\"M1368.7 1518.58 Q1364.44 1525.9 1362.37 1533.06 Q1360.3 1540.23 1360.3 1547.58 Q1360.3 1554.93 1362.37 1562.16 Q1364.47 1569.35 1368.7 1576.64 L1363.61 1576.64 Q1358.83 1569.16 1356.45 1561.93 Q1354.09 1554.71 1354.09 1547.58 Q1354.09 1540.48 1356.45 1533.29 Q1358.8 1526.09 1363.61 1518.58 L1368.7 1518.58 Z\" fill=\"#000000\" fill-rule=\"evenodd\" fill-opacity=\"1\" /><path clip-path=\"url(#clip050)\" d=\"M1402.79 1533.45 L1402.79 1538.98 Q1400.31 1537.71 1397.63 1537.07 Q1394.96 1536.44 1392.09 1536.44 Q1387.73 1536.44 1385.54 1537.77 Q1383.37 1539.11 1383.37 1541.79 Q1383.37 1543.82 1384.93 1545 Q1386.49 1546.15 1391.2 1547.2 L1393.21 1547.64 Q1399.45 1548.98 1402.06 1551.43 Q1404.7 1553.85 1404.7 1558.21 Q1404.7 1563.17 1400.75 1566.07 Q1396.84 1568.97 1389.96 1568.97 Q1387.1 1568.97 1383.98 1568.39 Q1380.89 1567.85 1377.45 1566.74 L1377.45 1560.69 Q1380.7 1562.38 1383.85 1563.24 Q1387 1564.07 1390.09 1564.07 Q1394.23 1564.07 1396.46 1562.66 Q1398.68 1561.23 1398.68 1558.65 Q1398.68 1556.27 1397.06 1554.99 Q1395.47 1553.72 1390.03 1552.54 L1387.99 1552.07 Q1382.55 1550.92 1380.13 1548.56 Q1377.71 1546.18 1377.71 1542.04 Q1377.71 1537.01 1381.27 1534.27 Q1384.84 1531.54 1391.39 1531.54 Q1394.64 1531.54 1397.51 1532.01 Q1400.37 1532.49 1402.79 1533.45 Z\" fill=\"#000000\" fill-rule=\"evenodd\" fill-opacity=\"1\" /><path clip-path=\"url(#clip050)\" d=\"M1413.1 1518.58 L1418.19 1518.58 Q1422.97 1526.09 1425.32 1533.29 Q1427.71 1540.48 1427.71 1547.58 Q1427.71 1554.71 1425.32 1561.93 Q1422.97 1569.16 1418.19 1576.64 L1413.1 1576.64 Q1417.33 1569.35 1419.4 1562.16 Q1421.5 1554.93 1421.5 1547.58 Q1421.5 1540.23 1419.4 1533.06 Q1417.33 1525.9 1413.1 1518.58 Z\" fill=\"#000000\" fill-rule=\"evenodd\" fill-opacity=\"1\" /><polyline clip-path=\"url(#clip052)\" style=\"stroke:#000000; stroke-linecap:round; stroke-linejoin:round; stroke-width:2; stroke-opacity:0.1; fill:none\" points=\"257.204,1300.55 2352.76,1300.55 \"/>\n",
       "<polyline clip-path=\"url(#clip052)\" style=\"stroke:#000000; stroke-linecap:round; stroke-linejoin:round; stroke-width:2; stroke-opacity:0.1; fill:none\" points=\"257.204,1094.18 2352.76,1094.18 \"/>\n",
       "<polyline clip-path=\"url(#clip052)\" style=\"stroke:#000000; stroke-linecap:round; stroke-linejoin:round; stroke-width:2; stroke-opacity:0.1; fill:none\" points=\"257.204,887.805 2352.76,887.805 \"/>\n",
       "<polyline clip-path=\"url(#clip052)\" style=\"stroke:#000000; stroke-linecap:round; stroke-linejoin:round; stroke-width:2; stroke-opacity:0.1; fill:none\" points=\"257.204,681.433 2352.76,681.433 \"/>\n",
       "<polyline clip-path=\"url(#clip052)\" style=\"stroke:#000000; stroke-linecap:round; stroke-linejoin:round; stroke-width:2; stroke-opacity:0.1; fill:none\" points=\"257.204,475.062 2352.76,475.062 \"/>\n",
       "<polyline clip-path=\"url(#clip052)\" style=\"stroke:#000000; stroke-linecap:round; stroke-linejoin:round; stroke-width:2; stroke-opacity:0.1; fill:none\" points=\"257.204,268.69 2352.76,268.69 \"/>\n",
       "<polyline clip-path=\"url(#clip050)\" style=\"stroke:#000000; stroke-linecap:round; stroke-linejoin:round; stroke-width:4; stroke-opacity:1; fill:none\" points=\"257.204,1423.18 257.204,123.472 \"/>\n",
       "<polyline clip-path=\"url(#clip050)\" style=\"stroke:#000000; stroke-linecap:round; stroke-linejoin:round; stroke-width:4; stroke-opacity:1; fill:none\" points=\"257.204,1300.55 276.102,1300.55 \"/>\n",
       "<polyline clip-path=\"url(#clip050)\" style=\"stroke:#000000; stroke-linecap:round; stroke-linejoin:round; stroke-width:4; stroke-opacity:1; fill:none\" points=\"257.204,1094.18 276.102,1094.18 \"/>\n",
       "<polyline clip-path=\"url(#clip050)\" style=\"stroke:#000000; stroke-linecap:round; stroke-linejoin:round; stroke-width:4; stroke-opacity:1; fill:none\" points=\"257.204,887.805 276.102,887.805 \"/>\n",
       "<polyline clip-path=\"url(#clip050)\" style=\"stroke:#000000; stroke-linecap:round; stroke-linejoin:round; stroke-width:4; stroke-opacity:1; fill:none\" points=\"257.204,681.433 276.102,681.433 \"/>\n",
       "<polyline clip-path=\"url(#clip050)\" style=\"stroke:#000000; stroke-linecap:round; stroke-linejoin:round; stroke-width:4; stroke-opacity:1; fill:none\" points=\"257.204,475.062 276.102,475.062 \"/>\n",
       "<polyline clip-path=\"url(#clip050)\" style=\"stroke:#000000; stroke-linecap:round; stroke-linejoin:round; stroke-width:4; stroke-opacity:1; fill:none\" points=\"257.204,268.69 276.102,268.69 \"/>\n",
       "<path clip-path=\"url(#clip050)\" d=\"M114.26 1301 L143.936 1301 L143.936 1304.93 L114.26 1304.93 L114.26 1301 Z\" fill=\"#000000\" fill-rule=\"evenodd\" fill-opacity=\"1\" /><path clip-path=\"url(#clip050)\" d=\"M154.839 1313.89 L162.477 1313.89 L162.477 1287.53 L154.167 1289.19 L154.167 1284.93 L162.431 1283.27 L167.107 1283.27 L167.107 1313.89 L174.746 1313.89 L174.746 1317.83 L154.839 1317.83 L154.839 1313.89 Z\" fill=\"#000000\" fill-rule=\"evenodd\" fill-opacity=\"1\" /><path clip-path=\"url(#clip050)\" d=\"M184.19 1311.95 L189.075 1311.95 L189.075 1317.83 L184.19 1317.83 L184.19 1311.95 Z\" fill=\"#000000\" fill-rule=\"evenodd\" fill-opacity=\"1\" /><path clip-path=\"url(#clip050)\" d=\"M209.26 1286.35 Q205.649 1286.35 203.82 1289.91 Q202.014 1293.45 202.014 1300.58 Q202.014 1307.69 203.82 1311.25 Q205.649 1314.8 209.26 1314.8 Q212.894 1314.8 214.699 1311.25 Q216.528 1307.69 216.528 1300.58 Q216.528 1293.45 214.699 1289.91 Q212.894 1286.35 209.26 1286.35 M209.26 1282.64 Q215.07 1282.64 218.125 1287.25 Q221.204 1291.83 221.204 1300.58 Q221.204 1309.31 218.125 1313.92 Q215.07 1318.5 209.26 1318.5 Q203.449 1318.5 200.371 1313.92 Q197.315 1309.31 197.315 1300.58 Q197.315 1291.83 200.371 1287.25 Q203.449 1282.64 209.26 1282.64 Z\" fill=\"#000000\" fill-rule=\"evenodd\" fill-opacity=\"1\" /><path clip-path=\"url(#clip050)\" d=\"M115.256 1094.63 L144.931 1094.63 L144.931 1098.56 L115.256 1098.56 L115.256 1094.63 Z\" fill=\"#000000\" fill-rule=\"evenodd\" fill-opacity=\"1\" /><path clip-path=\"url(#clip050)\" d=\"M165.024 1079.98 Q161.413 1079.98 159.584 1083.54 Q157.778 1087.08 157.778 1094.21 Q157.778 1101.32 159.584 1104.88 Q161.413 1108.42 165.024 1108.42 Q168.658 1108.42 170.464 1104.88 Q172.292 1101.32 172.292 1094.21 Q172.292 1087.08 170.464 1083.54 Q168.658 1079.98 165.024 1079.98 M165.024 1076.27 Q170.834 1076.27 173.889 1080.88 Q176.968 1085.46 176.968 1094.21 Q176.968 1102.94 173.889 1107.54 Q170.834 1112.13 165.024 1112.13 Q159.214 1112.13 156.135 1107.54 Q153.079 1102.94 153.079 1094.21 Q153.079 1085.46 156.135 1080.88 Q159.214 1076.27 165.024 1076.27 Z\" fill=\"#000000\" fill-rule=\"evenodd\" fill-opacity=\"1\" /><path clip-path=\"url(#clip050)\" d=\"M185.186 1105.58 L190.07 1105.58 L190.07 1111.46 L185.186 1111.46 L185.186 1105.58 Z\" fill=\"#000000\" fill-rule=\"evenodd\" fill-opacity=\"1\" /><path clip-path=\"url(#clip050)\" d=\"M200.301 1076.9 L218.658 1076.9 L218.658 1080.83 L204.584 1080.83 L204.584 1089.3 Q205.602 1088.96 206.621 1088.79 Q207.639 1088.61 208.658 1088.61 Q214.445 1088.61 217.824 1091.78 Q221.204 1094.95 221.204 1100.37 Q221.204 1105.95 217.732 1109.05 Q214.26 1112.13 207.94 1112.13 Q205.764 1112.13 203.496 1111.76 Q201.25 1111.39 198.843 1110.65 L198.843 1105.95 Q200.926 1107.08 203.149 1107.64 Q205.371 1108.19 207.848 1108.19 Q211.852 1108.19 214.19 1106.09 Q216.528 1103.98 216.528 1100.37 Q216.528 1096.76 214.19 1094.65 Q211.852 1092.54 207.848 1092.54 Q205.973 1092.54 204.098 1092.96 Q202.246 1093.38 200.301 1094.26 L200.301 1076.9 Z\" fill=\"#000000\" fill-rule=\"evenodd\" fill-opacity=\"1\" /><path clip-path=\"url(#clip050)\" d=\"M164.028 873.604 Q160.417 873.604 158.589 877.168 Q156.783 880.71 156.783 887.84 Q156.783 894.946 158.589 898.511 Q160.417 902.053 164.028 902.053 Q167.663 902.053 169.468 898.511 Q171.297 894.946 171.297 887.84 Q171.297 880.71 169.468 877.168 Q167.663 873.604 164.028 873.604 M164.028 869.9 Q169.839 869.9 172.894 874.506 Q175.973 879.09 175.973 887.84 Q175.973 896.566 172.894 901.173 Q169.839 905.756 164.028 905.756 Q158.218 905.756 155.14 901.173 Q152.084 896.566 152.084 887.84 Q152.084 879.09 155.14 874.506 Q158.218 869.9 164.028 869.9 Z\" fill=\"#000000\" fill-rule=\"evenodd\" fill-opacity=\"1\" /><path clip-path=\"url(#clip050)\" d=\"M184.19 899.205 L189.075 899.205 L189.075 905.085 L184.19 905.085 L184.19 899.205 Z\" fill=\"#000000\" fill-rule=\"evenodd\" fill-opacity=\"1\" /><path clip-path=\"url(#clip050)\" d=\"M209.26 873.604 Q205.649 873.604 203.82 877.168 Q202.014 880.71 202.014 887.84 Q202.014 894.946 203.82 898.511 Q205.649 902.053 209.26 902.053 Q212.894 902.053 214.699 898.511 Q216.528 894.946 216.528 887.84 Q216.528 880.71 214.699 877.168 Q212.894 873.604 209.26 873.604 M209.26 869.9 Q215.07 869.9 218.125 874.506 Q221.204 879.09 221.204 887.84 Q221.204 896.566 218.125 901.173 Q215.07 905.756 209.26 905.756 Q203.449 905.756 200.371 901.173 Q197.315 896.566 197.315 887.84 Q197.315 879.09 200.371 874.506 Q203.449 869.9 209.26 869.9 Z\" fill=\"#000000\" fill-rule=\"evenodd\" fill-opacity=\"1\" /><path clip-path=\"url(#clip050)\" d=\"M165.024 667.232 Q161.413 667.232 159.584 670.797 Q157.778 674.338 157.778 681.468 Q157.778 688.575 159.584 692.139 Q161.413 695.681 165.024 695.681 Q168.658 695.681 170.464 692.139 Q172.292 688.575 172.292 681.468 Q172.292 674.338 170.464 670.797 Q168.658 667.232 165.024 667.232 M165.024 663.528 Q170.834 663.528 173.889 668.135 Q176.968 672.718 176.968 681.468 Q176.968 690.195 173.889 694.801 Q170.834 699.385 165.024 699.385 Q159.214 699.385 156.135 694.801 Q153.079 690.195 153.079 681.468 Q153.079 672.718 156.135 668.135 Q159.214 663.528 165.024 663.528 Z\" fill=\"#000000\" fill-rule=\"evenodd\" fill-opacity=\"1\" /><path clip-path=\"url(#clip050)\" d=\"M185.186 692.834 L190.07 692.834 L190.07 698.713 L185.186 698.713 L185.186 692.834 Z\" fill=\"#000000\" fill-rule=\"evenodd\" fill-opacity=\"1\" /><path clip-path=\"url(#clip050)\" d=\"M200.301 664.153 L218.658 664.153 L218.658 668.089 L204.584 668.089 L204.584 676.561 Q205.602 676.213 206.621 676.051 Q207.639 675.866 208.658 675.866 Q214.445 675.866 217.824 679.038 Q221.204 682.209 221.204 687.625 Q221.204 693.204 217.732 696.306 Q214.26 699.385 207.94 699.385 Q205.764 699.385 203.496 699.014 Q201.25 698.644 198.843 697.903 L198.843 693.204 Q200.926 694.338 203.149 694.894 Q205.371 695.449 207.848 695.449 Q211.852 695.449 214.19 693.343 Q216.528 691.237 216.528 687.625 Q216.528 684.014 214.19 681.908 Q211.852 679.801 207.848 679.801 Q205.973 679.801 204.098 680.218 Q202.246 680.635 200.301 681.514 L200.301 664.153 Z\" fill=\"#000000\" fill-rule=\"evenodd\" fill-opacity=\"1\" /><path clip-path=\"url(#clip050)\" d=\"M154.839 488.407 L162.477 488.407 L162.477 462.041 L154.167 463.708 L154.167 459.448 L162.431 457.782 L167.107 457.782 L167.107 488.407 L174.746 488.407 L174.746 492.342 L154.839 492.342 L154.839 488.407 Z\" fill=\"#000000\" fill-rule=\"evenodd\" fill-opacity=\"1\" /><path clip-path=\"url(#clip050)\" d=\"M184.19 486.462 L189.075 486.462 L189.075 492.342 L184.19 492.342 L184.19 486.462 Z\" fill=\"#000000\" fill-rule=\"evenodd\" fill-opacity=\"1\" /><path clip-path=\"url(#clip050)\" d=\"M209.26 460.86 Q205.649 460.86 203.82 464.425 Q202.014 467.967 202.014 475.096 Q202.014 482.203 203.82 485.768 Q205.649 489.309 209.26 489.309 Q212.894 489.309 214.699 485.768 Q216.528 482.203 216.528 475.096 Q216.528 467.967 214.699 464.425 Q212.894 460.86 209.26 460.86 M209.26 457.157 Q215.07 457.157 218.125 461.763 Q221.204 466.346 221.204 475.096 Q221.204 483.823 218.125 488.43 Q215.07 493.013 209.26 493.013 Q203.449 493.013 200.371 488.43 Q197.315 483.823 197.315 475.096 Q197.315 466.346 200.371 461.763 Q203.449 457.157 209.26 457.157 Z\" fill=\"#000000\" fill-rule=\"evenodd\" fill-opacity=\"1\" /><path clip-path=\"url(#clip050)\" d=\"M155.834 282.035 L163.473 282.035 L163.473 255.669 L155.163 257.336 L155.163 253.077 L163.427 251.41 L168.102 251.41 L168.102 282.035 L175.741 282.035 L175.741 285.97 L155.834 285.97 L155.834 282.035 Z\" fill=\"#000000\" fill-rule=\"evenodd\" fill-opacity=\"1\" /><path clip-path=\"url(#clip050)\" d=\"M185.186 280.09 L190.07 280.09 L190.07 285.97 L185.186 285.97 L185.186 280.09 Z\" fill=\"#000000\" fill-rule=\"evenodd\" fill-opacity=\"1\" /><path clip-path=\"url(#clip050)\" d=\"M200.301 251.41 L218.658 251.41 L218.658 255.345 L204.584 255.345 L204.584 263.817 Q205.602 263.47 206.621 263.308 Q207.639 263.123 208.658 263.123 Q214.445 263.123 217.824 266.294 Q221.204 269.466 221.204 274.882 Q221.204 280.461 217.732 283.563 Q214.26 286.641 207.94 286.641 Q205.764 286.641 203.496 286.271 Q201.25 285.901 198.843 285.16 L198.843 280.461 Q200.926 281.595 203.149 282.151 Q205.371 282.706 207.848 282.706 Q211.852 282.706 214.19 280.6 Q216.528 278.493 216.528 274.882 Q216.528 271.271 214.19 269.165 Q211.852 267.058 207.848 267.058 Q205.973 267.058 204.098 267.475 Q202.246 267.891 200.301 268.771 L200.301 251.41 Z\" fill=\"#000000\" fill-rule=\"evenodd\" fill-opacity=\"1\" /><path clip-path=\"url(#clip050)\" d=\"M28.3562 756.711 L45.7028 769.602 L64.0042 756.043 L64.0042 762.95 L49.9996 773.326 L64.0042 783.702 L64.0042 790.609 L45.3526 776.763 L28.3562 789.431 L28.3562 782.524 L41.0558 773.071 L28.3562 763.618 L28.3562 756.711 Z\" fill=\"#000000\" fill-rule=\"evenodd\" fill-opacity=\"1\" /><path clip-path=\"url(#clip050)\" d=\"M963.023 14.0809 L963.023 22.0612 Q958.364 19.8332 954.232 18.7395 Q950.101 17.6457 946.252 17.6457 Q939.568 17.6457 935.922 20.2383 Q932.317 22.8309 932.317 27.611 Q932.317 31.6214 934.707 33.6873 Q937.138 35.7128 943.862 36.9686 L948.804 37.9813 Q957.959 39.7232 962.294 44.1387 Q966.669 48.5136 966.669 55.8863 Q966.669 64.6767 960.754 69.2137 Q954.881 73.7508 943.498 73.7508 Q939.204 73.7508 934.342 72.7785 Q929.522 71.8063 924.337 69.9024 L924.337 61.4765 Q929.319 64.2716 934.099 65.6895 Q938.879 67.1073 943.498 67.1073 Q950.506 67.1073 954.313 64.3527 Q958.121 61.598 958.121 56.4939 Q958.121 52.0379 955.367 49.5264 Q952.653 47.0148 946.414 45.759 L941.432 44.7868 Q932.277 42.9639 928.185 39.075 Q924.094 35.1862 924.094 28.2591 Q924.094 20.2383 929.724 15.6203 Q935.396 11.0023 945.32 11.0023 Q949.574 11.0023 953.989 11.7719 Q958.405 12.5416 963.023 14.0809 Z\" fill=\"#000000\" fill-rule=\"evenodd\" fill-opacity=\"1\" /><path clip-path=\"url(#clip050)\" d=\"M986.478 14.324 L986.478 27.2059 L1001.83 27.2059 L1001.83 32.9987 L986.478 32.9987 L986.478 57.6282 Q986.478 63.1779 987.976 64.7578 Q989.516 66.3376 994.174 66.3376 L1001.83 66.3376 L1001.83 72.576 L994.174 72.576 Q985.546 72.576 982.265 69.3758 Q978.983 66.1351 978.983 57.6282 L978.983 32.9987 L973.515 32.9987 L973.515 27.2059 L978.983 27.2059 L978.983 14.324 L986.478 14.324 Z\" fill=\"#000000\" fill-rule=\"evenodd\" fill-opacity=\"1\" /><path clip-path=\"url(#clip050)\" d=\"M1032.25 49.7694 Q1023.22 49.7694 1019.74 51.8354 Q1016.25 53.9013 1016.25 58.8839 Q1016.25 62.8538 1018.84 65.2034 Q1021.48 67.5124 1025.97 67.5124 Q1032.17 67.5124 1035.9 63.1374 Q1039.67 58.7219 1039.67 51.4303 L1039.67 49.7694 L1032.25 49.7694 M1047.12 46.6907 L1047.12 72.576 L1039.67 72.576 L1039.67 65.6895 Q1037.11 69.8214 1033.31 71.8063 Q1029.5 73.7508 1023.99 73.7508 Q1017.02 73.7508 1012.89 69.8619 Q1008.8 65.9325 1008.8 59.3701 Q1008.8 51.7138 1013.9 47.825 Q1019.05 43.9361 1029.21 43.9361 L1039.67 43.9361 L1039.67 43.2069 Q1039.67 38.0623 1036.26 35.2672 Q1032.9 32.4315 1026.78 32.4315 Q1022.9 32.4315 1019.21 33.3632 Q1015.52 34.295 1012.12 36.1584 L1012.12 29.2718 Q1016.21 27.692 1020.06 26.9223 Q1023.91 26.1121 1027.55 26.1121 Q1037.4 26.1121 1042.26 31.2163 Q1047.12 36.3204 1047.12 46.6907 Z\" fill=\"#000000\" fill-rule=\"evenodd\" fill-opacity=\"1\" /><path clip-path=\"url(#clip050)\" d=\"M1069.85 14.324 L1069.85 27.2059 L1085.2 27.2059 L1085.2 32.9987 L1069.85 32.9987 L1069.85 57.6282 Q1069.85 63.1779 1071.34 64.7578 Q1072.88 66.3376 1077.54 66.3376 L1085.2 66.3376 L1085.2 72.576 L1077.54 72.576 Q1068.91 72.576 1065.63 69.3758 Q1062.35 66.1351 1062.35 57.6282 L1062.35 32.9987 L1056.88 32.9987 L1056.88 27.2059 L1062.35 27.2059 L1062.35 14.324 L1069.85 14.324 Z\" fill=\"#000000\" fill-rule=\"evenodd\" fill-opacity=\"1\" /><path clip-path=\"url(#clip050)\" d=\"M1133.81 48.0275 L1133.81 51.6733 L1099.54 51.6733 Q1100.02 59.3701 1104.16 63.421 Q1108.33 67.4314 1115.74 67.4314 Q1120.04 67.4314 1124.05 66.3781 Q1128.1 65.3249 1132.07 63.2184 L1132.07 70.267 Q1128.06 71.9684 1123.84 72.8596 Q1119.63 73.7508 1115.3 73.7508 Q1104.44 73.7508 1098.08 67.4314 Q1091.76 61.1119 1091.76 50.3365 Q1091.76 39.1965 1097.76 32.6746 Q1103.79 26.1121 1114 26.1121 Q1123.16 26.1121 1128.46 32.0264 Q1133.81 37.9003 1133.81 48.0275 M1126.36 45.84 Q1126.27 39.7232 1122.91 36.0774 Q1119.59 32.4315 1114.08 32.4315 Q1107.84 32.4315 1104.08 35.9558 Q1100.35 39.4801 1099.78 45.8805 L1126.36 45.84 Z\" fill=\"#000000\" fill-rule=\"evenodd\" fill-opacity=\"1\" /><path clip-path=\"url(#clip050)\" d=\"M1172.74 12.096 L1210.98 12.096 L1210.98 18.9825 L1180.92 18.9825 L1180.92 36.8875 L1209.72 36.8875 L1209.72 43.7741 L1180.92 43.7741 L1180.92 65.6895 L1211.71 65.6895 L1211.71 72.576 L1172.74 72.576 L1172.74 12.096 Z\" fill=\"#000000\" fill-rule=\"evenodd\" fill-opacity=\"1\" /><path clip-path=\"url(#clip050)\" d=\"M1251.12 34.1734 Q1249.87 33.4443 1248.37 33.1202 Q1246.91 32.7556 1245.13 32.7556 Q1238.81 32.7556 1235.41 36.8875 Q1232.04 40.9789 1232.04 48.6757 L1232.04 72.576 L1224.55 72.576 L1224.55 27.2059 L1232.04 27.2059 L1232.04 34.2544 Q1234.39 30.1225 1238.16 28.1376 Q1241.93 26.1121 1247.32 26.1121 Q1248.09 26.1121 1249.02 26.2337 Q1249.95 26.3147 1251.08 26.5172 L1251.12 34.1734 Z\" fill=\"#000000\" fill-rule=\"evenodd\" fill-opacity=\"1\" /><path clip-path=\"url(#clip050)\" d=\"M1283.77 34.1734 Q1282.52 33.4443 1281.02 33.1202 Q1279.56 32.7556 1277.78 32.7556 Q1271.46 32.7556 1268.06 36.8875 Q1264.69 40.9789 1264.69 48.6757 L1264.69 72.576 L1257.2 72.576 L1257.2 27.2059 L1264.69 27.2059 L1264.69 34.2544 Q1267.04 30.1225 1270.81 28.1376 Q1274.58 26.1121 1279.97 26.1121 Q1280.74 26.1121 1281.67 26.2337 Q1282.6 26.3147 1283.73 26.5172 L1283.77 34.1734 Z\" fill=\"#000000\" fill-rule=\"evenodd\" fill-opacity=\"1\" /><path clip-path=\"url(#clip050)\" d=\"M1307.35 32.4315 Q1301.35 32.4315 1297.87 37.1306 Q1294.39 41.7891 1294.39 49.9314 Q1294.39 58.0738 1297.83 62.7728 Q1301.31 67.4314 1307.35 67.4314 Q1313.3 67.4314 1316.79 62.7323 Q1320.27 58.0333 1320.27 49.9314 Q1320.27 41.8701 1316.79 37.1711 Q1313.3 32.4315 1307.35 32.4315 M1307.35 26.1121 Q1317.07 26.1121 1322.62 32.4315 Q1328.17 38.7509 1328.17 49.9314 Q1328.17 61.0714 1322.62 67.4314 Q1317.07 73.7508 1307.35 73.7508 Q1297.59 73.7508 1292.04 67.4314 Q1286.53 61.0714 1286.53 49.9314 Q1286.53 38.7509 1292.04 32.4315 Q1297.59 26.1121 1307.35 26.1121 Z\" fill=\"#000000\" fill-rule=\"evenodd\" fill-opacity=\"1\" /><path clip-path=\"url(#clip050)\" d=\"M1366.82 34.1734 Q1365.56 33.4443 1364.06 33.1202 Q1362.6 32.7556 1360.82 32.7556 Q1354.5 32.7556 1351.1 36.8875 Q1347.74 40.9789 1347.74 48.6757 L1347.74 72.576 L1340.24 72.576 L1340.24 27.2059 L1347.74 27.2059 L1347.74 34.2544 Q1350.09 30.1225 1353.85 28.1376 Q1357.62 26.1121 1363.01 26.1121 Q1363.78 26.1121 1364.71 26.2337 Q1365.64 26.3147 1366.78 26.5172 L1366.82 34.1734 Z\" fill=\"#000000\" fill-rule=\"evenodd\" fill-opacity=\"1\" /><path clip-path=\"url(#clip050)\" d=\"M1401.33 12.096 L1409.51 12.096 L1409.51 36.8875 L1439.25 36.8875 L1439.25 12.096 L1447.43 12.096 L1447.43 72.576 L1439.25 72.576 L1439.25 43.7741 L1409.51 43.7741 L1409.51 72.576 L1401.33 72.576 L1401.33 12.096 Z\" fill=\"#000000\" fill-rule=\"evenodd\" fill-opacity=\"1\" /><path clip-path=\"url(#clip050)\" d=\"M1463.39 27.2059 L1470.84 27.2059 L1470.84 72.576 L1463.39 72.576 L1463.39 27.2059 M1463.39 9.54393 L1470.84 9.54393 L1470.84 18.9825 L1463.39 18.9825 L1463.39 9.54393 Z\" fill=\"#000000\" fill-rule=\"evenodd\" fill-opacity=\"1\" /><path clip-path=\"url(#clip050)\" d=\"M1515.36 28.5427 L1515.36 35.5912 Q1512.2 33.9709 1508.8 33.1607 Q1505.4 32.3505 1501.75 32.3505 Q1496.2 32.3505 1493.41 34.0519 Q1490.65 35.7533 1490.65 39.156 Q1490.65 41.7486 1492.64 43.2475 Q1494.62 44.7058 1500.62 46.0426 L1503.17 46.6097 Q1511.11 48.3111 1514.43 51.4303 Q1517.79 54.509 1517.79 60.0587 Q1517.79 66.3781 1512.77 70.0644 Q1507.79 73.7508 1499.04 73.7508 Q1495.39 73.7508 1491.42 73.0216 Q1487.49 72.3329 1483.12 70.9151 L1483.12 63.2184 Q1487.25 65.3654 1491.26 66.4591 Q1495.27 67.5124 1499.2 67.5124 Q1504.47 67.5124 1507.3 65.73 Q1510.14 63.9071 1510.14 60.6258 Q1510.14 57.5877 1508.07 55.9673 Q1506.05 54.3469 1499.12 52.8481 L1496.53 52.2405 Q1489.6 50.7821 1486.52 47.7845 Q1483.44 44.7463 1483.44 39.4801 Q1483.44 33.0797 1487.98 29.5959 Q1492.52 26.1121 1500.86 26.1121 Q1504.99 26.1121 1508.64 26.7198 Q1512.28 27.3274 1515.36 28.5427 Z\" fill=\"#000000\" fill-rule=\"evenodd\" fill-opacity=\"1\" /><path clip-path=\"url(#clip050)\" d=\"M1537.04 14.324 L1537.04 27.2059 L1552.39 27.2059 L1552.39 32.9987 L1537.04 32.9987 L1537.04 57.6282 Q1537.04 63.1779 1538.53 64.7578 Q1540.07 66.3376 1544.73 66.3376 L1552.39 66.3376 L1552.39 72.576 L1544.73 72.576 Q1536.1 72.576 1532.82 69.3758 Q1529.54 66.1351 1529.54 57.6282 L1529.54 32.9987 L1524.07 32.9987 L1524.07 27.2059 L1529.54 27.2059 L1529.54 14.324 L1537.04 14.324 Z\" fill=\"#000000\" fill-rule=\"evenodd\" fill-opacity=\"1\" /><path clip-path=\"url(#clip050)\" d=\"M1579.77 32.4315 Q1573.78 32.4315 1570.29 37.1306 Q1566.81 41.7891 1566.81 49.9314 Q1566.81 58.0738 1570.25 62.7728 Q1573.74 67.4314 1579.77 67.4314 Q1585.73 67.4314 1589.21 62.7323 Q1592.7 58.0333 1592.7 49.9314 Q1592.7 41.8701 1589.21 37.1711 Q1585.73 32.4315 1579.77 32.4315 M1579.77 26.1121 Q1589.5 26.1121 1595.04 32.4315 Q1600.59 38.7509 1600.59 49.9314 Q1600.59 61.0714 1595.04 67.4314 Q1589.5 73.7508 1579.77 73.7508 Q1570.01 73.7508 1564.46 67.4314 Q1558.95 61.0714 1558.95 49.9314 Q1558.95 38.7509 1564.46 32.4315 Q1570.01 26.1121 1579.77 26.1121 Z\" fill=\"#000000\" fill-rule=\"evenodd\" fill-opacity=\"1\" /><path clip-path=\"url(#clip050)\" d=\"M1639.24 34.1734 Q1637.98 33.4443 1636.49 33.1202 Q1635.03 32.7556 1633.24 32.7556 Q1626.93 32.7556 1623.52 36.8875 Q1620.16 40.9789 1620.16 48.6757 L1620.16 72.576 L1612.67 72.576 L1612.67 27.2059 L1620.16 27.2059 L1620.16 34.2544 Q1622.51 30.1225 1626.28 28.1376 Q1630.04 26.1121 1635.43 26.1121 Q1636.2 26.1121 1637.13 26.2337 Q1638.07 26.3147 1639.2 26.5172 L1639.24 34.1734 Z\" fill=\"#000000\" fill-rule=\"evenodd\" fill-opacity=\"1\" /><path clip-path=\"url(#clip050)\" d=\"M1665.94 76.7889 Q1662.78 84.8907 1659.78 87.3618 Q1656.78 89.8329 1651.76 89.8329 L1645.8 89.8329 L1645.8 83.5945 L1650.18 83.5945 Q1653.26 83.5945 1654.96 82.1361 Q1656.66 80.6778 1658.73 75.2496 L1660.06 71.8468 L1641.71 27.2059 L1649.61 27.2059 L1663.79 62.6918 L1677.97 27.2059 L1685.87 27.2059 L1665.94 76.7889 Z\" fill=\"#000000\" fill-rule=\"evenodd\" fill-opacity=\"1\" /><polyline clip-path=\"url(#clip052)\" style=\"stroke:#009af9; stroke-linecap:round; stroke-linejoin:round; stroke-width:4; stroke-opacity:1; fill:none\" points=\"316.512,912.324 323.598,1098.12 330.684,1134.85 337.769,1144.34 344.855,1139.32 351.941,1126.68 359.027,1154.22 366.113,1158.93 373.198,1098.37 380.284,1095.94 387.37,1000.29 394.456,892.899 401.542,961.79 408.627,1082.25 415.713,1125.08 422.799,1137.92 429.885,1144.66 436.971,1070.51 444.056,1066.3 451.142,1090.2 458.228,1037.18 465.314,972.174 472.4,998.81 479.485,1038 486.571,1008.09 493.657,995.059 500.743,991.372 507.828,991.962 514.914,988.784 522,1022.73 529.086,1024.04 536.172,1038.8 543.257,1044.87 550.343,1056.4 557.429,1040.52 564.515,1054.04 571.601,1055.88 578.686,1067.32 585.772,1053.84 592.858,1063.16 599.944,1045.02 607.03,1057.33 614.115,1057.5 621.201,977.86 628.287,1009.68 635.373,1003.5 642.458,974.19 649.544,932.423 656.63,917.442 663.716,932.208 670.802,921.091 677.887,886.005 684.973,810.41 692.059,801.503 699.145,811.982 706.231,822.674 713.316,803.797 720.402,802.845 727.488,779.858 734.574,791.303 741.66,804.867 748.745,790.247 755.831,772.115 762.917,762.81 770.003,788.808 777.089,775.937 784.174,786.831 791.26,782.698 798.346,772.289 805.432,796.528 812.517,805.27 819.603,850.039 826.689,856.473 833.775,822.102 840.861,801.074 847.946,759.299 855.032,718.7 862.118,732.571 869.204,775.104 876.29,783.099 883.375,819.258 890.461,849.829 897.547,871.802 904.633,844.302 911.719,845.756 918.804,848.214 925.89,844.36 932.976,828.119 940.062,800.748 947.148,783.457 954.233,768.789 961.319,776.117 968.405,778.477 975.491,760.493 982.576,773.138 989.662,763.004 996.748,756.27 1003.83,744.276 1010.92,737.343 1018.01,712.292 1025.09,701.818 1032.18,708.961 1039.26,698.017 1046.35,687.467 1053.43,647.319 1060.52,631.171 1067.61,620.468 1074.69,595.471 1081.78,617.822 1088.86,583.069 1095.95,598.997 1103.03,604.398 1110.12,612.811 1117.21,616.771 1124.29,632.092 1131.38,609.136 1138.46,591.584 1145.55,570.978 1152.64,564.787 1159.72,564.974 1166.81,582.803 1173.89,579.417 1180.98,557.907 1188.06,571.808 1195.15,564.303 1202.24,528.625 1209.32,520.453 1216.41,514.709 1223.49,494.624 1230.58,474.883 1237.66,474.509 1244.75,471.987 1251.84,469.123 1258.92,468.799 1266.01,452.2 1273.09,437.927 1280.18,448.213 1287.27,462.523 1294.35,459.778 1301.44,465.979 1308.52,475.427 1315.61,482.022 1322.69,466.919 1329.78,487.06 1336.87,493.913 1343.95,512.759 1351.04,517.184 1358.12,539.833 1365.21,549.389 1372.29,562.359 1379.38,567.62 1386.47,574.787 1393.55,583.785 1400.64,589.31 1407.72,596.058 1414.81,608.046 1421.9,614.076 1428.98,622.724 1436.07,627.351 1443.15,635.118 1450.24,644.171 1457.32,651.27 1464.41,662.008 1471.5,665.312 1478.58,670.803 1485.67,681.938 1492.75,689.895 1499.84,698.243 1506.93,700.612 1514.01,707.267 1521.1,713.347 1528.18,722.946 1535.27,733.225 1542.35,743.416 1549.44,747.757 1556.53,754.694 1563.61,758.898 1570.7,761.902 1577.78,763.348 1584.87,765.565 1591.95,770.929 1599.04,775.796 1606.13,782.29 1613.21,787.404 1620.3,790.699 1627.38,794.088 1634.47,799.532 1641.56,801.174 1648.64,804.998 1655.73,808.491 1662.81,811.477 1669.9,811.82 1676.98,814.594 1684.07,819.594 1691.16,822.957 1698.24,825.592 1705.33,827.211 1712.41,829.726 1719.5,832.322 1726.58,836.008 1733.67,838.261 1740.76,840.898 1747.84,843.158 1754.93,844.896 1762.01,846.223 1769.1,847.741 1776.19,849.172 1783.27,850.405 1790.36,851.933 1797.44,853.942 1804.53,855.415 1811.61,855.875 1818.7,857.607 1825.79,858.159 1832.87,859.511 1839.96,860.603 1847.04,861.486 1854.13,861.923 1861.21,863.711 1868.3,864.806 1875.39,865.072 1882.47,865.452 1889.56,866.201 1896.64,866.887 1903.73,867.527 1910.82,867.825 1917.9,868.452 1924.99,869.299 1932.07,870.069 1939.16,870.71 1946.24,871.286 1953.33,871.685 1960.42,871.782 1967.5,871.845 1974.59,872.383 1981.67,872.482 1988.76,872.785 1995.84,873.382 2002.93,874.09 2010.02,874.201 2017.1,874.701 2024.19,875.245 2031.27,875.768 2038.36,876.34 2045.45,876.789 2052.53,876.954 2059.62,877.163 2066.7,877.41 2073.79,877.586 2080.87,877.885 2087.96,878.158 2095.05,878.389 2102.13,878.533 2109.22,878.65 2116.3,878.865 2123.39,878.926 2130.47,878.932 2137.56,879.032 2144.65,879.286 2151.73,879.304 2158.82,879.67 2165.9,879.901 2172.99,880.067 2180.08,880.223 2187.16,880.561 2194.25,880.737 2201.33,880.999 2208.42,881.144 2215.5,881.228 2222.59,881.442 2229.68,881.668 2236.76,881.819 2243.85,881.849 2250.93,881.906 2258.02,882.096 2265.1,882.178 2272.19,882.176 2279.28,882.264 2286.36,882.464 2293.45,882.545 \"/>\n",
       "<polyline clip-path=\"url(#clip052)\" style=\"stroke:#e26f46; stroke-linecap:round; stroke-linejoin:round; stroke-width:4; stroke-opacity:1; fill:none\" points=\"316.512,919.394 323.598,735.793 330.684,693.829 337.769,633.708 344.855,736.089 351.941,577.444 359.027,530.156 366.113,554.73 373.198,634.969 380.284,610.673 387.37,576.41 394.456,596.916 401.542,519.241 408.627,469.344 415.713,461.231 422.799,486.318 429.885,447.746 436.971,360.658 444.056,339.656 451.142,296.056 458.228,252.918 465.314,160.256 472.4,200.357 479.485,280.581 486.571,263.139 493.657,274.325 500.743,274.421 507.828,280.505 514.914,328.347 522,361.179 529.086,390.532 536.172,451.999 543.257,480.823 550.343,535.744 557.429,561.583 564.515,542.043 571.601,566.679 578.686,585.99 585.772,609.537 592.858,606.183 599.944,638.68 607.03,653.38 614.115,663.617 621.201,691.55 628.287,671.195 635.373,682.153 642.458,702.795 649.544,742.553 656.63,758.598 663.716,744.971 670.802,760.206 677.887,782.287 684.973,767.557 692.059,761.333 699.145,803.867 706.231,814.92 713.316,852.445 720.402,828.391 727.488,830.926 734.574,843.978 741.66,853.171 748.745,845.499 755.831,885.338 762.917,853.175 770.003,852.497 777.089,863.293 784.174,897.113 791.26,919.422 798.346,934.166 805.432,928.089 812.517,948.51 819.603,975.993 826.689,972.935 833.775,990.87 840.861,1013.09 847.946,1008.52 855.032,1028.08 862.118,1053.11 869.204,1028.58 876.29,1010.8 883.375,1045.49 890.461,1081.2 897.547,1135.2 904.633,1140.24 911.719,1164.71 918.804,1161.03 925.89,1159.14 932.976,1130.38 940.062,1160.79 947.148,1163.02 954.233,1150.62 961.319,1156.23 968.405,1173.33 975.491,1155.31 982.576,1180.28 989.662,1160.54 996.748,1168.65 1003.83,1171.85 1010.92,1159.98 1018.01,1171.37 1025.09,1195.19 1032.18,1208.61 1039.26,1205.88 1046.35,1231.31 1053.43,1255.28 1060.52,1290.48 1067.61,1316.91 1074.69,1288.91 1081.78,1289.16 1088.86,1289.52 1095.95,1297.68 1103.03,1301.32 1110.12,1326.31 1117.21,1364.43 1124.29,1386.4 1131.38,1378.26 1138.46,1359.67 1145.55,1349.79 1152.64,1329.43 1159.72,1340.36 1166.81,1334.44 1173.89,1331.57 1180.98,1327.2 1188.06,1336.51 1195.15,1320.74 1202.24,1314.98 1209.32,1301.88 1216.41,1303.69 1223.49,1298.27 1230.58,1295.45 1237.66,1295.54 1244.75,1292.53 1251.84,1294.49 1258.92,1295.14 1266.01,1305.23 1273.09,1300.56 1280.18,1296.12 1287.27,1283.69 1294.35,1269.41 1301.44,1279.47 1308.52,1271.32 1315.61,1259.14 1322.69,1244.15 1329.78,1237.18 1336.87,1229.37 1343.95,1211.78 1351.04,1207.59 1358.12,1208.9 1365.21,1206.35 1372.29,1189.46 1379.38,1169.66 1386.47,1154.82 1393.55,1145.7 1400.64,1140.18 1407.72,1140.66 1414.81,1140.7 1421.9,1132.56 1428.98,1120.25 1436.07,1112.94 1443.15,1107.61 1450.24,1097.1 1457.32,1086.27 1464.41,1074.49 1471.5,1067.29 1478.58,1058.92 1485.67,1046.8 1492.75,1040.23 1499.84,1033.38 1506.93,1030.82 1514.01,1024.44 1521.1,1017.35 1528.18,1014.15 1535.27,1009.97 1542.35,1007.38 1549.44,1004.32 1556.53,1001.86 1563.61,1000.07 1570.7,997.114 1577.78,992.852 1584.87,988.831 1591.95,983.78 1599.04,979.914 1606.13,976.028 1613.21,974.103 1620.3,970.536 1627.38,968.754 1634.47,966.134 1641.56,960.981 1648.64,958.681 1655.73,956.478 1662.81,953.604 1669.9,949.809 1676.98,948.446 1684.07,946.325 1691.16,943.046 1698.24,939.398 1705.33,936.433 1712.41,934.885 1719.5,933.4 1726.58,932.095 1733.67,930.284 1740.76,929.003 1747.84,927.943 1754.93,925.592 1762.01,924.37 1769.1,923.188 1776.19,922.173 1783.27,920.796 1790.36,919.829 1797.44,918.318 1804.53,917.282 1811.61,916.561 1818.7,915.961 1825.79,914.957 1832.87,914.171 1839.96,913.458 1847.04,913.36 1854.13,912.812 1861.21,911.417 1868.3,910.685 1875.39,910.38 1882.47,909.721 1889.56,909.366 1896.64,908.806 1903.73,908.757 1910.82,907.931 1917.9,907.177 1924.99,906.289 1932.07,905.285 1939.16,904.842 1946.24,904.046 1953.33,903.754 1960.42,903.323 1967.5,902.804 1974.59,902.599 1981.67,902.264 1988.76,901.944 1995.84,901.643 2002.93,901.533 2010.02,900.842 2017.1,900.369 2024.19,899.94 2031.27,899.734 2038.36,899.605 2045.45,899.055 2052.53,898.762 2059.62,898.498 2066.7,898.064 2073.79,897.833 2080.87,897.496 2087.96,897.257 2095.05,897.048 2102.13,896.834 2109.22,896.619 2116.3,896.328 2123.39,896.326 2130.47,896.166 2137.56,895.998 2144.65,895.801 2151.73,895.503 2158.82,895.437 2165.9,895.307 2172.99,895.118 2180.08,894.805 2187.16,894.798 2194.25,894.574 2201.33,894.347 2208.42,894.185 2215.5,894.061 2222.59,893.982 2229.68,893.754 2236.76,893.751 2243.85,893.651 2250.93,893.51 2258.02,893.431 2265.1,893.268 2272.19,893.085 2279.28,892.981 2286.36,892.962 2293.45,892.886 \"/>\n",
       "<polyline clip-path=\"url(#clip052)\" style=\"stroke:#3da44d; stroke-linecap:round; stroke-linejoin:round; stroke-width:4; stroke-opacity:1; fill:none\" points=\"316.512,838.474 323.598,881.982 330.684,915.932 337.769,779.964 344.855,776.713 351.941,775.238 359.027,730.153 366.113,858.562 373.198,768.498 380.284,637.392 387.37,582.043 394.456,501.745 401.542,419.551 408.627,499.083 415.713,490.485 422.799,518.33 429.885,449.412 436.971,531.282 444.056,563.961 451.142,539.156 458.228,495.53 465.314,492.244 472.4,447.313 479.485,459.281 486.571,449.435 493.657,494.709 500.743,572.85 507.828,588.015 514.914,602.508 522,624.872 529.086,641.947 536.172,654.199 543.257,676.142 550.343,649.214 557.429,615.679 564.515,614.542 571.601,628.2 578.686,621.716 585.772,647.211 592.858,661.306 599.944,653.484 607.03,666.796 614.115,672.237 621.201,688.601 628.287,706.502 635.373,742.209 642.458,776.137 649.544,770.778 656.63,772.946 663.716,826.726 670.802,853.142 677.887,861.083 684.973,874.355 692.059,831.385 699.145,818.81 706.231,809.626 713.316,827.484 720.402,792.683 727.488,792.433 734.574,785.062 741.66,789.812 748.745,810.186 755.831,797.505 762.917,793.207 770.003,810.361 777.089,817.537 784.174,808.614 791.26,831.47 798.346,837.169 805.432,837.97 812.517,833.52 819.603,837.506 826.689,834.33 833.775,846.149 840.861,857.499 847.946,898.962 855.032,913.706 862.118,935.801 869.204,905.564 876.29,948.291 883.375,956.703 890.461,929.917 897.547,936.931 904.633,946.99 911.719,929.428 918.804,942.032 925.89,968.12 932.976,956.167 940.062,990.631 947.148,990.812 954.233,981.432 961.319,1016.98 968.405,1037.58 975.491,1032.85 982.576,1027.92 989.662,1015.13 996.748,1011.68 1003.83,983.08 1010.92,997.111 1018.01,988.01 1025.09,1011 1032.18,1018.41 1039.26,1018.49 1046.35,1042.06 1053.43,1062.64 1060.52,1056.96 1067.61,1038.51 1074.69,1037.47 1081.78,994.394 1088.86,970.98 1095.95,984.691 1103.03,990.575 1110.12,1003.48 1117.21,1004.76 1124.29,1007.54 1131.38,1004.17 1138.46,1001.73 1145.55,1015.46 1152.64,990.488 1159.72,1001.52 1166.81,1030.39 1173.89,1036.99 1180.98,1042.51 1188.06,1038.32 1195.15,1030.15 1202.24,1031.17 1209.32,1038.1 1216.41,1039.98 1223.49,1033.46 1230.58,1040.32 1237.66,1044.55 1244.75,1053.81 1251.84,1055.75 1258.92,1048.8 1266.01,1029.26 1273.09,1018.66 1280.18,1007.79 1287.27,1013.19 1294.35,1007.64 1301.44,1011.43 1308.52,1004.68 1315.61,1001.38 1322.69,1014.86 1329.78,1018.75 1336.87,1017.3 1343.95,1010.45 1351.04,993.213 1358.12,989.586 1365.21,993.312 1372.29,987.851 1379.38,978.586 1386.47,983.634 1393.55,980.096 1400.64,971.631 1407.72,968.059 1414.81,969.213 1421.9,964.659 1428.98,964.115 1436.07,966.609 1443.15,957.545 1450.24,950.645 1457.32,946.191 1464.41,948.914 1471.5,946.808 1478.58,942.947 1485.67,942.37 1492.75,939.64 1499.84,938.908 1506.93,938.937 1514.01,932.951 1521.1,923.485 1528.18,922.764 1535.27,921.276 1542.35,922.299 1549.44,921.341 1556.53,921.57 1563.61,917.021 1570.7,915.603 1577.78,915.089 1584.87,913.389 1591.95,912.667 1599.04,911.496 1606.13,910.813 1613.21,911.81 1620.3,911.947 1627.38,909.172 1634.47,905.358 1641.56,905.283 1648.64,906.502 1655.73,907.306 1662.81,907.339 1669.9,908.145 1676.98,907.47 1684.07,906.522 1691.16,903.945 1698.24,903.545 1705.33,902.307 1712.41,901.076 1719.5,899.562 1726.58,900.08 1733.67,899.422 1740.76,899.192 1747.84,900.165 1754.93,901.044 1762.01,900.946 1769.1,900.149 1776.19,900.034 1783.27,899.982 1790.36,899.473 1797.44,898.929 1804.53,898.135 1811.61,896.8 1818.7,895.726 1825.79,895.214 1832.87,894.071 1839.96,894.214 1847.04,894.203 1854.13,894.33 1861.21,893.775 1868.3,894.041 1875.39,893.885 1882.47,893.658 1889.56,893.422 1896.64,893.048 1903.73,893.125 1910.82,893.128 1917.9,893.212 1924.99,892.793 1932.07,892.652 1939.16,892.084 1946.24,891.842 1953.33,892.054 1960.42,891.943 1967.5,892.009 1974.59,891.857 1981.67,891.367 1988.76,891.059 1995.84,890.76 2002.93,890.718 2010.02,890.478 2017.1,890.034 2024.19,890.16 2031.27,889.915 2038.36,889.749 2045.45,889.88 2052.53,890.02 2059.62,889.996 2066.7,889.853 2073.79,889.806 2080.87,889.879 2087.96,889.865 2095.05,889.891 2102.13,889.932 2109.22,889.856 2116.3,889.666 2123.39,889.715 2130.47,889.615 2137.56,889.566 2144.65,889.424 2151.73,889.264 2158.82,889.299 2165.9,889.06 2172.99,888.959 2180.08,888.852 2187.16,888.73 2194.25,888.773 2201.33,888.679 2208.42,888.696 2215.5,888.612 2222.59,888.506 2229.68,888.378 2236.76,888.305 2243.85,888.338 2250.93,888.33 2258.02,888.36 2265.1,888.334 2272.19,888.368 2279.28,888.318 2286.36,888.326 2293.45,888.316 \"/>\n",
       "<polyline clip-path=\"url(#clip052)\" style=\"stroke:#c271d2; stroke-linecap:round; stroke-linejoin:round; stroke-width:4; stroke-opacity:1; fill:none\" stroke-dasharray=\"16, 10\" points=\"316.512,887.685 323.598,886.55 330.684,886.429 337.769,886.319 344.855,883.338 351.941,883.161 359.027,882.677 366.113,881.009 373.198,880.906 380.284,880.788 387.37,877.414 394.456,876.347 401.542,877.072 408.627,876.355 415.713,876.25 422.799,876.157 429.885,859.864 436.971,821.059 444.056,819.841 451.142,830.12 458.228,842.23 465.314,855.602 472.4,868.328 479.485,875.435 486.571,869.587 493.657,869.513 500.743,867.141 507.828,863.691 514.914,862.512 522,859.37 529.086,853.272 536.172,847.542 543.257,840.479 550.343,833.14 557.429,826.572 564.515,821.199 571.601,815.332 578.686,809.304 585.772,803.499 592.858,797.883 599.944,792.583 607.03,788.561 614.115,783.589 621.201,779.138 628.287,776.222 635.373,772.77 642.458,768.99 649.544,765.753 656.63,764.45 663.716,762.828 670.802,758.771 677.887,756.491 684.973,755.092 692.059,754.562 699.145,756.647 706.231,756.682 713.316,756.256 720.402,754.679 727.488,755.448 734.574,755.073 741.66,754.676 748.745,753.519 755.831,751.931 762.917,751.773 770.003,751.442 777.089,749.882 784.174,748.932 791.26,748.251 798.346,746.098 805.432,744.702 812.517,743.227 819.603,741.842 826.689,739.333 833.775,737.198 840.861,734.873 847.946,732.626 855.032,729.48 862.118,727.843 869.204,725.389 876.29,724.936 883.375,721.434 890.461,719.059 897.547,717.606 904.633,714.273 911.719,711.162 918.804,708.984 925.89,705.674 932.976,701.99 940.062,700.189 947.148,696.648 954.233,694.715 961.319,693.358 968.405,689.878 975.491,687.113 982.576,685.707 989.662,684.105 996.748,683.045 1003.83,681.605 1010.92,681.489 1018.01,679.385 1025.09,678.659 1032.18,676.215 1039.26,674.382 1046.35,672.989 1053.43,670.408 1060.52,668.129 1067.61,667.043 1074.69,666.435 1081.78,665.094 1088.86,665.815 1095.95,665.833 1103.03,663.648 1110.12,661.869 1117.21,659.574 1124.29,657.673 1131.38,655.376 1138.46,653.552 1145.55,651.759 1152.64,649.218 1159.72,648.834 1166.81,646.308 1173.89,642.708 1180.98,640.641 1188.06,639.408 1195.15,640.047 1202.24,644.191 1209.32,652.935 1216.41,666.67 1223.49,685.308 1230.58,707.846 1237.66,731.78 1244.75,757.38 1251.84,783.766 1258.92,811.445 1266.01,840.207 1273.09,870.261 1280.18,899.797 1287.27,928.946 1294.35,955.584 1301.44,979.923 1308.52,1001.26 1315.61,1016.59 1322.69,1026.59 1329.78,1035.85 1336.87,1041.06 1343.95,1044.85 1351.04,1047 1358.12,1048.26 1365.21,1048.76 1372.29,1049.23 1379.38,1049.32 1386.47,1049.61 1393.55,1050.66 1400.64,1051.25 1407.72,1051.58 1414.81,1051.9 1421.9,1052.07 1428.98,1052.05 1436.07,1052.32 1443.15,1052.84 1450.24,1052.76 1457.32,1052.83 1464.41,1053.13 1471.5,1053.83 1478.58,1054.55 1485.67,1055.33 1492.75,1055.63 1499.84,1052.49 1506.93,1047.53 1514.01,1041.3 1521.1,1033.94 1528.18,1025.92 1535.27,1017.03 1542.35,1006.84 1549.44,995.394 1556.53,988.7 1563.61,982.765 1570.7,976.93 1577.78,976.939 1584.87,975.226 1591.95,973.153 1599.04,969.101 1606.13,967.614 1613.21,963.595 1620.3,959.381 1627.38,956.962 1634.47,954.416 1641.56,949.959 1648.64,950.287 1655.73,947.458 1662.81,944.617 1669.9,941.883 1676.98,940.219 1684.07,935.789 1691.16,933.728 1698.24,931.673 1705.33,929.788 1712.41,930.028 1719.5,926.308 1726.58,925.726 1733.67,923.618 1740.76,923.272 1747.84,919.919 1754.93,916.618 1762.01,914.403 1769.1,918.334 1776.19,917.093 1783.27,912.973 1790.36,911.44 1797.44,911.632 1804.53,909.358 1811.61,907.73 1818.7,908.442 1825.79,907.285 1832.87,909.031 1839.96,907.468 1847.04,904.873 1854.13,904.88 1861.21,903.438 1868.3,903.145 1875.39,901.759 1882.47,901.723 1889.56,900.81 1896.64,901.129 1903.73,901.64 1910.82,899.457 1917.9,900.951 1924.99,899.283 1932.07,898.429 1939.16,900.613 1946.24,898.95 1953.33,896.799 1960.42,896.926 1967.5,896.868 1974.59,898.077 1981.67,896.316 1988.76,897.335 1995.84,895.632 2002.93,896.298 2010.02,895.629 2017.1,895.704 2024.19,894.596 2031.27,895.132 2038.36,894.535 2045.45,893.927 2052.53,894.216 2059.62,892.667 2066.7,892.707 2073.79,894.272 2080.87,892.675 2087.96,892.965 2095.05,892.054 2102.13,891.769 2109.22,892.335 2116.3,893.408 2123.39,891.754 2130.47,891.242 2137.56,891.388 2144.65,891.442 2151.73,891.612 2158.82,891.574 2165.9,890.899 2172.99,890.822 2180.08,892.561 2187.16,890.424 2194.25,890.339 2201.33,891.08 2208.42,889.977 2215.5,890.529 2222.59,889.731 2229.68,890.238 2236.76,889.537 2243.85,889.958 2250.93,889.371 2258.02,890.754 2265.1,889.785 2272.19,889.243 2279.28,890.536 2286.36,889.618 2293.45,889.139 \"/>\n",
       "<polyline clip-path=\"url(#clip052)\" style=\"stroke:#ac8d18; stroke-linecap:round; stroke-linejoin:round; stroke-width:4; stroke-opacity:1; fill:none\" stroke-dasharray=\"16, 10\" points=\"316.512,887.919 323.598,886.26 330.684,886.376 337.769,886.501 344.855,889.501 351.941,889.666 359.027,890.246 366.113,892.531 373.198,892.646 380.284,892.749 387.37,897.358 394.456,900.784 401.542,905.842 408.627,912.026 415.713,912.136 422.799,912.254 429.885,934.835 436.971,1006.54 444.056,1057.55 451.142,1088.88 458.228,1116.06 465.314,1130.52 472.4,1158.35 479.485,1163.44 486.571,1160.27 493.657,1159.5 500.743,1161.47 507.828,1165.07 514.914,1165.29 522,1163.9 529.086,1161.63 536.172,1158.62 543.257,1154.59 550.343,1151.36 557.429,1144.84 564.515,1138.55 571.601,1134.74 578.686,1131.55 585.772,1127.55 592.858,1124.84 599.944,1122.2 607.03,1118.38 614.115,1115.82 621.201,1112.92 628.287,1111.5 635.373,1110.5 642.458,1110.29 649.544,1110.14 656.63,1108.18 663.716,1106.89 670.802,1108.56 677.887,1108.19 684.973,1107.35 692.059,1107.8 699.145,1106.05 706.231,1104.97 713.316,1103.89 720.402,1103.74 727.488,1101.67 734.574,1101.24 741.66,1100.29 748.745,1099.7 755.831,1100 762.917,1098.45 770.003,1097.91 777.089,1098.11 784.174,1097.74 791.26,1096.23 798.346,1096.02 805.432,1095 812.517,1093.77 819.603,1091.94 826.689,1090.05 833.775,1087.81 840.861,1086.34 847.946,1084.91 855.032,1085.3 862.118,1084.5 869.204,1083.99 876.29,1081.09 883.375,1081.58 890.461,1079.83 897.547,1075.92 904.633,1073.11 911.719,1070.73 918.804,1066.9 925.89,1064.68 932.976,1063.11 940.062,1060.25 947.148,1059.33 954.233,1057.04 961.319,1054.6 968.405,1054.12 975.491,1052.73 982.576,1050.56 989.662,1048.09 996.748,1045.57 1003.83,1043.39 1010.92,1040.17 1018.01,1038.99 1025.09,1036.77 1032.18,1035.77 1039.26,1034 1046.35,1032.02 1053.43,1030.8 1060.52,1029.38 1067.61,1026.72 1074.69,1023.47 1081.78,1021.37 1088.86,1017.53 1095.95,1014.47 1103.03,1012.61 1110.12,1010.25 1117.21,1007.69 1124.29,1004.13 1131.38,1000.18 1138.46,995.9 1145.55,991.604 1152.64,987.525 1159.72,981.911 1166.81,976.31 1173.89,969.924 1180.98,961.177 1188.06,950.141 1195.15,935.395 1202.24,917.153 1209.32,896.256 1216.41,874.184 1223.49,851.923 1230.58,830.595 1237.66,810.747 1244.75,792.02 1251.84,774.603 1258.92,758.325 1266.01,743.317 1273.09,729.459 1280.18,717.732 1287.27,708.502 1294.35,702.828 1301.44,701.902 1308.52,702.941 1315.61,707.266 1322.69,711.926 1329.78,715.753 1336.87,718.9 1343.95,721.868 1351.04,724.37 1358.12,726.933 1365.21,727.798 1372.29,728.01 1379.38,728.73 1386.47,729.989 1393.55,730.67 1400.64,731.679 1407.72,732.838 1414.81,733.533 1421.9,733.693 1428.98,734.188 1436.07,734.638 1443.15,735.006 1450.24,735.856 1457.32,736.678 1464.41,737.528 1471.5,738.146 1478.58,739.184 1485.67,740.476 1492.75,742.223 1499.84,746.903 1506.93,753.217 1514.01,760.579 1521.1,769.044 1528.18,778.312 1535.27,786.627 1542.35,794.215 1549.44,800.266 1556.53,804.678 1563.61,807.975 1570.7,811.759 1577.78,810.666 1584.87,813.729 1591.95,816.735 1599.04,820.594 1606.13,822.138 1613.21,824.795 1620.3,827.151 1627.38,828.964 1634.47,830.578 1641.56,833.159 1648.64,834.809 1655.73,836.892 1662.81,838.611 1669.9,841.141 1676.98,845.076 1684.07,848.112 1691.16,848.404 1698.24,850.402 1705.33,852.976 1712.41,853.947 1719.5,856.652 1726.58,856.608 1733.67,857.131 1740.76,857.417 1747.84,859.597 1754.93,861.896 1762.01,864.335 1769.1,860.962 1776.19,861.918 1783.27,865.459 1790.36,866.968 1797.44,866.531 1804.53,868.394 1811.61,869.658 1818.7,869.236 1825.79,869.622 1832.87,868.379 1839.96,869.473 1847.04,871.718 1854.13,871.202 1861.21,872.69 1868.3,872.773 1875.39,873.907 1882.47,873.978 1889.56,875.049 1896.64,874.476 1903.73,873.917 1910.82,875.739 1917.9,874.582 1924.99,876.309 1932.07,877.191 1939.16,875.193 1946.24,876.686 1953.33,878.95 1960.42,878.781 1967.5,879.05 1974.59,878.141 1981.67,879.645 1988.76,878.825 1995.84,880.439 2002.93,879.669 2010.02,879.977 2017.1,880.215 2024.19,881.292 2031.27,880.707 2038.36,881.145 2045.45,881.517 2052.53,881.259 2059.62,882.896 2066.7,882.893 2073.79,881.436 2080.87,883.016 2087.96,882.777 2095.05,883.642 2102.13,883.91 2109.22,883.403 2116.3,882.408 2123.39,884.041 2130.47,884.508 2137.56,884.418 2144.65,884.403 2151.73,884.241 2158.82,884.369 2165.9,884.874 2172.99,884.925 2180.08,883.326 2187.16,885.392 2194.25,885.36 2201.33,884.654 2208.42,885.714 2215.5,885.196 2222.59,885.949 2229.68,885.439 2236.76,886.137 2243.85,885.657 2250.93,886.254 2258.02,884.935 2265.1,885.866 2272.19,886.391 2279.28,885.227 2286.36,886.117 2293.45,886.521 \"/>\n",
       "<polyline clip-path=\"url(#clip052)\" style=\"stroke:#00a9ad; stroke-linecap:round; stroke-linejoin:round; stroke-width:4; stroke-opacity:1; fill:none\" stroke-dasharray=\"16, 10\" points=\"316.512,887.822 323.598,911.364 330.684,911.413 337.769,911.482 344.855,957.989 351.941,958.957 359.027,965.77 366.113,996.362 373.198,996.42 380.284,996.495 387.37,1059.96 394.456,1099.5 401.542,1156.82 408.627,1226.69 415.713,1226.75 422.799,1226.8 429.885,1183.44 436.971,1221.99 444.056,1144.37 451.142,1111.28 458.228,1121.91 465.314,1157.67 472.4,1165.68 479.485,1188.47 486.571,1181.15 493.657,1188.82 500.743,1155.56 507.828,1100.06 514.914,1090.78 522,1082.38 529.086,1064.34 536.172,1055.83 543.257,1050.58 550.343,1035.77 557.429,1058.55 564.515,1084.68 571.601,1083.15 578.686,1074.25 585.772,1074.77 592.858,1063.15 599.944,1052.49 607.03,1060.79 614.115,1051.18 621.201,1047.89 628.287,1040.14 635.373,1024.64 642.458,999.467 649.544,977.512 656.63,985.467 663.716,985.073 670.802,940.789 677.887,927.287 684.973,924.298 692.059,917.401 699.145,949.354 706.231,959.208 713.316,965.67 720.402,955.409 727.488,979.233 734.574,980.687 741.66,985.985 748.745,982.243 755.831,967.659 762.917,979.543 770.003,981.833 777.089,968.051 784.174,964.037 791.26,971.277 798.346,956.119 805.432,953.353 812.517,951.814 819.603,955.817 826.689,951.883 833.775,953.927 840.861,947.422 847.946,941.204 855.032,912.405 862.118,905.277 869.204,889.325 876.29,908.763 883.375,875.917 890.461,870.539 897.547,890.543 904.633,887.039 911.719,881.138 918.804,894.61 925.89,885.382 932.976,867.321 940.062,874.56 947.148,851.71 954.233,852.597 961.319,859.339 968.405,832.946 975.491,819.427 982.576,822.999 989.662,827.123 996.748,835.839 1003.83,838.599 1010.92,860.346 1018.01,849.411 1025.09,857.858 1032.18,842.382 1039.26,837.568 1046.35,837.879 1053.43,822.043 1060.52,809.881 1067.61,816.828 1074.69,832.013 1081.78,832.199 1088.86,862.456 1095.95,880.618 1103.03,869.72 1110.12,865.369 1117.21,856.512 1124.29,857.027 1131.38,855.061 1138.46,858.041 1145.55,859.638 1152.64,850.082 1159.72,867.678 1166.81,859.302 1173.89,837.356 1180.98,832.012 1188.06,828.462 1195.15,830.507 1202.24,835.153 1209.32,834.497 1216.41,827.366 1223.49,824.302 1230.58,827.634 1237.66,820.682 1244.75,814.957 1251.84,805.397 1258.92,801.43 1266.01,803.412 1273.09,815.614 1280.18,819.806 1287.27,821.965 1294.35,809.784 1301.44,806.366 1308.52,796.791 1315.61,795.205 1322.69,794.664 1329.78,784.832 1336.87,780.972 1343.95,782.187 1351.04,788.523 1358.12,801.231 1365.21,804.38 1372.29,802.196 1379.38,807.284 1386.47,815.168 1393.55,812.311 1400.64,815.73 1407.72,822.327 1414.81,825.06 1421.9,824.711 1428.98,828.688 1436.07,829.963 1443.15,828.64 1450.24,835.882 1457.32,841.679 1464.41,845.645 1471.5,844.588 1478.58,846.586 1485.67,850.012 1492.75,851.349 1499.84,853.546 1506.93,853.946 1514.01,853.309 1521.1,857.396 1528.18,863.925 1535.27,863.587 1542.35,864.348 1549.44,863.156 1556.53,863.508 1563.61,863.372 1570.7,867.871 1577.78,867.788 1584.87,868.103 1591.95,869.502 1599.04,869.749 1606.13,870.678 1613.21,871.184 1620.3,870.484 1627.38,870.332 1634.47,872.507 1641.56,875.236 1648.64,875.155 1655.73,874.255 1662.81,873.665 1669.9,873.717 1676.98,873.511 1684.07,874.201 1691.16,874.244 1698.24,876.769 1705.33,877.052 1712.41,877.564 1719.5,878.755 1726.58,879.252 1733.67,879.164 1740.76,879.377 1747.84,880.002 1754.93,879.515 1762.01,878.835 1769.1,878.157 1776.19,878.695 1783.27,879.459 1790.36,879.755 1797.44,879.78 1804.53,880.429 1811.61,881.131 1818.7,881.901 1825.79,882.606 1832.87,882.415 1839.96,883.471 1847.04,883.668 1854.13,883.471 1861.21,883.592 1868.3,883.799 1875.39,883.795 1882.47,883.843 1889.56,884.138 1896.64,884.14 1903.73,884.245 1910.82,884.498 1917.9,884.121 1924.99,884.474 1932.07,884.73 1939.16,884.303 1946.24,884.909 1953.33,885.475 1960.42,885.161 1967.5,885.225 1974.59,885.02 1981.67,885.412 1988.76,885.479 1995.84,885.916 2002.93,885.975 2010.02,886.023 2017.1,886.192 2024.19,886.534 2031.27,886.371 2038.36,886.562 2045.45,886.673 2052.53,886.528 2059.62,886.64 2066.7,886.646 2073.79,886.461 2080.87,886.754 2087.96,886.605 2095.05,886.755 2102.13,886.761 2109.22,886.671 2116.3,886.484 2123.39,886.881 2130.47,886.928 2137.56,886.937 2144.65,886.935 2151.73,887.016 2158.82,887.101 2165.9,887.144 2172.99,887.225 2180.08,887.085 2187.16,887.374 2194.25,887.386 2201.33,887.304 2208.42,887.459 2215.5,887.371 2222.59,887.508 2229.68,887.513 2236.76,887.589 2243.85,887.587 2250.93,887.619 2258.02,887.536 2265.1,887.564 2272.19,887.634 2279.28,887.495 2286.36,887.584 2293.45,887.632 \"/>\n",
       "<path clip-path=\"url(#clip050)\" d=\"M2002.98 529.676 L2282.9 529.676 L2282.9 166.796 L2002.98 166.796  Z\" fill=\"#ffffff\" fill-rule=\"evenodd\" fill-opacity=\"1\"/>\n",
       "<polyline clip-path=\"url(#clip050)\" style=\"stroke:#000000; stroke-linecap:round; stroke-linejoin:round; stroke-width:4; stroke-opacity:1; fill:none\" points=\"2002.98,529.676 2282.9,529.676 2282.9,166.796 2002.98,166.796 2002.98,529.676 \"/>\n",
       "<polyline clip-path=\"url(#clip050)\" style=\"stroke:#009af9; stroke-linecap:round; stroke-linejoin:round; stroke-width:4; stroke-opacity:1; fill:none\" points=\"2026.26,218.636 2165.97,218.636 \"/>\n",
       "<path clip-path=\"url(#clip050)\" d=\"M2213.28 221.888 L2213.28 223.971 L2193.69 223.971 Q2193.97 228.369 2196.33 230.684 Q2198.72 232.976 2202.95 232.976 Q2205.41 232.976 2207.7 232.374 Q2210.01 231.772 2212.28 230.569 L2212.28 234.596 Q2209.99 235.568 2207.58 236.078 Q2205.18 236.587 2202.7 236.587 Q2196.5 236.587 2192.86 232.976 Q2189.25 229.365 2189.25 223.207 Q2189.25 216.842 2192.68 213.115 Q2196.13 209.365 2201.96 209.365 Q2207.19 209.365 2210.22 212.745 Q2213.28 216.101 2213.28 221.888 M2209.02 220.638 Q2208.97 217.143 2207.05 215.059 Q2205.15 212.976 2202 212.976 Q2198.44 212.976 2196.29 214.99 Q2194.16 217.004 2193.83 220.661 L2209.02 220.638 Z\" fill=\"#000000\" fill-rule=\"evenodd\" fill-opacity=\"1\" /><path clip-path=\"url(#clip050)\" d=\"M2240.99 209.99 L2231.61 222.606 L2241.47 235.916 L2236.45 235.916 L2228.9 225.731 L2221.36 235.916 L2216.33 235.916 L2226.4 222.351 L2217.19 209.99 L2222.21 209.99 L2229.09 219.226 L2235.96 209.99 L2240.99 209.99 Z\" fill=\"#000000\" fill-rule=\"evenodd\" fill-opacity=\"1\" /><path clip-path=\"url(#clip050)\" d=\"M2246.63 233.369 L2251.36 233.369 L2251.36 219.226 L2246.19 220.175 L2246.19 217.49 L2251.52 216.587 L2254.69 216.587 L2254.69 233.369 L2259.44 233.369 L2259.44 235.916 L2246.63 235.916 L2246.63 233.369 Z\" fill=\"#000000\" fill-rule=\"evenodd\" fill-opacity=\"1\" /><polyline clip-path=\"url(#clip050)\" style=\"stroke:#e26f46; stroke-linecap:round; stroke-linejoin:round; stroke-width:4; stroke-opacity:1; fill:none\" points=\"2026.26,270.476 2165.97,270.476 \"/>\n",
       "<path clip-path=\"url(#clip050)\" d=\"M2213.28 273.728 L2213.28 275.811 L2193.69 275.811 Q2193.97 280.209 2196.33 282.524 Q2198.72 284.816 2202.95 284.816 Q2205.41 284.816 2207.7 284.214 Q2210.01 283.612 2212.28 282.409 L2212.28 286.436 Q2209.99 287.408 2207.58 287.918 Q2205.18 288.427 2202.7 288.427 Q2196.5 288.427 2192.86 284.816 Q2189.25 281.205 2189.25 275.047 Q2189.25 268.682 2192.68 264.955 Q2196.13 261.205 2201.96 261.205 Q2207.19 261.205 2210.22 264.585 Q2213.28 267.941 2213.28 273.728 M2209.02 272.478 Q2208.97 268.983 2207.05 266.899 Q2205.15 264.816 2202 264.816 Q2198.44 264.816 2196.29 266.83 Q2194.16 268.844 2193.83 272.501 L2209.02 272.478 Z\" fill=\"#000000\" fill-rule=\"evenodd\" fill-opacity=\"1\" /><path clip-path=\"url(#clip050)\" d=\"M2240.99 261.83 L2231.61 274.446 L2241.47 287.756 L2236.45 287.756 L2228.9 277.571 L2221.36 287.756 L2216.33 287.756 L2226.4 274.191 L2217.19 261.83 L2222.21 261.83 L2229.09 271.066 L2235.96 261.83 L2240.99 261.83 Z\" fill=\"#000000\" fill-rule=\"evenodd\" fill-opacity=\"1\" /><path clip-path=\"url(#clip050)\" d=\"M2249.23 285.117 L2259.04 285.117 L2259.04 287.756 L2245.2 287.756 L2245.2 285.209 Q2245.99 284.492 2247.44 283.196 Q2255.41 276.135 2255.41 273.959 Q2255.41 272.432 2254.2 271.506 Q2253 270.557 2251.03 270.557 Q2249.83 270.557 2248.42 270.973 Q2247 271.367 2245.34 272.177 L2245.34 269.33 Q2247.12 268.682 2248.65 268.358 Q2250.2 268.034 2251.52 268.034 Q2254.87 268.034 2256.89 269.561 Q2258.9 271.089 2258.9 273.589 Q2258.9 276.807 2251.24 283.381 Q2249.94 284.492 2249.23 285.117 Z\" fill=\"#000000\" fill-rule=\"evenodd\" fill-opacity=\"1\" /><polyline clip-path=\"url(#clip050)\" style=\"stroke:#3da44d; stroke-linecap:round; stroke-linejoin:round; stroke-width:4; stroke-opacity:1; fill:none\" points=\"2026.26,322.316 2165.97,322.316 \"/>\n",
       "<path clip-path=\"url(#clip050)\" d=\"M2213.28 325.568 L2213.28 327.651 L2193.69 327.651 Q2193.97 332.049 2196.33 334.364 Q2198.72 336.656 2202.95 336.656 Q2205.41 336.656 2207.7 336.054 Q2210.01 335.452 2212.28 334.249 L2212.28 338.276 Q2209.99 339.248 2207.58 339.758 Q2205.18 340.267 2202.7 340.267 Q2196.5 340.267 2192.86 336.656 Q2189.25 333.045 2189.25 326.887 Q2189.25 320.522 2192.68 316.795 Q2196.13 313.045 2201.96 313.045 Q2207.19 313.045 2210.22 316.425 Q2213.28 319.781 2213.28 325.568 M2209.02 324.318 Q2208.97 320.823 2207.05 318.739 Q2205.15 316.656 2202 316.656 Q2198.44 316.656 2196.29 318.67 Q2194.16 320.684 2193.83 324.341 L2209.02 324.318 Z\" fill=\"#000000\" fill-rule=\"evenodd\" fill-opacity=\"1\" /><path clip-path=\"url(#clip050)\" d=\"M2240.99 313.67 L2231.61 326.286 L2241.47 339.596 L2236.45 339.596 L2228.9 329.411 L2221.36 339.596 L2216.33 339.596 L2226.4 326.031 L2217.19 313.67 L2222.21 313.67 L2229.09 322.906 L2235.96 313.67 L2240.99 313.67 Z\" fill=\"#000000\" fill-rule=\"evenodd\" fill-opacity=\"1\" /><path clip-path=\"url(#clip050)\" d=\"M2255.15 329.133 Q2257.28 329.549 2258.44 330.823 Q2259.62 332.073 2259.62 333.971 Q2259.62 336.841 2257.42 338.392 Q2255.22 339.943 2251.12 339.943 Q2249.81 339.943 2248.35 339.688 Q2246.91 339.457 2245.29 338.994 L2245.29 336.193 Q2246.5 336.818 2247.86 337.119 Q2249.25 337.42 2250.8 337.42 Q2253.32 337.42 2254.71 336.517 Q2256.1 335.591 2256.1 333.971 Q2256.1 332.258 2254.81 331.378 Q2253.53 330.499 2251.03 330.499 L2249.04 330.499 L2249.04 327.999 L2251.22 327.999 Q2253.39 327.999 2254.5 327.281 Q2255.64 326.54 2255.64 325.151 Q2255.64 323.809 2254.48 323.114 Q2253.32 322.397 2251.12 322.397 Q2250.2 322.397 2249.02 322.605 Q2247.84 322.813 2245.96 323.346 L2245.96 320.684 Q2247.65 320.29 2249.13 320.082 Q2250.62 319.874 2251.89 319.874 Q2255.22 319.874 2257.17 321.239 Q2259.13 322.605 2259.13 324.897 Q2259.13 326.494 2258.09 327.605 Q2257.05 328.716 2255.15 329.133 Z\" fill=\"#000000\" fill-rule=\"evenodd\" fill-opacity=\"1\" /><polyline clip-path=\"url(#clip050)\" style=\"stroke:#c271d2; stroke-linecap:round; stroke-linejoin:round; stroke-width:4; stroke-opacity:1; fill:none\" stroke-dasharray=\"16, 10\" points=\"2026.26,374.156 2165.97,374.156 \"/>\n",
       "<path clip-path=\"url(#clip050)\" d=\"M2213.28 377.408 L2213.28 379.491 L2193.69 379.491 Q2193.97 383.889 2196.33 386.204 Q2198.72 388.496 2202.95 388.496 Q2205.41 388.496 2207.7 387.894 Q2210.01 387.292 2212.28 386.089 L2212.28 390.116 Q2209.99 391.088 2207.58 391.598 Q2205.18 392.107 2202.7 392.107 Q2196.5 392.107 2192.86 388.496 Q2189.25 384.885 2189.25 378.727 Q2189.25 372.362 2192.68 368.635 Q2196.13 364.885 2201.96 364.885 Q2207.19 364.885 2210.22 368.265 Q2213.28 371.621 2213.28 377.408 M2209.02 376.158 Q2208.97 372.663 2207.05 370.579 Q2205.15 368.496 2202 368.496 Q2198.44 368.496 2196.29 370.51 Q2194.16 372.524 2193.83 376.181 L2209.02 376.158 Z\" fill=\"#000000\" fill-rule=\"evenodd\" fill-opacity=\"1\" /><path clip-path=\"url(#clip050)\" d=\"M2240.99 365.51 L2231.61 378.126 L2241.47 391.436 L2236.45 391.436 L2228.9 381.251 L2221.36 391.436 L2216.33 391.436 L2226.4 377.871 L2217.19 365.51 L2222.21 365.51 L2229.09 374.746 L2235.96 365.51 L2240.99 365.51 Z\" fill=\"#000000\" fill-rule=\"evenodd\" fill-opacity=\"1\" /><path clip-path=\"url(#clip050)\" d=\"M2229 355.417 L2233.25 355.417 L2233.25 360.811 L2229 360.811 L2229 355.417 M2231.17 364.885 L2231.17 364.885 Z\" fill=\"#000000\" fill-rule=\"evenodd\" fill-opacity=\"1\" /><path clip-path=\"url(#clip050)\" d=\"M2246.63 388.889 L2251.36 388.889 L2251.36 374.746 L2246.19 375.695 L2246.19 373.01 L2251.52 372.107 L2254.69 372.107 L2254.69 388.889 L2259.44 388.889 L2259.44 391.436 L2246.63 391.436 L2246.63 388.889 Z\" fill=\"#000000\" fill-rule=\"evenodd\" fill-opacity=\"1\" /><polyline clip-path=\"url(#clip050)\" style=\"stroke:#ac8d18; stroke-linecap:round; stroke-linejoin:round; stroke-width:4; stroke-opacity:1; fill:none\" stroke-dasharray=\"16, 10\" points=\"2026.26,425.996 2165.97,425.996 \"/>\n",
       "<path clip-path=\"url(#clip050)\" d=\"M2213.28 429.248 L2213.28 431.331 L2193.69 431.331 Q2193.97 435.729 2196.33 438.044 Q2198.72 440.336 2202.95 440.336 Q2205.41 440.336 2207.7 439.734 Q2210.01 439.132 2212.28 437.929 L2212.28 441.956 Q2209.99 442.928 2207.58 443.438 Q2205.18 443.947 2202.7 443.947 Q2196.5 443.947 2192.86 440.336 Q2189.25 436.725 2189.25 430.567 Q2189.25 424.202 2192.68 420.475 Q2196.13 416.725 2201.96 416.725 Q2207.19 416.725 2210.22 420.105 Q2213.28 423.461 2213.28 429.248 M2209.02 427.998 Q2208.97 424.503 2207.05 422.419 Q2205.15 420.336 2202 420.336 Q2198.44 420.336 2196.29 422.35 Q2194.16 424.364 2193.83 428.021 L2209.02 427.998 Z\" fill=\"#000000\" fill-rule=\"evenodd\" fill-opacity=\"1\" /><path clip-path=\"url(#clip050)\" d=\"M2240.99 417.35 L2231.61 429.966 L2241.47 443.276 L2236.45 443.276 L2228.9 433.091 L2221.36 443.276 L2216.33 443.276 L2226.4 429.711 L2217.19 417.35 L2222.21 417.35 L2229.09 426.586 L2235.96 417.35 L2240.99 417.35 Z\" fill=\"#000000\" fill-rule=\"evenodd\" fill-opacity=\"1\" /><path clip-path=\"url(#clip050)\" d=\"M2229 407.257 L2233.25 407.257 L2233.25 412.651 L2229 412.651 L2229 407.257 M2231.17 416.725 L2231.17 416.725 Z\" fill=\"#000000\" fill-rule=\"evenodd\" fill-opacity=\"1\" /><path clip-path=\"url(#clip050)\" d=\"M2249.23 440.637 L2259.04 440.637 L2259.04 443.276 L2245.2 443.276 L2245.2 440.729 Q2245.99 440.012 2247.44 438.716 Q2255.41 431.655 2255.41 429.479 Q2255.41 427.952 2254.2 427.026 Q2253 426.077 2251.03 426.077 Q2249.83 426.077 2248.42 426.493 Q2247 426.887 2245.34 427.697 L2245.34 424.85 Q2247.12 424.202 2248.65 423.878 Q2250.2 423.554 2251.52 423.554 Q2254.87 423.554 2256.89 425.081 Q2258.9 426.609 2258.9 429.109 Q2258.9 432.327 2251.24 438.901 Q2249.94 440.012 2249.23 440.637 Z\" fill=\"#000000\" fill-rule=\"evenodd\" fill-opacity=\"1\" /><polyline clip-path=\"url(#clip050)\" style=\"stroke:#00a9ad; stroke-linecap:round; stroke-linejoin:round; stroke-width:4; stroke-opacity:1; fill:none\" stroke-dasharray=\"16, 10\" points=\"2026.26,477.836 2165.97,477.836 \"/>\n",
       "<path clip-path=\"url(#clip050)\" d=\"M2213.28 481.088 L2213.28 483.171 L2193.69 483.171 Q2193.97 487.569 2196.33 489.884 Q2198.72 492.176 2202.95 492.176 Q2205.41 492.176 2207.7 491.574 Q2210.01 490.972 2212.28 489.769 L2212.28 493.796 Q2209.99 494.768 2207.58 495.278 Q2205.18 495.787 2202.7 495.787 Q2196.5 495.787 2192.86 492.176 Q2189.25 488.565 2189.25 482.407 Q2189.25 476.042 2192.68 472.315 Q2196.13 468.565 2201.96 468.565 Q2207.19 468.565 2210.22 471.945 Q2213.28 475.301 2213.28 481.088 M2209.02 479.838 Q2208.97 476.343 2207.05 474.259 Q2205.15 472.176 2202 472.176 Q2198.44 472.176 2196.29 474.19 Q2194.16 476.204 2193.83 479.861 L2209.02 479.838 Z\" fill=\"#000000\" fill-rule=\"evenodd\" fill-opacity=\"1\" /><path clip-path=\"url(#clip050)\" d=\"M2240.99 469.19 L2231.61 481.806 L2241.47 495.116 L2236.45 495.116 L2228.9 484.931 L2221.36 495.116 L2216.33 495.116 L2226.4 481.551 L2217.19 469.19 L2222.21 469.19 L2229.09 478.426 L2235.96 469.19 L2240.99 469.19 Z\" fill=\"#000000\" fill-rule=\"evenodd\" fill-opacity=\"1\" /><path clip-path=\"url(#clip050)\" d=\"M2229 459.097 L2233.25 459.097 L2233.25 464.491 L2229 464.491 L2229 459.097 M2231.17 468.565 L2231.17 468.565 Z\" fill=\"#000000\" fill-rule=\"evenodd\" fill-opacity=\"1\" /><path clip-path=\"url(#clip050)\" d=\"M2255.15 484.653 Q2257.28 485.069 2258.44 486.343 Q2259.62 487.593 2259.62 489.491 Q2259.62 492.361 2257.42 493.912 Q2255.22 495.463 2251.12 495.463 Q2249.81 495.463 2248.35 495.208 Q2246.91 494.977 2245.29 494.514 L2245.29 491.713 Q2246.5 492.338 2247.86 492.639 Q2249.25 492.94 2250.8 492.94 Q2253.32 492.94 2254.71 492.037 Q2256.1 491.111 2256.1 489.491 Q2256.1 487.778 2254.81 486.898 Q2253.53 486.019 2251.03 486.019 L2249.04 486.019 L2249.04 483.519 L2251.22 483.519 Q2253.39 483.519 2254.5 482.801 Q2255.64 482.06 2255.64 480.671 Q2255.64 479.329 2254.48 478.634 Q2253.32 477.917 2251.12 477.917 Q2250.2 477.917 2249.02 478.125 Q2247.84 478.333 2245.96 478.866 L2245.96 476.204 Q2247.65 475.81 2249.13 475.602 Q2250.62 475.394 2251.89 475.394 Q2255.22 475.394 2257.17 476.759 Q2259.13 478.125 2259.13 480.417 Q2259.13 482.014 2258.09 483.125 Q2257.05 484.236 2255.15 484.653 Z\" fill=\"#000000\" fill-rule=\"evenodd\" fill-opacity=\"1\" /></svg>\n"
      ]
     },
     "metadata": {},
     "output_type": "display_data"
    },
    {
     "data": {
      "image/svg+xml": [
       "<?xml version=\"1.0\" encoding=\"utf-8\"?>\n",
       "<svg xmlns=\"http://www.w3.org/2000/svg\" xmlns:xlink=\"http://www.w3.org/1999/xlink\" width=\"600\" height=\"400\" viewBox=\"0 0 2400 1600\">\n",
       "<defs>\n",
       "  <clipPath id=\"clip090\">\n",
       "    <rect x=\"0\" y=\"0\" width=\"2400\" height=\"1600\"/>\n",
       "  </clipPath>\n",
       "</defs>\n",
       "<path clip-path=\"url(#clip090)\" d=\"M0 1600 L2400 1600 L2400 0 L0 0  Z\" fill=\"#ffffff\" fill-rule=\"evenodd\" fill-opacity=\"1\"/>\n",
       "<defs>\n",
       "  <clipPath id=\"clip091\">\n",
       "    <rect x=\"480\" y=\"0\" width=\"1681\" height=\"1600\"/>\n",
       "  </clipPath>\n",
       "</defs>\n",
       "<path clip-path=\"url(#clip090)\" d=\"M234.125 1423.18 L2352.76 1423.18 L2352.76 123.472 L234.125 123.472  Z\" fill=\"#ffffff\" fill-rule=\"evenodd\" fill-opacity=\"1\"/>\n",
       "<defs>\n",
       "  <clipPath id=\"clip092\">\n",
       "    <rect x=\"234\" y=\"123\" width=\"2120\" height=\"1301\"/>\n",
       "  </clipPath>\n",
       "</defs>\n",
       "<polyline clip-path=\"url(#clip092)\" style=\"stroke:#000000; stroke-linecap:round; stroke-linejoin:round; stroke-width:2; stroke-opacity:0.1; fill:none\" points=\"294.087,1423.18 294.087,123.472 \"/>\n",
       "<polyline clip-path=\"url(#clip092)\" style=\"stroke:#000000; stroke-linecap:round; stroke-linejoin:round; stroke-width:2; stroke-opacity:0.1; fill:none\" points=\"654.864,1423.18 654.864,123.472 \"/>\n",
       "<polyline clip-path=\"url(#clip092)\" style=\"stroke:#000000; stroke-linecap:round; stroke-linejoin:round; stroke-width:2; stroke-opacity:0.1; fill:none\" points=\"1015.64,1423.18 1015.64,123.472 \"/>\n",
       "<polyline clip-path=\"url(#clip092)\" style=\"stroke:#000000; stroke-linecap:round; stroke-linejoin:round; stroke-width:2; stroke-opacity:0.1; fill:none\" points=\"1376.42,1423.18 1376.42,123.472 \"/>\n",
       "<polyline clip-path=\"url(#clip092)\" style=\"stroke:#000000; stroke-linecap:round; stroke-linejoin:round; stroke-width:2; stroke-opacity:0.1; fill:none\" points=\"1737.2,1423.18 1737.2,123.472 \"/>\n",
       "<polyline clip-path=\"url(#clip092)\" style=\"stroke:#000000; stroke-linecap:round; stroke-linejoin:round; stroke-width:2; stroke-opacity:0.1; fill:none\" points=\"2097.97,1423.18 2097.97,123.472 \"/>\n",
       "<polyline clip-path=\"url(#clip090)\" style=\"stroke:#000000; stroke-linecap:round; stroke-linejoin:round; stroke-width:4; stroke-opacity:1; fill:none\" points=\"234.125,1423.18 2352.76,1423.18 \"/>\n",
       "<polyline clip-path=\"url(#clip090)\" style=\"stroke:#000000; stroke-linecap:round; stroke-linejoin:round; stroke-width:4; stroke-opacity:1; fill:none\" points=\"294.087,1423.18 294.087,1404.28 \"/>\n",
       "<polyline clip-path=\"url(#clip090)\" style=\"stroke:#000000; stroke-linecap:round; stroke-linejoin:round; stroke-width:4; stroke-opacity:1; fill:none\" points=\"654.864,1423.18 654.864,1404.28 \"/>\n",
       "<polyline clip-path=\"url(#clip090)\" style=\"stroke:#000000; stroke-linecap:round; stroke-linejoin:round; stroke-width:4; stroke-opacity:1; fill:none\" points=\"1015.64,1423.18 1015.64,1404.28 \"/>\n",
       "<polyline clip-path=\"url(#clip090)\" style=\"stroke:#000000; stroke-linecap:round; stroke-linejoin:round; stroke-width:4; stroke-opacity:1; fill:none\" points=\"1376.42,1423.18 1376.42,1404.28 \"/>\n",
       "<polyline clip-path=\"url(#clip090)\" style=\"stroke:#000000; stroke-linecap:round; stroke-linejoin:round; stroke-width:4; stroke-opacity:1; fill:none\" points=\"1737.2,1423.18 1737.2,1404.28 \"/>\n",
       "<polyline clip-path=\"url(#clip090)\" style=\"stroke:#000000; stroke-linecap:round; stroke-linejoin:round; stroke-width:4; stroke-opacity:1; fill:none\" points=\"2097.97,1423.18 2097.97,1404.28 \"/>\n",
       "<path clip-path=\"url(#clip090)\" d=\"M271.471 1454.1 Q267.86 1454.1 266.031 1457.66 Q264.226 1461.2 264.226 1468.33 Q264.226 1475.44 266.031 1479.01 Q267.86 1482.55 271.471 1482.55 Q275.105 1482.55 276.911 1479.01 Q278.74 1475.44 278.74 1468.33 Q278.74 1461.2 276.911 1457.66 Q275.105 1454.1 271.471 1454.1 M271.471 1450.39 Q277.281 1450.39 280.337 1455 Q283.415 1459.58 283.415 1468.33 Q283.415 1477.06 280.337 1481.67 Q277.281 1486.25 271.471 1486.25 Q265.661 1486.25 262.582 1481.67 Q259.527 1477.06 259.527 1468.33 Q259.527 1459.58 262.582 1455 Q265.661 1450.39 271.471 1450.39 Z\" fill=\"#000000\" fill-rule=\"evenodd\" fill-opacity=\"1\" /><path clip-path=\"url(#clip090)\" d=\"M291.633 1479.7 L296.517 1479.7 L296.517 1485.58 L291.633 1485.58 L291.633 1479.7 Z\" fill=\"#000000\" fill-rule=\"evenodd\" fill-opacity=\"1\" /><path clip-path=\"url(#clip090)\" d=\"M316.702 1454.1 Q313.091 1454.1 311.263 1457.66 Q309.457 1461.2 309.457 1468.33 Q309.457 1475.44 311.263 1479.01 Q313.091 1482.55 316.702 1482.55 Q320.337 1482.55 322.142 1479.01 Q323.971 1475.44 323.971 1468.33 Q323.971 1461.2 322.142 1457.66 Q320.337 1454.1 316.702 1454.1 M316.702 1450.39 Q322.512 1450.39 325.568 1455 Q328.647 1459.58 328.647 1468.33 Q328.647 1477.06 325.568 1481.67 Q322.512 1486.25 316.702 1486.25 Q310.892 1486.25 307.813 1481.67 Q304.758 1477.06 304.758 1468.33 Q304.758 1459.58 307.813 1455 Q310.892 1450.39 316.702 1450.39 Z\" fill=\"#000000\" fill-rule=\"evenodd\" fill-opacity=\"1\" /><path clip-path=\"url(#clip090)\" d=\"M626.601 1481.64 L642.92 1481.64 L642.92 1485.58 L620.976 1485.58 L620.976 1481.64 Q623.638 1478.89 628.221 1474.26 Q632.827 1469.61 634.008 1468.27 Q636.253 1465.74 637.133 1464.01 Q638.036 1462.25 638.036 1460.56 Q638.036 1457.8 636.091 1456.07 Q634.17 1454.33 631.068 1454.33 Q628.869 1454.33 626.415 1455.09 Q623.985 1455.86 621.207 1457.41 L621.207 1452.69 Q624.031 1451.55 626.485 1450.97 Q628.939 1450.39 630.976 1450.39 Q636.346 1450.39 639.54 1453.08 Q642.735 1455.77 642.735 1460.26 Q642.735 1462.39 641.925 1464.31 Q641.138 1466.2 639.031 1468.8 Q638.452 1469.47 635.351 1472.69 Q632.249 1475.88 626.601 1481.64 Z\" fill=\"#000000\" fill-rule=\"evenodd\" fill-opacity=\"1\" /><path clip-path=\"url(#clip090)\" d=\"M652.735 1479.7 L657.619 1479.7 L657.619 1485.58 L652.735 1485.58 L652.735 1479.7 Z\" fill=\"#000000\" fill-rule=\"evenodd\" fill-opacity=\"1\" /><path clip-path=\"url(#clip090)\" d=\"M667.85 1451.02 L686.207 1451.02 L686.207 1454.96 L672.133 1454.96 L672.133 1463.43 Q673.151 1463.08 674.17 1462.92 Q675.188 1462.73 676.207 1462.73 Q681.994 1462.73 685.373 1465.9 Q688.753 1469.08 688.753 1474.49 Q688.753 1480.07 685.281 1483.17 Q681.809 1486.25 675.489 1486.25 Q673.313 1486.25 671.045 1485.88 Q668.799 1485.51 666.392 1484.77 L666.392 1480.07 Q668.475 1481.2 670.698 1481.76 Q672.92 1482.32 675.397 1482.32 Q679.401 1482.32 681.739 1480.21 Q684.077 1478.1 684.077 1474.49 Q684.077 1470.88 681.739 1468.77 Q679.401 1466.67 675.397 1466.67 Q673.522 1466.67 671.647 1467.08 Q669.795 1467.5 667.85 1468.38 L667.85 1451.02 Z\" fill=\"#000000\" fill-rule=\"evenodd\" fill-opacity=\"1\" /><path clip-path=\"url(#clip090)\" d=\"M982.806 1451.02 L1001.16 1451.02 L1001.16 1454.96 L987.089 1454.96 L987.089 1463.43 Q988.107 1463.08 989.126 1462.92 Q990.144 1462.73 991.163 1462.73 Q996.95 1462.73 1000.33 1465.9 Q1003.71 1469.08 1003.71 1474.49 Q1003.71 1480.07 1000.24 1483.17 Q996.765 1486.25 990.445 1486.25 Q988.269 1486.25 986.001 1485.88 Q983.756 1485.51 981.348 1484.77 L981.348 1480.07 Q983.431 1481.2 985.654 1481.76 Q987.876 1482.32 990.353 1482.32 Q994.357 1482.32 996.695 1480.21 Q999.033 1478.1 999.033 1474.49 Q999.033 1470.88 996.695 1468.77 Q994.357 1466.67 990.353 1466.67 Q988.478 1466.67 986.603 1467.08 Q984.751 1467.5 982.806 1468.38 L982.806 1451.02 Z\" fill=\"#000000\" fill-rule=\"evenodd\" fill-opacity=\"1\" /><path clip-path=\"url(#clip090)\" d=\"M1012.92 1479.7 L1017.81 1479.7 L1017.81 1485.58 L1012.92 1485.58 L1012.92 1479.7 Z\" fill=\"#000000\" fill-rule=\"evenodd\" fill-opacity=\"1\" /><path clip-path=\"url(#clip090)\" d=\"M1037.99 1454.1 Q1034.38 1454.1 1032.55 1457.66 Q1030.75 1461.2 1030.75 1468.33 Q1030.75 1475.44 1032.55 1479.01 Q1034.38 1482.55 1037.99 1482.55 Q1041.63 1482.55 1043.43 1479.01 Q1045.26 1475.44 1045.26 1468.33 Q1045.26 1461.2 1043.43 1457.66 Q1041.63 1454.1 1037.99 1454.1 M1037.99 1450.39 Q1043.8 1450.39 1046.86 1455 Q1049.94 1459.58 1049.94 1468.33 Q1049.94 1477.06 1046.86 1481.67 Q1043.8 1486.25 1037.99 1486.25 Q1032.18 1486.25 1029.1 1481.67 Q1026.05 1477.06 1026.05 1468.33 Q1026.05 1459.58 1029.1 1455 Q1032.18 1450.39 1037.99 1450.39 Z\" fill=\"#000000\" fill-rule=\"evenodd\" fill-opacity=\"1\" /><path clip-path=\"url(#clip090)\" d=\"M1342.74 1451.02 L1364.96 1451.02 L1364.96 1453.01 L1352.42 1485.58 L1347.53 1485.58 L1359.34 1454.96 L1342.74 1454.96 L1342.74 1451.02 Z\" fill=\"#000000\" fill-rule=\"evenodd\" fill-opacity=\"1\" /><path clip-path=\"url(#clip090)\" d=\"M1374.08 1479.7 L1378.97 1479.7 L1378.97 1485.58 L1374.08 1485.58 L1374.08 1479.7 Z\" fill=\"#000000\" fill-rule=\"evenodd\" fill-opacity=\"1\" /><path clip-path=\"url(#clip090)\" d=\"M1389.2 1451.02 L1407.55 1451.02 L1407.55 1454.96 L1393.48 1454.96 L1393.48 1463.43 Q1394.5 1463.08 1395.52 1462.92 Q1396.54 1462.73 1397.55 1462.73 Q1403.34 1462.73 1406.72 1465.9 Q1410.1 1469.08 1410.1 1474.49 Q1410.1 1480.07 1406.63 1483.17 Q1403.16 1486.25 1396.84 1486.25 Q1394.66 1486.25 1392.39 1485.88 Q1390.15 1485.51 1387.74 1484.77 L1387.74 1480.07 Q1389.82 1481.2 1392.04 1481.76 Q1394.27 1482.32 1396.74 1482.32 Q1400.75 1482.32 1403.09 1480.21 Q1405.42 1478.1 1405.42 1474.49 Q1405.42 1470.88 1403.09 1468.77 Q1400.75 1466.67 1396.74 1466.67 Q1394.87 1466.67 1392.99 1467.08 Q1391.14 1467.5 1389.2 1468.38 L1389.2 1451.02 Z\" fill=\"#000000\" fill-rule=\"evenodd\" fill-opacity=\"1\" /><path clip-path=\"url(#clip090)\" d=\"M1689.27 1481.64 L1696.91 1481.64 L1696.91 1455.28 L1688.6 1456.95 L1688.6 1452.69 L1696.86 1451.02 L1701.54 1451.02 L1701.54 1481.64 L1709.18 1481.64 L1709.18 1485.58 L1689.27 1485.58 L1689.27 1481.64 Z\" fill=\"#000000\" fill-rule=\"evenodd\" fill-opacity=\"1\" /><path clip-path=\"url(#clip090)\" d=\"M1728.62 1454.1 Q1725.01 1454.1 1723.18 1457.66 Q1721.38 1461.2 1721.38 1468.33 Q1721.38 1475.44 1723.18 1479.01 Q1725.01 1482.55 1728.62 1482.55 Q1732.26 1482.55 1734.06 1479.01 Q1735.89 1475.44 1735.89 1468.33 Q1735.89 1461.2 1734.06 1457.66 Q1732.26 1454.1 1728.62 1454.1 M1728.62 1450.39 Q1734.43 1450.39 1737.49 1455 Q1740.57 1459.58 1740.57 1468.33 Q1740.57 1477.06 1737.49 1481.67 Q1734.43 1486.25 1728.62 1486.25 Q1722.81 1486.25 1719.73 1481.67 Q1716.68 1477.06 1716.68 1468.33 Q1716.68 1459.58 1719.73 1455 Q1722.81 1450.39 1728.62 1450.39 Z\" fill=\"#000000\" fill-rule=\"evenodd\" fill-opacity=\"1\" /><path clip-path=\"url(#clip090)\" d=\"M1748.78 1479.7 L1753.67 1479.7 L1753.67 1485.58 L1748.78 1485.58 L1748.78 1479.7 Z\" fill=\"#000000\" fill-rule=\"evenodd\" fill-opacity=\"1\" /><path clip-path=\"url(#clip090)\" d=\"M1773.85 1454.1 Q1770.24 1454.1 1768.41 1457.66 Q1766.61 1461.2 1766.61 1468.33 Q1766.61 1475.44 1768.41 1479.01 Q1770.24 1482.55 1773.85 1482.55 Q1777.49 1482.55 1779.29 1479.01 Q1781.12 1475.44 1781.12 1468.33 Q1781.12 1461.2 1779.29 1457.66 Q1777.49 1454.1 1773.85 1454.1 M1773.85 1450.39 Q1779.66 1450.39 1782.72 1455 Q1785.8 1459.58 1785.8 1468.33 Q1785.8 1477.06 1782.72 1481.67 Q1779.66 1486.25 1773.85 1486.25 Q1768.04 1486.25 1764.96 1481.67 Q1761.91 1477.06 1761.91 1468.33 Q1761.91 1459.58 1764.96 1455 Q1768.04 1450.39 1773.85 1450.39 Z\" fill=\"#000000\" fill-rule=\"evenodd\" fill-opacity=\"1\" /><path clip-path=\"url(#clip090)\" d=\"M2050.54 1481.64 L2058.18 1481.64 L2058.18 1455.28 L2049.87 1456.95 L2049.87 1452.69 L2058.14 1451.02 L2062.81 1451.02 L2062.81 1481.64 L2070.45 1481.64 L2070.45 1485.58 L2050.54 1485.58 L2050.54 1481.64 Z\" fill=\"#000000\" fill-rule=\"evenodd\" fill-opacity=\"1\" /><path clip-path=\"url(#clip090)\" d=\"M2083.92 1481.64 L2100.24 1481.64 L2100.24 1485.58 L2078.3 1485.58 L2078.3 1481.64 Q2080.96 1478.89 2085.54 1474.26 Q2090.15 1469.61 2091.33 1468.27 Q2093.58 1465.74 2094.46 1464.01 Q2095.36 1462.25 2095.36 1460.56 Q2095.36 1457.8 2093.41 1456.07 Q2091.49 1454.33 2088.39 1454.33 Q2086.19 1454.33 2083.74 1455.09 Q2081.31 1455.86 2078.53 1457.41 L2078.53 1452.69 Q2081.35 1451.55 2083.81 1450.97 Q2086.26 1450.39 2088.3 1450.39 Q2093.67 1450.39 2096.86 1453.08 Q2100.06 1455.77 2100.06 1460.26 Q2100.06 1462.39 2099.25 1464.31 Q2098.46 1466.2 2096.35 1468.8 Q2095.78 1469.47 2092.67 1472.69 Q2089.57 1475.88 2083.92 1481.64 Z\" fill=\"#000000\" fill-rule=\"evenodd\" fill-opacity=\"1\" /><path clip-path=\"url(#clip090)\" d=\"M2110.06 1479.7 L2114.94 1479.7 L2114.94 1485.58 L2110.06 1485.58 L2110.06 1479.7 Z\" fill=\"#000000\" fill-rule=\"evenodd\" fill-opacity=\"1\" /><path clip-path=\"url(#clip090)\" d=\"M2125.17 1451.02 L2143.53 1451.02 L2143.53 1454.96 L2129.46 1454.96 L2129.46 1463.43 Q2130.47 1463.08 2131.49 1462.92 Q2132.51 1462.73 2133.53 1462.73 Q2139.32 1462.73 2142.7 1465.9 Q2146.08 1469.08 2146.08 1474.49 Q2146.08 1480.07 2142.6 1483.17 Q2139.13 1486.25 2132.81 1486.25 Q2130.64 1486.25 2128.37 1485.88 Q2126.12 1485.51 2123.72 1484.77 L2123.72 1480.07 Q2125.8 1481.2 2128.02 1481.76 Q2130.24 1482.32 2132.72 1482.32 Q2136.72 1482.32 2139.06 1480.21 Q2141.4 1478.1 2141.4 1474.49 Q2141.4 1470.88 2139.06 1468.77 Q2136.72 1466.67 2132.72 1466.67 Q2130.84 1466.67 2128.97 1467.08 Q2127.12 1467.5 2125.17 1468.38 L2125.17 1451.02 Z\" fill=\"#000000\" fill-rule=\"evenodd\" fill-opacity=\"1\" /><path clip-path=\"url(#clip090)\" d=\"M1180.89 1522.27 L1180.89 1532.4 L1192.96 1532.4 L1192.96 1536.95 L1180.89 1536.95 L1180.89 1556.3 Q1180.89 1560.66 1182.07 1561.9 Q1183.28 1563.14 1186.94 1563.14 L1192.96 1563.14 L1192.96 1568.04 L1186.94 1568.04 Q1180.16 1568.04 1177.58 1565.53 Q1175.01 1562.98 1175.01 1556.3 L1175.01 1536.95 L1170.71 1536.95 L1170.71 1532.4 L1175.01 1532.4 L1175.01 1522.27 L1180.89 1522.27 Z\" fill=\"#000000\" fill-rule=\"evenodd\" fill-opacity=\"1\" /><path clip-path=\"url(#clip090)\" d=\"M1200.66 1532.4 L1206.52 1532.4 L1206.52 1568.04 L1200.66 1568.04 L1200.66 1532.4 M1200.66 1518.52 L1206.52 1518.52 L1206.52 1525.93 L1200.66 1525.93 L1200.66 1518.52 Z\" fill=\"#000000\" fill-rule=\"evenodd\" fill-opacity=\"1\" /><path clip-path=\"url(#clip090)\" d=\"M1246.53 1539.24 Q1248.72 1535.29 1251.78 1533.41 Q1254.83 1531.54 1258.97 1531.54 Q1264.54 1531.54 1267.56 1535.45 Q1270.59 1539.33 1270.59 1546.53 L1270.59 1568.04 L1264.7 1568.04 L1264.7 1546.72 Q1264.7 1541.59 1262.89 1539.11 Q1261.07 1536.63 1257.35 1536.63 Q1252.8 1536.63 1250.15 1539.65 Q1247.51 1542.68 1247.51 1547.9 L1247.51 1568.04 L1241.62 1568.04 L1241.62 1546.72 Q1241.62 1541.56 1239.81 1539.11 Q1238 1536.63 1234.21 1536.63 Q1229.72 1536.63 1227.08 1539.68 Q1224.44 1542.71 1224.44 1547.9 L1224.44 1568.04 L1218.55 1568.04 L1218.55 1532.4 L1224.44 1532.4 L1224.44 1537.93 Q1226.44 1534.66 1229.24 1533.1 Q1232.04 1531.54 1235.89 1531.54 Q1239.78 1531.54 1242.48 1533.51 Q1245.22 1535.48 1246.53 1539.24 Z\" fill=\"#000000\" fill-rule=\"evenodd\" fill-opacity=\"1\" /><path clip-path=\"url(#clip090)\" d=\"M1312.76 1548.76 L1312.76 1551.62 L1285.83 1551.62 Q1286.22 1557.67 1289.46 1560.85 Q1292.74 1564 1298.57 1564 Q1301.94 1564 1305.09 1563.17 Q1308.27 1562.35 1311.39 1560.69 L1311.39 1566.23 Q1308.24 1567.57 1304.93 1568.27 Q1301.62 1568.97 1298.21 1568.97 Q1289.68 1568.97 1284.69 1564 Q1279.72 1559.04 1279.72 1550.57 Q1279.72 1541.82 1284.43 1536.69 Q1289.18 1531.54 1297.2 1531.54 Q1304.39 1531.54 1308.56 1536.18 Q1312.76 1540.8 1312.76 1548.76 M1306.9 1547.04 Q1306.84 1542.23 1304.2 1539.37 Q1301.59 1536.5 1297.26 1536.5 Q1292.36 1536.5 1289.4 1539.27 Q1286.47 1542.04 1286.02 1547.07 L1306.9 1547.04 Z\" fill=\"#000000\" fill-rule=\"evenodd\" fill-opacity=\"1\" /><path clip-path=\"url(#clip090)\" d=\"M1357.16 1518.58 Q1352.9 1525.9 1350.83 1533.06 Q1348.76 1540.23 1348.76 1547.58 Q1348.76 1554.93 1350.83 1562.16 Q1352.93 1569.35 1357.16 1576.64 L1352.07 1576.64 Q1347.29 1569.16 1344.91 1561.93 Q1342.55 1554.71 1342.55 1547.58 Q1342.55 1540.48 1344.91 1533.29 Q1347.26 1526.09 1352.07 1518.58 L1357.16 1518.58 Z\" fill=\"#000000\" fill-rule=\"evenodd\" fill-opacity=\"1\" /><path clip-path=\"url(#clip090)\" d=\"M1391.25 1533.45 L1391.25 1538.98 Q1388.77 1537.71 1386.09 1537.07 Q1383.42 1536.44 1380.56 1536.44 Q1376.19 1536.44 1374 1537.77 Q1371.83 1539.11 1371.83 1541.79 Q1371.83 1543.82 1373.39 1545 Q1374.95 1546.15 1379.66 1547.2 L1381.67 1547.64 Q1387.91 1548.98 1390.52 1551.43 Q1393.16 1553.85 1393.16 1558.21 Q1393.16 1563.17 1389.21 1566.07 Q1385.3 1568.97 1378.42 1568.97 Q1375.56 1568.97 1372.44 1568.39 Q1369.35 1567.85 1365.91 1566.74 L1365.91 1560.69 Q1369.16 1562.38 1372.31 1563.24 Q1375.46 1564.07 1378.55 1564.07 Q1382.69 1564.07 1384.92 1562.66 Q1387.14 1561.23 1387.14 1558.65 Q1387.14 1556.27 1385.52 1554.99 Q1383.93 1553.72 1378.49 1552.54 L1376.45 1552.07 Q1371.01 1550.92 1368.59 1548.56 Q1366.17 1546.18 1366.17 1542.04 Q1366.17 1537.01 1369.73 1534.27 Q1373.3 1531.54 1379.86 1531.54 Q1383.1 1531.54 1385.97 1532.01 Q1388.83 1532.49 1391.25 1533.45 Z\" fill=\"#000000\" fill-rule=\"evenodd\" fill-opacity=\"1\" /><path clip-path=\"url(#clip090)\" d=\"M1401.56 1518.58 L1406.65 1518.58 Q1411.43 1526.09 1413.78 1533.29 Q1416.17 1540.48 1416.17 1547.58 Q1416.17 1554.71 1413.78 1561.93 Q1411.43 1569.16 1406.65 1576.64 L1401.56 1576.64 Q1405.8 1569.35 1407.86 1562.16 Q1409.96 1554.93 1409.96 1547.58 Q1409.96 1540.23 1407.86 1533.06 Q1405.8 1525.9 1401.56 1518.58 Z\" fill=\"#000000\" fill-rule=\"evenodd\" fill-opacity=\"1\" /><polyline clip-path=\"url(#clip092)\" style=\"stroke:#000000; stroke-linecap:round; stroke-linejoin:round; stroke-width:2; stroke-opacity:0.1; fill:none\" points=\"234.125,1319.69 2352.76,1319.69 \"/>\n",
       "<polyline clip-path=\"url(#clip092)\" style=\"stroke:#000000; stroke-linecap:round; stroke-linejoin:round; stroke-width:2; stroke-opacity:0.1; fill:none\" points=\"234.125,1077.06 2352.76,1077.06 \"/>\n",
       "<polyline clip-path=\"url(#clip092)\" style=\"stroke:#000000; stroke-linecap:round; stroke-linejoin:round; stroke-width:2; stroke-opacity:0.1; fill:none\" points=\"234.125,834.431 2352.76,834.431 \"/>\n",
       "<polyline clip-path=\"url(#clip092)\" style=\"stroke:#000000; stroke-linecap:round; stroke-linejoin:round; stroke-width:2; stroke-opacity:0.1; fill:none\" points=\"234.125,591.801 2352.76,591.801 \"/>\n",
       "<polyline clip-path=\"url(#clip092)\" style=\"stroke:#000000; stroke-linecap:round; stroke-linejoin:round; stroke-width:2; stroke-opacity:0.1; fill:none\" points=\"234.125,349.171 2352.76,349.171 \"/>\n",
       "<polyline clip-path=\"url(#clip090)\" style=\"stroke:#000000; stroke-linecap:round; stroke-linejoin:round; stroke-width:4; stroke-opacity:1; fill:none\" points=\"234.125,1423.18 234.125,123.472 \"/>\n",
       "<polyline clip-path=\"url(#clip090)\" style=\"stroke:#000000; stroke-linecap:round; stroke-linejoin:round; stroke-width:4; stroke-opacity:1; fill:none\" points=\"234.125,1319.69 253.023,1319.69 \"/>\n",
       "<polyline clip-path=\"url(#clip090)\" style=\"stroke:#000000; stroke-linecap:round; stroke-linejoin:round; stroke-width:4; stroke-opacity:1; fill:none\" points=\"234.125,1077.06 253.023,1077.06 \"/>\n",
       "<polyline clip-path=\"url(#clip090)\" style=\"stroke:#000000; stroke-linecap:round; stroke-linejoin:round; stroke-width:4; stroke-opacity:1; fill:none\" points=\"234.125,834.431 253.023,834.431 \"/>\n",
       "<polyline clip-path=\"url(#clip090)\" style=\"stroke:#000000; stroke-linecap:round; stroke-linejoin:round; stroke-width:4; stroke-opacity:1; fill:none\" points=\"234.125,591.801 253.023,591.801 \"/>\n",
       "<polyline clip-path=\"url(#clip090)\" style=\"stroke:#000000; stroke-linecap:round; stroke-linejoin:round; stroke-width:4; stroke-opacity:1; fill:none\" points=\"234.125,349.171 253.023,349.171 \"/>\n",
       "<path clip-path=\"url(#clip090)\" d=\"M186.181 1305.49 Q182.57 1305.49 180.741 1309.05 Q178.936 1312.6 178.936 1319.72 Q178.936 1326.83 180.741 1330.4 Q182.57 1333.94 186.181 1333.94 Q189.815 1333.94 191.621 1330.4 Q193.45 1326.83 193.45 1319.72 Q193.45 1312.6 191.621 1309.05 Q189.815 1305.49 186.181 1305.49 M186.181 1301.79 Q191.991 1301.79 195.047 1306.39 Q198.125 1310.97 198.125 1319.72 Q198.125 1328.45 195.047 1333.06 Q191.991 1337.64 186.181 1337.64 Q180.371 1337.64 177.292 1333.06 Q174.237 1328.45 174.237 1319.72 Q174.237 1310.97 177.292 1306.39 Q180.371 1301.79 186.181 1301.79 Z\" fill=\"#000000\" fill-rule=\"evenodd\" fill-opacity=\"1\" /><path clip-path=\"url(#clip090)\" d=\"M146.066 1059.78 L164.422 1059.78 L164.422 1063.72 L150.348 1063.72 L150.348 1072.19 Q151.366 1071.84 152.385 1071.68 Q153.403 1071.49 154.422 1071.49 Q160.209 1071.49 163.589 1074.66 Q166.968 1077.84 166.968 1083.25 Q166.968 1088.83 163.496 1091.93 Q160.024 1095.01 153.704 1095.01 Q151.528 1095.01 149.26 1094.64 Q147.015 1094.27 144.607 1093.53 L144.607 1088.83 Q146.691 1089.97 148.913 1090.52 Q151.135 1091.08 153.612 1091.08 Q157.616 1091.08 159.954 1088.97 Q162.292 1086.86 162.292 1083.25 Q162.292 1079.64 159.954 1077.53 Q157.616 1075.43 153.612 1075.43 Q151.737 1075.43 149.862 1075.85 Q148.01 1076.26 146.066 1077.14 L146.066 1059.78 Z\" fill=\"#000000\" fill-rule=\"evenodd\" fill-opacity=\"1\" /><path clip-path=\"url(#clip090)\" d=\"M186.181 1062.86 Q182.57 1062.86 180.741 1066.42 Q178.936 1069.97 178.936 1077.1 Q178.936 1084.2 180.741 1087.77 Q182.57 1091.31 186.181 1091.31 Q189.815 1091.31 191.621 1087.77 Q193.45 1084.2 193.45 1077.1 Q193.45 1069.97 191.621 1066.42 Q189.815 1062.86 186.181 1062.86 M186.181 1059.16 Q191.991 1059.16 195.047 1063.76 Q198.125 1068.35 198.125 1077.1 Q198.125 1085.82 195.047 1090.43 Q191.991 1095.01 186.181 1095.01 Q180.371 1095.01 177.292 1090.43 Q174.237 1085.82 174.237 1077.1 Q174.237 1068.35 177.292 1063.76 Q180.371 1059.16 186.181 1059.16 Z\" fill=\"#000000\" fill-rule=\"evenodd\" fill-opacity=\"1\" /><path clip-path=\"url(#clip090)\" d=\"M116.668 847.776 L124.306 847.776 L124.306 821.41 L115.996 823.077 L115.996 818.817 L124.26 817.151 L128.936 817.151 L128.936 847.776 L136.575 847.776 L136.575 851.711 L116.668 851.711 L116.668 847.776 Z\" fill=\"#000000\" fill-rule=\"evenodd\" fill-opacity=\"1\" /><path clip-path=\"url(#clip090)\" d=\"M156.019 820.229 Q152.408 820.229 150.579 823.794 Q148.774 827.336 148.774 834.466 Q148.774 841.572 150.579 845.137 Q152.408 848.678 156.019 848.678 Q159.653 848.678 161.459 845.137 Q163.288 841.572 163.288 834.466 Q163.288 827.336 161.459 823.794 Q159.653 820.229 156.019 820.229 M156.019 816.526 Q161.829 816.526 164.885 821.132 Q167.964 825.716 167.964 834.466 Q167.964 843.192 164.885 847.799 Q161.829 852.382 156.019 852.382 Q150.209 852.382 147.13 847.799 Q144.075 843.192 144.075 834.466 Q144.075 825.716 147.13 821.132 Q150.209 816.526 156.019 816.526 Z\" fill=\"#000000\" fill-rule=\"evenodd\" fill-opacity=\"1\" /><path clip-path=\"url(#clip090)\" d=\"M186.181 820.229 Q182.57 820.229 180.741 823.794 Q178.936 827.336 178.936 834.466 Q178.936 841.572 180.741 845.137 Q182.57 848.678 186.181 848.678 Q189.815 848.678 191.621 845.137 Q193.45 841.572 193.45 834.466 Q193.45 827.336 191.621 823.794 Q189.815 820.229 186.181 820.229 M186.181 816.526 Q191.991 816.526 195.047 821.132 Q198.125 825.716 198.125 834.466 Q198.125 843.192 195.047 847.799 Q191.991 852.382 186.181 852.382 Q180.371 852.382 177.292 847.799 Q174.237 843.192 174.237 834.466 Q174.237 825.716 177.292 821.132 Q180.371 816.526 186.181 816.526 Z\" fill=\"#000000\" fill-rule=\"evenodd\" fill-opacity=\"1\" /><path clip-path=\"url(#clip090)\" d=\"M116.668 605.146 L124.306 605.146 L124.306 578.78 L115.996 580.447 L115.996 576.188 L124.26 574.521 L128.936 574.521 L128.936 605.146 L136.575 605.146 L136.575 609.081 L116.668 609.081 L116.668 605.146 Z\" fill=\"#000000\" fill-rule=\"evenodd\" fill-opacity=\"1\" /><path clip-path=\"url(#clip090)\" d=\"M146.066 574.521 L164.422 574.521 L164.422 578.456 L150.348 578.456 L150.348 586.928 Q151.366 586.581 152.385 586.419 Q153.403 586.234 154.422 586.234 Q160.209 586.234 163.589 589.405 Q166.968 592.577 166.968 597.993 Q166.968 603.572 163.496 606.674 Q160.024 609.752 153.704 609.752 Q151.528 609.752 149.26 609.382 Q147.015 609.012 144.607 608.271 L144.607 603.572 Q146.691 604.706 148.913 605.262 Q151.135 605.817 153.612 605.817 Q157.616 605.817 159.954 603.711 Q162.292 601.604 162.292 597.993 Q162.292 594.382 159.954 592.276 Q157.616 590.169 153.612 590.169 Q151.737 590.169 149.862 590.586 Q148.01 591.002 146.066 591.882 L146.066 574.521 Z\" fill=\"#000000\" fill-rule=\"evenodd\" fill-opacity=\"1\" /><path clip-path=\"url(#clip090)\" d=\"M186.181 577.6 Q182.57 577.6 180.741 581.165 Q178.936 584.706 178.936 591.836 Q178.936 598.942 180.741 602.507 Q182.57 606.049 186.181 606.049 Q189.815 606.049 191.621 602.507 Q193.45 598.942 193.45 591.836 Q193.45 584.706 191.621 581.165 Q189.815 577.6 186.181 577.6 M186.181 573.896 Q191.991 573.896 195.047 578.503 Q198.125 583.086 198.125 591.836 Q198.125 600.563 195.047 605.169 Q191.991 609.752 186.181 609.752 Q180.371 609.752 177.292 605.169 Q174.237 600.563 174.237 591.836 Q174.237 583.086 177.292 578.503 Q180.371 573.896 186.181 573.896 Z\" fill=\"#000000\" fill-rule=\"evenodd\" fill-opacity=\"1\" /><path clip-path=\"url(#clip090)\" d=\"M119.885 362.516 L136.204 362.516 L136.204 366.451 L114.26 366.451 L114.26 362.516 Q116.922 359.762 121.505 355.132 Q126.112 350.479 127.292 349.137 Q129.538 346.614 130.417 344.877 Q131.32 343.118 131.32 341.428 Q131.32 338.674 129.376 336.938 Q127.455 335.202 124.353 335.202 Q122.154 335.202 119.7 335.965 Q117.269 336.729 114.492 338.28 L114.492 333.558 Q117.316 332.424 119.769 331.845 Q122.223 331.266 124.26 331.266 Q129.63 331.266 132.825 333.952 Q136.019 336.637 136.019 341.127 Q136.019 343.257 135.209 345.178 Q134.422 347.077 132.316 349.669 Q131.737 350.34 128.635 353.558 Q125.533 356.752 119.885 362.516 Z\" fill=\"#000000\" fill-rule=\"evenodd\" fill-opacity=\"1\" /><path clip-path=\"url(#clip090)\" d=\"M156.019 334.97 Q152.408 334.97 150.579 338.535 Q148.774 342.077 148.774 349.206 Q148.774 356.313 150.579 359.877 Q152.408 363.419 156.019 363.419 Q159.653 363.419 161.459 359.877 Q163.288 356.313 163.288 349.206 Q163.288 342.077 161.459 338.535 Q159.653 334.97 156.019 334.97 M156.019 331.266 Q161.829 331.266 164.885 335.873 Q167.964 340.456 167.964 349.206 Q167.964 357.933 164.885 362.539 Q161.829 367.123 156.019 367.123 Q150.209 367.123 147.13 362.539 Q144.075 357.933 144.075 349.206 Q144.075 340.456 147.13 335.873 Q150.209 331.266 156.019 331.266 Z\" fill=\"#000000\" fill-rule=\"evenodd\" fill-opacity=\"1\" /><path clip-path=\"url(#clip090)\" d=\"M186.181 334.97 Q182.57 334.97 180.741 338.535 Q178.936 342.077 178.936 349.206 Q178.936 356.313 180.741 359.877 Q182.57 363.419 186.181 363.419 Q189.815 363.419 191.621 359.877 Q193.45 356.313 193.45 349.206 Q193.45 342.077 191.621 338.535 Q189.815 334.97 186.181 334.97 M186.181 331.266 Q191.991 331.266 195.047 335.873 Q198.125 340.456 198.125 349.206 Q198.125 357.933 195.047 362.539 Q191.991 367.123 186.181 367.123 Q180.371 367.123 177.292 362.539 Q174.237 357.933 174.237 349.206 Q174.237 340.456 177.292 335.873 Q180.371 331.266 186.181 331.266 Z\" fill=\"#000000\" fill-rule=\"evenodd\" fill-opacity=\"1\" /><path clip-path=\"url(#clip090)\" d=\"M49.9359 788.254 L28.3562 788.254 L28.3562 782.397 L49.7131 782.397 Q54.7739 782.397 57.3202 780.424 Q59.8346 778.45 59.8346 774.504 Q59.8346 769.761 56.8109 767.024 Q53.7872 764.255 48.5673 764.255 L28.3562 764.255 L28.3562 758.398 L64.0042 758.398 L64.0042 764.255 L58.5296 764.255 Q61.7762 766.387 63.3676 769.22 Q64.9272 772.021 64.9272 775.745 Q64.9272 781.888 61.1078 785.071 Q57.2883 788.254 49.9359 788.254 M27.4968 773.517 L27.4968 773.517 Z\" fill=\"#000000\" fill-rule=\"evenodd\" fill-opacity=\"1\" /><path clip-path=\"url(#clip090)\" d=\"M1030.58 12.096 L1038.76 12.096 L1038.76 72.576 L1030.58 72.576 L1030.58 12.096 Z\" fill=\"#000000\" fill-rule=\"evenodd\" fill-opacity=\"1\" /><path clip-path=\"url(#clip090)\" d=\"M1092.43 45.1919 L1092.43 72.576 L1084.98 72.576 L1084.98 45.4349 Q1084.98 38.994 1082.47 35.7938 Q1079.96 32.5936 1074.93 32.5936 Q1068.9 32.5936 1065.42 36.4419 Q1061.93 40.2903 1061.93 46.9338 L1061.93 72.576 L1054.44 72.576 L1054.44 27.2059 L1061.93 27.2059 L1061.93 34.2544 Q1064.61 30.163 1068.21 28.1376 Q1071.86 26.1121 1076.6 26.1121 Q1084.41 26.1121 1088.42 30.9732 Q1092.43 35.7938 1092.43 45.1919 Z\" fill=\"#000000\" fill-rule=\"evenodd\" fill-opacity=\"1\" /><path clip-path=\"url(#clip090)\" d=\"M1114.51 65.7705 L1114.51 89.8329 L1107.02 89.8329 L1107.02 27.2059 L1114.51 27.2059 L1114.51 34.0924 Q1116.86 30.0415 1120.43 28.0971 Q1124.03 26.1121 1129.01 26.1121 Q1137.28 26.1121 1142.42 32.6746 Q1147.61 39.2371 1147.61 49.9314 Q1147.61 60.6258 1142.42 67.1883 Q1137.28 73.7508 1129.01 73.7508 Q1124.03 73.7508 1120.43 71.8063 Q1116.86 69.8214 1114.51 65.7705 M1139.87 49.9314 Q1139.87 41.7081 1136.47 37.0496 Q1133.11 32.3505 1127.19 32.3505 Q1121.28 32.3505 1117.87 37.0496 Q1114.51 41.7081 1114.51 49.9314 Q1114.51 58.1548 1117.87 62.8538 Q1121.28 67.5124 1127.19 67.5124 Q1133.11 67.5124 1136.47 62.8538 Q1139.87 58.1548 1139.87 49.9314 Z\" fill=\"#000000\" fill-rule=\"evenodd\" fill-opacity=\"1\" /><path clip-path=\"url(#clip090)\" d=\"M1159.19 54.671 L1159.19 27.2059 L1166.65 27.2059 L1166.65 54.3874 Q1166.65 60.8284 1169.16 64.0691 Q1171.67 67.2693 1176.69 67.2693 Q1182.73 67.2693 1186.21 63.421 Q1189.74 59.5726 1189.74 52.9291 L1189.74 27.2059 L1197.19 27.2059 L1197.19 72.576 L1189.74 72.576 L1189.74 65.6084 Q1187.02 69.7404 1183.42 71.7658 Q1179.85 73.7508 1175.11 73.7508 Q1167.3 73.7508 1163.24 68.8897 Q1159.19 64.0286 1159.19 54.671 M1177.95 26.1121 L1177.95 26.1121 Z\" fill=\"#000000\" fill-rule=\"evenodd\" fill-opacity=\"1\" /><path clip-path=\"url(#clip090)\" d=\"M1219.92 14.324 L1219.92 27.2059 L1235.27 27.2059 L1235.27 32.9987 L1219.92 32.9987 L1219.92 57.6282 Q1219.92 63.1779 1221.42 64.7578 Q1222.95 66.3376 1227.61 66.3376 L1235.27 66.3376 L1235.27 72.576 L1227.61 72.576 Q1218.99 72.576 1215.7 69.3758 Q1212.42 66.1351 1212.42 57.6282 L1212.42 32.9987 L1206.95 32.9987 L1206.95 27.2059 L1212.42 27.2059 L1212.42 14.324 L1219.92 14.324 Z\" fill=\"#000000\" fill-rule=\"evenodd\" fill-opacity=\"1\" /><path clip-path=\"url(#clip090)\" d=\"M1271.77 12.096 L1279.95 12.096 L1279.95 36.8875 L1309.68 36.8875 L1309.68 12.096 L1317.87 12.096 L1317.87 72.576 L1309.68 72.576 L1309.68 43.7741 L1279.95 43.7741 L1279.95 72.576 L1271.77 72.576 L1271.77 12.096 Z\" fill=\"#000000\" fill-rule=\"evenodd\" fill-opacity=\"1\" /><path clip-path=\"url(#clip090)\" d=\"M1333.83 27.2059 L1341.28 27.2059 L1341.28 72.576 L1333.83 72.576 L1333.83 27.2059 M1333.83 9.54393 L1341.28 9.54393 L1341.28 18.9825 L1333.83 18.9825 L1333.83 9.54393 Z\" fill=\"#000000\" fill-rule=\"evenodd\" fill-opacity=\"1\" /><path clip-path=\"url(#clip090)\" d=\"M1385.8 28.5427 L1385.8 35.5912 Q1382.64 33.9709 1379.24 33.1607 Q1375.84 32.3505 1372.19 32.3505 Q1366.64 32.3505 1363.85 34.0519 Q1361.09 35.7533 1361.09 39.156 Q1361.09 41.7486 1363.08 43.2475 Q1365.06 44.7058 1371.06 46.0426 L1373.61 46.6097 Q1381.55 48.3111 1384.87 51.4303 Q1388.23 54.509 1388.23 60.0587 Q1388.23 66.3781 1383.21 70.0644 Q1378.23 73.7508 1369.48 73.7508 Q1365.83 73.7508 1361.86 73.0216 Q1357.93 72.3329 1353.56 70.9151 L1353.56 63.2184 Q1357.69 65.3654 1361.7 66.4591 Q1365.71 67.5124 1369.64 67.5124 Q1374.9 67.5124 1377.74 65.73 Q1380.58 63.9071 1380.58 60.6258 Q1380.58 57.5877 1378.51 55.9673 Q1376.48 54.3469 1369.56 52.8481 L1366.96 52.2405 Q1360.04 50.7821 1356.96 47.7845 Q1353.88 44.7463 1353.88 39.4801 Q1353.88 33.0797 1358.42 29.5959 Q1362.95 26.1121 1371.3 26.1121 Q1375.43 26.1121 1379.08 26.7198 Q1382.72 27.3274 1385.8 28.5427 Z\" fill=\"#000000\" fill-rule=\"evenodd\" fill-opacity=\"1\" /><path clip-path=\"url(#clip090)\" d=\"M1407.47 14.324 L1407.47 27.2059 L1422.83 27.2059 L1422.83 32.9987 L1407.47 32.9987 L1407.47 57.6282 Q1407.47 63.1779 1408.97 64.7578 Q1410.51 66.3376 1415.17 66.3376 L1422.83 66.3376 L1422.83 72.576 L1415.17 72.576 Q1406.54 72.576 1403.26 69.3758 Q1399.98 66.1351 1399.98 57.6282 L1399.98 32.9987 L1394.51 32.9987 L1394.51 27.2059 L1399.98 27.2059 L1399.98 14.324 L1407.47 14.324 Z\" fill=\"#000000\" fill-rule=\"evenodd\" fill-opacity=\"1\" /><path clip-path=\"url(#clip090)\" d=\"M1450.21 32.4315 Q1444.22 32.4315 1440.73 37.1306 Q1437.25 41.7891 1437.25 49.9314 Q1437.25 58.0738 1440.69 62.7728 Q1444.17 67.4314 1450.21 67.4314 Q1456.17 67.4314 1459.65 62.7323 Q1463.13 58.0333 1463.13 49.9314 Q1463.13 41.8701 1459.65 37.1711 Q1456.17 32.4315 1450.21 32.4315 M1450.21 26.1121 Q1459.93 26.1121 1465.48 32.4315 Q1471.03 38.7509 1471.03 49.9314 Q1471.03 61.0714 1465.48 67.4314 Q1459.93 73.7508 1450.21 73.7508 Q1440.45 73.7508 1434.9 67.4314 Q1429.39 61.0714 1429.39 49.9314 Q1429.39 38.7509 1434.9 32.4315 Q1440.45 26.1121 1450.21 26.1121 Z\" fill=\"#000000\" fill-rule=\"evenodd\" fill-opacity=\"1\" /><path clip-path=\"url(#clip090)\" d=\"M1509.68 34.1734 Q1508.42 33.4443 1506.92 33.1202 Q1505.47 32.7556 1503.68 32.7556 Q1497.36 32.7556 1493.96 36.8875 Q1490.6 40.9789 1490.6 48.6757 L1490.6 72.576 L1483.1 72.576 L1483.1 27.2059 L1490.6 27.2059 L1490.6 34.2544 Q1492.95 30.1225 1496.72 28.1376 Q1500.48 26.1121 1505.87 26.1121 Q1506.64 26.1121 1507.57 26.2337 Q1508.5 26.3147 1509.64 26.5172 L1509.68 34.1734 Z\" fill=\"#000000\" fill-rule=\"evenodd\" fill-opacity=\"1\" /><path clip-path=\"url(#clip090)\" d=\"M1536.37 76.7889 Q1533.21 84.8907 1530.22 87.3618 Q1527.22 89.8329 1522.2 89.8329 L1516.24 89.8329 L1516.24 83.5945 L1520.62 83.5945 Q1523.69 83.5945 1525.4 82.1361 Q1527.1 80.6778 1529.16 75.2496 L1530.5 71.8468 L1512.15 27.2059 L1520.05 27.2059 L1534.23 62.6918 L1548.4 27.2059 L1556.3 27.2059 L1536.37 76.7889 Z\" fill=\"#000000\" fill-rule=\"evenodd\" fill-opacity=\"1\" /><polyline clip-path=\"url(#clip092)\" style=\"stroke:#009af9; stroke-linecap:round; stroke-linejoin:round; stroke-width:4; stroke-opacity:1; fill:none\" points=\"294.087,1322.08 301.302,1319.69 308.518,1319.69 315.733,1326.41 322.949,1319.85 330.164,1320.52 337.38,1323.37 344.596,1319.69 351.811,1319.69 359.027,1327.33 366.242,1321.93 373.458,1317.72 380.673,1321.11 387.889,1319.69 395.104,1319.69 402.32,1334.05 409.536,1350.74 416.751,1263.79 423.967,1238.15 431.182,1235.16 438.398,1233.4 445.613,1236.13 452.829,1250.48 460.044,1282.02 467.26,1269.46 474.475,1275.86 481.691,1279.33 488.907,1274.86 496.122,1280.32 503.338,1288.07 510.553,1287.93 517.769,1291.77 524.984,1293.13 532.2,1291.95 539.415,1289.74 546.631,1291.51 553.847,1292.45 561.062,1292.4 568.278,1292.47 575.493,1292.21 582.709,1289.59 589.924,1292.26 597.14,1291.46 604.355,1288.2 611.571,1289.87 618.787,1290.97 626.002,1289.99 633.218,1285.74 640.433,1286.8 647.649,1292.76 654.864,1288.83 662.08,1286.97 669.295,1285.1 676.511,1279.2 683.727,1284.21 690.942,1285.44 698.158,1288.31 705.373,1282.98 712.589,1285.77 719.804,1285.95 727.02,1287.88 734.235,1288.97 741.451,1285.75 748.666,1286.22 755.882,1289.2 763.098,1287.8 770.313,1287.23 777.529,1290.77 784.744,1289.07 791.96,1289.27 799.175,1289.08 806.391,1291.72 813.606,1290.86 820.822,1291.36 828.038,1291.13 835.253,1293.29 842.469,1289.75 849.684,1291.63 856.9,1286.89 864.115,1294.05 871.331,1291.37 878.546,1289.14 885.762,1293.5 892.978,1292.98 900.193,1290.7 907.409,1293.34 914.624,1294.18 921.84,1289.65 929.055,1293.66 936.271,1289.83 943.486,1288.35 950.702,1293.24 957.917,1291.49 965.133,1288.19 972.349,1288.56 979.564,1287.17 986.78,1287.93 993.995,1284.67 1001.21,1289.26 1008.43,1285.87 1015.64,1289.72 1022.86,1288.14 1030.07,1286.94 1037.29,1289.56 1044.5,1288.64 1051.72,1285.63 1058.94,1284.29 1066.15,1285.78 1073.37,1280.75 1080.58,1282.09 1087.8,1287.03 1095.01,1285.75 1102.23,1286.66 1109.44,1285.37 1116.66,1285.97 1123.88,1284.44 1131.09,1283.91 1138.31,1285.27 1145.52,1279.75 1152.74,1284.4 1159.95,1286.76 1167.17,1283.51 1174.38,1282.9 1181.6,1282.18 1188.82,1281.24 1196.03,1281.22 1203.25,1281.18 1210.46,1279.39 1217.68,1277.26 1224.89,1278.82 1232.11,1278.31 1239.32,1278.89 1246.54,1277.67 1253.76,1276.44 1260.97,1274.43 1268.19,1276.53 1275.4,1278.1 1282.62,1284.5 1289.83,1290.42 1297.05,1297.81 1304.26,1312.3 1311.48,1325.13 1318.7,1327.12 1325.91,1336.83 1333.13,1340.4 1340.34,1344.44 1347.56,1346.67 1354.77,1348.61 1361.99,1348.78 1369.2,1349.8 1376.42,1349.44 1383.64,1347.76 1390.85,1348.95 1398.07,1349.64 1405.28,1349.73 1412.5,1350.13 1419.71,1350.68 1426.93,1350.09 1434.14,1349.59 1441.36,1351.09 1448.58,1350.84 1455.79,1350.37 1463.01,1349.53 1470.22,1349.61 1477.44,1349.96 1484.65,1348.72 1491.87,1349.74 1499.08,1349.38 1506.3,1349.18 1513.52,1349.76 1520.73,1349.82 1527.95,1350.83 1535.16,1353.09 1542.38,1355.38 1549.59,1343.71 1556.81,1341.53 1564.02,1340.82 1571.24,1326.74 1578.45,1330.47 1585.67,1330.96 1592.89,1335.3 1600.1,1329.01 1607.32,1334.63 1614.53,1334.87 1621.75,1330.41 1628.96,1330.43 1636.18,1334.66 1643.39,1323.2 1650.61,1330.41 1657.83,1330.24 1665.04,1329.8 1672.26,1327.13 1679.47,1333.46 1686.69,1327.7 1693.9,1327.52 1701.12,1326.99 1708.33,1321.87 1715.55,1331.08 1722.77,1323.48 1729.98,1327 1737.2,1322.78 1744.41,1329.7 1751.63,1329.47 1758.84,1326.83 1766.06,1312.31 1773.27,1324.37 1780.49,1331.01 1787.71,1324.9 1794.92,1320.74 1802.14,1326.49 1809.35,1324.85 1816.57,1319.35 1823.78,1323.62 1831,1316.75 1838.21,1324.47 1845.43,1326.85 1852.65,1320.68 1859.86,1324.02 1867.08,1321.32 1874.29,1323.78 1881.51,1320.59 1888.72,1322.62 1895.94,1319.65 1903.15,1319.19 1910.37,1325.47 1917.59,1316.82 1924.8,1324.2 1932.02,1322.27 1939.23,1315.12 1946.45,1324.12 1953.66,1325.26 1960.88,1319.86 1968.09,1320.28 1975.31,1317.23 1982.53,1324.25 1989.74,1317.69 1996.96,1324.06 2004.17,1318.5 2011.39,1321.57 2018.6,1319.84 2025.82,1322.57 2033.03,1318.7 2040.25,1321.37 2047.47,1321.39 2054.68,1319.23 2061.9,1323.54 2069.11,1319.84 2076.33,1316.23 2083.54,1323.59 2090.76,1319.23 2097.97,1322.04 2105.19,1320.53 2112.41,1318.56 2119.62,1317.34 2126.84,1323.75 2134.05,1321.06 2141.27,1319.48 2148.48,1319.66 2155.7,1319.43 2162.91,1319.89 2170.13,1321.35 2177.35,1319.97 2184.56,1315.71 2191.78,1324.81 2198.99,1319.99 2206.21,1318.04 2213.42,1322.35 2220.64,1318.46 2227.85,1321.62 2235.07,1318.56 2242.29,1321.42 2249.5,1318.73 2256.72,1321.14 2263.93,1316.5 2271.15,1322.06 2278.36,1320.98 2285.58,1316.7 2292.79,1321.91 \"/>\n",
       "<polyline clip-path=\"url(#clip092)\" style=\"stroke:#e26f46; stroke-linecap:round; stroke-linejoin:round; stroke-width:4; stroke-opacity:1; fill:none\" points=\"294.087,1323.89 301.302,1319.69 308.518,1319.69 315.733,1312.89 322.949,1319.59 330.164,1318.58 337.38,1314.59 344.596,1319.69 351.811,1319.69 359.027,1309.12 366.242,1311.89 373.458,1308.08 380.673,1305.4 387.889,1319.69 395.104,1319.69 402.32,1295.4 409.536,1223.11 416.751,1269.66 423.967,1313.92 431.182,1321.71 438.398,1349.91 445.613,1316.71 452.829,1368.5 460.044,1386.4 467.26,1379.23 474.475,1371.38 481.691,1366.2 488.907,1372.86 496.122,1375.45 503.338,1376.35 510.553,1376.98 517.769,1378.3 524.984,1375.44 532.2,1382.15 539.415,1380.67 546.631,1374.04 553.847,1371.71 561.062,1372.82 568.278,1369.01 575.493,1368.12 582.709,1370.18 589.924,1366.58 597.14,1366.77 604.355,1362.68 611.571,1361.1 618.787,1358.67 626.002,1358.01 633.218,1361.77 640.433,1359.72 647.649,1352.28 654.864,1356.6 662.08,1357.24 669.295,1353.78 676.511,1358.57 683.727,1356.58 690.942,1356.26 698.158,1353.75 705.373,1357.87 712.589,1353.72 719.804,1354.57 727.02,1353.43 734.235,1351 741.451,1355.08 748.666,1352.4 755.882,1350.38 763.098,1351.49 770.313,1353.86 777.529,1350.58 784.744,1352.21 791.96,1352.47 799.175,1353.61 806.391,1353.51 813.606,1354.18 820.822,1352.09 828.038,1351.77 835.253,1347.25 842.469,1349.84 849.684,1348.96 856.9,1354.34 864.115,1346.14 871.331,1351.22 878.546,1356.06 885.762,1353.24 892.978,1352.07 900.193,1355.25 907.409,1351.26 914.624,1349.48 921.84,1352.32 929.055,1347.5 936.271,1350.51 943.486,1350.63 950.702,1345.81 957.917,1347.71 965.133,1349.27 972.349,1349.75 979.564,1349.57 986.78,1348.52 993.995,1350.66 1001.21,1345.62 1008.43,1347.73 1015.64,1344.6 1022.86,1346.07 1030.07,1346.21 1037.29,1344.12 1044.5,1344.12 1051.72,1346.61 1058.94,1347.6 1066.15,1344.42 1073.37,1347.98 1080.58,1345.51 1087.8,1342.09 1095.01,1342.57 1102.23,1342.23 1109.44,1343.69 1116.66,1343.61 1123.88,1343.14 1131.09,1341.73 1138.31,1339.44 1145.52,1340.89 1152.74,1338.09 1159.95,1336.29 1167.17,1336.97 1174.38,1335.75 1181.6,1335.88 1188.82,1334.42 1196.03,1332.35 1203.25,1330.55 1210.46,1329.96 1217.68,1328.51 1224.89,1326.4 1232.11,1325.18 1239.32,1323.34 1246.54,1321.81 1253.76,1319.77 1260.97,1317.87 1268.19,1313.58 1275.4,1308.33 1282.62,1300.47 1289.83,1289.79 1297.05,1285.58 1304.26,1278.23 1311.48,1277.76 1318.7,1280.06 1325.91,1281.9 1333.13,1282.58 1340.34,1283.91 1347.56,1283.96 1354.77,1288.19 1361.99,1289.91 1369.2,1288.87 1376.42,1287.77 1383.64,1289.29 1390.85,1288.66 1398.07,1288.45 1405.28,1289.69 1412.5,1291.07 1419.71,1290.4 1426.93,1290.62 1434.14,1290.92 1441.36,1289.96 1448.58,1290.11 1455.79,1290.13 1463.01,1290.88 1470.22,1290.11 1477.44,1289.36 1484.65,1290.55 1491.87,1289.81 1499.08,1290.07 1506.3,1290.28 1513.52,1289.47 1520.73,1288.81 1527.95,1291.9 1535.16,1294.3 1542.38,1298.46 1549.59,1302.68 1556.81,1305.67 1564.02,1304.88 1571.24,1316.61 1578.45,1307.08 1585.67,1307.49 1592.89,1305.78 1600.1,1311.44 1607.32,1309.01 1614.53,1309.95 1621.75,1311.39 1628.96,1312.11 1636.18,1309.99 1643.39,1312.36 1650.61,1311.53 1657.83,1312.52 1665.04,1310.8 1672.26,1307.64 1679.47,1309.89 1686.69,1316.5 1693.9,1312.55 1701.12,1311.35 1708.33,1315.23 1715.55,1311.27 1722.77,1317.78 1729.98,1316.55 1737.2,1317.24 1744.41,1312.84 1751.63,1312.67 1758.84,1312.4 1766.06,1326.13 1773.27,1316.06 1780.49,1310.05 1787.71,1314.88 1794.92,1319.53 1802.14,1314.17 1809.35,1315.63 1816.57,1319.65 1823.78,1317.78 1831,1321.69 1838.21,1316.22 1845.43,1313.59 1852.65,1320.07 1859.86,1315.43 1867.08,1318.77 1874.29,1316.33 1881.51,1318.87 1888.72,1316.53 1895.94,1320.42 1903.15,1320.44 1910.37,1314.85 1917.59,1321.92 1924.8,1315.15 1932.02,1317.15 1939.23,1323.96 1946.45,1315.75 1953.66,1313.94 1960.88,1319.72 1968.09,1318.74 1975.31,1321.49 1982.53,1315.82 1989.74,1321.33 1996.96,1315.61 2004.17,1321.22 2011.39,1318.73 2018.6,1318.85 2025.82,1316.94 2033.03,1320.81 2040.25,1318.47 2047.47,1318.62 2054.68,1320.14 2061.9,1315.69 2069.11,1319.54 2076.33,1322.97 2083.54,1315.84 2090.76,1320.11 2097.97,1317.49 2105.19,1318.92 2112.41,1320.75 2119.62,1321.89 2126.84,1315.73 2134.05,1318.46 2141.27,1319.78 2148.48,1319.64 2155.7,1319.98 2162.91,1319.27 2170.13,1318.37 2177.35,1319.46 2184.56,1323.4 2191.78,1314.79 2198.99,1319.69 2206.21,1321.25 2213.42,1317.14 2220.64,1320.86 2227.85,1317.83 2235.07,1320.84 2242.29,1318.01 2249.5,1320.77 2256.72,1318.21 2263.93,1322.72 2271.15,1317.45 2278.36,1318.42 2285.58,1322.36 2292.79,1317.57 \"/>\n",
       "<polyline clip-path=\"url(#clip092)\" style=\"stroke:#3da44d; stroke-linecap:round; stroke-linejoin:round; stroke-width:4; stroke-opacity:1; fill:none\" points=\"294.087,1264.5 301.302,1319.69 308.518,1319.68 315.733,1210.48 322.949,1317.57 330.164,1303.8 337.38,1247.87 344.596,1319.71 351.811,1319.69 359.027,1170.57 366.242,1226.87 373.458,1185.06 380.673,1155.56 387.889,1319.7 395.104,1319.69 402.32,997.286 409.536,160.256 416.751,462.371 423.967,385.309 431.182,308.812 438.398,274.73 445.613,363.778 452.829,351.721 460.044,444.048 467.26,429.273 474.475,544.989 481.691,615.832 488.907,524.789 496.122,539.467 503.338,578.141 510.553,570.887 517.769,577.65 524.984,613.881 532.2,538.517 539.415,543.136 546.631,619.957 553.847,648.548 561.062,637.082 568.278,675.794 575.493,683.239 582.709,647.873 589.924,698.737 597.14,692.197 604.355,710.615 611.571,736.385 618.787,766.309 626.002,765.558 633.218,701.721 640.433,727.512 647.649,836.563 654.864,769.792 662.08,750.418 669.295,764.627 676.511,678.11 683.727,734.613 690.942,746.937 698.158,790.411 705.373,714.197 712.589,770.545 719.804,765.072 727.02,789.693 734.235,818.369 741.451,759.197 748.666,784.759 755.882,825.285 763.098,804.915 770.313,781.016 777.529,836.064 784.744,809.183 791.96,808.506 799.175,797.49 806.391,818.056 813.606,805.906 820.822,827.731 828.038,828.752 835.253,883.458 842.469,834.031 849.684,856.214 856.9,774.375 864.115,898.603 871.331,835.29 878.546,776.803 885.762,833.164 892.978,839.887 900.193,795.314 907.409,849.668 914.624,871.37 921.84,812.743 929.055,884.341 936.271,829.268 943.486,816.308 950.702,894.927 957.917,865.334 965.133,825.768 972.349,825.082 979.564,814.844 986.78,829.406 993.995,785.303 1001.21,862.7 1008.43,817.543 1015.64,874.244 1022.86,849.606 1030.07,837.962 1037.29,876.295 1044.5,868.097 1051.72,823.472 1058.94,804.435 1066.15,839.979 1073.37,769.56 1080.58,798.323 1087.8,866.981 1095.01,851.816 1102.23,862.691 1109.44,840.935 1116.66,847.094 1123.88,835.735 1131.09,839.396 1138.31,866.122 1145.52,802.863 1152.74,864.827 1159.95,898.194 1167.17,861.396 1174.38,860.877 1181.6,852.678 1188.82,849.043 1196.03,856.791 1203.25,862.375 1210.46,844.374 1217.68,824.401 1224.89,846.241 1232.11,842.552 1239.32,851.518 1246.54,838.759 1253.76,825.316 1260.97,801.93 1268.19,821.418 1275.4,826.902 1282.62,861.327 1289.83,841.383 1297.05,856.492 1304.26,838.312 1311.48,836.461 1318.7,858.897 1325.91,845.401 1333.13,833.998 1340.34,822.447 1347.56,807.971 1354.77,830.895 1361.99,843.853 1369.2,827.185 1376.42,821.017 1383.64,846.652 1390.85,832.246 1398.07,825.06 1405.28,834.455 1412.5,842.085 1419.71,832.261 1426.93,838.953 1434.14,845.347 1441.36,825.44 1448.58,828.702 1455.79,832.751 1463.01,845.588 1470.22,838.801 1477.44,829.898 1484.65,849.564 1491.87,835.389 1499.08,840.398 1506.3,843.592 1513.52,832.414 1520.73,826.538 1527.95,842.696 1535.16,840.226 1542.38,844.95 1549.59,841.453 1556.81,842.647 1564.02,831.807 1571.24,842.627 1578.45,841.746 1585.67,839.228 1592.89,842.018 1600.1,840.461 1607.32,841.506 1614.53,844.403 1621.75,843.169 1628.96,837.743 1636.18,836.428 1643.39,843.076 1650.61,845.058 1657.83,844.34 1665.04,842.9 1672.26,843.54 1679.47,841.478 1686.69,842.979 1693.9,837.2 1701.12,842.478 1708.33,841.96 1715.55,840.415 1722.77,842.053 1729.98,843.512 1737.2,842.749 1744.41,841.836 1751.63,844.45 1758.84,844.904 1766.06,844.921 1773.27,842.079 1780.49,841.587 1787.71,842.697 1794.92,843.317 1802.14,841.872 1809.35,841.776 1816.57,841.577 1823.78,841.785 1831,843.908 1838.21,840.98 1845.43,842.988 1852.65,843.956 1859.86,843.163 1867.08,843.007 1874.29,843.484 1881.51,843.375 1888.72,842.835 1895.94,843.522 1903.15,843.245 1910.37,842.915 1917.59,844.435 1924.8,842.722 1932.02,842.959 1939.23,844.57 1946.45,842.143 1953.66,842.208 1960.88,844.322 1968.09,843.416 1975.31,844.069 1982.53,842.654 1989.74,843.411 1996.96,842.558 2004.17,843.449 2011.39,843.465 2018.6,843.16 2025.82,842.776 2033.03,843.979 2040.25,843.163 2047.47,843.344 2054.68,843.933 2061.9,843.349 2069.11,843.606 2076.33,844.03 2083.54,842.958 2090.76,843.964 2097.97,843.287 2105.19,843.619 2112.41,843.844 2119.62,844.061 2126.84,842.688 2134.05,843.503 2141.27,843.627 2148.48,843.622 2155.7,843.476 2162.91,843.46 2170.13,843.562 2177.35,843.425 2184.56,843.934 2191.78,842.95 2198.99,843.577 2206.21,843.853 2213.42,843.284 2220.64,843.808 2227.85,843.336 2235.07,843.648 2242.29,843.441 2249.5,843.639 2256.72,843.56 2263.93,843.826 2271.15,843.568 2278.36,843.5 2285.58,843.958 2292.79,843.44 \"/>\n",
       "<path clip-path=\"url(#clip090)\" d=\"M2027.66 374.156 L2282.13 374.156 L2282.13 166.796 L2027.66 166.796  Z\" fill=\"#ffffff\" fill-rule=\"evenodd\" fill-opacity=\"1\"/>\n",
       "<polyline clip-path=\"url(#clip090)\" style=\"stroke:#000000; stroke-linecap:round; stroke-linejoin:round; stroke-width:4; stroke-opacity:1; fill:none\" points=\"2027.66,374.156 2282.13,374.156 2282.13,166.796 2027.66,166.796 2027.66,374.156 \"/>\n",
       "<polyline clip-path=\"url(#clip090)\" style=\"stroke:#009af9; stroke-linecap:round; stroke-linejoin:round; stroke-width:4; stroke-opacity:1; fill:none\" points=\"2051.2,218.636 2192.44,218.636 \"/>\n",
       "<path clip-path=\"url(#clip090)\" d=\"M2215.98 225.684 L2215.98 209.99 L2220.24 209.99 L2220.24 225.522 Q2220.24 229.203 2221.67 231.055 Q2223.11 232.883 2225.98 232.883 Q2229.43 232.883 2231.42 230.684 Q2233.43 228.485 2233.43 224.689 L2233.43 209.99 L2237.69 209.99 L2237.69 235.916 L2233.43 235.916 L2233.43 231.934 Q2231.88 234.295 2229.82 235.453 Q2227.78 236.587 2225.08 236.587 Q2220.61 236.587 2218.29 233.809 Q2215.98 231.031 2215.98 225.684 M2226.7 209.365 L2226.7 209.365 Z\" fill=\"#000000\" fill-rule=\"evenodd\" fill-opacity=\"1\" /><path clip-path=\"url(#clip090)\" d=\"M2245.61 233.369 L2250.33 233.369 L2250.33 219.226 L2245.17 220.175 L2245.17 217.49 L2250.49 216.587 L2253.66 216.587 L2253.66 233.369 L2258.41 233.369 L2258.41 235.916 L2245.61 235.916 L2245.61 233.369 Z\" fill=\"#000000\" fill-rule=\"evenodd\" fill-opacity=\"1\" /><polyline clip-path=\"url(#clip090)\" style=\"stroke:#e26f46; stroke-linecap:round; stroke-linejoin:round; stroke-width:4; stroke-opacity:1; fill:none\" points=\"2051.2,270.476 2192.44,270.476 \"/>\n",
       "<path clip-path=\"url(#clip090)\" d=\"M2215.98 277.524 L2215.98 261.83 L2220.24 261.83 L2220.24 277.362 Q2220.24 281.043 2221.67 282.895 Q2223.11 284.723 2225.98 284.723 Q2229.43 284.723 2231.42 282.524 Q2233.43 280.325 2233.43 276.529 L2233.43 261.83 L2237.69 261.83 L2237.69 287.756 L2233.43 287.756 L2233.43 283.774 Q2231.88 286.135 2229.82 287.293 Q2227.78 288.427 2225.08 288.427 Q2220.61 288.427 2218.29 285.649 Q2215.98 282.871 2215.98 277.524 M2226.7 261.205 L2226.7 261.205 Z\" fill=\"#000000\" fill-rule=\"evenodd\" fill-opacity=\"1\" /><path clip-path=\"url(#clip090)\" d=\"M2248.2 285.117 L2258.02 285.117 L2258.02 287.756 L2244.17 287.756 L2244.17 285.209 Q2244.96 284.492 2246.42 283.196 Q2254.38 276.135 2254.38 273.959 Q2254.38 272.432 2253.18 271.506 Q2251.97 270.557 2250.01 270.557 Q2248.8 270.557 2247.39 270.973 Q2245.98 271.367 2244.31 272.177 L2244.31 269.33 Q2246.09 268.682 2247.62 268.358 Q2249.17 268.034 2250.49 268.034 Q2253.85 268.034 2255.86 269.561 Q2257.88 271.089 2257.88 273.589 Q2257.88 276.807 2250.21 283.381 Q2248.92 284.492 2248.2 285.117 Z\" fill=\"#000000\" fill-rule=\"evenodd\" fill-opacity=\"1\" /><polyline clip-path=\"url(#clip090)\" style=\"stroke:#3da44d; stroke-linecap:round; stroke-linejoin:round; stroke-width:4; stroke-opacity:1; fill:none\" points=\"2051.2,322.316 2192.44,322.316 \"/>\n",
       "<path clip-path=\"url(#clip090)\" d=\"M2215.98 329.364 L2215.98 313.67 L2220.24 313.67 L2220.24 329.202 Q2220.24 332.883 2221.67 334.735 Q2223.11 336.563 2225.98 336.563 Q2229.43 336.563 2231.42 334.364 Q2233.43 332.165 2233.43 328.369 L2233.43 313.67 L2237.69 313.67 L2237.69 339.596 L2233.43 339.596 L2233.43 335.614 Q2231.88 337.975 2229.82 339.133 Q2227.78 340.267 2225.08 340.267 Q2220.61 340.267 2218.29 337.489 Q2215.98 334.711 2215.98 329.364 M2226.7 313.045 L2226.7 313.045 Z\" fill=\"#000000\" fill-rule=\"evenodd\" fill-opacity=\"1\" /><path clip-path=\"url(#clip090)\" d=\"M2254.13 329.133 Q2256.26 329.549 2257.41 330.823 Q2258.59 332.073 2258.59 333.971 Q2258.59 336.841 2256.4 338.392 Q2254.2 339.943 2250.1 339.943 Q2248.78 339.943 2247.32 339.688 Q2245.89 339.457 2244.27 338.994 L2244.27 336.193 Q2245.47 336.818 2246.84 337.119 Q2248.22 337.42 2249.78 337.42 Q2252.3 337.42 2253.69 336.517 Q2255.08 335.591 2255.08 333.971 Q2255.08 332.258 2253.78 331.378 Q2252.51 330.499 2250.01 330.499 L2248.02 330.499 L2248.02 327.999 L2250.19 327.999 Q2252.37 327.999 2253.48 327.281 Q2254.61 326.54 2254.61 325.151 Q2254.61 323.809 2253.46 323.114 Q2252.3 322.397 2250.1 322.397 Q2249.17 322.397 2247.99 322.605 Q2246.81 322.813 2244.94 323.346 L2244.94 320.684 Q2246.63 320.29 2248.11 320.082 Q2249.59 319.874 2250.86 319.874 Q2254.2 319.874 2256.14 321.239 Q2258.11 322.605 2258.11 324.897 Q2258.11 326.494 2257.07 327.605 Q2256.03 328.716 2254.13 329.133 Z\" fill=\"#000000\" fill-rule=\"evenodd\" fill-opacity=\"1\" /></svg>\n"
      ]
     },
     "metadata": {},
     "output_type": "display_data"
    },
    {
     "data": {
      "image/svg+xml": [
       "<?xml version=\"1.0\" encoding=\"utf-8\"?>\n",
       "<svg xmlns=\"http://www.w3.org/2000/svg\" xmlns:xlink=\"http://www.w3.org/1999/xlink\" width=\"600\" height=\"400\" viewBox=\"0 0 2400 1600\">\n",
       "<defs>\n",
       "  <clipPath id=\"clip130\">\n",
       "    <rect x=\"0\" y=\"0\" width=\"2400\" height=\"1600\"/>\n",
       "  </clipPath>\n",
       "</defs>\n",
       "<path clip-path=\"url(#clip130)\" d=\"M0 1600 L2400 1600 L2400 0 L0 0  Z\" fill=\"#ffffff\" fill-rule=\"evenodd\" fill-opacity=\"1\"/>\n",
       "<defs>\n",
       "  <clipPath id=\"clip131\">\n",
       "    <rect x=\"480\" y=\"0\" width=\"1681\" height=\"1600\"/>\n",
       "  </clipPath>\n",
       "</defs>\n",
       "<path clip-path=\"url(#clip130)\" d=\"M242.135 1423.18 L2352.76 1423.18 L2352.76 123.472 L242.135 123.472  Z\" fill=\"#ffffff\" fill-rule=\"evenodd\" fill-opacity=\"1\"/>\n",
       "<defs>\n",
       "  <clipPath id=\"clip132\">\n",
       "    <rect x=\"242\" y=\"123\" width=\"2112\" height=\"1301\"/>\n",
       "  </clipPath>\n",
       "</defs>\n",
       "<polyline clip-path=\"url(#clip132)\" style=\"stroke:#000000; stroke-linecap:round; stroke-linejoin:round; stroke-width:2; stroke-opacity:0.1; fill:none\" points=\"301.869,1423.18 301.869,123.472 \"/>\n",
       "<polyline clip-path=\"url(#clip132)\" style=\"stroke:#000000; stroke-linecap:round; stroke-linejoin:round; stroke-width:2; stroke-opacity:0.1; fill:none\" points=\"658.707,1423.18 658.707,123.472 \"/>\n",
       "<polyline clip-path=\"url(#clip132)\" style=\"stroke:#000000; stroke-linecap:round; stroke-linejoin:round; stroke-width:2; stroke-opacity:0.1; fill:none\" points=\"1015.54,1423.18 1015.54,123.472 \"/>\n",
       "<polyline clip-path=\"url(#clip132)\" style=\"stroke:#000000; stroke-linecap:round; stroke-linejoin:round; stroke-width:2; stroke-opacity:0.1; fill:none\" points=\"1372.38,1423.18 1372.38,123.472 \"/>\n",
       "<polyline clip-path=\"url(#clip132)\" style=\"stroke:#000000; stroke-linecap:round; stroke-linejoin:round; stroke-width:2; stroke-opacity:0.1; fill:none\" points=\"1729.22,1423.18 1729.22,123.472 \"/>\n",
       "<polyline clip-path=\"url(#clip132)\" style=\"stroke:#000000; stroke-linecap:round; stroke-linejoin:round; stroke-width:2; stroke-opacity:0.1; fill:none\" points=\"2086.06,1423.18 2086.06,123.472 \"/>\n",
       "<polyline clip-path=\"url(#clip130)\" style=\"stroke:#000000; stroke-linecap:round; stroke-linejoin:round; stroke-width:4; stroke-opacity:1; fill:none\" points=\"242.135,1423.18 2352.76,1423.18 \"/>\n",
       "<polyline clip-path=\"url(#clip130)\" style=\"stroke:#000000; stroke-linecap:round; stroke-linejoin:round; stroke-width:4; stroke-opacity:1; fill:none\" points=\"301.869,1423.18 301.869,1404.28 \"/>\n",
       "<polyline clip-path=\"url(#clip130)\" style=\"stroke:#000000; stroke-linecap:round; stroke-linejoin:round; stroke-width:4; stroke-opacity:1; fill:none\" points=\"658.707,1423.18 658.707,1404.28 \"/>\n",
       "<polyline clip-path=\"url(#clip130)\" style=\"stroke:#000000; stroke-linecap:round; stroke-linejoin:round; stroke-width:4; stroke-opacity:1; fill:none\" points=\"1015.54,1423.18 1015.54,1404.28 \"/>\n",
       "<polyline clip-path=\"url(#clip130)\" style=\"stroke:#000000; stroke-linecap:round; stroke-linejoin:round; stroke-width:4; stroke-opacity:1; fill:none\" points=\"1372.38,1423.18 1372.38,1404.28 \"/>\n",
       "<polyline clip-path=\"url(#clip130)\" style=\"stroke:#000000; stroke-linecap:round; stroke-linejoin:round; stroke-width:4; stroke-opacity:1; fill:none\" points=\"1729.22,1423.18 1729.22,1404.28 \"/>\n",
       "<polyline clip-path=\"url(#clip130)\" style=\"stroke:#000000; stroke-linecap:round; stroke-linejoin:round; stroke-width:4; stroke-opacity:1; fill:none\" points=\"2086.06,1423.18 2086.06,1404.28 \"/>\n",
       "<path clip-path=\"url(#clip130)\" d=\"M279.254 1454.1 Q275.643 1454.1 273.814 1457.66 Q272.008 1461.2 272.008 1468.33 Q272.008 1475.44 273.814 1479.01 Q275.643 1482.55 279.254 1482.55 Q282.888 1482.55 284.693 1479.01 Q286.522 1475.44 286.522 1468.33 Q286.522 1461.2 284.693 1457.66 Q282.888 1454.1 279.254 1454.1 M279.254 1450.39 Q285.064 1450.39 288.119 1455 Q291.198 1459.58 291.198 1468.33 Q291.198 1477.06 288.119 1481.67 Q285.064 1486.25 279.254 1486.25 Q273.443 1486.25 270.365 1481.67 Q267.309 1477.06 267.309 1468.33 Q267.309 1459.58 270.365 1455 Q273.443 1450.39 279.254 1450.39 Z\" fill=\"#000000\" fill-rule=\"evenodd\" fill-opacity=\"1\" /><path clip-path=\"url(#clip130)\" d=\"M299.416 1479.7 L304.3 1479.7 L304.3 1485.58 L299.416 1485.58 L299.416 1479.7 Z\" fill=\"#000000\" fill-rule=\"evenodd\" fill-opacity=\"1\" /><path clip-path=\"url(#clip130)\" d=\"M324.485 1454.1 Q320.874 1454.1 319.045 1457.66 Q317.24 1461.2 317.24 1468.33 Q317.24 1475.44 319.045 1479.01 Q320.874 1482.55 324.485 1482.55 Q328.119 1482.55 329.925 1479.01 Q331.753 1475.44 331.753 1468.33 Q331.753 1461.2 329.925 1457.66 Q328.119 1454.1 324.485 1454.1 M324.485 1450.39 Q330.295 1450.39 333.351 1455 Q336.429 1459.58 336.429 1468.33 Q336.429 1477.06 333.351 1481.67 Q330.295 1486.25 324.485 1486.25 Q318.675 1486.25 315.596 1481.67 Q312.54 1477.06 312.54 1468.33 Q312.54 1459.58 315.596 1455 Q318.675 1450.39 324.485 1450.39 Z\" fill=\"#000000\" fill-rule=\"evenodd\" fill-opacity=\"1\" /><path clip-path=\"url(#clip130)\" d=\"M630.443 1481.64 L646.762 1481.64 L646.762 1485.58 L624.818 1485.58 L624.818 1481.64 Q627.48 1478.89 632.063 1474.26 Q636.67 1469.61 637.85 1468.27 Q640.096 1465.74 640.975 1464.01 Q641.878 1462.25 641.878 1460.56 Q641.878 1457.8 639.933 1456.07 Q638.012 1454.33 634.91 1454.33 Q632.711 1454.33 630.258 1455.09 Q627.827 1455.86 625.049 1457.41 L625.049 1452.69 Q627.873 1451.55 630.327 1450.97 Q632.781 1450.39 634.818 1450.39 Q640.188 1450.39 643.383 1453.08 Q646.577 1455.77 646.577 1460.26 Q646.577 1462.39 645.767 1464.31 Q644.98 1466.2 642.873 1468.8 Q642.295 1469.47 639.193 1472.69 Q636.091 1475.88 630.443 1481.64 Z\" fill=\"#000000\" fill-rule=\"evenodd\" fill-opacity=\"1\" /><path clip-path=\"url(#clip130)\" d=\"M656.577 1479.7 L661.461 1479.7 L661.461 1485.58 L656.577 1485.58 L656.577 1479.7 Z\" fill=\"#000000\" fill-rule=\"evenodd\" fill-opacity=\"1\" /><path clip-path=\"url(#clip130)\" d=\"M671.693 1451.02 L690.049 1451.02 L690.049 1454.96 L675.975 1454.96 L675.975 1463.43 Q676.993 1463.08 678.012 1462.92 Q679.03 1462.73 680.049 1462.73 Q685.836 1462.73 689.216 1465.9 Q692.595 1469.08 692.595 1474.49 Q692.595 1480.07 689.123 1483.17 Q685.651 1486.25 679.331 1486.25 Q677.156 1486.25 674.887 1485.88 Q672.642 1485.51 670.234 1484.77 L670.234 1480.07 Q672.318 1481.2 674.54 1481.76 Q676.762 1482.32 679.239 1482.32 Q683.243 1482.32 685.581 1480.21 Q687.919 1478.1 687.919 1474.49 Q687.919 1470.88 685.581 1468.77 Q683.243 1466.67 679.239 1466.67 Q677.364 1466.67 675.489 1467.08 Q673.637 1467.5 671.693 1468.38 L671.693 1451.02 Z\" fill=\"#000000\" fill-rule=\"evenodd\" fill-opacity=\"1\" /><path clip-path=\"url(#clip130)\" d=\"M982.708 1451.02 L1001.06 1451.02 L1001.06 1454.96 L986.991 1454.96 L986.991 1463.43 Q988.009 1463.08 989.028 1462.92 Q990.046 1462.73 991.065 1462.73 Q996.852 1462.73 1000.23 1465.9 Q1003.61 1469.08 1003.61 1474.49 Q1003.61 1480.07 1000.14 1483.17 Q996.667 1486.25 990.347 1486.25 Q988.171 1486.25 985.903 1485.88 Q983.657 1485.51 981.25 1484.77 L981.25 1480.07 Q983.333 1481.2 985.556 1481.76 Q987.778 1482.32 990.255 1482.32 Q994.259 1482.32 996.597 1480.21 Q998.935 1478.1 998.935 1474.49 Q998.935 1470.88 996.597 1468.77 Q994.259 1466.67 990.255 1466.67 Q988.38 1466.67 986.505 1467.08 Q984.653 1467.5 982.708 1468.38 L982.708 1451.02 Z\" fill=\"#000000\" fill-rule=\"evenodd\" fill-opacity=\"1\" /><path clip-path=\"url(#clip130)\" d=\"M1012.82 1479.7 L1017.71 1479.7 L1017.71 1485.58 L1012.82 1485.58 L1012.82 1479.7 Z\" fill=\"#000000\" fill-rule=\"evenodd\" fill-opacity=\"1\" /><path clip-path=\"url(#clip130)\" d=\"M1037.89 1454.1 Q1034.28 1454.1 1032.45 1457.66 Q1030.65 1461.2 1030.65 1468.33 Q1030.65 1475.44 1032.45 1479.01 Q1034.28 1482.55 1037.89 1482.55 Q1041.53 1482.55 1043.33 1479.01 Q1045.16 1475.44 1045.16 1468.33 Q1045.16 1461.2 1043.33 1457.66 Q1041.53 1454.1 1037.89 1454.1 M1037.89 1450.39 Q1043.7 1450.39 1046.76 1455 Q1049.84 1459.58 1049.84 1468.33 Q1049.84 1477.06 1046.76 1481.67 Q1043.7 1486.25 1037.89 1486.25 Q1032.08 1486.25 1029 1481.67 Q1025.95 1477.06 1025.95 1468.33 Q1025.95 1459.58 1029 1455 Q1032.08 1450.39 1037.89 1450.39 Z\" fill=\"#000000\" fill-rule=\"evenodd\" fill-opacity=\"1\" /><path clip-path=\"url(#clip130)\" d=\"M1338.7 1451.02 L1360.92 1451.02 L1360.92 1453.01 L1348.38 1485.58 L1343.49 1485.58 L1355.3 1454.96 L1338.7 1454.96 L1338.7 1451.02 Z\" fill=\"#000000\" fill-rule=\"evenodd\" fill-opacity=\"1\" /><path clip-path=\"url(#clip130)\" d=\"M1370.04 1479.7 L1374.93 1479.7 L1374.93 1485.58 L1370.04 1485.58 L1370.04 1479.7 Z\" fill=\"#000000\" fill-rule=\"evenodd\" fill-opacity=\"1\" /><path clip-path=\"url(#clip130)\" d=\"M1385.16 1451.02 L1403.52 1451.02 L1403.52 1454.96 L1389.44 1454.96 L1389.44 1463.43 Q1390.46 1463.08 1391.48 1462.92 Q1392.5 1462.73 1393.52 1462.73 Q1399.3 1462.73 1402.68 1465.9 Q1406.06 1469.08 1406.06 1474.49 Q1406.06 1480.07 1402.59 1483.17 Q1399.12 1486.25 1392.8 1486.25 Q1390.62 1486.25 1388.35 1485.88 Q1386.11 1485.51 1383.7 1484.77 L1383.7 1480.07 Q1385.78 1481.2 1388.01 1481.76 Q1390.23 1482.32 1392.71 1482.32 Q1396.71 1482.32 1399.05 1480.21 Q1401.39 1478.1 1401.39 1474.49 Q1401.39 1470.88 1399.05 1468.77 Q1396.71 1466.67 1392.71 1466.67 Q1390.83 1466.67 1388.96 1467.08 Q1387.1 1467.5 1385.16 1468.38 L1385.16 1451.02 Z\" fill=\"#000000\" fill-rule=\"evenodd\" fill-opacity=\"1\" /><path clip-path=\"url(#clip130)\" d=\"M1681.29 1481.64 L1688.93 1481.64 L1688.93 1455.28 L1680.62 1456.95 L1680.62 1452.69 L1688.88 1451.02 L1693.56 1451.02 L1693.56 1481.64 L1701.2 1481.64 L1701.2 1485.58 L1681.29 1485.58 L1681.29 1481.64 Z\" fill=\"#000000\" fill-rule=\"evenodd\" fill-opacity=\"1\" /><path clip-path=\"url(#clip130)\" d=\"M1720.64 1454.1 Q1717.03 1454.1 1715.2 1457.66 Q1713.4 1461.2 1713.4 1468.33 Q1713.4 1475.44 1715.2 1479.01 Q1717.03 1482.55 1720.64 1482.55 Q1724.28 1482.55 1726.08 1479.01 Q1727.91 1475.44 1727.91 1468.33 Q1727.91 1461.2 1726.08 1457.66 Q1724.28 1454.1 1720.64 1454.1 M1720.64 1450.39 Q1726.45 1450.39 1729.51 1455 Q1732.59 1459.58 1732.59 1468.33 Q1732.59 1477.06 1729.51 1481.67 Q1726.45 1486.25 1720.64 1486.25 Q1714.83 1486.25 1711.75 1481.67 Q1708.7 1477.06 1708.7 1468.33 Q1708.7 1459.58 1711.75 1455 Q1714.83 1450.39 1720.64 1450.39 Z\" fill=\"#000000\" fill-rule=\"evenodd\" fill-opacity=\"1\" /><path clip-path=\"url(#clip130)\" d=\"M1740.8 1479.7 L1745.69 1479.7 L1745.69 1485.58 L1740.8 1485.58 L1740.8 1479.7 Z\" fill=\"#000000\" fill-rule=\"evenodd\" fill-opacity=\"1\" /><path clip-path=\"url(#clip130)\" d=\"M1765.87 1454.1 Q1762.26 1454.1 1760.43 1457.66 Q1758.63 1461.2 1758.63 1468.33 Q1758.63 1475.44 1760.43 1479.01 Q1762.26 1482.55 1765.87 1482.55 Q1769.51 1482.55 1771.31 1479.01 Q1773.14 1475.44 1773.14 1468.33 Q1773.14 1461.2 1771.31 1457.66 Q1769.51 1454.1 1765.87 1454.1 M1765.87 1450.39 Q1771.68 1450.39 1774.74 1455 Q1777.82 1459.58 1777.82 1468.33 Q1777.82 1477.06 1774.74 1481.67 Q1771.68 1486.25 1765.87 1486.25 Q1760.06 1486.25 1756.98 1481.67 Q1753.93 1477.06 1753.93 1468.33 Q1753.93 1459.58 1756.98 1455 Q1760.06 1450.39 1765.87 1450.39 Z\" fill=\"#000000\" fill-rule=\"evenodd\" fill-opacity=\"1\" /><path clip-path=\"url(#clip130)\" d=\"M2038.63 1481.64 L2046.26 1481.64 L2046.26 1455.28 L2037.95 1456.95 L2037.95 1452.69 L2046.22 1451.02 L2050.89 1451.02 L2050.89 1481.64 L2058.53 1481.64 L2058.53 1485.58 L2038.63 1485.58 L2038.63 1481.64 Z\" fill=\"#000000\" fill-rule=\"evenodd\" fill-opacity=\"1\" /><path clip-path=\"url(#clip130)\" d=\"M2072 1481.64 L2088.32 1481.64 L2088.32 1485.58 L2066.38 1485.58 L2066.38 1481.64 Q2069.04 1478.89 2073.63 1474.26 Q2078.23 1469.61 2079.41 1468.27 Q2081.66 1465.74 2082.54 1464.01 Q2083.44 1462.25 2083.44 1460.56 Q2083.44 1457.8 2081.5 1456.07 Q2079.57 1454.33 2076.47 1454.33 Q2074.27 1454.33 2071.82 1455.09 Q2069.39 1455.86 2066.61 1457.41 L2066.61 1452.69 Q2069.44 1451.55 2071.89 1450.97 Q2074.34 1450.39 2076.38 1450.39 Q2081.75 1450.39 2084.94 1453.08 Q2088.14 1455.77 2088.14 1460.26 Q2088.14 1462.39 2087.33 1464.31 Q2086.54 1466.2 2084.44 1468.8 Q2083.86 1469.47 2080.75 1472.69 Q2077.65 1475.88 2072 1481.64 Z\" fill=\"#000000\" fill-rule=\"evenodd\" fill-opacity=\"1\" /><path clip-path=\"url(#clip130)\" d=\"M2098.14 1479.7 L2103.02 1479.7 L2103.02 1485.58 L2098.14 1485.58 L2098.14 1479.7 Z\" fill=\"#000000\" fill-rule=\"evenodd\" fill-opacity=\"1\" /><path clip-path=\"url(#clip130)\" d=\"M2113.25 1451.02 L2131.61 1451.02 L2131.61 1454.96 L2117.54 1454.96 L2117.54 1463.43 Q2118.56 1463.08 2119.57 1462.92 Q2120.59 1462.73 2121.61 1462.73 Q2127.4 1462.73 2130.78 1465.9 Q2134.16 1469.08 2134.16 1474.49 Q2134.16 1480.07 2130.69 1483.17 Q2127.21 1486.25 2120.89 1486.25 Q2118.72 1486.25 2116.45 1485.88 Q2114.2 1485.51 2111.8 1484.77 L2111.8 1480.07 Q2113.88 1481.2 2116.1 1481.76 Q2118.32 1482.32 2120.8 1482.32 Q2124.81 1482.32 2127.14 1480.21 Q2129.48 1478.1 2129.48 1474.49 Q2129.48 1470.88 2127.14 1468.77 Q2124.81 1466.67 2120.8 1466.67 Q2118.93 1466.67 2117.05 1467.08 Q2115.2 1467.5 2113.25 1468.38 L2113.25 1451.02 Z\" fill=\"#000000\" fill-rule=\"evenodd\" fill-opacity=\"1\" /><path clip-path=\"url(#clip130)\" d=\"M1184.9 1522.27 L1184.9 1532.4 L1196.96 1532.4 L1196.96 1536.95 L1184.9 1536.95 L1184.9 1556.3 Q1184.9 1560.66 1186.08 1561.9 Q1187.29 1563.14 1190.95 1563.14 L1196.96 1563.14 L1196.96 1568.04 L1190.95 1568.04 Q1184.17 1568.04 1181.59 1565.53 Q1179.01 1562.98 1179.01 1556.3 L1179.01 1536.95 L1174.71 1536.95 L1174.71 1532.4 L1179.01 1532.4 L1179.01 1522.27 L1184.9 1522.27 Z\" fill=\"#000000\" fill-rule=\"evenodd\" fill-opacity=\"1\" /><path clip-path=\"url(#clip130)\" d=\"M1204.67 1532.4 L1210.52 1532.4 L1210.52 1568.04 L1204.67 1568.04 L1204.67 1532.4 M1204.67 1518.52 L1210.52 1518.52 L1210.52 1525.93 L1204.67 1525.93 L1204.67 1518.52 Z\" fill=\"#000000\" fill-rule=\"evenodd\" fill-opacity=\"1\" /><path clip-path=\"url(#clip130)\" d=\"M1250.53 1539.24 Q1252.73 1535.29 1255.78 1533.41 Q1258.84 1531.54 1262.97 1531.54 Q1268.54 1531.54 1271.57 1535.45 Q1274.59 1539.33 1274.59 1546.53 L1274.59 1568.04 L1268.7 1568.04 L1268.7 1546.72 Q1268.7 1541.59 1266.89 1539.11 Q1265.08 1536.63 1261.35 1536.63 Q1256.8 1536.63 1254.16 1539.65 Q1251.52 1542.68 1251.52 1547.9 L1251.52 1568.04 L1245.63 1568.04 L1245.63 1546.72 Q1245.63 1541.56 1243.81 1539.11 Q1242 1536.63 1238.21 1536.63 Q1233.72 1536.63 1231.08 1539.68 Q1228.44 1542.71 1228.44 1547.9 L1228.44 1568.04 L1222.55 1568.04 L1222.55 1532.4 L1228.44 1532.4 L1228.44 1537.93 Q1230.45 1534.66 1233.25 1533.1 Q1236.05 1531.54 1239.9 1531.54 Q1243.78 1531.54 1246.49 1533.51 Q1249.23 1535.48 1250.53 1539.24 Z\" fill=\"#000000\" fill-rule=\"evenodd\" fill-opacity=\"1\" /><path clip-path=\"url(#clip130)\" d=\"M1316.77 1548.76 L1316.77 1551.62 L1289.84 1551.62 Q1290.22 1557.67 1293.47 1560.85 Q1296.75 1564 1302.57 1564 Q1305.94 1564 1309.09 1563.17 Q1312.28 1562.35 1315.4 1560.69 L1315.4 1566.23 Q1312.25 1567.57 1308.94 1568.27 Q1305.63 1568.97 1302.22 1568.97 Q1293.69 1568.97 1288.69 1564 Q1283.73 1559.04 1283.73 1550.57 Q1283.73 1541.82 1288.44 1536.69 Q1293.18 1531.54 1301.2 1531.54 Q1308.39 1531.54 1312.56 1536.18 Q1316.77 1540.8 1316.77 1548.76 M1310.91 1547.04 Q1310.85 1542.23 1308.2 1539.37 Q1305.59 1536.5 1301.26 1536.5 Q1296.36 1536.5 1293.4 1539.27 Q1290.47 1542.04 1290.03 1547.07 L1310.91 1547.04 Z\" fill=\"#000000\" fill-rule=\"evenodd\" fill-opacity=\"1\" /><path clip-path=\"url(#clip130)\" d=\"M1361.17 1518.58 Q1356.9 1525.9 1354.83 1533.06 Q1352.76 1540.23 1352.76 1547.58 Q1352.76 1554.93 1354.83 1562.16 Q1356.93 1569.35 1361.17 1576.64 L1356.07 1576.64 Q1351.3 1569.16 1348.91 1561.93 Q1346.56 1554.71 1346.56 1547.58 Q1346.56 1540.48 1348.91 1533.29 Q1351.27 1526.09 1356.07 1518.58 L1361.17 1518.58 Z\" fill=\"#000000\" fill-rule=\"evenodd\" fill-opacity=\"1\" /><path clip-path=\"url(#clip130)\" d=\"M1395.25 1533.45 L1395.25 1538.98 Q1392.77 1537.71 1390.1 1537.07 Q1387.42 1536.44 1384.56 1536.44 Q1380.2 1536.44 1378 1537.77 Q1375.84 1539.11 1375.84 1541.79 Q1375.84 1543.82 1377.4 1545 Q1378.96 1546.15 1383.67 1547.2 L1385.67 1547.64 Q1391.91 1548.98 1394.52 1551.43 Q1397.16 1553.85 1397.16 1558.21 Q1397.16 1563.17 1393.22 1566.07 Q1389.3 1568.97 1382.43 1568.97 Q1379.56 1568.97 1376.44 1568.39 Q1373.36 1567.85 1369.92 1566.74 L1369.92 1560.69 Q1373.17 1562.38 1376.32 1563.24 Q1379.47 1564.07 1382.55 1564.07 Q1386.69 1564.07 1388.92 1562.66 Q1391.15 1561.23 1391.15 1558.65 Q1391.15 1556.27 1389.53 1554.99 Q1387.93 1553.72 1382.49 1552.54 L1380.45 1552.07 Q1375.01 1550.92 1372.59 1548.56 Q1370.17 1546.18 1370.17 1542.04 Q1370.17 1537.01 1373.74 1534.27 Q1377.3 1531.54 1383.86 1531.54 Q1387.11 1531.54 1389.97 1532.01 Q1392.84 1532.49 1395.25 1533.45 Z\" fill=\"#000000\" fill-rule=\"evenodd\" fill-opacity=\"1\" /><path clip-path=\"url(#clip130)\" d=\"M1405.57 1518.58 L1410.66 1518.58 Q1415.43 1526.09 1417.79 1533.29 Q1420.18 1540.48 1420.18 1547.58 Q1420.18 1554.71 1417.79 1561.93 Q1415.43 1569.16 1410.66 1576.64 L1405.57 1576.64 Q1409.8 1569.35 1411.87 1562.16 Q1413.97 1554.93 1413.97 1547.58 Q1413.97 1540.23 1411.87 1533.06 Q1409.8 1525.9 1405.57 1518.58 Z\" fill=\"#000000\" fill-rule=\"evenodd\" fill-opacity=\"1\" /><polyline clip-path=\"url(#clip132)\" style=\"stroke:#000000; stroke-linecap:round; stroke-linejoin:round; stroke-width:2; stroke-opacity:0.1; fill:none\" points=\"242.135,1320.52 2352.76,1320.52 \"/>\n",
       "<polyline clip-path=\"url(#clip132)\" style=\"stroke:#000000; stroke-linecap:round; stroke-linejoin:round; stroke-width:2; stroke-opacity:0.1; fill:none\" points=\"242.135,932.215 2352.76,932.215 \"/>\n",
       "<polyline clip-path=\"url(#clip132)\" style=\"stroke:#000000; stroke-linecap:round; stroke-linejoin:round; stroke-width:2; stroke-opacity:0.1; fill:none\" points=\"242.135,543.915 2352.76,543.915 \"/>\n",
       "<polyline clip-path=\"url(#clip132)\" style=\"stroke:#000000; stroke-linecap:round; stroke-linejoin:round; stroke-width:2; stroke-opacity:0.1; fill:none\" points=\"242.135,155.615 2352.76,155.615 \"/>\n",
       "<polyline clip-path=\"url(#clip130)\" style=\"stroke:#000000; stroke-linecap:round; stroke-linejoin:round; stroke-width:4; stroke-opacity:1; fill:none\" points=\"242.135,1423.18 242.135,123.472 \"/>\n",
       "<polyline clip-path=\"url(#clip130)\" style=\"stroke:#000000; stroke-linecap:round; stroke-linejoin:round; stroke-width:4; stroke-opacity:1; fill:none\" points=\"242.135,1320.52 261.032,1320.52 \"/>\n",
       "<polyline clip-path=\"url(#clip130)\" style=\"stroke:#000000; stroke-linecap:round; stroke-linejoin:round; stroke-width:4; stroke-opacity:1; fill:none\" points=\"242.135,932.215 261.032,932.215 \"/>\n",
       "<polyline clip-path=\"url(#clip130)\" style=\"stroke:#000000; stroke-linecap:round; stroke-linejoin:round; stroke-width:4; stroke-opacity:1; fill:none\" points=\"242.135,543.915 261.032,543.915 \"/>\n",
       "<polyline clip-path=\"url(#clip130)\" style=\"stroke:#000000; stroke-linecap:round; stroke-linejoin:round; stroke-width:4; stroke-opacity:1; fill:none\" points=\"242.135,155.615 261.032,155.615 \"/>\n",
       "<path clip-path=\"url(#clip130)\" d=\"M114.26 1320.97 L143.936 1320.97 L143.936 1324.9 L114.26 1324.9 L114.26 1320.97 Z\" fill=\"#000000\" fill-rule=\"evenodd\" fill-opacity=\"1\" /><path clip-path=\"url(#clip130)\" d=\"M154.839 1333.86 L162.477 1333.86 L162.477 1307.49 L154.167 1309.16 L154.167 1304.9 L162.431 1303.24 L167.107 1303.24 L167.107 1333.86 L174.746 1333.86 L174.746 1337.8 L154.839 1337.8 L154.839 1333.86 Z\" fill=\"#000000\" fill-rule=\"evenodd\" fill-opacity=\"1\" /><path clip-path=\"url(#clip130)\" d=\"M194.19 1306.31 Q190.579 1306.31 188.75 1309.88 Q186.945 1313.42 186.945 1320.55 Q186.945 1327.66 188.75 1331.22 Q190.579 1334.76 194.19 1334.76 Q197.825 1334.76 199.63 1331.22 Q201.459 1327.66 201.459 1320.55 Q201.459 1313.42 199.63 1309.88 Q197.825 1306.31 194.19 1306.31 M194.19 1302.61 Q200 1302.61 203.056 1307.22 Q206.135 1311.8 206.135 1320.55 Q206.135 1329.28 203.056 1333.88 Q200 1338.47 194.19 1338.47 Q188.38 1338.47 185.301 1333.88 Q182.246 1329.28 182.246 1320.55 Q182.246 1311.8 185.301 1307.22 Q188.38 1302.61 194.19 1302.61 Z\" fill=\"#000000\" fill-rule=\"evenodd\" fill-opacity=\"1\" /><path clip-path=\"url(#clip130)\" d=\"M194.19 918.014 Q190.579 918.014 188.75 921.579 Q186.945 925.12 186.945 932.25 Q186.945 939.356 188.75 942.921 Q190.579 946.463 194.19 946.463 Q197.825 946.463 199.63 942.921 Q201.459 939.356 201.459 932.25 Q201.459 925.12 199.63 921.579 Q197.825 918.014 194.19 918.014 M194.19 914.31 Q200 914.31 203.056 918.917 Q206.135 923.5 206.135 932.25 Q206.135 940.977 203.056 945.583 Q200 950.166 194.19 950.166 Q188.38 950.166 185.301 945.583 Q182.246 940.977 182.246 932.25 Q182.246 923.5 185.301 918.917 Q188.38 914.31 194.19 914.31 Z\" fill=\"#000000\" fill-rule=\"evenodd\" fill-opacity=\"1\" /><path clip-path=\"url(#clip130)\" d=\"M154.839 557.26 L162.477 557.26 L162.477 530.894 L154.167 532.561 L154.167 528.302 L162.431 526.635 L167.107 526.635 L167.107 557.26 L174.746 557.26 L174.746 561.195 L154.839 561.195 L154.839 557.26 Z\" fill=\"#000000\" fill-rule=\"evenodd\" fill-opacity=\"1\" /><path clip-path=\"url(#clip130)\" d=\"M194.19 529.714 Q190.579 529.714 188.75 533.279 Q186.945 536.82 186.945 543.95 Q186.945 551.056 188.75 554.621 Q190.579 558.163 194.19 558.163 Q197.825 558.163 199.63 554.621 Q201.459 551.056 201.459 543.95 Q201.459 536.82 199.63 533.279 Q197.825 529.714 194.19 529.714 M194.19 526.01 Q200 526.01 203.056 530.617 Q206.135 535.2 206.135 543.95 Q206.135 552.677 203.056 557.283 Q200 561.866 194.19 561.866 Q188.38 561.866 185.301 557.283 Q182.246 552.677 182.246 543.95 Q182.246 535.2 185.301 530.617 Q188.38 526.01 194.19 526.01 Z\" fill=\"#000000\" fill-rule=\"evenodd\" fill-opacity=\"1\" /><path clip-path=\"url(#clip130)\" d=\"M158.056 168.96 L174.376 168.96 L174.376 172.895 L152.431 172.895 L152.431 168.96 Q155.093 166.205 159.677 161.576 Q164.283 156.923 165.464 155.58 Q167.709 153.057 168.589 151.321 Q169.491 149.562 169.491 147.872 Q169.491 145.117 167.547 143.381 Q165.626 141.645 162.524 141.645 Q160.325 141.645 157.871 142.409 Q155.44 143.173 152.663 144.724 L152.663 140.002 Q155.487 138.867 157.94 138.289 Q160.394 137.71 162.431 137.71 Q167.802 137.71 170.996 140.395 Q174.19 143.08 174.19 147.571 Q174.19 149.701 173.38 151.622 Q172.593 153.52 170.487 156.113 Q169.908 156.784 166.806 160.002 Q163.704 163.196 158.056 168.96 Z\" fill=\"#000000\" fill-rule=\"evenodd\" fill-opacity=\"1\" /><path clip-path=\"url(#clip130)\" d=\"M194.19 141.414 Q190.579 141.414 188.75 144.979 Q186.945 148.52 186.945 155.65 Q186.945 162.756 188.75 166.321 Q190.579 169.863 194.19 169.863 Q197.825 169.863 199.63 166.321 Q201.459 162.756 201.459 155.65 Q201.459 148.52 199.63 144.979 Q197.825 141.414 194.19 141.414 M194.19 137.71 Q200 137.71 203.056 142.317 Q206.135 146.9 206.135 155.65 Q206.135 164.377 203.056 168.983 Q200 173.566 194.19 173.566 Q188.38 173.566 185.301 168.983 Q182.246 164.377 182.246 155.65 Q182.246 146.9 185.301 142.317 Q188.38 137.71 194.19 137.71 Z\" fill=\"#000000\" fill-rule=\"evenodd\" fill-opacity=\"1\" /><path clip-path=\"url(#clip130)\" d=\"M28.3562 756.711 L45.7028 769.602 L64.0042 756.043 L64.0042 762.95 L49.9996 773.326 L64.0042 783.702 L64.0042 790.609 L45.3526 776.763 L28.3562 789.431 L28.3562 782.524 L41.0558 773.071 L28.3562 763.618 L28.3562 756.711 Z\" fill=\"#000000\" fill-rule=\"evenodd\" fill-opacity=\"1\" /><path clip-path=\"url(#clip130)\" d=\"M1069.78 14.0809 L1069.78 22.0612 Q1065.13 19.8332 1060.99 18.7395 Q1056.86 17.6457 1053.01 17.6457 Q1046.33 17.6457 1042.68 20.2383 Q1039.08 22.8309 1039.08 27.611 Q1039.08 31.6214 1041.47 33.6873 Q1043.9 35.7128 1050.62 36.9686 L1055.57 37.9813 Q1064.72 39.7232 1069.06 44.1387 Q1073.43 48.5136 1073.43 55.8863 Q1073.43 64.6767 1067.52 69.2137 Q1061.64 73.7508 1050.26 73.7508 Q1045.97 73.7508 1041.1 72.7785 Q1036.28 71.8063 1031.1 69.9024 L1031.1 61.4765 Q1036.08 64.2716 1040.86 65.6895 Q1045.64 67.1073 1050.26 67.1073 Q1057.27 67.1073 1061.08 64.3527 Q1064.88 61.598 1064.88 56.4939 Q1064.88 52.0379 1062.13 49.5264 Q1059.41 47.0148 1053.18 45.759 L1048.19 44.7868 Q1039.04 42.9639 1034.95 39.075 Q1030.86 35.1862 1030.86 28.2591 Q1030.86 20.2383 1036.49 15.6203 Q1042.16 11.0023 1052.08 11.0023 Q1056.34 11.0023 1060.75 11.7719 Q1065.17 12.5416 1069.78 14.0809 Z\" fill=\"#000000\" fill-rule=\"evenodd\" fill-opacity=\"1\" /><path clip-path=\"url(#clip130)\" d=\"M1093.24 14.324 L1093.24 27.2059 L1108.59 27.2059 L1108.59 32.9987 L1093.24 32.9987 L1093.24 57.6282 Q1093.24 63.1779 1094.74 64.7578 Q1096.28 66.3376 1100.94 66.3376 L1108.59 66.3376 L1108.59 72.576 L1100.94 72.576 Q1092.31 72.576 1089.03 69.3758 Q1085.75 66.1351 1085.75 57.6282 L1085.75 32.9987 L1080.28 32.9987 L1080.28 27.2059 L1085.75 27.2059 L1085.75 14.324 L1093.24 14.324 Z\" fill=\"#000000\" fill-rule=\"evenodd\" fill-opacity=\"1\" /><path clip-path=\"url(#clip130)\" d=\"M1139.01 49.7694 Q1129.98 49.7694 1126.5 51.8354 Q1123.01 53.9013 1123.01 58.8839 Q1123.01 62.8538 1125.61 65.2034 Q1128.24 67.5124 1132.74 67.5124 Q1138.93 67.5124 1142.66 63.1374 Q1146.43 58.7219 1146.43 51.4303 L1146.43 49.7694 L1139.01 49.7694 M1153.88 46.6907 L1153.88 72.576 L1146.43 72.576 L1146.43 65.6895 Q1143.88 69.8214 1140.07 71.8063 Q1136.26 73.7508 1130.75 73.7508 Q1123.78 73.7508 1119.65 69.8619 Q1115.56 65.9325 1115.56 59.3701 Q1115.56 51.7138 1120.66 47.825 Q1125.81 43.9361 1135.98 43.9361 L1146.43 43.9361 L1146.43 43.2069 Q1146.43 38.0623 1143.02 35.2672 Q1139.66 32.4315 1133.55 32.4315 Q1129.66 32.4315 1125.97 33.3632 Q1122.28 34.295 1118.88 36.1584 L1118.88 29.2718 Q1122.97 27.692 1126.82 26.9223 Q1130.67 26.1121 1134.32 26.1121 Q1144.16 26.1121 1149.02 31.2163 Q1153.88 36.3204 1153.88 46.6907 Z\" fill=\"#000000\" fill-rule=\"evenodd\" fill-opacity=\"1\" /><path clip-path=\"url(#clip130)\" d=\"M1176.61 14.324 L1176.61 27.2059 L1191.96 27.2059 L1191.96 32.9987 L1176.61 32.9987 L1176.61 57.6282 Q1176.61 63.1779 1178.11 64.7578 Q1179.64 66.3376 1184.3 66.3376 L1191.96 66.3376 L1191.96 72.576 L1184.3 72.576 Q1175.68 72.576 1172.39 69.3758 Q1169.11 66.1351 1169.11 57.6282 L1169.11 32.9987 L1163.64 32.9987 L1163.64 27.2059 L1169.11 27.2059 L1169.11 14.324 L1176.61 14.324 Z\" fill=\"#000000\" fill-rule=\"evenodd\" fill-opacity=\"1\" /><path clip-path=\"url(#clip130)\" d=\"M1240.57 48.0275 L1240.57 51.6733 L1206.3 51.6733 Q1206.79 59.3701 1210.92 63.421 Q1215.09 67.4314 1222.5 67.4314 Q1226.8 67.4314 1230.81 66.3781 Q1234.86 65.3249 1238.83 63.2184 L1238.83 70.267 Q1234.82 71.9684 1230.61 72.8596 Q1226.39 73.7508 1222.06 73.7508 Q1211.2 73.7508 1204.84 67.4314 Q1198.52 61.1119 1198.52 50.3365 Q1198.52 39.1965 1204.52 32.6746 Q1210.55 26.1121 1220.76 26.1121 Q1229.92 26.1121 1235.22 32.0264 Q1240.57 37.9003 1240.57 48.0275 M1233.12 45.84 Q1233.04 39.7232 1229.67 36.0774 Q1226.35 32.4315 1220.84 32.4315 Q1214.6 32.4315 1210.84 35.9558 Q1207.11 39.4801 1206.54 45.8805 L1233.12 45.84 Z\" fill=\"#000000\" fill-rule=\"evenodd\" fill-opacity=\"1\" /><path clip-path=\"url(#clip130)\" d=\"M1279.5 12.096 L1287.68 12.096 L1287.68 36.8875 L1317.42 36.8875 L1317.42 12.096 L1325.6 12.096 L1325.6 72.576 L1317.42 72.576 L1317.42 43.7741 L1287.68 43.7741 L1287.68 72.576 L1279.5 72.576 L1279.5 12.096 Z\" fill=\"#000000\" fill-rule=\"evenodd\" fill-opacity=\"1\" /><path clip-path=\"url(#clip130)\" d=\"M1341.56 27.2059 L1349.01 27.2059 L1349.01 72.576 L1341.56 72.576 L1341.56 27.2059 M1341.56 9.54393 L1349.01 9.54393 L1349.01 18.9825 L1341.56 18.9825 L1341.56 9.54393 Z\" fill=\"#000000\" fill-rule=\"evenodd\" fill-opacity=\"1\" /><path clip-path=\"url(#clip130)\" d=\"M1393.53 28.5427 L1393.53 35.5912 Q1390.37 33.9709 1386.97 33.1607 Q1383.57 32.3505 1379.92 32.3505 Q1374.37 32.3505 1371.58 34.0519 Q1368.82 35.7533 1368.82 39.156 Q1368.82 41.7486 1370.81 43.2475 Q1372.79 44.7058 1378.79 46.0426 L1381.34 46.6097 Q1389.28 48.3111 1392.6 51.4303 Q1395.96 54.509 1395.96 60.0587 Q1395.96 66.3781 1390.94 70.0644 Q1385.96 73.7508 1377.21 73.7508 Q1373.56 73.7508 1369.59 73.0216 Q1365.66 72.3329 1361.29 70.9151 L1361.29 63.2184 Q1365.42 65.3654 1369.43 66.4591 Q1373.44 67.5124 1377.37 67.5124 Q1382.64 67.5124 1385.47 65.73 Q1388.31 63.9071 1388.31 60.6258 Q1388.31 57.5877 1386.24 55.9673 Q1384.22 54.3469 1377.29 52.8481 L1374.7 52.2405 Q1367.77 50.7821 1364.69 47.7845 Q1361.61 44.7463 1361.61 39.4801 Q1361.61 33.0797 1366.15 29.5959 Q1370.69 26.1121 1379.03 26.1121 Q1383.16 26.1121 1386.81 26.7198 Q1390.45 27.3274 1393.53 28.5427 Z\" fill=\"#000000\" fill-rule=\"evenodd\" fill-opacity=\"1\" /><path clip-path=\"url(#clip130)\" d=\"M1415.21 14.324 L1415.21 27.2059 L1430.56 27.2059 L1430.56 32.9987 L1415.21 32.9987 L1415.21 57.6282 Q1415.21 63.1779 1416.7 64.7578 Q1418.24 66.3376 1422.9 66.3376 L1430.56 66.3376 L1430.56 72.576 L1422.9 72.576 Q1414.27 72.576 1410.99 69.3758 Q1407.71 66.1351 1407.71 57.6282 L1407.71 32.9987 L1402.24 32.9987 L1402.24 27.2059 L1407.71 27.2059 L1407.71 14.324 L1415.21 14.324 Z\" fill=\"#000000\" fill-rule=\"evenodd\" fill-opacity=\"1\" /><path clip-path=\"url(#clip130)\" d=\"M1457.94 32.4315 Q1451.95 32.4315 1448.46 37.1306 Q1444.98 41.7891 1444.98 49.9314 Q1444.98 58.0738 1448.42 62.7728 Q1451.91 67.4314 1457.94 67.4314 Q1463.9 67.4314 1467.38 62.7323 Q1470.86 58.0333 1470.86 49.9314 Q1470.86 41.8701 1467.38 37.1711 Q1463.9 32.4315 1457.94 32.4315 M1457.94 26.1121 Q1467.66 26.1121 1473.21 32.4315 Q1478.76 38.7509 1478.76 49.9314 Q1478.76 61.0714 1473.21 67.4314 Q1467.66 73.7508 1457.94 73.7508 Q1448.18 73.7508 1442.63 67.4314 Q1437.12 61.0714 1437.12 49.9314 Q1437.12 38.7509 1442.63 32.4315 Q1448.18 26.1121 1457.94 26.1121 Z\" fill=\"#000000\" fill-rule=\"evenodd\" fill-opacity=\"1\" /><path clip-path=\"url(#clip130)\" d=\"M1517.41 34.1734 Q1516.15 33.4443 1514.65 33.1202 Q1513.2 32.7556 1511.41 32.7556 Q1505.09 32.7556 1501.69 36.8875 Q1498.33 40.9789 1498.33 48.6757 L1498.33 72.576 L1490.84 72.576 L1490.84 27.2059 L1498.33 27.2059 L1498.33 34.2544 Q1500.68 30.1225 1504.45 28.1376 Q1508.21 26.1121 1513.6 26.1121 Q1514.37 26.1121 1515.3 26.2337 Q1516.23 26.3147 1517.37 26.5172 L1517.41 34.1734 Z\" fill=\"#000000\" fill-rule=\"evenodd\" fill-opacity=\"1\" /><path clip-path=\"url(#clip130)\" d=\"M1544.1 76.7889 Q1540.95 84.8907 1537.95 87.3618 Q1534.95 89.8329 1529.93 89.8329 L1523.97 89.8329 L1523.97 83.5945 L1528.35 83.5945 Q1531.43 83.5945 1533.13 82.1361 Q1534.83 80.6778 1536.89 75.2496 L1538.23 71.8468 L1519.88 27.2059 L1527.78 27.2059 L1541.96 62.6918 L1556.14 27.2059 L1564.04 27.2059 L1544.1 76.7889 Z\" fill=\"#000000\" fill-rule=\"evenodd\" fill-opacity=\"1\" /><polyline clip-path=\"url(#clip132)\" style=\"stroke:#009af9; stroke-linecap:round; stroke-linejoin:round; stroke-width:4; stroke-opacity:1; fill:none\" points=\"301.869,774.586 309.006,762.929 316.143,765.295 323.279,770.223 330.416,776.516 337.553,783.524 344.69,786.752 351.826,792.128 358.963,803.643 366.1,809.689 373.237,824.504 380.373,840.424 387.51,839.759 394.647,834.242 401.784,836.028 408.92,840.633 416.057,845.79 423.194,858.472 430.331,864.455 437.467,867.677 444.604,878.022 451.741,889.384 458.878,892.016 466.014,893.362 473.151,901.103 480.288,907.155 487.425,912.228 494.561,916.801 501.698,921.632 508.835,922.877 515.972,927.098 523.108,929.963 530.245,933.556 537.382,936.548 544.519,942.03 551.655,944.661 558.792,948.306 565.929,950.965 573.066,955.886 580.202,958.581 587.339,963.779 594.476,966.032 601.613,969.349 608.749,980.096 615.886,980.281 623.023,983.964 630.16,989.747 637.296,996.628 644.433,1000.91 651.57,1002.33 658.707,1006.1 665.843,1012.06 672.98,1021.76 680.117,1025.11 687.254,1026.56 694.39,1027.93 701.527,1032.01 708.664,1034.32 715.8,1038.65 722.937,1039.66 730.074,1040.4 737.211,1043.73 744.347,1047.32 751.484,1050.01 758.621,1049.31 765.758,1052.19 772.894,1052.78 780.031,1054.71 787.168,1057.16 794.305,1056.28 801.441,1056.79 808.578,1053.85 815.715,1054.45 822.852,1058.81 829.988,1061.85 837.125,1066.78 844.262,1071.53 851.399,1071.09 858.535,1067.88 865.672,1067.86 872.809,1065.11 879.946,1062.83 887.082,1061.29 894.219,1064.33 901.356,1064.58 908.493,1064.67 915.629,1065.28 922.766,1066.99 929.903,1069.68 937.04,1071.36 944.176,1072.71 951.313,1071.93 958.45,1071.55 965.587,1073.01 972.723,1071.52 979.86,1072.1 986.997,1072.3 994.134,1072.92 1001.27,1072.99 1008.41,1074.7 1015.54,1074.96 1022.68,1073.49 1029.82,1073.66 1036.95,1073.72 1044.09,1076.49 1051.23,1076.92 1058.36,1076.78 1065.5,1077.9 1072.64,1074.5 1079.77,1076.39 1086.91,1073.44 1094.05,1071.41 1101.18,1069.01 1108.32,1066.96 1115.46,1063.77 1122.6,1064.09 1129.73,1063.83 1136.87,1063.78 1144.01,1062.29 1151.14,1060.12 1158.28,1056.21 1165.42,1054.21 1172.55,1053.83 1179.69,1050.04 1186.83,1048.19 1193.96,1048.93 1201.1,1047.03 1208.24,1044.88 1215.37,1044.07 1222.51,1043.25 1229.65,1040.63 1236.78,1038.24 1243.92,1035.93 1251.06,1033.43 1258.19,1032.5 1265.33,1031.41 1272.47,1028.05 1279.6,1024.37 1286.74,1022.35 1293.88,1019.54 1301.01,1016.49 1308.15,1013.76 1315.29,1013.12 1322.42,1009.23 1329.56,1006.65 1336.7,1003 1343.83,1000.77 1350.97,996.881 1358.11,994.284 1365.24,991.426 1372.38,989.354 1379.52,987.164 1386.65,984.862 1393.79,982.948 1400.93,980.981 1408.06,978.582 1415.2,976.805 1422.34,974.845 1429.48,973.324 1436.61,971.57 1443.75,969.757 1450.89,968.191 1458.02,966.346 1465.16,965.262 1472.3,964.036 1479.43,962.343 1486.57,961.01 1493.71,959.693 1500.84,958.98 1507.98,957.896 1515.12,956.893 1522.25,955.584 1529.39,954.232 1536.53,952.908 1543.66,952.153 1550.8,951.171 1557.94,950.462 1565.07,949.881 1572.21,949.461 1579.35,948.983 1586.48,948.221 1593.62,947.519 1600.76,946.676 1607.89,945.974 1615.03,945.453 1622.17,944.935 1629.3,944.232 1636.44,943.897 1643.58,943.365 1650.71,942.872 1657.85,942.436 1664.99,942.255 1672.12,941.853 1679.26,941.248 1686.4,940.804 1693.53,940.435 1700.67,940.167 1707.81,939.821 1714.94,939.472 1722.08,939.026 1729.22,938.719 1736.36,938.381 1743.49,938.083 1750.63,937.838 1757.77,937.636 1764.9,937.419 1772.04,937.215 1779.18,937.032 1786.31,936.825 1793.45,936.576 1800.59,936.38 1807.72,936.282 1814.86,936.067 1822,935.966 1829.13,935.792 1836.27,935.645 1843.41,935.519 1850.54,935.438 1857.68,935.231 1864.82,935.092 1871.95,935.032 1879.09,934.963 1886.23,934.862 1893.36,934.767 1900.5,934.679 1907.64,934.624 1914.77,934.539 1921.91,934.435 1929.05,934.339 1936.18,934.257 1943.32,934.181 1950.46,934.124 1957.59,934.096 1964.73,934.072 1971.87,934.004 1979,933.978 1986.14,933.934 1993.28,933.863 2000.41,933.782 2007.55,933.758 2014.69,933.698 2021.82,933.634 2028.96,933.574 2036.1,933.509 2043.24,933.456 2050.37,933.43 2057.51,933.401 2064.65,933.368 2071.78,933.343 2078.92,933.307 2086.06,933.273 2093.19,933.244 2100.33,933.223 2107.47,933.205 2114.6,933.178 2121.74,933.166 2128.88,933.16 2136.01,933.145 2143.15,933.115 2150.29,933.109 2157.42,933.069 2164.56,933.043 2171.7,933.023 2178.83,933.004 2185.97,932.968 2193.11,932.948 2200.24,932.919 2207.38,932.902 2214.52,932.891 2221.65,932.867 2228.79,932.843 2235.93,932.826 2243.06,932.82 2250.2,932.812 2257.34,932.792 2264.47,932.782 2271.61,932.78 2278.75,932.769 2285.88,932.748 2293.02,932.739 \"/>\n",
       "<polyline clip-path=\"url(#clip132)\" style=\"stroke:#e26f46; stroke-linecap:round; stroke-linejoin:round; stroke-width:4; stroke-opacity:1; fill:none\" points=\"301.869,851.585 309.006,864.978 316.143,865.046 323.279,866.823 330.416,853.313 337.553,864.36 344.69,864.931 351.826,858.743 358.963,847.318 366.1,845.728 373.237,845.076 380.373,839.272 387.51,842.705 394.647,843.526 401.784,840.416 408.92,834.183 416.057,833.968 423.194,838.419 430.331,836.794 437.467,837.433 444.604,838.162 451.741,843.681 458.878,836.836 466.014,826.34 473.151,825.152 480.288,821.388 487.425,818.782 494.561,815.723 501.698,808.845 508.835,803.485 515.972,798.556 523.108,790.707 530.245,786.029 537.382,778.993 544.519,774.788 551.655,774.946 558.792,771.039 565.929,767.723 573.066,764.097 580.202,763.089 587.339,758.793 594.476,756.255 601.613,754.219 608.749,750.6 615.886,751.603 623.023,749.74 630.16,747.043 637.296,742.623 644.433,740.511 651.57,741.264 658.707,739.375 665.843,736.915 672.98,737.989 680.117,738.334 687.254,734.162 694.39,733.021 701.527,729.458 708.664,731.756 715.8,731.619 722.937,730.559 730.074,729.928 737.211,730.948 744.347,727.564 751.484,731.016 758.621,731.57 765.758,731.107 772.894,728.54 780.031,727.118 787.168,726.468 794.305,727.837 801.441,726.774 808.578,725.106 815.715,726.37 822.852,725.718 829.988,724.721 837.125,726.301 844.262,725.669 851.399,724.579 858.535,728.208 865.672,731.257 872.809,729.427 879.946,727.554 887.082,724.016 894.219,725.138 901.356,724.486 908.493,726.536 915.629,728.47 922.766,732.985 929.903,731.984 937.04,733.686 944.176,736.816 951.313,738.303 958.45,738.758 965.587,742.568 972.723,742.381 979.86,746.45 986.997,747.947 994.134,749.954 1001.27,753.425 1008.41,754.756 1015.54,754.962 1022.68,756.193 1029.82,758.987 1036.95,759.177 1044.09,759.546 1051.23,758.903 1058.36,759.125 1065.5,764.51 1072.64,767.276 1079.77,770.072 1086.91,772.171 1094.05,774.732 1101.18,775.32 1108.32,774.708 1115.46,775.646 1122.6,779.446 1129.73,784.258 1136.87,788.276 1144.01,793.302 1151.14,795.403 1158.28,799.101 1165.42,802.52 1172.55,806.079 1179.69,808.337 1186.83,812.925 1193.96,816.526 1201.1,820.753 1208.24,823.498 1215.37,826.842 1222.51,829.857 1229.65,832.517 1236.78,835.391 1243.92,837.72 1251.06,840.1 1258.19,841.52 1265.33,844.259 1272.47,846.908 1279.6,850.242 1286.74,853.684 1293.88,854.773 1301.01,857.51 1308.15,860.563 1315.29,863.819 1322.42,866.258 1329.56,868.716 1336.7,872.033 1343.83,874.029 1350.97,875.448 1358.11,877.171 1365.24,880.185 1372.38,883.414 1379.52,886.118 1386.65,888.226 1393.79,889.939 1400.93,891.029 1408.06,892.103 1415.2,893.892 1422.34,896.015 1429.48,897.613 1436.61,898.968 1443.75,900.755 1450.89,902.516 1458.02,904.311 1465.16,905.622 1472.3,906.987 1479.43,908.651 1486.57,909.741 1493.71,910.812 1500.84,911.446 1507.98,912.413 1515.12,913.425 1522.25,914.051 1529.39,914.752 1536.53,915.287 1543.66,915.852 1550.8,916.347 1557.94,916.765 1565.07,917.282 1572.21,917.91 1579.35,918.504 1586.48,919.184 1593.62,919.743 1600.76,920.295 1607.89,920.652 1615.03,921.156 1622.17,921.483 1629.3,921.882 1636.44,922.511 1643.58,922.865 1650.71,923.203 1657.85,923.598 1664.99,924.074 1672.12,924.315 1679.26,924.621 1686.4,925.032 1693.53,925.472 1700.67,925.843 1707.81,926.076 1714.94,926.3 1722.08,926.502 1729.22,926.748 1736.36,926.94 1743.49,927.108 1750.63,927.394 1757.77,927.571 1764.9,927.741 1772.04,927.893 1779.18,928.075 1786.31,928.217 1793.45,928.407 1800.59,928.55 1807.72,928.661 1814.86,928.759 1822,928.893 1829.13,929.004 1836.27,929.107 1843.41,929.15 1850.54,929.234 1857.68,929.396 1864.82,929.493 1871.95,929.55 1879.09,929.638 1886.23,929.697 1893.36,929.773 1900.5,929.8 1907.64,929.9 1914.77,929.991 1921.91,930.094 1929.05,930.207 1936.18,930.266 1943.32,930.358 1950.46,930.401 1957.59,930.457 1964.73,930.521 1971.87,930.554 1979,930.598 1986.14,930.641 1993.28,930.681 2000.41,930.703 2007.55,930.779 2014.69,930.833 2021.82,930.883 2028.96,930.912 2036.1,930.933 2043.24,930.993 2050.37,931.029 2057.51,931.062 2064.65,931.11 2071.78,931.139 2078.92,931.177 2086.06,931.206 2093.19,931.231 2100.33,931.257 2107.47,931.283 2114.6,931.316 2121.74,931.321 2128.88,931.341 2136.01,931.361 2143.15,931.384 2150.29,931.416 2157.42,931.426 2164.56,931.442 2171.7,931.464 2178.83,931.497 2185.97,931.5 2193.11,931.525 2200.24,931.549 2207.38,931.567 2214.52,931.581 2221.65,931.591 2228.79,931.615 2235.93,931.618 2243.06,931.629 2250.2,931.645 2257.34,931.654 2264.47,931.672 2271.61,931.691 2278.75,931.702 2285.88,931.706 2293.02,931.714 \"/>\n",
       "<polyline clip-path=\"url(#clip132)\" style=\"stroke:#3da44d; stroke-linecap:round; stroke-linejoin:round; stroke-width:4; stroke-opacity:1; fill:none\" points=\"301.869,160.256 309.006,166.347 316.143,174.29 323.279,199.171 330.416,212.519 337.553,226.652 344.69,245.841 351.826,249.66 358.963,274.985 366.1,305.124 373.237,329.089 380.373,356.353 387.51,384.748 394.647,398.881 401.784,422.258 408.92,443.158 416.057,473.69 423.194,489.495 430.331,508.771 437.467,532.355 444.604,556.663 451.741,576.181 458.878,598.671 466.014,614.908 473.151,632.342 480.288,643.777 487.425,651.347 494.561,664.106 501.698,676.229 508.835,686.947 515.972,697.53 523.108,707.966 530.245,716.92 537.382,729.928 544.519,743.041 551.655,752.616 558.792,760.332 565.929,769.499 573.066,775.237 580.202,781.647 587.339,789.738 594.476,795.479 601.613,801.616 608.749,806.399 615.886,810.727 623.023,813.085 630.16,815.33 637.296,821.004 644.433,825.717 651.57,825.335 658.707,827.298 665.843,830.783 672.98,833.56 680.117,841.433 687.254,846.261 694.39,850.593 701.527,852.214 708.664,858.63 715.8,861.644 722.937,865.186 730.074,867.451 737.211,868.117 744.347,871.771 751.484,874.52 758.621,875.141 765.758,876.596 772.894,879.467 780.031,879.255 787.168,880.567 794.305,882.257 801.441,884.36 808.578,885.594 815.715,887.43 822.852,887.788 829.988,888.126 837.125,885.57 844.262,885.471 851.399,884.625 858.535,888.652 865.672,885.765 872.809,886.062 879.946,889.626 887.082,889.969 894.219,889.987 901.356,892.568 908.493,892.276 915.629,890.684 922.766,892.64 929.903,890.2 937.04,890.959 944.176,892.592 951.313,889.974 958.45,888.74 965.587,889.869 972.723,890.997 979.86,892.846 986.997,893.798 994.134,897.102 1001.27,896.379 1008.41,897.819 1015.54,896.227 1022.68,896.088 1029.82,896.628 1036.95,894.947 1044.09,893.539 1051.23,894.592 1058.36,896.839 1065.5,897.44 1072.64,901.989 1079.77,904.682 1086.91,903.877 1094.05,903.803 1101.18,903.065 1108.32,903.416 1115.46,903.623 1122.6,904.406 1129.73,905.099 1136.87,904.27 1144.01,907.081 1151.14,906.505 1158.28,904.254 1165.42,904.102 1172.55,904.06 1179.69,904.944 1186.83,906.227 1193.96,906.675 1201.1,906.595 1208.24,907.003 1215.37,908.197 1222.51,908.115 1229.65,908.254 1236.78,907.892 1243.92,908.19 1251.06,909.296 1258.19,911.558 1265.33,912.952 1272.47,914.345 1279.6,914.184 1286.74,915.032 1293.88,914.978 1301.01,915.897 1308.15,916.471 1315.29,915.451 1322.42,915.315 1329.56,915.667 1336.7,916.513 1343.83,918.323 1350.97,918.841 1358.11,918.655 1365.24,919.324 1372.38,920.341 1379.52,920.002 1386.65,920.464 1393.79,921.382 1400.93,921.834 1408.06,921.835 1415.2,922.367 1422.34,922.518 1429.48,922.38 1436.61,923.326 1443.75,924.065 1450.89,924.572 1458.02,924.401 1465.16,924.682 1472.3,925.128 1479.43,925.258 1486.57,925.595 1493.71,925.75 1500.84,925.827 1507.98,926.467 1515.12,927.431 1522.25,927.568 1529.39,927.775 1536.53,927.741 1543.66,927.891 1550.8,927.927 1557.94,928.409 1565.07,928.594 1572.21,928.692 1579.35,928.898 1586.48,929.011 1593.62,929.163 1600.76,929.267 1607.89,929.212 1615.03,929.235 1622.17,929.531 1629.3,929.923 1636.44,929.961 1643.58,929.876 1650.71,929.829 1657.85,929.852 1664.99,929.802 1672.12,929.89 1679.26,930.002 1686.4,930.267 1693.53,930.326 1700.67,930.462 1707.81,930.597 1714.94,930.757 1722.08,930.726 1729.22,930.804 1736.36,930.841 1743.49,930.764 1750.63,930.696 1757.77,930.718 1764.9,930.806 1772.04,930.829 1779.18,930.845 1786.31,930.904 1793.45,930.966 1800.59,931.05 1807.72,931.185 1814.86,931.295 1822,931.352 1829.13,931.468 1836.27,931.462 1843.41,931.47 1850.54,931.465 1857.68,931.524 1864.82,931.505 1871.95,931.526 1879.09,931.553 1886.23,931.581 1893.36,931.621 1900.5,931.619 1907.64,931.623 1914.77,931.62 1921.91,931.663 1929.05,931.681 1936.18,931.738 1943.32,931.764 1950.46,931.748 1957.59,931.762 1964.73,931.759 1971.87,931.776 1979,931.825 1986.14,931.856 1993.28,931.887 2000.41,931.894 2007.55,931.919 2014.69,931.963 2021.82,931.953 2028.96,931.978 2036.1,931.995 2043.24,931.985 2050.37,931.973 2057.51,931.977 2064.65,931.992 2071.78,931.998 2078.92,931.993 2086.06,931.995 2093.19,931.994 2100.33,931.992 2107.47,932 2114.6,932.019 2121.74,932.015 2128.88,932.026 2136.01,932.031 2143.15,932.046 2150.29,932.062 2157.42,932.059 2164.56,932.082 2171.7,932.093 2178.83,932.103 2185.97,932.116 2193.11,932.112 2200.24,932.122 2207.38,932.121 2214.52,932.129 2221.65,932.14 2228.79,932.152 2235.93,932.159 2243.06,932.157 2250.2,932.158 2257.34,932.156 2264.47,932.159 2271.61,932.156 2278.75,932.161 2285.88,932.16 2293.02,932.162 \"/>\n",
       "<polyline clip-path=\"url(#clip132)\" style=\"stroke:#c271d2; stroke-linecap:round; stroke-linejoin:round; stroke-width:4; stroke-opacity:1; fill:none\" stroke-dasharray=\"16, 10\" points=\"301.869,1048.71 309.006,1048.8 316.143,1048.8 323.279,1048.8 330.416,1049.07 337.553,1049.07 344.69,1049.11 351.826,1049.26 358.963,1049.25 366.1,1049.25 373.237,1049.56 380.373,1049.65 387.51,1049.57 394.647,1049.63 401.784,1049.63 408.92,1049.63 416.057,1050.2 423.194,1051.45 430.331,1049.21 437.467,1045.95 444.604,1042.56 451.741,1039.11 458.878,1035.77 466.014,1033 473.151,1031.49 480.288,1029.49 487.425,1027.73 494.561,1026.12 501.698,1024.32 508.835,1022.75 515.972,1021.48 523.108,1020.21 530.245,1019.1 537.382,1018.03 544.519,1016.92 551.655,1015.73 558.792,1014.6 565.929,1013.51 573.066,1012.42 580.202,1011.33 587.339,1010.23 594.476,1009.03 601.613,1007.93 608.749,1006.8 615.886,1005.54 623.023,1004.35 630.16,1003.2 637.296,1002.01 644.433,1000.65 651.57,999.334 658.707,998.256 665.843,997.02 672.98,995.711 680.117,994.329 687.254,992.708 694.39,991.288 701.527,989.918 708.664,988.663 715.8,987.194 722.937,985.837 730.074,984.488 737.211,983.214 744.347,981.986 751.484,980.627 758.621,979.287 765.758,978.067 772.894,976.792 780.031,975.494 787.168,974.336 794.305,973.11 801.441,971.892 808.578,970.667 815.715,969.549 822.852,968.396 829.988,967.262 837.125,966.12 844.262,965.064 851.399,963.864 858.535,962.742 865.672,961.43 872.809,960.404 879.946,959.271 887.082,958.049 894.219,957.003 901.356,955.934 908.493,954.776 915.629,953.721 922.766,952.699 929.903,951.498 937.04,950.457 944.176,949.261 951.313,948.008 958.45,946.951 965.587,945.823 972.723,944.564 979.86,943.318 986.997,942.017 994.134,940.746 1001.27,939.346 1008.41,938.128 1015.54,936.774 1022.68,935.576 1029.82,934.313 1036.95,933.003 1044.09,931.798 1051.23,930.556 1058.36,929.194 1065.5,927.779 1072.64,926.423 1079.77,924.864 1086.91,923.36 1094.05,922.053 1101.18,920.695 1108.32,919.374 1115.46,918.001 1122.6,916.65 1129.73,915.24 1136.87,913.809 1144.01,912.431 1151.14,910.834 1158.28,909.423 1165.42,908.106 1172.55,906.657 1179.69,905.186 1186.83,903.687 1193.96,902.148 1201.1,900.61 1208.24,899.069 1215.37,897.456 1222.51,895.757 1229.65,894.122 1236.78,892.466 1243.92,890.834 1251.06,889.151 1258.19,887.421 1265.33,885.611 1272.47,883.883 1279.6,882.219 1286.74,880.813 1293.88,879.641 1301.01,878.768 1308.15,878.472 1315.29,878.689 1322.42,878.987 1329.56,879.673 1336.7,880.502 1343.83,881.491 1350.97,882.57 1358.11,883.726 1365.24,884.891 1372.38,886.095 1379.52,887.285 1386.65,888.408 1393.79,889.579 1400.93,890.777 1408.06,891.98 1415.2,893.2 1422.34,894.441 1429.48,895.658 1436.61,896.854 1443.75,898.11 1450.89,899.356 1458.02,900.585 1465.16,901.779 1472.3,902.975 1479.43,904.186 1486.57,905.348 1493.71,906.551 1500.84,907.738 1507.98,908.919 1515.12,910.122 1522.25,911.327 1529.39,912.573 1536.53,913.909 1543.66,915.338 1550.8,916.3 1557.94,917.172 1565.07,918.019 1572.21,918.302 1579.35,918.732 1586.48,919.184 1593.62,919.809 1600.76,920.181 1607.89,920.779 1615.03,921.386 1622.17,921.813 1629.3,922.242 1636.44,922.842 1643.58,922.983 1650.71,923.413 1657.85,923.835 1664.99,924.24 1672.12,924.538 1679.26,925.088 1686.4,925.409 1693.53,925.724 1700.67,926.016 1707.81,926.103 1714.94,926.558 1722.08,926.712 1729.22,927.005 1736.36,927.127 1743.49,927.528 1750.63,927.92 1757.77,928.206 1764.9,927.91 1772.04,928.097 1779.18,928.551 1786.31,928.759 1793.45,928.801 1800.59,929.072 1807.72,929.28 1814.86,929.265 1822,929.423 1829.13,929.306 1836.27,929.498 1843.41,929.784 1850.54,929.824 1857.68,929.998 1864.82,930.062 1871.95,930.227 1879.09,930.263 1886.23,930.381 1893.36,930.38 1900.5,930.36 1907.64,930.593 1914.77,930.478 1921.91,930.659 1929.05,930.762 1936.18,930.578 1943.32,930.756 1950.46,930.978 1957.59,930.985 1964.73,931.008 1971.87,930.911 1979,931.093 1986.14,931.012 1993.28,931.187 2000.41,931.138 2007.55,931.214 2014.69,931.219 2021.82,931.336 2028.96,931.296 2036.1,931.363 2043.24,931.431 2050.37,931.413 2057.51,931.568 2064.65,931.573 2071.78,931.434 2078.92,931.592 2086.06,931.573 2093.19,931.665 2100.33,931.699 2107.47,931.652 2114.6,931.558 2121.74,931.719 2128.88,931.773 2136.01,931.765 2143.15,931.765 2150.29,931.753 2157.42,931.762 2164.56,931.83 2171.7,931.841 2178.83,931.681 2185.97,931.886 2193.11,931.898 2200.24,931.832 2207.38,931.939 2214.52,931.89 2221.65,931.968 2228.79,931.923 2235.93,931.992 2243.06,931.955 2250.2,932.012 2257.34,931.885 2264.47,931.978 2271.61,932.031 2278.75,931.911 2285.88,932 2293.02,932.046 \"/>\n",
       "<polyline clip-path=\"url(#clip132)\" style=\"stroke:#ac8d18; stroke-linecap:round; stroke-linejoin:round; stroke-width:4; stroke-opacity:1; fill:none\" stroke-dasharray=\"16, 10\" points=\"301.869,854.556 309.006,854.723 316.143,854.724 323.279,854.724 330.416,854.453 337.553,854.448 344.69,854.405 351.826,854.201 358.963,854.201 366.1,854.202 373.237,853.779 380.373,853.467 387.51,853.001 394.647,852.43 401.784,852.43 408.92,852.429 416.057,851.457 423.194,847.592 430.331,845.59 437.467,845.361 444.604,845.444 451.741,846.652 458.878,846.532 466.014,848.486 473.151,851.155 480.288,853.538 487.425,855.607 494.561,857.468 501.698,859.596 508.835,861.826 515.972,864.093 523.108,866.384 530.245,868.729 537.382,870.959 544.519,873.459 551.655,875.901 558.792,878.075 565.929,880.157 573.066,882.282 580.202,884.256 587.339,886.195 594.476,888.216 601.613,890.093 608.749,891.976 615.886,893.695 623.023,895.352 630.16,896.912 637.296,898.445 644.433,900.127 651.57,901.727 658.707,903.03 665.843,904.506 672.98,906.01 680.117,907.375 687.254,908.932 694.39,910.409 701.527,911.871 708.664,913.233 715.8,914.76 722.937,916.12 730.074,917.515 737.211,918.865 744.347,920.119 751.484,921.534 758.621,922.843 765.758,924.071 772.894,925.343 780.031,926.71 787.168,927.946 794.305,929.247 801.441,930.559 808.578,931.917 815.715,933.271 822.852,934.65 829.988,935.946 837.125,937.229 844.262,938.333 851.399,939.539 858.535,940.709 865.672,942.096 872.809,943.156 879.946,944.417 887.082,945.873 894.219,947.216 901.356,948.512 908.493,949.934 915.629,951.197 922.766,952.39 929.903,953.695 937.04,954.808 944.176,956.042 951.313,957.28 958.45,958.325 965.587,959.446 972.723,960.63 979.86,961.833 986.997,963.029 994.134,964.184 1001.27,965.424 1008.41,966.461 1015.54,967.584 1022.68,968.58 1029.82,969.635 1036.95,970.696 1044.09,971.671 1051.23,972.648 1058.36,973.726 1065.5,974.841 1072.64,975.829 1079.77,976.96 1086.91,977.994 1094.05,978.89 1101.18,979.805 1108.32,980.707 1115.46,981.667 1122.6,982.622 1129.73,983.56 1136.87,984.442 1144.01,985.233 1151.14,986.082 1158.28,986.818 1165.42,987.483 1172.55,988.174 1179.69,988.816 1186.83,989.464 1193.96,990.052 1201.1,990.558 1208.24,990.994 1215.37,991.406 1222.51,991.759 1229.65,992.027 1236.78,992.246 1243.92,992.392 1251.06,992.477 1258.19,992.48 1265.33,992.407 1272.47,992.162 1279.6,991.707 1286.74,990.939 1293.88,989.743 1301.01,988.378 1308.15,986.719 1315.29,985.042 1322.42,983.456 1329.56,981.945 1336.7,980.46 1343.83,979.029 1350.97,977.6 1358.11,976.339 1365.24,975.147 1372.38,973.914 1379.52,972.638 1386.65,971.421 1393.79,970.18 1400.93,968.93 1408.06,967.73 1415.2,966.585 1422.34,965.413 1429.48,964.251 1436.61,963.102 1443.75,961.912 1450.89,960.729 1458.02,959.547 1465.16,958.395 1472.3,957.21 1479.43,955.996 1486.57,954.831 1493.71,953.635 1500.84,952.448 1507.98,951.271 1515.12,950.061 1522.25,948.826 1529.39,947.716 1536.53,946.7 1543.66,945.848 1550.8,945.168 1557.94,944.607 1565.07,944.013 1572.21,943.889 1579.35,943.386 1586.48,942.898 1593.62,942.34 1600.76,942.009 1607.89,941.583 1615.03,941.193 1622.17,940.863 1629.3,940.56 1636.44,940.172 1643.58,939.88 1650.71,939.553 1657.85,939.267 1664.99,938.911 1672.12,938.429 1679.26,938.036 1686.4,937.907 1693.53,937.622 1700.67,937.288 1707.81,937.109 1714.94,936.771 1722.08,936.696 1729.22,936.571 1736.36,936.472 1743.49,936.199 1750.63,935.917 1757.77,935.626 1764.9,935.884 1772.04,935.738 1779.18,935.352 1786.31,935.159 1793.45,935.152 1800.59,934.931 1807.72,934.769 1814.86,934.767 1822,934.691 1829.13,934.771 1836.27,934.632 1843.41,934.387 1850.54,934.403 1857.68,934.233 1864.82,934.196 1871.95,934.062 1879.09,934.029 1886.23,933.903 1893.36,933.933 1900.5,933.963 1907.64,933.77 1914.77,933.859 1921.91,933.677 1929.05,933.576 1936.18,933.747 1943.32,933.59 1950.46,933.361 1957.59,933.362 1964.73,933.322 1971.87,933.394 1979,933.24 1986.14,933.305 1993.28,933.142 2000.41,933.203 2007.55,933.164 2014.69,933.132 2021.82,933.021 2028.96,933.067 2036.1,933.017 2043.24,932.974 2050.37,932.991 2057.51,932.829 2064.65,932.823 2071.78,932.953 2078.92,932.798 2086.06,932.815 2093.19,932.727 2100.33,932.697 2107.47,932.739 2114.6,932.828 2121.74,932.67 2128.88,932.621 2136.01,932.625 2143.15,932.623 2150.29,932.634 2157.42,932.618 2164.56,932.567 2171.7,932.559 2178.83,932.706 2185.97,932.509 2193.11,932.509 2200.24,932.573 2207.38,932.47 2214.52,932.516 2221.65,932.443 2228.79,932.489 2235.93,932.421 2243.06,932.464 2250.2,932.406 2257.34,932.528 2264.47,932.439 2271.61,932.388 2278.75,932.496 2285.88,932.41 2293.02,932.371 \"/>\n",
       "<polyline clip-path=\"url(#clip132)\" style=\"stroke:#00a9ad; stroke-linecap:round; stroke-linejoin:round; stroke-width:4; stroke-opacity:1; fill:none\" stroke-dasharray=\"16, 10\" points=\"301.869,1126.36 309.006,1143.2 316.143,1162.25 323.279,1181.29 330.416,1195.97 337.553,1214.93 344.69,1233.34 351.826,1249.52 358.963,1268.56 366.1,1287.61 373.237,1300.69 380.373,1316.02 387.51,1329.68 394.647,1342.16 401.784,1361.2 408.92,1380.25 416.057,1386.4 423.194,1359.05 430.331,1343.8 437.467,1325.46 444.604,1304.06 451.741,1281.3 458.878,1262.1 466.014,1242.42 473.151,1226.43 480.288,1209.85 487.425,1197.9 494.561,1188.79 501.698,1176.03 508.835,1163.86 515.972,1153.24 523.108,1142.32 530.245,1131.68 537.382,1122.49 544.519,1110.28 551.655,1098.26 558.792,1089.31 565.929,1081.5 573.066,1073.24 580.202,1066.52 587.339,1060.1 594.476,1052.27 601.613,1046.47 608.749,1040.42 615.886,1035.09 623.023,1030.8 630.16,1027.71 637.296,1024.58 644.433,1018.9 651.57,1014.26 658.707,1013.97 665.843,1011.02 672.98,1007.29 680.117,1004.13 687.254,997.503 694.39,993.141 701.527,989.272 708.664,987.141 715.8,981.962 722.937,979.037 730.074,975.893 737.211,973.734 744.347,972.725 751.484,969.348 758.621,966.99 765.758,966.255 772.894,964.707 780.031,962.2 787.168,961.896 794.305,960.517 801.441,959.109 808.578,957.262 815.715,956.239 822.852,954.728 829.988,954.092 837.125,953.497 844.262,955.09 851.399,954.704 858.535,955.207 865.672,952.435 872.809,954.635 879.946,954.3 887.082,951.624 894.219,951.205 901.356,951.054 908.493,949.121 915.629,949.363 922.766,950.472 929.903,949.236 937.04,950.863 944.176,950.289 951.313,949.195 958.45,951.246 965.587,952.113 972.723,951.398 979.86,950.655 986.997,949.504 994.134,948.935 1001.27,946.6 1008.41,947.361 1015.54,946.317 1022.68,947.541 1029.82,947.779 1036.95,947.552 1044.09,948.859 1051.23,949.835 1058.36,949.027 1065.5,947.457 1072.64,947.311 1079.77,944.348 1086.91,942.535 1094.05,943.467 1101.18,943.794 1108.32,944.555 1115.46,944.447 1122.6,944.583 1129.73,944.267 1136.87,944.097 1144.01,944.994 1151.14,943.363 1158.28,944.211 1165.42,946.392 1172.55,947.103 1179.69,947.793 1186.83,948.154 1193.96,948.371 1201.1,948.897 1208.24,949.646 1215.37,949.676 1222.51,948.904 1229.65,949.008 1236.78,948.964 1243.92,949.279 1251.06,949.083 1258.19,948.35 1265.33,946.681 1272.47,945.792 1279.6,945.122 1286.74,945.829 1293.88,945.737 1301.01,946.251 1308.15,946.038 1315.29,945.751 1322.42,946.361 1329.56,946.431 1336.7,946.044 1343.83,945.196 1350.97,943.768 1358.11,943.257 1365.24,943.266 1372.38,942.608 1379.52,941.701 1386.65,941.821 1393.79,941.363 1400.93,940.62 1408.06,940.254 1415.2,940.19 1422.34,939.734 1429.48,939.545 1436.61,939.613 1443.75,938.884 1450.89,938.287 1458.02,937.851 1465.16,937.929 1472.3,937.735 1479.43,937.187 1486.57,937.423 1493.71,937.092 1500.84,936.961 1507.98,936.957 1515.12,936.508 1522.25,935.824 1529.39,935.787 1536.53,935.65 1543.66,935.702 1550.8,935.613 1557.94,935.572 1565.07,935.097 1572.21,935.056 1579.35,934.979 1586.48,934.803 1593.62,934.737 1600.76,934.609 1607.89,934.523 1615.03,934.553 1622.17,934.533 1629.3,934.295 1636.44,934.008 1643.58,933.986 1650.71,934.042 1657.85,934.071 1664.99,934.04 1672.12,934.035 1679.26,933.947 1686.4,933.921 1693.53,933.662 1700.67,933.616 1707.81,933.549 1714.94,933.418 1722.08,933.355 1729.22,933.346 1736.36,933.311 1743.49,933.237 1750.63,933.269 1757.77,933.32 1764.9,933.371 1772.04,933.308 1779.18,933.225 1786.31,933.186 1793.45,933.173 1800.59,933.102 1807.72,933.027 1814.86,932.945 1822,932.871 1829.13,932.881 1836.27,932.773 1843.41,932.748 1850.54,932.759 1857.68,932.741 1864.82,932.715 1871.95,932.71 1879.09,932.699 1886.23,932.666 1893.36,932.661 1900.5,932.646 1907.64,932.618 1914.77,932.649 1921.91,932.611 1929.05,932.583 1936.18,932.619 1943.32,932.559 1950.46,932.502 1957.59,932.528 1964.73,932.519 1971.87,932.535 1979,932.496 1986.14,932.487 1993.28,932.443 2000.41,932.435 2007.55,932.428 2014.69,932.41 2021.82,932.376 2028.96,932.389 2036.1,932.369 2043.24,932.357 2050.37,932.369 2057.51,932.357 2064.65,932.355 2071.78,932.371 2078.92,932.342 2086.06,932.354 2093.19,932.339 2100.33,932.337 2107.47,932.345 2114.6,932.361 2121.74,932.323 2128.88,932.317 2136.01,932.315 2143.15,932.315 2150.29,932.306 2157.42,932.298 2164.56,932.293 2171.7,932.284 2178.83,932.297 2185.97,932.269 2193.11,932.267 2200.24,932.274 2207.38,932.259 2214.52,932.267 2221.65,932.254 2228.79,932.253 2235.93,932.245 2243.06,932.245 2250.2,932.241 2257.34,932.249 2264.47,932.246 2271.61,932.239 2278.75,932.252 2285.88,932.243 2293.02,932.238 \"/>\n",
       "<path clip-path=\"url(#clip130)\" d=\"M2028.05 529.676 L2282.4 529.676 L2282.4 166.796 L2028.05 166.796  Z\" fill=\"#ffffff\" fill-rule=\"evenodd\" fill-opacity=\"1\"/>\n",
       "<polyline clip-path=\"url(#clip130)\" style=\"stroke:#000000; stroke-linecap:round; stroke-linejoin:round; stroke-width:4; stroke-opacity:1; fill:none\" points=\"2028.05,529.676 2282.4,529.676 2282.4,166.796 2028.05,166.796 2028.05,529.676 \"/>\n",
       "<polyline clip-path=\"url(#clip130)\" style=\"stroke:#009af9; stroke-linecap:round; stroke-linejoin:round; stroke-width:4; stroke-opacity:1; fill:none\" points=\"2051.5,218.636 2192.21,218.636 \"/>\n",
       "<path clip-path=\"url(#clip130)\" d=\"M2240.32 209.99 L2230.94 222.606 L2240.8 235.916 L2235.78 235.916 L2228.23 225.731 L2220.69 235.916 L2215.66 235.916 L2225.73 222.351 L2216.52 209.99 L2221.54 209.99 L2228.42 219.226 L2235.29 209.99 L2240.32 209.99 Z\" fill=\"#000000\" fill-rule=\"evenodd\" fill-opacity=\"1\" /><path clip-path=\"url(#clip130)\" d=\"M2245.96 233.369 L2250.69 233.369 L2250.69 219.226 L2245.52 220.175 L2245.52 217.49 L2250.85 216.587 L2254.02 216.587 L2254.02 233.369 L2258.77 233.369 L2258.77 235.916 L2245.96 235.916 L2245.96 233.369 Z\" fill=\"#000000\" fill-rule=\"evenodd\" fill-opacity=\"1\" /><polyline clip-path=\"url(#clip130)\" style=\"stroke:#e26f46; stroke-linecap:round; stroke-linejoin:round; stroke-width:4; stroke-opacity:1; fill:none\" points=\"2051.5,270.476 2192.21,270.476 \"/>\n",
       "<path clip-path=\"url(#clip130)\" d=\"M2240.32 261.83 L2230.94 274.446 L2240.8 287.756 L2235.78 287.756 L2228.23 277.571 L2220.69 287.756 L2215.66 287.756 L2225.73 274.191 L2216.52 261.83 L2221.54 261.83 L2228.42 271.066 L2235.29 261.83 L2240.32 261.83 Z\" fill=\"#000000\" fill-rule=\"evenodd\" fill-opacity=\"1\" /><path clip-path=\"url(#clip130)\" d=\"M2248.56 285.117 L2258.37 285.117 L2258.37 287.756 L2244.53 287.756 L2244.53 285.209 Q2245.32 284.492 2246.77 283.196 Q2254.74 276.135 2254.74 273.959 Q2254.74 272.432 2253.53 271.506 Q2252.33 270.557 2250.36 270.557 Q2249.16 270.557 2247.75 270.973 Q2246.33 271.367 2244.67 272.177 L2244.67 269.33 Q2246.45 268.682 2247.98 268.358 Q2249.53 268.034 2250.85 268.034 Q2254.21 268.034 2256.22 269.561 Q2258.23 271.089 2258.23 273.589 Q2258.23 276.807 2250.57 283.381 Q2249.27 284.492 2248.56 285.117 Z\" fill=\"#000000\" fill-rule=\"evenodd\" fill-opacity=\"1\" /><polyline clip-path=\"url(#clip130)\" style=\"stroke:#3da44d; stroke-linecap:round; stroke-linejoin:round; stroke-width:4; stroke-opacity:1; fill:none\" points=\"2051.5,322.316 2192.21,322.316 \"/>\n",
       "<path clip-path=\"url(#clip130)\" d=\"M2240.32 313.67 L2230.94 326.286 L2240.8 339.596 L2235.78 339.596 L2228.23 329.411 L2220.69 339.596 L2215.66 339.596 L2225.73 326.031 L2216.52 313.67 L2221.54 313.67 L2228.42 322.906 L2235.29 313.67 L2240.32 313.67 Z\" fill=\"#000000\" fill-rule=\"evenodd\" fill-opacity=\"1\" /><path clip-path=\"url(#clip130)\" d=\"M2254.48 329.133 Q2256.61 329.549 2257.77 330.823 Q2258.95 332.073 2258.95 333.971 Q2258.95 336.841 2256.75 338.392 Q2254.55 339.943 2250.46 339.943 Q2249.14 339.943 2247.68 339.688 Q2246.24 339.457 2244.62 338.994 L2244.62 336.193 Q2245.83 336.818 2247.19 337.119 Q2248.58 337.42 2250.13 337.42 Q2252.65 337.42 2254.04 336.517 Q2255.43 335.591 2255.43 333.971 Q2255.43 332.258 2254.14 331.378 Q2252.86 330.499 2250.36 330.499 L2248.37 330.499 L2248.37 327.999 L2250.55 327.999 Q2252.72 327.999 2253.83 327.281 Q2254.97 326.54 2254.97 325.151 Q2254.97 323.809 2253.81 323.114 Q2252.65 322.397 2250.46 322.397 Q2249.53 322.397 2248.35 322.605 Q2247.17 322.813 2245.29 323.346 L2245.29 320.684 Q2246.98 320.29 2248.46 320.082 Q2249.95 319.874 2251.22 319.874 Q2254.55 319.874 2256.5 321.239 Q2258.46 322.605 2258.46 324.897 Q2258.46 326.494 2257.42 327.605 Q2256.38 328.716 2254.48 329.133 Z\" fill=\"#000000\" fill-rule=\"evenodd\" fill-opacity=\"1\" /><polyline clip-path=\"url(#clip130)\" style=\"stroke:#c271d2; stroke-linecap:round; stroke-linejoin:round; stroke-width:4; stroke-opacity:1; fill:none\" stroke-dasharray=\"16, 10\" points=\"2051.5,374.156 2192.21,374.156 \"/>\n",
       "<path clip-path=\"url(#clip130)\" d=\"M2240.32 365.51 L2230.94 378.126 L2240.8 391.436 L2235.78 391.436 L2228.23 381.251 L2220.69 391.436 L2215.66 391.436 L2225.73 377.871 L2216.52 365.51 L2221.54 365.51 L2228.42 374.746 L2235.29 365.51 L2240.32 365.51 Z\" fill=\"#000000\" fill-rule=\"evenodd\" fill-opacity=\"1\" /><path clip-path=\"url(#clip130)\" d=\"M2228.33 355.417 L2232.58 355.417 L2232.58 360.811 L2228.33 360.811 L2228.33 355.417 M2230.5 364.885 L2230.5 364.885 Z\" fill=\"#000000\" fill-rule=\"evenodd\" fill-opacity=\"1\" /><path clip-path=\"url(#clip130)\" d=\"M2245.96 388.889 L2250.69 388.889 L2250.69 374.746 L2245.52 375.695 L2245.52 373.01 L2250.85 372.107 L2254.02 372.107 L2254.02 388.889 L2258.77 388.889 L2258.77 391.436 L2245.96 391.436 L2245.96 388.889 Z\" fill=\"#000000\" fill-rule=\"evenodd\" fill-opacity=\"1\" /><polyline clip-path=\"url(#clip130)\" style=\"stroke:#ac8d18; stroke-linecap:round; stroke-linejoin:round; stroke-width:4; stroke-opacity:1; fill:none\" stroke-dasharray=\"16, 10\" points=\"2051.5,425.996 2192.21,425.996 \"/>\n",
       "<path clip-path=\"url(#clip130)\" d=\"M2240.32 417.35 L2230.94 429.966 L2240.8 443.276 L2235.78 443.276 L2228.23 433.091 L2220.69 443.276 L2215.66 443.276 L2225.73 429.711 L2216.52 417.35 L2221.54 417.35 L2228.42 426.586 L2235.29 417.35 L2240.32 417.35 Z\" fill=\"#000000\" fill-rule=\"evenodd\" fill-opacity=\"1\" /><path clip-path=\"url(#clip130)\" d=\"M2228.33 407.257 L2232.58 407.257 L2232.58 412.651 L2228.33 412.651 L2228.33 407.257 M2230.5 416.725 L2230.5 416.725 Z\" fill=\"#000000\" fill-rule=\"evenodd\" fill-opacity=\"1\" /><path clip-path=\"url(#clip130)\" d=\"M2248.56 440.637 L2258.37 440.637 L2258.37 443.276 L2244.53 443.276 L2244.53 440.729 Q2245.32 440.012 2246.77 438.716 Q2254.74 431.655 2254.74 429.479 Q2254.74 427.952 2253.53 427.026 Q2252.33 426.077 2250.36 426.077 Q2249.16 426.077 2247.75 426.493 Q2246.33 426.887 2244.67 427.697 L2244.67 424.85 Q2246.45 424.202 2247.98 423.878 Q2249.53 423.554 2250.85 423.554 Q2254.21 423.554 2256.22 425.081 Q2258.23 426.609 2258.23 429.109 Q2258.23 432.327 2250.57 438.901 Q2249.27 440.012 2248.56 440.637 Z\" fill=\"#000000\" fill-rule=\"evenodd\" fill-opacity=\"1\" /><polyline clip-path=\"url(#clip130)\" style=\"stroke:#00a9ad; stroke-linecap:round; stroke-linejoin:round; stroke-width:4; stroke-opacity:1; fill:none\" stroke-dasharray=\"16, 10\" points=\"2051.5,477.836 2192.21,477.836 \"/>\n",
       "<path clip-path=\"url(#clip130)\" d=\"M2240.32 469.19 L2230.94 481.806 L2240.8 495.116 L2235.78 495.116 L2228.23 484.931 L2220.69 495.116 L2215.66 495.116 L2225.73 481.551 L2216.52 469.19 L2221.54 469.19 L2228.42 478.426 L2235.29 469.19 L2240.32 469.19 Z\" fill=\"#000000\" fill-rule=\"evenodd\" fill-opacity=\"1\" /><path clip-path=\"url(#clip130)\" d=\"M2228.33 459.097 L2232.58 459.097 L2232.58 464.491 L2228.33 464.491 L2228.33 459.097 M2230.5 468.565 L2230.5 468.565 Z\" fill=\"#000000\" fill-rule=\"evenodd\" fill-opacity=\"1\" /><path clip-path=\"url(#clip130)\" d=\"M2254.48 484.653 Q2256.61 485.069 2257.77 486.343 Q2258.95 487.593 2258.95 489.491 Q2258.95 492.361 2256.75 493.912 Q2254.55 495.463 2250.46 495.463 Q2249.14 495.463 2247.68 495.208 Q2246.24 494.977 2244.62 494.514 L2244.62 491.713 Q2245.83 492.338 2247.19 492.639 Q2248.58 492.94 2250.13 492.94 Q2252.65 492.94 2254.04 492.037 Q2255.43 491.111 2255.43 489.491 Q2255.43 487.778 2254.14 486.898 Q2252.86 486.019 2250.36 486.019 L2248.37 486.019 L2248.37 483.519 L2250.55 483.519 Q2252.72 483.519 2253.83 482.801 Q2254.97 482.06 2254.97 480.671 Q2254.97 479.329 2253.81 478.634 Q2252.65 477.917 2250.46 477.917 Q2249.53 477.917 2248.35 478.125 Q2247.17 478.333 2245.29 478.866 L2245.29 476.204 Q2246.98 475.81 2248.46 475.602 Q2249.95 475.394 2251.22 475.394 Q2254.55 475.394 2256.5 476.759 Q2258.46 478.125 2258.46 480.417 Q2258.46 482.014 2257.42 483.125 Q2256.38 484.236 2254.48 484.653 Z\" fill=\"#000000\" fill-rule=\"evenodd\" fill-opacity=\"1\" /></svg>\n"
      ]
     },
     "metadata": {},
     "output_type": "display_data"
    }
   ],
   "source": [
    "Xsim_m = mat_from_vec(Xhist[1:end-Nh])\n",
    "Usim_m = mat_from_vec(Uhist[1:end-Nh-1])\n",
    "e_sim_m = mat_from_vec(Xref[1:end-Nh]-Xhist[1:end-Nh])\n",
    "@show traj_error = maximum(norm.(e_sim_m, Inf))\n",
    "display(plot(t_vec[1:end-Nh],e_sim_m',label = [\"ex₁\" \"ex₂\" \"ex₃\" \"eẋ₁\" \"eẋ₂\" \"eẋ₃\"], \n",
    "             linestyle=[:solid :solid :solid :dash :dash :dash], \n",
    "             title = \"State Error History\",\n",
    "             xlabel = \"time (s)\", ylabel = \"x\"))\n",
    "display(plot(t_vec[1:end-Nh-2],Usim_m',label = [\"u₁\" \"u₂\" \"u₃\"],\n",
    "             title = \"Input History\",\n",
    "             xlabel = \"time (s)\", ylabel = \"u\"))\n",
    "display(plot(t_vec[1:end-Nh],Xsim_m',label = [\"x₁\" \"x₂\" \"x₃\" \"ẋ₁\" \"ẋ₂\" \"ẋ₃\"], \n",
    "             linestyle=[:solid :solid :solid :dash :dash :dash],\n",
    "             title = \"State History\",\n",
    "             xlabel = \"time (s)\", ylabel = \"x\"))"
   ]
  }
 ],
 "metadata": {
  "kernelspec": {
   "display_name": "Julia 1.6.7",
   "language": "julia",
   "name": "julia-1.6"
  },
  "language_info": {
   "file_extension": ".jl",
   "mimetype": "application/julia",
   "name": "julia",
   "version": "1.6.7"
  }
 },
 "nbformat": 4,
 "nbformat_minor": 5
}
