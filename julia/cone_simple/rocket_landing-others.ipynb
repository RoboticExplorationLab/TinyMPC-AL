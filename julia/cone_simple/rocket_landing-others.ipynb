{
 "cells": [
  {
   "cell_type": "code",
   "execution_count": 599,
   "id": "6099cb4b-a2da-4b1b-ba0f-856484092fc4",
   "metadata": {},
   "outputs": [
    {
     "name": "stderr",
     "output_type": "stream",
     "text": [
      "\u001b[32m\u001b[1m  Activating\u001b[22m\u001b[39m environment at `~/SSD/Code/TinyMPC/julia/cone_simple/Project.toml`\n"
     ]
    }
   ],
   "source": [
    "using Pkg\n",
    "Pkg.activate(@__DIR__)\n",
    "Pkg.instantiate()\n",
    "\n",
    "using LinearAlgebra\n",
    "using Printf\n",
    "import ForwardDiff as FD\n",
    "using JuMP\n",
    "using COSMO\n",
    "using Random; "
   ]
  },
  {
   "cell_type": "code",
   "execution_count": 674,
   "id": "6179ca57-b5ff-4274-8391-85d5e728fc16",
   "metadata": {
    "tags": []
   },
   "outputs": [
    {
     "data": {
      "text/plain": [
       "mpc (generic function with 1 method)"
      ]
     },
     "execution_count": 674,
     "metadata": {},
     "output_type": "execute_result"
    }
   ],
   "source": [
    "# -------------------THIS IS ALL ALTRO-------------------------------\n",
    "# This enables goal equality constraints, state and input ineq constraints.\n",
    "\n",
    "function stage_cost(p::NamedTuple,x,u,k)\n",
    "    dx = x - p.Xref[k]\n",
    "    du = u - p.Uref[k]\n",
    "    return 0.5*dx'*p.Q*dx + 0.5*du'*p.R*du\n",
    "end\n",
    "function term_cost(p::NamedTuple,x)\n",
    "    dx = x - p.Xref[p.N]\n",
    "    return 0.5*dx'*p.Qf*dx\n",
    "end\n",
    "function stage_cost_expansion(p::NamedTuple,k)\n",
    "    dx = - p.Xref[k]\n",
    "    du = - p.Uref[k]\n",
    "    return p.Q, p.Q*dx, p.R, p.R*du  # Hessian and gradient\n",
    "end\n",
    "function term_cost_expansion(p::NamedTuple)\n",
    "    dx = - p.Xref[p.N]\n",
    "    return p.Qf, p.Qf*dx\n",
    "end\n",
    "function conic_cost_expansion(p::NamedTuple, u, λc, ρ, k)\n",
    "    λhat = λc # already updated\n",
    "    ∇c = cone_u_jac(p, u)\n",
    "    G = ∇c'*∇projection(λhat)*projection(λhat)\n",
    "    # H = ∇c'*∇projection(λhat)'*∇projection(λhat)*∇c/ρ\n",
    "    H = ∇c'*(∇projection(λhat)'*∇projection(λhat) + ∇²projection(λhat, projection(λhat)))*∇c/ρ\n",
    "    return (G - H*u), H\n",
    "end\n",
    "function backward_pass!(params,X,U,P,p,d,K,reg,μ,μx,ρ,λ,λc)\n",
    "    \"\"\"iLQR backward pass with AL. This !function update its parameters\n",
    "    \"\"\"\n",
    "    N = params.N\n",
    "    ΔJ = 0.0    # expected cost reduction\n",
    "\n",
    "    # terminal cost expansion\n",
    "    P[N], p[N] = term_cost_expansion(params) \n",
    "    \n",
    "    if (params.ncx > 0)\n",
    "        # # add AL terms for the state constraint at the final time step\n",
    "        hxv = ineq_con_x(params,X[N])  # h(x) violation  \n",
    "        mask = eval_mask(μx[N],hxv)\n",
    "        ∇hx = ineq_con_x_jac(params,X[N])\n",
    "        # add these into the cost-to-go p and P\n",
    "        p[N]  += ∇hx'*(μx[N] - ρ*(mask * [params.x_max;-params.x_min]))  # multiplier term (1st)\n",
    "        P[N]  += ρ*∇hx'*mask*∇hx                # penalty term (2nd)\n",
    "    end\n",
    "    \n",
    "    if (params.ncg > 0)\n",
    "        # add AL terms for goal constraint \n",
    "        ∇hx = diagm(ones(params.nx))\n",
    "        # add these into the CTG p and P (equality active)\n",
    "        p[N]  += ∇hx'*(λ - ρ*params.Xref[N])   \n",
    "        P[N]  += ρ*∇hx'∇hx\n",
    "    end\n",
    "    \n",
    "    # iterate from N-1 to 1 backwards\n",
    "    for k = (N-1):(-1):1\n",
    "        # dynamics jacobians (linearization about previous iterate)\n",
    "        A = FD.jacobian(_x -> discrete_dynamics(params,_x,U[k],k),X[k])\n",
    "        B = FD.jacobian(_u -> discrete_dynamics(params,X[k],_u,k),U[k])\n",
    "\n",
    "        Sxx,Sx,Suu,Su = stage_cost_expansion(params,k)\n",
    "        \n",
    "        # one-step cost expansion: Q, Q*dx, R, R*du\n",
    "        Sx += A' * (P[k+1]*f + p[k+1]) \n",
    "        Su += B' * (P[k+1]*f + p[k+1]) \n",
    "        Sxx += A'*(P[k+1])*A\n",
    "        Suu += B'*(P[k+1] + reg*I)*B                                     \n",
    "        Sux = B'*(P[k+1])*A  \n",
    "        if (params.ncu > 0)\n",
    "            # control constraints\n",
    "            huv = ineq_con_u(params,U[k])  # calculate h(u) constraint\n",
    "            mask = eval_mask(μ[k],huv)  # choose active\n",
    "            ∇hu = ineq_con_u_jac(params,U[k])\n",
    "            Su  += ∇hu'*(μ[k] - ρ*(mask * [params.u_max;-params.u_min])) # add to cost\n",
    "            Suu += ρ*∇hu'*mask*∇hu\n",
    "        end\n",
    "        if (params.ncx > 0)\n",
    "            # state constraints\n",
    "            hxv = ineq_con_x(params,X[k])\n",
    "            mask = eval_mask(μx[k],hxv)\n",
    "            ∇hx = ineq_con_x_jac(params,X[k])\n",
    "            Sx  += ∇hx'*(μx[k] - ρ*(mask * [params.x_max;-params.x_min]))\n",
    "            Sxx += ρ*∇hx'*mask*∇hx\n",
    "        end\n",
    "        if (params.ncu_cone > 0)\n",
    "            # conic constraints\n",
    "            Qu, Quu = conic_cost_expansion(params, U[k], λc[k], ρ/cone_scale, k)\n",
    "            # display(Quu)\n",
    "            Su += Qu\n",
    "            Suu += Quu\n",
    "        end\n",
    "        \n",
    "        # Calculate Gains\n",
    "        for i = 1:10\n",
    "            if isposdef(Suu) == 0\n",
    "                Suu += reg*I\n",
    "            end\n",
    "        end\n",
    "        F = cholesky(Symmetric(Suu))\n",
    "        d[k] = F\\Su\n",
    "        K[k] = F\\Sux\n",
    "\n",
    "        # Cost-to-go Recurrence (PSD stabilizing version, last term)\n",
    "        P[k] = Sxx + K[k]'*Suu*K[k] - 2*K[k]'*Sux\n",
    "        p[k] = Sx + K[k]'*Suu*d[k] - K[k]'*Su - Sux'*d[k]\n",
    "        ΔJ += Su'*d[k]\n",
    "    end\n",
    "\n",
    "    return ΔJ  # but also change params\n",
    "end\n",
    "function forward_pass!(params,X,U,K,d,ΔJ,Xn,Un,μ,μx,ρ,λ; \n",
    "                        max_linesearch_iters = 20)\n",
    "    \"\"\"iLQR forward pass and line-search\n",
    "    This !function update its parameters\n",
    "    \"\"\"\n",
    "    N = params.N\n",
    "        # Forward Rollout\n",
    "        for k = 1:(N-1)\n",
    "            Un[k] = - d[k] - K[k]*Xn[k] \n",
    "            Xn[k+1] = discrete_dynamics(params,Xn[k],Un[k],k)\n",
    "        end\n",
    "    X .= Xn\n",
    "    U .= Un\n",
    "    return 0, 0\n",
    "end\n",
    "function eval_mask(μv,huv)  \n",
    "    # Extract active inequality constraints\n",
    "    # active set mask\n",
    "    mask = Diagonal(zeros(length(huv)))\n",
    "    for i = 1:length(huv)\n",
    "        mask[i,i] = (μv[i] > 0 || huv[i] > 0)\n",
    "    end\n",
    "    mask\n",
    "end\n",
    "function mpc(params,X,U,P,p,K,d,Xn,Un;atol=1e-3,max_iters = 250,verbose = true,ρ=1,ϕ=10)\n",
    "\n",
    "    # first check the sizes of everything\n",
    "    # @assert length(X) == params.N\n",
    "    # @assert length(U) == params.N-1\n",
    "    # @assert length(X[1]) == params.nx\n",
    "    # @assert length(U[1]) == params.nu\n",
    "\n",
    "    # initial rollout\n",
    "    N = params.N\n",
    "    for i = 1:N-1\n",
    "        X[i+1] = discrete_dynamics(params,X[i],U[i],i)\n",
    "    end\n",
    "\n",
    "    reg_min = 1e-8\n",
    "    reg = reg_min\n",
    "\n",
    "    μ = [zeros(params.ncu) for i = 1:N-1]   # input constraints\n",
    "\n",
    "    μx = [zeros(params.ncx) for i = 1:N]    # state constraints\n",
    "\n",
    "    λ = zeros(params.nx)    # goal constraint\n",
    "\n",
    "    λc = [zeros(params.ncu_cone) for i = 1:N-1]   # goal constraint\n",
    "    \n",
    "    # Inner loop to solve unconstrained problem (Riccati)\n",
    "    for iter = 1:max_iters\n",
    "        \n",
    "        J = 0.0\n",
    "        ΔJ = 0.0\n",
    "        α = 1.0\n",
    "        for i = 1:1\n",
    "            ΔJ = backward_pass!(params,X,U,P,p,d,K,reg,μ,μx,ρ,λ,λc)\n",
    "            J, α = forward_pass!(params,X,U,K,d,ΔJ,Xn,Un,μ,μx,ρ,λ)\n",
    "        end\n",
    "\n",
    "        if verbose\n",
    "            if rem(iter-1,10)==0\n",
    "                @printf \"iter     J           ΔJ        |d|         α        reg         ρ\\n\"\n",
    "                @printf \"---------------------------------------------------------------------\\n\"\n",
    "            end\n",
    "            @printf(\"%3d   %10.3e  %9.2e  %9.2e  %6.4f   %9.2e   %9.2e\\n\",\n",
    "              iter, J, ΔJ, 0, α, reg, ρ)\n",
    "        end\n",
    "        # update multipliers and check constraint violation, max of all\n",
    "        convio = 0  \n",
    "        \n",
    "        if (params.ncu > 0)\n",
    "            # control constraints (inequality)\n",
    "            for k = 1:N-1\n",
    "                huv = ineq_con_u(params,U[k])\n",
    "                mask = eval_mask(μ[k],huv)\n",
    "                # update dual\n",
    "                convio = max(convio,norm(huv + abs.(huv),Inf))\n",
    "                μ[k] = max.(0,μ[k] - ρ*(mask * [params.u_max;-params.u_min]))\n",
    "            end\n",
    "        end\n",
    "        if (params.ncx > 0)\n",
    "            # state constraints (inequality)\n",
    "            for k = 1:N\n",
    "                hxv = ineq_con_x(params,X[k])\n",
    "                mask = eval_mask(μx[k],hxv)\n",
    "                # update dual\n",
    "                convio = max(convio,norm(hxv + abs.(hxv),Inf))\n",
    "                μx[k] = max.(0,μx[k] - ρ*(mask * [params.x_max;-params.x_min]))                \n",
    "            end\n",
    "        end\n",
    "        if (params.ncu_cone > 0)\n",
    "            # conic constraints \n",
    "            if verbose\n",
    "                print(\"update cone\\n\")\n",
    "            end            \n",
    "            for k = 1:N-1\n",
    "                # update dual\n",
    "                Uc = cone_u(params, U[k])\n",
    "                huc = norm(Uc[1:2]) - Uc[3]\n",
    "                convio = max(convio, norm(huc + abs.(huc),Inf))\n",
    "                λc[k] = projection(λc[k] + Uc/cone_scale/ρ)\n",
    "                # display(λc[k])\n",
    "            end\n",
    "        end\n",
    "        if (params.ncg > 0)\n",
    "            # goal constraint (equality)\n",
    "            hxv = X[N] - params.Xref[N]\n",
    "            λ .-= ρ*params.Xref[N]\n",
    "            convio = max(convio, norm(hxv,Inf))\n",
    "        end\n",
    "        \n",
    "        ρ *= ϕ  # update penalty\n",
    "        \n",
    "        if verbose\n",
    "            @show convio\n",
    "        end\n",
    "        if convio < atol  # if terminal condition with contraint violation\n",
    "            # print(\"Our solver says SUCCESS\\n\") # @info \"success!\"\n",
    "            return U[1]\n",
    "        end\n",
    "        if ρ > 1e5\n",
    "            print(\"Our solver reachs MAX PENALTY\\n\")\n",
    "            return U[1]\n",
    "        end\n",
    "    end\n",
    "    print(\"Our solver says INFEASIBLE and MAX ITER\\n\")\n",
    "    return U[1]\n",
    "end\n",
    "#----------------------ALTRO DONE --------------------------"
   ]
  },
  {
   "cell_type": "code",
   "execution_count": 601,
   "id": "ff9a97a1-b963-4f01-9223-eee0c5682b7d",
   "metadata": {
    "tags": []
   },
   "outputs": [
    {
     "data": {
      "text/plain": [
       "∇²projection (generic function with 1 method)"
      ]
     },
     "execution_count": 601,
     "metadata": {},
     "output_type": "execute_result"
    }
   ],
   "source": [
    "# =============================\n",
    "# Example problem formulation and solve\n",
    "# =============================\n",
    "\n",
    "# ---------------------THIS IS WHAT YOU NEED TO INPUT--------\n",
    "A = [1.0 0.0 0.0 0.05 0.0 0.0; \n",
    "    0.0 1.0 0.0 0.0 0.05 0.0; \n",
    "    0.0 0.0 1.0 0.0 0.0 0.05; \n",
    "    0.0 0.0 0.0 1.0 0.0 0.0; \n",
    "    0.0 0.0 0.0 0.0 1.0 0.0; \n",
    "    0.0 0.0 0.0 0.0 0.0 1.0]\n",
    "B = [0.000125 0.0 0.0; \n",
    "    0.0 0.000125 0.0;\n",
    "    0.0 0.0 0.000125; \n",
    "    0.005 0.0 0.0; \n",
    "    0.0 0.005 0.0; \n",
    "    0.0 0.0 0.005]\n",
    "f = [0.0, 0.0, -0.0122625, 0.0, 0.0, -0.4905]\n",
    "function discrete_dynamics(p::NamedTuple,x,u,k)\n",
    "    A = [1.0 0.0 0.0 0.05 0.0 0.0; \n",
    "        0.0 1.0 0.0 0.0 0.05 0.0; \n",
    "        0.0 0.0 1.0 0.0 0.0 0.05; \n",
    "        0.0 0.0 0.0 1.0 0.0 0.0; \n",
    "        0.0 0.0 0.0 0.0 1.0 0.0; \n",
    "        0.0 0.0 0.0 0.0 0.0 1.0]\n",
    "    B = [0.000125 0.0 0.0; \n",
    "        0.0 0.000125 0.0;\n",
    "        0.0 0.0 0.000125; \n",
    "        0.005 0.0 0.0; \n",
    "        0.0 0.005 0.0; \n",
    "        0.0 0.0 0.005]\n",
    "    f = [0.0, 0.0, -0.0122625, 0.0, 0.0, -0.4905]\n",
    "    return A*x + B*u + f\n",
    "end\n",
    "function ineq_con_x(p,x)\n",
    "    [x-p.x_max;-x + p.x_min]\n",
    "end\n",
    "function ineq_con_u(p,u)\n",
    "    [u-p.u_max;-u + p.u_min]\n",
    "end\n",
    "function cone_u(p, u)\n",
    "    [p.A_cone*u;p.c_cone'*u]\n",
    "end\n",
    "function cone_u_jac(p, u)\n",
    "    J = zeros(p.nu, p.nu)\n",
    "    J[1:end-1,1:end] .= p.A_cone\n",
    "    J[end,1:end] .= p.c_cone\n",
    "    return J\n",
    "end\n",
    "function ineq_con_u_jac(params,u)\n",
    "    FD.jacobian(_u -> ineq_con_u(params,_u), u)\n",
    "end\n",
    "function ineq_con_x_jac(p,x)\n",
    "    FD.jacobian(_x -> ineq_con_x(p,_x),x)\n",
    "end\n",
    "function projection(x)\n",
    "    n = length(x)\n",
    "    s = x[end]\n",
    "    v = view(x,1:n-1)\n",
    "    a = norm(v)\n",
    "    if a <= -s  # below the cone\n",
    "        return zero(x)\n",
    "    elseif a <= s  # in the code\n",
    "        return x\n",
    "    elseif a >= abs(s)  # outside the cone\n",
    "        return 0.5 * (1 + s/a) * [v; a] \n",
    "    end\n",
    "end\n",
    "function ∇projection(x)\n",
    "    n = length(x)\n",
    "    J = zeros(eltype(x),n,n)\n",
    "    s = x[end]\n",
    "    v = view(x,1:n-1)\n",
    "    a = norm(v)\n",
    "    if a <= -s\n",
    "        return J  # zeros\n",
    "    elseif a <= s\n",
    "        J .= I(n)  \n",
    "        return J  # identity\n",
    "    elseif a >= abs(s)\n",
    "        c = 0.5 * (1 + s/a)\n",
    "\n",
    "        # dvdv ok!\n",
    "        for i = 1:n-1, j = 1:n-1\n",
    "            J[i,j] = -0.5*s/a^3 * v[i] * v[j]\n",
    "            if i == j\n",
    "                J[i,j] += c\n",
    "            end\n",
    "        end\n",
    "\n",
    "        # dvds ok!\n",
    "        for i = 1:n-1\n",
    "            J[i,n] = 0.5 * v[i] / a\n",
    "        end\n",
    "\n",
    "        # dsdv ok!\n",
    "        for i = 1:n-1\n",
    "            J[n,i] = ((-0.5*s/a^2) + c/a) * v[i]\n",
    "        end\n",
    "        J[n,n] = 0.5  # ok\n",
    "        return J\n",
    "    else\n",
    "        error(\"Invalid second-order cone projection.\")\n",
    "    end\n",
    "    return J\n",
    "end\n",
    "function ∇²projection(x, b)\n",
    "    n = length(x)\n",
    "    hess = zeros(eltype(x),n,n)\n",
    "    v = view(x, 1:n)\n",
    "    bv = view(b, 1:n)\n",
    "\n",
    "    n = length(x)-1\n",
    "    # @assert size(hess) == (n+1,n+1)\n",
    "    s = x[end]\n",
    "    bs = b[end]\n",
    "    a =  norm(v)\n",
    "    vbv = dot(v,bv)\n",
    "\n",
    "    if a <= -s\n",
    "        return hess .= 0\n",
    "    elseif a <= s\n",
    "        return hess .= 0\n",
    "    elseif a > abs(s)\n",
    "        # Original equations from chain rule\n",
    "        # n = n + 1\n",
    "        # dvdv = -s/norm(v)^2/norm(v)*(I - (v*v')/(v'v))*bv*v' + \n",
    "        #     s/norm(v)*((v*(v'bv))/(v'v)^2 * 2v' - (I*(v'bv) + v*bv')/(v'v)) + \n",
    "        #     bs/norm(v)*(I - (v*v')/(v'v))\n",
    "        # dvds = 1/norm(v)*(I - (v*v')/(v'v))*bv;\n",
    "        # hess[1:n-1,1:n-1] .= dvdv*0.5\n",
    "        # hess[1:n-1,n] .= dvds*0.5\n",
    "        # hess[n:n,1:n-1] .= 0.5*dvds'\n",
    "        # hess[n,n] = 0\n",
    "        # return hess\n",
    "\n",
    "        # The following is just an unrolled version of the above\n",
    "        dvdv = view(hess, 1:n, 1:n)\n",
    "        dvds = view(hess, 1:n, n+1)\n",
    "        dsdv = view(hess, n+1, 1:n)\n",
    "        @inbounds for i = 1:n\n",
    "            hi = 0\n",
    "            @inbounds for j = 1:n\n",
    "                Hij = -v[i]*v[j] / a^2\n",
    "                if i == j\n",
    "                    Hij += 1\n",
    "                end\n",
    "                hi += Hij * bv[j]\n",
    "            end\n",
    "            dvds[i] = hi / 2a\n",
    "            dsdv[i] = dvds[i]\n",
    "            @inbounds for j = 1:i\n",
    "                vij = v[i] * v[j]\n",
    "                H1 = hi * v[j] * (-s/a^3)\n",
    "                H2 = vij * (2*vbv) / a^4 - v[i] * bv[j] / a^2\n",
    "                H3 = -vij / a^2\n",
    "                if i == j\n",
    "                    H2 -= vbv / a^2\n",
    "                    H3 += 1\n",
    "                end\n",
    "                H2 *= s/a\n",
    "                H3 *= bs/a\n",
    "                dvdv[i,j] = (H1 + H2 + H3) / 2\n",
    "                dvdv[j,i] = dvdv[i,j]\n",
    "            end\n",
    "        end\n",
    "        hess[end,end] = 0\n",
    "        return hess\n",
    "    else\n",
    "        throw(ErrorException(\"Invalid second-order cone projection\"))\n",
    "    end\n",
    "end"
   ]
  },
  {
   "cell_type": "code",
   "execution_count": 602,
   "id": "90e80e62-224c-4d2f-870b-53319635b810",
   "metadata": {},
   "outputs": [
    {
     "data": {
      "text/plain": [
       "3×3 Matrix{Float64}:\n",
       "  1.00908   -0.554993   0.227043\n",
       " -0.554993   0.305246  -0.124873\n",
       "  0.227043  -0.124873   0.0"
      ]
     },
     "execution_count": 602,
     "metadata": {},
     "output_type": "execute_result"
    }
   ],
   "source": [
    "∇²projection([1.1 2 0], [4.1 5 6])"
   ]
  },
  {
   "cell_type": "code",
   "execution_count": 666,
   "id": "f4edd7a6-7756-43ee-a37b-f91abdd18650",
   "metadata": {},
   "outputs": [
    {
     "name": "stdout",
     "output_type": "stream",
     "text": [
      "iter     J           ΔJ        |d|         α        reg         ρ\n",
      "---------------------------------------------------------------------\n",
      "  1    0.000e+00   3.56e+06   0.00e+00  0.0000    1.00e-08    1.00e+00\n",
      "update cone\n",
      "convio = 29.899759669898994\n",
      "  2    0.000e+00   3.60e+06   0.00e+00  0.0000    1.00e-08    1.00e+01\n",
      "update cone\n",
      "convio = 29.393736451782093\n",
      "  3    0.000e+00   3.82e+06   0.00e+00  0.0000    1.00e-08    1.00e+02\n",
      "update cone\n",
      "convio = 25.216116220518987\n",
      "  4    0.000e+00   3.74e+06   0.00e+00  0.0000    1.00e-08    1.00e+03\n",
      "update cone\n",
      "convio = 11.458491210588882\n",
      "  5    0.000e+00   3.19e+06   0.00e+00  0.0000    1.00e-08    1.00e+04\n",
      "update cone\n",
      "convio = 1.8108362724707319\n",
      "  6    0.000e+00   3.08e+06   0.00e+00  0.0000    1.00e-08    1.00e+05\n",
      "update cone\n",
      "convio = 0.19233046016561572\n",
      "  7    0.000e+00   3.30e+06   0.00e+00  0.0000    1.00e-08    1.00e+06\n",
      "update cone\n",
      "convio = 0.019353348696721118\n",
      "  8    0.000e+00   5.51e+06   0.00e+00  0.0000    1.00e-08    1.00e+07\n",
      "update cone\n",
      "convio = 0.001936546283235252\n",
      "  9    0.000e+00   2.73e+07   0.00e+00  0.0000    1.00e-08    1.00e+08\n",
      "update cone\n",
      "convio = 0.0001936667509040424\n",
      "Our solver reachs MAX PENALTY\n"
     ]
    },
    {
     "data": {
      "image/svg+xml": [
       "<?xml version=\"1.0\" encoding=\"utf-8\"?>\n",
       "<svg xmlns=\"http://www.w3.org/2000/svg\" xmlns:xlink=\"http://www.w3.org/1999/xlink\" width=\"600\" height=\"400\" viewBox=\"0 0 2400 1600\">\n",
       "<defs>\n",
       "  <clipPath id=\"clip560\">\n",
       "    <rect x=\"0\" y=\"0\" width=\"2400\" height=\"1600\"/>\n",
       "  </clipPath>\n",
       "</defs>\n",
       "<path clip-path=\"url(#clip560)\" d=\"M0 1600 L2400 1600 L2400 0 L0 0  Z\" fill=\"#ffffff\" fill-rule=\"evenodd\" fill-opacity=\"1\"/>\n",
       "<defs>\n",
       "  <clipPath id=\"clip561\">\n",
       "    <rect x=\"480\" y=\"0\" width=\"1681\" height=\"1600\"/>\n",
       "  </clipPath>\n",
       "</defs>\n",
       "<path clip-path=\"url(#clip560)\" d=\"M210.977 1423.18 L2352.76 1423.18 L2352.76 123.472 L210.977 123.472  Z\" fill=\"#ffffff\" fill-rule=\"evenodd\" fill-opacity=\"1\"/>\n",
       "<defs>\n",
       "  <clipPath id=\"clip562\">\n",
       "    <rect x=\"210\" y=\"123\" width=\"2143\" height=\"1301\"/>\n",
       "  </clipPath>\n",
       "</defs>\n",
       "<polyline clip-path=\"url(#clip562)\" style=\"stroke:#000000; stroke-linecap:round; stroke-linejoin:round; stroke-width:2; stroke-opacity:0.1; fill:none\" points=\"271.594,1423.18 271.594,123.472 \"/>\n",
       "<polyline clip-path=\"url(#clip562)\" style=\"stroke:#000000; stroke-linecap:round; stroke-linejoin:round; stroke-width:2; stroke-opacity:0.1; fill:none\" points=\"945.109,1423.18 945.109,123.472 \"/>\n",
       "<polyline clip-path=\"url(#clip562)\" style=\"stroke:#000000; stroke-linecap:round; stroke-linejoin:round; stroke-width:2; stroke-opacity:0.1; fill:none\" points=\"1618.62,1423.18 1618.62,123.472 \"/>\n",
       "<polyline clip-path=\"url(#clip562)\" style=\"stroke:#000000; stroke-linecap:round; stroke-linejoin:round; stroke-width:2; stroke-opacity:0.1; fill:none\" points=\"2292.14,1423.18 2292.14,123.472 \"/>\n",
       "<polyline clip-path=\"url(#clip560)\" style=\"stroke:#000000; stroke-linecap:round; stroke-linejoin:round; stroke-width:4; stroke-opacity:1; fill:none\" points=\"210.977,1423.18 2352.76,1423.18 \"/>\n",
       "<polyline clip-path=\"url(#clip560)\" style=\"stroke:#000000; stroke-linecap:round; stroke-linejoin:round; stroke-width:4; stroke-opacity:1; fill:none\" points=\"271.594,1423.18 271.594,1404.28 \"/>\n",
       "<polyline clip-path=\"url(#clip560)\" style=\"stroke:#000000; stroke-linecap:round; stroke-linejoin:round; stroke-width:4; stroke-opacity:1; fill:none\" points=\"945.109,1423.18 945.109,1404.28 \"/>\n",
       "<polyline clip-path=\"url(#clip560)\" style=\"stroke:#000000; stroke-linecap:round; stroke-linejoin:round; stroke-width:4; stroke-opacity:1; fill:none\" points=\"1618.62,1423.18 1618.62,1404.28 \"/>\n",
       "<polyline clip-path=\"url(#clip560)\" style=\"stroke:#000000; stroke-linecap:round; stroke-linejoin:round; stroke-width:4; stroke-opacity:1; fill:none\" points=\"2292.14,1423.18 2292.14,1404.28 \"/>\n",
       "<path clip-path=\"url(#clip560)\" d=\"M271.594 1454.1 Q267.983 1454.1 266.154 1457.66 Q264.348 1461.2 264.348 1468.33 Q264.348 1475.44 266.154 1479.01 Q267.983 1482.55 271.594 1482.55 Q275.228 1482.55 277.034 1479.01 Q278.862 1475.44 278.862 1468.33 Q278.862 1461.2 277.034 1457.66 Q275.228 1454.1 271.594 1454.1 M271.594 1450.39 Q277.404 1450.39 280.459 1455 Q283.538 1459.58 283.538 1468.33 Q283.538 1477.06 280.459 1481.67 Q277.404 1486.25 271.594 1486.25 Q265.784 1486.25 262.705 1481.67 Q259.649 1477.06 259.649 1468.33 Q259.649 1459.58 262.705 1455 Q265.784 1450.39 271.594 1450.39 Z\" fill=\"#000000\" fill-rule=\"evenodd\" fill-opacity=\"1\" /><path clip-path=\"url(#clip560)\" d=\"M935.387 1451.02 L953.743 1451.02 L953.743 1454.96 L939.669 1454.96 L939.669 1463.43 Q940.688 1463.08 941.706 1462.92 Q942.725 1462.73 943.743 1462.73 Q949.53 1462.73 952.91 1465.9 Q956.29 1469.08 956.29 1474.49 Q956.29 1480.07 952.817 1483.17 Q949.345 1486.25 943.026 1486.25 Q940.85 1486.25 938.581 1485.88 Q936.336 1485.51 933.929 1484.77 L933.929 1480.07 Q936.012 1481.2 938.234 1481.76 Q940.456 1482.32 942.933 1482.32 Q946.938 1482.32 949.276 1480.21 Q951.614 1478.1 951.614 1474.49 Q951.614 1470.88 949.276 1468.77 Q946.938 1466.67 942.933 1466.67 Q941.058 1466.67 939.183 1467.08 Q937.331 1467.5 935.387 1468.38 L935.387 1451.02 Z\" fill=\"#000000\" fill-rule=\"evenodd\" fill-opacity=\"1\" /><path clip-path=\"url(#clip560)\" d=\"M1593.31 1481.64 L1600.95 1481.64 L1600.95 1455.28 L1592.64 1456.95 L1592.64 1452.69 L1600.9 1451.02 L1605.58 1451.02 L1605.58 1481.64 L1613.22 1481.64 L1613.22 1485.58 L1593.31 1485.58 L1593.31 1481.64 Z\" fill=\"#000000\" fill-rule=\"evenodd\" fill-opacity=\"1\" /><path clip-path=\"url(#clip560)\" d=\"M1632.66 1454.1 Q1629.05 1454.1 1627.22 1457.66 Q1625.42 1461.2 1625.42 1468.33 Q1625.42 1475.44 1627.22 1479.01 Q1629.05 1482.55 1632.66 1482.55 Q1636.3 1482.55 1638.1 1479.01 Q1639.93 1475.44 1639.93 1468.33 Q1639.93 1461.2 1638.1 1457.66 Q1636.3 1454.1 1632.66 1454.1 M1632.66 1450.39 Q1638.47 1450.39 1641.53 1455 Q1644.61 1459.58 1644.61 1468.33 Q1644.61 1477.06 1641.53 1481.67 Q1638.47 1486.25 1632.66 1486.25 Q1626.85 1486.25 1623.77 1481.67 Q1620.72 1477.06 1620.72 1468.33 Q1620.72 1459.58 1623.77 1455 Q1626.85 1450.39 1632.66 1450.39 Z\" fill=\"#000000\" fill-rule=\"evenodd\" fill-opacity=\"1\" /><path clip-path=\"url(#clip560)\" d=\"M2267.32 1481.64 L2274.96 1481.64 L2274.96 1455.28 L2266.65 1456.95 L2266.65 1452.69 L2274.92 1451.02 L2279.59 1451.02 L2279.59 1481.64 L2287.23 1481.64 L2287.23 1485.58 L2267.32 1485.58 L2267.32 1481.64 Z\" fill=\"#000000\" fill-rule=\"evenodd\" fill-opacity=\"1\" /><path clip-path=\"url(#clip560)\" d=\"M2296.72 1451.02 L2315.08 1451.02 L2315.08 1454.96 L2301.01 1454.96 L2301.01 1463.43 Q2302.02 1463.08 2303.04 1462.92 Q2304.06 1462.73 2305.08 1462.73 Q2310.87 1462.73 2314.25 1465.9 Q2317.63 1469.08 2317.63 1474.49 Q2317.63 1480.07 2314.15 1483.17 Q2310.68 1486.25 2304.36 1486.25 Q2302.19 1486.25 2299.92 1485.88 Q2297.67 1485.51 2295.26 1484.77 L2295.26 1480.07 Q2297.35 1481.2 2299.57 1481.76 Q2301.79 1482.32 2304.27 1482.32 Q2308.27 1482.32 2310.61 1480.21 Q2312.95 1478.1 2312.95 1474.49 Q2312.95 1470.88 2310.61 1468.77 Q2308.27 1466.67 2304.27 1466.67 Q2302.39 1466.67 2300.52 1467.08 Q2298.67 1467.5 2296.72 1468.38 L2296.72 1451.02 Z\" fill=\"#000000\" fill-rule=\"evenodd\" fill-opacity=\"1\" /><path clip-path=\"url(#clip560)\" d=\"M1169.32 1522.27 L1169.32 1532.4 L1181.38 1532.4 L1181.38 1536.95 L1169.32 1536.95 L1169.32 1556.3 Q1169.32 1560.66 1170.5 1561.9 Q1171.71 1563.14 1175.37 1563.14 L1181.38 1563.14 L1181.38 1568.04 L1175.37 1568.04 Q1168.59 1568.04 1166.01 1565.53 Q1163.43 1562.98 1163.43 1556.3 L1163.43 1536.95 L1159.14 1536.95 L1159.14 1532.4 L1163.43 1532.4 L1163.43 1522.27 L1169.32 1522.27 Z\" fill=\"#000000\" fill-rule=\"evenodd\" fill-opacity=\"1\" /><path clip-path=\"url(#clip560)\" d=\"M1189.09 1532.4 L1194.94 1532.4 L1194.94 1568.04 L1189.09 1568.04 L1189.09 1532.4 M1189.09 1518.52 L1194.94 1518.52 L1194.94 1525.93 L1189.09 1525.93 L1189.09 1518.52 Z\" fill=\"#000000\" fill-rule=\"evenodd\" fill-opacity=\"1\" /><path clip-path=\"url(#clip560)\" d=\"M1234.95 1539.24 Q1237.15 1535.29 1240.2 1533.41 Q1243.26 1531.54 1247.4 1531.54 Q1252.97 1531.54 1255.99 1535.45 Q1259.01 1539.33 1259.01 1546.53 L1259.01 1568.04 L1253.13 1568.04 L1253.13 1546.72 Q1253.13 1541.59 1251.31 1539.11 Q1249.5 1536.63 1245.77 1536.63 Q1241.22 1536.63 1238.58 1539.65 Q1235.94 1542.68 1235.94 1547.9 L1235.94 1568.04 L1230.05 1568.04 L1230.05 1546.72 Q1230.05 1541.56 1228.24 1539.11 Q1226.42 1536.63 1222.63 1536.63 Q1218.15 1536.63 1215.5 1539.68 Q1212.86 1542.71 1212.86 1547.9 L1212.86 1568.04 L1206.97 1568.04 L1206.97 1532.4 L1212.86 1532.4 L1212.86 1537.93 Q1214.87 1534.66 1217.67 1533.1 Q1220.47 1531.54 1224.32 1531.54 Q1228.2 1531.54 1230.91 1533.51 Q1233.65 1535.48 1234.95 1539.24 Z\" fill=\"#000000\" fill-rule=\"evenodd\" fill-opacity=\"1\" /><path clip-path=\"url(#clip560)\" d=\"M1301.19 1548.76 L1301.19 1551.62 L1274.26 1551.62 Q1274.64 1557.67 1277.89 1560.85 Q1281.17 1564 1286.99 1564 Q1290.36 1564 1293.52 1563.17 Q1296.7 1562.35 1299.82 1560.69 L1299.82 1566.23 Q1296.67 1567.57 1293.36 1568.27 Q1290.05 1568.97 1286.64 1568.97 Q1278.11 1568.97 1273.11 1564 Q1268.15 1559.04 1268.15 1550.57 Q1268.15 1541.82 1272.86 1536.69 Q1277.6 1531.54 1285.62 1531.54 Q1292.82 1531.54 1296.99 1536.18 Q1301.19 1540.8 1301.19 1548.76 M1295.33 1547.04 Q1295.27 1542.23 1292.62 1539.37 Q1290.01 1536.5 1285.69 1536.5 Q1280.78 1536.5 1277.82 1539.27 Q1274.9 1542.04 1274.45 1547.07 L1295.33 1547.04 Z\" fill=\"#000000\" fill-rule=\"evenodd\" fill-opacity=\"1\" /><path clip-path=\"url(#clip560)\" d=\"M1345.59 1518.58 Q1341.32 1525.9 1339.25 1533.06 Q1337.18 1540.23 1337.18 1547.58 Q1337.18 1554.93 1339.25 1562.16 Q1341.35 1569.35 1345.59 1576.64 L1340.49 1576.64 Q1335.72 1569.16 1333.33 1561.93 Q1330.98 1554.71 1330.98 1547.58 Q1330.98 1540.48 1333.33 1533.29 Q1335.69 1526.09 1340.49 1518.58 L1345.59 1518.58 Z\" fill=\"#000000\" fill-rule=\"evenodd\" fill-opacity=\"1\" /><path clip-path=\"url(#clip560)\" d=\"M1379.68 1533.45 L1379.68 1538.98 Q1377.19 1537.71 1374.52 1537.07 Q1371.85 1536.44 1368.98 1536.44 Q1364.62 1536.44 1362.42 1537.77 Q1360.26 1539.11 1360.26 1541.79 Q1360.26 1543.82 1361.82 1545 Q1363.38 1546.15 1368.09 1547.2 L1370.1 1547.64 Q1376.33 1548.98 1378.94 1551.43 Q1381.59 1553.85 1381.59 1558.21 Q1381.59 1563.17 1377.64 1566.07 Q1373.72 1568.97 1366.85 1568.97 Q1363.98 1568.97 1360.87 1568.39 Q1357.78 1567.85 1354.34 1566.74 L1354.34 1560.69 Q1357.59 1562.38 1360.74 1563.24 Q1363.89 1564.07 1366.98 1564.07 Q1371.11 1564.07 1373.34 1562.66 Q1375.57 1561.23 1375.57 1558.65 Q1375.57 1556.27 1373.95 1554.99 Q1372.36 1553.72 1366.91 1552.54 L1364.88 1552.07 Q1359.43 1550.92 1357.01 1548.56 Q1354.59 1546.18 1354.59 1542.04 Q1354.59 1537.01 1358.16 1534.27 Q1361.72 1531.54 1368.28 1531.54 Q1371.53 1531.54 1374.39 1532.01 Q1377.26 1532.49 1379.68 1533.45 Z\" fill=\"#000000\" fill-rule=\"evenodd\" fill-opacity=\"1\" /><path clip-path=\"url(#clip560)\" d=\"M1389.99 1518.58 L1395.08 1518.58 Q1399.86 1526.09 1402.21 1533.29 Q1404.6 1540.48 1404.6 1547.58 Q1404.6 1554.71 1402.21 1561.93 Q1399.86 1569.16 1395.08 1576.64 L1389.99 1576.64 Q1394.22 1569.35 1396.29 1562.16 Q1398.39 1554.93 1398.39 1547.58 Q1398.39 1540.23 1396.29 1533.06 Q1394.22 1525.9 1389.99 1518.58 Z\" fill=\"#000000\" fill-rule=\"evenodd\" fill-opacity=\"1\" /><polyline clip-path=\"url(#clip562)\" style=\"stroke:#000000; stroke-linecap:round; stroke-linejoin:round; stroke-width:2; stroke-opacity:0.1; fill:none\" points=\"210.977,1386.4 2352.76,1386.4 \"/>\n",
       "<polyline clip-path=\"url(#clip562)\" style=\"stroke:#000000; stroke-linecap:round; stroke-linejoin:round; stroke-width:2; stroke-opacity:0.1; fill:none\" points=\"210.977,1141.17 2352.76,1141.17 \"/>\n",
       "<polyline clip-path=\"url(#clip562)\" style=\"stroke:#000000; stroke-linecap:round; stroke-linejoin:round; stroke-width:2; stroke-opacity:0.1; fill:none\" points=\"210.977,895.94 2352.76,895.94 \"/>\n",
       "<polyline clip-path=\"url(#clip562)\" style=\"stroke:#000000; stroke-linecap:round; stroke-linejoin:round; stroke-width:2; stroke-opacity:0.1; fill:none\" points=\"210.977,650.712 2352.76,650.712 \"/>\n",
       "<polyline clip-path=\"url(#clip562)\" style=\"stroke:#000000; stroke-linecap:round; stroke-linejoin:round; stroke-width:2; stroke-opacity:0.1; fill:none\" points=\"210.977,405.484 2352.76,405.484 \"/>\n",
       "<polyline clip-path=\"url(#clip562)\" style=\"stroke:#000000; stroke-linecap:round; stroke-linejoin:round; stroke-width:2; stroke-opacity:0.1; fill:none\" points=\"210.977,160.256 2352.76,160.256 \"/>\n",
       "<polyline clip-path=\"url(#clip560)\" style=\"stroke:#000000; stroke-linecap:round; stroke-linejoin:round; stroke-width:4; stroke-opacity:1; fill:none\" points=\"210.977,1423.18 210.977,123.472 \"/>\n",
       "<polyline clip-path=\"url(#clip560)\" style=\"stroke:#000000; stroke-linecap:round; stroke-linejoin:round; stroke-width:4; stroke-opacity:1; fill:none\" points=\"210.977,1386.4 229.875,1386.4 \"/>\n",
       "<polyline clip-path=\"url(#clip560)\" style=\"stroke:#000000; stroke-linecap:round; stroke-linejoin:round; stroke-width:4; stroke-opacity:1; fill:none\" points=\"210.977,1141.17 229.875,1141.17 \"/>\n",
       "<polyline clip-path=\"url(#clip560)\" style=\"stroke:#000000; stroke-linecap:round; stroke-linejoin:round; stroke-width:4; stroke-opacity:1; fill:none\" points=\"210.977,895.94 229.875,895.94 \"/>\n",
       "<polyline clip-path=\"url(#clip560)\" style=\"stroke:#000000; stroke-linecap:round; stroke-linejoin:round; stroke-width:4; stroke-opacity:1; fill:none\" points=\"210.977,650.712 229.875,650.712 \"/>\n",
       "<polyline clip-path=\"url(#clip560)\" style=\"stroke:#000000; stroke-linecap:round; stroke-linejoin:round; stroke-width:4; stroke-opacity:1; fill:none\" points=\"210.977,405.484 229.875,405.484 \"/>\n",
       "<polyline clip-path=\"url(#clip560)\" style=\"stroke:#000000; stroke-linecap:round; stroke-linejoin:round; stroke-width:4; stroke-opacity:1; fill:none\" points=\"210.977,160.256 229.875,160.256 \"/>\n",
       "<path clip-path=\"url(#clip560)\" d=\"M114.26 1386.85 L143.936 1386.85 L143.936 1390.78 L114.26 1390.78 L114.26 1386.85 Z\" fill=\"#000000\" fill-rule=\"evenodd\" fill-opacity=\"1\" /><path clip-path=\"url(#clip560)\" d=\"M154.075 1369.12 L172.431 1369.12 L172.431 1373.05 L158.357 1373.05 L158.357 1381.52 Q159.376 1381.18 160.394 1381.01 Q161.413 1380.83 162.431 1380.83 Q168.218 1380.83 171.598 1384 Q174.977 1387.17 174.977 1392.59 Q174.977 1398.17 171.505 1401.27 Q168.033 1404.35 161.714 1404.35 Q159.538 1404.35 157.269 1403.98 Q155.024 1403.61 152.616 1402.87 L152.616 1398.17 Q154.7 1399.3 156.922 1399.86 Q159.144 1400.41 161.621 1400.41 Q165.626 1400.41 167.964 1398.31 Q170.302 1396.2 170.302 1392.59 Q170.302 1388.98 167.964 1386.87 Q165.626 1384.76 161.621 1384.76 Q159.746 1384.76 157.871 1385.18 Q156.019 1385.6 154.075 1386.48 L154.075 1369.12 Z\" fill=\"#000000\" fill-rule=\"evenodd\" fill-opacity=\"1\" /><path clip-path=\"url(#clip560)\" d=\"M163.033 1126.97 Q159.422 1126.97 157.593 1130.53 Q155.788 1134.07 155.788 1141.2 Q155.788 1148.31 157.593 1151.87 Q159.422 1155.42 163.033 1155.42 Q166.667 1155.42 168.473 1151.87 Q170.302 1148.31 170.302 1141.2 Q170.302 1134.07 168.473 1130.53 Q166.667 1126.97 163.033 1126.97 M163.033 1123.26 Q168.843 1123.26 171.899 1127.87 Q174.977 1132.45 174.977 1141.2 Q174.977 1149.93 171.899 1154.54 Q168.843 1159.12 163.033 1159.12 Q157.223 1159.12 154.144 1154.54 Q151.089 1149.93 151.089 1141.2 Q151.089 1132.45 154.144 1127.87 Q157.223 1123.26 163.033 1123.26 Z\" fill=\"#000000\" fill-rule=\"evenodd\" fill-opacity=\"1\" /><path clip-path=\"url(#clip560)\" d=\"M154.075 878.66 L172.431 878.66 L172.431 882.595 L158.357 882.595 L158.357 891.067 Q159.376 890.72 160.394 890.558 Q161.413 890.373 162.431 890.373 Q168.218 890.373 171.598 893.544 Q174.977 896.715 174.977 902.132 Q174.977 907.711 171.505 910.813 Q168.033 913.891 161.714 913.891 Q159.538 913.891 157.269 913.521 Q155.024 913.15 152.616 912.41 L152.616 907.711 Q154.7 908.845 156.922 909.4 Q159.144 909.956 161.621 909.956 Q165.626 909.956 167.964 907.85 Q170.302 905.743 170.302 902.132 Q170.302 898.521 167.964 896.414 Q165.626 894.308 161.621 894.308 Q159.746 894.308 157.871 894.725 Q156.019 895.141 154.075 896.021 L154.075 878.66 Z\" fill=\"#000000\" fill-rule=\"evenodd\" fill-opacity=\"1\" /><path clip-path=\"url(#clip560)\" d=\"M123.681 664.057 L131.32 664.057 L131.32 637.691 L123.01 639.358 L123.01 635.099 L131.274 633.432 L135.95 633.432 L135.95 664.057 L143.589 664.057 L143.589 667.992 L123.681 667.992 L123.681 664.057 Z\" fill=\"#000000\" fill-rule=\"evenodd\" fill-opacity=\"1\" /><path clip-path=\"url(#clip560)\" d=\"M163.033 636.511 Q159.422 636.511 157.593 640.076 Q155.788 643.617 155.788 650.747 Q155.788 657.853 157.593 661.418 Q159.422 664.96 163.033 664.96 Q166.667 664.96 168.473 661.418 Q170.302 657.853 170.302 650.747 Q170.302 643.617 168.473 640.076 Q166.667 636.511 163.033 636.511 M163.033 632.807 Q168.843 632.807 171.899 637.414 Q174.977 641.997 174.977 650.747 Q174.977 659.474 171.899 664.08 Q168.843 668.663 163.033 668.663 Q157.223 668.663 154.144 664.08 Q151.089 659.474 151.089 650.747 Q151.089 641.997 154.144 637.414 Q157.223 632.807 163.033 632.807 Z\" fill=\"#000000\" fill-rule=\"evenodd\" fill-opacity=\"1\" /><path clip-path=\"url(#clip560)\" d=\"M124.677 418.829 L132.316 418.829 L132.316 392.463 L124.005 394.13 L124.005 389.871 L132.269 388.204 L136.945 388.204 L136.945 418.829 L144.584 418.829 L144.584 422.764 L124.677 422.764 L124.677 418.829 Z\" fill=\"#000000\" fill-rule=\"evenodd\" fill-opacity=\"1\" /><path clip-path=\"url(#clip560)\" d=\"M154.075 388.204 L172.431 388.204 L172.431 392.139 L158.357 392.139 L158.357 400.612 Q159.376 400.264 160.394 400.102 Q161.413 399.917 162.431 399.917 Q168.218 399.917 171.598 403.088 Q174.977 406.26 174.977 411.676 Q174.977 417.255 171.505 420.357 Q168.033 423.435 161.714 423.435 Q159.538 423.435 157.269 423.065 Q155.024 422.695 152.616 421.954 L152.616 417.255 Q154.7 418.389 156.922 418.945 Q159.144 419.5 161.621 419.5 Q165.626 419.5 167.964 417.394 Q170.302 415.287 170.302 411.676 Q170.302 408.065 167.964 405.959 Q165.626 403.852 161.621 403.852 Q159.746 403.852 157.871 404.269 Q156.019 404.686 154.075 405.565 L154.075 388.204 Z\" fill=\"#000000\" fill-rule=\"evenodd\" fill-opacity=\"1\" /><path clip-path=\"url(#clip560)\" d=\"M126.899 173.601 L143.218 173.601 L143.218 177.536 L121.274 177.536 L121.274 173.601 Q123.936 170.847 128.519 166.217 Q133.126 161.564 134.306 160.222 Q136.552 157.698 137.431 155.962 Q138.334 154.203 138.334 152.513 Q138.334 149.759 136.39 148.023 Q134.468 146.286 131.367 146.286 Q129.167 146.286 126.714 147.05 Q124.283 147.814 121.505 149.365 L121.505 144.643 Q124.33 143.509 126.783 142.93 Q129.237 142.351 131.274 142.351 Q136.644 142.351 139.839 145.036 Q143.033 147.722 143.033 152.212 Q143.033 154.342 142.223 156.263 Q141.436 158.161 139.329 160.754 Q138.751 161.425 135.649 164.643 Q132.547 167.837 126.899 173.601 Z\" fill=\"#000000\" fill-rule=\"evenodd\" fill-opacity=\"1\" /><path clip-path=\"url(#clip560)\" d=\"M163.033 146.055 Q159.422 146.055 157.593 149.62 Q155.788 153.161 155.788 160.291 Q155.788 167.397 157.593 170.962 Q159.422 174.504 163.033 174.504 Q166.667 174.504 168.473 170.962 Q170.302 167.397 170.302 160.291 Q170.302 153.161 168.473 149.62 Q166.667 146.055 163.033 146.055 M163.033 142.351 Q168.843 142.351 171.899 146.958 Q174.977 151.541 174.977 160.291 Q174.977 169.018 171.899 173.624 Q168.843 178.208 163.033 178.208 Q157.223 178.208 154.144 173.624 Q151.089 169.018 151.089 160.291 Q151.089 151.541 154.144 146.958 Q157.223 142.351 163.033 142.351 Z\" fill=\"#000000\" fill-rule=\"evenodd\" fill-opacity=\"1\" /><path clip-path=\"url(#clip560)\" d=\"M28.3562 756.711 L45.7028 769.602 L64.0042 756.043 L64.0042 762.95 L49.9996 773.326 L64.0042 783.702 L64.0042 790.609 L45.3526 776.763 L28.3562 789.431 L28.3562 782.524 L41.0558 773.071 L28.3562 763.618 L28.3562 756.711 Z\" fill=\"#000000\" fill-rule=\"evenodd\" fill-opacity=\"1\" /><path clip-path=\"url(#clip560)\" d=\"M1054.21 14.0809 L1054.21 22.0612 Q1049.55 19.8332 1045.42 18.7395 Q1041.28 17.6457 1037.44 17.6457 Q1030.75 17.6457 1027.11 20.2383 Q1023.5 22.8309 1023.5 27.611 Q1023.5 31.6214 1025.89 33.6873 Q1028.32 35.7128 1035.05 36.9686 L1039.99 37.9813 Q1049.14 39.7232 1053.48 44.1387 Q1057.85 48.5136 1057.85 55.8863 Q1057.85 64.6767 1051.94 69.2137 Q1046.06 73.7508 1034.68 73.7508 Q1030.39 73.7508 1025.53 72.7785 Q1020.7 71.8063 1015.52 69.9024 L1015.52 61.4765 Q1020.5 64.2716 1025.28 65.6895 Q1030.06 67.1073 1034.68 67.1073 Q1041.69 67.1073 1045.5 64.3527 Q1049.3 61.598 1049.3 56.4939 Q1049.3 52.0379 1046.55 49.5264 Q1043.84 47.0148 1037.6 45.759 L1032.61 44.7868 Q1023.46 42.9639 1019.37 39.075 Q1015.28 35.1862 1015.28 28.2591 Q1015.28 20.2383 1020.91 15.6203 Q1026.58 11.0023 1036.5 11.0023 Q1040.76 11.0023 1045.17 11.7719 Q1049.59 12.5416 1054.21 14.0809 Z\" fill=\"#000000\" fill-rule=\"evenodd\" fill-opacity=\"1\" /><path clip-path=\"url(#clip560)\" d=\"M1077.66 14.324 L1077.66 27.2059 L1093.01 27.2059 L1093.01 32.9987 L1077.66 32.9987 L1077.66 57.6282 Q1077.66 63.1779 1079.16 64.7578 Q1080.7 66.3376 1085.36 66.3376 L1093.01 66.3376 L1093.01 72.576 L1085.36 72.576 Q1076.73 72.576 1073.45 69.3758 Q1070.17 66.1351 1070.17 57.6282 L1070.17 32.9987 L1064.7 32.9987 L1064.7 27.2059 L1070.17 27.2059 L1070.17 14.324 L1077.66 14.324 Z\" fill=\"#000000\" fill-rule=\"evenodd\" fill-opacity=\"1\" /><path clip-path=\"url(#clip560)\" d=\"M1123.44 49.7694 Q1114.4 49.7694 1110.92 51.8354 Q1107.43 53.9013 1107.43 58.8839 Q1107.43 62.8538 1110.03 65.2034 Q1112.66 67.5124 1117.16 67.5124 Q1123.35 67.5124 1127.08 63.1374 Q1130.85 58.7219 1130.85 51.4303 L1130.85 49.7694 L1123.44 49.7694 M1138.3 46.6907 L1138.3 72.576 L1130.85 72.576 L1130.85 65.6895 Q1128.3 69.8214 1124.49 71.8063 Q1120.68 73.7508 1115.17 73.7508 Q1108.2 73.7508 1104.07 69.8619 Q1099.98 65.9325 1099.98 59.3701 Q1099.98 51.7138 1105.09 47.825 Q1110.23 43.9361 1120.4 43.9361 L1130.85 43.9361 L1130.85 43.2069 Q1130.85 38.0623 1127.45 35.2672 Q1124.08 32.4315 1117.97 32.4315 Q1114.08 32.4315 1110.39 33.3632 Q1106.71 34.295 1103.3 36.1584 L1103.3 29.2718 Q1107.39 27.692 1111.24 26.9223 Q1115.09 26.1121 1118.74 26.1121 Q1128.58 26.1121 1133.44 31.2163 Q1138.3 36.3204 1138.3 46.6907 Z\" fill=\"#000000\" fill-rule=\"evenodd\" fill-opacity=\"1\" /><path clip-path=\"url(#clip560)\" d=\"M1161.03 14.324 L1161.03 27.2059 L1176.38 27.2059 L1176.38 32.9987 L1161.03 32.9987 L1161.03 57.6282 Q1161.03 63.1779 1162.53 64.7578 Q1164.07 66.3376 1168.72 66.3376 L1176.38 66.3376 L1176.38 72.576 L1168.72 72.576 Q1160.1 72.576 1156.82 69.3758 Q1153.53 66.1351 1153.53 57.6282 L1153.53 32.9987 L1148.07 32.9987 L1148.07 27.2059 L1153.53 27.2059 L1153.53 14.324 L1161.03 14.324 Z\" fill=\"#000000\" fill-rule=\"evenodd\" fill-opacity=\"1\" /><path clip-path=\"url(#clip560)\" d=\"M1224.99 48.0275 L1224.99 51.6733 L1190.72 51.6733 Q1191.21 59.3701 1195.34 63.421 Q1199.51 67.4314 1206.92 67.4314 Q1211.22 67.4314 1215.23 66.3781 Q1219.28 65.3249 1223.25 63.2184 L1223.25 70.267 Q1219.24 71.9684 1215.03 72.8596 Q1210.81 73.7508 1206.48 73.7508 Q1195.62 73.7508 1189.26 67.4314 Q1182.94 61.1119 1182.94 50.3365 Q1182.94 39.1965 1188.94 32.6746 Q1194.97 26.1121 1205.18 26.1121 Q1214.34 26.1121 1219.64 32.0264 Q1224.99 37.9003 1224.99 48.0275 M1217.54 45.84 Q1217.46 39.7232 1214.1 36.0774 Q1210.77 32.4315 1205.26 32.4315 Q1199.03 32.4315 1195.26 35.9558 Q1191.53 39.4801 1190.96 45.8805 L1217.54 45.84 Z\" fill=\"#000000\" fill-rule=\"evenodd\" fill-opacity=\"1\" /><path clip-path=\"url(#clip560)\" d=\"M1263.92 12.096 L1272.1 12.096 L1272.1 36.8875 L1301.84 36.8875 L1301.84 12.096 L1310.02 12.096 L1310.02 72.576 L1301.84 72.576 L1301.84 43.7741 L1272.1 43.7741 L1272.1 72.576 L1263.92 72.576 L1263.92 12.096 Z\" fill=\"#000000\" fill-rule=\"evenodd\" fill-opacity=\"1\" /><path clip-path=\"url(#clip560)\" d=\"M1325.98 27.2059 L1333.43 27.2059 L1333.43 72.576 L1325.98 72.576 L1325.98 27.2059 M1325.98 9.54393 L1333.43 9.54393 L1333.43 18.9825 L1325.98 18.9825 L1325.98 9.54393 Z\" fill=\"#000000\" fill-rule=\"evenodd\" fill-opacity=\"1\" /><path clip-path=\"url(#clip560)\" d=\"M1377.95 28.5427 L1377.95 35.5912 Q1374.79 33.9709 1371.39 33.1607 Q1367.99 32.3505 1364.34 32.3505 Q1358.79 32.3505 1356 34.0519 Q1353.24 35.7533 1353.24 39.156 Q1353.24 41.7486 1355.23 43.2475 Q1357.21 44.7058 1363.21 46.0426 L1365.76 46.6097 Q1373.7 48.3111 1377.02 51.4303 Q1380.38 54.509 1380.38 60.0587 Q1380.38 66.3781 1375.36 70.0644 Q1370.38 73.7508 1361.63 73.7508 Q1357.98 73.7508 1354.01 73.0216 Q1350.08 72.3329 1345.71 70.9151 L1345.71 63.2184 Q1349.84 65.3654 1353.85 66.4591 Q1357.86 67.5124 1361.79 67.5124 Q1367.06 67.5124 1369.89 65.73 Q1372.73 63.9071 1372.73 60.6258 Q1372.73 57.5877 1370.66 55.9673 Q1368.64 54.3469 1361.71 52.8481 L1359.12 52.2405 Q1352.19 50.7821 1349.11 47.7845 Q1346.03 44.7463 1346.03 39.4801 Q1346.03 33.0797 1350.57 29.5959 Q1355.11 26.1121 1363.45 26.1121 Q1367.58 26.1121 1371.23 26.7198 Q1374.88 27.3274 1377.95 28.5427 Z\" fill=\"#000000\" fill-rule=\"evenodd\" fill-opacity=\"1\" /><path clip-path=\"url(#clip560)\" d=\"M1399.63 14.324 L1399.63 27.2059 L1414.98 27.2059 L1414.98 32.9987 L1399.63 32.9987 L1399.63 57.6282 Q1399.63 63.1779 1401.13 64.7578 Q1402.66 66.3376 1407.32 66.3376 L1414.98 66.3376 L1414.98 72.576 L1407.32 72.576 Q1398.69 72.576 1395.41 69.3758 Q1392.13 66.1351 1392.13 57.6282 L1392.13 32.9987 L1386.66 32.9987 L1386.66 27.2059 L1392.13 27.2059 L1392.13 14.324 L1399.63 14.324 Z\" fill=\"#000000\" fill-rule=\"evenodd\" fill-opacity=\"1\" /><path clip-path=\"url(#clip560)\" d=\"M1442.36 32.4315 Q1436.37 32.4315 1432.88 37.1306 Q1429.4 41.7891 1429.4 49.9314 Q1429.4 58.0738 1432.84 62.7728 Q1436.33 67.4314 1442.36 67.4314 Q1448.32 67.4314 1451.8 62.7323 Q1455.29 58.0333 1455.29 49.9314 Q1455.29 41.8701 1451.8 37.1711 Q1448.32 32.4315 1442.36 32.4315 M1442.36 26.1121 Q1452.09 26.1121 1457.64 32.4315 Q1463.19 38.7509 1463.19 49.9314 Q1463.19 61.0714 1457.64 67.4314 Q1452.09 73.7508 1442.36 73.7508 Q1432.6 73.7508 1427.05 67.4314 Q1421.54 61.0714 1421.54 49.9314 Q1421.54 38.7509 1427.05 32.4315 Q1432.6 26.1121 1442.36 26.1121 Z\" fill=\"#000000\" fill-rule=\"evenodd\" fill-opacity=\"1\" /><path clip-path=\"url(#clip560)\" d=\"M1501.83 34.1734 Q1500.57 33.4443 1499.08 33.1202 Q1497.62 32.7556 1495.84 32.7556 Q1489.52 32.7556 1486.11 36.8875 Q1482.75 40.9789 1482.75 48.6757 L1482.75 72.576 L1475.26 72.576 L1475.26 27.2059 L1482.75 27.2059 L1482.75 34.2544 Q1485.1 30.1225 1488.87 28.1376 Q1492.64 26.1121 1498.02 26.1121 Q1498.79 26.1121 1499.72 26.2337 Q1500.66 26.3147 1501.79 26.5172 L1501.83 34.1734 Z\" fill=\"#000000\" fill-rule=\"evenodd\" fill-opacity=\"1\" /><path clip-path=\"url(#clip560)\" d=\"M1528.53 76.7889 Q1525.37 84.8907 1522.37 87.3618 Q1519.37 89.8329 1514.35 89.8329 L1508.39 89.8329 L1508.39 83.5945 L1512.77 83.5945 Q1515.85 83.5945 1517.55 82.1361 Q1519.25 80.6778 1521.32 75.2496 L1522.65 71.8468 L1504.3 27.2059 L1512.2 27.2059 L1526.38 62.6918 L1540.56 27.2059 L1548.46 27.2059 L1528.53 76.7889 Z\" fill=\"#000000\" fill-rule=\"evenodd\" fill-opacity=\"1\" /><polyline clip-path=\"url(#clip562)\" style=\"stroke:#009af9; stroke-linecap:round; stroke-linejoin:round; stroke-width:4; stroke-opacity:1; fill:none\" points=\"271.594,944.985 278.329,952.301 285.064,959.533 291.799,966.682 298.534,973.75 305.27,980.735 312.005,987.639 318.74,994.462 325.475,1001.2 332.21,1007.87 338.945,1014.45 345.68,1020.95 352.416,1027.37 359.151,1033.72 365.886,1039.98 372.621,1046.17 379.356,1052.28 386.091,1058.31 392.827,1064.27 399.562,1070.15 406.297,1075.95 413.032,1081.68 419.767,1087.33 426.502,1092.9 433.237,1098.41 439.973,1103.83 446.708,1109.19 453.443,1114.47 460.178,1119.68 466.913,1124.81 473.648,1129.87 480.384,1134.86 487.119,1139.78 493.854,1144.63 500.589,1149.41 507.324,1154.11 514.059,1158.75 520.794,1163.31 527.53,1167.81 534.265,1172.24 541,1176.6 547.735,1180.89 554.47,1185.12 561.205,1189.27 567.941,1193.36 574.676,1197.38 581.411,1201.34 588.146,1205.23 594.881,1209.06 601.616,1212.82 608.351,1216.51 615.087,1220.14 621.822,1223.71 628.557,1227.22 635.292,1230.66 642.027,1234.03 648.762,1237.35 655.497,1240.6 662.233,1243.79 668.968,1246.92 675.703,1249.99 682.438,1253 689.173,1255.95 695.908,1258.84 702.644,1261.67 709.379,1264.44 716.114,1267.15 722.849,1269.81 729.584,1272.4 736.319,1274.94 743.054,1277.43 749.79,1279.85 756.525,1282.22 763.26,1284.53 769.995,1286.79 776.73,1288.99 783.465,1291.14 790.201,1293.23 796.936,1295.27 803.671,1297.26 810.406,1299.19 817.141,1301.07 823.876,1302.9 830.611,1304.67 837.347,1306.39 844.082,1308.07 850.817,1309.69 857.552,1311.26 864.287,1312.78 871.022,1314.25 877.758,1315.67 884.493,1317.04 891.228,1318.36 897.963,1319.64 904.698,1320.87 911.433,1322.05 918.168,1323.18 924.904,1324.27 931.639,1325.31 938.374,1326.3 945.109,1327.25 951.844,1328.15 958.579,1329.01 965.314,1329.83 972.05,1330.6 978.785,1331.32 985.52,1332.01 992.255,1332.65 998.99,1333.24 1005.73,1333.8 1012.46,1334.31 1019.2,1334.79 1025.93,1335.22 1032.67,1335.61 1039.4,1335.96 1046.14,1336.27 1052.87,1336.55 1059.61,1336.78 1066.34,1336.97 1073.08,1337.13 1079.81,1337.25 1086.55,1337.33 1093.28,1337.38 1100.02,1337.38 1106.75,1337.36 1113.49,1337.29 1120.22,1337.19 1126.96,1337.06 1133.69,1336.89 1140.43,1336.68 1147.16,1336.45 1153.9,1336.17 1160.63,1335.87 1167.37,1335.53 1174.1,1335.16 1180.84,1334.76 1187.57,1334.33 1194.31,1333.87 1201.04,1333.37 1207.78,1332.85 1214.52,1332.29 1221.25,1331.71 1227.99,1331.09 1234.72,1330.45 1241.46,1329.78 1248.19,1329.08 1254.93,1328.35 1261.66,1327.6 1268.4,1326.82 1275.13,1326.01 1281.87,1325.18 1288.6,1324.32 1295.34,1323.44 1302.07,1322.53 1308.81,1321.59 1315.54,1320.64 1322.28,1319.65 1329.01,1318.65 1335.75,1317.62 1342.48,1316.57 1349.22,1315.5 1355.95,1314.41 1362.69,1313.29 1369.42,1312.16 1376.16,1311 1382.89,1309.83 1389.63,1308.63 1396.36,1307.42 1403.1,1306.18 1409.83,1304.93 1416.57,1303.66 1423.3,1302.37 1430.04,1301.07 1436.78,1299.75 1443.51,1298.41 1450.25,1297.05 1456.98,1295.68 1463.72,1294.3 1470.45,1292.9 1477.19,1291.48 1483.92,1290.05 1490.66,1288.61 1497.39,1287.16 1504.13,1285.69 1510.86,1284.21 1517.6,1282.72 1524.33,1281.21 1531.07,1279.7 1537.8,1278.17 1544.54,1276.63 1551.27,1275.09 1558.01,1273.53 1564.74,1271.97 1571.48,1270.39 1578.21,1268.81 1584.95,1267.22 1591.68,1265.63 1598.42,1264.02 1605.15,1262.41 1611.89,1260.8 1618.62,1259.17 1625.36,1257.54 1632.09,1255.91 1638.83,1254.27 1645.56,1252.63 1652.3,1250.99 1659.04,1249.34 1665.77,1247.69 1672.51,1246.03 1679.24,1244.38 1685.98,1242.72 1692.71,1241.06 1699.45,1239.4 1706.18,1237.74 1712.92,1236.08 1719.65,1234.42 1726.39,1232.77 1733.12,1231.11 1739.86,1229.45 1746.59,1227.8 1753.33,1226.15 1760.06,1224.5 1766.8,1222.86 1773.53,1221.22 1780.27,1219.58 1787,1217.95 1793.74,1216.33 1800.47,1214.71 1807.21,1213.09 1813.94,1211.48 1820.68,1209.88 1827.41,1208.29 1834.15,1206.7 1840.88,1205.13 1847.62,1203.56 1854.35,1202 1861.09,1200.45 1867.82,1198.91 1874.56,1197.38 1881.3,1195.86 1888.03,1194.35 1894.77,1192.85 1901.5,1191.37 1908.24,1189.9 1914.97,1188.44 1921.71,1186.99 1928.44,1185.56 1935.18,1184.14 1941.91,1182.74 1948.65,1181.35 1955.38,1179.98 1962.12,1178.63 1968.85,1177.29 1975.59,1175.97 1982.32,1174.66 1989.06,1173.37 1995.79,1172.1 2002.53,1170.85 2009.26,1169.62 2016,1168.41 2022.73,1167.22 2029.47,1166.05 2036.2,1164.9 2042.94,1163.77 2049.67,1162.66 2056.41,1161.58 2063.14,1160.52 2069.88,1159.48 2076.61,1158.46 2083.35,1157.47 2090.08,1156.51 2096.82,1155.57 2103.56,1154.65 2110.29,1153.76 2117.03,1152.9 2123.76,1152.06 2130.5,1151.25 2137.23,1150.47 2143.97,1149.71 2150.7,1148.99 2157.44,1148.29 2164.17,1147.62 2170.91,1146.99 2177.64,1146.38 2184.38,1145.8 2191.11,1145.26 2197.85,1144.75 2204.58,1144.27 2211.32,1143.82 2218.05,1143.41 2224.79,1143.03 2231.52,1142.68 2238.26,1142.37 2244.99,1142.09 2251.73,1141.85 2258.46,1141.64 2265.2,1141.47 2271.93,1141.34 2278.67,1141.24 2285.4,1141.19 2292.14,1141.17 \"/>\n",
       "<polyline clip-path=\"url(#clip562)\" style=\"stroke:#e26f46; stroke-linecap:round; stroke-linejoin:round; stroke-width:4; stroke-opacity:1; fill:none\" points=\"271.594,1043.08 278.329,1038.21 285.064,1033.41 291.799,1028.68 298.534,1024.02 305.27,1019.43 312.005,1014.91 318.74,1010.45 325.475,1006.07 332.21,1001.75 338.945,997.498 345.68,993.314 352.416,989.198 359.151,985.147 365.886,981.162 372.621,977.243 379.356,973.389 386.091,969.6 392.827,965.876 399.562,962.216 406.297,958.619 413.032,955.086 419.767,951.617 426.502,948.21 433.237,944.865 439.973,941.583 446.708,938.362 453.443,935.202 460.178,932.104 466.913,929.066 473.648,926.089 480.384,923.172 487.119,920.314 493.854,917.515 500.589,914.776 507.324,912.094 514.059,909.472 520.794,906.907 527.53,904.399 534.265,901.949 541,899.555 547.735,897.218 554.47,894.937 561.205,892.712 567.941,890.542 574.676,888.427 581.411,886.367 588.146,884.361 594.881,882.409 601.616,880.511 608.351,878.666 615.087,876.874 621.822,875.134 628.557,873.447 635.292,871.812 642.027,870.228 648.762,868.695 655.497,867.213 662.233,865.782 668.968,864.401 675.703,863.069 682.438,861.787 689.173,860.554 695.908,859.37 702.644,858.234 709.379,857.146 716.114,856.105 722.849,855.112 729.584,854.166 736.319,853.266 743.054,852.413 749.79,851.606 756.525,850.844 763.26,850.127 769.995,849.455 776.73,848.828 783.465,848.244 790.201,847.705 796.936,847.209 803.671,846.755 810.406,846.345 817.141,845.977 823.876,845.651 830.611,845.367 837.347,845.123 844.082,844.921 850.817,844.76 857.552,844.638 864.287,844.557 871.022,844.515 877.758,844.512 884.493,844.548 891.228,844.623 897.963,844.735 904.698,844.886 911.433,845.073 918.168,845.298 924.904,845.56 931.639,845.857 938.374,846.191 945.109,846.561 951.844,846.965 958.579,847.405 965.314,847.879 972.05,848.388 978.785,848.93 985.52,849.506 992.255,850.115 998.99,850.756 1005.73,851.431 1012.46,852.137 1019.2,852.875 1025.93,853.644 1032.67,854.444 1039.4,855.275 1046.14,856.137 1052.87,857.028 1059.61,857.949 1066.34,858.899 1073.08,859.878 1079.81,860.885 1086.55,861.921 1093.28,862.984 1100.02,864.075 1106.75,865.193 1113.49,866.337 1120.22,867.508 1126.96,868.705 1133.69,869.928 1140.43,871.176 1147.16,872.449 1153.9,873.746 1160.63,875.068 1167.37,876.413 1174.1,877.782 1180.84,879.175 1187.57,880.589 1194.31,882.027 1201.04,883.486 1207.78,884.967 1214.52,886.47 1221.25,887.993 1227.99,889.537 1234.72,891.101 1241.46,892.686 1248.19,894.289 1254.93,895.912 1261.66,897.554 1268.4,899.214 1275.13,900.892 1281.87,902.588 1288.6,904.301 1295.34,906.031 1302.07,907.778 1308.81,909.541 1315.54,911.32 1322.28,913.115 1329.01,914.924 1335.75,916.749 1342.48,918.588 1349.22,920.441 1355.95,922.307 1362.69,924.187 1369.42,926.08 1376.16,927.986 1382.89,929.904 1389.63,931.833 1396.36,933.775 1403.1,935.727 1409.83,937.69 1416.57,939.663 1423.3,941.647 1430.04,943.64 1436.78,945.642 1443.51,947.654 1450.25,949.673 1456.98,951.701 1463.72,953.737 1470.45,955.78 1477.19,957.831 1483.92,959.887 1490.66,961.951 1497.39,964.02 1504.13,966.095 1510.86,968.174 1517.6,970.259 1524.33,972.348 1531.07,974.441 1537.8,976.538 1544.54,978.638 1551.27,980.742 1558.01,982.847 1564.74,984.955 1571.48,987.065 1578.21,989.176 1584.95,991.288 1591.68,993.4 1598.42,995.513 1605.15,997.626 1611.89,999.739 1618.62,1001.85 1625.36,1003.96 1632.09,1006.07 1638.83,1008.18 1645.56,1010.28 1652.3,1012.38 1659.04,1014.48 1665.77,1016.57 1672.51,1018.67 1679.24,1020.75 1685.98,1022.83 1692.71,1024.91 1699.45,1026.98 1706.18,1029.05 1712.92,1031.11 1719.65,1033.16 1726.39,1035.21 1733.12,1037.24 1739.86,1039.27 1746.59,1041.3 1753.33,1043.31 1760.06,1045.31 1766.8,1047.31 1773.53,1049.3 1780.27,1051.27 1787,1053.24 1793.74,1055.19 1800.47,1057.13 1807.21,1059.06 1813.94,1060.98 1820.68,1062.89 1827.41,1064.78 1834.15,1066.66 1840.88,1068.53 1847.62,1070.38 1854.35,1072.22 1861.09,1074.04 1867.82,1075.85 1874.56,1077.64 1881.3,1079.42 1888.03,1081.18 1894.77,1082.92 1901.5,1084.64 1908.24,1086.35 1914.97,1088.04 1921.71,1089.71 1928.44,1091.36 1935.18,1093 1941.91,1094.61 1948.65,1096.2 1955.38,1097.78 1962.12,1099.33 1968.85,1100.86 1975.59,1102.37 1982.32,1103.85 1989.06,1105.32 1995.79,1106.76 2002.53,1108.17 2009.26,1109.57 2016,1110.94 2022.73,1112.28 2029.47,1113.6 2036.2,1114.9 2042.94,1116.17 2049.67,1117.41 2056.41,1118.63 2063.14,1119.81 2069.88,1120.98 2076.61,1122.11 2083.35,1123.21 2090.08,1124.29 2096.82,1125.34 2103.56,1126.36 2110.29,1127.34 2117.03,1128.3 2123.76,1129.23 2130.5,1130.12 2137.23,1130.99 2143.97,1131.82 2150.7,1132.62 2157.44,1133.39 2164.17,1134.12 2170.91,1134.82 2177.64,1135.48 2184.38,1136.12 2191.11,1136.71 2197.85,1137.27 2204.58,1137.8 2211.32,1138.29 2218.05,1138.74 2224.79,1139.15 2231.52,1139.53 2238.26,1139.87 2244.99,1140.17 2251.73,1140.43 2258.46,1140.65 2265.2,1140.84 2271.93,1140.98 2278.67,1141.08 2285.4,1141.15 2292.14,1141.17 \"/>\n",
       "<polyline clip-path=\"url(#clip562)\" style=\"stroke:#3da44d; stroke-linecap:round; stroke-linejoin:round; stroke-width:4; stroke-opacity:1; fill:none\" points=\"271.594,160.256 278.329,172.472 285.064,184.598 291.799,196.632 298.534,208.577 305.27,220.431 312.005,232.194 318.74,243.868 325.475,255.452 332.21,266.945 338.945,278.35 345.68,289.664 352.416,300.889 359.151,312.025 365.886,323.072 372.621,334.031 379.356,344.9 386.091,355.681 392.827,366.374 399.562,376.978 406.297,387.494 413.032,397.923 419.767,408.264 426.502,418.518 433.237,428.685 439.973,438.765 446.708,448.758 453.443,458.665 460.178,468.485 466.913,478.22 473.648,487.869 480.384,497.432 487.119,506.91 493.854,516.303 500.589,525.611 507.324,534.834 514.059,543.974 520.794,553.029 527.53,562.001 534.265,570.889 541,579.694 547.735,588.416 554.47,597.055 561.205,605.612 567.941,614.087 574.676,622.48 581.411,630.792 588.146,639.023 594.881,647.172 601.616,655.241 608.351,663.23 615.087,671.139 621.822,678.968 628.557,686.718 635.292,694.389 642.027,701.981 648.762,709.495 655.497,716.93 662.233,724.288 668.968,731.568 675.703,738.772 682.438,745.898 689.173,752.948 695.908,759.922 702.644,766.82 709.379,773.643 716.114,780.391 722.849,787.064 729.584,793.663 736.319,800.187 743.054,806.638 749.79,813.016 756.525,819.321 763.26,825.553 769.995,831.713 776.73,837.8 783.465,843.817 790.201,849.762 796.936,855.636 803.671,861.44 810.406,867.174 817.141,872.838 823.876,878.433 830.611,883.959 837.347,889.416 844.082,894.806 850.817,900.127 857.552,905.381 864.287,910.568 871.022,915.688 877.758,920.741 884.493,925.729 891.228,930.652 897.963,935.509 904.698,940.301 911.433,945.029 918.168,949.693 924.904,954.293 931.639,958.831 938.374,963.305 945.109,967.717 951.844,972.067 958.579,976.355 965.314,980.582 972.05,984.748 978.785,988.854 985.52,992.9 992.255,996.886 998.99,1000.81 1005.73,1004.68 1012.46,1008.49 1019.2,1012.24 1025.93,1015.93 1032.67,1019.57 1039.4,1023.15 1046.14,1026.67 1052.87,1030.14 1059.61,1033.55 1066.34,1036.91 1073.08,1040.21 1079.81,1043.46 1086.55,1046.65 1093.28,1049.79 1100.02,1052.88 1106.75,1055.91 1113.49,1058.89 1120.22,1061.82 1126.96,1064.7 1133.69,1067.52 1140.43,1070.3 1147.16,1073.02 1153.9,1075.7 1160.63,1078.32 1167.37,1080.9 1174.1,1083.43 1180.84,1085.91 1187.57,1088.34 1194.31,1090.72 1201.04,1093.06 1207.78,1095.35 1214.52,1097.59 1221.25,1099.79 1227.99,1101.94 1234.72,1104.05 1241.46,1106.11 1248.19,1108.13 1254.93,1110.11 1261.66,1112.04 1268.4,1113.93 1275.13,1115.78 1281.87,1117.58 1288.6,1119.34 1295.34,1121.06 1302.07,1122.74 1308.81,1124.38 1315.54,1125.98 1322.28,1127.54 1329.01,1129.06 1335.75,1130.54 1342.48,1131.98 1349.22,1133.39 1355.95,1134.76 1362.69,1136.09 1369.42,1137.38 1376.16,1138.64 1382.89,1139.86 1389.63,1141.04 1396.36,1142.19 1403.1,1143.31 1409.83,1144.39 1416.57,1145.43 1423.3,1146.45 1430.04,1147.43 1436.78,1148.38 1443.51,1149.29 1450.25,1150.17 1456.98,1151.02 1463.72,1151.84 1470.45,1152.63 1477.19,1153.39 1483.92,1154.12 1490.66,1154.82 1497.39,1155.49 1504.13,1156.13 1510.86,1156.75 1517.6,1157.33 1524.33,1157.89 1531.07,1158.42 1537.8,1158.93 1544.54,1159.41 1551.27,1159.86 1558.01,1160.28 1564.74,1160.69 1571.48,1161.06 1578.21,1161.42 1584.95,1161.74 1591.68,1162.05 1598.42,1162.33 1605.15,1162.59 1611.89,1162.83 1618.62,1163.04 1625.36,1163.24 1632.09,1163.41 1638.83,1163.56 1645.56,1163.69 1652.3,1163.81 1659.04,1163.9 1665.77,1163.97 1672.51,1164.03 1679.24,1164.06 1685.98,1164.08 1692.71,1164.08 1699.45,1164.06 1706.18,1164.03 1712.92,1163.98 1719.65,1163.92 1726.39,1163.83 1733.12,1163.74 1739.86,1163.63 1746.59,1163.5 1753.33,1163.36 1760.06,1163.21 1766.8,1163.04 1773.53,1162.86 1780.27,1162.67 1787,1162.47 1793.74,1162.25 1800.47,1162.03 1807.21,1161.79 1813.94,1161.54 1820.68,1161.28 1827.41,1161.02 1834.15,1160.74 1840.88,1160.45 1847.62,1160.16 1854.35,1159.86 1861.09,1159.55 1867.82,1159.23 1874.56,1158.91 1881.3,1158.57 1888.03,1158.24 1894.77,1157.89 1901.5,1157.55 1908.24,1157.19 1914.97,1156.83 1921.71,1156.47 1928.44,1156.11 1935.18,1155.74 1941.91,1155.36 1948.65,1154.99 1955.38,1154.61 1962.12,1154.23 1968.85,1153.85 1975.59,1153.46 1982.32,1153.08 1989.06,1152.7 1995.79,1152.31 2002.53,1151.93 2009.26,1151.55 2016,1151.16 2022.73,1150.78 2029.47,1150.4 2036.2,1150.03 2042.94,1149.65 2049.67,1149.28 2056.41,1148.92 2063.14,1148.55 2069.88,1148.19 2076.61,1147.84 2083.35,1147.49 2090.08,1147.14 2096.82,1146.81 2103.56,1146.47 2110.29,1146.15 2117.03,1145.83 2123.76,1145.51 2130.5,1145.21 2137.23,1144.91 2143.97,1144.62 2150.7,1144.35 2157.44,1144.07 2164.17,1143.81 2170.91,1143.56 2177.64,1143.32 2184.38,1143.09 2191.11,1142.87 2197.85,1142.66 2204.58,1142.47 2211.32,1142.29 2218.05,1142.11 2224.79,1141.96 2231.52,1141.81 2238.26,1141.68 2244.99,1141.56 2251.73,1141.46 2258.46,1141.37 2265.2,1141.3 2271.93,1141.24 2278.67,1141.2 2285.4,1141.18 2292.14,1141.17 \"/>\n",
       "<polyline clip-path=\"url(#clip562)\" style=\"stroke:#c271d2; stroke-linecap:round; stroke-linejoin:round; stroke-width:4; stroke-opacity:1; fill:none\" stroke-dasharray=\"16, 10\" points=\"271.594,1288.3 278.329,1286.64 285.064,1284.98 291.799,1283.33 298.534,1281.69 305.27,1280.06 312.005,1278.43 318.74,1276.81 325.475,1275.2 332.21,1273.6 338.945,1272 345.68,1270.41 352.416,1268.83 359.151,1267.26 365.886,1265.7 372.621,1264.14 379.356,1262.59 386.091,1261.05 392.827,1259.51 399.562,1257.98 406.297,1256.47 413.032,1254.95 419.767,1253.45 426.502,1251.95 433.237,1250.46 439.973,1248.98 446.708,1247.51 453.443,1246.04 460.178,1244.58 466.913,1243.13 473.648,1241.69 480.384,1240.26 487.119,1238.83 493.854,1237.41 500.589,1236 507.324,1234.59 514.059,1233.19 520.794,1231.8 527.53,1230.42 534.265,1229.05 541,1227.68 547.735,1226.32 554.47,1224.97 561.205,1223.63 567.941,1222.29 574.676,1220.96 581.411,1219.64 588.146,1218.33 594.881,1217.02 601.616,1215.72 608.351,1214.43 615.087,1213.15 621.822,1211.88 628.557,1210.61 635.292,1209.35 642.027,1208.1 648.762,1206.85 655.497,1205.62 662.233,1204.39 668.968,1203.17 675.703,1201.95 682.438,1200.75 689.173,1199.55 695.908,1198.36 702.644,1197.17 709.379,1196 716.114,1194.83 722.849,1193.67 729.584,1192.52 736.319,1191.37 743.054,1190.23 749.79,1189.11 756.525,1187.98 763.26,1186.87 769.995,1185.76 776.73,1184.66 783.465,1183.57 790.201,1182.49 796.936,1181.41 803.671,1180.34 810.406,1179.28 817.141,1178.23 823.876,1177.18 830.611,1176.15 837.347,1175.12 844.082,1174.09 850.817,1173.08 857.552,1172.07 864.287,1171.07 871.022,1170.08 877.758,1169.1 884.493,1168.12 891.228,1167.15 897.963,1166.19 904.698,1165.24 911.433,1164.29 918.168,1163.36 924.904,1162.43 931.639,1161.5 938.374,1160.59 945.109,1159.68 951.844,1158.78 958.579,1157.89 965.314,1157.01 972.05,1156.13 978.785,1155.26 985.52,1154.4 992.255,1153.55 998.99,1152.71 1005.73,1151.87 1012.46,1151.04 1019.2,1150.22 1025.93,1149.4 1032.67,1148.6 1039.4,1147.8 1046.14,1147.01 1052.87,1146.22 1059.61,1145.45 1066.34,1144.68 1073.08,1143.92 1079.81,1143.17 1086.55,1142.43 1093.28,1141.69 1100.02,1140.96 1106.75,1140.24 1113.49,1139.53 1120.22,1138.82 1126.96,1138.12 1133.69,1137.43 1140.43,1136.75 1147.16,1136.08 1153.9,1135.41 1160.63,1134.75 1167.37,1134.1 1174.1,1133.46 1180.84,1132.83 1187.57,1132.2 1194.31,1131.58 1201.04,1130.97 1207.78,1130.36 1214.52,1129.77 1221.25,1129.18 1227.99,1128.6 1234.72,1128.03 1241.46,1127.46 1248.19,1126.91 1254.93,1126.36 1261.66,1125.82 1268.4,1125.29 1275.13,1124.76 1281.87,1124.25 1288.6,1123.74 1295.34,1123.24 1302.07,1122.74 1308.81,1122.26 1315.54,1121.78 1322.28,1121.31 1329.01,1120.85 1335.75,1120.4 1342.48,1119.95 1349.22,1119.52 1355.95,1119.09 1362.69,1118.67 1369.42,1118.25 1376.16,1117.85 1382.89,1117.45 1389.63,1117.06 1396.36,1116.68 1403.1,1116.31 1409.83,1115.94 1416.57,1115.58 1423.3,1115.24 1430.04,1114.89 1436.78,1114.56 1443.51,1114.24 1450.25,1113.92 1456.98,1113.61 1463.72,1113.31 1470.45,1113.02 1477.19,1112.74 1483.92,1112.46 1490.66,1112.19 1497.39,1111.93 1504.13,1111.68 1510.86,1111.44 1517.6,1111.2 1524.33,1110.98 1531.07,1110.76 1537.8,1110.55 1544.54,1110.34 1551.27,1110.15 1558.01,1109.96 1564.74,1109.79 1571.48,1109.62 1578.21,1109.45 1584.95,1109.3 1591.68,1109.16 1598.42,1109.02 1605.15,1108.89 1611.89,1108.77 1618.62,1108.66 1625.36,1108.56 1632.09,1108.46 1638.83,1108.38 1645.56,1108.3 1652.3,1108.23 1659.04,1108.17 1665.77,1108.11 1672.51,1108.07 1679.24,1108.03 1685.98,1108 1692.71,1107.98 1699.45,1107.97 1706.18,1107.97 1712.92,1107.98 1719.65,1107.99 1726.39,1108.01 1733.12,1108.04 1739.86,1108.08 1746.59,1108.13 1753.33,1108.19 1760.06,1108.25 1766.8,1108.33 1773.53,1108.41 1780.27,1108.5 1787,1108.6 1793.74,1108.71 1800.47,1108.82 1807.21,1108.95 1813.94,1109.08 1820.68,1109.22 1827.41,1109.37 1834.15,1109.53 1840.88,1109.7 1847.62,1109.88 1854.35,1110.06 1861.09,1110.26 1867.82,1110.46 1874.56,1110.67 1881.3,1110.89 1888.03,1111.12 1894.77,1111.36 1901.5,1111.6 1908.24,1111.86 1914.97,1112.12 1921.71,1112.4 1928.44,1112.68 1935.18,1112.97 1941.91,1113.27 1948.65,1113.57 1955.38,1113.89 1962.12,1114.22 1968.85,1114.55 1975.59,1114.89 1982.32,1115.24 1989.06,1115.61 1995.79,1115.98 2002.53,1116.35 2009.26,1116.74 2016,1117.14 2022.73,1117.54 2029.47,1117.96 2036.2,1118.38 2042.94,1118.81 2049.67,1119.25 2056.41,1119.7 2063.14,1120.16 2069.88,1120.63 2076.61,1121.11 2083.35,1121.59 2090.08,1122.09 2096.82,1122.59 2103.56,1123.1 2110.29,1123.63 2117.03,1124.16 2123.76,1124.7 2130.5,1125.25 2137.23,1125.8 2143.97,1126.37 2150.7,1126.95 2157.44,1127.53 2164.17,1128.13 2170.91,1128.73 2177.64,1129.34 2184.38,1129.97 2191.11,1130.6 2197.85,1131.24 2204.58,1131.89 2211.32,1132.55 2218.05,1133.21 2224.79,1133.89 2231.52,1134.58 2238.26,1135.27 2244.99,1135.98 2251.73,1136.69 2258.46,1137.41 2265.2,1138.15 2271.93,1138.89 2278.67,1139.64 2285.4,1140.4 2292.14,1141.17 \"/>\n",
       "<polyline clip-path=\"url(#clip562)\" style=\"stroke:#ac8d18; stroke-linecap:round; stroke-linejoin:round; stroke-width:4; stroke-opacity:1; fill:none\" stroke-dasharray=\"16, 10\" points=\"271.594,1043.08 278.329,1044.48 285.064,1045.88 291.799,1047.28 298.534,1048.66 305.27,1050.04 312.005,1051.41 318.74,1052.78 325.475,1054.13 332.21,1055.48 338.945,1056.83 345.68,1058.16 352.416,1059.49 359.151,1060.82 365.886,1062.13 372.621,1063.44 379.356,1064.74 386.091,1066.04 392.827,1067.32 399.562,1068.6 406.297,1069.88 413.032,1071.14 419.767,1072.4 426.502,1073.65 433.237,1074.9 439.973,1076.14 446.708,1077.37 453.443,1078.59 460.178,1079.81 466.913,1081.02 473.648,1082.22 480.384,1083.42 487.119,1084.61 493.854,1085.79 500.589,1086.96 507.324,1088.13 514.059,1089.29 520.794,1090.44 527.53,1091.59 534.265,1092.73 541,1093.86 547.735,1094.99 554.47,1096.11 561.205,1097.22 567.941,1098.32 574.676,1099.42 581.411,1100.51 588.146,1101.59 594.881,1102.67 601.616,1103.74 608.351,1104.8 615.087,1105.85 621.822,1106.9 628.557,1107.94 635.292,1108.98 642.027,1110 648.762,1111.02 655.497,1112.04 662.233,1113.04 668.968,1114.04 675.703,1115.03 682.438,1116.02 689.173,1117 695.908,1117.97 702.644,1118.93 709.379,1119.89 716.114,1120.83 722.849,1121.78 729.584,1122.71 736.319,1123.64 743.054,1124.56 749.79,1125.48 756.525,1126.38 763.26,1127.28 769.995,1128.18 776.73,1129.06 783.465,1129.94 790.201,1130.81 796.936,1131.68 803.671,1132.53 810.406,1133.39 817.141,1134.23 823.876,1135.06 830.611,1135.89 837.347,1136.72 844.082,1137.53 850.817,1138.34 857.552,1139.14 864.287,1139.94 871.022,1140.72 877.758,1141.5 884.493,1142.27 891.228,1143.04 897.963,1143.8 904.698,1144.55 911.433,1145.3 918.168,1146.03 924.904,1146.76 931.639,1147.49 938.374,1148.2 945.109,1148.91 951.844,1149.61 958.579,1150.31 965.314,1151 972.05,1151.68 978.785,1152.35 985.52,1153.02 992.255,1153.68 998.99,1154.33 1005.73,1154.97 1012.46,1155.61 1019.2,1156.24 1025.93,1156.87 1032.67,1157.48 1039.4,1158.09 1046.14,1158.69 1052.87,1159.29 1059.61,1159.88 1066.34,1160.46 1073.08,1161.03 1079.81,1161.6 1086.55,1162.16 1093.28,1162.71 1100.02,1163.26 1106.75,1163.79 1113.49,1164.33 1120.22,1164.85 1126.96,1165.37 1133.69,1165.88 1140.43,1166.38 1147.16,1166.87 1153.9,1167.36 1160.63,1167.84 1167.37,1168.31 1174.1,1168.78 1180.84,1169.24 1187.57,1169.69 1194.31,1170.14 1201.04,1170.57 1207.78,1171 1214.52,1171.43 1221.25,1171.84 1227.99,1172.25 1234.72,1172.65 1241.46,1173.05 1248.19,1173.43 1254.93,1173.81 1261.66,1174.19 1268.4,1174.55 1275.13,1174.91 1281.87,1175.26 1288.6,1175.6 1295.34,1175.94 1302.07,1176.27 1308.81,1176.59 1315.54,1176.9 1322.28,1177.21 1329.01,1177.51 1335.75,1177.8 1342.48,1178.09 1349.22,1178.37 1355.95,1178.64 1362.69,1178.9 1369.42,1179.15 1376.16,1179.4 1382.89,1179.64 1389.63,1179.88 1396.36,1180.1 1403.1,1180.32 1409.83,1180.53 1416.57,1180.74 1423.3,1180.93 1430.04,1181.12 1436.78,1181.31 1443.51,1181.48 1450.25,1181.65 1456.98,1181.81 1463.72,1181.96 1470.45,1182.1 1477.19,1182.24 1483.92,1182.37 1490.66,1182.49 1497.39,1182.61 1504.13,1182.72 1510.86,1182.82 1517.6,1182.91 1524.33,1182.99 1531.07,1183.07 1537.8,1183.14 1544.54,1183.2 1551.27,1183.26 1558.01,1183.3 1564.74,1183.34 1571.48,1183.38 1578.21,1183.4 1584.95,1183.42 1591.68,1183.43 1598.42,1183.43 1605.15,1183.42 1611.89,1183.41 1618.62,1183.39 1625.36,1183.36 1632.09,1183.32 1638.83,1183.28 1645.56,1183.23 1652.3,1183.17 1659.04,1183.1 1665.77,1183.03 1672.51,1182.94 1679.24,1182.85 1685.98,1182.76 1692.71,1182.65 1699.45,1182.54 1706.18,1182.42 1712.92,1182.29 1719.65,1182.15 1726.39,1182.01 1733.12,1181.86 1739.86,1181.7 1746.59,1181.53 1753.33,1181.35 1760.06,1181.17 1766.8,1180.98 1773.53,1180.78 1780.27,1180.57 1787,1180.36 1793.74,1180.14 1800.47,1179.91 1807.21,1179.67 1813.94,1179.42 1820.68,1179.17 1827.41,1178.9 1834.15,1178.63 1840.88,1178.36 1847.62,1178.07 1854.35,1177.78 1861.09,1177.48 1867.82,1177.17 1874.56,1176.85 1881.3,1176.52 1888.03,1176.19 1894.77,1175.85 1901.5,1175.5 1908.24,1175.14 1914.97,1174.77 1921.71,1174.4 1928.44,1174.02 1935.18,1173.63 1941.91,1173.23 1948.65,1172.82 1955.38,1172.41 1962.12,1171.99 1968.85,1171.56 1975.59,1171.12 1982.32,1170.67 1989.06,1170.22 1995.79,1169.75 2002.53,1169.28 2009.26,1168.8 2016,1168.32 2022.73,1167.82 2029.47,1167.32 2036.2,1166.8 2042.94,1166.28 2049.67,1165.76 2056.41,1165.22 2063.14,1164.67 2069.88,1164.12 2076.61,1163.56 2083.35,1162.99 2090.08,1162.41 2096.82,1161.82 2103.56,1161.23 2110.29,1160.63 2117.03,1160.01 2123.76,1159.39 2130.5,1158.77 2137.23,1158.13 2143.97,1157.48 2150.7,1156.83 2157.44,1156.17 2164.17,1155.5 2170.91,1154.82 2177.64,1154.13 2184.38,1153.44 2191.11,1152.74 2197.85,1152.02 2204.58,1151.3 2211.32,1150.57 2218.05,1149.84 2224.79,1149.09 2231.52,1148.34 2238.26,1147.57 2244.99,1146.8 2251.73,1146.02 2258.46,1145.24 2265.2,1144.44 2271.93,1143.63 2278.67,1142.82 2285.4,1142 2292.14,1141.17 \"/>\n",
       "<polyline clip-path=\"url(#clip562)\" style=\"stroke:#00a9ad; stroke-linecap:round; stroke-linejoin:round; stroke-width:4; stroke-opacity:1; fill:none\" stroke-dasharray=\"16, 10\" points=\"271.594,1386.4 278.329,1384.58 285.064,1382.77 291.799,1380.96 298.534,1379.15 305.27,1377.34 312.005,1375.54 318.74,1373.74 325.475,1371.94 332.21,1370.15 338.945,1368.35 345.68,1366.57 352.416,1364.78 359.151,1363 365.886,1361.22 372.621,1359.44 379.356,1357.67 386.091,1355.9 392.827,1354.14 399.562,1352.38 406.297,1350.62 413.032,1348.87 419.767,1347.12 426.502,1345.37 433.237,1343.63 439.973,1341.9 446.708,1340.17 453.443,1338.44 460.178,1336.72 466.913,1335 473.648,1333.29 480.384,1331.58 487.119,1329.87 493.854,1328.18 500.589,1326.48 507.324,1324.8 514.059,1323.11 520.794,1321.44 527.53,1319.76 534.265,1318.1 541,1316.44 547.735,1314.78 554.47,1313.13 561.205,1311.49 567.941,1309.85 574.676,1308.22 581.411,1306.59 588.146,1304.97 594.881,1303.35 601.616,1301.75 608.351,1300.14 615.087,1298.55 621.822,1296.96 628.557,1295.37 635.292,1293.79 642.027,1292.22 648.762,1290.66 655.497,1289.1 662.233,1287.55 668.968,1286 675.703,1284.46 682.438,1282.93 689.173,1281.41 695.908,1279.89 702.644,1278.38 709.379,1276.87 716.114,1275.37 722.849,1273.88 729.584,1272.4 736.319,1270.92 743.054,1269.45 749.79,1267.99 756.525,1266.53 763.26,1265.08 769.995,1263.64 776.73,1262.21 783.465,1260.78 790.201,1259.36 796.936,1257.95 803.671,1256.54 810.406,1255.15 817.141,1253.76 823.876,1252.37 830.611,1251 837.347,1249.63 844.082,1248.27 850.817,1246.92 857.552,1245.57 864.287,1244.23 871.022,1242.9 877.758,1241.58 884.493,1240.27 891.228,1238.96 897.963,1237.66 904.698,1236.37 911.433,1235.09 918.168,1233.81 924.904,1232.54 931.639,1231.28 938.374,1230.03 945.109,1228.78 951.844,1227.55 958.579,1226.32 965.314,1225.1 972.05,1223.88 978.785,1222.68 985.52,1221.48 992.255,1220.29 998.99,1219.11 1005.73,1217.94 1012.46,1216.77 1019.2,1215.62 1025.93,1214.47 1032.67,1213.33 1039.4,1212.19 1046.14,1211.07 1052.87,1209.95 1059.61,1208.84 1066.34,1207.74 1073.08,1206.65 1079.81,1205.56 1086.55,1204.49 1093.28,1203.42 1100.02,1202.36 1106.75,1201.31 1113.49,1200.26 1120.22,1199.23 1126.96,1198.2 1133.69,1197.18 1140.43,1196.17 1147.16,1195.17 1153.9,1194.17 1160.63,1193.19 1167.37,1192.21 1174.1,1191.24 1180.84,1190.27 1187.57,1189.32 1194.31,1188.37 1201.04,1187.44 1207.78,1186.51 1214.52,1185.59 1221.25,1184.67 1227.99,1183.77 1234.72,1182.87 1241.46,1181.98 1248.19,1181.1 1254.93,1180.23 1261.66,1179.37 1268.4,1178.51 1275.13,1177.67 1281.87,1176.83 1288.6,1176 1295.34,1175.17 1302.07,1174.36 1308.81,1173.55 1315.54,1172.75 1322.28,1171.96 1329.01,1171.18 1335.75,1170.41 1342.48,1169.64 1349.22,1168.89 1355.95,1168.14 1362.69,1167.4 1369.42,1166.66 1376.16,1165.94 1382.89,1165.22 1389.63,1164.52 1396.36,1163.82 1403.1,1163.12 1409.83,1162.44 1416.57,1161.76 1423.3,1161.1 1430.04,1160.44 1436.78,1159.79 1443.51,1159.14 1450.25,1158.51 1456.98,1157.88 1463.72,1157.26 1470.45,1156.65 1477.19,1156.05 1483.92,1155.46 1490.66,1154.87 1497.39,1154.29 1504.13,1153.72 1510.86,1153.16 1517.6,1152.6 1524.33,1152.06 1531.07,1151.52 1537.8,1150.99 1544.54,1150.47 1551.27,1149.95 1558.01,1149.45 1564.74,1148.95 1571.48,1148.46 1578.21,1147.98 1584.95,1147.51 1591.68,1147.04 1598.42,1146.58 1605.15,1146.13 1611.89,1145.69 1618.62,1145.26 1625.36,1144.83 1632.09,1144.41 1638.83,1144 1645.56,1143.6 1652.3,1143.21 1659.04,1142.82 1665.77,1142.44 1672.51,1142.07 1679.24,1141.71 1685.98,1141.35 1692.71,1141.01 1699.45,1140.67 1706.18,1140.34 1712.92,1140.01 1719.65,1139.7 1726.39,1139.39 1733.12,1139.09 1739.86,1138.8 1746.59,1138.52 1753.33,1138.24 1760.06,1137.97 1766.8,1137.71 1773.53,1137.46 1780.27,1137.22 1787,1136.98 1793.74,1136.75 1800.47,1136.53 1807.21,1136.32 1813.94,1136.11 1820.68,1135.91 1827.41,1135.72 1834.15,1135.54 1840.88,1135.37 1847.62,1135.2 1854.35,1135.04 1861.09,1134.89 1867.82,1134.75 1874.56,1134.61 1881.3,1134.48 1888.03,1134.36 1894.77,1134.25 1901.5,1134.15 1908.24,1134.05 1914.97,1133.96 1921.71,1133.88 1928.44,1133.8 1935.18,1133.74 1941.91,1133.68 1948.65,1133.63 1955.38,1133.58 1962.12,1133.55 1968.85,1133.52 1975.59,1133.5 1982.32,1133.49 1989.06,1133.48 1995.79,1133.49 2002.53,1133.5 2009.26,1133.52 2016,1133.54 2022.73,1133.58 2029.47,1133.62 2036.2,1133.67 2042.94,1133.72 2049.67,1133.79 2056.41,1133.86 2063.14,1133.94 2069.88,1134.02 2076.61,1134.12 2083.35,1134.22 2090.08,1134.33 2096.82,1134.45 2103.56,1134.57 2110.29,1134.71 2117.03,1134.85 2123.76,1135 2130.5,1135.15 2137.23,1135.32 2143.97,1135.49 2150.7,1135.67 2157.44,1135.85 2164.17,1136.05 2170.91,1136.25 2177.64,1136.46 2184.38,1136.67 2191.11,1136.9 2197.85,1137.13 2204.58,1137.37 2211.32,1137.62 2218.05,1137.87 2224.79,1138.13 2231.52,1138.4 2238.26,1138.68 2244.99,1138.97 2251.73,1139.26 2258.46,1139.56 2265.2,1139.87 2271.93,1140.18 2278.67,1140.51 2285.4,1140.84 2292.14,1141.18 \"/>\n",
       "<path clip-path=\"url(#clip560)\" d=\"M2023.9 529.676 L2281.36 529.676 L2281.36 166.796 L2023.9 166.796  Z\" fill=\"#ffffff\" fill-rule=\"evenodd\" fill-opacity=\"1\"/>\n",
       "<polyline clip-path=\"url(#clip560)\" style=\"stroke:#000000; stroke-linecap:round; stroke-linejoin:round; stroke-width:4; stroke-opacity:1; fill:none\" points=\"2023.9,529.676 2281.36,529.676 2281.36,166.796 2023.9,166.796 2023.9,529.676 \"/>\n",
       "<polyline clip-path=\"url(#clip560)\" style=\"stroke:#009af9; stroke-linecap:round; stroke-linejoin:round; stroke-width:4; stroke-opacity:1; fill:none\" points=\"2047.7,218.636 2190.48,218.636 \"/>\n",
       "<path clip-path=\"url(#clip560)\" d=\"M2238.93 209.99 L2229.56 222.606 L2239.42 235.916 L2234.39 235.916 L2226.85 225.731 L2219.3 235.916 L2214.28 235.916 L2224.35 222.351 L2215.14 209.99 L2220.16 209.99 L2227.03 219.226 L2233.91 209.99 L2238.93 209.99 Z\" fill=\"#000000\" fill-rule=\"evenodd\" fill-opacity=\"1\" /><path clip-path=\"url(#clip560)\" d=\"M2244.58 233.369 L2249.3 233.369 L2249.3 219.226 L2244.14 220.175 L2244.14 217.49 L2249.46 216.587 L2252.64 216.587 L2252.64 233.369 L2257.38 233.369 L2257.38 235.916 L2244.58 235.916 L2244.58 233.369 Z\" fill=\"#000000\" fill-rule=\"evenodd\" fill-opacity=\"1\" /><polyline clip-path=\"url(#clip560)\" style=\"stroke:#e26f46; stroke-linecap:round; stroke-linejoin:round; stroke-width:4; stroke-opacity:1; fill:none\" points=\"2047.7,270.476 2190.48,270.476 \"/>\n",
       "<path clip-path=\"url(#clip560)\" d=\"M2238.93 261.83 L2229.56 274.446 L2239.42 287.756 L2234.39 287.756 L2226.85 277.571 L2219.3 287.756 L2214.28 287.756 L2224.35 274.191 L2215.14 261.83 L2220.16 261.83 L2227.03 271.066 L2233.91 261.83 L2238.93 261.83 Z\" fill=\"#000000\" fill-rule=\"evenodd\" fill-opacity=\"1\" /><path clip-path=\"url(#clip560)\" d=\"M2247.17 285.117 L2256.99 285.117 L2256.99 287.756 L2243.14 287.756 L2243.14 285.209 Q2243.93 284.492 2245.39 283.196 Q2253.35 276.135 2253.35 273.959 Q2253.35 272.432 2252.15 271.506 Q2250.95 270.557 2248.98 270.557 Q2247.77 270.557 2246.36 270.973 Q2244.95 271.367 2243.28 272.177 L2243.28 269.33 Q2245.07 268.682 2246.59 268.358 Q2248.14 268.034 2249.46 268.034 Q2252.82 268.034 2254.83 269.561 Q2256.85 271.089 2256.85 273.589 Q2256.85 276.807 2249.19 283.381 Q2247.89 284.492 2247.17 285.117 Z\" fill=\"#000000\" fill-rule=\"evenodd\" fill-opacity=\"1\" /><polyline clip-path=\"url(#clip560)\" style=\"stroke:#3da44d; stroke-linecap:round; stroke-linejoin:round; stroke-width:4; stroke-opacity:1; fill:none\" points=\"2047.7,322.316 2190.48,322.316 \"/>\n",
       "<path clip-path=\"url(#clip560)\" d=\"M2238.93 313.67 L2229.56 326.286 L2239.42 339.596 L2234.39 339.596 L2226.85 329.411 L2219.3 339.596 L2214.28 339.596 L2224.35 326.031 L2215.14 313.67 L2220.16 313.67 L2227.03 322.906 L2233.91 313.67 L2238.93 313.67 Z\" fill=\"#000000\" fill-rule=\"evenodd\" fill-opacity=\"1\" /><path clip-path=\"url(#clip560)\" d=\"M2253.1 329.133 Q2255.23 329.549 2256.39 330.823 Q2257.57 332.073 2257.57 333.971 Q2257.57 336.841 2255.37 338.392 Q2253.17 339.943 2249.07 339.943 Q2247.75 339.943 2246.29 339.688 Q2244.86 339.457 2243.24 338.994 L2243.24 336.193 Q2244.44 336.818 2245.81 337.119 Q2247.2 337.42 2248.75 337.42 Q2251.27 337.42 2252.66 336.517 Q2254.05 335.591 2254.05 333.971 Q2254.05 332.258 2252.75 331.378 Q2251.48 330.499 2248.98 330.499 L2246.99 330.499 L2246.99 327.999 L2249.16 327.999 Q2251.34 327.999 2252.45 327.281 Q2253.58 326.54 2253.58 325.151 Q2253.58 323.809 2252.43 323.114 Q2251.27 322.397 2249.07 322.397 Q2248.14 322.397 2246.96 322.605 Q2245.78 322.813 2243.91 323.346 L2243.91 320.684 Q2245.6 320.29 2247.08 320.082 Q2248.56 319.874 2249.83 319.874 Q2253.17 319.874 2255.11 321.239 Q2257.08 322.605 2257.08 324.897 Q2257.08 326.494 2256.04 327.605 Q2255 328.716 2253.1 329.133 Z\" fill=\"#000000\" fill-rule=\"evenodd\" fill-opacity=\"1\" /><polyline clip-path=\"url(#clip560)\" style=\"stroke:#c271d2; stroke-linecap:round; stroke-linejoin:round; stroke-width:4; stroke-opacity:1; fill:none\" stroke-dasharray=\"16, 10\" points=\"2047.7,374.156 2190.48,374.156 \"/>\n",
       "<path clip-path=\"url(#clip560)\" d=\"M2238.93 365.51 L2229.56 378.126 L2239.42 391.436 L2234.39 391.436 L2226.85 381.251 L2219.3 391.436 L2214.28 391.436 L2224.35 377.871 L2215.14 365.51 L2220.16 365.51 L2227.03 374.746 L2233.91 365.51 L2238.93 365.51 Z\" fill=\"#000000\" fill-rule=\"evenodd\" fill-opacity=\"1\" /><path clip-path=\"url(#clip560)\" d=\"M2226.94 355.417 L2231.2 355.417 L2231.2 360.811 L2226.94 360.811 L2226.94 355.417 M2229.12 364.885 L2229.12 364.885 Z\" fill=\"#000000\" fill-rule=\"evenodd\" fill-opacity=\"1\" /><path clip-path=\"url(#clip560)\" d=\"M2244.58 388.889 L2249.3 388.889 L2249.3 374.746 L2244.14 375.695 L2244.14 373.01 L2249.46 372.107 L2252.64 372.107 L2252.64 388.889 L2257.38 388.889 L2257.38 391.436 L2244.58 391.436 L2244.58 388.889 Z\" fill=\"#000000\" fill-rule=\"evenodd\" fill-opacity=\"1\" /><polyline clip-path=\"url(#clip560)\" style=\"stroke:#ac8d18; stroke-linecap:round; stroke-linejoin:round; stroke-width:4; stroke-opacity:1; fill:none\" stroke-dasharray=\"16, 10\" points=\"2047.7,425.996 2190.48,425.996 \"/>\n",
       "<path clip-path=\"url(#clip560)\" d=\"M2238.93 417.35 L2229.56 429.966 L2239.42 443.276 L2234.39 443.276 L2226.85 433.091 L2219.3 443.276 L2214.28 443.276 L2224.35 429.711 L2215.14 417.35 L2220.16 417.35 L2227.03 426.586 L2233.91 417.35 L2238.93 417.35 Z\" fill=\"#000000\" fill-rule=\"evenodd\" fill-opacity=\"1\" /><path clip-path=\"url(#clip560)\" d=\"M2226.94 407.257 L2231.2 407.257 L2231.2 412.651 L2226.94 412.651 L2226.94 407.257 M2229.12 416.725 L2229.12 416.725 Z\" fill=\"#000000\" fill-rule=\"evenodd\" fill-opacity=\"1\" /><path clip-path=\"url(#clip560)\" d=\"M2247.17 440.637 L2256.99 440.637 L2256.99 443.276 L2243.14 443.276 L2243.14 440.729 Q2243.93 440.012 2245.39 438.716 Q2253.35 431.655 2253.35 429.479 Q2253.35 427.952 2252.15 427.026 Q2250.95 426.077 2248.98 426.077 Q2247.77 426.077 2246.36 426.493 Q2244.95 426.887 2243.28 427.697 L2243.28 424.85 Q2245.07 424.202 2246.59 423.878 Q2248.14 423.554 2249.46 423.554 Q2252.82 423.554 2254.83 425.081 Q2256.85 426.609 2256.85 429.109 Q2256.85 432.327 2249.19 438.901 Q2247.89 440.012 2247.17 440.637 Z\" fill=\"#000000\" fill-rule=\"evenodd\" fill-opacity=\"1\" /><polyline clip-path=\"url(#clip560)\" style=\"stroke:#00a9ad; stroke-linecap:round; stroke-linejoin:round; stroke-width:4; stroke-opacity:1; fill:none\" stroke-dasharray=\"16, 10\" points=\"2047.7,477.836 2190.48,477.836 \"/>\n",
       "<path clip-path=\"url(#clip560)\" d=\"M2238.93 469.19 L2229.56 481.806 L2239.42 495.116 L2234.39 495.116 L2226.85 484.931 L2219.3 495.116 L2214.28 495.116 L2224.35 481.551 L2215.14 469.19 L2220.16 469.19 L2227.03 478.426 L2233.91 469.19 L2238.93 469.19 Z\" fill=\"#000000\" fill-rule=\"evenodd\" fill-opacity=\"1\" /><path clip-path=\"url(#clip560)\" d=\"M2226.94 459.097 L2231.2 459.097 L2231.2 464.491 L2226.94 464.491 L2226.94 459.097 M2229.12 468.565 L2229.12 468.565 Z\" fill=\"#000000\" fill-rule=\"evenodd\" fill-opacity=\"1\" /><path clip-path=\"url(#clip560)\" d=\"M2253.1 484.653 Q2255.23 485.069 2256.39 486.343 Q2257.57 487.593 2257.57 489.491 Q2257.57 492.361 2255.37 493.912 Q2253.17 495.463 2249.07 495.463 Q2247.75 495.463 2246.29 495.208 Q2244.86 494.977 2243.24 494.514 L2243.24 491.713 Q2244.44 492.338 2245.81 492.639 Q2247.2 492.94 2248.75 492.94 Q2251.27 492.94 2252.66 492.037 Q2254.05 491.111 2254.05 489.491 Q2254.05 487.778 2252.75 486.898 Q2251.48 486.019 2248.98 486.019 L2246.99 486.019 L2246.99 483.519 L2249.16 483.519 Q2251.34 483.519 2252.45 482.801 Q2253.58 482.06 2253.58 480.671 Q2253.58 479.329 2252.43 478.634 Q2251.27 477.917 2249.07 477.917 Q2248.14 477.917 2246.96 478.125 Q2245.78 478.333 2243.91 478.866 L2243.91 476.204 Q2245.6 475.81 2247.08 475.602 Q2248.56 475.394 2249.83 475.394 Q2253.17 475.394 2255.11 476.759 Q2257.08 478.125 2257.08 480.417 Q2257.08 482.014 2256.04 483.125 Q2255 484.236 2253.1 484.653 Z\" fill=\"#000000\" fill-rule=\"evenodd\" fill-opacity=\"1\" /></svg>\n"
      ]
     },
     "metadata": {},
     "output_type": "display_data"
    },
    {
     "data": {
      "image/svg+xml": [
       "<?xml version=\"1.0\" encoding=\"utf-8\"?>\n",
       "<svg xmlns=\"http://www.w3.org/2000/svg\" xmlns:xlink=\"http://www.w3.org/1999/xlink\" width=\"600\" height=\"400\" viewBox=\"0 0 2400 1600\">\n",
       "<defs>\n",
       "  <clipPath id=\"clip600\">\n",
       "    <rect x=\"0\" y=\"0\" width=\"2400\" height=\"1600\"/>\n",
       "  </clipPath>\n",
       "</defs>\n",
       "<path clip-path=\"url(#clip600)\" d=\"M0 1600 L2400 1600 L2400 0 L0 0  Z\" fill=\"#ffffff\" fill-rule=\"evenodd\" fill-opacity=\"1\"/>\n",
       "<defs>\n",
       "  <clipPath id=\"clip601\">\n",
       "    <rect x=\"480\" y=\"0\" width=\"1681\" height=\"1600\"/>\n",
       "  </clipPath>\n",
       "</defs>\n",
       "<path clip-path=\"url(#clip600)\" d=\"M232.389 1423.18 L2352.76 1423.18 L2352.76 123.472 L232.389 123.472  Z\" fill=\"#ffffff\" fill-rule=\"evenodd\" fill-opacity=\"1\"/>\n",
       "<defs>\n",
       "  <clipPath id=\"clip602\">\n",
       "    <rect x=\"232\" y=\"123\" width=\"2121\" height=\"1301\"/>\n",
       "  </clipPath>\n",
       "</defs>\n",
       "<polyline clip-path=\"url(#clip602)\" style=\"stroke:#000000; stroke-linecap:round; stroke-linejoin:round; stroke-width:2; stroke-opacity:0.1; fill:none\" points=\"292.4,1423.18 292.4,123.472 \"/>\n",
       "<polyline clip-path=\"url(#clip602)\" style=\"stroke:#000000; stroke-linecap:round; stroke-linejoin:round; stroke-width:2; stroke-opacity:0.1; fill:none\" points=\"961.412,1423.18 961.412,123.472 \"/>\n",
       "<polyline clip-path=\"url(#clip602)\" style=\"stroke:#000000; stroke-linecap:round; stroke-linejoin:round; stroke-width:2; stroke-opacity:0.1; fill:none\" points=\"1630.42,1423.18 1630.42,123.472 \"/>\n",
       "<polyline clip-path=\"url(#clip602)\" style=\"stroke:#000000; stroke-linecap:round; stroke-linejoin:round; stroke-width:2; stroke-opacity:0.1; fill:none\" points=\"2299.44,1423.18 2299.44,123.472 \"/>\n",
       "<polyline clip-path=\"url(#clip600)\" style=\"stroke:#000000; stroke-linecap:round; stroke-linejoin:round; stroke-width:4; stroke-opacity:1; fill:none\" points=\"232.389,1423.18 2352.76,1423.18 \"/>\n",
       "<polyline clip-path=\"url(#clip600)\" style=\"stroke:#000000; stroke-linecap:round; stroke-linejoin:round; stroke-width:4; stroke-opacity:1; fill:none\" points=\"292.4,1423.18 292.4,1404.28 \"/>\n",
       "<polyline clip-path=\"url(#clip600)\" style=\"stroke:#000000; stroke-linecap:round; stroke-linejoin:round; stroke-width:4; stroke-opacity:1; fill:none\" points=\"961.412,1423.18 961.412,1404.28 \"/>\n",
       "<polyline clip-path=\"url(#clip600)\" style=\"stroke:#000000; stroke-linecap:round; stroke-linejoin:round; stroke-width:4; stroke-opacity:1; fill:none\" points=\"1630.42,1423.18 1630.42,1404.28 \"/>\n",
       "<polyline clip-path=\"url(#clip600)\" style=\"stroke:#000000; stroke-linecap:round; stroke-linejoin:round; stroke-width:4; stroke-opacity:1; fill:none\" points=\"2299.44,1423.18 2299.44,1404.28 \"/>\n",
       "<path clip-path=\"url(#clip600)\" d=\"M292.4 1454.1 Q288.789 1454.1 286.96 1457.66 Q285.154 1461.2 285.154 1468.33 Q285.154 1475.44 286.96 1479.01 Q288.789 1482.55 292.4 1482.55 Q296.034 1482.55 297.84 1479.01 Q299.668 1475.44 299.668 1468.33 Q299.668 1461.2 297.84 1457.66 Q296.034 1454.1 292.4 1454.1 M292.4 1450.39 Q298.21 1450.39 301.265 1455 Q304.344 1459.58 304.344 1468.33 Q304.344 1477.06 301.265 1481.67 Q298.21 1486.25 292.4 1486.25 Q286.59 1486.25 283.511 1481.67 Q280.455 1477.06 280.455 1468.33 Q280.455 1459.58 283.511 1455 Q286.59 1450.39 292.4 1450.39 Z\" fill=\"#000000\" fill-rule=\"evenodd\" fill-opacity=\"1\" /><path clip-path=\"url(#clip600)\" d=\"M951.69 1451.02 L970.046 1451.02 L970.046 1454.96 L955.972 1454.96 L955.972 1463.43 Q956.99 1463.08 958.009 1462.92 Q959.027 1462.73 960.046 1462.73 Q965.833 1462.73 969.213 1465.9 Q972.592 1469.08 972.592 1474.49 Q972.592 1480.07 969.12 1483.17 Q965.648 1486.25 959.328 1486.25 Q957.152 1486.25 954.884 1485.88 Q952.639 1485.51 950.231 1484.77 L950.231 1480.07 Q952.315 1481.2 954.537 1481.76 Q956.759 1482.32 959.236 1482.32 Q963.24 1482.32 965.578 1480.21 Q967.916 1478.1 967.916 1474.49 Q967.916 1470.88 965.578 1468.77 Q963.24 1466.67 959.236 1466.67 Q957.361 1466.67 955.486 1467.08 Q953.634 1467.5 951.69 1468.38 L951.69 1451.02 Z\" fill=\"#000000\" fill-rule=\"evenodd\" fill-opacity=\"1\" /><path clip-path=\"url(#clip600)\" d=\"M1605.11 1481.64 L1612.75 1481.64 L1612.75 1455.28 L1604.44 1456.95 L1604.44 1452.69 L1612.7 1451.02 L1617.38 1451.02 L1617.38 1481.64 L1625.02 1481.64 L1625.02 1485.58 L1605.11 1485.58 L1605.11 1481.64 Z\" fill=\"#000000\" fill-rule=\"evenodd\" fill-opacity=\"1\" /><path clip-path=\"url(#clip600)\" d=\"M1644.46 1454.1 Q1640.85 1454.1 1639.02 1457.66 Q1637.22 1461.2 1637.22 1468.33 Q1637.22 1475.44 1639.02 1479.01 Q1640.85 1482.55 1644.46 1482.55 Q1648.1 1482.55 1649.9 1479.01 Q1651.73 1475.44 1651.73 1468.33 Q1651.73 1461.2 1649.9 1457.66 Q1648.1 1454.1 1644.46 1454.1 M1644.46 1450.39 Q1650.27 1450.39 1653.33 1455 Q1656.41 1459.58 1656.41 1468.33 Q1656.41 1477.06 1653.33 1481.67 Q1650.27 1486.25 1644.46 1486.25 Q1638.65 1486.25 1635.57 1481.67 Q1632.52 1477.06 1632.52 1468.33 Q1632.52 1459.58 1635.57 1455 Q1638.65 1450.39 1644.46 1450.39 Z\" fill=\"#000000\" fill-rule=\"evenodd\" fill-opacity=\"1\" /><path clip-path=\"url(#clip600)\" d=\"M2274.62 1481.64 L2282.26 1481.64 L2282.26 1455.28 L2273.95 1456.95 L2273.95 1452.69 L2282.21 1451.02 L2286.89 1451.02 L2286.89 1481.64 L2294.53 1481.64 L2294.53 1485.58 L2274.62 1485.58 L2274.62 1481.64 Z\" fill=\"#000000\" fill-rule=\"evenodd\" fill-opacity=\"1\" /><path clip-path=\"url(#clip600)\" d=\"M2304.02 1451.02 L2322.38 1451.02 L2322.38 1454.96 L2308.3 1454.96 L2308.3 1463.43 Q2309.32 1463.08 2310.34 1462.92 Q2311.36 1462.73 2312.38 1462.73 Q2318.16 1462.73 2321.54 1465.9 Q2324.92 1469.08 2324.92 1474.49 Q2324.92 1480.07 2321.45 1483.17 Q2317.98 1486.25 2311.66 1486.25 Q2309.48 1486.25 2307.21 1485.88 Q2304.97 1485.51 2302.56 1484.77 L2302.56 1480.07 Q2304.64 1481.2 2306.87 1481.76 Q2309.09 1482.32 2311.57 1482.32 Q2315.57 1482.32 2317.91 1480.21 Q2320.25 1478.1 2320.25 1474.49 Q2320.25 1470.88 2317.91 1468.77 Q2315.57 1466.67 2311.57 1466.67 Q2309.69 1466.67 2307.82 1467.08 Q2305.96 1467.5 2304.02 1468.38 L2304.02 1451.02 Z\" fill=\"#000000\" fill-rule=\"evenodd\" fill-opacity=\"1\" /><path clip-path=\"url(#clip600)\" d=\"M1180.03 1522.27 L1180.03 1532.4 L1192.09 1532.4 L1192.09 1536.95 L1180.03 1536.95 L1180.03 1556.3 Q1180.03 1560.66 1181.2 1561.9 Q1182.41 1563.14 1186.07 1563.14 L1192.09 1563.14 L1192.09 1568.04 L1186.07 1568.04 Q1179.29 1568.04 1176.72 1565.53 Q1174.14 1562.98 1174.14 1556.3 L1174.14 1536.95 L1169.84 1536.95 L1169.84 1532.4 L1174.14 1532.4 L1174.14 1522.27 L1180.03 1522.27 Z\" fill=\"#000000\" fill-rule=\"evenodd\" fill-opacity=\"1\" /><path clip-path=\"url(#clip600)\" d=\"M1199.79 1532.4 L1205.65 1532.4 L1205.65 1568.04 L1199.79 1568.04 L1199.79 1532.4 M1199.79 1518.52 L1205.65 1518.52 L1205.65 1525.93 L1199.79 1525.93 L1199.79 1518.52 Z\" fill=\"#000000\" fill-rule=\"evenodd\" fill-opacity=\"1\" /><path clip-path=\"url(#clip600)\" d=\"M1245.66 1539.24 Q1247.85 1535.29 1250.91 1533.41 Q1253.96 1531.54 1258.1 1531.54 Q1263.67 1531.54 1266.7 1535.45 Q1269.72 1539.33 1269.72 1546.53 L1269.72 1568.04 L1263.83 1568.04 L1263.83 1546.72 Q1263.83 1541.59 1262.02 1539.11 Q1260.2 1536.63 1256.48 1536.63 Q1251.93 1536.63 1249.29 1539.65 Q1246.64 1542.68 1246.64 1547.9 L1246.64 1568.04 L1240.76 1568.04 L1240.76 1546.72 Q1240.76 1541.56 1238.94 1539.11 Q1237.13 1536.63 1233.34 1536.63 Q1228.85 1536.63 1226.21 1539.68 Q1223.57 1542.71 1223.57 1547.9 L1223.57 1568.04 L1217.68 1568.04 L1217.68 1532.4 L1223.57 1532.4 L1223.57 1537.93 Q1225.57 1534.66 1228.37 1533.1 Q1231.18 1531.54 1235.03 1531.54 Q1238.91 1531.54 1241.62 1533.51 Q1244.35 1535.48 1245.66 1539.24 Z\" fill=\"#000000\" fill-rule=\"evenodd\" fill-opacity=\"1\" /><path clip-path=\"url(#clip600)\" d=\"M1311.89 1548.76 L1311.89 1551.62 L1284.97 1551.62 Q1285.35 1557.67 1288.59 1560.85 Q1291.87 1564 1297.7 1564 Q1301.07 1564 1304.22 1563.17 Q1307.4 1562.35 1310.52 1560.69 L1310.52 1566.23 Q1307.37 1567.57 1304.06 1568.27 Q1300.75 1568.97 1297.35 1568.97 Q1288.82 1568.97 1283.82 1564 Q1278.85 1559.04 1278.85 1550.57 Q1278.85 1541.82 1283.57 1536.69 Q1288.31 1531.54 1296.33 1531.54 Q1303.52 1531.54 1307.69 1536.18 Q1311.89 1540.8 1311.89 1548.76 M1306.04 1547.04 Q1305.97 1542.23 1303.33 1539.37 Q1300.72 1536.5 1296.39 1536.5 Q1291.49 1536.5 1288.53 1539.27 Q1285.6 1542.04 1285.16 1547.07 L1306.04 1547.04 Z\" fill=\"#000000\" fill-rule=\"evenodd\" fill-opacity=\"1\" /><path clip-path=\"url(#clip600)\" d=\"M1356.29 1518.58 Q1352.03 1525.9 1349.96 1533.06 Q1347.89 1540.23 1347.89 1547.58 Q1347.89 1554.93 1349.96 1562.16 Q1352.06 1569.35 1356.29 1576.64 L1351.2 1576.64 Q1346.43 1569.16 1344.04 1561.93 Q1341.68 1554.71 1341.68 1547.58 Q1341.68 1540.48 1344.04 1533.29 Q1346.39 1526.09 1351.2 1518.58 L1356.29 1518.58 Z\" fill=\"#000000\" fill-rule=\"evenodd\" fill-opacity=\"1\" /><path clip-path=\"url(#clip600)\" d=\"M1390.38 1533.45 L1390.38 1538.98 Q1387.9 1537.71 1385.23 1537.07 Q1382.55 1536.44 1379.69 1536.44 Q1375.33 1536.44 1373.13 1537.77 Q1370.97 1539.11 1370.97 1541.79 Q1370.97 1543.82 1372.53 1545 Q1374.09 1546.15 1378.8 1547.2 L1380.8 1547.64 Q1387.04 1548.98 1389.65 1551.43 Q1392.29 1553.85 1392.29 1558.21 Q1392.29 1563.17 1388.34 1566.07 Q1384.43 1568.97 1377.55 1568.97 Q1374.69 1568.97 1371.57 1568.39 Q1368.48 1567.85 1365.05 1566.74 L1365.05 1560.69 Q1368.29 1562.38 1371.44 1563.24 Q1374.59 1564.07 1377.68 1564.07 Q1381.82 1564.07 1384.05 1562.66 Q1386.28 1561.23 1386.28 1558.65 Q1386.28 1556.27 1384.65 1554.99 Q1383.06 1553.72 1377.62 1552.54 L1375.58 1552.07 Q1370.14 1550.92 1367.72 1548.56 Q1365.3 1546.18 1365.3 1542.04 Q1365.3 1537.01 1368.87 1534.27 Q1372.43 1531.54 1378.99 1531.54 Q1382.23 1531.54 1385.1 1532.01 Q1387.96 1532.49 1390.38 1533.45 Z\" fill=\"#000000\" fill-rule=\"evenodd\" fill-opacity=\"1\" /><path clip-path=\"url(#clip600)\" d=\"M1400.69 1518.58 L1405.79 1518.58 Q1410.56 1526.09 1412.92 1533.29 Q1415.3 1540.48 1415.3 1547.58 Q1415.3 1554.71 1412.92 1561.93 Q1410.56 1569.16 1405.79 1576.64 L1400.69 1576.64 Q1404.93 1569.35 1407 1562.16 Q1409.1 1554.93 1409.1 1547.58 Q1409.1 1540.23 1407 1533.06 Q1404.93 1525.9 1400.69 1518.58 Z\" fill=\"#000000\" fill-rule=\"evenodd\" fill-opacity=\"1\" /><polyline clip-path=\"url(#clip602)\" style=\"stroke:#000000; stroke-linecap:round; stroke-linejoin:round; stroke-width:2; stroke-opacity:0.1; fill:none\" points=\"232.389,1323.16 2352.76,1323.16 \"/>\n",
       "<polyline clip-path=\"url(#clip602)\" style=\"stroke:#000000; stroke-linecap:round; stroke-linejoin:round; stroke-width:2; stroke-opacity:0.1; fill:none\" points=\"232.389,1047.59 2352.76,1047.59 \"/>\n",
       "<polyline clip-path=\"url(#clip602)\" style=\"stroke:#000000; stroke-linecap:round; stroke-linejoin:round; stroke-width:2; stroke-opacity:0.1; fill:none\" points=\"232.389,772.024 2352.76,772.024 \"/>\n",
       "<polyline clip-path=\"url(#clip602)\" style=\"stroke:#000000; stroke-linecap:round; stroke-linejoin:round; stroke-width:2; stroke-opacity:0.1; fill:none\" points=\"232.389,496.456 2352.76,496.456 \"/>\n",
       "<polyline clip-path=\"url(#clip602)\" style=\"stroke:#000000; stroke-linecap:round; stroke-linejoin:round; stroke-width:2; stroke-opacity:0.1; fill:none\" points=\"232.389,220.888 2352.76,220.888 \"/>\n",
       "<polyline clip-path=\"url(#clip600)\" style=\"stroke:#000000; stroke-linecap:round; stroke-linejoin:round; stroke-width:4; stroke-opacity:1; fill:none\" points=\"232.389,1423.18 232.389,123.472 \"/>\n",
       "<polyline clip-path=\"url(#clip600)\" style=\"stroke:#000000; stroke-linecap:round; stroke-linejoin:round; stroke-width:4; stroke-opacity:1; fill:none\" points=\"232.389,1323.16 251.287,1323.16 \"/>\n",
       "<polyline clip-path=\"url(#clip600)\" style=\"stroke:#000000; stroke-linecap:round; stroke-linejoin:round; stroke-width:4; stroke-opacity:1; fill:none\" points=\"232.389,1047.59 251.287,1047.59 \"/>\n",
       "<polyline clip-path=\"url(#clip600)\" style=\"stroke:#000000; stroke-linecap:round; stroke-linejoin:round; stroke-width:4; stroke-opacity:1; fill:none\" points=\"232.389,772.024 251.287,772.024 \"/>\n",
       "<polyline clip-path=\"url(#clip600)\" style=\"stroke:#000000; stroke-linecap:round; stroke-linejoin:round; stroke-width:4; stroke-opacity:1; fill:none\" points=\"232.389,496.456 251.287,496.456 \"/>\n",
       "<polyline clip-path=\"url(#clip600)\" style=\"stroke:#000000; stroke-linecap:round; stroke-linejoin:round; stroke-width:4; stroke-opacity:1; fill:none\" points=\"232.389,220.888 251.287,220.888 \"/>\n",
       "<path clip-path=\"url(#clip600)\" d=\"M184.445 1308.96 Q180.834 1308.96 179.005 1312.52 Q177.2 1316.07 177.2 1323.2 Q177.2 1330.3 179.005 1333.87 Q180.834 1337.41 184.445 1337.41 Q188.079 1337.41 189.885 1333.87 Q191.713 1330.3 191.713 1323.2 Q191.713 1316.07 189.885 1312.52 Q188.079 1308.96 184.445 1308.96 M184.445 1305.26 Q190.255 1305.26 193.311 1309.86 Q196.389 1314.45 196.389 1323.2 Q196.389 1331.92 193.311 1336.53 Q190.255 1341.11 184.445 1341.11 Q178.635 1341.11 175.556 1336.53 Q172.501 1331.92 172.501 1323.2 Q172.501 1314.45 175.556 1309.86 Q178.635 1305.26 184.445 1305.26 Z\" fill=\"#000000\" fill-rule=\"evenodd\" fill-opacity=\"1\" /><path clip-path=\"url(#clip600)\" d=\"M149.306 1060.94 L165.626 1060.94 L165.626 1064.87 L143.681 1064.87 L143.681 1060.94 Q146.343 1058.18 150.927 1053.55 Q155.533 1048.9 156.714 1047.56 Q158.959 1045.03 159.839 1043.3 Q160.741 1041.54 160.741 1039.85 Q160.741 1037.1 158.797 1035.36 Q156.876 1033.62 153.774 1033.62 Q151.575 1033.62 149.121 1034.39 Q146.691 1035.15 143.913 1036.7 L143.913 1031.98 Q146.737 1030.85 149.191 1030.27 Q151.644 1029.69 153.681 1029.69 Q159.052 1029.69 162.246 1032.37 Q165.44 1035.06 165.44 1039.55 Q165.44 1041.68 164.63 1043.6 Q163.843 1045.5 161.737 1048.09 Q161.158 1048.76 158.056 1051.98 Q154.954 1055.17 149.306 1060.94 Z\" fill=\"#000000\" fill-rule=\"evenodd\" fill-opacity=\"1\" /><path clip-path=\"url(#clip600)\" d=\"M175.487 1030.31 L193.843 1030.31 L193.843 1034.25 L179.769 1034.25 L179.769 1042.72 Q180.788 1042.37 181.806 1042.21 Q182.825 1042.03 183.843 1042.03 Q189.63 1042.03 193.01 1045.2 Q196.389 1048.37 196.389 1053.78 Q196.389 1059.36 192.917 1062.47 Q189.445 1065.54 183.126 1065.54 Q180.95 1065.54 178.681 1065.17 Q176.436 1064.8 174.028 1064.06 L174.028 1059.36 Q176.112 1060.5 178.334 1061.05 Q180.556 1061.61 183.033 1061.61 Q187.038 1061.61 189.375 1059.5 Q191.713 1057.4 191.713 1053.78 Q191.713 1050.17 189.375 1048.07 Q187.038 1045.96 183.033 1045.96 Q181.158 1045.96 179.283 1046.38 Q177.431 1046.79 175.487 1047.67 L175.487 1030.31 Z\" fill=\"#000000\" fill-rule=\"evenodd\" fill-opacity=\"1\" /><path clip-path=\"url(#clip600)\" d=\"M144.329 754.744 L162.686 754.744 L162.686 758.68 L148.612 758.68 L148.612 767.152 Q149.63 766.805 150.649 766.643 Q151.667 766.457 152.686 766.457 Q158.473 766.457 161.852 769.629 Q165.232 772.8 165.232 778.217 Q165.232 783.795 161.76 786.897 Q158.288 789.976 151.968 789.976 Q149.792 789.976 147.524 789.605 Q145.279 789.235 142.871 788.494 L142.871 783.795 Q144.954 784.929 147.177 785.485 Q149.399 786.041 151.876 786.041 Q155.88 786.041 158.218 783.934 Q160.556 781.828 160.556 778.217 Q160.556 774.605 158.218 772.499 Q155.88 770.393 151.876 770.393 Q150.001 770.393 148.126 770.809 Q146.274 771.226 144.329 772.105 L144.329 754.744 Z\" fill=\"#000000\" fill-rule=\"evenodd\" fill-opacity=\"1\" /><path clip-path=\"url(#clip600)\" d=\"M184.445 757.823 Q180.834 757.823 179.005 761.388 Q177.2 764.93 177.2 772.059 Q177.2 779.166 179.005 782.73 Q180.834 786.272 184.445 786.272 Q188.079 786.272 189.885 782.73 Q191.713 779.166 191.713 772.059 Q191.713 764.93 189.885 761.388 Q188.079 757.823 184.445 757.823 M184.445 754.119 Q190.255 754.119 193.311 758.726 Q196.389 763.309 196.389 772.059 Q196.389 780.786 193.311 785.392 Q190.255 789.976 184.445 789.976 Q178.635 789.976 175.556 785.392 Q172.501 780.786 172.501 772.059 Q172.501 763.309 175.556 758.726 Q178.635 754.119 184.445 754.119 Z\" fill=\"#000000\" fill-rule=\"evenodd\" fill-opacity=\"1\" /><path clip-path=\"url(#clip600)\" d=\"M144.098 479.176 L166.32 479.176 L166.32 481.167 L153.774 513.736 L148.89 513.736 L160.695 483.111 L144.098 483.111 L144.098 479.176 Z\" fill=\"#000000\" fill-rule=\"evenodd\" fill-opacity=\"1\" /><path clip-path=\"url(#clip600)\" d=\"M175.487 479.176 L193.843 479.176 L193.843 483.111 L179.769 483.111 L179.769 491.584 Q180.788 491.236 181.806 491.074 Q182.825 490.889 183.843 490.889 Q189.63 490.889 193.01 494.06 Q196.389 497.232 196.389 502.648 Q196.389 508.227 192.917 511.329 Q189.445 514.408 183.126 514.408 Q180.95 514.408 178.681 514.037 Q176.436 513.667 174.028 512.926 L174.028 508.227 Q176.112 509.361 178.334 509.917 Q180.556 510.472 183.033 510.472 Q187.038 510.472 189.375 508.366 Q191.713 506.259 191.713 502.648 Q191.713 499.037 189.375 496.931 Q187.038 494.824 183.033 494.824 Q181.158 494.824 179.283 495.241 Q177.431 495.658 175.487 496.537 L175.487 479.176 Z\" fill=\"#000000\" fill-rule=\"evenodd\" fill-opacity=\"1\" /><path clip-path=\"url(#clip600)\" d=\"M114.931 234.233 L122.57 234.233 L122.57 207.867 L114.26 209.534 L114.26 205.275 L122.524 203.608 L127.2 203.608 L127.2 234.233 L134.839 234.233 L134.839 238.168 L114.931 238.168 L114.931 234.233 Z\" fill=\"#000000\" fill-rule=\"evenodd\" fill-opacity=\"1\" /><path clip-path=\"url(#clip600)\" d=\"M154.283 206.687 Q150.672 206.687 148.843 210.251 Q147.038 213.793 147.038 220.923 Q147.038 228.029 148.843 231.594 Q150.672 235.136 154.283 235.136 Q157.917 235.136 159.723 231.594 Q161.552 228.029 161.552 220.923 Q161.552 213.793 159.723 210.251 Q157.917 206.687 154.283 206.687 M154.283 202.983 Q160.093 202.983 163.149 207.589 Q166.227 212.173 166.227 220.923 Q166.227 229.65 163.149 234.256 Q160.093 238.839 154.283 238.839 Q148.473 238.839 145.394 234.256 Q142.339 229.65 142.339 220.923 Q142.339 212.173 145.394 207.589 Q148.473 202.983 154.283 202.983 Z\" fill=\"#000000\" fill-rule=\"evenodd\" fill-opacity=\"1\" /><path clip-path=\"url(#clip600)\" d=\"M184.445 206.687 Q180.834 206.687 179.005 210.251 Q177.2 213.793 177.2 220.923 Q177.2 228.029 179.005 231.594 Q180.834 235.136 184.445 235.136 Q188.079 235.136 189.885 231.594 Q191.713 228.029 191.713 220.923 Q191.713 213.793 189.885 210.251 Q188.079 206.687 184.445 206.687 M184.445 202.983 Q190.255 202.983 193.311 207.589 Q196.389 212.173 196.389 220.923 Q196.389 229.65 193.311 234.256 Q190.255 238.839 184.445 238.839 Q178.635 238.839 175.556 234.256 Q172.501 229.65 172.501 220.923 Q172.501 212.173 175.556 207.589 Q178.635 202.983 184.445 202.983 Z\" fill=\"#000000\" fill-rule=\"evenodd\" fill-opacity=\"1\" /><path clip-path=\"url(#clip600)\" d=\"M49.9359 788.254 L28.3562 788.254 L28.3562 782.397 L49.7131 782.397 Q54.7739 782.397 57.3202 780.424 Q59.8346 778.45 59.8346 774.504 Q59.8346 769.761 56.8109 767.024 Q53.7872 764.255 48.5673 764.255 L28.3562 764.255 L28.3562 758.398 L64.0042 758.398 L64.0042 764.255 L58.5296 764.255 Q61.7762 766.387 63.3676 769.22 Q64.9272 772.021 64.9272 775.745 Q64.9272 781.888 61.1078 785.071 Q57.2883 788.254 49.9359 788.254 M27.4968 773.517 L27.4968 773.517 Z\" fill=\"#000000\" fill-rule=\"evenodd\" fill-opacity=\"1\" /><path clip-path=\"url(#clip600)\" d=\"M1029.71 12.096 L1037.89 12.096 L1037.89 72.576 L1029.71 72.576 L1029.71 12.096 Z\" fill=\"#000000\" fill-rule=\"evenodd\" fill-opacity=\"1\" /><path clip-path=\"url(#clip600)\" d=\"M1091.57 45.1919 L1091.57 72.576 L1084.11 72.576 L1084.11 45.4349 Q1084.11 38.994 1081.6 35.7938 Q1079.09 32.5936 1074.07 32.5936 Q1068.03 32.5936 1064.55 36.4419 Q1061.06 40.2903 1061.06 46.9338 L1061.06 72.576 L1053.57 72.576 L1053.57 27.2059 L1061.06 27.2059 L1061.06 34.2544 Q1063.74 30.163 1067.34 28.1376 Q1070.99 26.1121 1075.73 26.1121 Q1083.55 26.1121 1087.56 30.9732 Q1091.57 35.7938 1091.57 45.1919 Z\" fill=\"#000000\" fill-rule=\"evenodd\" fill-opacity=\"1\" /><path clip-path=\"url(#clip600)\" d=\"M1113.64 65.7705 L1113.64 89.8329 L1106.15 89.8329 L1106.15 27.2059 L1113.64 27.2059 L1113.64 34.0924 Q1115.99 30.0415 1119.56 28.0971 Q1123.16 26.1121 1128.15 26.1121 Q1136.41 26.1121 1141.55 32.6746 Q1146.74 39.2371 1146.74 49.9314 Q1146.74 60.6258 1141.55 67.1883 Q1136.41 73.7508 1128.15 73.7508 Q1123.16 73.7508 1119.56 71.8063 Q1115.99 69.8214 1113.64 65.7705 M1139 49.9314 Q1139 41.7081 1135.6 37.0496 Q1132.24 32.3505 1126.32 32.3505 Q1120.41 32.3505 1117.01 37.0496 Q1113.64 41.7081 1113.64 49.9314 Q1113.64 58.1548 1117.01 62.8538 Q1120.41 67.5124 1126.32 67.5124 Q1132.24 67.5124 1135.6 62.8538 Q1139 58.1548 1139 49.9314 Z\" fill=\"#000000\" fill-rule=\"evenodd\" fill-opacity=\"1\" /><path clip-path=\"url(#clip600)\" d=\"M1158.33 54.671 L1158.33 27.2059 L1165.78 27.2059 L1165.78 54.3874 Q1165.78 60.8284 1168.29 64.0691 Q1170.8 67.2693 1175.83 67.2693 Q1181.86 67.2693 1185.35 63.421 Q1188.87 59.5726 1188.87 52.9291 L1188.87 27.2059 L1196.32 27.2059 L1196.32 72.576 L1188.87 72.576 L1188.87 65.6084 Q1186.16 69.7404 1182.55 71.7658 Q1178.99 73.7508 1174.25 73.7508 Q1166.43 73.7508 1162.38 68.8897 Q1158.33 64.0286 1158.33 54.671 M1177.08 26.1121 L1177.08 26.1121 Z\" fill=\"#000000\" fill-rule=\"evenodd\" fill-opacity=\"1\" /><path clip-path=\"url(#clip600)\" d=\"M1219.05 14.324 L1219.05 27.2059 L1234.4 27.2059 L1234.4 32.9987 L1219.05 32.9987 L1219.05 57.6282 Q1219.05 63.1779 1220.55 64.7578 Q1222.09 66.3376 1226.75 66.3376 L1234.4 66.3376 L1234.4 72.576 L1226.75 72.576 Q1218.12 72.576 1214.84 69.3758 Q1211.55 66.1351 1211.55 57.6282 L1211.55 32.9987 L1206.09 32.9987 L1206.09 27.2059 L1211.55 27.2059 L1211.55 14.324 L1219.05 14.324 Z\" fill=\"#000000\" fill-rule=\"evenodd\" fill-opacity=\"1\" /><path clip-path=\"url(#clip600)\" d=\"M1270.9 12.096 L1279.08 12.096 L1279.08 36.8875 L1308.82 36.8875 L1308.82 12.096 L1317 12.096 L1317 72.576 L1308.82 72.576 L1308.82 43.7741 L1279.08 43.7741 L1279.08 72.576 L1270.9 72.576 L1270.9 12.096 Z\" fill=\"#000000\" fill-rule=\"evenodd\" fill-opacity=\"1\" /><path clip-path=\"url(#clip600)\" d=\"M1332.96 27.2059 L1340.41 27.2059 L1340.41 72.576 L1332.96 72.576 L1332.96 27.2059 M1332.96 9.54393 L1340.41 9.54393 L1340.41 18.9825 L1332.96 18.9825 L1332.96 9.54393 Z\" fill=\"#000000\" fill-rule=\"evenodd\" fill-opacity=\"1\" /><path clip-path=\"url(#clip600)\" d=\"M1384.93 28.5427 L1384.93 35.5912 Q1381.77 33.9709 1378.37 33.1607 Q1374.97 32.3505 1371.32 32.3505 Q1365.77 32.3505 1362.98 34.0519 Q1360.22 35.7533 1360.22 39.156 Q1360.22 41.7486 1362.21 43.2475 Q1364.19 44.7058 1370.19 46.0426 L1372.74 46.6097 Q1380.68 48.3111 1384 51.4303 Q1387.36 54.509 1387.36 60.0587 Q1387.36 66.3781 1382.34 70.0644 Q1377.36 73.7508 1368.61 73.7508 Q1364.96 73.7508 1360.99 73.0216 Q1357.06 72.3329 1352.69 70.9151 L1352.69 63.2184 Q1356.82 65.3654 1360.83 66.4591 Q1364.84 67.5124 1368.77 67.5124 Q1374.04 67.5124 1376.87 65.73 Q1379.71 63.9071 1379.71 60.6258 Q1379.71 57.5877 1377.64 55.9673 Q1375.62 54.3469 1368.69 52.8481 L1366.1 52.2405 Q1359.17 50.7821 1356.09 47.7845 Q1353.01 44.7463 1353.01 39.4801 Q1353.01 33.0797 1357.55 29.5959 Q1362.09 26.1121 1370.43 26.1121 Q1374.56 26.1121 1378.21 26.7198 Q1381.85 27.3274 1384.93 28.5427 Z\" fill=\"#000000\" fill-rule=\"evenodd\" fill-opacity=\"1\" /><path clip-path=\"url(#clip600)\" d=\"M1406.61 14.324 L1406.61 27.2059 L1421.96 27.2059 L1421.96 32.9987 L1406.61 32.9987 L1406.61 57.6282 Q1406.61 63.1779 1408.1 64.7578 Q1409.64 66.3376 1414.3 66.3376 L1421.96 66.3376 L1421.96 72.576 L1414.3 72.576 Q1405.67 72.576 1402.39 69.3758 Q1399.11 66.1351 1399.11 57.6282 L1399.11 32.9987 L1393.64 32.9987 L1393.64 27.2059 L1399.11 27.2059 L1399.11 14.324 L1406.61 14.324 Z\" fill=\"#000000\" fill-rule=\"evenodd\" fill-opacity=\"1\" /><path clip-path=\"url(#clip600)\" d=\"M1449.34 32.4315 Q1443.35 32.4315 1439.86 37.1306 Q1436.38 41.7891 1436.38 49.9314 Q1436.38 58.0738 1439.82 62.7728 Q1443.31 67.4314 1449.34 67.4314 Q1455.3 67.4314 1458.78 62.7323 Q1462.27 58.0333 1462.27 49.9314 Q1462.27 41.8701 1458.78 37.1711 Q1455.3 32.4315 1449.34 32.4315 M1449.34 26.1121 Q1459.06 26.1121 1464.61 32.4315 Q1470.16 38.7509 1470.16 49.9314 Q1470.16 61.0714 1464.61 67.4314 Q1459.06 73.7508 1449.34 73.7508 Q1439.58 73.7508 1434.03 67.4314 Q1428.52 61.0714 1428.52 49.9314 Q1428.52 38.7509 1434.03 32.4315 Q1439.58 26.1121 1449.34 26.1121 Z\" fill=\"#000000\" fill-rule=\"evenodd\" fill-opacity=\"1\" /><path clip-path=\"url(#clip600)\" d=\"M1508.81 34.1734 Q1507.55 33.4443 1506.06 33.1202 Q1504.6 32.7556 1502.81 32.7556 Q1496.5 32.7556 1493.09 36.8875 Q1489.73 40.9789 1489.73 48.6757 L1489.73 72.576 L1482.24 72.576 L1482.24 27.2059 L1489.73 27.2059 L1489.73 34.2544 Q1492.08 30.1225 1495.85 28.1376 Q1499.61 26.1121 1505 26.1121 Q1505.77 26.1121 1506.7 26.2337 Q1507.64 26.3147 1508.77 26.5172 L1508.81 34.1734 Z\" fill=\"#000000\" fill-rule=\"evenodd\" fill-opacity=\"1\" /><path clip-path=\"url(#clip600)\" d=\"M1535.51 76.7889 Q1532.35 84.8907 1529.35 87.3618 Q1526.35 89.8329 1521.33 89.8329 L1515.37 89.8329 L1515.37 83.5945 L1519.75 83.5945 Q1522.83 83.5945 1524.53 82.1361 Q1526.23 80.6778 1528.29 75.2496 L1529.63 71.8468 L1511.28 27.2059 L1519.18 27.2059 L1533.36 62.6918 L1547.54 27.2059 L1555.44 27.2059 L1535.51 76.7889 Z\" fill=\"#000000\" fill-rule=\"evenodd\" fill-opacity=\"1\" /><polyline clip-path=\"url(#clip602)\" style=\"stroke:#009af9; stroke-linecap:round; stroke-linejoin:round; stroke-width:4; stroke-opacity:1; fill:none\" points=\"292.4,1248.34 299.09,1248.68 305.78,1249.03 312.47,1249.37 319.16,1249.71 325.85,1250.06 332.54,1250.4 339.231,1250.74 345.921,1251.09 352.611,1251.43 359.301,1251.78 365.991,1252.12 372.681,1252.46 379.371,1252.81 386.061,1253.15 392.752,1253.49 399.442,1253.84 406.132,1254.18 412.822,1254.52 419.512,1254.87 426.202,1255.21 432.892,1255.55 439.582,1255.9 446.272,1256.24 452.963,1256.58 459.653,1256.93 466.343,1257.27 473.033,1257.61 479.723,1257.95 486.413,1258.3 493.103,1258.64 499.793,1258.98 506.484,1259.33 513.174,1259.67 519.864,1260.01 526.554,1260.36 533.244,1260.7 539.934,1261.04 546.624,1261.39 553.314,1261.73 560.005,1262.07 566.695,1262.42 573.385,1262.76 580.075,1263.1 586.765,1263.45 593.455,1263.79 600.145,1264.13 606.835,1264.48 613.525,1264.82 620.216,1265.16 626.906,1265.51 633.596,1265.85 640.286,1266.2 646.976,1266.54 653.666,1266.88 660.356,1267.23 667.046,1267.57 673.737,1267.91 680.427,1268.26 687.117,1268.6 693.807,1268.94 700.497,1269.29 707.187,1269.63 713.877,1269.98 720.567,1270.32 727.258,1270.66 733.948,1271.01 740.638,1271.35 747.328,1271.7 754.018,1272.04 760.708,1272.38 767.398,1272.73 774.088,1273.07 780.778,1273.42 787.469,1273.76 794.159,1274.11 800.849,1274.45 807.539,1274.8 814.229,1275.14 820.919,1275.49 827.609,1275.83 834.299,1276.17 840.99,1276.52 847.68,1276.86 854.37,1277.21 861.06,1277.56 867.75,1277.9 874.44,1278.25 881.13,1278.59 887.82,1278.94 894.511,1279.28 901.201,1279.63 907.891,1279.97 914.581,1280.32 921.271,1280.67 927.961,1281.01 934.651,1281.36 941.341,1281.71 948.031,1282.05 954.722,1282.4 961.412,1282.74 968.102,1283.09 974.792,1283.44 981.482,1283.79 988.172,1284.13 994.862,1284.48 1001.55,1284.83 1008.24,1285.18 1014.93,1285.52 1021.62,1285.87 1028.31,1286.22 1035,1286.57 1041.69,1286.92 1048.38,1287.26 1055.07,1287.61 1061.76,1287.96 1068.45,1288.31 1075.14,1288.66 1081.83,1289.01 1088.52,1289.36 1095.21,1289.71 1101.9,1290.06 1108.59,1290.41 1115.28,1290.76 1121.97,1291.11 1128.66,1291.46 1135.35,1291.81 1142.04,1292.16 1148.74,1292.51 1155.43,1292.86 1162.12,1293.21 1168.81,1293.57 1175.5,1293.92 1182.19,1294.27 1188.88,1294.62 1195.57,1294.97 1202.26,1295.33 1208.95,1295.68 1215.64,1296.03 1222.33,1296.39 1229.02,1296.74 1235.71,1297.1 1242.4,1297.45 1249.09,1297.8 1255.78,1298.16 1262.47,1298.51 1269.16,1298.87 1275.85,1299.22 1282.54,1299.58 1289.23,1299.94 1295.92,1300.29 1302.61,1300.65 1309.3,1301.01 1315.99,1301.36 1322.68,1301.72 1329.37,1302.08 1336.06,1302.44 1342.75,1302.79 1349.44,1303.15 1356.13,1303.51 1362.82,1303.87 1369.51,1304.23 1376.2,1304.59 1382.89,1304.95 1389.58,1305.31 1396.27,1305.67 1402.96,1306.03 1409.65,1306.39 1416.34,1306.75 1423.03,1307.12 1429.72,1307.48 1436.41,1307.84 1443.1,1308.2 1449.79,1308.57 1456.48,1308.93 1463.17,1309.3 1469.86,1309.66 1476.55,1310.02 1483.24,1310.39 1489.93,1310.76 1496.62,1311.12 1503.31,1311.49 1510,1311.85 1516.69,1312.22 1523.38,1312.59 1530.07,1312.96 1536.76,1313.32 1543.45,1313.69 1550.14,1314.06 1556.83,1314.43 1563.52,1314.8 1570.21,1315.17 1576.9,1315.54 1583.59,1315.91 1590.28,1316.28 1596.97,1316.65 1603.66,1317.03 1610.35,1317.4 1617.04,1317.77 1623.73,1318.15 1630.42,1318.52 1637.11,1318.89 1643.8,1319.27 1650.49,1319.64 1657.18,1320.02 1663.87,1320.39 1670.56,1320.77 1677.25,1321.15 1683.94,1321.53 1690.63,1321.9 1697.32,1322.28 1704.01,1322.66 1710.71,1323.04 1717.4,1323.42 1724.09,1323.8 1730.78,1324.18 1737.47,1324.56 1744.16,1324.94 1750.85,1325.32 1757.54,1325.7 1764.23,1326.09 1770.92,1326.47 1777.61,1326.85 1784.3,1327.24 1790.99,1327.62 1797.68,1328.01 1804.37,1328.39 1811.06,1328.78 1817.75,1329.16 1824.44,1329.55 1831.13,1329.94 1837.82,1330.33 1844.51,1330.71 1851.2,1331.1 1857.89,1331.49 1864.58,1331.88 1871.27,1332.27 1877.96,1332.66 1884.65,1333.05 1891.34,1333.45 1898.03,1333.84 1904.72,1334.23 1911.41,1334.62 1918.1,1335.02 1924.79,1335.41 1931.48,1335.8 1938.17,1336.2 1944.86,1336.59 1951.55,1336.99 1958.24,1337.39 1964.93,1337.78 1971.62,1338.18 1978.31,1338.58 1985,1338.98 1991.69,1339.37 1998.38,1339.77 2005.07,1340.17 2011.76,1340.57 2018.45,1340.97 2025.14,1341.37 2031.83,1341.78 2038.52,1342.18 2045.21,1342.58 2051.9,1342.98 2058.59,1343.38 2065.28,1343.79 2071.97,1344.19 2078.66,1344.6 2085.35,1345 2092.04,1345.41 2098.73,1345.81 2105.42,1346.22 2112.11,1346.62 2118.8,1347.03 2125.49,1347.44 2132.18,1347.85 2138.87,1348.25 2145.56,1348.66 2152.25,1349.07 2158.94,1349.48 2165.63,1349.89 2172.32,1350.3 2179.01,1350.71 2185.7,1351.12 2192.39,1351.53 2199.08,1351.94 2205.77,1352.35 2212.46,1352.77 2219.15,1353.18 2225.84,1353.59 2232.53,1354 2239.22,1354.42 2245.91,1354.83 2252.6,1355.24 2259.29,1355.66 2265.99,1356.07 2272.68,1356.49 2279.37,1356.9 2286.06,1357.32 2292.75,1357.73 \"/>\n",
       "<polyline clip-path=\"url(#clip602)\" style=\"stroke:#e26f46; stroke-linecap:round; stroke-linejoin:round; stroke-width:4; stroke-opacity:1; fill:none\" points=\"292.4,1386.4 299.09,1386.08 305.78,1385.76 312.47,1385.45 319.16,1385.13 325.85,1384.82 332.54,1384.5 339.231,1384.18 345.921,1383.87 352.611,1383.55 359.301,1383.23 365.991,1382.92 372.681,1382.6 379.371,1382.29 386.061,1381.97 392.752,1381.65 399.442,1381.34 406.132,1381.02 412.822,1380.7 419.512,1380.39 426.202,1380.07 432.892,1379.76 439.582,1379.44 446.272,1379.12 452.963,1378.81 459.653,1378.49 466.343,1378.18 473.033,1377.86 479.723,1377.54 486.413,1377.23 493.103,1376.91 499.793,1376.59 506.484,1376.28 513.174,1375.96 519.864,1375.64 526.554,1375.33 533.244,1375.01 539.934,1374.7 546.624,1374.38 553.314,1374.06 560.005,1373.75 566.695,1373.43 573.385,1373.11 580.075,1372.8 586.765,1372.48 593.455,1372.16 600.145,1371.85 606.835,1371.53 613.525,1371.22 620.216,1370.9 626.906,1370.58 633.596,1370.27 640.286,1369.95 646.976,1369.63 653.666,1369.32 660.356,1369 667.046,1368.68 673.737,1368.37 680.427,1368.05 687.117,1367.73 693.807,1367.42 700.497,1367.1 707.187,1366.78 713.877,1366.47 720.567,1366.15 727.258,1365.83 733.948,1365.52 740.638,1365.2 747.328,1364.88 754.018,1364.56 760.708,1364.25 767.398,1363.93 774.088,1363.61 780.778,1363.3 787.469,1362.98 794.159,1362.66 800.849,1362.34 807.539,1362.03 814.229,1361.71 820.919,1361.39 827.609,1361.08 834.299,1360.76 840.99,1360.44 847.68,1360.12 854.37,1359.81 861.06,1359.49 867.75,1359.17 874.44,1358.85 881.13,1358.53 887.82,1358.22 894.511,1357.9 901.201,1357.58 907.891,1357.26 914.581,1356.94 921.271,1356.62 927.961,1356.31 934.651,1355.99 941.341,1355.67 948.031,1355.35 954.722,1355.03 961.412,1354.71 968.102,1354.39 974.792,1354.07 981.482,1353.76 988.172,1353.44 994.862,1353.12 1001.55,1352.8 1008.24,1352.48 1014.93,1352.16 1021.62,1351.84 1028.31,1351.52 1035,1351.2 1041.69,1350.88 1048.38,1350.56 1055.07,1350.24 1061.76,1349.92 1068.45,1349.6 1075.14,1349.28 1081.83,1348.95 1088.52,1348.63 1095.21,1348.31 1101.9,1347.99 1108.59,1347.67 1115.28,1347.35 1121.97,1347.03 1128.66,1346.7 1135.35,1346.38 1142.04,1346.06 1148.74,1345.74 1155.43,1345.41 1162.12,1345.09 1168.81,1344.77 1175.5,1344.45 1182.19,1344.12 1188.88,1343.8 1195.57,1343.47 1202.26,1343.15 1208.95,1342.83 1215.64,1342.5 1222.33,1342.18 1229.02,1341.85 1235.71,1341.53 1242.4,1341.2 1249.09,1340.88 1255.78,1340.55 1262.47,1340.23 1269.16,1339.9 1275.85,1339.57 1282.54,1339.25 1289.23,1338.92 1295.92,1338.59 1302.61,1338.27 1309.3,1337.94 1315.99,1337.61 1322.68,1337.28 1329.37,1336.96 1336.06,1336.63 1342.75,1336.3 1349.44,1335.97 1356.13,1335.64 1362.82,1335.31 1369.51,1334.98 1376.2,1334.65 1382.89,1334.32 1389.58,1333.99 1396.27,1333.66 1402.96,1333.33 1409.65,1333 1416.34,1332.67 1423.03,1332.33 1429.72,1332 1436.41,1331.67 1443.1,1331.33 1449.79,1331 1456.48,1330.67 1463.17,1330.33 1469.86,1330 1476.55,1329.67 1483.24,1329.33 1489.93,1328.99 1496.62,1328.66 1503.31,1328.32 1510,1327.99 1516.69,1327.65 1523.38,1327.31 1530.07,1326.98 1536.76,1326.64 1543.45,1326.3 1550.14,1325.96 1556.83,1325.62 1563.52,1325.28 1570.21,1324.94 1576.9,1324.6 1583.59,1324.26 1590.28,1323.92 1596.97,1323.58 1603.66,1323.24 1610.35,1322.9 1617.04,1322.56 1623.73,1322.21 1630.42,1321.87 1637.11,1321.53 1643.8,1321.18 1650.49,1320.84 1657.18,1320.5 1663.87,1320.15 1670.56,1319.8 1677.25,1319.46 1683.94,1319.11 1690.63,1318.77 1697.32,1318.42 1704.01,1318.07 1710.71,1317.72 1717.4,1317.38 1724.09,1317.03 1730.78,1316.68 1737.47,1316.33 1744.16,1315.98 1750.85,1315.63 1757.54,1315.28 1764.23,1314.92 1770.92,1314.57 1777.61,1314.22 1784.3,1313.87 1790.99,1313.51 1797.68,1313.16 1804.37,1312.81 1811.06,1312.45 1817.75,1312.1 1824.44,1311.74 1831.13,1311.39 1837.82,1311.03 1844.51,1310.67 1851.2,1310.32 1857.89,1309.96 1864.58,1309.6 1871.27,1309.24 1877.96,1308.88 1884.65,1308.52 1891.34,1308.16 1898.03,1307.8 1904.72,1307.44 1911.41,1307.08 1918.1,1306.72 1924.79,1306.36 1931.48,1306 1938.17,1305.63 1944.86,1305.27 1951.55,1304.91 1958.24,1304.54 1964.93,1304.18 1971.62,1303.81 1978.31,1303.45 1985,1303.08 1991.69,1302.71 1998.38,1302.35 2005.07,1301.98 2011.76,1301.61 2018.45,1301.24 2025.14,1300.88 2031.83,1300.51 2038.52,1300.14 2045.21,1299.77 2051.9,1299.4 2058.59,1299.03 2065.28,1298.66 2071.97,1298.28 2078.66,1297.91 2085.35,1297.54 2092.04,1297.17 2098.73,1296.79 2105.42,1296.42 2112.11,1296.05 2118.8,1295.67 2125.49,1295.3 2132.18,1294.92 2138.87,1294.55 2145.56,1294.17 2152.25,1293.8 2158.94,1293.42 2165.63,1293.04 2172.32,1292.67 2179.01,1292.29 2185.7,1291.91 2192.39,1291.53 2199.08,1291.16 2205.77,1290.78 2212.46,1290.4 2219.15,1290.02 2225.84,1289.64 2232.53,1289.26 2239.22,1288.88 2245.91,1288.5 2252.6,1288.12 2259.29,1287.74 2265.99,1287.36 2272.68,1286.98 2279.37,1286.6 2286.06,1286.22 2292.75,1285.83 \"/>\n",
       "<polyline clip-path=\"url(#clip602)\" style=\"stroke:#3da44d; stroke-linecap:round; stroke-linejoin:round; stroke-width:4; stroke-opacity:1; fill:none\" points=\"292.4,160.256 299.09,160.35 305.78,160.449 312.47,160.553 319.16,160.662 325.85,160.776 332.54,160.895 339.231,161.019 345.921,161.148 352.611,161.281 359.301,161.419 365.991,161.561 372.681,161.708 379.371,161.86 386.061,162.016 392.752,162.176 399.442,162.34 406.132,162.509 412.822,162.682 419.512,162.859 426.202,163.04 432.892,163.225 439.582,163.414 446.272,163.606 452.963,163.803 459.653,164.003 466.343,164.207 473.033,164.415 479.723,164.626 486.413,164.841 493.103,165.059 499.793,165.281 506.484,165.506 513.174,165.734 519.864,165.965 526.554,166.2 533.244,166.438 539.934,166.679 546.624,166.923 553.314,167.17 560.005,167.42 566.695,167.673 573.385,167.929 580.075,168.188 586.765,168.449 593.455,168.713 600.145,168.98 606.835,169.25 613.525,169.522 620.216,169.796 626.906,170.073 633.596,170.353 640.286,170.635 646.976,170.919 653.666,171.206 660.356,171.495 667.046,171.786 673.737,172.079 680.427,172.374 687.117,172.672 693.807,172.971 700.497,173.273 707.187,173.577 713.877,173.882 720.567,174.19 727.258,174.499 733.948,174.81 740.638,175.123 747.328,175.438 754.018,175.755 760.708,176.073 767.398,176.393 774.088,176.714 780.778,177.037 787.469,177.362 794.159,177.688 800.849,178.015 807.539,178.344 814.229,178.675 820.919,179.007 827.609,179.34 834.299,179.674 840.99,180.01 847.68,180.347 854.37,180.685 861.06,181.025 867.75,181.365 874.44,181.707 881.13,182.05 887.82,182.394 894.511,182.739 901.201,183.085 907.891,183.432 914.581,183.78 921.271,184.128 927.961,184.478 934.651,184.829 941.341,185.18 948.031,185.533 954.722,185.886 961.412,186.24 968.102,186.595 974.792,186.95 981.482,187.306 988.172,187.663 994.862,188.021 1001.55,188.379 1008.24,188.737 1014.93,189.097 1021.62,189.457 1028.31,189.817 1035,190.178 1041.69,190.54 1048.38,190.902 1055.07,191.264 1061.76,191.627 1068.45,191.991 1075.14,192.354 1081.83,192.719 1088.52,193.083 1095.21,193.448 1101.9,193.813 1108.59,194.179 1115.28,194.545 1121.97,194.911 1128.66,195.277 1135.35,195.644 1142.04,196.011 1148.74,196.378 1155.43,196.746 1162.12,197.113 1168.81,197.481 1175.5,197.849 1182.19,198.217 1188.88,198.585 1195.57,198.953 1202.26,199.322 1208.95,199.69 1215.64,200.059 1222.33,200.427 1229.02,200.796 1235.71,201.165 1242.4,201.534 1249.09,201.902 1255.78,202.271 1262.47,202.64 1269.16,203.009 1275.85,203.378 1282.54,203.746 1289.23,204.115 1295.92,204.484 1302.61,204.852 1309.3,205.221 1315.99,205.589 1322.68,205.957 1329.37,206.325 1336.06,206.693 1342.75,207.061 1349.44,207.429 1356.13,207.797 1362.82,208.164 1369.51,208.532 1376.2,208.899 1382.89,209.266 1389.58,209.633 1396.27,210 1402.96,210.366 1409.65,210.733 1416.34,211.099 1423.03,211.465 1429.72,211.831 1436.41,212.196 1443.1,212.561 1449.79,212.926 1456.48,213.291 1463.17,213.656 1469.86,214.02 1476.55,214.384 1483.24,214.748 1489.93,215.112 1496.62,215.475 1503.31,215.839 1510,216.201 1516.69,216.564 1523.38,216.926 1530.07,217.288 1536.76,217.65 1543.45,218.012 1550.14,218.373 1556.83,218.734 1563.52,219.095 1570.21,219.455 1576.9,219.815 1583.59,220.175 1590.28,220.535 1596.97,220.894 1603.66,221.253 1610.35,221.612 1617.04,221.97 1623.73,222.328 1630.42,222.686 1637.11,223.044 1643.8,223.401 1650.49,223.758 1657.18,224.115 1663.87,224.471 1670.56,224.827 1677.25,225.183 1683.94,225.539 1690.63,225.894 1697.32,226.249 1704.01,226.604 1710.71,226.958 1717.4,227.312 1724.09,227.666 1730.78,228.02 1737.47,228.373 1744.16,228.726 1750.85,229.079 1757.54,229.431 1764.23,229.783 1770.92,230.135 1777.61,230.487 1784.3,230.838 1790.99,231.19 1797.68,231.54 1804.37,231.891 1811.06,232.241 1817.75,232.592 1824.44,232.941 1831.13,233.291 1837.82,233.64 1844.51,233.99 1851.2,234.339 1857.89,234.687 1864.58,235.036 1871.27,235.384 1877.96,235.732 1884.65,236.08 1891.34,236.427 1898.03,236.775 1904.72,237.122 1911.41,237.469 1918.1,237.816 1924.79,238.162 1931.48,238.509 1938.17,238.855 1944.86,239.201 1951.55,239.547 1958.24,239.892 1964.93,240.238 1971.62,240.583 1978.31,240.928 1985,241.273 1991.69,241.618 1998.38,241.963 2005.07,242.308 2011.76,242.652 2018.45,242.996 2025.14,243.34 2031.83,243.684 2038.52,244.028 2045.21,244.372 2051.9,244.716 2058.59,245.06 2065.28,245.403 2071.97,245.746 2078.66,246.09 2085.35,246.433 2092.04,246.776 2098.73,247.119 2105.42,247.462 2112.11,247.805 2118.8,248.148 2125.49,248.491 2132.18,248.834 2138.87,249.176 2145.56,249.519 2152.25,249.862 2158.94,250.204 2165.63,250.547 2172.32,250.889 2179.01,251.232 2185.7,251.574 2192.39,251.917 2199.08,252.259 2205.77,252.602 2212.46,252.944 2219.15,253.287 2225.84,253.629 2232.53,253.972 2239.22,254.314 2245.91,254.657 2252.6,255 2259.29,255.342 2265.99,255.685 2272.68,256.028 2279.37,256.371 2286.06,256.713 2292.75,257.056 \"/>\n",
       "<path clip-path=\"url(#clip600)\" d=\"M2027.42 374.156 L2282.08 374.156 L2282.08 166.796 L2027.42 166.796  Z\" fill=\"#ffffff\" fill-rule=\"evenodd\" fill-opacity=\"1\"/>\n",
       "<polyline clip-path=\"url(#clip600)\" style=\"stroke:#000000; stroke-linecap:round; stroke-linejoin:round; stroke-width:4; stroke-opacity:1; fill:none\" points=\"2027.42,374.156 2282.08,374.156 2282.08,166.796 2027.42,166.796 2027.42,374.156 \"/>\n",
       "<polyline clip-path=\"url(#clip600)\" style=\"stroke:#009af9; stroke-linecap:round; stroke-linejoin:round; stroke-width:4; stroke-opacity:1; fill:none\" points=\"2050.98,218.636 2192.34,218.636 \"/>\n",
       "<path clip-path=\"url(#clip600)\" d=\"M2215.9 225.684 L2215.9 209.99 L2220.16 209.99 L2220.16 225.522 Q2220.16 229.203 2221.6 231.055 Q2223.03 232.883 2225.9 232.883 Q2229.35 232.883 2231.34 230.684 Q2233.36 228.485 2233.36 224.689 L2233.36 209.99 L2237.61 209.99 L2237.61 235.916 L2233.36 235.916 L2233.36 231.934 Q2231.8 234.295 2229.74 235.453 Q2227.71 236.587 2225 236.587 Q2220.53 236.587 2218.22 233.809 Q2215.9 231.031 2215.9 225.684 M2226.62 209.365 L2226.62 209.365 Z\" fill=\"#000000\" fill-rule=\"evenodd\" fill-opacity=\"1\" /><path clip-path=\"url(#clip600)\" d=\"M2245.53 233.369 L2250.25 233.369 L2250.25 219.226 L2245.09 220.175 L2245.09 217.49 L2250.42 216.587 L2253.59 216.587 L2253.59 233.369 L2258.33 233.369 L2258.33 235.916 L2245.53 235.916 L2245.53 233.369 Z\" fill=\"#000000\" fill-rule=\"evenodd\" fill-opacity=\"1\" /><polyline clip-path=\"url(#clip600)\" style=\"stroke:#e26f46; stroke-linecap:round; stroke-linejoin:round; stroke-width:4; stroke-opacity:1; fill:none\" points=\"2050.98,270.476 2192.34,270.476 \"/>\n",
       "<path clip-path=\"url(#clip600)\" d=\"M2215.9 277.524 L2215.9 261.83 L2220.16 261.83 L2220.16 277.362 Q2220.16 281.043 2221.6 282.895 Q2223.03 284.723 2225.9 284.723 Q2229.35 284.723 2231.34 282.524 Q2233.36 280.325 2233.36 276.529 L2233.36 261.83 L2237.61 261.83 L2237.61 287.756 L2233.36 287.756 L2233.36 283.774 Q2231.8 286.135 2229.74 287.293 Q2227.71 288.427 2225 288.427 Q2220.53 288.427 2218.22 285.649 Q2215.9 282.871 2215.9 277.524 M2226.62 261.205 L2226.62 261.205 Z\" fill=\"#000000\" fill-rule=\"evenodd\" fill-opacity=\"1\" /><path clip-path=\"url(#clip600)\" d=\"M2248.12 285.117 L2257.94 285.117 L2257.94 287.756 L2244.1 287.756 L2244.1 285.209 Q2244.88 284.492 2246.34 283.196 Q2254.3 276.135 2254.3 273.959 Q2254.3 272.432 2253.1 271.506 Q2251.9 270.557 2249.93 270.557 Q2248.73 270.557 2247.31 270.973 Q2245.9 271.367 2244.24 272.177 L2244.24 269.33 Q2246.02 268.682 2247.55 268.358 Q2249.1 268.034 2250.42 268.034 Q2253.77 268.034 2255.79 269.561 Q2257.8 271.089 2257.8 273.589 Q2257.8 276.807 2250.14 283.381 Q2248.84 284.492 2248.12 285.117 Z\" fill=\"#000000\" fill-rule=\"evenodd\" fill-opacity=\"1\" /><polyline clip-path=\"url(#clip600)\" style=\"stroke:#3da44d; stroke-linecap:round; stroke-linejoin:round; stroke-width:4; stroke-opacity:1; fill:none\" points=\"2050.98,322.316 2192.34,322.316 \"/>\n",
       "<path clip-path=\"url(#clip600)\" d=\"M2215.9 329.364 L2215.9 313.67 L2220.16 313.67 L2220.16 329.202 Q2220.16 332.883 2221.6 334.735 Q2223.03 336.563 2225.9 336.563 Q2229.35 336.563 2231.34 334.364 Q2233.36 332.165 2233.36 328.369 L2233.36 313.67 L2237.61 313.67 L2237.61 339.596 L2233.36 339.596 L2233.36 335.614 Q2231.8 337.975 2229.74 339.133 Q2227.71 340.267 2225 340.267 Q2220.53 340.267 2218.22 337.489 Q2215.9 334.711 2215.9 329.364 M2226.62 313.045 L2226.62 313.045 Z\" fill=\"#000000\" fill-rule=\"evenodd\" fill-opacity=\"1\" /><path clip-path=\"url(#clip600)\" d=\"M2254.05 329.133 Q2256.18 329.549 2257.34 330.823 Q2258.52 332.073 2258.52 333.971 Q2258.52 336.841 2256.32 338.392 Q2254.12 339.943 2250.02 339.943 Q2248.7 339.943 2247.24 339.688 Q2245.81 339.457 2244.19 338.994 L2244.19 336.193 Q2245.39 336.818 2246.76 337.119 Q2248.15 337.42 2249.7 337.42 Q2252.22 337.42 2253.61 336.517 Q2255 335.591 2255 333.971 Q2255 332.258 2253.7 331.378 Q2252.43 330.499 2249.93 330.499 L2247.94 330.499 L2247.94 327.999 L2250.11 327.999 Q2252.29 327.999 2253.4 327.281 Q2254.54 326.54 2254.54 325.151 Q2254.54 323.809 2253.38 323.114 Q2252.22 322.397 2250.02 322.397 Q2249.1 322.397 2247.92 322.605 Q2246.74 322.813 2244.86 323.346 L2244.86 320.684 Q2246.55 320.29 2248.03 320.082 Q2249.51 319.874 2250.79 319.874 Q2254.12 319.874 2256.06 321.239 Q2258.03 322.605 2258.03 324.897 Q2258.03 326.494 2256.99 327.605 Q2255.95 328.716 2254.05 329.133 Z\" fill=\"#000000\" fill-rule=\"evenodd\" fill-opacity=\"1\" /></svg>\n"
      ]
     },
     "metadata": {},
     "output_type": "display_data"
    }
   ],
   "source": [
    "# Let's solve\n",
    "\n",
    "nx = 6\n",
    "nu = 3\n",
    "N = 301\n",
    "dt = 0.05\n",
    "t_vec = dt*(0:N-1)\n",
    "x0 = [4, 2, 20, -3, 2, -5.0]\n",
    "xg = [0,0,0,0,0,0.0]\n",
    "Xref = [deepcopy(xg) for i = 1:N]\n",
    "Uref = [zeros(nu) for i = 1:N-1]\n",
    "\n",
    "Q = 1e-1*I(nx)\n",
    "R = 1e-0*I(nu)\n",
    "Qf = 100*I(nx)\n",
    "\n",
    "# ground_level = 0.0\n",
    "gravity = [0; 0; -9.81]\n",
    "mass = 10.0\n",
    "# ωPlanet = [0.0; 0.0; 0.0]\n",
    "perWeightMax = 2.0\n",
    "θ_thrust_max = 5.0  # deg\n",
    "# θ_glideslope = 60.0 # deg\n",
    "# glide_recover_k = 8\n",
    "\n",
    "A_cone = [1 0 0; 0 1 0]\n",
    "c_cone = [0.0, 0.0, tand(θ_thrust_max)]\n",
    "u_bnd = mass * abs(gravity[3]) * perWeightMax\n",
    "u_min = -170*ones(nu)\n",
    "u_max =  170*ones(nu)\n",
    "\n",
    "# state is x y v θ\n",
    "x_min = [-5,-5,0,-10,-10,-10.0]\n",
    "x_max = [5,5,20,10,10,10.0]\n",
    "\n",
    "ncx = 2*nx*0\n",
    "ncu = 2*nu*0\n",
    "ncg = 1\n",
    "ncu_cone = nu*1; \n",
    "cone_scale = 1  # very fragile for each problem\n",
    "\n",
    "params = (\n",
    "    nx = nx,\n",
    "    nu = nu,\n",
    "    ncx = ncx,\n",
    "    ncu = ncu,\n",
    "    ncg = ncg,\n",
    "    ncu_cone = ncu_cone,\n",
    "    A_cone = A_cone,\n",
    "    c_cone = c_cone,\n",
    "    N = N,\n",
    "    Q = Q,\n",
    "    R = R,\n",
    "    Qf = Qf,\n",
    "    u_min = u_min,\n",
    "    u_max = u_max,\n",
    "    x_min = x_min,\n",
    "    x_max = x_max,\n",
    "    Xref = Xref,\n",
    "    Uref = Uref,\n",
    "    dt = dt,\n",
    "    mc = 1.0,\n",
    "    mp = 0.2,\n",
    "    l = 0.5,\n",
    "    g = 9.81,\n",
    ");\n",
    "\n",
    "# previous iterate\n",
    "X = [deepcopy(x0) for i = 1:N]\n",
    "U = [zeros(nu) for k = 1:N-1]\n",
    "# X = Xref*1\n",
    "# U = Uref*1\n",
    "# new iterate\n",
    "Xn = deepcopy(X)\n",
    "Un = deepcopy(U)\n",
    "\n",
    "P = [zeros(nx,nx) for i = 1:N]   # cost to go quadratic term\n",
    "p = [zeros(nx) for i = 1:N]      # cost to go linear term\n",
    "d = [zeros(nu) for i = 1:N-1]    # feedforward control\n",
    "K = [zeros(nu,nx) for i = 1:N-1] # feedback gain\n",
    "u_ = mpc(params,X,U,P,p,K,d,Xn,Un; atol=1e-4, max_iters = 20, verbose = true, ρ = 1e0, ϕ = 10.0);\n",
    "function mat_from_vec(X::Vector{Vector{Float64}})::Matrix\n",
    "    # convert a vector of vectors to a matrix \n",
    "    Xm = hcat(X...)\n",
    "    return Xm \n",
    "end\n",
    "Xsim_m = mat_from_vec(Xn)\n",
    "Usim_m = mat_from_vec(Un)\n",
    "using Plots\n",
    "display(plot(t_vec,Xsim_m',label = [\"x₁\" \"x₂\" \"x₃\" \"ẋ₁\" \"ẋ₂\" \"ẋ₃\"],linestyle=[:solid :solid :solid :dash :dash :dash],\n",
    "             title = \"State History\",\n",
    "             xlabel = \"time (s)\", ylabel = \"x\"))\n",
    "display(plot(t_vec[1:end-1],Usim_m',label = [\"u₁\" \"u₂\" \"u₃\"],\n",
    "             title = \"Input History\",\n",
    "             xlabel = \"time (s)\", ylabel = \"u\"))"
   ]
  },
  {
   "cell_type": "markdown",
   "id": "416df651-52ee-4c43-93e5-aca23c5630b2",
   "metadata": {},
   "source": [
    "For TrajOpt, it needs more tricks to get better results:\n",
    "- Hessian of the projection => better approximation (done)\n",
    "- Scaling between conic constraints and other ones (1/rho, Zac did not buy it)\n",
    "- Solution polishing?\n",
    "\n",
    "Maybe, we don't care about TrajOpt problem, except from a good initial guess, there is nothing we can tune to get better performance. How about reset mpc?"
   ]
  },
  {
   "cell_type": "code",
   "execution_count": 667,
   "id": "12ec6530-7479-455f-843a-81d2c40fb13a",
   "metadata": {},
   "outputs": [
    {
     "data": {
      "text/plain": [
       "-0.34275803408714545"
      ]
     },
     "metadata": {},
     "output_type": "display_data"
    },
    {
     "data": {
      "text/plain": [
       "-0.38432830727138345"
      ]
     },
     "metadata": {},
     "output_type": "display_data"
    },
    {
     "data": {
      "text/plain": [
       "-0.4258564126514024"
      ]
     },
     "metadata": {},
     "output_type": "display_data"
    },
    {
     "data": {
      "text/plain": [
       "-0.46734292435859537"
      ]
     },
     "metadata": {},
     "output_type": "display_data"
    },
    {
     "data": {
      "text/plain": [
       "-0.5087883683776049"
      ]
     },
     "metadata": {},
     "output_type": "display_data"
    },
    {
     "data": {
      "text/plain": [
       "-0.5501932861356487"
      ]
     },
     "metadata": {},
     "output_type": "display_data"
    },
    {
     "data": {
      "text/plain": [
       "-0.5915582381431062"
      ]
     },
     "metadata": {},
     "output_type": "display_data"
    },
    {
     "data": {
      "text/plain": [
       "-0.6328837328354933"
      ]
     },
     "metadata": {},
     "output_type": "display_data"
    },
    {
     "data": {
      "text/plain": [
       "-0.6741703252088893"
      ]
     },
     "metadata": {},
     "output_type": "display_data"
    },
    {
     "data": {
      "text/plain": [
       "-0.7154185395232364"
      ]
     },
     "metadata": {},
     "output_type": "display_data"
    },
    {
     "data": {
      "text/plain": [
       "-0.7566289052684922"
      ]
     },
     "metadata": {},
     "output_type": "display_data"
    },
    {
     "data": {
      "text/plain": [
       "-0.7978019532099481"
      ]
     },
     "metadata": {},
     "output_type": "display_data"
    },
    {
     "data": {
      "text/plain": [
       "-0.8389381956189759"
      ]
     },
     "metadata": {},
     "output_type": "display_data"
    },
    {
     "data": {
      "text/plain": [
       "-0.8800381531551587"
      ]
     },
     "metadata": {},
     "output_type": "display_data"
    },
    {
     "data": {
      "text/plain": [
       "-0.9211023660636357"
      ]
     },
     "metadata": {},
     "output_type": "display_data"
    },
    {
     "data": {
      "text/plain": [
       "-0.9621313222927625"
      ]
     },
     "metadata": {},
     "output_type": "display_data"
    },
    {
     "data": {
      "text/plain": [
       "-1.0031255567397022"
      ]
     },
     "metadata": {},
     "output_type": "display_data"
    },
    {
     "data": {
      "text/plain": [
       "-1.0440855241613267"
      ]
     },
     "metadata": {},
     "output_type": "display_data"
    },
    {
     "data": {
      "text/plain": [
       "-1.0850118982549244"
      ]
     },
     "metadata": {},
     "output_type": "display_data"
    },
    {
     "data": {
      "text/plain": [
       "-1.1259049562555692"
      ]
     },
     "metadata": {},
     "output_type": "display_data"
    },
    {
     "data": {
      "text/plain": [
       "-1.166765441639484"
      ]
     },
     "metadata": {},
     "output_type": "display_data"
    },
    {
     "data": {
      "text/plain": [
       "-1.207593623065633"
      ]
     },
     "metadata": {},
     "output_type": "display_data"
    },
    {
     "data": {
      "text/plain": [
       "-1.248390178160931"
      ]
     },
     "metadata": {},
     "output_type": "display_data"
    },
    {
     "data": {
      "text/plain": [
       "-1.289155599328164"
      ]
     },
     "metadata": {},
     "output_type": "display_data"
    },
    {
     "data": {
      "text/plain": [
       "-1.329890234826645"
      ]
     },
     "metadata": {},
     "output_type": "display_data"
    },
    {
     "data": {
      "text/plain": [
       "-1.3705947816933453"
      ]
     },
     "metadata": {},
     "output_type": "display_data"
    },
    {
     "data": {
      "text/plain": [
       "-1.4112695919257243"
      ]
     },
     "metadata": {},
     "output_type": "display_data"
    },
    {
     "data": {
      "text/plain": [
       "-1.4519151961352161"
      ]
     },
     "metadata": {},
     "output_type": "display_data"
    },
    {
     "data": {
      "text/plain": [
       "-1.4925320864765235"
      ]
     },
     "metadata": {},
     "output_type": "display_data"
    },
    {
     "data": {
      "text/plain": [
       "-1.533120772689851"
      ]
     },
     "metadata": {},
     "output_type": "display_data"
    },
    {
     "data": {
      "text/plain": [
       "-1.5736817246612373"
      ]
     },
     "metadata": {},
     "output_type": "display_data"
    },
    {
     "data": {
      "text/plain": [
       "-1.6142154371457131"
      ]
     },
     "metadata": {},
     "output_type": "display_data"
    },
    {
     "data": {
      "text/plain": [
       "-1.6547223399890534"
      ]
     },
     "metadata": {},
     "output_type": "display_data"
    },
    {
     "data": {
      "text/plain": [
       "-1.6952030833023928"
      ]
     },
     "metadata": {},
     "output_type": "display_data"
    },
    {
     "data": {
      "text/plain": [
       "-1.7356579808142243"
      ]
     },
     "metadata": {},
     "output_type": "display_data"
    },
    {
     "data": {
      "text/plain": [
       "-1.776087588025269"
      ]
     },
     "metadata": {},
     "output_type": "display_data"
    },
    {
     "data": {
      "text/plain": [
       "-1.8164923675567515"
      ]
     },
     "metadata": {},
     "output_type": "display_data"
    },
    {
     "data": {
      "text/plain": [
       "-1.8568728058025679"
      ]
     },
     "metadata": {},
     "output_type": "display_data"
    },
    {
     "data": {
      "text/plain": [
       "-1.8972293764082542"
      ]
     },
     "metadata": {},
     "output_type": "display_data"
    },
    {
     "data": {
      "text/plain": [
       "-1.937562573730963"
      ]
     },
     "metadata": {},
     "output_type": "display_data"
    },
    {
     "data": {
      "text/plain": [
       "-1.9778728585040612"
      ]
     },
     "metadata": {},
     "output_type": "display_data"
    },
    {
     "data": {
      "text/plain": [
       "-2.018160712259208"
      ]
     },
     "metadata": {},
     "output_type": "display_data"
    },
    {
     "data": {
      "text/plain": [
       "-2.0584266108377482"
      ]
     },
     "metadata": {},
     "output_type": "display_data"
    },
    {
     "data": {
      "text/plain": [
       "-2.0986710265743733"
      ]
     },
     "metadata": {},
     "output_type": "display_data"
    },
    {
     "data": {
      "text/plain": [
       "-2.138894434927633"
      ]
     },
     "metadata": {},
     "output_type": "display_data"
    },
    {
     "data": {
      "text/plain": [
       "-2.1790973085767273"
      ]
     },
     "metadata": {},
     "output_type": "display_data"
    },
    {
     "data": {
      "text/plain": [
       "-2.2192801181578448"
      ]
     },
     "metadata": {},
     "output_type": "display_data"
    },
    {
     "data": {
      "text/plain": [
       "-2.259443329047296"
      ]
     },
     "metadata": {},
     "output_type": "display_data"
    },
    {
     "data": {
      "text/plain": [
       "-2.2995874312694147"
      ]
     },
     "metadata": {},
     "output_type": "display_data"
    },
    {
     "data": {
      "text/plain": [
       "-2.339712869433712"
      ]
     },
     "metadata": {},
     "output_type": "display_data"
    },
    {
     "data": {
      "text/plain": [
       "-2.3798201303066673"
      ]
     },
     "metadata": {},
     "output_type": "display_data"
    },
    {
     "data": {
      "text/plain": [
       "-2.4199096843918957"
      ]
     },
     "metadata": {},
     "output_type": "display_data"
    },
    {
     "data": {
      "text/plain": [
       "-2.4599819807265613"
      ]
     },
     "metadata": {},
     "output_type": "display_data"
    },
    {
     "data": {
      "text/plain": [
       "-2.5000375047883"
      ]
     },
     "metadata": {},
     "output_type": "display_data"
    },
    {
     "data": {
      "text/plain": [
       "-2.540076723010726"
      ]
     },
     "metadata": {},
     "output_type": "display_data"
    },
    {
     "data": {
      "text/plain": [
       "-2.5801000869487627"
      ]
     },
     "metadata": {},
     "output_type": "display_data"
    },
    {
     "data": {
      "text/plain": [
       "-2.620108077338273"
      ]
     },
     "metadata": {},
     "output_type": "display_data"
    },
    {
     "data": {
      "text/plain": [
       "-2.660101156781466"
      ]
     },
     "metadata": {},
     "output_type": "display_data"
    },
    {
     "data": {
      "text/plain": [
       "-2.7000797399824528"
      ]
     },
     "metadata": {},
     "output_type": "display_data"
    },
    {
     "data": {
      "text/plain": [
       "-2.740044438668524"
      ]
     },
     "metadata": {},
     "output_type": "display_data"
    },
    {
     "data": {
      "text/plain": [
       "-2.7799955781436063"
      ]
     },
     "metadata": {},
     "output_type": "display_data"
    },
    {
     "data": {
      "text/plain": [
       "-2.819933658275941"
      ]
     },
     "metadata": {},
     "output_type": "display_data"
    },
    {
     "data": {
      "text/plain": [
       "-2.8598591509885285"
      ]
     },
     "metadata": {},
     "output_type": "display_data"
    },
    {
     "data": {
      "text/plain": [
       "-2.8997725182434184"
      ]
     },
     "metadata": {},
     "output_type": "display_data"
    },
    {
     "data": {
      "text/plain": [
       "-2.9396742187044937"
      ]
     },
     "metadata": {},
     "output_type": "display_data"
    },
    {
     "data": {
      "text/plain": [
       "-2.9795647310650173"
      ]
     },
     "metadata": {},
     "output_type": "display_data"
    },
    {
     "data": {
      "text/plain": [
       "-3.0194444979480615"
      ]
     },
     "metadata": {},
     "output_type": "display_data"
    },
    {
     "data": {
      "text/plain": [
       "-3.0593140027037604"
      ]
     },
     "metadata": {},
     "output_type": "display_data"
    },
    {
     "data": {
      "text/plain": [
       "-3.099173687064509"
      ]
     },
     "metadata": {},
     "output_type": "display_data"
    },
    {
     "data": {
      "text/plain": [
       "-3.13902403307896"
      ]
     },
     "metadata": {},
     "output_type": "display_data"
    },
    {
     "data": {
      "text/plain": [
       "-3.17886548219452"
      ]
     },
     "metadata": {},
     "output_type": "display_data"
    },
    {
     "data": {
      "text/plain": [
       "-3.2186985162967785"
      ]
     },
     "metadata": {},
     "output_type": "display_data"
    },
    {
     "data": {
      "text/plain": [
       "-3.2585235776345476"
      ]
     },
     "metadata": {},
     "output_type": "display_data"
    },
    {
     "data": {
      "text/plain": [
       "-3.298341146224919"
      ]
     },
     "metadata": {},
     "output_type": "display_data"
    },
    {
     "data": {
      "text/plain": [
       "-3.338151662342611"
      ]
     },
     "metadata": {},
     "output_type": "display_data"
    },
    {
     "data": {
      "text/plain": [
       "-3.3779556079708897"
      ]
     },
     "metadata": {},
     "output_type": "display_data"
    },
    {
     "data": {
      "text/plain": [
       "-3.4177534274917143"
      ]
     },
     "metadata": {},
     "output_type": "display_data"
    },
    {
     "data": {
      "text/plain": [
       "-3.4575455813938625"
      ]
     },
     "metadata": {},
     "output_type": "display_data"
    },
    {
     "data": {
      "text/plain": [
       "-3.497332543143176"
      ]
     },
     "metadata": {},
     "output_type": "display_data"
    },
    {
     "data": {
      "text/plain": [
       "-3.5371147519763753"
      ]
     },
     "metadata": {},
     "output_type": "display_data"
    },
    {
     "data": {
      "text/plain": [
       "-3.5768926831828187"
      ]
     },
     "metadata": {},
     "output_type": "display_data"
    },
    {
     "data": {
      "text/plain": [
       "-3.6166667885888906"
      ]
     },
     "metadata": {},
     "output_type": "display_data"
    },
    {
     "data": {
      "text/plain": [
       "-3.656437531517664"
      ]
     },
     "metadata": {},
     "output_type": "display_data"
    },
    {
     "data": {
      "text/plain": [
       "-3.696205359679986"
      ]
     },
     "metadata": {},
     "output_type": "display_data"
    },
    {
     "data": {
      "text/plain": [
       "-3.7359707343995643"
      ]
     },
     "metadata": {},
     "output_type": "display_data"
    },
    {
     "data": {
      "text/plain": [
       "-3.775734071636368"
      ]
     },
     "metadata": {},
     "output_type": "display_data"
    },
    {
     "data": {
      "text/plain": [
       "-3.8154959515109894"
      ]
     },
     "metadata": {},
     "output_type": "display_data"
    },
    {
     "data": {
      "text/plain": [
       "-3.8552567038058587"
      ]
     },
     "metadata": {},
     "output_type": "display_data"
    },
    {
     "data": {
      "text/plain": [
       "-3.8950168249052544"
      ]
     },
     "metadata": {},
     "output_type": "display_data"
    },
    {
     "data": {
      "text/plain": [
       "-3.934776767987155"
      ]
     },
     "metadata": {},
     "output_type": "display_data"
    },
    {
     "data": {
      "text/plain": [
       "-3.974536982734203"
      ]
     },
     "metadata": {},
     "output_type": "display_data"
    },
    {
     "data": {
      "text/plain": [
       "-4.014297928927241"
      ]
     },
     "metadata": {},
     "output_type": "display_data"
    },
    {
     "data": {
      "text/plain": [
       "-4.054060052907245"
      ]
     },
     "metadata": {},
     "output_type": "display_data"
    },
    {
     "data": {
      "text/plain": [
       "-4.093823805593427"
      ]
     },
     "metadata": {},
     "output_type": "display_data"
    },
    {
     "data": {
      "text/plain": [
       "-4.133589601111359"
      ]
     },
     "metadata": {},
     "output_type": "display_data"
    },
    {
     "data": {
      "text/plain": [
       "-4.173357994731753"
      ]
     },
     "metadata": {},
     "output_type": "display_data"
    },
    {
     "data": {
      "text/plain": [
       "-4.213129315675841"
      ]
     },
     "metadata": {},
     "output_type": "display_data"
    },
    {
     "data": {
      "text/plain": [
       "-4.252904018568152"
      ]
     },
     "metadata": {},
     "output_type": "display_data"
    },
    {
     "data": {
      "text/plain": [
       "-4.292682662205635"
      ]
     },
     "metadata": {},
     "output_type": "display_data"
    },
    {
     "data": {
      "text/plain": [
       "-4.332465526080247"
      ]
     },
     "metadata": {},
     "output_type": "display_data"
    },
    {
     "data": {
      "text/plain": [
       "-4.372253207175036"
      ]
     },
     "metadata": {},
     "output_type": "display_data"
    },
    {
     "data": {
      "text/plain": [
       "-4.4120460292412185"
      ]
     },
     "metadata": {},
     "output_type": "display_data"
    },
    {
     "data": {
      "text/plain": [
       "-4.45184446351279"
      ]
     },
     "metadata": {},
     "output_type": "display_data"
    },
    {
     "data": {
      "text/plain": [
       "-4.4916489551482295"
      ]
     },
     "metadata": {},
     "output_type": "display_data"
    },
    {
     "data": {
      "text/plain": [
       "-4.5314599247613305"
      ]
     },
     "metadata": {},
     "output_type": "display_data"
    },
    {
     "data": {
      "text/plain": [
       "-4.5712778046080365"
      ]
     },
     "metadata": {},
     "output_type": "display_data"
    },
    {
     "data": {
      "text/plain": [
       "-4.611103017581866"
      ]
     },
     "metadata": {},
     "output_type": "display_data"
    },
    {
     "data": {
      "text/plain": [
       "-4.6509359959081245"
      ]
     },
     "metadata": {},
     "output_type": "display_data"
    },
    {
     "data": {
      "text/plain": [
       "-4.690777160306915"
      ]
     },
     "metadata": {},
     "output_type": "display_data"
    },
    {
     "data": {
      "text/plain": [
       "-4.730626920062683"
      ]
     },
     "metadata": {},
     "output_type": "display_data"
    },
    {
     "data": {
      "text/plain": [
       "-4.770485693054038"
      ]
     },
     "metadata": {},
     "output_type": "display_data"
    },
    {
     "data": {
      "text/plain": [
       "-4.810353890982364"
      ]
     },
     "metadata": {},
     "output_type": "display_data"
    },
    {
     "data": {
      "text/plain": [
       "-4.850231919124234"
      ]
     },
     "metadata": {},
     "output_type": "display_data"
    },
    {
     "data": {
      "text/plain": [
       "-4.8901201802253285"
      ]
     },
     "metadata": {},
     "output_type": "display_data"
    },
    {
     "data": {
      "text/plain": [
       "-4.930019068171115"
      ]
     },
     "metadata": {},
     "output_type": "display_data"
    },
    {
     "data": {
      "text/plain": [
       "-4.969928984000063"
      ]
     },
     "metadata": {},
     "output_type": "display_data"
    },
    {
     "data": {
      "text/plain": [
       "-5.009850315608483"
      ]
     },
     "metadata": {},
     "output_type": "display_data"
    },
    {
     "data": {
      "text/plain": [
       "-5.049783437685418"
      ]
     },
     "metadata": {},
     "output_type": "display_data"
    },
    {
     "data": {
      "text/plain": [
       "-5.089728697084185"
      ]
     },
     "metadata": {},
     "output_type": "display_data"
    },
    {
     "data": {
      "text/plain": [
       "-5.1296865620099545"
      ]
     },
     "metadata": {},
     "output_type": "display_data"
    },
    {
     "data": {
      "text/plain": [
       "-5.169657306422392"
      ]
     },
     "metadata": {},
     "output_type": "display_data"
    },
    {
     "data": {
      "text/plain": [
       "-5.209641309568907"
      ]
     },
     "metadata": {},
     "output_type": "display_data"
    },
    {
     "data": {
      "text/plain": [
       "-5.249638924302724"
      ]
     },
     "metadata": {},
     "output_type": "display_data"
    },
    {
     "data": {
      "text/plain": [
       "-5.289650493122295"
      ]
     },
     "metadata": {},
     "output_type": "display_data"
    },
    {
     "data": {
      "text/plain": [
       "-5.329676347730606"
      ]
     },
     "metadata": {},
     "output_type": "display_data"
    },
    {
     "data": {
      "text/plain": [
       "-5.369716812189194"
      ]
     },
     "metadata": {},
     "output_type": "display_data"
    },
    {
     "data": {
      "text/plain": [
       "-5.409772196795302"
      ]
     },
     "metadata": {},
     "output_type": "display_data"
    },
    {
     "data": {
      "text/plain": [
       "-5.449842815627694"
      ]
     },
     "metadata": {},
     "output_type": "display_data"
    },
    {
     "data": {
      "text/plain": [
       "-5.4899289512273395"
      ]
     },
     "metadata": {},
     "output_type": "display_data"
    },
    {
     "data": {
      "text/plain": [
       "-5.530030886661951"
      ]
     },
     "metadata": {},
     "output_type": "display_data"
    },
    {
     "data": {
      "text/plain": [
       "-5.5701488897194995"
      ]
     },
     "metadata": {},
     "output_type": "display_data"
    },
    {
     "data": {
      "text/plain": [
       "-5.610283215606649"
      ]
     },
     "metadata": {},
     "output_type": "display_data"
    },
    {
     "data": {
      "text/plain": [
       "-5.650434099427423"
      ]
     },
     "metadata": {},
     "output_type": "display_data"
    },
    {
     "data": {
      "text/plain": [
       "-5.690601775973972"
      ]
     },
     "metadata": {},
     "output_type": "display_data"
    },
    {
     "data": {
      "text/plain": [
       "-5.730786442140785"
      ]
     },
     "metadata": {},
     "output_type": "display_data"
    },
    {
     "data": {
      "text/plain": [
       "-5.770988290815964"
      ]
     },
     "metadata": {},
     "output_type": "display_data"
    },
    {
     "data": {
      "text/plain": [
       "-5.8112074922042005"
      ]
     },
     "metadata": {},
     "output_type": "display_data"
    },
    {
     "data": {
      "text/plain": [
       "-5.851444195571132"
      ]
     },
     "metadata": {},
     "output_type": "display_data"
    },
    {
     "data": {
      "text/plain": [
       "-5.891698528994949"
      ]
     },
     "metadata": {},
     "output_type": "display_data"
    },
    {
     "data": {
      "text/plain": [
       "-5.93197059608743"
      ]
     },
     "metadata": {},
     "output_type": "display_data"
    },
    {
     "data": {
      "text/plain": [
       "-5.972260473912225"
      ]
     },
     "metadata": {},
     "output_type": "display_data"
    },
    {
     "data": {
      "text/plain": [
       "-6.012568213818151"
      ]
     },
     "metadata": {},
     "output_type": "display_data"
    },
    {
     "data": {
      "text/plain": [
       "-6.052893836467878"
      ]
     },
     "metadata": {},
     "output_type": "display_data"
    },
    {
     "data": {
      "text/plain": [
       "-6.093237329844895"
      ]
     },
     "metadata": {},
     "output_type": "display_data"
    },
    {
     "data": {
      "text/plain": [
       "-6.1335986479041065"
      ]
     },
     "metadata": {},
     "output_type": "display_data"
    },
    {
     "data": {
      "text/plain": [
       "-6.173977707728289"
      ]
     },
     "metadata": {},
     "output_type": "display_data"
    },
    {
     "data": {
      "text/plain": [
       "-6.214374384974873"
      ]
     },
     "metadata": {},
     "output_type": "display_data"
    },
    {
     "data": {
      "text/plain": [
       "-6.2547885116831825"
      ]
     },
     "metadata": {},
     "output_type": "display_data"
    },
    {
     "data": {
      "text/plain": [
       "-6.295219872254998"
      ]
     },
     "metadata": {},
     "output_type": "display_data"
    },
    {
     "data": {
      "text/plain": [
       "-6.335668199631083"
      ]
     },
     "metadata": {},
     "output_type": "display_data"
    },
    {
     "data": {
      "text/plain": [
       "-6.3761331696541665"
      ]
     },
     "metadata": {},
     "output_type": "display_data"
    },
    {
     "data": {
      "text/plain": [
       "-6.4166143974675105"
      ]
     },
     "metadata": {},
     "output_type": "display_data"
    },
    {
     "data": {
      "text/plain": [
       "-6.457111432203273"
      ]
     },
     "metadata": {},
     "output_type": "display_data"
    },
    {
     "data": {
      "text/plain": [
       "-6.497623722984352"
      ]
     },
     "metadata": {},
     "output_type": "display_data"
    },
    {
     "data": {
      "text/plain": [
       "-6.5381507419401785"
      ]
     },
     "metadata": {},
     "output_type": "display_data"
    },
    {
     "data": {
      "text/plain": [
       "-6.578691720678921"
      ]
     },
     "metadata": {},
     "output_type": "display_data"
    },
    {
     "data": {
      "text/plain": [
       "-6.619245894816904"
      ]
     },
     "metadata": {},
     "output_type": "display_data"
    },
    {
     "data": {
      "text/plain": [
       "-6.65981235436367"
      ]
     },
     "metadata": {},
     "output_type": "display_data"
    },
    {
     "data": {
      "text/plain": [
       "-6.700390155483808"
      ]
     },
     "metadata": {},
     "output_type": "display_data"
    },
    {
     "data": {
      "text/plain": [
       "-6.740978089880388"
      ]
     },
     "metadata": {},
     "output_type": "display_data"
    },
    {
     "data": {
      "text/plain": [
       "-6.781574903826752"
      ]
     },
     "metadata": {},
     "output_type": "display_data"
    },
    {
     "data": {
      "text/plain": [
       "-6.822179161867724"
      ]
     },
     "metadata": {},
     "output_type": "display_data"
    },
    {
     "data": {
      "text/plain": [
       "-6.862789253979719"
      ]
     },
     "metadata": {},
     "output_type": "display_data"
    },
    {
     "data": {
      "text/plain": [
       "-6.9034033784058035"
      ]
     },
     "metadata": {},
     "output_type": "display_data"
    },
    {
     "data": {
      "text/plain": [
       "-6.944019516026044"
      ]
     },
     "metadata": {},
     "output_type": "display_data"
    },
    {
     "data": {
      "text/plain": [
       "-6.984635408763784"
      ]
     },
     "metadata": {},
     "output_type": "display_data"
    },
    {
     "data": {
      "text/plain": [
       "-7.0252485273343925"
      ]
     },
     "metadata": {},
     "output_type": "display_data"
    },
    {
     "data": {
      "text/plain": [
       "-7.065856040619578"
      ]
     },
     "metadata": {},
     "output_type": "display_data"
    },
    {
     "data": {
      "text/plain": [
       "-7.1064547544098"
      ]
     },
     "metadata": {},
     "output_type": "display_data"
    },
    {
     "data": {
      "text/plain": [
       "-7.147041178021796"
      ]
     },
     "metadata": {},
     "output_type": "display_data"
    },
    {
     "data": {
      "text/plain": [
       "-7.187611253397"
      ]
     },
     "metadata": {},
     "output_type": "display_data"
    },
    {
     "data": {
      "text/plain": [
       "-7.228160516073678"
      ]
     },
     "metadata": {},
     "output_type": "display_data"
    },
    {
     "data": {
      "text/plain": [
       "-7.2686838948892305"
      ]
     },
     "metadata": {},
     "output_type": "display_data"
    },
    {
     "data": {
      "text/plain": [
       "-7.30917576056748"
      ]
     },
     "metadata": {},
     "output_type": "display_data"
    },
    {
     "data": {
      "text/plain": [
       "-7.349629619541561"
      ]
     },
     "metadata": {},
     "output_type": "display_data"
    },
    {
     "data": {
      "text/plain": [
       "-7.390038214134252"
      ]
     },
     "metadata": {},
     "output_type": "display_data"
    },
    {
     "data": {
      "text/plain": [
       "-7.430393285350245"
      ]
     },
     "metadata": {},
     "output_type": "display_data"
    },
    {
     "data": {
      "text/plain": [
       "-7.470685439058417"
      ]
     },
     "metadata": {},
     "output_type": "display_data"
    },
    {
     "data": {
      "text/plain": [
       "-7.510903959057364"
      ]
     },
     "metadata": {},
     "output_type": "display_data"
    },
    {
     "data": {
      "text/plain": [
       "-7.551036585224066"
      ]
     },
     "metadata": {},
     "output_type": "display_data"
    },
    {
     "data": {
      "text/plain": [
       "-7.591069243281156"
      ]
     },
     "metadata": {},
     "output_type": "display_data"
    },
    {
     "data": {
      "text/plain": [
       "-7.630985703714715"
      ]
     },
     "metadata": {},
     "output_type": "display_data"
    },
    {
     "data": {
      "text/plain": [
       "-7.670767279867706"
      ]
     },
     "metadata": {},
     "output_type": "display_data"
    },
    {
     "data": {
      "text/plain": [
       "-7.7103921578960675"
      ]
     },
     "metadata": {},
     "output_type": "display_data"
    },
    {
     "data": {
      "text/plain": [
       "-7.74983499405427"
      ]
     },
     "metadata": {},
     "output_type": "display_data"
    },
    {
     "data": {
      "text/plain": [
       "-7.78906607156474"
      ]
     },
     "metadata": {},
     "output_type": "display_data"
    },
    {
     "data": {
      "text/plain": [
       "-7.828050505094278"
      ]
     },
     "metadata": {},
     "output_type": "display_data"
    },
    {
     "data": {
      "text/plain": [
       "-7.866746932059195"
      ]
     },
     "metadata": {},
     "output_type": "display_data"
    },
    {
     "data": {
      "text/plain": [
       "-7.905106264360439"
      ]
     },
     "metadata": {},
     "output_type": "display_data"
    },
    {
     "data": {
      "text/plain": [
       "-7.943069909141703"
      ]
     },
     "metadata": {},
     "output_type": "display_data"
    },
    {
     "data": {
      "text/plain": [
       "-7.980567363510091"
      ]
     },
     "metadata": {},
     "output_type": "display_data"
    },
    {
     "data": {
      "text/plain": [
       "-8.01751364550454"
      ]
     },
     "metadata": {},
     "output_type": "display_data"
    },
    {
     "data": {
      "text/plain": [
       "-8.053805479017935"
      ]
     },
     "metadata": {},
     "output_type": "display_data"
    },
    {
     "data": {
      "text/plain": [
       "-8.089316992454833"
      ]
     },
     "metadata": {},
     "output_type": "display_data"
    },
    {
     "data": {
      "text/plain": [
       "-8.123894035873068"
      ]
     },
     "metadata": {},
     "output_type": "display_data"
    },
    {
     "data": {
      "text/plain": [
       "-8.157347297915628"
      ]
     },
     "metadata": {},
     "output_type": "display_data"
    },
    {
     "data": {
      "text/plain": [
       "-8.189444111345852"
      ]
     },
     "metadata": {},
     "output_type": "display_data"
    },
    {
     "data": {
      "text/plain": [
       "-8.219898947257466"
      ]
     },
     "metadata": {},
     "output_type": "display_data"
    },
    {
     "data": {
      "text/plain": [
       "-8.248363527180425"
      ]
     },
     "metadata": {},
     "output_type": "display_data"
    },
    {
     "data": {
      "text/plain": [
       "-8.27441824315839"
      ]
     },
     "metadata": {},
     "output_type": "display_data"
    },
    {
     "data": {
      "text/plain": [
       "-8.297568037935198"
      ]
     },
     "metadata": {},
     "output_type": "display_data"
    },
    {
     "data": {
      "text/plain": [
       "-8.317248328867763"
      ]
     },
     "metadata": {},
     "output_type": "display_data"
    },
    {
     "data": {
      "text/plain": [
       "-8.332848173864008"
      ]
     },
     "metadata": {},
     "output_type": "display_data"
    },
    {
     "data": {
      "text/plain": [
       "-8.343757341644723"
      ]
     },
     "metadata": {},
     "output_type": "display_data"
    },
    {
     "data": {
      "text/plain": [
       "-8.349438108211116"
      ]
     },
     "metadata": {},
     "output_type": "display_data"
    },
    {
     "data": {
      "text/plain": [
       "-8.34951008988464"
      ]
     },
     "metadata": {},
     "output_type": "display_data"
    },
    {
     "data": {
      "text/plain": [
       "-8.343822521422428"
      ]
     },
     "metadata": {},
     "output_type": "display_data"
    },
    {
     "data": {
      "text/plain": [
       "-8.332484942872009"
      ]
     },
     "metadata": {},
     "output_type": "display_data"
    },
    {
     "data": {
      "text/plain": [
       "-8.315842378550379"
      ]
     },
     "metadata": {},
     "output_type": "display_data"
    },
    {
     "data": {
      "text/plain": [
       "-8.2944065565909"
      ]
     },
     "metadata": {},
     "output_type": "display_data"
    },
    {
     "data": {
      "text/plain": [
       "-8.268771469012966"
      ]
     },
     "metadata": {},
     "output_type": "display_data"
    },
    {
     "data": {
      "text/plain": [
       "-8.239539802536614"
      ]
     },
     "metadata": {},
     "output_type": "display_data"
    },
    {
     "data": {
      "text/plain": [
       "-8.207273337403297"
      ]
     },
     "metadata": {},
     "output_type": "display_data"
    },
    {
     "data": {
      "text/plain": [
       "-8.172467539603272"
      ]
     },
     "metadata": {},
     "output_type": "display_data"
    },
    {
     "data": {
      "text/plain": [
       "-8.135544023370887"
      ]
     },
     "metadata": {},
     "output_type": "display_data"
    },
    {
     "data": {
      "text/plain": [
       "-8.096853630231227"
      ]
     },
     "metadata": {},
     "output_type": "display_data"
    },
    {
     "data": {
      "text/plain": [
       "-8.056684531585573"
      ]
     },
     "metadata": {},
     "output_type": "display_data"
    },
    {
     "data": {
      "text/plain": [
       "-8.015271869472429"
      ]
     },
     "metadata": {},
     "output_type": "display_data"
    },
    {
     "data": {
      "text/plain": [
       "-7.972807095743012"
      ]
     },
     "metadata": {},
     "output_type": "display_data"
    },
    {
     "data": {
      "text/plain": [
       "-7.929446211138333"
      ]
     },
     "metadata": {},
     "output_type": "display_data"
    },
    {
     "data": {
      "text/plain": [
       "-7.885316678580731"
      ]
     },
     "metadata": {},
     "output_type": "display_data"
    },
    {
     "data": {
      "text/plain": [
       "-7.840523061606365"
      ]
     },
     "metadata": {},
     "output_type": "display_data"
    },
    {
     "data": {
      "text/plain": [
       "-7.795151549804307"
      ]
     },
     "metadata": {},
     "output_type": "display_data"
    },
    {
     "data": {
      "text/plain": [
       "-7.749273560203438"
      ]
     },
     "metadata": {},
     "output_type": "display_data"
    },
    {
     "data": {
      "text/plain": [
       "-7.702948592692118"
      ]
     },
     "metadata": {},
     "output_type": "display_data"
    },
    {
     "data": {
      "text/plain": [
       "-7.656226492850692"
      ]
     },
     "metadata": {},
     "output_type": "display_data"
    },
    {
     "data": {
      "text/plain": [
       "-7.609149247776454"
      ]
     },
     "metadata": {},
     "output_type": "display_data"
    },
    {
     "data": {
      "text/plain": [
       "-7.561752415588852"
      ]
     },
     "metadata": {},
     "output_type": "display_data"
    },
    {
     "data": {
      "text/plain": [
       "-7.514066267606946"
      ]
     },
     "metadata": {},
     "output_type": "display_data"
    },
    {
     "data": {
      "text/plain": [
       "-7.466116704995582"
      ]
     },
     "metadata": {},
     "output_type": "display_data"
    },
    {
     "data": {
      "text/plain": [
       "-7.417925997906856"
      ]
     },
     "metadata": {},
     "output_type": "display_data"
    },
    {
     "data": {
      "text/plain": [
       "-7.369513384438289"
      ]
     },
     "metadata": {},
     "output_type": "display_data"
    },
    {
     "data": {
      "text/plain": [
       "-7.320895558434035"
      ]
     },
     "metadata": {},
     "output_type": "display_data"
    },
    {
     "data": {
      "text/plain": [
       "-7.272087068756225"
      ]
     },
     "metadata": {},
     "output_type": "display_data"
    },
    {
     "data": {
      "text/plain": [
       "-7.223100647719885"
      ]
     },
     "metadata": {},
     "output_type": "display_data"
    },
    {
     "data": {
      "text/plain": [
       "-7.173947482579361"
      ]
     },
     "metadata": {},
     "output_type": "display_data"
    },
    {
     "data": {
      "text/plain": [
       "-7.1246374410119016"
      ]
     },
     "metadata": {},
     "output_type": "display_data"
    },
    {
     "data": {
      "text/plain": [
       "-7.075179259262941"
      ]
     },
     "metadata": {},
     "output_type": "display_data"
    },
    {
     "data": {
      "text/plain": [
       "-7.025580699842947"
      ]
     },
     "metadata": {},
     "output_type": "display_data"
    },
    {
     "data": {
      "text/plain": [
       "-6.975848684279461"
      ]
     },
     "metadata": {},
     "output_type": "display_data"
    },
    {
     "data": {
      "text/plain": [
       "-6.92598940534075"
      ]
     },
     "metadata": {},
     "output_type": "display_data"
    },
    {
     "data": {
      "text/plain": [
       "-6.876008422291367"
      ]
     },
     "metadata": {},
     "output_type": "display_data"
    },
    {
     "data": {
      "text/plain": [
       "-6.825910742005365"
      ]
     },
     "metadata": {},
     "output_type": "display_data"
    },
    {
     "data": {
      "text/plain": [
       "-6.775700888680521"
      ]
     },
     "metadata": {},
     "output_type": "display_data"
    },
    {
     "data": {
      "text/plain": [
       "-6.725382962872275"
      ]
     },
     "metadata": {},
     "output_type": "display_data"
    },
    {
     "data": {
      "text/plain": [
       "-6.674960693412006"
      ]
     },
     "metadata": {},
     "output_type": "display_data"
    },
    {
     "data": {
      "text/plain": [
       "-6.624437481509447"
      ]
     },
     "metadata": {},
     "output_type": "display_data"
    },
    {
     "data": {
      "text/plain": [
       "-6.573816439230129"
      ]
     },
     "metadata": {},
     "output_type": "display_data"
    },
    {
     "data": {
      "text/plain": [
       "-6.523100423361692"
      ]
     },
     "metadata": {},
     "output_type": "display_data"
    },
    {
     "data": {
      "text/plain": [
       "-6.4722920638917465"
      ]
     },
     "metadata": {},
     "output_type": "display_data"
    },
    {
     "data": {
      "text/plain": [
       "-6.421393790338907"
      ]
     },
     "metadata": {},
     "output_type": "display_data"
    },
    {
     "data": {
      "text/plain": [
       "-6.370407854306925"
      ]
     },
     "metadata": {},
     "output_type": "display_data"
    },
    {
     "data": {
      "text/plain": [
       "-6.3193363469545965"
      ]
     },
     "metadata": {},
     "output_type": "display_data"
    },
    {
     "data": {
      "text/plain": [
       "-6.268181221607906"
      ]
     },
     "metadata": {},
     "output_type": "display_data"
    },
    {
     "data": {
      "text/plain": [
       "-6.21694430262103"
      ]
     },
     "metadata": {},
     "output_type": "display_data"
    },
    {
     "data": {
      "text/plain": [
       "-6.165627304475643"
      ]
     },
     "metadata": {},
     "output_type": "display_data"
    },
    {
     "data": {
      "text/plain": [
       "-6.1142318411124705"
      ]
     },
     "metadata": {},
     "output_type": "display_data"
    },
    {
     "data": {
      "text/plain": [
       "-6.062759437295234"
      ]
     },
     "metadata": {},
     "output_type": "display_data"
    },
    {
     "data": {
      "text/plain": [
       "-6.011211539890535"
      ]
     },
     "metadata": {},
     "output_type": "display_data"
    },
    {
     "data": {
      "text/plain": [
       "-5.959589522917192"
      ]
     },
     "metadata": {},
     "output_type": "display_data"
    },
    {
     "data": {
      "text/plain": [
       "-5.907894699873419"
      ]
     },
     "metadata": {},
     "output_type": "display_data"
    },
    {
     "data": {
      "text/plain": [
       "-5.85612832751824"
      ]
     },
     "metadata": {},
     "output_type": "display_data"
    },
    {
     "data": {
      "text/plain": [
       "-5.804291612677263"
      ]
     },
     "metadata": {},
     "output_type": "display_data"
    },
    {
     "data": {
      "text/plain": [
       "-5.75238571941101"
      ]
     },
     "metadata": {},
     "output_type": "display_data"
    },
    {
     "data": {
      "text/plain": [
       "-5.70041177307332"
      ]
     },
     "metadata": {},
     "output_type": "display_data"
    },
    {
     "data": {
      "text/plain": [
       "-5.648370865052219"
      ]
     },
     "metadata": {},
     "output_type": "display_data"
    },
    {
     "data": {
      "text/plain": [
       "-5.596264056883468"
      ]
     },
     "metadata": {},
     "output_type": "display_data"
    },
    {
     "data": {
      "text/plain": [
       "-5.544092384694843"
      ]
     },
     "metadata": {},
     "output_type": "display_data"
    },
    {
     "data": {
      "text/plain": [
       "-5.491856866567589"
      ]
     },
     "metadata": {},
     "output_type": "display_data"
    },
    {
     "data": {
      "text/plain": [
       "-5.439558486308062"
      ]
     },
     "metadata": {},
     "output_type": "display_data"
    },
    {
     "data": {
      "text/plain": [
       "-5.3871982341531215"
      ]
     },
     "metadata": {},
     "output_type": "display_data"
    },
    {
     "data": {
      "text/plain": [
       "-5.334777072514926"
      ]
     },
     "metadata": {},
     "output_type": "display_data"
    },
    {
     "data": {
      "text/plain": [
       "-5.282295956598464"
      ]
     },
     "metadata": {},
     "output_type": "display_data"
    },
    {
     "data": {
      "text/plain": [
       "-5.2297558337254575"
      ]
     },
     "metadata": {},
     "output_type": "display_data"
    },
    {
     "data": {
      "text/plain": [
       "-5.177157644625843"
      ]
     },
     "metadata": {},
     "output_type": "display_data"
    },
    {
     "data": {
      "text/plain": [
       "-5.12450232600659"
      ]
     },
     "metadata": {},
     "output_type": "display_data"
    },
    {
     "data": {
      "text/plain": [
       "-5.0717908121910735"
      ]
     },
     "metadata": {},
     "output_type": "display_data"
    },
    {
     "data": {
      "text/plain": [
       "-5.019024036564658"
      ]
     },
     "metadata": {},
     "output_type": "display_data"
    },
    {
     "data": {
      "text/plain": [
       "-4.966202934009116"
      ]
     },
     "metadata": {},
     "output_type": "display_data"
    },
    {
     "data": {
      "text/plain": [
       "-4.91332844178241"
      ]
     },
     "metadata": {},
     "output_type": "display_data"
    },
    {
     "data": {
      "text/plain": [
       "-4.860401500957252"
      ]
     },
     "metadata": {},
     "output_type": "display_data"
    },
    {
     "data": {
      "text/plain": [
       "-4.807423058804123"
      ]
     },
     "metadata": {},
     "output_type": "display_data"
    },
    {
     "data": {
      "text/plain": [
       "-4.75439406815193"
      ]
     },
     "metadata": {},
     "output_type": "display_data"
    },
    {
     "data": {
      "text/plain": [
       "-4.701315490673705"
      ]
     },
     "metadata": {},
     "output_type": "display_data"
    },
    {
     "data": {
      "text/plain": [
       "-4.6481882971793596"
      ]
     },
     "metadata": {},
     "output_type": "display_data"
    },
    {
     "data": {
      "text/plain": [
       "-4.595013469091548"
      ]
     },
     "metadata": {},
     "output_type": "display_data"
    },
    {
     "data": {
      "text/plain": [
       "-4.54179199973572"
      ]
     },
     "metadata": {},
     "output_type": "display_data"
    },
    {
     "data": {
      "text/plain": [
       "-4.488524895662372"
      ]
     },
     "metadata": {},
     "output_type": "display_data"
    },
    {
     "data": {
      "text/plain": [
       "-4.435213178023142"
      ]
     },
     "metadata": {},
     "output_type": "display_data"
    },
    {
     "data": {
      "text/plain": [
       "-4.381857884025747"
      ]
     },
     "metadata": {},
     "output_type": "display_data"
    },
    {
     "data": {
      "text/plain": [
       "-4.328460068495188"
      ]
     },
     "metadata": {},
     "output_type": "display_data"
    },
    {
     "data": {
      "text/plain": [
       "-4.275020805572414"
      ]
     },
     "metadata": {},
     "output_type": "display_data"
    },
    {
     "data": {
      "text/plain": [
       "-4.221541190584539"
      ]
     },
     "metadata": {},
     "output_type": "display_data"
    },
    {
     "data": {
      "text/plain": [
       "-4.168022342163262"
      ]
     },
     "metadata": {},
     "output_type": "display_data"
    },
    {
     "data": {
      "text/plain": [
       "-4.1144654043734725"
      ]
     },
     "metadata": {},
     "output_type": "display_data"
    },
    {
     "data": {
      "text/plain": [
       "-4.06087154976411"
      ]
     },
     "metadata": {},
     "output_type": "display_data"
    },
    {
     "data": {
      "text/plain": [
       "-4.007241981747914"
      ]
     },
     "metadata": {},
     "output_type": "display_data"
    },
    {
     "data": {
      "text/plain": [
       "-3.953577938291673"
      ]
     },
     "metadata": {},
     "output_type": "display_data"
    },
    {
     "data": {
      "text/plain": [
       "-3.899880695541367"
      ]
     },
     "metadata": {},
     "output_type": "display_data"
    },
    {
     "data": {
      "text/plain": [
       "-3.8461519563001216"
      ]
     },
     "metadata": {},
     "output_type": "display_data"
    }
   ],
   "source": [
    "# Check conic violation\n",
    "convio = 0.0\n",
    "for k = 1:N-1\n",
    "    Uc = cone_u(params, U[k])\n",
    "    huc = norm(Uc[1:2]) - Uc[3]\n",
    "    convio = norm(huc + abs.(huc),Inf)\n",
    "    display(huc) # should <= 0\n",
    "end\n",
    "Xref .= Xn;\n",
    "Uref .= Un;"
   ]
  },
  {
   "cell_type": "code",
   "execution_count": 675,
   "id": "5c8d15e2-a563-4077-96df-8f829ba24d00",
   "metadata": {},
   "outputs": [],
   "source": [
    "### MPC style with other solver ###\n",
    "include(\"mpc_JuMP.jl\")\n",
    "\n",
    "Nsim = 301\n",
    "Nh = 21\n",
    "t_vec = dt*(0:Nsim-1)\n",
    "\n",
    "x0 = [4, 2, 20, -3, 2, -5.0]  # initial plan\n",
    "# x0 = [5, 2, 21, -3, 2, -5.0]  # change this!\n",
    "# x0 = [4.4, 2.2, 20.2, -3.03, 2.02, -5.05]\n",
    "\n",
    "xg = [0,0,0,0,0,0.0]\n",
    "Q = 100e-1*I(nx)  # make this higher!\n",
    "R = 1e-1*I(nu)\n",
    "Qf = 10*I(nx) # change this!\n",
    "θ_thrust_max = 5.0  # increase max thrust from plan!\n",
    "\n",
    "# state is x y v θ\n",
    "x_min = [-5,-5,0,-10,-10,-10.0]\n",
    "x_max = [5,5,20,10,10,10.0]\n",
    "\n",
    "ncx = 2*nx*0\n",
    "ncu = 2*nu*0\n",
    "ncg = 0\n",
    "ncu_cone = nu*1; \n",
    "cone_scale = 1e0\n",
    "\n",
    "params = (\n",
    "    nx = nx,\n",
    "    nu = nu,\n",
    "    ncx = ncx,\n",
    "    ncu = ncu,\n",
    "    ncg = ncg,\n",
    "    ncu_cone = ncu_cone,\n",
    "    A_cone = A_cone,\n",
    "    c_cone = c_cone,\n",
    "    N = Nh,\n",
    "    Q = Q,\n",
    "    R = R,\n",
    "    Qf = Qf,\n",
    "    u_min = u_min,\n",
    "    u_max = u_max,\n",
    "    x_min = x_min,\n",
    "    x_max = x_max,\n",
    "    Xref = Xref,\n",
    "    Uref = Uref,\n",
    "    dt = dt,\n",
    "    mc = 1.0,\n",
    "    mp = 0.2,\n",
    "    l = 0.5,\n",
    "    g = 9.81,\n",
    ");\n",
    "\n",
    "Xhist = [deepcopy(x0) for i = 1:Nsim]\n",
    "Uhist = [-mass * gravity for k = 1:Nsim-1]\n",
    "# previous iterate\n",
    "X = [deepcopy(x0) for i = 1:Nh]\n",
    "U = [-mass * gravity for k = 1:Nh-1]\n",
    "\n",
    "# new iterate\n",
    "Xn = deepcopy(X)\n",
    "Un = deepcopy(U)\n",
    "\n",
    "P = [zeros(nx,nx) for i = 1:Nh]   # cost to go quadratic term\n",
    "p = [zeros(nx) for i = 1:Nh]      # cost to go linear term\n",
    "d = [zeros(nu) for i = 1:Nh-1]    # feedforward control\n",
    "K = [zeros(nu,nx) for i = 1:Nh-1] # feedback gain\n",
    "\n",
    "optimizer = JuMP.optimizer_with_attributes(COSMO.Optimizer,\n",
    "    \"verbose\"=>false,\n",
    "    \"eps_abs\"=>1e-8,\n",
    "    \"eps_rel\"=>1e-8,\n",
    "    \"rho\"=>1e-2,\n",
    "    \"scaling\"=>0,\n",
    "    \"alpha\"=>1.0)\n",
    "Random.seed!(1);\n",
    "for i = 1:Nsim-Nh-1\n",
    "    params1 = (; params..., Uref = Uref[i:Nh+i], Xref = Xref[i:Nh+i-1])  # update ref\n",
    "    \n",
    "    pos_norm = norm(Xhist[i][1:3], Inf) / 100 # 1% noise\n",
    "    vel_norm = norm(Xhist[4:6], Inf) / 1e6 # 1ppm noise\n",
    "    noise_pos = randn(3)\n",
    "    noise_vel = randn(3)\n",
    "    Xhist[i] += [noise_pos * pos_norm; noise_vel * vel_norm]\n",
    "    \n",
    "    # Uhist[i] = mpc_JuMP(optimizer, params1, Xhist[i], A, B, f)\n",
    "    \n",
    "    # X = [Xhist[i] for i = 1:Nh]  # reset, avoid warm-staring\n",
    "    # U = [-mass * gravity for k = 1:Nh-1]\n",
    "    X[1] .= Xhist[i]; Uhist[i] = mpc(params1,X,U,P,p,K,d,Xn,Un;atol=1e-4,max_iters = 10,verbose = false,ρ = 100, ϕ = 10.0) \n",
    "    \n",
    "    Xhist[i+1] = discrete_dynamics(params1,Xhist[i],Uhist[i],i)  # dynamics\n",
    "end"
   ]
  },
  {
   "cell_type": "markdown",
   "id": "4a1732ad-eb0e-48b4-8896-73a7e8b9997c",
   "metadata": {},
   "source": [
    "1. COSMO gives better tracking results\n",
    "2. Ours always need warm-start"
   ]
  },
  {
   "cell_type": "code",
   "execution_count": 649,
   "id": "d651f59e-e700-4bc9-927c-98835f2679f4",
   "metadata": {},
   "outputs": [
    {
     "data": {
      "text/plain": [
       "-0.34275803574771047"
      ]
     },
     "metadata": {},
     "output_type": "display_data"
    },
    {
     "data": {
      "text/plain": [
       "-0.5859821282258562"
      ]
     },
     "metadata": {},
     "output_type": "display_data"
    },
    {
     "data": {
      "text/plain": [
       "-0.8226138118415367"
      ]
     },
     "metadata": {},
     "output_type": "display_data"
    },
    {
     "data": {
      "text/plain": [
       "-1.0526187414344435"
      ]
     },
     "metadata": {},
     "output_type": "display_data"
    },
    {
     "data": {
      "text/plain": [
       "-1.2759560610967116"
      ]
     },
     "metadata": {},
     "output_type": "display_data"
    },
    {
     "data": {
      "text/plain": [
       "-1.4925778944195534"
      ]
     },
     "metadata": {},
     "output_type": "display_data"
    },
    {
     "data": {
      "text/plain": [
       "-1.702428821923382"
      ]
     },
     "metadata": {},
     "output_type": "display_data"
    },
    {
     "data": {
      "text/plain": [
       "-1.9054453552103938"
      ]
     },
     "metadata": {},
     "output_type": "display_data"
    },
    {
     "data": {
      "text/plain": [
       "-2.1015554210642646"
      ]
     },
     "metadata": {},
     "output_type": "display_data"
    },
    {
     "data": {
      "text/plain": [
       "-2.290677873315988"
      ]
     },
     "metadata": {},
     "output_type": "display_data"
    },
    {
     "data": {
      "text/plain": [
       "-2.472722055922291"
      ]
     },
     "metadata": {},
     "output_type": "display_data"
    },
    {
     "data": {
      "text/plain": [
       "-2.647587447464102"
      ]
     },
     "metadata": {},
     "output_type": "display_data"
    },
    {
     "data": {
      "text/plain": [
       "-2.815163425204645"
      ]
     },
     "metadata": {},
     "output_type": "display_data"
    },
    {
     "data": {
      "text/plain": [
       "-2.975329195889648"
      ]
     },
     "metadata": {},
     "output_type": "display_data"
    },
    {
     "data": {
      "text/plain": [
       "-3.1279539503958116"
      ]
     },
     "metadata": {},
     "output_type": "display_data"
    },
    {
     "data": {
      "text/plain": [
       "-3.272897309671147"
      ]
     },
     "metadata": {},
     "output_type": "display_data"
    },
    {
     "data": {
      "text/plain": [
       "-3.4100101393524094"
      ]
     },
     "metadata": {},
     "output_type": "display_data"
    },
    {
     "data": {
      "text/plain": [
       "-3.5391358187513084"
      ]
     },
     "metadata": {},
     "output_type": "display_data"
    },
    {
     "data": {
      "text/plain": [
       "-3.660112054806998"
      ]
     },
     "metadata": {},
     "output_type": "display_data"
    },
    {
     "data": {
      "text/plain": [
       "-3.7727733307843128"
      ]
     },
     "metadata": {},
     "output_type": "display_data"
    },
    {
     "data": {
      "text/plain": [
       "-3.876954070131247"
      ]
     },
     "metadata": {},
     "output_type": "display_data"
    },
    {
     "data": {
      "text/plain": [
       "-3.9724925748817723"
      ]
     },
     "metadata": {},
     "output_type": "display_data"
    },
    {
     "data": {
      "text/plain": [
       "-4.059235762356112"
      ]
     },
     "metadata": {},
     "output_type": "display_data"
    },
    {
     "data": {
      "text/plain": [
       "-4.137044671587753"
      ]
     },
     "metadata": {},
     "output_type": "display_data"
    },
    {
     "data": {
      "text/plain": [
       "-4.205800641662554"
      ]
     },
     "metadata": {},
     "output_type": "display_data"
    },
    {
     "data": {
      "text/plain": [
       "-4.265411980684429"
      ]
     },
     "metadata": {},
     "output_type": "display_data"
    },
    {
     "data": {
      "text/plain": [
       "-4.315820852961737"
      ]
     },
     "metadata": {},
     "output_type": "display_data"
    },
    {
     "data": {
      "text/plain": [
       "-4.4515950726515126"
      ]
     },
     "metadata": {},
     "output_type": "display_data"
    },
    {
     "data": {
      "text/plain": [
       "-4.48159167474254"
      ]
     },
     "metadata": {},
     "output_type": "display_data"
    },
    {
     "data": {
      "text/plain": [
       "-4.503619989335574"
      ]
     },
     "metadata": {},
     "output_type": "display_data"
    },
    {
     "data": {
      "text/plain": [
       "-4.51787358386157"
      ]
     },
     "metadata": {},
     "output_type": "display_data"
    },
    {
     "data": {
      "text/plain": [
       "-4.524356699115783"
      ]
     },
     "metadata": {},
     "output_type": "display_data"
    },
    {
     "data": {
      "text/plain": [
       "-4.523226259545195"
      ]
     },
     "metadata": {},
     "output_type": "display_data"
    },
    {
     "data": {
      "text/plain": [
       "-4.514898218289289"
      ]
     },
     "metadata": {},
     "output_type": "display_data"
    },
    {
     "data": {
      "text/plain": [
       "-4.499621284533493"
      ]
     },
     "metadata": {},
     "output_type": "display_data"
    },
    {
     "data": {
      "text/plain": [
       "-4.477633732128475"
      ]
     },
     "metadata": {},
     "output_type": "display_data"
    },
    {
     "data": {
      "text/plain": [
       "-4.449174143908023"
      ]
     },
     "metadata": {},
     "output_type": "display_data"
    },
    {
     "data": {
      "text/plain": [
       "-4.414847914138349"
      ]
     },
     "metadata": {},
     "output_type": "display_data"
    },
    {
     "data": {
      "text/plain": [
       "-4.37483252558968"
      ]
     },
     "metadata": {},
     "output_type": "display_data"
    },
    {
     "data": {
      "text/plain": [
       "-4.329609645847196"
      ]
     },
     "metadata": {},
     "output_type": "display_data"
    },
    {
     "data": {
      "text/plain": [
       "-4.279526602477141"
      ]
     },
     "metadata": {},
     "output_type": "display_data"
    },
    {
     "data": {
      "text/plain": [
       "-4.22506283899587"
      ]
     },
     "metadata": {},
     "output_type": "display_data"
    },
    {
     "data": {
      "text/plain": [
       "-4.166548595072838"
      ]
     },
     "metadata": {},
     "output_type": "display_data"
    },
    {
     "data": {
      "text/plain": [
       "-4.104376497221162"
      ]
     },
     "metadata": {},
     "output_type": "display_data"
    },
    {
     "data": {
      "text/plain": [
       "-4.0387668597131325"
      ]
     },
     "metadata": {},
     "output_type": "display_data"
    },
    {
     "data": {
      "text/plain": [
       "-3.9702709323685323"
      ]
     },
     "metadata": {},
     "output_type": "display_data"
    },
    {
     "data": {
      "text/plain": [
       "-3.8990528138355933"
      ]
     },
     "metadata": {},
     "output_type": "display_data"
    },
    {
     "data": {
      "text/plain": [
       "-3.825459582827685"
      ]
     },
     "metadata": {},
     "output_type": "display_data"
    },
    {
     "data": {
      "text/plain": [
       "-3.7496827747008656"
      ]
     },
     "metadata": {},
     "output_type": "display_data"
    },
    {
     "data": {
      "text/plain": [
       "-3.672091543311356"
      ]
     },
     "metadata": {},
     "output_type": "display_data"
    },
    {
     "data": {
      "text/plain": [
       "-3.613585421572665"
      ]
     },
     "metadata": {},
     "output_type": "display_data"
    },
    {
     "data": {
      "text/plain": [
       "-3.5335516196049443"
      ]
     },
     "metadata": {},
     "output_type": "display_data"
    },
    {
     "data": {
      "text/plain": [
       "-3.454525934382197"
      ]
     },
     "metadata": {},
     "output_type": "display_data"
    },
    {
     "data": {
      "text/plain": [
       "-3.3720703063489164"
      ]
     },
     "metadata": {},
     "output_type": "display_data"
    },
    {
     "data": {
      "text/plain": [
       "-3.2885743553209075"
      ]
     },
     "metadata": {},
     "output_type": "display_data"
    },
    {
     "data": {
      "text/plain": [
       "-3.2041485274535604"
      ]
     },
     "metadata": {},
     "output_type": "display_data"
    },
    {
     "data": {
      "text/plain": [
       "-3.1188873281884697"
      ]
     },
     "metadata": {},
     "output_type": "display_data"
    },
    {
     "data": {
      "text/plain": [
       "-3.0328706895235515"
      ]
     },
     "metadata": {},
     "output_type": "display_data"
    },
    {
     "data": {
      "text/plain": [
       "-2.946164654722229"
      ]
     },
     "metadata": {},
     "output_type": "display_data"
    },
    {
     "data": {
      "text/plain": [
       "-2.858819666730123"
      ]
     },
     "metadata": {},
     "output_type": "display_data"
    },
    {
     "data": {
      "text/plain": [
       "-2.7709098221700055"
      ]
     },
     "metadata": {},
     "output_type": "display_data"
    },
    {
     "data": {
      "text/plain": [
       "-2.682430906779574"
      ]
     },
     "metadata": {},
     "output_type": "display_data"
    },
    {
     "data": {
      "text/plain": [
       "-2.59339662056124"
      ]
     },
     "metadata": {},
     "output_type": "display_data"
    },
    {
     "data": {
      "text/plain": [
       "-2.5038187547340325"
      ]
     },
     "metadata": {},
     "output_type": "display_data"
    },
    {
     "data": {
      "text/plain": [
       "-2.413700972105694"
      ]
     },
     "metadata": {},
     "output_type": "display_data"
    },
    {
     "data": {
      "text/plain": [
       "-2.3230334082155313"
      ]
     },
     "metadata": {},
     "output_type": "display_data"
    },
    {
     "data": {
      "text/plain": [
       "-2.2318053470567083"
      ]
     },
     "metadata": {},
     "output_type": "display_data"
    },
    {
     "data": {
      "text/plain": [
       "-2.1399974262484864"
      ]
     },
     "metadata": {},
     "output_type": "display_data"
    },
    {
     "data": {
      "text/plain": [
       "-2.0476175067218607"
      ]
     },
     "metadata": {},
     "output_type": "display_data"
    },
    {
     "data": {
      "text/plain": [
       "-1.9546387429308894"
      ]
     },
     "metadata": {},
     "output_type": "display_data"
    },
    {
     "data": {
      "text/plain": [
       "-1.8610049088145804"
      ]
     },
     "metadata": {},
     "output_type": "display_data"
    },
    {
     "data": {
      "text/plain": [
       "-1.76667842910188"
      ]
     },
     "metadata": {},
     "output_type": "display_data"
    },
    {
     "data": {
      "text/plain": [
       "-1.6716243930581474"
      ]
     },
     "metadata": {},
     "output_type": "display_data"
    },
    {
     "data": {
      "text/plain": [
       "-1.5758053337703126"
      ]
     },
     "metadata": {},
     "output_type": "display_data"
    },
    {
     "data": {
      "text/plain": [
       "-1.4791800137708382"
      ]
     },
     "metadata": {},
     "output_type": "display_data"
    },
    {
     "data": {
      "text/plain": [
       "-1.381743046708479"
      ]
     },
     "metadata": {},
     "output_type": "display_data"
    },
    {
     "data": {
      "text/plain": [
       "-1.283482513892138"
      ]
     },
     "metadata": {},
     "output_type": "display_data"
    },
    {
     "data": {
      "text/plain": [
       "-1.1842979433848013"
      ]
     },
     "metadata": {},
     "output_type": "display_data"
    },
    {
     "data": {
      "text/plain": [
       "-1.084142112908264"
      ]
     },
     "metadata": {},
     "output_type": "display_data"
    },
    {
     "data": {
      "text/plain": [
       "-0.9829755670949778"
      ]
     },
     "metadata": {},
     "output_type": "display_data"
    },
    {
     "data": {
      "text/plain": [
       "-0.880754517025621"
      ]
     },
     "metadata": {},
     "output_type": "display_data"
    },
    {
     "data": {
      "text/plain": [
       "-0.7775646532816589"
      ]
     },
     "metadata": {},
     "output_type": "display_data"
    },
    {
     "data": {
      "text/plain": [
       "-0.6732776602794033"
      ]
     },
     "metadata": {},
     "output_type": "display_data"
    },
    {
     "data": {
      "text/plain": [
       "-0.5678198124508409"
      ]
     },
     "metadata": {},
     "output_type": "display_data"
    },
    {
     "data": {
      "text/plain": [
       "-0.46115902651553586"
      ]
     },
     "metadata": {},
     "output_type": "display_data"
    },
    {
     "data": {
      "text/plain": [
       "-0.34893461420140515"
      ]
     },
     "metadata": {},
     "output_type": "display_data"
    },
    {
     "data": {
      "text/plain": [
       "-0.23456471608389418"
      ]
     },
     "metadata": {},
     "output_type": "display_data"
    },
    {
     "data": {
      "text/plain": [
       "-0.11901527964563208"
      ]
     },
     "metadata": {},
     "output_type": "display_data"
    },
    {
     "data": {
      "text/plain": [
       "-0.0018775304024005735"
      ]
     },
     "metadata": {},
     "output_type": "display_data"
    },
    {
     "data": {
      "text/plain": [
       "0.11712817988929469"
      ]
     },
     "metadata": {},
     "output_type": "display_data"
    },
    {
     "data": {
      "text/plain": [
       "0.2375523070375678"
      ]
     },
     "metadata": {},
     "output_type": "display_data"
    },
    {
     "data": {
      "text/plain": [
       "0.3594784382858922"
      ]
     },
     "metadata": {},
     "output_type": "display_data"
    },
    {
     "data": {
      "text/plain": [
       "0.48292890983197534"
      ]
     },
     "metadata": {},
     "output_type": "display_data"
    },
    {
     "data": {
      "text/plain": [
       "0.6078965119094963"
      ]
     },
     "metadata": {},
     "output_type": "display_data"
    },
    {
     "data": {
      "text/plain": [
       "0.7344313016205986"
      ]
     },
     "metadata": {},
     "output_type": "display_data"
    },
    {
     "data": {
      "text/plain": [
       "0.8625387820586763"
      ]
     },
     "metadata": {},
     "output_type": "display_data"
    },
    {
     "data": {
      "text/plain": [
       "0.9922319918509181"
      ]
     },
     "metadata": {},
     "output_type": "display_data"
    },
    {
     "data": {
      "text/plain": [
       "1.1235217059316707"
      ]
     },
     "metadata": {},
     "output_type": "display_data"
    },
    {
     "data": {
      "text/plain": [
       "1.2564221180113249"
      ]
     },
     "metadata": {},
     "output_type": "display_data"
    },
    {
     "data": {
      "text/plain": [
       "1.3909376400027114"
      ]
     },
     "metadata": {},
     "output_type": "display_data"
    },
    {
     "data": {
      "text/plain": [
       "1.5270711017505727"
      ]
     },
     "metadata": {},
     "output_type": "display_data"
    },
    {
     "data": {
      "text/plain": [
       "1.664832314932461"
      ]
     },
     "metadata": {},
     "output_type": "display_data"
    },
    {
     "data": {
      "text/plain": [
       "1.8042142950354743"
      ]
     },
     "metadata": {},
     "output_type": "display_data"
    },
    {
     "data": {
      "text/plain": [
       "1.945220716699092"
      ]
     },
     "metadata": {},
     "output_type": "display_data"
    },
    {
     "data": {
      "text/plain": [
       "2.0878474748063347"
      ]
     },
     "metadata": {},
     "output_type": "display_data"
    },
    {
     "data": {
      "text/plain": [
       "2.2320996169164093"
      ]
     },
     "metadata": {},
     "output_type": "display_data"
    },
    {
     "data": {
      "text/plain": [
       "2.377937810142069"
      ]
     },
     "metadata": {},
     "output_type": "display_data"
    },
    {
     "data": {
      "text/plain": [
       "2.5253860056961104"
      ]
     },
     "metadata": {},
     "output_type": "display_data"
    },
    {
     "data": {
      "text/plain": [
       "2.6744212859081378"
      ]
     },
     "metadata": {},
     "output_type": "display_data"
    },
    {
     "data": {
      "text/plain": [
       "2.825031787758874"
      ]
     },
     "metadata": {},
     "output_type": "display_data"
    },
    {
     "data": {
      "text/plain": [
       "2.9772020499501"
      ]
     },
     "metadata": {},
     "output_type": "display_data"
    },
    {
     "data": {
      "text/plain": [
       "3.13092093383262"
      ]
     },
     "metadata": {},
     "output_type": "display_data"
    },
    {
     "data": {
      "text/plain": [
       "3.2861698989654933"
      ]
     },
     "metadata": {},
     "output_type": "display_data"
    },
    {
     "data": {
      "text/plain": [
       "3.4429274116884088"
      ]
     },
     "metadata": {},
     "output_type": "display_data"
    },
    {
     "data": {
      "text/plain": [
       "3.601174478147237"
      ]
     },
     "metadata": {},
     "output_type": "display_data"
    },
    {
     "data": {
      "text/plain": [
       "3.760890973605423"
      ]
     },
     "metadata": {},
     "output_type": "display_data"
    },
    {
     "data": {
      "text/plain": [
       "3.922061930212836"
      ]
     },
     "metadata": {},
     "output_type": "display_data"
    },
    {
     "data": {
      "text/plain": [
       "4.084637511178609"
      ]
     },
     "metadata": {},
     "output_type": "display_data"
    },
    {
     "data": {
      "text/plain": [
       "4.24862107414358"
      ]
     },
     "metadata": {},
     "output_type": "display_data"
    },
    {
     "data": {
      "text/plain": [
       "4.4139779177827805"
      ]
     },
     "metadata": {},
     "output_type": "display_data"
    },
    {
     "data": {
      "text/plain": [
       "4.580680623830621"
      ]
     },
     "metadata": {},
     "output_type": "display_data"
    },
    {
     "data": {
      "text/plain": [
       "4.7486997598642455"
      ]
     },
     "metadata": {},
     "output_type": "display_data"
    },
    {
     "data": {
      "text/plain": [
       "4.9180130941577"
      ]
     },
     "metadata": {},
     "output_type": "display_data"
    },
    {
     "data": {
      "text/plain": [
       "5.088587567340921"
      ]
     },
     "metadata": {},
     "output_type": "display_data"
    },
    {
     "data": {
      "text/plain": [
       "5.260389370737528"
      ]
     },
     "metadata": {},
     "output_type": "display_data"
    },
    {
     "data": {
      "text/plain": [
       "5.433392317117705"
      ]
     },
     "metadata": {},
     "output_type": "display_data"
    },
    {
     "data": {
      "text/plain": [
       "5.607566076808818"
      ]
     },
     "metadata": {},
     "output_type": "display_data"
    },
    {
     "data": {
      "text/plain": [
       "5.782874199415921"
      ]
     },
     "metadata": {},
     "output_type": "display_data"
    },
    {
     "data": {
      "text/plain": [
       "5.959298647088596"
      ]
     },
     "metadata": {},
     "output_type": "display_data"
    },
    {
     "data": {
      "text/plain": [
       "6.136767306952873"
      ]
     },
     "metadata": {},
     "output_type": "display_data"
    },
    {
     "data": {
      "text/plain": [
       "6.315283583011356"
      ]
     },
     "metadata": {},
     "output_type": "display_data"
    },
    {
     "data": {
      "text/plain": [
       "6.494803249312322"
      ]
     },
     "metadata": {},
     "output_type": "display_data"
    },
    {
     "data": {
      "text/plain": [
       "6.6752918752307275"
      ]
     },
     "metadata": {},
     "output_type": "display_data"
    },
    {
     "data": {
      "text/plain": [
       "6.856708820682155"
      ]
     },
     "metadata": {},
     "output_type": "display_data"
    },
    {
     "data": {
      "text/plain": [
       "7.039021141299946"
      ]
     },
     "metadata": {},
     "output_type": "display_data"
    },
    {
     "data": {
      "text/plain": [
       "7.222194417758919"
      ]
     },
     "metadata": {},
     "output_type": "display_data"
    },
    {
     "data": {
      "text/plain": [
       "7.406189995512852"
      ]
     },
     "metadata": {},
     "output_type": "display_data"
    },
    {
     "data": {
      "text/plain": [
       "7.590972009627671"
      ]
     },
     "metadata": {},
     "output_type": "display_data"
    },
    {
     "data": {
      "text/plain": [
       "7.776512900881163"
      ]
     },
     "metadata": {},
     "output_type": "display_data"
    },
    {
     "data": {
      "text/plain": [
       "7.962740506240824"
      ]
     },
     "metadata": {},
     "output_type": "display_data"
    },
    {
     "data": {
      "text/plain": [
       "8.149671105750272"
      ]
     },
     "metadata": {},
     "output_type": "display_data"
    },
    {
     "data": {
      "text/plain": [
       "8.337205277627435"
      ]
     },
     "metadata": {},
     "output_type": "display_data"
    },
    {
     "data": {
      "text/plain": [
       "8.52535315622719"
      ]
     },
     "metadata": {},
     "output_type": "display_data"
    },
    {
     "data": {
      "text/plain": [
       "8.714071290661195"
      ]
     },
     "metadata": {},
     "output_type": "display_data"
    },
    {
     "data": {
      "text/plain": [
       "8.903296345240925"
      ]
     },
     "metadata": {},
     "output_type": "display_data"
    },
    {
     "data": {
      "text/plain": [
       "9.09298646066526"
      ]
     },
     "metadata": {},
     "output_type": "display_data"
    },
    {
     "data": {
      "text/plain": [
       "9.283137722892988"
      ]
     },
     "metadata": {},
     "output_type": "display_data"
    },
    {
     "data": {
      "text/plain": [
       "9.473700281879394"
      ]
     },
     "metadata": {},
     "output_type": "display_data"
    },
    {
     "data": {
      "text/plain": [
       "9.664615369014015"
      ]
     },
     "metadata": {},
     "output_type": "display_data"
    },
    {
     "data": {
      "text/plain": [
       "9.855850436864685"
      ]
     },
     "metadata": {},
     "output_type": "display_data"
    },
    {
     "data": {
      "text/plain": [
       "10.04736843184703"
      ]
     },
     "metadata": {},
     "output_type": "display_data"
    },
    {
     "data": {
      "text/plain": [
       "10.239118230357672"
      ]
     },
     "metadata": {},
     "output_type": "display_data"
    },
    {
     "data": {
      "text/plain": [
       "10.431083838910165"
      ]
     },
     "metadata": {},
     "output_type": "display_data"
    },
    {
     "data": {
      "text/plain": [
       "10.623216623707249"
      ]
     },
     "metadata": {},
     "output_type": "display_data"
    },
    {
     "data": {
      "text/plain": [
       "10.815483105830499"
      ]
     },
     "metadata": {},
     "output_type": "display_data"
    },
    {
     "data": {
      "text/plain": [
       "11.007821650331294"
      ]
     },
     "metadata": {},
     "output_type": "display_data"
    },
    {
     "data": {
      "text/plain": [
       "11.200182879832635"
      ]
     },
     "metadata": {},
     "output_type": "display_data"
    },
    {
     "data": {
      "text/plain": [
       "11.392561801131938"
      ]
     },
     "metadata": {},
     "output_type": "display_data"
    },
    {
     "data": {
      "text/plain": [
       "11.584921245152206"
      ]
     },
     "metadata": {},
     "output_type": "display_data"
    },
    {
     "data": {
      "text/plain": [
       "11.777167873836643"
      ]
     },
     "metadata": {},
     "output_type": "display_data"
    },
    {
     "data": {
      "text/plain": [
       "11.969309498206323"
      ]
     },
     "metadata": {},
     "output_type": "display_data"
    },
    {
     "data": {
      "text/plain": [
       "12.161306728018236"
      ]
     },
     "metadata": {},
     "output_type": "display_data"
    },
    {
     "data": {
      "text/plain": [
       "12.353068121273088"
      ]
     },
     "metadata": {},
     "output_type": "display_data"
    },
    {
     "data": {
      "text/plain": [
       "12.544604242945413"
      ]
     },
     "metadata": {},
     "output_type": "display_data"
    },
    {
     "data": {
      "text/plain": [
       "12.735854063412887"
      ]
     },
     "metadata": {},
     "output_type": "display_data"
    },
    {
     "data": {
      "text/plain": [
       "12.926779865123834"
      ]
     },
     "metadata": {},
     "output_type": "display_data"
    },
    {
     "data": {
      "text/plain": [
       "13.117339115251818"
      ]
     },
     "metadata": {},
     "output_type": "display_data"
    },
    {
     "data": {
      "text/plain": [
       "13.30750651577425"
      ]
     },
     "metadata": {},
     "output_type": "display_data"
    },
    {
     "data": {
      "text/plain": [
       "13.49719172068056"
      ]
     },
     "metadata": {},
     "output_type": "display_data"
    },
    {
     "data": {
      "text/plain": [
       "13.68640235946921"
      ]
     },
     "metadata": {},
     "output_type": "display_data"
    },
    {
     "data": {
      "text/plain": [
       "13.875084000040323"
      ]
     },
     "metadata": {},
     "output_type": "display_data"
    },
    {
     "data": {
      "text/plain": [
       "14.063190801504316"
      ]
     },
     "metadata": {},
     "output_type": "display_data"
    },
    {
     "data": {
      "text/plain": [
       "14.250684593735638"
      ]
     },
     "metadata": {},
     "output_type": "display_data"
    },
    {
     "data": {
      "text/plain": [
       "14.437519161404756"
      ]
     },
     "metadata": {},
     "output_type": "display_data"
    },
    {
     "data": {
      "text/plain": [
       "14.623657500745567"
      ]
     },
     "metadata": {},
     "output_type": "display_data"
    },
    {
     "data": {
      "text/plain": [
       "14.809056565735492"
      ]
     },
     "metadata": {},
     "output_type": "display_data"
    },
    {
     "data": {
      "text/plain": [
       "14.993665565934016"
      ]
     },
     "metadata": {},
     "output_type": "display_data"
    },
    {
     "data": {
      "text/plain": [
       "15.177450116432908"
      ]
     },
     "metadata": {},
     "output_type": "display_data"
    },
    {
     "data": {
      "text/plain": [
       "15.360388840055837"
      ]
     },
     "metadata": {},
     "output_type": "display_data"
    },
    {
     "data": {
      "text/plain": [
       "15.542403554453745"
      ]
     },
     "metadata": {},
     "output_type": "display_data"
    },
    {
     "data": {
      "text/plain": [
       "15.723447399323373"
      ]
     },
     "metadata": {},
     "output_type": "display_data"
    },
    {
     "data": {
      "text/plain": [
       "15.903520807560756"
      ]
     },
     "metadata": {},
     "output_type": "display_data"
    },
    {
     "data": {
      "text/plain": [
       "16.082568917140215"
      ]
     },
     "metadata": {},
     "output_type": "display_data"
    },
    {
     "data": {
      "text/plain": [
       "16.26055597906825"
      ]
     },
     "metadata": {},
     "output_type": "display_data"
    },
    {
     "data": {
      "text/plain": [
       "16.437392375748736"
      ]
     },
     "metadata": {},
     "output_type": "display_data"
    },
    {
     "data": {
      "text/plain": [
       "16.613090472516216"
      ]
     },
     "metadata": {},
     "output_type": "display_data"
    },
    {
     "data": {
      "text/plain": [
       "16.787590823908577"
      ]
     },
     "metadata": {},
     "output_type": "display_data"
    },
    {
     "data": {
      "text/plain": [
       "16.960847806792792"
      ]
     },
     "metadata": {},
     "output_type": "display_data"
    },
    {
     "data": {
      "text/plain": [
       "17.132823419528123"
      ]
     },
     "metadata": {},
     "output_type": "display_data"
    },
    {
     "data": {
      "text/plain": [
       "17.303472694081176"
      ]
     },
     "metadata": {},
     "output_type": "display_data"
    },
    {
     "data": {
      "text/plain": [
       "17.472752679452007"
      ]
     },
     "metadata": {},
     "output_type": "display_data"
    },
    {
     "data": {
      "text/plain": [
       "17.640647748138022"
      ]
     },
     "metadata": {},
     "output_type": "display_data"
    },
    {
     "data": {
      "text/plain": [
       "17.80704546214414"
      ]
     },
     "metadata": {},
     "output_type": "display_data"
    },
    {
     "data": {
      "text/plain": [
       "17.971972962346282"
      ]
     },
     "metadata": {},
     "output_type": "display_data"
    },
    {
     "data": {
      "text/plain": [
       "18.135364609520686"
      ]
     },
     "metadata": {},
     "output_type": "display_data"
    },
    {
     "data": {
      "text/plain": [
       "18.297175717250628"
      ]
     },
     "metadata": {},
     "output_type": "display_data"
    },
    {
     "data": {
      "text/plain": [
       "18.45738921780047"
      ]
     },
     "metadata": {},
     "output_type": "display_data"
    },
    {
     "data": {
      "text/plain": [
       "18.61589662754627"
      ]
     },
     "metadata": {},
     "output_type": "display_data"
    },
    {
     "data": {
      "text/plain": [
       "18.772719717389624"
      ]
     },
     "metadata": {},
     "output_type": "display_data"
    },
    {
     "data": {
      "text/plain": [
       "18.927796038799226"
      ]
     },
     "metadata": {},
     "output_type": "display_data"
    },
    {
     "data": {
      "text/plain": [
       "19.08107905387632"
      ]
     },
     "metadata": {},
     "output_type": "display_data"
    },
    {
     "data": {
      "text/plain": [
       "19.232536869903022"
      ]
     },
     "metadata": {},
     "output_type": "display_data"
    },
    {
     "data": {
      "text/plain": [
       "19.38211432393109"
      ]
     },
     "metadata": {},
     "output_type": "display_data"
    },
    {
     "data": {
      "text/plain": [
       "19.529779477913966"
      ]
     },
     "metadata": {},
     "output_type": "display_data"
    },
    {
     "data": {
      "text/plain": [
       "19.675485032158882"
      ]
     },
     "metadata": {},
     "output_type": "display_data"
    },
    {
     "data": {
      "text/plain": [
       "19.81920995654619"
      ]
     },
     "metadata": {},
     "output_type": "display_data"
    },
    {
     "data": {
      "text/plain": [
       "19.960842143047163"
      ]
     },
     "metadata": {},
     "output_type": "display_data"
    },
    {
     "data": {
      "text/plain": [
       "20.100440733794866"
      ]
     },
     "metadata": {},
     "output_type": "display_data"
    },
    {
     "data": {
      "text/plain": [
       "20.23787976421577"
      ]
     },
     "metadata": {},
     "output_type": "display_data"
    },
    {
     "data": {
      "text/plain": [
       "20.373153493987246"
      ]
     },
     "metadata": {},
     "output_type": "display_data"
    },
    {
     "data": {
      "text/plain": [
       "20.506185500329046"
      ]
     },
     "metadata": {},
     "output_type": "display_data"
    },
    {
     "data": {
      "text/plain": [
       "20.63698384133881"
      ]
     },
     "metadata": {},
     "output_type": "display_data"
    },
    {
     "data": {
      "text/plain": [
       "20.76548155620203"
      ]
     },
     "metadata": {},
     "output_type": "display_data"
    },
    {
     "data": {
      "text/plain": [
       "20.891643749431886"
      ]
     },
     "metadata": {},
     "output_type": "display_data"
    },
    {
     "data": {
      "text/plain": [
       "21.015414576660095"
      ]
     },
     "metadata": {},
     "output_type": "display_data"
    },
    {
     "data": {
      "text/plain": [
       "21.13678753915793"
      ]
     },
     "metadata": {},
     "output_type": "display_data"
    },
    {
     "data": {
      "text/plain": [
       "21.255618065295238"
      ]
     },
     "metadata": {},
     "output_type": "display_data"
    },
    {
     "data": {
      "text/plain": [
       "21.37195880352629"
      ]
     },
     "metadata": {},
     "output_type": "display_data"
    },
    {
     "data": {
      "text/plain": [
       "21.485739567367453"
      ]
     },
     "metadata": {},
     "output_type": "display_data"
    },
    {
     "data": {
      "text/plain": [
       "21.59692821193375"
      ]
     },
     "metadata": {},
     "output_type": "display_data"
    },
    {
     "data": {
      "text/plain": [
       "21.70547339821428"
      ]
     },
     "metadata": {},
     "output_type": "display_data"
    },
    {
     "data": {
      "text/plain": [
       "21.811335163753938"
      ]
     },
     "metadata": {},
     "output_type": "display_data"
    },
    {
     "data": {
      "text/plain": [
       "21.914469763158756"
      ]
     },
     "metadata": {},
     "output_type": "display_data"
    },
    {
     "data": {
      "text/plain": [
       "22.014860741009684"
      ]
     },
     "metadata": {},
     "output_type": "display_data"
    },
    {
     "data": {
      "text/plain": [
       "22.112391668144994"
      ]
     },
     "metadata": {},
     "output_type": "display_data"
    },
    {
     "data": {
      "text/plain": [
       "22.20709080583241"
      ]
     },
     "metadata": {},
     "output_type": "display_data"
    },
    {
     "data": {
      "text/plain": [
       "22.298890252803716"
      ]
     },
     "metadata": {},
     "output_type": "display_data"
    },
    {
     "data": {
      "text/plain": [
       "22.387755410712927"
      ]
     },
     "metadata": {},
     "output_type": "display_data"
    },
    {
     "data": {
      "text/plain": [
       "22.47363530599505"
      ]
     },
     "metadata": {},
     "output_type": "display_data"
    },
    {
     "data": {
      "text/plain": [
       "22.556490105728795"
      ]
     },
     "metadata": {},
     "output_type": "display_data"
    },
    {
     "data": {
      "text/plain": [
       "22.636273055774172"
      ]
     },
     "metadata": {},
     "output_type": "display_data"
    },
    {
     "data": {
      "text/plain": [
       "22.712950917996146"
      ]
     },
     "metadata": {},
     "output_type": "display_data"
    },
    {
     "data": {
      "text/plain": [
       "22.78646877018373"
      ]
     },
     "metadata": {},
     "output_type": "display_data"
    },
    {
     "data": {
      "text/plain": [
       "22.856798362008277"
      ]
     },
     "metadata": {},
     "output_type": "display_data"
    },
    {
     "data": {
      "text/plain": [
       "22.923884704558745"
      ]
     },
     "metadata": {},
     "output_type": "display_data"
    },
    {
     "data": {
      "text/plain": [
       "22.987712126729484"
      ]
     },
     "metadata": {},
     "output_type": "display_data"
    },
    {
     "data": {
      "text/plain": [
       "23.048163205187542"
      ]
     },
     "metadata": {},
     "output_type": "display_data"
    },
    {
     "data": {
      "text/plain": [
       "23.10527586955341"
      ]
     },
     "metadata": {},
     "output_type": "display_data"
    },
    {
     "data": {
      "text/plain": [
       "23.15900537568594"
      ]
     },
     "metadata": {},
     "output_type": "display_data"
    },
    {
     "data": {
      "text/plain": [
       "23.20925725903479"
      ]
     },
     "metadata": {},
     "output_type": "display_data"
    },
    {
     "data": {
      "text/plain": [
       "23.255984526200706"
      ]
     },
     "metadata": {},
     "output_type": "display_data"
    },
    {
     "data": {
      "text/plain": [
       "23.29923507575146"
      ]
     },
     "metadata": {},
     "output_type": "display_data"
    },
    {
     "data": {
      "text/plain": [
       "23.33884451615076"
      ]
     },
     "metadata": {},
     "output_type": "display_data"
    },
    {
     "data": {
      "text/plain": [
       "23.374867873017042"
      ]
     },
     "metadata": {},
     "output_type": "display_data"
    },
    {
     "data": {
      "text/plain": [
       "23.40722264711013"
      ]
     },
     "metadata": {},
     "output_type": "display_data"
    },
    {
     "data": {
      "text/plain": [
       "23.435872494896106"
      ]
     },
     "metadata": {},
     "output_type": "display_data"
    },
    {
     "data": {
      "text/plain": [
       "23.46074531588466"
      ]
     },
     "metadata": {},
     "output_type": "display_data"
    },
    {
     "data": {
      "text/plain": [
       "23.481817179150475"
      ]
     },
     "metadata": {},
     "output_type": "display_data"
    },
    {
     "data": {
      "text/plain": [
       "23.4990527272626"
      ]
     },
     "metadata": {},
     "output_type": "display_data"
    },
    {
     "data": {
      "text/plain": [
       "23.51242080238565"
      ]
     },
     "metadata": {},
     "output_type": "display_data"
    },
    {
     "data": {
      "text/plain": [
       "23.521868891605685"
      ]
     },
     "metadata": {},
     "output_type": "display_data"
    },
    {
     "data": {
      "text/plain": [
       "23.527356496177486"
      ]
     },
     "metadata": {},
     "output_type": "display_data"
    },
    {
     "data": {
      "text/plain": [
       "23.528876708313703"
      ]
     },
     "metadata": {},
     "output_type": "display_data"
    },
    {
     "data": {
      "text/plain": [
       "23.526322917275618"
      ]
     },
     "metadata": {},
     "output_type": "display_data"
    },
    {
     "data": {
      "text/plain": [
       "23.519655307809884"
      ]
     },
     "metadata": {},
     "output_type": "display_data"
    },
    {
     "data": {
      "text/plain": [
       "23.508898292279888"
      ]
     },
     "metadata": {},
     "output_type": "display_data"
    },
    {
     "data": {
      "text/plain": [
       "23.493970695451218"
      ]
     },
     "metadata": {},
     "output_type": "display_data"
    },
    {
     "data": {
      "text/plain": [
       "23.474836888577457"
      ]
     },
     "metadata": {},
     "output_type": "display_data"
    },
    {
     "data": {
      "text/plain": [
       "23.451455789903143"
      ]
     },
     "metadata": {},
     "output_type": "display_data"
    },
    {
     "data": {
      "text/plain": [
       "23.423784406000866"
      ]
     },
     "metadata": {},
     "output_type": "display_data"
    },
    {
     "data": {
      "text/plain": [
       "23.39181035612546"
      ]
     },
     "metadata": {},
     "output_type": "display_data"
    },
    {
     "data": {
      "text/plain": [
       "23.35540368844743"
      ]
     },
     "metadata": {},
     "output_type": "display_data"
    },
    {
     "data": {
      "text/plain": [
       "23.31461564751365"
      ]
     },
     "metadata": {},
     "output_type": "display_data"
    },
    {
     "data": {
      "text/plain": [
       "23.269379169669957"
      ]
     },
     "metadata": {},
     "output_type": "display_data"
    },
    {
     "data": {
      "text/plain": [
       "23.219649094221037"
      ]
     },
     "metadata": {},
     "output_type": "display_data"
    },
    {
     "data": {
      "text/plain": [
       "23.165387106790075"
      ]
     },
     "metadata": {},
     "output_type": "display_data"
    },
    {
     "data": {
      "text/plain": [
       "23.106549907386178"
      ]
     },
     "metadata": {},
     "output_type": "display_data"
    },
    {
     "data": {
      "text/plain": [
       "23.0431177545486"
      ]
     },
     "metadata": {},
     "output_type": "display_data"
    },
    {
     "data": {
      "text/plain": [
       "22.97502666111268"
      ]
     },
     "metadata": {},
     "output_type": "display_data"
    },
    {
     "data": {
      "text/plain": [
       "22.90218908303384"
      ]
     },
     "metadata": {},
     "output_type": "display_data"
    },
    {
     "data": {
      "text/plain": [
       "22.824620802019595"
      ]
     },
     "metadata": {},
     "output_type": "display_data"
    },
    {
     "data": {
      "text/plain": [
       "22.74228855072486"
      ]
     },
     "metadata": {},
     "output_type": "display_data"
    },
    {
     "data": {
      "text/plain": [
       "22.655155234188143"
      ]
     },
     "metadata": {},
     "output_type": "display_data"
    },
    {
     "data": {
      "text/plain": [
       "22.563178765510607"
      ]
     },
     "metadata": {},
     "output_type": "display_data"
    },
    {
     "data": {
      "text/plain": [
       "22.46633051716727"
      ]
     },
     "metadata": {},
     "output_type": "display_data"
    },
    {
     "data": {
      "text/plain": [
       "22.364588322272795"
      ]
     },
     "metadata": {},
     "output_type": "display_data"
    },
    {
     "data": {
      "text/plain": [
       "22.25784785948739"
      ]
     },
     "metadata": {},
     "output_type": "display_data"
    },
    {
     "data": {
      "text/plain": [
       "22.146145024461607"
      ]
     },
     "metadata": {},
     "output_type": "display_data"
    },
    {
     "data": {
      "text/plain": [
       "22.029421016842832"
      ]
     },
     "metadata": {},
     "output_type": "display_data"
    },
    {
     "data": {
      "text/plain": [
       "-8.582637891893146"
      ]
     },
     "metadata": {},
     "output_type": "display_data"
    },
    {
     "data": {
      "text/plain": [
       "-8.582637891893146"
      ]
     },
     "metadata": {},
     "output_type": "display_data"
    },
    {
     "data": {
      "text/plain": [
       "-8.582637891893146"
      ]
     },
     "metadata": {},
     "output_type": "display_data"
    },
    {
     "data": {
      "text/plain": [
       "-8.582637891893146"
      ]
     },
     "metadata": {},
     "output_type": "display_data"
    },
    {
     "data": {
      "text/plain": [
       "-8.582637891893146"
      ]
     },
     "metadata": {},
     "output_type": "display_data"
    },
    {
     "data": {
      "text/plain": [
       "-8.582637891893146"
      ]
     },
     "metadata": {},
     "output_type": "display_data"
    },
    {
     "data": {
      "text/plain": [
       "-8.582637891893146"
      ]
     },
     "metadata": {},
     "output_type": "display_data"
    },
    {
     "data": {
      "text/plain": [
       "-8.582637891893146"
      ]
     },
     "metadata": {},
     "output_type": "display_data"
    },
    {
     "data": {
      "text/plain": [
       "-8.582637891893146"
      ]
     },
     "metadata": {},
     "output_type": "display_data"
    },
    {
     "data": {
      "text/plain": [
       "-8.582637891893146"
      ]
     },
     "metadata": {},
     "output_type": "display_data"
    },
    {
     "data": {
      "text/plain": [
       "-8.582637891893146"
      ]
     },
     "metadata": {},
     "output_type": "display_data"
    },
    {
     "data": {
      "text/plain": [
       "-8.582637891893146"
      ]
     },
     "metadata": {},
     "output_type": "display_data"
    },
    {
     "data": {
      "text/plain": [
       "-8.582637891893146"
      ]
     },
     "metadata": {},
     "output_type": "display_data"
    },
    {
     "data": {
      "text/plain": [
       "-8.582637891893146"
      ]
     },
     "metadata": {},
     "output_type": "display_data"
    },
    {
     "data": {
      "text/plain": [
       "-8.582637891893146"
      ]
     },
     "metadata": {},
     "output_type": "display_data"
    },
    {
     "data": {
      "text/plain": [
       "-8.582637891893146"
      ]
     },
     "metadata": {},
     "output_type": "display_data"
    },
    {
     "data": {
      "text/plain": [
       "-8.582637891893146"
      ]
     },
     "metadata": {},
     "output_type": "display_data"
    },
    {
     "data": {
      "text/plain": [
       "-8.582637891893146"
      ]
     },
     "metadata": {},
     "output_type": "display_data"
    },
    {
     "data": {
      "text/plain": [
       "-8.582637891893146"
      ]
     },
     "metadata": {},
     "output_type": "display_data"
    },
    {
     "data": {
      "text/plain": [
       "-8.582637891893146"
      ]
     },
     "metadata": {},
     "output_type": "display_data"
    },
    {
     "data": {
      "text/plain": [
       "-8.582637891893146"
      ]
     },
     "metadata": {},
     "output_type": "display_data"
    }
   ],
   "source": [
    "# Check conic violation\n",
    "convio = 0.0\n",
    "for k = 1:Nsim-1\n",
    "    Uc = cone_u(params, Uhist[k])\n",
    "    huc = norm(Uc[1:2]) - Uc[3]\n",
    "    convio = norm(huc + abs.(huc),Inf)\n",
    "    display(huc) # should <= 0\n",
    "end"
   ]
  },
  {
   "cell_type": "code",
   "execution_count": 676,
   "id": "ffaab90d-dddc-4512-8c8b-4561cd053fdf",
   "metadata": {},
   "outputs": [
    {
     "name": "stdout",
     "output_type": "stream",
     "text": [
      "traj_error = maximum(norm.(e_sim_m, Inf)) = 2.1609981280710207\n"
     ]
    },
    {
     "data": {
      "image/svg+xml": [
       "<?xml version=\"1.0\" encoding=\"utf-8\"?>\n",
       "<svg xmlns=\"http://www.w3.org/2000/svg\" xmlns:xlink=\"http://www.w3.org/1999/xlink\" width=\"600\" height=\"400\" viewBox=\"0 0 2400 1600\">\n",
       "<defs>\n",
       "  <clipPath id=\"clip880\">\n",
       "    <rect x=\"0\" y=\"0\" width=\"2400\" height=\"1600\"/>\n",
       "  </clipPath>\n",
       "</defs>\n",
       "<path clip-path=\"url(#clip880)\" d=\"M0 1600 L2400 1600 L2400 0 L0 0  Z\" fill=\"#ffffff\" fill-rule=\"evenodd\" fill-opacity=\"1\"/>\n",
       "<defs>\n",
       "  <clipPath id=\"clip881\">\n",
       "    <rect x=\"480\" y=\"0\" width=\"1681\" height=\"1600\"/>\n",
       "  </clipPath>\n",
       "</defs>\n",
       "<path clip-path=\"url(#clip880)\" d=\"M256.209 1423.18 L2352.76 1423.18 L2352.76 123.472 L256.209 123.472  Z\" fill=\"#ffffff\" fill-rule=\"evenodd\" fill-opacity=\"1\"/>\n",
       "<defs>\n",
       "  <clipPath id=\"clip882\">\n",
       "    <rect x=\"256\" y=\"123\" width=\"2098\" height=\"1301\"/>\n",
       "  </clipPath>\n",
       "</defs>\n",
       "<polyline clip-path=\"url(#clip882)\" style=\"stroke:#000000; stroke-linecap:round; stroke-linejoin:round; stroke-width:2; stroke-opacity:0.1; fill:none\" points=\"315.545,1423.18 315.545,123.472 \"/>\n",
       "<polyline clip-path=\"url(#clip882)\" style=\"stroke:#000000; stroke-linecap:round; stroke-linejoin:round; stroke-width:2; stroke-opacity:0.1; fill:none\" points=\"670.003,1423.18 670.003,123.472 \"/>\n",
       "<polyline clip-path=\"url(#clip882)\" style=\"stroke:#000000; stroke-linecap:round; stroke-linejoin:round; stroke-width:2; stroke-opacity:0.1; fill:none\" points=\"1024.46,1423.18 1024.46,123.472 \"/>\n",
       "<polyline clip-path=\"url(#clip882)\" style=\"stroke:#000000; stroke-linecap:round; stroke-linejoin:round; stroke-width:2; stroke-opacity:0.1; fill:none\" points=\"1378.92,1423.18 1378.92,123.472 \"/>\n",
       "<polyline clip-path=\"url(#clip882)\" style=\"stroke:#000000; stroke-linecap:round; stroke-linejoin:round; stroke-width:2; stroke-opacity:0.1; fill:none\" points=\"1733.38,1423.18 1733.38,123.472 \"/>\n",
       "<polyline clip-path=\"url(#clip882)\" style=\"stroke:#000000; stroke-linecap:round; stroke-linejoin:round; stroke-width:2; stroke-opacity:0.1; fill:none\" points=\"2087.83,1423.18 2087.83,123.472 \"/>\n",
       "<polyline clip-path=\"url(#clip880)\" style=\"stroke:#000000; stroke-linecap:round; stroke-linejoin:round; stroke-width:4; stroke-opacity:1; fill:none\" points=\"256.209,1423.18 2352.76,1423.18 \"/>\n",
       "<polyline clip-path=\"url(#clip880)\" style=\"stroke:#000000; stroke-linecap:round; stroke-linejoin:round; stroke-width:4; stroke-opacity:1; fill:none\" points=\"315.545,1423.18 315.545,1404.28 \"/>\n",
       "<polyline clip-path=\"url(#clip880)\" style=\"stroke:#000000; stroke-linecap:round; stroke-linejoin:round; stroke-width:4; stroke-opacity:1; fill:none\" points=\"670.003,1423.18 670.003,1404.28 \"/>\n",
       "<polyline clip-path=\"url(#clip880)\" style=\"stroke:#000000; stroke-linecap:round; stroke-linejoin:round; stroke-width:4; stroke-opacity:1; fill:none\" points=\"1024.46,1423.18 1024.46,1404.28 \"/>\n",
       "<polyline clip-path=\"url(#clip880)\" style=\"stroke:#000000; stroke-linecap:round; stroke-linejoin:round; stroke-width:4; stroke-opacity:1; fill:none\" points=\"1378.92,1423.18 1378.92,1404.28 \"/>\n",
       "<polyline clip-path=\"url(#clip880)\" style=\"stroke:#000000; stroke-linecap:round; stroke-linejoin:round; stroke-width:4; stroke-opacity:1; fill:none\" points=\"1733.38,1423.18 1733.38,1404.28 \"/>\n",
       "<polyline clip-path=\"url(#clip880)\" style=\"stroke:#000000; stroke-linecap:round; stroke-linejoin:round; stroke-width:4; stroke-opacity:1; fill:none\" points=\"2087.83,1423.18 2087.83,1404.28 \"/>\n",
       "<path clip-path=\"url(#clip880)\" d=\"M292.929 1454.1 Q289.318 1454.1 287.49 1457.66 Q285.684 1461.2 285.684 1468.33 Q285.684 1475.44 287.49 1479.01 Q289.318 1482.55 292.929 1482.55 Q296.564 1482.55 298.369 1479.01 Q300.198 1475.44 300.198 1468.33 Q300.198 1461.2 298.369 1457.66 Q296.564 1454.1 292.929 1454.1 M292.929 1450.39 Q298.739 1450.39 301.795 1455 Q304.874 1459.58 304.874 1468.33 Q304.874 1477.06 301.795 1481.67 Q298.739 1486.25 292.929 1486.25 Q287.119 1486.25 284.04 1481.67 Q280.985 1477.06 280.985 1468.33 Q280.985 1459.58 284.04 1455 Q287.119 1450.39 292.929 1450.39 Z\" fill=\"#000000\" fill-rule=\"evenodd\" fill-opacity=\"1\" /><path clip-path=\"url(#clip880)\" d=\"M313.091 1479.7 L317.975 1479.7 L317.975 1485.58 L313.091 1485.58 L313.091 1479.7 Z\" fill=\"#000000\" fill-rule=\"evenodd\" fill-opacity=\"1\" /><path clip-path=\"url(#clip880)\" d=\"M338.161 1454.1 Q334.549 1454.1 332.721 1457.66 Q330.915 1461.2 330.915 1468.33 Q330.915 1475.44 332.721 1479.01 Q334.549 1482.55 338.161 1482.55 Q341.795 1482.55 343.6 1479.01 Q345.429 1475.44 345.429 1468.33 Q345.429 1461.2 343.6 1457.66 Q341.795 1454.1 338.161 1454.1 M338.161 1450.39 Q343.971 1450.39 347.026 1455 Q350.105 1459.58 350.105 1468.33 Q350.105 1477.06 347.026 1481.67 Q343.971 1486.25 338.161 1486.25 Q332.35 1486.25 329.272 1481.67 Q326.216 1477.06 326.216 1468.33 Q326.216 1459.58 329.272 1455 Q332.35 1450.39 338.161 1450.39 Z\" fill=\"#000000\" fill-rule=\"evenodd\" fill-opacity=\"1\" /><path clip-path=\"url(#clip880)\" d=\"M641.739 1481.64 L658.058 1481.64 L658.058 1485.58 L636.114 1485.58 L636.114 1481.64 Q638.776 1478.89 643.359 1474.26 Q647.966 1469.61 649.146 1468.27 Q651.392 1465.74 652.271 1464.01 Q653.174 1462.25 653.174 1460.56 Q653.174 1457.8 651.23 1456.07 Q649.308 1454.33 646.207 1454.33 Q644.008 1454.33 641.554 1455.09 Q639.123 1455.86 636.346 1457.41 L636.346 1452.69 Q639.17 1451.55 641.623 1450.97 Q644.077 1450.39 646.114 1450.39 Q651.484 1450.39 654.679 1453.08 Q657.873 1455.77 657.873 1460.26 Q657.873 1462.39 657.063 1464.31 Q656.276 1466.2 654.169 1468.8 Q653.591 1469.47 650.489 1472.69 Q647.387 1475.88 641.739 1481.64 Z\" fill=\"#000000\" fill-rule=\"evenodd\" fill-opacity=\"1\" /><path clip-path=\"url(#clip880)\" d=\"M667.873 1479.7 L672.757 1479.7 L672.757 1485.58 L667.873 1485.58 L667.873 1479.7 Z\" fill=\"#000000\" fill-rule=\"evenodd\" fill-opacity=\"1\" /><path clip-path=\"url(#clip880)\" d=\"M682.989 1451.02 L701.345 1451.02 L701.345 1454.96 L687.271 1454.96 L687.271 1463.43 Q688.29 1463.08 689.308 1462.92 Q690.327 1462.73 691.345 1462.73 Q697.132 1462.73 700.512 1465.9 Q703.891 1469.08 703.891 1474.49 Q703.891 1480.07 700.419 1483.17 Q696.947 1486.25 690.628 1486.25 Q688.452 1486.25 686.183 1485.88 Q683.938 1485.51 681.53 1484.77 L681.53 1480.07 Q683.614 1481.2 685.836 1481.76 Q688.058 1482.32 690.535 1482.32 Q694.54 1482.32 696.878 1480.21 Q699.216 1478.1 699.216 1474.49 Q699.216 1470.88 696.878 1468.77 Q694.54 1466.67 690.535 1466.67 Q688.66 1466.67 686.785 1467.08 Q684.933 1467.5 682.989 1468.38 L682.989 1451.02 Z\" fill=\"#000000\" fill-rule=\"evenodd\" fill-opacity=\"1\" /><path clip-path=\"url(#clip880)\" d=\"M991.625 1451.02 L1009.98 1451.02 L1009.98 1454.96 L995.908 1454.96 L995.908 1463.43 Q996.926 1463.08 997.945 1462.92 Q998.963 1462.73 999.982 1462.73 Q1005.77 1462.73 1009.15 1465.9 Q1012.53 1469.08 1012.53 1474.49 Q1012.53 1480.07 1009.06 1483.17 Q1005.58 1486.25 999.264 1486.25 Q997.088 1486.25 994.82 1485.88 Q992.574 1485.51 990.167 1484.77 L990.167 1480.07 Q992.25 1481.2 994.472 1481.76 Q996.695 1482.32 999.171 1482.32 Q1003.18 1482.32 1005.51 1480.21 Q1007.85 1478.1 1007.85 1474.49 Q1007.85 1470.88 1005.51 1468.77 Q1003.18 1466.67 999.171 1466.67 Q997.296 1466.67 995.421 1467.08 Q993.57 1467.5 991.625 1468.38 L991.625 1451.02 Z\" fill=\"#000000\" fill-rule=\"evenodd\" fill-opacity=\"1\" /><path clip-path=\"url(#clip880)\" d=\"M1021.74 1479.7 L1026.62 1479.7 L1026.62 1485.58 L1021.74 1485.58 L1021.74 1479.7 Z\" fill=\"#000000\" fill-rule=\"evenodd\" fill-opacity=\"1\" /><path clip-path=\"url(#clip880)\" d=\"M1046.81 1454.1 Q1043.2 1454.1 1041.37 1457.66 Q1039.56 1461.2 1039.56 1468.33 Q1039.56 1475.44 1041.37 1479.01 Q1043.2 1482.55 1046.81 1482.55 Q1050.44 1482.55 1052.25 1479.01 Q1054.08 1475.44 1054.08 1468.33 Q1054.08 1461.2 1052.25 1457.66 Q1050.44 1454.1 1046.81 1454.1 M1046.81 1450.39 Q1052.62 1450.39 1055.68 1455 Q1058.75 1459.58 1058.75 1468.33 Q1058.75 1477.06 1055.68 1481.67 Q1052.62 1486.25 1046.81 1486.25 Q1041 1486.25 1037.92 1481.67 Q1034.87 1477.06 1034.87 1468.33 Q1034.87 1459.58 1037.92 1455 Q1041 1450.39 1046.81 1450.39 Z\" fill=\"#000000\" fill-rule=\"evenodd\" fill-opacity=\"1\" /><path clip-path=\"url(#clip880)\" d=\"M1345.24 1451.02 L1367.46 1451.02 L1367.46 1453.01 L1354.91 1485.58 L1350.03 1485.58 L1361.84 1454.96 L1345.24 1454.96 L1345.24 1451.02 Z\" fill=\"#000000\" fill-rule=\"evenodd\" fill-opacity=\"1\" /><path clip-path=\"url(#clip880)\" d=\"M1376.58 1479.7 L1381.46 1479.7 L1381.46 1485.58 L1376.58 1485.58 L1376.58 1479.7 Z\" fill=\"#000000\" fill-rule=\"evenodd\" fill-opacity=\"1\" /><path clip-path=\"url(#clip880)\" d=\"M1391.7 1451.02 L1410.05 1451.02 L1410.05 1454.96 L1395.98 1454.96 L1395.98 1463.43 Q1397 1463.08 1398.02 1462.92 Q1399.03 1462.73 1400.05 1462.73 Q1405.84 1462.73 1409.22 1465.9 Q1412.6 1469.08 1412.6 1474.49 Q1412.6 1480.07 1409.13 1483.17 Q1405.65 1486.25 1399.33 1486.25 Q1397.16 1486.25 1394.89 1485.88 Q1392.65 1485.51 1390.24 1484.77 L1390.24 1480.07 Q1392.32 1481.2 1394.54 1481.76 Q1396.77 1482.32 1399.24 1482.32 Q1403.25 1482.32 1405.58 1480.21 Q1407.92 1478.1 1407.92 1474.49 Q1407.92 1470.88 1405.58 1468.77 Q1403.25 1466.67 1399.24 1466.67 Q1397.37 1466.67 1395.49 1467.08 Q1393.64 1467.5 1391.7 1468.38 L1391.7 1451.02 Z\" fill=\"#000000\" fill-rule=\"evenodd\" fill-opacity=\"1\" /><path clip-path=\"url(#clip880)\" d=\"M1685.45 1481.64 L1693.09 1481.64 L1693.09 1455.28 L1684.78 1456.95 L1684.78 1452.69 L1693.04 1451.02 L1697.72 1451.02 L1697.72 1481.64 L1705.36 1481.64 L1705.36 1485.58 L1685.45 1485.58 L1685.45 1481.64 Z\" fill=\"#000000\" fill-rule=\"evenodd\" fill-opacity=\"1\" /><path clip-path=\"url(#clip880)\" d=\"M1724.8 1454.1 Q1721.19 1454.1 1719.36 1457.66 Q1717.55 1461.2 1717.55 1468.33 Q1717.55 1475.44 1719.36 1479.01 Q1721.19 1482.55 1724.8 1482.55 Q1728.43 1482.55 1730.24 1479.01 Q1732.07 1475.44 1732.07 1468.33 Q1732.07 1461.2 1730.24 1457.66 Q1728.43 1454.1 1724.8 1454.1 M1724.8 1450.39 Q1730.61 1450.39 1733.67 1455 Q1736.74 1459.58 1736.74 1468.33 Q1736.74 1477.06 1733.67 1481.67 Q1730.61 1486.25 1724.8 1486.25 Q1718.99 1486.25 1715.91 1481.67 Q1712.86 1477.06 1712.86 1468.33 Q1712.86 1459.58 1715.91 1455 Q1718.99 1450.39 1724.8 1450.39 Z\" fill=\"#000000\" fill-rule=\"evenodd\" fill-opacity=\"1\" /><path clip-path=\"url(#clip880)\" d=\"M1744.96 1479.7 L1749.85 1479.7 L1749.85 1485.58 L1744.96 1485.58 L1744.96 1479.7 Z\" fill=\"#000000\" fill-rule=\"evenodd\" fill-opacity=\"1\" /><path clip-path=\"url(#clip880)\" d=\"M1770.03 1454.1 Q1766.42 1454.1 1764.59 1457.66 Q1762.79 1461.2 1762.79 1468.33 Q1762.79 1475.44 1764.59 1479.01 Q1766.42 1482.55 1770.03 1482.55 Q1773.67 1482.55 1775.47 1479.01 Q1777.3 1475.44 1777.3 1468.33 Q1777.3 1461.2 1775.47 1457.66 Q1773.67 1454.1 1770.03 1454.1 M1770.03 1450.39 Q1775.84 1450.39 1778.9 1455 Q1781.98 1459.58 1781.98 1468.33 Q1781.98 1477.06 1778.9 1481.67 Q1775.84 1486.25 1770.03 1486.25 Q1764.22 1486.25 1761.14 1481.67 Q1758.09 1477.06 1758.09 1468.33 Q1758.09 1459.58 1761.14 1455 Q1764.22 1450.39 1770.03 1450.39 Z\" fill=\"#000000\" fill-rule=\"evenodd\" fill-opacity=\"1\" /><path clip-path=\"url(#clip880)\" d=\"M2040.4 1481.64 L2048.04 1481.64 L2048.04 1455.28 L2039.73 1456.95 L2039.73 1452.69 L2048 1451.02 L2052.67 1451.02 L2052.67 1481.64 L2060.31 1481.64 L2060.31 1485.58 L2040.4 1485.58 L2040.4 1481.64 Z\" fill=\"#000000\" fill-rule=\"evenodd\" fill-opacity=\"1\" /><path clip-path=\"url(#clip880)\" d=\"M2073.78 1481.64 L2090.1 1481.64 L2090.1 1485.58 L2068.16 1485.58 L2068.16 1481.64 Q2070.82 1478.89 2075.4 1474.26 Q2080.01 1469.61 2081.19 1468.27 Q2083.44 1465.74 2084.32 1464.01 Q2085.22 1462.25 2085.22 1460.56 Q2085.22 1457.8 2083.27 1456.07 Q2081.35 1454.33 2078.25 1454.33 Q2076.05 1454.33 2073.6 1455.09 Q2071.17 1455.86 2068.39 1457.41 L2068.39 1452.69 Q2071.21 1451.55 2073.67 1450.97 Q2076.12 1450.39 2078.16 1450.39 Q2083.53 1450.39 2086.72 1453.08 Q2089.92 1455.77 2089.92 1460.26 Q2089.92 1462.39 2089.11 1464.31 Q2088.32 1466.2 2086.21 1468.8 Q2085.64 1469.47 2082.53 1472.69 Q2079.43 1475.88 2073.78 1481.64 Z\" fill=\"#000000\" fill-rule=\"evenodd\" fill-opacity=\"1\" /><path clip-path=\"url(#clip880)\" d=\"M2099.92 1479.7 L2104.8 1479.7 L2104.8 1485.58 L2099.92 1485.58 L2099.92 1479.7 Z\" fill=\"#000000\" fill-rule=\"evenodd\" fill-opacity=\"1\" /><path clip-path=\"url(#clip880)\" d=\"M2115.03 1451.02 L2133.39 1451.02 L2133.39 1454.96 L2119.32 1454.96 L2119.32 1463.43 Q2120.33 1463.08 2121.35 1462.92 Q2122.37 1462.73 2123.39 1462.73 Q2129.18 1462.73 2132.56 1465.9 Q2135.94 1469.08 2135.94 1474.49 Q2135.94 1480.07 2132.46 1483.17 Q2128.99 1486.25 2122.67 1486.25 Q2120.5 1486.25 2118.23 1485.88 Q2115.98 1485.51 2113.57 1484.77 L2113.57 1480.07 Q2115.66 1481.2 2117.88 1481.76 Q2120.1 1482.32 2122.58 1482.32 Q2126.58 1482.32 2128.92 1480.21 Q2131.26 1478.1 2131.26 1474.49 Q2131.26 1470.88 2128.92 1468.77 Q2126.58 1466.67 2122.58 1466.67 Q2120.7 1466.67 2118.83 1467.08 Q2116.98 1467.5 2115.03 1468.38 L2115.03 1451.02 Z\" fill=\"#000000\" fill-rule=\"evenodd\" fill-opacity=\"1\" /><path clip-path=\"url(#clip880)\" d=\"M1191.94 1522.27 L1191.94 1532.4 L1204 1532.4 L1204 1536.95 L1191.94 1536.95 L1191.94 1556.3 Q1191.94 1560.66 1193.11 1561.9 Q1194.32 1563.14 1197.98 1563.14 L1204 1563.14 L1204 1568.04 L1197.98 1568.04 Q1191.2 1568.04 1188.63 1565.53 Q1186.05 1562.98 1186.05 1556.3 L1186.05 1536.95 L1181.75 1536.95 L1181.75 1532.4 L1186.05 1532.4 L1186.05 1522.27 L1191.94 1522.27 Z\" fill=\"#000000\" fill-rule=\"evenodd\" fill-opacity=\"1\" /><path clip-path=\"url(#clip880)\" d=\"M1211.7 1532.4 L1217.56 1532.4 L1217.56 1568.04 L1211.7 1568.04 L1211.7 1532.4 M1211.7 1518.52 L1217.56 1518.52 L1217.56 1525.93 L1211.7 1525.93 L1211.7 1518.52 Z\" fill=\"#000000\" fill-rule=\"evenodd\" fill-opacity=\"1\" /><path clip-path=\"url(#clip880)\" d=\"M1257.57 1539.24 Q1259.76 1535.29 1262.82 1533.41 Q1265.87 1531.54 1270.01 1531.54 Q1275.58 1531.54 1278.61 1535.45 Q1281.63 1539.33 1281.63 1546.53 L1281.63 1568.04 L1275.74 1568.04 L1275.74 1546.72 Q1275.74 1541.59 1273.93 1539.11 Q1272.11 1536.63 1268.39 1536.63 Q1263.84 1536.63 1261.2 1539.65 Q1258.55 1542.68 1258.55 1547.9 L1258.55 1568.04 L1252.67 1568.04 L1252.67 1546.72 Q1252.67 1541.56 1250.85 1539.11 Q1249.04 1536.63 1245.25 1536.63 Q1240.76 1536.63 1238.12 1539.68 Q1235.48 1542.71 1235.48 1547.9 L1235.48 1568.04 L1229.59 1568.04 L1229.59 1532.4 L1235.48 1532.4 L1235.48 1537.93 Q1237.48 1534.66 1240.28 1533.1 Q1243.09 1531.54 1246.94 1531.54 Q1250.82 1531.54 1253.52 1533.51 Q1256.26 1535.48 1257.57 1539.24 Z\" fill=\"#000000\" fill-rule=\"evenodd\" fill-opacity=\"1\" /><path clip-path=\"url(#clip880)\" d=\"M1323.8 1548.76 L1323.8 1551.62 L1296.88 1551.62 Q1297.26 1557.67 1300.5 1560.85 Q1303.78 1564 1309.61 1564 Q1312.98 1564 1316.13 1563.17 Q1319.31 1562.35 1322.43 1560.69 L1322.43 1566.23 Q1319.28 1567.57 1315.97 1568.27 Q1312.66 1568.97 1309.26 1568.97 Q1300.73 1568.97 1295.73 1564 Q1290.76 1559.04 1290.76 1550.57 Q1290.76 1541.82 1295.47 1536.69 Q1300.22 1531.54 1308.24 1531.54 Q1315.43 1531.54 1319.6 1536.18 Q1323.8 1540.8 1323.8 1548.76 M1317.95 1547.04 Q1317.88 1542.23 1315.24 1539.37 Q1312.63 1536.5 1308.3 1536.5 Q1303.4 1536.5 1300.44 1539.27 Q1297.51 1542.04 1297.07 1547.07 L1317.95 1547.04 Z\" fill=\"#000000\" fill-rule=\"evenodd\" fill-opacity=\"1\" /><path clip-path=\"url(#clip880)\" d=\"M1368.2 1518.58 Q1363.94 1525.9 1361.87 1533.06 Q1359.8 1540.23 1359.8 1547.58 Q1359.8 1554.93 1361.87 1562.16 Q1363.97 1569.35 1368.2 1576.64 L1363.11 1576.64 Q1358.34 1569.16 1355.95 1561.93 Q1353.59 1554.71 1353.59 1547.58 Q1353.59 1540.48 1355.95 1533.29 Q1358.3 1526.09 1363.11 1518.58 L1368.2 1518.58 Z\" fill=\"#000000\" fill-rule=\"evenodd\" fill-opacity=\"1\" /><path clip-path=\"url(#clip880)\" d=\"M1402.29 1533.45 L1402.29 1538.98 Q1399.81 1537.71 1397.14 1537.07 Q1394.46 1536.44 1391.6 1536.44 Q1387.24 1536.44 1385.04 1537.77 Q1382.88 1539.11 1382.88 1541.79 Q1382.88 1543.82 1384.44 1545 Q1386 1546.15 1390.71 1547.2 L1392.71 1547.64 Q1398.95 1548.98 1401.56 1551.43 Q1404.2 1553.85 1404.2 1558.21 Q1404.2 1563.17 1400.25 1566.07 Q1396.34 1568.97 1389.46 1568.97 Q1386.6 1568.97 1383.48 1568.39 Q1380.39 1567.85 1376.96 1566.74 L1376.96 1560.69 Q1380.2 1562.38 1383.35 1563.24 Q1386.5 1564.07 1389.59 1564.07 Q1393.73 1564.07 1395.96 1562.66 Q1398.19 1561.23 1398.19 1558.65 Q1398.19 1556.27 1396.56 1554.99 Q1394.97 1553.72 1389.53 1552.54 L1387.49 1552.07 Q1382.05 1550.92 1379.63 1548.56 Q1377.21 1546.18 1377.21 1542.04 Q1377.21 1537.01 1380.78 1534.27 Q1384.34 1531.54 1390.9 1531.54 Q1394.14 1531.54 1397.01 1532.01 Q1399.87 1532.49 1402.29 1533.45 Z\" fill=\"#000000\" fill-rule=\"evenodd\" fill-opacity=\"1\" /><path clip-path=\"url(#clip880)\" d=\"M1412.6 1518.58 L1417.7 1518.58 Q1422.47 1526.09 1424.83 1533.29 Q1427.21 1540.48 1427.21 1547.58 Q1427.21 1554.71 1424.83 1561.93 Q1422.47 1569.16 1417.7 1576.64 L1412.6 1576.64 Q1416.84 1569.35 1418.91 1562.16 Q1421.01 1554.93 1421.01 1547.58 Q1421.01 1540.23 1418.91 1533.06 Q1416.84 1525.9 1412.6 1518.58 Z\" fill=\"#000000\" fill-rule=\"evenodd\" fill-opacity=\"1\" /><polyline clip-path=\"url(#clip882)\" style=\"stroke:#000000; stroke-linecap:round; stroke-linejoin:round; stroke-width:2; stroke-opacity:0.1; fill:none\" points=\"256.209,1274.49 2352.76,1274.49 \"/>\n",
       "<polyline clip-path=\"url(#clip882)\" style=\"stroke:#000000; stroke-linecap:round; stroke-linejoin:round; stroke-width:2; stroke-opacity:0.1; fill:none\" points=\"256.209,1065.13 2352.76,1065.13 \"/>\n",
       "<polyline clip-path=\"url(#clip882)\" style=\"stroke:#000000; stroke-linecap:round; stroke-linejoin:round; stroke-width:2; stroke-opacity:0.1; fill:none\" points=\"256.209,855.763 2352.76,855.763 \"/>\n",
       "<polyline clip-path=\"url(#clip882)\" style=\"stroke:#000000; stroke-linecap:round; stroke-linejoin:round; stroke-width:2; stroke-opacity:0.1; fill:none\" points=\"256.209,646.399 2352.76,646.399 \"/>\n",
       "<polyline clip-path=\"url(#clip882)\" style=\"stroke:#000000; stroke-linecap:round; stroke-linejoin:round; stroke-width:2; stroke-opacity:0.1; fill:none\" points=\"256.209,437.035 2352.76,437.035 \"/>\n",
       "<polyline clip-path=\"url(#clip882)\" style=\"stroke:#000000; stroke-linecap:round; stroke-linejoin:round; stroke-width:2; stroke-opacity:0.1; fill:none\" points=\"256.209,227.671 2352.76,227.671 \"/>\n",
       "<polyline clip-path=\"url(#clip880)\" style=\"stroke:#000000; stroke-linecap:round; stroke-linejoin:round; stroke-width:4; stroke-opacity:1; fill:none\" points=\"256.209,1423.18 256.209,123.472 \"/>\n",
       "<polyline clip-path=\"url(#clip880)\" style=\"stroke:#000000; stroke-linecap:round; stroke-linejoin:round; stroke-width:4; stroke-opacity:1; fill:none\" points=\"256.209,1274.49 275.106,1274.49 \"/>\n",
       "<polyline clip-path=\"url(#clip880)\" style=\"stroke:#000000; stroke-linecap:round; stroke-linejoin:round; stroke-width:4; stroke-opacity:1; fill:none\" points=\"256.209,1065.13 275.106,1065.13 \"/>\n",
       "<polyline clip-path=\"url(#clip880)\" style=\"stroke:#000000; stroke-linecap:round; stroke-linejoin:round; stroke-width:4; stroke-opacity:1; fill:none\" points=\"256.209,855.763 275.106,855.763 \"/>\n",
       "<polyline clip-path=\"url(#clip880)\" style=\"stroke:#000000; stroke-linecap:round; stroke-linejoin:round; stroke-width:4; stroke-opacity:1; fill:none\" points=\"256.209,646.399 275.106,646.399 \"/>\n",
       "<polyline clip-path=\"url(#clip880)\" style=\"stroke:#000000; stroke-linecap:round; stroke-linejoin:round; stroke-width:4; stroke-opacity:1; fill:none\" points=\"256.209,437.035 275.106,437.035 \"/>\n",
       "<polyline clip-path=\"url(#clip880)\" style=\"stroke:#000000; stroke-linecap:round; stroke-linejoin:round; stroke-width:4; stroke-opacity:1; fill:none\" points=\"256.209,227.671 275.106,227.671 \"/>\n",
       "<path clip-path=\"url(#clip880)\" d=\"M114.26 1274.94 L143.936 1274.94 L143.936 1278.88 L114.26 1278.88 L114.26 1274.94 Z\" fill=\"#000000\" fill-rule=\"evenodd\" fill-opacity=\"1\" /><path clip-path=\"url(#clip880)\" d=\"M164.028 1260.29 Q160.417 1260.29 158.589 1263.85 Q156.783 1267.4 156.783 1274.53 Q156.783 1281.63 158.589 1285.2 Q160.417 1288.74 164.028 1288.74 Q167.663 1288.74 169.468 1285.2 Q171.297 1281.63 171.297 1274.53 Q171.297 1267.4 169.468 1263.85 Q167.663 1260.29 164.028 1260.29 M164.028 1256.59 Q169.839 1256.59 172.894 1261.19 Q175.973 1265.78 175.973 1274.53 Q175.973 1283.25 172.894 1287.86 Q169.839 1292.44 164.028 1292.44 Q158.218 1292.44 155.14 1287.86 Q152.084 1283.25 152.084 1274.53 Q152.084 1265.78 155.14 1261.19 Q158.218 1256.59 164.028 1256.59 Z\" fill=\"#000000\" fill-rule=\"evenodd\" fill-opacity=\"1\" /><path clip-path=\"url(#clip880)\" d=\"M184.19 1285.89 L189.075 1285.89 L189.075 1291.77 L184.19 1291.77 L184.19 1285.89 Z\" fill=\"#000000\" fill-rule=\"evenodd\" fill-opacity=\"1\" /><path clip-path=\"url(#clip880)\" d=\"M199.306 1257.21 L217.662 1257.21 L217.662 1261.15 L203.588 1261.15 L203.588 1269.62 Q204.607 1269.27 205.625 1269.11 Q206.644 1268.92 207.662 1268.92 Q213.449 1268.92 216.829 1272.09 Q220.209 1275.27 220.209 1280.68 Q220.209 1286.26 216.736 1289.36 Q213.264 1292.44 206.945 1292.44 Q204.769 1292.44 202.5 1292.07 Q200.255 1291.7 197.848 1290.96 L197.848 1286.26 Q199.931 1287.4 202.153 1287.95 Q204.375 1288.51 206.852 1288.51 Q210.857 1288.51 213.195 1286.4 Q215.533 1284.29 215.533 1280.68 Q215.533 1277.07 213.195 1274.96 Q210.857 1272.86 206.852 1272.86 Q204.977 1272.86 203.102 1273.28 Q201.25 1273.69 199.306 1274.57 L199.306 1257.21 Z\" fill=\"#000000\" fill-rule=\"evenodd\" fill-opacity=\"1\" /><path clip-path=\"url(#clip880)\" d=\"M163.033 1050.93 Q159.422 1050.93 157.593 1054.49 Q155.788 1058.03 155.788 1065.16 Q155.788 1072.27 157.593 1075.83 Q159.422 1079.37 163.033 1079.37 Q166.667 1079.37 168.473 1075.83 Q170.302 1072.27 170.302 1065.16 Q170.302 1058.03 168.473 1054.49 Q166.667 1050.93 163.033 1050.93 M163.033 1047.22 Q168.843 1047.22 171.899 1051.83 Q174.977 1056.41 174.977 1065.16 Q174.977 1073.89 171.899 1078.49 Q168.843 1083.08 163.033 1083.08 Q157.223 1083.08 154.144 1078.49 Q151.089 1073.89 151.089 1065.16 Q151.089 1056.41 154.144 1051.83 Q157.223 1047.22 163.033 1047.22 Z\" fill=\"#000000\" fill-rule=\"evenodd\" fill-opacity=\"1\" /><path clip-path=\"url(#clip880)\" d=\"M183.195 1076.53 L188.079 1076.53 L188.079 1082.41 L183.195 1082.41 L183.195 1076.53 Z\" fill=\"#000000\" fill-rule=\"evenodd\" fill-opacity=\"1\" /><path clip-path=\"url(#clip880)\" d=\"M208.264 1050.93 Q204.653 1050.93 202.824 1054.49 Q201.019 1058.03 201.019 1065.16 Q201.019 1072.27 202.824 1075.83 Q204.653 1079.37 208.264 1079.37 Q211.899 1079.37 213.704 1075.83 Q215.533 1072.27 215.533 1065.16 Q215.533 1058.03 213.704 1054.49 Q211.899 1050.93 208.264 1050.93 M208.264 1047.22 Q214.074 1047.22 217.13 1051.83 Q220.209 1056.41 220.209 1065.16 Q220.209 1073.89 217.13 1078.49 Q214.074 1083.08 208.264 1083.08 Q202.454 1083.08 199.375 1078.49 Q196.32 1073.89 196.32 1065.16 Q196.32 1056.41 199.375 1051.83 Q202.454 1047.22 208.264 1047.22 Z\" fill=\"#000000\" fill-rule=\"evenodd\" fill-opacity=\"1\" /><path clip-path=\"url(#clip880)\" d=\"M164.028 841.561 Q160.417 841.561 158.589 845.126 Q156.783 848.668 156.783 855.797 Q156.783 862.904 158.589 866.469 Q160.417 870.01 164.028 870.01 Q167.663 870.01 169.468 866.469 Q171.297 862.904 171.297 855.797 Q171.297 848.668 169.468 845.126 Q167.663 841.561 164.028 841.561 M164.028 837.858 Q169.839 837.858 172.894 842.464 Q175.973 847.047 175.973 855.797 Q175.973 864.524 172.894 869.131 Q169.839 873.714 164.028 873.714 Q158.218 873.714 155.14 869.131 Q152.084 864.524 152.084 855.797 Q152.084 847.047 155.14 842.464 Q158.218 837.858 164.028 837.858 Z\" fill=\"#000000\" fill-rule=\"evenodd\" fill-opacity=\"1\" /><path clip-path=\"url(#clip880)\" d=\"M184.19 867.163 L189.075 867.163 L189.075 873.043 L184.19 873.043 L184.19 867.163 Z\" fill=\"#000000\" fill-rule=\"evenodd\" fill-opacity=\"1\" /><path clip-path=\"url(#clip880)\" d=\"M199.306 838.483 L217.662 838.483 L217.662 842.418 L203.588 842.418 L203.588 850.89 Q204.607 850.543 205.625 850.381 Q206.644 850.195 207.662 850.195 Q213.449 850.195 216.829 853.367 Q220.209 856.538 220.209 861.955 Q220.209 867.533 216.736 870.635 Q213.264 873.714 206.945 873.714 Q204.769 873.714 202.5 873.343 Q200.255 872.973 197.848 872.232 L197.848 867.533 Q199.931 868.668 202.153 869.223 Q204.375 869.779 206.852 869.779 Q210.857 869.779 213.195 867.672 Q215.533 865.566 215.533 861.955 Q215.533 858.344 213.195 856.237 Q210.857 854.131 206.852 854.131 Q204.977 854.131 203.102 854.547 Q201.25 854.964 199.306 855.844 L199.306 838.483 Z\" fill=\"#000000\" fill-rule=\"evenodd\" fill-opacity=\"1\" /><path clip-path=\"url(#clip880)\" d=\"M153.843 659.743 L161.482 659.743 L161.482 633.378 L153.172 635.045 L153.172 630.785 L161.436 629.119 L166.112 629.119 L166.112 659.743 L173.751 659.743 L173.751 663.679 L153.843 663.679 L153.843 659.743 Z\" fill=\"#000000\" fill-rule=\"evenodd\" fill-opacity=\"1\" /><path clip-path=\"url(#clip880)\" d=\"M183.195 657.799 L188.079 657.799 L188.079 663.679 L183.195 663.679 L183.195 657.799 Z\" fill=\"#000000\" fill-rule=\"evenodd\" fill-opacity=\"1\" /><path clip-path=\"url(#clip880)\" d=\"M208.264 632.197 Q204.653 632.197 202.824 635.762 Q201.019 639.304 201.019 646.433 Q201.019 653.54 202.824 657.105 Q204.653 660.646 208.264 660.646 Q211.899 660.646 213.704 657.105 Q215.533 653.54 215.533 646.433 Q215.533 639.304 213.704 635.762 Q211.899 632.197 208.264 632.197 M208.264 628.494 Q214.074 628.494 217.13 633.1 Q220.209 637.683 220.209 646.433 Q220.209 655.16 217.13 659.767 Q214.074 664.35 208.264 664.35 Q202.454 664.35 199.375 659.767 Q196.32 655.16 196.32 646.433 Q196.32 637.683 199.375 633.1 Q202.454 628.494 208.264 628.494 Z\" fill=\"#000000\" fill-rule=\"evenodd\" fill-opacity=\"1\" /><path clip-path=\"url(#clip880)\" d=\"M154.839 450.379 L162.477 450.379 L162.477 424.014 L154.167 425.681 L154.167 421.421 L162.431 419.755 L167.107 419.755 L167.107 450.379 L174.746 450.379 L174.746 454.315 L154.839 454.315 L154.839 450.379 Z\" fill=\"#000000\" fill-rule=\"evenodd\" fill-opacity=\"1\" /><path clip-path=\"url(#clip880)\" d=\"M184.19 448.435 L189.075 448.435 L189.075 454.315 L184.19 454.315 L184.19 448.435 Z\" fill=\"#000000\" fill-rule=\"evenodd\" fill-opacity=\"1\" /><path clip-path=\"url(#clip880)\" d=\"M199.306 419.755 L217.662 419.755 L217.662 423.69 L203.588 423.69 L203.588 432.162 Q204.607 431.815 205.625 431.653 Q206.644 431.468 207.662 431.468 Q213.449 431.468 216.829 434.639 Q220.209 437.81 220.209 443.227 Q220.209 448.805 216.736 451.907 Q213.264 454.986 206.945 454.986 Q204.769 454.986 202.5 454.616 Q200.255 454.245 197.848 453.504 L197.848 448.805 Q199.931 449.94 202.153 450.495 Q204.375 451.051 206.852 451.051 Q210.857 451.051 213.195 448.944 Q215.533 446.838 215.533 443.227 Q215.533 439.616 213.195 437.509 Q210.857 435.403 206.852 435.403 Q204.977 435.403 203.102 435.819 Q201.25 436.236 199.306 437.116 L199.306 419.755 Z\" fill=\"#000000\" fill-rule=\"evenodd\" fill-opacity=\"1\" /><path clip-path=\"url(#clip880)\" d=\"M157.061 241.016 L173.38 241.016 L173.38 244.951 L151.436 244.951 L151.436 241.016 Q154.098 238.261 158.681 233.631 Q163.288 228.979 164.468 227.636 Q166.714 225.113 167.593 223.377 Q168.496 221.618 168.496 219.928 Q168.496 217.173 166.552 215.437 Q164.63 213.701 161.528 213.701 Q159.329 213.701 156.876 214.465 Q154.445 215.229 151.667 216.78 L151.667 212.057 Q154.491 210.923 156.945 210.344 Q159.399 209.766 161.436 209.766 Q166.806 209.766 170.001 212.451 Q173.195 215.136 173.195 219.627 Q173.195 221.756 172.385 223.678 Q171.598 225.576 169.491 228.168 Q168.913 228.84 165.811 232.057 Q162.709 235.252 157.061 241.016 Z\" fill=\"#000000\" fill-rule=\"evenodd\" fill-opacity=\"1\" /><path clip-path=\"url(#clip880)\" d=\"M183.195 239.071 L188.079 239.071 L188.079 244.951 L183.195 244.951 L183.195 239.071 Z\" fill=\"#000000\" fill-rule=\"evenodd\" fill-opacity=\"1\" /><path clip-path=\"url(#clip880)\" d=\"M208.264 213.469 Q204.653 213.469 202.824 217.034 Q201.019 220.576 201.019 227.705 Q201.019 234.812 202.824 238.377 Q204.653 241.918 208.264 241.918 Q211.899 241.918 213.704 238.377 Q215.533 234.812 215.533 227.705 Q215.533 220.576 213.704 217.034 Q211.899 213.469 208.264 213.469 M208.264 209.766 Q214.074 209.766 217.13 214.372 Q220.209 218.955 220.209 227.705 Q220.209 236.432 217.13 241.039 Q214.074 245.622 208.264 245.622 Q202.454 245.622 199.375 241.039 Q196.32 236.432 196.32 227.705 Q196.32 218.955 199.375 214.372 Q202.454 209.766 208.264 209.766 Z\" fill=\"#000000\" fill-rule=\"evenodd\" fill-opacity=\"1\" /><path clip-path=\"url(#clip880)\" d=\"M28.3562 756.711 L45.7028 769.602 L64.0042 756.043 L64.0042 762.95 L49.9996 773.326 L64.0042 783.702 L64.0042 790.609 L45.3526 776.763 L28.3562 789.431 L28.3562 782.524 L41.0558 773.071 L28.3562 763.618 L28.3562 756.711 Z\" fill=\"#000000\" fill-rule=\"evenodd\" fill-opacity=\"1\" /><path clip-path=\"url(#clip880)\" d=\"M962.525 14.0809 L962.525 22.0612 Q957.867 19.8332 953.735 18.7395 Q949.603 17.6457 945.754 17.6457 Q939.07 17.6457 935.425 20.2383 Q931.819 22.8309 931.819 27.611 Q931.819 31.6214 934.209 33.6873 Q936.64 35.7128 943.364 36.9686 L948.307 37.9813 Q957.462 39.7232 961.796 44.1387 Q966.171 48.5136 966.171 55.8863 Q966.171 64.6767 960.257 69.2137 Q954.383 73.7508 943 73.7508 Q938.706 73.7508 933.845 72.7785 Q929.024 71.8063 923.839 69.9024 L923.839 61.4765 Q928.822 64.2716 933.602 65.6895 Q938.382 67.1073 943 67.1073 Q950.008 67.1073 953.816 64.3527 Q957.624 61.598 957.624 56.4939 Q957.624 52.0379 954.869 49.5264 Q952.155 47.0148 945.916 45.759 L940.934 44.7868 Q931.779 42.9639 927.687 39.075 Q923.596 35.1862 923.596 28.2591 Q923.596 20.2383 929.227 15.6203 Q934.898 11.0023 944.823 11.0023 Q949.076 11.0023 953.492 11.7719 Q957.907 12.5416 962.525 14.0809 Z\" fill=\"#000000\" fill-rule=\"evenodd\" fill-opacity=\"1\" /><path clip-path=\"url(#clip880)\" d=\"M985.98 14.324 L985.98 27.2059 L1001.33 27.2059 L1001.33 32.9987 L985.98 32.9987 L985.98 57.6282 Q985.98 63.1779 987.479 64.7578 Q989.018 66.3376 993.677 66.3376 L1001.33 66.3376 L1001.33 72.576 L993.677 72.576 Q985.048 72.576 981.767 69.3758 Q978.486 66.1351 978.486 57.6282 L978.486 32.9987 L973.017 32.9987 L973.017 27.2059 L978.486 27.2059 L978.486 14.324 L985.98 14.324 Z\" fill=\"#000000\" fill-rule=\"evenodd\" fill-opacity=\"1\" /><path clip-path=\"url(#clip880)\" d=\"M1031.76 49.7694 Q1022.72 49.7694 1019.24 51.8354 Q1015.75 53.9013 1015.75 58.8839 Q1015.75 62.8538 1018.35 65.2034 Q1020.98 67.5124 1025.48 67.5124 Q1031.67 67.5124 1035.4 63.1374 Q1039.17 58.7219 1039.17 51.4303 L1039.17 49.7694 L1031.76 49.7694 M1046.62 46.6907 L1046.62 72.576 L1039.17 72.576 L1039.17 65.6895 Q1036.62 69.8214 1032.81 71.8063 Q1029 73.7508 1023.49 73.7508 Q1016.52 73.7508 1012.39 69.8619 Q1008.3 65.9325 1008.3 59.3701 Q1008.3 51.7138 1013.4 47.825 Q1018.55 43.9361 1028.72 43.9361 L1039.17 43.9361 L1039.17 43.2069 Q1039.17 38.0623 1035.77 35.2672 Q1032.4 32.4315 1026.29 32.4315 Q1022.4 32.4315 1018.71 33.3632 Q1015.02 34.295 1011.62 36.1584 L1011.62 29.2718 Q1015.71 27.692 1019.56 26.9223 Q1023.41 26.1121 1027.06 26.1121 Q1036.9 26.1121 1041.76 31.2163 Q1046.62 36.3204 1046.62 46.6907 Z\" fill=\"#000000\" fill-rule=\"evenodd\" fill-opacity=\"1\" /><path clip-path=\"url(#clip880)\" d=\"M1069.35 14.324 L1069.35 27.2059 L1084.7 27.2059 L1084.7 32.9987 L1069.35 32.9987 L1069.35 57.6282 Q1069.35 63.1779 1070.85 64.7578 Q1072.39 66.3376 1077.04 66.3376 L1084.7 66.3376 L1084.7 72.576 L1077.04 72.576 Q1068.42 72.576 1065.13 69.3758 Q1061.85 66.1351 1061.85 57.6282 L1061.85 32.9987 L1056.38 32.9987 L1056.38 27.2059 L1061.85 27.2059 L1061.85 14.324 L1069.35 14.324 Z\" fill=\"#000000\" fill-rule=\"evenodd\" fill-opacity=\"1\" /><path clip-path=\"url(#clip880)\" d=\"M1133.31 48.0275 L1133.31 51.6733 L1099.04 51.6733 Q1099.53 59.3701 1103.66 63.421 Q1107.83 67.4314 1115.24 67.4314 Q1119.54 67.4314 1123.55 66.3781 Q1127.6 65.3249 1131.57 63.2184 L1131.57 70.267 Q1127.56 71.9684 1123.35 72.8596 Q1119.13 73.7508 1114.8 73.7508 Q1103.94 73.7508 1097.58 67.4314 Q1091.26 61.1119 1091.26 50.3365 Q1091.26 39.1965 1097.26 32.6746 Q1103.29 26.1121 1113.5 26.1121 Q1122.66 26.1121 1127.96 32.0264 Q1133.31 37.9003 1133.31 48.0275 M1125.86 45.84 Q1125.78 39.7232 1122.41 36.0774 Q1119.09 32.4315 1113.58 32.4315 Q1107.35 32.4315 1103.58 35.9558 Q1099.85 39.4801 1099.28 45.8805 L1125.86 45.84 Z\" fill=\"#000000\" fill-rule=\"evenodd\" fill-opacity=\"1\" /><path clip-path=\"url(#clip880)\" d=\"M1172.24 12.096 L1210.48 12.096 L1210.48 18.9825 L1180.42 18.9825 L1180.42 36.8875 L1209.23 36.8875 L1209.23 43.7741 L1180.42 43.7741 L1180.42 65.6895 L1211.21 65.6895 L1211.21 72.576 L1172.24 72.576 L1172.24 12.096 Z\" fill=\"#000000\" fill-rule=\"evenodd\" fill-opacity=\"1\" /><path clip-path=\"url(#clip880)\" d=\"M1250.63 34.1734 Q1249.37 33.4443 1247.87 33.1202 Q1246.41 32.7556 1244.63 32.7556 Q1238.31 32.7556 1234.91 36.8875 Q1231.55 40.9789 1231.55 48.6757 L1231.55 72.576 L1224.05 72.576 L1224.05 27.2059 L1231.55 27.2059 L1231.55 34.2544 Q1233.9 30.1225 1237.66 28.1376 Q1241.43 26.1121 1246.82 26.1121 Q1247.59 26.1121 1248.52 26.2337 Q1249.45 26.3147 1250.59 26.5172 L1250.63 34.1734 Z\" fill=\"#000000\" fill-rule=\"evenodd\" fill-opacity=\"1\" /><path clip-path=\"url(#clip880)\" d=\"M1283.28 34.1734 Q1282.02 33.4443 1280.52 33.1202 Q1279.06 32.7556 1277.28 32.7556 Q1270.96 32.7556 1267.56 36.8875 Q1264.2 40.9789 1264.2 48.6757 L1264.2 72.576 L1256.7 72.576 L1256.7 27.2059 L1264.2 27.2059 L1264.2 34.2544 Q1266.55 30.1225 1270.31 28.1376 Q1274.08 26.1121 1279.47 26.1121 Q1280.24 26.1121 1281.17 26.2337 Q1282.1 26.3147 1283.24 26.5172 L1283.28 34.1734 Z\" fill=\"#000000\" fill-rule=\"evenodd\" fill-opacity=\"1\" /><path clip-path=\"url(#clip880)\" d=\"M1306.85 32.4315 Q1300.86 32.4315 1297.37 37.1306 Q1293.89 41.7891 1293.89 49.9314 Q1293.89 58.0738 1297.33 62.7728 Q1300.82 67.4314 1306.85 67.4314 Q1312.81 67.4314 1316.29 62.7323 Q1319.77 58.0333 1319.77 49.9314 Q1319.77 41.8701 1316.29 37.1711 Q1312.81 32.4315 1306.85 32.4315 M1306.85 26.1121 Q1316.57 26.1121 1322.12 32.4315 Q1327.67 38.7509 1327.67 49.9314 Q1327.67 61.0714 1322.12 67.4314 Q1316.57 73.7508 1306.85 73.7508 Q1297.09 73.7508 1291.54 67.4314 Q1286.03 61.0714 1286.03 49.9314 Q1286.03 38.7509 1291.54 32.4315 Q1297.09 26.1121 1306.85 26.1121 Z\" fill=\"#000000\" fill-rule=\"evenodd\" fill-opacity=\"1\" /><path clip-path=\"url(#clip880)\" d=\"M1366.32 34.1734 Q1365.06 33.4443 1363.56 33.1202 Q1362.11 32.7556 1360.32 32.7556 Q1354 32.7556 1350.6 36.8875 Q1347.24 40.9789 1347.24 48.6757 L1347.24 72.576 L1339.75 72.576 L1339.75 27.2059 L1347.24 27.2059 L1347.24 34.2544 Q1349.59 30.1225 1353.36 28.1376 Q1357.12 26.1121 1362.51 26.1121 Q1363.28 26.1121 1364.21 26.2337 Q1365.14 26.3147 1366.28 26.5172 L1366.32 34.1734 Z\" fill=\"#000000\" fill-rule=\"evenodd\" fill-opacity=\"1\" /><path clip-path=\"url(#clip880)\" d=\"M1400.83 12.096 L1409.02 12.096 L1409.02 36.8875 L1438.75 36.8875 L1438.75 12.096 L1446.93 12.096 L1446.93 72.576 L1438.75 72.576 L1438.75 43.7741 L1409.02 43.7741 L1409.02 72.576 L1400.83 72.576 L1400.83 12.096 Z\" fill=\"#000000\" fill-rule=\"evenodd\" fill-opacity=\"1\" /><path clip-path=\"url(#clip880)\" d=\"M1462.89 27.2059 L1470.35 27.2059 L1470.35 72.576 L1462.89 72.576 L1462.89 27.2059 M1462.89 9.54393 L1470.35 9.54393 L1470.35 18.9825 L1462.89 18.9825 L1462.89 9.54393 Z\" fill=\"#000000\" fill-rule=\"evenodd\" fill-opacity=\"1\" /><path clip-path=\"url(#clip880)\" d=\"M1514.87 28.5427 L1514.87 35.5912 Q1511.71 33.9709 1508.3 33.1607 Q1504.9 32.3505 1501.25 32.3505 Q1495.71 32.3505 1492.91 34.0519 Q1490.16 35.7533 1490.16 39.156 Q1490.16 41.7486 1492.14 43.2475 Q1494.13 44.7058 1500.12 46.0426 L1502.67 46.6097 Q1510.61 48.3111 1513.93 51.4303 Q1517.3 54.509 1517.3 60.0587 Q1517.3 66.3781 1512.27 70.0644 Q1507.29 73.7508 1498.54 73.7508 Q1494.9 73.7508 1490.93 73.0216 Q1487 72.3329 1482.62 70.9151 L1482.62 63.2184 Q1486.75 65.3654 1490.76 66.4591 Q1494.77 67.5124 1498.7 67.5124 Q1503.97 67.5124 1506.8 65.73 Q1509.64 63.9071 1509.64 60.6258 Q1509.64 57.5877 1507.57 55.9673 Q1505.55 54.3469 1498.62 52.8481 L1496.03 52.2405 Q1489.1 50.7821 1486.02 47.7845 Q1482.94 44.7463 1482.94 39.4801 Q1482.94 33.0797 1487.48 29.5959 Q1492.02 26.1121 1500.36 26.1121 Q1504.5 26.1121 1508.14 26.7198 Q1511.79 27.3274 1514.87 28.5427 Z\" fill=\"#000000\" fill-rule=\"evenodd\" fill-opacity=\"1\" /><path clip-path=\"url(#clip880)\" d=\"M1536.54 14.324 L1536.54 27.2059 L1551.89 27.2059 L1551.89 32.9987 L1536.54 32.9987 L1536.54 57.6282 Q1536.54 63.1779 1538.04 64.7578 Q1539.58 66.3376 1544.24 66.3376 L1551.89 66.3376 L1551.89 72.576 L1544.24 72.576 Q1535.61 72.576 1532.33 69.3758 Q1529.04 66.1351 1529.04 57.6282 L1529.04 32.9987 L1523.58 32.9987 L1523.58 27.2059 L1529.04 27.2059 L1529.04 14.324 L1536.54 14.324 Z\" fill=\"#000000\" fill-rule=\"evenodd\" fill-opacity=\"1\" /><path clip-path=\"url(#clip880)\" d=\"M1579.28 32.4315 Q1573.28 32.4315 1569.8 37.1306 Q1566.31 41.7891 1566.31 49.9314 Q1566.31 58.0738 1569.76 62.7728 Q1573.24 67.4314 1579.28 67.4314 Q1585.23 67.4314 1588.71 62.7323 Q1592.2 58.0333 1592.2 49.9314 Q1592.2 41.8701 1588.71 37.1711 Q1585.23 32.4315 1579.28 32.4315 M1579.28 26.1121 Q1589 26.1121 1594.55 32.4315 Q1600.1 38.7509 1600.1 49.9314 Q1600.1 61.0714 1594.55 67.4314 Q1589 73.7508 1579.28 73.7508 Q1569.51 73.7508 1563.96 67.4314 Q1558.45 61.0714 1558.45 49.9314 Q1558.45 38.7509 1563.96 32.4315 Q1569.51 26.1121 1579.28 26.1121 Z\" fill=\"#000000\" fill-rule=\"evenodd\" fill-opacity=\"1\" /><path clip-path=\"url(#clip880)\" d=\"M1638.74 34.1734 Q1637.49 33.4443 1635.99 33.1202 Q1634.53 32.7556 1632.75 32.7556 Q1626.43 32.7556 1623.03 36.8875 Q1619.66 40.9789 1619.66 48.6757 L1619.66 72.576 L1612.17 72.576 L1612.17 27.2059 L1619.66 27.2059 L1619.66 34.2544 Q1622.01 30.1225 1625.78 28.1376 Q1629.55 26.1121 1634.93 26.1121 Q1635.7 26.1121 1636.64 26.2337 Q1637.57 26.3147 1638.7 26.5172 L1638.74 34.1734 Z\" fill=\"#000000\" fill-rule=\"evenodd\" fill-opacity=\"1\" /><path clip-path=\"url(#clip880)\" d=\"M1665.44 76.7889 Q1662.28 84.8907 1659.28 87.3618 Q1656.28 89.8329 1651.26 89.8329 L1645.31 89.8329 L1645.31 83.5945 L1649.68 83.5945 Q1652.76 83.5945 1654.46 82.1361 Q1656.16 80.6778 1658.23 75.2496 L1659.56 71.8468 L1641.21 27.2059 L1649.11 27.2059 L1663.29 62.6918 L1677.47 27.2059 L1685.37 27.2059 L1665.44 76.7889 Z\" fill=\"#000000\" fill-rule=\"evenodd\" fill-opacity=\"1\" /><polyline clip-path=\"url(#clip882)\" style=\"stroke:#009af9; stroke-linecap:round; stroke-linejoin:round; stroke-width:4; stroke-opacity:1; fill:none\" points=\"315.545,1090.02 322.634,1278.68 329.723,1316.02 336.812,1325.48 343.902,1319.96 350.991,1306.41 358.08,1334.36 365.169,1338.47 372.258,1273.2 379.347,1269.46 386.436,1163.75 393.526,1043.15 400.615,1120.39 407.704,1259.51 414.793,1309.69 421.882,1324.44 428.971,1332.35 436.061,1235.83 443.15,1232.5 450.239,1268.39 457.328,1192.5 464.417,1094.91 471.506,1136.25 478.596,1198.68 485.685,1147.7 492.774,1124.5 499.863,1117.46 506.952,1118.5 514.041,1112.71 521.13,1180.38 528.22,1184.28 535.309,1217.32 542.398,1233.25 549.487,1262.77 556.576,1230.51 563.665,1268.26 570.755,1279.09 577.844,1315.37 584.933,1289.95 592.022,1319.78 599.111,1285.6 606.2,1320.9 613.289,1329.36 620.379,1170.33 627.468,1243.28 634.557,1239.21 641.646,1189.14 648.735,1115.55 655.824,1095.86 662.914,1131.54 670.003,1119.89 677.092,1064.73 684.181,938.623 691.27,932.158 698.359,959.31 705.449,985.63 712.538,964.005 719.627,971.076 726.716,944.571 733.805,970.151 740.894,998.275 747.983,985.854 755.073,968.726 762.162,964.455 769.251,1008.16 776.34,999.474 783.429,1022.43 790.518,1025.57 797.608,1020.96 804.697,1059.08 811.786,1078.09 818.875,1139.16 825.964,1154.71 833.053,1123.9 840.143,1108.54 847.232,1070.45 854.321,1033.62 861.41,1057.57 868.499,1113.95 875.588,1131.76 882.677,1181.68 889.767,1225.62 896.856,1259.95 903.945,1237.41 911.034,1248.38 918.123,1260.63 925.212,1265.57 932.302,1255.99 939.391,1233.16 946.48,1222.31 953.569,1214.64 960.658,1233.64 967.747,1246.8 974.836,1235.13 981.926,1261.43 989.015,1259.47 996.104,1261.8 1003.19,1257.47 1010.28,1259.58 1017.37,1238.28 1024.46,1235.87 1031.55,1256.73 1038.64,1253.83 1045.73,1251.5 1052.82,1209.05 1059.91,1199.26 1067,1197.05 1074.08,1174.87 1081.17,1219.68 1088.26,1183.15 1095.35,1219.76 1102.44,1241.46 1109.53,1268.08 1116.62,1288.47 1123.71,1326.62 1130.8,1306.08 1137.89,1293.85 1144.98,1276.67 1152.07,1282.73 1159.15,1299.5 1166.24,1346.17 1173.33,1357.77 1180.42,1338.38 1187.51,1381.24 1194.6,1386.4 1201.69,1339.62 1208.78,1342.69 1215.87,1349.12 1222.96,1327.3 1230.05,1304.12 1237.14,1315.04 1244.22,1319.77 1251.31,1321.41 1258.4,1325.56 1265.49,1293.35 1272.58,1262.32 1279.67,1280.2 1286.76,1304.53 1293.85,1287.73 1300.94,1288.47 1308.03,1294.55 1315.12,1291.54 1322.21,1231.25 1329.29,1260 1336.38,1253.87 1343.47,1280.13 1350.56,1265.94 1357.65,1304.75 1364.74,1305.25 1371.83,1317.06 1378.92,1303.25 1386.01,1295.78 1393.1,1294.47 1400.19,1280.64 1407.28,1270.93 1414.36,1281.35 1421.45,1267.96 1428.54,1265.46 1435.63,1245.36 1442.72,1238.91 1449.81,1238.42 1456.9,1228.58 1463.99,1236.76 1471.08,1206.92 1478.17,1187.88 1485.26,1198.91 1492.34,1192.55 1499.43,1188.86 1506.52,1150.34 1513.61,1139.27 1520.7,1126.55 1527.79,1139.47 1534.88,1161.12 1541.97,1187.11 1549.06,1173.45 1556.15,1184.16 1563.24,1175.09 1570.33,1157.83 1577.41,1127.44 1584.5,1104.28 1591.59,1111.09 1598.68,1114.98 1605.77,1136.62 1612.86,1146.57 1619.95,1139.78 1627.04,1135.8 1634.13,1156.81 1641.22,1135.39 1648.31,1141.47 1655.4,1144.56 1662.48,1143.2 1669.57,1108.8 1676.66,1108.04 1683.75,1139.61 1690.84,1151.95 1697.93,1155.54 1705.02,1145.7 1712.11,1149.7 1719.2,1156.47 1726.29,1182.42 1733.38,1187.2 1740.47,1199.74 1747.55,1207.82 1754.64,1209.69 1761.73,1206.46 1768.82,1206.01 1775.91,1202.56 1783,1197.74 1790.09,1201.78 1797.18,1216.77 1804.27,1221.81 1811.36,1206.66 1818.45,1220.4 1825.54,1207.43 1832.62,1212.9 1839.71,1212.13 1846.8,1208.78 1853.89,1195.47 1860.98,1218.54 1868.07,1224.75 1875.16,1209.17 1882.25,1197.65 1889.34,1197.21 1896.43,1195.42 1903.52,1191.69 1910.61,1178.57 1917.69,1176.21 1924.78,1180.83 1931.87,1185.09 1938.96,1184.3 1946.05,1181.01 1953.14,1175.12 1960.23,1160.97 1967.32,1145.77 1974.41,1145.04 1981.5,1130.51 1988.59,1123.3 1995.68,1126.28 2002.76,1134.02 2009.85,1121.46 2016.94,1122.87 2024.03,1126.69 2031.12,1130.39 2038.21,1136.03 2045.3,1138.63 2052.39,1131.29 2059.48,1126.69 2066.57,1124.83 2073.66,1119.14 2080.74,1117.79 2087.83,1116.69 2094.92,1114.76 2102.01,1110.9 2109.1,1106 2116.19,1103.06 2123.28,1095.67 2130.37,1088.4 2137.46,1084.5 2144.55,1085.16 2151.64,1078.73 2158.73,1082.29 2165.81,1082.63 2172.9,1081.69 2179.99,1079.34 2187.08,1082.2 2194.17,1082.26 2201.26,1084.15 2208.35,1083.25 2215.44,1081.22 2222.53,1082.48 2229.62,1084.13 2236.71,1084.18 2243.8,1081.78 2250.88,1080.12 2257.97,1080.69 2265.06,1079.06 2272.15,1076.68 2279.24,1075.62 2286.33,1076.12 2293.42,1075.39 \"/>\n",
       "<polyline clip-path=\"url(#clip882)\" style=\"stroke:#e26f46; stroke-linecap:round; stroke-linejoin:round; stroke-width:4; stroke-opacity:1; fill:none\" points=\"315.545,1097.15 322.634,910.791 329.723,868.24 336.812,807.177 343.902,912.555 350.991,749.395 358.08,700.901 365.169,727.582 372.258,813.868 379.347,789.028 386.436,752.922 393.526,777.052 400.615,690.065 407.704,633.159 414.793,624.638 421.882,656.883 428.971,608.756 436.061,492.131 443.15,457.458 450.239,387.068 457.328,313.002 464.417,160.256 471.506,208.422 478.596,322.205 485.685,276.682 492.774,279.492 499.863,262.679 506.952,256.266 514.041,329.394 521.13,375.443 528.22,416.09 535.309,525.958 542.398,568.588 549.487,671.376 556.576,710.295 563.665,642.293 570.755,681.401 577.844,708.289 584.933,745.133 592.022,717.708 599.111,774.656 606.2,790.07 613.289,795.867 620.379,839.034 627.468,782.903 634.557,790.492 641.646,817.441 648.735,881.719 655.824,898.712 662.914,860.87 670.003,875.977 677.092,903.322 684.181,864.155 691.27,840.222 698.359,901.213 705.449,908.054 712.538,957.222 719.627,909.16 726.716,902.765 733.805,912.276 740.894,915.997 747.983,895.651 755.073,942.692 762.162,890.021 769.251,880.19 776.34,885.824 783.429,921.729 790.518,941.872 797.608,952.252 804.697,936.905 811.786,953.853 818.875,978.783 825.964,968.083 833.053,981.359 840.143,999.22 847.232,987.359 854.321,1002.1 861.41,1022.9 868.499,988.072 875.588,960.645 882.677,992.522 889.767,1025.68 896.856,1080.03 903.945,1078.25 911.034,1098.96 918.123,1086.95 925.212,1076.96 932.302,1035.11 939.391,1063.36 946.48,1058.06 953.569,1035.07 960.658,1033.8 967.747,1046.58 974.836,1016.17 981.926,1038.91 989.015,1005.98 996.104,1008 1003.19,1003.89 1010.28,980.55 1017.37,987.198 1024.46,1010.23 1031.55,1019.84 1038.64,1008.1 1045.73,1034.16 1052.82,1058.58 1059.91,1098.67 1067,1127.07 1074.08,1079.54 1081.17,1071.59 1088.26,1063.85 1095.35,1067.5 1102.44,1064.67 1109.53,1093.69 1116.62,1143 1123.71,1168.41 1130.8,1147.68 1137.89,1110.41 1144.98,1086.72 1152.07,1045.97 1159.15,1056.42 1166.24,1039.31 1173.33,1027.58 1180.42,1013.69 1187.51,1024.6 1194.6,991.74 1201.69,978.133 1208.78,952.866 1215.87,957.07 1222.96,949.931 1230.05,949.781 1237.14,957.105 1244.22,960.529 1251.31,975.601 1258.4,990.103 1265.49,1026.16 1272.58,1033.33 1279.67,1042.4 1286.76,1035.25 1293.85,1024.45 1300.94,1070.02 1308.03,1073.68 1315.12,1066.96 1322.21,1052.19 1329.29,1057.42 1336.38,1060.09 1343.47,1035.44 1350.56,1047.68 1357.65,1076.07 1364.74,1093.95 1371.83,1065.39 1378.92,1026.1 1386.01,1003.16 1393.1,999.436 1400.19,1008.33 1407.28,1039.68 1414.36,1070.69 1421.45,1069.52 1428.54,1050.44 1435.63,1052.58 1442.72,1063.62 1449.81,1050.52 1456.9,1035.24 1463.99,1014.59 1471.08,1016.62 1478.17,1012.39 1485.26,987.353 1492.34,992.148 1499.43,994.63 1506.52,1021.47 1513.61,1023.19 1520.7,1017.81 1527.79,1035.09 1534.88,1043.38 1541.97,1060.91 1549.06,1073.06 1556.15,1088.34 1563.24,1108.37 1570.33,1117.18 1577.41,1113.73 1584.5,1111.92 1591.59,1099 1598.68,1095.36 1605.77,1090.03 1612.86,1103.53 1619.95,1098.55 1627.04,1111.97 1634.13,1115.26 1641.22,1086.96 1648.31,1091.61 1655.4,1096.47 1662.48,1091.6 1669.57,1073.04 1676.66,1084.32 1683.75,1083.39 1690.84,1064.71 1697.93,1039.39 1705.02,1022.22 1712.11,1024.64 1719.2,1026.74 1726.29,1030.73 1733.38,1026.37 1740.47,1030.64 1747.55,1037.93 1754.64,1019.61 1761.73,1019.98 1768.82,1021.61 1775.91,1027.75 1783,1024.58 1790.09,1027.14 1797.18,1017.8 1804.27,1017.72 1811.36,1022.9 1818.45,1030.41 1825.54,1028.81 1832.62,1032.86 1839.71,1038.9 1846.8,1058.44 1853.89,1065.86 1860.98,1050.41 1868.07,1051.4 1875.16,1063.46 1882.25,1064.8 1889.34,1073.97 1896.43,1077.01 1903.52,1096.16 1910.61,1090.95 1917.69,1087.45 1924.78,1079.29 1931.87,1065.32 1938.96,1069.84 1946.05,1063.48 1953.14,1070.31 1960.23,1070.97 1967.32,1068.72 1974.41,1077.02 1981.5,1080.76 1988.59,1084.38 1995.68,1088.01 2002.76,1097.32 2009.85,1087.22 2016.94,1084.29 2024.03,1081.73 2031.12,1086.28 2038.21,1093.77 2045.3,1085.55 2052.39,1086.5 2059.48,1087.25 2066.57,1080.48 2073.66,1082.15 2080.74,1080.07 2087.83,1080.18 2094.92,1080.74 2102.01,1080.21 2109.1,1079.8 2116.19,1078.16 2123.28,1085.32 2130.37,1085.69 2137.46,1085.49 2144.55,1084.5 2151.64,1080.64 2158.73,1083.54 2165.81,1084.17 2172.9,1082.7 2179.99,1078.94 2187.08,1083.13 2194.17,1080.17 2201.26,1077.7 2208.35,1076.69 2215.44,1076.31 2222.53,1076.87 2229.62,1073.83 2236.71,1075.78 2243.8,1075.47 2250.88,1074.26 2257.97,1074.64 2265.06,1073.64 2272.15,1071.71 2279.24,1071.43 2286.33,1072.53 2293.42,1072.31 \"/>\n",
       "<polyline clip-path=\"url(#clip882)\" style=\"stroke:#3da44d; stroke-linecap:round; stroke-linejoin:round; stroke-width:4; stroke-opacity:1; fill:none\" points=\"315.545,1015.08 322.634,1058.64 329.723,1091.97 336.812,952.013 343.902,946.306 350.991,941.28 358.08,890.774 365.169,1021.06 372.258,920.144 379.347,773.759 386.436,706.299 393.526,607.25 400.615,501.562 407.704,578.121 414.793,549.805 421.882,565.743 428.971,460.899 436.061,551.195 443.15,579.246 450.239,531.335 457.328,455.247 464.417,435.854 471.506,349.197 478.596,350.532 485.685,315.011 492.774,373.859 499.863,494.823 506.952,507.564 514.041,522.52 521.13,554.342 528.22,577.686 535.309,592.909 542.398,630.314 549.487,560.099 556.576,471.674 563.665,454.917 570.755,472.559 577.844,440.142 584.933,488.04 592.022,508.661 599.111,479.434 606.2,499.162 613.289,501.798 620.379,528.327 627.468,558.109 634.557,625.107 641.646,689.969 648.735,678.704 655.824,683.122 662.914,782.108 670.003,833.256 677.092,852.387 684.181,881.339 691.27,810.165 698.359,792.785 705.449,780.229 712.538,810.764 719.627,758.647 726.716,759.894 733.805,749.606 740.894,757.112 747.983,786.759 755.073,770 762.162,765.642 769.251,789.842 776.34,800.812 783.429,790.994 790.518,821.988 797.608,831.302 804.697,835.006 811.786,832.419 818.875,839.851 825.964,838.935 833.053,855.056 840.143,870.511 847.232,919.42 854.321,939.714 861.41,969.127 868.499,940.425 875.588,993.561 882.677,1008.25 889.767,983.753 896.856,997.244 903.945,1013.65 911.034,998.184 918.123,1017.41 925.212,1052.27 932.302,1043 939.391,1088.98 946.48,1094.49 953.569,1088.93 960.658,1137.4 967.747,1168.33 974.836,1169.25 981.926,1169.99 989.015,1160.41 996.104,1161.9 1003.19,1130.84 1010.28,1153.19 1017.37,1145.28 1024.46,1179.11 1031.55,1192.77 1038.64,1197.28 1045.73,1233.39 1052.82,1266.13 1059.91,1263.89 1067,1243.89 1074.08,1247.09 1081.17,1190 1088.26,1159.2 1095.35,1180.08 1102.44,1189.36 1109.53,1209.68 1116.62,1213.13 1123.71,1219.13 1130.8,1215.64 1137.89,1213.4 1144.98,1236.66 1152.07,1197.83 1159.15,1217.22 1166.24,1266.32 1173.33,1279.56 1180.42,1292.26 1187.51,1288.34 1194.6,1277.12 1201.69,1282.16 1208.78,1297.78 1215.87,1304.37 1222.96,1295.74 1230.05,1312.01 1237.14,1323.48 1244.22,1345.43 1251.31,1354.13 1258.4,1345.76 1265.49,1311.22 1272.58,1294 1279.67,1275.12 1286.76,1291.2 1293.85,1283.43 1300.94,1298.05 1308.03,1288.74 1315.12,1288.51 1322.21,1331.51 1329.29,1350.39 1336.38,1356.88 1343.47,1348.87 1350.56,1310.52 1357.65,1309.59 1364.74,1330.67 1371.83,1322.6 1378.92,1301.28 1386.01,1327.36 1393.1,1323.77 1400.19,1302.41 1407.28,1297.66 1414.36,1310.4 1421.45,1300.28 1428.54,1306.69 1435.63,1326.12 1442.72,1294.01 1449.81,1270.2 1456.9,1256.06 1463.99,1276.3 1471.08,1272.09 1478.17,1258.49 1485.26,1261.74 1492.34,1252.54 1499.43,1254.28 1506.52,1260.48 1513.61,1229.58 1520.7,1174.89 1527.79,1174.95 1534.88,1168.91 1541.97,1181.25 1549.06,1179.29 1556.15,1187.24 1563.24,1155.22 1570.33,1148.85 1577.41,1149.68 1584.5,1139.73 1591.59,1138.46 1598.68,1132.67 1605.77,1131.4 1612.86,1147.25 1619.95,1154.87 1627.04,1130.84 1634.13,1093.6 1641.22,1098.26 1648.31,1117.69 1655.4,1133.21 1662.48,1140 1669.57,1157.48 1676.66,1155.47 1683.75,1149.65 1690.84,1120.19 1697.93,1120.98 1705.02,1108.5 1712.11,1095.84 1719.2,1077.95 1726.29,1090.97 1733.38,1085.2 1740.47,1086.62 1747.55,1109.29 1754.64,1131.18 1761.73,1135.64 1768.82,1127.58 1775.91,1132.77 1783,1138.8 1790.09,1135.11 1797.18,1130.45 1804.27,1119.96 1811.36,1096.5 1818.45,1077.89 1825.54,1070.87 1832.62,1048.69 1839.71,1056.7 1846.8,1060.38 1853.89,1067.95 1860.98,1057.75 1868.07,1069.4 1875.16,1069.54 1882.25,1067.72 1889.34,1065.46 1896.43,1058.94 1903.52,1065.71 1910.61,1070.28 1917.69,1077.4 1924.78,1069.07 1931.87,1068.93 1938.96,1055.51 1946.05,1052.18 1953.14,1062.56 1960.23,1062.39 1967.32,1068.19 1974.41,1067.1 1981.5,1054.76 1988.59,1048.11 1995.68,1041.3 2002.76,1042.61 2009.85,1037.02 2016.94,1024.58 2024.03,1031 2031.12,1024.7 2038.21,1021.04 2045.3,1027.81 2052.39,1034.91 2059.48,1036.18 2066.57,1033.16 2073.66,1033.68 2080.74,1038.3 2087.83,1039.82 2094.92,1042.69 2102.01,1045.96 2109.1,1045.36 2116.19,1041.3 2123.28,1044.83 2130.37,1043.23 2137.46,1043.24 2144.55,1040.44 2151.64,1037.13 2158.73,1039.41 2165.81,1033.77 2172.9,1032.04 2179.99,1030.24 2187.08,1028.04 2194.17,1030.07 2201.26,1028.54 2208.35,1029.86 2215.44,1028.65 2222.53,1026.98 2229.62,1024.76 2236.71,1023.85 2243.8,1025.22 2250.88,1025.71 2257.97,1026.98 2265.06,1027.21 2272.15,1028.48 2279.24,1028.38 2286.33,1029.21 2293.42,1029.74 \"/>\n",
       "<polyline clip-path=\"url(#clip882)\" style=\"stroke:#c271d2; stroke-linecap:round; stroke-linejoin:round; stroke-width:4; stroke-opacity:1; fill:none\" stroke-dasharray=\"16, 10\" points=\"315.545,1065.13 322.634,1065.13 329.723,1061.07 336.812,1056.5 343.902,1051.96 350.991,1047.75 358.08,1043.98 365.169,1039.88 372.258,1035.89 379.347,1033.32 386.436,1030.94 393.526,1030.69 400.615,1032.74 407.704,1033.22 414.793,1031.05 421.882,1028.03 428.971,1024.88 436.061,1021.71 443.15,1020.53 450.239,1019.47 457.328,1017.78 464.417,1017.6 471.506,1019.29 478.596,1020.11 485.685,1019.71 492.774,1020.3 499.863,1021.3 506.952,1022.4 514.041,1023.42 521.13,1024.5 528.22,1024.25 535.309,1023.92 542.398,1022.98 549.487,1021.79 556.576,1020.09 563.665,1019.08 570.755,1017.41 577.844,1015.62 584.933,1013.2 592.022,1011.39 599.111,1009.11 606.2,1007.56 613.289,1005.42 620.379,1003.23 627.468,1004.16 634.557,1003.69 641.646,1003.31 648.735,1003.9 655.824,1005.85 662.914,1008.11 670.003,1009.56 677.092,1011.17 684.181,1013.75 691.27,1017.61 698.359,1021.42 705.449,1024.58 712.538,1028.02 719.627,1030.81 726.716,1034.24 733.805,1037.99 740.894,1041.09 747.983,1043.51 755.073,1046.03 762.162,1048.79 769.251,1051.48 776.34,1053.22 783.429,1055.02 790.518,1056.31 797.608,1057.48 804.697,1058.7 811.786,1059.13 818.875,1059.17 825.964,1058.04 833.053,1056.66 840.143,1055.96 847.232,1055.56 854.321,1055.92 861.41,1056.97 868.499,1057.5 875.588,1056.93 882.677,1056.05 889.767,1054.27 896.856,1051.73 903.945,1048.65 911.034,1046.16 918.123,1043.57 925.212,1040.88 932.302,1038.23 939.391,1035.88 946.48,1034.08 953.569,1032.57 960.658,1031.27 967.747,1029.66 974.836,1027.89 981.926,1026.43 989.015,1024.54 996.104,1022.77 1003.19,1021.05 1010.28,1019.47 1017.37,1017.96 1024.46,1016.92 1031.55,1015.95 1038.64,1014.65 1045.73,1013.46 1052.82,1012.38 1059.91,1012.14 1067,1012.1 1074.08,1012.1 1081.17,1012.53 1088.26,1012.1 1095.35,1012.37 1102.44,1011.95 1109.53,1011.12 1116.62,1009.84 1123.71,1008.21 1130.8,1005.96 1137.89,1004.2 1144.98,1002.74 1152.07,1001.69 1159.15,1000.57 1166.24,999.176 1173.33,996.965 1180.42,994.657 1187.51,992.803 1194.6,990.221 1201.69,987.672 1208.78,986.129 1215.87,984.612 1222.96,983.055 1230.05,981.987 1237.14,981.396 1244.22,980.629 1251.31,979.808 1258.4,979.009 1265.49,978.15 1272.58,977.936 1279.67,978.344 1286.76,978.388 1293.85,977.942 1300.94,977.86 1308.03,977.742 1315.12,977.535 1322.21,977.398 1329.29,978.411 1336.38,978.824 1343.47,979.34 1350.56,979.342 1357.65,979.612 1364.74,979.126 1371.83,978.647 1378.92,977.976 1386.01,977.591 1393.1,977.374 1400.19,977.184 1407.28,977.274 1414.36,977.529 1421.45,977.569 1428.54,977.86 1435.63,978.199 1442.72,978.907 1449.81,979.701 1456.9,980.478 1463.99,981.374 1471.08,982.097 1478.17,983.362 1485.26,984.913 1492.34,986.179 1499.43,987.5 1506.52,988.848 1513.61,990.852 1520.7,992.979 1527.79,995.242 1534.88,997.157 1541.97,998.565 1549.06,999.394 1556.15,1000.46 1563.24,1001.28 1570.33,1002.21 1577.41,1003.44 1584.5,1005.2 1591.59,1007.3 1598.68,1009.17 1605.77,1010.89 1612.86,1012.1 1619.95,1013.08 1627.04,1014.16 1634.13,1015.24 1641.22,1015.86 1648.31,1016.86 1655.4,1017.7 1662.48,1018.44 1669.57,1019.18 1676.66,1020.53 1683.75,1021.84 1690.84,1022.48 1697.93,1022.84 1705.02,1023.13 1712.11,1023.6 1719.2,1023.98 1726.29,1024.17 1733.38,1023.88 1740.47,1023.54 1747.55,1022.95 1754.64,1022.24 1761.73,1021.53 1768.82,1020.92 1775.91,1020.35 1783,1019.85 1790.09,1019.49 1797.18,1019.06 1804.27,1018.38 1811.36,1017.61 1818.45,1017.2 1825.54,1016.52 1832.62,1016.12 1839.71,1015.64 1846.8,1015.2 1853.89,1014.84 1860.98,1014.74 1868.07,1014.23 1875.16,1013.6 1882.25,1013.31 1889.34,1013.26 1896.43,1013.2 1903.52,1013.19 1910.61,1013.25 1917.69,1013.56 1924.78,1013.89 1931.87,1014.13 1938.96,1014.28 1946.05,1014.43 1953.14,1014.65 1960.23,1014.96 1967.32,1015.52 1974.41,1016.34 1981.5,1017.14 1988.59,1018.19 1995.68,1019.31 2002.76,1020.34 2009.85,1021.15 2016.94,1022.18 2024.03,1023.12 2031.12,1023.94 2038.21,1024.66 2045.3,1025.24 2052.39,1025.73 2059.48,1026.34 2066.57,1027.02 2073.66,1027.71 2080.74,1028.44 2087.83,1029.2 2094.92,1029.94 2102.01,1030.66 2109.1,1031.45 2116.19,1032.28 2123.28,1033.13 2130.37,1034.08 2137.46,1035.11 2144.55,1036.16 2151.64,1037.16 2158.73,1038.23 2165.81,1039.17 2172.9,1040.07 2179.99,1040.95 2187.08,1041.83 2194.17,1042.62 2201.26,1043.36 2208.35,1044.03 2215.44,1044.68 2222.53,1045.34 2229.62,1045.95 2236.71,1046.5 2243.8,1047.01 2250.88,1047.56 2257.97,1048.11 2265.06,1048.64 2272.15,1049.14 2279.24,1049.68 2286.33,1050.22 2293.42,1050.72 \"/>\n",
       "<polyline clip-path=\"url(#clip882)\" style=\"stroke:#ac8d18; stroke-linecap:round; stroke-linejoin:round; stroke-width:4; stroke-opacity:1; fill:none\" stroke-dasharray=\"16, 10\" points=\"315.545,1065.12 322.634,1065.12 329.723,1068.05 336.812,1071.66 343.902,1076.24 350.991,1078.62 358.08,1083.97 365.169,1089.99 372.258,1095.23 379.347,1098.56 386.436,1102.22 393.526,1106.39 400.615,1109.91 407.704,1114.91 414.793,1120.75 421.882,1126.49 428.971,1131.33 436.061,1136.86 443.15,1144.35 450.239,1152.12 457.328,1160.84 464.417,1170.6 471.506,1182.79 478.596,1193.46 485.685,1201.48 492.774,1209.97 499.863,1218.01 506.952,1225.98 514.041,1233.7 521.13,1239.68 528.22,1244.49 535.309,1248.31 542.398,1249.84 549.487,1250.5 556.576,1249.16 563.665,1247.13 570.755,1246.51 577.844,1245.18 584.933,1243.4 592.022,1241 599.111,1239.22 606.2,1236.46 613.289,1233.53 620.379,1230.64 627.468,1227.08 634.557,1224.75 641.646,1222.37 648.735,1219.6 655.824,1215.75 662.914,1211.77 670.003,1208.7 677.092,1205.47 684.181,1201.86 691.27,1199.83 698.359,1198.33 705.449,1195.83 712.538,1192.6 719.627,1189.38 726.716,1186.44 733.805,1183.77 740.894,1181.03 747.983,1178.36 755.073,1176.19 762.162,1173.24 769.251,1171.42 776.34,1169.88 783.429,1168.31 790.518,1166.12 797.608,1163.66 804.697,1161.12 811.786,1158.99 818.875,1156.63 825.964,1153.91 833.053,1151.55 840.143,1149.04 847.232,1146.29 854.321,1143.91 861.41,1141.35 868.499,1138.54 875.588,1136.51 882.677,1135.09 889.767,1133.14 896.856,1130.65 903.945,1127.24 911.034,1124.04 918.123,1120.6 925.212,1117.55 932.302,1114.82 939.391,1113.03 946.48,1110.78 953.569,1108.74 960.658,1107.23 967.747,1105.83 974.836,1104.24 981.926,1103.31 989.015,1101.99 996.104,1101.35 1003.19,1100.7 1010.28,1100.17 1017.37,1100.11 1024.46,1099.92 1031.55,1099.31 1038.64,1098.56 1045.73,1098.05 1052.82,1097.1 1059.91,1095.71 1067,1093.61 1074.08,1091.08 1081.17,1089.6 1088.26,1088.32 1095.35,1087.23 1102.44,1086.13 1109.53,1085.15 1116.62,1083.65 1123.71,1081.29 1130.8,1078.58 1137.89,1076.37 1144.98,1074.98 1152.07,1074.09 1159.15,1074.02 1166.24,1073.76 1173.33,1073.84 1180.42,1074.14 1187.51,1074.7 1194.6,1075.01 1201.69,1075.94 1208.78,1077.08 1215.87,1078.63 1222.96,1080.03 1230.05,1081.51 1237.14,1082.93 1244.22,1084.14 1251.31,1085.22 1258.4,1085.97 1265.49,1086.41 1272.58,1086.13 1279.67,1085.74 1286.76,1085.2 1293.85,1084.8 1300.94,1084.64 1308.03,1083.61 1315.12,1082.57 1322.21,1081.7 1329.29,1081.17 1336.38,1080.55 1343.47,1079.91 1350.56,1079.77 1357.65,1079.39 1364.74,1078.51 1371.83,1077.33 1378.92,1076.74 1386.01,1076.93 1393.1,1077.55 1400.19,1078.2 1407.28,1078.66 1414.36,1078.51 1421.45,1077.77 1428.54,1077.07 1435.63,1076.77 1442.72,1076.44 1449.81,1075.93 1456.9,1075.69 1463.99,1075.75 1471.08,1076.2 1478.17,1076.61 1485.26,1077.07 1492.34,1077.97 1499.43,1078.75 1506.52,1079.46 1513.61,1079.62 1520.7,1079.73 1527.79,1079.93 1534.88,1079.78 1541.97,1079.5 1549.06,1078.92 1556.15,1078.11 1563.24,1077.05 1570.33,1075.68 1577.41,1074.19 1584.5,1072.83 1591.59,1071.57 1598.68,1070.63 1605.77,1069.8 1612.86,1069.1 1619.95,1068.18 1627.04,1067.38 1634.13,1066.39 1641.22,1065.37 1648.31,1064.93 1655.4,1064.44 1662.48,1063.87 1669.57,1063.43 1676.66,1063.36 1683.75,1063.09 1690.84,1062.86 1697.93,1062.96 1705.02,1063.56 1712.11,1064.46 1719.2,1065.27 1726.29,1065.98 1733.38,1066.58 1740.47,1067.26 1747.55,1067.81 1754.64,1068.2 1761.73,1068.92 1768.82,1069.59 1775.91,1070.21 1783,1070.69 1790.09,1071.19 1797.18,1071.64 1804.27,1072.23 1811.36,1072.79 1818.45,1073.23 1825.54,1073.5 1832.62,1073.8 1839.71,1073.99 1846.8,1074.08 1853.89,1073.77 1860.98,1073.35 1868.07,1073.23 1875.16,1073.11 1882.25,1072.76 1889.34,1072.4 1896.43,1071.87 1903.52,1071.32 1910.61,1070.43 1917.69,1069.7 1924.78,1069.06 1931.87,1068.6 1938.96,1068.43 1946.05,1068.18 1953.14,1068.05 1960.23,1067.82 1967.32,1067.59 1974.41,1067.41 1981.5,1067.07 1988.59,1066.69 1995.68,1066.25 2002.76,1065.76 2009.85,1065.13 2016.94,1064.69 2024.03,1064.36 2031.12,1064.06 2038.21,1063.72 2045.3,1063.25 2052.39,1062.96 2059.48,1062.67 2066.57,1062.37 2073.66,1062.22 2080.74,1062.04 2087.83,1061.91 2094.92,1061.77 2102.01,1061.63 2109.1,1061.51 2116.19,1061.39 2123.28,1061.32 2130.37,1061.11 2137.46,1060.9 2144.55,1060.72 2151.64,1060.57 2158.73,1060.48 2165.81,1060.33 2172.9,1060.19 2179.99,1060.1 2187.08,1060.09 2194.17,1059.99 2201.26,1059.93 2208.35,1059.95 2215.44,1059.98 2222.53,1060 2229.62,1060.02 2236.71,1060.11 2243.8,1060.15 2250.88,1060.17 2257.97,1060.23 2265.06,1060.28 2272.15,1060.35 2279.24,1060.44 2286.33,1060.54 2293.42,1060.62 \"/>\n",
       "<polyline clip-path=\"url(#clip882)\" style=\"stroke:#00a9ad; stroke-linecap:round; stroke-linejoin:round; stroke-width:4; stroke-opacity:1; fill:none\" stroke-dasharray=\"16, 10\" points=\"315.545,1065.13 322.634,1065.14 329.723,1065.24 336.812,1064.73 343.902,1066.9 350.991,1069.08 358.08,1071.25 365.169,1074.26 372.258,1074.67 379.347,1076.99 386.436,1081.96 393.526,1087.98 400.615,1095.61 407.704,1104.89 414.793,1112.26 421.882,1119.81 428.971,1126.69 436.061,1135.24 443.15,1141.68 450.239,1147.28 457.328,1153.52 464.417,1160.91 471.506,1168.31 478.596,1177.02 485.685,1185.29 492.774,1193.84 499.863,1200.85 506.952,1205.24 514.041,1209.17 521.13,1212.62 528.22,1215.33 535.309,1217.44 542.398,1219.17 549.487,1220.1 556.576,1222.32 563.665,1226.13 570.755,1230.07 577.844,1233.48 584.933,1237.35 592.022,1240.12 599.111,1242.38 606.2,1245.08 613.289,1247.27 620.379,1249.32 627.468,1250.75 634.557,1251.57 641.646,1251.07 648.735,1249.36 655.824,1247.94 662.914,1246.51 670.003,1243.25 677.092,1239.18 684.181,1234.96 691.27,1230.28 698.359,1227.19 705.449,1224.56 712.538,1222.39 719.627,1219.65 726.716,1218.13 733.805,1216.66 740.894,1215.45 747.983,1214.15 755.073,1212.34 762.162,1210.93 769.251,1209.7 776.34,1208.06 783.429,1206.27 790.518,1204.77 797.608,1202.76 804.697,1200.66 811.786,1198.61 818.875,1196.69 825.964,1194.7 833.053,1192.85 840.143,1190.75 847.232,1188.47 854.321,1185.38 861.41,1182.05 868.499,1178.31 875.588,1175.3 882.677,1171.41 889.767,1167.45 896.856,1164.14 903.945,1160.72 911.034,1157.15 918.123,1154.04 925.212,1150.71 932.302,1146.88 939.391,1143.41 946.48,1139.24 953.569,1135.14 960.658,1131.36 967.747,1126.84 974.836,1121.95 981.926,1117.27 989.015,1112.79 996.104,1108.7 1003.19,1104.78 1010.28,1101.64 1017.37,1098.25 1024.46,1095.15 1031.55,1091.55 1038.64,1087.87 1045.73,1084.28 1052.82,1080.16 1059.91,1075.65 1067,1071.38 1074.08,1067.69 1081.17,1064.1 1088.26,1061.76 1095.35,1060.13 1102.44,1058.2 1109.53,1056.16 1116.62,1053.84 1123.71,1051.57 1130.8,1049.3 1137.89,1047.18 1144.98,1045.22 1152.07,1042.92 1159.15,1041.45 1166.24,1039.68 1173.33,1037.08 1180.42,1034.33 1187.51,1031.46 1194.6,1028.82 1201.69,1026.51 1208.78,1024.21 1215.87,1021.74 1222.96,1019.25 1230.05,1017.06 1237.14,1014.65 1244.22,1012.15 1251.31,1009.33 1258.4,1006.49 1265.49,1003.94 1272.58,1002.18 1279.67,1000.81 1286.76,999.874 1293.85,998.689 1300.94,997.705 1308.03,996.485 1315.12,995.491 1322.21,994.552 1329.29,992.846 1336.38,990.862 1343.47,988.851 1350.56,987.081 1357.65,986.137 1364.74,985.248 1371.83,983.992 1378.92,982.956 1386.01,982.38 1393.1,981.339 1400.19,980.419 1407.28,979.93 1414.36,979.548 1421.45,978.963 1428.54,978.6 1435.63,978.133 1442.72,977.306 1449.81,977.133 1456.9,977.413 1463.99,977.953 1471.08,978.079 1478.17,978.28 1485.26,978.719 1492.34,979.092 1499.43,979.627 1506.52,980.111 1513.61,980.451 1520.7,981.344 1527.79,983.234 1534.88,985.034 1541.97,986.864 1549.06,988.379 1556.15,989.874 1563.24,991.138 1570.33,992.953 1577.41,994.799 1584.5,996.541 1591.59,998.379 1598.68,1000.16 1605.77,1001.97 1612.86,1003.72 1619.95,1005.08 1627.04,1006.24 1634.13,1007.8 1641.22,1009.97 1648.31,1011.96 1655.4,1013.48 1662.48,1014.63 1669.57,1015.62 1676.66,1016.22 1683.75,1016.84 1690.84,1017.53 1697.93,1018.75 1705.02,1019.89 1712.11,1021.21 1719.2,1022.72 1726.29,1024.49 1733.38,1025.96 1740.47,1027.44 1747.55,1028.83 1754.64,1029.72 1761.73,1030.14 1768.82,1030.46 1775.91,1030.92 1783,1031.27 1790.09,1031.49 1797.18,1031.75 1804.27,1032.09 1811.36,1032.63 1818.45,1033.56 1825.54,1034.82 1832.62,1036.16 1839.71,1037.85 1846.8,1039.3 1853.89,1040.63 1860.98,1041.72 1868.07,1042.97 1875.16,1043.94 1882.25,1044.85 1889.34,1045.77 1896.43,1046.69 1903.52,1047.67 1910.61,1048.48 1917.69,1049.17 1924.78,1049.7 1931.87,1050.36 1938.96,1051 1946.05,1051.86 1953.14,1052.72 1960.23,1053.37 1967.32,1053.98 1974.41,1054.45 1981.5,1054.92 1988.59,1055.6 1995.68,1056.37 2002.76,1057.24 2009.85,1058.04 2016.94,1058.89 2024.03,1059.95 2031.12,1060.85 2038.21,1061.82 2045.3,1062.82 2052.39,1063.63 2059.48,1064.27 2066.57,1064.87 2073.66,1065.48 2080.74,1066.07 2087.83,1066.54 2094.92,1066.96 2102.01,1067.3 2109.1,1067.57 2116.19,1067.83 2123.28,1068.15 2130.37,1068.39 2137.46,1068.66 2144.55,1068.9 2151.64,1069.21 2158.73,1069.56 2165.81,1069.85 2172.9,1070.21 2179.99,1070.59 2187.08,1070.99 2194.17,1071.4 2201.26,1071.78 2208.35,1072.16 2215.44,1072.48 2222.53,1072.84 2229.62,1073.2 2236.71,1073.58 2243.8,1073.96 2250.88,1074.29 2257.97,1074.6 2265.06,1074.87 2272.15,1075.14 2279.24,1075.36 2286.33,1075.57 2293.42,1075.76 \"/>\n",
       "<path clip-path=\"url(#clip880)\" d=\"M2002.85 529.676 L2282.87 529.676 L2282.87 166.796 L2002.85 166.796  Z\" fill=\"#ffffff\" fill-rule=\"evenodd\" fill-opacity=\"1\"/>\n",
       "<polyline clip-path=\"url(#clip880)\" style=\"stroke:#000000; stroke-linecap:round; stroke-linejoin:round; stroke-width:4; stroke-opacity:1; fill:none\" points=\"2002.85,529.676 2282.87,529.676 2282.87,166.796 2002.85,166.796 2002.85,529.676 \"/>\n",
       "<polyline clip-path=\"url(#clip880)\" style=\"stroke:#009af9; stroke-linecap:round; stroke-linejoin:round; stroke-width:4; stroke-opacity:1; fill:none\" points=\"2026.14,218.636 2165.91,218.636 \"/>\n",
       "<path clip-path=\"url(#clip880)\" d=\"M2213.23 221.888 L2213.23 223.971 L2193.65 223.971 Q2193.93 228.369 2196.29 230.684 Q2198.67 232.976 2202.91 232.976 Q2205.36 232.976 2207.66 232.374 Q2209.97 231.772 2212.24 230.569 L2212.24 234.596 Q2209.95 235.568 2207.54 236.078 Q2205.13 236.587 2202.66 236.587 Q2196.45 236.587 2192.82 232.976 Q2189.21 229.365 2189.21 223.207 Q2189.21 216.842 2192.63 213.115 Q2196.08 209.365 2201.91 209.365 Q2207.15 209.365 2210.18 212.745 Q2213.23 216.101 2213.23 221.888 M2208.97 220.638 Q2208.93 217.143 2207.01 215.059 Q2205.11 212.976 2201.96 212.976 Q2198.4 212.976 2196.24 214.99 Q2194.11 217.004 2193.79 220.661 L2208.97 220.638 Z\" fill=\"#000000\" fill-rule=\"evenodd\" fill-opacity=\"1\" /><path clip-path=\"url(#clip880)\" d=\"M2240.94 209.99 L2231.57 222.606 L2241.43 235.916 L2236.4 235.916 L2228.86 225.731 L2221.31 235.916 L2216.29 235.916 L2226.36 222.351 L2217.15 209.99 L2222.17 209.99 L2229.04 219.226 L2235.92 209.99 L2240.94 209.99 Z\" fill=\"#000000\" fill-rule=\"evenodd\" fill-opacity=\"1\" /><path clip-path=\"url(#clip880)\" d=\"M2246.59 233.369 L2251.31 233.369 L2251.31 219.226 L2246.15 220.175 L2246.15 217.49 L2251.47 216.587 L2254.65 216.587 L2254.65 233.369 L2259.39 233.369 L2259.39 235.916 L2246.59 235.916 L2246.59 233.369 Z\" fill=\"#000000\" fill-rule=\"evenodd\" fill-opacity=\"1\" /><polyline clip-path=\"url(#clip880)\" style=\"stroke:#e26f46; stroke-linecap:round; stroke-linejoin:round; stroke-width:4; stroke-opacity:1; fill:none\" points=\"2026.14,270.476 2165.91,270.476 \"/>\n",
       "<path clip-path=\"url(#clip880)\" d=\"M2213.23 273.728 L2213.23 275.811 L2193.65 275.811 Q2193.93 280.209 2196.29 282.524 Q2198.67 284.816 2202.91 284.816 Q2205.36 284.816 2207.66 284.214 Q2209.97 283.612 2212.24 282.409 L2212.24 286.436 Q2209.95 287.408 2207.54 287.918 Q2205.13 288.427 2202.66 288.427 Q2196.45 288.427 2192.82 284.816 Q2189.21 281.205 2189.21 275.047 Q2189.21 268.682 2192.63 264.955 Q2196.08 261.205 2201.91 261.205 Q2207.15 261.205 2210.18 264.585 Q2213.23 267.941 2213.23 273.728 M2208.97 272.478 Q2208.93 268.983 2207.01 266.899 Q2205.11 264.816 2201.96 264.816 Q2198.4 264.816 2196.24 266.83 Q2194.11 268.844 2193.79 272.501 L2208.97 272.478 Z\" fill=\"#000000\" fill-rule=\"evenodd\" fill-opacity=\"1\" /><path clip-path=\"url(#clip880)\" d=\"M2240.94 261.83 L2231.57 274.446 L2241.43 287.756 L2236.4 287.756 L2228.86 277.571 L2221.31 287.756 L2216.29 287.756 L2226.36 274.191 L2217.15 261.83 L2222.17 261.83 L2229.04 271.066 L2235.92 261.83 L2240.94 261.83 Z\" fill=\"#000000\" fill-rule=\"evenodd\" fill-opacity=\"1\" /><path clip-path=\"url(#clip880)\" d=\"M2249.18 285.117 L2259 285.117 L2259 287.756 L2245.15 287.756 L2245.15 285.209 Q2245.94 284.492 2247.4 283.196 Q2255.36 276.135 2255.36 273.959 Q2255.36 272.432 2254.16 271.506 Q2252.96 270.557 2250.99 270.557 Q2249.78 270.557 2248.37 270.973 Q2246.96 271.367 2245.29 272.177 L2245.29 269.33 Q2247.08 268.682 2248.6 268.358 Q2250.15 268.034 2251.47 268.034 Q2254.83 268.034 2256.84 269.561 Q2258.86 271.089 2258.86 273.589 Q2258.86 276.807 2251.2 283.381 Q2249.9 284.492 2249.18 285.117 Z\" fill=\"#000000\" fill-rule=\"evenodd\" fill-opacity=\"1\" /><polyline clip-path=\"url(#clip880)\" style=\"stroke:#3da44d; stroke-linecap:round; stroke-linejoin:round; stroke-width:4; stroke-opacity:1; fill:none\" points=\"2026.14,322.316 2165.91,322.316 \"/>\n",
       "<path clip-path=\"url(#clip880)\" d=\"M2213.23 325.568 L2213.23 327.651 L2193.65 327.651 Q2193.93 332.049 2196.29 334.364 Q2198.67 336.656 2202.91 336.656 Q2205.36 336.656 2207.66 336.054 Q2209.97 335.452 2212.24 334.249 L2212.24 338.276 Q2209.95 339.248 2207.54 339.758 Q2205.13 340.267 2202.66 340.267 Q2196.45 340.267 2192.82 336.656 Q2189.21 333.045 2189.21 326.887 Q2189.21 320.522 2192.63 316.795 Q2196.08 313.045 2201.91 313.045 Q2207.15 313.045 2210.18 316.425 Q2213.23 319.781 2213.23 325.568 M2208.97 324.318 Q2208.93 320.823 2207.01 318.739 Q2205.11 316.656 2201.96 316.656 Q2198.4 316.656 2196.24 318.67 Q2194.11 320.684 2193.79 324.341 L2208.97 324.318 Z\" fill=\"#000000\" fill-rule=\"evenodd\" fill-opacity=\"1\" /><path clip-path=\"url(#clip880)\" d=\"M2240.94 313.67 L2231.57 326.286 L2241.43 339.596 L2236.4 339.596 L2228.86 329.411 L2221.31 339.596 L2216.29 339.596 L2226.36 326.031 L2217.15 313.67 L2222.17 313.67 L2229.04 322.906 L2235.92 313.67 L2240.94 313.67 Z\" fill=\"#000000\" fill-rule=\"evenodd\" fill-opacity=\"1\" /><path clip-path=\"url(#clip880)\" d=\"M2255.11 329.133 Q2257.24 329.549 2258.4 330.823 Q2259.58 332.073 2259.58 333.971 Q2259.58 336.841 2257.38 338.392 Q2255.18 339.943 2251.08 339.943 Q2249.76 339.943 2248.3 339.688 Q2246.87 339.457 2245.25 338.994 L2245.25 336.193 Q2246.45 336.818 2247.82 337.119 Q2249.21 337.42 2250.76 337.42 Q2253.28 337.42 2254.67 336.517 Q2256.06 335.591 2256.06 333.971 Q2256.06 332.258 2254.76 331.378 Q2253.49 330.499 2250.99 330.499 L2249 330.499 L2249 327.999 L2251.17 327.999 Q2253.35 327.999 2254.46 327.281 Q2255.59 326.54 2255.59 325.151 Q2255.59 323.809 2254.44 323.114 Q2253.28 322.397 2251.08 322.397 Q2250.15 322.397 2248.97 322.605 Q2247.79 322.813 2245.92 323.346 L2245.92 320.684 Q2247.61 320.29 2249.09 320.082 Q2250.57 319.874 2251.84 319.874 Q2255.18 319.874 2257.12 321.239 Q2259.09 322.605 2259.09 324.897 Q2259.09 326.494 2258.05 327.605 Q2257.01 328.716 2255.11 329.133 Z\" fill=\"#000000\" fill-rule=\"evenodd\" fill-opacity=\"1\" /><polyline clip-path=\"url(#clip880)\" style=\"stroke:#c271d2; stroke-linecap:round; stroke-linejoin:round; stroke-width:4; stroke-opacity:1; fill:none\" stroke-dasharray=\"16, 10\" points=\"2026.14,374.156 2165.91,374.156 \"/>\n",
       "<path clip-path=\"url(#clip880)\" d=\"M2213.23 377.408 L2213.23 379.491 L2193.65 379.491 Q2193.93 383.889 2196.29 386.204 Q2198.67 388.496 2202.91 388.496 Q2205.36 388.496 2207.66 387.894 Q2209.97 387.292 2212.24 386.089 L2212.24 390.116 Q2209.95 391.088 2207.54 391.598 Q2205.13 392.107 2202.66 392.107 Q2196.45 392.107 2192.82 388.496 Q2189.21 384.885 2189.21 378.727 Q2189.21 372.362 2192.63 368.635 Q2196.08 364.885 2201.91 364.885 Q2207.15 364.885 2210.18 368.265 Q2213.23 371.621 2213.23 377.408 M2208.97 376.158 Q2208.93 372.663 2207.01 370.579 Q2205.11 368.496 2201.96 368.496 Q2198.4 368.496 2196.24 370.51 Q2194.11 372.524 2193.79 376.181 L2208.97 376.158 Z\" fill=\"#000000\" fill-rule=\"evenodd\" fill-opacity=\"1\" /><path clip-path=\"url(#clip880)\" d=\"M2240.94 365.51 L2231.57 378.126 L2241.43 391.436 L2236.4 391.436 L2228.86 381.251 L2221.31 391.436 L2216.29 391.436 L2226.36 377.871 L2217.15 365.51 L2222.17 365.51 L2229.04 374.746 L2235.92 365.51 L2240.94 365.51 Z\" fill=\"#000000\" fill-rule=\"evenodd\" fill-opacity=\"1\" /><path clip-path=\"url(#clip880)\" d=\"M2228.95 355.417 L2233.21 355.417 L2233.21 360.811 L2228.95 360.811 L2228.95 355.417 M2231.13 364.885 L2231.13 364.885 Z\" fill=\"#000000\" fill-rule=\"evenodd\" fill-opacity=\"1\" /><path clip-path=\"url(#clip880)\" d=\"M2246.59 388.889 L2251.31 388.889 L2251.31 374.746 L2246.15 375.695 L2246.15 373.01 L2251.47 372.107 L2254.65 372.107 L2254.65 388.889 L2259.39 388.889 L2259.39 391.436 L2246.59 391.436 L2246.59 388.889 Z\" fill=\"#000000\" fill-rule=\"evenodd\" fill-opacity=\"1\" /><polyline clip-path=\"url(#clip880)\" style=\"stroke:#ac8d18; stroke-linecap:round; stroke-linejoin:round; stroke-width:4; stroke-opacity:1; fill:none\" stroke-dasharray=\"16, 10\" points=\"2026.14,425.996 2165.91,425.996 \"/>\n",
       "<path clip-path=\"url(#clip880)\" d=\"M2213.23 429.248 L2213.23 431.331 L2193.65 431.331 Q2193.93 435.729 2196.29 438.044 Q2198.67 440.336 2202.91 440.336 Q2205.36 440.336 2207.66 439.734 Q2209.97 439.132 2212.24 437.929 L2212.24 441.956 Q2209.95 442.928 2207.54 443.438 Q2205.13 443.947 2202.66 443.947 Q2196.45 443.947 2192.82 440.336 Q2189.21 436.725 2189.21 430.567 Q2189.21 424.202 2192.63 420.475 Q2196.08 416.725 2201.91 416.725 Q2207.15 416.725 2210.18 420.105 Q2213.23 423.461 2213.23 429.248 M2208.97 427.998 Q2208.93 424.503 2207.01 422.419 Q2205.11 420.336 2201.96 420.336 Q2198.4 420.336 2196.24 422.35 Q2194.11 424.364 2193.79 428.021 L2208.97 427.998 Z\" fill=\"#000000\" fill-rule=\"evenodd\" fill-opacity=\"1\" /><path clip-path=\"url(#clip880)\" d=\"M2240.94 417.35 L2231.57 429.966 L2241.43 443.276 L2236.4 443.276 L2228.86 433.091 L2221.31 443.276 L2216.29 443.276 L2226.36 429.711 L2217.15 417.35 L2222.17 417.35 L2229.04 426.586 L2235.92 417.35 L2240.94 417.35 Z\" fill=\"#000000\" fill-rule=\"evenodd\" fill-opacity=\"1\" /><path clip-path=\"url(#clip880)\" d=\"M2228.95 407.257 L2233.21 407.257 L2233.21 412.651 L2228.95 412.651 L2228.95 407.257 M2231.13 416.725 L2231.13 416.725 Z\" fill=\"#000000\" fill-rule=\"evenodd\" fill-opacity=\"1\" /><path clip-path=\"url(#clip880)\" d=\"M2249.18 440.637 L2259 440.637 L2259 443.276 L2245.15 443.276 L2245.15 440.729 Q2245.94 440.012 2247.4 438.716 Q2255.36 431.655 2255.36 429.479 Q2255.36 427.952 2254.16 427.026 Q2252.96 426.077 2250.99 426.077 Q2249.78 426.077 2248.37 426.493 Q2246.96 426.887 2245.29 427.697 L2245.29 424.85 Q2247.08 424.202 2248.6 423.878 Q2250.15 423.554 2251.47 423.554 Q2254.83 423.554 2256.84 425.081 Q2258.86 426.609 2258.86 429.109 Q2258.86 432.327 2251.2 438.901 Q2249.9 440.012 2249.18 440.637 Z\" fill=\"#000000\" fill-rule=\"evenodd\" fill-opacity=\"1\" /><polyline clip-path=\"url(#clip880)\" style=\"stroke:#00a9ad; stroke-linecap:round; stroke-linejoin:round; stroke-width:4; stroke-opacity:1; fill:none\" stroke-dasharray=\"16, 10\" points=\"2026.14,477.836 2165.91,477.836 \"/>\n",
       "<path clip-path=\"url(#clip880)\" d=\"M2213.23 481.088 L2213.23 483.171 L2193.65 483.171 Q2193.93 487.569 2196.29 489.884 Q2198.67 492.176 2202.91 492.176 Q2205.36 492.176 2207.66 491.574 Q2209.97 490.972 2212.24 489.769 L2212.24 493.796 Q2209.95 494.768 2207.54 495.278 Q2205.13 495.787 2202.66 495.787 Q2196.45 495.787 2192.82 492.176 Q2189.21 488.565 2189.21 482.407 Q2189.21 476.042 2192.63 472.315 Q2196.08 468.565 2201.91 468.565 Q2207.15 468.565 2210.18 471.945 Q2213.23 475.301 2213.23 481.088 M2208.97 479.838 Q2208.93 476.343 2207.01 474.259 Q2205.11 472.176 2201.96 472.176 Q2198.4 472.176 2196.24 474.19 Q2194.11 476.204 2193.79 479.861 L2208.97 479.838 Z\" fill=\"#000000\" fill-rule=\"evenodd\" fill-opacity=\"1\" /><path clip-path=\"url(#clip880)\" d=\"M2240.94 469.19 L2231.57 481.806 L2241.43 495.116 L2236.4 495.116 L2228.86 484.931 L2221.31 495.116 L2216.29 495.116 L2226.36 481.551 L2217.15 469.19 L2222.17 469.19 L2229.04 478.426 L2235.92 469.19 L2240.94 469.19 Z\" fill=\"#000000\" fill-rule=\"evenodd\" fill-opacity=\"1\" /><path clip-path=\"url(#clip880)\" d=\"M2228.95 459.097 L2233.21 459.097 L2233.21 464.491 L2228.95 464.491 L2228.95 459.097 M2231.13 468.565 L2231.13 468.565 Z\" fill=\"#000000\" fill-rule=\"evenodd\" fill-opacity=\"1\" /><path clip-path=\"url(#clip880)\" d=\"M2255.11 484.653 Q2257.24 485.069 2258.4 486.343 Q2259.58 487.593 2259.58 489.491 Q2259.58 492.361 2257.38 493.912 Q2255.18 495.463 2251.08 495.463 Q2249.76 495.463 2248.3 495.208 Q2246.87 494.977 2245.25 494.514 L2245.25 491.713 Q2246.45 492.338 2247.82 492.639 Q2249.21 492.94 2250.76 492.94 Q2253.28 492.94 2254.67 492.037 Q2256.06 491.111 2256.06 489.491 Q2256.06 487.778 2254.76 486.898 Q2253.49 486.019 2250.99 486.019 L2249 486.019 L2249 483.519 L2251.17 483.519 Q2253.35 483.519 2254.46 482.801 Q2255.59 482.06 2255.59 480.671 Q2255.59 479.329 2254.44 478.634 Q2253.28 477.917 2251.08 477.917 Q2250.15 477.917 2248.97 478.125 Q2247.79 478.333 2245.92 478.866 L2245.92 476.204 Q2247.61 475.81 2249.09 475.602 Q2250.57 475.394 2251.84 475.394 Q2255.18 475.394 2257.12 476.759 Q2259.09 478.125 2259.09 480.417 Q2259.09 482.014 2258.05 483.125 Q2257.01 484.236 2255.11 484.653 Z\" fill=\"#000000\" fill-rule=\"evenodd\" fill-opacity=\"1\" /></svg>\n"
      ]
     },
     "metadata": {},
     "output_type": "display_data"
    },
    {
     "data": {
      "image/svg+xml": [
       "<?xml version=\"1.0\" encoding=\"utf-8\"?>\n",
       "<svg xmlns=\"http://www.w3.org/2000/svg\" xmlns:xlink=\"http://www.w3.org/1999/xlink\" width=\"600\" height=\"400\" viewBox=\"0 0 2400 1600\">\n",
       "<defs>\n",
       "  <clipPath id=\"clip920\">\n",
       "    <rect x=\"0\" y=\"0\" width=\"2400\" height=\"1600\"/>\n",
       "  </clipPath>\n",
       "</defs>\n",
       "<path clip-path=\"url(#clip920)\" d=\"M0 1600 L2400 1600 L2400 0 L0 0  Z\" fill=\"#ffffff\" fill-rule=\"evenodd\" fill-opacity=\"1\"/>\n",
       "<defs>\n",
       "  <clipPath id=\"clip921\">\n",
       "    <rect x=\"480\" y=\"0\" width=\"1681\" height=\"1600\"/>\n",
       "  </clipPath>\n",
       "</defs>\n",
       "<path clip-path=\"url(#clip920)\" d=\"M232.389 1423.18 L2352.76 1423.18 L2352.76 123.472 L232.389 123.472  Z\" fill=\"#ffffff\" fill-rule=\"evenodd\" fill-opacity=\"1\"/>\n",
       "<defs>\n",
       "  <clipPath id=\"clip922\">\n",
       "    <rect x=\"232\" y=\"123\" width=\"2121\" height=\"1301\"/>\n",
       "  </clipPath>\n",
       "</defs>\n",
       "<polyline clip-path=\"url(#clip922)\" style=\"stroke:#000000; stroke-linecap:round; stroke-linejoin:round; stroke-width:2; stroke-opacity:0.1; fill:none\" points=\"292.4,1423.18 292.4,123.472 \"/>\n",
       "<polyline clip-path=\"url(#clip922)\" style=\"stroke:#000000; stroke-linecap:round; stroke-linejoin:round; stroke-width:2; stroke-opacity:0.1; fill:none\" points=\"653.473,1423.18 653.473,123.472 \"/>\n",
       "<polyline clip-path=\"url(#clip922)\" style=\"stroke:#000000; stroke-linecap:round; stroke-linejoin:round; stroke-width:2; stroke-opacity:0.1; fill:none\" points=\"1014.55,1423.18 1014.55,123.472 \"/>\n",
       "<polyline clip-path=\"url(#clip922)\" style=\"stroke:#000000; stroke-linecap:round; stroke-linejoin:round; stroke-width:2; stroke-opacity:0.1; fill:none\" points=\"1375.62,1423.18 1375.62,123.472 \"/>\n",
       "<polyline clip-path=\"url(#clip922)\" style=\"stroke:#000000; stroke-linecap:round; stroke-linejoin:round; stroke-width:2; stroke-opacity:0.1; fill:none\" points=\"1736.69,1423.18 1736.69,123.472 \"/>\n",
       "<polyline clip-path=\"url(#clip922)\" style=\"stroke:#000000; stroke-linecap:round; stroke-linejoin:round; stroke-width:2; stroke-opacity:0.1; fill:none\" points=\"2097.77,1423.18 2097.77,123.472 \"/>\n",
       "<polyline clip-path=\"url(#clip920)\" style=\"stroke:#000000; stroke-linecap:round; stroke-linejoin:round; stroke-width:4; stroke-opacity:1; fill:none\" points=\"232.389,1423.18 2352.76,1423.18 \"/>\n",
       "<polyline clip-path=\"url(#clip920)\" style=\"stroke:#000000; stroke-linecap:round; stroke-linejoin:round; stroke-width:4; stroke-opacity:1; fill:none\" points=\"292.4,1423.18 292.4,1404.28 \"/>\n",
       "<polyline clip-path=\"url(#clip920)\" style=\"stroke:#000000; stroke-linecap:round; stroke-linejoin:round; stroke-width:4; stroke-opacity:1; fill:none\" points=\"653.473,1423.18 653.473,1404.28 \"/>\n",
       "<polyline clip-path=\"url(#clip920)\" style=\"stroke:#000000; stroke-linecap:round; stroke-linejoin:round; stroke-width:4; stroke-opacity:1; fill:none\" points=\"1014.55,1423.18 1014.55,1404.28 \"/>\n",
       "<polyline clip-path=\"url(#clip920)\" style=\"stroke:#000000; stroke-linecap:round; stroke-linejoin:round; stroke-width:4; stroke-opacity:1; fill:none\" points=\"1375.62,1423.18 1375.62,1404.28 \"/>\n",
       "<polyline clip-path=\"url(#clip920)\" style=\"stroke:#000000; stroke-linecap:round; stroke-linejoin:round; stroke-width:4; stroke-opacity:1; fill:none\" points=\"1736.69,1423.18 1736.69,1404.28 \"/>\n",
       "<polyline clip-path=\"url(#clip920)\" style=\"stroke:#000000; stroke-linecap:round; stroke-linejoin:round; stroke-width:4; stroke-opacity:1; fill:none\" points=\"2097.77,1423.18 2097.77,1404.28 \"/>\n",
       "<path clip-path=\"url(#clip920)\" d=\"M269.784 1454.1 Q266.173 1454.1 264.344 1457.66 Q262.539 1461.2 262.539 1468.33 Q262.539 1475.44 264.344 1479.01 Q266.173 1482.55 269.784 1482.55 Q273.418 1482.55 275.224 1479.01 Q277.053 1475.44 277.053 1468.33 Q277.053 1461.2 275.224 1457.66 Q273.418 1454.1 269.784 1454.1 M269.784 1450.39 Q275.594 1450.39 278.65 1455 Q281.728 1459.58 281.728 1468.33 Q281.728 1477.06 278.65 1481.67 Q275.594 1486.25 269.784 1486.25 Q263.974 1486.25 260.895 1481.67 Q257.84 1477.06 257.84 1468.33 Q257.84 1459.58 260.895 1455 Q263.974 1450.39 269.784 1450.39 Z\" fill=\"#000000\" fill-rule=\"evenodd\" fill-opacity=\"1\" /><path clip-path=\"url(#clip920)\" d=\"M289.946 1479.7 L294.83 1479.7 L294.83 1485.58 L289.946 1485.58 L289.946 1479.7 Z\" fill=\"#000000\" fill-rule=\"evenodd\" fill-opacity=\"1\" /><path clip-path=\"url(#clip920)\" d=\"M315.015 1454.1 Q311.404 1454.1 309.576 1457.66 Q307.77 1461.2 307.77 1468.33 Q307.77 1475.44 309.576 1479.01 Q311.404 1482.55 315.015 1482.55 Q318.65 1482.55 320.455 1479.01 Q322.284 1475.44 322.284 1468.33 Q322.284 1461.2 320.455 1457.66 Q318.65 1454.1 315.015 1454.1 M315.015 1450.39 Q320.825 1450.39 323.881 1455 Q326.96 1459.58 326.96 1468.33 Q326.96 1477.06 323.881 1481.67 Q320.825 1486.25 315.015 1486.25 Q309.205 1486.25 306.126 1481.67 Q303.071 1477.06 303.071 1468.33 Q303.071 1459.58 306.126 1455 Q309.205 1450.39 315.015 1450.39 Z\" fill=\"#000000\" fill-rule=\"evenodd\" fill-opacity=\"1\" /><path clip-path=\"url(#clip920)\" d=\"M625.209 1481.64 L641.529 1481.64 L641.529 1485.58 L619.584 1485.58 L619.584 1481.64 Q622.246 1478.89 626.83 1474.26 Q631.436 1469.61 632.617 1468.27 Q634.862 1465.74 635.742 1464.01 Q636.644 1462.25 636.644 1460.56 Q636.644 1457.8 634.7 1456.07 Q632.779 1454.33 629.677 1454.33 Q627.478 1454.33 625.024 1455.09 Q622.594 1455.86 619.816 1457.41 L619.816 1452.69 Q622.64 1451.55 625.093 1450.97 Q627.547 1450.39 629.584 1450.39 Q634.955 1450.39 638.149 1453.08 Q641.343 1455.77 641.343 1460.26 Q641.343 1462.39 640.533 1464.31 Q639.746 1466.2 637.64 1468.8 Q637.061 1469.47 633.959 1472.69 Q630.857 1475.88 625.209 1481.64 Z\" fill=\"#000000\" fill-rule=\"evenodd\" fill-opacity=\"1\" /><path clip-path=\"url(#clip920)\" d=\"M651.343 1479.7 L656.228 1479.7 L656.228 1485.58 L651.343 1485.58 L651.343 1479.7 Z\" fill=\"#000000\" fill-rule=\"evenodd\" fill-opacity=\"1\" /><path clip-path=\"url(#clip920)\" d=\"M666.459 1451.02 L684.815 1451.02 L684.815 1454.96 L670.741 1454.96 L670.741 1463.43 Q671.76 1463.08 672.778 1462.92 Q673.797 1462.73 674.815 1462.73 Q680.602 1462.73 683.982 1465.9 Q687.362 1469.08 687.362 1474.49 Q687.362 1480.07 683.889 1483.17 Q680.417 1486.25 674.098 1486.25 Q671.922 1486.25 669.653 1485.88 Q667.408 1485.51 665.001 1484.77 L665.001 1480.07 Q667.084 1481.2 669.306 1481.76 Q671.528 1482.32 674.005 1482.32 Q678.01 1482.32 680.348 1480.21 Q682.686 1478.1 682.686 1474.49 Q682.686 1470.88 680.348 1468.77 Q678.01 1466.67 674.005 1466.67 Q672.13 1466.67 670.255 1467.08 Q668.403 1467.5 666.459 1468.38 L666.459 1451.02 Z\" fill=\"#000000\" fill-rule=\"evenodd\" fill-opacity=\"1\" /><path clip-path=\"url(#clip920)\" d=\"M981.711 1451.02 L1000.07 1451.02 L1000.07 1454.96 L985.993 1454.96 L985.993 1463.43 Q987.012 1463.08 988.03 1462.92 Q989.049 1462.73 990.067 1462.73 Q995.854 1462.73 999.234 1465.9 Q1002.61 1469.08 1002.61 1474.49 Q1002.61 1480.07 999.141 1483.17 Q995.669 1486.25 989.35 1486.25 Q987.174 1486.25 984.905 1485.88 Q982.66 1485.51 980.252 1484.77 L980.252 1480.07 Q982.336 1481.2 984.558 1481.76 Q986.78 1482.32 989.257 1482.32 Q993.262 1482.32 995.6 1480.21 Q997.938 1478.1 997.938 1474.49 Q997.938 1470.88 995.6 1468.77 Q993.262 1466.67 989.257 1466.67 Q987.382 1466.67 985.507 1467.08 Q983.655 1467.5 981.711 1468.38 L981.711 1451.02 Z\" fill=\"#000000\" fill-rule=\"evenodd\" fill-opacity=\"1\" /><path clip-path=\"url(#clip920)\" d=\"M1011.83 1479.7 L1016.71 1479.7 L1016.71 1485.58 L1011.83 1485.58 L1011.83 1479.7 Z\" fill=\"#000000\" fill-rule=\"evenodd\" fill-opacity=\"1\" /><path clip-path=\"url(#clip920)\" d=\"M1036.9 1454.1 Q1033.28 1454.1 1031.46 1457.66 Q1029.65 1461.2 1029.65 1468.33 Q1029.65 1475.44 1031.46 1479.01 Q1033.28 1482.55 1036.9 1482.55 Q1040.53 1482.55 1042.34 1479.01 Q1044.16 1475.44 1044.16 1468.33 Q1044.16 1461.2 1042.34 1457.66 Q1040.53 1454.1 1036.9 1454.1 M1036.9 1450.39 Q1042.71 1450.39 1045.76 1455 Q1048.84 1459.58 1048.84 1468.33 Q1048.84 1477.06 1045.76 1481.67 Q1042.71 1486.25 1036.9 1486.25 Q1031.09 1486.25 1028.01 1481.67 Q1024.95 1477.06 1024.95 1468.33 Q1024.95 1459.58 1028.01 1455 Q1031.09 1450.39 1036.9 1450.39 Z\" fill=\"#000000\" fill-rule=\"evenodd\" fill-opacity=\"1\" /><path clip-path=\"url(#clip920)\" d=\"M1341.94 1451.02 L1364.16 1451.02 L1364.16 1453.01 L1351.61 1485.58 L1346.73 1485.58 L1358.54 1454.96 L1341.94 1454.96 L1341.94 1451.02 Z\" fill=\"#000000\" fill-rule=\"evenodd\" fill-opacity=\"1\" /><path clip-path=\"url(#clip920)\" d=\"M1373.28 1479.7 L1378.17 1479.7 L1378.17 1485.58 L1373.28 1485.58 L1373.28 1479.7 Z\" fill=\"#000000\" fill-rule=\"evenodd\" fill-opacity=\"1\" /><path clip-path=\"url(#clip920)\" d=\"M1388.4 1451.02 L1406.75 1451.02 L1406.75 1454.96 L1392.68 1454.96 L1392.68 1463.43 Q1393.7 1463.08 1394.72 1462.92 Q1395.74 1462.73 1396.75 1462.73 Q1402.54 1462.73 1405.92 1465.9 Q1409.3 1469.08 1409.3 1474.49 Q1409.3 1480.07 1405.83 1483.17 Q1402.36 1486.25 1396.04 1486.25 Q1393.86 1486.25 1391.59 1485.88 Q1389.35 1485.51 1386.94 1484.77 L1386.94 1480.07 Q1389.02 1481.2 1391.24 1481.76 Q1393.47 1482.32 1395.94 1482.32 Q1399.95 1482.32 1402.29 1480.21 Q1404.62 1478.1 1404.62 1474.49 Q1404.62 1470.88 1402.29 1468.77 Q1399.95 1466.67 1395.94 1466.67 Q1394.07 1466.67 1392.19 1467.08 Q1390.34 1467.5 1388.4 1468.38 L1388.4 1451.02 Z\" fill=\"#000000\" fill-rule=\"evenodd\" fill-opacity=\"1\" /><path clip-path=\"url(#clip920)\" d=\"M1688.76 1481.64 L1696.4 1481.64 L1696.4 1455.28 L1688.09 1456.95 L1688.09 1452.69 L1696.36 1451.02 L1701.03 1451.02 L1701.03 1481.64 L1708.67 1481.64 L1708.67 1485.58 L1688.76 1485.58 L1688.76 1481.64 Z\" fill=\"#000000\" fill-rule=\"evenodd\" fill-opacity=\"1\" /><path clip-path=\"url(#clip920)\" d=\"M1728.12 1454.1 Q1724.51 1454.1 1722.68 1457.66 Q1720.87 1461.2 1720.87 1468.33 Q1720.87 1475.44 1722.68 1479.01 Q1724.51 1482.55 1728.12 1482.55 Q1731.75 1482.55 1733.56 1479.01 Q1735.38 1475.44 1735.38 1468.33 Q1735.38 1461.2 1733.56 1457.66 Q1731.75 1454.1 1728.12 1454.1 M1728.12 1450.39 Q1733.93 1450.39 1736.98 1455 Q1740.06 1459.58 1740.06 1468.33 Q1740.06 1477.06 1736.98 1481.67 Q1733.93 1486.25 1728.12 1486.25 Q1722.31 1486.25 1719.23 1481.67 Q1716.17 1477.06 1716.17 1468.33 Q1716.17 1459.58 1719.23 1455 Q1722.31 1450.39 1728.12 1450.39 Z\" fill=\"#000000\" fill-rule=\"evenodd\" fill-opacity=\"1\" /><path clip-path=\"url(#clip920)\" d=\"M1748.28 1479.7 L1753.16 1479.7 L1753.16 1485.58 L1748.28 1485.58 L1748.28 1479.7 Z\" fill=\"#000000\" fill-rule=\"evenodd\" fill-opacity=\"1\" /><path clip-path=\"url(#clip920)\" d=\"M1773.35 1454.1 Q1769.74 1454.1 1767.91 1457.66 Q1766.1 1461.2 1766.1 1468.33 Q1766.1 1475.44 1767.91 1479.01 Q1769.74 1482.55 1773.35 1482.55 Q1776.98 1482.55 1778.79 1479.01 Q1780.62 1475.44 1780.62 1468.33 Q1780.62 1461.2 1778.79 1457.66 Q1776.98 1454.1 1773.35 1454.1 M1773.35 1450.39 Q1779.16 1450.39 1782.21 1455 Q1785.29 1459.58 1785.29 1468.33 Q1785.29 1477.06 1782.21 1481.67 Q1779.16 1486.25 1773.35 1486.25 Q1767.54 1486.25 1764.46 1481.67 Q1761.4 1477.06 1761.4 1468.33 Q1761.4 1459.58 1764.46 1455 Q1767.54 1450.39 1773.35 1450.39 Z\" fill=\"#000000\" fill-rule=\"evenodd\" fill-opacity=\"1\" /><path clip-path=\"url(#clip920)\" d=\"M2050.34 1481.64 L2057.97 1481.64 L2057.97 1455.28 L2049.66 1456.95 L2049.66 1452.69 L2057.93 1451.02 L2062.6 1451.02 L2062.6 1481.64 L2070.24 1481.64 L2070.24 1485.58 L2050.34 1485.58 L2050.34 1481.64 Z\" fill=\"#000000\" fill-rule=\"evenodd\" fill-opacity=\"1\" /><path clip-path=\"url(#clip920)\" d=\"M2083.72 1481.64 L2100.03 1481.64 L2100.03 1485.58 L2078.09 1485.58 L2078.09 1481.64 Q2080.75 1478.89 2085.34 1474.26 Q2089.94 1469.61 2091.12 1468.27 Q2093.37 1465.74 2094.25 1464.01 Q2095.15 1462.25 2095.15 1460.56 Q2095.15 1457.8 2093.21 1456.07 Q2091.28 1454.33 2088.18 1454.33 Q2085.98 1454.33 2083.53 1455.09 Q2081.1 1455.86 2078.32 1457.41 L2078.32 1452.69 Q2081.15 1451.55 2083.6 1450.97 Q2086.05 1450.39 2088.09 1450.39 Q2093.46 1450.39 2096.65 1453.08 Q2099.85 1455.77 2099.85 1460.26 Q2099.85 1462.39 2099.04 1464.31 Q2098.25 1466.2 2096.15 1468.8 Q2095.57 1469.47 2092.47 1472.69 Q2089.36 1475.88 2083.72 1481.64 Z\" fill=\"#000000\" fill-rule=\"evenodd\" fill-opacity=\"1\" /><path clip-path=\"url(#clip920)\" d=\"M2109.85 1479.7 L2114.73 1479.7 L2114.73 1485.58 L2109.85 1485.58 L2109.85 1479.7 Z\" fill=\"#000000\" fill-rule=\"evenodd\" fill-opacity=\"1\" /><path clip-path=\"url(#clip920)\" d=\"M2124.96 1451.02 L2143.32 1451.02 L2143.32 1454.96 L2129.25 1454.96 L2129.25 1463.43 Q2130.27 1463.08 2131.28 1462.92 Q2132.3 1462.73 2133.32 1462.73 Q2139.11 1462.73 2142.49 1465.9 Q2145.87 1469.08 2145.87 1474.49 Q2145.87 1480.07 2142.4 1483.17 Q2138.92 1486.25 2132.6 1486.25 Q2130.43 1486.25 2128.16 1485.88 Q2125.91 1485.51 2123.51 1484.77 L2123.51 1480.07 Q2125.59 1481.2 2127.81 1481.76 Q2130.03 1482.32 2132.51 1482.32 Q2136.52 1482.32 2138.85 1480.21 Q2141.19 1478.1 2141.19 1474.49 Q2141.19 1470.88 2138.85 1468.77 Q2136.52 1466.67 2132.51 1466.67 Q2130.64 1466.67 2128.76 1467.08 Q2126.91 1467.5 2124.96 1468.38 L2124.96 1451.02 Z\" fill=\"#000000\" fill-rule=\"evenodd\" fill-opacity=\"1\" /><path clip-path=\"url(#clip920)\" d=\"M1180.03 1522.27 L1180.03 1532.4 L1192.09 1532.4 L1192.09 1536.95 L1180.03 1536.95 L1180.03 1556.3 Q1180.03 1560.66 1181.2 1561.9 Q1182.41 1563.14 1186.07 1563.14 L1192.09 1563.14 L1192.09 1568.04 L1186.07 1568.04 Q1179.29 1568.04 1176.72 1565.53 Q1174.14 1562.98 1174.14 1556.3 L1174.14 1536.95 L1169.84 1536.95 L1169.84 1532.4 L1174.14 1532.4 L1174.14 1522.27 L1180.03 1522.27 Z\" fill=\"#000000\" fill-rule=\"evenodd\" fill-opacity=\"1\" /><path clip-path=\"url(#clip920)\" d=\"M1199.79 1532.4 L1205.65 1532.4 L1205.65 1568.04 L1199.79 1568.04 L1199.79 1532.4 M1199.79 1518.52 L1205.65 1518.52 L1205.65 1525.93 L1199.79 1525.93 L1199.79 1518.52 Z\" fill=\"#000000\" fill-rule=\"evenodd\" fill-opacity=\"1\" /><path clip-path=\"url(#clip920)\" d=\"M1245.66 1539.24 Q1247.85 1535.29 1250.91 1533.41 Q1253.96 1531.54 1258.1 1531.54 Q1263.67 1531.54 1266.7 1535.45 Q1269.72 1539.33 1269.72 1546.53 L1269.72 1568.04 L1263.83 1568.04 L1263.83 1546.72 Q1263.83 1541.59 1262.02 1539.11 Q1260.2 1536.63 1256.48 1536.63 Q1251.93 1536.63 1249.29 1539.65 Q1246.64 1542.68 1246.64 1547.9 L1246.64 1568.04 L1240.76 1568.04 L1240.76 1546.72 Q1240.76 1541.56 1238.94 1539.11 Q1237.13 1536.63 1233.34 1536.63 Q1228.85 1536.63 1226.21 1539.68 Q1223.57 1542.71 1223.57 1547.9 L1223.57 1568.04 L1217.68 1568.04 L1217.68 1532.4 L1223.57 1532.4 L1223.57 1537.93 Q1225.57 1534.66 1228.37 1533.1 Q1231.18 1531.54 1235.03 1531.54 Q1238.91 1531.54 1241.62 1533.51 Q1244.35 1535.48 1245.66 1539.24 Z\" fill=\"#000000\" fill-rule=\"evenodd\" fill-opacity=\"1\" /><path clip-path=\"url(#clip920)\" d=\"M1311.89 1548.76 L1311.89 1551.62 L1284.97 1551.62 Q1285.35 1557.67 1288.59 1560.85 Q1291.87 1564 1297.7 1564 Q1301.07 1564 1304.22 1563.17 Q1307.4 1562.35 1310.52 1560.69 L1310.52 1566.23 Q1307.37 1567.57 1304.06 1568.27 Q1300.75 1568.97 1297.35 1568.97 Q1288.82 1568.97 1283.82 1564 Q1278.85 1559.04 1278.85 1550.57 Q1278.85 1541.82 1283.57 1536.69 Q1288.31 1531.54 1296.33 1531.54 Q1303.52 1531.54 1307.69 1536.18 Q1311.89 1540.8 1311.89 1548.76 M1306.04 1547.04 Q1305.97 1542.23 1303.33 1539.37 Q1300.72 1536.5 1296.39 1536.5 Q1291.49 1536.5 1288.53 1539.27 Q1285.6 1542.04 1285.16 1547.07 L1306.04 1547.04 Z\" fill=\"#000000\" fill-rule=\"evenodd\" fill-opacity=\"1\" /><path clip-path=\"url(#clip920)\" d=\"M1356.29 1518.58 Q1352.03 1525.9 1349.96 1533.06 Q1347.89 1540.23 1347.89 1547.58 Q1347.89 1554.93 1349.96 1562.16 Q1352.06 1569.35 1356.29 1576.64 L1351.2 1576.64 Q1346.43 1569.16 1344.04 1561.93 Q1341.68 1554.71 1341.68 1547.58 Q1341.68 1540.48 1344.04 1533.29 Q1346.39 1526.09 1351.2 1518.58 L1356.29 1518.58 Z\" fill=\"#000000\" fill-rule=\"evenodd\" fill-opacity=\"1\" /><path clip-path=\"url(#clip920)\" d=\"M1390.38 1533.45 L1390.38 1538.98 Q1387.9 1537.71 1385.23 1537.07 Q1382.55 1536.44 1379.69 1536.44 Q1375.33 1536.44 1373.13 1537.77 Q1370.97 1539.11 1370.97 1541.79 Q1370.97 1543.82 1372.53 1545 Q1374.09 1546.15 1378.8 1547.2 L1380.8 1547.64 Q1387.04 1548.98 1389.65 1551.43 Q1392.29 1553.85 1392.29 1558.21 Q1392.29 1563.17 1388.34 1566.07 Q1384.43 1568.97 1377.55 1568.97 Q1374.69 1568.97 1371.57 1568.39 Q1368.48 1567.85 1365.05 1566.74 L1365.05 1560.69 Q1368.29 1562.38 1371.44 1563.24 Q1374.59 1564.07 1377.68 1564.07 Q1381.82 1564.07 1384.05 1562.66 Q1386.28 1561.23 1386.28 1558.65 Q1386.28 1556.27 1384.65 1554.99 Q1383.06 1553.72 1377.62 1552.54 L1375.58 1552.07 Q1370.14 1550.92 1367.72 1548.56 Q1365.3 1546.18 1365.3 1542.04 Q1365.3 1537.01 1368.87 1534.27 Q1372.43 1531.54 1378.99 1531.54 Q1382.23 1531.54 1385.1 1532.01 Q1387.96 1532.49 1390.38 1533.45 Z\" fill=\"#000000\" fill-rule=\"evenodd\" fill-opacity=\"1\" /><path clip-path=\"url(#clip920)\" d=\"M1400.69 1518.58 L1405.79 1518.58 Q1410.56 1526.09 1412.92 1533.29 Q1415.3 1540.48 1415.3 1547.58 Q1415.3 1554.71 1412.92 1561.93 Q1410.56 1569.16 1405.79 1576.64 L1400.69 1576.64 Q1404.93 1569.35 1407 1562.16 Q1409.1 1554.93 1409.1 1547.58 Q1409.1 1540.23 1407 1533.06 Q1404.93 1525.9 1400.69 1518.58 Z\" fill=\"#000000\" fill-rule=\"evenodd\" fill-opacity=\"1\" /><polyline clip-path=\"url(#clip922)\" style=\"stroke:#000000; stroke-linecap:round; stroke-linejoin:round; stroke-width:2; stroke-opacity:0.1; fill:none\" points=\"232.389,1320.16 2352.76,1320.16 \"/>\n",
       "<polyline clip-path=\"url(#clip922)\" style=\"stroke:#000000; stroke-linecap:round; stroke-linejoin:round; stroke-width:2; stroke-opacity:0.1; fill:none\" points=\"232.389,1056.05 2352.76,1056.05 \"/>\n",
       "<polyline clip-path=\"url(#clip922)\" style=\"stroke:#000000; stroke-linecap:round; stroke-linejoin:round; stroke-width:2; stroke-opacity:0.1; fill:none\" points=\"232.389,791.933 2352.76,791.933 \"/>\n",
       "<polyline clip-path=\"url(#clip922)\" style=\"stroke:#000000; stroke-linecap:round; stroke-linejoin:round; stroke-width:2; stroke-opacity:0.1; fill:none\" points=\"232.389,527.822 2352.76,527.822 \"/>\n",
       "<polyline clip-path=\"url(#clip922)\" style=\"stroke:#000000; stroke-linecap:round; stroke-linejoin:round; stroke-width:2; stroke-opacity:0.1; fill:none\" points=\"232.389,263.71 2352.76,263.71 \"/>\n",
       "<polyline clip-path=\"url(#clip920)\" style=\"stroke:#000000; stroke-linecap:round; stroke-linejoin:round; stroke-width:4; stroke-opacity:1; fill:none\" points=\"232.389,1423.18 232.389,123.472 \"/>\n",
       "<polyline clip-path=\"url(#clip920)\" style=\"stroke:#000000; stroke-linecap:round; stroke-linejoin:round; stroke-width:4; stroke-opacity:1; fill:none\" points=\"232.389,1320.16 251.287,1320.16 \"/>\n",
       "<polyline clip-path=\"url(#clip920)\" style=\"stroke:#000000; stroke-linecap:round; stroke-linejoin:round; stroke-width:4; stroke-opacity:1; fill:none\" points=\"232.389,1056.05 251.287,1056.05 \"/>\n",
       "<polyline clip-path=\"url(#clip920)\" style=\"stroke:#000000; stroke-linecap:round; stroke-linejoin:round; stroke-width:4; stroke-opacity:1; fill:none\" points=\"232.389,791.933 251.287,791.933 \"/>\n",
       "<polyline clip-path=\"url(#clip920)\" style=\"stroke:#000000; stroke-linecap:round; stroke-linejoin:round; stroke-width:4; stroke-opacity:1; fill:none\" points=\"232.389,527.822 251.287,527.822 \"/>\n",
       "<polyline clip-path=\"url(#clip920)\" style=\"stroke:#000000; stroke-linecap:round; stroke-linejoin:round; stroke-width:4; stroke-opacity:1; fill:none\" points=\"232.389,263.71 251.287,263.71 \"/>\n",
       "<path clip-path=\"url(#clip920)\" d=\"M184.445 1305.96 Q180.834 1305.96 179.005 1309.52 Q177.2 1313.06 177.2 1320.19 Q177.2 1327.3 179.005 1330.86 Q180.834 1334.4 184.445 1334.4 Q188.079 1334.4 189.885 1330.86 Q191.713 1327.3 191.713 1320.19 Q191.713 1313.06 189.885 1309.52 Q188.079 1305.96 184.445 1305.96 M184.445 1302.25 Q190.255 1302.25 193.311 1306.86 Q196.389 1311.44 196.389 1320.19 Q196.389 1328.92 193.311 1333.52 Q190.255 1338.11 184.445 1338.11 Q178.635 1338.11 175.556 1333.52 Q172.501 1328.92 172.501 1320.19 Q172.501 1311.44 175.556 1306.86 Q178.635 1302.25 184.445 1302.25 Z\" fill=\"#000000\" fill-rule=\"evenodd\" fill-opacity=\"1\" /><path clip-path=\"url(#clip920)\" d=\"M149.306 1069.39 L165.626 1069.39 L165.626 1073.33 L143.681 1073.33 L143.681 1069.39 Q146.343 1066.64 150.927 1062.01 Q155.533 1057.35 156.714 1056.01 Q158.959 1053.49 159.839 1051.75 Q160.741 1049.99 160.741 1048.3 Q160.741 1045.55 158.797 1043.81 Q156.876 1042.08 153.774 1042.08 Q151.575 1042.08 149.121 1042.84 Q146.691 1043.6 143.913 1045.15 L143.913 1040.43 Q146.737 1039.3 149.191 1038.72 Q151.644 1038.14 153.681 1038.14 Q159.052 1038.14 162.246 1040.83 Q165.44 1043.51 165.44 1048 Q165.44 1050.13 164.63 1052.05 Q163.843 1053.95 161.737 1056.54 Q161.158 1057.21 158.056 1060.43 Q154.954 1063.63 149.306 1069.39 Z\" fill=\"#000000\" fill-rule=\"evenodd\" fill-opacity=\"1\" /><path clip-path=\"url(#clip920)\" d=\"M175.487 1038.77 L193.843 1038.77 L193.843 1042.7 L179.769 1042.7 L179.769 1051.17 Q180.788 1050.83 181.806 1050.66 Q182.825 1050.48 183.843 1050.48 Q189.63 1050.48 193.01 1053.65 Q196.389 1056.82 196.389 1062.24 Q196.389 1067.82 192.917 1070.92 Q189.445 1074 183.126 1074 Q180.95 1074 178.681 1073.63 Q176.436 1073.26 174.028 1072.51 L174.028 1067.82 Q176.112 1068.95 178.334 1069.51 Q180.556 1070.06 183.033 1070.06 Q187.038 1070.06 189.375 1067.95 Q191.713 1065.85 191.713 1062.24 Q191.713 1058.63 189.375 1056.52 Q187.038 1054.41 183.033 1054.41 Q181.158 1054.41 179.283 1054.83 Q177.431 1055.25 175.487 1056.13 L175.487 1038.77 Z\" fill=\"#000000\" fill-rule=\"evenodd\" fill-opacity=\"1\" /><path clip-path=\"url(#clip920)\" d=\"M144.329 774.653 L162.686 774.653 L162.686 778.589 L148.612 778.589 L148.612 787.061 Q149.63 786.714 150.649 786.551 Q151.667 786.366 152.686 786.366 Q158.473 786.366 161.852 789.538 Q165.232 792.709 165.232 798.125 Q165.232 803.704 161.76 806.806 Q158.288 809.885 151.968 809.885 Q149.792 809.885 147.524 809.514 Q145.279 809.144 142.871 808.403 L142.871 803.704 Q144.954 804.838 147.177 805.394 Q149.399 805.95 151.876 805.95 Q155.88 805.95 158.218 803.843 Q160.556 801.737 160.556 798.125 Q160.556 794.514 158.218 792.408 Q155.88 790.301 151.876 790.301 Q150.001 790.301 148.126 790.718 Q146.274 791.135 144.329 792.014 L144.329 774.653 Z\" fill=\"#000000\" fill-rule=\"evenodd\" fill-opacity=\"1\" /><path clip-path=\"url(#clip920)\" d=\"M184.445 777.732 Q180.834 777.732 179.005 781.297 Q177.2 784.839 177.2 791.968 Q177.2 799.075 179.005 802.639 Q180.834 806.181 184.445 806.181 Q188.079 806.181 189.885 802.639 Q191.713 799.075 191.713 791.968 Q191.713 784.839 189.885 781.297 Q188.079 777.732 184.445 777.732 M184.445 774.028 Q190.255 774.028 193.311 778.635 Q196.389 783.218 196.389 791.968 Q196.389 800.695 193.311 805.301 Q190.255 809.885 184.445 809.885 Q178.635 809.885 175.556 805.301 Q172.501 800.695 172.501 791.968 Q172.501 783.218 175.556 778.635 Q178.635 774.028 184.445 774.028 Z\" fill=\"#000000\" fill-rule=\"evenodd\" fill-opacity=\"1\" /><path clip-path=\"url(#clip920)\" d=\"M144.098 510.542 L166.32 510.542 L166.32 512.532 L153.774 545.102 L148.89 545.102 L160.695 514.477 L144.098 514.477 L144.098 510.542 Z\" fill=\"#000000\" fill-rule=\"evenodd\" fill-opacity=\"1\" /><path clip-path=\"url(#clip920)\" d=\"M175.487 510.542 L193.843 510.542 L193.843 514.477 L179.769 514.477 L179.769 522.949 Q180.788 522.602 181.806 522.44 Q182.825 522.255 183.843 522.255 Q189.63 522.255 193.01 525.426 Q196.389 528.597 196.389 534.014 Q196.389 539.592 192.917 542.694 Q189.445 545.773 183.126 545.773 Q180.95 545.773 178.681 545.403 Q176.436 545.032 174.028 544.292 L174.028 539.592 Q176.112 540.727 178.334 541.282 Q180.556 541.838 183.033 541.838 Q187.038 541.838 189.375 539.731 Q191.713 537.625 191.713 534.014 Q191.713 530.403 189.375 528.296 Q187.038 526.19 183.033 526.19 Q181.158 526.19 179.283 526.606 Q177.431 527.023 175.487 527.903 L175.487 510.542 Z\" fill=\"#000000\" fill-rule=\"evenodd\" fill-opacity=\"1\" /><path clip-path=\"url(#clip920)\" d=\"M114.931 277.055 L122.57 277.055 L122.57 250.689 L114.26 252.356 L114.26 248.097 L122.524 246.43 L127.2 246.43 L127.2 277.055 L134.839 277.055 L134.839 280.99 L114.931 280.99 L114.931 277.055 Z\" fill=\"#000000\" fill-rule=\"evenodd\" fill-opacity=\"1\" /><path clip-path=\"url(#clip920)\" d=\"M154.283 249.509 Q150.672 249.509 148.843 253.074 Q147.038 256.615 147.038 263.745 Q147.038 270.851 148.843 274.416 Q150.672 277.958 154.283 277.958 Q157.917 277.958 159.723 274.416 Q161.552 270.851 161.552 263.745 Q161.552 256.615 159.723 253.074 Q157.917 249.509 154.283 249.509 M154.283 245.805 Q160.093 245.805 163.149 250.412 Q166.227 254.995 166.227 263.745 Q166.227 272.472 163.149 277.078 Q160.093 281.661 154.283 281.661 Q148.473 281.661 145.394 277.078 Q142.339 272.472 142.339 263.745 Q142.339 254.995 145.394 250.412 Q148.473 245.805 154.283 245.805 Z\" fill=\"#000000\" fill-rule=\"evenodd\" fill-opacity=\"1\" /><path clip-path=\"url(#clip920)\" d=\"M184.445 249.509 Q180.834 249.509 179.005 253.074 Q177.2 256.615 177.2 263.745 Q177.2 270.851 179.005 274.416 Q180.834 277.958 184.445 277.958 Q188.079 277.958 189.885 274.416 Q191.713 270.851 191.713 263.745 Q191.713 256.615 189.885 253.074 Q188.079 249.509 184.445 249.509 M184.445 245.805 Q190.255 245.805 193.311 250.412 Q196.389 254.995 196.389 263.745 Q196.389 272.472 193.311 277.078 Q190.255 281.661 184.445 281.661 Q178.635 281.661 175.556 277.078 Q172.501 272.472 172.501 263.745 Q172.501 254.995 175.556 250.412 Q178.635 245.805 184.445 245.805 Z\" fill=\"#000000\" fill-rule=\"evenodd\" fill-opacity=\"1\" /><path clip-path=\"url(#clip920)\" d=\"M49.9359 788.254 L28.3562 788.254 L28.3562 782.397 L49.7131 782.397 Q54.7739 782.397 57.3202 780.424 Q59.8346 778.45 59.8346 774.504 Q59.8346 769.761 56.8109 767.024 Q53.7872 764.255 48.5673 764.255 L28.3562 764.255 L28.3562 758.398 L64.0042 758.398 L64.0042 764.255 L58.5296 764.255 Q61.7762 766.387 63.3676 769.22 Q64.9272 772.021 64.9272 775.745 Q64.9272 781.888 61.1078 785.071 Q57.2883 788.254 49.9359 788.254 M27.4968 773.517 L27.4968 773.517 Z\" fill=\"#000000\" fill-rule=\"evenodd\" fill-opacity=\"1\" /><path clip-path=\"url(#clip920)\" d=\"M1029.71 12.096 L1037.89 12.096 L1037.89 72.576 L1029.71 72.576 L1029.71 12.096 Z\" fill=\"#000000\" fill-rule=\"evenodd\" fill-opacity=\"1\" /><path clip-path=\"url(#clip920)\" d=\"M1091.57 45.1919 L1091.57 72.576 L1084.11 72.576 L1084.11 45.4349 Q1084.11 38.994 1081.6 35.7938 Q1079.09 32.5936 1074.07 32.5936 Q1068.03 32.5936 1064.55 36.4419 Q1061.06 40.2903 1061.06 46.9338 L1061.06 72.576 L1053.57 72.576 L1053.57 27.2059 L1061.06 27.2059 L1061.06 34.2544 Q1063.74 30.163 1067.34 28.1376 Q1070.99 26.1121 1075.73 26.1121 Q1083.55 26.1121 1087.56 30.9732 Q1091.57 35.7938 1091.57 45.1919 Z\" fill=\"#000000\" fill-rule=\"evenodd\" fill-opacity=\"1\" /><path clip-path=\"url(#clip920)\" d=\"M1113.64 65.7705 L1113.64 89.8329 L1106.15 89.8329 L1106.15 27.2059 L1113.64 27.2059 L1113.64 34.0924 Q1115.99 30.0415 1119.56 28.0971 Q1123.16 26.1121 1128.15 26.1121 Q1136.41 26.1121 1141.55 32.6746 Q1146.74 39.2371 1146.74 49.9314 Q1146.74 60.6258 1141.55 67.1883 Q1136.41 73.7508 1128.15 73.7508 Q1123.16 73.7508 1119.56 71.8063 Q1115.99 69.8214 1113.64 65.7705 M1139 49.9314 Q1139 41.7081 1135.6 37.0496 Q1132.24 32.3505 1126.32 32.3505 Q1120.41 32.3505 1117.01 37.0496 Q1113.64 41.7081 1113.64 49.9314 Q1113.64 58.1548 1117.01 62.8538 Q1120.41 67.5124 1126.32 67.5124 Q1132.24 67.5124 1135.6 62.8538 Q1139 58.1548 1139 49.9314 Z\" fill=\"#000000\" fill-rule=\"evenodd\" fill-opacity=\"1\" /><path clip-path=\"url(#clip920)\" d=\"M1158.33 54.671 L1158.33 27.2059 L1165.78 27.2059 L1165.78 54.3874 Q1165.78 60.8284 1168.29 64.0691 Q1170.8 67.2693 1175.83 67.2693 Q1181.86 67.2693 1185.35 63.421 Q1188.87 59.5726 1188.87 52.9291 L1188.87 27.2059 L1196.32 27.2059 L1196.32 72.576 L1188.87 72.576 L1188.87 65.6084 Q1186.16 69.7404 1182.55 71.7658 Q1178.99 73.7508 1174.25 73.7508 Q1166.43 73.7508 1162.38 68.8897 Q1158.33 64.0286 1158.33 54.671 M1177.08 26.1121 L1177.08 26.1121 Z\" fill=\"#000000\" fill-rule=\"evenodd\" fill-opacity=\"1\" /><path clip-path=\"url(#clip920)\" d=\"M1219.05 14.324 L1219.05 27.2059 L1234.4 27.2059 L1234.4 32.9987 L1219.05 32.9987 L1219.05 57.6282 Q1219.05 63.1779 1220.55 64.7578 Q1222.09 66.3376 1226.75 66.3376 L1234.4 66.3376 L1234.4 72.576 L1226.75 72.576 Q1218.12 72.576 1214.84 69.3758 Q1211.55 66.1351 1211.55 57.6282 L1211.55 32.9987 L1206.09 32.9987 L1206.09 27.2059 L1211.55 27.2059 L1211.55 14.324 L1219.05 14.324 Z\" fill=\"#000000\" fill-rule=\"evenodd\" fill-opacity=\"1\" /><path clip-path=\"url(#clip920)\" d=\"M1270.9 12.096 L1279.08 12.096 L1279.08 36.8875 L1308.82 36.8875 L1308.82 12.096 L1317 12.096 L1317 72.576 L1308.82 72.576 L1308.82 43.7741 L1279.08 43.7741 L1279.08 72.576 L1270.9 72.576 L1270.9 12.096 Z\" fill=\"#000000\" fill-rule=\"evenodd\" fill-opacity=\"1\" /><path clip-path=\"url(#clip920)\" d=\"M1332.96 27.2059 L1340.41 27.2059 L1340.41 72.576 L1332.96 72.576 L1332.96 27.2059 M1332.96 9.54393 L1340.41 9.54393 L1340.41 18.9825 L1332.96 18.9825 L1332.96 9.54393 Z\" fill=\"#000000\" fill-rule=\"evenodd\" fill-opacity=\"1\" /><path clip-path=\"url(#clip920)\" d=\"M1384.93 28.5427 L1384.93 35.5912 Q1381.77 33.9709 1378.37 33.1607 Q1374.97 32.3505 1371.32 32.3505 Q1365.77 32.3505 1362.98 34.0519 Q1360.22 35.7533 1360.22 39.156 Q1360.22 41.7486 1362.21 43.2475 Q1364.19 44.7058 1370.19 46.0426 L1372.74 46.6097 Q1380.68 48.3111 1384 51.4303 Q1387.36 54.509 1387.36 60.0587 Q1387.36 66.3781 1382.34 70.0644 Q1377.36 73.7508 1368.61 73.7508 Q1364.96 73.7508 1360.99 73.0216 Q1357.06 72.3329 1352.69 70.9151 L1352.69 63.2184 Q1356.82 65.3654 1360.83 66.4591 Q1364.84 67.5124 1368.77 67.5124 Q1374.04 67.5124 1376.87 65.73 Q1379.71 63.9071 1379.71 60.6258 Q1379.71 57.5877 1377.64 55.9673 Q1375.62 54.3469 1368.69 52.8481 L1366.1 52.2405 Q1359.17 50.7821 1356.09 47.7845 Q1353.01 44.7463 1353.01 39.4801 Q1353.01 33.0797 1357.55 29.5959 Q1362.09 26.1121 1370.43 26.1121 Q1374.56 26.1121 1378.21 26.7198 Q1381.85 27.3274 1384.93 28.5427 Z\" fill=\"#000000\" fill-rule=\"evenodd\" fill-opacity=\"1\" /><path clip-path=\"url(#clip920)\" d=\"M1406.61 14.324 L1406.61 27.2059 L1421.96 27.2059 L1421.96 32.9987 L1406.61 32.9987 L1406.61 57.6282 Q1406.61 63.1779 1408.1 64.7578 Q1409.64 66.3376 1414.3 66.3376 L1421.96 66.3376 L1421.96 72.576 L1414.3 72.576 Q1405.67 72.576 1402.39 69.3758 Q1399.11 66.1351 1399.11 57.6282 L1399.11 32.9987 L1393.64 32.9987 L1393.64 27.2059 L1399.11 27.2059 L1399.11 14.324 L1406.61 14.324 Z\" fill=\"#000000\" fill-rule=\"evenodd\" fill-opacity=\"1\" /><path clip-path=\"url(#clip920)\" d=\"M1449.34 32.4315 Q1443.35 32.4315 1439.86 37.1306 Q1436.38 41.7891 1436.38 49.9314 Q1436.38 58.0738 1439.82 62.7728 Q1443.31 67.4314 1449.34 67.4314 Q1455.3 67.4314 1458.78 62.7323 Q1462.27 58.0333 1462.27 49.9314 Q1462.27 41.8701 1458.78 37.1711 Q1455.3 32.4315 1449.34 32.4315 M1449.34 26.1121 Q1459.06 26.1121 1464.61 32.4315 Q1470.16 38.7509 1470.16 49.9314 Q1470.16 61.0714 1464.61 67.4314 Q1459.06 73.7508 1449.34 73.7508 Q1439.58 73.7508 1434.03 67.4314 Q1428.52 61.0714 1428.52 49.9314 Q1428.52 38.7509 1434.03 32.4315 Q1439.58 26.1121 1449.34 26.1121 Z\" fill=\"#000000\" fill-rule=\"evenodd\" fill-opacity=\"1\" /><path clip-path=\"url(#clip920)\" d=\"M1508.81 34.1734 Q1507.55 33.4443 1506.06 33.1202 Q1504.6 32.7556 1502.81 32.7556 Q1496.5 32.7556 1493.09 36.8875 Q1489.73 40.9789 1489.73 48.6757 L1489.73 72.576 L1482.24 72.576 L1482.24 27.2059 L1489.73 27.2059 L1489.73 34.2544 Q1492.08 30.1225 1495.85 28.1376 Q1499.61 26.1121 1505 26.1121 Q1505.77 26.1121 1506.7 26.2337 Q1507.64 26.3147 1508.77 26.5172 L1508.81 34.1734 Z\" fill=\"#000000\" fill-rule=\"evenodd\" fill-opacity=\"1\" /><path clip-path=\"url(#clip920)\" d=\"M1535.51 76.7889 Q1532.35 84.8907 1529.35 87.3618 Q1526.35 89.8329 1521.33 89.8329 L1515.37 89.8329 L1515.37 83.5945 L1519.75 83.5945 Q1522.83 83.5945 1524.53 82.1361 Q1526.23 80.6778 1528.29 75.2496 L1529.63 71.8468 L1511.28 27.2059 L1519.18 27.2059 L1533.36 62.6918 L1547.54 27.2059 L1555.44 27.2059 L1535.51 76.7889 Z\" fill=\"#000000\" fill-rule=\"evenodd\" fill-opacity=\"1\" /><polyline clip-path=\"url(#clip922)\" style=\"stroke:#009af9; stroke-linecap:round; stroke-linejoin:round; stroke-width:4; stroke-opacity:1; fill:none\" points=\"292.4,1248.45 299.621,1269.26 306.843,1272.19 314.064,1272.33 321.286,1271.04 328.507,1269.06 335.729,1271.17 342.95,1270.91 350.171,1264.02 357.393,1263.38 364.614,1252.99 371.836,1241.7 379.057,1249.93 386.279,1263.71 393.5,1268.33 400.722,1269.35 407.943,1269.68 415.165,1260 422.386,1259.72 429.608,1263.24 436.829,1255.89 444.05,1246.81 451.272,1251.51 458.493,1258.02 465.715,1253.37 472.936,1251.61 480.158,1251.51 487.379,1252.2 494.601,1252.22 501.822,1259.3 509.044,1259.94 516.265,1263.36 523.487,1264.99 530.708,1267.86 537.93,1264.69 545.151,1268.4 552.372,1269.36 559.594,1272.74 566.815,1270.05 574.037,1272.81 581.258,1269.31 588.48,1272.66 595.701,1273.28 602.923,1257.84 610.144,1265.38 617.366,1265.21 624.587,1260.65 631.809,1254.06 639.03,1252.97 646.252,1257.26 653.473,1256.82 660.694,1252.25 667.916,1245.98 675.137,1246.71 682.359,1250.27 689.58,1249.2 696.802,1252.75 704.023,1249.95 711.245,1248.56 718.466,1252.25 725.688,1256.01 732.909,1255.73 740.131,1255.03 747.352,1255.61 754.573,1260.78 761.795,1260.69 769.016,1263.65 776.238,1264.59 783.459,1264.76 790.681,1269.04 797.902,1271.3 805.124,1277.49 812.345,1279.04 819.567,1276.09 826.788,1274.78 834.01,1271.36 841.231,1268.24 848.453,1271.12 855.674,1276.99 862.895,1278.89 870.117,1283.8 877.338,1287.91 884.56,1290.92 891.781,1288.35 899.003,1289.14 906.224,1290.02 913.446,1290.18 920.667,1288.96 927.889,1286.54 935.11,1285.4 942.332,1284.63 949.553,1286.47 956.775,1287.68 963.996,1286.47 971.217,1288.97 978.439,1288.66 985.66,1288.79 992.882,1288.29 1000.1,1288.45 1007.32,1286.38 1014.55,1286.23 1021.77,1288.33 1028.99,1288.07 1036.21,1287.9 1043.43,1283.9 1050.65,1283.23 1057.88,1283.35 1065.1,1281.55 1072.32,1286.29 1079.54,1283.01 1086.76,1286.92 1093.98,1289.24 1101.2,1291.92 1108.43,1293.91 1115.65,1297.51 1122.87,1295.33 1130.09,1294.07 1137.31,1292.41 1144.53,1293.07 1151.75,1294.75 1158.98,1299.22 1166.2,1300.14 1173.42,1298.06 1180.64,1302.06 1187.86,1302.28 1195.08,1297.51 1202.3,1297.77 1209.53,1298.36 1216.75,1296.23 1223.97,1294.09 1231.19,1295.33 1238.41,1295.94 1245.63,1296.24 1252.85,1296.78 1260.08,1293.82 1267.3,1291.13 1274.52,1293.29 1281.74,1295.97 1288.96,1294.59 1296.18,1294.98 1303.4,1295.87 1310.63,1295.87 1317.85,1290.4 1325.07,1293.74 1332.29,1293.59 1339.51,1296.57 1346.73,1295.55 1353.96,1299.68 1361.18,1299.95 1368.4,1301.31 1375.62,1300.17 1382.84,1299.7 1390.06,1299.86 1397.28,1298.83 1404.51,1298.27 1411.73,1299.67 1418.95,1298.74 1426.17,1298.91 1433.39,1297.41 1440.61,1297.3 1447.83,1297.79 1455.06,1297.38 1462.28,1298.72 1469.5,1296.38 1476.72,1295.2 1483.94,1296.98 1491.16,1297.02 1498.38,1297.33 1505.61,1294.3 1512.83,1294.07 1520.05,1293.71 1527.27,1295.84 1534.49,1298.72 1541.71,1301.9 1548.93,1301.14 1556.16,1302.77 1563.38,1302.44 1570.6,1301.36 1577.82,1299.09 1585.04,1297.64 1592.26,1299.15 1599.48,1300.32 1606.71,1303.16 1613.93,1304.76 1621.15,1304.7 1628.37,1304.92 1635.59,1307.55 1642.81,1306 1650.04,1307.18 1657.26,1308.03 1664.48,1308.43 1671.7,1305.66 1678.92,1306.27 1686.14,1309.97 1693.36,1311.66 1700.59,1312.45 1707.81,1311.93 1715.03,1312.78 1722.25,1313.88 1729.47,1316.77 1736.69,1317.52 1743.91,1319 1751.14,1319.99 1758.36,1320.36 1765.58,1320.24 1772.8,1320.41 1780.02,1320.3 1787.24,1320.08 1794.46,1320.75 1801.69,1322.44 1808.91,1323.12 1816.13,1321.85 1823.35,1323.43 1830.57,1322.39 1837.79,1323.18 1845.01,1323.36 1852.24,1323.29 1859.46,1322.3 1866.68,1324.85 1873.9,1325.69 1881.12,1324.41 1888.34,1323.61 1895.56,1323.92 1902.79,1324.1 1910.01,1324.11 1917.23,1323.23 1924.45,1323.45 1931.67,1324.34 1938.89,1325.18 1946.12,1325.51 1953.34,1325.6 1960.56,1325.46 1967.78,1324.55 1975,1323.6 1982.22,1324.1 1989.44,1323.27 1996.67,1323.21 2003.89,1324.14 2011.11,1325.5 2018.33,1324.87 2025.55,1325.62 2032.77,1326.59 2039.99,1327.52 2047.22,1328.61 2054.44,1329.38 2061.66,1329.17 2068.88,1329.25 2076.1,1329.62 2083.32,1329.61 2090.54,1330.04 2097.77,1330.5 2104.99,1330.87 2112.21,1331.05 2119.43,1331.15 2126.65,1331.45 2133.87,1331.33 2141.09,1331.24 2148.32,1331.5 2155.54,1332.2 2162.76,1332.21 2169.98,1333.19 2177.2,1333.83 2184.42,1334.34 2191.65,1334.72 2198.87,1335.59 2206.09,1336.17 2213.31,1336.92 2220.53,1337.38 2227.75,1337.73 2234.97,1338.39 2242.2,1339.09 2249.42,1339.61 2256.64,1339.9 2263.86,1340.26 2271.08,1340.83 2278.3,1341.2 2285.52,1341.48 2292.75,1341.9 \"/>\n",
       "<polyline clip-path=\"url(#clip922)\" style=\"stroke:#e26f46; stroke-linecap:round; stroke-linejoin:round; stroke-width:4; stroke-opacity:1; fill:none\" points=\"292.4,1380.76 299.621,1365.66 306.843,1361.98 314.064,1356.68 321.286,1367.59 328.507,1352.2 335.729,1348.53 342.95,1352.24 350.171,1361.46 357.393,1359.58 364.614,1356.69 371.836,1359.7 379.057,1351.9 386.279,1347.34 393.5,1347.62 400.722,1351.79 407.943,1348.03 415.165,1337.87 422.386,1336.04 429.608,1330.85 436.829,1325.54 444.05,1312.92 451.272,1320.16 458.493,1333.34 465.715,1330.59 472.936,1332.59 480.158,1332.61 487.379,1333.6 494.601,1342.16 501.822,1347.71 509.044,1352.46 516.265,1363.61 523.487,1367.76 530.708,1377.48 537.93,1380.59 545.151,1373.27 552.372,1376.57 559.594,1378.53 566.815,1381.33 574.037,1377.82 581.258,1382.55 588.48,1383.07 595.701,1382.62 602.923,1385.76 610.144,1379.22 617.366,1379.08 624.587,1380.8 631.809,1385.99 639.03,1386.4 646.252,1381.51 653.473,1381.91 660.694,1383.46 667.916,1375.16 675.137,1372.21 682.359,1376.98 689.58,1380.39 696.802,1380.11 704.023,1378.34 711.245,1376.72 718.466,1376.68 725.688,1376.08 732.909,1373.18 740.131,1376.87 747.352,1370.81 754.573,1369.13 761.795,1368.99 769.016,1371.76 776.238,1372.86 783.459,1372.96 790.681,1370.58 797.902,1371.39 805.124,1372.91 812.345,1370.92 819.567,1371.33 826.788,1372.13 834.01,1370.03 841.231,1370.57 848.453,1371.65 855.674,1367.33 862.895,1363.91 870.117,1366.32 877.338,1368.73 884.56,1373.04 891.781,1371.74 899.003,1372.66 906.224,1370.38 913.446,1368.38 920.667,1363.41 927.889,1365.38 935.11,1364.03 942.332,1361.03 949.553,1360.24 956.775,1360.83 963.996,1357.22 971.217,1358.88 978.439,1355.1 985.66,1354.83 992.882,1353.98 1000.1,1351.3 1007.32,1351.62 1014.55,1353.48 1021.77,1353.95 1028.99,1352.34 1036.21,1354.41 1043.43,1356.22 1050.65,1359.42 1057.88,1361.34 1065.1,1355.86 1072.32,1354.44 1079.54,1353.08 1086.76,1352.87 1093.98,1352.03 1101.2,1354.26 1108.43,1358.33 1115.65,1359.89 1122.87,1356.95 1130.09,1352.53 1137.31,1349.62 1144.53,1345.19 1151.75,1345.87 1158.98,1343.86 1166.2,1342.44 1173.42,1340.88 1180.64,1341.75 1187.86,1338.36 1195.08,1336.97 1202.3,1334.51 1209.53,1334.98 1216.75,1334.32 1223.97,1334.35 1231.19,1335.09 1238.41,1335.4 1245.63,1336.79 1252.85,1338.05 1260.08,1341.31 1267.3,1341.62 1274.52,1342.08 1281.74,1340.96 1288.96,1339.51 1296.18,1343.53 1303.4,1343.33 1310.63,1342.12 1317.85,1340.19 1325.07,1340.25 1332.29,1340.04 1339.51,1337.21 1346.73,1338.04 1353.96,1340.36 1361.18,1341.55 1368.4,1338.22 1375.62,1333.99 1382.84,1331.52 1390.06,1331 1397.28,1331.7 1404.51,1334.5 1411.73,1337.12 1418.95,1336.52 1426.17,1334.21 1433.39,1334.02 1440.61,1334.69 1447.83,1332.99 1455.06,1331.15 1462.28,1328.87 1469.5,1328.86 1476.72,1328.23 1483.94,1325.63 1491.16,1325.98 1498.38,1326.09 1505.61,1328.52 1512.83,1328.4 1520.05,1327.59 1527.27,1328.98 1534.49,1329.42 1541.71,1330.72 1548.93,1331.42 1556.16,1332.37 1563.38,1333.72 1570.6,1333.92 1577.82,1332.91 1585.04,1332.08 1592.26,1330.22 1599.48,1329.33 1606.71,1328.29 1613.93,1329.1 1621.15,1328.07 1628.37,1328.85 1635.59,1328.6 1642.81,1325.32 1650.04,1325.33 1657.26,1325.36 1664.48,1324.43 1671.7,1322.22 1678.92,1322.96 1686.14,1322.48 1693.36,1320.3 1700.59,1317.57 1707.81,1315.74 1715.03,1315.86 1722.25,1315.93 1729.47,1316.16 1736.69,1315.55 1743.91,1315.8 1751.14,1316.3 1758.36,1314.31 1765.58,1314.18 1772.8,1314.17 1780.02,1314.58 1787.24,1314.05 1794.46,1314.09 1801.69,1312.97 1808.91,1312.77 1816.13,1313.07 1823.35,1313.56 1830.57,1313.14 1837.79,1313.26 1845.01,1313.55 1852.24,1315.11 1859.46,1315.42 1866.68,1313.5 1873.9,1313.23 1881.12,1314.02 1888.34,1313.73 1895.56,1314.18 1902.79,1314.01 1910.01,1315.38 1917.23,1314.32 1924.45,1313.47 1931.67,1312.2 1938.89,1310.41 1946.12,1310.46 1953.34,1309.45 1960.56,1309.73 1967.78,1309.39 1975,1308.78 1982.22,1309.19 1989.44,1309.13 1996.67,1309.04 2003.89,1308.94 2011.11,1309.37 2018.33,1307.9 2025.55,1307.17 2032.77,1306.5 2039.99,1306.52 2047.22,1306.81 2054.44,1305.56 2061.66,1305.24 2068.88,1304.89 2076.1,1303.82 2083.32,1303.6 2090.54,1303.01 2097.77,1302.63 2104.99,1302.3 2112.21,1301.87 2119.43,1301.45 2126.65,1300.91 2133.87,1301.23 2141.09,1300.86 2148.32,1300.44 2155.54,1299.95 2162.76,1299.19 2169.98,1299.09 2177.2,1298.77 2184.42,1298.24 2191.65,1297.5 2198.87,1297.54 2206.09,1296.88 2213.31,1296.27 2220.53,1295.82 2227.75,1295.44 2234.97,1295.14 2242.2,1294.5 2249.42,1294.35 2256.64,1293.97 2263.86,1293.5 2271.08,1293.19 2278.3,1292.75 2285.52,1292.22 2292.75,1291.85 \"/>\n",
       "<polyline clip-path=\"url(#clip922)\" style=\"stroke:#3da44d; stroke-linecap:round; stroke-linejoin:round; stroke-width:4; stroke-opacity:1; fill:none\" points=\"292.4,205.599 299.621,205.07 306.843,208.387 314.064,194.941 321.286,195.018 328.507,195.169 335.729,190.958 342.95,204.296 350.171,194.838 357.393,181.483 364.614,176.338 371.836,168.421 379.057,160.256 386.279,169.969 393.5,169.171 400.722,172.665 407.943,164.42 415.165,175.292 422.386,179.694 429.608,176.612 436.829,170.986 444.05,171.075 451.272,164.721 458.493,167.125 465.715,165.89 472.936,173.777 480.158,187.257 487.379,189.731 494.601,192.311 501.822,196.397 509.044,199.493 516.265,201.674 523.487,205.89 530.708,199.6 537.93,191.872 545.151,191.406 552.372,194.269 559.594,192.211 566.815,197.966 574.037,200.846 581.258,198.824 588.48,201.607 595.701,202.631 602.923,205.913 610.144,209.365 617.366,216.239 624.587,222.596 631.809,221.363 639.03,221.708 646.252,231.12 653.473,235.509 660.694,236.636 667.916,239.156 675.137,231.469 682.359,229.336 689.58,227.301 696.802,230.467 704.023,224.614 711.245,224.651 718.466,223.597 725.688,224.315 732.909,227.136 740.131,225.384 747.352,224.92 754.573,227.241 761.795,228.196 769.016,227.123 776.238,230.037 783.459,230.749 790.681,230.904 797.902,230.469 805.124,231.028 812.345,230.771 819.567,232.181 826.788,233.472 834.01,237.928 841.231,239.445 848.453,241.782 855.674,238.45 862.895,243.141 870.117,243.937 877.338,240.956 884.56,241.778 891.781,242.854 899.003,240.84 906.224,242.261 913.446,245.132 920.667,243.653 927.889,247.558 935.11,247.414 942.332,246.229 949.553,250.303 956.775,252.517 963.996,251.766 971.217,251.047 978.439,249.39 985.66,248.887 992.882,245.304 1000.1,247.033 1007.32,245.799 1014.55,248.638 1021.77,249.425 1028.99,249.315 1036.21,252.257 1043.43,254.751 1050.65,253.796 1057.88,251.196 1065.1,250.962 1072.32,244.97 1079.54,241.799 1086.76,243.756 1093.98,244.529 1101.2,246.336 1108.43,246.457 1115.65,246.834 1122.87,246.302 1130.09,245.929 1137.31,248.037 1144.53,244.111 1151.75,245.967 1158.98,250.6 1166.2,251.597 1173.42,252.505 1180.64,251.791 1187.86,250.434 1195.08,250.714 1202.3,252.012 1209.53,252.401 1216.75,251.328 1223.97,252.716 1231.19,253.591 1238.41,255.447 1245.63,255.957 1252.85,254.827 1260.08,251.255 1267.3,249.533 1274.52,247.748 1281.74,249.418 1288.96,248.743 1296.18,250.261 1303.4,249.429 1310.63,249.522 1317.85,253.774 1325.07,255.53 1332.29,256.029 1339.51,255.132 1346.73,251.382 1353.96,251.42 1361.18,253.582 1368.4,252.86 1375.62,250.92 1382.84,253.636 1390.06,253.395 1397.28,251.479 1404.51,251.259 1411.73,252.742 1418.95,251.984 1426.17,252.864 1433.39,254.968 1440.61,252.043 1447.83,250.069 1455.06,249.134 1462.28,251.555 1469.5,251.534 1476.72,250.63 1483.94,251.398 1491.16,250.957 1498.38,251.603 1505.61,252.665 1512.83,250.133 1520.05,245.453 1527.27,246.263 1534.49,246.465 1541.71,248.438 1548.93,248.963 1556.16,250.434 1563.38,248.015 1570.6,248.189 1577.82,249.06 1585.04,248.872 1592.26,249.54 1599.48,249.761 1606.71,250.421 1613.93,252.707 1621.15,254.112 1628.37,252.433 1635.59,249.582 1642.81,250.898 1650.04,253.583 1657.26,255.784 1664.48,257.057 1671.7,259.314 1678.92,259.612 1686.14,259.548 1693.36,257.231 1700.59,257.944 1707.81,257.365 1715.03,256.812 1722.25,255.802 1729.47,257.82 1736.69,257.962 1743.91,258.795 1751.14,261.645 1758.36,264.3 1765.58,265.171 1772.8,264.817 1780.02,265.766 1787.24,266.769 1794.46,266.807 1801.69,266.764 1808.91,266.181 1816.13,264.399 1823.35,263.177 1830.57,263.146 1837.79,261.679 1845.01,263.192 1852.24,264.232 1859.46,265.614 1866.68,265.237 1873.9,266.993 1881.12,267.574 1888.34,267.956 1895.56,268.297 1902.79,268.23 1910.01,269.45 1917.23,270.419 1924.45,271.605 1931.67,271.269 1938.89,271.749 1946.12,270.95 1953.34,271.172 1960.56,272.71 1967.78,273.183 1975,274.22 1982.22,274.564 1989.44,273.827 1996.67,273.685 2003.89,273.552 2011.11,274.219 2018.33,274.207 2025.55,273.552 2032.77,274.754 2039.99,274.698 2047.22,274.912 2054.44,276.133 2061.66,277.341 2068.88,277.949 2076.1,278.134 2083.32,278.662 2090.54,279.579 2097.77,280.167 2104.99,280.875 2112.21,281.602 2119.43,281.939 2126.65,281.942 2133.87,282.688 2141.09,282.922 2148.32,283.317 2155.54,283.438 2162.76,283.523 2169.98,284.156 2177.2,284.014 2184.42,284.265 2191.65,284.512 2198.87,284.726 2206.09,285.349 2213.31,285.623 2220.53,286.171 2227.75,286.46 2234.97,286.713 2242.2,286.918 2249.42,287.249 2256.64,287.8 2263.86,288.256 2271.08,288.781 2278.3,289.197 2285.52,289.71 2292.75,290.081 \"/>\n",
       "<path clip-path=\"url(#clip920)\" d=\"M2027.42 374.156 L2282.08 374.156 L2282.08 166.796 L2027.42 166.796  Z\" fill=\"#ffffff\" fill-rule=\"evenodd\" fill-opacity=\"1\"/>\n",
       "<polyline clip-path=\"url(#clip920)\" style=\"stroke:#000000; stroke-linecap:round; stroke-linejoin:round; stroke-width:4; stroke-opacity:1; fill:none\" points=\"2027.42,374.156 2282.08,374.156 2282.08,166.796 2027.42,166.796 2027.42,374.156 \"/>\n",
       "<polyline clip-path=\"url(#clip920)\" style=\"stroke:#009af9; stroke-linecap:round; stroke-linejoin:round; stroke-width:4; stroke-opacity:1; fill:none\" points=\"2050.98,218.636 2192.34,218.636 \"/>\n",
       "<path clip-path=\"url(#clip920)\" d=\"M2215.9 225.684 L2215.9 209.99 L2220.16 209.99 L2220.16 225.522 Q2220.16 229.203 2221.6 231.055 Q2223.03 232.883 2225.9 232.883 Q2229.35 232.883 2231.34 230.684 Q2233.36 228.485 2233.36 224.689 L2233.36 209.99 L2237.61 209.99 L2237.61 235.916 L2233.36 235.916 L2233.36 231.934 Q2231.8 234.295 2229.74 235.453 Q2227.71 236.587 2225 236.587 Q2220.53 236.587 2218.22 233.809 Q2215.9 231.031 2215.9 225.684 M2226.62 209.365 L2226.62 209.365 Z\" fill=\"#000000\" fill-rule=\"evenodd\" fill-opacity=\"1\" /><path clip-path=\"url(#clip920)\" d=\"M2245.53 233.369 L2250.25 233.369 L2250.25 219.226 L2245.09 220.175 L2245.09 217.49 L2250.42 216.587 L2253.59 216.587 L2253.59 233.369 L2258.33 233.369 L2258.33 235.916 L2245.53 235.916 L2245.53 233.369 Z\" fill=\"#000000\" fill-rule=\"evenodd\" fill-opacity=\"1\" /><polyline clip-path=\"url(#clip920)\" style=\"stroke:#e26f46; stroke-linecap:round; stroke-linejoin:round; stroke-width:4; stroke-opacity:1; fill:none\" points=\"2050.98,270.476 2192.34,270.476 \"/>\n",
       "<path clip-path=\"url(#clip920)\" d=\"M2215.9 277.524 L2215.9 261.83 L2220.16 261.83 L2220.16 277.362 Q2220.16 281.043 2221.6 282.895 Q2223.03 284.723 2225.9 284.723 Q2229.35 284.723 2231.34 282.524 Q2233.36 280.325 2233.36 276.529 L2233.36 261.83 L2237.61 261.83 L2237.61 287.756 L2233.36 287.756 L2233.36 283.774 Q2231.8 286.135 2229.74 287.293 Q2227.71 288.427 2225 288.427 Q2220.53 288.427 2218.22 285.649 Q2215.9 282.871 2215.9 277.524 M2226.62 261.205 L2226.62 261.205 Z\" fill=\"#000000\" fill-rule=\"evenodd\" fill-opacity=\"1\" /><path clip-path=\"url(#clip920)\" d=\"M2248.12 285.117 L2257.94 285.117 L2257.94 287.756 L2244.1 287.756 L2244.1 285.209 Q2244.88 284.492 2246.34 283.196 Q2254.3 276.135 2254.3 273.959 Q2254.3 272.432 2253.1 271.506 Q2251.9 270.557 2249.93 270.557 Q2248.73 270.557 2247.31 270.973 Q2245.9 271.367 2244.24 272.177 L2244.24 269.33 Q2246.02 268.682 2247.55 268.358 Q2249.1 268.034 2250.42 268.034 Q2253.77 268.034 2255.79 269.561 Q2257.8 271.089 2257.8 273.589 Q2257.8 276.807 2250.14 283.381 Q2248.84 284.492 2248.12 285.117 Z\" fill=\"#000000\" fill-rule=\"evenodd\" fill-opacity=\"1\" /><polyline clip-path=\"url(#clip920)\" style=\"stroke:#3da44d; stroke-linecap:round; stroke-linejoin:round; stroke-width:4; stroke-opacity:1; fill:none\" points=\"2050.98,322.316 2192.34,322.316 \"/>\n",
       "<path clip-path=\"url(#clip920)\" d=\"M2215.9 329.364 L2215.9 313.67 L2220.16 313.67 L2220.16 329.202 Q2220.16 332.883 2221.6 334.735 Q2223.03 336.563 2225.9 336.563 Q2229.35 336.563 2231.34 334.364 Q2233.36 332.165 2233.36 328.369 L2233.36 313.67 L2237.61 313.67 L2237.61 339.596 L2233.36 339.596 L2233.36 335.614 Q2231.8 337.975 2229.74 339.133 Q2227.71 340.267 2225 340.267 Q2220.53 340.267 2218.22 337.489 Q2215.9 334.711 2215.9 329.364 M2226.62 313.045 L2226.62 313.045 Z\" fill=\"#000000\" fill-rule=\"evenodd\" fill-opacity=\"1\" /><path clip-path=\"url(#clip920)\" d=\"M2254.05 329.133 Q2256.18 329.549 2257.34 330.823 Q2258.52 332.073 2258.52 333.971 Q2258.52 336.841 2256.32 338.392 Q2254.12 339.943 2250.02 339.943 Q2248.7 339.943 2247.24 339.688 Q2245.81 339.457 2244.19 338.994 L2244.19 336.193 Q2245.39 336.818 2246.76 337.119 Q2248.15 337.42 2249.7 337.42 Q2252.22 337.42 2253.61 336.517 Q2255 335.591 2255 333.971 Q2255 332.258 2253.7 331.378 Q2252.43 330.499 2249.93 330.499 L2247.94 330.499 L2247.94 327.999 L2250.11 327.999 Q2252.29 327.999 2253.4 327.281 Q2254.54 326.54 2254.54 325.151 Q2254.54 323.809 2253.38 323.114 Q2252.22 322.397 2250.02 322.397 Q2249.1 322.397 2247.92 322.605 Q2246.74 322.813 2244.86 323.346 L2244.86 320.684 Q2246.55 320.29 2248.03 320.082 Q2249.51 319.874 2250.79 319.874 Q2254.12 319.874 2256.06 321.239 Q2258.03 322.605 2258.03 324.897 Q2258.03 326.494 2256.99 327.605 Q2255.95 328.716 2254.05 329.133 Z\" fill=\"#000000\" fill-rule=\"evenodd\" fill-opacity=\"1\" /></svg>\n"
      ]
     },
     "metadata": {},
     "output_type": "display_data"
    },
    {
     "data": {
      "image/svg+xml": [
       "<?xml version=\"1.0\" encoding=\"utf-8\"?>\n",
       "<svg xmlns=\"http://www.w3.org/2000/svg\" xmlns:xlink=\"http://www.w3.org/1999/xlink\" width=\"600\" height=\"400\" viewBox=\"0 0 2400 1600\">\n",
       "<defs>\n",
       "  <clipPath id=\"clip960\">\n",
       "    <rect x=\"0\" y=\"0\" width=\"2400\" height=\"1600\"/>\n",
       "  </clipPath>\n",
       "</defs>\n",
       "<path clip-path=\"url(#clip960)\" d=\"M0 1600 L2400 1600 L2400 0 L0 0  Z\" fill=\"#ffffff\" fill-rule=\"evenodd\" fill-opacity=\"1\"/>\n",
       "<defs>\n",
       "  <clipPath id=\"clip961\">\n",
       "    <rect x=\"480\" y=\"0\" width=\"1681\" height=\"1600\"/>\n",
       "  </clipPath>\n",
       "</defs>\n",
       "<path clip-path=\"url(#clip960)\" d=\"M210.977 1423.18 L2352.76 1423.18 L2352.76 123.472 L210.977 123.472  Z\" fill=\"#ffffff\" fill-rule=\"evenodd\" fill-opacity=\"1\"/>\n",
       "<defs>\n",
       "  <clipPath id=\"clip962\">\n",
       "    <rect x=\"210\" y=\"123\" width=\"2143\" height=\"1301\"/>\n",
       "  </clipPath>\n",
       "</defs>\n",
       "<polyline clip-path=\"url(#clip962)\" style=\"stroke:#000000; stroke-linecap:round; stroke-linejoin:round; stroke-width:2; stroke-opacity:0.1; fill:none\" points=\"271.594,1423.18 271.594,123.472 \"/>\n",
       "<polyline clip-path=\"url(#clip962)\" style=\"stroke:#000000; stroke-linecap:round; stroke-linejoin:round; stroke-width:2; stroke-opacity:0.1; fill:none\" points=\"633.699,1423.18 633.699,123.472 \"/>\n",
       "<polyline clip-path=\"url(#clip962)\" style=\"stroke:#000000; stroke-linecap:round; stroke-linejoin:round; stroke-width:2; stroke-opacity:0.1; fill:none\" points=\"995.804,1423.18 995.804,123.472 \"/>\n",
       "<polyline clip-path=\"url(#clip962)\" style=\"stroke:#000000; stroke-linecap:round; stroke-linejoin:round; stroke-width:2; stroke-opacity:0.1; fill:none\" points=\"1357.91,1423.18 1357.91,123.472 \"/>\n",
       "<polyline clip-path=\"url(#clip962)\" style=\"stroke:#000000; stroke-linecap:round; stroke-linejoin:round; stroke-width:2; stroke-opacity:0.1; fill:none\" points=\"1720.01,1423.18 1720.01,123.472 \"/>\n",
       "<polyline clip-path=\"url(#clip962)\" style=\"stroke:#000000; stroke-linecap:round; stroke-linejoin:round; stroke-width:2; stroke-opacity:0.1; fill:none\" points=\"2082.12,1423.18 2082.12,123.472 \"/>\n",
       "<polyline clip-path=\"url(#clip960)\" style=\"stroke:#000000; stroke-linecap:round; stroke-linejoin:round; stroke-width:4; stroke-opacity:1; fill:none\" points=\"210.977,1423.18 2352.76,1423.18 \"/>\n",
       "<polyline clip-path=\"url(#clip960)\" style=\"stroke:#000000; stroke-linecap:round; stroke-linejoin:round; stroke-width:4; stroke-opacity:1; fill:none\" points=\"271.594,1423.18 271.594,1404.28 \"/>\n",
       "<polyline clip-path=\"url(#clip960)\" style=\"stroke:#000000; stroke-linecap:round; stroke-linejoin:round; stroke-width:4; stroke-opacity:1; fill:none\" points=\"633.699,1423.18 633.699,1404.28 \"/>\n",
       "<polyline clip-path=\"url(#clip960)\" style=\"stroke:#000000; stroke-linecap:round; stroke-linejoin:round; stroke-width:4; stroke-opacity:1; fill:none\" points=\"995.804,1423.18 995.804,1404.28 \"/>\n",
       "<polyline clip-path=\"url(#clip960)\" style=\"stroke:#000000; stroke-linecap:round; stroke-linejoin:round; stroke-width:4; stroke-opacity:1; fill:none\" points=\"1357.91,1423.18 1357.91,1404.28 \"/>\n",
       "<polyline clip-path=\"url(#clip960)\" style=\"stroke:#000000; stroke-linecap:round; stroke-linejoin:round; stroke-width:4; stroke-opacity:1; fill:none\" points=\"1720.01,1423.18 1720.01,1404.28 \"/>\n",
       "<polyline clip-path=\"url(#clip960)\" style=\"stroke:#000000; stroke-linecap:round; stroke-linejoin:round; stroke-width:4; stroke-opacity:1; fill:none\" points=\"2082.12,1423.18 2082.12,1404.28 \"/>\n",
       "<path clip-path=\"url(#clip960)\" d=\"M248.978 1454.1 Q245.367 1454.1 243.538 1457.66 Q241.733 1461.2 241.733 1468.33 Q241.733 1475.44 243.538 1479.01 Q245.367 1482.55 248.978 1482.55 Q252.612 1482.55 254.418 1479.01 Q256.247 1475.44 256.247 1468.33 Q256.247 1461.2 254.418 1457.66 Q252.612 1454.1 248.978 1454.1 M248.978 1450.39 Q254.788 1450.39 257.844 1455 Q260.923 1459.58 260.923 1468.33 Q260.923 1477.06 257.844 1481.67 Q254.788 1486.25 248.978 1486.25 Q243.168 1486.25 240.089 1481.67 Q237.034 1477.06 237.034 1468.33 Q237.034 1459.58 240.089 1455 Q243.168 1450.39 248.978 1450.39 Z\" fill=\"#000000\" fill-rule=\"evenodd\" fill-opacity=\"1\" /><path clip-path=\"url(#clip960)\" d=\"M269.14 1479.7 L274.024 1479.7 L274.024 1485.58 L269.14 1485.58 L269.14 1479.7 Z\" fill=\"#000000\" fill-rule=\"evenodd\" fill-opacity=\"1\" /><path clip-path=\"url(#clip960)\" d=\"M294.209 1454.1 Q290.598 1454.1 288.77 1457.66 Q286.964 1461.2 286.964 1468.33 Q286.964 1475.44 288.77 1479.01 Q290.598 1482.55 294.209 1482.55 Q297.844 1482.55 299.649 1479.01 Q301.478 1475.44 301.478 1468.33 Q301.478 1461.2 299.649 1457.66 Q297.844 1454.1 294.209 1454.1 M294.209 1450.39 Q300.02 1450.39 303.075 1455 Q306.154 1459.58 306.154 1468.33 Q306.154 1477.06 303.075 1481.67 Q300.02 1486.25 294.209 1486.25 Q288.399 1486.25 285.321 1481.67 Q282.265 1477.06 282.265 1468.33 Q282.265 1459.58 285.321 1455 Q288.399 1450.39 294.209 1450.39 Z\" fill=\"#000000\" fill-rule=\"evenodd\" fill-opacity=\"1\" /><path clip-path=\"url(#clip960)\" d=\"M605.435 1481.64 L621.754 1481.64 L621.754 1485.58 L599.81 1485.58 L599.81 1481.64 Q602.472 1478.89 607.055 1474.26 Q611.662 1469.61 612.842 1468.27 Q615.088 1465.74 615.967 1464.01 Q616.87 1462.25 616.87 1460.56 Q616.87 1457.8 614.926 1456.07 Q613.004 1454.33 609.903 1454.33 Q607.704 1454.33 605.25 1455.09 Q602.819 1455.86 600.042 1457.41 L600.042 1452.69 Q602.866 1451.55 605.319 1450.97 Q607.773 1450.39 609.81 1450.39 Q615.18 1450.39 618.375 1453.08 Q621.569 1455.77 621.569 1460.26 Q621.569 1462.39 620.759 1464.31 Q619.972 1466.2 617.866 1468.8 Q617.287 1469.47 614.185 1472.69 Q611.083 1475.88 605.435 1481.64 Z\" fill=\"#000000\" fill-rule=\"evenodd\" fill-opacity=\"1\" /><path clip-path=\"url(#clip960)\" d=\"M631.569 1479.7 L636.453 1479.7 L636.453 1485.58 L631.569 1485.58 L631.569 1479.7 Z\" fill=\"#000000\" fill-rule=\"evenodd\" fill-opacity=\"1\" /><path clip-path=\"url(#clip960)\" d=\"M646.685 1451.02 L665.041 1451.02 L665.041 1454.96 L650.967 1454.96 L650.967 1463.43 Q651.986 1463.08 653.004 1462.92 Q654.023 1462.73 655.041 1462.73 Q660.828 1462.73 664.208 1465.9 Q667.587 1469.08 667.587 1474.49 Q667.587 1480.07 664.115 1483.17 Q660.643 1486.25 654.324 1486.25 Q652.148 1486.25 649.879 1485.88 Q647.634 1485.51 645.226 1484.77 L645.226 1480.07 Q647.31 1481.2 649.532 1481.76 Q651.754 1482.32 654.231 1482.32 Q658.236 1482.32 660.574 1480.21 Q662.912 1478.1 662.912 1474.49 Q662.912 1470.88 660.574 1468.77 Q658.236 1466.67 654.231 1466.67 Q652.356 1466.67 650.481 1467.08 Q648.629 1467.5 646.685 1468.38 L646.685 1451.02 Z\" fill=\"#000000\" fill-rule=\"evenodd\" fill-opacity=\"1\" /><path clip-path=\"url(#clip960)\" d=\"M962.968 1451.02 L981.325 1451.02 L981.325 1454.96 L967.251 1454.96 L967.251 1463.43 Q968.269 1463.08 969.288 1462.92 Q970.306 1462.73 971.325 1462.73 Q977.112 1462.73 980.491 1465.9 Q983.871 1469.08 983.871 1474.49 Q983.871 1480.07 980.399 1483.17 Q976.927 1486.25 970.607 1486.25 Q968.431 1486.25 966.163 1485.88 Q963.917 1485.51 961.51 1484.77 L961.51 1480.07 Q963.593 1481.2 965.815 1481.76 Q968.038 1482.32 970.515 1482.32 Q974.519 1482.32 976.857 1480.21 Q979.195 1478.1 979.195 1474.49 Q979.195 1470.88 976.857 1468.77 Q974.519 1466.67 970.515 1466.67 Q968.64 1466.67 966.765 1467.08 Q964.913 1467.5 962.968 1468.38 L962.968 1451.02 Z\" fill=\"#000000\" fill-rule=\"evenodd\" fill-opacity=\"1\" /><path clip-path=\"url(#clip960)\" d=\"M993.084 1479.7 L997.968 1479.7 L997.968 1485.58 L993.084 1485.58 L993.084 1479.7 Z\" fill=\"#000000\" fill-rule=\"evenodd\" fill-opacity=\"1\" /><path clip-path=\"url(#clip960)\" d=\"M1018.15 1454.1 Q1014.54 1454.1 1012.71 1457.66 Q1010.91 1461.2 1010.91 1468.33 Q1010.91 1475.44 1012.71 1479.01 Q1014.54 1482.55 1018.15 1482.55 Q1021.79 1482.55 1023.59 1479.01 Q1025.42 1475.44 1025.42 1468.33 Q1025.42 1461.2 1023.59 1457.66 Q1021.79 1454.1 1018.15 1454.1 M1018.15 1450.39 Q1023.96 1450.39 1027.02 1455 Q1030.1 1459.58 1030.1 1468.33 Q1030.1 1477.06 1027.02 1481.67 Q1023.96 1486.25 1018.15 1486.25 Q1012.34 1486.25 1009.26 1481.67 Q1006.21 1477.06 1006.21 1468.33 Q1006.21 1459.58 1009.26 1455 Q1012.34 1450.39 1018.15 1450.39 Z\" fill=\"#000000\" fill-rule=\"evenodd\" fill-opacity=\"1\" /><path clip-path=\"url(#clip960)\" d=\"M1324.23 1451.02 L1346.45 1451.02 L1346.45 1453.01 L1333.9 1485.58 L1329.02 1485.58 L1340.83 1454.96 L1324.23 1454.96 L1324.23 1451.02 Z\" fill=\"#000000\" fill-rule=\"evenodd\" fill-opacity=\"1\" /><path clip-path=\"url(#clip960)\" d=\"M1355.57 1479.7 L1360.45 1479.7 L1360.45 1485.58 L1355.57 1485.58 L1355.57 1479.7 Z\" fill=\"#000000\" fill-rule=\"evenodd\" fill-opacity=\"1\" /><path clip-path=\"url(#clip960)\" d=\"M1370.69 1451.02 L1389.04 1451.02 L1389.04 1454.96 L1374.97 1454.96 L1374.97 1463.43 Q1375.99 1463.08 1377.01 1462.92 Q1378.02 1462.73 1379.04 1462.73 Q1384.83 1462.73 1388.21 1465.9 Q1391.59 1469.08 1391.59 1474.49 Q1391.59 1480.07 1388.12 1483.17 Q1384.64 1486.25 1378.33 1486.25 Q1376.15 1486.25 1373.88 1485.88 Q1371.64 1485.51 1369.23 1484.77 L1369.23 1480.07 Q1371.31 1481.2 1373.53 1481.76 Q1375.76 1482.32 1378.23 1482.32 Q1382.24 1482.32 1384.58 1480.21 Q1386.91 1478.1 1386.91 1474.49 Q1386.91 1470.88 1384.58 1468.77 Q1382.24 1466.67 1378.23 1466.67 Q1376.36 1466.67 1374.48 1467.08 Q1372.63 1467.5 1370.69 1468.38 L1370.69 1451.02 Z\" fill=\"#000000\" fill-rule=\"evenodd\" fill-opacity=\"1\" /><path clip-path=\"url(#clip960)\" d=\"M1672.09 1481.64 L1679.72 1481.64 L1679.72 1455.28 L1671.41 1456.95 L1671.41 1452.69 L1679.68 1451.02 L1684.35 1451.02 L1684.35 1481.64 L1691.99 1481.64 L1691.99 1485.58 L1672.09 1485.58 L1672.09 1481.64 Z\" fill=\"#000000\" fill-rule=\"evenodd\" fill-opacity=\"1\" /><path clip-path=\"url(#clip960)\" d=\"M1711.44 1454.1 Q1707.83 1454.1 1706 1457.66 Q1704.19 1461.2 1704.19 1468.33 Q1704.19 1475.44 1706 1479.01 Q1707.83 1482.55 1711.44 1482.55 Q1715.07 1482.55 1716.88 1479.01 Q1718.71 1475.44 1718.71 1468.33 Q1718.71 1461.2 1716.88 1457.66 Q1715.07 1454.1 1711.44 1454.1 M1711.44 1450.39 Q1717.25 1450.39 1720.3 1455 Q1723.38 1459.58 1723.38 1468.33 Q1723.38 1477.06 1720.3 1481.67 Q1717.25 1486.25 1711.44 1486.25 Q1705.63 1486.25 1702.55 1481.67 Q1699.49 1477.06 1699.49 1468.33 Q1699.49 1459.58 1702.55 1455 Q1705.63 1450.39 1711.44 1450.39 Z\" fill=\"#000000\" fill-rule=\"evenodd\" fill-opacity=\"1\" /><path clip-path=\"url(#clip960)\" d=\"M1731.6 1479.7 L1736.48 1479.7 L1736.48 1485.58 L1731.6 1485.58 L1731.6 1479.7 Z\" fill=\"#000000\" fill-rule=\"evenodd\" fill-opacity=\"1\" /><path clip-path=\"url(#clip960)\" d=\"M1756.67 1454.1 Q1753.06 1454.1 1751.23 1457.66 Q1749.42 1461.2 1749.42 1468.33 Q1749.42 1475.44 1751.23 1479.01 Q1753.06 1482.55 1756.67 1482.55 Q1760.3 1482.55 1762.11 1479.01 Q1763.94 1475.44 1763.94 1468.33 Q1763.94 1461.2 1762.11 1457.66 Q1760.3 1454.1 1756.67 1454.1 M1756.67 1450.39 Q1762.48 1450.39 1765.53 1455 Q1768.61 1459.58 1768.61 1468.33 Q1768.61 1477.06 1765.53 1481.67 Q1762.48 1486.25 1756.67 1486.25 Q1750.86 1486.25 1747.78 1481.67 Q1744.72 1477.06 1744.72 1468.33 Q1744.72 1459.58 1747.78 1455 Q1750.86 1450.39 1756.67 1450.39 Z\" fill=\"#000000\" fill-rule=\"evenodd\" fill-opacity=\"1\" /><path clip-path=\"url(#clip960)\" d=\"M2034.69 1481.64 L2042.33 1481.64 L2042.33 1455.28 L2034.02 1456.95 L2034.02 1452.69 L2042.28 1451.02 L2046.96 1451.02 L2046.96 1481.64 L2054.6 1481.64 L2054.6 1485.58 L2034.69 1485.58 L2034.69 1481.64 Z\" fill=\"#000000\" fill-rule=\"evenodd\" fill-opacity=\"1\" /><path clip-path=\"url(#clip960)\" d=\"M2068.07 1481.64 L2084.39 1481.64 L2084.39 1485.58 L2062.44 1485.58 L2062.44 1481.64 Q2065.1 1478.89 2069.69 1474.26 Q2074.29 1469.61 2075.48 1468.27 Q2077.72 1465.74 2078.6 1464.01 Q2079.5 1462.25 2079.5 1460.56 Q2079.5 1457.8 2077.56 1456.07 Q2075.64 1454.33 2072.54 1454.33 Q2070.34 1454.33 2067.88 1455.09 Q2065.45 1455.86 2062.67 1457.41 L2062.67 1452.69 Q2065.5 1451.55 2067.95 1450.97 Q2070.41 1450.39 2072.44 1450.39 Q2077.81 1450.39 2081.01 1453.08 Q2084.2 1455.77 2084.2 1460.26 Q2084.2 1462.39 2083.39 1464.31 Q2082.6 1466.2 2080.5 1468.8 Q2079.92 1469.47 2076.82 1472.69 Q2073.72 1475.88 2068.07 1481.64 Z\" fill=\"#000000\" fill-rule=\"evenodd\" fill-opacity=\"1\" /><path clip-path=\"url(#clip960)\" d=\"M2094.2 1479.7 L2099.09 1479.7 L2099.09 1485.58 L2094.2 1485.58 L2094.2 1479.7 Z\" fill=\"#000000\" fill-rule=\"evenodd\" fill-opacity=\"1\" /><path clip-path=\"url(#clip960)\" d=\"M2109.32 1451.02 L2127.67 1451.02 L2127.67 1454.96 L2113.6 1454.96 L2113.6 1463.43 Q2114.62 1463.08 2115.64 1462.92 Q2116.66 1462.73 2117.67 1462.73 Q2123.46 1462.73 2126.84 1465.9 Q2130.22 1469.08 2130.22 1474.49 Q2130.22 1480.07 2126.75 1483.17 Q2123.28 1486.25 2116.96 1486.25 Q2114.78 1486.25 2112.51 1485.88 Q2110.27 1485.51 2107.86 1484.77 L2107.86 1480.07 Q2109.94 1481.2 2112.16 1481.76 Q2114.39 1482.32 2116.86 1482.32 Q2120.87 1482.32 2123.21 1480.21 Q2125.54 1478.1 2125.54 1474.49 Q2125.54 1470.88 2123.21 1468.77 Q2120.87 1466.67 2116.86 1466.67 Q2114.99 1466.67 2113.11 1467.08 Q2111.26 1467.5 2109.32 1468.38 L2109.32 1451.02 Z\" fill=\"#000000\" fill-rule=\"evenodd\" fill-opacity=\"1\" /><path clip-path=\"url(#clip960)\" d=\"M1169.32 1522.27 L1169.32 1532.4 L1181.38 1532.4 L1181.38 1536.95 L1169.32 1536.95 L1169.32 1556.3 Q1169.32 1560.66 1170.5 1561.9 Q1171.71 1563.14 1175.37 1563.14 L1181.38 1563.14 L1181.38 1568.04 L1175.37 1568.04 Q1168.59 1568.04 1166.01 1565.53 Q1163.43 1562.98 1163.43 1556.3 L1163.43 1536.95 L1159.14 1536.95 L1159.14 1532.4 L1163.43 1532.4 L1163.43 1522.27 L1169.32 1522.27 Z\" fill=\"#000000\" fill-rule=\"evenodd\" fill-opacity=\"1\" /><path clip-path=\"url(#clip960)\" d=\"M1189.09 1532.4 L1194.94 1532.4 L1194.94 1568.04 L1189.09 1568.04 L1189.09 1532.4 M1189.09 1518.52 L1194.94 1518.52 L1194.94 1525.93 L1189.09 1525.93 L1189.09 1518.52 Z\" fill=\"#000000\" fill-rule=\"evenodd\" fill-opacity=\"1\" /><path clip-path=\"url(#clip960)\" d=\"M1234.95 1539.24 Q1237.15 1535.29 1240.2 1533.41 Q1243.26 1531.54 1247.4 1531.54 Q1252.97 1531.54 1255.99 1535.45 Q1259.01 1539.33 1259.01 1546.53 L1259.01 1568.04 L1253.13 1568.04 L1253.13 1546.72 Q1253.13 1541.59 1251.31 1539.11 Q1249.5 1536.63 1245.77 1536.63 Q1241.22 1536.63 1238.58 1539.65 Q1235.94 1542.68 1235.94 1547.9 L1235.94 1568.04 L1230.05 1568.04 L1230.05 1546.72 Q1230.05 1541.56 1228.24 1539.11 Q1226.42 1536.63 1222.63 1536.63 Q1218.15 1536.63 1215.5 1539.68 Q1212.86 1542.71 1212.86 1547.9 L1212.86 1568.04 L1206.97 1568.04 L1206.97 1532.4 L1212.86 1532.4 L1212.86 1537.93 Q1214.87 1534.66 1217.67 1533.1 Q1220.47 1531.54 1224.32 1531.54 Q1228.2 1531.54 1230.91 1533.51 Q1233.65 1535.48 1234.95 1539.24 Z\" fill=\"#000000\" fill-rule=\"evenodd\" fill-opacity=\"1\" /><path clip-path=\"url(#clip960)\" d=\"M1301.19 1548.76 L1301.19 1551.62 L1274.26 1551.62 Q1274.64 1557.67 1277.89 1560.85 Q1281.17 1564 1286.99 1564 Q1290.36 1564 1293.52 1563.17 Q1296.7 1562.35 1299.82 1560.69 L1299.82 1566.23 Q1296.67 1567.57 1293.36 1568.27 Q1290.05 1568.97 1286.64 1568.97 Q1278.11 1568.97 1273.11 1564 Q1268.15 1559.04 1268.15 1550.57 Q1268.15 1541.82 1272.86 1536.69 Q1277.6 1531.54 1285.62 1531.54 Q1292.82 1531.54 1296.99 1536.18 Q1301.19 1540.8 1301.19 1548.76 M1295.33 1547.04 Q1295.27 1542.23 1292.62 1539.37 Q1290.01 1536.5 1285.69 1536.5 Q1280.78 1536.5 1277.82 1539.27 Q1274.9 1542.04 1274.45 1547.07 L1295.33 1547.04 Z\" fill=\"#000000\" fill-rule=\"evenodd\" fill-opacity=\"1\" /><path clip-path=\"url(#clip960)\" d=\"M1345.59 1518.58 Q1341.32 1525.9 1339.25 1533.06 Q1337.18 1540.23 1337.18 1547.58 Q1337.18 1554.93 1339.25 1562.16 Q1341.35 1569.35 1345.59 1576.64 L1340.49 1576.64 Q1335.72 1569.16 1333.33 1561.93 Q1330.98 1554.71 1330.98 1547.58 Q1330.98 1540.48 1333.33 1533.29 Q1335.69 1526.09 1340.49 1518.58 L1345.59 1518.58 Z\" fill=\"#000000\" fill-rule=\"evenodd\" fill-opacity=\"1\" /><path clip-path=\"url(#clip960)\" d=\"M1379.68 1533.45 L1379.68 1538.98 Q1377.19 1537.71 1374.52 1537.07 Q1371.85 1536.44 1368.98 1536.44 Q1364.62 1536.44 1362.42 1537.77 Q1360.26 1539.11 1360.26 1541.79 Q1360.26 1543.82 1361.82 1545 Q1363.38 1546.15 1368.09 1547.2 L1370.1 1547.64 Q1376.33 1548.98 1378.94 1551.43 Q1381.59 1553.85 1381.59 1558.21 Q1381.59 1563.17 1377.64 1566.07 Q1373.72 1568.97 1366.85 1568.97 Q1363.98 1568.97 1360.87 1568.39 Q1357.78 1567.85 1354.34 1566.74 L1354.34 1560.69 Q1357.59 1562.38 1360.74 1563.24 Q1363.89 1564.07 1366.98 1564.07 Q1371.11 1564.07 1373.34 1562.66 Q1375.57 1561.23 1375.57 1558.65 Q1375.57 1556.27 1373.95 1554.99 Q1372.36 1553.72 1366.91 1552.54 L1364.88 1552.07 Q1359.43 1550.92 1357.01 1548.56 Q1354.59 1546.18 1354.59 1542.04 Q1354.59 1537.01 1358.16 1534.27 Q1361.72 1531.54 1368.28 1531.54 Q1371.53 1531.54 1374.39 1532.01 Q1377.26 1532.49 1379.68 1533.45 Z\" fill=\"#000000\" fill-rule=\"evenodd\" fill-opacity=\"1\" /><path clip-path=\"url(#clip960)\" d=\"M1389.99 1518.58 L1395.08 1518.58 Q1399.86 1526.09 1402.21 1533.29 Q1404.6 1540.48 1404.6 1547.58 Q1404.6 1554.71 1402.21 1561.93 Q1399.86 1569.16 1395.08 1576.64 L1389.99 1576.64 Q1394.22 1569.35 1396.29 1562.16 Q1398.39 1554.93 1398.39 1547.58 Q1398.39 1540.23 1396.29 1533.06 Q1394.22 1525.9 1389.99 1518.58 Z\" fill=\"#000000\" fill-rule=\"evenodd\" fill-opacity=\"1\" /><polyline clip-path=\"url(#clip962)\" style=\"stroke:#000000; stroke-linecap:round; stroke-linejoin:round; stroke-width:2; stroke-opacity:0.1; fill:none\" points=\"210.977,1386.4 2352.76,1386.4 \"/>\n",
       "<polyline clip-path=\"url(#clip962)\" style=\"stroke:#000000; stroke-linecap:round; stroke-linejoin:round; stroke-width:2; stroke-opacity:0.1; fill:none\" points=\"210.977,1139.99 2352.76,1139.99 \"/>\n",
       "<polyline clip-path=\"url(#clip962)\" style=\"stroke:#000000; stroke-linecap:round; stroke-linejoin:round; stroke-width:2; stroke-opacity:0.1; fill:none\" points=\"210.977,893.584 2352.76,893.584 \"/>\n",
       "<polyline clip-path=\"url(#clip962)\" style=\"stroke:#000000; stroke-linecap:round; stroke-linejoin:round; stroke-width:2; stroke-opacity:0.1; fill:none\" points=\"210.977,647.178 2352.76,647.178 \"/>\n",
       "<polyline clip-path=\"url(#clip962)\" style=\"stroke:#000000; stroke-linecap:round; stroke-linejoin:round; stroke-width:2; stroke-opacity:0.1; fill:none\" points=\"210.977,400.772 2352.76,400.772 \"/>\n",
       "<polyline clip-path=\"url(#clip962)\" style=\"stroke:#000000; stroke-linecap:round; stroke-linejoin:round; stroke-width:2; stroke-opacity:0.1; fill:none\" points=\"210.977,154.366 2352.76,154.366 \"/>\n",
       "<polyline clip-path=\"url(#clip960)\" style=\"stroke:#000000; stroke-linecap:round; stroke-linejoin:round; stroke-width:4; stroke-opacity:1; fill:none\" points=\"210.977,1423.18 210.977,123.472 \"/>\n",
       "<polyline clip-path=\"url(#clip960)\" style=\"stroke:#000000; stroke-linecap:round; stroke-linejoin:round; stroke-width:4; stroke-opacity:1; fill:none\" points=\"210.977,1386.4 229.875,1386.4 \"/>\n",
       "<polyline clip-path=\"url(#clip960)\" style=\"stroke:#000000; stroke-linecap:round; stroke-linejoin:round; stroke-width:4; stroke-opacity:1; fill:none\" points=\"210.977,1139.99 229.875,1139.99 \"/>\n",
       "<polyline clip-path=\"url(#clip960)\" style=\"stroke:#000000; stroke-linecap:round; stroke-linejoin:round; stroke-width:4; stroke-opacity:1; fill:none\" points=\"210.977,893.584 229.875,893.584 \"/>\n",
       "<polyline clip-path=\"url(#clip960)\" style=\"stroke:#000000; stroke-linecap:round; stroke-linejoin:round; stroke-width:4; stroke-opacity:1; fill:none\" points=\"210.977,647.178 229.875,647.178 \"/>\n",
       "<polyline clip-path=\"url(#clip960)\" style=\"stroke:#000000; stroke-linecap:round; stroke-linejoin:round; stroke-width:4; stroke-opacity:1; fill:none\" points=\"210.977,400.772 229.875,400.772 \"/>\n",
       "<polyline clip-path=\"url(#clip960)\" style=\"stroke:#000000; stroke-linecap:round; stroke-linejoin:round; stroke-width:4; stroke-opacity:1; fill:none\" points=\"210.977,154.366 229.875,154.366 \"/>\n",
       "<path clip-path=\"url(#clip960)\" d=\"M114.26 1386.85 L143.936 1386.85 L143.936 1390.78 L114.26 1390.78 L114.26 1386.85 Z\" fill=\"#000000\" fill-rule=\"evenodd\" fill-opacity=\"1\" /><path clip-path=\"url(#clip960)\" d=\"M154.075 1369.12 L172.431 1369.12 L172.431 1373.05 L158.357 1373.05 L158.357 1381.52 Q159.376 1381.18 160.394 1381.01 Q161.413 1380.83 162.431 1380.83 Q168.218 1380.83 171.598 1384 Q174.977 1387.17 174.977 1392.59 Q174.977 1398.17 171.505 1401.27 Q168.033 1404.35 161.714 1404.35 Q159.538 1404.35 157.269 1403.98 Q155.024 1403.61 152.616 1402.87 L152.616 1398.17 Q154.7 1399.3 156.922 1399.86 Q159.144 1400.41 161.621 1400.41 Q165.626 1400.41 167.964 1398.31 Q170.302 1396.2 170.302 1392.59 Q170.302 1388.98 167.964 1386.87 Q165.626 1384.76 161.621 1384.76 Q159.746 1384.76 157.871 1385.18 Q156.019 1385.6 154.075 1386.48 L154.075 1369.12 Z\" fill=\"#000000\" fill-rule=\"evenodd\" fill-opacity=\"1\" /><path clip-path=\"url(#clip960)\" d=\"M163.033 1125.79 Q159.422 1125.79 157.593 1129.35 Q155.788 1132.9 155.788 1140.02 Q155.788 1147.13 157.593 1150.7 Q159.422 1154.24 163.033 1154.24 Q166.667 1154.24 168.473 1150.7 Q170.302 1147.13 170.302 1140.02 Q170.302 1132.9 168.473 1129.35 Q166.667 1125.79 163.033 1125.79 M163.033 1122.08 Q168.843 1122.08 171.899 1126.69 Q174.977 1131.27 174.977 1140.02 Q174.977 1148.75 171.899 1153.36 Q168.843 1157.94 163.033 1157.94 Q157.223 1157.94 154.144 1153.36 Q151.089 1148.75 151.089 1140.02 Q151.089 1131.27 154.144 1126.69 Q157.223 1122.08 163.033 1122.08 Z\" fill=\"#000000\" fill-rule=\"evenodd\" fill-opacity=\"1\" /><path clip-path=\"url(#clip960)\" d=\"M154.075 876.304 L172.431 876.304 L172.431 880.239 L158.357 880.239 L158.357 888.711 Q159.376 888.364 160.394 888.202 Q161.413 888.017 162.431 888.017 Q168.218 888.017 171.598 891.188 Q174.977 894.359 174.977 899.776 Q174.977 905.355 171.505 908.457 Q168.033 911.535 161.714 911.535 Q159.538 911.535 157.269 911.165 Q155.024 910.795 152.616 910.054 L152.616 905.355 Q154.7 906.489 156.922 907.045 Q159.144 907.6 161.621 907.6 Q165.626 907.6 167.964 905.494 Q170.302 903.387 170.302 899.776 Q170.302 896.165 167.964 894.058 Q165.626 891.952 161.621 891.952 Q159.746 891.952 157.871 892.369 Q156.019 892.785 154.075 893.665 L154.075 876.304 Z\" fill=\"#000000\" fill-rule=\"evenodd\" fill-opacity=\"1\" /><path clip-path=\"url(#clip960)\" d=\"M123.681 660.523 L131.32 660.523 L131.32 634.157 L123.01 635.824 L123.01 631.565 L131.274 629.898 L135.95 629.898 L135.95 660.523 L143.589 660.523 L143.589 664.458 L123.681 664.458 L123.681 660.523 Z\" fill=\"#000000\" fill-rule=\"evenodd\" fill-opacity=\"1\" /><path clip-path=\"url(#clip960)\" d=\"M163.033 632.977 Q159.422 632.977 157.593 636.541 Q155.788 640.083 155.788 647.213 Q155.788 654.319 157.593 657.884 Q159.422 661.426 163.033 661.426 Q166.667 661.426 168.473 657.884 Q170.302 654.319 170.302 647.213 Q170.302 640.083 168.473 636.541 Q166.667 632.977 163.033 632.977 M163.033 629.273 Q168.843 629.273 171.899 633.879 Q174.977 638.463 174.977 647.213 Q174.977 655.939 171.899 660.546 Q168.843 665.129 163.033 665.129 Q157.223 665.129 154.144 660.546 Q151.089 655.939 151.089 647.213 Q151.089 638.463 154.144 633.879 Q157.223 629.273 163.033 629.273 Z\" fill=\"#000000\" fill-rule=\"evenodd\" fill-opacity=\"1\" /><path clip-path=\"url(#clip960)\" d=\"M124.677 414.117 L132.316 414.117 L132.316 387.751 L124.005 389.418 L124.005 385.159 L132.269 383.492 L136.945 383.492 L136.945 414.117 L144.584 414.117 L144.584 418.052 L124.677 418.052 L124.677 414.117 Z\" fill=\"#000000\" fill-rule=\"evenodd\" fill-opacity=\"1\" /><path clip-path=\"url(#clip960)\" d=\"M154.075 383.492 L172.431 383.492 L172.431 387.427 L158.357 387.427 L158.357 395.899 Q159.376 395.552 160.394 395.39 Q161.413 395.205 162.431 395.205 Q168.218 395.205 171.598 398.376 Q174.977 401.547 174.977 406.964 Q174.977 412.543 171.505 415.645 Q168.033 418.723 161.714 418.723 Q159.538 418.723 157.269 418.353 Q155.024 417.982 152.616 417.242 L152.616 412.543 Q154.7 413.677 156.922 414.232 Q159.144 414.788 161.621 414.788 Q165.626 414.788 167.964 412.682 Q170.302 410.575 170.302 406.964 Q170.302 403.353 167.964 401.246 Q165.626 399.14 161.621 399.14 Q159.746 399.14 157.871 399.557 Q156.019 399.973 154.075 400.853 L154.075 383.492 Z\" fill=\"#000000\" fill-rule=\"evenodd\" fill-opacity=\"1\" /><path clip-path=\"url(#clip960)\" d=\"M126.899 167.711 L143.218 167.711 L143.218 171.646 L121.274 171.646 L121.274 167.711 Q123.936 164.956 128.519 160.326 Q133.126 155.674 134.306 154.331 Q136.552 151.808 137.431 150.072 Q138.334 148.313 138.334 146.623 Q138.334 143.868 136.39 142.132 Q134.468 140.396 131.367 140.396 Q129.167 140.396 126.714 141.16 Q124.283 141.924 121.505 143.475 L121.505 138.753 Q124.33 137.618 126.783 137.04 Q129.237 136.461 131.274 136.461 Q136.644 136.461 139.839 139.146 Q143.033 141.831 143.033 146.322 Q143.033 148.452 142.223 150.373 Q141.436 152.271 139.329 154.864 Q138.751 155.535 135.649 158.752 Q132.547 161.947 126.899 167.711 Z\" fill=\"#000000\" fill-rule=\"evenodd\" fill-opacity=\"1\" /><path clip-path=\"url(#clip960)\" d=\"M163.033 140.165 Q159.422 140.165 157.593 143.729 Q155.788 147.271 155.788 154.401 Q155.788 161.507 157.593 165.072 Q159.422 168.613 163.033 168.613 Q166.667 168.613 168.473 165.072 Q170.302 161.507 170.302 154.401 Q170.302 147.271 168.473 143.729 Q166.667 140.165 163.033 140.165 M163.033 136.461 Q168.843 136.461 171.899 141.067 Q174.977 145.651 174.977 154.401 Q174.977 163.127 171.899 167.734 Q168.843 172.317 163.033 172.317 Q157.223 172.317 154.144 167.734 Q151.089 163.127 151.089 154.401 Q151.089 145.651 154.144 141.067 Q157.223 136.461 163.033 136.461 Z\" fill=\"#000000\" fill-rule=\"evenodd\" fill-opacity=\"1\" /><path clip-path=\"url(#clip960)\" d=\"M28.3562 756.711 L45.7028 769.602 L64.0042 756.043 L64.0042 762.95 L49.9996 773.326 L64.0042 783.702 L64.0042 790.609 L45.3526 776.763 L28.3562 789.431 L28.3562 782.524 L41.0558 773.071 L28.3562 763.618 L28.3562 756.711 Z\" fill=\"#000000\" fill-rule=\"evenodd\" fill-opacity=\"1\" /><path clip-path=\"url(#clip960)\" d=\"M1054.21 14.0809 L1054.21 22.0612 Q1049.55 19.8332 1045.42 18.7395 Q1041.28 17.6457 1037.44 17.6457 Q1030.75 17.6457 1027.11 20.2383 Q1023.5 22.8309 1023.5 27.611 Q1023.5 31.6214 1025.89 33.6873 Q1028.32 35.7128 1035.05 36.9686 L1039.99 37.9813 Q1049.14 39.7232 1053.48 44.1387 Q1057.85 48.5136 1057.85 55.8863 Q1057.85 64.6767 1051.94 69.2137 Q1046.06 73.7508 1034.68 73.7508 Q1030.39 73.7508 1025.53 72.7785 Q1020.7 71.8063 1015.52 69.9024 L1015.52 61.4765 Q1020.5 64.2716 1025.28 65.6895 Q1030.06 67.1073 1034.68 67.1073 Q1041.69 67.1073 1045.5 64.3527 Q1049.3 61.598 1049.3 56.4939 Q1049.3 52.0379 1046.55 49.5264 Q1043.84 47.0148 1037.6 45.759 L1032.61 44.7868 Q1023.46 42.9639 1019.37 39.075 Q1015.28 35.1862 1015.28 28.2591 Q1015.28 20.2383 1020.91 15.6203 Q1026.58 11.0023 1036.5 11.0023 Q1040.76 11.0023 1045.17 11.7719 Q1049.59 12.5416 1054.21 14.0809 Z\" fill=\"#000000\" fill-rule=\"evenodd\" fill-opacity=\"1\" /><path clip-path=\"url(#clip960)\" d=\"M1077.66 14.324 L1077.66 27.2059 L1093.01 27.2059 L1093.01 32.9987 L1077.66 32.9987 L1077.66 57.6282 Q1077.66 63.1779 1079.16 64.7578 Q1080.7 66.3376 1085.36 66.3376 L1093.01 66.3376 L1093.01 72.576 L1085.36 72.576 Q1076.73 72.576 1073.45 69.3758 Q1070.17 66.1351 1070.17 57.6282 L1070.17 32.9987 L1064.7 32.9987 L1064.7 27.2059 L1070.17 27.2059 L1070.17 14.324 L1077.66 14.324 Z\" fill=\"#000000\" fill-rule=\"evenodd\" fill-opacity=\"1\" /><path clip-path=\"url(#clip960)\" d=\"M1123.44 49.7694 Q1114.4 49.7694 1110.92 51.8354 Q1107.43 53.9013 1107.43 58.8839 Q1107.43 62.8538 1110.03 65.2034 Q1112.66 67.5124 1117.16 67.5124 Q1123.35 67.5124 1127.08 63.1374 Q1130.85 58.7219 1130.85 51.4303 L1130.85 49.7694 L1123.44 49.7694 M1138.3 46.6907 L1138.3 72.576 L1130.85 72.576 L1130.85 65.6895 Q1128.3 69.8214 1124.49 71.8063 Q1120.68 73.7508 1115.17 73.7508 Q1108.2 73.7508 1104.07 69.8619 Q1099.98 65.9325 1099.98 59.3701 Q1099.98 51.7138 1105.09 47.825 Q1110.23 43.9361 1120.4 43.9361 L1130.85 43.9361 L1130.85 43.2069 Q1130.85 38.0623 1127.45 35.2672 Q1124.08 32.4315 1117.97 32.4315 Q1114.08 32.4315 1110.39 33.3632 Q1106.71 34.295 1103.3 36.1584 L1103.3 29.2718 Q1107.39 27.692 1111.24 26.9223 Q1115.09 26.1121 1118.74 26.1121 Q1128.58 26.1121 1133.44 31.2163 Q1138.3 36.3204 1138.3 46.6907 Z\" fill=\"#000000\" fill-rule=\"evenodd\" fill-opacity=\"1\" /><path clip-path=\"url(#clip960)\" d=\"M1161.03 14.324 L1161.03 27.2059 L1176.38 27.2059 L1176.38 32.9987 L1161.03 32.9987 L1161.03 57.6282 Q1161.03 63.1779 1162.53 64.7578 Q1164.07 66.3376 1168.72 66.3376 L1176.38 66.3376 L1176.38 72.576 L1168.72 72.576 Q1160.1 72.576 1156.82 69.3758 Q1153.53 66.1351 1153.53 57.6282 L1153.53 32.9987 L1148.07 32.9987 L1148.07 27.2059 L1153.53 27.2059 L1153.53 14.324 L1161.03 14.324 Z\" fill=\"#000000\" fill-rule=\"evenodd\" fill-opacity=\"1\" /><path clip-path=\"url(#clip960)\" d=\"M1224.99 48.0275 L1224.99 51.6733 L1190.72 51.6733 Q1191.21 59.3701 1195.34 63.421 Q1199.51 67.4314 1206.92 67.4314 Q1211.22 67.4314 1215.23 66.3781 Q1219.28 65.3249 1223.25 63.2184 L1223.25 70.267 Q1219.24 71.9684 1215.03 72.8596 Q1210.81 73.7508 1206.48 73.7508 Q1195.62 73.7508 1189.26 67.4314 Q1182.94 61.1119 1182.94 50.3365 Q1182.94 39.1965 1188.94 32.6746 Q1194.97 26.1121 1205.18 26.1121 Q1214.34 26.1121 1219.64 32.0264 Q1224.99 37.9003 1224.99 48.0275 M1217.54 45.84 Q1217.46 39.7232 1214.1 36.0774 Q1210.77 32.4315 1205.26 32.4315 Q1199.03 32.4315 1195.26 35.9558 Q1191.53 39.4801 1190.96 45.8805 L1217.54 45.84 Z\" fill=\"#000000\" fill-rule=\"evenodd\" fill-opacity=\"1\" /><path clip-path=\"url(#clip960)\" d=\"M1263.92 12.096 L1272.1 12.096 L1272.1 36.8875 L1301.84 36.8875 L1301.84 12.096 L1310.02 12.096 L1310.02 72.576 L1301.84 72.576 L1301.84 43.7741 L1272.1 43.7741 L1272.1 72.576 L1263.92 72.576 L1263.92 12.096 Z\" fill=\"#000000\" fill-rule=\"evenodd\" fill-opacity=\"1\" /><path clip-path=\"url(#clip960)\" d=\"M1325.98 27.2059 L1333.43 27.2059 L1333.43 72.576 L1325.98 72.576 L1325.98 27.2059 M1325.98 9.54393 L1333.43 9.54393 L1333.43 18.9825 L1325.98 18.9825 L1325.98 9.54393 Z\" fill=\"#000000\" fill-rule=\"evenodd\" fill-opacity=\"1\" /><path clip-path=\"url(#clip960)\" d=\"M1377.95 28.5427 L1377.95 35.5912 Q1374.79 33.9709 1371.39 33.1607 Q1367.99 32.3505 1364.34 32.3505 Q1358.79 32.3505 1356 34.0519 Q1353.24 35.7533 1353.24 39.156 Q1353.24 41.7486 1355.23 43.2475 Q1357.21 44.7058 1363.21 46.0426 L1365.76 46.6097 Q1373.7 48.3111 1377.02 51.4303 Q1380.38 54.509 1380.38 60.0587 Q1380.38 66.3781 1375.36 70.0644 Q1370.38 73.7508 1361.63 73.7508 Q1357.98 73.7508 1354.01 73.0216 Q1350.08 72.3329 1345.71 70.9151 L1345.71 63.2184 Q1349.84 65.3654 1353.85 66.4591 Q1357.86 67.5124 1361.79 67.5124 Q1367.06 67.5124 1369.89 65.73 Q1372.73 63.9071 1372.73 60.6258 Q1372.73 57.5877 1370.66 55.9673 Q1368.64 54.3469 1361.71 52.8481 L1359.12 52.2405 Q1352.19 50.7821 1349.11 47.7845 Q1346.03 44.7463 1346.03 39.4801 Q1346.03 33.0797 1350.57 29.5959 Q1355.11 26.1121 1363.45 26.1121 Q1367.58 26.1121 1371.23 26.7198 Q1374.88 27.3274 1377.95 28.5427 Z\" fill=\"#000000\" fill-rule=\"evenodd\" fill-opacity=\"1\" /><path clip-path=\"url(#clip960)\" d=\"M1399.63 14.324 L1399.63 27.2059 L1414.98 27.2059 L1414.98 32.9987 L1399.63 32.9987 L1399.63 57.6282 Q1399.63 63.1779 1401.13 64.7578 Q1402.66 66.3376 1407.32 66.3376 L1414.98 66.3376 L1414.98 72.576 L1407.32 72.576 Q1398.69 72.576 1395.41 69.3758 Q1392.13 66.1351 1392.13 57.6282 L1392.13 32.9987 L1386.66 32.9987 L1386.66 27.2059 L1392.13 27.2059 L1392.13 14.324 L1399.63 14.324 Z\" fill=\"#000000\" fill-rule=\"evenodd\" fill-opacity=\"1\" /><path clip-path=\"url(#clip960)\" d=\"M1442.36 32.4315 Q1436.37 32.4315 1432.88 37.1306 Q1429.4 41.7891 1429.4 49.9314 Q1429.4 58.0738 1432.84 62.7728 Q1436.33 67.4314 1442.36 67.4314 Q1448.32 67.4314 1451.8 62.7323 Q1455.29 58.0333 1455.29 49.9314 Q1455.29 41.8701 1451.8 37.1711 Q1448.32 32.4315 1442.36 32.4315 M1442.36 26.1121 Q1452.09 26.1121 1457.64 32.4315 Q1463.19 38.7509 1463.19 49.9314 Q1463.19 61.0714 1457.64 67.4314 Q1452.09 73.7508 1442.36 73.7508 Q1432.6 73.7508 1427.05 67.4314 Q1421.54 61.0714 1421.54 49.9314 Q1421.54 38.7509 1427.05 32.4315 Q1432.6 26.1121 1442.36 26.1121 Z\" fill=\"#000000\" fill-rule=\"evenodd\" fill-opacity=\"1\" /><path clip-path=\"url(#clip960)\" d=\"M1501.83 34.1734 Q1500.57 33.4443 1499.08 33.1202 Q1497.62 32.7556 1495.84 32.7556 Q1489.52 32.7556 1486.11 36.8875 Q1482.75 40.9789 1482.75 48.6757 L1482.75 72.576 L1475.26 72.576 L1475.26 27.2059 L1482.75 27.2059 L1482.75 34.2544 Q1485.1 30.1225 1488.87 28.1376 Q1492.64 26.1121 1498.02 26.1121 Q1498.79 26.1121 1499.72 26.2337 Q1500.66 26.3147 1501.79 26.5172 L1501.83 34.1734 Z\" fill=\"#000000\" fill-rule=\"evenodd\" fill-opacity=\"1\" /><path clip-path=\"url(#clip960)\" d=\"M1528.53 76.7889 Q1525.37 84.8907 1522.37 87.3618 Q1519.37 89.8329 1514.35 89.8329 L1508.39 89.8329 L1508.39 83.5945 L1512.77 83.5945 Q1515.85 83.5945 1517.55 82.1361 Q1519.25 80.6778 1521.32 75.2496 L1522.65 71.8468 L1504.3 27.2059 L1512.2 27.2059 L1526.38 62.6918 L1540.56 27.2059 L1548.46 27.2059 L1528.53 76.7889 Z\" fill=\"#000000\" fill-rule=\"evenodd\" fill-opacity=\"1\" /><polyline clip-path=\"url(#clip962)\" style=\"stroke:#009af9; stroke-linecap:round; stroke-linejoin:round; stroke-width:4; stroke-opacity:1; fill:none\" points=\"271.594,939.935 278.836,925.081 286.078,927.954 293.32,934.025 300.562,941.776 307.804,950.389 315.046,954.037 322.288,960.408 329.531,974.865 336.773,981.998 344.015,1001.05 351.257,1021.78 358.499,1019.14 365.741,1009.14 372.983,1009.53 380.225,1014.02 387.467,1019.22 394.709,1036.64 401.952,1043.02 409.194,1044.7 416.436,1059.47 423.678,1076.71 430.92,1077.52 438.162,1075.78 445.404,1087.3 452.646,1095.49 459.888,1101.7 467.13,1106.88 474.373,1112.79 481.615,1109.99 488.857,1114.62 496.099,1115.74 503.341,1118.81 510.583,1120.21 517.825,1128.8 525.067,1129.09 532.309,1132.47 539.551,1132.79 546.794,1140.3 554.036,1141.24 561.278,1149.64 568.52,1149.8 575.762,1153.05 583.004,1175.94 590.246,1171.47 597.488,1175.99 604.73,1185.86 611.972,1198.43 619.215,1204.59 626.457,1204.17 633.699,1209.25 640.941,1219.39 648.183,1237.82 655.425,1242.1 662.667,1242.36 669.909,1242.66 677.151,1248.53 684.393,1250.97 691.636,1257.3 698.878,1257.43 706.12,1257.21 713.362,1261.69 720.604,1266.67 727.846,1270.08 735.088,1267.78 742.33,1271.58 749.572,1271.61 756.814,1273.9 764.057,1277.06 771.299,1275.12 778.541,1275.38 785.783,1270.63 793.025,1271.18 800.267,1277.13 807.509,1281.2 814.751,1287.9 821.993,1294.39 829.235,1293.67 836.478,1289.09 843.72,1288.99 850.962,1285.05 858.204,1281.77 865.446,1279.57 872.688,1284 879.93,1284.44 887.172,1284.68 894.414,1285.73 901.656,1288.43 908.899,1292.65 916.141,1295.4 923.383,1297.73 930.625,1296.88 937.867,1296.66 945.109,1299.31 952.351,1297.45 959.593,1298.87 966.835,1299.73 974.077,1301.33 981.32,1302.13 988.562,1305.63 995.804,1306.87 1003.05,1305.32 1010.29,1306.53 1017.53,1307.62 1024.77,1313.39 1032.01,1315.27 1039.26,1316.22 1046.5,1319.47 1053.74,1314.8 1060.98,1319.66 1068.22,1315.86 1075.47,1313.79 1082.71,1311.09 1089.95,1309.08 1097.19,1304.94 1104.44,1307.67 1111.68,1309.39 1118.92,1311.64 1126.16,1311.13 1133.4,1309.31 1140.65,1303.94 1147.89,1302.65 1155.13,1304.98 1162.37,1299.94 1169.61,1299.31 1176.86,1304.75 1184.1,1304.29 1191.34,1303.4 1198.58,1305.79 1205.82,1308.32 1213.07,1306.79 1220.31,1305.96 1227.55,1305.47 1234.79,1304.64 1242.04,1308.06 1249.28,1311.31 1256.52,1308.77 1263.76,1305.44 1271,1306.92 1278.25,1306.3 1285.49,1305.03 1292.73,1304.8 1299.97,1311.28 1307.21,1307.25 1314.46,1307.29 1321.7,1303.5 1328.94,1304.44 1336.18,1299.12 1343.42,1298.27 1350.67,1296.07 1357.91,1296.86 1365.15,1296.88 1372.39,1296.14 1379.64,1296.86 1386.88,1297.06 1394.12,1294.87 1401.36,1295.46 1408.6,1294.75 1415.85,1296.08 1423.09,1295.79 1430.33,1294.77 1437.57,1294.83 1444.81,1292.74 1452.06,1295.11 1459.3,1296.19 1466.54,1293.71 1473.78,1293.26 1481.02,1292.47 1488.27,1295.77 1495.51,1295.81 1502.75,1296.03 1509.99,1293.22 1517.23,1289.36 1524.48,1284.97 1531.72,1285.23 1538.96,1282.61 1546.2,1282.3 1553.45,1282.94 1560.69,1285.11 1567.93,1286.42 1575.17,1284.18 1582.41,1282.27 1589.66,1278.27 1596.9,1275.62 1604.14,1274.93 1611.38,1273.9 1618.62,1269.92 1625.87,1270.91 1633.11,1268.67 1640.35,1266.76 1647.59,1265.37 1654.83,1267.85 1662.08,1266.37 1669.32,1261.07 1676.56,1258.03 1683.8,1256.01 1691.05,1255.56 1698.29,1253.48 1705.53,1251.07 1712.77,1246.39 1720.01,1244.19 1727.26,1241.08 1734.5,1238.49 1741.74,1236.63 1748.98,1235.36 1756.22,1233.76 1763.47,1232.51 1770.71,1231.41 1777.95,1229.28 1785.19,1225.85 1792.43,1223.59 1799.68,1223.71 1806.92,1220.42 1814.16,1220.28 1821.4,1217.97 1828.65,1216.39 1835.89,1215.12 1843.13,1215.02 1850.37,1210.64 1857.61,1208.25 1864.86,1208.43 1872.1,1208.13 1879.34,1206.53 1886.58,1205.09 1893.82,1203.89 1901.07,1203.79 1908.31,1202.43 1915.55,1200.26 1922.79,1198.14 1930.03,1196.62 1937.28,1195.4 1944.52,1194.49 1951.76,1194.56 1959,1194.76 1966.25,1193.27 1973.49,1193.42 1980.73,1192.71 1987.97,1190.81 1995.21,1188.36 2002.46,1188.31 2009.7,1186.63 2016.94,1184.68 2024.18,1182.75 2031.42,1180.61 2038.67,1178.84 2045.91,1178.25 2053.15,1177.35 2060.39,1176.15 2067.63,1175.41 2074.88,1174.17 2082.12,1172.92 2089.36,1171.79 2096.6,1170.9 2103.84,1170.14 2111.09,1169.18 2118.33,1168.76 2125.57,1168.34 2132.81,1167.54 2140.06,1166.22 2147.3,1165.76 2154.54,1164.15 2161.78,1162.93 2169.02,1161.89 2176.27,1161.03 2183.51,1159.58 2190.75,1158.48 2197.99,1157.19 2205.23,1156.26 2212.48,1155.47 2219.72,1154.33 2226.96,1153.17 2234.2,1152.21 2241.44,1151.58 2248.69,1150.88 2255.93,1149.94 2263.17,1149.29 2270.41,1148.76 2277.66,1148.1 2284.9,1147.28 2292.14,1146.64 \"/>\n",
       "<polyline clip-path=\"url(#clip962)\" style=\"stroke:#e26f46; stroke-linecap:round; stroke-linejoin:round; stroke-width:4; stroke-opacity:1; fill:none\" points=\"271.594,1037.66 278.836,1054.7 286.078,1054.88 293.32,1057.32 300.562,1040.23 307.804,1054.82 315.046,1055.99 322.288,1048.37 329.531,1033.81 336.773,1032.4 344.015,1032.37 351.257,1025.33 358.499,1031.43 365.741,1034.06 372.983,1031.06 380.225,1023.33 387.467,1025.12 394.709,1035.04 401.952,1035.37 409.194,1039.98 416.436,1045.08 423.678,1059.51 430.92,1050.36 438.162,1033.54 445.404,1035.54 452.646,1031.91 459.888,1030.65 467.13,1028.23 474.373,1016.51 481.615,1008.04 488.857,1000.26 496.099,984.403 503.341,976.514 510.583,961.604 517.825,954.271 525.067,959.58 532.309,952.342 539.551,946.6 546.794,939.745 554.036,940.51 561.278,931.403 568.52,927.24 575.762,924.266 583.004,916.95 590.246,921.375 597.488,918.357 604.73,913.115 611.972,903.535 619.215,899.574 626.457,902.12 633.699,898.488 640.941,893.469 648.183,896.331 655.425,897.453 662.667,888.631 669.909,886.235 677.151,878.908 684.393,883.076 691.636,882.39 698.878,879.883 706.12,878.107 713.362,879.213 720.604,872.438 727.846,877.447 735.088,877.462 742.33,875.706 749.572,870.435 756.814,867.066 764.057,864.894 771.299,865.796 778.541,862.944 785.783,859.199 793.025,859.692 800.267,857.41 807.509,854.633 814.751,855.398 821.993,853.077 829.235,850.087 836.478,853.687 843.72,856.46 850.962,852.296 858.204,848.024 865.446,841.299 872.688,841.223 879.93,838.541 887.172,839.752 894.414,840.766 901.656,845.568 908.899,842.162 916.141,842.743 923.383,845.446 930.625,845.632 937.867,844.203 945.109,847.895 952.351,845.37 959.593,849.434 966.835,849.422 974.077,850.169 981.32,853.215 988.562,852.768 995.804,850.428 1003.05,849.704 1010.29,851.528 1017.53,848.937 1024.77,846.574 1032.01,842.4 1039.26,839.636 1046.5,845.843 1053.74,847.422 1060.98,849.012 1068.22,849.291 1075.47,850.365 1082.71,847.723 1089.95,842.724 1097.19,840.568 1104.44,843.874 1111.68,849.155 1118.92,852.869 1126.16,858.619 1133.4,858.373 1140.65,861.399 1147.89,863.82 1155.13,866.523 1162.37,866.336 1169.61,871.326 1176.86,874.078 1184.1,878.228 1191.34,878.936 1198.58,881.005 1205.82,882.276 1213.07,882.693 1220.31,883.594 1227.55,883.148 1234.79,882.793 1242.04,879.925 1249.28,880.48 1256.52,880.835 1263.76,883.12 1271,885.858 1278.25,881.982 1285.49,883.062 1292.73,885.383 1299.97,888.673 1307.21,889.63 1314.46,890.907 1321.7,895.419 1328.94,895.61 1336.18,893.917 1343.42,893.481 1350.67,898.529 1357.91,904.857 1365.15,909.278 1372.39,911.455 1379.64,912.163 1386.88,910.245 1394.12,908.383 1401.36,910.324 1408.6,914.389 1415.85,915.97 1423.09,916.518 1430.33,919.921 1437.57,923.596 1444.81,927.915 1452.06,929.578 1459.3,931.991 1466.54,936.864 1473.78,938.239 1481.02,939.897 1488.27,938.7 1495.51,940.47 1502.75,943.086 1509.99,943.045 1517.23,944.072 1524.48,944.021 1531.72,944.612 1538.96,944.844 1546.2,944.524 1553.45,945.532 1560.69,947.992 1567.93,950.265 1575.17,953.852 1582.41,956.353 1589.66,959.06 1596.9,959.556 1604.14,962.232 1611.38,962.747 1618.62,964.459 1625.87,969.893 1633.11,971.453 1640.35,972.991 1647.59,975.677 1654.83,979.978 1662.08,980.768 1669.32,982.997 1676.56,987.317 1683.8,992.419 1691.05,996.563 1698.29,998.401 1705.53,1000.28 1712.77,1001.93 1720.01,1004.56 1727.26,1006.18 1734.5,1007.44 1741.74,1011.72 1748.98,1013.79 1756.22,1015.71 1763.47,1017.09 1770.71,1019.57 1777.95,1021.37 1785.19,1024.57 1792.43,1026.67 1799.68,1028.14 1806.92,1029.34 1814.16,1031.61 1821.4,1033.2 1828.65,1034.55 1835.89,1034.3 1843.13,1035.48 1850.37,1039.34 1857.61,1041.25 1864.86,1041.86 1872.1,1043.71 1879.34,1044.64 1886.58,1046.28 1893.82,1046.01 1901.07,1048.6 1908.31,1050.97 1915.55,1053.88 1922.79,1057.47 1930.03,1058.86 1937.28,1061.53 1944.52,1062.63 1951.76,1064.44 1959,1066.58 1966.25,1067.46 1973.49,1068.87 1980.73,1070.27 1987.97,1071.66 1995.21,1072.37 2002.46,1075.34 2009.7,1077.45 2016.94,1079.51 2024.18,1080.7 2031.42,1081.54 2038.67,1084.2 2045.91,1085.77 2053.15,1087.34 2060.39,1089.78 2067.63,1091.21 2074.88,1093.05 2082.12,1094.62 2089.36,1096.11 2096.6,1097.71 2103.84,1099.27 2111.09,1100.96 2118.33,1101.59 2125.57,1102.99 2132.81,1104.44 2140.06,1105.96 2147.3,1107.79 2154.54,1108.8 2161.78,1110.05 2169.02,1111.53 2176.27,1113.24 2183.51,1114 2190.75,1115.57 2197.99,1117.05 2205.23,1118.34 2212.48,1119.52 2219.72,1120.57 2226.96,1122.01 2234.2,1122.83 2241.44,1123.89 2248.69,1125.02 2255.93,1125.94 2263.17,1126.99 2270.41,1128.12 2277.66,1129.02 2284.9,1129.73 2292.14,1130.56 \"/>\n",
       "<polyline clip-path=\"url(#clip962)\" style=\"stroke:#3da44d; stroke-linecap:round; stroke-linejoin:round; stroke-width:4; stroke-opacity:1; fill:none\" points=\"271.594,160.256 278.836,167.404 286.078,175.665 293.32,204.229 300.562,216.903 307.804,229.405 315.046,247.17 322.288,243.565 329.531,267.082 336.773,295.859 344.015,315.258 351.257,338.284 358.499,362.002 365.741,364.181 372.983,378.614 380.225,387.749 387.467,411.01 394.709,411.215 401.952,418.658 409.194,434.952 416.436,454.474 423.678,467.235 430.92,487.825 438.162,497.971 445.404,512.367 452.646,515.57 459.888,511.374 467.13,519.829 474.373,527.937 481.615,533.973 488.857,540.92 496.099,548.738 503.341,553.859 510.583,571.561 517.825,591.32 525.067,602.561 532.309,609.667 539.551,622.582 546.794,625.959 554.036,632.463 561.278,644.75 568.52,651.192 575.762,659.563 583.004,665.039 590.246,670.049 597.488,670.598 604.73,671.316 611.972,680.912 619.215,688.58 626.457,685.038 633.699,687.046 640.941,692.741 648.183,697.2 655.425,713.364 662.667,723.117 669.909,732.223 677.151,736.179 684.393,749.785 691.636,757.031 698.878,765.557 706.12,771.912 713.362,775.583 720.604,784.639 727.846,792.16 735.088,796.243 742.33,801.808 749.572,809.743 756.814,812.801 764.057,818.335 771.299,824.455 778.541,831.241 785.783,836.775 793.025,843.218 800.267,847.582 807.509,851.953 814.751,852.314 821.993,855.971 829.235,858.483 836.478,867.763 843.72,867.341 850.962,871.374 858.204,879.949 865.446,883.982 872.688,887.604 879.93,894.908 887.172,898.06 894.414,899.304 901.656,905.674 908.899,905.474 916.141,909.971 923.383,915.703 930.625,915.01 937.867,916.317 945.109,921.088 952.351,925.817 959.593,931.694 966.835,936.206 974.077,944.484 981.32,946.413 988.562,951.839 995.804,952.291 1003.05,955.054 1010.29,958.832 1017.53,958.829 1024.77,959.162 1032.01,963.551 1039.26,969.971 1046.5,973.599 1053.74,984.264 1060.98,991.775 1068.22,993.146 1075.47,995.823 1082.71,997.143 1089.95,1000.39 1097.19,1003.28 1104.44,1007.23 1111.68,1010.98 1118.92,1011.67 1126.16,1019.61 1133.4,1020.65 1140.65,1018.13 1147.89,1019.78 1155.13,1021.44 1162.37,1025 1169.61,1029.37 1176.86,1031.77 1184.1,1032.88 1191.34,1034.99 1198.58,1038.85 1205.82,1039.72 1213.07,1041.11 1220.31,1041.22 1227.55,1042.83 1234.79,1046.4 1242.04,1053.01 1249.28,1057.53 1256.52,1062.19 1263.76,1062.7 1271,1065.96 1278.25,1066.54 1285.49,1069.89 1292.73,1072.12 1299.97,1069.23 1307.21,1069.12 1314.46,1070.43 1321.7,1073.4 1328.94,1079.9 1336.18,1081.95 1343.42,1081.37 1350.67,1084.17 1357.91,1088.49 1365.15,1087.2 1372.39,1089.35 1379.64,1093.55 1386.88,1095.76 1394.12,1095.86 1401.36,1098.62 1408.6,1099.39 1415.85,1098.6 1423.09,1103.82 1430.33,1108.04 1437.57,1111.08 1444.81,1110.03 1452.06,1111.83 1459.3,1114.69 1466.54,1115.53 1473.78,1117.81 1481.02,1118.76 1488.27,1119.15 1495.51,1123.87 1502.75,1131.36 1509.99,1132.37 1517.23,1134.07 1524.48,1133.57 1531.72,1134.72 1538.96,1134.67 1546.2,1139.29 1553.45,1140.86 1560.69,1141.56 1567.93,1143.49 1575.17,1144.38 1582.41,1145.76 1589.66,1146.58 1596.9,1145.36 1604.14,1145.08 1611.38,1148.5 1618.62,1153.44 1625.87,1153.43 1633.11,1151.65 1640.35,1150.3 1647.59,1149.96 1654.83,1148.33 1662.08,1148.97 1669.32,1150.03 1676.56,1153.85 1683.8,1154.09 1691.05,1155.87 1698.29,1157.64 1705.53,1160.01 1712.77,1158.71 1720.01,1159.61 1727.26,1159.64 1734.5,1157.14 1741.74,1154.72 1748.98,1154.33 1756.22,1155.39 1763.47,1154.87 1770.71,1154.23 1777.95,1154.72 1785.19,1155.31 1792.43,1156.56 1799.68,1159.32 1806.92,1161.49 1814.16,1162.29 1821.4,1164.85 1828.65,1163.84 1835.89,1163.32 1843.13,1162.34 1850.37,1163.43 1857.61,1161.93 1864.86,1161.77 1872.1,1161.83 1879.34,1161.93 1886.58,1162.52 1893.82,1161.53 1901.07,1160.79 1908.31,1159.73 1915.55,1160.49 1922.79,1160.26 1930.03,1161.59 1937.28,1161.73 1944.52,1160.24 1951.76,1159.98 1959,1159.01 1966.25,1158.84 1973.49,1159.99 1980.73,1160.46 1987.97,1160.94 1995.21,1160.46 2002.46,1160.79 2009.7,1161.91 2016.94,1160.81 2024.18,1161.2 2031.42,1161.28 2038.67,1160.12 2045.91,1158.92 2053.15,1158.41 2060.39,1158.39 2067.63,1157.95 2074.88,1157.03 2082.12,1156.47 2089.36,1155.75 2096.6,1154.99 2103.84,1154.67 2111.09,1154.76 2118.33,1153.96 2125.57,1153.76 2132.81,1153.38 2140.06,1153.32 2147.3,1153.33 2154.54,1152.68 2161.78,1152.96 2169.02,1152.79 2176.27,1152.62 2183.51,1152.51 2190.75,1151.9 2197.99,1151.72 2205.23,1151.2 2212.48,1150.99 2219.72,1150.83 2226.96,1150.75 2234.2,1150.51 2241.44,1150.02 2248.69,1149.63 2255.93,1149.16 2263.17,1148.82 2270.41,1148.36 2277.66,1148.08 2284.9,1147.69 2292.14,1147.35 \"/>\n",
       "<polyline clip-path=\"url(#clip962)\" style=\"stroke:#c271d2; stroke-linecap:round; stroke-linejoin:round; stroke-width:4; stroke-opacity:1; fill:none\" stroke-dasharray=\"16, 10\" points=\"271.594,1287.83 278.836,1286.16 286.078,1284.97 293.32,1283.85 300.562,1282.74 307.804,1281.59 315.046,1280.4 322.288,1279.26 329.531,1278.11 336.773,1276.8 344.015,1275.48 351.257,1273.91 358.499,1272.08 365.741,1270.44 372.983,1269.13 380.225,1267.92 387.467,1266.73 394.709,1265.55 401.952,1264.15 409.194,1262.74 416.436,1261.41 423.678,1259.92 430.92,1258.21 438.162,1256.6 445.404,1255.16 452.646,1253.6 459.888,1252 467.13,1250.4 474.373,1248.81 481.615,1247.23 488.857,1245.81 496.099,1244.4 503.341,1243.08 510.583,1241.79 517.825,1240.57 525.067,1239.28 532.309,1238.07 539.551,1236.89 546.794,1235.78 554.036,1234.62 561.278,1233.51 568.52,1232.33 575.762,1231.22 583.004,1230.13 590.246,1228.68 597.488,1227.4 604.73,1226.12 611.972,1224.73 619.215,1223.19 626.457,1221.62 633.699,1220.15 640.941,1218.67 648.183,1217.09 655.425,1215.36 662.667,1213.64 669.909,1212.01 677.151,1210.36 684.393,1208.79 691.636,1207.15 698.878,1205.48 706.12,1203.9 713.362,1202.4 720.604,1200.9 727.846,1199.38 735.088,1197.87 742.33,1196.48 749.572,1195.1 756.814,1193.78 764.057,1192.49 771.299,1191.19 778.541,1190 785.783,1188.86 793.025,1187.86 800.267,1186.91 807.509,1185.88 814.751,1184.82 821.993,1183.68 829.235,1182.47 836.478,1181.32 843.72,1180.32 850.962,1179.36 858.204,1178.51 865.446,1177.76 872.688,1177.08 879.93,1176.33 887.172,1175.61 894.414,1174.91 901.656,1174.21 908.899,1173.48 916.141,1172.7 923.383,1171.89 930.625,1171.06 937.867,1170.27 945.109,1169.52 952.351,1168.73 959.593,1168 966.835,1167.27 974.077,1166.54 981.32,1165.8 988.562,1165.06 995.804,1164.27 1003.05,1163.48 1010.29,1162.74 1017.53,1161.99 1024.77,1161.24 1032.01,1160.39 1039.26,1159.53 1046.5,1158.67 1053.74,1157.77 1060.98,1156.98 1068.22,1156.12 1075.47,1155.34 1082.71,1154.62 1089.95,1153.96 1097.19,1153.35 1104.44,1152.82 1111.68,1152.24 1118.92,1151.63 1126.16,1150.99 1133.4,1150.35 1140.65,1149.76 1147.89,1149.28 1155.13,1148.81 1162.37,1148.29 1169.61,1147.87 1176.86,1147.46 1184.1,1146.93 1191.34,1146.41 1198.58,1145.9 1205.82,1145.34 1213.07,1144.73 1220.31,1144.15 1227.55,1143.59 1234.79,1143.03 1242.04,1142.48 1249.28,1141.87 1256.52,1141.19 1263.76,1140.56 1271,1140 1278.25,1139.4 1285.49,1138.82 1292.73,1138.25 1299.97,1137.69 1307.21,1136.99 1314.46,1136.38 1321.7,1135.76 1328.94,1135.21 1336.18,1134.63 1343.42,1134.15 1350.67,1133.68 1357.91,1133.24 1365.15,1132.78 1372.39,1132.3 1379.64,1131.83 1386.88,1131.33 1394.12,1130.82 1401.36,1130.34 1408.6,1129.85 1415.85,1129.35 1423.09,1128.82 1430.33,1128.29 1437.57,1127.77 1444.81,1127.24 1452.06,1126.74 1459.3,1126.18 1466.54,1125.6 1473.78,1125.06 1481.02,1124.52 1488.27,1123.99 1495.51,1123.38 1502.75,1122.78 1509.99,1122.16 1517.23,1121.59 1524.48,1121.09 1531.72,1120.67 1538.96,1120.22 1546.2,1119.82 1553.45,1119.41 1560.69,1118.97 1567.93,1118.47 1575.17,1117.95 1582.41,1117.46 1589.66,1117 1596.9,1116.6 1604.14,1116.24 1611.38,1115.88 1618.62,1115.52 1625.87,1115.23 1633.11,1114.9 1640.35,1114.6 1647.59,1114.32 1654.83,1114.04 1662.08,1113.7 1669.32,1113.38 1676.56,1113.14 1683.8,1112.95 1691.05,1112.77 1698.29,1112.58 1705.53,1112.4 1712.77,1112.26 1720.01,1112.18 1727.26,1112.12 1734.5,1112.09 1741.74,1112.09 1748.98,1112.09 1756.22,1112.09 1763.47,1112.1 1770.71,1112.1 1777.95,1112.1 1785.19,1112.12 1792.43,1112.17 1799.68,1112.24 1806.92,1112.28 1814.16,1112.35 1821.4,1112.41 1828.65,1112.48 1835.89,1112.55 1843.13,1112.63 1850.37,1112.68 1857.61,1112.78 1864.86,1112.92 1872.1,1113.02 1879.34,1113.1 1886.58,1113.19 1893.82,1113.28 1901.07,1113.37 1908.31,1113.44 1915.55,1113.52 1922.79,1113.62 1930.03,1113.73 1937.28,1113.86 1944.52,1113.98 1951.76,1114.11 1959,1114.21 1966.25,1114.29 1973.49,1114.38 1980.73,1114.46 1987.97,1114.53 1995.21,1114.62 2002.46,1114.74 2009.7,1114.85 2016.94,1114.98 2024.18,1115.13 2031.42,1115.3 2038.67,1115.5 2045.91,1115.72 2053.15,1115.93 2060.39,1116.14 2067.63,1116.36 2074.88,1116.58 2082.12,1116.81 2089.36,1117.05 2096.6,1117.3 2103.84,1117.55 2111.09,1117.81 2118.33,1118.07 2125.57,1118.33 2132.81,1118.59 2140.06,1118.85 2147.3,1119.13 2154.54,1119.42 2161.78,1119.72 2169.02,1120.04 2176.27,1120.37 2183.51,1120.71 2190.75,1121.07 2197.99,1121.44 2205.23,1121.84 2212.48,1122.24 2219.72,1122.65 2226.96,1123.07 2234.2,1123.52 2241.44,1123.97 2248.69,1124.43 2255.93,1124.9 2263.17,1125.38 2270.41,1125.87 2277.66,1126.37 2284.9,1126.88 2292.14,1127.4 \"/>\n",
       "<polyline clip-path=\"url(#clip962)\" style=\"stroke:#ac8d18; stroke-linecap:round; stroke-linejoin:round; stroke-width:4; stroke-opacity:1; fill:none\" stroke-dasharray=\"16, 10\" points=\"271.594,1041.43 278.836,1042.84 286.078,1043.9 293.32,1044.88 300.562,1045.73 307.804,1046.84 315.046,1047.59 322.288,1048.25 329.531,1049 336.773,1049.96 344.015,1050.88 351.257,1051.73 358.499,1052.65 365.741,1053.39 372.983,1054.03 380.225,1054.67 387.467,1055.4 394.709,1056.05 401.952,1056.47 409.194,1056.84 416.436,1057.09 423.678,1057.22 430.92,1057.05 438.162,1057.05 445.404,1057.35 452.646,1057.6 459.888,1057.89 467.13,1058.18 474.373,1058.5 481.615,1059.01 488.857,1059.65 496.099,1060.4 503.341,1061.42 510.583,1062.53 517.825,1063.86 525.067,1065.28 532.309,1066.52 539.551,1067.83 546.794,1069.19 554.036,1070.62 561.278,1071.97 568.52,1073.42 575.762,1074.89 583.004,1076.35 590.246,1077.88 597.488,1079.25 604.73,1080.63 611.972,1082.04 619.215,1083.58 626.457,1085.12 633.699,1086.55 640.941,1087.99 648.183,1089.47 655.425,1090.75 662.667,1091.97 669.909,1093.29 677.151,1094.7 684.393,1096.1 691.636,1097.45 698.878,1098.77 706.12,1100.09 713.362,1101.39 720.604,1102.63 727.846,1103.95 735.088,1105.13 742.33,1106.28 749.572,1107.42 756.814,1108.62 764.057,1109.85 771.299,1111.08 778.541,1112.26 785.783,1113.45 793.025,1114.68 800.267,1115.87 807.509,1117.06 814.751,1118.27 821.993,1119.44 829.235,1120.61 836.478,1121.81 843.72,1122.91 850.962,1123.94 858.204,1125.01 865.446,1126.15 872.688,1127.38 879.93,1128.58 887.172,1129.81 894.414,1130.98 901.656,1132.1 908.899,1133.11 916.141,1134.17 923.383,1135.19 930.625,1136.15 937.867,1137.08 945.109,1138.03 952.351,1138.9 959.593,1139.8 966.835,1140.61 974.077,1141.42 981.32,1142.21 988.562,1142.94 995.804,1143.68 1003.05,1144.45 1010.29,1145.24 1017.53,1145.99 1024.77,1146.79 1032.01,1147.63 1039.26,1148.54 1046.5,1149.5 1053.74,1150.33 1060.98,1151.13 1068.22,1151.9 1075.47,1152.66 1082.71,1153.41 1089.95,1154.2 1097.19,1155.09 1104.44,1156.02 1111.68,1156.88 1118.92,1157.63 1126.16,1158.32 1133.4,1158.9 1140.65,1159.5 1147.89,1160.06 1155.13,1160.58 1162.37,1161.06 1169.61,1161.56 1176.86,1161.99 1184.1,1162.38 1191.34,1162.72 1198.58,1163.06 1205.82,1163.39 1213.07,1163.72 1220.31,1164.07 1227.55,1164.43 1234.79,1164.81 1242.04,1165.23 1249.28,1165.73 1256.52,1166.23 1263.76,1166.74 1271,1167.22 1278.25,1167.67 1285.49,1168.22 1292.73,1168.76 1299.97,1169.27 1307.21,1169.74 1314.46,1170.21 1321.7,1170.67 1328.94,1171.07 1336.18,1171.49 1343.42,1171.96 1350.67,1172.46 1357.91,1172.88 1365.15,1173.2 1372.39,1173.47 1379.64,1173.72 1386.88,1173.99 1394.12,1174.32 1401.36,1174.72 1408.6,1175.1 1415.85,1175.43 1423.09,1175.76 1430.33,1176.1 1437.57,1176.4 1444.81,1176.65 1452.06,1176.86 1459.3,1177.06 1466.54,1177.25 1473.78,1177.37 1481.02,1177.51 1488.27,1177.65 1495.51,1177.84 1502.75,1178.03 1509.99,1178.21 1517.23,1178.41 1524.48,1178.63 1531.72,1178.87 1538.96,1179.14 1546.2,1179.42 1553.45,1179.74 1560.69,1180.06 1567.93,1180.35 1575.17,1180.63 1582.41,1180.87 1589.66,1181.08 1596.9,1181.27 1604.14,1181.48 1611.38,1181.67 1618.62,1181.87 1625.87,1182.07 1633.11,1182.19 1640.35,1182.31 1647.59,1182.43 1654.83,1182.53 1662.08,1182.58 1669.32,1182.64 1676.56,1182.69 1683.8,1182.7 1691.05,1182.64 1698.29,1182.53 1705.53,1182.43 1712.77,1182.33 1720.01,1182.24 1727.26,1182.13 1734.5,1182.03 1741.74,1181.94 1748.98,1181.81 1756.22,1181.67 1763.47,1181.53 1770.71,1181.4 1777.95,1181.25 1785.19,1181.11 1792.43,1180.94 1799.68,1180.77 1806.92,1180.6 1814.16,1180.45 1821.4,1180.29 1828.65,1180.13 1835.89,1179.97 1843.13,1179.86 1850.37,1179.75 1857.61,1179.59 1864.86,1179.43 1872.1,1179.29 1879.34,1179.14 1886.58,1179 1893.82,1178.85 1901.07,1178.74 1908.31,1178.61 1915.55,1178.45 1922.79,1178.27 1930.03,1178.04 1937.28,1177.81 1944.52,1177.56 1951.76,1177.32 1959,1177.07 1966.25,1176.8 1973.49,1176.55 1980.73,1176.29 1987.97,1176.03 1995.21,1175.77 2002.46,1175.52 2009.7,1175.23 2016.94,1174.93 2024.18,1174.61 2031.42,1174.29 2038.67,1173.98 2045.91,1173.64 2053.15,1173.29 2060.39,1172.93 2067.63,1172.55 2074.88,1172.16 2082.12,1171.76 2089.36,1171.35 2096.6,1170.94 2103.84,1170.51 2111.09,1170.08 2118.33,1169.63 2125.57,1169.19 2132.81,1168.74 2140.06,1168.28 2147.3,1167.81 2154.54,1167.32 2161.78,1166.83 2169.02,1166.33 2176.27,1165.82 2183.51,1165.29 2190.75,1164.76 2197.99,1164.22 2205.23,1163.66 2212.48,1163.09 2219.72,1162.52 2226.96,1161.93 2234.2,1161.34 2241.44,1160.73 2248.69,1160.12 2255.93,1159.5 2263.17,1158.87 2270.41,1158.23 2277.66,1157.58 2284.9,1156.92 2292.14,1156.26 \"/>\n",
       "<polyline clip-path=\"url(#clip962)\" style=\"stroke:#00a9ad; stroke-linecap:round; stroke-linejoin:round; stroke-width:4; stroke-opacity:1; fill:none\" stroke-dasharray=\"16, 10\" points=\"271.594,1386.4 278.836,1384.57 286.078,1382.74 293.32,1380.98 300.562,1378.91 307.804,1376.83 315.046,1374.77 322.288,1372.6 329.531,1370.75 336.773,1368.67 344.015,1366.29 351.257,1363.78 358.499,1361.09 365.741,1358.21 372.983,1355.55 380.225,1352.88 387.467,1350.29 394.709,1347.5 401.952,1344.97 409.194,1342.54 416.436,1340.04 423.678,1337.41 430.92,1334.79 438.162,1332.01 445.404,1329.29 452.646,1326.54 459.888,1323.97 467.13,1321.72 474.373,1319.52 481.615,1317.39 488.857,1315.35 496.099,1313.39 503.341,1311.47 510.583,1309.66 517.825,1307.7 525.067,1305.55 532.309,1303.4 539.551,1301.31 546.794,1299.18 554.036,1297.17 561.278,1295.24 568.52,1293.26 575.762,1291.34 583.004,1289.45 590.246,1287.63 597.488,1285.9 604.73,1284.32 611.972,1282.9 619.215,1281.44 626.457,1279.99 633.699,1278.76 640.941,1277.64 648.183,1276.54 655.425,1275.5 662.667,1274.28 669.909,1273.01 677.151,1271.69 684.393,1270.45 691.636,1269.07 698.878,1267.69 706.12,1266.28 713.362,1264.9 720.604,1263.58 727.846,1262.22 735.088,1260.84 742.33,1259.52 749.572,1258.23 756.814,1256.91 764.057,1255.65 771.299,1254.42 778.541,1253.18 785.783,1251.94 793.025,1250.71 800.267,1249.47 807.509,1248.27 814.751,1247.1 821.993,1246.03 829.235,1244.99 836.478,1244.01 843.72,1242.95 850.962,1242.01 858.204,1241.08 865.446,1240.08 872.688,1239.1 879.93,1238.14 887.172,1237.14 894.414,1236.18 901.656,1235.27 908.899,1234.34 916.141,1233.49 923.383,1232.65 930.625,1231.77 937.867,1230.99 945.109,1230.26 952.351,1229.51 959.593,1228.75 966.835,1227.95 974.077,1227.14 981.32,1226.24 988.562,1225.38 995.804,1224.49 1003.05,1223.67 1010.29,1222.87 1017.53,1222.07 1024.77,1221.34 1032.01,1220.66 1039.26,1219.96 1046.5,1219.19 1053.74,1218.43 1060.98,1217.53 1068.22,1216.55 1075.47,1215.61 1082.71,1214.7 1089.95,1213.82 1097.19,1212.95 1104.44,1212.09 1111.68,1211.22 1118.92,1210.33 1126.16,1209.5 1133.4,1208.57 1140.65,1207.69 1147.89,1206.92 1155.13,1206.17 1162.37,1205.44 1169.61,1204.69 1176.86,1203.91 1184.1,1203.14 1191.34,1202.4 1198.58,1201.67 1205.82,1200.91 1213.07,1200.19 1220.31,1199.48 1227.55,1198.82 1234.79,1198.18 1242.04,1197.5 1249.28,1196.74 1256.52,1195.94 1263.76,1195.1 1271,1194.3 1278.25,1193.48 1285.49,1192.7 1292.73,1191.9 1299.97,1191.1 1307.21,1190.4 1314.46,1189.74 1321.7,1189.1 1328.94,1188.43 1336.18,1187.67 1343.42,1186.92 1350.67,1186.21 1357.91,1185.49 1365.15,1184.72 1372.39,1184.02 1379.64,1183.31 1386.88,1182.56 1394.12,1181.8 1401.36,1181.08 1408.6,1180.33 1415.85,1179.61 1423.09,1178.94 1430.33,1178.2 1437.57,1177.41 1444.81,1176.6 1452.06,1175.85 1459.3,1175.1 1466.54,1174.33 1473.78,1173.58 1481.02,1172.81 1488.27,1172.06 1495.51,1171.33 1502.75,1170.55 1509.99,1169.65 1517.23,1168.78 1524.48,1167.91 1531.72,1167.08 1538.96,1166.27 1546.2,1165.49 1553.45,1164.66 1560.69,1163.83 1567.93,1163.02 1575.17,1162.2 1582.41,1161.4 1589.66,1160.61 1596.9,1159.83 1604.14,1159.1 1611.38,1158.41 1618.62,1157.68 1625.87,1156.88 1633.11,1156.12 1640.35,1155.41 1647.59,1154.76 1654.83,1154.14 1662.08,1153.57 1669.32,1153 1676.56,1152.44 1683.8,1151.82 1691.05,1151.21 1698.29,1150.6 1705.53,1149.97 1712.77,1149.32 1720.01,1148.71 1727.26,1148.11 1734.5,1147.52 1741.74,1147.01 1748.98,1146.55 1756.22,1146.12 1763.47,1145.68 1770.71,1145.25 1777.95,1144.86 1785.19,1144.46 1792.43,1144.06 1799.68,1143.65 1806.92,1143.2 1814.16,1142.72 1821.4,1142.24 1828.65,1141.73 1835.89,1141.25 1843.13,1140.79 1850.37,1140.37 1857.61,1139.93 1864.86,1139.54 1872.1,1139.17 1879.34,1138.8 1886.58,1138.44 1893.82,1138.07 1901.07,1137.74 1908.31,1137.43 1915.55,1137.15 1922.79,1136.85 1930.03,1136.57 1937.28,1136.27 1944.52,1135.98 1951.76,1135.72 1959,1135.47 1966.25,1135.25 1973.49,1135.03 1980.73,1134.8 1987.97,1134.57 1995.21,1134.33 2002.46,1134.11 2009.7,1133.89 2016.94,1133.65 2024.18,1133.44 2031.42,1133.23 2038.67,1133.02 2045.91,1132.84 2053.15,1132.69 2060.39,1132.55 2067.63,1132.42 2074.88,1132.3 2082.12,1132.2 2089.36,1132.12 2096.6,1132.05 2103.84,1132 2111.09,1131.96 2118.33,1131.91 2125.57,1131.89 2132.81,1131.87 2140.06,1131.86 2147.3,1131.85 2154.54,1131.84 2161.78,1131.85 2169.02,1131.85 2176.27,1131.87 2183.51,1131.88 2190.75,1131.91 2197.99,1131.94 2205.23,1131.98 2212.48,1132.04 2219.72,1132.1 2226.96,1132.17 2234.2,1132.24 2241.44,1132.33 2248.69,1132.42 2255.93,1132.52 2263.17,1132.64 2270.41,1132.77 2277.66,1132.91 2284.9,1133.05 2292.14,1133.21 \"/>\n",
       "<path clip-path=\"url(#clip960)\" d=\"M2023.9 529.676 L2281.36 529.676 L2281.36 166.796 L2023.9 166.796  Z\" fill=\"#ffffff\" fill-rule=\"evenodd\" fill-opacity=\"1\"/>\n",
       "<polyline clip-path=\"url(#clip960)\" style=\"stroke:#000000; stroke-linecap:round; stroke-linejoin:round; stroke-width:4; stroke-opacity:1; fill:none\" points=\"2023.9,529.676 2281.36,529.676 2281.36,166.796 2023.9,166.796 2023.9,529.676 \"/>\n",
       "<polyline clip-path=\"url(#clip960)\" style=\"stroke:#009af9; stroke-linecap:round; stroke-linejoin:round; stroke-width:4; stroke-opacity:1; fill:none\" points=\"2047.7,218.636 2190.48,218.636 \"/>\n",
       "<path clip-path=\"url(#clip960)\" d=\"M2238.93 209.99 L2229.56 222.606 L2239.42 235.916 L2234.39 235.916 L2226.85 225.731 L2219.3 235.916 L2214.28 235.916 L2224.35 222.351 L2215.14 209.99 L2220.16 209.99 L2227.03 219.226 L2233.91 209.99 L2238.93 209.99 Z\" fill=\"#000000\" fill-rule=\"evenodd\" fill-opacity=\"1\" /><path clip-path=\"url(#clip960)\" d=\"M2244.58 233.369 L2249.3 233.369 L2249.3 219.226 L2244.14 220.175 L2244.14 217.49 L2249.46 216.587 L2252.64 216.587 L2252.64 233.369 L2257.38 233.369 L2257.38 235.916 L2244.58 235.916 L2244.58 233.369 Z\" fill=\"#000000\" fill-rule=\"evenodd\" fill-opacity=\"1\" /><polyline clip-path=\"url(#clip960)\" style=\"stroke:#e26f46; stroke-linecap:round; stroke-linejoin:round; stroke-width:4; stroke-opacity:1; fill:none\" points=\"2047.7,270.476 2190.48,270.476 \"/>\n",
       "<path clip-path=\"url(#clip960)\" d=\"M2238.93 261.83 L2229.56 274.446 L2239.42 287.756 L2234.39 287.756 L2226.85 277.571 L2219.3 287.756 L2214.28 287.756 L2224.35 274.191 L2215.14 261.83 L2220.16 261.83 L2227.03 271.066 L2233.91 261.83 L2238.93 261.83 Z\" fill=\"#000000\" fill-rule=\"evenodd\" fill-opacity=\"1\" /><path clip-path=\"url(#clip960)\" d=\"M2247.17 285.117 L2256.99 285.117 L2256.99 287.756 L2243.14 287.756 L2243.14 285.209 Q2243.93 284.492 2245.39 283.196 Q2253.35 276.135 2253.35 273.959 Q2253.35 272.432 2252.15 271.506 Q2250.95 270.557 2248.98 270.557 Q2247.77 270.557 2246.36 270.973 Q2244.95 271.367 2243.28 272.177 L2243.28 269.33 Q2245.07 268.682 2246.59 268.358 Q2248.14 268.034 2249.46 268.034 Q2252.82 268.034 2254.83 269.561 Q2256.85 271.089 2256.85 273.589 Q2256.85 276.807 2249.19 283.381 Q2247.89 284.492 2247.17 285.117 Z\" fill=\"#000000\" fill-rule=\"evenodd\" fill-opacity=\"1\" /><polyline clip-path=\"url(#clip960)\" style=\"stroke:#3da44d; stroke-linecap:round; stroke-linejoin:round; stroke-width:4; stroke-opacity:1; fill:none\" points=\"2047.7,322.316 2190.48,322.316 \"/>\n",
       "<path clip-path=\"url(#clip960)\" d=\"M2238.93 313.67 L2229.56 326.286 L2239.42 339.596 L2234.39 339.596 L2226.85 329.411 L2219.3 339.596 L2214.28 339.596 L2224.35 326.031 L2215.14 313.67 L2220.16 313.67 L2227.03 322.906 L2233.91 313.67 L2238.93 313.67 Z\" fill=\"#000000\" fill-rule=\"evenodd\" fill-opacity=\"1\" /><path clip-path=\"url(#clip960)\" d=\"M2253.1 329.133 Q2255.23 329.549 2256.39 330.823 Q2257.57 332.073 2257.57 333.971 Q2257.57 336.841 2255.37 338.392 Q2253.17 339.943 2249.07 339.943 Q2247.75 339.943 2246.29 339.688 Q2244.86 339.457 2243.24 338.994 L2243.24 336.193 Q2244.44 336.818 2245.81 337.119 Q2247.2 337.42 2248.75 337.42 Q2251.27 337.42 2252.66 336.517 Q2254.05 335.591 2254.05 333.971 Q2254.05 332.258 2252.75 331.378 Q2251.48 330.499 2248.98 330.499 L2246.99 330.499 L2246.99 327.999 L2249.16 327.999 Q2251.34 327.999 2252.45 327.281 Q2253.58 326.54 2253.58 325.151 Q2253.58 323.809 2252.43 323.114 Q2251.27 322.397 2249.07 322.397 Q2248.14 322.397 2246.96 322.605 Q2245.78 322.813 2243.91 323.346 L2243.91 320.684 Q2245.6 320.29 2247.08 320.082 Q2248.56 319.874 2249.83 319.874 Q2253.17 319.874 2255.11 321.239 Q2257.08 322.605 2257.08 324.897 Q2257.08 326.494 2256.04 327.605 Q2255 328.716 2253.1 329.133 Z\" fill=\"#000000\" fill-rule=\"evenodd\" fill-opacity=\"1\" /><polyline clip-path=\"url(#clip960)\" style=\"stroke:#c271d2; stroke-linecap:round; stroke-linejoin:round; stroke-width:4; stroke-opacity:1; fill:none\" stroke-dasharray=\"16, 10\" points=\"2047.7,374.156 2190.48,374.156 \"/>\n",
       "<path clip-path=\"url(#clip960)\" d=\"M2238.93 365.51 L2229.56 378.126 L2239.42 391.436 L2234.39 391.436 L2226.85 381.251 L2219.3 391.436 L2214.28 391.436 L2224.35 377.871 L2215.14 365.51 L2220.16 365.51 L2227.03 374.746 L2233.91 365.51 L2238.93 365.51 Z\" fill=\"#000000\" fill-rule=\"evenodd\" fill-opacity=\"1\" /><path clip-path=\"url(#clip960)\" d=\"M2226.94 355.417 L2231.2 355.417 L2231.2 360.811 L2226.94 360.811 L2226.94 355.417 M2229.12 364.885 L2229.12 364.885 Z\" fill=\"#000000\" fill-rule=\"evenodd\" fill-opacity=\"1\" /><path clip-path=\"url(#clip960)\" d=\"M2244.58 388.889 L2249.3 388.889 L2249.3 374.746 L2244.14 375.695 L2244.14 373.01 L2249.46 372.107 L2252.64 372.107 L2252.64 388.889 L2257.38 388.889 L2257.38 391.436 L2244.58 391.436 L2244.58 388.889 Z\" fill=\"#000000\" fill-rule=\"evenodd\" fill-opacity=\"1\" /><polyline clip-path=\"url(#clip960)\" style=\"stroke:#ac8d18; stroke-linecap:round; stroke-linejoin:round; stroke-width:4; stroke-opacity:1; fill:none\" stroke-dasharray=\"16, 10\" points=\"2047.7,425.996 2190.48,425.996 \"/>\n",
       "<path clip-path=\"url(#clip960)\" d=\"M2238.93 417.35 L2229.56 429.966 L2239.42 443.276 L2234.39 443.276 L2226.85 433.091 L2219.3 443.276 L2214.28 443.276 L2224.35 429.711 L2215.14 417.35 L2220.16 417.35 L2227.03 426.586 L2233.91 417.35 L2238.93 417.35 Z\" fill=\"#000000\" fill-rule=\"evenodd\" fill-opacity=\"1\" /><path clip-path=\"url(#clip960)\" d=\"M2226.94 407.257 L2231.2 407.257 L2231.2 412.651 L2226.94 412.651 L2226.94 407.257 M2229.12 416.725 L2229.12 416.725 Z\" fill=\"#000000\" fill-rule=\"evenodd\" fill-opacity=\"1\" /><path clip-path=\"url(#clip960)\" d=\"M2247.17 440.637 L2256.99 440.637 L2256.99 443.276 L2243.14 443.276 L2243.14 440.729 Q2243.93 440.012 2245.39 438.716 Q2253.35 431.655 2253.35 429.479 Q2253.35 427.952 2252.15 427.026 Q2250.95 426.077 2248.98 426.077 Q2247.77 426.077 2246.36 426.493 Q2244.95 426.887 2243.28 427.697 L2243.28 424.85 Q2245.07 424.202 2246.59 423.878 Q2248.14 423.554 2249.46 423.554 Q2252.82 423.554 2254.83 425.081 Q2256.85 426.609 2256.85 429.109 Q2256.85 432.327 2249.19 438.901 Q2247.89 440.012 2247.17 440.637 Z\" fill=\"#000000\" fill-rule=\"evenodd\" fill-opacity=\"1\" /><polyline clip-path=\"url(#clip960)\" style=\"stroke:#00a9ad; stroke-linecap:round; stroke-linejoin:round; stroke-width:4; stroke-opacity:1; fill:none\" stroke-dasharray=\"16, 10\" points=\"2047.7,477.836 2190.48,477.836 \"/>\n",
       "<path clip-path=\"url(#clip960)\" d=\"M2238.93 469.19 L2229.56 481.806 L2239.42 495.116 L2234.39 495.116 L2226.85 484.931 L2219.3 495.116 L2214.28 495.116 L2224.35 481.551 L2215.14 469.19 L2220.16 469.19 L2227.03 478.426 L2233.91 469.19 L2238.93 469.19 Z\" fill=\"#000000\" fill-rule=\"evenodd\" fill-opacity=\"1\" /><path clip-path=\"url(#clip960)\" d=\"M2226.94 459.097 L2231.2 459.097 L2231.2 464.491 L2226.94 464.491 L2226.94 459.097 M2229.12 468.565 L2229.12 468.565 Z\" fill=\"#000000\" fill-rule=\"evenodd\" fill-opacity=\"1\" /><path clip-path=\"url(#clip960)\" d=\"M2253.1 484.653 Q2255.23 485.069 2256.39 486.343 Q2257.57 487.593 2257.57 489.491 Q2257.57 492.361 2255.37 493.912 Q2253.17 495.463 2249.07 495.463 Q2247.75 495.463 2246.29 495.208 Q2244.86 494.977 2243.24 494.514 L2243.24 491.713 Q2244.44 492.338 2245.81 492.639 Q2247.2 492.94 2248.75 492.94 Q2251.27 492.94 2252.66 492.037 Q2254.05 491.111 2254.05 489.491 Q2254.05 487.778 2252.75 486.898 Q2251.48 486.019 2248.98 486.019 L2246.99 486.019 L2246.99 483.519 L2249.16 483.519 Q2251.34 483.519 2252.45 482.801 Q2253.58 482.06 2253.58 480.671 Q2253.58 479.329 2252.43 478.634 Q2251.27 477.917 2249.07 477.917 Q2248.14 477.917 2246.96 478.125 Q2245.78 478.333 2243.91 478.866 L2243.91 476.204 Q2245.6 475.81 2247.08 475.602 Q2248.56 475.394 2249.83 475.394 Q2253.17 475.394 2255.11 476.759 Q2257.08 478.125 2257.08 480.417 Q2257.08 482.014 2256.04 483.125 Q2255 484.236 2253.1 484.653 Z\" fill=\"#000000\" fill-rule=\"evenodd\" fill-opacity=\"1\" /></svg>\n"
      ]
     },
     "metadata": {},
     "output_type": "display_data"
    }
   ],
   "source": [
    "Xsim_m = mat_from_vec(Xhist[1:end-Nh])\n",
    "Usim_m = mat_from_vec(Uhist[1:end-Nh-1])\n",
    "e_sim_m = mat_from_vec(Xref[1:end-Nh]-Xhist[1:end-Nh])\n",
    "@show traj_error = maximum(norm.(e_sim_m, Inf))\n",
    "display(plot(t_vec[1:end-Nh],e_sim_m',label = [\"ex₁\" \"ex₂\" \"ex₃\" \"eẋ₁\" \"eẋ₂\" \"eẋ₃\"], \n",
    "             linestyle=[:solid :solid :solid :dash :dash :dash], \n",
    "             title = \"State Error History\",\n",
    "             xlabel = \"time (s)\", ylabel = \"x\"))\n",
    "display(plot(t_vec[1:end-Nh-2],Usim_m',label = [\"u₁\" \"u₂\" \"u₃\"],\n",
    "             title = \"Input History\",\n",
    "             xlabel = \"time (s)\", ylabel = \"u\"))\n",
    "display(plot(t_vec[1:end-Nh],Xsim_m',label = [\"x₁\" \"x₂\" \"x₃\" \"ẋ₁\" \"ẋ₂\" \"ẋ₃\"], \n",
    "             linestyle=[:solid :solid :solid :dash :dash :dash],\n",
    "             title = \"State History\",\n",
    "             xlabel = \"time (s)\", ylabel = \"x\"))"
   ]
  }
 ],
 "metadata": {
  "kernelspec": {
   "display_name": "Julia 1.6.7",
   "language": "julia",
   "name": "julia-1.6"
  },
  "language_info": {
   "file_extension": ".jl",
   "mimetype": "application/julia",
   "name": "julia",
   "version": "1.6.7"
  }
 },
 "nbformat": 4,
 "nbformat_minor": 5
}
