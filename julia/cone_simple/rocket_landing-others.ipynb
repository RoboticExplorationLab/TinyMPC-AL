{
 "cells": [
  {
   "cell_type": "code",
   "execution_count": 8,
   "id": "6099cb4b-a2da-4b1b-ba0f-856484092fc4",
   "metadata": {},
   "outputs": [
    {
     "name": "stderr",
     "output_type": "stream",
     "text": [
      "\u001b[32m\u001b[1m  Activating\u001b[22m\u001b[39m environment at `~/SSD/Code/TinyMPC/julia/cone_simple/Project.toml`\n"
     ]
    }
   ],
   "source": [
    "using Pkg\n",
    "Pkg.activate(@__DIR__)\n",
    "Pkg.instantiate()\n",
    "\n",
    "using LinearAlgebra\n",
    "using Printf\n",
    "using ForwardDiff\n",
    "using JuMP\n",
    "using COSMO\n",
    "using ECOS\n",
    "using Random; "
   ]
  },
  {
   "cell_type": "code",
   "execution_count": 9,
   "id": "6179ca57-b5ff-4274-8391-85d5e728fc16",
   "metadata": {
    "tags": []
   },
   "outputs": [
    {
     "data": {
      "text/plain": [
       "mpc (generic function with 1 method)"
      ]
     },
     "execution_count": 9,
     "metadata": {},
     "output_type": "execute_result"
    }
   ],
   "source": [
    "# -------------------THIS IS ALL ALTRO-------------------------------\n",
    "# This enables goal equality constraints, state and input ineq constraints.\n",
    "\n",
    "function stage_cost(p::NamedTuple,x,u,k)\n",
    "    dx = x - p.Xref[k]\n",
    "    du = u - p.Uref[k]\n",
    "    return 0.5*dx'*p.Q*dx + 0.5*du'*p.R*du\n",
    "end\n",
    "function term_cost(p::NamedTuple,x)\n",
    "    dx = x - p.Xref[p.N]\n",
    "    return 0.5*dx'*p.Qf*dx\n",
    "end\n",
    "function stage_cost_expansion(p::NamedTuple,k)\n",
    "    dx = - p.Xref[k]\n",
    "    du = - p.Uref[k]\n",
    "    return p.Q, p.Q*dx, p.R, p.R*du  # Hessian and gradient\n",
    "end\n",
    "function term_cost_expansion(p::NamedTuple)\n",
    "    dx = - p.Xref[p.N]\n",
    "    return p.Qf, p.Qf*dx\n",
    "end\n",
    "function conic_cost_expansion(p::NamedTuple, u, λc, ρ, k)\n",
    "    λhat = λc # already updated\n",
    "    ∇c = cone_u_jac(p, u)\n",
    "    G = -∇c'*∇projection(λhat)*projection(λhat)\n",
    "    # H = ∇c'*∇projection(λhat)'*∇projection(λhat)*∇c/ρ\n",
    "    H = ∇c'*(∇projection(λhat)'*∇projection(λhat) + ∇²projection(λhat, projection(λhat)))*∇c*ρ\n",
    "    return (G - H*u), H\n",
    "end\n",
    "function backward_pass!(params,X,U,P,p,d,K,reg,μ,μx,ρ,λ,λc)\n",
    "    \"\"\"iLQR backward pass with AL. This !function update its parameters\n",
    "    \"\"\"\n",
    "    N = params.N\n",
    "    ΔJ = 0.0    # expected cost reduction\n",
    "\n",
    "    # terminal cost expansion\n",
    "    P[N], p[N] = term_cost_expansion(params) \n",
    "    \n",
    "    if (params.ncx > 0)\n",
    "        # # add AL terms for the state constraint at the final time step\n",
    "        hxv = ineq_con_x(params,X[N])  # h(x) violation  \n",
    "        mask = eval_mask(μx[N],hxv)\n",
    "        ∇hx = ineq_con_x_jac(params,X[N])\n",
    "        # add these into the cost-to-go p and P\n",
    "        p[N]  += ∇hx'*(μx[N] - ρ*(mask * [params.x_max;-params.x_min]))  # multiplier term (1st)\n",
    "        P[N]  += ρ*∇hx'*mask*∇hx                # penalty term (2nd)\n",
    "    end\n",
    "    \n",
    "    if (params.ncg > 0)\n",
    "        # add AL terms for goal constraint \n",
    "        ∇hx = diagm(ones(params.nx))\n",
    "        # add these into the CTG p and P (equality active)\n",
    "        p[N]  += ∇hx'*(λ - 0*ρ*params.Xref[N])   \n",
    "        P[N]  += ρ*∇hx'∇hx\n",
    "    end\n",
    "    \n",
    "    # iterate from N-1 to 1 backwards\n",
    "    for k = (N-1):(-1):1\n",
    "        # dynamics jacobians (linearization about previous iterate)\n",
    "        A = ForwardDiff.jacobian(_x -> discrete_dynamics(params,_x,U[k],k),X[k])\n",
    "        B = ForwardDiff.jacobian(_u -> discrete_dynamics(params,X[k],_u,k),U[k])\n",
    "        f = discrete_dynamics(params,zeros(params.nx),zeros(params.nu),k)\n",
    "\n",
    "        Sxx,Sx,Suu,Su = stage_cost_expansion(params,k)\n",
    "        \n",
    "        # one-step cost expansion: Q, Q*dx, R, R*du\n",
    "        Sx += A' * (P[k+1]*f + p[k+1]) \n",
    "        Su += B' * (P[k+1]*f + p[k+1]) \n",
    "        Sxx += A'*(P[k+1])*A\n",
    "        Suu += B'*(P[k+1] + reg*I)*B                                     \n",
    "        Sux = B'*(P[k+1])*A  \n",
    "        if (params.ncu > 0)\n",
    "            # control constraints\n",
    "            huv = ineq_con_u(params,U[k])  # calculate h(u) constraint\n",
    "            mask = eval_mask(μ[k],huv)  # choose active\n",
    "            ∇hu = ineq_con_u_jac(params,U[k])\n",
    "            μ[k] .= μ[k] - ρ*(mask * [params.u_max;-params.u_min])\n",
    "            Su  += ∇hu'*μ[k] # add to cost\n",
    "            Suu += ρ*∇hu'*mask*∇hu\n",
    "        end\n",
    "        if (params.ncx > 0)\n",
    "            # state constraints\n",
    "            hxv = ineq_con_x(params,X[k])\n",
    "            mask = eval_mask(μx[k],hxv)\n",
    "            ∇hx = ineq_con_x_jac(params,X[k])\n",
    "            μx[k] .= μx[k] - 0*ρ*(mask * [params.x_max;-params.x_min])\n",
    "            Sx  += ∇hx'*μx[k]\n",
    "            Sxx += ρ*∇hx'*mask*∇hx\n",
    "        end\n",
    "        if (params.ncu_cone > 0)\n",
    "            # conic constraints\n",
    "            Qu, Quu = conic_cost_expansion(params, U[k], λc[k], ρ*cone_scale, k)\n",
    "            # display(Quu)\n",
    "            Su += Qu\n",
    "            Suu += Quu\n",
    "        end\n",
    "        \n",
    "        # Calculate Gains\n",
    "        # for i = 1:10\n",
    "        #     if isposdef(Suu) == 0\n",
    "        #         Suu += reg*I\n",
    "        #     end\n",
    "        # end\n",
    "        F = cholesky(Symmetric(Suu))\n",
    "        d[k] = Suu\\Su\n",
    "        K[k] = Suu\\Sux\n",
    "\n",
    "        # Cost-to-go Recurrence (PSD stabilizing version, last term)\n",
    "        P[k] = Sxx + K[k]'*Suu*K[k] - 2*K[k]'*Sux\n",
    "        p[k] = Sx + K[k]'*Suu*d[k] - K[k]'*Su - Sux'*d[k]\n",
    "        ΔJ += Su'*d[k]\n",
    "    end\n",
    "\n",
    "    return ΔJ  # but also change params\n",
    "end\n",
    "function forward_pass!(params,X,U,K,d,ΔJ,Xn,Un,μ,μx,ρ,λ; \n",
    "                        max_linesearch_iters = 20)\n",
    "    \"\"\"iLQR forward pass and line-search\n",
    "    This !function update its parameters\n",
    "    \"\"\"\n",
    "    N = params.N\n",
    "        # Forward Rollout\n",
    "        for k = 1:(N-1)\n",
    "            Un[k] = - d[k] - K[k]*Xn[k] \n",
    "            Xn[k+1] = discrete_dynamics(params,Xn[k],Un[k],k)\n",
    "        end\n",
    "    X .= Xn\n",
    "    U .= Un\n",
    "    return 0, 0\n",
    "end\n",
    "function eval_mask(μv,huv)  \n",
    "    # Extract active inequality constraints\n",
    "    # active set mask\n",
    "    mask = Diagonal(zeros(length(huv)))\n",
    "    for i = 1:length(huv)\n",
    "        mask[i,i] = (μv[i] > 0 || huv[i] > 0)\n",
    "    end\n",
    "    mask\n",
    "end\n",
    "function mpc(params,X,U,P,p,K,d,Xn,Un;atol=1e-3,max_iters = 250,verbose = true,ρ=1,ρmax=1e8,ϕ=10)\n",
    "\n",
    "    # first check the sizes of everything\n",
    "    # @assert length(X) == params.N\n",
    "    # @assert length(U) == params.N-1\n",
    "    # @assert length(X[1]) == params.nx\n",
    "    # @assert length(U[1]) == params.nu\n",
    "\n",
    "    # initial rollout\n",
    "    N = params.N\n",
    "    for i = 1:N-1\n",
    "        X[i+1] = discrete_dynamics(params,X[i],U[i],i)\n",
    "    end\n",
    "\n",
    "    reg_min = 0*1e-8\n",
    "    reg = reg_min\n",
    "\n",
    "    μ = params.μ   # input constraints\n",
    "    μx = params.μx    # state constraints\n",
    "    λ = params.λ    # goal constraint\n",
    "    λc = params.λc   # goal constraint\n",
    "    \n",
    "    # Inner loop to solve unconstrained problem (Riccati)\n",
    "    for iter = 1:max_iters        \n",
    "        J = 0.0\n",
    "        ΔJ = 0.0\n",
    "        α = 1.0\n",
    "        for i = 1:1\n",
    "            ΔJ = backward_pass!(params,X,U,P,p,d,K,reg,μ,μx,ρ,λ,λc)\n",
    "            J, α = forward_pass!(params,X,U,K,d,ΔJ,Xn,Un,μ,μx,ρ,λ)\n",
    "        end\n",
    "\n",
    "        if verbose\n",
    "            if rem(iter-1,10)==0\n",
    "                @printf \"iter     J           ΔJ        |d|         α        reg         ρ\\n\"\n",
    "                @printf \"---------------------------------------------------------------------\\n\"\n",
    "            end\n",
    "            @printf(\"%3d   %10.3e  %9.2e  %9.2e  %6.4f   %9.2e   %9.2e\\n\",\n",
    "              iter, J, ΔJ, 0, α, reg, ρ)\n",
    "        end\n",
    "        # update multipliers and check constraint violation, max of all\n",
    "        convio = 0.0  \n",
    "        \n",
    "        if (params.ncu > 0)\n",
    "            # control constraints (inequality)\n",
    "            for k = 1:N-1\n",
    "                huv = ineq_con_u(params,U[k])\n",
    "                mask = eval_mask(μ[k],huv)\n",
    "                # update dual?\n",
    "                convio = max(convio,norm(huv + abs.(huv),Inf))\n",
    "                # μ[k] .= max.(0,μ[k] - ρ*(mask * [params.u_max;-params.u_min]))\n",
    "            end\n",
    "        end\n",
    "        if (params.ncx > 0)\n",
    "            # state constraints (inequality)\n",
    "            for k = 1:N\n",
    "                hxv = ineq_con_x(params,X[k])\n",
    "                mask = eval_mask(μx[k],hxv)\n",
    "                # update dual\n",
    "                convio = max(convio,norm(hxv + abs.(hxv),Inf))\n",
    "                # @show μx[k] .= max.(0,μx[k] - ρ*(mask * [params.x_max;-params.x_min]))                \n",
    "            end\n",
    "        end\n",
    "        if (params.ncu_cone > 0)\n",
    "            # conic constraints \n",
    "            if verbose\n",
    "                print(\"update cone\\n\")\n",
    "            end            \n",
    "            for k = 1:N-1\n",
    "                # update dual\n",
    "                Uc = cone_u(params, U[k])\n",
    "                huc = norm(Uc[1:2]) - Uc[3]\n",
    "                convio = max(convio, norm(huc + abs.(huc),Inf))\n",
    "                λc[k] = projection(λc[k] - Uc*cone_scale*ρ)\n",
    "                # display(λc[k])\n",
    "            end\n",
    "        end\n",
    "        if (params.ncg > 0)\n",
    "            # goal constraint (equality)\n",
    "            hxv = X[N] - params.Xref[N]\n",
    "            # λ .-= ρ*params.Xref[N]\n",
    "            convio = max(convio, norm(hxv,Inf))\n",
    "        end\n",
    "        \n",
    "        ρ *= ϕ  # update penalty\n",
    "        \n",
    "        if verbose\n",
    "            @show convio\n",
    "        end\n",
    "        if convio < atol  # if terminal condition with contraint violation\n",
    "            # print(\"Our solver says SUCCESS\\n\") # @info \"success!\"\n",
    "            return U[1]\n",
    "        end\n",
    "        if ρ > ρmax\n",
    "            print(\"Our solver reachs MAX PENALTY\\n\")\n",
    "            return U[1]\n",
    "        end\n",
    "    end\n",
    "    print(\"Our solver says INFEASIBLE and MAX ITER\\n\")\n",
    "    return U[1]\n",
    "end\n",
    "#----------------------ALTRO DONE --------------------------"
   ]
  },
  {
   "cell_type": "code",
   "execution_count": 18,
   "id": "ff9a97a1-b963-4f01-9223-eee0c5682b7d",
   "metadata": {
    "tags": []
   },
   "outputs": [
    {
     "data": {
      "text/plain": [
       "∇²projection (generic function with 1 method)"
      ]
     },
     "execution_count": 18,
     "metadata": {},
     "output_type": "execute_result"
    }
   ],
   "source": [
    "# =============================\n",
    "# Example problem formulation and solve\n",
    "# =============================\n",
    "\n",
    "# ---------------------THIS IS WHAT YOU NEED TO INPUT--------\n",
    "A = [1.0 0.0 0.0 0.05 0.0 0.0; \n",
    "0.0 1.0 0.0 0.0 0.05 0.0; \n",
    "0.0 0.0 1.0 0.0 0.0 0.05; \n",
    "0.0 0.0 0.0 1.0 0.0 0.0; \n",
    "0.0 0.0 0.0 0.0 1.0 0.0; \n",
    "0.0 0.0 0.0 0.0 0.0 1.0]\n",
    "B = [0.000125 0.0 0.0; \n",
    "0.0 0.000125 0.0;\n",
    "0.0 0.0 0.000125; \n",
    "0.005 0.0 0.0; \n",
    "0.0 0.005 0.0; \n",
    "0.0 0.0 0.005]\n",
    "f = [0.0, 0.0, -0.0122625, 0.0, 0.0, -0.4905]*0\n",
    "function discrete_dynamics(p::NamedTuple,x,u,k)\n",
    "    A = [1.0 0.0 0.0 0.05 0.0 0.0; \n",
    "        0.0 1.0 0.0 0.0 0.05 0.0; \n",
    "        0.0 0.0 1.0 0.0 0.0 0.05; \n",
    "        0.0 0.0 0.0 1.0 0.0 0.0; \n",
    "        0.0 0.0 0.0 0.0 1.0 0.0; \n",
    "        0.0 0.0 0.0 0.0 0.0 1.0]\n",
    "    B = [0.000125 0.0 0.0; \n",
    "        0.0 0.000125 0.0;\n",
    "        0.0 0.0 0.000125; \n",
    "        0.005 0.0 0.0; \n",
    "        0.0 0.005 0.0; \n",
    "        0.0 0.0 0.005]\n",
    "    f = [0.0, 0.0, -0.0122625, 0.0, 0.0, -0.4905]\n",
    "    return A*x + B*u + f*0\n",
    "end\n",
    "function ineq_con_x(p,x)\n",
    "    [x-p.x_max;-x + p.x_min]\n",
    "end\n",
    "function ineq_con_u(p,u)\n",
    "    [u-p.u_max;-u + p.u_min]\n",
    "end\n",
    "function cone_u(p, u)\n",
    "    [p.A_cone*u;p.c_cone'*u]\n",
    "end\n",
    "function cone_u_jac(p, u)\n",
    "    J = zeros(p.nu, p.nu)\n",
    "    J[1:end-1,1:end] .= p.A_cone\n",
    "    J[end,1:end] .= p.c_cone\n",
    "    return J\n",
    "end\n",
    "function ineq_con_u_jac(params,u)\n",
    "    ForwardDiff.jacobian(_u -> ineq_con_u(params,_u), u)\n",
    "end\n",
    "function ineq_con_x_jac(p,x)\n",
    "    ForwardDiff.jacobian(_x -> ineq_con_x(p,_x),x)\n",
    "end\n",
    "function projection(x)\n",
    "    # assumes x is stacked [v; s] such that ||v||₂ ≤ s\n",
    "    n = length(x)\n",
    "    v = view(x, 1:n-1)\n",
    "    s = x[end]\n",
    "    a = norm(v)\n",
    "    if a <= -s          # below the cone\n",
    "        return zero(x) \n",
    "    elseif a <= s       # in the cone\n",
    "        return x\n",
    "    elseif a >= abs(s)  # outside the cone\n",
    "        return 0.5 * (1 + s/a) * [v; a]\n",
    "    else\n",
    "        throw(ErrorException(\"Invalid second-order cone projection\"))\n",
    "    end\n",
    "end\n",
    "function ∇projection(x)\n",
    "    n = length(x)\n",
    "    J = zeros(eltype(x),n,n)\n",
    "    s = x[end]\n",
    "    v = view(x,1:n-1)\n",
    "    a = norm(v)\n",
    "    if a <= -s\n",
    "        return J  # zeros\n",
    "    elseif a <= s\n",
    "        J .= I(n)  \n",
    "        return J  # identity\n",
    "    elseif a >= abs(s)\n",
    "        c = 0.5 * (1 + s/a)\n",
    "\n",
    "        # dvdv ok!\n",
    "        for i = 1:n-1, j = 1:n-1\n",
    "            J[i,j] = -0.5*s/a^3 * v[i] * v[j]\n",
    "            if i == j\n",
    "                J[i,j] += c\n",
    "            end\n",
    "        end\n",
    "\n",
    "        # dvds ok!\n",
    "        for i = 1:n-1\n",
    "            J[i,n] = 0.5 * v[i] / a\n",
    "        end\n",
    "\n",
    "        # dsdv ok!\n",
    "        for i = 1:n-1\n",
    "            J[n,i] = ((-0.5*s/a^2) + c/a) * v[i]\n",
    "        end\n",
    "        J[n,n] = 0.5  # ok\n",
    "        return J\n",
    "    else\n",
    "        error(\"Invalid second-order cone projection.\")\n",
    "    end\n",
    "    return J\n",
    "end\n",
    "function ∇projection(x) \n",
    "    n = length(x)\n",
    "    v = view(x, 1:n-1)\n",
    "    s = x[end]\n",
    "    a = norm(v)\n",
    "    J = zeros(n, n)\n",
    "    if a <= -s                               # below cone\n",
    "        J .*= 0\n",
    "    elseif a <= s                            # in cone\n",
    "        J .*= 0\n",
    "        for i = 1:n\n",
    "            J[i,i] = 1.0\n",
    "        end\n",
    "    elseif a >= abs(s)                       # outside cone\n",
    "        # scalar\n",
    "        c = 0.5 * (1 + s/a)   \n",
    "\n",
    "        # dvdv = dbdv * v' + c * oneunit(SMatrix{n-1,n-1,T})\n",
    "        for i = 1:n-1, j = 1:n-1\n",
    "            J[i,j] = -0.5*s/a^3 * v[i] * v[j]\n",
    "            if i == j\n",
    "                J[i,j] += c\n",
    "            end\n",
    "        end\n",
    "\n",
    "        # dvds\n",
    "        for i = 1:n-1\n",
    "            J[i,n] = 0.5 * v[i] / a\n",
    "        end\n",
    "\n",
    "        # ds\n",
    "        for i = 1:n-1\n",
    "            J[n,i] = ((-0.5*s/a^2) + c/a) * v[i]\n",
    "        end\n",
    "        J[n,n] = 0.5 \n",
    "    else\n",
    "        throw(ErrorException(\"Invalid second-order cone projection\"))\n",
    "    end\n",
    "    return J\n",
    "end\n",
    "function ∇²projection(x, b)\n",
    "    # x is lamda_bar, b is projection(lambda_bar)\n",
    "    n = length(x)\n",
    "    hess = zeros(eltype(x),n,n)\n",
    "    v = view(x, 1:n-1)\n",
    "    bv = view(b, 1:n-1)\n",
    "\n",
    "    # @assert size(hess) == (n+1,n+1)\n",
    "    s = x[end]\n",
    "    bs = b[end]\n",
    "    a =  norm(v)\n",
    "    vbv = dot(v,bv)\n",
    "\n",
    "    if a <= -s\n",
    "        return hess .= 0\n",
    "    elseif a <= s\n",
    "        return hess .= 0\n",
    "    elseif a > abs(s)\n",
    "        # Original equations from chain rule\n",
    "        # dvdv = -s/norm(v)^2/norm(v)*(I - (v*v')/(v'v))*bv*v' + \n",
    "        #     s/norm(v)*((v*(v'bv))/(v'v)^2 * 2v' - (I*(v'bv) + v*bv')/(v'v)) + \n",
    "        #     bs/norm(v)*(I - (v*v')/(v'v))\n",
    "        # dvds = 1/norm(v)*(I - (v*v')/(v'v))*bv;\n",
    "        # # display(dvds)\n",
    "        # # display(dvdv)\n",
    "        # hess[1:n-1,1:n-1] .= dvdv*0.5\n",
    "        # hess[1:n-1,n] .= dvds*0.5\n",
    "        # hess[n:n,1:n-1] .= 0.5*dvds'\n",
    "        # hess[n,n] = 0\n",
    "        # return hess\n",
    "\n",
    "        # The following is just an unrolled version of the above\n",
    "        n = n - 1\n",
    "        dvdv = view(hess, 1:n, 1:n)\n",
    "        dvds = view(hess, 1:n, n+1)\n",
    "        dsdv = view(hess, n+1, 1:n)\n",
    "        @inbounds for i = 1:n\n",
    "            hi = 0\n",
    "            @inbounds for j = 1:n\n",
    "                Hij = -v[i]*v[j] / a^2\n",
    "                if i == j\n",
    "                    Hij += 1\n",
    "                end\n",
    "                hi += Hij * bv[j]\n",
    "            end\n",
    "            dvds[i] = hi / 2a\n",
    "            dsdv[i] = dvds[i]\n",
    "            @inbounds for j = 1:i\n",
    "                vij = v[i] * v[j]\n",
    "                H1 = hi * v[j] * (-s/a^3)\n",
    "                H2 = vij * (2*vbv) / a^4 - v[i] * bv[j] / a^2\n",
    "                H3 = -vij / a^2\n",
    "                if i == j\n",
    "                    H2 -= vbv / a^2\n",
    "                    H3 += 1\n",
    "                end\n",
    "                H2 *= s/a\n",
    "                H3 *= bs/a\n",
    "                dvdv[i,j] = (H1 + H2 + H3) / 2\n",
    "                dvdv[j,i] = dvdv[i,j]\n",
    "            end\n",
    "        end\n",
    "        hess[end,end] = 0\n",
    "        return hess\n",
    "    else\n",
    "        throw(ErrorException(\"Invalid second-order cone projection\"))\n",
    "    end\n",
    "end"
   ]
  },
  {
   "cell_type": "code",
   "execution_count": 67,
   "id": "f4edd7a6-7756-43ee-a37b-f91abdd18650",
   "metadata": {},
   "outputs": [
    {
     "name": "stdout",
     "output_type": "stream",
     "text": [
      "iter     J           ΔJ        |d|         α        reg         ρ\n",
      "---------------------------------------------------------------------\n",
      "  1    0.000e+00   3.29e-09   0.00e+00  0.0000    0.00e+00    1.00e-04\n",
      "convio = 2.5648434931681567\n",
      "  2    0.000e+00   5.96e-04   0.00e+00  0.0000    0.00e+00    1.00e-03\n",
      "convio = 2.5636357194472943\n",
      "  3    0.000e+00   7.16e-02   0.00e+00  0.0000    0.00e+00    1.00e-02\n",
      "convio = 2.5520420697301462\n",
      "  4    0.000e+00   6.77e+00   0.00e+00  0.0000    0.00e+00    1.00e-01\n",
      "convio = 2.4424659086554383\n",
      "  5    0.000e+00   3.98e+02   0.00e+00  0.0000    0.00e+00    1.00e+00\n",
      "convio = 2.130927364278506\n",
      "  6    0.000e+00   7.73e+03   0.00e+00  0.0000    0.00e+00    1.00e+01\n",
      "convio = 2.198787413112793\n",
      "  7    0.000e+00   8.54e+04   0.00e+00  0.0000    0.00e+00    1.00e+02\n",
      "convio = 2.2196996255918116\n",
      "  8    0.000e+00   8.63e+05   0.00e+00  0.0000    0.00e+00    1.00e+03\n",
      "convio = 2.222006491217126\n",
      "  9    0.000e+00   8.64e+06   0.00e+00  0.0000    0.00e+00    1.00e+04\n",
      "convio = 2.222203107996524\n",
      " 10    0.000e+00   8.64e+07   0.00e+00  0.0000    0.00e+00    1.00e+05\n",
      "convio = 2.2222203566482293\n",
      "iter     J           ΔJ        |d|         α        reg         ρ\n",
      "---------------------------------------------------------------------\n",
      " 11    0.000e+00   8.64e+08   0.00e+00  0.0000    0.00e+00    1.00e+06\n",
      "convio = 2.2222220361664284\n",
      " 12    0.000e+00   8.64e+09   0.00e+00  0.0000    0.00e+00    1.00e+07\n",
      "convio = 2.2222222036217048\n",
      " 13    0.000e+00   8.64e+10   0.00e+00  0.0000    0.00e+00    1.00e+08\n",
      "convio = 2.2222222203622195\n",
      " 14    0.000e+00   8.64e+11   0.00e+00  0.0000    0.00e+00    1.00e+09\n",
      "convio = 2.222222222036226\n",
      " 15    0.000e+00   8.64e+12   0.00e+00  0.0000    0.00e+00    1.00e+10\n",
      "convio = 2.222222222203623\n",
      "Our solver reachs MAX PENALTY\n"
     ]
    },
    {
     "data": {
      "image/svg+xml": "<?xml version=\"1.0\" encoding=\"utf-8\"?>\n<svg xmlns=\"http://www.w3.org/2000/svg\" xmlns:xlink=\"http://www.w3.org/1999/xlink\" width=\"600\" height=\"400\" viewBox=\"0 0 2400 1600\">\n<defs>\n  <clipPath id=\"clip250\">\n    <rect x=\"0\" y=\"0\" width=\"2400\" height=\"1600\"/>\n  </clipPath>\n</defs>\n<path clip-path=\"url(#clip250)\" d=\"M0 1600 L2400 1600 L2400 0 L0 0  Z\" fill=\"#ffffff\" fill-rule=\"evenodd\" fill-opacity=\"1\"/>\n<defs>\n  <clipPath id=\"clip251\">\n    <rect x=\"480\" y=\"0\" width=\"1681\" height=\"1600\"/>\n  </clipPath>\n</defs>\n<path clip-path=\"url(#clip250)\" d=\"M210.977 1423.18 L2352.76 1423.18 L2352.76 123.472 L210.977 123.472  Z\" fill=\"#ffffff\" fill-rule=\"evenodd\" fill-opacity=\"1\"/>\n<defs>\n  <clipPath id=\"clip252\">\n    <rect x=\"210\" y=\"123\" width=\"2143\" height=\"1301\"/>\n  </clipPath>\n</defs>\n<polyline clip-path=\"url(#clip252)\" style=\"stroke:#000000; stroke-linecap:round; stroke-linejoin:round; stroke-width:2; stroke-opacity:0.1; fill:none\" points=\"271.594,1423.18 271.594,123.472 \"/>\n<polyline clip-path=\"url(#clip252)\" style=\"stroke:#000000; stroke-linecap:round; stroke-linejoin:round; stroke-width:2; stroke-opacity:0.1; fill:none\" points=\"945.109,1423.18 945.109,123.472 \"/>\n<polyline clip-path=\"url(#clip252)\" style=\"stroke:#000000; stroke-linecap:round; stroke-linejoin:round; stroke-width:2; stroke-opacity:0.1; fill:none\" points=\"1618.62,1423.18 1618.62,123.472 \"/>\n<polyline clip-path=\"url(#clip252)\" style=\"stroke:#000000; stroke-linecap:round; stroke-linejoin:round; stroke-width:2; stroke-opacity:0.1; fill:none\" points=\"2292.14,1423.18 2292.14,123.472 \"/>\n<polyline clip-path=\"url(#clip250)\" style=\"stroke:#000000; stroke-linecap:round; stroke-linejoin:round; stroke-width:4; stroke-opacity:1; fill:none\" points=\"210.977,1423.18 2352.76,1423.18 \"/>\n<polyline clip-path=\"url(#clip250)\" style=\"stroke:#000000; stroke-linecap:round; stroke-linejoin:round; stroke-width:4; stroke-opacity:1; fill:none\" points=\"271.594,1423.18 271.594,1404.28 \"/>\n<polyline clip-path=\"url(#clip250)\" style=\"stroke:#000000; stroke-linecap:round; stroke-linejoin:round; stroke-width:4; stroke-opacity:1; fill:none\" points=\"945.109,1423.18 945.109,1404.28 \"/>\n<polyline clip-path=\"url(#clip250)\" style=\"stroke:#000000; stroke-linecap:round; stroke-linejoin:round; stroke-width:4; stroke-opacity:1; fill:none\" points=\"1618.62,1423.18 1618.62,1404.28 \"/>\n<polyline clip-path=\"url(#clip250)\" style=\"stroke:#000000; stroke-linecap:round; stroke-linejoin:round; stroke-width:4; stroke-opacity:1; fill:none\" points=\"2292.14,1423.18 2292.14,1404.28 \"/>\n<path clip-path=\"url(#clip250)\" d=\"M271.594 1454.1 Q267.983 1454.1 266.154 1457.66 Q264.348 1461.2 264.348 1468.33 Q264.348 1475.44 266.154 1479.01 Q267.983 1482.55 271.594 1482.55 Q275.228 1482.55 277.034 1479.01 Q278.862 1475.44 278.862 1468.33 Q278.862 1461.2 277.034 1457.66 Q275.228 1454.1 271.594 1454.1 M271.594 1450.39 Q277.404 1450.39 280.459 1455 Q283.538 1459.58 283.538 1468.33 Q283.538 1477.06 280.459 1481.67 Q277.404 1486.25 271.594 1486.25 Q265.784 1486.25 262.705 1481.67 Q259.649 1477.06 259.649 1468.33 Q259.649 1459.58 262.705 1455 Q265.784 1450.39 271.594 1450.39 Z\" fill=\"#000000\" fill-rule=\"evenodd\" fill-opacity=\"1\" /><path clip-path=\"url(#clip250)\" d=\"M935.387 1451.02 L953.743 1451.02 L953.743 1454.96 L939.669 1454.96 L939.669 1463.43 Q940.688 1463.08 941.706 1462.92 Q942.725 1462.73 943.743 1462.73 Q949.53 1462.73 952.91 1465.9 Q956.29 1469.08 956.29 1474.49 Q956.29 1480.07 952.817 1483.17 Q949.345 1486.25 943.026 1486.25 Q940.85 1486.25 938.581 1485.88 Q936.336 1485.51 933.929 1484.77 L933.929 1480.07 Q936.012 1481.2 938.234 1481.76 Q940.456 1482.32 942.933 1482.32 Q946.938 1482.32 949.276 1480.21 Q951.614 1478.1 951.614 1474.49 Q951.614 1470.88 949.276 1468.77 Q946.938 1466.67 942.933 1466.67 Q941.058 1466.67 939.183 1467.08 Q937.331 1467.5 935.387 1468.38 L935.387 1451.02 Z\" fill=\"#000000\" fill-rule=\"evenodd\" fill-opacity=\"1\" /><path clip-path=\"url(#clip250)\" d=\"M1593.31 1481.64 L1600.95 1481.64 L1600.95 1455.28 L1592.64 1456.95 L1592.64 1452.69 L1600.9 1451.02 L1605.58 1451.02 L1605.58 1481.64 L1613.22 1481.64 L1613.22 1485.58 L1593.31 1485.58 L1593.31 1481.64 Z\" fill=\"#000000\" fill-rule=\"evenodd\" fill-opacity=\"1\" /><path clip-path=\"url(#clip250)\" d=\"M1632.66 1454.1 Q1629.05 1454.1 1627.22 1457.66 Q1625.42 1461.2 1625.42 1468.33 Q1625.42 1475.44 1627.22 1479.01 Q1629.05 1482.55 1632.66 1482.55 Q1636.3 1482.55 1638.1 1479.01 Q1639.93 1475.44 1639.93 1468.33 Q1639.93 1461.2 1638.1 1457.66 Q1636.3 1454.1 1632.66 1454.1 M1632.66 1450.39 Q1638.47 1450.39 1641.53 1455 Q1644.61 1459.58 1644.61 1468.33 Q1644.61 1477.06 1641.53 1481.67 Q1638.47 1486.25 1632.66 1486.25 Q1626.85 1486.25 1623.77 1481.67 Q1620.72 1477.06 1620.72 1468.33 Q1620.72 1459.58 1623.77 1455 Q1626.85 1450.39 1632.66 1450.39 Z\" fill=\"#000000\" fill-rule=\"evenodd\" fill-opacity=\"1\" /><path clip-path=\"url(#clip250)\" d=\"M2267.32 1481.64 L2274.96 1481.64 L2274.96 1455.28 L2266.65 1456.95 L2266.65 1452.69 L2274.92 1451.02 L2279.59 1451.02 L2279.59 1481.64 L2287.23 1481.64 L2287.23 1485.58 L2267.32 1485.58 L2267.32 1481.64 Z\" fill=\"#000000\" fill-rule=\"evenodd\" fill-opacity=\"1\" /><path clip-path=\"url(#clip250)\" d=\"M2296.72 1451.02 L2315.08 1451.02 L2315.08 1454.96 L2301.01 1454.96 L2301.01 1463.43 Q2302.02 1463.08 2303.04 1462.92 Q2304.06 1462.73 2305.08 1462.73 Q2310.87 1462.73 2314.25 1465.9 Q2317.63 1469.08 2317.63 1474.49 Q2317.63 1480.07 2314.15 1483.17 Q2310.68 1486.25 2304.36 1486.25 Q2302.19 1486.25 2299.92 1485.88 Q2297.67 1485.51 2295.26 1484.77 L2295.26 1480.07 Q2297.35 1481.2 2299.57 1481.76 Q2301.79 1482.32 2304.27 1482.32 Q2308.27 1482.32 2310.61 1480.21 Q2312.95 1478.1 2312.95 1474.49 Q2312.95 1470.88 2310.61 1468.77 Q2308.27 1466.67 2304.27 1466.67 Q2302.39 1466.67 2300.52 1467.08 Q2298.67 1467.5 2296.72 1468.38 L2296.72 1451.02 Z\" fill=\"#000000\" fill-rule=\"evenodd\" fill-opacity=\"1\" /><path clip-path=\"url(#clip250)\" d=\"M1169.32 1522.27 L1169.32 1532.4 L1181.38 1532.4 L1181.38 1536.95 L1169.32 1536.95 L1169.32 1556.3 Q1169.32 1560.66 1170.5 1561.9 Q1171.71 1563.14 1175.37 1563.14 L1181.38 1563.14 L1181.38 1568.04 L1175.37 1568.04 Q1168.59 1568.04 1166.01 1565.53 Q1163.43 1562.98 1163.43 1556.3 L1163.43 1536.95 L1159.14 1536.95 L1159.14 1532.4 L1163.43 1532.4 L1163.43 1522.27 L1169.32 1522.27 Z\" fill=\"#000000\" fill-rule=\"evenodd\" fill-opacity=\"1\" /><path clip-path=\"url(#clip250)\" d=\"M1189.09 1532.4 L1194.94 1532.4 L1194.94 1568.04 L1189.09 1568.04 L1189.09 1532.4 M1189.09 1518.52 L1194.94 1518.52 L1194.94 1525.93 L1189.09 1525.93 L1189.09 1518.52 Z\" fill=\"#000000\" fill-rule=\"evenodd\" fill-opacity=\"1\" /><path clip-path=\"url(#clip250)\" d=\"M1234.95 1539.24 Q1237.15 1535.29 1240.2 1533.41 Q1243.26 1531.54 1247.4 1531.54 Q1252.97 1531.54 1255.99 1535.45 Q1259.01 1539.33 1259.01 1546.53 L1259.01 1568.04 L1253.13 1568.04 L1253.13 1546.72 Q1253.13 1541.59 1251.31 1539.11 Q1249.5 1536.63 1245.77 1536.63 Q1241.22 1536.63 1238.58 1539.65 Q1235.94 1542.68 1235.94 1547.9 L1235.94 1568.04 L1230.05 1568.04 L1230.05 1546.72 Q1230.05 1541.56 1228.24 1539.11 Q1226.42 1536.63 1222.63 1536.63 Q1218.15 1536.63 1215.5 1539.68 Q1212.86 1542.71 1212.86 1547.9 L1212.86 1568.04 L1206.97 1568.04 L1206.97 1532.4 L1212.86 1532.4 L1212.86 1537.93 Q1214.87 1534.66 1217.67 1533.1 Q1220.47 1531.54 1224.32 1531.54 Q1228.2 1531.54 1230.91 1533.51 Q1233.65 1535.48 1234.95 1539.24 Z\" fill=\"#000000\" fill-rule=\"evenodd\" fill-opacity=\"1\" /><path clip-path=\"url(#clip250)\" d=\"M1301.19 1548.76 L1301.19 1551.62 L1274.26 1551.62 Q1274.64 1557.67 1277.89 1560.85 Q1281.17 1564 1286.99 1564 Q1290.36 1564 1293.52 1563.17 Q1296.7 1562.35 1299.82 1560.69 L1299.82 1566.23 Q1296.67 1567.57 1293.36 1568.27 Q1290.05 1568.97 1286.64 1568.97 Q1278.11 1568.97 1273.11 1564 Q1268.15 1559.04 1268.15 1550.57 Q1268.15 1541.82 1272.86 1536.69 Q1277.6 1531.54 1285.62 1531.54 Q1292.82 1531.54 1296.99 1536.18 Q1301.19 1540.8 1301.19 1548.76 M1295.33 1547.04 Q1295.27 1542.23 1292.62 1539.37 Q1290.01 1536.5 1285.69 1536.5 Q1280.78 1536.5 1277.82 1539.27 Q1274.9 1542.04 1274.45 1547.07 L1295.33 1547.04 Z\" fill=\"#000000\" fill-rule=\"evenodd\" fill-opacity=\"1\" /><path clip-path=\"url(#clip250)\" d=\"M1345.59 1518.58 Q1341.32 1525.9 1339.25 1533.06 Q1337.18 1540.23 1337.18 1547.58 Q1337.18 1554.93 1339.25 1562.16 Q1341.35 1569.35 1345.59 1576.64 L1340.49 1576.64 Q1335.72 1569.16 1333.33 1561.93 Q1330.98 1554.71 1330.98 1547.58 Q1330.98 1540.48 1333.33 1533.29 Q1335.69 1526.09 1340.49 1518.58 L1345.59 1518.58 Z\" fill=\"#000000\" fill-rule=\"evenodd\" fill-opacity=\"1\" /><path clip-path=\"url(#clip250)\" d=\"M1379.68 1533.45 L1379.68 1538.98 Q1377.19 1537.71 1374.52 1537.07 Q1371.85 1536.44 1368.98 1536.44 Q1364.62 1536.44 1362.42 1537.77 Q1360.26 1539.11 1360.26 1541.79 Q1360.26 1543.82 1361.82 1545 Q1363.38 1546.15 1368.09 1547.2 L1370.1 1547.64 Q1376.33 1548.98 1378.94 1551.43 Q1381.59 1553.85 1381.59 1558.21 Q1381.59 1563.17 1377.64 1566.07 Q1373.72 1568.97 1366.85 1568.97 Q1363.98 1568.97 1360.87 1568.39 Q1357.78 1567.85 1354.34 1566.74 L1354.34 1560.69 Q1357.59 1562.38 1360.74 1563.24 Q1363.89 1564.07 1366.98 1564.07 Q1371.11 1564.07 1373.34 1562.66 Q1375.57 1561.23 1375.57 1558.65 Q1375.57 1556.27 1373.95 1554.99 Q1372.36 1553.72 1366.91 1552.54 L1364.88 1552.07 Q1359.43 1550.92 1357.01 1548.56 Q1354.59 1546.18 1354.59 1542.04 Q1354.59 1537.01 1358.16 1534.27 Q1361.72 1531.54 1368.28 1531.54 Q1371.53 1531.54 1374.39 1532.01 Q1377.26 1532.49 1379.68 1533.45 Z\" fill=\"#000000\" fill-rule=\"evenodd\" fill-opacity=\"1\" /><path clip-path=\"url(#clip250)\" d=\"M1389.99 1518.58 L1395.08 1518.58 Q1399.86 1526.09 1402.21 1533.29 Q1404.6 1540.48 1404.6 1547.58 Q1404.6 1554.71 1402.21 1561.93 Q1399.86 1569.16 1395.08 1576.64 L1389.99 1576.64 Q1394.22 1569.35 1396.29 1562.16 Q1398.39 1554.93 1398.39 1547.58 Q1398.39 1540.23 1396.29 1533.06 Q1394.22 1525.9 1389.99 1518.58 Z\" fill=\"#000000\" fill-rule=\"evenodd\" fill-opacity=\"1\" /><polyline clip-path=\"url(#clip252)\" style=\"stroke:#000000; stroke-linecap:round; stroke-linejoin:round; stroke-width:2; stroke-opacity:0.1; fill:none\" points=\"210.977,1386.4 2352.76,1386.4 \"/>\n<polyline clip-path=\"url(#clip252)\" style=\"stroke:#000000; stroke-linecap:round; stroke-linejoin:round; stroke-width:2; stroke-opacity:0.1; fill:none\" points=\"210.977,1141.17 2352.76,1141.17 \"/>\n<polyline clip-path=\"url(#clip252)\" style=\"stroke:#000000; stroke-linecap:round; stroke-linejoin:round; stroke-width:2; stroke-opacity:0.1; fill:none\" points=\"210.977,895.94 2352.76,895.94 \"/>\n<polyline clip-path=\"url(#clip252)\" style=\"stroke:#000000; stroke-linecap:round; stroke-linejoin:round; stroke-width:2; stroke-opacity:0.1; fill:none\" points=\"210.977,650.712 2352.76,650.712 \"/>\n<polyline clip-path=\"url(#clip252)\" style=\"stroke:#000000; stroke-linecap:round; stroke-linejoin:round; stroke-width:2; stroke-opacity:0.1; fill:none\" points=\"210.977,405.484 2352.76,405.484 \"/>\n<polyline clip-path=\"url(#clip252)\" style=\"stroke:#000000; stroke-linecap:round; stroke-linejoin:round; stroke-width:2; stroke-opacity:0.1; fill:none\" points=\"210.977,160.256 2352.76,160.256 \"/>\n<polyline clip-path=\"url(#clip250)\" style=\"stroke:#000000; stroke-linecap:round; stroke-linejoin:round; stroke-width:4; stroke-opacity:1; fill:none\" points=\"210.977,1423.18 210.977,123.472 \"/>\n<polyline clip-path=\"url(#clip250)\" style=\"stroke:#000000; stroke-linecap:round; stroke-linejoin:round; stroke-width:4; stroke-opacity:1; fill:none\" points=\"210.977,1386.4 229.875,1386.4 \"/>\n<polyline clip-path=\"url(#clip250)\" style=\"stroke:#000000; stroke-linecap:round; stroke-linejoin:round; stroke-width:4; stroke-opacity:1; fill:none\" points=\"210.977,1141.17 229.875,1141.17 \"/>\n<polyline clip-path=\"url(#clip250)\" style=\"stroke:#000000; stroke-linecap:round; stroke-linejoin:round; stroke-width:4; stroke-opacity:1; fill:none\" points=\"210.977,895.94 229.875,895.94 \"/>\n<polyline clip-path=\"url(#clip250)\" style=\"stroke:#000000; stroke-linecap:round; stroke-linejoin:round; stroke-width:4; stroke-opacity:1; fill:none\" points=\"210.977,650.712 229.875,650.712 \"/>\n<polyline clip-path=\"url(#clip250)\" style=\"stroke:#000000; stroke-linecap:round; stroke-linejoin:round; stroke-width:4; stroke-opacity:1; fill:none\" points=\"210.977,405.484 229.875,405.484 \"/>\n<polyline clip-path=\"url(#clip250)\" style=\"stroke:#000000; stroke-linecap:round; stroke-linejoin:round; stroke-width:4; stroke-opacity:1; fill:none\" points=\"210.977,160.256 229.875,160.256 \"/>\n<path clip-path=\"url(#clip250)\" d=\"M114.26 1386.85 L143.936 1386.85 L143.936 1390.78 L114.26 1390.78 L114.26 1386.85 Z\" fill=\"#000000\" fill-rule=\"evenodd\" fill-opacity=\"1\" /><path clip-path=\"url(#clip250)\" d=\"M154.075 1369.12 L172.431 1369.12 L172.431 1373.05 L158.357 1373.05 L158.357 1381.52 Q159.376 1381.18 160.394 1381.01 Q161.413 1380.83 162.431 1380.83 Q168.218 1380.83 171.598 1384 Q174.977 1387.17 174.977 1392.59 Q174.977 1398.17 171.505 1401.27 Q168.033 1404.35 161.714 1404.35 Q159.538 1404.35 157.269 1403.98 Q155.024 1403.61 152.616 1402.87 L152.616 1398.17 Q154.7 1399.3 156.922 1399.86 Q159.144 1400.41 161.621 1400.41 Q165.626 1400.41 167.964 1398.31 Q170.302 1396.2 170.302 1392.59 Q170.302 1388.98 167.964 1386.87 Q165.626 1384.76 161.621 1384.76 Q159.746 1384.76 157.871 1385.18 Q156.019 1385.6 154.075 1386.48 L154.075 1369.12 Z\" fill=\"#000000\" fill-rule=\"evenodd\" fill-opacity=\"1\" /><path clip-path=\"url(#clip250)\" d=\"M163.033 1126.97 Q159.422 1126.97 157.593 1130.53 Q155.788 1134.07 155.788 1141.2 Q155.788 1148.31 157.593 1151.87 Q159.422 1155.42 163.033 1155.42 Q166.667 1155.42 168.473 1151.87 Q170.302 1148.31 170.302 1141.2 Q170.302 1134.07 168.473 1130.53 Q166.667 1126.97 163.033 1126.97 M163.033 1123.26 Q168.843 1123.26 171.899 1127.87 Q174.977 1132.45 174.977 1141.2 Q174.977 1149.93 171.899 1154.54 Q168.843 1159.12 163.033 1159.12 Q157.223 1159.12 154.144 1154.54 Q151.089 1149.93 151.089 1141.2 Q151.089 1132.45 154.144 1127.87 Q157.223 1123.26 163.033 1123.26 Z\" fill=\"#000000\" fill-rule=\"evenodd\" fill-opacity=\"1\" /><path clip-path=\"url(#clip250)\" d=\"M154.075 878.66 L172.431 878.66 L172.431 882.595 L158.357 882.595 L158.357 891.067 Q159.376 890.72 160.394 890.558 Q161.413 890.373 162.431 890.373 Q168.218 890.373 171.598 893.544 Q174.977 896.715 174.977 902.132 Q174.977 907.711 171.505 910.813 Q168.033 913.891 161.714 913.891 Q159.538 913.891 157.269 913.521 Q155.024 913.15 152.616 912.41 L152.616 907.711 Q154.7 908.845 156.922 909.4 Q159.144 909.956 161.621 909.956 Q165.626 909.956 167.964 907.85 Q170.302 905.743 170.302 902.132 Q170.302 898.521 167.964 896.414 Q165.626 894.308 161.621 894.308 Q159.746 894.308 157.871 894.725 Q156.019 895.141 154.075 896.021 L154.075 878.66 Z\" fill=\"#000000\" fill-rule=\"evenodd\" fill-opacity=\"1\" /><path clip-path=\"url(#clip250)\" d=\"M123.681 664.057 L131.32 664.057 L131.32 637.691 L123.01 639.358 L123.01 635.099 L131.274 633.432 L135.95 633.432 L135.95 664.057 L143.589 664.057 L143.589 667.992 L123.681 667.992 L123.681 664.057 Z\" fill=\"#000000\" fill-rule=\"evenodd\" fill-opacity=\"1\" /><path clip-path=\"url(#clip250)\" d=\"M163.033 636.511 Q159.422 636.511 157.593 640.076 Q155.788 643.617 155.788 650.747 Q155.788 657.853 157.593 661.418 Q159.422 664.96 163.033 664.96 Q166.667 664.96 168.473 661.418 Q170.302 657.853 170.302 650.747 Q170.302 643.617 168.473 640.076 Q166.667 636.511 163.033 636.511 M163.033 632.807 Q168.843 632.807 171.899 637.414 Q174.977 641.997 174.977 650.747 Q174.977 659.474 171.899 664.08 Q168.843 668.663 163.033 668.663 Q157.223 668.663 154.144 664.08 Q151.089 659.474 151.089 650.747 Q151.089 641.997 154.144 637.414 Q157.223 632.807 163.033 632.807 Z\" fill=\"#000000\" fill-rule=\"evenodd\" fill-opacity=\"1\" /><path clip-path=\"url(#clip250)\" d=\"M124.677 418.829 L132.316 418.829 L132.316 392.463 L124.005 394.13 L124.005 389.871 L132.269 388.204 L136.945 388.204 L136.945 418.829 L144.584 418.829 L144.584 422.764 L124.677 422.764 L124.677 418.829 Z\" fill=\"#000000\" fill-rule=\"evenodd\" fill-opacity=\"1\" /><path clip-path=\"url(#clip250)\" d=\"M154.075 388.204 L172.431 388.204 L172.431 392.139 L158.357 392.139 L158.357 400.612 Q159.376 400.264 160.394 400.102 Q161.413 399.917 162.431 399.917 Q168.218 399.917 171.598 403.088 Q174.977 406.26 174.977 411.676 Q174.977 417.255 171.505 420.357 Q168.033 423.435 161.714 423.435 Q159.538 423.435 157.269 423.065 Q155.024 422.695 152.616 421.954 L152.616 417.255 Q154.7 418.389 156.922 418.945 Q159.144 419.5 161.621 419.5 Q165.626 419.5 167.964 417.394 Q170.302 415.287 170.302 411.676 Q170.302 408.065 167.964 405.959 Q165.626 403.852 161.621 403.852 Q159.746 403.852 157.871 404.269 Q156.019 404.686 154.075 405.565 L154.075 388.204 Z\" fill=\"#000000\" fill-rule=\"evenodd\" fill-opacity=\"1\" /><path clip-path=\"url(#clip250)\" d=\"M126.899 173.601 L143.218 173.601 L143.218 177.536 L121.274 177.536 L121.274 173.601 Q123.936 170.847 128.519 166.217 Q133.126 161.564 134.306 160.222 Q136.552 157.698 137.431 155.962 Q138.334 154.203 138.334 152.513 Q138.334 149.759 136.39 148.023 Q134.468 146.286 131.367 146.286 Q129.167 146.286 126.714 147.05 Q124.283 147.814 121.505 149.365 L121.505 144.643 Q124.33 143.509 126.783 142.93 Q129.237 142.351 131.274 142.351 Q136.644 142.351 139.839 145.036 Q143.033 147.722 143.033 152.212 Q143.033 154.342 142.223 156.263 Q141.436 158.161 139.329 160.754 Q138.751 161.425 135.649 164.643 Q132.547 167.837 126.899 173.601 Z\" fill=\"#000000\" fill-rule=\"evenodd\" fill-opacity=\"1\" /><path clip-path=\"url(#clip250)\" d=\"M163.033 146.055 Q159.422 146.055 157.593 149.62 Q155.788 153.161 155.788 160.291 Q155.788 167.397 157.593 170.962 Q159.422 174.504 163.033 174.504 Q166.667 174.504 168.473 170.962 Q170.302 167.397 170.302 160.291 Q170.302 153.161 168.473 149.62 Q166.667 146.055 163.033 146.055 M163.033 142.351 Q168.843 142.351 171.899 146.958 Q174.977 151.541 174.977 160.291 Q174.977 169.018 171.899 173.624 Q168.843 178.208 163.033 178.208 Q157.223 178.208 154.144 173.624 Q151.089 169.018 151.089 160.291 Q151.089 151.541 154.144 146.958 Q157.223 142.351 163.033 142.351 Z\" fill=\"#000000\" fill-rule=\"evenodd\" fill-opacity=\"1\" /><path clip-path=\"url(#clip250)\" d=\"M28.3562 756.711 L45.7028 769.602 L64.0042 756.043 L64.0042 762.95 L49.9996 773.326 L64.0042 783.702 L64.0042 790.609 L45.3526 776.763 L28.3562 789.431 L28.3562 782.524 L41.0558 773.071 L28.3562 763.618 L28.3562 756.711 Z\" fill=\"#000000\" fill-rule=\"evenodd\" fill-opacity=\"1\" /><path clip-path=\"url(#clip250)\" d=\"M1054.21 14.0809 L1054.21 22.0612 Q1049.55 19.8332 1045.42 18.7395 Q1041.28 17.6457 1037.44 17.6457 Q1030.75 17.6457 1027.11 20.2383 Q1023.5 22.8309 1023.5 27.611 Q1023.5 31.6214 1025.89 33.6873 Q1028.32 35.7128 1035.05 36.9686 L1039.99 37.9813 Q1049.14 39.7232 1053.48 44.1387 Q1057.85 48.5136 1057.85 55.8863 Q1057.85 64.6767 1051.94 69.2137 Q1046.06 73.7508 1034.68 73.7508 Q1030.39 73.7508 1025.53 72.7785 Q1020.7 71.8063 1015.52 69.9024 L1015.52 61.4765 Q1020.5 64.2716 1025.28 65.6895 Q1030.06 67.1073 1034.68 67.1073 Q1041.69 67.1073 1045.5 64.3527 Q1049.3 61.598 1049.3 56.4939 Q1049.3 52.0379 1046.55 49.5264 Q1043.84 47.0148 1037.6 45.759 L1032.61 44.7868 Q1023.46 42.9639 1019.37 39.075 Q1015.28 35.1862 1015.28 28.2591 Q1015.28 20.2383 1020.91 15.6203 Q1026.58 11.0023 1036.5 11.0023 Q1040.76 11.0023 1045.17 11.7719 Q1049.59 12.5416 1054.21 14.0809 Z\" fill=\"#000000\" fill-rule=\"evenodd\" fill-opacity=\"1\" /><path clip-path=\"url(#clip250)\" d=\"M1077.66 14.324 L1077.66 27.2059 L1093.01 27.2059 L1093.01 32.9987 L1077.66 32.9987 L1077.66 57.6282 Q1077.66 63.1779 1079.16 64.7578 Q1080.7 66.3376 1085.36 66.3376 L1093.01 66.3376 L1093.01 72.576 L1085.36 72.576 Q1076.73 72.576 1073.45 69.3758 Q1070.17 66.1351 1070.17 57.6282 L1070.17 32.9987 L1064.7 32.9987 L1064.7 27.2059 L1070.17 27.2059 L1070.17 14.324 L1077.66 14.324 Z\" fill=\"#000000\" fill-rule=\"evenodd\" fill-opacity=\"1\" /><path clip-path=\"url(#clip250)\" d=\"M1123.44 49.7694 Q1114.4 49.7694 1110.92 51.8354 Q1107.43 53.9013 1107.43 58.8839 Q1107.43 62.8538 1110.03 65.2034 Q1112.66 67.5124 1117.16 67.5124 Q1123.35 67.5124 1127.08 63.1374 Q1130.85 58.7219 1130.85 51.4303 L1130.85 49.7694 L1123.44 49.7694 M1138.3 46.6907 L1138.3 72.576 L1130.85 72.576 L1130.85 65.6895 Q1128.3 69.8214 1124.49 71.8063 Q1120.68 73.7508 1115.17 73.7508 Q1108.2 73.7508 1104.07 69.8619 Q1099.98 65.9325 1099.98 59.3701 Q1099.98 51.7138 1105.09 47.825 Q1110.23 43.9361 1120.4 43.9361 L1130.85 43.9361 L1130.85 43.2069 Q1130.85 38.0623 1127.45 35.2672 Q1124.08 32.4315 1117.97 32.4315 Q1114.08 32.4315 1110.39 33.3632 Q1106.71 34.295 1103.3 36.1584 L1103.3 29.2718 Q1107.39 27.692 1111.24 26.9223 Q1115.09 26.1121 1118.74 26.1121 Q1128.58 26.1121 1133.44 31.2163 Q1138.3 36.3204 1138.3 46.6907 Z\" fill=\"#000000\" fill-rule=\"evenodd\" fill-opacity=\"1\" /><path clip-path=\"url(#clip250)\" d=\"M1161.03 14.324 L1161.03 27.2059 L1176.38 27.2059 L1176.38 32.9987 L1161.03 32.9987 L1161.03 57.6282 Q1161.03 63.1779 1162.53 64.7578 Q1164.07 66.3376 1168.72 66.3376 L1176.38 66.3376 L1176.38 72.576 L1168.72 72.576 Q1160.1 72.576 1156.82 69.3758 Q1153.53 66.1351 1153.53 57.6282 L1153.53 32.9987 L1148.07 32.9987 L1148.07 27.2059 L1153.53 27.2059 L1153.53 14.324 L1161.03 14.324 Z\" fill=\"#000000\" fill-rule=\"evenodd\" fill-opacity=\"1\" /><path clip-path=\"url(#clip250)\" d=\"M1224.99 48.0275 L1224.99 51.6733 L1190.72 51.6733 Q1191.21 59.3701 1195.34 63.421 Q1199.51 67.4314 1206.92 67.4314 Q1211.22 67.4314 1215.23 66.3781 Q1219.28 65.3249 1223.25 63.2184 L1223.25 70.267 Q1219.24 71.9684 1215.03 72.8596 Q1210.81 73.7508 1206.48 73.7508 Q1195.62 73.7508 1189.26 67.4314 Q1182.94 61.1119 1182.94 50.3365 Q1182.94 39.1965 1188.94 32.6746 Q1194.97 26.1121 1205.18 26.1121 Q1214.34 26.1121 1219.64 32.0264 Q1224.99 37.9003 1224.99 48.0275 M1217.54 45.84 Q1217.46 39.7232 1214.1 36.0774 Q1210.77 32.4315 1205.26 32.4315 Q1199.03 32.4315 1195.26 35.9558 Q1191.53 39.4801 1190.96 45.8805 L1217.54 45.84 Z\" fill=\"#000000\" fill-rule=\"evenodd\" fill-opacity=\"1\" /><path clip-path=\"url(#clip250)\" d=\"M1263.92 12.096 L1272.1 12.096 L1272.1 36.8875 L1301.84 36.8875 L1301.84 12.096 L1310.02 12.096 L1310.02 72.576 L1301.84 72.576 L1301.84 43.7741 L1272.1 43.7741 L1272.1 72.576 L1263.92 72.576 L1263.92 12.096 Z\" fill=\"#000000\" fill-rule=\"evenodd\" fill-opacity=\"1\" /><path clip-path=\"url(#clip250)\" d=\"M1325.98 27.2059 L1333.43 27.2059 L1333.43 72.576 L1325.98 72.576 L1325.98 27.2059 M1325.98 9.54393 L1333.43 9.54393 L1333.43 18.9825 L1325.98 18.9825 L1325.98 9.54393 Z\" fill=\"#000000\" fill-rule=\"evenodd\" fill-opacity=\"1\" /><path clip-path=\"url(#clip250)\" d=\"M1377.95 28.5427 L1377.95 35.5912 Q1374.79 33.9709 1371.39 33.1607 Q1367.99 32.3505 1364.34 32.3505 Q1358.79 32.3505 1356 34.0519 Q1353.24 35.7533 1353.24 39.156 Q1353.24 41.7486 1355.23 43.2475 Q1357.21 44.7058 1363.21 46.0426 L1365.76 46.6097 Q1373.7 48.3111 1377.02 51.4303 Q1380.38 54.509 1380.38 60.0587 Q1380.38 66.3781 1375.36 70.0644 Q1370.38 73.7508 1361.63 73.7508 Q1357.98 73.7508 1354.01 73.0216 Q1350.08 72.3329 1345.71 70.9151 L1345.71 63.2184 Q1349.84 65.3654 1353.85 66.4591 Q1357.86 67.5124 1361.79 67.5124 Q1367.06 67.5124 1369.89 65.73 Q1372.73 63.9071 1372.73 60.6258 Q1372.73 57.5877 1370.66 55.9673 Q1368.64 54.3469 1361.71 52.8481 L1359.12 52.2405 Q1352.19 50.7821 1349.11 47.7845 Q1346.03 44.7463 1346.03 39.4801 Q1346.03 33.0797 1350.57 29.5959 Q1355.11 26.1121 1363.45 26.1121 Q1367.58 26.1121 1371.23 26.7198 Q1374.88 27.3274 1377.95 28.5427 Z\" fill=\"#000000\" fill-rule=\"evenodd\" fill-opacity=\"1\" /><path clip-path=\"url(#clip250)\" d=\"M1399.63 14.324 L1399.63 27.2059 L1414.98 27.2059 L1414.98 32.9987 L1399.63 32.9987 L1399.63 57.6282 Q1399.63 63.1779 1401.13 64.7578 Q1402.66 66.3376 1407.32 66.3376 L1414.98 66.3376 L1414.98 72.576 L1407.32 72.576 Q1398.69 72.576 1395.41 69.3758 Q1392.13 66.1351 1392.13 57.6282 L1392.13 32.9987 L1386.66 32.9987 L1386.66 27.2059 L1392.13 27.2059 L1392.13 14.324 L1399.63 14.324 Z\" fill=\"#000000\" fill-rule=\"evenodd\" fill-opacity=\"1\" /><path clip-path=\"url(#clip250)\" d=\"M1442.36 32.4315 Q1436.37 32.4315 1432.88 37.1306 Q1429.4 41.7891 1429.4 49.9314 Q1429.4 58.0738 1432.84 62.7728 Q1436.33 67.4314 1442.36 67.4314 Q1448.32 67.4314 1451.8 62.7323 Q1455.29 58.0333 1455.29 49.9314 Q1455.29 41.8701 1451.8 37.1711 Q1448.32 32.4315 1442.36 32.4315 M1442.36 26.1121 Q1452.09 26.1121 1457.64 32.4315 Q1463.19 38.7509 1463.19 49.9314 Q1463.19 61.0714 1457.64 67.4314 Q1452.09 73.7508 1442.36 73.7508 Q1432.6 73.7508 1427.05 67.4314 Q1421.54 61.0714 1421.54 49.9314 Q1421.54 38.7509 1427.05 32.4315 Q1432.6 26.1121 1442.36 26.1121 Z\" fill=\"#000000\" fill-rule=\"evenodd\" fill-opacity=\"1\" /><path clip-path=\"url(#clip250)\" d=\"M1501.83 34.1734 Q1500.57 33.4443 1499.08 33.1202 Q1497.62 32.7556 1495.84 32.7556 Q1489.52 32.7556 1486.11 36.8875 Q1482.75 40.9789 1482.75 48.6757 L1482.75 72.576 L1475.26 72.576 L1475.26 27.2059 L1482.75 27.2059 L1482.75 34.2544 Q1485.1 30.1225 1488.87 28.1376 Q1492.64 26.1121 1498.02 26.1121 Q1498.79 26.1121 1499.72 26.2337 Q1500.66 26.3147 1501.79 26.5172 L1501.83 34.1734 Z\" fill=\"#000000\" fill-rule=\"evenodd\" fill-opacity=\"1\" /><path clip-path=\"url(#clip250)\" d=\"M1528.53 76.7889 Q1525.37 84.8907 1522.37 87.3618 Q1519.37 89.8329 1514.35 89.8329 L1508.39 89.8329 L1508.39 83.5945 L1512.77 83.5945 Q1515.85 83.5945 1517.55 82.1361 Q1519.25 80.6778 1521.32 75.2496 L1522.65 71.8468 L1504.3 27.2059 L1512.2 27.2059 L1526.38 62.6918 L1540.56 27.2059 L1548.46 27.2059 L1528.53 76.7889 Z\" fill=\"#000000\" fill-rule=\"evenodd\" fill-opacity=\"1\" /><polyline clip-path=\"url(#clip252)\" style=\"stroke:#009af9; stroke-linecap:round; stroke-linejoin:round; stroke-width:4; stroke-opacity:1; fill:none\" points=\"271.594,944.985 278.329,952.283 285.064,959.461 291.799,966.521 298.534,973.465 305.27,980.292 312.005,987.004 318.74,993.601 325.475,1000.09 332.21,1006.46 338.945,1012.72 345.68,1018.87 352.416,1024.91 359.151,1030.84 365.886,1036.67 372.621,1042.38 379.356,1048 386.091,1053.51 392.827,1058.91 399.562,1064.21 406.297,1069.41 413.032,1074.51 419.767,1079.51 426.502,1084.42 433.237,1089.22 439.973,1093.93 446.708,1098.54 453.443,1103.06 460.178,1107.48 466.913,1111.82 473.648,1116.06 480.384,1120.21 487.119,1124.27 493.854,1128.24 500.589,1132.13 507.324,1135.92 514.059,1139.64 520.794,1143.27 527.53,1146.81 534.265,1150.27 541,1153.66 547.735,1156.96 554.47,1160.18 561.205,1163.32 567.941,1166.39 574.676,1169.38 581.411,1172.29 588.146,1175.13 594.881,1177.9 601.616,1180.59 608.351,1183.21 615.087,1185.76 621.822,1188.24 628.557,1190.66 635.292,1193 642.027,1195.28 648.762,1197.49 655.497,1199.64 662.233,1201.72 668.968,1203.74 675.703,1205.7 682.438,1207.6 689.173,1209.43 695.908,1211.21 702.644,1212.93 709.379,1214.59 716.114,1216.19 722.849,1217.74 729.584,1219.23 736.319,1220.66 743.054,1222.05 749.79,1223.38 756.525,1224.66 763.26,1225.89 769.995,1227.07 776.73,1228.2 783.465,1229.28 790.201,1230.31 796.936,1231.3 803.671,1232.24 810.406,1233.14 817.141,1233.99 823.876,1234.8 830.611,1235.56 837.347,1236.28 844.082,1236.96 850.817,1237.6 857.552,1238.21 864.287,1238.77 871.022,1239.29 877.758,1239.78 884.493,1240.22 891.228,1240.64 897.963,1241.01 904.698,1241.35 911.433,1241.66 918.168,1241.94 924.904,1242.18 931.639,1242.39 938.374,1242.56 945.109,1242.71 951.844,1242.83 958.579,1242.91 965.314,1242.97 972.05,1243 978.785,1243 985.52,1242.98 992.255,1242.92 998.99,1242.84 1005.73,1242.74 1012.46,1242.61 1019.2,1242.46 1025.93,1242.28 1032.67,1242.09 1039.4,1241.86 1046.14,1241.62 1052.87,1241.35 1059.61,1241.07 1066.34,1240.76 1073.08,1240.44 1079.81,1240.09 1086.55,1239.73 1093.28,1239.34 1100.02,1238.94 1106.75,1238.52 1113.49,1238.09 1120.22,1237.64 1126.96,1237.17 1133.69,1236.68 1140.43,1236.19 1147.16,1235.67 1153.9,1235.15 1160.63,1234.61 1167.37,1234.05 1174.1,1233.48 1180.84,1232.9 1187.57,1232.31 1194.31,1231.71 1201.04,1231.09 1207.78,1230.47 1214.52,1229.83 1221.25,1229.19 1227.99,1228.53 1234.72,1227.86 1241.46,1227.19 1248.19,1226.51 1254.93,1225.81 1261.66,1225.11 1268.4,1224.41 1275.13,1223.69 1281.87,1222.97 1288.6,1222.24 1295.34,1221.51 1302.07,1220.77 1308.81,1220.02 1315.54,1219.27 1322.28,1218.51 1329.01,1217.75 1335.75,1216.98 1342.48,1216.21 1349.22,1215.44 1355.95,1214.66 1362.69,1213.88 1369.42,1213.09 1376.16,1212.3 1382.89,1211.51 1389.63,1210.72 1396.36,1209.92 1403.1,1209.12 1409.83,1208.33 1416.57,1207.52 1423.3,1206.72 1430.04,1205.92 1436.78,1205.12 1443.51,1204.31 1450.25,1203.51 1456.98,1202.7 1463.72,1201.9 1470.45,1201.09 1477.19,1200.29 1483.92,1199.48 1490.66,1198.68 1497.39,1197.88 1504.13,1197.08 1510.86,1196.28 1517.6,1195.48 1524.33,1194.68 1531.07,1193.89 1537.8,1193.09 1544.54,1192.3 1551.27,1191.51 1558.01,1190.73 1564.74,1189.95 1571.48,1189.16 1578.21,1188.39 1584.95,1187.61 1591.68,1186.84 1598.42,1186.07 1605.15,1185.31 1611.89,1184.55 1618.62,1183.79 1625.36,1183.04 1632.09,1182.29 1638.83,1181.54 1645.56,1180.8 1652.3,1180.06 1659.04,1179.33 1665.77,1178.6 1672.51,1177.88 1679.24,1177.16 1685.98,1176.45 1692.71,1175.74 1699.45,1175.04 1706.18,1174.34 1712.92,1173.65 1719.65,1172.96 1726.39,1172.28 1733.12,1171.6 1739.86,1170.93 1746.59,1170.26 1753.33,1169.6 1760.06,1168.95 1766.8,1168.3 1773.53,1167.66 1780.27,1167.03 1787,1166.4 1793.74,1165.77 1800.47,1165.16 1807.21,1164.55 1813.94,1163.94 1820.68,1163.34 1827.41,1162.75 1834.15,1162.17 1840.88,1161.59 1847.62,1161.02 1854.35,1160.46 1861.09,1159.9 1867.82,1159.35 1874.56,1158.81 1881.3,1158.28 1888.03,1157.75 1894.77,1157.23 1901.5,1156.71 1908.24,1156.21 1914.97,1155.71 1921.71,1155.22 1928.44,1154.73 1935.18,1154.26 1941.91,1153.79 1948.65,1153.33 1955.38,1152.88 1962.12,1152.43 1968.85,1151.99 1975.59,1151.56 1982.32,1151.14 1989.06,1150.73 1995.79,1150.32 2002.53,1149.93 2009.26,1149.54 2016,1149.16 2022.73,1148.78 2029.47,1148.42 2036.2,1148.06 2042.94,1147.72 2049.67,1147.38 2056.41,1147.05 2063.14,1146.72 2069.88,1146.41 2076.61,1146.11 2083.35,1145.81 2090.08,1145.52 2096.82,1145.24 2103.56,1144.97 2110.29,1144.71 2117.03,1144.46 2123.76,1144.22 2130.5,1143.98 2137.23,1143.76 2143.97,1143.54 2150.7,1143.33 2157.44,1143.13 2164.17,1142.95 2170.91,1142.77 2177.64,1142.6 2184.38,1142.43 2191.11,1142.28 2197.85,1142.14 2204.58,1142.01 2211.32,1141.88 2218.05,1141.77 2224.79,1141.67 2231.52,1141.57 2238.26,1141.49 2244.99,1141.41 2251.73,1141.35 2258.46,1141.29 2265.2,1141.25 2271.93,1141.21 2278.67,1141.19 2285.4,1141.17 2292.14,1141.17 \"/>\n<polyline clip-path=\"url(#clip252)\" style=\"stroke:#e26f46; stroke-linecap:round; stroke-linejoin:round; stroke-width:4; stroke-opacity:1; fill:none\" points=\"271.594,1043.08 278.329,1038.24 285.064,1033.54 291.799,1028.98 298.534,1024.55 305.27,1020.26 312.005,1016.1 318.74,1012.08 325.475,1008.19 332.21,1004.42 338.945,1000.77 345.68,997.243 352.416,993.827 359.151,990.525 365.886,987.335 372.621,984.256 379.356,981.286 386.091,978.422 392.827,975.664 399.562,973.01 406.297,970.457 413.032,968.005 419.767,965.651 426.502,963.394 433.237,961.232 439.973,959.164 446.708,957.189 453.443,955.303 460.178,953.507 466.913,951.798 473.648,950.174 480.384,948.635 487.119,947.179 493.854,945.803 500.589,944.508 507.324,943.291 514.059,942.15 520.794,941.085 527.53,940.093 534.265,939.174 541,938.326 547.735,937.548 554.47,936.838 561.205,936.195 567.941,935.617 574.676,935.103 581.411,934.653 588.146,934.264 594.881,933.935 601.616,933.665 608.351,933.452 615.087,933.297 621.822,933.196 628.557,933.15 635.292,933.156 642.027,933.214 648.762,933.322 655.497,933.479 662.233,933.685 668.968,933.937 675.703,934.235 682.438,934.578 689.173,934.965 695.908,935.394 702.644,935.865 709.379,936.376 716.114,936.926 722.849,937.515 729.584,938.141 736.319,938.803 743.054,939.501 749.79,940.233 756.525,940.998 763.26,941.796 769.995,942.626 776.73,943.486 783.465,944.376 790.201,945.295 796.936,946.242 803.671,947.215 810.406,948.215 817.141,949.241 823.876,950.291 830.611,951.364 837.347,952.461 844.082,953.58 850.817,954.72 857.552,955.881 864.287,957.061 871.022,958.261 877.758,959.479 884.493,960.715 891.228,961.968 897.963,963.237 904.698,964.522 911.433,965.821 918.168,967.135 924.904,968.462 931.639,969.803 938.374,971.156 945.109,972.52 951.844,973.896 958.579,975.282 965.314,976.678 972.05,978.083 978.785,979.498 985.52,980.92 992.255,982.351 998.99,983.788 1005.73,985.232 1012.46,986.683 1019.2,988.139 1025.93,989.6 1032.67,991.066 1039.4,992.536 1046.14,994.01 1052.87,995.487 1059.61,996.967 1066.34,998.45 1073.08,999.934 1079.81,1001.42 1086.55,1002.91 1093.28,1004.4 1100.02,1005.88 1106.75,1007.37 1113.49,1008.86 1120.22,1010.35 1126.96,1011.83 1133.69,1013.32 1140.43,1014.8 1147.16,1016.28 1153.9,1017.76 1160.63,1019.24 1167.37,1020.71 1174.1,1022.18 1180.84,1023.65 1187.57,1025.11 1194.31,1026.57 1201.04,1028.02 1207.78,1029.47 1214.52,1030.91 1221.25,1032.35 1227.99,1033.78 1234.72,1035.21 1241.46,1036.63 1248.19,1038.05 1254.93,1039.46 1261.66,1040.86 1268.4,1042.25 1275.13,1043.64 1281.87,1045.02 1288.6,1046.4 1295.34,1047.76 1302.07,1049.12 1308.81,1050.47 1315.54,1051.81 1322.28,1053.15 1329.01,1054.47 1335.75,1055.79 1342.48,1057.1 1349.22,1058.4 1355.95,1059.69 1362.69,1060.97 1369.42,1062.24 1376.16,1063.51 1382.89,1064.76 1389.63,1066 1396.36,1067.24 1403.1,1068.46 1409.83,1069.68 1416.57,1070.88 1423.3,1072.08 1430.04,1073.26 1436.78,1074.44 1443.51,1075.6 1450.25,1076.75 1456.98,1077.9 1463.72,1079.03 1470.45,1080.15 1477.19,1081.26 1483.92,1082.36 1490.66,1083.46 1497.39,1084.53 1504.13,1085.6 1510.86,1086.66 1517.6,1087.71 1524.33,1088.75 1531.07,1089.77 1537.8,1090.79 1544.54,1091.79 1551.27,1092.78 1558.01,1093.76 1564.74,1094.73 1571.48,1095.69 1578.21,1096.64 1584.95,1097.58 1591.68,1098.5 1598.42,1099.42 1605.15,1100.32 1611.89,1101.22 1618.62,1102.1 1625.36,1102.97 1632.09,1103.83 1638.83,1104.68 1645.56,1105.52 1652.3,1106.34 1659.04,1107.16 1665.77,1107.96 1672.51,1108.76 1679.24,1109.54 1685.98,1110.31 1692.71,1111.07 1699.45,1111.82 1706.18,1112.56 1712.92,1113.29 1719.65,1114.01 1726.39,1114.72 1733.12,1115.41 1739.86,1116.1 1746.59,1116.77 1753.33,1117.44 1760.06,1118.09 1766.8,1118.74 1773.53,1119.37 1780.27,1119.99 1787,1120.6 1793.74,1121.21 1800.47,1121.8 1807.21,1122.38 1813.94,1122.95 1820.68,1123.51 1827.41,1124.06 1834.15,1124.6 1840.88,1125.13 1847.62,1125.66 1854.35,1126.17 1861.09,1126.67 1867.82,1127.16 1874.56,1127.64 1881.3,1128.11 1888.03,1128.58 1894.77,1129.03 1901.5,1129.47 1908.24,1129.91 1914.97,1130.33 1921.71,1130.75 1928.44,1131.16 1935.18,1131.55 1941.91,1131.94 1948.65,1132.32 1955.38,1132.69 1962.12,1133.05 1968.85,1133.41 1975.59,1133.75 1982.32,1134.08 1989.06,1134.41 1995.79,1134.73 2002.53,1135.04 2009.26,1135.34 2016,1135.63 2022.73,1135.91 2029.47,1136.19 2036.2,1136.46 2042.94,1136.72 2049.67,1136.97 2056.41,1137.21 2063.14,1137.45 2069.88,1137.67 2076.61,1137.89 2083.35,1138.1 2090.08,1138.31 2096.82,1138.51 2103.56,1138.69 2110.29,1138.88 2117.03,1139.05 2123.76,1139.22 2130.5,1139.37 2137.23,1139.53 2143.97,1139.67 2150.7,1139.81 2157.44,1139.94 2164.17,1140.06 2170.91,1140.18 2177.64,1140.29 2184.38,1140.39 2191.11,1140.49 2197.85,1140.58 2204.58,1140.66 2211.32,1140.74 2218.05,1140.81 2224.79,1140.87 2231.52,1140.93 2238.26,1140.98 2244.99,1141.02 2251.73,1141.06 2258.46,1141.09 2265.2,1141.12 2271.93,1141.14 2278.67,1141.16 2285.4,1141.16 2292.14,1141.17 \"/>\n<polyline clip-path=\"url(#clip252)\" style=\"stroke:#3da44d; stroke-linecap:round; stroke-linejoin:round; stroke-width:4; stroke-opacity:1; fill:none\" points=\"271.594,160.256 278.329,172.497 285.064,184.694 291.799,196.847 298.534,208.952 305.27,221.009 312.005,233.014 318.74,244.966 325.475,256.864 332.21,268.704 338.945,280.486 345.68,292.208 352.416,303.869 359.151,315.465 365.886,326.997 372.621,338.463 379.356,349.86 386.091,361.189 392.827,372.446 399.562,383.632 406.297,394.745 413.032,405.783 419.767,416.746 426.502,427.632 433.237,438.44 439.973,449.17 446.708,459.819 453.443,470.388 460.178,480.876 466.913,491.281 473.648,501.602 480.384,511.84 487.119,521.992 493.854,532.059 500.589,542.04 507.324,551.933 514.059,561.74 520.794,571.458 527.53,581.087 534.265,590.627 541,600.078 547.735,609.438 554.47,618.708 561.205,627.887 567.941,636.975 574.676,645.971 581.411,654.876 588.146,663.688 594.881,672.408 601.616,681.035 608.351,689.57 615.087,698.012 621.822,706.36 628.557,714.616 635.292,722.778 642.027,730.848 648.762,738.823 655.497,746.706 662.233,754.495 668.968,762.191 675.703,769.794 682.438,777.304 689.173,784.721 695.908,792.045 702.644,799.276 709.379,806.415 716.114,813.461 722.849,820.415 729.584,827.277 736.319,834.048 743.054,840.727 749.79,847.315 756.525,853.811 763.26,860.218 769.995,866.534 776.73,872.76 783.465,878.896 790.201,884.943 796.936,890.901 803.671,896.771 810.406,902.553 817.141,908.247 823.876,913.854 830.611,919.374 837.347,924.808 844.082,930.156 850.817,935.418 857.552,940.596 864.287,945.689 871.022,950.698 877.758,955.624 884.493,960.467 891.228,965.228 897.963,969.907 904.698,974.505 911.433,979.023 918.168,983.46 924.904,987.818 931.639,992.097 938.374,996.297 945.109,1000.42 951.844,1004.47 958.579,1008.44 965.314,1012.33 972.05,1016.15 978.785,1019.89 985.52,1023.56 992.255,1027.16 998.99,1030.68 1005.73,1034.14 1012.46,1037.52 1019.2,1040.83 1025.93,1044.07 1032.67,1047.24 1039.4,1050.34 1046.14,1053.38 1052.87,1056.35 1059.61,1059.25 1066.34,1062.08 1073.08,1064.85 1079.81,1067.56 1086.55,1070.2 1093.28,1072.78 1100.02,1075.3 1106.75,1077.76 1113.49,1080.15 1120.22,1082.49 1126.96,1084.76 1133.69,1086.98 1140.43,1089.14 1147.16,1091.24 1153.9,1093.29 1160.63,1095.28 1167.37,1097.22 1174.1,1099.1 1180.84,1100.93 1187.57,1102.7 1194.31,1104.42 1201.04,1106.1 1207.78,1107.72 1214.52,1109.29 1221.25,1110.81 1227.99,1112.29 1234.72,1113.72 1241.46,1115.1 1248.19,1116.43 1254.93,1117.72 1261.66,1118.97 1268.4,1120.17 1275.13,1121.33 1281.87,1122.44 1288.6,1123.52 1295.34,1124.55 1302.07,1125.55 1308.81,1126.5 1315.54,1127.42 1322.28,1128.3 1329.01,1129.14 1335.75,1129.94 1342.48,1130.72 1349.22,1131.45 1355.95,1132.15 1362.69,1132.82 1369.42,1133.46 1376.16,1134.06 1382.89,1134.64 1389.63,1135.18 1396.36,1135.69 1403.1,1136.18 1409.83,1136.64 1416.57,1137.07 1423.3,1137.47 1430.04,1137.85 1436.78,1138.2 1443.51,1138.53 1450.25,1138.84 1456.98,1139.12 1463.72,1139.38 1470.45,1139.62 1477.19,1139.84 1483.92,1140.04 1490.66,1140.22 1497.39,1140.38 1504.13,1140.53 1510.86,1140.66 1517.6,1140.77 1524.33,1140.86 1531.07,1140.95 1537.8,1141.02 1544.54,1141.07 1551.27,1141.11 1558.01,1141.15 1564.74,1141.17 1571.48,1141.18 1578.21,1141.18 1584.95,1141.18 1591.68,1141.18 1598.42,1141.17 1605.15,1141.17 1611.89,1141.17 1618.62,1141.17 1625.36,1141.17 1632.09,1141.17 1638.83,1141.17 1645.56,1141.17 1652.3,1141.17 1659.04,1141.17 1665.77,1141.17 1672.51,1141.17 1679.24,1141.17 1685.98,1141.17 1692.71,1141.17 1699.45,1141.17 1706.18,1141.17 1712.92,1141.17 1719.65,1141.17 1726.39,1141.17 1733.12,1141.17 1739.86,1141.17 1746.59,1141.17 1753.33,1141.17 1760.06,1141.17 1766.8,1141.17 1773.53,1141.17 1780.27,1141.17 1787,1141.17 1793.74,1141.17 1800.47,1141.17 1807.21,1141.17 1813.94,1141.17 1820.68,1141.17 1827.41,1141.17 1834.15,1141.17 1840.88,1141.17 1847.62,1141.17 1854.35,1141.17 1861.09,1141.17 1867.82,1141.17 1874.56,1141.17 1881.3,1141.17 1888.03,1141.17 1894.77,1141.17 1901.5,1141.17 1908.24,1141.17 1914.97,1141.17 1921.71,1141.17 1928.44,1141.17 1935.18,1141.17 1941.91,1141.17 1948.65,1141.17 1955.38,1141.17 1962.12,1141.17 1968.85,1141.17 1975.59,1141.17 1982.32,1141.17 1989.06,1141.17 1995.79,1141.17 2002.53,1141.17 2009.26,1141.17 2016,1141.17 2022.73,1141.17 2029.47,1141.17 2036.2,1141.17 2042.94,1141.17 2049.67,1141.17 2056.41,1141.17 2063.14,1141.17 2069.88,1141.17 2076.61,1141.17 2083.35,1141.17 2090.08,1141.17 2096.82,1141.17 2103.56,1141.17 2110.29,1141.17 2117.03,1141.17 2123.76,1141.17 2130.5,1141.17 2137.23,1141.17 2143.97,1141.17 2150.7,1141.17 2157.44,1141.17 2164.17,1141.17 2170.91,1141.17 2177.64,1141.17 2184.38,1141.17 2191.11,1141.17 2197.85,1141.17 2204.58,1141.17 2211.32,1141.17 2218.05,1141.17 2224.79,1141.17 2231.52,1141.17 2238.26,1141.17 2244.99,1141.17 2251.73,1141.17 2258.46,1141.17 2265.2,1141.17 2271.93,1141.17 2278.67,1141.17 2285.4,1141.17 2292.14,1141.17 \"/>\n<polyline clip-path=\"url(#clip252)\" style=\"stroke:#c271d2; stroke-linecap:round; stroke-linejoin:round; stroke-width:4; stroke-opacity:1; fill:none\" stroke-dasharray=\"16, 10\" points=\"271.594,1288.3 278.329,1285.92 285.064,1283.55 291.799,1281.2 298.534,1278.87 305.27,1276.55 312.005,1274.26 318.74,1271.98 325.475,1269.73 332.21,1267.49 338.945,1265.27 345.68,1263.07 352.416,1260.89 359.151,1258.73 365.886,1256.59 372.621,1254.47 379.356,1252.37 386.091,1250.29 392.827,1248.23 399.562,1246.19 406.297,1244.17 413.032,1242.17 419.767,1240.19 426.502,1238.23 433.237,1236.29 439.973,1234.37 446.708,1232.47 453.443,1230.59 460.178,1228.73 466.913,1226.89 473.648,1225.07 480.384,1223.27 487.119,1221.5 493.854,1219.74 500.589,1218 507.324,1216.28 514.059,1214.58 520.794,1212.9 527.53,1211.25 534.265,1209.61 541,1207.99 547.735,1206.39 554.47,1204.81 561.205,1203.26 567.941,1201.72 574.676,1200.2 581.411,1198.7 588.146,1197.22 594.881,1195.76 601.616,1194.31 608.351,1192.89 615.087,1191.49 621.822,1190.1 628.557,1188.74 635.292,1187.39 642.027,1186.06 648.762,1184.75 655.497,1183.46 662.233,1182.19 668.968,1180.94 675.703,1179.7 682.438,1178.48 689.173,1177.28 695.908,1176.1 702.644,1174.94 709.379,1173.79 716.114,1172.66 722.849,1171.55 729.584,1170.46 736.319,1169.38 743.054,1168.32 749.79,1167.28 756.525,1166.25 763.26,1165.24 769.995,1164.25 776.73,1163.27 783.465,1162.31 790.201,1161.37 796.936,1160.44 803.671,1159.53 810.406,1158.63 817.141,1157.75 823.876,1156.89 830.611,1156.04 837.347,1155.2 844.082,1154.38 850.817,1153.58 857.552,1152.79 864.287,1152.01 871.022,1151.25 877.758,1150.5 884.493,1149.77 891.228,1149.05 897.963,1148.35 904.698,1147.66 911.433,1146.98 918.168,1146.31 924.904,1145.66 931.639,1145.03 938.374,1144.4 945.109,1143.79 951.844,1143.19 958.579,1142.61 965.314,1142.03 972.05,1141.47 978.785,1140.92 985.52,1140.39 992.255,1139.86 998.99,1139.35 1005.73,1138.85 1012.46,1138.36 1019.2,1137.88 1025.93,1137.41 1032.67,1136.96 1039.4,1136.51 1046.14,1136.08 1052.87,1135.65 1059.61,1135.24 1066.34,1134.84 1073.08,1134.44 1079.81,1134.06 1086.55,1133.69 1093.28,1133.33 1100.02,1132.97 1106.75,1132.63 1113.49,1132.3 1120.22,1131.97 1126.96,1131.66 1133.69,1131.35 1140.43,1131.05 1147.16,1130.76 1153.9,1130.48 1160.63,1130.21 1167.37,1129.95 1174.1,1129.7 1180.84,1129.45 1187.57,1129.21 1194.31,1128.98 1201.04,1128.76 1207.78,1128.55 1214.52,1128.34 1221.25,1128.14 1227.99,1127.95 1234.72,1127.76 1241.46,1127.59 1248.19,1127.42 1254.93,1127.25 1261.66,1127.1 1268.4,1126.95 1275.13,1126.8 1281.87,1126.67 1288.6,1126.53 1295.34,1126.41 1302.07,1126.29 1308.81,1126.18 1315.54,1126.07 1322.28,1125.97 1329.01,1125.88 1335.75,1125.79 1342.48,1125.71 1349.22,1125.63 1355.95,1125.56 1362.69,1125.49 1369.42,1125.43 1376.16,1125.37 1382.89,1125.32 1389.63,1125.28 1396.36,1125.23 1403.1,1125.2 1409.83,1125.17 1416.57,1125.14 1423.3,1125.11 1430.04,1125.1 1436.78,1125.08 1443.51,1125.07 1450.25,1125.07 1456.98,1125.06 1463.72,1125.07 1470.45,1125.07 1477.19,1125.08 1483.92,1125.1 1490.66,1125.11 1497.39,1125.13 1504.13,1125.16 1510.86,1125.19 1517.6,1125.22 1524.33,1125.25 1531.07,1125.29 1537.8,1125.33 1544.54,1125.38 1551.27,1125.43 1558.01,1125.48 1564.74,1125.53 1571.48,1125.59 1578.21,1125.65 1584.95,1125.71 1591.68,1125.77 1598.42,1125.84 1605.15,1125.91 1611.89,1125.99 1618.62,1126.06 1625.36,1126.14 1632.09,1126.22 1638.83,1126.3 1645.56,1126.39 1652.3,1126.48 1659.04,1126.57 1665.77,1126.66 1672.51,1126.75 1679.24,1126.85 1685.98,1126.95 1692.71,1127.05 1699.45,1127.15 1706.18,1127.25 1712.92,1127.36 1719.65,1127.47 1726.39,1127.58 1733.12,1127.69 1739.86,1127.8 1746.59,1127.92 1753.33,1128.04 1760.06,1128.15 1766.8,1128.27 1773.53,1128.4 1780.27,1128.52 1787,1128.64 1793.74,1128.77 1800.47,1128.9 1807.21,1129.03 1813.94,1129.16 1820.68,1129.29 1827.41,1129.42 1834.15,1129.56 1840.88,1129.69 1847.62,1129.83 1854.35,1129.97 1861.09,1130.11 1867.82,1130.25 1874.56,1130.39 1881.3,1130.54 1888.03,1130.68 1894.77,1130.83 1901.5,1130.97 1908.24,1131.12 1914.97,1131.27 1921.71,1131.42 1928.44,1131.57 1935.18,1131.72 1941.91,1131.88 1948.65,1132.03 1955.38,1132.19 1962.12,1132.34 1968.85,1132.5 1975.59,1132.66 1982.32,1132.82 1989.06,1132.98 1995.79,1133.14 2002.53,1133.3 2009.26,1133.47 2016,1133.63 2022.73,1133.8 2029.47,1133.96 2036.2,1134.13 2042.94,1134.3 2049.67,1134.47 2056.41,1134.64 2063.14,1134.81 2069.88,1134.98 2076.61,1135.15 2083.35,1135.33 2090.08,1135.5 2096.82,1135.68 2103.56,1135.85 2110.29,1136.03 2117.03,1136.21 2123.76,1136.39 2130.5,1136.57 2137.23,1136.75 2143.97,1136.93 2150.7,1137.11 2157.44,1137.3 2164.17,1137.48 2170.91,1137.67 2177.64,1137.85 2184.38,1138.04 2191.11,1138.23 2197.85,1138.42 2204.58,1138.61 2211.32,1138.8 2218.05,1138.99 2224.79,1139.19 2231.52,1139.38 2238.26,1139.57 2244.99,1139.77 2251.73,1139.97 2258.46,1140.16 2265.2,1140.36 2271.93,1140.56 2278.67,1140.76 2285.4,1140.97 2292.14,1141.17 \"/>\n<polyline clip-path=\"url(#clip252)\" style=\"stroke:#ac8d18; stroke-linecap:round; stroke-linejoin:round; stroke-width:4; stroke-opacity:1; fill:none\" stroke-dasharray=\"16, 10\" points=\"271.594,1043.08 278.329,1045.8 285.064,1048.53 291.799,1051.25 298.534,1053.98 305.27,1056.7 312.005,1059.43 318.74,1062.15 325.475,1064.59 332.21,1067 338.945,1069.37 345.68,1071.7 352.416,1074 359.151,1076.26 365.886,1078.49 372.621,1080.68 379.356,1082.84 386.091,1084.96 392.827,1087.05 399.562,1089.1 406.297,1091.13 413.032,1093.11 419.767,1095.07 426.502,1096.99 433.237,1098.88 439.973,1100.74 446.708,1102.56 453.443,1104.36 460.178,1106.12 466.913,1107.85 473.648,1109.55 480.384,1111.22 487.119,1112.86 493.854,1114.47 500.589,1116.05 507.324,1117.6 514.059,1119.12 520.794,1120.61 527.53,1122.07 534.265,1123.51 541,1124.91 547.735,1126.29 554.47,1127.64 561.205,1128.96 567.941,1130.26 574.676,1131.53 581.411,1132.78 588.146,1133.99 594.881,1135.19 601.616,1136.35 608.351,1137.49 615.087,1138.61 621.822,1139.7 628.557,1140.77 635.292,1141.81 642.027,1142.83 648.762,1143.83 655.497,1144.8 662.233,1145.75 668.968,1146.68 675.703,1147.59 682.438,1148.47 689.173,1149.33 695.908,1150.17 702.644,1150.99 709.379,1151.79 716.114,1152.56 722.849,1153.32 729.584,1154.06 736.319,1154.77 743.054,1155.47 749.79,1156.15 756.525,1156.81 763.26,1157.45 769.995,1158.07 776.73,1158.67 783.465,1159.26 790.201,1159.83 796.936,1160.38 803.671,1160.91 810.406,1161.43 817.141,1161.93 823.876,1162.41 830.611,1162.88 837.347,1163.33 844.082,1163.76 850.817,1164.18 857.552,1164.59 864.287,1164.98 871.022,1165.35 877.758,1165.71 884.493,1166.06 891.228,1166.39 897.963,1166.71 904.698,1167.01 911.433,1167.3 918.168,1167.58 924.904,1167.85 931.639,1168.1 938.374,1168.34 945.109,1168.57 951.844,1168.79 958.579,1168.99 965.314,1169.19 972.05,1169.37 978.785,1169.54 985.52,1169.7 992.255,1169.85 998.99,1169.99 1005.73,1170.12 1012.46,1170.23 1019.2,1170.34 1025.93,1170.44 1032.67,1170.53 1039.4,1170.61 1046.14,1170.68 1052.87,1170.74 1059.61,1170.8 1066.34,1170.84 1073.08,1170.88 1079.81,1170.9 1086.55,1170.92 1093.28,1170.94 1100.02,1170.94 1106.75,1170.94 1113.49,1170.93 1120.22,1170.91 1126.96,1170.88 1133.69,1170.85 1140.43,1170.81 1147.16,1170.77 1153.9,1170.72 1160.63,1170.66 1167.37,1170.59 1174.1,1170.53 1180.84,1170.45 1187.57,1170.37 1194.31,1170.28 1201.04,1170.19 1207.78,1170.09 1214.52,1169.99 1221.25,1169.88 1227.99,1169.77 1234.72,1169.65 1241.46,1169.53 1248.19,1169.41 1254.93,1169.28 1261.66,1169.14 1268.4,1169 1275.13,1168.86 1281.87,1168.72 1288.6,1168.57 1295.34,1168.41 1302.07,1168.26 1308.81,1168.1 1315.54,1167.93 1322.28,1167.77 1329.01,1167.6 1335.75,1167.42 1342.48,1167.25 1349.22,1167.07 1355.95,1166.89 1362.69,1166.71 1369.42,1166.52 1376.16,1166.33 1382.89,1166.14 1389.63,1165.95 1396.36,1165.76 1403.1,1165.56 1409.83,1165.36 1416.57,1165.16 1423.3,1164.96 1430.04,1164.76 1436.78,1164.55 1443.51,1164.35 1450.25,1164.14 1456.98,1163.93 1463.72,1163.72 1470.45,1163.51 1477.19,1163.3 1483.92,1163.08 1490.66,1162.87 1497.39,1162.65 1504.13,1162.44 1510.86,1162.22 1517.6,1162 1524.33,1161.78 1531.07,1161.57 1537.8,1161.35 1544.54,1161.13 1551.27,1160.91 1558.01,1160.69 1564.74,1160.47 1571.48,1160.24 1578.21,1160.02 1584.95,1159.8 1591.68,1159.58 1598.42,1159.36 1605.15,1159.14 1611.89,1158.92 1618.62,1158.7 1625.36,1158.47 1632.09,1158.25 1638.83,1158.03 1645.56,1157.81 1652.3,1157.59 1659.04,1157.37 1665.77,1157.15 1672.51,1156.93 1679.24,1156.72 1685.98,1156.5 1692.71,1156.28 1699.45,1156.06 1706.18,1155.85 1712.92,1155.63 1719.65,1155.42 1726.39,1155.2 1733.12,1154.99 1739.86,1154.78 1746.59,1154.57 1753.33,1154.35 1760.06,1154.14 1766.8,1153.93 1773.53,1153.73 1780.27,1153.52 1787,1153.31 1793.74,1153.1 1800.47,1152.9 1807.21,1152.7 1813.94,1152.49 1820.68,1152.29 1827.41,1152.09 1834.15,1151.89 1840.88,1151.69 1847.62,1151.49 1854.35,1151.3 1861.09,1151.1 1867.82,1150.91 1874.56,1150.71 1881.3,1150.52 1888.03,1150.33 1894.77,1150.14 1901.5,1149.95 1908.24,1149.76 1914.97,1149.58 1921.71,1149.39 1928.44,1149.21 1935.18,1149.02 1941.91,1148.84 1948.65,1148.66 1955.38,1148.48 1962.12,1148.31 1968.85,1148.13 1975.59,1147.95 1982.32,1147.78 1989.06,1147.61 1995.79,1147.44 2002.53,1147.27 2009.26,1147.1 2016,1146.93 2022.73,1146.76 2029.47,1146.6 2036.2,1146.43 2042.94,1146.27 2049.67,1146.11 2056.41,1145.95 2063.14,1145.79 2069.88,1145.63 2076.61,1145.48 2083.35,1145.32 2090.08,1145.17 2096.82,1145.02 2103.56,1144.87 2110.29,1144.72 2117.03,1144.57 2123.76,1144.42 2130.5,1144.28 2137.23,1144.13 2143.97,1143.99 2150.7,1143.85 2157.44,1143.71 2164.17,1143.57 2170.91,1143.43 2177.64,1143.3 2184.38,1143.16 2191.11,1143.03 2197.85,1142.89 2204.58,1142.76 2211.32,1142.63 2218.05,1142.5 2224.79,1142.37 2231.52,1142.25 2238.26,1142.12 2244.99,1142 2251.73,1141.88 2258.46,1141.76 2265.2,1141.64 2271.93,1141.52 2278.67,1141.4 2285.4,1141.28 2292.14,1141.17 \"/>\n<polyline clip-path=\"url(#clip252)\" style=\"stroke:#00a9ad; stroke-linecap:round; stroke-linejoin:round; stroke-width:4; stroke-opacity:1; fill:none\" stroke-dasharray=\"16, 10\" points=\"271.594,1386.4 278.329,1385.56 285.064,1384.68 291.799,1383.76 298.534,1382.8 305.27,1381.79 312.005,1380.75 318.74,1379.67 325.475,1378.56 332.21,1377.4 338.945,1376.22 345.68,1375 352.416,1373.75 359.151,1372.46 365.886,1371.15 372.621,1369.81 379.356,1368.43 386.091,1367.04 392.827,1365.61 399.562,1364.16 406.297,1362.68 413.032,1361.18 419.767,1359.66 426.502,1358.12 433.237,1356.55 439.973,1354.97 446.708,1353.36 453.443,1351.74 460.178,1350.09 466.913,1348.44 473.648,1346.76 480.384,1345.07 487.119,1343.37 493.854,1341.65 500.589,1339.91 507.324,1338.17 514.059,1336.41 520.794,1334.64 527.53,1332.87 534.265,1331.08 541,1329.28 547.735,1327.47 554.47,1325.66 561.205,1323.84 567.941,1322.01 574.676,1320.18 581.411,1318.34 588.146,1316.49 594.881,1314.64 601.616,1312.79 608.351,1310.93 615.087,1309.07 621.822,1307.21 628.557,1305.35 635.292,1303.48 642.027,1301.62 648.762,1299.75 655.497,1297.89 662.233,1296.02 668.968,1294.16 675.703,1292.29 682.438,1290.43 689.173,1288.58 695.908,1286.72 702.644,1284.87 709.379,1283.02 716.114,1281.17 722.849,1279.33 729.584,1277.49 736.319,1275.66 743.054,1273.83 749.79,1272.01 756.525,1270.2 763.26,1268.39 769.995,1266.59 776.73,1264.79 783.465,1263 790.201,1261.22 796.936,1259.45 803.671,1257.68 810.406,1255.92 817.141,1254.17 823.876,1252.43 830.611,1250.7 837.347,1248.98 844.082,1247.27 850.817,1245.57 857.552,1243.87 864.287,1242.19 871.022,1240.52 877.758,1238.86 884.493,1237.21 891.228,1235.56 897.963,1233.94 904.698,1232.32 911.433,1230.71 918.168,1229.12 924.904,1227.53 931.639,1225.96 938.374,1224.4 945.109,1222.85 951.844,1221.32 958.579,1219.8 965.314,1218.29 972.05,1216.79 978.785,1215.31 985.52,1213.84 992.255,1212.38 998.99,1210.93 1005.73,1209.5 1012.46,1208.08 1019.2,1206.68 1025.93,1205.29 1032.67,1203.91 1039.4,1202.55 1046.14,1201.2 1052.87,1199.86 1059.61,1198.54 1066.34,1197.23 1073.08,1195.94 1079.81,1194.66 1086.55,1193.39 1093.28,1192.14 1100.02,1190.9 1106.75,1189.68 1113.49,1188.47 1120.22,1187.28 1126.96,1186.1 1133.69,1184.94 1140.43,1183.79 1147.16,1182.65 1153.9,1181.53 1160.63,1180.43 1167.37,1179.33 1174.1,1178.26 1180.84,1177.2 1187.57,1176.15 1194.31,1175.12 1201.04,1174.1 1207.78,1173.1 1214.52,1172.12 1221.25,1171.14 1227.99,1170.19 1234.72,1169.25 1241.46,1168.32 1248.19,1167.41 1254.93,1166.51 1261.66,1165.63 1268.4,1164.76 1275.13,1163.91 1281.87,1163.08 1288.6,1162.25 1295.34,1161.45 1302.07,1160.66 1308.81,1159.88 1315.54,1159.12 1322.28,1158.37 1329.01,1157.64 1335.75,1156.93 1342.48,1156.23 1349.22,1155.54 1355.95,1154.87 1362.69,1154.21 1369.42,1153.57 1376.16,1152.95 1382.89,1152.33 1389.63,1151.74 1396.36,1151.16 1403.1,1150.59 1409.83,1150.04 1416.57,1149.51 1423.3,1148.98 1430.04,1148.48 1436.78,1147.99 1443.51,1147.51 1450.25,1147.05 1456.98,1146.6 1463.72,1146.17 1470.45,1145.76 1477.19,1145.35 1483.92,1144.97 1490.66,1144.6 1497.39,1144.24 1504.13,1143.9 1510.86,1143.57 1517.6,1143.26 1524.33,1142.96 1531.07,1142.68 1537.8,1142.41 1544.54,1142.16 1551.27,1141.92 1558.01,1141.69 1564.74,1141.48 1571.48,1141.31 1578.21,1141.18 1584.95,1141.09 1591.68,1141.06 1598.42,1141.07 1605.15,1141.13 1611.89,1141.18 1618.62,1141.18 1625.36,1141.16 1632.09,1141.16 1638.83,1141.17 1645.56,1141.17 1652.3,1141.17 1659.04,1141.17 1665.77,1141.17 1672.51,1141.17 1679.24,1141.17 1685.98,1141.17 1692.71,1141.17 1699.45,1141.17 1706.18,1141.17 1712.92,1141.17 1719.65,1141.17 1726.39,1141.17 1733.12,1141.17 1739.86,1141.17 1746.59,1141.17 1753.33,1141.17 1760.06,1141.17 1766.8,1141.17 1773.53,1141.17 1780.27,1141.17 1787,1141.17 1793.74,1141.17 1800.47,1141.17 1807.21,1141.17 1813.94,1141.17 1820.68,1141.17 1827.41,1141.17 1834.15,1141.17 1840.88,1141.17 1847.62,1141.17 1854.35,1141.17 1861.09,1141.17 1867.82,1141.17 1874.56,1141.17 1881.3,1141.17 1888.03,1141.17 1894.77,1141.17 1901.5,1141.17 1908.24,1141.17 1914.97,1141.17 1921.71,1141.17 1928.44,1141.17 1935.18,1141.17 1941.91,1141.17 1948.65,1141.17 1955.38,1141.17 1962.12,1141.17 1968.85,1141.17 1975.59,1141.17 1982.32,1141.17 1989.06,1141.17 1995.79,1141.17 2002.53,1141.17 2009.26,1141.17 2016,1141.17 2022.73,1141.17 2029.47,1141.17 2036.2,1141.17 2042.94,1141.17 2049.67,1141.17 2056.41,1141.17 2063.14,1141.17 2069.88,1141.17 2076.61,1141.17 2083.35,1141.17 2090.08,1141.17 2096.82,1141.17 2103.56,1141.17 2110.29,1141.17 2117.03,1141.17 2123.76,1141.17 2130.5,1141.17 2137.23,1141.17 2143.97,1141.17 2150.7,1141.17 2157.44,1141.17 2164.17,1141.17 2170.91,1141.17 2177.64,1141.17 2184.38,1141.17 2191.11,1141.17 2197.85,1141.17 2204.58,1141.17 2211.32,1141.17 2218.05,1141.17 2224.79,1141.17 2231.52,1141.17 2238.26,1141.17 2244.99,1141.17 2251.73,1141.17 2258.46,1141.17 2265.2,1141.17 2271.93,1141.17 2278.67,1141.17 2285.4,1141.17 2292.14,1141.17 \"/>\n<path clip-path=\"url(#clip250)\" d=\"M2023.9 529.676 L2281.36 529.676 L2281.36 166.796 L2023.9 166.796  Z\" fill=\"#ffffff\" fill-rule=\"evenodd\" fill-opacity=\"1\"/>\n<polyline clip-path=\"url(#clip250)\" style=\"stroke:#000000; stroke-linecap:round; stroke-linejoin:round; stroke-width:4; stroke-opacity:1; fill:none\" points=\"2023.9,529.676 2281.36,529.676 2281.36,166.796 2023.9,166.796 2023.9,529.676 \"/>\n<polyline clip-path=\"url(#clip250)\" style=\"stroke:#009af9; stroke-linecap:round; stroke-linejoin:round; stroke-width:4; stroke-opacity:1; fill:none\" points=\"2047.7,218.636 2190.48,218.636 \"/>\n<path clip-path=\"url(#clip250)\" d=\"M2238.93 209.99 L2229.56 222.606 L2239.42 235.916 L2234.39 235.916 L2226.85 225.731 L2219.3 235.916 L2214.28 235.916 L2224.35 222.351 L2215.14 209.99 L2220.16 209.99 L2227.03 219.226 L2233.91 209.99 L2238.93 209.99 Z\" fill=\"#000000\" fill-rule=\"evenodd\" fill-opacity=\"1\" /><path clip-path=\"url(#clip250)\" d=\"M2244.58 233.369 L2249.3 233.369 L2249.3 219.226 L2244.14 220.175 L2244.14 217.49 L2249.46 216.587 L2252.64 216.587 L2252.64 233.369 L2257.38 233.369 L2257.38 235.916 L2244.58 235.916 L2244.58 233.369 Z\" fill=\"#000000\" fill-rule=\"evenodd\" fill-opacity=\"1\" /><polyline clip-path=\"url(#clip250)\" style=\"stroke:#e26f46; stroke-linecap:round; stroke-linejoin:round; stroke-width:4; stroke-opacity:1; fill:none\" points=\"2047.7,270.476 2190.48,270.476 \"/>\n<path clip-path=\"url(#clip250)\" d=\"M2238.93 261.83 L2229.56 274.446 L2239.42 287.756 L2234.39 287.756 L2226.85 277.571 L2219.3 287.756 L2214.28 287.756 L2224.35 274.191 L2215.14 261.83 L2220.16 261.83 L2227.03 271.066 L2233.91 261.83 L2238.93 261.83 Z\" fill=\"#000000\" fill-rule=\"evenodd\" fill-opacity=\"1\" /><path clip-path=\"url(#clip250)\" d=\"M2247.17 285.117 L2256.99 285.117 L2256.99 287.756 L2243.14 287.756 L2243.14 285.209 Q2243.93 284.492 2245.39 283.196 Q2253.35 276.135 2253.35 273.959 Q2253.35 272.432 2252.15 271.506 Q2250.95 270.557 2248.98 270.557 Q2247.77 270.557 2246.36 270.973 Q2244.95 271.367 2243.28 272.177 L2243.28 269.33 Q2245.07 268.682 2246.59 268.358 Q2248.14 268.034 2249.46 268.034 Q2252.82 268.034 2254.83 269.561 Q2256.85 271.089 2256.85 273.589 Q2256.85 276.807 2249.19 283.381 Q2247.89 284.492 2247.17 285.117 Z\" fill=\"#000000\" fill-rule=\"evenodd\" fill-opacity=\"1\" /><polyline clip-path=\"url(#clip250)\" style=\"stroke:#3da44d; stroke-linecap:round; stroke-linejoin:round; stroke-width:4; stroke-opacity:1; fill:none\" points=\"2047.7,322.316 2190.48,322.316 \"/>\n<path clip-path=\"url(#clip250)\" d=\"M2238.93 313.67 L2229.56 326.286 L2239.42 339.596 L2234.39 339.596 L2226.85 329.411 L2219.3 339.596 L2214.28 339.596 L2224.35 326.031 L2215.14 313.67 L2220.16 313.67 L2227.03 322.906 L2233.91 313.67 L2238.93 313.67 Z\" fill=\"#000000\" fill-rule=\"evenodd\" fill-opacity=\"1\" /><path clip-path=\"url(#clip250)\" d=\"M2253.1 329.133 Q2255.23 329.549 2256.39 330.823 Q2257.57 332.073 2257.57 333.971 Q2257.57 336.841 2255.37 338.392 Q2253.17 339.943 2249.07 339.943 Q2247.75 339.943 2246.29 339.688 Q2244.86 339.457 2243.24 338.994 L2243.24 336.193 Q2244.44 336.818 2245.81 337.119 Q2247.2 337.42 2248.75 337.42 Q2251.27 337.42 2252.66 336.517 Q2254.05 335.591 2254.05 333.971 Q2254.05 332.258 2252.75 331.378 Q2251.48 330.499 2248.98 330.499 L2246.99 330.499 L2246.99 327.999 L2249.16 327.999 Q2251.34 327.999 2252.45 327.281 Q2253.58 326.54 2253.58 325.151 Q2253.58 323.809 2252.43 323.114 Q2251.27 322.397 2249.07 322.397 Q2248.14 322.397 2246.96 322.605 Q2245.78 322.813 2243.91 323.346 L2243.91 320.684 Q2245.6 320.29 2247.08 320.082 Q2248.56 319.874 2249.83 319.874 Q2253.17 319.874 2255.11 321.239 Q2257.08 322.605 2257.08 324.897 Q2257.08 326.494 2256.04 327.605 Q2255 328.716 2253.1 329.133 Z\" fill=\"#000000\" fill-rule=\"evenodd\" fill-opacity=\"1\" /><polyline clip-path=\"url(#clip250)\" style=\"stroke:#c271d2; stroke-linecap:round; stroke-linejoin:round; stroke-width:4; stroke-opacity:1; fill:none\" stroke-dasharray=\"16, 10\" points=\"2047.7,374.156 2190.48,374.156 \"/>\n<path clip-path=\"url(#clip250)\" d=\"M2238.93 365.51 L2229.56 378.126 L2239.42 391.436 L2234.39 391.436 L2226.85 381.251 L2219.3 391.436 L2214.28 391.436 L2224.35 377.871 L2215.14 365.51 L2220.16 365.51 L2227.03 374.746 L2233.91 365.51 L2238.93 365.51 Z\" fill=\"#000000\" fill-rule=\"evenodd\" fill-opacity=\"1\" /><path clip-path=\"url(#clip250)\" d=\"M2226.94 355.417 L2231.2 355.417 L2231.2 360.811 L2226.94 360.811 L2226.94 355.417 M2229.12 364.885 L2229.12 364.885 Z\" fill=\"#000000\" fill-rule=\"evenodd\" fill-opacity=\"1\" /><path clip-path=\"url(#clip250)\" d=\"M2244.58 388.889 L2249.3 388.889 L2249.3 374.746 L2244.14 375.695 L2244.14 373.01 L2249.46 372.107 L2252.64 372.107 L2252.64 388.889 L2257.38 388.889 L2257.38 391.436 L2244.58 391.436 L2244.58 388.889 Z\" fill=\"#000000\" fill-rule=\"evenodd\" fill-opacity=\"1\" /><polyline clip-path=\"url(#clip250)\" style=\"stroke:#ac8d18; stroke-linecap:round; stroke-linejoin:round; stroke-width:4; stroke-opacity:1; fill:none\" stroke-dasharray=\"16, 10\" points=\"2047.7,425.996 2190.48,425.996 \"/>\n<path clip-path=\"url(#clip250)\" d=\"M2238.93 417.35 L2229.56 429.966 L2239.42 443.276 L2234.39 443.276 L2226.85 433.091 L2219.3 443.276 L2214.28 443.276 L2224.35 429.711 L2215.14 417.35 L2220.16 417.35 L2227.03 426.586 L2233.91 417.35 L2238.93 417.35 Z\" fill=\"#000000\" fill-rule=\"evenodd\" fill-opacity=\"1\" /><path clip-path=\"url(#clip250)\" d=\"M2226.94 407.257 L2231.2 407.257 L2231.2 412.651 L2226.94 412.651 L2226.94 407.257 M2229.12 416.725 L2229.12 416.725 Z\" fill=\"#000000\" fill-rule=\"evenodd\" fill-opacity=\"1\" /><path clip-path=\"url(#clip250)\" d=\"M2247.17 440.637 L2256.99 440.637 L2256.99 443.276 L2243.14 443.276 L2243.14 440.729 Q2243.93 440.012 2245.39 438.716 Q2253.35 431.655 2253.35 429.479 Q2253.35 427.952 2252.15 427.026 Q2250.95 426.077 2248.98 426.077 Q2247.77 426.077 2246.36 426.493 Q2244.95 426.887 2243.28 427.697 L2243.28 424.85 Q2245.07 424.202 2246.59 423.878 Q2248.14 423.554 2249.46 423.554 Q2252.82 423.554 2254.83 425.081 Q2256.85 426.609 2256.85 429.109 Q2256.85 432.327 2249.19 438.901 Q2247.89 440.012 2247.17 440.637 Z\" fill=\"#000000\" fill-rule=\"evenodd\" fill-opacity=\"1\" /><polyline clip-path=\"url(#clip250)\" style=\"stroke:#00a9ad; stroke-linecap:round; stroke-linejoin:round; stroke-width:4; stroke-opacity:1; fill:none\" stroke-dasharray=\"16, 10\" points=\"2047.7,477.836 2190.48,477.836 \"/>\n<path clip-path=\"url(#clip250)\" d=\"M2238.93 469.19 L2229.56 481.806 L2239.42 495.116 L2234.39 495.116 L2226.85 484.931 L2219.3 495.116 L2214.28 495.116 L2224.35 481.551 L2215.14 469.19 L2220.16 469.19 L2227.03 478.426 L2233.91 469.19 L2238.93 469.19 Z\" fill=\"#000000\" fill-rule=\"evenodd\" fill-opacity=\"1\" /><path clip-path=\"url(#clip250)\" d=\"M2226.94 459.097 L2231.2 459.097 L2231.2 464.491 L2226.94 464.491 L2226.94 459.097 M2229.12 468.565 L2229.12 468.565 Z\" fill=\"#000000\" fill-rule=\"evenodd\" fill-opacity=\"1\" /><path clip-path=\"url(#clip250)\" d=\"M2253.1 484.653 Q2255.23 485.069 2256.39 486.343 Q2257.57 487.593 2257.57 489.491 Q2257.57 492.361 2255.37 493.912 Q2253.17 495.463 2249.07 495.463 Q2247.75 495.463 2246.29 495.208 Q2244.86 494.977 2243.24 494.514 L2243.24 491.713 Q2244.44 492.338 2245.81 492.639 Q2247.2 492.94 2248.75 492.94 Q2251.27 492.94 2252.66 492.037 Q2254.05 491.111 2254.05 489.491 Q2254.05 487.778 2252.75 486.898 Q2251.48 486.019 2248.98 486.019 L2246.99 486.019 L2246.99 483.519 L2249.16 483.519 Q2251.34 483.519 2252.45 482.801 Q2253.58 482.06 2253.58 480.671 Q2253.58 479.329 2252.43 478.634 Q2251.27 477.917 2249.07 477.917 Q2248.14 477.917 2246.96 478.125 Q2245.78 478.333 2243.91 478.866 L2243.91 476.204 Q2245.6 475.81 2247.08 475.602 Q2248.56 475.394 2249.83 475.394 Q2253.17 475.394 2255.11 476.759 Q2257.08 478.125 2257.08 480.417 Q2257.08 482.014 2256.04 483.125 Q2255 484.236 2253.1 484.653 Z\" fill=\"#000000\" fill-rule=\"evenodd\" fill-opacity=\"1\" /></svg>\n"
     },
     "metadata": {},
     "output_type": "display_data"
    },
    {
     "data": {
      "image/svg+xml": "<?xml version=\"1.0\" encoding=\"utf-8\"?>\n<svg xmlns=\"http://www.w3.org/2000/svg\" xmlns:xlink=\"http://www.w3.org/1999/xlink\" width=\"600\" height=\"400\" viewBox=\"0 0 2400 1600\">\n<defs>\n  <clipPath id=\"clip290\">\n    <rect x=\"0\" y=\"0\" width=\"2400\" height=\"1600\"/>\n  </clipPath>\n</defs>\n<path clip-path=\"url(#clip290)\" d=\"M0 1600 L2400 1600 L2400 0 L0 0  Z\" fill=\"#ffffff\" fill-rule=\"evenodd\" fill-opacity=\"1\"/>\n<defs>\n  <clipPath id=\"clip291\">\n    <rect x=\"480\" y=\"0\" width=\"1681\" height=\"1600\"/>\n  </clipPath>\n</defs>\n<path clip-path=\"url(#clip290)\" d=\"M242.135 1423.18 L2352.76 1423.18 L2352.76 123.472 L242.135 123.472  Z\" fill=\"#ffffff\" fill-rule=\"evenodd\" fill-opacity=\"1\"/>\n<defs>\n  <clipPath id=\"clip292\">\n    <rect x=\"242\" y=\"123\" width=\"2112\" height=\"1301\"/>\n  </clipPath>\n</defs>\n<polyline clip-path=\"url(#clip292)\" style=\"stroke:#000000; stroke-linecap:round; stroke-linejoin:round; stroke-width:2; stroke-opacity:0.1; fill:none\" points=\"301.869,1423.18 301.869,123.472 \"/>\n<polyline clip-path=\"url(#clip292)\" style=\"stroke:#000000; stroke-linecap:round; stroke-linejoin:round; stroke-width:2; stroke-opacity:0.1; fill:none\" points=\"967.806,1423.18 967.806,123.472 \"/>\n<polyline clip-path=\"url(#clip292)\" style=\"stroke:#000000; stroke-linecap:round; stroke-linejoin:round; stroke-width:2; stroke-opacity:0.1; fill:none\" points=\"1633.74,1423.18 1633.74,123.472 \"/>\n<polyline clip-path=\"url(#clip292)\" style=\"stroke:#000000; stroke-linecap:round; stroke-linejoin:round; stroke-width:2; stroke-opacity:0.1; fill:none\" points=\"2299.68,1423.18 2299.68,123.472 \"/>\n<polyline clip-path=\"url(#clip290)\" style=\"stroke:#000000; stroke-linecap:round; stroke-linejoin:round; stroke-width:4; stroke-opacity:1; fill:none\" points=\"242.135,1423.18 2352.76,1423.18 \"/>\n<polyline clip-path=\"url(#clip290)\" style=\"stroke:#000000; stroke-linecap:round; stroke-linejoin:round; stroke-width:4; stroke-opacity:1; fill:none\" points=\"301.869,1423.18 301.869,1404.28 \"/>\n<polyline clip-path=\"url(#clip290)\" style=\"stroke:#000000; stroke-linecap:round; stroke-linejoin:round; stroke-width:4; stroke-opacity:1; fill:none\" points=\"967.806,1423.18 967.806,1404.28 \"/>\n<polyline clip-path=\"url(#clip290)\" style=\"stroke:#000000; stroke-linecap:round; stroke-linejoin:round; stroke-width:4; stroke-opacity:1; fill:none\" points=\"1633.74,1423.18 1633.74,1404.28 \"/>\n<polyline clip-path=\"url(#clip290)\" style=\"stroke:#000000; stroke-linecap:round; stroke-linejoin:round; stroke-width:4; stroke-opacity:1; fill:none\" points=\"2299.68,1423.18 2299.68,1404.28 \"/>\n<path clip-path=\"url(#clip290)\" d=\"M301.869 1454.1 Q298.258 1454.1 296.429 1457.66 Q294.624 1461.2 294.624 1468.33 Q294.624 1475.44 296.429 1479.01 Q298.258 1482.55 301.869 1482.55 Q305.503 1482.55 307.309 1479.01 Q309.138 1475.44 309.138 1468.33 Q309.138 1461.2 307.309 1457.66 Q305.503 1454.1 301.869 1454.1 M301.869 1450.39 Q307.679 1450.39 310.735 1455 Q313.814 1459.58 313.814 1468.33 Q313.814 1477.06 310.735 1481.67 Q307.679 1486.25 301.869 1486.25 Q296.059 1486.25 292.98 1481.67 Q289.925 1477.06 289.925 1468.33 Q289.925 1459.58 292.98 1455 Q296.059 1450.39 301.869 1450.39 Z\" fill=\"#000000\" fill-rule=\"evenodd\" fill-opacity=\"1\" /><path clip-path=\"url(#clip290)\" d=\"M958.084 1451.02 L976.441 1451.02 L976.441 1454.96 L962.367 1454.96 L962.367 1463.43 Q963.385 1463.08 964.404 1462.92 Q965.422 1462.73 966.441 1462.73 Q972.228 1462.73 975.607 1465.9 Q978.987 1469.08 978.987 1474.49 Q978.987 1480.07 975.515 1483.17 Q972.042 1486.25 965.723 1486.25 Q963.547 1486.25 961.279 1485.88 Q959.033 1485.51 956.626 1484.77 L956.626 1480.07 Q958.709 1481.2 960.931 1481.76 Q963.154 1482.32 965.63 1482.32 Q969.635 1482.32 971.973 1480.21 Q974.311 1478.1 974.311 1474.49 Q974.311 1470.88 971.973 1468.77 Q969.635 1466.67 965.63 1466.67 Q963.755 1466.67 961.88 1467.08 Q960.029 1467.5 958.084 1468.38 L958.084 1451.02 Z\" fill=\"#000000\" fill-rule=\"evenodd\" fill-opacity=\"1\" /><path clip-path=\"url(#clip290)\" d=\"M1608.43 1481.64 L1616.07 1481.64 L1616.07 1455.28 L1607.76 1456.95 L1607.76 1452.69 L1616.02 1451.02 L1620.7 1451.02 L1620.7 1481.64 L1628.34 1481.64 L1628.34 1485.58 L1608.43 1485.58 L1608.43 1481.64 Z\" fill=\"#000000\" fill-rule=\"evenodd\" fill-opacity=\"1\" /><path clip-path=\"url(#clip290)\" d=\"M1647.78 1454.1 Q1644.17 1454.1 1642.34 1457.66 Q1640.54 1461.2 1640.54 1468.33 Q1640.54 1475.44 1642.34 1479.01 Q1644.17 1482.55 1647.78 1482.55 Q1651.42 1482.55 1653.22 1479.01 Q1655.05 1475.44 1655.05 1468.33 Q1655.05 1461.2 1653.22 1457.66 Q1651.42 1454.1 1647.78 1454.1 M1647.78 1450.39 Q1653.59 1450.39 1656.65 1455 Q1659.73 1459.58 1659.73 1468.33 Q1659.73 1477.06 1656.65 1481.67 Q1653.59 1486.25 1647.78 1486.25 Q1641.97 1486.25 1638.89 1481.67 Q1635.84 1477.06 1635.84 1468.33 Q1635.84 1459.58 1638.89 1455 Q1641.97 1450.39 1647.78 1450.39 Z\" fill=\"#000000\" fill-rule=\"evenodd\" fill-opacity=\"1\" /><path clip-path=\"url(#clip290)\" d=\"M2274.87 1481.64 L2282.5 1481.64 L2282.5 1455.28 L2274.19 1456.95 L2274.19 1452.69 L2282.46 1451.02 L2287.13 1451.02 L2287.13 1481.64 L2294.77 1481.64 L2294.77 1485.58 L2274.87 1485.58 L2274.87 1481.64 Z\" fill=\"#000000\" fill-rule=\"evenodd\" fill-opacity=\"1\" /><path clip-path=\"url(#clip290)\" d=\"M2304.26 1451.02 L2322.62 1451.02 L2322.62 1454.96 L2308.55 1454.96 L2308.55 1463.43 Q2309.56 1463.08 2310.58 1462.92 Q2311.6 1462.73 2312.62 1462.73 Q2318.41 1462.73 2321.79 1465.9 Q2325.17 1469.08 2325.17 1474.49 Q2325.17 1480.07 2321.69 1483.17 Q2318.22 1486.25 2311.9 1486.25 Q2309.73 1486.25 2307.46 1485.88 Q2305.21 1485.51 2302.81 1484.77 L2302.81 1480.07 Q2304.89 1481.2 2307.11 1481.76 Q2309.33 1482.32 2311.81 1482.32 Q2315.81 1482.32 2318.15 1480.21 Q2320.49 1478.1 2320.49 1474.49 Q2320.49 1470.88 2318.15 1468.77 Q2315.81 1466.67 2311.81 1466.67 Q2309.94 1466.67 2308.06 1467.08 Q2306.21 1467.5 2304.26 1468.38 L2304.26 1451.02 Z\" fill=\"#000000\" fill-rule=\"evenodd\" fill-opacity=\"1\" /><path clip-path=\"url(#clip290)\" d=\"M1184.9 1522.27 L1184.9 1532.4 L1196.96 1532.4 L1196.96 1536.95 L1184.9 1536.95 L1184.9 1556.3 Q1184.9 1560.66 1186.08 1561.9 Q1187.29 1563.14 1190.95 1563.14 L1196.96 1563.14 L1196.96 1568.04 L1190.95 1568.04 Q1184.17 1568.04 1181.59 1565.53 Q1179.01 1562.98 1179.01 1556.3 L1179.01 1536.95 L1174.71 1536.95 L1174.71 1532.4 L1179.01 1532.4 L1179.01 1522.27 L1184.9 1522.27 Z\" fill=\"#000000\" fill-rule=\"evenodd\" fill-opacity=\"1\" /><path clip-path=\"url(#clip290)\" d=\"M1204.67 1532.4 L1210.52 1532.4 L1210.52 1568.04 L1204.67 1568.04 L1204.67 1532.4 M1204.67 1518.52 L1210.52 1518.52 L1210.52 1525.93 L1204.67 1525.93 L1204.67 1518.52 Z\" fill=\"#000000\" fill-rule=\"evenodd\" fill-opacity=\"1\" /><path clip-path=\"url(#clip290)\" d=\"M1250.53 1539.24 Q1252.73 1535.29 1255.78 1533.41 Q1258.84 1531.54 1262.97 1531.54 Q1268.54 1531.54 1271.57 1535.45 Q1274.59 1539.33 1274.59 1546.53 L1274.59 1568.04 L1268.7 1568.04 L1268.7 1546.72 Q1268.7 1541.59 1266.89 1539.11 Q1265.08 1536.63 1261.35 1536.63 Q1256.8 1536.63 1254.16 1539.65 Q1251.52 1542.68 1251.52 1547.9 L1251.52 1568.04 L1245.63 1568.04 L1245.63 1546.72 Q1245.63 1541.56 1243.81 1539.11 Q1242 1536.63 1238.21 1536.63 Q1233.72 1536.63 1231.08 1539.68 Q1228.44 1542.71 1228.44 1547.9 L1228.44 1568.04 L1222.55 1568.04 L1222.55 1532.4 L1228.44 1532.4 L1228.44 1537.93 Q1230.45 1534.66 1233.25 1533.1 Q1236.05 1531.54 1239.9 1531.54 Q1243.78 1531.54 1246.49 1533.51 Q1249.23 1535.48 1250.53 1539.24 Z\" fill=\"#000000\" fill-rule=\"evenodd\" fill-opacity=\"1\" /><path clip-path=\"url(#clip290)\" d=\"M1316.77 1548.76 L1316.77 1551.62 L1289.84 1551.62 Q1290.22 1557.67 1293.47 1560.85 Q1296.75 1564 1302.57 1564 Q1305.94 1564 1309.09 1563.17 Q1312.28 1562.35 1315.4 1560.69 L1315.4 1566.23 Q1312.25 1567.57 1308.94 1568.27 Q1305.63 1568.97 1302.22 1568.97 Q1293.69 1568.97 1288.69 1564 Q1283.73 1559.04 1283.73 1550.57 Q1283.73 1541.82 1288.44 1536.69 Q1293.18 1531.54 1301.2 1531.54 Q1308.39 1531.54 1312.56 1536.18 Q1316.77 1540.8 1316.77 1548.76 M1310.91 1547.04 Q1310.85 1542.23 1308.2 1539.37 Q1305.59 1536.5 1301.26 1536.5 Q1296.36 1536.5 1293.4 1539.27 Q1290.47 1542.04 1290.03 1547.07 L1310.91 1547.04 Z\" fill=\"#000000\" fill-rule=\"evenodd\" fill-opacity=\"1\" /><path clip-path=\"url(#clip290)\" d=\"M1361.17 1518.58 Q1356.9 1525.9 1354.83 1533.06 Q1352.76 1540.23 1352.76 1547.58 Q1352.76 1554.93 1354.83 1562.16 Q1356.93 1569.35 1361.17 1576.64 L1356.07 1576.64 Q1351.3 1569.16 1348.91 1561.93 Q1346.56 1554.71 1346.56 1547.58 Q1346.56 1540.48 1348.91 1533.29 Q1351.27 1526.09 1356.07 1518.58 L1361.17 1518.58 Z\" fill=\"#000000\" fill-rule=\"evenodd\" fill-opacity=\"1\" /><path clip-path=\"url(#clip290)\" d=\"M1395.25 1533.45 L1395.25 1538.98 Q1392.77 1537.71 1390.1 1537.07 Q1387.42 1536.44 1384.56 1536.44 Q1380.2 1536.44 1378 1537.77 Q1375.84 1539.11 1375.84 1541.79 Q1375.84 1543.82 1377.4 1545 Q1378.96 1546.15 1383.67 1547.2 L1385.67 1547.64 Q1391.91 1548.98 1394.52 1551.43 Q1397.16 1553.85 1397.16 1558.21 Q1397.16 1563.17 1393.22 1566.07 Q1389.3 1568.97 1382.43 1568.97 Q1379.56 1568.97 1376.44 1568.39 Q1373.36 1567.85 1369.92 1566.74 L1369.92 1560.69 Q1373.17 1562.38 1376.32 1563.24 Q1379.47 1564.07 1382.55 1564.07 Q1386.69 1564.07 1388.92 1562.66 Q1391.15 1561.23 1391.15 1558.65 Q1391.15 1556.27 1389.53 1554.99 Q1387.93 1553.72 1382.49 1552.54 L1380.45 1552.07 Q1375.01 1550.92 1372.59 1548.56 Q1370.17 1546.18 1370.17 1542.04 Q1370.17 1537.01 1373.74 1534.27 Q1377.3 1531.54 1383.86 1531.54 Q1387.11 1531.54 1389.97 1532.01 Q1392.84 1532.49 1395.25 1533.45 Z\" fill=\"#000000\" fill-rule=\"evenodd\" fill-opacity=\"1\" /><path clip-path=\"url(#clip290)\" d=\"M1405.57 1518.58 L1410.66 1518.58 Q1415.43 1526.09 1417.79 1533.29 Q1420.18 1540.48 1420.18 1547.58 Q1420.18 1554.71 1417.79 1561.93 Q1415.43 1569.16 1410.66 1576.64 L1405.57 1576.64 Q1409.8 1569.35 1411.87 1562.16 Q1413.97 1554.93 1413.97 1547.58 Q1413.97 1540.23 1411.87 1533.06 Q1409.8 1525.9 1405.57 1518.58 Z\" fill=\"#000000\" fill-rule=\"evenodd\" fill-opacity=\"1\" /><polyline clip-path=\"url(#clip292)\" style=\"stroke:#000000; stroke-linecap:round; stroke-linejoin:round; stroke-width:2; stroke-opacity:0.1; fill:none\" points=\"242.135,1321.03 2352.76,1321.03 \"/>\n<polyline clip-path=\"url(#clip292)\" style=\"stroke:#000000; stroke-linecap:round; stroke-linejoin:round; stroke-width:2; stroke-opacity:0.1; fill:none\" points=\"242.135,1026.91 2352.76,1026.91 \"/>\n<polyline clip-path=\"url(#clip292)\" style=\"stroke:#000000; stroke-linecap:round; stroke-linejoin:round; stroke-width:2; stroke-opacity:0.1; fill:none\" points=\"242.135,732.777 2352.76,732.777 \"/>\n<polyline clip-path=\"url(#clip292)\" style=\"stroke:#000000; stroke-linecap:round; stroke-linejoin:round; stroke-width:2; stroke-opacity:0.1; fill:none\" points=\"242.135,438.649 2352.76,438.649 \"/>\n<polyline clip-path=\"url(#clip292)\" style=\"stroke:#000000; stroke-linecap:round; stroke-linejoin:round; stroke-width:2; stroke-opacity:0.1; fill:none\" points=\"242.135,144.521 2352.76,144.521 \"/>\n<polyline clip-path=\"url(#clip290)\" style=\"stroke:#000000; stroke-linecap:round; stroke-linejoin:round; stroke-width:4; stroke-opacity:1; fill:none\" points=\"242.135,1423.18 242.135,123.472 \"/>\n<polyline clip-path=\"url(#clip290)\" style=\"stroke:#000000; stroke-linecap:round; stroke-linejoin:round; stroke-width:4; stroke-opacity:1; fill:none\" points=\"242.135,1321.03 261.032,1321.03 \"/>\n<polyline clip-path=\"url(#clip290)\" style=\"stroke:#000000; stroke-linecap:round; stroke-linejoin:round; stroke-width:4; stroke-opacity:1; fill:none\" points=\"242.135,1026.91 261.032,1026.91 \"/>\n<polyline clip-path=\"url(#clip290)\" style=\"stroke:#000000; stroke-linecap:round; stroke-linejoin:round; stroke-width:4; stroke-opacity:1; fill:none\" points=\"242.135,732.777 261.032,732.777 \"/>\n<polyline clip-path=\"url(#clip290)\" style=\"stroke:#000000; stroke-linecap:round; stroke-linejoin:round; stroke-width:4; stroke-opacity:1; fill:none\" points=\"242.135,438.649 261.032,438.649 \"/>\n<polyline clip-path=\"url(#clip290)\" style=\"stroke:#000000; stroke-linecap:round; stroke-linejoin:round; stroke-width:4; stroke-opacity:1; fill:none\" points=\"242.135,144.521 261.032,144.521 \"/>\n<path clip-path=\"url(#clip290)\" d=\"M114.26 1321.49 L143.936 1321.49 L143.936 1325.42 L114.26 1325.42 L114.26 1321.49 Z\" fill=\"#000000\" fill-rule=\"evenodd\" fill-opacity=\"1\" /><path clip-path=\"url(#clip290)\" d=\"M154.839 1334.38 L162.477 1334.38 L162.477 1308.01 L154.167 1309.68 L154.167 1305.42 L162.431 1303.75 L167.107 1303.75 L167.107 1334.38 L174.746 1334.38 L174.746 1338.31 L154.839 1338.31 L154.839 1334.38 Z\" fill=\"#000000\" fill-rule=\"evenodd\" fill-opacity=\"1\" /><path clip-path=\"url(#clip290)\" d=\"M194.19 1306.83 Q190.579 1306.83 188.75 1310.4 Q186.945 1313.94 186.945 1321.07 Q186.945 1328.18 188.75 1331.74 Q190.579 1335.28 194.19 1335.28 Q197.825 1335.28 199.63 1331.74 Q201.459 1328.18 201.459 1321.07 Q201.459 1313.94 199.63 1310.4 Q197.825 1306.83 194.19 1306.83 M194.19 1303.13 Q200 1303.13 203.056 1307.74 Q206.135 1312.32 206.135 1321.07 Q206.135 1329.8 203.056 1334.4 Q200 1338.99 194.19 1338.99 Q188.38 1338.99 185.301 1334.4 Q182.246 1329.8 182.246 1321.07 Q182.246 1312.32 185.301 1307.74 Q188.38 1303.13 194.19 1303.13 Z\" fill=\"#000000\" fill-rule=\"evenodd\" fill-opacity=\"1\" /><path clip-path=\"url(#clip290)\" d=\"M145.417 1027.36 L175.093 1027.36 L175.093 1031.29 L145.417 1031.29 L145.417 1027.36 Z\" fill=\"#000000\" fill-rule=\"evenodd\" fill-opacity=\"1\" /><path clip-path=\"url(#clip290)\" d=\"M185.232 1009.63 L203.588 1009.63 L203.588 1013.56 L189.514 1013.56 L189.514 1022.03 Q190.533 1021.69 191.551 1021.52 Q192.57 1021.34 193.588 1021.34 Q199.375 1021.34 202.755 1024.51 Q206.135 1027.68 206.135 1033.1 Q206.135 1038.68 202.662 1041.78 Q199.19 1044.86 192.871 1044.86 Q190.695 1044.86 188.426 1044.49 Q186.181 1044.12 183.774 1043.38 L183.774 1038.68 Q185.857 1039.81 188.079 1040.37 Q190.301 1040.92 192.778 1040.92 Q196.783 1040.92 199.121 1038.82 Q201.459 1036.71 201.459 1033.1 Q201.459 1029.49 199.121 1027.38 Q196.783 1025.27 192.778 1025.27 Q190.903 1025.27 189.028 1025.69 Q187.176 1026.11 185.232 1026.99 L185.232 1009.63 Z\" fill=\"#000000\" fill-rule=\"evenodd\" fill-opacity=\"1\" /><path clip-path=\"url(#clip290)\" d=\"M194.19 718.576 Q190.579 718.576 188.75 722.141 Q186.945 725.683 186.945 732.812 Q186.945 739.919 188.75 743.483 Q190.579 747.025 194.19 747.025 Q197.825 747.025 199.63 743.483 Q201.459 739.919 201.459 732.812 Q201.459 725.683 199.63 722.141 Q197.825 718.576 194.19 718.576 M194.19 714.872 Q200 714.872 203.056 719.479 Q206.135 724.062 206.135 732.812 Q206.135 741.539 203.056 746.145 Q200 750.729 194.19 750.729 Q188.38 750.729 185.301 746.145 Q182.246 741.539 182.246 732.812 Q182.246 724.062 185.301 719.479 Q188.38 714.872 194.19 714.872 Z\" fill=\"#000000\" fill-rule=\"evenodd\" fill-opacity=\"1\" /><path clip-path=\"url(#clip290)\" d=\"M185.232 421.369 L203.588 421.369 L203.588 425.304 L189.514 425.304 L189.514 433.777 Q190.533 433.429 191.551 433.267 Q192.57 433.082 193.588 433.082 Q199.375 433.082 202.755 436.253 Q206.135 439.425 206.135 444.841 Q206.135 450.42 202.662 453.522 Q199.19 456.6 192.871 456.6 Q190.695 456.6 188.426 456.23 Q186.181 455.86 183.774 455.119 L183.774 450.42 Q185.857 451.554 188.079 452.11 Q190.301 452.665 192.778 452.665 Q196.783 452.665 199.121 450.559 Q201.459 448.452 201.459 444.841 Q201.459 441.23 199.121 439.124 Q196.783 437.017 192.778 437.017 Q190.903 437.017 189.028 437.434 Q187.176 437.851 185.232 438.73 L185.232 421.369 Z\" fill=\"#000000\" fill-rule=\"evenodd\" fill-opacity=\"1\" /><path clip-path=\"url(#clip290)\" d=\"M154.839 157.866 L162.477 157.866 L162.477 131.5 L154.167 133.167 L154.167 128.908 L162.431 127.241 L167.107 127.241 L167.107 157.866 L174.746 157.866 L174.746 161.801 L154.839 161.801 L154.839 157.866 Z\" fill=\"#000000\" fill-rule=\"evenodd\" fill-opacity=\"1\" /><path clip-path=\"url(#clip290)\" d=\"M194.19 130.32 Q190.579 130.32 188.75 133.884 Q186.945 137.426 186.945 144.556 Q186.945 151.662 188.75 155.227 Q190.579 158.769 194.19 158.769 Q197.825 158.769 199.63 155.227 Q201.459 151.662 201.459 144.556 Q201.459 137.426 199.63 133.884 Q197.825 130.32 194.19 130.32 M194.19 126.616 Q200 126.616 203.056 131.222 Q206.135 135.806 206.135 144.556 Q206.135 153.283 203.056 157.889 Q200 162.472 194.19 162.472 Q188.38 162.472 185.301 157.889 Q182.246 153.283 182.246 144.556 Q182.246 135.806 185.301 131.222 Q188.38 126.616 194.19 126.616 Z\" fill=\"#000000\" fill-rule=\"evenodd\" fill-opacity=\"1\" /><path clip-path=\"url(#clip290)\" d=\"M49.9359 788.254 L28.3562 788.254 L28.3562 782.397 L49.7131 782.397 Q54.7739 782.397 57.3202 780.424 Q59.8346 778.45 59.8346 774.504 Q59.8346 769.761 56.8109 767.024 Q53.7872 764.255 48.5673 764.255 L28.3562 764.255 L28.3562 758.398 L64.0042 758.398 L64.0042 764.255 L58.5296 764.255 Q61.7762 766.387 63.3676 769.22 Q64.9272 772.021 64.9272 775.745 Q64.9272 781.888 61.1078 785.071 Q57.2883 788.254 49.9359 788.254 M27.4968 773.517 L27.4968 773.517 Z\" fill=\"#000000\" fill-rule=\"evenodd\" fill-opacity=\"1\" /><path clip-path=\"url(#clip290)\" d=\"M1034.58 12.096 L1042.76 12.096 L1042.76 72.576 L1034.58 72.576 L1034.58 12.096 Z\" fill=\"#000000\" fill-rule=\"evenodd\" fill-opacity=\"1\" /><path clip-path=\"url(#clip290)\" d=\"M1096.44 45.1919 L1096.44 72.576 L1088.99 72.576 L1088.99 45.4349 Q1088.99 38.994 1086.47 35.7938 Q1083.96 32.5936 1078.94 32.5936 Q1072.9 32.5936 1069.42 36.4419 Q1065.94 40.2903 1065.94 46.9338 L1065.94 72.576 L1058.44 72.576 L1058.44 27.2059 L1065.94 27.2059 L1065.94 34.2544 Q1068.61 30.163 1072.22 28.1376 Q1075.86 26.1121 1080.6 26.1121 Q1088.42 26.1121 1092.43 30.9732 Q1096.44 35.7938 1096.44 45.1919 Z\" fill=\"#000000\" fill-rule=\"evenodd\" fill-opacity=\"1\" /><path clip-path=\"url(#clip290)\" d=\"M1118.52 65.7705 L1118.52 89.8329 L1111.02 89.8329 L1111.02 27.2059 L1118.52 27.2059 L1118.52 34.0924 Q1120.87 30.0415 1124.43 28.0971 Q1128.04 26.1121 1133.02 26.1121 Q1141.28 26.1121 1146.43 32.6746 Q1151.61 39.2371 1151.61 49.9314 Q1151.61 60.6258 1146.43 67.1883 Q1141.28 73.7508 1133.02 73.7508 Q1128.04 73.7508 1124.43 71.8063 Q1120.87 69.8214 1118.52 65.7705 M1143.88 49.9314 Q1143.88 41.7081 1140.47 37.0496 Q1137.11 32.3505 1131.2 32.3505 Q1125.28 32.3505 1121.88 37.0496 Q1118.52 41.7081 1118.52 49.9314 Q1118.52 58.1548 1121.88 62.8538 Q1125.28 67.5124 1131.2 67.5124 Q1137.11 67.5124 1140.47 62.8538 Q1143.88 58.1548 1143.88 49.9314 Z\" fill=\"#000000\" fill-rule=\"evenodd\" fill-opacity=\"1\" /><path clip-path=\"url(#clip290)\" d=\"M1163.2 54.671 L1163.2 27.2059 L1170.65 27.2059 L1170.65 54.3874 Q1170.65 60.8284 1173.16 64.0691 Q1175.68 67.2693 1180.7 67.2693 Q1186.73 67.2693 1190.22 63.421 Q1193.74 59.5726 1193.74 52.9291 L1193.74 27.2059 L1201.2 27.2059 L1201.2 72.576 L1193.74 72.576 L1193.74 65.6084 Q1191.03 69.7404 1187.42 71.7658 Q1183.86 73.7508 1179.12 73.7508 Q1171.3 73.7508 1167.25 68.8897 Q1163.2 64.0286 1163.2 54.671 M1181.95 26.1121 L1181.95 26.1121 Z\" fill=\"#000000\" fill-rule=\"evenodd\" fill-opacity=\"1\" /><path clip-path=\"url(#clip290)\" d=\"M1223.92 14.324 L1223.92 27.2059 L1239.27 27.2059 L1239.27 32.9987 L1223.92 32.9987 L1223.92 57.6282 Q1223.92 63.1779 1225.42 64.7578 Q1226.96 66.3376 1231.62 66.3376 L1239.27 66.3376 L1239.27 72.576 L1231.62 72.576 Q1222.99 72.576 1219.71 69.3758 Q1216.43 66.1351 1216.43 57.6282 L1216.43 32.9987 L1210.96 32.9987 L1210.96 27.2059 L1216.43 27.2059 L1216.43 14.324 L1223.92 14.324 Z\" fill=\"#000000\" fill-rule=\"evenodd\" fill-opacity=\"1\" /><path clip-path=\"url(#clip290)\" d=\"M1275.77 12.096 L1283.96 12.096 L1283.96 36.8875 L1313.69 36.8875 L1313.69 12.096 L1321.87 12.096 L1321.87 72.576 L1313.69 72.576 L1313.69 43.7741 L1283.96 43.7741 L1283.96 72.576 L1275.77 72.576 L1275.77 12.096 Z\" fill=\"#000000\" fill-rule=\"evenodd\" fill-opacity=\"1\" /><path clip-path=\"url(#clip290)\" d=\"M1337.83 27.2059 L1345.29 27.2059 L1345.29 72.576 L1337.83 72.576 L1337.83 27.2059 M1337.83 9.54393 L1345.29 9.54393 L1345.29 18.9825 L1337.83 18.9825 L1337.83 9.54393 Z\" fill=\"#000000\" fill-rule=\"evenodd\" fill-opacity=\"1\" /><path clip-path=\"url(#clip290)\" d=\"M1389.81 28.5427 L1389.81 35.5912 Q1386.65 33.9709 1383.24 33.1607 Q1379.84 32.3505 1376.19 32.3505 Q1370.65 32.3505 1367.85 34.0519 Q1365.1 35.7533 1365.1 39.156 Q1365.1 41.7486 1367.08 43.2475 Q1369.07 44.7058 1375.06 46.0426 L1377.61 46.6097 Q1385.55 48.3111 1388.87 51.4303 Q1392.24 54.509 1392.24 60.0587 Q1392.24 66.3781 1387.21 70.0644 Q1382.23 73.7508 1373.48 73.7508 Q1369.83 73.7508 1365.87 73.0216 Q1361.94 72.3329 1357.56 70.9151 L1357.56 63.2184 Q1361.69 65.3654 1365.7 66.4591 Q1369.71 67.5124 1373.64 67.5124 Q1378.91 67.5124 1381.74 65.73 Q1384.58 63.9071 1384.58 60.6258 Q1384.58 57.5877 1382.51 55.9673 Q1380.49 54.3469 1373.56 52.8481 L1370.97 52.2405 Q1364.04 50.7821 1360.96 47.7845 Q1357.88 44.7463 1357.88 39.4801 Q1357.88 33.0797 1362.42 29.5959 Q1366.96 26.1121 1375.3 26.1121 Q1379.44 26.1121 1383.08 26.7198 Q1386.73 27.3274 1389.81 28.5427 Z\" fill=\"#000000\" fill-rule=\"evenodd\" fill-opacity=\"1\" /><path clip-path=\"url(#clip290)\" d=\"M1411.48 14.324 L1411.48 27.2059 L1426.83 27.2059 L1426.83 32.9987 L1411.48 32.9987 L1411.48 57.6282 Q1411.48 63.1779 1412.98 64.7578 Q1414.52 66.3376 1419.17 66.3376 L1426.83 66.3376 L1426.83 72.576 L1419.17 72.576 Q1410.55 72.576 1407.27 69.3758 Q1403.98 66.1351 1403.98 57.6282 L1403.98 32.9987 L1398.52 32.9987 L1398.52 27.2059 L1403.98 27.2059 L1403.98 14.324 L1411.48 14.324 Z\" fill=\"#000000\" fill-rule=\"evenodd\" fill-opacity=\"1\" /><path clip-path=\"url(#clip290)\" d=\"M1454.22 32.4315 Q1448.22 32.4315 1444.74 37.1306 Q1441.25 41.7891 1441.25 49.9314 Q1441.25 58.0738 1444.7 62.7728 Q1448.18 67.4314 1454.22 67.4314 Q1460.17 67.4314 1463.65 62.7323 Q1467.14 58.0333 1467.14 49.9314 Q1467.14 41.8701 1463.65 37.1711 Q1460.17 32.4315 1454.22 32.4315 M1454.22 26.1121 Q1463.94 26.1121 1469.49 32.4315 Q1475.04 38.7509 1475.04 49.9314 Q1475.04 61.0714 1469.49 67.4314 Q1463.94 73.7508 1454.22 73.7508 Q1444.45 73.7508 1438.9 67.4314 Q1433.39 61.0714 1433.39 49.9314 Q1433.39 38.7509 1438.9 32.4315 Q1444.45 26.1121 1454.22 26.1121 Z\" fill=\"#000000\" fill-rule=\"evenodd\" fill-opacity=\"1\" /><path clip-path=\"url(#clip290)\" d=\"M1513.68 34.1734 Q1512.43 33.4443 1510.93 33.1202 Q1509.47 32.7556 1507.69 32.7556 Q1501.37 32.7556 1497.97 36.8875 Q1494.6 40.9789 1494.6 48.6757 L1494.6 72.576 L1487.11 72.576 L1487.11 27.2059 L1494.6 27.2059 L1494.6 34.2544 Q1496.95 30.1225 1500.72 28.1376 Q1504.49 26.1121 1509.87 26.1121 Q1510.64 26.1121 1511.58 26.2337 Q1512.51 26.3147 1513.64 26.5172 L1513.68 34.1734 Z\" fill=\"#000000\" fill-rule=\"evenodd\" fill-opacity=\"1\" /><path clip-path=\"url(#clip290)\" d=\"M1540.38 76.7889 Q1537.22 84.8907 1534.22 87.3618 Q1531.22 89.8329 1526.2 89.8329 L1520.25 89.8329 L1520.25 83.5945 L1524.62 83.5945 Q1527.7 83.5945 1529.4 82.1361 Q1531.1 80.6778 1533.17 75.2496 L1534.5 71.8468 L1516.15 27.2059 L1524.05 27.2059 L1538.23 62.6918 L1552.41 27.2059 L1560.31 27.2059 L1540.38 76.7889 Z\" fill=\"#000000\" fill-rule=\"evenodd\" fill-opacity=\"1\" /><polyline clip-path=\"url(#clip292)\" style=\"stroke:#009af9; stroke-linecap:round; stroke-linejoin:round; stroke-width:4; stroke-opacity:1; fill:none\" points=\"301.869,160.256 308.529,164.601 315.188,168.987 321.847,173.413 328.507,177.876 335.166,182.374 341.825,186.906 348.485,191.47 355.144,196.063 361.804,200.684 368.463,205.331 375.122,210.003 381.782,214.697 388.441,219.412 395.1,224.147 401.76,228.899 408.419,233.668 415.079,238.451 421.738,243.248 428.397,248.056 435.057,252.874 441.716,257.701 448.375,262.535 455.035,267.376 461.694,272.221 468.354,277.069 475.013,281.919 481.672,286.771 488.332,291.622 494.991,296.471 501.65,301.317 508.31,306.16 514.969,310.998 521.628,315.829 528.288,320.654 534.947,325.47 541.607,330.277 548.266,335.074 554.925,339.86 561.585,344.634 568.244,349.395 574.903,354.142 581.563,358.875 588.222,363.591 594.882,368.292 601.541,372.975 608.2,377.641 614.86,382.288 621.519,386.915 628.178,391.523 634.838,396.11 641.497,400.675 648.157,405.218 654.816,409.739 661.475,414.236 668.135,418.71 674.794,423.159 681.453,427.583 688.113,431.982 694.772,436.354 701.432,440.701 708.091,445.02 714.75,449.312 721.41,453.576 728.069,457.812 734.728,462.019 741.388,466.197 748.047,470.346 754.706,474.465 761.366,478.554 768.025,482.613 774.685,486.64 781.344,490.637 788.003,494.603 794.663,498.537 801.322,502.439 807.981,506.309 814.641,510.147 821.3,513.953 827.96,517.726 834.619,521.466 841.278,525.173 847.938,528.847 854.597,532.488 861.256,536.095 867.916,539.669 874.575,543.209 881.235,546.715 887.894,550.188 894.553,553.626 901.213,557.031 907.872,560.402 914.531,563.738 921.191,567.041 927.85,570.309 934.51,573.543 941.169,576.743 947.828,579.909 954.488,583.041 961.147,586.138 967.806,589.202 974.466,592.231 981.125,595.226 987.785,598.188 994.444,601.115 1001.1,604.009 1007.76,606.869 1014.42,609.696 1021.08,612.488 1027.74,615.248 1034.4,617.973 1041.06,620.666 1047.72,623.325 1054.38,625.952 1061.04,628.545 1067.7,631.106 1074.36,633.634 1081.02,636.13 1087.68,638.593 1094.33,641.025 1100.99,643.424 1107.65,645.791 1114.31,648.127 1120.97,650.431 1127.63,652.704 1134.29,654.946 1140.95,657.156 1147.61,659.336 1154.27,661.486 1160.93,663.605 1167.59,665.694 1174.25,667.753 1180.91,669.783 1187.57,671.782 1194.23,673.753 1200.88,675.694 1207.54,677.607 1214.2,679.491 1220.86,681.347 1227.52,683.174 1234.18,684.974 1240.84,686.746 1247.5,688.49 1254.16,690.207 1260.82,691.897 1267.48,693.561 1274.14,695.198 1280.8,696.809 1287.46,698.394 1294.12,699.953 1300.77,701.487 1307.43,702.995 1314.09,704.479 1320.75,705.938 1327.41,707.372 1334.07,708.783 1340.73,710.169 1347.39,711.532 1354.05,712.871 1360.71,714.187 1367.37,715.481 1374.03,716.752 1380.69,718 1387.35,719.227 1394.01,720.431 1400.67,721.614 1407.32,722.776 1413.98,723.917 1420.64,725.037 1427.3,726.137 1433.96,727.217 1440.62,728.276 1447.28,729.316 1453.94,730.337 1460.6,731.338 1467.26,732.321 1473.92,733.285 1480.58,734.231 1487.24,735.159 1493.9,736.068 1500.56,736.961 1507.22,737.836 1513.87,738.694 1520.53,739.535 1527.19,740.36 1533.85,741.169 1540.51,741.962 1547.17,742.739 1553.83,743.5 1560.49,744.247 1567.15,744.978 1573.81,745.695 1580.47,746.398 1587.13,747.086 1593.79,747.76 1600.45,748.421 1607.11,749.068 1613.77,749.702 1620.42,750.323 1627.08,750.932 1633.74,751.528 1640.4,752.111 1647.06,752.683 1653.72,753.243 1660.38,753.792 1667.04,754.329 1673.7,754.856 1680.36,755.371 1687.02,755.876 1693.68,756.371 1700.34,756.856 1707,757.331 1713.66,757.796 1720.32,758.251 1726.97,758.698 1733.63,759.135 1740.29,759.564 1746.95,759.984 1753.61,760.396 1760.27,760.8 1766.93,761.195 1773.59,761.583 1780.25,761.964 1786.91,762.337 1793.57,762.703 1800.23,763.062 1806.89,763.415 1813.55,763.761 1820.21,764.1 1826.87,764.434 1833.52,764.762 1840.18,765.083 1846.84,765.4 1853.5,765.71 1860.16,766.016 1866.82,766.316 1873.48,766.612 1880.14,766.903 1886.8,767.19 1893.46,767.472 1900.12,767.75 1906.78,768.024 1913.44,768.294 1920.1,768.56 1926.76,768.823 1933.42,769.082 1940.07,769.339 1946.73,769.592 1953.39,769.842 1960.05,770.089 1966.71,770.334 1973.37,770.576 1980.03,770.816 1986.69,771.054 1993.35,771.29 2000.01,771.523 2006.67,771.755 2013.33,771.985 2019.99,772.213 2026.65,772.44 2033.31,772.666 2039.97,772.891 2046.62,773.114 2053.28,773.336 2059.94,773.557 2066.6,773.778 2073.26,773.998 2079.92,774.217 2086.58,774.436 2093.24,774.655 2099.9,774.873 2106.56,775.091 2113.22,775.308 2119.88,775.526 2126.54,775.744 2133.2,775.962 2139.86,776.18 2146.52,776.398 2153.17,776.617 2159.83,776.836 2166.49,777.056 2173.15,777.276 2179.81,777.497 2186.47,777.718 2193.13,777.941 2199.79,778.164 2206.45,778.387 2213.11,778.612 2219.77,778.838 2226.43,779.064 2233.09,779.292 2239.75,779.52 2246.41,779.75 2253.07,779.98 2259.72,780.212 2266.38,780.445 2273.04,780.679 2279.7,780.915 2286.36,781.151 2293.02,781.389 \"/>\n<polyline clip-path=\"url(#clip292)\" style=\"stroke:#e26f46; stroke-linecap:round; stroke-linejoin:round; stroke-width:4; stroke-opacity:1; fill:none\" points=\"301.869,1386.4 308.529,1386.4 315.188,1386.4 321.847,1386.4 328.507,1386.4 335.166,1386.4 341.825,1386.4 348.485,1318.5 355.144,1309.79 361.804,1301.12 368.463,1292.52 375.122,1283.97 381.782,1275.48 388.441,1267.05 395.1,1258.67 401.76,1250.36 408.419,1242.1 415.079,1233.91 421.738,1225.78 428.397,1217.71 435.057,1209.71 441.716,1201.76 448.375,1193.89 455.035,1186.07 461.694,1178.32 468.354,1170.64 475.013,1163.02 481.672,1155.47 488.332,1147.99 494.991,1140.57 501.65,1133.22 508.31,1125.93 514.969,1118.72 521.628,1111.57 528.288,1104.49 534.947,1097.48 541.607,1090.54 548.266,1083.67 554.925,1076.86 561.585,1070.13 568.244,1063.46 574.903,1056.86 581.563,1050.33 588.222,1043.88 594.882,1037.49 601.541,1031.17 608.2,1024.92 614.86,1018.74 621.519,1012.62 628.178,1006.58 634.838,1000.61 641.497,994.703 648.157,988.867 654.816,983.1 661.475,977.401 668.135,971.771 674.794,966.21 681.453,960.716 688.113,955.291 694.772,949.933 701.432,944.643 708.091,939.42 714.75,934.264 721.41,929.175 728.069,924.152 734.728,919.196 741.388,914.306 748.047,909.481 754.706,904.722 761.366,900.028 768.025,895.399 774.685,890.834 781.344,886.333 788.003,881.896 794.663,877.522 801.322,873.211 807.981,868.963 814.641,864.777 821.3,860.653 827.96,856.591 834.619,852.59 841.278,848.649 847.938,844.769 854.597,840.948 861.256,837.187 867.916,833.485 874.575,829.842 881.235,826.257 887.894,822.729 894.553,819.259 901.213,815.846 907.872,812.489 914.531,809.188 921.191,805.942 927.85,802.751 934.51,799.615 941.169,796.533 947.828,793.505 954.488,790.529 961.147,787.606 967.806,784.736 974.466,781.917 981.125,779.149 987.785,776.432 994.444,773.765 1001.1,771.148 1007.76,768.58 1014.42,766.061 1021.08,763.59 1027.74,761.166 1034.4,758.79 1041.06,756.461 1047.72,754.178 1054.38,751.941 1061.04,749.749 1067.7,747.602 1074.36,745.499 1081.02,743.44 1087.68,741.424 1094.33,739.451 1100.99,737.52 1107.65,735.631 1114.31,733.783 1120.97,731.977 1127.63,730.21 1134.29,728.483 1140.95,726.796 1147.61,725.148 1154.27,723.537 1160.93,721.965 1167.59,720.43 1174.25,718.932 1180.91,717.471 1187.57,716.045 1194.23,714.655 1200.88,713.3 1207.54,711.98 1214.2,710.693 1220.86,709.44 1227.52,708.221 1234.18,707.034 1240.84,705.879 1247.5,704.756 1254.16,703.664 1260.82,702.603 1267.48,701.572 1274.14,700.571 1280.8,699.6 1287.46,698.658 1294.12,697.744 1300.77,696.859 1307.43,696.001 1314.09,695.171 1320.75,694.367 1327.41,693.59 1334.07,692.839 1340.73,692.113 1347.39,691.413 1354.05,690.738 1360.71,690.086 1367.37,689.459 1374.03,688.855 1380.69,688.275 1387.35,687.717 1394.01,687.182 1400.67,686.668 1407.32,686.176 1413.98,685.705 1420.64,685.255 1427.3,684.826 1433.96,684.416 1440.62,684.027 1447.28,683.656 1453.94,683.305 1460.6,682.972 1467.26,682.657 1473.92,682.36 1480.58,682.081 1487.24,681.819 1493.9,681.574 1500.56,681.345 1507.22,681.133 1513.87,680.936 1520.53,680.755 1527.19,680.589 1533.85,680.438 1540.51,680.302 1547.17,680.179 1553.83,680.071 1560.49,679.976 1567.15,679.895 1573.81,679.827 1580.47,679.771 1587.13,679.728 1593.79,679.698 1600.45,679.679 1607.11,679.671 1613.77,679.675 1620.42,679.69 1627.08,679.716 1633.74,679.752 1640.4,679.799 1647.06,679.855 1653.72,679.922 1660.38,679.997 1667.04,680.083 1673.7,680.177 1680.36,680.279 1687.02,680.391 1693.68,680.51 1700.34,680.638 1707,680.774 1713.66,680.917 1720.32,681.067 1726.97,681.225 1733.63,681.39 1740.29,681.561 1746.95,681.739 1753.61,681.923 1760.27,682.114 1766.93,682.31 1773.59,682.512 1780.25,682.72 1786.91,682.933 1793.57,683.152 1800.23,683.375 1806.89,683.603 1813.55,683.836 1820.21,684.073 1826.87,684.315 1833.52,684.561 1840.18,684.811 1846.84,685.064 1853.5,685.322 1860.16,685.583 1866.82,685.847 1873.48,686.115 1880.14,686.385 1886.8,686.659 1893.46,686.935 1900.12,687.215 1906.78,687.496 1913.44,687.78 1920.1,688.067 1926.76,688.356 1933.42,688.646 1940.07,688.939 1946.73,689.234 1953.39,689.53 1960.05,689.828 1966.71,690.127 1973.37,690.428 1980.03,690.731 1986.69,691.034 1993.35,691.339 2000.01,691.644 2006.67,691.951 2013.33,692.258 2019.99,692.566 2026.65,692.875 2033.31,693.185 2039.97,693.495 2046.62,693.805 2053.28,694.116 2059.94,694.428 2066.6,694.739 2073.26,695.051 2079.92,695.363 2086.58,695.675 2093.24,695.987 2099.9,696.298 2106.56,696.61 2113.22,696.922 2119.88,697.234 2126.54,697.545 2133.2,697.856 2139.86,698.167 2146.52,698.477 2153.17,698.787 2159.83,699.097 2166.49,699.406 2173.15,699.714 2179.81,700.022 2186.47,700.33 2193.13,700.637 2199.79,700.943 2206.45,701.249 2213.11,701.554 2219.77,701.859 2226.43,702.163 2233.09,702.466 2239.75,702.769 2246.41,703.071 2253.07,703.372 2259.72,703.672 2266.38,703.972 2273.04,704.271 2279.7,704.569 2286.36,704.867 2293.02,705.164 \"/>\n<polyline clip-path=\"url(#clip292)\" style=\"stroke:#3da44d; stroke-linecap:round; stroke-linejoin:round; stroke-width:4; stroke-opacity:1; fill:none\" points=\"301.869,532.266 308.529,521.832 315.188,511.681 321.847,501.809 328.507,492.213 335.166,482.889 341.825,473.833 348.485,465.041 355.144,456.509 361.804,448.233 368.463,440.21 375.122,432.436 381.782,424.908 388.441,417.621 395.1,410.572 401.76,403.757 408.419,397.174 415.079,390.817 421.738,384.684 428.397,378.771 435.057,373.075 441.716,367.592 448.375,362.319 455.035,357.252 461.694,352.388 468.354,347.723 475.013,343.255 481.672,338.98 488.332,334.894 494.991,330.996 501.65,327.28 508.31,323.744 514.969,320.386 521.628,317.201 528.288,314.187 534.947,311.34 541.607,308.659 548.266,306.139 554.925,303.777 561.585,301.572 568.244,299.519 574.903,297.617 581.563,295.861 588.222,294.25 594.882,292.781 601.541,291.45 608.2,290.256 614.86,289.195 621.519,288.264 628.178,287.462 634.838,286.786 641.497,286.232 648.157,285.799 654.816,285.484 661.475,285.284 668.135,285.197 674.794,285.221 681.453,285.354 688.113,285.592 694.772,285.934 701.432,286.377 708.091,286.919 714.75,287.558 721.41,288.292 728.069,289.118 734.728,290.035 741.388,291.04 748.047,292.131 754.706,293.306 761.366,294.563 768.025,295.901 774.685,297.316 781.344,298.808 788.003,300.374 794.663,302.013 801.322,303.722 807.981,305.5 814.641,307.346 821.3,309.256 827.96,311.23 834.619,313.266 841.278,315.362 847.938,317.517 854.597,319.729 861.256,321.996 867.916,324.317 874.575,326.69 881.235,329.114 887.894,331.587 894.553,334.108 901.213,336.675 907.872,339.288 914.531,341.944 921.191,344.642 927.85,347.381 934.51,350.16 941.169,352.978 947.828,355.832 954.488,358.723 961.147,361.648 967.806,364.606 974.466,367.598 981.125,370.62 987.785,373.672 994.444,376.754 1001.1,379.864 1007.76,383 1014.42,386.163 1021.08,389.35 1027.74,392.562 1034.4,395.797 1041.06,399.053 1047.72,402.332 1054.38,405.63 1061.04,408.948 1067.7,412.285 1074.36,415.639 1081.02,419.011 1087.68,422.399 1094.33,425.802 1100.99,429.22 1107.65,432.653 1114.31,436.098 1120.97,439.557 1127.63,443.027 1134.29,446.509 1140.95,450.002 1147.61,453.505 1154.27,457.017 1160.93,460.539 1167.59,464.069 1174.25,467.607 1180.91,471.152 1187.57,474.704 1194.23,478.263 1200.88,481.828 1207.54,485.398 1214.2,488.973 1220.86,492.553 1227.52,496.138 1234.18,499.726 1240.84,503.317 1247.5,506.912 1254.16,510.51 1260.82,514.11 1267.48,517.712 1274.14,521.316 1280.8,524.922 1287.46,528.528 1294.12,532.136 1300.77,535.745 1307.43,539.354 1314.09,542.964 1320.75,546.573 1327.41,550.183 1334.07,553.792 1340.73,557.401 1347.39,561.009 1354.05,564.616 1360.71,568.222 1367.37,571.827 1374.03,575.431 1380.69,579.034 1387.35,582.635 1394.01,586.235 1400.67,589.833 1407.32,593.429 1413.98,597.024 1420.64,600.617 1427.3,604.207 1433.96,607.796 1440.62,611.383 1447.28,614.968 1453.94,618.551 1460.6,622.132 1467.26,625.711 1473.92,629.288 1480.58,632.863 1487.24,636.436 1493.9,640.007 1500.56,643.576 1507.22,647.143 1513.87,650.709 1520.53,654.272 1527.19,657.834 1533.85,661.394 1540.51,664.952 1547.17,668.508 1553.83,672.063 1560.49,675.617 1567.15,679.169 1573.81,682.72 1580.47,690.154 1587.13,701.472 1593.79,712.789 1600.45,724.106 1607.11,735.422 1613.77,746.739 1620.42,745.945 1627.08,733.042 1633.74,728.421 1640.4,732.081 1647.06,733.765 1653.72,733.473 1660.38,733.181 1667.04,732.89 1673.7,732.598 1680.36,732.498 1687.02,732.589 1693.68,732.681 1700.34,732.772 1707,732.864 1713.66,732.86 1720.32,732.761 1726.97,732.763 1733.63,732.79 1740.29,732.77 1746.95,732.776 1753.61,732.779 1760.27,732.778 1766.93,732.778 1773.59,732.778 1780.25,732.778 1786.91,732.777 1793.57,732.777 1800.23,732.777 1806.89,732.777 1813.55,732.777 1820.21,732.777 1826.87,732.777 1833.52,732.777 1840.18,732.777 1846.84,732.777 1853.5,732.777 1860.16,732.777 1866.82,732.777 1873.48,732.777 1880.14,732.777 1886.8,732.777 1893.46,732.777 1900.12,732.777 1906.78,732.777 1913.44,732.777 1920.1,732.777 1926.76,732.777 1933.42,732.777 1940.07,732.777 1946.73,732.777 1953.39,732.777 1960.05,732.777 1966.71,732.777 1973.37,732.777 1980.03,732.777 1986.69,732.777 1993.35,732.777 2000.01,732.777 2006.67,732.777 2013.33,732.777 2019.99,732.777 2026.65,732.777 2033.31,732.777 2039.97,732.777 2046.62,732.777 2053.28,732.777 2059.94,732.777 2066.6,732.777 2073.26,732.777 2079.92,732.777 2086.58,732.777 2093.24,732.777 2099.9,732.777 2106.56,732.777 2113.22,732.777 2119.88,732.777 2126.54,732.777 2133.2,732.777 2139.86,732.777 2146.52,732.777 2153.17,732.777 2159.83,732.777 2166.49,732.777 2173.15,732.777 2179.81,732.777 2186.47,732.777 2193.13,732.777 2199.79,732.777 2206.45,732.777 2213.11,732.777 2219.77,732.777 2226.43,732.777 2233.09,732.777 2239.75,732.777 2246.41,732.777 2253.07,732.777 2259.72,732.777 2266.38,732.777 2273.04,732.777 2279.7,732.777 2286.36,732.777 2293.02,732.777 \"/>\n<path clip-path=\"url(#clip290)\" d=\"M2028.72 374.156 L2282.4 374.156 L2282.4 166.796 L2028.72 166.796  Z\" fill=\"#ffffff\" fill-rule=\"evenodd\" fill-opacity=\"1\"/>\n<polyline clip-path=\"url(#clip290)\" style=\"stroke:#000000; stroke-linecap:round; stroke-linejoin:round; stroke-width:4; stroke-opacity:1; fill:none\" points=\"2028.72,374.156 2282.4,374.156 2282.4,166.796 2028.72,166.796 2028.72,374.156 \"/>\n<polyline clip-path=\"url(#clip290)\" style=\"stroke:#009af9; stroke-linecap:round; stroke-linejoin:round; stroke-width:4; stroke-opacity:1; fill:none\" points=\"2052.18,218.636 2192.88,218.636 \"/>\n<path clip-path=\"url(#clip290)\" d=\"M2216.34 225.684 L2216.34 209.99 L2220.59 209.99 L2220.59 225.522 Q2220.59 229.203 2222.03 231.055 Q2223.46 232.883 2226.33 232.883 Q2229.78 232.883 2231.77 230.684 Q2233.79 228.485 2233.79 224.689 L2233.79 209.99 L2238.05 209.99 L2238.05 235.916 L2233.79 235.916 L2233.79 231.934 Q2232.24 234.295 2230.18 235.453 Q2228.14 236.587 2225.43 236.587 Q2220.96 236.587 2218.65 233.809 Q2216.34 231.031 2216.34 225.684 M2227.05 209.365 L2227.05 209.365 Z\" fill=\"#000000\" fill-rule=\"evenodd\" fill-opacity=\"1\" /><path clip-path=\"url(#clip290)\" d=\"M2245.96 233.369 L2250.69 233.369 L2250.69 219.226 L2245.52 220.175 L2245.52 217.49 L2250.85 216.587 L2254.02 216.587 L2254.02 233.369 L2258.77 233.369 L2258.77 235.916 L2245.96 235.916 L2245.96 233.369 Z\" fill=\"#000000\" fill-rule=\"evenodd\" fill-opacity=\"1\" /><polyline clip-path=\"url(#clip290)\" style=\"stroke:#e26f46; stroke-linecap:round; stroke-linejoin:round; stroke-width:4; stroke-opacity:1; fill:none\" points=\"2052.18,270.476 2192.88,270.476 \"/>\n<path clip-path=\"url(#clip290)\" d=\"M2216.34 277.524 L2216.34 261.83 L2220.59 261.83 L2220.59 277.362 Q2220.59 281.043 2222.03 282.895 Q2223.46 284.723 2226.33 284.723 Q2229.78 284.723 2231.77 282.524 Q2233.79 280.325 2233.79 276.529 L2233.79 261.83 L2238.05 261.83 L2238.05 287.756 L2233.79 287.756 L2233.79 283.774 Q2232.24 286.135 2230.18 287.293 Q2228.14 288.427 2225.43 288.427 Q2220.96 288.427 2218.65 285.649 Q2216.34 282.871 2216.34 277.524 M2227.05 261.205 L2227.05 261.205 Z\" fill=\"#000000\" fill-rule=\"evenodd\" fill-opacity=\"1\" /><path clip-path=\"url(#clip290)\" d=\"M2248.56 285.117 L2258.37 285.117 L2258.37 287.756 L2244.53 287.756 L2244.53 285.209 Q2245.32 284.492 2246.77 283.196 Q2254.74 276.135 2254.74 273.959 Q2254.74 272.432 2253.53 271.506 Q2252.33 270.557 2250.36 270.557 Q2249.16 270.557 2247.75 270.973 Q2246.33 271.367 2244.67 272.177 L2244.67 269.33 Q2246.45 268.682 2247.98 268.358 Q2249.53 268.034 2250.85 268.034 Q2254.21 268.034 2256.22 269.561 Q2258.23 271.089 2258.23 273.589 Q2258.23 276.807 2250.57 283.381 Q2249.27 284.492 2248.56 285.117 Z\" fill=\"#000000\" fill-rule=\"evenodd\" fill-opacity=\"1\" /><polyline clip-path=\"url(#clip290)\" style=\"stroke:#3da44d; stroke-linecap:round; stroke-linejoin:round; stroke-width:4; stroke-opacity:1; fill:none\" points=\"2052.18,322.316 2192.88,322.316 \"/>\n<path clip-path=\"url(#clip290)\" d=\"M2216.34 329.364 L2216.34 313.67 L2220.59 313.67 L2220.59 329.202 Q2220.59 332.883 2222.03 334.735 Q2223.46 336.563 2226.33 336.563 Q2229.78 336.563 2231.77 334.364 Q2233.79 332.165 2233.79 328.369 L2233.79 313.67 L2238.05 313.67 L2238.05 339.596 L2233.79 339.596 L2233.79 335.614 Q2232.24 337.975 2230.18 339.133 Q2228.14 340.267 2225.43 340.267 Q2220.96 340.267 2218.65 337.489 Q2216.34 334.711 2216.34 329.364 M2227.05 313.045 L2227.05 313.045 Z\" fill=\"#000000\" fill-rule=\"evenodd\" fill-opacity=\"1\" /><path clip-path=\"url(#clip290)\" d=\"M2254.48 329.133 Q2256.61 329.549 2257.77 330.823 Q2258.95 332.073 2258.95 333.971 Q2258.95 336.841 2256.75 338.392 Q2254.55 339.943 2250.46 339.943 Q2249.14 339.943 2247.68 339.688 Q2246.24 339.457 2244.62 338.994 L2244.62 336.193 Q2245.83 336.818 2247.19 337.119 Q2248.58 337.42 2250.13 337.42 Q2252.65 337.42 2254.04 336.517 Q2255.43 335.591 2255.43 333.971 Q2255.43 332.258 2254.14 331.378 Q2252.86 330.499 2250.36 330.499 L2248.37 330.499 L2248.37 327.999 L2250.55 327.999 Q2252.72 327.999 2253.83 327.281 Q2254.97 326.54 2254.97 325.151 Q2254.97 323.809 2253.81 323.114 Q2252.65 322.397 2250.46 322.397 Q2249.53 322.397 2248.35 322.605 Q2247.17 322.813 2245.29 323.346 L2245.29 320.684 Q2246.98 320.29 2248.46 320.082 Q2249.95 319.874 2251.22 319.874 Q2254.55 319.874 2256.5 321.239 Q2258.46 322.605 2258.46 324.897 Q2258.46 326.494 2257.42 327.605 Q2256.38 328.716 2254.48 329.133 Z\" fill=\"#000000\" fill-rule=\"evenodd\" fill-opacity=\"1\" /></svg>\n"
     },
     "metadata": {},
     "output_type": "display_data"
    }
   ],
   "source": [
    "# Let's solve\n",
    "# include(\"mpc_JuMP.jl\")\n",
    "\n",
    "nx = 6\n",
    "nu = 3\n",
    "N = 301\n",
    "dt = 0.05\n",
    "t_vec = dt*(0:N-1)\n",
    "x0 = [4, 2, 20, -3, 2, -5.0]\n",
    "xg = [0,0,0,0,0,0.0]\n",
    "Xref = [deepcopy(xg) for i = 1:N]\n",
    "Uref = [zeros(nu) for i = 1:N-1]\n",
    "\n",
    "Q = 10e-1*I(nx)\n",
    "R = 1e-0*I(nu)\n",
    "Qf = 100*I(nx)\n",
    "\n",
    "# ground_level = 0.0\n",
    "gravity = [0; 0; -9.81]\n",
    "mass = 10.0\n",
    "# ωPlanet = [0.0; 0.0; 0.0]\n",
    "perWeightMax = 2.0\n",
    "θ_thrust_max = 5.0  # deg\n",
    "# θ_glideslope = 60.0 # deg\n",
    "# glide_recover_k = 8\n",
    "\n",
    "A_cone = [1 0 0; 0 1 0]\n",
    "c_cone = [0.0, 0.0, tand(θ_thrust_max)]\n",
    "u_bnd = mass * abs(gravity[3]) * perWeightMax\n",
    "u_min = -10.0*ones(nu)\n",
    "u_max =  105.0*ones(nu)\n",
    "\n",
    "# state is x y v θ\n",
    "x_min = [-5,-5,0,-10,-10,-10.0]\n",
    "x_max = [5,5,20,10,10,10.0]\n",
    "\n",
    "ncx = 2*nx*1\n",
    "ncu = 2*nu*1\n",
    "ncg = 1\n",
    "ncu_cone = nu*0; \n",
    "cone_scale = 1e-2  # very fragile for each problem\n",
    "\n",
    "μ = [zeros(ncu) for i = 1:N-1]   # input constraints\n",
    "μx = [zeros(ncx) for i = 1:N]    # state constraints\n",
    "λ = zeros(nx)    # goal constraint\n",
    "λc = [zeros(ncu_cone) for i = 1:N-1]   # goal constraint\n",
    "\n",
    "params = (\n",
    "    nx = nx,\n",
    "    nu = nu,\n",
    "    ncx = ncx,\n",
    "    ncu = ncu,\n",
    "    ncg = ncg,\n",
    "    ncu_cone = ncu_cone,\n",
    "    μ = μ, μx = μx, λ = λ, λc = λc,\n",
    "    A_cone = A_cone,\n",
    "    c_cone = c_cone,\n",
    "    N = N,\n",
    "    Q = Q,\n",
    "    R = R,\n",
    "    Qf = Qf,\n",
    "    u_min = u_min,\n",
    "    u_max = u_max,\n",
    "    x_min = x_min,\n",
    "    x_max = x_max,\n",
    "    Xref = Xref,\n",
    "    Uref = Uref,\n",
    "    dt = dt,\n",
    "    mc = 1.0,\n",
    "    mp = 0.2,\n",
    "    l = 0.5,\n",
    "    g = 9.81,\n",
    ");\n",
    "\n",
    "# previous iterate\n",
    "X = [deepcopy(x0) for i = 1:N]\n",
    "U = [zeros(nu) for k = 1:N-1]\n",
    "# new iterate\n",
    "Xn = deepcopy(X)\n",
    "Un = deepcopy(U)\n",
    "\n",
    "P = [zeros(nx,nx) for i = 1:N]   # cost to go quadratic term\n",
    "p = [zeros(nx) for i = 1:N]      # cost to go linear term\n",
    "d = [zeros(nu) for i = 1:N-1]    # feedforward control\n",
    "K = [zeros(nu,nx) for i = 1:N-1] # feedback gain\n",
    "\n",
    "include(\"mpc_JuMP.jl\")\n",
    "optimizers = (\n",
    "    JuMP.optimizer_with_attributes(COSMO.Optimizer,\n",
    "        \"verbose\"=>false,\n",
    "        \"eps_abs\"=>1e-4,\n",
    "        \"eps_rel\"=>1e-4,\n",
    "        \"rho\"=>1e-2,\n",
    "        \"scaling\"=>0,\n",
    "        \"alpha\"=>1.0),\n",
    "    JuMP.optimizer_with_attributes(ECOS.Optimizer, \n",
    "        \"verbose\"=>false,\n",
    "        \"feastol\"=>1e-4,\n",
    "        \"abstol\"=>1e-4,\n",
    "        \"reltol\"=>1e-4)) \n",
    "# trajopt_JuMP1(optimizers[1], params, Xn, Un, A, B, f*0; warm_start=false)\n",
    "u_ = mpc(params,X,U,P,p,K,d,Xn,Un; atol=1e-3, max_iters = 20, verbose = true, ρ = 1e-4, ρmax = 1e10, ϕ = 10.0);\n",
    "\n",
    "function mat_from_vec(X::Vector{Vector{Float64}})::Matrix\n",
    "    # convert a vector of vectors to a matrix \n",
    "    Xm = hcat(X...)\n",
    "    return Xm \n",
    "end\n",
    "Xsim_m = mat_from_vec(Xn)\n",
    "Usim_m = mat_from_vec(Un)\n",
    "using Plots\n",
    "display(plot(t_vec,Xsim_m',label = [\"x₁\" \"x₂\" \"x₃\" \"ẋ₁\" \"ẋ₂\" \"ẋ₃\"],linestyle=[:solid :solid :solid :dash :dash :dash],\n",
    "             title = \"State History\",\n",
    "             xlabel = \"time (s)\", ylabel = \"x\"))\n",
    "display(plot(t_vec[1:end-1],Usim_m',label = [\"u₁\" \"u₂\" \"u₃\"],\n",
    "             title = \"Input History\",\n",
    "             xlabel = \"time (s)\", ylabel = \"u\"))"
   ]
  },
  {
   "cell_type": "code",
   "execution_count": 63,
   "id": "8c6dfcfd",
   "metadata": {},
   "outputs": [
    {
     "data": {
      "image/svg+xml": "<?xml version=\"1.0\" encoding=\"utf-8\"?>\n<svg xmlns=\"http://www.w3.org/2000/svg\" xmlns:xlink=\"http://www.w3.org/1999/xlink\" width=\"600\" height=\"400\" viewBox=\"0 0 2400 1600\">\n<defs>\n  <clipPath id=\"clip930\">\n    <rect x=\"0\" y=\"0\" width=\"2400\" height=\"1600\"/>\n  </clipPath>\n</defs>\n<path clip-path=\"url(#clip930)\" d=\"M0 1600 L2400 1600 L2400 0 L0 0  Z\" fill=\"#ffffff\" fill-rule=\"evenodd\" fill-opacity=\"1\"/>\n<defs>\n  <clipPath id=\"clip931\">\n    <rect x=\"480\" y=\"0\" width=\"1681\" height=\"1600\"/>\n  </clipPath>\n</defs>\n<path clip-path=\"url(#clip930)\" d=\"M210.977 1423.18 L2352.76 1423.18 L2352.76 123.472 L210.977 123.472  Z\" fill=\"#ffffff\" fill-rule=\"evenodd\" fill-opacity=\"1\"/>\n<defs>\n  <clipPath id=\"clip932\">\n    <rect x=\"210\" y=\"123\" width=\"2143\" height=\"1301\"/>\n  </clipPath>\n</defs>\n<polyline clip-path=\"url(#clip932)\" style=\"stroke:#000000; stroke-linecap:round; stroke-linejoin:round; stroke-width:2; stroke-opacity:0.1; fill:none\" points=\"271.594,1423.18 271.594,123.472 \"/>\n<polyline clip-path=\"url(#clip932)\" style=\"stroke:#000000; stroke-linecap:round; stroke-linejoin:round; stroke-width:2; stroke-opacity:0.1; fill:none\" points=\"945.109,1423.18 945.109,123.472 \"/>\n<polyline clip-path=\"url(#clip932)\" style=\"stroke:#000000; stroke-linecap:round; stroke-linejoin:round; stroke-width:2; stroke-opacity:0.1; fill:none\" points=\"1618.62,1423.18 1618.62,123.472 \"/>\n<polyline clip-path=\"url(#clip932)\" style=\"stroke:#000000; stroke-linecap:round; stroke-linejoin:round; stroke-width:2; stroke-opacity:0.1; fill:none\" points=\"2292.14,1423.18 2292.14,123.472 \"/>\n<polyline clip-path=\"url(#clip930)\" style=\"stroke:#000000; stroke-linecap:round; stroke-linejoin:round; stroke-width:4; stroke-opacity:1; fill:none\" points=\"210.977,1423.18 2352.76,1423.18 \"/>\n<polyline clip-path=\"url(#clip930)\" style=\"stroke:#000000; stroke-linecap:round; stroke-linejoin:round; stroke-width:4; stroke-opacity:1; fill:none\" points=\"271.594,1423.18 271.594,1404.28 \"/>\n<polyline clip-path=\"url(#clip930)\" style=\"stroke:#000000; stroke-linecap:round; stroke-linejoin:round; stroke-width:4; stroke-opacity:1; fill:none\" points=\"945.109,1423.18 945.109,1404.28 \"/>\n<polyline clip-path=\"url(#clip930)\" style=\"stroke:#000000; stroke-linecap:round; stroke-linejoin:round; stroke-width:4; stroke-opacity:1; fill:none\" points=\"1618.62,1423.18 1618.62,1404.28 \"/>\n<polyline clip-path=\"url(#clip930)\" style=\"stroke:#000000; stroke-linecap:round; stroke-linejoin:round; stroke-width:4; stroke-opacity:1; fill:none\" points=\"2292.14,1423.18 2292.14,1404.28 \"/>\n<path clip-path=\"url(#clip930)\" d=\"M271.594 1454.1 Q267.983 1454.1 266.154 1457.66 Q264.348 1461.2 264.348 1468.33 Q264.348 1475.44 266.154 1479.01 Q267.983 1482.55 271.594 1482.55 Q275.228 1482.55 277.034 1479.01 Q278.862 1475.44 278.862 1468.33 Q278.862 1461.2 277.034 1457.66 Q275.228 1454.1 271.594 1454.1 M271.594 1450.39 Q277.404 1450.39 280.459 1455 Q283.538 1459.58 283.538 1468.33 Q283.538 1477.06 280.459 1481.67 Q277.404 1486.25 271.594 1486.25 Q265.784 1486.25 262.705 1481.67 Q259.649 1477.06 259.649 1468.33 Q259.649 1459.58 262.705 1455 Q265.784 1450.39 271.594 1450.39 Z\" fill=\"#000000\" fill-rule=\"evenodd\" fill-opacity=\"1\" /><path clip-path=\"url(#clip930)\" d=\"M935.387 1451.02 L953.743 1451.02 L953.743 1454.96 L939.669 1454.96 L939.669 1463.43 Q940.688 1463.08 941.706 1462.92 Q942.725 1462.73 943.743 1462.73 Q949.53 1462.73 952.91 1465.9 Q956.29 1469.08 956.29 1474.49 Q956.29 1480.07 952.817 1483.17 Q949.345 1486.25 943.026 1486.25 Q940.85 1486.25 938.581 1485.88 Q936.336 1485.51 933.929 1484.77 L933.929 1480.07 Q936.012 1481.2 938.234 1481.76 Q940.456 1482.32 942.933 1482.32 Q946.938 1482.32 949.276 1480.21 Q951.614 1478.1 951.614 1474.49 Q951.614 1470.88 949.276 1468.77 Q946.938 1466.67 942.933 1466.67 Q941.058 1466.67 939.183 1467.08 Q937.331 1467.5 935.387 1468.38 L935.387 1451.02 Z\" fill=\"#000000\" fill-rule=\"evenodd\" fill-opacity=\"1\" /><path clip-path=\"url(#clip930)\" d=\"M1593.31 1481.64 L1600.95 1481.64 L1600.95 1455.28 L1592.64 1456.95 L1592.64 1452.69 L1600.9 1451.02 L1605.58 1451.02 L1605.58 1481.64 L1613.22 1481.64 L1613.22 1485.58 L1593.31 1485.58 L1593.31 1481.64 Z\" fill=\"#000000\" fill-rule=\"evenodd\" fill-opacity=\"1\" /><path clip-path=\"url(#clip930)\" d=\"M1632.66 1454.1 Q1629.05 1454.1 1627.22 1457.66 Q1625.42 1461.2 1625.42 1468.33 Q1625.42 1475.44 1627.22 1479.01 Q1629.05 1482.55 1632.66 1482.55 Q1636.3 1482.55 1638.1 1479.01 Q1639.93 1475.44 1639.93 1468.33 Q1639.93 1461.2 1638.1 1457.66 Q1636.3 1454.1 1632.66 1454.1 M1632.66 1450.39 Q1638.47 1450.39 1641.53 1455 Q1644.61 1459.58 1644.61 1468.33 Q1644.61 1477.06 1641.53 1481.67 Q1638.47 1486.25 1632.66 1486.25 Q1626.85 1486.25 1623.77 1481.67 Q1620.72 1477.06 1620.72 1468.33 Q1620.72 1459.58 1623.77 1455 Q1626.85 1450.39 1632.66 1450.39 Z\" fill=\"#000000\" fill-rule=\"evenodd\" fill-opacity=\"1\" /><path clip-path=\"url(#clip930)\" d=\"M2267.32 1481.64 L2274.96 1481.64 L2274.96 1455.28 L2266.65 1456.95 L2266.65 1452.69 L2274.92 1451.02 L2279.59 1451.02 L2279.59 1481.64 L2287.23 1481.64 L2287.23 1485.58 L2267.32 1485.58 L2267.32 1481.64 Z\" fill=\"#000000\" fill-rule=\"evenodd\" fill-opacity=\"1\" /><path clip-path=\"url(#clip930)\" d=\"M2296.72 1451.02 L2315.08 1451.02 L2315.08 1454.96 L2301.01 1454.96 L2301.01 1463.43 Q2302.02 1463.08 2303.04 1462.92 Q2304.06 1462.73 2305.08 1462.73 Q2310.87 1462.73 2314.25 1465.9 Q2317.63 1469.08 2317.63 1474.49 Q2317.63 1480.07 2314.15 1483.17 Q2310.68 1486.25 2304.36 1486.25 Q2302.19 1486.25 2299.92 1485.88 Q2297.67 1485.51 2295.26 1484.77 L2295.26 1480.07 Q2297.35 1481.2 2299.57 1481.76 Q2301.79 1482.32 2304.27 1482.32 Q2308.27 1482.32 2310.61 1480.21 Q2312.95 1478.1 2312.95 1474.49 Q2312.95 1470.88 2310.61 1468.77 Q2308.27 1466.67 2304.27 1466.67 Q2302.39 1466.67 2300.52 1467.08 Q2298.67 1467.5 2296.72 1468.38 L2296.72 1451.02 Z\" fill=\"#000000\" fill-rule=\"evenodd\" fill-opacity=\"1\" /><path clip-path=\"url(#clip930)\" d=\"M1169.32 1522.27 L1169.32 1532.4 L1181.38 1532.4 L1181.38 1536.95 L1169.32 1536.95 L1169.32 1556.3 Q1169.32 1560.66 1170.5 1561.9 Q1171.71 1563.14 1175.37 1563.14 L1181.38 1563.14 L1181.38 1568.04 L1175.37 1568.04 Q1168.59 1568.04 1166.01 1565.53 Q1163.43 1562.98 1163.43 1556.3 L1163.43 1536.95 L1159.14 1536.95 L1159.14 1532.4 L1163.43 1532.4 L1163.43 1522.27 L1169.32 1522.27 Z\" fill=\"#000000\" fill-rule=\"evenodd\" fill-opacity=\"1\" /><path clip-path=\"url(#clip930)\" d=\"M1189.09 1532.4 L1194.94 1532.4 L1194.94 1568.04 L1189.09 1568.04 L1189.09 1532.4 M1189.09 1518.52 L1194.94 1518.52 L1194.94 1525.93 L1189.09 1525.93 L1189.09 1518.52 Z\" fill=\"#000000\" fill-rule=\"evenodd\" fill-opacity=\"1\" /><path clip-path=\"url(#clip930)\" d=\"M1234.95 1539.24 Q1237.15 1535.29 1240.2 1533.41 Q1243.26 1531.54 1247.4 1531.54 Q1252.97 1531.54 1255.99 1535.45 Q1259.01 1539.33 1259.01 1546.53 L1259.01 1568.04 L1253.13 1568.04 L1253.13 1546.72 Q1253.13 1541.59 1251.31 1539.11 Q1249.5 1536.63 1245.77 1536.63 Q1241.22 1536.63 1238.58 1539.65 Q1235.94 1542.68 1235.94 1547.9 L1235.94 1568.04 L1230.05 1568.04 L1230.05 1546.72 Q1230.05 1541.56 1228.24 1539.11 Q1226.42 1536.63 1222.63 1536.63 Q1218.15 1536.63 1215.5 1539.68 Q1212.86 1542.71 1212.86 1547.9 L1212.86 1568.04 L1206.97 1568.04 L1206.97 1532.4 L1212.86 1532.4 L1212.86 1537.93 Q1214.87 1534.66 1217.67 1533.1 Q1220.47 1531.54 1224.32 1531.54 Q1228.2 1531.54 1230.91 1533.51 Q1233.65 1535.48 1234.95 1539.24 Z\" fill=\"#000000\" fill-rule=\"evenodd\" fill-opacity=\"1\" /><path clip-path=\"url(#clip930)\" d=\"M1301.19 1548.76 L1301.19 1551.62 L1274.26 1551.62 Q1274.64 1557.67 1277.89 1560.85 Q1281.17 1564 1286.99 1564 Q1290.36 1564 1293.52 1563.17 Q1296.7 1562.35 1299.82 1560.69 L1299.82 1566.23 Q1296.67 1567.57 1293.36 1568.27 Q1290.05 1568.97 1286.64 1568.97 Q1278.11 1568.97 1273.11 1564 Q1268.15 1559.04 1268.15 1550.57 Q1268.15 1541.82 1272.86 1536.69 Q1277.6 1531.54 1285.62 1531.54 Q1292.82 1531.54 1296.99 1536.18 Q1301.19 1540.8 1301.19 1548.76 M1295.33 1547.04 Q1295.27 1542.23 1292.62 1539.37 Q1290.01 1536.5 1285.69 1536.5 Q1280.78 1536.5 1277.82 1539.27 Q1274.9 1542.04 1274.45 1547.07 L1295.33 1547.04 Z\" fill=\"#000000\" fill-rule=\"evenodd\" fill-opacity=\"1\" /><path clip-path=\"url(#clip930)\" d=\"M1345.59 1518.58 Q1341.32 1525.9 1339.25 1533.06 Q1337.18 1540.23 1337.18 1547.58 Q1337.18 1554.93 1339.25 1562.16 Q1341.35 1569.35 1345.59 1576.64 L1340.49 1576.64 Q1335.72 1569.16 1333.33 1561.93 Q1330.98 1554.71 1330.98 1547.58 Q1330.98 1540.48 1333.33 1533.29 Q1335.69 1526.09 1340.49 1518.58 L1345.59 1518.58 Z\" fill=\"#000000\" fill-rule=\"evenodd\" fill-opacity=\"1\" /><path clip-path=\"url(#clip930)\" d=\"M1379.68 1533.45 L1379.68 1538.98 Q1377.19 1537.71 1374.52 1537.07 Q1371.85 1536.44 1368.98 1536.44 Q1364.62 1536.44 1362.42 1537.77 Q1360.26 1539.11 1360.26 1541.79 Q1360.26 1543.82 1361.82 1545 Q1363.38 1546.15 1368.09 1547.2 L1370.1 1547.64 Q1376.33 1548.98 1378.94 1551.43 Q1381.59 1553.85 1381.59 1558.21 Q1381.59 1563.17 1377.64 1566.07 Q1373.72 1568.97 1366.85 1568.97 Q1363.98 1568.97 1360.87 1568.39 Q1357.78 1567.85 1354.34 1566.74 L1354.34 1560.69 Q1357.59 1562.38 1360.74 1563.24 Q1363.89 1564.07 1366.98 1564.07 Q1371.11 1564.07 1373.34 1562.66 Q1375.57 1561.23 1375.57 1558.65 Q1375.57 1556.27 1373.95 1554.99 Q1372.36 1553.72 1366.91 1552.54 L1364.88 1552.07 Q1359.43 1550.92 1357.01 1548.56 Q1354.59 1546.18 1354.59 1542.04 Q1354.59 1537.01 1358.16 1534.27 Q1361.72 1531.54 1368.28 1531.54 Q1371.53 1531.54 1374.39 1532.01 Q1377.26 1532.49 1379.68 1533.45 Z\" fill=\"#000000\" fill-rule=\"evenodd\" fill-opacity=\"1\" /><path clip-path=\"url(#clip930)\" d=\"M1389.99 1518.58 L1395.08 1518.58 Q1399.86 1526.09 1402.21 1533.29 Q1404.6 1540.48 1404.6 1547.58 Q1404.6 1554.71 1402.21 1561.93 Q1399.86 1569.16 1395.08 1576.64 L1389.99 1576.64 Q1394.22 1569.35 1396.29 1562.16 Q1398.39 1554.93 1398.39 1547.58 Q1398.39 1540.23 1396.29 1533.06 Q1394.22 1525.9 1389.99 1518.58 Z\" fill=\"#000000\" fill-rule=\"evenodd\" fill-opacity=\"1\" /><polyline clip-path=\"url(#clip932)\" style=\"stroke:#000000; stroke-linecap:round; stroke-linejoin:round; stroke-width:2; stroke-opacity:0.1; fill:none\" points=\"210.977,1386.4 2352.76,1386.4 \"/>\n<polyline clip-path=\"url(#clip932)\" style=\"stroke:#000000; stroke-linecap:round; stroke-linejoin:round; stroke-width:2; stroke-opacity:0.1; fill:none\" points=\"210.977,1141.17 2352.76,1141.17 \"/>\n<polyline clip-path=\"url(#clip932)\" style=\"stroke:#000000; stroke-linecap:round; stroke-linejoin:round; stroke-width:2; stroke-opacity:0.1; fill:none\" points=\"210.977,895.94 2352.76,895.94 \"/>\n<polyline clip-path=\"url(#clip932)\" style=\"stroke:#000000; stroke-linecap:round; stroke-linejoin:round; stroke-width:2; stroke-opacity:0.1; fill:none\" points=\"210.977,650.712 2352.76,650.712 \"/>\n<polyline clip-path=\"url(#clip932)\" style=\"stroke:#000000; stroke-linecap:round; stroke-linejoin:round; stroke-width:2; stroke-opacity:0.1; fill:none\" points=\"210.977,405.484 2352.76,405.484 \"/>\n<polyline clip-path=\"url(#clip932)\" style=\"stroke:#000000; stroke-linecap:round; stroke-linejoin:round; stroke-width:2; stroke-opacity:0.1; fill:none\" points=\"210.977,160.256 2352.76,160.256 \"/>\n<polyline clip-path=\"url(#clip930)\" style=\"stroke:#000000; stroke-linecap:round; stroke-linejoin:round; stroke-width:4; stroke-opacity:1; fill:none\" points=\"210.977,1423.18 210.977,123.472 \"/>\n<polyline clip-path=\"url(#clip930)\" style=\"stroke:#000000; stroke-linecap:round; stroke-linejoin:round; stroke-width:4; stroke-opacity:1; fill:none\" points=\"210.977,1386.4 229.875,1386.4 \"/>\n<polyline clip-path=\"url(#clip930)\" style=\"stroke:#000000; stroke-linecap:round; stroke-linejoin:round; stroke-width:4; stroke-opacity:1; fill:none\" points=\"210.977,1141.17 229.875,1141.17 \"/>\n<polyline clip-path=\"url(#clip930)\" style=\"stroke:#000000; stroke-linecap:round; stroke-linejoin:round; stroke-width:4; stroke-opacity:1; fill:none\" points=\"210.977,895.94 229.875,895.94 \"/>\n<polyline clip-path=\"url(#clip930)\" style=\"stroke:#000000; stroke-linecap:round; stroke-linejoin:round; stroke-width:4; stroke-opacity:1; fill:none\" points=\"210.977,650.712 229.875,650.712 \"/>\n<polyline clip-path=\"url(#clip930)\" style=\"stroke:#000000; stroke-linecap:round; stroke-linejoin:round; stroke-width:4; stroke-opacity:1; fill:none\" points=\"210.977,405.484 229.875,405.484 \"/>\n<polyline clip-path=\"url(#clip930)\" style=\"stroke:#000000; stroke-linecap:round; stroke-linejoin:round; stroke-width:4; stroke-opacity:1; fill:none\" points=\"210.977,160.256 229.875,160.256 \"/>\n<path clip-path=\"url(#clip930)\" d=\"M114.26 1386.85 L143.936 1386.85 L143.936 1390.78 L114.26 1390.78 L114.26 1386.85 Z\" fill=\"#000000\" fill-rule=\"evenodd\" fill-opacity=\"1\" /><path clip-path=\"url(#clip930)\" d=\"M154.075 1369.12 L172.431 1369.12 L172.431 1373.05 L158.357 1373.05 L158.357 1381.52 Q159.376 1381.18 160.394 1381.01 Q161.413 1380.83 162.431 1380.83 Q168.218 1380.83 171.598 1384 Q174.977 1387.17 174.977 1392.59 Q174.977 1398.17 171.505 1401.27 Q168.033 1404.35 161.714 1404.35 Q159.538 1404.35 157.269 1403.98 Q155.024 1403.61 152.616 1402.87 L152.616 1398.17 Q154.7 1399.3 156.922 1399.86 Q159.144 1400.41 161.621 1400.41 Q165.626 1400.41 167.964 1398.31 Q170.302 1396.2 170.302 1392.59 Q170.302 1388.98 167.964 1386.87 Q165.626 1384.76 161.621 1384.76 Q159.746 1384.76 157.871 1385.18 Q156.019 1385.6 154.075 1386.48 L154.075 1369.12 Z\" fill=\"#000000\" fill-rule=\"evenodd\" fill-opacity=\"1\" /><path clip-path=\"url(#clip930)\" d=\"M163.033 1126.97 Q159.422 1126.97 157.593 1130.53 Q155.788 1134.07 155.788 1141.2 Q155.788 1148.31 157.593 1151.87 Q159.422 1155.42 163.033 1155.42 Q166.667 1155.42 168.473 1151.87 Q170.302 1148.31 170.302 1141.2 Q170.302 1134.07 168.473 1130.53 Q166.667 1126.97 163.033 1126.97 M163.033 1123.26 Q168.843 1123.26 171.899 1127.87 Q174.977 1132.45 174.977 1141.2 Q174.977 1149.93 171.899 1154.54 Q168.843 1159.12 163.033 1159.12 Q157.223 1159.12 154.144 1154.54 Q151.089 1149.93 151.089 1141.2 Q151.089 1132.45 154.144 1127.87 Q157.223 1123.26 163.033 1123.26 Z\" fill=\"#000000\" fill-rule=\"evenodd\" fill-opacity=\"1\" /><path clip-path=\"url(#clip930)\" d=\"M154.075 878.66 L172.431 878.66 L172.431 882.595 L158.357 882.595 L158.357 891.067 Q159.376 890.72 160.394 890.558 Q161.413 890.373 162.431 890.373 Q168.218 890.373 171.598 893.544 Q174.977 896.715 174.977 902.132 Q174.977 907.711 171.505 910.813 Q168.033 913.891 161.714 913.891 Q159.538 913.891 157.269 913.521 Q155.024 913.15 152.616 912.41 L152.616 907.711 Q154.7 908.845 156.922 909.4 Q159.144 909.956 161.621 909.956 Q165.626 909.956 167.964 907.85 Q170.302 905.743 170.302 902.132 Q170.302 898.521 167.964 896.414 Q165.626 894.308 161.621 894.308 Q159.746 894.308 157.871 894.725 Q156.019 895.141 154.075 896.021 L154.075 878.66 Z\" fill=\"#000000\" fill-rule=\"evenodd\" fill-opacity=\"1\" /><path clip-path=\"url(#clip930)\" d=\"M123.681 664.057 L131.32 664.057 L131.32 637.691 L123.01 639.358 L123.01 635.099 L131.274 633.432 L135.95 633.432 L135.95 664.057 L143.589 664.057 L143.589 667.992 L123.681 667.992 L123.681 664.057 Z\" fill=\"#000000\" fill-rule=\"evenodd\" fill-opacity=\"1\" /><path clip-path=\"url(#clip930)\" d=\"M163.033 636.511 Q159.422 636.511 157.593 640.076 Q155.788 643.617 155.788 650.747 Q155.788 657.853 157.593 661.418 Q159.422 664.96 163.033 664.96 Q166.667 664.96 168.473 661.418 Q170.302 657.853 170.302 650.747 Q170.302 643.617 168.473 640.076 Q166.667 636.511 163.033 636.511 M163.033 632.807 Q168.843 632.807 171.899 637.414 Q174.977 641.997 174.977 650.747 Q174.977 659.474 171.899 664.08 Q168.843 668.663 163.033 668.663 Q157.223 668.663 154.144 664.08 Q151.089 659.474 151.089 650.747 Q151.089 641.997 154.144 637.414 Q157.223 632.807 163.033 632.807 Z\" fill=\"#000000\" fill-rule=\"evenodd\" fill-opacity=\"1\" /><path clip-path=\"url(#clip930)\" d=\"M124.677 418.829 L132.316 418.829 L132.316 392.463 L124.005 394.13 L124.005 389.871 L132.269 388.204 L136.945 388.204 L136.945 418.829 L144.584 418.829 L144.584 422.764 L124.677 422.764 L124.677 418.829 Z\" fill=\"#000000\" fill-rule=\"evenodd\" fill-opacity=\"1\" /><path clip-path=\"url(#clip930)\" d=\"M154.075 388.204 L172.431 388.204 L172.431 392.139 L158.357 392.139 L158.357 400.612 Q159.376 400.264 160.394 400.102 Q161.413 399.917 162.431 399.917 Q168.218 399.917 171.598 403.088 Q174.977 406.26 174.977 411.676 Q174.977 417.255 171.505 420.357 Q168.033 423.435 161.714 423.435 Q159.538 423.435 157.269 423.065 Q155.024 422.695 152.616 421.954 L152.616 417.255 Q154.7 418.389 156.922 418.945 Q159.144 419.5 161.621 419.5 Q165.626 419.5 167.964 417.394 Q170.302 415.287 170.302 411.676 Q170.302 408.065 167.964 405.959 Q165.626 403.852 161.621 403.852 Q159.746 403.852 157.871 404.269 Q156.019 404.686 154.075 405.565 L154.075 388.204 Z\" fill=\"#000000\" fill-rule=\"evenodd\" fill-opacity=\"1\" /><path clip-path=\"url(#clip930)\" d=\"M126.899 173.601 L143.218 173.601 L143.218 177.536 L121.274 177.536 L121.274 173.601 Q123.936 170.847 128.519 166.217 Q133.126 161.564 134.306 160.222 Q136.552 157.698 137.431 155.962 Q138.334 154.203 138.334 152.513 Q138.334 149.759 136.39 148.023 Q134.468 146.286 131.367 146.286 Q129.167 146.286 126.714 147.05 Q124.283 147.814 121.505 149.365 L121.505 144.643 Q124.33 143.509 126.783 142.93 Q129.237 142.351 131.274 142.351 Q136.644 142.351 139.839 145.036 Q143.033 147.722 143.033 152.212 Q143.033 154.342 142.223 156.263 Q141.436 158.161 139.329 160.754 Q138.751 161.425 135.649 164.643 Q132.547 167.837 126.899 173.601 Z\" fill=\"#000000\" fill-rule=\"evenodd\" fill-opacity=\"1\" /><path clip-path=\"url(#clip930)\" d=\"M163.033 146.055 Q159.422 146.055 157.593 149.62 Q155.788 153.161 155.788 160.291 Q155.788 167.397 157.593 170.962 Q159.422 174.504 163.033 174.504 Q166.667 174.504 168.473 170.962 Q170.302 167.397 170.302 160.291 Q170.302 153.161 168.473 149.62 Q166.667 146.055 163.033 146.055 M163.033 142.351 Q168.843 142.351 171.899 146.958 Q174.977 151.541 174.977 160.291 Q174.977 169.018 171.899 173.624 Q168.843 178.208 163.033 178.208 Q157.223 178.208 154.144 173.624 Q151.089 169.018 151.089 160.291 Q151.089 151.541 154.144 146.958 Q157.223 142.351 163.033 142.351 Z\" fill=\"#000000\" fill-rule=\"evenodd\" fill-opacity=\"1\" /><path clip-path=\"url(#clip930)\" d=\"M28.3562 756.711 L45.7028 769.602 L64.0042 756.043 L64.0042 762.95 L49.9996 773.326 L64.0042 783.702 L64.0042 790.609 L45.3526 776.763 L28.3562 789.431 L28.3562 782.524 L41.0558 773.071 L28.3562 763.618 L28.3562 756.711 Z\" fill=\"#000000\" fill-rule=\"evenodd\" fill-opacity=\"1\" /><path clip-path=\"url(#clip930)\" d=\"M1054.21 14.0809 L1054.21 22.0612 Q1049.55 19.8332 1045.42 18.7395 Q1041.28 17.6457 1037.44 17.6457 Q1030.75 17.6457 1027.11 20.2383 Q1023.5 22.8309 1023.5 27.611 Q1023.5 31.6214 1025.89 33.6873 Q1028.32 35.7128 1035.05 36.9686 L1039.99 37.9813 Q1049.14 39.7232 1053.48 44.1387 Q1057.85 48.5136 1057.85 55.8863 Q1057.85 64.6767 1051.94 69.2137 Q1046.06 73.7508 1034.68 73.7508 Q1030.39 73.7508 1025.53 72.7785 Q1020.7 71.8063 1015.52 69.9024 L1015.52 61.4765 Q1020.5 64.2716 1025.28 65.6895 Q1030.06 67.1073 1034.68 67.1073 Q1041.69 67.1073 1045.5 64.3527 Q1049.3 61.598 1049.3 56.4939 Q1049.3 52.0379 1046.55 49.5264 Q1043.84 47.0148 1037.6 45.759 L1032.61 44.7868 Q1023.46 42.9639 1019.37 39.075 Q1015.28 35.1862 1015.28 28.2591 Q1015.28 20.2383 1020.91 15.6203 Q1026.58 11.0023 1036.5 11.0023 Q1040.76 11.0023 1045.17 11.7719 Q1049.59 12.5416 1054.21 14.0809 Z\" fill=\"#000000\" fill-rule=\"evenodd\" fill-opacity=\"1\" /><path clip-path=\"url(#clip930)\" d=\"M1077.66 14.324 L1077.66 27.2059 L1093.01 27.2059 L1093.01 32.9987 L1077.66 32.9987 L1077.66 57.6282 Q1077.66 63.1779 1079.16 64.7578 Q1080.7 66.3376 1085.36 66.3376 L1093.01 66.3376 L1093.01 72.576 L1085.36 72.576 Q1076.73 72.576 1073.45 69.3758 Q1070.17 66.1351 1070.17 57.6282 L1070.17 32.9987 L1064.7 32.9987 L1064.7 27.2059 L1070.17 27.2059 L1070.17 14.324 L1077.66 14.324 Z\" fill=\"#000000\" fill-rule=\"evenodd\" fill-opacity=\"1\" /><path clip-path=\"url(#clip930)\" d=\"M1123.44 49.7694 Q1114.4 49.7694 1110.92 51.8354 Q1107.43 53.9013 1107.43 58.8839 Q1107.43 62.8538 1110.03 65.2034 Q1112.66 67.5124 1117.16 67.5124 Q1123.35 67.5124 1127.08 63.1374 Q1130.85 58.7219 1130.85 51.4303 L1130.85 49.7694 L1123.44 49.7694 M1138.3 46.6907 L1138.3 72.576 L1130.85 72.576 L1130.85 65.6895 Q1128.3 69.8214 1124.49 71.8063 Q1120.68 73.7508 1115.17 73.7508 Q1108.2 73.7508 1104.07 69.8619 Q1099.98 65.9325 1099.98 59.3701 Q1099.98 51.7138 1105.09 47.825 Q1110.23 43.9361 1120.4 43.9361 L1130.85 43.9361 L1130.85 43.2069 Q1130.85 38.0623 1127.45 35.2672 Q1124.08 32.4315 1117.97 32.4315 Q1114.08 32.4315 1110.39 33.3632 Q1106.71 34.295 1103.3 36.1584 L1103.3 29.2718 Q1107.39 27.692 1111.24 26.9223 Q1115.09 26.1121 1118.74 26.1121 Q1128.58 26.1121 1133.44 31.2163 Q1138.3 36.3204 1138.3 46.6907 Z\" fill=\"#000000\" fill-rule=\"evenodd\" fill-opacity=\"1\" /><path clip-path=\"url(#clip930)\" d=\"M1161.03 14.324 L1161.03 27.2059 L1176.38 27.2059 L1176.38 32.9987 L1161.03 32.9987 L1161.03 57.6282 Q1161.03 63.1779 1162.53 64.7578 Q1164.07 66.3376 1168.72 66.3376 L1176.38 66.3376 L1176.38 72.576 L1168.72 72.576 Q1160.1 72.576 1156.82 69.3758 Q1153.53 66.1351 1153.53 57.6282 L1153.53 32.9987 L1148.07 32.9987 L1148.07 27.2059 L1153.53 27.2059 L1153.53 14.324 L1161.03 14.324 Z\" fill=\"#000000\" fill-rule=\"evenodd\" fill-opacity=\"1\" /><path clip-path=\"url(#clip930)\" d=\"M1224.99 48.0275 L1224.99 51.6733 L1190.72 51.6733 Q1191.21 59.3701 1195.34 63.421 Q1199.51 67.4314 1206.92 67.4314 Q1211.22 67.4314 1215.23 66.3781 Q1219.28 65.3249 1223.25 63.2184 L1223.25 70.267 Q1219.24 71.9684 1215.03 72.8596 Q1210.81 73.7508 1206.48 73.7508 Q1195.62 73.7508 1189.26 67.4314 Q1182.94 61.1119 1182.94 50.3365 Q1182.94 39.1965 1188.94 32.6746 Q1194.97 26.1121 1205.18 26.1121 Q1214.34 26.1121 1219.64 32.0264 Q1224.99 37.9003 1224.99 48.0275 M1217.54 45.84 Q1217.46 39.7232 1214.1 36.0774 Q1210.77 32.4315 1205.26 32.4315 Q1199.03 32.4315 1195.26 35.9558 Q1191.53 39.4801 1190.96 45.8805 L1217.54 45.84 Z\" fill=\"#000000\" fill-rule=\"evenodd\" fill-opacity=\"1\" /><path clip-path=\"url(#clip930)\" d=\"M1263.92 12.096 L1272.1 12.096 L1272.1 36.8875 L1301.84 36.8875 L1301.84 12.096 L1310.02 12.096 L1310.02 72.576 L1301.84 72.576 L1301.84 43.7741 L1272.1 43.7741 L1272.1 72.576 L1263.92 72.576 L1263.92 12.096 Z\" fill=\"#000000\" fill-rule=\"evenodd\" fill-opacity=\"1\" /><path clip-path=\"url(#clip930)\" d=\"M1325.98 27.2059 L1333.43 27.2059 L1333.43 72.576 L1325.98 72.576 L1325.98 27.2059 M1325.98 9.54393 L1333.43 9.54393 L1333.43 18.9825 L1325.98 18.9825 L1325.98 9.54393 Z\" fill=\"#000000\" fill-rule=\"evenodd\" fill-opacity=\"1\" /><path clip-path=\"url(#clip930)\" d=\"M1377.95 28.5427 L1377.95 35.5912 Q1374.79 33.9709 1371.39 33.1607 Q1367.99 32.3505 1364.34 32.3505 Q1358.79 32.3505 1356 34.0519 Q1353.24 35.7533 1353.24 39.156 Q1353.24 41.7486 1355.23 43.2475 Q1357.21 44.7058 1363.21 46.0426 L1365.76 46.6097 Q1373.7 48.3111 1377.02 51.4303 Q1380.38 54.509 1380.38 60.0587 Q1380.38 66.3781 1375.36 70.0644 Q1370.38 73.7508 1361.63 73.7508 Q1357.98 73.7508 1354.01 73.0216 Q1350.08 72.3329 1345.71 70.9151 L1345.71 63.2184 Q1349.84 65.3654 1353.85 66.4591 Q1357.86 67.5124 1361.79 67.5124 Q1367.06 67.5124 1369.89 65.73 Q1372.73 63.9071 1372.73 60.6258 Q1372.73 57.5877 1370.66 55.9673 Q1368.64 54.3469 1361.71 52.8481 L1359.12 52.2405 Q1352.19 50.7821 1349.11 47.7845 Q1346.03 44.7463 1346.03 39.4801 Q1346.03 33.0797 1350.57 29.5959 Q1355.11 26.1121 1363.45 26.1121 Q1367.58 26.1121 1371.23 26.7198 Q1374.88 27.3274 1377.95 28.5427 Z\" fill=\"#000000\" fill-rule=\"evenodd\" fill-opacity=\"1\" /><path clip-path=\"url(#clip930)\" d=\"M1399.63 14.324 L1399.63 27.2059 L1414.98 27.2059 L1414.98 32.9987 L1399.63 32.9987 L1399.63 57.6282 Q1399.63 63.1779 1401.13 64.7578 Q1402.66 66.3376 1407.32 66.3376 L1414.98 66.3376 L1414.98 72.576 L1407.32 72.576 Q1398.69 72.576 1395.41 69.3758 Q1392.13 66.1351 1392.13 57.6282 L1392.13 32.9987 L1386.66 32.9987 L1386.66 27.2059 L1392.13 27.2059 L1392.13 14.324 L1399.63 14.324 Z\" fill=\"#000000\" fill-rule=\"evenodd\" fill-opacity=\"1\" /><path clip-path=\"url(#clip930)\" d=\"M1442.36 32.4315 Q1436.37 32.4315 1432.88 37.1306 Q1429.4 41.7891 1429.4 49.9314 Q1429.4 58.0738 1432.84 62.7728 Q1436.33 67.4314 1442.36 67.4314 Q1448.32 67.4314 1451.8 62.7323 Q1455.29 58.0333 1455.29 49.9314 Q1455.29 41.8701 1451.8 37.1711 Q1448.32 32.4315 1442.36 32.4315 M1442.36 26.1121 Q1452.09 26.1121 1457.64 32.4315 Q1463.19 38.7509 1463.19 49.9314 Q1463.19 61.0714 1457.64 67.4314 Q1452.09 73.7508 1442.36 73.7508 Q1432.6 73.7508 1427.05 67.4314 Q1421.54 61.0714 1421.54 49.9314 Q1421.54 38.7509 1427.05 32.4315 Q1432.6 26.1121 1442.36 26.1121 Z\" fill=\"#000000\" fill-rule=\"evenodd\" fill-opacity=\"1\" /><path clip-path=\"url(#clip930)\" d=\"M1501.83 34.1734 Q1500.57 33.4443 1499.08 33.1202 Q1497.62 32.7556 1495.84 32.7556 Q1489.52 32.7556 1486.11 36.8875 Q1482.75 40.9789 1482.75 48.6757 L1482.75 72.576 L1475.26 72.576 L1475.26 27.2059 L1482.75 27.2059 L1482.75 34.2544 Q1485.1 30.1225 1488.87 28.1376 Q1492.64 26.1121 1498.02 26.1121 Q1498.79 26.1121 1499.72 26.2337 Q1500.66 26.3147 1501.79 26.5172 L1501.83 34.1734 Z\" fill=\"#000000\" fill-rule=\"evenodd\" fill-opacity=\"1\" /><path clip-path=\"url(#clip930)\" d=\"M1528.53 76.7889 Q1525.37 84.8907 1522.37 87.3618 Q1519.37 89.8329 1514.35 89.8329 L1508.39 89.8329 L1508.39 83.5945 L1512.77 83.5945 Q1515.85 83.5945 1517.55 82.1361 Q1519.25 80.6778 1521.32 75.2496 L1522.65 71.8468 L1504.3 27.2059 L1512.2 27.2059 L1526.38 62.6918 L1540.56 27.2059 L1548.46 27.2059 L1528.53 76.7889 Z\" fill=\"#000000\" fill-rule=\"evenodd\" fill-opacity=\"1\" /><polyline clip-path=\"url(#clip932)\" style=\"stroke:#009af9; stroke-linecap:round; stroke-linejoin:round; stroke-width:4; stroke-opacity:1; fill:none\" points=\"271.594,944.985 278.329,952.283 285.064,959.461 291.799,966.521 298.534,973.465 305.27,980.292 312.005,987.004 318.74,993.601 325.475,1000.09 332.21,1006.46 338.945,1012.72 345.68,1018.87 352.416,1024.91 359.151,1030.84 365.886,1036.67 372.621,1042.38 379.356,1048 386.091,1053.51 392.827,1058.91 399.562,1064.21 406.297,1069.41 413.032,1074.51 419.767,1079.51 426.502,1084.42 433.237,1089.22 439.973,1093.93 446.708,1098.54 453.443,1103.06 460.178,1107.48 466.913,1111.82 473.648,1116.06 480.384,1120.21 487.119,1124.27 493.854,1128.24 500.589,1132.13 507.324,1135.92 514.059,1139.64 520.794,1143.27 527.53,1146.81 534.265,1150.27 541,1153.66 547.735,1156.96 554.47,1160.18 561.205,1163.32 567.941,1166.39 574.676,1169.38 581.411,1172.29 588.146,1175.13 594.881,1177.9 601.616,1180.59 608.351,1183.21 615.087,1185.76 621.822,1188.24 628.557,1190.66 635.292,1193 642.027,1195.28 648.762,1197.49 655.497,1199.64 662.233,1201.72 668.968,1203.74 675.703,1205.7 682.438,1207.6 689.173,1209.43 695.908,1211.21 702.644,1212.93 709.379,1214.59 716.114,1216.19 722.849,1217.74 729.584,1219.23 736.319,1220.66 743.054,1222.05 749.79,1223.38 756.525,1224.66 763.26,1225.89 769.995,1227.07 776.73,1228.2 783.465,1229.28 790.201,1230.31 796.936,1231.3 803.671,1232.24 810.406,1233.14 817.141,1233.99 823.876,1234.8 830.611,1235.56 837.347,1236.28 844.082,1236.96 850.817,1237.6 857.552,1238.21 864.287,1238.77 871.022,1239.29 877.758,1239.78 884.493,1240.22 891.228,1240.64 897.963,1241.01 904.698,1241.35 911.433,1241.66 918.168,1241.94 924.904,1242.18 931.639,1242.39 938.374,1242.56 945.109,1242.71 951.844,1242.83 958.579,1242.91 965.314,1242.97 972.05,1243 978.785,1243 985.52,1242.98 992.255,1242.92 998.99,1242.84 1005.73,1242.74 1012.46,1242.61 1019.2,1242.46 1025.93,1242.28 1032.67,1242.09 1039.4,1241.86 1046.14,1241.62 1052.87,1241.35 1059.61,1241.07 1066.34,1240.76 1073.08,1240.44 1079.81,1240.09 1086.55,1239.73 1093.28,1239.34 1100.02,1238.94 1106.75,1238.52 1113.49,1238.09 1120.22,1237.64 1126.96,1237.17 1133.69,1236.68 1140.43,1236.19 1147.16,1235.67 1153.9,1235.15 1160.63,1234.61 1167.37,1234.05 1174.1,1233.48 1180.84,1232.9 1187.57,1232.31 1194.31,1231.71 1201.04,1231.09 1207.78,1230.47 1214.52,1229.83 1221.25,1229.19 1227.99,1228.53 1234.72,1227.86 1241.46,1227.19 1248.19,1226.51 1254.93,1225.81 1261.66,1225.11 1268.4,1224.41 1275.13,1223.69 1281.87,1222.97 1288.6,1222.24 1295.34,1221.51 1302.07,1220.77 1308.81,1220.02 1315.54,1219.27 1322.28,1218.51 1329.01,1217.75 1335.75,1216.98 1342.48,1216.21 1349.22,1215.44 1355.95,1214.66 1362.69,1213.88 1369.42,1213.09 1376.16,1212.3 1382.89,1211.51 1389.63,1210.72 1396.36,1209.92 1403.1,1209.12 1409.83,1208.33 1416.57,1207.52 1423.3,1206.72 1430.04,1205.92 1436.78,1205.12 1443.51,1204.31 1450.25,1203.51 1456.98,1202.7 1463.72,1201.9 1470.45,1201.09 1477.19,1200.29 1483.92,1199.48 1490.66,1198.68 1497.39,1197.88 1504.13,1197.08 1510.86,1196.28 1517.6,1195.48 1524.33,1194.68 1531.07,1193.89 1537.8,1193.09 1544.54,1192.3 1551.27,1191.51 1558.01,1190.73 1564.74,1189.95 1571.48,1189.16 1578.21,1188.39 1584.95,1187.61 1591.68,1186.84 1598.42,1186.07 1605.15,1185.31 1611.89,1184.55 1618.62,1183.79 1625.36,1183.04 1632.09,1182.29 1638.83,1181.54 1645.56,1180.8 1652.3,1180.06 1659.04,1179.33 1665.77,1178.6 1672.51,1177.88 1679.24,1177.16 1685.98,1176.45 1692.71,1175.74 1699.45,1175.04 1706.18,1174.34 1712.92,1173.65 1719.65,1172.96 1726.39,1172.28 1733.12,1171.6 1739.86,1170.93 1746.59,1170.26 1753.33,1169.6 1760.06,1168.95 1766.8,1168.3 1773.53,1167.66 1780.27,1167.03 1787,1166.4 1793.74,1165.77 1800.47,1165.16 1807.21,1164.55 1813.94,1163.94 1820.68,1163.34 1827.41,1162.75 1834.15,1162.17 1840.88,1161.59 1847.62,1161.02 1854.35,1160.46 1861.09,1159.9 1867.82,1159.35 1874.56,1158.81 1881.3,1158.28 1888.03,1157.75 1894.77,1157.23 1901.5,1156.71 1908.24,1156.21 1914.97,1155.71 1921.71,1155.22 1928.44,1154.73 1935.18,1154.26 1941.91,1153.79 1948.65,1153.33 1955.38,1152.88 1962.12,1152.43 1968.85,1151.99 1975.59,1151.56 1982.32,1151.14 1989.06,1150.73 1995.79,1150.32 2002.53,1149.93 2009.26,1149.54 2016,1149.16 2022.73,1148.78 2029.47,1148.42 2036.2,1148.06 2042.94,1147.72 2049.67,1147.38 2056.41,1147.05 2063.14,1146.72 2069.88,1146.41 2076.61,1146.11 2083.35,1145.81 2090.08,1145.52 2096.82,1145.24 2103.56,1144.97 2110.29,1144.71 2117.03,1144.46 2123.76,1144.22 2130.5,1143.98 2137.23,1143.76 2143.97,1143.54 2150.7,1143.33 2157.44,1143.13 2164.17,1142.95 2170.91,1142.77 2177.64,1142.6 2184.38,1142.43 2191.11,1142.28 2197.85,1142.14 2204.58,1142.01 2211.32,1141.88 2218.05,1141.77 2224.79,1141.67 2231.52,1141.57 2238.26,1141.49 2244.99,1141.41 2251.73,1141.35 2258.46,1141.29 2265.2,1141.25 2271.93,1141.21 2278.67,1141.19 2285.4,1141.17 2292.14,1141.17 \"/>\n<polyline clip-path=\"url(#clip932)\" style=\"stroke:#e26f46; stroke-linecap:round; stroke-linejoin:round; stroke-width:4; stroke-opacity:1; fill:none\" points=\"271.594,1043.08 278.329,1038.23 285.064,1033.51 291.799,1028.91 298.534,1024.44 305.27,1020.09 312.005,1015.86 318.74,1011.75 325.475,1007.76 332.21,1003.9 338.945,1000.16 345.68,996.54 352.416,993.037 359.151,989.65 365.886,986.378 372.621,983.218 379.356,980.169 386.091,977.229 392.827,974.396 399.562,971.669 406.297,969.046 413.032,966.525 419.767,964.105 426.502,961.784 433.237,959.559 439.973,957.43 446.708,955.395 453.443,953.453 460.178,951.601 466.913,949.838 473.648,948.162 480.384,946.573 487.119,945.067 493.854,943.645 500.589,942.304 507.324,941.043 514.059,939.86 520.794,938.754 527.53,937.723 534.265,936.766 541,935.882 547.735,935.068 554.47,934.325 561.205,933.649 567.941,933.041 574.676,932.498 581.411,932.019 588.146,931.603 594.881,931.249 601.616,930.954 608.351,930.719 615.087,930.541 621.822,930.42 628.557,930.354 635.292,930.342 642.027,930.382 648.762,930.474 655.497,930.617 662.233,930.808 668.968,931.048 675.703,931.334 682.438,931.666 689.173,932.043 695.908,932.463 702.644,932.925 709.379,933.429 716.114,933.973 722.849,934.557 729.584,935.178 736.319,935.837 743.054,936.532 749.79,937.262 756.525,938.026 763.26,938.824 769.995,939.654 776.73,940.515 783.465,941.407 790.201,942.328 796.936,943.278 803.671,944.255 810.406,945.26 817.141,946.291 823.876,947.346 830.611,948.426 837.347,949.53 844.082,950.656 850.817,951.805 857.552,952.974 864.287,954.164 871.022,955.374 877.758,956.602 884.493,957.849 891.228,959.113 897.963,960.393 904.698,961.69 911.433,963.002 918.168,964.329 924.904,965.67 931.639,967.025 938.374,968.392 945.109,969.771 951.844,971.161 958.579,972.563 965.314,973.975 972.05,975.396 978.785,976.827 985.52,978.266 992.255,979.713 998.99,981.168 1005.73,982.63 1012.46,984.098 1019.2,985.572 1025.93,987.051 1032.67,988.536 1039.4,990.025 1046.14,991.518 1052.87,993.014 1059.61,994.513 1066.34,996.015 1073.08,997.52 1079.81,999.026 1086.55,1000.53 1093.28,1002.04 1100.02,1003.55 1106.75,1005.06 1113.49,1006.57 1120.22,1008.08 1126.96,1009.58 1133.69,1011.09 1140.43,1012.59 1147.16,1014.1 1153.9,1015.6 1160.63,1017.09 1167.37,1018.59 1174.1,1020.08 1180.84,1021.57 1187.57,1023.05 1194.31,1024.53 1201.04,1026 1207.78,1027.47 1214.52,1028.94 1221.25,1030.4 1227.99,1031.86 1234.72,1033.3 1241.46,1034.75 1248.19,1036.18 1254.93,1037.61 1261.66,1039.04 1268.4,1040.46 1275.13,1041.86 1281.87,1043.27 1288.6,1044.66 1295.34,1046.05 1302.07,1047.43 1308.81,1048.8 1315.54,1050.17 1322.28,1051.52 1329.01,1052.87 1335.75,1054.21 1342.48,1055.54 1349.22,1056.86 1355.95,1058.17 1362.69,1059.47 1369.42,1060.76 1376.16,1062.05 1382.89,1063.32 1389.63,1064.59 1396.36,1065.84 1403.1,1067.09 1409.83,1068.32 1416.57,1069.55 1423.3,1070.76 1430.04,1071.97 1436.78,1073.16 1443.51,1074.34 1450.25,1075.52 1456.98,1076.68 1463.72,1077.83 1470.45,1078.98 1477.19,1080.11 1483.92,1081.23 1490.66,1082.34 1497.39,1083.43 1504.13,1084.52 1510.86,1085.6 1517.6,1086.66 1524.33,1087.72 1531.07,1088.76 1537.8,1089.79 1544.54,1090.82 1551.27,1091.83 1558.01,1092.82 1564.74,1093.81 1571.48,1094.79 1578.21,1095.75 1584.95,1096.71 1591.68,1097.65 1598.42,1098.58 1605.15,1099.5 1611.89,1100.41 1618.62,1101.31 1625.36,1102.2 1632.09,1103.07 1638.83,1103.94 1645.56,1104.79 1652.3,1105.63 1659.04,1106.46 1665.77,1107.28 1672.51,1108.09 1679.24,1108.89 1685.98,1109.68 1692.71,1110.45 1699.45,1111.22 1706.18,1111.97 1712.92,1112.71 1719.65,1113.44 1726.39,1114.17 1733.12,1114.87 1739.86,1115.57 1746.59,1116.26 1753.33,1116.94 1760.06,1117.61 1766.8,1118.26 1773.53,1118.91 1780.27,1119.54 1787,1120.17 1793.74,1120.78 1800.47,1121.38 1807.21,1121.98 1813.94,1122.56 1820.68,1123.13 1827.41,1123.69 1834.15,1124.25 1840.88,1124.79 1847.62,1125.32 1854.35,1125.84 1861.09,1126.35 1867.82,1126.86 1874.56,1127.35 1881.3,1127.83 1888.03,1128.3 1894.77,1128.76 1901.5,1129.22 1908.24,1129.66 1914.97,1130.09 1921.71,1130.52 1928.44,1130.93 1935.18,1131.34 1941.91,1131.74 1948.65,1132.12 1955.38,1132.5 1962.12,1132.87 1968.85,1133.23 1975.59,1133.58 1982.32,1133.92 1989.06,1134.26 1995.79,1134.58 2002.53,1134.9 2009.26,1135.21 2016,1135.5 2022.73,1135.79 2029.47,1136.08 2036.2,1136.35 2042.94,1136.61 2049.67,1136.87 2056.41,1137.12 2063.14,1137.36 2069.88,1137.59 2076.61,1137.82 2083.35,1138.03 2090.08,1138.24 2096.82,1138.44 2103.56,1138.64 2110.29,1138.82 2117.03,1139 2123.76,1139.17 2130.5,1139.33 2137.23,1139.49 2143.97,1139.64 2150.7,1139.78 2157.44,1139.91 2164.17,1140.04 2170.91,1140.16 2177.64,1140.27 2184.38,1140.37 2191.11,1140.47 2197.85,1140.56 2204.58,1140.65 2211.32,1140.73 2218.05,1140.8 2224.79,1140.86 2231.52,1140.92 2238.26,1140.97 2244.99,1141.02 2251.73,1141.06 2258.46,1141.09 2265.2,1141.12 2271.93,1141.14 2278.67,1141.16 2285.4,1141.16 2292.14,1141.17 \"/>\n<polyline clip-path=\"url(#clip932)\" style=\"stroke:#3da44d; stroke-linecap:round; stroke-linejoin:round; stroke-width:4; stroke-opacity:1; fill:none\" points=\"271.594,160.256 278.329,172.497 285.064,184.694 291.799,196.845 298.534,208.95 305.27,221.005 312.005,233.008 318.74,244.958 325.475,256.853 332.21,268.691 338.945,280.47 345.68,292.188 352.416,303.845 359.151,315.438 365.886,326.965 372.621,338.426 379.356,349.819 386.091,361.142 392.827,372.394 399.562,383.574 406.297,394.681 413.032,405.713 419.767,416.67 426.502,427.549 433.237,438.35 439.973,449.073 446.708,459.715 453.443,470.276 460.178,480.756 466.913,491.153 473.648,501.466 480.384,511.695 487.119,521.839 493.854,531.897 500.589,541.869 507.324,551.753 514.059,561.55 520.794,571.258 527.53,580.878 534.265,590.408 541,599.848 547.735,609.198 554.47,618.458 561.205,627.626 567.941,636.703 574.676,645.689 581.411,654.582 588.146,663.383 594.881,672.092 601.616,680.708 608.351,689.231 615.087,697.661 621.822,705.998 628.557,714.242 635.292,722.393 642.027,730.45 648.762,738.413 655.497,746.284 662.233,754.061 668.968,761.745 675.703,769.335 682.438,776.833 689.173,784.237 695.908,791.548 702.644,798.767 709.379,805.893 716.114,812.927 722.849,819.868 729.584,826.717 736.319,833.475 743.054,840.141 749.79,846.716 756.525,853.2 763.26,859.594 769.995,865.897 776.73,872.11 783.465,878.234 790.201,884.268 796.936,890.214 803.671,896.071 810.406,901.84 817.141,907.522 823.876,913.116 830.611,918.623 837.347,924.045 844.082,929.38 850.817,934.631 857.552,939.796 864.287,944.877 871.022,949.875 877.758,954.789 884.493,959.62 891.228,964.37 897.963,969.037 904.698,973.624 911.433,978.13 918.168,982.556 924.904,986.903 931.639,991.171 938.374,995.361 945.109,999.474 951.844,1003.51 958.579,1007.47 965.314,1011.35 972.05,1015.16 978.785,1018.9 985.52,1022.56 992.255,1026.14 998.99,1029.66 1005.73,1033.1 1012.46,1036.48 1019.2,1039.78 1025.93,1043.01 1032.67,1046.18 1039.4,1049.27 1046.14,1052.3 1052.87,1055.26 1059.61,1058.16 1066.34,1060.99 1073.08,1063.75 1079.81,1066.45 1086.55,1069.09 1093.28,1071.66 1100.02,1074.18 1106.75,1076.63 1113.49,1079.02 1120.22,1081.35 1126.96,1083.63 1133.69,1085.84 1140.43,1088 1147.16,1090.1 1153.9,1092.14 1160.63,1094.13 1167.37,1096.07 1174.1,1097.95 1180.84,1099.78 1187.57,1101.55 1194.31,1103.28 1201.04,1104.95 1207.78,1106.58 1214.52,1108.15 1221.25,1109.68 1227.99,1111.16 1234.72,1112.59 1241.46,1113.97 1248.19,1115.31 1254.93,1116.61 1261.66,1117.86 1268.4,1119.07 1275.13,1120.24 1281.87,1121.36 1288.6,1122.44 1295.34,1123.49 1302.07,1124.49 1308.81,1125.46 1315.54,1126.39 1322.28,1127.28 1329.01,1128.13 1335.75,1128.95 1342.48,1129.74 1349.22,1130.49 1355.95,1131.21 1362.69,1131.89 1369.42,1132.54 1376.16,1133.17 1382.89,1133.76 1389.63,1134.32 1396.36,1134.86 1403.1,1135.36 1409.83,1135.84 1416.57,1136.3 1423.3,1136.72 1430.04,1137.13 1436.78,1137.5 1443.51,1137.86 1450.25,1138.19 1456.98,1138.5 1463.72,1138.79 1470.45,1139.06 1477.19,1139.31 1483.92,1139.54 1490.66,1139.76 1497.39,1139.95 1504.13,1140.13 1510.86,1140.3 1517.6,1140.45 1524.33,1140.58 1531.07,1140.7 1537.8,1140.81 1544.54,1140.91 1551.27,1140.99 1558.01,1141.07 1564.74,1141.13 1571.48,1141.19 1578.21,1141.24 1584.95,1141.28 1591.68,1141.31 1598.42,1141.34 1605.15,1141.36 1611.89,1141.37 1618.62,1141.38 1625.36,1141.39 1632.09,1141.39 1638.83,1141.39 1645.56,1141.39 1652.3,1141.38 1659.04,1141.37 1665.77,1141.36 1672.51,1141.35 1679.24,1141.33 1685.98,1141.32 1692.71,1141.3 1699.45,1141.28 1706.18,1141.27 1712.92,1141.25 1719.65,1141.23 1726.39,1141.21 1733.12,1141.2 1739.86,1141.18 1746.59,1141.16 1753.33,1141.15 1760.06,1141.13 1766.8,1141.11 1773.53,1141.1 1780.27,1141.09 1787,1141.07 1793.74,1141.06 1800.47,1141.05 1807.21,1141.04 1813.94,1141.03 1820.68,1141.02 1827.41,1141.01 1834.15,1141 1840.88,1140.99 1847.62,1140.99 1854.35,1140.98 1861.09,1140.98 1867.82,1140.97 1874.56,1140.97 1881.3,1140.96 1888.03,1140.96 1894.77,1140.96 1901.5,1140.95 1908.24,1140.95 1914.97,1140.95 1921.71,1140.95 1928.44,1140.95 1935.18,1140.95 1941.91,1140.95 1948.65,1140.95 1955.38,1140.96 1962.12,1140.96 1968.85,1140.96 1975.59,1140.96 1982.32,1140.97 1989.06,1140.97 1995.79,1140.97 2002.53,1140.98 2009.26,1140.98 2016,1140.99 2022.73,1140.99 2029.47,1140.99 2036.2,1141 2042.94,1141 2049.67,1141.01 2056.41,1141.02 2063.14,1141.02 2069.88,1141.03 2076.61,1141.03 2083.35,1141.04 2090.08,1141.05 2096.82,1141.05 2103.56,1141.06 2110.29,1141.06 2117.03,1141.07 2123.76,1141.08 2130.5,1141.08 2137.23,1141.09 2143.97,1141.09 2150.7,1141.1 2157.44,1141.11 2164.17,1141.11 2170.91,1141.12 2177.64,1141.12 2184.38,1141.13 2191.11,1141.13 2197.85,1141.14 2204.58,1141.14 2211.32,1141.15 2218.05,1141.15 2224.79,1141.15 2231.52,1141.16 2238.26,1141.16 2244.99,1141.16 2251.73,1141.17 2258.46,1141.17 2265.2,1141.17 2271.93,1141.17 2278.67,1141.17 2285.4,1141.17 2292.14,1141.17 \"/>\n<polyline clip-path=\"url(#clip932)\" style=\"stroke:#c271d2; stroke-linecap:round; stroke-linejoin:round; stroke-width:4; stroke-opacity:1; fill:none\" stroke-dasharray=\"16, 10\" points=\"271.594,1288.3 278.329,1285.92 285.064,1283.55 291.799,1281.2 298.534,1278.87 305.27,1276.55 312.005,1274.26 318.74,1271.98 325.475,1269.73 332.21,1267.49 338.945,1265.27 345.68,1263.07 352.416,1260.89 359.151,1258.73 365.886,1256.59 372.621,1254.47 379.356,1252.37 386.091,1250.29 392.827,1248.23 399.562,1246.19 406.297,1244.17 413.032,1242.17 419.767,1240.19 426.502,1238.23 433.237,1236.29 439.973,1234.37 446.708,1232.47 453.443,1230.59 460.178,1228.73 466.913,1226.89 473.648,1225.07 480.384,1223.27 487.119,1221.5 493.854,1219.74 500.589,1218 507.324,1216.28 514.059,1214.58 520.794,1212.9 527.53,1211.25 534.265,1209.61 541,1207.99 547.735,1206.39 554.47,1204.81 561.205,1203.26 567.941,1201.72 574.676,1200.2 581.411,1198.7 588.146,1197.22 594.881,1195.76 601.616,1194.31 608.351,1192.89 615.087,1191.49 621.822,1190.1 628.557,1188.74 635.292,1187.39 642.027,1186.06 648.762,1184.75 655.497,1183.46 662.233,1182.19 668.968,1180.94 675.703,1179.7 682.438,1178.48 689.173,1177.28 695.908,1176.1 702.644,1174.94 709.379,1173.79 716.114,1172.66 722.849,1171.55 729.584,1170.46 736.319,1169.38 743.054,1168.32 749.79,1167.28 756.525,1166.25 763.26,1165.24 769.995,1164.25 776.73,1163.27 783.465,1162.31 790.201,1161.37 796.936,1160.44 803.671,1159.53 810.406,1158.63 817.141,1157.75 823.876,1156.89 830.611,1156.04 837.347,1155.2 844.082,1154.38 850.817,1153.58 857.552,1152.79 864.287,1152.01 871.022,1151.25 877.758,1150.5 884.493,1149.77 891.228,1149.05 897.963,1148.35 904.698,1147.66 911.433,1146.98 918.168,1146.31 924.904,1145.66 931.639,1145.03 938.374,1144.4 945.109,1143.79 951.844,1143.19 958.579,1142.61 965.314,1142.03 972.05,1141.47 978.785,1140.92 985.52,1140.39 992.255,1139.86 998.99,1139.35 1005.73,1138.85 1012.46,1138.36 1019.2,1137.88 1025.93,1137.41 1032.67,1136.96 1039.4,1136.51 1046.14,1136.08 1052.87,1135.65 1059.61,1135.24 1066.34,1134.84 1073.08,1134.44 1079.81,1134.06 1086.55,1133.69 1093.28,1133.33 1100.02,1132.97 1106.75,1132.63 1113.49,1132.3 1120.22,1131.97 1126.96,1131.66 1133.69,1131.35 1140.43,1131.05 1147.16,1130.76 1153.9,1130.48 1160.63,1130.21 1167.37,1129.95 1174.1,1129.7 1180.84,1129.45 1187.57,1129.21 1194.31,1128.98 1201.04,1128.76 1207.78,1128.55 1214.52,1128.34 1221.25,1128.14 1227.99,1127.95 1234.72,1127.76 1241.46,1127.59 1248.19,1127.42 1254.93,1127.25 1261.66,1127.1 1268.4,1126.95 1275.13,1126.8 1281.87,1126.67 1288.6,1126.53 1295.34,1126.41 1302.07,1126.29 1308.81,1126.18 1315.54,1126.07 1322.28,1125.97 1329.01,1125.88 1335.75,1125.79 1342.48,1125.71 1349.22,1125.63 1355.95,1125.56 1362.69,1125.49 1369.42,1125.43 1376.16,1125.37 1382.89,1125.32 1389.63,1125.28 1396.36,1125.23 1403.1,1125.2 1409.83,1125.17 1416.57,1125.14 1423.3,1125.11 1430.04,1125.1 1436.78,1125.08 1443.51,1125.07 1450.25,1125.07 1456.98,1125.06 1463.72,1125.07 1470.45,1125.07 1477.19,1125.08 1483.92,1125.1 1490.66,1125.11 1497.39,1125.13 1504.13,1125.16 1510.86,1125.19 1517.6,1125.22 1524.33,1125.25 1531.07,1125.29 1537.8,1125.33 1544.54,1125.38 1551.27,1125.43 1558.01,1125.48 1564.74,1125.53 1571.48,1125.59 1578.21,1125.65 1584.95,1125.71 1591.68,1125.77 1598.42,1125.84 1605.15,1125.91 1611.89,1125.99 1618.62,1126.06 1625.36,1126.14 1632.09,1126.22 1638.83,1126.3 1645.56,1126.39 1652.3,1126.48 1659.04,1126.57 1665.77,1126.66 1672.51,1126.75 1679.24,1126.85 1685.98,1126.95 1692.71,1127.05 1699.45,1127.15 1706.18,1127.25 1712.92,1127.36 1719.65,1127.47 1726.39,1127.58 1733.12,1127.69 1739.86,1127.8 1746.59,1127.92 1753.33,1128.04 1760.06,1128.15 1766.8,1128.27 1773.53,1128.4 1780.27,1128.52 1787,1128.64 1793.74,1128.77 1800.47,1128.9 1807.21,1129.03 1813.94,1129.16 1820.68,1129.29 1827.41,1129.42 1834.15,1129.56 1840.88,1129.69 1847.62,1129.83 1854.35,1129.97 1861.09,1130.11 1867.82,1130.25 1874.56,1130.39 1881.3,1130.54 1888.03,1130.68 1894.77,1130.83 1901.5,1130.97 1908.24,1131.12 1914.97,1131.27 1921.71,1131.42 1928.44,1131.57 1935.18,1131.72 1941.91,1131.88 1948.65,1132.03 1955.38,1132.19 1962.12,1132.34 1968.85,1132.5 1975.59,1132.66 1982.32,1132.82 1989.06,1132.98 1995.79,1133.14 2002.53,1133.3 2009.26,1133.47 2016,1133.63 2022.73,1133.8 2029.47,1133.96 2036.2,1134.13 2042.94,1134.3 2049.67,1134.47 2056.41,1134.64 2063.14,1134.81 2069.88,1134.98 2076.61,1135.15 2083.35,1135.33 2090.08,1135.5 2096.82,1135.68 2103.56,1135.85 2110.29,1136.03 2117.03,1136.21 2123.76,1136.39 2130.5,1136.57 2137.23,1136.75 2143.97,1136.93 2150.7,1137.11 2157.44,1137.3 2164.17,1137.48 2170.91,1137.67 2177.64,1137.85 2184.38,1138.04 2191.11,1138.23 2197.85,1138.42 2204.58,1138.61 2211.32,1138.8 2218.05,1138.99 2224.79,1139.19 2231.52,1139.38 2238.26,1139.57 2244.99,1139.77 2251.73,1139.97 2258.46,1140.16 2265.2,1140.36 2271.93,1140.56 2278.67,1140.76 2285.4,1140.97 2292.14,1141.17 \"/>\n<polyline clip-path=\"url(#clip932)\" style=\"stroke:#ac8d18; stroke-linecap:round; stroke-linejoin:round; stroke-width:4; stroke-opacity:1; fill:none\" stroke-dasharray=\"16, 10\" points=\"271.594,1043.08 278.329,1045.53 285.064,1047.98 291.799,1050.43 298.534,1052.89 305.27,1055.34 312.005,1057.79 318.74,1060.24 325.475,1062.69 332.21,1065.15 338.945,1067.56 345.68,1069.94 352.416,1072.28 359.151,1074.58 365.886,1076.85 372.621,1079.09 379.356,1081.29 386.091,1083.45 392.827,1085.58 399.562,1087.68 406.297,1089.74 413.032,1091.76 419.767,1093.76 426.502,1095.72 433.237,1097.64 439.973,1099.54 446.708,1101.4 453.443,1103.23 460.178,1105.03 466.913,1106.79 473.648,1108.52 480.384,1110.23 487.119,1111.9 493.854,1113.54 500.589,1115.15 507.324,1116.73 514.059,1118.28 520.794,1119.81 527.53,1121.3 534.265,1122.76 541,1124.2 547.735,1125.61 554.47,1126.98 561.205,1128.34 567.941,1129.66 574.676,1130.96 581.411,1132.23 588.146,1133.47 594.881,1134.69 601.616,1135.88 608.351,1137.04 615.087,1138.19 621.822,1139.3 628.557,1140.39 635.292,1141.46 642.027,1142.5 648.762,1143.52 655.497,1144.51 662.233,1145.48 668.968,1146.43 675.703,1147.36 682.438,1148.26 689.173,1149.14 695.908,1150 702.644,1150.84 709.379,1151.65 716.114,1152.45 722.849,1153.22 729.584,1153.98 736.319,1154.71 743.054,1155.42 749.79,1156.12 756.525,1156.79 763.26,1157.45 769.995,1158.08 776.73,1158.7 783.465,1159.3 790.201,1159.88 796.936,1160.45 803.671,1160.99 810.406,1161.52 817.141,1162.03 823.876,1162.53 830.611,1163.01 837.347,1163.47 844.082,1163.92 850.817,1164.35 857.552,1164.77 864.287,1165.17 871.022,1165.55 877.758,1165.92 884.493,1166.28 891.228,1166.62 897.963,1166.95 904.698,1167.26 911.433,1167.56 918.168,1167.85 924.904,1168.12 931.639,1168.38 938.374,1168.63 945.109,1168.87 951.844,1169.09 958.579,1169.3 965.314,1169.5 972.05,1169.69 978.785,1169.87 985.52,1170.04 992.255,1170.19 998.99,1170.33 1005.73,1170.47 1012.46,1170.59 1019.2,1170.71 1025.93,1170.81 1032.67,1170.9 1039.4,1170.99 1046.14,1171.06 1052.87,1171.13 1059.61,1171.19 1066.34,1171.23 1073.08,1171.27 1079.81,1171.3 1086.55,1171.33 1093.28,1171.34 1100.02,1171.35 1106.75,1171.35 1113.49,1171.34 1120.22,1171.32 1126.96,1171.3 1133.69,1171.27 1140.43,1171.24 1147.16,1171.19 1153.9,1171.14 1160.63,1171.09 1167.37,1171.02 1174.1,1170.95 1180.84,1170.88 1187.57,1170.8 1194.31,1170.71 1201.04,1170.62 1207.78,1170.53 1214.52,1170.42 1221.25,1170.32 1227.99,1170.21 1234.72,1170.09 1241.46,1169.97 1248.19,1169.84 1254.93,1169.71 1261.66,1169.58 1268.4,1169.44 1275.13,1169.29 1281.87,1169.15 1288.6,1169 1295.34,1168.84 1302.07,1168.69 1308.81,1168.52 1315.54,1168.36 1322.28,1168.19 1329.01,1168.02 1335.75,1167.85 1342.48,1167.67 1349.22,1167.49 1355.95,1167.31 1362.69,1167.13 1369.42,1166.94 1376.16,1166.75 1382.89,1166.56 1389.63,1166.36 1396.36,1166.17 1403.1,1165.97 1409.83,1165.77 1416.57,1165.57 1423.3,1165.36 1430.04,1165.16 1436.78,1164.95 1443.51,1164.74 1450.25,1164.53 1456.98,1164.32 1463.72,1164.11 1470.45,1163.89 1477.19,1163.68 1483.92,1163.46 1490.66,1163.25 1497.39,1163.03 1504.13,1162.81 1510.86,1162.59 1517.6,1162.37 1524.33,1162.15 1531.07,1161.93 1537.8,1161.7 1544.54,1161.48 1551.27,1161.26 1558.01,1161.04 1564.74,1160.81 1571.48,1160.59 1578.21,1160.36 1584.95,1160.14 1591.68,1159.91 1598.42,1159.69 1605.15,1159.47 1611.89,1159.24 1618.62,1159.02 1625.36,1158.79 1632.09,1158.57 1638.83,1158.34 1645.56,1158.12 1652.3,1157.9 1659.04,1157.68 1665.77,1157.45 1672.51,1157.23 1679.24,1157.01 1685.98,1156.79 1692.71,1156.57 1699.45,1156.35 1706.18,1156.13 1712.92,1155.91 1719.65,1155.69 1726.39,1155.47 1733.12,1155.26 1739.86,1155.04 1746.59,1154.82 1753.33,1154.61 1760.06,1154.4 1766.8,1154.18 1773.53,1153.97 1780.27,1153.76 1787,1153.55 1793.74,1153.34 1800.47,1153.13 1807.21,1152.92 1813.94,1152.72 1820.68,1152.51 1827.41,1152.31 1834.15,1152.11 1840.88,1151.9 1847.62,1151.7 1854.35,1151.5 1861.09,1151.3 1867.82,1151.1 1874.56,1150.91 1881.3,1150.71 1888.03,1150.52 1894.77,1150.32 1901.5,1150.13 1908.24,1149.94 1914.97,1149.75 1921.71,1149.56 1928.44,1149.38 1935.18,1149.19 1941.91,1149.01 1948.65,1148.82 1955.38,1148.64 1962.12,1148.46 1968.85,1148.28 1975.59,1148.1 1982.32,1147.92 1989.06,1147.75 1995.79,1147.57 2002.53,1147.4 2009.26,1147.23 2016,1147.06 2022.73,1146.89 2029.47,1146.72 2036.2,1146.55 2042.94,1146.38 2049.67,1146.22 2056.41,1146.06 2063.14,1145.9 2069.88,1145.74 2076.61,1145.58 2083.35,1145.42 2090.08,1145.26 2096.82,1145.11 2103.56,1144.95 2110.29,1144.8 2117.03,1144.65 2123.76,1144.5 2130.5,1144.35 2137.23,1144.2 2143.97,1144.06 2150.7,1143.91 2157.44,1143.77 2164.17,1143.63 2170.91,1143.49 2177.64,1143.35 2184.38,1143.21 2191.11,1143.07 2197.85,1142.93 2204.58,1142.8 2211.32,1142.67 2218.05,1142.54 2224.79,1142.4 2231.52,1142.28 2238.26,1142.15 2244.99,1142.02 2251.73,1141.89 2258.46,1141.77 2265.2,1141.65 2271.93,1141.53 2278.67,1141.41 2285.4,1141.29 2292.14,1141.17 \"/>\n<polyline clip-path=\"url(#clip932)\" style=\"stroke:#00a9ad; stroke-linecap:round; stroke-linejoin:round; stroke-width:4; stroke-opacity:1; fill:none\" stroke-dasharray=\"16, 10\" points=\"271.594,1386.4 278.329,1385.55 285.064,1384.67 291.799,1383.74 298.534,1382.77 305.27,1381.76 312.005,1380.71 318.74,1379.63 325.475,1378.5 332.21,1377.34 338.945,1376.15 345.68,1374.93 352.416,1373.67 359.151,1372.38 365.886,1371.06 372.621,1369.71 379.356,1368.33 386.091,1366.93 392.827,1365.5 399.562,1364.04 406.297,1362.56 413.032,1361.06 419.767,1359.53 426.502,1357.98 433.237,1356.41 439.973,1354.82 446.708,1353.21 453.443,1351.58 460.178,1349.94 466.913,1348.27 473.648,1346.59 480.384,1344.9 487.119,1343.19 493.854,1341.47 500.589,1339.73 507.324,1337.98 514.059,1336.22 520.794,1334.45 527.53,1332.67 534.265,1330.88 541,1329.08 547.735,1327.27 554.47,1325.45 561.205,1323.62 567.941,1321.79 574.676,1319.96 581.411,1318.11 588.146,1316.27 594.881,1314.42 601.616,1312.56 608.351,1310.7 615.087,1308.84 621.822,1306.98 628.557,1305.11 635.292,1303.24 642.027,1301.38 648.762,1299.51 655.497,1297.64 662.233,1295.78 668.968,1293.91 675.703,1292.05 682.438,1290.18 689.173,1288.32 695.908,1286.47 702.644,1284.61 709.379,1282.76 716.114,1280.92 722.849,1279.07 729.584,1277.24 736.319,1275.41 743.054,1273.58 749.79,1271.76 756.525,1269.94 763.26,1268.13 769.995,1266.33 776.73,1264.53 783.465,1262.75 790.201,1260.97 796.936,1259.19 803.671,1257.43 810.406,1255.67 817.141,1253.92 823.876,1252.19 830.611,1250.46 837.347,1248.73 844.082,1247.02 850.817,1245.32 857.552,1243.63 864.287,1241.95 871.022,1240.28 877.758,1238.62 884.493,1236.97 891.228,1235.33 897.963,1233.71 904.698,1232.09 911.433,1230.49 918.168,1228.9 924.904,1227.32 931.639,1225.75 938.374,1224.19 945.109,1222.65 951.844,1221.12 958.579,1219.6 965.314,1218.09 972.05,1216.6 978.785,1215.12 985.52,1213.65 992.255,1212.2 998.99,1210.76 1005.73,1209.33 1012.46,1207.92 1019.2,1206.52 1025.93,1205.13 1032.67,1203.76 1039.4,1202.4 1046.14,1201.06 1052.87,1199.73 1059.61,1198.41 1066.34,1197.11 1073.08,1195.82 1079.81,1194.55 1086.55,1193.29 1093.28,1192.05 1100.02,1190.82 1106.75,1189.6 1113.49,1188.4 1120.22,1187.21 1126.96,1186.04 1133.69,1184.89 1140.43,1183.74 1147.16,1182.62 1153.9,1181.51 1160.63,1180.41 1167.37,1179.33 1174.1,1178.26 1180.84,1177.21 1187.57,1176.17 1194.31,1175.15 1201.04,1174.14 1207.78,1173.15 1214.52,1172.18 1221.25,1171.22 1227.99,1170.27 1234.72,1169.34 1241.46,1168.42 1248.19,1167.52 1254.93,1166.64 1261.66,1165.77 1268.4,1164.91 1275.13,1164.07 1281.87,1163.25 1288.6,1162.44 1295.34,1161.65 1302.07,1160.87 1308.81,1160.1 1315.54,1159.36 1322.28,1158.62 1329.01,1157.91 1335.75,1157.2 1342.48,1156.52 1349.22,1155.85 1355.95,1155.19 1362.69,1154.55 1369.42,1153.92 1376.16,1153.31 1382.89,1152.72 1389.63,1152.14 1396.36,1151.57 1403.1,1151.02 1409.83,1150.49 1416.57,1149.97 1423.3,1149.47 1430.04,1148.98 1436.78,1148.5 1443.51,1148.05 1450.25,1147.6 1456.98,1147.17 1463.72,1146.76 1470.45,1146.36 1477.19,1145.98 1483.92,1145.61 1490.66,1145.26 1497.39,1144.92 1504.13,1144.6 1510.86,1144.3 1517.6,1144 1524.33,1143.73 1531.07,1143.47 1537.8,1143.22 1544.54,1142.99 1551.27,1142.77 1558.01,1142.57 1564.74,1142.38 1571.48,1142.21 1578.21,1142.04 1584.95,1141.9 1591.68,1141.76 1598.42,1141.63 1605.15,1141.52 1611.89,1141.42 1618.62,1141.33 1625.36,1141.24 1632.09,1141.17 1638.83,1141.11 1645.56,1141.05 1652.3,1141 1659.04,1140.96 1665.77,1140.92 1672.51,1140.89 1679.24,1140.87 1685.98,1140.85 1692.71,1140.84 1699.45,1140.83 1706.18,1140.82 1712.92,1140.82 1719.65,1140.82 1726.39,1140.82 1733.12,1140.82 1739.86,1140.83 1746.59,1140.84 1753.33,1140.85 1760.06,1140.86 1766.8,1140.87 1773.53,1140.88 1780.27,1140.9 1787,1140.91 1793.74,1140.93 1800.47,1140.94 1807.21,1140.95 1813.94,1140.97 1820.68,1140.98 1827.41,1141 1834.15,1141.01 1840.88,1141.03 1847.62,1141.04 1854.35,1141.05 1861.09,1141.06 1867.82,1141.08 1874.56,1141.09 1881.3,1141.1 1888.03,1141.11 1894.77,1141.12 1901.5,1141.13 1908.24,1141.14 1914.97,1141.15 1921.71,1141.16 1928.44,1141.17 1935.18,1141.18 1941.91,1141.19 1948.65,1141.2 1955.38,1141.2 1962.12,1141.21 1968.85,1141.22 1975.59,1141.23 1982.32,1141.23 1989.06,1141.24 1995.79,1141.24 2002.53,1141.25 2009.26,1141.25 2016,1141.26 2022.73,1141.26 2029.47,1141.27 2036.2,1141.27 2042.94,1141.27 2049.67,1141.28 2056.41,1141.28 2063.14,1141.28 2069.88,1141.28 2076.61,1141.29 2083.35,1141.29 2090.08,1141.29 2096.82,1141.29 2103.56,1141.29 2110.29,1141.29 2117.03,1141.29 2123.76,1141.29 2130.5,1141.29 2137.23,1141.29 2143.97,1141.29 2150.7,1141.28 2157.44,1141.28 2164.17,1141.28 2170.91,1141.28 2177.64,1141.27 2184.38,1141.27 2191.11,1141.27 2197.85,1141.26 2204.58,1141.26 2211.32,1141.25 2218.05,1141.25 2224.79,1141.24 2231.52,1141.24 2238.26,1141.23 2244.99,1141.22 2251.73,1141.22 2258.46,1141.21 2265.2,1141.2 2271.93,1141.19 2278.67,1141.18 2285.4,1141.18 2292.14,1141.17 \"/>\n<path clip-path=\"url(#clip930)\" d=\"M2023.9 529.676 L2281.36 529.676 L2281.36 166.796 L2023.9 166.796  Z\" fill=\"#ffffff\" fill-rule=\"evenodd\" fill-opacity=\"1\"/>\n<polyline clip-path=\"url(#clip930)\" style=\"stroke:#000000; stroke-linecap:round; stroke-linejoin:round; stroke-width:4; stroke-opacity:1; fill:none\" points=\"2023.9,529.676 2281.36,529.676 2281.36,166.796 2023.9,166.796 2023.9,529.676 \"/>\n<polyline clip-path=\"url(#clip930)\" style=\"stroke:#009af9; stroke-linecap:round; stroke-linejoin:round; stroke-width:4; stroke-opacity:1; fill:none\" points=\"2047.7,218.636 2190.48,218.636 \"/>\n<path clip-path=\"url(#clip930)\" d=\"M2238.93 209.99 L2229.56 222.606 L2239.42 235.916 L2234.39 235.916 L2226.85 225.731 L2219.3 235.916 L2214.28 235.916 L2224.35 222.351 L2215.14 209.99 L2220.16 209.99 L2227.03 219.226 L2233.91 209.99 L2238.93 209.99 Z\" fill=\"#000000\" fill-rule=\"evenodd\" fill-opacity=\"1\" /><path clip-path=\"url(#clip930)\" d=\"M2244.58 233.369 L2249.3 233.369 L2249.3 219.226 L2244.14 220.175 L2244.14 217.49 L2249.46 216.587 L2252.64 216.587 L2252.64 233.369 L2257.38 233.369 L2257.38 235.916 L2244.58 235.916 L2244.58 233.369 Z\" fill=\"#000000\" fill-rule=\"evenodd\" fill-opacity=\"1\" /><polyline clip-path=\"url(#clip930)\" style=\"stroke:#e26f46; stroke-linecap:round; stroke-linejoin:round; stroke-width:4; stroke-opacity:1; fill:none\" points=\"2047.7,270.476 2190.48,270.476 \"/>\n<path clip-path=\"url(#clip930)\" d=\"M2238.93 261.83 L2229.56 274.446 L2239.42 287.756 L2234.39 287.756 L2226.85 277.571 L2219.3 287.756 L2214.28 287.756 L2224.35 274.191 L2215.14 261.83 L2220.16 261.83 L2227.03 271.066 L2233.91 261.83 L2238.93 261.83 Z\" fill=\"#000000\" fill-rule=\"evenodd\" fill-opacity=\"1\" /><path clip-path=\"url(#clip930)\" d=\"M2247.17 285.117 L2256.99 285.117 L2256.99 287.756 L2243.14 287.756 L2243.14 285.209 Q2243.93 284.492 2245.39 283.196 Q2253.35 276.135 2253.35 273.959 Q2253.35 272.432 2252.15 271.506 Q2250.95 270.557 2248.98 270.557 Q2247.77 270.557 2246.36 270.973 Q2244.95 271.367 2243.28 272.177 L2243.28 269.33 Q2245.07 268.682 2246.59 268.358 Q2248.14 268.034 2249.46 268.034 Q2252.82 268.034 2254.83 269.561 Q2256.85 271.089 2256.85 273.589 Q2256.85 276.807 2249.19 283.381 Q2247.89 284.492 2247.17 285.117 Z\" fill=\"#000000\" fill-rule=\"evenodd\" fill-opacity=\"1\" /><polyline clip-path=\"url(#clip930)\" style=\"stroke:#3da44d; stroke-linecap:round; stroke-linejoin:round; stroke-width:4; stroke-opacity:1; fill:none\" points=\"2047.7,322.316 2190.48,322.316 \"/>\n<path clip-path=\"url(#clip930)\" d=\"M2238.93 313.67 L2229.56 326.286 L2239.42 339.596 L2234.39 339.596 L2226.85 329.411 L2219.3 339.596 L2214.28 339.596 L2224.35 326.031 L2215.14 313.67 L2220.16 313.67 L2227.03 322.906 L2233.91 313.67 L2238.93 313.67 Z\" fill=\"#000000\" fill-rule=\"evenodd\" fill-opacity=\"1\" /><path clip-path=\"url(#clip930)\" d=\"M2253.1 329.133 Q2255.23 329.549 2256.39 330.823 Q2257.57 332.073 2257.57 333.971 Q2257.57 336.841 2255.37 338.392 Q2253.17 339.943 2249.07 339.943 Q2247.75 339.943 2246.29 339.688 Q2244.86 339.457 2243.24 338.994 L2243.24 336.193 Q2244.44 336.818 2245.81 337.119 Q2247.2 337.42 2248.75 337.42 Q2251.27 337.42 2252.66 336.517 Q2254.05 335.591 2254.05 333.971 Q2254.05 332.258 2252.75 331.378 Q2251.48 330.499 2248.98 330.499 L2246.99 330.499 L2246.99 327.999 L2249.16 327.999 Q2251.34 327.999 2252.45 327.281 Q2253.58 326.54 2253.58 325.151 Q2253.58 323.809 2252.43 323.114 Q2251.27 322.397 2249.07 322.397 Q2248.14 322.397 2246.96 322.605 Q2245.78 322.813 2243.91 323.346 L2243.91 320.684 Q2245.6 320.29 2247.08 320.082 Q2248.56 319.874 2249.83 319.874 Q2253.17 319.874 2255.11 321.239 Q2257.08 322.605 2257.08 324.897 Q2257.08 326.494 2256.04 327.605 Q2255 328.716 2253.1 329.133 Z\" fill=\"#000000\" fill-rule=\"evenodd\" fill-opacity=\"1\" /><polyline clip-path=\"url(#clip930)\" style=\"stroke:#c271d2; stroke-linecap:round; stroke-linejoin:round; stroke-width:4; stroke-opacity:1; fill:none\" stroke-dasharray=\"16, 10\" points=\"2047.7,374.156 2190.48,374.156 \"/>\n<path clip-path=\"url(#clip930)\" d=\"M2238.93 365.51 L2229.56 378.126 L2239.42 391.436 L2234.39 391.436 L2226.85 381.251 L2219.3 391.436 L2214.28 391.436 L2224.35 377.871 L2215.14 365.51 L2220.16 365.51 L2227.03 374.746 L2233.91 365.51 L2238.93 365.51 Z\" fill=\"#000000\" fill-rule=\"evenodd\" fill-opacity=\"1\" /><path clip-path=\"url(#clip930)\" d=\"M2226.94 355.417 L2231.2 355.417 L2231.2 360.811 L2226.94 360.811 L2226.94 355.417 M2229.12 364.885 L2229.12 364.885 Z\" fill=\"#000000\" fill-rule=\"evenodd\" fill-opacity=\"1\" /><path clip-path=\"url(#clip930)\" d=\"M2244.58 388.889 L2249.3 388.889 L2249.3 374.746 L2244.14 375.695 L2244.14 373.01 L2249.46 372.107 L2252.64 372.107 L2252.64 388.889 L2257.38 388.889 L2257.38 391.436 L2244.58 391.436 L2244.58 388.889 Z\" fill=\"#000000\" fill-rule=\"evenodd\" fill-opacity=\"1\" /><polyline clip-path=\"url(#clip930)\" style=\"stroke:#ac8d18; stroke-linecap:round; stroke-linejoin:round; stroke-width:4; stroke-opacity:1; fill:none\" stroke-dasharray=\"16, 10\" points=\"2047.7,425.996 2190.48,425.996 \"/>\n<path clip-path=\"url(#clip930)\" d=\"M2238.93 417.35 L2229.56 429.966 L2239.42 443.276 L2234.39 443.276 L2226.85 433.091 L2219.3 443.276 L2214.28 443.276 L2224.35 429.711 L2215.14 417.35 L2220.16 417.35 L2227.03 426.586 L2233.91 417.35 L2238.93 417.35 Z\" fill=\"#000000\" fill-rule=\"evenodd\" fill-opacity=\"1\" /><path clip-path=\"url(#clip930)\" d=\"M2226.94 407.257 L2231.2 407.257 L2231.2 412.651 L2226.94 412.651 L2226.94 407.257 M2229.12 416.725 L2229.12 416.725 Z\" fill=\"#000000\" fill-rule=\"evenodd\" fill-opacity=\"1\" /><path clip-path=\"url(#clip930)\" d=\"M2247.17 440.637 L2256.99 440.637 L2256.99 443.276 L2243.14 443.276 L2243.14 440.729 Q2243.93 440.012 2245.39 438.716 Q2253.35 431.655 2253.35 429.479 Q2253.35 427.952 2252.15 427.026 Q2250.95 426.077 2248.98 426.077 Q2247.77 426.077 2246.36 426.493 Q2244.95 426.887 2243.28 427.697 L2243.28 424.85 Q2245.07 424.202 2246.59 423.878 Q2248.14 423.554 2249.46 423.554 Q2252.82 423.554 2254.83 425.081 Q2256.85 426.609 2256.85 429.109 Q2256.85 432.327 2249.19 438.901 Q2247.89 440.012 2247.17 440.637 Z\" fill=\"#000000\" fill-rule=\"evenodd\" fill-opacity=\"1\" /><polyline clip-path=\"url(#clip930)\" style=\"stroke:#00a9ad; stroke-linecap:round; stroke-linejoin:round; stroke-width:4; stroke-opacity:1; fill:none\" stroke-dasharray=\"16, 10\" points=\"2047.7,477.836 2190.48,477.836 \"/>\n<path clip-path=\"url(#clip930)\" d=\"M2238.93 469.19 L2229.56 481.806 L2239.42 495.116 L2234.39 495.116 L2226.85 484.931 L2219.3 495.116 L2214.28 495.116 L2224.35 481.551 L2215.14 469.19 L2220.16 469.19 L2227.03 478.426 L2233.91 469.19 L2238.93 469.19 Z\" fill=\"#000000\" fill-rule=\"evenodd\" fill-opacity=\"1\" /><path clip-path=\"url(#clip930)\" d=\"M2226.94 459.097 L2231.2 459.097 L2231.2 464.491 L2226.94 464.491 L2226.94 459.097 M2229.12 468.565 L2229.12 468.565 Z\" fill=\"#000000\" fill-rule=\"evenodd\" fill-opacity=\"1\" /><path clip-path=\"url(#clip930)\" d=\"M2253.1 484.653 Q2255.23 485.069 2256.39 486.343 Q2257.57 487.593 2257.57 489.491 Q2257.57 492.361 2255.37 493.912 Q2253.17 495.463 2249.07 495.463 Q2247.75 495.463 2246.29 495.208 Q2244.86 494.977 2243.24 494.514 L2243.24 491.713 Q2244.44 492.338 2245.81 492.639 Q2247.2 492.94 2248.75 492.94 Q2251.27 492.94 2252.66 492.037 Q2254.05 491.111 2254.05 489.491 Q2254.05 487.778 2252.75 486.898 Q2251.48 486.019 2248.98 486.019 L2246.99 486.019 L2246.99 483.519 L2249.16 483.519 Q2251.34 483.519 2252.45 482.801 Q2253.58 482.06 2253.58 480.671 Q2253.58 479.329 2252.43 478.634 Q2251.27 477.917 2249.07 477.917 Q2248.14 477.917 2246.96 478.125 Q2245.78 478.333 2243.91 478.866 L2243.91 476.204 Q2245.6 475.81 2247.08 475.602 Q2248.56 475.394 2249.83 475.394 Q2253.17 475.394 2255.11 476.759 Q2257.08 478.125 2257.08 480.417 Q2257.08 482.014 2256.04 483.125 Q2255 484.236 2253.1 484.653 Z\" fill=\"#000000\" fill-rule=\"evenodd\" fill-opacity=\"1\" /></svg>\n"
     },
     "metadata": {},
     "output_type": "display_data"
    },
    {
     "data": {
      "image/svg+xml": "<?xml version=\"1.0\" encoding=\"utf-8\"?>\n<svg xmlns=\"http://www.w3.org/2000/svg\" xmlns:xlink=\"http://www.w3.org/1999/xlink\" width=\"600\" height=\"400\" viewBox=\"0 0 2400 1600\">\n<defs>\n  <clipPath id=\"clip970\">\n    <rect x=\"0\" y=\"0\" width=\"2400\" height=\"1600\"/>\n  </clipPath>\n</defs>\n<path clip-path=\"url(#clip970)\" d=\"M0 1600 L2400 1600 L2400 0 L0 0  Z\" fill=\"#ffffff\" fill-rule=\"evenodd\" fill-opacity=\"1\"/>\n<defs>\n  <clipPath id=\"clip971\">\n    <rect x=\"480\" y=\"0\" width=\"1681\" height=\"1600\"/>\n  </clipPath>\n</defs>\n<path clip-path=\"url(#clip970)\" d=\"M242.135 1423.18 L2352.76 1423.18 L2352.76 123.472 L242.135 123.472  Z\" fill=\"#ffffff\" fill-rule=\"evenodd\" fill-opacity=\"1\"/>\n<defs>\n  <clipPath id=\"clip972\">\n    <rect x=\"242\" y=\"123\" width=\"2112\" height=\"1301\"/>\n  </clipPath>\n</defs>\n<polyline clip-path=\"url(#clip972)\" style=\"stroke:#000000; stroke-linecap:round; stroke-linejoin:round; stroke-width:2; stroke-opacity:0.1; fill:none\" points=\"301.869,1423.18 301.869,123.472 \"/>\n<polyline clip-path=\"url(#clip972)\" style=\"stroke:#000000; stroke-linecap:round; stroke-linejoin:round; stroke-width:2; stroke-opacity:0.1; fill:none\" points=\"967.806,1423.18 967.806,123.472 \"/>\n<polyline clip-path=\"url(#clip972)\" style=\"stroke:#000000; stroke-linecap:round; stroke-linejoin:round; stroke-width:2; stroke-opacity:0.1; fill:none\" points=\"1633.74,1423.18 1633.74,123.472 \"/>\n<polyline clip-path=\"url(#clip972)\" style=\"stroke:#000000; stroke-linecap:round; stroke-linejoin:round; stroke-width:2; stroke-opacity:0.1; fill:none\" points=\"2299.68,1423.18 2299.68,123.472 \"/>\n<polyline clip-path=\"url(#clip970)\" style=\"stroke:#000000; stroke-linecap:round; stroke-linejoin:round; stroke-width:4; stroke-opacity:1; fill:none\" points=\"242.135,1423.18 2352.76,1423.18 \"/>\n<polyline clip-path=\"url(#clip970)\" style=\"stroke:#000000; stroke-linecap:round; stroke-linejoin:round; stroke-width:4; stroke-opacity:1; fill:none\" points=\"301.869,1423.18 301.869,1404.28 \"/>\n<polyline clip-path=\"url(#clip970)\" style=\"stroke:#000000; stroke-linecap:round; stroke-linejoin:round; stroke-width:4; stroke-opacity:1; fill:none\" points=\"967.806,1423.18 967.806,1404.28 \"/>\n<polyline clip-path=\"url(#clip970)\" style=\"stroke:#000000; stroke-linecap:round; stroke-linejoin:round; stroke-width:4; stroke-opacity:1; fill:none\" points=\"1633.74,1423.18 1633.74,1404.28 \"/>\n<polyline clip-path=\"url(#clip970)\" style=\"stroke:#000000; stroke-linecap:round; stroke-linejoin:round; stroke-width:4; stroke-opacity:1; fill:none\" points=\"2299.68,1423.18 2299.68,1404.28 \"/>\n<path clip-path=\"url(#clip970)\" d=\"M301.869 1454.1 Q298.258 1454.1 296.429 1457.66 Q294.624 1461.2 294.624 1468.33 Q294.624 1475.44 296.429 1479.01 Q298.258 1482.55 301.869 1482.55 Q305.503 1482.55 307.309 1479.01 Q309.138 1475.44 309.138 1468.33 Q309.138 1461.2 307.309 1457.66 Q305.503 1454.1 301.869 1454.1 M301.869 1450.39 Q307.679 1450.39 310.735 1455 Q313.814 1459.58 313.814 1468.33 Q313.814 1477.06 310.735 1481.67 Q307.679 1486.25 301.869 1486.25 Q296.059 1486.25 292.98 1481.67 Q289.925 1477.06 289.925 1468.33 Q289.925 1459.58 292.98 1455 Q296.059 1450.39 301.869 1450.39 Z\" fill=\"#000000\" fill-rule=\"evenodd\" fill-opacity=\"1\" /><path clip-path=\"url(#clip970)\" d=\"M958.084 1451.02 L976.441 1451.02 L976.441 1454.96 L962.367 1454.96 L962.367 1463.43 Q963.385 1463.08 964.404 1462.92 Q965.422 1462.73 966.441 1462.73 Q972.228 1462.73 975.607 1465.9 Q978.987 1469.08 978.987 1474.49 Q978.987 1480.07 975.515 1483.17 Q972.042 1486.25 965.723 1486.25 Q963.547 1486.25 961.279 1485.88 Q959.033 1485.51 956.626 1484.77 L956.626 1480.07 Q958.709 1481.2 960.931 1481.76 Q963.154 1482.32 965.63 1482.32 Q969.635 1482.32 971.973 1480.21 Q974.311 1478.1 974.311 1474.49 Q974.311 1470.88 971.973 1468.77 Q969.635 1466.67 965.63 1466.67 Q963.755 1466.67 961.88 1467.08 Q960.029 1467.5 958.084 1468.38 L958.084 1451.02 Z\" fill=\"#000000\" fill-rule=\"evenodd\" fill-opacity=\"1\" /><path clip-path=\"url(#clip970)\" d=\"M1608.43 1481.64 L1616.07 1481.64 L1616.07 1455.28 L1607.76 1456.95 L1607.76 1452.69 L1616.02 1451.02 L1620.7 1451.02 L1620.7 1481.64 L1628.34 1481.64 L1628.34 1485.58 L1608.43 1485.58 L1608.43 1481.64 Z\" fill=\"#000000\" fill-rule=\"evenodd\" fill-opacity=\"1\" /><path clip-path=\"url(#clip970)\" d=\"M1647.78 1454.1 Q1644.17 1454.1 1642.34 1457.66 Q1640.54 1461.2 1640.54 1468.33 Q1640.54 1475.44 1642.34 1479.01 Q1644.17 1482.55 1647.78 1482.55 Q1651.42 1482.55 1653.22 1479.01 Q1655.05 1475.44 1655.05 1468.33 Q1655.05 1461.2 1653.22 1457.66 Q1651.42 1454.1 1647.78 1454.1 M1647.78 1450.39 Q1653.59 1450.39 1656.65 1455 Q1659.73 1459.58 1659.73 1468.33 Q1659.73 1477.06 1656.65 1481.67 Q1653.59 1486.25 1647.78 1486.25 Q1641.97 1486.25 1638.89 1481.67 Q1635.84 1477.06 1635.84 1468.33 Q1635.84 1459.58 1638.89 1455 Q1641.97 1450.39 1647.78 1450.39 Z\" fill=\"#000000\" fill-rule=\"evenodd\" fill-opacity=\"1\" /><path clip-path=\"url(#clip970)\" d=\"M2274.87 1481.64 L2282.5 1481.64 L2282.5 1455.28 L2274.19 1456.95 L2274.19 1452.69 L2282.46 1451.02 L2287.13 1451.02 L2287.13 1481.64 L2294.77 1481.64 L2294.77 1485.58 L2274.87 1485.58 L2274.87 1481.64 Z\" fill=\"#000000\" fill-rule=\"evenodd\" fill-opacity=\"1\" /><path clip-path=\"url(#clip970)\" d=\"M2304.26 1451.02 L2322.62 1451.02 L2322.62 1454.96 L2308.55 1454.96 L2308.55 1463.43 Q2309.56 1463.08 2310.58 1462.92 Q2311.6 1462.73 2312.62 1462.73 Q2318.41 1462.73 2321.79 1465.9 Q2325.17 1469.08 2325.17 1474.49 Q2325.17 1480.07 2321.69 1483.17 Q2318.22 1486.25 2311.9 1486.25 Q2309.73 1486.25 2307.46 1485.88 Q2305.21 1485.51 2302.81 1484.77 L2302.81 1480.07 Q2304.89 1481.2 2307.11 1481.76 Q2309.33 1482.32 2311.81 1482.32 Q2315.81 1482.32 2318.15 1480.21 Q2320.49 1478.1 2320.49 1474.49 Q2320.49 1470.88 2318.15 1468.77 Q2315.81 1466.67 2311.81 1466.67 Q2309.94 1466.67 2308.06 1467.08 Q2306.21 1467.5 2304.26 1468.38 L2304.26 1451.02 Z\" fill=\"#000000\" fill-rule=\"evenodd\" fill-opacity=\"1\" /><path clip-path=\"url(#clip970)\" d=\"M1184.9 1522.27 L1184.9 1532.4 L1196.96 1532.4 L1196.96 1536.95 L1184.9 1536.95 L1184.9 1556.3 Q1184.9 1560.66 1186.08 1561.9 Q1187.29 1563.14 1190.95 1563.14 L1196.96 1563.14 L1196.96 1568.04 L1190.95 1568.04 Q1184.17 1568.04 1181.59 1565.53 Q1179.01 1562.98 1179.01 1556.3 L1179.01 1536.95 L1174.71 1536.95 L1174.71 1532.4 L1179.01 1532.4 L1179.01 1522.27 L1184.9 1522.27 Z\" fill=\"#000000\" fill-rule=\"evenodd\" fill-opacity=\"1\" /><path clip-path=\"url(#clip970)\" d=\"M1204.67 1532.4 L1210.52 1532.4 L1210.52 1568.04 L1204.67 1568.04 L1204.67 1532.4 M1204.67 1518.52 L1210.52 1518.52 L1210.52 1525.93 L1204.67 1525.93 L1204.67 1518.52 Z\" fill=\"#000000\" fill-rule=\"evenodd\" fill-opacity=\"1\" /><path clip-path=\"url(#clip970)\" d=\"M1250.53 1539.24 Q1252.73 1535.29 1255.78 1533.41 Q1258.84 1531.54 1262.97 1531.54 Q1268.54 1531.54 1271.57 1535.45 Q1274.59 1539.33 1274.59 1546.53 L1274.59 1568.04 L1268.7 1568.04 L1268.7 1546.72 Q1268.7 1541.59 1266.89 1539.11 Q1265.08 1536.63 1261.35 1536.63 Q1256.8 1536.63 1254.16 1539.65 Q1251.52 1542.68 1251.52 1547.9 L1251.52 1568.04 L1245.63 1568.04 L1245.63 1546.72 Q1245.63 1541.56 1243.81 1539.11 Q1242 1536.63 1238.21 1536.63 Q1233.72 1536.63 1231.08 1539.68 Q1228.44 1542.71 1228.44 1547.9 L1228.44 1568.04 L1222.55 1568.04 L1222.55 1532.4 L1228.44 1532.4 L1228.44 1537.93 Q1230.45 1534.66 1233.25 1533.1 Q1236.05 1531.54 1239.9 1531.54 Q1243.78 1531.54 1246.49 1533.51 Q1249.23 1535.48 1250.53 1539.24 Z\" fill=\"#000000\" fill-rule=\"evenodd\" fill-opacity=\"1\" /><path clip-path=\"url(#clip970)\" d=\"M1316.77 1548.76 L1316.77 1551.62 L1289.84 1551.62 Q1290.22 1557.67 1293.47 1560.85 Q1296.75 1564 1302.57 1564 Q1305.94 1564 1309.09 1563.17 Q1312.28 1562.35 1315.4 1560.69 L1315.4 1566.23 Q1312.25 1567.57 1308.94 1568.27 Q1305.63 1568.97 1302.22 1568.97 Q1293.69 1568.97 1288.69 1564 Q1283.73 1559.04 1283.73 1550.57 Q1283.73 1541.82 1288.44 1536.69 Q1293.18 1531.54 1301.2 1531.54 Q1308.39 1531.54 1312.56 1536.18 Q1316.77 1540.8 1316.77 1548.76 M1310.91 1547.04 Q1310.85 1542.23 1308.2 1539.37 Q1305.59 1536.5 1301.26 1536.5 Q1296.36 1536.5 1293.4 1539.27 Q1290.47 1542.04 1290.03 1547.07 L1310.91 1547.04 Z\" fill=\"#000000\" fill-rule=\"evenodd\" fill-opacity=\"1\" /><path clip-path=\"url(#clip970)\" d=\"M1361.17 1518.58 Q1356.9 1525.9 1354.83 1533.06 Q1352.76 1540.23 1352.76 1547.58 Q1352.76 1554.93 1354.83 1562.16 Q1356.93 1569.35 1361.17 1576.64 L1356.07 1576.64 Q1351.3 1569.16 1348.91 1561.93 Q1346.56 1554.71 1346.56 1547.58 Q1346.56 1540.48 1348.91 1533.29 Q1351.27 1526.09 1356.07 1518.58 L1361.17 1518.58 Z\" fill=\"#000000\" fill-rule=\"evenodd\" fill-opacity=\"1\" /><path clip-path=\"url(#clip970)\" d=\"M1395.25 1533.45 L1395.25 1538.98 Q1392.77 1537.71 1390.1 1537.07 Q1387.42 1536.44 1384.56 1536.44 Q1380.2 1536.44 1378 1537.77 Q1375.84 1539.11 1375.84 1541.79 Q1375.84 1543.82 1377.4 1545 Q1378.96 1546.15 1383.67 1547.2 L1385.67 1547.64 Q1391.91 1548.98 1394.52 1551.43 Q1397.16 1553.85 1397.16 1558.21 Q1397.16 1563.17 1393.22 1566.07 Q1389.3 1568.97 1382.43 1568.97 Q1379.56 1568.97 1376.44 1568.39 Q1373.36 1567.85 1369.92 1566.74 L1369.92 1560.69 Q1373.17 1562.38 1376.32 1563.24 Q1379.47 1564.07 1382.55 1564.07 Q1386.69 1564.07 1388.92 1562.66 Q1391.15 1561.23 1391.15 1558.65 Q1391.15 1556.27 1389.53 1554.99 Q1387.93 1553.72 1382.49 1552.54 L1380.45 1552.07 Q1375.01 1550.92 1372.59 1548.56 Q1370.17 1546.18 1370.17 1542.04 Q1370.17 1537.01 1373.74 1534.27 Q1377.3 1531.54 1383.86 1531.54 Q1387.11 1531.54 1389.97 1532.01 Q1392.84 1532.49 1395.25 1533.45 Z\" fill=\"#000000\" fill-rule=\"evenodd\" fill-opacity=\"1\" /><path clip-path=\"url(#clip970)\" d=\"M1405.57 1518.58 L1410.66 1518.58 Q1415.43 1526.09 1417.79 1533.29 Q1420.18 1540.48 1420.18 1547.58 Q1420.18 1554.71 1417.79 1561.93 Q1415.43 1569.16 1410.66 1576.64 L1405.57 1576.64 Q1409.8 1569.35 1411.87 1562.16 Q1413.97 1554.93 1413.97 1547.58 Q1413.97 1540.23 1411.87 1533.06 Q1409.8 1525.9 1405.57 1518.58 Z\" fill=\"#000000\" fill-rule=\"evenodd\" fill-opacity=\"1\" /><polyline clip-path=\"url(#clip972)\" style=\"stroke:#000000; stroke-linecap:round; stroke-linejoin:round; stroke-width:2; stroke-opacity:0.1; fill:none\" points=\"242.135,1386.4 2352.76,1386.4 \"/>\n<polyline clip-path=\"url(#clip972)\" style=\"stroke:#000000; stroke-linecap:round; stroke-linejoin:round; stroke-width:2; stroke-opacity:0.1; fill:none\" points=\"242.135,1075.71 2352.76,1075.71 \"/>\n<polyline clip-path=\"url(#clip972)\" style=\"stroke:#000000; stroke-linecap:round; stroke-linejoin:round; stroke-width:2; stroke-opacity:0.1; fill:none\" points=\"242.135,765.015 2352.76,765.015 \"/>\n<polyline clip-path=\"url(#clip972)\" style=\"stroke:#000000; stroke-linecap:round; stroke-linejoin:round; stroke-width:2; stroke-opacity:0.1; fill:none\" points=\"242.135,454.325 2352.76,454.325 \"/>\n<polyline clip-path=\"url(#clip972)\" style=\"stroke:#000000; stroke-linecap:round; stroke-linejoin:round; stroke-width:2; stroke-opacity:0.1; fill:none\" points=\"242.135,143.635 2352.76,143.635 \"/>\n<polyline clip-path=\"url(#clip970)\" style=\"stroke:#000000; stroke-linecap:round; stroke-linejoin:round; stroke-width:4; stroke-opacity:1; fill:none\" points=\"242.135,1423.18 242.135,123.472 \"/>\n<polyline clip-path=\"url(#clip970)\" style=\"stroke:#000000; stroke-linecap:round; stroke-linejoin:round; stroke-width:4; stroke-opacity:1; fill:none\" points=\"242.135,1386.4 261.032,1386.4 \"/>\n<polyline clip-path=\"url(#clip970)\" style=\"stroke:#000000; stroke-linecap:round; stroke-linejoin:round; stroke-width:4; stroke-opacity:1; fill:none\" points=\"242.135,1075.71 261.032,1075.71 \"/>\n<polyline clip-path=\"url(#clip970)\" style=\"stroke:#000000; stroke-linecap:round; stroke-linejoin:round; stroke-width:4; stroke-opacity:1; fill:none\" points=\"242.135,765.015 261.032,765.015 \"/>\n<polyline clip-path=\"url(#clip970)\" style=\"stroke:#000000; stroke-linecap:round; stroke-linejoin:round; stroke-width:4; stroke-opacity:1; fill:none\" points=\"242.135,454.325 261.032,454.325 \"/>\n<polyline clip-path=\"url(#clip970)\" style=\"stroke:#000000; stroke-linecap:round; stroke-linejoin:round; stroke-width:4; stroke-opacity:1; fill:none\" points=\"242.135,143.635 261.032,143.635 \"/>\n<path clip-path=\"url(#clip970)\" d=\"M114.26 1386.85 L143.936 1386.85 L143.936 1390.78 L114.26 1390.78 L114.26 1386.85 Z\" fill=\"#000000\" fill-rule=\"evenodd\" fill-opacity=\"1\" /><path clip-path=\"url(#clip970)\" d=\"M154.839 1399.74 L162.477 1399.74 L162.477 1373.37 L154.167 1375.04 L154.167 1370.78 L162.431 1369.12 L167.107 1369.12 L167.107 1399.74 L174.746 1399.74 L174.746 1403.68 L154.839 1403.68 L154.839 1399.74 Z\" fill=\"#000000\" fill-rule=\"evenodd\" fill-opacity=\"1\" /><path clip-path=\"url(#clip970)\" d=\"M194.19 1372.19 Q190.579 1372.19 188.75 1375.76 Q186.945 1379.3 186.945 1386.43 Q186.945 1393.54 188.75 1397.1 Q190.579 1400.64 194.19 1400.64 Q197.825 1400.64 199.63 1397.1 Q201.459 1393.54 201.459 1386.43 Q201.459 1379.3 199.63 1375.76 Q197.825 1372.19 194.19 1372.19 M194.19 1368.49 Q200 1368.49 203.056 1373.1 Q206.135 1377.68 206.135 1386.43 Q206.135 1395.16 203.056 1399.76 Q200 1404.35 194.19 1404.35 Q188.38 1404.35 185.301 1399.76 Q182.246 1395.16 182.246 1386.43 Q182.246 1377.68 185.301 1373.1 Q188.38 1368.49 194.19 1368.49 Z\" fill=\"#000000\" fill-rule=\"evenodd\" fill-opacity=\"1\" /><path clip-path=\"url(#clip970)\" d=\"M145.417 1076.16 L175.093 1076.16 L175.093 1080.09 L145.417 1080.09 L145.417 1076.16 Z\" fill=\"#000000\" fill-rule=\"evenodd\" fill-opacity=\"1\" /><path clip-path=\"url(#clip970)\" d=\"M185.232 1058.43 L203.588 1058.43 L203.588 1062.36 L189.514 1062.36 L189.514 1070.83 Q190.533 1070.49 191.551 1070.32 Q192.57 1070.14 193.588 1070.14 Q199.375 1070.14 202.755 1073.31 Q206.135 1076.48 206.135 1081.9 Q206.135 1087.48 202.662 1090.58 Q199.19 1093.66 192.871 1093.66 Q190.695 1093.66 188.426 1093.29 Q186.181 1092.92 183.774 1092.18 L183.774 1087.48 Q185.857 1088.61 188.079 1089.17 Q190.301 1089.72 192.778 1089.72 Q196.783 1089.72 199.121 1087.62 Q201.459 1085.51 201.459 1081.9 Q201.459 1078.29 199.121 1076.18 Q196.783 1074.07 192.778 1074.07 Q190.903 1074.07 189.028 1074.49 Q187.176 1074.91 185.232 1075.79 L185.232 1058.43 Z\" fill=\"#000000\" fill-rule=\"evenodd\" fill-opacity=\"1\" /><path clip-path=\"url(#clip970)\" d=\"M194.19 750.814 Q190.579 750.814 188.75 754.379 Q186.945 757.92 186.945 765.05 Q186.945 772.156 188.75 775.721 Q190.579 779.263 194.19 779.263 Q197.825 779.263 199.63 775.721 Q201.459 772.156 201.459 765.05 Q201.459 757.92 199.63 754.379 Q197.825 750.814 194.19 750.814 M194.19 747.11 Q200 747.11 203.056 751.717 Q206.135 756.3 206.135 765.05 Q206.135 773.777 203.056 778.383 Q200 782.967 194.19 782.967 Q188.38 782.967 185.301 778.383 Q182.246 773.777 182.246 765.05 Q182.246 756.3 185.301 751.717 Q188.38 747.11 194.19 747.11 Z\" fill=\"#000000\" fill-rule=\"evenodd\" fill-opacity=\"1\" /><path clip-path=\"url(#clip970)\" d=\"M185.232 437.045 L203.588 437.045 L203.588 440.98 L189.514 440.98 L189.514 449.452 Q190.533 449.105 191.551 448.943 Q192.57 448.758 193.588 448.758 Q199.375 448.758 202.755 451.929 Q206.135 455.101 206.135 460.517 Q206.135 466.096 202.662 469.198 Q199.19 472.276 192.871 472.276 Q190.695 472.276 188.426 471.906 Q186.181 471.536 183.774 470.795 L183.774 466.096 Q185.857 467.23 188.079 467.786 Q190.301 468.341 192.778 468.341 Q196.783 468.341 199.121 466.235 Q201.459 464.128 201.459 460.517 Q201.459 456.906 199.121 454.8 Q196.783 452.693 192.778 452.693 Q190.903 452.693 189.028 453.11 Q187.176 453.527 185.232 454.406 L185.232 437.045 Z\" fill=\"#000000\" fill-rule=\"evenodd\" fill-opacity=\"1\" /><path clip-path=\"url(#clip970)\" d=\"M154.839 156.98 L162.477 156.98 L162.477 130.614 L154.167 132.281 L154.167 128.022 L162.431 126.355 L167.107 126.355 L167.107 156.98 L174.746 156.98 L174.746 160.915 L154.839 160.915 L154.839 156.98 Z\" fill=\"#000000\" fill-rule=\"evenodd\" fill-opacity=\"1\" /><path clip-path=\"url(#clip970)\" d=\"M194.19 129.434 Q190.579 129.434 188.75 132.998 Q186.945 136.54 186.945 143.67 Q186.945 150.776 188.75 154.341 Q190.579 157.883 194.19 157.883 Q197.825 157.883 199.63 154.341 Q201.459 150.776 201.459 143.67 Q201.459 136.54 199.63 132.998 Q197.825 129.434 194.19 129.434 M194.19 125.73 Q200 125.73 203.056 130.336 Q206.135 134.92 206.135 143.67 Q206.135 152.396 203.056 157.003 Q200 161.586 194.19 161.586 Q188.38 161.586 185.301 157.003 Q182.246 152.396 182.246 143.67 Q182.246 134.92 185.301 130.336 Q188.38 125.73 194.19 125.73 Z\" fill=\"#000000\" fill-rule=\"evenodd\" fill-opacity=\"1\" /><path clip-path=\"url(#clip970)\" d=\"M49.9359 788.254 L28.3562 788.254 L28.3562 782.397 L49.7131 782.397 Q54.7739 782.397 57.3202 780.424 Q59.8346 778.45 59.8346 774.504 Q59.8346 769.761 56.8109 767.024 Q53.7872 764.255 48.5673 764.255 L28.3562 764.255 L28.3562 758.398 L64.0042 758.398 L64.0042 764.255 L58.5296 764.255 Q61.7762 766.387 63.3676 769.22 Q64.9272 772.021 64.9272 775.745 Q64.9272 781.888 61.1078 785.071 Q57.2883 788.254 49.9359 788.254 M27.4968 773.517 L27.4968 773.517 Z\" fill=\"#000000\" fill-rule=\"evenodd\" fill-opacity=\"1\" /><path clip-path=\"url(#clip970)\" d=\"M1034.58 12.096 L1042.76 12.096 L1042.76 72.576 L1034.58 72.576 L1034.58 12.096 Z\" fill=\"#000000\" fill-rule=\"evenodd\" fill-opacity=\"1\" /><path clip-path=\"url(#clip970)\" d=\"M1096.44 45.1919 L1096.44 72.576 L1088.99 72.576 L1088.99 45.4349 Q1088.99 38.994 1086.47 35.7938 Q1083.96 32.5936 1078.94 32.5936 Q1072.9 32.5936 1069.42 36.4419 Q1065.94 40.2903 1065.94 46.9338 L1065.94 72.576 L1058.44 72.576 L1058.44 27.2059 L1065.94 27.2059 L1065.94 34.2544 Q1068.61 30.163 1072.22 28.1376 Q1075.86 26.1121 1080.6 26.1121 Q1088.42 26.1121 1092.43 30.9732 Q1096.44 35.7938 1096.44 45.1919 Z\" fill=\"#000000\" fill-rule=\"evenodd\" fill-opacity=\"1\" /><path clip-path=\"url(#clip970)\" d=\"M1118.52 65.7705 L1118.52 89.8329 L1111.02 89.8329 L1111.02 27.2059 L1118.52 27.2059 L1118.52 34.0924 Q1120.87 30.0415 1124.43 28.0971 Q1128.04 26.1121 1133.02 26.1121 Q1141.28 26.1121 1146.43 32.6746 Q1151.61 39.2371 1151.61 49.9314 Q1151.61 60.6258 1146.43 67.1883 Q1141.28 73.7508 1133.02 73.7508 Q1128.04 73.7508 1124.43 71.8063 Q1120.87 69.8214 1118.52 65.7705 M1143.88 49.9314 Q1143.88 41.7081 1140.47 37.0496 Q1137.11 32.3505 1131.2 32.3505 Q1125.28 32.3505 1121.88 37.0496 Q1118.52 41.7081 1118.52 49.9314 Q1118.52 58.1548 1121.88 62.8538 Q1125.28 67.5124 1131.2 67.5124 Q1137.11 67.5124 1140.47 62.8538 Q1143.88 58.1548 1143.88 49.9314 Z\" fill=\"#000000\" fill-rule=\"evenodd\" fill-opacity=\"1\" /><path clip-path=\"url(#clip970)\" d=\"M1163.2 54.671 L1163.2 27.2059 L1170.65 27.2059 L1170.65 54.3874 Q1170.65 60.8284 1173.16 64.0691 Q1175.68 67.2693 1180.7 67.2693 Q1186.73 67.2693 1190.22 63.421 Q1193.74 59.5726 1193.74 52.9291 L1193.74 27.2059 L1201.2 27.2059 L1201.2 72.576 L1193.74 72.576 L1193.74 65.6084 Q1191.03 69.7404 1187.42 71.7658 Q1183.86 73.7508 1179.12 73.7508 Q1171.3 73.7508 1167.25 68.8897 Q1163.2 64.0286 1163.2 54.671 M1181.95 26.1121 L1181.95 26.1121 Z\" fill=\"#000000\" fill-rule=\"evenodd\" fill-opacity=\"1\" /><path clip-path=\"url(#clip970)\" d=\"M1223.92 14.324 L1223.92 27.2059 L1239.27 27.2059 L1239.27 32.9987 L1223.92 32.9987 L1223.92 57.6282 Q1223.92 63.1779 1225.42 64.7578 Q1226.96 66.3376 1231.62 66.3376 L1239.27 66.3376 L1239.27 72.576 L1231.62 72.576 Q1222.99 72.576 1219.71 69.3758 Q1216.43 66.1351 1216.43 57.6282 L1216.43 32.9987 L1210.96 32.9987 L1210.96 27.2059 L1216.43 27.2059 L1216.43 14.324 L1223.92 14.324 Z\" fill=\"#000000\" fill-rule=\"evenodd\" fill-opacity=\"1\" /><path clip-path=\"url(#clip970)\" d=\"M1275.77 12.096 L1283.96 12.096 L1283.96 36.8875 L1313.69 36.8875 L1313.69 12.096 L1321.87 12.096 L1321.87 72.576 L1313.69 72.576 L1313.69 43.7741 L1283.96 43.7741 L1283.96 72.576 L1275.77 72.576 L1275.77 12.096 Z\" fill=\"#000000\" fill-rule=\"evenodd\" fill-opacity=\"1\" /><path clip-path=\"url(#clip970)\" d=\"M1337.83 27.2059 L1345.29 27.2059 L1345.29 72.576 L1337.83 72.576 L1337.83 27.2059 M1337.83 9.54393 L1345.29 9.54393 L1345.29 18.9825 L1337.83 18.9825 L1337.83 9.54393 Z\" fill=\"#000000\" fill-rule=\"evenodd\" fill-opacity=\"1\" /><path clip-path=\"url(#clip970)\" d=\"M1389.81 28.5427 L1389.81 35.5912 Q1386.65 33.9709 1383.24 33.1607 Q1379.84 32.3505 1376.19 32.3505 Q1370.65 32.3505 1367.85 34.0519 Q1365.1 35.7533 1365.1 39.156 Q1365.1 41.7486 1367.08 43.2475 Q1369.07 44.7058 1375.06 46.0426 L1377.61 46.6097 Q1385.55 48.3111 1388.87 51.4303 Q1392.24 54.509 1392.24 60.0587 Q1392.24 66.3781 1387.21 70.0644 Q1382.23 73.7508 1373.48 73.7508 Q1369.83 73.7508 1365.87 73.0216 Q1361.94 72.3329 1357.56 70.9151 L1357.56 63.2184 Q1361.69 65.3654 1365.7 66.4591 Q1369.71 67.5124 1373.64 67.5124 Q1378.91 67.5124 1381.74 65.73 Q1384.58 63.9071 1384.58 60.6258 Q1384.58 57.5877 1382.51 55.9673 Q1380.49 54.3469 1373.56 52.8481 L1370.97 52.2405 Q1364.04 50.7821 1360.96 47.7845 Q1357.88 44.7463 1357.88 39.4801 Q1357.88 33.0797 1362.42 29.5959 Q1366.96 26.1121 1375.3 26.1121 Q1379.44 26.1121 1383.08 26.7198 Q1386.73 27.3274 1389.81 28.5427 Z\" fill=\"#000000\" fill-rule=\"evenodd\" fill-opacity=\"1\" /><path clip-path=\"url(#clip970)\" d=\"M1411.48 14.324 L1411.48 27.2059 L1426.83 27.2059 L1426.83 32.9987 L1411.48 32.9987 L1411.48 57.6282 Q1411.48 63.1779 1412.98 64.7578 Q1414.52 66.3376 1419.17 66.3376 L1426.83 66.3376 L1426.83 72.576 L1419.17 72.576 Q1410.55 72.576 1407.27 69.3758 Q1403.98 66.1351 1403.98 57.6282 L1403.98 32.9987 L1398.52 32.9987 L1398.52 27.2059 L1403.98 27.2059 L1403.98 14.324 L1411.48 14.324 Z\" fill=\"#000000\" fill-rule=\"evenodd\" fill-opacity=\"1\" /><path clip-path=\"url(#clip970)\" d=\"M1454.22 32.4315 Q1448.22 32.4315 1444.74 37.1306 Q1441.25 41.7891 1441.25 49.9314 Q1441.25 58.0738 1444.7 62.7728 Q1448.18 67.4314 1454.22 67.4314 Q1460.17 67.4314 1463.65 62.7323 Q1467.14 58.0333 1467.14 49.9314 Q1467.14 41.8701 1463.65 37.1711 Q1460.17 32.4315 1454.22 32.4315 M1454.22 26.1121 Q1463.94 26.1121 1469.49 32.4315 Q1475.04 38.7509 1475.04 49.9314 Q1475.04 61.0714 1469.49 67.4314 Q1463.94 73.7508 1454.22 73.7508 Q1444.45 73.7508 1438.9 67.4314 Q1433.39 61.0714 1433.39 49.9314 Q1433.39 38.7509 1438.9 32.4315 Q1444.45 26.1121 1454.22 26.1121 Z\" fill=\"#000000\" fill-rule=\"evenodd\" fill-opacity=\"1\" /><path clip-path=\"url(#clip970)\" d=\"M1513.68 34.1734 Q1512.43 33.4443 1510.93 33.1202 Q1509.47 32.7556 1507.69 32.7556 Q1501.37 32.7556 1497.97 36.8875 Q1494.6 40.9789 1494.6 48.6757 L1494.6 72.576 L1487.11 72.576 L1487.11 27.2059 L1494.6 27.2059 L1494.6 34.2544 Q1496.95 30.1225 1500.72 28.1376 Q1504.49 26.1121 1509.87 26.1121 Q1510.64 26.1121 1511.58 26.2337 Q1512.51 26.3147 1513.64 26.5172 L1513.68 34.1734 Z\" fill=\"#000000\" fill-rule=\"evenodd\" fill-opacity=\"1\" /><path clip-path=\"url(#clip970)\" d=\"M1540.38 76.7889 Q1537.22 84.8907 1534.22 87.3618 Q1531.22 89.8329 1526.2 89.8329 L1520.25 89.8329 L1520.25 83.5945 L1524.62 83.5945 Q1527.7 83.5945 1529.4 82.1361 Q1531.1 80.6778 1533.17 75.2496 L1534.5 71.8468 L1516.15 27.2059 L1524.05 27.2059 L1538.23 62.6918 L1552.41 27.2059 L1560.31 27.2059 L1540.38 76.7889 Z\" fill=\"#000000\" fill-rule=\"evenodd\" fill-opacity=\"1\" /><polyline clip-path=\"url(#clip972)\" style=\"stroke:#009af9; stroke-linecap:round; stroke-linejoin:round; stroke-width:4; stroke-opacity:1; fill:none\" points=\"301.869,160.256 308.529,164.846 315.188,169.479 321.847,174.154 328.507,178.868 335.166,183.62 341.825,188.407 348.485,193.227 355.144,198.079 361.804,202.96 368.463,207.869 375.122,212.804 381.782,217.762 388.441,222.743 395.1,227.745 401.76,232.765 408.419,237.802 415.079,242.854 421.738,247.921 428.397,253 435.057,258.089 441.716,263.188 448.375,268.295 455.035,273.407 461.694,278.525 468.354,283.647 475.013,288.77 481.672,293.895 488.332,299.019 494.991,304.141 501.65,309.26 508.31,314.376 514.969,319.486 521.628,324.589 528.288,329.686 534.947,334.773 541.607,339.851 548.266,344.918 554.925,349.973 561.585,355.016 568.244,360.045 574.903,365.06 581.563,370.058 588.222,375.041 594.882,380.006 601.541,384.953 608.2,389.882 614.86,394.79 621.519,399.678 628.178,404.545 634.838,409.39 641.497,414.213 648.157,419.012 654.816,423.787 661.475,428.538 668.135,433.263 674.794,437.963 681.453,442.636 688.113,447.282 694.772,451.901 701.432,456.492 708.091,461.055 714.75,465.588 721.41,470.092 728.069,474.567 734.728,479.011 741.388,483.424 748.047,487.807 754.706,492.158 761.366,496.477 768.025,500.764 774.685,505.019 781.344,509.241 788.003,513.429 794.663,517.585 801.322,521.707 807.981,525.795 814.641,529.849 821.3,533.869 827.96,537.855 834.619,541.805 841.278,545.721 847.938,549.602 854.597,553.448 861.256,557.258 867.916,561.033 874.575,564.773 881.235,568.476 887.894,572.144 894.553,575.777 901.213,579.373 907.872,582.933 914.531,586.458 921.191,589.946 927.85,593.398 934.51,596.815 941.169,600.195 947.828,603.539 954.488,606.847 961.147,610.119 967.806,613.355 974.466,616.555 981.125,619.719 987.785,622.847 994.444,625.94 1001.1,628.996 1007.76,632.017 1014.42,635.003 1021.08,637.953 1027.74,640.867 1034.4,643.747 1041.06,646.591 1047.72,649.4 1054.38,652.175 1061.04,654.914 1067.7,657.619 1074.36,660.29 1081.02,662.926 1087.68,665.528 1094.33,668.096 1100.99,670.63 1107.65,673.131 1114.31,675.598 1120.97,678.032 1127.63,680.433 1134.29,682.801 1140.95,685.136 1147.61,687.439 1154.27,689.71 1160.93,691.948 1167.59,694.155 1174.25,696.33 1180.91,698.473 1187.57,700.586 1194.23,702.667 1200.88,704.718 1207.54,706.738 1214.2,708.728 1220.86,710.689 1227.52,712.619 1234.18,714.52 1240.84,716.391 1247.5,718.234 1254.16,720.048 1260.82,721.833 1267.48,723.591 1274.14,725.32 1280.8,727.022 1287.46,728.696 1294.12,730.343 1300.77,731.963 1307.43,733.556 1314.09,735.123 1320.75,736.664 1327.41,738.18 1334.07,739.669 1340.73,741.134 1347.39,742.573 1354.05,743.988 1360.71,745.378 1367.37,746.745 1374.03,748.087 1380.69,749.406 1387.35,750.701 1394.01,751.974 1400.67,753.224 1407.32,754.451 1413.98,755.656 1420.64,756.839 1427.3,758.001 1433.96,759.141 1440.62,760.261 1447.28,761.359 1453.94,762.437 1460.6,763.495 1467.26,764.533 1473.92,765.552 1480.58,766.551 1487.24,767.53 1493.9,768.492 1500.56,769.434 1507.22,770.359 1513.87,771.265 1520.53,772.154 1527.19,773.025 1533.85,773.879 1540.51,774.717 1547.17,775.538 1553.83,776.342 1560.49,777.131 1567.15,777.903 1573.81,778.66 1580.47,779.402 1587.13,780.129 1593.79,780.842 1600.45,781.539 1607.11,782.223 1613.77,782.893 1620.42,783.549 1627.08,784.192 1633.74,784.821 1640.4,785.438 1647.06,786.042 1653.72,786.634 1660.38,787.213 1667.04,787.781 1673.7,788.337 1680.36,788.881 1687.02,789.415 1693.68,789.938 1700.34,790.449 1707,790.951 1713.66,791.442 1720.32,791.924 1726.97,792.395 1733.63,792.857 1740.29,793.31 1746.95,793.754 1753.61,794.189 1760.27,794.615 1766.93,795.033 1773.59,795.443 1780.25,795.845 1786.91,796.239 1793.57,796.626 1800.23,797.006 1806.89,797.378 1813.55,797.743 1820.21,798.102 1826.87,798.454 1833.52,798.8 1840.18,799.14 1846.84,799.474 1853.5,799.803 1860.16,800.125 1866.82,800.443 1873.48,800.755 1880.14,801.063 1886.8,801.365 1893.46,801.663 1900.12,801.957 1906.78,802.246 1913.44,802.532 1920.1,802.813 1926.76,803.091 1933.42,803.365 1940.07,803.635 1946.73,803.903 1953.39,804.167 1960.05,804.428 1966.71,804.687 1973.37,804.943 1980.03,805.196 1986.69,805.447 1993.35,805.696 2000.01,805.943 2006.67,806.188 2013.33,806.431 2019.99,806.672 2026.65,806.912 2033.31,807.15 2039.97,807.387 2046.62,807.623 2053.28,807.858 2059.94,808.092 2066.6,808.325 2073.26,808.557 2079.92,808.789 2086.58,809.02 2093.24,809.251 2099.9,809.481 2106.56,809.711 2113.22,809.941 2119.88,810.171 2126.54,810.401 2133.2,810.631 2139.86,810.862 2146.52,811.093 2153.17,811.324 2159.83,811.555 2166.49,811.787 2173.15,812.02 2179.81,812.253 2186.47,812.487 2193.13,812.722 2199.79,812.957 2206.45,813.194 2213.11,813.431 2219.77,813.669 2226.43,813.908 2233.09,814.149 2239.75,814.39 2246.41,814.633 2253.07,814.876 2259.72,815.121 2266.38,815.367 2273.04,815.614 2279.7,815.863 2286.36,816.113 2293.02,816.364 \"/>\n<polyline clip-path=\"url(#clip972)\" style=\"stroke:#e26f46; stroke-linecap:round; stroke-linejoin:round; stroke-width:4; stroke-opacity:1; fill:none\" points=\"301.869,1386.4 308.529,1386.4 315.188,1386.4 321.847,1386.4 328.507,1386.4 335.166,1386.4 341.825,1386.4 348.485,1386.4 355.144,1386.02 361.804,1376.73 368.463,1367.5 375.122,1358.32 381.782,1349.21 388.441,1340.16 395.1,1331.17 401.76,1322.25 408.419,1313.39 415.079,1304.6 421.738,1295.87 428.397,1287.21 435.057,1278.61 441.716,1270.09 448.375,1261.63 455.035,1253.24 461.694,1244.92 468.354,1236.67 475.013,1228.49 481.672,1220.38 488.332,1212.34 494.991,1204.37 501.65,1196.48 508.31,1188.66 514.969,1180.91 521.628,1173.23 528.288,1165.63 534.947,1158.09 541.607,1150.64 548.266,1143.25 554.925,1135.94 561.585,1128.71 568.244,1121.54 574.903,1114.45 581.563,1107.44 588.222,1100.5 594.882,1093.63 601.541,1086.84 608.2,1080.12 614.86,1073.48 621.519,1066.91 628.178,1060.42 634.838,1054 641.497,1047.65 648.157,1041.37 654.816,1035.18 661.475,1029.05 668.135,1023 674.794,1017.02 681.453,1011.11 688.113,1005.28 694.772,999.515 701.432,993.826 708.091,988.209 714.75,982.664 721.41,977.191 728.069,971.789 734.728,966.458 741.388,961.198 748.047,956.008 754.706,950.889 761.366,945.839 768.025,940.858 774.685,935.947 781.344,931.105 788.003,926.331 794.663,921.624 801.322,916.986 807.981,912.415 814.641,907.91 821.3,903.472 827.96,899.1 834.619,894.793 841.278,890.552 847.938,886.375 854.597,882.263 861.256,878.214 867.916,874.229 874.575,870.306 881.235,866.446 887.894,862.648 894.553,858.911 901.213,855.236 907.872,851.621 914.531,848.066 921.191,844.57 927.85,841.134 934.51,837.756 941.169,834.436 947.828,831.174 954.488,827.968 961.147,824.82 967.806,821.727 974.466,818.689 981.125,815.707 987.785,812.779 994.444,809.905 1001.1,807.085 1007.76,804.317 1014.42,801.602 1021.08,798.938 1027.74,796.326 1034.4,793.764 1041.06,791.253 1047.72,788.792 1054.38,786.379 1061.04,784.016 1067.7,781.7 1074.36,779.432 1081.02,777.211 1087.68,775.037 1094.33,772.908 1100.99,770.825 1107.65,768.787 1114.31,766.793 1120.97,764.844 1127.63,762.937 1134.29,761.073 1140.95,759.252 1147.61,757.473 1154.27,755.734 1160.93,754.037 1167.59,752.379 1174.25,750.762 1180.91,749.183 1187.57,747.643 1194.23,746.142 1200.88,744.677 1207.54,743.251 1214.2,741.86 1220.86,740.506 1227.52,739.188 1234.18,737.904 1240.84,736.656 1247.5,735.441 1254.16,734.26 1260.82,733.112 1267.48,731.997 1274.14,730.914 1280.8,729.863 1287.46,728.843 1294.12,727.854 1300.77,726.895 1307.43,725.966 1314.09,725.067 1320.75,724.196 1327.41,723.354 1334.07,722.539 1340.73,721.753 1347.39,720.993 1354.05,720.26 1360.71,719.553 1367.37,718.872 1374.03,718.217 1380.69,717.586 1387.35,716.98 1394.01,716.397 1400.67,715.839 1407.32,715.303 1413.98,714.791 1420.64,714.301 1427.3,713.833 1433.96,713.386 1440.62,712.961 1447.28,712.557 1453.94,712.172 1460.6,711.808 1467.26,711.464 1473.92,711.139 1480.58,710.833 1487.24,710.545 1493.9,710.275 1500.56,710.024 1507.22,709.789 1513.87,709.572 1520.53,709.372 1527.19,709.188 1533.85,709.019 1540.51,708.867 1547.17,708.73 1553.83,708.608 1560.49,708.501 1567.15,708.408 1573.81,708.329 1580.47,708.264 1587.13,708.212 1593.79,708.174 1600.45,708.148 1607.11,708.134 1613.77,708.133 1620.42,708.144 1627.08,708.167 1633.74,708.201 1640.4,708.246 1647.06,708.301 1653.72,708.367 1660.38,708.444 1667.04,708.53 1673.7,708.626 1680.36,708.732 1687.02,708.847 1693.68,708.971 1700.34,709.103 1707,709.244 1713.66,709.393 1720.32,709.55 1726.97,709.715 1733.63,709.887 1740.29,710.067 1746.95,710.253 1753.61,710.447 1760.27,710.647 1766.93,710.854 1773.59,711.067 1780.25,711.285 1786.91,711.51 1793.57,711.74 1800.23,711.976 1806.89,712.217 1813.55,712.463 1820.21,712.713 1826.87,712.969 1833.52,713.229 1840.18,713.493 1846.84,713.762 1853.5,714.034 1860.16,714.31 1866.82,714.59 1873.48,714.874 1880.14,715.16 1886.8,715.451 1893.46,715.744 1900.12,716.04 1906.78,716.338 1913.44,716.64 1920.1,716.944 1926.76,717.25 1933.42,717.559 1940.07,717.869 1946.73,718.182 1953.39,718.496 1960.05,718.813 1966.71,719.131 1973.37,719.45 1980.03,719.771 1986.69,720.093 1993.35,720.417 2000.01,720.741 2006.67,721.067 2013.33,721.394 2019.99,721.721 2026.65,722.049 2033.31,722.378 2039.97,722.708 2046.62,723.037 2053.28,723.368 2059.94,723.699 2066.6,724.03 2073.26,724.361 2079.92,724.692 2086.58,725.024 2093.24,725.355 2099.9,725.687 2106.56,726.018 2113.22,726.35 2119.88,726.681 2126.54,727.011 2133.2,727.342 2139.86,727.672 2146.52,728.002 2153.17,728.331 2159.83,728.66 2166.49,728.989 2173.15,729.317 2179.81,729.644 2186.47,729.971 2193.13,730.297 2199.79,730.623 2206.45,730.948 2213.11,731.272 2219.77,731.595 2226.43,731.918 2233.09,732.24 2239.75,732.562 2246.41,732.882 2253.07,733.202 2259.72,733.522 2266.38,733.84 2273.04,734.158 2279.7,734.474 2286.36,734.791 2293.02,735.106 \"/>\n<polyline clip-path=\"url(#clip972)\" style=\"stroke:#3da44d; stroke-linecap:round; stroke-linejoin:round; stroke-width:4; stroke-opacity:1; fill:none\" points=\"301.869,551.449 308.529,540.452 315.188,529.754 321.847,519.351 328.507,509.239 335.166,499.414 341.825,489.872 348.485,480.609 355.144,471.621 361.804,462.904 368.463,454.453 375.122,446.266 381.782,438.337 388.441,430.664 395.1,423.243 401.76,416.068 408.419,409.138 415.079,402.447 421.738,395.993 428.397,389.771 435.057,383.778 441.716,378.01 448.375,372.464 455.035,367.136 461.694,362.022 468.354,357.118 475.013,352.423 481.672,347.931 488.332,343.639 494.991,339.544 501.65,335.644 508.31,331.933 514.969,328.409 521.628,325.069 528.288,321.909 534.947,318.927 541.607,316.118 548.266,313.48 554.925,311.01 561.585,308.705 568.244,306.561 574.903,304.576 581.563,302.746 588.222,301.069 594.882,299.541 601.541,298.16 608.2,296.923 614.86,295.827 621.519,294.869 628.178,294.047 634.838,293.357 641.497,292.797 648.157,292.365 654.816,292.057 661.475,291.872 668.135,291.806 674.794,291.857 681.453,292.022 688.113,292.3 694.772,292.687 701.432,293.181 708.091,293.78 714.75,294.482 721.41,295.283 728.069,296.183 734.728,297.178 741.388,298.267 748.047,299.446 754.706,300.715 761.366,302.07 768.025,303.511 774.685,305.034 781.344,306.638 788.003,308.321 794.663,310.08 801.322,311.914 807.981,313.822 814.641,315.8 821.3,317.847 827.96,319.962 834.619,322.143 841.278,324.387 847.938,326.693 854.597,329.06 861.256,331.485 867.916,333.968 874.575,336.506 881.235,339.098 887.894,341.742 894.553,344.437 901.213,347.181 907.872,349.973 914.531,352.812 921.191,355.695 927.85,358.622 934.51,361.591 941.169,364.601 947.828,367.651 954.488,370.739 961.147,373.864 967.806,377.024 974.466,380.219 981.125,383.448 987.785,386.708 994.444,390 1001.1,393.322 1007.76,396.672 1014.42,400.05 1021.08,403.455 1027.74,406.886 1034.4,410.341 1041.06,413.821 1047.72,417.323 1054.38,420.847 1061.04,424.392 1067.7,427.957 1074.36,431.541 1081.02,435.144 1087.68,438.764 1094.33,442.401 1100.99,446.054 1107.65,449.722 1114.31,453.405 1120.97,457.102 1127.63,460.812 1134.29,464.534 1140.95,468.268 1147.61,472.014 1154.27,475.769 1160.93,479.535 1167.59,483.31 1174.25,487.094 1180.91,490.886 1187.57,494.686 1194.23,498.494 1200.88,502.307 1207.54,506.128 1214.2,509.953 1220.86,513.785 1227.52,517.621 1234.18,521.462 1240.84,525.307 1247.5,529.155 1254.16,533.007 1260.82,536.862 1267.48,540.72 1274.14,544.58 1280.8,548.442 1287.46,552.306 1294.12,556.171 1300.77,560.038 1307.43,563.906 1314.09,567.774 1320.75,571.643 1327.41,575.512 1334.07,579.381 1340.73,583.251 1347.39,587.119 1354.05,590.988 1360.71,594.856 1367.37,598.723 1374.03,602.589 1380.69,606.454 1387.35,610.318 1394.01,614.181 1400.67,618.042 1407.32,621.902 1413.98,625.761 1420.64,629.618 1427.3,633.473 1433.96,637.327 1440.62,641.179 1447.28,645.029 1453.94,648.877 1460.6,652.724 1467.26,656.569 1473.92,660.412 1480.58,664.253 1487.24,668.093 1493.9,671.93 1500.56,675.766 1507.22,679.6 1513.87,683.433 1520.53,687.263 1527.19,691.092 1533.85,694.92 1540.51,698.745 1547.17,702.557 1553.83,706.334 1560.49,710.059 1567.15,713.713 1573.81,717.283 1580.47,720.757 1587.13,724.124 1593.79,727.375 1600.45,730.504 1607.11,733.503 1613.77,736.37 1620.42,739.101 1627.08,741.694 1633.74,744.147 1640.4,746.461 1647.06,748.636 1653.72,750.674 1660.38,752.576 1667.04,754.346 1673.7,755.987 1680.36,757.501 1687.02,758.894 1693.68,760.169 1700.34,761.331 1707,762.385 1713.66,763.336 1720.32,764.188 1726.97,764.948 1733.63,765.619 1740.29,766.208 1746.95,766.719 1753.61,767.158 1760.27,767.53 1766.93,767.841 1773.59,768.094 1780.25,768.296 1786.91,768.451 1793.57,768.563 1800.23,768.638 1806.89,768.679 1813.55,768.692 1820.21,768.679 1826.87,768.646 1833.52,768.595 1840.18,768.531 1846.84,768.456 1853.5,768.373 1860.16,768.287 1866.82,768.2 1873.48,768.112 1880.14,768.025 1886.8,767.938 1893.46,767.851 1900.12,767.764 1906.78,767.677 1913.44,767.59 1920.1,767.504 1926.76,767.417 1933.42,767.331 1940.07,767.245 1946.73,767.159 1953.39,767.073 1960.05,766.987 1966.71,766.901 1973.37,766.815 1980.03,766.73 1986.69,766.644 1993.35,766.559 2000.01,766.474 2006.67,766.389 2013.33,766.304 2019.99,766.219 2026.65,766.134 2033.31,766.049 2039.97,765.965 2046.62,765.88 2053.28,765.795 2059.94,765.711 2066.6,765.626 2073.26,765.542 2079.92,765.458 2086.58,765.374 2093.24,765.289 2099.9,765.205 2106.56,765.121 2113.22,765.037 2119.88,764.953 2126.54,764.869 2133.2,764.785 2139.86,764.701 2146.52,764.617 2153.17,764.533 2159.83,764.449 2166.49,764.365 2173.15,764.281 2179.81,764.198 2186.47,764.114 2193.13,764.03 2199.79,763.946 2206.45,763.862 2213.11,763.778 2219.77,763.694 2226.43,763.61 2233.09,763.526 2239.75,763.442 2246.41,763.358 2253.07,763.273 2259.72,763.189 2266.38,763.105 2273.04,763.021 2279.7,762.936 2286.36,762.852 2293.02,762.768 \"/>\n<path clip-path=\"url(#clip970)\" d=\"M2028.72 374.156 L2282.4 374.156 L2282.4 166.796 L2028.72 166.796  Z\" fill=\"#ffffff\" fill-rule=\"evenodd\" fill-opacity=\"1\"/>\n<polyline clip-path=\"url(#clip970)\" style=\"stroke:#000000; stroke-linecap:round; stroke-linejoin:round; stroke-width:4; stroke-opacity:1; fill:none\" points=\"2028.72,374.156 2282.4,374.156 2282.4,166.796 2028.72,166.796 2028.72,374.156 \"/>\n<polyline clip-path=\"url(#clip970)\" style=\"stroke:#009af9; stroke-linecap:round; stroke-linejoin:round; stroke-width:4; stroke-opacity:1; fill:none\" points=\"2052.18,218.636 2192.88,218.636 \"/>\n<path clip-path=\"url(#clip970)\" d=\"M2216.34 225.684 L2216.34 209.99 L2220.59 209.99 L2220.59 225.522 Q2220.59 229.203 2222.03 231.055 Q2223.46 232.883 2226.33 232.883 Q2229.78 232.883 2231.77 230.684 Q2233.79 228.485 2233.79 224.689 L2233.79 209.99 L2238.05 209.99 L2238.05 235.916 L2233.79 235.916 L2233.79 231.934 Q2232.24 234.295 2230.18 235.453 Q2228.14 236.587 2225.43 236.587 Q2220.96 236.587 2218.65 233.809 Q2216.34 231.031 2216.34 225.684 M2227.05 209.365 L2227.05 209.365 Z\" fill=\"#000000\" fill-rule=\"evenodd\" fill-opacity=\"1\" /><path clip-path=\"url(#clip970)\" d=\"M2245.96 233.369 L2250.69 233.369 L2250.69 219.226 L2245.52 220.175 L2245.52 217.49 L2250.85 216.587 L2254.02 216.587 L2254.02 233.369 L2258.77 233.369 L2258.77 235.916 L2245.96 235.916 L2245.96 233.369 Z\" fill=\"#000000\" fill-rule=\"evenodd\" fill-opacity=\"1\" /><polyline clip-path=\"url(#clip970)\" style=\"stroke:#e26f46; stroke-linecap:round; stroke-linejoin:round; stroke-width:4; stroke-opacity:1; fill:none\" points=\"2052.18,270.476 2192.88,270.476 \"/>\n<path clip-path=\"url(#clip970)\" d=\"M2216.34 277.524 L2216.34 261.83 L2220.59 261.83 L2220.59 277.362 Q2220.59 281.043 2222.03 282.895 Q2223.46 284.723 2226.33 284.723 Q2229.78 284.723 2231.77 282.524 Q2233.79 280.325 2233.79 276.529 L2233.79 261.83 L2238.05 261.83 L2238.05 287.756 L2233.79 287.756 L2233.79 283.774 Q2232.24 286.135 2230.18 287.293 Q2228.14 288.427 2225.43 288.427 Q2220.96 288.427 2218.65 285.649 Q2216.34 282.871 2216.34 277.524 M2227.05 261.205 L2227.05 261.205 Z\" fill=\"#000000\" fill-rule=\"evenodd\" fill-opacity=\"1\" /><path clip-path=\"url(#clip970)\" d=\"M2248.56 285.117 L2258.37 285.117 L2258.37 287.756 L2244.53 287.756 L2244.53 285.209 Q2245.32 284.492 2246.77 283.196 Q2254.74 276.135 2254.74 273.959 Q2254.74 272.432 2253.53 271.506 Q2252.33 270.557 2250.36 270.557 Q2249.16 270.557 2247.75 270.973 Q2246.33 271.367 2244.67 272.177 L2244.67 269.33 Q2246.45 268.682 2247.98 268.358 Q2249.53 268.034 2250.85 268.034 Q2254.21 268.034 2256.22 269.561 Q2258.23 271.089 2258.23 273.589 Q2258.23 276.807 2250.57 283.381 Q2249.27 284.492 2248.56 285.117 Z\" fill=\"#000000\" fill-rule=\"evenodd\" fill-opacity=\"1\" /><polyline clip-path=\"url(#clip970)\" style=\"stroke:#3da44d; stroke-linecap:round; stroke-linejoin:round; stroke-width:4; stroke-opacity:1; fill:none\" points=\"2052.18,322.316 2192.88,322.316 \"/>\n<path clip-path=\"url(#clip970)\" d=\"M2216.34 329.364 L2216.34 313.67 L2220.59 313.67 L2220.59 329.202 Q2220.59 332.883 2222.03 334.735 Q2223.46 336.563 2226.33 336.563 Q2229.78 336.563 2231.77 334.364 Q2233.79 332.165 2233.79 328.369 L2233.79 313.67 L2238.05 313.67 L2238.05 339.596 L2233.79 339.596 L2233.79 335.614 Q2232.24 337.975 2230.18 339.133 Q2228.14 340.267 2225.43 340.267 Q2220.96 340.267 2218.65 337.489 Q2216.34 334.711 2216.34 329.364 M2227.05 313.045 L2227.05 313.045 Z\" fill=\"#000000\" fill-rule=\"evenodd\" fill-opacity=\"1\" /><path clip-path=\"url(#clip970)\" d=\"M2254.48 329.133 Q2256.61 329.549 2257.77 330.823 Q2258.95 332.073 2258.95 333.971 Q2258.95 336.841 2256.75 338.392 Q2254.55 339.943 2250.46 339.943 Q2249.14 339.943 2247.68 339.688 Q2246.24 339.457 2244.62 338.994 L2244.62 336.193 Q2245.83 336.818 2247.19 337.119 Q2248.58 337.42 2250.13 337.42 Q2252.65 337.42 2254.04 336.517 Q2255.43 335.591 2255.43 333.971 Q2255.43 332.258 2254.14 331.378 Q2252.86 330.499 2250.36 330.499 L2248.37 330.499 L2248.37 327.999 L2250.55 327.999 Q2252.72 327.999 2253.83 327.281 Q2254.97 326.54 2254.97 325.151 Q2254.97 323.809 2253.81 323.114 Q2252.65 322.397 2250.46 322.397 Q2249.53 322.397 2248.35 322.605 Q2247.17 322.813 2245.29 323.346 L2245.29 320.684 Q2246.98 320.29 2248.46 320.082 Q2249.95 319.874 2251.22 319.874 Q2254.55 319.874 2256.5 321.239 Q2258.46 322.605 2258.46 324.897 Q2258.46 326.494 2257.42 327.605 Q2256.38 328.716 2254.48 329.133 Z\" fill=\"#000000\" fill-rule=\"evenodd\" fill-opacity=\"1\" /></svg>\n"
     },
     "metadata": {},
     "output_type": "display_data"
    }
   ],
   "source": [
    "Xtest = [deepcopy(x0) for i = 1:N]\n",
    "for k = 1:N-1\n",
    "  Xtest[k+1] = discrete_dynamics(params, Xtest[k], Un[k], k)\n",
    "end\n",
    "Xsim_m = mat_from_vec(Xtest)\n",
    "Usim_m = mat_from_vec(Un)\n",
    "display(plot(t_vec,Xsim_m',label = [\"x₁\" \"x₂\" \"x₃\" \"ẋ₁\" \"ẋ₂\" \"ẋ₃\"],linestyle=[:solid :solid :solid :dash :dash :dash],\n",
    "             title = \"State History\",\n",
    "             xlabel = \"time (s)\", ylabel = \"x\"))\n",
    "display(plot(t_vec[1:end-1],Usim_m',label = [\"u₁\" \"u₂\" \"u₃\"],\n",
    "             title = \"Input History\",\n",
    "             xlabel = \"time (s)\", ylabel = \"u\"))"
   ]
  },
  {
   "cell_type": "code",
   "execution_count": 12,
   "id": "68975019",
   "metadata": {},
   "outputs": [
    {
     "name": "stdout",
     "output_type": "stream",
     "text": [
      "iter     J           ΔJ        |d|         α        reg         ρ\n",
      "---------------------------------------------------------------------\n",
      "  1    0.000e+00   3.11e-02   0.00e+00  0.0000    0.00e+00    1.00e+02\n",
      "convio = 0.9888013658547867\n",
      "  2    0.000e+00   8.07e-03   0.00e+00  0.0000    0.00e+00    1.00e+03\n",
      "convio = 0.9988632804581471\n",
      "  3    0.000e+00   5.74e-03   0.00e+00  0.0000    0.00e+00    1.00e+04\n",
      "convio = 0.9998861560734462\n",
      "  4    0.000e+00   5.50e-03   0.00e+00  0.0000    0.00e+00    1.00e+05\n",
      "convio = 0.9999886138841276\n",
      "  5    0.000e+00   5.48e-03   0.00e+00  0.0000    0.00e+00    1.00e+06\n",
      "convio = 0.9999988613711771\n",
      "  6    0.000e+00   5.48e-03   0.00e+00  0.0000    0.00e+00    1.00e+07\n",
      "convio = 0.9999998861369453\n",
      "  7    0.000e+00   5.48e-03   0.00e+00  0.0000    0.00e+00    1.00e+08\n",
      "convio = 0.9999999886136928\n",
      "Our solver reachs MAX PENALTY\n"
     ]
    },
    {
     "data": {
      "image/svg+xml": "<?xml version=\"1.0\" encoding=\"utf-8\"?>\n<svg xmlns=\"http://www.w3.org/2000/svg\" xmlns:xlink=\"http://www.w3.org/1999/xlink\" width=\"600\" height=\"400\" viewBox=\"0 0 2400 1600\">\n<defs>\n  <clipPath id=\"clip490\">\n    <rect x=\"0\" y=\"0\" width=\"2400\" height=\"1600\"/>\n  </clipPath>\n</defs>\n<path clip-path=\"url(#clip490)\" d=\"M0 1600 L2400 1600 L2400 0 L0 0  Z\" fill=\"#ffffff\" fill-rule=\"evenodd\" fill-opacity=\"1\"/>\n<defs>\n  <clipPath id=\"clip491\">\n    <rect x=\"480\" y=\"0\" width=\"1681\" height=\"1600\"/>\n  </clipPath>\n</defs>\n<path clip-path=\"url(#clip490)\" d=\"M286.139 1423.18 L2352.76 1423.18 L2352.76 123.472 L286.139 123.472  Z\" fill=\"#ffffff\" fill-rule=\"evenodd\" fill-opacity=\"1\"/>\n<defs>\n  <clipPath id=\"clip492\">\n    <rect x=\"286\" y=\"123\" width=\"2068\" height=\"1301\"/>\n  </clipPath>\n</defs>\n<polyline clip-path=\"url(#clip492)\" style=\"stroke:#000000; stroke-linecap:round; stroke-linejoin:round; stroke-width:2; stroke-opacity:0.1; fill:none\" points=\"344.628,1423.18 344.628,123.472 \"/>\n<polyline clip-path=\"url(#clip492)\" style=\"stroke:#000000; stroke-linecap:round; stroke-linejoin:round; stroke-width:2; stroke-opacity:0.1; fill:none\" points=\"680.773,1423.18 680.773,123.472 \"/>\n<polyline clip-path=\"url(#clip492)\" style=\"stroke:#000000; stroke-linecap:round; stroke-linejoin:round; stroke-width:2; stroke-opacity:0.1; fill:none\" points=\"1016.92,1423.18 1016.92,123.472 \"/>\n<polyline clip-path=\"url(#clip492)\" style=\"stroke:#000000; stroke-linecap:round; stroke-linejoin:round; stroke-width:2; stroke-opacity:0.1; fill:none\" points=\"1353.06,1423.18 1353.06,123.472 \"/>\n<polyline clip-path=\"url(#clip492)\" style=\"stroke:#000000; stroke-linecap:round; stroke-linejoin:round; stroke-width:2; stroke-opacity:0.1; fill:none\" points=\"1689.21,1423.18 1689.21,123.472 \"/>\n<polyline clip-path=\"url(#clip492)\" style=\"stroke:#000000; stroke-linecap:round; stroke-linejoin:round; stroke-width:2; stroke-opacity:0.1; fill:none\" points=\"2025.35,1423.18 2025.35,123.472 \"/>\n<polyline clip-path=\"url(#clip490)\" style=\"stroke:#000000; stroke-linecap:round; stroke-linejoin:round; stroke-width:4; stroke-opacity:1; fill:none\" points=\"286.139,1423.18 2352.76,1423.18 \"/>\n<polyline clip-path=\"url(#clip490)\" style=\"stroke:#000000; stroke-linecap:round; stroke-linejoin:round; stroke-width:4; stroke-opacity:1; fill:none\" points=\"344.628,1423.18 344.628,1404.28 \"/>\n<polyline clip-path=\"url(#clip490)\" style=\"stroke:#000000; stroke-linecap:round; stroke-linejoin:round; stroke-width:4; stroke-opacity:1; fill:none\" points=\"680.773,1423.18 680.773,1404.28 \"/>\n<polyline clip-path=\"url(#clip490)\" style=\"stroke:#000000; stroke-linecap:round; stroke-linejoin:round; stroke-width:4; stroke-opacity:1; fill:none\" points=\"1016.92,1423.18 1016.92,1404.28 \"/>\n<polyline clip-path=\"url(#clip490)\" style=\"stroke:#000000; stroke-linecap:round; stroke-linejoin:round; stroke-width:4; stroke-opacity:1; fill:none\" points=\"1353.06,1423.18 1353.06,1404.28 \"/>\n<polyline clip-path=\"url(#clip490)\" style=\"stroke:#000000; stroke-linecap:round; stroke-linejoin:round; stroke-width:4; stroke-opacity:1; fill:none\" points=\"1689.21,1423.18 1689.21,1404.28 \"/>\n<polyline clip-path=\"url(#clip490)\" style=\"stroke:#000000; stroke-linecap:round; stroke-linejoin:round; stroke-width:4; stroke-opacity:1; fill:none\" points=\"2025.35,1423.18 2025.35,1404.28 \"/>\n<path clip-path=\"url(#clip490)\" d=\"M322.013 1454.1 Q318.402 1454.1 316.573 1457.66 Q314.767 1461.2 314.767 1468.33 Q314.767 1475.44 316.573 1479.01 Q318.402 1482.55 322.013 1482.55 Q325.647 1482.55 327.452 1479.01 Q329.281 1475.44 329.281 1468.33 Q329.281 1461.2 327.452 1457.66 Q325.647 1454.1 322.013 1454.1 M322.013 1450.39 Q327.823 1450.39 330.878 1455 Q333.957 1459.58 333.957 1468.33 Q333.957 1477.06 330.878 1481.67 Q327.823 1486.25 322.013 1486.25 Q316.202 1486.25 313.124 1481.67 Q310.068 1477.06 310.068 1468.33 Q310.068 1459.58 313.124 1455 Q316.202 1450.39 322.013 1450.39 Z\" fill=\"#000000\" fill-rule=\"evenodd\" fill-opacity=\"1\" /><path clip-path=\"url(#clip490)\" d=\"M342.175 1479.7 L347.059 1479.7 L347.059 1485.58 L342.175 1485.58 L342.175 1479.7 Z\" fill=\"#000000\" fill-rule=\"evenodd\" fill-opacity=\"1\" /><path clip-path=\"url(#clip490)\" d=\"M367.244 1454.1 Q363.633 1454.1 361.804 1457.66 Q359.999 1461.2 359.999 1468.33 Q359.999 1475.44 361.804 1479.01 Q363.633 1482.55 367.244 1482.55 Q370.878 1482.55 372.684 1479.01 Q374.512 1475.44 374.512 1468.33 Q374.512 1461.2 372.684 1457.66 Q370.878 1454.1 367.244 1454.1 M367.244 1450.39 Q373.054 1450.39 376.11 1455 Q379.188 1459.58 379.188 1468.33 Q379.188 1477.06 376.11 1481.67 Q373.054 1486.25 367.244 1486.25 Q361.434 1486.25 358.355 1481.67 Q355.299 1477.06 355.299 1468.33 Q355.299 1459.58 358.355 1455 Q361.434 1450.39 367.244 1450.39 Z\" fill=\"#000000\" fill-rule=\"evenodd\" fill-opacity=\"1\" /><path clip-path=\"url(#clip490)\" d=\"M658.655 1454.1 Q655.044 1454.1 653.215 1457.66 Q651.41 1461.2 651.41 1468.33 Q651.41 1475.44 653.215 1479.01 Q655.044 1482.55 658.655 1482.55 Q662.289 1482.55 664.095 1479.01 Q665.923 1475.44 665.923 1468.33 Q665.923 1461.2 664.095 1457.66 Q662.289 1454.1 658.655 1454.1 M658.655 1450.39 Q664.465 1450.39 667.521 1455 Q670.599 1459.58 670.599 1468.33 Q670.599 1477.06 667.521 1481.67 Q664.465 1486.25 658.655 1486.25 Q652.845 1486.25 649.766 1481.67 Q646.71 1477.06 646.71 1468.33 Q646.71 1459.58 649.766 1455 Q652.845 1450.39 658.655 1450.39 Z\" fill=\"#000000\" fill-rule=\"evenodd\" fill-opacity=\"1\" /><path clip-path=\"url(#clip490)\" d=\"M678.817 1479.7 L683.701 1479.7 L683.701 1485.58 L678.817 1485.58 L678.817 1479.7 Z\" fill=\"#000000\" fill-rule=\"evenodd\" fill-opacity=\"1\" /><path clip-path=\"url(#clip490)\" d=\"M693.932 1451.02 L712.289 1451.02 L712.289 1454.96 L698.215 1454.96 L698.215 1463.43 Q699.233 1463.08 700.252 1462.92 Q701.27 1462.73 702.289 1462.73 Q708.076 1462.73 711.455 1465.9 Q714.835 1469.08 714.835 1474.49 Q714.835 1480.07 711.363 1483.17 Q707.891 1486.25 701.571 1486.25 Q699.395 1486.25 697.127 1485.88 Q694.882 1485.51 692.474 1484.77 L692.474 1480.07 Q694.557 1481.2 696.78 1481.76 Q699.002 1482.32 701.479 1482.32 Q705.483 1482.32 707.821 1480.21 Q710.159 1478.1 710.159 1474.49 Q710.159 1470.88 707.821 1468.77 Q705.483 1466.67 701.479 1466.67 Q699.604 1466.67 697.729 1467.08 Q695.877 1467.5 693.932 1468.38 L693.932 1451.02 Z\" fill=\"#000000\" fill-rule=\"evenodd\" fill-opacity=\"1\" /><path clip-path=\"url(#clip490)\" d=\"M984.07 1481.64 L991.709 1481.64 L991.709 1455.28 L983.399 1456.95 L983.399 1452.69 L991.663 1451.02 L996.339 1451.02 L996.339 1481.64 L1003.98 1481.64 L1003.98 1485.58 L984.07 1485.58 L984.07 1481.64 Z\" fill=\"#000000\" fill-rule=\"evenodd\" fill-opacity=\"1\" /><path clip-path=\"url(#clip490)\" d=\"M1013.42 1479.7 L1018.31 1479.7 L1018.31 1485.58 L1013.42 1485.58 L1013.42 1479.7 Z\" fill=\"#000000\" fill-rule=\"evenodd\" fill-opacity=\"1\" /><path clip-path=\"url(#clip490)\" d=\"M1038.49 1454.1 Q1034.88 1454.1 1033.05 1457.66 Q1031.25 1461.2 1031.25 1468.33 Q1031.25 1475.44 1033.05 1479.01 Q1034.88 1482.55 1038.49 1482.55 Q1042.13 1482.55 1043.93 1479.01 Q1045.76 1475.44 1045.76 1468.33 Q1045.76 1461.2 1043.93 1457.66 Q1042.13 1454.1 1038.49 1454.1 M1038.49 1450.39 Q1044.3 1450.39 1047.36 1455 Q1050.44 1459.58 1050.44 1468.33 Q1050.44 1477.06 1047.36 1481.67 Q1044.3 1486.25 1038.49 1486.25 Q1032.68 1486.25 1029.6 1481.67 Q1026.55 1477.06 1026.55 1468.33 Q1026.55 1459.58 1029.6 1455 Q1032.68 1450.39 1038.49 1450.39 Z\" fill=\"#000000\" fill-rule=\"evenodd\" fill-opacity=\"1\" /><path clip-path=\"url(#clip490)\" d=\"M1320.71 1481.64 L1328.35 1481.64 L1328.35 1455.28 L1320.04 1456.95 L1320.04 1452.69 L1328.31 1451.02 L1332.98 1451.02 L1332.98 1481.64 L1340.62 1481.64 L1340.62 1485.58 L1320.71 1485.58 L1320.71 1481.64 Z\" fill=\"#000000\" fill-rule=\"evenodd\" fill-opacity=\"1\" /><path clip-path=\"url(#clip490)\" d=\"M1350.06 1479.7 L1354.95 1479.7 L1354.95 1485.58 L1350.06 1485.58 L1350.06 1479.7 Z\" fill=\"#000000\" fill-rule=\"evenodd\" fill-opacity=\"1\" /><path clip-path=\"url(#clip490)\" d=\"M1365.18 1451.02 L1383.54 1451.02 L1383.54 1454.96 L1369.46 1454.96 L1369.46 1463.43 Q1370.48 1463.08 1371.5 1462.92 Q1372.52 1462.73 1373.54 1462.73 Q1379.32 1462.73 1382.7 1465.9 Q1386.08 1469.08 1386.08 1474.49 Q1386.08 1480.07 1382.61 1483.17 Q1379.14 1486.25 1372.82 1486.25 Q1370.64 1486.25 1368.37 1485.88 Q1366.13 1485.51 1363.72 1484.77 L1363.72 1480.07 Q1365.8 1481.2 1368.03 1481.76 Q1370.25 1482.32 1372.73 1482.32 Q1376.73 1482.32 1379.07 1480.21 Q1381.41 1478.1 1381.41 1474.49 Q1381.41 1470.88 1379.07 1468.77 Q1376.73 1466.67 1372.73 1466.67 Q1370.85 1466.67 1368.98 1467.08 Q1367.12 1467.5 1365.18 1468.38 L1365.18 1451.02 Z\" fill=\"#000000\" fill-rule=\"evenodd\" fill-opacity=\"1\" /><path clip-path=\"url(#clip490)\" d=\"M1660.45 1481.64 L1676.76 1481.64 L1676.76 1485.58 L1654.82 1485.58 L1654.82 1481.64 Q1657.48 1478.89 1662.07 1474.26 Q1666.67 1469.61 1667.85 1468.27 Q1670.1 1465.74 1670.98 1464.01 Q1671.88 1462.25 1671.88 1460.56 Q1671.88 1457.8 1669.94 1456.07 Q1668.01 1454.33 1664.91 1454.33 Q1662.71 1454.33 1660.26 1455.09 Q1657.83 1455.86 1655.05 1457.41 L1655.05 1452.69 Q1657.88 1451.55 1660.33 1450.97 Q1662.78 1450.39 1664.82 1450.39 Q1670.19 1450.39 1673.38 1453.08 Q1676.58 1455.77 1676.58 1460.26 Q1676.58 1462.39 1675.77 1464.31 Q1674.98 1466.2 1672.88 1468.8 Q1672.3 1469.47 1669.2 1472.69 Q1666.09 1475.88 1660.45 1481.64 Z\" fill=\"#000000\" fill-rule=\"evenodd\" fill-opacity=\"1\" /><path clip-path=\"url(#clip490)\" d=\"M1686.58 1479.7 L1691.46 1479.7 L1691.46 1485.58 L1686.58 1485.58 L1686.58 1479.7 Z\" fill=\"#000000\" fill-rule=\"evenodd\" fill-opacity=\"1\" /><path clip-path=\"url(#clip490)\" d=\"M1711.65 1454.1 Q1708.04 1454.1 1706.21 1457.66 Q1704.4 1461.2 1704.4 1468.33 Q1704.4 1475.44 1706.21 1479.01 Q1708.04 1482.55 1711.65 1482.55 Q1715.28 1482.55 1717.09 1479.01 Q1718.92 1475.44 1718.92 1468.33 Q1718.92 1461.2 1717.09 1457.66 Q1715.28 1454.1 1711.65 1454.1 M1711.65 1450.39 Q1717.46 1450.39 1720.51 1455 Q1723.59 1459.58 1723.59 1468.33 Q1723.59 1477.06 1720.51 1481.67 Q1717.46 1486.25 1711.65 1486.25 Q1705.84 1486.25 1702.76 1481.67 Q1699.7 1477.06 1699.7 1468.33 Q1699.7 1459.58 1702.76 1455 Q1705.84 1450.39 1711.65 1450.39 Z\" fill=\"#000000\" fill-rule=\"evenodd\" fill-opacity=\"1\" /><path clip-path=\"url(#clip490)\" d=\"M1997.09 1481.64 L2013.41 1481.64 L2013.41 1485.58 L1991.46 1485.58 L1991.46 1481.64 Q1994.12 1478.89 1998.71 1474.26 Q2003.31 1469.61 2004.49 1468.27 Q2006.74 1465.74 2007.62 1464.01 Q2008.52 1462.25 2008.52 1460.56 Q2008.52 1457.8 2006.58 1456.07 Q2004.66 1454.33 2001.55 1454.33 Q1999.36 1454.33 1996.9 1455.09 Q1994.47 1455.86 1991.69 1457.41 L1991.69 1452.69 Q1994.52 1451.55 1996.97 1450.97 Q1999.43 1450.39 2001.46 1450.39 Q2006.83 1450.39 2010.03 1453.08 Q2013.22 1455.77 2013.22 1460.26 Q2013.22 1462.39 2012.41 1464.31 Q2011.62 1466.2 2009.52 1468.8 Q2008.94 1469.47 2005.84 1472.69 Q2002.74 1475.88 1997.09 1481.64 Z\" fill=\"#000000\" fill-rule=\"evenodd\" fill-opacity=\"1\" /><path clip-path=\"url(#clip490)\" d=\"M2023.22 1479.7 L2028.11 1479.7 L2028.11 1485.58 L2023.22 1485.58 L2023.22 1479.7 Z\" fill=\"#000000\" fill-rule=\"evenodd\" fill-opacity=\"1\" /><path clip-path=\"url(#clip490)\" d=\"M2038.34 1451.02 L2056.69 1451.02 L2056.69 1454.96 L2042.62 1454.96 L2042.62 1463.43 Q2043.64 1463.08 2044.66 1462.92 Q2045.68 1462.73 2046.69 1462.73 Q2052.48 1462.73 2055.86 1465.9 Q2059.24 1469.08 2059.24 1474.49 Q2059.24 1480.07 2055.77 1483.17 Q2052.3 1486.25 2045.98 1486.25 Q2043.8 1486.25 2041.53 1485.88 Q2039.29 1485.51 2036.88 1484.77 L2036.88 1480.07 Q2038.96 1481.2 2041.18 1481.76 Q2043.41 1482.32 2045.88 1482.32 Q2049.89 1482.32 2052.23 1480.21 Q2054.56 1478.1 2054.56 1474.49 Q2054.56 1470.88 2052.23 1468.77 Q2049.89 1466.67 2045.88 1466.67 Q2044.01 1466.67 2042.13 1467.08 Q2040.28 1467.5 2038.34 1468.38 L2038.34 1451.02 Z\" fill=\"#000000\" fill-rule=\"evenodd\" fill-opacity=\"1\" /><path clip-path=\"url(#clip490)\" d=\"M1206.9 1522.27 L1206.9 1532.4 L1218.96 1532.4 L1218.96 1536.95 L1206.9 1536.95 L1206.9 1556.3 Q1206.9 1560.66 1208.08 1561.9 Q1209.29 1563.14 1212.95 1563.14 L1218.96 1563.14 L1218.96 1568.04 L1212.95 1568.04 Q1206.17 1568.04 1203.59 1565.53 Q1201.01 1562.98 1201.01 1556.3 L1201.01 1536.95 L1196.72 1536.95 L1196.72 1532.4 L1201.01 1532.4 L1201.01 1522.27 L1206.9 1522.27 Z\" fill=\"#000000\" fill-rule=\"evenodd\" fill-opacity=\"1\" /><path clip-path=\"url(#clip490)\" d=\"M1226.67 1532.4 L1232.52 1532.4 L1232.52 1568.04 L1226.67 1568.04 L1226.67 1532.4 M1226.67 1518.52 L1232.52 1518.52 L1232.52 1525.93 L1226.67 1525.93 L1226.67 1518.52 Z\" fill=\"#000000\" fill-rule=\"evenodd\" fill-opacity=\"1\" /><path clip-path=\"url(#clip490)\" d=\"M1272.53 1539.24 Q1274.73 1535.29 1277.78 1533.41 Q1280.84 1531.54 1284.98 1531.54 Q1290.55 1531.54 1293.57 1535.45 Q1296.59 1539.33 1296.59 1546.53 L1296.59 1568.04 L1290.71 1568.04 L1290.71 1546.72 Q1290.71 1541.59 1288.89 1539.11 Q1287.08 1536.63 1283.35 1536.63 Q1278.8 1536.63 1276.16 1539.65 Q1273.52 1542.68 1273.52 1547.9 L1273.52 1568.04 L1267.63 1568.04 L1267.63 1546.72 Q1267.63 1541.56 1265.82 1539.11 Q1264 1536.63 1260.21 1536.63 Q1255.73 1536.63 1253.08 1539.68 Q1250.44 1542.71 1250.44 1547.9 L1250.44 1568.04 L1244.55 1568.04 L1244.55 1532.4 L1250.44 1532.4 L1250.44 1537.93 Q1252.45 1534.66 1255.25 1533.1 Q1258.05 1531.54 1261.9 1531.54 Q1265.78 1531.54 1268.49 1533.51 Q1271.23 1535.48 1272.53 1539.24 Z\" fill=\"#000000\" fill-rule=\"evenodd\" fill-opacity=\"1\" /><path clip-path=\"url(#clip490)\" d=\"M1338.77 1548.76 L1338.77 1551.62 L1311.84 1551.62 Q1312.22 1557.67 1315.47 1560.85 Q1318.75 1564 1324.57 1564 Q1327.95 1564 1331.1 1563.17 Q1334.28 1562.35 1337.4 1560.69 L1337.4 1566.23 Q1334.25 1567.57 1330.94 1568.27 Q1327.63 1568.97 1324.22 1568.97 Q1315.69 1568.97 1310.69 1564 Q1305.73 1559.04 1305.73 1550.57 Q1305.73 1541.82 1310.44 1536.69 Q1315.18 1531.54 1323.2 1531.54 Q1330.4 1531.54 1334.57 1536.18 Q1338.77 1540.8 1338.77 1548.76 M1332.91 1547.04 Q1332.85 1542.23 1330.21 1539.37 Q1327.6 1536.5 1323.27 1536.5 Q1318.37 1536.5 1315.41 1539.27 Q1312.48 1542.04 1312.03 1547.07 L1332.91 1547.04 Z\" fill=\"#000000\" fill-rule=\"evenodd\" fill-opacity=\"1\" /><path clip-path=\"url(#clip490)\" d=\"M1383.17 1518.58 Q1378.9 1525.9 1376.83 1533.06 Q1374.77 1540.23 1374.77 1547.58 Q1374.77 1554.93 1376.83 1562.16 Q1378.94 1569.35 1383.17 1576.64 L1378.08 1576.64 Q1373.3 1569.16 1370.91 1561.93 Q1368.56 1554.71 1368.56 1547.58 Q1368.56 1540.48 1370.91 1533.29 Q1373.27 1526.09 1378.08 1518.58 L1383.17 1518.58 Z\" fill=\"#000000\" fill-rule=\"evenodd\" fill-opacity=\"1\" /><path clip-path=\"url(#clip490)\" d=\"M1417.26 1533.45 L1417.26 1538.98 Q1414.77 1537.71 1412.1 1537.07 Q1409.43 1536.44 1406.56 1536.44 Q1402.2 1536.44 1400.01 1537.77 Q1397.84 1539.11 1397.84 1541.79 Q1397.84 1543.82 1399.4 1545 Q1400.96 1546.15 1405.67 1547.2 L1407.68 1547.64 Q1413.91 1548.98 1416.52 1551.43 Q1419.17 1553.85 1419.17 1558.21 Q1419.17 1563.17 1415.22 1566.07 Q1411.3 1568.97 1404.43 1568.97 Q1401.57 1568.97 1398.45 1568.39 Q1395.36 1567.85 1391.92 1566.74 L1391.92 1560.69 Q1395.17 1562.38 1398.32 1563.24 Q1401.47 1564.07 1404.56 1564.07 Q1408.69 1564.07 1410.92 1562.66 Q1413.15 1561.23 1413.15 1558.65 Q1413.15 1556.27 1411.53 1554.99 Q1409.94 1553.72 1404.49 1552.54 L1402.46 1552.07 Q1397.01 1550.92 1394.59 1548.56 Q1392.18 1546.18 1392.18 1542.04 Q1392.18 1537.01 1395.74 1534.27 Q1399.31 1531.54 1405.86 1531.54 Q1409.11 1531.54 1411.97 1532.01 Q1414.84 1532.49 1417.26 1533.45 Z\" fill=\"#000000\" fill-rule=\"evenodd\" fill-opacity=\"1\" /><path clip-path=\"url(#clip490)\" d=\"M1427.57 1518.58 L1432.66 1518.58 Q1437.44 1526.09 1439.79 1533.29 Q1442.18 1540.48 1442.18 1547.58 Q1442.18 1554.71 1439.79 1561.93 Q1437.44 1569.16 1432.66 1576.64 L1427.57 1576.64 Q1431.8 1569.35 1433.87 1562.16 Q1435.97 1554.93 1435.97 1547.58 Q1435.97 1540.23 1433.87 1533.06 Q1431.8 1525.9 1427.57 1518.58 Z\" fill=\"#000000\" fill-rule=\"evenodd\" fill-opacity=\"1\" /><polyline clip-path=\"url(#clip492)\" style=\"stroke:#000000; stroke-linecap:round; stroke-linejoin:round; stroke-width:2; stroke-opacity:0.1; fill:none\" points=\"286.139,1422.56 2352.76,1422.56 \"/>\n<polyline clip-path=\"url(#clip492)\" style=\"stroke:#000000; stroke-linecap:round; stroke-linejoin:round; stroke-width:2; stroke-opacity:0.1; fill:none\" points=\"286.139,1097.94 2352.76,1097.94 \"/>\n<polyline clip-path=\"url(#clip492)\" style=\"stroke:#000000; stroke-linecap:round; stroke-linejoin:round; stroke-width:2; stroke-opacity:0.1; fill:none\" points=\"286.139,773.326 2352.76,773.326 \"/>\n<polyline clip-path=\"url(#clip492)\" style=\"stroke:#000000; stroke-linecap:round; stroke-linejoin:round; stroke-width:2; stroke-opacity:0.1; fill:none\" points=\"286.139,448.708 2352.76,448.708 \"/>\n<polyline clip-path=\"url(#clip492)\" style=\"stroke:#000000; stroke-linecap:round; stroke-linejoin:round; stroke-width:2; stroke-opacity:0.1; fill:none\" points=\"286.139,124.09 2352.76,124.09 \"/>\n<polyline clip-path=\"url(#clip490)\" style=\"stroke:#000000; stroke-linecap:round; stroke-linejoin:round; stroke-width:4; stroke-opacity:1; fill:none\" points=\"286.139,1423.18 286.139,123.472 \"/>\n<polyline clip-path=\"url(#clip490)\" style=\"stroke:#000000; stroke-linecap:round; stroke-linejoin:round; stroke-width:4; stroke-opacity:1; fill:none\" points=\"286.139,1422.56 305.037,1422.56 \"/>\n<polyline clip-path=\"url(#clip490)\" style=\"stroke:#000000; stroke-linecap:round; stroke-linejoin:round; stroke-width:4; stroke-opacity:1; fill:none\" points=\"286.139,1097.94 305.037,1097.94 \"/>\n<polyline clip-path=\"url(#clip490)\" style=\"stroke:#000000; stroke-linecap:round; stroke-linejoin:round; stroke-width:4; stroke-opacity:1; fill:none\" points=\"286.139,773.326 305.037,773.326 \"/>\n<polyline clip-path=\"url(#clip490)\" style=\"stroke:#000000; stroke-linecap:round; stroke-linejoin:round; stroke-width:4; stroke-opacity:1; fill:none\" points=\"286.139,448.708 305.037,448.708 \"/>\n<polyline clip-path=\"url(#clip490)\" style=\"stroke:#000000; stroke-linecap:round; stroke-linejoin:round; stroke-width:4; stroke-opacity:1; fill:none\" points=\"286.139,124.09 305.037,124.09 \"/>\n<path clip-path=\"url(#clip490)\" d=\"M114.631 1423.01 L144.306 1423.01 L144.306 1426.95 L114.631 1426.95 L114.631 1423.01 Z\" fill=\"#000000\" fill-rule=\"evenodd\" fill-opacity=\"1\" /><path clip-path=\"url(#clip490)\" d=\"M164.399 1408.36 Q160.788 1408.36 158.959 1411.93 Q157.153 1415.47 157.153 1422.6 Q157.153 1429.7 158.959 1433.27 Q160.788 1436.81 164.399 1436.81 Q168.033 1436.81 169.839 1433.27 Q171.667 1429.7 171.667 1422.6 Q171.667 1415.47 169.839 1411.93 Q168.033 1408.36 164.399 1408.36 M164.399 1404.66 Q170.209 1404.66 173.264 1409.26 Q176.343 1413.85 176.343 1422.6 Q176.343 1431.32 173.264 1435.93 Q170.209 1440.51 164.399 1440.51 Q158.589 1440.51 155.51 1435.93 Q152.454 1431.32 152.454 1422.6 Q152.454 1413.85 155.51 1409.26 Q158.589 1404.66 164.399 1404.66 Z\" fill=\"#000000\" fill-rule=\"evenodd\" fill-opacity=\"1\" /><path clip-path=\"url(#clip490)\" d=\"M184.561 1433.96 L189.445 1433.96 L189.445 1439.84 L184.561 1439.84 L184.561 1433.96 Z\" fill=\"#000000\" fill-rule=\"evenodd\" fill-opacity=\"1\" /><path clip-path=\"url(#clip490)\" d=\"M209.63 1408.36 Q206.019 1408.36 204.19 1411.93 Q202.385 1415.47 202.385 1422.6 Q202.385 1429.7 204.19 1433.27 Q206.019 1436.81 209.63 1436.81 Q213.264 1436.81 215.07 1433.27 Q216.898 1429.7 216.898 1422.6 Q216.898 1415.47 215.07 1411.93 Q213.264 1408.36 209.63 1408.36 M209.63 1404.66 Q215.44 1404.66 218.496 1409.26 Q221.574 1413.85 221.574 1422.6 Q221.574 1431.32 218.496 1435.93 Q215.44 1440.51 209.63 1440.51 Q203.82 1440.51 200.741 1435.93 Q197.686 1431.32 197.686 1422.6 Q197.686 1413.85 200.741 1409.26 Q203.82 1404.66 209.63 1404.66 Z\" fill=\"#000000\" fill-rule=\"evenodd\" fill-opacity=\"1\" /><path clip-path=\"url(#clip490)\" d=\"M233.82 1435.91 L250.139 1435.91 L250.139 1439.84 L228.195 1439.84 L228.195 1435.91 Q230.857 1433.15 235.44 1428.52 Q240.047 1423.87 241.227 1422.53 Q243.472 1420 244.352 1418.27 Q245.255 1416.51 245.255 1414.82 Q245.255 1412.06 243.31 1410.33 Q241.389 1408.59 238.287 1408.59 Q236.088 1408.59 233.635 1409.36 Q231.204 1410.12 228.426 1411.67 L228.426 1406.95 Q231.25 1405.81 233.704 1405.24 Q236.158 1404.66 238.195 1404.66 Q243.565 1404.66 246.759 1407.34 Q249.954 1410.03 249.954 1414.52 Q249.954 1416.65 249.144 1418.57 Q248.357 1420.47 246.25 1423.06 Q245.671 1423.73 242.57 1426.95 Q239.468 1430.14 233.82 1435.91 Z\" fill=\"#000000\" fill-rule=\"evenodd\" fill-opacity=\"1\" /><path clip-path=\"url(#clip490)\" d=\"M114.26 1098.4 L143.936 1098.4 L143.936 1102.33 L114.26 1102.33 L114.26 1098.4 Z\" fill=\"#000000\" fill-rule=\"evenodd\" fill-opacity=\"1\" /><path clip-path=\"url(#clip490)\" d=\"M164.028 1083.74 Q160.417 1083.74 158.589 1087.31 Q156.783 1090.85 156.783 1097.98 Q156.783 1105.09 158.589 1108.65 Q160.417 1112.19 164.028 1112.19 Q167.663 1112.19 169.468 1108.65 Q171.297 1105.09 171.297 1097.98 Q171.297 1090.85 169.468 1087.31 Q167.663 1083.74 164.028 1083.74 M164.028 1080.04 Q169.839 1080.04 172.894 1084.65 Q175.973 1089.23 175.973 1097.98 Q175.973 1106.71 172.894 1111.31 Q169.839 1115.9 164.028 1115.9 Q158.218 1115.9 155.14 1111.31 Q152.084 1106.71 152.084 1097.98 Q152.084 1089.23 155.14 1084.65 Q158.218 1080.04 164.028 1080.04 Z\" fill=\"#000000\" fill-rule=\"evenodd\" fill-opacity=\"1\" /><path clip-path=\"url(#clip490)\" d=\"M184.19 1109.34 L189.075 1109.34 L189.075 1115.22 L184.19 1115.22 L184.19 1109.34 Z\" fill=\"#000000\" fill-rule=\"evenodd\" fill-opacity=\"1\" /><path clip-path=\"url(#clip490)\" d=\"M209.26 1083.74 Q205.649 1083.74 203.82 1087.31 Q202.014 1090.85 202.014 1097.98 Q202.014 1105.09 203.82 1108.65 Q205.649 1112.19 209.26 1112.19 Q212.894 1112.19 214.699 1108.65 Q216.528 1105.09 216.528 1097.98 Q216.528 1090.85 214.699 1087.31 Q212.894 1083.74 209.26 1083.74 M209.26 1080.04 Q215.07 1080.04 218.125 1084.65 Q221.204 1089.23 221.204 1097.98 Q221.204 1106.71 218.125 1111.31 Q215.07 1115.9 209.26 1115.9 Q203.449 1115.9 200.371 1111.31 Q197.315 1106.71 197.315 1097.98 Q197.315 1089.23 200.371 1084.65 Q203.449 1080.04 209.26 1080.04 Z\" fill=\"#000000\" fill-rule=\"evenodd\" fill-opacity=\"1\" /><path clip-path=\"url(#clip490)\" d=\"M230.232 1111.29 L237.871 1111.29 L237.871 1084.92 L229.56 1086.59 L229.56 1082.33 L237.824 1080.66 L242.5 1080.66 L242.5 1111.29 L250.139 1111.29 L250.139 1115.22 L230.232 1115.22 L230.232 1111.29 Z\" fill=\"#000000\" fill-rule=\"evenodd\" fill-opacity=\"1\" /><path clip-path=\"url(#clip490)\" d=\"M162.802 759.125 Q159.19 759.125 157.362 762.69 Q155.556 766.231 155.556 773.361 Q155.556 780.467 157.362 784.032 Q159.19 787.574 162.802 787.574 Q166.436 787.574 168.241 784.032 Q170.07 780.467 170.07 773.361 Q170.07 766.231 168.241 762.69 Q166.436 759.125 162.802 759.125 M162.802 755.421 Q168.612 755.421 171.667 760.028 Q174.746 764.611 174.746 773.361 Q174.746 782.088 171.667 786.694 Q168.612 791.277 162.802 791.277 Q156.991 791.277 153.913 786.694 Q150.857 782.088 150.857 773.361 Q150.857 764.611 153.913 760.028 Q156.991 755.421 162.802 755.421 Z\" fill=\"#000000\" fill-rule=\"evenodd\" fill-opacity=\"1\" /><path clip-path=\"url(#clip490)\" d=\"M182.963 784.727 L187.848 784.727 L187.848 790.606 L182.963 790.606 L182.963 784.727 Z\" fill=\"#000000\" fill-rule=\"evenodd\" fill-opacity=\"1\" /><path clip-path=\"url(#clip490)\" d=\"M208.033 759.125 Q204.422 759.125 202.593 762.69 Q200.787 766.231 200.787 773.361 Q200.787 780.467 202.593 784.032 Q204.422 787.574 208.033 787.574 Q211.667 787.574 213.473 784.032 Q215.301 780.467 215.301 773.361 Q215.301 766.231 213.473 762.69 Q211.667 759.125 208.033 759.125 M208.033 755.421 Q213.843 755.421 216.898 760.028 Q219.977 764.611 219.977 773.361 Q219.977 782.088 216.898 786.694 Q213.843 791.277 208.033 791.277 Q202.223 791.277 199.144 786.694 Q196.088 782.088 196.088 773.361 Q196.088 764.611 199.144 760.028 Q202.223 755.421 208.033 755.421 Z\" fill=\"#000000\" fill-rule=\"evenodd\" fill-opacity=\"1\" /><path clip-path=\"url(#clip490)\" d=\"M238.195 759.125 Q234.584 759.125 232.755 762.69 Q230.949 766.231 230.949 773.361 Q230.949 780.467 232.755 784.032 Q234.584 787.574 238.195 787.574 Q241.829 787.574 243.634 784.032 Q245.463 780.467 245.463 773.361 Q245.463 766.231 243.634 762.69 Q241.829 759.125 238.195 759.125 M238.195 755.421 Q244.005 755.421 247.06 760.028 Q250.139 764.611 250.139 773.361 Q250.139 782.088 247.06 786.694 Q244.005 791.277 238.195 791.277 Q232.385 791.277 229.306 786.694 Q226.25 782.088 226.25 773.361 Q226.25 764.611 229.306 760.028 Q232.385 755.421 238.195 755.421 Z\" fill=\"#000000\" fill-rule=\"evenodd\" fill-opacity=\"1\" /><path clip-path=\"url(#clip490)\" d=\"M164.028 434.507 Q160.417 434.507 158.589 438.071 Q156.783 441.613 156.783 448.743 Q156.783 455.849 158.589 459.414 Q160.417 462.956 164.028 462.956 Q167.663 462.956 169.468 459.414 Q171.297 455.849 171.297 448.743 Q171.297 441.613 169.468 438.071 Q167.663 434.507 164.028 434.507 M164.028 430.803 Q169.839 430.803 172.894 435.409 Q175.973 439.993 175.973 448.743 Q175.973 457.469 172.894 462.076 Q169.839 466.659 164.028 466.659 Q158.218 466.659 155.14 462.076 Q152.084 457.469 152.084 448.743 Q152.084 439.993 155.14 435.409 Q158.218 430.803 164.028 430.803 Z\" fill=\"#000000\" fill-rule=\"evenodd\" fill-opacity=\"1\" /><path clip-path=\"url(#clip490)\" d=\"M184.19 460.108 L189.075 460.108 L189.075 465.988 L184.19 465.988 L184.19 460.108 Z\" fill=\"#000000\" fill-rule=\"evenodd\" fill-opacity=\"1\" /><path clip-path=\"url(#clip490)\" d=\"M209.26 434.507 Q205.649 434.507 203.82 438.071 Q202.014 441.613 202.014 448.743 Q202.014 455.849 203.82 459.414 Q205.649 462.956 209.26 462.956 Q212.894 462.956 214.699 459.414 Q216.528 455.849 216.528 448.743 Q216.528 441.613 214.699 438.071 Q212.894 434.507 209.26 434.507 M209.26 430.803 Q215.07 430.803 218.125 435.409 Q221.204 439.993 221.204 448.743 Q221.204 457.469 218.125 462.076 Q215.07 466.659 209.26 466.659 Q203.449 466.659 200.371 462.076 Q197.315 457.469 197.315 448.743 Q197.315 439.993 200.371 435.409 Q203.449 430.803 209.26 430.803 Z\" fill=\"#000000\" fill-rule=\"evenodd\" fill-opacity=\"1\" /><path clip-path=\"url(#clip490)\" d=\"M230.232 462.053 L237.871 462.053 L237.871 435.687 L229.56 437.354 L229.56 433.095 L237.824 431.428 L242.5 431.428 L242.5 462.053 L250.139 462.053 L250.139 465.988 L230.232 465.988 L230.232 462.053 Z\" fill=\"#000000\" fill-rule=\"evenodd\" fill-opacity=\"1\" /><path clip-path=\"url(#clip490)\" d=\"M164.399 109.888 Q160.788 109.888 158.959 113.453 Q157.153 116.995 157.153 124.124 Q157.153 131.231 158.959 134.796 Q160.788 138.337 164.399 138.337 Q168.033 138.337 169.839 134.796 Q171.667 131.231 171.667 124.124 Q171.667 116.995 169.839 113.453 Q168.033 109.888 164.399 109.888 M164.399 106.185 Q170.209 106.185 173.264 110.791 Q176.343 115.374 176.343 124.124 Q176.343 132.851 173.264 137.458 Q170.209 142.041 164.399 142.041 Q158.589 142.041 155.51 137.458 Q152.454 132.851 152.454 124.124 Q152.454 115.374 155.51 110.791 Q158.589 106.185 164.399 106.185 Z\" fill=\"#000000\" fill-rule=\"evenodd\" fill-opacity=\"1\" /><path clip-path=\"url(#clip490)\" d=\"M184.561 135.49 L189.445 135.49 L189.445 141.37 L184.561 141.37 L184.561 135.49 Z\" fill=\"#000000\" fill-rule=\"evenodd\" fill-opacity=\"1\" /><path clip-path=\"url(#clip490)\" d=\"M209.63 109.888 Q206.019 109.888 204.19 113.453 Q202.385 116.995 202.385 124.124 Q202.385 131.231 204.19 134.796 Q206.019 138.337 209.63 138.337 Q213.264 138.337 215.07 134.796 Q216.898 131.231 216.898 124.124 Q216.898 116.995 215.07 113.453 Q213.264 109.888 209.63 109.888 M209.63 106.185 Q215.44 106.185 218.496 110.791 Q221.574 115.374 221.574 124.124 Q221.574 132.851 218.496 137.458 Q215.44 142.041 209.63 142.041 Q203.82 142.041 200.741 137.458 Q197.686 132.851 197.686 124.124 Q197.686 115.374 200.741 110.791 Q203.82 106.185 209.63 106.185 Z\" fill=\"#000000\" fill-rule=\"evenodd\" fill-opacity=\"1\" /><path clip-path=\"url(#clip490)\" d=\"M233.82 137.435 L250.139 137.435 L250.139 141.37 L228.195 141.37 L228.195 137.435 Q230.857 134.68 235.44 130.05 Q240.047 125.398 241.227 124.055 Q243.472 121.532 244.352 119.796 Q245.255 118.036 245.255 116.347 Q245.255 113.592 243.31 111.856 Q241.389 110.12 238.287 110.12 Q236.088 110.12 233.635 110.884 Q231.204 111.648 228.426 113.199 L228.426 108.476 Q231.25 107.342 233.704 106.763 Q236.158 106.185 238.195 106.185 Q243.565 106.185 246.759 108.87 Q249.954 111.555 249.954 116.046 Q249.954 118.175 249.144 120.097 Q248.357 121.995 246.25 124.587 Q245.671 125.259 242.57 128.476 Q239.468 131.671 233.82 137.435 Z\" fill=\"#000000\" fill-rule=\"evenodd\" fill-opacity=\"1\" /><path clip-path=\"url(#clip490)\" d=\"M28.3562 756.711 L45.7028 769.602 L64.0042 756.043 L64.0042 762.95 L49.9996 773.326 L64.0042 783.702 L64.0042 790.609 L45.3526 776.763 L28.3562 789.431 L28.3562 782.524 L41.0558 773.071 L28.3562 763.618 L28.3562 756.711 Z\" fill=\"#000000\" fill-rule=\"evenodd\" fill-opacity=\"1\" /><path clip-path=\"url(#clip490)\" d=\"M1091.79 14.0809 L1091.79 22.0612 Q1087.13 19.8332 1083 18.7395 Q1078.86 17.6457 1075.02 17.6457 Q1068.33 17.6457 1064.69 20.2383 Q1061.08 22.8309 1061.08 27.611 Q1061.08 31.6214 1063.47 33.6873 Q1065.9 35.7128 1072.63 36.9686 L1077.57 37.9813 Q1086.72 39.7232 1091.06 44.1387 Q1095.43 48.5136 1095.43 55.8863 Q1095.43 64.6767 1089.52 69.2137 Q1083.64 73.7508 1072.26 73.7508 Q1067.97 73.7508 1063.11 72.7785 Q1058.29 71.8063 1053.1 69.9024 L1053.1 61.4765 Q1058.08 64.2716 1062.86 65.6895 Q1067.64 67.1073 1072.26 67.1073 Q1079.27 67.1073 1083.08 64.3527 Q1086.89 61.598 1086.89 56.4939 Q1086.89 52.0379 1084.13 49.5264 Q1081.42 47.0148 1075.18 45.759 L1070.2 44.7868 Q1061.04 42.9639 1056.95 39.075 Q1052.86 35.1862 1052.86 28.2591 Q1052.86 20.2383 1058.49 15.6203 Q1064.16 11.0023 1074.08 11.0023 Q1078.34 11.0023 1082.75 11.7719 Q1087.17 12.5416 1091.79 14.0809 Z\" fill=\"#000000\" fill-rule=\"evenodd\" fill-opacity=\"1\" /><path clip-path=\"url(#clip490)\" d=\"M1115.24 14.324 L1115.24 27.2059 L1130.59 27.2059 L1130.59 32.9987 L1115.24 32.9987 L1115.24 57.6282 Q1115.24 63.1779 1116.74 64.7578 Q1118.28 66.3376 1122.94 66.3376 L1130.59 66.3376 L1130.59 72.576 L1122.94 72.576 Q1114.31 72.576 1111.03 69.3758 Q1107.75 66.1351 1107.75 57.6282 L1107.75 32.9987 L1102.28 32.9987 L1102.28 27.2059 L1107.75 27.2059 L1107.75 14.324 L1115.24 14.324 Z\" fill=\"#000000\" fill-rule=\"evenodd\" fill-opacity=\"1\" /><path clip-path=\"url(#clip490)\" d=\"M1161.02 49.7694 Q1151.98 49.7694 1148.5 51.8354 Q1145.02 53.9013 1145.02 58.8839 Q1145.02 62.8538 1147.61 65.2034 Q1150.24 67.5124 1154.74 67.5124 Q1160.94 67.5124 1164.66 63.1374 Q1168.43 58.7219 1168.43 51.4303 L1168.43 49.7694 L1161.02 49.7694 M1175.88 46.6907 L1175.88 72.576 L1168.43 72.576 L1168.43 65.6895 Q1165.88 69.8214 1162.07 71.8063 Q1158.26 73.7508 1152.75 73.7508 Q1145.79 73.7508 1141.65 69.8619 Q1137.56 65.9325 1137.56 59.3701 Q1137.56 51.7138 1142.67 47.825 Q1147.81 43.9361 1157.98 43.9361 L1168.43 43.9361 L1168.43 43.2069 Q1168.43 38.0623 1165.03 35.2672 Q1161.66 32.4315 1155.55 32.4315 Q1151.66 32.4315 1147.97 33.3632 Q1144.29 34.295 1140.88 36.1584 L1140.88 29.2718 Q1144.98 27.692 1148.82 26.9223 Q1152.67 26.1121 1156.32 26.1121 Q1166.16 26.1121 1171.02 31.2163 Q1175.88 36.3204 1175.88 46.6907 Z\" fill=\"#000000\" fill-rule=\"evenodd\" fill-opacity=\"1\" /><path clip-path=\"url(#clip490)\" d=\"M1198.61 14.324 L1198.61 27.2059 L1213.96 27.2059 L1213.96 32.9987 L1198.61 32.9987 L1198.61 57.6282 Q1198.61 63.1779 1200.11 64.7578 Q1201.65 66.3376 1206.31 66.3376 L1213.96 66.3376 L1213.96 72.576 L1206.31 72.576 Q1197.68 72.576 1194.4 69.3758 Q1191.11 66.1351 1191.11 57.6282 L1191.11 32.9987 L1185.65 32.9987 L1185.65 27.2059 L1191.11 27.2059 L1191.11 14.324 L1198.61 14.324 Z\" fill=\"#000000\" fill-rule=\"evenodd\" fill-opacity=\"1\" /><path clip-path=\"url(#clip490)\" d=\"M1262.57 48.0275 L1262.57 51.6733 L1228.3 51.6733 Q1228.79 59.3701 1232.92 63.421 Q1237.09 67.4314 1244.51 67.4314 Q1248.8 67.4314 1252.81 66.3781 Q1256.86 65.3249 1260.83 63.2184 L1260.83 70.267 Q1256.82 71.9684 1252.61 72.8596 Q1248.39 73.7508 1244.06 73.7508 Q1233.2 73.7508 1226.84 67.4314 Q1220.52 61.1119 1220.52 50.3365 Q1220.52 39.1965 1226.52 32.6746 Q1232.56 26.1121 1242.76 26.1121 Q1251.92 26.1121 1257.23 32.0264 Q1262.57 37.9003 1262.57 48.0275 M1255.12 45.84 Q1255.04 39.7232 1251.68 36.0774 Q1248.35 32.4315 1242.84 32.4315 Q1236.61 32.4315 1232.84 35.9558 Q1229.11 39.4801 1228.55 45.8805 L1255.12 45.84 Z\" fill=\"#000000\" fill-rule=\"evenodd\" fill-opacity=\"1\" /><path clip-path=\"url(#clip490)\" d=\"M1301.5 12.096 L1309.68 12.096 L1309.68 36.8875 L1339.42 36.8875 L1339.42 12.096 L1347.6 12.096 L1347.6 72.576 L1339.42 72.576 L1339.42 43.7741 L1309.68 43.7741 L1309.68 72.576 L1301.5 72.576 L1301.5 12.096 Z\" fill=\"#000000\" fill-rule=\"evenodd\" fill-opacity=\"1\" /><path clip-path=\"url(#clip490)\" d=\"M1363.56 27.2059 L1371.02 27.2059 L1371.02 72.576 L1363.56 72.576 L1363.56 27.2059 M1363.56 9.54393 L1371.02 9.54393 L1371.02 18.9825 L1363.56 18.9825 L1363.56 9.54393 Z\" fill=\"#000000\" fill-rule=\"evenodd\" fill-opacity=\"1\" /><path clip-path=\"url(#clip490)\" d=\"M1415.53 28.5427 L1415.53 35.5912 Q1412.38 33.9709 1408.97 33.1607 Q1405.57 32.3505 1401.92 32.3505 Q1396.37 32.3505 1393.58 34.0519 Q1390.82 35.7533 1390.82 39.156 Q1390.82 41.7486 1392.81 43.2475 Q1394.79 44.7058 1400.79 46.0426 L1403.34 46.6097 Q1411.28 48.3111 1414.6 51.4303 Q1417.97 54.509 1417.97 60.0587 Q1417.97 66.3781 1412.94 70.0644 Q1407.96 73.7508 1399.21 73.7508 Q1395.56 73.7508 1391.59 73.0216 Q1387.66 72.3329 1383.29 70.9151 L1383.29 63.2184 Q1387.42 65.3654 1391.43 66.4591 Q1395.44 67.5124 1399.37 67.5124 Q1404.64 67.5124 1407.47 65.73 Q1410.31 63.9071 1410.31 60.6258 Q1410.31 57.5877 1408.24 55.9673 Q1406.22 54.3469 1399.29 52.8481 L1396.7 52.2405 Q1389.77 50.7821 1386.69 47.7845 Q1383.61 44.7463 1383.61 39.4801 Q1383.61 33.0797 1388.15 29.5959 Q1392.69 26.1121 1401.03 26.1121 Q1405.16 26.1121 1408.81 26.7198 Q1412.46 27.3274 1415.53 28.5427 Z\" fill=\"#000000\" fill-rule=\"evenodd\" fill-opacity=\"1\" /><path clip-path=\"url(#clip490)\" d=\"M1437.21 14.324 L1437.21 27.2059 L1452.56 27.2059 L1452.56 32.9987 L1437.21 32.9987 L1437.21 57.6282 Q1437.21 63.1779 1438.71 64.7578 Q1440.25 66.3376 1444.9 66.3376 L1452.56 66.3376 L1452.56 72.576 L1444.9 72.576 Q1436.28 72.576 1432.99 69.3758 Q1429.71 66.1351 1429.71 57.6282 L1429.71 32.9987 L1424.24 32.9987 L1424.24 27.2059 L1429.71 27.2059 L1429.71 14.324 L1437.21 14.324 Z\" fill=\"#000000\" fill-rule=\"evenodd\" fill-opacity=\"1\" /><path clip-path=\"url(#clip490)\" d=\"M1479.94 32.4315 Q1473.95 32.4315 1470.47 37.1306 Q1466.98 41.7891 1466.98 49.9314 Q1466.98 58.0738 1470.42 62.7728 Q1473.91 67.4314 1479.94 67.4314 Q1485.9 67.4314 1489.38 62.7323 Q1492.87 58.0333 1492.87 49.9314 Q1492.87 41.8701 1489.38 37.1711 Q1485.9 32.4315 1479.94 32.4315 M1479.94 26.1121 Q1489.67 26.1121 1495.22 32.4315 Q1500.77 38.7509 1500.77 49.9314 Q1500.77 61.0714 1495.22 67.4314 Q1489.67 73.7508 1479.94 73.7508 Q1470.18 73.7508 1464.63 67.4314 Q1459.12 61.0714 1459.12 49.9314 Q1459.12 38.7509 1464.63 32.4315 Q1470.18 26.1121 1479.94 26.1121 Z\" fill=\"#000000\" fill-rule=\"evenodd\" fill-opacity=\"1\" /><path clip-path=\"url(#clip490)\" d=\"M1539.41 34.1734 Q1538.16 33.4443 1536.66 33.1202 Q1535.2 32.7556 1533.42 32.7556 Q1527.1 32.7556 1523.69 36.8875 Q1520.33 40.9789 1520.33 48.6757 L1520.33 72.576 L1512.84 72.576 L1512.84 27.2059 L1520.33 27.2059 L1520.33 34.2544 Q1522.68 30.1225 1526.45 28.1376 Q1530.22 26.1121 1535.6 26.1121 Q1536.37 26.1121 1537.31 26.2337 Q1538.24 26.3147 1539.37 26.5172 L1539.41 34.1734 Z\" fill=\"#000000\" fill-rule=\"evenodd\" fill-opacity=\"1\" /><path clip-path=\"url(#clip490)\" d=\"M1566.11 76.7889 Q1562.95 84.8907 1559.95 87.3618 Q1556.95 89.8329 1551.93 89.8329 L1545.97 89.8329 L1545.97 83.5945 L1550.35 83.5945 Q1553.43 83.5945 1555.13 82.1361 Q1556.83 80.6778 1558.9 75.2496 L1560.23 71.8468 L1541.88 27.2059 L1549.78 27.2059 L1563.96 62.6918 L1578.14 27.2059 L1586.04 27.2059 L1566.11 76.7889 Z\" fill=\"#000000\" fill-rule=\"evenodd\" fill-opacity=\"1\" /><polyline clip-path=\"url(#clip492)\" style=\"stroke:#009af9; stroke-linecap:round; stroke-linejoin:round; stroke-width:4; stroke-opacity:1; fill:none\" points=\"344.628,773.326 411.857,763.381 479.086,735.704 546.315,694.445 613.544,643.412 680.773,586.083 748.002,525.605 815.231,464.798 882.46,406.163 949.688,351.878 1016.92,303.806 1084.15,263.495 1151.38,232.183 1218.6,210.794 1285.83,199.945 1353.06,199.945 1420.29,210.794 1487.52,232.183 1554.75,263.495 1621.98,303.806 1689.21,351.878 1756.44,406.163 1823.66,464.798 1890.89,525.604 1958.12,586.082 2025.35,643.411 2092.58,694.444 2159.81,735.704 2227.04,763.381 2294.27,773.326 \"/>\n<polyline clip-path=\"url(#clip492)\" style=\"stroke:#e26f46; stroke-linecap:round; stroke-linejoin:round; stroke-width:4; stroke-opacity:1; fill:none\" points=\"344.628,773.326 411.857,763.381 479.086,735.704 546.315,694.445 613.544,643.412 680.773,586.083 748.002,525.605 815.231,464.798 882.46,406.163 949.688,351.878 1016.92,303.806 1084.15,263.495 1151.38,232.183 1218.6,210.794 1285.83,199.945 1353.06,199.945 1420.29,210.794 1487.52,232.183 1554.75,263.495 1621.98,303.806 1689.21,351.878 1756.44,406.163 1823.66,464.798 1890.89,525.604 1958.12,586.082 2025.35,643.411 2092.58,694.444 2159.81,735.704 2227.04,763.381 2294.27,773.326 \"/>\n<polyline clip-path=\"url(#clip492)\" style=\"stroke:#3da44d; stroke-linecap:round; stroke-linejoin:round; stroke-width:4; stroke-opacity:1; fill:none\" stroke-dasharray=\"16, 10\" points=\"344.628,773.326 411.857,574.422 479.086,418.699 546.315,302.757 613.544,223.239 680.773,176.832 748.002,160.256 815.231,170.273 882.46,203.673 949.688,257.277 1016.92,327.933 1084.15,412.508 1151.38,507.892 1218.6,610.985 1285.83,718.699 1353.06,827.953 1420.29,935.667 1487.52,1038.76 1554.75,1134.14 1621.98,1218.72 1689.21,1289.37 1756.44,1342.98 1823.66,1376.38 1890.89,1386.4 1958.12,1369.82 2025.35,1323.41 2092.58,1243.9 2159.81,1127.95 2227.04,972.23 2294.27,773.326 \"/>\n<polyline clip-path=\"url(#clip492)\" style=\"stroke:#c271d2; stroke-linecap:round; stroke-linejoin:round; stroke-width:4; stroke-opacity:1; fill:none\" stroke-dasharray=\"16, 10\" points=\"344.628,773.326 411.857,574.422 479.086,418.699 546.315,302.757 613.544,223.239 680.773,176.832 748.002,160.256 815.231,170.273 882.46,203.673 949.688,257.277 1016.92,327.933 1084.15,412.508 1151.38,507.892 1218.6,610.985 1285.83,718.699 1353.06,827.953 1420.29,935.667 1487.52,1038.76 1554.75,1134.14 1621.98,1218.72 1689.21,1289.37 1756.44,1342.98 1823.66,1376.38 1890.89,1386.4 1958.12,1369.82 2025.35,1323.41 2092.58,1243.9 2159.81,1127.95 2227.04,972.23 2294.27,773.326 \"/>\n<path clip-path=\"url(#clip490)\" d=\"M2034.11 425.996 L2283.87 425.996 L2283.87 166.796 L2034.11 166.796  Z\" fill=\"#ffffff\" fill-rule=\"evenodd\" fill-opacity=\"1\"/>\n<polyline clip-path=\"url(#clip490)\" style=\"stroke:#000000; stroke-linecap:round; stroke-linejoin:round; stroke-width:4; stroke-opacity:1; fill:none\" points=\"2034.11,425.996 2283.87,425.996 2283.87,166.796 2034.11,166.796 2034.11,425.996 \"/>\n<polyline clip-path=\"url(#clip490)\" style=\"stroke:#009af9; stroke-linecap:round; stroke-linejoin:round; stroke-width:4; stroke-opacity:1; fill:none\" points=\"2057.07,218.636 2194.84,218.636 \"/>\n<path clip-path=\"url(#clip490)\" d=\"M2242.46 209.99 L2233.08 222.606 L2242.94 235.916 L2237.92 235.916 L2230.37 225.731 L2222.83 235.916 L2217.8 235.916 L2227.87 222.351 L2218.66 209.99 L2223.68 209.99 L2230.56 219.226 L2237.43 209.99 L2242.46 209.99 Z\" fill=\"#000000\" fill-rule=\"evenodd\" fill-opacity=\"1\" /><path clip-path=\"url(#clip490)\" d=\"M2248.11 233.369 L2252.83 233.369 L2252.83 219.226 L2247.67 220.175 L2247.67 217.49 L2252.99 216.587 L2256.16 216.587 L2256.16 233.369 L2260.91 233.369 L2260.91 235.916 L2248.11 235.916 L2248.11 233.369 Z\" fill=\"#000000\" fill-rule=\"evenodd\" fill-opacity=\"1\" /><polyline clip-path=\"url(#clip490)\" style=\"stroke:#e26f46; stroke-linecap:round; stroke-linejoin:round; stroke-width:4; stroke-opacity:1; fill:none\" points=\"2057.07,270.476 2194.84,270.476 \"/>\n<path clip-path=\"url(#clip490)\" d=\"M2242.46 261.83 L2233.08 274.446 L2242.94 287.756 L2237.92 287.756 L2230.37 277.571 L2222.83 287.756 L2217.8 287.756 L2227.87 274.191 L2218.66 261.83 L2223.68 261.83 L2230.56 271.066 L2237.43 261.83 L2242.46 261.83 Z\" fill=\"#000000\" fill-rule=\"evenodd\" fill-opacity=\"1\" /><path clip-path=\"url(#clip490)\" d=\"M2250.7 285.117 L2260.51 285.117 L2260.51 287.756 L2246.67 287.756 L2246.67 285.209 Q2247.46 284.492 2248.92 283.196 Q2256.88 276.135 2256.88 273.959 Q2256.88 272.432 2255.67 271.506 Q2254.47 270.557 2252.5 270.557 Q2251.3 270.557 2249.89 270.973 Q2248.48 271.367 2246.81 272.177 L2246.81 269.33 Q2248.59 268.682 2250.12 268.358 Q2251.67 268.034 2252.99 268.034 Q2256.35 268.034 2258.36 269.561 Q2260.37 271.089 2260.37 273.589 Q2260.37 276.807 2252.71 283.381 Q2251.42 284.492 2250.7 285.117 Z\" fill=\"#000000\" fill-rule=\"evenodd\" fill-opacity=\"1\" /><polyline clip-path=\"url(#clip490)\" style=\"stroke:#3da44d; stroke-linecap:round; stroke-linejoin:round; stroke-width:4; stroke-opacity:1; fill:none\" stroke-dasharray=\"16, 10\" points=\"2057.07,322.316 2194.84,322.316 \"/>\n<path clip-path=\"url(#clip490)\" d=\"M2242.46 313.67 L2233.08 326.286 L2242.94 339.596 L2237.92 339.596 L2230.37 329.411 L2222.83 339.596 L2217.8 339.596 L2227.87 326.031 L2218.66 313.67 L2223.68 313.67 L2230.56 322.906 L2237.43 313.67 L2242.46 313.67 Z\" fill=\"#000000\" fill-rule=\"evenodd\" fill-opacity=\"1\" /><path clip-path=\"url(#clip490)\" d=\"M2230.47 303.577 L2234.73 303.577 L2234.73 308.971 L2230.47 308.971 L2230.47 303.577 M2232.64 313.045 L2232.64 313.045 Z\" fill=\"#000000\" fill-rule=\"evenodd\" fill-opacity=\"1\" /><path clip-path=\"url(#clip490)\" d=\"M2248.11 337.049 L2252.83 337.049 L2252.83 322.906 L2247.67 323.855 L2247.67 321.17 L2252.99 320.267 L2256.16 320.267 L2256.16 337.049 L2260.91 337.049 L2260.91 339.596 L2248.11 339.596 L2248.11 337.049 Z\" fill=\"#000000\" fill-rule=\"evenodd\" fill-opacity=\"1\" /><polyline clip-path=\"url(#clip490)\" style=\"stroke:#c271d2; stroke-linecap:round; stroke-linejoin:round; stroke-width:4; stroke-opacity:1; fill:none\" stroke-dasharray=\"16, 10\" points=\"2057.07,374.156 2194.84,374.156 \"/>\n<path clip-path=\"url(#clip490)\" d=\"M2242.46 365.51 L2233.08 378.126 L2242.94 391.436 L2237.92 391.436 L2230.37 381.251 L2222.83 391.436 L2217.8 391.436 L2227.87 377.871 L2218.66 365.51 L2223.68 365.51 L2230.56 374.746 L2237.43 365.51 L2242.46 365.51 Z\" fill=\"#000000\" fill-rule=\"evenodd\" fill-opacity=\"1\" /><path clip-path=\"url(#clip490)\" d=\"M2230.47 355.417 L2234.73 355.417 L2234.73 360.811 L2230.47 360.811 L2230.47 355.417 M2232.64 364.885 L2232.64 364.885 Z\" fill=\"#000000\" fill-rule=\"evenodd\" fill-opacity=\"1\" /><path clip-path=\"url(#clip490)\" d=\"M2250.7 388.797 L2260.51 388.797 L2260.51 391.436 L2246.67 391.436 L2246.67 388.889 Q2247.46 388.172 2248.92 386.876 Q2256.88 379.815 2256.88 377.639 Q2256.88 376.112 2255.67 375.186 Q2254.47 374.237 2252.5 374.237 Q2251.3 374.237 2249.89 374.653 Q2248.48 375.047 2246.81 375.857 L2246.81 373.01 Q2248.59 372.362 2250.12 372.038 Q2251.67 371.714 2252.99 371.714 Q2256.35 371.714 2258.36 373.241 Q2260.37 374.769 2260.37 377.269 Q2260.37 380.487 2252.71 387.061 Q2251.42 388.172 2250.7 388.797 Z\" fill=\"#000000\" fill-rule=\"evenodd\" fill-opacity=\"1\" /></svg>\n"
     },
     "metadata": {},
     "output_type": "display_data"
    },
    {
     "data": {
      "image/svg+xml": "<?xml version=\"1.0\" encoding=\"utf-8\"?>\n<svg xmlns=\"http://www.w3.org/2000/svg\" xmlns:xlink=\"http://www.w3.org/1999/xlink\" width=\"600\" height=\"400\" viewBox=\"0 0 2400 1600\">\n<defs>\n  <clipPath id=\"clip530\">\n    <rect x=\"0\" y=\"0\" width=\"2400\" height=\"1600\"/>\n  </clipPath>\n</defs>\n<path clip-path=\"url(#clip530)\" d=\"M0 1600 L2400 1600 L2400 0 L0 0  Z\" fill=\"#ffffff\" fill-rule=\"evenodd\" fill-opacity=\"1\"/>\n<defs>\n  <clipPath id=\"clip531\">\n    <rect x=\"480\" y=\"0\" width=\"1681\" height=\"1600\"/>\n  </clipPath>\n</defs>\n<path clip-path=\"url(#clip530)\" d=\"M285.769 1423.18 L2352.76 1423.18 L2352.76 123.472 L285.769 123.472  Z\" fill=\"#ffffff\" fill-rule=\"evenodd\" fill-opacity=\"1\"/>\n<defs>\n  <clipPath id=\"clip532\">\n    <rect x=\"285\" y=\"123\" width=\"2068\" height=\"1301\"/>\n  </clipPath>\n</defs>\n<polyline clip-path=\"url(#clip532)\" style=\"stroke:#000000; stroke-linecap:round; stroke-linejoin:round; stroke-width:2; stroke-opacity:0.1; fill:none\" points=\"344.268,1423.18 344.268,123.472 \"/>\n<polyline clip-path=\"url(#clip532)\" style=\"stroke:#000000; stroke-linecap:round; stroke-linejoin:round; stroke-width:2; stroke-opacity:0.1; fill:none\" points=\"692.48,1423.18 692.48,123.472 \"/>\n<polyline clip-path=\"url(#clip532)\" style=\"stroke:#000000; stroke-linecap:round; stroke-linejoin:round; stroke-width:2; stroke-opacity:0.1; fill:none\" points=\"1040.69,1423.18 1040.69,123.472 \"/>\n<polyline clip-path=\"url(#clip532)\" style=\"stroke:#000000; stroke-linecap:round; stroke-linejoin:round; stroke-width:2; stroke-opacity:0.1; fill:none\" points=\"1388.9,1423.18 1388.9,123.472 \"/>\n<polyline clip-path=\"url(#clip532)\" style=\"stroke:#000000; stroke-linecap:round; stroke-linejoin:round; stroke-width:2; stroke-opacity:0.1; fill:none\" points=\"1737.12,1423.18 1737.12,123.472 \"/>\n<polyline clip-path=\"url(#clip532)\" style=\"stroke:#000000; stroke-linecap:round; stroke-linejoin:round; stroke-width:2; stroke-opacity:0.1; fill:none\" points=\"2085.33,1423.18 2085.33,123.472 \"/>\n<polyline clip-path=\"url(#clip530)\" style=\"stroke:#000000; stroke-linecap:round; stroke-linejoin:round; stroke-width:4; stroke-opacity:1; fill:none\" points=\"285.769,1423.18 2352.76,1423.18 \"/>\n<polyline clip-path=\"url(#clip530)\" style=\"stroke:#000000; stroke-linecap:round; stroke-linejoin:round; stroke-width:4; stroke-opacity:1; fill:none\" points=\"344.268,1423.18 344.268,1404.28 \"/>\n<polyline clip-path=\"url(#clip530)\" style=\"stroke:#000000; stroke-linecap:round; stroke-linejoin:round; stroke-width:4; stroke-opacity:1; fill:none\" points=\"692.48,1423.18 692.48,1404.28 \"/>\n<polyline clip-path=\"url(#clip530)\" style=\"stroke:#000000; stroke-linecap:round; stroke-linejoin:round; stroke-width:4; stroke-opacity:1; fill:none\" points=\"1040.69,1423.18 1040.69,1404.28 \"/>\n<polyline clip-path=\"url(#clip530)\" style=\"stroke:#000000; stroke-linecap:round; stroke-linejoin:round; stroke-width:4; stroke-opacity:1; fill:none\" points=\"1388.9,1423.18 1388.9,1404.28 \"/>\n<polyline clip-path=\"url(#clip530)\" style=\"stroke:#000000; stroke-linecap:round; stroke-linejoin:round; stroke-width:4; stroke-opacity:1; fill:none\" points=\"1737.12,1423.18 1737.12,1404.28 \"/>\n<polyline clip-path=\"url(#clip530)\" style=\"stroke:#000000; stroke-linecap:round; stroke-linejoin:round; stroke-width:4; stroke-opacity:1; fill:none\" points=\"2085.33,1423.18 2085.33,1404.28 \"/>\n<path clip-path=\"url(#clip530)\" d=\"M321.653 1454.1 Q318.042 1454.1 316.213 1457.66 Q314.407 1461.2 314.407 1468.33 Q314.407 1475.44 316.213 1479.01 Q318.042 1482.55 321.653 1482.55 Q325.287 1482.55 327.092 1479.01 Q328.921 1475.44 328.921 1468.33 Q328.921 1461.2 327.092 1457.66 Q325.287 1454.1 321.653 1454.1 M321.653 1450.39 Q327.463 1450.39 330.518 1455 Q333.597 1459.58 333.597 1468.33 Q333.597 1477.06 330.518 1481.67 Q327.463 1486.25 321.653 1486.25 Q315.843 1486.25 312.764 1481.67 Q309.708 1477.06 309.708 1468.33 Q309.708 1459.58 312.764 1455 Q315.843 1450.39 321.653 1450.39 Z\" fill=\"#000000\" fill-rule=\"evenodd\" fill-opacity=\"1\" /><path clip-path=\"url(#clip530)\" d=\"M341.815 1479.7 L346.699 1479.7 L346.699 1485.58 L341.815 1485.58 L341.815 1479.7 Z\" fill=\"#000000\" fill-rule=\"evenodd\" fill-opacity=\"1\" /><path clip-path=\"url(#clip530)\" d=\"M366.884 1454.1 Q363.273 1454.1 361.444 1457.66 Q359.639 1461.2 359.639 1468.33 Q359.639 1475.44 361.444 1479.01 Q363.273 1482.55 366.884 1482.55 Q370.518 1482.55 372.324 1479.01 Q374.152 1475.44 374.152 1468.33 Q374.152 1461.2 372.324 1457.66 Q370.518 1454.1 366.884 1454.1 M366.884 1450.39 Q372.694 1450.39 375.75 1455 Q378.828 1459.58 378.828 1468.33 Q378.828 1477.06 375.75 1481.67 Q372.694 1486.25 366.884 1486.25 Q361.074 1486.25 357.995 1481.67 Q354.94 1477.06 354.94 1468.33 Q354.94 1459.58 357.995 1455 Q361.074 1450.39 366.884 1450.39 Z\" fill=\"#000000\" fill-rule=\"evenodd\" fill-opacity=\"1\" /><path clip-path=\"url(#clip530)\" d=\"M670.363 1454.1 Q666.751 1454.1 664.923 1457.66 Q663.117 1461.2 663.117 1468.33 Q663.117 1475.44 664.923 1479.01 Q666.751 1482.55 670.363 1482.55 Q673.997 1482.55 675.802 1479.01 Q677.631 1475.44 677.631 1468.33 Q677.631 1461.2 675.802 1457.66 Q673.997 1454.1 670.363 1454.1 M670.363 1450.39 Q676.173 1450.39 679.228 1455 Q682.307 1459.58 682.307 1468.33 Q682.307 1477.06 679.228 1481.67 Q676.173 1486.25 670.363 1486.25 Q664.552 1486.25 661.474 1481.67 Q658.418 1477.06 658.418 1468.33 Q658.418 1459.58 661.474 1455 Q664.552 1450.39 670.363 1450.39 Z\" fill=\"#000000\" fill-rule=\"evenodd\" fill-opacity=\"1\" /><path clip-path=\"url(#clip530)\" d=\"M690.524 1479.7 L695.409 1479.7 L695.409 1485.58 L690.524 1485.58 L690.524 1479.7 Z\" fill=\"#000000\" fill-rule=\"evenodd\" fill-opacity=\"1\" /><path clip-path=\"url(#clip530)\" d=\"M705.64 1451.02 L723.996 1451.02 L723.996 1454.96 L709.922 1454.96 L709.922 1463.43 Q710.941 1463.08 711.96 1462.92 Q712.978 1462.73 713.997 1462.73 Q719.784 1462.73 723.163 1465.9 Q726.543 1469.08 726.543 1474.49 Q726.543 1480.07 723.071 1483.17 Q719.598 1486.25 713.279 1486.25 Q711.103 1486.25 708.835 1485.88 Q706.589 1485.51 704.182 1484.77 L704.182 1480.07 Q706.265 1481.2 708.487 1481.76 Q710.71 1482.32 713.186 1482.32 Q717.191 1482.32 719.529 1480.21 Q721.867 1478.1 721.867 1474.49 Q721.867 1470.88 719.529 1468.77 Q717.191 1466.67 713.186 1466.67 Q711.311 1466.67 709.436 1467.08 Q707.585 1467.5 705.64 1468.38 L705.64 1451.02 Z\" fill=\"#000000\" fill-rule=\"evenodd\" fill-opacity=\"1\" /><path clip-path=\"url(#clip530)\" d=\"M1007.85 1481.64 L1015.48 1481.64 L1015.48 1455.28 L1007.17 1456.95 L1007.17 1452.69 L1015.44 1451.02 L1020.11 1451.02 L1020.11 1481.64 L1027.75 1481.64 L1027.75 1485.58 L1007.85 1485.58 L1007.85 1481.64 Z\" fill=\"#000000\" fill-rule=\"evenodd\" fill-opacity=\"1\" /><path clip-path=\"url(#clip530)\" d=\"M1037.2 1479.7 L1042.08 1479.7 L1042.08 1485.58 L1037.2 1485.58 L1037.2 1479.7 Z\" fill=\"#000000\" fill-rule=\"evenodd\" fill-opacity=\"1\" /><path clip-path=\"url(#clip530)\" d=\"M1062.27 1454.1 Q1058.66 1454.1 1056.83 1457.66 Q1055.02 1461.2 1055.02 1468.33 Q1055.02 1475.44 1056.83 1479.01 Q1058.66 1482.55 1062.27 1482.55 Q1065.9 1482.55 1067.71 1479.01 Q1069.54 1475.44 1069.54 1468.33 Q1069.54 1461.2 1067.71 1457.66 Q1065.9 1454.1 1062.27 1454.1 M1062.27 1450.39 Q1068.08 1450.39 1071.13 1455 Q1074.21 1459.58 1074.21 1468.33 Q1074.21 1477.06 1071.13 1481.67 Q1068.08 1486.25 1062.27 1486.25 Q1056.46 1486.25 1053.38 1481.67 Q1050.32 1477.06 1050.32 1468.33 Q1050.32 1459.58 1053.38 1455 Q1056.46 1450.39 1062.27 1450.39 Z\" fill=\"#000000\" fill-rule=\"evenodd\" fill-opacity=\"1\" /><path clip-path=\"url(#clip530)\" d=\"M1356.56 1481.64 L1364.19 1481.64 L1364.19 1455.28 L1355.88 1456.95 L1355.88 1452.69 L1364.15 1451.02 L1368.82 1451.02 L1368.82 1481.64 L1376.46 1481.64 L1376.46 1485.58 L1356.56 1485.58 L1356.56 1481.64 Z\" fill=\"#000000\" fill-rule=\"evenodd\" fill-opacity=\"1\" /><path clip-path=\"url(#clip530)\" d=\"M1385.91 1479.7 L1390.79 1479.7 L1390.79 1485.58 L1385.91 1485.58 L1385.91 1479.7 Z\" fill=\"#000000\" fill-rule=\"evenodd\" fill-opacity=\"1\" /><path clip-path=\"url(#clip530)\" d=\"M1401.02 1451.02 L1419.38 1451.02 L1419.38 1454.96 L1405.31 1454.96 L1405.31 1463.43 Q1406.32 1463.08 1407.34 1462.92 Q1408.36 1462.73 1409.38 1462.73 Q1415.17 1462.73 1418.55 1465.9 Q1421.93 1469.08 1421.93 1474.49 Q1421.93 1480.07 1418.45 1483.17 Q1414.98 1486.25 1408.66 1486.25 Q1406.49 1486.25 1404.22 1485.88 Q1401.97 1485.51 1399.56 1484.77 L1399.56 1480.07 Q1401.65 1481.2 1403.87 1481.76 Q1406.09 1482.32 1408.57 1482.32 Q1412.57 1482.32 1414.91 1480.21 Q1417.25 1478.1 1417.25 1474.49 Q1417.25 1470.88 1414.91 1468.77 Q1412.57 1466.67 1408.57 1466.67 Q1406.69 1466.67 1404.82 1467.08 Q1402.97 1467.5 1401.02 1468.38 L1401.02 1451.02 Z\" fill=\"#000000\" fill-rule=\"evenodd\" fill-opacity=\"1\" /><path clip-path=\"url(#clip530)\" d=\"M1708.36 1481.64 L1724.67 1481.64 L1724.67 1485.58 L1702.73 1485.58 L1702.73 1481.64 Q1705.39 1478.89 1709.98 1474.26 Q1714.58 1469.61 1715.76 1468.27 Q1718.01 1465.74 1718.89 1464.01 Q1719.79 1462.25 1719.79 1460.56 Q1719.79 1457.8 1717.85 1456.07 Q1715.92 1454.33 1712.82 1454.33 Q1710.62 1454.33 1708.17 1455.09 Q1705.74 1455.86 1702.96 1457.41 L1702.96 1452.69 Q1705.79 1451.55 1708.24 1450.97 Q1710.69 1450.39 1712.73 1450.39 Q1718.1 1450.39 1721.3 1453.08 Q1724.49 1455.77 1724.49 1460.26 Q1724.49 1462.39 1723.68 1464.31 Q1722.89 1466.2 1720.79 1468.8 Q1720.21 1469.47 1717.11 1472.69 Q1714 1475.88 1708.36 1481.64 Z\" fill=\"#000000\" fill-rule=\"evenodd\" fill-opacity=\"1\" /><path clip-path=\"url(#clip530)\" d=\"M1734.49 1479.7 L1739.37 1479.7 L1739.37 1485.58 L1734.49 1485.58 L1734.49 1479.7 Z\" fill=\"#000000\" fill-rule=\"evenodd\" fill-opacity=\"1\" /><path clip-path=\"url(#clip530)\" d=\"M1759.56 1454.1 Q1755.95 1454.1 1754.12 1457.66 Q1752.31 1461.2 1752.31 1468.33 Q1752.31 1475.44 1754.12 1479.01 Q1755.95 1482.55 1759.56 1482.55 Q1763.19 1482.55 1765 1479.01 Q1766.83 1475.44 1766.83 1468.33 Q1766.83 1461.2 1765 1457.66 Q1763.19 1454.1 1759.56 1454.1 M1759.56 1450.39 Q1765.37 1450.39 1768.42 1455 Q1771.5 1459.58 1771.5 1468.33 Q1771.5 1477.06 1768.42 1481.67 Q1765.37 1486.25 1759.56 1486.25 Q1753.75 1486.25 1750.67 1481.67 Q1747.61 1477.06 1747.61 1468.33 Q1747.61 1459.58 1750.67 1455 Q1753.75 1450.39 1759.56 1450.39 Z\" fill=\"#000000\" fill-rule=\"evenodd\" fill-opacity=\"1\" /><path clip-path=\"url(#clip530)\" d=\"M2057.07 1481.64 L2073.38 1481.64 L2073.38 1485.58 L2051.44 1485.58 L2051.44 1481.64 Q2054.1 1478.89 2058.69 1474.26 Q2063.29 1469.61 2064.47 1468.27 Q2066.72 1465.74 2067.6 1464.01 Q2068.5 1462.25 2068.5 1460.56 Q2068.5 1457.8 2066.56 1456.07 Q2064.63 1454.33 2061.53 1454.33 Q2059.33 1454.33 2056.88 1455.09 Q2054.45 1455.86 2051.67 1457.41 L2051.67 1452.69 Q2054.5 1451.55 2056.95 1450.97 Q2059.4 1450.39 2061.44 1450.39 Q2066.81 1450.39 2070 1453.08 Q2073.2 1455.77 2073.2 1460.26 Q2073.2 1462.39 2072.39 1464.31 Q2071.6 1466.2 2069.5 1468.8 Q2068.92 1469.47 2065.82 1472.69 Q2062.71 1475.88 2057.07 1481.64 Z\" fill=\"#000000\" fill-rule=\"evenodd\" fill-opacity=\"1\" /><path clip-path=\"url(#clip530)\" d=\"M2083.2 1479.7 L2088.08 1479.7 L2088.08 1485.58 L2083.2 1485.58 L2083.2 1479.7 Z\" fill=\"#000000\" fill-rule=\"evenodd\" fill-opacity=\"1\" /><path clip-path=\"url(#clip530)\" d=\"M2098.32 1451.02 L2116.67 1451.02 L2116.67 1454.96 L2102.6 1454.96 L2102.6 1463.43 Q2103.62 1463.08 2104.63 1462.92 Q2105.65 1462.73 2106.67 1462.73 Q2112.46 1462.73 2115.84 1465.9 Q2119.22 1469.08 2119.22 1474.49 Q2119.22 1480.07 2115.75 1483.17 Q2112.27 1486.25 2105.95 1486.25 Q2103.78 1486.25 2101.51 1485.88 Q2099.26 1485.51 2096.86 1484.77 L2096.86 1480.07 Q2098.94 1481.2 2101.16 1481.76 Q2103.38 1482.32 2105.86 1482.32 Q2109.87 1482.32 2112.2 1480.21 Q2114.54 1478.1 2114.54 1474.49 Q2114.54 1470.88 2112.2 1468.77 Q2109.87 1466.67 2105.86 1466.67 Q2103.99 1466.67 2102.11 1467.08 Q2100.26 1467.5 2098.32 1468.38 L2098.32 1451.02 Z\" fill=\"#000000\" fill-rule=\"evenodd\" fill-opacity=\"1\" /><path clip-path=\"url(#clip530)\" d=\"M1206.72 1522.27 L1206.72 1532.4 L1218.78 1532.4 L1218.78 1536.95 L1206.72 1536.95 L1206.72 1556.3 Q1206.72 1560.66 1207.89 1561.9 Q1209.1 1563.14 1212.76 1563.14 L1218.78 1563.14 L1218.78 1568.04 L1212.76 1568.04 Q1205.98 1568.04 1203.41 1565.53 Q1200.83 1562.98 1200.83 1556.3 L1200.83 1536.95 L1196.53 1536.95 L1196.53 1532.4 L1200.83 1532.4 L1200.83 1522.27 L1206.72 1522.27 Z\" fill=\"#000000\" fill-rule=\"evenodd\" fill-opacity=\"1\" /><path clip-path=\"url(#clip530)\" d=\"M1226.48 1532.4 L1232.34 1532.4 L1232.34 1568.04 L1226.48 1568.04 L1226.48 1532.4 M1226.48 1518.52 L1232.34 1518.52 L1232.34 1525.93 L1226.48 1525.93 L1226.48 1518.52 Z\" fill=\"#000000\" fill-rule=\"evenodd\" fill-opacity=\"1\" /><path clip-path=\"url(#clip530)\" d=\"M1272.35 1539.24 Q1274.54 1535.29 1277.6 1533.41 Q1280.65 1531.54 1284.79 1531.54 Q1290.36 1531.54 1293.39 1535.45 Q1296.41 1539.33 1296.41 1546.53 L1296.41 1568.04 L1290.52 1568.04 L1290.52 1546.72 Q1290.52 1541.59 1288.71 1539.11 Q1286.89 1536.63 1283.17 1536.63 Q1278.62 1536.63 1275.98 1539.65 Q1273.33 1542.68 1273.33 1547.9 L1273.33 1568.04 L1267.45 1568.04 L1267.45 1546.72 Q1267.45 1541.56 1265.63 1539.11 Q1263.82 1536.63 1260.03 1536.63 Q1255.54 1536.63 1252.9 1539.68 Q1250.26 1542.71 1250.26 1547.9 L1250.26 1568.04 L1244.37 1568.04 L1244.37 1532.4 L1250.26 1532.4 L1250.26 1537.93 Q1252.26 1534.66 1255.06 1533.1 Q1257.87 1531.54 1261.72 1531.54 Q1265.6 1531.54 1268.3 1533.51 Q1271.04 1535.48 1272.35 1539.24 Z\" fill=\"#000000\" fill-rule=\"evenodd\" fill-opacity=\"1\" /><path clip-path=\"url(#clip530)\" d=\"M1338.58 1548.76 L1338.58 1551.62 L1311.66 1551.62 Q1312.04 1557.67 1315.28 1560.85 Q1318.56 1564 1324.39 1564 Q1327.76 1564 1330.91 1563.17 Q1334.09 1562.35 1337.21 1560.69 L1337.21 1566.23 Q1334.06 1567.57 1330.75 1568.27 Q1327.44 1568.97 1324.04 1568.97 Q1315.51 1568.97 1310.51 1564 Q1305.54 1559.04 1305.54 1550.57 Q1305.54 1541.82 1310.25 1536.69 Q1315 1531.54 1323.02 1531.54 Q1330.21 1531.54 1334.38 1536.18 Q1338.58 1540.8 1338.58 1548.76 M1332.73 1547.04 Q1332.66 1542.23 1330.02 1539.37 Q1327.41 1536.5 1323.08 1536.5 Q1318.18 1536.5 1315.22 1539.27 Q1312.29 1542.04 1311.85 1547.07 L1332.73 1547.04 Z\" fill=\"#000000\" fill-rule=\"evenodd\" fill-opacity=\"1\" /><path clip-path=\"url(#clip530)\" d=\"M1382.98 1518.58 Q1378.72 1525.9 1376.65 1533.06 Q1374.58 1540.23 1374.58 1547.58 Q1374.58 1554.93 1376.65 1562.16 Q1378.75 1569.35 1382.98 1576.64 L1377.89 1576.64 Q1373.12 1569.16 1370.73 1561.93 Q1368.37 1554.71 1368.37 1547.58 Q1368.37 1540.48 1370.73 1533.29 Q1373.08 1526.09 1377.89 1518.58 L1382.98 1518.58 Z\" fill=\"#000000\" fill-rule=\"evenodd\" fill-opacity=\"1\" /><path clip-path=\"url(#clip530)\" d=\"M1417.07 1533.45 L1417.07 1538.98 Q1414.59 1537.71 1411.92 1537.07 Q1409.24 1536.44 1406.38 1536.44 Q1402.02 1536.44 1399.82 1537.77 Q1397.66 1539.11 1397.66 1541.79 Q1397.66 1543.82 1399.22 1545 Q1400.78 1546.15 1405.49 1547.2 L1407.49 1547.64 Q1413.73 1548.98 1416.34 1551.43 Q1418.98 1553.85 1418.98 1558.21 Q1418.98 1563.17 1415.03 1566.07 Q1411.12 1568.97 1404.24 1568.97 Q1401.38 1568.97 1398.26 1568.39 Q1395.17 1567.85 1391.74 1566.74 L1391.74 1560.69 Q1394.98 1562.38 1398.13 1563.24 Q1401.28 1564.07 1404.37 1564.07 Q1408.51 1564.07 1410.74 1562.66 Q1412.97 1561.23 1412.97 1558.65 Q1412.97 1556.27 1411.34 1554.99 Q1409.75 1553.72 1404.31 1552.54 L1402.27 1552.07 Q1396.83 1550.92 1394.41 1548.56 Q1391.99 1546.18 1391.99 1542.04 Q1391.99 1537.01 1395.56 1534.27 Q1399.12 1531.54 1405.68 1531.54 Q1408.92 1531.54 1411.79 1532.01 Q1414.65 1532.49 1417.07 1533.45 Z\" fill=\"#000000\" fill-rule=\"evenodd\" fill-opacity=\"1\" /><path clip-path=\"url(#clip530)\" d=\"M1427.38 1518.58 L1432.48 1518.58 Q1437.25 1526.09 1439.61 1533.29 Q1441.99 1540.48 1441.99 1547.58 Q1441.99 1554.71 1439.61 1561.93 Q1437.25 1569.16 1432.48 1576.64 L1427.38 1576.64 Q1431.62 1569.35 1433.69 1562.16 Q1435.79 1554.93 1435.79 1547.58 Q1435.79 1540.23 1433.69 1533.06 Q1431.62 1525.9 1427.38 1518.58 Z\" fill=\"#000000\" fill-rule=\"evenodd\" fill-opacity=\"1\" /><polyline clip-path=\"url(#clip532)\" style=\"stroke:#000000; stroke-linecap:round; stroke-linejoin:round; stroke-width:2; stroke-opacity:0.1; fill:none\" points=\"285.769,1210.01 2352.76,1210.01 \"/>\n<polyline clip-path=\"url(#clip532)\" style=\"stroke:#000000; stroke-linecap:round; stroke-linejoin:round; stroke-width:2; stroke-opacity:0.1; fill:none\" points=\"285.769,951.681 2352.76,951.681 \"/>\n<polyline clip-path=\"url(#clip532)\" style=\"stroke:#000000; stroke-linecap:round; stroke-linejoin:round; stroke-width:2; stroke-opacity:0.1; fill:none\" points=\"285.769,693.354 2352.76,693.354 \"/>\n<polyline clip-path=\"url(#clip532)\" style=\"stroke:#000000; stroke-linecap:round; stroke-linejoin:round; stroke-width:2; stroke-opacity:0.1; fill:none\" points=\"285.769,435.027 2352.76,435.027 \"/>\n<polyline clip-path=\"url(#clip532)\" style=\"stroke:#000000; stroke-linecap:round; stroke-linejoin:round; stroke-width:2; stroke-opacity:0.1; fill:none\" points=\"285.769,176.701 2352.76,176.701 \"/>\n<polyline clip-path=\"url(#clip530)\" style=\"stroke:#000000; stroke-linecap:round; stroke-linejoin:round; stroke-width:4; stroke-opacity:1; fill:none\" points=\"285.769,1423.18 285.769,123.472 \"/>\n<polyline clip-path=\"url(#clip530)\" style=\"stroke:#000000; stroke-linecap:round; stroke-linejoin:round; stroke-width:4; stroke-opacity:1; fill:none\" points=\"285.769,1210.01 304.666,1210.01 \"/>\n<polyline clip-path=\"url(#clip530)\" style=\"stroke:#000000; stroke-linecap:round; stroke-linejoin:round; stroke-width:4; stroke-opacity:1; fill:none\" points=\"285.769,951.681 304.666,951.681 \"/>\n<polyline clip-path=\"url(#clip530)\" style=\"stroke:#000000; stroke-linecap:round; stroke-linejoin:round; stroke-width:4; stroke-opacity:1; fill:none\" points=\"285.769,693.354 304.666,693.354 \"/>\n<polyline clip-path=\"url(#clip530)\" style=\"stroke:#000000; stroke-linecap:round; stroke-linejoin:round; stroke-width:4; stroke-opacity:1; fill:none\" points=\"285.769,435.027 304.666,435.027 \"/>\n<polyline clip-path=\"url(#clip530)\" style=\"stroke:#000000; stroke-linecap:round; stroke-linejoin:round; stroke-width:4; stroke-opacity:1; fill:none\" points=\"285.769,176.701 304.666,176.701 \"/>\n<path clip-path=\"url(#clip530)\" d=\"M114.26 1210.46 L143.936 1210.46 L143.936 1214.39 L114.26 1214.39 L114.26 1210.46 Z\" fill=\"#000000\" fill-rule=\"evenodd\" fill-opacity=\"1\" /><path clip-path=\"url(#clip530)\" d=\"M164.028 1195.81 Q160.417 1195.81 158.589 1199.37 Q156.783 1202.91 156.783 1210.04 Q156.783 1217.15 158.589 1220.71 Q160.417 1224.26 164.028 1224.26 Q167.663 1224.26 169.468 1220.71 Q171.297 1217.15 171.297 1210.04 Q171.297 1202.91 169.468 1199.37 Q167.663 1195.81 164.028 1195.81 M164.028 1192.1 Q169.839 1192.1 172.894 1196.71 Q175.973 1201.29 175.973 1210.04 Q175.973 1218.77 172.894 1223.38 Q169.839 1227.96 164.028 1227.96 Q158.218 1227.96 155.14 1223.38 Q152.084 1218.77 152.084 1210.04 Q152.084 1201.29 155.14 1196.71 Q158.218 1192.1 164.028 1192.1 Z\" fill=\"#000000\" fill-rule=\"evenodd\" fill-opacity=\"1\" /><path clip-path=\"url(#clip530)\" d=\"M184.19 1221.41 L189.075 1221.41 L189.075 1227.29 L184.19 1227.29 L184.19 1221.41 Z\" fill=\"#000000\" fill-rule=\"evenodd\" fill-opacity=\"1\" /><path clip-path=\"url(#clip530)\" d=\"M209.26 1195.81 Q205.649 1195.81 203.82 1199.37 Q202.014 1202.91 202.014 1210.04 Q202.014 1217.15 203.82 1220.71 Q205.649 1224.26 209.26 1224.26 Q212.894 1224.26 214.699 1220.71 Q216.528 1217.15 216.528 1210.04 Q216.528 1202.91 214.699 1199.37 Q212.894 1195.81 209.26 1195.81 M209.26 1192.1 Q215.07 1192.1 218.125 1196.71 Q221.204 1201.29 221.204 1210.04 Q221.204 1218.77 218.125 1223.38 Q215.07 1227.96 209.26 1227.96 Q203.449 1227.96 200.371 1223.38 Q197.315 1218.77 197.315 1210.04 Q197.315 1201.29 200.371 1196.71 Q203.449 1192.1 209.26 1192.1 Z\" fill=\"#000000\" fill-rule=\"evenodd\" fill-opacity=\"1\" /><path clip-path=\"url(#clip530)\" d=\"M233.449 1223.35 L249.769 1223.35 L249.769 1227.29 L227.824 1227.29 L227.824 1223.35 Q230.486 1220.6 235.07 1215.97 Q239.676 1211.32 240.857 1209.97 Q243.102 1207.45 243.982 1205.71 Q244.884 1203.95 244.884 1202.26 Q244.884 1199.51 242.94 1197.77 Q241.019 1196.04 237.917 1196.04 Q235.718 1196.04 233.264 1196.8 Q230.834 1197.57 228.056 1199.12 L228.056 1194.39 Q230.88 1193.26 233.334 1192.68 Q235.787 1192.1 237.824 1192.1 Q243.195 1192.1 246.389 1194.79 Q249.584 1197.47 249.584 1201.96 Q249.584 1204.09 248.773 1206.01 Q247.986 1207.91 245.88 1210.51 Q245.301 1211.18 242.199 1214.39 Q239.097 1217.59 233.449 1223.35 Z\" fill=\"#000000\" fill-rule=\"evenodd\" fill-opacity=\"1\" /><path clip-path=\"url(#clip530)\" d=\"M162.431 937.48 Q158.82 937.48 156.991 941.045 Q155.186 944.586 155.186 951.716 Q155.186 958.822 156.991 962.387 Q158.82 965.929 162.431 965.929 Q166.065 965.929 167.871 962.387 Q169.7 958.822 169.7 951.716 Q169.7 944.586 167.871 941.045 Q166.065 937.48 162.431 937.48 M162.431 933.776 Q168.241 933.776 171.297 938.383 Q174.376 942.966 174.376 951.716 Q174.376 960.443 171.297 965.049 Q168.241 969.632 162.431 969.632 Q156.621 969.632 153.542 965.049 Q150.487 960.443 150.487 951.716 Q150.487 942.966 153.542 938.383 Q156.621 933.776 162.431 933.776 Z\" fill=\"#000000\" fill-rule=\"evenodd\" fill-opacity=\"1\" /><path clip-path=\"url(#clip530)\" d=\"M182.593 963.081 L187.477 963.081 L187.477 968.961 L182.593 968.961 L182.593 963.081 Z\" fill=\"#000000\" fill-rule=\"evenodd\" fill-opacity=\"1\" /><path clip-path=\"url(#clip530)\" d=\"M207.662 937.48 Q204.051 937.48 202.223 941.045 Q200.417 944.586 200.417 951.716 Q200.417 958.822 202.223 962.387 Q204.051 965.929 207.662 965.929 Q211.297 965.929 213.102 962.387 Q214.931 958.822 214.931 951.716 Q214.931 944.586 213.102 941.045 Q211.297 937.48 207.662 937.48 M207.662 933.776 Q213.473 933.776 216.528 938.383 Q219.607 942.966 219.607 951.716 Q219.607 960.443 216.528 965.049 Q213.473 969.632 207.662 969.632 Q201.852 969.632 198.774 965.049 Q195.718 960.443 195.718 951.716 Q195.718 942.966 198.774 938.383 Q201.852 933.776 207.662 933.776 Z\" fill=\"#000000\" fill-rule=\"evenodd\" fill-opacity=\"1\" /><path clip-path=\"url(#clip530)\" d=\"M237.824 937.48 Q234.213 937.48 232.385 941.045 Q230.579 944.586 230.579 951.716 Q230.579 958.822 232.385 962.387 Q234.213 965.929 237.824 965.929 Q241.459 965.929 243.264 962.387 Q245.093 958.822 245.093 951.716 Q245.093 944.586 243.264 941.045 Q241.459 937.48 237.824 937.48 M237.824 933.776 Q243.634 933.776 246.69 938.383 Q249.769 942.966 249.769 951.716 Q249.769 960.443 246.69 965.049 Q243.634 969.632 237.824 969.632 Q232.014 969.632 228.935 965.049 Q225.88 960.443 225.88 951.716 Q225.88 942.966 228.935 938.383 Q232.014 933.776 237.824 933.776 Z\" fill=\"#000000\" fill-rule=\"evenodd\" fill-opacity=\"1\" /><path clip-path=\"url(#clip530)\" d=\"M164.028 679.153 Q160.417 679.153 158.589 682.718 Q156.783 686.259 156.783 693.389 Q156.783 700.495 158.589 704.06 Q160.417 707.602 164.028 707.602 Q167.663 707.602 169.468 704.06 Q171.297 700.495 171.297 693.389 Q171.297 686.259 169.468 682.718 Q167.663 679.153 164.028 679.153 M164.028 675.449 Q169.839 675.449 172.894 680.056 Q175.973 684.639 175.973 693.389 Q175.973 702.116 172.894 706.722 Q169.839 711.306 164.028 711.306 Q158.218 711.306 155.14 706.722 Q152.084 702.116 152.084 693.389 Q152.084 684.639 155.14 680.056 Q158.218 675.449 164.028 675.449 Z\" fill=\"#000000\" fill-rule=\"evenodd\" fill-opacity=\"1\" /><path clip-path=\"url(#clip530)\" d=\"M184.19 704.755 L189.075 704.755 L189.075 710.634 L184.19 710.634 L184.19 704.755 Z\" fill=\"#000000\" fill-rule=\"evenodd\" fill-opacity=\"1\" /><path clip-path=\"url(#clip530)\" d=\"M209.26 679.153 Q205.649 679.153 203.82 682.718 Q202.014 686.259 202.014 693.389 Q202.014 700.495 203.82 704.06 Q205.649 707.602 209.26 707.602 Q212.894 707.602 214.699 704.06 Q216.528 700.495 216.528 693.389 Q216.528 686.259 214.699 682.718 Q212.894 679.153 209.26 679.153 M209.26 675.449 Q215.07 675.449 218.125 680.056 Q221.204 684.639 221.204 693.389 Q221.204 702.116 218.125 706.722 Q215.07 711.306 209.26 711.306 Q203.449 711.306 200.371 706.722 Q197.315 702.116 197.315 693.389 Q197.315 684.639 200.371 680.056 Q203.449 675.449 209.26 675.449 Z\" fill=\"#000000\" fill-rule=\"evenodd\" fill-opacity=\"1\" /><path clip-path=\"url(#clip530)\" d=\"M233.449 706.699 L249.769 706.699 L249.769 710.634 L227.824 710.634 L227.824 706.699 Q230.486 703.945 235.07 699.315 Q239.676 694.662 240.857 693.32 Q243.102 690.796 243.982 689.06 Q244.884 687.301 244.884 685.611 Q244.884 682.857 242.94 681.121 Q241.019 679.384 237.917 679.384 Q235.718 679.384 233.264 680.148 Q230.834 680.912 228.056 682.463 L228.056 677.741 Q230.88 676.607 233.334 676.028 Q235.787 675.449 237.824 675.449 Q243.195 675.449 246.389 678.134 Q249.584 680.82 249.584 685.31 Q249.584 687.44 248.773 689.361 Q247.986 691.259 245.88 693.852 Q245.301 694.523 242.199 697.741 Q239.097 700.935 233.449 706.699 Z\" fill=\"#000000\" fill-rule=\"evenodd\" fill-opacity=\"1\" /><path clip-path=\"url(#clip530)\" d=\"M161.945 420.826 Q158.334 420.826 156.505 424.391 Q154.7 427.933 154.7 435.062 Q154.7 442.169 156.505 445.733 Q158.334 449.275 161.945 449.275 Q165.579 449.275 167.385 445.733 Q169.214 442.169 169.214 435.062 Q169.214 427.933 167.385 424.391 Q165.579 420.826 161.945 420.826 M161.945 417.122 Q167.755 417.122 170.811 421.729 Q173.889 426.312 173.889 435.062 Q173.889 443.789 170.811 448.395 Q167.755 452.979 161.945 452.979 Q156.135 452.979 153.056 448.395 Q150.001 443.789 150.001 435.062 Q150.001 426.312 153.056 421.729 Q156.135 417.122 161.945 417.122 Z\" fill=\"#000000\" fill-rule=\"evenodd\" fill-opacity=\"1\" /><path clip-path=\"url(#clip530)\" d=\"M182.107 446.428 L186.991 446.428 L186.991 452.307 L182.107 452.307 L182.107 446.428 Z\" fill=\"#000000\" fill-rule=\"evenodd\" fill-opacity=\"1\" /><path clip-path=\"url(#clip530)\" d=\"M207.176 420.826 Q203.565 420.826 201.737 424.391 Q199.931 427.933 199.931 435.062 Q199.931 442.169 201.737 445.733 Q203.565 449.275 207.176 449.275 Q210.811 449.275 212.616 445.733 Q214.445 442.169 214.445 435.062 Q214.445 427.933 212.616 424.391 Q210.811 420.826 207.176 420.826 M207.176 417.122 Q212.986 417.122 216.042 421.729 Q219.121 426.312 219.121 435.062 Q219.121 443.789 216.042 448.395 Q212.986 452.979 207.176 452.979 Q201.366 452.979 198.287 448.395 Q195.232 443.789 195.232 435.062 Q195.232 426.312 198.287 421.729 Q201.366 417.122 207.176 417.122 Z\" fill=\"#000000\" fill-rule=\"evenodd\" fill-opacity=\"1\" /><path clip-path=\"url(#clip530)\" d=\"M240.185 421.822 L228.38 440.271 L240.185 440.271 L240.185 421.822 M238.959 417.747 L244.838 417.747 L244.838 440.271 L249.769 440.271 L249.769 444.159 L244.838 444.159 L244.838 452.307 L240.185 452.307 L240.185 444.159 L224.584 444.159 L224.584 439.646 L238.959 417.747 Z\" fill=\"#000000\" fill-rule=\"evenodd\" fill-opacity=\"1\" /><path clip-path=\"url(#clip530)\" d=\"M162.269 162.499 Q158.658 162.499 156.829 166.064 Q155.024 169.606 155.024 176.735 Q155.024 183.842 156.829 187.407 Q158.658 190.948 162.269 190.948 Q165.903 190.948 167.709 187.407 Q169.538 183.842 169.538 176.735 Q169.538 169.606 167.709 166.064 Q165.903 162.499 162.269 162.499 M162.269 158.796 Q168.079 158.796 171.135 163.402 Q174.214 167.985 174.214 176.735 Q174.214 185.462 171.135 190.069 Q168.079 194.652 162.269 194.652 Q156.459 194.652 153.38 190.069 Q150.325 185.462 150.325 176.735 Q150.325 167.985 153.38 163.402 Q156.459 158.796 162.269 158.796 Z\" fill=\"#000000\" fill-rule=\"evenodd\" fill-opacity=\"1\" /><path clip-path=\"url(#clip530)\" d=\"M182.431 188.101 L187.315 188.101 L187.315 193.981 L182.431 193.981 L182.431 188.101 Z\" fill=\"#000000\" fill-rule=\"evenodd\" fill-opacity=\"1\" /><path clip-path=\"url(#clip530)\" d=\"M207.5 162.499 Q203.889 162.499 202.061 166.064 Q200.255 169.606 200.255 176.735 Q200.255 183.842 202.061 187.407 Q203.889 190.948 207.5 190.948 Q211.135 190.948 212.94 187.407 Q214.769 183.842 214.769 176.735 Q214.769 169.606 212.94 166.064 Q211.135 162.499 207.5 162.499 M207.5 158.796 Q213.311 158.796 216.366 163.402 Q219.445 167.985 219.445 176.735 Q219.445 185.462 216.366 190.069 Q213.311 194.652 207.5 194.652 Q201.69 194.652 198.612 190.069 Q195.556 185.462 195.556 176.735 Q195.556 167.985 198.612 163.402 Q201.69 158.796 207.5 158.796 Z\" fill=\"#000000\" fill-rule=\"evenodd\" fill-opacity=\"1\" /><path clip-path=\"url(#clip530)\" d=\"M238.241 174.837 Q235.093 174.837 233.241 176.99 Q231.412 179.143 231.412 182.893 Q231.412 186.62 233.241 188.796 Q235.093 190.948 238.241 190.948 Q241.389 190.948 243.218 188.796 Q245.07 186.62 245.07 182.893 Q245.07 179.143 243.218 176.99 Q241.389 174.837 238.241 174.837 M247.523 160.185 L247.523 164.444 Q245.764 163.61 243.959 163.171 Q242.176 162.731 240.417 162.731 Q235.787 162.731 233.334 165.856 Q230.903 168.981 230.556 175.3 Q231.922 173.286 233.982 172.222 Q236.042 171.134 238.519 171.134 Q243.727 171.134 246.736 174.305 Q249.769 177.453 249.769 182.893 Q249.769 188.217 246.621 191.434 Q243.472 194.652 238.241 194.652 Q232.246 194.652 229.074 190.069 Q225.903 185.462 225.903 176.735 Q225.903 168.541 229.792 163.68 Q233.681 158.796 240.232 158.796 Q241.991 158.796 243.773 159.143 Q245.579 159.49 247.523 160.185 Z\" fill=\"#000000\" fill-rule=\"evenodd\" fill-opacity=\"1\" /><path clip-path=\"url(#clip530)\" d=\"M49.9359 788.254 L28.3562 788.254 L28.3562 782.397 L49.7131 782.397 Q54.7739 782.397 57.3202 780.424 Q59.8346 778.45 59.8346 774.504 Q59.8346 769.761 56.8109 767.024 Q53.7872 764.255 48.5673 764.255 L28.3562 764.255 L28.3562 758.398 L64.0042 758.398 L64.0042 764.255 L58.5296 764.255 Q61.7762 766.387 63.3676 769.22 Q64.9272 772.021 64.9272 775.745 Q64.9272 781.888 61.1078 785.071 Q57.2883 788.254 49.9359 788.254 M27.4968 773.517 L27.4968 773.517 Z\" fill=\"#000000\" fill-rule=\"evenodd\" fill-opacity=\"1\" /><path clip-path=\"url(#clip530)\" d=\"M1056.4 12.096 L1064.58 12.096 L1064.58 72.576 L1056.4 72.576 L1056.4 12.096 Z\" fill=\"#000000\" fill-rule=\"evenodd\" fill-opacity=\"1\" /><path clip-path=\"url(#clip530)\" d=\"M1118.26 45.1919 L1118.26 72.576 L1110.8 72.576 L1110.8 45.4349 Q1110.8 38.994 1108.29 35.7938 Q1105.78 32.5936 1100.76 32.5936 Q1094.72 32.5936 1091.24 36.4419 Q1087.75 40.2903 1087.75 46.9338 L1087.75 72.576 L1080.26 72.576 L1080.26 27.2059 L1087.75 27.2059 L1087.75 34.2544 Q1090.43 30.163 1094.03 28.1376 Q1097.68 26.1121 1102.42 26.1121 Q1110.24 26.1121 1114.25 30.9732 Q1118.26 35.7938 1118.26 45.1919 Z\" fill=\"#000000\" fill-rule=\"evenodd\" fill-opacity=\"1\" /><path clip-path=\"url(#clip530)\" d=\"M1140.33 65.7705 L1140.33 89.8329 L1132.84 89.8329 L1132.84 27.2059 L1140.33 27.2059 L1140.33 34.0924 Q1142.68 30.0415 1146.25 28.0971 Q1149.85 26.1121 1154.84 26.1121 Q1163.1 26.1121 1168.24 32.6746 Q1173.43 39.2371 1173.43 49.9314 Q1173.43 60.6258 1168.24 67.1883 Q1163.1 73.7508 1154.84 73.7508 Q1149.85 73.7508 1146.25 71.8063 Q1142.68 69.8214 1140.33 65.7705 M1165.69 49.9314 Q1165.69 41.7081 1162.29 37.0496 Q1158.93 32.3505 1153.01 32.3505 Q1147.1 32.3505 1143.7 37.0496 Q1140.33 41.7081 1140.33 49.9314 Q1140.33 58.1548 1143.7 62.8538 Q1147.1 67.5124 1153.01 67.5124 Q1158.93 67.5124 1162.29 62.8538 Q1165.69 58.1548 1165.69 49.9314 Z\" fill=\"#000000\" fill-rule=\"evenodd\" fill-opacity=\"1\" /><path clip-path=\"url(#clip530)\" d=\"M1185.02 54.671 L1185.02 27.2059 L1192.47 27.2059 L1192.47 54.3874 Q1192.47 60.8284 1194.98 64.0691 Q1197.49 67.2693 1202.52 67.2693 Q1208.55 67.2693 1212.03 63.421 Q1215.56 59.5726 1215.56 52.9291 L1215.56 27.2059 L1223.01 27.2059 L1223.01 72.576 L1215.56 72.576 L1215.56 65.6084 Q1212.85 69.7404 1209.24 71.7658 Q1205.67 73.7508 1200.94 73.7508 Q1193.12 73.7508 1189.07 68.8897 Q1185.02 64.0286 1185.02 54.671 M1203.77 26.1121 L1203.77 26.1121 Z\" fill=\"#000000\" fill-rule=\"evenodd\" fill-opacity=\"1\" /><path clip-path=\"url(#clip530)\" d=\"M1245.74 14.324 L1245.74 27.2059 L1261.09 27.2059 L1261.09 32.9987 L1245.74 32.9987 L1245.74 57.6282 Q1245.74 63.1779 1247.24 64.7578 Q1248.78 66.3376 1253.44 66.3376 L1261.09 66.3376 L1261.09 72.576 L1253.44 72.576 Q1244.81 72.576 1241.53 69.3758 Q1238.24 66.1351 1238.24 57.6282 L1238.24 32.9987 L1232.78 32.9987 L1232.78 27.2059 L1238.24 27.2059 L1238.24 14.324 L1245.74 14.324 Z\" fill=\"#000000\" fill-rule=\"evenodd\" fill-opacity=\"1\" /><path clip-path=\"url(#clip530)\" d=\"M1297.59 12.096 L1305.77 12.096 L1305.77 36.8875 L1335.51 36.8875 L1335.51 12.096 L1343.69 12.096 L1343.69 72.576 L1335.51 72.576 L1335.51 43.7741 L1305.77 43.7741 L1305.77 72.576 L1297.59 72.576 L1297.59 12.096 Z\" fill=\"#000000\" fill-rule=\"evenodd\" fill-opacity=\"1\" /><path clip-path=\"url(#clip530)\" d=\"M1359.65 27.2059 L1367.1 27.2059 L1367.1 72.576 L1359.65 72.576 L1359.65 27.2059 M1359.65 9.54393 L1367.1 9.54393 L1367.1 18.9825 L1359.65 18.9825 L1359.65 9.54393 Z\" fill=\"#000000\" fill-rule=\"evenodd\" fill-opacity=\"1\" /><path clip-path=\"url(#clip530)\" d=\"M1411.62 28.5427 L1411.62 35.5912 Q1408.46 33.9709 1405.06 33.1607 Q1401.66 32.3505 1398.01 32.3505 Q1392.46 32.3505 1389.67 34.0519 Q1386.91 35.7533 1386.91 39.156 Q1386.91 41.7486 1388.9 43.2475 Q1390.88 44.7058 1396.88 46.0426 L1399.43 46.6097 Q1407.37 48.3111 1410.69 51.4303 Q1414.05 54.509 1414.05 60.0587 Q1414.05 66.3781 1409.03 70.0644 Q1404.05 73.7508 1395.3 73.7508 Q1391.65 73.7508 1387.68 73.0216 Q1383.75 72.3329 1379.38 70.9151 L1379.38 63.2184 Q1383.51 65.3654 1387.52 66.4591 Q1391.53 67.5124 1395.46 67.5124 Q1400.73 67.5124 1403.56 65.73 Q1406.4 63.9071 1406.4 60.6258 Q1406.4 57.5877 1404.33 55.9673 Q1402.31 54.3469 1395.38 52.8481 L1392.79 52.2405 Q1385.86 50.7821 1382.78 47.7845 Q1379.7 44.7463 1379.7 39.4801 Q1379.7 33.0797 1384.24 29.5959 Q1388.78 26.1121 1397.12 26.1121 Q1401.25 26.1121 1404.9 26.7198 Q1408.54 27.3274 1411.62 28.5427 Z\" fill=\"#000000\" fill-rule=\"evenodd\" fill-opacity=\"1\" /><path clip-path=\"url(#clip530)\" d=\"M1433.3 14.324 L1433.3 27.2059 L1448.65 27.2059 L1448.65 32.9987 L1433.3 32.9987 L1433.3 57.6282 Q1433.3 63.1779 1434.79 64.7578 Q1436.33 66.3376 1440.99 66.3376 L1448.65 66.3376 L1448.65 72.576 L1440.99 72.576 Q1432.36 72.576 1429.08 69.3758 Q1425.8 66.1351 1425.8 57.6282 L1425.8 32.9987 L1420.33 32.9987 L1420.33 27.2059 L1425.8 27.2059 L1425.8 14.324 L1433.3 14.324 Z\" fill=\"#000000\" fill-rule=\"evenodd\" fill-opacity=\"1\" /><path clip-path=\"url(#clip530)\" d=\"M1476.03 32.4315 Q1470.04 32.4315 1466.55 37.1306 Q1463.07 41.7891 1463.07 49.9314 Q1463.07 58.0738 1466.51 62.7728 Q1470 67.4314 1476.03 67.4314 Q1481.99 67.4314 1485.47 62.7323 Q1488.95 58.0333 1488.95 49.9314 Q1488.95 41.8701 1485.47 37.1711 Q1481.99 32.4315 1476.03 32.4315 M1476.03 26.1121 Q1485.75 26.1121 1491.3 32.4315 Q1496.85 38.7509 1496.85 49.9314 Q1496.85 61.0714 1491.3 67.4314 Q1485.75 73.7508 1476.03 73.7508 Q1466.27 73.7508 1460.72 67.4314 Q1455.21 61.0714 1455.21 49.9314 Q1455.21 38.7509 1460.72 32.4315 Q1466.27 26.1121 1476.03 26.1121 Z\" fill=\"#000000\" fill-rule=\"evenodd\" fill-opacity=\"1\" /><path clip-path=\"url(#clip530)\" d=\"M1535.5 34.1734 Q1534.24 33.4443 1532.74 33.1202 Q1531.29 32.7556 1529.5 32.7556 Q1523.18 32.7556 1519.78 36.8875 Q1516.42 40.9789 1516.42 48.6757 L1516.42 72.576 L1508.93 72.576 L1508.93 27.2059 L1516.42 27.2059 L1516.42 34.2544 Q1518.77 30.1225 1522.54 28.1376 Q1526.3 26.1121 1531.69 26.1121 Q1532.46 26.1121 1533.39 26.2337 Q1534.32 26.3147 1535.46 26.5172 L1535.5 34.1734 Z\" fill=\"#000000\" fill-rule=\"evenodd\" fill-opacity=\"1\" /><path clip-path=\"url(#clip530)\" d=\"M1562.2 76.7889 Q1559.04 84.8907 1556.04 87.3618 Q1553.04 89.8329 1548.02 89.8329 L1542.06 89.8329 L1542.06 83.5945 L1546.44 83.5945 Q1549.52 83.5945 1551.22 82.1361 Q1552.92 80.6778 1554.98 75.2496 L1556.32 71.8468 L1537.97 27.2059 L1545.87 27.2059 L1560.05 62.6918 L1574.23 27.2059 L1582.13 27.2059 L1562.2 76.7889 Z\" fill=\"#000000\" fill-rule=\"evenodd\" fill-opacity=\"1\" /><polyline clip-path=\"url(#clip532)\" style=\"stroke:#009af9; stroke-linecap:round; stroke-linejoin:round; stroke-width:4; stroke-opacity:1; fill:none\" points=\"344.268,160.256 413.911,332.069 483.553,490.355 553.196,635.287 622.838,767.027 692.48,885.729 762.123,991.536 831.765,1084.58 901.408,1164.97 971.05,1232.81 1040.69,1288.2 1110.34,1331.21 1179.98,1361.88 1249.62,1380.27 1319.26,1386.4 1388.9,1380.27 1458.55,1361.88 1528.19,1331.21 1597.83,1288.2 1667.47,1232.81 1737.12,1164.97 1806.76,1084.58 1876.4,991.536 1946.04,885.73 2015.69,767.027 2085.33,635.287 2154.97,490.355 2224.61,332.069 2294.26,160.257 \"/>\n<polyline clip-path=\"url(#clip532)\" style=\"stroke:#e26f46; stroke-linecap:round; stroke-linejoin:round; stroke-width:4; stroke-opacity:1; fill:none\" points=\"344.268,160.256 413.911,332.069 483.553,490.355 553.196,635.287 622.838,767.027 692.48,885.729 762.123,991.536 831.765,1084.58 901.408,1164.97 971.05,1232.81 1040.69,1288.2 1110.34,1331.21 1179.98,1361.88 1249.62,1380.27 1319.26,1386.4 1388.9,1380.27 1458.55,1361.88 1528.19,1331.21 1597.83,1288.2 1667.47,1232.81 1737.12,1164.97 1806.76,1084.58 1876.4,991.536 1946.04,885.73 2015.69,767.027 2085.33,635.287 2154.97,490.355 2224.61,332.069 2294.26,160.257 \"/>\n<path clip-path=\"url(#clip530)\" d=\"M2034.73 1379.86 L2283.86 1379.86 L2283.86 1224.34 L2034.73 1224.34  Z\" fill=\"#ffffff\" fill-rule=\"evenodd\" fill-opacity=\"1\"/>\n<polyline clip-path=\"url(#clip530)\" style=\"stroke:#000000; stroke-linecap:round; stroke-linejoin:round; stroke-width:4; stroke-opacity:1; fill:none\" points=\"2034.73,1379.86 2283.86,1379.86 2283.86,1224.34 2034.73,1224.34 2034.73,1379.86 \"/>\n<polyline clip-path=\"url(#clip530)\" style=\"stroke:#009af9; stroke-linecap:round; stroke-linejoin:round; stroke-width:4; stroke-opacity:1; fill:none\" points=\"2057.69,1276.18 2195.49,1276.18 \"/>\n<path clip-path=\"url(#clip530)\" d=\"M2218.46 1283.22 L2218.46 1267.53 L2222.72 1267.53 L2222.72 1283.06 Q2222.72 1286.74 2224.15 1288.6 Q2225.59 1290.42 2228.46 1290.42 Q2231.91 1290.42 2233.9 1288.22 Q2235.91 1286.03 2235.91 1282.23 L2235.91 1267.53 L2240.17 1267.53 L2240.17 1293.46 L2235.91 1293.46 L2235.91 1289.47 Q2234.36 1291.84 2232.3 1292.99 Q2230.26 1294.13 2227.56 1294.13 Q2223.09 1294.13 2220.77 1291.35 Q2218.46 1288.57 2218.46 1283.22 M2229.18 1266.91 L2229.18 1266.91 Z\" fill=\"#000000\" fill-rule=\"evenodd\" fill-opacity=\"1\" /><path clip-path=\"url(#clip530)\" d=\"M2248.09 1290.91 L2252.81 1290.91 L2252.81 1276.77 L2247.65 1277.72 L2247.65 1275.03 L2252.97 1274.13 L2256.14 1274.13 L2256.14 1290.91 L2260.89 1290.91 L2260.89 1293.46 L2248.09 1293.46 L2248.09 1290.91 Z\" fill=\"#000000\" fill-rule=\"evenodd\" fill-opacity=\"1\" /><polyline clip-path=\"url(#clip530)\" style=\"stroke:#e26f46; stroke-linecap:round; stroke-linejoin:round; stroke-width:4; stroke-opacity:1; fill:none\" points=\"2057.69,1328.02 2195.49,1328.02 \"/>\n<path clip-path=\"url(#clip530)\" d=\"M2218.46 1335.06 L2218.46 1319.37 L2222.72 1319.37 L2222.72 1334.9 Q2222.72 1338.58 2224.15 1340.44 Q2225.59 1342.26 2228.46 1342.26 Q2231.91 1342.26 2233.9 1340.06 Q2235.91 1337.87 2235.91 1334.07 L2235.91 1319.37 L2240.17 1319.37 L2240.17 1345.3 L2235.91 1345.3 L2235.91 1341.31 Q2234.36 1343.68 2232.3 1344.83 Q2230.26 1345.97 2227.56 1345.97 Q2223.09 1345.97 2220.77 1343.19 Q2218.46 1340.41 2218.46 1335.06 M2229.18 1318.75 L2229.18 1318.75 Z\" fill=\"#000000\" fill-rule=\"evenodd\" fill-opacity=\"1\" /><path clip-path=\"url(#clip530)\" d=\"M2250.68 1342.66 L2260.5 1342.66 L2260.5 1345.3 L2246.65 1345.3 L2246.65 1342.75 Q2247.44 1342.03 2248.9 1340.74 Q2256.86 1333.68 2256.86 1331.5 Q2256.86 1329.97 2255.66 1329.05 Q2254.45 1328.1 2252.49 1328.1 Q2251.28 1328.1 2249.87 1328.51 Q2248.46 1328.91 2246.79 1329.72 L2246.79 1326.87 Q2248.58 1326.22 2250.1 1325.9 Q2251.65 1325.57 2252.97 1325.57 Q2256.33 1325.57 2258.34 1327.1 Q2260.36 1328.63 2260.36 1331.13 Q2260.36 1334.35 2252.7 1340.92 Q2251.4 1342.03 2250.68 1342.66 Z\" fill=\"#000000\" fill-rule=\"evenodd\" fill-opacity=\"1\" /></svg>\n"
     },
     "metadata": {},
     "output_type": "display_data"
    }
   ],
   "source": [
    "# ---------------------DOUBLE INTEGRATOR--------\n",
    "function discrete_dynamics(p::NamedTuple,x,u,k)\n",
    "    # RK4\n",
    "    A = [1.0  0.0  0.1  0.0;\n",
    "         0.0  1.0  0.0  0.1;\n",
    "         0.0  0.0  1.0  0.0;\n",
    "         0.0  0.0  0.0  1.0]\n",
    "    B = [0.005  0.0;\n",
    "         0.0    0.005;\n",
    "         0.1    0.0;\n",
    "         0.0    0.1]\n",
    "    return A*x + B*u\n",
    "end\n",
    "function ineq_con_x(p,x)\n",
    "    [x-p.x_max;-x + p.x_min]\n",
    "end\n",
    "function ineq_con_u(p,u)\n",
    "    [u-p.u_max;-u + p.u_min]\n",
    "end\n",
    "function ineq_con_u_jac(params,u)\n",
    "    ForwardDiff.jacobian(_u -> ineq_con_u(params,_u), u)\n",
    "end\n",
    "function ineq_con_x_jac(p,x)\n",
    "    ForwardDiff.jacobian(_x -> ineq_con_x(p,_x),x)\n",
    "end\n",
    "\n",
    "# here is the script\n",
    "nx = 4\n",
    "nu = 2\n",
    "N = 30\n",
    "dt = 0.1\n",
    "t_vec = dt*(0:N-1)\n",
    "x0 = [0,0,0,0.]\n",
    "xg = [1,1.,0,0]\n",
    "Xref = [deepcopy(xg) for i = 1:N]\n",
    "Uref = [zeros(nu) for i = 1:N-1]\n",
    "Q = 1e-2*I(nx)\n",
    "R = 1e-1*I(nu)\n",
    "Qf = 1*I(nx)\n",
    "\n",
    "u_min = -2*ones(nu)\n",
    "u_max =  2*ones(nu)\n",
    "\n",
    "# state is x y v θ\n",
    "x_min = -2*ones(nx)\n",
    "x_max =  2*ones(nx)\n",
    "\n",
    "ncx = 2*nx*0\n",
    "ncu = 2*nu*0\n",
    "ncg = 1\n",
    "ncu_cone = 0\n",
    "\n",
    "μ = [zeros(ncu) for i = 1:N-1]   # input constraints\n",
    "μx = [zeros(ncx) for i = 1:N]    # state constraints\n",
    "λ = zeros(nx)    # goal constraint\n",
    "λc = [zeros(ncu_cone) for i = 1:N-1]   # goal constraint\n",
    "\n",
    "params = (\n",
    "    nx = nx,\n",
    "    nu = nu,\n",
    "    ncx = ncx,\n",
    "    ncu = ncu,\n",
    "    ncg = ncg,\n",
    "    ncu_cone = ncu_cone,\n",
    "    μ = μ, μx = μx, λ = λ, λc = λc,\n",
    "    A_cone = A_cone,\n",
    "    c_cone = c_cone,\n",
    "    N = N,\n",
    "    Q = Q,\n",
    "    R = R,\n",
    "    Qf = Qf,\n",
    "    u_min = u_min,\n",
    "    u_max = u_max,\n",
    "    x_min = x_min,\n",
    "    x_max = x_max,\n",
    "    Xref = Xref,\n",
    "    Uref = Uref,\n",
    "    dt = dt,\n",
    "    mc = 1.0,\n",
    "    mp = 0.2,\n",
    "    l = 0.5,\n",
    "    g = 9.81,\n",
    ");\n",
    "\n",
    "# previous iterate\n",
    "X = [deepcopy(x0) for i = 1:N]\n",
    "U = [.01*randn(nu) for i = 1:N-1]\n",
    "\n",
    "# new iterate\n",
    "Xn = deepcopy(X)\n",
    "Un = deepcopy(U)\n",
    "\n",
    "P = [zeros(nx,nx) for i = 1:N]   # cost to go quadratic term\n",
    "p = [zeros(nx) for i = 1:N]      # cost to go linear term\n",
    "d = [zeros(nu) for i = 1:N-1]    # feedforward control\n",
    "K = [zeros(nu,nx) for i = 1:N-1] # feedback gain\n",
    "u_ = mpc(params,X,U,P,p,K,d,Xn,Un; atol=1e-4, max_iters = 20, verbose = true, ρ = 1e2, ρmax = 1e8, ϕ = 10.0);\n",
    "\n",
    "Xsim_m = mat_from_vec(Xn)\n",
    "Usim_m = mat_from_vec(Un)\n",
    "using Plots\n",
    "display(plot(t_vec,Xsim_m',label = [\"x₁\" \"x₂\" \"ẋ₁\" \"ẋ₂\" ],linestyle=[:solid :solid :dash :dash],\n",
    "             title = \"State History\",\n",
    "             xlabel = \"time (s)\", ylabel = \"x\"))\n",
    "display(plot(t_vec[1:end-1],Usim_m',label = [\"u₁\" \"u₂\"],\n",
    "             title = \"Input History\",\n",
    "             xlabel = \"time (s)\", ylabel = \"u\"))"
   ]
  },
  {
   "cell_type": "code",
   "execution_count": 21,
   "id": "105489dc",
   "metadata": {},
   "outputs": [
    {
     "data": {
      "text/plain": [
       "300-element Vector{Vector{Float64}}:\n",
       " [9.732508903055995, -11.102396480711523, 3.4353911969066497]\n",
       " [9.658648174563169, -10.947221164095838, 3.612406659719994]\n",
       " [9.584084403080764, -10.792856163065935, 3.7846058745887476]\n",
       " [9.508852013732701, -10.639321242807476, 3.9520552049056006]\n",
       " [9.432984815932041, -10.486635514692093, 4.114820658971974]\n",
       " [9.35651600892809, -10.334817446349573, 4.272967881177761]\n",
       " [9.279478187378066, -10.183884871673275, 4.42656214346168]\n",
       " [9.201903346939968, -10.03385500075441, 4.575668337055879]\n",
       " [9.123822889888306, -9.884744429743536, 4.720350964500145]\n",
       " [9.04526763074519, -9.736569150645247, 4.860674131931375]\n",
       " [8.966267801931693, -9.589344561033297, 4.996701541635951]\n",
       " [8.886853059432335, -9.443085473699979, 5.128496484864479]\n",
       " [8.807052488472516, -9.29780612622494, 5.256121834906803]\n",
       " ⋮\n",
       " [-0.7829953357417325, 0.5306655445708017, 0.006910349338645545]\n",
       " [-0.7868458954835432, 0.5254888762304408, 0.007288613869662489]\n",
       " [-0.7907133147062774, 0.5203236538384558, 0.007667032298193531]\n",
       " [-0.7945981952978849, 0.5151700591418821, 0.008045612238909811]\n",
       " [-0.7985010901627724, 0.5100282416580892, 0.00842436075615855]\n",
       " [-0.8024225029932935, 0.5048983190005362, 0.008803284360541407]\n",
       " [-0.8063628880379279, 0.4997803772031614, 0.009182389005608785]\n",
       " [-0.8103226498678869, 0.4946744710431027, 0.00956168008448648]\n",
       " [-0.8143021431408415, 0.489580624361859, 0.009941162426668065]\n",
       " [-0.8183016723622757, 0.48449883038519115, 0.01032084029462196]\n",
       " [-0.8223214916444028, 0.47942905204113684, 0.010700717380488224]\n",
       " [-0.8263618044624879, 0.47437122227689804, 0.011080796802835887]"
      ]
     },
     "execution_count": 21,
     "metadata": {},
     "output_type": "execute_result"
    }
   ],
   "source": [
    "Un"
   ]
  },
  {
   "cell_type": "code",
   "execution_count": 14,
   "id": "dc3a372d",
   "metadata": {},
   "outputs": [
    {
     "data": {
      "text/plain": [
       "trajopt_JuMP1 (generic function with 1 method)"
      ]
     },
     "execution_count": 14,
     "metadata": {},
     "output_type": "execute_result"
    }
   ],
   "source": [
    "# Enable warm-starting\n",
    "function trajopt_JuMP1(optimizer, params, X, U, A, B, f; warm_start=true)\n",
    "  Nh = params.N\n",
    "  nx = params.nx\n",
    "  nu = params.nu\n",
    "  α_max = params.c_cone[3]\n",
    "  NN = Nh*nx + (Nh-1)*nu\n",
    "  x0 .= X[1]\n",
    "  \n",
    "  inds = reshape(1:(nx+nu)*Nh,nx+nu,Nh)  \n",
    "  xinds = [z[1:nx] for z in eachcol(inds)]\n",
    "  uinds = [z[nx+1:end] for z in eachcol(inds)][1:Nh-1]    \n",
    "  \n",
    "  model = Model(optimizer)\n",
    "  \n",
    "  @variable(model, z[1:NN])  # z is all decision variables (X U)\n",
    "  if warm_start\n",
    "      z_ws = zeros(NN,1)\n",
    "      for j = 1:Nh-1\n",
    "          z_ws[xinds[j]] .= X[j]\n",
    "          z_ws[uinds[j]] .= U[j]\n",
    "      end\n",
    "      z_ws[xinds[Nh]] .= X[Nh]\n",
    "      set_start_value.(z, z_ws)\n",
    "  end\n",
    "  \n",
    "  P = zeros(NN, NN)\n",
    "  q = zeros(NN, 1) \n",
    "  # Cost function   \n",
    "  for j = 1:Nh-1\n",
    "      P[(j-1)*(nx+nu).+(1:nx),(j-1)*(nx+nu).+(1:nx)], q[(j-1)*(nx+nu).+(1:nx)], \n",
    "      P[(j-1)*(nx+nu)+nx.+(1:nu),(j-1)*(nx+nu)+nx.+(1:nu)], q[(j-1)*(nx+nu)+nx.+(1:nu)] = stage_cost_expansion(params, j)\n",
    "  end    \n",
    "  P[end-nx+1:end,end-nx+1:end], q[end-nx+1:end] = term_cost_expansion(params)\n",
    "  @objective(model, Min, 0.5*dot(z,P,z) + dot(q,z))\n",
    "\n",
    "  # Dynamics Constraints\n",
    "  for k = 1:Nh-1\n",
    "      @constraint(model, A*z[xinds[k]] .+ B*z[uinds[k]] .+ f .== z[xinds[k+1]])\n",
    "  end\n",
    "  \n",
    "  # Initial condition \n",
    "  @constraint(model, z[xinds[1]] .== x0)\n",
    "  \n",
    "#   Thrust angle constraint\n",
    "  if params.ncu_cone > 0 \n",
    "    for k = 1:Nh-1\n",
    "        u1,u2,u3 = z[uinds[k]]\n",
    "        @constraint(model, [α_max * u3, u1, u2] in JuMP.SecondOrderCone())\n",
    "    end\n",
    "  end\n",
    "  \n",
    "  # State Constraints\n",
    "  if params.ncx > 0 \n",
    "    for k = 1:Nh\n",
    "      @constraint(model, z[xinds[k]] .<= params.x_max)\n",
    "      @constraint(model, z[xinds[k]] .>= params.x_min)\n",
    "    end  \n",
    "  end\n",
    "\n",
    "  # Input Constraints\n",
    "  if params.ncu > 0 \n",
    "    for k = 1:Nh-1\n",
    "      @constraint(model, z[uinds[k]] .<= params.u_max)\n",
    "      @constraint(model, z[uinds[k]] .>= params.u_min)\n",
    "    end  \n",
    "  end\n",
    "\n",
    "  # Goal constraint\n",
    "  if params.ncg > 0 \n",
    "      @constraint(model, z[xinds[N]] .== zeros(nx))\n",
    "  end    \n",
    "\n",
    "  optimize!(model)   \n",
    "  termination_status(model) == INFEASIBLE && print(\"Other solver says INFEASIBLE\\n\")\n",
    "  for j = 1:Nh-1\n",
    "      X[j] .= value.(z[xinds[j]]) \n",
    "      U[j] .= value.(z[uinds[j]]) \n",
    "  end    \n",
    "  X[Nh] .= value.(z[xinds[Nh]])\n",
    "  # display(MOI.get(model, MOI.SolveTimeSec()))\n",
    "  return X\n",
    "end"
   ]
  },
  {
   "cell_type": "code",
   "execution_count": 15,
   "id": "cf498bfb",
   "metadata": {},
   "outputs": [
    {
     "name": "stdout",
     "output_type": "stream",
     "text": [
      "(params.λ)' * X[N] = 0.0\n"
     ]
    }
   ],
   "source": [
    "@show params.λ'*X[N]\n",
    "X[N]\n",
    "# params.μx\n",
    "convio = 0.0\n",
    "if params.ncx > 0\n",
    "  for k = 1:N\n",
    "    hxv = ineq_con_x(params,X[k])\n",
    "    mask = eval_mask(μx[k],hxv)\n",
    "    # update dual\n",
    "    convio = max(convio,norm(hxv + abs.(hxv),Inf)) \n",
    "    @show params.μx[k]'*hxv         \n",
    "  end\n",
    "end"
   ]
  },
  {
   "cell_type": "markdown",
   "id": "416df651-52ee-4c43-93e5-aca23c5630b2",
   "metadata": {},
   "source": [
    "For TrajOpt, it needs more tricks to get better results:\n",
    "- Hessian of the projection => better approximation (done)\n",
    "- Scaling between conic constraints and other ones (1/rho, Zac did not buy it)\n",
    "- Solution polishing?\n",
    "\n",
    "Maybe, we don't care about TrajOpt problem, except from a good initial guess, there is nothing we can tune to get better performance. How about reset mpc?"
   ]
  },
  {
   "cell_type": "code",
   "execution_count": 16,
   "id": "12ec6530-7479-455f-843a-81d2c40fb13a",
   "metadata": {},
   "outputs": [
    {
     "ename": "LoadError",
     "evalue": "DimensionMismatch(\"matrix A has dimensions (2,3), vector B has length 2\")",
     "output_type": "error",
     "traceback": [
      "DimensionMismatch(\"matrix A has dimensions (2,3), vector B has length 2\")",
      "",
      "Stacktrace:",
      " [1] generic_matvecmul!(C::Vector{Float64}, tA::Char, A::Matrix{Int64}, B::Vector{Float64}, _add::LinearAlgebra.MulAddMul{true, true, Bool, Bool})",
      "   @ LinearAlgebra /buildworker/worker/package_linux64/build/usr/share/julia/stdlib/v1.6/LinearAlgebra/src/matmul.jl:713",
      " [2] mul!",
      "   @ /buildworker/worker/package_linux64/build/usr/share/julia/stdlib/v1.6/LinearAlgebra/src/matmul.jl:81 [inlined]",
      " [3] mul!",
      "   @ /buildworker/worker/package_linux64/build/usr/share/julia/stdlib/v1.6/LinearAlgebra/src/matmul.jl:275 [inlined]",
      " [4] *",
      "   @ /buildworker/worker/package_linux64/build/usr/share/julia/stdlib/v1.6/LinearAlgebra/src/matmul.jl:51 [inlined]",
      " [5] cone_u(p::NamedTuple{(:nx, :nu, :ncx, :ncu, :ncg, :ncu_cone, :μ, :μx, :λ, :λc, :A_cone, :c_cone, :N, :Q, :R, :Qf, :u_min, :u_max, :x_min, :x_max, :Xref, :Uref, :dt, :mc, :mp, :l, :g), Tuple{Int64, Int64, Int64, Int64, Int64, Int64, Vector{Vector{Float64}}, Vector{Vector{Float64}}, Vector{Float64}, Vector{Vector{Float64}}, Matrix{Int64}, Vector{Float64}, Int64, Diagonal{Float64, Vector{Float64}}, Diagonal{Float64, Vector{Float64}}, Diagonal{Int64, Vector{Int64}}, Vector{Float64}, Vector{Float64}, Vector{Float64}, Vector{Float64}, Vector{Vector{Float64}}, Vector{Vector{Float64}}, Float64, Float64, Float64, Float64, Float64}}, u::Vector{Float64})",
      "   @ Main ./In[10]:29",
      " [6] top-level scope",
      "   @ ./In[16]:4",
      " [7] eval",
      "   @ ./boot.jl:360 [inlined]",
      " [8] include_string(mapexpr::typeof(REPL.softscope), mod::Module, code::String, filename::String)",
      "   @ Base ./loading.jl:1116"
     ]
    }
   ],
   "source": [
    "# Check conic violation\n",
    "convio = 0.0\n",
    "for k = 1:30\n",
    "    Uc = cone_u(params, Un[k])\n",
    "    huc = norm(Uc[1:2]) - Uc[3]\n",
    "    convio = norm(huc + abs.(huc),Inf)\n",
    "    display(huc) # should <= 0\n",
    "end\n",
    "Xref .= Xn;\n",
    "Uref .= Un;"
   ]
  },
  {
   "cell_type": "code",
   "execution_count": null,
   "id": "5c8d15e2-a563-4077-96df-8f829ba24d00",
   "metadata": {},
   "outputs": [
    {
     "name": "stdout",
     "output_type": "stream",
     "text": [
      "Our solver reachs MAX PENALTY\n",
      "Our solver reachs MAX PENALTY\n",
      "Our solver reachs MAX PENALTY\n",
      "Our solver reachs MAX PENALTY\n",
      "Our solver reachs MAX PENALTY\n",
      "Our solver reachs MAX PENALTY\n",
      "Our solver reachs MAX PENALTY\n",
      "Our solver reachs MAX PENALTY\n"
     ]
    }
   ],
   "source": [
    "### MPC style with other solver ###\n",
    "include(\"mpc_JuMP.jl\")\n",
    "\n",
    "Nsim = 301\n",
    "Nh = 21\n",
    "t_vec = dt*(0:Nsim-1)\n",
    "\n",
    "x0 = [4, 2, 20, -3, 2, -5.0]  # initial plan\n",
    "# x0 = [5, 2, 21, -3, 2, -5.0]  # change this!\n",
    "# x0 = [4.4, 2.2, 20.2, -3.03, 2.02, -5.05]\n",
    "\n",
    "xg = [0,0,0,0,0,0.0]\n",
    "Q = 100e-1*I(nx)  # make this higher!\n",
    "R = 1e-1*I(nu)\n",
    "Qf = 10*I(nx) # change this!\n",
    "θ_thrust_max = 5.0  # increase max thrust from plan!\n",
    "\n",
    "# state is x y v θ\n",
    "x_min = [-5,-5,0,-10,-10,-10.0]\n",
    "x_max = [5,5,20,10,10,10.0]\n",
    "\n",
    "ncx = 2*nx*0\n",
    "ncu = 2*nu*0\n",
    "ncg = 0\n",
    "ncu_cone = nu*1; \n",
    "cone_scale = 1e0\n",
    "\n",
    "params = (\n",
    "    nx = nx,\n",
    "    nu = nu,\n",
    "    ncx = ncx,\n",
    "    ncu = ncu,\n",
    "    ncg = ncg,\n",
    "    ncu_cone = ncu_cone,\n",
    "    A_cone = A_cone,\n",
    "    c_cone = c_cone,\n",
    "    N = Nh,\n",
    "    Q = Q,\n",
    "    R = R,\n",
    "    Qf = Qf,\n",
    "    u_min = u_min,\n",
    "    u_max = u_max,\n",
    "    x_min = x_min,\n",
    "    x_max = x_max,\n",
    "    Xref = Xref,\n",
    "    Uref = Uref,\n",
    "    dt = dt,\n",
    "    mc = 1.0,\n",
    "    mp = 0.2,\n",
    "    l = 0.5,\n",
    "    g = 9.81,\n",
    ");\n",
    "\n",
    "Xhist = [deepcopy(x0) for i = 1:Nsim]\n",
    "Uhist = [-mass * gravity for k = 1:Nsim-1]\n",
    "# previous iterate\n",
    "X = [deepcopy(x0) for i = 1:Nh]\n",
    "U = [-mass * gravity for k = 1:Nh-1]\n",
    "\n",
    "# new iterate\n",
    "Xn = deepcopy(X)\n",
    "Un = deepcopy(U)\n",
    "\n",
    "P = [zeros(nx,nx) for i = 1:Nh]   # cost to go quadratic term\n",
    "p = [zeros(nx) for i = 1:Nh]      # cost to go linear term\n",
    "d = [zeros(nu) for i = 1:Nh-1]    # feedforward control\n",
    "K = [zeros(nu,nx) for i = 1:Nh-1] # feedback gain\n",
    "\n",
    "optimizer = JuMP.optimizer_with_attributes(COSMO.Optimizer,\n",
    "    \"verbose\"=>false,\n",
    "    \"eps_abs\"=>1e-4,\n",
    "    \"eps_rel\"=>1e-4,\n",
    "    \"rho\"=>1e-2,\n",
    "    \"scaling\"=>0,\n",
    "    \"alpha\"=>1.0)\n",
    "Random.seed!(1);\n",
    "for i = 1:Nsim-Nh-1\n",
    "    params1 = (; params..., Uref = Uref[i:Nh+i], Xref = Xref[i:Nh+i-1])  # update ref\n",
    "    \n",
    "    pos_norm = norm(Xhist[i][1:3], Inf) / 100 # 1% noise\n",
    "    vel_norm = norm(Xhist[4:6], Inf) / 1e6 # 1ppm noise\n",
    "    noise_pos = randn(3)\n",
    "    noise_vel = randn(3)\n",
    "    Xhist[i] += [noise_pos * pos_norm; noise_vel * vel_norm]\n",
    "    X[1] .= Xhist[i] \n",
    "    \n",
    "    # Uhist[i] = mpc_JuMP(optimizer, params1, X, U, A, B, f; warm_start=false)\n",
    "    \n",
    "    # X = [Xhist[i] for i = 1:Nh]  # reset, avoid warm-staring\n",
    "    # U = [-mass * gravity for k = 1:Nh-1]\n",
    "    X[1] .= Xhist[i]; Uhist[i] = mpc(params1,X,U,P,p,K,d,Xn,Un;atol=1e-4,max_iters = 10,verbose = false,ρ = 100, ϕ = 10.0) \n",
    "    \n",
    "    Xhist[i+1] = discrete_dynamics(params1,Xhist[i],Uhist[i],i)  # dynamics\n",
    "end"
   ]
  },
  {
   "cell_type": "markdown",
   "id": "4a1732ad-eb0e-48b4-8896-73a7e8b9997c",
   "metadata": {},
   "source": [
    "1. COSMO gives better tracking results\n",
    "2. Ours always need warm-start"
   ]
  },
  {
   "cell_type": "code",
   "execution_count": null,
   "id": "d651f59e-e700-4bc9-927c-98835f2679f4",
   "metadata": {},
   "outputs": [
    {
     "data": {
      "text/plain": [
       "0.5773827925917239"
      ]
     },
     "metadata": {},
     "output_type": "display_data"
    },
    {
     "data": {
      "text/plain": [
       "-1.2092557891129108"
      ]
     },
     "metadata": {},
     "output_type": "display_data"
    },
    {
     "data": {
      "text/plain": [
       "-1.6772519392017582"
      ]
     },
     "metadata": {},
     "output_type": "display_data"
    },
    {
     "data": {
      "text/plain": [
       "-2.239516548578866"
      ]
     },
     "metadata": {},
     "output_type": "display_data"
    },
    {
     "data": {
      "text/plain": [
       "-1.3960037758558084"
      ]
     },
     "metadata": {},
     "output_type": "display_data"
    },
    {
     "data": {
      "text/plain": [
       "-2.444445673634301"
      ]
     },
     "metadata": {},
     "output_type": "display_data"
    },
    {
     "data": {
      "text/plain": [
       "-2.9138795583666868"
      ]
     },
     "metadata": {},
     "output_type": "display_data"
    },
    {
     "data": {
      "text/plain": [
       "-2.5783432123487335"
      ]
     },
     "metadata": {},
     "output_type": "display_data"
    },
    {
     "data": {
      "text/plain": [
       "-1.6142133196191661"
      ]
     },
     "metadata": {},
     "output_type": "display_data"
    },
    {
     "data": {
      "text/plain": [
       "-1.8599183863501398"
      ]
     },
     "metadata": {},
     "output_type": "display_data"
    },
    {
     "data": {
      "text/plain": [
       "-1.4070973663932218"
      ]
     },
     "metadata": {},
     "output_type": "display_data"
    },
    {
     "data": {
      "text/plain": [
       "-0.487174665197573"
      ]
     },
     "metadata": {},
     "output_type": "display_data"
    },
    {
     "data": {
      "text/plain": [
       "-1.6727815912545"
      ]
     },
     "metadata": {},
     "output_type": "display_data"
    },
    {
     "data": {
      "text/plain": [
       "-2.9513547742837734"
      ]
     },
     "metadata": {},
     "output_type": "display_data"
    },
    {
     "data": {
      "text/plain": [
       "-3.3250042999963405"
      ]
     },
     "metadata": {},
     "output_type": "display_data"
    },
    {
     "data": {
      "text/plain": [
       "-3.143286601233962"
      ]
     },
     "metadata": {},
     "output_type": "display_data"
    },
    {
     "data": {
      "text/plain": [
       "-3.524979675168588"
      ]
     },
     "metadata": {},
     "output_type": "display_data"
    },
    {
     "data": {
      "text/plain": [
       "-3.268260369717094"
      ]
     },
     "metadata": {},
     "output_type": "display_data"
    },
    {
     "data": {
      "text/plain": [
       "-3.325391207384439"
      ]
     },
     "metadata": {},
     "output_type": "display_data"
    },
    {
     "data": {
      "text/plain": [
       "-3.9153724577795073"
      ]
     },
     "metadata": {},
     "output_type": "display_data"
    },
    {
     "data": {
      "text/plain": [
       "-3.4997671723883954"
      ]
     },
     "metadata": {},
     "output_type": "display_data"
    },
    {
     "data": {
      "text/plain": [
       "-2.882591391146941"
      ]
     },
     "metadata": {},
     "output_type": "display_data"
    },
    {
     "data": {
      "text/plain": [
       "-3.3056392460609905"
      ]
     },
     "metadata": {},
     "output_type": "display_data"
    },
    {
     "data": {
      "text/plain": [
       "-3.5461848198881887"
      ]
     },
     "metadata": {},
     "output_type": "display_data"
    },
    {
     "data": {
      "text/plain": [
       "-3.243514068972692"
      ]
     },
     "metadata": {},
     "output_type": "display_data"
    },
    {
     "data": {
      "text/plain": [
       "-2.965515581811835"
      ]
     },
     "metadata": {},
     "output_type": "display_data"
    },
    {
     "data": {
      "text/plain": [
       "-2.860309257714996"
      ]
     },
     "metadata": {},
     "output_type": "display_data"
    },
    {
     "data": {
      "text/plain": [
       "-2.8970573276001508"
      ]
     },
     "metadata": {},
     "output_type": "display_data"
    },
    {
     "data": {
      "text/plain": [
       "-2.5751511676844085"
      ]
     },
     "metadata": {},
     "output_type": "display_data"
    },
    {
     "data": {
      "text/plain": [
       "-2.9528545519892235"
      ]
     },
     "metadata": {},
     "output_type": "display_data"
    },
    {
     "data": {
      "text/plain": [
       "-2.7555859990873905"
      ]
     },
     "metadata": {},
     "output_type": "display_data"
    },
    {
     "data": {
      "text/plain": [
       "-2.337757692717253"
      ]
     },
     "metadata": {},
     "output_type": "display_data"
    },
    {
     "data": {
      "text/plain": [
       "-2.1706043244831736"
      ]
     },
     "metadata": {},
     "output_type": "display_data"
    },
    {
     "data": {
      "text/plain": [
       "-1.7130878529995428"
      ]
     },
     "metadata": {},
     "output_type": "display_data"
    },
    {
     "data": {
      "text/plain": [
       "-1.369676505454219"
      ]
     },
     "metadata": {},
     "output_type": "display_data"
    },
    {
     "data": {
      "text/plain": [
       "-2.2964955626576575"
      ]
     },
     "metadata": {},
     "output_type": "display_data"
    },
    {
     "data": {
      "text/plain": [
       "-2.116036185859265"
      ]
     },
     "metadata": {},
     "output_type": "display_data"
    },
    {
     "data": {
      "text/plain": [
       "-2.2491653058534897"
      ]
     },
     "metadata": {},
     "output_type": "display_data"
    },
    {
     "data": {
      "text/plain": [
       "-1.8217796590568565"
      ]
     },
     "metadata": {},
     "output_type": "display_data"
    },
    {
     "data": {
      "text/plain": [
       "-2.353667339964298"
      ]
     },
     "metadata": {},
     "output_type": "display_data"
    },
    {
     "data": {
      "text/plain": [
       "-1.7609474216833298"
      ]
     },
     "metadata": {},
     "output_type": "display_data"
    },
    {
     "data": {
      "text/plain": [
       "-1.968332656682895"
      ]
     },
     "metadata": {},
     "output_type": "display_data"
    },
    {
     "data": {
      "text/plain": [
       "-2.0994904923331834"
      ]
     },
     "metadata": {},
     "output_type": "display_data"
    },
    {
     "data": {
      "text/plain": [
       "-0.6840538466520627"
      ]
     },
     "metadata": {},
     "output_type": "display_data"
    },
    {
     "data": {
      "text/plain": [
       "-1.880634475475878"
      ]
     },
     "metadata": {},
     "output_type": "display_data"
    },
    {
     "data": {
      "text/plain": [
       "-1.854687225479796"
      ]
     },
     "metadata": {},
     "output_type": "display_data"
    },
    {
     "data": {
      "text/plain": [
       "-1.296395628503877"
      ]
     },
     "metadata": {},
     "output_type": "display_data"
    },
    {
     "data": {
      "text/plain": [
       "-0.32343161589511205"
      ]
     },
     "metadata": {},
     "output_type": "display_data"
    },
    {
     "data": {
      "text/plain": [
       "-0.22815132390204163"
      ]
     },
     "metadata": {},
     "output_type": "display_data"
    },
    {
     "data": {
      "text/plain": [
       "-0.9834678301770268"
      ]
     },
     "metadata": {},
     "output_type": "display_data"
    },
    {
     "data": {
      "text/plain": [
       "-0.8941781540126073"
      ]
     },
     "metadata": {},
     "output_type": "display_data"
    },
    {
     "data": {
      "text/plain": [
       "-0.33539580071324515"
      ]
     },
     "metadata": {},
     "output_type": "display_data"
    },
    {
     "data": {
      "text/plain": [
       "0.23279691108732337"
      ]
     },
     "metadata": {},
     "output_type": "display_data"
    },
    {
     "data": {
      "text/plain": [
       "0.024086456558949365"
      ]
     },
     "metadata": {},
     "output_type": "display_data"
    },
    {
     "data": {
      "text/plain": [
       "-0.09979386644097588"
      ]
     },
     "metadata": {},
     "output_type": "display_data"
    },
    {
     "data": {
      "text/plain": [
       "-0.5996962731661082"
      ]
     },
     "metadata": {},
     "output_type": "display_data"
    },
    {
     "data": {
      "text/plain": [
       "-0.17186720921952414"
      ]
     },
     "metadata": {},
     "output_type": "display_data"
    },
    {
     "data": {
      "text/plain": [
       "-0.9551546630429328"
      ]
     },
     "metadata": {},
     "output_type": "display_data"
    },
    {
     "data": {
      "text/plain": [
       "-0.9160612726433239"
      ]
     },
     "metadata": {},
     "output_type": "display_data"
    },
    {
     "data": {
      "text/plain": [
       "-1.3872357486624658"
      ]
     },
     "metadata": {},
     "output_type": "display_data"
    },
    {
     "data": {
      "text/plain": [
       "-1.8918508443503645"
      ]
     },
     "metadata": {},
     "output_type": "display_data"
    },
    {
     "data": {
      "text/plain": [
       "-2.0532936676695055"
      ]
     },
     "metadata": {},
     "output_type": "display_data"
    },
    {
     "data": {
      "text/plain": [
       "-1.6670392877759488"
      ]
     },
     "metadata": {},
     "output_type": "display_data"
    },
    {
     "data": {
      "text/plain": [
       "-2.233233725273318"
      ]
     },
     "metadata": {},
     "output_type": "display_data"
    },
    {
     "data": {
      "text/plain": [
       "-3.038963559290419"
      ]
     },
     "metadata": {},
     "output_type": "display_data"
    },
    {
     "data": {
      "text/plain": [
       "-3.0032686063121616"
      ]
     },
     "metadata": {},
     "output_type": "display_data"
    },
    {
     "data": {
      "text/plain": [
       "-3.1828502320767935"
      ]
     },
     "metadata": {},
     "output_type": "display_data"
    },
    {
     "data": {
      "text/plain": [
       "-3.143648785901777"
      ]
     },
     "metadata": {},
     "output_type": "display_data"
    },
    {
     "data": {
      "text/plain": [
       "-3.124468047458291"
      ]
     },
     "metadata": {},
     "output_type": "display_data"
    },
    {
     "data": {
      "text/plain": [
       "-3.955710426511004"
      ]
     },
     "metadata": {},
     "output_type": "display_data"
    },
    {
     "data": {
      "text/plain": [
       "-4.1684235771648845"
      ]
     },
     "metadata": {},
     "output_type": "display_data"
    },
    {
     "data": {
      "text/plain": [
       "-4.7438251489613705"
      ]
     },
     "metadata": {},
     "output_type": "display_data"
    },
    {
     "data": {
      "text/plain": [
       "-5.200653192157047"
      ]
     },
     "metadata": {},
     "output_type": "display_data"
    },
    {
     "data": {
      "text/plain": [
       "-4.714675131565797"
      ]
     },
     "metadata": {},
     "output_type": "display_data"
    },
    {
     "data": {
      "text/plain": [
       "-4.37091212170323"
      ]
     },
     "metadata": {},
     "output_type": "display_data"
    },
    {
     "data": {
      "text/plain": [
       "-3.999664726369584"
      ]
     },
     "metadata": {},
     "output_type": "display_data"
    },
    {
     "data": {
      "text/plain": [
       "-3.422860539415457"
      ]
     },
     "metadata": {},
     "output_type": "display_data"
    },
    {
     "data": {
      "text/plain": [
       "-3.89606872687828"
      ]
     },
     "metadata": {},
     "output_type": "display_data"
    },
    {
     "data": {
      "text/plain": [
       "-5.551998687976506"
      ]
     },
     "metadata": {},
     "output_type": "display_data"
    },
    {
     "data": {
      "text/plain": [
       "-6.104701177763527"
      ]
     },
     "metadata": {},
     "output_type": "display_data"
    },
    {
     "data": {
      "text/plain": [
       "-6.928292957332893"
      ]
     },
     "metadata": {},
     "output_type": "display_data"
    },
    {
     "data": {
      "text/plain": [
       "-7.366940296978721"
      ]
     },
     "metadata": {},
     "output_type": "display_data"
    },
    {
     "data": {
      "text/plain": [
       "-6.747620702687646"
      ]
     },
     "metadata": {},
     "output_type": "display_data"
    },
    {
     "data": {
      "text/plain": [
       "-6.579697368049345"
      ]
     },
     "metadata": {},
     "output_type": "display_data"
    },
    {
     "data": {
      "text/plain": [
       "-6.153676537847965"
      ]
     },
     "metadata": {},
     "output_type": "display_data"
    },
    {
     "data": {
      "text/plain": [
       "-6.104421119144458"
      ]
     },
     "metadata": {},
     "output_type": "display_data"
    },
    {
     "data": {
      "text/plain": [
       "-5.793339217062525"
      ]
     },
     "metadata": {},
     "output_type": "display_data"
    },
    {
     "data": {
      "text/plain": [
       "-5.980210776945206"
      ]
     },
     "metadata": {},
     "output_type": "display_data"
    },
    {
     "data": {
      "text/plain": [
       "-4.690327926155208"
      ]
     },
     "metadata": {},
     "output_type": "display_data"
    },
    {
     "data": {
      "text/plain": [
       "-4.535970152191225"
      ]
     },
     "metadata": {},
     "output_type": "display_data"
    },
    {
     "data": {
      "text/plain": [
       "-4.953173362422353"
      ]
     },
     "metadata": {},
     "output_type": "display_data"
    },
    {
     "data": {
      "text/plain": [
       "-5.154468580092326"
      ]
     },
     "metadata": {},
     "output_type": "display_data"
    },
    {
     "data": {
      "text/plain": [
       "-5.046667874084184"
      ]
     },
     "metadata": {},
     "output_type": "display_data"
    },
    {
     "data": {
      "text/plain": [
       "-5.534743254382043"
      ]
     },
     "metadata": {},
     "output_type": "display_data"
    },
    {
     "data": {
      "text/plain": [
       "-5.433499668220815"
      ]
     },
     "metadata": {},
     "output_type": "display_data"
    },
    {
     "data": {
      "text/plain": [
       "-6.098409074068181"
      ]
     },
     "metadata": {},
     "output_type": "display_data"
    },
    {
     "data": {
      "text/plain": [
       "-6.09639018635259"
      ]
     },
     "metadata": {},
     "output_type": "display_data"
    },
    {
     "data": {
      "text/plain": [
       "-6.1809816784597125"
      ]
     },
     "metadata": {},
     "output_type": "display_data"
    },
    {
     "data": {
      "text/plain": [
       "-6.544078184315619"
      ]
     },
     "metadata": {},
     "output_type": "display_data"
    },
    {
     "data": {
      "text/plain": [
       "-6.080446420536225"
      ]
     },
     "metadata": {},
     "output_type": "display_data"
    },
    {
     "data": {
      "text/plain": [
       "-5.63376962612886"
      ]
     },
     "metadata": {},
     "output_type": "display_data"
    },
    {
     "data": {
      "text/plain": [
       "-5.781143800550421"
      ]
     },
     "metadata": {},
     "output_type": "display_data"
    },
    {
     "data": {
      "text/plain": [
       "-5.95738256309426"
      ]
     },
     "metadata": {},
     "output_type": "display_data"
    },
    {
     "data": {
      "text/plain": [
       "-5.407270249448292"
      ]
     },
     "metadata": {},
     "output_type": "display_data"
    },
    {
     "data": {
      "text/plain": [
       "-4.31569742398861"
      ]
     },
     "metadata": {},
     "output_type": "display_data"
    },
    {
     "data": {
      "text/plain": [
       "-3.559640818777755"
      ]
     },
     "metadata": {},
     "output_type": "display_data"
    },
    {
     "data": {
      "text/plain": [
       "-3.1807838289250876"
      ]
     },
     "metadata": {},
     "output_type": "display_data"
    },
    {
     "data": {
      "text/plain": [
       "-3.7947790851715295"
      ]
     },
     "metadata": {},
     "output_type": "display_data"
    },
    {
     "data": {
      "text/plain": [
       "-4.900642224562565"
      ]
     },
     "metadata": {},
     "output_type": "display_data"
    },
    {
     "data": {
      "text/plain": [
       "-4.545270090574057"
      ]
     },
     "metadata": {},
     "output_type": "display_data"
    },
    {
     "data": {
      "text/plain": [
       "-5.145726394826202"
      ]
     },
     "metadata": {},
     "output_type": "display_data"
    },
    {
     "data": {
      "text/plain": [
       "-5.56375921209187"
      ]
     },
     "metadata": {},
     "output_type": "display_data"
    },
    {
     "data": {
      "text/plain": [
       "-5.288683069760928"
      ]
     },
     "metadata": {},
     "output_type": "display_data"
    },
    {
     "data": {
      "text/plain": [
       "-4.380528937315249"
      ]
     },
     "metadata": {},
     "output_type": "display_data"
    },
    {
     "data": {
      "text/plain": [
       "-4.006010637114419"
      ]
     },
     "metadata": {},
     "output_type": "display_data"
    },
    {
     "data": {
      "text/plain": [
       "-4.622629656345957"
      ]
     },
     "metadata": {},
     "output_type": "display_data"
    },
    {
     "data": {
      "text/plain": [
       "-5.547730942910623"
      ]
     },
     "metadata": {},
     "output_type": "display_data"
    },
    {
     "data": {
      "text/plain": [
       "-5.9126669766100335"
      ]
     },
     "metadata": {},
     "output_type": "display_data"
    },
    {
     "data": {
      "text/plain": [
       "-6.930400767175626"
      ]
     },
     "metadata": {},
     "output_type": "display_data"
    },
    {
     "data": {
      "text/plain": [
       "-6.9310391135705185"
      ]
     },
     "metadata": {},
     "output_type": "display_data"
    },
    {
     "data": {
      "text/plain": [
       "-7.489945909091688"
      ]
     },
     "metadata": {},
     "output_type": "display_data"
    },
    {
     "data": {
      "text/plain": [
       "-7.65853468067873"
      ]
     },
     "metadata": {},
     "output_type": "display_data"
    },
    {
     "data": {
      "text/plain": [
       "-8.112165443501944"
      ]
     },
     "metadata": {},
     "output_type": "display_data"
    },
    {
     "data": {
      "text/plain": [
       "-7.304840656571251"
      ]
     },
     "metadata": {},
     "output_type": "display_data"
    },
    {
     "data": {
      "text/plain": [
       "-7.489204873084939"
      ]
     },
     "metadata": {},
     "output_type": "display_data"
    },
    {
     "data": {
      "text/plain": [
       "-7.809462001619837"
      ]
     },
     "metadata": {},
     "output_type": "display_data"
    },
    {
     "data": {
      "text/plain": [
       "-7.191053092692164"
      ]
     },
     "metadata": {},
     "output_type": "display_data"
    },
    {
     "data": {
      "text/plain": [
       "-7.421371498659555"
      ]
     },
     "metadata": {},
     "output_type": "display_data"
    },
    {
     "data": {
      "text/plain": [
       "-7.009954436387233"
      ]
     },
     "metadata": {},
     "output_type": "display_data"
    },
    {
     "data": {
      "text/plain": [
       "-6.486592103891809"
      ]
     },
     "metadata": {},
     "output_type": "display_data"
    },
    {
     "data": {
      "text/plain": [
       "-6.924605842159767"
      ]
     },
     "metadata": {},
     "output_type": "display_data"
    },
    {
     "data": {
      "text/plain": [
       "-7.088772778940951"
      ]
     },
     "metadata": {},
     "output_type": "display_data"
    },
    {
     "data": {
      "text/plain": [
       "-7.261818366527171"
      ]
     },
     "metadata": {},
     "output_type": "display_data"
    },
    {
     "data": {
      "text/plain": [
       "-7.3099316179094105"
      ]
     },
     "metadata": {},
     "output_type": "display_data"
    },
    {
     "data": {
      "text/plain": [
       "-5.901346472483153"
      ]
     },
     "metadata": {},
     "output_type": "display_data"
    },
    {
     "data": {
      "text/plain": [
       "-5.102101898523404"
      ]
     },
     "metadata": {},
     "output_type": "display_data"
    },
    {
     "data": {
      "text/plain": [
       "-5.522995000768271"
      ]
     },
     "metadata": {},
     "output_type": "display_data"
    },
    {
     "data": {
      "text/plain": [
       "-6.236604762992206"
      ]
     },
     "metadata": {},
     "output_type": "display_data"
    },
    {
     "data": {
      "text/plain": [
       "-6.168939518903629"
      ]
     },
     "metadata": {},
     "output_type": "display_data"
    },
    {
     "data": {
      "text/plain": [
       "-5.1130306803665775"
      ]
     },
     "metadata": {},
     "output_type": "display_data"
    },
    {
     "data": {
      "text/plain": [
       "-5.2471225402333985"
      ]
     },
     "metadata": {},
     "output_type": "display_data"
    },
    {
     "data": {
      "text/plain": [
       "-5.491819868011435"
      ]
     },
     "metadata": {},
     "output_type": "display_data"
    },
    {
     "data": {
      "text/plain": [
       "-4.319472654195039"
      ]
     },
     "metadata": {},
     "output_type": "display_data"
    },
    {
     "data": {
      "text/plain": [
       "-5.1290144980660815"
      ]
     },
     "metadata": {},
     "output_type": "display_data"
    },
    {
     "data": {
      "text/plain": [
       "-5.008855046977763"
      ]
     },
     "metadata": {},
     "output_type": "display_data"
    },
    {
     "data": {
      "text/plain": [
       "-6.416557293919298"
      ]
     },
     "metadata": {},
     "output_type": "display_data"
    },
    {
     "data": {
      "text/plain": [
       "-5.935063520815477"
      ]
     },
     "metadata": {},
     "output_type": "display_data"
    },
    {
     "data": {
      "text/plain": [
       "-5.846264114924331"
      ]
     },
     "metadata": {},
     "output_type": "display_data"
    },
    {
     "data": {
      "text/plain": [
       "-5.250729255580829"
      ]
     },
     "metadata": {},
     "output_type": "display_data"
    },
    {
     "data": {
      "text/plain": [
       "-6.427793543712462"
      ]
     },
     "metadata": {},
     "output_type": "display_data"
    },
    {
     "data": {
      "text/plain": [
       "-7.755656426779545"
      ]
     },
     "metadata": {},
     "output_type": "display_data"
    },
    {
     "data": {
      "text/plain": [
       "-7.270651092734911"
      ]
     },
     "metadata": {},
     "output_type": "display_data"
    },
    {
     "data": {
      "text/plain": [
       "-7.193655949770335"
      ]
     },
     "metadata": {},
     "output_type": "display_data"
    },
    {
     "data": {
      "text/plain": [
       "-7.01573763932284"
      ]
     },
     "metadata": {},
     "output_type": "display_data"
    },
    {
     "data": {
      "text/plain": [
       "-6.4785321107128375"
      ]
     },
     "metadata": {},
     "output_type": "display_data"
    },
    {
     "data": {
      "text/plain": [
       "-5.846288397275712"
      ]
     },
     "metadata": {},
     "output_type": "display_data"
    },
    {
     "data": {
      "text/plain": [
       "-5.755967192699586"
      ]
     },
     "metadata": {},
     "output_type": "display_data"
    },
    {
     "data": {
      "text/plain": [
       "-6.317111220201267"
      ]
     },
     "metadata": {},
     "output_type": "display_data"
    },
    {
     "data": {
      "text/plain": [
       "-5.616390787071972"
      ]
     },
     "metadata": {},
     "output_type": "display_data"
    },
    {
     "data": {
      "text/plain": [
       "-5.4001651167134685"
      ]
     },
     "metadata": {},
     "output_type": "display_data"
    },
    {
     "data": {
      "text/plain": [
       "-5.864093090786188"
      ]
     },
     "metadata": {},
     "output_type": "display_data"
    },
    {
     "data": {
      "text/plain": [
       "-5.806291163134411"
      ]
     },
     "metadata": {},
     "output_type": "display_data"
    },
    {
     "data": {
      "text/plain": [
       "-6.118778358485605"
      ]
     },
     "metadata": {},
     "output_type": "display_data"
    },
    {
     "data": {
      "text/plain": [
       "-5.018854004904721"
      ]
     },
     "metadata": {},
     "output_type": "display_data"
    },
    {
     "data": {
      "text/plain": [
       "-4.394391581760039"
      ]
     },
     "metadata": {},
     "output_type": "display_data"
    },
    {
     "data": {
      "text/plain": [
       "-4.657526987713216"
      ]
     },
     "metadata": {},
     "output_type": "display_data"
    },
    {
     "data": {
      "text/plain": [
       "-4.721374080147872"
      ]
     },
     "metadata": {},
     "output_type": "display_data"
    },
    {
     "data": {
      "text/plain": [
       "-4.7875213443106945"
      ]
     },
     "metadata": {},
     "output_type": "display_data"
    },
    {
     "data": {
      "text/plain": [
       "-3.423121072766845"
      ]
     },
     "metadata": {},
     "output_type": "display_data"
    },
    {
     "data": {
      "text/plain": [
       "-3.2900277781416642"
      ]
     },
     "metadata": {},
     "output_type": "display_data"
    },
    {
     "data": {
      "text/plain": [
       "-3.181806129901484"
      ]
     },
     "metadata": {},
     "output_type": "display_data"
    },
    {
     "data": {
      "text/plain": [
       "-3.9867099388135685"
      ]
     },
     "metadata": {},
     "output_type": "display_data"
    },
    {
     "data": {
      "text/plain": [
       "-5.113465256093601"
      ]
     },
     "metadata": {},
     "output_type": "display_data"
    },
    {
     "data": {
      "text/plain": [
       "-5.858033159289658"
      ]
     },
     "metadata": {},
     "output_type": "display_data"
    },
    {
     "data": {
      "text/plain": [
       "-5.155823107875875"
      ]
     },
     "metadata": {},
     "output_type": "display_data"
    },
    {
     "data": {
      "text/plain": [
       "-5.016829191378204"
      ]
     },
     "metadata": {},
     "output_type": "display_data"
    },
    {
     "data": {
      "text/plain": [
       "-4.283638543966338"
      ]
     },
     "metadata": {},
     "output_type": "display_data"
    },
    {
     "data": {
      "text/plain": [
       "-3.755876763775885"
      ]
     },
     "metadata": {},
     "output_type": "display_data"
    },
    {
     "data": {
      "text/plain": [
       "-3.186940285819171"
      ]
     },
     "metadata": {},
     "output_type": "display_data"
    },
    {
     "data": {
      "text/plain": [
       "-2.688898742065188"
      ]
     },
     "metadata": {},
     "output_type": "display_data"
    },
    {
     "data": {
      "text/plain": [
       "-3.5797961116972647"
      ]
     },
     "metadata": {},
     "output_type": "display_data"
    },
    {
     "data": {
      "text/plain": [
       "-4.101505906418765"
      ]
     },
     "metadata": {},
     "output_type": "display_data"
    },
    {
     "data": {
      "text/plain": [
       "-5.3606539803170365"
      ]
     },
     "metadata": {},
     "output_type": "display_data"
    },
    {
     "data": {
      "text/plain": [
       "-5.314750444805702"
      ]
     },
     "metadata": {},
     "output_type": "display_data"
    },
    {
     "data": {
      "text/plain": [
       "-5.416826531109802"
      ]
     },
     "metadata": {},
     "output_type": "display_data"
    },
    {
     "data": {
      "text/plain": [
       "-5.018933431041698"
      ]
     },
     "metadata": {},
     "output_type": "display_data"
    },
    {
     "data": {
      "text/plain": [
       "-5.653928076977802"
      ]
     },
     "metadata": {},
     "output_type": "display_data"
    },
    {
     "data": {
      "text/plain": [
       "-6.310627077765342"
      ]
     },
     "metadata": {},
     "output_type": "display_data"
    },
    {
     "data": {
      "text/plain": [
       "-6.4596074925259765"
      ]
     },
     "metadata": {},
     "output_type": "display_data"
    },
    {
     "data": {
      "text/plain": [
       "-6.401653235118101"
      ]
     },
     "metadata": {},
     "output_type": "display_data"
    },
    {
     "data": {
      "text/plain": [
       "-6.6453125721944035"
      ]
     },
     "metadata": {},
     "output_type": "display_data"
    },
    {
     "data": {
      "text/plain": [
       "-5.062709702554846"
      ]
     },
     "metadata": {},
     "output_type": "display_data"
    },
    {
     "data": {
      "text/plain": [
       "-5.2014331285877144"
      ]
     },
     "metadata": {},
     "output_type": "display_data"
    },
    {
     "data": {
      "text/plain": [
       "-7.321748677307772"
      ]
     },
     "metadata": {},
     "output_type": "display_data"
    },
    {
     "data": {
      "text/plain": [
       "-7.076552938866118"
      ]
     },
     "metadata": {},
     "output_type": "display_data"
    },
    {
     "data": {
      "text/plain": [
       "-5.804510648062453"
      ]
     },
     "metadata": {},
     "output_type": "display_data"
    },
    {
     "data": {
      "text/plain": [
       "-5.167434195832058"
      ]
     },
     "metadata": {},
     "output_type": "display_data"
    },
    {
     "data": {
      "text/plain": [
       "-5.510715723281235"
      ]
     },
     "metadata": {},
     "output_type": "display_data"
    },
    {
     "data": {
      "text/plain": [
       "-5.568851116528722"
      ]
     },
     "metadata": {},
     "output_type": "display_data"
    },
    {
     "data": {
      "text/plain": [
       "-4.455056613914781"
      ]
     },
     "metadata": {},
     "output_type": "display_data"
    },
    {
     "data": {
      "text/plain": [
       "-3.5318851517346586"
      ]
     },
     "metadata": {},
     "output_type": "display_data"
    },
    {
     "data": {
      "text/plain": [
       "-2.284108578520268"
      ]
     },
     "metadata": {},
     "output_type": "display_data"
    },
    {
     "data": {
      "text/plain": [
       "-1.0466405858840497"
      ]
     },
     "metadata": {},
     "output_type": "display_data"
    },
    {
     "data": {
      "text/plain": [
       "0.27124340965843885"
      ]
     },
     "metadata": {},
     "output_type": "display_data"
    },
    {
     "data": {
      "text/plain": [
       "0.2734989337017728"
      ]
     },
     "metadata": {},
     "output_type": "display_data"
    },
    {
     "data": {
      "text/plain": [
       "0.10465879442447967"
      ]
     },
     "metadata": {},
     "output_type": "display_data"
    },
    {
     "data": {
      "text/plain": [
       "-0.40888241574866413"
      ]
     },
     "metadata": {},
     "output_type": "display_data"
    },
    {
     "data": {
      "text/plain": [
       "-0.6985674404510624"
      ]
     },
     "metadata": {},
     "output_type": "display_data"
    },
    {
     "data": {
      "text/plain": [
       "-0.722143306507542"
      ]
     },
     "metadata": {},
     "output_type": "display_data"
    },
    {
     "data": {
      "text/plain": [
       "0.24343829652398075"
      ]
     },
     "metadata": {},
     "output_type": "display_data"
    },
    {
     "data": {
      "text/plain": [
       "0.2860787695362328"
      ]
     },
     "metadata": {},
     "output_type": "display_data"
    },
    {
     "data": {
      "text/plain": [
       "-1.0532604217336408"
      ]
     },
     "metadata": {},
     "output_type": "display_data"
    },
    {
     "data": {
      "text/plain": [
       "-0.5895845717650916"
      ]
     },
     "metadata": {},
     "output_type": "display_data"
    },
    {
     "data": {
      "text/plain": [
       "-1.7003862984363587"
      ]
     },
     "metadata": {},
     "output_type": "display_data"
    },
    {
     "data": {
      "text/plain": [
       "-1.6965455769046889"
      ]
     },
     "metadata": {},
     "output_type": "display_data"
    },
    {
     "data": {
      "text/plain": [
       "-1.9589139228313242"
      ]
     },
     "metadata": {},
     "output_type": "display_data"
    },
    {
     "data": {
      "text/plain": [
       "-2.3599877281710655"
      ]
     },
     "metadata": {},
     "output_type": "display_data"
    },
    {
     "data": {
      "text/plain": [
       "-3.2614704546114637"
      ]
     },
     "metadata": {},
     "output_type": "display_data"
    },
    {
     "data": {
      "text/plain": [
       "-1.8281901782514351"
      ]
     },
     "metadata": {},
     "output_type": "display_data"
    },
    {
     "data": {
      "text/plain": [
       "-1.3909796219284711"
      ]
     },
     "metadata": {},
     "output_type": "display_data"
    },
    {
     "data": {
      "text/plain": [
       "-2.7575658351980663"
      ]
     },
     "metadata": {},
     "output_type": "display_data"
    },
    {
     "data": {
      "text/plain": [
       "-3.7822938357797757"
      ]
     },
     "metadata": {},
     "output_type": "display_data"
    },
    {
     "data": {
      "text/plain": [
       "-3.598256360100307"
      ]
     },
     "metadata": {},
     "output_type": "display_data"
    },
    {
     "data": {
      "text/plain": [
       "-3.7605501543632"
      ]
     },
     "metadata": {},
     "output_type": "display_data"
    },
    {
     "data": {
      "text/plain": [
       "-2.89641097631911"
      ]
     },
     "metadata": {},
     "output_type": "display_data"
    },
    {
     "data": {
      "text/plain": [
       "-3.9639473976423494"
      ]
     },
     "metadata": {},
     "output_type": "display_data"
    },
    {
     "data": {
      "text/plain": [
       "-4.476771213510503"
      ]
     },
     "metadata": {},
     "output_type": "display_data"
    },
    {
     "data": {
      "text/plain": [
       "-5.065552812321612"
      ]
     },
     "metadata": {},
     "output_type": "display_data"
    },
    {
     "data": {
      "text/plain": [
       "-5.036474952980124"
      ]
     },
     "metadata": {},
     "output_type": "display_data"
    },
    {
     "data": {
      "text/plain": [
       "-5.259891786853596"
      ]
     },
     "metadata": {},
     "output_type": "display_data"
    },
    {
     "data": {
      "text/plain": [
       "-5.455139383575771"
      ]
     },
     "metadata": {},
     "output_type": "display_data"
    },
    {
     "data": {
      "text/plain": [
       "-6.029931180384583"
      ]
     },
     "metadata": {},
     "output_type": "display_data"
    },
    {
     "data": {
      "text/plain": [
       "-6.7918048245606775"
      ]
     },
     "metadata": {},
     "output_type": "display_data"
    },
    {
     "data": {
      "text/plain": [
       "-5.5696462889035505"
      ]
     },
     "metadata": {},
     "output_type": "display_data"
    },
    {
     "data": {
      "text/plain": [
       "-5.809160350005481"
      ]
     },
     "metadata": {},
     "output_type": "display_data"
    },
    {
     "data": {
      "text/plain": [
       "-4.83511094416089"
      ]
     },
     "metadata": {},
     "output_type": "display_data"
    },
    {
     "data": {
      "text/plain": [
       "-4.530306885624906"
      ]
     },
     "metadata": {},
     "output_type": "display_data"
    },
    {
     "data": {
      "text/plain": [
       "-5.101156460100444"
      ]
     },
     "metadata": {},
     "output_type": "display_data"
    },
    {
     "data": {
      "text/plain": [
       "-5.491474729338641"
      ]
     },
     "metadata": {},
     "output_type": "display_data"
    },
    {
     "data": {
      "text/plain": [
       "-5.436745503872732"
      ]
     },
     "metadata": {},
     "output_type": "display_data"
    },
    {
     "data": {
      "text/plain": [
       "-6.053041844511056"
      ]
     },
     "metadata": {},
     "output_type": "display_data"
    },
    {
     "data": {
      "text/plain": [
       "-6.655354953653765"
      ]
     },
     "metadata": {},
     "output_type": "display_data"
    },
    {
     "data": {
      "text/plain": [
       "-7.2670041834065024"
      ]
     },
     "metadata": {},
     "output_type": "display_data"
    },
    {
     "data": {
      "text/plain": [
       "-7.366495077202089"
      ]
     },
     "metadata": {},
     "output_type": "display_data"
    },
    {
     "data": {
      "text/plain": [
       "-8.004519369502466"
      ]
     },
     "metadata": {},
     "output_type": "display_data"
    },
    {
     "data": {
      "text/plain": [
       "-7.959850239414592"
      ]
     },
     "metadata": {},
     "output_type": "display_data"
    },
    {
     "data": {
      "text/plain": [
       "-7.7623328079785665"
      ]
     },
     "metadata": {},
     "output_type": "display_data"
    },
    {
     "data": {
      "text/plain": [
       "-7.500940217189252"
      ]
     },
     "metadata": {},
     "output_type": "display_data"
    },
    {
     "data": {
      "text/plain": [
       "-7.382155576069179"
      ]
     },
     "metadata": {},
     "output_type": "display_data"
    },
    {
     "data": {
      "text/plain": [
       "-7.304686839467098"
      ]
     },
     "metadata": {},
     "output_type": "display_data"
    },
    {
     "data": {
      "text/plain": [
       "-7.399857645805278"
      ]
     },
     "metadata": {},
     "output_type": "display_data"
    },
    {
     "data": {
      "text/plain": [
       "-7.462265707790129"
      ]
     },
     "metadata": {},
     "output_type": "display_data"
    },
    {
     "data": {
      "text/plain": [
       "-7.318037511106379"
      ]
     },
     "metadata": {},
     "output_type": "display_data"
    },
    {
     "data": {
      "text/plain": [
       "-7.145872505522806"
      ]
     },
     "metadata": {},
     "output_type": "display_data"
    },
    {
     "data": {
      "text/plain": [
       "-7.069376494197698"
      ]
     },
     "metadata": {},
     "output_type": "display_data"
    },
    {
     "data": {
      "text/plain": [
       "-7.0458973110059695"
      ]
     },
     "metadata": {},
     "output_type": "display_data"
    },
    {
     "data": {
      "text/plain": [
       "-6.688521013558742"
      ]
     },
     "metadata": {},
     "output_type": "display_data"
    },
    {
     "data": {
      "text/plain": [
       "-6.634710308234169"
      ]
     },
     "metadata": {},
     "output_type": "display_data"
    },
    {
     "data": {
      "text/plain": [
       "-6.9935285228740325"
      ]
     },
     "metadata": {},
     "output_type": "display_data"
    },
    {
     "data": {
      "text/plain": [
       "-6.581882640037528"
      ]
     },
     "metadata": {},
     "output_type": "display_data"
    },
    {
     "data": {
      "text/plain": [
       "-7.2945844767948405"
      ]
     },
     "metadata": {},
     "output_type": "display_data"
    },
    {
     "data": {
      "text/plain": [
       "-7.657173275978467"
      ]
     },
     "metadata": {},
     "output_type": "display_data"
    },
    {
     "data": {
      "text/plain": [
       "-7.741059740864648"
      ]
     },
     "metadata": {},
     "output_type": "display_data"
    },
    {
     "data": {
      "text/plain": [
       "-7.554523052822484"
      ]
     },
     "metadata": {},
     "output_type": "display_data"
    },
    {
     "data": {
      "text/plain": [
       "-8.243181338982307"
      ]
     },
     "metadata": {},
     "output_type": "display_data"
    },
    {
     "data": {
      "text/plain": [
       "-8.142306195972699"
      ]
     },
     "metadata": {},
     "output_type": "display_data"
    },
    {
     "data": {
      "text/plain": [
       "-8.113333455415368"
      ]
     },
     "metadata": {},
     "output_type": "display_data"
    },
    {
     "data": {
      "text/plain": [
       "-8.092777567356642"
      ]
     },
     "metadata": {},
     "output_type": "display_data"
    },
    {
     "data": {
      "text/plain": [
       "-8.131863166525575"
      ]
     },
     "metadata": {},
     "output_type": "display_data"
    },
    {
     "data": {
      "text/plain": [
       "-8.300010808611777"
      ]
     },
     "metadata": {},
     "output_type": "display_data"
    },
    {
     "data": {
      "text/plain": [
       "-8.110508838839888"
      ]
     },
     "metadata": {},
     "output_type": "display_data"
    },
    {
     "data": {
      "text/plain": [
       "-8.353133797324947"
      ]
     },
     "metadata": {},
     "output_type": "display_data"
    },
    {
     "data": {
      "text/plain": [
       "-8.394393134985512"
      ]
     },
     "metadata": {},
     "output_type": "display_data"
    },
    {
     "data": {
      "text/plain": [
       "-8.359825413816388"
      ]
     },
     "metadata": {},
     "output_type": "display_data"
    },
    {
     "data": {
      "text/plain": [
       "-8.434920522376268"
      ]
     },
     "metadata": {},
     "output_type": "display_data"
    },
    {
     "data": {
      "text/plain": [
       "-8.426627847873478"
      ]
     },
     "metadata": {},
     "output_type": "display_data"
    },
    {
     "data": {
      "text/plain": [
       "-8.347897969427489"
      ]
     },
     "metadata": {},
     "output_type": "display_data"
    },
    {
     "data": {
      "text/plain": [
       "-8.404982283083388"
      ]
     },
     "metadata": {},
     "output_type": "display_data"
    },
    {
     "data": {
      "text/plain": [
       "-8.544783828831793"
      ]
     },
     "metadata": {},
     "output_type": "display_data"
    },
    {
     "data": {
      "text/plain": [
       "-8.582637891893146"
      ]
     },
     "metadata": {},
     "output_type": "display_data"
    },
    {
     "data": {
      "text/plain": [
       "-8.582637891893146"
      ]
     },
     "metadata": {},
     "output_type": "display_data"
    },
    {
     "data": {
      "text/plain": [
       "-8.582637891893146"
      ]
     },
     "metadata": {},
     "output_type": "display_data"
    },
    {
     "data": {
      "text/plain": [
       "-8.582637891893146"
      ]
     },
     "metadata": {},
     "output_type": "display_data"
    },
    {
     "data": {
      "text/plain": [
       "-8.582637891893146"
      ]
     },
     "metadata": {},
     "output_type": "display_data"
    },
    {
     "data": {
      "text/plain": [
       "-8.582637891893146"
      ]
     },
     "metadata": {},
     "output_type": "display_data"
    },
    {
     "data": {
      "text/plain": [
       "-8.582637891893146"
      ]
     },
     "metadata": {},
     "output_type": "display_data"
    },
    {
     "data": {
      "text/plain": [
       "-8.582637891893146"
      ]
     },
     "metadata": {},
     "output_type": "display_data"
    },
    {
     "data": {
      "text/plain": [
       "-8.582637891893146"
      ]
     },
     "metadata": {},
     "output_type": "display_data"
    },
    {
     "data": {
      "text/plain": [
       "-8.582637891893146"
      ]
     },
     "metadata": {},
     "output_type": "display_data"
    },
    {
     "data": {
      "text/plain": [
       "-8.582637891893146"
      ]
     },
     "metadata": {},
     "output_type": "display_data"
    },
    {
     "data": {
      "text/plain": [
       "-8.582637891893146"
      ]
     },
     "metadata": {},
     "output_type": "display_data"
    },
    {
     "data": {
      "text/plain": [
       "-8.582637891893146"
      ]
     },
     "metadata": {},
     "output_type": "display_data"
    },
    {
     "data": {
      "text/plain": [
       "-8.582637891893146"
      ]
     },
     "metadata": {},
     "output_type": "display_data"
    },
    {
     "data": {
      "text/plain": [
       "-8.582637891893146"
      ]
     },
     "metadata": {},
     "output_type": "display_data"
    },
    {
     "data": {
      "text/plain": [
       "-8.582637891893146"
      ]
     },
     "metadata": {},
     "output_type": "display_data"
    },
    {
     "data": {
      "text/plain": [
       "-8.582637891893146"
      ]
     },
     "metadata": {},
     "output_type": "display_data"
    },
    {
     "data": {
      "text/plain": [
       "-8.582637891893146"
      ]
     },
     "metadata": {},
     "output_type": "display_data"
    },
    {
     "data": {
      "text/plain": [
       "-8.582637891893146"
      ]
     },
     "metadata": {},
     "output_type": "display_data"
    },
    {
     "data": {
      "text/plain": [
       "-8.582637891893146"
      ]
     },
     "metadata": {},
     "output_type": "display_data"
    },
    {
     "data": {
      "text/plain": [
       "-8.582637891893146"
      ]
     },
     "metadata": {},
     "output_type": "display_data"
    }
   ],
   "source": [
    "# Check conic violation\n",
    "convio = 0.0\n",
    "for k = 1:Nsim-1\n",
    "    Uc = cone_u(params, Uhist[k])\n",
    "    huc = norm(Uc[1:2]) - Uc[3]\n",
    "    convio = norm(huc + abs.(huc),Inf)\n",
    "    display(huc) # should <= 0\n",
    "end"
   ]
  },
  {
   "cell_type": "code",
   "execution_count": null,
   "id": "ffaab90d-dddc-4512-8c8b-4561cd053fdf",
   "metadata": {},
   "outputs": [
    {
     "name": "stdout",
     "output_type": "stream",
     "text": [
      "traj_error = maximum(norm.(e_sim_m, Inf)) = 2.777066571520142\n"
     ]
    },
    {
     "data": {
      "image/svg+xml": "<?xml version=\"1.0\" encoding=\"utf-8\"?>\n<svg xmlns=\"http://www.w3.org/2000/svg\" xmlns:xlink=\"http://www.w3.org/1999/xlink\" width=\"600\" height=\"400\" viewBox=\"0 0 2400 1600\">\n<defs>\n  <clipPath id=\"clip330\">\n    <rect x=\"0\" y=\"0\" width=\"2400\" height=\"1600\"/>\n  </clipPath>\n</defs>\n<path clip-path=\"url(#clip330)\" d=\"M0 1600 L2400 1600 L2400 0 L0 0  Z\" fill=\"#ffffff\" fill-rule=\"evenodd\" fill-opacity=\"1\"/>\n<defs>\n  <clipPath id=\"clip331\">\n    <rect x=\"480\" y=\"0\" width=\"1681\" height=\"1600\"/>\n  </clipPath>\n</defs>\n<path clip-path=\"url(#clip330)\" d=\"M210.746 1423.18 L2352.76 1423.18 L2352.76 123.472 L210.746 123.472  Z\" fill=\"#ffffff\" fill-rule=\"evenodd\" fill-opacity=\"1\"/>\n<defs>\n  <clipPath id=\"clip332\">\n    <rect x=\"210\" y=\"123\" width=\"2143\" height=\"1301\"/>\n  </clipPath>\n</defs>\n<polyline clip-path=\"url(#clip332)\" style=\"stroke:#000000; stroke-linecap:round; stroke-linejoin:round; stroke-width:2; stroke-opacity:0.1; fill:none\" points=\"271.369,1423.18 271.369,123.472 \"/>\n<polyline clip-path=\"url(#clip332)\" style=\"stroke:#000000; stroke-linecap:round; stroke-linejoin:round; stroke-width:2; stroke-opacity:0.1; fill:none\" points=\"633.513,1423.18 633.513,123.472 \"/>\n<polyline clip-path=\"url(#clip332)\" style=\"stroke:#000000; stroke-linecap:round; stroke-linejoin:round; stroke-width:2; stroke-opacity:0.1; fill:none\" points=\"995.657,1423.18 995.657,123.472 \"/>\n<polyline clip-path=\"url(#clip332)\" style=\"stroke:#000000; stroke-linecap:round; stroke-linejoin:round; stroke-width:2; stroke-opacity:0.1; fill:none\" points=\"1357.8,1423.18 1357.8,123.472 \"/>\n<polyline clip-path=\"url(#clip332)\" style=\"stroke:#000000; stroke-linecap:round; stroke-linejoin:round; stroke-width:2; stroke-opacity:0.1; fill:none\" points=\"1719.95,1423.18 1719.95,123.472 \"/>\n<polyline clip-path=\"url(#clip332)\" style=\"stroke:#000000; stroke-linecap:round; stroke-linejoin:round; stroke-width:2; stroke-opacity:0.1; fill:none\" points=\"2082.09,1423.18 2082.09,123.472 \"/>\n<polyline clip-path=\"url(#clip330)\" style=\"stroke:#000000; stroke-linecap:round; stroke-linejoin:round; stroke-width:4; stroke-opacity:1; fill:none\" points=\"210.746,1423.18 2352.76,1423.18 \"/>\n<polyline clip-path=\"url(#clip330)\" style=\"stroke:#000000; stroke-linecap:round; stroke-linejoin:round; stroke-width:4; stroke-opacity:1; fill:none\" points=\"271.369,1423.18 271.369,1404.28 \"/>\n<polyline clip-path=\"url(#clip330)\" style=\"stroke:#000000; stroke-linecap:round; stroke-linejoin:round; stroke-width:4; stroke-opacity:1; fill:none\" points=\"633.513,1423.18 633.513,1404.28 \"/>\n<polyline clip-path=\"url(#clip330)\" style=\"stroke:#000000; stroke-linecap:round; stroke-linejoin:round; stroke-width:4; stroke-opacity:1; fill:none\" points=\"995.657,1423.18 995.657,1404.28 \"/>\n<polyline clip-path=\"url(#clip330)\" style=\"stroke:#000000; stroke-linecap:round; stroke-linejoin:round; stroke-width:4; stroke-opacity:1; fill:none\" points=\"1357.8,1423.18 1357.8,1404.28 \"/>\n<polyline clip-path=\"url(#clip330)\" style=\"stroke:#000000; stroke-linecap:round; stroke-linejoin:round; stroke-width:4; stroke-opacity:1; fill:none\" points=\"1719.95,1423.18 1719.95,1404.28 \"/>\n<polyline clip-path=\"url(#clip330)\" style=\"stroke:#000000; stroke-linecap:round; stroke-linejoin:round; stroke-width:4; stroke-opacity:1; fill:none\" points=\"2082.09,1423.18 2082.09,1404.28 \"/>\n<path clip-path=\"url(#clip330)\" d=\"M248.753 1454.1 Q245.142 1454.1 243.313 1457.66 Q241.508 1461.2 241.508 1468.33 Q241.508 1475.44 243.313 1479.01 Q245.142 1482.55 248.753 1482.55 Q252.387 1482.55 254.193 1479.01 Q256.022 1475.44 256.022 1468.33 Q256.022 1461.2 254.193 1457.66 Q252.387 1454.1 248.753 1454.1 M248.753 1450.39 Q254.563 1450.39 257.619 1455 Q260.698 1459.58 260.698 1468.33 Q260.698 1477.06 257.619 1481.67 Q254.563 1486.25 248.753 1486.25 Q242.943 1486.25 239.864 1481.67 Q236.809 1477.06 236.809 1468.33 Q236.809 1459.58 239.864 1455 Q242.943 1450.39 248.753 1450.39 Z\" fill=\"#000000\" fill-rule=\"evenodd\" fill-opacity=\"1\" /><path clip-path=\"url(#clip330)\" d=\"M268.915 1479.7 L273.799 1479.7 L273.799 1485.58 L268.915 1485.58 L268.915 1479.7 Z\" fill=\"#000000\" fill-rule=\"evenodd\" fill-opacity=\"1\" /><path clip-path=\"url(#clip330)\" d=\"M293.984 1454.1 Q290.373 1454.1 288.545 1457.66 Q286.739 1461.2 286.739 1468.33 Q286.739 1475.44 288.545 1479.01 Q290.373 1482.55 293.984 1482.55 Q297.619 1482.55 299.424 1479.01 Q301.253 1475.44 301.253 1468.33 Q301.253 1461.2 299.424 1457.66 Q297.619 1454.1 293.984 1454.1 M293.984 1450.39 Q299.795 1450.39 302.85 1455 Q305.929 1459.58 305.929 1468.33 Q305.929 1477.06 302.85 1481.67 Q299.795 1486.25 293.984 1486.25 Q288.174 1486.25 285.096 1481.67 Q282.04 1477.06 282.04 1468.33 Q282.04 1459.58 285.096 1455 Q288.174 1450.39 293.984 1450.39 Z\" fill=\"#000000\" fill-rule=\"evenodd\" fill-opacity=\"1\" /><path clip-path=\"url(#clip330)\" d=\"M605.249 1481.64 L621.569 1481.64 L621.569 1485.58 L599.624 1485.58 L599.624 1481.64 Q602.286 1478.89 606.87 1474.26 Q611.476 1469.61 612.657 1468.27 Q614.902 1465.74 615.782 1464.01 Q616.684 1462.25 616.684 1460.56 Q616.684 1457.8 614.74 1456.07 Q612.819 1454.33 609.717 1454.33 Q607.518 1454.33 605.064 1455.09 Q602.634 1455.86 599.856 1457.41 L599.856 1452.69 Q602.68 1451.55 605.133 1450.97 Q607.587 1450.39 609.624 1450.39 Q614.995 1450.39 618.189 1453.08 Q621.383 1455.77 621.383 1460.26 Q621.383 1462.39 620.573 1464.31 Q619.786 1466.2 617.68 1468.8 Q617.101 1469.47 613.999 1472.69 Q610.897 1475.88 605.249 1481.64 Z\" fill=\"#000000\" fill-rule=\"evenodd\" fill-opacity=\"1\" /><path clip-path=\"url(#clip330)\" d=\"M631.383 1479.7 L636.268 1479.7 L636.268 1485.58 L631.383 1485.58 L631.383 1479.7 Z\" fill=\"#000000\" fill-rule=\"evenodd\" fill-opacity=\"1\" /><path clip-path=\"url(#clip330)\" d=\"M646.499 1451.02 L664.855 1451.02 L664.855 1454.96 L650.781 1454.96 L650.781 1463.43 Q651.8 1463.08 652.818 1462.92 Q653.837 1462.73 654.855 1462.73 Q660.642 1462.73 664.022 1465.9 Q667.402 1469.08 667.402 1474.49 Q667.402 1480.07 663.929 1483.17 Q660.457 1486.25 654.138 1486.25 Q651.962 1486.25 649.693 1485.88 Q647.448 1485.51 645.041 1484.77 L645.041 1480.07 Q647.124 1481.2 649.346 1481.76 Q651.568 1482.32 654.045 1482.32 Q658.05 1482.32 660.388 1480.21 Q662.726 1478.1 662.726 1474.49 Q662.726 1470.88 660.388 1468.77 Q658.05 1466.67 654.045 1466.67 Q652.17 1466.67 650.295 1467.08 Q648.443 1467.5 646.499 1468.38 L646.499 1451.02 Z\" fill=\"#000000\" fill-rule=\"evenodd\" fill-opacity=\"1\" /><path clip-path=\"url(#clip330)\" d=\"M962.822 1451.02 L981.178 1451.02 L981.178 1454.96 L967.104 1454.96 L967.104 1463.43 Q968.123 1463.08 969.141 1462.92 Q970.16 1462.73 971.178 1462.73 Q976.965 1462.73 980.345 1465.9 Q983.724 1469.08 983.724 1474.49 Q983.724 1480.07 980.252 1483.17 Q976.78 1486.25 970.46 1486.25 Q968.285 1486.25 966.016 1485.88 Q963.771 1485.51 961.363 1484.77 L961.363 1480.07 Q963.447 1481.2 965.669 1481.76 Q967.891 1482.32 970.368 1482.32 Q974.372 1482.32 976.71 1480.21 Q979.048 1478.1 979.048 1474.49 Q979.048 1470.88 976.71 1468.77 Q974.372 1466.67 970.368 1466.67 Q968.493 1466.67 966.618 1467.08 Q964.766 1467.5 962.822 1468.38 L962.822 1451.02 Z\" fill=\"#000000\" fill-rule=\"evenodd\" fill-opacity=\"1\" /><path clip-path=\"url(#clip330)\" d=\"M992.937 1479.7 L997.821 1479.7 L997.821 1485.58 L992.937 1485.58 L992.937 1479.7 Z\" fill=\"#000000\" fill-rule=\"evenodd\" fill-opacity=\"1\" /><path clip-path=\"url(#clip330)\" d=\"M1018.01 1454.1 Q1014.4 1454.1 1012.57 1457.66 Q1010.76 1461.2 1010.76 1468.33 Q1010.76 1475.44 1012.57 1479.01 Q1014.4 1482.55 1018.01 1482.55 Q1021.64 1482.55 1023.45 1479.01 Q1025.27 1475.44 1025.27 1468.33 Q1025.27 1461.2 1023.45 1457.66 Q1021.64 1454.1 1018.01 1454.1 M1018.01 1450.39 Q1023.82 1450.39 1026.87 1455 Q1029.95 1459.58 1029.95 1468.33 Q1029.95 1477.06 1026.87 1481.67 Q1023.82 1486.25 1018.01 1486.25 Q1012.2 1486.25 1009.12 1481.67 Q1006.06 1477.06 1006.06 1468.33 Q1006.06 1459.58 1009.12 1455 Q1012.2 1450.39 1018.01 1450.39 Z\" fill=\"#000000\" fill-rule=\"evenodd\" fill-opacity=\"1\" /><path clip-path=\"url(#clip330)\" d=\"M1324.12 1451.02 L1346.34 1451.02 L1346.34 1453.01 L1333.8 1485.58 L1328.91 1485.58 L1340.72 1454.96 L1324.12 1454.96 L1324.12 1451.02 Z\" fill=\"#000000\" fill-rule=\"evenodd\" fill-opacity=\"1\" /><path clip-path=\"url(#clip330)\" d=\"M1355.46 1479.7 L1360.35 1479.7 L1360.35 1485.58 L1355.46 1485.58 L1355.46 1479.7 Z\" fill=\"#000000\" fill-rule=\"evenodd\" fill-opacity=\"1\" /><path clip-path=\"url(#clip330)\" d=\"M1370.58 1451.02 L1388.94 1451.02 L1388.94 1454.96 L1374.86 1454.96 L1374.86 1463.43 Q1375.88 1463.08 1376.9 1462.92 Q1377.92 1462.73 1378.94 1462.73 Q1384.72 1462.73 1388.1 1465.9 Q1391.48 1469.08 1391.48 1474.49 Q1391.48 1480.07 1388.01 1483.17 Q1384.54 1486.25 1378.22 1486.25 Q1376.04 1486.25 1373.77 1485.88 Q1371.53 1485.51 1369.12 1484.77 L1369.12 1480.07 Q1371.2 1481.2 1373.43 1481.76 Q1375.65 1482.32 1378.13 1482.32 Q1382.13 1482.32 1384.47 1480.21 Q1386.81 1478.1 1386.81 1474.49 Q1386.81 1470.88 1384.47 1468.77 Q1382.13 1466.67 1378.13 1466.67 Q1376.25 1466.67 1374.38 1467.08 Q1372.52 1467.5 1370.58 1468.38 L1370.58 1451.02 Z\" fill=\"#000000\" fill-rule=\"evenodd\" fill-opacity=\"1\" /><path clip-path=\"url(#clip330)\" d=\"M1672.02 1481.64 L1679.66 1481.64 L1679.66 1455.28 L1671.35 1456.95 L1671.35 1452.69 L1679.61 1451.02 L1684.29 1451.02 L1684.29 1481.64 L1691.92 1481.64 L1691.92 1485.58 L1672.02 1485.58 L1672.02 1481.64 Z\" fill=\"#000000\" fill-rule=\"evenodd\" fill-opacity=\"1\" /><path clip-path=\"url(#clip330)\" d=\"M1711.37 1454.1 Q1707.76 1454.1 1705.93 1457.66 Q1704.12 1461.2 1704.12 1468.33 Q1704.12 1475.44 1705.93 1479.01 Q1707.76 1482.55 1711.37 1482.55 Q1715 1482.55 1716.81 1479.01 Q1718.64 1475.44 1718.64 1468.33 Q1718.64 1461.2 1716.81 1457.66 Q1715 1454.1 1711.37 1454.1 M1711.37 1450.39 Q1717.18 1450.39 1720.23 1455 Q1723.31 1459.58 1723.31 1468.33 Q1723.31 1477.06 1720.23 1481.67 Q1717.18 1486.25 1711.37 1486.25 Q1705.56 1486.25 1702.48 1481.67 Q1699.42 1477.06 1699.42 1468.33 Q1699.42 1459.58 1702.48 1455 Q1705.56 1450.39 1711.37 1450.39 Z\" fill=\"#000000\" fill-rule=\"evenodd\" fill-opacity=\"1\" /><path clip-path=\"url(#clip330)\" d=\"M1731.53 1479.7 L1736.42 1479.7 L1736.42 1485.58 L1731.53 1485.58 L1731.53 1479.7 Z\" fill=\"#000000\" fill-rule=\"evenodd\" fill-opacity=\"1\" /><path clip-path=\"url(#clip330)\" d=\"M1756.6 1454.1 Q1752.99 1454.1 1751.16 1457.66 Q1749.35 1461.2 1749.35 1468.33 Q1749.35 1475.44 1751.16 1479.01 Q1752.99 1482.55 1756.6 1482.55 Q1760.23 1482.55 1762.04 1479.01 Q1763.87 1475.44 1763.87 1468.33 Q1763.87 1461.2 1762.04 1457.66 Q1760.23 1454.1 1756.6 1454.1 M1756.6 1450.39 Q1762.41 1450.39 1765.47 1455 Q1768.54 1459.58 1768.54 1468.33 Q1768.54 1477.06 1765.47 1481.67 Q1762.41 1486.25 1756.6 1486.25 Q1750.79 1486.25 1747.71 1481.67 Q1744.66 1477.06 1744.66 1468.33 Q1744.66 1459.58 1747.71 1455 Q1750.79 1450.39 1756.6 1450.39 Z\" fill=\"#000000\" fill-rule=\"evenodd\" fill-opacity=\"1\" /><path clip-path=\"url(#clip330)\" d=\"M2034.66 1481.64 L2042.3 1481.64 L2042.3 1455.28 L2033.99 1456.95 L2033.99 1452.69 L2042.25 1451.02 L2046.93 1451.02 L2046.93 1481.64 L2054.57 1481.64 L2054.57 1485.58 L2034.66 1485.58 L2034.66 1481.64 Z\" fill=\"#000000\" fill-rule=\"evenodd\" fill-opacity=\"1\" /><path clip-path=\"url(#clip330)\" d=\"M2068.04 1481.64 L2084.36 1481.64 L2084.36 1485.58 L2062.41 1485.58 L2062.41 1481.64 Q2065.08 1478.89 2069.66 1474.26 Q2074.27 1469.61 2075.45 1468.27 Q2077.69 1465.74 2078.57 1464.01 Q2079.47 1462.25 2079.47 1460.56 Q2079.47 1457.8 2077.53 1456.07 Q2075.61 1454.33 2072.51 1454.33 Q2070.31 1454.33 2067.85 1455.09 Q2065.42 1455.86 2062.65 1457.41 L2062.65 1452.69 Q2065.47 1451.55 2067.92 1450.97 Q2070.38 1450.39 2072.41 1450.39 Q2077.78 1450.39 2080.98 1453.08 Q2084.17 1455.77 2084.17 1460.26 Q2084.17 1462.39 2083.36 1464.31 Q2082.58 1466.2 2080.47 1468.8 Q2079.89 1469.47 2076.79 1472.69 Q2073.69 1475.88 2068.04 1481.64 Z\" fill=\"#000000\" fill-rule=\"evenodd\" fill-opacity=\"1\" /><path clip-path=\"url(#clip330)\" d=\"M2094.17 1479.7 L2099.06 1479.7 L2099.06 1485.58 L2094.17 1485.58 L2094.17 1479.7 Z\" fill=\"#000000\" fill-rule=\"evenodd\" fill-opacity=\"1\" /><path clip-path=\"url(#clip330)\" d=\"M2109.29 1451.02 L2127.64 1451.02 L2127.64 1454.96 L2113.57 1454.96 L2113.57 1463.43 Q2114.59 1463.08 2115.61 1462.92 Q2116.63 1462.73 2117.64 1462.73 Q2123.43 1462.73 2126.81 1465.9 Q2130.19 1469.08 2130.19 1474.49 Q2130.19 1480.07 2126.72 1483.17 Q2123.25 1486.25 2116.93 1486.25 Q2114.75 1486.25 2112.48 1485.88 Q2110.24 1485.51 2107.83 1484.77 L2107.83 1480.07 Q2109.91 1481.2 2112.14 1481.76 Q2114.36 1482.32 2116.83 1482.32 Q2120.84 1482.32 2123.18 1480.21 Q2125.52 1478.1 2125.52 1474.49 Q2125.52 1470.88 2123.18 1468.77 Q2120.84 1466.67 2116.83 1466.67 Q2114.96 1466.67 2113.08 1467.08 Q2111.23 1467.5 2109.29 1468.38 L2109.29 1451.02 Z\" fill=\"#000000\" fill-rule=\"evenodd\" fill-opacity=\"1\" /><path clip-path=\"url(#clip330)\" d=\"M1169.21 1522.27 L1169.21 1532.4 L1181.27 1532.4 L1181.27 1536.95 L1169.21 1536.95 L1169.21 1556.3 Q1169.21 1560.66 1170.38 1561.9 Q1171.59 1563.14 1175.25 1563.14 L1181.27 1563.14 L1181.27 1568.04 L1175.25 1568.04 Q1168.47 1568.04 1165.9 1565.53 Q1163.32 1562.98 1163.32 1556.3 L1163.32 1536.95 L1159.02 1536.95 L1159.02 1532.4 L1163.32 1532.4 L1163.32 1522.27 L1169.21 1522.27 Z\" fill=\"#000000\" fill-rule=\"evenodd\" fill-opacity=\"1\" /><path clip-path=\"url(#clip330)\" d=\"M1188.97 1532.4 L1194.83 1532.4 L1194.83 1568.04 L1188.97 1568.04 L1188.97 1532.4 M1188.97 1518.52 L1194.83 1518.52 L1194.83 1525.93 L1188.97 1525.93 L1188.97 1518.52 Z\" fill=\"#000000\" fill-rule=\"evenodd\" fill-opacity=\"1\" /><path clip-path=\"url(#clip330)\" d=\"M1234.84 1539.24 Q1237.03 1535.29 1240.09 1533.41 Q1243.14 1531.54 1247.28 1531.54 Q1252.85 1531.54 1255.87 1535.45 Q1258.9 1539.33 1258.9 1546.53 L1258.9 1568.04 L1253.01 1568.04 L1253.01 1546.72 Q1253.01 1541.59 1251.2 1539.11 Q1249.38 1536.63 1245.66 1536.63 Q1241.11 1536.63 1238.46 1539.65 Q1235.82 1542.68 1235.82 1547.9 L1235.82 1568.04 L1229.93 1568.04 L1229.93 1546.72 Q1229.93 1541.56 1228.12 1539.11 Q1226.31 1536.63 1222.52 1536.63 Q1218.03 1536.63 1215.39 1539.68 Q1212.75 1542.71 1212.75 1547.9 L1212.75 1568.04 L1206.86 1568.04 L1206.86 1532.4 L1212.75 1532.4 L1212.75 1537.93 Q1214.75 1534.66 1217.55 1533.1 Q1220.35 1531.54 1224.2 1531.54 Q1228.09 1531.54 1230.79 1533.51 Q1233.53 1535.48 1234.84 1539.24 Z\" fill=\"#000000\" fill-rule=\"evenodd\" fill-opacity=\"1\" /><path clip-path=\"url(#clip330)\" d=\"M1301.07 1548.76 L1301.07 1551.62 L1274.14 1551.62 Q1274.53 1557.67 1277.77 1560.85 Q1281.05 1564 1286.88 1564 Q1290.25 1564 1293.4 1563.17 Q1296.58 1562.35 1299.7 1560.69 L1299.7 1566.23 Q1296.55 1567.57 1293.24 1568.27 Q1289.93 1568.97 1286.53 1568.97 Q1278 1568.97 1273 1564 Q1268.03 1559.04 1268.03 1550.57 Q1268.03 1541.82 1272.74 1536.69 Q1277.49 1531.54 1285.51 1531.54 Q1292.7 1531.54 1296.87 1536.18 Q1301.07 1540.8 1301.07 1548.76 M1295.21 1547.04 Q1295.15 1542.23 1292.51 1539.37 Q1289.9 1536.5 1285.57 1536.5 Q1280.67 1536.5 1277.71 1539.27 Q1274.78 1542.04 1274.33 1547.07 L1295.21 1547.04 Z\" fill=\"#000000\" fill-rule=\"evenodd\" fill-opacity=\"1\" /><path clip-path=\"url(#clip330)\" d=\"M1345.47 1518.58 Q1341.21 1525.9 1339.14 1533.06 Q1337.07 1540.23 1337.07 1547.58 Q1337.07 1554.93 1339.14 1562.16 Q1341.24 1569.35 1345.47 1576.64 L1340.38 1576.64 Q1335.6 1569.16 1333.22 1561.93 Q1330.86 1554.71 1330.86 1547.58 Q1330.86 1540.48 1333.22 1533.29 Q1335.57 1526.09 1340.38 1518.58 L1345.47 1518.58 Z\" fill=\"#000000\" fill-rule=\"evenodd\" fill-opacity=\"1\" /><path clip-path=\"url(#clip330)\" d=\"M1379.56 1533.45 L1379.56 1538.98 Q1377.08 1537.71 1374.4 1537.07 Q1371.73 1536.44 1368.87 1536.44 Q1364.51 1536.44 1362.31 1537.77 Q1360.14 1539.11 1360.14 1541.79 Q1360.14 1543.82 1361.7 1545 Q1363.26 1546.15 1367.97 1547.2 L1369.98 1547.64 Q1376.22 1548.98 1378.83 1551.43 Q1381.47 1553.85 1381.47 1558.21 Q1381.47 1563.17 1377.52 1566.07 Q1373.61 1568.97 1366.73 1568.97 Q1363.87 1568.97 1360.75 1568.39 Q1357.66 1567.85 1354.22 1566.74 L1354.22 1560.69 Q1357.47 1562.38 1360.62 1563.24 Q1363.77 1564.07 1366.86 1564.07 Q1371 1564.07 1373.23 1562.66 Q1375.45 1561.23 1375.45 1558.65 Q1375.45 1556.27 1373.83 1554.99 Q1372.24 1553.72 1366.8 1552.54 L1364.76 1552.07 Q1359.32 1550.92 1356.9 1548.56 Q1354.48 1546.18 1354.48 1542.04 Q1354.48 1537.01 1358.04 1534.27 Q1361.61 1531.54 1368.17 1531.54 Q1371.41 1531.54 1374.28 1532.01 Q1377.14 1532.49 1379.56 1533.45 Z\" fill=\"#000000\" fill-rule=\"evenodd\" fill-opacity=\"1\" /><path clip-path=\"url(#clip330)\" d=\"M1389.87 1518.58 L1394.97 1518.58 Q1399.74 1526.09 1402.09 1533.29 Q1404.48 1540.48 1404.48 1547.58 Q1404.48 1554.71 1402.09 1561.93 Q1399.74 1569.16 1394.97 1576.64 L1389.87 1576.64 Q1394.11 1569.35 1396.17 1562.16 Q1398.28 1554.93 1398.28 1547.58 Q1398.28 1540.23 1396.17 1533.06 Q1394.11 1525.9 1389.87 1518.58 Z\" fill=\"#000000\" fill-rule=\"evenodd\" fill-opacity=\"1\" /><polyline clip-path=\"url(#clip332)\" style=\"stroke:#000000; stroke-linecap:round; stroke-linejoin:round; stroke-width:2; stroke-opacity:0.1; fill:none\" points=\"210.746,1195.27 2352.76,1195.27 \"/>\n<polyline clip-path=\"url(#clip332)\" style=\"stroke:#000000; stroke-linecap:round; stroke-linejoin:round; stroke-width:2; stroke-opacity:0.1; fill:none\" points=\"210.746,949.309 2352.76,949.309 \"/>\n<polyline clip-path=\"url(#clip332)\" style=\"stroke:#000000; stroke-linecap:round; stroke-linejoin:round; stroke-width:2; stroke-opacity:0.1; fill:none\" points=\"210.746,703.35 2352.76,703.35 \"/>\n<polyline clip-path=\"url(#clip332)\" style=\"stroke:#000000; stroke-linecap:round; stroke-linejoin:round; stroke-width:2; stroke-opacity:0.1; fill:none\" points=\"210.746,457.391 2352.76,457.391 \"/>\n<polyline clip-path=\"url(#clip332)\" style=\"stroke:#000000; stroke-linecap:round; stroke-linejoin:round; stroke-width:2; stroke-opacity:0.1; fill:none\" points=\"210.746,211.431 2352.76,211.431 \"/>\n<polyline clip-path=\"url(#clip330)\" style=\"stroke:#000000; stroke-linecap:round; stroke-linejoin:round; stroke-width:4; stroke-opacity:1; fill:none\" points=\"210.746,1423.18 210.746,123.472 \"/>\n<polyline clip-path=\"url(#clip330)\" style=\"stroke:#000000; stroke-linecap:round; stroke-linejoin:round; stroke-width:4; stroke-opacity:1; fill:none\" points=\"210.746,1195.27 229.644,1195.27 \"/>\n<polyline clip-path=\"url(#clip330)\" style=\"stroke:#000000; stroke-linecap:round; stroke-linejoin:round; stroke-width:4; stroke-opacity:1; fill:none\" points=\"210.746,949.309 229.644,949.309 \"/>\n<polyline clip-path=\"url(#clip330)\" style=\"stroke:#000000; stroke-linecap:round; stroke-linejoin:round; stroke-width:4; stroke-opacity:1; fill:none\" points=\"210.746,703.35 229.644,703.35 \"/>\n<polyline clip-path=\"url(#clip330)\" style=\"stroke:#000000; stroke-linecap:round; stroke-linejoin:round; stroke-width:4; stroke-opacity:1; fill:none\" points=\"210.746,457.391 229.644,457.391 \"/>\n<polyline clip-path=\"url(#clip330)\" style=\"stroke:#000000; stroke-linecap:round; stroke-linejoin:round; stroke-width:4; stroke-opacity:1; fill:none\" points=\"210.746,211.431 229.644,211.431 \"/>\n<path clip-path=\"url(#clip330)\" d=\"M114.631 1195.72 L144.306 1195.72 L144.306 1199.66 L114.631 1199.66 L114.631 1195.72 Z\" fill=\"#000000\" fill-rule=\"evenodd\" fill-opacity=\"1\" /><path clip-path=\"url(#clip330)\" d=\"M158.427 1208.61 L174.746 1208.61 L174.746 1212.55 L152.802 1212.55 L152.802 1208.61 Q155.464 1205.86 160.047 1201.23 Q164.653 1196.58 165.834 1195.23 Q168.079 1192.71 168.959 1190.97 Q169.862 1189.22 169.862 1187.53 Q169.862 1184.77 167.917 1183.04 Q165.996 1181.3 162.894 1181.3 Q160.695 1181.3 158.241 1182.06 Q155.811 1182.83 153.033 1184.38 L153.033 1179.66 Q155.857 1178.52 158.311 1177.94 Q160.765 1177.36 162.802 1177.36 Q168.172 1177.36 171.366 1180.05 Q174.561 1182.73 174.561 1187.22 Q174.561 1189.35 173.751 1191.28 Q172.964 1193.17 170.857 1195.77 Q170.278 1196.44 167.177 1199.66 Q164.075 1202.85 158.427 1208.61 Z\" fill=\"#000000\" fill-rule=\"evenodd\" fill-opacity=\"1\" /><path clip-path=\"url(#clip330)\" d=\"M114.26 949.761 L143.936 949.761 L143.936 953.696 L114.26 953.696 L114.26 949.761 Z\" fill=\"#000000\" fill-rule=\"evenodd\" fill-opacity=\"1\" /><path clip-path=\"url(#clip330)\" d=\"M154.839 962.654 L162.477 962.654 L162.477 936.289 L154.167 937.955 L154.167 933.696 L162.431 932.029 L167.107 932.029 L167.107 962.654 L174.746 962.654 L174.746 966.589 L154.839 966.589 L154.839 962.654 Z\" fill=\"#000000\" fill-rule=\"evenodd\" fill-opacity=\"1\" /><path clip-path=\"url(#clip330)\" d=\"M162.802 689.149 Q159.19 689.149 157.362 692.713 Q155.556 696.255 155.556 703.385 Q155.556 710.491 157.362 714.056 Q159.19 717.598 162.802 717.598 Q166.436 717.598 168.241 714.056 Q170.07 710.491 170.07 703.385 Q170.07 696.255 168.241 692.713 Q166.436 689.149 162.802 689.149 M162.802 685.445 Q168.612 685.445 171.667 690.051 Q174.746 694.635 174.746 703.385 Q174.746 712.112 171.667 716.718 Q168.612 721.301 162.802 721.301 Q156.991 721.301 153.913 716.718 Q150.857 712.112 150.857 703.385 Q150.857 694.635 153.913 690.051 Q156.991 685.445 162.802 685.445 Z\" fill=\"#000000\" fill-rule=\"evenodd\" fill-opacity=\"1\" /><path clip-path=\"url(#clip330)\" d=\"M154.839 470.735 L162.477 470.735 L162.477 444.37 L154.167 446.036 L154.167 441.777 L162.431 440.111 L167.107 440.111 L167.107 470.735 L174.746 470.735 L174.746 474.671 L154.839 474.671 L154.839 470.735 Z\" fill=\"#000000\" fill-rule=\"evenodd\" fill-opacity=\"1\" /><path clip-path=\"url(#clip330)\" d=\"M158.427 224.776 L174.746 224.776 L174.746 228.711 L152.802 228.711 L152.802 224.776 Q155.464 222.021 160.047 217.392 Q164.653 212.739 165.834 211.396 Q168.079 208.873 168.959 207.137 Q169.862 205.378 169.862 203.688 Q169.862 200.934 167.917 199.197 Q165.996 197.461 162.894 197.461 Q160.695 197.461 158.241 198.225 Q155.811 198.989 153.033 200.54 L153.033 195.818 Q155.857 194.684 158.311 194.105 Q160.765 193.526 162.802 193.526 Q168.172 193.526 171.366 196.211 Q174.561 198.896 174.561 203.387 Q174.561 205.517 173.751 207.438 Q172.964 209.336 170.857 211.929 Q170.278 212.6 167.177 215.818 Q164.075 219.012 158.427 224.776 Z\" fill=\"#000000\" fill-rule=\"evenodd\" fill-opacity=\"1\" /><path clip-path=\"url(#clip330)\" d=\"M28.3562 756.711 L45.7028 769.602 L64.0042 756.043 L64.0042 762.95 L49.9996 773.326 L64.0042 783.702 L64.0042 790.609 L45.3526 776.763 L28.3562 789.431 L28.3562 782.524 L41.0558 773.071 L28.3562 763.618 L28.3562 756.711 Z\" fill=\"#000000\" fill-rule=\"evenodd\" fill-opacity=\"1\" /><path clip-path=\"url(#clip330)\" d=\"M939.794 14.0809 L939.794 22.0612 Q935.135 19.8332 931.003 18.7395 Q926.871 17.6457 923.023 17.6457 Q916.339 17.6457 912.693 20.2383 Q909.088 22.8309 909.088 27.611 Q909.088 31.6214 911.478 33.6873 Q913.909 35.7128 920.633 36.9686 L925.575 37.9813 Q934.73 39.7232 939.065 44.1387 Q943.44 48.5136 943.44 55.8863 Q943.44 64.6767 937.525 69.2137 Q931.652 73.7508 920.268 73.7508 Q915.975 73.7508 911.113 72.7785 Q906.293 71.8063 901.108 69.9024 L901.108 61.4765 Q906.09 64.2716 910.87 65.6895 Q915.65 67.1073 920.268 67.1073 Q927.277 67.1073 931.084 64.3527 Q934.892 61.598 934.892 56.4939 Q934.892 52.0379 932.138 49.5264 Q929.424 47.0148 923.185 45.759 L918.203 44.7868 Q909.047 42.9639 904.956 39.075 Q900.865 35.1862 900.865 28.2591 Q900.865 20.2383 906.495 15.6203 Q912.167 11.0023 922.091 11.0023 Q926.345 11.0023 930.76 11.7719 Q935.176 12.5416 939.794 14.0809 Z\" fill=\"#000000\" fill-rule=\"evenodd\" fill-opacity=\"1\" /><path clip-path=\"url(#clip330)\" d=\"M963.249 14.324 L963.249 27.2059 L978.602 27.2059 L978.602 32.9987 L963.249 32.9987 L963.249 57.6282 Q963.249 63.1779 964.747 64.7578 Q966.287 66.3376 970.945 66.3376 L978.602 66.3376 L978.602 72.576 L970.945 72.576 Q962.317 72.576 959.036 69.3758 Q955.754 66.1351 955.754 57.6282 L955.754 32.9987 L950.286 32.9987 L950.286 27.2059 L955.754 27.2059 L955.754 14.324 L963.249 14.324 Z\" fill=\"#000000\" fill-rule=\"evenodd\" fill-opacity=\"1\" /><path clip-path=\"url(#clip330)\" d=\"M1009.02 49.7694 Q999.99 49.7694 996.507 51.8354 Q993.023 53.9013 993.023 58.8839 Q993.023 62.8538 995.615 65.2034 Q998.248 67.5124 1002.74 67.5124 Q1008.94 67.5124 1012.67 63.1374 Q1016.44 58.7219 1016.44 51.4303 L1016.44 49.7694 L1009.02 49.7694 M1023.89 46.6907 L1023.89 72.576 L1016.44 72.576 L1016.44 65.6895 Q1013.88 69.8214 1010.08 71.8063 Q1006.27 73.7508 1000.76 73.7508 Q993.792 73.7508 989.66 69.8619 Q985.569 65.9325 985.569 59.3701 Q985.569 51.7138 990.673 47.825 Q995.818 43.9361 1005.99 43.9361 L1016.44 43.9361 L1016.44 43.2069 Q1016.44 38.0623 1013.03 35.2672 Q1009.67 32.4315 1003.56 32.4315 Q999.666 32.4315 995.98 33.3632 Q992.294 34.295 988.891 36.1584 L988.891 29.2718 Q992.982 27.692 996.831 26.9223 Q1000.68 26.1121 1004.32 26.1121 Q1014.17 26.1121 1019.03 31.2163 Q1023.89 36.3204 1023.89 46.6907 Z\" fill=\"#000000\" fill-rule=\"evenodd\" fill-opacity=\"1\" /><path clip-path=\"url(#clip330)\" d=\"M1046.62 14.324 L1046.62 27.2059 L1061.97 27.2059 L1061.97 32.9987 L1046.62 32.9987 L1046.62 57.6282 Q1046.62 63.1779 1048.12 64.7578 Q1049.65 66.3376 1054.31 66.3376 L1061.97 66.3376 L1061.97 72.576 L1054.31 72.576 Q1045.68 72.576 1042.4 69.3758 Q1039.12 66.1351 1039.12 57.6282 L1039.12 32.9987 L1033.65 32.9987 L1033.65 27.2059 L1039.12 27.2059 L1039.12 14.324 L1046.62 14.324 Z\" fill=\"#000000\" fill-rule=\"evenodd\" fill-opacity=\"1\" /><path clip-path=\"url(#clip330)\" d=\"M1110.58 48.0275 L1110.58 51.6733 L1076.31 51.6733 Q1076.8 59.3701 1080.93 63.421 Q1085.1 67.4314 1092.51 67.4314 Q1096.81 67.4314 1100.82 66.3781 Q1104.87 65.3249 1108.84 63.2184 L1108.84 70.267 Q1104.83 71.9684 1100.61 72.8596 Q1096.4 73.7508 1092.07 73.7508 Q1081.21 73.7508 1074.85 67.4314 Q1068.53 61.1119 1068.53 50.3365 Q1068.53 39.1965 1074.53 32.6746 Q1080.56 26.1121 1090.77 26.1121 Q1099.93 26.1121 1105.23 32.0264 Q1110.58 37.9003 1110.58 48.0275 M1103.13 45.84 Q1103.05 39.7232 1099.68 36.0774 Q1096.36 32.4315 1090.85 32.4315 Q1084.61 32.4315 1080.85 35.9558 Q1077.12 39.4801 1076.55 45.8805 L1103.13 45.84 Z\" fill=\"#000000\" fill-rule=\"evenodd\" fill-opacity=\"1\" /><path clip-path=\"url(#clip330)\" d=\"M1149.51 12.096 L1187.75 12.096 L1187.75 18.9825 L1157.69 18.9825 L1157.69 36.8875 L1186.49 36.8875 L1186.49 43.7741 L1157.69 43.7741 L1157.69 65.6895 L1188.48 65.6895 L1188.48 72.576 L1149.51 72.576 L1149.51 12.096 Z\" fill=\"#000000\" fill-rule=\"evenodd\" fill-opacity=\"1\" /><path clip-path=\"url(#clip330)\" d=\"M1227.89 34.1734 Q1226.64 33.4443 1225.14 33.1202 Q1223.68 32.7556 1221.9 32.7556 Q1215.58 32.7556 1212.18 36.8875 Q1208.81 40.9789 1208.81 48.6757 L1208.81 72.576 L1201.32 72.576 L1201.32 27.2059 L1208.81 27.2059 L1208.81 34.2544 Q1211.16 30.1225 1214.93 28.1376 Q1218.7 26.1121 1224.09 26.1121 Q1224.86 26.1121 1225.79 26.2337 Q1226.72 26.3147 1227.85 26.5172 L1227.89 34.1734 Z\" fill=\"#000000\" fill-rule=\"evenodd\" fill-opacity=\"1\" /><path clip-path=\"url(#clip330)\" d=\"M1260.54 34.1734 Q1259.29 33.4443 1257.79 33.1202 Q1256.33 32.7556 1254.55 32.7556 Q1248.23 32.7556 1244.83 36.8875 Q1241.46 40.9789 1241.46 48.6757 L1241.46 72.576 L1233.97 72.576 L1233.97 27.2059 L1241.46 27.2059 L1241.46 34.2544 Q1243.81 30.1225 1247.58 28.1376 Q1251.35 26.1121 1256.74 26.1121 Q1257.51 26.1121 1258.44 26.2337 Q1259.37 26.3147 1260.5 26.5172 L1260.54 34.1734 Z\" fill=\"#000000\" fill-rule=\"evenodd\" fill-opacity=\"1\" /><path clip-path=\"url(#clip330)\" d=\"M1284.12 32.4315 Q1278.13 32.4315 1274.64 37.1306 Q1271.16 41.7891 1271.16 49.9314 Q1271.16 58.0738 1274.6 62.7728 Q1278.08 67.4314 1284.12 67.4314 Q1290.08 67.4314 1293.56 62.7323 Q1297.04 58.0333 1297.04 49.9314 Q1297.04 41.8701 1293.56 37.1711 Q1290.08 32.4315 1284.12 32.4315 M1284.12 26.1121 Q1293.84 26.1121 1299.39 32.4315 Q1304.94 38.7509 1304.94 49.9314 Q1304.94 61.0714 1299.39 67.4314 Q1293.84 73.7508 1284.12 73.7508 Q1274.36 73.7508 1268.81 67.4314 Q1263.3 61.0714 1263.3 49.9314 Q1263.3 38.7509 1268.81 32.4315 Q1274.36 26.1121 1284.12 26.1121 Z\" fill=\"#000000\" fill-rule=\"evenodd\" fill-opacity=\"1\" /><path clip-path=\"url(#clip330)\" d=\"M1343.59 34.1734 Q1342.33 33.4443 1340.83 33.1202 Q1339.38 32.7556 1337.59 32.7556 Q1331.27 32.7556 1327.87 36.8875 Q1324.51 40.9789 1324.51 48.6757 L1324.51 72.576 L1317.01 72.576 L1317.01 27.2059 L1324.51 27.2059 L1324.51 34.2544 Q1326.86 30.1225 1330.63 28.1376 Q1334.39 26.1121 1339.78 26.1121 Q1340.55 26.1121 1341.48 26.2337 Q1342.41 26.3147 1343.55 26.5172 L1343.59 34.1734 Z\" fill=\"#000000\" fill-rule=\"evenodd\" fill-opacity=\"1\" /><path clip-path=\"url(#clip330)\" d=\"M1378.1 12.096 L1386.28 12.096 L1386.28 36.8875 L1416.02 36.8875 L1416.02 12.096 L1424.2 12.096 L1424.2 72.576 L1416.02 72.576 L1416.02 43.7741 L1386.28 43.7741 L1386.28 72.576 L1378.1 72.576 L1378.1 12.096 Z\" fill=\"#000000\" fill-rule=\"evenodd\" fill-opacity=\"1\" /><path clip-path=\"url(#clip330)\" d=\"M1440.16 27.2059 L1447.62 27.2059 L1447.62 72.576 L1440.16 72.576 L1440.16 27.2059 M1440.16 9.54393 L1447.62 9.54393 L1447.62 18.9825 L1440.16 18.9825 L1440.16 9.54393 Z\" fill=\"#000000\" fill-rule=\"evenodd\" fill-opacity=\"1\" /><path clip-path=\"url(#clip330)\" d=\"M1492.13 28.5427 L1492.13 35.5912 Q1488.97 33.9709 1485.57 33.1607 Q1482.17 32.3505 1478.52 32.3505 Q1472.97 32.3505 1470.18 34.0519 Q1467.42 35.7533 1467.42 39.156 Q1467.42 41.7486 1469.41 43.2475 Q1471.39 44.7058 1477.39 46.0426 L1479.94 46.6097 Q1487.88 48.3111 1491.2 51.4303 Q1494.57 54.509 1494.57 60.0587 Q1494.57 66.3781 1489.54 70.0644 Q1484.56 73.7508 1475.81 73.7508 Q1472.16 73.7508 1468.19 73.0216 Q1464.26 72.3329 1459.89 70.9151 L1459.89 63.2184 Q1464.02 65.3654 1468.03 66.4591 Q1472.04 67.5124 1475.97 67.5124 Q1481.24 67.5124 1484.07 65.73 Q1486.91 63.9071 1486.91 60.6258 Q1486.91 57.5877 1484.84 55.9673 Q1482.82 54.3469 1475.89 52.8481 L1473.3 52.2405 Q1466.37 50.7821 1463.29 47.7845 Q1460.21 44.7463 1460.21 39.4801 Q1460.21 33.0797 1464.75 29.5959 Q1469.29 26.1121 1477.63 26.1121 Q1481.76 26.1121 1485.41 26.7198 Q1489.06 27.3274 1492.13 28.5427 Z\" fill=\"#000000\" fill-rule=\"evenodd\" fill-opacity=\"1\" /><path clip-path=\"url(#clip330)\" d=\"M1513.81 14.324 L1513.81 27.2059 L1529.16 27.2059 L1529.16 32.9987 L1513.81 32.9987 L1513.81 57.6282 Q1513.81 63.1779 1515.31 64.7578 Q1516.85 66.3376 1521.5 66.3376 L1529.16 66.3376 L1529.16 72.576 L1521.5 72.576 Q1512.88 72.576 1509.59 69.3758 Q1506.31 66.1351 1506.31 57.6282 L1506.31 32.9987 L1500.84 32.9987 L1500.84 27.2059 L1506.31 27.2059 L1506.31 14.324 L1513.81 14.324 Z\" fill=\"#000000\" fill-rule=\"evenodd\" fill-opacity=\"1\" /><path clip-path=\"url(#clip330)\" d=\"M1556.54 32.4315 Q1550.55 32.4315 1547.06 37.1306 Q1543.58 41.7891 1543.58 49.9314 Q1543.58 58.0738 1547.02 62.7728 Q1550.51 67.4314 1556.54 67.4314 Q1562.5 67.4314 1565.98 62.7323 Q1569.47 58.0333 1569.47 49.9314 Q1569.47 41.8701 1565.98 37.1711 Q1562.5 32.4315 1556.54 32.4315 M1556.54 26.1121 Q1566.27 26.1121 1571.82 32.4315 Q1577.37 38.7509 1577.37 49.9314 Q1577.37 61.0714 1571.82 67.4314 Q1566.27 73.7508 1556.54 73.7508 Q1546.78 73.7508 1541.23 67.4314 Q1535.72 61.0714 1535.72 49.9314 Q1535.72 38.7509 1541.23 32.4315 Q1546.78 26.1121 1556.54 26.1121 Z\" fill=\"#000000\" fill-rule=\"evenodd\" fill-opacity=\"1\" /><path clip-path=\"url(#clip330)\" d=\"M1616.01 34.1734 Q1614.76 33.4443 1613.26 33.1202 Q1611.8 32.7556 1610.02 32.7556 Q1603.7 32.7556 1600.29 36.8875 Q1596.93 40.9789 1596.93 48.6757 L1596.93 72.576 L1589.44 72.576 L1589.44 27.2059 L1596.93 27.2059 L1596.93 34.2544 Q1599.28 30.1225 1603.05 28.1376 Q1606.82 26.1121 1612.2 26.1121 Q1612.97 26.1121 1613.9 26.2337 Q1614.84 26.3147 1615.97 26.5172 L1616.01 34.1734 Z\" fill=\"#000000\" fill-rule=\"evenodd\" fill-opacity=\"1\" /><path clip-path=\"url(#clip330)\" d=\"M1642.71 76.7889 Q1639.55 84.8907 1636.55 87.3618 Q1633.55 89.8329 1628.53 89.8329 L1622.57 89.8329 L1622.57 83.5945 L1626.95 83.5945 Q1630.03 83.5945 1631.73 82.1361 Q1633.43 80.6778 1635.5 75.2496 L1636.83 71.8468 L1618.48 27.2059 L1626.38 27.2059 L1640.56 62.6918 L1654.74 27.2059 L1662.64 27.2059 L1642.71 76.7889 Z\" fill=\"#000000\" fill-rule=\"evenodd\" fill-opacity=\"1\" /><polyline clip-path=\"url(#clip332)\" style=\"stroke:#009af9; stroke-linecap:round; stroke-linejoin:round; stroke-width:4; stroke-opacity:1; fill:none\" points=\"271.369,717.974 278.612,828.796 285.855,850.722 293.098,856.266 300.34,853.007 307.583,845.021 314.826,861.479 322.069,863.898 329.312,825.343 336.555,823.127 343.798,760.496 351.041,688.907 358.283,734.863 365.526,817.841 372.769,847.854 380.012,856.718 387.255,861.497 394.498,803.267 401.741,801.287 408.984,823.15 416.227,776.859 423.469,717.066 430.712,742.608 437.955,781.344 445.198,749.684 452.441,735.245 459.684,730.912 466.927,731.676 474.17,728.102 481.412,771.687 488.655,774.347 495.898,796.013 503.141,806.621 510.384,826.314 517.627,804.974 524.87,830.563 532.113,838.115 539.356,863.2 546.598,845.842 553.841,866.956 561.084,843.089 568.327,868.599 575.57,875.038 582.813,759.229 590.056,813.533 597.299,810.906 604.541,773.433 611.784,717.484 619.027,702.701 626.27,731.31 633.513,722.586 640.756,678.617 647.999,575.951 655.242,571.233 662.485,594.808 669.727,618.066 676.97,600.071 684.213,607.108 691.456,584.177 698.699,608.292 705.942,635.15 713.185,624.232 720.428,608.576 727.67,605.159 734.913,649.364 742.156,641.267 749.399,665.646 756.642,669.607 763.885,665.275 771.128,707.602 778.371,729.395 785.613,799.554 792.856,818.146 800.099,782.001 807.342,763.798 814.585,717.579 821.828,671.838 829.071,702.272 836.314,773.547 843.557,796.333 850.799,861.655 858.042,918.745 865.285,962.361 872.528,934.574 879.771,948.541 887.014,963.862 894.257,970.229 901.5,958.148 908.742,928.682 915.985,914.645 923.228,904.706 930.471,930.234 937.714,948.41 944.957,932.583 952.2,969.695 959.443,967.248 966.686,970.837 973.928,965.01 981.171,968.264 988.414,937.917 995.657,934.794 1002.9,965.517 1010.14,961.679 1017.39,958.682 1024.63,895.628 1031.87,881.357 1039.11,878.538 1046.36,846.239 1053.6,914.647 1060.84,860.512 1068.09,915.581 1075.33,948.927 1082.57,990.248 1089.81,1022.16 1097.06,1080.7 1104.3,1049.99 1111.54,1031.68 1118.79,1005.26 1126.03,1015.9 1133.27,1044.21 1140.51,1122.47 1147.76,1143.54 1155,1110.83 1162.24,1188.84 1169.49,1199.5 1176.73,1115.65 1183.97,1123.05 1191.21,1137.27 1198.46,1097.13 1205.7,1054.06 1212.94,1077.96 1220.19,1089.82 1227.43,1095.72 1234.67,1106.86 1241.92,1043.12 1249.16,983.001 1256.4,1021.43 1263.64,1072.69 1270.89,1040.77 1278.13,1044.97 1285.37,1060.2 1292.62,1056.59 1299.86,932.058 1307.1,998.248 1314.34,987.832 1321.59,1050.59 1328.83,1021.41 1336.07,1113.13 1343.32,1117.6 1350.56,1148.19 1357.8,1119.34 1365.04,1105.19 1372.29,1106.09 1379.53,1075.43 1386.77,1055.21 1394.02,1085.33 1401.26,1055.84 1408.5,1053.63 1415.74,1005.85 1422.99,993.322 1430.23,996.429 1437.47,974.856 1444.72,1001.29 1451.96,923.274 1459.2,874.777 1466.44,910.924 1473.69,897.623 1480.93,892.013 1488.17,782.837 1495.42,755.092 1502.66,722.512 1509.9,765.014 1517.14,833.131 1524.39,914.334 1531.63,878.504 1538.87,915.283 1546.12,892.659 1553.36,845.952 1560.6,759.835 1567.84,694.157 1575.09,719.497 1582.33,736.276 1589.57,809.402 1596.82,846.112 1604.06,828.58 1611.3,820.06 1618.54,894.216 1625.79,828.565 1633.03,853.739 1640.27,869.153 1647.52,869.034 1654.76,748.613 1662,750.734 1669.25,876.097 1676.49,928.625 1683.73,947.418 1690.97,912.796 1698.22,934.294 1705.46,967.212 1712.7,1079.11 1719.95,1104.26 1727.19,1163.08 1734.43,1203.22 1741.67,1216.72 1748.92,1206.99 1756.16,1210.5 1763.4,1199.35 1770.65,1181.26 1777.89,1207.57 1785.13,1289.95 1792.37,1322.19 1799.62,1249.08 1806.86,1325.38 1814.1,1265.09 1821.35,1298.42 1828.59,1299.69 1835.83,1287.79 1843.07,1225.31 1850.32,1348.76 1857.56,1386.4 1864.8,1308.41 1872.05,1252.24 1879.29,1255.16 1886.53,1250.72 1893.77,1235.77 1901.02,1170.93 1908.26,1163.17 1915.5,1194.11 1922.75,1223.28 1929.99,1224.34 1937.23,1210.95 1944.47,1182.39 1951.72,1105.26 1958.96,1021.3 1966.2,1022.55 1973.45,941.274 1980.69,904.137 1987.93,926.207 1995.17,975.107 2002.42,908.146 2009.66,920.723 2016.9,946.617 2024.15,972.477 2031.39,1008.82 2038.63,1027.13 2045.87,988.53 2053.12,965.474 2060.36,958.518 2067.6,928.456 2074.85,924.379 2082.09,921.831 2089.33,914.02 2096.58,894.013 2103.82,867.142 2111.06,852.54 2118.3,809.713 2125.55,767.794 2132.79,747.073 2140.03,754.768 2147.28,718.128 2154.52,743.719 2161.76,749.036 2169,746.255 2176.25,734.92 2183.49,755.012 2190.73,757.796 2197.98,771.526 2205.22,768.578 2212.46,758.847 2219.7,768.443 2226.95,779.988 2234.19,782.14 2241.43,770.582 2248.68,763.081 2255.92,767.641 2263.16,760.312 2270.4,749 2277.65,744.567 2284.89,748.224 2292.13,745.481 \"/>\n<polyline clip-path=\"url(#clip332)\" style=\"stroke:#e26f46; stroke-linecap:round; stroke-linejoin:round; stroke-width:4; stroke-opacity:1; fill:none\" points=\"271.369,722.161 278.612,612.692 285.855,587.705 293.098,551.825 300.34,613.822 307.583,517.793 314.826,489.233 322.069,504.981 329.312,555.95 336.555,541.263 343.798,519.873 351.041,534.195 358.283,482.439 365.526,448.49 372.769,443.378 380.012,462.689 387.255,433.706 394.498,363.273 401.741,342.215 408.984,299.344 416.227,254.037 423.469,160.256 430.712,189.809 437.955,260.126 445.198,231.594 452.441,233.135 459.684,222.285 466.927,217.921 474.17,264.228 481.412,293.409 488.655,319.25 495.898,390.32 503.141,417.74 510.384,485.114 517.627,510.39 524.87,463.895 532.113,489.64 539.356,507.196 546.598,531.76 553.841,511.583 561.084,550.746 568.327,560.621 575.57,563.607 582.813,593.875 590.056,551.057 597.299,555.342 604.541,574.298 611.784,622.068 619.027,633.69 626.27,602.28 633.513,612.635 640.756,632.985 647.999,599.115 655.242,577.388 662.485,626.837 669.727,630.679 676.97,671.293 684.213,626.779 691.456,618.85 698.699,625.272 705.942,626.434 713.185,604.927 720.428,647.677 727.67,593.829 734.913,581.597 742.156,584.81 749.399,619.343 756.642,637.963 763.885,646.478 771.128,627.011 778.371,643.232 785.613,668.906 792.856,653.664 800.099,666.623 807.342,685.456 814.585,668.101 821.828,683.714 829.071,707.01 836.314,660.484 843.557,623.267 850.799,662.031 858.042,702.265 865.285,768.455 872.528,763.927 879.771,787.615 887.014,770.587 894.257,755.907 901.5,700.24 908.742,734.795 915.985,725.771 923.228,693.394 930.471,689.71 937.714,705.143 944.957,661.29 952.2,691.196 959.443,643.488 966.686,644.517 973.928,636.934 981.171,602.38 988.414,610.288 995.657,641.856 1002.9,654.248 1010.14,635.512 1017.39,672.644 1024.63,707.711 1031.87,766.838 1039.11,807.913 1046.36,736.505 1053.6,723.186 1060.84,710.392 1068.09,714.683 1075.33,709.276 1082.57,752.607 1089.81,827.347 1097.06,864.99 1104.3,832.492 1111.54,774.04 1118.79,735.747 1126.03,668.788 1133.27,685.032 1140.51,655.873 1147.76,634.931 1155,609.835 1162.24,628.575 1169.49,568.983 1176.73,543.444 1183.97,495.81 1191.21,503.163 1198.46,488.706 1205.7,487.755 1212.94,501.617 1220.19,507.823 1227.43,537.959 1234.67,567.147 1241.92,640.748 1249.16,654.575 1256.4,672.24 1263.64,657.304 1270.89,634.522 1278.13,728.635 1285.37,735.605 1292.62,721.031 1299.86,689.24 1307.1,700.057 1314.34,705.363 1321.59,648.941 1328.83,676.481 1336.07,740.479 1343.32,780.469 1350.56,714.136 1357.8,621.114 1365.04,565.384 1372.29,555.428 1379.53,577.201 1386.77,655.4 1394.02,732.286 1401.26,728.739 1408.5,679.883 1415.74,684.791 1422.99,713.421 1430.23,678.434 1437.47,637.414 1444.72,581.469 1451.96,586.463 1459.2,573.919 1466.44,502.459 1473.69,515.74 1480.93,522.318 1488.17,601.354 1495.42,605.764 1502.66,589.129 1509.9,638.851 1517.14,662.44 1524.39,713.363 1531.63,748.823 1538.87,793.841 1546.12,853.663 1553.36,879.158 1560.6,868.23 1567.84,862.101 1575.09,821.96 1582.33,809.946 1589.57,792.424 1596.82,835.268 1604.06,818.365 1611.3,862.685 1618.54,873.023 1625.79,779.958 1633.03,795.216 1640.27,811.611 1647.52,793.847 1654.76,725.805 1662,768.215 1669.25,764.287 1676.49,691.901 1683.73,593.206 1690.97,523.741 1698.22,533.453 1705.46,541.901 1712.7,558.128 1719.95,539.483 1727.19,557.581 1734.43,589.145 1741.67,506.691 1748.92,508.173 1756.16,515.719 1763.4,545.26 1770.65,529.24 1777.89,541.785 1785.13,493.757 1792.37,492.862 1799.62,519.414 1806.86,557.557 1814.1,548.95 1821.35,569.172 1828.59,599.071 1835.83,698.251 1843.07,735.383 1850.32,655.571 1857.56,660.17 1864.8,724.177 1872.05,730.724 1879.29,779.378 1886.53,795.066 1893.77,896.846 1901.02,868.583 1908.26,848.958 1915.5,802.991 1922.75,723.932 1929.99,749.424 1937.23,712.687 1944.47,751.4 1951.72,754.611 1958.96,740.783 1966.2,790.046 1973.45,811.767 1980.69,832.42 1987.93,852.876 1995.17,905.622 2002.42,847.758 2009.66,830.356 2016.9,815.239 2024.15,841.222 2031.39,883.557 2038.63,836.93 2045.87,841.989 2053.12,845.932 2060.36,805.221 2067.6,814.868 2074.85,801.916 2082.09,802.179 2089.33,805.337 2096.58,801.646 2103.82,798.713 2111.06,788.003 2118.3,833.075 2125.55,835.125 2132.79,833.61 2140.03,827.124 2147.28,802.793 2154.52,820.645 2161.76,824.312 2169,815.183 2176.25,792.242 2183.49,817.373 2190.73,799.722 2197.98,784.718 2205.22,778.477 2212.46,775.948 2219.7,778.977 2226.95,761.168 2234.19,772.035 2241.43,769.965 2248.68,763.011 2255.92,764.751 2263.16,759.016 2270.4,748.463 2277.65,746.592 2284.89,751.895 2292.13,750.352 \"/>\n<polyline clip-path=\"url(#clip332)\" style=\"stroke:#3da44d; stroke-linecap:round; stroke-linejoin:round; stroke-width:4; stroke-opacity:1; fill:none\" points=\"271.369,673.951 278.612,699.623 285.855,719.363 293.098,637.236 300.34,634.02 307.583,631.195 314.826,601.564 322.069,678.534 329.312,619.043 336.555,532.565 343.798,492.693 351.041,433.985 358.283,371.19 365.526,416.921 372.769,400.051 380.012,409.659 387.255,346.631 394.498,401.152 401.741,418.149 408.984,389.003 416.227,342.515 423.469,330.566 430.712,277.09 437.955,277.811 445.198,255.556 452.441,292.238 459.684,368.238 466.927,376.066 474.17,385.316 481.412,405.419 488.655,420.136 495.898,429.623 503.141,453.696 510.384,406.719 517.627,347.161 524.87,335.248 532.113,346.525 539.356,323.544 546.598,355.864 553.841,369.379 561.084,347.755 568.327,360.788 575.57,361.556 582.813,379.714 590.056,400.419 597.299,449.144 604.541,496.776 611.784,486.558 619.027,488.317 626.27,564.442 633.513,603.365 640.756,616.88 647.999,638.565 655.242,577.366 662.485,560.556 669.727,547.574 676.97,571.758 684.213,523.4 691.456,522.033 698.699,510.092 705.942,514.392 713.185,539.595 720.428,520.69 727.67,513.516 734.913,534.576 742.156,542.589 749.399,529.258 756.642,558.595 763.885,565.209 771.128,565.787 778.371,559.325 785.613,564.132 792.856,559.302 800.099,574.61 807.342,589.427 814.585,645.38 821.828,666.766 829.071,699.684 836.314,659.662 843.557,722.758 850.799,737.874 858.042,702.337 865.285,715.733 872.528,732.665 879.771,709.834 887.014,730.332 894.257,770.775 901.5,755.605 908.742,811.998 915.985,815.927 923.228,805.365 930.471,866.777 937.714,905.743 944.957,903.864 952.2,901.782 959.443,885.438 966.686,884.584 973.928,837.685 981.171,866.412 988.414,852.295 995.657,898.395 1002.9,915.716 1010.14,919.861 1017.39,970.998 1024.63,1017.7 1031.87,1012.09 1039.11,980.082 1046.36,982.783 1053.6,894.365 1060.84,846.471 1068.09,875.842 1075.33,888.2 1082.57,917.724 1089.81,921.532 1097.06,929.224 1104.3,922.545 1111.54,917.833 1118.79,953.367 1126.03,889.37 1133.27,920.142 1140.51,1000.65 1147.76,1022.71 1155,1044.39 1162.24,1036.95 1169.49,1016.51 1176.73,1025.53 1183.97,1054.51 1191.21,1067.23 1198.46,1050.84 1205.7,1082.95 1212.94,1106.26 1220.19,1151.02 1227.43,1169.67 1234.67,1153.43 1241.92,1083.35 1249.16,1049.67 1256.4,1012.7 1263.64,1046.11 1270.89,1031.47 1278.13,1063.29 1285.37,1045.46 1292.62,1046.54 1299.86,1139.04 1307.1,1182.48 1314.34,1199.16 1321.59,1183.42 1328.83,1097.56 1336.07,1097.95 1343.32,1148.35 1350.56,1132.44 1357.8,1085.22 1365.04,1150.99 1372.29,1145.59 1379.53,1095.39 1386.77,1087.14 1394.02,1122.62 1401.26,1100.93 1408.5,1120.9 1415.74,1175.39 1422.99,1094.6 1430.23,1036.31 1437.47,1003.25 1444.72,1061.92 1451.96,1055.08 1459.2,1021.9 1466.44,1036.13 1473.69,1014.71 1480.93,1025.23 1488.17,1049.24 1495.42,962.793 1502.66,806.313 1509.9,811.697 1517.14,799.215 1524.39,840.744 1531.63,840.217 1538.87,869.3 1546.12,777.952 1553.36,764.138 1560.6,771.692 1567.84,746.717 1575.09,748.055 1582.33,735.296 1589.57,736.699 1596.82,793.23 1604.06,823.695 1611.3,748.947 1618.54,631.063 1625.79,651.566 1633.03,722.964 1640.27,782.577 1647.52,812.434 1654.76,881.857 1662,880.293 1669.25,864.04 1676.49,756.353 1683.73,765.291 1690.97,721.065 1698.22,675.135 1705.46,607.323 1712.7,666.924 1719.95,648.464 1727.19,660.488 1734.43,765.09 1741.67,869.312 1748.92,896.649 1756.16,864 1763.4,895.396 1770.65,931.25 1777.89,918.748 1785.13,901.042 1792.37,852.565 1799.62,736.086 1806.86,646.19 1814.1,616.145 1821.35,508.365 1828.59,553.747 1835.83,577.65 1843.07,620.961 1850.32,573.51 1857.56,639.239 1864.8,644.816 1872.05,639.759 1879.29,632.171 1886.53,601.692 1893.77,642.098 1901.02,670.477 1908.26,713.192 1915.5,670.902 1922.75,673.998 1929.99,600.377 1937.23,585.143 1944.47,648.522 1951.72,651.058 1958.96,688.611 1966.2,685.387 1973.45,614.969 1980.69,579.041 1987.93,542.502 1995.17,552.709 2002.42,523.576 2009.66,454.457 2016.9,493.373 2024.15,459.108 2031.39,440.384 2038.63,480.49 2045.87,523.838 2053.12,533.295 2060.36,517.238 2067.6,522.145 2074.85,551.67 2082.09,562.63 2089.33,581.93 2096.58,603.792 2103.82,601.281 2111.06,576.625 2118.3,600.156 2125.55,591.192 2132.79,592.213 2140.03,575.654 2147.28,555.885 2154.52,570.895 2161.76,536.535 2169,526.732 2176.25,516.548 2183.49,503.821 2190.73,516.285 2197.98,507.751 2205.22,516.071 2212.46,509.237 2219.7,499.816 2226.95,487.513 2234.19,482.726 2241.43,490.751 2248.68,493.88 2255.92,501.235 2263.16,502.947 2270.4,510.11 2277.65,510.018 2284.89,514.806 2292.13,517.998 \"/>\n<polyline clip-path=\"url(#clip332)\" style=\"stroke:#c271d2; stroke-linecap:round; stroke-linejoin:round; stroke-width:4; stroke-opacity:1; fill:none\" stroke-dasharray=\"16, 10\" points=\"271.369,703.35 278.612,703.065 285.855,700.694 293.098,698.024 300.34,695.367 307.583,692.908 314.826,690.703 322.069,688.305 329.312,685.975 336.555,684.48 343.798,683.094 351.041,682.969 358.283,684.21 365.526,684.519 372.769,683.239 380.012,681.457 387.255,679.59 394.498,677.712 401.741,677.03 408.984,676.422 416.227,675.428 423.469,675.351 430.712,676.417 437.955,676.951 445.198,676.722 452.441,677.104 459.684,677.749 466.927,678.445 474.17,679.093 481.412,679.779 488.655,679.606 495.898,679.382 503.141,678.753 510.384,677.961 517.627,676.828 524.87,676.152 532.113,675.029 539.356,673.817 546.598,672.176 553.841,670.946 561.084,669.377 568.327,668.324 575.57,666.839 582.813,665.31 590.056,666.051 597.299,665.737 604.541,665.486 611.784,665.957 619.027,667.469 626.27,669.198 633.513,670.295 640.756,671.507 647.999,673.492 655.242,677.095 662.485,680.836 669.727,683.973 676.97,686.51 684.213,689.271 691.456,691.775 698.699,694.587 705.942,696.809 713.185,698.42 720.428,700.155 727.67,702.116 734.913,704.041 742.156,705.039 749.399,706.133 756.642,706.714 763.885,707.196 771.128,707.748 778.371,707.462 785.613,706.773 792.856,704.777 800.099,702.521 807.342,701.071 814.585,700.024 821.828,699.917 829.071,700.686 836.314,700.834 843.557,699.616 850.799,698.027 858.042,695.272 865.285,691.556 872.528,687.184 879.771,683.56 887.014,679.835 894.257,676.003 901.5,672.238 908.742,668.874 915.985,666.228 923.228,663.982 930.471,662.022 937.714,659.666 944.957,657.083 952.2,654.923 959.443,652.165 966.686,649.584 973.928,647.054 981.171,644.751 988.414,642.508 995.657,640.946 1002.9,639.507 1010.14,637.56 1017.39,635.777 1024.63,634.138 1031.87,633.769 1039.11,633.689 1046.36,633.665 1053.6,634.257 1060.84,633.534 1068.09,633.861 1075.33,633.135 1082.57,631.803 1089.81,629.755 1097.06,627.192 1104.3,623.648 1111.54,620.85 1118.79,618.528 1126.03,616.828 1133.27,615 1140.51,612.717 1147.76,609.058 1155,605.182 1162.24,602.099 1169.49,597.678 1176.73,593.271 1183.97,590.664 1191.21,588.046 1198.46,585.289 1205.7,583.426 1212.94,582.461 1220.19,581.091 1227.43,579.56 1234.67,577.997 1241.92,576.286 1249.16,575.863 1256.4,576.616 1263.64,576.6 1270.89,575.595 1278.13,575.259 1285.37,574.844 1292.62,574.171 1299.86,573.6 1307.1,575.422 1314.34,575.897 1321.59,576.55 1328.83,575.985 1336.07,576.001 1343.32,574.269 1350.56,572.531 1357.8,570.3 1365.04,568.718 1372.29,567.485 1379.53,566.289 1386.77,565.737 1394.02,565.587 1401.26,564.868 1408.5,564.744 1415.74,564.675 1422.99,565.52 1430.23,566.561 1437.47,567.5 1444.72,568.787 1451.96,569.524 1459.2,571.715 1466.44,574.713 1473.69,576.882 1480.93,579.197 1488.17,581.519 1495.42,585.8 1502.66,590.409 1509.9,595.415 1517.14,599.378 1524.39,601.856 1531.63,602.662 1538.87,604.117 1546.12,604.814 1553.36,605.893 1560.6,607.815 1567.84,611.29 1575.09,615.839 1582.33,619.689 1589.57,623.048 1596.82,624.845 1604.06,625.871 1611.3,627.185 1618.54,628.59 1625.79,628.512 1633.03,629.688 1640.27,630.329 1647.52,630.647 1654.76,630.953 1662,633.538 1669.25,635.96 1676.49,635.878 1683.73,634.796 1690.97,633.413 1698.22,632.758 1705.46,631.733 1712.7,630.108 1719.95,626.446 1727.19,622.49 1734.43,617.594 1741.67,612.167 1748.92,607.02 1756.16,602.29 1763.4,597.564 1770.65,593.158 1777.89,589.32 1785.13,585.157 1792.37,579.836 1799.62,574.127 1806.86,569.908 1814.1,564.426 1821.35,560.353 1828.59,555.84 1835.83,551.52 1843.07,547.631 1850.32,545.109 1857.56,540.373 1864.8,535.132 1872.05,531.628 1879.29,529.361 1886.53,527.138 1893.77,525.114 1901.02,523.464 1908.26,523.131 1915.5,522.957 1922.75,522.207 1929.99,520.943 1937.23,519.713 1944.47,518.803 1951.72,518.474 1958.96,519.628 1966.2,522.312 1973.45,524.858 1980.69,528.826 1987.93,533.309 1995.17,537.166 2002.42,539.898 2009.66,543.782 2016.9,547.233 2024.15,550.03 2031.39,552.207 2038.63,553.593 2045.87,554.554 2053.12,556.204 2060.36,558.225 2067.6,560.28 2074.85,562.792 2082.09,565.283 2089.33,567.702 2096.58,570.147 2103.82,572.866 2111.06,575.961 2118.3,579.189 2125.55,583.077 2132.79,587.571 2140.03,592.239 2147.28,596.548 2154.52,601.345 2161.76,605.419 2169,609.206 2176.25,612.869 2183.49,616.571 2190.73,619.719 2197.98,622.661 2205.22,625.198 2212.46,627.672 2219.7,630.211 2226.95,632.449 2234.19,634.368 2241.43,636.143 2248.68,638.063 2255.92,640.032 2263.16,641.83 2270.4,643.663 2277.65,645.633 2284.89,647.597 2292.13,649.395 \"/>\n<polyline clip-path=\"url(#clip332)\" style=\"stroke:#ac8d18; stroke-linecap:round; stroke-linejoin:round; stroke-width:4; stroke-opacity:1; fill:none\" stroke-dasharray=\"16, 10\" points=\"271.369,703.346 278.612,703.686 285.855,705.389 293.098,707.494 300.34,710.17 307.583,711.55 314.826,714.681 322.069,718.212 329.312,721.276 336.555,723.219 343.798,725.356 351.041,727.795 358.283,729.853 365.526,732.79 372.769,736.236 380.012,739.62 387.255,742.469 394.498,745.738 401.741,750.187 408.984,754.816 416.227,760.034 423.469,765.885 430.712,773.236 437.955,779.667 445.198,784.464 452.441,789.566 459.684,794.399 466.927,799.207 474.17,803.871 481.412,807.444 488.655,810.288 495.898,812.508 503.141,813.265 510.384,813.469 517.627,812.375 524.87,810.847 532.113,810.288 539.356,809.26 546.598,807.957 553.841,806.236 561.084,804.981 568.327,803.043 575.57,801.013 582.813,799.026 590.056,796.563 597.299,795.026 604.541,793.479 611.784,791.647 619.027,788.999 626.27,786.261 633.513,784.248 640.756,782.128 647.999,779.71 655.242,778.196 662.485,777.035 669.727,774.98 676.97,772.957 684.213,770.266 691.456,768.54 698.699,767.055 705.942,765.51 713.185,764.018 720.428,762.999 727.67,761.222 734.913,760.548 742.156,760.142 749.399,759.695 756.642,758.612 763.885,757.227 771.128,755.745 778.371,754.702 785.613,753.398 792.856,751.665 800.099,750.321 807.342,748.788 814.585,746.965 821.828,745.557 829.071,743.921 836.314,741.929 843.557,740.906 850.799,740.635 858.042,739.648 865.285,737.937 872.528,735.05 879.771,732.392 887.014,729.41 894.257,726.895 901.5,724.771 908.742,723.813 915.985,722.24 923.228,720.909 930.471,720.264 937.714,719.72 944.957,718.905 952.2,718.962 959.443,718.452 966.686,718.864 973.928,719.239 981.171,719.74 988.414,720.878 995.657,721.809 1002.9,722.101 1010.14,722.151 1017.39,722.547 1024.63,722.233 1031.87,721.254 1039.11,719.19 1046.36,716.454 1053.6,715.214 1060.84,714.277 1068.09,713.62 1075.33,712.915 1082.57,712.348 1089.81,710.984 1097.06,708.266 1104.3,704.973 1111.54,702.44 1118.79,701.14 1126.03,700.623 1133.27,701.406 1140.51,701.846 1147.76,702.818 1155,704.146 1162.24,705.889 1169.49,707.187 1176.73,709.563 1183.97,712.308 1191.21,715.816 1198.46,719.024 1205.7,722.355 1212.94,725.552 1220.19,728.335 1227.43,730.861 1234.67,732.699 1241.92,733.893 1249.16,733.628 1256.4,733.116 1263.64,732.296 1270.89,731.79 1278.13,731.745 1285.37,729.912 1292.62,728.036 1299.86,726.523 1307.1,725.696 1314.34,724.693 1321.59,723.638 1328.83,723.707 1336.07,723.243 1343.32,721.595 1350.56,719.264 1357.8,718.299 1365.04,719.152 1372.29,721.021 1379.53,722.992 1386.77,724.456 1394.02,724.366 1401.26,722.817 1408.5,721.404 1415.74,720.986 1422.99,720.488 1430.23,719.484 1437.47,719.188 1444.72,719.683 1451.96,721.221 1459.2,722.599 1466.44,724.146 1473.69,726.973 1480.93,729.416 1488.17,731.627 1495.42,732.227 1502.66,732.709 1509.9,733.482 1517.14,733.267 1524.39,732.624 1531.63,731.054 1538.87,728.871 1546.12,725.939 1553.36,722.017 1560.6,717.791 1567.84,713.964 1575.09,710.44 1582.33,707.856 1589.57,705.62 1596.82,703.815 1604.06,701.285 1611.3,699.186 1618.54,696.357 1625.79,693.46 1633.03,692.47 1640.27,691.242 1647.52,689.755 1654.76,688.684 1662,688.958 1669.25,688.414 1676.49,687.975 1683.73,688.917 1690.97,691.701 1698.22,695.672 1705.46,699.274 1712.7,702.53 1719.95,705.323 1727.19,708.348 1734.43,710.878 1741.67,712.694 1748.92,715.791 1756.16,718.717 1763.4,721.483 1770.65,723.628 1777.89,725.975 1785.13,727.975 1792.37,730.665 1799.62,733.262 1806.86,735.338 1814.1,736.583 1821.35,737.941 1828.59,738.843 1835.83,739.143 1843.07,737.532 1850.32,735.298 1857.56,734.686 1864.8,734.015 1872.05,732.162 1879.29,730.267 1886.53,727.537 1893.77,724.643 1901.02,719.948 1908.26,716.024 1915.5,712.655 1922.75,710.317 1929.99,709.596 1937.23,708.419 1944.47,707.992 1951.72,706.86 1958.96,705.728 1966.2,704.905 1973.45,703.179 1980.69,701.131 1987.93,698.785 1995.17,696.159 2002.42,692.662 2009.66,690.417 2016.9,688.622 2024.15,687.187 2031.39,685.34 2038.63,682.774 2045.87,681.221 2053.12,679.646 2060.36,678.067 2067.6,677.337 2074.85,676.46 2082.09,675.867 2089.33,675.29 2096.58,674.686 2103.82,674.179 2111.06,673.75 2118.3,673.547 2125.55,672.493 2132.79,671.452 2140.03,670.498 2147.28,669.71 2154.52,669.412 2161.76,668.786 2169,668.123 2176.25,667.681 2183.49,667.696 2190.73,667.223 2197.98,667.102 2205.22,667.283 2212.46,667.573 2219.7,667.887 2226.95,668.138 2234.19,668.718 2241.43,669.061 2248.68,669.418 2255.92,669.892 2263.16,670.315 2270.4,670.829 2277.65,671.511 2284.89,672.204 2292.13,672.763 \"/>\n<polyline clip-path=\"url(#clip332)\" style=\"stroke:#00a9ad; stroke-linecap:round; stroke-linejoin:round; stroke-width:4; stroke-opacity:1; fill:none\" stroke-dasharray=\"16, 10\" points=\"271.369,703.352 278.612,706.543 285.855,706.453 293.098,706.004 300.34,707.134 307.583,708.275 314.826,709.411 322.069,711.052 329.312,711.161 336.555,712.402 343.798,715.214 351.041,718.659 358.283,723.058 365.526,728.442 372.769,732.694 380.012,737.063 387.255,741.039 394.498,746.019 401.741,749.741 408.984,752.958 416.227,756.574 423.469,760.899 430.712,765.246 437.955,770.413 445.198,775.315 452.441,780.407 459.684,784.555 466.927,787.064 474.17,789.302 481.412,791.253 488.655,792.74 495.898,793.87 503.141,794.762 510.384,795.159 517.627,796.422 524.87,798.773 532.113,801.226 539.356,803.351 546.598,805.811 553.841,807.54 561.084,808.934 568.327,810.671 575.57,812.074 582.813,813.399 590.056,814.313 597.299,814.797 604.541,814.33 611.784,812.98 619.027,811.889 626.27,810.812 633.513,808.335 640.756,805.242 647.999,802.047 655.242,798.811 662.485,796.746 669.727,795.016 676.97,793.616 684.213,791.825 691.456,791.038 698.699,790.316 705.942,789.857 713.185,789.332 720.428,788.343 727.67,787.761 734.913,787.364 742.156,786.577 749.399,785.665 756.642,785.064 763.885,783.933 771.128,782.727 778.371,781.58 785.613,780.601 792.856,779.565 800.099,778.682 807.342,777.539 814.585,776.173 821.828,773.812 829.071,771.159 836.314,768.004 843.557,765.76 850.799,762.419 858.042,758.957 865.285,756.34 872.528,753.582 879.771,750.638 887.014,748.259 894.257,745.607 901.5,742.316 908.742,739.466 915.985,735.685 923.228,731.998 930.471,728.701 937.714,724.392 944.957,719.548 952.2,714.964 959.443,710.639 966.686,706.824 973.928,703.208 981.171,700.661 988.414,697.701 995.657,695.136 1002.9,691.818 1010.14,688.329 1017.39,684.928 1024.63,680.712 1031.87,675.828 1039.11,671.272 1046.36,667.541 1053.6,663.927 1060.84,662.162 1068.09,661.399 1075.33,660.125 1082.57,658.666 1089.81,656.717 1097.06,654.787 1104.3,652.812 1111.54,651.043 1118.79,649.456 1126.03,647.276 1133.27,646.405 1140.51,644.988 1147.76,642.12 1155,638.957 1162.24,635.528 1169.49,632.415 1176.73,629.831 1183.97,627.196 1191.21,624.144 1198.46,620.992 1205.7,618.312 1212.94,615.141 1220.19,611.679 1227.43,607.524 1234.67,603.219 1241.92,599.424 1249.16,597.144 1256.4,595.606 1263.64,594.848 1270.89,593.498 1278.13,592.489 1285.37,590.92 1292.62,589.76 1299.86,588.635 1307.1,585.81 1314.34,582.293 1321.59,578.627 1328.83,575.432 1336.07,574.027 1343.32,572.677 1350.56,570.429 1357.8,568.594 1365.04,567.747 1372.29,565.692 1379.53,563.839 1386.77,563.017 1394.02,562.388 1401.26,561.126 1408.5,560.338 1415.74,559.208 1422.99,557.089 1430.23,556.608 1437.47,557.254 1444.72,558.499 1451.96,558.569 1459.2,558.766 1466.44,559.577 1473.69,560.09 1480.93,560.987 1488.17,561.647 1495.42,561.817 1502.66,563.612 1509.9,568.295 1517.14,572.654 1524.39,577.043 1531.63,580.438 1538.87,583.69 1546.12,586.23 1553.36,590.386 1560.6,594.606 1567.84,598.481 1575.09,602.64 1582.33,606.582 1589.57,610.577 1596.82,614.356 1604.06,616.882 1611.3,618.712 1618.54,621.876 1625.79,627.117 1633.03,631.721 1640.27,634.753 1647.52,636.503 1654.76,637.611 1662,637.347 1669.25,637.131 1676.49,637.221 1683.73,639.36 1690.97,641.224 1698.22,643.839 1705.46,647.209 1712.7,651.703 1719.95,654.868 1727.19,658.213 1734.43,661.18 1741.67,662.012 1748.92,660.835 1756.16,659.451 1763.4,658.495 1770.65,656.983 1777.89,654.86 1785.13,653.067 1792.37,652.453 1799.62,653.684 1806.86,655.413 1814.1,658.781 1821.35,662.56 1828.59,668.207 1835.83,672.718 1843.07,676.568 1850.32,679.398 1857.56,683.005 1864.8,685.184 1872.05,687.155 1879.29,689.138 1886.53,691.168 1893.77,693.67 1901.02,695.289 1908.26,696.299 1915.5,696.449 1922.75,697.397 1929.99,698.24 1937.23,700.443 1944.47,702.821 1951.72,703.892 1958.96,704.859 1966.2,705.07 1973.45,705.329 1980.69,706.91 1987.93,709.104 1995.17,711.887 2002.42,714.34 2009.66,717.225 2016.9,721.291 2024.15,724.428 2031.39,728.07 2038.63,731.893 2045.87,734.767 2053.12,736.685 2060.36,738.334 2067.6,740.204 2074.85,741.903 2082.09,742.951 2089.33,743.748 2096.58,744.138 2103.82,744.093 2111.06,744.095 2118.3,744.566 2125.55,744.564 2132.79,744.741 2140.03,744.882 2147.28,745.344 2154.52,746.157 2161.76,746.647 2169,747.754 2176.25,748.992 2183.49,750.371 2190.73,751.92 2197.98,753.172 2205.22,754.524 2212.46,755.641 2219.7,756.848 2226.95,758.178 2234.19,759.668 2241.43,761.182 2248.68,762.472 2255.92,763.639 2263.16,764.612 2270.4,765.513 2277.65,766.227 2284.89,766.913 2292.13,767.474 \"/>\n<path clip-path=\"url(#clip330)\" d=\"M282.146 1379.86 L566.717 1379.86 L566.717 1016.98 L282.146 1016.98  Z\" fill=\"#ffffff\" fill-rule=\"evenodd\" fill-opacity=\"1\"/>\n<polyline clip-path=\"url(#clip330)\" style=\"stroke:#000000; stroke-linecap:round; stroke-linejoin:round; stroke-width:4; stroke-opacity:1; fill:none\" points=\"282.146,1379.86 566.717,1379.86 566.717,1016.98 282.146,1016.98 282.146,1379.86 \"/>\n<polyline clip-path=\"url(#clip330)\" style=\"stroke:#009af9; stroke-linecap:round; stroke-linejoin:round; stroke-width:4; stroke-opacity:1; fill:none\" points=\"305.946,1068.82 448.747,1068.82 \"/>\n<path clip-path=\"url(#clip330)\" d=\"M496.575 1072.07 L496.575 1074.15 L476.992 1074.15 Q477.269 1078.55 479.63 1080.86 Q482.015 1083.16 486.251 1083.16 Q488.704 1083.16 490.996 1082.55 Q493.311 1081.95 495.579 1080.75 L495.579 1084.78 Q493.288 1085.75 490.88 1086.26 Q488.473 1086.77 485.996 1086.77 Q479.792 1086.77 476.158 1083.16 Q472.547 1079.55 472.547 1073.39 Q472.547 1067.02 475.973 1063.3 Q479.422 1059.55 485.255 1059.55 Q490.487 1059.55 493.519 1062.93 Q496.575 1066.28 496.575 1072.07 M492.316 1070.82 Q492.269 1067.32 490.348 1065.24 Q488.45 1063.16 485.302 1063.16 Q481.737 1063.16 479.584 1065.17 Q477.455 1067.18 477.13 1070.84 L492.316 1070.82 Z\" fill=\"#000000\" fill-rule=\"evenodd\" fill-opacity=\"1\" /><path clip-path=\"url(#clip330)\" d=\"M524.283 1060.17 L514.908 1072.79 L524.769 1086.1 L519.746 1086.1 L512.2 1075.91 L504.653 1086.1 L499.63 1086.1 L509.7 1072.53 L500.487 1060.17 L505.51 1060.17 L512.385 1069.41 L519.26 1060.17 L524.283 1060.17 Z\" fill=\"#000000\" fill-rule=\"evenodd\" fill-opacity=\"1\" /><path clip-path=\"url(#clip330)\" d=\"M529.931 1083.55 L534.653 1083.55 L534.653 1069.41 L529.491 1070.36 L529.491 1067.67 L534.815 1066.77 L537.987 1066.77 L537.987 1083.55 L542.732 1083.55 L542.732 1086.1 L529.931 1086.1 L529.931 1083.55 Z\" fill=\"#000000\" fill-rule=\"evenodd\" fill-opacity=\"1\" /><polyline clip-path=\"url(#clip330)\" style=\"stroke:#e26f46; stroke-linecap:round; stroke-linejoin:round; stroke-width:4; stroke-opacity:1; fill:none\" points=\"305.946,1120.66 448.747,1120.66 \"/>\n<path clip-path=\"url(#clip330)\" d=\"M496.575 1123.91 L496.575 1125.99 L476.992 1125.99 Q477.269 1130.39 479.63 1132.7 Q482.015 1135 486.251 1135 Q488.704 1135 490.996 1134.39 Q493.311 1133.79 495.579 1132.59 L495.579 1136.62 Q493.288 1137.59 490.88 1138.1 Q488.473 1138.61 485.996 1138.61 Q479.792 1138.61 476.158 1135 Q472.547 1131.39 472.547 1125.23 Q472.547 1118.86 475.973 1115.14 Q479.422 1111.39 485.255 1111.39 Q490.487 1111.39 493.519 1114.77 Q496.575 1118.12 496.575 1123.91 M492.316 1122.66 Q492.269 1119.16 490.348 1117.08 Q488.45 1115 485.302 1115 Q481.737 1115 479.584 1117.01 Q477.455 1119.02 477.13 1122.68 L492.316 1122.66 Z\" fill=\"#000000\" fill-rule=\"evenodd\" fill-opacity=\"1\" /><path clip-path=\"url(#clip330)\" d=\"M524.283 1112.01 L514.908 1124.63 L524.769 1137.94 L519.746 1137.94 L512.2 1127.75 L504.653 1137.94 L499.63 1137.94 L509.7 1124.37 L500.487 1112.01 L505.51 1112.01 L512.385 1121.25 L519.26 1112.01 L524.283 1112.01 Z\" fill=\"#000000\" fill-rule=\"evenodd\" fill-opacity=\"1\" /><path clip-path=\"url(#clip330)\" d=\"M532.524 1135.3 L542.338 1135.3 L542.338 1137.94 L528.496 1137.94 L528.496 1135.39 Q529.283 1134.67 530.741 1133.38 Q538.704 1126.32 538.704 1124.14 Q538.704 1122.61 537.501 1121.69 Q536.297 1120.74 534.329 1120.74 Q533.126 1120.74 531.714 1121.15 Q530.301 1121.55 528.635 1122.36 L528.635 1119.51 Q530.417 1118.86 531.945 1118.54 Q533.496 1118.21 534.815 1118.21 Q538.172 1118.21 540.186 1119.74 Q542.2 1121.27 542.2 1123.77 Q542.2 1126.99 534.538 1133.56 Q533.241 1134.67 532.524 1135.3 Z\" fill=\"#000000\" fill-rule=\"evenodd\" fill-opacity=\"1\" /><polyline clip-path=\"url(#clip330)\" style=\"stroke:#3da44d; stroke-linecap:round; stroke-linejoin:round; stroke-width:4; stroke-opacity:1; fill:none\" points=\"305.946,1172.5 448.747,1172.5 \"/>\n<path clip-path=\"url(#clip330)\" d=\"M496.575 1175.75 L496.575 1177.83 L476.992 1177.83 Q477.269 1182.23 479.63 1184.54 Q482.015 1186.84 486.251 1186.84 Q488.704 1186.84 490.996 1186.23 Q493.311 1185.63 495.579 1184.43 L495.579 1188.46 Q493.288 1189.43 490.88 1189.94 Q488.473 1190.45 485.996 1190.45 Q479.792 1190.45 476.158 1186.84 Q472.547 1183.23 472.547 1177.07 Q472.547 1170.7 475.973 1166.98 Q479.422 1163.23 485.255 1163.23 Q490.487 1163.23 493.519 1166.61 Q496.575 1169.96 496.575 1175.75 M492.316 1174.5 Q492.269 1171 490.348 1168.92 Q488.45 1166.84 485.302 1166.84 Q481.737 1166.84 479.584 1168.85 Q477.455 1170.86 477.13 1174.52 L492.316 1174.5 Z\" fill=\"#000000\" fill-rule=\"evenodd\" fill-opacity=\"1\" /><path clip-path=\"url(#clip330)\" d=\"M524.283 1163.85 L514.908 1176.47 L524.769 1189.78 L519.746 1189.78 L512.2 1179.59 L504.653 1189.78 L499.63 1189.78 L509.7 1176.21 L500.487 1163.85 L505.51 1163.85 L512.385 1173.09 L519.26 1163.85 L524.283 1163.85 Z\" fill=\"#000000\" fill-rule=\"evenodd\" fill-opacity=\"1\" /><path clip-path=\"url(#clip330)\" d=\"M538.45 1179.31 Q540.579 1179.73 541.737 1181 Q542.917 1182.25 542.917 1184.15 Q542.917 1187.02 540.718 1188.57 Q538.519 1190.12 534.422 1190.12 Q533.102 1190.12 531.644 1189.87 Q530.209 1189.64 528.589 1189.17 L528.589 1186.37 Q529.792 1187 531.158 1187.3 Q532.547 1187.6 534.098 1187.6 Q536.621 1187.6 538.01 1186.7 Q539.399 1185.77 539.399 1184.15 Q539.399 1182.44 538.102 1181.56 Q536.829 1180.68 534.329 1180.68 L532.339 1180.68 L532.339 1178.18 L534.514 1178.18 Q536.69 1178.18 537.801 1177.46 Q538.936 1176.72 538.936 1175.33 Q538.936 1173.99 537.778 1173.29 Q536.621 1172.58 534.422 1172.58 Q533.496 1172.58 532.315 1172.79 Q531.135 1172.99 529.26 1173.53 L529.26 1170.86 Q530.95 1170.47 532.431 1170.26 Q533.913 1170.05 535.186 1170.05 Q538.519 1170.05 540.463 1171.42 Q542.431 1172.79 542.431 1175.08 Q542.431 1176.67 541.389 1177.79 Q540.348 1178.9 538.45 1179.31 Z\" fill=\"#000000\" fill-rule=\"evenodd\" fill-opacity=\"1\" /><polyline clip-path=\"url(#clip330)\" style=\"stroke:#c271d2; stroke-linecap:round; stroke-linejoin:round; stroke-width:4; stroke-opacity:1; fill:none\" stroke-dasharray=\"16, 10\" points=\"305.946,1224.34 448.747,1224.34 \"/>\n<path clip-path=\"url(#clip330)\" d=\"M496.575 1227.59 L496.575 1229.67 L476.992 1229.67 Q477.269 1234.07 479.63 1236.38 Q482.015 1238.68 486.251 1238.68 Q488.704 1238.68 490.996 1238.07 Q493.311 1237.47 495.579 1236.27 L495.579 1240.3 Q493.288 1241.27 490.88 1241.78 Q488.473 1242.29 485.996 1242.29 Q479.792 1242.29 476.158 1238.68 Q472.547 1235.07 472.547 1228.91 Q472.547 1222.54 475.973 1218.82 Q479.422 1215.07 485.255 1215.07 Q490.487 1215.07 493.519 1218.45 Q496.575 1221.8 496.575 1227.59 M492.316 1226.34 Q492.269 1222.84 490.348 1220.76 Q488.45 1218.68 485.302 1218.68 Q481.737 1218.68 479.584 1220.69 Q477.455 1222.7 477.13 1226.36 L492.316 1226.34 Z\" fill=\"#000000\" fill-rule=\"evenodd\" fill-opacity=\"1\" /><path clip-path=\"url(#clip330)\" d=\"M524.283 1215.69 L514.908 1228.31 L524.769 1241.62 L519.746 1241.62 L512.2 1231.43 L504.653 1241.62 L499.63 1241.62 L509.7 1228.05 L500.487 1215.69 L505.51 1215.69 L512.385 1224.93 L519.26 1215.69 L524.283 1215.69 Z\" fill=\"#000000\" fill-rule=\"evenodd\" fill-opacity=\"1\" /><path clip-path=\"url(#clip330)\" d=\"M512.292 1205.6 L516.552 1205.6 L516.552 1210.99 L512.292 1210.99 L512.292 1205.6 M514.468 1215.07 L514.468 1215.07 Z\" fill=\"#000000\" fill-rule=\"evenodd\" fill-opacity=\"1\" /><path clip-path=\"url(#clip330)\" d=\"M529.931 1239.07 L534.653 1239.07 L534.653 1224.93 L529.491 1225.88 L529.491 1223.19 L534.815 1222.29 L537.987 1222.29 L537.987 1239.07 L542.732 1239.07 L542.732 1241.62 L529.931 1241.62 L529.931 1239.07 Z\" fill=\"#000000\" fill-rule=\"evenodd\" fill-opacity=\"1\" /><polyline clip-path=\"url(#clip330)\" style=\"stroke:#ac8d18; stroke-linecap:round; stroke-linejoin:round; stroke-width:4; stroke-opacity:1; fill:none\" stroke-dasharray=\"16, 10\" points=\"305.946,1276.18 448.747,1276.18 \"/>\n<path clip-path=\"url(#clip330)\" d=\"M496.575 1279.43 L496.575 1281.51 L476.992 1281.51 Q477.269 1285.91 479.63 1288.22 Q482.015 1290.52 486.251 1290.52 Q488.704 1290.52 490.996 1289.91 Q493.311 1289.31 495.579 1288.11 L495.579 1292.14 Q493.288 1293.11 490.88 1293.62 Q488.473 1294.13 485.996 1294.13 Q479.792 1294.13 476.158 1290.52 Q472.547 1286.91 472.547 1280.75 Q472.547 1274.38 475.973 1270.66 Q479.422 1266.91 485.255 1266.91 Q490.487 1266.91 493.519 1270.29 Q496.575 1273.64 496.575 1279.43 M492.316 1278.18 Q492.269 1274.68 490.348 1272.6 Q488.45 1270.52 485.302 1270.52 Q481.737 1270.52 479.584 1272.53 Q477.455 1274.54 477.13 1278.2 L492.316 1278.18 Z\" fill=\"#000000\" fill-rule=\"evenodd\" fill-opacity=\"1\" /><path clip-path=\"url(#clip330)\" d=\"M524.283 1267.53 L514.908 1280.15 L524.769 1293.46 L519.746 1293.46 L512.2 1283.27 L504.653 1293.46 L499.63 1293.46 L509.7 1279.89 L500.487 1267.53 L505.51 1267.53 L512.385 1276.77 L519.26 1267.53 L524.283 1267.53 Z\" fill=\"#000000\" fill-rule=\"evenodd\" fill-opacity=\"1\" /><path clip-path=\"url(#clip330)\" d=\"M512.292 1257.44 L516.552 1257.44 L516.552 1262.83 L512.292 1262.83 L512.292 1257.44 M514.468 1266.91 L514.468 1266.91 Z\" fill=\"#000000\" fill-rule=\"evenodd\" fill-opacity=\"1\" /><path clip-path=\"url(#clip330)\" d=\"M532.524 1290.82 L542.338 1290.82 L542.338 1293.46 L528.496 1293.46 L528.496 1290.91 Q529.283 1290.19 530.741 1288.9 Q538.704 1281.84 538.704 1279.66 Q538.704 1278.13 537.501 1277.21 Q536.297 1276.26 534.329 1276.26 Q533.126 1276.26 531.714 1276.67 Q530.301 1277.07 528.635 1277.88 L528.635 1275.03 Q530.417 1274.38 531.945 1274.06 Q533.496 1273.73 534.815 1273.73 Q538.172 1273.73 540.186 1275.26 Q542.2 1276.79 542.2 1279.29 Q542.2 1282.51 534.538 1289.08 Q533.241 1290.19 532.524 1290.82 Z\" fill=\"#000000\" fill-rule=\"evenodd\" fill-opacity=\"1\" /><polyline clip-path=\"url(#clip330)\" style=\"stroke:#00a9ad; stroke-linecap:round; stroke-linejoin:round; stroke-width:4; stroke-opacity:1; fill:none\" stroke-dasharray=\"16, 10\" points=\"305.946,1328.02 448.747,1328.02 \"/>\n<path clip-path=\"url(#clip330)\" d=\"M496.575 1331.27 L496.575 1333.35 L476.992 1333.35 Q477.269 1337.75 479.63 1340.06 Q482.015 1342.36 486.251 1342.36 Q488.704 1342.36 490.996 1341.75 Q493.311 1341.15 495.579 1339.95 L495.579 1343.98 Q493.288 1344.95 490.88 1345.46 Q488.473 1345.97 485.996 1345.97 Q479.792 1345.97 476.158 1342.36 Q472.547 1338.75 472.547 1332.59 Q472.547 1326.22 475.973 1322.5 Q479.422 1318.75 485.255 1318.75 Q490.487 1318.75 493.519 1322.13 Q496.575 1325.48 496.575 1331.27 M492.316 1330.02 Q492.269 1326.52 490.348 1324.44 Q488.45 1322.36 485.302 1322.36 Q481.737 1322.36 479.584 1324.37 Q477.455 1326.38 477.13 1330.04 L492.316 1330.02 Z\" fill=\"#000000\" fill-rule=\"evenodd\" fill-opacity=\"1\" /><path clip-path=\"url(#clip330)\" d=\"M524.283 1319.37 L514.908 1331.99 L524.769 1345.3 L519.746 1345.3 L512.2 1335.11 L504.653 1345.3 L499.63 1345.3 L509.7 1331.73 L500.487 1319.37 L505.51 1319.37 L512.385 1328.61 L519.26 1319.37 L524.283 1319.37 Z\" fill=\"#000000\" fill-rule=\"evenodd\" fill-opacity=\"1\" /><path clip-path=\"url(#clip330)\" d=\"M512.292 1309.28 L516.552 1309.28 L516.552 1314.67 L512.292 1314.67 L512.292 1309.28 M514.468 1318.75 L514.468 1318.75 Z\" fill=\"#000000\" fill-rule=\"evenodd\" fill-opacity=\"1\" /><path clip-path=\"url(#clip330)\" d=\"M538.45 1334.83 Q540.579 1335.25 541.737 1336.52 Q542.917 1337.77 542.917 1339.67 Q542.917 1342.54 540.718 1344.09 Q538.519 1345.64 534.422 1345.64 Q533.102 1345.64 531.644 1345.39 Q530.209 1345.16 528.589 1344.69 L528.589 1341.89 Q529.792 1342.52 531.158 1342.82 Q532.547 1343.12 534.098 1343.12 Q536.621 1343.12 538.01 1342.22 Q539.399 1341.29 539.399 1339.67 Q539.399 1337.96 538.102 1337.08 Q536.829 1336.2 534.329 1336.2 L532.339 1336.2 L532.339 1333.7 L534.514 1333.7 Q536.69 1333.7 537.801 1332.98 Q538.936 1332.24 538.936 1330.85 Q538.936 1329.51 537.778 1328.81 Q536.621 1328.1 534.422 1328.1 Q533.496 1328.1 532.315 1328.31 Q531.135 1328.51 529.26 1329.05 L529.26 1326.38 Q530.95 1325.99 532.431 1325.78 Q533.913 1325.57 535.186 1325.57 Q538.519 1325.57 540.463 1326.94 Q542.431 1328.31 542.431 1330.6 Q542.431 1332.19 541.389 1333.31 Q540.348 1334.42 538.45 1334.83 Z\" fill=\"#000000\" fill-rule=\"evenodd\" fill-opacity=\"1\" /></svg>\n"
     },
     "metadata": {},
     "output_type": "display_data"
    },
    {
     "data": {
      "image/svg+xml": "<?xml version=\"1.0\" encoding=\"utf-8\"?>\n<svg xmlns=\"http://www.w3.org/2000/svg\" xmlns:xlink=\"http://www.w3.org/1999/xlink\" width=\"600\" height=\"400\" viewBox=\"0 0 2400 1600\">\n<defs>\n  <clipPath id=\"clip370\">\n    <rect x=\"0\" y=\"0\" width=\"2400\" height=\"1600\"/>\n  </clipPath>\n</defs>\n<path clip-path=\"url(#clip370)\" d=\"M0 1600 L2400 1600 L2400 0 L0 0  Z\" fill=\"#ffffff\" fill-rule=\"evenodd\" fill-opacity=\"1\"/>\n<defs>\n  <clipPath id=\"clip371\">\n    <rect x=\"480\" y=\"0\" width=\"1681\" height=\"1600\"/>\n  </clipPath>\n</defs>\n<path clip-path=\"url(#clip370)\" d=\"M232.389 1423.18 L2352.76 1423.18 L2352.76 123.472 L232.389 123.472  Z\" fill=\"#ffffff\" fill-rule=\"evenodd\" fill-opacity=\"1\"/>\n<defs>\n  <clipPath id=\"clip372\">\n    <rect x=\"232\" y=\"123\" width=\"2121\" height=\"1301\"/>\n  </clipPath>\n</defs>\n<polyline clip-path=\"url(#clip372)\" style=\"stroke:#000000; stroke-linecap:round; stroke-linejoin:round; stroke-width:2; stroke-opacity:0.1; fill:none\" points=\"292.4,1423.18 292.4,123.472 \"/>\n<polyline clip-path=\"url(#clip372)\" style=\"stroke:#000000; stroke-linecap:round; stroke-linejoin:round; stroke-width:2; stroke-opacity:0.1; fill:none\" points=\"653.473,1423.18 653.473,123.472 \"/>\n<polyline clip-path=\"url(#clip372)\" style=\"stroke:#000000; stroke-linecap:round; stroke-linejoin:round; stroke-width:2; stroke-opacity:0.1; fill:none\" points=\"1014.55,1423.18 1014.55,123.472 \"/>\n<polyline clip-path=\"url(#clip372)\" style=\"stroke:#000000; stroke-linecap:round; stroke-linejoin:round; stroke-width:2; stroke-opacity:0.1; fill:none\" points=\"1375.62,1423.18 1375.62,123.472 \"/>\n<polyline clip-path=\"url(#clip372)\" style=\"stroke:#000000; stroke-linecap:round; stroke-linejoin:round; stroke-width:2; stroke-opacity:0.1; fill:none\" points=\"1736.69,1423.18 1736.69,123.472 \"/>\n<polyline clip-path=\"url(#clip372)\" style=\"stroke:#000000; stroke-linecap:round; stroke-linejoin:round; stroke-width:2; stroke-opacity:0.1; fill:none\" points=\"2097.77,1423.18 2097.77,123.472 \"/>\n<polyline clip-path=\"url(#clip370)\" style=\"stroke:#000000; stroke-linecap:round; stroke-linejoin:round; stroke-width:4; stroke-opacity:1; fill:none\" points=\"232.389,1423.18 2352.76,1423.18 \"/>\n<polyline clip-path=\"url(#clip370)\" style=\"stroke:#000000; stroke-linecap:round; stroke-linejoin:round; stroke-width:4; stroke-opacity:1; fill:none\" points=\"292.4,1423.18 292.4,1404.28 \"/>\n<polyline clip-path=\"url(#clip370)\" style=\"stroke:#000000; stroke-linecap:round; stroke-linejoin:round; stroke-width:4; stroke-opacity:1; fill:none\" points=\"653.473,1423.18 653.473,1404.28 \"/>\n<polyline clip-path=\"url(#clip370)\" style=\"stroke:#000000; stroke-linecap:round; stroke-linejoin:round; stroke-width:4; stroke-opacity:1; fill:none\" points=\"1014.55,1423.18 1014.55,1404.28 \"/>\n<polyline clip-path=\"url(#clip370)\" style=\"stroke:#000000; stroke-linecap:round; stroke-linejoin:round; stroke-width:4; stroke-opacity:1; fill:none\" points=\"1375.62,1423.18 1375.62,1404.28 \"/>\n<polyline clip-path=\"url(#clip370)\" style=\"stroke:#000000; stroke-linecap:round; stroke-linejoin:round; stroke-width:4; stroke-opacity:1; fill:none\" points=\"1736.69,1423.18 1736.69,1404.28 \"/>\n<polyline clip-path=\"url(#clip370)\" style=\"stroke:#000000; stroke-linecap:round; stroke-linejoin:round; stroke-width:4; stroke-opacity:1; fill:none\" points=\"2097.77,1423.18 2097.77,1404.28 \"/>\n<path clip-path=\"url(#clip370)\" d=\"M269.784 1454.1 Q266.173 1454.1 264.344 1457.66 Q262.539 1461.2 262.539 1468.33 Q262.539 1475.44 264.344 1479.01 Q266.173 1482.55 269.784 1482.55 Q273.418 1482.55 275.224 1479.01 Q277.053 1475.44 277.053 1468.33 Q277.053 1461.2 275.224 1457.66 Q273.418 1454.1 269.784 1454.1 M269.784 1450.39 Q275.594 1450.39 278.65 1455 Q281.728 1459.58 281.728 1468.33 Q281.728 1477.06 278.65 1481.67 Q275.594 1486.25 269.784 1486.25 Q263.974 1486.25 260.895 1481.67 Q257.84 1477.06 257.84 1468.33 Q257.84 1459.58 260.895 1455 Q263.974 1450.39 269.784 1450.39 Z\" fill=\"#000000\" fill-rule=\"evenodd\" fill-opacity=\"1\" /><path clip-path=\"url(#clip370)\" d=\"M289.946 1479.7 L294.83 1479.7 L294.83 1485.58 L289.946 1485.58 L289.946 1479.7 Z\" fill=\"#000000\" fill-rule=\"evenodd\" fill-opacity=\"1\" /><path clip-path=\"url(#clip370)\" d=\"M315.015 1454.1 Q311.404 1454.1 309.576 1457.66 Q307.77 1461.2 307.77 1468.33 Q307.77 1475.44 309.576 1479.01 Q311.404 1482.55 315.015 1482.55 Q318.65 1482.55 320.455 1479.01 Q322.284 1475.44 322.284 1468.33 Q322.284 1461.2 320.455 1457.66 Q318.65 1454.1 315.015 1454.1 M315.015 1450.39 Q320.825 1450.39 323.881 1455 Q326.96 1459.58 326.96 1468.33 Q326.96 1477.06 323.881 1481.67 Q320.825 1486.25 315.015 1486.25 Q309.205 1486.25 306.126 1481.67 Q303.071 1477.06 303.071 1468.33 Q303.071 1459.58 306.126 1455 Q309.205 1450.39 315.015 1450.39 Z\" fill=\"#000000\" fill-rule=\"evenodd\" fill-opacity=\"1\" /><path clip-path=\"url(#clip370)\" d=\"M625.209 1481.64 L641.529 1481.64 L641.529 1485.58 L619.584 1485.58 L619.584 1481.64 Q622.246 1478.89 626.83 1474.26 Q631.436 1469.61 632.617 1468.27 Q634.862 1465.74 635.742 1464.01 Q636.644 1462.25 636.644 1460.56 Q636.644 1457.8 634.7 1456.07 Q632.779 1454.33 629.677 1454.33 Q627.478 1454.33 625.024 1455.09 Q622.594 1455.86 619.816 1457.41 L619.816 1452.69 Q622.64 1451.55 625.093 1450.97 Q627.547 1450.39 629.584 1450.39 Q634.955 1450.39 638.149 1453.08 Q641.343 1455.77 641.343 1460.26 Q641.343 1462.39 640.533 1464.31 Q639.746 1466.2 637.64 1468.8 Q637.061 1469.47 633.959 1472.69 Q630.857 1475.88 625.209 1481.64 Z\" fill=\"#000000\" fill-rule=\"evenodd\" fill-opacity=\"1\" /><path clip-path=\"url(#clip370)\" d=\"M651.343 1479.7 L656.228 1479.7 L656.228 1485.58 L651.343 1485.58 L651.343 1479.7 Z\" fill=\"#000000\" fill-rule=\"evenodd\" fill-opacity=\"1\" /><path clip-path=\"url(#clip370)\" d=\"M666.459 1451.02 L684.815 1451.02 L684.815 1454.96 L670.741 1454.96 L670.741 1463.43 Q671.76 1463.08 672.778 1462.92 Q673.797 1462.73 674.815 1462.73 Q680.602 1462.73 683.982 1465.9 Q687.362 1469.08 687.362 1474.49 Q687.362 1480.07 683.889 1483.17 Q680.417 1486.25 674.098 1486.25 Q671.922 1486.25 669.653 1485.88 Q667.408 1485.51 665.001 1484.77 L665.001 1480.07 Q667.084 1481.2 669.306 1481.76 Q671.528 1482.32 674.005 1482.32 Q678.01 1482.32 680.348 1480.21 Q682.686 1478.1 682.686 1474.49 Q682.686 1470.88 680.348 1468.77 Q678.01 1466.67 674.005 1466.67 Q672.13 1466.67 670.255 1467.08 Q668.403 1467.5 666.459 1468.38 L666.459 1451.02 Z\" fill=\"#000000\" fill-rule=\"evenodd\" fill-opacity=\"1\" /><path clip-path=\"url(#clip370)\" d=\"M981.711 1451.02 L1000.07 1451.02 L1000.07 1454.96 L985.993 1454.96 L985.993 1463.43 Q987.012 1463.08 988.03 1462.92 Q989.049 1462.73 990.067 1462.73 Q995.854 1462.73 999.234 1465.9 Q1002.61 1469.08 1002.61 1474.49 Q1002.61 1480.07 999.141 1483.17 Q995.669 1486.25 989.35 1486.25 Q987.174 1486.25 984.905 1485.88 Q982.66 1485.51 980.252 1484.77 L980.252 1480.07 Q982.336 1481.2 984.558 1481.76 Q986.78 1482.32 989.257 1482.32 Q993.262 1482.32 995.6 1480.21 Q997.938 1478.1 997.938 1474.49 Q997.938 1470.88 995.6 1468.77 Q993.262 1466.67 989.257 1466.67 Q987.382 1466.67 985.507 1467.08 Q983.655 1467.5 981.711 1468.38 L981.711 1451.02 Z\" fill=\"#000000\" fill-rule=\"evenodd\" fill-opacity=\"1\" /><path clip-path=\"url(#clip370)\" d=\"M1011.83 1479.7 L1016.71 1479.7 L1016.71 1485.58 L1011.83 1485.58 L1011.83 1479.7 Z\" fill=\"#000000\" fill-rule=\"evenodd\" fill-opacity=\"1\" /><path clip-path=\"url(#clip370)\" d=\"M1036.9 1454.1 Q1033.28 1454.1 1031.46 1457.66 Q1029.65 1461.2 1029.65 1468.33 Q1029.65 1475.44 1031.46 1479.01 Q1033.28 1482.55 1036.9 1482.55 Q1040.53 1482.55 1042.34 1479.01 Q1044.16 1475.44 1044.16 1468.33 Q1044.16 1461.2 1042.34 1457.66 Q1040.53 1454.1 1036.9 1454.1 M1036.9 1450.39 Q1042.71 1450.39 1045.76 1455 Q1048.84 1459.58 1048.84 1468.33 Q1048.84 1477.06 1045.76 1481.67 Q1042.71 1486.25 1036.9 1486.25 Q1031.09 1486.25 1028.01 1481.67 Q1024.95 1477.06 1024.95 1468.33 Q1024.95 1459.58 1028.01 1455 Q1031.09 1450.39 1036.9 1450.39 Z\" fill=\"#000000\" fill-rule=\"evenodd\" fill-opacity=\"1\" /><path clip-path=\"url(#clip370)\" d=\"M1341.94 1451.02 L1364.16 1451.02 L1364.16 1453.01 L1351.61 1485.58 L1346.73 1485.58 L1358.54 1454.96 L1341.94 1454.96 L1341.94 1451.02 Z\" fill=\"#000000\" fill-rule=\"evenodd\" fill-opacity=\"1\" /><path clip-path=\"url(#clip370)\" d=\"M1373.28 1479.7 L1378.17 1479.7 L1378.17 1485.58 L1373.28 1485.58 L1373.28 1479.7 Z\" fill=\"#000000\" fill-rule=\"evenodd\" fill-opacity=\"1\" /><path clip-path=\"url(#clip370)\" d=\"M1388.4 1451.02 L1406.75 1451.02 L1406.75 1454.96 L1392.68 1454.96 L1392.68 1463.43 Q1393.7 1463.08 1394.72 1462.92 Q1395.74 1462.73 1396.75 1462.73 Q1402.54 1462.73 1405.92 1465.9 Q1409.3 1469.08 1409.3 1474.49 Q1409.3 1480.07 1405.83 1483.17 Q1402.36 1486.25 1396.04 1486.25 Q1393.86 1486.25 1391.59 1485.88 Q1389.35 1485.51 1386.94 1484.77 L1386.94 1480.07 Q1389.02 1481.2 1391.24 1481.76 Q1393.47 1482.32 1395.94 1482.32 Q1399.95 1482.32 1402.29 1480.21 Q1404.62 1478.1 1404.62 1474.49 Q1404.62 1470.88 1402.29 1468.77 Q1399.95 1466.67 1395.94 1466.67 Q1394.07 1466.67 1392.19 1467.08 Q1390.34 1467.5 1388.4 1468.38 L1388.4 1451.02 Z\" fill=\"#000000\" fill-rule=\"evenodd\" fill-opacity=\"1\" /><path clip-path=\"url(#clip370)\" d=\"M1688.76 1481.64 L1696.4 1481.64 L1696.4 1455.28 L1688.09 1456.95 L1688.09 1452.69 L1696.36 1451.02 L1701.03 1451.02 L1701.03 1481.64 L1708.67 1481.64 L1708.67 1485.58 L1688.76 1485.58 L1688.76 1481.64 Z\" fill=\"#000000\" fill-rule=\"evenodd\" fill-opacity=\"1\" /><path clip-path=\"url(#clip370)\" d=\"M1728.12 1454.1 Q1724.51 1454.1 1722.68 1457.66 Q1720.87 1461.2 1720.87 1468.33 Q1720.87 1475.44 1722.68 1479.01 Q1724.51 1482.55 1728.12 1482.55 Q1731.75 1482.55 1733.56 1479.01 Q1735.38 1475.44 1735.38 1468.33 Q1735.38 1461.2 1733.56 1457.66 Q1731.75 1454.1 1728.12 1454.1 M1728.12 1450.39 Q1733.93 1450.39 1736.98 1455 Q1740.06 1459.58 1740.06 1468.33 Q1740.06 1477.06 1736.98 1481.67 Q1733.93 1486.25 1728.12 1486.25 Q1722.31 1486.25 1719.23 1481.67 Q1716.17 1477.06 1716.17 1468.33 Q1716.17 1459.58 1719.23 1455 Q1722.31 1450.39 1728.12 1450.39 Z\" fill=\"#000000\" fill-rule=\"evenodd\" fill-opacity=\"1\" /><path clip-path=\"url(#clip370)\" d=\"M1748.28 1479.7 L1753.16 1479.7 L1753.16 1485.58 L1748.28 1485.58 L1748.28 1479.7 Z\" fill=\"#000000\" fill-rule=\"evenodd\" fill-opacity=\"1\" /><path clip-path=\"url(#clip370)\" d=\"M1773.35 1454.1 Q1769.74 1454.1 1767.91 1457.66 Q1766.1 1461.2 1766.1 1468.33 Q1766.1 1475.44 1767.91 1479.01 Q1769.74 1482.55 1773.35 1482.55 Q1776.98 1482.55 1778.79 1479.01 Q1780.62 1475.44 1780.62 1468.33 Q1780.62 1461.2 1778.79 1457.66 Q1776.98 1454.1 1773.35 1454.1 M1773.35 1450.39 Q1779.16 1450.39 1782.21 1455 Q1785.29 1459.58 1785.29 1468.33 Q1785.29 1477.06 1782.21 1481.67 Q1779.16 1486.25 1773.35 1486.25 Q1767.54 1486.25 1764.46 1481.67 Q1761.4 1477.06 1761.4 1468.33 Q1761.4 1459.58 1764.46 1455 Q1767.54 1450.39 1773.35 1450.39 Z\" fill=\"#000000\" fill-rule=\"evenodd\" fill-opacity=\"1\" /><path clip-path=\"url(#clip370)\" d=\"M2050.34 1481.64 L2057.97 1481.64 L2057.97 1455.28 L2049.66 1456.95 L2049.66 1452.69 L2057.93 1451.02 L2062.6 1451.02 L2062.6 1481.64 L2070.24 1481.64 L2070.24 1485.58 L2050.34 1485.58 L2050.34 1481.64 Z\" fill=\"#000000\" fill-rule=\"evenodd\" fill-opacity=\"1\" /><path clip-path=\"url(#clip370)\" d=\"M2083.72 1481.64 L2100.03 1481.64 L2100.03 1485.58 L2078.09 1485.58 L2078.09 1481.64 Q2080.75 1478.89 2085.34 1474.26 Q2089.94 1469.61 2091.12 1468.27 Q2093.37 1465.74 2094.25 1464.01 Q2095.15 1462.25 2095.15 1460.56 Q2095.15 1457.8 2093.21 1456.07 Q2091.28 1454.33 2088.18 1454.33 Q2085.98 1454.33 2083.53 1455.09 Q2081.1 1455.86 2078.32 1457.41 L2078.32 1452.69 Q2081.15 1451.55 2083.6 1450.97 Q2086.05 1450.39 2088.09 1450.39 Q2093.46 1450.39 2096.65 1453.08 Q2099.85 1455.77 2099.85 1460.26 Q2099.85 1462.39 2099.04 1464.31 Q2098.25 1466.2 2096.15 1468.8 Q2095.57 1469.47 2092.47 1472.69 Q2089.36 1475.88 2083.72 1481.64 Z\" fill=\"#000000\" fill-rule=\"evenodd\" fill-opacity=\"1\" /><path clip-path=\"url(#clip370)\" d=\"M2109.85 1479.7 L2114.73 1479.7 L2114.73 1485.58 L2109.85 1485.58 L2109.85 1479.7 Z\" fill=\"#000000\" fill-rule=\"evenodd\" fill-opacity=\"1\" /><path clip-path=\"url(#clip370)\" d=\"M2124.96 1451.02 L2143.32 1451.02 L2143.32 1454.96 L2129.25 1454.96 L2129.25 1463.43 Q2130.27 1463.08 2131.28 1462.92 Q2132.3 1462.73 2133.32 1462.73 Q2139.11 1462.73 2142.49 1465.9 Q2145.87 1469.08 2145.87 1474.49 Q2145.87 1480.07 2142.4 1483.17 Q2138.92 1486.25 2132.6 1486.25 Q2130.43 1486.25 2128.16 1485.88 Q2125.91 1485.51 2123.51 1484.77 L2123.51 1480.07 Q2125.59 1481.2 2127.81 1481.76 Q2130.03 1482.32 2132.51 1482.32 Q2136.52 1482.32 2138.85 1480.21 Q2141.19 1478.1 2141.19 1474.49 Q2141.19 1470.88 2138.85 1468.77 Q2136.52 1466.67 2132.51 1466.67 Q2130.64 1466.67 2128.76 1467.08 Q2126.91 1467.5 2124.96 1468.38 L2124.96 1451.02 Z\" fill=\"#000000\" fill-rule=\"evenodd\" fill-opacity=\"1\" /><path clip-path=\"url(#clip370)\" d=\"M1180.03 1522.27 L1180.03 1532.4 L1192.09 1532.4 L1192.09 1536.95 L1180.03 1536.95 L1180.03 1556.3 Q1180.03 1560.66 1181.2 1561.9 Q1182.41 1563.14 1186.07 1563.14 L1192.09 1563.14 L1192.09 1568.04 L1186.07 1568.04 Q1179.29 1568.04 1176.72 1565.53 Q1174.14 1562.98 1174.14 1556.3 L1174.14 1536.95 L1169.84 1536.95 L1169.84 1532.4 L1174.14 1532.4 L1174.14 1522.27 L1180.03 1522.27 Z\" fill=\"#000000\" fill-rule=\"evenodd\" fill-opacity=\"1\" /><path clip-path=\"url(#clip370)\" d=\"M1199.79 1532.4 L1205.65 1532.4 L1205.65 1568.04 L1199.79 1568.04 L1199.79 1532.4 M1199.79 1518.52 L1205.65 1518.52 L1205.65 1525.93 L1199.79 1525.93 L1199.79 1518.52 Z\" fill=\"#000000\" fill-rule=\"evenodd\" fill-opacity=\"1\" /><path clip-path=\"url(#clip370)\" d=\"M1245.66 1539.24 Q1247.85 1535.29 1250.91 1533.41 Q1253.96 1531.54 1258.1 1531.54 Q1263.67 1531.54 1266.7 1535.45 Q1269.72 1539.33 1269.72 1546.53 L1269.72 1568.04 L1263.83 1568.04 L1263.83 1546.72 Q1263.83 1541.59 1262.02 1539.11 Q1260.2 1536.63 1256.48 1536.63 Q1251.93 1536.63 1249.29 1539.65 Q1246.64 1542.68 1246.64 1547.9 L1246.64 1568.04 L1240.76 1568.04 L1240.76 1546.72 Q1240.76 1541.56 1238.94 1539.11 Q1237.13 1536.63 1233.34 1536.63 Q1228.85 1536.63 1226.21 1539.68 Q1223.57 1542.71 1223.57 1547.9 L1223.57 1568.04 L1217.68 1568.04 L1217.68 1532.4 L1223.57 1532.4 L1223.57 1537.93 Q1225.57 1534.66 1228.37 1533.1 Q1231.18 1531.54 1235.03 1531.54 Q1238.91 1531.54 1241.62 1533.51 Q1244.35 1535.48 1245.66 1539.24 Z\" fill=\"#000000\" fill-rule=\"evenodd\" fill-opacity=\"1\" /><path clip-path=\"url(#clip370)\" d=\"M1311.89 1548.76 L1311.89 1551.62 L1284.97 1551.62 Q1285.35 1557.67 1288.59 1560.85 Q1291.87 1564 1297.7 1564 Q1301.07 1564 1304.22 1563.17 Q1307.4 1562.35 1310.52 1560.69 L1310.52 1566.23 Q1307.37 1567.57 1304.06 1568.27 Q1300.75 1568.97 1297.35 1568.97 Q1288.82 1568.97 1283.82 1564 Q1278.85 1559.04 1278.85 1550.57 Q1278.85 1541.82 1283.57 1536.69 Q1288.31 1531.54 1296.33 1531.54 Q1303.52 1531.54 1307.69 1536.18 Q1311.89 1540.8 1311.89 1548.76 M1306.04 1547.04 Q1305.97 1542.23 1303.33 1539.37 Q1300.72 1536.5 1296.39 1536.5 Q1291.49 1536.5 1288.53 1539.27 Q1285.6 1542.04 1285.16 1547.07 L1306.04 1547.04 Z\" fill=\"#000000\" fill-rule=\"evenodd\" fill-opacity=\"1\" /><path clip-path=\"url(#clip370)\" d=\"M1356.29 1518.58 Q1352.03 1525.9 1349.96 1533.06 Q1347.89 1540.23 1347.89 1547.58 Q1347.89 1554.93 1349.96 1562.16 Q1352.06 1569.35 1356.29 1576.64 L1351.2 1576.64 Q1346.43 1569.16 1344.04 1561.93 Q1341.68 1554.71 1341.68 1547.58 Q1341.68 1540.48 1344.04 1533.29 Q1346.39 1526.09 1351.2 1518.58 L1356.29 1518.58 Z\" fill=\"#000000\" fill-rule=\"evenodd\" fill-opacity=\"1\" /><path clip-path=\"url(#clip370)\" d=\"M1390.38 1533.45 L1390.38 1538.98 Q1387.9 1537.71 1385.23 1537.07 Q1382.55 1536.44 1379.69 1536.44 Q1375.33 1536.44 1373.13 1537.77 Q1370.97 1539.11 1370.97 1541.79 Q1370.97 1543.82 1372.53 1545 Q1374.09 1546.15 1378.8 1547.2 L1380.8 1547.64 Q1387.04 1548.98 1389.65 1551.43 Q1392.29 1553.85 1392.29 1558.21 Q1392.29 1563.17 1388.34 1566.07 Q1384.43 1568.97 1377.55 1568.97 Q1374.69 1568.97 1371.57 1568.39 Q1368.48 1567.85 1365.05 1566.74 L1365.05 1560.69 Q1368.29 1562.38 1371.44 1563.24 Q1374.59 1564.07 1377.68 1564.07 Q1381.82 1564.07 1384.05 1562.66 Q1386.28 1561.23 1386.28 1558.65 Q1386.28 1556.27 1384.65 1554.99 Q1383.06 1553.72 1377.62 1552.54 L1375.58 1552.07 Q1370.14 1550.92 1367.72 1548.56 Q1365.3 1546.18 1365.3 1542.04 Q1365.3 1537.01 1368.87 1534.27 Q1372.43 1531.54 1378.99 1531.54 Q1382.23 1531.54 1385.1 1532.01 Q1387.96 1532.49 1390.38 1533.45 Z\" fill=\"#000000\" fill-rule=\"evenodd\" fill-opacity=\"1\" /><path clip-path=\"url(#clip370)\" d=\"M1400.69 1518.58 L1405.79 1518.58 Q1410.56 1526.09 1412.92 1533.29 Q1415.3 1540.48 1415.3 1547.58 Q1415.3 1554.71 1412.92 1561.93 Q1410.56 1569.16 1405.79 1576.64 L1400.69 1576.64 Q1404.93 1569.35 1407 1562.16 Q1409.1 1554.93 1409.1 1547.58 Q1409.1 1540.23 1407 1533.06 Q1404.93 1525.9 1400.69 1518.58 Z\" fill=\"#000000\" fill-rule=\"evenodd\" fill-opacity=\"1\" /><polyline clip-path=\"url(#clip372)\" style=\"stroke:#000000; stroke-linecap:round; stroke-linejoin:round; stroke-width:2; stroke-opacity:0.1; fill:none\" points=\"232.389,1309.13 2352.76,1309.13 \"/>\n<polyline clip-path=\"url(#clip372)\" style=\"stroke:#000000; stroke-linecap:round; stroke-linejoin:round; stroke-width:2; stroke-opacity:0.1; fill:none\" points=\"232.389,1125.86 2352.76,1125.86 \"/>\n<polyline clip-path=\"url(#clip372)\" style=\"stroke:#000000; stroke-linecap:round; stroke-linejoin:round; stroke-width:2; stroke-opacity:0.1; fill:none\" points=\"232.389,942.6 2352.76,942.6 \"/>\n<polyline clip-path=\"url(#clip372)\" style=\"stroke:#000000; stroke-linecap:round; stroke-linejoin:round; stroke-width:2; stroke-opacity:0.1; fill:none\" points=\"232.389,759.337 2352.76,759.337 \"/>\n<polyline clip-path=\"url(#clip372)\" style=\"stroke:#000000; stroke-linecap:round; stroke-linejoin:round; stroke-width:2; stroke-opacity:0.1; fill:none\" points=\"232.389,576.075 2352.76,576.075 \"/>\n<polyline clip-path=\"url(#clip372)\" style=\"stroke:#000000; stroke-linecap:round; stroke-linejoin:round; stroke-width:2; stroke-opacity:0.1; fill:none\" points=\"232.389,392.812 2352.76,392.812 \"/>\n<polyline clip-path=\"url(#clip372)\" style=\"stroke:#000000; stroke-linecap:round; stroke-linejoin:round; stroke-width:2; stroke-opacity:0.1; fill:none\" points=\"232.389,209.549 2352.76,209.549 \"/>\n<polyline clip-path=\"url(#clip370)\" style=\"stroke:#000000; stroke-linecap:round; stroke-linejoin:round; stroke-width:4; stroke-opacity:1; fill:none\" points=\"232.389,1423.18 232.389,123.472 \"/>\n<polyline clip-path=\"url(#clip370)\" style=\"stroke:#000000; stroke-linecap:round; stroke-linejoin:round; stroke-width:4; stroke-opacity:1; fill:none\" points=\"232.389,1309.13 251.287,1309.13 \"/>\n<polyline clip-path=\"url(#clip370)\" style=\"stroke:#000000; stroke-linecap:round; stroke-linejoin:round; stroke-width:4; stroke-opacity:1; fill:none\" points=\"232.389,1125.86 251.287,1125.86 \"/>\n<polyline clip-path=\"url(#clip370)\" style=\"stroke:#000000; stroke-linecap:round; stroke-linejoin:round; stroke-width:4; stroke-opacity:1; fill:none\" points=\"232.389,942.6 251.287,942.6 \"/>\n<polyline clip-path=\"url(#clip370)\" style=\"stroke:#000000; stroke-linecap:round; stroke-linejoin:round; stroke-width:4; stroke-opacity:1; fill:none\" points=\"232.389,759.337 251.287,759.337 \"/>\n<polyline clip-path=\"url(#clip370)\" style=\"stroke:#000000; stroke-linecap:round; stroke-linejoin:round; stroke-width:4; stroke-opacity:1; fill:none\" points=\"232.389,576.075 251.287,576.075 \"/>\n<polyline clip-path=\"url(#clip370)\" style=\"stroke:#000000; stroke-linecap:round; stroke-linejoin:round; stroke-width:4; stroke-opacity:1; fill:none\" points=\"232.389,392.812 251.287,392.812 \"/>\n<polyline clip-path=\"url(#clip370)\" style=\"stroke:#000000; stroke-linecap:round; stroke-linejoin:round; stroke-width:4; stroke-opacity:1; fill:none\" points=\"232.389,209.549 251.287,209.549 \"/>\n<path clip-path=\"url(#clip370)\" d=\"M184.445 1294.92 Q180.834 1294.92 179.005 1298.49 Q177.2 1302.03 177.2 1309.16 Q177.2 1316.27 179.005 1319.83 Q180.834 1323.37 184.445 1323.37 Q188.079 1323.37 189.885 1319.83 Q191.713 1316.27 191.713 1309.16 Q191.713 1302.03 189.885 1298.49 Q188.079 1294.92 184.445 1294.92 M184.445 1291.22 Q190.255 1291.22 193.311 1295.83 Q196.389 1300.41 196.389 1309.16 Q196.389 1317.89 193.311 1322.49 Q190.255 1327.08 184.445 1327.08 Q178.635 1327.08 175.556 1322.49 Q172.501 1317.89 172.501 1309.16 Q172.501 1300.41 175.556 1295.83 Q178.635 1291.22 184.445 1291.22 Z\" fill=\"#000000\" fill-rule=\"evenodd\" fill-opacity=\"1\" /><path clip-path=\"url(#clip370)\" d=\"M148.311 1139.21 L164.63 1139.21 L164.63 1143.14 L142.686 1143.14 L142.686 1139.21 Q145.348 1136.45 149.931 1131.82 Q154.538 1127.17 155.718 1125.83 Q157.964 1123.3 158.843 1121.57 Q159.746 1119.81 159.746 1118.12 Q159.746 1115.37 157.802 1113.63 Q155.88 1111.89 152.778 1111.89 Q150.579 1111.89 148.126 1112.66 Q145.695 1113.42 142.917 1114.97 L142.917 1110.25 Q145.741 1109.12 148.195 1108.54 Q150.649 1107.96 152.686 1107.96 Q158.056 1107.96 161.251 1110.64 Q164.445 1113.33 164.445 1117.82 Q164.445 1119.95 163.635 1121.87 Q162.848 1123.77 160.741 1126.36 Q160.163 1127.03 157.061 1130.25 Q153.959 1133.44 148.311 1139.21 Z\" fill=\"#000000\" fill-rule=\"evenodd\" fill-opacity=\"1\" /><path clip-path=\"url(#clip370)\" d=\"M184.445 1111.66 Q180.834 1111.66 179.005 1115.23 Q177.2 1118.77 177.2 1125.9 Q177.2 1133 179.005 1136.57 Q180.834 1140.11 184.445 1140.11 Q188.079 1140.11 189.885 1136.57 Q191.713 1133 191.713 1125.9 Q191.713 1118.77 189.885 1115.23 Q188.079 1111.66 184.445 1111.66 M184.445 1107.96 Q190.255 1107.96 193.311 1112.56 Q196.389 1117.15 196.389 1125.9 Q196.389 1134.62 193.311 1139.23 Q190.255 1143.81 184.445 1143.81 Q178.635 1143.81 175.556 1139.23 Q172.501 1134.62 172.501 1125.9 Q172.501 1117.15 175.556 1112.56 Q178.635 1107.96 184.445 1107.96 Z\" fill=\"#000000\" fill-rule=\"evenodd\" fill-opacity=\"1\" /><path clip-path=\"url(#clip370)\" d=\"M157.13 929.394 L145.325 947.843 L157.13 947.843 L157.13 929.394 M155.903 925.32 L161.783 925.32 L161.783 947.843 L166.714 947.843 L166.714 951.732 L161.783 951.732 L161.783 959.88 L157.13 959.88 L157.13 951.732 L141.529 951.732 L141.529 947.218 L155.903 925.32 Z\" fill=\"#000000\" fill-rule=\"evenodd\" fill-opacity=\"1\" /><path clip-path=\"url(#clip370)\" d=\"M184.445 928.399 Q180.834 928.399 179.005 931.964 Q177.2 935.505 177.2 942.635 Q177.2 949.741 179.005 953.306 Q180.834 956.848 184.445 956.848 Q188.079 956.848 189.885 953.306 Q191.713 949.741 191.713 942.635 Q191.713 935.505 189.885 931.964 Q188.079 928.399 184.445 928.399 M184.445 924.695 Q190.255 924.695 193.311 929.302 Q196.389 933.885 196.389 942.635 Q196.389 951.362 193.311 955.968 Q190.255 960.551 184.445 960.551 Q178.635 960.551 175.556 955.968 Q172.501 951.362 172.501 942.635 Q172.501 933.885 175.556 929.302 Q178.635 924.695 184.445 924.695 Z\" fill=\"#000000\" fill-rule=\"evenodd\" fill-opacity=\"1\" /><path clip-path=\"url(#clip370)\" d=\"M154.862 757.474 Q151.714 757.474 149.862 759.627 Q148.033 761.78 148.033 765.529 Q148.033 769.256 149.862 771.432 Q151.714 773.585 154.862 773.585 Q158.01 773.585 159.839 771.432 Q161.69 769.256 161.69 765.529 Q161.69 761.78 159.839 759.627 Q158.01 757.474 154.862 757.474 M164.144 742.821 L164.144 747.081 Q162.385 746.247 160.579 745.807 Q158.797 745.368 157.038 745.368 Q152.408 745.368 149.954 748.493 Q147.524 751.618 147.177 757.937 Q148.542 755.923 150.603 754.858 Q152.663 753.77 155.14 753.77 Q160.348 753.77 163.357 756.942 Q166.39 760.09 166.39 765.529 Q166.39 770.854 163.241 774.071 Q160.093 777.289 154.862 777.289 Q148.866 777.289 145.695 772.705 Q142.524 768.099 142.524 759.372 Q142.524 751.178 146.413 746.317 Q150.302 741.432 156.853 741.432 Q158.612 741.432 160.394 741.78 Q162.2 742.127 164.144 742.821 Z\" fill=\"#000000\" fill-rule=\"evenodd\" fill-opacity=\"1\" /><path clip-path=\"url(#clip370)\" d=\"M184.445 745.136 Q180.834 745.136 179.005 748.701 Q177.2 752.243 177.2 759.372 Q177.2 766.479 179.005 770.043 Q180.834 773.585 184.445 773.585 Q188.079 773.585 189.885 770.043 Q191.713 766.479 191.713 759.372 Q191.713 752.243 189.885 748.701 Q188.079 745.136 184.445 745.136 M184.445 741.432 Q190.255 741.432 193.311 746.039 Q196.389 750.622 196.389 759.372 Q196.389 768.099 193.311 772.705 Q190.255 777.289 184.445 777.289 Q178.635 777.289 175.556 772.705 Q172.501 768.099 172.501 759.372 Q172.501 750.622 175.556 746.039 Q178.635 741.432 184.445 741.432 Z\" fill=\"#000000\" fill-rule=\"evenodd\" fill-opacity=\"1\" /><path clip-path=\"url(#clip370)\" d=\"M154.283 576.943 Q150.95 576.943 149.028 578.725 Q147.13 580.508 147.13 583.632 Q147.13 586.757 149.028 588.54 Q150.95 590.322 154.283 590.322 Q157.616 590.322 159.538 588.54 Q161.459 586.734 161.459 583.632 Q161.459 580.508 159.538 578.725 Q157.64 576.943 154.283 576.943 M149.607 574.952 Q146.598 574.211 144.908 572.151 Q143.241 570.091 143.241 567.128 Q143.241 562.984 146.181 560.577 Q149.144 558.17 154.283 558.17 Q159.445 558.17 162.385 560.577 Q165.325 562.984 165.325 567.128 Q165.325 570.091 163.635 572.151 Q161.968 574.211 158.982 574.952 Q162.362 575.739 164.237 578.031 Q166.135 580.322 166.135 583.632 Q166.135 588.656 163.056 591.341 Q160.001 594.026 154.283 594.026 Q148.566 594.026 145.487 591.341 Q142.431 588.656 142.431 583.632 Q142.431 580.322 144.329 578.031 Q146.228 575.739 149.607 574.952 M147.894 567.568 Q147.894 570.253 149.561 571.758 Q151.251 573.262 154.283 573.262 Q157.292 573.262 158.982 571.758 Q160.695 570.253 160.695 567.568 Q160.695 564.883 158.982 563.378 Q157.292 561.873 154.283 561.873 Q151.251 561.873 149.561 563.378 Q147.894 564.883 147.894 567.568 Z\" fill=\"#000000\" fill-rule=\"evenodd\" fill-opacity=\"1\" /><path clip-path=\"url(#clip370)\" d=\"M184.445 561.873 Q180.834 561.873 179.005 565.438 Q177.2 568.98 177.2 576.109 Q177.2 583.216 179.005 586.781 Q180.834 590.322 184.445 590.322 Q188.079 590.322 189.885 586.781 Q191.713 583.216 191.713 576.109 Q191.713 568.98 189.885 565.438 Q188.079 561.873 184.445 561.873 M184.445 558.17 Q190.255 558.17 193.311 562.776 Q196.389 567.359 196.389 576.109 Q196.389 584.836 193.311 589.443 Q190.255 594.026 184.445 594.026 Q178.635 594.026 175.556 589.443 Q172.501 584.836 172.501 576.109 Q172.501 567.359 175.556 562.776 Q178.635 558.17 184.445 558.17 Z\" fill=\"#000000\" fill-rule=\"evenodd\" fill-opacity=\"1\" /><path clip-path=\"url(#clip370)\" d=\"M114.931 406.157 L122.57 406.157 L122.57 379.791 L114.26 381.458 L114.26 377.199 L122.524 375.532 L127.2 375.532 L127.2 406.157 L134.839 406.157 L134.839 410.092 L114.931 410.092 L114.931 406.157 Z\" fill=\"#000000\" fill-rule=\"evenodd\" fill-opacity=\"1\" /><path clip-path=\"url(#clip370)\" d=\"M154.283 378.611 Q150.672 378.611 148.843 382.175 Q147.038 385.717 147.038 392.847 Q147.038 399.953 148.843 403.518 Q150.672 407.06 154.283 407.06 Q157.917 407.06 159.723 403.518 Q161.552 399.953 161.552 392.847 Q161.552 385.717 159.723 382.175 Q157.917 378.611 154.283 378.611 M154.283 374.907 Q160.093 374.907 163.149 379.513 Q166.227 384.097 166.227 392.847 Q166.227 401.573 163.149 406.18 Q160.093 410.763 154.283 410.763 Q148.473 410.763 145.394 406.18 Q142.339 401.573 142.339 392.847 Q142.339 384.097 145.394 379.513 Q148.473 374.907 154.283 374.907 Z\" fill=\"#000000\" fill-rule=\"evenodd\" fill-opacity=\"1\" /><path clip-path=\"url(#clip370)\" d=\"M184.445 378.611 Q180.834 378.611 179.005 382.175 Q177.2 385.717 177.2 392.847 Q177.2 399.953 179.005 403.518 Q180.834 407.06 184.445 407.06 Q188.079 407.06 189.885 403.518 Q191.713 399.953 191.713 392.847 Q191.713 385.717 189.885 382.175 Q188.079 378.611 184.445 378.611 M184.445 374.907 Q190.255 374.907 193.311 379.513 Q196.389 384.097 196.389 392.847 Q196.389 401.573 193.311 406.18 Q190.255 410.763 184.445 410.763 Q178.635 410.763 175.556 406.18 Q172.501 401.573 172.501 392.847 Q172.501 384.097 175.556 379.513 Q178.635 374.907 184.445 374.907 Z\" fill=\"#000000\" fill-rule=\"evenodd\" fill-opacity=\"1\" /><path clip-path=\"url(#clip370)\" d=\"M114.931 222.894 L122.57 222.894 L122.57 196.528 L114.26 198.195 L114.26 193.936 L122.524 192.269 L127.2 192.269 L127.2 222.894 L134.839 222.894 L134.839 226.829 L114.931 226.829 L114.931 222.894 Z\" fill=\"#000000\" fill-rule=\"evenodd\" fill-opacity=\"1\" /><path clip-path=\"url(#clip370)\" d=\"M148.311 222.894 L164.63 222.894 L164.63 226.829 L142.686 226.829 L142.686 222.894 Q145.348 220.139 149.931 215.51 Q154.538 210.857 155.718 209.514 Q157.964 206.991 158.843 205.255 Q159.746 203.496 159.746 201.806 Q159.746 199.052 157.802 197.315 Q155.88 195.579 152.778 195.579 Q150.579 195.579 148.126 196.343 Q145.695 197.107 142.917 198.658 L142.917 193.936 Q145.741 192.802 148.195 192.223 Q150.649 191.644 152.686 191.644 Q158.056 191.644 161.251 194.329 Q164.445 197.015 164.445 201.505 Q164.445 203.635 163.635 205.556 Q162.848 207.454 160.741 210.047 Q160.163 210.718 157.061 213.936 Q153.959 217.13 148.311 222.894 Z\" fill=\"#000000\" fill-rule=\"evenodd\" fill-opacity=\"1\" /><path clip-path=\"url(#clip370)\" d=\"M184.445 195.348 Q180.834 195.348 179.005 198.913 Q177.2 202.454 177.2 209.584 Q177.2 216.69 179.005 220.255 Q180.834 223.797 184.445 223.797 Q188.079 223.797 189.885 220.255 Q191.713 216.69 191.713 209.584 Q191.713 202.454 189.885 198.913 Q188.079 195.348 184.445 195.348 M184.445 191.644 Q190.255 191.644 193.311 196.251 Q196.389 200.834 196.389 209.584 Q196.389 218.311 193.311 222.917 Q190.255 227.5 184.445 227.5 Q178.635 227.5 175.556 222.917 Q172.501 218.311 172.501 209.584 Q172.501 200.834 175.556 196.251 Q178.635 191.644 184.445 191.644 Z\" fill=\"#000000\" fill-rule=\"evenodd\" fill-opacity=\"1\" /><path clip-path=\"url(#clip370)\" d=\"M49.9359 788.254 L28.3562 788.254 L28.3562 782.397 L49.7131 782.397 Q54.7739 782.397 57.3202 780.424 Q59.8346 778.45 59.8346 774.504 Q59.8346 769.761 56.8109 767.024 Q53.7872 764.255 48.5673 764.255 L28.3562 764.255 L28.3562 758.398 L64.0042 758.398 L64.0042 764.255 L58.5296 764.255 Q61.7762 766.387 63.3676 769.22 Q64.9272 772.021 64.9272 775.745 Q64.9272 781.888 61.1078 785.071 Q57.2883 788.254 49.9359 788.254 M27.4968 773.517 L27.4968 773.517 Z\" fill=\"#000000\" fill-rule=\"evenodd\" fill-opacity=\"1\" /><path clip-path=\"url(#clip370)\" d=\"M1029.71 12.096 L1037.89 12.096 L1037.89 72.576 L1029.71 72.576 L1029.71 12.096 Z\" fill=\"#000000\" fill-rule=\"evenodd\" fill-opacity=\"1\" /><path clip-path=\"url(#clip370)\" d=\"M1091.57 45.1919 L1091.57 72.576 L1084.11 72.576 L1084.11 45.4349 Q1084.11 38.994 1081.6 35.7938 Q1079.09 32.5936 1074.07 32.5936 Q1068.03 32.5936 1064.55 36.4419 Q1061.06 40.2903 1061.06 46.9338 L1061.06 72.576 L1053.57 72.576 L1053.57 27.2059 L1061.06 27.2059 L1061.06 34.2544 Q1063.74 30.163 1067.34 28.1376 Q1070.99 26.1121 1075.73 26.1121 Q1083.55 26.1121 1087.56 30.9732 Q1091.57 35.7938 1091.57 45.1919 Z\" fill=\"#000000\" fill-rule=\"evenodd\" fill-opacity=\"1\" /><path clip-path=\"url(#clip370)\" d=\"M1113.64 65.7705 L1113.64 89.8329 L1106.15 89.8329 L1106.15 27.2059 L1113.64 27.2059 L1113.64 34.0924 Q1115.99 30.0415 1119.56 28.0971 Q1123.16 26.1121 1128.15 26.1121 Q1136.41 26.1121 1141.55 32.6746 Q1146.74 39.2371 1146.74 49.9314 Q1146.74 60.6258 1141.55 67.1883 Q1136.41 73.7508 1128.15 73.7508 Q1123.16 73.7508 1119.56 71.8063 Q1115.99 69.8214 1113.64 65.7705 M1139 49.9314 Q1139 41.7081 1135.6 37.0496 Q1132.24 32.3505 1126.32 32.3505 Q1120.41 32.3505 1117.01 37.0496 Q1113.64 41.7081 1113.64 49.9314 Q1113.64 58.1548 1117.01 62.8538 Q1120.41 67.5124 1126.32 67.5124 Q1132.24 67.5124 1135.6 62.8538 Q1139 58.1548 1139 49.9314 Z\" fill=\"#000000\" fill-rule=\"evenodd\" fill-opacity=\"1\" /><path clip-path=\"url(#clip370)\" d=\"M1158.33 54.671 L1158.33 27.2059 L1165.78 27.2059 L1165.78 54.3874 Q1165.78 60.8284 1168.29 64.0691 Q1170.8 67.2693 1175.83 67.2693 Q1181.86 67.2693 1185.35 63.421 Q1188.87 59.5726 1188.87 52.9291 L1188.87 27.2059 L1196.32 27.2059 L1196.32 72.576 L1188.87 72.576 L1188.87 65.6084 Q1186.16 69.7404 1182.55 71.7658 Q1178.99 73.7508 1174.25 73.7508 Q1166.43 73.7508 1162.38 68.8897 Q1158.33 64.0286 1158.33 54.671 M1177.08 26.1121 L1177.08 26.1121 Z\" fill=\"#000000\" fill-rule=\"evenodd\" fill-opacity=\"1\" /><path clip-path=\"url(#clip370)\" d=\"M1219.05 14.324 L1219.05 27.2059 L1234.4 27.2059 L1234.4 32.9987 L1219.05 32.9987 L1219.05 57.6282 Q1219.05 63.1779 1220.55 64.7578 Q1222.09 66.3376 1226.75 66.3376 L1234.4 66.3376 L1234.4 72.576 L1226.75 72.576 Q1218.12 72.576 1214.84 69.3758 Q1211.55 66.1351 1211.55 57.6282 L1211.55 32.9987 L1206.09 32.9987 L1206.09 27.2059 L1211.55 27.2059 L1211.55 14.324 L1219.05 14.324 Z\" fill=\"#000000\" fill-rule=\"evenodd\" fill-opacity=\"1\" /><path clip-path=\"url(#clip370)\" d=\"M1270.9 12.096 L1279.08 12.096 L1279.08 36.8875 L1308.82 36.8875 L1308.82 12.096 L1317 12.096 L1317 72.576 L1308.82 72.576 L1308.82 43.7741 L1279.08 43.7741 L1279.08 72.576 L1270.9 72.576 L1270.9 12.096 Z\" fill=\"#000000\" fill-rule=\"evenodd\" fill-opacity=\"1\" /><path clip-path=\"url(#clip370)\" d=\"M1332.96 27.2059 L1340.41 27.2059 L1340.41 72.576 L1332.96 72.576 L1332.96 27.2059 M1332.96 9.54393 L1340.41 9.54393 L1340.41 18.9825 L1332.96 18.9825 L1332.96 9.54393 Z\" fill=\"#000000\" fill-rule=\"evenodd\" fill-opacity=\"1\" /><path clip-path=\"url(#clip370)\" d=\"M1384.93 28.5427 L1384.93 35.5912 Q1381.77 33.9709 1378.37 33.1607 Q1374.97 32.3505 1371.32 32.3505 Q1365.77 32.3505 1362.98 34.0519 Q1360.22 35.7533 1360.22 39.156 Q1360.22 41.7486 1362.21 43.2475 Q1364.19 44.7058 1370.19 46.0426 L1372.74 46.6097 Q1380.68 48.3111 1384 51.4303 Q1387.36 54.509 1387.36 60.0587 Q1387.36 66.3781 1382.34 70.0644 Q1377.36 73.7508 1368.61 73.7508 Q1364.96 73.7508 1360.99 73.0216 Q1357.06 72.3329 1352.69 70.9151 L1352.69 63.2184 Q1356.82 65.3654 1360.83 66.4591 Q1364.84 67.5124 1368.77 67.5124 Q1374.04 67.5124 1376.87 65.73 Q1379.71 63.9071 1379.71 60.6258 Q1379.71 57.5877 1377.64 55.9673 Q1375.62 54.3469 1368.69 52.8481 L1366.1 52.2405 Q1359.17 50.7821 1356.09 47.7845 Q1353.01 44.7463 1353.01 39.4801 Q1353.01 33.0797 1357.55 29.5959 Q1362.09 26.1121 1370.43 26.1121 Q1374.56 26.1121 1378.21 26.7198 Q1381.85 27.3274 1384.93 28.5427 Z\" fill=\"#000000\" fill-rule=\"evenodd\" fill-opacity=\"1\" /><path clip-path=\"url(#clip370)\" d=\"M1406.61 14.324 L1406.61 27.2059 L1421.96 27.2059 L1421.96 32.9987 L1406.61 32.9987 L1406.61 57.6282 Q1406.61 63.1779 1408.1 64.7578 Q1409.64 66.3376 1414.3 66.3376 L1421.96 66.3376 L1421.96 72.576 L1414.3 72.576 Q1405.67 72.576 1402.39 69.3758 Q1399.11 66.1351 1399.11 57.6282 L1399.11 32.9987 L1393.64 32.9987 L1393.64 27.2059 L1399.11 27.2059 L1399.11 14.324 L1406.61 14.324 Z\" fill=\"#000000\" fill-rule=\"evenodd\" fill-opacity=\"1\" /><path clip-path=\"url(#clip370)\" d=\"M1449.34 32.4315 Q1443.35 32.4315 1439.86 37.1306 Q1436.38 41.7891 1436.38 49.9314 Q1436.38 58.0738 1439.82 62.7728 Q1443.31 67.4314 1449.34 67.4314 Q1455.3 67.4314 1458.78 62.7323 Q1462.27 58.0333 1462.27 49.9314 Q1462.27 41.8701 1458.78 37.1711 Q1455.3 32.4315 1449.34 32.4315 M1449.34 26.1121 Q1459.06 26.1121 1464.61 32.4315 Q1470.16 38.7509 1470.16 49.9314 Q1470.16 61.0714 1464.61 67.4314 Q1459.06 73.7508 1449.34 73.7508 Q1439.58 73.7508 1434.03 67.4314 Q1428.52 61.0714 1428.52 49.9314 Q1428.52 38.7509 1434.03 32.4315 Q1439.58 26.1121 1449.34 26.1121 Z\" fill=\"#000000\" fill-rule=\"evenodd\" fill-opacity=\"1\" /><path clip-path=\"url(#clip370)\" d=\"M1508.81 34.1734 Q1507.55 33.4443 1506.06 33.1202 Q1504.6 32.7556 1502.81 32.7556 Q1496.5 32.7556 1493.09 36.8875 Q1489.73 40.9789 1489.73 48.6757 L1489.73 72.576 L1482.24 72.576 L1482.24 27.2059 L1489.73 27.2059 L1489.73 34.2544 Q1492.08 30.1225 1495.85 28.1376 Q1499.61 26.1121 1505 26.1121 Q1505.77 26.1121 1506.7 26.2337 Q1507.64 26.3147 1508.77 26.5172 L1508.81 34.1734 Z\" fill=\"#000000\" fill-rule=\"evenodd\" fill-opacity=\"1\" /><path clip-path=\"url(#clip370)\" d=\"M1535.51 76.7889 Q1532.35 84.8907 1529.35 87.3618 Q1526.35 89.8329 1521.33 89.8329 L1515.37 89.8329 L1515.37 83.5945 L1519.75 83.5945 Q1522.83 83.5945 1524.53 82.1361 Q1526.23 80.6778 1528.29 75.2496 L1529.63 71.8468 L1511.28 27.2059 L1519.18 27.2059 L1533.36 62.6918 L1547.54 27.2059 L1555.44 27.2059 L1535.51 76.7889 Z\" fill=\"#000000\" fill-rule=\"evenodd\" fill-opacity=\"1\" /><polyline clip-path=\"url(#clip372)\" style=\"stroke:#009af9; stroke-linecap:round; stroke-linejoin:round; stroke-width:4; stroke-opacity:1; fill:none\" points=\"292.4,1243.34 299.621,1259.24 306.843,1261.87 314.064,1262.08 321.286,1261.05 328.507,1259.42 335.729,1261.34 342.95,1261.21 350.171,1255.29 357.393,1254.82 364.614,1245.84 371.836,1236.03 379.057,1243.35 386.279,1255.59 393.5,1259.76 400.722,1260.76 407.943,1261.15 415.165,1252.61 422.386,1252.47 429.608,1255.73 436.829,1249.2 444.05,1241.08 451.272,1245.45 458.493,1251.5 465.715,1247.31 472.936,1245.78 480.158,1245.77 487.379,1246.51 494.601,1246.61 501.822,1253.4 509.044,1254.09 516.265,1257.46 523.487,1259.12 530.708,1262 537.93,1258.95 545.151,1262.71 552.372,1263.76 559.594,1267.26 566.815,1264.6 574.037,1267.53 581.258,1263.97 588.48,1267.58 595.701,1268.34 602.923,1251.78 610.144,1260.1 617.366,1259.99 624.587,1254.97 631.809,1247.59 639.03,1246.4 646.252,1251.44 653.473,1250.97 660.694,1245.54 667.916,1233.79 675.137,1233.21 682.359,1238.09 689.58,1242.86 696.802,1241.58 704.023,1243.92 711.245,1241.93 718.466,1246.71 725.688,1251.67 732.909,1251.06 740.131,1249.82 747.352,1250.4 754.573,1257.71 761.795,1257.28 769.016,1261.48 776.238,1262.61 783.459,1262.53 790.681,1269.08 797.902,1272.42 805.124,1282.47 812.345,1284.76 819.567,1279.2 826.788,1276.47 834.01,1269.91 841.231,1263.75 848.453,1268.68 855.674,1279.19 862.895,1282.33 870.117,1291.38 877.338,1298.84 884.56,1304.05 891.781,1298.92 899.003,1299.96 906.224,1301.16 913.446,1301.05 920.667,1298.35 927.889,1293.34 935.11,1290.76 942.332,1288.9 949.553,1292.16 956.775,1294.25 963.996,1291.43 971.217,1296.26 978.439,1295.28 985.66,1295.22 992.882,1293.83 1000.1,1293.82 1007.32,1289.06 1014.55,1288.4 1021.77,1292.58 1028.99,1291.68 1036.21,1290.96 1043.43,1281.78 1050.65,1279.96 1057.88,1279.87 1065.1,1275.62 1072.32,1285.84 1079.54,1278.25 1086.76,1286.49 1093.98,1291.28 1101.2,1296.99 1108.43,1301.11 1115.65,1308.82 1122.87,1303.54 1130.09,1300.27 1137.31,1296.03 1144.53,1297.26 1151.75,1300.94 1158.98,1311.53 1166.2,1313.54 1173.42,1307.85 1180.64,1318.12 1187.86,1318.38 1195.08,1305.26 1202.3,1305.7 1209.53,1307.1 1216.75,1300.75 1223.97,1294.3 1231.19,1297.66 1238.41,1299.16 1245.63,1299.76 1252.85,1301.09 1260.08,1291.77 1267.3,1283.41 1274.52,1289.42 1281.74,1296.98 1288.96,1292.41 1296.18,1293.19 1303.4,1295.5 1310.63,1295.05 1317.85,1277.51 1325.07,1287.83 1332.29,1286.83 1339.51,1296.24 1346.73,1292.21 1353.96,1305.5 1361.18,1305.81 1368.4,1309.83 1375.62,1305.24 1382.84,1302.97 1390.06,1302.95 1397.28,1298.48 1404.51,1295.71 1411.73,1300.22 1418.95,1296.07 1426.17,1296.01 1433.39,1289.5 1440.61,1288.32 1447.83,1289.41 1455.06,1286.97 1462.28,1291.46 1469.5,1280.96 1476.72,1275.15 1483.94,1281.61 1491.16,1280.78 1498.38,1281.09 1505.61,1266.73 1512.83,1264.6 1520.05,1261.89 1527.27,1269.97 1534.49,1281.29 1541.71,1293.95 1548.93,1289.44 1556.16,1295.44 1563.38,1292.76 1570.6,1286.8 1577.82,1275.56 1585.04,1267.76 1592.26,1273.24 1599.48,1277.25 1606.71,1289.07 1613.93,1295.17 1621.15,1293.32 1628.37,1292.85 1635.59,1304.12 1642.81,1295.07 1650.04,1299.32 1657.26,1301.99 1664.48,1302.36 1671.7,1285.68 1678.92,1287.16 1686.14,1306.04 1693.36,1313.71 1700.59,1316.26 1707.81,1311.13 1715.03,1314.2 1722.25,1318.77 1729.47,1334.3 1736.69,1336.82 1743.91,1344.01 1751.14,1348.23 1758.36,1346.42 1765.58,1343.63 1772.8,1343.82 1780.02,1341.62 1787.24,1337.76 1794.46,1340.38 1801.69,1349.32 1808.91,1352.38 1816.13,1341.65 1823.35,1351.22 1830.57,1341 1837.79,1344.53 1845.01,1343.37 1852.24,1340.41 1859.46,1330.44 1866.68,1347.28 1873.9,1351.19 1881.12,1338.54 1888.34,1329.6 1895.56,1329.46 1902.79,1328.3 1910.01,1325.72 1917.23,1316.2 1924.45,1315.24 1931.67,1319.81 1938.89,1323.93 1946.12,1323.88 1953.34,1321.8 1960.56,1317.69 1967.78,1306.9 1975,1295.67 1982.22,1297.05 1989.44,1286.69 1996.67,1283.08 2003.89,1288.05 2011.11,1296.59 2018.33,1288.32 2025.55,1291.73 2032.77,1296.87 2039.99,1301.77 2047.22,1307.94 2054.44,1311.27 2061.66,1306.39 2068.88,1303.96 2076.1,1303.94 2083.32,1300.66 2090.54,1301.22 2097.77,1301.99 2104.99,1301.99 2112.21,1300.27 2119.43,1297.67 2126.65,1296.95 2133.87,1292.28 2141.09,1287.96 2148.32,1286.87 2155.54,1289.86 2162.76,1286.44 2169.98,1292.01 2177.2,1294.46 2184.42,1295.65 2191.65,1295.59 2198.87,1299.99 2206.09,1301.75 2213.31,1304.98 2220.53,1305.71 2227.75,1305.46 2234.97,1307.96 2242.2,1310.64 2249.42,1311.87 2256.64,1311.11 2263.86,1310.97 2271.08,1312.56 2278.3,1312.41 2285.52,1311.7 2292.75,1312.02 \"/>\n<polyline clip-path=\"url(#clip372)\" style=\"stroke:#e26f46; stroke-linecap:round; stroke-linejoin:round; stroke-width:4; stroke-opacity:1; fill:none\" points=\"292.4,1386.4 299.621,1375.31 306.843,1371.5 314.064,1366.29 321.286,1375.14 328.507,1361.15 335.729,1357.34 342.95,1359.95 350.171,1367.38 357.393,1365.12 364.614,1361.98 371.836,1364 379.057,1356.53 386.279,1351.89 393.5,1351.52 400.722,1354.59 407.943,1350.63 415.165,1340.95 422.386,1338.68 429.608,1333.39 436.829,1327.96 444.05,1315.89 451.272,1321.82 458.493,1333.2 465.715,1330 472.936,1331.17 480.158,1330.49 487.379,1330.72 494.601,1338.08 501.822,1342.62 509.044,1346.44 516.265,1356.44 523.487,1359.74 530.708,1368.51 537.93,1370.85 545.151,1362.88 552.372,1365.48 559.594,1366.76 566.815,1368.94 574.037,1364.63 581.258,1368.89 588.48,1368.76 595.701,1367.63 602.923,1370.37 610.144,1362.6 617.366,1361.83 624.587,1363.13 631.809,1368.42 639.03,1368.29 646.252,1362.04 653.473,1361.97 660.694,1363.27 667.916,1355.73 675.137,1352.27 682.359,1358.12 689.58,1357.12 696.802,1361.33 704.023,1353.25 711.245,1350.7 718.466,1350.26 725.688,1349.07 732.909,1344.68 740.131,1349.55 747.352,1340.49 754.573,1337.7 761.795,1337.2 769.016,1341.13 776.238,1342.57 783.459,1342.48 790.681,1338.39 797.902,1339.52 805.124,1341.89 812.345,1338.31 819.567,1338.87 826.788,1340.19 834.01,1336.29 841.231,1335.89 848.453,1334.8 855.674,1323.48 862.895,1314.41 870.117,1317.34 877.338,1321.33 884.56,1329.95 891.781,1329.43 899.003,1334.4 906.224,1334.96 913.446,1337.34 920.667,1334.76 927.889,1344.67 935.11,1344.94 942.332,1339.57 949.553,1338.51 956.775,1340.19 963.996,1333.38 971.217,1337.32 978.439,1330.08 985.66,1330.06 992.882,1328.82 1000.1,1323.8 1007.32,1325.02 1014.55,1329.51 1021.77,1331.07 1028.99,1328.14 1036.21,1333.24 1043.43,1337.79 1050.65,1345.52 1057.88,1350.31 1065.1,1338.94 1072.32,1336.32 1079.54,1333.88 1086.76,1333.97 1093.98,1332.66 1101.2,1338.31 1108.43,1348.12 1115.65,1352.2 1122.87,1346.15 1130.09,1336.69 1137.31,1330.53 1144.53,1320.58 1151.75,1322.88 1158.98,1318.62 1166.2,1315.72 1173.42,1312.36 1180.64,1315.36 1187.86,1307.1 1195.08,1304.06 1202.3,1298.01 1209.53,1300.02 1216.75,1298.84 1223.97,1299.62 1231.19,1302.44 1238.41,1304.04 1245.63,1308.94 1252.85,1313.46 1260.08,1324.04 1267.3,1325.64 1274.52,1327.7 1281.74,1325.03 1288.96,1321.36 1296.18,1334.42 1303.4,1334.5 1310.63,1331.51 1317.85,1326.22 1325.07,1327.2 1332.29,1327.34 1339.51,1318.72 1346.73,1322.39 1353.96,1331.04 1361.18,1335.87 1368.4,1325.4 1375.62,1311.64 1382.84,1303.8 1390.06,1302.8 1397.28,1306.34 1404.51,1317.69 1411.73,1328.3 1418.95,1327 1426.17,1319.34 1433.39,1319.65 1440.61,1323.28 1447.83,1317.73 1455.06,1311.58 1462.28,1303.59 1469.5,1304.61 1476.72,1303.08 1483.94,1293.28 1491.16,1295.92 1498.38,1297.49 1505.61,1309.23 1512.83,1309.83 1520.05,1307.41 1527.27,1314.5 1534.49,1317.53 1541.71,1324.29 1548.93,1328.52 1556.16,1333.89 1563.38,1341.1 1570.6,1343.09 1577.82,1339.82 1585.04,1337.37 1592.26,1330.21 1599.48,1327.37 1606.71,1323.87 1613.93,1329.08 1621.15,1325.57 1628.37,1330.88 1635.59,1331.12 1642.81,1316.69 1650.04,1318.28 1657.26,1319.95 1664.48,1316.69 1671.7,1306.45 1678.92,1312.34 1686.14,1311.37 1693.36,1300.75 1700.59,1286.89 1707.81,1277.82 1715.03,1280.39 1722.25,1282.65 1729.47,1285.88 1736.69,1284.02 1743.91,1287.44 1751.14,1292.6 1758.36,1282.8 1765.58,1283.84 1772.8,1284.89 1780.02,1289.29 1787.24,1287.57 1794.46,1289.97 1801.69,1284.59 1808.91,1285.06 1816.13,1288.76 1823.35,1294.69 1830.57,1293.7 1837.79,1296.84 1845.01,1301.19 1852.24,1315.13 1859.46,1319.61 1866.68,1307.31 1873.9,1307.54 1881.12,1316.16 1888.34,1316.23 1895.56,1322.24 1902.79,1323.29 1910.01,1336.48 1917.23,1330.61 1924.45,1326.23 1931.67,1318.33 1938.89,1306.1 1946.12,1309.25 1953.34,1303.43 1960.56,1308.56 1967.78,1308.41 1975,1305.85 1982.22,1312.33 1989.44,1314.59 1996.67,1316.59 2003.89,1318.46 2011.11,1324.8 2018.33,1315.16 2025.55,1311.7 2032.77,1308.73 2039.99,1311.7 2047.22,1316.84 2054.44,1309.13 2061.66,1309.09 2068.88,1308.89 2076.1,1302.37 2083.32,1303.28 2090.54,1300.93 2097.77,1300.56 2104.99,1300.61 2112.21,1299.67 2119.43,1298.88 2126.65,1297.01 2133.87,1303.12 2141.09,1302.84 2148.32,1302.06 2155.54,1300.61 2162.76,1296.68 2169.98,1298.91 2177.2,1299.01 2184.42,1297.28 2191.65,1293.68 2198.87,1297.05 2206.09,1294.18 2213.31,1291.82 2220.53,1290.8 2227.75,1290.35 2234.97,1290.69 2242.2,1288.06 2249.42,1289.61 2256.64,1289.24 2263.86,1288.18 2271.08,1288.4 2278.3,1287.54 2285.52,1286.03 2292.75,1285.81 \"/>\n<polyline clip-path=\"url(#clip372)\" style=\"stroke:#3da44d; stroke-linecap:round; stroke-linejoin:round; stroke-width:4; stroke-opacity:1; fill:none\" points=\"292.4,209.674 299.621,235.151 306.843,239.051 314.064,228.403 321.286,229.493 328.507,230.646 335.729,228.004 342.95,240.643 350.171,233.417 357.393,222.773 364.614,219.291 371.836,213.368 379.057,207.209 386.279,216.771 393.5,217.071 400.722,221.164 407.943,214.836 415.165,225.514 422.386,230.434 429.608,228.646 436.829,224.545 444.05,225.591 451.272,220.766 458.493,223.911 465.715,223.711 472.936,231.928 480.158,245.381 487.379,248.603 494.601,251.933 501.822,256.701 509.044,260.545 516.265,263.525 523.487,268.489 530.708,263.22 537.93,256.478 545.151,256.871 552.372,260.588 559.594,259.34 566.815,266.044 574.037,269.83 581.258,268.523 588.48,272.249 595.701,274.122 602.923,278.433 610.144,282.962 617.366,291.309 624.587,299.168 631.809,298.523 639.03,299.669 646.252,311.355 653.473,317.278 660.694,319.388 667.916,320.932 675.137,313.549 682.359,312.292 689.58,311.143 696.802,315.376 704.023,309.201 711.245,310.039 718.466,309.404 725.688,311.166 732.909,315.867 740.131,314.16 747.352,314.261 754.573,318.428 761.795,320.613 769.016,319.732 776.238,325.008 783.459,326.88 790.681,327.873 797.902,327.893 805.124,329.571 812.345,329.867 819.567,333.071 826.788,336.117 834.01,344.911 841.231,348.461 848.453,353.543 855.674,348.12 862.895,357.626 870.117,359.951 877.338,355.063 884.56,357.406 891.781,360.203 899.003,357.306 906.224,360.748 913.446,366.92 920.667,364.993 927.889,373.36 935.11,373.97 942.332,372.564 949.553,381.492 956.775,386.885 963.996,386.307 971.217,385.796 978.439,383.359 985.66,383.3 992.882,376.793 1000.1,381.378 1007.32,379.752 1014.55,386.797 1021.77,389.503 1028.99,390.285 1036.21,397.756 1043.43,404.313 1050.65,403.23 1057.88,398.526 1065.1,399.033 1072.32,386.681 1079.54,380.726 1086.76,386.072 1093.98,388.83 1101.2,393.957 1108.43,395.272 1115.65,397.147 1122.87,396.974 1130.09,397.156 1137.31,403.105 1144.53,394.752 1151.75,400.287 1158.98,412.676 1166.2,416.277 1173.42,419.722 1180.64,418.954 1187.86,416.46 1195.08,418.329 1202.3,423.01 1209.53,425.244 1216.75,423.324 1223.97,428.442 1231.19,432.146 1238.41,438.785 1245.63,441.488 1252.85,439.199 1260.08,429.469 1267.3,425.435 1274.52,421.203 1281.74,427.217 1288.96,426.22 1296.18,431.927 1303.4,430.41 1310.63,431.718 1317.85,445.989 1325.07,452.715 1332.29,455.41 1339.51,453.465 1346.73,441.76 1353.96,442.908 1361.18,451.162 1368.4,449.711 1375.62,443.978 1382.84,454.598 1390.06,454.717 1397.28,448.566 1404.51,448.727 1411.73,455.153 1418.95,453.262 1426.17,457.444 1433.39,466.397 1440.61,455.846 1447.83,449.067 1455.06,446.263 1462.28,456.667 1469.5,457.382 1476.72,454.416 1483.94,458.386 1491.16,457.206 1498.38,460.691 1505.61,466.005 1512.83,455.509 1520.05,435.674 1527.27,439.791 1534.49,441.266 1541.71,450.406 1548.93,453.243 1556.16,460.227 1563.38,449.908 1570.6,451.146 1577.82,455.438 1585.04,455.006 1592.26,458.405 1599.48,459.736 1606.71,463.096 1613.93,474.19 1621.15,481.155 1628.37,472.978 1635.59,459.169 1642.81,465.699 1650.04,479.215 1657.26,490.511 1664.48,497.143 1671.7,509.155 1678.92,510.634 1686.14,498.649 1693.36,458.789 1700.59,434.278 1707.81,409.387 1715.03,398.42 1722.25,403.794 1729.47,450.921 1736.69,511.919 1743.91,600.375 1751.14,714.287 1758.36,815.708 1765.58,848.883 1772.8,836.329 1780.02,831.158 1787.24,826.343 1794.46,814.469 1801.69,796.368 1808.91,773.315 1816.13,760.164 1823.35,738.716 1830.57,726.33 1837.79,703.087 1845.01,702.201 1852.24,697.875 1859.46,696.069 1866.68,681.054 1873.9,682.346 1881.12,674.62 1888.34,665.318 1895.56,655.667 1902.79,642.795 1910.01,640.134 1917.23,635.461 1924.45,632.608 1931.67,617.416 1938.89,608.938 1946.12,589.563 1953.34,578.943 1960.56,579.521 1967.78,571.025 1975,567.454 1982.22,557.844 1989.44,538.74 1996.67,524.992 2003.89,511.378 2011.11,504.596 2018.33,492.13 2025.55,474.157 2032.77,471.906 2039.99,458.965 2047.22,448.407 2054.44,446.247 2061.66,444.213 2068.88,437.043 2076.1,426.168 2083.32,418.342 2090.54,413.945 2097.77,406.691 2104.99,400.53 2112.21,394.591 2119.43,385.048 2126.65,372.387 2133.87,366.719 2141.09,356.283 2148.32,347.327 2155.54,335.87 2162.76,324.073 2169.98,317.328 2177.2,303.477 2184.42,293.325 2191.65,283.166 2198.87,272.699 2206.09,265.86 2213.31,255.943 2220.53,248.449 2227.75,238.726 2234.97,228.67 2242.2,218.25 2249.42,208.952 2256.64,201.476 2263.86,193.229 2271.08,185.537 2278.3,176.977 2285.52,169.163 2292.75,160.256 \"/>\n<path clip-path=\"url(#clip370)\" d=\"M2027.42 374.156 L2282.08 374.156 L2282.08 166.796 L2027.42 166.796  Z\" fill=\"#ffffff\" fill-rule=\"evenodd\" fill-opacity=\"1\"/>\n<polyline clip-path=\"url(#clip370)\" style=\"stroke:#000000; stroke-linecap:round; stroke-linejoin:round; stroke-width:4; stroke-opacity:1; fill:none\" points=\"2027.42,374.156 2282.08,374.156 2282.08,166.796 2027.42,166.796 2027.42,374.156 \"/>\n<polyline clip-path=\"url(#clip370)\" style=\"stroke:#009af9; stroke-linecap:round; stroke-linejoin:round; stroke-width:4; stroke-opacity:1; fill:none\" points=\"2050.98,218.636 2192.34,218.636 \"/>\n<path clip-path=\"url(#clip370)\" d=\"M2215.9 225.684 L2215.9 209.99 L2220.16 209.99 L2220.16 225.522 Q2220.16 229.203 2221.6 231.055 Q2223.03 232.883 2225.9 232.883 Q2229.35 232.883 2231.34 230.684 Q2233.36 228.485 2233.36 224.689 L2233.36 209.99 L2237.61 209.99 L2237.61 235.916 L2233.36 235.916 L2233.36 231.934 Q2231.8 234.295 2229.74 235.453 Q2227.71 236.587 2225 236.587 Q2220.53 236.587 2218.22 233.809 Q2215.9 231.031 2215.9 225.684 M2226.62 209.365 L2226.62 209.365 Z\" fill=\"#000000\" fill-rule=\"evenodd\" fill-opacity=\"1\" /><path clip-path=\"url(#clip370)\" d=\"M2245.53 233.369 L2250.25 233.369 L2250.25 219.226 L2245.09 220.175 L2245.09 217.49 L2250.42 216.587 L2253.59 216.587 L2253.59 233.369 L2258.33 233.369 L2258.33 235.916 L2245.53 235.916 L2245.53 233.369 Z\" fill=\"#000000\" fill-rule=\"evenodd\" fill-opacity=\"1\" /><polyline clip-path=\"url(#clip370)\" style=\"stroke:#e26f46; stroke-linecap:round; stroke-linejoin:round; stroke-width:4; stroke-opacity:1; fill:none\" points=\"2050.98,270.476 2192.34,270.476 \"/>\n<path clip-path=\"url(#clip370)\" d=\"M2215.9 277.524 L2215.9 261.83 L2220.16 261.83 L2220.16 277.362 Q2220.16 281.043 2221.6 282.895 Q2223.03 284.723 2225.9 284.723 Q2229.35 284.723 2231.34 282.524 Q2233.36 280.325 2233.36 276.529 L2233.36 261.83 L2237.61 261.83 L2237.61 287.756 L2233.36 287.756 L2233.36 283.774 Q2231.8 286.135 2229.74 287.293 Q2227.71 288.427 2225 288.427 Q2220.53 288.427 2218.22 285.649 Q2215.9 282.871 2215.9 277.524 M2226.62 261.205 L2226.62 261.205 Z\" fill=\"#000000\" fill-rule=\"evenodd\" fill-opacity=\"1\" /><path clip-path=\"url(#clip370)\" d=\"M2248.12 285.117 L2257.94 285.117 L2257.94 287.756 L2244.1 287.756 L2244.1 285.209 Q2244.88 284.492 2246.34 283.196 Q2254.3 276.135 2254.3 273.959 Q2254.3 272.432 2253.1 271.506 Q2251.9 270.557 2249.93 270.557 Q2248.73 270.557 2247.31 270.973 Q2245.9 271.367 2244.24 272.177 L2244.24 269.33 Q2246.02 268.682 2247.55 268.358 Q2249.1 268.034 2250.42 268.034 Q2253.77 268.034 2255.79 269.561 Q2257.8 271.089 2257.8 273.589 Q2257.8 276.807 2250.14 283.381 Q2248.84 284.492 2248.12 285.117 Z\" fill=\"#000000\" fill-rule=\"evenodd\" fill-opacity=\"1\" /><polyline clip-path=\"url(#clip370)\" style=\"stroke:#3da44d; stroke-linecap:round; stroke-linejoin:round; stroke-width:4; stroke-opacity:1; fill:none\" points=\"2050.98,322.316 2192.34,322.316 \"/>\n<path clip-path=\"url(#clip370)\" d=\"M2215.9 329.364 L2215.9 313.67 L2220.16 313.67 L2220.16 329.202 Q2220.16 332.883 2221.6 334.735 Q2223.03 336.563 2225.9 336.563 Q2229.35 336.563 2231.34 334.364 Q2233.36 332.165 2233.36 328.369 L2233.36 313.67 L2237.61 313.67 L2237.61 339.596 L2233.36 339.596 L2233.36 335.614 Q2231.8 337.975 2229.74 339.133 Q2227.71 340.267 2225 340.267 Q2220.53 340.267 2218.22 337.489 Q2215.9 334.711 2215.9 329.364 M2226.62 313.045 L2226.62 313.045 Z\" fill=\"#000000\" fill-rule=\"evenodd\" fill-opacity=\"1\" /><path clip-path=\"url(#clip370)\" d=\"M2254.05 329.133 Q2256.18 329.549 2257.34 330.823 Q2258.52 332.073 2258.52 333.971 Q2258.52 336.841 2256.32 338.392 Q2254.12 339.943 2250.02 339.943 Q2248.7 339.943 2247.24 339.688 Q2245.81 339.457 2244.19 338.994 L2244.19 336.193 Q2245.39 336.818 2246.76 337.119 Q2248.15 337.42 2249.7 337.42 Q2252.22 337.42 2253.61 336.517 Q2255 335.591 2255 333.971 Q2255 332.258 2253.7 331.378 Q2252.43 330.499 2249.93 330.499 L2247.94 330.499 L2247.94 327.999 L2250.11 327.999 Q2252.29 327.999 2253.4 327.281 Q2254.54 326.54 2254.54 325.151 Q2254.54 323.809 2253.38 323.114 Q2252.22 322.397 2250.02 322.397 Q2249.1 322.397 2247.92 322.605 Q2246.74 322.813 2244.86 323.346 L2244.86 320.684 Q2246.55 320.29 2248.03 320.082 Q2249.51 319.874 2250.79 319.874 Q2254.12 319.874 2256.06 321.239 Q2258.03 322.605 2258.03 324.897 Q2258.03 326.494 2256.99 327.605 Q2255.95 328.716 2254.05 329.133 Z\" fill=\"#000000\" fill-rule=\"evenodd\" fill-opacity=\"1\" /></svg>\n"
     },
     "metadata": {},
     "output_type": "display_data"
    },
    {
     "data": {
      "image/svg+xml": "<?xml version=\"1.0\" encoding=\"utf-8\"?>\n<svg xmlns=\"http://www.w3.org/2000/svg\" xmlns:xlink=\"http://www.w3.org/1999/xlink\" width=\"600\" height=\"400\" viewBox=\"0 0 2400 1600\">\n<defs>\n  <clipPath id=\"clip410\">\n    <rect x=\"0\" y=\"0\" width=\"2400\" height=\"1600\"/>\n  </clipPath>\n</defs>\n<path clip-path=\"url(#clip410)\" d=\"M0 1600 L2400 1600 L2400 0 L0 0  Z\" fill=\"#ffffff\" fill-rule=\"evenodd\" fill-opacity=\"1\"/>\n<defs>\n  <clipPath id=\"clip411\">\n    <rect x=\"480\" y=\"0\" width=\"1681\" height=\"1600\"/>\n  </clipPath>\n</defs>\n<path clip-path=\"url(#clip410)\" d=\"M210.977 1423.18 L2352.76 1423.18 L2352.76 123.472 L210.977 123.472  Z\" fill=\"#ffffff\" fill-rule=\"evenodd\" fill-opacity=\"1\"/>\n<defs>\n  <clipPath id=\"clip412\">\n    <rect x=\"210\" y=\"123\" width=\"2143\" height=\"1301\"/>\n  </clipPath>\n</defs>\n<polyline clip-path=\"url(#clip412)\" style=\"stroke:#000000; stroke-linecap:round; stroke-linejoin:round; stroke-width:2; stroke-opacity:0.1; fill:none\" points=\"271.594,1423.18 271.594,123.472 \"/>\n<polyline clip-path=\"url(#clip412)\" style=\"stroke:#000000; stroke-linecap:round; stroke-linejoin:round; stroke-width:2; stroke-opacity:0.1; fill:none\" points=\"633.699,1423.18 633.699,123.472 \"/>\n<polyline clip-path=\"url(#clip412)\" style=\"stroke:#000000; stroke-linecap:round; stroke-linejoin:round; stroke-width:2; stroke-opacity:0.1; fill:none\" points=\"995.804,1423.18 995.804,123.472 \"/>\n<polyline clip-path=\"url(#clip412)\" style=\"stroke:#000000; stroke-linecap:round; stroke-linejoin:round; stroke-width:2; stroke-opacity:0.1; fill:none\" points=\"1357.91,1423.18 1357.91,123.472 \"/>\n<polyline clip-path=\"url(#clip412)\" style=\"stroke:#000000; stroke-linecap:round; stroke-linejoin:round; stroke-width:2; stroke-opacity:0.1; fill:none\" points=\"1720.01,1423.18 1720.01,123.472 \"/>\n<polyline clip-path=\"url(#clip412)\" style=\"stroke:#000000; stroke-linecap:round; stroke-linejoin:round; stroke-width:2; stroke-opacity:0.1; fill:none\" points=\"2082.12,1423.18 2082.12,123.472 \"/>\n<polyline clip-path=\"url(#clip410)\" style=\"stroke:#000000; stroke-linecap:round; stroke-linejoin:round; stroke-width:4; stroke-opacity:1; fill:none\" points=\"210.977,1423.18 2352.76,1423.18 \"/>\n<polyline clip-path=\"url(#clip410)\" style=\"stroke:#000000; stroke-linecap:round; stroke-linejoin:round; stroke-width:4; stroke-opacity:1; fill:none\" points=\"271.594,1423.18 271.594,1404.28 \"/>\n<polyline clip-path=\"url(#clip410)\" style=\"stroke:#000000; stroke-linecap:round; stroke-linejoin:round; stroke-width:4; stroke-opacity:1; fill:none\" points=\"633.699,1423.18 633.699,1404.28 \"/>\n<polyline clip-path=\"url(#clip410)\" style=\"stroke:#000000; stroke-linecap:round; stroke-linejoin:round; stroke-width:4; stroke-opacity:1; fill:none\" points=\"995.804,1423.18 995.804,1404.28 \"/>\n<polyline clip-path=\"url(#clip410)\" style=\"stroke:#000000; stroke-linecap:round; stroke-linejoin:round; stroke-width:4; stroke-opacity:1; fill:none\" points=\"1357.91,1423.18 1357.91,1404.28 \"/>\n<polyline clip-path=\"url(#clip410)\" style=\"stroke:#000000; stroke-linecap:round; stroke-linejoin:round; stroke-width:4; stroke-opacity:1; fill:none\" points=\"1720.01,1423.18 1720.01,1404.28 \"/>\n<polyline clip-path=\"url(#clip410)\" style=\"stroke:#000000; stroke-linecap:round; stroke-linejoin:round; stroke-width:4; stroke-opacity:1; fill:none\" points=\"2082.12,1423.18 2082.12,1404.28 \"/>\n<path clip-path=\"url(#clip410)\" d=\"M248.978 1454.1 Q245.367 1454.1 243.538 1457.66 Q241.733 1461.2 241.733 1468.33 Q241.733 1475.44 243.538 1479.01 Q245.367 1482.55 248.978 1482.55 Q252.612 1482.55 254.418 1479.01 Q256.247 1475.44 256.247 1468.33 Q256.247 1461.2 254.418 1457.66 Q252.612 1454.1 248.978 1454.1 M248.978 1450.39 Q254.788 1450.39 257.844 1455 Q260.923 1459.58 260.923 1468.33 Q260.923 1477.06 257.844 1481.67 Q254.788 1486.25 248.978 1486.25 Q243.168 1486.25 240.089 1481.67 Q237.034 1477.06 237.034 1468.33 Q237.034 1459.58 240.089 1455 Q243.168 1450.39 248.978 1450.39 Z\" fill=\"#000000\" fill-rule=\"evenodd\" fill-opacity=\"1\" /><path clip-path=\"url(#clip410)\" d=\"M269.14 1479.7 L274.024 1479.7 L274.024 1485.58 L269.14 1485.58 L269.14 1479.7 Z\" fill=\"#000000\" fill-rule=\"evenodd\" fill-opacity=\"1\" /><path clip-path=\"url(#clip410)\" d=\"M294.209 1454.1 Q290.598 1454.1 288.77 1457.66 Q286.964 1461.2 286.964 1468.33 Q286.964 1475.44 288.77 1479.01 Q290.598 1482.55 294.209 1482.55 Q297.844 1482.55 299.649 1479.01 Q301.478 1475.44 301.478 1468.33 Q301.478 1461.2 299.649 1457.66 Q297.844 1454.1 294.209 1454.1 M294.209 1450.39 Q300.02 1450.39 303.075 1455 Q306.154 1459.58 306.154 1468.33 Q306.154 1477.06 303.075 1481.67 Q300.02 1486.25 294.209 1486.25 Q288.399 1486.25 285.321 1481.67 Q282.265 1477.06 282.265 1468.33 Q282.265 1459.58 285.321 1455 Q288.399 1450.39 294.209 1450.39 Z\" fill=\"#000000\" fill-rule=\"evenodd\" fill-opacity=\"1\" /><path clip-path=\"url(#clip410)\" d=\"M605.435 1481.64 L621.754 1481.64 L621.754 1485.58 L599.81 1485.58 L599.81 1481.64 Q602.472 1478.89 607.055 1474.26 Q611.662 1469.61 612.842 1468.27 Q615.088 1465.74 615.967 1464.01 Q616.87 1462.25 616.87 1460.56 Q616.87 1457.8 614.926 1456.07 Q613.004 1454.33 609.903 1454.33 Q607.704 1454.33 605.25 1455.09 Q602.819 1455.86 600.042 1457.41 L600.042 1452.69 Q602.866 1451.55 605.319 1450.97 Q607.773 1450.39 609.81 1450.39 Q615.18 1450.39 618.375 1453.08 Q621.569 1455.77 621.569 1460.26 Q621.569 1462.39 620.759 1464.31 Q619.972 1466.2 617.866 1468.8 Q617.287 1469.47 614.185 1472.69 Q611.083 1475.88 605.435 1481.64 Z\" fill=\"#000000\" fill-rule=\"evenodd\" fill-opacity=\"1\" /><path clip-path=\"url(#clip410)\" d=\"M631.569 1479.7 L636.453 1479.7 L636.453 1485.58 L631.569 1485.58 L631.569 1479.7 Z\" fill=\"#000000\" fill-rule=\"evenodd\" fill-opacity=\"1\" /><path clip-path=\"url(#clip410)\" d=\"M646.685 1451.02 L665.041 1451.02 L665.041 1454.96 L650.967 1454.96 L650.967 1463.43 Q651.986 1463.08 653.004 1462.92 Q654.023 1462.73 655.041 1462.73 Q660.828 1462.73 664.208 1465.9 Q667.587 1469.08 667.587 1474.49 Q667.587 1480.07 664.115 1483.17 Q660.643 1486.25 654.324 1486.25 Q652.148 1486.25 649.879 1485.88 Q647.634 1485.51 645.226 1484.77 L645.226 1480.07 Q647.31 1481.2 649.532 1481.76 Q651.754 1482.32 654.231 1482.32 Q658.236 1482.32 660.574 1480.21 Q662.912 1478.1 662.912 1474.49 Q662.912 1470.88 660.574 1468.77 Q658.236 1466.67 654.231 1466.67 Q652.356 1466.67 650.481 1467.08 Q648.629 1467.5 646.685 1468.38 L646.685 1451.02 Z\" fill=\"#000000\" fill-rule=\"evenodd\" fill-opacity=\"1\" /><path clip-path=\"url(#clip410)\" d=\"M962.968 1451.02 L981.325 1451.02 L981.325 1454.96 L967.251 1454.96 L967.251 1463.43 Q968.269 1463.08 969.288 1462.92 Q970.306 1462.73 971.325 1462.73 Q977.112 1462.73 980.491 1465.9 Q983.871 1469.08 983.871 1474.49 Q983.871 1480.07 980.399 1483.17 Q976.927 1486.25 970.607 1486.25 Q968.431 1486.25 966.163 1485.88 Q963.917 1485.51 961.51 1484.77 L961.51 1480.07 Q963.593 1481.2 965.815 1481.76 Q968.038 1482.32 970.515 1482.32 Q974.519 1482.32 976.857 1480.21 Q979.195 1478.1 979.195 1474.49 Q979.195 1470.88 976.857 1468.77 Q974.519 1466.67 970.515 1466.67 Q968.64 1466.67 966.765 1467.08 Q964.913 1467.5 962.968 1468.38 L962.968 1451.02 Z\" fill=\"#000000\" fill-rule=\"evenodd\" fill-opacity=\"1\" /><path clip-path=\"url(#clip410)\" d=\"M993.084 1479.7 L997.968 1479.7 L997.968 1485.58 L993.084 1485.58 L993.084 1479.7 Z\" fill=\"#000000\" fill-rule=\"evenodd\" fill-opacity=\"1\" /><path clip-path=\"url(#clip410)\" d=\"M1018.15 1454.1 Q1014.54 1454.1 1012.71 1457.66 Q1010.91 1461.2 1010.91 1468.33 Q1010.91 1475.44 1012.71 1479.01 Q1014.54 1482.55 1018.15 1482.55 Q1021.79 1482.55 1023.59 1479.01 Q1025.42 1475.44 1025.42 1468.33 Q1025.42 1461.2 1023.59 1457.66 Q1021.79 1454.1 1018.15 1454.1 M1018.15 1450.39 Q1023.96 1450.39 1027.02 1455 Q1030.1 1459.58 1030.1 1468.33 Q1030.1 1477.06 1027.02 1481.67 Q1023.96 1486.25 1018.15 1486.25 Q1012.34 1486.25 1009.26 1481.67 Q1006.21 1477.06 1006.21 1468.33 Q1006.21 1459.58 1009.26 1455 Q1012.34 1450.39 1018.15 1450.39 Z\" fill=\"#000000\" fill-rule=\"evenodd\" fill-opacity=\"1\" /><path clip-path=\"url(#clip410)\" d=\"M1324.23 1451.02 L1346.45 1451.02 L1346.45 1453.01 L1333.9 1485.58 L1329.02 1485.58 L1340.83 1454.96 L1324.23 1454.96 L1324.23 1451.02 Z\" fill=\"#000000\" fill-rule=\"evenodd\" fill-opacity=\"1\" /><path clip-path=\"url(#clip410)\" d=\"M1355.57 1479.7 L1360.45 1479.7 L1360.45 1485.58 L1355.57 1485.58 L1355.57 1479.7 Z\" fill=\"#000000\" fill-rule=\"evenodd\" fill-opacity=\"1\" /><path clip-path=\"url(#clip410)\" d=\"M1370.69 1451.02 L1389.04 1451.02 L1389.04 1454.96 L1374.97 1454.96 L1374.97 1463.43 Q1375.99 1463.08 1377.01 1462.92 Q1378.02 1462.73 1379.04 1462.73 Q1384.83 1462.73 1388.21 1465.9 Q1391.59 1469.08 1391.59 1474.49 Q1391.59 1480.07 1388.12 1483.17 Q1384.64 1486.25 1378.33 1486.25 Q1376.15 1486.25 1373.88 1485.88 Q1371.64 1485.51 1369.23 1484.77 L1369.23 1480.07 Q1371.31 1481.2 1373.53 1481.76 Q1375.76 1482.32 1378.23 1482.32 Q1382.24 1482.32 1384.58 1480.21 Q1386.91 1478.1 1386.91 1474.49 Q1386.91 1470.88 1384.58 1468.77 Q1382.24 1466.67 1378.23 1466.67 Q1376.36 1466.67 1374.48 1467.08 Q1372.63 1467.5 1370.69 1468.38 L1370.69 1451.02 Z\" fill=\"#000000\" fill-rule=\"evenodd\" fill-opacity=\"1\" /><path clip-path=\"url(#clip410)\" d=\"M1672.09 1481.64 L1679.72 1481.64 L1679.72 1455.28 L1671.41 1456.95 L1671.41 1452.69 L1679.68 1451.02 L1684.35 1451.02 L1684.35 1481.64 L1691.99 1481.64 L1691.99 1485.58 L1672.09 1485.58 L1672.09 1481.64 Z\" fill=\"#000000\" fill-rule=\"evenodd\" fill-opacity=\"1\" /><path clip-path=\"url(#clip410)\" d=\"M1711.44 1454.1 Q1707.83 1454.1 1706 1457.66 Q1704.19 1461.2 1704.19 1468.33 Q1704.19 1475.44 1706 1479.01 Q1707.83 1482.55 1711.44 1482.55 Q1715.07 1482.55 1716.88 1479.01 Q1718.71 1475.44 1718.71 1468.33 Q1718.71 1461.2 1716.88 1457.66 Q1715.07 1454.1 1711.44 1454.1 M1711.44 1450.39 Q1717.25 1450.39 1720.3 1455 Q1723.38 1459.58 1723.38 1468.33 Q1723.38 1477.06 1720.3 1481.67 Q1717.25 1486.25 1711.44 1486.25 Q1705.63 1486.25 1702.55 1481.67 Q1699.49 1477.06 1699.49 1468.33 Q1699.49 1459.58 1702.55 1455 Q1705.63 1450.39 1711.44 1450.39 Z\" fill=\"#000000\" fill-rule=\"evenodd\" fill-opacity=\"1\" /><path clip-path=\"url(#clip410)\" d=\"M1731.6 1479.7 L1736.48 1479.7 L1736.48 1485.58 L1731.6 1485.58 L1731.6 1479.7 Z\" fill=\"#000000\" fill-rule=\"evenodd\" fill-opacity=\"1\" /><path clip-path=\"url(#clip410)\" d=\"M1756.67 1454.1 Q1753.06 1454.1 1751.23 1457.66 Q1749.42 1461.2 1749.42 1468.33 Q1749.42 1475.44 1751.23 1479.01 Q1753.06 1482.55 1756.67 1482.55 Q1760.3 1482.55 1762.11 1479.01 Q1763.94 1475.44 1763.94 1468.33 Q1763.94 1461.2 1762.11 1457.66 Q1760.3 1454.1 1756.67 1454.1 M1756.67 1450.39 Q1762.48 1450.39 1765.53 1455 Q1768.61 1459.58 1768.61 1468.33 Q1768.61 1477.06 1765.53 1481.67 Q1762.48 1486.25 1756.67 1486.25 Q1750.86 1486.25 1747.78 1481.67 Q1744.72 1477.06 1744.72 1468.33 Q1744.72 1459.58 1747.78 1455 Q1750.86 1450.39 1756.67 1450.39 Z\" fill=\"#000000\" fill-rule=\"evenodd\" fill-opacity=\"1\" /><path clip-path=\"url(#clip410)\" d=\"M2034.69 1481.64 L2042.33 1481.64 L2042.33 1455.28 L2034.02 1456.95 L2034.02 1452.69 L2042.28 1451.02 L2046.96 1451.02 L2046.96 1481.64 L2054.6 1481.64 L2054.6 1485.58 L2034.69 1485.58 L2034.69 1481.64 Z\" fill=\"#000000\" fill-rule=\"evenodd\" fill-opacity=\"1\" /><path clip-path=\"url(#clip410)\" d=\"M2068.07 1481.64 L2084.39 1481.64 L2084.39 1485.58 L2062.44 1485.58 L2062.44 1481.64 Q2065.1 1478.89 2069.69 1474.26 Q2074.29 1469.61 2075.48 1468.27 Q2077.72 1465.74 2078.6 1464.01 Q2079.5 1462.25 2079.5 1460.56 Q2079.5 1457.8 2077.56 1456.07 Q2075.64 1454.33 2072.54 1454.33 Q2070.34 1454.33 2067.88 1455.09 Q2065.45 1455.86 2062.67 1457.41 L2062.67 1452.69 Q2065.5 1451.55 2067.95 1450.97 Q2070.41 1450.39 2072.44 1450.39 Q2077.81 1450.39 2081.01 1453.08 Q2084.2 1455.77 2084.2 1460.26 Q2084.2 1462.39 2083.39 1464.31 Q2082.6 1466.2 2080.5 1468.8 Q2079.92 1469.47 2076.82 1472.69 Q2073.72 1475.88 2068.07 1481.64 Z\" fill=\"#000000\" fill-rule=\"evenodd\" fill-opacity=\"1\" /><path clip-path=\"url(#clip410)\" d=\"M2094.2 1479.7 L2099.09 1479.7 L2099.09 1485.58 L2094.2 1485.58 L2094.2 1479.7 Z\" fill=\"#000000\" fill-rule=\"evenodd\" fill-opacity=\"1\" /><path clip-path=\"url(#clip410)\" d=\"M2109.32 1451.02 L2127.67 1451.02 L2127.67 1454.96 L2113.6 1454.96 L2113.6 1463.43 Q2114.62 1463.08 2115.64 1462.92 Q2116.66 1462.73 2117.67 1462.73 Q2123.46 1462.73 2126.84 1465.9 Q2130.22 1469.08 2130.22 1474.49 Q2130.22 1480.07 2126.75 1483.17 Q2123.28 1486.25 2116.96 1486.25 Q2114.78 1486.25 2112.51 1485.88 Q2110.27 1485.51 2107.86 1484.77 L2107.86 1480.07 Q2109.94 1481.2 2112.16 1481.76 Q2114.39 1482.32 2116.86 1482.32 Q2120.87 1482.32 2123.21 1480.21 Q2125.54 1478.1 2125.54 1474.49 Q2125.54 1470.88 2123.21 1468.77 Q2120.87 1466.67 2116.86 1466.67 Q2114.99 1466.67 2113.11 1467.08 Q2111.26 1467.5 2109.32 1468.38 L2109.32 1451.02 Z\" fill=\"#000000\" fill-rule=\"evenodd\" fill-opacity=\"1\" /><path clip-path=\"url(#clip410)\" d=\"M1169.32 1522.27 L1169.32 1532.4 L1181.38 1532.4 L1181.38 1536.95 L1169.32 1536.95 L1169.32 1556.3 Q1169.32 1560.66 1170.5 1561.9 Q1171.71 1563.14 1175.37 1563.14 L1181.38 1563.14 L1181.38 1568.04 L1175.37 1568.04 Q1168.59 1568.04 1166.01 1565.53 Q1163.43 1562.98 1163.43 1556.3 L1163.43 1536.95 L1159.14 1536.95 L1159.14 1532.4 L1163.43 1532.4 L1163.43 1522.27 L1169.32 1522.27 Z\" fill=\"#000000\" fill-rule=\"evenodd\" fill-opacity=\"1\" /><path clip-path=\"url(#clip410)\" d=\"M1189.09 1532.4 L1194.94 1532.4 L1194.94 1568.04 L1189.09 1568.04 L1189.09 1532.4 M1189.09 1518.52 L1194.94 1518.52 L1194.94 1525.93 L1189.09 1525.93 L1189.09 1518.52 Z\" fill=\"#000000\" fill-rule=\"evenodd\" fill-opacity=\"1\" /><path clip-path=\"url(#clip410)\" d=\"M1234.95 1539.24 Q1237.15 1535.29 1240.2 1533.41 Q1243.26 1531.54 1247.4 1531.54 Q1252.97 1531.54 1255.99 1535.45 Q1259.01 1539.33 1259.01 1546.53 L1259.01 1568.04 L1253.13 1568.04 L1253.13 1546.72 Q1253.13 1541.59 1251.31 1539.11 Q1249.5 1536.63 1245.77 1536.63 Q1241.22 1536.63 1238.58 1539.65 Q1235.94 1542.68 1235.94 1547.9 L1235.94 1568.04 L1230.05 1568.04 L1230.05 1546.72 Q1230.05 1541.56 1228.24 1539.11 Q1226.42 1536.63 1222.63 1536.63 Q1218.15 1536.63 1215.5 1539.68 Q1212.86 1542.71 1212.86 1547.9 L1212.86 1568.04 L1206.97 1568.04 L1206.97 1532.4 L1212.86 1532.4 L1212.86 1537.93 Q1214.87 1534.66 1217.67 1533.1 Q1220.47 1531.54 1224.32 1531.54 Q1228.2 1531.54 1230.91 1533.51 Q1233.65 1535.48 1234.95 1539.24 Z\" fill=\"#000000\" fill-rule=\"evenodd\" fill-opacity=\"1\" /><path clip-path=\"url(#clip410)\" d=\"M1301.19 1548.76 L1301.19 1551.62 L1274.26 1551.62 Q1274.64 1557.67 1277.89 1560.85 Q1281.17 1564 1286.99 1564 Q1290.36 1564 1293.52 1563.17 Q1296.7 1562.35 1299.82 1560.69 L1299.82 1566.23 Q1296.67 1567.57 1293.36 1568.27 Q1290.05 1568.97 1286.64 1568.97 Q1278.11 1568.97 1273.11 1564 Q1268.15 1559.04 1268.15 1550.57 Q1268.15 1541.82 1272.86 1536.69 Q1277.6 1531.54 1285.62 1531.54 Q1292.82 1531.54 1296.99 1536.18 Q1301.19 1540.8 1301.19 1548.76 M1295.33 1547.04 Q1295.27 1542.23 1292.62 1539.37 Q1290.01 1536.5 1285.69 1536.5 Q1280.78 1536.5 1277.82 1539.27 Q1274.9 1542.04 1274.45 1547.07 L1295.33 1547.04 Z\" fill=\"#000000\" fill-rule=\"evenodd\" fill-opacity=\"1\" /><path clip-path=\"url(#clip410)\" d=\"M1345.59 1518.58 Q1341.32 1525.9 1339.25 1533.06 Q1337.18 1540.23 1337.18 1547.58 Q1337.18 1554.93 1339.25 1562.16 Q1341.35 1569.35 1345.59 1576.64 L1340.49 1576.64 Q1335.72 1569.16 1333.33 1561.93 Q1330.98 1554.71 1330.98 1547.58 Q1330.98 1540.48 1333.33 1533.29 Q1335.69 1526.09 1340.49 1518.58 L1345.59 1518.58 Z\" fill=\"#000000\" fill-rule=\"evenodd\" fill-opacity=\"1\" /><path clip-path=\"url(#clip410)\" d=\"M1379.68 1533.45 L1379.68 1538.98 Q1377.19 1537.71 1374.52 1537.07 Q1371.85 1536.44 1368.98 1536.44 Q1364.62 1536.44 1362.42 1537.77 Q1360.26 1539.11 1360.26 1541.79 Q1360.26 1543.82 1361.82 1545 Q1363.38 1546.15 1368.09 1547.2 L1370.1 1547.64 Q1376.33 1548.98 1378.94 1551.43 Q1381.59 1553.85 1381.59 1558.21 Q1381.59 1563.17 1377.64 1566.07 Q1373.72 1568.97 1366.85 1568.97 Q1363.98 1568.97 1360.87 1568.39 Q1357.78 1567.85 1354.34 1566.74 L1354.34 1560.69 Q1357.59 1562.38 1360.74 1563.24 Q1363.89 1564.07 1366.98 1564.07 Q1371.11 1564.07 1373.34 1562.66 Q1375.57 1561.23 1375.57 1558.65 Q1375.57 1556.27 1373.95 1554.99 Q1372.36 1553.72 1366.91 1552.54 L1364.88 1552.07 Q1359.43 1550.92 1357.01 1548.56 Q1354.59 1546.18 1354.59 1542.04 Q1354.59 1537.01 1358.16 1534.27 Q1361.72 1531.54 1368.28 1531.54 Q1371.53 1531.54 1374.39 1532.01 Q1377.26 1532.49 1379.68 1533.45 Z\" fill=\"#000000\" fill-rule=\"evenodd\" fill-opacity=\"1\" /><path clip-path=\"url(#clip410)\" d=\"M1389.99 1518.58 L1395.08 1518.58 Q1399.86 1526.09 1402.21 1533.29 Q1404.6 1540.48 1404.6 1547.58 Q1404.6 1554.71 1402.21 1561.93 Q1399.86 1569.16 1395.08 1576.64 L1389.99 1576.64 Q1394.22 1569.35 1396.29 1562.16 Q1398.39 1554.93 1398.39 1547.58 Q1398.39 1540.23 1396.29 1533.06 Q1394.22 1525.9 1389.99 1518.58 Z\" fill=\"#000000\" fill-rule=\"evenodd\" fill-opacity=\"1\" /><polyline clip-path=\"url(#clip412)\" style=\"stroke:#000000; stroke-linecap:round; stroke-linejoin:round; stroke-width:2; stroke-opacity:0.1; fill:none\" points=\"210.977,1343.9 2352.76,1343.9 \"/>\n<polyline clip-path=\"url(#clip412)\" style=\"stroke:#000000; stroke-linecap:round; stroke-linejoin:round; stroke-width:2; stroke-opacity:0.1; fill:none\" points=\"210.977,1114.08 2352.76,1114.08 \"/>\n<polyline clip-path=\"url(#clip412)\" style=\"stroke:#000000; stroke-linecap:round; stroke-linejoin:round; stroke-width:2; stroke-opacity:0.1; fill:none\" points=\"210.977,884.258 2352.76,884.258 \"/>\n<polyline clip-path=\"url(#clip412)\" style=\"stroke:#000000; stroke-linecap:round; stroke-linejoin:round; stroke-width:2; stroke-opacity:0.1; fill:none\" points=\"210.977,654.438 2352.76,654.438 \"/>\n<polyline clip-path=\"url(#clip412)\" style=\"stroke:#000000; stroke-linecap:round; stroke-linejoin:round; stroke-width:2; stroke-opacity:0.1; fill:none\" points=\"210.977,424.617 2352.76,424.617 \"/>\n<polyline clip-path=\"url(#clip412)\" style=\"stroke:#000000; stroke-linecap:round; stroke-linejoin:round; stroke-width:2; stroke-opacity:0.1; fill:none\" points=\"210.977,194.797 2352.76,194.797 \"/>\n<polyline clip-path=\"url(#clip410)\" style=\"stroke:#000000; stroke-linecap:round; stroke-linejoin:round; stroke-width:4; stroke-opacity:1; fill:none\" points=\"210.977,1423.18 210.977,123.472 \"/>\n<polyline clip-path=\"url(#clip410)\" style=\"stroke:#000000; stroke-linecap:round; stroke-linejoin:round; stroke-width:4; stroke-opacity:1; fill:none\" points=\"210.977,1343.9 229.875,1343.9 \"/>\n<polyline clip-path=\"url(#clip410)\" style=\"stroke:#000000; stroke-linecap:round; stroke-linejoin:round; stroke-width:4; stroke-opacity:1; fill:none\" points=\"210.977,1114.08 229.875,1114.08 \"/>\n<polyline clip-path=\"url(#clip410)\" style=\"stroke:#000000; stroke-linecap:round; stroke-linejoin:round; stroke-width:4; stroke-opacity:1; fill:none\" points=\"210.977,884.258 229.875,884.258 \"/>\n<polyline clip-path=\"url(#clip410)\" style=\"stroke:#000000; stroke-linecap:round; stroke-linejoin:round; stroke-width:4; stroke-opacity:1; fill:none\" points=\"210.977,654.438 229.875,654.438 \"/>\n<polyline clip-path=\"url(#clip410)\" style=\"stroke:#000000; stroke-linecap:round; stroke-linejoin:round; stroke-width:4; stroke-opacity:1; fill:none\" points=\"210.977,424.617 229.875,424.617 \"/>\n<polyline clip-path=\"url(#clip410)\" style=\"stroke:#000000; stroke-linecap:round; stroke-linejoin:round; stroke-width:4; stroke-opacity:1; fill:none\" points=\"210.977,194.797 229.875,194.797 \"/>\n<path clip-path=\"url(#clip410)\" d=\"M114.26 1344.35 L143.936 1344.35 L143.936 1348.29 L114.26 1348.29 L114.26 1344.35 Z\" fill=\"#000000\" fill-rule=\"evenodd\" fill-opacity=\"1\" /><path clip-path=\"url(#clip410)\" d=\"M154.075 1326.62 L172.431 1326.62 L172.431 1330.55 L158.357 1330.55 L158.357 1339.03 Q159.376 1338.68 160.394 1338.52 Q161.413 1338.33 162.431 1338.33 Q168.218 1338.33 171.598 1341.5 Q174.977 1344.67 174.977 1350.09 Q174.977 1355.67 171.505 1358.77 Q168.033 1361.85 161.714 1361.85 Q159.538 1361.85 157.269 1361.48 Q155.024 1361.11 152.616 1360.37 L152.616 1355.67 Q154.7 1356.8 156.922 1357.36 Q159.144 1357.92 161.621 1357.92 Q165.626 1357.92 167.964 1355.81 Q170.302 1353.7 170.302 1350.09 Q170.302 1346.48 167.964 1344.37 Q165.626 1342.27 161.621 1342.27 Q159.746 1342.27 157.871 1342.68 Q156.019 1343.1 154.075 1343.98 L154.075 1326.62 Z\" fill=\"#000000\" fill-rule=\"evenodd\" fill-opacity=\"1\" /><path clip-path=\"url(#clip410)\" d=\"M163.033 1099.88 Q159.422 1099.88 157.593 1103.44 Q155.788 1106.98 155.788 1114.11 Q155.788 1121.22 157.593 1124.78 Q159.422 1128.33 163.033 1128.33 Q166.667 1128.33 168.473 1124.78 Q170.302 1121.22 170.302 1114.11 Q170.302 1106.98 168.473 1103.44 Q166.667 1099.88 163.033 1099.88 M163.033 1096.17 Q168.843 1096.17 171.899 1100.78 Q174.977 1105.36 174.977 1114.11 Q174.977 1122.84 171.899 1127.45 Q168.843 1132.03 163.033 1132.03 Q157.223 1132.03 154.144 1127.45 Q151.089 1122.84 151.089 1114.11 Q151.089 1105.36 154.144 1100.78 Q157.223 1096.17 163.033 1096.17 Z\" fill=\"#000000\" fill-rule=\"evenodd\" fill-opacity=\"1\" /><path clip-path=\"url(#clip410)\" d=\"M154.075 866.978 L172.431 866.978 L172.431 870.913 L158.357 870.913 L158.357 879.385 Q159.376 879.038 160.394 878.876 Q161.413 878.691 162.431 878.691 Q168.218 878.691 171.598 881.862 Q174.977 885.034 174.977 890.45 Q174.977 896.029 171.505 899.131 Q168.033 902.209 161.714 902.209 Q159.538 902.209 157.269 901.839 Q155.024 901.469 152.616 900.728 L152.616 896.029 Q154.7 897.163 156.922 897.719 Q159.144 898.274 161.621 898.274 Q165.626 898.274 167.964 896.168 Q170.302 894.061 170.302 890.45 Q170.302 886.839 167.964 884.733 Q165.626 882.626 161.621 882.626 Q159.746 882.626 157.871 883.043 Q156.019 883.459 154.075 884.339 L154.075 866.978 Z\" fill=\"#000000\" fill-rule=\"evenodd\" fill-opacity=\"1\" /><path clip-path=\"url(#clip410)\" d=\"M123.681 667.782 L131.32 667.782 L131.32 641.417 L123.01 643.083 L123.01 638.824 L131.274 637.158 L135.95 637.158 L135.95 667.782 L143.589 667.782 L143.589 671.718 L123.681 671.718 L123.681 667.782 Z\" fill=\"#000000\" fill-rule=\"evenodd\" fill-opacity=\"1\" /><path clip-path=\"url(#clip410)\" d=\"M163.033 640.236 Q159.422 640.236 157.593 643.801 Q155.788 647.343 155.788 654.472 Q155.788 661.579 157.593 665.144 Q159.422 668.685 163.033 668.685 Q166.667 668.685 168.473 665.144 Q170.302 661.579 170.302 654.472 Q170.302 647.343 168.473 643.801 Q166.667 640.236 163.033 640.236 M163.033 636.533 Q168.843 636.533 171.899 641.139 Q174.977 645.722 174.977 654.472 Q174.977 663.199 171.899 667.806 Q168.843 672.389 163.033 672.389 Q157.223 672.389 154.144 667.806 Q151.089 663.199 151.089 654.472 Q151.089 645.722 154.144 641.139 Q157.223 636.533 163.033 636.533 Z\" fill=\"#000000\" fill-rule=\"evenodd\" fill-opacity=\"1\" /><path clip-path=\"url(#clip410)\" d=\"M124.677 437.962 L132.316 437.962 L132.316 411.596 L124.005 413.263 L124.005 409.004 L132.269 407.337 L136.945 407.337 L136.945 437.962 L144.584 437.962 L144.584 441.897 L124.677 441.897 L124.677 437.962 Z\" fill=\"#000000\" fill-rule=\"evenodd\" fill-opacity=\"1\" /><path clip-path=\"url(#clip410)\" d=\"M154.075 407.337 L172.431 407.337 L172.431 411.272 L158.357 411.272 L158.357 419.744 Q159.376 419.397 160.394 419.235 Q161.413 419.05 162.431 419.05 Q168.218 419.05 171.598 422.221 Q174.977 425.393 174.977 430.809 Q174.977 436.388 171.505 439.49 Q168.033 442.568 161.714 442.568 Q159.538 442.568 157.269 442.198 Q155.024 441.828 152.616 441.087 L152.616 436.388 Q154.7 437.522 156.922 438.078 Q159.144 438.633 161.621 438.633 Q165.626 438.633 167.964 436.527 Q170.302 434.42 170.302 430.809 Q170.302 427.198 167.964 425.092 Q165.626 422.985 161.621 422.985 Q159.746 422.985 157.871 423.402 Q156.019 423.818 154.075 424.698 L154.075 407.337 Z\" fill=\"#000000\" fill-rule=\"evenodd\" fill-opacity=\"1\" /><path clip-path=\"url(#clip410)\" d=\"M126.899 208.141 L143.218 208.141 L143.218 212.077 L121.274 212.077 L121.274 208.141 Q123.936 205.387 128.519 200.757 Q133.126 196.104 134.306 194.762 Q136.552 192.239 137.431 190.503 Q138.334 188.743 138.334 187.054 Q138.334 184.299 136.39 182.563 Q134.468 180.827 131.367 180.827 Q129.167 180.827 126.714 181.591 Q124.283 182.355 121.505 183.905 L121.505 179.183 Q124.33 178.049 126.783 177.47 Q129.237 176.892 131.274 176.892 Q136.644 176.892 139.839 179.577 Q143.033 182.262 143.033 186.753 Q143.033 188.882 142.223 190.804 Q141.436 192.702 139.329 195.294 Q138.751 195.966 135.649 199.183 Q132.547 202.378 126.899 208.141 Z\" fill=\"#000000\" fill-rule=\"evenodd\" fill-opacity=\"1\" /><path clip-path=\"url(#clip410)\" d=\"M163.033 180.595 Q159.422 180.595 157.593 184.16 Q155.788 187.702 155.788 194.831 Q155.788 201.938 157.593 205.503 Q159.422 209.044 163.033 209.044 Q166.667 209.044 168.473 205.503 Q170.302 201.938 170.302 194.831 Q170.302 187.702 168.473 184.16 Q166.667 180.595 163.033 180.595 M163.033 176.892 Q168.843 176.892 171.899 181.498 Q174.977 186.081 174.977 194.831 Q174.977 203.558 171.899 208.165 Q168.843 212.748 163.033 212.748 Q157.223 212.748 154.144 208.165 Q151.089 203.558 151.089 194.831 Q151.089 186.081 154.144 181.498 Q157.223 176.892 163.033 176.892 Z\" fill=\"#000000\" fill-rule=\"evenodd\" fill-opacity=\"1\" /><path clip-path=\"url(#clip410)\" d=\"M28.3562 756.711 L45.7028 769.602 L64.0042 756.043 L64.0042 762.95 L49.9996 773.326 L64.0042 783.702 L64.0042 790.609 L45.3526 776.763 L28.3562 789.431 L28.3562 782.524 L41.0558 773.071 L28.3562 763.618 L28.3562 756.711 Z\" fill=\"#000000\" fill-rule=\"evenodd\" fill-opacity=\"1\" /><path clip-path=\"url(#clip410)\" d=\"M1054.21 14.0809 L1054.21 22.0612 Q1049.55 19.8332 1045.42 18.7395 Q1041.28 17.6457 1037.44 17.6457 Q1030.75 17.6457 1027.11 20.2383 Q1023.5 22.8309 1023.5 27.611 Q1023.5 31.6214 1025.89 33.6873 Q1028.32 35.7128 1035.05 36.9686 L1039.99 37.9813 Q1049.14 39.7232 1053.48 44.1387 Q1057.85 48.5136 1057.85 55.8863 Q1057.85 64.6767 1051.94 69.2137 Q1046.06 73.7508 1034.68 73.7508 Q1030.39 73.7508 1025.53 72.7785 Q1020.7 71.8063 1015.52 69.9024 L1015.52 61.4765 Q1020.5 64.2716 1025.28 65.6895 Q1030.06 67.1073 1034.68 67.1073 Q1041.69 67.1073 1045.5 64.3527 Q1049.3 61.598 1049.3 56.4939 Q1049.3 52.0379 1046.55 49.5264 Q1043.84 47.0148 1037.6 45.759 L1032.61 44.7868 Q1023.46 42.9639 1019.37 39.075 Q1015.28 35.1862 1015.28 28.2591 Q1015.28 20.2383 1020.91 15.6203 Q1026.58 11.0023 1036.5 11.0023 Q1040.76 11.0023 1045.17 11.7719 Q1049.59 12.5416 1054.21 14.0809 Z\" fill=\"#000000\" fill-rule=\"evenodd\" fill-opacity=\"1\" /><path clip-path=\"url(#clip410)\" d=\"M1077.66 14.324 L1077.66 27.2059 L1093.01 27.2059 L1093.01 32.9987 L1077.66 32.9987 L1077.66 57.6282 Q1077.66 63.1779 1079.16 64.7578 Q1080.7 66.3376 1085.36 66.3376 L1093.01 66.3376 L1093.01 72.576 L1085.36 72.576 Q1076.73 72.576 1073.45 69.3758 Q1070.17 66.1351 1070.17 57.6282 L1070.17 32.9987 L1064.7 32.9987 L1064.7 27.2059 L1070.17 27.2059 L1070.17 14.324 L1077.66 14.324 Z\" fill=\"#000000\" fill-rule=\"evenodd\" fill-opacity=\"1\" /><path clip-path=\"url(#clip410)\" d=\"M1123.44 49.7694 Q1114.4 49.7694 1110.92 51.8354 Q1107.43 53.9013 1107.43 58.8839 Q1107.43 62.8538 1110.03 65.2034 Q1112.66 67.5124 1117.16 67.5124 Q1123.35 67.5124 1127.08 63.1374 Q1130.85 58.7219 1130.85 51.4303 L1130.85 49.7694 L1123.44 49.7694 M1138.3 46.6907 L1138.3 72.576 L1130.85 72.576 L1130.85 65.6895 Q1128.3 69.8214 1124.49 71.8063 Q1120.68 73.7508 1115.17 73.7508 Q1108.2 73.7508 1104.07 69.8619 Q1099.98 65.9325 1099.98 59.3701 Q1099.98 51.7138 1105.09 47.825 Q1110.23 43.9361 1120.4 43.9361 L1130.85 43.9361 L1130.85 43.2069 Q1130.85 38.0623 1127.45 35.2672 Q1124.08 32.4315 1117.97 32.4315 Q1114.08 32.4315 1110.39 33.3632 Q1106.71 34.295 1103.3 36.1584 L1103.3 29.2718 Q1107.39 27.692 1111.24 26.9223 Q1115.09 26.1121 1118.74 26.1121 Q1128.58 26.1121 1133.44 31.2163 Q1138.3 36.3204 1138.3 46.6907 Z\" fill=\"#000000\" fill-rule=\"evenodd\" fill-opacity=\"1\" /><path clip-path=\"url(#clip410)\" d=\"M1161.03 14.324 L1161.03 27.2059 L1176.38 27.2059 L1176.38 32.9987 L1161.03 32.9987 L1161.03 57.6282 Q1161.03 63.1779 1162.53 64.7578 Q1164.07 66.3376 1168.72 66.3376 L1176.38 66.3376 L1176.38 72.576 L1168.72 72.576 Q1160.1 72.576 1156.82 69.3758 Q1153.53 66.1351 1153.53 57.6282 L1153.53 32.9987 L1148.07 32.9987 L1148.07 27.2059 L1153.53 27.2059 L1153.53 14.324 L1161.03 14.324 Z\" fill=\"#000000\" fill-rule=\"evenodd\" fill-opacity=\"1\" /><path clip-path=\"url(#clip410)\" d=\"M1224.99 48.0275 L1224.99 51.6733 L1190.72 51.6733 Q1191.21 59.3701 1195.34 63.421 Q1199.51 67.4314 1206.92 67.4314 Q1211.22 67.4314 1215.23 66.3781 Q1219.28 65.3249 1223.25 63.2184 L1223.25 70.267 Q1219.24 71.9684 1215.03 72.8596 Q1210.81 73.7508 1206.48 73.7508 Q1195.62 73.7508 1189.26 67.4314 Q1182.94 61.1119 1182.94 50.3365 Q1182.94 39.1965 1188.94 32.6746 Q1194.97 26.1121 1205.18 26.1121 Q1214.34 26.1121 1219.64 32.0264 Q1224.99 37.9003 1224.99 48.0275 M1217.54 45.84 Q1217.46 39.7232 1214.1 36.0774 Q1210.77 32.4315 1205.26 32.4315 Q1199.03 32.4315 1195.26 35.9558 Q1191.53 39.4801 1190.96 45.8805 L1217.54 45.84 Z\" fill=\"#000000\" fill-rule=\"evenodd\" fill-opacity=\"1\" /><path clip-path=\"url(#clip410)\" d=\"M1263.92 12.096 L1272.1 12.096 L1272.1 36.8875 L1301.84 36.8875 L1301.84 12.096 L1310.02 12.096 L1310.02 72.576 L1301.84 72.576 L1301.84 43.7741 L1272.1 43.7741 L1272.1 72.576 L1263.92 72.576 L1263.92 12.096 Z\" fill=\"#000000\" fill-rule=\"evenodd\" fill-opacity=\"1\" /><path clip-path=\"url(#clip410)\" d=\"M1325.98 27.2059 L1333.43 27.2059 L1333.43 72.576 L1325.98 72.576 L1325.98 27.2059 M1325.98 9.54393 L1333.43 9.54393 L1333.43 18.9825 L1325.98 18.9825 L1325.98 9.54393 Z\" fill=\"#000000\" fill-rule=\"evenodd\" fill-opacity=\"1\" /><path clip-path=\"url(#clip410)\" d=\"M1377.95 28.5427 L1377.95 35.5912 Q1374.79 33.9709 1371.39 33.1607 Q1367.99 32.3505 1364.34 32.3505 Q1358.79 32.3505 1356 34.0519 Q1353.24 35.7533 1353.24 39.156 Q1353.24 41.7486 1355.23 43.2475 Q1357.21 44.7058 1363.21 46.0426 L1365.76 46.6097 Q1373.7 48.3111 1377.02 51.4303 Q1380.38 54.509 1380.38 60.0587 Q1380.38 66.3781 1375.36 70.0644 Q1370.38 73.7508 1361.63 73.7508 Q1357.98 73.7508 1354.01 73.0216 Q1350.08 72.3329 1345.71 70.9151 L1345.71 63.2184 Q1349.84 65.3654 1353.85 66.4591 Q1357.86 67.5124 1361.79 67.5124 Q1367.06 67.5124 1369.89 65.73 Q1372.73 63.9071 1372.73 60.6258 Q1372.73 57.5877 1370.66 55.9673 Q1368.64 54.3469 1361.71 52.8481 L1359.12 52.2405 Q1352.19 50.7821 1349.11 47.7845 Q1346.03 44.7463 1346.03 39.4801 Q1346.03 33.0797 1350.57 29.5959 Q1355.11 26.1121 1363.45 26.1121 Q1367.58 26.1121 1371.23 26.7198 Q1374.88 27.3274 1377.95 28.5427 Z\" fill=\"#000000\" fill-rule=\"evenodd\" fill-opacity=\"1\" /><path clip-path=\"url(#clip410)\" d=\"M1399.63 14.324 L1399.63 27.2059 L1414.98 27.2059 L1414.98 32.9987 L1399.63 32.9987 L1399.63 57.6282 Q1399.63 63.1779 1401.13 64.7578 Q1402.66 66.3376 1407.32 66.3376 L1414.98 66.3376 L1414.98 72.576 L1407.32 72.576 Q1398.69 72.576 1395.41 69.3758 Q1392.13 66.1351 1392.13 57.6282 L1392.13 32.9987 L1386.66 32.9987 L1386.66 27.2059 L1392.13 27.2059 L1392.13 14.324 L1399.63 14.324 Z\" fill=\"#000000\" fill-rule=\"evenodd\" fill-opacity=\"1\" /><path clip-path=\"url(#clip410)\" d=\"M1442.36 32.4315 Q1436.37 32.4315 1432.88 37.1306 Q1429.4 41.7891 1429.4 49.9314 Q1429.4 58.0738 1432.84 62.7728 Q1436.33 67.4314 1442.36 67.4314 Q1448.32 67.4314 1451.8 62.7323 Q1455.29 58.0333 1455.29 49.9314 Q1455.29 41.8701 1451.8 37.1711 Q1448.32 32.4315 1442.36 32.4315 M1442.36 26.1121 Q1452.09 26.1121 1457.64 32.4315 Q1463.19 38.7509 1463.19 49.9314 Q1463.19 61.0714 1457.64 67.4314 Q1452.09 73.7508 1442.36 73.7508 Q1432.6 73.7508 1427.05 67.4314 Q1421.54 61.0714 1421.54 49.9314 Q1421.54 38.7509 1427.05 32.4315 Q1432.6 26.1121 1442.36 26.1121 Z\" fill=\"#000000\" fill-rule=\"evenodd\" fill-opacity=\"1\" /><path clip-path=\"url(#clip410)\" d=\"M1501.83 34.1734 Q1500.57 33.4443 1499.08 33.1202 Q1497.62 32.7556 1495.84 32.7556 Q1489.52 32.7556 1486.11 36.8875 Q1482.75 40.9789 1482.75 48.6757 L1482.75 72.576 L1475.26 72.576 L1475.26 27.2059 L1482.75 27.2059 L1482.75 34.2544 Q1485.1 30.1225 1488.87 28.1376 Q1492.64 26.1121 1498.02 26.1121 Q1498.79 26.1121 1499.72 26.2337 Q1500.66 26.3147 1501.79 26.5172 L1501.83 34.1734 Z\" fill=\"#000000\" fill-rule=\"evenodd\" fill-opacity=\"1\" /><path clip-path=\"url(#clip410)\" d=\"M1528.53 76.7889 Q1525.37 84.8907 1522.37 87.3618 Q1519.37 89.8329 1514.35 89.8329 L1508.39 89.8329 L1508.39 83.5945 L1512.77 83.5945 Q1515.85 83.5945 1517.55 82.1361 Q1519.25 80.6778 1521.32 75.2496 L1522.65 71.8468 L1504.3 27.2059 L1512.2 27.2059 L1526.38 62.6918 L1540.56 27.2059 L1548.46 27.2059 L1528.53 76.7889 Z\" fill=\"#000000\" fill-rule=\"evenodd\" fill-opacity=\"1\" /><polyline clip-path=\"url(#clip412)\" style=\"stroke:#009af9; stroke-linecap:round; stroke-linejoin:round; stroke-width:4; stroke-opacity:1; fill:none\" points=\"271.594,927.489 278.836,913.631 286.078,916.301 293.32,921.947 300.562,929.155 307.804,937.162 315.046,940.519 322.288,946.416 329.531,959.888 336.773,966.488 344.015,984.296 351.257,1003.7 358.499,1001.05 365.741,991.41 372.983,991.585 380.225,995.634 387.467,1000.37 394.709,1016.8 401.952,1022.64 409.194,1023.95 416.436,1037.92 423.678,1054.33 430.92,1054.73 438.162,1052.58 445.404,1063.51 452.646,1071.15 459.888,1076.83 467.13,1081.48 474.373,1086.87 481.615,1083.38 488.857,1087.46 496.099,1087.92 503.341,1090.37 510.583,1091.06 517.825,1099.34 525.067,1098.79 532.309,1101.54 539.551,1100.94 546.794,1108.2 554.036,1108.21 561.278,1116.56 568.52,1115.61 575.762,1118.16 583.004,1143.49 590.246,1136.97 597.488,1141.02 604.73,1151.52 611.972,1165.4 619.215,1171.53 626.457,1169.49 633.699,1174.36 640.941,1185.76 648.183,1208.06 655.425,1212 662.667,1210.6 669.909,1209.19 677.151,1215.43 684.393,1216.93 691.636,1223.98 698.878,1222.17 706.12,1219.8 713.362,1224.42 720.604,1229.88 727.846,1232.99 735.088,1227.15 742.33,1231.02 749.572,1228.78 756.814,1230.29 764.057,1233.3 771.299,1227.53 778.541,1225.55 785.783,1214.48 793.025,1212.99 800.267,1221.68 807.509,1226.97 814.751,1237.44 821.993,1247.77 829.235,1243.81 836.478,1232.18 843.72,1229.55 850.962,1218.93 858.204,1209.8 865.446,1203.14 872.688,1209.77 879.93,1208.56 887.172,1207.04 894.414,1207.16 901.656,1210.67 908.899,1217.39 916.141,1221.18 923.383,1224.16 930.625,1220.47 937.867,1218.11 945.109,1222.06 952.351,1216.07 959.593,1217.44 966.835,1217.63 974.077,1219.55 981.32,1219.72 988.562,1226.14 995.804,1227.42 1003.05,1222.35 1010.29,1223.69 1017.53,1224.83 1024.77,1237.16 1032.01,1240.34 1039.26,1241.34 1046.5,1247.81 1053.74,1235.43 1060.98,1245.91 1068.22,1235.94 1075.47,1230 1082.71,1222.54 1089.95,1216.79 1097.19,1206.04 1104.44,1211.93 1111.68,1215.48 1118.92,1220.5 1126.16,1218.57 1133.4,1213.3 1140.65,1198.67 1147.89,1194.69 1155.13,1200.73 1162.37,1186.05 1169.61,1183.93 1176.86,1199.43 1184.1,1197.86 1191.34,1194.98 1198.58,1202.23 1205.82,1210.01 1213.07,1205.23 1220.31,1202.69 1227.55,1201.23 1234.79,1198.76 1242.04,1210.26 1249.28,1221.05 1256.52,1213.41 1263.76,1203.34 1271,1208.79 1278.25,1207.47 1285.49,1204.06 1292.73,1204.15 1299.97,1226.82 1307.21,1213.82 1314.46,1215.11 1321.7,1202.71 1328.94,1207.47 1336.18,1189.61 1343.42,1188.03 1350.67,1181.56 1357.91,1186.17 1365.15,1188.01 1372.39,1187.03 1379.64,1191.92 1386.88,1194.84 1394.12,1188.33 1401.36,1192.95 1408.6,1192.45 1415.85,1200.46 1423.09,1201.85 1430.33,1200.31 1437.57,1203.36 1444.81,1197.43 1452.06,1211 1459.3,1219.04 1466.54,1211.24 1473.78,1212.68 1481.02,1212.66 1488.27,1231.98 1495.51,1236.07 1502.75,1241.05 1509.99,1231.99 1517.23,1218.13 1524.48,1201.81 1531.72,1207.35 1538.96,1199.31 1546.2,1202.36 1553.45,1209.9 1560.69,1224.79 1567.93,1235.86 1575.17,1229.91 1582.41,1225.54 1589.66,1210.64 1596.9,1202.54 1604.14,1204.56 1611.38,1204.89 1618.62,1189.77 1625.87,1200.76 1633.11,1194.78 1640.35,1190.61 1647.59,1189.34 1654.83,1210.54 1662.08,1208.84 1669.32,1184.1 1676.56,1172.97 1683.8,1168.14 1691.05,1173.28 1698.29,1167.94 1705.53,1160.45 1712.77,1138.21 1720.01,1132.17 1727.26,1119.84 1734.5,1111 1741.74,1107.13 1748.98,1107.61 1756.22,1105.6 1763.47,1106.34 1770.71,1108.37 1777.95,1102.11 1785.19,1085.37 1792.43,1077.99 1799.68,1090.31 1806.92,1074.71 1814.16,1084.63 1821.4,1077.06 1828.65,1075.49 1835.89,1076.37 1843.13,1086.71 1850.37,1062.31 1857.61,1053.95 1864.86,1067.2 1872.1,1076.38 1879.34,1074.51 1886.58,1074.03 1893.82,1075.52 1901.07,1086.34 1908.31,1086.49 1915.55,1079.42 1922.79,1072.69 1930.03,1071.21 1937.28,1072.44 1944.52,1076.52 1951.76,1089.68 1959,1104.12 1966.25,1102.65 1973.49,1116.6 1980.73,1122.32 1987.97,1116.99 1995.21,1106.64 2002.46,1117.96 2009.7,1114.43 2016.94,1108.42 2024.18,1102.42 2031.42,1094.48 2038.67,1089.91 2045.91,1096 2053.15,1099.19 2060.39,1099.39 2067.63,1103.91 2074.88,1103.59 2082.12,1103 2089.36,1103.41 2096.6,1106.11 2103.84,1110.1 2111.09,1111.82 2118.33,1118.83 2125.57,1125.68 2132.81,1128.59 2140.06,1126.2 2147.3,1132.11 2154.54,1126.41 2161.78,1124.52 2169.02,1124.15 2176.27,1125.4 2183.51,1120.8 2190.75,1119.44 2197.99,1116.06 2205.23,1115.82 2212.48,1116.86 2219.72,1114.31 2226.96,1111.41 2234.2,1110.29 2241.44,1111.75 2248.69,1112.47 2255.93,1110.96 2263.17,1111.69 2270.41,1113.19 2277.66,1113.43 2284.9,1112.17 2292.14,1112.13 \"/>\n<polyline clip-path=\"url(#clip412)\" style=\"stroke:#e26f46; stroke-linecap:round; stroke-linejoin:round; stroke-width:4; stroke-opacity:1; fill:none\" points=\"271.594,1018.64 278.836,1034.55 286.078,1034.77 293.32,1037.13 300.562,1021.29 307.804,1035.08 315.046,1036.36 322.288,1029.45 329.531,1016.05 336.773,1015.01 344.015,1015.32 351.257,1009.04 358.499,1015.2 365.741,1018.12 372.983,1015.74 380.225,1008.88 387.467,1011.12 394.709,1021.2 401.952,1022.13 409.194,1027.22 416.436,1032.84 423.678,1047.61 430.92,1039.4 438.162,1023.65 445.404,1026.44 452.646,1023.69 459.888,1023.34 467.13,1021.84 474.373,1010.94 481.615,1003.31 488.857,996.38 496.099,981.063 503.341,973.97 510.583,959.477 517.825,952.915 525.067,959.829 532.309,953.306 539.551,948.375 546.794,942.195 554.036,944.436 561.278,935.646 568.52,932.387 575.762,930.471 583.004,923.512 590.246,930.266 597.488,928.27 604.73,923.585 611.972,913.566 619.215,910.353 626.457,915.23 633.699,912.35 640.941,907.65 648.183,913.128 655.425,916.381 662.667,906.377 669.909,904.939 677.151,896.671 684.393,904.352 691.636,905.236 698.878,903.477 706.12,902.738 713.362,906.272 720.604,897.834 727.846,907.482 735.088,909.387 742.33,908.438 749.572,901.668 756.814,897.902 764.057,896.053 771.299,899.463 778.541,896.231 785.783,891.258 793.025,893.958 800.267,891.411 807.509,887.791 814.751,890.955 821.993,887.98 829.235,883.589 836.478,892.262 843.72,899.207 850.962,891.958 858.204,884.438 865.446,872.067 872.688,872.911 879.93,868.482 887.172,871.663 894.414,874.413 901.656,884.834 908.899,878.415 916.141,880.165 923.383,886.311 930.625,887.128 937.867,884.404 945.109,892.79 952.351,887.424 959.593,896.593 966.835,896.685 974.077,898.415 981.32,905.216 988.562,904.111 995.804,898.613 1003.05,896.727 1010.29,900.687 1017.53,894.233 1024.77,888.193 1032.01,877.684 1039.26,870.575 1046.5,884.512 1053.74,887.62 1060.98,890.655 1068.22,890.523 1075.47,892.227 1082.71,884.848 1089.95,871.624 1097.19,865.356 1104.44,872.218 1111.68,883.954 1118.92,891.945 1126.16,905.316 1133.4,903.159 1140.65,909.509 1147.89,914.345 1155.13,919.978 1162.37,917.439 1169.61,929.559 1176.86,935.334 1184.1,945.259 1191.34,944.927 1198.58,948.689 1205.82,949.946 1213.07,948.452 1220.31,948.407 1227.55,943.908 1234.79,939.603 1242.04,927.014 1249.28,925.613 1256.52,923.51 1263.76,927.516 1271,933.003 1278.25,916.66 1285.49,916.618 1292.73,920.615 1299.97,927.844 1307.21,927.125 1314.46,927.449 1321.7,939.321 1328.94,935.516 1336.18,924.911 1343.42,918.804 1350.67,932.578 1357.91,951.351 1365.15,963.167 1372.39,966.439 1379.64,963.793 1386.88,950.612 1394.12,937.687 1401.36,939.802 1408.6,950.395 1415.85,950.949 1423.09,947.078 1430.33,955.105 1437.57,964.267 1444.81,976.227 1452.06,976.806 1459.3,980.669 1466.54,995.55 1473.78,994.601 1481.02,994.912 1488.27,981.688 1495.51,982.415 1502.75,987.081 1509.99,979.351 1517.23,976.51 1524.48,968.566 1531.72,963.516 1538.96,956.683 1546.2,947.088 1553.45,943.911 1560.69,947.544 1567.93,950.284 1575.17,959.381 1582.41,963.226 1589.66,968.101 1596.9,961.697 1604.14,966.46 1611.38,959.783 1618.62,959.458 1625.87,978.457 1633.11,977.213 1640.35,975.757 1647.59,980.684 1654.83,995.007 1662.08,988.688 1669.32,991.028 1676.56,1006.16 1683.8,1026.21 1691.05,1040.79 1698.29,1040.57 1705.53,1040.59 1712.77,1039.15 1720.01,1044.23 1727.26,1042.43 1734.5,1038.12 1741.74,1055.11 1748.98,1056.41 1756.22,1056.57 1763.47,1052.62 1770.71,1057.18 1777.95,1056.39 1785.19,1066.92 1792.43,1068.64 1799.68,1065.22 1806.92,1059.63 1814.16,1062.76 1821.4,1060.51 1828.65,1056.44 1835.89,1039.41 1843.13,1033.98 1850.37,1050.39 1857.61,1051.01 1864.86,1040.53 1872.1,1040.78 1879.34,1033.15 1886.58,1031.67 1893.82,1014.09 1901.07,1020.81 1908.31,1025.9 1915.55,1035.9 1922.79,1052.08 1930.03,1048.71 1937.28,1056.96 1944.52,1051.1 1951.76,1051.86 1959,1055.79 1966.25,1047.92 1973.49,1045.19 1980.73,1042.65 1987.97,1040.13 1995.21,1031.56 2002.46,1043.65 2009.7,1048.16 2016.94,1052.24 2024.18,1048.62 2031.42,1041.93 2038.67,1051.85 2045.91,1052.09 2053.15,1052.54 2060.39,1061.31 2067.63,1060.65 2074.88,1064.2 2082.12,1065.27 2089.36,1065.78 2096.6,1067.56 2103.84,1069.17 2111.09,1072.23 2118.33,1064.84 2125.57,1065.47 2132.81,1066.76 2140.06,1068.95 2147.3,1074.46 2154.54,1072.07 2161.78,1072.31 2169.02,1074.93 2176.27,1080.11 2183.51,1076.28 2190.75,1080.43 2197.99,1084.07 2205.23,1086.04 2212.48,1087.31 2219.72,1087.51 2226.96,1091.59 2234.2,1090.29 2241.44,1091.39 2248.69,1093.37 2255.93,1093.71 2263.17,1095.43 2270.41,1098.02 2277.66,1098.97 2284.9,1098.56 2292.14,1099.4 \"/>\n<polyline clip-path=\"url(#clip412)\" style=\"stroke:#3da44d; stroke-linecap:round; stroke-linejoin:round; stroke-width:4; stroke-opacity:1; fill:none\" points=\"271.594,200.291 278.836,206.873 286.078,214.343 293.32,240.631 300.562,251.953 307.804,262.986 315.046,278.812 322.288,274.504 329.531,295.485 336.773,321.297 344.015,338.191 351.257,358.397 358.499,379.16 365.741,379.437 372.983,391.209 380.225,397.831 387.467,417.826 394.709,415.654 401.952,420.298 409.194,433.368 416.436,449.485 423.678,458.953 430.92,475.991 438.162,482.71 445.404,493.534 452.646,493.158 459.888,485.248 467.13,489.893 474.373,494.091 481.615,496.079 488.857,498.894 496.099,502.509 503.341,503.222 510.583,517.037 517.825,533.031 525.067,539.949 532.309,542.363 539.551,551.011 546.794,549.157 554.036,550.652 561.278,558.55 568.52,559.808 575.762,563.199 583.004,563.18 590.246,562.528 597.488,556.484 604.73,550.49 611.972,555.154 619.215,557.429 626.457,545.657 633.699,540.689 640.941,540.323 648.183,538.286 655.425,551.594 662.667,556.467 669.909,560.483 677.151,557.417 684.393,567.77 691.636,569.207 698.878,572.487 706.12,572.6 713.362,568.677 720.604,572.868 727.846,574.741 735.088,571.212 742.33,569.998 749.572,572.651 756.814,567.211 764.057,565.899 771.299,565.598 778.541,566.497 785.783,565.178 793.025,565.548 800.267,562.045 807.509,558.525 814.751,547.211 821.993,542.252 829.235,535.035 836.478,541.348 843.72,528.291 850.962,524.101 858.204,529.282 865.446,525.223 872.688,520.411 879.93,522.938 887.172,517.279 894.414,507.805 901.656,508.638 908.899,496.013 916.141,493.11 923.383,492.834 930.625,479.03 937.867,469.342 945.109,467.212 952.351,465.047 959.593,465.474 966.835,462.937 974.077,468.937 981.32,460.736 988.562,460.478 995.804,448.903 1003.05,442.646 1010.29,438.791 1017.53,426.096 1024.77,414.176 1032.01,411.975 1039.26,414.657 1046.5,410.801 1053.74,423.925 1060.98,429.429 1068.22,420.449 1075.47,414.605 1082.71,405.512 1089.95,401.185 1097.19,396.095 1104.44,393.654 1111.68,390.812 1118.92,380.417 1126.16,388.591 1133.4,379.026 1140.65,360.141 1147.89,352.153 1155.13,344.214 1162.37,341.695 1169.61,341.586 1176.86,335.956 1184.1,326.579 1191.34,320.229 1198.58,319.306 1205.82,309.311 1213.07,300.951 1220.31,288.579 1227.55,281.079 1234.79,280.1 1242.04,289.182 1249.28,291.464 1256.52,294.363 1263.76,284.116 1271,282.856 1278.25,272.925 1285.49,272.281 1292.73,268.118 1299.97,246.888 1307.21,234.842 1314.46,227.815 1321.7,226.87 1328.94,239.052 1336.18,235.14 1343.42,221.911 1350.67,221.103 1357.91,226.176 1365.15,210.168 1372.39,207.497 1379.64,213.234 1386.88,211.171 1394.12,200.977 1401.36,201.511 1408.6,194.305 1415.85,180.696 1423.09,192.416 1430.33,199.984 1437.57,202.891 1444.81,188.712 1452.06,186.832 1459.3,189.934 1466.54,184.239 1473.78,185.271 1481.02,180.399 1488.27,173.076 1495.51,186.464 1502.75,213.013 1509.99,209.387 1517.23,209.177 1524.48,198.953 1531.72,196.669 1538.96,188.934 1546.2,203.791 1553.45,204.246 1560.69,200.797 1567.93,203.519 1575.17,201.418 1582.41,202.047 1589.66,200.128 1596.9,188.007 1604.14,180.86 1611.38,193.481 1618.62,214.269 1625.87,209.305 1633.11,194.942 1640.35,182.894 1647.59,176.524 1654.83,162.877 1662.08,162.617 1669.32,165.225 1676.56,185.037 1683.8,183.152 1691.05,191.265 1698.29,199.733 1705.53,212.309 1712.77,201.101 1720.01,204.537 1727.26,202.397 1734.5,183.168 1741.74,164.338 1748.98,160.319 1756.22,168.027 1763.47,164.299 1770.71,160.256 1777.95,165.759 1785.19,172.729 1792.43,185.935 1799.68,212.321 1806.92,234.2 1814.16,245.344 1821.4,271.453 1828.65,269.365 1835.89,271.704 1843.13,270.82 1850.37,287.287 1857.61,282.983 1864.86,290.288 1872.1,299.936 1879.34,310.401 1886.58,325.476 1893.82,327.625 1901.07,332.332 1908.31,334.657 1915.55,353.153 1922.79,363.442 1930.03,388.331 1937.28,402.56 1944.52,402.338 1951.76,413.714 1959,418.762 1966.25,431.636 1973.49,457.26 1980.73,476.62 1987.97,496.265 1995.21,507.333 2002.46,525.899 2009.7,552.074 2016.94,558.183 2024.18,578.081 2031.42,595.175 2038.67,601.364 2045.91,607.026 2053.15,619.087 2060.39,635.971 2067.63,648.981 2074.88,657.422 2082.12,669.352 2089.36,679.733 2096.6,689.632 2103.84,704.071 2111.09,722.624 2118.33,732.133 2125.57,747.667 2132.81,761.274 2140.06,778.095 2147.3,795.432 2154.54,806.176 2161.78,826.039 2169.02,841.195 2176.27,856.294 2183.51,871.726 2190.75,882.299 2197.99,896.633 2205.23,907.641 2212.48,921.295 2219.72,935.235 2226.96,949.503 2234.2,962.146 2241.44,972.162 2248.69,982.849 2255.93,992.49 2263.17,1002.92 2270.41,1012.05 2277.66,1022.25 2284.9,1031.24 2292.14,1040.21 \"/>\n<polyline clip-path=\"url(#clip412)\" style=\"stroke:#c271d2; stroke-linecap:round; stroke-linejoin:round; stroke-width:4; stroke-opacity:1; fill:none\" stroke-dasharray=\"16, 10\" points=\"271.594,1251.97 278.836,1250.32 286.078,1249.07 293.32,1247.88 300.562,1246.7 307.804,1245.5 315.046,1244.25 322.288,1243.05 329.531,1241.85 336.773,1240.5 344.015,1239.14 351.257,1237.55 358.499,1235.72 365.741,1234.07 372.983,1232.73 380.225,1231.49 387.467,1230.27 394.709,1229.07 401.952,1227.65 409.194,1226.23 416.436,1224.89 423.678,1223.39 430.92,1221.68 438.162,1220.09 445.404,1218.64 452.646,1217.09 459.888,1215.5 467.13,1213.91 474.373,1212.34 481.615,1210.77 488.857,1209.38 496.099,1208 503.341,1206.7 510.583,1205.45 517.825,1204.27 525.067,1203.01 532.309,1201.84 539.551,1200.71 546.794,1199.66 554.036,1198.54 561.278,1197.5 568.52,1196.37 575.762,1195.33 583.004,1194.31 590.246,1192.87 597.488,1191.64 604.73,1190.4 611.972,1189.05 619.215,1187.5 626.457,1185.93 633.699,1184.48 640.941,1183.02 648.183,1181.42 655.425,1179.54 662.667,1177.63 669.909,1175.85 677.151,1174.19 684.393,1172.49 691.636,1170.86 698.878,1169.17 706.12,1167.61 713.362,1166.17 720.604,1164.71 727.846,1163.22 735.088,1161.75 742.33,1160.46 749.572,1159.16 756.814,1157.96 764.057,1156.8 771.299,1155.63 778.541,1154.62 785.783,1153.7 793.025,1153.03 800.267,1152.42 807.509,1151.67 814.751,1150.85 821.993,1149.87 829.235,1148.73 836.478,1147.72 843.72,1146.97 850.962,1146.29 858.204,1145.85 865.446,1145.59 872.688,1145.47 879.93,1145.21 887.172,1144.98 894.414,1144.78 901.656,1144.58 908.899,1144.31 916.141,1143.91 923.383,1143.45 930.625,1142.94 937.867,1142.52 945.109,1142.15 952.351,1141.7 959.593,1141.38 966.835,1141.03 974.077,1140.68 981.32,1140.3 988.562,1139.92 995.804,1139.41 1003.05,1138.9 1010.29,1138.48 1017.53,1138.04 1024.77,1137.59 1032.01,1136.9 1039.26,1136.17 1046.5,1135.44 1053.74,1134.6 1060.98,1134.01 1068.22,1133.24 1075.47,1132.67 1082.71,1132.23 1089.95,1131.92 1097.19,1131.72 1104.44,1131.71 1111.68,1131.57 1118.92,1131.35 1126.16,1131.02 1133.4,1130.72 1140.65,1130.52 1147.89,1130.58 1155.13,1130.69 1162.37,1130.66 1169.61,1130.89 1176.86,1131.12 1184.1,1131.02 1191.34,1130.94 1198.58,1130.88 1205.82,1130.67 1213.07,1130.3 1220.31,1130.01 1227.55,1129.76 1234.79,1129.53 1242.04,1129.33 1249.28,1128.89 1256.52,1128.25 1263.76,1127.75 1271,1127.45 1278.25,1127.03 1285.49,1126.63 1292.73,1126.29 1299.97,1125.94 1307.21,1125.14 1314.46,1124.61 1321.7,1124.05 1328.94,1123.73 1336.18,1123.3 1343.42,1123.21 1350.67,1123.13 1357.91,1123.15 1365.15,1123.05 1372.39,1122.89 1379.64,1122.74 1386.88,1122.47 1394.12,1122.14 1401.36,1121.92 1408.6,1121.59 1415.85,1121.26 1423.09,1120.77 1430.33,1120.25 1437.57,1119.75 1444.81,1119.2 1452.06,1118.76 1459.3,1118.05 1466.54,1117.2 1473.78,1116.51 1481.02,1115.8 1488.27,1115.09 1495.51,1114.03 1502.75,1112.91 1509.99,1111.73 1517.23,1110.74 1524.48,1110.05 1531.72,1109.67 1538.96,1109.18 1546.2,1108.83 1553.45,1108.42 1560.69,1107.86 1567.93,1107.02 1575.17,1105.98 1582.41,1105.08 1589.66,1104.28 1596.9,1103.78 1604.14,1103.43 1611.38,1103.03 1618.62,1102.62 1625.87,1102.5 1633.11,1102.15 1640.35,1101.9 1647.59,1101.72 1654.83,1101.55 1662.08,1100.96 1669.32,1100.41 1676.56,1100.34 1683.8,1100.45 1691.05,1100.63 1698.29,1100.68 1705.53,1100.81 1712.77,1101.05 1720.01,1101.68 1727.26,1102.38 1734.5,1103.25 1741.74,1104.24 1748.98,1105.17 1756.22,1106.04 1763.47,1106.91 1770.71,1107.72 1777.95,1108.44 1785.19,1109.22 1792.43,1110.23 1799.68,1111.32 1806.92,1112.13 1814.16,1113.19 1821.4,1113.99 1828.65,1114.88 1835.89,1115.73 1843.13,1116.52 1850.37,1117.06 1857.61,1118.01 1864.86,1119.07 1872.1,1119.81 1879.34,1120.32 1886.58,1120.83 1893.82,1121.31 1901.07,1121.73 1908.31,1121.91 1915.55,1122.06 1922.79,1122.33 1930.03,1122.7 1937.28,1123.07 1944.52,1123.39 1951.76,1123.6 1959,1123.54 1966.25,1123.21 1973.49,1122.9 1980.73,1122.34 1987.97,1121.69 1995.21,1121.16 2002.46,1120.85 2009.7,1120.32 2016.94,1119.89 2024.18,1119.58 2031.42,1119.4 2038.67,1119.36 2045.91,1119.42 2053.15,1119.35 2060.39,1119.22 2067.63,1119.09 2074.88,1118.88 2082.12,1118.68 2089.36,1118.5 2096.6,1118.32 2103.84,1118.1 2111.09,1117.81 2118.33,1117.5 2125.57,1117.08 2132.81,1116.55 2140.06,1115.99 2147.3,1115.51 2154.54,1114.94 2161.78,1114.51 2169.02,1114.14 2176.27,1113.81 2183.51,1113.47 2190.75,1113.24 2197.99,1113.05 2205.23,1112.95 2212.48,1112.86 2219.72,1112.77 2226.96,1112.74 2234.2,1112.78 2241.44,1112.85 2248.69,1112.9 2255.93,1112.95 2263.17,1113.03 2270.41,1113.12 2277.66,1113.18 2284.9,1113.25 2292.14,1113.36 \"/>\n<polyline clip-path=\"url(#clip412)\" style=\"stroke:#ac8d18; stroke-linecap:round; stroke-linejoin:round; stroke-width:4; stroke-opacity:1; fill:none\" stroke-dasharray=\"16, 10\" points=\"271.594,1022.15 278.836,1024.09 286.078,1025.75 293.32,1027.31 300.562,1028.75 307.804,1030.4 315.046,1031.71 322.288,1032.92 329.531,1034.19 336.773,1035.66 344.015,1037.06 351.257,1038.39 358.499,1039.76 365.741,1040.95 372.983,1042.02 380.225,1043.08 387.467,1044.22 394.709,1045.26 401.952,1046.06 409.194,1046.81 416.436,1047.42 423.678,1047.89 430.92,1048.06 438.162,1048.38 445.404,1048.98 452.646,1049.5 459.888,1050.06 467.13,1050.6 474.373,1051.14 481.615,1051.86 488.857,1052.7 496.099,1053.64 503.341,1054.82 510.583,1056.09 517.825,1057.58 525.067,1059.13 532.309,1060.48 539.551,1061.9 546.794,1063.34 554.036,1064.84 561.278,1066.24 568.52,1067.74 575.762,1069.23 583.004,1070.7 590.246,1072.23 597.488,1073.57 604.73,1074.9 611.972,1076.25 619.215,1077.74 626.457,1079.22 633.699,1080.55 640.941,1081.87 648.183,1083.23 655.425,1084.4 662.667,1085.48 669.909,1086.71 677.151,1087.92 684.393,1089.22 691.636,1090.33 698.878,1091.37 706.12,1092.4 713.362,1093.41 720.604,1094.3 727.846,1095.31 735.088,1096.1 742.33,1096.82 749.572,1097.52 756.814,1098.32 764.057,1099.16 771.299,1100 778.541,1100.73 785.783,1101.5 793.025,1102.32 800.267,1103.05 807.509,1103.79 814.751,1104.57 821.993,1105.26 829.235,1105.93 836.478,1106.57 843.72,1106.93 850.962,1107.07 858.204,1107.27 865.446,1107.58 872.688,1108.1 879.93,1108.61 887.172,1109.24 894.414,1109.89 901.656,1110.6 908.899,1111.24 916.141,1112.13 923.383,1113.03 930.625,1113.8 937.867,1114.53 945.109,1115.31 952.351,1115.92 959.593,1116.63 966.835,1117.16 974.077,1117.68 981.32,1118.18 988.562,1118.55 995.804,1118.95 1003.05,1119.46 1010.29,1120.01 1017.53,1120.48 1024.77,1121.08 1032.01,1121.8 1039.26,1122.72 1046.5,1123.75 1053.74,1124.49 1060.98,1125.18 1068.22,1125.8 1075.47,1126.42 1082.71,1127.01 1089.95,1127.74 1097.19,1128.72 1104.44,1129.8 1111.68,1130.73 1118.92,1131.42 1126.16,1131.96 1133.4,1132.24 1140.65,1132.59 1147.89,1132.83 1155.13,1132.99 1162.37,1133.07 1169.61,1133.23 1176.86,1133.18 1184.1,1133.05 1191.34,1132.77 1198.58,1132.55 1205.82,1132.29 1213.07,1132.05 1220.31,1131.88 1227.55,1131.76 1234.79,1131.75 1242.04,1131.86 1249.28,1132.23 1256.52,1132.65 1263.76,1133.11 1271,1133.51 1278.25,1133.82 1285.49,1134.45 1292.73,1135.09 1299.97,1135.65 1307.21,1136.08 1314.46,1136.53 1321.7,1136.99 1328.94,1137.23 1336.18,1137.57 1343.42,1138.11 1350.67,1138.78 1357.91,1139.19 1365.15,1139.26 1372.39,1139.12 1379.64,1138.96 1386.88,1138.89 1394.12,1139.11 1401.36,1139.59 1408.6,1140.04 1415.85,1140.3 1423.09,1140.56 1430.33,1140.92 1437.57,1141.13 1444.81,1141.2 1452.06,1141.06 1459.3,1140.94 1466.54,1140.79 1473.78,1140.39 1481.02,1140.06 1488.27,1139.77 1495.51,1139.77 1502.75,1139.79 1509.99,1139.75 1517.23,1139.88 1524.48,1140.09 1531.72,1140.47 1538.96,1140.96 1546.2,1141.58 1553.45,1142.38 1560.69,1143.23 1567.93,1144 1575.17,1144.71 1582.41,1145.24 1589.66,1145.69 1596.9,1146.06 1604.14,1146.56 1611.38,1146.98 1618.62,1147.52 1625.87,1148.08 1633.11,1148.27 1640.35,1148.5 1647.59,1148.77 1654.83,1148.96 1662.08,1148.89 1669.32,1148.97 1676.56,1149.03 1683.8,1148.82 1691.05,1148.26 1698.29,1147.47 1705.53,1146.75 1712.77,1146.09 1720.01,1145.51 1727.26,1144.87 1734.5,1144.33 1741.74,1143.92 1748.98,1143.26 1756.22,1142.62 1763.47,1142.01 1770.71,1141.52 1777.95,1140.98 1785.19,1140.49 1792.43,1139.88 1799.68,1139.28 1806.92,1138.76 1814.16,1138.4 1821.4,1138.02 1828.65,1137.71 1835.89,1137.51 1843.13,1137.66 1850.37,1137.92 1857.61,1137.88 1864.86,1137.84 1872.1,1138.01 1879.34,1138.19 1886.58,1138.52 1893.82,1138.88 1901.07,1139.56 1908.31,1140.1 1915.55,1140.53 1922.79,1140.76 1930.03,1140.69 1937.28,1140.69 1944.52,1140.55 1951.76,1140.53 1959,1140.51 1966.25,1140.43 1973.49,1140.51 1980.73,1140.65 1987.97,1140.84 1995.21,1141.07 2002.46,1141.46 2009.7,1141.62 2016.94,1141.68 2024.18,1141.67 2031.42,1141.73 2038.67,1141.93 2045.91,1141.93 2053.15,1141.92 2060.39,1141.92 2067.63,1141.75 2074.88,1141.6 2082.12,1141.39 2089.36,1141.18 2096.6,1140.97 2103.84,1140.73 2111.09,1140.47 2118.33,1140.17 2125.57,1140.02 2132.81,1139.86 2140.06,1139.69 2147.3,1139.47 2154.54,1139.16 2161.78,1138.91 2169.02,1138.65 2176.27,1138.36 2183.51,1137.97 2190.75,1137.66 2197.99,1137.29 2205.23,1136.86 2212.48,1136.39 2219.72,1135.93 2226.96,1135.46 2234.2,1134.93 2241.44,1134.44 2248.69,1133.95 2255.93,1133.42 2263.17,1132.9 2270.41,1132.36 2277.66,1131.78 2284.9,1131.2 2292.14,1130.63 \"/>\n<polyline clip-path=\"url(#clip412)\" style=\"stroke:#00a9ad; stroke-linecap:round; stroke-linejoin:round; stroke-width:4; stroke-opacity:1; fill:none\" stroke-dasharray=\"16, 10\" points=\"271.594,1343.9 278.836,1338.87 286.078,1334.48 293.32,1330.18 300.562,1325.62 307.804,1321.09 315.046,1316.59 322.288,1312.02 329.531,1307.76 336.773,1303.33 344.015,1298.63 351.257,1293.84 358.499,1288.9 365.741,1283.81 372.983,1278.95 380.225,1274.11 387.467,1269.37 394.709,1264.47 401.952,1259.84 409.194,1255.33 416.436,1250.77 423.678,1246.11 430.92,1241.48 438.162,1236.73 445.404,1232.06 452.646,1227.38 459.888,1222.91 467.13,1218.77 474.373,1214.72 481.615,1210.75 488.857,1206.9 496.099,1203.15 503.341,1199.47 510.583,1195.91 517.825,1192.23 525.067,1188.37 532.309,1184.53 539.551,1180.77 546.794,1176.99 554.036,1173.37 561.278,1169.85 568.52,1166.3 575.762,1162.84 583.004,1159.43 590.246,1156.12 597.488,1152.93 604.73,1149.95 611.972,1147.16 619.215,1144.36 626.457,1141.59 633.699,1139.11 640.941,1136.78 648.183,1134.5 655.425,1132.26 662.667,1129.83 669.909,1127.38 677.151,1124.89 684.393,1122.51 691.636,1119.98 698.878,1117.47 706.12,1114.94 713.362,1112.45 720.604,1110.09 727.846,1107.68 735.088,1105.27 742.33,1102.97 749.572,1100.73 756.814,1098.46 764.057,1096.32 771.299,1094.23 778.541,1092.16 785.783,1090.09 793.025,1088.07 800.267,1086.06 807.509,1084.12 814.751,1082.27 821.993,1080.63 829.235,1079.08 836.478,1077.66 843.72,1076.1 850.962,1074.78 858.204,1073.52 865.446,1072.14 872.688,1070.81 879.93,1069.56 887.172,1068.23 894.414,1066.99 901.656,1065.9 908.899,1064.77 916.141,1063.85 923.383,1062.94 930.625,1061.99 937.867,1061.27 945.109,1060.69 952.351,1060.09 959.593,1059.47 966.835,1058.8 974.077,1058.13 981.32,1057.29 988.562,1056.56 995.804,1055.8 1003.05,1055.21 1010.29,1054.69 1017.53,1054.19 1024.77,1053.88 1032.01,1053.73 1039.26,1053.55 1046.5,1053.26 1053.74,1052.98 1060.98,1052.39 1068.22,1051.65 1075.47,1051.05 1082.71,1050.51 1089.95,1050.1 1097.19,1049.73 1104.44,1049.4 1111.68,1049.07 1118.92,1048.74 1126.16,1048.56 1133.4,1048.17 1140.65,1047.92 1147.89,1047.98 1155.13,1048.13 1162.37,1048.37 1169.61,1048.59 1176.86,1048.75 1184.1,1048.95 1191.34,1049.28 1198.58,1049.65 1205.82,1049.98 1213.07,1050.44 1220.31,1050.99 1227.55,1051.7 1234.79,1052.49 1242.04,1053.21 1249.28,1053.7 1256.52,1054.08 1263.76,1054.36 1271,1054.78 1278.25,1055.18 1285.49,1055.73 1292.73,1056.23 1299.97,1056.77 1307.21,1057.67 1314.46,1058.74 1321.7,1059.87 1328.94,1060.95 1336.18,1061.74 1343.42,1062.56 1350.67,1063.59 1357.91,1064.58 1365.15,1065.43 1372.39,1066.54 1379.64,1067.65 1386.88,1068.62 1394.12,1069.58 1401.36,1070.71 1408.6,1071.79 1415.85,1072.97 1423.09,1074.38 1430.33,1075.52 1437.57,1076.5 1444.81,1077.4 1452.06,1078.57 1459.3,1079.75 1466.54,1080.86 1473.78,1082.07 1481.02,1083.25 1488.27,1084.51 1495.51,1085.91 1502.75,1087.05 1509.99,1087.69 1517.23,1088.43 1524.48,1089.21 1531.72,1090.22 1538.96,1091.29 1546.2,1092.55 1553.45,1093.54 1560.69,1094.57 1567.93,1095.7 1575.17,1096.82 1582.41,1098.03 1589.66,1099.27 1596.9,1100.6 1604.14,1102.2 1611.38,1103.98 1618.62,1105.55 1625.87,1106.78 1633.11,1108.18 1640.35,1109.91 1647.59,1111.92 1654.83,1114.1 1662.08,1116.58 1669.32,1119.1 1676.56,1121.32 1683.8,1122.54 1691.05,1123.14 1698.29,1123.12 1705.53,1122.82 1712.77,1122.66 1720.01,1123.68 1727.26,1126.23 1734.5,1131 1741.74,1138.62 1748.98,1148.79 1756.22,1159.8 1763.47,1170.48 1770.71,1181.04 1777.95,1191.48 1785.19,1201.62 1792.43,1211.3 1799.68,1220.41 1806.92,1229.19 1814.16,1237.43 1821.4,1245.35 1828.65,1252.7 1835.89,1260.02 1843.13,1267.24 1850.37,1274.41 1857.61,1281.2 1864.86,1288.03 1872.1,1294.66 1879.34,1301.06 1886.58,1307.21 1893.82,1313.05 1901.07,1318.81 1908.31,1324.46 1915.55,1330.04 1922.79,1335.24 1930.03,1340.22 1937.28,1344.72 1944.52,1348.95 1951.76,1353.2 1959,1357.23 1966.25,1361.17 1973.49,1364.87 1980.73,1368.1 1987.97,1370.98 1995.21,1373.51 2002.46,1375.88 2009.7,1377.94 2016.94,1379.54 2024.18,1381.09 2031.42,1382.31 2038.67,1383.27 2045.91,1384.17 2053.15,1385.03 2060.39,1385.7 2067.63,1386.1 2074.88,1386.3 2082.12,1386.4 2089.36,1386.31 2096.6,1386.06 2103.84,1385.67 2111.09,1385.04 2118.33,1384.09 2125.57,1383 2132.81,1381.65 2140.06,1380.07 2147.3,1378.2 2154.54,1376.04 2161.78,1373.71 2169.02,1371.03 2176.27,1368.1 2183.51,1364.92 2190.75,1361.47 2197.99,1357.85 2205.23,1353.98 2212.48,1349.92 2219.72,1345.62 2226.96,1341.06 2234.2,1336.25 2241.44,1331.2 2248.69,1325.97 2255.93,1320.52 2263.17,1314.89 2270.41,1309.04 2277.66,1302.99 2284.9,1296.72 2292.14,1290.25 \"/>\n<path clip-path=\"url(#clip410)\" d=\"M2023.9 529.676 L2281.36 529.676 L2281.36 166.796 L2023.9 166.796  Z\" fill=\"#ffffff\" fill-rule=\"evenodd\" fill-opacity=\"1\"/>\n<polyline clip-path=\"url(#clip410)\" style=\"stroke:#000000; stroke-linecap:round; stroke-linejoin:round; stroke-width:4; stroke-opacity:1; fill:none\" points=\"2023.9,529.676 2281.36,529.676 2281.36,166.796 2023.9,166.796 2023.9,529.676 \"/>\n<polyline clip-path=\"url(#clip410)\" style=\"stroke:#009af9; stroke-linecap:round; stroke-linejoin:round; stroke-width:4; stroke-opacity:1; fill:none\" points=\"2047.7,218.636 2190.48,218.636 \"/>\n<path clip-path=\"url(#clip410)\" d=\"M2238.93 209.99 L2229.56 222.606 L2239.42 235.916 L2234.39 235.916 L2226.85 225.731 L2219.3 235.916 L2214.28 235.916 L2224.35 222.351 L2215.14 209.99 L2220.16 209.99 L2227.03 219.226 L2233.91 209.99 L2238.93 209.99 Z\" fill=\"#000000\" fill-rule=\"evenodd\" fill-opacity=\"1\" /><path clip-path=\"url(#clip410)\" d=\"M2244.58 233.369 L2249.3 233.369 L2249.3 219.226 L2244.14 220.175 L2244.14 217.49 L2249.46 216.587 L2252.64 216.587 L2252.64 233.369 L2257.38 233.369 L2257.38 235.916 L2244.58 235.916 L2244.58 233.369 Z\" fill=\"#000000\" fill-rule=\"evenodd\" fill-opacity=\"1\" /><polyline clip-path=\"url(#clip410)\" style=\"stroke:#e26f46; stroke-linecap:round; stroke-linejoin:round; stroke-width:4; stroke-opacity:1; fill:none\" points=\"2047.7,270.476 2190.48,270.476 \"/>\n<path clip-path=\"url(#clip410)\" d=\"M2238.93 261.83 L2229.56 274.446 L2239.42 287.756 L2234.39 287.756 L2226.85 277.571 L2219.3 287.756 L2214.28 287.756 L2224.35 274.191 L2215.14 261.83 L2220.16 261.83 L2227.03 271.066 L2233.91 261.83 L2238.93 261.83 Z\" fill=\"#000000\" fill-rule=\"evenodd\" fill-opacity=\"1\" /><path clip-path=\"url(#clip410)\" d=\"M2247.17 285.117 L2256.99 285.117 L2256.99 287.756 L2243.14 287.756 L2243.14 285.209 Q2243.93 284.492 2245.39 283.196 Q2253.35 276.135 2253.35 273.959 Q2253.35 272.432 2252.15 271.506 Q2250.95 270.557 2248.98 270.557 Q2247.77 270.557 2246.36 270.973 Q2244.95 271.367 2243.28 272.177 L2243.28 269.33 Q2245.07 268.682 2246.59 268.358 Q2248.14 268.034 2249.46 268.034 Q2252.82 268.034 2254.83 269.561 Q2256.85 271.089 2256.85 273.589 Q2256.85 276.807 2249.19 283.381 Q2247.89 284.492 2247.17 285.117 Z\" fill=\"#000000\" fill-rule=\"evenodd\" fill-opacity=\"1\" /><polyline clip-path=\"url(#clip410)\" style=\"stroke:#3da44d; stroke-linecap:round; stroke-linejoin:round; stroke-width:4; stroke-opacity:1; fill:none\" points=\"2047.7,322.316 2190.48,322.316 \"/>\n<path clip-path=\"url(#clip410)\" d=\"M2238.93 313.67 L2229.56 326.286 L2239.42 339.596 L2234.39 339.596 L2226.85 329.411 L2219.3 339.596 L2214.28 339.596 L2224.35 326.031 L2215.14 313.67 L2220.16 313.67 L2227.03 322.906 L2233.91 313.67 L2238.93 313.67 Z\" fill=\"#000000\" fill-rule=\"evenodd\" fill-opacity=\"1\" /><path clip-path=\"url(#clip410)\" d=\"M2253.1 329.133 Q2255.23 329.549 2256.39 330.823 Q2257.57 332.073 2257.57 333.971 Q2257.57 336.841 2255.37 338.392 Q2253.17 339.943 2249.07 339.943 Q2247.75 339.943 2246.29 339.688 Q2244.86 339.457 2243.24 338.994 L2243.24 336.193 Q2244.44 336.818 2245.81 337.119 Q2247.2 337.42 2248.75 337.42 Q2251.27 337.42 2252.66 336.517 Q2254.05 335.591 2254.05 333.971 Q2254.05 332.258 2252.75 331.378 Q2251.48 330.499 2248.98 330.499 L2246.99 330.499 L2246.99 327.999 L2249.16 327.999 Q2251.34 327.999 2252.45 327.281 Q2253.58 326.54 2253.58 325.151 Q2253.58 323.809 2252.43 323.114 Q2251.27 322.397 2249.07 322.397 Q2248.14 322.397 2246.96 322.605 Q2245.78 322.813 2243.91 323.346 L2243.91 320.684 Q2245.6 320.29 2247.08 320.082 Q2248.56 319.874 2249.83 319.874 Q2253.17 319.874 2255.11 321.239 Q2257.08 322.605 2257.08 324.897 Q2257.08 326.494 2256.04 327.605 Q2255 328.716 2253.1 329.133 Z\" fill=\"#000000\" fill-rule=\"evenodd\" fill-opacity=\"1\" /><polyline clip-path=\"url(#clip410)\" style=\"stroke:#c271d2; stroke-linecap:round; stroke-linejoin:round; stroke-width:4; stroke-opacity:1; fill:none\" stroke-dasharray=\"16, 10\" points=\"2047.7,374.156 2190.48,374.156 \"/>\n<path clip-path=\"url(#clip410)\" d=\"M2238.93 365.51 L2229.56 378.126 L2239.42 391.436 L2234.39 391.436 L2226.85 381.251 L2219.3 391.436 L2214.28 391.436 L2224.35 377.871 L2215.14 365.51 L2220.16 365.51 L2227.03 374.746 L2233.91 365.51 L2238.93 365.51 Z\" fill=\"#000000\" fill-rule=\"evenodd\" fill-opacity=\"1\" /><path clip-path=\"url(#clip410)\" d=\"M2226.94 355.417 L2231.2 355.417 L2231.2 360.811 L2226.94 360.811 L2226.94 355.417 M2229.12 364.885 L2229.12 364.885 Z\" fill=\"#000000\" fill-rule=\"evenodd\" fill-opacity=\"1\" /><path clip-path=\"url(#clip410)\" d=\"M2244.58 388.889 L2249.3 388.889 L2249.3 374.746 L2244.14 375.695 L2244.14 373.01 L2249.46 372.107 L2252.64 372.107 L2252.64 388.889 L2257.38 388.889 L2257.38 391.436 L2244.58 391.436 L2244.58 388.889 Z\" fill=\"#000000\" fill-rule=\"evenodd\" fill-opacity=\"1\" /><polyline clip-path=\"url(#clip410)\" style=\"stroke:#ac8d18; stroke-linecap:round; stroke-linejoin:round; stroke-width:4; stroke-opacity:1; fill:none\" stroke-dasharray=\"16, 10\" points=\"2047.7,425.996 2190.48,425.996 \"/>\n<path clip-path=\"url(#clip410)\" d=\"M2238.93 417.35 L2229.56 429.966 L2239.42 443.276 L2234.39 443.276 L2226.85 433.091 L2219.3 443.276 L2214.28 443.276 L2224.35 429.711 L2215.14 417.35 L2220.16 417.35 L2227.03 426.586 L2233.91 417.35 L2238.93 417.35 Z\" fill=\"#000000\" fill-rule=\"evenodd\" fill-opacity=\"1\" /><path clip-path=\"url(#clip410)\" d=\"M2226.94 407.257 L2231.2 407.257 L2231.2 412.651 L2226.94 412.651 L2226.94 407.257 M2229.12 416.725 L2229.12 416.725 Z\" fill=\"#000000\" fill-rule=\"evenodd\" fill-opacity=\"1\" /><path clip-path=\"url(#clip410)\" d=\"M2247.17 440.637 L2256.99 440.637 L2256.99 443.276 L2243.14 443.276 L2243.14 440.729 Q2243.93 440.012 2245.39 438.716 Q2253.35 431.655 2253.35 429.479 Q2253.35 427.952 2252.15 427.026 Q2250.95 426.077 2248.98 426.077 Q2247.77 426.077 2246.36 426.493 Q2244.95 426.887 2243.28 427.697 L2243.28 424.85 Q2245.07 424.202 2246.59 423.878 Q2248.14 423.554 2249.46 423.554 Q2252.82 423.554 2254.83 425.081 Q2256.85 426.609 2256.85 429.109 Q2256.85 432.327 2249.19 438.901 Q2247.89 440.012 2247.17 440.637 Z\" fill=\"#000000\" fill-rule=\"evenodd\" fill-opacity=\"1\" /><polyline clip-path=\"url(#clip410)\" style=\"stroke:#00a9ad; stroke-linecap:round; stroke-linejoin:round; stroke-width:4; stroke-opacity:1; fill:none\" stroke-dasharray=\"16, 10\" points=\"2047.7,477.836 2190.48,477.836 \"/>\n<path clip-path=\"url(#clip410)\" d=\"M2238.93 469.19 L2229.56 481.806 L2239.42 495.116 L2234.39 495.116 L2226.85 484.931 L2219.3 495.116 L2214.28 495.116 L2224.35 481.551 L2215.14 469.19 L2220.16 469.19 L2227.03 478.426 L2233.91 469.19 L2238.93 469.19 Z\" fill=\"#000000\" fill-rule=\"evenodd\" fill-opacity=\"1\" /><path clip-path=\"url(#clip410)\" d=\"M2226.94 459.097 L2231.2 459.097 L2231.2 464.491 L2226.94 464.491 L2226.94 459.097 M2229.12 468.565 L2229.12 468.565 Z\" fill=\"#000000\" fill-rule=\"evenodd\" fill-opacity=\"1\" /><path clip-path=\"url(#clip410)\" d=\"M2253.1 484.653 Q2255.23 485.069 2256.39 486.343 Q2257.57 487.593 2257.57 489.491 Q2257.57 492.361 2255.37 493.912 Q2253.17 495.463 2249.07 495.463 Q2247.75 495.463 2246.29 495.208 Q2244.86 494.977 2243.24 494.514 L2243.24 491.713 Q2244.44 492.338 2245.81 492.639 Q2247.2 492.94 2248.75 492.94 Q2251.27 492.94 2252.66 492.037 Q2254.05 491.111 2254.05 489.491 Q2254.05 487.778 2252.75 486.898 Q2251.48 486.019 2248.98 486.019 L2246.99 486.019 L2246.99 483.519 L2249.16 483.519 Q2251.34 483.519 2252.45 482.801 Q2253.58 482.06 2253.58 480.671 Q2253.58 479.329 2252.43 478.634 Q2251.27 477.917 2249.07 477.917 Q2248.14 477.917 2246.96 478.125 Q2245.78 478.333 2243.91 478.866 L2243.91 476.204 Q2245.6 475.81 2247.08 475.602 Q2248.56 475.394 2249.83 475.394 Q2253.17 475.394 2255.11 476.759 Q2257.08 478.125 2257.08 480.417 Q2257.08 482.014 2256.04 483.125 Q2255 484.236 2253.1 484.653 Z\" fill=\"#000000\" fill-rule=\"evenodd\" fill-opacity=\"1\" /></svg>\n"
     },
     "metadata": {},
     "output_type": "display_data"
    }
   ],
   "source": [
    "Xsim_m = mat_from_vec(Xhist[1:end-Nh])\n",
    "Usim_m = mat_from_vec(Uhist[1:end-Nh-1])\n",
    "e_sim_m = mat_from_vec(Xref[1:end-Nh]-Xhist[1:end-Nh])\n",
    "@show traj_error = maximum(norm.(e_sim_m, Inf))\n",
    "display(plot(t_vec[1:end-Nh],e_sim_m',label = [\"ex₁\" \"ex₂\" \"ex₃\" \"eẋ₁\" \"eẋ₂\" \"eẋ₃\"], \n",
    "             linestyle=[:solid :solid :solid :dash :dash :dash], \n",
    "             title = \"State Error History\",\n",
    "             xlabel = \"time (s)\", ylabel = \"x\"))\n",
    "display(plot(t_vec[1:end-Nh-2],Usim_m',label = [\"u₁\" \"u₂\" \"u₃\"],\n",
    "             title = \"Input History\",\n",
    "             xlabel = \"time (s)\", ylabel = \"u\"))\n",
    "display(plot(t_vec[1:end-Nh],Xsim_m',label = [\"x₁\" \"x₂\" \"x₃\" \"ẋ₁\" \"ẋ₂\" \"ẋ₃\"], \n",
    "             linestyle=[:solid :solid :solid :dash :dash :dash],\n",
    "             title = \"State History\",\n",
    "             xlabel = \"time (s)\", ylabel = \"x\"))"
   ]
  }
 ],
 "metadata": {
  "kernelspec": {
   "display_name": "Julia 1.6.7",
   "language": "julia",
   "name": "julia-1.6"
  },
  "language_info": {
   "file_extension": ".jl",
   "mimetype": "application/julia",
   "name": "julia",
   "version": "1.6.7"
  }
 },
 "nbformat": 4,
 "nbformat_minor": 5
}
