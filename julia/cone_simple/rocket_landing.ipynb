{
 "cells": [
  {
   "cell_type": "code",
   "execution_count": 523,
   "id": "6099cb4b-a2da-4b1b-ba0f-856484092fc4",
   "metadata": {},
   "outputs": [
    {
     "name": "stderr",
     "output_type": "stream",
     "text": [
      "\u001b[32m\u001b[1m  Activating\u001b[22m\u001b[39m environment at `~/SSD/Code/TinyMPC/julia/cone_simple/Project.toml`\n"
     ]
    }
   ],
   "source": [
    "using Pkg\n",
    "Pkg.activate(@__DIR__)\n",
    "Pkg.instantiate()\n",
    "\n",
    "using LinearAlgebra\n",
    "using Printf\n",
    "import ForwardDiff as FD"
   ]
  },
  {
   "cell_type": "code",
   "execution_count": 534,
   "id": "2539eadc-1ce3-410e-80f6-f5588603ffef",
   "metadata": {},
   "outputs": [
    {
     "data": {
      "text/plain": [
       "4-element Vector{Vector{Int64}}:\n",
       " [5, 6]\n",
       " [11, 12]\n",
       " [17, 18]\n",
       " [23, 24]"
      ]
     },
     "execution_count": 534,
     "metadata": {},
     "output_type": "execute_result"
    }
   ],
   "source": [
    "n = 4; m = 2; N = 5;\n",
    "inds = reshape(1:(n+m)*N,n+m,N)\n",
    "xinds = [z[1:n] for z in eachcol(inds)]\n",
    "uinds = [z[n+1:end] for z in eachcol(inds)][1:N-1]"
   ]
  },
  {
   "cell_type": "code",
   "execution_count": 567,
   "id": "6179ca57-b5ff-4274-8391-85d5e728fc16",
   "metadata": {},
   "outputs": [
    {
     "data": {
      "text/plain": [
       "mpc (generic function with 1 method)"
      ]
     },
     "execution_count": 567,
     "metadata": {},
     "output_type": "execute_result"
    }
   ],
   "source": [
    "# -------------------THIS IS ALL ALTRO-------------------------------\n",
    "# This enables goal equality constraints, state and input ineq constraints.\n",
    "\n",
    "function stage_cost(p::NamedTuple,x,u,k)\n",
    "    dx = x - p.Xref[k]\n",
    "    du = u - p.Uref[k]\n",
    "    return 0.5*dx'*p.Q*dx + 0.5*du'*p.R*du\n",
    "end\n",
    "function term_cost(p::NamedTuple,x)\n",
    "    dx = x - p.Xref[p.N]\n",
    "    return 0.5*dx'*p.Qf*dx\n",
    "end\n",
    "function stage_cost_expansion(p::NamedTuple,k)\n",
    "    dx = - p.Xref[k]\n",
    "    du = - p.Uref[k]\n",
    "    return p.Q, p.Q*dx, p.R, p.R*du  # Hessian and gradient\n",
    "end\n",
    "function term_cost_expansion(p::NamedTuple)\n",
    "    dx = - p.Xref[p.N]\n",
    "    return p.Qf, p.Qf*dx\n",
    "end\n",
    "function conic_cost_expansion(p::NamedTuple, u, λc, ρ, k)\n",
    "    λhat = λc # already updated\n",
    "    ∇c = cone_u_jac(p, u)\n",
    "    G = ∇c'*∇projection(λhat)*projection(λhat)\n",
    "    H = ∇c'*∇projection(λhat)'*∇projection(λhat)*∇c/ρ\n",
    "    # display(∇projection(λhat)')\n",
    "    # H = zeros(p.ncu_cone,p.ncu_cone)\n",
    "    return (G - H*u), H\n",
    "end\n",
    "function backward_pass!(params,X,U,P,p,d,K,reg,μ,μx,ρ,λ,λc)\n",
    "    \"\"\"iLQR backward pass with AL. This !function update its parameters\n",
    "    \"\"\"\n",
    "    N = params.N\n",
    "    ΔJ = 0.0    # expected cost reduction\n",
    "\n",
    "    # terminal cost expansion\n",
    "    P[N], p[N] = term_cost_expansion(params) \n",
    "    \n",
    "    if (params.ncx > 0)\n",
    "        # # add AL terms for the state constraint at the final time step\n",
    "        hxv = ineq_con_x(params,X[N])  # h(x) violation  \n",
    "        mask = eval_mask(μx[N],hxv)\n",
    "        ∇hx = ineq_con_x_jac(params,X[N])\n",
    "        # add these into the cost-to-go p and P\n",
    "        p[N]  += ∇hx'*(μx[N] - ρ*(mask * [params.x_max;-params.x_min]))  # multiplier term (1st)\n",
    "        P[N]  += ρ*∇hx'*mask*∇hx                # penalty term (2nd)\n",
    "    end\n",
    "    \n",
    "    if (params.ncg > 0)\n",
    "        # add AL terms for goal constraint \n",
    "        ∇hx = diagm(ones(params.nx))\n",
    "        # add these into the CTG p and P (equality active)\n",
    "        p[N]  += ∇hx'*(λ - ρ*params.Xref[N])   \n",
    "        P[N]  += ρ*∇hx'∇hx\n",
    "    end\n",
    "    \n",
    "    # iterate from N-1 to 1 backwards\n",
    "    for k = (N-1):(-1):1\n",
    "        # dynamics jacobians (linearization about previous iterate)\n",
    "        A = FD.jacobian(_x -> discrete_dynamics(params,_x,U[k],k),X[k])\n",
    "        B = FD.jacobian(_u -> discrete_dynamics(params,X[k],_u,k),U[k])\n",
    "\n",
    "        Sxx,Sx,Suu,Su = stage_cost_expansion(params,k)\n",
    "        \n",
    "        # one-step cost expansion: Q, Q*dx, R, R*du\n",
    "        Sx += A' * (P[k+1]*f + p[k+1]) \n",
    "        Su += B' * (P[k+1]*f + p[k+1]) \n",
    "        Sxx += A'*(P[k+1])*A\n",
    "        Suu += B'*(P[k+1] + reg*I)*B                                     \n",
    "        Sux = B'*(P[k+1])*A  \n",
    "        if (params.ncu > 0)\n",
    "            # control constraints\n",
    "            huv = ineq_con_u(params,U[k])  # calculate h(u) constraint\n",
    "            mask = eval_mask(μ[k],huv)  # choose active\n",
    "            ∇hu = ineq_con_u_jac(params,U[k])\n",
    "            Su  += ∇hu'*(μ[k] - ρ*(mask * [params.u_max;-params.u_min])) # add to cost\n",
    "            Suu += ρ*∇hu'*mask*∇hu\n",
    "        end\n",
    "        if (params.ncx > 0)\n",
    "            # state constraints\n",
    "            hxv = ineq_con_x(params,X[k])\n",
    "            mask = eval_mask(μx[k],hxv)\n",
    "            ∇hx = ineq_con_x_jac(params,X[k])\n",
    "            Sx  += ∇hx'*(μx[k] - ρ*(mask * [params.x_max;-params.x_min]))\n",
    "            Sxx += ρ*∇hx'*mask*∇hx\n",
    "        end\n",
    "        if (params.ncu_cone > 0)\n",
    "            # conic constraints\n",
    "            Qu, Quu = conic_cost_expansion(params, U[k], λc[k], ρ/cone_scale, k)\n",
    "            # display(Quu)\n",
    "            Su += Qu\n",
    "            Suu += Quu\n",
    "        end\n",
    "        \n",
    "        # Calculate Gains\n",
    "        F = cholesky(Symmetric(Suu))\n",
    "        d[k] = F\\Su\n",
    "        K[k] = F\\Sux\n",
    "\n",
    "        # Cost-to-go Recurrence (PSD stabilizing version, last term)\n",
    "        P[k] = Sxx + K[k]'*Suu*K[k] - 2*K[k]'*Sux\n",
    "        p[k] = Sx + K[k]'*Suu*d[k] - K[k]'*Su - Sux'*d[k]\n",
    "        ΔJ += Su'*d[k]\n",
    "    end\n",
    "\n",
    "    return ΔJ  # but also change params\n",
    "end\n",
    "function forward_pass!(params,X,U,K,d,ΔJ,Xn,Un,μ,μx,ρ,λ; \n",
    "                        max_linesearch_iters = 20)\n",
    "    \"\"\"iLQR forward pass and line-search\n",
    "    This !function update its parameters\n",
    "    \"\"\"\n",
    "    N = params.N\n",
    "        # Forward Rollout\n",
    "        for k = 1:(N-1)\n",
    "            Un[k] = - d[k] - K[k]*Xn[k] \n",
    "            Xn[k+1] = discrete_dynamics(params,Xn[k],Un[k],k)\n",
    "        end\n",
    "    X .= Xn\n",
    "    U .= Un\n",
    "    return 0, 0\n",
    "end\n",
    "function eval_mask(μv,huv)  \n",
    "    # Extract active inequality constraints\n",
    "    # active set mask\n",
    "    mask = Diagonal(zeros(length(huv)))\n",
    "    for i = 1:length(huv)\n",
    "        mask[i,i] = (μv[i] > 0 || huv[i] > 0)\n",
    "    end\n",
    "    mask\n",
    "end\n",
    "function mpc(params,X,U,P,p,K,d,Xn,Un;atol=1e-3,max_iters = 250,verbose = true,ρ=1,ϕ=10)\n",
    "\n",
    "    # first check the sizes of everything\n",
    "    # @assert length(X) == params.N\n",
    "    # @assert length(U) == params.N-1\n",
    "    # @assert length(X[1]) == params.nx\n",
    "    # @assert length(U[1]) == params.nu\n",
    "\n",
    "    # keep track of trajectories for each iterate\n",
    "    Xh=[deepcopy(X) for i = 1:1000]\n",
    "\n",
    "    # initial rollout\n",
    "    N = params.N\n",
    "    for i = 1:N-1\n",
    "        X[i+1] = discrete_dynamics(params,X[i],U[i],i)\n",
    "    end\n",
    "\n",
    "    Xh[1] .= X\n",
    "\n",
    "    reg_min = 1e-8\n",
    "    reg = reg_min\n",
    "\n",
    "    μ = [zeros(params.ncu) for i = 1:N-1]   # input constraints\n",
    "\n",
    "    μx = [zeros(params.ncx) for i = 1:N]    # state constraints\n",
    "\n",
    "    λ = zeros(params.nx)    # goal constraint\n",
    "\n",
    "    λc = [zeros(params.ncu_cone) for i = 1:N-1]   # goal constraint\n",
    "    \n",
    "    # Inner loop to solve unconstrained problem (Riccati)\n",
    "    for iter = 1:max_iters\n",
    "        J = 0.0\n",
    "        ΔJ = 0.0\n",
    "        α = 1.0\n",
    "        for i = 1:5\n",
    "            ΔJ = backward_pass!(params,X,U,P,p,d,K,reg,μ,μx,ρ,λ,λc)\n",
    "            J, α = forward_pass!(params,X,U,K,d,ΔJ,Xn,Un,μ,μx,ρ,λ)\n",
    "        end\n",
    "\n",
    "        Xh[iter + 1] .= X  \n",
    "        if verbose\n",
    "            if rem(iter-1,10)==0\n",
    "                @printf \"iter     J           ΔJ        |d|         α        reg         ρ\\n\"\n",
    "                @printf \"---------------------------------------------------------------------\\n\"\n",
    "            end\n",
    "            @printf(\"%3d   %10.3e  %9.2e  %9.2e  %6.4f   %9.2e   %9.2e\\n\",\n",
    "              iter, J, ΔJ, 0, α, reg, ρ)\n",
    "        end\n",
    "        # update multipliers and check constraint violation, max of all\n",
    "        convio = 0  \n",
    "        \n",
    "        if (params.ncu > 0)\n",
    "            # control constraints (inequality)\n",
    "            for k = 1:N-1\n",
    "                huv = ineq_con_u(params,U[k])\n",
    "                mask = eval_mask(μ[k],huv)\n",
    "                # update dual\n",
    "                convio = max(convio,norm(huv + abs.(huv),Inf))\n",
    "                μ[k] = max.(0,μ[k] - ρ*(mask * [params.u_max;-params.u_min]))\n",
    "                \n",
    "            end\n",
    "        end\n",
    "        if (params.ncx > 0)\n",
    "            # state constraints (inequality)\n",
    "            for k = 1:N\n",
    "                hxv = ineq_con_x(params,X[k])\n",
    "                mask = eval_mask(μx[k],hxv)\n",
    "                # update dual\n",
    "                convio = max(convio,norm(hxv + abs.(hxv),Inf))\n",
    "                μx[k] = max.(0,μx[k] - ρ*(mask * [params.x_max;-params.x_min]))                \n",
    "            end\n",
    "        end\n",
    "        if (params.ncu_cone > 0)\n",
    "            # conic constraints \n",
    "            if verbose\n",
    "                print(\"update cone\\n\")\n",
    "            end            \n",
    "            for k = 1:N-1\n",
    "                # update dual\n",
    "                Uc = cone_u(params, U[k])\n",
    "                huc = norm(Uc[1:2]) - Uc[3]\n",
    "                convio = max(convio, norm(huc + abs.(huc),Inf))\n",
    "                λc[k] = projection(λc[k] + Uc/cone_scale/ρ)\n",
    "                # display(λc[k])\n",
    "            end\n",
    "        end\n",
    "        if (params.ncg > 0)\n",
    "            # goal constraint (equality)\n",
    "            hxv = X[N] - params.Xref[N]\n",
    "            λ .-= ρ*params.Xref[N]\n",
    "            convio = max(convio, norm(hxv,Inf))\n",
    "        end\n",
    "        if verbose\n",
    "            @show convio\n",
    "        end\n",
    "        if convio <1e-4  # if terminal condition with contraint violation\n",
    "            # @info \"success!\"\n",
    "            return Xh[1:(iter + 1)];\n",
    "        end\n",
    "\n",
    "        ρ *= ϕ  # update penalty\n",
    "    end\n",
    "end\n",
    "#----------------------ALTRO DONE --------------------------"
   ]
  },
  {
   "cell_type": "code",
   "execution_count": 526,
   "id": "ff9a97a1-b963-4f01-9223-eee0c5682b7d",
   "metadata": {
    "tags": []
   },
   "outputs": [
    {
     "data": {
      "text/plain": [
       "∇projection (generic function with 1 method)"
      ]
     },
     "execution_count": 526,
     "metadata": {},
     "output_type": "execute_result"
    }
   ],
   "source": [
    "# =============================\n",
    "# Example problem formulation and solve\n",
    "# =============================\n",
    "\n",
    "# ---------------------THIS IS WHAT YOU NEED TO INPUT--------\n",
    "A = [1.0 0.0 0.0 0.05 0.0 0.0; \n",
    "    0.0 1.0 0.0 0.0 0.05 0.0; \n",
    "    0.0 0.0 1.0 0.0 0.0 0.05; \n",
    "    0.0 0.0 0.0 1.0 0.0 0.0; \n",
    "    0.0 0.0 0.0 0.0 1.0 0.0; \n",
    "    0.0 0.0 0.0 0.0 0.0 1.0]\n",
    "B = [0.000125 0.0 0.0; \n",
    "    0.0 0.000125 0.0;\n",
    "    0.0 0.0 0.000125; \n",
    "    0.005 0.0 0.0; \n",
    "    0.0 0.005 0.0; \n",
    "    0.0 0.0 0.005]\n",
    "f = [0.0, 0.0, -0.0122625, 0.0, 0.0, -0.4905]\n",
    "function discrete_dynamics(p::NamedTuple,x,u,k)\n",
    "    A = [1.0 0.0 0.0 0.05 0.0 0.0; \n",
    "        0.0 1.0 0.0 0.0 0.05 0.0; \n",
    "        0.0 0.0 1.0 0.0 0.0 0.05; \n",
    "        0.0 0.0 0.0 1.0 0.0 0.0; \n",
    "        0.0 0.0 0.0 0.0 1.0 0.0; \n",
    "        0.0 0.0 0.0 0.0 0.0 1.0]\n",
    "    B = [0.000125 0.0 0.0; \n",
    "        0.0 0.000125 0.0;\n",
    "        0.0 0.0 0.000125; \n",
    "        0.005 0.0 0.0; \n",
    "        0.0 0.005 0.0; \n",
    "        0.0 0.0 0.005]\n",
    "    f = [0.0, 0.0, -0.0122625, 0.0, 0.0, -0.4905]\n",
    "    return A*x + B*u + f\n",
    "end\n",
    "function ineq_con_x(p,x)\n",
    "    [x-p.x_max;-x + p.x_min]\n",
    "end\n",
    "function ineq_con_u(p,u)\n",
    "    [u-p.u_max;-u + p.u_min]\n",
    "end\n",
    "function cone_u(p, u)\n",
    "    [p.A_cone*u;p.c_cone'*u]\n",
    "end\n",
    "function cone_u_jac(p, u)\n",
    "    J = zeros(p.nu, p.nu)\n",
    "    J[1:end-1,1:end] .= p.A_cone\n",
    "    J[end,1:end] .= p.c_cone\n",
    "    return J\n",
    "end\n",
    "function ineq_con_u_jac(params,u)\n",
    "    FD.jacobian(_u -> ineq_con_u(params,_u), u)\n",
    "end\n",
    "function ineq_con_x_jac(p,x)\n",
    "    FD.jacobian(_x -> ineq_con_x(p,_x),x)\n",
    "end\n",
    "function projection(x)\n",
    "    n = length(x)\n",
    "    s = x[end]\n",
    "    v = view(x,1:n-1)\n",
    "    a = norm(v)\n",
    "    if a <= -s  # below the cone\n",
    "        return zero(x)\n",
    "    elseif a <= s  # in the code\n",
    "        return x\n",
    "    elseif a >= abs(s)  # outside the cone\n",
    "        return 0.5 * (1 + s/a) * [v; a] \n",
    "    end\n",
    "end\n",
    "function ∇projection(x)\n",
    "    n = length(x)\n",
    "    J = zeros(eltype(x),n,n)\n",
    "    s = x[end]\n",
    "    v = view(x,1:n-1)\n",
    "    a = norm(v)\n",
    "    if a <= -s\n",
    "        return J  # zeros\n",
    "    elseif a <= s\n",
    "        J .= I(n)  \n",
    "        return J  # identity\n",
    "    elseif a >= abs(s)\n",
    "        c = 0.5 * (1 + s/a)\n",
    "\n",
    "        # dvdv ok!\n",
    "        for i = 1:n-1, j = 1:n-1\n",
    "            J[i,j] = -0.5*s/a^3 * v[i] * v[j]\n",
    "            if i == j\n",
    "                J[i,j] += c\n",
    "            end\n",
    "        end\n",
    "\n",
    "        # dvds ok!\n",
    "        for i = 1:n-1\n",
    "            J[i,n] = 0.5 * v[i] / a\n",
    "        end\n",
    "\n",
    "        # dsdv ok!\n",
    "        for i = 1:n-1\n",
    "            J[n,i] = ((-0.5*s/a^2) + c/a) * v[i]\n",
    "        end\n",
    "        J[n,n] = 0.5  # ok\n",
    "        return J\n",
    "    else\n",
    "        error(\"Invalid second-order cone projection.\")\n",
    "    end\n",
    "    return J\n",
    "end"
   ]
  },
  {
   "cell_type": "code",
   "execution_count": 571,
   "id": "f4edd7a6-7756-43ee-a37b-f91abdd18650",
   "metadata": {},
   "outputs": [
    {
     "name": "stdout",
     "output_type": "stream",
     "text": [
      "iter     J           ΔJ        |d|         α        reg         ρ\n",
      "---------------------------------------------------------------------\n",
      "  1    0.000e+00   5.46e+05   0.00e+00  0.0000    1.00e-08    1.00e+00\n",
      "update cone\n",
      "convio = 468.5707782428367\n",
      "  2    0.000e+00   1.80e+06   0.00e+00  0.0000    1.00e-08    1.00e+01\n",
      "update cone\n",
      "convio = 153.63477751097642\n",
      "  3    0.000e+00   3.67e+06   0.00e+00  0.0000    1.00e-08    1.00e+02\n",
      "update cone\n",
      "convio = 31.691342916888306\n",
      "  4    0.000e+00   3.81e+06   0.00e+00  0.0000    1.00e-08    1.00e+03\n",
      "update cone\n",
      "convio = 12.584890723426893\n",
      "  5    0.000e+00   3.20e+06   0.00e+00  0.0000    1.00e-08    1.00e+04\n",
      "update cone\n",
      "convio = 1.8356554300783683\n",
      "  6    0.000e+00   3.08e+06   0.00e+00  0.0000    1.00e-08    1.00e+05\n",
      "update cone\n",
      "convio = 0.19244467888096328\n",
      "  7    0.000e+00   3.30e+06   0.00e+00  0.0000    1.00e-08    1.00e+06\n",
      "update cone\n",
      "convio = 0.019338063499303892\n",
      "  8    0.000e+00   5.51e+06   0.00e+00  0.0000    1.00e-08    1.00e+07\n",
      "update cone\n",
      "convio = 0.0019347473727511222\n",
      "  9    0.000e+00   2.73e+07   0.00e+00  0.0000    1.00e-08    1.00e+08\n",
      "update cone\n",
      "convio = 0.00019348415259362595\n",
      " 10    0.000e+00   2.44e+08   0.00e+00  0.0000    1.00e-08    1.00e+09\n",
      "update cone\n",
      "convio = 1.9348509423755544e-5\n"
     ]
    },
    {
     "data": {
      "image/svg+xml": [
       "<?xml version=\"1.0\" encoding=\"utf-8\"?>\n",
       "<svg xmlns=\"http://www.w3.org/2000/svg\" xmlns:xlink=\"http://www.w3.org/1999/xlink\" width=\"600\" height=\"400\" viewBox=\"0 0 2400 1600\">\n",
       "<defs>\n",
       "  <clipPath id=\"clip840\">\n",
       "    <rect x=\"0\" y=\"0\" width=\"2400\" height=\"1600\"/>\n",
       "  </clipPath>\n",
       "</defs>\n",
       "<path clip-path=\"url(#clip840)\" d=\"M0 1600 L2400 1600 L2400 0 L0 0  Z\" fill=\"#ffffff\" fill-rule=\"evenodd\" fill-opacity=\"1\"/>\n",
       "<defs>\n",
       "  <clipPath id=\"clip841\">\n",
       "    <rect x=\"480\" y=\"0\" width=\"1681\" height=\"1600\"/>\n",
       "  </clipPath>\n",
       "</defs>\n",
       "<path clip-path=\"url(#clip840)\" d=\"M210.977 1423.18 L2352.76 1423.18 L2352.76 123.472 L210.977 123.472  Z\" fill=\"#ffffff\" fill-rule=\"evenodd\" fill-opacity=\"1\"/>\n",
       "<defs>\n",
       "  <clipPath id=\"clip842\">\n",
       "    <rect x=\"210\" y=\"123\" width=\"2143\" height=\"1301\"/>\n",
       "  </clipPath>\n",
       "</defs>\n",
       "<polyline clip-path=\"url(#clip842)\" style=\"stroke:#000000; stroke-linecap:round; stroke-linejoin:round; stroke-width:2; stroke-opacity:0.1; fill:none\" points=\"271.594,1423.18 271.594,123.472 \"/>\n",
       "<polyline clip-path=\"url(#clip842)\" style=\"stroke:#000000; stroke-linecap:round; stroke-linejoin:round; stroke-width:2; stroke-opacity:0.1; fill:none\" points=\"945.109,1423.18 945.109,123.472 \"/>\n",
       "<polyline clip-path=\"url(#clip842)\" style=\"stroke:#000000; stroke-linecap:round; stroke-linejoin:round; stroke-width:2; stroke-opacity:0.1; fill:none\" points=\"1618.62,1423.18 1618.62,123.472 \"/>\n",
       "<polyline clip-path=\"url(#clip842)\" style=\"stroke:#000000; stroke-linecap:round; stroke-linejoin:round; stroke-width:2; stroke-opacity:0.1; fill:none\" points=\"2292.14,1423.18 2292.14,123.472 \"/>\n",
       "<polyline clip-path=\"url(#clip840)\" style=\"stroke:#000000; stroke-linecap:round; stroke-linejoin:round; stroke-width:4; stroke-opacity:1; fill:none\" points=\"210.977,1423.18 2352.76,1423.18 \"/>\n",
       "<polyline clip-path=\"url(#clip840)\" style=\"stroke:#000000; stroke-linecap:round; stroke-linejoin:round; stroke-width:4; stroke-opacity:1; fill:none\" points=\"271.594,1423.18 271.594,1404.28 \"/>\n",
       "<polyline clip-path=\"url(#clip840)\" style=\"stroke:#000000; stroke-linecap:round; stroke-linejoin:round; stroke-width:4; stroke-opacity:1; fill:none\" points=\"945.109,1423.18 945.109,1404.28 \"/>\n",
       "<polyline clip-path=\"url(#clip840)\" style=\"stroke:#000000; stroke-linecap:round; stroke-linejoin:round; stroke-width:4; stroke-opacity:1; fill:none\" points=\"1618.62,1423.18 1618.62,1404.28 \"/>\n",
       "<polyline clip-path=\"url(#clip840)\" style=\"stroke:#000000; stroke-linecap:round; stroke-linejoin:round; stroke-width:4; stroke-opacity:1; fill:none\" points=\"2292.14,1423.18 2292.14,1404.28 \"/>\n",
       "<path clip-path=\"url(#clip840)\" d=\"M271.594 1454.1 Q267.983 1454.1 266.154 1457.66 Q264.348 1461.2 264.348 1468.33 Q264.348 1475.44 266.154 1479.01 Q267.983 1482.55 271.594 1482.55 Q275.228 1482.55 277.034 1479.01 Q278.862 1475.44 278.862 1468.33 Q278.862 1461.2 277.034 1457.66 Q275.228 1454.1 271.594 1454.1 M271.594 1450.39 Q277.404 1450.39 280.459 1455 Q283.538 1459.58 283.538 1468.33 Q283.538 1477.06 280.459 1481.67 Q277.404 1486.25 271.594 1486.25 Q265.784 1486.25 262.705 1481.67 Q259.649 1477.06 259.649 1468.33 Q259.649 1459.58 262.705 1455 Q265.784 1450.39 271.594 1450.39 Z\" fill=\"#000000\" fill-rule=\"evenodd\" fill-opacity=\"1\" /><path clip-path=\"url(#clip840)\" d=\"M935.387 1451.02 L953.743 1451.02 L953.743 1454.96 L939.669 1454.96 L939.669 1463.43 Q940.688 1463.08 941.706 1462.92 Q942.725 1462.73 943.743 1462.73 Q949.53 1462.73 952.91 1465.9 Q956.29 1469.08 956.29 1474.49 Q956.29 1480.07 952.817 1483.17 Q949.345 1486.25 943.026 1486.25 Q940.85 1486.25 938.581 1485.88 Q936.336 1485.51 933.929 1484.77 L933.929 1480.07 Q936.012 1481.2 938.234 1481.76 Q940.456 1482.32 942.933 1482.32 Q946.938 1482.32 949.276 1480.21 Q951.614 1478.1 951.614 1474.49 Q951.614 1470.88 949.276 1468.77 Q946.938 1466.67 942.933 1466.67 Q941.058 1466.67 939.183 1467.08 Q937.331 1467.5 935.387 1468.38 L935.387 1451.02 Z\" fill=\"#000000\" fill-rule=\"evenodd\" fill-opacity=\"1\" /><path clip-path=\"url(#clip840)\" d=\"M1593.31 1481.64 L1600.95 1481.64 L1600.95 1455.28 L1592.64 1456.95 L1592.64 1452.69 L1600.9 1451.02 L1605.58 1451.02 L1605.58 1481.64 L1613.22 1481.64 L1613.22 1485.58 L1593.31 1485.58 L1593.31 1481.64 Z\" fill=\"#000000\" fill-rule=\"evenodd\" fill-opacity=\"1\" /><path clip-path=\"url(#clip840)\" d=\"M1632.66 1454.1 Q1629.05 1454.1 1627.22 1457.66 Q1625.42 1461.2 1625.42 1468.33 Q1625.42 1475.44 1627.22 1479.01 Q1629.05 1482.55 1632.66 1482.55 Q1636.3 1482.55 1638.1 1479.01 Q1639.93 1475.44 1639.93 1468.33 Q1639.93 1461.2 1638.1 1457.66 Q1636.3 1454.1 1632.66 1454.1 M1632.66 1450.39 Q1638.47 1450.39 1641.53 1455 Q1644.61 1459.58 1644.61 1468.33 Q1644.61 1477.06 1641.53 1481.67 Q1638.47 1486.25 1632.66 1486.25 Q1626.85 1486.25 1623.77 1481.67 Q1620.72 1477.06 1620.72 1468.33 Q1620.72 1459.58 1623.77 1455 Q1626.85 1450.39 1632.66 1450.39 Z\" fill=\"#000000\" fill-rule=\"evenodd\" fill-opacity=\"1\" /><path clip-path=\"url(#clip840)\" d=\"M2267.32 1481.64 L2274.96 1481.64 L2274.96 1455.28 L2266.65 1456.95 L2266.65 1452.69 L2274.92 1451.02 L2279.59 1451.02 L2279.59 1481.64 L2287.23 1481.64 L2287.23 1485.58 L2267.32 1485.58 L2267.32 1481.64 Z\" fill=\"#000000\" fill-rule=\"evenodd\" fill-opacity=\"1\" /><path clip-path=\"url(#clip840)\" d=\"M2296.72 1451.02 L2315.08 1451.02 L2315.08 1454.96 L2301.01 1454.96 L2301.01 1463.43 Q2302.02 1463.08 2303.04 1462.92 Q2304.06 1462.73 2305.08 1462.73 Q2310.87 1462.73 2314.25 1465.9 Q2317.63 1469.08 2317.63 1474.49 Q2317.63 1480.07 2314.15 1483.17 Q2310.68 1486.25 2304.36 1486.25 Q2302.19 1486.25 2299.92 1485.88 Q2297.67 1485.51 2295.26 1484.77 L2295.26 1480.07 Q2297.35 1481.2 2299.57 1481.76 Q2301.79 1482.32 2304.27 1482.32 Q2308.27 1482.32 2310.61 1480.21 Q2312.95 1478.1 2312.95 1474.49 Q2312.95 1470.88 2310.61 1468.77 Q2308.27 1466.67 2304.27 1466.67 Q2302.39 1466.67 2300.52 1467.08 Q2298.67 1467.5 2296.72 1468.38 L2296.72 1451.02 Z\" fill=\"#000000\" fill-rule=\"evenodd\" fill-opacity=\"1\" /><path clip-path=\"url(#clip840)\" d=\"M1169.32 1522.27 L1169.32 1532.4 L1181.38 1532.4 L1181.38 1536.95 L1169.32 1536.95 L1169.32 1556.3 Q1169.32 1560.66 1170.5 1561.9 Q1171.71 1563.14 1175.37 1563.14 L1181.38 1563.14 L1181.38 1568.04 L1175.37 1568.04 Q1168.59 1568.04 1166.01 1565.53 Q1163.43 1562.98 1163.43 1556.3 L1163.43 1536.95 L1159.14 1536.95 L1159.14 1532.4 L1163.43 1532.4 L1163.43 1522.27 L1169.32 1522.27 Z\" fill=\"#000000\" fill-rule=\"evenodd\" fill-opacity=\"1\" /><path clip-path=\"url(#clip840)\" d=\"M1189.09 1532.4 L1194.94 1532.4 L1194.94 1568.04 L1189.09 1568.04 L1189.09 1532.4 M1189.09 1518.52 L1194.94 1518.52 L1194.94 1525.93 L1189.09 1525.93 L1189.09 1518.52 Z\" fill=\"#000000\" fill-rule=\"evenodd\" fill-opacity=\"1\" /><path clip-path=\"url(#clip840)\" d=\"M1234.95 1539.24 Q1237.15 1535.29 1240.2 1533.41 Q1243.26 1531.54 1247.4 1531.54 Q1252.97 1531.54 1255.99 1535.45 Q1259.01 1539.33 1259.01 1546.53 L1259.01 1568.04 L1253.13 1568.04 L1253.13 1546.72 Q1253.13 1541.59 1251.31 1539.11 Q1249.5 1536.63 1245.77 1536.63 Q1241.22 1536.63 1238.58 1539.65 Q1235.94 1542.68 1235.94 1547.9 L1235.94 1568.04 L1230.05 1568.04 L1230.05 1546.72 Q1230.05 1541.56 1228.24 1539.11 Q1226.42 1536.63 1222.63 1536.63 Q1218.15 1536.63 1215.5 1539.68 Q1212.86 1542.71 1212.86 1547.9 L1212.86 1568.04 L1206.97 1568.04 L1206.97 1532.4 L1212.86 1532.4 L1212.86 1537.93 Q1214.87 1534.66 1217.67 1533.1 Q1220.47 1531.54 1224.32 1531.54 Q1228.2 1531.54 1230.91 1533.51 Q1233.65 1535.48 1234.95 1539.24 Z\" fill=\"#000000\" fill-rule=\"evenodd\" fill-opacity=\"1\" /><path clip-path=\"url(#clip840)\" d=\"M1301.19 1548.76 L1301.19 1551.62 L1274.26 1551.62 Q1274.64 1557.67 1277.89 1560.85 Q1281.17 1564 1286.99 1564 Q1290.36 1564 1293.52 1563.17 Q1296.7 1562.35 1299.82 1560.69 L1299.82 1566.23 Q1296.67 1567.57 1293.36 1568.27 Q1290.05 1568.97 1286.64 1568.97 Q1278.11 1568.97 1273.11 1564 Q1268.15 1559.04 1268.15 1550.57 Q1268.15 1541.82 1272.86 1536.69 Q1277.6 1531.54 1285.62 1531.54 Q1292.82 1531.54 1296.99 1536.18 Q1301.19 1540.8 1301.19 1548.76 M1295.33 1547.04 Q1295.27 1542.23 1292.62 1539.37 Q1290.01 1536.5 1285.69 1536.5 Q1280.78 1536.5 1277.82 1539.27 Q1274.9 1542.04 1274.45 1547.07 L1295.33 1547.04 Z\" fill=\"#000000\" fill-rule=\"evenodd\" fill-opacity=\"1\" /><path clip-path=\"url(#clip840)\" d=\"M1345.59 1518.58 Q1341.32 1525.9 1339.25 1533.06 Q1337.18 1540.23 1337.18 1547.58 Q1337.18 1554.93 1339.25 1562.16 Q1341.35 1569.35 1345.59 1576.64 L1340.49 1576.64 Q1335.72 1569.16 1333.33 1561.93 Q1330.98 1554.71 1330.98 1547.58 Q1330.98 1540.48 1333.33 1533.29 Q1335.69 1526.09 1340.49 1518.58 L1345.59 1518.58 Z\" fill=\"#000000\" fill-rule=\"evenodd\" fill-opacity=\"1\" /><path clip-path=\"url(#clip840)\" d=\"M1379.68 1533.45 L1379.68 1538.98 Q1377.19 1537.71 1374.52 1537.07 Q1371.85 1536.44 1368.98 1536.44 Q1364.62 1536.44 1362.42 1537.77 Q1360.26 1539.11 1360.26 1541.79 Q1360.26 1543.82 1361.82 1545 Q1363.38 1546.15 1368.09 1547.2 L1370.1 1547.64 Q1376.33 1548.98 1378.94 1551.43 Q1381.59 1553.85 1381.59 1558.21 Q1381.59 1563.17 1377.64 1566.07 Q1373.72 1568.97 1366.85 1568.97 Q1363.98 1568.97 1360.87 1568.39 Q1357.78 1567.85 1354.34 1566.74 L1354.34 1560.69 Q1357.59 1562.38 1360.74 1563.24 Q1363.89 1564.07 1366.98 1564.07 Q1371.11 1564.07 1373.34 1562.66 Q1375.57 1561.23 1375.57 1558.65 Q1375.57 1556.27 1373.95 1554.99 Q1372.36 1553.72 1366.91 1552.54 L1364.88 1552.07 Q1359.43 1550.92 1357.01 1548.56 Q1354.59 1546.18 1354.59 1542.04 Q1354.59 1537.01 1358.16 1534.27 Q1361.72 1531.54 1368.28 1531.54 Q1371.53 1531.54 1374.39 1532.01 Q1377.26 1532.49 1379.68 1533.45 Z\" fill=\"#000000\" fill-rule=\"evenodd\" fill-opacity=\"1\" /><path clip-path=\"url(#clip840)\" d=\"M1389.99 1518.58 L1395.08 1518.58 Q1399.86 1526.09 1402.21 1533.29 Q1404.6 1540.48 1404.6 1547.58 Q1404.6 1554.71 1402.21 1561.93 Q1399.86 1569.16 1395.08 1576.64 L1389.99 1576.64 Q1394.22 1569.35 1396.29 1562.16 Q1398.39 1554.93 1398.39 1547.58 Q1398.39 1540.23 1396.29 1533.06 Q1394.22 1525.9 1389.99 1518.58 Z\" fill=\"#000000\" fill-rule=\"evenodd\" fill-opacity=\"1\" /><polyline clip-path=\"url(#clip842)\" style=\"stroke:#000000; stroke-linecap:round; stroke-linejoin:round; stroke-width:2; stroke-opacity:0.1; fill:none\" points=\"210.977,1386.4 2352.76,1386.4 \"/>\n",
       "<polyline clip-path=\"url(#clip842)\" style=\"stroke:#000000; stroke-linecap:round; stroke-linejoin:round; stroke-width:2; stroke-opacity:0.1; fill:none\" points=\"210.977,1141.17 2352.76,1141.17 \"/>\n",
       "<polyline clip-path=\"url(#clip842)\" style=\"stroke:#000000; stroke-linecap:round; stroke-linejoin:round; stroke-width:2; stroke-opacity:0.1; fill:none\" points=\"210.977,895.94 2352.76,895.94 \"/>\n",
       "<polyline clip-path=\"url(#clip842)\" style=\"stroke:#000000; stroke-linecap:round; stroke-linejoin:round; stroke-width:2; stroke-opacity:0.1; fill:none\" points=\"210.977,650.712 2352.76,650.712 \"/>\n",
       "<polyline clip-path=\"url(#clip842)\" style=\"stroke:#000000; stroke-linecap:round; stroke-linejoin:round; stroke-width:2; stroke-opacity:0.1; fill:none\" points=\"210.977,405.484 2352.76,405.484 \"/>\n",
       "<polyline clip-path=\"url(#clip842)\" style=\"stroke:#000000; stroke-linecap:round; stroke-linejoin:round; stroke-width:2; stroke-opacity:0.1; fill:none\" points=\"210.977,160.256 2352.76,160.256 \"/>\n",
       "<polyline clip-path=\"url(#clip840)\" style=\"stroke:#000000; stroke-linecap:round; stroke-linejoin:round; stroke-width:4; stroke-opacity:1; fill:none\" points=\"210.977,1423.18 210.977,123.472 \"/>\n",
       "<polyline clip-path=\"url(#clip840)\" style=\"stroke:#000000; stroke-linecap:round; stroke-linejoin:round; stroke-width:4; stroke-opacity:1; fill:none\" points=\"210.977,1386.4 229.875,1386.4 \"/>\n",
       "<polyline clip-path=\"url(#clip840)\" style=\"stroke:#000000; stroke-linecap:round; stroke-linejoin:round; stroke-width:4; stroke-opacity:1; fill:none\" points=\"210.977,1141.17 229.875,1141.17 \"/>\n",
       "<polyline clip-path=\"url(#clip840)\" style=\"stroke:#000000; stroke-linecap:round; stroke-linejoin:round; stroke-width:4; stroke-opacity:1; fill:none\" points=\"210.977,895.94 229.875,895.94 \"/>\n",
       "<polyline clip-path=\"url(#clip840)\" style=\"stroke:#000000; stroke-linecap:round; stroke-linejoin:round; stroke-width:4; stroke-opacity:1; fill:none\" points=\"210.977,650.712 229.875,650.712 \"/>\n",
       "<polyline clip-path=\"url(#clip840)\" style=\"stroke:#000000; stroke-linecap:round; stroke-linejoin:round; stroke-width:4; stroke-opacity:1; fill:none\" points=\"210.977,405.484 229.875,405.484 \"/>\n",
       "<polyline clip-path=\"url(#clip840)\" style=\"stroke:#000000; stroke-linecap:round; stroke-linejoin:round; stroke-width:4; stroke-opacity:1; fill:none\" points=\"210.977,160.256 229.875,160.256 \"/>\n",
       "<path clip-path=\"url(#clip840)\" d=\"M114.26 1386.85 L143.936 1386.85 L143.936 1390.78 L114.26 1390.78 L114.26 1386.85 Z\" fill=\"#000000\" fill-rule=\"evenodd\" fill-opacity=\"1\" /><path clip-path=\"url(#clip840)\" d=\"M154.075 1369.12 L172.431 1369.12 L172.431 1373.05 L158.357 1373.05 L158.357 1381.52 Q159.376 1381.18 160.394 1381.01 Q161.413 1380.83 162.431 1380.83 Q168.218 1380.83 171.598 1384 Q174.977 1387.17 174.977 1392.59 Q174.977 1398.17 171.505 1401.27 Q168.033 1404.35 161.714 1404.35 Q159.538 1404.35 157.269 1403.98 Q155.024 1403.61 152.616 1402.87 L152.616 1398.17 Q154.7 1399.3 156.922 1399.86 Q159.144 1400.41 161.621 1400.41 Q165.626 1400.41 167.964 1398.31 Q170.302 1396.2 170.302 1392.59 Q170.302 1388.98 167.964 1386.87 Q165.626 1384.76 161.621 1384.76 Q159.746 1384.76 157.871 1385.18 Q156.019 1385.6 154.075 1386.48 L154.075 1369.12 Z\" fill=\"#000000\" fill-rule=\"evenodd\" fill-opacity=\"1\" /><path clip-path=\"url(#clip840)\" d=\"M163.033 1126.97 Q159.422 1126.97 157.593 1130.53 Q155.788 1134.07 155.788 1141.2 Q155.788 1148.31 157.593 1151.87 Q159.422 1155.42 163.033 1155.42 Q166.667 1155.42 168.473 1151.87 Q170.302 1148.31 170.302 1141.2 Q170.302 1134.07 168.473 1130.53 Q166.667 1126.97 163.033 1126.97 M163.033 1123.26 Q168.843 1123.26 171.899 1127.87 Q174.977 1132.45 174.977 1141.2 Q174.977 1149.93 171.899 1154.54 Q168.843 1159.12 163.033 1159.12 Q157.223 1159.12 154.144 1154.54 Q151.089 1149.93 151.089 1141.2 Q151.089 1132.45 154.144 1127.87 Q157.223 1123.26 163.033 1123.26 Z\" fill=\"#000000\" fill-rule=\"evenodd\" fill-opacity=\"1\" /><path clip-path=\"url(#clip840)\" d=\"M154.075 878.66 L172.431 878.66 L172.431 882.595 L158.357 882.595 L158.357 891.067 Q159.376 890.72 160.394 890.558 Q161.413 890.373 162.431 890.373 Q168.218 890.373 171.598 893.544 Q174.977 896.715 174.977 902.132 Q174.977 907.711 171.505 910.813 Q168.033 913.891 161.714 913.891 Q159.538 913.891 157.269 913.521 Q155.024 913.15 152.616 912.41 L152.616 907.711 Q154.7 908.845 156.922 909.4 Q159.144 909.956 161.621 909.956 Q165.626 909.956 167.964 907.85 Q170.302 905.743 170.302 902.132 Q170.302 898.521 167.964 896.414 Q165.626 894.308 161.621 894.308 Q159.746 894.308 157.871 894.725 Q156.019 895.141 154.075 896.021 L154.075 878.66 Z\" fill=\"#000000\" fill-rule=\"evenodd\" fill-opacity=\"1\" /><path clip-path=\"url(#clip840)\" d=\"M123.681 664.057 L131.32 664.057 L131.32 637.691 L123.01 639.358 L123.01 635.099 L131.274 633.432 L135.95 633.432 L135.95 664.057 L143.589 664.057 L143.589 667.992 L123.681 667.992 L123.681 664.057 Z\" fill=\"#000000\" fill-rule=\"evenodd\" fill-opacity=\"1\" /><path clip-path=\"url(#clip840)\" d=\"M163.033 636.511 Q159.422 636.511 157.593 640.076 Q155.788 643.617 155.788 650.747 Q155.788 657.853 157.593 661.418 Q159.422 664.96 163.033 664.96 Q166.667 664.96 168.473 661.418 Q170.302 657.853 170.302 650.747 Q170.302 643.617 168.473 640.076 Q166.667 636.511 163.033 636.511 M163.033 632.807 Q168.843 632.807 171.899 637.414 Q174.977 641.997 174.977 650.747 Q174.977 659.474 171.899 664.08 Q168.843 668.663 163.033 668.663 Q157.223 668.663 154.144 664.08 Q151.089 659.474 151.089 650.747 Q151.089 641.997 154.144 637.414 Q157.223 632.807 163.033 632.807 Z\" fill=\"#000000\" fill-rule=\"evenodd\" fill-opacity=\"1\" /><path clip-path=\"url(#clip840)\" d=\"M124.677 418.829 L132.316 418.829 L132.316 392.463 L124.005 394.13 L124.005 389.871 L132.269 388.204 L136.945 388.204 L136.945 418.829 L144.584 418.829 L144.584 422.764 L124.677 422.764 L124.677 418.829 Z\" fill=\"#000000\" fill-rule=\"evenodd\" fill-opacity=\"1\" /><path clip-path=\"url(#clip840)\" d=\"M154.075 388.204 L172.431 388.204 L172.431 392.139 L158.357 392.139 L158.357 400.612 Q159.376 400.264 160.394 400.102 Q161.413 399.917 162.431 399.917 Q168.218 399.917 171.598 403.088 Q174.977 406.26 174.977 411.676 Q174.977 417.255 171.505 420.357 Q168.033 423.435 161.714 423.435 Q159.538 423.435 157.269 423.065 Q155.024 422.695 152.616 421.954 L152.616 417.255 Q154.7 418.389 156.922 418.945 Q159.144 419.5 161.621 419.5 Q165.626 419.5 167.964 417.394 Q170.302 415.287 170.302 411.676 Q170.302 408.065 167.964 405.959 Q165.626 403.852 161.621 403.852 Q159.746 403.852 157.871 404.269 Q156.019 404.686 154.075 405.565 L154.075 388.204 Z\" fill=\"#000000\" fill-rule=\"evenodd\" fill-opacity=\"1\" /><path clip-path=\"url(#clip840)\" d=\"M126.899 173.601 L143.218 173.601 L143.218 177.536 L121.274 177.536 L121.274 173.601 Q123.936 170.847 128.519 166.217 Q133.126 161.564 134.306 160.222 Q136.552 157.698 137.431 155.962 Q138.334 154.203 138.334 152.513 Q138.334 149.759 136.39 148.023 Q134.468 146.286 131.367 146.286 Q129.167 146.286 126.714 147.05 Q124.283 147.814 121.505 149.365 L121.505 144.643 Q124.33 143.509 126.783 142.93 Q129.237 142.351 131.274 142.351 Q136.644 142.351 139.839 145.036 Q143.033 147.722 143.033 152.212 Q143.033 154.342 142.223 156.263 Q141.436 158.161 139.329 160.754 Q138.751 161.425 135.649 164.643 Q132.547 167.837 126.899 173.601 Z\" fill=\"#000000\" fill-rule=\"evenodd\" fill-opacity=\"1\" /><path clip-path=\"url(#clip840)\" d=\"M163.033 146.055 Q159.422 146.055 157.593 149.62 Q155.788 153.161 155.788 160.291 Q155.788 167.397 157.593 170.962 Q159.422 174.504 163.033 174.504 Q166.667 174.504 168.473 170.962 Q170.302 167.397 170.302 160.291 Q170.302 153.161 168.473 149.62 Q166.667 146.055 163.033 146.055 M163.033 142.351 Q168.843 142.351 171.899 146.958 Q174.977 151.541 174.977 160.291 Q174.977 169.018 171.899 173.624 Q168.843 178.208 163.033 178.208 Q157.223 178.208 154.144 173.624 Q151.089 169.018 151.089 160.291 Q151.089 151.541 154.144 146.958 Q157.223 142.351 163.033 142.351 Z\" fill=\"#000000\" fill-rule=\"evenodd\" fill-opacity=\"1\" /><path clip-path=\"url(#clip840)\" d=\"M28.3562 756.711 L45.7028 769.602 L64.0042 756.043 L64.0042 762.95 L49.9996 773.326 L64.0042 783.702 L64.0042 790.609 L45.3526 776.763 L28.3562 789.431 L28.3562 782.524 L41.0558 773.071 L28.3562 763.618 L28.3562 756.711 Z\" fill=\"#000000\" fill-rule=\"evenodd\" fill-opacity=\"1\" /><path clip-path=\"url(#clip840)\" d=\"M1054.21 14.0809 L1054.21 22.0612 Q1049.55 19.8332 1045.42 18.7395 Q1041.28 17.6457 1037.44 17.6457 Q1030.75 17.6457 1027.11 20.2383 Q1023.5 22.8309 1023.5 27.611 Q1023.5 31.6214 1025.89 33.6873 Q1028.32 35.7128 1035.05 36.9686 L1039.99 37.9813 Q1049.14 39.7232 1053.48 44.1387 Q1057.85 48.5136 1057.85 55.8863 Q1057.85 64.6767 1051.94 69.2137 Q1046.06 73.7508 1034.68 73.7508 Q1030.39 73.7508 1025.53 72.7785 Q1020.7 71.8063 1015.52 69.9024 L1015.52 61.4765 Q1020.5 64.2716 1025.28 65.6895 Q1030.06 67.1073 1034.68 67.1073 Q1041.69 67.1073 1045.5 64.3527 Q1049.3 61.598 1049.3 56.4939 Q1049.3 52.0379 1046.55 49.5264 Q1043.84 47.0148 1037.6 45.759 L1032.61 44.7868 Q1023.46 42.9639 1019.37 39.075 Q1015.28 35.1862 1015.28 28.2591 Q1015.28 20.2383 1020.91 15.6203 Q1026.58 11.0023 1036.5 11.0023 Q1040.76 11.0023 1045.17 11.7719 Q1049.59 12.5416 1054.21 14.0809 Z\" fill=\"#000000\" fill-rule=\"evenodd\" fill-opacity=\"1\" /><path clip-path=\"url(#clip840)\" d=\"M1077.66 14.324 L1077.66 27.2059 L1093.01 27.2059 L1093.01 32.9987 L1077.66 32.9987 L1077.66 57.6282 Q1077.66 63.1779 1079.16 64.7578 Q1080.7 66.3376 1085.36 66.3376 L1093.01 66.3376 L1093.01 72.576 L1085.36 72.576 Q1076.73 72.576 1073.45 69.3758 Q1070.17 66.1351 1070.17 57.6282 L1070.17 32.9987 L1064.7 32.9987 L1064.7 27.2059 L1070.17 27.2059 L1070.17 14.324 L1077.66 14.324 Z\" fill=\"#000000\" fill-rule=\"evenodd\" fill-opacity=\"1\" /><path clip-path=\"url(#clip840)\" d=\"M1123.44 49.7694 Q1114.4 49.7694 1110.92 51.8354 Q1107.43 53.9013 1107.43 58.8839 Q1107.43 62.8538 1110.03 65.2034 Q1112.66 67.5124 1117.16 67.5124 Q1123.35 67.5124 1127.08 63.1374 Q1130.85 58.7219 1130.85 51.4303 L1130.85 49.7694 L1123.44 49.7694 M1138.3 46.6907 L1138.3 72.576 L1130.85 72.576 L1130.85 65.6895 Q1128.3 69.8214 1124.49 71.8063 Q1120.68 73.7508 1115.17 73.7508 Q1108.2 73.7508 1104.07 69.8619 Q1099.98 65.9325 1099.98 59.3701 Q1099.98 51.7138 1105.09 47.825 Q1110.23 43.9361 1120.4 43.9361 L1130.85 43.9361 L1130.85 43.2069 Q1130.85 38.0623 1127.45 35.2672 Q1124.08 32.4315 1117.97 32.4315 Q1114.08 32.4315 1110.39 33.3632 Q1106.71 34.295 1103.3 36.1584 L1103.3 29.2718 Q1107.39 27.692 1111.24 26.9223 Q1115.09 26.1121 1118.74 26.1121 Q1128.58 26.1121 1133.44 31.2163 Q1138.3 36.3204 1138.3 46.6907 Z\" fill=\"#000000\" fill-rule=\"evenodd\" fill-opacity=\"1\" /><path clip-path=\"url(#clip840)\" d=\"M1161.03 14.324 L1161.03 27.2059 L1176.38 27.2059 L1176.38 32.9987 L1161.03 32.9987 L1161.03 57.6282 Q1161.03 63.1779 1162.53 64.7578 Q1164.07 66.3376 1168.72 66.3376 L1176.38 66.3376 L1176.38 72.576 L1168.72 72.576 Q1160.1 72.576 1156.82 69.3758 Q1153.53 66.1351 1153.53 57.6282 L1153.53 32.9987 L1148.07 32.9987 L1148.07 27.2059 L1153.53 27.2059 L1153.53 14.324 L1161.03 14.324 Z\" fill=\"#000000\" fill-rule=\"evenodd\" fill-opacity=\"1\" /><path clip-path=\"url(#clip840)\" d=\"M1224.99 48.0275 L1224.99 51.6733 L1190.72 51.6733 Q1191.21 59.3701 1195.34 63.421 Q1199.51 67.4314 1206.92 67.4314 Q1211.22 67.4314 1215.23 66.3781 Q1219.28 65.3249 1223.25 63.2184 L1223.25 70.267 Q1219.24 71.9684 1215.03 72.8596 Q1210.81 73.7508 1206.48 73.7508 Q1195.62 73.7508 1189.26 67.4314 Q1182.94 61.1119 1182.94 50.3365 Q1182.94 39.1965 1188.94 32.6746 Q1194.97 26.1121 1205.18 26.1121 Q1214.34 26.1121 1219.64 32.0264 Q1224.99 37.9003 1224.99 48.0275 M1217.54 45.84 Q1217.46 39.7232 1214.1 36.0774 Q1210.77 32.4315 1205.26 32.4315 Q1199.03 32.4315 1195.26 35.9558 Q1191.53 39.4801 1190.96 45.8805 L1217.54 45.84 Z\" fill=\"#000000\" fill-rule=\"evenodd\" fill-opacity=\"1\" /><path clip-path=\"url(#clip840)\" d=\"M1263.92 12.096 L1272.1 12.096 L1272.1 36.8875 L1301.84 36.8875 L1301.84 12.096 L1310.02 12.096 L1310.02 72.576 L1301.84 72.576 L1301.84 43.7741 L1272.1 43.7741 L1272.1 72.576 L1263.92 72.576 L1263.92 12.096 Z\" fill=\"#000000\" fill-rule=\"evenodd\" fill-opacity=\"1\" /><path clip-path=\"url(#clip840)\" d=\"M1325.98 27.2059 L1333.43 27.2059 L1333.43 72.576 L1325.98 72.576 L1325.98 27.2059 M1325.98 9.54393 L1333.43 9.54393 L1333.43 18.9825 L1325.98 18.9825 L1325.98 9.54393 Z\" fill=\"#000000\" fill-rule=\"evenodd\" fill-opacity=\"1\" /><path clip-path=\"url(#clip840)\" d=\"M1377.95 28.5427 L1377.95 35.5912 Q1374.79 33.9709 1371.39 33.1607 Q1367.99 32.3505 1364.34 32.3505 Q1358.79 32.3505 1356 34.0519 Q1353.24 35.7533 1353.24 39.156 Q1353.24 41.7486 1355.23 43.2475 Q1357.21 44.7058 1363.21 46.0426 L1365.76 46.6097 Q1373.7 48.3111 1377.02 51.4303 Q1380.38 54.509 1380.38 60.0587 Q1380.38 66.3781 1375.36 70.0644 Q1370.38 73.7508 1361.63 73.7508 Q1357.98 73.7508 1354.01 73.0216 Q1350.08 72.3329 1345.71 70.9151 L1345.71 63.2184 Q1349.84 65.3654 1353.85 66.4591 Q1357.86 67.5124 1361.79 67.5124 Q1367.06 67.5124 1369.89 65.73 Q1372.73 63.9071 1372.73 60.6258 Q1372.73 57.5877 1370.66 55.9673 Q1368.64 54.3469 1361.71 52.8481 L1359.12 52.2405 Q1352.19 50.7821 1349.11 47.7845 Q1346.03 44.7463 1346.03 39.4801 Q1346.03 33.0797 1350.57 29.5959 Q1355.11 26.1121 1363.45 26.1121 Q1367.58 26.1121 1371.23 26.7198 Q1374.88 27.3274 1377.95 28.5427 Z\" fill=\"#000000\" fill-rule=\"evenodd\" fill-opacity=\"1\" /><path clip-path=\"url(#clip840)\" d=\"M1399.63 14.324 L1399.63 27.2059 L1414.98 27.2059 L1414.98 32.9987 L1399.63 32.9987 L1399.63 57.6282 Q1399.63 63.1779 1401.13 64.7578 Q1402.66 66.3376 1407.32 66.3376 L1414.98 66.3376 L1414.98 72.576 L1407.32 72.576 Q1398.69 72.576 1395.41 69.3758 Q1392.13 66.1351 1392.13 57.6282 L1392.13 32.9987 L1386.66 32.9987 L1386.66 27.2059 L1392.13 27.2059 L1392.13 14.324 L1399.63 14.324 Z\" fill=\"#000000\" fill-rule=\"evenodd\" fill-opacity=\"1\" /><path clip-path=\"url(#clip840)\" d=\"M1442.36 32.4315 Q1436.37 32.4315 1432.88 37.1306 Q1429.4 41.7891 1429.4 49.9314 Q1429.4 58.0738 1432.84 62.7728 Q1436.33 67.4314 1442.36 67.4314 Q1448.32 67.4314 1451.8 62.7323 Q1455.29 58.0333 1455.29 49.9314 Q1455.29 41.8701 1451.8 37.1711 Q1448.32 32.4315 1442.36 32.4315 M1442.36 26.1121 Q1452.09 26.1121 1457.64 32.4315 Q1463.19 38.7509 1463.19 49.9314 Q1463.19 61.0714 1457.64 67.4314 Q1452.09 73.7508 1442.36 73.7508 Q1432.6 73.7508 1427.05 67.4314 Q1421.54 61.0714 1421.54 49.9314 Q1421.54 38.7509 1427.05 32.4315 Q1432.6 26.1121 1442.36 26.1121 Z\" fill=\"#000000\" fill-rule=\"evenodd\" fill-opacity=\"1\" /><path clip-path=\"url(#clip840)\" d=\"M1501.83 34.1734 Q1500.57 33.4443 1499.08 33.1202 Q1497.62 32.7556 1495.84 32.7556 Q1489.52 32.7556 1486.11 36.8875 Q1482.75 40.9789 1482.75 48.6757 L1482.75 72.576 L1475.26 72.576 L1475.26 27.2059 L1482.75 27.2059 L1482.75 34.2544 Q1485.1 30.1225 1488.87 28.1376 Q1492.64 26.1121 1498.02 26.1121 Q1498.79 26.1121 1499.72 26.2337 Q1500.66 26.3147 1501.79 26.5172 L1501.83 34.1734 Z\" fill=\"#000000\" fill-rule=\"evenodd\" fill-opacity=\"1\" /><path clip-path=\"url(#clip840)\" d=\"M1528.53 76.7889 Q1525.37 84.8907 1522.37 87.3618 Q1519.37 89.8329 1514.35 89.8329 L1508.39 89.8329 L1508.39 83.5945 L1512.77 83.5945 Q1515.85 83.5945 1517.55 82.1361 Q1519.25 80.6778 1521.32 75.2496 L1522.65 71.8468 L1504.3 27.2059 L1512.2 27.2059 L1526.38 62.6918 L1540.56 27.2059 L1548.46 27.2059 L1528.53 76.7889 Z\" fill=\"#000000\" fill-rule=\"evenodd\" fill-opacity=\"1\" /><polyline clip-path=\"url(#clip842)\" style=\"stroke:#009af9; stroke-linecap:round; stroke-linejoin:round; stroke-width:4; stroke-opacity:1; fill:none\" points=\"271.594,944.985 278.329,952.3 285.064,959.532 291.799,966.68 298.534,973.746 305.27,980.729 312.005,987.63 318.74,994.449 325.475,1001.19 332.21,1007.84 338.945,1014.42 345.68,1020.92 352.416,1027.34 359.151,1033.67 365.886,1039.93 372.621,1046.11 379.356,1052.22 386.091,1058.24 392.827,1064.19 399.562,1070.06 406.297,1075.85 413.032,1081.57 419.767,1087.21 426.502,1092.78 433.237,1098.27 439.973,1103.69 446.708,1109.03 453.443,1114.3 460.178,1119.49 466.913,1124.62 473.648,1129.67 480.384,1134.64 487.119,1139.55 493.854,1144.38 500.589,1149.15 507.324,1153.84 514.059,1158.46 520.794,1163.01 527.53,1167.49 534.265,1171.91 541,1176.25 547.735,1180.53 554.47,1184.74 561.205,1188.88 567.941,1192.95 574.676,1196.96 581.411,1200.9 588.146,1204.77 594.881,1208.58 601.616,1212.32 608.351,1216 615.087,1219.61 621.822,1223.16 628.557,1226.65 635.292,1230.07 642.027,1233.43 648.762,1236.73 655.497,1239.96 662.233,1243.13 668.968,1246.25 675.703,1249.3 682.438,1252.29 689.173,1255.22 695.908,1258.09 702.644,1260.9 709.379,1263.65 716.114,1266.34 722.849,1268.98 729.584,1271.55 736.319,1274.07 743.054,1276.53 749.79,1278.94 756.525,1281.29 763.26,1283.58 769.995,1285.82 776.73,1288 783.465,1290.13 790.201,1292.2 796.936,1294.22 803.671,1296.19 810.406,1298.1 817.141,1299.96 823.876,1301.76 830.611,1303.52 837.347,1305.22 844.082,1306.87 850.817,1308.48 857.552,1310.03 864.287,1311.53 871.022,1312.98 877.758,1314.38 884.493,1315.73 891.228,1317.04 897.963,1318.29 904.698,1319.5 911.433,1320.66 918.168,1321.78 924.904,1322.85 931.639,1323.87 938.374,1324.84 945.109,1325.77 951.844,1326.66 958.579,1327.5 965.314,1328.3 972.05,1329.05 978.785,1329.76 985.52,1330.42 992.255,1331.05 998.99,1331.63 1005.73,1332.17 1012.46,1332.67 1019.2,1333.12 1025.93,1333.54 1032.67,1333.92 1039.4,1334.25 1046.14,1334.55 1052.87,1334.81 1059.61,1335.02 1066.34,1335.2 1073.08,1335.35 1079.81,1335.45 1086.55,1335.52 1093.28,1335.55 1100.02,1335.55 1106.75,1335.5 1113.49,1335.43 1120.22,1335.31 1126.96,1335.17 1133.69,1334.99 1140.43,1334.77 1147.16,1334.52 1153.9,1334.24 1160.63,1333.93 1167.37,1333.58 1174.1,1333.2 1180.84,1332.79 1187.57,1332.35 1194.31,1331.87 1201.04,1331.37 1207.78,1330.84 1214.52,1330.28 1221.25,1329.68 1227.99,1329.06 1234.72,1328.41 1241.46,1327.74 1248.19,1327.03 1254.93,1326.3 1261.66,1325.54 1268.4,1324.75 1275.13,1323.94 1281.87,1323.1 1288.6,1322.24 1295.34,1321.35 1302.07,1320.44 1308.81,1319.51 1315.54,1318.55 1322.28,1317.56 1329.01,1316.56 1335.75,1315.53 1342.48,1314.48 1349.22,1313.41 1355.95,1312.31 1362.69,1311.2 1369.42,1310.07 1376.16,1308.91 1382.89,1307.74 1389.63,1306.54 1396.36,1305.33 1403.1,1304.1 1409.83,1302.85 1416.57,1301.59 1423.3,1300.3 1430.04,1299 1436.78,1297.68 1443.51,1296.35 1450.25,1295 1456.98,1293.64 1463.72,1292.26 1470.45,1290.87 1477.19,1289.46 1483.92,1288.04 1490.66,1286.61 1497.39,1285.16 1504.13,1283.7 1510.86,1282.23 1517.6,1280.75 1524.33,1279.25 1531.07,1277.75 1537.8,1276.23 1544.54,1274.71 1551.27,1273.17 1558.01,1271.63 1564.74,1270.08 1571.48,1268.52 1578.21,1266.95 1584.95,1265.37 1591.68,1263.79 1598.42,1262.2 1605.15,1260.6 1611.89,1259 1618.62,1257.4 1625.36,1255.78 1632.09,1254.17 1638.83,1252.55 1645.56,1250.92 1652.3,1249.29 1659.04,1247.66 1665.77,1246.03 1672.51,1244.39 1679.24,1242.75 1685.98,1241.11 1692.71,1239.47 1699.45,1237.83 1706.18,1236.19 1712.92,1234.55 1719.65,1232.91 1726.39,1231.28 1733.12,1229.64 1739.86,1228.01 1746.59,1226.37 1753.33,1224.74 1760.06,1223.12 1766.8,1221.49 1773.53,1219.88 1780.27,1218.26 1787,1216.65 1793.74,1215.05 1800.47,1213.45 1807.21,1211.86 1813.94,1210.28 1820.68,1208.7 1827.41,1207.13 1834.15,1205.56 1840.88,1204.01 1847.62,1202.46 1854.35,1200.93 1861.09,1199.4 1867.82,1197.88 1874.56,1196.38 1881.3,1194.88 1888.03,1193.4 1894.77,1191.92 1901.5,1190.46 1908.24,1189.01 1914.97,1187.58 1921.71,1186.16 1928.44,1184.75 1935.18,1183.35 1941.91,1181.97 1948.65,1180.61 1955.38,1179.26 1962.12,1177.93 1968.85,1176.61 1975.59,1175.31 1982.32,1174.03 1989.06,1172.76 1995.79,1171.52 2002.53,1170.29 2009.26,1169.08 2016,1167.89 2022.73,1166.72 2029.47,1165.57 2036.2,1164.44 2042.94,1163.33 2049.67,1162.25 2056.41,1161.18 2063.14,1160.14 2069.88,1159.12 2076.61,1158.12 2083.35,1157.15 2090.08,1156.2 2096.82,1155.28 2103.56,1154.38 2110.29,1153.51 2117.03,1152.66 2123.76,1151.84 2130.5,1151.05 2137.23,1150.28 2143.97,1149.54 2150.7,1148.83 2157.44,1148.15 2164.17,1147.49 2170.91,1146.87 2177.64,1146.27 2184.38,1145.71 2191.11,1145.18 2197.85,1144.67 2204.58,1144.2 2211.32,1143.77 2218.05,1143.36 2224.79,1142.99 2231.52,1142.65 2238.26,1142.34 2244.99,1142.07 2251.73,1141.83 2258.46,1141.63 2265.2,1141.47 2271.93,1141.34 2278.67,1141.24 2285.4,1141.19 2292.14,1141.17 \"/>\n",
       "<polyline clip-path=\"url(#clip842)\" style=\"stroke:#e26f46; stroke-linecap:round; stroke-linejoin:round; stroke-width:4; stroke-opacity:1; fill:none\" points=\"271.594,1043.08 278.329,1038.21 285.064,1033.41 291.799,1028.68 298.534,1024.02 305.27,1019.43 312.005,1014.91 318.74,1010.46 325.475,1006.08 332.21,1001.77 338.945,997.522 345.68,993.344 352.416,989.232 359.151,985.187 365.886,981.209 372.621,977.296 379.356,973.45 386.091,969.668 392.827,965.951 399.562,962.299 406.297,958.712 413.032,955.188 419.767,951.727 426.502,948.33 433.237,944.996 439.973,941.723 446.708,938.513 453.443,935.365 460.178,932.278 466.913,929.252 473.648,926.287 480.384,923.382 487.119,920.537 493.854,917.751 500.589,915.025 507.324,912.357 514.059,909.748 520.794,907.197 527.53,904.704 534.265,902.268 541,899.89 547.735,897.568 554.47,895.302 561.205,893.092 567.941,890.938 574.676,888.839 581.411,886.796 588.146,884.806 594.881,882.871 601.616,880.99 608.351,879.162 615.087,877.387 621.822,875.665 628.557,873.995 635.292,872.378 642.027,870.812 648.762,869.297 655.497,867.834 662.233,866.421 668.968,865.058 675.703,863.745 682.438,862.481 689.173,861.267 695.908,860.102 702.644,858.985 709.379,857.916 716.114,856.895 722.849,855.921 729.584,854.994 736.319,854.114 743.054,853.28 749.79,852.493 756.525,851.75 763.26,851.053 769.995,850.401 776.73,849.793 783.465,849.23 790.201,848.71 796.936,848.234 803.671,847.8 810.406,847.41 817.141,847.062 823.876,846.755 830.611,846.491 837.347,846.267 844.082,846.085 850.817,845.943 857.552,845.841 864.287,845.779 871.022,845.757 877.758,845.774 884.493,845.829 891.228,845.923 897.963,846.055 904.698,846.224 911.433,846.431 918.168,846.675 924.904,846.955 931.639,847.272 938.374,847.624 945.109,848.012 951.844,848.436 958.579,848.893 965.314,849.386 972.05,849.912 978.785,850.472 985.52,851.066 992.255,851.692 998.99,852.351 1005.73,853.042 1012.46,853.766 1019.2,854.52 1025.93,855.306 1032.67,856.123 1039.4,856.97 1046.14,857.847 1052.87,858.754 1059.61,859.691 1066.34,860.656 1073.08,861.65 1079.81,862.672 1086.55,863.722 1093.28,864.8 1100.02,865.905 1106.75,867.037 1113.49,868.195 1120.22,869.379 1126.96,870.589 1133.69,871.824 1140.43,873.085 1147.16,874.37 1153.9,875.679 1160.63,877.012 1167.37,878.369 1174.1,879.749 1180.84,881.152 1187.57,882.577 1194.31,884.024 1201.04,885.493 1207.78,886.984 1214.52,888.495 1221.25,890.027 1227.99,891.58 1234.72,893.152 1241.46,894.744 1248.19,896.355 1254.93,897.984 1261.66,899.633 1268.4,901.299 1275.13,902.983 1281.87,904.684 1288.6,906.402 1295.34,908.137 1302.07,909.888 1308.81,911.655 1315.54,913.438 1322.28,915.235 1329.01,917.048 1335.75,918.875 1342.48,920.715 1349.22,922.57 1355.95,924.438 1362.69,926.318 1369.42,928.212 1376.16,930.117 1382.89,932.034 1389.63,933.963 1396.36,935.903 1403.1,937.853 1409.83,939.814 1416.57,941.785 1423.3,943.765 1430.04,945.755 1436.78,947.754 1443.51,949.761 1450.25,951.776 1456.98,953.799 1463.72,955.829 1470.45,957.866 1477.19,959.91 1483.92,961.96 1490.66,964.016 1497.39,966.078 1504.13,968.144 1510.86,970.216 1517.6,972.291 1524.33,974.371 1531.07,976.455 1537.8,978.542 1544.54,980.631 1551.27,982.723 1558.01,984.818 1564.74,986.914 1571.48,989.011 1578.21,991.11 1584.95,993.209 1591.68,995.308 1598.42,997.408 1605.15,999.506 1611.89,1001.6 1618.62,1003.7 1625.36,1005.8 1632.09,1007.89 1638.83,1009.98 1645.56,1012.07 1652.3,1014.15 1659.04,1016.23 1665.77,1018.31 1672.51,1020.39 1679.24,1022.45 1685.98,1024.52 1692.71,1026.58 1699.45,1028.63 1706.18,1030.67 1712.92,1032.71 1719.65,1034.75 1726.39,1036.77 1733.12,1038.79 1739.86,1040.8 1746.59,1042.8 1753.33,1044.79 1760.06,1046.78 1766.8,1048.75 1773.53,1050.71 1780.27,1052.67 1787,1054.61 1793.74,1056.54 1800.47,1058.46 1807.21,1060.37 1813.94,1062.26 1820.68,1064.15 1827.41,1066.02 1834.15,1067.87 1840.88,1069.72 1847.62,1071.55 1854.35,1073.36 1861.09,1075.16 1867.82,1076.94 1874.56,1078.71 1881.3,1080.46 1888.03,1082.2 1894.77,1083.91 1901.5,1085.61 1908.24,1087.3 1914.97,1088.96 1921.71,1090.61 1928.44,1092.24 1935.18,1093.85 1941.91,1095.43 1948.65,1097 1955.38,1098.55 1962.12,1100.08 1968.85,1101.59 1975.59,1103.07 1982.32,1104.53 1989.06,1105.97 1995.79,1107.39 2002.53,1108.78 2009.26,1110.16 2016,1111.5 2022.73,1112.82 2029.47,1114.12 2036.2,1115.39 2042.94,1116.64 2049.67,1117.86 2056.41,1119.06 2063.14,1120.22 2069.88,1121.37 2076.61,1122.48 2083.35,1123.56 2090.08,1124.62 2096.82,1125.65 2103.56,1126.65 2110.29,1127.62 2117.03,1128.56 2123.76,1129.47 2130.5,1130.35 2137.23,1131.19 2143.97,1132.01 2150.7,1132.79 2157.44,1133.54 2164.17,1134.26 2170.91,1134.95 2177.64,1135.6 2184.38,1136.22 2191.11,1136.8 2197.85,1137.35 2204.58,1137.87 2211.32,1138.35 2218.05,1138.79 2224.79,1139.19 2231.52,1139.56 2238.26,1139.9 2244.99,1140.19 2251.73,1140.45 2258.46,1140.67 2265.2,1140.85 2271.93,1140.99 2278.67,1141.09 2285.4,1141.15 2292.14,1141.17 \"/>\n",
       "<polyline clip-path=\"url(#clip842)\" style=\"stroke:#3da44d; stroke-linecap:round; stroke-linejoin:round; stroke-width:4; stroke-opacity:1; fill:none\" points=\"271.594,160.256 278.329,172.469 285.064,184.585 291.799,196.605 298.534,208.528 305.27,220.356 312.005,232.088 318.74,243.726 325.475,255.268 332.21,266.716 338.945,278.07 345.68,289.331 352.416,300.498 359.151,311.572 365.886,322.554 372.621,333.444 379.356,344.241 386.091,354.947 392.827,365.562 399.562,376.087 406.297,386.52 413.032,396.864 419.767,407.118 426.502,417.283 433.237,427.359 439.973,437.346 446.708,447.245 453.443,457.056 460.178,466.779 466.913,476.416 473.648,485.965 480.384,495.428 487.119,504.805 493.854,514.097 500.589,523.303 507.324,532.424 514.059,541.46 520.794,550.413 527.53,559.281 534.265,568.066 541,576.768 547.735,585.387 554.47,593.923 561.205,602.378 567.941,610.751 574.676,619.042 581.411,627.253 588.146,635.383 594.881,643.433 601.616,651.404 608.351,659.295 615.087,667.106 621.822,674.839 628.557,682.494 635.292,690.071 642.027,697.57 648.762,704.992 655.497,712.338 662.233,719.606 668.968,726.799 675.703,733.916 682.438,740.958 689.173,747.925 695.908,754.817 702.644,761.635 709.379,768.379 716.114,775.05 722.849,781.648 729.584,788.172 736.319,794.625 743.054,801.006 749.79,807.315 756.525,813.553 763.26,819.72 769.995,825.816 776.73,831.843 783.465,837.8 790.201,843.688 796.936,849.506 803.671,855.256 810.406,860.938 817.141,866.552 823.876,872.099 830.611,877.579 837.347,882.992 844.082,888.339 850.817,893.619 857.552,898.835 864.287,903.985 871.022,909.07 877.758,914.091 884.493,919.048 891.228,923.942 897.963,928.772 904.698,933.539 911.433,938.244 918.168,942.886 924.904,947.467 931.639,951.987 938.374,956.445 945.109,960.843 951.844,965.181 958.579,969.459 965.314,973.678 972.05,977.837 978.785,981.938 985.52,985.98 992.255,989.965 998.99,993.892 1005.73,997.762 1012.46,1001.57 1019.2,1005.33 1025.93,1009.03 1032.67,1012.68 1039.4,1016.27 1046.14,1019.8 1052.87,1023.28 1059.61,1026.71 1066.34,1030.08 1073.08,1033.4 1079.81,1036.67 1086.55,1039.88 1093.28,1043.04 1100.02,1046.15 1106.75,1049.21 1113.49,1052.22 1120.22,1055.17 1126.96,1058.08 1133.69,1060.94 1140.43,1063.74 1147.16,1066.5 1153.9,1069.21 1160.63,1071.87 1167.37,1074.48 1174.1,1077.05 1180.84,1079.57 1187.57,1082.04 1194.31,1084.46 1201.04,1086.84 1207.78,1089.17 1214.52,1091.46 1221.25,1093.7 1227.99,1095.9 1234.72,1098.06 1241.46,1100.17 1248.19,1102.23 1254.93,1104.26 1261.66,1106.24 1268.4,1108.18 1275.13,1110.08 1281.87,1111.93 1288.6,1113.75 1295.34,1115.52 1302.07,1117.25 1308.81,1118.95 1315.54,1120.6 1322.28,1122.22 1329.01,1123.79 1335.75,1125.33 1342.48,1126.83 1349.22,1128.29 1355.95,1129.72 1362.69,1131.1 1369.42,1132.46 1376.16,1133.77 1382.89,1135.05 1389.63,1136.3 1396.36,1137.5 1403.1,1138.68 1409.83,1139.82 1416.57,1140.93 1423.3,1142 1430.04,1143.04 1436.78,1144.05 1443.51,1145.02 1450.25,1145.97 1456.98,1146.88 1463.72,1147.76 1470.45,1148.61 1477.19,1149.43 1483.92,1150.22 1490.66,1150.98 1497.39,1151.71 1504.13,1152.42 1510.86,1153.09 1517.6,1153.74 1524.33,1154.36 1531.07,1154.95 1537.8,1155.51 1544.54,1156.05 1551.27,1156.56 1558.01,1157.05 1564.74,1157.51 1571.48,1157.94 1578.21,1158.35 1584.95,1158.74 1591.68,1159.1 1598.42,1159.44 1605.15,1159.76 1611.89,1160.05 1618.62,1160.33 1625.36,1160.58 1632.09,1160.8 1638.83,1161.01 1645.56,1161.2 1652.3,1161.36 1659.04,1161.51 1665.77,1161.64 1672.51,1161.74 1679.24,1161.83 1685.98,1161.9 1692.71,1161.96 1699.45,1161.99 1706.18,1162.01 1712.92,1162.01 1719.65,1161.99 1726.39,1161.96 1733.12,1161.91 1739.86,1161.85 1746.59,1161.77 1753.33,1161.68 1760.06,1161.57 1766.8,1161.45 1773.53,1161.31 1780.27,1161.17 1787,1161.01 1793.74,1160.83 1800.47,1160.65 1807.21,1160.45 1813.94,1160.25 1820.68,1160.03 1827.41,1159.8 1834.15,1159.56 1840.88,1159.32 1847.62,1159.06 1854.35,1158.79 1861.09,1158.52 1867.82,1158.24 1874.56,1157.95 1881.3,1157.65 1888.03,1157.35 1894.77,1157.04 1901.5,1156.72 1908.24,1156.4 1914.97,1156.07 1921.71,1155.74 1928.44,1155.41 1935.18,1155.06 1941.91,1154.72 1948.65,1154.37 1955.38,1154.02 1962.12,1153.67 1968.85,1153.31 1975.59,1152.95 1982.32,1152.59 1989.06,1152.23 1995.79,1151.87 2002.53,1151.51 2009.26,1151.15 2016,1150.79 2022.73,1150.43 2029.47,1150.07 2036.2,1149.71 2042.94,1149.36 2049.67,1149 2056.41,1148.65 2063.14,1148.31 2069.88,1147.96 2076.61,1147.62 2083.35,1147.29 2090.08,1146.96 2096.82,1146.63 2103.56,1146.31 2110.29,1146 2117.03,1145.69 2123.76,1145.39 2130.5,1145.1 2137.23,1144.81 2143.97,1144.53 2150.7,1144.26 2157.44,1144 2164.17,1143.75 2170.91,1143.5 2177.64,1143.27 2184.38,1143.05 2191.11,1142.83 2197.85,1142.63 2204.58,1142.44 2211.32,1142.26 2218.05,1142.1 2224.79,1141.94 2231.52,1141.8 2238.26,1141.67 2244.99,1141.56 2251.73,1141.46 2258.46,1141.37 2265.2,1141.3 2271.93,1141.24 2278.67,1141.2 2285.4,1141.18 2292.14,1141.17 \"/>\n",
       "<polyline clip-path=\"url(#clip842)\" style=\"stroke:#c271d2; stroke-linecap:round; stroke-linejoin:round; stroke-width:4; stroke-opacity:1; fill:none\" stroke-dasharray=\"16, 10\" points=\"271.594,1288.3 278.329,1286.63 285.064,1284.96 291.799,1283.3 298.534,1281.65 305.27,1280.01 312.005,1278.37 318.74,1276.74 325.475,1275.12 332.21,1273.51 338.945,1271.9 345.68,1270.31 352.416,1268.72 359.151,1267.14 365.886,1265.56 372.621,1264 379.356,1262.44 386.091,1260.89 392.827,1259.34 399.562,1257.81 406.297,1256.28 413.032,1254.76 419.767,1253.25 426.502,1251.75 433.237,1250.25 439.973,1248.76 446.708,1247.28 453.443,1245.81 460.178,1244.34 466.913,1242.89 473.648,1241.44 480.384,1240 487.119,1238.56 493.854,1237.14 500.589,1235.72 507.324,1234.31 514.059,1232.9 520.794,1231.51 527.53,1230.12 534.265,1228.74 541,1227.37 547.735,1226.01 554.47,1224.65 561.205,1223.3 567.941,1221.96 574.676,1220.63 581.411,1219.3 588.146,1217.99 594.881,1216.68 601.616,1215.38 608.351,1214.08 615.087,1212.8 621.822,1211.52 628.557,1210.25 635.292,1208.98 642.027,1207.73 648.762,1206.48 655.497,1205.24 662.233,1204.01 668.968,1202.79 675.703,1201.57 682.438,1200.36 689.173,1199.16 695.908,1197.97 702.644,1196.78 709.379,1195.61 716.114,1194.44 722.849,1193.28 729.584,1192.12 736.319,1190.98 743.054,1189.84 749.79,1188.71 756.525,1187.59 763.26,1186.47 769.995,1185.36 776.73,1184.26 783.465,1183.17 790.201,1182.09 796.936,1181.01 803.671,1179.95 810.406,1178.89 817.141,1177.83 823.876,1176.79 830.611,1175.75 837.347,1174.72 844.082,1173.7 850.817,1172.69 857.552,1171.68 864.287,1170.68 871.022,1169.69 877.758,1168.71 884.493,1167.74 891.228,1166.77 897.963,1165.81 904.698,1164.86 911.433,1163.92 918.168,1162.98 924.904,1162.06 931.639,1161.14 938.374,1160.23 945.109,1159.32 951.844,1158.43 958.579,1157.54 965.314,1156.66 972.05,1155.78 978.785,1154.92 985.52,1154.06 992.255,1153.21 998.99,1152.37 1005.73,1151.54 1012.46,1150.71 1019.2,1149.9 1025.93,1149.09 1032.67,1148.29 1039.4,1147.49 1046.14,1146.71 1052.87,1145.93 1059.61,1145.16 1066.34,1144.39 1073.08,1143.64 1079.81,1142.89 1086.55,1142.15 1093.28,1141.42 1100.02,1140.7 1106.75,1139.98 1113.49,1139.28 1120.22,1138.58 1126.96,1137.89 1133.69,1137.2 1140.43,1136.53 1147.16,1135.86 1153.9,1135.2 1160.63,1134.55 1167.37,1133.9 1174.1,1133.27 1180.84,1132.64 1187.57,1132.02 1194.31,1131.41 1201.04,1130.8 1207.78,1130.2 1214.52,1129.62 1221.25,1129.03 1227.99,1128.46 1234.72,1127.9 1241.46,1127.34 1248.19,1126.79 1254.93,1126.25 1261.66,1125.72 1268.4,1125.19 1275.13,1124.68 1281.87,1124.17 1288.6,1123.67 1295.34,1123.17 1302.07,1122.69 1308.81,1122.21 1315.54,1121.74 1322.28,1121.28 1329.01,1120.83 1335.75,1120.38 1342.48,1119.94 1349.22,1119.51 1355.95,1119.09 1362.69,1118.68 1369.42,1118.28 1376.16,1117.88 1382.89,1117.49 1389.63,1117.11 1396.36,1116.74 1403.1,1116.37 1409.83,1116.01 1416.57,1115.66 1423.3,1115.32 1430.04,1114.99 1436.78,1114.67 1443.51,1114.35 1450.25,1114.04 1456.98,1113.74 1463.72,1113.45 1470.45,1113.16 1477.19,1112.89 1483.92,1112.62 1490.66,1112.36 1497.39,1112.11 1504.13,1111.87 1510.86,1111.63 1517.6,1111.4 1524.33,1111.18 1531.07,1110.97 1537.8,1110.77 1544.54,1110.57 1551.27,1110.39 1558.01,1110.21 1564.74,1110.04 1571.48,1109.88 1578.21,1109.72 1584.95,1109.58 1591.68,1109.44 1598.42,1109.31 1605.15,1109.19 1611.89,1109.08 1618.62,1108.97 1625.36,1108.87 1632.09,1108.79 1638.83,1108.71 1645.56,1108.63 1652.3,1108.57 1659.04,1108.52 1665.77,1108.47 1672.51,1108.43 1679.24,1108.4 1685.98,1108.38 1692.71,1108.36 1699.45,1108.36 1706.18,1108.36 1712.92,1108.37 1719.65,1108.39 1726.39,1108.42 1733.12,1108.45 1739.86,1108.5 1746.59,1108.55 1753.33,1108.61 1760.06,1108.68 1766.8,1108.76 1773.53,1108.84 1780.27,1108.94 1787,1109.04 1793.74,1109.15 1800.47,1109.27 1807.21,1109.4 1813.94,1109.53 1820.68,1109.68 1827.41,1109.83 1834.15,1109.99 1840.88,1110.16 1847.62,1110.34 1854.35,1110.53 1861.09,1110.72 1867.82,1110.93 1874.56,1111.14 1881.3,1111.36 1888.03,1111.59 1894.77,1111.83 1901.5,1112.07 1908.24,1112.33 1914.97,1112.59 1921.71,1112.86 1928.44,1113.14 1935.18,1113.43 1941.91,1113.73 1948.65,1114.03 1955.38,1114.35 1962.12,1114.67 1968.85,1115 1975.59,1115.34 1982.32,1115.69 1989.06,1116.05 1995.79,1116.42 2002.53,1116.79 2009.26,1117.17 2016,1117.57 2022.73,1117.97 2029.47,1118.37 2036.2,1118.79 2042.94,1119.22 2049.67,1119.65 2056.41,1120.1 2063.14,1120.55 2069.88,1121.01 2076.61,1121.48 2083.35,1121.96 2090.08,1122.45 2096.82,1122.94 2103.56,1123.45 2110.29,1123.96 2117.03,1124.48 2123.76,1125.02 2130.5,1125.56 2137.23,1126.1 2143.97,1126.66 2150.7,1127.23 2157.44,1127.8 2164.17,1128.39 2170.91,1128.98 2177.64,1129.58 2184.38,1130.19 2191.11,1130.81 2197.85,1131.44 2204.58,1132.08 2211.32,1132.72 2218.05,1133.38 2224.79,1134.04 2231.52,1134.71 2238.26,1135.39 2244.99,1136.08 2251.73,1136.78 2258.46,1137.49 2265.2,1138.21 2271.93,1138.94 2278.67,1139.67 2285.4,1140.41 2292.14,1141.17 \"/>\n",
       "<polyline clip-path=\"url(#clip842)\" style=\"stroke:#ac8d18; stroke-linecap:round; stroke-linejoin:round; stroke-width:4; stroke-opacity:1; fill:none\" stroke-dasharray=\"16, 10\" points=\"271.594,1043.08 278.329,1044.49 285.064,1045.9 291.799,1047.31 298.534,1048.7 305.27,1050.09 312.005,1051.47 318.74,1052.84 325.475,1054.21 332.21,1055.57 338.945,1056.92 345.68,1058.27 352.416,1059.61 359.151,1060.94 365.886,1062.26 372.621,1063.58 379.356,1064.89 386.091,1066.19 392.827,1067.48 399.562,1068.77 406.297,1070.05 413.032,1071.33 419.767,1072.59 426.502,1073.85 433.237,1075.1 439.973,1076.35 446.708,1077.59 453.443,1078.82 460.178,1080.04 466.913,1081.26 473.648,1082.47 480.384,1083.67 487.119,1084.86 493.854,1086.05 500.589,1087.23 507.324,1088.4 514.059,1089.57 520.794,1090.73 527.53,1091.88 534.265,1093.03 541,1094.16 547.735,1095.29 554.47,1096.42 561.205,1097.53 567.941,1098.64 574.676,1099.74 581.411,1100.84 588.146,1101.92 594.881,1103 601.616,1104.08 608.351,1105.14 615.087,1106.2 621.822,1107.25 628.557,1108.3 635.292,1109.33 642.027,1110.36 648.762,1111.39 655.497,1112.4 662.233,1113.41 668.968,1114.41 675.703,1115.41 682.438,1116.39 689.173,1117.37 695.908,1118.35 702.644,1119.31 709.379,1120.27 716.114,1121.22 722.849,1122.16 729.584,1123.1 736.319,1124.03 743.054,1124.95 749.79,1125.87 756.525,1126.78 763.26,1127.68 769.995,1128.57 776.73,1129.46 783.465,1130.34 790.201,1131.21 796.936,1132.07 803.671,1132.93 810.406,1133.78 817.141,1134.62 823.876,1135.46 830.611,1136.29 837.347,1137.11 844.082,1137.93 850.817,1138.73 857.552,1139.53 864.287,1140.33 871.022,1141.11 877.758,1141.89 884.493,1142.66 891.228,1143.43 897.963,1144.18 904.698,1144.93 911.433,1145.68 918.168,1146.41 924.904,1147.14 931.639,1147.86 938.374,1148.57 945.109,1149.28 951.844,1149.98 958.579,1150.67 965.314,1151.36 972.05,1152.03 978.785,1152.7 985.52,1153.37 992.255,1154.02 998.99,1154.67 1005.73,1155.31 1012.46,1155.95 1019.2,1156.58 1025.93,1157.2 1032.67,1157.81 1039.4,1158.41 1046.14,1159.01 1052.87,1159.6 1059.61,1160.19 1066.34,1160.76 1073.08,1161.33 1079.81,1161.89 1086.55,1162.45 1093.28,1163 1100.02,1163.54 1106.75,1164.07 1113.49,1164.59 1120.22,1165.11 1126.96,1165.62 1133.69,1166.13 1140.43,1166.62 1147.16,1167.11 1153.9,1167.59 1160.63,1168.07 1167.37,1168.54 1174.1,1169 1180.84,1169.45 1187.57,1169.9 1194.31,1170.33 1201.04,1170.76 1207.78,1171.19 1214.52,1171.6 1221.25,1172.01 1227.99,1172.42 1234.72,1172.81 1241.46,1173.2 1248.19,1173.58 1254.93,1173.95 1261.66,1174.31 1268.4,1174.67 1275.13,1175.02 1281.87,1175.37 1288.6,1175.7 1295.34,1176.03 1302.07,1176.35 1308.81,1176.66 1315.54,1176.97 1322.28,1177.27 1329.01,1177.56 1335.75,1177.85 1342.48,1178.12 1349.22,1178.39 1355.95,1178.65 1362.69,1178.91 1369.42,1179.16 1376.16,1179.4 1382.89,1179.63 1389.63,1179.85 1396.36,1180.07 1403.1,1180.28 1409.83,1180.49 1416.57,1180.68 1423.3,1180.87 1430.04,1181.05 1436.78,1181.22 1443.51,1181.39 1450.25,1181.55 1456.98,1181.7 1463.72,1181.84 1470.45,1181.98 1477.19,1182.11 1483.92,1182.23 1490.66,1182.34 1497.39,1182.45 1504.13,1182.55 1510.86,1182.64 1517.6,1182.73 1524.33,1182.8 1531.07,1182.87 1537.8,1182.93 1544.54,1182.99 1551.27,1183.03 1558.01,1183.07 1564.74,1183.11 1571.48,1183.13 1578.21,1183.15 1584.95,1183.16 1591.68,1183.16 1598.42,1183.15 1605.15,1183.14 1611.89,1183.12 1618.62,1183.09 1625.36,1183.05 1632.09,1183.01 1638.83,1182.96 1645.56,1182.9 1652.3,1182.83 1659.04,1182.76 1665.77,1182.68 1672.51,1182.59 1679.24,1182.49 1685.98,1182.39 1692.71,1182.28 1699.45,1182.16 1706.18,1182.03 1712.92,1181.89 1719.65,1181.75 1726.39,1181.6 1733.12,1181.44 1739.86,1181.28 1746.59,1181.11 1753.33,1180.93 1760.06,1180.74 1766.8,1180.54 1773.53,1180.34 1780.27,1180.13 1787,1179.91 1793.74,1179.68 1800.47,1179.45 1807.21,1179.21 1813.94,1178.96 1820.68,1178.7 1827.41,1178.43 1834.15,1178.16 1840.88,1177.88 1847.62,1177.59 1854.35,1177.3 1861.09,1176.99 1867.82,1176.68 1874.56,1176.36 1881.3,1176.04 1888.03,1175.7 1894.77,1175.36 1901.5,1175.01 1908.24,1174.65 1914.97,1174.29 1921.71,1173.91 1928.44,1173.53 1935.18,1173.14 1941.91,1172.75 1948.65,1172.34 1955.38,1171.93 1962.12,1171.51 1968.85,1171.08 1975.59,1170.64 1982.32,1170.2 1989.06,1169.75 1995.79,1169.29 2002.53,1168.82 2009.26,1168.34 2016,1167.86 2022.73,1167.37 2029.47,1166.87 2036.2,1166.36 2042.94,1165.85 2049.67,1165.33 2056.41,1164.79 2063.14,1164.26 2069.88,1163.71 2076.61,1163.15 2083.35,1162.59 2090.08,1162.02 2096.82,1161.44 2103.56,1160.86 2110.29,1160.26 2117.03,1159.66 2123.76,1159.05 2130.5,1158.43 2137.23,1157.8 2143.97,1157.17 2150.7,1156.53 2157.44,1155.88 2164.17,1155.22 2170.91,1154.55 2177.64,1153.88 2184.38,1153.19 2191.11,1152.5 2197.85,1151.8 2204.58,1151.1 2211.32,1150.38 2218.05,1149.66 2224.79,1148.93 2231.52,1148.19 2238.26,1147.44 2244.99,1146.68 2251.73,1145.92 2258.46,1145.15 2265.2,1144.37 2271.93,1143.58 2278.67,1142.78 2285.4,1141.98 2292.14,1141.17 \"/>\n",
       "<polyline clip-path=\"url(#clip842)\" style=\"stroke:#00a9ad; stroke-linecap:round; stroke-linejoin:round; stroke-width:4; stroke-opacity:1; fill:none\" stroke-dasharray=\"16, 10\" points=\"271.594,1386.4 278.329,1384.46 285.064,1382.52 291.799,1380.6 298.534,1378.68 305.27,1376.77 312.005,1374.86 318.74,1372.96 325.475,1371.07 332.21,1369.19 338.945,1367.31 345.68,1365.44 352.416,1363.58 359.151,1361.73 365.886,1359.88 372.621,1358.04 379.356,1356.2 386.091,1354.38 392.827,1352.56 399.562,1350.75 406.297,1348.94 413.032,1347.14 419.767,1345.35 426.502,1343.57 433.237,1341.79 439.973,1340.03 446.708,1338.27 453.443,1336.51 460.178,1334.76 466.913,1333.02 473.648,1331.29 480.384,1329.57 487.119,1327.85 493.854,1326.14 500.589,1324.44 507.324,1322.74 514.059,1321.05 520.794,1319.37 527.53,1317.7 534.265,1316.03 541,1314.37 547.735,1312.72 554.47,1311.08 561.205,1309.44 567.941,1307.81 574.676,1306.19 581.411,1304.58 588.146,1302.97 594.881,1301.37 601.616,1299.78 608.351,1298.19 615.087,1296.61 621.822,1295.04 628.557,1293.48 635.292,1291.93 642.027,1290.38 648.762,1288.84 655.497,1287.31 662.233,1285.78 668.968,1284.26 675.703,1282.75 682.438,1281.25 689.173,1279.76 695.908,1278.27 702.644,1276.79 709.379,1275.31 716.114,1273.85 722.849,1272.39 729.584,1270.94 736.319,1269.5 743.054,1268.06 749.79,1266.64 756.525,1265.22 763.26,1263.8 769.995,1262.4 776.73,1261 783.465,1259.61 790.201,1258.23 796.936,1256.85 803.671,1255.49 810.406,1254.13 817.141,1252.77 823.876,1251.43 830.611,1250.09 837.347,1248.76 844.082,1247.44 850.817,1246.13 857.552,1244.82 864.287,1243.52 871.022,1242.23 877.758,1240.95 884.493,1239.67 891.228,1238.4 897.963,1237.14 904.698,1235.89 911.433,1234.64 918.168,1233.4 924.904,1232.17 931.639,1230.95 938.374,1229.73 945.109,1228.52 951.844,1227.32 958.579,1226.13 965.314,1224.95 972.05,1223.77 978.785,1222.6 985.52,1221.44 992.255,1220.28 998.99,1219.13 1005.73,1218 1012.46,1216.86 1019.2,1215.74 1025.93,1214.62 1032.67,1213.51 1039.4,1212.41 1046.14,1211.32 1052.87,1210.23 1059.61,1209.16 1066.34,1208.09 1073.08,1207.02 1079.81,1205.97 1086.55,1204.92 1093.28,1203.88 1100.02,1202.85 1106.75,1201.82 1113.49,1200.81 1120.22,1199.8 1126.96,1198.79 1133.69,1197.8 1140.43,1196.81 1147.16,1195.83 1153.9,1194.86 1160.63,1193.9 1167.37,1192.94 1174.1,1192 1180.84,1191.06 1187.57,1190.12 1194.31,1189.2 1201.04,1188.28 1207.78,1187.37 1214.52,1186.47 1221.25,1185.57 1227.99,1184.69 1234.72,1183.81 1241.46,1182.94 1248.19,1182.07 1254.93,1181.22 1261.66,1180.37 1268.4,1179.53 1275.13,1178.69 1281.87,1177.87 1288.6,1177.05 1295.34,1176.24 1302.07,1175.44 1308.81,1174.64 1315.54,1173.86 1322.28,1173.08 1329.01,1172.3 1335.75,1171.54 1342.48,1170.78 1349.22,1170.04 1355.95,1169.29 1362.69,1168.56 1369.42,1167.84 1376.16,1167.12 1382.89,1166.41 1389.63,1165.7 1396.36,1165.01 1403.1,1164.32 1409.83,1163.64 1416.57,1162.97 1423.3,1162.31 1430.04,1161.65 1436.78,1161 1443.51,1160.36 1450.25,1159.73 1456.98,1159.1 1463.72,1158.48 1470.45,1157.87 1477.19,1157.27 1483.92,1156.67 1490.66,1156.08 1497.39,1155.5 1504.13,1154.93 1510.86,1154.37 1517.6,1153.81 1524.33,1153.26 1531.07,1152.72 1537.8,1152.19 1544.54,1151.66 1551.27,1151.14 1558.01,1150.63 1564.74,1150.13 1571.48,1149.63 1578.21,1149.15 1584.95,1148.67 1591.68,1148.19 1598.42,1147.73 1605.15,1147.27 1611.89,1146.82 1618.62,1146.38 1625.36,1145.95 1632.09,1145.52 1638.83,1145.1 1645.56,1144.69 1652.3,1144.29 1659.04,1143.89 1665.77,1143.51 1672.51,1143.13 1679.24,1142.75 1685.98,1142.39 1692.71,1142.03 1699.45,1141.68 1706.18,1141.34 1712.92,1141.01 1719.65,1140.68 1726.39,1140.36 1733.12,1140.05 1739.86,1139.75 1746.59,1139.45 1753.33,1139.17 1760.06,1138.89 1766.8,1138.61 1773.53,1138.35 1780.27,1138.09 1787,1137.84 1793.74,1137.6 1800.47,1137.37 1807.21,1137.14 1813.94,1136.92 1820.68,1136.71 1827.41,1136.51 1834.15,1136.31 1840.88,1136.13 1847.62,1135.95 1854.35,1135.77 1861.09,1135.61 1867.82,1135.45 1874.56,1135.3 1881.3,1135.16 1888.03,1135.03 1894.77,1134.9 1901.5,1134.78 1908.24,1134.67 1914.97,1134.57 1921.71,1134.48 1928.44,1134.39 1935.18,1134.31 1941.91,1134.24 1948.65,1134.17 1955.38,1134.12 1962.12,1134.07 1968.85,1134.03 1975.59,1133.99 1982.32,1133.97 1989.06,1133.95 1995.79,1133.94 2002.53,1133.94 2009.26,1133.94 2016,1133.96 2022.73,1133.98 2029.47,1134.01 2036.2,1134.04 2042.94,1134.09 2049.67,1134.14 2056.41,1134.2 2063.14,1134.26 2069.88,1134.34 2076.61,1134.42 2083.35,1134.51 2090.08,1134.61 2096.82,1134.72 2103.56,1134.83 2110.29,1134.95 2117.03,1135.08 2123.76,1135.22 2130.5,1135.36 2137.23,1135.52 2143.97,1135.68 2150.7,1135.84 2157.44,1136.02 2164.17,1136.2 2170.91,1136.39 2177.64,1136.59 2184.38,1136.8 2191.11,1137.01 2197.85,1137.24 2204.58,1137.47 2211.32,1137.71 2218.05,1137.95 2224.79,1138.2 2231.52,1138.47 2238.26,1138.74 2244.99,1139.01 2251.73,1139.3 2258.46,1139.59 2265.2,1139.89 2271.93,1140.2 2278.67,1140.51 2285.4,1140.84 2292.14,1141.17 \"/>\n",
       "<path clip-path=\"url(#clip840)\" d=\"M2023.9 529.676 L2281.36 529.676 L2281.36 166.796 L2023.9 166.796  Z\" fill=\"#ffffff\" fill-rule=\"evenodd\" fill-opacity=\"1\"/>\n",
       "<polyline clip-path=\"url(#clip840)\" style=\"stroke:#000000; stroke-linecap:round; stroke-linejoin:round; stroke-width:4; stroke-opacity:1; fill:none\" points=\"2023.9,529.676 2281.36,529.676 2281.36,166.796 2023.9,166.796 2023.9,529.676 \"/>\n",
       "<polyline clip-path=\"url(#clip840)\" style=\"stroke:#009af9; stroke-linecap:round; stroke-linejoin:round; stroke-width:4; stroke-opacity:1; fill:none\" points=\"2047.7,218.636 2190.48,218.636 \"/>\n",
       "<path clip-path=\"url(#clip840)\" d=\"M2238.93 209.99 L2229.56 222.606 L2239.42 235.916 L2234.39 235.916 L2226.85 225.731 L2219.3 235.916 L2214.28 235.916 L2224.35 222.351 L2215.14 209.99 L2220.16 209.99 L2227.03 219.226 L2233.91 209.99 L2238.93 209.99 Z\" fill=\"#000000\" fill-rule=\"evenodd\" fill-opacity=\"1\" /><path clip-path=\"url(#clip840)\" d=\"M2244.58 233.369 L2249.3 233.369 L2249.3 219.226 L2244.14 220.175 L2244.14 217.49 L2249.46 216.587 L2252.64 216.587 L2252.64 233.369 L2257.38 233.369 L2257.38 235.916 L2244.58 235.916 L2244.58 233.369 Z\" fill=\"#000000\" fill-rule=\"evenodd\" fill-opacity=\"1\" /><polyline clip-path=\"url(#clip840)\" style=\"stroke:#e26f46; stroke-linecap:round; stroke-linejoin:round; stroke-width:4; stroke-opacity:1; fill:none\" points=\"2047.7,270.476 2190.48,270.476 \"/>\n",
       "<path clip-path=\"url(#clip840)\" d=\"M2238.93 261.83 L2229.56 274.446 L2239.42 287.756 L2234.39 287.756 L2226.85 277.571 L2219.3 287.756 L2214.28 287.756 L2224.35 274.191 L2215.14 261.83 L2220.16 261.83 L2227.03 271.066 L2233.91 261.83 L2238.93 261.83 Z\" fill=\"#000000\" fill-rule=\"evenodd\" fill-opacity=\"1\" /><path clip-path=\"url(#clip840)\" d=\"M2247.17 285.117 L2256.99 285.117 L2256.99 287.756 L2243.14 287.756 L2243.14 285.209 Q2243.93 284.492 2245.39 283.196 Q2253.35 276.135 2253.35 273.959 Q2253.35 272.432 2252.15 271.506 Q2250.95 270.557 2248.98 270.557 Q2247.77 270.557 2246.36 270.973 Q2244.95 271.367 2243.28 272.177 L2243.28 269.33 Q2245.07 268.682 2246.59 268.358 Q2248.14 268.034 2249.46 268.034 Q2252.82 268.034 2254.83 269.561 Q2256.85 271.089 2256.85 273.589 Q2256.85 276.807 2249.19 283.381 Q2247.89 284.492 2247.17 285.117 Z\" fill=\"#000000\" fill-rule=\"evenodd\" fill-opacity=\"1\" /><polyline clip-path=\"url(#clip840)\" style=\"stroke:#3da44d; stroke-linecap:round; stroke-linejoin:round; stroke-width:4; stroke-opacity:1; fill:none\" points=\"2047.7,322.316 2190.48,322.316 \"/>\n",
       "<path clip-path=\"url(#clip840)\" d=\"M2238.93 313.67 L2229.56 326.286 L2239.42 339.596 L2234.39 339.596 L2226.85 329.411 L2219.3 339.596 L2214.28 339.596 L2224.35 326.031 L2215.14 313.67 L2220.16 313.67 L2227.03 322.906 L2233.91 313.67 L2238.93 313.67 Z\" fill=\"#000000\" fill-rule=\"evenodd\" fill-opacity=\"1\" /><path clip-path=\"url(#clip840)\" d=\"M2253.1 329.133 Q2255.23 329.549 2256.39 330.823 Q2257.57 332.073 2257.57 333.971 Q2257.57 336.841 2255.37 338.392 Q2253.17 339.943 2249.07 339.943 Q2247.75 339.943 2246.29 339.688 Q2244.86 339.457 2243.24 338.994 L2243.24 336.193 Q2244.44 336.818 2245.81 337.119 Q2247.2 337.42 2248.75 337.42 Q2251.27 337.42 2252.66 336.517 Q2254.05 335.591 2254.05 333.971 Q2254.05 332.258 2252.75 331.378 Q2251.48 330.499 2248.98 330.499 L2246.99 330.499 L2246.99 327.999 L2249.16 327.999 Q2251.34 327.999 2252.45 327.281 Q2253.58 326.54 2253.58 325.151 Q2253.58 323.809 2252.43 323.114 Q2251.27 322.397 2249.07 322.397 Q2248.14 322.397 2246.96 322.605 Q2245.78 322.813 2243.91 323.346 L2243.91 320.684 Q2245.6 320.29 2247.08 320.082 Q2248.56 319.874 2249.83 319.874 Q2253.17 319.874 2255.11 321.239 Q2257.08 322.605 2257.08 324.897 Q2257.08 326.494 2256.04 327.605 Q2255 328.716 2253.1 329.133 Z\" fill=\"#000000\" fill-rule=\"evenodd\" fill-opacity=\"1\" /><polyline clip-path=\"url(#clip840)\" style=\"stroke:#c271d2; stroke-linecap:round; stroke-linejoin:round; stroke-width:4; stroke-opacity:1; fill:none\" stroke-dasharray=\"16, 10\" points=\"2047.7,374.156 2190.48,374.156 \"/>\n",
       "<path clip-path=\"url(#clip840)\" d=\"M2238.93 365.51 L2229.56 378.126 L2239.42 391.436 L2234.39 391.436 L2226.85 381.251 L2219.3 391.436 L2214.28 391.436 L2224.35 377.871 L2215.14 365.51 L2220.16 365.51 L2227.03 374.746 L2233.91 365.51 L2238.93 365.51 Z\" fill=\"#000000\" fill-rule=\"evenodd\" fill-opacity=\"1\" /><path clip-path=\"url(#clip840)\" d=\"M2226.94 355.417 L2231.2 355.417 L2231.2 360.811 L2226.94 360.811 L2226.94 355.417 M2229.12 364.885 L2229.12 364.885 Z\" fill=\"#000000\" fill-rule=\"evenodd\" fill-opacity=\"1\" /><path clip-path=\"url(#clip840)\" d=\"M2244.58 388.889 L2249.3 388.889 L2249.3 374.746 L2244.14 375.695 L2244.14 373.01 L2249.46 372.107 L2252.64 372.107 L2252.64 388.889 L2257.38 388.889 L2257.38 391.436 L2244.58 391.436 L2244.58 388.889 Z\" fill=\"#000000\" fill-rule=\"evenodd\" fill-opacity=\"1\" /><polyline clip-path=\"url(#clip840)\" style=\"stroke:#ac8d18; stroke-linecap:round; stroke-linejoin:round; stroke-width:4; stroke-opacity:1; fill:none\" stroke-dasharray=\"16, 10\" points=\"2047.7,425.996 2190.48,425.996 \"/>\n",
       "<path clip-path=\"url(#clip840)\" d=\"M2238.93 417.35 L2229.56 429.966 L2239.42 443.276 L2234.39 443.276 L2226.85 433.091 L2219.3 443.276 L2214.28 443.276 L2224.35 429.711 L2215.14 417.35 L2220.16 417.35 L2227.03 426.586 L2233.91 417.35 L2238.93 417.35 Z\" fill=\"#000000\" fill-rule=\"evenodd\" fill-opacity=\"1\" /><path clip-path=\"url(#clip840)\" d=\"M2226.94 407.257 L2231.2 407.257 L2231.2 412.651 L2226.94 412.651 L2226.94 407.257 M2229.12 416.725 L2229.12 416.725 Z\" fill=\"#000000\" fill-rule=\"evenodd\" fill-opacity=\"1\" /><path clip-path=\"url(#clip840)\" d=\"M2247.17 440.637 L2256.99 440.637 L2256.99 443.276 L2243.14 443.276 L2243.14 440.729 Q2243.93 440.012 2245.39 438.716 Q2253.35 431.655 2253.35 429.479 Q2253.35 427.952 2252.15 427.026 Q2250.95 426.077 2248.98 426.077 Q2247.77 426.077 2246.36 426.493 Q2244.95 426.887 2243.28 427.697 L2243.28 424.85 Q2245.07 424.202 2246.59 423.878 Q2248.14 423.554 2249.46 423.554 Q2252.82 423.554 2254.83 425.081 Q2256.85 426.609 2256.85 429.109 Q2256.85 432.327 2249.19 438.901 Q2247.89 440.012 2247.17 440.637 Z\" fill=\"#000000\" fill-rule=\"evenodd\" fill-opacity=\"1\" /><polyline clip-path=\"url(#clip840)\" style=\"stroke:#00a9ad; stroke-linecap:round; stroke-linejoin:round; stroke-width:4; stroke-opacity:1; fill:none\" stroke-dasharray=\"16, 10\" points=\"2047.7,477.836 2190.48,477.836 \"/>\n",
       "<path clip-path=\"url(#clip840)\" d=\"M2238.93 469.19 L2229.56 481.806 L2239.42 495.116 L2234.39 495.116 L2226.85 484.931 L2219.3 495.116 L2214.28 495.116 L2224.35 481.551 L2215.14 469.19 L2220.16 469.19 L2227.03 478.426 L2233.91 469.19 L2238.93 469.19 Z\" fill=\"#000000\" fill-rule=\"evenodd\" fill-opacity=\"1\" /><path clip-path=\"url(#clip840)\" d=\"M2226.94 459.097 L2231.2 459.097 L2231.2 464.491 L2226.94 464.491 L2226.94 459.097 M2229.12 468.565 L2229.12 468.565 Z\" fill=\"#000000\" fill-rule=\"evenodd\" fill-opacity=\"1\" /><path clip-path=\"url(#clip840)\" d=\"M2253.1 484.653 Q2255.23 485.069 2256.39 486.343 Q2257.57 487.593 2257.57 489.491 Q2257.57 492.361 2255.37 493.912 Q2253.17 495.463 2249.07 495.463 Q2247.75 495.463 2246.29 495.208 Q2244.86 494.977 2243.24 494.514 L2243.24 491.713 Q2244.44 492.338 2245.81 492.639 Q2247.2 492.94 2248.75 492.94 Q2251.27 492.94 2252.66 492.037 Q2254.05 491.111 2254.05 489.491 Q2254.05 487.778 2252.75 486.898 Q2251.48 486.019 2248.98 486.019 L2246.99 486.019 L2246.99 483.519 L2249.16 483.519 Q2251.34 483.519 2252.45 482.801 Q2253.58 482.06 2253.58 480.671 Q2253.58 479.329 2252.43 478.634 Q2251.27 477.917 2249.07 477.917 Q2248.14 477.917 2246.96 478.125 Q2245.78 478.333 2243.91 478.866 L2243.91 476.204 Q2245.6 475.81 2247.08 475.602 Q2248.56 475.394 2249.83 475.394 Q2253.17 475.394 2255.11 476.759 Q2257.08 478.125 2257.08 480.417 Q2257.08 482.014 2256.04 483.125 Q2255 484.236 2253.1 484.653 Z\" fill=\"#000000\" fill-rule=\"evenodd\" fill-opacity=\"1\" /></svg>\n"
      ]
     },
     "metadata": {},
     "output_type": "display_data"
    },
    {
     "data": {
      "image/svg+xml": [
       "<?xml version=\"1.0\" encoding=\"utf-8\"?>\n",
       "<svg xmlns=\"http://www.w3.org/2000/svg\" xmlns:xlink=\"http://www.w3.org/1999/xlink\" width=\"600\" height=\"400\" viewBox=\"0 0 2400 1600\">\n",
       "<defs>\n",
       "  <clipPath id=\"clip880\">\n",
       "    <rect x=\"0\" y=\"0\" width=\"2400\" height=\"1600\"/>\n",
       "  </clipPath>\n",
       "</defs>\n",
       "<path clip-path=\"url(#clip880)\" d=\"M0 1600 L2400 1600 L2400 0 L0 0  Z\" fill=\"#ffffff\" fill-rule=\"evenodd\" fill-opacity=\"1\"/>\n",
       "<defs>\n",
       "  <clipPath id=\"clip881\">\n",
       "    <rect x=\"480\" y=\"0\" width=\"1681\" height=\"1600\"/>\n",
       "  </clipPath>\n",
       "</defs>\n",
       "<path clip-path=\"url(#clip880)\" d=\"M232.389 1423.18 L2352.76 1423.18 L2352.76 123.472 L232.389 123.472  Z\" fill=\"#ffffff\" fill-rule=\"evenodd\" fill-opacity=\"1\"/>\n",
       "<defs>\n",
       "  <clipPath id=\"clip882\">\n",
       "    <rect x=\"232\" y=\"123\" width=\"2121\" height=\"1301\"/>\n",
       "  </clipPath>\n",
       "</defs>\n",
       "<polyline clip-path=\"url(#clip882)\" style=\"stroke:#000000; stroke-linecap:round; stroke-linejoin:round; stroke-width:2; stroke-opacity:0.1; fill:none\" points=\"292.4,1423.18 292.4,123.472 \"/>\n",
       "<polyline clip-path=\"url(#clip882)\" style=\"stroke:#000000; stroke-linecap:round; stroke-linejoin:round; stroke-width:2; stroke-opacity:0.1; fill:none\" points=\"961.412,1423.18 961.412,123.472 \"/>\n",
       "<polyline clip-path=\"url(#clip882)\" style=\"stroke:#000000; stroke-linecap:round; stroke-linejoin:round; stroke-width:2; stroke-opacity:0.1; fill:none\" points=\"1630.42,1423.18 1630.42,123.472 \"/>\n",
       "<polyline clip-path=\"url(#clip882)\" style=\"stroke:#000000; stroke-linecap:round; stroke-linejoin:round; stroke-width:2; stroke-opacity:0.1; fill:none\" points=\"2299.44,1423.18 2299.44,123.472 \"/>\n",
       "<polyline clip-path=\"url(#clip880)\" style=\"stroke:#000000; stroke-linecap:round; stroke-linejoin:round; stroke-width:4; stroke-opacity:1; fill:none\" points=\"232.389,1423.18 2352.76,1423.18 \"/>\n",
       "<polyline clip-path=\"url(#clip880)\" style=\"stroke:#000000; stroke-linecap:round; stroke-linejoin:round; stroke-width:4; stroke-opacity:1; fill:none\" points=\"292.4,1423.18 292.4,1404.28 \"/>\n",
       "<polyline clip-path=\"url(#clip880)\" style=\"stroke:#000000; stroke-linecap:round; stroke-linejoin:round; stroke-width:4; stroke-opacity:1; fill:none\" points=\"961.412,1423.18 961.412,1404.28 \"/>\n",
       "<polyline clip-path=\"url(#clip880)\" style=\"stroke:#000000; stroke-linecap:round; stroke-linejoin:round; stroke-width:4; stroke-opacity:1; fill:none\" points=\"1630.42,1423.18 1630.42,1404.28 \"/>\n",
       "<polyline clip-path=\"url(#clip880)\" style=\"stroke:#000000; stroke-linecap:round; stroke-linejoin:round; stroke-width:4; stroke-opacity:1; fill:none\" points=\"2299.44,1423.18 2299.44,1404.28 \"/>\n",
       "<path clip-path=\"url(#clip880)\" d=\"M292.4 1454.1 Q288.789 1454.1 286.96 1457.66 Q285.154 1461.2 285.154 1468.33 Q285.154 1475.44 286.96 1479.01 Q288.789 1482.55 292.4 1482.55 Q296.034 1482.55 297.84 1479.01 Q299.668 1475.44 299.668 1468.33 Q299.668 1461.2 297.84 1457.66 Q296.034 1454.1 292.4 1454.1 M292.4 1450.39 Q298.21 1450.39 301.265 1455 Q304.344 1459.58 304.344 1468.33 Q304.344 1477.06 301.265 1481.67 Q298.21 1486.25 292.4 1486.25 Q286.59 1486.25 283.511 1481.67 Q280.455 1477.06 280.455 1468.33 Q280.455 1459.58 283.511 1455 Q286.59 1450.39 292.4 1450.39 Z\" fill=\"#000000\" fill-rule=\"evenodd\" fill-opacity=\"1\" /><path clip-path=\"url(#clip880)\" d=\"M951.69 1451.02 L970.046 1451.02 L970.046 1454.96 L955.972 1454.96 L955.972 1463.43 Q956.99 1463.08 958.009 1462.92 Q959.027 1462.73 960.046 1462.73 Q965.833 1462.73 969.213 1465.9 Q972.592 1469.08 972.592 1474.49 Q972.592 1480.07 969.12 1483.17 Q965.648 1486.25 959.328 1486.25 Q957.152 1486.25 954.884 1485.88 Q952.639 1485.51 950.231 1484.77 L950.231 1480.07 Q952.315 1481.2 954.537 1481.76 Q956.759 1482.32 959.236 1482.32 Q963.24 1482.32 965.578 1480.21 Q967.916 1478.1 967.916 1474.49 Q967.916 1470.88 965.578 1468.77 Q963.24 1466.67 959.236 1466.67 Q957.361 1466.67 955.486 1467.08 Q953.634 1467.5 951.69 1468.38 L951.69 1451.02 Z\" fill=\"#000000\" fill-rule=\"evenodd\" fill-opacity=\"1\" /><path clip-path=\"url(#clip880)\" d=\"M1605.11 1481.64 L1612.75 1481.64 L1612.75 1455.28 L1604.44 1456.95 L1604.44 1452.69 L1612.7 1451.02 L1617.38 1451.02 L1617.38 1481.64 L1625.02 1481.64 L1625.02 1485.58 L1605.11 1485.58 L1605.11 1481.64 Z\" fill=\"#000000\" fill-rule=\"evenodd\" fill-opacity=\"1\" /><path clip-path=\"url(#clip880)\" d=\"M1644.46 1454.1 Q1640.85 1454.1 1639.02 1457.66 Q1637.22 1461.2 1637.22 1468.33 Q1637.22 1475.44 1639.02 1479.01 Q1640.85 1482.55 1644.46 1482.55 Q1648.1 1482.55 1649.9 1479.01 Q1651.73 1475.44 1651.73 1468.33 Q1651.73 1461.2 1649.9 1457.66 Q1648.1 1454.1 1644.46 1454.1 M1644.46 1450.39 Q1650.27 1450.39 1653.33 1455 Q1656.41 1459.58 1656.41 1468.33 Q1656.41 1477.06 1653.33 1481.67 Q1650.27 1486.25 1644.46 1486.25 Q1638.65 1486.25 1635.57 1481.67 Q1632.52 1477.06 1632.52 1468.33 Q1632.52 1459.58 1635.57 1455 Q1638.65 1450.39 1644.46 1450.39 Z\" fill=\"#000000\" fill-rule=\"evenodd\" fill-opacity=\"1\" /><path clip-path=\"url(#clip880)\" d=\"M2274.62 1481.64 L2282.26 1481.64 L2282.26 1455.28 L2273.95 1456.95 L2273.95 1452.69 L2282.21 1451.02 L2286.89 1451.02 L2286.89 1481.64 L2294.53 1481.64 L2294.53 1485.58 L2274.62 1485.58 L2274.62 1481.64 Z\" fill=\"#000000\" fill-rule=\"evenodd\" fill-opacity=\"1\" /><path clip-path=\"url(#clip880)\" d=\"M2304.02 1451.02 L2322.38 1451.02 L2322.38 1454.96 L2308.3 1454.96 L2308.3 1463.43 Q2309.32 1463.08 2310.34 1462.92 Q2311.36 1462.73 2312.38 1462.73 Q2318.16 1462.73 2321.54 1465.9 Q2324.92 1469.08 2324.92 1474.49 Q2324.92 1480.07 2321.45 1483.17 Q2317.98 1486.25 2311.66 1486.25 Q2309.48 1486.25 2307.21 1485.88 Q2304.97 1485.51 2302.56 1484.77 L2302.56 1480.07 Q2304.64 1481.2 2306.87 1481.76 Q2309.09 1482.32 2311.57 1482.32 Q2315.57 1482.32 2317.91 1480.21 Q2320.25 1478.1 2320.25 1474.49 Q2320.25 1470.88 2317.91 1468.77 Q2315.57 1466.67 2311.57 1466.67 Q2309.69 1466.67 2307.82 1467.08 Q2305.96 1467.5 2304.02 1468.38 L2304.02 1451.02 Z\" fill=\"#000000\" fill-rule=\"evenodd\" fill-opacity=\"1\" /><path clip-path=\"url(#clip880)\" d=\"M1180.03 1522.27 L1180.03 1532.4 L1192.09 1532.4 L1192.09 1536.95 L1180.03 1536.95 L1180.03 1556.3 Q1180.03 1560.66 1181.2 1561.9 Q1182.41 1563.14 1186.07 1563.14 L1192.09 1563.14 L1192.09 1568.04 L1186.07 1568.04 Q1179.29 1568.04 1176.72 1565.53 Q1174.14 1562.98 1174.14 1556.3 L1174.14 1536.95 L1169.84 1536.95 L1169.84 1532.4 L1174.14 1532.4 L1174.14 1522.27 L1180.03 1522.27 Z\" fill=\"#000000\" fill-rule=\"evenodd\" fill-opacity=\"1\" /><path clip-path=\"url(#clip880)\" d=\"M1199.79 1532.4 L1205.65 1532.4 L1205.65 1568.04 L1199.79 1568.04 L1199.79 1532.4 M1199.79 1518.52 L1205.65 1518.52 L1205.65 1525.93 L1199.79 1525.93 L1199.79 1518.52 Z\" fill=\"#000000\" fill-rule=\"evenodd\" fill-opacity=\"1\" /><path clip-path=\"url(#clip880)\" d=\"M1245.66 1539.24 Q1247.85 1535.29 1250.91 1533.41 Q1253.96 1531.54 1258.1 1531.54 Q1263.67 1531.54 1266.7 1535.45 Q1269.72 1539.33 1269.72 1546.53 L1269.72 1568.04 L1263.83 1568.04 L1263.83 1546.72 Q1263.83 1541.59 1262.02 1539.11 Q1260.2 1536.63 1256.48 1536.63 Q1251.93 1536.63 1249.29 1539.65 Q1246.64 1542.68 1246.64 1547.9 L1246.64 1568.04 L1240.76 1568.04 L1240.76 1546.72 Q1240.76 1541.56 1238.94 1539.11 Q1237.13 1536.63 1233.34 1536.63 Q1228.85 1536.63 1226.21 1539.68 Q1223.57 1542.71 1223.57 1547.9 L1223.57 1568.04 L1217.68 1568.04 L1217.68 1532.4 L1223.57 1532.4 L1223.57 1537.93 Q1225.57 1534.66 1228.37 1533.1 Q1231.18 1531.54 1235.03 1531.54 Q1238.91 1531.54 1241.62 1533.51 Q1244.35 1535.48 1245.66 1539.24 Z\" fill=\"#000000\" fill-rule=\"evenodd\" fill-opacity=\"1\" /><path clip-path=\"url(#clip880)\" d=\"M1311.89 1548.76 L1311.89 1551.62 L1284.97 1551.62 Q1285.35 1557.67 1288.59 1560.85 Q1291.87 1564 1297.7 1564 Q1301.07 1564 1304.22 1563.17 Q1307.4 1562.35 1310.52 1560.69 L1310.52 1566.23 Q1307.37 1567.57 1304.06 1568.27 Q1300.75 1568.97 1297.35 1568.97 Q1288.82 1568.97 1283.82 1564 Q1278.85 1559.04 1278.85 1550.57 Q1278.85 1541.82 1283.57 1536.69 Q1288.31 1531.54 1296.33 1531.54 Q1303.52 1531.54 1307.69 1536.18 Q1311.89 1540.8 1311.89 1548.76 M1306.04 1547.04 Q1305.97 1542.23 1303.33 1539.37 Q1300.72 1536.5 1296.39 1536.5 Q1291.49 1536.5 1288.53 1539.27 Q1285.6 1542.04 1285.16 1547.07 L1306.04 1547.04 Z\" fill=\"#000000\" fill-rule=\"evenodd\" fill-opacity=\"1\" /><path clip-path=\"url(#clip880)\" d=\"M1356.29 1518.58 Q1352.03 1525.9 1349.96 1533.06 Q1347.89 1540.23 1347.89 1547.58 Q1347.89 1554.93 1349.96 1562.16 Q1352.06 1569.35 1356.29 1576.64 L1351.2 1576.64 Q1346.43 1569.16 1344.04 1561.93 Q1341.68 1554.71 1341.68 1547.58 Q1341.68 1540.48 1344.04 1533.29 Q1346.39 1526.09 1351.2 1518.58 L1356.29 1518.58 Z\" fill=\"#000000\" fill-rule=\"evenodd\" fill-opacity=\"1\" /><path clip-path=\"url(#clip880)\" d=\"M1390.38 1533.45 L1390.38 1538.98 Q1387.9 1537.71 1385.23 1537.07 Q1382.55 1536.44 1379.69 1536.44 Q1375.33 1536.44 1373.13 1537.77 Q1370.97 1539.11 1370.97 1541.79 Q1370.97 1543.82 1372.53 1545 Q1374.09 1546.15 1378.8 1547.2 L1380.8 1547.64 Q1387.04 1548.98 1389.65 1551.43 Q1392.29 1553.85 1392.29 1558.21 Q1392.29 1563.17 1388.34 1566.07 Q1384.43 1568.97 1377.55 1568.97 Q1374.69 1568.97 1371.57 1568.39 Q1368.48 1567.85 1365.05 1566.74 L1365.05 1560.69 Q1368.29 1562.38 1371.44 1563.24 Q1374.59 1564.07 1377.68 1564.07 Q1381.82 1564.07 1384.05 1562.66 Q1386.28 1561.23 1386.28 1558.65 Q1386.28 1556.27 1384.65 1554.99 Q1383.06 1553.72 1377.62 1552.54 L1375.58 1552.07 Q1370.14 1550.92 1367.72 1548.56 Q1365.3 1546.18 1365.3 1542.04 Q1365.3 1537.01 1368.87 1534.27 Q1372.43 1531.54 1378.99 1531.54 Q1382.23 1531.54 1385.1 1532.01 Q1387.96 1532.49 1390.38 1533.45 Z\" fill=\"#000000\" fill-rule=\"evenodd\" fill-opacity=\"1\" /><path clip-path=\"url(#clip880)\" d=\"M1400.69 1518.58 L1405.79 1518.58 Q1410.56 1526.09 1412.92 1533.29 Q1415.3 1540.48 1415.3 1547.58 Q1415.3 1554.71 1412.92 1561.93 Q1410.56 1569.16 1405.79 1576.64 L1400.69 1576.64 Q1404.93 1569.35 1407 1562.16 Q1409.1 1554.93 1409.1 1547.58 Q1409.1 1540.23 1407 1533.06 Q1404.93 1525.9 1400.69 1518.58 Z\" fill=\"#000000\" fill-rule=\"evenodd\" fill-opacity=\"1\" /><polyline clip-path=\"url(#clip882)\" style=\"stroke:#000000; stroke-linecap:round; stroke-linejoin:round; stroke-width:2; stroke-opacity:0.1; fill:none\" points=\"232.389,1323.02 2352.76,1323.02 \"/>\n",
       "<polyline clip-path=\"url(#clip882)\" style=\"stroke:#000000; stroke-linecap:round; stroke-linejoin:round; stroke-width:2; stroke-opacity:0.1; fill:none\" points=\"232.389,1048.81 2352.76,1048.81 \"/>\n",
       "<polyline clip-path=\"url(#clip882)\" style=\"stroke:#000000; stroke-linecap:round; stroke-linejoin:round; stroke-width:2; stroke-opacity:0.1; fill:none\" points=\"232.389,774.607 2352.76,774.607 \"/>\n",
       "<polyline clip-path=\"url(#clip882)\" style=\"stroke:#000000; stroke-linecap:round; stroke-linejoin:round; stroke-width:2; stroke-opacity:0.1; fill:none\" points=\"232.389,500.398 2352.76,500.398 \"/>\n",
       "<polyline clip-path=\"url(#clip882)\" style=\"stroke:#000000; stroke-linecap:round; stroke-linejoin:round; stroke-width:2; stroke-opacity:0.1; fill:none\" points=\"232.389,226.19 2352.76,226.19 \"/>\n",
       "<polyline clip-path=\"url(#clip880)\" style=\"stroke:#000000; stroke-linecap:round; stroke-linejoin:round; stroke-width:4; stroke-opacity:1; fill:none\" points=\"232.389,1423.18 232.389,123.472 \"/>\n",
       "<polyline clip-path=\"url(#clip880)\" style=\"stroke:#000000; stroke-linecap:round; stroke-linejoin:round; stroke-width:4; stroke-opacity:1; fill:none\" points=\"232.389,1323.02 251.287,1323.02 \"/>\n",
       "<polyline clip-path=\"url(#clip880)\" style=\"stroke:#000000; stroke-linecap:round; stroke-linejoin:round; stroke-width:4; stroke-opacity:1; fill:none\" points=\"232.389,1048.81 251.287,1048.81 \"/>\n",
       "<polyline clip-path=\"url(#clip880)\" style=\"stroke:#000000; stroke-linecap:round; stroke-linejoin:round; stroke-width:4; stroke-opacity:1; fill:none\" points=\"232.389,774.607 251.287,774.607 \"/>\n",
       "<polyline clip-path=\"url(#clip880)\" style=\"stroke:#000000; stroke-linecap:round; stroke-linejoin:round; stroke-width:4; stroke-opacity:1; fill:none\" points=\"232.389,500.398 251.287,500.398 \"/>\n",
       "<polyline clip-path=\"url(#clip880)\" style=\"stroke:#000000; stroke-linecap:round; stroke-linejoin:round; stroke-width:4; stroke-opacity:1; fill:none\" points=\"232.389,226.19 251.287,226.19 \"/>\n",
       "<path clip-path=\"url(#clip880)\" d=\"M184.445 1308.82 Q180.834 1308.82 179.005 1312.39 Q177.2 1315.93 177.2 1323.06 Q177.2 1330.16 179.005 1333.73 Q180.834 1337.27 184.445 1337.27 Q188.079 1337.27 189.885 1333.73 Q191.713 1330.16 191.713 1323.06 Q191.713 1315.93 189.885 1312.39 Q188.079 1308.82 184.445 1308.82 M184.445 1305.12 Q190.255 1305.12 193.311 1309.72 Q196.389 1314.31 196.389 1323.06 Q196.389 1331.78 193.311 1336.39 Q190.255 1340.97 184.445 1340.97 Q178.635 1340.97 175.556 1336.39 Q172.501 1331.78 172.501 1323.06 Q172.501 1314.31 175.556 1309.72 Q178.635 1305.12 184.445 1305.12 Z\" fill=\"#000000\" fill-rule=\"evenodd\" fill-opacity=\"1\" /><path clip-path=\"url(#clip880)\" d=\"M149.306 1062.16 L165.626 1062.16 L165.626 1066.09 L143.681 1066.09 L143.681 1062.16 Q146.343 1059.41 150.927 1054.78 Q155.533 1050.12 156.714 1048.78 Q158.959 1046.26 159.839 1044.52 Q160.741 1042.76 160.741 1041.07 Q160.741 1038.32 158.797 1036.58 Q156.876 1034.85 153.774 1034.85 Q151.575 1034.85 149.121 1035.61 Q146.691 1036.37 143.913 1037.92 L143.913 1033.2 Q146.737 1032.07 149.191 1031.49 Q151.644 1030.91 153.681 1030.91 Q159.052 1030.91 162.246 1033.6 Q165.44 1036.28 165.44 1040.77 Q165.44 1042.9 164.63 1044.82 Q163.843 1046.72 161.737 1049.31 Q161.158 1049.98 158.056 1053.2 Q154.954 1056.4 149.306 1062.16 Z\" fill=\"#000000\" fill-rule=\"evenodd\" fill-opacity=\"1\" /><path clip-path=\"url(#clip880)\" d=\"M175.487 1031.53 L193.843 1031.53 L193.843 1035.47 L179.769 1035.47 L179.769 1043.94 Q180.788 1043.6 181.806 1043.43 Q182.825 1043.25 183.843 1043.25 Q189.63 1043.25 193.01 1046.42 Q196.389 1049.59 196.389 1055.01 Q196.389 1060.59 192.917 1063.69 Q189.445 1066.77 183.126 1066.77 Q180.95 1066.77 178.681 1066.4 Q176.436 1066.03 174.028 1065.28 L174.028 1060.59 Q176.112 1061.72 178.334 1062.28 Q180.556 1062.83 183.033 1062.83 Q187.038 1062.83 189.375 1060.72 Q191.713 1058.62 191.713 1055.01 Q191.713 1051.4 189.375 1049.29 Q187.038 1047.18 183.033 1047.18 Q181.158 1047.18 179.283 1047.6 Q177.431 1048.02 175.487 1048.9 L175.487 1031.53 Z\" fill=\"#000000\" fill-rule=\"evenodd\" fill-opacity=\"1\" /><path clip-path=\"url(#clip880)\" d=\"M144.329 757.327 L162.686 757.327 L162.686 761.262 L148.612 761.262 L148.612 769.734 Q149.63 769.387 150.649 769.225 Q151.667 769.039 152.686 769.039 Q158.473 769.039 161.852 772.211 Q165.232 775.382 165.232 780.799 Q165.232 786.377 161.76 789.479 Q158.288 792.558 151.968 792.558 Q149.792 792.558 147.524 792.187 Q145.279 791.817 142.871 791.076 L142.871 786.377 Q144.954 787.512 147.177 788.067 Q149.399 788.623 151.876 788.623 Q155.88 788.623 158.218 786.516 Q160.556 784.41 160.556 780.799 Q160.556 777.188 158.218 775.081 Q155.88 772.975 151.876 772.975 Q150.001 772.975 148.126 773.391 Q146.274 773.808 144.329 774.688 L144.329 757.327 Z\" fill=\"#000000\" fill-rule=\"evenodd\" fill-opacity=\"1\" /><path clip-path=\"url(#clip880)\" d=\"M184.445 760.405 Q180.834 760.405 179.005 763.97 Q177.2 767.512 177.2 774.641 Q177.2 781.748 179.005 785.313 Q180.834 788.854 184.445 788.854 Q188.079 788.854 189.885 785.313 Q191.713 781.748 191.713 774.641 Q191.713 767.512 189.885 763.97 Q188.079 760.405 184.445 760.405 M184.445 756.702 Q190.255 756.702 193.311 761.308 Q196.389 765.891 196.389 774.641 Q196.389 783.368 193.311 787.975 Q190.255 792.558 184.445 792.558 Q178.635 792.558 175.556 787.975 Q172.501 783.368 172.501 774.641 Q172.501 765.891 175.556 761.308 Q178.635 756.702 184.445 756.702 Z\" fill=\"#000000\" fill-rule=\"evenodd\" fill-opacity=\"1\" /><path clip-path=\"url(#clip880)\" d=\"M144.098 483.118 L166.32 483.118 L166.32 485.109 L153.774 517.678 L148.89 517.678 L160.695 487.053 L144.098 487.053 L144.098 483.118 Z\" fill=\"#000000\" fill-rule=\"evenodd\" fill-opacity=\"1\" /><path clip-path=\"url(#clip880)\" d=\"M175.487 483.118 L193.843 483.118 L193.843 487.053 L179.769 487.053 L179.769 495.525 Q180.788 495.178 181.806 495.016 Q182.825 494.831 183.843 494.831 Q189.63 494.831 193.01 498.002 Q196.389 501.174 196.389 506.59 Q196.389 512.169 192.917 515.271 Q189.445 518.349 183.126 518.349 Q180.95 518.349 178.681 517.979 Q176.436 517.609 174.028 516.868 L174.028 512.169 Q176.112 513.303 178.334 513.859 Q180.556 514.414 183.033 514.414 Q187.038 514.414 189.375 512.308 Q191.713 510.201 191.713 506.59 Q191.713 502.979 189.375 500.873 Q187.038 498.766 183.033 498.766 Q181.158 498.766 179.283 499.183 Q177.431 499.6 175.487 500.479 L175.487 483.118 Z\" fill=\"#000000\" fill-rule=\"evenodd\" fill-opacity=\"1\" /><path clip-path=\"url(#clip880)\" d=\"M114.931 239.535 L122.57 239.535 L122.57 213.169 L114.26 214.836 L114.26 210.576 L122.524 208.91 L127.2 208.91 L127.2 239.535 L134.839 239.535 L134.839 243.47 L114.931 243.47 L114.931 239.535 Z\" fill=\"#000000\" fill-rule=\"evenodd\" fill-opacity=\"1\" /><path clip-path=\"url(#clip880)\" d=\"M154.283 211.988 Q150.672 211.988 148.843 215.553 Q147.038 219.095 147.038 226.224 Q147.038 233.331 148.843 236.896 Q150.672 240.437 154.283 240.437 Q157.917 240.437 159.723 236.896 Q161.552 233.331 161.552 226.224 Q161.552 219.095 159.723 215.553 Q157.917 211.988 154.283 211.988 M154.283 208.285 Q160.093 208.285 163.149 212.891 Q166.227 217.475 166.227 226.224 Q166.227 234.951 163.149 239.558 Q160.093 244.141 154.283 244.141 Q148.473 244.141 145.394 239.558 Q142.339 234.951 142.339 226.224 Q142.339 217.475 145.394 212.891 Q148.473 208.285 154.283 208.285 Z\" fill=\"#000000\" fill-rule=\"evenodd\" fill-opacity=\"1\" /><path clip-path=\"url(#clip880)\" d=\"M184.445 211.988 Q180.834 211.988 179.005 215.553 Q177.2 219.095 177.2 226.224 Q177.2 233.331 179.005 236.896 Q180.834 240.437 184.445 240.437 Q188.079 240.437 189.885 236.896 Q191.713 233.331 191.713 226.224 Q191.713 219.095 189.885 215.553 Q188.079 211.988 184.445 211.988 M184.445 208.285 Q190.255 208.285 193.311 212.891 Q196.389 217.475 196.389 226.224 Q196.389 234.951 193.311 239.558 Q190.255 244.141 184.445 244.141 Q178.635 244.141 175.556 239.558 Q172.501 234.951 172.501 226.224 Q172.501 217.475 175.556 212.891 Q178.635 208.285 184.445 208.285 Z\" fill=\"#000000\" fill-rule=\"evenodd\" fill-opacity=\"1\" /><path clip-path=\"url(#clip880)\" d=\"M49.9359 788.254 L28.3562 788.254 L28.3562 782.397 L49.7131 782.397 Q54.7739 782.397 57.3202 780.424 Q59.8346 778.45 59.8346 774.504 Q59.8346 769.761 56.8109 767.024 Q53.7872 764.255 48.5673 764.255 L28.3562 764.255 L28.3562 758.398 L64.0042 758.398 L64.0042 764.255 L58.5296 764.255 Q61.7762 766.387 63.3676 769.22 Q64.9272 772.021 64.9272 775.745 Q64.9272 781.888 61.1078 785.071 Q57.2883 788.254 49.9359 788.254 M27.4968 773.517 L27.4968 773.517 Z\" fill=\"#000000\" fill-rule=\"evenodd\" fill-opacity=\"1\" /><path clip-path=\"url(#clip880)\" d=\"M1029.71 12.096 L1037.89 12.096 L1037.89 72.576 L1029.71 72.576 L1029.71 12.096 Z\" fill=\"#000000\" fill-rule=\"evenodd\" fill-opacity=\"1\" /><path clip-path=\"url(#clip880)\" d=\"M1091.57 45.1919 L1091.57 72.576 L1084.11 72.576 L1084.11 45.4349 Q1084.11 38.994 1081.6 35.7938 Q1079.09 32.5936 1074.07 32.5936 Q1068.03 32.5936 1064.55 36.4419 Q1061.06 40.2903 1061.06 46.9338 L1061.06 72.576 L1053.57 72.576 L1053.57 27.2059 L1061.06 27.2059 L1061.06 34.2544 Q1063.74 30.163 1067.34 28.1376 Q1070.99 26.1121 1075.73 26.1121 Q1083.55 26.1121 1087.56 30.9732 Q1091.57 35.7938 1091.57 45.1919 Z\" fill=\"#000000\" fill-rule=\"evenodd\" fill-opacity=\"1\" /><path clip-path=\"url(#clip880)\" d=\"M1113.64 65.7705 L1113.64 89.8329 L1106.15 89.8329 L1106.15 27.2059 L1113.64 27.2059 L1113.64 34.0924 Q1115.99 30.0415 1119.56 28.0971 Q1123.16 26.1121 1128.15 26.1121 Q1136.41 26.1121 1141.55 32.6746 Q1146.74 39.2371 1146.74 49.9314 Q1146.74 60.6258 1141.55 67.1883 Q1136.41 73.7508 1128.15 73.7508 Q1123.16 73.7508 1119.56 71.8063 Q1115.99 69.8214 1113.64 65.7705 M1139 49.9314 Q1139 41.7081 1135.6 37.0496 Q1132.24 32.3505 1126.32 32.3505 Q1120.41 32.3505 1117.01 37.0496 Q1113.64 41.7081 1113.64 49.9314 Q1113.64 58.1548 1117.01 62.8538 Q1120.41 67.5124 1126.32 67.5124 Q1132.24 67.5124 1135.6 62.8538 Q1139 58.1548 1139 49.9314 Z\" fill=\"#000000\" fill-rule=\"evenodd\" fill-opacity=\"1\" /><path clip-path=\"url(#clip880)\" d=\"M1158.33 54.671 L1158.33 27.2059 L1165.78 27.2059 L1165.78 54.3874 Q1165.78 60.8284 1168.29 64.0691 Q1170.8 67.2693 1175.83 67.2693 Q1181.86 67.2693 1185.35 63.421 Q1188.87 59.5726 1188.87 52.9291 L1188.87 27.2059 L1196.32 27.2059 L1196.32 72.576 L1188.87 72.576 L1188.87 65.6084 Q1186.16 69.7404 1182.55 71.7658 Q1178.99 73.7508 1174.25 73.7508 Q1166.43 73.7508 1162.38 68.8897 Q1158.33 64.0286 1158.33 54.671 M1177.08 26.1121 L1177.08 26.1121 Z\" fill=\"#000000\" fill-rule=\"evenodd\" fill-opacity=\"1\" /><path clip-path=\"url(#clip880)\" d=\"M1219.05 14.324 L1219.05 27.2059 L1234.4 27.2059 L1234.4 32.9987 L1219.05 32.9987 L1219.05 57.6282 Q1219.05 63.1779 1220.55 64.7578 Q1222.09 66.3376 1226.75 66.3376 L1234.4 66.3376 L1234.4 72.576 L1226.75 72.576 Q1218.12 72.576 1214.84 69.3758 Q1211.55 66.1351 1211.55 57.6282 L1211.55 32.9987 L1206.09 32.9987 L1206.09 27.2059 L1211.55 27.2059 L1211.55 14.324 L1219.05 14.324 Z\" fill=\"#000000\" fill-rule=\"evenodd\" fill-opacity=\"1\" /><path clip-path=\"url(#clip880)\" d=\"M1270.9 12.096 L1279.08 12.096 L1279.08 36.8875 L1308.82 36.8875 L1308.82 12.096 L1317 12.096 L1317 72.576 L1308.82 72.576 L1308.82 43.7741 L1279.08 43.7741 L1279.08 72.576 L1270.9 72.576 L1270.9 12.096 Z\" fill=\"#000000\" fill-rule=\"evenodd\" fill-opacity=\"1\" /><path clip-path=\"url(#clip880)\" d=\"M1332.96 27.2059 L1340.41 27.2059 L1340.41 72.576 L1332.96 72.576 L1332.96 27.2059 M1332.96 9.54393 L1340.41 9.54393 L1340.41 18.9825 L1332.96 18.9825 L1332.96 9.54393 Z\" fill=\"#000000\" fill-rule=\"evenodd\" fill-opacity=\"1\" /><path clip-path=\"url(#clip880)\" d=\"M1384.93 28.5427 L1384.93 35.5912 Q1381.77 33.9709 1378.37 33.1607 Q1374.97 32.3505 1371.32 32.3505 Q1365.77 32.3505 1362.98 34.0519 Q1360.22 35.7533 1360.22 39.156 Q1360.22 41.7486 1362.21 43.2475 Q1364.19 44.7058 1370.19 46.0426 L1372.74 46.6097 Q1380.68 48.3111 1384 51.4303 Q1387.36 54.509 1387.36 60.0587 Q1387.36 66.3781 1382.34 70.0644 Q1377.36 73.7508 1368.61 73.7508 Q1364.96 73.7508 1360.99 73.0216 Q1357.06 72.3329 1352.69 70.9151 L1352.69 63.2184 Q1356.82 65.3654 1360.83 66.4591 Q1364.84 67.5124 1368.77 67.5124 Q1374.04 67.5124 1376.87 65.73 Q1379.71 63.9071 1379.71 60.6258 Q1379.71 57.5877 1377.64 55.9673 Q1375.62 54.3469 1368.69 52.8481 L1366.1 52.2405 Q1359.17 50.7821 1356.09 47.7845 Q1353.01 44.7463 1353.01 39.4801 Q1353.01 33.0797 1357.55 29.5959 Q1362.09 26.1121 1370.43 26.1121 Q1374.56 26.1121 1378.21 26.7198 Q1381.85 27.3274 1384.93 28.5427 Z\" fill=\"#000000\" fill-rule=\"evenodd\" fill-opacity=\"1\" /><path clip-path=\"url(#clip880)\" d=\"M1406.61 14.324 L1406.61 27.2059 L1421.96 27.2059 L1421.96 32.9987 L1406.61 32.9987 L1406.61 57.6282 Q1406.61 63.1779 1408.1 64.7578 Q1409.64 66.3376 1414.3 66.3376 L1421.96 66.3376 L1421.96 72.576 L1414.3 72.576 Q1405.67 72.576 1402.39 69.3758 Q1399.11 66.1351 1399.11 57.6282 L1399.11 32.9987 L1393.64 32.9987 L1393.64 27.2059 L1399.11 27.2059 L1399.11 14.324 L1406.61 14.324 Z\" fill=\"#000000\" fill-rule=\"evenodd\" fill-opacity=\"1\" /><path clip-path=\"url(#clip880)\" d=\"M1449.34 32.4315 Q1443.35 32.4315 1439.86 37.1306 Q1436.38 41.7891 1436.38 49.9314 Q1436.38 58.0738 1439.82 62.7728 Q1443.31 67.4314 1449.34 67.4314 Q1455.3 67.4314 1458.78 62.7323 Q1462.27 58.0333 1462.27 49.9314 Q1462.27 41.8701 1458.78 37.1711 Q1455.3 32.4315 1449.34 32.4315 M1449.34 26.1121 Q1459.06 26.1121 1464.61 32.4315 Q1470.16 38.7509 1470.16 49.9314 Q1470.16 61.0714 1464.61 67.4314 Q1459.06 73.7508 1449.34 73.7508 Q1439.58 73.7508 1434.03 67.4314 Q1428.52 61.0714 1428.52 49.9314 Q1428.52 38.7509 1434.03 32.4315 Q1439.58 26.1121 1449.34 26.1121 Z\" fill=\"#000000\" fill-rule=\"evenodd\" fill-opacity=\"1\" /><path clip-path=\"url(#clip880)\" d=\"M1508.81 34.1734 Q1507.55 33.4443 1506.06 33.1202 Q1504.6 32.7556 1502.81 32.7556 Q1496.5 32.7556 1493.09 36.8875 Q1489.73 40.9789 1489.73 48.6757 L1489.73 72.576 L1482.24 72.576 L1482.24 27.2059 L1489.73 27.2059 L1489.73 34.2544 Q1492.08 30.1225 1495.85 28.1376 Q1499.61 26.1121 1505 26.1121 Q1505.77 26.1121 1506.7 26.2337 Q1507.64 26.3147 1508.77 26.5172 L1508.81 34.1734 Z\" fill=\"#000000\" fill-rule=\"evenodd\" fill-opacity=\"1\" /><path clip-path=\"url(#clip880)\" d=\"M1535.51 76.7889 Q1532.35 84.8907 1529.35 87.3618 Q1526.35 89.8329 1521.33 89.8329 L1515.37 89.8329 L1515.37 83.5945 L1519.75 83.5945 Q1522.83 83.5945 1524.53 82.1361 Q1526.23 80.6778 1528.29 75.2496 L1529.63 71.8468 L1511.28 27.2059 L1519.18 27.2059 L1533.36 62.6918 L1547.54 27.2059 L1555.44 27.2059 L1535.51 76.7889 Z\" fill=\"#000000\" fill-rule=\"evenodd\" fill-opacity=\"1\" /><polyline clip-path=\"url(#clip882)\" style=\"stroke:#009af9; stroke-linecap:round; stroke-linejoin:round; stroke-width:4; stroke-opacity:1; fill:none\" points=\"292.4,1248.1 299.09,1248.45 305.78,1248.8 312.47,1249.15 319.16,1249.5 325.85,1249.84 332.54,1250.19 339.231,1250.54 345.921,1250.89 352.611,1251.24 359.301,1251.58 365.991,1251.93 372.681,1252.28 379.371,1252.63 386.061,1252.98 392.752,1253.32 399.442,1253.67 406.132,1254.02 412.822,1254.37 419.512,1254.71 426.202,1255.06 432.892,1255.41 439.582,1255.76 446.272,1256.11 452.963,1256.45 459.653,1256.8 466.343,1257.15 473.033,1257.5 479.723,1257.85 486.413,1258.19 493.103,1258.54 499.793,1258.89 506.484,1259.24 513.174,1259.58 519.864,1259.93 526.554,1260.28 533.244,1260.63 539.934,1260.98 546.624,1261.32 553.314,1261.67 560.005,1262.02 566.695,1262.37 573.385,1262.72 580.075,1263.06 586.765,1263.41 593.455,1263.76 600.145,1264.11 606.835,1264.45 613.525,1264.8 620.216,1265.15 626.906,1265.5 633.596,1265.85 640.286,1266.19 646.976,1266.54 653.666,1266.89 660.356,1267.24 667.046,1267.59 673.737,1267.94 680.427,1268.28 687.117,1268.63 693.807,1268.98 700.497,1269.33 707.187,1269.68 713.877,1270.03 720.567,1270.37 727.258,1270.72 733.948,1271.07 740.638,1271.42 747.328,1271.77 754.018,1272.12 760.708,1272.46 767.398,1272.81 774.088,1273.16 780.778,1273.51 787.469,1273.86 794.159,1274.21 800.849,1274.56 807.539,1274.91 814.229,1275.25 820.919,1275.6 827.609,1275.95 834.299,1276.3 840.99,1276.65 847.68,1277 854.37,1277.35 861.06,1277.7 867.75,1278.05 874.44,1278.4 881.13,1278.75 887.82,1279.1 894.511,1279.45 901.201,1279.8 907.891,1280.15 914.581,1280.5 921.271,1280.85 927.961,1281.2 934.651,1281.55 941.341,1281.9 948.031,1282.25 954.722,1282.6 961.412,1282.95 968.102,1283.3 974.792,1283.65 981.482,1284 988.172,1284.35 994.862,1284.7 1001.55,1285.05 1008.24,1285.4 1014.93,1285.75 1021.62,1286.1 1028.31,1286.46 1035,1286.81 1041.69,1287.16 1048.38,1287.51 1055.07,1287.86 1061.76,1288.21 1068.45,1288.57 1075.14,1288.92 1081.83,1289.27 1088.52,1289.62 1095.21,1289.98 1101.9,1290.33 1108.59,1290.68 1115.28,1291.03 1121.97,1291.39 1128.66,1291.74 1135.35,1292.09 1142.04,1292.45 1148.74,1292.8 1155.43,1293.15 1162.12,1293.51 1168.81,1293.86 1175.5,1294.21 1182.19,1294.57 1188.88,1294.92 1195.57,1295.28 1202.26,1295.63 1208.95,1295.99 1215.64,1296.34 1222.33,1296.69 1229.02,1297.05 1235.71,1297.41 1242.4,1297.76 1249.09,1298.12 1255.78,1298.47 1262.47,1298.83 1269.16,1299.18 1275.85,1299.54 1282.54,1299.9 1289.23,1300.25 1295.92,1300.61 1302.61,1300.97 1309.3,1301.32 1315.99,1301.68 1322.68,1302.04 1329.37,1302.4 1336.06,1302.75 1342.75,1303.11 1349.44,1303.47 1356.13,1303.83 1362.82,1304.19 1369.51,1304.55 1376.2,1304.9 1382.89,1305.26 1389.58,1305.62 1396.27,1305.98 1402.96,1306.34 1409.65,1306.7 1416.34,1307.06 1423.03,1307.42 1429.72,1307.78 1436.41,1308.14 1443.1,1308.5 1449.79,1308.87 1456.48,1309.23 1463.17,1309.59 1469.86,1309.95 1476.55,1310.31 1483.24,1310.67 1489.93,1311.04 1496.62,1311.4 1503.31,1311.76 1510,1312.13 1516.69,1312.49 1523.38,1312.85 1530.07,1313.22 1536.76,1313.58 1543.45,1313.95 1550.14,1314.31 1556.83,1314.67 1563.52,1315.04 1570.21,1315.41 1576.9,1315.77 1583.59,1316.14 1590.28,1316.5 1596.97,1316.87 1603.66,1317.24 1610.35,1317.6 1617.04,1317.97 1623.73,1318.34 1630.42,1318.71 1637.11,1319.07 1643.8,1319.44 1650.49,1319.81 1657.18,1320.18 1663.87,1320.55 1670.56,1320.92 1677.25,1321.29 1683.94,1321.66 1690.63,1322.03 1697.32,1322.4 1704.01,1322.77 1710.71,1323.14 1717.4,1323.51 1724.09,1323.88 1730.78,1324.25 1737.47,1324.63 1744.16,1325 1750.85,1325.37 1757.54,1325.74 1764.23,1326.12 1770.92,1326.49 1777.61,1326.87 1784.3,1327.24 1790.99,1327.61 1797.68,1327.99 1804.37,1328.36 1811.06,1328.74 1817.75,1329.12 1824.44,1329.49 1831.13,1329.87 1837.82,1330.25 1844.51,1330.62 1851.2,1331 1857.89,1331.38 1864.58,1331.76 1871.27,1332.13 1877.96,1332.51 1884.65,1332.89 1891.34,1333.27 1898.03,1333.65 1904.72,1334.03 1911.41,1334.41 1918.1,1334.79 1924.79,1335.17 1931.48,1335.56 1938.17,1335.94 1944.86,1336.32 1951.55,1336.7 1958.24,1337.09 1964.93,1337.47 1971.62,1337.85 1978.31,1338.24 1985,1338.62 1991.69,1339.01 1998.38,1339.39 2005.07,1339.78 2011.76,1340.16 2018.45,1340.55 2025.14,1340.93 2031.83,1341.32 2038.52,1341.71 2045.21,1342.1 2051.9,1342.48 2058.59,1342.87 2065.28,1343.26 2071.97,1343.65 2078.66,1344.04 2085.35,1344.43 2092.04,1344.82 2098.73,1345.21 2105.42,1345.6 2112.11,1345.99 2118.8,1346.39 2125.49,1346.78 2132.18,1347.17 2138.87,1347.56 2145.56,1347.96 2152.25,1348.35 2158.94,1348.74 2165.63,1349.14 2172.32,1349.53 2179.01,1349.93 2185.7,1350.32 2192.39,1350.72 2199.08,1351.12 2205.77,1351.51 2212.46,1351.91 2219.15,1352.31 2225.84,1352.71 2232.53,1353.1 2239.22,1353.5 2245.91,1353.9 2252.6,1354.3 2259.29,1354.7 2265.99,1355.1 2272.68,1355.5 2279.37,1355.91 2286.06,1356.31 2292.75,1356.71 \"/>\n",
       "<polyline clip-path=\"url(#clip882)\" style=\"stroke:#e26f46; stroke-linecap:round; stroke-linejoin:round; stroke-width:4; stroke-opacity:1; fill:none\" points=\"292.4,1386.4 299.09,1386.08 305.78,1385.75 312.47,1385.43 319.16,1385.11 325.85,1384.79 332.54,1384.47 339.231,1384.15 345.921,1383.83 352.611,1383.51 359.301,1383.19 365.991,1382.87 372.681,1382.55 379.371,1382.23 386.061,1381.91 392.752,1381.59 399.442,1381.27 406.132,1380.95 412.822,1380.63 419.512,1380.31 426.202,1379.99 432.892,1379.67 439.582,1379.35 446.272,1379.02 452.963,1378.7 459.653,1378.38 466.343,1378.06 473.033,1377.74 479.723,1377.42 486.413,1377.1 493.103,1376.78 499.793,1376.46 506.484,1376.14 513.174,1375.82 519.864,1375.5 526.554,1375.18 533.244,1374.86 539.934,1374.54 546.624,1374.22 553.314,1373.9 560.005,1373.58 566.695,1373.26 573.385,1372.94 580.075,1372.62 586.765,1372.3 593.455,1371.98 600.145,1371.65 606.835,1371.33 613.525,1371.01 620.216,1370.69 626.906,1370.37 633.596,1370.05 640.286,1369.73 646.976,1369.41 653.666,1369.09 660.356,1368.77 667.046,1368.45 673.737,1368.13 680.427,1367.81 687.117,1367.49 693.807,1367.17 700.497,1366.84 707.187,1366.52 713.877,1366.2 720.567,1365.88 727.258,1365.56 733.948,1365.24 740.638,1364.92 747.328,1364.6 754.018,1364.28 760.708,1363.96 767.398,1363.63 774.088,1363.31 780.778,1362.99 787.469,1362.67 794.159,1362.35 800.849,1362.03 807.539,1361.71 814.229,1361.39 820.919,1361.06 827.609,1360.74 834.299,1360.42 840.99,1360.1 847.68,1359.78 854.37,1359.46 861.06,1359.13 867.75,1358.81 874.44,1358.49 881.13,1358.17 887.82,1357.85 894.511,1357.53 901.201,1357.2 907.891,1356.88 914.581,1356.56 921.271,1356.24 927.961,1355.91 934.651,1355.59 941.341,1355.27 948.031,1354.95 954.722,1354.62 961.412,1354.3 968.102,1353.98 974.792,1353.66 981.482,1353.33 988.172,1353.01 994.862,1352.69 1001.55,1352.36 1008.24,1352.04 1014.93,1351.72 1021.62,1351.39 1028.31,1351.07 1035,1350.75 1041.69,1350.42 1048.38,1350.1 1055.07,1349.77 1061.76,1349.45 1068.45,1349.13 1075.14,1348.8 1081.83,1348.48 1088.52,1348.15 1095.21,1347.83 1101.9,1347.51 1108.59,1347.18 1115.28,1346.86 1121.97,1346.53 1128.66,1346.21 1135.35,1345.88 1142.04,1345.56 1148.74,1345.23 1155.43,1344.9 1162.12,1344.58 1168.81,1344.25 1175.5,1343.93 1182.19,1343.6 1188.88,1343.28 1195.57,1342.95 1202.26,1342.62 1208.95,1342.3 1215.64,1341.97 1222.33,1341.64 1229.02,1341.32 1235.71,1340.99 1242.4,1340.66 1249.09,1340.34 1255.78,1340.01 1262.47,1339.68 1269.16,1339.35 1275.85,1339.03 1282.54,1338.7 1289.23,1338.37 1295.92,1338.04 1302.61,1337.71 1309.3,1337.39 1315.99,1337.06 1322.68,1336.73 1329.37,1336.4 1336.06,1336.07 1342.75,1335.74 1349.44,1335.41 1356.13,1335.08 1362.82,1334.75 1369.51,1334.42 1376.2,1334.09 1382.89,1333.76 1389.58,1333.43 1396.27,1333.1 1402.96,1332.77 1409.65,1332.44 1416.34,1332.11 1423.03,1331.78 1429.72,1331.45 1436.41,1331.11 1443.1,1330.78 1449.79,1330.45 1456.48,1330.12 1463.17,1329.79 1469.86,1329.45 1476.55,1329.12 1483.24,1328.79 1489.93,1328.45 1496.62,1328.12 1503.31,1327.79 1510,1327.45 1516.69,1327.12 1523.38,1326.79 1530.07,1326.45 1536.76,1326.12 1543.45,1325.78 1550.14,1325.45 1556.83,1325.11 1563.52,1324.78 1570.21,1324.44 1576.9,1324.1 1583.59,1323.77 1590.28,1323.43 1596.97,1323.1 1603.66,1322.76 1610.35,1322.42 1617.04,1322.09 1623.73,1321.75 1630.42,1321.41 1637.11,1321.07 1643.8,1320.73 1650.49,1320.4 1657.18,1320.06 1663.87,1319.72 1670.56,1319.38 1677.25,1319.04 1683.94,1318.7 1690.63,1318.36 1697.32,1318.02 1704.01,1317.68 1710.71,1317.34 1717.4,1317 1724.09,1316.66 1730.78,1316.32 1737.47,1315.98 1744.16,1315.64 1750.85,1315.29 1757.54,1314.95 1764.23,1314.61 1770.92,1314.27 1777.61,1313.93 1784.3,1313.58 1790.99,1313.24 1797.68,1312.9 1804.37,1312.55 1811.06,1312.21 1817.75,1311.86 1824.44,1311.52 1831.13,1311.17 1837.82,1310.83 1844.51,1310.48 1851.2,1310.14 1857.89,1309.79 1864.58,1309.44 1871.27,1309.1 1877.96,1308.75 1884.65,1308.4 1891.34,1308.06 1898.03,1307.71 1904.72,1307.36 1911.41,1307.01 1918.1,1306.66 1924.79,1306.32 1931.48,1305.97 1938.17,1305.62 1944.86,1305.27 1951.55,1304.92 1958.24,1304.57 1964.93,1304.22 1971.62,1303.87 1978.31,1303.52 1985,1303.16 1991.69,1302.81 1998.38,1302.46 2005.07,1302.11 2011.76,1301.76 2018.45,1301.4 2025.14,1301.05 2031.83,1300.7 2038.52,1300.34 2045.21,1299.99 2051.9,1299.63 2058.59,1299.28 2065.28,1298.93 2071.97,1298.57 2078.66,1298.21 2085.35,1297.86 2092.04,1297.5 2098.73,1297.15 2105.42,1296.79 2112.11,1296.43 2118.8,1296.08 2125.49,1295.72 2132.18,1295.36 2138.87,1295 2145.56,1294.64 2152.25,1294.28 2158.94,1293.93 2165.63,1293.57 2172.32,1293.21 2179.01,1292.85 2185.7,1292.49 2192.39,1292.13 2199.08,1291.76 2205.77,1291.4 2212.46,1291.04 2219.15,1290.68 2225.84,1290.32 2232.53,1289.95 2239.22,1289.59 2245.91,1289.23 2252.6,1288.87 2259.29,1288.5 2265.99,1288.14 2272.68,1287.77 2279.37,1287.41 2286.06,1287.04 2292.75,1286.68 \"/>\n",
       "<polyline clip-path=\"url(#clip882)\" style=\"stroke:#3da44d; stroke-linecap:round; stroke-linejoin:round; stroke-width:4; stroke-opacity:1; fill:none\" points=\"292.4,160.256 299.09,160.571 305.78,160.885 312.47,161.201 319.16,161.516 325.85,161.833 332.54,162.149 339.231,162.467 345.921,162.784 352.611,163.102 359.301,163.421 365.991,163.74 372.681,164.06 379.371,164.38 386.061,164.7 392.752,165.021 399.442,165.342 406.132,165.664 412.822,165.986 419.512,166.308 426.202,166.631 432.892,166.954 439.582,167.278 446.272,167.602 452.963,167.927 459.653,168.251 466.343,168.577 473.033,168.902 479.723,169.228 486.413,169.554 493.103,169.881 499.793,170.208 506.484,170.535 513.174,170.863 519.864,171.191 526.554,171.519 533.244,171.847 539.934,172.176 546.624,172.505 553.314,172.835 560.005,173.165 566.695,173.495 573.385,173.825 580.075,174.156 586.765,174.487 593.455,174.818 600.145,175.149 606.835,175.481 613.525,175.813 620.216,176.145 626.906,176.478 633.596,176.811 640.286,177.144 646.976,177.477 653.666,177.81 660.356,178.144 667.046,178.478 673.737,178.812 680.427,179.146 687.117,179.481 693.807,179.816 700.497,180.151 707.187,180.486 713.877,180.822 720.567,181.157 727.258,181.493 733.948,181.829 740.638,182.165 747.328,182.501 754.018,182.838 760.708,183.175 767.398,183.512 774.088,183.849 780.778,184.186 787.469,184.523 794.159,184.861 800.849,185.199 807.539,185.536 814.229,185.874 820.919,186.213 827.609,186.551 834.299,186.889 840.99,187.228 847.68,187.567 854.37,187.905 861.06,188.244 867.75,188.583 874.44,188.923 881.13,189.262 887.82,189.602 894.511,189.941 901.201,190.281 907.891,190.621 914.581,190.961 921.271,191.301 927.961,191.641 934.651,191.981 941.341,192.321 948.031,192.662 954.722,193.002 961.412,193.343 968.102,193.683 974.792,194.024 981.482,194.365 988.172,194.706 994.862,195.047 1001.55,195.388 1008.24,195.729 1014.93,196.071 1021.62,196.412 1028.31,196.753 1035,197.095 1041.69,197.436 1048.38,197.778 1055.07,198.12 1061.76,198.462 1068.45,198.803 1075.14,199.145 1081.83,199.487 1088.52,199.829 1095.21,200.171 1101.9,200.513 1108.59,200.855 1115.28,201.198 1121.97,201.54 1128.66,201.882 1135.35,202.224 1142.04,202.567 1148.74,202.909 1155.43,203.252 1162.12,203.594 1168.81,203.937 1175.5,204.279 1182.19,204.622 1188.88,204.965 1195.57,205.307 1202.26,205.65 1208.95,205.993 1215.64,206.335 1222.33,206.678 1229.02,207.021 1235.71,207.364 1242.4,207.707 1249.09,208.05 1255.78,208.393 1262.47,208.736 1269.16,209.079 1275.85,209.422 1282.54,209.765 1289.23,210.108 1295.92,210.451 1302.61,210.794 1309.3,211.137 1315.99,211.48 1322.68,211.824 1329.37,212.167 1336.06,212.51 1342.75,212.853 1349.44,213.196 1356.13,213.54 1362.82,213.883 1369.51,214.226 1376.2,214.57 1382.89,214.913 1389.58,215.256 1396.27,215.6 1402.96,215.943 1409.65,216.286 1416.34,216.63 1423.03,216.973 1429.72,217.317 1436.41,217.66 1443.1,218.004 1449.79,218.347 1456.48,218.69 1463.17,219.034 1469.86,219.377 1476.55,219.721 1483.24,220.064 1489.93,220.408 1496.62,220.752 1503.31,221.095 1510,221.439 1516.69,221.782 1523.38,222.126 1530.07,222.469 1536.76,222.813 1543.45,223.157 1550.14,223.5 1556.83,223.844 1563.52,224.188 1570.21,224.531 1576.9,224.875 1583.59,225.219 1590.28,225.562 1596.97,225.906 1603.66,226.25 1610.35,226.594 1617.04,226.937 1623.73,227.281 1630.42,227.625 1637.11,227.969 1643.8,228.313 1650.49,228.657 1657.18,229.001 1663.87,229.344 1670.56,229.688 1677.25,230.032 1683.94,230.376 1690.63,230.72 1697.32,231.064 1704.01,231.408 1710.71,231.752 1717.4,232.096 1724.09,232.44 1730.78,232.785 1737.47,233.129 1744.16,233.473 1750.85,233.817 1757.54,234.161 1764.23,234.505 1770.92,234.85 1777.61,235.194 1784.3,235.538 1790.99,235.883 1797.68,236.227 1804.37,236.572 1811.06,236.916 1817.75,237.26 1824.44,237.605 1831.13,237.95 1837.82,238.294 1844.51,238.639 1851.2,238.983 1857.89,239.328 1864.58,239.673 1871.27,240.018 1877.96,240.362 1884.65,240.707 1891.34,241.052 1898.03,241.397 1904.72,241.742 1911.41,242.087 1918.1,242.432 1924.79,242.777 1931.48,243.122 1938.17,243.467 1944.86,243.813 1951.55,244.158 1958.24,244.503 1964.93,244.849 1971.62,245.194 1978.31,245.54 1985,245.885 1991.69,246.231 1998.38,246.577 2005.07,246.922 2011.76,247.268 2018.45,247.614 2025.14,247.96 2031.83,248.306 2038.52,248.652 2045.21,248.998 2051.9,249.344 2058.59,249.69 2065.28,250.037 2071.97,250.383 2078.66,250.729 2085.35,251.076 2092.04,251.422 2098.73,251.769 2105.42,252.116 2112.11,252.463 2118.8,252.809 2125.49,253.156 2132.18,253.503 2138.87,253.85 2145.56,254.198 2152.25,254.545 2158.94,254.892 2165.63,255.24 2172.32,255.587 2179.01,255.935 2185.7,256.282 2192.39,256.63 2199.08,256.978 2205.77,257.326 2212.46,257.674 2219.15,258.022 2225.84,258.37 2232.53,258.718 2239.22,259.067 2245.91,259.415 2252.6,259.764 2259.29,260.112 2265.99,260.461 2272.68,260.81 2279.37,261.159 2286.06,261.508 2292.75,261.857 \"/>\n",
       "<path clip-path=\"url(#clip880)\" d=\"M2027.42 374.156 L2282.08 374.156 L2282.08 166.796 L2027.42 166.796  Z\" fill=\"#ffffff\" fill-rule=\"evenodd\" fill-opacity=\"1\"/>\n",
       "<polyline clip-path=\"url(#clip880)\" style=\"stroke:#000000; stroke-linecap:round; stroke-linejoin:round; stroke-width:4; stroke-opacity:1; fill:none\" points=\"2027.42,374.156 2282.08,374.156 2282.08,166.796 2027.42,166.796 2027.42,374.156 \"/>\n",
       "<polyline clip-path=\"url(#clip880)\" style=\"stroke:#009af9; stroke-linecap:round; stroke-linejoin:round; stroke-width:4; stroke-opacity:1; fill:none\" points=\"2050.98,218.636 2192.34,218.636 \"/>\n",
       "<path clip-path=\"url(#clip880)\" d=\"M2215.9 225.684 L2215.9 209.99 L2220.16 209.99 L2220.16 225.522 Q2220.16 229.203 2221.6 231.055 Q2223.03 232.883 2225.9 232.883 Q2229.35 232.883 2231.34 230.684 Q2233.36 228.485 2233.36 224.689 L2233.36 209.99 L2237.61 209.99 L2237.61 235.916 L2233.36 235.916 L2233.36 231.934 Q2231.8 234.295 2229.74 235.453 Q2227.71 236.587 2225 236.587 Q2220.53 236.587 2218.22 233.809 Q2215.9 231.031 2215.9 225.684 M2226.62 209.365 L2226.62 209.365 Z\" fill=\"#000000\" fill-rule=\"evenodd\" fill-opacity=\"1\" /><path clip-path=\"url(#clip880)\" d=\"M2245.53 233.369 L2250.25 233.369 L2250.25 219.226 L2245.09 220.175 L2245.09 217.49 L2250.42 216.587 L2253.59 216.587 L2253.59 233.369 L2258.33 233.369 L2258.33 235.916 L2245.53 235.916 L2245.53 233.369 Z\" fill=\"#000000\" fill-rule=\"evenodd\" fill-opacity=\"1\" /><polyline clip-path=\"url(#clip880)\" style=\"stroke:#e26f46; stroke-linecap:round; stroke-linejoin:round; stroke-width:4; stroke-opacity:1; fill:none\" points=\"2050.98,270.476 2192.34,270.476 \"/>\n",
       "<path clip-path=\"url(#clip880)\" d=\"M2215.9 277.524 L2215.9 261.83 L2220.16 261.83 L2220.16 277.362 Q2220.16 281.043 2221.6 282.895 Q2223.03 284.723 2225.9 284.723 Q2229.35 284.723 2231.34 282.524 Q2233.36 280.325 2233.36 276.529 L2233.36 261.83 L2237.61 261.83 L2237.61 287.756 L2233.36 287.756 L2233.36 283.774 Q2231.8 286.135 2229.74 287.293 Q2227.71 288.427 2225 288.427 Q2220.53 288.427 2218.22 285.649 Q2215.9 282.871 2215.9 277.524 M2226.62 261.205 L2226.62 261.205 Z\" fill=\"#000000\" fill-rule=\"evenodd\" fill-opacity=\"1\" /><path clip-path=\"url(#clip880)\" d=\"M2248.12 285.117 L2257.94 285.117 L2257.94 287.756 L2244.1 287.756 L2244.1 285.209 Q2244.88 284.492 2246.34 283.196 Q2254.3 276.135 2254.3 273.959 Q2254.3 272.432 2253.1 271.506 Q2251.9 270.557 2249.93 270.557 Q2248.73 270.557 2247.31 270.973 Q2245.9 271.367 2244.24 272.177 L2244.24 269.33 Q2246.02 268.682 2247.55 268.358 Q2249.1 268.034 2250.42 268.034 Q2253.77 268.034 2255.79 269.561 Q2257.8 271.089 2257.8 273.589 Q2257.8 276.807 2250.14 283.381 Q2248.84 284.492 2248.12 285.117 Z\" fill=\"#000000\" fill-rule=\"evenodd\" fill-opacity=\"1\" /><polyline clip-path=\"url(#clip880)\" style=\"stroke:#3da44d; stroke-linecap:round; stroke-linejoin:round; stroke-width:4; stroke-opacity:1; fill:none\" points=\"2050.98,322.316 2192.34,322.316 \"/>\n",
       "<path clip-path=\"url(#clip880)\" d=\"M2215.9 329.364 L2215.9 313.67 L2220.16 313.67 L2220.16 329.202 Q2220.16 332.883 2221.6 334.735 Q2223.03 336.563 2225.9 336.563 Q2229.35 336.563 2231.34 334.364 Q2233.36 332.165 2233.36 328.369 L2233.36 313.67 L2237.61 313.67 L2237.61 339.596 L2233.36 339.596 L2233.36 335.614 Q2231.8 337.975 2229.74 339.133 Q2227.71 340.267 2225 340.267 Q2220.53 340.267 2218.22 337.489 Q2215.9 334.711 2215.9 329.364 M2226.62 313.045 L2226.62 313.045 Z\" fill=\"#000000\" fill-rule=\"evenodd\" fill-opacity=\"1\" /><path clip-path=\"url(#clip880)\" d=\"M2254.05 329.133 Q2256.18 329.549 2257.34 330.823 Q2258.52 332.073 2258.52 333.971 Q2258.52 336.841 2256.32 338.392 Q2254.12 339.943 2250.02 339.943 Q2248.7 339.943 2247.24 339.688 Q2245.81 339.457 2244.19 338.994 L2244.19 336.193 Q2245.39 336.818 2246.76 337.119 Q2248.15 337.42 2249.7 337.42 Q2252.22 337.42 2253.61 336.517 Q2255 335.591 2255 333.971 Q2255 332.258 2253.7 331.378 Q2252.43 330.499 2249.93 330.499 L2247.94 330.499 L2247.94 327.999 L2250.11 327.999 Q2252.29 327.999 2253.4 327.281 Q2254.54 326.54 2254.54 325.151 Q2254.54 323.809 2253.38 323.114 Q2252.22 322.397 2250.02 322.397 Q2249.1 322.397 2247.92 322.605 Q2246.74 322.813 2244.86 323.346 L2244.86 320.684 Q2246.55 320.29 2248.03 320.082 Q2249.51 319.874 2250.79 319.874 Q2254.12 319.874 2256.06 321.239 Q2258.03 322.605 2258.03 324.897 Q2258.03 326.494 2256.99 327.605 Q2255.95 328.716 2254.05 329.133 Z\" fill=\"#000000\" fill-rule=\"evenodd\" fill-opacity=\"1\" /></svg>\n"
      ]
     },
     "metadata": {},
     "output_type": "display_data"
    }
   ],
   "source": [
    "# Let's solve\n",
    "\n",
    "nx = 6\n",
    "nu = 3\n",
    "N = 301\n",
    "dt = 0.05\n",
    "t_vec = dt*(0:N-1)\n",
    "x0 = [4, 2, 20, -3, 2, -5.0]\n",
    "xg = [0,0,0,0,0,0.0]\n",
    "Xref = [deepcopy(xg) for i = 1:N]\n",
    "Uref = [zeros(nu) for i = 1:N-1]\n",
    "\n",
    "Q = 1e-2*Diagonal([1,1,1,1.0,1,1])\n",
    "R = 1e-0*Diagonal([1,1,1])\n",
    "Qf = 100*Q\n",
    "\n",
    "# ground_level = 0.0\n",
    "gravity = [0; 0; -9.81]\n",
    "mass = 10.0\n",
    "# ωPlanet = [0.0; 0.0; 0.0]\n",
    "perWeightMax = 2.0\n",
    "θ_thrust_max = 5.0  # deg\n",
    "# θ_glideslope = 60.0 # deg\n",
    "# glide_recover_k = 8\n",
    "\n",
    "A_cone = [1 0 0; 0 1 0]\n",
    "c_cone = [0.0, 0.0, tand(θ_thrust_max)]\n",
    "u_bnd = mass * abs(gravity[3]) * perWeightMax\n",
    "u_min = -170*ones(nu)\n",
    "u_max =  170*ones(nu)\n",
    "\n",
    "# state is x y v θ\n",
    "x_min = [-5,-5,0,-10,-10,-10.0]\n",
    "x_max = [5,5,20,10,10,10.0]\n",
    "\n",
    "ncx = 2*nx*0\n",
    "ncu = 2*nu*0\n",
    "ncg = 1\n",
    "ncu_cone = nu*1; \n",
    "cone_scale = 1  # very fragile for each problem\n",
    "\n",
    "params = (\n",
    "    nx = nx,\n",
    "    nu = nu,\n",
    "    ncx = ncx,\n",
    "    ncu = ncu,\n",
    "    ncg = ncg,\n",
    "    ncu_cone = ncu_cone,\n",
    "    A_cone = A_cone,\n",
    "    c_cone = c_cone,\n",
    "    N = N,\n",
    "    Q = Q,\n",
    "    R = R,\n",
    "    Qf = Qf,\n",
    "    u_min = u_min,\n",
    "    u_max = u_max,\n",
    "    x_min = x_min,\n",
    "    x_max = x_max,\n",
    "    Xref = Xref,\n",
    "    Uref = Uref,\n",
    "    dt = dt,\n",
    "    mc = 1.0,\n",
    "    mp = 0.2,\n",
    "    l = 0.5,\n",
    "    g = 9.81,\n",
    ");\n",
    "\n",
    "# previous iterate\n",
    "X = [deepcopy(x0) for i = 1:N]\n",
    "U = [-mass * gravity for k = 1:N-1]\n",
    "\n",
    "# new iterate\n",
    "Xn = deepcopy(X)\n",
    "Un = deepcopy(U)\n",
    "\n",
    "P = [zeros(nx,nx) for i = 1:N]   # cost to go quadratic term\n",
    "p = [zeros(nx) for i = 1:N]      # cost to go linear term\n",
    "d = [zeros(nu) for i = 1:N-1]    # feedforward control\n",
    "K = [zeros(nu,nx) for i = 1:N-1] # feedback gain\n",
    "Xhist = mpc(params,X,U,P,p,K,d,Xn,Un;atol=1e-1,max_iters = 11,verbose = true,ρ = 1e0, ϕ = 10.0);\n",
    "function mat_from_vec(X::Vector{Vector{Float64}})::Matrix\n",
    "    # convert a vector of vectors to a matrix \n",
    "    Xm = hcat(X...)\n",
    "    return Xm \n",
    "end\n",
    "Xsim_m = mat_from_vec(Xn)\n",
    "Usim_m = mat_from_vec(Un)\n",
    "using Plots\n",
    "display(plot(t_vec,Xsim_m',label = [\"x₁\" \"x₂\" \"x₃\" \"ẋ₁\" \"ẋ₂\" \"ẋ₃\"],linestyle=[:solid :solid :solid :dash :dash :dash],\n",
    "             title = \"State History\",\n",
    "             xlabel = \"time (s)\", ylabel = \"x\"))\n",
    "display(plot(t_vec[1:end-1],Usim_m',label = [\"u₁\" \"u₂\" \"u₃\"],\n",
    "             title = \"Input History\",\n",
    "             xlabel = \"time (s)\", ylabel = \"u\"))"
   ]
  },
  {
   "cell_type": "markdown",
   "id": "416df651-52ee-4c43-93e5-aca23c5630b2",
   "metadata": {},
   "source": [
    "For TrajOpt, it needs more tricks to get better results:\n",
    "- Hessian of the projection => better approximation\n",
    "- Scaling between conic constraints and other ones\n",
    "- Solution polishing"
   ]
  },
  {
   "cell_type": "code",
   "execution_count": 569,
   "id": "12ec6530-7479-455f-843a-81d2c40fb13a",
   "metadata": {},
   "outputs": [
    {
     "data": {
      "text/plain": [
       "-0.21689467346765134"
      ]
     },
     "metadata": {},
     "output_type": "display_data"
    },
    {
     "data": {
      "text/plain": [
       "-0.2589880356852845"
      ]
     },
     "metadata": {},
     "output_type": "display_data"
    },
    {
     "data": {
      "text/plain": [
       "-0.3010769286798691"
      ]
     },
     "metadata": {},
     "output_type": "display_data"
    },
    {
     "data": {
      "text/plain": [
       "-0.34316139948623636"
      ]
     },
     "metadata": {},
     "output_type": "display_data"
    },
    {
     "data": {
      "text/plain": [
       "-0.38524149461936474"
      ]
     },
     "metadata": {},
     "output_type": "display_data"
    },
    {
     "data": {
      "text/plain": [
       "-0.4273172600734707"
      ]
     },
     "metadata": {},
     "output_type": "display_data"
    },
    {
     "data": {
      "text/plain": [
       "-0.4693887413210458"
      ]
     },
     "metadata": {},
     "output_type": "display_data"
    },
    {
     "data": {
      "text/plain": [
       "-0.511455983311734"
      ]
     },
     "metadata": {},
     "output_type": "display_data"
    },
    {
     "data": {
      "text/plain": [
       "-0.5535190304711648"
      ]
     },
     "metadata": {},
     "output_type": "display_data"
    },
    {
     "data": {
      "text/plain": [
       "-0.5955779266996704"
      ]
     },
     "metadata": {},
     "output_type": "display_data"
    },
    {
     "data": {
      "text/plain": [
       "-0.6376327153709358"
      ]
     },
     "metadata": {},
     "output_type": "display_data"
    },
    {
     "data": {
      "text/plain": [
       "-0.6796834393304803"
      ]
     },
     "metadata": {},
     "output_type": "display_data"
    },
    {
     "data": {
      "text/plain": [
       "-0.7217301408940955"
      ]
     },
     "metadata": {},
     "output_type": "display_data"
    },
    {
     "data": {
      "text/plain": [
       "-0.7637728618461797"
      ]
     },
     "metadata": {},
     "output_type": "display_data"
    },
    {
     "data": {
      "text/plain": [
       "-0.8058116434378313"
      ]
     },
     "metadata": {},
     "output_type": "display_data"
    },
    {
     "data": {
      "text/plain": [
       "-0.8478465263850161"
      ]
     },
     "metadata": {},
     "output_type": "display_data"
    },
    {
     "data": {
      "text/plain": [
       "-0.8898775508664425"
      ]
     },
     "metadata": {},
     "output_type": "display_data"
    },
    {
     "data": {
      "text/plain": [
       "-0.9319047565214049"
      ]
     },
     "metadata": {},
     "output_type": "display_data"
    },
    {
     "data": {
      "text/plain": [
       "-0.973928182447457"
      ]
     },
     "metadata": {},
     "output_type": "display_data"
    },
    {
     "data": {
      "text/plain": [
       "-1.0159478671979087"
      ]
     },
     "metadata": {},
     "output_type": "display_data"
    },
    {
     "data": {
      "text/plain": [
       "-1.057963848779245"
      ]
     },
     "metadata": {},
     "output_type": "display_data"
    },
    {
     "data": {
      "text/plain": [
       "-1.099976164648389"
      ]
     },
     "metadata": {},
     "output_type": "display_data"
    },
    {
     "data": {
      "text/plain": [
       "-1.1419848517097275"
      ]
     },
     "metadata": {},
     "output_type": "display_data"
    },
    {
     "data": {
      "text/plain": [
       "-1.1839899463120567"
      ]
     },
     "metadata": {},
     "output_type": "display_data"
    },
    {
     "data": {
      "text/plain": [
       "-1.2259914842453101"
      ]
     },
     "metadata": {},
     "output_type": "display_data"
    },
    {
     "data": {
      "text/plain": [
       "-1.2679895007371504"
      ]
     },
     "metadata": {},
     "output_type": "display_data"
    },
    {
     "data": {
      "text/plain": [
       "-1.3099840304493293"
      ]
     },
     "metadata": {},
     "output_type": "display_data"
    },
    {
     "data": {
      "text/plain": [
       "-1.3519751074738977"
      ]
     },
     "metadata": {},
     "output_type": "display_data"
    },
    {
     "data": {
      "text/plain": [
       "-1.393962765329178"
      ]
     },
     "metadata": {},
     "output_type": "display_data"
    },
    {
     "data": {
      "text/plain": [
       "-1.435947036955544"
      ]
     },
     "metadata": {},
     "output_type": "display_data"
    },
    {
     "data": {
      "text/plain": [
       "-1.4779279547110304"
      ]
     },
     "metadata": {},
     "output_type": "display_data"
    },
    {
     "data": {
      "text/plain": [
       "-1.519905550366623"
      ]
     },
     "metadata": {},
     "output_type": "display_data"
    },
    {
     "data": {
      "text/plain": [
       "-1.5618798551014246"
      ]
     },
     "metadata": {},
     "output_type": "display_data"
    },
    {
     "data": {
      "text/plain": [
       "-1.6038508994974512"
      ]
     },
     "metadata": {},
     "output_type": "display_data"
    },
    {
     "data": {
      "text/plain": [
       "-1.6458187135343296"
      ]
     },
     "metadata": {},
     "output_type": "display_data"
    },
    {
     "data": {
      "text/plain": [
       "-1.687783326583581"
      ]
     },
     "metadata": {},
     "output_type": "display_data"
    },
    {
     "data": {
      "text/plain": [
       "-1.7297447674027007"
      ]
     },
     "metadata": {},
     "output_type": "display_data"
    },
    {
     "data": {
      "text/plain": [
       "-1.7717030641290092"
      ]
     },
     "metadata": {},
     "output_type": "display_data"
    },
    {
     "data": {
      "text/plain": [
       "-1.813658244273043"
      ]
     },
     "metadata": {},
     "output_type": "display_data"
    },
    {
     "data": {
      "text/plain": [
       "-1.8556103347118222"
      ]
     },
     "metadata": {},
     "output_type": "display_data"
    },
    {
     "data": {
      "text/plain": [
       "-1.8975593616816555"
      ]
     },
     "metadata": {},
     "output_type": "display_data"
    },
    {
     "data": {
      "text/plain": [
       "-1.939505350770669"
      ]
     },
     "metadata": {},
     "output_type": "display_data"
    },
    {
     "data": {
      "text/plain": [
       "-1.9814483269109644"
      ]
     },
     "metadata": {},
     "output_type": "display_data"
    },
    {
     "data": {
      "text/plain": [
       "-2.0233883143704166"
      ]
     },
     "metadata": {},
     "output_type": "display_data"
    },
    {
     "data": {
      "text/plain": [
       "-2.0653253367440856"
      ]
     },
     "metadata": {},
     "output_type": "display_data"
    },
    {
     "data": {
      "text/plain": [
       "-2.1072594169452294"
      ]
     },
     "metadata": {},
     "output_type": "display_data"
    },
    {
     "data": {
      "text/plain": [
       "-2.1491905771958937"
      ]
     },
     "metadata": {},
     "output_type": "display_data"
    },
    {
     "data": {
      "text/plain": [
       "-2.1911188390170615"
      ]
     },
     "metadata": {},
     "output_type": "display_data"
    },
    {
     "data": {
      "text/plain": [
       "-2.233044223218335"
      ]
     },
     "metadata": {},
     "output_type": "display_data"
    },
    {
     "data": {
      "text/plain": [
       "-2.274966749887203"
      ]
     },
     "metadata": {},
     "output_type": "display_data"
    },
    {
     "data": {
      "text/plain": [
       "-2.3168864383776997"
      ]
     },
     "metadata": {},
     "output_type": "display_data"
    },
    {
     "data": {
      "text/plain": [
       "-2.3588033072986603"
      ]
     },
     "metadata": {},
     "output_type": "display_data"
    },
    {
     "data": {
      "text/plain": [
       "-2.400717374501344"
      ]
     },
     "metadata": {},
     "output_type": "display_data"
    },
    {
     "data": {
      "text/plain": [
       "-2.442628657066514"
      ]
     },
     "metadata": {},
     "output_type": "display_data"
    },
    {
     "data": {
      "text/plain": [
       "-2.4845371712909543"
      ]
     },
     "metadata": {},
     "output_type": "display_data"
    },
    {
     "data": {
      "text/plain": [
       "-2.5264429326733024"
      ]
     },
     "metadata": {},
     "output_type": "display_data"
    },
    {
     "data": {
      "text/plain": [
       "-2.5683459558992707"
      ]
     },
     "metadata": {},
     "output_type": "display_data"
    },
    {
     "data": {
      "text/plain": [
       "-2.6102462548261665"
      ]
     },
     "metadata": {},
     "output_type": "display_data"
    },
    {
     "data": {
      "text/plain": [
       "-2.652143842466689"
      ]
     },
     "metadata": {},
     "output_type": "display_data"
    },
    {
     "data": {
      "text/plain": [
       "-2.6940387309720153"
      ]
     },
     "metadata": {},
     "output_type": "display_data"
    },
    {
     "data": {
      "text/plain": [
       "-2.735930931614015"
      ]
     },
     "metadata": {},
     "output_type": "display_data"
    },
    {
     "data": {
      "text/plain": [
       "-2.7778204547667187"
      ]
     },
     "metadata": {},
     "output_type": "display_data"
    },
    {
     "data": {
      "text/plain": [
       "-2.8197073098868835"
      ]
     },
     "metadata": {},
     "output_type": "display_data"
    },
    {
     "data": {
      "text/plain": [
       "-2.8615915054936476"
      ]
     },
     "metadata": {},
     "output_type": "display_data"
    },
    {
     "data": {
      "text/plain": [
       "-2.903473049147234"
      ]
     },
     "metadata": {},
     "output_type": "display_data"
    },
    {
     "data": {
      "text/plain": [
       "-2.9453519474266496"
      ]
     },
     "metadata": {},
     "output_type": "display_data"
    },
    {
     "data": {
      "text/plain": [
       "-2.98722820590634"
      ]
     },
     "metadata": {},
     "output_type": "display_data"
    },
    {
     "data": {
      "text/plain": [
       "-3.029101829131702"
      ]
     },
     "metadata": {},
     "output_type": "display_data"
    },
    {
     "data": {
      "text/plain": [
       "-3.0709728205934796"
      ]
     },
     "metadata": {},
     "output_type": "display_data"
    },
    {
     "data": {
      "text/plain": [
       "-3.1128411827009046"
      ]
     },
     "metadata": {},
     "output_type": "display_data"
    },
    {
     "data": {
      "text/plain": [
       "-3.1547069167535478"
      ]
     },
     "metadata": {},
     "output_type": "display_data"
    },
    {
     "data": {
      "text/plain": [
       "-3.19657002291183"
      ]
     },
     "metadata": {},
     "output_type": "display_data"
    },
    {
     "data": {
      "text/plain": [
       "-3.238430500166091"
      ]
     },
     "metadata": {},
     "output_type": "display_data"
    },
    {
     "data": {
      "text/plain": [
       "-3.28028834630416"
      ]
     },
     "metadata": {},
     "output_type": "display_data"
    },
    {
     "data": {
      "text/plain": [
       "-3.3221435578773395"
      ]
     },
     "metadata": {},
     "output_type": "display_data"
    },
    {
     "data": {
      "text/plain": [
       "-3.363996130164737"
      ]
     },
     "metadata": {},
     "output_type": "display_data"
    },
    {
     "data": {
      "text/plain": [
       "-3.4058460571357845"
      ]
     },
     "metadata": {},
     "output_type": "display_data"
    },
    {
     "data": {
      "text/plain": [
       "-3.447693331410955"
      ]
     },
     "metadata": {},
     "output_type": "display_data"
    },
    {
     "data": {
      "text/plain": [
       "-3.489537944220519"
      ]
     },
     "metadata": {},
     "output_type": "display_data"
    },
    {
     "data": {
      "text/plain": [
       "-3.5313798853611535"
      ]
     },
     "metadata": {},
     "output_type": "display_data"
    },
    {
     "data": {
      "text/plain": [
       "-3.5732191431504567"
      ]
     },
     "metadata": {},
     "output_type": "display_data"
    },
    {
     "data": {
      "text/plain": [
       "-3.6150557043791114"
      ]
     },
     "metadata": {},
     "output_type": "display_data"
    },
    {
     "data": {
      "text/plain": [
       "-3.6568895542605793"
      ]
     },
     "metadata": {},
     "output_type": "display_data"
    },
    {
     "data": {
      "text/plain": [
       "-3.6987206763782607"
      ]
     },
     "metadata": {},
     "output_type": "display_data"
    },
    {
     "data": {
      "text/plain": [
       "-3.740549052629884"
      ]
     },
     "metadata": {},
     "output_type": "display_data"
    },
    {
     "data": {
      "text/plain": [
       "-3.7823746631690103"
      ]
     },
     "metadata": {},
     "output_type": "display_data"
    },
    {
     "data": {
      "text/plain": [
       "-3.8241974863434587"
      ]
     },
     "metadata": {},
     "output_type": "display_data"
    },
    {
     "data": {
      "text/plain": [
       "-3.866017498630514"
      ]
     },
     "metadata": {},
     "output_type": "display_data"
    },
    {
     "data": {
      "text/plain": [
       "-3.907834674568636"
      ]
     },
     "metadata": {},
     "output_type": "display_data"
    },
    {
     "data": {
      "text/plain": [
       "-3.9496489866855553"
      ]
     },
     "metadata": {},
     "output_type": "display_data"
    },
    {
     "data": {
      "text/plain": [
       "-3.9914604054224787"
      ]
     },
     "metadata": {},
     "output_type": "display_data"
    },
    {
     "data": {
      "text/plain": [
       "-4.033268899054169"
      ]
     },
     "metadata": {},
     "output_type": "display_data"
    },
    {
     "data": {
      "text/plain": [
       "-4.075074433604632"
      ]
     },
     "metadata": {},
     "output_type": "display_data"
    },
    {
     "data": {
      "text/plain": [
       "-4.116876972758184"
      ]
     },
     "metadata": {},
     "output_type": "display_data"
    },
    {
     "data": {
      "text/plain": [
       "-4.158676477765554"
      ]
     },
     "metadata": {},
     "output_type": "display_data"
    },
    {
     "data": {
      "text/plain": [
       "-4.200472907344709"
      ]
     },
     "metadata": {},
     "output_type": "display_data"
    },
    {
     "data": {
      "text/plain": [
       "-4.242266217576089"
      ]
     },
     "metadata": {},
     "output_type": "display_data"
    },
    {
     "data": {
      "text/plain": [
       "-4.284056361791861"
      ]
     },
     "metadata": {},
     "output_type": "display_data"
    },
    {
     "data": {
      "text/plain": [
       "-4.325843290458789"
      ]
     },
     "metadata": {},
     "output_type": "display_data"
    },
    {
     "data": {
      "text/plain": [
       "-4.367626951054372"
      ]
     },
     "metadata": {},
     "output_type": "display_data"
    },
    {
     "data": {
      "text/plain": [
       "-4.409407287935674"
      ]
     },
     "metadata": {},
     "output_type": "display_data"
    },
    {
     "data": {
      "text/plain": [
       "-4.451184242200396"
      ]
     },
     "metadata": {},
     "output_type": "display_data"
    },
    {
     "data": {
      "text/plain": [
       "-4.492957751539794"
      ]
     },
     "metadata": {},
     "output_type": "display_data"
    },
    {
     "data": {
      "text/plain": [
       "-4.53472775008262"
      ]
     },
     "metadata": {},
     "output_type": "display_data"
    },
    {
     "data": {
      "text/plain": [
       "-4.576494168229668"
      ]
     },
     "metadata": {},
     "output_type": "display_data"
    },
    {
     "data": {
      "text/plain": [
       "-4.618256932478221"
      ]
     },
     "metadata": {},
     "output_type": "display_data"
    },
    {
     "data": {
      "text/plain": [
       "-4.66001596523559"
      ]
     },
     "metadata": {},
     "output_type": "display_data"
    },
    {
     "data": {
      "text/plain": [
       "-4.701771184621036"
      ]
     },
     "metadata": {},
     "output_type": "display_data"
    },
    {
     "data": {
      "text/plain": [
       "-4.743522504255267"
      ]
     },
     "metadata": {},
     "output_type": "display_data"
    },
    {
     "data": {
      "text/plain": [
       "-4.785269833036447"
      ]
     },
     "metadata": {},
     "output_type": "display_data"
    },
    {
     "data": {
      "text/plain": [
       "-4.827013074901925"
      ]
     },
     "metadata": {},
     "output_type": "display_data"
    },
    {
     "data": {
      "text/plain": [
       "-4.868752128574405"
      ]
     },
     "metadata": {},
     "output_type": "display_data"
    },
    {
     "data": {
      "text/plain": [
       "-4.910486887291519"
      ]
     },
     "metadata": {},
     "output_type": "display_data"
    },
    {
     "data": {
      "text/plain": [
       "-4.952217238517442"
      ]
     },
     "metadata": {},
     "output_type": "display_data"
    },
    {
     "data": {
      "text/plain": [
       "-4.993943063635264"
      ]
     },
     "metadata": {},
     "output_type": "display_data"
    },
    {
     "data": {
      "text/plain": [
       "-5.035664237618468"
      ]
     },
     "metadata": {},
     "output_type": "display_data"
    },
    {
     "data": {
      "text/plain": [
       "-5.077380628679942"
      ]
     },
     "metadata": {},
     "output_type": "display_data"
    },
    {
     "data": {
      "text/plain": [
       "-5.11909209789677"
      ]
     },
     "metadata": {},
     "output_type": "display_data"
    },
    {
     "data": {
      "text/plain": [
       "-5.160798498808711"
      ]
     },
     "metadata": {},
     "output_type": "display_data"
    },
    {
     "data": {
      "text/plain": [
       "-5.2024996769883085"
      ]
     },
     "metadata": {},
     "output_type": "display_data"
    },
    {
     "data": {
      "text/plain": [
       "-5.24419546958022"
      ]
     },
     "metadata": {},
     "output_type": "display_data"
    },
    {
     "data": {
      "text/plain": [
       "-5.285885704807285"
      ]
     },
     "metadata": {},
     "output_type": "display_data"
    },
    {
     "data": {
      "text/plain": [
       "-5.327570201440269"
      ]
     },
     "metadata": {},
     "output_type": "display_data"
    },
    {
     "data": {
      "text/plain": [
       "-5.369248768228485"
      ]
     },
     "metadata": {},
     "output_type": "display_data"
    },
    {
     "data": {
      "text/plain": [
       "-5.410921203287632"
      ]
     },
     "metadata": {},
     "output_type": "display_data"
    },
    {
     "data": {
      "text/plain": [
       "-5.452587293441171"
      ]
     },
     "metadata": {},
     "output_type": "display_data"
    },
    {
     "data": {
      "text/plain": [
       "-5.494246813511072"
      ]
     },
     "metadata": {},
     "output_type": "display_data"
    },
    {
     "data": {
      "text/plain": [
       "-5.5358995255534875"
      ]
     },
     "metadata": {},
     "output_type": "display_data"
    },
    {
     "data": {
      "text/plain": [
       "-5.577545178034004"
      ]
     },
     "metadata": {},
     "output_type": "display_data"
    },
    {
     "data": {
      "text/plain": [
       "-5.619183504937267"
      ]
     },
     "metadata": {},
     "output_type": "display_data"
    },
    {
     "data": {
      "text/plain": [
       "-5.660814224804492"
      ]
     },
     "metadata": {},
     "output_type": "display_data"
    },
    {
     "data": {
      "text/plain": [
       "-5.702437039692191"
      ]
     },
     "metadata": {},
     "output_type": "display_data"
    },
    {
     "data": {
      "text/plain": [
       "-5.744051634044406"
      ]
     },
     "metadata": {},
     "output_type": "display_data"
    },
    {
     "data": {
      "text/plain": [
       "-5.785657673470082"
      ]
     },
     "metadata": {},
     "output_type": "display_data"
    },
    {
     "data": {
      "text/plain": [
       "-5.827254803416146"
      ]
     },
     "metadata": {},
     "output_type": "display_data"
    },
    {
     "data": {
      "text/plain": [
       "-5.868842647725763"
      ]
     },
     "metadata": {},
     "output_type": "display_data"
    },
    {
     "data": {
      "text/plain": [
       "-5.910420807070186"
      ]
     },
     "metadata": {},
     "output_type": "display_data"
    },
    {
     "data": {
      "text/plain": [
       "-5.951988857241014"
      ]
     },
     "metadata": {},
     "output_type": "display_data"
    },
    {
     "data": {
      "text/plain": [
       "-5.993546347288331"
      ]
     },
     "metadata": {},
     "output_type": "display_data"
    },
    {
     "data": {
      "text/plain": [
       "-6.0350927974882325"
      ]
     },
     "metadata": {},
     "output_type": "display_data"
    },
    {
     "data": {
      "text/plain": [
       "-6.076627697121401"
      ]
     },
     "metadata": {},
     "output_type": "display_data"
    },
    {
     "data": {
      "text/plain": [
       "-6.118150502041963"
      ]
     },
     "metadata": {},
     "output_type": "display_data"
    },
    {
     "data": {
      "text/plain": [
       "-6.159660632013354"
      ]
     },
     "metadata": {},
     "output_type": "display_data"
    },
    {
     "data": {
      "text/plain": [
       "-6.20115746778475"
      ]
     },
     "metadata": {},
     "output_type": "display_data"
    },
    {
     "data": {
      "text/plain": [
       "-6.2426403478784245"
      ]
     },
     "metadata": {},
     "output_type": "display_data"
    },
    {
     "data": {
      "text/plain": [
       "-6.284108565054184"
      ]
     },
     "metadata": {},
     "output_type": "display_data"
    },
    {
     "data": {
      "text/plain": [
       "-6.32556136241274"
      ]
     },
     "metadata": {},
     "output_type": "display_data"
    },
    {
     "data": {
      "text/plain": [
       "-6.366997929094371"
      ]
     },
     "metadata": {},
     "output_type": "display_data"
    },
    {
     "data": {
      "text/plain": [
       "-6.408417395523395"
      ]
     },
     "metadata": {},
     "output_type": "display_data"
    },
    {
     "data": {
      "text/plain": [
       "-6.449818828141897"
      ]
     },
     "metadata": {},
     "output_type": "display_data"
    },
    {
     "data": {
      "text/plain": [
       "-6.491201223567852"
      ]
     },
     "metadata": {},
     "output_type": "display_data"
    },
    {
     "data": {
      "text/plain": [
       "-6.532563502103574"
      ]
     },
     "metadata": {},
     "output_type": "display_data"
    },
    {
     "data": {
      "text/plain": [
       "-6.573904500509158"
      ]
     },
     "metadata": {},
     "output_type": "display_data"
    },
    {
     "data": {
      "text/plain": [
       "-6.615222963942718"
      ]
     },
     "metadata": {},
     "output_type": "display_data"
    },
    {
     "data": {
      "text/plain": [
       "-6.656517536954035"
      ]
     },
     "metadata": {},
     "output_type": "display_data"
    },
    {
     "data": {
      "text/plain": [
       "-6.697786753400502"
      ]
     },
     "metadata": {},
     "output_type": "display_data"
    },
    {
     "data": {
      "text/plain": [
       "-6.739029025133099"
      ]
     },
     "metadata": {},
     "output_type": "display_data"
    },
    {
     "data": {
      "text/plain": [
       "-6.7802426292753815"
      ]
     },
     "metadata": {},
     "output_type": "display_data"
    },
    {
     "data": {
      "text/plain": [
       "-6.821425693889045"
      ]
     },
     "metadata": {},
     "output_type": "display_data"
    },
    {
     "data": {
      "text/plain": [
       "-6.862576181784571"
      ]
     },
     "metadata": {},
     "output_type": "display_data"
    },
    {
     "data": {
      "text/plain": [
       "-6.903691872193654"
      ]
     },
     "metadata": {},
     "output_type": "display_data"
    },
    {
     "data": {
      "text/plain": [
       "-6.944770339970411"
      ]
     },
     "metadata": {},
     "output_type": "display_data"
    },
    {
     "data": {
      "text/plain": [
       "-6.985808931928074"
      ]
     },
     "metadata": {},
     "output_type": "display_data"
    },
    {
     "data": {
      "text/plain": [
       "-7.02680473984597"
      ]
     },
     "metadata": {},
     "output_type": "display_data"
    },
    {
     "data": {
      "text/plain": [
       "-7.067754569594181"
      ]
     },
     "metadata": {},
     "output_type": "display_data"
    },
    {
     "data": {
      "text/plain": [
       "-7.108654905717652"
      ]
     },
     "metadata": {},
     "output_type": "display_data"
    },
    {
     "data": {
      "text/plain": [
       "-7.149501870692486"
      ]
     },
     "metadata": {},
     "output_type": "display_data"
    },
    {
     "data": {
      "text/plain": [
       "-7.1902911779104"
      ]
     },
     "metadata": {},
     "output_type": "display_data"
    },
    {
     "data": {
      "text/plain": [
       "-7.231018077253885"
      ]
     },
     "metadata": {},
     "output_type": "display_data"
    },
    {
     "data": {
      "text/plain": [
       "-7.271677291887794"
      ]
     },
     "metadata": {},
     "output_type": "display_data"
    },
    {
     "data": {
      "text/plain": [
       "-7.3122629445995235"
      ]
     },
     "metadata": {},
     "output_type": "display_data"
    },
    {
     "data": {
      "text/plain": [
       "-7.352768471656103"
      ]
     },
     "metadata": {},
     "output_type": "display_data"
    },
    {
     "data": {
      "text/plain": [
       "-7.393186521693242"
      ]
     },
     "metadata": {},
     "output_type": "display_data"
    },
    {
     "data": {
      "text/plain": [
       "-7.4335088365842905"
      ]
     },
     "metadata": {},
     "output_type": "display_data"
    },
    {
     "data": {
      "text/plain": [
       "-7.473726110524936"
      ]
     },
     "metadata": {},
     "output_type": "display_data"
    },
    {
     "data": {
      "text/plain": [
       "-7.513827822671604"
      ]
     },
     "metadata": {},
     "output_type": "display_data"
    },
    {
     "data": {
      "text/plain": [
       "-7.553802037534277"
      ]
     },
     "metadata": {},
     "output_type": "display_data"
    },
    {
     "data": {
      "text/plain": [
       "-7.593635165880149"
      ]
     },
     "metadata": {},
     "output_type": "display_data"
    },
    {
     "data": {
      "text/plain": [
       "-7.633311677061902"
      ]
     },
     "metadata": {},
     "output_type": "display_data"
    },
    {
     "data": {
      "text/plain": [
       "-7.6728137513276025"
      ]
     },
     "metadata": {},
     "output_type": "display_data"
    },
    {
     "data": {
      "text/plain": [
       "-7.712120857646831"
      ]
     },
     "metadata": {},
     "output_type": "display_data"
    },
    {
     "data": {
      "text/plain": [
       "-7.751209238704257"
      ]
     },
     "metadata": {},
     "output_type": "display_data"
    },
    {
     "data": {
      "text/plain": [
       "-7.790051279720385"
      ]
     },
     "metadata": {},
     "output_type": "display_data"
    },
    {
     "data": {
      "text/plain": [
       "-7.828614731350523"
      ]
     },
     "metadata": {},
     "output_type": "display_data"
    },
    {
     "data": {
      "text/plain": [
       "-7.8668617487138635"
      ]
     },
     "metadata": {},
     "output_type": "display_data"
    },
    {
     "data": {
      "text/plain": [
       "-7.904747698192557"
      ]
     },
     "metadata": {},
     "output_type": "display_data"
    },
    {
     "data": {
      "text/plain": [
       "-7.9422196705894486"
      ]
     },
     "metadata": {},
     "output_type": "display_data"
    },
    {
     "data": {
      "text/plain": [
       "-7.979214623235683"
      ]
     },
     "metadata": {},
     "output_type": "display_data"
    },
    {
     "data": {
      "text/plain": [
       "-8.0156570547753"
      ]
     },
     "metadata": {},
     "output_type": "display_data"
    },
    {
     "data": {
      "text/plain": [
       "-8.051456095637903"
      ]
     },
     "metadata": {},
     "output_type": "display_data"
    },
    {
     "data": {
      "text/plain": [
       "-8.086501877660337"
      ]
     },
     "metadata": {},
     "output_type": "display_data"
    },
    {
     "data": {
      "text/plain": [
       "-8.120661034945366"
      ]
     },
     "metadata": {},
     "output_type": "display_data"
    },
    {
     "data": {
      "text/plain": [
       "-8.15377119937068"
      ]
     },
     "metadata": {},
     "output_type": "display_data"
    },
    {
     "data": {
      "text/plain": [
       "-8.185634416012135"
      ]
     },
     "metadata": {},
     "output_type": "display_data"
    },
    {
     "data": {
      "text/plain": [
       "-8.21600956568817"
      ]
     },
     "metadata": {},
     "output_type": "display_data"
    },
    {
     "data": {
      "text/plain": [
       "-8.244604224550505"
      ]
     },
     "metadata": {},
     "output_type": "display_data"
    },
    {
     "data": {
      "text/plain": [
       "-8.271067027956166"
      ]
     },
     "metadata": {},
     "output_type": "display_data"
    },
    {
     "data": {
      "text/plain": [
       "-8.294982655825203"
      ]
     },
     "metadata": {},
     "output_type": "display_data"
    },
    {
     "data": {
      "text/plain": [
       "-8.315873032897349"
      ]
     },
     "metadata": {},
     "output_type": "display_data"
    },
    {
     "data": {
      "text/plain": [
       "-8.333209897496989"
      ]
     },
     "metadata": {},
     "output_type": "display_data"
    },
    {
     "data": {
      "text/plain": [
       "-8.34644446572567"
      ]
     },
     "metadata": {},
     "output_type": "display_data"
    },
    {
     "data": {
      "text/plain": [
       "-8.355057567840275"
      ]
     },
     "metadata": {},
     "output_type": "display_data"
    },
    {
     "data": {
      "text/plain": [
       "-8.358626542090894"
      ]
     },
     "metadata": {},
     "output_type": "display_data"
    },
    {
     "data": {
      "text/plain": [
       "-8.356894369855198"
      ]
     },
     "metadata": {},
     "output_type": "display_data"
    },
    {
     "data": {
      "text/plain": [
       "-8.349818352074795"
      ]
     },
     "metadata": {},
     "output_type": "display_data"
    },
    {
     "data": {
      "text/plain": [
       "-8.337578680959965"
      ]
     },
     "metadata": {},
     "output_type": "display_data"
    },
    {
     "data": {
      "text/plain": [
       "-8.32054317265291"
      ]
     },
     "metadata": {},
     "output_type": "display_data"
    },
    {
     "data": {
      "text/plain": [
       "-8.299203011606812"
      ]
     },
     "metadata": {},
     "output_type": "display_data"
    },
    {
     "data": {
      "text/plain": [
       "-8.274102721374646"
      ]
     },
     "metadata": {},
     "output_type": "display_data"
    },
    {
     "data": {
      "text/plain": [
       "-8.24578275467263"
      ]
     },
     "metadata": {},
     "output_type": "display_data"
    },
    {
     "data": {
      "text/plain": [
       "-8.214742261603718"
      ]
     },
     "metadata": {},
     "output_type": "display_data"
    },
    {
     "data": {
      "text/plain": [
       "-8.181420726219272"
      ]
     },
     "metadata": {},
     "output_type": "display_data"
    },
    {
     "data": {
      "text/plain": [
       "-8.146193164409993"
      ]
     },
     "metadata": {},
     "output_type": "display_data"
    },
    {
     "data": {
      "text/plain": [
       "-8.109373310803988"
      ]
     },
     "metadata": {},
     "output_type": "display_data"
    },
    {
     "data": {
      "text/plain": [
       "-8.071220587152498"
      ]
     },
     "metadata": {},
     "output_type": "display_data"
    },
    {
     "data": {
      "text/plain": [
       "-8.031948223183175"
      ]
     },
     "metadata": {},
     "output_type": "display_data"
    },
    {
     "data": {
      "text/plain": [
       "-7.991731121283914"
      ]
     },
     "metadata": {},
     "output_type": "display_data"
    },
    {
     "data": {
      "text/plain": [
       "-7.950712836936012"
      ]
     },
     "metadata": {},
     "output_type": "display_data"
    },
    {
     "data": {
      "text/plain": [
       "-7.909011485497514"
      ]
     },
     "metadata": {},
     "output_type": "display_data"
    },
    {
     "data": {
      "text/plain": [
       "-7.866724604463975"
      ]
     },
     "metadata": {},
     "output_type": "display_data"
    },
    {
     "data": {
      "text/plain": [
       "-7.8239330925153086"
      ]
     },
     "metadata": {},
     "output_type": "display_data"
    },
    {
     "data": {
      "text/plain": [
       "-7.780704372760137"
      ]
     },
     "metadata": {},
     "output_type": "display_data"
    },
    {
     "data": {
      "text/plain": [
       "-7.737094922491717"
      ]
     },
     "metadata": {},
     "output_type": "display_data"
    },
    {
     "data": {
      "text/plain": [
       "-7.693152294170481"
      ]
     },
     "metadata": {},
     "output_type": "display_data"
    },
    {
     "data": {
      "text/plain": [
       "-7.6489167315632685"
      ]
     },
     "metadata": {},
     "output_type": "display_data"
    },
    {
     "data": {
      "text/plain": [
       "-7.604422465216956"
      ]
     },
     "metadata": {},
     "output_type": "display_data"
    },
    {
     "data": {
      "text/plain": [
       "-7.559698754328853"
      ]
     },
     "metadata": {},
     "output_type": "display_data"
    },
    {
     "data": {
      "text/plain": [
       "-7.514770727942728"
      ]
     },
     "metadata": {},
     "output_type": "display_data"
    },
    {
     "data": {
      "text/plain": [
       "-7.4696600670444555"
      ]
     },
     "metadata": {},
     "output_type": "display_data"
    },
    {
     "data": {
      "text/plain": [
       "-7.424385560152816"
      ]
     },
     "metadata": {},
     "output_type": "display_data"
    },
    {
     "data": {
      "text/plain": [
       "-7.378963557967048"
      ]
     },
     "metadata": {},
     "output_type": "display_data"
    },
    {
     "data": {
      "text/plain": [
       "-7.333408347149211"
      ]
     },
     "metadata": {},
     "output_type": "display_data"
    },
    {
     "data": {
      "text/plain": [
       "-7.28773245905175"
      ]
     },
     "metadata": {},
     "output_type": "display_data"
    },
    {
     "data": {
      "text/plain": [
       "-7.241946925880917"
      ]
     },
     "metadata": {},
     "output_type": "display_data"
    },
    {
     "data": {
      "text/plain": [
       "-7.196061494199451"
      ]
     },
     "metadata": {},
     "output_type": "display_data"
    },
    {
     "data": {
      "text/plain": [
       "-7.150084803652142"
      ]
     },
     "metadata": {},
     "output_type": "display_data"
    },
    {
     "data": {
      "text/plain": [
       "-7.1040245372151265"
      ]
     },
     "metadata": {},
     "output_type": "display_data"
    },
    {
     "data": {
      "text/plain": [
       "-7.057887548027048"
      ]
     },
     "metadata": {},
     "output_type": "display_data"
    },
    {
     "data": {
      "text/plain": [
       "-7.011679966878896"
      ]
     },
     "metadata": {},
     "output_type": "display_data"
    },
    {
     "data": {
      "text/plain": [
       "-6.9654072936631355"
      ]
     },
     "metadata": {},
     "output_type": "display_data"
    },
    {
     "data": {
      "text/plain": [
       "-6.919074475465163"
      ]
     },
     "metadata": {},
     "output_type": "display_data"
    },
    {
     "data": {
      "text/plain": [
       "-6.872685973487362"
      ]
     },
     "metadata": {},
     "output_type": "display_data"
    },
    {
     "data": {
      "text/plain": [
       "-6.826245820600985"
      ]
     },
     "metadata": {},
     "output_type": "display_data"
    },
    {
     "data": {
      "text/plain": [
       "-6.779757671003212"
      ]
     },
     "metadata": {},
     "output_type": "display_data"
    },
    {
     "data": {
      "text/plain": [
       "-6.73322484320002"
      ]
     },
     "metadata": {},
     "output_type": "display_data"
    },
    {
     "data": {
      "text/plain": [
       "-6.68665035732676"
      ]
     },
     "metadata": {},
     "output_type": "display_data"
    },
    {
     "data": {
      "text/plain": [
       "-6.640036967649118"
      ]
     },
     "metadata": {},
     "output_type": "display_data"
    },
    {
     "data": {
      "text/plain": [
       "-6.59338719094804"
      ]
     },
     "metadata": {},
     "output_type": "display_data"
    },
    {
     "data": {
      "text/plain": [
       "-6.546703331378496"
      ]
     },
     "metadata": {},
     "output_type": "display_data"
    },
    {
     "data": {
      "text/plain": [
       "-6.499987502298374"
      ]
     },
     "metadata": {},
     "output_type": "display_data"
    },
    {
     "data": {
      "text/plain": [
       "-6.453241645485904"
      ]
     },
     "metadata": {},
     "output_type": "display_data"
    },
    {
     "data": {
      "text/plain": [
       "-6.406467548100277"
      ]
     },
     "metadata": {},
     "output_type": "display_data"
    },
    {
     "data": {
      "text/plain": [
       "-6.3596668576862205"
      ]
     },
     "metadata": {},
     "output_type": "display_data"
    },
    {
     "data": {
      "text/plain": [
       "-6.31284109547892"
      ]
     },
     "metadata": {},
     "output_type": "display_data"
    },
    {
     "data": {
      "text/plain": [
       "-6.265991668228104"
      ]
     },
     "metadata": {},
     "output_type": "display_data"
    },
    {
     "data": {
      "text/plain": [
       "-6.219119878728847"
      ]
     },
     "metadata": {},
     "output_type": "display_data"
    },
    {
     "data": {
      "text/plain": [
       "-6.17222693522022"
      ]
     },
     "metadata": {},
     "output_type": "display_data"
    },
    {
     "data": {
      "text/plain": [
       "-6.125313959790244"
      ]
     },
     "metadata": {},
     "output_type": "display_data"
    },
    {
     "data": {
      "text/plain": [
       "-6.078381995907044"
      ]
     },
     "metadata": {},
     "output_type": "display_data"
    },
    {
     "data": {
      "text/plain": [
       "-6.031432015179762"
      ]
     },
     "metadata": {},
     "output_type": "display_data"
    },
    {
     "data": {
      "text/plain": [
       "-5.984464923439123"
      ]
     },
     "metadata": {},
     "output_type": "display_data"
    },
    {
     "data": {
      "text/plain": [
       "-5.937481566215743"
      ]
     },
     "metadata": {},
     "output_type": "display_data"
    },
    {
     "data": {
      "text/plain": [
       "-5.8904827336844505"
      ]
     },
     "metadata": {},
     "output_type": "display_data"
    },
    {
     "data": {
      "text/plain": [
       "-5.84346916513403"
      ]
     },
     "metadata": {},
     "output_type": "display_data"
    },
    {
     "data": {
      "text/plain": [
       "-5.79644155301435"
      ]
     },
     "metadata": {},
     "output_type": "display_data"
    },
    {
     "data": {
      "text/plain": [
       "-5.74940054660685"
      ]
     },
     "metadata": {},
     "output_type": "display_data"
    },
    {
     "data": {
      "text/plain": [
       "-5.702346755358258"
      ]
     },
     "metadata": {},
     "output_type": "display_data"
    },
    {
     "data": {
      "text/plain": [
       "-5.655280751913077"
      ]
     },
     "metadata": {},
     "output_type": "display_data"
    },
    {
     "data": {
      "text/plain": [
       "-5.608203074875899"
      ]
     },
     "metadata": {},
     "output_type": "display_data"
    },
    {
     "data": {
      "text/plain": [
       "-5.561114231331194"
      ]
     },
     "metadata": {},
     "output_type": "display_data"
    },
    {
     "data": {
      "text/plain": [
       "-5.514014699145015"
      ]
     },
     "metadata": {},
     "output_type": "display_data"
    },
    {
     "data": {
      "text/plain": [
       "-5.466904929070187"
      ]
     },
     "metadata": {},
     "output_type": "display_data"
    },
    {
     "data": {
      "text/plain": [
       "-5.419785346674313"
      ]
     },
     "metadata": {},
     "output_type": "display_data"
    },
    {
     "data": {
      "text/plain": [
       "-5.372656354107633"
      ]
     },
     "metadata": {},
     "output_type": "display_data"
    },
    {
     "data": {
      "text/plain": [
       "-5.32551833172611"
      ]
     },
     "metadata": {},
     "output_type": "display_data"
    },
    {
     "data": {
      "text/plain": [
       "-5.278371639583302"
      ]
     },
     "metadata": {},
     "output_type": "display_data"
    },
    {
     "data": {
      "text/plain": [
       "-5.231216618803192"
      ]
     },
     "metadata": {},
     "output_type": "display_data"
    },
    {
     "data": {
      "text/plain": [
       "-5.1840535928449505"
      ]
     },
     "metadata": {},
     "output_type": "display_data"
    },
    {
     "data": {
      "text/plain": [
       "-5.136882868669456"
      ]
     },
     "metadata": {},
     "output_type": "display_data"
    },
    {
     "data": {
      "text/plain": [
       "-5.08970473781619"
      ]
     },
     "metadata": {},
     "output_type": "display_data"
    },
    {
     "data": {
      "text/plain": [
       "-5.04251947739866"
      ]
     },
     "metadata": {},
     "output_type": "display_data"
    },
    {
     "data": {
      "text/plain": [
       "-4.9953273510252565"
      ]
     },
     "metadata": {},
     "output_type": "display_data"
    },
    {
     "data": {
      "text/plain": [
       "-4.9481286096521275"
      ]
     },
     "metadata": {},
     "output_type": "display_data"
    },
    {
     "data": {
      "text/plain": [
       "-4.900923492373703"
      ]
     },
     "metadata": {},
     "output_type": "display_data"
    },
    {
     "data": {
      "text/plain": [
       "-4.853712227156324"
      ]
     },
     "metadata": {},
     "output_type": "display_data"
    },
    {
     "data": {
      "text/plain": [
       "-4.806495031519522"
      ]
     },
     "metadata": {},
     "output_type": "display_data"
    },
    {
     "data": {
      "text/plain": [
       "-4.759272113169404"
      ]
     },
     "metadata": {},
     "output_type": "display_data"
    },
    {
     "data": {
      "text/plain": [
       "-4.712043670587859"
      ]
     },
     "metadata": {},
     "output_type": "display_data"
    },
    {
     "data": {
      "text/plain": [
       "-4.664809893581376"
      ]
     },
     "metadata": {},
     "output_type": "display_data"
    },
    {
     "data": {
      "text/plain": [
       "-4.617570963792531"
      ]
     },
     "metadata": {},
     "output_type": "display_data"
    },
    {
     "data": {
      "text/plain": [
       "-4.5703270551769855"
      ]
     },
     "metadata": {},
     "output_type": "display_data"
    },
    {
     "data": {
      "text/plain": [
       "-4.523078334449028"
      ]
     },
     "metadata": {},
     "output_type": "display_data"
    },
    {
     "data": {
      "text/plain": [
       "-4.475824961497628"
      ]
     },
     "metadata": {},
     "output_type": "display_data"
    },
    {
     "data": {
      "text/plain": [
       "-4.4285670897756075"
      ]
     },
     "metadata": {},
     "output_type": "display_data"
    },
    {
     "data": {
      "text/plain": [
       "-4.381304866663855"
      ]
     },
     "metadata": {},
     "output_type": "display_data"
    },
    {
     "data": {
      "text/plain": [
       "-4.334038433812234"
      ]
     },
     "metadata": {},
     "output_type": "display_data"
    },
    {
     "data": {
      "text/plain": [
       "-4.286767927459302"
      ]
     },
     "metadata": {},
     "output_type": "display_data"
    },
    {
     "data": {
      "text/plain": [
       "-4.239493478732029"
      ]
     },
     "metadata": {},
     "output_type": "display_data"
    },
    {
     "data": {
      "text/plain": [
       "-4.192215213926877"
      ]
     },
     "metadata": {},
     "output_type": "display_data"
    },
    {
     "data": {
      "text/plain": [
       "-4.144933254729046"
      ]
     },
     "metadata": {},
     "output_type": "display_data"
    }
   ],
   "source": [
    "# Check conic violation\n",
    "convio = 0.0\n",
    "for k = 1:N-1\n",
    "    Uc = cone_u(params, U[k])\n",
    "    huc = norm(Uc[1:2]) - Uc[3]\n",
    "    convio = norm(huc + abs.(huc),Inf)\n",
    "    display(huc) # should <= 0\n",
    "end\n",
    "Xref .= Xn;\n",
    "Uref .= Un;"
   ]
  },
  {
   "cell_type": "code",
   "execution_count": 529,
   "id": "5c8d15e2-a563-4077-96df-8f829ba24d00",
   "metadata": {},
   "outputs": [],
   "source": [
    "### MPC style ###\n",
    "Nsim = 121\n",
    "Nh = 30\n",
    "t_vec = dt*(0:Nsim-1)\n",
    "\n",
    "# x0 = [4, 2, 20, -3, 2, -5.0]  # initial plan\n",
    "x0 = [5, 2, 21, -3, 2, -5.0]  # change this!\n",
    "# x0 = [5, 3, 21, -3, 2, -5.0]\n",
    "\n",
    "xg = [0,0,0,0,0,0.0]\n",
    "Q = 10e-1*Diagonal([1,1,1,1.0,1,1])  # make this higher!\n",
    "R = 1e-1*Diagonal([1,1,1])\n",
    "Qf = 1000*Q  # change this!\n",
    "θ_thrust_max = 12.0  # increase max thrust from plan!\n",
    "\n",
    "# state is x y v θ\n",
    "x_min = [-5,-5,0,-10,-10,-10.0]\n",
    "x_max = [5,5,20,10,10,10.0]\n",
    "\n",
    "ncx = 2*nx*0\n",
    "ncu = 2*nu*0\n",
    "ncg = 0\n",
    "ncu_cone = nu*1; \n",
    "cone_scale = 1\n",
    "\n",
    "params = (\n",
    "    nx = nx,\n",
    "    nu = nu,\n",
    "    ncx = ncx,\n",
    "    ncu = ncu,\n",
    "    ncg = ncg,\n",
    "    ncu_cone = ncu_cone,\n",
    "    A_cone = A_cone,\n",
    "    c_cone = c_cone,\n",
    "    N = Nh,\n",
    "    Q = Q,\n",
    "    R = R,\n",
    "    Qf = Qf,\n",
    "    u_min = u_min,\n",
    "    u_max = u_max,\n",
    "    x_min = x_min,\n",
    "    x_max = x_max,\n",
    "    Xref = Xref,\n",
    "    Uref = Uref,\n",
    "    dt = dt,\n",
    "    mc = 1.0,\n",
    "    mp = 0.2,\n",
    "    l = 0.5,\n",
    "    g = 9.81,\n",
    ");\n",
    "\n",
    "Xhist = [deepcopy(x0) for i = 1:Nsim]\n",
    "Uhist = [-mass * gravity for k = 1:Nsim-1]\n",
    "# previous iterate\n",
    "X = [deepcopy(x0) for i = 1:Nh]\n",
    "U = [-mass * gravity for k = 1:Nh-1]\n",
    "\n",
    "# new iterate\n",
    "Xn = deepcopy(X)\n",
    "Un = deepcopy(U)\n",
    "\n",
    "P = [zeros(nx,nx) for i = 1:Nh]   # cost to go quadratic term\n",
    "p = [zeros(nx) for i = 1:Nh]      # cost to go linear term\n",
    "d = [zeros(nu) for i = 1:Nh-1]    # feedforward control\n",
    "K = [zeros(nu,nx) for i = 1:Nh-1] # feedback gain\n",
    "\n",
    "for i = 1:Nsim-Nh-1\n",
    "    params1 = (; params..., Uref = Uref[i:Nh+i], Xref = Xref[i:Nh+i-1])  # update ref\n",
    "    X[1] .= Xhist[i]  # update initial\n",
    "    X_ = mpc(params1,X,U,P,p,K,d,Xn,Un;atol=1e-1,max_iters = 10,verbose = false,ρ = 1e0, ϕ = 10.0);\n",
    "    Uhist[i] = Un[1]\n",
    "    Xhist[i+1] = discrete_dynamics(params1,Xhist[i],Uhist[i],i)  # dynamics\n",
    "end"
   ]
  },
  {
   "cell_type": "code",
   "execution_count": 530,
   "id": "d651f59e-e700-4bc9-927c-98835f2679f4",
   "metadata": {},
   "outputs": [
    {
     "data": {
      "text/plain": [
       "-3.2570264165387"
      ]
     },
     "metadata": {},
     "output_type": "display_data"
    },
    {
     "data": {
      "text/plain": [
       "-3.711490720946811"
      ]
     },
     "metadata": {},
     "output_type": "display_data"
    },
    {
     "data": {
      "text/plain": [
       "-3.4187386855417223"
      ]
     },
     "metadata": {},
     "output_type": "display_data"
    },
    {
     "data": {
      "text/plain": [
       "-2.770937337451185"
      ]
     },
     "metadata": {},
     "output_type": "display_data"
    },
    {
     "data": {
      "text/plain": [
       "-3.0867028533431036"
      ]
     },
     "metadata": {},
     "output_type": "display_data"
    },
    {
     "data": {
      "text/plain": [
       "-3.038481948924211"
      ]
     },
     "metadata": {},
     "output_type": "display_data"
    },
    {
     "data": {
      "text/plain": [
       "-3.350415407718147"
      ]
     },
     "metadata": {},
     "output_type": "display_data"
    },
    {
     "data": {
      "text/plain": [
       "-3.2734363081478683"
      ]
     },
     "metadata": {},
     "output_type": "display_data"
    },
    {
     "data": {
      "text/plain": [
       "-3.1422120650301046"
      ]
     },
     "metadata": {},
     "output_type": "display_data"
    },
    {
     "data": {
      "text/plain": [
       "-11.881028147624225"
      ]
     },
     "metadata": {},
     "output_type": "display_data"
    },
    {
     "data": {
      "text/plain": [
       "-1.6823761297294464"
      ]
     },
     "metadata": {},
     "output_type": "display_data"
    },
    {
     "data": {
      "text/plain": [
       "-1.090071049080894"
      ]
     },
     "metadata": {},
     "output_type": "display_data"
    },
    {
     "data": {
      "text/plain": [
       "-1.9386285080273744"
      ]
     },
     "metadata": {},
     "output_type": "display_data"
    },
    {
     "data": {
      "text/plain": [
       "-1.2807684429827972"
      ]
     },
     "metadata": {},
     "output_type": "display_data"
    },
    {
     "data": {
      "text/plain": [
       "-1.9500996648089064"
      ]
     },
     "metadata": {},
     "output_type": "display_data"
    },
    {
     "data": {
      "text/plain": [
       "-1.4944320243890221"
      ]
     },
     "metadata": {},
     "output_type": "display_data"
    },
    {
     "data": {
      "text/plain": [
       "-1.4553930848150074"
      ]
     },
     "metadata": {},
     "output_type": "display_data"
    },
    {
     "data": {
      "text/plain": [
       "-1.112339627273883"
      ]
     },
     "metadata": {},
     "output_type": "display_data"
    },
    {
     "data": {
      "text/plain": [
       "-12.94411653013822"
      ]
     },
     "metadata": {},
     "output_type": "display_data"
    },
    {
     "data": {
      "text/plain": [
       "-1.2729755388941832"
      ]
     },
     "metadata": {},
     "output_type": "display_data"
    },
    {
     "data": {
      "text/plain": [
       "-0.9484424154339983"
      ]
     },
     "metadata": {},
     "output_type": "display_data"
    },
    {
     "data": {
      "text/plain": [
       "-1.336789134840398"
      ]
     },
     "metadata": {},
     "output_type": "display_data"
    },
    {
     "data": {
      "text/plain": [
       "-0.9395977072271897"
      ]
     },
     "metadata": {},
     "output_type": "display_data"
    },
    {
     "data": {
      "text/plain": [
       "-12.025683527583105"
      ]
     },
     "metadata": {},
     "output_type": "display_data"
    },
    {
     "data": {
      "text/plain": [
       "-6.439518381303181"
      ]
     },
     "metadata": {},
     "output_type": "display_data"
    },
    {
     "data": {
      "text/plain": [
       "-17.86187286693272"
      ]
     },
     "metadata": {},
     "output_type": "display_data"
    },
    {
     "data": {
      "text/plain": [
       "-0.10218657224889527"
      ]
     },
     "metadata": {},
     "output_type": "display_data"
    },
    {
     "data": {
      "text/plain": [
       "-0.5208713920448389"
      ]
     },
     "metadata": {},
     "output_type": "display_data"
    },
    {
     "data": {
      "text/plain": [
       "-0.005390127086542407"
      ]
     },
     "metadata": {},
     "output_type": "display_data"
    },
    {
     "data": {
      "text/plain": [
       "-0.003239218838541387"
      ]
     },
     "metadata": {},
     "output_type": "display_data"
    },
    {
     "data": {
      "text/plain": [
       "-0.10032423665729007"
      ]
     },
     "metadata": {},
     "output_type": "display_data"
    },
    {
     "data": {
      "text/plain": [
       "-0.0056010260092850895"
      ]
     },
     "metadata": {},
     "output_type": "display_data"
    },
    {
     "data": {
      "text/plain": [
       "-0.005648649425307517"
      ]
     },
     "metadata": {},
     "output_type": "display_data"
    },
    {
     "data": {
      "text/plain": [
       "13.431583128826446"
      ]
     },
     "metadata": {},
     "output_type": "display_data"
    },
    {
     "data": {
      "text/plain": [
       "-0.005286948979511992"
      ]
     },
     "metadata": {},
     "output_type": "display_data"
    },
    {
     "data": {
      "text/plain": [
       "-0.03296646693265204"
      ]
     },
     "metadata": {},
     "output_type": "display_data"
    },
    {
     "data": {
      "text/plain": [
       "11.4717553437584"
      ]
     },
     "metadata": {},
     "output_type": "display_data"
    },
    {
     "data": {
      "text/plain": [
       "10.009739276477735"
      ]
     },
     "metadata": {},
     "output_type": "display_data"
    },
    {
     "data": {
      "text/plain": [
       "-0.008985142662384149"
      ]
     },
     "metadata": {},
     "output_type": "display_data"
    },
    {
     "data": {
      "text/plain": [
       "8.232085678288419"
      ]
     },
     "metadata": {},
     "output_type": "display_data"
    },
    {
     "data": {
      "text/plain": [
       "-0.009434830595929533"
      ]
     },
     "metadata": {},
     "output_type": "display_data"
    },
    {
     "data": {
      "text/plain": [
       "-2.7403989682864562"
      ]
     },
     "metadata": {},
     "output_type": "display_data"
    },
    {
     "data": {
      "text/plain": [
       "-0.008964496523690357"
      ]
     },
     "metadata": {},
     "output_type": "display_data"
    },
    {
     "data": {
      "text/plain": [
       "16.728934696088622"
      ]
     },
     "metadata": {},
     "output_type": "display_data"
    },
    {
     "data": {
      "text/plain": [
       "-0.008842852487441988"
      ]
     },
     "metadata": {},
     "output_type": "display_data"
    },
    {
     "data": {
      "text/plain": [
       "14.116550760153626"
      ]
     },
     "metadata": {},
     "output_type": "display_data"
    },
    {
     "data": {
      "text/plain": [
       "-0.005843483293306223"
      ]
     },
     "metadata": {},
     "output_type": "display_data"
    },
    {
     "data": {
      "text/plain": [
       "-0.006757943839686337"
      ]
     },
     "metadata": {},
     "output_type": "display_data"
    },
    {
     "data": {
      "text/plain": [
       "-0.007131379529803916"
      ]
     },
     "metadata": {},
     "output_type": "display_data"
    },
    {
     "data": {
      "text/plain": [
       "-0.006430430598660775"
      ]
     },
     "metadata": {},
     "output_type": "display_data"
    },
    {
     "data": {
      "text/plain": [
       "-0.014705639164226625"
      ]
     },
     "metadata": {},
     "output_type": "display_data"
    },
    {
     "data": {
      "text/plain": [
       "-0.015331220905685294"
      ]
     },
     "metadata": {},
     "output_type": "display_data"
    },
    {
     "data": {
      "text/plain": [
       "-0.014171623583820292"
      ]
     },
     "metadata": {},
     "output_type": "display_data"
    },
    {
     "data": {
      "text/plain": [
       "-0.009318772095395556"
      ]
     },
     "metadata": {},
     "output_type": "display_data"
    },
    {
     "data": {
      "text/plain": [
       "-0.008077014307417363"
      ]
     },
     "metadata": {},
     "output_type": "display_data"
    },
    {
     "data": {
      "text/plain": [
       "75.33385400453818"
      ]
     },
     "metadata": {},
     "output_type": "display_data"
    },
    {
     "data": {
      "text/plain": [
       "-0.008477784468068128"
      ]
     },
     "metadata": {},
     "output_type": "display_data"
    },
    {
     "data": {
      "text/plain": [
       "-0.0067697528040178145"
      ]
     },
     "metadata": {},
     "output_type": "display_data"
    },
    {
     "data": {
      "text/plain": [
       "67.11841258232988"
      ]
     },
     "metadata": {},
     "output_type": "display_data"
    },
    {
     "data": {
      "text/plain": [
       "-0.00842344355780128"
      ]
     },
     "metadata": {},
     "output_type": "display_data"
    },
    {
     "data": {
      "text/plain": [
       "-0.004981513188391153"
      ]
     },
     "metadata": {},
     "output_type": "display_data"
    },
    {
     "data": {
      "text/plain": [
       "-0.006701680597498403"
      ]
     },
     "metadata": {},
     "output_type": "display_data"
    },
    {
     "data": {
      "text/plain": [
       "62.61175316180871"
      ]
     },
     "metadata": {},
     "output_type": "display_data"
    },
    {
     "data": {
      "text/plain": [
       "-0.013143287008482218"
      ]
     },
     "metadata": {},
     "output_type": "display_data"
    },
    {
     "data": {
      "text/plain": [
       "-0.01745456277505042"
      ]
     },
     "metadata": {},
     "output_type": "display_data"
    },
    {
     "data": {
      "text/plain": [
       "-0.009143333957941414"
      ]
     },
     "metadata": {},
     "output_type": "display_data"
    },
    {
     "data": {
      "text/plain": [
       "-0.011144203581030965"
      ]
     },
     "metadata": {},
     "output_type": "display_data"
    },
    {
     "data": {
      "text/plain": [
       "-0.011245704448434538"
      ]
     },
     "metadata": {},
     "output_type": "display_data"
    },
    {
     "data": {
      "text/plain": [
       "-0.015405209082246074"
      ]
     },
     "metadata": {},
     "output_type": "display_data"
    },
    {
     "data": {
      "text/plain": [
       "-0.012561760696034596"
      ]
     },
     "metadata": {},
     "output_type": "display_data"
    },
    {
     "data": {
      "text/plain": [
       "-0.011718469124198827"
      ]
     },
     "metadata": {},
     "output_type": "display_data"
    },
    {
     "data": {
      "text/plain": [
       "-0.015156671103072838"
      ]
     },
     "metadata": {},
     "output_type": "display_data"
    },
    {
     "data": {
      "text/plain": [
       "127.16738852535981"
      ]
     },
     "metadata": {},
     "output_type": "display_data"
    },
    {
     "data": {
      "text/plain": [
       "-0.011861170307088331"
      ]
     },
     "metadata": {},
     "output_type": "display_data"
    },
    {
     "data": {
      "text/plain": [
       "-0.009816975013567736"
      ]
     },
     "metadata": {},
     "output_type": "display_data"
    },
    {
     "data": {
      "text/plain": [
       "-0.008224933869163453"
      ]
     },
     "metadata": {},
     "output_type": "display_data"
    },
    {
     "data": {
      "text/plain": [
       "-0.008543208098368813"
      ]
     },
     "metadata": {},
     "output_type": "display_data"
    },
    {
     "data": {
      "text/plain": [
       "-0.006120725496378349"
      ]
     },
     "metadata": {},
     "output_type": "display_data"
    },
    {
     "data": {
      "text/plain": [
       "-0.018346639065029535"
      ]
     },
     "metadata": {},
     "output_type": "display_data"
    },
    {
     "data": {
      "text/plain": [
       "-0.013967212824283592"
      ]
     },
     "metadata": {},
     "output_type": "display_data"
    },
    {
     "data": {
      "text/plain": [
       "-0.01398387635100562"
      ]
     },
     "metadata": {},
     "output_type": "display_data"
    },
    {
     "data": {
      "text/plain": [
       "-0.023088942283564506"
      ]
     },
     "metadata": {},
     "output_type": "display_data"
    },
    {
     "data": {
      "text/plain": [
       "-0.019506684957096176"
      ]
     },
     "metadata": {},
     "output_type": "display_data"
    },
    {
     "data": {
      "text/plain": [
       "-0.016650724835370667"
      ]
     },
     "metadata": {},
     "output_type": "display_data"
    },
    {
     "data": {
      "text/plain": [
       "-0.011322347634190932"
      ]
     },
     "metadata": {},
     "output_type": "display_data"
    },
    {
     "data": {
      "text/plain": [
       "-0.022367153429854625"
      ]
     },
     "metadata": {},
     "output_type": "display_data"
    },
    {
     "data": {
      "text/plain": [
       "-0.010153785339848485"
      ]
     },
     "metadata": {},
     "output_type": "display_data"
    },
    {
     "data": {
      "text/plain": [
       "220.6084749045641"
      ]
     },
     "metadata": {},
     "output_type": "display_data"
    },
    {
     "data": {
      "text/plain": [
       "-0.021664476556210843"
      ]
     },
     "metadata": {},
     "output_type": "display_data"
    },
    {
     "data": {
      "text/plain": [
       "-0.01472218875511866"
      ]
     },
     "metadata": {},
     "output_type": "display_data"
    },
    {
     "data": {
      "text/plain": [
       "-17.29767680750042"
      ]
     },
     "metadata": {},
     "output_type": "display_data"
    },
    {
     "data": {
      "text/plain": [
       "-17.29767680750042"
      ]
     },
     "metadata": {},
     "output_type": "display_data"
    },
    {
     "data": {
      "text/plain": [
       "-17.29767680750042"
      ]
     },
     "metadata": {},
     "output_type": "display_data"
    },
    {
     "data": {
      "text/plain": [
       "-17.29767680750042"
      ]
     },
     "metadata": {},
     "output_type": "display_data"
    },
    {
     "data": {
      "text/plain": [
       "-17.29767680750042"
      ]
     },
     "metadata": {},
     "output_type": "display_data"
    },
    {
     "data": {
      "text/plain": [
       "-17.29767680750042"
      ]
     },
     "metadata": {},
     "output_type": "display_data"
    },
    {
     "data": {
      "text/plain": [
       "-17.29767680750042"
      ]
     },
     "metadata": {},
     "output_type": "display_data"
    },
    {
     "data": {
      "text/plain": [
       "-17.29767680750042"
      ]
     },
     "metadata": {},
     "output_type": "display_data"
    },
    {
     "data": {
      "text/plain": [
       "-17.29767680750042"
      ]
     },
     "metadata": {},
     "output_type": "display_data"
    },
    {
     "data": {
      "text/plain": [
       "-17.29767680750042"
      ]
     },
     "metadata": {},
     "output_type": "display_data"
    },
    {
     "data": {
      "text/plain": [
       "-17.29767680750042"
      ]
     },
     "metadata": {},
     "output_type": "display_data"
    },
    {
     "data": {
      "text/plain": [
       "-17.29767680750042"
      ]
     },
     "metadata": {},
     "output_type": "display_data"
    },
    {
     "data": {
      "text/plain": [
       "-17.29767680750042"
      ]
     },
     "metadata": {},
     "output_type": "display_data"
    },
    {
     "data": {
      "text/plain": [
       "-17.29767680750042"
      ]
     },
     "metadata": {},
     "output_type": "display_data"
    },
    {
     "data": {
      "text/plain": [
       "-17.29767680750042"
      ]
     },
     "metadata": {},
     "output_type": "display_data"
    },
    {
     "data": {
      "text/plain": [
       "-17.29767680750042"
      ]
     },
     "metadata": {},
     "output_type": "display_data"
    },
    {
     "data": {
      "text/plain": [
       "-17.29767680750042"
      ]
     },
     "metadata": {},
     "output_type": "display_data"
    },
    {
     "data": {
      "text/plain": [
       "-17.29767680750042"
      ]
     },
     "metadata": {},
     "output_type": "display_data"
    },
    {
     "data": {
      "text/plain": [
       "-17.29767680750042"
      ]
     },
     "metadata": {},
     "output_type": "display_data"
    },
    {
     "data": {
      "text/plain": [
       "-17.29767680750042"
      ]
     },
     "metadata": {},
     "output_type": "display_data"
    },
    {
     "data": {
      "text/plain": [
       "-17.29767680750042"
      ]
     },
     "metadata": {},
     "output_type": "display_data"
    },
    {
     "data": {
      "text/plain": [
       "-17.29767680750042"
      ]
     },
     "metadata": {},
     "output_type": "display_data"
    },
    {
     "data": {
      "text/plain": [
       "-17.29767680750042"
      ]
     },
     "metadata": {},
     "output_type": "display_data"
    },
    {
     "data": {
      "text/plain": [
       "-17.29767680750042"
      ]
     },
     "metadata": {},
     "output_type": "display_data"
    },
    {
     "data": {
      "text/plain": [
       "-17.29767680750042"
      ]
     },
     "metadata": {},
     "output_type": "display_data"
    },
    {
     "data": {
      "text/plain": [
       "-17.29767680750042"
      ]
     },
     "metadata": {},
     "output_type": "display_data"
    },
    {
     "data": {
      "text/plain": [
       "-17.29767680750042"
      ]
     },
     "metadata": {},
     "output_type": "display_data"
    },
    {
     "data": {
      "text/plain": [
       "-17.29767680750042"
      ]
     },
     "metadata": {},
     "output_type": "display_data"
    },
    {
     "data": {
      "text/plain": [
       "-17.29767680750042"
      ]
     },
     "metadata": {},
     "output_type": "display_data"
    },
    {
     "data": {
      "text/plain": [
       "-17.29767680750042"
      ]
     },
     "metadata": {},
     "output_type": "display_data"
    }
   ],
   "source": [
    "# Check conic violation\n",
    "convio = 0.0\n",
    "for k = 1:Nsim-1\n",
    "    Uc = cone_u(params, Uhist[k])\n",
    "    huc = norm(Uc[1:2]) - Uc[3]\n",
    "    convio = norm(huc + abs.(huc),Inf)\n",
    "    display(huc) # should <= 0\n",
    "end"
   ]
  },
  {
   "cell_type": "code",
   "execution_count": 531,
   "id": "ffaab90d-dddc-4512-8c8b-4561cd053fdf",
   "metadata": {},
   "outputs": [
    {
     "data": {
      "image/svg+xml": [
       "<?xml version=\"1.0\" encoding=\"utf-8\"?>\n",
       "<svg xmlns=\"http://www.w3.org/2000/svg\" xmlns:xlink=\"http://www.w3.org/1999/xlink\" width=\"600\" height=\"400\" viewBox=\"0 0 2400 1600\">\n",
       "<defs>\n",
       "  <clipPath id=\"clip880\">\n",
       "    <rect x=\"0\" y=\"0\" width=\"2400\" height=\"1600\"/>\n",
       "  </clipPath>\n",
       "</defs>\n",
       "<path clip-path=\"url(#clip880)\" d=\"M0 1600 L2400 1600 L2400 0 L0 0  Z\" fill=\"#ffffff\" fill-rule=\"evenodd\" fill-opacity=\"1\"/>\n",
       "<defs>\n",
       "  <clipPath id=\"clip881\">\n",
       "    <rect x=\"480\" y=\"0\" width=\"1681\" height=\"1600\"/>\n",
       "  </clipPath>\n",
       "</defs>\n",
       "<path clip-path=\"url(#clip880)\" d=\"M242.135 1423.18 L2352.76 1423.18 L2352.76 123.472 L242.135 123.472  Z\" fill=\"#ffffff\" fill-rule=\"evenodd\" fill-opacity=\"1\"/>\n",
       "<defs>\n",
       "  <clipPath id=\"clip882\">\n",
       "    <rect x=\"242\" y=\"123\" width=\"2112\" height=\"1301\"/>\n",
       "  </clipPath>\n",
       "</defs>\n",
       "<polyline clip-path=\"url(#clip882)\" style=\"stroke:#000000; stroke-linecap:round; stroke-linejoin:round; stroke-width:2; stroke-opacity:0.1; fill:none\" points=\"301.869,1423.18 301.869,123.472 \"/>\n",
       "<polyline clip-path=\"url(#clip882)\" style=\"stroke:#000000; stroke-linecap:round; stroke-linejoin:round; stroke-width:2; stroke-opacity:0.1; fill:none\" points=\"744.347,1423.18 744.347,123.472 \"/>\n",
       "<polyline clip-path=\"url(#clip882)\" style=\"stroke:#000000; stroke-linecap:round; stroke-linejoin:round; stroke-width:2; stroke-opacity:0.1; fill:none\" points=\"1186.83,1423.18 1186.83,123.472 \"/>\n",
       "<polyline clip-path=\"url(#clip882)\" style=\"stroke:#000000; stroke-linecap:round; stroke-linejoin:round; stroke-width:2; stroke-opacity:0.1; fill:none\" points=\"1629.3,1423.18 1629.3,123.472 \"/>\n",
       "<polyline clip-path=\"url(#clip882)\" style=\"stroke:#000000; stroke-linecap:round; stroke-linejoin:round; stroke-width:2; stroke-opacity:0.1; fill:none\" points=\"2071.78,1423.18 2071.78,123.472 \"/>\n",
       "<polyline clip-path=\"url(#clip880)\" style=\"stroke:#000000; stroke-linecap:round; stroke-linejoin:round; stroke-width:4; stroke-opacity:1; fill:none\" points=\"242.135,1423.18 2352.76,1423.18 \"/>\n",
       "<polyline clip-path=\"url(#clip880)\" style=\"stroke:#000000; stroke-linecap:round; stroke-linejoin:round; stroke-width:4; stroke-opacity:1; fill:none\" points=\"301.869,1423.18 301.869,1404.28 \"/>\n",
       "<polyline clip-path=\"url(#clip880)\" style=\"stroke:#000000; stroke-linecap:round; stroke-linejoin:round; stroke-width:4; stroke-opacity:1; fill:none\" points=\"744.347,1423.18 744.347,1404.28 \"/>\n",
       "<polyline clip-path=\"url(#clip880)\" style=\"stroke:#000000; stroke-linecap:round; stroke-linejoin:round; stroke-width:4; stroke-opacity:1; fill:none\" points=\"1186.83,1423.18 1186.83,1404.28 \"/>\n",
       "<polyline clip-path=\"url(#clip880)\" style=\"stroke:#000000; stroke-linecap:round; stroke-linejoin:round; stroke-width:4; stroke-opacity:1; fill:none\" points=\"1629.3,1423.18 1629.3,1404.28 \"/>\n",
       "<polyline clip-path=\"url(#clip880)\" style=\"stroke:#000000; stroke-linecap:round; stroke-linejoin:round; stroke-width:4; stroke-opacity:1; fill:none\" points=\"2071.78,1423.18 2071.78,1404.28 \"/>\n",
       "<path clip-path=\"url(#clip880)\" d=\"M301.869 1454.1 Q298.258 1454.1 296.429 1457.66 Q294.624 1461.2 294.624 1468.33 Q294.624 1475.44 296.429 1479.01 Q298.258 1482.55 301.869 1482.55 Q305.503 1482.55 307.309 1479.01 Q309.138 1475.44 309.138 1468.33 Q309.138 1461.2 307.309 1457.66 Q305.503 1454.1 301.869 1454.1 M301.869 1450.39 Q307.679 1450.39 310.735 1455 Q313.814 1459.58 313.814 1468.33 Q313.814 1477.06 310.735 1481.67 Q307.679 1486.25 301.869 1486.25 Q296.059 1486.25 292.98 1481.67 Q289.925 1477.06 289.925 1468.33 Q289.925 1459.58 292.98 1455 Q296.059 1450.39 301.869 1450.39 Z\" fill=\"#000000\" fill-rule=\"evenodd\" fill-opacity=\"1\" /><path clip-path=\"url(#clip880)\" d=\"M739 1481.64 L755.32 1481.64 L755.32 1485.58 L733.375 1485.58 L733.375 1481.64 Q736.037 1478.89 740.621 1474.26 Q745.227 1469.61 746.408 1468.27 Q748.653 1465.74 749.533 1464.01 Q750.435 1462.25 750.435 1460.56 Q750.435 1457.8 748.491 1456.07 Q746.57 1454.33 743.468 1454.33 Q741.269 1454.33 738.815 1455.09 Q736.385 1455.86 733.607 1457.41 L733.607 1452.69 Q736.431 1451.55 738.885 1450.97 Q741.338 1450.39 743.375 1450.39 Q748.746 1450.39 751.94 1453.08 Q755.134 1455.77 755.134 1460.26 Q755.134 1462.39 754.324 1464.31 Q753.537 1466.2 751.431 1468.8 Q750.852 1469.47 747.75 1472.69 Q744.648 1475.88 739 1481.64 Z\" fill=\"#000000\" fill-rule=\"evenodd\" fill-opacity=\"1\" /><path clip-path=\"url(#clip880)\" d=\"M1189.83 1455.09 L1178.03 1473.54 L1189.83 1473.54 L1189.83 1455.09 M1188.61 1451.02 L1194.49 1451.02 L1194.49 1473.54 L1199.42 1473.54 L1199.42 1477.43 L1194.49 1477.43 L1194.49 1485.58 L1189.83 1485.58 L1189.83 1477.43 L1174.23 1477.43 L1174.23 1472.92 L1188.61 1451.02 Z\" fill=\"#000000\" fill-rule=\"evenodd\" fill-opacity=\"1\" /><path clip-path=\"url(#clip880)\" d=\"M1629.71 1466.44 Q1626.56 1466.44 1624.71 1468.59 Q1622.88 1470.74 1622.88 1474.49 Q1622.88 1478.22 1624.71 1480.39 Q1626.56 1482.55 1629.71 1482.55 Q1632.86 1482.55 1634.69 1480.39 Q1636.54 1478.22 1636.54 1474.49 Q1636.54 1470.74 1634.69 1468.59 Q1632.86 1466.44 1629.71 1466.44 M1638.99 1451.78 L1638.99 1456.04 Q1637.23 1455.21 1635.43 1454.77 Q1633.64 1454.33 1631.88 1454.33 Q1627.26 1454.33 1624.8 1457.45 Q1622.37 1460.58 1622.02 1466.9 Q1623.39 1464.89 1625.45 1463.82 Q1627.51 1462.73 1629.99 1462.73 Q1635.2 1462.73 1638.2 1465.9 Q1641.24 1469.05 1641.24 1474.49 Q1641.24 1479.82 1638.09 1483.03 Q1634.94 1486.25 1629.71 1486.25 Q1623.71 1486.25 1620.54 1481.67 Q1617.37 1477.06 1617.37 1468.33 Q1617.37 1460.14 1621.26 1455.28 Q1625.15 1450.39 1631.7 1450.39 Q1633.46 1450.39 1635.24 1450.74 Q1637.05 1451.09 1638.99 1451.78 Z\" fill=\"#000000\" fill-rule=\"evenodd\" fill-opacity=\"1\" /><path clip-path=\"url(#clip880)\" d=\"M2071.78 1469.17 Q2068.45 1469.17 2066.53 1470.95 Q2064.63 1472.73 2064.63 1475.86 Q2064.63 1478.98 2066.53 1480.77 Q2068.45 1482.55 2071.78 1482.55 Q2075.12 1482.55 2077.04 1480.77 Q2078.96 1478.96 2078.96 1475.86 Q2078.96 1472.73 2077.04 1470.95 Q2075.14 1469.17 2071.78 1469.17 M2067.11 1467.18 Q2064.1 1466.44 2062.41 1464.38 Q2060.74 1462.32 2060.74 1459.35 Q2060.74 1455.21 2063.68 1452.8 Q2066.64 1450.39 2071.78 1450.39 Q2076.94 1450.39 2079.88 1452.8 Q2082.82 1455.21 2082.82 1459.35 Q2082.82 1462.32 2081.13 1464.38 Q2079.47 1466.44 2076.48 1467.18 Q2079.86 1467.96 2081.74 1470.26 Q2083.63 1472.55 2083.63 1475.86 Q2083.63 1480.88 2080.56 1483.57 Q2077.5 1486.25 2071.78 1486.25 Q2066.06 1486.25 2062.99 1483.57 Q2059.93 1480.88 2059.93 1475.86 Q2059.93 1472.55 2061.83 1470.26 Q2063.73 1467.96 2067.11 1467.18 M2065.39 1459.79 Q2065.39 1462.48 2067.06 1463.98 Q2068.75 1465.49 2071.78 1465.49 Q2074.79 1465.49 2076.48 1463.98 Q2078.19 1462.48 2078.19 1459.79 Q2078.19 1457.11 2076.48 1455.6 Q2074.79 1454.1 2071.78 1454.1 Q2068.75 1454.1 2067.06 1455.6 Q2065.39 1457.11 2065.39 1459.79 Z\" fill=\"#000000\" fill-rule=\"evenodd\" fill-opacity=\"1\" /><path clip-path=\"url(#clip880)\" d=\"M1184.9 1522.27 L1184.9 1532.4 L1196.96 1532.4 L1196.96 1536.95 L1184.9 1536.95 L1184.9 1556.3 Q1184.9 1560.66 1186.08 1561.9 Q1187.29 1563.14 1190.95 1563.14 L1196.96 1563.14 L1196.96 1568.04 L1190.95 1568.04 Q1184.17 1568.04 1181.59 1565.53 Q1179.01 1562.98 1179.01 1556.3 L1179.01 1536.95 L1174.71 1536.95 L1174.71 1532.4 L1179.01 1532.4 L1179.01 1522.27 L1184.9 1522.27 Z\" fill=\"#000000\" fill-rule=\"evenodd\" fill-opacity=\"1\" /><path clip-path=\"url(#clip880)\" d=\"M1204.67 1532.4 L1210.52 1532.4 L1210.52 1568.04 L1204.67 1568.04 L1204.67 1532.4 M1204.67 1518.52 L1210.52 1518.52 L1210.52 1525.93 L1204.67 1525.93 L1204.67 1518.52 Z\" fill=\"#000000\" fill-rule=\"evenodd\" fill-opacity=\"1\" /><path clip-path=\"url(#clip880)\" d=\"M1250.53 1539.24 Q1252.73 1535.29 1255.78 1533.41 Q1258.84 1531.54 1262.97 1531.54 Q1268.54 1531.54 1271.57 1535.45 Q1274.59 1539.33 1274.59 1546.53 L1274.59 1568.04 L1268.7 1568.04 L1268.7 1546.72 Q1268.7 1541.59 1266.89 1539.11 Q1265.08 1536.63 1261.35 1536.63 Q1256.8 1536.63 1254.16 1539.65 Q1251.52 1542.68 1251.52 1547.9 L1251.52 1568.04 L1245.63 1568.04 L1245.63 1546.72 Q1245.63 1541.56 1243.81 1539.11 Q1242 1536.63 1238.21 1536.63 Q1233.72 1536.63 1231.08 1539.68 Q1228.44 1542.71 1228.44 1547.9 L1228.44 1568.04 L1222.55 1568.04 L1222.55 1532.4 L1228.44 1532.4 L1228.44 1537.93 Q1230.45 1534.66 1233.25 1533.1 Q1236.05 1531.54 1239.9 1531.54 Q1243.78 1531.54 1246.49 1533.51 Q1249.23 1535.48 1250.53 1539.24 Z\" fill=\"#000000\" fill-rule=\"evenodd\" fill-opacity=\"1\" /><path clip-path=\"url(#clip880)\" d=\"M1316.77 1548.76 L1316.77 1551.62 L1289.84 1551.62 Q1290.22 1557.67 1293.47 1560.85 Q1296.75 1564 1302.57 1564 Q1305.94 1564 1309.09 1563.17 Q1312.28 1562.35 1315.4 1560.69 L1315.4 1566.23 Q1312.25 1567.57 1308.94 1568.27 Q1305.63 1568.97 1302.22 1568.97 Q1293.69 1568.97 1288.69 1564 Q1283.73 1559.04 1283.73 1550.57 Q1283.73 1541.82 1288.44 1536.69 Q1293.18 1531.54 1301.2 1531.54 Q1308.39 1531.54 1312.56 1536.18 Q1316.77 1540.8 1316.77 1548.76 M1310.91 1547.04 Q1310.85 1542.23 1308.2 1539.37 Q1305.59 1536.5 1301.26 1536.5 Q1296.36 1536.5 1293.4 1539.27 Q1290.47 1542.04 1290.03 1547.07 L1310.91 1547.04 Z\" fill=\"#000000\" fill-rule=\"evenodd\" fill-opacity=\"1\" /><path clip-path=\"url(#clip880)\" d=\"M1361.17 1518.58 Q1356.9 1525.9 1354.83 1533.06 Q1352.76 1540.23 1352.76 1547.58 Q1352.76 1554.93 1354.83 1562.16 Q1356.93 1569.35 1361.17 1576.64 L1356.07 1576.64 Q1351.3 1569.16 1348.91 1561.93 Q1346.56 1554.71 1346.56 1547.58 Q1346.56 1540.48 1348.91 1533.29 Q1351.27 1526.09 1356.07 1518.58 L1361.17 1518.58 Z\" fill=\"#000000\" fill-rule=\"evenodd\" fill-opacity=\"1\" /><path clip-path=\"url(#clip880)\" d=\"M1395.25 1533.45 L1395.25 1538.98 Q1392.77 1537.71 1390.1 1537.07 Q1387.42 1536.44 1384.56 1536.44 Q1380.2 1536.44 1378 1537.77 Q1375.84 1539.11 1375.84 1541.79 Q1375.84 1543.82 1377.4 1545 Q1378.96 1546.15 1383.67 1547.2 L1385.67 1547.64 Q1391.91 1548.98 1394.52 1551.43 Q1397.16 1553.85 1397.16 1558.21 Q1397.16 1563.17 1393.22 1566.07 Q1389.3 1568.97 1382.43 1568.97 Q1379.56 1568.97 1376.44 1568.39 Q1373.36 1567.85 1369.92 1566.74 L1369.92 1560.69 Q1373.17 1562.38 1376.32 1563.24 Q1379.47 1564.07 1382.55 1564.07 Q1386.69 1564.07 1388.92 1562.66 Q1391.15 1561.23 1391.15 1558.65 Q1391.15 1556.27 1389.53 1554.99 Q1387.93 1553.72 1382.49 1552.54 L1380.45 1552.07 Q1375.01 1550.92 1372.59 1548.56 Q1370.17 1546.18 1370.17 1542.04 Q1370.17 1537.01 1373.74 1534.27 Q1377.3 1531.54 1383.86 1531.54 Q1387.11 1531.54 1389.97 1532.01 Q1392.84 1532.49 1395.25 1533.45 Z\" fill=\"#000000\" fill-rule=\"evenodd\" fill-opacity=\"1\" /><path clip-path=\"url(#clip880)\" d=\"M1405.57 1518.58 L1410.66 1518.58 Q1415.43 1526.09 1417.79 1533.29 Q1420.18 1540.48 1420.18 1547.58 Q1420.18 1554.71 1417.79 1561.93 Q1415.43 1569.16 1410.66 1576.64 L1405.57 1576.64 Q1409.8 1569.35 1411.87 1562.16 Q1413.97 1554.93 1413.97 1547.58 Q1413.97 1540.23 1411.87 1533.06 Q1409.8 1525.9 1405.57 1518.58 Z\" fill=\"#000000\" fill-rule=\"evenodd\" fill-opacity=\"1\" /><polyline clip-path=\"url(#clip882)\" style=\"stroke:#000000; stroke-linecap:round; stroke-linejoin:round; stroke-width:2; stroke-opacity:0.1; fill:none\" points=\"242.135,1406.82 2352.76,1406.82 \"/>\n",
       "<polyline clip-path=\"url(#clip882)\" style=\"stroke:#000000; stroke-linecap:round; stroke-linejoin:round; stroke-width:2; stroke-opacity:0.1; fill:none\" points=\"242.135,1124.35 2352.76,1124.35 \"/>\n",
       "<polyline clip-path=\"url(#clip882)\" style=\"stroke:#000000; stroke-linecap:round; stroke-linejoin:round; stroke-width:2; stroke-opacity:0.1; fill:none\" points=\"242.135,841.886 2352.76,841.886 \"/>\n",
       "<polyline clip-path=\"url(#clip882)\" style=\"stroke:#000000; stroke-linecap:round; stroke-linejoin:round; stroke-width:2; stroke-opacity:0.1; fill:none\" points=\"242.135,559.42 2352.76,559.42 \"/>\n",
       "<polyline clip-path=\"url(#clip882)\" style=\"stroke:#000000; stroke-linecap:round; stroke-linejoin:round; stroke-width:2; stroke-opacity:0.1; fill:none\" points=\"242.135,276.954 2352.76,276.954 \"/>\n",
       "<polyline clip-path=\"url(#clip880)\" style=\"stroke:#000000; stroke-linecap:round; stroke-linejoin:round; stroke-width:4; stroke-opacity:1; fill:none\" points=\"242.135,1423.18 242.135,123.472 \"/>\n",
       "<polyline clip-path=\"url(#clip880)\" style=\"stroke:#000000; stroke-linecap:round; stroke-linejoin:round; stroke-width:4; stroke-opacity:1; fill:none\" points=\"242.135,1406.82 261.032,1406.82 \"/>\n",
       "<polyline clip-path=\"url(#clip880)\" style=\"stroke:#000000; stroke-linecap:round; stroke-linejoin:round; stroke-width:4; stroke-opacity:1; fill:none\" points=\"242.135,1124.35 261.032,1124.35 \"/>\n",
       "<polyline clip-path=\"url(#clip880)\" style=\"stroke:#000000; stroke-linecap:round; stroke-linejoin:round; stroke-width:4; stroke-opacity:1; fill:none\" points=\"242.135,841.886 261.032,841.886 \"/>\n",
       "<polyline clip-path=\"url(#clip880)\" style=\"stroke:#000000; stroke-linecap:round; stroke-linejoin:round; stroke-width:4; stroke-opacity:1; fill:none\" points=\"242.135,559.42 261.032,559.42 \"/>\n",
       "<polyline clip-path=\"url(#clip880)\" style=\"stroke:#000000; stroke-linecap:round; stroke-linejoin:round; stroke-width:4; stroke-opacity:1; fill:none\" points=\"242.135,276.954 261.032,276.954 \"/>\n",
       "<path clip-path=\"url(#clip880)\" d=\"M114.26 1407.27 L143.936 1407.27 L143.936 1411.2 L114.26 1411.2 L114.26 1407.27 Z\" fill=\"#000000\" fill-rule=\"evenodd\" fill-opacity=\"1\" /><path clip-path=\"url(#clip880)\" d=\"M154.839 1420.16 L162.477 1420.16 L162.477 1393.8 L154.167 1395.46 L154.167 1391.2 L162.431 1389.54 L167.107 1389.54 L167.107 1420.16 L174.746 1420.16 L174.746 1424.1 L154.839 1424.1 L154.839 1420.16 Z\" fill=\"#000000\" fill-rule=\"evenodd\" fill-opacity=\"1\" /><path clip-path=\"url(#clip880)\" d=\"M194.19 1392.62 Q190.579 1392.62 188.75 1396.18 Q186.945 1399.72 186.945 1406.85 Q186.945 1413.96 188.75 1417.52 Q190.579 1421.07 194.19 1421.07 Q197.825 1421.07 199.63 1417.52 Q201.459 1413.96 201.459 1406.85 Q201.459 1399.72 199.63 1396.18 Q197.825 1392.62 194.19 1392.62 M194.19 1388.91 Q200 1388.91 203.056 1393.52 Q206.135 1398.1 206.135 1406.85 Q206.135 1415.58 203.056 1420.19 Q200 1424.77 194.19 1424.77 Q188.38 1424.77 185.301 1420.19 Q182.246 1415.58 182.246 1406.85 Q182.246 1398.1 185.301 1393.52 Q188.38 1388.91 194.19 1388.91 Z\" fill=\"#000000\" fill-rule=\"evenodd\" fill-opacity=\"1\" /><path clip-path=\"url(#clip880)\" d=\"M145.417 1124.8 L175.093 1124.8 L175.093 1128.74 L145.417 1128.74 L145.417 1124.8 Z\" fill=\"#000000\" fill-rule=\"evenodd\" fill-opacity=\"1\" /><path clip-path=\"url(#clip880)\" d=\"M185.232 1107.07 L203.588 1107.07 L203.588 1111.01 L189.514 1111.01 L189.514 1119.48 Q190.533 1119.13 191.551 1118.97 Q192.57 1118.78 193.588 1118.78 Q199.375 1118.78 202.755 1121.96 Q206.135 1125.13 206.135 1130.54 Q206.135 1136.12 202.662 1139.22 Q199.19 1142.3 192.871 1142.3 Q190.695 1142.3 188.426 1141.93 Q186.181 1141.56 183.774 1140.82 L183.774 1136.12 Q185.857 1137.26 188.079 1137.81 Q190.301 1138.37 192.778 1138.37 Q196.783 1138.37 199.121 1136.26 Q201.459 1134.15 201.459 1130.54 Q201.459 1126.93 199.121 1124.83 Q196.783 1122.72 192.778 1122.72 Q190.903 1122.72 189.028 1123.14 Q187.176 1123.55 185.232 1124.43 L185.232 1107.07 Z\" fill=\"#000000\" fill-rule=\"evenodd\" fill-opacity=\"1\" /><path clip-path=\"url(#clip880)\" d=\"M194.19 827.685 Q190.579 827.685 188.75 831.249 Q186.945 834.791 186.945 841.921 Q186.945 849.027 188.75 852.592 Q190.579 856.133 194.19 856.133 Q197.825 856.133 199.63 852.592 Q201.459 849.027 201.459 841.921 Q201.459 834.791 199.63 831.249 Q197.825 827.685 194.19 827.685 M194.19 823.981 Q200 823.981 203.056 828.587 Q206.135 833.171 206.135 841.921 Q206.135 850.647 203.056 855.254 Q200 859.837 194.19 859.837 Q188.38 859.837 185.301 855.254 Q182.246 850.647 182.246 841.921 Q182.246 833.171 185.301 828.587 Q188.38 823.981 194.19 823.981 Z\" fill=\"#000000\" fill-rule=\"evenodd\" fill-opacity=\"1\" /><path clip-path=\"url(#clip880)\" d=\"M185.232 542.14 L203.588 542.14 L203.588 546.075 L189.514 546.075 L189.514 554.547 Q190.533 554.2 191.551 554.038 Q192.57 553.853 193.588 553.853 Q199.375 553.853 202.755 557.024 Q206.135 560.195 206.135 565.612 Q206.135 571.191 202.662 574.293 Q199.19 577.371 192.871 577.371 Q190.695 577.371 188.426 577.001 Q186.181 576.631 183.774 575.89 L183.774 571.191 Q185.857 572.325 188.079 572.881 Q190.301 573.436 192.778 573.436 Q196.783 573.436 199.121 571.33 Q201.459 569.223 201.459 565.612 Q201.459 562.001 199.121 559.895 Q196.783 557.788 192.778 557.788 Q190.903 557.788 189.028 558.205 Q187.176 558.621 185.232 559.501 L185.232 542.14 Z\" fill=\"#000000\" fill-rule=\"evenodd\" fill-opacity=\"1\" /><path clip-path=\"url(#clip880)\" d=\"M154.839 290.299 L162.477 290.299 L162.477 263.933 L154.167 265.6 L154.167 261.341 L162.431 259.674 L167.107 259.674 L167.107 290.299 L174.746 290.299 L174.746 294.234 L154.839 294.234 L154.839 290.299 Z\" fill=\"#000000\" fill-rule=\"evenodd\" fill-opacity=\"1\" /><path clip-path=\"url(#clip880)\" d=\"M194.19 262.753 Q190.579 262.753 188.75 266.318 Q186.945 269.859 186.945 276.989 Q186.945 284.095 188.75 287.66 Q190.579 291.202 194.19 291.202 Q197.825 291.202 199.63 287.66 Q201.459 284.095 201.459 276.989 Q201.459 269.859 199.63 266.318 Q197.825 262.753 194.19 262.753 M194.19 259.049 Q200 259.049 203.056 263.656 Q206.135 268.239 206.135 276.989 Q206.135 285.716 203.056 290.322 Q200 294.905 194.19 294.905 Q188.38 294.905 185.301 290.322 Q182.246 285.716 182.246 276.989 Q182.246 268.239 185.301 263.656 Q188.38 259.049 194.19 259.049 Z\" fill=\"#000000\" fill-rule=\"evenodd\" fill-opacity=\"1\" /><path clip-path=\"url(#clip880)\" d=\"M28.3562 756.711 L45.7028 769.602 L64.0042 756.043 L64.0042 762.95 L49.9996 773.326 L64.0042 783.702 L64.0042 790.609 L45.3526 776.763 L28.3562 789.431 L28.3562 782.524 L41.0558 773.071 L28.3562 763.618 L28.3562 756.711 Z\" fill=\"#000000\" fill-rule=\"evenodd\" fill-opacity=\"1\" /><path clip-path=\"url(#clip880)\" d=\"M955.488 14.0809 L955.488 22.0612 Q950.83 19.8332 946.698 18.7395 Q942.566 17.6457 938.717 17.6457 Q932.033 17.6457 928.388 20.2383 Q924.782 22.8309 924.782 27.611 Q924.782 31.6214 927.172 33.6873 Q929.603 35.7128 936.327 36.9686 L941.27 37.9813 Q950.425 39.7232 954.759 44.1387 Q959.134 48.5136 959.134 55.8863 Q959.134 64.6767 953.22 69.2137 Q947.346 73.7508 935.963 73.7508 Q931.669 73.7508 926.808 72.7785 Q921.987 71.8063 916.802 69.9024 L916.802 61.4765 Q921.785 64.2716 926.565 65.6895 Q931.345 67.1073 935.963 67.1073 Q942.971 67.1073 946.779 64.3527 Q950.587 61.598 950.587 56.4939 Q950.587 52.0379 947.832 49.5264 Q945.118 47.0148 938.879 45.759 L933.897 44.7868 Q924.742 42.9639 920.65 39.075 Q916.559 35.1862 916.559 28.2591 Q916.559 20.2383 922.19 15.6203 Q927.861 11.0023 937.786 11.0023 Q942.039 11.0023 946.455 11.7719 Q950.87 12.5416 955.488 14.0809 Z\" fill=\"#000000\" fill-rule=\"evenodd\" fill-opacity=\"1\" /><path clip-path=\"url(#clip880)\" d=\"M978.943 14.324 L978.943 27.2059 L994.296 27.2059 L994.296 32.9987 L978.943 32.9987 L978.943 57.6282 Q978.943 63.1779 980.442 64.7578 Q981.981 66.3376 986.64 66.3376 L994.296 66.3376 L994.296 72.576 L986.64 72.576 Q978.011 72.576 974.73 69.3758 Q971.449 66.1351 971.449 57.6282 L971.449 32.9987 L965.98 32.9987 L965.98 27.2059 L971.449 27.2059 L971.449 14.324 L978.943 14.324 Z\" fill=\"#000000\" fill-rule=\"evenodd\" fill-opacity=\"1\" /><path clip-path=\"url(#clip880)\" d=\"M1024.72 49.7694 Q1015.68 49.7694 1012.2 51.8354 Q1008.72 53.9013 1008.72 58.8839 Q1008.72 62.8538 1011.31 65.2034 Q1013.94 67.5124 1018.44 67.5124 Q1024.64 67.5124 1028.36 63.1374 Q1032.13 58.7219 1032.13 51.4303 L1032.13 49.7694 L1024.72 49.7694 M1039.58 46.6907 L1039.58 72.576 L1032.13 72.576 L1032.13 65.6895 Q1029.58 69.8214 1025.77 71.8063 Q1021.96 73.7508 1016.45 73.7508 Q1009.49 73.7508 1005.35 69.8619 Q1001.26 65.9325 1001.26 59.3701 Q1001.26 51.7138 1006.37 47.825 Q1011.51 43.9361 1021.68 43.9361 L1032.13 43.9361 L1032.13 43.2069 Q1032.13 38.0623 1028.73 35.2672 Q1025.37 32.4315 1019.25 32.4315 Q1015.36 32.4315 1011.67 33.3632 Q1007.99 34.295 1004.59 36.1584 L1004.59 29.2718 Q1008.68 27.692 1012.52 26.9223 Q1016.37 26.1121 1020.02 26.1121 Q1029.86 26.1121 1034.72 31.2163 Q1039.58 36.3204 1039.58 46.6907 Z\" fill=\"#000000\" fill-rule=\"evenodd\" fill-opacity=\"1\" /><path clip-path=\"url(#clip880)\" d=\"M1062.31 14.324 L1062.31 27.2059 L1077.66 27.2059 L1077.66 32.9987 L1062.31 32.9987 L1062.31 57.6282 Q1062.31 63.1779 1063.81 64.7578 Q1065.35 66.3376 1070.01 66.3376 L1077.66 66.3376 L1077.66 72.576 L1070.01 72.576 Q1061.38 72.576 1058.1 69.3758 Q1054.82 66.1351 1054.82 57.6282 L1054.82 32.9987 L1049.35 32.9987 L1049.35 27.2059 L1054.82 27.2059 L1054.82 14.324 L1062.31 14.324 Z\" fill=\"#000000\" fill-rule=\"evenodd\" fill-opacity=\"1\" /><path clip-path=\"url(#clip880)\" d=\"M1126.27 48.0275 L1126.27 51.6733 L1092 51.6733 Q1092.49 59.3701 1096.62 63.421 Q1100.79 67.4314 1108.21 67.4314 Q1112.5 67.4314 1116.51 66.3781 Q1120.56 65.3249 1124.53 63.2184 L1124.53 70.267 Q1120.52 71.9684 1116.31 72.8596 Q1112.1 73.7508 1107.76 73.7508 Q1096.91 73.7508 1090.55 67.4314 Q1084.23 61.1119 1084.23 50.3365 Q1084.23 39.1965 1090.22 32.6746 Q1096.26 26.1121 1106.47 26.1121 Q1115.62 26.1121 1120.93 32.0264 Q1126.27 37.9003 1126.27 48.0275 M1118.82 45.84 Q1118.74 39.7232 1115.38 36.0774 Q1112.06 32.4315 1106.55 32.4315 Q1100.31 32.4315 1096.54 35.9558 Q1092.81 39.4801 1092.25 45.8805 L1118.82 45.84 Z\" fill=\"#000000\" fill-rule=\"evenodd\" fill-opacity=\"1\" /><path clip-path=\"url(#clip880)\" d=\"M1165.2 12.096 L1203.44 12.096 L1203.44 18.9825 L1173.39 18.9825 L1173.39 36.8875 L1202.19 36.8875 L1202.19 43.7741 L1173.39 43.7741 L1173.39 65.6895 L1204.17 65.6895 L1204.17 72.576 L1165.2 72.576 L1165.2 12.096 Z\" fill=\"#000000\" fill-rule=\"evenodd\" fill-opacity=\"1\" /><path clip-path=\"url(#clip880)\" d=\"M1243.59 34.1734 Q1242.33 33.4443 1240.83 33.1202 Q1239.38 32.7556 1237.59 32.7556 Q1231.27 32.7556 1227.87 36.8875 Q1224.51 40.9789 1224.51 48.6757 L1224.51 72.576 L1217.01 72.576 L1217.01 27.2059 L1224.51 27.2059 L1224.51 34.2544 Q1226.86 30.1225 1230.63 28.1376 Q1234.39 26.1121 1239.78 26.1121 Q1240.55 26.1121 1241.48 26.2337 Q1242.41 26.3147 1243.55 26.5172 L1243.59 34.1734 Z\" fill=\"#000000\" fill-rule=\"evenodd\" fill-opacity=\"1\" /><path clip-path=\"url(#clip880)\" d=\"M1276.24 34.1734 Q1274.98 33.4443 1273.48 33.1202 Q1272.03 32.7556 1270.24 32.7556 Q1263.92 32.7556 1260.52 36.8875 Q1257.16 40.9789 1257.16 48.6757 L1257.16 72.576 L1249.66 72.576 L1249.66 27.2059 L1257.16 27.2059 L1257.16 34.2544 Q1259.51 30.1225 1263.28 28.1376 Q1267.04 26.1121 1272.43 26.1121 Q1273.2 26.1121 1274.13 26.2337 Q1275.06 26.3147 1276.2 26.5172 L1276.24 34.1734 Z\" fill=\"#000000\" fill-rule=\"evenodd\" fill-opacity=\"1\" /><path clip-path=\"url(#clip880)\" d=\"M1299.82 32.4315 Q1293.82 32.4315 1290.34 37.1306 Q1286.85 41.7891 1286.85 49.9314 Q1286.85 58.0738 1290.3 62.7728 Q1293.78 67.4314 1299.82 67.4314 Q1305.77 67.4314 1309.25 62.7323 Q1312.74 58.0333 1312.74 49.9314 Q1312.74 41.8701 1309.25 37.1711 Q1305.77 32.4315 1299.82 32.4315 M1299.82 26.1121 Q1309.54 26.1121 1315.09 32.4315 Q1320.64 38.7509 1320.64 49.9314 Q1320.64 61.0714 1315.09 67.4314 Q1309.54 73.7508 1299.82 73.7508 Q1290.05 73.7508 1284.5 67.4314 Q1278.99 61.0714 1278.99 49.9314 Q1278.99 38.7509 1284.5 32.4315 Q1290.05 26.1121 1299.82 26.1121 Z\" fill=\"#000000\" fill-rule=\"evenodd\" fill-opacity=\"1\" /><path clip-path=\"url(#clip880)\" d=\"M1359.28 34.1734 Q1358.03 33.4443 1356.53 33.1202 Q1355.07 32.7556 1353.29 32.7556 Q1346.97 32.7556 1343.56 36.8875 Q1340.2 40.9789 1340.2 48.6757 L1340.2 72.576 L1332.71 72.576 L1332.71 27.2059 L1340.2 27.2059 L1340.2 34.2544 Q1342.55 30.1225 1346.32 28.1376 Q1350.09 26.1121 1355.47 26.1121 Q1356.24 26.1121 1357.18 26.2337 Q1358.11 26.3147 1359.24 26.5172 L1359.28 34.1734 Z\" fill=\"#000000\" fill-rule=\"evenodd\" fill-opacity=\"1\" /><path clip-path=\"url(#clip880)\" d=\"M1393.8 12.096 L1401.98 12.096 L1401.98 36.8875 L1431.71 36.8875 L1431.71 12.096 L1439.9 12.096 L1439.9 72.576 L1431.71 72.576 L1431.71 43.7741 L1401.98 43.7741 L1401.98 72.576 L1393.8 72.576 L1393.8 12.096 Z\" fill=\"#000000\" fill-rule=\"evenodd\" fill-opacity=\"1\" /><path clip-path=\"url(#clip880)\" d=\"M1455.86 27.2059 L1463.31 27.2059 L1463.31 72.576 L1455.86 72.576 L1455.86 27.2059 M1455.86 9.54393 L1463.31 9.54393 L1463.31 18.9825 L1455.86 18.9825 L1455.86 9.54393 Z\" fill=\"#000000\" fill-rule=\"evenodd\" fill-opacity=\"1\" /><path clip-path=\"url(#clip880)\" d=\"M1507.83 28.5427 L1507.83 35.5912 Q1504.67 33.9709 1501.27 33.1607 Q1497.86 32.3505 1494.22 32.3505 Q1488.67 32.3505 1485.87 34.0519 Q1483.12 35.7533 1483.12 39.156 Q1483.12 41.7486 1485.1 43.2475 Q1487.09 44.7058 1493.08 46.0426 L1495.64 46.6097 Q1503.58 48.3111 1506.9 51.4303 Q1510.26 54.509 1510.26 60.0587 Q1510.26 66.3781 1505.24 70.0644 Q1500.25 73.7508 1491.5 73.7508 Q1487.86 73.7508 1483.89 73.0216 Q1479.96 72.3329 1475.58 70.9151 L1475.58 63.2184 Q1479.72 65.3654 1483.73 66.4591 Q1487.74 67.5124 1491.67 67.5124 Q1496.93 67.5124 1499.77 65.73 Q1502.6 63.9071 1502.6 60.6258 Q1502.6 57.5877 1500.54 55.9673 Q1498.51 54.3469 1491.58 52.8481 L1488.99 52.2405 Q1482.07 50.7821 1478.99 47.7845 Q1475.91 44.7463 1475.91 39.4801 Q1475.91 33.0797 1480.44 29.5959 Q1484.98 26.1121 1493.33 26.1121 Q1497.46 26.1121 1501.1 26.7198 Q1504.75 27.3274 1507.83 28.5427 Z\" fill=\"#000000\" fill-rule=\"evenodd\" fill-opacity=\"1\" /><path clip-path=\"url(#clip880)\" d=\"M1529.5 14.324 L1529.5 27.2059 L1544.85 27.2059 L1544.85 32.9987 L1529.5 32.9987 L1529.5 57.6282 Q1529.5 63.1779 1531 64.7578 Q1532.54 66.3376 1537.2 66.3376 L1544.85 66.3376 L1544.85 72.576 L1537.2 72.576 Q1528.57 72.576 1525.29 69.3758 Q1522.01 66.1351 1522.01 57.6282 L1522.01 32.9987 L1516.54 32.9987 L1516.54 27.2059 L1522.01 27.2059 L1522.01 14.324 L1529.5 14.324 Z\" fill=\"#000000\" fill-rule=\"evenodd\" fill-opacity=\"1\" /><path clip-path=\"url(#clip880)\" d=\"M1572.24 32.4315 Q1566.24 32.4315 1562.76 37.1306 Q1559.28 41.7891 1559.28 49.9314 Q1559.28 58.0738 1562.72 62.7728 Q1566.2 67.4314 1572.24 67.4314 Q1578.19 67.4314 1581.68 62.7323 Q1585.16 58.0333 1585.16 49.9314 Q1585.16 41.8701 1581.68 37.1711 Q1578.19 32.4315 1572.24 32.4315 M1572.24 26.1121 Q1581.96 26.1121 1587.51 32.4315 Q1593.06 38.7509 1593.06 49.9314 Q1593.06 61.0714 1587.51 67.4314 Q1581.96 73.7508 1572.24 73.7508 Q1562.48 73.7508 1556.93 67.4314 Q1551.42 61.0714 1551.42 49.9314 Q1551.42 38.7509 1556.93 32.4315 Q1562.48 26.1121 1572.24 26.1121 Z\" fill=\"#000000\" fill-rule=\"evenodd\" fill-opacity=\"1\" /><path clip-path=\"url(#clip880)\" d=\"M1631.71 34.1734 Q1630.45 33.4443 1628.95 33.1202 Q1627.49 32.7556 1625.71 32.7556 Q1619.39 32.7556 1615.99 36.8875 Q1612.63 40.9789 1612.63 48.6757 L1612.63 72.576 L1605.13 72.576 L1605.13 27.2059 L1612.63 27.2059 L1612.63 34.2544 Q1614.98 30.1225 1618.74 28.1376 Q1622.51 26.1121 1627.9 26.1121 Q1628.67 26.1121 1629.6 26.2337 Q1630.53 26.3147 1631.67 26.5172 L1631.71 34.1734 Z\" fill=\"#000000\" fill-rule=\"evenodd\" fill-opacity=\"1\" /><path clip-path=\"url(#clip880)\" d=\"M1658.4 76.7889 Q1655.24 84.8907 1652.24 87.3618 Q1649.25 89.8329 1644.22 89.8329 L1638.27 89.8329 L1638.27 83.5945 L1642.64 83.5945 Q1645.72 83.5945 1647.42 82.1361 Q1649.12 80.6778 1651.19 75.2496 L1652.53 71.8468 L1634.18 27.2059 L1642.08 27.2059 L1656.25 62.6918 L1670.43 27.2059 L1678.33 27.2059 L1658.4 76.7889 Z\" fill=\"#000000\" fill-rule=\"evenodd\" fill-opacity=\"1\" /><polyline clip-path=\"url(#clip882)\" style=\"stroke:#009af9; stroke-linecap:round; stroke-linejoin:round; stroke-width:4; stroke-opacity:1; fill:none\" points=\"301.869,898.379 323.993,898.29 346.117,898.027 368.241,897.603 390.365,897.027 412.489,896.31 434.613,895.463 456.737,894.494 478.861,893.413 500.984,892.229 523.108,890.933 545.232,889.538 567.356,888.071 589.48,886.539 611.604,884.951 633.728,883.313 655.852,881.632 677.976,879.916 700.1,878.172 722.224,876.372 744.347,874.523 766.471,872.666 788.595,870.806 810.719,868.948 832.843,867.061 854.967,865.113 877.091,862.89 899.215,860.344 921.339,857.327 943.463,853.816 965.587,850.143 987.711,846.335 1009.83,842.392 1031.96,838.321 1054.08,834.157 1076.21,829.905 1098.33,825.53 1120.45,821.064 1142.58,816.537 1164.7,811.863 1186.83,807.041 1208.95,802.107 1231.07,796.704 1253.2,790.852 1275.32,784.935 1297.45,778.952 1319.57,772.899 1341.69,766.784 1363.82,760.57 1385.94,754.262 1408.06,747.859 1430.19,741.133 1452.31,734.087 1474.44,725.45 1496.56,715.224 1518.68,704.91 1540.81,694.711 1562.93,684.623 1585.06,674.446 1607.18,664.364 1629.3,654.385 1651.43,644.334 1673.55,634.214 1695.68,624.192 1717.8,614.19 1739.92,604.025 1762.05,593.782 1784.17,583.478 1806.3,573.116 1828.42,560.856 1850.54,546.698 1872.67,532.484 1894.79,518.135 1916.91,503.995 1939.04,490.142 1961.16,476.241 1983.29,462.293 2005.41,448.304 2027.53,434.276 2049.66,419.926 2071.78,405.249 2093.91,389.724 2116.03,372.946 2138.15,355.689 2160.28,338.321 2182.4,320.883 2204.53,302.332 2226.65,282.673 2248.77,263.593 2270.9,244.507 2293.02,224.815 \"/>\n",
       "<polyline clip-path=\"url(#clip882)\" style=\"stroke:#e26f46; stroke-linecap:round; stroke-linejoin:round; stroke-width:4; stroke-opacity:1; fill:none\" points=\"301.869,841.886 323.993,841.922 346.117,842.028 368.241,842.199 390.365,842.429 412.489,842.71 434.613,843.041 456.737,843.416 478.861,843.833 500.984,844.288 523.108,844.82 545.232,845.422 567.356,846.038 589.48,846.665 611.604,847.301 633.728,847.945 655.852,848.592 677.976,849.241 700.1,849.887 722.224,850.577 744.347,851.31 766.471,852.029 788.595,852.733 810.719,853.422 832.843,854.136 854.967,854.92 877.091,856.019 899.215,857.483 921.339,859.463 943.463,861.979 965.587,864.673 987.711,867.514 1009.83,870.5 1031.96,873.623 1054.08,876.847 1076.21,880.165 1098.33,883.61 1120.45,887.152 1142.58,890.758 1164.7,894.512 1186.83,898.415 1208.95,902.428 1231.07,906.898 1253.2,911.803 1275.32,916.771 1297.45,921.801 1319.57,926.897 1341.69,932.049 1363.82,937.29 1385.94,942.616 1408.06,948.026 1430.19,953.729 1452.31,959.723 1474.44,967.172 1496.56,976.076 1518.68,985.049 1540.81,993.907 1562.93,1002.65 1585.06,1011.46 1607.18,1020.17 1629.3,1028.77 1651.43,1037.42 1673.55,1046.11 1695.68,1054.7 1717.8,1063.24 1739.92,1071.91 1762.05,1080.63 1784.17,1089.37 1806.3,1098.14 1828.42,1108.55 1850.54,1120.6 1872.67,1132.67 1894.79,1144.83 1916.91,1156.77 1939.04,1168.43 1961.16,1180.1 1983.29,1191.77 2005.41,1203.44 2027.53,1215.1 2049.66,1227 2071.78,1239.14 2093.91,1251.96 2116.03,1265.79 2138.15,1279.99 2160.28,1294.23 2182.4,1308.48 2204.53,1323.61 2226.65,1339.62 2248.77,1355.1 2270.9,1370.52 2293.02,1386.4 \"/>\n",
       "<polyline clip-path=\"url(#clip882)\" style=\"stroke:#3da44d; stroke-linecap:round; stroke-linejoin:round; stroke-width:4; stroke-opacity:1; fill:none\" points=\"301.869,898.379 323.993,898.283 346.117,898.01 368.241,897.581 390.365,896.988 412.489,896.238 434.613,895.355 456.737,894.359 478.861,893.271 500.984,892.102 523.108,890.946 545.232,889.791 567.356,888.534 589.48,887.192 611.604,885.783 633.728,884.318 655.852,882.811 677.976,881.261 700.1,879.668 722.224,878.158 744.347,876.751 766.471,875.332 788.595,873.905 810.719,872.473 832.843,871.138 854.967,869.798 877.091,869.875 899.215,870.832 921.339,873.191 943.463,877.133 965.587,879.89 987.711,881.258 1009.83,881.236 1031.96,879.787 1054.08,876.64 1076.21,871.772 1098.33,865.471 1120.45,857.503 1142.58,847.647 1164.7,836.586 1186.83,824.353 1208.95,810.668 1231.07,798.482 1253.2,787.647 1275.32,775.039 1297.45,760.671 1319.57,744.594 1341.69,726.768 1363.82,707.473 1385.94,686.708 1408.06,664.481 1430.19,642.571 1452.31,620.967 1474.44,609.469 1496.56,608.091 1518.68,605.253 1540.81,599.426 1562.93,590.648 1585.06,580.469 1607.18,567.49 1629.3,551.673 1651.43,534.36 1673.55,515.543 1695.68,493.965 1717.8,470.238 1739.92,445.753 1762.05,419.893 1784.17,392.533 1806.3,363.669 1828.42,347.194 1850.54,343.121 1872.67,337.566 1894.79,331.137 1916.91,321.259 1939.04,307.348 1961.16,291.956 1983.29,275.064 2005.41,256.662 2027.53,236.726 2049.66,217.4 2071.78,198.723 2093.91,184.579 2116.03,177.989 2138.15,173.211 2160.28,167.522 2182.4,160.633 2204.53,160.256 2226.65,166.381 2248.77,166.534 2270.9,165.064 2293.02,166.407 \"/>\n",
       "<polyline clip-path=\"url(#clip882)\" style=\"stroke:#c271d2; stroke-linecap:round; stroke-linejoin:round; stroke-width:4; stroke-opacity:1; fill:none\" stroke-dasharray=\"16, 10\" points=\"301.869,841.886 323.993,838.314 346.117,834.958 368.241,831.828 390.365,828.918 412.489,826.187 434.613,823.682 456.737,821.338 478.861,819.187 500.984,817.22 523.108,814.747 545.232,813.208 567.356,811.875 589.48,810.635 611.604,809.597 633.728,808.656 655.852,807.883 677.976,807.245 700.1,806.758 722.224,805.021 744.347,804.79 766.471,804.699 788.595,804.675 810.719,804.783 832.843,803.52 854.967,802.339 877.091,792.498 899.215,789.445 921.339,773.614 943.463,769.736 965.587,767.125 987.711,764.3 1009.83,761.768 1031.96,759.171 1054.08,758.045 1076.21,755.631 1098.33,753.159 1120.45,751.973 1142.58,750.683 1164.7,746.136 1186.83,744.753 1208.95,741.679 1231.07,725.976 1253.2,723.714 1275.32,723.362 1297.45,721.097 1319.57,720.565 1341.69,718.577 1363.82,716.672 1385.94,714.758 1408.06,712.884 1430.19,701.84 1452.31,700.097 1474.44,638.228 1496.56,636.472 1518.68,634.772 1540.81,641.037 1562.93,639.213 1585.06,637.472 1607.18,643.028 1629.3,641.561 1651.43,640.165 1673.55,638.811 1695.68,644.091 1717.8,639.583 1739.92,637.621 1762.05,636.423 1784.17,635.197 1806.3,634.081 1828.42,559.293 1850.54,558.17 1872.67,557.038 1894.79,552.76 1916.91,565.395 1939.04,564.29 1961.16,563.407 1983.29,562.474 2005.41,561.707 2027.53,560.977 2049.66,548.779 2071.78,547.918 2093.91,514.838 2116.03,497.816 2138.15,495.689 2160.28,493.372 2182.4,492.87 2204.53,448.88 2226.65,448.504 2248.77,472.095 2270.9,448.223 2293.02,447.859 \"/>\n",
       "<polyline clip-path=\"url(#clip882)\" style=\"stroke:#ac8d18; stroke-linecap:round; stroke-linejoin:round; stroke-width:4; stroke-opacity:1; fill:none\" stroke-dasharray=\"16, 10\" points=\"301.869,841.886 323.993,843.317 346.117,844.698 368.241,845.94 390.365,847.008 412.489,848.028 434.613,848.952 456.737,849.833 478.861,850.627 500.984,851.331 523.108,853.747 545.232,854.089 567.356,854.308 589.48,854.556 611.604,854.68 633.728,854.819 655.852,854.859 677.976,854.848 700.1,854.757 722.224,856.645 744.347,856.42 766.471,856.124 788.595,855.83 810.719,855.463 832.843,856.903 854.967,858.227 877.091,869.475 899.215,872.878 921.339,890.091 943.463,894.332 965.587,897.184 987.711,900.239 1009.83,902.965 1031.96,905.736 1054.08,906.976 1076.21,909.513 1098.33,912.083 1120.45,913.345 1142.58,914.694 1164.7,919.233 1186.83,920.637 1208.95,923.665 1231.07,938.898 1253.2,941.086 1275.32,941.416 1297.45,943.555 1319.57,944.021 1341.69,945.843 1363.82,947.561 1385.94,949.262 1408.06,950.899 1430.19,961.023 1452.31,962.486 1474.44,1019.26 1496.56,1020.68 1518.68,1022.02 1540.81,1016.05 1562.93,1017.45 1585.06,1018.75 1607.18,1013.4 1629.3,1014.4 1651.43,1015.3 1673.55,1016.14 1695.68,1011.02 1717.8,1014.61 1739.92,1015.91 1762.05,1016.5 1784.17,1017.08 1806.3,1017.54 1828.42,1082.66 1850.54,1083.07 1872.67,1083.46 1894.79,1086.56 1916.91,1074.93 1939.04,1075.21 1961.16,1075.27 1983.29,1075.34 2005.41,1075.24 2027.53,1075.09 2049.66,1084.71 2071.78,1084.6 2093.91,1111.78 2116.03,1125.34 2138.15,1126.22 2160.28,1127.23 2182.4,1126.67 2204.53,1162.45 2226.65,1161.73 2248.77,1140.98 2270.9,1159.78 2293.02,1158.96 \"/>\n",
       "<polyline clip-path=\"url(#clip882)\" style=\"stroke:#00a9ad; stroke-linecap:round; stroke-linejoin:round; stroke-width:4; stroke-opacity:1; fill:none\" stroke-dasharray=\"16, 10\" points=\"301.869,841.886 323.993,838.029 346.117,834.855 368.241,831.729 390.365,828.324 412.489,825.472 434.613,822.953 456.737,820.986 478.861,819.272 500.984,817.751 523.108,819.753 545.232,817.836 567.356,815.649 589.48,814.465 611.604,812.934 633.728,812.22 655.852,811.288 677.976,810.493 700.1,809.537 722.224,813.835 744.347,813.676 766.471,813.33 788.595,813.371 810.719,813.103 832.843,817.291 854.967,812.875 877.091,873.948 899.215,848.109 921.339,930.025 943.463,911.448 965.587,882.582 987.711,855.918 1009.83,826.972 1031.96,798.849 1054.08,759.052 1076.21,729.992 1098.33,701.713 1120.45,663.366 1142.58,626.153 1164.7,615.168 1186.83,579.301 1208.95,557.089 1231.07,639.229 1253.2,611.136 1275.32,568.302 1297.45,540.763 1319.57,499.944 1341.69,470.763 1363.82,441.2 1385.94,411.978 1408.06,382.709 1430.19,424.68 1452.31,394.948 1474.44,828.886 1496.56,799.767 1518.68,770.475 1540.81,680.233 1562.93,652.409 1585.06,624.206 1607.18,540.427 1629.3,510.654 1651.43,480.595 1673.55,450.483 1695.68,370.159 1717.8,364.537 1739.92,339.829 1762.05,309.573 1784.17,279.786 1806.3,249.428 1828.42,775.322 1850.54,745.533 1872.67,716.063 1894.79,710.532 1916.91,578.118 1939.04,549.206 1961.16,518.889 1983.29,489.197 2005.41,458.514 2027.53,427.801 2049.66,482.943 2071.78,453.737 2093.91,664.298 2116.03,755.849 2138.15,736.813 2160.28,719.416 2182.4,688.787 2204.53,979.913 2226.65,948.856 2248.77,741.028 2270.9,883.947 2293.02,853.555 \"/>\n",
       "<path clip-path=\"url(#clip880)\" d=\"M312.489 529.676 L593.921 529.676 L593.921 166.796 L312.489 166.796  Z\" fill=\"#ffffff\" fill-rule=\"evenodd\" fill-opacity=\"1\"/>\n",
       "<polyline clip-path=\"url(#clip880)\" style=\"stroke:#000000; stroke-linecap:round; stroke-linejoin:round; stroke-width:4; stroke-opacity:1; fill:none\" points=\"312.489,529.676 593.921,529.676 593.921,166.796 312.489,166.796 312.489,529.676 \"/>\n",
       "<polyline clip-path=\"url(#clip880)\" style=\"stroke:#009af9; stroke-linecap:round; stroke-linejoin:round; stroke-width:4; stroke-opacity:1; fill:none\" points=\"335.94,218.636 476.648,218.636 \"/>\n",
       "<path clip-path=\"url(#clip880)\" d=\"M524.127 221.888 L524.127 223.971 L504.544 223.971 Q504.822 228.369 507.183 230.684 Q509.567 232.976 513.803 232.976 Q516.257 232.976 518.548 232.374 Q520.863 231.772 523.132 230.569 L523.132 234.596 Q520.84 235.568 518.433 236.078 Q516.025 236.587 513.548 236.587 Q507.345 236.587 503.711 232.976 Q500.099 229.365 500.099 223.207 Q500.099 216.842 503.525 213.115 Q506.974 209.365 512.808 209.365 Q518.039 209.365 521.072 212.745 Q524.127 216.101 524.127 221.888 M519.868 220.638 Q519.822 217.143 517.9 215.059 Q516.002 212.976 512.854 212.976 Q509.289 212.976 507.136 214.99 Q505.007 217.004 504.683 220.661 L519.868 220.638 Z\" fill=\"#000000\" fill-rule=\"evenodd\" fill-opacity=\"1\" /><path clip-path=\"url(#clip880)\" d=\"M551.835 209.99 L542.46 222.606 L552.321 235.916 L547.298 235.916 L539.752 225.731 L532.206 235.916 L527.183 235.916 L537.252 222.351 L528.039 209.99 L533.062 209.99 L539.937 219.226 L546.812 209.99 L551.835 209.99 Z\" fill=\"#000000\" fill-rule=\"evenodd\" fill-opacity=\"1\" /><path clip-path=\"url(#clip880)\" d=\"M557.483 233.369 L562.206 233.369 L562.206 219.226 L557.044 220.175 L557.044 217.49 L562.368 216.587 L565.539 216.587 L565.539 233.369 L570.284 233.369 L570.284 235.916 L557.483 235.916 L557.483 233.369 Z\" fill=\"#000000\" fill-rule=\"evenodd\" fill-opacity=\"1\" /><polyline clip-path=\"url(#clip880)\" style=\"stroke:#e26f46; stroke-linecap:round; stroke-linejoin:round; stroke-width:4; stroke-opacity:1; fill:none\" points=\"335.94,270.476 476.648,270.476 \"/>\n",
       "<path clip-path=\"url(#clip880)\" d=\"M524.127 273.728 L524.127 275.811 L504.544 275.811 Q504.822 280.209 507.183 282.524 Q509.567 284.816 513.803 284.816 Q516.257 284.816 518.548 284.214 Q520.863 283.612 523.132 282.409 L523.132 286.436 Q520.84 287.408 518.433 287.918 Q516.025 288.427 513.548 288.427 Q507.345 288.427 503.711 284.816 Q500.099 281.205 500.099 275.047 Q500.099 268.682 503.525 264.955 Q506.974 261.205 512.808 261.205 Q518.039 261.205 521.072 264.585 Q524.127 267.941 524.127 273.728 M519.868 272.478 Q519.822 268.983 517.9 266.899 Q516.002 264.816 512.854 264.816 Q509.289 264.816 507.136 266.83 Q505.007 268.844 504.683 272.501 L519.868 272.478 Z\" fill=\"#000000\" fill-rule=\"evenodd\" fill-opacity=\"1\" /><path clip-path=\"url(#clip880)\" d=\"M551.835 261.83 L542.46 274.446 L552.321 287.756 L547.298 287.756 L539.752 277.571 L532.206 287.756 L527.183 287.756 L537.252 274.191 L528.039 261.83 L533.062 261.83 L539.937 271.066 L546.812 261.83 L551.835 261.83 Z\" fill=\"#000000\" fill-rule=\"evenodd\" fill-opacity=\"1\" /><path clip-path=\"url(#clip880)\" d=\"M560.076 285.117 L569.891 285.117 L569.891 287.756 L556.048 287.756 L556.048 285.209 Q556.835 284.492 558.294 283.196 Q566.257 276.135 566.257 273.959 Q566.257 272.432 565.053 271.506 Q563.849 270.557 561.882 270.557 Q560.678 270.557 559.266 270.973 Q557.854 271.367 556.187 272.177 L556.187 269.33 Q557.97 268.682 559.497 268.358 Q561.048 268.034 562.368 268.034 Q565.724 268.034 567.738 269.561 Q569.752 271.089 569.752 273.589 Q569.752 276.807 562.09 283.381 Q560.794 284.492 560.076 285.117 Z\" fill=\"#000000\" fill-rule=\"evenodd\" fill-opacity=\"1\" /><polyline clip-path=\"url(#clip880)\" style=\"stroke:#3da44d; stroke-linecap:round; stroke-linejoin:round; stroke-width:4; stroke-opacity:1; fill:none\" points=\"335.94,322.316 476.648,322.316 \"/>\n",
       "<path clip-path=\"url(#clip880)\" d=\"M524.127 325.568 L524.127 327.651 L504.544 327.651 Q504.822 332.049 507.183 334.364 Q509.567 336.656 513.803 336.656 Q516.257 336.656 518.548 336.054 Q520.863 335.452 523.132 334.249 L523.132 338.276 Q520.84 339.248 518.433 339.758 Q516.025 340.267 513.548 340.267 Q507.345 340.267 503.711 336.656 Q500.099 333.045 500.099 326.887 Q500.099 320.522 503.525 316.795 Q506.974 313.045 512.808 313.045 Q518.039 313.045 521.072 316.425 Q524.127 319.781 524.127 325.568 M519.868 324.318 Q519.822 320.823 517.9 318.739 Q516.002 316.656 512.854 316.656 Q509.289 316.656 507.136 318.67 Q505.007 320.684 504.683 324.341 L519.868 324.318 Z\" fill=\"#000000\" fill-rule=\"evenodd\" fill-opacity=\"1\" /><path clip-path=\"url(#clip880)\" d=\"M551.835 313.67 L542.46 326.286 L552.321 339.596 L547.298 339.596 L539.752 329.411 L532.206 339.596 L527.183 339.596 L537.252 326.031 L528.039 313.67 L533.062 313.67 L539.937 322.906 L546.812 313.67 L551.835 313.67 Z\" fill=\"#000000\" fill-rule=\"evenodd\" fill-opacity=\"1\" /><path clip-path=\"url(#clip880)\" d=\"M566.002 329.133 Q568.132 329.549 569.289 330.823 Q570.469 332.073 570.469 333.971 Q570.469 336.841 568.27 338.392 Q566.071 339.943 561.974 339.943 Q560.655 339.943 559.196 339.688 Q557.761 339.457 556.141 338.994 L556.141 336.193 Q557.345 336.818 558.71 337.119 Q560.099 337.42 561.65 337.42 Q564.173 337.42 565.562 336.517 Q566.951 335.591 566.951 333.971 Q566.951 332.258 565.655 331.378 Q564.382 330.499 561.882 330.499 L559.891 330.499 L559.891 327.999 L562.067 327.999 Q564.243 327.999 565.354 327.281 Q566.488 326.54 566.488 325.151 Q566.488 323.809 565.331 323.114 Q564.173 322.397 561.974 322.397 Q561.048 322.397 559.868 322.605 Q558.687 322.813 556.812 323.346 L556.812 320.684 Q558.502 320.29 559.983 320.082 Q561.465 319.874 562.738 319.874 Q566.071 319.874 568.016 321.239 Q569.983 322.605 569.983 324.897 Q569.983 326.494 568.942 327.605 Q567.9 328.716 566.002 329.133 Z\" fill=\"#000000\" fill-rule=\"evenodd\" fill-opacity=\"1\" /><polyline clip-path=\"url(#clip880)\" style=\"stroke:#c271d2; stroke-linecap:round; stroke-linejoin:round; stroke-width:4; stroke-opacity:1; fill:none\" stroke-dasharray=\"16, 10\" points=\"335.94,374.156 476.648,374.156 \"/>\n",
       "<path clip-path=\"url(#clip880)\" d=\"M524.127 377.408 L524.127 379.491 L504.544 379.491 Q504.822 383.889 507.183 386.204 Q509.567 388.496 513.803 388.496 Q516.257 388.496 518.548 387.894 Q520.863 387.292 523.132 386.089 L523.132 390.116 Q520.84 391.088 518.433 391.598 Q516.025 392.107 513.548 392.107 Q507.345 392.107 503.711 388.496 Q500.099 384.885 500.099 378.727 Q500.099 372.362 503.525 368.635 Q506.974 364.885 512.808 364.885 Q518.039 364.885 521.072 368.265 Q524.127 371.621 524.127 377.408 M519.868 376.158 Q519.822 372.663 517.9 370.579 Q516.002 368.496 512.854 368.496 Q509.289 368.496 507.136 370.51 Q505.007 372.524 504.683 376.181 L519.868 376.158 Z\" fill=\"#000000\" fill-rule=\"evenodd\" fill-opacity=\"1\" /><path clip-path=\"url(#clip880)\" d=\"M551.835 365.51 L542.46 378.126 L552.321 391.436 L547.298 391.436 L539.752 381.251 L532.206 391.436 L527.183 391.436 L537.252 377.871 L528.039 365.51 L533.062 365.51 L539.937 374.746 L546.812 365.51 L551.835 365.51 Z\" fill=\"#000000\" fill-rule=\"evenodd\" fill-opacity=\"1\" /><path clip-path=\"url(#clip880)\" d=\"M539.845 355.417 L544.104 355.417 L544.104 360.811 L539.845 360.811 L539.845 355.417 M542.021 364.885 L542.021 364.885 Z\" fill=\"#000000\" fill-rule=\"evenodd\" fill-opacity=\"1\" /><path clip-path=\"url(#clip880)\" d=\"M557.483 388.889 L562.206 388.889 L562.206 374.746 L557.044 375.695 L557.044 373.01 L562.368 372.107 L565.539 372.107 L565.539 388.889 L570.284 388.889 L570.284 391.436 L557.483 391.436 L557.483 388.889 Z\" fill=\"#000000\" fill-rule=\"evenodd\" fill-opacity=\"1\" /><polyline clip-path=\"url(#clip880)\" style=\"stroke:#ac8d18; stroke-linecap:round; stroke-linejoin:round; stroke-width:4; stroke-opacity:1; fill:none\" stroke-dasharray=\"16, 10\" points=\"335.94,425.996 476.648,425.996 \"/>\n",
       "<path clip-path=\"url(#clip880)\" d=\"M524.127 429.248 L524.127 431.331 L504.544 431.331 Q504.822 435.729 507.183 438.044 Q509.567 440.336 513.803 440.336 Q516.257 440.336 518.548 439.734 Q520.863 439.132 523.132 437.929 L523.132 441.956 Q520.84 442.928 518.433 443.438 Q516.025 443.947 513.548 443.947 Q507.345 443.947 503.711 440.336 Q500.099 436.725 500.099 430.567 Q500.099 424.202 503.525 420.475 Q506.974 416.725 512.808 416.725 Q518.039 416.725 521.072 420.105 Q524.127 423.461 524.127 429.248 M519.868 427.998 Q519.822 424.503 517.9 422.419 Q516.002 420.336 512.854 420.336 Q509.289 420.336 507.136 422.35 Q505.007 424.364 504.683 428.021 L519.868 427.998 Z\" fill=\"#000000\" fill-rule=\"evenodd\" fill-opacity=\"1\" /><path clip-path=\"url(#clip880)\" d=\"M551.835 417.35 L542.46 429.966 L552.321 443.276 L547.298 443.276 L539.752 433.091 L532.206 443.276 L527.183 443.276 L537.252 429.711 L528.039 417.35 L533.062 417.35 L539.937 426.586 L546.812 417.35 L551.835 417.35 Z\" fill=\"#000000\" fill-rule=\"evenodd\" fill-opacity=\"1\" /><path clip-path=\"url(#clip880)\" d=\"M539.845 407.257 L544.104 407.257 L544.104 412.651 L539.845 412.651 L539.845 407.257 M542.021 416.725 L542.021 416.725 Z\" fill=\"#000000\" fill-rule=\"evenodd\" fill-opacity=\"1\" /><path clip-path=\"url(#clip880)\" d=\"M560.076 440.637 L569.891 440.637 L569.891 443.276 L556.048 443.276 L556.048 440.729 Q556.835 440.012 558.294 438.716 Q566.257 431.655 566.257 429.479 Q566.257 427.952 565.053 427.026 Q563.849 426.077 561.882 426.077 Q560.678 426.077 559.266 426.493 Q557.854 426.887 556.187 427.697 L556.187 424.85 Q557.97 424.202 559.497 423.878 Q561.048 423.554 562.368 423.554 Q565.724 423.554 567.738 425.081 Q569.752 426.609 569.752 429.109 Q569.752 432.327 562.09 438.901 Q560.794 440.012 560.076 440.637 Z\" fill=\"#000000\" fill-rule=\"evenodd\" fill-opacity=\"1\" /><polyline clip-path=\"url(#clip880)\" style=\"stroke:#00a9ad; stroke-linecap:round; stroke-linejoin:round; stroke-width:4; stroke-opacity:1; fill:none\" stroke-dasharray=\"16, 10\" points=\"335.94,477.836 476.648,477.836 \"/>\n",
       "<path clip-path=\"url(#clip880)\" d=\"M524.127 481.088 L524.127 483.171 L504.544 483.171 Q504.822 487.569 507.183 489.884 Q509.567 492.176 513.803 492.176 Q516.257 492.176 518.548 491.574 Q520.863 490.972 523.132 489.769 L523.132 493.796 Q520.84 494.768 518.433 495.278 Q516.025 495.787 513.548 495.787 Q507.345 495.787 503.711 492.176 Q500.099 488.565 500.099 482.407 Q500.099 476.042 503.525 472.315 Q506.974 468.565 512.808 468.565 Q518.039 468.565 521.072 471.945 Q524.127 475.301 524.127 481.088 M519.868 479.838 Q519.822 476.343 517.9 474.259 Q516.002 472.176 512.854 472.176 Q509.289 472.176 507.136 474.19 Q505.007 476.204 504.683 479.861 L519.868 479.838 Z\" fill=\"#000000\" fill-rule=\"evenodd\" fill-opacity=\"1\" /><path clip-path=\"url(#clip880)\" d=\"M551.835 469.19 L542.46 481.806 L552.321 495.116 L547.298 495.116 L539.752 484.931 L532.206 495.116 L527.183 495.116 L537.252 481.551 L528.039 469.19 L533.062 469.19 L539.937 478.426 L546.812 469.19 L551.835 469.19 Z\" fill=\"#000000\" fill-rule=\"evenodd\" fill-opacity=\"1\" /><path clip-path=\"url(#clip880)\" d=\"M539.845 459.097 L544.104 459.097 L544.104 464.491 L539.845 464.491 L539.845 459.097 M542.021 468.565 L542.021 468.565 Z\" fill=\"#000000\" fill-rule=\"evenodd\" fill-opacity=\"1\" /><path clip-path=\"url(#clip880)\" d=\"M566.002 484.653 Q568.132 485.069 569.289 486.343 Q570.469 487.593 570.469 489.491 Q570.469 492.361 568.27 493.912 Q566.071 495.463 561.974 495.463 Q560.655 495.463 559.196 495.208 Q557.761 494.977 556.141 494.514 L556.141 491.713 Q557.345 492.338 558.71 492.639 Q560.099 492.94 561.65 492.94 Q564.173 492.94 565.562 492.037 Q566.951 491.111 566.951 489.491 Q566.951 487.778 565.655 486.898 Q564.382 486.019 561.882 486.019 L559.891 486.019 L559.891 483.519 L562.067 483.519 Q564.243 483.519 565.354 482.801 Q566.488 482.06 566.488 480.671 Q566.488 479.329 565.331 478.634 Q564.173 477.917 561.974 477.917 Q561.048 477.917 559.868 478.125 Q558.687 478.333 556.812 478.866 L556.812 476.204 Q558.502 475.81 559.983 475.602 Q561.465 475.394 562.738 475.394 Q566.071 475.394 568.016 476.759 Q569.983 478.125 569.983 480.417 Q569.983 482.014 568.942 483.125 Q567.9 484.236 566.002 484.653 Z\" fill=\"#000000\" fill-rule=\"evenodd\" fill-opacity=\"1\" /></svg>\n"
      ]
     },
     "metadata": {},
     "output_type": "display_data"
    },
    {
     "data": {
      "image/svg+xml": [
       "<?xml version=\"1.0\" encoding=\"utf-8\"?>\n",
       "<svg xmlns=\"http://www.w3.org/2000/svg\" xmlns:xlink=\"http://www.w3.org/1999/xlink\" width=\"600\" height=\"400\" viewBox=\"0 0 2400 1600\">\n",
       "<defs>\n",
       "  <clipPath id=\"clip920\">\n",
       "    <rect x=\"0\" y=\"0\" width=\"2400\" height=\"1600\"/>\n",
       "  </clipPath>\n",
       "</defs>\n",
       "<path clip-path=\"url(#clip920)\" d=\"M0 1600 L2400 1600 L2400 0 L0 0  Z\" fill=\"#ffffff\" fill-rule=\"evenodd\" fill-opacity=\"1\"/>\n",
       "<defs>\n",
       "  <clipPath id=\"clip921\">\n",
       "    <rect x=\"480\" y=\"0\" width=\"1681\" height=\"1600\"/>\n",
       "  </clipPath>\n",
       "</defs>\n",
       "<path clip-path=\"url(#clip920)\" d=\"M272.297 1423.18 L2352.76 1423.18 L2352.76 123.472 L272.297 123.472  Z\" fill=\"#ffffff\" fill-rule=\"evenodd\" fill-opacity=\"1\"/>\n",
       "<defs>\n",
       "  <clipPath id=\"clip922\">\n",
       "    <rect x=\"272\" y=\"123\" width=\"2081\" height=\"1301\"/>\n",
       "  </clipPath>\n",
       "</defs>\n",
       "<polyline clip-path=\"url(#clip922)\" style=\"stroke:#000000; stroke-linecap:round; stroke-linejoin:round; stroke-width:2; stroke-opacity:0.1; fill:none\" points=\"331.177,1423.18 331.177,123.472 \"/>\n",
       "<polyline clip-path=\"url(#clip922)\" style=\"stroke:#000000; stroke-linecap:round; stroke-linejoin:round; stroke-width:2; stroke-opacity:0.1; fill:none\" points=\"777.245,1423.18 777.245,123.472 \"/>\n",
       "<polyline clip-path=\"url(#clip922)\" style=\"stroke:#000000; stroke-linecap:round; stroke-linejoin:round; stroke-width:2; stroke-opacity:0.1; fill:none\" points=\"1223.31,1423.18 1223.31,123.472 \"/>\n",
       "<polyline clip-path=\"url(#clip922)\" style=\"stroke:#000000; stroke-linecap:round; stroke-linejoin:round; stroke-width:2; stroke-opacity:0.1; fill:none\" points=\"1669.38,1423.18 1669.38,123.472 \"/>\n",
       "<polyline clip-path=\"url(#clip922)\" style=\"stroke:#000000; stroke-linecap:round; stroke-linejoin:round; stroke-width:2; stroke-opacity:0.1; fill:none\" points=\"2115.45,1423.18 2115.45,123.472 \"/>\n",
       "<polyline clip-path=\"url(#clip920)\" style=\"stroke:#000000; stroke-linecap:round; stroke-linejoin:round; stroke-width:4; stroke-opacity:1; fill:none\" points=\"272.297,1423.18 2352.76,1423.18 \"/>\n",
       "<polyline clip-path=\"url(#clip920)\" style=\"stroke:#000000; stroke-linecap:round; stroke-linejoin:round; stroke-width:4; stroke-opacity:1; fill:none\" points=\"331.177,1423.18 331.177,1404.28 \"/>\n",
       "<polyline clip-path=\"url(#clip920)\" style=\"stroke:#000000; stroke-linecap:round; stroke-linejoin:round; stroke-width:4; stroke-opacity:1; fill:none\" points=\"777.245,1423.18 777.245,1404.28 \"/>\n",
       "<polyline clip-path=\"url(#clip920)\" style=\"stroke:#000000; stroke-linecap:round; stroke-linejoin:round; stroke-width:4; stroke-opacity:1; fill:none\" points=\"1223.31,1423.18 1223.31,1404.28 \"/>\n",
       "<polyline clip-path=\"url(#clip920)\" style=\"stroke:#000000; stroke-linecap:round; stroke-linejoin:round; stroke-width:4; stroke-opacity:1; fill:none\" points=\"1669.38,1423.18 1669.38,1404.28 \"/>\n",
       "<polyline clip-path=\"url(#clip920)\" style=\"stroke:#000000; stroke-linecap:round; stroke-linejoin:round; stroke-width:4; stroke-opacity:1; fill:none\" points=\"2115.45,1423.18 2115.45,1404.28 \"/>\n",
       "<path clip-path=\"url(#clip920)\" d=\"M331.177 1454.1 Q327.566 1454.1 325.738 1457.66 Q323.932 1461.2 323.932 1468.33 Q323.932 1475.44 325.738 1479.01 Q327.566 1482.55 331.177 1482.55 Q334.812 1482.55 336.617 1479.01 Q338.446 1475.44 338.446 1468.33 Q338.446 1461.2 336.617 1457.66 Q334.812 1454.1 331.177 1454.1 M331.177 1450.39 Q336.988 1450.39 340.043 1455 Q343.122 1459.58 343.122 1468.33 Q343.122 1477.06 340.043 1481.67 Q336.988 1486.25 331.177 1486.25 Q325.367 1486.25 322.289 1481.67 Q319.233 1477.06 319.233 1468.33 Q319.233 1459.58 322.289 1455 Q325.367 1450.39 331.177 1450.39 Z\" fill=\"#000000\" fill-rule=\"evenodd\" fill-opacity=\"1\" /><path clip-path=\"url(#clip920)\" d=\"M771.898 1481.64 L788.217 1481.64 L788.217 1485.58 L766.273 1485.58 L766.273 1481.64 Q768.935 1478.89 773.518 1474.26 Q778.125 1469.61 779.305 1468.27 Q781.551 1465.74 782.43 1464.01 Q783.333 1462.25 783.333 1460.56 Q783.333 1457.8 781.389 1456.07 Q779.467 1454.33 776.365 1454.33 Q774.166 1454.33 771.713 1455.09 Q769.282 1455.86 766.504 1457.41 L766.504 1452.69 Q769.328 1451.55 771.782 1450.97 Q774.236 1450.39 776.273 1450.39 Q781.643 1450.39 784.838 1453.08 Q788.032 1455.77 788.032 1460.26 Q788.032 1462.39 787.222 1464.31 Q786.435 1466.2 784.328 1468.8 Q783.75 1469.47 780.648 1472.69 Q777.546 1475.88 771.898 1481.64 Z\" fill=\"#000000\" fill-rule=\"evenodd\" fill-opacity=\"1\" /><path clip-path=\"url(#clip920)\" d=\"M1226.32 1455.09 L1214.52 1473.54 L1226.32 1473.54 L1226.32 1455.09 M1225.1 1451.02 L1230.97 1451.02 L1230.97 1473.54 L1235.91 1473.54 L1235.91 1477.43 L1230.97 1477.43 L1230.97 1485.58 L1226.32 1485.58 L1226.32 1477.43 L1210.72 1477.43 L1210.72 1472.92 L1225.1 1451.02 Z\" fill=\"#000000\" fill-rule=\"evenodd\" fill-opacity=\"1\" /><path clip-path=\"url(#clip920)\" d=\"M1669.79 1466.44 Q1666.64 1466.44 1664.79 1468.59 Q1662.96 1470.74 1662.96 1474.49 Q1662.96 1478.22 1664.79 1480.39 Q1666.64 1482.55 1669.79 1482.55 Q1672.93 1482.55 1674.76 1480.39 Q1676.61 1478.22 1676.61 1474.49 Q1676.61 1470.74 1674.76 1468.59 Q1672.93 1466.44 1669.79 1466.44 M1679.07 1451.78 L1679.07 1456.04 Q1677.31 1455.21 1675.5 1454.77 Q1673.72 1454.33 1671.96 1454.33 Q1667.33 1454.33 1664.88 1457.45 Q1662.45 1460.58 1662.1 1466.9 Q1663.47 1464.89 1665.53 1463.82 Q1667.59 1462.73 1670.06 1462.73 Q1675.27 1462.73 1678.28 1465.9 Q1681.31 1469.05 1681.31 1474.49 Q1681.31 1479.82 1678.16 1483.03 Q1675.02 1486.25 1669.79 1486.25 Q1663.79 1486.25 1660.62 1481.67 Q1657.45 1477.06 1657.45 1468.33 Q1657.45 1460.14 1661.34 1455.28 Q1665.23 1450.39 1671.78 1450.39 Q1673.54 1450.39 1675.32 1450.74 Q1677.12 1451.09 1679.07 1451.78 Z\" fill=\"#000000\" fill-rule=\"evenodd\" fill-opacity=\"1\" /><path clip-path=\"url(#clip920)\" d=\"M2115.45 1469.17 Q2112.11 1469.17 2110.19 1470.95 Q2108.3 1472.73 2108.3 1475.86 Q2108.3 1478.98 2110.19 1480.77 Q2112.11 1482.55 2115.45 1482.55 Q2118.78 1482.55 2120.7 1480.77 Q2122.62 1478.96 2122.62 1475.86 Q2122.62 1472.73 2120.7 1470.95 Q2118.8 1469.17 2115.45 1469.17 M2110.77 1467.18 Q2107.76 1466.44 2106.07 1464.38 Q2104.41 1462.32 2104.41 1459.35 Q2104.41 1455.21 2107.35 1452.8 Q2110.31 1450.39 2115.45 1450.39 Q2120.61 1450.39 2123.55 1452.8 Q2126.49 1455.21 2126.49 1459.35 Q2126.49 1462.32 2124.8 1464.38 Q2123.13 1466.44 2120.15 1467.18 Q2123.53 1467.96 2125.4 1470.26 Q2127.3 1472.55 2127.3 1475.86 Q2127.3 1480.88 2124.22 1483.57 Q2121.17 1486.25 2115.45 1486.25 Q2109.73 1486.25 2106.65 1483.57 Q2103.6 1480.88 2103.6 1475.86 Q2103.6 1472.55 2105.49 1470.26 Q2107.39 1467.96 2110.77 1467.18 M2109.06 1459.79 Q2109.06 1462.48 2110.73 1463.98 Q2112.42 1465.49 2115.45 1465.49 Q2118.46 1465.49 2120.15 1463.98 Q2121.86 1462.48 2121.86 1459.79 Q2121.86 1457.11 2120.15 1455.6 Q2118.46 1454.1 2115.45 1454.1 Q2112.42 1454.1 2110.73 1455.6 Q2109.06 1457.11 2109.06 1459.79 Z\" fill=\"#000000\" fill-rule=\"evenodd\" fill-opacity=\"1\" /><path clip-path=\"url(#clip920)\" d=\"M1199.98 1522.27 L1199.98 1532.4 L1212.04 1532.4 L1212.04 1536.95 L1199.98 1536.95 L1199.98 1556.3 Q1199.98 1560.66 1201.16 1561.9 Q1202.37 1563.14 1206.03 1563.14 L1212.04 1563.14 L1212.04 1568.04 L1206.03 1568.04 Q1199.25 1568.04 1196.67 1565.53 Q1194.09 1562.98 1194.09 1556.3 L1194.09 1536.95 L1189.8 1536.95 L1189.8 1532.4 L1194.09 1532.4 L1194.09 1522.27 L1199.98 1522.27 Z\" fill=\"#000000\" fill-rule=\"evenodd\" fill-opacity=\"1\" /><path clip-path=\"url(#clip920)\" d=\"M1219.75 1532.4 L1225.6 1532.4 L1225.6 1568.04 L1219.75 1568.04 L1219.75 1532.4 M1219.75 1518.52 L1225.6 1518.52 L1225.6 1525.93 L1219.75 1525.93 L1219.75 1518.52 Z\" fill=\"#000000\" fill-rule=\"evenodd\" fill-opacity=\"1\" /><path clip-path=\"url(#clip920)\" d=\"M1265.61 1539.24 Q1267.81 1535.29 1270.86 1533.41 Q1273.92 1531.54 1278.06 1531.54 Q1283.63 1531.54 1286.65 1535.45 Q1289.67 1539.33 1289.67 1546.53 L1289.67 1568.04 L1283.79 1568.04 L1283.79 1546.72 Q1283.79 1541.59 1281.97 1539.11 Q1280.16 1536.63 1276.43 1536.63 Q1271.88 1536.63 1269.24 1539.65 Q1266.6 1542.68 1266.6 1547.9 L1266.6 1568.04 L1260.71 1568.04 L1260.71 1546.72 Q1260.71 1541.56 1258.9 1539.11 Q1257.08 1536.63 1253.29 1536.63 Q1248.81 1536.63 1246.16 1539.68 Q1243.52 1542.71 1243.52 1547.9 L1243.52 1568.04 L1237.63 1568.04 L1237.63 1532.4 L1243.52 1532.4 L1243.52 1537.93 Q1245.53 1534.66 1248.33 1533.1 Q1251.13 1531.54 1254.98 1531.54 Q1258.86 1531.54 1261.57 1533.51 Q1264.31 1535.48 1265.61 1539.24 Z\" fill=\"#000000\" fill-rule=\"evenodd\" fill-opacity=\"1\" /><path clip-path=\"url(#clip920)\" d=\"M1331.85 1548.76 L1331.85 1551.62 L1304.92 1551.62 Q1305.3 1557.67 1308.55 1560.85 Q1311.83 1564 1317.65 1564 Q1321.02 1564 1324.18 1563.17 Q1327.36 1562.35 1330.48 1560.69 L1330.48 1566.23 Q1327.33 1567.57 1324.02 1568.27 Q1320.71 1568.97 1317.3 1568.97 Q1308.77 1568.97 1303.77 1564 Q1298.81 1559.04 1298.81 1550.57 Q1298.81 1541.82 1303.52 1536.69 Q1308.26 1531.54 1316.28 1531.54 Q1323.48 1531.54 1327.64 1536.18 Q1331.85 1540.8 1331.85 1548.76 M1325.99 1547.04 Q1325.93 1542.23 1323.28 1539.37 Q1320.67 1536.5 1316.35 1536.5 Q1311.44 1536.5 1308.48 1539.27 Q1305.56 1542.04 1305.11 1547.07 L1325.99 1547.04 Z\" fill=\"#000000\" fill-rule=\"evenodd\" fill-opacity=\"1\" /><path clip-path=\"url(#clip920)\" d=\"M1376.25 1518.58 Q1371.98 1525.9 1369.91 1533.06 Q1367.84 1540.23 1367.84 1547.58 Q1367.84 1554.93 1369.91 1562.16 Q1372.01 1569.35 1376.25 1576.64 L1371.15 1576.64 Q1366.38 1569.16 1363.99 1561.93 Q1361.64 1554.71 1361.64 1547.58 Q1361.64 1540.48 1363.99 1533.29 Q1366.35 1526.09 1371.15 1518.58 L1376.25 1518.58 Z\" fill=\"#000000\" fill-rule=\"evenodd\" fill-opacity=\"1\" /><path clip-path=\"url(#clip920)\" d=\"M1410.34 1533.45 L1410.34 1538.98 Q1407.85 1537.71 1405.18 1537.07 Q1402.51 1536.44 1399.64 1536.44 Q1395.28 1536.44 1393.08 1537.77 Q1390.92 1539.11 1390.92 1541.79 Q1390.92 1543.82 1392.48 1545 Q1394.04 1546.15 1398.75 1547.2 L1400.75 1547.64 Q1406.99 1548.98 1409.6 1551.43 Q1412.25 1553.85 1412.25 1558.21 Q1412.25 1563.17 1408.3 1566.07 Q1404.38 1568.97 1397.51 1568.97 Q1394.64 1568.97 1391.52 1568.39 Q1388.44 1567.85 1385 1566.74 L1385 1560.69 Q1388.25 1562.38 1391.4 1563.24 Q1394.55 1564.07 1397.64 1564.07 Q1401.77 1564.07 1404 1562.66 Q1406.23 1561.23 1406.23 1558.65 Q1406.23 1556.27 1404.61 1554.99 Q1403.01 1553.72 1397.57 1552.54 L1395.54 1552.07 Q1390.09 1550.92 1387.67 1548.56 Q1385.25 1546.18 1385.25 1542.04 Q1385.25 1537.01 1388.82 1534.27 Q1392.38 1531.54 1398.94 1531.54 Q1402.19 1531.54 1405.05 1532.01 Q1407.92 1532.49 1410.34 1533.45 Z\" fill=\"#000000\" fill-rule=\"evenodd\" fill-opacity=\"1\" /><path clip-path=\"url(#clip920)\" d=\"M1420.65 1518.58 L1425.74 1518.58 Q1430.51 1526.09 1432.87 1533.29 Q1435.26 1540.48 1435.26 1547.58 Q1435.26 1554.71 1432.87 1561.93 Q1430.51 1569.16 1425.74 1576.64 L1420.65 1576.64 Q1424.88 1569.35 1426.95 1562.16 Q1429.05 1554.93 1429.05 1547.58 Q1429.05 1540.23 1426.95 1533.06 Q1424.88 1525.9 1420.65 1518.58 Z\" fill=\"#000000\" fill-rule=\"evenodd\" fill-opacity=\"1\" /><polyline clip-path=\"url(#clip922)\" style=\"stroke:#000000; stroke-linecap:round; stroke-linejoin:round; stroke-width:2; stroke-opacity:0.1; fill:none\" points=\"272.297,1327.09 2352.76,1327.09 \"/>\n",
       "<polyline clip-path=\"url(#clip922)\" style=\"stroke:#000000; stroke-linecap:round; stroke-linejoin:round; stroke-width:2; stroke-opacity:0.1; fill:none\" points=\"272.297,1090.84 2352.76,1090.84 \"/>\n",
       "<polyline clip-path=\"url(#clip922)\" style=\"stroke:#000000; stroke-linecap:round; stroke-linejoin:round; stroke-width:2; stroke-opacity:0.1; fill:none\" points=\"272.297,854.589 2352.76,854.589 \"/>\n",
       "<polyline clip-path=\"url(#clip922)\" style=\"stroke:#000000; stroke-linecap:round; stroke-linejoin:round; stroke-width:2; stroke-opacity:0.1; fill:none\" points=\"272.297,618.337 2352.76,618.337 \"/>\n",
       "<polyline clip-path=\"url(#clip922)\" style=\"stroke:#000000; stroke-linecap:round; stroke-linejoin:round; stroke-width:2; stroke-opacity:0.1; fill:none\" points=\"272.297,382.086 2352.76,382.086 \"/>\n",
       "<polyline clip-path=\"url(#clip922)\" style=\"stroke:#000000; stroke-linecap:round; stroke-linejoin:round; stroke-width:2; stroke-opacity:0.1; fill:none\" points=\"272.297,145.834 2352.76,145.834 \"/>\n",
       "<polyline clip-path=\"url(#clip920)\" style=\"stroke:#000000; stroke-linecap:round; stroke-linejoin:round; stroke-width:4; stroke-opacity:1; fill:none\" points=\"272.297,1423.18 272.297,123.472 \"/>\n",
       "<polyline clip-path=\"url(#clip920)\" style=\"stroke:#000000; stroke-linecap:round; stroke-linejoin:round; stroke-width:4; stroke-opacity:1; fill:none\" points=\"272.297,1327.09 291.194,1327.09 \"/>\n",
       "<polyline clip-path=\"url(#clip920)\" style=\"stroke:#000000; stroke-linecap:round; stroke-linejoin:round; stroke-width:4; stroke-opacity:1; fill:none\" points=\"272.297,1090.84 291.194,1090.84 \"/>\n",
       "<polyline clip-path=\"url(#clip920)\" style=\"stroke:#000000; stroke-linecap:round; stroke-linejoin:round; stroke-width:4; stroke-opacity:1; fill:none\" points=\"272.297,854.589 291.194,854.589 \"/>\n",
       "<polyline clip-path=\"url(#clip920)\" style=\"stroke:#000000; stroke-linecap:round; stroke-linejoin:round; stroke-width:4; stroke-opacity:1; fill:none\" points=\"272.297,618.337 291.194,618.337 \"/>\n",
       "<polyline clip-path=\"url(#clip920)\" style=\"stroke:#000000; stroke-linecap:round; stroke-linejoin:round; stroke-width:4; stroke-opacity:1; fill:none\" points=\"272.297,382.086 291.194,382.086 \"/>\n",
       "<polyline clip-path=\"url(#clip920)\" style=\"stroke:#000000; stroke-linecap:round; stroke-linejoin:round; stroke-width:4; stroke-opacity:1; fill:none\" points=\"272.297,145.834 291.194,145.834 \"/>\n",
       "<path clip-path=\"url(#clip920)\" d=\"M114.26 1327.54 L143.936 1327.54 L143.936 1331.48 L114.26 1331.48 L114.26 1327.54 Z\" fill=\"#000000\" fill-rule=\"evenodd\" fill-opacity=\"1\" /><path clip-path=\"url(#clip920)\" d=\"M154.075 1309.81 L172.431 1309.81 L172.431 1313.75 L158.357 1313.75 L158.357 1322.22 Q159.376 1321.87 160.394 1321.71 Q161.413 1321.53 162.431 1321.53 Q168.218 1321.53 171.598 1324.7 Q174.977 1327.87 174.977 1333.28 Q174.977 1338.86 171.505 1341.96 Q168.033 1345.04 161.714 1345.04 Q159.538 1345.04 157.269 1344.67 Q155.024 1344.3 152.616 1343.56 L152.616 1338.86 Q154.7 1340 156.922 1340.55 Q159.144 1341.11 161.621 1341.11 Q165.626 1341.11 167.964 1339 Q170.302 1336.9 170.302 1333.28 Q170.302 1329.67 167.964 1327.57 Q165.626 1325.46 161.621 1325.46 Q159.746 1325.46 157.871 1325.88 Q156.019 1326.29 154.075 1327.17 L154.075 1309.81 Z\" fill=\"#000000\" fill-rule=\"evenodd\" fill-opacity=\"1\" /><path clip-path=\"url(#clip920)\" d=\"M194.19 1312.89 Q190.579 1312.89 188.75 1316.46 Q186.945 1320 186.945 1327.13 Q186.945 1334.23 188.75 1337.8 Q190.579 1341.34 194.19 1341.34 Q197.825 1341.34 199.63 1337.8 Q201.459 1334.23 201.459 1327.13 Q201.459 1320 199.63 1316.46 Q197.825 1312.89 194.19 1312.89 M194.19 1309.19 Q200 1309.19 203.056 1313.79 Q206.135 1318.38 206.135 1327.13 Q206.135 1335.85 203.056 1340.46 Q200 1345.04 194.19 1345.04 Q188.38 1345.04 185.301 1340.46 Q182.246 1335.85 182.246 1327.13 Q182.246 1318.38 185.301 1313.79 Q188.38 1309.19 194.19 1309.19 Z\" fill=\"#000000\" fill-rule=\"evenodd\" fill-opacity=\"1\" /><path clip-path=\"url(#clip920)\" d=\"M224.352 1312.89 Q220.741 1312.89 218.912 1316.46 Q217.107 1320 217.107 1327.13 Q217.107 1334.23 218.912 1337.8 Q220.741 1341.34 224.352 1341.34 Q227.986 1341.34 229.792 1337.8 Q231.621 1334.23 231.621 1327.13 Q231.621 1320 229.792 1316.46 Q227.986 1312.89 224.352 1312.89 M224.352 1309.19 Q230.162 1309.19 233.218 1313.79 Q236.297 1318.38 236.297 1327.13 Q236.297 1335.85 233.218 1340.46 Q230.162 1345.04 224.352 1345.04 Q218.542 1345.04 215.463 1340.46 Q212.408 1335.85 212.408 1327.13 Q212.408 1318.38 215.463 1313.79 Q218.542 1309.19 224.352 1309.19 Z\" fill=\"#000000\" fill-rule=\"evenodd\" fill-opacity=\"1\" /><path clip-path=\"url(#clip920)\" d=\"M224.352 1076.64 Q220.741 1076.64 218.912 1080.2 Q217.107 1083.75 217.107 1090.88 Q217.107 1097.98 218.912 1101.55 Q220.741 1105.09 224.352 1105.09 Q227.986 1105.09 229.792 1101.55 Q231.621 1097.98 231.621 1090.88 Q231.621 1083.75 229.792 1080.2 Q227.986 1076.64 224.352 1076.64 M224.352 1072.94 Q230.162 1072.94 233.218 1077.54 Q236.297 1082.13 236.297 1090.88 Q236.297 1099.6 233.218 1104.21 Q230.162 1108.79 224.352 1108.79 Q218.542 1108.79 215.463 1104.21 Q212.408 1099.6 212.408 1090.88 Q212.408 1082.13 215.463 1077.54 Q218.542 1072.94 224.352 1072.94 Z\" fill=\"#000000\" fill-rule=\"evenodd\" fill-opacity=\"1\" /><path clip-path=\"url(#clip920)\" d=\"M154.075 837.309 L172.431 837.309 L172.431 841.244 L158.357 841.244 L158.357 849.716 Q159.376 849.369 160.394 849.207 Q161.413 849.022 162.431 849.022 Q168.218 849.022 171.598 852.193 Q174.977 855.364 174.977 860.781 Q174.977 866.36 171.505 869.462 Q168.033 872.54 161.714 872.54 Q159.538 872.54 157.269 872.17 Q155.024 871.8 152.616 871.059 L152.616 866.36 Q154.7 867.494 156.922 868.05 Q159.144 868.605 161.621 868.605 Q165.626 868.605 167.964 866.499 Q170.302 864.392 170.302 860.781 Q170.302 857.17 167.964 855.064 Q165.626 852.957 161.621 852.957 Q159.746 852.957 157.871 853.374 Q156.019 853.79 154.075 854.67 L154.075 837.309 Z\" fill=\"#000000\" fill-rule=\"evenodd\" fill-opacity=\"1\" /><path clip-path=\"url(#clip920)\" d=\"M194.19 840.388 Q190.579 840.388 188.75 843.952 Q186.945 847.494 186.945 854.624 Q186.945 861.73 188.75 865.295 Q190.579 868.837 194.19 868.837 Q197.825 868.837 199.63 865.295 Q201.459 861.73 201.459 854.624 Q201.459 847.494 199.63 843.952 Q197.825 840.388 194.19 840.388 M194.19 836.684 Q200 836.684 203.056 841.29 Q206.135 845.874 206.135 854.624 Q206.135 863.351 203.056 867.957 Q200 872.54 194.19 872.54 Q188.38 872.54 185.301 867.957 Q182.246 863.351 182.246 854.624 Q182.246 845.874 185.301 841.29 Q188.38 836.684 194.19 836.684 Z\" fill=\"#000000\" fill-rule=\"evenodd\" fill-opacity=\"1\" /><path clip-path=\"url(#clip920)\" d=\"M224.352 840.388 Q220.741 840.388 218.912 843.952 Q217.107 847.494 217.107 854.624 Q217.107 861.73 218.912 865.295 Q220.741 868.837 224.352 868.837 Q227.986 868.837 229.792 865.295 Q231.621 861.73 231.621 854.624 Q231.621 847.494 229.792 843.952 Q227.986 840.388 224.352 840.388 M224.352 836.684 Q230.162 836.684 233.218 841.29 Q236.297 845.874 236.297 854.624 Q236.297 863.351 233.218 867.957 Q230.162 872.54 224.352 872.54 Q218.542 872.54 215.463 867.957 Q212.408 863.351 212.408 854.624 Q212.408 845.874 215.463 841.29 Q218.542 836.684 224.352 836.684 Z\" fill=\"#000000\" fill-rule=\"evenodd\" fill-opacity=\"1\" /><path clip-path=\"url(#clip920)\" d=\"M124.677 631.682 L132.316 631.682 L132.316 605.317 L124.005 606.983 L124.005 602.724 L132.269 601.057 L136.945 601.057 L136.945 631.682 L144.584 631.682 L144.584 635.617 L124.677 635.617 L124.677 631.682 Z\" fill=\"#000000\" fill-rule=\"evenodd\" fill-opacity=\"1\" /><path clip-path=\"url(#clip920)\" d=\"M164.028 604.136 Q160.417 604.136 158.589 607.701 Q156.783 611.243 156.783 618.372 Q156.783 625.479 158.589 629.043 Q160.417 632.585 164.028 632.585 Q167.663 632.585 169.468 629.043 Q171.297 625.479 171.297 618.372 Q171.297 611.243 169.468 607.701 Q167.663 604.136 164.028 604.136 M164.028 600.432 Q169.839 600.432 172.894 605.039 Q175.973 609.622 175.973 618.372 Q175.973 627.099 172.894 631.705 Q169.839 636.289 164.028 636.289 Q158.218 636.289 155.14 631.705 Q152.084 627.099 152.084 618.372 Q152.084 609.622 155.14 605.039 Q158.218 600.432 164.028 600.432 Z\" fill=\"#000000\" fill-rule=\"evenodd\" fill-opacity=\"1\" /><path clip-path=\"url(#clip920)\" d=\"M194.19 604.136 Q190.579 604.136 188.75 607.701 Q186.945 611.243 186.945 618.372 Q186.945 625.479 188.75 629.043 Q190.579 632.585 194.19 632.585 Q197.825 632.585 199.63 629.043 Q201.459 625.479 201.459 618.372 Q201.459 611.243 199.63 607.701 Q197.825 604.136 194.19 604.136 M194.19 600.432 Q200 600.432 203.056 605.039 Q206.135 609.622 206.135 618.372 Q206.135 627.099 203.056 631.705 Q200 636.289 194.19 636.289 Q188.38 636.289 185.301 631.705 Q182.246 627.099 182.246 618.372 Q182.246 609.622 185.301 605.039 Q188.38 600.432 194.19 600.432 Z\" fill=\"#000000\" fill-rule=\"evenodd\" fill-opacity=\"1\" /><path clip-path=\"url(#clip920)\" d=\"M224.352 604.136 Q220.741 604.136 218.912 607.701 Q217.107 611.243 217.107 618.372 Q217.107 625.479 218.912 629.043 Q220.741 632.585 224.352 632.585 Q227.986 632.585 229.792 629.043 Q231.621 625.479 231.621 618.372 Q231.621 611.243 229.792 607.701 Q227.986 604.136 224.352 604.136 M224.352 600.432 Q230.162 600.432 233.218 605.039 Q236.297 609.622 236.297 618.372 Q236.297 627.099 233.218 631.705 Q230.162 636.289 224.352 636.289 Q218.542 636.289 215.463 631.705 Q212.408 627.099 212.408 618.372 Q212.408 609.622 215.463 605.039 Q218.542 600.432 224.352 600.432 Z\" fill=\"#000000\" fill-rule=\"evenodd\" fill-opacity=\"1\" /><path clip-path=\"url(#clip920)\" d=\"M124.677 395.431 L132.316 395.431 L132.316 369.065 L124.005 370.732 L124.005 366.472 L132.269 364.806 L136.945 364.806 L136.945 395.431 L144.584 395.431 L144.584 399.366 L124.677 399.366 L124.677 395.431 Z\" fill=\"#000000\" fill-rule=\"evenodd\" fill-opacity=\"1\" /><path clip-path=\"url(#clip920)\" d=\"M154.075 364.806 L172.431 364.806 L172.431 368.741 L158.357 368.741 L158.357 377.213 Q159.376 376.866 160.394 376.704 Q161.413 376.519 162.431 376.519 Q168.218 376.519 171.598 379.69 Q174.977 382.861 174.977 388.278 Q174.977 393.857 171.505 396.958 Q168.033 400.037 161.714 400.037 Q159.538 400.037 157.269 399.667 Q155.024 399.296 152.616 398.556 L152.616 393.857 Q154.7 394.991 156.922 395.546 Q159.144 396.102 161.621 396.102 Q165.626 396.102 167.964 393.995 Q170.302 391.889 170.302 388.278 Q170.302 384.667 167.964 382.56 Q165.626 380.454 161.621 380.454 Q159.746 380.454 157.871 380.87 Q156.019 381.287 154.075 382.167 L154.075 364.806 Z\" fill=\"#000000\" fill-rule=\"evenodd\" fill-opacity=\"1\" /><path clip-path=\"url(#clip920)\" d=\"M194.19 367.884 Q190.579 367.884 188.75 371.449 Q186.945 374.991 186.945 382.12 Q186.945 389.227 188.75 392.792 Q190.579 396.333 194.19 396.333 Q197.825 396.333 199.63 392.792 Q201.459 389.227 201.459 382.12 Q201.459 374.991 199.63 371.449 Q197.825 367.884 194.19 367.884 M194.19 364.181 Q200 364.181 203.056 368.787 Q206.135 373.371 206.135 382.12 Q206.135 390.847 203.056 395.454 Q200 400.037 194.19 400.037 Q188.38 400.037 185.301 395.454 Q182.246 390.847 182.246 382.12 Q182.246 373.371 185.301 368.787 Q188.38 364.181 194.19 364.181 Z\" fill=\"#000000\" fill-rule=\"evenodd\" fill-opacity=\"1\" /><path clip-path=\"url(#clip920)\" d=\"M224.352 367.884 Q220.741 367.884 218.912 371.449 Q217.107 374.991 217.107 382.12 Q217.107 389.227 218.912 392.792 Q220.741 396.333 224.352 396.333 Q227.986 396.333 229.792 392.792 Q231.621 389.227 231.621 382.12 Q231.621 374.991 229.792 371.449 Q227.986 367.884 224.352 367.884 M224.352 364.181 Q230.162 364.181 233.218 368.787 Q236.297 373.371 236.297 382.12 Q236.297 390.847 233.218 395.454 Q230.162 400.037 224.352 400.037 Q218.542 400.037 215.463 395.454 Q212.408 390.847 212.408 382.12 Q212.408 373.371 215.463 368.787 Q218.542 364.181 224.352 364.181 Z\" fill=\"#000000\" fill-rule=\"evenodd\" fill-opacity=\"1\" /><path clip-path=\"url(#clip920)\" d=\"M127.894 159.179 L144.214 159.179 L144.214 163.114 L122.269 163.114 L122.269 159.179 Q124.931 156.424 129.515 151.795 Q134.121 147.142 135.302 145.799 Q137.547 143.276 138.427 141.54 Q139.329 139.781 139.329 138.091 Q139.329 135.337 137.385 133.6 Q135.464 131.864 132.362 131.864 Q130.163 131.864 127.709 132.628 Q125.279 133.392 122.501 134.943 L122.501 130.221 Q125.325 129.087 127.779 128.508 Q130.232 127.929 132.269 127.929 Q137.64 127.929 140.834 130.614 Q144.029 133.299 144.029 137.79 Q144.029 139.92 143.218 141.841 Q142.431 143.739 140.325 146.332 Q139.746 147.003 136.644 150.221 Q133.542 153.415 127.894 159.179 Z\" fill=\"#000000\" fill-rule=\"evenodd\" fill-opacity=\"1\" /><path clip-path=\"url(#clip920)\" d=\"M164.028 131.633 Q160.417 131.633 158.589 135.198 Q156.783 138.739 156.783 145.869 Q156.783 152.975 158.589 156.54 Q160.417 160.082 164.028 160.082 Q167.663 160.082 169.468 156.54 Q171.297 152.975 171.297 145.869 Q171.297 138.739 169.468 135.198 Q167.663 131.633 164.028 131.633 M164.028 127.929 Q169.839 127.929 172.894 132.536 Q175.973 137.119 175.973 145.869 Q175.973 154.596 172.894 159.202 Q169.839 163.785 164.028 163.785 Q158.218 163.785 155.14 159.202 Q152.084 154.596 152.084 145.869 Q152.084 137.119 155.14 132.536 Q158.218 127.929 164.028 127.929 Z\" fill=\"#000000\" fill-rule=\"evenodd\" fill-opacity=\"1\" /><path clip-path=\"url(#clip920)\" d=\"M194.19 131.633 Q190.579 131.633 188.75 135.198 Q186.945 138.739 186.945 145.869 Q186.945 152.975 188.75 156.54 Q190.579 160.082 194.19 160.082 Q197.825 160.082 199.63 156.54 Q201.459 152.975 201.459 145.869 Q201.459 138.739 199.63 135.198 Q197.825 131.633 194.19 131.633 M194.19 127.929 Q200 127.929 203.056 132.536 Q206.135 137.119 206.135 145.869 Q206.135 154.596 203.056 159.202 Q200 163.785 194.19 163.785 Q188.38 163.785 185.301 159.202 Q182.246 154.596 182.246 145.869 Q182.246 137.119 185.301 132.536 Q188.38 127.929 194.19 127.929 Z\" fill=\"#000000\" fill-rule=\"evenodd\" fill-opacity=\"1\" /><path clip-path=\"url(#clip920)\" d=\"M224.352 131.633 Q220.741 131.633 218.912 135.198 Q217.107 138.739 217.107 145.869 Q217.107 152.975 218.912 156.54 Q220.741 160.082 224.352 160.082 Q227.986 160.082 229.792 156.54 Q231.621 152.975 231.621 145.869 Q231.621 138.739 229.792 135.198 Q227.986 131.633 224.352 131.633 M224.352 127.929 Q230.162 127.929 233.218 132.536 Q236.297 137.119 236.297 145.869 Q236.297 154.596 233.218 159.202 Q230.162 163.785 224.352 163.785 Q218.542 163.785 215.463 159.202 Q212.408 154.596 212.408 145.869 Q212.408 137.119 215.463 132.536 Q218.542 127.929 224.352 127.929 Z\" fill=\"#000000\" fill-rule=\"evenodd\" fill-opacity=\"1\" /><path clip-path=\"url(#clip920)\" d=\"M49.9359 788.254 L28.3562 788.254 L28.3562 782.397 L49.7131 782.397 Q54.7739 782.397 57.3202 780.424 Q59.8346 778.45 59.8346 774.504 Q59.8346 769.761 56.8109 767.024 Q53.7872 764.255 48.5673 764.255 L28.3562 764.255 L28.3562 758.398 L64.0042 758.398 L64.0042 764.255 L58.5296 764.255 Q61.7762 766.387 63.3676 769.22 Q64.9272 772.021 64.9272 775.745 Q64.9272 781.888 61.1078 785.071 Q57.2883 788.254 49.9359 788.254 M27.4968 773.517 L27.4968 773.517 Z\" fill=\"#000000\" fill-rule=\"evenodd\" fill-opacity=\"1\" /><path clip-path=\"url(#clip920)\" d=\"M1049.66 12.096 L1057.85 12.096 L1057.85 72.576 L1049.66 72.576 L1049.66 12.096 Z\" fill=\"#000000\" fill-rule=\"evenodd\" fill-opacity=\"1\" /><path clip-path=\"url(#clip920)\" d=\"M1111.52 45.1919 L1111.52 72.576 L1104.07 72.576 L1104.07 45.4349 Q1104.07 38.994 1101.56 35.7938 Q1099.04 32.5936 1094.02 32.5936 Q1087.98 32.5936 1084.5 36.4419 Q1081.02 40.2903 1081.02 46.9338 L1081.02 72.576 L1073.52 72.576 L1073.52 27.2059 L1081.02 27.2059 L1081.02 34.2544 Q1083.69 30.163 1087.3 28.1376 Q1090.94 26.1121 1095.68 26.1121 Q1103.5 26.1121 1107.51 30.9732 Q1111.52 35.7938 1111.52 45.1919 Z\" fill=\"#000000\" fill-rule=\"evenodd\" fill-opacity=\"1\" /><path clip-path=\"url(#clip920)\" d=\"M1133.6 65.7705 L1133.6 89.8329 L1126.1 89.8329 L1126.1 27.2059 L1133.6 27.2059 L1133.6 34.0924 Q1135.95 30.0415 1139.51 28.0971 Q1143.12 26.1121 1148.1 26.1121 Q1156.36 26.1121 1161.51 32.6746 Q1166.69 39.2371 1166.69 49.9314 Q1166.69 60.6258 1161.51 67.1883 Q1156.36 73.7508 1148.1 73.7508 Q1143.12 73.7508 1139.51 71.8063 Q1135.95 69.8214 1133.6 65.7705 M1158.96 49.9314 Q1158.96 41.7081 1155.55 37.0496 Q1152.19 32.3505 1146.28 32.3505 Q1140.36 32.3505 1136.96 37.0496 Q1133.6 41.7081 1133.6 49.9314 Q1133.6 58.1548 1136.96 62.8538 Q1140.36 67.5124 1146.28 67.5124 Q1152.19 67.5124 1155.55 62.8538 Q1158.96 58.1548 1158.96 49.9314 Z\" fill=\"#000000\" fill-rule=\"evenodd\" fill-opacity=\"1\" /><path clip-path=\"url(#clip920)\" d=\"M1178.28 54.671 L1178.28 27.2059 L1185.73 27.2059 L1185.73 54.3874 Q1185.73 60.8284 1188.24 64.0691 Q1190.76 67.2693 1195.78 67.2693 Q1201.82 67.2693 1205.3 63.421 Q1208.82 59.5726 1208.82 52.9291 L1208.82 27.2059 L1216.28 27.2059 L1216.28 72.576 L1208.82 72.576 L1208.82 65.6084 Q1206.11 69.7404 1202.5 71.7658 Q1198.94 73.7508 1194.2 73.7508 Q1186.38 73.7508 1182.33 68.8897 Q1178.28 64.0286 1178.28 54.671 M1197.03 26.1121 L1197.03 26.1121 Z\" fill=\"#000000\" fill-rule=\"evenodd\" fill-opacity=\"1\" /><path clip-path=\"url(#clip920)\" d=\"M1239 14.324 L1239 27.2059 L1254.36 27.2059 L1254.36 32.9987 L1239 32.9987 L1239 57.6282 Q1239 63.1779 1240.5 64.7578 Q1242.04 66.3376 1246.7 66.3376 L1254.36 66.3376 L1254.36 72.576 L1246.7 72.576 Q1238.07 72.576 1234.79 69.3758 Q1231.51 66.1351 1231.51 57.6282 L1231.51 32.9987 L1226.04 32.9987 L1226.04 27.2059 L1231.51 27.2059 L1231.51 14.324 L1239 14.324 Z\" fill=\"#000000\" fill-rule=\"evenodd\" fill-opacity=\"1\" /><path clip-path=\"url(#clip920)\" d=\"M1290.85 12.096 L1299.04 12.096 L1299.04 36.8875 L1328.77 36.8875 L1328.77 12.096 L1336.95 12.096 L1336.95 72.576 L1328.77 72.576 L1328.77 43.7741 L1299.04 43.7741 L1299.04 72.576 L1290.85 72.576 L1290.85 12.096 Z\" fill=\"#000000\" fill-rule=\"evenodd\" fill-opacity=\"1\" /><path clip-path=\"url(#clip920)\" d=\"M1352.91 27.2059 L1360.37 27.2059 L1360.37 72.576 L1352.91 72.576 L1352.91 27.2059 M1352.91 9.54393 L1360.37 9.54393 L1360.37 18.9825 L1352.91 18.9825 L1352.91 9.54393 Z\" fill=\"#000000\" fill-rule=\"evenodd\" fill-opacity=\"1\" /><path clip-path=\"url(#clip920)\" d=\"M1404.89 28.5427 L1404.89 35.5912 Q1401.73 33.9709 1398.32 33.1607 Q1394.92 32.3505 1391.28 32.3505 Q1385.73 32.3505 1382.93 34.0519 Q1380.18 35.7533 1380.18 39.156 Q1380.18 41.7486 1382.16 43.2475 Q1384.15 44.7058 1390.14 46.0426 L1392.69 46.6097 Q1400.63 48.3111 1403.96 51.4303 Q1407.32 54.509 1407.32 60.0587 Q1407.32 66.3781 1402.29 70.0644 Q1397.31 73.7508 1388.56 73.7508 Q1384.92 73.7508 1380.95 73.0216 Q1377.02 72.3329 1372.64 70.9151 L1372.64 63.2184 Q1376.77 65.3654 1380.78 66.4591 Q1384.79 67.5124 1388.72 67.5124 Q1393.99 67.5124 1396.83 65.73 Q1399.66 63.9071 1399.66 60.6258 Q1399.66 57.5877 1397.6 55.9673 Q1395.57 54.3469 1388.64 52.8481 L1386.05 52.2405 Q1379.12 50.7821 1376.04 47.7845 Q1372.97 44.7463 1372.97 39.4801 Q1372.97 33.0797 1377.5 29.5959 Q1382.04 26.1121 1390.38 26.1121 Q1394.52 26.1121 1398.16 26.7198 Q1401.81 27.3274 1404.89 28.5427 Z\" fill=\"#000000\" fill-rule=\"evenodd\" fill-opacity=\"1\" /><path clip-path=\"url(#clip920)\" d=\"M1426.56 14.324 L1426.56 27.2059 L1441.91 27.2059 L1441.91 32.9987 L1426.56 32.9987 L1426.56 57.6282 Q1426.56 63.1779 1428.06 64.7578 Q1429.6 66.3376 1434.26 66.3376 L1441.91 66.3376 L1441.91 72.576 L1434.26 72.576 Q1425.63 72.576 1422.35 69.3758 Q1419.07 66.1351 1419.07 57.6282 L1419.07 32.9987 L1413.6 32.9987 L1413.6 27.2059 L1419.07 27.2059 L1419.07 14.324 L1426.56 14.324 Z\" fill=\"#000000\" fill-rule=\"evenodd\" fill-opacity=\"1\" /><path clip-path=\"url(#clip920)\" d=\"M1469.3 32.4315 Q1463.3 32.4315 1459.82 37.1306 Q1456.33 41.7891 1456.33 49.9314 Q1456.33 58.0738 1459.78 62.7728 Q1463.26 67.4314 1469.3 67.4314 Q1475.25 67.4314 1478.73 62.7323 Q1482.22 58.0333 1482.22 49.9314 Q1482.22 41.8701 1478.73 37.1711 Q1475.25 32.4315 1469.3 32.4315 M1469.3 26.1121 Q1479.02 26.1121 1484.57 32.4315 Q1490.12 38.7509 1490.12 49.9314 Q1490.12 61.0714 1484.57 67.4314 Q1479.02 73.7508 1469.3 73.7508 Q1459.53 73.7508 1453.98 67.4314 Q1448.47 61.0714 1448.47 49.9314 Q1448.47 38.7509 1453.98 32.4315 Q1459.53 26.1121 1469.3 26.1121 Z\" fill=\"#000000\" fill-rule=\"evenodd\" fill-opacity=\"1\" /><path clip-path=\"url(#clip920)\" d=\"M1528.76 34.1734 Q1527.51 33.4443 1526.01 33.1202 Q1524.55 32.7556 1522.77 32.7556 Q1516.45 32.7556 1513.05 36.8875 Q1509.68 40.9789 1509.68 48.6757 L1509.68 72.576 L1502.19 72.576 L1502.19 27.2059 L1509.68 27.2059 L1509.68 34.2544 Q1512.03 30.1225 1515.8 28.1376 Q1519.57 26.1121 1524.96 26.1121 Q1525.73 26.1121 1526.66 26.2337 Q1527.59 26.3147 1528.72 26.5172 L1528.76 34.1734 Z\" fill=\"#000000\" fill-rule=\"evenodd\" fill-opacity=\"1\" /><path clip-path=\"url(#clip920)\" d=\"M1555.46 76.7889 Q1552.3 84.8907 1549.3 87.3618 Q1546.3 89.8329 1541.28 89.8329 L1535.33 89.8329 L1535.33 83.5945 L1539.7 83.5945 Q1542.78 83.5945 1544.48 82.1361 Q1546.18 80.6778 1548.25 75.2496 L1549.59 71.8468 L1531.23 27.2059 L1539.13 27.2059 L1553.31 62.6918 L1567.49 27.2059 L1575.39 27.2059 L1555.46 76.7889 Z\" fill=\"#000000\" fill-rule=\"evenodd\" fill-opacity=\"1\" /><polyline clip-path=\"url(#clip922)\" style=\"stroke:#009af9; stroke-linecap:round; stroke-linejoin:round; stroke-width:4; stroke-opacity:1; fill:none\" points=\"331.177,1090.55 353.481,1090.25 375.784,1089.94 398.088,1089.64 420.391,1089.4 442.694,1089.09 464.998,1088.88 487.301,1088.63 509.605,1088.39 531.908,1089.3 554.211,1087.8 576.515,1087.52 598.818,1087.43 621.121,1087.16 643.425,1087.06 665.728,1086.85 688.032,1086.69 710.335,1086.5 732.638,1088.66 754.942,1086.2 777.245,1086.04 799.548,1085.99 821.852,1085.84 844.155,1088.19 866.459,1088.12 888.762,1102.68 911.065,1091.38 933.369,1112.83 955.672,1092.9 977.976,1090.84 1000.28,1091.27 1022.58,1090.84 1044.89,1091.02 1067.19,1088.62 1089.49,1090.84 1111.8,1091 1134.1,1088.92 1156.4,1089.16 1178.71,1094.67 1201.01,1089.45 1223.31,1092.34 1245.62,1113.53 1267.92,1091.12 1290.22,1087.99 1312.53,1091.25 1334.83,1088.42 1357.13,1090.92 1379.44,1090.85 1401.74,1090.93 1424.04,1090.93 1446.35,1106.33 1468.65,1090.84 1490.95,1191.48 1513.26,1090.99 1535.56,1090.96 1557.86,1077.71 1580.17,1091.3 1602.47,1091.23 1624.77,1079.09 1647.08,1090.9 1669.38,1090.85 1691.68,1090.85 1713.99,1079.81 1736.29,1096.25 1758.59,1092.06 1780.9,1090.85 1803.2,1090.96 1825.5,1090.84 1847.81,1214.14 1870.11,1090.98 1892.41,1091.06 1914.72,1096.39 1937.02,1068.17 1959.32,1091.21 1981.63,1090.91 2003.93,1091.06 2026.23,1090.85 2048.54,1090.85 2070.84,1110.1 2093.14,1091.2 2115.45,1145.16 2137.75,1118.37 2160.05,1093.52 2182.36,1093.9 2204.66,1090.93 2226.96,1163.74 2249.27,1090.85 2271.57,1050.82 2293.87,1130.28 \"/>\n",
       "<polyline clip-path=\"url(#clip922)\" style=\"stroke:#e26f46; stroke-linecap:round; stroke-linejoin:round; stroke-width:4; stroke-opacity:1; fill:none\" points=\"331.177,1096.31 353.481,1096.29 375.784,1096.41 398.088,1096.6 420.391,1096.57 442.694,1096.63 464.998,1096.59 487.301,1096.63 509.605,1096.67 531.908,1093.7 554.211,1097.06 576.515,1097.16 598.818,1097.01 621.121,1097.11 643.425,1096.97 665.728,1097.03 688.032,1097.01 710.335,1097.04 732.638,1093.62 754.942,1097.05 777.245,1097.06 799.548,1096.95 821.852,1096.97 844.155,1093.84 866.459,1093.93 888.762,1077.22 911.065,1090.24 933.369,1067.03 955.672,1088.62 977.976,1090.84 1000.28,1090.39 1022.58,1090.84 1044.89,1090.66 1067.19,1093.11 1089.49,1090.84 1111.8,1090.67 1134.1,1092.76 1156.4,1092.51 1178.71,1087.06 1201.01,1092.2 1223.31,1089.38 1245.62,1068.86 1267.92,1090.58 1290.22,1093.58 1312.53,1090.45 1334.83,1093.14 1357.13,1090.77 1379.44,1090.84 1401.74,1090.76 1424.04,1090.76 1446.35,1076.46 1468.65,1090.84 1490.95,998.22 1513.26,1090.7 1535.56,1090.73 1557.86,1102.86 1580.17,1090.42 1602.47,1090.49 1624.77,1101.49 1647.08,1090.78 1669.38,1090.83 1691.68,1090.84 1713.99,1100.7 1736.29,1086.02 1758.59,1089.76 1780.9,1090.83 1803.2,1090.74 1825.5,1090.84 1847.81,982.589 1870.11,1090.71 1892.41,1090.65 1914.72,1086 1937.02,1110.56 1959.32,1090.52 1981.63,1090.78 2003.93,1090.65 2026.23,1090.84 2048.54,1090.83 2070.84,1074.37 2093.14,1090.53 2115.45,1044.8 2137.75,1067.47 2160.05,1088.57 2182.36,1088.26 2204.66,1090.77 2226.96,1029.89 2249.27,1090.83 2271.57,1124.24 2293.87,1057.97 \"/>\n",
       "<polyline clip-path=\"url(#clip922)\" style=\"stroke:#3da44d; stroke-linecap:round; stroke-linejoin:round; stroke-width:4; stroke-opacity:1; fill:none\" points=\"331.177,1051.02 353.481,1049.81 375.784,1049.65 398.088,1050.05 420.391,1049.05 442.694,1048.42 464.998,1047.43 487.301,1046.93 509.605,1046.54 531.908,1040.57 554.211,1047.05 576.515,1047.43 598.818,1045.69 621.121,1046.2 643.425,1044.76 665.728,1045.05 688.032,1044.75 710.335,1044.95 732.638,1036.1 754.942,1043.48 777.245,1043.72 799.548,1043.01 821.852,1043.45 844.155,1035.93 866.459,1050.26 888.762,940.638 911.065,1085.96 933.369,905.636 955.672,1073.67 977.976,1090.81 1000.28,1087.06 1022.58,1090.81 1044.89,1089.37 1067.19,1108.83 1089.49,1090.8 1111.8,1089.43 1134.1,1106.2 1156.4,1104.24 1178.71,1060.3 1201.01,1101.85 1223.31,1078.94 1245.62,904.319 1267.92,1088.65 1290.22,1113.24 1312.53,1087.59 1334.83,1109.74 1357.13,1090.21 1379.44,1090.78 1401.74,1090.14 1424.04,1090.15 1446.35,970.92 1468.65,1090.8 1490.95,315.115 1513.26,1089.64 1535.56,1089.87 1557.86,1191.76 1580.17,1087.28 1602.47,1087.85 1624.77,1180.75 1647.08,1090.34 1669.38,1090.76 1691.68,1090.78 1713.99,1174.71 1736.29,1049.69 1758.59,1081.55 1780.9,1090.76 1803.2,1089.92 1825.5,1090.81 1847.81,160.256 1870.11,1089.73 1892.41,1089.13 1914.72,1049.02 1937.02,1261.2 1959.32,1088 1981.63,1090.29 2003.93,1089.18 2026.23,1090.77 2048.54,1090.76 2070.84,947.079 2093.14,1088.11 2115.45,686.97 2137.75,885.982 2160.05,1070.91 2182.36,1068.1 2204.66,1090.17 2226.96,551.883 2249.27,1090.76 2271.57,1386.4 2293.87,799.608 \"/>\n",
       "<path clip-path=\"url(#clip920)\" d=\"M341.645 374.156 L592.307 374.156 L592.307 166.796 L341.645 166.796  Z\" fill=\"#ffffff\" fill-rule=\"evenodd\" fill-opacity=\"1\"/>\n",
       "<polyline clip-path=\"url(#clip920)\" style=\"stroke:#000000; stroke-linecap:round; stroke-linejoin:round; stroke-width:4; stroke-opacity:1; fill:none\" points=\"341.645,374.156 592.307,374.156 592.307,166.796 341.645,166.796 341.645,374.156 \"/>\n",
       "<polyline clip-path=\"url(#clip920)\" style=\"stroke:#009af9; stroke-linecap:round; stroke-linejoin:round; stroke-width:4; stroke-opacity:1; fill:none\" points=\"364.761,218.636 503.459,218.636 \"/>\n",
       "<path clip-path=\"url(#clip920)\" d=\"M526.575 225.684 L526.575 209.99 L530.834 209.99 L530.834 225.522 Q530.834 229.203 532.269 231.055 Q533.704 232.883 536.575 232.883 Q540.024 232.883 542.015 230.684 Q544.029 228.485 544.029 224.689 L544.029 209.99 L548.288 209.99 L548.288 235.916 L544.029 235.916 L544.029 231.934 Q542.478 234.295 540.417 235.453 Q538.38 236.587 535.672 236.587 Q531.205 236.587 528.89 233.809 Q526.575 231.031 526.575 225.684 M537.292 209.365 L537.292 209.365 Z\" fill=\"#000000\" fill-rule=\"evenodd\" fill-opacity=\"1\" /><path clip-path=\"url(#clip920)\" d=\"M556.204 233.369 L560.927 233.369 L560.927 219.226 L555.765 220.175 L555.765 217.49 L561.089 216.587 L564.26 216.587 L564.26 233.369 L569.005 233.369 L569.005 235.916 L556.204 235.916 L556.204 233.369 Z\" fill=\"#000000\" fill-rule=\"evenodd\" fill-opacity=\"1\" /><polyline clip-path=\"url(#clip920)\" style=\"stroke:#e26f46; stroke-linecap:round; stroke-linejoin:round; stroke-width:4; stroke-opacity:1; fill:none\" points=\"364.761,270.476 503.459,270.476 \"/>\n",
       "<path clip-path=\"url(#clip920)\" d=\"M526.575 277.524 L526.575 261.83 L530.834 261.83 L530.834 277.362 Q530.834 281.043 532.269 282.895 Q533.704 284.723 536.575 284.723 Q540.024 284.723 542.015 282.524 Q544.029 280.325 544.029 276.529 L544.029 261.83 L548.288 261.83 L548.288 287.756 L544.029 287.756 L544.029 283.774 Q542.478 286.135 540.417 287.293 Q538.38 288.427 535.672 288.427 Q531.205 288.427 528.89 285.649 Q526.575 282.871 526.575 277.524 M537.292 261.205 L537.292 261.205 Z\" fill=\"#000000\" fill-rule=\"evenodd\" fill-opacity=\"1\" /><path clip-path=\"url(#clip920)\" d=\"M558.797 285.117 L568.612 285.117 L568.612 287.756 L554.769 287.756 L554.769 285.209 Q555.556 284.492 557.015 283.196 Q564.977 276.135 564.977 273.959 Q564.977 272.432 563.774 271.506 Q562.57 270.557 560.603 270.557 Q559.399 270.557 557.987 270.973 Q556.575 271.367 554.908 272.177 L554.908 269.33 Q556.69 268.682 558.218 268.358 Q559.769 268.034 561.089 268.034 Q564.445 268.034 566.459 269.561 Q568.473 271.089 568.473 273.589 Q568.473 276.807 560.811 283.381 Q559.515 284.492 558.797 285.117 Z\" fill=\"#000000\" fill-rule=\"evenodd\" fill-opacity=\"1\" /><polyline clip-path=\"url(#clip920)\" style=\"stroke:#3da44d; stroke-linecap:round; stroke-linejoin:round; stroke-width:4; stroke-opacity:1; fill:none\" points=\"364.761,322.316 503.459,322.316 \"/>\n",
       "<path clip-path=\"url(#clip920)\" d=\"M526.575 329.364 L526.575 313.67 L530.834 313.67 L530.834 329.202 Q530.834 332.883 532.269 334.735 Q533.704 336.563 536.575 336.563 Q540.024 336.563 542.015 334.364 Q544.029 332.165 544.029 328.369 L544.029 313.67 L548.288 313.67 L548.288 339.596 L544.029 339.596 L544.029 335.614 Q542.478 337.975 540.417 339.133 Q538.38 340.267 535.672 340.267 Q531.205 340.267 528.89 337.489 Q526.575 334.711 526.575 329.364 M537.292 313.045 L537.292 313.045 Z\" fill=\"#000000\" fill-rule=\"evenodd\" fill-opacity=\"1\" /><path clip-path=\"url(#clip920)\" d=\"M564.723 329.133 Q566.852 329.549 568.01 330.823 Q569.19 332.073 569.19 333.971 Q569.19 336.841 566.991 338.392 Q564.792 339.943 560.695 339.943 Q559.376 339.943 557.917 339.688 Q556.482 339.457 554.862 338.994 L554.862 336.193 Q556.065 336.818 557.431 337.119 Q558.82 337.42 560.371 337.42 Q562.894 337.42 564.283 336.517 Q565.672 335.591 565.672 333.971 Q565.672 332.258 564.376 331.378 Q563.102 330.499 560.603 330.499 L558.612 330.499 L558.612 327.999 L560.788 327.999 Q562.964 327.999 564.075 327.281 Q565.209 326.54 565.209 325.151 Q565.209 323.809 564.052 323.114 Q562.894 322.397 560.695 322.397 Q559.769 322.397 558.589 322.605 Q557.408 322.813 555.533 323.346 L555.533 320.684 Q557.223 320.29 558.704 320.082 Q560.186 319.874 561.459 319.874 Q564.792 319.874 566.737 321.239 Q568.704 322.605 568.704 324.897 Q568.704 326.494 567.663 327.605 Q566.621 328.716 564.723 329.133 Z\" fill=\"#000000\" fill-rule=\"evenodd\" fill-opacity=\"1\" /></svg>\n"
      ]
     },
     "metadata": {},
     "output_type": "display_data"
    },
    {
     "data": {
      "image/svg+xml": [
       "<?xml version=\"1.0\" encoding=\"utf-8\"?>\n",
       "<svg xmlns=\"http://www.w3.org/2000/svg\" xmlns:xlink=\"http://www.w3.org/1999/xlink\" width=\"600\" height=\"400\" viewBox=\"0 0 2400 1600\">\n",
       "<defs>\n",
       "  <clipPath id=\"clip960\">\n",
       "    <rect x=\"0\" y=\"0\" width=\"2400\" height=\"1600\"/>\n",
       "  </clipPath>\n",
       "</defs>\n",
       "<path clip-path=\"url(#clip960)\" d=\"M0 1600 L2400 1600 L2400 0 L0 0  Z\" fill=\"#ffffff\" fill-rule=\"evenodd\" fill-opacity=\"1\"/>\n",
       "<defs>\n",
       "  <clipPath id=\"clip961\">\n",
       "    <rect x=\"480\" y=\"0\" width=\"1681\" height=\"1600\"/>\n",
       "  </clipPath>\n",
       "</defs>\n",
       "<path clip-path=\"url(#clip960)\" d=\"M242.135 1423.18 L2352.76 1423.18 L2352.76 123.472 L242.135 123.472  Z\" fill=\"#ffffff\" fill-rule=\"evenodd\" fill-opacity=\"1\"/>\n",
       "<defs>\n",
       "  <clipPath id=\"clip962\">\n",
       "    <rect x=\"242\" y=\"123\" width=\"2112\" height=\"1301\"/>\n",
       "  </clipPath>\n",
       "</defs>\n",
       "<polyline clip-path=\"url(#clip962)\" style=\"stroke:#000000; stroke-linecap:round; stroke-linejoin:round; stroke-width:2; stroke-opacity:0.1; fill:none\" points=\"301.869,1423.18 301.869,123.472 \"/>\n",
       "<polyline clip-path=\"url(#clip962)\" style=\"stroke:#000000; stroke-linecap:round; stroke-linejoin:round; stroke-width:2; stroke-opacity:0.1; fill:none\" points=\"744.347,1423.18 744.347,123.472 \"/>\n",
       "<polyline clip-path=\"url(#clip962)\" style=\"stroke:#000000; stroke-linecap:round; stroke-linejoin:round; stroke-width:2; stroke-opacity:0.1; fill:none\" points=\"1186.83,1423.18 1186.83,123.472 \"/>\n",
       "<polyline clip-path=\"url(#clip962)\" style=\"stroke:#000000; stroke-linecap:round; stroke-linejoin:round; stroke-width:2; stroke-opacity:0.1; fill:none\" points=\"1629.3,1423.18 1629.3,123.472 \"/>\n",
       "<polyline clip-path=\"url(#clip962)\" style=\"stroke:#000000; stroke-linecap:round; stroke-linejoin:round; stroke-width:2; stroke-opacity:0.1; fill:none\" points=\"2071.78,1423.18 2071.78,123.472 \"/>\n",
       "<polyline clip-path=\"url(#clip960)\" style=\"stroke:#000000; stroke-linecap:round; stroke-linejoin:round; stroke-width:4; stroke-opacity:1; fill:none\" points=\"242.135,1423.18 2352.76,1423.18 \"/>\n",
       "<polyline clip-path=\"url(#clip960)\" style=\"stroke:#000000; stroke-linecap:round; stroke-linejoin:round; stroke-width:4; stroke-opacity:1; fill:none\" points=\"301.869,1423.18 301.869,1404.28 \"/>\n",
       "<polyline clip-path=\"url(#clip960)\" style=\"stroke:#000000; stroke-linecap:round; stroke-linejoin:round; stroke-width:4; stroke-opacity:1; fill:none\" points=\"744.347,1423.18 744.347,1404.28 \"/>\n",
       "<polyline clip-path=\"url(#clip960)\" style=\"stroke:#000000; stroke-linecap:round; stroke-linejoin:round; stroke-width:4; stroke-opacity:1; fill:none\" points=\"1186.83,1423.18 1186.83,1404.28 \"/>\n",
       "<polyline clip-path=\"url(#clip960)\" style=\"stroke:#000000; stroke-linecap:round; stroke-linejoin:round; stroke-width:4; stroke-opacity:1; fill:none\" points=\"1629.3,1423.18 1629.3,1404.28 \"/>\n",
       "<polyline clip-path=\"url(#clip960)\" style=\"stroke:#000000; stroke-linecap:round; stroke-linejoin:round; stroke-width:4; stroke-opacity:1; fill:none\" points=\"2071.78,1423.18 2071.78,1404.28 \"/>\n",
       "<path clip-path=\"url(#clip960)\" d=\"M301.869 1454.1 Q298.258 1454.1 296.429 1457.66 Q294.624 1461.2 294.624 1468.33 Q294.624 1475.44 296.429 1479.01 Q298.258 1482.55 301.869 1482.55 Q305.503 1482.55 307.309 1479.01 Q309.138 1475.44 309.138 1468.33 Q309.138 1461.2 307.309 1457.66 Q305.503 1454.1 301.869 1454.1 M301.869 1450.39 Q307.679 1450.39 310.735 1455 Q313.814 1459.58 313.814 1468.33 Q313.814 1477.06 310.735 1481.67 Q307.679 1486.25 301.869 1486.25 Q296.059 1486.25 292.98 1481.67 Q289.925 1477.06 289.925 1468.33 Q289.925 1459.58 292.98 1455 Q296.059 1450.39 301.869 1450.39 Z\" fill=\"#000000\" fill-rule=\"evenodd\" fill-opacity=\"1\" /><path clip-path=\"url(#clip960)\" d=\"M739 1481.64 L755.32 1481.64 L755.32 1485.58 L733.375 1485.58 L733.375 1481.64 Q736.037 1478.89 740.621 1474.26 Q745.227 1469.61 746.408 1468.27 Q748.653 1465.74 749.533 1464.01 Q750.435 1462.25 750.435 1460.56 Q750.435 1457.8 748.491 1456.07 Q746.57 1454.33 743.468 1454.33 Q741.269 1454.33 738.815 1455.09 Q736.385 1455.86 733.607 1457.41 L733.607 1452.69 Q736.431 1451.55 738.885 1450.97 Q741.338 1450.39 743.375 1450.39 Q748.746 1450.39 751.94 1453.08 Q755.134 1455.77 755.134 1460.26 Q755.134 1462.39 754.324 1464.31 Q753.537 1466.2 751.431 1468.8 Q750.852 1469.47 747.75 1472.69 Q744.648 1475.88 739 1481.64 Z\" fill=\"#000000\" fill-rule=\"evenodd\" fill-opacity=\"1\" /><path clip-path=\"url(#clip960)\" d=\"M1189.83 1455.09 L1178.03 1473.54 L1189.83 1473.54 L1189.83 1455.09 M1188.61 1451.02 L1194.49 1451.02 L1194.49 1473.54 L1199.42 1473.54 L1199.42 1477.43 L1194.49 1477.43 L1194.49 1485.58 L1189.83 1485.58 L1189.83 1477.43 L1174.23 1477.43 L1174.23 1472.92 L1188.61 1451.02 Z\" fill=\"#000000\" fill-rule=\"evenodd\" fill-opacity=\"1\" /><path clip-path=\"url(#clip960)\" d=\"M1629.71 1466.44 Q1626.56 1466.44 1624.71 1468.59 Q1622.88 1470.74 1622.88 1474.49 Q1622.88 1478.22 1624.71 1480.39 Q1626.56 1482.55 1629.71 1482.55 Q1632.86 1482.55 1634.69 1480.39 Q1636.54 1478.22 1636.54 1474.49 Q1636.54 1470.74 1634.69 1468.59 Q1632.86 1466.44 1629.71 1466.44 M1638.99 1451.78 L1638.99 1456.04 Q1637.23 1455.21 1635.43 1454.77 Q1633.64 1454.33 1631.88 1454.33 Q1627.26 1454.33 1624.8 1457.45 Q1622.37 1460.58 1622.02 1466.9 Q1623.39 1464.89 1625.45 1463.82 Q1627.51 1462.73 1629.99 1462.73 Q1635.2 1462.73 1638.2 1465.9 Q1641.24 1469.05 1641.24 1474.49 Q1641.24 1479.82 1638.09 1483.03 Q1634.94 1486.25 1629.71 1486.25 Q1623.71 1486.25 1620.54 1481.67 Q1617.37 1477.06 1617.37 1468.33 Q1617.37 1460.14 1621.26 1455.28 Q1625.15 1450.39 1631.7 1450.39 Q1633.46 1450.39 1635.24 1450.74 Q1637.05 1451.09 1638.99 1451.78 Z\" fill=\"#000000\" fill-rule=\"evenodd\" fill-opacity=\"1\" /><path clip-path=\"url(#clip960)\" d=\"M2071.78 1469.17 Q2068.45 1469.17 2066.53 1470.95 Q2064.63 1472.73 2064.63 1475.86 Q2064.63 1478.98 2066.53 1480.77 Q2068.45 1482.55 2071.78 1482.55 Q2075.12 1482.55 2077.04 1480.77 Q2078.96 1478.96 2078.96 1475.86 Q2078.96 1472.73 2077.04 1470.95 Q2075.14 1469.17 2071.78 1469.17 M2067.11 1467.18 Q2064.1 1466.44 2062.41 1464.38 Q2060.74 1462.32 2060.74 1459.35 Q2060.74 1455.21 2063.68 1452.8 Q2066.64 1450.39 2071.78 1450.39 Q2076.94 1450.39 2079.88 1452.8 Q2082.82 1455.21 2082.82 1459.35 Q2082.82 1462.32 2081.13 1464.38 Q2079.47 1466.44 2076.48 1467.18 Q2079.86 1467.96 2081.74 1470.26 Q2083.63 1472.55 2083.63 1475.86 Q2083.63 1480.88 2080.56 1483.57 Q2077.5 1486.25 2071.78 1486.25 Q2066.06 1486.25 2062.99 1483.57 Q2059.93 1480.88 2059.93 1475.86 Q2059.93 1472.55 2061.83 1470.26 Q2063.73 1467.96 2067.11 1467.18 M2065.39 1459.79 Q2065.39 1462.48 2067.06 1463.98 Q2068.75 1465.49 2071.78 1465.49 Q2074.79 1465.49 2076.48 1463.98 Q2078.19 1462.48 2078.19 1459.79 Q2078.19 1457.11 2076.48 1455.6 Q2074.79 1454.1 2071.78 1454.1 Q2068.75 1454.1 2067.06 1455.6 Q2065.39 1457.11 2065.39 1459.79 Z\" fill=\"#000000\" fill-rule=\"evenodd\" fill-opacity=\"1\" /><path clip-path=\"url(#clip960)\" d=\"M1184.9 1522.27 L1184.9 1532.4 L1196.96 1532.4 L1196.96 1536.95 L1184.9 1536.95 L1184.9 1556.3 Q1184.9 1560.66 1186.08 1561.9 Q1187.29 1563.14 1190.95 1563.14 L1196.96 1563.14 L1196.96 1568.04 L1190.95 1568.04 Q1184.17 1568.04 1181.59 1565.53 Q1179.01 1562.98 1179.01 1556.3 L1179.01 1536.95 L1174.71 1536.95 L1174.71 1532.4 L1179.01 1532.4 L1179.01 1522.27 L1184.9 1522.27 Z\" fill=\"#000000\" fill-rule=\"evenodd\" fill-opacity=\"1\" /><path clip-path=\"url(#clip960)\" d=\"M1204.67 1532.4 L1210.52 1532.4 L1210.52 1568.04 L1204.67 1568.04 L1204.67 1532.4 M1204.67 1518.52 L1210.52 1518.52 L1210.52 1525.93 L1204.67 1525.93 L1204.67 1518.52 Z\" fill=\"#000000\" fill-rule=\"evenodd\" fill-opacity=\"1\" /><path clip-path=\"url(#clip960)\" d=\"M1250.53 1539.24 Q1252.73 1535.29 1255.78 1533.41 Q1258.84 1531.54 1262.97 1531.54 Q1268.54 1531.54 1271.57 1535.45 Q1274.59 1539.33 1274.59 1546.53 L1274.59 1568.04 L1268.7 1568.04 L1268.7 1546.72 Q1268.7 1541.59 1266.89 1539.11 Q1265.08 1536.63 1261.35 1536.63 Q1256.8 1536.63 1254.16 1539.65 Q1251.52 1542.68 1251.52 1547.9 L1251.52 1568.04 L1245.63 1568.04 L1245.63 1546.72 Q1245.63 1541.56 1243.81 1539.11 Q1242 1536.63 1238.21 1536.63 Q1233.72 1536.63 1231.08 1539.68 Q1228.44 1542.71 1228.44 1547.9 L1228.44 1568.04 L1222.55 1568.04 L1222.55 1532.4 L1228.44 1532.4 L1228.44 1537.93 Q1230.45 1534.66 1233.25 1533.1 Q1236.05 1531.54 1239.9 1531.54 Q1243.78 1531.54 1246.49 1533.51 Q1249.23 1535.48 1250.53 1539.24 Z\" fill=\"#000000\" fill-rule=\"evenodd\" fill-opacity=\"1\" /><path clip-path=\"url(#clip960)\" d=\"M1316.77 1548.76 L1316.77 1551.62 L1289.84 1551.62 Q1290.22 1557.67 1293.47 1560.85 Q1296.75 1564 1302.57 1564 Q1305.94 1564 1309.09 1563.17 Q1312.28 1562.35 1315.4 1560.69 L1315.4 1566.23 Q1312.25 1567.57 1308.94 1568.27 Q1305.63 1568.97 1302.22 1568.97 Q1293.69 1568.97 1288.69 1564 Q1283.73 1559.04 1283.73 1550.57 Q1283.73 1541.82 1288.44 1536.69 Q1293.18 1531.54 1301.2 1531.54 Q1308.39 1531.54 1312.56 1536.18 Q1316.77 1540.8 1316.77 1548.76 M1310.91 1547.04 Q1310.85 1542.23 1308.2 1539.37 Q1305.59 1536.5 1301.26 1536.5 Q1296.36 1536.5 1293.4 1539.27 Q1290.47 1542.04 1290.03 1547.07 L1310.91 1547.04 Z\" fill=\"#000000\" fill-rule=\"evenodd\" fill-opacity=\"1\" /><path clip-path=\"url(#clip960)\" d=\"M1361.17 1518.58 Q1356.9 1525.9 1354.83 1533.06 Q1352.76 1540.23 1352.76 1547.58 Q1352.76 1554.93 1354.83 1562.16 Q1356.93 1569.35 1361.17 1576.64 L1356.07 1576.64 Q1351.3 1569.16 1348.91 1561.93 Q1346.56 1554.71 1346.56 1547.58 Q1346.56 1540.48 1348.91 1533.29 Q1351.27 1526.09 1356.07 1518.58 L1361.17 1518.58 Z\" fill=\"#000000\" fill-rule=\"evenodd\" fill-opacity=\"1\" /><path clip-path=\"url(#clip960)\" d=\"M1395.25 1533.45 L1395.25 1538.98 Q1392.77 1537.71 1390.1 1537.07 Q1387.42 1536.44 1384.56 1536.44 Q1380.2 1536.44 1378 1537.77 Q1375.84 1539.11 1375.84 1541.79 Q1375.84 1543.82 1377.4 1545 Q1378.96 1546.15 1383.67 1547.2 L1385.67 1547.64 Q1391.91 1548.98 1394.52 1551.43 Q1397.16 1553.85 1397.16 1558.21 Q1397.16 1563.17 1393.22 1566.07 Q1389.3 1568.97 1382.43 1568.97 Q1379.56 1568.97 1376.44 1568.39 Q1373.36 1567.85 1369.92 1566.74 L1369.92 1560.69 Q1373.17 1562.38 1376.32 1563.24 Q1379.47 1564.07 1382.55 1564.07 Q1386.69 1564.07 1388.92 1562.66 Q1391.15 1561.23 1391.15 1558.65 Q1391.15 1556.27 1389.53 1554.99 Q1387.93 1553.72 1382.49 1552.54 L1380.45 1552.07 Q1375.01 1550.92 1372.59 1548.56 Q1370.17 1546.18 1370.17 1542.04 Q1370.17 1537.01 1373.74 1534.27 Q1377.3 1531.54 1383.86 1531.54 Q1387.11 1531.54 1389.97 1532.01 Q1392.84 1532.49 1395.25 1533.45 Z\" fill=\"#000000\" fill-rule=\"evenodd\" fill-opacity=\"1\" /><path clip-path=\"url(#clip960)\" d=\"M1405.57 1518.58 L1410.66 1518.58 Q1415.43 1526.09 1417.79 1533.29 Q1420.18 1540.48 1420.18 1547.58 Q1420.18 1554.71 1417.79 1561.93 Q1415.43 1569.16 1410.66 1576.64 L1405.57 1576.64 Q1409.8 1569.35 1411.87 1562.16 Q1413.97 1554.93 1413.97 1547.58 Q1413.97 1540.23 1411.87 1533.06 Q1409.8 1525.9 1405.57 1518.58 Z\" fill=\"#000000\" fill-rule=\"evenodd\" fill-opacity=\"1\" /><polyline clip-path=\"url(#clip962)\" style=\"stroke:#000000; stroke-linecap:round; stroke-linejoin:round; stroke-width:2; stroke-opacity:0.1; fill:none\" points=\"242.135,1250.13 2352.76,1250.13 \"/>\n",
       "<polyline clip-path=\"url(#clip962)\" style=\"stroke:#000000; stroke-linecap:round; stroke-linejoin:round; stroke-width:2; stroke-opacity:0.1; fill:none\" points=\"242.135,898.555 2352.76,898.555 \"/>\n",
       "<polyline clip-path=\"url(#clip962)\" style=\"stroke:#000000; stroke-linecap:round; stroke-linejoin:round; stroke-width:2; stroke-opacity:0.1; fill:none\" points=\"242.135,546.984 2352.76,546.984 \"/>\n",
       "<polyline clip-path=\"url(#clip962)\" style=\"stroke:#000000; stroke-linecap:round; stroke-linejoin:round; stroke-width:2; stroke-opacity:0.1; fill:none\" points=\"242.135,195.413 2352.76,195.413 \"/>\n",
       "<polyline clip-path=\"url(#clip960)\" style=\"stroke:#000000; stroke-linecap:round; stroke-linejoin:round; stroke-width:4; stroke-opacity:1; fill:none\" points=\"242.135,1423.18 242.135,123.472 \"/>\n",
       "<polyline clip-path=\"url(#clip960)\" style=\"stroke:#000000; stroke-linecap:round; stroke-linejoin:round; stroke-width:4; stroke-opacity:1; fill:none\" points=\"242.135,1250.13 261.032,1250.13 \"/>\n",
       "<polyline clip-path=\"url(#clip960)\" style=\"stroke:#000000; stroke-linecap:round; stroke-linejoin:round; stroke-width:4; stroke-opacity:1; fill:none\" points=\"242.135,898.555 261.032,898.555 \"/>\n",
       "<polyline clip-path=\"url(#clip960)\" style=\"stroke:#000000; stroke-linecap:round; stroke-linejoin:round; stroke-width:4; stroke-opacity:1; fill:none\" points=\"242.135,546.984 261.032,546.984 \"/>\n",
       "<polyline clip-path=\"url(#clip960)\" style=\"stroke:#000000; stroke-linecap:round; stroke-linejoin:round; stroke-width:4; stroke-opacity:1; fill:none\" points=\"242.135,195.413 261.032,195.413 \"/>\n",
       "<path clip-path=\"url(#clip960)\" d=\"M114.26 1250.58 L143.936 1250.58 L143.936 1254.51 L114.26 1254.51 L114.26 1250.58 Z\" fill=\"#000000\" fill-rule=\"evenodd\" fill-opacity=\"1\" /><path clip-path=\"url(#clip960)\" d=\"M154.839 1263.47 L162.477 1263.47 L162.477 1237.11 L154.167 1238.77 L154.167 1234.51 L162.431 1232.85 L167.107 1232.85 L167.107 1263.47 L174.746 1263.47 L174.746 1267.41 L154.839 1267.41 L154.839 1263.47 Z\" fill=\"#000000\" fill-rule=\"evenodd\" fill-opacity=\"1\" /><path clip-path=\"url(#clip960)\" d=\"M194.19 1235.93 Q190.579 1235.93 188.75 1239.49 Q186.945 1243.03 186.945 1250.16 Q186.945 1257.27 188.75 1260.83 Q190.579 1264.37 194.19 1264.37 Q197.825 1264.37 199.63 1260.83 Q201.459 1257.27 201.459 1250.16 Q201.459 1243.03 199.63 1239.49 Q197.825 1235.93 194.19 1235.93 M194.19 1232.22 Q200 1232.22 203.056 1236.83 Q206.135 1241.41 206.135 1250.16 Q206.135 1258.89 203.056 1263.49 Q200 1268.08 194.19 1268.08 Q188.38 1268.08 185.301 1263.49 Q182.246 1258.89 182.246 1250.16 Q182.246 1241.41 185.301 1236.83 Q188.38 1232.22 194.19 1232.22 Z\" fill=\"#000000\" fill-rule=\"evenodd\" fill-opacity=\"1\" /><path clip-path=\"url(#clip960)\" d=\"M194.19 884.354 Q190.579 884.354 188.75 887.919 Q186.945 891.46 186.945 898.59 Q186.945 905.697 188.75 909.261 Q190.579 912.803 194.19 912.803 Q197.825 912.803 199.63 909.261 Q201.459 905.697 201.459 898.59 Q201.459 891.46 199.63 887.919 Q197.825 884.354 194.19 884.354 M194.19 880.65 Q200 880.65 203.056 885.257 Q206.135 889.84 206.135 898.59 Q206.135 907.317 203.056 911.923 Q200 916.507 194.19 916.507 Q188.38 916.507 185.301 911.923 Q182.246 907.317 182.246 898.59 Q182.246 889.84 185.301 885.257 Q188.38 880.65 194.19 880.65 Z\" fill=\"#000000\" fill-rule=\"evenodd\" fill-opacity=\"1\" /><path clip-path=\"url(#clip960)\" d=\"M154.839 560.329 L162.477 560.329 L162.477 533.964 L154.167 535.63 L154.167 531.371 L162.431 529.704 L167.107 529.704 L167.107 560.329 L174.746 560.329 L174.746 564.264 L154.839 564.264 L154.839 560.329 Z\" fill=\"#000000\" fill-rule=\"evenodd\" fill-opacity=\"1\" /><path clip-path=\"url(#clip960)\" d=\"M194.19 532.783 Q190.579 532.783 188.75 536.348 Q186.945 539.89 186.945 547.019 Q186.945 554.126 188.75 557.69 Q190.579 561.232 194.19 561.232 Q197.825 561.232 199.63 557.69 Q201.459 554.126 201.459 547.019 Q201.459 539.89 199.63 536.348 Q197.825 532.783 194.19 532.783 M194.19 529.079 Q200 529.079 203.056 533.686 Q206.135 538.269 206.135 547.019 Q206.135 555.746 203.056 560.352 Q200 564.936 194.19 564.936 Q188.38 564.936 185.301 560.352 Q182.246 555.746 182.246 547.019 Q182.246 538.269 185.301 533.686 Q188.38 529.079 194.19 529.079 Z\" fill=\"#000000\" fill-rule=\"evenodd\" fill-opacity=\"1\" /><path clip-path=\"url(#clip960)\" d=\"M158.056 208.758 L174.376 208.758 L174.376 212.693 L152.431 212.693 L152.431 208.758 Q155.093 206.004 159.677 201.374 Q164.283 196.721 165.464 195.379 Q167.709 192.856 168.589 191.119 Q169.491 189.36 169.491 187.67 Q169.491 184.916 167.547 183.18 Q165.626 181.444 162.524 181.444 Q160.325 181.444 157.871 182.207 Q155.44 182.971 152.663 184.522 L152.663 179.8 Q155.487 178.666 157.94 178.087 Q160.394 177.508 162.431 177.508 Q167.802 177.508 170.996 180.194 Q174.19 182.879 174.19 187.369 Q174.19 189.499 173.38 191.42 Q172.593 193.319 170.487 195.911 Q169.908 196.582 166.806 199.8 Q163.704 202.994 158.056 208.758 Z\" fill=\"#000000\" fill-rule=\"evenodd\" fill-opacity=\"1\" /><path clip-path=\"url(#clip960)\" d=\"M194.19 181.212 Q190.579 181.212 188.75 184.777 Q186.945 188.319 186.945 195.448 Q186.945 202.555 188.75 206.119 Q190.579 209.661 194.19 209.661 Q197.825 209.661 199.63 206.119 Q201.459 202.555 201.459 195.448 Q201.459 188.319 199.63 184.777 Q197.825 181.212 194.19 181.212 M194.19 177.508 Q200 177.508 203.056 182.115 Q206.135 186.698 206.135 195.448 Q206.135 204.175 203.056 208.781 Q200 213.365 194.19 213.365 Q188.38 213.365 185.301 208.781 Q182.246 204.175 182.246 195.448 Q182.246 186.698 185.301 182.115 Q188.38 177.508 194.19 177.508 Z\" fill=\"#000000\" fill-rule=\"evenodd\" fill-opacity=\"1\" /><path clip-path=\"url(#clip960)\" d=\"M28.3562 756.711 L45.7028 769.602 L64.0042 756.043 L64.0042 762.95 L49.9996 773.326 L64.0042 783.702 L64.0042 790.609 L45.3526 776.763 L28.3562 789.431 L28.3562 782.524 L41.0558 773.071 L28.3562 763.618 L28.3562 756.711 Z\" fill=\"#000000\" fill-rule=\"evenodd\" fill-opacity=\"1\" /><path clip-path=\"url(#clip960)\" d=\"M1069.78 14.0809 L1069.78 22.0612 Q1065.13 19.8332 1060.99 18.7395 Q1056.86 17.6457 1053.01 17.6457 Q1046.33 17.6457 1042.68 20.2383 Q1039.08 22.8309 1039.08 27.611 Q1039.08 31.6214 1041.47 33.6873 Q1043.9 35.7128 1050.62 36.9686 L1055.57 37.9813 Q1064.72 39.7232 1069.06 44.1387 Q1073.43 48.5136 1073.43 55.8863 Q1073.43 64.6767 1067.52 69.2137 Q1061.64 73.7508 1050.26 73.7508 Q1045.97 73.7508 1041.1 72.7785 Q1036.28 71.8063 1031.1 69.9024 L1031.1 61.4765 Q1036.08 64.2716 1040.86 65.6895 Q1045.64 67.1073 1050.26 67.1073 Q1057.27 67.1073 1061.08 64.3527 Q1064.88 61.598 1064.88 56.4939 Q1064.88 52.0379 1062.13 49.5264 Q1059.41 47.0148 1053.18 45.759 L1048.19 44.7868 Q1039.04 42.9639 1034.95 39.075 Q1030.86 35.1862 1030.86 28.2591 Q1030.86 20.2383 1036.49 15.6203 Q1042.16 11.0023 1052.08 11.0023 Q1056.34 11.0023 1060.75 11.7719 Q1065.17 12.5416 1069.78 14.0809 Z\" fill=\"#000000\" fill-rule=\"evenodd\" fill-opacity=\"1\" /><path clip-path=\"url(#clip960)\" d=\"M1093.24 14.324 L1093.24 27.2059 L1108.59 27.2059 L1108.59 32.9987 L1093.24 32.9987 L1093.24 57.6282 Q1093.24 63.1779 1094.74 64.7578 Q1096.28 66.3376 1100.94 66.3376 L1108.59 66.3376 L1108.59 72.576 L1100.94 72.576 Q1092.31 72.576 1089.03 69.3758 Q1085.75 66.1351 1085.75 57.6282 L1085.75 32.9987 L1080.28 32.9987 L1080.28 27.2059 L1085.75 27.2059 L1085.75 14.324 L1093.24 14.324 Z\" fill=\"#000000\" fill-rule=\"evenodd\" fill-opacity=\"1\" /><path clip-path=\"url(#clip960)\" d=\"M1139.01 49.7694 Q1129.98 49.7694 1126.5 51.8354 Q1123.01 53.9013 1123.01 58.8839 Q1123.01 62.8538 1125.61 65.2034 Q1128.24 67.5124 1132.74 67.5124 Q1138.93 67.5124 1142.66 63.1374 Q1146.43 58.7219 1146.43 51.4303 L1146.43 49.7694 L1139.01 49.7694 M1153.88 46.6907 L1153.88 72.576 L1146.43 72.576 L1146.43 65.6895 Q1143.88 69.8214 1140.07 71.8063 Q1136.26 73.7508 1130.75 73.7508 Q1123.78 73.7508 1119.65 69.8619 Q1115.56 65.9325 1115.56 59.3701 Q1115.56 51.7138 1120.66 47.825 Q1125.81 43.9361 1135.98 43.9361 L1146.43 43.9361 L1146.43 43.2069 Q1146.43 38.0623 1143.02 35.2672 Q1139.66 32.4315 1133.55 32.4315 Q1129.66 32.4315 1125.97 33.3632 Q1122.28 34.295 1118.88 36.1584 L1118.88 29.2718 Q1122.97 27.692 1126.82 26.9223 Q1130.67 26.1121 1134.32 26.1121 Q1144.16 26.1121 1149.02 31.2163 Q1153.88 36.3204 1153.88 46.6907 Z\" fill=\"#000000\" fill-rule=\"evenodd\" fill-opacity=\"1\" /><path clip-path=\"url(#clip960)\" d=\"M1176.61 14.324 L1176.61 27.2059 L1191.96 27.2059 L1191.96 32.9987 L1176.61 32.9987 L1176.61 57.6282 Q1176.61 63.1779 1178.11 64.7578 Q1179.64 66.3376 1184.3 66.3376 L1191.96 66.3376 L1191.96 72.576 L1184.3 72.576 Q1175.68 72.576 1172.39 69.3758 Q1169.11 66.1351 1169.11 57.6282 L1169.11 32.9987 L1163.64 32.9987 L1163.64 27.2059 L1169.11 27.2059 L1169.11 14.324 L1176.61 14.324 Z\" fill=\"#000000\" fill-rule=\"evenodd\" fill-opacity=\"1\" /><path clip-path=\"url(#clip960)\" d=\"M1240.57 48.0275 L1240.57 51.6733 L1206.3 51.6733 Q1206.79 59.3701 1210.92 63.421 Q1215.09 67.4314 1222.5 67.4314 Q1226.8 67.4314 1230.81 66.3781 Q1234.86 65.3249 1238.83 63.2184 L1238.83 70.267 Q1234.82 71.9684 1230.61 72.8596 Q1226.39 73.7508 1222.06 73.7508 Q1211.2 73.7508 1204.84 67.4314 Q1198.52 61.1119 1198.52 50.3365 Q1198.52 39.1965 1204.52 32.6746 Q1210.55 26.1121 1220.76 26.1121 Q1229.92 26.1121 1235.22 32.0264 Q1240.57 37.9003 1240.57 48.0275 M1233.12 45.84 Q1233.04 39.7232 1229.67 36.0774 Q1226.35 32.4315 1220.84 32.4315 Q1214.6 32.4315 1210.84 35.9558 Q1207.11 39.4801 1206.54 45.8805 L1233.12 45.84 Z\" fill=\"#000000\" fill-rule=\"evenodd\" fill-opacity=\"1\" /><path clip-path=\"url(#clip960)\" d=\"M1279.5 12.096 L1287.68 12.096 L1287.68 36.8875 L1317.42 36.8875 L1317.42 12.096 L1325.6 12.096 L1325.6 72.576 L1317.42 72.576 L1317.42 43.7741 L1287.68 43.7741 L1287.68 72.576 L1279.5 72.576 L1279.5 12.096 Z\" fill=\"#000000\" fill-rule=\"evenodd\" fill-opacity=\"1\" /><path clip-path=\"url(#clip960)\" d=\"M1341.56 27.2059 L1349.01 27.2059 L1349.01 72.576 L1341.56 72.576 L1341.56 27.2059 M1341.56 9.54393 L1349.01 9.54393 L1349.01 18.9825 L1341.56 18.9825 L1341.56 9.54393 Z\" fill=\"#000000\" fill-rule=\"evenodd\" fill-opacity=\"1\" /><path clip-path=\"url(#clip960)\" d=\"M1393.53 28.5427 L1393.53 35.5912 Q1390.37 33.9709 1386.97 33.1607 Q1383.57 32.3505 1379.92 32.3505 Q1374.37 32.3505 1371.58 34.0519 Q1368.82 35.7533 1368.82 39.156 Q1368.82 41.7486 1370.81 43.2475 Q1372.79 44.7058 1378.79 46.0426 L1381.34 46.6097 Q1389.28 48.3111 1392.6 51.4303 Q1395.96 54.509 1395.96 60.0587 Q1395.96 66.3781 1390.94 70.0644 Q1385.96 73.7508 1377.21 73.7508 Q1373.56 73.7508 1369.59 73.0216 Q1365.66 72.3329 1361.29 70.9151 L1361.29 63.2184 Q1365.42 65.3654 1369.43 66.4591 Q1373.44 67.5124 1377.37 67.5124 Q1382.64 67.5124 1385.47 65.73 Q1388.31 63.9071 1388.31 60.6258 Q1388.31 57.5877 1386.24 55.9673 Q1384.22 54.3469 1377.29 52.8481 L1374.7 52.2405 Q1367.77 50.7821 1364.69 47.7845 Q1361.61 44.7463 1361.61 39.4801 Q1361.61 33.0797 1366.15 29.5959 Q1370.69 26.1121 1379.03 26.1121 Q1383.16 26.1121 1386.81 26.7198 Q1390.45 27.3274 1393.53 28.5427 Z\" fill=\"#000000\" fill-rule=\"evenodd\" fill-opacity=\"1\" /><path clip-path=\"url(#clip960)\" d=\"M1415.21 14.324 L1415.21 27.2059 L1430.56 27.2059 L1430.56 32.9987 L1415.21 32.9987 L1415.21 57.6282 Q1415.21 63.1779 1416.7 64.7578 Q1418.24 66.3376 1422.9 66.3376 L1430.56 66.3376 L1430.56 72.576 L1422.9 72.576 Q1414.27 72.576 1410.99 69.3758 Q1407.71 66.1351 1407.71 57.6282 L1407.71 32.9987 L1402.24 32.9987 L1402.24 27.2059 L1407.71 27.2059 L1407.71 14.324 L1415.21 14.324 Z\" fill=\"#000000\" fill-rule=\"evenodd\" fill-opacity=\"1\" /><path clip-path=\"url(#clip960)\" d=\"M1457.94 32.4315 Q1451.95 32.4315 1448.46 37.1306 Q1444.98 41.7891 1444.98 49.9314 Q1444.98 58.0738 1448.42 62.7728 Q1451.91 67.4314 1457.94 67.4314 Q1463.9 67.4314 1467.38 62.7323 Q1470.86 58.0333 1470.86 49.9314 Q1470.86 41.8701 1467.38 37.1711 Q1463.9 32.4315 1457.94 32.4315 M1457.94 26.1121 Q1467.66 26.1121 1473.21 32.4315 Q1478.76 38.7509 1478.76 49.9314 Q1478.76 61.0714 1473.21 67.4314 Q1467.66 73.7508 1457.94 73.7508 Q1448.18 73.7508 1442.63 67.4314 Q1437.12 61.0714 1437.12 49.9314 Q1437.12 38.7509 1442.63 32.4315 Q1448.18 26.1121 1457.94 26.1121 Z\" fill=\"#000000\" fill-rule=\"evenodd\" fill-opacity=\"1\" /><path clip-path=\"url(#clip960)\" d=\"M1517.41 34.1734 Q1516.15 33.4443 1514.65 33.1202 Q1513.2 32.7556 1511.41 32.7556 Q1505.09 32.7556 1501.69 36.8875 Q1498.33 40.9789 1498.33 48.6757 L1498.33 72.576 L1490.84 72.576 L1490.84 27.2059 L1498.33 27.2059 L1498.33 34.2544 Q1500.68 30.1225 1504.45 28.1376 Q1508.21 26.1121 1513.6 26.1121 Q1514.37 26.1121 1515.3 26.2337 Q1516.23 26.3147 1517.37 26.5172 L1517.41 34.1734 Z\" fill=\"#000000\" fill-rule=\"evenodd\" fill-opacity=\"1\" /><path clip-path=\"url(#clip960)\" d=\"M1544.1 76.7889 Q1540.95 84.8907 1537.95 87.3618 Q1534.95 89.8329 1529.93 89.8329 L1523.97 89.8329 L1523.97 83.5945 L1528.35 83.5945 Q1531.43 83.5945 1533.13 82.1361 Q1534.83 80.6778 1536.89 75.2496 L1538.23 71.8468 L1519.88 27.2059 L1527.78 27.2059 L1541.96 62.6918 L1556.14 27.2059 L1564.04 27.2059 L1544.1 76.7889 Z\" fill=\"#000000\" fill-rule=\"evenodd\" fill-opacity=\"1\" /><polyline clip-path=\"url(#clip962)\" style=\"stroke:#009af9; stroke-linecap:round; stroke-linejoin:round; stroke-width:4; stroke-opacity:1; fill:none\" points=\"301.869,722.77 323.993,728.041 346.117,733.303 368.241,738.552 390.365,743.781 412.489,748.985 434.613,754.16 456.737,759.3 478.861,764.402 500.984,769.46 523.108,774.481 545.232,779.459 567.356,784.378 589.48,789.234 611.604,794.025 633.728,798.746 655.852,803.395 677.976,807.968 700.1,812.462 722.224,816.896 744.347,821.266 766.471,825.548 788.595,829.741 810.719,833.841 832.843,837.871 854.967,841.851 877.091,845.915 899.215,850.095 921.339,854.484 943.463,859.097 965.587,863.729 987.711,868.364 1009.83,873.004 1031.96,877.646 1054.08,882.269 1076.21,886.871 1098.33,891.474 1120.45,896.062 1142.58,900.615 1164.7,905.189 1186.83,909.786 1208.95,914.383 1231.07,919.206 1253.2,924.242 1275.32,929.254 1297.45,934.244 1319.57,939.215 1341.69,944.164 1363.82,949.113 1385.94,954.064 1408.06,959.016 1430.19,964.114 1452.31,969.355 1474.44,975.532 1496.56,982.647 1518.68,989.764 1540.81,996.76 1562.93,1003.64 1585.06,1010.53 1607.18,1017.31 1629.3,1023.98 1651.43,1030.65 1673.55,1037.32 1695.68,1043.89 1717.8,1050.41 1739.92,1056.99 1762.05,1063.58 1784.17,1070.17 1806.3,1076.77 1828.42,1084.51 1850.54,1093.4 1872.67,1102.29 1894.79,1111.23 1916.91,1120.02 1939.04,1128.6 1961.16,1137.18 1983.29,1145.77 2005.41,1154.35 2027.53,1162.94 2049.66,1171.71 2071.78,1180.66 2093.91,1190.12 2116.03,1200.34 2138.15,1210.84 2160.28,1221.39 2182.4,1231.97 2204.53,1243.23 2226.65,1255.17 2248.77,1266.74 2270.9,1278.3 2293.02,1290.23 \"/>\n",
       "<polyline clip-path=\"url(#clip962)\" style=\"stroke:#e26f46; stroke-linecap:round; stroke-linejoin:round; stroke-width:4; stroke-opacity:1; fill:none\" points=\"301.869,828.241 323.993,824.776 346.117,821.413 368.241,818.152 390.365,814.997 412.489,811.949 434.613,809.008 456.737,806.174 478.861,803.447 500.984,800.828 523.108,798.29 545.232,795.837 567.356,793.5 589.48,791.28 611.604,789.175 633.728,787.185 655.852,785.31 677.976,783.55 700.1,781.905 722.224,780.344 744.347,778.866 766.471,777.504 788.595,776.256 810.719,775.123 832.843,774.074 854.967,773.082 877.091,771.991 899.215,770.769 921.339,769.319 943.463,767.628 965.587,765.915 987.711,764.199 1009.83,762.478 1031.96,760.756 1054.08,759.053 1076.21,757.371 1098.33,755.687 1120.45,754.02 1142.58,752.386 1164.7,750.733 1186.83,749.057 1208.95,747.38 1231.07,745.485 1253.2,743.383 1275.32,741.304 1297.45,739.247 1319.57,737.208 1341.69,735.189 1363.82,733.17 1385.94,731.15 1408.06,729.128 1430.19,726.972 1452.31,724.682 1474.44,721.53 1496.56,717.516 1518.68,713.5 1540.81,709.594 1562.93,705.796 1585.06,701.991 1607.18,698.282 1629.3,694.671 1651.43,691.059 1673.55,687.448 1695.68,683.928 1717.8,680.455 1739.92,676.927 1762.05,673.389 1784.17,669.85 1806.3,666.31 1828.42,661.764 1850.54,656.209 1872.67,650.651 1894.79,645.046 1916.91,639.58 1939.04,634.294 1961.16,629.005 1983.29,623.713 2005.41,618.419 2027.53,613.126 2049.66,607.679 2071.78,602.076 2093.91,596.042 2116.03,589.362 2138.15,582.444 2160.28,575.481 2182.4,568.493 2204.53,560.937 2226.65,552.815 2248.77,545.003 2270.9,537.196 2293.02,529.081 \"/>\n",
       "<polyline clip-path=\"url(#clip962)\" style=\"stroke:#3da44d; stroke-linecap:round; stroke-linejoin:round; stroke-width:4; stroke-opacity:1; fill:none\" points=\"301.869,160.256 323.993,169.106 346.117,178.067 368.241,187.125 390.365,196.282 412.489,205.534 434.613,214.865 456.737,224.259 478.861,233.704 500.984,243.19 523.108,252.659 545.232,262.116 567.356,271.624 589.48,281.17 611.604,290.743 633.728,300.335 655.852,309.935 677.976,319.542 700.1,329.156 722.224,338.696 744.347,348.149 766.471,357.586 788.595,367.001 810.719,376.393 832.843,385.696 854.967,394.973 877.091,403.338 899.215,411.123 921.339,418.002 943.463,423.861 965.587,430.422 987.711,437.81 1009.83,446.024 1031.96,455.088 1054.08,465.166 1076.21,476.275 1098.33,488.231 1120.45,501.18 1142.58,515.258 1164.7,530.04 1186.83,545.501 1208.95,561.817 1231.07,577.15 1253.2,591.589 1275.32,607.079 1297.45,623.609 1319.57,641.147 1341.69,659.717 1363.82,679.143 1385.94,699.423 1408.06,720.554 1430.19,741.424 1452.31,762.041 1474.44,776.305 1496.56,784.206 1518.68,792.948 1540.81,803.482 1562.93,815.784 1585.06,828.887 1607.18,843.661 1629.3,860.129 1651.43,877.453 1673.55,895.639 1695.68,915.466 1717.8,936.553 1739.92,958.033 1762.05,980.287 1784.17,1003.4 1806.3,1027.36 1828.42,1043.52 1850.54,1051.89 1872.67,1061.09 1894.79,1070.75 1916.91,1082.46 1939.04,1096.6 1961.16,1111.57 1983.29,1127.38 2005.41,1144.03 2027.53,1161.55 2049.66,1178.59 2071.78,1195.12 2093.91,1208.75 2116.03,1217.57 2138.15,1225.16 2160.28,1233.22 2182.4,1241.92 2204.53,1246.46 2226.65,1246.86 2248.77,1250.86 2270.9,1255.77 2293.02,1258.82 \"/>\n",
       "<polyline clip-path=\"url(#clip962)\" style=\"stroke:#c271d2; stroke-linecap:round; stroke-linejoin:round; stroke-width:4; stroke-opacity:1; fill:none\" stroke-dasharray=\"16, 10\" points=\"301.869,1004.03 323.993,1003.92 346.117,1003.7 368.241,1003.36 390.365,1002.91 412.489,1002.38 434.613,1001.72 456.737,1001 478.861,1000.17 500.984,999.259 523.108,998.685 545.232,997.554 567.356,996.319 589.48,995.051 611.604,993.681 633.728,992.276 655.852,990.79 677.976,989.246 700.1,987.631 722.224,986.819 744.347,985.094 766.471,983.307 788.595,981.502 810.719,979.64 832.843,978.655 854.967,977.643 877.091,982.046 899.215,982.249 921.339,990.428 943.463,991.194 965.587,991.194 987.711,991.354 1009.83,991.354 1031.96,991.421 1054.08,990.596 1076.21,990.597 1098.33,990.658 1120.45,989.944 1142.58,989.319 1164.7,990.745 1186.83,990.227 1208.95,990.785 1231.07,999.228 1253.2,999.33 1275.32,998.268 1297.45,998.422 1319.57,997.521 1341.69,997.551 1363.82,997.553 1385.94,997.585 1408.06,997.617 1430.19,1003.38 1452.31,1003.38 1474.44,1040.82 1496.56,1040.88 1518.68,1040.92 1540.81,1036.04 1562.93,1036.21 1585.06,1036.35 1607.18,1031.98 1629.3,1032.01 1651.43,1032.01 1673.55,1032.01 1695.68,1027.91 1717.8,1029.92 1739.92,1030.38 1762.05,1030.38 1784.17,1030.42 1806.3,1030.42 1828.42,1076.29 1850.54,1076.35 1872.67,1076.43 1894.79,1078.5 1916.91,1070.06 1939.04,1070.2 1961.16,1070.23 1983.29,1070.31 2005.41,1070.31 2027.53,1070.31 2049.66,1077.48 2071.78,1077.61 2093.91,1097.82 2116.03,1108.06 2138.15,1109.06 2160.28,1110.19 2182.4,1110.23 2204.53,1137.35 2226.65,1137.35 2248.77,1122.46 2270.9,1137.13 2293.02,1137.2 \"/>\n",
       "<polyline clip-path=\"url(#clip962)\" style=\"stroke:#ac8d18; stroke-linecap:round; stroke-linejoin:round; stroke-width:4; stroke-opacity:1; fill:none\" stroke-dasharray=\"16, 10\" points=\"301.869,828.241 323.993,830.278 346.117,832.305 368.241,834.379 390.365,836.521 412.489,838.654 434.613,840.806 456.737,842.944 478.861,845.097 500.984,847.267 523.108,848.331 545.232,850.646 567.356,852.997 589.48,855.291 611.604,857.622 633.728,859.904 655.852,862.208 677.976,864.504 700.1,866.809 722.224,867.845 744.347,870.154 766.471,872.469 788.595,874.742 810.719,877.022 832.843,878.137 854.967,879.285 877.091,874.218 899.215,873.993 921.339,865.134 943.463,864.309 965.587,864.308 987.711,864.142 1009.83,864.141 1031.96,864.072 1054.08,864.917 1076.21,864.916 1098.33,864.854 1120.45,865.567 1142.58,866.188 1164.7,864.783 1186.83,865.29 1208.95,864.747 1231.07,856.569 1253.2,856.47 1275.32,857.488 1297.45,857.342 1319.57,858.197 1341.69,858.169 1363.82,858.167 1385.94,858.137 1408.06,858.107 1430.19,852.756 1452.31,852.756 1474.44,818.298 1496.56,818.246 1518.68,818.204 1540.81,822.674 1562.93,822.518 1585.06,822.387 1607.18,826.35 1629.3,826.329 1651.43,826.326 1673.55,826.325 1695.68,829.994 1717.8,828.2 1739.92,827.797 1762.05,827.795 1784.17,827.756 1806.3,827.756 1828.42,787.483 1850.54,787.436 1872.67,787.364 1894.79,785.562 1916.91,792.898 1939.04,792.777 1961.16,792.755 1983.29,792.685 2005.41,792.683 2027.53,792.68 2049.66,786.553 2071.78,786.438 2093.91,769.31 2116.03,760.613 2138.15,759.77 2160.28,758.81 2182.4,758.783 2204.53,736.107 2226.65,736.104 2248.77,748.529 2270.9,736.301 2293.02,736.245 \"/>\n",
       "<polyline clip-path=\"url(#clip962)\" style=\"stroke:#00a9ad; stroke-linecap:round; stroke-linejoin:round; stroke-width:4; stroke-opacity:1; fill:none\" stroke-dasharray=\"16, 10\" points=\"301.869,1074.34 323.993,1076.77 346.117,1078.75 368.241,1080.67 390.365,1082.74 412.489,1084.44 434.613,1085.9 456.737,1086.99 478.861,1087.9 500.984,1088.66 523.108,1087.21 545.232,1088.16 567.356,1089.26 589.48,1089.7 611.604,1090.34 633.728,1090.44 655.852,1090.65 677.976,1090.75 700.1,1090.92 722.224,1087.8 744.347,1087.43 766.471,1087.14 788.595,1086.59 810.719,1086.21 832.843,1083.02 854.967,1085.17 877.091,1046.53 899.215,1061.96 921.339,1010.3 943.463,1021.16 965.587,1038.4 987.711,1054.23 1009.83,1071.47 1031.96,1088.17 1054.08,1112.1 1076.21,1129.33 1098.33,1146.05 1120.45,1169.01 1142.58,1191.24 1164.7,1197.12 1186.83,1218.46 1208.95,1231.28 1231.07,1179.13 1253.2,1195.56 1275.32,1221.14 1297.45,1237.17 1319.57,1261.45 1341.69,1278.46 1363.82,1295.68 1385.94,1312.66 1408.06,1329.65 1430.19,1302.28 1452.31,1319.51 1474.44,1048.16 1496.56,1064.96 1518.68,1081.84 1540.81,1136.63 1562.93,1152.55 1585.06,1168.68 1607.18,1219.38 1629.3,1236.44 1651.43,1253.65 1673.55,1270.88 1695.68,1319.32 1717.8,1321.26 1739.92,1335.05 1762.05,1352.26 1784.17,1369.16 1806.3,1386.4 1828.42,1057.43 1850.54,1074.26 1872.67,1090.87 1894.79,1092.56 1916.91,1173.18 1939.04,1189.37 1961.16,1206.41 1983.29,1223.04 2005.41,1240.26 2027.53,1257.47 2049.66,1221.23 2071.78,1237.46 2093.91,1104.46 2116.03,1045.49 2138.15,1055.31 2160.28,1064.1 2182.4,1081.1 2204.53,897.831 2226.65,915.045 2248.77,1042.25 2270.9,951.142 2293.02,967.872 \"/>\n",
       "<path clip-path=\"url(#clip960)\" d=\"M2028.05 529.676 L2282.4 529.676 L2282.4 166.796 L2028.05 166.796  Z\" fill=\"#ffffff\" fill-rule=\"evenodd\" fill-opacity=\"1\"/>\n",
       "<polyline clip-path=\"url(#clip960)\" style=\"stroke:#000000; stroke-linecap:round; stroke-linejoin:round; stroke-width:4; stroke-opacity:1; fill:none\" points=\"2028.05,529.676 2282.4,529.676 2282.4,166.796 2028.05,166.796 2028.05,529.676 \"/>\n",
       "<polyline clip-path=\"url(#clip960)\" style=\"stroke:#009af9; stroke-linecap:round; stroke-linejoin:round; stroke-width:4; stroke-opacity:1; fill:none\" points=\"2051.5,218.636 2192.21,218.636 \"/>\n",
       "<path clip-path=\"url(#clip960)\" d=\"M2240.32 209.99 L2230.94 222.606 L2240.8 235.916 L2235.78 235.916 L2228.23 225.731 L2220.69 235.916 L2215.66 235.916 L2225.73 222.351 L2216.52 209.99 L2221.54 209.99 L2228.42 219.226 L2235.29 209.99 L2240.32 209.99 Z\" fill=\"#000000\" fill-rule=\"evenodd\" fill-opacity=\"1\" /><path clip-path=\"url(#clip960)\" d=\"M2245.96 233.369 L2250.69 233.369 L2250.69 219.226 L2245.52 220.175 L2245.52 217.49 L2250.85 216.587 L2254.02 216.587 L2254.02 233.369 L2258.77 233.369 L2258.77 235.916 L2245.96 235.916 L2245.96 233.369 Z\" fill=\"#000000\" fill-rule=\"evenodd\" fill-opacity=\"1\" /><polyline clip-path=\"url(#clip960)\" style=\"stroke:#e26f46; stroke-linecap:round; stroke-linejoin:round; stroke-width:4; stroke-opacity:1; fill:none\" points=\"2051.5,270.476 2192.21,270.476 \"/>\n",
       "<path clip-path=\"url(#clip960)\" d=\"M2240.32 261.83 L2230.94 274.446 L2240.8 287.756 L2235.78 287.756 L2228.23 277.571 L2220.69 287.756 L2215.66 287.756 L2225.73 274.191 L2216.52 261.83 L2221.54 261.83 L2228.42 271.066 L2235.29 261.83 L2240.32 261.83 Z\" fill=\"#000000\" fill-rule=\"evenodd\" fill-opacity=\"1\" /><path clip-path=\"url(#clip960)\" d=\"M2248.56 285.117 L2258.37 285.117 L2258.37 287.756 L2244.53 287.756 L2244.53 285.209 Q2245.32 284.492 2246.77 283.196 Q2254.74 276.135 2254.74 273.959 Q2254.74 272.432 2253.53 271.506 Q2252.33 270.557 2250.36 270.557 Q2249.16 270.557 2247.75 270.973 Q2246.33 271.367 2244.67 272.177 L2244.67 269.33 Q2246.45 268.682 2247.98 268.358 Q2249.53 268.034 2250.85 268.034 Q2254.21 268.034 2256.22 269.561 Q2258.23 271.089 2258.23 273.589 Q2258.23 276.807 2250.57 283.381 Q2249.27 284.492 2248.56 285.117 Z\" fill=\"#000000\" fill-rule=\"evenodd\" fill-opacity=\"1\" /><polyline clip-path=\"url(#clip960)\" style=\"stroke:#3da44d; stroke-linecap:round; stroke-linejoin:round; stroke-width:4; stroke-opacity:1; fill:none\" points=\"2051.5,322.316 2192.21,322.316 \"/>\n",
       "<path clip-path=\"url(#clip960)\" d=\"M2240.32 313.67 L2230.94 326.286 L2240.8 339.596 L2235.78 339.596 L2228.23 329.411 L2220.69 339.596 L2215.66 339.596 L2225.73 326.031 L2216.52 313.67 L2221.54 313.67 L2228.42 322.906 L2235.29 313.67 L2240.32 313.67 Z\" fill=\"#000000\" fill-rule=\"evenodd\" fill-opacity=\"1\" /><path clip-path=\"url(#clip960)\" d=\"M2254.48 329.133 Q2256.61 329.549 2257.77 330.823 Q2258.95 332.073 2258.95 333.971 Q2258.95 336.841 2256.75 338.392 Q2254.55 339.943 2250.46 339.943 Q2249.14 339.943 2247.68 339.688 Q2246.24 339.457 2244.62 338.994 L2244.62 336.193 Q2245.83 336.818 2247.19 337.119 Q2248.58 337.42 2250.13 337.42 Q2252.65 337.42 2254.04 336.517 Q2255.43 335.591 2255.43 333.971 Q2255.43 332.258 2254.14 331.378 Q2252.86 330.499 2250.36 330.499 L2248.37 330.499 L2248.37 327.999 L2250.55 327.999 Q2252.72 327.999 2253.83 327.281 Q2254.97 326.54 2254.97 325.151 Q2254.97 323.809 2253.81 323.114 Q2252.65 322.397 2250.46 322.397 Q2249.53 322.397 2248.35 322.605 Q2247.17 322.813 2245.29 323.346 L2245.29 320.684 Q2246.98 320.29 2248.46 320.082 Q2249.95 319.874 2251.22 319.874 Q2254.55 319.874 2256.5 321.239 Q2258.46 322.605 2258.46 324.897 Q2258.46 326.494 2257.42 327.605 Q2256.38 328.716 2254.48 329.133 Z\" fill=\"#000000\" fill-rule=\"evenodd\" fill-opacity=\"1\" /><polyline clip-path=\"url(#clip960)\" style=\"stroke:#c271d2; stroke-linecap:round; stroke-linejoin:round; stroke-width:4; stroke-opacity:1; fill:none\" stroke-dasharray=\"16, 10\" points=\"2051.5,374.156 2192.21,374.156 \"/>\n",
       "<path clip-path=\"url(#clip960)\" d=\"M2240.32 365.51 L2230.94 378.126 L2240.8 391.436 L2235.78 391.436 L2228.23 381.251 L2220.69 391.436 L2215.66 391.436 L2225.73 377.871 L2216.52 365.51 L2221.54 365.51 L2228.42 374.746 L2235.29 365.51 L2240.32 365.51 Z\" fill=\"#000000\" fill-rule=\"evenodd\" fill-opacity=\"1\" /><path clip-path=\"url(#clip960)\" d=\"M2228.33 355.417 L2232.58 355.417 L2232.58 360.811 L2228.33 360.811 L2228.33 355.417 M2230.5 364.885 L2230.5 364.885 Z\" fill=\"#000000\" fill-rule=\"evenodd\" fill-opacity=\"1\" /><path clip-path=\"url(#clip960)\" d=\"M2245.96 388.889 L2250.69 388.889 L2250.69 374.746 L2245.52 375.695 L2245.52 373.01 L2250.85 372.107 L2254.02 372.107 L2254.02 388.889 L2258.77 388.889 L2258.77 391.436 L2245.96 391.436 L2245.96 388.889 Z\" fill=\"#000000\" fill-rule=\"evenodd\" fill-opacity=\"1\" /><polyline clip-path=\"url(#clip960)\" style=\"stroke:#ac8d18; stroke-linecap:round; stroke-linejoin:round; stroke-width:4; stroke-opacity:1; fill:none\" stroke-dasharray=\"16, 10\" points=\"2051.5,425.996 2192.21,425.996 \"/>\n",
       "<path clip-path=\"url(#clip960)\" d=\"M2240.32 417.35 L2230.94 429.966 L2240.8 443.276 L2235.78 443.276 L2228.23 433.091 L2220.69 443.276 L2215.66 443.276 L2225.73 429.711 L2216.52 417.35 L2221.54 417.35 L2228.42 426.586 L2235.29 417.35 L2240.32 417.35 Z\" fill=\"#000000\" fill-rule=\"evenodd\" fill-opacity=\"1\" /><path clip-path=\"url(#clip960)\" d=\"M2228.33 407.257 L2232.58 407.257 L2232.58 412.651 L2228.33 412.651 L2228.33 407.257 M2230.5 416.725 L2230.5 416.725 Z\" fill=\"#000000\" fill-rule=\"evenodd\" fill-opacity=\"1\" /><path clip-path=\"url(#clip960)\" d=\"M2248.56 440.637 L2258.37 440.637 L2258.37 443.276 L2244.53 443.276 L2244.53 440.729 Q2245.32 440.012 2246.77 438.716 Q2254.74 431.655 2254.74 429.479 Q2254.74 427.952 2253.53 427.026 Q2252.33 426.077 2250.36 426.077 Q2249.16 426.077 2247.75 426.493 Q2246.33 426.887 2244.67 427.697 L2244.67 424.85 Q2246.45 424.202 2247.98 423.878 Q2249.53 423.554 2250.85 423.554 Q2254.21 423.554 2256.22 425.081 Q2258.23 426.609 2258.23 429.109 Q2258.23 432.327 2250.57 438.901 Q2249.27 440.012 2248.56 440.637 Z\" fill=\"#000000\" fill-rule=\"evenodd\" fill-opacity=\"1\" /><polyline clip-path=\"url(#clip960)\" style=\"stroke:#00a9ad; stroke-linecap:round; stroke-linejoin:round; stroke-width:4; stroke-opacity:1; fill:none\" stroke-dasharray=\"16, 10\" points=\"2051.5,477.836 2192.21,477.836 \"/>\n",
       "<path clip-path=\"url(#clip960)\" d=\"M2240.32 469.19 L2230.94 481.806 L2240.8 495.116 L2235.78 495.116 L2228.23 484.931 L2220.69 495.116 L2215.66 495.116 L2225.73 481.551 L2216.52 469.19 L2221.54 469.19 L2228.42 478.426 L2235.29 469.19 L2240.32 469.19 Z\" fill=\"#000000\" fill-rule=\"evenodd\" fill-opacity=\"1\" /><path clip-path=\"url(#clip960)\" d=\"M2228.33 459.097 L2232.58 459.097 L2232.58 464.491 L2228.33 464.491 L2228.33 459.097 M2230.5 468.565 L2230.5 468.565 Z\" fill=\"#000000\" fill-rule=\"evenodd\" fill-opacity=\"1\" /><path clip-path=\"url(#clip960)\" d=\"M2254.48 484.653 Q2256.61 485.069 2257.77 486.343 Q2258.95 487.593 2258.95 489.491 Q2258.95 492.361 2256.75 493.912 Q2254.55 495.463 2250.46 495.463 Q2249.14 495.463 2247.68 495.208 Q2246.24 494.977 2244.62 494.514 L2244.62 491.713 Q2245.83 492.338 2247.19 492.639 Q2248.58 492.94 2250.13 492.94 Q2252.65 492.94 2254.04 492.037 Q2255.43 491.111 2255.43 489.491 Q2255.43 487.778 2254.14 486.898 Q2252.86 486.019 2250.36 486.019 L2248.37 486.019 L2248.37 483.519 L2250.55 483.519 Q2252.72 483.519 2253.83 482.801 Q2254.97 482.06 2254.97 480.671 Q2254.97 479.329 2253.81 478.634 Q2252.65 477.917 2250.46 477.917 Q2249.53 477.917 2248.35 478.125 Q2247.17 478.333 2245.29 478.866 L2245.29 476.204 Q2246.98 475.81 2248.46 475.602 Q2249.95 475.394 2251.22 475.394 Q2254.55 475.394 2256.5 476.759 Q2258.46 478.125 2258.46 480.417 Q2258.46 482.014 2257.42 483.125 Q2256.38 484.236 2254.48 484.653 Z\" fill=\"#000000\" fill-rule=\"evenodd\" fill-opacity=\"1\" /></svg>\n"
      ]
     },
     "metadata": {},
     "output_type": "display_data"
    }
   ],
   "source": [
    "Xsim_m = mat_from_vec(Xhist[1:end-Nh])\n",
    "Usim_m = mat_from_vec(Uhist[1:end-Nh-1])\n",
    "e_sim_m = mat_from_vec(Xref[1:end-Nh]-Xhist[1:end-Nh])\n",
    "display(plot(t_vec[1:end-Nh],e_sim_m',label = [\"ex₁\" \"ex₂\" \"ex₃\" \"eẋ₁\" \"eẋ₂\" \"eẋ₃\"], linestyle=[:solid :solid :solid :dash :dash :dash],\n",
    "             title = \"State Error History\",\n",
    "             xlabel = \"time (s)\", ylabel = \"x\"))\n",
    "display(plot(t_vec[1:end-Nh-2],Usim_m',label = [\"u₁\" \"u₂\" \"u₃\"],\n",
    "             title = \"Input History\",\n",
    "             xlabel = \"time (s)\", ylabel = \"u\"))\n",
    "display(plot(t_vec[1:end-Nh],Xsim_m',label = [\"x₁\" \"x₂\" \"x₃\" \"ẋ₁\" \"ẋ₂\" \"ẋ₃\"], linestyle=[:solid :solid :solid :dash :dash :dash],\n",
    "             title = \"State History\",\n",
    "             xlabel = \"time (s)\", ylabel = \"x\"))"
   ]
  }
 ],
 "metadata": {
  "kernelspec": {
   "display_name": "Julia 1.6.7",
   "language": "julia",
   "name": "julia-1.6"
  },
  "language_info": {
   "file_extension": ".jl",
   "mimetype": "application/julia",
   "name": "julia",
   "version": "1.6.7"
  }
 },
 "nbformat": 4,
 "nbformat_minor": 5
}
