{
 "cells": [
  {
   "cell_type": "code",
   "execution_count": 1,
   "id": "6099cb4b-a2da-4b1b-ba0f-856484092fc4",
   "metadata": {},
   "outputs": [
    {
     "name": "stderr",
     "output_type": "stream",
     "text": [
      "\u001b[32m\u001b[1m  Activating\u001b[22m\u001b[39m environment at `~/SSD/Code/TinyMPC/julia/cone_simple/Project.toml`\n"
     ]
    }
   ],
   "source": [
    "using Pkg\n",
    "Pkg.activate(@__DIR__)\n",
    "Pkg.instantiate()\n",
    "\n",
    "using LinearAlgebra\n",
    "using Printf\n",
    "import ForwardDiff as FD\n",
    "using JuMP\n",
    "using COSMO\n",
    "using Random\n",
    "using ChangePrecision\n",
    "using BenchmarkTools"
   ]
  },
  {
   "cell_type": "code",
   "execution_count": 69,
   "id": "6179ca57-b5ff-4274-8391-85d5e728fc16",
   "metadata": {
    "tags": []
   },
   "outputs": [
    {
     "data": {
      "text/plain": [
       "mpc (generic function with 1 method)"
      ]
     },
     "execution_count": 69,
     "metadata": {},
     "output_type": "execute_result"
    }
   ],
   "source": [
    "# -------------------THIS IS ALL ALTRO-------------------------------\n",
    "# This enables goal equality constraints, state and input ineq constraints.\n",
    "@changeprecision Float32 begin\n",
    "function stage_cost(p::NamedTuple,x,u,k)\n",
    "    dx = x - p.Xref[k]\n",
    "    du = u - p.Uref[k]\n",
    "    return 0.5*dx'*p.Q*dx + 0.5*du'*p.R*du\n",
    "end\n",
    "function term_cost(p::NamedTuple,x)\n",
    "    dx = x - p.Xref[p.N]\n",
    "    return 0.5*dx'*p.Qf*dx\n",
    "end\n",
    "function stage_cost_expansion(p::NamedTuple,k)\n",
    "    dx = - p.Xref[k]\n",
    "    du = - p.Uref[k]\n",
    "    return p.Q, p.Q*dx, p.R, p.R*du  # Hessian and gradient\n",
    "end\n",
    "function term_cost_expansion(p::NamedTuple)\n",
    "    dx = - p.Xref[p.N]\n",
    "    return p.Qf, p.Qf*dx\n",
    "end\n",
    "function conic_cost_expansion(p::NamedTuple, u, λc, ρ, k)\n",
    "    λhat = λc # already updated\n",
    "    ∇c = cone_u_jac(p, u)\n",
    "    G = ∇c'*∇projection(λhat)*projection(λhat)\n",
    "    # H = ∇c'*∇projection(λhat)'*∇projection(λhat)*∇c/ρ\n",
    "    H = ∇c'*(∇projection(λhat)'*∇projection(λhat) + ∇²projection(λhat, projection(λhat)))*∇c/ρ\n",
    "    return (G - H*u), H\n",
    "end\n",
    "function backward_pass!(params,X,U,P,p,d,K,reg,μ,μx,ρ,λ,λc)\n",
    "    \"\"\"iLQR backward pass with AL. This !function update its parameters\n",
    "    \"\"\"\n",
    "    N = params.N\n",
    "    ΔJ = 0.0    # expected cost reduction\n",
    "\n",
    "    # terminal cost expansion\n",
    "    P[N], p[N] = term_cost_expansion(params) \n",
    "    \n",
    "    if (params.ncx > 0)\n",
    "        # # add AL terms for the state constraint at the final time step\n",
    "        hxv = ineq_con_x(params,X[N])  # h(x) violation  \n",
    "        mask = eval_mask(μx[N],hxv)\n",
    "        ∇hx = ineq_con_x_jac(params,X[N])\n",
    "        # add these into the cost-to-go p and P\n",
    "        p[N]  += ∇hx'*(μx[N] - ρ*(mask * [params.x_max;-params.x_min]))  # multiplier term (1st)\n",
    "        P[N]  += ρ*∇hx'*mask*∇hx                # penalty term (2nd)\n",
    "    end\n",
    "    \n",
    "    if (params.ncg > 0)\n",
    "        # add AL terms for goal constraint \n",
    "        ∇hx = diagm(ones(params.nx))\n",
    "        # add these into the CTG p and P (equality active)\n",
    "        p[N]  += ∇hx'*(λ - ρ*params.Xref[N])   \n",
    "        P[N]  += ρ*∇hx'∇hx\n",
    "    end\n",
    "    \n",
    "    # iterate from N-1 to 1 backwards\n",
    "    for k = (N-1):(-1):1\n",
    "        # dynamics jacobians (linearization about previous iterate)\n",
    "        A = FD.jacobian(_x -> discrete_dynamics(params,_x,U[k],k),X[k])\n",
    "        B = FD.jacobian(_u -> discrete_dynamics(params,X[k],_u,k),U[k])\n",
    "\n",
    "        Sxx,Sx,Suu,Su = stage_cost_expansion(params,k)\n",
    "        \n",
    "        # one-step cost expansion: Q, Q*dx, R, R*du\n",
    "        Sx += A' * (P[k+1]*f + p[k+1]) \n",
    "        Su += B' * (P[k+1]*f + p[k+1]) \n",
    "        Sxx += A'*(P[k+1])*A\n",
    "        Suu += B'*(P[k+1] + reg*I)*B                                     \n",
    "        Sux = B'*(P[k+1])*A  \n",
    "        if (params.ncu > 0)\n",
    "            # control constraints\n",
    "            huv = ineq_con_u(params,U[k])  # calculate h(u) constraint\n",
    "            mask = eval_mask(μ[k],huv)  # choose active\n",
    "            ∇hu = ineq_con_u_jac(params,U[k])\n",
    "            Su  += ∇hu'*(μ[k] - ρ*(mask * [params.u_max;-params.u_min])) # add to cost\n",
    "            Suu += ρ*∇hu'*mask*∇hu\n",
    "        end\n",
    "        if (params.ncx > 0)\n",
    "            # state constraints\n",
    "            hxv = ineq_con_x(params,X[k])\n",
    "            mask = eval_mask(μx[k],hxv)\n",
    "            ∇hx = ineq_con_x_jac(params,X[k])\n",
    "            Sx  += ∇hx'*(μx[k] - ρ*(mask * [params.x_max;-params.x_min]))\n",
    "            Sxx += ρ*∇hx'*mask*∇hx\n",
    "        end\n",
    "        if (params.ncu_cone > 0)\n",
    "            # conic constraints\n",
    "            Qu, Quu = conic_cost_expansion(params, U[k], λc[k], ρ/cone_scale, k)\n",
    "            # display(Quu)\n",
    "            Su += Qu\n",
    "            Suu += Quu\n",
    "        end\n",
    "        \n",
    "        # Calculate Gains\n",
    "        # if isposdef(Suu) == 0\n",
    "        #     for i = 1:10\n",
    "        #         Suu += reg*I\n",
    "        #         if isposdef(Suu) == 1\n",
    "        #             break\n",
    "        #         end\n",
    "        #     end\n",
    "        # end\n",
    "            \n",
    "        F = cholesky(Symmetric(Suu))\n",
    "        d[k] = F\\Su\n",
    "        K[k] = F\\Sux\n",
    "\n",
    "        # Cost-to-go Recurrence (PSD stabilizing version, last term)\n",
    "        P[k] = Sxx + K[k]'*Suu*K[k] - 2*K[k]'*Sux\n",
    "        p[k] = Sx + K[k]'*Suu*d[k] - K[k]'*Su - Sux'*d[k]\n",
    "        ΔJ += Su'*d[k]\n",
    "    end\n",
    "\n",
    "    return ΔJ  # but also change params\n",
    "end\n",
    "function forward_pass!(params,X,U,K,d,ΔJ,Xn,Un,μ,μx,ρ,λ; \n",
    "                        max_linesearch_iters = 20)\n",
    "    \"\"\"iLQR forward pass and line-search\n",
    "    This !function update its parameters\n",
    "    \"\"\"\n",
    "    N = params.N\n",
    "        # Forward Rollout\n",
    "        for k = 1:(N-1)\n",
    "            Un[k] = - d[k] - K[k]*Xn[k] \n",
    "            Xn[k+1] = discrete_dynamics(params,Xn[k],Un[k],k)\n",
    "        end\n",
    "    X .= Xn\n",
    "    U .= Un\n",
    "    return 0, 0\n",
    "end\n",
    "function eval_mask(μv,huv)  \n",
    "    # Extract active inequality constraints\n",
    "    # active set mask\n",
    "    mask = Diagonal(zeros(length(huv)))\n",
    "    for i = 1:length(huv)\n",
    "        mask[i,i] = (μv[i] > 0 || huv[i] > 0)\n",
    "    end\n",
    "    mask\n",
    "end\n",
    "function mpc(params,X,U,P,p,K,d,Xn,Un;atol=1e-3,max_iters = 250,verbose = true,ρ=1,ρ_max = 1e8,ϕ=10)\n",
    "\n",
    "    # first check the sizes of everything\n",
    "    # @assert length(X) == params.N\n",
    "    # @assert length(U) == params.N-1\n",
    "    # @assert length(X[1]) == params.nx\n",
    "    # @assert length(U[1]) == params.nu\n",
    "\n",
    "    # initial rollout\n",
    "    N = params.N\n",
    "    for i = 1:N-1\n",
    "        X[i+1] = discrete_dynamics(params,X[i],U[i],i)\n",
    "    end\n",
    "\n",
    "    reg_min = 1e-8\n",
    "    reg = reg_min\n",
    "\n",
    "    μ = [zeros(params.ncu) for i = 1:N-1]   # input constraints\n",
    "\n",
    "    μx = [zeros(params.ncx) for i = 1:N]    # state constraints\n",
    "\n",
    "    λ = zeros(params.nx)    # goal constraint\n",
    "\n",
    "    λc = [zeros(params.ncu_cone) for i = 1:N-1]   # goal constraint\n",
    "    \n",
    "    # Inner loop to solve unconstrained problem (Riccati)\n",
    "    for iter = 1:max_iters\n",
    "        \n",
    "        J = 0.0\n",
    "        ΔJ = 0.0\n",
    "        α = 1.0\n",
    "        for i = 1:1\n",
    "            ΔJ = backward_pass!(params,X,U,P,p,d,K,reg,μ,μx,ρ,λ,λc)\n",
    "            J, α = forward_pass!(params,X,U,K,d,ΔJ,Xn,Un,μ,μx,ρ,λ)\n",
    "        end\n",
    "\n",
    "        if verbose\n",
    "            if rem(iter-1,10)==0\n",
    "                @printf \"iter     J           ΔJ        |d|         α        reg         ρ\\n\"\n",
    "                @printf \"---------------------------------------------------------------------\\n\"\n",
    "            end\n",
    "            @printf(\"%3d   %10.3e  %9.2e  %9.2e  %6.4f   %9.2e   %9.2e\\n\",\n",
    "              iter, J, ΔJ, 0, α, reg, ρ)\n",
    "        end\n",
    "        # update multipliers and check constraint violation, max of all\n",
    "        convio = 0  \n",
    "        \n",
    "        if (params.ncu > 0)\n",
    "            # control constraints (inequality)\n",
    "            for k = 1:N-1\n",
    "                huv = ineq_con_u(params,U[k])\n",
    "                mask = eval_mask(μ[k],huv)\n",
    "                # update dual\n",
    "                convio = max(convio,norm(huv + abs.(huv),Inf))\n",
    "                μ[k] = max.(0,μ[k] - ρ*(mask * [params.u_max;-params.u_min]))\n",
    "            end\n",
    "        end\n",
    "        if (params.ncx > 0)\n",
    "            # state constraints (inequality)\n",
    "            for k = 1:N\n",
    "                hxv = ineq_con_x(params,X[k])\n",
    "                mask = eval_mask(μx[k],hxv)\n",
    "                # update dual\n",
    "                convio = max(convio,norm(hxv + abs.(hxv),Inf))\n",
    "                μx[k] = max.(0,μx[k] - ρ*(mask * [params.x_max;-params.x_min]))                \n",
    "            end\n",
    "        end\n",
    "        if (params.ncu_cone > 0)\n",
    "            # conic constraints \n",
    "            if verbose\n",
    "                print(\"update cone\\n\")\n",
    "            end            \n",
    "            for k = 1:N-1\n",
    "                # update dual\n",
    "                Uc = cone_u(params, U[k])\n",
    "                huc = norm(Uc[1:2]) - Uc[3]\n",
    "                convio = max(convio, norm(huc + abs.(huc),Inf))\n",
    "                λc[k] = projection(λc[k] + Uc/cone_scale/ρ)\n",
    "                # display(λc[k])\n",
    "            end\n",
    "        end\n",
    "        if (params.ncg > 0)\n",
    "            # goal constraint (equality)\n",
    "            hxv = X[N] - params.Xref[N]\n",
    "            λ .-= ρ*params.Xref[N]\n",
    "            convio = max(convio, norm(hxv,Inf))\n",
    "        end\n",
    "        \n",
    "        ρ *= ϕ  # update penalty\n",
    "        \n",
    "        if verbose\n",
    "            @show convio\n",
    "        end\n",
    "        if convio < atol  # if terminal condition with contraint violation\n",
    "            # print(\"Our solver says SUCCESS\\n\") # @info \"success!\"\n",
    "            return U[1]\n",
    "        end\n",
    "        if ρ > ρ_max\n",
    "            print(\"Our solver reachs MAX PENALTY\\n\")\n",
    "            return U[1]\n",
    "        end\n",
    "    end\n",
    "    print(\"Our solver says INFEASIBLE and MAX ITER\\n\")\n",
    "    return U[1]\n",
    "end\n",
    "#----------------------ALTRO DONE --------------------------\n",
    "end"
   ]
  },
  {
   "cell_type": "code",
   "execution_count": 3,
   "id": "ff9a97a1-b963-4f01-9223-eee0c5682b7d",
   "metadata": {
    "tags": []
   },
   "outputs": [
    {
     "data": {
      "text/plain": [
       "∇²projection (generic function with 1 method)"
      ]
     },
     "execution_count": 3,
     "metadata": {},
     "output_type": "execute_result"
    }
   ],
   "source": [
    "@changeprecision Float32 begin\n",
    "# =============================\n",
    "# Example problem formulation and solve\n",
    "# =============================\n",
    "\n",
    "# ---------------------THIS IS WHAT YOU NEED TO INPUT--------\n",
    "A = [1.0 0.0 0.0 0.05 0.0 0.0; \n",
    "    0.0 1.0 0.0 0.0 0.05 0.0; \n",
    "    0.0 0.0 1.0 0.0 0.0 0.05; \n",
    "    0.0 0.0 0.0 1.0 0.0 0.0; \n",
    "    0.0 0.0 0.0 0.0 1.0 0.0; \n",
    "    0.0 0.0 0.0 0.0 0.0 1.0]\n",
    "B = [0.000125 0.0 0.0; \n",
    "    0.0 0.000125 0.0;\n",
    "    0.0 0.0 0.000125; \n",
    "    0.005 0.0 0.0; \n",
    "    0.0 0.005 0.0; \n",
    "    0.0 0.0 0.005]\n",
    "f = [0.0, 0.0, -0.0122625, 0.0, 0.0, -0.4905]\n",
    "function discrete_dynamics(p::NamedTuple,x,u,k)\n",
    "    A = [1.0 0.0 0.0 0.05 0.0 0.0; \n",
    "        0.0 1.0 0.0 0.0 0.05 0.0; \n",
    "        0.0 0.0 1.0 0.0 0.0 0.05; \n",
    "        0.0 0.0 0.0 1.0 0.0 0.0; \n",
    "        0.0 0.0 0.0 0.0 1.0 0.0; \n",
    "        0.0 0.0 0.0 0.0 0.0 1.0]\n",
    "    B = [0.000125 0.0 0.0; \n",
    "        0.0 0.000125 0.0;\n",
    "        0.0 0.0 0.000125; \n",
    "        0.005 0.0 0.0; \n",
    "        0.0 0.005 0.0; \n",
    "        0.0 0.0 0.005]\n",
    "    f = [0.0, 0.0, -0.0122625, 0.0, 0.0, -0.4905]\n",
    "    return A*x + B*u + f\n",
    "end\n",
    "function ineq_con_x(p,x)\n",
    "    [x-p.x_max;-x + p.x_min]\n",
    "end\n",
    "function ineq_con_u(p,u)\n",
    "    [u-p.u_max;-u + p.u_min]\n",
    "end\n",
    "function cone_u(p, u)\n",
    "    [p.A_cone*u;p.c_cone'*u]\n",
    "end\n",
    "function cone_u_jac(p, u)\n",
    "    J = zeros(p.nu, p.nu)\n",
    "    J[1:end-1,1:end] .= p.A_cone\n",
    "    J[end,1:end] .= p.c_cone\n",
    "    return J\n",
    "end\n",
    "function ineq_con_u_jac(params,u)\n",
    "    FD.jacobian(_u -> ineq_con_u(params,_u), u)\n",
    "end\n",
    "function ineq_con_x_jac(p,x)\n",
    "    FD.jacobian(_x -> ineq_con_x(p,_x),x)\n",
    "end\n",
    "function projection(x)\n",
    "    n = length(x)\n",
    "    s = x[end]\n",
    "    v = view(x,1:n-1)\n",
    "    a = norm(v)\n",
    "    if a <= -s  # below the cone\n",
    "        return zero(x)\n",
    "    elseif a <= s  # in the code\n",
    "        return x\n",
    "    elseif a >= abs(s)  # outside the cone\n",
    "        return 0.5 * (1 + s/a) * [v; a] \n",
    "    end\n",
    "end\n",
    "function ∇projection(x)\n",
    "    n = length(x)\n",
    "    J = zeros(eltype(x),n,n)\n",
    "    s = x[end]\n",
    "    v = view(x,1:n-1)\n",
    "    a = norm(v)\n",
    "    if a <= -s\n",
    "        return J  # zeros\n",
    "    elseif a <= s\n",
    "        J .= I(n)  \n",
    "        return J  # identity\n",
    "    elseif a >= abs(s)\n",
    "        c = 0.5 * (1 + s/a)\n",
    "\n",
    "        # dvdv ok!\n",
    "        for i = 1:n-1, j = 1:n-1\n",
    "            J[i,j] = -0.5*s/a^3 * v[i] * v[j]\n",
    "            if i == j\n",
    "                J[i,j] += c\n",
    "            end\n",
    "        end\n",
    "\n",
    "        # dvds ok!\n",
    "        for i = 1:n-1\n",
    "            J[i,n] = 0.5 * v[i] / a\n",
    "        end\n",
    "\n",
    "        # dsdv ok!\n",
    "        for i = 1:n-1\n",
    "            J[n,i] = ((-0.5*s/a^2) + c/a) * v[i]\n",
    "        end\n",
    "        J[n,n] = 0.5  # ok\n",
    "        return J\n",
    "    else\n",
    "        error(\"Invalid second-order cone projection.\")\n",
    "    end\n",
    "    return J\n",
    "end\n",
    "function ∇²projection(x, b)\n",
    "    n = length(x)\n",
    "    hess = zeros(eltype(x),n,n)\n",
    "    v = view(x, 1:n)\n",
    "    bv = view(b, 1:n)\n",
    "\n",
    "    n = length(x)-1\n",
    "    # @assert size(hess) == (n+1,n+1)\n",
    "    s = x[end]\n",
    "    bs = b[end]\n",
    "    a =  norm(v)\n",
    "    vbv = dot(v,bv)\n",
    "\n",
    "    if a <= -s\n",
    "        return hess .= 0\n",
    "    elseif a <= s\n",
    "        return hess .= 0\n",
    "    elseif a > abs(s)\n",
    "        # Original equations from chain rule\n",
    "        # n = n + 1\n",
    "        # dvdv = -s/norm(v)^2/norm(v)*(I - (v*v')/(v'v))*bv*v' + \n",
    "        #     s/norm(v)*((v*(v'bv))/(v'v)^2 * 2v' - (I*(v'bv) + v*bv')/(v'v)) + \n",
    "        #     bs/norm(v)*(I - (v*v')/(v'v))\n",
    "        # dvds = 1/norm(v)*(I - (v*v')/(v'v))*bv;\n",
    "        # hess[1:n-1,1:n-1] .= dvdv*0.5\n",
    "        # hess[1:n-1,n] .= dvds*0.5\n",
    "        # hess[n:n,1:n-1] .= 0.5*dvds'\n",
    "        # hess[n,n] = 0\n",
    "        # return hess\n",
    "\n",
    "        # The following is just an unrolled version of the above\n",
    "        dvdv = view(hess, 1:n, 1:n)\n",
    "        dvds = view(hess, 1:n, n+1)\n",
    "        dsdv = view(hess, n+1, 1:n)\n",
    "        @inbounds for i = 1:n\n",
    "            hi = 0\n",
    "            @inbounds for j = 1:n\n",
    "                Hij = -v[i]*v[j] / a^2\n",
    "                if i == j\n",
    "                    Hij += 1\n",
    "                end\n",
    "                hi += Hij * bv[j]\n",
    "            end\n",
    "            dvds[i] = hi / 2a\n",
    "            dsdv[i] = dvds[i]\n",
    "            @inbounds for j = 1:i\n",
    "                vij = v[i] * v[j]\n",
    "                H1 = hi * v[j] * (-s/a^3)\n",
    "                H2 = vij * (2*vbv) / a^4 - v[i] * bv[j] / a^2\n",
    "                H3 = -vij / a^2\n",
    "                if i == j\n",
    "                    H2 -= vbv / a^2\n",
    "                    H3 += 1\n",
    "                end\n",
    "                H2 *= s/a\n",
    "                H3 *= bs/a\n",
    "                dvdv[i,j] = (H1 + H2 + H3) / 2\n",
    "                dvdv[j,i] = dvdv[i,j]\n",
    "            end\n",
    "        end\n",
    "        hess[end,end] = 0\n",
    "        return hess\n",
    "    else\n",
    "        throw(ErrorException(\"Invalid second-order cone projection\"))\n",
    "    end\n",
    "end\n",
    "end"
   ]
  },
  {
   "cell_type": "code",
   "execution_count": 4,
   "id": "90e80e62-224c-4d2f-870b-53319635b810",
   "metadata": {},
   "outputs": [
    {
     "data": {
      "text/plain": [
       "3×3 Matrix{Float64}:\n",
       "  1.00908   -0.554993   0.227043\n",
       " -0.554993   0.305246  -0.124873\n",
       "  0.227043  -0.124873   0.0"
      ]
     },
     "execution_count": 4,
     "metadata": {},
     "output_type": "execute_result"
    }
   ],
   "source": [
    "∇²projection([1.1 2 0], [4.1 5 6])"
   ]
  },
  {
   "cell_type": "code",
   "execution_count": null,
   "id": "f4edd7a6-7756-43ee-a37b-f91abdd18650",
   "metadata": {},
   "outputs": [],
   "source": [
    "# @changeprecision Float32 begin\n",
    "# Let's solve\n",
    "\n",
    "# λ = zeros(params.nx)    # goal constraint\n",
    "# λc = [zeros(params.ncu_cone) for i = 1:N-1]   # goal constraint\n",
    "    \n",
    "# Let's solve\n",
    "\n",
    "nx = 6\n",
    "nu = 3\n",
    "N = 301\n",
    "dt = 0.05\n",
    "t_vec = dt*(0:N-1)\n",
    "x0 = [4, 2, 20, -3, 2, -5.0]\n",
    "xg = [0,0,0,0,0,0.0]\n",
    "Xref = [deepcopy(xg) for i = 1:N]\n",
    "Uref = [zeros(nu) for i = 1:N-1]\n",
    "\n",
    "Q = 1e-1*I(nx)\n",
    "R = 1e-0*I(nu)\n",
    "Qf = 100*I(nx)\n",
    "\n",
    "# ground_level = 0.0\n",
    "gravity = [0; 0; -9.81]\n",
    "mass = 10.0\n",
    "# ωPlanet = [0.0; 0.0; 0.0]\n",
    "perWeightMax = 2.0\n",
    "θ_thrust_max = 5.0  # deg\n",
    "# θ_glideslope = 60.0 # deg\n",
    "# glide_recover_k = 8\n",
    "\n",
    "A_cone = [1 0 0; 0 1 0]\n",
    "c_cone = [0.0, 0.0, tand(θ_thrust_max)]\n",
    "u_bnd = mass * abs(gravity[3]) * perWeightMax\n",
    "u_min = -170*ones(nu)\n",
    "u_max =  170*ones(nu)\n",
    "\n",
    "# state is x y v θ\n",
    "x_min = [-5,-5,0,-10,-10,-10.0]\n",
    "x_max = [5,5,20,10,10,10.0]\n",
    "\n",
    "ncx = 2*nx*0\n",
    "ncu = 2*nu*0\n",
    "ncg = 1\n",
    "ncu_cone = nu*1; \n",
    "cone_scale = 1  # very fragile for each problem\n",
    "\n",
    "params = (\n",
    "    nx = nx,\n",
    "    nu = nu,\n",
    "    ncx = ncx,\n",
    "    ncu = ncu,\n",
    "    ncg = ncg,\n",
    "    ncu_cone = ncu_cone,\n",
    "    A_cone = A_cone,\n",
    "    c_cone = c_cone,\n",
    "    N = N,\n",
    "    Q = Q,\n",
    "    R = R,\n",
    "    Qf = Qf,\n",
    "    u_min = u_min,\n",
    "    u_max = u_max,\n",
    "    x_min = x_min,\n",
    "    x_max = x_max,\n",
    "    Xref = Xref,\n",
    "    Uref = Uref,\n",
    "    dt = dt,\n",
    "    mc = 1.0,\n",
    "    mp = 0.2,\n",
    "    l = 0.5,\n",
    "    g = 9.81,\n",
    ");\n",
    "\n",
    "# previous iterate\n",
    "X = [deepcopy(x0) for i = 1:N]\n",
    "U = [zeros(nu) for k = 1:N-1]\n",
    "# X = Xref*1\n",
    "# U = Uref*1\n",
    "# new iterate\n",
    "Xn = deepcopy(X)\n",
    "Un = deepcopy(U)\n",
    "\n",
    "P = [zeros(nx,nx) for i = 1:N]   # cost to go quadratic term\n",
    "p = [zeros(nx) for i = 1:N]      # cost to go linear term\n",
    "d = [zeros(nu) for i = 1:N-1]    # feedforward control\n",
    "K = [zeros(nu,nx) for i = 1:N-1] # feedback gain\n",
    "u_ = mpc(params,X,U,P,p,K,d,Xn,Un; atol=1e-4, max_iters = 20, verbose = true, ρ = 1e0, ρ_max = 1e11, ϕ = 10.0);\n",
    "function mat_from_vec(X)::Matrix\n",
    "    # convert a vector of vectors to a matrix \n",
    "    Xm = hcat(X...)\n",
    "    return Xm \n",
    "end\n",
    "Xsim_m = mat_from_vec(Xn)\n",
    "Usim_m = mat_from_vec(Un)\n",
    "using Plots\n",
    "display(plot(t_vec,Xsim_m',label = [\"x₁\" \"x₂\" \"x₃\" \"ẋ₁\" \"ẋ₂\" \"ẋ₃\"],linestyle=[:solid :solid :solid :dash :dash :dash],\n",
    "             title = \"State History\",\n",
    "             xlabel = \"time (s)\", ylabel = \"x\"))\n",
    "display(plot(t_vec[1:end-1],Usim_m',label = [\"u₁\" \"u₂\" \"u₃\"],\n",
    "             title = \"Input History\",\n",
    "             xlabel = \"time (s)\", ylabel = \"u\"))\n",
    "# end"
   ]
  },
  {
   "cell_type": "code",
   "execution_count": 54,
   "id": "c346c124-f55d-456b-99b6-56a44b6c586d",
   "metadata": {},
   "outputs": [
    {
     "data": {
      "text/plain": [
       "6-element Vector{Float64}:\n",
       " 0.0\n",
       " 0.0\n",
       " 0.0\n",
       " 0.0\n",
       " 0.0\n",
       " 0.0"
      ]
     },
     "execution_count": 54,
     "metadata": {},
     "output_type": "execute_result"
    }
   ],
   "source": [
    "λ"
   ]
  },
  {
   "cell_type": "markdown",
   "id": "416df651-52ee-4c43-93e5-aca23c5630b2",
   "metadata": {},
   "source": [
    "For TrajOpt, it needs more tricks to get better results:\n",
    "- Hessian of the projection => better approximation (done)\n",
    "- Scaling between conic constraints and other ones (1/rho, Zac did not buy it)\n",
    "- Solution polishing?\n",
    "\n",
    "Maybe, we don't care about TrajOpt problem, except from a good initial guess, there is nothing we can tune to get better performance. How about reset mpc?"
   ]
  },
  {
   "cell_type": "code",
   "execution_count": 55,
   "id": "12ec6530-7479-455f-843a-81d2c40fb13a",
   "metadata": {},
   "outputs": [
    {
     "data": {
      "text/plain": [
       "26.661750954012224"
      ]
     },
     "metadata": {},
     "output_type": "display_data"
    },
    {
     "data": {
      "text/plain": [
       "23.208656535172747"
      ]
     },
     "metadata": {},
     "output_type": "display_data"
    },
    {
     "data": {
      "text/plain": [
       "21.46991295739069"
      ]
     },
     "metadata": {},
     "output_type": "display_data"
    },
    {
     "data": {
      "text/plain": [
       "19.46002188686174"
      ]
     },
     "metadata": {},
     "output_type": "display_data"
    },
    {
     "data": {
      "text/plain": [
       "19.14387279426063"
      ]
     },
     "metadata": {},
     "output_type": "display_data"
    },
    {
     "data": {
      "text/plain": [
       "16.717148084641657"
      ]
     },
     "metadata": {},
     "output_type": "display_data"
    },
    {
     "data": {
      "text/plain": [
       "15.060483416115169"
      ]
     },
     "metadata": {},
     "output_type": "display_data"
    },
    {
     "data": {
      "text/plain": [
       "14.461547927563167"
      ]
     },
     "metadata": {},
     "output_type": "display_data"
    },
    {
     "data": {
      "text/plain": [
       "14.221059644169458"
      ]
     },
     "metadata": {},
     "output_type": "display_data"
    },
    {
     "data": {
      "text/plain": [
       "12.839343889695584"
      ]
     },
     "metadata": {},
     "output_type": "display_data"
    },
    {
     "data": {
      "text/plain": [
       "12.055956244987822"
      ]
     },
     "metadata": {},
     "output_type": "display_data"
    },
    {
     "data": {
      "text/plain": [
       "11.752007238462685"
      ]
     },
     "metadata": {},
     "output_type": "display_data"
    },
    {
     "data": {
      "text/plain": [
       "9.811747572965315"
      ]
     },
     "metadata": {},
     "output_type": "display_data"
    },
    {
     "data": {
      "text/plain": [
       "8.103969891702473"
      ]
     },
     "metadata": {},
     "output_type": "display_data"
    },
    {
     "data": {
      "text/plain": [
       "7.058338453285622"
      ]
     },
     "metadata": {},
     "output_type": "display_data"
    },
    {
     "data": {
      "text/plain": [
       "6.5383911236582115"
      ]
     },
     "metadata": {},
     "output_type": "display_data"
    },
    {
     "data": {
      "text/plain": [
       "5.398191821063426"
      ]
     },
     "metadata": {},
     "output_type": "display_data"
    },
    {
     "data": {
      "text/plain": [
       "4.746660562885733"
      ]
     },
     "metadata": {},
     "output_type": "display_data"
    },
    {
     "data": {
      "text/plain": [
       "4.036304186201033"
      ]
     },
     "metadata": {},
     "output_type": "display_data"
    },
    {
     "data": {
      "text/plain": [
       "2.901289887546554"
      ]
     },
     "metadata": {},
     "output_type": "display_data"
    },
    {
     "data": {
      "text/plain": [
       "2.3603439312562156"
      ]
     },
     "metadata": {},
     "output_type": "display_data"
    },
    {
     "data": {
      "text/plain": [
       "1.7830656036428856"
      ]
     },
     "metadata": {},
     "output_type": "display_data"
    },
    {
     "data": {
      "text/plain": [
       "1.225753514478475"
      ]
     },
     "metadata": {},
     "output_type": "display_data"
    },
    {
     "data": {
      "text/plain": [
       "0.9565004337301364"
      ]
     },
     "metadata": {},
     "output_type": "display_data"
    },
    {
     "data": {
      "text/plain": [
       "0.6088677529906015"
      ]
     },
     "metadata": {},
     "output_type": "display_data"
    },
    {
     "data": {
      "text/plain": [
       "0.43366304287431134"
      ]
     },
     "metadata": {},
     "output_type": "display_data"
    },
    {
     "data": {
      "text/plain": [
       "0.18647798837923446"
      ]
     },
     "metadata": {},
     "output_type": "display_data"
    },
    {
     "data": {
      "text/plain": [
       "-0.11102182598078514"
      ]
     },
     "metadata": {},
     "output_type": "display_data"
    },
    {
     "data": {
      "text/plain": [
       "-0.18496933166091623"
      ]
     },
     "metadata": {},
     "output_type": "display_data"
    },
    {
     "data": {
      "text/plain": [
       "-0.6498051255501309"
      ]
     },
     "metadata": {},
     "output_type": "display_data"
    }
   ],
   "source": [
    "# Check conic violation\n",
    "convio = 0.0\n",
    "for k = 1:30\n",
    "    Uc = cone_u(params, Uhist[k])\n",
    "    huc = norm(Uc[1:2]) - Uc[3]\n",
    "    convio = max(convio, norm(huc + abs.(huc),Inf))\n",
    "    display(huc) # should <= 0\n",
    "end\n",
    "convio == 0 && print(\"SATISFY CONE\")\n",
    "Xref .= Xn;\n",
    "Uref .= Un;"
   ]
  },
  {
   "cell_type": "code",
   "execution_count": 7,
   "id": "5c8d15e2-a563-4077-96df-8f829ba24d00",
   "metadata": {},
   "outputs": [
    {
     "name": "stdout",
     "output_type": "stream",
     "text": [
      "Our solver reachs MAX PENALTY\n",
      "  5.675209 seconds (18.23 M allocations: 1.008 GiB, 5.29% gc time, 99.84% compilation time)\n",
      "Our solver reachs MAX PENALTY\n",
      "  0.004290 seconds (26.01 k allocations: 3.250 MiB)\n",
      "Our solver reachs MAX PENALTY\n",
      "  0.004428 seconds (26.08 k allocations: 3.252 MiB)\n",
      "Our solver reachs MAX PENALTY\n",
      "  0.004706 seconds (26.06 k allocations: 3.251 MiB)\n",
      "Our solver reachs MAX PENALTY\n",
      "  0.031608 seconds (26.09 k allocations: 3.250 MiB, 85.66% gc time)\n",
      "Our solver reachs MAX PENALTY\n",
      "  0.003893 seconds (26.09 k allocations: 3.252 MiB)\n",
      "Our solver reachs MAX PENALTY\n",
      "  0.003673 seconds (26.05 k allocations: 3.247 MiB)\n",
      "Our solver reachs MAX PENALTY\n",
      "  0.004021 seconds (26.02 k allocations: 3.246 MiB)\n",
      "Our solver reachs MAX PENALTY\n",
      "  0.003612 seconds (26.03 k allocations: 3.246 MiB)\n",
      "Our solver reachs MAX PENALTY\n",
      "  0.003555 seconds (26.00 k allocations: 3.244 MiB)\n",
      "Our solver reachs MAX PENALTY\n",
      "  0.003894 seconds (26.02 k allocations: 3.244 MiB)\n",
      "Our solver reachs MAX PENALTY\n",
      "  0.004135 seconds (26.01 k allocations: 3.246 MiB)\n",
      "Our solver reachs MAX PENALTY\n",
      "  0.004999 seconds (25.95 k allocations: 3.240 MiB)\n",
      "Our solver reachs MAX PENALTY\n",
      "  0.004952 seconds (26.09 k allocations: 3.257 MiB)\n",
      "Our solver reachs MAX PENALTY\n",
      "  0.005618 seconds (26.00 k allocations: 3.240 MiB)\n",
      "Our solver reachs MAX PENALTY\n",
      "  0.007374 seconds (25.99 k allocations: 3.240 MiB)\n",
      "Our solver reachs MAX PENALTY\n",
      "  0.007140 seconds (25.93 k allocations: 3.236 MiB)\n",
      "Our solver reachs MAX PENALTY\n",
      "  0.004766 seconds (25.91 k allocations: 3.235 MiB)\n",
      "Our solver reachs MAX PENALTY\n",
      "  0.004584 seconds (25.95 k allocations: 3.235 MiB)\n",
      "Our solver reachs MAX PENALTY\n",
      "  0.004769 seconds (25.87 k allocations: 3.232 MiB)\n",
      "Our solver reachs MAX PENALTY\n",
      "  0.004749 seconds (25.86 k allocations: 3.230 MiB)\n",
      "Our solver reachs MAX PENALTY\n",
      "  0.004625 seconds (25.89 k allocations: 3.231 MiB)\n",
      "Our solver reachs MAX PENALTY\n",
      "  0.004679 seconds (25.86 k allocations: 3.228 MiB)\n",
      "Our solver reachs MAX PENALTY\n",
      "  0.004668 seconds (25.86 k allocations: 3.228 MiB)\n",
      "Our solver reachs MAX PENALTY\n",
      "  0.004609 seconds (25.87 k allocations: 3.227 MiB)\n",
      "Our solver reachs MAX PENALTY\n",
      "  0.004514 seconds (25.86 k allocations: 3.226 MiB)\n",
      "Our solver reachs MAX PENALTY\n",
      "  0.004517 seconds (25.85 k allocations: 3.225 MiB)\n",
      "  0.001721 seconds (9.83 k allocations: 1.228 MiB)\n",
      "  0.001726 seconds (9.79 k allocations: 1.226 MiB)\n",
      "  0.001704 seconds (9.78 k allocations: 1.225 MiB)\n",
      "  0.001712 seconds (9.81 k allocations: 1.226 MiB)\n",
      "  0.001709 seconds (9.80 k allocations: 1.225 MiB)\n",
      "  0.001151 seconds (6.59 k allocations: 845.609 KiB)\n",
      "  0.001155 seconds (6.60 k allocations: 845.922 KiB)\n",
      "  0.001149 seconds (6.59 k allocations: 845.391 KiB)\n",
      "  0.001172 seconds (6.59 k allocations: 845.359 KiB)\n",
      "  0.001170 seconds (6.58 k allocations: 844.953 KiB)\n",
      "  0.001223 seconds (6.60 k allocations: 845.359 KiB)\n",
      "  0.001186 seconds (6.58 k allocations: 844.641 KiB)\n",
      "  0.001196 seconds (6.60 k allocations: 845.047 KiB)\n",
      "  0.001204 seconds (6.60 k allocations: 845.328 KiB)\n",
      "  0.001188 seconds (6.59 k allocations: 844.922 KiB)\n",
      "  0.001188 seconds (6.58 k allocations: 844.516 KiB)\n",
      "  0.001224 seconds (6.58 k allocations: 844.297 KiB)\n",
      "  0.001188 seconds (6.58 k allocations: 844.297 KiB)\n",
      "  0.001188 seconds (6.58 k allocations: 844.297 KiB)\n",
      "  0.001240 seconds (6.59 k allocations: 844.609 KiB)\n",
      "  0.001201 seconds (6.57 k allocations: 844.078 KiB)\n",
      "  0.001192 seconds (6.59 k allocations: 844.578 KiB)\n",
      "  0.001195 seconds (6.58 k allocations: 844.172 KiB)\n",
      "  0.001209 seconds (6.58 k allocations: 844.078 KiB)\n",
      "  0.001196 seconds (6.59 k allocations: 844.359 KiB)\n",
      "  0.001612 seconds (6.58 k allocations: 844.172 KiB)\n",
      "  0.001996 seconds (6.58 k allocations: 843.859 KiB)\n",
      "  0.001902 seconds (6.57 k allocations: 843.547 KiB)\n",
      "  0.001915 seconds (6.59 k allocations: 844.047 KiB)\n",
      "  0.001882 seconds (6.56 k allocations: 843.016 KiB)\n",
      "  0.001911 seconds (6.59 k allocations: 843.953 KiB)\n",
      "  0.001945 seconds (6.58 k allocations: 843.734 KiB)\n",
      "  0.001829 seconds (6.55 k allocations: 842.797 KiB)\n",
      "  0.001198 seconds (6.57 k allocations: 843.203 KiB)\n",
      "  0.001240 seconds (6.57 k allocations: 843.203 KiB)\n",
      "  0.001197 seconds (6.57 k allocations: 843.297 KiB)\n",
      "  0.001192 seconds (6.57 k allocations: 843.203 KiB)\n",
      "  0.001278 seconds (6.56 k allocations: 842.672 KiB)\n",
      "  0.001198 seconds (6.57 k allocations: 842.984 KiB)\n",
      "  0.001176 seconds (6.57 k allocations: 842.984 KiB)\n",
      "  0.000607 seconds (3.37 k allocations: 434.016 KiB)\n",
      "  0.000620 seconds (3.37 k allocations: 434.016 KiB)\n",
      "  0.000598 seconds (3.37 k allocations: 434.016 KiB)\n",
      "  0.026282 seconds (3.37 k allocations: 434.016 KiB, 97.61% gc time)\n",
      "  0.000483 seconds (3.37 k allocations: 434.016 KiB)\n",
      "  0.000493 seconds (3.37 k allocations: 434.016 KiB)\n",
      "  0.000483 seconds (3.37 k allocations: 434.016 KiB)\n",
      "  0.000496 seconds (3.37 k allocations: 434.016 KiB)\n",
      "  0.000484 seconds (3.37 k allocations: 434.016 KiB)\n",
      "  0.000459 seconds (3.37 k allocations: 434.016 KiB)\n",
      "  0.000457 seconds (3.37 k allocations: 434.016 KiB)\n",
      "  0.000458 seconds (3.37 k allocations: 434.016 KiB)\n",
      "  0.000458 seconds (3.37 k allocations: 434.016 KiB)\n",
      "  0.000468 seconds (3.37 k allocations: 434.016 KiB)\n",
      "  0.000464 seconds (3.37 k allocations: 434.016 KiB)\n",
      "  0.000460 seconds (3.37 k allocations: 434.016 KiB)\n",
      "  0.000454 seconds (3.37 k allocations: 434.016 KiB)\n",
      "  0.000459 seconds (3.37 k allocations: 434.016 KiB)\n",
      "  0.000458 seconds (3.37 k allocations: 434.016 KiB)\n",
      "  0.000454 seconds (3.37 k allocations: 434.016 KiB)\n",
      "  0.000465 seconds (3.37 k allocations: 434.016 KiB)\n",
      "  0.000460 seconds (3.37 k allocations: 434.016 KiB)\n",
      "  0.000457 seconds (3.37 k allocations: 434.016 KiB)\n",
      "  0.000462 seconds (3.37 k allocations: 434.016 KiB)\n",
      "  0.000456 seconds (3.37 k allocations: 434.016 KiB)\n",
      "  0.000461 seconds (3.37 k allocations: 434.016 KiB)\n",
      "  0.000456 seconds (3.37 k allocations: 434.016 KiB)\n",
      "  0.000457 seconds (3.37 k allocations: 434.016 KiB)\n",
      "  0.000496 seconds (3.37 k allocations: 434.016 KiB)\n",
      "  0.000451 seconds (3.37 k allocations: 434.016 KiB)\n",
      "  0.000452 seconds (3.37 k allocations: 434.016 KiB)\n",
      "  0.000457 seconds (3.37 k allocations: 434.016 KiB)\n",
      "  0.000459 seconds (3.37 k allocations: 434.016 KiB)\n",
      "  0.000462 seconds (3.37 k allocations: 434.016 KiB)\n",
      "  0.000456 seconds (3.37 k allocations: 434.016 KiB)\n",
      "  0.000487 seconds (3.37 k allocations: 434.016 KiB)\n",
      "  0.000470 seconds (3.37 k allocations: 434.016 KiB)\n",
      "  0.000485 seconds (3.37 k allocations: 434.016 KiB)\n",
      "  0.000465 seconds (3.37 k allocations: 434.016 KiB)\n",
      "  0.000462 seconds (3.37 k allocations: 434.016 KiB)\n",
      "  0.000460 seconds (3.37 k allocations: 434.016 KiB)\n",
      "  0.000455 seconds (3.37 k allocations: 434.016 KiB)\n",
      "  0.000456 seconds (3.37 k allocations: 434.016 KiB)\n",
      "  0.000449 seconds (3.37 k allocations: 434.016 KiB)\n",
      "  0.000455 seconds (3.37 k allocations: 434.016 KiB)\n",
      "  0.000453 seconds (3.37 k allocations: 434.016 KiB)\n",
      "  0.000459 seconds (3.37 k allocations: 434.016 KiB)\n",
      "  0.000450 seconds (3.37 k allocations: 434.016 KiB)\n",
      "  0.000462 seconds (3.37 k allocations: 434.016 KiB)\n",
      "  0.000463 seconds (3.37 k allocations: 434.016 KiB)\n",
      "  0.000449 seconds (3.37 k allocations: 434.016 KiB)\n",
      "  0.000452 seconds (3.37 k allocations: 434.016 KiB)\n",
      "  0.000463 seconds (3.37 k allocations: 434.016 KiB)\n",
      "  0.000465 seconds (3.37 k allocations: 434.016 KiB)\n",
      "  0.000454 seconds (3.37 k allocations: 434.016 KiB)\n",
      "  0.000462 seconds (3.37 k allocations: 434.016 KiB)\n",
      "  0.000464 seconds (3.37 k allocations: 434.016 KiB)\n",
      "  0.000491 seconds (3.37 k allocations: 434.016 KiB)\n",
      "  0.000529 seconds (3.37 k allocations: 434.016 KiB)\n",
      "  0.000522 seconds (3.37 k allocations: 434.016 KiB)\n",
      "  0.000526 seconds (3.37 k allocations: 434.016 KiB)\n",
      "  0.000532 seconds (3.37 k allocations: 434.016 KiB)\n",
      "  0.000542 seconds (3.37 k allocations: 434.016 KiB)\n",
      "  0.000552 seconds (3.37 k allocations: 434.016 KiB)\n",
      "  0.000553 seconds (3.37 k allocations: 434.016 KiB)\n",
      "  0.000543 seconds (3.37 k allocations: 434.016 KiB)\n",
      "  0.000553 seconds (3.37 k allocations: 434.016 KiB)\n",
      "  0.000551 seconds (3.37 k allocations: 434.016 KiB)\n",
      "  0.000548 seconds (3.37 k allocations: 434.016 KiB)\n",
      "  0.000555 seconds (3.37 k allocations: 434.016 KiB)\n",
      "  0.000560 seconds (3.37 k allocations: 434.016 KiB)\n",
      "  0.000554 seconds (3.37 k allocations: 434.016 KiB)\n",
      "  0.000556 seconds (3.37 k allocations: 434.016 KiB)\n",
      "  0.000555 seconds (3.37 k allocations: 434.016 KiB)\n",
      "  0.000546 seconds (3.37 k allocations: 434.016 KiB)\n",
      "  0.000588 seconds (3.37 k allocations: 434.016 KiB)\n",
      "  0.000586 seconds (3.37 k allocations: 434.016 KiB)\n",
      "  0.000573 seconds (3.37 k allocations: 434.016 KiB)\n",
      "  0.000585 seconds (3.37 k allocations: 434.016 KiB)\n",
      "  0.000590 seconds (3.37 k allocations: 434.016 KiB)\n",
      "  0.000590 seconds (3.37 k allocations: 434.016 KiB)\n",
      "  0.000643 seconds (3.37 k allocations: 434.016 KiB)\n",
      "  0.000589 seconds (3.37 k allocations: 434.016 KiB)\n",
      "  0.000593 seconds (3.37 k allocations: 434.016 KiB)\n",
      "  0.000592 seconds (3.37 k allocations: 434.016 KiB)\n",
      "  0.000609 seconds (3.37 k allocations: 434.016 KiB)\n",
      "  0.000601 seconds (3.37 k allocations: 434.016 KiB)\n",
      "  0.000601 seconds (3.37 k allocations: 434.016 KiB)\n",
      "  0.000609 seconds (3.37 k allocations: 434.016 KiB)\n",
      "  0.000604 seconds (3.37 k allocations: 434.016 KiB)\n",
      "  0.000609 seconds (3.37 k allocations: 434.016 KiB)\n",
      "  0.000594 seconds (3.37 k allocations: 434.016 KiB)\n",
      "  0.000603 seconds (3.37 k allocations: 434.016 KiB)\n",
      "  0.000976 seconds (3.37 k allocations: 434.016 KiB)\n",
      "  0.000999 seconds (3.37 k allocations: 434.016 KiB)\n",
      "  0.000977 seconds (3.37 k allocations: 434.016 KiB)\n",
      "  0.000987 seconds (3.37 k allocations: 434.016 KiB)\n",
      "  0.000964 seconds (3.37 k allocations: 434.016 KiB)\n",
      "  0.001023 seconds (3.37 k allocations: 434.016 KiB)\n",
      "  0.000987 seconds (3.37 k allocations: 434.016 KiB)\n",
      "  0.000987 seconds (3.37 k allocations: 434.016 KiB)\n",
      "  0.000852 seconds (3.37 k allocations: 434.016 KiB)\n",
      "  0.000900 seconds (3.37 k allocations: 434.016 KiB)\n",
      "  0.000968 seconds (3.37 k allocations: 434.016 KiB)\n",
      "  0.000927 seconds (3.37 k allocations: 434.016 KiB)\n",
      "  0.000900 seconds (3.37 k allocations: 434.016 KiB)\n",
      "  0.000900 seconds (3.37 k allocations: 434.016 KiB)\n",
      "  0.000930 seconds (3.37 k allocations: 434.016 KiB)\n",
      "  0.000927 seconds (3.37 k allocations: 434.016 KiB)\n",
      "  0.000942 seconds (3.37 k allocations: 434.016 KiB)\n",
      "  0.000652 seconds (3.37 k allocations: 434.016 KiB)\n",
      "  0.000590 seconds (3.37 k allocations: 434.016 KiB)\n",
      "  0.000587 seconds (3.37 k allocations: 434.016 KiB)\n",
      "  0.000588 seconds (3.37 k allocations: 434.016 KiB)\n",
      "  0.000675 seconds (3.37 k allocations: 434.016 KiB)\n",
      "  0.000616 seconds (3.37 k allocations: 434.016 KiB)\n",
      "  0.000625 seconds (3.37 k allocations: 434.016 KiB)\n",
      "  0.000591 seconds (3.37 k allocations: 434.016 KiB)\n",
      "  0.000588 seconds (3.37 k allocations: 434.016 KiB)\n",
      "  0.000588 seconds (3.37 k allocations: 434.016 KiB)\n",
      "  0.000585 seconds (3.37 k allocations: 434.016 KiB)\n",
      "  0.000591 seconds (3.37 k allocations: 434.016 KiB)\n",
      "  0.000586 seconds (3.37 k allocations: 434.016 KiB)\n",
      "  0.000583 seconds (3.37 k allocations: 434.016 KiB)\n",
      "  0.000581 seconds (3.37 k allocations: 434.016 KiB)\n",
      "  0.000583 seconds (3.37 k allocations: 434.016 KiB)\n",
      "  0.000590 seconds (3.37 k allocations: 434.016 KiB)\n",
      "  0.000581 seconds (3.37 k allocations: 434.016 KiB)\n",
      "  0.000589 seconds (3.37 k allocations: 434.016 KiB)\n",
      "  0.000586 seconds (3.37 k allocations: 434.016 KiB)\n",
      "  0.000593 seconds (3.37 k allocations: 434.016 KiB)\n",
      "  0.000624 seconds (3.37 k allocations: 434.016 KiB)\n",
      "  0.000629 seconds (3.37 k allocations: 434.016 KiB)\n",
      "  0.000589 seconds (3.37 k allocations: 434.016 KiB)\n",
      "  0.000603 seconds (3.37 k allocations: 434.016 KiB)\n",
      "  0.000607 seconds (3.37 k allocations: 434.016 KiB)\n",
      "  0.000602 seconds (3.37 k allocations: 434.016 KiB)\n",
      "  0.000598 seconds (3.37 k allocations: 434.016 KiB)\n",
      "  0.000601 seconds (3.37 k allocations: 434.016 KiB)\n",
      "  0.000607 seconds (3.37 k allocations: 434.016 KiB)\n",
      "  0.000613 seconds (3.37 k allocations: 434.016 KiB)\n",
      "  0.000753 seconds (3.37 k allocations: 434.016 KiB)\n",
      "  0.000605 seconds (3.37 k allocations: 434.016 KiB)\n",
      "  0.000595 seconds (3.37 k allocations: 434.016 KiB)\n",
      "  0.000599 seconds (3.37 k allocations: 434.016 KiB)\n",
      "  0.000598 seconds (3.37 k allocations: 434.016 KiB)\n",
      "  0.000598 seconds (3.37 k allocations: 434.016 KiB)\n",
      "  0.000600 seconds (3.37 k allocations: 434.016 KiB)\n",
      "  0.000599 seconds (3.37 k allocations: 434.016 KiB)\n",
      "  0.000599 seconds (3.37 k allocations: 434.016 KiB)\n",
      "  0.000603 seconds (3.37 k allocations: 434.016 KiB)\n",
      "  0.000595 seconds (3.37 k allocations: 434.016 KiB)\n",
      "  0.000591 seconds (3.37 k allocations: 434.016 KiB)\n",
      "  0.000599 seconds (3.37 k allocations: 434.016 KiB)\n",
      "  0.000595 seconds (3.37 k allocations: 434.016 KiB)\n",
      "  0.000596 seconds (3.37 k allocations: 434.016 KiB)\n",
      "  0.000589 seconds (3.37 k allocations: 434.016 KiB)\n",
      "  0.000589 seconds (3.37 k allocations: 434.016 KiB)\n",
      "  0.000592 seconds (3.37 k allocations: 434.016 KiB)\n",
      "  0.000595 seconds (3.37 k allocations: 434.016 KiB)\n",
      "  0.000589 seconds (3.37 k allocations: 434.016 KiB)\n",
      "  0.000590 seconds (3.37 k allocations: 434.016 KiB)\n",
      "  0.000590 seconds (3.37 k allocations: 434.016 KiB)\n",
      "  0.000585 seconds (3.37 k allocations: 434.016 KiB)\n",
      "  0.000589 seconds (3.37 k allocations: 434.016 KiB)\n",
      "  0.000588 seconds (3.37 k allocations: 434.016 KiB)\n",
      "  0.000594 seconds (3.37 k allocations: 434.016 KiB)\n",
      "  0.000622 seconds (3.37 k allocations: 434.016 KiB)\n",
      "  0.000583 seconds (3.37 k allocations: 434.016 KiB)\n",
      "  0.000579 seconds (3.37 k allocations: 434.016 KiB)\n",
      "  0.000583 seconds (3.37 k allocations: 434.016 KiB)\n",
      "  0.000581 seconds (3.37 k allocations: 434.016 KiB)\n",
      "  0.000585 seconds (3.37 k allocations: 434.016 KiB)\n",
      "  0.000585 seconds (3.37 k allocations: 434.016 KiB)\n",
      "  0.000582 seconds (3.37 k allocations: 434.016 KiB)\n",
      "  0.000584 seconds (3.37 k allocations: 434.016 KiB)\n",
      "  0.000581 seconds (3.37 k allocations: 434.016 KiB)\n",
      "  0.000586 seconds (3.37 k allocations: 434.016 KiB)\n",
      "  0.000584 seconds (3.37 k allocations: 434.016 KiB)\n",
      "  0.000625 seconds (3.37 k allocations: 434.016 KiB)\n",
      "  0.000591 seconds (3.37 k allocations: 434.016 KiB)\n",
      "  0.000591 seconds (3.37 k allocations: 434.016 KiB)\n",
      "  0.000586 seconds (3.37 k allocations: 434.016 KiB)\n",
      "  0.000588 seconds (3.37 k allocations: 434.016 KiB)\n",
      "  0.000590 seconds (3.37 k allocations: 434.016 KiB)\n",
      "  0.000593 seconds (3.37 k allocations: 434.016 KiB)\n",
      "  0.000591 seconds (3.37 k allocations: 434.016 KiB)\n",
      "  0.000588 seconds (3.37 k allocations: 434.016 KiB)\n",
      "  0.000588 seconds (3.37 k allocations: 434.016 KiB)\n",
      "  0.000593 seconds (3.37 k allocations: 434.016 KiB)\n",
      "  0.000598 seconds (3.37 k allocations: 434.016 KiB)\n",
      "  0.000589 seconds (3.37 k allocations: 434.016 KiB)\n",
      "  0.000614 seconds (3.37 k allocations: 434.016 KiB)\n",
      "  0.000616 seconds (3.37 k allocations: 434.016 KiB)\n",
      "  0.000604 seconds (3.37 k allocations: 434.016 KiB)\n",
      "  0.000644 seconds (3.37 k allocations: 434.016 KiB)\n",
      "  0.000607 seconds (3.37 k allocations: 434.016 KiB)\n",
      "  0.000602 seconds (3.37 k allocations: 434.016 KiB)\n",
      "  0.000649 seconds (3.37 k allocations: 434.016 KiB)\n",
      "  0.000608 seconds (3.37 k allocations: 434.016 KiB)\n",
      "  0.000610 seconds (3.37 k allocations: 434.016 KiB)\n",
      "  0.000609 seconds (3.37 k allocations: 434.016 KiB)\n",
      "  0.000610 seconds (3.37 k allocations: 434.016 KiB)\n",
      "  0.000610 seconds (3.37 k allocations: 434.016 KiB)\n",
      "  0.000612 seconds (3.37 k allocations: 434.016 KiB)\n",
      "  0.000607 seconds (3.37 k allocations: 434.016 KiB)\n",
      "  0.000606 seconds (3.37 k allocations: 434.016 KiB)\n",
      "  0.000609 seconds (3.37 k allocations: 434.016 KiB)\n",
      "  0.000610 seconds (3.37 k allocations: 434.016 KiB)\n",
      "  0.000607 seconds (3.37 k allocations: 434.016 KiB)\n",
      "  0.000647 seconds (3.37 k allocations: 434.016 KiB)\n",
      "  0.000608 seconds (3.37 k allocations: 434.016 KiB)\n"
     ]
    }
   ],
   "source": [
    "# @changeprecision Float32 begin\n",
    "### MPC style with other solver ###\n",
    "include(\"mpc_JuMP.jl\")\n",
    "\n",
    "Nsim = 301\n",
    "Nh = 21\n",
    "t_vec = dt*(0:Nsim-1)\n",
    "\n",
    "x0 = [4, 2, 20, -3, 2, -5.0]  # initial plan\n",
    "# x0 = [5, 2, 21, -3, 2, -5.0]  # change this!\n",
    "# x0 = [4.4, 2.2, 20.2, -3.03, 2.02, -5.05]\n",
    "\n",
    "xg = [0,0,0,0,0,0.0]\n",
    "Q = 100e-1*I(nx)  # make this higher!\n",
    "R = 1e-1*I(nu)\n",
    "Qf = 100*I(nx) # change this!\n",
    "θ_thrust_max = 5.0  # increase max thrust from plan!\n",
    "\n",
    "# state is x y v θ\n",
    "x_min = [-5,-5,0,-10,-10,-10.0]\n",
    "x_max = [5,5,20,10,10,10.0]\n",
    "\n",
    "ncx = 2*nx*0\n",
    "ncu = 2*nu*0\n",
    "ncg = 0\n",
    "ncu_cone = nu*1; \n",
    "cone_scale = 1e0\n",
    "\n",
    "params = (\n",
    "    nx = nx,\n",
    "    nu = nu,\n",
    "    ncx = ncx,\n",
    "    ncu = ncu,\n",
    "    ncg = ncg,\n",
    "    ncu_cone = ncu_cone,\n",
    "    A_cone = A_cone,\n",
    "    c_cone = c_cone,\n",
    "    N = Nh,\n",
    "    Q = Q,\n",
    "    R = R,\n",
    "    Qf = Qf,\n",
    "    u_min = u_min,\n",
    "    u_max = u_max,\n",
    "    x_min = x_min,\n",
    "    x_max = x_max,\n",
    "    Xref = Xref,\n",
    "    Uref = Uref,\n",
    "    dt = dt,\n",
    "    mc = 1.0,\n",
    "    mp = 0.2,\n",
    "    l = 0.5,\n",
    "    g = 9.81,\n",
    ");\n",
    "\n",
    "Xhist = [deepcopy(x0) for i = 1:Nsim]\n",
    "Uhist = [-mass * gravity for k = 1:Nsim-1]\n",
    "# previous iterate\n",
    "X = [deepcopy(x0) for i = 1:Nh]\n",
    "U = [-mass * gravity for k = 1:Nh-1]\n",
    "\n",
    "# new iterate\n",
    "Xn = deepcopy(X)\n",
    "Un = deepcopy(U)\n",
    "\n",
    "P = [zeros(nx,nx) for i = 1:Nh]   # cost to go quadratic term\n",
    "p = [zeros(nx) for i = 1:Nh]      # cost to go linear term\n",
    "d = [zeros(nu) for i = 1:Nh-1]    # feedforward control\n",
    "K = [zeros(nu,nx) for i = 1:Nh-1] # feedback gain\n",
    "\n",
    "optimizer = JuMP.optimizer_with_attributes(COSMO.Optimizer{Float64},\n",
    "    \"verbose\"=>false,\n",
    "    \"eps_abs\"=>1e-4,\n",
    "    \"eps_rel\"=>1e-4,\n",
    "    \"rho\"=>1e-2,\n",
    "    \"scaling\"=>0,\n",
    "    \"alpha\"=>1.0)\n",
    "Random.seed!(1);\n",
    "for i = 1:Nsim-Nh-1\n",
    "    params1 = (; params..., Uref = Uref[i:Nh+i], Xref = Xref[i:Nh+i-1])  # update ref\n",
    "    \n",
    "    pos_norm = norm(Xhist[i][1:3], Inf) / 100 # 1% noise\n",
    "    vel_norm = norm(Xhist[4:6], Inf) / 1e6 # 1ppm noise\n",
    "    noise_pos = randn(3)\n",
    "    noise_vel = randn(3)\n",
    "    Xhist[i] += [noise_pos * pos_norm; noise_vel * vel_norm]\n",
    "    X[1] .= Xhist[i]; \n",
    "\n",
    "    # X = [Xhist[i] for i = 1:Nh]  # reset, avoid warm-staring\n",
    "    # U = [-mass * gravity for k = 1:Nh-1]\n",
    "    \n",
    "    # Uhist[i] = mpc_JuMP(optimizer, params1, X, U, A, B, f; warm_start=true)  # JuMP DOESN'T SUPPORT FLOAT32\n",
    "    @time Uhist[i] = mpc(params1,X,U,P,p,K,d,Xn,Un;atol=1e-4,max_iters = 10,verbose = false,ρ = 10, ρ_max = 1e8, ϕ = 10.0) \n",
    "    # Uhist[i] = mpc(params1,X,U,P,p,K,d,Xn,Un;atol=1e-4,max_iters = 10,verbose = false,ρ = 10, ρ_max = 1e8, ϕ = 10.0) \n",
    "    \n",
    "    Xhist[i+1] = discrete_dynamics(params1,Xhist[i],Uhist[i],i)  # dynamics\n",
    "end\n",
    "# end"
   ]
  },
  {
   "cell_type": "markdown",
   "id": "4a1732ad-eb0e-48b4-8896-73a7e8b9997c",
   "metadata": {},
   "source": [
    "1. COSMO gives better tracking results. Warm-start doesn't help much. Some cone is positive (within tol), closer to zero, better cone exploitation.\n",
    "2. Ours always need warm-start, will soon converge to tight tolerance (1-2 iters) if well warm-started."
   ]
  },
  {
   "cell_type": "code",
   "execution_count": 8,
   "id": "d651f59e-e700-4bc9-927c-98835f2679f4",
   "metadata": {},
   "outputs": [
    {
     "data": {
      "text/plain": [
       "26.66175f0"
      ]
     },
     "metadata": {},
     "output_type": "display_data"
    },
    {
     "data": {
      "text/plain": [
       "23.208656f0"
      ]
     },
     "metadata": {},
     "output_type": "display_data"
    },
    {
     "data": {
      "text/plain": [
       "21.469912f0"
      ]
     },
     "metadata": {},
     "output_type": "display_data"
    },
    {
     "data": {
      "text/plain": [
       "19.460022f0"
      ]
     },
     "metadata": {},
     "output_type": "display_data"
    },
    {
     "data": {
      "text/plain": [
       "19.143873f0"
      ]
     },
     "metadata": {},
     "output_type": "display_data"
    },
    {
     "data": {
      "text/plain": [
       "16.717148f0"
      ]
     },
     "metadata": {},
     "output_type": "display_data"
    },
    {
     "data": {
      "text/plain": [
       "15.060484f0"
      ]
     },
     "metadata": {},
     "output_type": "display_data"
    },
    {
     "data": {
      "text/plain": [
       "14.461548f0"
      ]
     },
     "metadata": {},
     "output_type": "display_data"
    },
    {
     "data": {
      "text/plain": [
       "14.221059f0"
      ]
     },
     "metadata": {},
     "output_type": "display_data"
    },
    {
     "data": {
      "text/plain": [
       "12.839343f0"
      ]
     },
     "metadata": {},
     "output_type": "display_data"
    },
    {
     "data": {
      "text/plain": [
       "12.055956f0"
      ]
     },
     "metadata": {},
     "output_type": "display_data"
    },
    {
     "data": {
      "text/plain": [
       "11.752007f0"
      ]
     },
     "metadata": {},
     "output_type": "display_data"
    },
    {
     "data": {
      "text/plain": [
       "9.811747f0"
      ]
     },
     "metadata": {},
     "output_type": "display_data"
    },
    {
     "data": {
      "text/plain": [
       "8.10397f0"
      ]
     },
     "metadata": {},
     "output_type": "display_data"
    },
    {
     "data": {
      "text/plain": [
       "7.058338f0"
      ]
     },
     "metadata": {},
     "output_type": "display_data"
    },
    {
     "data": {
      "text/plain": [
       "6.538391f0"
      ]
     },
     "metadata": {},
     "output_type": "display_data"
    },
    {
     "data": {
      "text/plain": [
       "5.3981924f0"
      ]
     },
     "metadata": {},
     "output_type": "display_data"
    },
    {
     "data": {
      "text/plain": [
       "4.74666f0"
      ]
     },
     "metadata": {},
     "output_type": "display_data"
    },
    {
     "data": {
      "text/plain": [
       "4.0363045f0"
      ]
     },
     "metadata": {},
     "output_type": "display_data"
    },
    {
     "data": {
      "text/plain": [
       "2.901289f0"
      ]
     },
     "metadata": {},
     "output_type": "display_data"
    },
    {
     "data": {
      "text/plain": [
       "2.360344f0"
      ]
     },
     "metadata": {},
     "output_type": "display_data"
    },
    {
     "data": {
      "text/plain": [
       "1.7830658f0"
      ]
     },
     "metadata": {},
     "output_type": "display_data"
    },
    {
     "data": {
      "text/plain": [
       "1.2257528f0"
      ]
     },
     "metadata": {},
     "output_type": "display_data"
    },
    {
     "data": {
      "text/plain": [
       "0.95650005f0"
      ]
     },
     "metadata": {},
     "output_type": "display_data"
    },
    {
     "data": {
      "text/plain": [
       "0.6088667f0"
      ]
     },
     "metadata": {},
     "output_type": "display_data"
    },
    {
     "data": {
      "text/plain": [
       "0.4336624f0"
      ]
     },
     "metadata": {},
     "output_type": "display_data"
    },
    {
     "data": {
      "text/plain": [
       "0.18647766f0"
      ]
     },
     "metadata": {},
     "output_type": "display_data"
    },
    {
     "data": {
      "text/plain": [
       "-0.111021996f0"
      ]
     },
     "metadata": {},
     "output_type": "display_data"
    },
    {
     "data": {
      "text/plain": [
       "-0.1849699f0"
      ]
     },
     "metadata": {},
     "output_type": "display_data"
    },
    {
     "data": {
      "text/plain": [
       "-0.649806f0"
      ]
     },
     "metadata": {},
     "output_type": "display_data"
    },
    {
     "data": {
      "text/plain": [
       "false"
      ]
     },
     "execution_count": 8,
     "metadata": {},
     "output_type": "execute_result"
    }
   ],
   "source": [
    "# Check conic violation\n",
    "convio = 0.0\n",
    "for k = 1:30#Nsim-1\n",
    "    Uc = cone_u(params, Uhist[k])\n",
    "    huc = norm(Uc[1:2]) - Uc[3]\n",
    "    convio = max(convio, norm(huc + abs.(huc),Inf))\n",
    "    display(huc) # should <= 0\n",
    "end\n",
    "convio == 0 && print(\"SATISFY CONE\")"
   ]
  },
  {
   "cell_type": "code",
   "execution_count": 9,
   "id": "ffaab90d-dddc-4512-8c8b-4561cd053fdf",
   "metadata": {},
   "outputs": [
    {
     "name": "stdout",
     "output_type": "stream",
     "text": [
      "traj_error = maximum(norm.(e_sim_m, Inf)) = 19.880473104654353\n"
     ]
    },
    {
     "data": {
      "image/svg+xml": [
       "<?xml version=\"1.0\" encoding=\"utf-8\"?>\n",
       "<svg xmlns=\"http://www.w3.org/2000/svg\" xmlns:xlink=\"http://www.w3.org/1999/xlink\" width=\"600\" height=\"400\" viewBox=\"0 0 2400 1600\">\n",
       "<defs>\n",
       "  <clipPath id=\"clip440\">\n",
       "    <rect x=\"0\" y=\"0\" width=\"2400\" height=\"1600\"/>\n",
       "  </clipPath>\n",
       "</defs>\n",
       "<path clip-path=\"url(#clip440)\" d=\"M0 1600 L2400 1600 L2400 0 L0 0  Z\" fill=\"#ffffff\" fill-rule=\"evenodd\" fill-opacity=\"1\"/>\n",
       "<defs>\n",
       "  <clipPath id=\"clip441\">\n",
       "    <rect x=\"480\" y=\"0\" width=\"1681\" height=\"1600\"/>\n",
       "  </clipPath>\n",
       "</defs>\n",
       "<path clip-path=\"url(#clip440)\" d=\"M242.135 1423.18 L2352.76 1423.18 L2352.76 123.472 L242.135 123.472  Z\" fill=\"#ffffff\" fill-rule=\"evenodd\" fill-opacity=\"1\"/>\n",
       "<defs>\n",
       "  <clipPath id=\"clip442\">\n",
       "    <rect x=\"242\" y=\"123\" width=\"2112\" height=\"1301\"/>\n",
       "  </clipPath>\n",
       "</defs>\n",
       "<polyline clip-path=\"url(#clip442)\" style=\"stroke:#000000; stroke-linecap:round; stroke-linejoin:round; stroke-width:2; stroke-opacity:0.1; fill:none\" points=\"301.869,1423.18 301.869,123.472 \"/>\n",
       "<polyline clip-path=\"url(#clip442)\" style=\"stroke:#000000; stroke-linecap:round; stroke-linejoin:round; stroke-width:2; stroke-opacity:0.1; fill:none\" points=\"658.707,1423.18 658.707,123.472 \"/>\n",
       "<polyline clip-path=\"url(#clip442)\" style=\"stroke:#000000; stroke-linecap:round; stroke-linejoin:round; stroke-width:2; stroke-opacity:0.1; fill:none\" points=\"1015.54,1423.18 1015.54,123.472 \"/>\n",
       "<polyline clip-path=\"url(#clip442)\" style=\"stroke:#000000; stroke-linecap:round; stroke-linejoin:round; stroke-width:2; stroke-opacity:0.1; fill:none\" points=\"1372.38,1423.18 1372.38,123.472 \"/>\n",
       "<polyline clip-path=\"url(#clip442)\" style=\"stroke:#000000; stroke-linecap:round; stroke-linejoin:round; stroke-width:2; stroke-opacity:0.1; fill:none\" points=\"1729.22,1423.18 1729.22,123.472 \"/>\n",
       "<polyline clip-path=\"url(#clip442)\" style=\"stroke:#000000; stroke-linecap:round; stroke-linejoin:round; stroke-width:2; stroke-opacity:0.1; fill:none\" points=\"2086.06,1423.18 2086.06,123.472 \"/>\n",
       "<polyline clip-path=\"url(#clip440)\" style=\"stroke:#000000; stroke-linecap:round; stroke-linejoin:round; stroke-width:4; stroke-opacity:1; fill:none\" points=\"242.135,1423.18 2352.76,1423.18 \"/>\n",
       "<polyline clip-path=\"url(#clip440)\" style=\"stroke:#000000; stroke-linecap:round; stroke-linejoin:round; stroke-width:4; stroke-opacity:1; fill:none\" points=\"301.869,1423.18 301.869,1404.28 \"/>\n",
       "<polyline clip-path=\"url(#clip440)\" style=\"stroke:#000000; stroke-linecap:round; stroke-linejoin:round; stroke-width:4; stroke-opacity:1; fill:none\" points=\"658.707,1423.18 658.707,1404.28 \"/>\n",
       "<polyline clip-path=\"url(#clip440)\" style=\"stroke:#000000; stroke-linecap:round; stroke-linejoin:round; stroke-width:4; stroke-opacity:1; fill:none\" points=\"1015.54,1423.18 1015.54,1404.28 \"/>\n",
       "<polyline clip-path=\"url(#clip440)\" style=\"stroke:#000000; stroke-linecap:round; stroke-linejoin:round; stroke-width:4; stroke-opacity:1; fill:none\" points=\"1372.38,1423.18 1372.38,1404.28 \"/>\n",
       "<polyline clip-path=\"url(#clip440)\" style=\"stroke:#000000; stroke-linecap:round; stroke-linejoin:round; stroke-width:4; stroke-opacity:1; fill:none\" points=\"1729.22,1423.18 1729.22,1404.28 \"/>\n",
       "<polyline clip-path=\"url(#clip440)\" style=\"stroke:#000000; stroke-linecap:round; stroke-linejoin:round; stroke-width:4; stroke-opacity:1; fill:none\" points=\"2086.06,1423.18 2086.06,1404.28 \"/>\n",
       "<path clip-path=\"url(#clip440)\" d=\"M279.254 1454.1 Q275.643 1454.1 273.814 1457.66 Q272.008 1461.2 272.008 1468.33 Q272.008 1475.44 273.814 1479.01 Q275.643 1482.55 279.254 1482.55 Q282.888 1482.55 284.693 1479.01 Q286.522 1475.44 286.522 1468.33 Q286.522 1461.2 284.693 1457.66 Q282.888 1454.1 279.254 1454.1 M279.254 1450.39 Q285.064 1450.39 288.119 1455 Q291.198 1459.58 291.198 1468.33 Q291.198 1477.06 288.119 1481.67 Q285.064 1486.25 279.254 1486.25 Q273.443 1486.25 270.365 1481.67 Q267.309 1477.06 267.309 1468.33 Q267.309 1459.58 270.365 1455 Q273.443 1450.39 279.254 1450.39 Z\" fill=\"#000000\" fill-rule=\"evenodd\" fill-opacity=\"1\" /><path clip-path=\"url(#clip440)\" d=\"M299.416 1479.7 L304.3 1479.7 L304.3 1485.58 L299.416 1485.58 L299.416 1479.7 Z\" fill=\"#000000\" fill-rule=\"evenodd\" fill-opacity=\"1\" /><path clip-path=\"url(#clip440)\" d=\"M324.485 1454.1 Q320.874 1454.1 319.045 1457.66 Q317.24 1461.2 317.24 1468.33 Q317.24 1475.44 319.045 1479.01 Q320.874 1482.55 324.485 1482.55 Q328.119 1482.55 329.925 1479.01 Q331.753 1475.44 331.753 1468.33 Q331.753 1461.2 329.925 1457.66 Q328.119 1454.1 324.485 1454.1 M324.485 1450.39 Q330.295 1450.39 333.351 1455 Q336.429 1459.58 336.429 1468.33 Q336.429 1477.06 333.351 1481.67 Q330.295 1486.25 324.485 1486.25 Q318.675 1486.25 315.596 1481.67 Q312.54 1477.06 312.54 1468.33 Q312.54 1459.58 315.596 1455 Q318.675 1450.39 324.485 1450.39 Z\" fill=\"#000000\" fill-rule=\"evenodd\" fill-opacity=\"1\" /><path clip-path=\"url(#clip440)\" d=\"M630.443 1481.64 L646.762 1481.64 L646.762 1485.58 L624.818 1485.58 L624.818 1481.64 Q627.48 1478.89 632.063 1474.26 Q636.67 1469.61 637.85 1468.27 Q640.096 1465.74 640.975 1464.01 Q641.878 1462.25 641.878 1460.56 Q641.878 1457.8 639.933 1456.07 Q638.012 1454.33 634.91 1454.33 Q632.711 1454.33 630.258 1455.09 Q627.827 1455.86 625.049 1457.41 L625.049 1452.69 Q627.873 1451.55 630.327 1450.97 Q632.781 1450.39 634.818 1450.39 Q640.188 1450.39 643.383 1453.08 Q646.577 1455.77 646.577 1460.26 Q646.577 1462.39 645.767 1464.31 Q644.98 1466.2 642.873 1468.8 Q642.295 1469.47 639.193 1472.69 Q636.091 1475.88 630.443 1481.64 Z\" fill=\"#000000\" fill-rule=\"evenodd\" fill-opacity=\"1\" /><path clip-path=\"url(#clip440)\" d=\"M656.577 1479.7 L661.461 1479.7 L661.461 1485.58 L656.577 1485.58 L656.577 1479.7 Z\" fill=\"#000000\" fill-rule=\"evenodd\" fill-opacity=\"1\" /><path clip-path=\"url(#clip440)\" d=\"M671.693 1451.02 L690.049 1451.02 L690.049 1454.96 L675.975 1454.96 L675.975 1463.43 Q676.993 1463.08 678.012 1462.92 Q679.03 1462.73 680.049 1462.73 Q685.836 1462.73 689.216 1465.9 Q692.595 1469.08 692.595 1474.49 Q692.595 1480.07 689.123 1483.17 Q685.651 1486.25 679.331 1486.25 Q677.156 1486.25 674.887 1485.88 Q672.642 1485.51 670.234 1484.77 L670.234 1480.07 Q672.318 1481.2 674.54 1481.76 Q676.762 1482.32 679.239 1482.32 Q683.243 1482.32 685.581 1480.21 Q687.919 1478.1 687.919 1474.49 Q687.919 1470.88 685.581 1468.77 Q683.243 1466.67 679.239 1466.67 Q677.364 1466.67 675.489 1467.08 Q673.637 1467.5 671.693 1468.38 L671.693 1451.02 Z\" fill=\"#000000\" fill-rule=\"evenodd\" fill-opacity=\"1\" /><path clip-path=\"url(#clip440)\" d=\"M982.708 1451.02 L1001.06 1451.02 L1001.06 1454.96 L986.991 1454.96 L986.991 1463.43 Q988.009 1463.08 989.028 1462.92 Q990.046 1462.73 991.065 1462.73 Q996.852 1462.73 1000.23 1465.9 Q1003.61 1469.08 1003.61 1474.49 Q1003.61 1480.07 1000.14 1483.17 Q996.667 1486.25 990.347 1486.25 Q988.171 1486.25 985.903 1485.88 Q983.657 1485.51 981.25 1484.77 L981.25 1480.07 Q983.333 1481.2 985.556 1481.76 Q987.778 1482.32 990.255 1482.32 Q994.259 1482.32 996.597 1480.21 Q998.935 1478.1 998.935 1474.49 Q998.935 1470.88 996.597 1468.77 Q994.259 1466.67 990.255 1466.67 Q988.38 1466.67 986.505 1467.08 Q984.653 1467.5 982.708 1468.38 L982.708 1451.02 Z\" fill=\"#000000\" fill-rule=\"evenodd\" fill-opacity=\"1\" /><path clip-path=\"url(#clip440)\" d=\"M1012.82 1479.7 L1017.71 1479.7 L1017.71 1485.58 L1012.82 1485.58 L1012.82 1479.7 Z\" fill=\"#000000\" fill-rule=\"evenodd\" fill-opacity=\"1\" /><path clip-path=\"url(#clip440)\" d=\"M1037.89 1454.1 Q1034.28 1454.1 1032.45 1457.66 Q1030.65 1461.2 1030.65 1468.33 Q1030.65 1475.44 1032.45 1479.01 Q1034.28 1482.55 1037.89 1482.55 Q1041.53 1482.55 1043.33 1479.01 Q1045.16 1475.44 1045.16 1468.33 Q1045.16 1461.2 1043.33 1457.66 Q1041.53 1454.1 1037.89 1454.1 M1037.89 1450.39 Q1043.7 1450.39 1046.76 1455 Q1049.84 1459.58 1049.84 1468.33 Q1049.84 1477.06 1046.76 1481.67 Q1043.7 1486.25 1037.89 1486.25 Q1032.08 1486.25 1029 1481.67 Q1025.95 1477.06 1025.95 1468.33 Q1025.95 1459.58 1029 1455 Q1032.08 1450.39 1037.89 1450.39 Z\" fill=\"#000000\" fill-rule=\"evenodd\" fill-opacity=\"1\" /><path clip-path=\"url(#clip440)\" d=\"M1338.7 1451.02 L1360.92 1451.02 L1360.92 1453.01 L1348.38 1485.58 L1343.49 1485.58 L1355.3 1454.96 L1338.7 1454.96 L1338.7 1451.02 Z\" fill=\"#000000\" fill-rule=\"evenodd\" fill-opacity=\"1\" /><path clip-path=\"url(#clip440)\" d=\"M1370.04 1479.7 L1374.93 1479.7 L1374.93 1485.58 L1370.04 1485.58 L1370.04 1479.7 Z\" fill=\"#000000\" fill-rule=\"evenodd\" fill-opacity=\"1\" /><path clip-path=\"url(#clip440)\" d=\"M1385.16 1451.02 L1403.52 1451.02 L1403.52 1454.96 L1389.44 1454.96 L1389.44 1463.43 Q1390.46 1463.08 1391.48 1462.92 Q1392.5 1462.73 1393.52 1462.73 Q1399.3 1462.73 1402.68 1465.9 Q1406.06 1469.08 1406.06 1474.49 Q1406.06 1480.07 1402.59 1483.17 Q1399.12 1486.25 1392.8 1486.25 Q1390.62 1486.25 1388.35 1485.88 Q1386.11 1485.51 1383.7 1484.77 L1383.7 1480.07 Q1385.78 1481.2 1388.01 1481.76 Q1390.23 1482.32 1392.71 1482.32 Q1396.71 1482.32 1399.05 1480.21 Q1401.39 1478.1 1401.39 1474.49 Q1401.39 1470.88 1399.05 1468.77 Q1396.71 1466.67 1392.71 1466.67 Q1390.83 1466.67 1388.96 1467.08 Q1387.1 1467.5 1385.16 1468.38 L1385.16 1451.02 Z\" fill=\"#000000\" fill-rule=\"evenodd\" fill-opacity=\"1\" /><path clip-path=\"url(#clip440)\" d=\"M1681.29 1481.64 L1688.93 1481.64 L1688.93 1455.28 L1680.62 1456.95 L1680.62 1452.69 L1688.88 1451.02 L1693.56 1451.02 L1693.56 1481.64 L1701.2 1481.64 L1701.2 1485.58 L1681.29 1485.58 L1681.29 1481.64 Z\" fill=\"#000000\" fill-rule=\"evenodd\" fill-opacity=\"1\" /><path clip-path=\"url(#clip440)\" d=\"M1720.64 1454.1 Q1717.03 1454.1 1715.2 1457.66 Q1713.4 1461.2 1713.4 1468.33 Q1713.4 1475.44 1715.2 1479.01 Q1717.03 1482.55 1720.64 1482.55 Q1724.28 1482.55 1726.08 1479.01 Q1727.91 1475.44 1727.91 1468.33 Q1727.91 1461.2 1726.08 1457.66 Q1724.28 1454.1 1720.64 1454.1 M1720.64 1450.39 Q1726.45 1450.39 1729.51 1455 Q1732.59 1459.58 1732.59 1468.33 Q1732.59 1477.06 1729.51 1481.67 Q1726.45 1486.25 1720.64 1486.25 Q1714.83 1486.25 1711.75 1481.67 Q1708.7 1477.06 1708.7 1468.33 Q1708.7 1459.58 1711.75 1455 Q1714.83 1450.39 1720.64 1450.39 Z\" fill=\"#000000\" fill-rule=\"evenodd\" fill-opacity=\"1\" /><path clip-path=\"url(#clip440)\" d=\"M1740.8 1479.7 L1745.69 1479.7 L1745.69 1485.58 L1740.8 1485.58 L1740.8 1479.7 Z\" fill=\"#000000\" fill-rule=\"evenodd\" fill-opacity=\"1\" /><path clip-path=\"url(#clip440)\" d=\"M1765.87 1454.1 Q1762.26 1454.1 1760.43 1457.66 Q1758.63 1461.2 1758.63 1468.33 Q1758.63 1475.44 1760.43 1479.01 Q1762.26 1482.55 1765.87 1482.55 Q1769.51 1482.55 1771.31 1479.01 Q1773.14 1475.44 1773.14 1468.33 Q1773.14 1461.2 1771.31 1457.66 Q1769.51 1454.1 1765.87 1454.1 M1765.87 1450.39 Q1771.68 1450.39 1774.74 1455 Q1777.82 1459.58 1777.82 1468.33 Q1777.82 1477.06 1774.74 1481.67 Q1771.68 1486.25 1765.87 1486.25 Q1760.06 1486.25 1756.98 1481.67 Q1753.93 1477.06 1753.93 1468.33 Q1753.93 1459.58 1756.98 1455 Q1760.06 1450.39 1765.87 1450.39 Z\" fill=\"#000000\" fill-rule=\"evenodd\" fill-opacity=\"1\" /><path clip-path=\"url(#clip440)\" d=\"M2038.63 1481.64 L2046.26 1481.64 L2046.26 1455.28 L2037.95 1456.95 L2037.95 1452.69 L2046.22 1451.02 L2050.89 1451.02 L2050.89 1481.64 L2058.53 1481.64 L2058.53 1485.58 L2038.63 1485.58 L2038.63 1481.64 Z\" fill=\"#000000\" fill-rule=\"evenodd\" fill-opacity=\"1\" /><path clip-path=\"url(#clip440)\" d=\"M2072 1481.64 L2088.32 1481.64 L2088.32 1485.58 L2066.38 1485.58 L2066.38 1481.64 Q2069.04 1478.89 2073.63 1474.26 Q2078.23 1469.61 2079.41 1468.27 Q2081.66 1465.74 2082.54 1464.01 Q2083.44 1462.25 2083.44 1460.56 Q2083.44 1457.8 2081.5 1456.07 Q2079.57 1454.33 2076.47 1454.33 Q2074.27 1454.33 2071.82 1455.09 Q2069.39 1455.86 2066.61 1457.41 L2066.61 1452.69 Q2069.44 1451.55 2071.89 1450.97 Q2074.34 1450.39 2076.38 1450.39 Q2081.75 1450.39 2084.94 1453.08 Q2088.14 1455.77 2088.14 1460.26 Q2088.14 1462.39 2087.33 1464.31 Q2086.54 1466.2 2084.44 1468.8 Q2083.86 1469.47 2080.75 1472.69 Q2077.65 1475.88 2072 1481.64 Z\" fill=\"#000000\" fill-rule=\"evenodd\" fill-opacity=\"1\" /><path clip-path=\"url(#clip440)\" d=\"M2098.14 1479.7 L2103.02 1479.7 L2103.02 1485.58 L2098.14 1485.58 L2098.14 1479.7 Z\" fill=\"#000000\" fill-rule=\"evenodd\" fill-opacity=\"1\" /><path clip-path=\"url(#clip440)\" d=\"M2113.25 1451.02 L2131.61 1451.02 L2131.61 1454.96 L2117.54 1454.96 L2117.54 1463.43 Q2118.56 1463.08 2119.57 1462.92 Q2120.59 1462.73 2121.61 1462.73 Q2127.4 1462.73 2130.78 1465.9 Q2134.16 1469.08 2134.16 1474.49 Q2134.16 1480.07 2130.69 1483.17 Q2127.21 1486.25 2120.89 1486.25 Q2118.72 1486.25 2116.45 1485.88 Q2114.2 1485.51 2111.8 1484.77 L2111.8 1480.07 Q2113.88 1481.2 2116.1 1481.76 Q2118.32 1482.32 2120.8 1482.32 Q2124.81 1482.32 2127.14 1480.21 Q2129.48 1478.1 2129.48 1474.49 Q2129.48 1470.88 2127.14 1468.77 Q2124.81 1466.67 2120.8 1466.67 Q2118.93 1466.67 2117.05 1467.08 Q2115.2 1467.5 2113.25 1468.38 L2113.25 1451.02 Z\" fill=\"#000000\" fill-rule=\"evenodd\" fill-opacity=\"1\" /><path clip-path=\"url(#clip440)\" d=\"M1184.9 1522.27 L1184.9 1532.4 L1196.96 1532.4 L1196.96 1536.95 L1184.9 1536.95 L1184.9 1556.3 Q1184.9 1560.66 1186.08 1561.9 Q1187.29 1563.14 1190.95 1563.14 L1196.96 1563.14 L1196.96 1568.04 L1190.95 1568.04 Q1184.17 1568.04 1181.59 1565.53 Q1179.01 1562.98 1179.01 1556.3 L1179.01 1536.95 L1174.71 1536.95 L1174.71 1532.4 L1179.01 1532.4 L1179.01 1522.27 L1184.9 1522.27 Z\" fill=\"#000000\" fill-rule=\"evenodd\" fill-opacity=\"1\" /><path clip-path=\"url(#clip440)\" d=\"M1204.67 1532.4 L1210.52 1532.4 L1210.52 1568.04 L1204.67 1568.04 L1204.67 1532.4 M1204.67 1518.52 L1210.52 1518.52 L1210.52 1525.93 L1204.67 1525.93 L1204.67 1518.52 Z\" fill=\"#000000\" fill-rule=\"evenodd\" fill-opacity=\"1\" /><path clip-path=\"url(#clip440)\" d=\"M1250.53 1539.24 Q1252.73 1535.29 1255.78 1533.41 Q1258.84 1531.54 1262.97 1531.54 Q1268.54 1531.54 1271.57 1535.45 Q1274.59 1539.33 1274.59 1546.53 L1274.59 1568.04 L1268.7 1568.04 L1268.7 1546.72 Q1268.7 1541.59 1266.89 1539.11 Q1265.08 1536.63 1261.35 1536.63 Q1256.8 1536.63 1254.16 1539.65 Q1251.52 1542.68 1251.52 1547.9 L1251.52 1568.04 L1245.63 1568.04 L1245.63 1546.72 Q1245.63 1541.56 1243.81 1539.11 Q1242 1536.63 1238.21 1536.63 Q1233.72 1536.63 1231.08 1539.68 Q1228.44 1542.71 1228.44 1547.9 L1228.44 1568.04 L1222.55 1568.04 L1222.55 1532.4 L1228.44 1532.4 L1228.44 1537.93 Q1230.45 1534.66 1233.25 1533.1 Q1236.05 1531.54 1239.9 1531.54 Q1243.78 1531.54 1246.49 1533.51 Q1249.23 1535.48 1250.53 1539.24 Z\" fill=\"#000000\" fill-rule=\"evenodd\" fill-opacity=\"1\" /><path clip-path=\"url(#clip440)\" d=\"M1316.77 1548.76 L1316.77 1551.62 L1289.84 1551.62 Q1290.22 1557.67 1293.47 1560.85 Q1296.75 1564 1302.57 1564 Q1305.94 1564 1309.09 1563.17 Q1312.28 1562.35 1315.4 1560.69 L1315.4 1566.23 Q1312.25 1567.57 1308.94 1568.27 Q1305.63 1568.97 1302.22 1568.97 Q1293.69 1568.97 1288.69 1564 Q1283.73 1559.04 1283.73 1550.57 Q1283.73 1541.82 1288.44 1536.69 Q1293.18 1531.54 1301.2 1531.54 Q1308.39 1531.54 1312.56 1536.18 Q1316.77 1540.8 1316.77 1548.76 M1310.91 1547.04 Q1310.85 1542.23 1308.2 1539.37 Q1305.59 1536.5 1301.26 1536.5 Q1296.36 1536.5 1293.4 1539.27 Q1290.47 1542.04 1290.03 1547.07 L1310.91 1547.04 Z\" fill=\"#000000\" fill-rule=\"evenodd\" fill-opacity=\"1\" /><path clip-path=\"url(#clip440)\" d=\"M1361.17 1518.58 Q1356.9 1525.9 1354.83 1533.06 Q1352.76 1540.23 1352.76 1547.58 Q1352.76 1554.93 1354.83 1562.16 Q1356.93 1569.35 1361.17 1576.64 L1356.07 1576.64 Q1351.3 1569.16 1348.91 1561.93 Q1346.56 1554.71 1346.56 1547.58 Q1346.56 1540.48 1348.91 1533.29 Q1351.27 1526.09 1356.07 1518.58 L1361.17 1518.58 Z\" fill=\"#000000\" fill-rule=\"evenodd\" fill-opacity=\"1\" /><path clip-path=\"url(#clip440)\" d=\"M1395.25 1533.45 L1395.25 1538.98 Q1392.77 1537.71 1390.1 1537.07 Q1387.42 1536.44 1384.56 1536.44 Q1380.2 1536.44 1378 1537.77 Q1375.84 1539.11 1375.84 1541.79 Q1375.84 1543.82 1377.4 1545 Q1378.96 1546.15 1383.67 1547.2 L1385.67 1547.64 Q1391.91 1548.98 1394.52 1551.43 Q1397.16 1553.85 1397.16 1558.21 Q1397.16 1563.17 1393.22 1566.07 Q1389.3 1568.97 1382.43 1568.97 Q1379.56 1568.97 1376.44 1568.39 Q1373.36 1567.85 1369.92 1566.74 L1369.92 1560.69 Q1373.17 1562.38 1376.32 1563.24 Q1379.47 1564.07 1382.55 1564.07 Q1386.69 1564.07 1388.92 1562.66 Q1391.15 1561.23 1391.15 1558.65 Q1391.15 1556.27 1389.53 1554.99 Q1387.93 1553.72 1382.49 1552.54 L1380.45 1552.07 Q1375.01 1550.92 1372.59 1548.56 Q1370.17 1546.18 1370.17 1542.04 Q1370.17 1537.01 1373.74 1534.27 Q1377.3 1531.54 1383.86 1531.54 Q1387.11 1531.54 1389.97 1532.01 Q1392.84 1532.49 1395.25 1533.45 Z\" fill=\"#000000\" fill-rule=\"evenodd\" fill-opacity=\"1\" /><path clip-path=\"url(#clip440)\" d=\"M1405.57 1518.58 L1410.66 1518.58 Q1415.43 1526.09 1417.79 1533.29 Q1420.18 1540.48 1420.18 1547.58 Q1420.18 1554.71 1417.79 1561.93 Q1415.43 1569.16 1410.66 1576.64 L1405.57 1576.64 Q1409.8 1569.35 1411.87 1562.16 Q1413.97 1554.93 1413.97 1547.58 Q1413.97 1540.23 1411.87 1533.06 Q1409.8 1525.9 1405.57 1518.58 Z\" fill=\"#000000\" fill-rule=\"evenodd\" fill-opacity=\"1\" /><polyline clip-path=\"url(#clip442)\" style=\"stroke:#000000; stroke-linecap:round; stroke-linejoin:round; stroke-width:2; stroke-opacity:0.1; fill:none\" points=\"242.135,1391.51 2352.76,1391.51 \"/>\n",
       "<polyline clip-path=\"url(#clip442)\" style=\"stroke:#000000; stroke-linecap:round; stroke-linejoin:round; stroke-width:2; stroke-opacity:0.1; fill:none\" points=\"242.135,1177.69 2352.76,1177.69 \"/>\n",
       "<polyline clip-path=\"url(#clip442)\" style=\"stroke:#000000; stroke-linecap:round; stroke-linejoin:round; stroke-width:2; stroke-opacity:0.1; fill:none\" points=\"242.135,963.88 2352.76,963.88 \"/>\n",
       "<polyline clip-path=\"url(#clip442)\" style=\"stroke:#000000; stroke-linecap:round; stroke-linejoin:round; stroke-width:2; stroke-opacity:0.1; fill:none\" points=\"242.135,750.066 2352.76,750.066 \"/>\n",
       "<polyline clip-path=\"url(#clip442)\" style=\"stroke:#000000; stroke-linecap:round; stroke-linejoin:round; stroke-width:2; stroke-opacity:0.1; fill:none\" points=\"242.135,536.252 2352.76,536.252 \"/>\n",
       "<polyline clip-path=\"url(#clip442)\" style=\"stroke:#000000; stroke-linecap:round; stroke-linejoin:round; stroke-width:2; stroke-opacity:0.1; fill:none\" points=\"242.135,322.439 2352.76,322.439 \"/>\n",
       "<polyline clip-path=\"url(#clip440)\" style=\"stroke:#000000; stroke-linecap:round; stroke-linejoin:round; stroke-width:4; stroke-opacity:1; fill:none\" points=\"242.135,1423.18 242.135,123.472 \"/>\n",
       "<polyline clip-path=\"url(#clip440)\" style=\"stroke:#000000; stroke-linecap:round; stroke-linejoin:round; stroke-width:4; stroke-opacity:1; fill:none\" points=\"242.135,1391.51 261.032,1391.51 \"/>\n",
       "<polyline clip-path=\"url(#clip440)\" style=\"stroke:#000000; stroke-linecap:round; stroke-linejoin:round; stroke-width:4; stroke-opacity:1; fill:none\" points=\"242.135,1177.69 261.032,1177.69 \"/>\n",
       "<polyline clip-path=\"url(#clip440)\" style=\"stroke:#000000; stroke-linecap:round; stroke-linejoin:round; stroke-width:4; stroke-opacity:1; fill:none\" points=\"242.135,963.88 261.032,963.88 \"/>\n",
       "<polyline clip-path=\"url(#clip440)\" style=\"stroke:#000000; stroke-linecap:round; stroke-linejoin:round; stroke-width:4; stroke-opacity:1; fill:none\" points=\"242.135,750.066 261.032,750.066 \"/>\n",
       "<polyline clip-path=\"url(#clip440)\" style=\"stroke:#000000; stroke-linecap:round; stroke-linejoin:round; stroke-width:4; stroke-opacity:1; fill:none\" points=\"242.135,536.252 261.032,536.252 \"/>\n",
       "<polyline clip-path=\"url(#clip440)\" style=\"stroke:#000000; stroke-linecap:round; stroke-linejoin:round; stroke-width:4; stroke-opacity:1; fill:none\" points=\"242.135,322.439 261.032,322.439 \"/>\n",
       "<path clip-path=\"url(#clip440)\" d=\"M114.26 1391.96 L143.936 1391.96 L143.936 1395.89 L114.26 1395.89 L114.26 1391.96 Z\" fill=\"#000000\" fill-rule=\"evenodd\" fill-opacity=\"1\" /><path clip-path=\"url(#clip440)\" d=\"M158.056 1404.85 L174.376 1404.85 L174.376 1408.79 L152.431 1408.79 L152.431 1404.85 Q155.093 1402.1 159.677 1397.47 Q164.283 1392.81 165.464 1391.47 Q167.709 1388.95 168.589 1387.21 Q169.491 1385.45 169.491 1383.76 Q169.491 1381.01 167.547 1379.27 Q165.626 1377.54 162.524 1377.54 Q160.325 1377.54 157.871 1378.3 Q155.44 1379.06 152.663 1380.62 L152.663 1375.89 Q155.487 1374.76 157.94 1374.18 Q160.394 1373.6 162.431 1373.6 Q167.802 1373.6 170.996 1376.29 Q174.19 1378.97 174.19 1383.46 Q174.19 1385.59 173.38 1387.51 Q172.593 1389.41 170.487 1392 Q169.908 1392.68 166.806 1395.89 Q163.704 1399.09 158.056 1404.85 Z\" fill=\"#000000\" fill-rule=\"evenodd\" fill-opacity=\"1\" /><path clip-path=\"url(#clip440)\" d=\"M194.19 1377.31 Q190.579 1377.31 188.75 1380.87 Q186.945 1384.41 186.945 1391.54 Q186.945 1398.65 188.75 1402.21 Q190.579 1405.75 194.19 1405.75 Q197.825 1405.75 199.63 1402.21 Q201.459 1398.65 201.459 1391.54 Q201.459 1384.41 199.63 1380.87 Q197.825 1377.31 194.19 1377.31 M194.19 1373.6 Q200 1373.6 203.056 1378.21 Q206.135 1382.79 206.135 1391.54 Q206.135 1400.27 203.056 1404.87 Q200 1409.46 194.19 1409.46 Q188.38 1409.46 185.301 1404.87 Q182.246 1400.27 182.246 1391.54 Q182.246 1382.79 185.301 1378.21 Q188.38 1373.6 194.19 1373.6 Z\" fill=\"#000000\" fill-rule=\"evenodd\" fill-opacity=\"1\" /><path clip-path=\"url(#clip440)\" d=\"M115.256 1178.14 L144.931 1178.14 L144.931 1182.08 L115.256 1182.08 L115.256 1178.14 Z\" fill=\"#000000\" fill-rule=\"evenodd\" fill-opacity=\"1\" /><path clip-path=\"url(#clip440)\" d=\"M155.834 1191.04 L163.473 1191.04 L163.473 1164.67 L155.163 1166.34 L155.163 1162.08 L163.427 1160.41 L168.102 1160.41 L168.102 1191.04 L175.741 1191.04 L175.741 1194.97 L155.834 1194.97 L155.834 1191.04 Z\" fill=\"#000000\" fill-rule=\"evenodd\" fill-opacity=\"1\" /><path clip-path=\"url(#clip440)\" d=\"M185.232 1160.41 L203.588 1160.41 L203.588 1164.35 L189.514 1164.35 L189.514 1172.82 Q190.533 1172.47 191.551 1172.31 Q192.57 1172.13 193.588 1172.13 Q199.375 1172.13 202.755 1175.3 Q206.135 1178.47 206.135 1183.89 Q206.135 1189.46 202.662 1192.57 Q199.19 1195.64 192.871 1195.64 Q190.695 1195.64 188.426 1195.27 Q186.181 1194.9 183.774 1194.16 L183.774 1189.46 Q185.857 1190.6 188.079 1191.15 Q190.301 1191.71 192.778 1191.71 Q196.783 1191.71 199.121 1189.6 Q201.459 1187.5 201.459 1183.89 Q201.459 1180.27 199.121 1178.17 Q196.783 1176.06 192.778 1176.06 Q190.903 1176.06 189.028 1176.48 Q187.176 1176.89 185.232 1177.77 L185.232 1160.41 Z\" fill=\"#000000\" fill-rule=\"evenodd\" fill-opacity=\"1\" /><path clip-path=\"url(#clip440)\" d=\"M114.26 964.331 L143.936 964.331 L143.936 968.266 L114.26 968.266 L114.26 964.331 Z\" fill=\"#000000\" fill-rule=\"evenodd\" fill-opacity=\"1\" /><path clip-path=\"url(#clip440)\" d=\"M154.839 977.225 L162.477 977.225 L162.477 950.859 L154.167 952.526 L154.167 948.266 L162.431 946.6 L167.107 946.6 L167.107 977.225 L174.746 977.225 L174.746 981.16 L154.839 981.16 L154.839 977.225 Z\" fill=\"#000000\" fill-rule=\"evenodd\" fill-opacity=\"1\" /><path clip-path=\"url(#clip440)\" d=\"M194.19 949.678 Q190.579 949.678 188.75 953.243 Q186.945 956.785 186.945 963.914 Q186.945 971.021 188.75 974.586 Q190.579 978.127 194.19 978.127 Q197.825 978.127 199.63 974.586 Q201.459 971.021 201.459 963.914 Q201.459 956.785 199.63 953.243 Q197.825 949.678 194.19 949.678 M194.19 945.975 Q200 945.975 203.056 950.581 Q206.135 955.164 206.135 963.914 Q206.135 972.641 203.056 977.248 Q200 981.831 194.19 981.831 Q188.38 981.831 185.301 977.248 Q182.246 972.641 182.246 963.914 Q182.246 955.164 185.301 950.581 Q188.38 945.975 194.19 945.975 Z\" fill=\"#000000\" fill-rule=\"evenodd\" fill-opacity=\"1\" /><path clip-path=\"url(#clip440)\" d=\"M145.417 750.517 L175.093 750.517 L175.093 754.453 L145.417 754.453 L145.417 750.517 Z\" fill=\"#000000\" fill-rule=\"evenodd\" fill-opacity=\"1\" /><path clip-path=\"url(#clip440)\" d=\"M185.232 732.786 L203.588 732.786 L203.588 736.721 L189.514 736.721 L189.514 745.193 Q190.533 744.846 191.551 744.684 Q192.57 744.499 193.588 744.499 Q199.375 744.499 202.755 747.67 Q206.135 750.842 206.135 756.258 Q206.135 761.837 202.662 764.939 Q199.19 768.017 192.871 768.017 Q190.695 768.017 188.426 767.647 Q186.181 767.277 183.774 766.536 L183.774 761.837 Q185.857 762.971 188.079 763.527 Q190.301 764.082 192.778 764.082 Q196.783 764.082 199.121 761.976 Q201.459 759.869 201.459 756.258 Q201.459 752.647 199.121 750.541 Q196.783 748.434 192.778 748.434 Q190.903 748.434 189.028 748.851 Q187.176 749.267 185.232 750.147 L185.232 732.786 Z\" fill=\"#000000\" fill-rule=\"evenodd\" fill-opacity=\"1\" /><path clip-path=\"url(#clip440)\" d=\"M194.19 522.051 Q190.579 522.051 188.75 525.616 Q186.945 529.158 186.945 536.287 Q186.945 543.394 188.75 546.958 Q190.579 550.5 194.19 550.5 Q197.825 550.5 199.63 546.958 Q201.459 543.394 201.459 536.287 Q201.459 529.158 199.63 525.616 Q197.825 522.051 194.19 522.051 M194.19 518.347 Q200 518.347 203.056 522.954 Q206.135 527.537 206.135 536.287 Q206.135 545.014 203.056 549.62 Q200 554.204 194.19 554.204 Q188.38 554.204 185.301 549.62 Q182.246 545.014 182.246 536.287 Q182.246 527.537 185.301 522.954 Q188.38 518.347 194.19 518.347 Z\" fill=\"#000000\" fill-rule=\"evenodd\" fill-opacity=\"1\" /><path clip-path=\"url(#clip440)\" d=\"M185.232 305.159 L203.588 305.159 L203.588 309.094 L189.514 309.094 L189.514 317.566 Q190.533 317.219 191.551 317.057 Q192.57 316.872 193.588 316.872 Q199.375 316.872 202.755 320.043 Q206.135 323.214 206.135 328.631 Q206.135 334.21 202.662 337.311 Q199.19 340.39 192.871 340.39 Q190.695 340.39 188.426 340.02 Q186.181 339.649 183.774 338.909 L183.774 334.21 Q185.857 335.344 188.079 335.899 Q190.301 336.455 192.778 336.455 Q196.783 336.455 199.121 334.349 Q201.459 332.242 201.459 328.631 Q201.459 325.02 199.121 322.913 Q196.783 320.807 192.778 320.807 Q190.903 320.807 189.028 321.224 Q187.176 321.64 185.232 322.52 L185.232 305.159 Z\" fill=\"#000000\" fill-rule=\"evenodd\" fill-opacity=\"1\" /><path clip-path=\"url(#clip440)\" d=\"M28.3562 756.711 L45.7028 769.602 L64.0042 756.043 L64.0042 762.95 L49.9996 773.326 L64.0042 783.702 L64.0042 790.609 L45.3526 776.763 L28.3562 789.431 L28.3562 782.524 L41.0558 773.071 L28.3562 763.618 L28.3562 756.711 Z\" fill=\"#000000\" fill-rule=\"evenodd\" fill-opacity=\"1\" /><path clip-path=\"url(#clip440)\" d=\"M955.488 14.0809 L955.488 22.0612 Q950.83 19.8332 946.698 18.7395 Q942.566 17.6457 938.717 17.6457 Q932.033 17.6457 928.388 20.2383 Q924.782 22.8309 924.782 27.611 Q924.782 31.6214 927.172 33.6873 Q929.603 35.7128 936.327 36.9686 L941.27 37.9813 Q950.425 39.7232 954.759 44.1387 Q959.134 48.5136 959.134 55.8863 Q959.134 64.6767 953.22 69.2137 Q947.346 73.7508 935.963 73.7508 Q931.669 73.7508 926.808 72.7785 Q921.987 71.8063 916.802 69.9024 L916.802 61.4765 Q921.785 64.2716 926.565 65.6895 Q931.345 67.1073 935.963 67.1073 Q942.971 67.1073 946.779 64.3527 Q950.587 61.598 950.587 56.4939 Q950.587 52.0379 947.832 49.5264 Q945.118 47.0148 938.879 45.759 L933.897 44.7868 Q924.742 42.9639 920.65 39.075 Q916.559 35.1862 916.559 28.2591 Q916.559 20.2383 922.19 15.6203 Q927.861 11.0023 937.786 11.0023 Q942.039 11.0023 946.455 11.7719 Q950.87 12.5416 955.488 14.0809 Z\" fill=\"#000000\" fill-rule=\"evenodd\" fill-opacity=\"1\" /><path clip-path=\"url(#clip440)\" d=\"M978.943 14.324 L978.943 27.2059 L994.296 27.2059 L994.296 32.9987 L978.943 32.9987 L978.943 57.6282 Q978.943 63.1779 980.442 64.7578 Q981.981 66.3376 986.64 66.3376 L994.296 66.3376 L994.296 72.576 L986.64 72.576 Q978.011 72.576 974.73 69.3758 Q971.449 66.1351 971.449 57.6282 L971.449 32.9987 L965.98 32.9987 L965.98 27.2059 L971.449 27.2059 L971.449 14.324 L978.943 14.324 Z\" fill=\"#000000\" fill-rule=\"evenodd\" fill-opacity=\"1\" /><path clip-path=\"url(#clip440)\" d=\"M1024.72 49.7694 Q1015.68 49.7694 1012.2 51.8354 Q1008.72 53.9013 1008.72 58.8839 Q1008.72 62.8538 1011.31 65.2034 Q1013.94 67.5124 1018.44 67.5124 Q1024.64 67.5124 1028.36 63.1374 Q1032.13 58.7219 1032.13 51.4303 L1032.13 49.7694 L1024.72 49.7694 M1039.58 46.6907 L1039.58 72.576 L1032.13 72.576 L1032.13 65.6895 Q1029.58 69.8214 1025.77 71.8063 Q1021.96 73.7508 1016.45 73.7508 Q1009.49 73.7508 1005.35 69.8619 Q1001.26 65.9325 1001.26 59.3701 Q1001.26 51.7138 1006.37 47.825 Q1011.51 43.9361 1021.68 43.9361 L1032.13 43.9361 L1032.13 43.2069 Q1032.13 38.0623 1028.73 35.2672 Q1025.37 32.4315 1019.25 32.4315 Q1015.36 32.4315 1011.67 33.3632 Q1007.99 34.295 1004.59 36.1584 L1004.59 29.2718 Q1008.68 27.692 1012.52 26.9223 Q1016.37 26.1121 1020.02 26.1121 Q1029.86 26.1121 1034.72 31.2163 Q1039.58 36.3204 1039.58 46.6907 Z\" fill=\"#000000\" fill-rule=\"evenodd\" fill-opacity=\"1\" /><path clip-path=\"url(#clip440)\" d=\"M1062.31 14.324 L1062.31 27.2059 L1077.66 27.2059 L1077.66 32.9987 L1062.31 32.9987 L1062.31 57.6282 Q1062.31 63.1779 1063.81 64.7578 Q1065.35 66.3376 1070.01 66.3376 L1077.66 66.3376 L1077.66 72.576 L1070.01 72.576 Q1061.38 72.576 1058.1 69.3758 Q1054.82 66.1351 1054.82 57.6282 L1054.82 32.9987 L1049.35 32.9987 L1049.35 27.2059 L1054.82 27.2059 L1054.82 14.324 L1062.31 14.324 Z\" fill=\"#000000\" fill-rule=\"evenodd\" fill-opacity=\"1\" /><path clip-path=\"url(#clip440)\" d=\"M1126.27 48.0275 L1126.27 51.6733 L1092 51.6733 Q1092.49 59.3701 1096.62 63.421 Q1100.79 67.4314 1108.21 67.4314 Q1112.5 67.4314 1116.51 66.3781 Q1120.56 65.3249 1124.53 63.2184 L1124.53 70.267 Q1120.52 71.9684 1116.31 72.8596 Q1112.1 73.7508 1107.76 73.7508 Q1096.91 73.7508 1090.55 67.4314 Q1084.23 61.1119 1084.23 50.3365 Q1084.23 39.1965 1090.22 32.6746 Q1096.26 26.1121 1106.47 26.1121 Q1115.62 26.1121 1120.93 32.0264 Q1126.27 37.9003 1126.27 48.0275 M1118.82 45.84 Q1118.74 39.7232 1115.38 36.0774 Q1112.06 32.4315 1106.55 32.4315 Q1100.31 32.4315 1096.54 35.9558 Q1092.81 39.4801 1092.25 45.8805 L1118.82 45.84 Z\" fill=\"#000000\" fill-rule=\"evenodd\" fill-opacity=\"1\" /><path clip-path=\"url(#clip440)\" d=\"M1165.2 12.096 L1203.44 12.096 L1203.44 18.9825 L1173.39 18.9825 L1173.39 36.8875 L1202.19 36.8875 L1202.19 43.7741 L1173.39 43.7741 L1173.39 65.6895 L1204.17 65.6895 L1204.17 72.576 L1165.2 72.576 L1165.2 12.096 Z\" fill=\"#000000\" fill-rule=\"evenodd\" fill-opacity=\"1\" /><path clip-path=\"url(#clip440)\" d=\"M1243.59 34.1734 Q1242.33 33.4443 1240.83 33.1202 Q1239.38 32.7556 1237.59 32.7556 Q1231.27 32.7556 1227.87 36.8875 Q1224.51 40.9789 1224.51 48.6757 L1224.51 72.576 L1217.01 72.576 L1217.01 27.2059 L1224.51 27.2059 L1224.51 34.2544 Q1226.86 30.1225 1230.63 28.1376 Q1234.39 26.1121 1239.78 26.1121 Q1240.55 26.1121 1241.48 26.2337 Q1242.41 26.3147 1243.55 26.5172 L1243.59 34.1734 Z\" fill=\"#000000\" fill-rule=\"evenodd\" fill-opacity=\"1\" /><path clip-path=\"url(#clip440)\" d=\"M1276.24 34.1734 Q1274.98 33.4443 1273.48 33.1202 Q1272.03 32.7556 1270.24 32.7556 Q1263.92 32.7556 1260.52 36.8875 Q1257.16 40.9789 1257.16 48.6757 L1257.16 72.576 L1249.66 72.576 L1249.66 27.2059 L1257.16 27.2059 L1257.16 34.2544 Q1259.51 30.1225 1263.28 28.1376 Q1267.04 26.1121 1272.43 26.1121 Q1273.2 26.1121 1274.13 26.2337 Q1275.06 26.3147 1276.2 26.5172 L1276.24 34.1734 Z\" fill=\"#000000\" fill-rule=\"evenodd\" fill-opacity=\"1\" /><path clip-path=\"url(#clip440)\" d=\"M1299.82 32.4315 Q1293.82 32.4315 1290.34 37.1306 Q1286.85 41.7891 1286.85 49.9314 Q1286.85 58.0738 1290.3 62.7728 Q1293.78 67.4314 1299.82 67.4314 Q1305.77 67.4314 1309.25 62.7323 Q1312.74 58.0333 1312.74 49.9314 Q1312.74 41.8701 1309.25 37.1711 Q1305.77 32.4315 1299.82 32.4315 M1299.82 26.1121 Q1309.54 26.1121 1315.09 32.4315 Q1320.64 38.7509 1320.64 49.9314 Q1320.64 61.0714 1315.09 67.4314 Q1309.54 73.7508 1299.82 73.7508 Q1290.05 73.7508 1284.5 67.4314 Q1278.99 61.0714 1278.99 49.9314 Q1278.99 38.7509 1284.5 32.4315 Q1290.05 26.1121 1299.82 26.1121 Z\" fill=\"#000000\" fill-rule=\"evenodd\" fill-opacity=\"1\" /><path clip-path=\"url(#clip440)\" d=\"M1359.28 34.1734 Q1358.03 33.4443 1356.53 33.1202 Q1355.07 32.7556 1353.29 32.7556 Q1346.97 32.7556 1343.56 36.8875 Q1340.2 40.9789 1340.2 48.6757 L1340.2 72.576 L1332.71 72.576 L1332.71 27.2059 L1340.2 27.2059 L1340.2 34.2544 Q1342.55 30.1225 1346.32 28.1376 Q1350.09 26.1121 1355.47 26.1121 Q1356.24 26.1121 1357.18 26.2337 Q1358.11 26.3147 1359.24 26.5172 L1359.28 34.1734 Z\" fill=\"#000000\" fill-rule=\"evenodd\" fill-opacity=\"1\" /><path clip-path=\"url(#clip440)\" d=\"M1393.8 12.096 L1401.98 12.096 L1401.98 36.8875 L1431.71 36.8875 L1431.71 12.096 L1439.9 12.096 L1439.9 72.576 L1431.71 72.576 L1431.71 43.7741 L1401.98 43.7741 L1401.98 72.576 L1393.8 72.576 L1393.8 12.096 Z\" fill=\"#000000\" fill-rule=\"evenodd\" fill-opacity=\"1\" /><path clip-path=\"url(#clip440)\" d=\"M1455.86 27.2059 L1463.31 27.2059 L1463.31 72.576 L1455.86 72.576 L1455.86 27.2059 M1455.86 9.54393 L1463.31 9.54393 L1463.31 18.9825 L1455.86 18.9825 L1455.86 9.54393 Z\" fill=\"#000000\" fill-rule=\"evenodd\" fill-opacity=\"1\" /><path clip-path=\"url(#clip440)\" d=\"M1507.83 28.5427 L1507.83 35.5912 Q1504.67 33.9709 1501.27 33.1607 Q1497.86 32.3505 1494.22 32.3505 Q1488.67 32.3505 1485.87 34.0519 Q1483.12 35.7533 1483.12 39.156 Q1483.12 41.7486 1485.1 43.2475 Q1487.09 44.7058 1493.08 46.0426 L1495.64 46.6097 Q1503.58 48.3111 1506.9 51.4303 Q1510.26 54.509 1510.26 60.0587 Q1510.26 66.3781 1505.24 70.0644 Q1500.25 73.7508 1491.5 73.7508 Q1487.86 73.7508 1483.89 73.0216 Q1479.96 72.3329 1475.58 70.9151 L1475.58 63.2184 Q1479.72 65.3654 1483.73 66.4591 Q1487.74 67.5124 1491.67 67.5124 Q1496.93 67.5124 1499.77 65.73 Q1502.6 63.9071 1502.6 60.6258 Q1502.6 57.5877 1500.54 55.9673 Q1498.51 54.3469 1491.58 52.8481 L1488.99 52.2405 Q1482.07 50.7821 1478.99 47.7845 Q1475.91 44.7463 1475.91 39.4801 Q1475.91 33.0797 1480.44 29.5959 Q1484.98 26.1121 1493.33 26.1121 Q1497.46 26.1121 1501.1 26.7198 Q1504.75 27.3274 1507.83 28.5427 Z\" fill=\"#000000\" fill-rule=\"evenodd\" fill-opacity=\"1\" /><path clip-path=\"url(#clip440)\" d=\"M1529.5 14.324 L1529.5 27.2059 L1544.85 27.2059 L1544.85 32.9987 L1529.5 32.9987 L1529.5 57.6282 Q1529.5 63.1779 1531 64.7578 Q1532.54 66.3376 1537.2 66.3376 L1544.85 66.3376 L1544.85 72.576 L1537.2 72.576 Q1528.57 72.576 1525.29 69.3758 Q1522.01 66.1351 1522.01 57.6282 L1522.01 32.9987 L1516.54 32.9987 L1516.54 27.2059 L1522.01 27.2059 L1522.01 14.324 L1529.5 14.324 Z\" fill=\"#000000\" fill-rule=\"evenodd\" fill-opacity=\"1\" /><path clip-path=\"url(#clip440)\" d=\"M1572.24 32.4315 Q1566.24 32.4315 1562.76 37.1306 Q1559.28 41.7891 1559.28 49.9314 Q1559.28 58.0738 1562.72 62.7728 Q1566.2 67.4314 1572.24 67.4314 Q1578.19 67.4314 1581.68 62.7323 Q1585.16 58.0333 1585.16 49.9314 Q1585.16 41.8701 1581.68 37.1711 Q1578.19 32.4315 1572.24 32.4315 M1572.24 26.1121 Q1581.96 26.1121 1587.51 32.4315 Q1593.06 38.7509 1593.06 49.9314 Q1593.06 61.0714 1587.51 67.4314 Q1581.96 73.7508 1572.24 73.7508 Q1562.48 73.7508 1556.93 67.4314 Q1551.42 61.0714 1551.42 49.9314 Q1551.42 38.7509 1556.93 32.4315 Q1562.48 26.1121 1572.24 26.1121 Z\" fill=\"#000000\" fill-rule=\"evenodd\" fill-opacity=\"1\" /><path clip-path=\"url(#clip440)\" d=\"M1631.71 34.1734 Q1630.45 33.4443 1628.95 33.1202 Q1627.49 32.7556 1625.71 32.7556 Q1619.39 32.7556 1615.99 36.8875 Q1612.63 40.9789 1612.63 48.6757 L1612.63 72.576 L1605.13 72.576 L1605.13 27.2059 L1612.63 27.2059 L1612.63 34.2544 Q1614.98 30.1225 1618.74 28.1376 Q1622.51 26.1121 1627.9 26.1121 Q1628.67 26.1121 1629.6 26.2337 Q1630.53 26.3147 1631.67 26.5172 L1631.71 34.1734 Z\" fill=\"#000000\" fill-rule=\"evenodd\" fill-opacity=\"1\" /><path clip-path=\"url(#clip440)\" d=\"M1658.4 76.7889 Q1655.24 84.8907 1652.24 87.3618 Q1649.25 89.8329 1644.22 89.8329 L1638.27 89.8329 L1638.27 83.5945 L1642.64 83.5945 Q1645.72 83.5945 1647.42 82.1361 Q1649.12 80.6778 1651.19 75.2496 L1652.53 71.8468 L1634.18 27.2059 L1642.08 27.2059 L1656.25 62.6918 L1670.43 27.2059 L1678.33 27.2059 L1658.4 76.7889 Z\" fill=\"#000000\" fill-rule=\"evenodd\" fill-opacity=\"1\" /><polyline clip-path=\"url(#clip442)\" style=\"stroke:#009af9; stroke-linecap:round; stroke-linejoin:round; stroke-width:4; stroke-opacity:1; fill:none\" points=\"301.869,709.846 309.006,722.743 316.143,720.305 323.279,715.139 330.416,708.572 337.553,701.316 344.69,698.329 351.826,693.073 358.963,681.118 366.1,675.32 373.237,659.846 380.373,643.2 387.51,645.313 394.647,653.115 401.784,652.763 408.92,649.289 416.057,645.299 423.194,632.484 430.331,627.73 437.467,626.281 444.604,615.959 451.741,604.208 458.878,603.224 466.014,603.776 473.151,596.248 480.288,590.828 487.425,586.616 494.561,583.018 501.698,579.086 508.835,579.551 515.972,576.358 523.108,574.795 530.245,572.359 537.382,570.621 544.519,566.083 551.655,564.709 558.792,562.239 565.929,560.762 573.066,557.156 580.202,555.423 587.339,551.873 594.476,550.25 601.613,547.995 608.749,542.461 615.886,541.64 623.023,539.335 630.16,536.189 637.296,532.646 644.433,530.237 651.57,529.039 658.707,526.931 665.843,524.013 672.98,519.704 680.117,517.892 687.254,516.832 694.39,515.832 701.527,513.872 708.664,512.594 715.801,510.509 722.937,509.959 730.074,509.64 737.211,507.97 744.347,506.132 751.484,504.834 758.621,505.83 765.758,504.375 772.894,504.616 780.031,503.859 787.168,502.72 794.305,504.35 801.441,504.943 808.578,508.654 815.715,509.304 822.852,506.498 829.988,504.92 837.125,501.515 844.262,498.258 851.399,500.126 858.535,504.772 865.672,506.318 872.809,510.767 879.946,514.73 887.082,517.928 894.219,516.099 901.356,517.279 908.493,518.621 915.629,519.34 922.766,518.754 929.903,516.913 937.04,516.249 944.176,515.899 951.313,518.133 958.45,519.812 965.587,519.14 972.723,522.151 979.86,522.434 986.997,523.155 994.134,523.223 1001.27,523.958 1008.41,522.281 1015.54,522.568 1022.68,525.257 1029.82,525.509 1036.95,525.824 1044.09,522.063 1051.23,521.638 1058.36,521.976 1065.5,520.331 1072.64,525.464 1079.77,522.205 1086.91,526.722 1094.05,529.626 1101.18,533.061 1108.32,535.786 1115.46,540.311 1122.6,538.743 1129.73,538.008 1136.87,536.715 1144.01,537.902 1151.14,540.312 1158.28,546.002 1165.42,547.789 1172.55,546.16 1179.69,551.395 1186.83,552.449 1193.96,547.622 1201.1,548.444 1208.24,549.653 1215.37,547.588 1222.51,545.331 1229.65,547.044 1236.78,548.024 1243.92,548.633 1251.06,549.515 1258.19,546.215 1265.33,543.028 1272.47,545.503 1279.6,548.753 1286.74,547.159 1293.88,547.629 1301.01,548.701 1308.15,548.705 1315.29,541.916 1322.42,545.642 1329.56,545.262 1336.7,548.666 1343.83,547.305 1350.97,552.367 1358.11,552.753 1365.24,554.47 1372.38,553.095 1379.52,552.471 1386.65,552.62 1393.79,551.156 1400.93,550.206 1408.06,551.854 1415.2,550.438 1422.34,550.403 1429.48,548.067 1436.61,547.509 1443.75,547.73 1450.89,546.689 1458.02,548.13 1465.16,544.253 1472.3,541.866 1479.43,543.764 1486.57,543.151 1493.71,542.926 1500.84,537.497 1507.98,536.175 1515.12,534.574 1522.25,536.966 1529.39,540.726 1536.53,545.2 1543.66,543.381 1550.8,545.395 1557.94,544.285 1565.07,541.845 1572.21,537.271 1579.35,533.819 1586.48,535.258 1593.62,536.233 1600.76,540.252 1607.89,542.298 1615.03,541.443 1622.17,541.061 1629.3,545.063 1636.44,541.478 1643.58,542.926 1650.71,543.802 1657.85,543.84 1664.99,537.701 1672.12,537.84 1679.26,544.118 1686.4,546.782 1693.53,547.8 1700.67,546.029 1707.81,547.196 1714.94,548.998 1722.08,555.219 1729.22,556.595 1736.36,559.803 1743.49,561.976 1750.63,562.66 1757.77,562.141 1764.9,562.266 1772.04,561.655 1779.18,560.697 1786.31,561.91 1793.45,565.896 1800.59,567.423 1807.72,563.606 1814.86,567.645 1822,564.197 1829.13,566.054 1836.27,566.097 1843.41,565.345 1850.54,561.577 1857.68,568.808 1864.82,571.061 1871.95,566.367 1879.09,562.947 1886.23,563.086 1893.36,562.782 1900.5,561.821 1907.64,557.722 1914.77,557.223 1921.91,559.145 1929.05,561.044 1936.18,561.137 1943.32,560.27 1950.46,558.325 1957.59,553.027 1964.73,547.176 1971.87,547.353 1979,541.618 1986.14,538.943 1993.28,540.891 2000.41,545.178 2007.55,539.786 2014.69,541.169 2021.83,543.935 2028.96,546.693 2036.1,550.641 2043.24,552.912 2050.37,549.35 2057.51,547.38 2064.65,547.045 2071.78,544.202 2078.92,544.181 2086.06,544.329 2093.19,543.881 2100.33,542.005 2107.47,539.29 2114.6,537.985 2121.74,532.938 2128.88,527.938 2136.01,525.64 2143.15,527.349 2150.29,522.388 2157.42,527.268 2164.56,528.868 2171.7,529.127 2178.83,527.712 2185.97,532.784 2193.11,534.314 2200.24,538.449 2207.38,538.655 2214.52,537.038 2221.65,540.817 2228.79,545.534 2235.93,547.446 2243.06,544.252 2250.2,542.461 2257.34,545.816 2264.47,543.719 2271.61,539.278 2278.75,538.323 2285.88,542.382 2293.02,542.283 \"/>\n",
       "<polyline clip-path=\"url(#clip442)\" style=\"stroke:#e26f46; stroke-linecap:round; stroke-linejoin:round; stroke-width:4; stroke-opacity:1; fill:none\" points=\"301.869,625.048 309.006,610.173 316.143,609.723 323.279,607.157 330.416,621.202 337.553,607.963 344.69,606.061 351.826,611.43 358.963,622.421 366.1,622.334 373.237,621.006 380.373,625.253 387.51,618.913 394.647,615.304 401.784,616.003 408.92,620.191 416.057,617.179 423.194,608.274 430.331,606.303 437.467,601.363 444.604,596.158 451.741,584.904 458.878,589.015 466.014,597.717 473.151,594.8 480.288,595.218 487.425,594.263 494.561,593.942 501.698,598.43 508.835,601.093 515.972,603.288 523.108,609.03 530.245,611.032 537.382,615.779 544.519,617.306 551.655,614.126 558.792,615.373 565.929,616.027 573.066,616.915 580.202,615.669 587.339,616.861 594.476,616.814 601.613,616.49 608.749,616.872 615.886,615.219 623.023,614.816 630.16,614.762 637.296,615.416 644.433,615.102 651.57,613.622 658.707,613.208 665.843,613.013 672.98,611.443 680.117,610.165 687.254,610.594 694.39,609.889 701.527,610.069 708.664,608.076 715.801,606.965 722.937,606.277 730.074,605.395 737.211,603.606 744.347,604.405 751.484,601.021 758.621,599.438 765.758,598.579 772.894,599.326 780.031,599.291 787.168,598.695 794.305,596.472 801.441,596.294 808.578,596.703 815.715,594.539 822.852,594.162 829.988,594.167 837.125,591.743 844.262,591.51 851.399,591.787 858.535,587.408 865.672,583.528 872.809,584.87 879.946,586.33 887.082,589.729 894.219,588.119 901.356,588.522 908.493,585.994 915.629,583.648 922.766,578.386 929.903,579.655 937.04,577.772 944.176,574.231 951.313,572.752 958.45,572.642 965.587,568.443 972.723,569.361 979.86,564.898 986.997,563.853 994.134,562.221 1001.27,558.626 1008.41,558.144 1015.54,559.406 1022.68,559.28 1029.82,556.988 1036.95,558.627 1044.09,560.077 1051.23,563.083 1058.36,564.918 1065.5,559.23 1072.64,557.481 1079.77,555.746 1086.91,555.24 1094.05,554.065 1101.18,556.325 1108.32,560.707 1115.46,562.546 1122.6,559.627 1129.73,554.965 1136.87,551.691 1144.01,546.597 1151.14,547.062 1158.28,544.497 1165.42,542.564 1172.55,540.413 1179.69,541.02 1186.83,536.807 1193.96,534.712 1201.1,531.295 1208.24,531.278 1215.37,529.977 1222.51,529.506 1229.65,529.929 1236.78,529.92 1243.92,531.272 1251.06,532.57 1258.19,536.365 1265.33,536.86 1272.47,537.598 1279.6,536.452 1286.74,534.888 1293.88,540.043 1301.01,540.202 1308.15,539.154 1315.29,537.155 1322.42,537.532 1329.56,537.618 1336.7,534.516 1343.83,535.77 1350.97,539.027 1358.11,540.998 1365.24,537.41 1372.38,532.436 1379.52,529.363 1386.65,528.73 1393.79,529.726 1400.93,533.669 1408.06,537.548 1415.2,537.279 1422.34,534.705 1429.48,534.873 1436.61,536.203 1443.75,534.37 1450.89,532.196 1458.02,529.234 1465.16,529.433 1472.3,528.756 1479.43,525.083 1486.57,525.721 1493.71,526.031 1500.84,529.986 1507.98,530.196 1515.12,529.339 1522.25,532.029 1529.39,533.298 1536.53,536.046 1543.66,537.923 1550.8,540.298 1557.94,543.407 1565.07,544.771 1572.21,544.172 1579.35,543.83 1586.48,541.646 1593.62,540.981 1600.76,540.016 1607.89,542.301 1615.03,541.395 1622.17,543.664 1629.3,544.191 1636.44,538.991 1643.58,539.809 1650.71,540.661 1657.85,539.716 1664.99,536.203 1672.12,538.296 1679.26,538.082 1686.4,534.44 1693.53,529.273 1700.67,525.653 1707.81,526.167 1714.94,526.629 1722.08,527.54 1729.22,526.552 1736.36,527.558 1743.49,529.291 1750.63,525.053 1757.77,525.162 1764.9,525.575 1772.04,527.096 1779.18,526.353 1786.31,527.02 1793.45,524.705 1800.59,524.717 1807.72,526.132 1814.86,528.242 1822,527.81 1829.13,529.02 1836.27,530.874 1843.41,536.845 1850.54,539.099 1857.68,534.428 1864.82,534.736 1871.95,538.576 1879.09,538.991 1886.23,541.968 1893.36,542.946 1900.5,549.401 1907.64,547.616 1914.77,546.368 1921.91,543.476 1929.05,538.337 1936.18,539.98 1943.32,537.412 1950.46,540.122 1957.59,540.316 1964.73,539.307 1971.87,542.748 1979,544.277 1986.14,545.817 1993.28,547.405 2000.41,551.742 2007.55,546.828 2014.69,545.26 2021.83,543.802 2028.96,546.204 2036.1,550.344 2043.24,545.537 2050.37,546.029 2057.51,546.406 2064.65,542.155 2071.78,543.19 2078.92,541.745 2086.06,541.777 2093.19,542.149 2100.33,541.736 2107.47,541.412 2114.6,540.132 2121.74,546.049 2128.88,546.374 2136.01,546.23 2143.15,545.371 2150.29,541.741 2157.42,544.775 2164.56,545.515 2171.7,543.989 2178.83,539.664 2185.97,545.149 2193.11,541.394 2200.24,538.127 2207.38,536.843 2214.52,536.495 2221.65,537.735 2228.79,532.546 2235.93,536.823 2243.06,536.574 2250.2,534.321 2257.34,535.735 2264.47,533.702 2271.61,528.943 2278.75,528.721 2285.88,533.068 2293.02,533.021 \"/>\n",
       "<polyline clip-path=\"url(#clip442)\" style=\"stroke:#3da44d; stroke-linecap:round; stroke-linejoin:round; stroke-width:4; stroke-opacity:1; fill:none\" points=\"301.869,1386.4 309.006,1379.64 316.143,1370.87 323.279,1343.59 330.416,1329.13 337.553,1313.99 344.69,1293.64 351.826,1290.63 358.963,1264.25 366.1,1233.05 373.237,1209.17 380.373,1182 387.51,1154.02 394.647,1142.69 401.784,1121.53 408.92,1104.17 416.057,1076.11 423.194,1064.79 430.331,1048.05 437.467,1025.02 444.604,999.837 451.741,979.243 458.878,953.686 466.014,934.847 473.151,913.516 480.288,898.862 487.425,888.325 494.561,870.803 501.698,853.582 508.835,837.523 515.972,821.137 523.108,804.5 530.245,789.204 537.382,768.893 544.519,748.22 551.655,731.143 558.792,715.786 565.929,698.836 573.066,685.034 580.202,670.566 587.339,654.959 594.476,641.007 601.613,626.953 608.749,613.702 615.886,600.837 623.023,589.025 630.16,577.481 637.296,564.736 644.433,552.614 651.57,542.765 658.707,532.211 665.843,521.319 672.98,510.937 680.117,498.839 687.254,488.116 694.39,477.779 701.527,468.655 708.664,457.973 715.801,448.772 722.937,439.49 730.074,431.027 737.211,423.661 744.347,414.792 751.484,406.64 758.621,400.06 765.758,393.128 772.894,385.362 780.031,380.114 787.168,373.883 794.305,367.557 801.441,361.047 808.578,355.442 815.715,349.459 822.852,344.997 829.988,340.733 837.125,339.457 844.262,336.046 851.399,333.613 858.535,326.515 865.672,326.647 872.809,323.607 879.946,317.29 887.082,314.514 894.219,312.163 901.356,307.142 908.493,305.401 915.629,305.266 922.766,301.244 929.903,302.572 937.04,300.2 944.176,296.926 951.313,298.98 958.45,299.449 965.587,297.173 972.723,294.994 979.86,291.93 986.997,290.051 994.134,285.012 1001.27,285.492 1008.41,282.96 1015.54,284.879 1022.68,284.768 1029.82,283.808 1036.95,286.213 1044.09,288.291 1051.23,286.896 1058.36,283.816 1065.5,283.111 1072.64,276.345 1079.77,272.224 1086.91,273.653 1094.05,273.899 1101.18,275.394 1108.32,275.137 1115.46,275.193 1122.6,274.319 1129.73,273.625 1136.87,275.7 1144.01,271.171 1151.14,273.018 1158.28,278.178 1165.42,279.398 1172.55,280.6 1179.69,280.006 1186.83,278.635 1193.96,279.115 1201.1,280.841 1208.24,281.569 1215.37,280.567 1222.51,282.489 1229.65,283.87 1236.78,286.481 1243.92,287.563 1251.06,286.698 1258.19,282.84 1265.33,280.981 1272.47,278.93 1279.6,280.987 1286.74,280.256 1293.88,282.202 1301.01,281.323 1308.15,281.518 1315.29,286.85 1322.42,289.311 1329.56,290.313 1336.7,289.626 1343.83,285.305 1350.97,285.47 1358.11,288.297 1365.24,287.611 1372.38,285.302 1379.52,288.919 1386.65,288.784 1393.79,286.368 1400.93,286.089 1408.06,288.073 1415.2,287.116 1422.34,288.279 1429.48,291.162 1436.61,287.335 1443.75,284.537 1450.89,282.987 1458.02,286.186 1465.16,285.987 1472.3,284.461 1479.43,285.334 1486.57,284.401 1493.71,285.083 1500.84,286.435 1507.98,282.29 1515.12,274.441 1522.25,274.909 1529.39,274.414 1536.53,276.84 1543.66,276.989 1550.8,278.702 1557.94,274.126 1565.07,273.568 1572.21,274.163 1579.35,273.011 1586.48,273.273 1593.62,272.777 1600.76,273.043 1607.89,276.275 1615.03,278.055 1622.17,274.37 1629.3,268.287 1636.44,269.62 1643.58,273.741 1650.71,277.105 1657.85,278.833 1664.99,282.564 1672.12,282.644 1679.26,281.985 1686.4,276.736 1693.53,277.351 1700.67,275.195 1707.81,272.91 1714.94,269.403 1722.08,272.848 1729.22,271.996 1736.36,272.792 1743.49,278.585 1750.63,284.113 1757.77,285.592 1764.9,284.095 1772.04,285.767 1779.18,287.634 1786.31,287.108 1793.45,286.313 1800.59,283.967 1807.72,278.081 1814.86,273.308 1822,271.69 1829.13,265.585 1836.27,268.415 1843.41,269.928 1850.54,272.595 1857.68,269.88 1864.82,273.961 1871.95,274.375 1879.09,274.15 1886.23,273.765 1893.36,271.957 1900.5,274.593 1907.64,276.45 1914.77,279.204 1921.91,276.623 1929.05,276.88 1936.18,272.108 1943.32,271.107 1950.46,275.643 1957.59,275.866 1964.73,278.563 1971.87,278.374 1979,273.343 1986.14,270.632 1993.28,267.755 2000.41,268.627 2007.55,266.197 2014.69,260.154 2021.83,263.829 2028.96,260.634 2036.1,258.802 2043.24,262.921 2050.37,267.36 2057.51,268.326 2064.65,266.652 2071.78,267.166 2078.92,270.423 2086.06,271.616 2093.19,273.78 2100.33,276.268 2107.47,275.9 2114.6,272.788 2121.74,275.741 2128.88,274.437 2136.01,274.438 2143.15,271.895 2150.29,268.689 2157.42,270.939 2164.56,264.946 2171.7,262.886 2178.83,260.605 2185.97,257.619 2193.11,260.09 2200.24,257.712 2207.38,259.401 2214.52,257.133 2221.65,253.911 2228.79,249.45 2235.93,247.097 2243.06,249.392 2250.2,249.814 2257.34,252.107 2264.47,251.852 2271.61,254.38 2278.75,252.952 2285.88,254.409 2293.02,254.832 \"/>\n",
       "<polyline clip-path=\"url(#clip442)\" style=\"stroke:#c271d2; stroke-linecap:round; stroke-linejoin:round; stroke-width:4; stroke-opacity:1; fill:none\" stroke-dasharray=\"16, 10\" points=\"301.869,407.964 309.006,410.259 316.143,412.161 323.279,414.025 330.416,415.894 337.553,417.8 344.69,419.744 351.826,421.65 358.963,423.567 366.1,425.602 373.237,427.638 380.373,429.841 387.51,432.221 394.647,434.447 401.784,436.441 408.92,438.35 416.057,440.233 423.194,442.085 430.331,444.047 437.467,445.989 444.604,447.853 451.741,449.776 458.878,451.772 466.014,453.697 473.151,455.547 480.288,457.422 487.425,459.305 494.561,461.174 501.698,463.026 508.835,464.873 515.972,466.637 523.108,468.379 530.245,470.084 537.382,471.92 544.519,473.711 551.655,475.499 558.792,477.226 565.929,478.916 573.066,480.555 580.202,482.183 587.339,483.764 594.476,485.341 601.613,486.871 608.749,488.368 615.886,489.835 623.023,491.305 630.16,492.748 637.296,494.182 644.433,495.617 651.57,496.971 658.707,498.339 665.843,499.679 672.98,500.952 680.117,502.3 687.254,503.614 694.39,504.888 701.527,506.056 708.664,507.27 715.801,508.445 722.937,509.538 730.074,510.65 737.211,511.717 744.347,512.757 751.484,513.728 758.621,514.726 765.758,515.65 772.894,516.557 780.031,517.417 787.168,519.534 794.305,521.558 801.441,523.408 808.578,525.127 815.715,526.629 822.852,528.019 829.988,529.41 837.125,530.76 844.262,532.131 851.399,533.515 858.535,534.758 865.672,535.786 872.809,536.705 879.946,537.436 887.082,538.002 894.219,538.439 901.356,538.905 908.493,539.306 915.629,539.643 922.766,539.94 929.903,540.235 937.04,540.566 944.176,540.898 951.313,541.218 958.45,541.451 965.587,541.621 972.723,541.801 979.86,541.881 986.997,541.947 994.134,541.988 1001.27,542.023 1008.41,542.036 1015.54,542.098 1022.68,542.146 1029.82,542.112 1036.95,542.072 1044.09,542.026 1051.23,542.094 1058.36,542.17 1065.5,542.231 1072.64,542.337 1079.77,542.287 1086.91,542.334 1094.05,542.246 1101.18,542.075 1108.32,541.814 1115.46,541.486 1122.6,541.046 1129.73,540.679 1136.87,540.354 1144.01,540.09 1151.14,539.806 1158.28,539.466 1165.42,538.979 1172.55,538.47 1179.69,538.038 1186.83,537.477 1193.96,536.919 1201.1,536.539 1208.24,536.159 1215.37,535.767 1222.51,535.461 1229.65,535.239 1236.78,534.98 1243.92,534.708 1251.06,534.436 1258.19,534.152 1265.33,533.983 1272.47,533.922 1279.6,533.79 1286.74,533.567 1293.88,533.407 1301.01,533.241 1308.15,533.054 1315.29,532.88 1322.42,532.918 1329.56,532.842 1336.7,532.783 1343.83,532.627 1350.97,532.521 1358.11,532.271 1365.24,532.023 1372.38,531.741 1379.52,531.516 1386.65,531.324 1393.79,531.138 1400.93,531.009 1408.06,530.914 1415.2,530.775 1422.34,530.687 1429.48,530.606 1436.61,530.601 1443.75,530.612 1450.89,530.617 1458.02,530.649 1465.16,530.639 1472.3,530.746 1479.43,530.916 1486.57,531.019 1493.71,531.133 1500.84,531.249 1507.98,531.518 1515.12,531.811 1522.25,532.133 1529.39,532.365 1536.53,532.47 1543.66,532.433 1550.8,532.455 1557.94,532.417 1565.07,532.411 1572.21,532.48 1579.35,532.681 1586.48,532.972 1593.62,533.202 1600.76,533.39 1607.89,533.446 1615.03,533.439 1622.17,533.459 1629.3,533.487 1636.44,533.393 1643.58,533.413 1650.71,533.387 1657.85,533.338 1664.99,533.29 1672.12,533.429 1679.26,533.555 1686.4,533.486 1693.53,533.34 1700.67,533.175 1707.81,533.072 1714.94,532.943 1722.08,532.764 1729.22,532.413 1736.36,532.044 1743.49,531.6 1750.63,531.119 1757.77,530.648 1764.9,530.222 1772.04,529.818 1779.18,529.454 1786.31,529.145 1793.45,528.816 1800.59,528.391 1807.72,527.944 1814.86,527.64 1822,527.233 1829.13,526.954 1836.27,526.636 1843.41,526.337 1850.54,526.079 1857.68,525.948 1864.82,525.612 1871.95,525.226 1879.09,525.005 1886.23,524.9 1893.36,524.796 1900.5,524.708 1907.64,524.653 1914.77,524.725 1921.91,524.807 1929.05,524.827 1936.18,524.79 1943.32,524.751 1950.46,524.742 1957.59,524.791 1964.73,524.994 1971.87,525.357 1979,525.695 1986.14,526.183 1993.28,526.72 2000.41,527.167 2007.55,527.457 2014.69,527.891 2021.83,528.256 2028.96,528.517 2036.1,528.681 2043.24,528.717 2050.37,528.682 2057.51,528.755 2064.65,528.885 2071.78,529.016 2078.92,529.22 2086.06,529.416 2093.19,529.596 2100.33,529.777 2107.47,530.004 2114.6,530.297 2121.74,530.611 2128.88,531.056 2136.01,531.622 2143.15,532.22 2150.29,532.733 2157.42,533.361 2164.56,533.804 2171.7,534.173 2178.83,534.513 2185.97,534.873 2193.11,535.062 2200.24,535.192 2207.38,535.191 2214.52,535.184 2221.65,535.226 2228.79,535.152 2235.93,534.944 2243.06,534.69 2250.2,534.548 2257.34,534.468 2264.47,534.294 2271.61,534.19 2278.75,534.226 2285.88,534.289 2293.02,534.227 \"/>\n",
       "<polyline clip-path=\"url(#clip442)\" style=\"stroke:#ac8d18; stroke-linecap:round; stroke-linejoin:round; stroke-width:4; stroke-opacity:1; fill:none\" stroke-dasharray=\"16, 10\" points=\"301.869,621.777 309.006,616.491 316.143,611.687 323.279,607.137 330.416,602.877 337.553,598.577 344.69,594.741 351.826,591.148 358.963,587.628 366.1,584.091 373.237,580.749 380.373,577.592 387.51,574.517 394.647,571.718 401.784,569.134 408.92,566.674 416.057,564.259 423.194,562.026 430.331,560.031 437.467,558.165 444.604,556.48 451.741,554.953 458.878,553.657 466.014,552.365 473.151,551.007 480.288,549.744 487.425,548.522 494.561,547.362 501.698,546.247 508.835,545.111 515.972,543.993 523.108,542.89 530.245,541.748 537.382,540.455 544.519,539.143 551.655,537.86 558.792,536.691 565.929,535.554 573.066,534.461 580.202,533.395 587.339,532.399 594.476,531.419 601.613,530.486 608.749,529.601 615.886,528.78 623.023,527.98 630.16,527.218 637.296,526.484 644.433,525.766 651.57,525.12 658.707,524.486 665.843,523.883 672.98,523.336 680.117,522.79 687.254,522.287 694.39,521.801 701.527,521.38 708.664,520.941 715.801,520.548 722.937,520.214 730.074,519.876 737.211,519.566 744.347,519.29 751.484,519.041 758.621,518.817 765.758,518.631 772.894,518.461 780.031,518.295 787.168,517.52 794.305,516.809 801.441,516.208 808.578,515.649 815.715,515.111 822.852,514.674 829.988,514.273 837.125,513.896 844.262,513.614 851.399,513.356 858.535,513.108 865.672,513.003 872.809,513.019 879.946,512.996 887.082,512.93 894.219,512.767 901.356,512.662 908.493,512.552 915.629,512.525 922.766,512.567 929.903,512.765 937.04,512.912 944.176,513.105 951.313,513.393 958.45,513.708 965.587,514.006 972.723,514.411 979.86,514.764 986.997,515.227 994.134,515.692 1001.27,516.178 1008.41,516.742 1015.54,517.285 1022.68,517.758 1029.82,518.208 1036.95,518.696 1044.09,519.109 1051.23,519.45 1058.36,519.68 1065.5,519.844 1072.64,520.167 1079.77,520.522 1086.91,520.905 1094.05,521.28 1101.18,521.667 1108.32,521.964 1115.46,522.112 1122.6,522.198 1129.73,522.363 1136.87,522.657 1144.01,523.03 1151.14,523.532 1158.28,523.989 1165.42,524.495 1172.55,525.028 1179.69,525.592 1186.83,526.103 1193.96,526.709 1201.1,527.34 1208.24,528.031 1215.37,528.682 1222.51,529.332 1229.65,529.957 1236.78,530.532 1243.92,531.07 1251.06,531.536 1258.19,531.935 1265.33,532.196 1272.47,532.426 1279.6,532.622 1286.74,532.837 1293.88,533.087 1301.01,533.168 1308.15,533.239 1315.29,533.337 1322.42,533.49 1329.56,533.62 1336.7,533.741 1343.83,533.946 1350.97,534.101 1358.11,534.151 1365.24,534.139 1372.38,534.233 1379.52,534.47 1386.65,534.784 1393.79,535.098 1400.93,535.363 1408.06,535.495 1415.2,535.503 1422.34,535.517 1429.48,535.607 1436.61,535.686 1443.75,535.722 1450.89,535.81 1458.02,535.957 1465.16,536.184 1472.3,536.392 1479.43,536.607 1486.57,536.917 1493.71,537.19 1500.84,537.438 1507.98,537.553 1515.12,537.654 1522.25,537.773 1529.39,537.804 1536.53,537.798 1543.66,537.711 1550.8,537.572 1557.94,537.371 1565.07,537.091 1572.21,536.787 1579.35,536.517 1586.48,536.275 1593.62,536.115 1600.76,535.983 1607.89,535.887 1615.03,535.729 1622.17,535.606 1629.3,535.426 1636.44,535.239 1643.58,535.219 1650.71,535.177 1657.85,535.111 1664.99,535.078 1672.12,535.152 1679.26,535.159 1686.4,535.174 1693.53,535.292 1700.67,535.56 1707.81,535.918 1714.94,536.24 1722.08,536.526 1729.22,536.767 1736.36,537.025 1743.49,537.236 1750.63,537.383 1757.77,537.647 1764.9,537.891 1772.04,538.109 1779.18,538.268 1786.31,538.439 1793.45,538.581 1800.59,538.782 1807.72,538.97 1814.86,539.105 1822,539.168 1829.13,539.241 1836.27,539.273 1843.41,539.249 1850.54,539.046 1857.68,538.791 1864.82,538.689 1871.95,538.585 1879.09,538.373 1886.23,538.161 1893.36,537.873 1900.5,537.574 1907.64,537.101 1914.77,536.712 1921.91,536.383 1929.05,536.16 1936.18,536.104 1943.32,536.001 1950.46,535.981 1957.59,535.883 1964.73,535.786 1971.87,535.724 1979,535.562 1986.14,535.367 1993.28,535.137 2000.41,534.873 2007.55,534.498 2014.69,534.289 2021.83,534.142 2028.96,534.045 2036.1,533.885 2043.24,533.611 2050.37,533.498 2057.51,533.377 2064.65,533.252 2071.78,533.261 2078.92,533.239 2086.06,533.26 2093.19,533.278 2100.33,533.285 2107.47,533.303 2114.6,533.33 2121.74,533.393 2128.88,533.276 2136.01,533.157 2143.15,533.05 2150.29,532.976 2157.42,533.012 2164.56,532.955 2171.7,532.88 2178.83,532.858 2185.97,532.966 2193.11,532.902 2200.24,532.953 2207.38,533.1 2214.52,533.276 2221.65,533.45 2228.79,533.578 2235.93,533.853 2243.06,533.983 2250.2,534.111 2257.34,534.299 2264.47,534.434 2271.61,534.621 2278.75,534.938 2285.88,535.242 2293.02,535.399 \"/>\n",
       "<polyline clip-path=\"url(#clip442)\" style=\"stroke:#00a9ad; stroke-linecap:round; stroke-linejoin:round; stroke-width:4; stroke-opacity:1; fill:none\" stroke-dasharray=\"16, 10\" points=\"301.869,322.439 309.006,302.178 316.143,283.53 323.279,266.293 330.416,250.928 337.553,236.925 344.69,224.244 351.826,212.949 358.963,202.436 366.1,193.341 373.237,185.731 380.373,179.297 387.51,174.058 394.647,169.982 401.784,166.504 408.92,163.87 416.057,161.912 423.194,160.911 430.331,160.316 437.467,160.256 444.604,160.891 451.741,162.235 458.878,164.111 466.014,166.634 473.151,169.559 480.288,172.938 487.425,176.545 494.561,180.245 501.698,184.241 508.835,188.501 515.972,192.982 523.108,197.673 530.245,202.57 537.382,207.633 544.519,212.988 551.655,218.632 558.792,224.44 565.929,230.35 573.066,236.403 580.202,242.497 587.339,248.651 594.476,254.892 601.613,261.166 608.749,267.477 615.886,273.801 623.023,280.117 630.16,286.399 637.296,292.639 644.433,298.876 651.57,305.1 658.707,311.229 665.843,317.3 672.98,323.331 680.117,329.294 687.254,335.254 694.39,341.168 701.527,347.036 708.664,352.81 715.801,358.551 722.937,364.222 730.074,369.817 737.211,375.323 744.347,380.711 751.484,386.039 758.621,391.283 765.758,396.404 772.894,401.416 780.031,406.358 787.168,411.26 794.305,416.047 801.441,420.731 808.578,425.321 815.715,429.793 822.852,434.172 829.988,438.413 837.125,442.523 844.262,446.419 851.399,450.178 858.535,453.779 865.672,457.37 872.809,460.737 879.946,463.99 887.082,467.231 894.219,470.355 901.356,473.359 908.493,476.326 915.629,479.164 922.766,481.832 929.903,484.457 937.04,486.881 944.176,489.226 951.313,491.527 958.45,493.626 965.587,495.582 972.723,497.485 979.86,499.337 986.997,501.165 994.134,502.938 1001.27,504.752 1008.41,506.444 1015.54,508.105 1022.68,509.606 1029.82,511.02 1036.95,512.375 1044.09,513.576 1051.23,514.643 1058.36,515.686 1065.5,516.756 1072.64,517.78 1079.77,518.942 1086.91,520.156 1094.05,521.256 1101.18,522.279 1108.32,523.195 1115.46,524.063 1122.6,524.877 1129.73,525.665 1136.87,526.427 1144.01,527.081 1151.14,527.829 1158.28,528.475 1165.42,528.93 1172.55,529.319 1179.69,529.647 1186.83,529.975 1193.96,530.322 1201.1,530.634 1208.24,530.876 1215.37,531.082 1222.51,531.306 1229.65,531.458 1236.78,531.56 1243.92,531.577 1251.06,531.561 1258.19,531.572 1265.33,531.698 1272.47,531.87 1279.6,532.093 1286.74,532.242 1293.88,532.404 1301.01,532.497 1308.15,532.61 1315.29,532.711 1322.42,532.647 1329.56,532.514 1336.7,532.36 1343.83,532.234 1350.97,532.247 1358.11,532.253 1365.24,532.173 1372.38,532.119 1379.52,532.139 1386.65,532.049 1393.79,531.97 1400.93,531.965 1408.06,531.968 1415.2,531.914 1422.34,531.892 1429.48,531.837 1436.61,531.698 1443.75,531.682 1450.89,531.75 1458.02,531.859 1465.16,531.867 1472.3,531.88 1479.43,531.937 1486.57,531.965 1493.71,532.021 1500.84,532.053 1507.98,532.043 1515.12,532.155 1522.25,532.494 1529.39,532.798 1536.53,533.098 1543.66,533.309 1550.8,533.503 1557.94,533.634 1565.07,533.893 1572.21,534.153 1579.35,534.379 1586.48,534.624 1593.62,534.847 1600.76,535.072 1607.89,535.274 1615.03,535.368 1622.17,535.404 1629.3,535.548 1636.44,535.862 1643.58,536.116 1650.71,536.234 1657.85,536.243 1664.99,536.202 1672.12,536.052 1679.26,535.91 1686.4,535.795 1693.53,535.843 1700.67,535.87 1707.81,535.959 1714.94,536.112 1722.08,536.359 1729.22,536.491 1736.36,536.637 1743.49,536.752 1750.63,536.687 1757.77,536.46 1764.9,536.204 1772.04,536.008 1779.18,535.775 1786.31,535.501 1793.45,535.258 1800.59,535.054 1807.72,534.933 1814.86,534.992 1822,535.192 1829.13,535.427 1836.27,535.83 1843.41,536.123 1850.54,536.355 1857.68,536.49 1864.82,536.7 1871.95,536.774 1879.09,536.832 1886.23,536.894 1893.36,536.963 1900.5,537.081 1907.64,537.113 1914.77,537.089 1921.91,536.985 1929.05,536.964 1936.18,536.937 1943.32,537.053 1950.46,537.191 1957.59,537.187 1964.73,537.175 1971.87,537.085 1979,537.005 1986.14,537.08 1993.28,537.231 2000.41,537.458 2007.55,537.645 2014.69,537.892 2021.83,538.304 2028.96,538.582 2036.1,538.939 2043.24,539.329 2050.37,539.571 2057.51,539.666 2064.65,539.728 2071.78,539.835 2078.92,539.921 2086.06,539.904 2093.19,539.854 2100.33,539.742 2107.47,539.563 2114.6,539.405 2121.74,539.35 2128.88,539.209 2136.01,539.117 2143.15,539.03 2150.29,539.026 2157.42,539.117 2164.56,539.135 2171.7,539.329 2178.83,539.571 2185.97,539.868 2193.11,540.234 2200.24,540.507 2207.38,540.833 2214.52,541.087 2221.65,541.395 2228.79,541.78 2235.93,542.273 2243.06,542.806 2250.2,543.238 2257.34,543.63 2264.47,543.931 2271.61,544.222 2278.75,544.419 2285.88,544.647 2293.02,544.817 \"/>\n",
       "<path clip-path=\"url(#clip440)\" d=\"M2000.97 1379.86 L2282.4 1379.86 L2282.4 1016.98 L2000.97 1016.98  Z\" fill=\"#ffffff\" fill-rule=\"evenodd\" fill-opacity=\"1\"/>\n",
       "<polyline clip-path=\"url(#clip440)\" style=\"stroke:#000000; stroke-linecap:round; stroke-linejoin:round; stroke-width:4; stroke-opacity:1; fill:none\" points=\"2000.97,1379.86 2282.4,1379.86 2282.4,1016.98 2000.97,1016.98 2000.97,1379.86 \"/>\n",
       "<polyline clip-path=\"url(#clip440)\" style=\"stroke:#009af9; stroke-linecap:round; stroke-linejoin:round; stroke-width:4; stroke-opacity:1; fill:none\" points=\"2024.42,1068.82 2165.13,1068.82 \"/>\n",
       "<path clip-path=\"url(#clip440)\" d=\"M2212.61 1072.07 L2212.61 1074.15 L2193.02 1074.15 Q2193.3 1078.55 2195.66 1080.86 Q2198.05 1083.16 2202.28 1083.16 Q2204.74 1083.16 2207.03 1082.55 Q2209.34 1081.95 2211.61 1080.75 L2211.61 1084.78 Q2209.32 1085.75 2206.91 1086.26 Q2204.51 1086.77 2202.03 1086.77 Q2195.83 1086.77 2192.19 1083.16 Q2188.58 1079.55 2188.58 1073.39 Q2188.58 1067.02 2192.01 1063.3 Q2195.46 1059.55 2201.29 1059.55 Q2206.52 1059.55 2209.55 1062.93 Q2212.61 1066.28 2212.61 1072.07 M2208.35 1070.82 Q2208.3 1067.32 2206.38 1065.24 Q2204.48 1063.16 2201.34 1063.16 Q2197.77 1063.16 2195.62 1065.17 Q2193.49 1067.18 2193.16 1070.84 L2208.35 1070.82 Z\" fill=\"#000000\" fill-rule=\"evenodd\" fill-opacity=\"1\" /><path clip-path=\"url(#clip440)\" d=\"M2240.32 1060.17 L2230.94 1072.79 L2240.8 1086.1 L2235.78 1086.1 L2228.23 1075.91 L2220.69 1086.1 L2215.66 1086.1 L2225.73 1072.53 L2216.52 1060.17 L2221.54 1060.17 L2228.42 1069.41 L2235.29 1060.17 L2240.32 1060.17 Z\" fill=\"#000000\" fill-rule=\"evenodd\" fill-opacity=\"1\" /><path clip-path=\"url(#clip440)\" d=\"M2245.96 1083.55 L2250.69 1083.55 L2250.69 1069.41 L2245.52 1070.36 L2245.52 1067.67 L2250.85 1066.77 L2254.02 1066.77 L2254.02 1083.55 L2258.77 1083.55 L2258.77 1086.1 L2245.96 1086.1 L2245.96 1083.55 Z\" fill=\"#000000\" fill-rule=\"evenodd\" fill-opacity=\"1\" /><polyline clip-path=\"url(#clip440)\" style=\"stroke:#e26f46; stroke-linecap:round; stroke-linejoin:round; stroke-width:4; stroke-opacity:1; fill:none\" points=\"2024.42,1120.66 2165.13,1120.66 \"/>\n",
       "<path clip-path=\"url(#clip440)\" d=\"M2212.61 1123.91 L2212.61 1125.99 L2193.02 1125.99 Q2193.3 1130.39 2195.66 1132.7 Q2198.05 1135 2202.28 1135 Q2204.74 1135 2207.03 1134.39 Q2209.34 1133.79 2211.61 1132.59 L2211.61 1136.62 Q2209.32 1137.59 2206.91 1138.1 Q2204.51 1138.61 2202.03 1138.61 Q2195.83 1138.61 2192.19 1135 Q2188.58 1131.39 2188.58 1125.23 Q2188.58 1118.86 2192.01 1115.14 Q2195.46 1111.39 2201.29 1111.39 Q2206.52 1111.39 2209.55 1114.77 Q2212.61 1118.12 2212.61 1123.91 M2208.35 1122.66 Q2208.3 1119.16 2206.38 1117.08 Q2204.48 1115 2201.34 1115 Q2197.77 1115 2195.62 1117.01 Q2193.49 1119.02 2193.16 1122.68 L2208.35 1122.66 Z\" fill=\"#000000\" fill-rule=\"evenodd\" fill-opacity=\"1\" /><path clip-path=\"url(#clip440)\" d=\"M2240.32 1112.01 L2230.94 1124.63 L2240.8 1137.94 L2235.78 1137.94 L2228.23 1127.75 L2220.69 1137.94 L2215.66 1137.94 L2225.73 1124.37 L2216.52 1112.01 L2221.54 1112.01 L2228.42 1121.25 L2235.29 1112.01 L2240.32 1112.01 Z\" fill=\"#000000\" fill-rule=\"evenodd\" fill-opacity=\"1\" /><path clip-path=\"url(#clip440)\" d=\"M2248.56 1135.3 L2258.37 1135.3 L2258.37 1137.94 L2244.53 1137.94 L2244.53 1135.39 Q2245.32 1134.67 2246.77 1133.38 Q2254.74 1126.32 2254.74 1124.14 Q2254.74 1122.61 2253.53 1121.69 Q2252.33 1120.74 2250.36 1120.74 Q2249.16 1120.74 2247.75 1121.15 Q2246.33 1121.55 2244.67 1122.36 L2244.67 1119.51 Q2246.45 1118.86 2247.98 1118.54 Q2249.53 1118.21 2250.85 1118.21 Q2254.21 1118.21 2256.22 1119.74 Q2258.23 1121.27 2258.23 1123.77 Q2258.23 1126.99 2250.57 1133.56 Q2249.27 1134.67 2248.56 1135.3 Z\" fill=\"#000000\" fill-rule=\"evenodd\" fill-opacity=\"1\" /><polyline clip-path=\"url(#clip440)\" style=\"stroke:#3da44d; stroke-linecap:round; stroke-linejoin:round; stroke-width:4; stroke-opacity:1; fill:none\" points=\"2024.42,1172.5 2165.13,1172.5 \"/>\n",
       "<path clip-path=\"url(#clip440)\" d=\"M2212.61 1175.75 L2212.61 1177.83 L2193.02 1177.83 Q2193.3 1182.23 2195.66 1184.54 Q2198.05 1186.84 2202.28 1186.84 Q2204.74 1186.84 2207.03 1186.23 Q2209.34 1185.63 2211.61 1184.43 L2211.61 1188.46 Q2209.32 1189.43 2206.91 1189.94 Q2204.51 1190.45 2202.03 1190.45 Q2195.83 1190.45 2192.19 1186.84 Q2188.58 1183.23 2188.58 1177.07 Q2188.58 1170.7 2192.01 1166.98 Q2195.46 1163.23 2201.29 1163.23 Q2206.52 1163.23 2209.55 1166.61 Q2212.61 1169.96 2212.61 1175.75 M2208.35 1174.5 Q2208.3 1171 2206.38 1168.92 Q2204.48 1166.84 2201.34 1166.84 Q2197.77 1166.84 2195.62 1168.85 Q2193.49 1170.86 2193.16 1174.52 L2208.35 1174.5 Z\" fill=\"#000000\" fill-rule=\"evenodd\" fill-opacity=\"1\" /><path clip-path=\"url(#clip440)\" d=\"M2240.32 1163.85 L2230.94 1176.47 L2240.8 1189.78 L2235.78 1189.78 L2228.23 1179.59 L2220.69 1189.78 L2215.66 1189.78 L2225.73 1176.21 L2216.52 1163.85 L2221.54 1163.85 L2228.42 1173.09 L2235.29 1163.85 L2240.32 1163.85 Z\" fill=\"#000000\" fill-rule=\"evenodd\" fill-opacity=\"1\" /><path clip-path=\"url(#clip440)\" d=\"M2254.48 1179.31 Q2256.61 1179.73 2257.77 1181 Q2258.95 1182.25 2258.95 1184.15 Q2258.95 1187.02 2256.75 1188.57 Q2254.55 1190.12 2250.46 1190.12 Q2249.14 1190.12 2247.68 1189.87 Q2246.24 1189.64 2244.62 1189.17 L2244.62 1186.37 Q2245.83 1187 2247.19 1187.3 Q2248.58 1187.6 2250.13 1187.6 Q2252.65 1187.6 2254.04 1186.7 Q2255.43 1185.77 2255.43 1184.15 Q2255.43 1182.44 2254.14 1181.56 Q2252.86 1180.68 2250.36 1180.68 L2248.37 1180.68 L2248.37 1178.18 L2250.55 1178.18 Q2252.72 1178.18 2253.83 1177.46 Q2254.97 1176.72 2254.97 1175.33 Q2254.97 1173.99 2253.81 1173.29 Q2252.65 1172.58 2250.46 1172.58 Q2249.53 1172.58 2248.35 1172.79 Q2247.17 1172.99 2245.29 1173.53 L2245.29 1170.86 Q2246.98 1170.47 2248.46 1170.26 Q2249.95 1170.05 2251.22 1170.05 Q2254.55 1170.05 2256.5 1171.42 Q2258.46 1172.79 2258.46 1175.08 Q2258.46 1176.67 2257.42 1177.79 Q2256.38 1178.9 2254.48 1179.31 Z\" fill=\"#000000\" fill-rule=\"evenodd\" fill-opacity=\"1\" /><polyline clip-path=\"url(#clip440)\" style=\"stroke:#c271d2; stroke-linecap:round; stroke-linejoin:round; stroke-width:4; stroke-opacity:1; fill:none\" stroke-dasharray=\"16, 10\" points=\"2024.42,1224.34 2165.13,1224.34 \"/>\n",
       "<path clip-path=\"url(#clip440)\" d=\"M2212.61 1227.59 L2212.61 1229.67 L2193.02 1229.67 Q2193.3 1234.07 2195.66 1236.38 Q2198.05 1238.68 2202.28 1238.68 Q2204.74 1238.68 2207.03 1238.07 Q2209.34 1237.47 2211.61 1236.27 L2211.61 1240.3 Q2209.32 1241.27 2206.91 1241.78 Q2204.51 1242.29 2202.03 1242.29 Q2195.83 1242.29 2192.19 1238.68 Q2188.58 1235.07 2188.58 1228.91 Q2188.58 1222.54 2192.01 1218.82 Q2195.46 1215.07 2201.29 1215.07 Q2206.52 1215.07 2209.55 1218.45 Q2212.61 1221.8 2212.61 1227.59 M2208.35 1226.34 Q2208.3 1222.84 2206.38 1220.76 Q2204.48 1218.68 2201.34 1218.68 Q2197.77 1218.68 2195.62 1220.69 Q2193.49 1222.7 2193.16 1226.36 L2208.35 1226.34 Z\" fill=\"#000000\" fill-rule=\"evenodd\" fill-opacity=\"1\" /><path clip-path=\"url(#clip440)\" d=\"M2240.32 1215.69 L2230.94 1228.31 L2240.8 1241.62 L2235.78 1241.62 L2228.23 1231.43 L2220.69 1241.62 L2215.66 1241.62 L2225.73 1228.05 L2216.52 1215.69 L2221.54 1215.69 L2228.42 1224.93 L2235.29 1215.69 L2240.32 1215.69 Z\" fill=\"#000000\" fill-rule=\"evenodd\" fill-opacity=\"1\" /><path clip-path=\"url(#clip440)\" d=\"M2228.33 1205.6 L2232.58 1205.6 L2232.58 1210.99 L2228.33 1210.99 L2228.33 1205.6 M2230.5 1215.07 L2230.5 1215.07 Z\" fill=\"#000000\" fill-rule=\"evenodd\" fill-opacity=\"1\" /><path clip-path=\"url(#clip440)\" d=\"M2245.96 1239.07 L2250.69 1239.07 L2250.69 1224.93 L2245.52 1225.88 L2245.52 1223.19 L2250.85 1222.29 L2254.02 1222.29 L2254.02 1239.07 L2258.77 1239.07 L2258.77 1241.62 L2245.96 1241.62 L2245.96 1239.07 Z\" fill=\"#000000\" fill-rule=\"evenodd\" fill-opacity=\"1\" /><polyline clip-path=\"url(#clip440)\" style=\"stroke:#ac8d18; stroke-linecap:round; stroke-linejoin:round; stroke-width:4; stroke-opacity:1; fill:none\" stroke-dasharray=\"16, 10\" points=\"2024.42,1276.18 2165.13,1276.18 \"/>\n",
       "<path clip-path=\"url(#clip440)\" d=\"M2212.61 1279.43 L2212.61 1281.51 L2193.02 1281.51 Q2193.3 1285.91 2195.66 1288.22 Q2198.05 1290.52 2202.28 1290.52 Q2204.74 1290.52 2207.03 1289.91 Q2209.34 1289.31 2211.61 1288.11 L2211.61 1292.14 Q2209.32 1293.11 2206.91 1293.62 Q2204.51 1294.13 2202.03 1294.13 Q2195.83 1294.13 2192.19 1290.52 Q2188.58 1286.91 2188.58 1280.75 Q2188.58 1274.38 2192.01 1270.66 Q2195.46 1266.91 2201.29 1266.91 Q2206.52 1266.91 2209.55 1270.29 Q2212.61 1273.64 2212.61 1279.43 M2208.35 1278.18 Q2208.3 1274.68 2206.38 1272.6 Q2204.48 1270.52 2201.34 1270.52 Q2197.77 1270.52 2195.62 1272.53 Q2193.49 1274.54 2193.16 1278.2 L2208.35 1278.18 Z\" fill=\"#000000\" fill-rule=\"evenodd\" fill-opacity=\"1\" /><path clip-path=\"url(#clip440)\" d=\"M2240.32 1267.53 L2230.94 1280.15 L2240.8 1293.46 L2235.78 1293.46 L2228.23 1283.27 L2220.69 1293.46 L2215.66 1293.46 L2225.73 1279.89 L2216.52 1267.53 L2221.54 1267.53 L2228.42 1276.77 L2235.29 1267.53 L2240.32 1267.53 Z\" fill=\"#000000\" fill-rule=\"evenodd\" fill-opacity=\"1\" /><path clip-path=\"url(#clip440)\" d=\"M2228.33 1257.44 L2232.58 1257.44 L2232.58 1262.83 L2228.33 1262.83 L2228.33 1257.44 M2230.5 1266.91 L2230.5 1266.91 Z\" fill=\"#000000\" fill-rule=\"evenodd\" fill-opacity=\"1\" /><path clip-path=\"url(#clip440)\" d=\"M2248.56 1290.82 L2258.37 1290.82 L2258.37 1293.46 L2244.53 1293.46 L2244.53 1290.91 Q2245.32 1290.19 2246.77 1288.9 Q2254.74 1281.84 2254.74 1279.66 Q2254.74 1278.13 2253.53 1277.21 Q2252.33 1276.26 2250.36 1276.26 Q2249.16 1276.26 2247.75 1276.67 Q2246.33 1277.07 2244.67 1277.88 L2244.67 1275.03 Q2246.45 1274.38 2247.98 1274.06 Q2249.53 1273.73 2250.85 1273.73 Q2254.21 1273.73 2256.22 1275.26 Q2258.23 1276.79 2258.23 1279.29 Q2258.23 1282.51 2250.57 1289.08 Q2249.27 1290.19 2248.56 1290.82 Z\" fill=\"#000000\" fill-rule=\"evenodd\" fill-opacity=\"1\" /><polyline clip-path=\"url(#clip440)\" style=\"stroke:#00a9ad; stroke-linecap:round; stroke-linejoin:round; stroke-width:4; stroke-opacity:1; fill:none\" stroke-dasharray=\"16, 10\" points=\"2024.42,1328.02 2165.13,1328.02 \"/>\n",
       "<path clip-path=\"url(#clip440)\" d=\"M2212.61 1331.27 L2212.61 1333.35 L2193.02 1333.35 Q2193.3 1337.75 2195.66 1340.06 Q2198.05 1342.36 2202.28 1342.36 Q2204.74 1342.36 2207.03 1341.75 Q2209.34 1341.15 2211.61 1339.95 L2211.61 1343.98 Q2209.32 1344.95 2206.91 1345.46 Q2204.51 1345.97 2202.03 1345.97 Q2195.83 1345.97 2192.19 1342.36 Q2188.58 1338.75 2188.58 1332.59 Q2188.58 1326.22 2192.01 1322.5 Q2195.46 1318.75 2201.29 1318.75 Q2206.52 1318.75 2209.55 1322.13 Q2212.61 1325.48 2212.61 1331.27 M2208.35 1330.02 Q2208.3 1326.52 2206.38 1324.44 Q2204.48 1322.36 2201.34 1322.36 Q2197.77 1322.36 2195.62 1324.37 Q2193.49 1326.38 2193.16 1330.04 L2208.35 1330.02 Z\" fill=\"#000000\" fill-rule=\"evenodd\" fill-opacity=\"1\" /><path clip-path=\"url(#clip440)\" d=\"M2240.32 1319.37 L2230.94 1331.99 L2240.8 1345.3 L2235.78 1345.3 L2228.23 1335.11 L2220.69 1345.3 L2215.66 1345.3 L2225.73 1331.73 L2216.52 1319.37 L2221.54 1319.37 L2228.42 1328.61 L2235.29 1319.37 L2240.32 1319.37 Z\" fill=\"#000000\" fill-rule=\"evenodd\" fill-opacity=\"1\" /><path clip-path=\"url(#clip440)\" d=\"M2228.33 1309.28 L2232.58 1309.28 L2232.58 1314.67 L2228.33 1314.67 L2228.33 1309.28 M2230.5 1318.75 L2230.5 1318.75 Z\" fill=\"#000000\" fill-rule=\"evenodd\" fill-opacity=\"1\" /><path clip-path=\"url(#clip440)\" d=\"M2254.48 1334.83 Q2256.61 1335.25 2257.77 1336.52 Q2258.95 1337.77 2258.95 1339.67 Q2258.95 1342.54 2256.75 1344.09 Q2254.55 1345.64 2250.46 1345.64 Q2249.14 1345.64 2247.68 1345.39 Q2246.24 1345.16 2244.62 1344.69 L2244.62 1341.89 Q2245.83 1342.52 2247.19 1342.82 Q2248.58 1343.12 2250.13 1343.12 Q2252.65 1343.12 2254.04 1342.22 Q2255.43 1341.29 2255.43 1339.67 Q2255.43 1337.96 2254.14 1337.08 Q2252.86 1336.2 2250.36 1336.2 L2248.37 1336.2 L2248.37 1333.7 L2250.55 1333.7 Q2252.72 1333.7 2253.83 1332.98 Q2254.97 1332.24 2254.97 1330.85 Q2254.97 1329.51 2253.81 1328.81 Q2252.65 1328.1 2250.46 1328.1 Q2249.53 1328.1 2248.35 1328.31 Q2247.17 1328.51 2245.29 1329.05 L2245.29 1326.38 Q2246.98 1325.99 2248.46 1325.78 Q2249.95 1325.57 2251.22 1325.57 Q2254.55 1325.57 2256.5 1326.94 Q2258.46 1328.31 2258.46 1330.6 Q2258.46 1332.19 2257.42 1333.31 Q2256.38 1334.42 2254.48 1334.83 Z\" fill=\"#000000\" fill-rule=\"evenodd\" fill-opacity=\"1\" /></svg>\n"
      ]
     },
     "metadata": {},
     "output_type": "display_data"
    },
    {
     "data": {
      "image/svg+xml": [
       "<?xml version=\"1.0\" encoding=\"utf-8\"?>\n",
       "<svg xmlns=\"http://www.w3.org/2000/svg\" xmlns:xlink=\"http://www.w3.org/1999/xlink\" width=\"600\" height=\"400\" viewBox=\"0 0 2400 1600\">\n",
       "<defs>\n",
       "  <clipPath id=\"clip480\">\n",
       "    <rect x=\"0\" y=\"0\" width=\"2400\" height=\"1600\"/>\n",
       "  </clipPath>\n",
       "</defs>\n",
       "<path clip-path=\"url(#clip480)\" d=\"M0 1600 L2400 1600 L2400 0 L0 0  Z\" fill=\"#ffffff\" fill-rule=\"evenodd\" fill-opacity=\"1\"/>\n",
       "<defs>\n",
       "  <clipPath id=\"clip481\">\n",
       "    <rect x=\"480\" y=\"0\" width=\"1681\" height=\"1600\"/>\n",
       "  </clipPath>\n",
       "</defs>\n",
       "<path clip-path=\"url(#clip480)\" d=\"M232.389 1423.18 L2352.76 1423.18 L2352.76 123.472 L232.389 123.472  Z\" fill=\"#ffffff\" fill-rule=\"evenodd\" fill-opacity=\"1\"/>\n",
       "<defs>\n",
       "  <clipPath id=\"clip482\">\n",
       "    <rect x=\"232\" y=\"123\" width=\"2121\" height=\"1301\"/>\n",
       "  </clipPath>\n",
       "</defs>\n",
       "<polyline clip-path=\"url(#clip482)\" style=\"stroke:#000000; stroke-linecap:round; stroke-linejoin:round; stroke-width:2; stroke-opacity:0.1; fill:none\" points=\"292.4,1423.18 292.4,123.472 \"/>\n",
       "<polyline clip-path=\"url(#clip482)\" style=\"stroke:#000000; stroke-linecap:round; stroke-linejoin:round; stroke-width:2; stroke-opacity:0.1; fill:none\" points=\"653.473,1423.18 653.473,123.472 \"/>\n",
       "<polyline clip-path=\"url(#clip482)\" style=\"stroke:#000000; stroke-linecap:round; stroke-linejoin:round; stroke-width:2; stroke-opacity:0.1; fill:none\" points=\"1014.55,1423.18 1014.55,123.472 \"/>\n",
       "<polyline clip-path=\"url(#clip482)\" style=\"stroke:#000000; stroke-linecap:round; stroke-linejoin:round; stroke-width:2; stroke-opacity:0.1; fill:none\" points=\"1375.62,1423.18 1375.62,123.472 \"/>\n",
       "<polyline clip-path=\"url(#clip482)\" style=\"stroke:#000000; stroke-linecap:round; stroke-linejoin:round; stroke-width:2; stroke-opacity:0.1; fill:none\" points=\"1736.69,1423.18 1736.69,123.472 \"/>\n",
       "<polyline clip-path=\"url(#clip482)\" style=\"stroke:#000000; stroke-linecap:round; stroke-linejoin:round; stroke-width:2; stroke-opacity:0.1; fill:none\" points=\"2097.77,1423.18 2097.77,123.472 \"/>\n",
       "<polyline clip-path=\"url(#clip480)\" style=\"stroke:#000000; stroke-linecap:round; stroke-linejoin:round; stroke-width:4; stroke-opacity:1; fill:none\" points=\"232.389,1423.18 2352.76,1423.18 \"/>\n",
       "<polyline clip-path=\"url(#clip480)\" style=\"stroke:#000000; stroke-linecap:round; stroke-linejoin:round; stroke-width:4; stroke-opacity:1; fill:none\" points=\"292.4,1423.18 292.4,1404.28 \"/>\n",
       "<polyline clip-path=\"url(#clip480)\" style=\"stroke:#000000; stroke-linecap:round; stroke-linejoin:round; stroke-width:4; stroke-opacity:1; fill:none\" points=\"653.473,1423.18 653.473,1404.28 \"/>\n",
       "<polyline clip-path=\"url(#clip480)\" style=\"stroke:#000000; stroke-linecap:round; stroke-linejoin:round; stroke-width:4; stroke-opacity:1; fill:none\" points=\"1014.55,1423.18 1014.55,1404.28 \"/>\n",
       "<polyline clip-path=\"url(#clip480)\" style=\"stroke:#000000; stroke-linecap:round; stroke-linejoin:round; stroke-width:4; stroke-opacity:1; fill:none\" points=\"1375.62,1423.18 1375.62,1404.28 \"/>\n",
       "<polyline clip-path=\"url(#clip480)\" style=\"stroke:#000000; stroke-linecap:round; stroke-linejoin:round; stroke-width:4; stroke-opacity:1; fill:none\" points=\"1736.69,1423.18 1736.69,1404.28 \"/>\n",
       "<polyline clip-path=\"url(#clip480)\" style=\"stroke:#000000; stroke-linecap:round; stroke-linejoin:round; stroke-width:4; stroke-opacity:1; fill:none\" points=\"2097.77,1423.18 2097.77,1404.28 \"/>\n",
       "<path clip-path=\"url(#clip480)\" d=\"M269.784 1454.1 Q266.173 1454.1 264.344 1457.66 Q262.539 1461.2 262.539 1468.33 Q262.539 1475.44 264.344 1479.01 Q266.173 1482.55 269.784 1482.55 Q273.418 1482.55 275.224 1479.01 Q277.053 1475.44 277.053 1468.33 Q277.053 1461.2 275.224 1457.66 Q273.418 1454.1 269.784 1454.1 M269.784 1450.39 Q275.594 1450.39 278.65 1455 Q281.728 1459.58 281.728 1468.33 Q281.728 1477.06 278.65 1481.67 Q275.594 1486.25 269.784 1486.25 Q263.974 1486.25 260.895 1481.67 Q257.84 1477.06 257.84 1468.33 Q257.84 1459.58 260.895 1455 Q263.974 1450.39 269.784 1450.39 Z\" fill=\"#000000\" fill-rule=\"evenodd\" fill-opacity=\"1\" /><path clip-path=\"url(#clip480)\" d=\"M289.946 1479.7 L294.83 1479.7 L294.83 1485.58 L289.946 1485.58 L289.946 1479.7 Z\" fill=\"#000000\" fill-rule=\"evenodd\" fill-opacity=\"1\" /><path clip-path=\"url(#clip480)\" d=\"M315.015 1454.1 Q311.404 1454.1 309.576 1457.66 Q307.77 1461.2 307.77 1468.33 Q307.77 1475.44 309.576 1479.01 Q311.404 1482.55 315.015 1482.55 Q318.65 1482.55 320.455 1479.01 Q322.284 1475.44 322.284 1468.33 Q322.284 1461.2 320.455 1457.66 Q318.65 1454.1 315.015 1454.1 M315.015 1450.39 Q320.825 1450.39 323.881 1455 Q326.96 1459.58 326.96 1468.33 Q326.96 1477.06 323.881 1481.67 Q320.825 1486.25 315.015 1486.25 Q309.205 1486.25 306.126 1481.67 Q303.071 1477.06 303.071 1468.33 Q303.071 1459.58 306.126 1455 Q309.205 1450.39 315.015 1450.39 Z\" fill=\"#000000\" fill-rule=\"evenodd\" fill-opacity=\"1\" /><path clip-path=\"url(#clip480)\" d=\"M625.209 1481.64 L641.529 1481.64 L641.529 1485.58 L619.584 1485.58 L619.584 1481.64 Q622.246 1478.89 626.83 1474.26 Q631.436 1469.61 632.617 1468.27 Q634.862 1465.74 635.742 1464.01 Q636.644 1462.25 636.644 1460.56 Q636.644 1457.8 634.7 1456.07 Q632.779 1454.33 629.677 1454.33 Q627.478 1454.33 625.024 1455.09 Q622.593 1455.86 619.816 1457.41 L619.816 1452.69 Q622.64 1451.55 625.093 1450.97 Q627.547 1450.39 629.584 1450.39 Q634.955 1450.39 638.149 1453.08 Q641.343 1455.77 641.343 1460.26 Q641.343 1462.39 640.533 1464.31 Q639.746 1466.2 637.64 1468.8 Q637.061 1469.47 633.959 1472.69 Q630.857 1475.88 625.209 1481.64 Z\" fill=\"#000000\" fill-rule=\"evenodd\" fill-opacity=\"1\" /><path clip-path=\"url(#clip480)\" d=\"M651.343 1479.7 L656.228 1479.7 L656.228 1485.58 L651.343 1485.58 L651.343 1479.7 Z\" fill=\"#000000\" fill-rule=\"evenodd\" fill-opacity=\"1\" /><path clip-path=\"url(#clip480)\" d=\"M666.459 1451.02 L684.815 1451.02 L684.815 1454.96 L670.741 1454.96 L670.741 1463.43 Q671.76 1463.08 672.778 1462.92 Q673.797 1462.73 674.815 1462.73 Q680.602 1462.73 683.982 1465.9 Q687.362 1469.08 687.362 1474.49 Q687.362 1480.07 683.889 1483.17 Q680.417 1486.25 674.098 1486.25 Q671.922 1486.25 669.653 1485.88 Q667.408 1485.51 665.001 1484.77 L665.001 1480.07 Q667.084 1481.2 669.306 1481.76 Q671.528 1482.32 674.005 1482.32 Q678.01 1482.32 680.348 1480.21 Q682.686 1478.1 682.686 1474.49 Q682.686 1470.88 680.348 1468.77 Q678.01 1466.67 674.005 1466.67 Q672.13 1466.67 670.255 1467.08 Q668.403 1467.5 666.459 1468.38 L666.459 1451.02 Z\" fill=\"#000000\" fill-rule=\"evenodd\" fill-opacity=\"1\" /><path clip-path=\"url(#clip480)\" d=\"M981.711 1451.02 L1000.07 1451.02 L1000.07 1454.96 L985.993 1454.96 L985.993 1463.43 Q987.012 1463.08 988.03 1462.92 Q989.049 1462.73 990.067 1462.73 Q995.854 1462.73 999.234 1465.9 Q1002.61 1469.08 1002.61 1474.49 Q1002.61 1480.07 999.141 1483.17 Q995.669 1486.25 989.35 1486.25 Q987.174 1486.25 984.905 1485.88 Q982.66 1485.51 980.252 1484.77 L980.252 1480.07 Q982.336 1481.2 984.558 1481.76 Q986.78 1482.32 989.257 1482.32 Q993.262 1482.32 995.6 1480.21 Q997.937 1478.1 997.937 1474.49 Q997.937 1470.88 995.6 1468.77 Q993.262 1466.67 989.257 1466.67 Q987.382 1466.67 985.507 1467.08 Q983.655 1467.5 981.711 1468.38 L981.711 1451.02 Z\" fill=\"#000000\" fill-rule=\"evenodd\" fill-opacity=\"1\" /><path clip-path=\"url(#clip480)\" d=\"M1011.83 1479.7 L1016.71 1479.7 L1016.71 1485.58 L1011.83 1485.58 L1011.83 1479.7 Z\" fill=\"#000000\" fill-rule=\"evenodd\" fill-opacity=\"1\" /><path clip-path=\"url(#clip480)\" d=\"M1036.9 1454.1 Q1033.28 1454.1 1031.46 1457.66 Q1029.65 1461.2 1029.65 1468.33 Q1029.65 1475.44 1031.46 1479.01 Q1033.28 1482.55 1036.9 1482.55 Q1040.53 1482.55 1042.34 1479.01 Q1044.16 1475.44 1044.16 1468.33 Q1044.16 1461.2 1042.34 1457.66 Q1040.53 1454.1 1036.9 1454.1 M1036.9 1450.39 Q1042.71 1450.39 1045.76 1455 Q1048.84 1459.58 1048.84 1468.33 Q1048.84 1477.06 1045.76 1481.67 Q1042.71 1486.25 1036.9 1486.25 Q1031.09 1486.25 1028.01 1481.67 Q1024.95 1477.06 1024.95 1468.33 Q1024.95 1459.58 1028.01 1455 Q1031.09 1450.39 1036.9 1450.39 Z\" fill=\"#000000\" fill-rule=\"evenodd\" fill-opacity=\"1\" /><path clip-path=\"url(#clip480)\" d=\"M1341.94 1451.02 L1364.16 1451.02 L1364.16 1453.01 L1351.61 1485.58 L1346.73 1485.58 L1358.54 1454.96 L1341.94 1454.96 L1341.94 1451.02 Z\" fill=\"#000000\" fill-rule=\"evenodd\" fill-opacity=\"1\" /><path clip-path=\"url(#clip480)\" d=\"M1373.28 1479.7 L1378.17 1479.7 L1378.17 1485.58 L1373.28 1485.58 L1373.28 1479.7 Z\" fill=\"#000000\" fill-rule=\"evenodd\" fill-opacity=\"1\" /><path clip-path=\"url(#clip480)\" d=\"M1388.4 1451.02 L1406.75 1451.02 L1406.75 1454.96 L1392.68 1454.96 L1392.68 1463.43 Q1393.7 1463.08 1394.72 1462.92 Q1395.74 1462.73 1396.75 1462.73 Q1402.54 1462.73 1405.92 1465.9 Q1409.3 1469.08 1409.3 1474.49 Q1409.3 1480.07 1405.83 1483.17 Q1402.36 1486.25 1396.04 1486.25 Q1393.86 1486.25 1391.59 1485.88 Q1389.35 1485.51 1386.94 1484.77 L1386.94 1480.07 Q1389.02 1481.2 1391.24 1481.76 Q1393.47 1482.32 1395.94 1482.32 Q1399.95 1482.32 1402.29 1480.21 Q1404.62 1478.1 1404.62 1474.49 Q1404.62 1470.88 1402.29 1468.77 Q1399.95 1466.67 1395.94 1466.67 Q1394.07 1466.67 1392.19 1467.08 Q1390.34 1467.5 1388.4 1468.38 L1388.4 1451.02 Z\" fill=\"#000000\" fill-rule=\"evenodd\" fill-opacity=\"1\" /><path clip-path=\"url(#clip480)\" d=\"M1688.76 1481.64 L1696.4 1481.64 L1696.4 1455.28 L1688.09 1456.95 L1688.09 1452.69 L1696.36 1451.02 L1701.03 1451.02 L1701.03 1481.64 L1708.67 1481.64 L1708.67 1485.58 L1688.76 1485.58 L1688.76 1481.64 Z\" fill=\"#000000\" fill-rule=\"evenodd\" fill-opacity=\"1\" /><path clip-path=\"url(#clip480)\" d=\"M1728.12 1454.1 Q1724.51 1454.1 1722.68 1457.66 Q1720.87 1461.2 1720.87 1468.33 Q1720.87 1475.44 1722.68 1479.01 Q1724.51 1482.55 1728.12 1482.55 Q1731.75 1482.55 1733.56 1479.01 Q1735.38 1475.44 1735.38 1468.33 Q1735.38 1461.2 1733.56 1457.66 Q1731.75 1454.1 1728.12 1454.1 M1728.12 1450.39 Q1733.93 1450.39 1736.98 1455 Q1740.06 1459.58 1740.06 1468.33 Q1740.06 1477.06 1736.98 1481.67 Q1733.93 1486.25 1728.12 1486.25 Q1722.31 1486.25 1719.23 1481.67 Q1716.17 1477.06 1716.17 1468.33 Q1716.17 1459.58 1719.23 1455 Q1722.31 1450.39 1728.12 1450.39 Z\" fill=\"#000000\" fill-rule=\"evenodd\" fill-opacity=\"1\" /><path clip-path=\"url(#clip480)\" d=\"M1748.28 1479.7 L1753.16 1479.7 L1753.16 1485.58 L1748.28 1485.58 L1748.28 1479.7 Z\" fill=\"#000000\" fill-rule=\"evenodd\" fill-opacity=\"1\" /><path clip-path=\"url(#clip480)\" d=\"M1773.35 1454.1 Q1769.74 1454.1 1767.91 1457.66 Q1766.1 1461.2 1766.1 1468.33 Q1766.1 1475.44 1767.91 1479.01 Q1769.74 1482.55 1773.35 1482.55 Q1776.98 1482.55 1778.79 1479.01 Q1780.62 1475.44 1780.62 1468.33 Q1780.62 1461.2 1778.79 1457.66 Q1776.98 1454.1 1773.35 1454.1 M1773.35 1450.39 Q1779.16 1450.39 1782.21 1455 Q1785.29 1459.58 1785.29 1468.33 Q1785.29 1477.06 1782.21 1481.67 Q1779.16 1486.25 1773.35 1486.25 Q1767.54 1486.25 1764.46 1481.67 Q1761.4 1477.06 1761.4 1468.33 Q1761.4 1459.58 1764.46 1455 Q1767.54 1450.39 1773.35 1450.39 Z\" fill=\"#000000\" fill-rule=\"evenodd\" fill-opacity=\"1\" /><path clip-path=\"url(#clip480)\" d=\"M2050.34 1481.64 L2057.97 1481.64 L2057.97 1455.28 L2049.66 1456.95 L2049.66 1452.69 L2057.93 1451.02 L2062.6 1451.02 L2062.6 1481.64 L2070.24 1481.64 L2070.24 1485.58 L2050.34 1485.58 L2050.34 1481.64 Z\" fill=\"#000000\" fill-rule=\"evenodd\" fill-opacity=\"1\" /><path clip-path=\"url(#clip480)\" d=\"M2083.72 1481.64 L2100.03 1481.64 L2100.03 1485.58 L2078.09 1485.58 L2078.09 1481.64 Q2080.75 1478.89 2085.34 1474.26 Q2089.94 1469.61 2091.12 1468.27 Q2093.37 1465.74 2094.25 1464.01 Q2095.15 1462.25 2095.15 1460.56 Q2095.15 1457.8 2093.21 1456.07 Q2091.28 1454.33 2088.18 1454.33 Q2085.98 1454.33 2083.53 1455.09 Q2081.1 1455.86 2078.32 1457.41 L2078.32 1452.69 Q2081.15 1451.55 2083.6 1450.97 Q2086.05 1450.39 2088.09 1450.39 Q2093.46 1450.39 2096.65 1453.08 Q2099.85 1455.77 2099.85 1460.26 Q2099.85 1462.39 2099.04 1464.31 Q2098.25 1466.2 2096.15 1468.8 Q2095.57 1469.47 2092.47 1472.69 Q2089.36 1475.88 2083.72 1481.64 Z\" fill=\"#000000\" fill-rule=\"evenodd\" fill-opacity=\"1\" /><path clip-path=\"url(#clip480)\" d=\"M2109.85 1479.7 L2114.73 1479.7 L2114.73 1485.58 L2109.85 1485.58 L2109.85 1479.7 Z\" fill=\"#000000\" fill-rule=\"evenodd\" fill-opacity=\"1\" /><path clip-path=\"url(#clip480)\" d=\"M2124.96 1451.02 L2143.32 1451.02 L2143.32 1454.96 L2129.25 1454.96 L2129.25 1463.43 Q2130.27 1463.08 2131.28 1462.92 Q2132.3 1462.73 2133.32 1462.73 Q2139.11 1462.73 2142.49 1465.9 Q2145.87 1469.08 2145.87 1474.49 Q2145.87 1480.07 2142.4 1483.17 Q2138.92 1486.25 2132.6 1486.25 Q2130.43 1486.25 2128.16 1485.88 Q2125.91 1485.51 2123.51 1484.77 L2123.51 1480.07 Q2125.59 1481.2 2127.81 1481.76 Q2130.03 1482.32 2132.51 1482.32 Q2136.52 1482.32 2138.85 1480.21 Q2141.19 1478.1 2141.19 1474.49 Q2141.19 1470.88 2138.85 1468.77 Q2136.52 1466.67 2132.51 1466.67 Q2130.64 1466.67 2128.76 1467.08 Q2126.91 1467.5 2124.96 1468.38 L2124.96 1451.02 Z\" fill=\"#000000\" fill-rule=\"evenodd\" fill-opacity=\"1\" /><path clip-path=\"url(#clip480)\" d=\"M1180.03 1522.27 L1180.03 1532.4 L1192.09 1532.4 L1192.09 1536.95 L1180.03 1536.95 L1180.03 1556.3 Q1180.03 1560.66 1181.2 1561.9 Q1182.41 1563.14 1186.07 1563.14 L1192.09 1563.14 L1192.09 1568.04 L1186.07 1568.04 Q1179.29 1568.04 1176.72 1565.53 Q1174.14 1562.98 1174.14 1556.3 L1174.14 1536.95 L1169.84 1536.95 L1169.84 1532.4 L1174.14 1532.4 L1174.14 1522.27 L1180.03 1522.27 Z\" fill=\"#000000\" fill-rule=\"evenodd\" fill-opacity=\"1\" /><path clip-path=\"url(#clip480)\" d=\"M1199.79 1532.4 L1205.65 1532.4 L1205.65 1568.04 L1199.79 1568.04 L1199.79 1532.4 M1199.79 1518.52 L1205.65 1518.52 L1205.65 1525.93 L1199.79 1525.93 L1199.79 1518.52 Z\" fill=\"#000000\" fill-rule=\"evenodd\" fill-opacity=\"1\" /><path clip-path=\"url(#clip480)\" d=\"M1245.66 1539.24 Q1247.85 1535.29 1250.91 1533.41 Q1253.96 1531.54 1258.1 1531.54 Q1263.67 1531.54 1266.7 1535.45 Q1269.72 1539.33 1269.72 1546.53 L1269.72 1568.04 L1263.83 1568.04 L1263.83 1546.72 Q1263.83 1541.59 1262.02 1539.11 Q1260.2 1536.63 1256.48 1536.63 Q1251.93 1536.63 1249.29 1539.65 Q1246.64 1542.68 1246.64 1547.9 L1246.64 1568.04 L1240.76 1568.04 L1240.76 1546.72 Q1240.76 1541.56 1238.94 1539.11 Q1237.13 1536.63 1233.34 1536.63 Q1228.85 1536.63 1226.21 1539.68 Q1223.57 1542.71 1223.57 1547.9 L1223.57 1568.04 L1217.68 1568.04 L1217.68 1532.4 L1223.57 1532.4 L1223.57 1537.93 Q1225.57 1534.66 1228.37 1533.1 Q1231.18 1531.54 1235.03 1531.54 Q1238.91 1531.54 1241.62 1533.51 Q1244.35 1535.48 1245.66 1539.24 Z\" fill=\"#000000\" fill-rule=\"evenodd\" fill-opacity=\"1\" /><path clip-path=\"url(#clip480)\" d=\"M1311.89 1548.76 L1311.89 1551.62 L1284.97 1551.62 Q1285.35 1557.67 1288.59 1560.85 Q1291.87 1564 1297.7 1564 Q1301.07 1564 1304.22 1563.17 Q1307.4 1562.35 1310.52 1560.69 L1310.52 1566.23 Q1307.37 1567.57 1304.06 1568.27 Q1300.75 1568.97 1297.35 1568.97 Q1288.82 1568.97 1283.82 1564 Q1278.85 1559.04 1278.85 1550.57 Q1278.85 1541.82 1283.57 1536.69 Q1288.31 1531.54 1296.33 1531.54 Q1303.52 1531.54 1307.69 1536.18 Q1311.89 1540.8 1311.89 1548.76 M1306.04 1547.04 Q1305.97 1542.23 1303.33 1539.37 Q1300.72 1536.5 1296.39 1536.5 Q1291.49 1536.5 1288.53 1539.27 Q1285.6 1542.04 1285.16 1547.07 L1306.04 1547.04 Z\" fill=\"#000000\" fill-rule=\"evenodd\" fill-opacity=\"1\" /><path clip-path=\"url(#clip480)\" d=\"M1356.29 1518.58 Q1352.03 1525.9 1349.96 1533.06 Q1347.89 1540.23 1347.89 1547.58 Q1347.89 1554.93 1349.96 1562.16 Q1352.06 1569.35 1356.29 1576.64 L1351.2 1576.64 Q1346.43 1569.16 1344.04 1561.93 Q1341.68 1554.71 1341.68 1547.58 Q1341.68 1540.48 1344.04 1533.29 Q1346.39 1526.09 1351.2 1518.58 L1356.29 1518.58 Z\" fill=\"#000000\" fill-rule=\"evenodd\" fill-opacity=\"1\" /><path clip-path=\"url(#clip480)\" d=\"M1390.38 1533.45 L1390.38 1538.98 Q1387.9 1537.71 1385.23 1537.07 Q1382.55 1536.44 1379.69 1536.44 Q1375.33 1536.44 1373.13 1537.77 Q1370.97 1539.11 1370.97 1541.79 Q1370.97 1543.82 1372.53 1545 Q1374.09 1546.15 1378.8 1547.2 L1380.8 1547.64 Q1387.04 1548.98 1389.65 1551.43 Q1392.29 1553.85 1392.29 1558.21 Q1392.29 1563.17 1388.34 1566.07 Q1384.43 1568.97 1377.55 1568.97 Q1374.69 1568.97 1371.57 1568.39 Q1368.48 1567.85 1365.05 1566.74 L1365.05 1560.69 Q1368.29 1562.38 1371.44 1563.24 Q1374.59 1564.07 1377.68 1564.07 Q1381.82 1564.07 1384.05 1562.66 Q1386.28 1561.23 1386.28 1558.65 Q1386.28 1556.27 1384.65 1554.99 Q1383.06 1553.72 1377.62 1552.54 L1375.58 1552.07 Q1370.14 1550.92 1367.72 1548.56 Q1365.3 1546.18 1365.3 1542.04 Q1365.3 1537.01 1368.87 1534.27 Q1372.43 1531.54 1378.99 1531.54 Q1382.23 1531.54 1385.1 1532.01 Q1387.96 1532.49 1390.38 1533.45 Z\" fill=\"#000000\" fill-rule=\"evenodd\" fill-opacity=\"1\" /><path clip-path=\"url(#clip480)\" d=\"M1400.69 1518.58 L1405.79 1518.58 Q1410.56 1526.09 1412.92 1533.29 Q1415.3 1540.48 1415.3 1547.58 Q1415.3 1554.71 1412.92 1561.93 Q1410.56 1569.16 1405.79 1576.64 L1400.69 1576.64 Q1404.93 1569.35 1407 1562.16 Q1409.1 1554.93 1409.1 1547.58 Q1409.1 1540.23 1407 1533.06 Q1404.93 1525.9 1400.69 1518.58 Z\" fill=\"#000000\" fill-rule=\"evenodd\" fill-opacity=\"1\" /><polyline clip-path=\"url(#clip482)\" style=\"stroke:#000000; stroke-linecap:round; stroke-linejoin:round; stroke-width:2; stroke-opacity:0.1; fill:none\" points=\"232.389,1187.47 2352.76,1187.47 \"/>\n",
       "<polyline clip-path=\"url(#clip482)\" style=\"stroke:#000000; stroke-linecap:round; stroke-linejoin:round; stroke-width:2; stroke-opacity:0.1; fill:none\" points=\"232.389,946.109 2352.76,946.109 \"/>\n",
       "<polyline clip-path=\"url(#clip482)\" style=\"stroke:#000000; stroke-linecap:round; stroke-linejoin:round; stroke-width:2; stroke-opacity:0.1; fill:none\" points=\"232.389,704.75 2352.76,704.75 \"/>\n",
       "<polyline clip-path=\"url(#clip482)\" style=\"stroke:#000000; stroke-linecap:round; stroke-linejoin:round; stroke-width:2; stroke-opacity:0.1; fill:none\" points=\"232.389,463.391 2352.76,463.391 \"/>\n",
       "<polyline clip-path=\"url(#clip482)\" style=\"stroke:#000000; stroke-linecap:round; stroke-linejoin:round; stroke-width:2; stroke-opacity:0.1; fill:none\" points=\"232.389,222.032 2352.76,222.032 \"/>\n",
       "<polyline clip-path=\"url(#clip480)\" style=\"stroke:#000000; stroke-linecap:round; stroke-linejoin:round; stroke-width:4; stroke-opacity:1; fill:none\" points=\"232.389,1423.18 232.389,123.472 \"/>\n",
       "<polyline clip-path=\"url(#clip480)\" style=\"stroke:#000000; stroke-linecap:round; stroke-linejoin:round; stroke-width:4; stroke-opacity:1; fill:none\" points=\"232.389,1187.47 251.287,1187.47 \"/>\n",
       "<polyline clip-path=\"url(#clip480)\" style=\"stroke:#000000; stroke-linecap:round; stroke-linejoin:round; stroke-width:4; stroke-opacity:1; fill:none\" points=\"232.389,946.109 251.287,946.109 \"/>\n",
       "<polyline clip-path=\"url(#clip480)\" style=\"stroke:#000000; stroke-linecap:round; stroke-linejoin:round; stroke-width:4; stroke-opacity:1; fill:none\" points=\"232.389,704.75 251.287,704.75 \"/>\n",
       "<polyline clip-path=\"url(#clip480)\" style=\"stroke:#000000; stroke-linecap:round; stroke-linejoin:round; stroke-width:4; stroke-opacity:1; fill:none\" points=\"232.389,463.391 251.287,463.391 \"/>\n",
       "<polyline clip-path=\"url(#clip480)\" style=\"stroke:#000000; stroke-linecap:round; stroke-linejoin:round; stroke-width:4; stroke-opacity:1; fill:none\" points=\"232.389,222.032 251.287,222.032 \"/>\n",
       "<path clip-path=\"url(#clip480)\" d=\"M184.445 1173.27 Q180.834 1173.27 179.005 1176.83 Q177.2 1180.37 177.2 1187.5 Q177.2 1194.61 179.005 1198.17 Q180.834 1201.72 184.445 1201.72 Q188.079 1201.72 189.885 1198.17 Q191.713 1194.61 191.713 1187.5 Q191.713 1180.37 189.885 1176.83 Q188.079 1173.27 184.445 1173.27 M184.445 1169.56 Q190.255 1169.56 193.311 1174.17 Q196.389 1178.75 196.389 1187.5 Q196.389 1196.23 193.311 1200.84 Q190.255 1205.42 184.445 1205.42 Q178.635 1205.42 175.556 1200.84 Q172.501 1196.23 172.501 1187.5 Q172.501 1178.75 175.556 1174.17 Q178.635 1169.56 184.445 1169.56 Z\" fill=\"#000000\" fill-rule=\"evenodd\" fill-opacity=\"1\" /><path clip-path=\"url(#clip480)\" d=\"M158.45 944.754 Q161.806 945.472 163.681 947.74 Q165.579 950.009 165.579 953.342 Q165.579 958.458 162.061 961.259 Q158.542 964.06 152.061 964.06 Q149.885 964.06 147.57 963.62 Q145.279 963.203 142.825 962.347 L142.825 957.833 Q144.769 958.967 147.084 959.546 Q149.399 960.125 151.922 960.125 Q156.32 960.125 158.612 958.389 Q160.927 956.652 160.927 953.342 Q160.927 950.287 158.774 948.574 Q156.644 946.838 152.825 946.838 L148.797 946.838 L148.797 942.995 L153.01 942.995 Q156.459 942.995 158.288 941.629 Q160.116 940.241 160.116 937.648 Q160.116 934.986 158.218 933.574 Q156.343 932.139 152.825 932.139 Q150.903 932.139 148.704 932.555 Q146.505 932.972 143.866 933.852 L143.866 929.685 Q146.529 928.944 148.843 928.574 Q151.181 928.204 153.241 928.204 Q158.565 928.204 161.667 930.634 Q164.769 933.041 164.769 937.162 Q164.769 940.032 163.126 942.023 Q161.482 943.991 158.45 944.754 Z\" fill=\"#000000\" fill-rule=\"evenodd\" fill-opacity=\"1\" /><path clip-path=\"url(#clip480)\" d=\"M184.445 931.907 Q180.834 931.907 179.005 935.472 Q177.2 939.014 177.2 946.143 Q177.2 953.25 179.005 956.815 Q180.834 960.356 184.445 960.356 Q188.079 960.356 189.885 956.815 Q191.713 953.25 191.713 946.143 Q191.713 939.014 189.885 935.472 Q188.079 931.907 184.445 931.907 M184.445 928.204 Q190.255 928.204 193.311 932.81 Q196.389 937.393 196.389 946.143 Q196.389 954.87 193.311 959.477 Q190.255 964.06 184.445 964.06 Q178.635 964.06 175.556 959.477 Q172.501 954.87 172.501 946.143 Q172.501 937.393 175.556 932.81 Q178.635 928.204 184.445 928.204 Z\" fill=\"#000000\" fill-rule=\"evenodd\" fill-opacity=\"1\" /><path clip-path=\"url(#clip480)\" d=\"M154.862 702.886 Q151.714 702.886 149.862 705.039 Q148.033 707.192 148.033 710.942 Q148.033 714.669 149.862 716.845 Q151.714 718.997 154.862 718.997 Q158.01 718.997 159.839 716.845 Q161.69 714.669 161.69 710.942 Q161.69 707.192 159.839 705.039 Q158.01 702.886 154.862 702.886 M164.144 688.234 L164.144 692.493 Q162.385 691.659 160.579 691.22 Q158.797 690.78 157.038 690.78 Q152.408 690.78 149.954 693.905 Q147.524 697.03 147.177 703.349 Q148.542 701.335 150.603 700.271 Q152.663 699.183 155.14 699.183 Q160.348 699.183 163.357 702.354 Q166.39 705.502 166.39 710.942 Q166.39 716.266 163.241 719.483 Q160.093 722.701 154.862 722.701 Q148.866 722.701 145.695 718.118 Q142.524 713.511 142.524 704.784 Q142.524 696.59 146.413 691.729 Q150.302 686.845 156.853 686.845 Q158.612 686.845 160.394 687.192 Q162.2 687.539 164.144 688.234 Z\" fill=\"#000000\" fill-rule=\"evenodd\" fill-opacity=\"1\" /><path clip-path=\"url(#clip480)\" d=\"M184.445 690.548 Q180.834 690.548 179.005 694.113 Q177.2 697.655 177.2 704.784 Q177.2 711.891 179.005 715.456 Q180.834 718.997 184.445 718.997 Q188.079 718.997 189.885 715.456 Q191.713 711.891 191.713 704.784 Q191.713 697.655 189.885 694.113 Q188.079 690.548 184.445 690.548 M184.445 686.845 Q190.255 686.845 193.311 691.451 Q196.389 696.034 196.389 704.784 Q196.389 713.511 193.311 718.118 Q190.255 722.701 184.445 722.701 Q178.635 722.701 175.556 718.118 Q172.501 713.511 172.501 704.784 Q172.501 696.034 175.556 691.451 Q178.635 686.845 184.445 686.845 Z\" fill=\"#000000\" fill-rule=\"evenodd\" fill-opacity=\"1\" /><path clip-path=\"url(#clip480)\" d=\"M144.422 479.953 L144.422 475.694 Q146.181 476.527 147.987 476.967 Q149.792 477.407 151.528 477.407 Q156.158 477.407 158.589 474.305 Q161.042 471.18 161.39 464.838 Q160.047 466.828 157.987 467.893 Q155.927 468.958 153.427 468.958 Q148.241 468.958 145.209 465.833 Q142.2 462.685 142.2 457.245 Q142.2 451.921 145.348 448.703 Q148.496 445.486 153.728 445.486 Q159.723 445.486 162.871 450.092 Q166.042 454.676 166.042 463.426 Q166.042 471.597 162.153 476.481 Q158.288 481.342 151.737 481.342 Q149.978 481.342 148.172 480.995 Q146.366 480.648 144.422 479.953 M153.728 465.301 Q156.876 465.301 158.704 463.148 Q160.556 460.995 160.556 457.245 Q160.556 453.518 158.704 451.365 Q156.876 449.19 153.728 449.19 Q150.579 449.19 148.728 451.365 Q146.899 453.518 146.899 457.245 Q146.899 460.995 148.728 463.148 Q150.579 465.301 153.728 465.301 Z\" fill=\"#000000\" fill-rule=\"evenodd\" fill-opacity=\"1\" /><path clip-path=\"url(#clip480)\" d=\"M184.445 449.19 Q180.834 449.19 179.005 452.754 Q177.2 456.296 177.2 463.426 Q177.2 470.532 179.005 474.097 Q180.834 477.638 184.445 477.638 Q188.079 477.638 189.885 474.097 Q191.713 470.532 191.713 463.426 Q191.713 456.296 189.885 452.754 Q188.079 449.19 184.445 449.19 M184.445 445.486 Q190.255 445.486 193.311 450.092 Q196.389 454.676 196.389 463.426 Q196.389 472.152 193.311 476.759 Q190.255 481.342 184.445 481.342 Q178.635 481.342 175.556 476.759 Q172.501 472.152 172.501 463.426 Q172.501 454.676 175.556 450.092 Q178.635 445.486 184.445 445.486 Z\" fill=\"#000000\" fill-rule=\"evenodd\" fill-opacity=\"1\" /><path clip-path=\"url(#clip480)\" d=\"M114.931 235.377 L122.57 235.377 L122.57 209.011 L114.26 210.678 L114.26 206.419 L122.524 204.752 L127.2 204.752 L127.2 235.377 L134.839 235.377 L134.839 239.312 L114.931 239.312 L114.931 235.377 Z\" fill=\"#000000\" fill-rule=\"evenodd\" fill-opacity=\"1\" /><path clip-path=\"url(#clip480)\" d=\"M148.311 235.377 L164.63 235.377 L164.63 239.312 L142.686 239.312 L142.686 235.377 Q145.348 232.622 149.931 227.993 Q154.538 223.34 155.718 221.997 Q157.964 219.474 158.843 217.738 Q159.746 215.979 159.746 214.289 Q159.746 211.534 157.802 209.798 Q155.88 208.062 152.778 208.062 Q150.579 208.062 148.126 208.826 Q145.695 209.59 142.917 211.141 L142.917 206.419 Q145.741 205.284 148.195 204.706 Q150.649 204.127 152.686 204.127 Q158.056 204.127 161.251 206.812 Q164.445 209.497 164.445 213.988 Q164.445 216.118 163.635 218.039 Q162.848 219.937 160.741 222.53 Q160.163 223.201 157.061 226.419 Q153.959 229.613 148.311 235.377 Z\" fill=\"#000000\" fill-rule=\"evenodd\" fill-opacity=\"1\" /><path clip-path=\"url(#clip480)\" d=\"M184.445 207.831 Q180.834 207.831 179.005 211.395 Q177.2 214.937 177.2 222.067 Q177.2 229.173 179.005 232.738 Q180.834 236.28 184.445 236.28 Q188.079 236.28 189.885 232.738 Q191.713 229.173 191.713 222.067 Q191.713 214.937 189.885 211.395 Q188.079 207.831 184.445 207.831 M184.445 204.127 Q190.255 204.127 193.311 208.733 Q196.389 213.317 196.389 222.067 Q196.389 230.793 193.311 235.4 Q190.255 239.983 184.445 239.983 Q178.635 239.983 175.556 235.4 Q172.501 230.793 172.501 222.067 Q172.501 213.317 175.556 208.733 Q178.635 204.127 184.445 204.127 Z\" fill=\"#000000\" fill-rule=\"evenodd\" fill-opacity=\"1\" /><path clip-path=\"url(#clip480)\" d=\"M49.9359 788.254 L28.3562 788.254 L28.3562 782.397 L49.7131 782.397 Q54.7739 782.397 57.3202 780.424 Q59.8346 778.45 59.8346 774.504 Q59.8346 769.761 56.8109 767.024 Q53.7872 764.255 48.5673 764.255 L28.3562 764.255 L28.3562 758.398 L64.0042 758.398 L64.0042 764.255 L58.5296 764.255 Q61.7762 766.387 63.3676 769.22 Q64.9272 772.021 64.9272 775.745 Q64.9272 781.888 61.1078 785.071 Q57.2883 788.254 49.9359 788.254 M27.4968 773.517 L27.4968 773.517 Z\" fill=\"#000000\" fill-rule=\"evenodd\" fill-opacity=\"1\" /><path clip-path=\"url(#clip480)\" d=\"M1029.71 12.096 L1037.89 12.096 L1037.89 72.576 L1029.71 72.576 L1029.71 12.096 Z\" fill=\"#000000\" fill-rule=\"evenodd\" fill-opacity=\"1\" /><path clip-path=\"url(#clip480)\" d=\"M1091.57 45.1919 L1091.57 72.576 L1084.11 72.576 L1084.11 45.4349 Q1084.11 38.994 1081.6 35.7938 Q1079.09 32.5936 1074.07 32.5936 Q1068.03 32.5936 1064.55 36.4419 Q1061.06 40.2903 1061.06 46.9338 L1061.06 72.576 L1053.57 72.576 L1053.57 27.2059 L1061.06 27.2059 L1061.06 34.2544 Q1063.74 30.163 1067.34 28.1376 Q1070.99 26.1121 1075.73 26.1121 Q1083.55 26.1121 1087.56 30.9732 Q1091.57 35.7938 1091.57 45.1919 Z\" fill=\"#000000\" fill-rule=\"evenodd\" fill-opacity=\"1\" /><path clip-path=\"url(#clip480)\" d=\"M1113.64 65.7705 L1113.64 89.8329 L1106.15 89.8329 L1106.15 27.2059 L1113.64 27.2059 L1113.64 34.0924 Q1115.99 30.0415 1119.56 28.0971 Q1123.16 26.1121 1128.15 26.1121 Q1136.41 26.1121 1141.55 32.6746 Q1146.74 39.2371 1146.74 49.9314 Q1146.74 60.6258 1141.55 67.1883 Q1136.41 73.7508 1128.15 73.7508 Q1123.16 73.7508 1119.56 71.8063 Q1115.99 69.8214 1113.64 65.7705 M1139 49.9314 Q1139 41.7081 1135.6 37.0496 Q1132.24 32.3505 1126.32 32.3505 Q1120.41 32.3505 1117.01 37.0496 Q1113.64 41.7081 1113.64 49.9314 Q1113.64 58.1548 1117.01 62.8538 Q1120.41 67.5124 1126.32 67.5124 Q1132.24 67.5124 1135.6 62.8538 Q1139 58.1548 1139 49.9314 Z\" fill=\"#000000\" fill-rule=\"evenodd\" fill-opacity=\"1\" /><path clip-path=\"url(#clip480)\" d=\"M1158.33 54.671 L1158.33 27.2059 L1165.78 27.2059 L1165.78 54.3874 Q1165.78 60.8284 1168.29 64.0691 Q1170.8 67.2693 1175.83 67.2693 Q1181.86 67.2693 1185.35 63.421 Q1188.87 59.5726 1188.87 52.9291 L1188.87 27.2059 L1196.32 27.2059 L1196.32 72.576 L1188.87 72.576 L1188.87 65.6084 Q1186.16 69.7404 1182.55 71.7658 Q1178.99 73.7508 1174.25 73.7508 Q1166.43 73.7508 1162.38 68.8897 Q1158.33 64.0286 1158.33 54.671 M1177.08 26.1121 L1177.08 26.1121 Z\" fill=\"#000000\" fill-rule=\"evenodd\" fill-opacity=\"1\" /><path clip-path=\"url(#clip480)\" d=\"M1219.05 14.324 L1219.05 27.2059 L1234.4 27.2059 L1234.4 32.9987 L1219.05 32.9987 L1219.05 57.6282 Q1219.05 63.1779 1220.55 64.7578 Q1222.09 66.3376 1226.75 66.3376 L1234.4 66.3376 L1234.4 72.576 L1226.75 72.576 Q1218.12 72.576 1214.84 69.3758 Q1211.55 66.1351 1211.55 57.6282 L1211.55 32.9987 L1206.09 32.9987 L1206.09 27.2059 L1211.55 27.2059 L1211.55 14.324 L1219.05 14.324 Z\" fill=\"#000000\" fill-rule=\"evenodd\" fill-opacity=\"1\" /><path clip-path=\"url(#clip480)\" d=\"M1270.9 12.096 L1279.08 12.096 L1279.08 36.8875 L1308.82 36.8875 L1308.82 12.096 L1317 12.096 L1317 72.576 L1308.82 72.576 L1308.82 43.7741 L1279.08 43.7741 L1279.08 72.576 L1270.9 72.576 L1270.9 12.096 Z\" fill=\"#000000\" fill-rule=\"evenodd\" fill-opacity=\"1\" /><path clip-path=\"url(#clip480)\" d=\"M1332.96 27.2059 L1340.41 27.2059 L1340.41 72.576 L1332.96 72.576 L1332.96 27.2059 M1332.96 9.54393 L1340.41 9.54393 L1340.41 18.9825 L1332.96 18.9825 L1332.96 9.54393 Z\" fill=\"#000000\" fill-rule=\"evenodd\" fill-opacity=\"1\" /><path clip-path=\"url(#clip480)\" d=\"M1384.93 28.5427 L1384.93 35.5912 Q1381.77 33.9709 1378.37 33.1607 Q1374.97 32.3505 1371.32 32.3505 Q1365.77 32.3505 1362.98 34.0519 Q1360.22 35.7533 1360.22 39.156 Q1360.22 41.7486 1362.21 43.2475 Q1364.19 44.7058 1370.19 46.0426 L1372.74 46.6097 Q1380.68 48.3111 1384 51.4303 Q1387.36 54.509 1387.36 60.0587 Q1387.36 66.3781 1382.34 70.0644 Q1377.36 73.7508 1368.61 73.7508 Q1364.96 73.7508 1360.99 73.0216 Q1357.06 72.3329 1352.69 70.9151 L1352.69 63.2184 Q1356.82 65.3654 1360.83 66.4591 Q1364.84 67.5124 1368.77 67.5124 Q1374.04 67.5124 1376.87 65.73 Q1379.71 63.9071 1379.71 60.6258 Q1379.71 57.5877 1377.64 55.9673 Q1375.62 54.3469 1368.69 52.8481 L1366.1 52.2405 Q1359.17 50.7821 1356.09 47.7845 Q1353.01 44.7463 1353.01 39.4801 Q1353.01 33.0797 1357.55 29.5959 Q1362.09 26.1121 1370.43 26.1121 Q1374.56 26.1121 1378.21 26.7198 Q1381.85 27.3274 1384.93 28.5427 Z\" fill=\"#000000\" fill-rule=\"evenodd\" fill-opacity=\"1\" /><path clip-path=\"url(#clip480)\" d=\"M1406.61 14.324 L1406.61 27.2059 L1421.96 27.2059 L1421.96 32.9987 L1406.61 32.9987 L1406.61 57.6282 Q1406.61 63.1779 1408.1 64.7578 Q1409.64 66.3376 1414.3 66.3376 L1421.96 66.3376 L1421.96 72.576 L1414.3 72.576 Q1405.67 72.576 1402.39 69.3758 Q1399.11 66.1351 1399.11 57.6282 L1399.11 32.9987 L1393.64 32.9987 L1393.64 27.2059 L1399.11 27.2059 L1399.11 14.324 L1406.61 14.324 Z\" fill=\"#000000\" fill-rule=\"evenodd\" fill-opacity=\"1\" /><path clip-path=\"url(#clip480)\" d=\"M1449.34 32.4315 Q1443.35 32.4315 1439.86 37.1306 Q1436.38 41.7891 1436.38 49.9314 Q1436.38 58.0738 1439.82 62.7728 Q1443.31 67.4314 1449.34 67.4314 Q1455.3 67.4314 1458.78 62.7323 Q1462.27 58.0333 1462.27 49.9314 Q1462.27 41.8701 1458.78 37.1711 Q1455.3 32.4315 1449.34 32.4315 M1449.34 26.1121 Q1459.06 26.1121 1464.61 32.4315 Q1470.16 38.7509 1470.16 49.9314 Q1470.16 61.0714 1464.61 67.4314 Q1459.06 73.7508 1449.34 73.7508 Q1439.58 73.7508 1434.03 67.4314 Q1428.52 61.0714 1428.52 49.9314 Q1428.52 38.7509 1434.03 32.4315 Q1439.58 26.1121 1449.34 26.1121 Z\" fill=\"#000000\" fill-rule=\"evenodd\" fill-opacity=\"1\" /><path clip-path=\"url(#clip480)\" d=\"M1508.81 34.1734 Q1507.55 33.4443 1506.06 33.1202 Q1504.6 32.7556 1502.81 32.7556 Q1496.5 32.7556 1493.09 36.8875 Q1489.73 40.9789 1489.73 48.6757 L1489.73 72.576 L1482.24 72.576 L1482.24 27.2059 L1489.73 27.2059 L1489.73 34.2544 Q1492.08 30.1225 1495.85 28.1376 Q1499.61 26.1121 1505 26.1121 Q1505.77 26.1121 1506.7 26.2337 Q1507.64 26.3147 1508.77 26.5172 L1508.81 34.1734 Z\" fill=\"#000000\" fill-rule=\"evenodd\" fill-opacity=\"1\" /><path clip-path=\"url(#clip480)\" d=\"M1535.51 76.7889 Q1532.35 84.8907 1529.35 87.3618 Q1526.35 89.8329 1521.33 89.8329 L1515.37 89.8329 L1515.37 83.5945 L1519.75 83.5945 Q1522.83 83.5945 1524.53 82.1361 Q1526.23 80.6778 1528.29 75.2496 L1529.63 71.8468 L1511.28 27.2059 L1519.18 27.2059 L1533.36 62.6918 L1547.54 27.2059 L1555.44 27.2059 L1535.51 76.7889 Z\" fill=\"#000000\" fill-rule=\"evenodd\" fill-opacity=\"1\" /><polyline clip-path=\"url(#clip482)\" style=\"stroke:#009af9; stroke-linecap:round; stroke-linejoin:round; stroke-width:4; stroke-opacity:1; fill:none\" points=\"292.4,1101.14 299.621,1115.87 306.843,1117.38 314.064,1117.1 321.286,1115.81 328.507,1114.27 335.729,1115.77 342.95,1115.37 350.171,1110.87 357.393,1110.83 364.614,1104.54 371.836,1097.9 379.057,1103.69 386.279,1112.47 393.5,1115.69 400.722,1116.63 407.943,1117.79 415.165,1113.64 422.386,1114.37 429.608,1117.36 436.829,1115.05 444.05,1112.34 451.272,1115.03 458.493,1117.86 465.715,1116.87 472.936,1116.64 480.158,1117.18 487.379,1117.78 494.601,1117.99 501.822,1121.12 509.044,1121.91 516.265,1123.25 523.487,1118.39 530.708,1120.06 537.93,1120.14 545.151,1122.52 552.372,1123.88 559.594,1125.75 566.815,1126.17 574.037,1127.99 581.258,1128.05 588.48,1129.83 595.701,1131.13 602.923,1132.24 610.144,1132.17 617.366,1133.2 624.587,1133.55 631.809,1133.48 639.03,1136.6 646.252,1136.02 653.473,1137.06 660.694,1139.57 667.916,1136.69 675.137,1138.05 682.359,1139.55 689.58,1143.49 696.802,1141.76 704.023,1143.29 711.245,1146.3 718.466,1145.61 725.688,1147.36 732.909,1148.33 740.131,1150.98 747.352,1149.91 754.573,1152.71 761.795,1153.33 769.016,1155.09 776.238,1107.78 783.459,1111.39 790.681,1117.88 797.902,1122.81 805.124,1130.92 812.345,1135.11 819.567,1135.18 826.788,1136.62 834.01,1135.92 841.231,1135.43 848.452,1140.71 855.674,1148.78 862.895,1152.88 870.117,1159.98 877.338,1166.1 884.56,1170.99 891.781,1169.94 899.003,1172.34 906.224,1174.77 913.446,1176.35 920.667,1176.38 927.889,1175 935.11,1175.02 942.332,1175.39 949.553,1178.63 956.774,1181.05 963.996,1180.68 971.217,1184.47 978.439,1184.97 985.66,1185.93 992.882,1186.1 1000.1,1187 1007.32,1185.16 1014.55,1185.62 1021.77,1188.74 1028.99,1188.95 1036.21,1189.21 1043.43,1184.89 1050.65,1184.57 1057.88,1185.12 1065.1,1183.42 1072.32,1189.42 1079.54,1185.65 1086.76,1190.82 1093.98,1193.86 1101.2,1197.32 1108.43,1199.77 1115.65,1204.08 1122.87,1201.31 1130.09,1199.64 1137.31,1197.44 1144.53,1198.16 1151.75,1200.2 1158.98,1205.79 1166.2,1206.67 1173.42,1203.67 1180.64,1208.54 1187.86,1208.42 1195.08,1201.73 1202.3,1201.78 1209.53,1202.25 1216.75,1199.04 1223.97,1195.81 1231.19,1197.21 1238.41,1197.71 1245.63,1197.77 1252.85,1198.13 1260.08,1193.78 1267.3,1189.82 1274.52,1192.45 1281.74,1195.79 1288.96,1193.49 1296.18,1193.64 1303.4,1194.46 1310.63,1194.04 1317.85,1186.03 1325.07,1190.29 1332.29,1189.69 1339.51,1193.37 1346.73,1191.48 1353.96,1196.91 1361.18,1196.76 1368.4,1198.11 1375.62,1195.92 1382.84,1194.71 1390.06,1194.43 1397.28,1192.36 1404.51,1191 1411.73,1192.63 1418.95,1190.72 1426.17,1190.48 1433.39,1187.68 1440.61,1187.04 1447.83,1187.31 1455.06,1186.16 1462.28,1187.85 1469.5,1183.49 1476.72,1181.06 1483.94,1183.58 1491.16,1183.13 1498.38,1183.14 1505.61,1177.33 1512.83,1176.47 1520.05,1175.35 1527.27,1178.77 1534.49,1183.51 1541.71,1188.76 1548.93,1186.64 1556.16,1188.95 1563.38,1187.62 1570.6,1184.87 1577.82,1179.91 1585.04,1176.51 1592.26,1178.79 1599.48,1180.41 1606.71,1185.35 1613.93,1187.77 1621.15,1186.79 1628.37,1186.41 1635.59,1190.96 1642.81,1186.73 1650.04,1188.39 1657.26,1189.31 1664.48,1189.24 1671.7,1182.26 1678.92,1182.74 1686.14,1190.06 1693.36,1192.88 1700.59,1193.68 1707.81,1191.32 1715.03,1192.39 1722.25,1194.11 1729.47,1200.66 1736.69,1201.39 1743.91,1204.13 1751.14,1205.54 1758.36,1205.2 1765.58,1203.53 1772.8,1202.69 1780.02,1201.07 1787.24,1199.16 1794.46,1199.81 1801.69,1203.51 1808.91,1204.24 1816.13,1198.94 1823.35,1202.76 1830.57,1197.96 1837.79,1199.4 1845.01,1198.71 1852.24,1197.18 1859.46,1192.37 1866.68,1200.16 1873.9,1201.91 1881.12,1195.76 1888.34,1191.43 1895.56,1191.34 1902.79,1190.76 1910.01,1189.48 1917.23,1184.77 1924.45,1184.37 1931.67,1186.71 1938.89,1188.89 1946.12,1188.9 1953.34,1187.85 1960.56,1185.65 1967.78,1179.83 1975,1173.74 1982.22,1174.78 1989.44,1169.14 1996.67,1167.27 2003.89,1170.69 2011.11,1176.52 2018.33,1171.15 2025.55,1173.7 2032.77,1177.64 2039.99,1181.33 2047.22,1186.12 2054.44,1188.75 2061.66,1184.68 2068.88,1182.64 2076.1,1182.57 2083.32,1179.69 2090.54,1180.13 2097.77,1180.75 2104.99,1180.66 2112.21,1178.98 2119.43,1176.46 2126.65,1175.68 2133.87,1170.75 2141.09,1166.18 2148.32,1164.91 2155.54,1168.2 2162.76,1163.83 2169.98,1170.74 2177.2,1173.56 2184.42,1174.7 2191.64,1173.9 2198.87,1180.41 2206.09,1182.55 2213.31,1187.48 2220.53,1187.71 2227.75,1185.88 2234.97,1190.21 2242.2,1195.32 2249.42,1196.98 2256.64,1192.82 2263.86,1190.49 2271.08,1194.06 2278.3,1191.31 2285.52,1186.1 2292.75,1185.11 \"/>\n",
       "<polyline clip-path=\"url(#clip482)\" style=\"stroke:#e26f46; stroke-linecap:round; stroke-linejoin:round; stroke-width:4; stroke-opacity:1; fill:none\" points=\"292.4,1386.4 299.621,1368.19 306.843,1358.72 314.064,1347.73 321.286,1349.28 328.507,1331.76 335.729,1322.67 342.95,1319.9 350.171,1320.51 357.393,1313.25 364.614,1306.25 371.836,1303.2 379.057,1292.78 386.279,1284.7 393.5,1280.07 400.722,1278.32 407.943,1271.54 415.165,1262.52 422.386,1257.64 429.608,1250.81 436.829,1244.96 444.05,1236.24 451.272,1236.04 458.493,1238.6 465.715,1234.94 472.936,1233.4 480.158,1231.11 487.379,1229.37 494.601,1230.25 501.822,1229.55 509.044,1229.04 516.265,1230.41 523.487,1236.11 530.708,1236.8 537.93,1235.68 545.151,1231.47 552.372,1230.2 559.594,1228.63 566.815,1227.51 574.037,1224.92 581.258,1224.3 588.48,1222.54 595.701,1220.78 602.923,1218.41 610.144,1217.58 617.366,1216.13 624.587,1215.07 631.809,1214.53 639.03,1211.86 646.252,1211.38 653.473,1210.17 660.694,1207.99 667.916,1207.95 675.137,1206.36 682.359,1205.73 689.58,1203.31 696.802,1204.04 704.023,1202.26 711.245,1200.1 718.466,1200.19 725.688,1199.13 732.909,1197.8 740.131,1196.87 747.352,1195.85 754.573,1194.47 761.795,1193.86 769.016,1193.71 776.238,1216.65 783.459,1214.19 790.681,1210.07 797.902,1208.48 805.124,1207.65 812.345,1203.99 819.567,1202.56 826.788,1201.64 834.01,1198.06 841.231,1197.15 848.452,1196.86 855.674,1191.39 862.895,1186.8 870.117,1188.34 877.338,1189.92 884.56,1193.58 891.781,1191.4 899.003,1191.61 906.224,1188.52 913.446,1185.83 920.667,1180.04 927.889,1181.92 935.11,1180.15 942.332,1176.63 949.553,1175.64 956.774,1176.24 963.996,1172.23 971.217,1174.19 978.439,1170 985.66,1169.9 992.882,1169.15 1000.1,1166.24 1007.32,1167 1014.55,1169.67 1021.77,1170.62 1028.99,1169.09 1036.21,1172.05 1043.43,1174.62 1050.65,1178.77 1057.88,1181.36 1065.1,1175.37 1072.32,1174.16 1079.54,1173.03 1086.76,1173.35 1093.98,1172.9 1101.2,1176.32 1108.43,1181.91 1115.65,1184.31 1122.87,1181.24 1130.09,1176.4 1137.31,1173.41 1144.53,1168.57 1151.75,1170.25 1158.98,1168.43 1166.2,1167.43 1173.42,1166.25 1180.64,1168.23 1187.86,1164.69 1195.08,1163.74 1202.3,1161.37 1209.53,1162.95 1216.75,1162.99 1223.97,1163.96 1231.19,1165.88 1238.41,1167.19 1245.63,1169.95 1252.85,1172.47 1260.08,1177.64 1267.3,1178.8 1274.52,1180.15 1281.74,1179.32 1288.96,1178.07 1296.18,1184.41 1303.4,1184.78 1310.63,1183.77 1317.85,1181.76 1325.07,1182.53 1332.29,1182.93 1339.51,1179.73 1346.73,1181.61 1353.96,1185.61 1361.18,1187.94 1368.4,1183.89 1375.62,1178.54 1382.84,1175.65 1390.06,1175.66 1397.28,1177.5 1404.51,1182.52 1411.73,1187.17 1418.95,1186.89 1426.17,1184.04 1433.39,1184.44 1440.61,1186.11 1447.83,1184.14 1455.06,1181.91 1462.28,1178.93 1469.5,1179.67 1476.72,1179.4 1483.94,1175.78 1491.16,1177.21 1498.38,1178.19 1505.61,1183.19 1512.83,1183.69 1520.05,1182.96 1527.27,1186.24 1534.49,1187.74 1541.71,1190.8 1548.93,1192.7 1556.16,1195.04 1563.38,1198.06 1570.6,1198.94 1577.82,1197.57 1585.04,1196.56 1592.26,1193.56 1599.48,1192.44 1606.71,1191.06 1613.93,1193.4 1621.15,1192.02 1628.37,1194.28 1635.59,1194.45 1642.81,1188.2 1650.04,1189.07 1657.26,1189.92 1664.48,1188.71 1671.7,1184.7 1678.92,1187.22 1686.14,1187 1693.36,1182.95 1700.59,1177.44 1707.81,1174 1715.03,1175.41 1722.25,1176.66 1729.47,1178.34 1736.69,1177.79 1743.91,1179.51 1751.14,1181.94 1758.36,1177.54 1765.58,1178.27 1772.8,1179.29 1780.02,1181.5 1787.24,1181.03 1794.46,1182.17 1801.69,1179.91 1808.91,1180.38 1816.13,1182.4 1823.35,1185.08 1830.57,1184.74 1837.79,1186.26 1845.01,1188.41 1852.24,1195.04 1859.46,1197.09 1866.68,1191.28 1873.9,1191.39 1881.12,1195.45 1888.34,1195.42 1895.56,1198.26 1902.79,1198.7 1910.01,1205.24 1917.23,1202.15 1924.45,1199.85 1931.67,1195.86 1938.89,1189.59 1946.12,1191.3 1953.34,1188.19 1960.56,1191.17 1967.78,1191.16 1975,1189.81 1982.22,1193.52 1989.44,1194.86 1996.67,1196.13 2003.89,1197.38 2011.11,1201.63 2018.33,1195.26 2025.55,1193.03 2032.77,1191.05 2039.99,1193.52 2047.22,1197.79 2054.44,1191.77 2061.66,1192.06 2068.88,1192.21 2076.1,1187.16 2083.32,1188.34 2090.54,1186.67 2097.77,1186.76 2104.99,1187.21 2112.21,1186.77 2119.43,1186.45 2126.65,1185.07 2133.87,1191.84 2141.09,1191.94 2148.32,1191.5 2155.54,1190.29 2162.76,1186.06 2169.98,1189.54 2177.2,1190.24 2184.42,1188.35 2191.64,1183.46 2198.87,1189.85 2206.09,1185.5 2213.31,1181.96 2220.53,1180.86 2227.75,1180.88 2234.97,1182.67 2242.2,1177.15 2249.42,1182.58 2256.64,1182.6 2263.86,1180.37 2271.08,1182.38 2278.3,1180.42 2285.52,1175.52 2292.75,1176 \"/>\n",
       "<polyline clip-path=\"url(#clip482)\" style=\"stroke:#3da44d; stroke-linecap:round; stroke-linejoin:round; stroke-width:4; stroke-opacity:1; fill:none\" points=\"292.4,1160.62 299.621,1099.84 306.843,1046.84 314.064,976.372 321.286,925.16 328.507,875.367 335.729,823.191 342.95,793.839 350.171,740.493 357.393,684.572 364.614,640.34 371.836,595.413 379.057,551.622 386.279,529.124 393.5,497.321 400.722,471.878 407.943,435.827 415.165,420.671 422.386,400.484 429.608,374.348 436.829,347.641 444.05,327.609 451.272,303.365 458.493,288.19 465.715,271.082 472.936,262.507 480.158,258.987 487.379,247.845 494.601,237.89 501.822,229.664 509.044,221.679 516.265,213.942 523.487,207.682 530.708,196.663 537.93,185.907 545.151,179.667 552.372,175.818 559.594,170.416 566.815,168.907 574.037,166.659 581.258,163.414 588.48,162.095 595.701,160.759 602.923,160.256 610.144,160.579 617.366,161.863 624.587,163.402 631.809,163.541 639.03,164.053 646.252,167.529 653.473,169.785 660.694,171.327 667.916,173.869 675.137,173.998 682.359,175.675 689.58,177.403 696.802,180.944 704.023,182.21 711.245,184.856 718.466,187.702 725.688,191.042 732.909,195.413 740.131,197.66 747.352,200.969 754.573,205.533 761.795,209.542 769.016,212.322 776.238,213.779 783.459,218.104 790.681,222.057 797.902,225.565 805.124,229.869 812.345,233.481 819.567,238.579 826.788,243.582 834.01,251.625 841.231,256.788 848.452,262.729 855.674,263.083 862.895,271.51 870.117,275.867 877.338,276.292 884.56,280.657 891.781,285.226 899.003,286.528 906.224,291.419 913.446,297.809 920.667,299.457 927.889,306.993 935.11,309.928 942.332,311.668 949.553,319.271 956.774,324.634 963.996,326.595 971.217,328.543 978.439,329.381 985.66,331.491 992.882,329.936 1000.1,334.656 1007.32,335.72 1014.55,341.697 1021.77,345.035 1028.99,347.219 1036.21,353.035 1043.43,358.128 1050.65,359.028 1057.88,357.983 1065.1,359.66 1072.32,354.445 1079.54,352.51 1086.76,356.909 1093.98,359.719 1101.2,363.752 1108.43,365.576 1115.65,367.639 1122.87,368.538 1130.09,369.577 1137.31,373.655 1144.53,370.093 1151.75,373.885 1158.98,381.15 1166.2,383.566 1173.42,385.807 1180.64,385.899 1187.86,385.121 1195.08,386.458 1202.3,389.108 1209.53,390.483 1216.75,389.834 1223.97,392.503 1231.19,394.4 1238.41,397.558 1245.63,398.808 1252.85,397.804 1260.08,393.51 1267.3,391.718 1274.52,389.817 1281.74,392.635 1288.96,392.161 1296.18,394.713 1303.4,393.944 1310.63,394.423 1317.85,400.624 1325.07,403.232 1332.29,404.048 1339.51,402.922 1346.73,397.796 1353.96,398.008 1361.18,401.187 1368.4,400.237 1375.62,397.527 1382.84,401.621 1390.06,401.264 1397.28,398.376 1404.51,398.052 1411.73,400.28 1418.95,399.085 1426.17,400.337 1433.39,403.437 1440.61,398.832 1447.83,395.663 1455.06,394.083 1462.28,397.918 1469.5,397.712 1476.72,396.034 1483.94,397.142 1491.16,396.164 1498.38,397.055 1505.61,398.643 1512.83,393.979 1520.05,385.45 1527.27,386.755 1534.49,386.902 1541.71,390.31 1548.93,390.962 1556.16,393.328 1563.38,388.507 1570.6,388.48 1577.82,389.744 1585.04,388.975 1592.26,389.834 1599.48,389.793 1606.71,390.608 1613.93,394.693 1621.15,396.904 1628.37,392.861 1635.59,386.382 1642.81,388.597 1650.04,393.798 1657.26,397.835 1664.48,399.791 1671.7,403.872 1678.92,403.617 1686.14,402.553 1693.36,396.409 1700.59,397.21 1707.81,394.858 1715.03,392.504 1722.25,388.93 1729.47,393.357 1736.69,392.707 1743.91,393.935 1751.14,400.686 1758.36,406.724 1765.58,407.858 1772.8,405.591 1780.02,407.011 1787.24,408.565 1794.46,407.344 1801.69,405.894 1808.91,402.797 1816.13,395.929 1823.35,390.721 1830.57,389.37 1837.79,383.079 1845.01,387.176 1852.24,389.545 1859.46,393.064 1866.68,390.336 1873.9,395.389 1881.12,396.023 1888.34,395.904 1895.56,395.617 1902.79,393.753 1910.01,396.974 1917.23,399.127 1924.45,402.156 1931.67,399.027 1938.89,399.266 1946.12,393.861 1953.34,393.008 1960.56,398.403 1967.78,398.643 1975,401.637 1982.22,401.217 1989.44,395.401 1996.67,392.537 2003.89,389.665 2011.11,391.165 2018.33,388.876 2025.55,382.679 2032.77,387.744 2039.99,384.808 2047.22,383.58 2054.44,389.089 2061.66,394.616 2068.88,395.919 2076.1,394.187 2083.32,395.007 2090.54,398.855 2097.77,400.15 2104.99,402.458 2112.21,404.985 2119.43,404.16 2126.65,400.312 2133.87,403.49 2141.09,401.706 2148.32,401.495 2155.54,398.447 2162.76,394.848 2169.98,397.577 2177.2,390.91 2184.42,389.05 2191.64,387.055 2198.87,384.397 2206.09,388.006 2213.31,385.973 2220.53,388.616 2227.75,386.662 2234.97,383.764 2242.2,379.658 2249.42,378.159 2256.64,381.957 2263.86,383.425 2271.08,386.898 2278.3,387.306 2285.52,390.807 2292.75,389.662 \"/>\n",
       "<path clip-path=\"url(#clip480)\" d=\"M2027.42 374.156 L2282.08 374.156 L2282.08 166.796 L2027.42 166.796  Z\" fill=\"#ffffff\" fill-rule=\"evenodd\" fill-opacity=\"1\"/>\n",
       "<polyline clip-path=\"url(#clip480)\" style=\"stroke:#000000; stroke-linecap:round; stroke-linejoin:round; stroke-width:4; stroke-opacity:1; fill:none\" points=\"2027.42,374.156 2282.08,374.156 2282.08,166.796 2027.42,166.796 2027.42,374.156 \"/>\n",
       "<polyline clip-path=\"url(#clip480)\" style=\"stroke:#009af9; stroke-linecap:round; stroke-linejoin:round; stroke-width:4; stroke-opacity:1; fill:none\" points=\"2050.98,218.636 2192.34,218.636 \"/>\n",
       "<path clip-path=\"url(#clip480)\" d=\"M2215.9 225.684 L2215.9 209.99 L2220.16 209.99 L2220.16 225.522 Q2220.16 229.203 2221.6 231.055 Q2223.03 232.883 2225.9 232.883 Q2229.35 232.883 2231.34 230.684 Q2233.36 228.485 2233.36 224.689 L2233.36 209.99 L2237.61 209.99 L2237.61 235.916 L2233.36 235.916 L2233.36 231.934 Q2231.8 234.295 2229.74 235.453 Q2227.71 236.587 2225 236.587 Q2220.53 236.587 2218.22 233.809 Q2215.9 231.031 2215.9 225.684 M2226.62 209.365 L2226.62 209.365 Z\" fill=\"#000000\" fill-rule=\"evenodd\" fill-opacity=\"1\" /><path clip-path=\"url(#clip480)\" d=\"M2245.53 233.369 L2250.25 233.369 L2250.25 219.226 L2245.09 220.175 L2245.09 217.49 L2250.42 216.587 L2253.59 216.587 L2253.59 233.369 L2258.33 233.369 L2258.33 235.916 L2245.53 235.916 L2245.53 233.369 Z\" fill=\"#000000\" fill-rule=\"evenodd\" fill-opacity=\"1\" /><polyline clip-path=\"url(#clip480)\" style=\"stroke:#e26f46; stroke-linecap:round; stroke-linejoin:round; stroke-width:4; stroke-opacity:1; fill:none\" points=\"2050.98,270.476 2192.34,270.476 \"/>\n",
       "<path clip-path=\"url(#clip480)\" d=\"M2215.9 277.524 L2215.9 261.83 L2220.16 261.83 L2220.16 277.362 Q2220.16 281.043 2221.6 282.895 Q2223.03 284.723 2225.9 284.723 Q2229.35 284.723 2231.34 282.524 Q2233.36 280.325 2233.36 276.529 L2233.36 261.83 L2237.61 261.83 L2237.61 287.756 L2233.36 287.756 L2233.36 283.774 Q2231.8 286.135 2229.74 287.293 Q2227.71 288.427 2225 288.427 Q2220.53 288.427 2218.22 285.649 Q2215.9 282.871 2215.9 277.524 M2226.62 261.205 L2226.62 261.205 Z\" fill=\"#000000\" fill-rule=\"evenodd\" fill-opacity=\"1\" /><path clip-path=\"url(#clip480)\" d=\"M2248.12 285.117 L2257.94 285.117 L2257.94 287.756 L2244.1 287.756 L2244.1 285.209 Q2244.88 284.492 2246.34 283.196 Q2254.3 276.135 2254.3 273.959 Q2254.3 272.432 2253.1 271.506 Q2251.9 270.557 2249.93 270.557 Q2248.73 270.557 2247.31 270.973 Q2245.9 271.367 2244.24 272.177 L2244.24 269.33 Q2246.02 268.682 2247.55 268.358 Q2249.1 268.034 2250.42 268.034 Q2253.77 268.034 2255.79 269.561 Q2257.8 271.089 2257.8 273.589 Q2257.8 276.807 2250.14 283.381 Q2248.84 284.492 2248.12 285.117 Z\" fill=\"#000000\" fill-rule=\"evenodd\" fill-opacity=\"1\" /><polyline clip-path=\"url(#clip480)\" style=\"stroke:#3da44d; stroke-linecap:round; stroke-linejoin:round; stroke-width:4; stroke-opacity:1; fill:none\" points=\"2050.98,322.316 2192.34,322.316 \"/>\n",
       "<path clip-path=\"url(#clip480)\" d=\"M2215.9 329.364 L2215.9 313.67 L2220.16 313.67 L2220.16 329.202 Q2220.16 332.883 2221.6 334.735 Q2223.03 336.563 2225.9 336.563 Q2229.35 336.563 2231.34 334.364 Q2233.36 332.165 2233.36 328.369 L2233.36 313.67 L2237.61 313.67 L2237.61 339.596 L2233.36 339.596 L2233.36 335.614 Q2231.8 337.975 2229.74 339.133 Q2227.71 340.267 2225 340.267 Q2220.53 340.267 2218.22 337.489 Q2215.9 334.711 2215.9 329.364 M2226.62 313.045 L2226.62 313.045 Z\" fill=\"#000000\" fill-rule=\"evenodd\" fill-opacity=\"1\" /><path clip-path=\"url(#clip480)\" d=\"M2254.05 329.133 Q2256.18 329.549 2257.34 330.823 Q2258.52 332.073 2258.52 333.971 Q2258.52 336.841 2256.32 338.392 Q2254.12 339.943 2250.02 339.943 Q2248.7 339.943 2247.24 339.688 Q2245.81 339.457 2244.19 338.994 L2244.19 336.193 Q2245.39 336.818 2246.76 337.119 Q2248.15 337.42 2249.7 337.42 Q2252.22 337.42 2253.61 336.517 Q2255 335.591 2255 333.971 Q2255 332.258 2253.7 331.378 Q2252.43 330.499 2249.93 330.499 L2247.94 330.499 L2247.94 327.999 L2250.11 327.999 Q2252.29 327.999 2253.4 327.281 Q2254.54 326.54 2254.54 325.151 Q2254.54 323.809 2253.38 323.114 Q2252.22 322.397 2250.02 322.397 Q2249.1 322.397 2247.92 322.605 Q2246.74 322.813 2244.86 323.346 L2244.86 320.684 Q2246.55 320.29 2248.03 320.082 Q2249.51 319.874 2250.79 319.874 Q2254.12 319.874 2256.06 321.239 Q2258.03 322.605 2258.03 324.897 Q2258.03 326.494 2256.99 327.605 Q2255.95 328.716 2254.05 329.133 Z\" fill=\"#000000\" fill-rule=\"evenodd\" fill-opacity=\"1\" /></svg>\n"
      ]
     },
     "metadata": {},
     "output_type": "display_data"
    },
    {
     "data": {
      "image/svg+xml": [
       "<?xml version=\"1.0\" encoding=\"utf-8\"?>\n",
       "<svg xmlns=\"http://www.w3.org/2000/svg\" xmlns:xlink=\"http://www.w3.org/1999/xlink\" width=\"600\" height=\"400\" viewBox=\"0 0 2400 1600\">\n",
       "<defs>\n",
       "  <clipPath id=\"clip520\">\n",
       "    <rect x=\"0\" y=\"0\" width=\"2400\" height=\"1600\"/>\n",
       "  </clipPath>\n",
       "</defs>\n",
       "<path clip-path=\"url(#clip520)\" d=\"M0 1600 L2400 1600 L2400 0 L0 0  Z\" fill=\"#ffffff\" fill-rule=\"evenodd\" fill-opacity=\"1\"/>\n",
       "<defs>\n",
       "  <clipPath id=\"clip521\">\n",
       "    <rect x=\"480\" y=\"0\" width=\"1681\" height=\"1600\"/>\n",
       "  </clipPath>\n",
       "</defs>\n",
       "<path clip-path=\"url(#clip520)\" d=\"M210.977 1423.18 L2352.76 1423.18 L2352.76 123.472 L210.977 123.472  Z\" fill=\"#ffffff\" fill-rule=\"evenodd\" fill-opacity=\"1\"/>\n",
       "<defs>\n",
       "  <clipPath id=\"clip522\">\n",
       "    <rect x=\"210\" y=\"123\" width=\"2143\" height=\"1301\"/>\n",
       "  </clipPath>\n",
       "</defs>\n",
       "<polyline clip-path=\"url(#clip522)\" style=\"stroke:#000000; stroke-linecap:round; stroke-linejoin:round; stroke-width:2; stroke-opacity:0.1; fill:none\" points=\"271.594,1423.18 271.594,123.472 \"/>\n",
       "<polyline clip-path=\"url(#clip522)\" style=\"stroke:#000000; stroke-linecap:round; stroke-linejoin:round; stroke-width:2; stroke-opacity:0.1; fill:none\" points=\"633.699,1423.18 633.699,123.472 \"/>\n",
       "<polyline clip-path=\"url(#clip522)\" style=\"stroke:#000000; stroke-linecap:round; stroke-linejoin:round; stroke-width:2; stroke-opacity:0.1; fill:none\" points=\"995.804,1423.18 995.804,123.472 \"/>\n",
       "<polyline clip-path=\"url(#clip522)\" style=\"stroke:#000000; stroke-linecap:round; stroke-linejoin:round; stroke-width:2; stroke-opacity:0.1; fill:none\" points=\"1357.91,1423.18 1357.91,123.472 \"/>\n",
       "<polyline clip-path=\"url(#clip522)\" style=\"stroke:#000000; stroke-linecap:round; stroke-linejoin:round; stroke-width:2; stroke-opacity:0.1; fill:none\" points=\"1720.01,1423.18 1720.01,123.472 \"/>\n",
       "<polyline clip-path=\"url(#clip522)\" style=\"stroke:#000000; stroke-linecap:round; stroke-linejoin:round; stroke-width:2; stroke-opacity:0.1; fill:none\" points=\"2082.12,1423.18 2082.12,123.472 \"/>\n",
       "<polyline clip-path=\"url(#clip520)\" style=\"stroke:#000000; stroke-linecap:round; stroke-linejoin:round; stroke-width:4; stroke-opacity:1; fill:none\" points=\"210.977,1423.18 2352.76,1423.18 \"/>\n",
       "<polyline clip-path=\"url(#clip520)\" style=\"stroke:#000000; stroke-linecap:round; stroke-linejoin:round; stroke-width:4; stroke-opacity:1; fill:none\" points=\"271.594,1423.18 271.594,1404.28 \"/>\n",
       "<polyline clip-path=\"url(#clip520)\" style=\"stroke:#000000; stroke-linecap:round; stroke-linejoin:round; stroke-width:4; stroke-opacity:1; fill:none\" points=\"633.699,1423.18 633.699,1404.28 \"/>\n",
       "<polyline clip-path=\"url(#clip520)\" style=\"stroke:#000000; stroke-linecap:round; stroke-linejoin:round; stroke-width:4; stroke-opacity:1; fill:none\" points=\"995.804,1423.18 995.804,1404.28 \"/>\n",
       "<polyline clip-path=\"url(#clip520)\" style=\"stroke:#000000; stroke-linecap:round; stroke-linejoin:round; stroke-width:4; stroke-opacity:1; fill:none\" points=\"1357.91,1423.18 1357.91,1404.28 \"/>\n",
       "<polyline clip-path=\"url(#clip520)\" style=\"stroke:#000000; stroke-linecap:round; stroke-linejoin:round; stroke-width:4; stroke-opacity:1; fill:none\" points=\"1720.01,1423.18 1720.01,1404.28 \"/>\n",
       "<polyline clip-path=\"url(#clip520)\" style=\"stroke:#000000; stroke-linecap:round; stroke-linejoin:round; stroke-width:4; stroke-opacity:1; fill:none\" points=\"2082.12,1423.18 2082.12,1404.28 \"/>\n",
       "<path clip-path=\"url(#clip520)\" d=\"M248.978 1454.1 Q245.367 1454.1 243.538 1457.66 Q241.733 1461.2 241.733 1468.33 Q241.733 1475.44 243.538 1479.01 Q245.367 1482.55 248.978 1482.55 Q252.612 1482.55 254.418 1479.01 Q256.247 1475.44 256.247 1468.33 Q256.247 1461.2 254.418 1457.66 Q252.612 1454.1 248.978 1454.1 M248.978 1450.39 Q254.788 1450.39 257.844 1455 Q260.923 1459.58 260.923 1468.33 Q260.923 1477.06 257.844 1481.67 Q254.788 1486.25 248.978 1486.25 Q243.168 1486.25 240.089 1481.67 Q237.034 1477.06 237.034 1468.33 Q237.034 1459.58 240.089 1455 Q243.168 1450.39 248.978 1450.39 Z\" fill=\"#000000\" fill-rule=\"evenodd\" fill-opacity=\"1\" /><path clip-path=\"url(#clip520)\" d=\"M269.14 1479.7 L274.024 1479.7 L274.024 1485.58 L269.14 1485.58 L269.14 1479.7 Z\" fill=\"#000000\" fill-rule=\"evenodd\" fill-opacity=\"1\" /><path clip-path=\"url(#clip520)\" d=\"M294.209 1454.1 Q290.598 1454.1 288.77 1457.66 Q286.964 1461.2 286.964 1468.33 Q286.964 1475.44 288.77 1479.01 Q290.598 1482.55 294.209 1482.55 Q297.844 1482.55 299.649 1479.01 Q301.478 1475.44 301.478 1468.33 Q301.478 1461.2 299.649 1457.66 Q297.844 1454.1 294.209 1454.1 M294.209 1450.39 Q300.02 1450.39 303.075 1455 Q306.154 1459.58 306.154 1468.33 Q306.154 1477.06 303.075 1481.67 Q300.02 1486.25 294.209 1486.25 Q288.399 1486.25 285.321 1481.67 Q282.265 1477.06 282.265 1468.33 Q282.265 1459.58 285.321 1455 Q288.399 1450.39 294.209 1450.39 Z\" fill=\"#000000\" fill-rule=\"evenodd\" fill-opacity=\"1\" /><path clip-path=\"url(#clip520)\" d=\"M605.435 1481.64 L621.754 1481.64 L621.754 1485.58 L599.81 1485.58 L599.81 1481.64 Q602.472 1478.89 607.055 1474.26 Q611.662 1469.61 612.842 1468.27 Q615.088 1465.74 615.967 1464.01 Q616.87 1462.25 616.87 1460.56 Q616.87 1457.8 614.926 1456.07 Q613.004 1454.33 609.903 1454.33 Q607.704 1454.33 605.25 1455.09 Q602.819 1455.86 600.042 1457.41 L600.042 1452.69 Q602.866 1451.55 605.319 1450.97 Q607.773 1450.39 609.81 1450.39 Q615.18 1450.39 618.375 1453.08 Q621.569 1455.77 621.569 1460.26 Q621.569 1462.39 620.759 1464.31 Q619.972 1466.2 617.866 1468.8 Q617.287 1469.47 614.185 1472.69 Q611.083 1475.88 605.435 1481.64 Z\" fill=\"#000000\" fill-rule=\"evenodd\" fill-opacity=\"1\" /><path clip-path=\"url(#clip520)\" d=\"M631.569 1479.7 L636.453 1479.7 L636.453 1485.58 L631.569 1485.58 L631.569 1479.7 Z\" fill=\"#000000\" fill-rule=\"evenodd\" fill-opacity=\"1\" /><path clip-path=\"url(#clip520)\" d=\"M646.685 1451.02 L665.041 1451.02 L665.041 1454.96 L650.967 1454.96 L650.967 1463.43 Q651.986 1463.08 653.004 1462.92 Q654.023 1462.73 655.041 1462.73 Q660.828 1462.73 664.208 1465.9 Q667.587 1469.08 667.587 1474.49 Q667.587 1480.07 664.115 1483.17 Q660.643 1486.25 654.324 1486.25 Q652.148 1486.25 649.879 1485.88 Q647.634 1485.51 645.226 1484.77 L645.226 1480.07 Q647.31 1481.2 649.532 1481.76 Q651.754 1482.32 654.231 1482.32 Q658.236 1482.32 660.574 1480.21 Q662.912 1478.1 662.912 1474.49 Q662.912 1470.88 660.574 1468.77 Q658.236 1466.67 654.231 1466.67 Q652.356 1466.67 650.481 1467.08 Q648.629 1467.5 646.685 1468.38 L646.685 1451.02 Z\" fill=\"#000000\" fill-rule=\"evenodd\" fill-opacity=\"1\" /><path clip-path=\"url(#clip520)\" d=\"M962.968 1451.02 L981.325 1451.02 L981.325 1454.96 L967.251 1454.96 L967.251 1463.43 Q968.269 1463.08 969.288 1462.92 Q970.306 1462.73 971.325 1462.73 Q977.112 1462.73 980.491 1465.9 Q983.871 1469.08 983.871 1474.49 Q983.871 1480.07 980.399 1483.17 Q976.927 1486.25 970.607 1486.25 Q968.431 1486.25 966.163 1485.88 Q963.917 1485.51 961.51 1484.77 L961.51 1480.07 Q963.593 1481.2 965.815 1481.76 Q968.038 1482.32 970.515 1482.32 Q974.519 1482.32 976.857 1480.21 Q979.195 1478.1 979.195 1474.49 Q979.195 1470.88 976.857 1468.77 Q974.519 1466.67 970.515 1466.67 Q968.64 1466.67 966.765 1467.08 Q964.913 1467.5 962.968 1468.38 L962.968 1451.02 Z\" fill=\"#000000\" fill-rule=\"evenodd\" fill-opacity=\"1\" /><path clip-path=\"url(#clip520)\" d=\"M993.084 1479.7 L997.968 1479.7 L997.968 1485.58 L993.084 1485.58 L993.084 1479.7 Z\" fill=\"#000000\" fill-rule=\"evenodd\" fill-opacity=\"1\" /><path clip-path=\"url(#clip520)\" d=\"M1018.15 1454.1 Q1014.54 1454.1 1012.71 1457.66 Q1010.91 1461.2 1010.91 1468.33 Q1010.91 1475.44 1012.71 1479.01 Q1014.54 1482.55 1018.15 1482.55 Q1021.79 1482.55 1023.59 1479.01 Q1025.42 1475.44 1025.42 1468.33 Q1025.42 1461.2 1023.59 1457.66 Q1021.79 1454.1 1018.15 1454.1 M1018.15 1450.39 Q1023.96 1450.39 1027.02 1455 Q1030.1 1459.58 1030.1 1468.33 Q1030.1 1477.06 1027.02 1481.67 Q1023.96 1486.25 1018.15 1486.25 Q1012.34 1486.25 1009.26 1481.67 Q1006.21 1477.06 1006.21 1468.33 Q1006.21 1459.58 1009.26 1455 Q1012.34 1450.39 1018.15 1450.39 Z\" fill=\"#000000\" fill-rule=\"evenodd\" fill-opacity=\"1\" /><path clip-path=\"url(#clip520)\" d=\"M1324.23 1451.02 L1346.45 1451.02 L1346.45 1453.01 L1333.9 1485.58 L1329.02 1485.58 L1340.83 1454.96 L1324.23 1454.96 L1324.23 1451.02 Z\" fill=\"#000000\" fill-rule=\"evenodd\" fill-opacity=\"1\" /><path clip-path=\"url(#clip520)\" d=\"M1355.57 1479.7 L1360.46 1479.7 L1360.46 1485.58 L1355.57 1485.58 L1355.57 1479.7 Z\" fill=\"#000000\" fill-rule=\"evenodd\" fill-opacity=\"1\" /><path clip-path=\"url(#clip520)\" d=\"M1370.69 1451.02 L1389.04 1451.02 L1389.04 1454.96 L1374.97 1454.96 L1374.97 1463.43 Q1375.99 1463.08 1377.01 1462.92 Q1378.02 1462.73 1379.04 1462.73 Q1384.83 1462.73 1388.21 1465.9 Q1391.59 1469.08 1391.59 1474.49 Q1391.59 1480.07 1388.12 1483.17 Q1384.64 1486.25 1378.33 1486.25 Q1376.15 1486.25 1373.88 1485.88 Q1371.64 1485.51 1369.23 1484.77 L1369.23 1480.07 Q1371.31 1481.2 1373.53 1481.76 Q1375.76 1482.32 1378.23 1482.32 Q1382.24 1482.32 1384.58 1480.21 Q1386.91 1478.1 1386.91 1474.49 Q1386.91 1470.88 1384.58 1468.77 Q1382.24 1466.67 1378.23 1466.67 Q1376.36 1466.67 1374.48 1467.08 Q1372.63 1467.5 1370.69 1468.38 L1370.69 1451.02 Z\" fill=\"#000000\" fill-rule=\"evenodd\" fill-opacity=\"1\" /><path clip-path=\"url(#clip520)\" d=\"M1672.09 1481.64 L1679.72 1481.64 L1679.72 1455.28 L1671.41 1456.95 L1671.41 1452.69 L1679.68 1451.02 L1684.35 1451.02 L1684.35 1481.64 L1691.99 1481.64 L1691.99 1485.58 L1672.09 1485.58 L1672.09 1481.64 Z\" fill=\"#000000\" fill-rule=\"evenodd\" fill-opacity=\"1\" /><path clip-path=\"url(#clip520)\" d=\"M1711.44 1454.1 Q1707.83 1454.1 1706 1457.66 Q1704.19 1461.2 1704.19 1468.33 Q1704.19 1475.44 1706 1479.01 Q1707.83 1482.55 1711.44 1482.55 Q1715.07 1482.55 1716.88 1479.01 Q1718.71 1475.44 1718.71 1468.33 Q1718.71 1461.2 1716.88 1457.66 Q1715.07 1454.1 1711.44 1454.1 M1711.44 1450.39 Q1717.25 1450.39 1720.3 1455 Q1723.38 1459.58 1723.38 1468.33 Q1723.38 1477.06 1720.3 1481.67 Q1717.25 1486.25 1711.44 1486.25 Q1705.63 1486.25 1702.55 1481.67 Q1699.49 1477.06 1699.49 1468.33 Q1699.49 1459.58 1702.55 1455 Q1705.63 1450.39 1711.44 1450.39 Z\" fill=\"#000000\" fill-rule=\"evenodd\" fill-opacity=\"1\" /><path clip-path=\"url(#clip520)\" d=\"M1731.6 1479.7 L1736.48 1479.7 L1736.48 1485.58 L1731.6 1485.58 L1731.6 1479.7 Z\" fill=\"#000000\" fill-rule=\"evenodd\" fill-opacity=\"1\" /><path clip-path=\"url(#clip520)\" d=\"M1756.67 1454.1 Q1753.06 1454.1 1751.23 1457.66 Q1749.42 1461.2 1749.42 1468.33 Q1749.42 1475.44 1751.23 1479.01 Q1753.06 1482.55 1756.67 1482.55 Q1760.3 1482.55 1762.11 1479.01 Q1763.94 1475.44 1763.94 1468.33 Q1763.94 1461.2 1762.11 1457.66 Q1760.3 1454.1 1756.67 1454.1 M1756.67 1450.39 Q1762.48 1450.39 1765.53 1455 Q1768.61 1459.58 1768.61 1468.33 Q1768.61 1477.06 1765.53 1481.67 Q1762.48 1486.25 1756.67 1486.25 Q1750.86 1486.25 1747.78 1481.67 Q1744.72 1477.06 1744.72 1468.33 Q1744.72 1459.58 1747.78 1455 Q1750.86 1450.39 1756.67 1450.39 Z\" fill=\"#000000\" fill-rule=\"evenodd\" fill-opacity=\"1\" /><path clip-path=\"url(#clip520)\" d=\"M2034.69 1481.64 L2042.33 1481.64 L2042.33 1455.28 L2034.02 1456.95 L2034.02 1452.69 L2042.28 1451.02 L2046.96 1451.02 L2046.96 1481.64 L2054.6 1481.64 L2054.6 1485.58 L2034.69 1485.58 L2034.69 1481.64 Z\" fill=\"#000000\" fill-rule=\"evenodd\" fill-opacity=\"1\" /><path clip-path=\"url(#clip520)\" d=\"M2068.07 1481.64 L2084.39 1481.64 L2084.39 1485.58 L2062.44 1485.58 L2062.44 1481.64 Q2065.1 1478.89 2069.69 1474.26 Q2074.29 1469.61 2075.48 1468.27 Q2077.72 1465.74 2078.6 1464.01 Q2079.5 1462.25 2079.5 1460.56 Q2079.5 1457.8 2077.56 1456.07 Q2075.64 1454.33 2072.54 1454.33 Q2070.34 1454.33 2067.88 1455.09 Q2065.45 1455.86 2062.67 1457.41 L2062.67 1452.69 Q2065.5 1451.55 2067.95 1450.97 Q2070.41 1450.39 2072.44 1450.39 Q2077.81 1450.39 2081.01 1453.08 Q2084.2 1455.77 2084.2 1460.26 Q2084.2 1462.39 2083.39 1464.31 Q2082.6 1466.2 2080.5 1468.8 Q2079.92 1469.47 2076.82 1472.69 Q2073.72 1475.88 2068.07 1481.64 Z\" fill=\"#000000\" fill-rule=\"evenodd\" fill-opacity=\"1\" /><path clip-path=\"url(#clip520)\" d=\"M2094.2 1479.7 L2099.09 1479.7 L2099.09 1485.58 L2094.2 1485.58 L2094.2 1479.7 Z\" fill=\"#000000\" fill-rule=\"evenodd\" fill-opacity=\"1\" /><path clip-path=\"url(#clip520)\" d=\"M2109.32 1451.02 L2127.67 1451.02 L2127.67 1454.96 L2113.6 1454.96 L2113.6 1463.43 Q2114.62 1463.08 2115.64 1462.92 Q2116.66 1462.73 2117.67 1462.73 Q2123.46 1462.73 2126.84 1465.9 Q2130.22 1469.08 2130.22 1474.49 Q2130.22 1480.07 2126.75 1483.17 Q2123.28 1486.25 2116.96 1486.25 Q2114.78 1486.25 2112.51 1485.88 Q2110.27 1485.51 2107.86 1484.77 L2107.86 1480.07 Q2109.94 1481.2 2112.16 1481.76 Q2114.39 1482.32 2116.86 1482.32 Q2120.87 1482.32 2123.21 1480.21 Q2125.54 1478.1 2125.54 1474.49 Q2125.54 1470.88 2123.21 1468.77 Q2120.87 1466.67 2116.86 1466.67 Q2114.99 1466.67 2113.11 1467.08 Q2111.26 1467.5 2109.32 1468.38 L2109.32 1451.02 Z\" fill=\"#000000\" fill-rule=\"evenodd\" fill-opacity=\"1\" /><path clip-path=\"url(#clip520)\" d=\"M1169.32 1522.27 L1169.32 1532.4 L1181.38 1532.4 L1181.38 1536.95 L1169.32 1536.95 L1169.32 1556.3 Q1169.32 1560.66 1170.5 1561.9 Q1171.71 1563.14 1175.37 1563.14 L1181.38 1563.14 L1181.38 1568.04 L1175.37 1568.04 Q1168.59 1568.04 1166.01 1565.53 Q1163.43 1562.98 1163.43 1556.3 L1163.43 1536.95 L1159.14 1536.95 L1159.14 1532.4 L1163.43 1532.4 L1163.43 1522.27 L1169.32 1522.27 Z\" fill=\"#000000\" fill-rule=\"evenodd\" fill-opacity=\"1\" /><path clip-path=\"url(#clip520)\" d=\"M1189.09 1532.4 L1194.94 1532.4 L1194.94 1568.04 L1189.09 1568.04 L1189.09 1532.4 M1189.09 1518.52 L1194.94 1518.52 L1194.94 1525.93 L1189.09 1525.93 L1189.09 1518.52 Z\" fill=\"#000000\" fill-rule=\"evenodd\" fill-opacity=\"1\" /><path clip-path=\"url(#clip520)\" d=\"M1234.95 1539.24 Q1237.15 1535.29 1240.2 1533.41 Q1243.26 1531.54 1247.4 1531.54 Q1252.97 1531.54 1255.99 1535.45 Q1259.01 1539.33 1259.01 1546.53 L1259.01 1568.04 L1253.13 1568.04 L1253.13 1546.72 Q1253.13 1541.59 1251.31 1539.11 Q1249.5 1536.63 1245.77 1536.63 Q1241.22 1536.63 1238.58 1539.65 Q1235.94 1542.68 1235.94 1547.9 L1235.94 1568.04 L1230.05 1568.04 L1230.05 1546.72 Q1230.05 1541.56 1228.24 1539.11 Q1226.42 1536.63 1222.63 1536.63 Q1218.15 1536.63 1215.5 1539.68 Q1212.86 1542.71 1212.86 1547.9 L1212.86 1568.04 L1206.97 1568.04 L1206.97 1532.4 L1212.86 1532.4 L1212.86 1537.93 Q1214.87 1534.66 1217.67 1533.1 Q1220.47 1531.54 1224.32 1531.54 Q1228.2 1531.54 1230.91 1533.51 Q1233.65 1535.48 1234.95 1539.24 Z\" fill=\"#000000\" fill-rule=\"evenodd\" fill-opacity=\"1\" /><path clip-path=\"url(#clip520)\" d=\"M1301.19 1548.76 L1301.19 1551.62 L1274.26 1551.62 Q1274.64 1557.67 1277.89 1560.85 Q1281.17 1564 1286.99 1564 Q1290.36 1564 1293.52 1563.17 Q1296.7 1562.35 1299.82 1560.69 L1299.82 1566.23 Q1296.67 1567.57 1293.36 1568.27 Q1290.05 1568.97 1286.64 1568.97 Q1278.11 1568.97 1273.11 1564 Q1268.15 1559.04 1268.15 1550.57 Q1268.15 1541.82 1272.86 1536.69 Q1277.6 1531.54 1285.62 1531.54 Q1292.82 1531.54 1296.99 1536.18 Q1301.19 1540.8 1301.19 1548.76 M1295.33 1547.04 Q1295.27 1542.23 1292.62 1539.37 Q1290.01 1536.5 1285.69 1536.5 Q1280.78 1536.5 1277.82 1539.27 Q1274.9 1542.04 1274.45 1547.07 L1295.33 1547.04 Z\" fill=\"#000000\" fill-rule=\"evenodd\" fill-opacity=\"1\" /><path clip-path=\"url(#clip520)\" d=\"M1345.59 1518.58 Q1341.32 1525.9 1339.25 1533.06 Q1337.18 1540.23 1337.18 1547.58 Q1337.18 1554.93 1339.25 1562.16 Q1341.35 1569.35 1345.59 1576.64 L1340.49 1576.64 Q1335.72 1569.16 1333.33 1561.93 Q1330.98 1554.71 1330.98 1547.58 Q1330.98 1540.48 1333.33 1533.29 Q1335.69 1526.09 1340.49 1518.58 L1345.59 1518.58 Z\" fill=\"#000000\" fill-rule=\"evenodd\" fill-opacity=\"1\" /><path clip-path=\"url(#clip520)\" d=\"M1379.68 1533.45 L1379.68 1538.98 Q1377.19 1537.71 1374.52 1537.07 Q1371.85 1536.44 1368.98 1536.44 Q1364.62 1536.44 1362.42 1537.77 Q1360.26 1539.11 1360.26 1541.79 Q1360.26 1543.82 1361.82 1545 Q1363.38 1546.15 1368.09 1547.2 L1370.1 1547.64 Q1376.33 1548.98 1378.94 1551.43 Q1381.59 1553.85 1381.59 1558.21 Q1381.59 1563.17 1377.64 1566.07 Q1373.72 1568.97 1366.85 1568.97 Q1363.98 1568.97 1360.87 1568.39 Q1357.78 1567.85 1354.34 1566.74 L1354.34 1560.69 Q1357.59 1562.38 1360.74 1563.24 Q1363.89 1564.07 1366.98 1564.07 Q1371.11 1564.07 1373.34 1562.66 Q1375.57 1561.23 1375.57 1558.65 Q1375.57 1556.27 1373.95 1554.99 Q1372.36 1553.72 1366.91 1552.54 L1364.88 1552.07 Q1359.43 1550.92 1357.01 1548.56 Q1354.59 1546.18 1354.59 1542.04 Q1354.59 1537.01 1358.16 1534.27 Q1361.72 1531.54 1368.28 1531.54 Q1371.53 1531.54 1374.39 1532.01 Q1377.26 1532.49 1379.68 1533.45 Z\" fill=\"#000000\" fill-rule=\"evenodd\" fill-opacity=\"1\" /><path clip-path=\"url(#clip520)\" d=\"M1389.99 1518.58 L1395.08 1518.58 Q1399.86 1526.09 1402.21 1533.29 Q1404.6 1540.48 1404.6 1547.58 Q1404.6 1554.71 1402.21 1561.93 Q1399.86 1569.16 1395.08 1576.64 L1389.99 1576.64 Q1394.22 1569.35 1396.29 1562.16 Q1398.39 1554.93 1398.39 1547.58 Q1398.39 1540.23 1396.29 1533.06 Q1394.22 1525.9 1389.99 1518.58 Z\" fill=\"#000000\" fill-rule=\"evenodd\" fill-opacity=\"1\" /><polyline clip-path=\"url(#clip522)\" style=\"stroke:#000000; stroke-linecap:round; stroke-linejoin:round; stroke-width:2; stroke-opacity:0.1; fill:none\" points=\"210.977,1224.21 2352.76,1224.21 \"/>\n",
       "<polyline clip-path=\"url(#clip522)\" style=\"stroke:#000000; stroke-linecap:round; stroke-linejoin:round; stroke-width:2; stroke-opacity:0.1; fill:none\" points=\"210.977,1010.4 2352.76,1010.4 \"/>\n",
       "<polyline clip-path=\"url(#clip522)\" style=\"stroke:#000000; stroke-linecap:round; stroke-linejoin:round; stroke-width:2; stroke-opacity:0.1; fill:none\" points=\"210.977,796.586 2352.76,796.586 \"/>\n",
       "<polyline clip-path=\"url(#clip522)\" style=\"stroke:#000000; stroke-linecap:round; stroke-linejoin:round; stroke-width:2; stroke-opacity:0.1; fill:none\" points=\"210.977,582.772 2352.76,582.772 \"/>\n",
       "<polyline clip-path=\"url(#clip522)\" style=\"stroke:#000000; stroke-linecap:round; stroke-linejoin:round; stroke-width:2; stroke-opacity:0.1; fill:none\" points=\"210.977,368.959 2352.76,368.959 \"/>\n",
       "<polyline clip-path=\"url(#clip522)\" style=\"stroke:#000000; stroke-linecap:round; stroke-linejoin:round; stroke-width:2; stroke-opacity:0.1; fill:none\" points=\"210.977,155.145 2352.76,155.145 \"/>\n",
       "<polyline clip-path=\"url(#clip520)\" style=\"stroke:#000000; stroke-linecap:round; stroke-linejoin:round; stroke-width:4; stroke-opacity:1; fill:none\" points=\"210.977,1423.18 210.977,123.472 \"/>\n",
       "<polyline clip-path=\"url(#clip520)\" style=\"stroke:#000000; stroke-linecap:round; stroke-linejoin:round; stroke-width:4; stroke-opacity:1; fill:none\" points=\"210.977,1224.21 229.875,1224.21 \"/>\n",
       "<polyline clip-path=\"url(#clip520)\" style=\"stroke:#000000; stroke-linecap:round; stroke-linejoin:round; stroke-width:4; stroke-opacity:1; fill:none\" points=\"210.977,1010.4 229.875,1010.4 \"/>\n",
       "<polyline clip-path=\"url(#clip520)\" style=\"stroke:#000000; stroke-linecap:round; stroke-linejoin:round; stroke-width:4; stroke-opacity:1; fill:none\" points=\"210.977,796.586 229.875,796.586 \"/>\n",
       "<polyline clip-path=\"url(#clip520)\" style=\"stroke:#000000; stroke-linecap:round; stroke-linejoin:round; stroke-width:4; stroke-opacity:1; fill:none\" points=\"210.977,582.772 229.875,582.772 \"/>\n",
       "<polyline clip-path=\"url(#clip520)\" style=\"stroke:#000000; stroke-linecap:round; stroke-linejoin:round; stroke-width:4; stroke-opacity:1; fill:none\" points=\"210.977,368.959 229.875,368.959 \"/>\n",
       "<polyline clip-path=\"url(#clip520)\" style=\"stroke:#000000; stroke-linecap:round; stroke-linejoin:round; stroke-width:4; stroke-opacity:1; fill:none\" points=\"210.977,155.145 229.875,155.145 \"/>\n",
       "<path clip-path=\"url(#clip520)\" d=\"M114.26 1224.66 L143.936 1224.66 L143.936 1228.6 L114.26 1228.6 L114.26 1224.66 Z\" fill=\"#000000\" fill-rule=\"evenodd\" fill-opacity=\"1\" /><path clip-path=\"url(#clip520)\" d=\"M154.075 1206.93 L172.431 1206.93 L172.431 1210.87 L158.357 1210.87 L158.357 1219.34 Q159.376 1218.99 160.394 1218.83 Q161.413 1218.65 162.431 1218.65 Q168.218 1218.65 171.598 1221.82 Q174.977 1224.99 174.977 1230.41 Q174.977 1235.98 171.505 1239.09 Q168.033 1242.16 161.714 1242.16 Q159.538 1242.16 157.269 1241.79 Q155.024 1241.42 152.616 1240.68 L152.616 1235.98 Q154.7 1237.12 156.922 1237.67 Q159.144 1238.23 161.621 1238.23 Q165.626 1238.23 167.964 1236.12 Q170.302 1234.02 170.302 1230.41 Q170.302 1226.79 167.964 1224.69 Q165.626 1222.58 161.621 1222.58 Q159.746 1222.58 157.871 1223 Q156.019 1223.41 154.075 1224.29 L154.075 1206.93 Z\" fill=\"#000000\" fill-rule=\"evenodd\" fill-opacity=\"1\" /><path clip-path=\"url(#clip520)\" d=\"M163.033 996.198 Q159.422 996.198 157.593 999.763 Q155.788 1003.3 155.788 1010.43 Q155.788 1017.54 157.593 1021.11 Q159.422 1024.65 163.033 1024.65 Q166.667 1024.65 168.473 1021.11 Q170.302 1017.54 170.302 1010.43 Q170.302 1003.3 168.473 999.763 Q166.667 996.198 163.033 996.198 M163.033 992.494 Q168.843 992.494 171.899 997.101 Q174.977 1001.68 174.977 1010.43 Q174.977 1019.16 171.899 1023.77 Q168.843 1028.35 163.033 1028.35 Q157.223 1028.35 154.144 1023.77 Q151.089 1019.16 151.089 1010.43 Q151.089 1001.68 154.144 997.101 Q157.223 992.494 163.033 992.494 Z\" fill=\"#000000\" fill-rule=\"evenodd\" fill-opacity=\"1\" /><path clip-path=\"url(#clip520)\" d=\"M154.075 779.306 L172.431 779.306 L172.431 783.241 L158.357 783.241 L158.357 791.713 Q159.376 791.366 160.394 791.204 Q161.413 791.019 162.431 791.019 Q168.218 791.019 171.598 794.19 Q174.977 797.361 174.977 802.778 Q174.977 808.357 171.505 811.458 Q168.033 814.537 161.714 814.537 Q159.538 814.537 157.269 814.167 Q155.024 813.796 152.616 813.056 L152.616 808.357 Q154.7 809.491 156.922 810.046 Q159.144 810.602 161.621 810.602 Q165.626 810.602 167.964 808.496 Q170.302 806.389 170.302 802.778 Q170.302 799.167 167.964 797.06 Q165.626 794.954 161.621 794.954 Q159.746 794.954 157.871 795.371 Q156.019 795.787 154.075 796.667 L154.075 779.306 Z\" fill=\"#000000\" fill-rule=\"evenodd\" fill-opacity=\"1\" /><path clip-path=\"url(#clip520)\" d=\"M123.681 596.117 L131.32 596.117 L131.32 569.751 L123.01 571.418 L123.01 567.159 L131.274 565.492 L135.95 565.492 L135.95 596.117 L143.589 596.117 L143.589 600.052 L123.681 600.052 L123.681 596.117 Z\" fill=\"#000000\" fill-rule=\"evenodd\" fill-opacity=\"1\" /><path clip-path=\"url(#clip520)\" d=\"M163.033 568.571 Q159.422 568.571 157.593 572.136 Q155.788 575.677 155.788 582.807 Q155.788 589.913 157.593 593.478 Q159.422 597.02 163.033 597.02 Q166.667 597.02 168.473 593.478 Q170.302 589.913 170.302 582.807 Q170.302 575.677 168.473 572.136 Q166.667 568.571 163.033 568.571 M163.033 564.867 Q168.843 564.867 171.899 569.474 Q174.977 574.057 174.977 582.807 Q174.977 591.534 171.899 596.14 Q168.843 600.724 163.033 600.724 Q157.223 600.724 154.144 596.14 Q151.089 591.534 151.089 582.807 Q151.089 574.057 154.144 569.474 Q157.223 564.867 163.033 564.867 Z\" fill=\"#000000\" fill-rule=\"evenodd\" fill-opacity=\"1\" /><path clip-path=\"url(#clip520)\" d=\"M124.677 382.303 L132.316 382.303 L132.316 355.938 L124.005 357.605 L124.005 353.345 L132.269 351.679 L136.945 351.679 L136.945 382.303 L144.584 382.303 L144.584 386.239 L124.677 386.239 L124.677 382.303 Z\" fill=\"#000000\" fill-rule=\"evenodd\" fill-opacity=\"1\" /><path clip-path=\"url(#clip520)\" d=\"M154.075 351.679 L172.431 351.679 L172.431 355.614 L158.357 355.614 L158.357 364.086 Q159.376 363.739 160.394 363.577 Q161.413 363.392 162.431 363.392 Q168.218 363.392 171.598 366.563 Q174.977 369.734 174.977 375.151 Q174.977 380.729 171.505 383.831 Q168.033 386.91 161.714 386.91 Q159.538 386.91 157.269 386.54 Q155.024 386.169 152.616 385.428 L152.616 380.729 Q154.7 381.864 156.922 382.419 Q159.144 382.975 161.621 382.975 Q165.626 382.975 167.964 380.868 Q170.302 378.762 170.302 375.151 Q170.302 371.54 167.964 369.433 Q165.626 367.327 161.621 367.327 Q159.746 367.327 157.871 367.743 Q156.019 368.16 154.075 369.04 L154.075 351.679 Z\" fill=\"#000000\" fill-rule=\"evenodd\" fill-opacity=\"1\" /><path clip-path=\"url(#clip520)\" d=\"M126.899 168.49 L143.218 168.49 L143.218 172.425 L121.274 172.425 L121.274 168.49 Q123.936 165.735 128.519 161.106 Q133.126 156.453 134.306 155.11 Q136.552 152.587 137.431 150.851 Q138.334 149.092 138.334 147.402 Q138.334 144.647 136.39 142.911 Q134.468 141.175 131.367 141.175 Q129.167 141.175 126.714 141.939 Q124.283 142.703 121.505 144.254 L121.505 139.532 Q124.33 138.397 126.783 137.819 Q129.237 137.24 131.274 137.24 Q136.644 137.24 139.839 139.925 Q143.033 142.61 143.033 147.101 Q143.033 149.231 142.223 151.152 Q141.436 153.05 139.329 155.643 Q138.751 156.314 135.649 159.532 Q132.547 162.726 126.899 168.49 Z\" fill=\"#000000\" fill-rule=\"evenodd\" fill-opacity=\"1\" /><path clip-path=\"url(#clip520)\" d=\"M163.033 140.944 Q159.422 140.944 157.593 144.508 Q155.788 148.05 155.788 155.18 Q155.788 162.286 157.593 165.851 Q159.422 169.393 163.033 169.393 Q166.667 169.393 168.473 165.851 Q170.302 162.286 170.302 155.18 Q170.302 148.05 168.473 144.508 Q166.667 140.944 163.033 140.944 M163.033 137.24 Q168.843 137.24 171.899 141.846 Q174.977 146.43 174.977 155.18 Q174.977 163.907 171.899 168.513 Q168.843 173.096 163.033 173.096 Q157.223 173.096 154.144 168.513 Q151.089 163.907 151.089 155.18 Q151.089 146.43 154.144 141.846 Q157.223 137.24 163.033 137.24 Z\" fill=\"#000000\" fill-rule=\"evenodd\" fill-opacity=\"1\" /><path clip-path=\"url(#clip520)\" d=\"M28.3562 756.711 L45.7028 769.602 L64.0042 756.043 L64.0042 762.95 L49.9996 773.326 L64.0042 783.702 L64.0042 790.609 L45.3526 776.763 L28.3562 789.431 L28.3562 782.524 L41.0558 773.071 L28.3562 763.618 L28.3562 756.711 Z\" fill=\"#000000\" fill-rule=\"evenodd\" fill-opacity=\"1\" /><path clip-path=\"url(#clip520)\" d=\"M1054.21 14.0809 L1054.21 22.0612 Q1049.55 19.8332 1045.42 18.7395 Q1041.28 17.6457 1037.44 17.6457 Q1030.75 17.6457 1027.11 20.2383 Q1023.5 22.8309 1023.5 27.611 Q1023.5 31.6214 1025.89 33.6873 Q1028.32 35.7128 1035.05 36.9686 L1039.99 37.9813 Q1049.14 39.7232 1053.48 44.1387 Q1057.85 48.5136 1057.85 55.8863 Q1057.85 64.6767 1051.94 69.2137 Q1046.06 73.7508 1034.68 73.7508 Q1030.39 73.7508 1025.53 72.7785 Q1020.7 71.8063 1015.52 69.9024 L1015.52 61.4765 Q1020.5 64.2716 1025.28 65.6895 Q1030.06 67.1073 1034.68 67.1073 Q1041.69 67.1073 1045.5 64.3527 Q1049.3 61.598 1049.3 56.4939 Q1049.3 52.0379 1046.55 49.5264 Q1043.84 47.0148 1037.6 45.759 L1032.61 44.7868 Q1023.46 42.9639 1019.37 39.075 Q1015.28 35.1862 1015.28 28.2591 Q1015.28 20.2383 1020.91 15.6203 Q1026.58 11.0023 1036.5 11.0023 Q1040.76 11.0023 1045.17 11.7719 Q1049.59 12.5416 1054.21 14.0809 Z\" fill=\"#000000\" fill-rule=\"evenodd\" fill-opacity=\"1\" /><path clip-path=\"url(#clip520)\" d=\"M1077.66 14.324 L1077.66 27.2059 L1093.01 27.2059 L1093.01 32.9987 L1077.66 32.9987 L1077.66 57.6282 Q1077.66 63.1779 1079.16 64.7578 Q1080.7 66.3376 1085.36 66.3376 L1093.01 66.3376 L1093.01 72.576 L1085.36 72.576 Q1076.73 72.576 1073.45 69.3758 Q1070.17 66.1351 1070.17 57.6282 L1070.17 32.9987 L1064.7 32.9987 L1064.7 27.2059 L1070.17 27.2059 L1070.17 14.324 L1077.66 14.324 Z\" fill=\"#000000\" fill-rule=\"evenodd\" fill-opacity=\"1\" /><path clip-path=\"url(#clip520)\" d=\"M1123.44 49.7694 Q1114.4 49.7694 1110.92 51.8354 Q1107.43 53.9013 1107.43 58.8839 Q1107.43 62.8538 1110.03 65.2034 Q1112.66 67.5124 1117.16 67.5124 Q1123.35 67.5124 1127.08 63.1374 Q1130.85 58.7219 1130.85 51.4303 L1130.85 49.7694 L1123.44 49.7694 M1138.3 46.6907 L1138.3 72.576 L1130.85 72.576 L1130.85 65.6895 Q1128.3 69.8214 1124.49 71.8063 Q1120.68 73.7508 1115.17 73.7508 Q1108.2 73.7508 1104.07 69.8619 Q1099.98 65.9325 1099.98 59.3701 Q1099.98 51.7138 1105.09 47.825 Q1110.23 43.9361 1120.4 43.9361 L1130.85 43.9361 L1130.85 43.2069 Q1130.85 38.0623 1127.45 35.2672 Q1124.08 32.4315 1117.97 32.4315 Q1114.08 32.4315 1110.39 33.3632 Q1106.71 34.295 1103.3 36.1584 L1103.3 29.2718 Q1107.39 27.692 1111.24 26.9223 Q1115.09 26.1121 1118.74 26.1121 Q1128.58 26.1121 1133.44 31.2163 Q1138.3 36.3204 1138.3 46.6907 Z\" fill=\"#000000\" fill-rule=\"evenodd\" fill-opacity=\"1\" /><path clip-path=\"url(#clip520)\" d=\"M1161.03 14.324 L1161.03 27.2059 L1176.38 27.2059 L1176.38 32.9987 L1161.03 32.9987 L1161.03 57.6282 Q1161.03 63.1779 1162.53 64.7578 Q1164.07 66.3376 1168.72 66.3376 L1176.38 66.3376 L1176.38 72.576 L1168.72 72.576 Q1160.1 72.576 1156.82 69.3758 Q1153.53 66.1351 1153.53 57.6282 L1153.53 32.9987 L1148.07 32.9987 L1148.07 27.2059 L1153.53 27.2059 L1153.53 14.324 L1161.03 14.324 Z\" fill=\"#000000\" fill-rule=\"evenodd\" fill-opacity=\"1\" /><path clip-path=\"url(#clip520)\" d=\"M1224.99 48.0275 L1224.99 51.6733 L1190.72 51.6733 Q1191.21 59.3701 1195.34 63.421 Q1199.51 67.4314 1206.92 67.4314 Q1211.22 67.4314 1215.23 66.3781 Q1219.28 65.3249 1223.25 63.2184 L1223.25 70.267 Q1219.24 71.9684 1215.03 72.8596 Q1210.81 73.7508 1206.48 73.7508 Q1195.62 73.7508 1189.26 67.4314 Q1182.94 61.1119 1182.94 50.3365 Q1182.94 39.1965 1188.94 32.6746 Q1194.97 26.1121 1205.18 26.1121 Q1214.34 26.1121 1219.64 32.0264 Q1224.99 37.9003 1224.99 48.0275 M1217.54 45.84 Q1217.46 39.7232 1214.1 36.0774 Q1210.77 32.4315 1205.26 32.4315 Q1199.03 32.4315 1195.26 35.9558 Q1191.53 39.4801 1190.96 45.8805 L1217.54 45.84 Z\" fill=\"#000000\" fill-rule=\"evenodd\" fill-opacity=\"1\" /><path clip-path=\"url(#clip520)\" d=\"M1263.92 12.096 L1272.1 12.096 L1272.1 36.8875 L1301.84 36.8875 L1301.84 12.096 L1310.02 12.096 L1310.02 72.576 L1301.84 72.576 L1301.84 43.7741 L1272.1 43.7741 L1272.1 72.576 L1263.92 72.576 L1263.92 12.096 Z\" fill=\"#000000\" fill-rule=\"evenodd\" fill-opacity=\"1\" /><path clip-path=\"url(#clip520)\" d=\"M1325.98 27.2059 L1333.43 27.2059 L1333.43 72.576 L1325.98 72.576 L1325.98 27.2059 M1325.98 9.54393 L1333.43 9.54393 L1333.43 18.9825 L1325.98 18.9825 L1325.98 9.54393 Z\" fill=\"#000000\" fill-rule=\"evenodd\" fill-opacity=\"1\" /><path clip-path=\"url(#clip520)\" d=\"M1377.95 28.5427 L1377.95 35.5912 Q1374.79 33.9709 1371.39 33.1607 Q1367.99 32.3505 1364.34 32.3505 Q1358.79 32.3505 1356 34.0519 Q1353.24 35.7533 1353.24 39.156 Q1353.24 41.7486 1355.23 43.2475 Q1357.21 44.7058 1363.21 46.0426 L1365.76 46.6097 Q1373.7 48.3111 1377.02 51.4303 Q1380.38 54.509 1380.38 60.0587 Q1380.38 66.3781 1375.36 70.0644 Q1370.38 73.7508 1361.63 73.7508 Q1357.98 73.7508 1354.01 73.0216 Q1350.08 72.3329 1345.71 70.9151 L1345.71 63.2184 Q1349.84 65.3654 1353.85 66.4591 Q1357.86 67.5124 1361.79 67.5124 Q1367.06 67.5124 1369.89 65.73 Q1372.73 63.9071 1372.73 60.6258 Q1372.73 57.5877 1370.66 55.9673 Q1368.64 54.3469 1361.71 52.8481 L1359.12 52.2405 Q1352.19 50.7821 1349.11 47.7845 Q1346.03 44.7463 1346.03 39.4801 Q1346.03 33.0797 1350.57 29.5959 Q1355.11 26.1121 1363.45 26.1121 Q1367.58 26.1121 1371.23 26.7198 Q1374.88 27.3274 1377.95 28.5427 Z\" fill=\"#000000\" fill-rule=\"evenodd\" fill-opacity=\"1\" /><path clip-path=\"url(#clip520)\" d=\"M1399.63 14.324 L1399.63 27.2059 L1414.98 27.2059 L1414.98 32.9987 L1399.63 32.9987 L1399.63 57.6282 Q1399.63 63.1779 1401.13 64.7578 Q1402.66 66.3376 1407.32 66.3376 L1414.98 66.3376 L1414.98 72.576 L1407.32 72.576 Q1398.69 72.576 1395.41 69.3758 Q1392.13 66.1351 1392.13 57.6282 L1392.13 32.9987 L1386.66 32.9987 L1386.66 27.2059 L1392.13 27.2059 L1392.13 14.324 L1399.63 14.324 Z\" fill=\"#000000\" fill-rule=\"evenodd\" fill-opacity=\"1\" /><path clip-path=\"url(#clip520)\" d=\"M1442.36 32.4315 Q1436.37 32.4315 1432.88 37.1306 Q1429.4 41.7891 1429.4 49.9314 Q1429.4 58.0738 1432.84 62.7728 Q1436.33 67.4314 1442.36 67.4314 Q1448.32 67.4314 1451.8 62.7323 Q1455.29 58.0333 1455.29 49.9314 Q1455.29 41.8701 1451.8 37.1711 Q1448.32 32.4315 1442.36 32.4315 M1442.36 26.1121 Q1452.09 26.1121 1457.64 32.4315 Q1463.19 38.7509 1463.19 49.9314 Q1463.19 61.0714 1457.64 67.4314 Q1452.09 73.7508 1442.36 73.7508 Q1432.6 73.7508 1427.05 67.4314 Q1421.54 61.0714 1421.54 49.9314 Q1421.54 38.7509 1427.05 32.4315 Q1432.6 26.1121 1442.36 26.1121 Z\" fill=\"#000000\" fill-rule=\"evenodd\" fill-opacity=\"1\" /><path clip-path=\"url(#clip520)\" d=\"M1501.83 34.1734 Q1500.57 33.4443 1499.08 33.1202 Q1497.62 32.7556 1495.84 32.7556 Q1489.52 32.7556 1486.11 36.8875 Q1482.75 40.9789 1482.75 48.6757 L1482.75 72.576 L1475.26 72.576 L1475.26 27.2059 L1482.75 27.2059 L1482.75 34.2544 Q1485.1 30.1225 1488.87 28.1376 Q1492.64 26.1121 1498.02 26.1121 Q1498.79 26.1121 1499.72 26.2337 Q1500.66 26.3147 1501.79 26.5172 L1501.83 34.1734 Z\" fill=\"#000000\" fill-rule=\"evenodd\" fill-opacity=\"1\" /><path clip-path=\"url(#clip520)\" d=\"M1528.53 76.7889 Q1525.37 84.8907 1522.37 87.3618 Q1519.37 89.8329 1514.35 89.8329 L1508.39 89.8329 L1508.39 83.5945 L1512.77 83.5945 Q1515.85 83.5945 1517.55 82.1361 Q1519.25 80.6778 1521.32 75.2496 L1522.65 71.8468 L1504.3 27.2059 L1512.2 27.2059 L1526.38 62.6918 L1540.56 27.2059 L1548.46 27.2059 L1528.53 76.7889 Z\" fill=\"#000000\" fill-rule=\"evenodd\" fill-opacity=\"1\" /><polyline clip-path=\"url(#clip522)\" style=\"stroke:#009af9; stroke-linecap:round; stroke-linejoin:round; stroke-width:4; stroke-opacity:1; fill:none\" points=\"271.594,836.806 278.836,823.909 286.078,826.347 293.32,831.513 300.562,838.08 307.804,845.336 315.046,848.323 322.288,853.579 329.531,865.534 336.773,871.332 344.015,886.806 351.257,903.452 358.499,901.339 365.741,893.537 372.983,893.889 380.225,897.363 387.467,901.353 394.709,914.168 401.952,918.922 409.194,920.371 416.436,930.693 423.678,942.444 430.92,943.428 438.162,942.876 445.404,950.404 452.646,955.824 459.888,960.036 467.13,963.634 474.373,967.566 481.615,967.101 488.857,970.294 496.099,971.857 503.341,974.293 510.583,976.031 517.825,980.569 525.067,981.943 532.309,984.413 539.551,985.89 546.794,989.496 554.036,991.229 561.278,994.779 568.52,996.402 575.762,998.657 583.004,1004.19 590.246,1005.01 597.488,1007.32 604.73,1010.46 611.972,1014.01 619.215,1016.42 626.457,1017.61 633.699,1019.72 640.941,1022.64 648.183,1026.95 655.425,1028.76 662.667,1029.82 669.909,1030.82 677.151,1032.78 684.393,1034.06 691.636,1036.14 698.878,1036.69 706.12,1037.01 713.362,1038.68 720.604,1040.52 727.846,1041.82 735.088,1040.82 742.33,1042.28 749.572,1042.04 756.814,1042.79 764.057,1043.93 771.299,1042.3 778.541,1041.71 785.783,1038 793.025,1037.35 800.267,1040.15 807.509,1041.73 814.751,1045.14 821.993,1048.39 829.235,1046.53 836.478,1041.88 843.72,1040.33 850.962,1035.89 858.204,1031.92 865.446,1028.72 872.688,1030.55 879.93,1029.37 887.172,1028.03 894.414,1027.31 901.656,1027.9 908.899,1029.74 916.141,1030.4 923.383,1030.75 930.625,1028.52 937.867,1026.84 945.109,1027.51 952.351,1024.5 959.593,1024.22 966.835,1023.5 974.077,1023.43 981.32,1022.69 988.562,1024.37 995.804,1024.08 1003.05,1021.4 1010.29,1021.14 1017.53,1020.83 1024.77,1024.59 1032.01,1025.01 1039.26,1024.68 1046.5,1026.32 1053.74,1021.19 1060.98,1024.45 1068.22,1019.93 1075.47,1017.03 1082.71,1013.59 1089.95,1010.87 1097.19,1006.34 1104.44,1007.91 1111.68,1008.64 1118.92,1009.94 1126.16,1008.75 1133.4,1006.34 1140.65,1000.65 1147.89,998.863 1155.13,1000.49 1162.37,995.257 1169.61,994.203 1176.86,999.03 1184.1,998.208 1191.34,996.999 1198.58,999.064 1205.82,1001.32 1213.07,999.608 1220.31,998.628 1227.55,998.019 1234.79,997.137 1242.04,1000.44 1249.28,1003.62 1256.52,1001.15 1263.76,997.899 1271,999.493 1278.25,999.023 1285.49,997.951 1292.73,997.947 1299.97,1004.74 1307.21,1001.01 1314.46,1001.39 1321.7,997.986 1328.94,999.347 1336.18,994.285 1343.42,993.899 1350.67,992.182 1357.91,993.557 1365.15,994.181 1372.39,994.032 1379.64,995.496 1386.88,996.446 1394.12,994.798 1401.36,996.214 1408.6,996.249 1415.85,998.585 1423.09,999.143 1430.33,998.922 1437.57,999.963 1444.81,998.522 1452.06,1002.4 1459.3,1004.79 1466.54,1002.89 1473.78,1003.5 1481.02,1003.73 1488.27,1009.15 1495.51,1010.48 1502.75,1012.08 1509.99,1009.69 1517.23,1005.93 1524.48,1001.45 1531.72,1003.27 1538.96,1001.26 1546.2,1002.37 1553.45,1004.81 1560.69,1009.38 1567.93,1012.83 1575.17,1011.39 1582.41,1010.42 1589.66,1006.4 1596.9,1004.35 1604.14,1005.21 1611.38,1005.59 1618.62,1001.59 1625.87,1005.17 1633.11,1003.73 1640.35,1002.85 1647.59,1002.81 1654.83,1008.95 1662.08,1008.81 1669.32,1002.53 1676.56,999.87 1683.8,998.852 1691.05,1000.62 1698.29,999.456 1705.53,997.654 1712.77,991.433 1720.01,990.057 1727.26,986.849 1734.5,984.676 1741.74,983.992 1748.98,984.511 1756.22,984.386 1763.47,984.997 1770.71,985.955 1777.95,984.742 1785.19,980.756 1792.43,979.229 1799.68,983.046 1806.92,979.007 1814.16,982.455 1821.4,980.598 1828.65,980.555 1835.89,981.307 1843.13,985.075 1850.37,977.844 1857.61,975.591 1864.86,980.285 1872.1,983.705 1879.34,983.566 1886.58,983.87 1893.82,984.831 1901.07,988.93 1908.31,989.429 1915.55,987.507 1922.79,985.608 1930.03,985.515 1937.28,986.382 1944.52,988.327 1951.76,993.625 1959,999.476 1966.25,999.299 1973.49,1005.03 1980.73,1007.71 1987.97,1005.76 1995.21,1001.47 2002.46,1006.87 2009.7,1005.48 2016.94,1002.72 2024.18,999.959 2031.42,996.011 2038.67,993.74 2045.91,997.302 2053.15,999.272 2060.39,999.607 2067.63,1002.45 2074.88,1002.47 2082.12,1002.32 2089.36,1002.77 2096.6,1004.65 2103.84,1007.36 2111.09,1008.67 2118.33,1013.71 2125.57,1018.71 2132.81,1021.01 2140.06,1019.3 2147.3,1024.26 2154.54,1019.38 2161.78,1017.78 2169.02,1017.53 2176.27,1018.94 2183.51,1013.87 2190.75,1012.34 2197.99,1008.2 2205.23,1008 2212.48,1009.61 2219.72,1005.83 2226.96,1001.12 2234.2,999.206 2241.44,1002.4 2248.69,1004.19 2255.93,1000.84 2263.17,1002.93 2270.41,1007.37 2277.66,1008.33 2284.9,1004.27 2292.14,1004.37 \"/>\n",
       "<polyline clip-path=\"url(#clip522)\" style=\"stroke:#e26f46; stroke-linecap:round; stroke-linejoin:round; stroke-width:4; stroke-opacity:1; fill:none\" points=\"271.594,921.604 278.836,936.479 286.078,936.929 293.32,939.495 300.562,925.45 307.804,938.689 315.046,940.591 322.288,935.222 329.531,924.231 336.773,924.318 344.015,925.646 351.257,921.399 358.499,927.739 365.741,931.348 372.983,930.649 380.225,926.461 387.467,929.473 394.709,938.378 401.952,940.349 409.194,945.289 416.436,950.494 423.678,961.748 430.92,957.637 438.162,948.935 445.404,951.852 452.646,951.434 459.888,952.389 467.13,952.71 474.373,948.222 481.615,945.559 488.857,943.364 496.099,937.622 503.341,935.62 510.583,930.873 517.825,929.346 525.067,932.526 532.309,931.279 539.551,930.625 546.794,929.737 554.036,930.983 561.278,929.791 568.52,929.838 575.762,930.162 583.004,929.78 590.246,931.433 597.488,931.836 604.73,931.89 611.972,931.236 619.215,931.55 626.457,933.03 633.699,933.444 640.941,933.639 648.183,935.209 655.425,936.487 662.667,936.058 669.909,936.763 677.151,936.583 684.393,938.576 691.636,939.687 698.878,940.375 706.12,941.257 713.362,943.046 720.604,942.247 727.846,945.631 735.088,947.214 742.33,948.073 749.572,947.326 756.814,947.361 764.057,947.957 771.299,950.18 778.541,950.358 785.783,949.949 793.025,952.113 800.267,952.49 807.509,952.484 814.751,954.909 821.993,955.142 829.235,954.865 836.478,959.244 843.72,963.124 850.962,961.782 858.204,960.322 865.446,956.923 872.688,958.533 879.93,958.13 887.172,960.658 894.414,963.004 901.656,968.266 908.899,966.997 916.141,968.879 923.383,972.421 930.625,973.9 937.867,974.01 945.109,978.209 952.351,977.291 959.593,981.754 966.835,982.799 974.077,984.431 981.32,988.026 988.562,988.508 995.804,987.246 1003.05,987.372 1010.29,989.664 1017.53,988.025 1024.77,986.575 1032.01,983.569 1039.26,981.734 1046.5,987.422 1053.74,989.171 1060.98,990.906 1068.22,991.412 1075.47,992.587 1082.71,990.327 1089.95,985.945 1097.19,984.106 1104.44,987.025 1111.68,991.687 1118.92,994.961 1126.16,1000.06 1133.4,999.59 1140.65,1002.15 1147.89,1004.09 1155.13,1006.24 1162.37,1005.63 1169.61,1009.85 1176.86,1011.94 1184.1,1015.36 1191.34,1015.37 1198.58,1016.67 1205.82,1017.15 1213.07,1016.72 1220.31,1016.73 1227.55,1015.38 1234.79,1014.08 1242.04,1010.29 1249.28,1009.79 1256.52,1009.05 1263.76,1010.2 1271,1011.76 1278.25,1006.61 1285.49,1006.45 1292.73,1007.5 1299.97,1009.5 1307.21,1009.12 1314.46,1009.03 1321.7,1012.14 1328.94,1010.88 1336.18,1007.62 1343.42,1005.65 1350.67,1009.24 1357.91,1014.22 1365.15,1017.29 1372.39,1017.92 1379.64,1016.93 1386.88,1012.98 1394.12,1009.1 1401.36,1009.37 1408.6,1011.95 1415.85,1011.78 1423.09,1010.45 1430.33,1012.28 1437.57,1014.46 1444.81,1017.42 1452.06,1017.22 1459.3,1017.9 1466.54,1021.57 1473.78,1020.93 1481.02,1020.62 1488.27,1016.67 1495.51,1016.46 1502.75,1017.31 1509.99,1014.62 1517.23,1013.35 1524.48,1010.61 1531.72,1008.73 1538.96,1006.35 1546.2,1003.25 1553.45,1001.88 1560.69,1002.48 1567.93,1002.82 1575.17,1005.01 1582.41,1005.67 1589.66,1006.64 1596.9,1004.35 1604.14,1005.26 1611.38,1002.99 1618.62,1002.46 1625.87,1007.66 1633.11,1006.84 1640.35,1005.99 1647.59,1006.94 1654.83,1010.45 1662.08,1008.36 1669.32,1008.57 1676.56,1012.21 1683.8,1017.38 1691.05,1021 1698.29,1020.49 1705.53,1020.02 1712.77,1019.11 1720.01,1020.1 1727.26,1019.09 1734.5,1017.36 1741.74,1021.6 1748.98,1021.49 1756.22,1021.08 1763.47,1019.56 1770.71,1020.3 1777.95,1019.63 1785.19,1021.95 1792.43,1021.93 1799.68,1020.52 1806.92,1018.41 1814.16,1018.84 1821.4,1017.63 1828.65,1015.78 1835.89,1009.81 1843.13,1007.55 1850.37,1012.22 1857.61,1011.92 1864.86,1008.08 1872.1,1007.66 1879.34,1004.68 1886.58,1003.71 1893.82,997.251 1901.07,999.036 1908.31,1000.28 1915.55,1003.18 1922.79,1008.31 1930.03,1006.67 1937.28,1009.24 1944.52,1006.53 1951.76,1006.34 1959,1007.35 1966.25,1003.9 1973.49,1002.38 1980.73,1000.84 1987.97,999.247 1995.21,994.91 2002.46,999.824 2009.7,1001.39 2016.94,1002.85 2024.18,1000.45 2031.42,996.308 2038.67,1001.11 2045.91,1000.62 2053.15,1000.25 2060.39,1004.5 2067.63,1003.46 2074.88,1004.91 2082.12,1004.88 2089.36,1004.5 2096.6,1004.92 2103.84,1005.24 2111.09,1006.52 2118.33,1000.6 2125.57,1000.28 2132.81,1000.42 2140.06,1001.28 2147.3,1004.91 2154.54,1001.88 2161.78,1001.14 2169.02,1002.66 2176.27,1006.99 2183.51,1001.5 2190.75,1005.26 2197.99,1008.52 2205.23,1009.81 2212.48,1010.16 2219.72,1008.92 2226.96,1014.11 2234.2,1009.83 2241.44,1010.08 2248.69,1012.33 2255.93,1010.92 2263.17,1012.95 2270.41,1017.71 2277.66,1017.93 2284.9,1013.58 2292.14,1013.63 \"/>\n",
       "<polyline clip-path=\"url(#clip522)\" style=\"stroke:#3da44d; stroke-linecap:round; stroke-linejoin:round; stroke-width:4; stroke-opacity:1; fill:none\" points=\"271.594,160.256 278.836,167.007 286.078,175.783 293.32,203.06 300.562,217.523 307.804,232.659 315.046,253.01 322.288,256.026 329.531,282.406 336.773,313.597 344.015,337.48 351.257,364.651 358.499,392.631 365.741,403.961 372.983,425.12 380.225,442.483 387.467,470.543 394.709,481.858 401.952,498.604 409.194,521.635 416.436,546.815 423.678,567.409 430.92,592.966 438.162,611.805 445.404,633.136 452.646,647.79 459.888,658.327 467.13,675.849 474.373,693.07 481.615,709.129 488.857,725.515 496.099,742.152 503.341,757.447 510.583,777.759 517.825,798.432 525.067,815.509 532.309,830.866 539.551,847.816 546.794,861.618 554.036,876.086 561.278,891.693 568.52,905.645 575.762,919.699 583.004,932.95 590.246,945.815 597.488,957.627 604.73,969.171 611.972,981.916 619.215,994.038 626.457,1003.89 633.699,1014.44 640.941,1025.33 648.183,1035.72 655.425,1047.81 662.667,1058.54 669.909,1068.87 677.151,1078 684.393,1088.68 691.636,1097.88 698.878,1107.16 706.12,1115.62 713.362,1122.99 720.604,1131.86 727.846,1140.01 735.088,1146.59 742.33,1153.52 749.572,1161.29 756.814,1166.54 764.057,1172.77 771.299,1179.09 778.541,1185.61 785.783,1191.21 793.025,1197.19 800.267,1201.65 807.509,1205.92 814.751,1207.2 821.993,1210.61 829.235,1213.04 836.478,1220.14 843.72,1220.01 850.962,1223.05 858.204,1229.36 865.446,1232.14 872.688,1234.49 879.93,1239.51 887.172,1241.25 894.414,1241.39 901.656,1245.41 908.899,1244.08 916.141,1246.45 923.383,1249.73 930.625,1247.67 937.867,1247.2 945.109,1249.48 952.351,1251.66 959.593,1254.72 966.835,1256.6 974.077,1261.64 981.32,1261.16 988.562,1263.69 995.804,1261.77 1003.05,1261.88 1010.29,1262.84 1017.53,1260.44 1024.77,1258.36 1032.01,1259.76 1039.26,1262.84 1046.5,1263.54 1053.74,1270.31 1060.98,1274.43 1068.22,1273 1075.47,1272.75 1082.71,1271.26 1089.95,1271.52 1097.19,1271.46 1104.44,1272.33 1111.68,1273.03 1118.92,1270.95 1126.16,1275.48 1133.4,1273.63 1140.65,1268.47 1147.89,1267.25 1155.13,1266.05 1162.37,1266.65 1169.61,1268.02 1176.86,1267.54 1184.1,1265.81 1191.34,1265.08 1198.58,1266.08 1205.82,1264.16 1213.07,1262.78 1220.31,1260.17 1227.55,1259.09 1234.79,1259.95 1242.04,1263.81 1249.28,1265.67 1256.52,1267.72 1263.76,1265.67 1271,1266.4 1278.25,1264.45 1285.49,1265.33 1292.73,1265.13 1299.97,1259.8 1307.21,1257.34 1314.46,1256.34 1321.7,1257.03 1328.94,1261.35 1336.18,1261.18 1343.42,1258.36 1350.67,1259.04 1357.91,1261.35 1365.15,1257.73 1372.39,1257.87 1379.64,1260.28 1386.88,1260.56 1394.12,1258.58 1401.36,1259.54 1408.6,1258.37 1415.85,1255.49 1423.09,1259.32 1430.33,1262.11 1437.57,1263.66 1444.81,1260.47 1452.06,1260.66 1459.3,1262.19 1466.54,1261.32 1473.78,1262.25 1481.02,1261.57 1488.27,1260.22 1495.51,1264.36 1502.75,1272.21 1509.99,1271.74 1517.23,1272.24 1524.48,1269.81 1531.72,1269.66 1538.96,1267.95 1546.2,1272.53 1553.45,1273.08 1560.69,1272.49 1567.93,1273.64 1575.17,1273.38 1582.41,1273.88 1589.66,1273.61 1596.9,1270.38 1604.14,1268.6 1611.38,1272.28 1618.62,1278.36 1625.87,1277.03 1633.11,1272.91 1640.35,1269.55 1647.59,1267.82 1654.83,1264.09 1662.08,1264.01 1669.32,1264.67 1676.56,1269.92 1683.8,1269.3 1691.05,1271.46 1698.29,1273.74 1705.53,1277.25 1712.77,1273.8 1720.01,1274.66 1727.26,1273.86 1734.5,1268.07 1741.74,1262.54 1748.98,1261.06 1756.22,1262.56 1763.47,1260.89 1770.71,1259.02 1777.95,1259.54 1785.19,1260.34 1792.43,1262.69 1799.68,1268.57 1806.92,1273.34 1814.16,1274.96 1821.4,1281.07 1828.65,1278.24 1835.89,1276.72 1843.13,1274.06 1850.37,1276.77 1857.61,1272.69 1864.86,1272.28 1872.1,1272.5 1879.34,1272.89 1886.58,1274.69 1893.82,1272.06 1901.07,1270.2 1908.31,1267.45 1915.55,1270.03 1922.79,1269.77 1930.03,1274.54 1937.28,1275.55 1944.52,1271.01 1951.76,1270.79 1959,1268.09 1966.25,1268.28 1973.49,1273.31 1980.73,1276.02 1987.97,1278.9 1995.21,1278.03 2002.46,1280.45 2009.7,1286.5 2016.94,1282.82 2024.18,1286.02 2031.42,1287.85 2038.67,1283.73 2045.91,1279.29 2053.15,1278.33 2060.39,1280 2067.63,1279.49 2074.88,1276.23 2082.12,1275.04 2089.36,1272.87 2096.6,1270.38 2103.84,1270.75 2111.09,1273.86 2118.33,1270.91 2125.57,1272.22 2132.81,1272.21 2140.06,1274.76 2147.3,1277.96 2154.54,1275.71 2161.78,1281.71 2169.02,1283.77 2176.27,1286.05 2183.51,1289.03 2190.75,1286.56 2197.99,1288.94 2205.23,1287.25 2212.48,1289.52 2219.72,1292.74 2226.96,1297.2 2234.2,1299.55 2241.44,1297.26 2248.69,1296.84 2255.93,1294.54 2263.17,1294.8 2270.41,1292.27 2277.66,1293.7 2284.9,1292.24 2292.14,1291.82 \"/>\n",
       "<polyline clip-path=\"url(#clip522)\" style=\"stroke:#c271d2; stroke-linecap:round; stroke-linejoin:round; stroke-width:4; stroke-opacity:1; fill:none\" stroke-dasharray=\"16, 10\" points=\"271.594,1138.69 278.836,1136.39 286.078,1134.49 293.32,1132.63 300.562,1130.76 307.804,1128.85 315.046,1126.91 322.288,1125 329.531,1123.08 336.773,1121.05 344.015,1119.01 351.257,1116.81 358.499,1114.43 365.741,1112.2 372.983,1110.21 380.225,1108.3 387.467,1106.42 394.709,1104.57 401.952,1102.61 409.194,1100.66 416.436,1098.8 423.678,1096.88 430.92,1094.88 438.162,1092.95 445.404,1091.11 452.646,1089.23 459.888,1087.35 467.13,1085.48 474.373,1083.63 481.615,1081.78 488.857,1080.02 496.099,1078.27 503.341,1076.57 510.583,1074.73 517.825,1072.94 525.067,1071.15 532.309,1069.43 539.551,1067.74 546.794,1066.1 554.036,1064.47 561.278,1062.89 568.52,1061.31 575.762,1059.78 583.004,1058.28 590.246,1056.82 597.488,1055.35 604.73,1053.9 611.972,1052.47 619.215,1051.04 626.457,1049.68 633.699,1048.31 640.941,1046.97 648.183,1045.7 655.425,1044.35 662.667,1043.04 669.909,1041.76 677.151,1040.6 684.393,1039.38 691.636,1038.21 698.878,1037.11 706.12,1036 713.362,1034.93 720.604,1033.9 727.846,1032.92 735.088,1031.93 742.33,1031 749.572,1030.1 756.814,1029.24 764.057,1027.12 771.299,1025.09 778.541,1023.24 785.783,1021.52 793.025,1020.02 800.267,1018.63 807.509,1017.24 814.751,1015.89 821.993,1014.52 829.235,1013.14 836.478,1011.89 843.72,1010.87 850.962,1009.95 858.204,1009.22 865.446,1008.65 872.688,1008.21 879.93,1007.75 887.172,1007.35 894.414,1007.01 901.656,1006.71 908.899,1006.42 916.141,1006.09 923.383,1005.75 930.625,1005.43 937.867,1005.2 945.109,1005.03 952.351,1004.85 959.593,1004.77 966.835,1004.7 974.077,1004.66 981.32,1004.63 988.562,1004.62 995.804,1004.55 1003.05,1004.51 1010.29,1004.54 1017.53,1004.58 1024.77,1004.63 1032.01,1004.56 1039.26,1004.48 1046.5,1004.42 1053.74,1004.31 1060.98,1004.37 1068.22,1004.32 1075.47,1004.41 1082.71,1004.58 1089.95,1004.84 1097.19,1005.17 1104.44,1005.61 1111.68,1005.97 1118.92,1006.3 1126.16,1006.56 1133.4,1006.85 1140.65,1007.19 1147.89,1007.67 1155.13,1008.18 1162.37,1008.61 1169.61,1009.18 1176.86,1009.73 1184.1,1010.11 1191.34,1010.49 1198.58,1010.88 1205.82,1011.19 1213.07,1011.41 1220.31,1011.67 1227.55,1011.94 1234.79,1012.22 1242.04,1012.5 1249.28,1012.67 1256.52,1012.73 1263.76,1012.86 1271,1013.09 1278.25,1013.24 1285.49,1013.41 1292.73,1013.6 1299.97,1013.77 1307.21,1013.73 1314.46,1013.81 1321.7,1013.87 1328.94,1014.02 1336.18,1014.13 1343.42,1014.38 1350.67,1014.63 1357.91,1014.91 1365.15,1015.14 1372.39,1015.33 1379.64,1015.51 1386.88,1015.64 1394.12,1015.74 1401.36,1015.88 1408.6,1015.97 1415.85,1016.05 1423.09,1016.05 1430.33,1016.04 1437.57,1016.04 1444.81,1016 1452.06,1016.01 1459.3,1015.91 1466.54,1015.74 1473.78,1015.63 1481.02,1015.52 1488.27,1015.4 1495.51,1015.13 1502.75,1014.84 1509.99,1014.52 1517.23,1014.29 1524.48,1014.18 1531.72,1014.22 1538.96,1014.2 1546.2,1014.24 1553.45,1014.24 1560.69,1014.17 1567.93,1013.97 1575.17,1013.68 1582.41,1013.45 1589.66,1013.26 1596.9,1013.21 1604.14,1013.21 1611.38,1013.19 1618.62,1013.17 1625.87,1013.26 1633.11,1013.24 1640.35,1013.26 1647.59,1013.31 1654.83,1013.36 1662.08,1013.22 1669.32,1013.1 1676.56,1013.17 1683.8,1013.31 1691.05,1013.48 1698.29,1013.58 1705.53,1013.71 1712.77,1013.89 1720.01,1014.24 1727.26,1014.61 1734.5,1015.05 1741.74,1015.53 1748.98,1016 1756.22,1016.43 1763.47,1016.83 1770.71,1017.2 1777.95,1017.51 1785.19,1017.84 1792.43,1018.26 1799.68,1018.71 1806.92,1019.01 1814.16,1019.42 1821.4,1019.7 1828.65,1020.02 1835.89,1020.31 1843.13,1020.57 1850.37,1020.7 1857.61,1021.04 1864.86,1021.43 1872.1,1021.65 1879.34,1021.75 1886.58,1021.86 1893.82,1021.94 1901.07,1022 1908.31,1021.93 1915.55,1021.85 1922.79,1021.83 1930.03,1021.86 1937.28,1021.9 1944.52,1021.91 1951.76,1021.86 1959,1021.66 1966.25,1021.29 1973.49,1020.96 1980.73,1020.47 1987.97,1019.93 1995.21,1019.49 2002.46,1019.2 2009.7,1018.76 2016.94,1018.4 2024.18,1018.13 2031.42,1017.97 2038.67,1017.93 2045.91,1017.97 2053.15,1017.9 2060.39,1017.77 2067.63,1017.64 2074.88,1017.43 2082.12,1017.24 2089.36,1017.06 2096.6,1016.88 2103.84,1016.65 2111.09,1016.36 2118.33,1016.04 2125.57,1015.6 2132.81,1015.03 2140.06,1014.43 2147.3,1013.92 2154.54,1013.29 2161.78,1012.85 2169.02,1012.48 2176.27,1012.14 2183.51,1011.78 2190.75,1011.59 2197.99,1011.46 2205.23,1011.46 2212.48,1011.47 2219.72,1011.43 2226.96,1011.5 2234.2,1011.71 2241.44,1011.96 2248.69,1012.1 2255.93,1012.18 2263.17,1012.36 2270.41,1012.46 2277.66,1012.43 2284.9,1012.36 2292.14,1012.42 \"/>\n",
       "<polyline clip-path=\"url(#clip522)\" style=\"stroke:#ac8d18; stroke-linecap:round; stroke-linejoin:round; stroke-width:4; stroke-opacity:1; fill:none\" stroke-dasharray=\"16, 10\" points=\"271.594,924.875 278.836,930.161 286.078,934.965 293.32,939.515 300.562,943.775 307.804,948.075 315.046,951.911 322.288,955.504 329.531,959.024 336.773,962.561 344.015,965.903 351.257,969.06 358.499,972.135 365.741,974.934 372.983,977.518 380.225,979.978 387.467,982.393 394.709,984.626 401.952,986.621 409.194,988.487 416.436,990.172 423.678,991.699 430.92,992.995 438.162,994.287 445.404,995.645 452.646,996.908 459.888,998.13 467.13,999.29 474.373,1000.4 481.615,1001.54 488.857,1002.66 496.099,1003.76 503.341,1004.9 510.583,1006.2 517.825,1007.51 525.067,1008.79 532.309,1009.96 539.551,1011.1 546.794,1012.19 554.036,1013.26 561.278,1014.25 568.52,1015.23 575.762,1016.17 583.004,1017.05 590.246,1017.87 597.488,1018.67 604.73,1019.43 611.972,1020.17 619.215,1020.89 626.457,1021.53 633.699,1022.17 640.941,1022.77 648.183,1023.32 655.425,1023.86 662.667,1024.37 669.909,1024.85 677.151,1025.27 684.393,1025.71 691.636,1026.1 698.878,1026.44 706.12,1026.78 713.362,1027.09 720.604,1027.36 727.846,1027.61 735.088,1027.83 742.33,1028.02 749.572,1028.19 756.814,1028.36 764.057,1029.13 771.299,1029.84 778.541,1030.44 785.783,1031 793.025,1031.54 800.267,1031.98 807.509,1032.38 814.751,1032.76 821.993,1033.04 829.235,1033.3 836.478,1033.54 843.72,1033.65 850.962,1033.63 858.204,1033.66 865.446,1033.72 872.688,1033.89 879.93,1033.99 887.172,1034.1 894.414,1034.13 901.656,1034.08 908.899,1033.89 916.141,1033.74 923.383,1033.55 930.625,1033.26 937.867,1032.94 945.109,1032.65 952.351,1032.24 959.593,1031.89 966.835,1031.43 974.077,1030.96 981.32,1030.47 988.562,1029.91 995.804,1029.37 1003.05,1028.89 1010.29,1028.44 1017.53,1027.96 1024.77,1027.54 1032.01,1027.2 1039.26,1026.97 1046.5,1026.81 1053.74,1026.48 1060.98,1026.13 1068.22,1025.75 1075.47,1025.37 1082.71,1024.98 1089.95,1024.69 1097.19,1024.54 1104.44,1024.45 1111.68,1024.29 1118.92,1023.99 1126.16,1023.62 1133.4,1023.12 1140.65,1022.66 1147.89,1022.16 1155.13,1021.62 1162.37,1021.06 1169.61,1020.55 1176.86,1019.94 1184.1,1019.31 1191.34,1018.62 1198.58,1017.97 1205.82,1017.32 1213.07,1016.69 1220.31,1016.12 1227.55,1015.58 1234.79,1015.12 1242.04,1014.72 1249.28,1014.46 1256.52,1014.23 1263.76,1014.03 1271,1013.81 1278.25,1013.57 1285.49,1013.48 1292.73,1013.41 1299.97,1013.32 1307.21,1013.16 1314.46,1013.03 1321.7,1012.91 1328.94,1012.71 1336.18,1012.55 1343.42,1012.5 1350.67,1012.51 1357.91,1012.42 1365.15,1012.18 1372.39,1011.87 1379.64,1011.55 1386.88,1011.29 1394.12,1011.16 1401.36,1011.15 1408.6,1011.13 1415.85,1011.04 1423.09,1010.97 1430.33,1010.93 1437.57,1010.84 1444.81,1010.69 1452.06,1010.47 1459.3,1010.26 1466.54,1010.05 1473.78,1009.73 1481.02,1009.46 1488.27,1009.21 1495.51,1009.1 1502.75,1009 1509.99,1008.88 1517.23,1008.85 1524.48,1008.85 1531.72,1008.94 1538.96,1009.08 1546.2,1009.28 1553.45,1009.56 1560.69,1009.87 1567.93,1010.13 1575.17,1010.38 1582.41,1010.54 1589.66,1010.67 1596.9,1010.76 1604.14,1010.92 1611.38,1011.05 1618.62,1011.23 1625.87,1011.41 1633.11,1011.43 1640.35,1011.48 1647.59,1011.54 1654.83,1011.57 1662.08,1011.5 1669.32,1011.49 1676.56,1011.48 1683.8,1011.36 1691.05,1011.09 1698.29,1010.73 1705.53,1010.41 1712.77,1010.13 1720.01,1009.88 1727.26,1009.63 1734.5,1009.42 1741.74,1009.27 1748.98,1009 1756.22,1008.76 1763.47,1008.54 1770.71,1008.38 1777.95,1008.21 1785.19,1008.07 1792.43,1007.87 1799.68,1007.68 1806.92,1007.55 1814.16,1007.48 1821.4,1007.41 1828.65,1007.38 1835.89,1007.4 1843.13,1007.61 1850.37,1007.86 1857.61,1007.96 1864.86,1008.07 1872.1,1008.28 1879.34,1008.49 1886.58,1008.78 1893.82,1009.08 1901.07,1009.55 1908.31,1009.94 1915.55,1010.27 1922.79,1010.49 1930.03,1010.55 1937.28,1010.65 1944.52,1010.67 1951.76,1010.77 1959,1010.87 1966.25,1010.93 1973.49,1011.09 1980.73,1011.29 1987.97,1011.52 1995.21,1011.78 2002.46,1012.15 2009.7,1012.36 2016.94,1012.51 2024.18,1012.61 2031.42,1012.77 2038.67,1013.04 2045.91,1013.15 2053.15,1013.27 2060.39,1013.4 2067.63,1013.39 2074.88,1013.41 2082.12,1013.39 2089.36,1013.37 2096.6,1013.37 2103.84,1013.35 2111.09,1013.32 2118.33,1013.26 2125.57,1013.38 2132.81,1013.5 2140.06,1013.6 2147.3,1013.68 2154.54,1013.64 2161.78,1013.7 2169.02,1013.77 2176.27,1013.79 2183.51,1013.69 2190.75,1013.75 2197.99,1013.7 2205.23,1013.55 2212.48,1013.38 2219.72,1013.2 2226.96,1013.07 2234.2,1012.8 2241.44,1012.67 2248.69,1012.54 2255.93,1012.35 2263.17,1012.22 2270.41,1012.03 2277.66,1011.71 2284.9,1011.41 2292.14,1011.25 \"/>\n",
       "<polyline clip-path=\"url(#clip522)\" style=\"stroke:#00a9ad; stroke-linecap:round; stroke-linejoin:round; stroke-width:4; stroke-opacity:1; fill:none\" stroke-dasharray=\"16, 10\" points=\"271.594,1224.21 278.836,1244.47 286.078,1263.12 293.32,1280.36 300.562,1295.72 307.804,1309.73 315.046,1322.41 322.288,1333.7 329.531,1344.22 336.773,1353.31 344.015,1360.92 351.257,1367.36 358.499,1372.59 365.741,1376.67 372.983,1380.15 380.225,1382.78 387.467,1384.74 394.709,1385.74 401.952,1386.34 409.194,1386.4 416.436,1385.76 423.678,1384.42 430.92,1382.54 438.162,1380.02 445.404,1377.09 452.646,1373.71 459.888,1370.11 467.13,1366.41 474.373,1362.41 481.615,1358.15 488.857,1353.67 496.099,1348.98 503.341,1344.08 510.583,1339.02 517.825,1333.66 525.067,1328.02 532.309,1322.21 539.551,1316.3 546.794,1310.25 554.036,1304.15 561.278,1298 568.52,1291.76 575.762,1285.49 583.004,1279.17 590.246,1272.85 597.488,1266.54 604.73,1260.25 611.972,1254.01 619.215,1247.78 626.457,1241.55 633.699,1235.42 640.941,1229.35 648.183,1223.32 655.425,1217.36 662.667,1211.4 669.909,1205.48 677.151,1199.62 684.393,1193.84 691.636,1188.1 698.878,1182.43 706.12,1176.83 713.362,1171.33 720.604,1165.94 727.846,1160.61 735.088,1155.37 742.33,1150.25 749.572,1145.24 756.814,1140.29 764.057,1135.39 771.299,1130.6 778.541,1125.92 785.783,1121.33 793.025,1116.86 800.267,1112.48 807.509,1108.24 814.751,1104.13 821.993,1100.23 829.235,1096.47 836.478,1092.87 843.72,1089.28 850.962,1085.91 858.204,1082.66 865.446,1079.42 872.688,1076.3 879.93,1073.29 887.172,1070.33 894.414,1067.49 901.656,1064.82 908.899,1062.2 916.141,1059.77 923.383,1057.43 930.625,1055.12 937.867,1053.03 945.109,1051.07 952.351,1049.17 959.593,1047.31 966.835,1045.49 974.077,1043.71 981.32,1041.9 988.562,1040.21 995.804,1038.55 1003.05,1037.05 1010.29,1035.63 1017.53,1034.28 1024.77,1033.08 1032.01,1032.01 1039.26,1030.97 1046.5,1029.9 1053.74,1028.87 1060.98,1027.71 1068.22,1026.5 1075.47,1025.4 1082.71,1024.37 1089.95,1023.46 1097.19,1022.59 1104.44,1021.77 1111.68,1020.99 1118.92,1020.23 1126.16,1019.57 1133.4,1018.82 1140.65,1018.18 1147.89,1017.72 1155.13,1017.33 1162.37,1017 1169.61,1016.68 1176.86,1016.33 1184.1,1016.02 1191.34,1015.78 1198.58,1015.57 1205.82,1015.35 1213.07,1015.19 1220.31,1015.09 1227.55,1015.08 1234.79,1015.09 1242.04,1015.08 1249.28,1014.95 1256.52,1014.78 1263.76,1014.56 1271,1014.41 1278.25,1014.25 1285.49,1014.15 1292.73,1014.04 1299.97,1013.94 1307.21,1014 1314.46,1014.14 1321.7,1014.29 1328.94,1014.42 1336.18,1014.41 1343.42,1014.4 1350.67,1014.48 1357.91,1014.53 1365.15,1014.51 1372.39,1014.6 1379.64,1014.68 1386.88,1014.69 1394.12,1014.68 1401.36,1014.74 1408.6,1014.76 1415.85,1014.81 1423.09,1014.95 1430.33,1014.97 1437.57,1014.9 1444.81,1014.79 1452.06,1014.79 1459.3,1014.77 1466.54,1014.72 1473.78,1014.69 1481.02,1014.63 1488.27,1014.6 1495.51,1014.61 1502.75,1014.5 1509.99,1014.16 1517.23,1013.85 1524.48,1013.55 1531.72,1013.34 1538.96,1013.15 1546.2,1013.02 1553.45,1012.76 1560.69,1012.5 1567.93,1012.27 1575.17,1012.03 1582.41,1011.8 1589.66,1011.58 1596.9,1011.38 1604.14,1011.28 1611.38,1011.25 1618.62,1011.1 1625.87,1010.79 1633.11,1010.54 1640.35,1010.42 1647.59,1010.41 1654.83,1010.45 1662.08,1010.6 1669.32,1010.74 1676.56,1010.86 1683.8,1010.81 1691.05,1010.78 1698.29,1010.69 1705.53,1010.54 1712.77,1010.29 1720.01,1010.16 1727.26,1010.02 1734.5,1009.9 1741.74,1009.97 1748.98,1010.19 1756.22,1010.45 1763.47,1010.64 1770.71,1010.88 1777.95,1011.15 1785.19,1011.39 1792.43,1011.6 1799.68,1011.72 1806.92,1011.66 1814.16,1011.46 1821.4,1011.22 1828.65,1010.82 1835.89,1010.53 1843.13,1010.3 1850.37,1010.16 1857.61,1009.95 1864.86,1009.88 1872.1,1009.82 1879.34,1009.76 1886.58,1009.69 1893.82,1009.57 1901.07,1009.54 1908.31,1009.56 1915.55,1009.67 1922.79,1009.69 1930.03,1009.72 1937.28,1009.6 1944.52,1009.46 1951.76,1009.47 1959,1009.48 1966.25,1009.57 1973.49,1009.65 1980.73,1009.57 1987.97,1009.42 1995.21,1009.19 2002.46,1009.01 2009.7,1008.76 2016.94,1008.35 2024.18,1008.07 2031.42,1007.71 2038.67,1007.32 2045.91,1007.08 2053.15,1006.99 2060.39,1006.92 2067.63,1006.82 2074.88,1006.73 2082.12,1006.75 2089.36,1006.8 2096.6,1006.91 2103.84,1007.09 2111.09,1007.25 2118.33,1007.3 2125.57,1007.44 2132.81,1007.53 2140.06,1007.62 2147.3,1007.63 2154.54,1007.54 2161.78,1007.52 2169.02,1007.32 2176.27,1007.08 2183.51,1006.78 2190.75,1006.42 2197.99,1006.15 2205.23,1005.82 2212.48,1005.57 2219.72,1005.26 2226.96,1004.87 2234.2,1004.38 2241.44,1003.85 2248.69,1003.41 2255.93,1003.02 2263.17,1002.72 2270.41,1002.43 2277.66,1002.23 2284.9,1002.01 2292.14,1001.84 \"/>\n",
       "<path clip-path=\"url(#clip520)\" d=\"M2023.9 529.676 L2281.36 529.676 L2281.36 166.796 L2023.9 166.796  Z\" fill=\"#ffffff\" fill-rule=\"evenodd\" fill-opacity=\"1\"/>\n",
       "<polyline clip-path=\"url(#clip520)\" style=\"stroke:#000000; stroke-linecap:round; stroke-linejoin:round; stroke-width:4; stroke-opacity:1; fill:none\" points=\"2023.9,529.676 2281.36,529.676 2281.36,166.796 2023.9,166.796 2023.9,529.676 \"/>\n",
       "<polyline clip-path=\"url(#clip520)\" style=\"stroke:#009af9; stroke-linecap:round; stroke-linejoin:round; stroke-width:4; stroke-opacity:1; fill:none\" points=\"2047.7,218.636 2190.48,218.636 \"/>\n",
       "<path clip-path=\"url(#clip520)\" d=\"M2238.93 209.99 L2229.56 222.606 L2239.42 235.916 L2234.39 235.916 L2226.85 225.731 L2219.3 235.916 L2214.28 235.916 L2224.35 222.351 L2215.14 209.99 L2220.16 209.99 L2227.03 219.226 L2233.91 209.99 L2238.93 209.99 Z\" fill=\"#000000\" fill-rule=\"evenodd\" fill-opacity=\"1\" /><path clip-path=\"url(#clip520)\" d=\"M2244.58 233.369 L2249.3 233.369 L2249.3 219.226 L2244.14 220.175 L2244.14 217.49 L2249.46 216.587 L2252.64 216.587 L2252.64 233.369 L2257.38 233.369 L2257.38 235.916 L2244.58 235.916 L2244.58 233.369 Z\" fill=\"#000000\" fill-rule=\"evenodd\" fill-opacity=\"1\" /><polyline clip-path=\"url(#clip520)\" style=\"stroke:#e26f46; stroke-linecap:round; stroke-linejoin:round; stroke-width:4; stroke-opacity:1; fill:none\" points=\"2047.7,270.476 2190.48,270.476 \"/>\n",
       "<path clip-path=\"url(#clip520)\" d=\"M2238.93 261.83 L2229.56 274.446 L2239.42 287.756 L2234.39 287.756 L2226.85 277.571 L2219.3 287.756 L2214.28 287.756 L2224.35 274.191 L2215.14 261.83 L2220.16 261.83 L2227.03 271.066 L2233.91 261.83 L2238.93 261.83 Z\" fill=\"#000000\" fill-rule=\"evenodd\" fill-opacity=\"1\" /><path clip-path=\"url(#clip520)\" d=\"M2247.17 285.117 L2256.99 285.117 L2256.99 287.756 L2243.14 287.756 L2243.14 285.209 Q2243.93 284.492 2245.39 283.196 Q2253.35 276.135 2253.35 273.959 Q2253.35 272.432 2252.15 271.506 Q2250.95 270.557 2248.98 270.557 Q2247.77 270.557 2246.36 270.973 Q2244.95 271.367 2243.28 272.177 L2243.28 269.33 Q2245.07 268.682 2246.59 268.358 Q2248.14 268.034 2249.46 268.034 Q2252.82 268.034 2254.83 269.561 Q2256.85 271.089 2256.85 273.589 Q2256.85 276.807 2249.19 283.381 Q2247.89 284.492 2247.17 285.117 Z\" fill=\"#000000\" fill-rule=\"evenodd\" fill-opacity=\"1\" /><polyline clip-path=\"url(#clip520)\" style=\"stroke:#3da44d; stroke-linecap:round; stroke-linejoin:round; stroke-width:4; stroke-opacity:1; fill:none\" points=\"2047.7,322.316 2190.48,322.316 \"/>\n",
       "<path clip-path=\"url(#clip520)\" d=\"M2238.93 313.67 L2229.56 326.286 L2239.42 339.596 L2234.39 339.596 L2226.85 329.411 L2219.3 339.596 L2214.28 339.596 L2224.35 326.031 L2215.14 313.67 L2220.16 313.67 L2227.03 322.906 L2233.91 313.67 L2238.93 313.67 Z\" fill=\"#000000\" fill-rule=\"evenodd\" fill-opacity=\"1\" /><path clip-path=\"url(#clip520)\" d=\"M2253.1 329.133 Q2255.23 329.549 2256.39 330.823 Q2257.57 332.073 2257.57 333.971 Q2257.57 336.841 2255.37 338.392 Q2253.17 339.943 2249.07 339.943 Q2247.75 339.943 2246.29 339.688 Q2244.86 339.457 2243.24 338.994 L2243.24 336.193 Q2244.44 336.818 2245.81 337.119 Q2247.2 337.42 2248.75 337.42 Q2251.27 337.42 2252.66 336.517 Q2254.05 335.591 2254.05 333.971 Q2254.05 332.258 2252.75 331.378 Q2251.48 330.499 2248.98 330.499 L2246.99 330.499 L2246.99 327.999 L2249.16 327.999 Q2251.34 327.999 2252.45 327.281 Q2253.58 326.54 2253.58 325.151 Q2253.58 323.809 2252.43 323.114 Q2251.27 322.397 2249.07 322.397 Q2248.14 322.397 2246.96 322.605 Q2245.78 322.813 2243.91 323.346 L2243.91 320.684 Q2245.6 320.29 2247.08 320.082 Q2248.56 319.874 2249.83 319.874 Q2253.17 319.874 2255.11 321.239 Q2257.08 322.605 2257.08 324.897 Q2257.08 326.494 2256.04 327.605 Q2255 328.716 2253.1 329.133 Z\" fill=\"#000000\" fill-rule=\"evenodd\" fill-opacity=\"1\" /><polyline clip-path=\"url(#clip520)\" style=\"stroke:#c271d2; stroke-linecap:round; stroke-linejoin:round; stroke-width:4; stroke-opacity:1; fill:none\" stroke-dasharray=\"16, 10\" points=\"2047.7,374.156 2190.48,374.156 \"/>\n",
       "<path clip-path=\"url(#clip520)\" d=\"M2238.93 365.51 L2229.56 378.126 L2239.42 391.436 L2234.39 391.436 L2226.85 381.251 L2219.3 391.436 L2214.28 391.436 L2224.35 377.871 L2215.14 365.51 L2220.16 365.51 L2227.03 374.746 L2233.91 365.51 L2238.93 365.51 Z\" fill=\"#000000\" fill-rule=\"evenodd\" fill-opacity=\"1\" /><path clip-path=\"url(#clip520)\" d=\"M2226.94 355.417 L2231.2 355.417 L2231.2 360.811 L2226.94 360.811 L2226.94 355.417 M2229.12 364.885 L2229.12 364.885 Z\" fill=\"#000000\" fill-rule=\"evenodd\" fill-opacity=\"1\" /><path clip-path=\"url(#clip520)\" d=\"M2244.58 388.889 L2249.3 388.889 L2249.3 374.746 L2244.14 375.695 L2244.14 373.01 L2249.46 372.107 L2252.64 372.107 L2252.64 388.889 L2257.38 388.889 L2257.38 391.436 L2244.58 391.436 L2244.58 388.889 Z\" fill=\"#000000\" fill-rule=\"evenodd\" fill-opacity=\"1\" /><polyline clip-path=\"url(#clip520)\" style=\"stroke:#ac8d18; stroke-linecap:round; stroke-linejoin:round; stroke-width:4; stroke-opacity:1; fill:none\" stroke-dasharray=\"16, 10\" points=\"2047.7,425.996 2190.48,425.996 \"/>\n",
       "<path clip-path=\"url(#clip520)\" d=\"M2238.93 417.35 L2229.56 429.966 L2239.42 443.276 L2234.39 443.276 L2226.85 433.091 L2219.3 443.276 L2214.28 443.276 L2224.35 429.711 L2215.14 417.35 L2220.16 417.35 L2227.03 426.586 L2233.91 417.35 L2238.93 417.35 Z\" fill=\"#000000\" fill-rule=\"evenodd\" fill-opacity=\"1\" /><path clip-path=\"url(#clip520)\" d=\"M2226.94 407.257 L2231.2 407.257 L2231.2 412.651 L2226.94 412.651 L2226.94 407.257 M2229.12 416.725 L2229.12 416.725 Z\" fill=\"#000000\" fill-rule=\"evenodd\" fill-opacity=\"1\" /><path clip-path=\"url(#clip520)\" d=\"M2247.17 440.637 L2256.99 440.637 L2256.99 443.276 L2243.14 443.276 L2243.14 440.729 Q2243.93 440.012 2245.39 438.716 Q2253.35 431.655 2253.35 429.479 Q2253.35 427.952 2252.15 427.026 Q2250.95 426.077 2248.98 426.077 Q2247.77 426.077 2246.36 426.493 Q2244.95 426.887 2243.28 427.697 L2243.28 424.85 Q2245.07 424.202 2246.59 423.878 Q2248.14 423.554 2249.46 423.554 Q2252.82 423.554 2254.83 425.081 Q2256.85 426.609 2256.85 429.109 Q2256.85 432.327 2249.19 438.901 Q2247.89 440.012 2247.17 440.637 Z\" fill=\"#000000\" fill-rule=\"evenodd\" fill-opacity=\"1\" /><polyline clip-path=\"url(#clip520)\" style=\"stroke:#00a9ad; stroke-linecap:round; stroke-linejoin:round; stroke-width:4; stroke-opacity:1; fill:none\" stroke-dasharray=\"16, 10\" points=\"2047.7,477.836 2190.48,477.836 \"/>\n",
       "<path clip-path=\"url(#clip520)\" d=\"M2238.93 469.19 L2229.56 481.806 L2239.42 495.116 L2234.39 495.116 L2226.85 484.931 L2219.3 495.116 L2214.28 495.116 L2224.35 481.551 L2215.14 469.19 L2220.16 469.19 L2227.03 478.426 L2233.91 469.19 L2238.93 469.19 Z\" fill=\"#000000\" fill-rule=\"evenodd\" fill-opacity=\"1\" /><path clip-path=\"url(#clip520)\" d=\"M2226.94 459.097 L2231.2 459.097 L2231.2 464.491 L2226.94 464.491 L2226.94 459.097 M2229.12 468.565 L2229.12 468.565 Z\" fill=\"#000000\" fill-rule=\"evenodd\" fill-opacity=\"1\" /><path clip-path=\"url(#clip520)\" d=\"M2253.1 484.653 Q2255.23 485.069 2256.39 486.343 Q2257.57 487.593 2257.57 489.491 Q2257.57 492.361 2255.37 493.912 Q2253.17 495.463 2249.07 495.463 Q2247.75 495.463 2246.29 495.208 Q2244.86 494.977 2243.24 494.514 L2243.24 491.713 Q2244.44 492.338 2245.81 492.639 Q2247.2 492.94 2248.75 492.94 Q2251.27 492.94 2252.66 492.037 Q2254.05 491.111 2254.05 489.491 Q2254.05 487.778 2252.75 486.898 Q2251.48 486.019 2248.98 486.019 L2246.99 486.019 L2246.99 483.519 L2249.16 483.519 Q2251.34 483.519 2252.45 482.801 Q2253.58 482.06 2253.58 480.671 Q2253.58 479.329 2252.43 478.634 Q2251.27 477.917 2249.07 477.917 Q2248.14 477.917 2246.96 478.125 Q2245.78 478.333 2243.91 478.866 L2243.91 476.204 Q2245.6 475.81 2247.08 475.602 Q2248.56 475.394 2249.83 475.394 Q2253.17 475.394 2255.11 476.759 Q2257.08 478.125 2257.08 480.417 Q2257.08 482.014 2256.04 483.125 Q2255 484.236 2253.1 484.653 Z\" fill=\"#000000\" fill-rule=\"evenodd\" fill-opacity=\"1\" /></svg>\n"
      ]
     },
     "metadata": {},
     "output_type": "display_data"
    }
   ],
   "source": [
    "Xsim_m = mat_from_vec(Xhist[1:end-Nh])\n",
    "Usim_m = mat_from_vec(Uhist[1:end-Nh-1])\n",
    "e_sim_m = mat_from_vec(Xref[1:end-Nh]-Xhist[1:end-Nh])\n",
    "@show traj_error = maximum(norm.(e_sim_m, Inf))\n",
    "display(plot(t_vec[1:end-Nh],e_sim_m',label = [\"ex₁\" \"ex₂\" \"ex₃\" \"eẋ₁\" \"eẋ₂\" \"eẋ₃\"], \n",
    "             linestyle=[:solid :solid :solid :dash :dash :dash], \n",
    "             title = \"State Error History\",\n",
    "             xlabel = \"time (s)\", ylabel = \"x\"))\n",
    "display(plot(t_vec[1:end-Nh-2],Usim_m',label = [\"u₁\" \"u₂\" \"u₃\"],\n",
    "             title = \"Input History\",\n",
    "             xlabel = \"time (s)\", ylabel = \"u\"))\n",
    "display(plot(t_vec[1:end-Nh],Xsim_m',label = [\"x₁\" \"x₂\" \"x₃\" \"ẋ₁\" \"ẋ₂\" \"ẋ₃\"], \n",
    "             linestyle=[:solid :solid :solid :dash :dash :dash],\n",
    "             title = \"State History\",\n",
    "             xlabel = \"time (s)\", ylabel = \"x\"))"
   ]
  }
 ],
 "metadata": {
  "kernelspec": {
   "display_name": "Julia 1.6.7",
   "language": "julia",
   "name": "julia-1.6"
  },
  "language_info": {
   "file_extension": ".jl",
   "mimetype": "application/julia",
   "name": "julia",
   "version": "1.6.7"
  }
 },
 "nbformat": 4,
 "nbformat_minor": 5
}
