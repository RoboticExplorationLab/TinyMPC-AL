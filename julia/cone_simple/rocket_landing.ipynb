{
 "cells": [
  {
   "cell_type": "code",
   "execution_count": 122,
   "id": "6099cb4b-a2da-4b1b-ba0f-856484092fc4",
   "metadata": {},
   "outputs": [
    {
     "name": "stderr",
     "output_type": "stream",
     "text": [
      "\u001b[32m\u001b[1m  Activating\u001b[22m\u001b[39m environment at `~/Documents/REx Lab/TinyMPC/julia/cone_simple/Project.toml`\n"
     ]
    },
    {
     "name": "stderr",
     "output_type": "stream",
     "text": [
      "\u001b[32m\u001b[1m   Resolving\u001b[22m\u001b[39m package versions...\n"
     ]
    },
    {
     "name": "stderr",
     "output_type": "stream",
     "text": [
      "\u001b[32m\u001b[1m  No Changes\u001b[22m\u001b[39m to `~/Documents/REx Lab/TinyMPC/julia/cone_simple/Project.toml`\n",
      "\u001b[32m\u001b[1m  No Changes\u001b[22m\u001b[39m to `~/Documents/REx Lab/TinyMPC/julia/cone_simple/Manifest.toml`\n"
     ]
    }
   ],
   "source": [
    "using Pkg\n",
    "Pkg.activate(@__DIR__)\n",
    "Pkg.instantiate()\n",
    "import Pkg; Pkg.add(\"ForwardDiff\")\n",
    "\n",
    "using LinearAlgebra\n",
    "using Printf\n",
    "import ForwardDiff as FD"
   ]
  },
  {
   "cell_type": "code",
   "execution_count": 123,
   "id": "2539eadc-1ce3-410e-80f6-f5588603ffef",
   "metadata": {},
   "outputs": [],
   "source": [
    "# include(\"random_linear.jl\")\n",
    "# A, B = gendiscrete(4, 3)"
   ]
  },
  {
   "cell_type": "code",
   "execution_count": 124,
   "id": "6179ca57-b5ff-4274-8391-85d5e728fc16",
   "metadata": {},
   "outputs": [
    {
     "data": {
      "text/plain": [
       "mpc (generic function with 1 method)"
      ]
     },
     "metadata": {},
     "output_type": "display_data"
    }
   ],
   "source": [
    "# -------------------THIS IS ALL ALTRO-------------------------------\n",
    "# This enables goal equality constraints, state and input ineq constraints.\n",
    "\n",
    "function stage_cost(p::NamedTuple,x,u,k)\n",
    "    dx = x - p.Xref[k]\n",
    "    du = u - p.Uref[k]\n",
    "    return 0.5*dx'*p.Q*dx + 0.5*du'*p.R*du\n",
    "end\n",
    "function term_cost(p::NamedTuple,x)\n",
    "    dx = x - p.Xref[p.N]\n",
    "    return 0.5*dx'*p.Qf*dx\n",
    "end\n",
    "function stage_cost_expansion(p::NamedTuple,k)\n",
    "    dx = - p.Xref[k]\n",
    "    du = - p.Uref[k]\n",
    "    return p.Q, p.Q*dx, p.R, p.R*du  # Hessian and gradient\n",
    "end\n",
    "function term_cost_expansion(p::NamedTuple)\n",
    "    dx = - p.Xref[p.N]\n",
    "    return p.Qf, p.Qf*dx\n",
    "end\n",
    "function conic_cost_expansion(p::NamedTuple, u, λc, ρ, k)\n",
    "    λhat = λc # already updated\n",
    "    ∇c = cone_u_jac(p, u)\n",
    "    G = ∇c'*∇projection(λhat)*projection(λhat)\n",
    "    H = ∇c'*∇projection(λhat)'*∇projection(λhat)*∇c*ρ\n",
    "    # display(∇projection(λhat)')\n",
    "    # H = zeros(p.ncu_cone,p.ncu_cone)\n",
    "    return (G - H*u), H\n",
    "end\n",
    "function backward_pass!(params,X,U,P,p,d,K,reg,μ,μx,ρ,λ,λc)\n",
    "    \"\"\"iLQR backward pass with AL. This !function update its parameters\n",
    "    \"\"\"\n",
    "    N = params.N\n",
    "    ΔJ = 0.0    # expected cost reduction\n",
    "\n",
    "    # terminal cost expansion\n",
    "    P[N], p[N] = term_cost_expansion(params) \n",
    "    \n",
    "    if (params.ncx > 0)\n",
    "        # # add AL terms for the state constraint at the final time step\n",
    "        hxv = ineq_con_x(params,X[N])  # h(x) violation  \n",
    "        mask = eval_mask(μx[N],hxv)\n",
    "        ∇hx = ineq_con_x_jac(params,X[N])\n",
    "        # add these into the cost-to-go p and P\n",
    "        p[N]  += ∇hx'*(μx[N] - ρ*(mask * [params.x_max;-params.x_min]))  # multiplier term (1st)\n",
    "        P[N]  += ρ*∇hx'*mask*∇hx                # penalty term (2nd)\n",
    "    end\n",
    "    \n",
    "    if (params.ncg > 0)\n",
    "        # add AL terms for goal constraint\n",
    "        ∇hx = diagm(ones(params.nx))\n",
    "        # add these into the CTG p and P (equality active)\n",
    "        p[N]  += ∇hx'*(λ - ρ*params.Xref[N])   \n",
    "        P[N]  += ρ*∇hx'∇hx\n",
    "    end\n",
    "\n",
    "    # iterate from N-1 to 1 backwards\n",
    "    for k = (N-1):(-1):1\n",
    "        # dynamics jacobians (linearization about previous iterate)\n",
    "        A = FD.jacobian(_x -> discrete_dynamics(params,_x,U[k],k),X[k])\n",
    "        B = FD.jacobian(_u -> discrete_dynamics(params,X[k],_u,k),U[k])\n",
    "\n",
    "        Sxx,Sx,Suu,Su = stage_cost_expansion(params,k)\n",
    "        \n",
    "        # one-step cost expansion: Q, Q*dx, R, R*du\n",
    "        Sx += A' * (P[k+1]*f + p[k+1]) \n",
    "        Su += B' * (P[k+1]*f + p[k+1]) \n",
    "        Sxx += A'*(P[k+1])*A\n",
    "        Suu += B'*(P[k+1] + reg*I)*B                                     \n",
    "        Sux = B'*(P[k+1])*A  \n",
    "        if (params.ncu > 0)\n",
    "            # control constraints\n",
    "            huv = ineq_con_u(params,U[k])  # calculate h(u) constraint\n",
    "            mask = eval_mask(μ[k],huv)  # choose active\n",
    "            ∇hu = ineq_con_u_jac(params,U[k])\n",
    "            Su  += ∇hu'*(μ[k] - ρ*(mask * [params.u_max;-params.u_min])) # add to cost\n",
    "            Suu += ρ*∇hu'*mask*∇hu\n",
    "        end\n",
    "        if (params.ncx > 0)\n",
    "            # state constraints\n",
    "            hxv = ineq_con_x(params,X[k])\n",
    "            mask = eval_mask(μx[k],hxv)\n",
    "            ∇hx = ineq_con_x_jac(params,X[k])\n",
    "            Sx  += ∇hx'*(μx[k] - ρ*(mask * [params.x_max;-params.x_min]))\n",
    "            Sxx += ρ*∇hx'*mask*∇hx\n",
    "        end\n",
    "        if (params.ncu_cone > 0)\n",
    "            # conic constraints\n",
    "            Qu, Quu = conic_cost_expansion(params, U[k], λc[k], ρ, k)\n",
    "            # display(Quu)\n",
    "            Su += Qu\n",
    "            Suu += Quu\n",
    "        end\n",
    "        \n",
    "        # Calculate Gains\n",
    "        F = cholesky(Symmetric(Suu))\n",
    "        d[k] = F\\Su\n",
    "        K[k] = F\\Sux\n",
    "\n",
    "        # Cost-to-go Recurrence (PSD stabilizing version, last term)\n",
    "        P[k] = Sxx + K[k]'*Suu*K[k] - 2*K[k]'*Sux\n",
    "        p[k] = Sx + K[k]'*Suu*d[k] - K[k]'*Su - Sux'*d[k]\n",
    "        ΔJ += Su'*d[k]\n",
    "    end\n",
    "\n",
    "    return ΔJ  # but also change params\n",
    "end\n",
    "function forward_pass!(params,X,U,K,d,ΔJ,Xn,Un,μ,μx,ρ,λ; \n",
    "                        max_linesearch_iters = 20)\n",
    "    \"\"\"iLQR forward pass and line-search\n",
    "    This !function update its parameters\n",
    "    \"\"\"\n",
    "    N = params.N\n",
    "        # Forward Rollout\n",
    "        for k = 1:(N-1)\n",
    "            Un[k] = - d[k] - K[k]*Xn[k] \n",
    "            Xn[k+1] = discrete_dynamics(params,Xn[k],Un[k],k)\n",
    "        end\n",
    "    X .= Xn\n",
    "    U .= Un\n",
    "    return 0, 0\n",
    "end\n",
    "function eval_mask(μv,huv)  \n",
    "    # Extract active inequality constraints\n",
    "    # active set mask\n",
    "    mask = Diagonal(zeros(length(huv)))\n",
    "    for i = 1:length(huv)\n",
    "        mask[i,i] = (μv[i] > 0 || huv[i] > 0)\n",
    "    end\n",
    "    mask\n",
    "end\n",
    "function mpc(params,X,U,P,p,K,d,Xn,Un;atol=1e-3,max_iters = 250,verbose = true,ρ=1,ϕ=10)\n",
    "\n",
    "    # first check the sizes of everything\n",
    "    @assert length(X) == params.N\n",
    "    @assert length(U) == params.N-1\n",
    "    @assert length(X[1]) == params.nx\n",
    "    @assert length(U[1]) == params.nu\n",
    "\n",
    "    # keep track of trajectories for each iterate\n",
    "    Xhist=[deepcopy(X) for i = 1:1000]\n",
    "\n",
    "    # initial rollout\n",
    "    N = params.N\n",
    "    for i = 1:N-1\n",
    "        X[i+1] = discrete_dynamics(params,X[i],U[i],i)\n",
    "    end\n",
    "\n",
    "    Xhist[1] .= X\n",
    "\n",
    "    reg_min = 1e-8\n",
    "    reg = reg_min\n",
    "\n",
    "    μ = [zeros(params.ncu) for i = 1:N-1]   # input constraints\n",
    "\n",
    "    μx = [zeros(params.ncx) for i = 1:N]    # state constraints\n",
    "\n",
    "    λ = zeros(params.nx)    # goal constraint\n",
    "\n",
    "    λc = [zeros(params.ncu_cone) for i = 1:N-1]   # goal constraint\n",
    "    \n",
    "    # Inner loop to solve unconstrained problem (Riccati)\n",
    "    for iter = 1:max_iters\n",
    "        ΔJ = backward_pass!(params,X,U,P,p,d,K,reg,μ,μx,ρ,λ,λc)\n",
    "        J, α = forward_pass!(params,X,U,K,d,ΔJ,Xn,Un,μ,μx,ρ,λ)\n",
    "\n",
    "        Xhist[iter + 1] .= X  \n",
    "        if verbose\n",
    "            if rem(iter-1,10)==0\n",
    "                @printf \"iter     J           ΔJ        |d|         α        reg         ρ\\n\"\n",
    "                @printf \"---------------------------------------------------------------------\\n\"\n",
    "            end\n",
    "            @printf(\"%3d   %10.3e  %9.2e  %9.2e  %6.4f   %9.2e   %9.2e\\n\",\n",
    "              iter, J, ΔJ, 0, α, reg, ρ)\n",
    "        end\n",
    "        # update multipliers and check constraint violation, max of all\n",
    "        convio = 0  \n",
    "        \n",
    "        if (params.ncu > 0)\n",
    "            # control constraints (inequality)\n",
    "            for k = 1:N-1\n",
    "                huv = ineq_con_u(params,U[k])\n",
    "                mask = eval_mask(μ[k],huv)\n",
    "                # update dual\n",
    "                convio = max(convio,norm(huv + abs.(huv),Inf))\n",
    "                μ[k] = max.(0,μ[k] - ρ*(mask * [params.u_max;-params.u_min]))\n",
    "            end\n",
    "        end\n",
    "        if (params.ncx > 0)\n",
    "            # state constraints (inequality)\n",
    "            for k = 1:N\n",
    "                hxv = ineq_con_x(params,X[k])\n",
    "                mask = eval_mask(μx[k],hxv)\n",
    "                # update dual\n",
    "                convio = max(convio,norm(hxv + abs.(hxv),Inf))\n",
    "                μx[k] = max.(0,μx[k] - ρ*(mask * [params.x_max;-params.x_min]))                \n",
    "            end\n",
    "        end\n",
    "        if (params.ncu_cone > 0)\n",
    "            # conic constraints \n",
    "            print(\"update cone\\n\")\n",
    "            for k = 1:N-1\n",
    "                # update dual\n",
    "                Uc = cone_u(params, U[k])\n",
    "                huc = norm(Uc[1:2]) - Uc[3]\n",
    "                convio = max(convio, norm(huc + abs.(huc),Inf))\n",
    "                λc[k] = projection(λc[k] + ρ*Uc)\n",
    "                # display(λc[k])\n",
    "            end\n",
    "        end\n",
    "        if (params.ncg > 0)\n",
    "            # goal constraint (equality)\n",
    "            hxv = X[N] - params.Xref[N]\n",
    "            λ .-= ρ*params.Xref[N]\n",
    "            convio = max(convio, norm(hxv,Inf))\n",
    "        end\n",
    "        @show convio\n",
    "        if convio <1e-4  # if terminal condition with contraint violation\n",
    "            @info \"success!\"\n",
    "            return Xhist[1:(iter + 1)];\n",
    "        end\n",
    "\n",
    "        ρ *= ϕ  # update penalty\n",
    "    end\n",
    "end\n",
    "#----------------------ALTRO DONE --------------------------"
   ]
  },
  {
   "cell_type": "code",
   "execution_count": 125,
   "id": "ff9a97a1-b963-4f01-9223-eee0c5682b7d",
   "metadata": {
    "tags": []
   },
   "outputs": [
    {
     "data": {
      "text/plain": [
       "∇projection (generic function with 1 method)"
      ]
     },
     "metadata": {},
     "output_type": "display_data"
    }
   ],
   "source": [
    "# =============================\n",
    "# Example problem formulation and solve\n",
    "# =============================\n",
    "\n",
    "# ---------------------THIS IS WHAT YOU NEED TO INPUT--------\n",
    "A = [1.0 0.0 0.0 0.05 0.0 0.0; \n",
    "    0.0 1.0 0.0 0.0 0.05 0.0; \n",
    "    0.0 0.0 1.0 0.0 0.0 0.05; \n",
    "    0.0 0.0 0.0 1.0 0.0 0.0; \n",
    "    0.0 0.0 0.0 0.0 1.0 0.0; \n",
    "    0.0 0.0 0.0 0.0 0.0 1.0]\n",
    "B = [0.000125 0.0 0.0; \n",
    "    0.0 0.000125 0.0;\n",
    "    0.0 0.0 0.000125; \n",
    "    0.005 0.0 0.0; \n",
    "    0.0 0.005 0.0; \n",
    "    0.0 0.0 0.005]\n",
    "f = [0.0, 0.0, -0.0122625, 0.0, 0.0, -0.4905]\n",
    "function discrete_dynamics(p::NamedTuple,x,u,k)\n",
    "    A = [1.0 0.0 0.0 0.05 0.0 0.0; \n",
    "        0.0 1.0 0.0 0.0 0.05 0.0; \n",
    "        0.0 0.0 1.0 0.0 0.0 0.05; \n",
    "        0.0 0.0 0.0 1.0 0.0 0.0; \n",
    "        0.0 0.0 0.0 0.0 1.0 0.0; \n",
    "        0.0 0.0 0.0 0.0 0.0 1.0]\n",
    "    B = [0.000125 0.0 0.0; \n",
    "        0.0 0.000125 0.0;\n",
    "        0.0 0.0 0.000125; \n",
    "        0.005 0.0 0.0; \n",
    "        0.0 0.005 0.0; \n",
    "        0.0 0.0 0.005]\n",
    "    f = [0.0, 0.0, -0.0122625, 0.0, 0.0, -0.4905]\n",
    "    return A*x + B*u + f\n",
    "end\n",
    "function ineq_con_x(p,x)\n",
    "    [x-p.x_max;-x + p.x_min]\n",
    "end\n",
    "function ineq_con_u(p,u)\n",
    "    [u-p.u_max;-u + p.u_min]\n",
    "end\n",
    "function cone_u(p, u)\n",
    "    # [p.A_cone*u;p.c_cone'*u]\n",
    "    [p.A_cone*u;p.c_cone'*u]\n",
    "end\n",
    "function cone_u_jac(p, u)\n",
    "    J = zeros(p.nu, p.nu)\n",
    "    J[1:end-1,1:end] .= p.A_cone\n",
    "    J[end,1:end] .= p.c_cone\n",
    "    # J = FD.jacobian(_u -> cone_u(params,_u), u)\n",
    "    return J\n",
    "end\n",
    "function ineq_con_u_jac(params,u)\n",
    "    FD.jacobian(_u -> ineq_con_u(params,_u), u)\n",
    "end\n",
    "function ineq_con_x_jac(p,x)\n",
    "    FD.jacobian(_x -> ineq_con_x(p,_x),x)\n",
    "end\n",
    "function projection(x)\n",
    "    n = length(x)\n",
    "    s = x[end]\n",
    "    v = view(x,1:n-1)\n",
    "    a = norm(v)\n",
    "    if a <= -s  # below the cone\n",
    "        return zero(x)\n",
    "    elseif a <= s  # in the code\n",
    "        return x\n",
    "    elseif a >= abs(s)  # outside the cone\n",
    "        return 0.5 * (1 + s/a) * [v; a] \n",
    "    end\n",
    "end\n",
    "function ∇projection(x)\n",
    "    n = length(x)\n",
    "    J = zeros(eltype(x),n,n)\n",
    "    s = x[end]\n",
    "    v = view(x,1:n-1)\n",
    "    a = norm(v)\n",
    "    if a <= -s\n",
    "        return J  # zeros\n",
    "    elseif a <= s\n",
    "        J .= I(n)  \n",
    "        return J  # identity\n",
    "    elseif a >= abs(s)\n",
    "        c = 0.5 * (1 + s/a)\n",
    "\n",
    "        # dvdv ok!\n",
    "        for i = 1:n-1, j = 1:n-1\n",
    "            J[i,j] = -0.5*s/a^3 * v[i] * v[j]\n",
    "            if i == j\n",
    "                J[i,j] += c\n",
    "            end\n",
    "        end\n",
    "\n",
    "        # dvds ok!\n",
    "        for i = 1:n-1\n",
    "            J[i,n] = 0.5 * v[i] / a\n",
    "        end\n",
    "\n",
    "        # dsdv ok!\n",
    "        for i = 1:n-1\n",
    "            J[n,i] = ((-0.5*s/a^2) + c/a) * v[i]\n",
    "        end\n",
    "        J[n,n] = 0.5  # ok\n",
    "        return J\n",
    "    else\n",
    "        error(\"Invalid second-order cone projection.\")\n",
    "    end\n",
    "    return J\n",
    "end"
   ]
  },
  {
   "cell_type": "code",
   "execution_count": 126,
   "id": "f4edd7a6-7756-43ee-a37b-f91abdd18650",
   "metadata": {},
   "outputs": [
    {
     "data": {
      "image/png": "[encoded data removed]",
      "image/svg+xml": [
       "<?xml version=\"1.0\" encoding=\"utf-8\"?>\n",
       "<svg xmlns=\"http://www.w3.org/2000/svg\" xmlns:xlink=\"http://www.w3.org/1999/xlink\" width=\"600\" height=\"400\" viewBox=\"0 0 2400 1600\">\n",
       "<defs>\n",
       "  <clipPath id=\"clip350\">\n",
       "    <rect x=\"0\" y=\"0\" width=\"2400\" height=\"1600\"/>\n",
       "  </clipPath>\n",
       "</defs>\n",
       "<path clip-path=\"url(#clip350)\" d=\"M0 1600 L2400 1600 L2400 0 L0 0  Z\" fill=\"#ffffff\" fill-rule=\"evenodd\" fill-opacity=\"1\"/>\n",
       "<defs>\n",
       "  <clipPath id=\"clip351\">\n",
       "    <rect x=\"480\" y=\"0\" width=\"1681\" height=\"1600\"/>\n",
       "  </clipPath>\n",
       "</defs>\n",
       "<path clip-path=\"url(#clip350)\" d=\"M242.135 1423.18 L2352.76 1423.18 L2352.76 123.472 L242.135 123.472  Z\" fill=\"#ffffff\" fill-rule=\"evenodd\" fill-opacity=\"1\"/>\n",
       "<defs>\n",
       "  <clipPath id=\"clip352\">\n",
       "    <rect x=\"242\" y=\"123\" width=\"2112\" height=\"1301\"/>\n",
       "  </clipPath>\n",
       "</defs>\n",
       "<polyline clip-path=\"url(#clip352)\" style=\"stroke:#000000; stroke-linecap:round; stroke-linejoin:round; stroke-width:2; stroke-opacity:0.1; fill:none\" points=\"301.869,1423.18 301.869,123.472 \"/>\n",
       "<polyline clip-path=\"url(#clip352)\" style=\"stroke:#000000; stroke-linecap:round; stroke-linejoin:round; stroke-width:2; stroke-opacity:0.1; fill:none\" points=\"799.657,1423.18 799.657,123.472 \"/>\n",
       "<polyline clip-path=\"url(#clip352)\" style=\"stroke:#000000; stroke-linecap:round; stroke-linejoin:round; stroke-width:2; stroke-opacity:0.1; fill:none\" points=\"1297.45,1423.18 1297.45,123.472 \"/>\n",
       "<polyline clip-path=\"url(#clip352)\" style=\"stroke:#000000; stroke-linecap:round; stroke-linejoin:round; stroke-width:2; stroke-opacity:0.1; fill:none\" points=\"1795.23,1423.18 1795.23,123.472 \"/>\n",
       "<polyline clip-path=\"url(#clip352)\" style=\"stroke:#000000; stroke-linecap:round; stroke-linejoin:round; stroke-width:2; stroke-opacity:0.1; fill:none\" points=\"2293.02,1423.18 2293.02,123.472 \"/>\n",
       "<polyline clip-path=\"url(#clip350)\" style=\"stroke:#000000; stroke-linecap:round; stroke-linejoin:round; stroke-width:4; stroke-opacity:1; fill:none\" points=\"242.135,1423.18 2352.76,1423.18 \"/>\n",
       "<polyline clip-path=\"url(#clip350)\" style=\"stroke:#000000; stroke-linecap:round; stroke-linejoin:round; stroke-width:4; stroke-opacity:1; fill:none\" points=\"301.869,1423.18 301.869,1404.28 \"/>\n",
       "<polyline clip-path=\"url(#clip350)\" style=\"stroke:#000000; stroke-linecap:round; stroke-linejoin:round; stroke-width:4; stroke-opacity:1; fill:none\" points=\"799.657,1423.18 799.657,1404.28 \"/>\n",
       "<polyline clip-path=\"url(#clip350)\" style=\"stroke:#000000; stroke-linecap:round; stroke-linejoin:round; stroke-width:4; stroke-opacity:1; fill:none\" points=\"1297.45,1423.18 1297.45,1404.28 \"/>\n",
       "<polyline clip-path=\"url(#clip350)\" style=\"stroke:#000000; stroke-linecap:round; stroke-linejoin:round; stroke-width:4; stroke-opacity:1; fill:none\" points=\"1795.23,1423.18 1795.23,1404.28 \"/>\n",
       "<polyline clip-path=\"url(#clip350)\" style=\"stroke:#000000; stroke-linecap:round; stroke-linejoin:round; stroke-width:4; stroke-opacity:1; fill:none\" points=\"2293.02,1423.18 2293.02,1404.28 \"/>\n",
       "<path clip-path=\"url(#clip350)\" d=\"M279.254 1454.1 Q275.643 1454.1 273.814 1457.66 Q272.008 1461.2 272.008 1468.33 Q272.008 1475.44 273.814 1479.01 Q275.643 1482.55 279.254 1482.55 Q282.888 1482.55 284.693 1479.01 Q286.522 1475.44 286.522 1468.33 Q286.522 1461.2 284.693 1457.66 Q282.888 1454.1 279.254 1454.1 M279.254 1450.39 Q285.064 1450.39 288.119 1455 Q291.198 1459.58 291.198 1468.33 Q291.198 1477.06 288.119 1481.67 Q285.064 1486.25 279.254 1486.25 Q273.443 1486.25 270.365 1481.67 Q267.309 1477.06 267.309 1468.33 Q267.309 1459.58 270.365 1455 Q273.443 1450.39 279.254 1450.39 Z\" fill=\"#000000\" fill-rule=\"evenodd\" fill-opacity=\"1\" /><path clip-path=\"url(#clip350)\" d=\"M299.416 1479.7 L304.3 1479.7 L304.3 1485.58 L299.416 1485.58 L299.416 1479.7 Z\" fill=\"#000000\" fill-rule=\"evenodd\" fill-opacity=\"1\" /><path clip-path=\"url(#clip350)\" d=\"M324.485 1454.1 Q320.874 1454.1 319.045 1457.66 Q317.24 1461.2 317.24 1468.33 Q317.24 1475.44 319.045 1479.01 Q320.874 1482.55 324.485 1482.55 Q328.119 1482.55 329.925 1479.01 Q331.753 1475.44 331.753 1468.33 Q331.753 1461.2 329.925 1457.66 Q328.119 1454.1 324.485 1454.1 M324.485 1450.39 Q330.295 1450.39 333.351 1455 Q336.429 1459.58 336.429 1468.33 Q336.429 1477.06 333.351 1481.67 Q330.295 1486.25 324.485 1486.25 Q318.675 1486.25 315.596 1481.67 Q312.54 1477.06 312.54 1468.33 Q312.54 1459.58 315.596 1455 Q318.675 1450.39 324.485 1450.39 Z\" fill=\"#000000\" fill-rule=\"evenodd\" fill-opacity=\"1\" /><path clip-path=\"url(#clip350)\" d=\"M771.394 1481.64 L787.713 1481.64 L787.713 1485.58 L765.769 1485.58 L765.769 1481.64 Q768.431 1478.89 773.014 1474.26 Q777.62 1469.61 778.801 1468.27 Q781.046 1465.74 781.926 1464.01 Q782.829 1462.25 782.829 1460.56 Q782.829 1457.8 780.884 1456.07 Q778.963 1454.33 775.861 1454.33 Q773.662 1454.33 771.208 1455.09 Q768.778 1455.86 766 1457.41 L766 1452.69 Q768.824 1451.55 771.278 1450.97 Q773.731 1450.39 775.768 1450.39 Q781.139 1450.39 784.333 1453.08 Q787.528 1455.77 787.528 1460.26 Q787.528 1462.39 786.718 1464.31 Q785.93 1466.2 783.824 1468.8 Q783.245 1469.47 780.143 1472.69 Q777.042 1475.88 771.394 1481.64 Z\" fill=\"#000000\" fill-rule=\"evenodd\" fill-opacity=\"1\" /><path clip-path=\"url(#clip350)\" d=\"M797.528 1479.7 L802.412 1479.7 L802.412 1485.58 L797.528 1485.58 L797.528 1479.7 Z\" fill=\"#000000\" fill-rule=\"evenodd\" fill-opacity=\"1\" /><path clip-path=\"url(#clip350)\" d=\"M812.643 1451.02 L831 1451.02 L831 1454.96 L816.926 1454.96 L816.926 1463.43 Q817.944 1463.08 818.963 1462.92 Q819.981 1462.73 821 1462.73 Q826.787 1462.73 830.166 1465.9 Q833.546 1469.08 833.546 1474.49 Q833.546 1480.07 830.074 1483.17 Q826.602 1486.25 820.282 1486.25 Q818.106 1486.25 815.838 1485.88 Q813.592 1485.51 811.185 1484.77 L811.185 1480.07 Q813.268 1481.2 815.491 1481.76 Q817.713 1482.32 820.19 1482.32 Q824.194 1482.32 826.532 1480.21 Q828.87 1478.1 828.87 1474.49 Q828.87 1470.88 826.532 1468.77 Q824.194 1466.67 820.19 1466.67 Q818.315 1466.67 816.44 1467.08 Q814.588 1467.5 812.643 1468.38 L812.643 1451.02 Z\" fill=\"#000000\" fill-rule=\"evenodd\" fill-opacity=\"1\" /><path clip-path=\"url(#clip350)\" d=\"M1264.61 1451.02 L1282.97 1451.02 L1282.97 1454.96 L1268.89 1454.96 L1268.89 1463.43 Q1269.91 1463.08 1270.93 1462.92 Q1271.95 1462.73 1272.97 1462.73 Q1278.75 1462.73 1282.13 1465.9 Q1285.51 1469.08 1285.51 1474.49 Q1285.51 1480.07 1282.04 1483.17 Q1278.57 1486.25 1272.25 1486.25 Q1270.07 1486.25 1267.8 1485.88 Q1265.56 1485.51 1263.15 1484.77 L1263.15 1480.07 Q1265.23 1481.2 1267.46 1481.76 Q1269.68 1482.32 1272.16 1482.32 Q1276.16 1482.32 1278.5 1480.21 Q1280.84 1478.1 1280.84 1474.49 Q1280.84 1470.88 1278.5 1468.77 Q1276.16 1466.67 1272.16 1466.67 Q1270.28 1466.67 1268.41 1467.08 Q1266.55 1467.5 1264.61 1468.38 L1264.61 1451.02 Z\" fill=\"#000000\" fill-rule=\"evenodd\" fill-opacity=\"1\" /><path clip-path=\"url(#clip350)\" d=\"M1294.73 1479.7 L1299.61 1479.7 L1299.61 1485.58 L1294.73 1485.58 L1294.73 1479.7 Z\" fill=\"#000000\" fill-rule=\"evenodd\" fill-opacity=\"1\" /><path clip-path=\"url(#clip350)\" d=\"M1319.79 1454.1 Q1316.18 1454.1 1314.35 1457.66 Q1312.55 1461.2 1312.55 1468.33 Q1312.55 1475.44 1314.35 1479.01 Q1316.18 1482.55 1319.79 1482.55 Q1323.43 1482.55 1325.23 1479.01 Q1327.06 1475.44 1327.06 1468.33 Q1327.06 1461.2 1325.23 1457.66 Q1323.43 1454.1 1319.79 1454.1 M1319.79 1450.39 Q1325.6 1450.39 1328.66 1455 Q1331.74 1459.58 1331.74 1468.33 Q1331.74 1477.06 1328.66 1481.67 Q1325.6 1486.25 1319.79 1486.25 Q1313.98 1486.25 1310.91 1481.67 Q1307.85 1477.06 1307.85 1468.33 Q1307.85 1459.58 1310.91 1455 Q1313.98 1450.39 1319.79 1450.39 Z\" fill=\"#000000\" fill-rule=\"evenodd\" fill-opacity=\"1\" /><path clip-path=\"url(#clip350)\" d=\"M1761.55 1451.02 L1783.78 1451.02 L1783.78 1453.01 L1771.23 1485.58 L1766.34 1485.58 L1778.15 1454.96 L1761.55 1454.96 L1761.55 1451.02 Z\" fill=\"#000000\" fill-rule=\"evenodd\" fill-opacity=\"1\" /><path clip-path=\"url(#clip350)\" d=\"M1792.9 1479.7 L1797.78 1479.7 L1797.78 1485.58 L1792.9 1485.58 L1792.9 1479.7 Z\" fill=\"#000000\" fill-rule=\"evenodd\" fill-opacity=\"1\" /><path clip-path=\"url(#clip350)\" d=\"M1808.01 1451.02 L1826.37 1451.02 L1826.37 1454.96 L1812.29 1454.96 L1812.29 1463.43 Q1813.31 1463.08 1814.33 1462.92 Q1815.35 1462.73 1816.37 1462.73 Q1822.15 1462.73 1825.53 1465.9 Q1828.91 1469.08 1828.91 1474.49 Q1828.91 1480.07 1825.44 1483.17 Q1821.97 1486.25 1815.65 1486.25 Q1813.47 1486.25 1811.21 1485.88 Q1808.96 1485.51 1806.55 1484.77 L1806.55 1480.07 Q1808.64 1481.2 1810.86 1481.76 Q1813.08 1482.32 1815.56 1482.32 Q1819.56 1482.32 1821.9 1480.21 Q1824.24 1478.1 1824.24 1474.49 Q1824.24 1470.88 1821.9 1468.77 Q1819.56 1466.67 1815.56 1466.67 Q1813.68 1466.67 1811.81 1467.08 Q1809.96 1467.5 1808.01 1468.38 L1808.01 1451.02 Z\" fill=\"#000000\" fill-rule=\"evenodd\" fill-opacity=\"1\" /><path clip-path=\"url(#clip350)\" d=\"M2245.09 1481.64 L2252.73 1481.64 L2252.73 1455.28 L2244.42 1456.95 L2244.42 1452.69 L2252.69 1451.02 L2257.36 1451.02 L2257.36 1481.64 L2265 1481.64 L2265 1485.58 L2245.09 1485.58 L2245.09 1481.64 Z\" fill=\"#000000\" fill-rule=\"evenodd\" fill-opacity=\"1\" /><path clip-path=\"url(#clip350)\" d=\"M2284.44 1454.1 Q2280.83 1454.1 2279.01 1457.66 Q2277.2 1461.2 2277.2 1468.33 Q2277.2 1475.44 2279.01 1479.01 Q2280.83 1482.55 2284.44 1482.55 Q2288.08 1482.55 2289.88 1479.01 Q2291.71 1475.44 2291.71 1468.33 Q2291.71 1461.2 2289.88 1457.66 Q2288.08 1454.1 2284.44 1454.1 M2284.44 1450.39 Q2290.26 1450.39 2293.31 1455 Q2296.39 1459.58 2296.39 1468.33 Q2296.39 1477.06 2293.31 1481.67 Q2290.26 1486.25 2284.44 1486.25 Q2278.63 1486.25 2275.56 1481.67 Q2272.5 1477.06 2272.5 1468.33 Q2272.5 1459.58 2275.56 1455 Q2278.63 1450.39 2284.44 1450.39 Z\" fill=\"#000000\" fill-rule=\"evenodd\" fill-opacity=\"1\" /><path clip-path=\"url(#clip350)\" d=\"M2304.61 1479.7 L2309.49 1479.7 L2309.49 1485.58 L2304.61 1485.58 L2304.61 1479.7 Z\" fill=\"#000000\" fill-rule=\"evenodd\" fill-opacity=\"1\" /><path clip-path=\"url(#clip350)\" d=\"M2329.68 1454.1 Q2326.07 1454.1 2324.24 1457.66 Q2322.43 1461.2 2322.43 1468.33 Q2322.43 1475.44 2324.24 1479.01 Q2326.07 1482.55 2329.68 1482.55 Q2333.31 1482.55 2335.12 1479.01 Q2336.94 1475.44 2336.94 1468.33 Q2336.94 1461.2 2335.12 1457.66 Q2333.31 1454.1 2329.68 1454.1 M2329.68 1450.39 Q2335.49 1450.39 2338.54 1455 Q2341.62 1459.58 2341.62 1468.33 Q2341.62 1477.06 2338.54 1481.67 Q2335.49 1486.25 2329.68 1486.25 Q2323.87 1486.25 2320.79 1481.67 Q2317.73 1477.06 2317.73 1468.33 Q2317.73 1459.58 2320.79 1455 Q2323.87 1450.39 2329.68 1450.39 Z\" fill=\"#000000\" fill-rule=\"evenodd\" fill-opacity=\"1\" /><path clip-path=\"url(#clip350)\" d=\"M1184.9 1522.27 L1184.9 1532.4 L1196.96 1532.4 L1196.96 1536.95 L1184.9 1536.95 L1184.9 1556.3 Q1184.9 1560.66 1186.08 1561.9 Q1187.29 1563.14 1190.95 1563.14 L1196.96 1563.14 L1196.96 1568.04 L1190.95 1568.04 Q1184.17 1568.04 1181.59 1565.53 Q1179.01 1562.98 1179.01 1556.3 L1179.01 1536.95 L1174.71 1536.95 L1174.71 1532.4 L1179.01 1532.4 L1179.01 1522.27 L1184.9 1522.27 Z\" fill=\"#000000\" fill-rule=\"evenodd\" fill-opacity=\"1\" /><path clip-path=\"url(#clip350)\" d=\"M1204.67 1532.4 L1210.52 1532.4 L1210.52 1568.04 L1204.67 1568.04 L1204.67 1532.4 M1204.67 1518.52 L1210.52 1518.52 L1210.52 1525.93 L1204.67 1525.93 L1204.67 1518.52 Z\" fill=\"#000000\" fill-rule=\"evenodd\" fill-opacity=\"1\" /><path clip-path=\"url(#clip350)\" d=\"M1250.53 1539.24 Q1252.73 1535.29 1255.78 1533.41 Q1258.84 1531.54 1262.97 1531.54 Q1268.54 1531.54 1271.57 1535.45 Q1274.59 1539.33 1274.59 1546.53 L1274.59 1568.04 L1268.7 1568.04 L1268.7 1546.72 Q1268.7 1541.59 1266.89 1539.11 Q1265.08 1536.63 1261.35 1536.63 Q1256.8 1536.63 1254.16 1539.65 Q1251.52 1542.68 1251.52 1547.9 L1251.52 1568.04 L1245.63 1568.04 L1245.63 1546.72 Q1245.63 1541.56 1243.81 1539.11 Q1242 1536.63 1238.21 1536.63 Q1233.72 1536.63 1231.08 1539.68 Q1228.44 1542.71 1228.44 1547.9 L1228.44 1568.04 L1222.55 1568.04 L1222.55 1532.4 L1228.44 1532.4 L1228.44 1537.93 Q1230.45 1534.66 1233.25 1533.1 Q1236.05 1531.54 1239.9 1531.54 Q1243.78 1531.54 1246.49 1533.51 Q1249.23 1535.48 1250.53 1539.24 Z\" fill=\"#000000\" fill-rule=\"evenodd\" fill-opacity=\"1\" /><path clip-path=\"url(#clip350)\" d=\"M1316.77 1548.76 L1316.77 1551.62 L1289.84 1551.62 Q1290.22 1557.67 1293.47 1560.85 Q1296.75 1564 1302.57 1564 Q1305.94 1564 1309.09 1563.17 Q1312.28 1562.35 1315.4 1560.69 L1315.4 1566.23 Q1312.25 1567.57 1308.94 1568.27 Q1305.63 1568.97 1302.22 1568.97 Q1293.69 1568.97 1288.69 1564 Q1283.73 1559.04 1283.73 1550.57 Q1283.73 1541.82 1288.44 1536.69 Q1293.18 1531.54 1301.2 1531.54 Q1308.39 1531.54 1312.56 1536.18 Q1316.77 1540.8 1316.77 1548.76 M1310.91 1547.04 Q1310.85 1542.23 1308.2 1539.37 Q1305.59 1536.5 1301.26 1536.5 Q1296.36 1536.5 1293.4 1539.27 Q1290.47 1542.04 1290.03 1547.07 L1310.91 1547.04 Z\" fill=\"#000000\" fill-rule=\"evenodd\" fill-opacity=\"1\" /><path clip-path=\"url(#clip350)\" d=\"M1361.17 1518.58 Q1356.9 1525.9 1354.83 1533.06 Q1352.76 1540.23 1352.76 1547.58 Q1352.76 1554.93 1354.83 1562.16 Q1356.93 1569.35 1361.17 1576.64 L1356.07 1576.64 Q1351.3 1569.16 1348.91 1561.93 Q1346.56 1554.71 1346.56 1547.58 Q1346.56 1540.48 1348.91 1533.29 Q1351.27 1526.09 1356.07 1518.58 L1361.17 1518.58 Z\" fill=\"#000000\" fill-rule=\"evenodd\" fill-opacity=\"1\" /><path clip-path=\"url(#clip350)\" d=\"M1395.25 1533.45 L1395.25 1538.98 Q1392.77 1537.71 1390.1 1537.07 Q1387.42 1536.44 1384.56 1536.44 Q1380.2 1536.44 1378 1537.77 Q1375.84 1539.11 1375.84 1541.79 Q1375.84 1543.82 1377.4 1545 Q1378.96 1546.15 1383.67 1547.2 L1385.67 1547.64 Q1391.91 1548.98 1394.52 1551.43 Q1397.16 1553.85 1397.16 1558.21 Q1397.16 1563.17 1393.22 1566.07 Q1389.3 1568.97 1382.43 1568.97 Q1379.56 1568.97 1376.44 1568.39 Q1373.36 1567.85 1369.92 1566.74 L1369.92 1560.69 Q1373.17 1562.38 1376.32 1563.24 Q1379.47 1564.07 1382.55 1564.07 Q1386.69 1564.07 1388.92 1562.66 Q1391.15 1561.23 1391.15 1558.65 Q1391.15 1556.27 1389.53 1554.99 Q1387.93 1553.72 1382.49 1552.54 L1380.45 1552.07 Q1375.01 1550.92 1372.59 1548.56 Q1370.17 1546.18 1370.17 1542.04 Q1370.17 1537.01 1373.74 1534.27 Q1377.3 1531.54 1383.86 1531.54 Q1387.11 1531.54 1389.97 1532.01 Q1392.84 1532.49 1395.25 1533.45 Z\" fill=\"#000000\" fill-rule=\"evenodd\" fill-opacity=\"1\" /><path clip-path=\"url(#clip350)\" d=\"M1405.57 1518.58 L1410.66 1518.58 Q1415.43 1526.09 1417.79 1533.29 Q1420.18 1540.48 1420.18 1547.58 Q1420.18 1554.71 1417.79 1561.93 Q1415.43 1569.16 1410.66 1576.64 L1405.57 1576.64 Q1409.8 1569.35 1411.87 1562.16 Q1413.97 1554.93 1413.97 1547.58 Q1413.97 1540.23 1411.87 1533.06 Q1409.8 1525.9 1405.57 1518.58 Z\" fill=\"#000000\" fill-rule=\"evenodd\" fill-opacity=\"1\" /><polyline clip-path=\"url(#clip352)\" style=\"stroke:#000000; stroke-linecap:round; stroke-linejoin:round; stroke-width:2; stroke-opacity:0.1; fill:none\" points=\"242.135,1153.66 2352.76,1153.66 \"/>\n",
       "<polyline clip-path=\"url(#clip352)\" style=\"stroke:#000000; stroke-linecap:round; stroke-linejoin:round; stroke-width:2; stroke-opacity:0.1; fill:none\" points=\"242.135,822.524 2352.76,822.524 \"/>\n",
       "<polyline clip-path=\"url(#clip352)\" style=\"stroke:#000000; stroke-linecap:round; stroke-linejoin:round; stroke-width:2; stroke-opacity:0.1; fill:none\" points=\"242.135,491.39 2352.76,491.39 \"/>\n",
       "<polyline clip-path=\"url(#clip352)\" style=\"stroke:#000000; stroke-linecap:round; stroke-linejoin:round; stroke-width:2; stroke-opacity:0.1; fill:none\" points=\"242.135,160.256 2352.76,160.256 \"/>\n",
       "<polyline clip-path=\"url(#clip350)\" style=\"stroke:#000000; stroke-linecap:round; stroke-linejoin:round; stroke-width:4; stroke-opacity:1; fill:none\" points=\"242.135,1423.18 242.135,123.472 \"/>\n",
       "<polyline clip-path=\"url(#clip350)\" style=\"stroke:#000000; stroke-linecap:round; stroke-linejoin:round; stroke-width:4; stroke-opacity:1; fill:none\" points=\"242.135,1153.66 261.032,1153.66 \"/>\n",
       "<polyline clip-path=\"url(#clip350)\" style=\"stroke:#000000; stroke-linecap:round; stroke-linejoin:round; stroke-width:4; stroke-opacity:1; fill:none\" points=\"242.135,822.524 261.032,822.524 \"/>\n",
       "<polyline clip-path=\"url(#clip350)\" style=\"stroke:#000000; stroke-linecap:round; stroke-linejoin:round; stroke-width:4; stroke-opacity:1; fill:none\" points=\"242.135,491.39 261.032,491.39 \"/>\n",
       "<polyline clip-path=\"url(#clip350)\" style=\"stroke:#000000; stroke-linecap:round; stroke-linejoin:round; stroke-width:4; stroke-opacity:1; fill:none\" points=\"242.135,160.256 261.032,160.256 \"/>\n",
       "<path clip-path=\"url(#clip350)\" d=\"M114.26 1154.11 L143.936 1154.11 L143.936 1158.04 L114.26 1158.04 L114.26 1154.11 Z\" fill=\"#000000\" fill-rule=\"evenodd\" fill-opacity=\"1\" /><path clip-path=\"url(#clip350)\" d=\"M154.839 1167 L162.477 1167 L162.477 1140.64 L154.167 1142.3 L154.167 1138.04 L162.431 1136.38 L167.107 1136.38 L167.107 1167 L174.746 1167 L174.746 1170.94 L154.839 1170.94 L154.839 1167 Z\" fill=\"#000000\" fill-rule=\"evenodd\" fill-opacity=\"1\" /><path clip-path=\"url(#clip350)\" d=\"M194.19 1139.46 Q190.579 1139.46 188.75 1143.02 Q186.945 1146.56 186.945 1153.69 Q186.945 1160.8 188.75 1164.36 Q190.579 1167.91 194.19 1167.91 Q197.825 1167.91 199.63 1164.36 Q201.459 1160.8 201.459 1153.69 Q201.459 1146.56 199.63 1143.02 Q197.825 1139.46 194.19 1139.46 M194.19 1135.75 Q200 1135.75 203.056 1140.36 Q206.135 1144.94 206.135 1153.69 Q206.135 1162.42 203.056 1167.03 Q200 1171.61 194.19 1171.61 Q188.38 1171.61 185.301 1167.03 Q182.246 1162.42 182.246 1153.69 Q182.246 1144.94 185.301 1140.36 Q188.38 1135.75 194.19 1135.75 Z\" fill=\"#000000\" fill-rule=\"evenodd\" fill-opacity=\"1\" /><path clip-path=\"url(#clip350)\" d=\"M194.19 808.323 Q190.579 808.323 188.75 811.888 Q186.945 815.429 186.945 822.559 Q186.945 829.665 188.75 833.23 Q190.579 836.772 194.19 836.772 Q197.825 836.772 199.63 833.23 Q201.459 829.665 201.459 822.559 Q201.459 815.429 199.63 811.888 Q197.825 808.323 194.19 808.323 M194.19 804.619 Q200 804.619 203.056 809.226 Q206.135 813.809 206.135 822.559 Q206.135 831.286 203.056 835.892 Q200 840.476 194.19 840.476 Q188.38 840.476 185.301 835.892 Q182.246 831.286 182.246 822.559 Q182.246 813.809 185.301 809.226 Q188.38 804.619 194.19 804.619 Z\" fill=\"#000000\" fill-rule=\"evenodd\" fill-opacity=\"1\" /><path clip-path=\"url(#clip350)\" d=\"M154.839 504.735 L162.477 504.735 L162.477 478.37 L154.167 480.036 L154.167 475.777 L162.431 474.11 L167.107 474.11 L167.107 504.735 L174.746 504.735 L174.746 508.67 L154.839 508.67 L154.839 504.735 Z\" fill=\"#000000\" fill-rule=\"evenodd\" fill-opacity=\"1\" /><path clip-path=\"url(#clip350)\" d=\"M194.19 477.189 Q190.579 477.189 188.75 480.754 Q186.945 484.295 186.945 491.425 Q186.945 498.531 188.75 502.096 Q190.579 505.638 194.19 505.638 Q197.825 505.638 199.63 502.096 Q201.459 498.531 201.459 491.425 Q201.459 484.295 199.63 480.754 Q197.825 477.189 194.19 477.189 M194.19 473.485 Q200 473.485 203.056 478.092 Q206.135 482.675 206.135 491.425 Q206.135 500.152 203.056 504.758 Q200 509.342 194.19 509.342 Q188.38 509.342 185.301 504.758 Q182.246 500.152 182.246 491.425 Q182.246 482.675 185.301 478.092 Q188.38 473.485 194.19 473.485 Z\" fill=\"#000000\" fill-rule=\"evenodd\" fill-opacity=\"1\" /><path clip-path=\"url(#clip350)\" d=\"M158.056 173.601 L174.376 173.601 L174.376 177.536 L152.431 177.536 L152.431 173.601 Q155.093 170.847 159.677 166.217 Q164.283 161.564 165.464 160.222 Q167.709 157.698 168.589 155.962 Q169.491 154.203 169.491 152.513 Q169.491 149.759 167.547 148.023 Q165.626 146.286 162.524 146.286 Q160.325 146.286 157.871 147.05 Q155.44 147.814 152.663 149.365 L152.663 144.643 Q155.487 143.509 157.94 142.93 Q160.394 142.351 162.431 142.351 Q167.802 142.351 170.996 145.036 Q174.19 147.722 174.19 152.212 Q174.19 154.342 173.38 156.263 Q172.593 158.161 170.487 160.754 Q169.908 161.425 166.806 164.643 Q163.704 167.837 158.056 173.601 Z\" fill=\"#000000\" fill-rule=\"evenodd\" fill-opacity=\"1\" /><path clip-path=\"url(#clip350)\" d=\"M194.19 146.055 Q190.579 146.055 188.75 149.62 Q186.945 153.161 186.945 160.291 Q186.945 167.397 188.75 170.962 Q190.579 174.504 194.19 174.504 Q197.825 174.504 199.63 170.962 Q201.459 167.397 201.459 160.291 Q201.459 153.161 199.63 149.62 Q197.825 146.055 194.19 146.055 M194.19 142.351 Q200 142.351 203.056 146.958 Q206.135 151.541 206.135 160.291 Q206.135 169.018 203.056 173.624 Q200 178.208 194.19 178.208 Q188.38 178.208 185.301 173.624 Q182.246 169.018 182.246 160.291 Q182.246 151.541 185.301 146.958 Q188.38 142.351 194.19 142.351 Z\" fill=\"#000000\" fill-rule=\"evenodd\" fill-opacity=\"1\" /><path clip-path=\"url(#clip350)\" d=\"M28.3562 756.711 L45.7028 769.602 L64.0042 756.043 L64.0042 762.95 L49.9996 773.326 L64.0042 783.702 L64.0042 790.609 L45.3526 776.763 L28.3562 789.431 L28.3562 782.524 L41.0558 773.071 L28.3562 763.618 L28.3562 756.711 Z\" fill=\"#000000\" fill-rule=\"evenodd\" fill-opacity=\"1\" /><path clip-path=\"url(#clip350)\" d=\"M1069.78 14.0809 L1069.78 22.0612 Q1065.13 19.8332 1060.99 18.7395 Q1056.86 17.6457 1053.01 17.6457 Q1046.33 17.6457 1042.68 20.2383 Q1039.08 22.8309 1039.08 27.611 Q1039.08 31.6214 1041.47 33.6873 Q1043.9 35.7128 1050.62 36.9686 L1055.57 37.9813 Q1064.72 39.7232 1069.06 44.1387 Q1073.43 48.5136 1073.43 55.8863 Q1073.43 64.6767 1067.52 69.2137 Q1061.64 73.7508 1050.26 73.7508 Q1045.97 73.7508 1041.1 72.7785 Q1036.28 71.8063 1031.1 69.9024 L1031.1 61.4765 Q1036.08 64.2716 1040.86 65.6895 Q1045.64 67.1073 1050.26 67.1073 Q1057.27 67.1073 1061.08 64.3527 Q1064.88 61.598 1064.88 56.4939 Q1064.88 52.0379 1062.13 49.5264 Q1059.41 47.0148 1053.18 45.759 L1048.19 44.7868 Q1039.04 42.9639 1034.95 39.075 Q1030.86 35.1862 1030.86 28.2591 Q1030.86 20.2383 1036.49 15.6203 Q1042.16 11.0023 1052.08 11.0023 Q1056.34 11.0023 1060.75 11.7719 Q1065.17 12.5416 1069.78 14.0809 Z\" fill=\"#000000\" fill-rule=\"evenodd\" fill-opacity=\"1\" /><path clip-path=\"url(#clip350)\" d=\"M1093.24 14.324 L1093.24 27.2059 L1108.59 27.2059 L1108.59 32.9987 L1093.24 32.9987 L1093.24 57.6282 Q1093.24 63.1779 1094.74 64.7578 Q1096.28 66.3376 1100.94 66.3376 L1108.59 66.3376 L1108.59 72.576 L1100.94 72.576 Q1092.31 72.576 1089.03 69.3758 Q1085.75 66.1351 1085.75 57.6282 L1085.75 32.9987 L1080.28 32.9987 L1080.28 27.2059 L1085.75 27.2059 L1085.75 14.324 L1093.24 14.324 Z\" fill=\"#000000\" fill-rule=\"evenodd\" fill-opacity=\"1\" /><path clip-path=\"url(#clip350)\" d=\"M1139.01 49.7694 Q1129.98 49.7694 1126.5 51.8354 Q1123.01 53.9013 1123.01 58.8839 Q1123.01 62.8538 1125.61 65.2034 Q1128.24 67.5124 1132.74 67.5124 Q1138.93 67.5124 1142.66 63.1374 Q1146.43 58.7219 1146.43 51.4303 L1146.43 49.7694 L1139.01 49.7694 M1153.88 46.6907 L1153.88 72.576 L1146.43 72.576 L1146.43 65.6895 Q1143.88 69.8214 1140.07 71.8063 Q1136.26 73.7508 1130.75 73.7508 Q1123.78 73.7508 1119.65 69.8619 Q1115.56 65.9325 1115.56 59.3701 Q1115.56 51.7138 1120.66 47.825 Q1125.81 43.9361 1135.98 43.9361 L1146.43 43.9361 L1146.43 43.2069 Q1146.43 38.0623 1143.02 35.2672 Q1139.66 32.4315 1133.55 32.4315 Q1129.66 32.4315 1125.97 33.3632 Q1122.28 34.295 1118.88 36.1584 L1118.88 29.2718 Q1122.97 27.692 1126.82 26.9223 Q1130.67 26.1121 1134.32 26.1121 Q1144.16 26.1121 1149.02 31.2163 Q1153.88 36.3204 1153.88 46.6907 Z\" fill=\"#000000\" fill-rule=\"evenodd\" fill-opacity=\"1\" /><path clip-path=\"url(#clip350)\" d=\"M1176.61 14.324 L1176.61 27.2059 L1191.96 27.2059 L1191.96 32.9987 L1176.61 32.9987 L1176.61 57.6282 Q1176.61 63.1779 1178.11 64.7578 Q1179.64 66.3376 1184.3 66.3376 L1191.96 66.3376 L1191.96 72.576 L1184.3 72.576 Q1175.68 72.576 1172.39 69.3758 Q1169.11 66.1351 1169.11 57.6282 L1169.11 32.9987 L1163.64 32.9987 L1163.64 27.2059 L1169.11 27.2059 L1169.11 14.324 L1176.61 14.324 Z\" fill=\"#000000\" fill-rule=\"evenodd\" fill-opacity=\"1\" /><path clip-path=\"url(#clip350)\" d=\"M1240.57 48.0275 L1240.57 51.6733 L1206.3 51.6733 Q1206.79 59.3701 1210.92 63.421 Q1215.09 67.4314 1222.5 67.4314 Q1226.8 67.4314 1230.81 66.3781 Q1234.86 65.3249 1238.83 63.2184 L1238.83 70.267 Q1234.82 71.9684 1230.61 72.8596 Q1226.39 73.7508 1222.06 73.7508 Q1211.2 73.7508 1204.84 67.4314 Q1198.52 61.1119 1198.52 50.3365 Q1198.52 39.1965 1204.52 32.6746 Q1210.55 26.1121 1220.76 26.1121 Q1229.92 26.1121 1235.22 32.0264 Q1240.57 37.9003 1240.57 48.0275 M1233.12 45.84 Q1233.04 39.7232 1229.67 36.0774 Q1226.35 32.4315 1220.84 32.4315 Q1214.6 32.4315 1210.84 35.9558 Q1207.11 39.4801 1206.54 45.8805 L1233.12 45.84 Z\" fill=\"#000000\" fill-rule=\"evenodd\" fill-opacity=\"1\" /><path clip-path=\"url(#clip350)\" d=\"M1279.5 12.096 L1287.68 12.096 L1287.68 36.8875 L1317.42 36.8875 L1317.42 12.096 L1325.6 12.096 L1325.6 72.576 L1317.42 72.576 L1317.42 43.7741 L1287.68 43.7741 L1287.68 72.576 L1279.5 72.576 L1279.5 12.096 Z\" fill=\"#000000\" fill-rule=\"evenodd\" fill-opacity=\"1\" /><path clip-path=\"url(#clip350)\" d=\"M1341.56 27.2059 L1349.01 27.2059 L1349.01 72.576 L1341.56 72.576 L1341.56 27.2059 M1341.56 9.54393 L1349.01 9.54393 L1349.01 18.9825 L1341.56 18.9825 L1341.56 9.54393 Z\" fill=\"#000000\" fill-rule=\"evenodd\" fill-opacity=\"1\" /><path clip-path=\"url(#clip350)\" d=\"M1393.53 28.5427 L1393.53 35.5912 Q1390.37 33.9709 1386.97 33.1607 Q1383.57 32.3505 1379.92 32.3505 Q1374.37 32.3505 1371.58 34.0519 Q1368.82 35.7533 1368.82 39.156 Q1368.82 41.7486 1370.81 43.2475 Q1372.79 44.7058 1378.79 46.0426 L1381.34 46.6097 Q1389.28 48.3111 1392.6 51.4303 Q1395.96 54.509 1395.96 60.0587 Q1395.96 66.3781 1390.94 70.0644 Q1385.96 73.7508 1377.21 73.7508 Q1373.56 73.7508 1369.59 73.0216 Q1365.66 72.3329 1361.29 70.9151 L1361.29 63.2184 Q1365.42 65.3654 1369.43 66.4591 Q1373.44 67.5124 1377.37 67.5124 Q1382.64 67.5124 1385.47 65.73 Q1388.31 63.9071 1388.31 60.6258 Q1388.31 57.5877 1386.24 55.9673 Q1384.22 54.3469 1377.29 52.8481 L1374.7 52.2405 Q1367.77 50.7821 1364.69 47.7845 Q1361.61 44.7463 1361.61 39.4801 Q1361.61 33.0797 1366.15 29.5959 Q1370.69 26.1121 1379.03 26.1121 Q1383.16 26.1121 1386.81 26.7198 Q1390.45 27.3274 1393.53 28.5427 Z\" fill=\"#000000\" fill-rule=\"evenodd\" fill-opacity=\"1\" /><path clip-path=\"url(#clip350)\" d=\"M1415.21 14.324 L1415.21 27.2059 L1430.56 27.2059 L1430.56 32.9987 L1415.21 32.9987 L1415.21 57.6282 Q1415.21 63.1779 1416.7 64.7578 Q1418.24 66.3376 1422.9 66.3376 L1430.56 66.3376 L1430.56 72.576 L1422.9 72.576 Q1414.27 72.576 1410.99 69.3758 Q1407.71 66.1351 1407.71 57.6282 L1407.71 32.9987 L1402.24 32.9987 L1402.24 27.2059 L1407.71 27.2059 L1407.71 14.324 L1415.21 14.324 Z\" fill=\"#000000\" fill-rule=\"evenodd\" fill-opacity=\"1\" /><path clip-path=\"url(#clip350)\" d=\"M1457.94 32.4315 Q1451.95 32.4315 1448.46 37.1306 Q1444.98 41.7891 1444.98 49.9314 Q1444.98 58.0738 1448.42 62.7728 Q1451.91 67.4314 1457.94 67.4314 Q1463.9 67.4314 1467.38 62.7323 Q1470.86 58.0333 1470.86 49.9314 Q1470.86 41.8701 1467.38 37.1711 Q1463.9 32.4315 1457.94 32.4315 M1457.94 26.1121 Q1467.66 26.1121 1473.21 32.4315 Q1478.76 38.7509 1478.76 49.9314 Q1478.76 61.0714 1473.21 67.4314 Q1467.66 73.7508 1457.94 73.7508 Q1448.18 73.7508 1442.63 67.4314 Q1437.12 61.0714 1437.12 49.9314 Q1437.12 38.7509 1442.63 32.4315 Q1448.18 26.1121 1457.94 26.1121 Z\" fill=\"#000000\" fill-rule=\"evenodd\" fill-opacity=\"1\" /><path clip-path=\"url(#clip350)\" d=\"M1517.41 34.1734 Q1516.15 33.4443 1514.65 33.1202 Q1513.2 32.7556 1511.41 32.7556 Q1505.09 32.7556 1501.69 36.8875 Q1498.33 40.9789 1498.33 48.6757 L1498.33 72.576 L1490.84 72.576 L1490.84 27.2059 L1498.33 27.2059 L1498.33 34.2544 Q1500.68 30.1225 1504.45 28.1376 Q1508.21 26.1121 1513.6 26.1121 Q1514.37 26.1121 1515.3 26.2337 Q1516.23 26.3147 1517.37 26.5172 L1517.41 34.1734 Z\" fill=\"#000000\" fill-rule=\"evenodd\" fill-opacity=\"1\" /><path clip-path=\"url(#clip350)\" d=\"M1544.1 76.7889 Q1540.95 84.8907 1537.95 87.3618 Q1534.95 89.8329 1529.93 89.8329 L1523.97 89.8329 L1523.97 83.5945 L1528.35 83.5945 Q1531.43 83.5945 1533.13 82.1361 Q1534.83 80.6778 1536.89 75.2496 L1538.23 71.8468 L1519.88 27.2059 L1527.78 27.2059 L1541.96 62.6918 L1556.14 27.2059 L1564.04 27.2059 L1544.1 76.7889 Z\" fill=\"#000000\" fill-rule=\"evenodd\" fill-opacity=\"1\" /><polyline clip-path=\"url(#clip352)\" style=\"stroke:#009af9; stroke-linecap:round; stroke-linejoin:round; stroke-width:4; stroke-opacity:1; fill:none\" points=\"301.869,690.071 321.781,695.025 341.692,699.953 361.604,704.855 381.515,709.732 401.427,714.583 421.338,719.41 441.25,724.212 461.161,728.989 481.073,733.743 500.984,738.472 520.896,743.177 540.807,747.86 560.719,752.519 580.631,757.155 600.542,761.768 620.454,766.359 640.365,770.928 660.277,775.474 680.188,779.999 700.1,784.503 720.011,788.986 739.923,793.447 759.834,797.888 779.746,802.308 799.657,806.709 819.569,811.089 839.48,815.45 859.392,819.791 879.303,824.113 899.215,828.417 919.126,832.701 939.038,836.968 958.949,841.216 978.861,845.446 998.772,849.659 1018.68,853.854 1038.6,858.032 1058.51,862.193 1078.42,866.338 1098.33,870.466 1118.24,874.578 1138.15,878.674 1158.06,882.755 1177.98,886.82 1197.89,890.87 1217.8,894.906 1237.71,898.926 1257.62,902.933 1277.53,906.925 1297.45,910.903 1317.36,914.868 1337.27,918.82 1357.18,922.758 1377.09,926.684 1397,930.597 1416.91,934.497 1436.83,938.386 1456.74,942.263 1476.65,946.128 1496.56,949.982 1516.47,953.824 1536.38,957.656 1556.3,961.478 1576.21,965.289 1596.12,969.09 1616.03,972.881 1635.94,976.662 1655.85,980.435 1675.76,984.198 1695.68,987.952 1715.59,991.698 1735.5,995.436 1755.41,999.165 1775.32,1002.89 1795.23,1006.6 1815.14,1010.31 1835.06,1014.01 1854.97,1017.7 1874.88,1021.39 1894.79,1025.07 1914.7,1028.74 1934.61,1032.41 1954.53,1036.07 1974.44,1039.73 1994.35,1043.38 2014.26,1047.03 2034.17,1050.67 2054.08,1054.31 2073.99,1057.94 2093.91,1061.58 2113.82,1065.2 2133.73,1068.83 2153.64,1072.45 2173.55,1076.06 2193.46,1079.68 2213.38,1083.29 2233.29,1086.9 2253.2,1090.51 2273.11,1094.12 2293.02,1097.73 \"/>\n",
       "<polyline clip-path=\"url(#clip352)\" style=\"stroke:#e26f46; stroke-linecap:round; stroke-linejoin:round; stroke-width:4; stroke-opacity:1; fill:none\" points=\"301.869,756.297 321.781,753 341.692,749.732 361.604,746.491 381.515,743.278 401.427,740.093 421.338,736.934 441.25,733.803 461.161,730.698 481.073,727.62 500.984,724.567 520.896,721.541 540.807,718.539 560.719,715.563 580.631,712.612 600.542,709.685 620.454,706.782 640.365,703.903 660.277,701.048 680.188,698.216 700.1,695.407 720.011,692.621 739.923,689.858 759.834,687.116 779.746,684.397 799.657,681.699 819.569,679.022 839.48,676.367 859.392,673.732 879.303,671.117 899.215,668.523 919.126,665.948 939.038,663.393 958.949,660.858 978.861,658.341 998.772,655.843 1018.68,653.363 1038.6,650.901 1058.51,648.457 1078.42,646.031 1098.33,643.622 1118.24,641.229 1138.15,638.854 1158.06,636.494 1177.98,634.151 1197.89,631.823 1217.8,629.511 1237.71,627.214 1257.62,624.932 1277.53,622.665 1297.45,620.412 1317.36,618.173 1337.27,615.948 1357.18,613.736 1377.09,611.537 1397,609.351 1416.91,607.178 1436.83,605.017 1456.74,602.868 1476.65,600.731 1496.56,598.605 1516.47,596.491 1536.38,594.387 1556.3,592.294 1576.21,590.211 1596.12,588.138 1616.03,586.075 1635.94,584.021 1655.85,581.977 1675.76,579.941 1695.68,577.914 1715.59,575.896 1735.5,573.885 1755.41,571.882 1775.32,569.886 1795.23,567.898 1815.14,565.917 1835.06,563.942 1854.97,561.973 1874.88,560.011 1894.79,558.054 1914.7,556.103 1934.61,554.157 1954.53,552.215 1974.44,550.279 1994.35,548.346 2014.26,546.418 2034.17,544.494 2054.08,542.573 2073.99,540.655 2093.91,538.741 2113.82,536.828 2133.73,534.919 2153.64,533.011 2173.55,531.105 2193.46,529.201 2213.38,527.298 2233.29,525.396 2253.2,523.494 2273.11,521.593 2293.02,519.692 \"/>\n",
       "<polyline clip-path=\"url(#clip352)\" style=\"stroke:#3da44d; stroke-linecap:round; stroke-linejoin:round; stroke-width:4; stroke-opacity:1; fill:none\" points=\"301.869,160.256 321.781,168.425 341.692,176.378 361.604,184.124 381.515,191.672 401.427,199.029 421.338,206.205 441.25,213.208 461.161,220.046 481.073,226.728 500.984,233.262 520.896,239.656 540.807,245.92 560.719,252.061 580.631,258.088 600.542,264.01 620.454,269.834 640.365,275.569 660.277,281.225 680.188,286.808 700.1,292.328 720.011,297.794 739.923,303.213 759.834,308.593 779.746,313.945 799.657,319.275 819.569,324.593 839.48,329.906 859.392,335.224 879.303,340.555 899.215,345.907 919.126,351.288 939.038,356.708 958.949,362.174 978.861,367.696 998.772,373.281 1018.68,378.937 1038.6,384.675 1058.51,390.501 1078.42,396.425 1098.33,402.454 1118.24,408.598 1138.15,414.865 1158.06,421.263 1177.98,427.801 1197.89,434.487 1217.8,441.329 1237.71,448.337 1257.62,455.518 1277.53,462.881 1297.45,470.435 1317.36,478.188 1337.27,486.148 1357.18,494.325 1377.09,502.725 1397,511.359 1416.91,520.234 1436.83,529.359 1456.74,538.742 1476.65,548.392 1496.56,558.317 1516.47,568.526 1536.38,579.027 1556.3,589.829 1576.21,600.94 1596.12,612.369 1616.03,624.123 1635.94,636.213 1655.85,648.645 1675.76,661.429 1695.68,674.573 1715.59,688.085 1735.5,701.974 1755.41,716.249 1775.32,730.918 1795.23,745.989 1815.14,761.471 1835.06,777.372 1854.97,793.701 1874.88,810.466 1894.79,827.676 1914.7,845.34 1934.61,863.465 1954.53,882.06 1974.44,901.134 1994.35,920.695 2014.26,940.751 2034.17,961.312 2054.08,982.385 2073.99,1003.98 2093.91,1026.1 2113.82,1048.76 2133.73,1071.97 2153.64,1095.74 2173.55,1120.06 2193.46,1144.96 2213.38,1170.44 2233.29,1196.51 2253.2,1223.17 2273.11,1250.44 2293.02,1278.33 \"/>\n",
       "<polyline clip-path=\"url(#clip352)\" style=\"stroke:#c271d2; stroke-linecap:round; stroke-linejoin:round; stroke-width:4; stroke-opacity:1; fill:none\" points=\"301.869,921.864 321.781,921.343 341.692,920.826 361.604,920.314 381.515,919.807 401.427,919.305 421.338,918.809 441.25,918.317 461.161,917.83 481.073,917.349 500.984,916.872 520.896,916.401 540.807,915.934 560.719,915.473 580.631,915.016 600.542,914.565 620.454,914.119 640.365,913.678 660.277,913.242 680.188,912.81 700.1,912.384 720.011,911.963 739.923,911.548 759.834,911.137 779.746,910.731 799.657,910.33 819.569,909.934 839.48,909.544 859.392,909.158 879.303,908.778 899.215,908.402 919.126,908.032 939.038,907.667 958.949,907.306 978.861,906.951 998.772,906.601 1018.68,906.256 1038.6,905.916 1058.51,905.581 1078.42,905.251 1098.33,904.926 1118.24,904.606 1138.15,904.292 1158.06,903.982 1177.98,903.677 1197.89,903.378 1217.8,903.083 1237.71,902.794 1257.62,902.509 1277.53,902.23 1297.45,901.955 1317.36,901.686 1337.27,901.422 1357.18,901.163 1377.09,900.908 1397,900.659 1416.91,900.415 1436.83,900.176 1456.74,899.942 1476.65,899.713 1496.56,899.489 1516.47,899.27 1536.38,899.056 1556.3,898.847 1576.21,898.643 1596.12,898.445 1616.03,898.251 1635.94,898.062 1655.85,897.878 1675.76,897.699 1695.68,897.526 1715.59,897.357 1735.5,897.193 1755.41,897.034 1775.32,896.881 1795.23,896.732 1815.14,896.588 1835.06,896.45 1854.97,896.316 1874.88,896.187 1894.79,896.063 1914.7,895.945 1934.61,895.831 1954.53,895.722 1974.44,895.618 1994.35,895.52 2014.26,895.426 2034.17,895.337 2054.08,895.253 2073.99,895.174 2093.91,895.1 2113.82,895.031 2133.73,894.968 2153.64,894.909 2173.55,894.854 2193.46,894.805 2213.38,894.761 2233.29,894.722 2253.2,894.688 2273.11,894.659 2293.02,894.634 \"/>\n",
       "<polyline clip-path=\"url(#clip352)\" style=\"stroke:#ac8d18; stroke-linecap:round; stroke-linejoin:round; stroke-width:4; stroke-opacity:1; fill:none\" points=\"301.869,756.297 321.781,756.868 341.692,757.432 361.604,757.99 381.515,758.543 401.427,759.089 421.338,759.63 441.25,760.165 461.161,760.693 481.073,761.216 500.984,761.733 520.896,762.244 540.807,762.749 560.719,763.249 580.631,763.742 600.542,764.229 620.454,764.711 640.365,765.187 660.277,765.656 680.188,766.12 700.1,766.578 720.011,767.03 739.923,767.477 759.834,767.917 779.746,768.352 799.657,768.78 819.569,769.203 839.48,769.62 859.392,770.031 879.303,770.437 899.215,770.836 919.126,771.23 939.038,771.618 958.949,771.999 978.861,772.376 998.772,772.746 1018.68,773.11 1038.6,773.469 1058.51,773.822 1078.42,774.169 1098.33,774.51 1118.24,774.846 1138.15,775.175 1158.06,775.499 1177.98,775.817 1197.89,776.13 1217.8,776.436 1237.71,776.737 1257.62,777.032 1277.53,777.321 1297.45,777.604 1317.36,777.882 1337.27,778.154 1357.18,778.42 1377.09,778.681 1397,778.935 1416.91,779.184 1436.83,779.427 1456.74,779.665 1476.65,779.897 1496.56,780.123 1516.47,780.343 1536.38,780.557 1556.3,780.766 1576.21,780.969 1596.12,781.167 1616.03,781.358 1635.94,781.544 1655.85,781.725 1675.76,781.899 1695.68,782.068 1715.59,782.231 1735.5,782.389 1755.41,782.541 1775.32,782.687 1795.23,782.828 1815.14,782.962 1835.06,783.092 1854.97,783.215 1874.88,783.333 1894.79,783.445 1914.7,783.552 1934.61,783.653 1954.53,783.748 1974.44,783.837 1994.35,783.921 2014.26,784 2034.17,784.073 2054.08,784.14 2073.99,784.201 2093.91,784.257 2113.82,784.307 2133.73,784.352 2153.64,784.391 2173.55,784.424 2193.46,784.452 2213.38,784.474 2233.29,784.491 2253.2,784.502 2273.11,784.507 2293.02,784.507 \"/>\n",
       "<polyline clip-path=\"url(#clip352)\" style=\"stroke:#00a9ad; stroke-linecap:round; stroke-linejoin:round; stroke-width:4; stroke-opacity:1; fill:none\" points=\"301.869,988.091 321.781,983.699 341.692,979.475 361.604,975.421 381.515,971.535 401.427,967.818 421.338,964.27 441.25,960.891 461.161,957.68 481.073,954.639 500.984,951.766 520.896,949.063 540.807,946.528 560.719,944.163 580.631,941.966 600.542,939.939 620.454,938.08 640.365,936.391 660.277,934.87 680.188,933.519 700.1,932.337 720.011,931.324 739.923,930.479 759.834,929.804 779.746,929.299 799.657,928.962 819.569,928.794 839.48,928.796 859.392,928.967 879.303,929.307 899.215,929.816 919.126,930.494 939.038,931.342 958.949,932.359 978.861,933.545 998.772,934.9 1018.68,936.425 1038.6,938.119 1058.51,939.982 1078.42,942.015 1098.33,944.217 1118.24,946.588 1138.15,949.128 1158.06,951.838 1177.98,954.717 1197.89,957.766 1217.8,960.984 1237.71,964.371 1257.62,967.928 1277.53,971.654 1297.45,975.549 1317.36,979.614 1337.27,983.848 1357.18,988.252 1377.09,992.825 1397,997.568 1416.91,1002.48 1436.83,1007.56 1456.74,1012.81 1476.65,1018.23 1496.56,1023.82 1516.47,1029.58 1536.38,1035.51 1556.3,1041.61 1576.21,1047.88 1596.12,1054.32 1616.03,1060.92 1635.94,1067.7 1655.85,1074.64 1675.76,1081.76 1695.68,1089.04 1715.59,1096.5 1735.5,1104.12 1755.41,1111.92 1775.32,1119.88 1795.23,1128.01 1815.14,1136.31 1835.06,1144.78 1854.97,1153.43 1874.88,1162.24 1894.79,1171.22 1914.7,1180.37 1934.61,1189.68 1954.53,1199.17 1974.44,1208.83 1994.35,1218.66 2014.26,1228.65 2034.17,1238.82 2054.08,1249.16 2073.99,1259.66 2093.91,1270.34 2113.82,1281.18 2133.73,1292.19 2153.64,1303.38 2173.55,1314.73 2193.46,1326.25 2213.38,1337.94 2233.29,1349.8 2253.2,1361.83 2273.11,1374.03 2293.02,1386.4 \"/>\n",
       "<path clip-path=\"url(#clip350)\" d=\"M2028.05 529.676 L2282.4 529.676 L2282.4 166.796 L2028.05 166.796  Z\" fill=\"#ffffff\" fill-rule=\"evenodd\" fill-opacity=\"1\"/>\n",
       "<polyline clip-path=\"url(#clip350)\" style=\"stroke:#000000; stroke-linecap:round; stroke-linejoin:round; stroke-width:4; stroke-opacity:1; fill:none\" points=\"2028.05,529.676 2282.4,529.676 2282.4,166.796 2028.05,166.796 2028.05,529.676 \"/>\n",
       "<polyline clip-path=\"url(#clip350)\" style=\"stroke:#009af9; stroke-linecap:round; stroke-linejoin:round; stroke-width:4; stroke-opacity:1; fill:none\" points=\"2051.5,218.636 2192.21,218.636 \"/>\n",
       "<path clip-path=\"url(#clip350)\" d=\"M2240.32 209.99 L2230.94 222.606 L2240.8 235.916 L2235.78 235.916 L2228.23 225.731 L2220.69 235.916 L2215.66 235.916 L2225.73 222.351 L2216.52 209.99 L2221.54 209.99 L2228.42 219.226 L2235.29 209.99 L2240.32 209.99 Z\" fill=\"#000000\" fill-rule=\"evenodd\" fill-opacity=\"1\" /><path clip-path=\"url(#clip350)\" d=\"M2245.96 233.369 L2250.69 233.369 L2250.69 219.226 L2245.52 220.175 L2245.52 217.49 L2250.85 216.587 L2254.02 216.587 L2254.02 233.369 L2258.77 233.369 L2258.77 235.916 L2245.96 235.916 L2245.96 233.369 Z\" fill=\"#000000\" fill-rule=\"evenodd\" fill-opacity=\"1\" /><polyline clip-path=\"url(#clip350)\" style=\"stroke:#e26f46; stroke-linecap:round; stroke-linejoin:round; stroke-width:4; stroke-opacity:1; fill:none\" points=\"2051.5,270.476 2192.21,270.476 \"/>\n",
       "<path clip-path=\"url(#clip350)\" d=\"M2240.32 261.83 L2230.94 274.446 L2240.8 287.756 L2235.78 287.756 L2228.23 277.571 L2220.69 287.756 L2215.66 287.756 L2225.73 274.191 L2216.52 261.83 L2221.54 261.83 L2228.42 271.066 L2235.29 261.83 L2240.32 261.83 Z\" fill=\"#000000\" fill-rule=\"evenodd\" fill-opacity=\"1\" /><path clip-path=\"url(#clip350)\" d=\"M2248.56 285.117 L2258.37 285.117 L2258.37 287.756 L2244.53 287.756 L2244.53 285.209 Q2245.32 284.492 2246.77 283.196 Q2254.74 276.135 2254.74 273.959 Q2254.74 272.432 2253.53 271.506 Q2252.33 270.557 2250.36 270.557 Q2249.16 270.557 2247.75 270.973 Q2246.33 271.367 2244.67 272.177 L2244.67 269.33 Q2246.45 268.682 2247.98 268.358 Q2249.53 268.034 2250.85 268.034 Q2254.21 268.034 2256.22 269.561 Q2258.23 271.089 2258.23 273.589 Q2258.23 276.807 2250.57 283.381 Q2249.27 284.492 2248.56 285.117 Z\" fill=\"#000000\" fill-rule=\"evenodd\" fill-opacity=\"1\" /><polyline clip-path=\"url(#clip350)\" style=\"stroke:#3da44d; stroke-linecap:round; stroke-linejoin:round; stroke-width:4; stroke-opacity:1; fill:none\" points=\"2051.5,322.316 2192.21,322.316 \"/>\n",
       "<path clip-path=\"url(#clip350)\" d=\"M2240.32 313.67 L2230.94 326.286 L2240.8 339.596 L2235.78 339.596 L2228.23 329.411 L2220.69 339.596 L2215.66 339.596 L2225.73 326.031 L2216.52 313.67 L2221.54 313.67 L2228.42 322.906 L2235.29 313.67 L2240.32 313.67 Z\" fill=\"#000000\" fill-rule=\"evenodd\" fill-opacity=\"1\" /><path clip-path=\"url(#clip350)\" d=\"M2254.48 329.133 Q2256.61 329.549 2257.77 330.823 Q2258.95 332.073 2258.95 333.971 Q2258.95 336.841 2256.75 338.392 Q2254.55 339.943 2250.46 339.943 Q2249.14 339.943 2247.68 339.688 Q2246.24 339.457 2244.62 338.994 L2244.62 336.193 Q2245.83 336.818 2247.19 337.119 Q2248.58 337.42 2250.13 337.42 Q2252.65 337.42 2254.04 336.517 Q2255.43 335.591 2255.43 333.971 Q2255.43 332.258 2254.14 331.378 Q2252.86 330.499 2250.36 330.499 L2248.37 330.499 L2248.37 327.999 L2250.55 327.999 Q2252.72 327.999 2253.83 327.281 Q2254.97 326.54 2254.97 325.151 Q2254.97 323.809 2253.81 323.114 Q2252.65 322.397 2250.46 322.397 Q2249.53 322.397 2248.35 322.605 Q2247.17 322.813 2245.29 323.346 L2245.29 320.684 Q2246.98 320.29 2248.46 320.082 Q2249.95 319.874 2251.22 319.874 Q2254.55 319.874 2256.5 321.239 Q2258.46 322.605 2258.46 324.897 Q2258.46 326.494 2257.42 327.605 Q2256.38 328.716 2254.48 329.133 Z\" fill=\"#000000\" fill-rule=\"evenodd\" fill-opacity=\"1\" /><polyline clip-path=\"url(#clip350)\" style=\"stroke:#c271d2; stroke-linecap:round; stroke-linejoin:round; stroke-width:4; stroke-opacity:1; fill:none\" points=\"2051.5,374.156 2192.21,374.156 \"/>\n",
       "<path clip-path=\"url(#clip350)\" d=\"M2240.32 365.51 L2230.94 378.126 L2240.8 391.436 L2235.78 391.436 L2228.23 381.251 L2220.69 391.436 L2215.66 391.436 L2225.73 377.871 L2216.52 365.51 L2221.54 365.51 L2228.42 374.746 L2235.29 365.51 L2240.32 365.51 Z\" fill=\"#000000\" fill-rule=\"evenodd\" fill-opacity=\"1\" /><path clip-path=\"url(#clip350)\" d=\"M2228.33 355.417 L2232.58 355.417 L2232.58 360.811 L2228.33 360.811 L2228.33 355.417 M2230.5 364.885 L2230.5 364.885 Z\" fill=\"#000000\" fill-rule=\"evenodd\" fill-opacity=\"1\" /><path clip-path=\"url(#clip350)\" d=\"M2245.96 388.889 L2250.69 388.889 L2250.69 374.746 L2245.52 375.695 L2245.52 373.01 L2250.85 372.107 L2254.02 372.107 L2254.02 388.889 L2258.77 388.889 L2258.77 391.436 L2245.96 391.436 L2245.96 388.889 Z\" fill=\"#000000\" fill-rule=\"evenodd\" fill-opacity=\"1\" /><polyline clip-path=\"url(#clip350)\" style=\"stroke:#ac8d18; stroke-linecap:round; stroke-linejoin:round; stroke-width:4; stroke-opacity:1; fill:none\" points=\"2051.5,425.996 2192.21,425.996 \"/>\n",
       "<path clip-path=\"url(#clip350)\" d=\"M2240.32 417.35 L2230.94 429.966 L2240.8 443.276 L2235.78 443.276 L2228.23 433.091 L2220.69 443.276 L2215.66 443.276 L2225.73 429.711 L2216.52 417.35 L2221.54 417.35 L2228.42 426.586 L2235.29 417.35 L2240.32 417.35 Z\" fill=\"#000000\" fill-rule=\"evenodd\" fill-opacity=\"1\" /><path clip-path=\"url(#clip350)\" d=\"M2228.33 407.257 L2232.58 407.257 L2232.58 412.651 L2228.33 412.651 L2228.33 407.257 M2230.5 416.725 L2230.5 416.725 Z\" fill=\"#000000\" fill-rule=\"evenodd\" fill-opacity=\"1\" /><path clip-path=\"url(#clip350)\" d=\"M2248.56 440.637 L2258.37 440.637 L2258.37 443.276 L2244.53 443.276 L2244.53 440.729 Q2245.32 440.012 2246.77 438.716 Q2254.74 431.655 2254.74 429.479 Q2254.74 427.952 2253.53 427.026 Q2252.33 426.077 2250.36 426.077 Q2249.16 426.077 2247.75 426.493 Q2246.33 426.887 2244.67 427.697 L2244.67 424.85 Q2246.45 424.202 2247.98 423.878 Q2249.53 423.554 2250.85 423.554 Q2254.21 423.554 2256.22 425.081 Q2258.23 426.609 2258.23 429.109 Q2258.23 432.327 2250.57 438.901 Q2249.27 440.012 2248.56 440.637 Z\" fill=\"#000000\" fill-rule=\"evenodd\" fill-opacity=\"1\" /><polyline clip-path=\"url(#clip350)\" style=\"stroke:#00a9ad; stroke-linecap:round; stroke-linejoin:round; stroke-width:4; stroke-opacity:1; fill:none\" points=\"2051.5,477.836 2192.21,477.836 \"/>\n",
       "<path clip-path=\"url(#clip350)\" d=\"M2240.32 469.19 L2230.94 481.806 L2240.8 495.116 L2235.78 495.116 L2228.23 484.931 L2220.69 495.116 L2215.66 495.116 L2225.73 481.551 L2216.52 469.19 L2221.54 469.19 L2228.42 478.426 L2235.29 469.19 L2240.32 469.19 Z\" fill=\"#000000\" fill-rule=\"evenodd\" fill-opacity=\"1\" /><path clip-path=\"url(#clip350)\" d=\"M2228.33 459.097 L2232.58 459.097 L2232.58 464.491 L2228.33 464.491 L2228.33 459.097 M2230.5 468.565 L2230.5 468.565 Z\" fill=\"#000000\" fill-rule=\"evenodd\" fill-opacity=\"1\" /><path clip-path=\"url(#clip350)\" d=\"M2254.48 484.653 Q2256.61 485.069 2257.77 486.343 Q2258.95 487.593 2258.95 489.491 Q2258.95 492.361 2256.75 493.912 Q2254.55 495.463 2250.46 495.463 Q2249.14 495.463 2247.68 495.208 Q2246.24 494.977 2244.62 494.514 L2244.62 491.713 Q2245.83 492.338 2247.19 492.639 Q2248.58 492.94 2250.13 492.94 Q2252.65 492.94 2254.04 492.037 Q2255.43 491.111 2255.43 489.491 Q2255.43 487.778 2254.14 486.898 Q2252.86 486.019 2250.36 486.019 L2248.37 486.019 L2248.37 483.519 L2250.55 483.519 Q2252.72 483.519 2253.83 482.801 Q2254.97 482.06 2254.97 480.671 Q2254.97 479.329 2253.81 478.634 Q2252.65 477.917 2250.46 477.917 Q2249.53 477.917 2248.35 478.125 Q2247.17 478.333 2245.29 478.866 L2245.29 476.204 Q2246.98 475.81 2248.46 475.602 Q2249.95 475.394 2251.22 475.394 Q2254.55 475.394 2256.5 476.759 Q2258.46 478.125 2258.46 480.417 Q2258.46 482.014 2257.42 483.125 Q2256.38 484.236 2254.48 484.653 Z\" fill=\"#000000\" fill-rule=\"evenodd\" fill-opacity=\"1\" /></svg>\n"
      ],
      "text/html": [
       "<?xml version=\"1.0\" encoding=\"utf-8\"?>\n",
       "<svg xmlns=\"http://www.w3.org/2000/svg\" xmlns:xlink=\"http://www.w3.org/1999/xlink\" width=\"600\" height=\"400\" viewBox=\"0 0 2400 1600\">\n",
       "<defs>\n",
       "  <clipPath id=\"clip400\">\n",
       "    <rect x=\"0\" y=\"0\" width=\"2400\" height=\"1600\"/>\n",
       "  </clipPath>\n",
       "</defs>\n",
       "<path clip-path=\"url(#clip400)\" d=\"M0 1600 L2400 1600 L2400 0 L0 0  Z\" fill=\"#ffffff\" fill-rule=\"evenodd\" fill-opacity=\"1\"/>\n",
       "<defs>\n",
       "  <clipPath id=\"clip401\">\n",
       "    <rect x=\"480\" y=\"0\" width=\"1681\" height=\"1600\"/>\n",
       "  </clipPath>\n",
       "</defs>\n",
       "<path clip-path=\"url(#clip400)\" d=\"M242.135 1423.18 L2352.76 1423.18 L2352.76 123.472 L242.135 123.472  Z\" fill=\"#ffffff\" fill-rule=\"evenodd\" fill-opacity=\"1\"/>\n",
       "<defs>\n",
       "  <clipPath id=\"clip402\">\n",
       "    <rect x=\"242\" y=\"123\" width=\"2112\" height=\"1301\"/>\n",
       "  </clipPath>\n",
       "</defs>\n",
       "<polyline clip-path=\"url(#clip402)\" style=\"stroke:#000000; stroke-linecap:round; stroke-linejoin:round; stroke-width:2; stroke-opacity:0.1; fill:none\" points=\"301.869,1423.18 301.869,123.472 \"/>\n",
       "<polyline clip-path=\"url(#clip402)\" style=\"stroke:#000000; stroke-linecap:round; stroke-linejoin:round; stroke-width:2; stroke-opacity:0.1; fill:none\" points=\"799.657,1423.18 799.657,123.472 \"/>\n",
       "<polyline clip-path=\"url(#clip402)\" style=\"stroke:#000000; stroke-linecap:round; stroke-linejoin:round; stroke-width:2; stroke-opacity:0.1; fill:none\" points=\"1297.45,1423.18 1297.45,123.472 \"/>\n",
       "<polyline clip-path=\"url(#clip402)\" style=\"stroke:#000000; stroke-linecap:round; stroke-linejoin:round; stroke-width:2; stroke-opacity:0.1; fill:none\" points=\"1795.23,1423.18 1795.23,123.472 \"/>\n",
       "<polyline clip-path=\"url(#clip402)\" style=\"stroke:#000000; stroke-linecap:round; stroke-linejoin:round; stroke-width:2; stroke-opacity:0.1; fill:none\" points=\"2293.02,1423.18 2293.02,123.472 \"/>\n",
       "<polyline clip-path=\"url(#clip400)\" style=\"stroke:#000000; stroke-linecap:round; stroke-linejoin:round; stroke-width:4; stroke-opacity:1; fill:none\" points=\"242.135,1423.18 2352.76,1423.18 \"/>\n",
       "<polyline clip-path=\"url(#clip400)\" style=\"stroke:#000000; stroke-linecap:round; stroke-linejoin:round; stroke-width:4; stroke-opacity:1; fill:none\" points=\"301.869,1423.18 301.869,1404.28 \"/>\n",
       "<polyline clip-path=\"url(#clip400)\" style=\"stroke:#000000; stroke-linecap:round; stroke-linejoin:round; stroke-width:4; stroke-opacity:1; fill:none\" points=\"799.657,1423.18 799.657,1404.28 \"/>\n",
       "<polyline clip-path=\"url(#clip400)\" style=\"stroke:#000000; stroke-linecap:round; stroke-linejoin:round; stroke-width:4; stroke-opacity:1; fill:none\" points=\"1297.45,1423.18 1297.45,1404.28 \"/>\n",
       "<polyline clip-path=\"url(#clip400)\" style=\"stroke:#000000; stroke-linecap:round; stroke-linejoin:round; stroke-width:4; stroke-opacity:1; fill:none\" points=\"1795.23,1423.18 1795.23,1404.28 \"/>\n",
       "<polyline clip-path=\"url(#clip400)\" style=\"stroke:#000000; stroke-linecap:round; stroke-linejoin:round; stroke-width:4; stroke-opacity:1; fill:none\" points=\"2293.02,1423.18 2293.02,1404.28 \"/>\n",
       "<path clip-path=\"url(#clip400)\" d=\"M279.254 1454.1 Q275.643 1454.1 273.814 1457.66 Q272.008 1461.2 272.008 1468.33 Q272.008 1475.44 273.814 1479.01 Q275.643 1482.55 279.254 1482.55 Q282.888 1482.55 284.693 1479.01 Q286.522 1475.44 286.522 1468.33 Q286.522 1461.2 284.693 1457.66 Q282.888 1454.1 279.254 1454.1 M279.254 1450.39 Q285.064 1450.39 288.119 1455 Q291.198 1459.58 291.198 1468.33 Q291.198 1477.06 288.119 1481.67 Q285.064 1486.25 279.254 1486.25 Q273.443 1486.25 270.365 1481.67 Q267.309 1477.06 267.309 1468.33 Q267.309 1459.58 270.365 1455 Q273.443 1450.39 279.254 1450.39 Z\" fill=\"#000000\" fill-rule=\"evenodd\" fill-opacity=\"1\" /><path clip-path=\"url(#clip400)\" d=\"M299.416 1479.7 L304.3 1479.7 L304.3 1485.58 L299.416 1485.58 L299.416 1479.7 Z\" fill=\"#000000\" fill-rule=\"evenodd\" fill-opacity=\"1\" /><path clip-path=\"url(#clip400)\" d=\"M324.485 1454.1 Q320.874 1454.1 319.045 1457.66 Q317.24 1461.2 317.24 1468.33 Q317.24 1475.44 319.045 1479.01 Q320.874 1482.55 324.485 1482.55 Q328.119 1482.55 329.925 1479.01 Q331.753 1475.44 331.753 1468.33 Q331.753 1461.2 329.925 1457.66 Q328.119 1454.1 324.485 1454.1 M324.485 1450.39 Q330.295 1450.39 333.351 1455 Q336.429 1459.58 336.429 1468.33 Q336.429 1477.06 333.351 1481.67 Q330.295 1486.25 324.485 1486.25 Q318.675 1486.25 315.596 1481.67 Q312.54 1477.06 312.54 1468.33 Q312.54 1459.58 315.596 1455 Q318.675 1450.39 324.485 1450.39 Z\" fill=\"#000000\" fill-rule=\"evenodd\" fill-opacity=\"1\" /><path clip-path=\"url(#clip400)\" d=\"M771.394 1481.64 L787.713 1481.64 L787.713 1485.58 L765.769 1485.58 L765.769 1481.64 Q768.431 1478.89 773.014 1474.26 Q777.62 1469.61 778.801 1468.27 Q781.046 1465.74 781.926 1464.01 Q782.829 1462.25 782.829 1460.56 Q782.829 1457.8 780.884 1456.07 Q778.963 1454.33 775.861 1454.33 Q773.662 1454.33 771.208 1455.09 Q768.778 1455.86 766 1457.41 L766 1452.69 Q768.824 1451.55 771.278 1450.97 Q773.731 1450.39 775.768 1450.39 Q781.139 1450.39 784.333 1453.08 Q787.528 1455.77 787.528 1460.26 Q787.528 1462.39 786.718 1464.31 Q785.93 1466.2 783.824 1468.8 Q783.245 1469.47 780.143 1472.69 Q777.042 1475.88 771.394 1481.64 Z\" fill=\"#000000\" fill-rule=\"evenodd\" fill-opacity=\"1\" /><path clip-path=\"url(#clip400)\" d=\"M797.528 1479.7 L802.412 1479.7 L802.412 1485.58 L797.528 1485.58 L797.528 1479.7 Z\" fill=\"#000000\" fill-rule=\"evenodd\" fill-opacity=\"1\" /><path clip-path=\"url(#clip400)\" d=\"M812.643 1451.02 L831 1451.02 L831 1454.96 L816.926 1454.96 L816.926 1463.43 Q817.944 1463.08 818.963 1462.92 Q819.981 1462.73 821 1462.73 Q826.787 1462.73 830.166 1465.9 Q833.546 1469.08 833.546 1474.49 Q833.546 1480.07 830.074 1483.17 Q826.602 1486.25 820.282 1486.25 Q818.106 1486.25 815.838 1485.88 Q813.592 1485.51 811.185 1484.77 L811.185 1480.07 Q813.268 1481.2 815.491 1481.76 Q817.713 1482.32 820.19 1482.32 Q824.194 1482.32 826.532 1480.21 Q828.87 1478.1 828.87 1474.49 Q828.87 1470.88 826.532 1468.77 Q824.194 1466.67 820.19 1466.67 Q818.315 1466.67 816.44 1467.08 Q814.588 1467.5 812.643 1468.38 L812.643 1451.02 Z\" fill=\"#000000\" fill-rule=\"evenodd\" fill-opacity=\"1\" /><path clip-path=\"url(#clip400)\" d=\"M1264.61 1451.02 L1282.97 1451.02 L1282.97 1454.96 L1268.89 1454.96 L1268.89 1463.43 Q1269.91 1463.08 1270.93 1462.92 Q1271.95 1462.73 1272.97 1462.73 Q1278.75 1462.73 1282.13 1465.9 Q1285.51 1469.08 1285.51 1474.49 Q1285.51 1480.07 1282.04 1483.17 Q1278.57 1486.25 1272.25 1486.25 Q1270.07 1486.25 1267.8 1485.88 Q1265.56 1485.51 1263.15 1484.77 L1263.15 1480.07 Q1265.23 1481.2 1267.46 1481.76 Q1269.68 1482.32 1272.16 1482.32 Q1276.16 1482.32 1278.5 1480.21 Q1280.84 1478.1 1280.84 1474.49 Q1280.84 1470.88 1278.5 1468.77 Q1276.16 1466.67 1272.16 1466.67 Q1270.28 1466.67 1268.41 1467.08 Q1266.55 1467.5 1264.61 1468.38 L1264.61 1451.02 Z\" fill=\"#000000\" fill-rule=\"evenodd\" fill-opacity=\"1\" /><path clip-path=\"url(#clip400)\" d=\"M1294.73 1479.7 L1299.61 1479.7 L1299.61 1485.58 L1294.73 1485.58 L1294.73 1479.7 Z\" fill=\"#000000\" fill-rule=\"evenodd\" fill-opacity=\"1\" /><path clip-path=\"url(#clip400)\" d=\"M1319.79 1454.1 Q1316.18 1454.1 1314.35 1457.66 Q1312.55 1461.2 1312.55 1468.33 Q1312.55 1475.44 1314.35 1479.01 Q1316.18 1482.55 1319.79 1482.55 Q1323.43 1482.55 1325.23 1479.01 Q1327.06 1475.44 1327.06 1468.33 Q1327.06 1461.2 1325.23 1457.66 Q1323.43 1454.1 1319.79 1454.1 M1319.79 1450.39 Q1325.6 1450.39 1328.66 1455 Q1331.74 1459.58 1331.74 1468.33 Q1331.74 1477.06 1328.66 1481.67 Q1325.6 1486.25 1319.79 1486.25 Q1313.98 1486.25 1310.91 1481.67 Q1307.85 1477.06 1307.85 1468.33 Q1307.85 1459.58 1310.91 1455 Q1313.98 1450.39 1319.79 1450.39 Z\" fill=\"#000000\" fill-rule=\"evenodd\" fill-opacity=\"1\" /><path clip-path=\"url(#clip400)\" d=\"M1761.55 1451.02 L1783.78 1451.02 L1783.78 1453.01 L1771.23 1485.58 L1766.34 1485.58 L1778.15 1454.96 L1761.55 1454.96 L1761.55 1451.02 Z\" fill=\"#000000\" fill-rule=\"evenodd\" fill-opacity=\"1\" /><path clip-path=\"url(#clip400)\" d=\"M1792.9 1479.7 L1797.78 1479.7 L1797.78 1485.58 L1792.9 1485.58 L1792.9 1479.7 Z\" fill=\"#000000\" fill-rule=\"evenodd\" fill-opacity=\"1\" /><path clip-path=\"url(#clip400)\" d=\"M1808.01 1451.02 L1826.37 1451.02 L1826.37 1454.96 L1812.29 1454.96 L1812.29 1463.43 Q1813.31 1463.08 1814.33 1462.92 Q1815.35 1462.73 1816.37 1462.73 Q1822.15 1462.73 1825.53 1465.9 Q1828.91 1469.08 1828.91 1474.49 Q1828.91 1480.07 1825.44 1483.17 Q1821.97 1486.25 1815.65 1486.25 Q1813.47 1486.25 1811.21 1485.88 Q1808.96 1485.51 1806.55 1484.77 L1806.55 1480.07 Q1808.64 1481.2 1810.86 1481.76 Q1813.08 1482.32 1815.56 1482.32 Q1819.56 1482.32 1821.9 1480.21 Q1824.24 1478.1 1824.24 1474.49 Q1824.24 1470.88 1821.9 1468.77 Q1819.56 1466.67 1815.56 1466.67 Q1813.68 1466.67 1811.81 1467.08 Q1809.96 1467.5 1808.01 1468.38 L1808.01 1451.02 Z\" fill=\"#000000\" fill-rule=\"evenodd\" fill-opacity=\"1\" /><path clip-path=\"url(#clip400)\" d=\"M2245.09 1481.64 L2252.73 1481.64 L2252.73 1455.28 L2244.42 1456.95 L2244.42 1452.69 L2252.69 1451.02 L2257.36 1451.02 L2257.36 1481.64 L2265 1481.64 L2265 1485.58 L2245.09 1485.58 L2245.09 1481.64 Z\" fill=\"#000000\" fill-rule=\"evenodd\" fill-opacity=\"1\" /><path clip-path=\"url(#clip400)\" d=\"M2284.44 1454.1 Q2280.83 1454.1 2279.01 1457.66 Q2277.2 1461.2 2277.2 1468.33 Q2277.2 1475.44 2279.01 1479.01 Q2280.83 1482.55 2284.44 1482.55 Q2288.08 1482.55 2289.88 1479.01 Q2291.71 1475.44 2291.71 1468.33 Q2291.71 1461.2 2289.88 1457.66 Q2288.08 1454.1 2284.44 1454.1 M2284.44 1450.39 Q2290.26 1450.39 2293.31 1455 Q2296.39 1459.58 2296.39 1468.33 Q2296.39 1477.06 2293.31 1481.67 Q2290.26 1486.25 2284.44 1486.25 Q2278.63 1486.25 2275.56 1481.67 Q2272.5 1477.06 2272.5 1468.33 Q2272.5 1459.58 2275.56 1455 Q2278.63 1450.39 2284.44 1450.39 Z\" fill=\"#000000\" fill-rule=\"evenodd\" fill-opacity=\"1\" /><path clip-path=\"url(#clip400)\" d=\"M2304.61 1479.7 L2309.49 1479.7 L2309.49 1485.58 L2304.61 1485.58 L2304.61 1479.7 Z\" fill=\"#000000\" fill-rule=\"evenodd\" fill-opacity=\"1\" /><path clip-path=\"url(#clip400)\" d=\"M2329.68 1454.1 Q2326.07 1454.1 2324.24 1457.66 Q2322.43 1461.2 2322.43 1468.33 Q2322.43 1475.44 2324.24 1479.01 Q2326.07 1482.55 2329.68 1482.55 Q2333.31 1482.55 2335.12 1479.01 Q2336.94 1475.44 2336.94 1468.33 Q2336.94 1461.2 2335.12 1457.66 Q2333.31 1454.1 2329.68 1454.1 M2329.68 1450.39 Q2335.49 1450.39 2338.54 1455 Q2341.62 1459.58 2341.62 1468.33 Q2341.62 1477.06 2338.54 1481.67 Q2335.49 1486.25 2329.68 1486.25 Q2323.87 1486.25 2320.79 1481.67 Q2317.73 1477.06 2317.73 1468.33 Q2317.73 1459.58 2320.79 1455 Q2323.87 1450.39 2329.68 1450.39 Z\" fill=\"#000000\" fill-rule=\"evenodd\" fill-opacity=\"1\" /><path clip-path=\"url(#clip400)\" d=\"M1184.9 1522.27 L1184.9 1532.4 L1196.96 1532.4 L1196.96 1536.95 L1184.9 1536.95 L1184.9 1556.3 Q1184.9 1560.66 1186.08 1561.9 Q1187.29 1563.14 1190.95 1563.14 L1196.96 1563.14 L1196.96 1568.04 L1190.95 1568.04 Q1184.17 1568.04 1181.59 1565.53 Q1179.01 1562.98 1179.01 1556.3 L1179.01 1536.95 L1174.71 1536.95 L1174.71 1532.4 L1179.01 1532.4 L1179.01 1522.27 L1184.9 1522.27 Z\" fill=\"#000000\" fill-rule=\"evenodd\" fill-opacity=\"1\" /><path clip-path=\"url(#clip400)\" d=\"M1204.67 1532.4 L1210.52 1532.4 L1210.52 1568.04 L1204.67 1568.04 L1204.67 1532.4 M1204.67 1518.52 L1210.52 1518.52 L1210.52 1525.93 L1204.67 1525.93 L1204.67 1518.52 Z\" fill=\"#000000\" fill-rule=\"evenodd\" fill-opacity=\"1\" /><path clip-path=\"url(#clip400)\" d=\"M1250.53 1539.24 Q1252.73 1535.29 1255.78 1533.41 Q1258.84 1531.54 1262.97 1531.54 Q1268.54 1531.54 1271.57 1535.45 Q1274.59 1539.33 1274.59 1546.53 L1274.59 1568.04 L1268.7 1568.04 L1268.7 1546.72 Q1268.7 1541.59 1266.89 1539.11 Q1265.08 1536.63 1261.35 1536.63 Q1256.8 1536.63 1254.16 1539.65 Q1251.52 1542.68 1251.52 1547.9 L1251.52 1568.04 L1245.63 1568.04 L1245.63 1546.72 Q1245.63 1541.56 1243.81 1539.11 Q1242 1536.63 1238.21 1536.63 Q1233.72 1536.63 1231.08 1539.68 Q1228.44 1542.71 1228.44 1547.9 L1228.44 1568.04 L1222.55 1568.04 L1222.55 1532.4 L1228.44 1532.4 L1228.44 1537.93 Q1230.45 1534.66 1233.25 1533.1 Q1236.05 1531.54 1239.9 1531.54 Q1243.78 1531.54 1246.49 1533.51 Q1249.23 1535.48 1250.53 1539.24 Z\" fill=\"#000000\" fill-rule=\"evenodd\" fill-opacity=\"1\" /><path clip-path=\"url(#clip400)\" d=\"M1316.77 1548.76 L1316.77 1551.62 L1289.84 1551.62 Q1290.22 1557.67 1293.47 1560.85 Q1296.75 1564 1302.57 1564 Q1305.94 1564 1309.09 1563.17 Q1312.28 1562.35 1315.4 1560.69 L1315.4 1566.23 Q1312.25 1567.57 1308.94 1568.27 Q1305.63 1568.97 1302.22 1568.97 Q1293.69 1568.97 1288.69 1564 Q1283.73 1559.04 1283.73 1550.57 Q1283.73 1541.82 1288.44 1536.69 Q1293.18 1531.54 1301.2 1531.54 Q1308.39 1531.54 1312.56 1536.18 Q1316.77 1540.8 1316.77 1548.76 M1310.91 1547.04 Q1310.85 1542.23 1308.2 1539.37 Q1305.59 1536.5 1301.26 1536.5 Q1296.36 1536.5 1293.4 1539.27 Q1290.47 1542.04 1290.03 1547.07 L1310.91 1547.04 Z\" fill=\"#000000\" fill-rule=\"evenodd\" fill-opacity=\"1\" /><path clip-path=\"url(#clip400)\" d=\"M1361.17 1518.58 Q1356.9 1525.9 1354.83 1533.06 Q1352.76 1540.23 1352.76 1547.58 Q1352.76 1554.93 1354.83 1562.16 Q1356.93 1569.35 1361.17 1576.64 L1356.07 1576.64 Q1351.3 1569.16 1348.91 1561.93 Q1346.56 1554.71 1346.56 1547.58 Q1346.56 1540.48 1348.91 1533.29 Q1351.27 1526.09 1356.07 1518.58 L1361.17 1518.58 Z\" fill=\"#000000\" fill-rule=\"evenodd\" fill-opacity=\"1\" /><path clip-path=\"url(#clip400)\" d=\"M1395.25 1533.45 L1395.25 1538.98 Q1392.77 1537.71 1390.1 1537.07 Q1387.42 1536.44 1384.56 1536.44 Q1380.2 1536.44 1378 1537.77 Q1375.84 1539.11 1375.84 1541.79 Q1375.84 1543.82 1377.4 1545 Q1378.96 1546.15 1383.67 1547.2 L1385.67 1547.64 Q1391.91 1548.98 1394.52 1551.43 Q1397.16 1553.85 1397.16 1558.21 Q1397.16 1563.17 1393.22 1566.07 Q1389.3 1568.97 1382.43 1568.97 Q1379.56 1568.97 1376.44 1568.39 Q1373.36 1567.85 1369.92 1566.74 L1369.92 1560.69 Q1373.17 1562.38 1376.32 1563.24 Q1379.47 1564.07 1382.55 1564.07 Q1386.69 1564.07 1388.92 1562.66 Q1391.15 1561.23 1391.15 1558.65 Q1391.15 1556.27 1389.53 1554.99 Q1387.93 1553.72 1382.49 1552.54 L1380.45 1552.07 Q1375.01 1550.92 1372.59 1548.56 Q1370.17 1546.18 1370.17 1542.04 Q1370.17 1537.01 1373.74 1534.27 Q1377.3 1531.54 1383.86 1531.54 Q1387.11 1531.54 1389.97 1532.01 Q1392.84 1532.49 1395.25 1533.45 Z\" fill=\"#000000\" fill-rule=\"evenodd\" fill-opacity=\"1\" /><path clip-path=\"url(#clip400)\" d=\"M1405.57 1518.58 L1410.66 1518.58 Q1415.43 1526.09 1417.79 1533.29 Q1420.18 1540.48 1420.18 1547.58 Q1420.18 1554.71 1417.79 1561.93 Q1415.43 1569.16 1410.66 1576.64 L1405.57 1576.64 Q1409.8 1569.35 1411.87 1562.16 Q1413.97 1554.93 1413.97 1547.58 Q1413.97 1540.23 1411.87 1533.06 Q1409.8 1525.9 1405.57 1518.58 Z\" fill=\"#000000\" fill-rule=\"evenodd\" fill-opacity=\"1\" /><polyline clip-path=\"url(#clip402)\" style=\"stroke:#000000; stroke-linecap:round; stroke-linejoin:round; stroke-width:2; stroke-opacity:0.1; fill:none\" points=\"242.135,1153.66 2352.76,1153.66 \"/>\n",
       "<polyline clip-path=\"url(#clip402)\" style=\"stroke:#000000; stroke-linecap:round; stroke-linejoin:round; stroke-width:2; stroke-opacity:0.1; fill:none\" points=\"242.135,822.524 2352.76,822.524 \"/>\n",
       "<polyline clip-path=\"url(#clip402)\" style=\"stroke:#000000; stroke-linecap:round; stroke-linejoin:round; stroke-width:2; stroke-opacity:0.1; fill:none\" points=\"242.135,491.39 2352.76,491.39 \"/>\n",
       "<polyline clip-path=\"url(#clip402)\" style=\"stroke:#000000; stroke-linecap:round; stroke-linejoin:round; stroke-width:2; stroke-opacity:0.1; fill:none\" points=\"242.135,160.256 2352.76,160.256 \"/>\n",
       "<polyline clip-path=\"url(#clip400)\" style=\"stroke:#000000; stroke-linecap:round; stroke-linejoin:round; stroke-width:4; stroke-opacity:1; fill:none\" points=\"242.135,1423.18 242.135,123.472 \"/>\n",
       "<polyline clip-path=\"url(#clip400)\" style=\"stroke:#000000; stroke-linecap:round; stroke-linejoin:round; stroke-width:4; stroke-opacity:1; fill:none\" points=\"242.135,1153.66 261.032,1153.66 \"/>\n",
       "<polyline clip-path=\"url(#clip400)\" style=\"stroke:#000000; stroke-linecap:round; stroke-linejoin:round; stroke-width:4; stroke-opacity:1; fill:none\" points=\"242.135,822.524 261.032,822.524 \"/>\n",
       "<polyline clip-path=\"url(#clip400)\" style=\"stroke:#000000; stroke-linecap:round; stroke-linejoin:round; stroke-width:4; stroke-opacity:1; fill:none\" points=\"242.135,491.39 261.032,491.39 \"/>\n",
       "<polyline clip-path=\"url(#clip400)\" style=\"stroke:#000000; stroke-linecap:round; stroke-linejoin:round; stroke-width:4; stroke-opacity:1; fill:none\" points=\"242.135,160.256 261.032,160.256 \"/>\n",
       "<path clip-path=\"url(#clip400)\" d=\"M114.26 1154.11 L143.936 1154.11 L143.936 1158.04 L114.26 1158.04 L114.26 1154.11 Z\" fill=\"#000000\" fill-rule=\"evenodd\" fill-opacity=\"1\" /><path clip-path=\"url(#clip400)\" d=\"M154.839 1167 L162.477 1167 L162.477 1140.64 L154.167 1142.3 L154.167 1138.04 L162.431 1136.38 L167.107 1136.38 L167.107 1167 L174.746 1167 L174.746 1170.94 L154.839 1170.94 L154.839 1167 Z\" fill=\"#000000\" fill-rule=\"evenodd\" fill-opacity=\"1\" /><path clip-path=\"url(#clip400)\" d=\"M194.19 1139.46 Q190.579 1139.46 188.75 1143.02 Q186.945 1146.56 186.945 1153.69 Q186.945 1160.8 188.75 1164.36 Q190.579 1167.91 194.19 1167.91 Q197.825 1167.91 199.63 1164.36 Q201.459 1160.8 201.459 1153.69 Q201.459 1146.56 199.63 1143.02 Q197.825 1139.46 194.19 1139.46 M194.19 1135.75 Q200 1135.75 203.056 1140.36 Q206.135 1144.94 206.135 1153.69 Q206.135 1162.42 203.056 1167.03 Q200 1171.61 194.19 1171.61 Q188.38 1171.61 185.301 1167.03 Q182.246 1162.42 182.246 1153.69 Q182.246 1144.94 185.301 1140.36 Q188.38 1135.75 194.19 1135.75 Z\" fill=\"#000000\" fill-rule=\"evenodd\" fill-opacity=\"1\" /><path clip-path=\"url(#clip400)\" d=\"M194.19 808.323 Q190.579 808.323 188.75 811.888 Q186.945 815.429 186.945 822.559 Q186.945 829.665 188.75 833.23 Q190.579 836.772 194.19 836.772 Q197.825 836.772 199.63 833.23 Q201.459 829.665 201.459 822.559 Q201.459 815.429 199.63 811.888 Q197.825 808.323 194.19 808.323 M194.19 804.619 Q200 804.619 203.056 809.226 Q206.135 813.809 206.135 822.559 Q206.135 831.286 203.056 835.892 Q200 840.476 194.19 840.476 Q188.38 840.476 185.301 835.892 Q182.246 831.286 182.246 822.559 Q182.246 813.809 185.301 809.226 Q188.38 804.619 194.19 804.619 Z\" fill=\"#000000\" fill-rule=\"evenodd\" fill-opacity=\"1\" /><path clip-path=\"url(#clip400)\" d=\"M154.839 504.735 L162.477 504.735 L162.477 478.37 L154.167 480.036 L154.167 475.777 L162.431 474.11 L167.107 474.11 L167.107 504.735 L174.746 504.735 L174.746 508.67 L154.839 508.67 L154.839 504.735 Z\" fill=\"#000000\" fill-rule=\"evenodd\" fill-opacity=\"1\" /><path clip-path=\"url(#clip400)\" d=\"M194.19 477.189 Q190.579 477.189 188.75 480.754 Q186.945 484.295 186.945 491.425 Q186.945 498.531 188.75 502.096 Q190.579 505.638 194.19 505.638 Q197.825 505.638 199.63 502.096 Q201.459 498.531 201.459 491.425 Q201.459 484.295 199.63 480.754 Q197.825 477.189 194.19 477.189 M194.19 473.485 Q200 473.485 203.056 478.092 Q206.135 482.675 206.135 491.425 Q206.135 500.152 203.056 504.758 Q200 509.342 194.19 509.342 Q188.38 509.342 185.301 504.758 Q182.246 500.152 182.246 491.425 Q182.246 482.675 185.301 478.092 Q188.38 473.485 194.19 473.485 Z\" fill=\"#000000\" fill-rule=\"evenodd\" fill-opacity=\"1\" /><path clip-path=\"url(#clip400)\" d=\"M158.056 173.601 L174.376 173.601 L174.376 177.536 L152.431 177.536 L152.431 173.601 Q155.093 170.847 159.677 166.217 Q164.283 161.564 165.464 160.222 Q167.709 157.698 168.589 155.962 Q169.491 154.203 169.491 152.513 Q169.491 149.759 167.547 148.023 Q165.626 146.286 162.524 146.286 Q160.325 146.286 157.871 147.05 Q155.44 147.814 152.663 149.365 L152.663 144.643 Q155.487 143.509 157.94 142.93 Q160.394 142.351 162.431 142.351 Q167.802 142.351 170.996 145.036 Q174.19 147.722 174.19 152.212 Q174.19 154.342 173.38 156.263 Q172.593 158.161 170.487 160.754 Q169.908 161.425 166.806 164.643 Q163.704 167.837 158.056 173.601 Z\" fill=\"#000000\" fill-rule=\"evenodd\" fill-opacity=\"1\" /><path clip-path=\"url(#clip400)\" d=\"M194.19 146.055 Q190.579 146.055 188.75 149.62 Q186.945 153.161 186.945 160.291 Q186.945 167.397 188.75 170.962 Q190.579 174.504 194.19 174.504 Q197.825 174.504 199.63 170.962 Q201.459 167.397 201.459 160.291 Q201.459 153.161 199.63 149.62 Q197.825 146.055 194.19 146.055 M194.19 142.351 Q200 142.351 203.056 146.958 Q206.135 151.541 206.135 160.291 Q206.135 169.018 203.056 173.624 Q200 178.208 194.19 178.208 Q188.38 178.208 185.301 173.624 Q182.246 169.018 182.246 160.291 Q182.246 151.541 185.301 146.958 Q188.38 142.351 194.19 142.351 Z\" fill=\"#000000\" fill-rule=\"evenodd\" fill-opacity=\"1\" /><path clip-path=\"url(#clip400)\" d=\"M28.3562 756.711 L45.7028 769.602 L64.0042 756.043 L64.0042 762.95 L49.9996 773.326 L64.0042 783.702 L64.0042 790.609 L45.3526 776.763 L28.3562 789.431 L28.3562 782.524 L41.0558 773.071 L28.3562 763.618 L28.3562 756.711 Z\" fill=\"#000000\" fill-rule=\"evenodd\" fill-opacity=\"1\" /><path clip-path=\"url(#clip400)\" d=\"M1069.78 14.0809 L1069.78 22.0612 Q1065.13 19.8332 1060.99 18.7395 Q1056.86 17.6457 1053.01 17.6457 Q1046.33 17.6457 1042.68 20.2383 Q1039.08 22.8309 1039.08 27.611 Q1039.08 31.6214 1041.47 33.6873 Q1043.9 35.7128 1050.62 36.9686 L1055.57 37.9813 Q1064.72 39.7232 1069.06 44.1387 Q1073.43 48.5136 1073.43 55.8863 Q1073.43 64.6767 1067.52 69.2137 Q1061.64 73.7508 1050.26 73.7508 Q1045.97 73.7508 1041.1 72.7785 Q1036.28 71.8063 1031.1 69.9024 L1031.1 61.4765 Q1036.08 64.2716 1040.86 65.6895 Q1045.64 67.1073 1050.26 67.1073 Q1057.27 67.1073 1061.08 64.3527 Q1064.88 61.598 1064.88 56.4939 Q1064.88 52.0379 1062.13 49.5264 Q1059.41 47.0148 1053.18 45.759 L1048.19 44.7868 Q1039.04 42.9639 1034.95 39.075 Q1030.86 35.1862 1030.86 28.2591 Q1030.86 20.2383 1036.49 15.6203 Q1042.16 11.0023 1052.08 11.0023 Q1056.34 11.0023 1060.75 11.7719 Q1065.17 12.5416 1069.78 14.0809 Z\" fill=\"#000000\" fill-rule=\"evenodd\" fill-opacity=\"1\" /><path clip-path=\"url(#clip400)\" d=\"M1093.24 14.324 L1093.24 27.2059 L1108.59 27.2059 L1108.59 32.9987 L1093.24 32.9987 L1093.24 57.6282 Q1093.24 63.1779 1094.74 64.7578 Q1096.28 66.3376 1100.94 66.3376 L1108.59 66.3376 L1108.59 72.576 L1100.94 72.576 Q1092.31 72.576 1089.03 69.3758 Q1085.75 66.1351 1085.75 57.6282 L1085.75 32.9987 L1080.28 32.9987 L1080.28 27.2059 L1085.75 27.2059 L1085.75 14.324 L1093.24 14.324 Z\" fill=\"#000000\" fill-rule=\"evenodd\" fill-opacity=\"1\" /><path clip-path=\"url(#clip400)\" d=\"M1139.01 49.7694 Q1129.98 49.7694 1126.5 51.8354 Q1123.01 53.9013 1123.01 58.8839 Q1123.01 62.8538 1125.61 65.2034 Q1128.24 67.5124 1132.74 67.5124 Q1138.93 67.5124 1142.66 63.1374 Q1146.43 58.7219 1146.43 51.4303 L1146.43 49.7694 L1139.01 49.7694 M1153.88 46.6907 L1153.88 72.576 L1146.43 72.576 L1146.43 65.6895 Q1143.88 69.8214 1140.07 71.8063 Q1136.26 73.7508 1130.75 73.7508 Q1123.78 73.7508 1119.65 69.8619 Q1115.56 65.9325 1115.56 59.3701 Q1115.56 51.7138 1120.66 47.825 Q1125.81 43.9361 1135.98 43.9361 L1146.43 43.9361 L1146.43 43.2069 Q1146.43 38.0623 1143.02 35.2672 Q1139.66 32.4315 1133.55 32.4315 Q1129.66 32.4315 1125.97 33.3632 Q1122.28 34.295 1118.88 36.1584 L1118.88 29.2718 Q1122.97 27.692 1126.82 26.9223 Q1130.67 26.1121 1134.32 26.1121 Q1144.16 26.1121 1149.02 31.2163 Q1153.88 36.3204 1153.88 46.6907 Z\" fill=\"#000000\" fill-rule=\"evenodd\" fill-opacity=\"1\" /><path clip-path=\"url(#clip400)\" d=\"M1176.61 14.324 L1176.61 27.2059 L1191.96 27.2059 L1191.96 32.9987 L1176.61 32.9987 L1176.61 57.6282 Q1176.61 63.1779 1178.11 64.7578 Q1179.64 66.3376 1184.3 66.3376 L1191.96 66.3376 L1191.96 72.576 L1184.3 72.576 Q1175.68 72.576 1172.39 69.3758 Q1169.11 66.1351 1169.11 57.6282 L1169.11 32.9987 L1163.64 32.9987 L1163.64 27.2059 L1169.11 27.2059 L1169.11 14.324 L1176.61 14.324 Z\" fill=\"#000000\" fill-rule=\"evenodd\" fill-opacity=\"1\" /><path clip-path=\"url(#clip400)\" d=\"M1240.57 48.0275 L1240.57 51.6733 L1206.3 51.6733 Q1206.79 59.3701 1210.92 63.421 Q1215.09 67.4314 1222.5 67.4314 Q1226.8 67.4314 1230.81 66.3781 Q1234.86 65.3249 1238.83 63.2184 L1238.83 70.267 Q1234.82 71.9684 1230.61 72.8596 Q1226.39 73.7508 1222.06 73.7508 Q1211.2 73.7508 1204.84 67.4314 Q1198.52 61.1119 1198.52 50.3365 Q1198.52 39.1965 1204.52 32.6746 Q1210.55 26.1121 1220.76 26.1121 Q1229.92 26.1121 1235.22 32.0264 Q1240.57 37.9003 1240.57 48.0275 M1233.12 45.84 Q1233.04 39.7232 1229.67 36.0774 Q1226.35 32.4315 1220.84 32.4315 Q1214.6 32.4315 1210.84 35.9558 Q1207.11 39.4801 1206.54 45.8805 L1233.12 45.84 Z\" fill=\"#000000\" fill-rule=\"evenodd\" fill-opacity=\"1\" /><path clip-path=\"url(#clip400)\" d=\"M1279.5 12.096 L1287.68 12.096 L1287.68 36.8875 L1317.42 36.8875 L1317.42 12.096 L1325.6 12.096 L1325.6 72.576 L1317.42 72.576 L1317.42 43.7741 L1287.68 43.7741 L1287.68 72.576 L1279.5 72.576 L1279.5 12.096 Z\" fill=\"#000000\" fill-rule=\"evenodd\" fill-opacity=\"1\" /><path clip-path=\"url(#clip400)\" d=\"M1341.56 27.2059 L1349.01 27.2059 L1349.01 72.576 L1341.56 72.576 L1341.56 27.2059 M1341.56 9.54393 L1349.01 9.54393 L1349.01 18.9825 L1341.56 18.9825 L1341.56 9.54393 Z\" fill=\"#000000\" fill-rule=\"evenodd\" fill-opacity=\"1\" /><path clip-path=\"url(#clip400)\" d=\"M1393.53 28.5427 L1393.53 35.5912 Q1390.37 33.9709 1386.97 33.1607 Q1383.57 32.3505 1379.92 32.3505 Q1374.37 32.3505 1371.58 34.0519 Q1368.82 35.7533 1368.82 39.156 Q1368.82 41.7486 1370.81 43.2475 Q1372.79 44.7058 1378.79 46.0426 L1381.34 46.6097 Q1389.28 48.3111 1392.6 51.4303 Q1395.96 54.509 1395.96 60.0587 Q1395.96 66.3781 1390.94 70.0644 Q1385.96 73.7508 1377.21 73.7508 Q1373.56 73.7508 1369.59 73.0216 Q1365.66 72.3329 1361.29 70.9151 L1361.29 63.2184 Q1365.42 65.3654 1369.43 66.4591 Q1373.44 67.5124 1377.37 67.5124 Q1382.64 67.5124 1385.47 65.73 Q1388.31 63.9071 1388.31 60.6258 Q1388.31 57.5877 1386.24 55.9673 Q1384.22 54.3469 1377.29 52.8481 L1374.7 52.2405 Q1367.77 50.7821 1364.69 47.7845 Q1361.61 44.7463 1361.61 39.4801 Q1361.61 33.0797 1366.15 29.5959 Q1370.69 26.1121 1379.03 26.1121 Q1383.16 26.1121 1386.81 26.7198 Q1390.45 27.3274 1393.53 28.5427 Z\" fill=\"#000000\" fill-rule=\"evenodd\" fill-opacity=\"1\" /><path clip-path=\"url(#clip400)\" d=\"M1415.21 14.324 L1415.21 27.2059 L1430.56 27.2059 L1430.56 32.9987 L1415.21 32.9987 L1415.21 57.6282 Q1415.21 63.1779 1416.7 64.7578 Q1418.24 66.3376 1422.9 66.3376 L1430.56 66.3376 L1430.56 72.576 L1422.9 72.576 Q1414.27 72.576 1410.99 69.3758 Q1407.71 66.1351 1407.71 57.6282 L1407.71 32.9987 L1402.24 32.9987 L1402.24 27.2059 L1407.71 27.2059 L1407.71 14.324 L1415.21 14.324 Z\" fill=\"#000000\" fill-rule=\"evenodd\" fill-opacity=\"1\" /><path clip-path=\"url(#clip400)\" d=\"M1457.94 32.4315 Q1451.95 32.4315 1448.46 37.1306 Q1444.98 41.7891 1444.98 49.9314 Q1444.98 58.0738 1448.42 62.7728 Q1451.91 67.4314 1457.94 67.4314 Q1463.9 67.4314 1467.38 62.7323 Q1470.86 58.0333 1470.86 49.9314 Q1470.86 41.8701 1467.38 37.1711 Q1463.9 32.4315 1457.94 32.4315 M1457.94 26.1121 Q1467.66 26.1121 1473.21 32.4315 Q1478.76 38.7509 1478.76 49.9314 Q1478.76 61.0714 1473.21 67.4314 Q1467.66 73.7508 1457.94 73.7508 Q1448.18 73.7508 1442.63 67.4314 Q1437.12 61.0714 1437.12 49.9314 Q1437.12 38.7509 1442.63 32.4315 Q1448.18 26.1121 1457.94 26.1121 Z\" fill=\"#000000\" fill-rule=\"evenodd\" fill-opacity=\"1\" /><path clip-path=\"url(#clip400)\" d=\"M1517.41 34.1734 Q1516.15 33.4443 1514.65 33.1202 Q1513.2 32.7556 1511.41 32.7556 Q1505.09 32.7556 1501.69 36.8875 Q1498.33 40.9789 1498.33 48.6757 L1498.33 72.576 L1490.84 72.576 L1490.84 27.2059 L1498.33 27.2059 L1498.33 34.2544 Q1500.68 30.1225 1504.45 28.1376 Q1508.21 26.1121 1513.6 26.1121 Q1514.37 26.1121 1515.3 26.2337 Q1516.23 26.3147 1517.37 26.5172 L1517.41 34.1734 Z\" fill=\"#000000\" fill-rule=\"evenodd\" fill-opacity=\"1\" /><path clip-path=\"url(#clip400)\" d=\"M1544.1 76.7889 Q1540.95 84.8907 1537.95 87.3618 Q1534.95 89.8329 1529.93 89.8329 L1523.97 89.8329 L1523.97 83.5945 L1528.35 83.5945 Q1531.43 83.5945 1533.13 82.1361 Q1534.83 80.6778 1536.89 75.2496 L1538.23 71.8468 L1519.88 27.2059 L1527.78 27.2059 L1541.96 62.6918 L1556.14 27.2059 L1564.04 27.2059 L1544.1 76.7889 Z\" fill=\"#000000\" fill-rule=\"evenodd\" fill-opacity=\"1\" /><polyline clip-path=\"url(#clip402)\" style=\"stroke:#009af9; stroke-linecap:round; stroke-linejoin:round; stroke-width:4; stroke-opacity:1; fill:none\" points=\"301.869,690.071 321.781,695.025 341.692,699.953 361.604,704.855 381.515,709.732 401.427,714.583 421.338,719.41 441.25,724.212 461.161,728.989 481.073,733.743 500.984,738.472 520.896,743.177 540.807,747.86 560.719,752.519 580.631,757.155 600.542,761.768 620.454,766.359 640.365,770.928 660.277,775.474 680.188,779.999 700.1,784.503 720.011,788.986 739.923,793.447 759.834,797.888 779.746,802.308 799.657,806.709 819.569,811.089 839.48,815.45 859.392,819.791 879.303,824.113 899.215,828.417 919.126,832.701 939.038,836.968 958.949,841.216 978.861,845.446 998.772,849.659 1018.68,853.854 1038.6,858.032 1058.51,862.193 1078.42,866.338 1098.33,870.466 1118.24,874.578 1138.15,878.674 1158.06,882.755 1177.98,886.82 1197.89,890.87 1217.8,894.906 1237.71,898.926 1257.62,902.933 1277.53,906.925 1297.45,910.903 1317.36,914.868 1337.27,918.82 1357.18,922.758 1377.09,926.684 1397,930.597 1416.91,934.497 1436.83,938.386 1456.74,942.263 1476.65,946.128 1496.56,949.982 1516.47,953.824 1536.38,957.656 1556.3,961.478 1576.21,965.289 1596.12,969.09 1616.03,972.881 1635.94,976.662 1655.85,980.435 1675.76,984.198 1695.68,987.952 1715.59,991.698 1735.5,995.436 1755.41,999.165 1775.32,1002.89 1795.23,1006.6 1815.14,1010.31 1835.06,1014.01 1854.97,1017.7 1874.88,1021.39 1894.79,1025.07 1914.7,1028.74 1934.61,1032.41 1954.53,1036.07 1974.44,1039.73 1994.35,1043.38 2014.26,1047.03 2034.17,1050.67 2054.08,1054.31 2073.99,1057.94 2093.91,1061.58 2113.82,1065.2 2133.73,1068.83 2153.64,1072.45 2173.55,1076.06 2193.46,1079.68 2213.38,1083.29 2233.29,1086.9 2253.2,1090.51 2273.11,1094.12 2293.02,1097.73 \"/>\n",
       "<polyline clip-path=\"url(#clip402)\" style=\"stroke:#e26f46; stroke-linecap:round; stroke-linejoin:round; stroke-width:4; stroke-opacity:1; fill:none\" points=\"301.869,756.297 321.781,753 341.692,749.732 361.604,746.491 381.515,743.278 401.427,740.093 421.338,736.934 441.25,733.803 461.161,730.698 481.073,727.62 500.984,724.567 520.896,721.541 540.807,718.539 560.719,715.563 580.631,712.612 600.542,709.685 620.454,706.782 640.365,703.903 660.277,701.048 680.188,698.216 700.1,695.407 720.011,692.621 739.923,689.858 759.834,687.116 779.746,684.397 799.657,681.699 819.569,679.022 839.48,676.367 859.392,673.732 879.303,671.117 899.215,668.523 919.126,665.948 939.038,663.393 958.949,660.858 978.861,658.341 998.772,655.843 1018.68,653.363 1038.6,650.901 1058.51,648.457 1078.42,646.031 1098.33,643.622 1118.24,641.229 1138.15,638.854 1158.06,636.494 1177.98,634.151 1197.89,631.823 1217.8,629.511 1237.71,627.214 1257.62,624.932 1277.53,622.665 1297.45,620.412 1317.36,618.173 1337.27,615.948 1357.18,613.736 1377.09,611.537 1397,609.351 1416.91,607.178 1436.83,605.017 1456.74,602.868 1476.65,600.731 1496.56,598.605 1516.47,596.491 1536.38,594.387 1556.3,592.294 1576.21,590.211 1596.12,588.138 1616.03,586.075 1635.94,584.021 1655.85,581.977 1675.76,579.941 1695.68,577.914 1715.59,575.896 1735.5,573.885 1755.41,571.882 1775.32,569.886 1795.23,567.898 1815.14,565.917 1835.06,563.942 1854.97,561.973 1874.88,560.011 1894.79,558.054 1914.7,556.103 1934.61,554.157 1954.53,552.215 1974.44,550.279 1994.35,548.346 2014.26,546.418 2034.17,544.494 2054.08,542.573 2073.99,540.655 2093.91,538.741 2113.82,536.828 2133.73,534.919 2153.64,533.011 2173.55,531.105 2193.46,529.201 2213.38,527.298 2233.29,525.396 2253.2,523.494 2273.11,521.593 2293.02,519.692 \"/>\n",
       "<polyline clip-path=\"url(#clip402)\" style=\"stroke:#3da44d; stroke-linecap:round; stroke-linejoin:round; stroke-width:4; stroke-opacity:1; fill:none\" points=\"301.869,160.256 321.781,168.425 341.692,176.378 361.604,184.124 381.515,191.672 401.427,199.029 421.338,206.205 441.25,213.208 461.161,220.046 481.073,226.728 500.984,233.262 520.896,239.656 540.807,245.92 560.719,252.061 580.631,258.088 600.542,264.01 620.454,269.834 640.365,275.569 660.277,281.225 680.188,286.808 700.1,292.328 720.011,297.794 739.923,303.213 759.834,308.593 779.746,313.945 799.657,319.275 819.569,324.593 839.48,329.906 859.392,335.224 879.303,340.555 899.215,345.907 919.126,351.288 939.038,356.708 958.949,362.174 978.861,367.696 998.772,373.281 1018.68,378.937 1038.6,384.675 1058.51,390.501 1078.42,396.425 1098.33,402.454 1118.24,408.598 1138.15,414.865 1158.06,421.263 1177.98,427.801 1197.89,434.487 1217.8,441.329 1237.71,448.337 1257.62,455.518 1277.53,462.881 1297.45,470.435 1317.36,478.188 1337.27,486.148 1357.18,494.325 1377.09,502.725 1397,511.359 1416.91,520.234 1436.83,529.359 1456.74,538.742 1476.65,548.392 1496.56,558.317 1516.47,568.526 1536.38,579.027 1556.3,589.829 1576.21,600.94 1596.12,612.369 1616.03,624.123 1635.94,636.213 1655.85,648.645 1675.76,661.429 1695.68,674.573 1715.59,688.085 1735.5,701.974 1755.41,716.249 1775.32,730.918 1795.23,745.989 1815.14,761.471 1835.06,777.372 1854.97,793.701 1874.88,810.466 1894.79,827.676 1914.7,845.34 1934.61,863.465 1954.53,882.06 1974.44,901.134 1994.35,920.695 2014.26,940.751 2034.17,961.312 2054.08,982.385 2073.99,1003.98 2093.91,1026.1 2113.82,1048.76 2133.73,1071.97 2153.64,1095.74 2173.55,1120.06 2193.46,1144.96 2213.38,1170.44 2233.29,1196.51 2253.2,1223.17 2273.11,1250.44 2293.02,1278.33 \"/>\n",
       "<polyline clip-path=\"url(#clip402)\" style=\"stroke:#c271d2; stroke-linecap:round; stroke-linejoin:round; stroke-width:4; stroke-opacity:1; fill:none\" points=\"301.869,921.864 321.781,921.343 341.692,920.826 361.604,920.314 381.515,919.807 401.427,919.305 421.338,918.809 441.25,918.317 461.161,917.83 481.073,917.349 500.984,916.872 520.896,916.401 540.807,915.934 560.719,915.473 580.631,915.016 600.542,914.565 620.454,914.119 640.365,913.678 660.277,913.242 680.188,912.81 700.1,912.384 720.011,911.963 739.923,911.548 759.834,911.137 779.746,910.731 799.657,910.33 819.569,909.934 839.48,909.544 859.392,909.158 879.303,908.778 899.215,908.402 919.126,908.032 939.038,907.667 958.949,907.306 978.861,906.951 998.772,906.601 1018.68,906.256 1038.6,905.916 1058.51,905.581 1078.42,905.251 1098.33,904.926 1118.24,904.606 1138.15,904.292 1158.06,903.982 1177.98,903.677 1197.89,903.378 1217.8,903.083 1237.71,902.794 1257.62,902.509 1277.53,902.23 1297.45,901.955 1317.36,901.686 1337.27,901.422 1357.18,901.163 1377.09,900.908 1397,900.659 1416.91,900.415 1436.83,900.176 1456.74,899.942 1476.65,899.713 1496.56,899.489 1516.47,899.27 1536.38,899.056 1556.3,898.847 1576.21,898.643 1596.12,898.445 1616.03,898.251 1635.94,898.062 1655.85,897.878 1675.76,897.699 1695.68,897.526 1715.59,897.357 1735.5,897.193 1755.41,897.034 1775.32,896.881 1795.23,896.732 1815.14,896.588 1835.06,896.45 1854.97,896.316 1874.88,896.187 1894.79,896.063 1914.7,895.945 1934.61,895.831 1954.53,895.722 1974.44,895.618 1994.35,895.52 2014.26,895.426 2034.17,895.337 2054.08,895.253 2073.99,895.174 2093.91,895.1 2113.82,895.031 2133.73,894.968 2153.64,894.909 2173.55,894.854 2193.46,894.805 2213.38,894.761 2233.29,894.722 2253.2,894.688 2273.11,894.659 2293.02,894.634 \"/>\n",
       "<polyline clip-path=\"url(#clip402)\" style=\"stroke:#ac8d18; stroke-linecap:round; stroke-linejoin:round; stroke-width:4; stroke-opacity:1; fill:none\" points=\"301.869,756.297 321.781,756.868 341.692,757.432 361.604,757.99 381.515,758.543 401.427,759.089 421.338,759.63 441.25,760.165 461.161,760.693 481.073,761.216 500.984,761.733 520.896,762.244 540.807,762.749 560.719,763.249 580.631,763.742 600.542,764.229 620.454,764.711 640.365,765.187 660.277,765.656 680.188,766.12 700.1,766.578 720.011,767.03 739.923,767.477 759.834,767.917 779.746,768.352 799.657,768.78 819.569,769.203 839.48,769.62 859.392,770.031 879.303,770.437 899.215,770.836 919.126,771.23 939.038,771.618 958.949,771.999 978.861,772.376 998.772,772.746 1018.68,773.11 1038.6,773.469 1058.51,773.822 1078.42,774.169 1098.33,774.51 1118.24,774.846 1138.15,775.175 1158.06,775.499 1177.98,775.817 1197.89,776.13 1217.8,776.436 1237.71,776.737 1257.62,777.032 1277.53,777.321 1297.45,777.604 1317.36,777.882 1337.27,778.154 1357.18,778.42 1377.09,778.681 1397,778.935 1416.91,779.184 1436.83,779.427 1456.74,779.665 1476.65,779.897 1496.56,780.123 1516.47,780.343 1536.38,780.557 1556.3,780.766 1576.21,780.969 1596.12,781.167 1616.03,781.358 1635.94,781.544 1655.85,781.725 1675.76,781.899 1695.68,782.068 1715.59,782.231 1735.5,782.389 1755.41,782.541 1775.32,782.687 1795.23,782.828 1815.14,782.962 1835.06,783.092 1854.97,783.215 1874.88,783.333 1894.79,783.445 1914.7,783.552 1934.61,783.653 1954.53,783.748 1974.44,783.837 1994.35,783.921 2014.26,784 2034.17,784.073 2054.08,784.14 2073.99,784.201 2093.91,784.257 2113.82,784.307 2133.73,784.352 2153.64,784.391 2173.55,784.424 2193.46,784.452 2213.38,784.474 2233.29,784.491 2253.2,784.502 2273.11,784.507 2293.02,784.507 \"/>\n",
       "<polyline clip-path=\"url(#clip402)\" style=\"stroke:#00a9ad; stroke-linecap:round; stroke-linejoin:round; stroke-width:4; stroke-opacity:1; fill:none\" points=\"301.869,988.091 321.781,983.699 341.692,979.475 361.604,975.421 381.515,971.535 401.427,967.818 421.338,964.27 441.25,960.891 461.161,957.68 481.073,954.639 500.984,951.766 520.896,949.063 540.807,946.528 560.719,944.163 580.631,941.966 600.542,939.939 620.454,938.08 640.365,936.391 660.277,934.87 680.188,933.519 700.1,932.337 720.011,931.324 739.923,930.479 759.834,929.804 779.746,929.299 799.657,928.962 819.569,928.794 839.48,928.796 859.392,928.967 879.303,929.307 899.215,929.816 919.126,930.494 939.038,931.342 958.949,932.359 978.861,933.545 998.772,934.9 1018.68,936.425 1038.6,938.119 1058.51,939.982 1078.42,942.015 1098.33,944.217 1118.24,946.588 1138.15,949.128 1158.06,951.838 1177.98,954.717 1197.89,957.766 1217.8,960.984 1237.71,964.371 1257.62,967.928 1277.53,971.654 1297.45,975.549 1317.36,979.614 1337.27,983.848 1357.18,988.252 1377.09,992.825 1397,997.568 1416.91,1002.48 1436.83,1007.56 1456.74,1012.81 1476.65,1018.23 1496.56,1023.82 1516.47,1029.58 1536.38,1035.51 1556.3,1041.61 1576.21,1047.88 1596.12,1054.32 1616.03,1060.92 1635.94,1067.7 1655.85,1074.64 1675.76,1081.76 1695.68,1089.04 1715.59,1096.5 1735.5,1104.12 1755.41,1111.92 1775.32,1119.88 1795.23,1128.01 1815.14,1136.31 1835.06,1144.78 1854.97,1153.43 1874.88,1162.24 1894.79,1171.22 1914.7,1180.37 1934.61,1189.68 1954.53,1199.17 1974.44,1208.83 1994.35,1218.66 2014.26,1228.65 2034.17,1238.82 2054.08,1249.16 2073.99,1259.66 2093.91,1270.34 2113.82,1281.18 2133.73,1292.19 2153.64,1303.38 2173.55,1314.73 2193.46,1326.25 2213.38,1337.94 2233.29,1349.8 2253.2,1361.83 2273.11,1374.03 2293.02,1386.4 \"/>\n",
       "<path clip-path=\"url(#clip400)\" d=\"M2028.05 529.676 L2282.4 529.676 L2282.4 166.796 L2028.05 166.796  Z\" fill=\"#ffffff\" fill-rule=\"evenodd\" fill-opacity=\"1\"/>\n",
       "<polyline clip-path=\"url(#clip400)\" style=\"stroke:#000000; stroke-linecap:round; stroke-linejoin:round; stroke-width:4; stroke-opacity:1; fill:none\" points=\"2028.05,529.676 2282.4,529.676 2282.4,166.796 2028.05,166.796 2028.05,529.676 \"/>\n",
       "<polyline clip-path=\"url(#clip400)\" style=\"stroke:#009af9; stroke-linecap:round; stroke-linejoin:round; stroke-width:4; stroke-opacity:1; fill:none\" points=\"2051.5,218.636 2192.21,218.636 \"/>\n",
       "<path clip-path=\"url(#clip400)\" d=\"M2240.32 209.99 L2230.94 222.606 L2240.8 235.916 L2235.78 235.916 L2228.23 225.731 L2220.69 235.916 L2215.66 235.916 L2225.73 222.351 L2216.52 209.99 L2221.54 209.99 L2228.42 219.226 L2235.29 209.99 L2240.32 209.99 Z\" fill=\"#000000\" fill-rule=\"evenodd\" fill-opacity=\"1\" /><path clip-path=\"url(#clip400)\" d=\"M2245.96 233.369 L2250.69 233.369 L2250.69 219.226 L2245.52 220.175 L2245.52 217.49 L2250.85 216.587 L2254.02 216.587 L2254.02 233.369 L2258.77 233.369 L2258.77 235.916 L2245.96 235.916 L2245.96 233.369 Z\" fill=\"#000000\" fill-rule=\"evenodd\" fill-opacity=\"1\" /><polyline clip-path=\"url(#clip400)\" style=\"stroke:#e26f46; stroke-linecap:round; stroke-linejoin:round; stroke-width:4; stroke-opacity:1; fill:none\" points=\"2051.5,270.476 2192.21,270.476 \"/>\n",
       "<path clip-path=\"url(#clip400)\" d=\"M2240.32 261.83 L2230.94 274.446 L2240.8 287.756 L2235.78 287.756 L2228.23 277.571 L2220.69 287.756 L2215.66 287.756 L2225.73 274.191 L2216.52 261.83 L2221.54 261.83 L2228.42 271.066 L2235.29 261.83 L2240.32 261.83 Z\" fill=\"#000000\" fill-rule=\"evenodd\" fill-opacity=\"1\" /><path clip-path=\"url(#clip400)\" d=\"M2248.56 285.117 L2258.37 285.117 L2258.37 287.756 L2244.53 287.756 L2244.53 285.209 Q2245.32 284.492 2246.77 283.196 Q2254.74 276.135 2254.74 273.959 Q2254.74 272.432 2253.53 271.506 Q2252.33 270.557 2250.36 270.557 Q2249.16 270.557 2247.75 270.973 Q2246.33 271.367 2244.67 272.177 L2244.67 269.33 Q2246.45 268.682 2247.98 268.358 Q2249.53 268.034 2250.85 268.034 Q2254.21 268.034 2256.22 269.561 Q2258.23 271.089 2258.23 273.589 Q2258.23 276.807 2250.57 283.381 Q2249.27 284.492 2248.56 285.117 Z\" fill=\"#000000\" fill-rule=\"evenodd\" fill-opacity=\"1\" /><polyline clip-path=\"url(#clip400)\" style=\"stroke:#3da44d; stroke-linecap:round; stroke-linejoin:round; stroke-width:4; stroke-opacity:1; fill:none\" points=\"2051.5,322.316 2192.21,322.316 \"/>\n",
       "<path clip-path=\"url(#clip400)\" d=\"M2240.32 313.67 L2230.94 326.286 L2240.8 339.596 L2235.78 339.596 L2228.23 329.411 L2220.69 339.596 L2215.66 339.596 L2225.73 326.031 L2216.52 313.67 L2221.54 313.67 L2228.42 322.906 L2235.29 313.67 L2240.32 313.67 Z\" fill=\"#000000\" fill-rule=\"evenodd\" fill-opacity=\"1\" /><path clip-path=\"url(#clip400)\" d=\"M2254.48 329.133 Q2256.61 329.549 2257.77 330.823 Q2258.95 332.073 2258.95 333.971 Q2258.95 336.841 2256.75 338.392 Q2254.55 339.943 2250.46 339.943 Q2249.14 339.943 2247.68 339.688 Q2246.24 339.457 2244.62 338.994 L2244.62 336.193 Q2245.83 336.818 2247.19 337.119 Q2248.58 337.42 2250.13 337.42 Q2252.65 337.42 2254.04 336.517 Q2255.43 335.591 2255.43 333.971 Q2255.43 332.258 2254.14 331.378 Q2252.86 330.499 2250.36 330.499 L2248.37 330.499 L2248.37 327.999 L2250.55 327.999 Q2252.72 327.999 2253.83 327.281 Q2254.97 326.54 2254.97 325.151 Q2254.97 323.809 2253.81 323.114 Q2252.65 322.397 2250.46 322.397 Q2249.53 322.397 2248.35 322.605 Q2247.17 322.813 2245.29 323.346 L2245.29 320.684 Q2246.98 320.29 2248.46 320.082 Q2249.95 319.874 2251.22 319.874 Q2254.55 319.874 2256.5 321.239 Q2258.46 322.605 2258.46 324.897 Q2258.46 326.494 2257.42 327.605 Q2256.38 328.716 2254.48 329.133 Z\" fill=\"#000000\" fill-rule=\"evenodd\" fill-opacity=\"1\" /><polyline clip-path=\"url(#clip400)\" style=\"stroke:#c271d2; stroke-linecap:round; stroke-linejoin:round; stroke-width:4; stroke-opacity:1; fill:none\" points=\"2051.5,374.156 2192.21,374.156 \"/>\n",
       "<path clip-path=\"url(#clip400)\" d=\"M2240.32 365.51 L2230.94 378.126 L2240.8 391.436 L2235.78 391.436 L2228.23 381.251 L2220.69 391.436 L2215.66 391.436 L2225.73 377.871 L2216.52 365.51 L2221.54 365.51 L2228.42 374.746 L2235.29 365.51 L2240.32 365.51 Z\" fill=\"#000000\" fill-rule=\"evenodd\" fill-opacity=\"1\" /><path clip-path=\"url(#clip400)\" d=\"M2228.33 355.417 L2232.58 355.417 L2232.58 360.811 L2228.33 360.811 L2228.33 355.417 M2230.5 364.885 L2230.5 364.885 Z\" fill=\"#000000\" fill-rule=\"evenodd\" fill-opacity=\"1\" /><path clip-path=\"url(#clip400)\" d=\"M2245.96 388.889 L2250.69 388.889 L2250.69 374.746 L2245.52 375.695 L2245.52 373.01 L2250.85 372.107 L2254.02 372.107 L2254.02 388.889 L2258.77 388.889 L2258.77 391.436 L2245.96 391.436 L2245.96 388.889 Z\" fill=\"#000000\" fill-rule=\"evenodd\" fill-opacity=\"1\" /><polyline clip-path=\"url(#clip400)\" style=\"stroke:#ac8d18; stroke-linecap:round; stroke-linejoin:round; stroke-width:4; stroke-opacity:1; fill:none\" points=\"2051.5,425.996 2192.21,425.996 \"/>\n",
       "<path clip-path=\"url(#clip400)\" d=\"M2240.32 417.35 L2230.94 429.966 L2240.8 443.276 L2235.78 443.276 L2228.23 433.091 L2220.69 443.276 L2215.66 443.276 L2225.73 429.711 L2216.52 417.35 L2221.54 417.35 L2228.42 426.586 L2235.29 417.35 L2240.32 417.35 Z\" fill=\"#000000\" fill-rule=\"evenodd\" fill-opacity=\"1\" /><path clip-path=\"url(#clip400)\" d=\"M2228.33 407.257 L2232.58 407.257 L2232.58 412.651 L2228.33 412.651 L2228.33 407.257 M2230.5 416.725 L2230.5 416.725 Z\" fill=\"#000000\" fill-rule=\"evenodd\" fill-opacity=\"1\" /><path clip-path=\"url(#clip400)\" d=\"M2248.56 440.637 L2258.37 440.637 L2258.37 443.276 L2244.53 443.276 L2244.53 440.729 Q2245.32 440.012 2246.77 438.716 Q2254.74 431.655 2254.74 429.479 Q2254.74 427.952 2253.53 427.026 Q2252.33 426.077 2250.36 426.077 Q2249.16 426.077 2247.75 426.493 Q2246.33 426.887 2244.67 427.697 L2244.67 424.85 Q2246.45 424.202 2247.98 423.878 Q2249.53 423.554 2250.85 423.554 Q2254.21 423.554 2256.22 425.081 Q2258.23 426.609 2258.23 429.109 Q2258.23 432.327 2250.57 438.901 Q2249.27 440.012 2248.56 440.637 Z\" fill=\"#000000\" fill-rule=\"evenodd\" fill-opacity=\"1\" /><polyline clip-path=\"url(#clip400)\" style=\"stroke:#00a9ad; stroke-linecap:round; stroke-linejoin:round; stroke-width:4; stroke-opacity:1; fill:none\" points=\"2051.5,477.836 2192.21,477.836 \"/>\n",
       "<path clip-path=\"url(#clip400)\" d=\"M2240.32 469.19 L2230.94 481.806 L2240.8 495.116 L2235.78 495.116 L2228.23 484.931 L2220.69 495.116 L2215.66 495.116 L2225.73 481.551 L2216.52 469.19 L2221.54 469.19 L2228.42 478.426 L2235.29 469.19 L2240.32 469.19 Z\" fill=\"#000000\" fill-rule=\"evenodd\" fill-opacity=\"1\" /><path clip-path=\"url(#clip400)\" d=\"M2228.33 459.097 L2232.58 459.097 L2232.58 464.491 L2228.33 464.491 L2228.33 459.097 M2230.5 468.565 L2230.5 468.565 Z\" fill=\"#000000\" fill-rule=\"evenodd\" fill-opacity=\"1\" /><path clip-path=\"url(#clip400)\" d=\"M2254.48 484.653 Q2256.61 485.069 2257.77 486.343 Q2258.95 487.593 2258.95 489.491 Q2258.95 492.361 2256.75 493.912 Q2254.55 495.463 2250.46 495.463 Q2249.14 495.463 2247.68 495.208 Q2246.24 494.977 2244.62 494.514 L2244.62 491.713 Q2245.83 492.338 2247.19 492.639 Q2248.58 492.94 2250.13 492.94 Q2252.65 492.94 2254.04 492.037 Q2255.43 491.111 2255.43 489.491 Q2255.43 487.778 2254.14 486.898 Q2252.86 486.019 2250.36 486.019 L2248.37 486.019 L2248.37 483.519 L2250.55 483.519 Q2252.72 483.519 2253.83 482.801 Q2254.97 482.06 2254.97 480.671 Q2254.97 479.329 2253.81 478.634 Q2252.65 477.917 2250.46 477.917 Q2249.53 477.917 2248.35 478.125 Q2247.17 478.333 2245.29 478.866 L2245.29 476.204 Q2246.98 475.81 2248.46 475.602 Q2249.95 475.394 2251.22 475.394 Q2254.55 475.394 2256.5 476.759 Q2258.46 478.125 2258.46 480.417 Q2258.46 482.014 2257.42 483.125 Q2256.38 484.236 2254.48 484.653 Z\" fill=\"#000000\" fill-rule=\"evenodd\" fill-opacity=\"1\" /></svg>\n"
      ]
     },
     "metadata": {},
     "output_type": "display_data"
    },
    {
     "data": {
      "image/png": "[encoded data removed]",
      "image/svg+xml": [
       "<?xml version=\"1.0\" encoding=\"utf-8\"?>\n",
       "<svg xmlns=\"http://www.w3.org/2000/svg\" xmlns:xlink=\"http://www.w3.org/1999/xlink\" width=\"600\" height=\"400\" viewBox=\"0 0 2400 1600\">\n",
       "<defs>\n",
       "  <clipPath id=\"clip440\">\n",
       "    <rect x=\"0\" y=\"0\" width=\"2400\" height=\"1600\"/>\n",
       "  </clipPath>\n",
       "</defs>\n",
       "<path clip-path=\"url(#clip440)\" d=\"M0 1600 L2400 1600 L2400 0 L0 0  Z\" fill=\"#ffffff\" fill-rule=\"evenodd\" fill-opacity=\"1\"/>\n",
       "<defs>\n",
       "  <clipPath id=\"clip441\">\n",
       "    <rect x=\"480\" y=\"0\" width=\"1681\" height=\"1600\"/>\n",
       "  </clipPath>\n",
       "</defs>\n",
       "<path clip-path=\"url(#clip440)\" d=\"M232.389 1423.18 L2352.76 1423.18 L2352.76 123.472 L232.389 123.472  Z\" fill=\"#ffffff\" fill-rule=\"evenodd\" fill-opacity=\"1\"/>\n",
       "<defs>\n",
       "  <clipPath id=\"clip442\">\n",
       "    <rect x=\"232\" y=\"123\" width=\"2121\" height=\"1301\"/>\n",
       "  </clipPath>\n",
       "</defs>\n",
       "<polyline clip-path=\"url(#clip442)\" style=\"stroke:#000000; stroke-linecap:round; stroke-linejoin:round; stroke-width:2; stroke-opacity:0.1; fill:none\" points=\"292.4,1423.18 292.4,123.472 \"/>\n",
       "<polyline clip-path=\"url(#clip442)\" style=\"stroke:#000000; stroke-linecap:round; stroke-linejoin:round; stroke-width:2; stroke-opacity:0.1; fill:none\" points=\"797.538,1423.18 797.538,123.472 \"/>\n",
       "<polyline clip-path=\"url(#clip442)\" style=\"stroke:#000000; stroke-linecap:round; stroke-linejoin:round; stroke-width:2; stroke-opacity:0.1; fill:none\" points=\"1302.68,1423.18 1302.68,123.472 \"/>\n",
       "<polyline clip-path=\"url(#clip442)\" style=\"stroke:#000000; stroke-linecap:round; stroke-linejoin:round; stroke-width:2; stroke-opacity:0.1; fill:none\" points=\"1807.81,1423.18 1807.81,123.472 \"/>\n",
       "<polyline clip-path=\"url(#clip442)\" style=\"stroke:#000000; stroke-linecap:round; stroke-linejoin:round; stroke-width:2; stroke-opacity:0.1; fill:none\" points=\"2312.95,1423.18 2312.95,123.472 \"/>\n",
       "<polyline clip-path=\"url(#clip440)\" style=\"stroke:#000000; stroke-linecap:round; stroke-linejoin:round; stroke-width:4; stroke-opacity:1; fill:none\" points=\"232.389,1423.18 2352.76,1423.18 \"/>\n",
       "<polyline clip-path=\"url(#clip440)\" style=\"stroke:#000000; stroke-linecap:round; stroke-linejoin:round; stroke-width:4; stroke-opacity:1; fill:none\" points=\"292.4,1423.18 292.4,1404.28 \"/>\n",
       "<polyline clip-path=\"url(#clip440)\" style=\"stroke:#000000; stroke-linecap:round; stroke-linejoin:round; stroke-width:4; stroke-opacity:1; fill:none\" points=\"797.538,1423.18 797.538,1404.28 \"/>\n",
       "<polyline clip-path=\"url(#clip440)\" style=\"stroke:#000000; stroke-linecap:round; stroke-linejoin:round; stroke-width:4; stroke-opacity:1; fill:none\" points=\"1302.68,1423.18 1302.68,1404.28 \"/>\n",
       "<polyline clip-path=\"url(#clip440)\" style=\"stroke:#000000; stroke-linecap:round; stroke-linejoin:round; stroke-width:4; stroke-opacity:1; fill:none\" points=\"1807.81,1423.18 1807.81,1404.28 \"/>\n",
       "<polyline clip-path=\"url(#clip440)\" style=\"stroke:#000000; stroke-linecap:round; stroke-linejoin:round; stroke-width:4; stroke-opacity:1; fill:none\" points=\"2312.95,1423.18 2312.95,1404.28 \"/>\n",
       "<path clip-path=\"url(#clip440)\" d=\"M269.784 1454.1 Q266.173 1454.1 264.344 1457.66 Q262.539 1461.2 262.539 1468.33 Q262.539 1475.44 264.344 1479.01 Q266.173 1482.55 269.784 1482.55 Q273.418 1482.55 275.224 1479.01 Q277.053 1475.44 277.053 1468.33 Q277.053 1461.2 275.224 1457.66 Q273.418 1454.1 269.784 1454.1 M269.784 1450.39 Q275.594 1450.39 278.65 1455 Q281.728 1459.58 281.728 1468.33 Q281.728 1477.06 278.65 1481.67 Q275.594 1486.25 269.784 1486.25 Q263.974 1486.25 260.895 1481.67 Q257.84 1477.06 257.84 1468.33 Q257.84 1459.58 260.895 1455 Q263.974 1450.39 269.784 1450.39 Z\" fill=\"#000000\" fill-rule=\"evenodd\" fill-opacity=\"1\" /><path clip-path=\"url(#clip440)\" d=\"M289.946 1479.7 L294.83 1479.7 L294.83 1485.58 L289.946 1485.58 L289.946 1479.7 Z\" fill=\"#000000\" fill-rule=\"evenodd\" fill-opacity=\"1\" /><path clip-path=\"url(#clip440)\" d=\"M315.015 1454.1 Q311.404 1454.1 309.576 1457.66 Q307.77 1461.2 307.77 1468.33 Q307.77 1475.44 309.576 1479.01 Q311.404 1482.55 315.015 1482.55 Q318.65 1482.55 320.455 1479.01 Q322.284 1475.44 322.284 1468.33 Q322.284 1461.2 320.455 1457.66 Q318.65 1454.1 315.015 1454.1 M315.015 1450.39 Q320.825 1450.39 323.881 1455 Q326.96 1459.58 326.96 1468.33 Q326.96 1477.06 323.881 1481.67 Q320.825 1486.25 315.015 1486.25 Q309.205 1486.25 306.126 1481.67 Q303.071 1477.06 303.071 1468.33 Q303.071 1459.58 306.126 1455 Q309.205 1450.39 315.015 1450.39 Z\" fill=\"#000000\" fill-rule=\"evenodd\" fill-opacity=\"1\" /><path clip-path=\"url(#clip440)\" d=\"M769.274 1481.64 L785.593 1481.64 L785.593 1485.58 L763.649 1485.58 L763.649 1481.64 Q766.311 1478.89 770.894 1474.26 Q775.501 1469.61 776.681 1468.27 Q778.927 1465.74 779.806 1464.01 Q780.709 1462.25 780.709 1460.56 Q780.709 1457.8 778.765 1456.07 Q776.843 1454.33 773.741 1454.33 Q771.542 1454.33 769.089 1455.09 Q766.658 1455.86 763.88 1457.41 L763.88 1452.69 Q766.704 1451.55 769.158 1450.97 Q771.612 1450.39 773.649 1450.39 Q779.019 1450.39 782.214 1453.08 Q785.408 1455.77 785.408 1460.26 Q785.408 1462.39 784.598 1464.31 Q783.811 1466.2 781.704 1468.8 Q781.126 1469.47 778.024 1472.69 Q774.922 1475.88 769.274 1481.64 Z\" fill=\"#000000\" fill-rule=\"evenodd\" fill-opacity=\"1\" /><path clip-path=\"url(#clip440)\" d=\"M795.408 1479.7 L800.292 1479.7 L800.292 1485.58 L795.408 1485.58 L795.408 1479.7 Z\" fill=\"#000000\" fill-rule=\"evenodd\" fill-opacity=\"1\" /><path clip-path=\"url(#clip440)\" d=\"M810.524 1451.02 L828.88 1451.02 L828.88 1454.96 L814.806 1454.96 L814.806 1463.43 Q815.824 1463.08 816.843 1462.92 Q817.862 1462.73 818.88 1462.73 Q824.667 1462.73 828.047 1465.9 Q831.426 1469.08 831.426 1474.49 Q831.426 1480.07 827.954 1483.17 Q824.482 1486.25 818.162 1486.25 Q815.987 1486.25 813.718 1485.88 Q811.473 1485.51 809.065 1484.77 L809.065 1480.07 Q811.149 1481.2 813.371 1481.76 Q815.593 1482.32 818.07 1482.32 Q822.074 1482.32 824.412 1480.21 Q826.75 1478.1 826.75 1474.49 Q826.75 1470.88 824.412 1468.77 Q822.074 1466.67 818.07 1466.67 Q816.195 1466.67 814.32 1467.08 Q812.468 1467.5 810.524 1468.38 L810.524 1451.02 Z\" fill=\"#000000\" fill-rule=\"evenodd\" fill-opacity=\"1\" /><path clip-path=\"url(#clip440)\" d=\"M1269.84 1451.02 L1288.2 1451.02 L1288.2 1454.96 L1274.12 1454.96 L1274.12 1463.43 Q1275.14 1463.08 1276.16 1462.92 Q1277.18 1462.73 1278.2 1462.73 Q1283.98 1462.73 1287.36 1465.9 Q1290.74 1469.08 1290.74 1474.49 Q1290.74 1480.07 1287.27 1483.17 Q1283.8 1486.25 1277.48 1486.25 Q1275.3 1486.25 1273.03 1485.88 Q1270.79 1485.51 1268.38 1484.77 L1268.38 1480.07 Q1270.46 1481.2 1272.69 1481.76 Q1274.91 1482.32 1277.39 1482.32 Q1281.39 1482.32 1283.73 1480.21 Q1286.07 1478.1 1286.07 1474.49 Q1286.07 1470.88 1283.73 1468.77 Q1281.39 1466.67 1277.39 1466.67 Q1275.51 1466.67 1273.64 1467.08 Q1271.78 1467.5 1269.84 1468.38 L1269.84 1451.02 Z\" fill=\"#000000\" fill-rule=\"evenodd\" fill-opacity=\"1\" /><path clip-path=\"url(#clip440)\" d=\"M1299.96 1479.7 L1304.84 1479.7 L1304.84 1485.58 L1299.96 1485.58 L1299.96 1479.7 Z\" fill=\"#000000\" fill-rule=\"evenodd\" fill-opacity=\"1\" /><path clip-path=\"url(#clip440)\" d=\"M1325.02 1454.1 Q1321.41 1454.1 1319.59 1457.66 Q1317.78 1461.2 1317.78 1468.33 Q1317.78 1475.44 1319.59 1479.01 Q1321.41 1482.55 1325.02 1482.55 Q1328.66 1482.55 1330.46 1479.01 Q1332.29 1475.44 1332.29 1468.33 Q1332.29 1461.2 1330.46 1457.66 Q1328.66 1454.1 1325.02 1454.1 M1325.02 1450.39 Q1330.83 1450.39 1333.89 1455 Q1336.97 1459.58 1336.97 1468.33 Q1336.97 1477.06 1333.89 1481.67 Q1330.83 1486.25 1325.02 1486.25 Q1319.21 1486.25 1316.14 1481.67 Q1313.08 1477.06 1313.08 1468.33 Q1313.08 1459.58 1316.14 1455 Q1319.21 1450.39 1325.02 1450.39 Z\" fill=\"#000000\" fill-rule=\"evenodd\" fill-opacity=\"1\" /><path clip-path=\"url(#clip440)\" d=\"M1774.13 1451.02 L1796.35 1451.02 L1796.35 1453.01 L1783.81 1485.58 L1778.92 1485.58 L1790.73 1454.96 L1774.13 1454.96 L1774.13 1451.02 Z\" fill=\"#000000\" fill-rule=\"evenodd\" fill-opacity=\"1\" /><path clip-path=\"url(#clip440)\" d=\"M1805.48 1479.7 L1810.36 1479.7 L1810.36 1485.58 L1805.48 1485.58 L1805.48 1479.7 Z\" fill=\"#000000\" fill-rule=\"evenodd\" fill-opacity=\"1\" /><path clip-path=\"url(#clip440)\" d=\"M1820.59 1451.02 L1838.95 1451.02 L1838.95 1454.96 L1824.87 1454.96 L1824.87 1463.43 Q1825.89 1463.08 1826.91 1462.92 Q1827.93 1462.73 1828.95 1462.73 Q1834.73 1462.73 1838.11 1465.9 Q1841.49 1469.08 1841.49 1474.49 Q1841.49 1480.07 1838.02 1483.17 Q1834.55 1486.25 1828.23 1486.25 Q1826.05 1486.25 1823.79 1485.88 Q1821.54 1485.51 1819.13 1484.77 L1819.13 1480.07 Q1821.22 1481.2 1823.44 1481.76 Q1825.66 1482.32 1828.14 1482.32 Q1832.14 1482.32 1834.48 1480.21 Q1836.82 1478.1 1836.82 1474.49 Q1836.82 1470.88 1834.48 1468.77 Q1832.14 1466.67 1828.14 1466.67 Q1826.26 1466.67 1824.39 1467.08 Q1822.54 1467.5 1820.59 1468.38 L1820.59 1451.02 Z\" fill=\"#000000\" fill-rule=\"evenodd\" fill-opacity=\"1\" /><path clip-path=\"url(#clip440)\" d=\"M2265.02 1481.64 L2272.66 1481.64 L2272.66 1455.28 L2264.35 1456.95 L2264.35 1452.69 L2272.62 1451.02 L2277.29 1451.02 L2277.29 1481.64 L2284.93 1481.64 L2284.93 1485.58 L2265.02 1485.58 L2265.02 1481.64 Z\" fill=\"#000000\" fill-rule=\"evenodd\" fill-opacity=\"1\" /><path clip-path=\"url(#clip440)\" d=\"M2304.37 1454.1 Q2300.76 1454.1 2298.93 1457.66 Q2297.13 1461.2 2297.13 1468.33 Q2297.13 1475.44 2298.93 1479.01 Q2300.76 1482.55 2304.37 1482.55 Q2308.01 1482.55 2309.81 1479.01 Q2311.64 1475.44 2311.64 1468.33 Q2311.64 1461.2 2309.81 1457.66 Q2308.01 1454.1 2304.37 1454.1 M2304.37 1450.39 Q2310.18 1450.39 2313.24 1455 Q2316.32 1459.58 2316.32 1468.33 Q2316.32 1477.06 2313.24 1481.67 Q2310.18 1486.25 2304.37 1486.25 Q2298.56 1486.25 2295.49 1481.67 Q2292.43 1477.06 2292.43 1468.33 Q2292.43 1459.58 2295.49 1455 Q2298.56 1450.39 2304.37 1450.39 Z\" fill=\"#000000\" fill-rule=\"evenodd\" fill-opacity=\"1\" /><path clip-path=\"url(#clip440)\" d=\"M2324.54 1479.7 L2329.42 1479.7 L2329.42 1485.58 L2324.54 1485.58 L2324.54 1479.7 Z\" fill=\"#000000\" fill-rule=\"evenodd\" fill-opacity=\"1\" /><path clip-path=\"url(#clip440)\" d=\"M2349.61 1454.1 Q2345.99 1454.1 2344.17 1457.66 Q2342.36 1461.2 2342.36 1468.33 Q2342.36 1475.44 2344.17 1479.01 Q2345.99 1482.55 2349.61 1482.55 Q2353.24 1482.55 2355.05 1479.01 Q2356.87 1475.44 2356.87 1468.33 Q2356.87 1461.2 2355.05 1457.66 Q2353.24 1454.1 2349.61 1454.1 M2349.61 1450.39 Q2355.42 1450.39 2358.47 1455 Q2361.55 1459.58 2361.55 1468.33 Q2361.55 1477.06 2358.47 1481.67 Q2355.42 1486.25 2349.61 1486.25 Q2343.8 1486.25 2340.72 1481.67 Q2337.66 1477.06 2337.66 1468.33 Q2337.66 1459.58 2340.72 1455 Q2343.8 1450.39 2349.61 1450.39 Z\" fill=\"#000000\" fill-rule=\"evenodd\" fill-opacity=\"1\" /><path clip-path=\"url(#clip440)\" d=\"M1180.03 1522.27 L1180.03 1532.4 L1192.09 1532.4 L1192.09 1536.95 L1180.03 1536.95 L1180.03 1556.3 Q1180.03 1560.66 1181.2 1561.9 Q1182.41 1563.14 1186.07 1563.14 L1192.09 1563.14 L1192.09 1568.04 L1186.07 1568.04 Q1179.29 1568.04 1176.72 1565.53 Q1174.14 1562.98 1174.14 1556.3 L1174.14 1536.95 L1169.84 1536.95 L1169.84 1532.4 L1174.14 1532.4 L1174.14 1522.27 L1180.03 1522.27 Z\" fill=\"#000000\" fill-rule=\"evenodd\" fill-opacity=\"1\" /><path clip-path=\"url(#clip440)\" d=\"M1199.79 1532.4 L1205.65 1532.4 L1205.65 1568.04 L1199.79 1568.04 L1199.79 1532.4 M1199.79 1518.52 L1205.65 1518.52 L1205.65 1525.93 L1199.79 1525.93 L1199.79 1518.52 Z\" fill=\"#000000\" fill-rule=\"evenodd\" fill-opacity=\"1\" /><path clip-path=\"url(#clip440)\" d=\"M1245.66 1539.24 Q1247.85 1535.29 1250.91 1533.41 Q1253.96 1531.54 1258.1 1531.54 Q1263.67 1531.54 1266.7 1535.45 Q1269.72 1539.33 1269.72 1546.53 L1269.72 1568.04 L1263.83 1568.04 L1263.83 1546.72 Q1263.83 1541.59 1262.02 1539.11 Q1260.2 1536.63 1256.48 1536.63 Q1251.93 1536.63 1249.29 1539.65 Q1246.64 1542.68 1246.64 1547.9 L1246.64 1568.04 L1240.76 1568.04 L1240.76 1546.72 Q1240.76 1541.56 1238.94 1539.11 Q1237.13 1536.63 1233.34 1536.63 Q1228.85 1536.63 1226.21 1539.68 Q1223.57 1542.71 1223.57 1547.9 L1223.57 1568.04 L1217.68 1568.04 L1217.68 1532.4 L1223.57 1532.4 L1223.57 1537.93 Q1225.57 1534.66 1228.37 1533.1 Q1231.18 1531.54 1235.03 1531.54 Q1238.91 1531.54 1241.62 1533.51 Q1244.35 1535.48 1245.66 1539.24 Z\" fill=\"#000000\" fill-rule=\"evenodd\" fill-opacity=\"1\" /><path clip-path=\"url(#clip440)\" d=\"M1311.89 1548.76 L1311.89 1551.62 L1284.97 1551.62 Q1285.35 1557.67 1288.59 1560.85 Q1291.87 1564 1297.7 1564 Q1301.07 1564 1304.22 1563.17 Q1307.4 1562.35 1310.52 1560.69 L1310.52 1566.23 Q1307.37 1567.57 1304.06 1568.27 Q1300.75 1568.97 1297.35 1568.97 Q1288.82 1568.97 1283.82 1564 Q1278.85 1559.04 1278.85 1550.57 Q1278.85 1541.82 1283.57 1536.69 Q1288.31 1531.54 1296.33 1531.54 Q1303.52 1531.54 1307.69 1536.18 Q1311.89 1540.8 1311.89 1548.76 M1306.04 1547.04 Q1305.97 1542.23 1303.33 1539.37 Q1300.72 1536.5 1296.39 1536.5 Q1291.49 1536.5 1288.53 1539.27 Q1285.6 1542.04 1285.16 1547.07 L1306.04 1547.04 Z\" fill=\"#000000\" fill-rule=\"evenodd\" fill-opacity=\"1\" /><path clip-path=\"url(#clip440)\" d=\"M1356.29 1518.58 Q1352.03 1525.9 1349.96 1533.06 Q1347.89 1540.23 1347.89 1547.58 Q1347.89 1554.93 1349.96 1562.16 Q1352.06 1569.35 1356.29 1576.64 L1351.2 1576.64 Q1346.43 1569.16 1344.04 1561.93 Q1341.68 1554.71 1341.68 1547.58 Q1341.68 1540.48 1344.04 1533.29 Q1346.39 1526.09 1351.2 1518.58 L1356.29 1518.58 Z\" fill=\"#000000\" fill-rule=\"evenodd\" fill-opacity=\"1\" /><path clip-path=\"url(#clip440)\" d=\"M1390.38 1533.45 L1390.38 1538.98 Q1387.9 1537.71 1385.23 1537.07 Q1382.55 1536.44 1379.69 1536.44 Q1375.33 1536.44 1373.13 1537.77 Q1370.97 1539.11 1370.97 1541.79 Q1370.97 1543.82 1372.53 1545 Q1374.09 1546.15 1378.8 1547.2 L1380.8 1547.64 Q1387.04 1548.98 1389.65 1551.43 Q1392.29 1553.85 1392.29 1558.21 Q1392.29 1563.17 1388.34 1566.07 Q1384.43 1568.97 1377.55 1568.97 Q1374.69 1568.97 1371.57 1568.39 Q1368.48 1567.85 1365.05 1566.74 L1365.05 1560.69 Q1368.29 1562.38 1371.44 1563.24 Q1374.59 1564.07 1377.68 1564.07 Q1381.82 1564.07 1384.05 1562.66 Q1386.28 1561.23 1386.28 1558.65 Q1386.28 1556.27 1384.65 1554.99 Q1383.06 1553.72 1377.62 1552.54 L1375.58 1552.07 Q1370.14 1550.92 1367.72 1548.56 Q1365.3 1546.18 1365.3 1542.04 Q1365.3 1537.01 1368.87 1534.27 Q1372.43 1531.54 1378.99 1531.54 Q1382.23 1531.54 1385.1 1532.01 Q1387.96 1532.49 1390.38 1533.45 Z\" fill=\"#000000\" fill-rule=\"evenodd\" fill-opacity=\"1\" /><path clip-path=\"url(#clip440)\" d=\"M1400.69 1518.58 L1405.79 1518.58 Q1410.56 1526.09 1412.92 1533.29 Q1415.3 1540.48 1415.3 1547.58 Q1415.3 1554.71 1412.92 1561.93 Q1410.56 1569.16 1405.79 1576.64 L1400.69 1576.64 Q1404.93 1569.35 1407 1562.16 Q1409.1 1554.93 1409.1 1547.58 Q1409.1 1540.23 1407 1533.06 Q1404.93 1525.9 1400.69 1518.58 Z\" fill=\"#000000\" fill-rule=\"evenodd\" fill-opacity=\"1\" /><polyline clip-path=\"url(#clip442)\" style=\"stroke:#000000; stroke-linecap:round; stroke-linejoin:round; stroke-width:2; stroke-opacity:0.1; fill:none\" points=\"232.389,1353.42 2352.76,1353.42 \"/>\n",
       "<polyline clip-path=\"url(#clip442)\" style=\"stroke:#000000; stroke-linecap:round; stroke-linejoin:round; stroke-width:2; stroke-opacity:0.1; fill:none\" points=\"232.389,1161.95 2352.76,1161.95 \"/>\n",
       "<polyline clip-path=\"url(#clip442)\" style=\"stroke:#000000; stroke-linecap:round; stroke-linejoin:round; stroke-width:2; stroke-opacity:0.1; fill:none\" points=\"232.389,970.474 2352.76,970.474 \"/>\n",
       "<polyline clip-path=\"url(#clip442)\" style=\"stroke:#000000; stroke-linecap:round; stroke-linejoin:round; stroke-width:2; stroke-opacity:0.1; fill:none\" points=\"232.389,778.999 2352.76,778.999 \"/>\n",
       "<polyline clip-path=\"url(#clip442)\" style=\"stroke:#000000; stroke-linecap:round; stroke-linejoin:round; stroke-width:2; stroke-opacity:0.1; fill:none\" points=\"232.389,587.524 2352.76,587.524 \"/>\n",
       "<polyline clip-path=\"url(#clip442)\" style=\"stroke:#000000; stroke-linecap:round; stroke-linejoin:round; stroke-width:2; stroke-opacity:0.1; fill:none\" points=\"232.389,396.049 2352.76,396.049 \"/>\n",
       "<polyline clip-path=\"url(#clip442)\" style=\"stroke:#000000; stroke-linecap:round; stroke-linejoin:round; stroke-width:2; stroke-opacity:0.1; fill:none\" points=\"232.389,204.575 2352.76,204.575 \"/>\n",
       "<polyline clip-path=\"url(#clip440)\" style=\"stroke:#000000; stroke-linecap:round; stroke-linejoin:round; stroke-width:4; stroke-opacity:1; fill:none\" points=\"232.389,1423.18 232.389,123.472 \"/>\n",
       "<polyline clip-path=\"url(#clip440)\" style=\"stroke:#000000; stroke-linecap:round; stroke-linejoin:round; stroke-width:4; stroke-opacity:1; fill:none\" points=\"232.389,1353.42 251.287,1353.42 \"/>\n",
       "<polyline clip-path=\"url(#clip440)\" style=\"stroke:#000000; stroke-linecap:round; stroke-linejoin:round; stroke-width:4; stroke-opacity:1; fill:none\" points=\"232.389,1161.95 251.287,1161.95 \"/>\n",
       "<polyline clip-path=\"url(#clip440)\" style=\"stroke:#000000; stroke-linecap:round; stroke-linejoin:round; stroke-width:4; stroke-opacity:1; fill:none\" points=\"232.389,970.474 251.287,970.474 \"/>\n",
       "<polyline clip-path=\"url(#clip440)\" style=\"stroke:#000000; stroke-linecap:round; stroke-linejoin:round; stroke-width:4; stroke-opacity:1; fill:none\" points=\"232.389,778.999 251.287,778.999 \"/>\n",
       "<polyline clip-path=\"url(#clip440)\" style=\"stroke:#000000; stroke-linecap:round; stroke-linejoin:round; stroke-width:4; stroke-opacity:1; fill:none\" points=\"232.389,587.524 251.287,587.524 \"/>\n",
       "<polyline clip-path=\"url(#clip440)\" style=\"stroke:#000000; stroke-linecap:round; stroke-linejoin:round; stroke-width:4; stroke-opacity:1; fill:none\" points=\"232.389,396.049 251.287,396.049 \"/>\n",
       "<polyline clip-path=\"url(#clip440)\" style=\"stroke:#000000; stroke-linecap:round; stroke-linejoin:round; stroke-width:4; stroke-opacity:1; fill:none\" points=\"232.389,204.575 251.287,204.575 \"/>\n",
       "<path clip-path=\"url(#clip440)\" d=\"M184.445 1339.22 Q180.834 1339.22 179.005 1342.79 Q177.2 1346.33 177.2 1353.46 Q177.2 1360.56 179.005 1364.13 Q180.834 1367.67 184.445 1367.67 Q188.079 1367.67 189.885 1364.13 Q191.713 1360.56 191.713 1353.46 Q191.713 1346.33 189.885 1342.79 Q188.079 1339.22 184.445 1339.22 M184.445 1335.52 Q190.255 1335.52 193.311 1340.12 Q196.389 1344.71 196.389 1353.46 Q196.389 1362.18 193.311 1366.79 Q190.255 1371.37 184.445 1371.37 Q178.635 1371.37 175.556 1366.79 Q172.501 1362.18 172.501 1353.46 Q172.501 1344.71 175.556 1340.12 Q178.635 1335.52 184.445 1335.52 Z\" fill=\"#000000\" fill-rule=\"evenodd\" fill-opacity=\"1\" /><path clip-path=\"url(#clip440)\" d=\"M148.311 1175.29 L164.63 1175.29 L164.63 1179.23 L142.686 1179.23 L142.686 1175.29 Q145.348 1172.54 149.931 1167.91 Q154.538 1163.26 155.718 1161.91 Q157.964 1159.39 158.843 1157.65 Q159.746 1155.9 159.746 1154.21 Q159.746 1151.45 157.802 1149.71 Q155.88 1147.98 152.778 1147.98 Q150.579 1147.98 148.126 1148.74 Q145.695 1149.51 142.917 1151.06 L142.917 1146.34 Q145.741 1145.2 148.195 1144.62 Q150.649 1144.04 152.686 1144.04 Q158.056 1144.04 161.251 1146.73 Q164.445 1149.41 164.445 1153.9 Q164.445 1156.03 163.635 1157.96 Q162.848 1159.85 160.741 1162.45 Q160.163 1163.12 157.061 1166.34 Q153.959 1169.53 148.311 1175.29 Z\" fill=\"#000000\" fill-rule=\"evenodd\" fill-opacity=\"1\" /><path clip-path=\"url(#clip440)\" d=\"M184.445 1147.75 Q180.834 1147.75 179.005 1151.31 Q177.2 1154.85 177.2 1161.98 Q177.2 1169.09 179.005 1172.65 Q180.834 1176.2 184.445 1176.2 Q188.079 1176.2 189.885 1172.65 Q191.713 1169.09 191.713 1161.98 Q191.713 1154.85 189.885 1151.31 Q188.079 1147.75 184.445 1147.75 M184.445 1144.04 Q190.255 1144.04 193.311 1148.65 Q196.389 1153.23 196.389 1161.98 Q196.389 1170.71 193.311 1175.32 Q190.255 1179.9 184.445 1179.9 Q178.635 1179.9 175.556 1175.32 Q172.501 1170.71 172.501 1161.98 Q172.501 1153.23 175.556 1148.65 Q178.635 1144.04 184.445 1144.04 Z\" fill=\"#000000\" fill-rule=\"evenodd\" fill-opacity=\"1\" /><path clip-path=\"url(#clip440)\" d=\"M157.13 957.268 L145.325 975.717 L157.13 975.717 L157.13 957.268 M155.903 953.194 L161.783 953.194 L161.783 975.717 L166.714 975.717 L166.714 979.606 L161.783 979.606 L161.783 987.754 L157.13 987.754 L157.13 979.606 L141.529 979.606 L141.529 975.092 L155.903 953.194 Z\" fill=\"#000000\" fill-rule=\"evenodd\" fill-opacity=\"1\" /><path clip-path=\"url(#clip440)\" d=\"M184.445 956.272 Q180.834 956.272 179.005 959.837 Q177.2 963.379 177.2 970.508 Q177.2 977.615 179.005 981.18 Q180.834 984.721 184.445 984.721 Q188.079 984.721 189.885 981.18 Q191.713 977.615 191.713 970.508 Q191.713 963.379 189.885 959.837 Q188.079 956.272 184.445 956.272 M184.445 952.569 Q190.255 952.569 193.311 957.175 Q196.389 961.759 196.389 970.508 Q196.389 979.235 193.311 983.842 Q190.255 988.425 184.445 988.425 Q178.635 988.425 175.556 983.842 Q172.501 979.235 172.501 970.508 Q172.501 961.759 175.556 957.175 Q178.635 952.569 184.445 952.569 Z\" fill=\"#000000\" fill-rule=\"evenodd\" fill-opacity=\"1\" /><path clip-path=\"url(#clip440)\" d=\"M154.862 777.136 Q151.714 777.136 149.862 779.288 Q148.033 781.441 148.033 785.191 Q148.033 788.918 149.862 791.094 Q151.714 793.247 154.862 793.247 Q158.01 793.247 159.839 791.094 Q161.69 788.918 161.69 785.191 Q161.69 781.441 159.839 779.288 Q158.01 777.136 154.862 777.136 M164.144 762.483 L164.144 766.742 Q162.385 765.909 160.579 765.469 Q158.797 765.029 157.038 765.029 Q152.408 765.029 149.954 768.154 Q147.524 771.279 147.177 777.598 Q148.542 775.585 150.603 774.52 Q152.663 773.432 155.14 773.432 Q160.348 773.432 163.357 776.603 Q166.39 779.751 166.39 785.191 Q166.39 790.515 163.241 793.733 Q160.093 796.95 154.862 796.95 Q148.866 796.95 145.695 792.367 Q142.524 787.76 142.524 779.034 Q142.524 770.839 146.413 765.978 Q150.302 761.094 156.853 761.094 Q158.612 761.094 160.394 761.441 Q162.2 761.788 164.144 762.483 Z\" fill=\"#000000\" fill-rule=\"evenodd\" fill-opacity=\"1\" /><path clip-path=\"url(#clip440)\" d=\"M184.445 764.798 Q180.834 764.798 179.005 768.362 Q177.2 771.904 177.2 779.034 Q177.2 786.14 179.005 789.705 Q180.834 793.247 184.445 793.247 Q188.079 793.247 189.885 789.705 Q191.713 786.14 191.713 779.034 Q191.713 771.904 189.885 768.362 Q188.079 764.798 184.445 764.798 M184.445 761.094 Q190.255 761.094 193.311 765.7 Q196.389 770.284 196.389 779.034 Q196.389 787.76 193.311 792.367 Q190.255 796.95 184.445 796.95 Q178.635 796.95 175.556 792.367 Q172.501 787.76 172.501 779.034 Q172.501 770.284 175.556 765.7 Q178.635 761.094 184.445 761.094 Z\" fill=\"#000000\" fill-rule=\"evenodd\" fill-opacity=\"1\" /><path clip-path=\"url(#clip440)\" d=\"M154.283 588.392 Q150.95 588.392 149.028 590.175 Q147.13 591.957 147.13 595.082 Q147.13 598.207 149.028 599.989 Q150.95 601.772 154.283 601.772 Q157.616 601.772 159.538 599.989 Q161.459 598.184 161.459 595.082 Q161.459 591.957 159.538 590.175 Q157.64 588.392 154.283 588.392 M149.607 586.401 Q146.598 585.661 144.908 583.601 Q143.241 581.54 143.241 578.577 Q143.241 574.434 146.181 572.027 Q149.144 569.619 154.283 569.619 Q159.445 569.619 162.385 572.027 Q165.325 574.434 165.325 578.577 Q165.325 581.54 163.635 583.601 Q161.968 585.661 158.982 586.401 Q162.362 587.188 164.237 589.48 Q166.135 591.772 166.135 595.082 Q166.135 600.105 163.056 602.79 Q160.001 605.475 154.283 605.475 Q148.566 605.475 145.487 602.79 Q142.431 600.105 142.431 595.082 Q142.431 591.772 144.329 589.48 Q146.228 587.188 149.607 586.401 M147.894 579.017 Q147.894 581.702 149.561 583.207 Q151.251 584.712 154.283 584.712 Q157.292 584.712 158.982 583.207 Q160.695 581.702 160.695 579.017 Q160.695 576.332 158.982 574.827 Q157.292 573.323 154.283 573.323 Q151.251 573.323 149.561 574.827 Q147.894 576.332 147.894 579.017 Z\" fill=\"#000000\" fill-rule=\"evenodd\" fill-opacity=\"1\" /><path clip-path=\"url(#clip440)\" d=\"M184.445 573.323 Q180.834 573.323 179.005 576.888 Q177.2 580.429 177.2 587.559 Q177.2 594.665 179.005 598.23 Q180.834 601.772 184.445 601.772 Q188.079 601.772 189.885 598.23 Q191.713 594.665 191.713 587.559 Q191.713 580.429 189.885 576.888 Q188.079 573.323 184.445 573.323 M184.445 569.619 Q190.255 569.619 193.311 574.226 Q196.389 578.809 196.389 587.559 Q196.389 596.286 193.311 600.892 Q190.255 605.475 184.445 605.475 Q178.635 605.475 175.556 600.892 Q172.501 596.286 172.501 587.559 Q172.501 578.809 175.556 574.226 Q178.635 569.619 184.445 569.619 Z\" fill=\"#000000\" fill-rule=\"evenodd\" fill-opacity=\"1\" /><path clip-path=\"url(#clip440)\" d=\"M114.931 409.394 L122.57 409.394 L122.57 383.029 L114.26 384.695 L114.26 380.436 L122.524 378.769 L127.2 378.769 L127.2 409.394 L134.839 409.394 L134.839 413.329 L114.931 413.329 L114.931 409.394 Z\" fill=\"#000000\" fill-rule=\"evenodd\" fill-opacity=\"1\" /><path clip-path=\"url(#clip440)\" d=\"M154.283 381.848 Q150.672 381.848 148.843 385.413 Q147.038 388.954 147.038 396.084 Q147.038 403.19 148.843 406.755 Q150.672 410.297 154.283 410.297 Q157.917 410.297 159.723 406.755 Q161.552 403.19 161.552 396.084 Q161.552 388.954 159.723 385.413 Q157.917 381.848 154.283 381.848 M154.283 378.144 Q160.093 378.144 163.149 382.751 Q166.227 387.334 166.227 396.084 Q166.227 404.811 163.149 409.417 Q160.093 414.001 154.283 414.001 Q148.473 414.001 145.394 409.417 Q142.339 404.811 142.339 396.084 Q142.339 387.334 145.394 382.751 Q148.473 378.144 154.283 378.144 Z\" fill=\"#000000\" fill-rule=\"evenodd\" fill-opacity=\"1\" /><path clip-path=\"url(#clip440)\" d=\"M184.445 381.848 Q180.834 381.848 179.005 385.413 Q177.2 388.954 177.2 396.084 Q177.2 403.19 179.005 406.755 Q180.834 410.297 184.445 410.297 Q188.079 410.297 189.885 406.755 Q191.713 403.19 191.713 396.084 Q191.713 388.954 189.885 385.413 Q188.079 381.848 184.445 381.848 M184.445 378.144 Q190.255 378.144 193.311 382.751 Q196.389 387.334 196.389 396.084 Q196.389 404.811 193.311 409.417 Q190.255 414.001 184.445 414.001 Q178.635 414.001 175.556 409.417 Q172.501 404.811 172.501 396.084 Q172.501 387.334 175.556 382.751 Q178.635 378.144 184.445 378.144 Z\" fill=\"#000000\" fill-rule=\"evenodd\" fill-opacity=\"1\" /><path clip-path=\"url(#clip440)\" d=\"M114.931 217.919 L122.57 217.919 L122.57 191.554 L114.26 193.22 L114.26 188.961 L122.524 187.295 L127.2 187.295 L127.2 217.919 L134.839 217.919 L134.839 221.855 L114.931 221.855 L114.931 217.919 Z\" fill=\"#000000\" fill-rule=\"evenodd\" fill-opacity=\"1\" /><path clip-path=\"url(#clip440)\" d=\"M148.311 217.919 L164.63 217.919 L164.63 221.855 L142.686 221.855 L142.686 217.919 Q145.348 215.165 149.931 210.535 Q154.538 205.882 155.718 204.54 Q157.964 202.017 158.843 200.281 Q159.746 198.521 159.746 196.831 Q159.746 194.077 157.802 192.341 Q155.88 190.605 152.778 190.605 Q150.579 190.605 148.126 191.369 Q145.695 192.132 142.917 193.683 L142.917 188.961 Q145.741 187.827 148.195 187.248 Q150.649 186.67 152.686 186.67 Q158.056 186.67 161.251 189.355 Q164.445 192.04 164.445 196.531 Q164.445 198.66 163.635 200.581 Q162.848 202.48 160.741 205.072 Q160.163 205.743 157.061 208.961 Q153.959 212.155 148.311 217.919 Z\" fill=\"#000000\" fill-rule=\"evenodd\" fill-opacity=\"1\" /><path clip-path=\"url(#clip440)\" d=\"M184.445 190.373 Q180.834 190.373 179.005 193.938 Q177.2 197.48 177.2 204.609 Q177.2 211.716 179.005 215.28 Q180.834 218.822 184.445 218.822 Q188.079 218.822 189.885 215.28 Q191.713 211.716 191.713 204.609 Q191.713 197.48 189.885 193.938 Q188.079 190.373 184.445 190.373 M184.445 186.67 Q190.255 186.67 193.311 191.276 Q196.389 195.859 196.389 204.609 Q196.389 213.336 193.311 217.942 Q190.255 222.526 184.445 222.526 Q178.635 222.526 175.556 217.942 Q172.501 213.336 172.501 204.609 Q172.501 195.859 175.556 191.276 Q178.635 186.67 184.445 186.67 Z\" fill=\"#000000\" fill-rule=\"evenodd\" fill-opacity=\"1\" /><path clip-path=\"url(#clip440)\" d=\"M49.9359 788.254 L28.3562 788.254 L28.3562 782.397 L49.7131 782.397 Q54.7739 782.397 57.3202 780.424 Q59.8346 778.45 59.8346 774.504 Q59.8346 769.761 56.8109 767.024 Q53.7872 764.255 48.5673 764.255 L28.3562 764.255 L28.3562 758.398 L64.0042 758.398 L64.0042 764.255 L58.5296 764.255 Q61.7762 766.387 63.3676 769.22 Q64.9272 772.021 64.9272 775.745 Q64.9272 781.888 61.1078 785.071 Q57.2883 788.254 49.9359 788.254 M27.4968 773.517 L27.4968 773.517 Z\" fill=\"#000000\" fill-rule=\"evenodd\" fill-opacity=\"1\" /><path clip-path=\"url(#clip440)\" d=\"M1029.71 12.096 L1037.89 12.096 L1037.89 72.576 L1029.71 72.576 L1029.71 12.096 Z\" fill=\"#000000\" fill-rule=\"evenodd\" fill-opacity=\"1\" /><path clip-path=\"url(#clip440)\" d=\"M1091.57 45.1919 L1091.57 72.576 L1084.11 72.576 L1084.11 45.4349 Q1084.11 38.994 1081.6 35.7938 Q1079.09 32.5936 1074.07 32.5936 Q1068.03 32.5936 1064.55 36.4419 Q1061.06 40.2903 1061.06 46.9338 L1061.06 72.576 L1053.57 72.576 L1053.57 27.2059 L1061.06 27.2059 L1061.06 34.2544 Q1063.74 30.163 1067.34 28.1376 Q1070.99 26.1121 1075.73 26.1121 Q1083.55 26.1121 1087.56 30.9732 Q1091.57 35.7938 1091.57 45.1919 Z\" fill=\"#000000\" fill-rule=\"evenodd\" fill-opacity=\"1\" /><path clip-path=\"url(#clip440)\" d=\"M1113.64 65.7705 L1113.64 89.8329 L1106.15 89.8329 L1106.15 27.2059 L1113.64 27.2059 L1113.64 34.0924 Q1115.99 30.0415 1119.56 28.0971 Q1123.16 26.1121 1128.15 26.1121 Q1136.41 26.1121 1141.55 32.6746 Q1146.74 39.2371 1146.74 49.9314 Q1146.74 60.6258 1141.55 67.1883 Q1136.41 73.7508 1128.15 73.7508 Q1123.16 73.7508 1119.56 71.8063 Q1115.99 69.8214 1113.64 65.7705 M1139 49.9314 Q1139 41.7081 1135.6 37.0496 Q1132.24 32.3505 1126.32 32.3505 Q1120.41 32.3505 1117.01 37.0496 Q1113.64 41.7081 1113.64 49.9314 Q1113.64 58.1548 1117.01 62.8538 Q1120.41 67.5124 1126.32 67.5124 Q1132.24 67.5124 1135.6 62.8538 Q1139 58.1548 1139 49.9314 Z\" fill=\"#000000\" fill-rule=\"evenodd\" fill-opacity=\"1\" /><path clip-path=\"url(#clip440)\" d=\"M1158.33 54.671 L1158.33 27.2059 L1165.78 27.2059 L1165.78 54.3874 Q1165.78 60.8284 1168.29 64.0691 Q1170.8 67.2693 1175.83 67.2693 Q1181.86 67.2693 1185.35 63.421 Q1188.87 59.5726 1188.87 52.9291 L1188.87 27.2059 L1196.32 27.2059 L1196.32 72.576 L1188.87 72.576 L1188.87 65.6084 Q1186.16 69.7404 1182.55 71.7658 Q1178.99 73.7508 1174.25 73.7508 Q1166.43 73.7508 1162.38 68.8897 Q1158.33 64.0286 1158.33 54.671 M1177.08 26.1121 L1177.08 26.1121 Z\" fill=\"#000000\" fill-rule=\"evenodd\" fill-opacity=\"1\" /><path clip-path=\"url(#clip440)\" d=\"M1219.05 14.324 L1219.05 27.2059 L1234.4 27.2059 L1234.4 32.9987 L1219.05 32.9987 L1219.05 57.6282 Q1219.05 63.1779 1220.55 64.7578 Q1222.09 66.3376 1226.75 66.3376 L1234.4 66.3376 L1234.4 72.576 L1226.75 72.576 Q1218.12 72.576 1214.84 69.3758 Q1211.55 66.1351 1211.55 57.6282 L1211.55 32.9987 L1206.09 32.9987 L1206.09 27.2059 L1211.55 27.2059 L1211.55 14.324 L1219.05 14.324 Z\" fill=\"#000000\" fill-rule=\"evenodd\" fill-opacity=\"1\" /><path clip-path=\"url(#clip440)\" d=\"M1270.9 12.096 L1279.08 12.096 L1279.08 36.8875 L1308.82 36.8875 L1308.82 12.096 L1317 12.096 L1317 72.576 L1308.82 72.576 L1308.82 43.7741 L1279.08 43.7741 L1279.08 72.576 L1270.9 72.576 L1270.9 12.096 Z\" fill=\"#000000\" fill-rule=\"evenodd\" fill-opacity=\"1\" /><path clip-path=\"url(#clip440)\" d=\"M1332.96 27.2059 L1340.41 27.2059 L1340.41 72.576 L1332.96 72.576 L1332.96 27.2059 M1332.96 9.54393 L1340.41 9.54393 L1340.41 18.9825 L1332.96 18.9825 L1332.96 9.54393 Z\" fill=\"#000000\" fill-rule=\"evenodd\" fill-opacity=\"1\" /><path clip-path=\"url(#clip440)\" d=\"M1384.93 28.5427 L1384.93 35.5912 Q1381.77 33.9709 1378.37 33.1607 Q1374.97 32.3505 1371.32 32.3505 Q1365.77 32.3505 1362.98 34.0519 Q1360.22 35.7533 1360.22 39.156 Q1360.22 41.7486 1362.21 43.2475 Q1364.19 44.7058 1370.19 46.0426 L1372.74 46.6097 Q1380.68 48.3111 1384 51.4303 Q1387.36 54.509 1387.36 60.0587 Q1387.36 66.3781 1382.34 70.0644 Q1377.36 73.7508 1368.61 73.7508 Q1364.96 73.7508 1360.99 73.0216 Q1357.06 72.3329 1352.69 70.9151 L1352.69 63.2184 Q1356.82 65.3654 1360.83 66.4591 Q1364.84 67.5124 1368.77 67.5124 Q1374.04 67.5124 1376.87 65.73 Q1379.71 63.9071 1379.71 60.6258 Q1379.71 57.5877 1377.64 55.9673 Q1375.62 54.3469 1368.69 52.8481 L1366.1 52.2405 Q1359.17 50.7821 1356.09 47.7845 Q1353.01 44.7463 1353.01 39.4801 Q1353.01 33.0797 1357.55 29.5959 Q1362.09 26.1121 1370.43 26.1121 Q1374.56 26.1121 1378.21 26.7198 Q1381.85 27.3274 1384.93 28.5427 Z\" fill=\"#000000\" fill-rule=\"evenodd\" fill-opacity=\"1\" /><path clip-path=\"url(#clip440)\" d=\"M1406.61 14.324 L1406.61 27.2059 L1421.96 27.2059 L1421.96 32.9987 L1406.61 32.9987 L1406.61 57.6282 Q1406.61 63.1779 1408.1 64.7578 Q1409.64 66.3376 1414.3 66.3376 L1421.96 66.3376 L1421.96 72.576 L1414.3 72.576 Q1405.67 72.576 1402.39 69.3758 Q1399.11 66.1351 1399.11 57.6282 L1399.11 32.9987 L1393.64 32.9987 L1393.64 27.2059 L1399.11 27.2059 L1399.11 14.324 L1406.61 14.324 Z\" fill=\"#000000\" fill-rule=\"evenodd\" fill-opacity=\"1\" /><path clip-path=\"url(#clip440)\" d=\"M1449.34 32.4315 Q1443.35 32.4315 1439.86 37.1306 Q1436.38 41.7891 1436.38 49.9314 Q1436.38 58.0738 1439.82 62.7728 Q1443.31 67.4314 1449.34 67.4314 Q1455.3 67.4314 1458.78 62.7323 Q1462.27 58.0333 1462.27 49.9314 Q1462.27 41.8701 1458.78 37.1711 Q1455.3 32.4315 1449.34 32.4315 M1449.34 26.1121 Q1459.06 26.1121 1464.61 32.4315 Q1470.16 38.7509 1470.16 49.9314 Q1470.16 61.0714 1464.61 67.4314 Q1459.06 73.7508 1449.34 73.7508 Q1439.58 73.7508 1434.03 67.4314 Q1428.52 61.0714 1428.52 49.9314 Q1428.52 38.7509 1434.03 32.4315 Q1439.58 26.1121 1449.34 26.1121 Z\" fill=\"#000000\" fill-rule=\"evenodd\" fill-opacity=\"1\" /><path clip-path=\"url(#clip440)\" d=\"M1508.81 34.1734 Q1507.55 33.4443 1506.06 33.1202 Q1504.6 32.7556 1502.81 32.7556 Q1496.5 32.7556 1493.09 36.8875 Q1489.73 40.9789 1489.73 48.6757 L1489.73 72.576 L1482.24 72.576 L1482.24 27.2059 L1489.73 27.2059 L1489.73 34.2544 Q1492.08 30.1225 1495.85 28.1376 Q1499.61 26.1121 1505 26.1121 Q1505.77 26.1121 1506.7 26.2337 Q1507.64 26.3147 1508.77 26.5172 L1508.81 34.1734 Z\" fill=\"#000000\" fill-rule=\"evenodd\" fill-opacity=\"1\" /><path clip-path=\"url(#clip440)\" d=\"M1535.51 76.7889 Q1532.35 84.8907 1529.35 87.3618 Q1526.35 89.8329 1521.33 89.8329 L1515.37 89.8329 L1515.37 83.5945 L1519.75 83.5945 Q1522.83 83.5945 1524.53 82.1361 Q1526.23 80.6778 1528.29 75.2496 L1529.63 71.8468 L1511.28 27.2059 L1519.18 27.2059 L1533.36 62.6918 L1547.54 27.2059 L1555.44 27.2059 L1535.51 76.7889 Z\" fill=\"#000000\" fill-rule=\"evenodd\" fill-opacity=\"1\" /><polyline clip-path=\"url(#clip442)\" style=\"stroke:#009af9; stroke-linecap:round; stroke-linejoin:round; stroke-width:4; stroke-opacity:1; fill:none\" points=\"292.4,1323.25 312.605,1323.54 332.811,1323.83 353.016,1324.12 373.222,1324.41 393.427,1324.7 413.633,1324.99 433.838,1325.28 454.044,1325.58 474.249,1325.87 494.455,1326.16 514.66,1326.45 534.866,1326.74 555.071,1327.04 575.277,1327.33 595.482,1327.62 615.688,1327.91 635.893,1328.2 656.099,1328.5 676.304,1328.79 696.51,1329.08 716.715,1329.37 736.921,1329.67 757.127,1329.96 777.332,1330.25 797.538,1330.54 817.743,1330.84 837.949,1331.13 858.154,1331.42 878.36,1331.71 898.565,1332.01 918.771,1332.3 938.976,1332.59 959.182,1332.88 979.387,1333.18 999.593,1333.47 1019.8,1333.76 1040,1334.05 1060.21,1334.35 1080.41,1334.64 1100.62,1334.93 1120.83,1335.22 1141.03,1335.52 1161.24,1335.81 1181.44,1336.1 1201.65,1336.39 1221.85,1336.68 1242.06,1336.98 1262.26,1337.27 1282.47,1337.56 1302.68,1337.85 1322.88,1338.14 1343.09,1338.43 1363.29,1338.72 1383.5,1339.02 1403.7,1339.31 1423.91,1339.6 1444.11,1339.89 1464.32,1340.18 1484.53,1340.47 1504.73,1340.76 1524.94,1341.05 1545.14,1341.34 1565.35,1341.63 1585.55,1341.93 1605.76,1342.22 1625.96,1342.51 1646.17,1342.8 1666.37,1343.09 1686.58,1343.38 1706.79,1343.67 1726.99,1343.96 1747.2,1344.25 1767.4,1344.53 1787.61,1344.82 1807.81,1345.11 1828.02,1345.4 1848.22,1345.69 1868.43,1345.98 1888.64,1346.27 1908.84,1346.56 1929.05,1346.85 1949.25,1347.14 1969.46,1347.42 1989.66,1347.71 2009.87,1348 2030.07,1348.29 2050.28,1348.58 2070.48,1348.86 2090.69,1349.15 2110.9,1349.44 2131.1,1349.73 2151.31,1350.01 2171.51,1350.3 2191.72,1350.59 2211.92,1350.87 2232.13,1351.16 2252.33,1351.45 2272.54,1351.73 2292.75,1352.02 \"/>\n",
       "<polyline clip-path=\"url(#clip442)\" style=\"stroke:#e26f46; stroke-linecap:round; stroke-linejoin:round; stroke-width:4; stroke-opacity:1; fill:none\" points=\"292.4,1386.4 312.605,1386.05 332.811,1385.71 353.016,1385.37 373.222,1385.02 393.427,1384.68 413.633,1384.34 433.838,1384 454.044,1383.66 474.249,1383.32 494.455,1382.97 514.66,1382.63 534.866,1382.29 555.071,1381.95 575.277,1381.61 595.482,1381.27 615.688,1380.93 635.893,1380.59 656.099,1380.25 676.304,1379.91 696.51,1379.57 716.715,1379.23 736.921,1378.89 757.127,1378.55 777.332,1378.21 797.538,1377.87 817.743,1377.54 837.949,1377.2 858.154,1376.86 878.36,1376.52 898.565,1376.18 918.771,1375.85 938.976,1375.51 959.182,1375.17 979.387,1374.84 999.593,1374.5 1019.8,1374.16 1040,1373.83 1060.21,1373.49 1080.41,1373.16 1100.62,1372.82 1120.83,1372.49 1141.03,1372.15 1161.24,1371.82 1181.44,1371.48 1201.65,1371.15 1221.85,1370.81 1242.06,1370.48 1262.26,1370.15 1282.47,1369.81 1302.68,1369.48 1322.88,1369.15 1343.09,1368.81 1363.29,1368.48 1383.5,1368.15 1403.7,1367.82 1423.91,1367.48 1444.11,1367.15 1464.32,1366.82 1484.53,1366.49 1504.73,1366.16 1524.94,1365.83 1545.14,1365.5 1565.35,1365.17 1585.55,1364.84 1605.76,1364.51 1625.96,1364.18 1646.17,1363.85 1666.37,1363.52 1686.58,1363.19 1706.79,1362.86 1726.99,1362.53 1747.2,1362.2 1767.4,1361.88 1787.61,1361.55 1807.81,1361.22 1828.02,1360.89 1848.22,1360.57 1868.43,1360.24 1888.64,1359.91 1908.84,1359.58 1929.05,1359.26 1949.25,1358.93 1969.46,1358.61 1989.66,1358.28 2009.87,1357.95 2030.07,1357.63 2050.28,1357.3 2070.48,1356.98 2090.69,1356.65 2110.9,1356.33 2131.1,1356 2151.31,1355.68 2171.51,1355.35 2191.72,1355.03 2211.92,1354.71 2232.13,1354.38 2252.33,1354.06 2272.54,1353.73 2292.75,1353.41 \"/>\n",
       "<polyline clip-path=\"url(#clip442)\" style=\"stroke:#3da44d; stroke-linecap:round; stroke-linejoin:round; stroke-width:4; stroke-opacity:1; fill:none\" points=\"292.4,160.256 312.605,170.018 332.811,179.781 353.016,189.544 373.222,199.309 393.427,209.074 413.633,218.84 433.838,228.607 454.044,238.375 474.249,248.144 494.455,257.913 514.66,267.684 534.866,277.455 555.071,287.227 575.277,296.999 595.482,306.773 615.688,316.547 635.893,326.323 656.099,336.098 676.304,345.875 696.51,355.653 716.715,365.431 736.921,375.21 757.127,384.989 777.332,394.77 797.538,404.551 817.743,414.333 837.949,424.115 858.154,433.899 878.36,443.683 898.565,453.467 918.771,463.253 938.976,473.039 959.182,482.825 979.387,492.613 999.593,502.4 1019.8,512.189 1040,521.978 1060.21,531.768 1080.41,541.558 1100.62,551.349 1120.83,561.141 1141.03,570.933 1161.24,580.726 1181.44,590.519 1201.65,600.313 1221.85,610.107 1242.06,619.902 1262.26,629.697 1282.47,639.492 1302.68,649.289 1322.88,659.085 1343.09,668.882 1363.29,678.68 1383.5,688.477 1403.7,698.276 1423.91,708.074 1444.11,717.873 1464.32,727.672 1484.53,737.472 1504.73,747.272 1524.94,757.072 1545.14,766.872 1565.35,776.673 1585.55,786.473 1605.76,796.274 1625.96,806.075 1646.17,815.876 1666.37,825.678 1686.58,835.479 1706.79,845.281 1726.99,855.082 1747.2,864.884 1767.4,874.685 1787.61,884.486 1807.81,894.288 1828.02,904.089 1848.22,913.89 1868.43,923.691 1888.64,933.492 1908.84,943.292 1929.05,953.092 1949.25,962.892 1969.46,972.692 1989.66,982.491 2009.87,992.29 2030.07,1002.09 2050.28,1011.89 2070.48,1021.68 2090.69,1031.48 2110.9,1041.28 2131.1,1051.07 2151.31,1060.87 2171.51,1070.66 2191.72,1080.45 2211.92,1090.25 2232.13,1100.04 2252.33,1109.83 2272.54,1119.62 2292.75,1129.41 \"/>\n",
       "<path clip-path=\"url(#clip440)\" d=\"M2027.42 374.156 L2282.08 374.156 L2282.08 166.796 L2027.42 166.796  Z\" fill=\"#ffffff\" fill-rule=\"evenodd\" fill-opacity=\"1\"/>\n",
       "<polyline clip-path=\"url(#clip440)\" style=\"stroke:#000000; stroke-linecap:round; stroke-linejoin:round; stroke-width:4; stroke-opacity:1; fill:none\" points=\"2027.42,374.156 2282.08,374.156 2282.08,166.796 2027.42,166.796 2027.42,374.156 \"/>\n",
       "<polyline clip-path=\"url(#clip440)\" style=\"stroke:#009af9; stroke-linecap:round; stroke-linejoin:round; stroke-width:4; stroke-opacity:1; fill:none\" points=\"2050.98,218.636 2192.34,218.636 \"/>\n",
       "<path clip-path=\"url(#clip440)\" d=\"M2215.9 225.684 L2215.9 209.99 L2220.16 209.99 L2220.16 225.522 Q2220.16 229.203 2221.6 231.055 Q2223.03 232.883 2225.9 232.883 Q2229.35 232.883 2231.34 230.684 Q2233.36 228.485 2233.36 224.689 L2233.36 209.99 L2237.61 209.99 L2237.61 235.916 L2233.36 235.916 L2233.36 231.934 Q2231.8 234.295 2229.74 235.453 Q2227.71 236.587 2225 236.587 Q2220.53 236.587 2218.22 233.809 Q2215.9 231.031 2215.9 225.684 M2226.62 209.365 L2226.62 209.365 Z\" fill=\"#000000\" fill-rule=\"evenodd\" fill-opacity=\"1\" /><path clip-path=\"url(#clip440)\" d=\"M2245.53 233.369 L2250.25 233.369 L2250.25 219.226 L2245.09 220.175 L2245.09 217.49 L2250.42 216.587 L2253.59 216.587 L2253.59 233.369 L2258.33 233.369 L2258.33 235.916 L2245.53 235.916 L2245.53 233.369 Z\" fill=\"#000000\" fill-rule=\"evenodd\" fill-opacity=\"1\" /><polyline clip-path=\"url(#clip440)\" style=\"stroke:#e26f46; stroke-linecap:round; stroke-linejoin:round; stroke-width:4; stroke-opacity:1; fill:none\" points=\"2050.98,270.476 2192.34,270.476 \"/>\n",
       "<path clip-path=\"url(#clip440)\" d=\"M2215.9 277.524 L2215.9 261.83 L2220.16 261.83 L2220.16 277.362 Q2220.16 281.043 2221.6 282.895 Q2223.03 284.723 2225.9 284.723 Q2229.35 284.723 2231.34 282.524 Q2233.36 280.325 2233.36 276.529 L2233.36 261.83 L2237.61 261.83 L2237.61 287.756 L2233.36 287.756 L2233.36 283.774 Q2231.8 286.135 2229.74 287.293 Q2227.71 288.427 2225 288.427 Q2220.53 288.427 2218.22 285.649 Q2215.9 282.871 2215.9 277.524 M2226.62 261.205 L2226.62 261.205 Z\" fill=\"#000000\" fill-rule=\"evenodd\" fill-opacity=\"1\" /><path clip-path=\"url(#clip440)\" d=\"M2248.12 285.117 L2257.94 285.117 L2257.94 287.756 L2244.1 287.756 L2244.1 285.209 Q2244.88 284.492 2246.34 283.196 Q2254.3 276.135 2254.3 273.959 Q2254.3 272.432 2253.1 271.506 Q2251.9 270.557 2249.93 270.557 Q2248.73 270.557 2247.31 270.973 Q2245.9 271.367 2244.24 272.177 L2244.24 269.33 Q2246.02 268.682 2247.55 268.358 Q2249.1 268.034 2250.42 268.034 Q2253.77 268.034 2255.79 269.561 Q2257.8 271.089 2257.8 273.589 Q2257.8 276.807 2250.14 283.381 Q2248.84 284.492 2248.12 285.117 Z\" fill=\"#000000\" fill-rule=\"evenodd\" fill-opacity=\"1\" /><polyline clip-path=\"url(#clip440)\" style=\"stroke:#3da44d; stroke-linecap:round; stroke-linejoin:round; stroke-width:4; stroke-opacity:1; fill:none\" points=\"2050.98,322.316 2192.34,322.316 \"/>\n",
       "<path clip-path=\"url(#clip440)\" d=\"M2215.9 329.364 L2215.9 313.67 L2220.16 313.67 L2220.16 329.202 Q2220.16 332.883 2221.6 334.735 Q2223.03 336.563 2225.9 336.563 Q2229.35 336.563 2231.34 334.364 Q2233.36 332.165 2233.36 328.369 L2233.36 313.67 L2237.61 313.67 L2237.61 339.596 L2233.36 339.596 L2233.36 335.614 Q2231.8 337.975 2229.74 339.133 Q2227.71 340.267 2225 340.267 Q2220.53 340.267 2218.22 337.489 Q2215.9 334.711 2215.9 329.364 M2226.62 313.045 L2226.62 313.045 Z\" fill=\"#000000\" fill-rule=\"evenodd\" fill-opacity=\"1\" /><path clip-path=\"url(#clip440)\" d=\"M2254.05 329.133 Q2256.18 329.549 2257.34 330.823 Q2258.52 332.073 2258.52 333.971 Q2258.52 336.841 2256.32 338.392 Q2254.12 339.943 2250.02 339.943 Q2248.7 339.943 2247.24 339.688 Q2245.81 339.457 2244.19 338.994 L2244.19 336.193 Q2245.39 336.818 2246.76 337.119 Q2248.15 337.42 2249.7 337.42 Q2252.22 337.42 2253.61 336.517 Q2255 335.591 2255 333.971 Q2255 332.258 2253.7 331.378 Q2252.43 330.499 2249.93 330.499 L2247.94 330.499 L2247.94 327.999 L2250.11 327.999 Q2252.29 327.999 2253.4 327.281 Q2254.54 326.54 2254.54 325.151 Q2254.54 323.809 2253.38 323.114 Q2252.22 322.397 2250.02 322.397 Q2249.1 322.397 2247.92 322.605 Q2246.74 322.813 2244.86 323.346 L2244.86 320.684 Q2246.55 320.29 2248.03 320.082 Q2249.51 319.874 2250.79 319.874 Q2254.12 319.874 2256.06 321.239 Q2258.03 322.605 2258.03 324.897 Q2258.03 326.494 2256.99 327.605 Q2255.95 328.716 2254.05 329.133 Z\" fill=\"#000000\" fill-rule=\"evenodd\" fill-opacity=\"1\" /></svg>\n"
      ],
      "text/html": [
       "<?xml version=\"1.0\" encoding=\"utf-8\"?>\n",
       "<svg xmlns=\"http://www.w3.org/2000/svg\" xmlns:xlink=\"http://www.w3.org/1999/xlink\" width=\"600\" height=\"400\" viewBox=\"0 0 2400 1600\">\n",
       "<defs>\n",
       "  <clipPath id=\"clip490\">\n",
       "    <rect x=\"0\" y=\"0\" width=\"2400\" height=\"1600\"/>\n",
       "  </clipPath>\n",
       "</defs>\n",
       "<path clip-path=\"url(#clip490)\" d=\"M0 1600 L2400 1600 L2400 0 L0 0  Z\" fill=\"#ffffff\" fill-rule=\"evenodd\" fill-opacity=\"1\"/>\n",
       "<defs>\n",
       "  <clipPath id=\"clip491\">\n",
       "    <rect x=\"480\" y=\"0\" width=\"1681\" height=\"1600\"/>\n",
       "  </clipPath>\n",
       "</defs>\n",
       "<path clip-path=\"url(#clip490)\" d=\"M232.389 1423.18 L2352.76 1423.18 L2352.76 123.472 L232.389 123.472  Z\" fill=\"#ffffff\" fill-rule=\"evenodd\" fill-opacity=\"1\"/>\n",
       "<defs>\n",
       "  <clipPath id=\"clip492\">\n",
       "    <rect x=\"232\" y=\"123\" width=\"2121\" height=\"1301\"/>\n",
       "  </clipPath>\n",
       "</defs>\n",
       "<polyline clip-path=\"url(#clip492)\" style=\"stroke:#000000; stroke-linecap:round; stroke-linejoin:round; stroke-width:2; stroke-opacity:0.1; fill:none\" points=\"292.4,1423.18 292.4,123.472 \"/>\n",
       "<polyline clip-path=\"url(#clip492)\" style=\"stroke:#000000; stroke-linecap:round; stroke-linejoin:round; stroke-width:2; stroke-opacity:0.1; fill:none\" points=\"797.538,1423.18 797.538,123.472 \"/>\n",
       "<polyline clip-path=\"url(#clip492)\" style=\"stroke:#000000; stroke-linecap:round; stroke-linejoin:round; stroke-width:2; stroke-opacity:0.1; fill:none\" points=\"1302.68,1423.18 1302.68,123.472 \"/>\n",
       "<polyline clip-path=\"url(#clip492)\" style=\"stroke:#000000; stroke-linecap:round; stroke-linejoin:round; stroke-width:2; stroke-opacity:0.1; fill:none\" points=\"1807.81,1423.18 1807.81,123.472 \"/>\n",
       "<polyline clip-path=\"url(#clip492)\" style=\"stroke:#000000; stroke-linecap:round; stroke-linejoin:round; stroke-width:2; stroke-opacity:0.1; fill:none\" points=\"2312.95,1423.18 2312.95,123.472 \"/>\n",
       "<polyline clip-path=\"url(#clip490)\" style=\"stroke:#000000; stroke-linecap:round; stroke-linejoin:round; stroke-width:4; stroke-opacity:1; fill:none\" points=\"232.389,1423.18 2352.76,1423.18 \"/>\n",
       "<polyline clip-path=\"url(#clip490)\" style=\"stroke:#000000; stroke-linecap:round; stroke-linejoin:round; stroke-width:4; stroke-opacity:1; fill:none\" points=\"292.4,1423.18 292.4,1404.28 \"/>\n",
       "<polyline clip-path=\"url(#clip490)\" style=\"stroke:#000000; stroke-linecap:round; stroke-linejoin:round; stroke-width:4; stroke-opacity:1; fill:none\" points=\"797.538,1423.18 797.538,1404.28 \"/>\n",
       "<polyline clip-path=\"url(#clip490)\" style=\"stroke:#000000; stroke-linecap:round; stroke-linejoin:round; stroke-width:4; stroke-opacity:1; fill:none\" points=\"1302.68,1423.18 1302.68,1404.28 \"/>\n",
       "<polyline clip-path=\"url(#clip490)\" style=\"stroke:#000000; stroke-linecap:round; stroke-linejoin:round; stroke-width:4; stroke-opacity:1; fill:none\" points=\"1807.81,1423.18 1807.81,1404.28 \"/>\n",
       "<polyline clip-path=\"url(#clip490)\" style=\"stroke:#000000; stroke-linecap:round; stroke-linejoin:round; stroke-width:4; stroke-opacity:1; fill:none\" points=\"2312.95,1423.18 2312.95,1404.28 \"/>\n",
       "<path clip-path=\"url(#clip490)\" d=\"M269.784 1454.1 Q266.173 1454.1 264.344 1457.66 Q262.539 1461.2 262.539 1468.33 Q262.539 1475.44 264.344 1479.01 Q266.173 1482.55 269.784 1482.55 Q273.418 1482.55 275.224 1479.01 Q277.053 1475.44 277.053 1468.33 Q277.053 1461.2 275.224 1457.66 Q273.418 1454.1 269.784 1454.1 M269.784 1450.39 Q275.594 1450.39 278.65 1455 Q281.728 1459.58 281.728 1468.33 Q281.728 1477.06 278.65 1481.67 Q275.594 1486.25 269.784 1486.25 Q263.974 1486.25 260.895 1481.67 Q257.84 1477.06 257.84 1468.33 Q257.84 1459.58 260.895 1455 Q263.974 1450.39 269.784 1450.39 Z\" fill=\"#000000\" fill-rule=\"evenodd\" fill-opacity=\"1\" /><path clip-path=\"url(#clip490)\" d=\"M289.946 1479.7 L294.83 1479.7 L294.83 1485.58 L289.946 1485.58 L289.946 1479.7 Z\" fill=\"#000000\" fill-rule=\"evenodd\" fill-opacity=\"1\" /><path clip-path=\"url(#clip490)\" d=\"M315.015 1454.1 Q311.404 1454.1 309.576 1457.66 Q307.77 1461.2 307.77 1468.33 Q307.77 1475.44 309.576 1479.01 Q311.404 1482.55 315.015 1482.55 Q318.65 1482.55 320.455 1479.01 Q322.284 1475.44 322.284 1468.33 Q322.284 1461.2 320.455 1457.66 Q318.65 1454.1 315.015 1454.1 M315.015 1450.39 Q320.825 1450.39 323.881 1455 Q326.96 1459.58 326.96 1468.33 Q326.96 1477.06 323.881 1481.67 Q320.825 1486.25 315.015 1486.25 Q309.205 1486.25 306.126 1481.67 Q303.071 1477.06 303.071 1468.33 Q303.071 1459.58 306.126 1455 Q309.205 1450.39 315.015 1450.39 Z\" fill=\"#000000\" fill-rule=\"evenodd\" fill-opacity=\"1\" /><path clip-path=\"url(#clip490)\" d=\"M769.274 1481.64 L785.593 1481.64 L785.593 1485.58 L763.649 1485.58 L763.649 1481.64 Q766.311 1478.89 770.894 1474.26 Q775.501 1469.61 776.681 1468.27 Q778.927 1465.74 779.806 1464.01 Q780.709 1462.25 780.709 1460.56 Q780.709 1457.8 778.765 1456.07 Q776.843 1454.33 773.741 1454.33 Q771.542 1454.33 769.089 1455.09 Q766.658 1455.86 763.88 1457.41 L763.88 1452.69 Q766.704 1451.55 769.158 1450.97 Q771.612 1450.39 773.649 1450.39 Q779.019 1450.39 782.214 1453.08 Q785.408 1455.77 785.408 1460.26 Q785.408 1462.39 784.598 1464.31 Q783.811 1466.2 781.704 1468.8 Q781.126 1469.47 778.024 1472.69 Q774.922 1475.88 769.274 1481.64 Z\" fill=\"#000000\" fill-rule=\"evenodd\" fill-opacity=\"1\" /><path clip-path=\"url(#clip490)\" d=\"M795.408 1479.7 L800.292 1479.7 L800.292 1485.58 L795.408 1485.58 L795.408 1479.7 Z\" fill=\"#000000\" fill-rule=\"evenodd\" fill-opacity=\"1\" /><path clip-path=\"url(#clip490)\" d=\"M810.524 1451.02 L828.88 1451.02 L828.88 1454.96 L814.806 1454.96 L814.806 1463.43 Q815.824 1463.08 816.843 1462.92 Q817.862 1462.73 818.88 1462.73 Q824.667 1462.73 828.047 1465.9 Q831.426 1469.08 831.426 1474.49 Q831.426 1480.07 827.954 1483.17 Q824.482 1486.25 818.162 1486.25 Q815.987 1486.25 813.718 1485.88 Q811.473 1485.51 809.065 1484.77 L809.065 1480.07 Q811.149 1481.2 813.371 1481.76 Q815.593 1482.32 818.07 1482.32 Q822.074 1482.32 824.412 1480.21 Q826.75 1478.1 826.75 1474.49 Q826.75 1470.88 824.412 1468.77 Q822.074 1466.67 818.07 1466.67 Q816.195 1466.67 814.32 1467.08 Q812.468 1467.5 810.524 1468.38 L810.524 1451.02 Z\" fill=\"#000000\" fill-rule=\"evenodd\" fill-opacity=\"1\" /><path clip-path=\"url(#clip490)\" d=\"M1269.84 1451.02 L1288.2 1451.02 L1288.2 1454.96 L1274.12 1454.96 L1274.12 1463.43 Q1275.14 1463.08 1276.16 1462.92 Q1277.18 1462.73 1278.2 1462.73 Q1283.98 1462.73 1287.36 1465.9 Q1290.74 1469.08 1290.74 1474.49 Q1290.74 1480.07 1287.27 1483.17 Q1283.8 1486.25 1277.48 1486.25 Q1275.3 1486.25 1273.03 1485.88 Q1270.79 1485.51 1268.38 1484.77 L1268.38 1480.07 Q1270.46 1481.2 1272.69 1481.76 Q1274.91 1482.32 1277.39 1482.32 Q1281.39 1482.32 1283.73 1480.21 Q1286.07 1478.1 1286.07 1474.49 Q1286.07 1470.88 1283.73 1468.77 Q1281.39 1466.67 1277.39 1466.67 Q1275.51 1466.67 1273.64 1467.08 Q1271.78 1467.5 1269.84 1468.38 L1269.84 1451.02 Z\" fill=\"#000000\" fill-rule=\"evenodd\" fill-opacity=\"1\" /><path clip-path=\"url(#clip490)\" d=\"M1299.96 1479.7 L1304.84 1479.7 L1304.84 1485.58 L1299.96 1485.58 L1299.96 1479.7 Z\" fill=\"#000000\" fill-rule=\"evenodd\" fill-opacity=\"1\" /><path clip-path=\"url(#clip490)\" d=\"M1325.02 1454.1 Q1321.41 1454.1 1319.59 1457.66 Q1317.78 1461.2 1317.78 1468.33 Q1317.78 1475.44 1319.59 1479.01 Q1321.41 1482.55 1325.02 1482.55 Q1328.66 1482.55 1330.46 1479.01 Q1332.29 1475.44 1332.29 1468.33 Q1332.29 1461.2 1330.46 1457.66 Q1328.66 1454.1 1325.02 1454.1 M1325.02 1450.39 Q1330.83 1450.39 1333.89 1455 Q1336.97 1459.58 1336.97 1468.33 Q1336.97 1477.06 1333.89 1481.67 Q1330.83 1486.25 1325.02 1486.25 Q1319.21 1486.25 1316.14 1481.67 Q1313.08 1477.06 1313.08 1468.33 Q1313.08 1459.58 1316.14 1455 Q1319.21 1450.39 1325.02 1450.39 Z\" fill=\"#000000\" fill-rule=\"evenodd\" fill-opacity=\"1\" /><path clip-path=\"url(#clip490)\" d=\"M1774.13 1451.02 L1796.35 1451.02 L1796.35 1453.01 L1783.81 1485.58 L1778.92 1485.58 L1790.73 1454.96 L1774.13 1454.96 L1774.13 1451.02 Z\" fill=\"#000000\" fill-rule=\"evenodd\" fill-opacity=\"1\" /><path clip-path=\"url(#clip490)\" d=\"M1805.48 1479.7 L1810.36 1479.7 L1810.36 1485.58 L1805.48 1485.58 L1805.48 1479.7 Z\" fill=\"#000000\" fill-rule=\"evenodd\" fill-opacity=\"1\" /><path clip-path=\"url(#clip490)\" d=\"M1820.59 1451.02 L1838.95 1451.02 L1838.95 1454.96 L1824.87 1454.96 L1824.87 1463.43 Q1825.89 1463.08 1826.91 1462.92 Q1827.93 1462.73 1828.95 1462.73 Q1834.73 1462.73 1838.11 1465.9 Q1841.49 1469.08 1841.49 1474.49 Q1841.49 1480.07 1838.02 1483.17 Q1834.55 1486.25 1828.23 1486.25 Q1826.05 1486.25 1823.79 1485.88 Q1821.54 1485.51 1819.13 1484.77 L1819.13 1480.07 Q1821.22 1481.2 1823.44 1481.76 Q1825.66 1482.32 1828.14 1482.32 Q1832.14 1482.32 1834.48 1480.21 Q1836.82 1478.1 1836.82 1474.49 Q1836.82 1470.88 1834.48 1468.77 Q1832.14 1466.67 1828.14 1466.67 Q1826.26 1466.67 1824.39 1467.08 Q1822.54 1467.5 1820.59 1468.38 L1820.59 1451.02 Z\" fill=\"#000000\" fill-rule=\"evenodd\" fill-opacity=\"1\" /><path clip-path=\"url(#clip490)\" d=\"M2265.02 1481.64 L2272.66 1481.64 L2272.66 1455.28 L2264.35 1456.95 L2264.35 1452.69 L2272.62 1451.02 L2277.29 1451.02 L2277.29 1481.64 L2284.93 1481.64 L2284.93 1485.58 L2265.02 1485.58 L2265.02 1481.64 Z\" fill=\"#000000\" fill-rule=\"evenodd\" fill-opacity=\"1\" /><path clip-path=\"url(#clip490)\" d=\"M2304.37 1454.1 Q2300.76 1454.1 2298.93 1457.66 Q2297.13 1461.2 2297.13 1468.33 Q2297.13 1475.44 2298.93 1479.01 Q2300.76 1482.55 2304.37 1482.55 Q2308.01 1482.55 2309.81 1479.01 Q2311.64 1475.44 2311.64 1468.33 Q2311.64 1461.2 2309.81 1457.66 Q2308.01 1454.1 2304.37 1454.1 M2304.37 1450.39 Q2310.18 1450.39 2313.24 1455 Q2316.32 1459.58 2316.32 1468.33 Q2316.32 1477.06 2313.24 1481.67 Q2310.18 1486.25 2304.37 1486.25 Q2298.56 1486.25 2295.49 1481.67 Q2292.43 1477.06 2292.43 1468.33 Q2292.43 1459.58 2295.49 1455 Q2298.56 1450.39 2304.37 1450.39 Z\" fill=\"#000000\" fill-rule=\"evenodd\" fill-opacity=\"1\" /><path clip-path=\"url(#clip490)\" d=\"M2324.54 1479.7 L2329.42 1479.7 L2329.42 1485.58 L2324.54 1485.58 L2324.54 1479.7 Z\" fill=\"#000000\" fill-rule=\"evenodd\" fill-opacity=\"1\" /><path clip-path=\"url(#clip490)\" d=\"M2349.61 1454.1 Q2345.99 1454.1 2344.17 1457.66 Q2342.36 1461.2 2342.36 1468.33 Q2342.36 1475.44 2344.17 1479.01 Q2345.99 1482.55 2349.61 1482.55 Q2353.24 1482.55 2355.05 1479.01 Q2356.87 1475.44 2356.87 1468.33 Q2356.87 1461.2 2355.05 1457.66 Q2353.24 1454.1 2349.61 1454.1 M2349.61 1450.39 Q2355.42 1450.39 2358.47 1455 Q2361.55 1459.58 2361.55 1468.33 Q2361.55 1477.06 2358.47 1481.67 Q2355.42 1486.25 2349.61 1486.25 Q2343.8 1486.25 2340.72 1481.67 Q2337.66 1477.06 2337.66 1468.33 Q2337.66 1459.58 2340.72 1455 Q2343.8 1450.39 2349.61 1450.39 Z\" fill=\"#000000\" fill-rule=\"evenodd\" fill-opacity=\"1\" /><path clip-path=\"url(#clip490)\" d=\"M1180.03 1522.27 L1180.03 1532.4 L1192.09 1532.4 L1192.09 1536.95 L1180.03 1536.95 L1180.03 1556.3 Q1180.03 1560.66 1181.2 1561.9 Q1182.41 1563.14 1186.07 1563.14 L1192.09 1563.14 L1192.09 1568.04 L1186.07 1568.04 Q1179.29 1568.04 1176.72 1565.53 Q1174.14 1562.98 1174.14 1556.3 L1174.14 1536.95 L1169.84 1536.95 L1169.84 1532.4 L1174.14 1532.4 L1174.14 1522.27 L1180.03 1522.27 Z\" fill=\"#000000\" fill-rule=\"evenodd\" fill-opacity=\"1\" /><path clip-path=\"url(#clip490)\" d=\"M1199.79 1532.4 L1205.65 1532.4 L1205.65 1568.04 L1199.79 1568.04 L1199.79 1532.4 M1199.79 1518.52 L1205.65 1518.52 L1205.65 1525.93 L1199.79 1525.93 L1199.79 1518.52 Z\" fill=\"#000000\" fill-rule=\"evenodd\" fill-opacity=\"1\" /><path clip-path=\"url(#clip490)\" d=\"M1245.66 1539.24 Q1247.85 1535.29 1250.91 1533.41 Q1253.96 1531.54 1258.1 1531.54 Q1263.67 1531.54 1266.7 1535.45 Q1269.72 1539.33 1269.72 1546.53 L1269.72 1568.04 L1263.83 1568.04 L1263.83 1546.72 Q1263.83 1541.59 1262.02 1539.11 Q1260.2 1536.63 1256.48 1536.63 Q1251.93 1536.63 1249.29 1539.65 Q1246.64 1542.68 1246.64 1547.9 L1246.64 1568.04 L1240.76 1568.04 L1240.76 1546.72 Q1240.76 1541.56 1238.94 1539.11 Q1237.13 1536.63 1233.34 1536.63 Q1228.85 1536.63 1226.21 1539.68 Q1223.57 1542.71 1223.57 1547.9 L1223.57 1568.04 L1217.68 1568.04 L1217.68 1532.4 L1223.57 1532.4 L1223.57 1537.93 Q1225.57 1534.66 1228.37 1533.1 Q1231.18 1531.54 1235.03 1531.54 Q1238.91 1531.54 1241.62 1533.51 Q1244.35 1535.48 1245.66 1539.24 Z\" fill=\"#000000\" fill-rule=\"evenodd\" fill-opacity=\"1\" /><path clip-path=\"url(#clip490)\" d=\"M1311.89 1548.76 L1311.89 1551.62 L1284.97 1551.62 Q1285.35 1557.67 1288.59 1560.85 Q1291.87 1564 1297.7 1564 Q1301.07 1564 1304.22 1563.17 Q1307.4 1562.35 1310.52 1560.69 L1310.52 1566.23 Q1307.37 1567.57 1304.06 1568.27 Q1300.75 1568.97 1297.35 1568.97 Q1288.82 1568.97 1283.82 1564 Q1278.85 1559.04 1278.85 1550.57 Q1278.85 1541.82 1283.57 1536.69 Q1288.31 1531.54 1296.33 1531.54 Q1303.52 1531.54 1307.69 1536.18 Q1311.89 1540.8 1311.89 1548.76 M1306.04 1547.04 Q1305.97 1542.23 1303.33 1539.37 Q1300.72 1536.5 1296.39 1536.5 Q1291.49 1536.5 1288.53 1539.27 Q1285.6 1542.04 1285.16 1547.07 L1306.04 1547.04 Z\" fill=\"#000000\" fill-rule=\"evenodd\" fill-opacity=\"1\" /><path clip-path=\"url(#clip490)\" d=\"M1356.29 1518.58 Q1352.03 1525.9 1349.96 1533.06 Q1347.89 1540.23 1347.89 1547.58 Q1347.89 1554.93 1349.96 1562.16 Q1352.06 1569.35 1356.29 1576.64 L1351.2 1576.64 Q1346.43 1569.16 1344.04 1561.93 Q1341.68 1554.71 1341.68 1547.58 Q1341.68 1540.48 1344.04 1533.29 Q1346.39 1526.09 1351.2 1518.58 L1356.29 1518.58 Z\" fill=\"#000000\" fill-rule=\"evenodd\" fill-opacity=\"1\" /><path clip-path=\"url(#clip490)\" d=\"M1390.38 1533.45 L1390.38 1538.98 Q1387.9 1537.71 1385.23 1537.07 Q1382.55 1536.44 1379.69 1536.44 Q1375.33 1536.44 1373.13 1537.77 Q1370.97 1539.11 1370.97 1541.79 Q1370.97 1543.82 1372.53 1545 Q1374.09 1546.15 1378.8 1547.2 L1380.8 1547.64 Q1387.04 1548.98 1389.65 1551.43 Q1392.29 1553.85 1392.29 1558.21 Q1392.29 1563.17 1388.34 1566.07 Q1384.43 1568.97 1377.55 1568.97 Q1374.69 1568.97 1371.57 1568.39 Q1368.48 1567.85 1365.05 1566.74 L1365.05 1560.69 Q1368.29 1562.38 1371.44 1563.24 Q1374.59 1564.07 1377.68 1564.07 Q1381.82 1564.07 1384.05 1562.66 Q1386.28 1561.23 1386.28 1558.65 Q1386.28 1556.27 1384.65 1554.99 Q1383.06 1553.72 1377.62 1552.54 L1375.58 1552.07 Q1370.14 1550.92 1367.72 1548.56 Q1365.3 1546.18 1365.3 1542.04 Q1365.3 1537.01 1368.87 1534.27 Q1372.43 1531.54 1378.99 1531.54 Q1382.23 1531.54 1385.1 1532.01 Q1387.96 1532.49 1390.38 1533.45 Z\" fill=\"#000000\" fill-rule=\"evenodd\" fill-opacity=\"1\" /><path clip-path=\"url(#clip490)\" d=\"M1400.69 1518.58 L1405.79 1518.58 Q1410.56 1526.09 1412.92 1533.29 Q1415.3 1540.48 1415.3 1547.58 Q1415.3 1554.71 1412.92 1561.93 Q1410.56 1569.16 1405.79 1576.64 L1400.69 1576.64 Q1404.93 1569.35 1407 1562.16 Q1409.1 1554.93 1409.1 1547.58 Q1409.1 1540.23 1407 1533.06 Q1404.93 1525.9 1400.69 1518.58 Z\" fill=\"#000000\" fill-rule=\"evenodd\" fill-opacity=\"1\" /><polyline clip-path=\"url(#clip492)\" style=\"stroke:#000000; stroke-linecap:round; stroke-linejoin:round; stroke-width:2; stroke-opacity:0.1; fill:none\" points=\"232.389,1353.42 2352.76,1353.42 \"/>\n",
       "<polyline clip-path=\"url(#clip492)\" style=\"stroke:#000000; stroke-linecap:round; stroke-linejoin:round; stroke-width:2; stroke-opacity:0.1; fill:none\" points=\"232.389,1161.95 2352.76,1161.95 \"/>\n",
       "<polyline clip-path=\"url(#clip492)\" style=\"stroke:#000000; stroke-linecap:round; stroke-linejoin:round; stroke-width:2; stroke-opacity:0.1; fill:none\" points=\"232.389,970.474 2352.76,970.474 \"/>\n",
       "<polyline clip-path=\"url(#clip492)\" style=\"stroke:#000000; stroke-linecap:round; stroke-linejoin:round; stroke-width:2; stroke-opacity:0.1; fill:none\" points=\"232.389,778.999 2352.76,778.999 \"/>\n",
       "<polyline clip-path=\"url(#clip492)\" style=\"stroke:#000000; stroke-linecap:round; stroke-linejoin:round; stroke-width:2; stroke-opacity:0.1; fill:none\" points=\"232.389,587.524 2352.76,587.524 \"/>\n",
       "<polyline clip-path=\"url(#clip492)\" style=\"stroke:#000000; stroke-linecap:round; stroke-linejoin:round; stroke-width:2; stroke-opacity:0.1; fill:none\" points=\"232.389,396.049 2352.76,396.049 \"/>\n",
       "<polyline clip-path=\"url(#clip492)\" style=\"stroke:#000000; stroke-linecap:round; stroke-linejoin:round; stroke-width:2; stroke-opacity:0.1; fill:none\" points=\"232.389,204.575 2352.76,204.575 \"/>\n",
       "<polyline clip-path=\"url(#clip490)\" style=\"stroke:#000000; stroke-linecap:round; stroke-linejoin:round; stroke-width:4; stroke-opacity:1; fill:none\" points=\"232.389,1423.18 232.389,123.472 \"/>\n",
       "<polyline clip-path=\"url(#clip490)\" style=\"stroke:#000000; stroke-linecap:round; stroke-linejoin:round; stroke-width:4; stroke-opacity:1; fill:none\" points=\"232.389,1353.42 251.287,1353.42 \"/>\n",
       "<polyline clip-path=\"url(#clip490)\" style=\"stroke:#000000; stroke-linecap:round; stroke-linejoin:round; stroke-width:4; stroke-opacity:1; fill:none\" points=\"232.389,1161.95 251.287,1161.95 \"/>\n",
       "<polyline clip-path=\"url(#clip490)\" style=\"stroke:#000000; stroke-linecap:round; stroke-linejoin:round; stroke-width:4; stroke-opacity:1; fill:none\" points=\"232.389,970.474 251.287,970.474 \"/>\n",
       "<polyline clip-path=\"url(#clip490)\" style=\"stroke:#000000; stroke-linecap:round; stroke-linejoin:round; stroke-width:4; stroke-opacity:1; fill:none\" points=\"232.389,778.999 251.287,778.999 \"/>\n",
       "<polyline clip-path=\"url(#clip490)\" style=\"stroke:#000000; stroke-linecap:round; stroke-linejoin:round; stroke-width:4; stroke-opacity:1; fill:none\" points=\"232.389,587.524 251.287,587.524 \"/>\n",
       "<polyline clip-path=\"url(#clip490)\" style=\"stroke:#000000; stroke-linecap:round; stroke-linejoin:round; stroke-width:4; stroke-opacity:1; fill:none\" points=\"232.389,396.049 251.287,396.049 \"/>\n",
       "<polyline clip-path=\"url(#clip490)\" style=\"stroke:#000000; stroke-linecap:round; stroke-linejoin:round; stroke-width:4; stroke-opacity:1; fill:none\" points=\"232.389,204.575 251.287,204.575 \"/>\n",
       "<path clip-path=\"url(#clip490)\" d=\"M184.445 1339.22 Q180.834 1339.22 179.005 1342.79 Q177.2 1346.33 177.2 1353.46 Q177.2 1360.56 179.005 1364.13 Q180.834 1367.67 184.445 1367.67 Q188.079 1367.67 189.885 1364.13 Q191.713 1360.56 191.713 1353.46 Q191.713 1346.33 189.885 1342.79 Q188.079 1339.22 184.445 1339.22 M184.445 1335.52 Q190.255 1335.52 193.311 1340.12 Q196.389 1344.71 196.389 1353.46 Q196.389 1362.18 193.311 1366.79 Q190.255 1371.37 184.445 1371.37 Q178.635 1371.37 175.556 1366.79 Q172.501 1362.18 172.501 1353.46 Q172.501 1344.71 175.556 1340.12 Q178.635 1335.52 184.445 1335.52 Z\" fill=\"#000000\" fill-rule=\"evenodd\" fill-opacity=\"1\" /><path clip-path=\"url(#clip490)\" d=\"M148.311 1175.29 L164.63 1175.29 L164.63 1179.23 L142.686 1179.23 L142.686 1175.29 Q145.348 1172.54 149.931 1167.91 Q154.538 1163.26 155.718 1161.91 Q157.964 1159.39 158.843 1157.65 Q159.746 1155.9 159.746 1154.21 Q159.746 1151.45 157.802 1149.71 Q155.88 1147.98 152.778 1147.98 Q150.579 1147.98 148.126 1148.74 Q145.695 1149.51 142.917 1151.06 L142.917 1146.34 Q145.741 1145.2 148.195 1144.62 Q150.649 1144.04 152.686 1144.04 Q158.056 1144.04 161.251 1146.73 Q164.445 1149.41 164.445 1153.9 Q164.445 1156.03 163.635 1157.96 Q162.848 1159.85 160.741 1162.45 Q160.163 1163.12 157.061 1166.34 Q153.959 1169.53 148.311 1175.29 Z\" fill=\"#000000\" fill-rule=\"evenodd\" fill-opacity=\"1\" /><path clip-path=\"url(#clip490)\" d=\"M184.445 1147.75 Q180.834 1147.75 179.005 1151.31 Q177.2 1154.85 177.2 1161.98 Q177.2 1169.09 179.005 1172.65 Q180.834 1176.2 184.445 1176.2 Q188.079 1176.2 189.885 1172.65 Q191.713 1169.09 191.713 1161.98 Q191.713 1154.85 189.885 1151.31 Q188.079 1147.75 184.445 1147.75 M184.445 1144.04 Q190.255 1144.04 193.311 1148.65 Q196.389 1153.23 196.389 1161.98 Q196.389 1170.71 193.311 1175.32 Q190.255 1179.9 184.445 1179.9 Q178.635 1179.9 175.556 1175.32 Q172.501 1170.71 172.501 1161.98 Q172.501 1153.23 175.556 1148.65 Q178.635 1144.04 184.445 1144.04 Z\" fill=\"#000000\" fill-rule=\"evenodd\" fill-opacity=\"1\" /><path clip-path=\"url(#clip490)\" d=\"M157.13 957.268 L145.325 975.717 L157.13 975.717 L157.13 957.268 M155.903 953.194 L161.783 953.194 L161.783 975.717 L166.714 975.717 L166.714 979.606 L161.783 979.606 L161.783 987.754 L157.13 987.754 L157.13 979.606 L141.529 979.606 L141.529 975.092 L155.903 953.194 Z\" fill=\"#000000\" fill-rule=\"evenodd\" fill-opacity=\"1\" /><path clip-path=\"url(#clip490)\" d=\"M184.445 956.272 Q180.834 956.272 179.005 959.837 Q177.2 963.379 177.2 970.508 Q177.2 977.615 179.005 981.18 Q180.834 984.721 184.445 984.721 Q188.079 984.721 189.885 981.18 Q191.713 977.615 191.713 970.508 Q191.713 963.379 189.885 959.837 Q188.079 956.272 184.445 956.272 M184.445 952.569 Q190.255 952.569 193.311 957.175 Q196.389 961.759 196.389 970.508 Q196.389 979.235 193.311 983.842 Q190.255 988.425 184.445 988.425 Q178.635 988.425 175.556 983.842 Q172.501 979.235 172.501 970.508 Q172.501 961.759 175.556 957.175 Q178.635 952.569 184.445 952.569 Z\" fill=\"#000000\" fill-rule=\"evenodd\" fill-opacity=\"1\" /><path clip-path=\"url(#clip490)\" d=\"M154.862 777.136 Q151.714 777.136 149.862 779.288 Q148.033 781.441 148.033 785.191 Q148.033 788.918 149.862 791.094 Q151.714 793.247 154.862 793.247 Q158.01 793.247 159.839 791.094 Q161.69 788.918 161.69 785.191 Q161.69 781.441 159.839 779.288 Q158.01 777.136 154.862 777.136 M164.144 762.483 L164.144 766.742 Q162.385 765.909 160.579 765.469 Q158.797 765.029 157.038 765.029 Q152.408 765.029 149.954 768.154 Q147.524 771.279 147.177 777.598 Q148.542 775.585 150.603 774.52 Q152.663 773.432 155.14 773.432 Q160.348 773.432 163.357 776.603 Q166.39 779.751 166.39 785.191 Q166.39 790.515 163.241 793.733 Q160.093 796.95 154.862 796.95 Q148.866 796.95 145.695 792.367 Q142.524 787.76 142.524 779.034 Q142.524 770.839 146.413 765.978 Q150.302 761.094 156.853 761.094 Q158.612 761.094 160.394 761.441 Q162.2 761.788 164.144 762.483 Z\" fill=\"#000000\" fill-rule=\"evenodd\" fill-opacity=\"1\" /><path clip-path=\"url(#clip490)\" d=\"M184.445 764.798 Q180.834 764.798 179.005 768.362 Q177.2 771.904 177.2 779.034 Q177.2 786.14 179.005 789.705 Q180.834 793.247 184.445 793.247 Q188.079 793.247 189.885 789.705 Q191.713 786.14 191.713 779.034 Q191.713 771.904 189.885 768.362 Q188.079 764.798 184.445 764.798 M184.445 761.094 Q190.255 761.094 193.311 765.7 Q196.389 770.284 196.389 779.034 Q196.389 787.76 193.311 792.367 Q190.255 796.95 184.445 796.95 Q178.635 796.95 175.556 792.367 Q172.501 787.76 172.501 779.034 Q172.501 770.284 175.556 765.7 Q178.635 761.094 184.445 761.094 Z\" fill=\"#000000\" fill-rule=\"evenodd\" fill-opacity=\"1\" /><path clip-path=\"url(#clip490)\" d=\"M154.283 588.392 Q150.95 588.392 149.028 590.175 Q147.13 591.957 147.13 595.082 Q147.13 598.207 149.028 599.989 Q150.95 601.772 154.283 601.772 Q157.616 601.772 159.538 599.989 Q161.459 598.184 161.459 595.082 Q161.459 591.957 159.538 590.175 Q157.64 588.392 154.283 588.392 M149.607 586.401 Q146.598 585.661 144.908 583.601 Q143.241 581.54 143.241 578.577 Q143.241 574.434 146.181 572.027 Q149.144 569.619 154.283 569.619 Q159.445 569.619 162.385 572.027 Q165.325 574.434 165.325 578.577 Q165.325 581.54 163.635 583.601 Q161.968 585.661 158.982 586.401 Q162.362 587.188 164.237 589.48 Q166.135 591.772 166.135 595.082 Q166.135 600.105 163.056 602.79 Q160.001 605.475 154.283 605.475 Q148.566 605.475 145.487 602.79 Q142.431 600.105 142.431 595.082 Q142.431 591.772 144.329 589.48 Q146.228 587.188 149.607 586.401 M147.894 579.017 Q147.894 581.702 149.561 583.207 Q151.251 584.712 154.283 584.712 Q157.292 584.712 158.982 583.207 Q160.695 581.702 160.695 579.017 Q160.695 576.332 158.982 574.827 Q157.292 573.323 154.283 573.323 Q151.251 573.323 149.561 574.827 Q147.894 576.332 147.894 579.017 Z\" fill=\"#000000\" fill-rule=\"evenodd\" fill-opacity=\"1\" /><path clip-path=\"url(#clip490)\" d=\"M184.445 573.323 Q180.834 573.323 179.005 576.888 Q177.2 580.429 177.2 587.559 Q177.2 594.665 179.005 598.23 Q180.834 601.772 184.445 601.772 Q188.079 601.772 189.885 598.23 Q191.713 594.665 191.713 587.559 Q191.713 580.429 189.885 576.888 Q188.079 573.323 184.445 573.323 M184.445 569.619 Q190.255 569.619 193.311 574.226 Q196.389 578.809 196.389 587.559 Q196.389 596.286 193.311 600.892 Q190.255 605.475 184.445 605.475 Q178.635 605.475 175.556 600.892 Q172.501 596.286 172.501 587.559 Q172.501 578.809 175.556 574.226 Q178.635 569.619 184.445 569.619 Z\" fill=\"#000000\" fill-rule=\"evenodd\" fill-opacity=\"1\" /><path clip-path=\"url(#clip490)\" d=\"M114.931 409.394 L122.57 409.394 L122.57 383.029 L114.26 384.695 L114.26 380.436 L122.524 378.769 L127.2 378.769 L127.2 409.394 L134.839 409.394 L134.839 413.329 L114.931 413.329 L114.931 409.394 Z\" fill=\"#000000\" fill-rule=\"evenodd\" fill-opacity=\"1\" /><path clip-path=\"url(#clip490)\" d=\"M154.283 381.848 Q150.672 381.848 148.843 385.413 Q147.038 388.954 147.038 396.084 Q147.038 403.19 148.843 406.755 Q150.672 410.297 154.283 410.297 Q157.917 410.297 159.723 406.755 Q161.552 403.19 161.552 396.084 Q161.552 388.954 159.723 385.413 Q157.917 381.848 154.283 381.848 M154.283 378.144 Q160.093 378.144 163.149 382.751 Q166.227 387.334 166.227 396.084 Q166.227 404.811 163.149 409.417 Q160.093 414.001 154.283 414.001 Q148.473 414.001 145.394 409.417 Q142.339 404.811 142.339 396.084 Q142.339 387.334 145.394 382.751 Q148.473 378.144 154.283 378.144 Z\" fill=\"#000000\" fill-rule=\"evenodd\" fill-opacity=\"1\" /><path clip-path=\"url(#clip490)\" d=\"M184.445 381.848 Q180.834 381.848 179.005 385.413 Q177.2 388.954 177.2 396.084 Q177.2 403.19 179.005 406.755 Q180.834 410.297 184.445 410.297 Q188.079 410.297 189.885 406.755 Q191.713 403.19 191.713 396.084 Q191.713 388.954 189.885 385.413 Q188.079 381.848 184.445 381.848 M184.445 378.144 Q190.255 378.144 193.311 382.751 Q196.389 387.334 196.389 396.084 Q196.389 404.811 193.311 409.417 Q190.255 414.001 184.445 414.001 Q178.635 414.001 175.556 409.417 Q172.501 404.811 172.501 396.084 Q172.501 387.334 175.556 382.751 Q178.635 378.144 184.445 378.144 Z\" fill=\"#000000\" fill-rule=\"evenodd\" fill-opacity=\"1\" /><path clip-path=\"url(#clip490)\" d=\"M114.931 217.919 L122.57 217.919 L122.57 191.554 L114.26 193.22 L114.26 188.961 L122.524 187.295 L127.2 187.295 L127.2 217.919 L134.839 217.919 L134.839 221.855 L114.931 221.855 L114.931 217.919 Z\" fill=\"#000000\" fill-rule=\"evenodd\" fill-opacity=\"1\" /><path clip-path=\"url(#clip490)\" d=\"M148.311 217.919 L164.63 217.919 L164.63 221.855 L142.686 221.855 L142.686 217.919 Q145.348 215.165 149.931 210.535 Q154.538 205.882 155.718 204.54 Q157.964 202.017 158.843 200.281 Q159.746 198.521 159.746 196.831 Q159.746 194.077 157.802 192.341 Q155.88 190.605 152.778 190.605 Q150.579 190.605 148.126 191.369 Q145.695 192.132 142.917 193.683 L142.917 188.961 Q145.741 187.827 148.195 187.248 Q150.649 186.67 152.686 186.67 Q158.056 186.67 161.251 189.355 Q164.445 192.04 164.445 196.531 Q164.445 198.66 163.635 200.581 Q162.848 202.48 160.741 205.072 Q160.163 205.743 157.061 208.961 Q153.959 212.155 148.311 217.919 Z\" fill=\"#000000\" fill-rule=\"evenodd\" fill-opacity=\"1\" /><path clip-path=\"url(#clip490)\" d=\"M184.445 190.373 Q180.834 190.373 179.005 193.938 Q177.2 197.48 177.2 204.609 Q177.2 211.716 179.005 215.28 Q180.834 218.822 184.445 218.822 Q188.079 218.822 189.885 215.28 Q191.713 211.716 191.713 204.609 Q191.713 197.48 189.885 193.938 Q188.079 190.373 184.445 190.373 M184.445 186.67 Q190.255 186.67 193.311 191.276 Q196.389 195.859 196.389 204.609 Q196.389 213.336 193.311 217.942 Q190.255 222.526 184.445 222.526 Q178.635 222.526 175.556 217.942 Q172.501 213.336 172.501 204.609 Q172.501 195.859 175.556 191.276 Q178.635 186.67 184.445 186.67 Z\" fill=\"#000000\" fill-rule=\"evenodd\" fill-opacity=\"1\" /><path clip-path=\"url(#clip490)\" d=\"M49.9359 788.254 L28.3562 788.254 L28.3562 782.397 L49.7131 782.397 Q54.7739 782.397 57.3202 780.424 Q59.8346 778.45 59.8346 774.504 Q59.8346 769.761 56.8109 767.024 Q53.7872 764.255 48.5673 764.255 L28.3562 764.255 L28.3562 758.398 L64.0042 758.398 L64.0042 764.255 L58.5296 764.255 Q61.7762 766.387 63.3676 769.22 Q64.9272 772.021 64.9272 775.745 Q64.9272 781.888 61.1078 785.071 Q57.2883 788.254 49.9359 788.254 M27.4968 773.517 L27.4968 773.517 Z\" fill=\"#000000\" fill-rule=\"evenodd\" fill-opacity=\"1\" /><path clip-path=\"url(#clip490)\" d=\"M1029.71 12.096 L1037.89 12.096 L1037.89 72.576 L1029.71 72.576 L1029.71 12.096 Z\" fill=\"#000000\" fill-rule=\"evenodd\" fill-opacity=\"1\" /><path clip-path=\"url(#clip490)\" d=\"M1091.57 45.1919 L1091.57 72.576 L1084.11 72.576 L1084.11 45.4349 Q1084.11 38.994 1081.6 35.7938 Q1079.09 32.5936 1074.07 32.5936 Q1068.03 32.5936 1064.55 36.4419 Q1061.06 40.2903 1061.06 46.9338 L1061.06 72.576 L1053.57 72.576 L1053.57 27.2059 L1061.06 27.2059 L1061.06 34.2544 Q1063.74 30.163 1067.34 28.1376 Q1070.99 26.1121 1075.73 26.1121 Q1083.55 26.1121 1087.56 30.9732 Q1091.57 35.7938 1091.57 45.1919 Z\" fill=\"#000000\" fill-rule=\"evenodd\" fill-opacity=\"1\" /><path clip-path=\"url(#clip490)\" d=\"M1113.64 65.7705 L1113.64 89.8329 L1106.15 89.8329 L1106.15 27.2059 L1113.64 27.2059 L1113.64 34.0924 Q1115.99 30.0415 1119.56 28.0971 Q1123.16 26.1121 1128.15 26.1121 Q1136.41 26.1121 1141.55 32.6746 Q1146.74 39.2371 1146.74 49.9314 Q1146.74 60.6258 1141.55 67.1883 Q1136.41 73.7508 1128.15 73.7508 Q1123.16 73.7508 1119.56 71.8063 Q1115.99 69.8214 1113.64 65.7705 M1139 49.9314 Q1139 41.7081 1135.6 37.0496 Q1132.24 32.3505 1126.32 32.3505 Q1120.41 32.3505 1117.01 37.0496 Q1113.64 41.7081 1113.64 49.9314 Q1113.64 58.1548 1117.01 62.8538 Q1120.41 67.5124 1126.32 67.5124 Q1132.24 67.5124 1135.6 62.8538 Q1139 58.1548 1139 49.9314 Z\" fill=\"#000000\" fill-rule=\"evenodd\" fill-opacity=\"1\" /><path clip-path=\"url(#clip490)\" d=\"M1158.33 54.671 L1158.33 27.2059 L1165.78 27.2059 L1165.78 54.3874 Q1165.78 60.8284 1168.29 64.0691 Q1170.8 67.2693 1175.83 67.2693 Q1181.86 67.2693 1185.35 63.421 Q1188.87 59.5726 1188.87 52.9291 L1188.87 27.2059 L1196.32 27.2059 L1196.32 72.576 L1188.87 72.576 L1188.87 65.6084 Q1186.16 69.7404 1182.55 71.7658 Q1178.99 73.7508 1174.25 73.7508 Q1166.43 73.7508 1162.38 68.8897 Q1158.33 64.0286 1158.33 54.671 M1177.08 26.1121 L1177.08 26.1121 Z\" fill=\"#000000\" fill-rule=\"evenodd\" fill-opacity=\"1\" /><path clip-path=\"url(#clip490)\" d=\"M1219.05 14.324 L1219.05 27.2059 L1234.4 27.2059 L1234.4 32.9987 L1219.05 32.9987 L1219.05 57.6282 Q1219.05 63.1779 1220.55 64.7578 Q1222.09 66.3376 1226.75 66.3376 L1234.4 66.3376 L1234.4 72.576 L1226.75 72.576 Q1218.12 72.576 1214.84 69.3758 Q1211.55 66.1351 1211.55 57.6282 L1211.55 32.9987 L1206.09 32.9987 L1206.09 27.2059 L1211.55 27.2059 L1211.55 14.324 L1219.05 14.324 Z\" fill=\"#000000\" fill-rule=\"evenodd\" fill-opacity=\"1\" /><path clip-path=\"url(#clip490)\" d=\"M1270.9 12.096 L1279.08 12.096 L1279.08 36.8875 L1308.82 36.8875 L1308.82 12.096 L1317 12.096 L1317 72.576 L1308.82 72.576 L1308.82 43.7741 L1279.08 43.7741 L1279.08 72.576 L1270.9 72.576 L1270.9 12.096 Z\" fill=\"#000000\" fill-rule=\"evenodd\" fill-opacity=\"1\" /><path clip-path=\"url(#clip490)\" d=\"M1332.96 27.2059 L1340.41 27.2059 L1340.41 72.576 L1332.96 72.576 L1332.96 27.2059 M1332.96 9.54393 L1340.41 9.54393 L1340.41 18.9825 L1332.96 18.9825 L1332.96 9.54393 Z\" fill=\"#000000\" fill-rule=\"evenodd\" fill-opacity=\"1\" /><path clip-path=\"url(#clip490)\" d=\"M1384.93 28.5427 L1384.93 35.5912 Q1381.77 33.9709 1378.37 33.1607 Q1374.97 32.3505 1371.32 32.3505 Q1365.77 32.3505 1362.98 34.0519 Q1360.22 35.7533 1360.22 39.156 Q1360.22 41.7486 1362.21 43.2475 Q1364.19 44.7058 1370.19 46.0426 L1372.74 46.6097 Q1380.68 48.3111 1384 51.4303 Q1387.36 54.509 1387.36 60.0587 Q1387.36 66.3781 1382.34 70.0644 Q1377.36 73.7508 1368.61 73.7508 Q1364.96 73.7508 1360.99 73.0216 Q1357.06 72.3329 1352.69 70.9151 L1352.69 63.2184 Q1356.82 65.3654 1360.83 66.4591 Q1364.84 67.5124 1368.77 67.5124 Q1374.04 67.5124 1376.87 65.73 Q1379.71 63.9071 1379.71 60.6258 Q1379.71 57.5877 1377.64 55.9673 Q1375.62 54.3469 1368.69 52.8481 L1366.1 52.2405 Q1359.17 50.7821 1356.09 47.7845 Q1353.01 44.7463 1353.01 39.4801 Q1353.01 33.0797 1357.55 29.5959 Q1362.09 26.1121 1370.43 26.1121 Q1374.56 26.1121 1378.21 26.7198 Q1381.85 27.3274 1384.93 28.5427 Z\" fill=\"#000000\" fill-rule=\"evenodd\" fill-opacity=\"1\" /><path clip-path=\"url(#clip490)\" d=\"M1406.61 14.324 L1406.61 27.2059 L1421.96 27.2059 L1421.96 32.9987 L1406.61 32.9987 L1406.61 57.6282 Q1406.61 63.1779 1408.1 64.7578 Q1409.64 66.3376 1414.3 66.3376 L1421.96 66.3376 L1421.96 72.576 L1414.3 72.576 Q1405.67 72.576 1402.39 69.3758 Q1399.11 66.1351 1399.11 57.6282 L1399.11 32.9987 L1393.64 32.9987 L1393.64 27.2059 L1399.11 27.2059 L1399.11 14.324 L1406.61 14.324 Z\" fill=\"#000000\" fill-rule=\"evenodd\" fill-opacity=\"1\" /><path clip-path=\"url(#clip490)\" d=\"M1449.34 32.4315 Q1443.35 32.4315 1439.86 37.1306 Q1436.38 41.7891 1436.38 49.9314 Q1436.38 58.0738 1439.82 62.7728 Q1443.31 67.4314 1449.34 67.4314 Q1455.3 67.4314 1458.78 62.7323 Q1462.27 58.0333 1462.27 49.9314 Q1462.27 41.8701 1458.78 37.1711 Q1455.3 32.4315 1449.34 32.4315 M1449.34 26.1121 Q1459.06 26.1121 1464.61 32.4315 Q1470.16 38.7509 1470.16 49.9314 Q1470.16 61.0714 1464.61 67.4314 Q1459.06 73.7508 1449.34 73.7508 Q1439.58 73.7508 1434.03 67.4314 Q1428.52 61.0714 1428.52 49.9314 Q1428.52 38.7509 1434.03 32.4315 Q1439.58 26.1121 1449.34 26.1121 Z\" fill=\"#000000\" fill-rule=\"evenodd\" fill-opacity=\"1\" /><path clip-path=\"url(#clip490)\" d=\"M1508.81 34.1734 Q1507.55 33.4443 1506.06 33.1202 Q1504.6 32.7556 1502.81 32.7556 Q1496.5 32.7556 1493.09 36.8875 Q1489.73 40.9789 1489.73 48.6757 L1489.73 72.576 L1482.24 72.576 L1482.24 27.2059 L1489.73 27.2059 L1489.73 34.2544 Q1492.08 30.1225 1495.85 28.1376 Q1499.61 26.1121 1505 26.1121 Q1505.77 26.1121 1506.7 26.2337 Q1507.64 26.3147 1508.77 26.5172 L1508.81 34.1734 Z\" fill=\"#000000\" fill-rule=\"evenodd\" fill-opacity=\"1\" /><path clip-path=\"url(#clip490)\" d=\"M1535.51 76.7889 Q1532.35 84.8907 1529.35 87.3618 Q1526.35 89.8329 1521.33 89.8329 L1515.37 89.8329 L1515.37 83.5945 L1519.75 83.5945 Q1522.83 83.5945 1524.53 82.1361 Q1526.23 80.6778 1528.29 75.2496 L1529.63 71.8468 L1511.28 27.2059 L1519.18 27.2059 L1533.36 62.6918 L1547.54 27.2059 L1555.44 27.2059 L1535.51 76.7889 Z\" fill=\"#000000\" fill-rule=\"evenodd\" fill-opacity=\"1\" /><polyline clip-path=\"url(#clip492)\" style=\"stroke:#009af9; stroke-linecap:round; stroke-linejoin:round; stroke-width:4; stroke-opacity:1; fill:none\" points=\"292.4,1323.25 312.605,1323.54 332.811,1323.83 353.016,1324.12 373.222,1324.41 393.427,1324.7 413.633,1324.99 433.838,1325.28 454.044,1325.58 474.249,1325.87 494.455,1326.16 514.66,1326.45 534.866,1326.74 555.071,1327.04 575.277,1327.33 595.482,1327.62 615.688,1327.91 635.893,1328.2 656.099,1328.5 676.304,1328.79 696.51,1329.08 716.715,1329.37 736.921,1329.67 757.127,1329.96 777.332,1330.25 797.538,1330.54 817.743,1330.84 837.949,1331.13 858.154,1331.42 878.36,1331.71 898.565,1332.01 918.771,1332.3 938.976,1332.59 959.182,1332.88 979.387,1333.18 999.593,1333.47 1019.8,1333.76 1040,1334.05 1060.21,1334.35 1080.41,1334.64 1100.62,1334.93 1120.83,1335.22 1141.03,1335.52 1161.24,1335.81 1181.44,1336.1 1201.65,1336.39 1221.85,1336.68 1242.06,1336.98 1262.26,1337.27 1282.47,1337.56 1302.68,1337.85 1322.88,1338.14 1343.09,1338.43 1363.29,1338.72 1383.5,1339.02 1403.7,1339.31 1423.91,1339.6 1444.11,1339.89 1464.32,1340.18 1484.53,1340.47 1504.73,1340.76 1524.94,1341.05 1545.14,1341.34 1565.35,1341.63 1585.55,1341.93 1605.76,1342.22 1625.96,1342.51 1646.17,1342.8 1666.37,1343.09 1686.58,1343.38 1706.79,1343.67 1726.99,1343.96 1747.2,1344.25 1767.4,1344.53 1787.61,1344.82 1807.81,1345.11 1828.02,1345.4 1848.22,1345.69 1868.43,1345.98 1888.64,1346.27 1908.84,1346.56 1929.05,1346.85 1949.25,1347.14 1969.46,1347.42 1989.66,1347.71 2009.87,1348 2030.07,1348.29 2050.28,1348.58 2070.48,1348.86 2090.69,1349.15 2110.9,1349.44 2131.1,1349.73 2151.31,1350.01 2171.51,1350.3 2191.72,1350.59 2211.92,1350.87 2232.13,1351.16 2252.33,1351.45 2272.54,1351.73 2292.75,1352.02 \"/>\n",
       "<polyline clip-path=\"url(#clip492)\" style=\"stroke:#e26f46; stroke-linecap:round; stroke-linejoin:round; stroke-width:4; stroke-opacity:1; fill:none\" points=\"292.4,1386.4 312.605,1386.05 332.811,1385.71 353.016,1385.37 373.222,1385.02 393.427,1384.68 413.633,1384.34 433.838,1384 454.044,1383.66 474.249,1383.32 494.455,1382.97 514.66,1382.63 534.866,1382.29 555.071,1381.95 575.277,1381.61 595.482,1381.27 615.688,1380.93 635.893,1380.59 656.099,1380.25 676.304,1379.91 696.51,1379.57 716.715,1379.23 736.921,1378.89 757.127,1378.55 777.332,1378.21 797.538,1377.87 817.743,1377.54 837.949,1377.2 858.154,1376.86 878.36,1376.52 898.565,1376.18 918.771,1375.85 938.976,1375.51 959.182,1375.17 979.387,1374.84 999.593,1374.5 1019.8,1374.16 1040,1373.83 1060.21,1373.49 1080.41,1373.16 1100.62,1372.82 1120.83,1372.49 1141.03,1372.15 1161.24,1371.82 1181.44,1371.48 1201.65,1371.15 1221.85,1370.81 1242.06,1370.48 1262.26,1370.15 1282.47,1369.81 1302.68,1369.48 1322.88,1369.15 1343.09,1368.81 1363.29,1368.48 1383.5,1368.15 1403.7,1367.82 1423.91,1367.48 1444.11,1367.15 1464.32,1366.82 1484.53,1366.49 1504.73,1366.16 1524.94,1365.83 1545.14,1365.5 1565.35,1365.17 1585.55,1364.84 1605.76,1364.51 1625.96,1364.18 1646.17,1363.85 1666.37,1363.52 1686.58,1363.19 1706.79,1362.86 1726.99,1362.53 1747.2,1362.2 1767.4,1361.88 1787.61,1361.55 1807.81,1361.22 1828.02,1360.89 1848.22,1360.57 1868.43,1360.24 1888.64,1359.91 1908.84,1359.58 1929.05,1359.26 1949.25,1358.93 1969.46,1358.61 1989.66,1358.28 2009.87,1357.95 2030.07,1357.63 2050.28,1357.3 2070.48,1356.98 2090.69,1356.65 2110.9,1356.33 2131.1,1356 2151.31,1355.68 2171.51,1355.35 2191.72,1355.03 2211.92,1354.71 2232.13,1354.38 2252.33,1354.06 2272.54,1353.73 2292.75,1353.41 \"/>\n",
       "<polyline clip-path=\"url(#clip492)\" style=\"stroke:#3da44d; stroke-linecap:round; stroke-linejoin:round; stroke-width:4; stroke-opacity:1; fill:none\" points=\"292.4,160.256 312.605,170.018 332.811,179.781 353.016,189.544 373.222,199.309 393.427,209.074 413.633,218.84 433.838,228.607 454.044,238.375 474.249,248.144 494.455,257.913 514.66,267.684 534.866,277.455 555.071,287.227 575.277,296.999 595.482,306.773 615.688,316.547 635.893,326.323 656.099,336.098 676.304,345.875 696.51,355.653 716.715,365.431 736.921,375.21 757.127,384.989 777.332,394.77 797.538,404.551 817.743,414.333 837.949,424.115 858.154,433.899 878.36,443.683 898.565,453.467 918.771,463.253 938.976,473.039 959.182,482.825 979.387,492.613 999.593,502.4 1019.8,512.189 1040,521.978 1060.21,531.768 1080.41,541.558 1100.62,551.349 1120.83,561.141 1141.03,570.933 1161.24,580.726 1181.44,590.519 1201.65,600.313 1221.85,610.107 1242.06,619.902 1262.26,629.697 1282.47,639.492 1302.68,649.289 1322.88,659.085 1343.09,668.882 1363.29,678.68 1383.5,688.477 1403.7,698.276 1423.91,708.074 1444.11,717.873 1464.32,727.672 1484.53,737.472 1504.73,747.272 1524.94,757.072 1545.14,766.872 1565.35,776.673 1585.55,786.473 1605.76,796.274 1625.96,806.075 1646.17,815.876 1666.37,825.678 1686.58,835.479 1706.79,845.281 1726.99,855.082 1747.2,864.884 1767.4,874.685 1787.61,884.486 1807.81,894.288 1828.02,904.089 1848.22,913.89 1868.43,923.691 1888.64,933.492 1908.84,943.292 1929.05,953.092 1949.25,962.892 1969.46,972.692 1989.66,982.491 2009.87,992.29 2030.07,1002.09 2050.28,1011.89 2070.48,1021.68 2090.69,1031.48 2110.9,1041.28 2131.1,1051.07 2151.31,1060.87 2171.51,1070.66 2191.72,1080.45 2211.92,1090.25 2232.13,1100.04 2252.33,1109.83 2272.54,1119.62 2292.75,1129.41 \"/>\n",
       "<path clip-path=\"url(#clip490)\" d=\"M2027.42 374.156 L2282.08 374.156 L2282.08 166.796 L2027.42 166.796  Z\" fill=\"#ffffff\" fill-rule=\"evenodd\" fill-opacity=\"1\"/>\n",
       "<polyline clip-path=\"url(#clip490)\" style=\"stroke:#000000; stroke-linecap:round; stroke-linejoin:round; stroke-width:4; stroke-opacity:1; fill:none\" points=\"2027.42,374.156 2282.08,374.156 2282.08,166.796 2027.42,166.796 2027.42,374.156 \"/>\n",
       "<polyline clip-path=\"url(#clip490)\" style=\"stroke:#009af9; stroke-linecap:round; stroke-linejoin:round; stroke-width:4; stroke-opacity:1; fill:none\" points=\"2050.98,218.636 2192.34,218.636 \"/>\n",
       "<path clip-path=\"url(#clip490)\" d=\"M2215.9 225.684 L2215.9 209.99 L2220.16 209.99 L2220.16 225.522 Q2220.16 229.203 2221.6 231.055 Q2223.03 232.883 2225.9 232.883 Q2229.35 232.883 2231.34 230.684 Q2233.36 228.485 2233.36 224.689 L2233.36 209.99 L2237.61 209.99 L2237.61 235.916 L2233.36 235.916 L2233.36 231.934 Q2231.8 234.295 2229.74 235.453 Q2227.71 236.587 2225 236.587 Q2220.53 236.587 2218.22 233.809 Q2215.9 231.031 2215.9 225.684 M2226.62 209.365 L2226.62 209.365 Z\" fill=\"#000000\" fill-rule=\"evenodd\" fill-opacity=\"1\" /><path clip-path=\"url(#clip490)\" d=\"M2245.53 233.369 L2250.25 233.369 L2250.25 219.226 L2245.09 220.175 L2245.09 217.49 L2250.42 216.587 L2253.59 216.587 L2253.59 233.369 L2258.33 233.369 L2258.33 235.916 L2245.53 235.916 L2245.53 233.369 Z\" fill=\"#000000\" fill-rule=\"evenodd\" fill-opacity=\"1\" /><polyline clip-path=\"url(#clip490)\" style=\"stroke:#e26f46; stroke-linecap:round; stroke-linejoin:round; stroke-width:4; stroke-opacity:1; fill:none\" points=\"2050.98,270.476 2192.34,270.476 \"/>\n",
       "<path clip-path=\"url(#clip490)\" d=\"M2215.9 277.524 L2215.9 261.83 L2220.16 261.83 L2220.16 277.362 Q2220.16 281.043 2221.6 282.895 Q2223.03 284.723 2225.9 284.723 Q2229.35 284.723 2231.34 282.524 Q2233.36 280.325 2233.36 276.529 L2233.36 261.83 L2237.61 261.83 L2237.61 287.756 L2233.36 287.756 L2233.36 283.774 Q2231.8 286.135 2229.74 287.293 Q2227.71 288.427 2225 288.427 Q2220.53 288.427 2218.22 285.649 Q2215.9 282.871 2215.9 277.524 M2226.62 261.205 L2226.62 261.205 Z\" fill=\"#000000\" fill-rule=\"evenodd\" fill-opacity=\"1\" /><path clip-path=\"url(#clip490)\" d=\"M2248.12 285.117 L2257.94 285.117 L2257.94 287.756 L2244.1 287.756 L2244.1 285.209 Q2244.88 284.492 2246.34 283.196 Q2254.3 276.135 2254.3 273.959 Q2254.3 272.432 2253.1 271.506 Q2251.9 270.557 2249.93 270.557 Q2248.73 270.557 2247.31 270.973 Q2245.9 271.367 2244.24 272.177 L2244.24 269.33 Q2246.02 268.682 2247.55 268.358 Q2249.1 268.034 2250.42 268.034 Q2253.77 268.034 2255.79 269.561 Q2257.8 271.089 2257.8 273.589 Q2257.8 276.807 2250.14 283.381 Q2248.84 284.492 2248.12 285.117 Z\" fill=\"#000000\" fill-rule=\"evenodd\" fill-opacity=\"1\" /><polyline clip-path=\"url(#clip490)\" style=\"stroke:#3da44d; stroke-linecap:round; stroke-linejoin:round; stroke-width:4; stroke-opacity:1; fill:none\" points=\"2050.98,322.316 2192.34,322.316 \"/>\n",
       "<path clip-path=\"url(#clip490)\" d=\"M2215.9 329.364 L2215.9 313.67 L2220.16 313.67 L2220.16 329.202 Q2220.16 332.883 2221.6 334.735 Q2223.03 336.563 2225.9 336.563 Q2229.35 336.563 2231.34 334.364 Q2233.36 332.165 2233.36 328.369 L2233.36 313.67 L2237.61 313.67 L2237.61 339.596 L2233.36 339.596 L2233.36 335.614 Q2231.8 337.975 2229.74 339.133 Q2227.71 340.267 2225 340.267 Q2220.53 340.267 2218.22 337.489 Q2215.9 334.711 2215.9 329.364 M2226.62 313.045 L2226.62 313.045 Z\" fill=\"#000000\" fill-rule=\"evenodd\" fill-opacity=\"1\" /><path clip-path=\"url(#clip490)\" d=\"M2254.05 329.133 Q2256.18 329.549 2257.34 330.823 Q2258.52 332.073 2258.52 333.971 Q2258.52 336.841 2256.32 338.392 Q2254.12 339.943 2250.02 339.943 Q2248.7 339.943 2247.24 339.688 Q2245.81 339.457 2244.19 338.994 L2244.19 336.193 Q2245.39 336.818 2246.76 337.119 Q2248.15 337.42 2249.7 337.42 Q2252.22 337.42 2253.61 336.517 Q2255 335.591 2255 333.971 Q2255 332.258 2253.7 331.378 Q2252.43 330.499 2249.93 330.499 L2247.94 330.499 L2247.94 327.999 L2250.11 327.999 Q2252.29 327.999 2253.4 327.281 Q2254.54 326.54 2254.54 325.151 Q2254.54 323.809 2253.38 323.114 Q2252.22 322.397 2250.02 322.397 Q2249.1 322.397 2247.92 322.605 Q2246.74 322.813 2244.86 323.346 L2244.86 320.684 Q2246.55 320.29 2248.03 320.082 Q2249.51 319.874 2250.79 319.874 Q2254.12 319.874 2256.06 321.239 Q2258.03 322.605 2258.03 324.897 Q2258.03 326.494 2256.99 327.605 Q2255.95 328.716 2254.05 329.133 Z\" fill=\"#000000\" fill-rule=\"evenodd\" fill-opacity=\"1\" /></svg>\n"
      ]
     },
     "metadata": {},
     "output_type": "display_data"
    },
    {
     "name": "stdout",
     "output_type": "stream",
     "text": [
      "iter     J           ΔJ        |d|         α        reg         ρ\n",
      "---------------------------------------------------------------------\n",
      "  1    0.000e+00   3.18e+04   0.00e+00  0.0000    1.00e-08    1.00e+00\n",
      "update cone\n",
      "convio = 33.33396509933647\n",
      "  2    0.000e+00   2.24e+05   0.00e+00  0.0000    1.00e-08    1.00e+01\n",
      "update cone\n",
      "convio = 27.988206394915338\n",
      "  3    0.000e+00   2.07e+06   0.00e+00  0.0000    1.00e-08    1.00e+02\n",
      "update cone\n",
      "convio = 21.756452448319763\n",
      "  4    0.000e+00   2.11e+07   0.00e+00  0.0000    1.00e-08    1.00e+03\n",
      "update cone\n",
      "convio = 18.957975578879605\n",
      "  5    0.000e+00   2.14e+08   0.00e+00  0.0000    1.00e-08    1.00e+04\n",
      "update cone\n",
      "convio = 18.209290152623232\n",
      "  6    0.000e+00   2.14e+09   0.00e+00  0.0000    1.00e-08    1.00e+05\n",
      "update cone\n",
      "convio = 17.789701041218144\n",
      "  7    0.000e+00   2.12e+10   0.00e+00  0.0000    1.00e-08    1.00e+06\n",
      "update cone\n",
      "convio = 17.545034621975248\n",
      "  8    0.000e+00   2.10e+11   0.00e+00  0.0000    1.00e-08    1.00e+07\n",
      "update cone\n",
      "convio = 17.39336913462579\n",
      "  9    0.000e+00   2.09e+12   0.00e+00  0.0000    1.00e-08    1.00e+08\n",
      "update cone\n",
      "convio = 17.29236342765499\n",
      " 10    0.000e+00   2.07e+13   0.00e+00  0.0000    1.00e-08    1.00e+09\n",
      "update cone\n",
      "convio = 17.22010700237282\n",
      "iter     J           ΔJ        |d|         α        reg         ρ\n",
      "---------------------------------------------------------------------\n",
      " 11    0.000e+00   2.06e+14   0.00e+00  0.0000    1.00e-08    1.00e+10\n",
      "update cone\n",
      "convio = 17.165116312477018\n",
      " 12    0.000e+00   2.04e+15   0.00e+00  0.0000    1.00e-08    1.00e+11\n",
      "update cone\n",
      "convio = 17.121234373291127\n",
      " 13    0.000e+00   2.03e+16   0.00e+00  0.0000    1.00e-08    1.00e+12\n",
      "update cone\n",
      "convio = 17.085042158459252\n",
      " 14    0.000e+00   2.03e+17   0.00e+00  0.0000    1.00e-08    1.00e+13\n",
      "update cone\n",
      "convio = 17.05454403696137\n",
      " 15    0.000e+00   2.02e+18   0.00e+00  0.0000    1.00e-08    1.00e+14\n",
      "update cone\n",
      "convio = 17.028498263035882\n",
      "size(Xsim_m') = (101, 6)\n",
      "size(params.Xref) = (101,)\n"
     ]
    }
   ],
   "source": [
    "# Let's solve\n",
    "\n",
    "nx = 6\n",
    "nu = 3\n",
    "N = 101\n",
    "dt = 0.1\n",
    "t_vec = dt*(0:N-1)\n",
    "x0 = [4, 2, 20, -3, 2, -5.0]\n",
    "xg = [0,0,0,0,0,0.0]\n",
    "Xref = [deepcopy(xg) for i = 1:N]\n",
    "Uref = [zeros(nu) for i = 1:N-1]\n",
    "\n",
    "Q = 1e-2*Diagonal([1,1,1,1.0,1,1])\n",
    "R = 1e-1*Diagonal([1,1,1])\n",
    "Qf = 1000*Q\n",
    "\n",
    "ground_level = 0.0\n",
    "gravity = [0; 0; 9.81]\n",
    "mass = 10.0\n",
    "ωPlanet = [0.0; 0.0; 0.0]\n",
    "perWeightMax = 2.0\n",
    "θ_thrust_max = 10.0  # deg\n",
    "θ_glideslope = 60.0 # deg\n",
    "glide_recover_k = 8\n",
    "\n",
    "A_cone = [1 0 0; 0 1 0]\n",
    "c_cone = [0.0, 0.0, tand(θ_thrust_max)]\n",
    "u_bnd = mass * abs(gravity[3]) * perWeightMax\n",
    "u_min = -170*ones(nu)\n",
    "u_max =  170*ones(nu)\n",
    "\n",
    "# state is x y v θ\n",
    "x_min = [-2,-2,-2,-2]\n",
    "x_max = [6,8,3,2]\n",
    "\n",
    "ncx = 2*nx*0\n",
    "ncu = 2*nu\n",
    "ncg = 1\n",
    "ncu_cone = nu;\n",
    "\n",
    "params = (\n",
    "    nx = nx,\n",
    "    nu = nu,\n",
    "    ncx = ncx,\n",
    "    ncu = ncu,\n",
    "    ncg = ncg,\n",
    "    ncu_cone = ncu_cone,\n",
    "    A_cone = A_cone,\n",
    "    c_cone = c_cone,\n",
    "    N = N,\n",
    "    Q = Q,\n",
    "    R = R,\n",
    "    Qf = Qf,\n",
    "    u_min = u_min,\n",
    "    u_max = u_max,\n",
    "    x_min = x_min,\n",
    "    x_max = x_max,\n",
    "    Xref = Xref,\n",
    "    Uref = Uref,\n",
    "    dt = dt,\n",
    "    mc = 1.0,\n",
    "    mp = 0.2,\n",
    "    l = 0.5,\n",
    "    g = 9.81,\n",
    ");\n",
    "\n",
    "# previous iterate\n",
    "X = [deepcopy(x0) for i = 1:N]\n",
    "U = [mass * gravity for k = 1:N-1]\n",
    "\n",
    "# new iterate\n",
    "Xn = deepcopy(X)\n",
    "Un = deepcopy(U)\n",
    "\n",
    "P = [zeros(nx,nx) for i = 1:N]   # cost to go quadratic term\n",
    "p = [zeros(nx) for i = 1:N]      # cost to go linear term\n",
    "d = [zeros(nu) for i = 1:N-1]    # feedforward control\n",
    "K = [zeros(nu,nx) for i = 1:N-1] # feedback gain\n",
    "Xhist = mpc(params,X,U,P,p,K,d,Xn,Un;atol=1e-1,max_iters = 15,verbose = true,ρ = 1e0, ϕ = 10.0);\n",
    "function mat_from_vec(X::Vector{Vector{Float64}})::Matrix\n",
    "    # convert a vector of vectors to a matrix \n",
    "    Xm = hcat(X...)\n",
    "    return Xm\n",
    "end\n",
    "Xsim_m = mat_from_vec(Xn)\n",
    "Usim_m = mat_from_vec(Un)\n",
    "using Plots\n",
    "@show size(Xsim_m')\n",
    "@show size(params.Xref)\n",
    "display(plot(t_vec,Xsim_m',label = [\"x₁\" \"x₂\" \"x₃\" \"ẋ₁\" \"ẋ₂\" \"ẋ₃\"],\n",
    "             title = \"State History\",\n",
    "             xlabel = \"time (s)\", ylabel = \"x\"))\n",
    "display(plot(t_vec[1:end-1],Usim_m',label = [\"u₁\" \"u₂\" \"u₃\"],\n",
    "             title = \"Input History\",\n",
    "             xlabel = \"time (s)\", ylabel = \"u\"))"
   ]
  },
  {
   "cell_type": "code",
   "execution_count": 127,
   "id": "12ec6530-7479-455f-843a-81d2c40fb13a",
   "metadata": {},
   "outputs": [
    {
     "data": {
      "text/plain": [
       "0.0"
      ]
     },
     "metadata": {},
     "output_type": "display_data"
    },
    {
     "data": {
      "text/plain": [
       "0.0"
      ]
     },
     "metadata": {},
     "output_type": "display_data"
    },
    {
     "data": {
      "text/plain": [
       "0.0"
      ]
     },
     "metadata": {},
     "output_type": "display_data"
    },
    {
     "data": {
      "text/plain": [
       "0.0"
      ]
     },
     "metadata": {},
     "output_type": "display_data"
    },
    {
     "data": {
      "text/plain": [
       "0.0"
      ]
     },
     "metadata": {},
     "output_type": "display_data"
    },
    {
     "data": {
      "text/plain": [
       "0.0"
      ]
     },
     "metadata": {},
     "output_type": "display_data"
    },
    {
     "data": {
      "text/plain": [
       "0.0"
      ]
     },
     "metadata": {},
     "output_type": "display_data"
    },
    {
     "data": {
      "text/plain": [
       "0.0"
      ]
     },
     "metadata": {},
     "output_type": "display_data"
    },
    {
     "data": {
      "text/plain": [
       "0.0"
      ]
     },
     "metadata": {},
     "output_type": "display_data"
    },
    {
     "data": {
      "text/plain": [
       "0.0"
      ]
     },
     "metadata": {},
     "output_type": "display_data"
    },
    {
     "data": {
      "text/plain": [
       "0.0"
      ]
     },
     "metadata": {},
     "output_type": "display_data"
    },
    {
     "data": {
      "text/plain": [
       "0.0"
      ]
     },
     "metadata": {},
     "output_type": "display_data"
    },
    {
     "data": {
      "text/plain": [
       "0.0"
      ]
     },
     "metadata": {},
     "output_type": "display_data"
    },
    {
     "data": {
      "text/plain": [
       "0.0"
      ]
     },
     "metadata": {},
     "output_type": "display_data"
    },
    {
     "data": {
      "text/plain": [
       "0.0"
      ]
     },
     "metadata": {},
     "output_type": "display_data"
    },
    {
     "data": {
      "text/plain": [
       "0.0"
      ]
     },
     "metadata": {},
     "output_type": "display_data"
    },
    {
     "data": {
      "text/plain": [
       "0.0"
      ]
     },
     "metadata": {},
     "output_type": "display_data"
    },
    {
     "data": {
      "text/plain": [
       "0.0"
      ]
     },
     "metadata": {},
     "output_type": "display_data"
    },
    {
     "data": {
      "text/plain": [
       "0.0"
      ]
     },
     "metadata": {},
     "output_type": "display_data"
    },
    {
     "data": {
      "text/plain": [
       "0.0"
      ]
     },
     "metadata": {},
     "output_type": "display_data"
    },
    {
     "data": {
      "text/plain": [
       "0.0"
      ]
     },
     "metadata": {},
     "output_type": "display_data"
    },
    {
     "data": {
      "text/plain": [
       "0.0"
      ]
     },
     "metadata": {},
     "output_type": "display_data"
    },
    {
     "data": {
      "text/plain": [
       "0.0"
      ]
     },
     "metadata": {},
     "output_type": "display_data"
    },
    {
     "data": {
      "text/plain": [
       "0.0"
      ]
     },
     "metadata": {},
     "output_type": "display_data"
    },
    {
     "data": {
      "text/plain": [
       "0.0"
      ]
     },
     "metadata": {},
     "output_type": "display_data"
    },
    {
     "data": {
      "text/plain": [
       "0.0"
      ]
     },
     "metadata": {},
     "output_type": "display_data"
    },
    {
     "data": {
      "text/plain": [
       "0.0"
      ]
     },
     "metadata": {},
     "output_type": "display_data"
    },
    {
     "data": {
      "text/plain": [
       "0.0"
      ]
     },
     "metadata": {},
     "output_type": "display_data"
    },
    {
     "data": {
      "text/plain": [
       "0.0"
      ]
     },
     "metadata": {},
     "output_type": "display_data"
    },
    {
     "data": {
      "text/plain": [
       "0.0"
      ]
     },
     "metadata": {},
     "output_type": "display_data"
    },
    {
     "data": {
      "text/plain": [
       "0.0"
      ]
     },
     "metadata": {},
     "output_type": "display_data"
    },
    {
     "data": {
      "text/plain": [
       "0.0"
      ]
     },
     "metadata": {},
     "output_type": "display_data"
    },
    {
     "data": {
      "text/plain": [
       "0.0"
      ]
     },
     "metadata": {},
     "output_type": "display_data"
    },
    {
     "data": {
      "text/plain": [
       "0.0"
      ]
     },
     "metadata": {},
     "output_type": "display_data"
    },
    {
     "data": {
      "text/plain": [
       "0.0"
      ]
     },
     "metadata": {},
     "output_type": "display_data"
    },
    {
     "data": {
      "text/plain": [
       "0.0"
      ]
     },
     "metadata": {},
     "output_type": "display_data"
    },
    {
     "data": {
      "text/plain": [
       "0.0"
      ]
     },
     "metadata": {},
     "output_type": "display_data"
    },
    {
     "data": {
      "text/plain": [
       "0.0"
      ]
     },
     "metadata": {},
     "output_type": "display_data"
    },
    {
     "data": {
      "text/plain": [
       "0.0"
      ]
     },
     "metadata": {},
     "output_type": "display_data"
    },
    {
     "data": {
      "text/plain": [
       "0.0"
      ]
     },
     "metadata": {},
     "output_type": "display_data"
    },
    {
     "data": {
      "text/plain": [
       "0.0"
      ]
     },
     "metadata": {},
     "output_type": "display_data"
    },
    {
     "data": {
      "text/plain": [
       "0.0"
      ]
     },
     "metadata": {},
     "output_type": "display_data"
    },
    {
     "data": {
      "text/plain": [
       "0.0"
      ]
     },
     "metadata": {},
     "output_type": "display_data"
    },
    {
     "data": {
      "text/plain": [
       "0.0"
      ]
     },
     "metadata": {},
     "output_type": "display_data"
    },
    {
     "data": {
      "text/plain": [
       "0.0"
      ]
     },
     "metadata": {},
     "output_type": "display_data"
    },
    {
     "data": {
      "text/plain": [
       "0.0"
      ]
     },
     "metadata": {},
     "output_type": "display_data"
    },
    {
     "data": {
      "text/plain": [
       "0.0"
      ]
     },
     "metadata": {},
     "output_type": "display_data"
    },
    {
     "data": {
      "text/plain": [
       "0.0"
      ]
     },
     "metadata": {},
     "output_type": "display_data"
    },
    {
     "data": {
      "text/plain": [
       "0.0"
      ]
     },
     "metadata": {},
     "output_type": "display_data"
    },
    {
     "data": {
      "text/plain": [
       "0.0"
      ]
     },
     "metadata": {},
     "output_type": "display_data"
    },
    {
     "data": {
      "text/plain": [
       "0.0"
      ]
     },
     "metadata": {},
     "output_type": "display_data"
    },
    {
     "data": {
      "text/plain": [
       "0.0"
      ]
     },
     "metadata": {},
     "output_type": "display_data"
    },
    {
     "data": {
      "text/plain": [
       "0.0"
      ]
     },
     "metadata": {},
     "output_type": "display_data"
    },
    {
     "data": {
      "text/plain": [
       "0.0"
      ]
     },
     "metadata": {},
     "output_type": "display_data"
    },
    {
     "data": {
      "text/plain": [
       "0.0"
      ]
     },
     "metadata": {},
     "output_type": "display_data"
    },
    {
     "data": {
      "text/plain": [
       "0.0"
      ]
     },
     "metadata": {},
     "output_type": "display_data"
    },
    {
     "data": {
      "text/plain": [
       "0.0"
      ]
     },
     "metadata": {},
     "output_type": "display_data"
    },
    {
     "data": {
      "text/plain": [
       "0.0"
      ]
     },
     "metadata": {},
     "output_type": "display_data"
    },
    {
     "data": {
      "text/plain": [
       "0.0"
      ]
     },
     "metadata": {},
     "output_type": "display_data"
    },
    {
     "data": {
      "text/plain": [
       "0.0"
      ]
     },
     "metadata": {},
     "output_type": "display_data"
    },
    {
     "data": {
      "text/plain": [
       "0.0"
      ]
     },
     "metadata": {},
     "output_type": "display_data"
    },
    {
     "data": {
      "text/plain": [
       "0.0"
      ]
     },
     "metadata": {},
     "output_type": "display_data"
    },
    {
     "data": {
      "text/plain": [
       "0.0"
      ]
     },
     "metadata": {},
     "output_type": "display_data"
    },
    {
     "data": {
      "text/plain": [
       "0.0"
      ]
     },
     "metadata": {},
     "output_type": "display_data"
    },
    {
     "data": {
      "text/plain": [
       "0.0"
      ]
     },
     "metadata": {},
     "output_type": "display_data"
    },
    {
     "data": {
      "text/plain": [
       "0.0"
      ]
     },
     "metadata": {},
     "output_type": "display_data"
    },
    {
     "data": {
      "text/plain": [
       "0.0"
      ]
     },
     "metadata": {},
     "output_type": "display_data"
    },
    {
     "data": {
      "text/plain": [
       "0.0"
      ]
     },
     "metadata": {},
     "output_type": "display_data"
    },
    {
     "data": {
      "text/plain": [
       "0.0"
      ]
     },
     "metadata": {},
     "output_type": "display_data"
    },
    {
     "data": {
      "text/plain": [
       "0.0"
      ]
     },
     "metadata": {},
     "output_type": "display_data"
    },
    {
     "data": {
      "text/plain": [
       "0.0"
      ]
     },
     "metadata": {},
     "output_type": "display_data"
    },
    {
     "data": {
      "text/plain": [
       "0.0"
      ]
     },
     "metadata": {},
     "output_type": "display_data"
    },
    {
     "data": {
      "text/plain": [
       "0.0"
      ]
     },
     "metadata": {},
     "output_type": "display_data"
    },
    {
     "data": {
      "text/plain": [
       "0.0"
      ]
     },
     "metadata": {},
     "output_type": "display_data"
    },
    {
     "data": {
      "text/plain": [
       "0.0"
      ]
     },
     "metadata": {},
     "output_type": "display_data"
    },
    {
     "data": {
      "text/plain": [
       "0.0"
      ]
     },
     "metadata": {},
     "output_type": "display_data"
    },
    {
     "data": {
      "text/plain": [
       "0.0"
      ]
     },
     "metadata": {},
     "output_type": "display_data"
    },
    {
     "data": {
      "text/plain": [
       "0.0"
      ]
     },
     "metadata": {},
     "output_type": "display_data"
    },
    {
     "data": {
      "text/plain": [
       "0.0"
      ]
     },
     "metadata": {},
     "output_type": "display_data"
    },
    {
     "data": {
      "text/plain": [
       "0.0"
      ]
     },
     "metadata": {},
     "output_type": "display_data"
    },
    {
     "data": {
      "text/plain": [
       "0.0"
      ]
     },
     "metadata": {},
     "output_type": "display_data"
    },
    {
     "data": {
      "text/plain": [
       "0.0"
      ]
     },
     "metadata": {},
     "output_type": "display_data"
    },
    {
     "data": {
      "text/plain": [
       "0.0"
      ]
     },
     "metadata": {},
     "output_type": "display_data"
    },
    {
     "data": {
      "text/plain": [
       "0.0"
      ]
     },
     "metadata": {},
     "output_type": "display_data"
    },
    {
     "data": {
      "text/plain": [
       "0.0"
      ]
     },
     "metadata": {},
     "output_type": "display_data"
    },
    {
     "data": {
      "text/plain": [
       "0.0"
      ]
     },
     "metadata": {},
     "output_type": "display_data"
    },
    {
     "data": {
      "text/plain": [
       "0.0"
      ]
     },
     "metadata": {},
     "output_type": "display_data"
    },
    {
     "data": {
      "text/plain": [
       "0.0"
      ]
     },
     "metadata": {},
     "output_type": "display_data"
    },
    {
     "data": {
      "text/plain": [
       "0.0"
      ]
     },
     "metadata": {},
     "output_type": "display_data"
    },
    {
     "data": {
      "text/plain": [
       "0.0"
      ]
     },
     "metadata": {},
     "output_type": "display_data"
    },
    {
     "data": {
      "text/plain": [
       "0.0"
      ]
     },
     "metadata": {},
     "output_type": "display_data"
    },
    {
     "data": {
      "text/plain": [
       "0.0"
      ]
     },
     "metadata": {},
     "output_type": "display_data"
    },
    {
     "data": {
      "text/plain": [
       "0.0"
      ]
     },
     "metadata": {},
     "output_type": "display_data"
    },
    {
     "data": {
      "text/plain": [
       "0.0"
      ]
     },
     "metadata": {},
     "output_type": "display_data"
    },
    {
     "data": {
      "text/plain": [
       "0.0"
      ]
     },
     "metadata": {},
     "output_type": "display_data"
    },
    {
     "data": {
      "text/plain": [
       "0.0"
      ]
     },
     "metadata": {},
     "output_type": "display_data"
    },
    {
     "data": {
      "text/plain": [
       "0.0"
      ]
     },
     "metadata": {},
     "output_type": "display_data"
    },
    {
     "data": {
      "text/plain": [
       "0.0"
      ]
     },
     "metadata": {},
     "output_type": "display_data"
    },
    {
     "data": {
      "text/plain": [
       "0.0"
      ]
     },
     "metadata": {},
     "output_type": "display_data"
    },
    {
     "data": {
      "text/plain": [
       "0.0"
      ]
     },
     "metadata": {},
     "output_type": "display_data"
    }
   ],
   "source": [
    "convio = 0.0\n",
    "for k = 1:N-1\n",
    "    # update dual\n",
    "    Uc = cone_u(params, U[k])\n",
    "    huc = norm(Uc[1:2]) - Uc[3]\n",
    "    convio = norm(huc + abs.(huc),Inf)\n",
    "    display(convio)\n",
    "end"
   ]
  }
 ],
 "metadata": {
  "kernelspec": {
   "display_name": "Julia 1.6.7",
   "language": "julia",
   "name": "julia-1.6"
  },
  "language_info": {
   "file_extension": ".jl",
   "mimetype": "application/julia",
   "name": "julia",
   "version": "1.6.7"
  }
 },
 "nbformat": 4,
 "nbformat_minor": 5
}
