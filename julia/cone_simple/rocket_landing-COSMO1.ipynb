{
 "cells": [
  {
   "cell_type": "code",
   "execution_count": 2,
   "id": "6099cb4b-a2da-4b1b-ba0f-856484092fc4",
   "metadata": {},
   "outputs": [
    {
     "name": "stderr",
     "output_type": "stream",
     "text": [
      "\u001b[32m\u001b[1m  Activating\u001b[22m\u001b[39m environment at `~/SSD/Code/TinyMPC/julia/cone_simple/Project.toml`\n"
     ]
    }
   ],
   "source": [
    "using Pkg\n",
    "Pkg.activate(@__DIR__)\n",
    "Pkg.instantiate()\n",
    "\n",
    "using LinearAlgebra\n",
    "using Printf\n",
    "import ForwardDiff as FD\n",
    "using JuMP\n",
    "using COSMO"
   ]
  },
  {
   "cell_type": "code",
   "execution_count": 89,
   "id": "6179ca57-b5ff-4274-8391-85d5e728fc16",
   "metadata": {},
   "outputs": [
    {
     "data": {
      "text/plain": [
       "mpc (generic function with 1 method)"
      ]
     },
     "execution_count": 89,
     "metadata": {},
     "output_type": "execute_result"
    }
   ],
   "source": [
    "# -------------------THIS IS ALL ALTRO-------------------------------\n",
    "# This enables goal equality constraints, state and input ineq constraints.\n",
    "\n",
    "function stage_cost(p::NamedTuple,x,u,k)\n",
    "    dx = x - p.Xref[k]\n",
    "    du = u - p.Uref[k]\n",
    "    return 0.5*dx'*p.Q*dx + 0.5*du'*p.R*du\n",
    "end\n",
    "function term_cost(p::NamedTuple,x)\n",
    "    dx = x - p.Xref[p.N]\n",
    "    return 0.5*dx'*p.Qf*dx\n",
    "end\n",
    "function stage_cost_expansion(p::NamedTuple,k)\n",
    "    dx = - p.Xref[k]\n",
    "    du = - p.Uref[k]\n",
    "    return p.Q, p.Q*dx, p.R, p.R*du  # Hessian and gradient\n",
    "end\n",
    "function term_cost_expansion(p::NamedTuple)\n",
    "    dx = - p.Xref[p.N]\n",
    "    return p.Qf, p.Qf*dx\n",
    "end\n",
    "function conic_cost_expansion(p::NamedTuple, u, λc, ρ, k)\n",
    "    λhat = λc # already updated\n",
    "    ∇c = cone_u_jac(p, u)\n",
    "    G = ∇c'*∇projection(λhat)*projection(λhat) \n",
    "    H = ∇c'*∇projection(λhat)'*∇projection(λhat)*∇c*ρ\n",
    "    # display(∇projection(λhat)')\n",
    "    # H = zeros(p.ncu_cone,p.ncu_cone)\n",
    "    return (G - H*u), H\n",
    "end\n",
    "function backward_pass!(params,X,U,P,p,d,K,reg,μ,μx,ρ,λ,λc)\n",
    "    \"\"\"iLQR backward pass with AL. This !function update its parameters\n",
    "    \"\"\"\n",
    "    N = params.N\n",
    "    ΔJ = 0.0    # expected cost reduction\n",
    "\n",
    "    # terminal cost expansion\n",
    "    P[N], p[N] = term_cost_expansion(params) \n",
    "    \n",
    "    if (params.ncx > 0)\n",
    "        # # add AL terms for the state constraint at the final time step\n",
    "        hxv = ineq_con_x(params,X[N])  # h(x) violation  \n",
    "        mask = eval_mask(μx[N],hxv)\n",
    "        ∇hx = ineq_con_x_jac(params,X[N])\n",
    "        # add these into the cost-to-go p and P\n",
    "        p[N]  += ∇hx'*(μx[N] - ρ*(mask * [params.x_max;-params.x_min]))  # multiplier term (1st)\n",
    "        P[N]  += ρ*∇hx'*mask*∇hx                # penalty term (2nd)\n",
    "    end\n",
    "    \n",
    "    if (params.ncg > 0)\n",
    "        # add AL terms for goal constraint \n",
    "        ∇hx = diagm(ones(params.nx))\n",
    "        # add these into the CTG p and P (equality active)\n",
    "        p[N]  += ∇hx'*(λ - ρ*params.Xref[N])   \n",
    "        P[N]  += ρ*∇hx'∇hx\n",
    "    end\n",
    "    \n",
    "    # iterate from N-1 to 1 backwards\n",
    "    for k = (N-1):(-1):1\n",
    "        # dynamics jacobians (linearization about previous iterate)\n",
    "        A = FD.jacobian(_x -> discrete_dynamics(params,_x,U[k],k),X[k])\n",
    "        B = FD.jacobian(_u -> discrete_dynamics(params,X[k],_u,k),U[k])\n",
    "\n",
    "        Sxx,Sx,Suu,Su = stage_cost_expansion(params,k)\n",
    "        \n",
    "        # one-step cost expansion: Q, Q*dx, R, R*du\n",
    "        Sx += A' * (P[k+1]*f + p[k+1]) \n",
    "        Su += B' * (P[k+1]*f + p[k+1]) \n",
    "        Sxx += A'*(P[k+1])*A\n",
    "        Suu += B'*(P[k+1] + reg*I)*B                                     \n",
    "        Sux = B'*(P[k+1])*A  \n",
    "        if (params.ncu > 0)\n",
    "            # control constraints\n",
    "            huv = ineq_con_u(params,U[k])  # calculate h(u) constraint\n",
    "            mask = eval_mask(μ[k],huv)  # choose active\n",
    "            ∇hu = ineq_con_u_jac(params,U[k])\n",
    "            Su  += ∇hu'*(μ[k] - ρ*(mask * [params.u_max;-params.u_min])) # add to cost\n",
    "            Suu += ρ*∇hu'*mask*∇hu\n",
    "        end\n",
    "        if (params.ncx > 0)\n",
    "            # state constraints\n",
    "            hxv = ineq_con_x(params,X[k])\n",
    "            mask = eval_mask(μx[k],hxv)\n",
    "            ∇hx = ineq_con_x_jac(params,X[k])\n",
    "            Sx  += ∇hx'*(μx[k] - ρ*(mask * [params.x_max;-params.x_min]))\n",
    "            Sxx += ρ*∇hx'*mask*∇hx\n",
    "        end\n",
    "        if (params.ncu_cone > 0)\n",
    "            # conic constraints\n",
    "            Qu, Quu = conic_cost_expansion(params, U[k], λc[k], ρ/cone_scale, k)\n",
    "            # display(Quu)\n",
    "            Su += Qu\n",
    "            Suu += Quu\n",
    "        end\n",
    "        \n",
    "        # Calculate Gains\n",
    "        F = cholesky(Symmetric(Suu))\n",
    "        d[k] = F\\Su\n",
    "        K[k] = F\\Sux\n",
    "\n",
    "        # Cost-to-go Recurrence (PSD stabilizing version, last term)\n",
    "        P[k] = Sxx + K[k]'*Suu*K[k] - 2*K[k]'*Sux\n",
    "        p[k] = Sx + K[k]'*Suu*d[k] - K[k]'*Su - Sux'*d[k]\n",
    "        ΔJ += Su'*d[k]\n",
    "    end\n",
    "\n",
    "    return ΔJ  # but also change params\n",
    "end\n",
    "function forward_pass!(params,X,U,K,d,ΔJ,Xn,Un,μ,μx,ρ,λ; \n",
    "                        max_linesearch_iters = 20)\n",
    "    \"\"\"iLQR forward pass and line-search\n",
    "    This !function update its parameters\n",
    "    \"\"\"\n",
    "    N = params.N\n",
    "        # Forward Rollout\n",
    "        for k = 1:(N-1)\n",
    "            Un[k] = - d[k] - K[k]*Xn[k] \n",
    "            Xn[k+1] = discrete_dynamics(params,Xn[k],Un[k],k)\n",
    "        end\n",
    "    X .= Xn\n",
    "    U .= Un\n",
    "    return 0, 0\n",
    "end\n",
    "function eval_mask(μv,huv)  \n",
    "    # Extract active inequality constraints\n",
    "    # active set mask\n",
    "    mask = Diagonal(zeros(length(huv)))\n",
    "    for i = 1:length(huv)\n",
    "        mask[i,i] = (μv[i] > 0 || huv[i] > 0)\n",
    "    end\n",
    "    mask\n",
    "end\n",
    "function mpc(params,X,U,P,p,K,d,Xn,Un;atol=1e-3,max_iters = 250,verbose = true,ρ=1,ϕ=10)\n",
    "\n",
    "    # first check the sizes of everything\n",
    "    # @assert length(X) == params.N\n",
    "    # @assert length(U) == params.N-1\n",
    "    # @assert length(X[1]) == params.nx\n",
    "    # @assert length(U[1]) == params.nu\n",
    "\n",
    "    # keep track of trajectories for each iterate\n",
    "    Xh=[deepcopy(X) for i = 1:1000]\n",
    "\n",
    "    # initial rollout\n",
    "    N = params.N\n",
    "    for i = 1:N-1\n",
    "        X[i+1] = discrete_dynamics(params,X[i],U[i],i)\n",
    "    end\n",
    "\n",
    "    Xh[1] .= X\n",
    "\n",
    "    reg_min = 1e-8\n",
    "    reg = reg_min\n",
    "\n",
    "    μ = [zeros(params.ncu) for i = 1:N-1]   # input constraints\n",
    "\n",
    "    μx = [zeros(params.ncx) for i = 1:N]    # state constraints\n",
    "\n",
    "    λ = zeros(params.nx)    # goal constraint\n",
    "\n",
    "    λc = [zeros(params.ncu_cone) for i = 1:N-1]   # goal constraint\n",
    "    \n",
    "    # Inner loop to solve unconstrained problem (Riccati)\n",
    "    for iter = 1:max_iters\n",
    "        J = 0.0\n",
    "        ΔJ = 0.0\n",
    "        α = 1.0\n",
    "        for i = 1:5\n",
    "            ΔJ = backward_pass!(params,X,U,P,p,d,K,reg,μ,μx,ρ,λ,λc)\n",
    "            J, α = forward_pass!(params,X,U,K,d,ΔJ,Xn,Un,μ,μx,ρ,λ)\n",
    "        end\n",
    "\n",
    "        Xh[iter + 1] .= X  \n",
    "        if verbose\n",
    "            if rem(iter-1,10)==0\n",
    "                @printf \"iter     J           ΔJ        |d|         α        reg         ρ\\n\"\n",
    "                @printf \"---------------------------------------------------------------------\\n\"\n",
    "            end\n",
    "            @printf(\"%3d   %10.3e  %9.2e  %9.2e  %6.4f   %9.2e   %9.2e\\n\",\n",
    "              iter, J, ΔJ, 0, α, reg, ρ)\n",
    "        end\n",
    "        # update multipliers and check constraint violation, max of all\n",
    "        convio = 0  \n",
    "        \n",
    "        if (params.ncu > 0)\n",
    "            # control constraints (inequality)\n",
    "            for k = 1:N-1\n",
    "                huv = ineq_con_u(params,U[k])\n",
    "                mask = eval_mask(μ[k],huv)\n",
    "                # update dual\n",
    "                convio = max(convio,norm(huv + abs.(huv),Inf))\n",
    "                μ[k] = max.(0,μ[k] - ρ*(mask * [params.u_max;-params.u_min]))\n",
    "                \n",
    "            end\n",
    "        end\n",
    "        if (params.ncx > 0)\n",
    "            # state constraints (inequality)\n",
    "            for k = 1:N\n",
    "                hxv = ineq_con_x(params,X[k])\n",
    "                mask = eval_mask(μx[k],hxv)\n",
    "                # update dual\n",
    "                convio = max(convio,norm(hxv + abs.(hxv),Inf))\n",
    "                μx[k] = max.(0,μx[k] - ρ*(mask * [params.x_max;-params.x_min]))                \n",
    "            end\n",
    "        end\n",
    "        if (params.ncu_cone > 0)\n",
    "            # conic constraints \n",
    "            if verbose\n",
    "                print(\"update cone\\n\")\n",
    "            end            \n",
    "            for k = 1:N-1\n",
    "                # update dual\n",
    "                Uc = cone_u(params, U[k])\n",
    "                huc = norm(Uc[1:2]) - Uc[3]\n",
    "                convio = max(convio, norm(huc + abs.(huc),Inf))\n",
    "                λc[k] = projection(λc[k] + ρ*Uc/cone_scale)\n",
    "                # display(λc[k])\n",
    "            end\n",
    "        end\n",
    "        if (params.ncg > 0)\n",
    "            # goal constraint (equality)\n",
    "            hxv = X[N] - params.Xref[N]\n",
    "            λ .-= ρ*params.Xref[N]\n",
    "            convio = max(convio, norm(hxv,Inf))\n",
    "        end\n",
    "        if verbose\n",
    "            @show convio\n",
    "        end\n",
    "        if convio <1e-4  # if terminal condition with contraint violation\n",
    "            # @info \"success!\"\n",
    "            return Xh[1:(iter + 1)];\n",
    "        end\n",
    "\n",
    "        ρ *= ϕ  # update penalty\n",
    "    end\n",
    "    print(\"Our solver says INFEASIBLE\\n\")\n",
    "    return Xh[1:(max_iters + 1)]\n",
    "end\n",
    "#----------------------ALTRO DONE --------------------------"
   ]
  },
  {
   "cell_type": "code",
   "execution_count": 10,
   "id": "ff9a97a1-b963-4f01-9223-eee0c5682b7d",
   "metadata": {
    "tags": []
   },
   "outputs": [
    {
     "data": {
      "text/plain": [
       "∇projection (generic function with 1 method)"
      ]
     },
     "execution_count": 10,
     "metadata": {},
     "output_type": "execute_result"
    }
   ],
   "source": [
    "# =============================\n",
    "# Example problem formulation and solve\n",
    "# =============================\n",
    "\n",
    "# ---------------------THIS IS WHAT YOU NEED TO INPUT--------\n",
    "A = [1.0 0.0 0.0 0.05 0.0 0.0; \n",
    "    0.0 1.0 0.0 0.0 0.05 0.0; \n",
    "    0.0 0.0 1.0 0.0 0.0 0.05; \n",
    "    0.0 0.0 0.0 1.0 0.0 0.0; \n",
    "    0.0 0.0 0.0 0.0 1.0 0.0; \n",
    "    0.0 0.0 0.0 0.0 0.0 1.0]\n",
    "B = [0.000125 0.0 0.0; \n",
    "    0.0 0.000125 0.0;\n",
    "    0.0 0.0 0.000125; \n",
    "    0.005 0.0 0.0; \n",
    "    0.0 0.005 0.0; \n",
    "    0.0 0.0 0.005]\n",
    "f = [0.0, 0.0, -0.0122625, 0.0, 0.0, -0.4905]\n",
    "function discrete_dynamics(p::NamedTuple,x,u,k)\n",
    "    A = [1.0 0.0 0.0 0.05 0.0 0.0; \n",
    "        0.0 1.0 0.0 0.0 0.05 0.0; \n",
    "        0.0 0.0 1.0 0.0 0.0 0.05; \n",
    "        0.0 0.0 0.0 1.0 0.0 0.0; \n",
    "        0.0 0.0 0.0 0.0 1.0 0.0; \n",
    "        0.0 0.0 0.0 0.0 0.0 1.0]\n",
    "    B = [0.000125 0.0 0.0; \n",
    "        0.0 0.000125 0.0;\n",
    "        0.0 0.0 0.000125; \n",
    "        0.005 0.0 0.0; \n",
    "        0.0 0.005 0.0; \n",
    "        0.0 0.0 0.005]\n",
    "    f = [0.0, 0.0, -0.0122625, 0.0, 0.0, -0.4905]\n",
    "    return A*x + B*u + f\n",
    "end\n",
    "function ineq_con_x(p,x)\n",
    "    [x-p.x_max;-x + p.x_min]\n",
    "end\n",
    "function ineq_con_u(p,u)\n",
    "    [u-p.u_max;-u + p.u_min]\n",
    "end\n",
    "function cone_u(p, u)\n",
    "    [p.A_cone*u;p.c_cone'*u]\n",
    "end\n",
    "function cone_u_jac(p, u)\n",
    "    J = zeros(p.nu, p.nu)\n",
    "    J[1:end-1,1:end] .= p.A_cone\n",
    "    J[end,1:end] .= p.c_cone\n",
    "    return J\n",
    "end\n",
    "function ineq_con_u_jac(params,u)\n",
    "    FD.jacobian(_u -> ineq_con_u(params,_u), u)\n",
    "end\n",
    "function ineq_con_x_jac(p,x)\n",
    "    FD.jacobian(_x -> ineq_con_x(p,_x),x)\n",
    "end\n",
    "function projection(x)\n",
    "    n = length(x)\n",
    "    s = x[end]\n",
    "    v = view(x,1:n-1)\n",
    "    a = norm(v)\n",
    "    if a <= -s  # below the cone\n",
    "        return zero(x)\n",
    "    elseif a <= s  # in the code\n",
    "        return x\n",
    "    elseif a >= abs(s)  # outside the cone\n",
    "        return 0.5 * (1 + s/a) * [v; a] \n",
    "    end\n",
    "end\n",
    "function ∇projection(x)\n",
    "    n = length(x)\n",
    "    J = zeros(eltype(x),n,n)\n",
    "    s = x[end]\n",
    "    v = view(x,1:n-1)\n",
    "    a = norm(v)\n",
    "    if a <= -s\n",
    "        return J  # zeros\n",
    "    elseif a <= s\n",
    "        J .= I(n)  \n",
    "        return J  # identity\n",
    "    elseif a >= abs(s)\n",
    "        c = 0.5 * (1 + s/a)\n",
    "\n",
    "        # dvdv ok!\n",
    "        for i = 1:n-1, j = 1:n-1\n",
    "            J[i,j] = -0.5*s/a^3 * v[i] * v[j]\n",
    "            if i == j\n",
    "                J[i,j] += c\n",
    "            end\n",
    "        end\n",
    "\n",
    "        # dvds ok!\n",
    "        for i = 1:n-1\n",
    "            J[i,n] = 0.5 * v[i] / a\n",
    "        end\n",
    "\n",
    "        # dsdv ok!\n",
    "        for i = 1:n-1\n",
    "            J[n,i] = ((-0.5*s/a^2) + c/a) * v[i]\n",
    "        end\n",
    "        J[n,n] = 0.5  # ok\n",
    "        return J\n",
    "    else\n",
    "        error(\"Invalid second-order cone projection.\")\n",
    "    end\n",
    "    return J\n",
    "end"
   ]
  },
  {
   "cell_type": "code",
   "execution_count": 24,
   "id": "f4edd7a6-7756-43ee-a37b-f91abdd18650",
   "metadata": {},
   "outputs": [
    {
     "name": "stdout",
     "output_type": "stream",
     "text": [
      "iter     J           ΔJ        |d|         α        reg         ρ\n",
      "---------------------------------------------------------------------\n",
      "  1    0.000e+00   3.56e+06   0.00e+00  0.0000    1.00e-08    1.00e+00\n",
      "update cone\n",
      "convio = 29.899759669898994\n",
      "  2    0.000e+00   3.60e+06   0.00e+00  0.0000    1.00e-08    1.00e+01\n",
      "update cone\n",
      "convio = 29.331963838841656\n",
      "  3    0.000e+00   3.82e+06   0.00e+00  0.0000    1.00e-08    1.00e+02\n",
      "update cone\n",
      "convio = 25.162045739538954\n",
      "  4    0.000e+00   3.74e+06   0.00e+00  0.0000    1.00e-08    1.00e+03\n",
      "update cone\n",
      "convio = 11.435868742049452\n",
      "  5    0.000e+00   3.19e+06   0.00e+00  0.0000    1.00e-08    1.00e+04\n",
      "update cone\n",
      "convio = 1.8073407548466673\n",
      "  6    0.000e+00   3.08e+06   0.00e+00  0.0000    1.00e-08    1.00e+05\n",
      "update cone\n",
      "convio = 1.4518732082157513\n",
      "  7    0.000e+00   3.33e+06   0.00e+00  0.0000    1.00e-08    1.00e+06\n",
      "update cone\n",
      "convio = 1.3990380582830682\n",
      "  8    0.000e+00   5.74e+06   0.00e+00  0.0000    1.00e-08    1.00e+07\n",
      "update cone\n",
      "convio = 1.008188297208779\n",
      "  9    0.000e+00   2.97e+07   0.00e+00  0.0000    1.00e-08    1.00e+08\n",
      "update cone\n",
      "convio = 0.5884639546951753\n",
      " 10    0.000e+00   2.69e+08   0.00e+00  0.0000    1.00e-08    1.00e+09\n",
      "update cone\n",
      "convio = 0.29434009964542085\n"
     ]
    },
    {
     "data": {
      "image/svg+xml": [
       "<?xml version=\"1.0\" encoding=\"utf-8\"?>\n",
       "<svg xmlns=\"http://www.w3.org/2000/svg\" xmlns:xlink=\"http://www.w3.org/1999/xlink\" width=\"600\" height=\"400\" viewBox=\"0 0 2400 1600\">\n",
       "<defs>\n",
       "  <clipPath id=\"clip070\">\n",
       "    <rect x=\"0\" y=\"0\" width=\"2400\" height=\"1600\"/>\n",
       "  </clipPath>\n",
       "</defs>\n",
       "<path clip-path=\"url(#clip070)\" d=\"M0 1600 L2400 1600 L2400 0 L0 0  Z\" fill=\"#ffffff\" fill-rule=\"evenodd\" fill-opacity=\"1\"/>\n",
       "<defs>\n",
       "  <clipPath id=\"clip071\">\n",
       "    <rect x=\"480\" y=\"0\" width=\"1681\" height=\"1600\"/>\n",
       "  </clipPath>\n",
       "</defs>\n",
       "<path clip-path=\"url(#clip070)\" d=\"M210.977 1423.18 L2352.76 1423.18 L2352.76 123.472 L210.977 123.472  Z\" fill=\"#ffffff\" fill-rule=\"evenodd\" fill-opacity=\"1\"/>\n",
       "<defs>\n",
       "  <clipPath id=\"clip072\">\n",
       "    <rect x=\"210\" y=\"123\" width=\"2143\" height=\"1301\"/>\n",
       "  </clipPath>\n",
       "</defs>\n",
       "<polyline clip-path=\"url(#clip072)\" style=\"stroke:#000000; stroke-linecap:round; stroke-linejoin:round; stroke-width:2; stroke-opacity:0.1; fill:none\" points=\"271.594,1423.18 271.594,123.472 \"/>\n",
       "<polyline clip-path=\"url(#clip072)\" style=\"stroke:#000000; stroke-linecap:round; stroke-linejoin:round; stroke-width:2; stroke-opacity:0.1; fill:none\" points=\"945.109,1423.18 945.109,123.472 \"/>\n",
       "<polyline clip-path=\"url(#clip072)\" style=\"stroke:#000000; stroke-linecap:round; stroke-linejoin:round; stroke-width:2; stroke-opacity:0.1; fill:none\" points=\"1618.62,1423.18 1618.62,123.472 \"/>\n",
       "<polyline clip-path=\"url(#clip072)\" style=\"stroke:#000000; stroke-linecap:round; stroke-linejoin:round; stroke-width:2; stroke-opacity:0.1; fill:none\" points=\"2292.14,1423.18 2292.14,123.472 \"/>\n",
       "<polyline clip-path=\"url(#clip070)\" style=\"stroke:#000000; stroke-linecap:round; stroke-linejoin:round; stroke-width:4; stroke-opacity:1; fill:none\" points=\"210.977,1423.18 2352.76,1423.18 \"/>\n",
       "<polyline clip-path=\"url(#clip070)\" style=\"stroke:#000000; stroke-linecap:round; stroke-linejoin:round; stroke-width:4; stroke-opacity:1; fill:none\" points=\"271.594,1423.18 271.594,1404.28 \"/>\n",
       "<polyline clip-path=\"url(#clip070)\" style=\"stroke:#000000; stroke-linecap:round; stroke-linejoin:round; stroke-width:4; stroke-opacity:1; fill:none\" points=\"945.109,1423.18 945.109,1404.28 \"/>\n",
       "<polyline clip-path=\"url(#clip070)\" style=\"stroke:#000000; stroke-linecap:round; stroke-linejoin:round; stroke-width:4; stroke-opacity:1; fill:none\" points=\"1618.62,1423.18 1618.62,1404.28 \"/>\n",
       "<polyline clip-path=\"url(#clip070)\" style=\"stroke:#000000; stroke-linecap:round; stroke-linejoin:round; stroke-width:4; stroke-opacity:1; fill:none\" points=\"2292.14,1423.18 2292.14,1404.28 \"/>\n",
       "<path clip-path=\"url(#clip070)\" d=\"M271.594 1454.1 Q267.983 1454.1 266.154 1457.66 Q264.348 1461.2 264.348 1468.33 Q264.348 1475.44 266.154 1479.01 Q267.983 1482.55 271.594 1482.55 Q275.228 1482.55 277.034 1479.01 Q278.862 1475.44 278.862 1468.33 Q278.862 1461.2 277.034 1457.66 Q275.228 1454.1 271.594 1454.1 M271.594 1450.39 Q277.404 1450.39 280.459 1455 Q283.538 1459.58 283.538 1468.33 Q283.538 1477.06 280.459 1481.67 Q277.404 1486.25 271.594 1486.25 Q265.784 1486.25 262.705 1481.67 Q259.649 1477.06 259.649 1468.33 Q259.649 1459.58 262.705 1455 Q265.784 1450.39 271.594 1450.39 Z\" fill=\"#000000\" fill-rule=\"evenodd\" fill-opacity=\"1\" /><path clip-path=\"url(#clip070)\" d=\"M935.387 1451.02 L953.743 1451.02 L953.743 1454.96 L939.669 1454.96 L939.669 1463.43 Q940.688 1463.08 941.706 1462.92 Q942.725 1462.73 943.743 1462.73 Q949.53 1462.73 952.91 1465.9 Q956.29 1469.08 956.29 1474.49 Q956.29 1480.07 952.817 1483.17 Q949.345 1486.25 943.026 1486.25 Q940.85 1486.25 938.581 1485.88 Q936.336 1485.51 933.929 1484.77 L933.929 1480.07 Q936.012 1481.2 938.234 1481.76 Q940.456 1482.32 942.933 1482.32 Q946.938 1482.32 949.276 1480.21 Q951.614 1478.1 951.614 1474.49 Q951.614 1470.88 949.276 1468.77 Q946.938 1466.67 942.933 1466.67 Q941.058 1466.67 939.183 1467.08 Q937.331 1467.5 935.387 1468.38 L935.387 1451.02 Z\" fill=\"#000000\" fill-rule=\"evenodd\" fill-opacity=\"1\" /><path clip-path=\"url(#clip070)\" d=\"M1593.31 1481.64 L1600.95 1481.64 L1600.95 1455.28 L1592.64 1456.95 L1592.64 1452.69 L1600.9 1451.02 L1605.58 1451.02 L1605.58 1481.64 L1613.22 1481.64 L1613.22 1485.58 L1593.31 1485.58 L1593.31 1481.64 Z\" fill=\"#000000\" fill-rule=\"evenodd\" fill-opacity=\"1\" /><path clip-path=\"url(#clip070)\" d=\"M1632.66 1454.1 Q1629.05 1454.1 1627.22 1457.66 Q1625.42 1461.2 1625.42 1468.33 Q1625.42 1475.44 1627.22 1479.01 Q1629.05 1482.55 1632.66 1482.55 Q1636.3 1482.55 1638.1 1479.01 Q1639.93 1475.44 1639.93 1468.33 Q1639.93 1461.2 1638.1 1457.66 Q1636.3 1454.1 1632.66 1454.1 M1632.66 1450.39 Q1638.47 1450.39 1641.53 1455 Q1644.61 1459.58 1644.61 1468.33 Q1644.61 1477.06 1641.53 1481.67 Q1638.47 1486.25 1632.66 1486.25 Q1626.85 1486.25 1623.77 1481.67 Q1620.72 1477.06 1620.72 1468.33 Q1620.72 1459.58 1623.77 1455 Q1626.85 1450.39 1632.66 1450.39 Z\" fill=\"#000000\" fill-rule=\"evenodd\" fill-opacity=\"1\" /><path clip-path=\"url(#clip070)\" d=\"M2267.32 1481.64 L2274.96 1481.64 L2274.96 1455.28 L2266.65 1456.95 L2266.65 1452.69 L2274.92 1451.02 L2279.59 1451.02 L2279.59 1481.64 L2287.23 1481.64 L2287.23 1485.58 L2267.32 1485.58 L2267.32 1481.64 Z\" fill=\"#000000\" fill-rule=\"evenodd\" fill-opacity=\"1\" /><path clip-path=\"url(#clip070)\" d=\"M2296.72 1451.02 L2315.08 1451.02 L2315.08 1454.96 L2301.01 1454.96 L2301.01 1463.43 Q2302.02 1463.08 2303.04 1462.92 Q2304.06 1462.73 2305.08 1462.73 Q2310.87 1462.73 2314.25 1465.9 Q2317.63 1469.08 2317.63 1474.49 Q2317.63 1480.07 2314.15 1483.17 Q2310.68 1486.25 2304.36 1486.25 Q2302.19 1486.25 2299.92 1485.88 Q2297.67 1485.51 2295.26 1484.77 L2295.26 1480.07 Q2297.35 1481.2 2299.57 1481.76 Q2301.79 1482.32 2304.27 1482.32 Q2308.27 1482.32 2310.61 1480.21 Q2312.95 1478.1 2312.95 1474.49 Q2312.95 1470.88 2310.61 1468.77 Q2308.27 1466.67 2304.27 1466.67 Q2302.39 1466.67 2300.52 1467.08 Q2298.67 1467.5 2296.72 1468.38 L2296.72 1451.02 Z\" fill=\"#000000\" fill-rule=\"evenodd\" fill-opacity=\"1\" /><path clip-path=\"url(#clip070)\" d=\"M1169.32 1522.27 L1169.32 1532.4 L1181.38 1532.4 L1181.38 1536.95 L1169.32 1536.95 L1169.32 1556.3 Q1169.32 1560.66 1170.5 1561.9 Q1171.71 1563.14 1175.37 1563.14 L1181.38 1563.14 L1181.38 1568.04 L1175.37 1568.04 Q1168.59 1568.04 1166.01 1565.53 Q1163.43 1562.98 1163.43 1556.3 L1163.43 1536.95 L1159.14 1536.95 L1159.14 1532.4 L1163.43 1532.4 L1163.43 1522.27 L1169.32 1522.27 Z\" fill=\"#000000\" fill-rule=\"evenodd\" fill-opacity=\"1\" /><path clip-path=\"url(#clip070)\" d=\"M1189.09 1532.4 L1194.94 1532.4 L1194.94 1568.04 L1189.09 1568.04 L1189.09 1532.4 M1189.09 1518.52 L1194.94 1518.52 L1194.94 1525.93 L1189.09 1525.93 L1189.09 1518.52 Z\" fill=\"#000000\" fill-rule=\"evenodd\" fill-opacity=\"1\" /><path clip-path=\"url(#clip070)\" d=\"M1234.95 1539.24 Q1237.15 1535.29 1240.2 1533.41 Q1243.26 1531.54 1247.4 1531.54 Q1252.97 1531.54 1255.99 1535.45 Q1259.01 1539.33 1259.01 1546.53 L1259.01 1568.04 L1253.13 1568.04 L1253.13 1546.72 Q1253.13 1541.59 1251.31 1539.11 Q1249.5 1536.63 1245.77 1536.63 Q1241.22 1536.63 1238.58 1539.65 Q1235.94 1542.68 1235.94 1547.9 L1235.94 1568.04 L1230.05 1568.04 L1230.05 1546.72 Q1230.05 1541.56 1228.24 1539.11 Q1226.42 1536.63 1222.63 1536.63 Q1218.15 1536.63 1215.5 1539.68 Q1212.86 1542.71 1212.86 1547.9 L1212.86 1568.04 L1206.97 1568.04 L1206.97 1532.4 L1212.86 1532.4 L1212.86 1537.93 Q1214.87 1534.66 1217.67 1533.1 Q1220.47 1531.54 1224.32 1531.54 Q1228.2 1531.54 1230.91 1533.51 Q1233.65 1535.48 1234.95 1539.24 Z\" fill=\"#000000\" fill-rule=\"evenodd\" fill-opacity=\"1\" /><path clip-path=\"url(#clip070)\" d=\"M1301.19 1548.76 L1301.19 1551.62 L1274.26 1551.62 Q1274.64 1557.67 1277.89 1560.85 Q1281.17 1564 1286.99 1564 Q1290.36 1564 1293.52 1563.17 Q1296.7 1562.35 1299.82 1560.69 L1299.82 1566.23 Q1296.67 1567.57 1293.36 1568.27 Q1290.05 1568.97 1286.64 1568.97 Q1278.11 1568.97 1273.11 1564 Q1268.15 1559.04 1268.15 1550.57 Q1268.15 1541.82 1272.86 1536.69 Q1277.6 1531.54 1285.62 1531.54 Q1292.82 1531.54 1296.99 1536.18 Q1301.19 1540.8 1301.19 1548.76 M1295.33 1547.04 Q1295.27 1542.23 1292.62 1539.37 Q1290.01 1536.5 1285.69 1536.5 Q1280.78 1536.5 1277.82 1539.27 Q1274.9 1542.04 1274.45 1547.07 L1295.33 1547.04 Z\" fill=\"#000000\" fill-rule=\"evenodd\" fill-opacity=\"1\" /><path clip-path=\"url(#clip070)\" d=\"M1345.59 1518.58 Q1341.32 1525.9 1339.25 1533.06 Q1337.18 1540.23 1337.18 1547.58 Q1337.18 1554.93 1339.25 1562.16 Q1341.35 1569.35 1345.59 1576.64 L1340.49 1576.64 Q1335.72 1569.16 1333.33 1561.93 Q1330.98 1554.71 1330.98 1547.58 Q1330.98 1540.48 1333.33 1533.29 Q1335.69 1526.09 1340.49 1518.58 L1345.59 1518.58 Z\" fill=\"#000000\" fill-rule=\"evenodd\" fill-opacity=\"1\" /><path clip-path=\"url(#clip070)\" d=\"M1379.68 1533.45 L1379.68 1538.98 Q1377.19 1537.71 1374.52 1537.07 Q1371.85 1536.44 1368.98 1536.44 Q1364.62 1536.44 1362.42 1537.77 Q1360.26 1539.11 1360.26 1541.79 Q1360.26 1543.82 1361.82 1545 Q1363.38 1546.15 1368.09 1547.2 L1370.1 1547.64 Q1376.33 1548.98 1378.94 1551.43 Q1381.59 1553.85 1381.59 1558.21 Q1381.59 1563.17 1377.64 1566.07 Q1373.72 1568.97 1366.85 1568.97 Q1363.98 1568.97 1360.87 1568.39 Q1357.78 1567.85 1354.34 1566.74 L1354.34 1560.69 Q1357.59 1562.38 1360.74 1563.24 Q1363.89 1564.07 1366.98 1564.07 Q1371.11 1564.07 1373.34 1562.66 Q1375.57 1561.23 1375.57 1558.65 Q1375.57 1556.27 1373.95 1554.99 Q1372.36 1553.72 1366.91 1552.54 L1364.88 1552.07 Q1359.43 1550.92 1357.01 1548.56 Q1354.59 1546.18 1354.59 1542.04 Q1354.59 1537.01 1358.16 1534.27 Q1361.72 1531.54 1368.28 1531.54 Q1371.53 1531.54 1374.39 1532.01 Q1377.26 1532.49 1379.68 1533.45 Z\" fill=\"#000000\" fill-rule=\"evenodd\" fill-opacity=\"1\" /><path clip-path=\"url(#clip070)\" d=\"M1389.99 1518.58 L1395.08 1518.58 Q1399.86 1526.09 1402.21 1533.29 Q1404.6 1540.48 1404.6 1547.58 Q1404.6 1554.71 1402.21 1561.93 Q1399.86 1569.16 1395.08 1576.64 L1389.99 1576.64 Q1394.22 1569.35 1396.29 1562.16 Q1398.39 1554.93 1398.39 1547.58 Q1398.39 1540.23 1396.29 1533.06 Q1394.22 1525.9 1389.99 1518.58 Z\" fill=\"#000000\" fill-rule=\"evenodd\" fill-opacity=\"1\" /><polyline clip-path=\"url(#clip072)\" style=\"stroke:#000000; stroke-linecap:round; stroke-linejoin:round; stroke-width:2; stroke-opacity:0.1; fill:none\" points=\"210.977,1386.4 2352.76,1386.4 \"/>\n",
       "<polyline clip-path=\"url(#clip072)\" style=\"stroke:#000000; stroke-linecap:round; stroke-linejoin:round; stroke-width:2; stroke-opacity:0.1; fill:none\" points=\"210.977,1141.17 2352.76,1141.17 \"/>\n",
       "<polyline clip-path=\"url(#clip072)\" style=\"stroke:#000000; stroke-linecap:round; stroke-linejoin:round; stroke-width:2; stroke-opacity:0.1; fill:none\" points=\"210.977,895.94 2352.76,895.94 \"/>\n",
       "<polyline clip-path=\"url(#clip072)\" style=\"stroke:#000000; stroke-linecap:round; stroke-linejoin:round; stroke-width:2; stroke-opacity:0.1; fill:none\" points=\"210.977,650.712 2352.76,650.712 \"/>\n",
       "<polyline clip-path=\"url(#clip072)\" style=\"stroke:#000000; stroke-linecap:round; stroke-linejoin:round; stroke-width:2; stroke-opacity:0.1; fill:none\" points=\"210.977,405.484 2352.76,405.484 \"/>\n",
       "<polyline clip-path=\"url(#clip072)\" style=\"stroke:#000000; stroke-linecap:round; stroke-linejoin:round; stroke-width:2; stroke-opacity:0.1; fill:none\" points=\"210.977,160.256 2352.76,160.256 \"/>\n",
       "<polyline clip-path=\"url(#clip070)\" style=\"stroke:#000000; stroke-linecap:round; stroke-linejoin:round; stroke-width:4; stroke-opacity:1; fill:none\" points=\"210.977,1423.18 210.977,123.472 \"/>\n",
       "<polyline clip-path=\"url(#clip070)\" style=\"stroke:#000000; stroke-linecap:round; stroke-linejoin:round; stroke-width:4; stroke-opacity:1; fill:none\" points=\"210.977,1386.4 229.875,1386.4 \"/>\n",
       "<polyline clip-path=\"url(#clip070)\" style=\"stroke:#000000; stroke-linecap:round; stroke-linejoin:round; stroke-width:4; stroke-opacity:1; fill:none\" points=\"210.977,1141.17 229.875,1141.17 \"/>\n",
       "<polyline clip-path=\"url(#clip070)\" style=\"stroke:#000000; stroke-linecap:round; stroke-linejoin:round; stroke-width:4; stroke-opacity:1; fill:none\" points=\"210.977,895.94 229.875,895.94 \"/>\n",
       "<polyline clip-path=\"url(#clip070)\" style=\"stroke:#000000; stroke-linecap:round; stroke-linejoin:round; stroke-width:4; stroke-opacity:1; fill:none\" points=\"210.977,650.712 229.875,650.712 \"/>\n",
       "<polyline clip-path=\"url(#clip070)\" style=\"stroke:#000000; stroke-linecap:round; stroke-linejoin:round; stroke-width:4; stroke-opacity:1; fill:none\" points=\"210.977,405.484 229.875,405.484 \"/>\n",
       "<polyline clip-path=\"url(#clip070)\" style=\"stroke:#000000; stroke-linecap:round; stroke-linejoin:round; stroke-width:4; stroke-opacity:1; fill:none\" points=\"210.977,160.256 229.875,160.256 \"/>\n",
       "<path clip-path=\"url(#clip070)\" d=\"M114.26 1386.85 L143.936 1386.85 L143.936 1390.78 L114.26 1390.78 L114.26 1386.85 Z\" fill=\"#000000\" fill-rule=\"evenodd\" fill-opacity=\"1\" /><path clip-path=\"url(#clip070)\" d=\"M154.075 1369.12 L172.431 1369.12 L172.431 1373.05 L158.357 1373.05 L158.357 1381.52 Q159.376 1381.18 160.394 1381.01 Q161.413 1380.83 162.431 1380.83 Q168.218 1380.83 171.598 1384 Q174.977 1387.17 174.977 1392.59 Q174.977 1398.17 171.505 1401.27 Q168.033 1404.35 161.714 1404.35 Q159.538 1404.35 157.269 1403.98 Q155.024 1403.61 152.616 1402.87 L152.616 1398.17 Q154.7 1399.3 156.922 1399.86 Q159.144 1400.41 161.621 1400.41 Q165.626 1400.41 167.964 1398.31 Q170.302 1396.2 170.302 1392.59 Q170.302 1388.98 167.964 1386.87 Q165.626 1384.76 161.621 1384.76 Q159.746 1384.76 157.871 1385.18 Q156.019 1385.6 154.075 1386.48 L154.075 1369.12 Z\" fill=\"#000000\" fill-rule=\"evenodd\" fill-opacity=\"1\" /><path clip-path=\"url(#clip070)\" d=\"M163.033 1126.97 Q159.422 1126.97 157.593 1130.53 Q155.788 1134.07 155.788 1141.2 Q155.788 1148.31 157.593 1151.87 Q159.422 1155.42 163.033 1155.42 Q166.667 1155.42 168.473 1151.87 Q170.302 1148.31 170.302 1141.2 Q170.302 1134.07 168.473 1130.53 Q166.667 1126.97 163.033 1126.97 M163.033 1123.26 Q168.843 1123.26 171.899 1127.87 Q174.977 1132.45 174.977 1141.2 Q174.977 1149.93 171.899 1154.54 Q168.843 1159.12 163.033 1159.12 Q157.223 1159.12 154.144 1154.54 Q151.089 1149.93 151.089 1141.2 Q151.089 1132.45 154.144 1127.87 Q157.223 1123.26 163.033 1123.26 Z\" fill=\"#000000\" fill-rule=\"evenodd\" fill-opacity=\"1\" /><path clip-path=\"url(#clip070)\" d=\"M154.075 878.66 L172.431 878.66 L172.431 882.595 L158.357 882.595 L158.357 891.067 Q159.376 890.72 160.394 890.558 Q161.413 890.373 162.431 890.373 Q168.218 890.373 171.598 893.544 Q174.977 896.715 174.977 902.132 Q174.977 907.711 171.505 910.813 Q168.033 913.891 161.714 913.891 Q159.538 913.891 157.269 913.521 Q155.024 913.15 152.616 912.41 L152.616 907.711 Q154.7 908.845 156.922 909.4 Q159.144 909.956 161.621 909.956 Q165.626 909.956 167.964 907.85 Q170.302 905.743 170.302 902.132 Q170.302 898.521 167.964 896.414 Q165.626 894.308 161.621 894.308 Q159.746 894.308 157.871 894.725 Q156.019 895.141 154.075 896.021 L154.075 878.66 Z\" fill=\"#000000\" fill-rule=\"evenodd\" fill-opacity=\"1\" /><path clip-path=\"url(#clip070)\" d=\"M123.681 664.057 L131.32 664.057 L131.32 637.691 L123.01 639.358 L123.01 635.099 L131.274 633.432 L135.95 633.432 L135.95 664.057 L143.589 664.057 L143.589 667.992 L123.681 667.992 L123.681 664.057 Z\" fill=\"#000000\" fill-rule=\"evenodd\" fill-opacity=\"1\" /><path clip-path=\"url(#clip070)\" d=\"M163.033 636.511 Q159.422 636.511 157.593 640.076 Q155.788 643.617 155.788 650.747 Q155.788 657.853 157.593 661.418 Q159.422 664.96 163.033 664.96 Q166.667 664.96 168.473 661.418 Q170.302 657.853 170.302 650.747 Q170.302 643.617 168.473 640.076 Q166.667 636.511 163.033 636.511 M163.033 632.807 Q168.843 632.807 171.899 637.414 Q174.977 641.997 174.977 650.747 Q174.977 659.474 171.899 664.08 Q168.843 668.663 163.033 668.663 Q157.223 668.663 154.144 664.08 Q151.089 659.474 151.089 650.747 Q151.089 641.997 154.144 637.414 Q157.223 632.807 163.033 632.807 Z\" fill=\"#000000\" fill-rule=\"evenodd\" fill-opacity=\"1\" /><path clip-path=\"url(#clip070)\" d=\"M124.677 418.829 L132.316 418.829 L132.316 392.463 L124.005 394.13 L124.005 389.871 L132.269 388.204 L136.945 388.204 L136.945 418.829 L144.584 418.829 L144.584 422.764 L124.677 422.764 L124.677 418.829 Z\" fill=\"#000000\" fill-rule=\"evenodd\" fill-opacity=\"1\" /><path clip-path=\"url(#clip070)\" d=\"M154.075 388.204 L172.431 388.204 L172.431 392.139 L158.357 392.139 L158.357 400.612 Q159.376 400.264 160.394 400.102 Q161.413 399.917 162.431 399.917 Q168.218 399.917 171.598 403.088 Q174.977 406.26 174.977 411.676 Q174.977 417.255 171.505 420.357 Q168.033 423.435 161.714 423.435 Q159.538 423.435 157.269 423.065 Q155.024 422.695 152.616 421.954 L152.616 417.255 Q154.7 418.389 156.922 418.945 Q159.144 419.5 161.621 419.5 Q165.626 419.5 167.964 417.394 Q170.302 415.287 170.302 411.676 Q170.302 408.065 167.964 405.959 Q165.626 403.852 161.621 403.852 Q159.746 403.852 157.871 404.269 Q156.019 404.686 154.075 405.565 L154.075 388.204 Z\" fill=\"#000000\" fill-rule=\"evenodd\" fill-opacity=\"1\" /><path clip-path=\"url(#clip070)\" d=\"M126.899 173.601 L143.218 173.601 L143.218 177.536 L121.274 177.536 L121.274 173.601 Q123.936 170.847 128.519 166.217 Q133.126 161.564 134.306 160.222 Q136.552 157.698 137.431 155.962 Q138.334 154.203 138.334 152.513 Q138.334 149.759 136.39 148.023 Q134.468 146.286 131.367 146.286 Q129.167 146.286 126.714 147.05 Q124.283 147.814 121.505 149.365 L121.505 144.643 Q124.33 143.509 126.783 142.93 Q129.237 142.351 131.274 142.351 Q136.644 142.351 139.839 145.036 Q143.033 147.722 143.033 152.212 Q143.033 154.342 142.223 156.263 Q141.436 158.161 139.329 160.754 Q138.751 161.425 135.649 164.643 Q132.547 167.837 126.899 173.601 Z\" fill=\"#000000\" fill-rule=\"evenodd\" fill-opacity=\"1\" /><path clip-path=\"url(#clip070)\" d=\"M163.033 146.055 Q159.422 146.055 157.593 149.62 Q155.788 153.161 155.788 160.291 Q155.788 167.397 157.593 170.962 Q159.422 174.504 163.033 174.504 Q166.667 174.504 168.473 170.962 Q170.302 167.397 170.302 160.291 Q170.302 153.161 168.473 149.62 Q166.667 146.055 163.033 146.055 M163.033 142.351 Q168.843 142.351 171.899 146.958 Q174.977 151.541 174.977 160.291 Q174.977 169.018 171.899 173.624 Q168.843 178.208 163.033 178.208 Q157.223 178.208 154.144 173.624 Q151.089 169.018 151.089 160.291 Q151.089 151.541 154.144 146.958 Q157.223 142.351 163.033 142.351 Z\" fill=\"#000000\" fill-rule=\"evenodd\" fill-opacity=\"1\" /><path clip-path=\"url(#clip070)\" d=\"M28.3562 756.711 L45.7028 769.602 L64.0042 756.043 L64.0042 762.95 L49.9996 773.326 L64.0042 783.702 L64.0042 790.609 L45.3526 776.763 L28.3562 789.431 L28.3562 782.524 L41.0558 773.071 L28.3562 763.618 L28.3562 756.711 Z\" fill=\"#000000\" fill-rule=\"evenodd\" fill-opacity=\"1\" /><path clip-path=\"url(#clip070)\" d=\"M1054.21 14.0809 L1054.21 22.0612 Q1049.55 19.8332 1045.42 18.7395 Q1041.28 17.6457 1037.44 17.6457 Q1030.75 17.6457 1027.11 20.2383 Q1023.5 22.8309 1023.5 27.611 Q1023.5 31.6214 1025.89 33.6873 Q1028.32 35.7128 1035.05 36.9686 L1039.99 37.9813 Q1049.14 39.7232 1053.48 44.1387 Q1057.85 48.5136 1057.85 55.8863 Q1057.85 64.6767 1051.94 69.2137 Q1046.06 73.7508 1034.68 73.7508 Q1030.39 73.7508 1025.53 72.7785 Q1020.7 71.8063 1015.52 69.9024 L1015.52 61.4765 Q1020.5 64.2716 1025.28 65.6895 Q1030.06 67.1073 1034.68 67.1073 Q1041.69 67.1073 1045.5 64.3527 Q1049.3 61.598 1049.3 56.4939 Q1049.3 52.0379 1046.55 49.5264 Q1043.84 47.0148 1037.6 45.759 L1032.61 44.7868 Q1023.46 42.9639 1019.37 39.075 Q1015.28 35.1862 1015.28 28.2591 Q1015.28 20.2383 1020.91 15.6203 Q1026.58 11.0023 1036.5 11.0023 Q1040.76 11.0023 1045.17 11.7719 Q1049.59 12.5416 1054.21 14.0809 Z\" fill=\"#000000\" fill-rule=\"evenodd\" fill-opacity=\"1\" /><path clip-path=\"url(#clip070)\" d=\"M1077.66 14.324 L1077.66 27.2059 L1093.01 27.2059 L1093.01 32.9987 L1077.66 32.9987 L1077.66 57.6282 Q1077.66 63.1779 1079.16 64.7578 Q1080.7 66.3376 1085.36 66.3376 L1093.01 66.3376 L1093.01 72.576 L1085.36 72.576 Q1076.73 72.576 1073.45 69.3758 Q1070.17 66.1351 1070.17 57.6282 L1070.17 32.9987 L1064.7 32.9987 L1064.7 27.2059 L1070.17 27.2059 L1070.17 14.324 L1077.66 14.324 Z\" fill=\"#000000\" fill-rule=\"evenodd\" fill-opacity=\"1\" /><path clip-path=\"url(#clip070)\" d=\"M1123.44 49.7694 Q1114.4 49.7694 1110.92 51.8354 Q1107.43 53.9013 1107.43 58.8839 Q1107.43 62.8538 1110.03 65.2034 Q1112.66 67.5124 1117.16 67.5124 Q1123.35 67.5124 1127.08 63.1374 Q1130.85 58.7219 1130.85 51.4303 L1130.85 49.7694 L1123.44 49.7694 M1138.3 46.6907 L1138.3 72.576 L1130.85 72.576 L1130.85 65.6895 Q1128.3 69.8214 1124.49 71.8063 Q1120.68 73.7508 1115.17 73.7508 Q1108.2 73.7508 1104.07 69.8619 Q1099.98 65.9325 1099.98 59.3701 Q1099.98 51.7138 1105.09 47.825 Q1110.23 43.9361 1120.4 43.9361 L1130.85 43.9361 L1130.85 43.2069 Q1130.85 38.0623 1127.45 35.2672 Q1124.08 32.4315 1117.97 32.4315 Q1114.08 32.4315 1110.39 33.3632 Q1106.71 34.295 1103.3 36.1584 L1103.3 29.2718 Q1107.39 27.692 1111.24 26.9223 Q1115.09 26.1121 1118.74 26.1121 Q1128.58 26.1121 1133.44 31.2163 Q1138.3 36.3204 1138.3 46.6907 Z\" fill=\"#000000\" fill-rule=\"evenodd\" fill-opacity=\"1\" /><path clip-path=\"url(#clip070)\" d=\"M1161.03 14.324 L1161.03 27.2059 L1176.38 27.2059 L1176.38 32.9987 L1161.03 32.9987 L1161.03 57.6282 Q1161.03 63.1779 1162.53 64.7578 Q1164.07 66.3376 1168.72 66.3376 L1176.38 66.3376 L1176.38 72.576 L1168.72 72.576 Q1160.1 72.576 1156.82 69.3758 Q1153.53 66.1351 1153.53 57.6282 L1153.53 32.9987 L1148.07 32.9987 L1148.07 27.2059 L1153.53 27.2059 L1153.53 14.324 L1161.03 14.324 Z\" fill=\"#000000\" fill-rule=\"evenodd\" fill-opacity=\"1\" /><path clip-path=\"url(#clip070)\" d=\"M1224.99 48.0275 L1224.99 51.6733 L1190.72 51.6733 Q1191.21 59.3701 1195.34 63.421 Q1199.51 67.4314 1206.92 67.4314 Q1211.22 67.4314 1215.23 66.3781 Q1219.28 65.3249 1223.25 63.2184 L1223.25 70.267 Q1219.24 71.9684 1215.03 72.8596 Q1210.81 73.7508 1206.48 73.7508 Q1195.62 73.7508 1189.26 67.4314 Q1182.94 61.1119 1182.94 50.3365 Q1182.94 39.1965 1188.94 32.6746 Q1194.97 26.1121 1205.18 26.1121 Q1214.34 26.1121 1219.64 32.0264 Q1224.99 37.9003 1224.99 48.0275 M1217.54 45.84 Q1217.46 39.7232 1214.1 36.0774 Q1210.77 32.4315 1205.26 32.4315 Q1199.03 32.4315 1195.26 35.9558 Q1191.53 39.4801 1190.96 45.8805 L1217.54 45.84 Z\" fill=\"#000000\" fill-rule=\"evenodd\" fill-opacity=\"1\" /><path clip-path=\"url(#clip070)\" d=\"M1263.92 12.096 L1272.1 12.096 L1272.1 36.8875 L1301.84 36.8875 L1301.84 12.096 L1310.02 12.096 L1310.02 72.576 L1301.84 72.576 L1301.84 43.7741 L1272.1 43.7741 L1272.1 72.576 L1263.92 72.576 L1263.92 12.096 Z\" fill=\"#000000\" fill-rule=\"evenodd\" fill-opacity=\"1\" /><path clip-path=\"url(#clip070)\" d=\"M1325.98 27.2059 L1333.43 27.2059 L1333.43 72.576 L1325.98 72.576 L1325.98 27.2059 M1325.98 9.54393 L1333.43 9.54393 L1333.43 18.9825 L1325.98 18.9825 L1325.98 9.54393 Z\" fill=\"#000000\" fill-rule=\"evenodd\" fill-opacity=\"1\" /><path clip-path=\"url(#clip070)\" d=\"M1377.95 28.5427 L1377.95 35.5912 Q1374.79 33.9709 1371.39 33.1607 Q1367.99 32.3505 1364.34 32.3505 Q1358.79 32.3505 1356 34.0519 Q1353.24 35.7533 1353.24 39.156 Q1353.24 41.7486 1355.23 43.2475 Q1357.21 44.7058 1363.21 46.0426 L1365.76 46.6097 Q1373.7 48.3111 1377.02 51.4303 Q1380.38 54.509 1380.38 60.0587 Q1380.38 66.3781 1375.36 70.0644 Q1370.38 73.7508 1361.63 73.7508 Q1357.98 73.7508 1354.01 73.0216 Q1350.08 72.3329 1345.71 70.9151 L1345.71 63.2184 Q1349.84 65.3654 1353.85 66.4591 Q1357.86 67.5124 1361.79 67.5124 Q1367.06 67.5124 1369.89 65.73 Q1372.73 63.9071 1372.73 60.6258 Q1372.73 57.5877 1370.66 55.9673 Q1368.64 54.3469 1361.71 52.8481 L1359.12 52.2405 Q1352.19 50.7821 1349.11 47.7845 Q1346.03 44.7463 1346.03 39.4801 Q1346.03 33.0797 1350.57 29.5959 Q1355.11 26.1121 1363.45 26.1121 Q1367.58 26.1121 1371.23 26.7198 Q1374.88 27.3274 1377.95 28.5427 Z\" fill=\"#000000\" fill-rule=\"evenodd\" fill-opacity=\"1\" /><path clip-path=\"url(#clip070)\" d=\"M1399.63 14.324 L1399.63 27.2059 L1414.98 27.2059 L1414.98 32.9987 L1399.63 32.9987 L1399.63 57.6282 Q1399.63 63.1779 1401.13 64.7578 Q1402.66 66.3376 1407.32 66.3376 L1414.98 66.3376 L1414.98 72.576 L1407.32 72.576 Q1398.69 72.576 1395.41 69.3758 Q1392.13 66.1351 1392.13 57.6282 L1392.13 32.9987 L1386.66 32.9987 L1386.66 27.2059 L1392.13 27.2059 L1392.13 14.324 L1399.63 14.324 Z\" fill=\"#000000\" fill-rule=\"evenodd\" fill-opacity=\"1\" /><path clip-path=\"url(#clip070)\" d=\"M1442.36 32.4315 Q1436.37 32.4315 1432.88 37.1306 Q1429.4 41.7891 1429.4 49.9314 Q1429.4 58.0738 1432.84 62.7728 Q1436.33 67.4314 1442.36 67.4314 Q1448.32 67.4314 1451.8 62.7323 Q1455.29 58.0333 1455.29 49.9314 Q1455.29 41.8701 1451.8 37.1711 Q1448.32 32.4315 1442.36 32.4315 M1442.36 26.1121 Q1452.09 26.1121 1457.64 32.4315 Q1463.19 38.7509 1463.19 49.9314 Q1463.19 61.0714 1457.64 67.4314 Q1452.09 73.7508 1442.36 73.7508 Q1432.6 73.7508 1427.05 67.4314 Q1421.54 61.0714 1421.54 49.9314 Q1421.54 38.7509 1427.05 32.4315 Q1432.6 26.1121 1442.36 26.1121 Z\" fill=\"#000000\" fill-rule=\"evenodd\" fill-opacity=\"1\" /><path clip-path=\"url(#clip070)\" d=\"M1501.83 34.1734 Q1500.57 33.4443 1499.08 33.1202 Q1497.62 32.7556 1495.84 32.7556 Q1489.52 32.7556 1486.11 36.8875 Q1482.75 40.9789 1482.75 48.6757 L1482.75 72.576 L1475.26 72.576 L1475.26 27.2059 L1482.75 27.2059 L1482.75 34.2544 Q1485.1 30.1225 1488.87 28.1376 Q1492.64 26.1121 1498.02 26.1121 Q1498.79 26.1121 1499.72 26.2337 Q1500.66 26.3147 1501.79 26.5172 L1501.83 34.1734 Z\" fill=\"#000000\" fill-rule=\"evenodd\" fill-opacity=\"1\" /><path clip-path=\"url(#clip070)\" d=\"M1528.53 76.7889 Q1525.37 84.8907 1522.37 87.3618 Q1519.37 89.8329 1514.35 89.8329 L1508.39 89.8329 L1508.39 83.5945 L1512.77 83.5945 Q1515.85 83.5945 1517.55 82.1361 Q1519.25 80.6778 1521.32 75.2496 L1522.65 71.8468 L1504.3 27.2059 L1512.2 27.2059 L1526.38 62.6918 L1540.56 27.2059 L1548.46 27.2059 L1528.53 76.7889 Z\" fill=\"#000000\" fill-rule=\"evenodd\" fill-opacity=\"1\" /><polyline clip-path=\"url(#clip072)\" style=\"stroke:#009af9; stroke-linecap:round; stroke-linejoin:round; stroke-width:4; stroke-opacity:1; fill:none\" points=\"271.594,944.985 278.329,952.299 285.064,959.525 291.799,966.666 298.534,973.721 305.27,980.692 312.005,987.579 318.74,994.382 325.475,1001.1 332.21,1007.74 338.945,1014.3 345.68,1020.77 352.416,1027.17 359.151,1033.48 365.886,1039.71 372.621,1045.87 379.356,1051.94 386.091,1057.93 392.827,1063.85 399.562,1069.69 406.297,1075.45 413.032,1081.13 419.767,1086.74 426.502,1092.27 433.237,1097.72 439.973,1103.1 446.708,1108.4 453.443,1113.63 460.178,1118.78 466.913,1123.86 473.648,1128.87 480.384,1133.8 487.119,1138.66 493.854,1143.45 500.589,1148.17 507.324,1152.81 514.059,1157.38 520.794,1161.89 527.53,1166.32 534.265,1170.68 541,1174.97 547.735,1179.2 554.47,1183.35 561.205,1187.44 567.941,1191.46 574.676,1195.41 581.411,1199.29 588.146,1203.11 594.881,1206.86 601.616,1210.55 608.351,1214.17 615.087,1217.73 621.822,1221.22 628.557,1224.65 635.292,1228.01 642.027,1231.31 648.762,1234.55 655.497,1237.72 662.233,1240.84 668.968,1243.89 675.703,1246.88 682.438,1249.81 689.173,1252.68 695.908,1255.49 702.644,1258.24 709.379,1260.93 716.114,1263.56 722.849,1266.13 729.584,1268.65 736.319,1271.11 743.054,1273.51 749.79,1275.85 756.525,1278.14 763.26,1280.37 769.995,1282.55 776.73,1284.67 783.465,1286.74 790.201,1288.75 796.936,1290.71 803.671,1292.61 810.406,1294.47 817.141,1296.27 823.876,1298.02 830.611,1299.71 837.347,1301.36 844.082,1302.95 850.817,1304.49 857.552,1305.99 864.287,1307.43 871.022,1308.83 877.758,1310.17 884.493,1311.47 891.228,1312.72 897.963,1313.92 904.698,1315.07 911.433,1316.18 918.168,1317.24 924.904,1318.26 931.639,1319.22 938.374,1320.15 945.109,1321.03 951.844,1321.86 958.579,1322.65 965.314,1323.4 972.05,1324.1 978.785,1324.77 985.52,1325.39 992.255,1325.96 998.99,1326.5 1005.73,1326.99 1012.46,1327.45 1019.2,1327.86 1025.93,1328.23 1032.67,1328.57 1039.4,1328.86 1046.14,1329.12 1052.87,1329.34 1059.61,1329.52 1066.34,1329.66 1073.08,1329.76 1079.81,1329.83 1086.55,1329.86 1093.28,1329.86 1100.02,1329.82 1106.75,1329.75 1113.49,1329.64 1120.22,1329.5 1126.96,1329.32 1133.69,1329.11 1140.43,1328.87 1147.16,1328.59 1153.9,1328.28 1160.63,1327.94 1167.37,1327.57 1174.1,1327.17 1180.84,1326.74 1187.57,1326.28 1194.31,1325.78 1201.04,1325.26 1207.78,1324.71 1214.52,1324.13 1221.25,1323.52 1227.99,1322.89 1234.72,1322.23 1241.46,1321.54 1248.19,1320.82 1254.93,1320.08 1261.66,1319.31 1268.4,1318.52 1275.13,1317.7 1281.87,1316.85 1288.6,1315.99 1295.34,1315.1 1302.07,1314.18 1308.81,1313.24 1315.54,1312.28 1322.28,1311.3 1329.01,1310.3 1335.75,1309.27 1342.48,1308.23 1349.22,1307.16 1355.95,1306.07 1362.69,1304.97 1369.42,1303.84 1376.16,1302.7 1382.89,1301.53 1389.63,1300.35 1396.36,1299.15 1403.1,1297.94 1409.83,1296.7 1416.57,1295.45 1423.3,1294.19 1430.04,1292.91 1436.78,1291.61 1443.51,1290.3 1450.25,1288.97 1456.98,1287.63 1463.72,1286.28 1470.45,1284.91 1477.19,1283.53 1483.92,1282.14 1490.66,1280.73 1497.39,1279.31 1504.13,1277.88 1510.86,1276.45 1517.6,1275 1524.33,1273.54 1531.07,1272.07 1537.8,1270.59 1544.54,1269.1 1551.27,1267.6 1558.01,1266.1 1564.74,1264.58 1571.48,1263.06 1578.21,1261.54 1584.95,1260 1591.68,1258.47 1598.42,1256.92 1605.15,1255.37 1611.89,1253.81 1618.62,1252.25 1625.36,1250.69 1632.09,1249.12 1638.83,1247.55 1645.56,1245.97 1652.3,1244.4 1659.04,1242.82 1665.77,1241.24 1672.51,1239.65 1679.24,1238.07 1685.98,1236.49 1692.71,1234.9 1699.45,1233.32 1706.18,1231.73 1712.92,1230.15 1719.65,1228.57 1726.39,1226.99 1733.12,1225.41 1739.86,1223.84 1746.59,1222.27 1753.33,1220.7 1760.06,1219.14 1766.8,1217.57 1773.53,1216.02 1780.27,1214.47 1787,1212.92 1793.74,1211.38 1800.47,1209.85 1807.21,1208.32 1813.94,1206.8 1820.68,1205.29 1827.41,1203.78 1834.15,1202.29 1840.88,1200.8 1847.62,1199.32 1854.35,1197.85 1861.09,1196.39 1867.82,1194.94 1874.56,1193.5 1881.3,1192.07 1888.03,1190.65 1894.77,1189.24 1901.5,1187.85 1908.24,1186.47 1914.97,1185.1 1921.71,1183.74 1928.44,1182.4 1935.18,1181.07 1941.91,1179.76 1948.65,1178.46 1955.38,1177.18 1962.12,1175.91 1968.85,1174.66 1975.59,1173.42 1982.32,1172.2 1989.06,1171 1995.79,1169.82 2002.53,1168.65 2009.26,1167.51 2016,1166.38 2022.73,1165.27 2029.47,1164.18 2036.2,1163.11 2042.94,1162.06 2049.67,1161.03 2056.41,1160.02 2063.14,1159.04 2069.88,1158.07 2076.61,1157.13 2083.35,1156.21 2090.08,1155.32 2096.82,1154.45 2103.56,1153.6 2110.29,1152.77 2117.03,1151.98 2123.76,1151.2 2130.5,1150.45 2137.23,1149.73 2143.97,1149.03 2150.7,1148.36 2157.44,1147.72 2164.17,1147.11 2170.91,1146.52 2177.64,1145.96 2184.38,1145.43 2191.11,1144.93 2197.85,1144.46 2204.58,1144.02 2211.32,1143.6 2218.05,1143.22 2224.79,1142.87 2231.52,1142.55 2238.26,1142.27 2244.99,1142.01 2251.73,1141.79 2258.46,1141.6 2265.2,1141.45 2271.93,1141.33 2278.67,1141.24 2285.4,1141.19 2292.14,1141.17 \"/>\n",
       "<polyline clip-path=\"url(#clip072)\" style=\"stroke:#e26f46; stroke-linecap:round; stroke-linejoin:round; stroke-width:4; stroke-opacity:1; fill:none\" points=\"271.594,1043.08 278.329,1038.21 285.064,1033.42 291.799,1028.7 298.534,1024.05 305.27,1019.47 312.005,1014.97 318.74,1010.53 325.475,1006.17 332.21,1001.88 338.945,997.654 345.68,993.499 352.416,989.413 359.151,985.395 365.886,981.445 372.621,977.563 379.356,973.747 386.091,969.998 392.827,966.316 399.562,962.699 406.297,959.148 413.032,955.662 419.767,952.241 426.502,948.884 433.237,945.591 439.973,942.361 446.708,939.195 453.443,936.091 460.178,933.05 466.913,930.071 473.648,927.154 480.384,924.297 487.119,921.502 493.854,918.767 500.589,916.092 507.324,913.477 514.059,910.921 520.794,908.424 527.53,905.985 534.265,903.604 541,901.282 547.735,899.016 554.47,896.808 561.205,894.656 567.941,892.56 574.676,890.52 581.411,888.536 588.146,886.606 594.881,884.732 601.616,882.911 608.351,881.144 615.087,879.431 621.822,877.771 628.557,876.163 635.292,874.608 642.027,873.105 648.762,871.654 655.497,870.253 662.233,868.903 668.968,867.604 675.703,866.355 682.438,865.155 689.173,864.005 695.908,862.904 702.644,861.851 709.379,860.846 716.114,859.888 722.849,858.979 729.584,858.116 736.319,857.299 743.054,856.529 749.79,855.805 756.525,855.126 763.26,854.492 769.995,853.903 776.73,853.358 783.465,852.857 790.201,852.4 796.936,851.986 803.671,851.614 810.406,851.285 817.141,850.998 823.876,850.752 830.611,850.548 837.347,850.384 844.082,850.261 850.817,850.178 857.552,850.135 864.287,850.131 871.022,850.166 877.758,850.24 884.493,850.352 891.228,850.502 897.963,850.689 904.698,850.913 911.433,851.174 918.168,851.472 924.904,851.805 931.639,852.174 938.374,852.578 945.109,853.017 951.844,853.49 958.579,853.997 965.314,854.538 972.05,855.113 978.785,855.72 985.52,856.36 992.255,857.032 998.99,857.736 1005.73,858.471 1012.46,859.237 1019.2,860.034 1025.93,860.862 1032.67,861.719 1039.4,862.606 1046.14,863.522 1052.87,864.467 1059.61,865.44 1066.34,866.441 1073.08,867.47 1079.81,868.526 1086.55,869.61 1093.28,870.72 1100.02,871.856 1106.75,873.018 1113.49,874.205 1120.22,875.417 1126.96,876.655 1133.69,877.916 1140.43,879.202 1147.16,880.511 1153.9,881.843 1160.63,883.198 1167.37,884.576 1174.1,885.976 1180.84,887.397 1187.57,888.84 1194.31,890.304 1201.04,891.789 1207.78,893.293 1214.52,894.818 1221.25,896.362 1227.99,897.926 1234.72,899.508 1241.46,901.109 1248.19,902.727 1254.93,904.364 1261.66,906.017 1268.4,907.688 1275.13,909.375 1281.87,911.079 1288.6,912.798 1295.34,914.533 1302.07,916.282 1308.81,918.047 1315.54,919.826 1322.28,921.619 1329.01,923.426 1335.75,925.245 1342.48,927.078 1349.22,928.923 1355.95,930.781 1362.69,932.65 1369.42,934.531 1376.16,936.423 1382.89,938.325 1389.63,940.238 1396.36,942.161 1403.1,944.093 1409.83,946.035 1416.57,947.985 1423.3,949.944 1430.04,951.911 1436.78,953.886 1443.51,955.868 1450.25,957.858 1456.98,959.854 1463.72,961.856 1470.45,963.865 1477.19,965.878 1483.92,967.898 1490.66,969.922 1497.39,971.95 1504.13,973.983 1510.86,976.019 1517.6,978.059 1524.33,980.102 1531.07,982.147 1537.8,984.195 1544.54,986.245 1551.27,988.296 1558.01,990.349 1564.74,992.402 1571.48,994.456 1578.21,996.51 1584.95,998.564 1591.68,1000.62 1598.42,1002.67 1605.15,1004.72 1611.89,1006.77 1618.62,1008.82 1625.36,1010.86 1632.09,1012.9 1638.83,1014.94 1645.56,1016.98 1652.3,1019.01 1659.04,1021.04 1665.77,1023.06 1672.51,1025.08 1679.24,1027.09 1685.98,1029.1 1692.71,1031.1 1699.45,1033.09 1706.18,1035.08 1712.92,1037.06 1719.65,1039.03 1726.39,1041 1733.12,1042.95 1739.86,1044.9 1746.59,1046.84 1753.33,1048.77 1760.06,1050.69 1766.8,1052.6 1773.53,1054.5 1780.27,1056.39 1787,1058.27 1793.74,1060.14 1800.47,1061.99 1807.21,1063.84 1813.94,1065.67 1820.68,1067.48 1827.41,1069.29 1834.15,1071.08 1840.88,1072.86 1847.62,1074.62 1854.35,1076.37 1861.09,1078.1 1867.82,1079.82 1874.56,1081.52 1881.3,1083.2 1888.03,1084.87 1894.77,1086.52 1901.5,1088.16 1908.24,1089.77 1914.97,1091.37 1921.71,1092.95 1928.44,1094.52 1935.18,1096.06 1941.91,1097.58 1948.65,1099.09 1955.38,1100.57 1962.12,1102.03 1968.85,1103.48 1975.59,1104.9 1982.32,1106.3 1989.06,1107.68 1995.79,1109.03 2002.53,1110.36 2009.26,1111.67 2016,1112.96 2022.73,1114.22 2029.47,1115.46 2036.2,1116.68 2042.94,1117.87 2049.67,1119.03 2056.41,1120.17 2063.14,1121.28 2069.88,1122.37 2076.61,1123.43 2083.35,1124.46 2090.08,1125.47 2096.82,1126.45 2103.56,1127.4 2110.29,1128.32 2117.03,1129.21 2123.76,1130.08 2130.5,1130.91 2137.23,1131.72 2143.97,1132.49 2150.7,1133.24 2157.44,1133.95 2164.17,1134.63 2170.91,1135.28 2177.64,1135.9 2184.38,1136.49 2191.11,1137.04 2197.85,1137.56 2204.58,1138.05 2211.32,1138.5 2218.05,1138.92 2224.79,1139.3 2231.52,1139.65 2238.26,1139.97 2244.99,1140.24 2251.73,1140.49 2258.46,1140.69 2265.2,1140.86 2271.93,1141 2278.67,1141.09 2285.4,1141.15 2292.14,1141.17 \"/>\n",
       "<polyline clip-path=\"url(#clip072)\" style=\"stroke:#3da44d; stroke-linecap:round; stroke-linejoin:round; stroke-width:4; stroke-opacity:1; fill:none\" points=\"271.594,160.256 278.329,172.476 285.064,184.609 291.799,196.656 298.534,208.613 305.27,220.48 312.005,232.255 318.74,243.937 325.475,255.528 332.21,267.027 338.945,278.434 345.68,289.75 352.416,300.975 359.151,312.108 365.886,323.151 372.621,334.103 379.356,344.966 386.091,355.738 392.827,366.42 399.562,377.013 406.297,387.517 413.032,397.932 419.767,408.258 426.502,418.496 433.237,428.646 439.973,438.708 446.708,448.682 453.443,458.57 460.178,468.37 466.913,478.084 473.648,487.711 480.384,497.252 487.119,506.707 493.854,516.077 500.589,525.362 507.324,534.562 514.059,543.677 520.794,552.708 527.53,561.655 534.265,570.519 541,579.299 547.735,587.996 554.47,596.61 561.205,605.142 567.941,613.592 574.676,621.96 581.411,630.247 588.146,638.452 594.881,646.577 601.616,654.622 608.351,662.586 615.087,670.471 621.822,678.276 628.557,686.002 635.292,693.65 642.027,701.219 648.762,708.71 655.497,716.123 662.233,723.459 668.968,730.717 675.703,737.9 682.438,745.005 689.173,752.035 695.908,758.989 702.644,765.868 709.379,772.672 716.114,779.402 722.849,786.057 729.584,792.638 736.319,799.146 743.054,805.581 749.79,811.943 756.525,818.232 763.26,824.45 769.995,830.596 776.73,836.67 783.465,842.674 790.201,848.607 796.936,854.469 803.671,860.262 810.406,865.986 817.141,871.64 823.876,877.226 830.611,882.743 837.347,888.193 844.082,893.574 850.817,898.889 857.552,904.137 864.287,909.318 871.022,914.433 877.758,919.482 884.493,924.467 891.228,929.386 897.963,934.24 904.698,939.031 911.433,943.757 918.168,948.421 924.904,953.021 931.639,957.558 938.374,962.034 945.109,966.447 951.844,970.799 958.579,975.09 965.314,979.32 972.05,983.49 978.785,987.6 985.52,991.65 992.255,995.642 998.99,999.574 1005.73,1003.45 1012.46,1007.26 1019.2,1011.02 1025.93,1014.72 1032.67,1018.37 1039.4,1021.96 1046.14,1025.49 1052.87,1028.97 1059.61,1032.39 1066.34,1035.75 1073.08,1039.07 1079.81,1042.32 1086.55,1045.53 1093.28,1048.68 1100.02,1051.78 1106.75,1054.82 1113.49,1057.82 1120.22,1060.76 1126.96,1063.65 1133.69,1066.49 1140.43,1069.28 1147.16,1072.02 1153.9,1074.71 1160.63,1077.35 1167.37,1079.94 1174.1,1082.48 1180.84,1084.98 1187.57,1087.42 1194.31,1089.82 1201.04,1092.18 1207.78,1094.48 1214.52,1096.74 1221.25,1098.96 1227.99,1101.13 1234.72,1103.25 1241.46,1105.33 1248.19,1107.37 1254.93,1109.36 1261.66,1111.31 1268.4,1113.22 1275.13,1115.08 1281.87,1116.9 1288.6,1118.68 1295.34,1120.42 1302.07,1122.12 1308.81,1123.77 1315.54,1125.39 1322.28,1126.97 1329.01,1128.5 1335.75,1130 1342.48,1131.46 1349.22,1132.89 1355.95,1134.27 1362.69,1135.62 1369.42,1136.93 1376.16,1138.2 1382.89,1139.44 1389.63,1140.64 1396.36,1141.81 1403.1,1142.94 1409.83,1144.04 1416.57,1145.1 1423.3,1146.13 1430.04,1147.13 1436.78,1148.09 1443.51,1149.02 1450.25,1149.92 1456.98,1150.79 1463.72,1151.62 1470.45,1152.43 1477.19,1153.2 1483.92,1153.94 1490.66,1154.66 1497.39,1155.34 1504.13,1156 1510.86,1156.63 1517.6,1157.23 1524.33,1157.8 1531.07,1158.34 1537.8,1158.86 1544.54,1159.35 1551.27,1159.82 1558.01,1160.25 1564.74,1160.67 1571.48,1161.06 1578.21,1161.42 1584.95,1161.76 1591.68,1162.08 1598.42,1162.37 1605.15,1162.64 1611.89,1162.89 1618.62,1163.11 1625.36,1163.31 1632.09,1163.5 1638.83,1163.66 1645.56,1163.8 1652.3,1163.92 1659.04,1164.02 1665.77,1164.1 1672.51,1164.16 1679.24,1164.2 1685.98,1164.23 1692.71,1164.23 1699.45,1164.22 1706.18,1164.2 1712.92,1164.15 1719.65,1164.09 1726.39,1164.02 1733.12,1163.92 1739.86,1163.82 1746.59,1163.7 1753.33,1163.56 1760.06,1163.41 1766.8,1163.25 1773.53,1163.07 1780.27,1162.88 1787,1162.68 1793.74,1162.47 1800.47,1162.24 1807.21,1162.01 1813.94,1161.76 1820.68,1161.5 1827.41,1161.24 1834.15,1160.96 1840.88,1160.68 1847.62,1160.38 1854.35,1160.08 1861.09,1159.77 1867.82,1159.45 1874.56,1159.12 1881.3,1158.79 1888.03,1158.45 1894.77,1158.11 1901.5,1157.76 1908.24,1157.4 1914.97,1157.04 1921.71,1156.68 1928.44,1156.31 1935.18,1155.93 1941.91,1155.56 1948.65,1155.18 1955.38,1154.8 1962.12,1154.41 1968.85,1154.03 1975.59,1153.64 1982.32,1153.26 1989.06,1152.87 1995.79,1152.48 2002.53,1152.09 2009.26,1151.7 2016,1151.32 2022.73,1150.93 2029.47,1150.55 2036.2,1150.17 2042.94,1149.79 2049.67,1149.41 2056.41,1149.04 2063.14,1148.67 2069.88,1148.31 2076.61,1147.95 2083.35,1147.59 2090.08,1147.25 2096.82,1146.9 2103.56,1146.56 2110.29,1146.23 2117.03,1145.91 2123.76,1145.59 2130.5,1145.28 2137.23,1144.98 2143.97,1144.69 2150.7,1144.4 2157.44,1144.13 2164.17,1143.86 2170.91,1143.61 2177.64,1143.36 2184.38,1143.13 2191.11,1142.91 2197.85,1142.69 2204.58,1142.5 2211.32,1142.31 2218.05,1142.13 2224.79,1141.97 2231.52,1141.82 2238.26,1141.69 2244.99,1141.57 2251.73,1141.47 2258.46,1141.38 2265.2,1141.3 2271.93,1141.24 2278.67,1141.2 2285.4,1141.18 2292.14,1141.17 \"/>\n",
       "<polyline clip-path=\"url(#clip072)\" style=\"stroke:#c271d2; stroke-linecap:round; stroke-linejoin:round; stroke-width:4; stroke-opacity:1; fill:none\" stroke-dasharray=\"16, 10\" points=\"271.594,1288.3 278.329,1286.56 285.064,1284.84 291.799,1283.12 298.534,1281.42 305.27,1279.74 312.005,1278.06 318.74,1276.41 325.475,1274.76 332.21,1273.11 338.945,1271.48 345.68,1269.85 352.416,1268.24 359.151,1266.63 365.886,1265.03 372.621,1263.44 379.356,1261.85 386.091,1260.28 392.827,1258.71 399.562,1257.15 406.297,1255.6 413.032,1254.06 419.767,1252.53 426.502,1251 433.237,1249.48 439.973,1247.97 446.708,1246.47 453.443,1244.98 460.178,1243.5 466.913,1242.02 473.648,1240.55 480.384,1239.09 487.119,1237.64 493.854,1236.2 500.589,1234.76 507.324,1233.34 514.059,1231.92 520.794,1230.51 527.53,1229.11 534.265,1227.72 541,1226.33 547.735,1224.95 554.47,1223.59 561.205,1222.23 567.941,1220.87 574.676,1219.53 581.411,1218.19 588.146,1216.87 594.881,1215.55 601.616,1214.24 608.351,1212.94 615.087,1211.64 621.822,1210.36 628.557,1209.08 635.292,1207.81 642.027,1206.55 648.762,1205.29 655.497,1204.05 662.233,1202.81 668.968,1201.59 675.703,1200.37 682.438,1199.15 689.173,1197.95 695.908,1196.76 702.644,1195.57 709.379,1194.39 716.114,1193.22 722.849,1192.06 729.584,1190.9 736.319,1189.76 743.054,1188.62 749.79,1187.49 756.525,1186.37 763.26,1185.26 769.995,1184.15 776.73,1183.05 783.465,1181.97 790.201,1180.89 796.936,1179.81 803.671,1178.75 810.406,1177.7 817.141,1176.65 823.876,1175.61 830.611,1174.58 837.347,1173.56 844.082,1172.54 850.817,1171.53 857.552,1170.54 864.287,1169.55 871.022,1168.56 877.758,1167.59 884.493,1166.63 891.228,1165.67 897.963,1164.72 904.698,1163.78 911.433,1162.85 918.168,1161.92 924.904,1161.01 931.639,1160.1 938.374,1159.2 945.109,1158.31 951.844,1157.42 958.579,1156.55 965.314,1155.68 972.05,1154.82 978.785,1153.97 985.52,1153.13 992.255,1152.29 998.99,1151.46 1005.73,1150.65 1012.46,1149.84 1019.2,1149.03 1025.93,1148.24 1032.67,1147.45 1039.4,1146.68 1046.14,1145.91 1052.87,1145.14 1059.61,1144.39 1066.34,1143.64 1073.08,1142.91 1079.81,1142.18 1086.55,1141.46 1093.28,1140.74 1100.02,1140.04 1106.75,1139.34 1113.49,1138.65 1120.22,1137.97 1126.96,1137.3 1133.69,1136.64 1140.43,1135.98 1147.16,1135.33 1153.9,1134.69 1160.63,1134.06 1167.37,1133.44 1174.1,1132.82 1180.84,1132.21 1187.57,1131.61 1194.31,1131.02 1201.04,1130.44 1207.78,1129.86 1214.52,1129.29 1221.25,1128.73 1227.99,1128.18 1234.72,1127.64 1241.46,1127.11 1248.19,1126.58 1254.93,1126.06 1261.66,1125.55 1268.4,1125.04 1275.13,1124.55 1281.87,1124.06 1288.6,1123.58 1295.34,1123.11 1302.07,1122.65 1308.81,1122.2 1315.54,1121.75 1322.28,1121.31 1329.01,1120.88 1335.75,1120.46 1342.48,1120.04 1349.22,1119.63 1355.95,1119.24 1362.69,1118.85 1369.42,1118.46 1376.16,1118.09 1382.89,1117.72 1389.63,1117.36 1396.36,1117.01 1403.1,1116.67 1409.83,1116.33 1416.57,1116.01 1423.3,1115.69 1430.04,1115.38 1436.78,1115.08 1443.51,1114.78 1450.25,1114.49 1456.98,1114.22 1463.72,1113.95 1470.45,1113.68 1477.19,1113.43 1483.92,1113.18 1490.66,1112.94 1497.39,1112.71 1504.13,1112.49 1510.86,1112.27 1517.6,1112.07 1524.33,1111.87 1531.07,1111.68 1537.8,1111.49 1544.54,1111.32 1551.27,1111.15 1558.01,1110.99 1564.74,1110.84 1571.48,1110.7 1578.21,1110.56 1584.95,1110.44 1591.68,1110.32 1598.42,1110.21 1605.15,1110.1 1611.89,1110.01 1618.62,1109.92 1625.36,1109.84 1632.09,1109.77 1638.83,1109.7 1645.56,1109.65 1652.3,1109.6 1659.04,1109.56 1665.77,1109.53 1672.51,1109.51 1679.24,1109.49 1685.98,1109.48 1692.71,1109.48 1699.45,1109.49 1706.18,1109.5 1712.92,1109.53 1719.65,1109.56 1726.39,1109.6 1733.12,1109.65 1739.86,1109.7 1746.59,1109.77 1753.33,1109.84 1760.06,1109.92 1766.8,1110 1773.53,1110.1 1780.27,1110.2 1787,1110.31 1793.74,1110.43 1800.47,1110.56 1807.21,1110.69 1813.94,1110.83 1820.68,1110.98 1827.41,1111.14 1834.15,1111.31 1840.88,1111.48 1847.62,1111.67 1854.35,1111.86 1861.09,1112.05 1867.82,1112.26 1874.56,1112.47 1881.3,1112.69 1888.03,1112.92 1894.77,1113.16 1901.5,1113.41 1908.24,1113.66 1914.97,1113.92 1921.71,1114.19 1928.44,1114.47 1935.18,1114.75 1941.91,1115.05 1948.65,1115.35 1955.38,1115.66 1962.12,1115.97 1968.85,1116.3 1975.59,1116.63 1982.32,1116.97 1989.06,1117.32 1995.79,1117.67 2002.53,1118.04 2009.26,1118.41 2016,1118.79 2022.73,1119.18 2029.47,1119.57 2036.2,1119.98 2042.94,1120.39 2049.67,1120.81 2056.41,1121.23 2063.14,1121.67 2069.88,1122.11 2076.61,1122.56 2083.35,1123.02 2090.08,1123.49 2096.82,1123.96 2103.56,1124.45 2110.29,1124.94 2117.03,1125.43 2123.76,1125.94 2130.5,1126.45 2137.23,1126.98 2143.97,1127.51 2150.7,1128.04 2157.44,1128.59 2164.17,1129.14 2170.91,1129.71 2177.64,1130.27 2184.38,1130.85 2191.11,1131.44 2197.85,1132.03 2204.58,1132.63 2211.32,1133.24 2218.05,1133.86 2224.79,1134.48 2231.52,1135.11 2238.26,1135.76 2244.99,1136.4 2251.73,1137.06 2258.46,1137.72 2265.2,1138.4 2271.93,1139.08 2278.67,1139.76 2285.4,1140.46 2292.14,1141.16 \"/>\n",
       "<polyline clip-path=\"url(#clip072)\" style=\"stroke:#ac8d18; stroke-linecap:round; stroke-linejoin:round; stroke-width:4; stroke-opacity:1; fill:none\" stroke-dasharray=\"16, 10\" points=\"271.594,1043.08 278.329,1044.56 285.064,1046.03 291.799,1047.49 298.534,1048.94 305.27,1050.37 312.005,1051.79 318.74,1053.2 325.475,1054.6 332.21,1056 338.945,1057.38 345.68,1058.76 352.416,1060.13 359.151,1061.49 365.886,1062.84 372.621,1064.19 379.356,1065.53 386.091,1066.86 392.827,1068.18 399.562,1069.49 406.297,1070.8 413.032,1072.1 419.767,1073.39 426.502,1074.67 433.237,1075.95 439.973,1077.21 446.708,1078.47 453.443,1079.72 460.178,1080.97 466.913,1082.2 473.648,1083.43 480.384,1084.65 487.119,1085.87 493.854,1087.07 500.589,1088.27 507.324,1089.46 514.059,1090.64 520.794,1091.81 527.53,1092.98 534.265,1094.14 541,1095.29 547.735,1096.43 554.47,1097.57 561.205,1098.69 567.941,1099.81 574.676,1100.93 581.411,1102.03 588.146,1103.13 594.881,1104.22 601.616,1105.3 608.351,1106.37 615.087,1107.44 621.822,1108.49 628.557,1109.54 635.292,1110.59 642.027,1111.62 648.762,1112.65 655.497,1113.67 662.233,1114.68 668.968,1115.68 675.703,1116.68 682.438,1117.67 689.173,1118.65 695.908,1119.63 702.644,1120.59 709.379,1121.55 716.114,1122.5 722.849,1123.44 729.584,1124.38 736.319,1125.31 743.054,1126.23 749.79,1127.14 756.525,1128.04 763.26,1128.94 769.995,1129.83 776.73,1130.71 783.465,1131.59 790.201,1132.45 796.936,1133.31 803.671,1134.16 810.406,1135.01 817.141,1135.84 823.876,1136.67 830.611,1137.49 837.347,1138.31 844.082,1139.11 850.817,1139.91 857.552,1140.7 864.287,1141.48 871.022,1142.26 877.758,1143.03 884.493,1143.79 891.228,1144.54 897.963,1145.29 904.698,1146.02 911.433,1146.75 918.168,1147.48 924.904,1148.19 931.639,1148.9 938.374,1149.6 945.109,1150.29 951.844,1150.98 958.579,1151.65 965.314,1152.32 972.05,1152.99 978.785,1153.64 985.52,1154.29 992.255,1154.93 998.99,1155.56 1005.73,1156.19 1012.46,1156.8 1019.2,1157.41 1025.93,1158.02 1032.67,1158.61 1039.4,1159.2 1046.14,1159.78 1052.87,1160.35 1059.61,1160.92 1066.34,1161.47 1073.08,1162.02 1079.81,1162.57 1086.55,1163.1 1093.28,1163.63 1100.02,1164.15 1106.75,1164.66 1113.49,1165.17 1120.22,1165.67 1126.96,1166.16 1133.69,1166.64 1140.43,1167.12 1147.16,1167.58 1153.9,1168.04 1160.63,1168.5 1167.37,1168.94 1174.1,1169.38 1180.84,1169.81 1187.57,1170.24 1194.31,1170.65 1201.04,1171.06 1207.78,1171.47 1214.52,1171.86 1221.25,1172.25 1227.99,1172.63 1234.72,1173 1241.46,1173.36 1248.19,1173.72 1254.93,1174.07 1261.66,1174.41 1268.4,1174.75 1275.13,1175.08 1281.87,1175.4 1288.6,1175.71 1295.34,1176.02 1302.07,1176.31 1308.81,1176.6 1315.54,1176.89 1322.28,1177.16 1329.01,1177.43 1335.75,1177.7 1342.48,1177.95 1349.22,1178.2 1355.95,1178.44 1362.69,1178.67 1369.42,1178.89 1376.16,1179.11 1382.89,1179.32 1389.63,1179.53 1396.36,1179.72 1403.1,1179.91 1409.83,1180.09 1416.57,1180.26 1423.3,1180.43 1430.04,1180.59 1436.78,1180.74 1443.51,1180.89 1450.25,1181.02 1456.98,1181.15 1463.72,1181.28 1470.45,1181.39 1477.19,1181.5 1483.92,1181.6 1490.66,1181.69 1497.39,1181.78 1504.13,1181.86 1510.86,1181.93 1517.6,1182 1524.33,1182.05 1531.07,1182.1 1537.8,1182.15 1544.54,1182.18 1551.27,1182.21 1558.01,1182.23 1564.74,1182.24 1571.48,1182.25 1578.21,1182.25 1584.95,1182.24 1591.68,1182.22 1598.42,1182.2 1605.15,1182.17 1611.89,1182.13 1618.62,1182.09 1625.36,1182.04 1632.09,1181.98 1638.83,1181.91 1645.56,1181.84 1652.3,1181.76 1659.04,1181.67 1665.77,1181.57 1672.51,1181.47 1679.24,1181.36 1685.98,1181.25 1692.71,1181.12 1699.45,1180.99 1706.18,1180.85 1712.92,1180.7 1719.65,1180.55 1726.39,1180.39 1733.12,1180.22 1739.86,1180.05 1746.59,1179.87 1753.33,1179.68 1760.06,1179.48 1766.8,1179.28 1773.53,1179.07 1780.27,1178.85 1787,1178.62 1793.74,1178.39 1800.47,1178.15 1807.21,1177.9 1813.94,1177.65 1820.68,1177.39 1827.41,1177.12 1834.15,1176.84 1840.88,1176.56 1847.62,1176.27 1854.35,1175.97 1861.09,1175.67 1867.82,1175.35 1874.56,1175.03 1881.3,1174.71 1888.03,1174.37 1894.77,1174.03 1901.5,1173.69 1908.24,1173.33 1914.97,1172.97 1921.71,1172.6 1928.44,1172.22 1935.18,1171.84 1941.91,1171.45 1948.65,1171.05 1955.38,1170.64 1962.12,1170.23 1968.85,1169.81 1975.59,1169.38 1982.32,1168.95 1989.06,1168.5 1995.79,1168.06 2002.53,1167.6 2009.26,1167.14 2016,1166.67 2022.73,1166.19 2029.47,1165.7 2036.2,1165.21 2042.94,1164.71 2049.67,1164.2 2056.41,1163.69 2063.14,1163.17 2069.88,1162.64 2076.61,1162.11 2083.35,1161.56 2090.08,1161.01 2096.82,1160.46 2103.56,1159.89 2110.29,1159.32 2117.03,1158.74 2123.76,1158.16 2130.5,1157.56 2137.23,1156.96 2143.97,1156.36 2150.7,1155.74 2157.44,1155.12 2164.17,1154.49 2170.91,1153.85 2177.64,1153.21 2184.38,1152.56 2191.11,1151.9 2197.85,1151.24 2204.58,1150.57 2211.32,1149.89 2218.05,1149.2 2224.79,1148.51 2231.52,1147.8 2238.26,1147.1 2244.99,1146.38 2251.73,1145.66 2258.46,1144.93 2265.2,1144.19 2271.93,1143.45 2278.67,1142.7 2285.4,1141.94 2292.14,1141.17 \"/>\n",
       "<polyline clip-path=\"url(#clip072)\" style=\"stroke:#00a9ad; stroke-linecap:round; stroke-linejoin:round; stroke-width:4; stroke-opacity:1; fill:none\" stroke-dasharray=\"16, 10\" points=\"271.594,1386.4 278.329,1384.71 285.064,1382.98 291.799,1381.22 298.534,1379.42 305.27,1377.58 312.005,1375.74 318.74,1373.9 325.475,1372.06 332.21,1370.23 338.945,1368.4 345.68,1366.57 352.416,1364.75 359.151,1362.93 365.886,1361.12 372.621,1359.31 379.356,1357.51 386.091,1355.71 392.827,1353.92 399.562,1352.13 406.297,1350.35 413.032,1348.58 419.767,1346.81 426.502,1345.04 433.237,1343.28 439.973,1341.53 446.708,1339.78 453.443,1338.04 460.178,1336.31 466.913,1334.58 473.648,1332.85 480.384,1331.13 487.119,1329.42 493.854,1327.71 500.589,1326.01 507.324,1324.32 514.059,1322.63 520.794,1320.95 527.53,1319.27 534.265,1317.6 541,1315.94 547.735,1314.28 554.47,1312.63 561.205,1310.98 567.941,1309.35 574.676,1307.72 581.411,1306.09 588.146,1304.47 594.881,1302.86 601.616,1301.26 608.351,1299.66 615.087,1298.06 621.822,1296.48 628.557,1294.9 635.292,1293.33 642.027,1291.77 648.762,1290.21 655.497,1288.66 662.233,1287.11 668.968,1285.58 675.703,1284.05 682.438,1282.52 689.173,1281.01 695.908,1279.5 702.644,1277.99 709.379,1276.5 716.114,1275.01 722.849,1273.53 729.584,1272.06 736.319,1270.59 743.054,1269.13 749.79,1267.68 756.525,1266.24 763.26,1264.8 769.995,1263.37 776.73,1261.95 783.465,1260.53 790.201,1259.12 796.936,1257.72 803.671,1256.33 810.406,1254.94 817.141,1253.57 823.876,1252.2 830.611,1250.83 837.347,1249.48 844.082,1248.13 850.817,1246.79 857.552,1245.46 864.287,1244.13 871.022,1242.81 877.758,1241.5 884.493,1240.2 891.228,1238.9 897.963,1237.62 904.698,1236.34 911.433,1235.06 918.168,1233.8 924.904,1232.54 931.639,1231.29 938.374,1230.05 945.109,1228.82 951.844,1227.59 958.579,1226.38 965.314,1225.17 972.05,1223.96 978.785,1222.77 985.52,1221.58 992.255,1220.4 998.99,1219.23 1005.73,1218.07 1012.46,1216.91 1019.2,1215.76 1025.93,1214.62 1032.67,1213.49 1039.4,1212.37 1046.14,1211.25 1052.87,1210.14 1059.61,1209.04 1066.34,1207.95 1073.08,1206.87 1079.81,1205.79 1086.55,1204.72 1093.28,1203.66 1100.02,1202.61 1106.75,1201.56 1113.49,1200.52 1120.22,1199.49 1126.96,1198.47 1133.69,1197.46 1140.43,1196.45 1147.16,1195.45 1153.9,1194.47 1160.63,1193.48 1167.37,1192.51 1174.1,1191.54 1180.84,1190.59 1187.57,1189.64 1194.31,1188.69 1201.04,1187.76 1207.78,1186.83 1214.52,1185.92 1221.25,1185.01 1227.99,1184.1 1234.72,1183.21 1241.46,1182.32 1248.19,1181.45 1254.93,1180.58 1261.66,1179.71 1268.4,1178.86 1275.13,1178.01 1281.87,1177.18 1288.6,1176.35 1295.34,1175.52 1302.07,1174.71 1308.81,1173.9 1315.54,1173.11 1322.28,1172.32 1329.01,1171.53 1335.75,1170.76 1342.48,1169.99 1349.22,1169.24 1355.95,1168.48 1362.69,1167.74 1369.42,1167.01 1376.16,1166.28 1382.89,1165.56 1389.63,1164.85 1396.36,1164.15 1403.1,1163.46 1409.83,1162.77 1416.57,1162.09 1423.3,1161.42 1430.04,1160.76 1436.78,1160.11 1443.51,1159.46 1450.25,1158.82 1456.98,1158.19 1463.72,1157.57 1470.45,1156.95 1477.19,1156.35 1483.92,1155.75 1490.66,1155.16 1497.39,1154.58 1504.13,1154 1510.86,1153.43 1517.6,1152.88 1524.33,1152.32 1531.07,1151.78 1537.8,1151.25 1544.54,1150.72 1551.27,1150.2 1558.01,1149.69 1564.74,1149.19 1571.48,1148.69 1578.21,1148.2 1584.95,1147.72 1591.68,1147.25 1598.42,1146.79 1605.15,1146.33 1611.89,1145.89 1618.62,1145.45 1625.36,1145.02 1632.09,1144.59 1638.83,1144.18 1645.56,1143.77 1652.3,1143.37 1659.04,1142.98 1665.77,1142.59 1672.51,1142.21 1679.24,1141.85 1685.98,1141.49 1692.71,1141.13 1699.45,1140.79 1706.18,1140.45 1712.92,1140.12 1719.65,1139.8 1726.39,1139.49 1733.12,1139.18 1739.86,1138.88 1746.59,1138.6 1753.33,1138.31 1760.06,1138.04 1766.8,1137.77 1773.53,1137.52 1780.27,1137.27 1787,1137.02 1793.74,1136.79 1800.47,1136.56 1807.21,1136.34 1813.94,1136.13 1820.68,1135.93 1827.41,1135.73 1834.15,1135.55 1840.88,1135.37 1847.62,1135.2 1854.35,1135.03 1861.09,1134.88 1867.82,1134.73 1874.56,1134.59 1881.3,1134.46 1888.03,1134.33 1894.77,1134.21 1901.5,1134.1 1908.24,1134 1914.97,1133.91 1921.71,1133.83 1928.44,1133.75 1935.18,1133.68 1941.91,1133.62 1948.65,1133.56 1955.38,1133.52 1962.12,1133.48 1968.85,1133.45 1975.59,1133.42 1982.32,1133.41 1989.06,1133.4 1995.79,1133.4 2002.53,1133.41 2009.26,1133.43 2016,1133.45 2022.73,1133.48 2029.47,1133.52 2036.2,1133.57 2042.94,1133.63 2049.67,1133.69 2056.41,1133.76 2063.14,1133.84 2069.88,1133.93 2076.61,1134.02 2083.35,1134.12 2090.08,1134.23 2096.82,1134.35 2103.56,1134.48 2110.29,1134.61 2117.03,1134.75 2123.76,1134.9 2130.5,1135.06 2137.23,1135.22 2143.97,1135.4 2150.7,1135.58 2157.44,1135.76 2164.17,1135.96 2170.91,1136.16 2177.64,1136.38 2184.38,1136.6 2191.11,1136.82 2197.85,1137.06 2204.58,1137.3 2211.32,1137.55 2218.05,1137.81 2224.79,1138.08 2231.52,1138.35 2238.26,1138.63 2244.99,1138.92 2251.73,1139.22 2258.46,1139.53 2265.2,1139.84 2271.93,1140.16 2278.67,1140.49 2285.4,1140.83 2292.14,1141.17 \"/>\n",
       "<path clip-path=\"url(#clip070)\" d=\"M2023.9 529.676 L2281.36 529.676 L2281.36 166.796 L2023.9 166.796  Z\" fill=\"#ffffff\" fill-rule=\"evenodd\" fill-opacity=\"1\"/>\n",
       "<polyline clip-path=\"url(#clip070)\" style=\"stroke:#000000; stroke-linecap:round; stroke-linejoin:round; stroke-width:4; stroke-opacity:1; fill:none\" points=\"2023.9,529.676 2281.36,529.676 2281.36,166.796 2023.9,166.796 2023.9,529.676 \"/>\n",
       "<polyline clip-path=\"url(#clip070)\" style=\"stroke:#009af9; stroke-linecap:round; stroke-linejoin:round; stroke-width:4; stroke-opacity:1; fill:none\" points=\"2047.7,218.636 2190.48,218.636 \"/>\n",
       "<path clip-path=\"url(#clip070)\" d=\"M2238.93 209.99 L2229.56 222.606 L2239.42 235.916 L2234.39 235.916 L2226.85 225.731 L2219.3 235.916 L2214.28 235.916 L2224.35 222.351 L2215.14 209.99 L2220.16 209.99 L2227.03 219.226 L2233.91 209.99 L2238.93 209.99 Z\" fill=\"#000000\" fill-rule=\"evenodd\" fill-opacity=\"1\" /><path clip-path=\"url(#clip070)\" d=\"M2244.58 233.369 L2249.3 233.369 L2249.3 219.226 L2244.14 220.175 L2244.14 217.49 L2249.46 216.587 L2252.64 216.587 L2252.64 233.369 L2257.38 233.369 L2257.38 235.916 L2244.58 235.916 L2244.58 233.369 Z\" fill=\"#000000\" fill-rule=\"evenodd\" fill-opacity=\"1\" /><polyline clip-path=\"url(#clip070)\" style=\"stroke:#e26f46; stroke-linecap:round; stroke-linejoin:round; stroke-width:4; stroke-opacity:1; fill:none\" points=\"2047.7,270.476 2190.48,270.476 \"/>\n",
       "<path clip-path=\"url(#clip070)\" d=\"M2238.93 261.83 L2229.56 274.446 L2239.42 287.756 L2234.39 287.756 L2226.85 277.571 L2219.3 287.756 L2214.28 287.756 L2224.35 274.191 L2215.14 261.83 L2220.16 261.83 L2227.03 271.066 L2233.91 261.83 L2238.93 261.83 Z\" fill=\"#000000\" fill-rule=\"evenodd\" fill-opacity=\"1\" /><path clip-path=\"url(#clip070)\" d=\"M2247.17 285.117 L2256.99 285.117 L2256.99 287.756 L2243.14 287.756 L2243.14 285.209 Q2243.93 284.492 2245.39 283.196 Q2253.35 276.135 2253.35 273.959 Q2253.35 272.432 2252.15 271.506 Q2250.95 270.557 2248.98 270.557 Q2247.77 270.557 2246.36 270.973 Q2244.95 271.367 2243.28 272.177 L2243.28 269.33 Q2245.07 268.682 2246.59 268.358 Q2248.14 268.034 2249.46 268.034 Q2252.82 268.034 2254.83 269.561 Q2256.85 271.089 2256.85 273.589 Q2256.85 276.807 2249.19 283.381 Q2247.89 284.492 2247.17 285.117 Z\" fill=\"#000000\" fill-rule=\"evenodd\" fill-opacity=\"1\" /><polyline clip-path=\"url(#clip070)\" style=\"stroke:#3da44d; stroke-linecap:round; stroke-linejoin:round; stroke-width:4; stroke-opacity:1; fill:none\" points=\"2047.7,322.316 2190.48,322.316 \"/>\n",
       "<path clip-path=\"url(#clip070)\" d=\"M2238.93 313.67 L2229.56 326.286 L2239.42 339.596 L2234.39 339.596 L2226.85 329.411 L2219.3 339.596 L2214.28 339.596 L2224.35 326.031 L2215.14 313.67 L2220.16 313.67 L2227.03 322.906 L2233.91 313.67 L2238.93 313.67 Z\" fill=\"#000000\" fill-rule=\"evenodd\" fill-opacity=\"1\" /><path clip-path=\"url(#clip070)\" d=\"M2253.1 329.133 Q2255.23 329.549 2256.39 330.823 Q2257.57 332.073 2257.57 333.971 Q2257.57 336.841 2255.37 338.392 Q2253.17 339.943 2249.07 339.943 Q2247.75 339.943 2246.29 339.688 Q2244.86 339.457 2243.24 338.994 L2243.24 336.193 Q2244.44 336.818 2245.81 337.119 Q2247.2 337.42 2248.75 337.42 Q2251.27 337.42 2252.66 336.517 Q2254.05 335.591 2254.05 333.971 Q2254.05 332.258 2252.75 331.378 Q2251.48 330.499 2248.98 330.499 L2246.99 330.499 L2246.99 327.999 L2249.16 327.999 Q2251.34 327.999 2252.45 327.281 Q2253.58 326.54 2253.58 325.151 Q2253.58 323.809 2252.43 323.114 Q2251.27 322.397 2249.07 322.397 Q2248.14 322.397 2246.96 322.605 Q2245.78 322.813 2243.91 323.346 L2243.91 320.684 Q2245.6 320.29 2247.08 320.082 Q2248.56 319.874 2249.83 319.874 Q2253.17 319.874 2255.11 321.239 Q2257.08 322.605 2257.08 324.897 Q2257.08 326.494 2256.04 327.605 Q2255 328.716 2253.1 329.133 Z\" fill=\"#000000\" fill-rule=\"evenodd\" fill-opacity=\"1\" /><polyline clip-path=\"url(#clip070)\" style=\"stroke:#c271d2; stroke-linecap:round; stroke-linejoin:round; stroke-width:4; stroke-opacity:1; fill:none\" stroke-dasharray=\"16, 10\" points=\"2047.7,374.156 2190.48,374.156 \"/>\n",
       "<path clip-path=\"url(#clip070)\" d=\"M2238.93 365.51 L2229.56 378.126 L2239.42 391.436 L2234.39 391.436 L2226.85 381.251 L2219.3 391.436 L2214.28 391.436 L2224.35 377.871 L2215.14 365.51 L2220.16 365.51 L2227.03 374.746 L2233.91 365.51 L2238.93 365.51 Z\" fill=\"#000000\" fill-rule=\"evenodd\" fill-opacity=\"1\" /><path clip-path=\"url(#clip070)\" d=\"M2226.94 355.417 L2231.2 355.417 L2231.2 360.811 L2226.94 360.811 L2226.94 355.417 M2229.12 364.885 L2229.12 364.885 Z\" fill=\"#000000\" fill-rule=\"evenodd\" fill-opacity=\"1\" /><path clip-path=\"url(#clip070)\" d=\"M2244.58 388.889 L2249.3 388.889 L2249.3 374.746 L2244.14 375.695 L2244.14 373.01 L2249.46 372.107 L2252.64 372.107 L2252.64 388.889 L2257.38 388.889 L2257.38 391.436 L2244.58 391.436 L2244.58 388.889 Z\" fill=\"#000000\" fill-rule=\"evenodd\" fill-opacity=\"1\" /><polyline clip-path=\"url(#clip070)\" style=\"stroke:#ac8d18; stroke-linecap:round; stroke-linejoin:round; stroke-width:4; stroke-opacity:1; fill:none\" stroke-dasharray=\"16, 10\" points=\"2047.7,425.996 2190.48,425.996 \"/>\n",
       "<path clip-path=\"url(#clip070)\" d=\"M2238.93 417.35 L2229.56 429.966 L2239.42 443.276 L2234.39 443.276 L2226.85 433.091 L2219.3 443.276 L2214.28 443.276 L2224.35 429.711 L2215.14 417.35 L2220.16 417.35 L2227.03 426.586 L2233.91 417.35 L2238.93 417.35 Z\" fill=\"#000000\" fill-rule=\"evenodd\" fill-opacity=\"1\" /><path clip-path=\"url(#clip070)\" d=\"M2226.94 407.257 L2231.2 407.257 L2231.2 412.651 L2226.94 412.651 L2226.94 407.257 M2229.12 416.725 L2229.12 416.725 Z\" fill=\"#000000\" fill-rule=\"evenodd\" fill-opacity=\"1\" /><path clip-path=\"url(#clip070)\" d=\"M2247.17 440.637 L2256.99 440.637 L2256.99 443.276 L2243.14 443.276 L2243.14 440.729 Q2243.93 440.012 2245.39 438.716 Q2253.35 431.655 2253.35 429.479 Q2253.35 427.952 2252.15 427.026 Q2250.95 426.077 2248.98 426.077 Q2247.77 426.077 2246.36 426.493 Q2244.95 426.887 2243.28 427.697 L2243.28 424.85 Q2245.07 424.202 2246.59 423.878 Q2248.14 423.554 2249.46 423.554 Q2252.82 423.554 2254.83 425.081 Q2256.85 426.609 2256.85 429.109 Q2256.85 432.327 2249.19 438.901 Q2247.89 440.012 2247.17 440.637 Z\" fill=\"#000000\" fill-rule=\"evenodd\" fill-opacity=\"1\" /><polyline clip-path=\"url(#clip070)\" style=\"stroke:#00a9ad; stroke-linecap:round; stroke-linejoin:round; stroke-width:4; stroke-opacity:1; fill:none\" stroke-dasharray=\"16, 10\" points=\"2047.7,477.836 2190.48,477.836 \"/>\n",
       "<path clip-path=\"url(#clip070)\" d=\"M2238.93 469.19 L2229.56 481.806 L2239.42 495.116 L2234.39 495.116 L2226.85 484.931 L2219.3 495.116 L2214.28 495.116 L2224.35 481.551 L2215.14 469.19 L2220.16 469.19 L2227.03 478.426 L2233.91 469.19 L2238.93 469.19 Z\" fill=\"#000000\" fill-rule=\"evenodd\" fill-opacity=\"1\" /><path clip-path=\"url(#clip070)\" d=\"M2226.94 459.097 L2231.2 459.097 L2231.2 464.491 L2226.94 464.491 L2226.94 459.097 M2229.12 468.565 L2229.12 468.565 Z\" fill=\"#000000\" fill-rule=\"evenodd\" fill-opacity=\"1\" /><path clip-path=\"url(#clip070)\" d=\"M2253.1 484.653 Q2255.23 485.069 2256.39 486.343 Q2257.57 487.593 2257.57 489.491 Q2257.57 492.361 2255.37 493.912 Q2253.17 495.463 2249.07 495.463 Q2247.75 495.463 2246.29 495.208 Q2244.86 494.977 2243.24 494.514 L2243.24 491.713 Q2244.44 492.338 2245.81 492.639 Q2247.2 492.94 2248.75 492.94 Q2251.27 492.94 2252.66 492.037 Q2254.05 491.111 2254.05 489.491 Q2254.05 487.778 2252.75 486.898 Q2251.48 486.019 2248.98 486.019 L2246.99 486.019 L2246.99 483.519 L2249.16 483.519 Q2251.34 483.519 2252.45 482.801 Q2253.58 482.06 2253.58 480.671 Q2253.58 479.329 2252.43 478.634 Q2251.27 477.917 2249.07 477.917 Q2248.14 477.917 2246.96 478.125 Q2245.78 478.333 2243.91 478.866 L2243.91 476.204 Q2245.6 475.81 2247.08 475.602 Q2248.56 475.394 2249.83 475.394 Q2253.17 475.394 2255.11 476.759 Q2257.08 478.125 2257.08 480.417 Q2257.08 482.014 2256.04 483.125 Q2255 484.236 2253.1 484.653 Z\" fill=\"#000000\" fill-rule=\"evenodd\" fill-opacity=\"1\" /></svg>\n"
      ]
     },
     "metadata": {},
     "output_type": "display_data"
    },
    {
     "data": {
      "image/svg+xml": [
       "<?xml version=\"1.0\" encoding=\"utf-8\"?>\n",
       "<svg xmlns=\"http://www.w3.org/2000/svg\" xmlns:xlink=\"http://www.w3.org/1999/xlink\" width=\"600\" height=\"400\" viewBox=\"0 0 2400 1600\">\n",
       "<defs>\n",
       "  <clipPath id=\"clip110\">\n",
       "    <rect x=\"0\" y=\"0\" width=\"2400\" height=\"1600\"/>\n",
       "  </clipPath>\n",
       "</defs>\n",
       "<path clip-path=\"url(#clip110)\" d=\"M0 1600 L2400 1600 L2400 0 L0 0  Z\" fill=\"#ffffff\" fill-rule=\"evenodd\" fill-opacity=\"1\"/>\n",
       "<defs>\n",
       "  <clipPath id=\"clip111\">\n",
       "    <rect x=\"480\" y=\"0\" width=\"1681\" height=\"1600\"/>\n",
       "  </clipPath>\n",
       "</defs>\n",
       "<path clip-path=\"url(#clip110)\" d=\"M232.389 1423.18 L2352.76 1423.18 L2352.76 123.472 L232.389 123.472  Z\" fill=\"#ffffff\" fill-rule=\"evenodd\" fill-opacity=\"1\"/>\n",
       "<defs>\n",
       "  <clipPath id=\"clip112\">\n",
       "    <rect x=\"232\" y=\"123\" width=\"2121\" height=\"1301\"/>\n",
       "  </clipPath>\n",
       "</defs>\n",
       "<polyline clip-path=\"url(#clip112)\" style=\"stroke:#000000; stroke-linecap:round; stroke-linejoin:round; stroke-width:2; stroke-opacity:0.1; fill:none\" points=\"292.4,1423.18 292.4,123.472 \"/>\n",
       "<polyline clip-path=\"url(#clip112)\" style=\"stroke:#000000; stroke-linecap:round; stroke-linejoin:round; stroke-width:2; stroke-opacity:0.1; fill:none\" points=\"961.412,1423.18 961.412,123.472 \"/>\n",
       "<polyline clip-path=\"url(#clip112)\" style=\"stroke:#000000; stroke-linecap:round; stroke-linejoin:round; stroke-width:2; stroke-opacity:0.1; fill:none\" points=\"1630.42,1423.18 1630.42,123.472 \"/>\n",
       "<polyline clip-path=\"url(#clip112)\" style=\"stroke:#000000; stroke-linecap:round; stroke-linejoin:round; stroke-width:2; stroke-opacity:0.1; fill:none\" points=\"2299.44,1423.18 2299.44,123.472 \"/>\n",
       "<polyline clip-path=\"url(#clip110)\" style=\"stroke:#000000; stroke-linecap:round; stroke-linejoin:round; stroke-width:4; stroke-opacity:1; fill:none\" points=\"232.389,1423.18 2352.76,1423.18 \"/>\n",
       "<polyline clip-path=\"url(#clip110)\" style=\"stroke:#000000; stroke-linecap:round; stroke-linejoin:round; stroke-width:4; stroke-opacity:1; fill:none\" points=\"292.4,1423.18 292.4,1404.28 \"/>\n",
       "<polyline clip-path=\"url(#clip110)\" style=\"stroke:#000000; stroke-linecap:round; stroke-linejoin:round; stroke-width:4; stroke-opacity:1; fill:none\" points=\"961.412,1423.18 961.412,1404.28 \"/>\n",
       "<polyline clip-path=\"url(#clip110)\" style=\"stroke:#000000; stroke-linecap:round; stroke-linejoin:round; stroke-width:4; stroke-opacity:1; fill:none\" points=\"1630.42,1423.18 1630.42,1404.28 \"/>\n",
       "<polyline clip-path=\"url(#clip110)\" style=\"stroke:#000000; stroke-linecap:round; stroke-linejoin:round; stroke-width:4; stroke-opacity:1; fill:none\" points=\"2299.44,1423.18 2299.44,1404.28 \"/>\n",
       "<path clip-path=\"url(#clip110)\" d=\"M292.4 1454.1 Q288.789 1454.1 286.96 1457.66 Q285.154 1461.2 285.154 1468.33 Q285.154 1475.44 286.96 1479.01 Q288.789 1482.55 292.4 1482.55 Q296.034 1482.55 297.84 1479.01 Q299.668 1475.44 299.668 1468.33 Q299.668 1461.2 297.84 1457.66 Q296.034 1454.1 292.4 1454.1 M292.4 1450.39 Q298.21 1450.39 301.265 1455 Q304.344 1459.58 304.344 1468.33 Q304.344 1477.06 301.265 1481.67 Q298.21 1486.25 292.4 1486.25 Q286.59 1486.25 283.511 1481.67 Q280.455 1477.06 280.455 1468.33 Q280.455 1459.58 283.511 1455 Q286.59 1450.39 292.4 1450.39 Z\" fill=\"#000000\" fill-rule=\"evenodd\" fill-opacity=\"1\" /><path clip-path=\"url(#clip110)\" d=\"M951.69 1451.02 L970.046 1451.02 L970.046 1454.96 L955.972 1454.96 L955.972 1463.43 Q956.99 1463.08 958.009 1462.92 Q959.027 1462.73 960.046 1462.73 Q965.833 1462.73 969.213 1465.9 Q972.592 1469.08 972.592 1474.49 Q972.592 1480.07 969.12 1483.17 Q965.648 1486.25 959.328 1486.25 Q957.152 1486.25 954.884 1485.88 Q952.639 1485.51 950.231 1484.77 L950.231 1480.07 Q952.315 1481.2 954.537 1481.76 Q956.759 1482.32 959.236 1482.32 Q963.24 1482.32 965.578 1480.21 Q967.916 1478.1 967.916 1474.49 Q967.916 1470.88 965.578 1468.77 Q963.24 1466.67 959.236 1466.67 Q957.361 1466.67 955.486 1467.08 Q953.634 1467.5 951.69 1468.38 L951.69 1451.02 Z\" fill=\"#000000\" fill-rule=\"evenodd\" fill-opacity=\"1\" /><path clip-path=\"url(#clip110)\" d=\"M1605.11 1481.64 L1612.75 1481.64 L1612.75 1455.28 L1604.44 1456.95 L1604.44 1452.69 L1612.7 1451.02 L1617.38 1451.02 L1617.38 1481.64 L1625.02 1481.64 L1625.02 1485.58 L1605.11 1485.58 L1605.11 1481.64 Z\" fill=\"#000000\" fill-rule=\"evenodd\" fill-opacity=\"1\" /><path clip-path=\"url(#clip110)\" d=\"M1644.46 1454.1 Q1640.85 1454.1 1639.02 1457.66 Q1637.22 1461.2 1637.22 1468.33 Q1637.22 1475.44 1639.02 1479.01 Q1640.85 1482.55 1644.46 1482.55 Q1648.1 1482.55 1649.9 1479.01 Q1651.73 1475.44 1651.73 1468.33 Q1651.73 1461.2 1649.9 1457.66 Q1648.1 1454.1 1644.46 1454.1 M1644.46 1450.39 Q1650.27 1450.39 1653.33 1455 Q1656.41 1459.58 1656.41 1468.33 Q1656.41 1477.06 1653.33 1481.67 Q1650.27 1486.25 1644.46 1486.25 Q1638.65 1486.25 1635.57 1481.67 Q1632.52 1477.06 1632.52 1468.33 Q1632.52 1459.58 1635.57 1455 Q1638.65 1450.39 1644.46 1450.39 Z\" fill=\"#000000\" fill-rule=\"evenodd\" fill-opacity=\"1\" /><path clip-path=\"url(#clip110)\" d=\"M2274.62 1481.64 L2282.26 1481.64 L2282.26 1455.28 L2273.95 1456.95 L2273.95 1452.69 L2282.21 1451.02 L2286.89 1451.02 L2286.89 1481.64 L2294.53 1481.64 L2294.53 1485.58 L2274.62 1485.58 L2274.62 1481.64 Z\" fill=\"#000000\" fill-rule=\"evenodd\" fill-opacity=\"1\" /><path clip-path=\"url(#clip110)\" d=\"M2304.02 1451.02 L2322.38 1451.02 L2322.38 1454.96 L2308.3 1454.96 L2308.3 1463.43 Q2309.32 1463.08 2310.34 1462.92 Q2311.36 1462.73 2312.38 1462.73 Q2318.16 1462.73 2321.54 1465.9 Q2324.92 1469.08 2324.92 1474.49 Q2324.92 1480.07 2321.45 1483.17 Q2317.98 1486.25 2311.66 1486.25 Q2309.48 1486.25 2307.21 1485.88 Q2304.97 1485.51 2302.56 1484.77 L2302.56 1480.07 Q2304.64 1481.2 2306.87 1481.76 Q2309.09 1482.32 2311.57 1482.32 Q2315.57 1482.32 2317.91 1480.21 Q2320.25 1478.1 2320.25 1474.49 Q2320.25 1470.88 2317.91 1468.77 Q2315.57 1466.67 2311.57 1466.67 Q2309.69 1466.67 2307.82 1467.08 Q2305.96 1467.5 2304.02 1468.38 L2304.02 1451.02 Z\" fill=\"#000000\" fill-rule=\"evenodd\" fill-opacity=\"1\" /><path clip-path=\"url(#clip110)\" d=\"M1180.03 1522.27 L1180.03 1532.4 L1192.09 1532.4 L1192.09 1536.95 L1180.03 1536.95 L1180.03 1556.3 Q1180.03 1560.66 1181.2 1561.9 Q1182.41 1563.14 1186.07 1563.14 L1192.09 1563.14 L1192.09 1568.04 L1186.07 1568.04 Q1179.29 1568.04 1176.72 1565.53 Q1174.14 1562.98 1174.14 1556.3 L1174.14 1536.95 L1169.84 1536.95 L1169.84 1532.4 L1174.14 1532.4 L1174.14 1522.27 L1180.03 1522.27 Z\" fill=\"#000000\" fill-rule=\"evenodd\" fill-opacity=\"1\" /><path clip-path=\"url(#clip110)\" d=\"M1199.79 1532.4 L1205.65 1532.4 L1205.65 1568.04 L1199.79 1568.04 L1199.79 1532.4 M1199.79 1518.52 L1205.65 1518.52 L1205.65 1525.93 L1199.79 1525.93 L1199.79 1518.52 Z\" fill=\"#000000\" fill-rule=\"evenodd\" fill-opacity=\"1\" /><path clip-path=\"url(#clip110)\" d=\"M1245.66 1539.24 Q1247.85 1535.29 1250.91 1533.41 Q1253.96 1531.54 1258.1 1531.54 Q1263.67 1531.54 1266.7 1535.45 Q1269.72 1539.33 1269.72 1546.53 L1269.72 1568.04 L1263.83 1568.04 L1263.83 1546.72 Q1263.83 1541.59 1262.02 1539.11 Q1260.2 1536.63 1256.48 1536.63 Q1251.93 1536.63 1249.29 1539.65 Q1246.64 1542.68 1246.64 1547.9 L1246.64 1568.04 L1240.76 1568.04 L1240.76 1546.72 Q1240.76 1541.56 1238.94 1539.11 Q1237.13 1536.63 1233.34 1536.63 Q1228.85 1536.63 1226.21 1539.68 Q1223.57 1542.71 1223.57 1547.9 L1223.57 1568.04 L1217.68 1568.04 L1217.68 1532.4 L1223.57 1532.4 L1223.57 1537.93 Q1225.57 1534.66 1228.37 1533.1 Q1231.18 1531.54 1235.03 1531.54 Q1238.91 1531.54 1241.62 1533.51 Q1244.35 1535.48 1245.66 1539.24 Z\" fill=\"#000000\" fill-rule=\"evenodd\" fill-opacity=\"1\" /><path clip-path=\"url(#clip110)\" d=\"M1311.89 1548.76 L1311.89 1551.62 L1284.97 1551.62 Q1285.35 1557.67 1288.59 1560.85 Q1291.87 1564 1297.7 1564 Q1301.07 1564 1304.22 1563.17 Q1307.4 1562.35 1310.52 1560.69 L1310.52 1566.23 Q1307.37 1567.57 1304.06 1568.27 Q1300.75 1568.97 1297.35 1568.97 Q1288.82 1568.97 1283.82 1564 Q1278.85 1559.04 1278.85 1550.57 Q1278.85 1541.82 1283.57 1536.69 Q1288.31 1531.54 1296.33 1531.54 Q1303.52 1531.54 1307.69 1536.18 Q1311.89 1540.8 1311.89 1548.76 M1306.04 1547.04 Q1305.97 1542.23 1303.33 1539.37 Q1300.72 1536.5 1296.39 1536.5 Q1291.49 1536.5 1288.53 1539.27 Q1285.6 1542.04 1285.16 1547.07 L1306.04 1547.04 Z\" fill=\"#000000\" fill-rule=\"evenodd\" fill-opacity=\"1\" /><path clip-path=\"url(#clip110)\" d=\"M1356.29 1518.58 Q1352.03 1525.9 1349.96 1533.06 Q1347.89 1540.23 1347.89 1547.58 Q1347.89 1554.93 1349.96 1562.16 Q1352.06 1569.35 1356.29 1576.64 L1351.2 1576.64 Q1346.43 1569.16 1344.04 1561.93 Q1341.68 1554.71 1341.68 1547.58 Q1341.68 1540.48 1344.04 1533.29 Q1346.39 1526.09 1351.2 1518.58 L1356.29 1518.58 Z\" fill=\"#000000\" fill-rule=\"evenodd\" fill-opacity=\"1\" /><path clip-path=\"url(#clip110)\" d=\"M1390.38 1533.45 L1390.38 1538.98 Q1387.9 1537.71 1385.23 1537.07 Q1382.55 1536.44 1379.69 1536.44 Q1375.33 1536.44 1373.13 1537.77 Q1370.97 1539.11 1370.97 1541.79 Q1370.97 1543.82 1372.53 1545 Q1374.09 1546.15 1378.8 1547.2 L1380.8 1547.64 Q1387.04 1548.98 1389.65 1551.43 Q1392.29 1553.85 1392.29 1558.21 Q1392.29 1563.17 1388.34 1566.07 Q1384.43 1568.97 1377.55 1568.97 Q1374.69 1568.97 1371.57 1568.39 Q1368.48 1567.85 1365.05 1566.74 L1365.05 1560.69 Q1368.29 1562.38 1371.44 1563.24 Q1374.59 1564.07 1377.68 1564.07 Q1381.82 1564.07 1384.05 1562.66 Q1386.28 1561.23 1386.28 1558.65 Q1386.28 1556.27 1384.65 1554.99 Q1383.06 1553.72 1377.62 1552.54 L1375.58 1552.07 Q1370.14 1550.92 1367.72 1548.56 Q1365.3 1546.18 1365.3 1542.04 Q1365.3 1537.01 1368.87 1534.27 Q1372.43 1531.54 1378.99 1531.54 Q1382.23 1531.54 1385.1 1532.01 Q1387.96 1532.49 1390.38 1533.45 Z\" fill=\"#000000\" fill-rule=\"evenodd\" fill-opacity=\"1\" /><path clip-path=\"url(#clip110)\" d=\"M1400.69 1518.58 L1405.79 1518.58 Q1410.56 1526.09 1412.92 1533.29 Q1415.3 1540.48 1415.3 1547.58 Q1415.3 1554.71 1412.92 1561.93 Q1410.56 1569.16 1405.79 1576.64 L1400.69 1576.64 Q1404.93 1569.35 1407 1562.16 Q1409.1 1554.93 1409.1 1547.58 Q1409.1 1540.23 1407 1533.06 Q1404.93 1525.9 1400.69 1518.58 Z\" fill=\"#000000\" fill-rule=\"evenodd\" fill-opacity=\"1\" /><polyline clip-path=\"url(#clip112)\" style=\"stroke:#000000; stroke-linecap:round; stroke-linejoin:round; stroke-width:2; stroke-opacity:0.1; fill:none\" points=\"232.389,1319.91 2352.76,1319.91 \"/>\n",
       "<polyline clip-path=\"url(#clip112)\" style=\"stroke:#000000; stroke-linecap:round; stroke-linejoin:round; stroke-width:2; stroke-opacity:0.1; fill:none\" points=\"232.389,1045.42 2352.76,1045.42 \"/>\n",
       "<polyline clip-path=\"url(#clip112)\" style=\"stroke:#000000; stroke-linecap:round; stroke-linejoin:round; stroke-width:2; stroke-opacity:0.1; fill:none\" points=\"232.389,770.925 2352.76,770.925 \"/>\n",
       "<polyline clip-path=\"url(#clip112)\" style=\"stroke:#000000; stroke-linecap:round; stroke-linejoin:round; stroke-width:2; stroke-opacity:0.1; fill:none\" points=\"232.389,496.431 2352.76,496.431 \"/>\n",
       "<polyline clip-path=\"url(#clip112)\" style=\"stroke:#000000; stroke-linecap:round; stroke-linejoin:round; stroke-width:2; stroke-opacity:0.1; fill:none\" points=\"232.389,221.937 2352.76,221.937 \"/>\n",
       "<polyline clip-path=\"url(#clip110)\" style=\"stroke:#000000; stroke-linecap:round; stroke-linejoin:round; stroke-width:4; stroke-opacity:1; fill:none\" points=\"232.389,1423.18 232.389,123.472 \"/>\n",
       "<polyline clip-path=\"url(#clip110)\" style=\"stroke:#000000; stroke-linecap:round; stroke-linejoin:round; stroke-width:4; stroke-opacity:1; fill:none\" points=\"232.389,1319.91 251.287,1319.91 \"/>\n",
       "<polyline clip-path=\"url(#clip110)\" style=\"stroke:#000000; stroke-linecap:round; stroke-linejoin:round; stroke-width:4; stroke-opacity:1; fill:none\" points=\"232.389,1045.42 251.287,1045.42 \"/>\n",
       "<polyline clip-path=\"url(#clip110)\" style=\"stroke:#000000; stroke-linecap:round; stroke-linejoin:round; stroke-width:4; stroke-opacity:1; fill:none\" points=\"232.389,770.925 251.287,770.925 \"/>\n",
       "<polyline clip-path=\"url(#clip110)\" style=\"stroke:#000000; stroke-linecap:round; stroke-linejoin:round; stroke-width:4; stroke-opacity:1; fill:none\" points=\"232.389,496.431 251.287,496.431 \"/>\n",
       "<polyline clip-path=\"url(#clip110)\" style=\"stroke:#000000; stroke-linecap:round; stroke-linejoin:round; stroke-width:4; stroke-opacity:1; fill:none\" points=\"232.389,221.937 251.287,221.937 \"/>\n",
       "<path clip-path=\"url(#clip110)\" d=\"M184.445 1305.71 Q180.834 1305.71 179.005 1309.28 Q177.2 1312.82 177.2 1319.95 Q177.2 1327.05 179.005 1330.62 Q180.834 1334.16 184.445 1334.16 Q188.079 1334.16 189.885 1330.62 Q191.713 1327.05 191.713 1319.95 Q191.713 1312.82 189.885 1309.28 Q188.079 1305.71 184.445 1305.71 M184.445 1302.01 Q190.255 1302.01 193.311 1306.62 Q196.389 1311.2 196.389 1319.95 Q196.389 1328.68 193.311 1333.28 Q190.255 1337.86 184.445 1337.86 Q178.635 1337.86 175.556 1333.28 Q172.501 1328.68 172.501 1319.95 Q172.501 1311.2 175.556 1306.62 Q178.635 1302.01 184.445 1302.01 Z\" fill=\"#000000\" fill-rule=\"evenodd\" fill-opacity=\"1\" /><path clip-path=\"url(#clip110)\" d=\"M149.306 1058.76 L165.626 1058.76 L165.626 1062.7 L143.681 1062.7 L143.681 1058.76 Q146.343 1056.01 150.927 1051.38 Q155.533 1046.73 156.714 1045.38 Q158.959 1042.86 159.839 1041.13 Q160.741 1039.37 160.741 1037.68 Q160.741 1034.92 158.797 1033.19 Q156.876 1031.45 153.774 1031.45 Q151.575 1031.45 149.121 1032.21 Q146.691 1032.98 143.913 1034.53 L143.913 1029.81 Q146.737 1028.67 149.191 1028.09 Q151.644 1027.51 153.681 1027.51 Q159.052 1027.51 162.246 1030.2 Q165.44 1032.88 165.44 1037.38 Q165.44 1039.51 164.63 1041.43 Q163.843 1043.32 161.737 1045.92 Q161.158 1046.59 158.056 1049.81 Q154.954 1053 149.306 1058.76 Z\" fill=\"#000000\" fill-rule=\"evenodd\" fill-opacity=\"1\" /><path clip-path=\"url(#clip110)\" d=\"M175.487 1028.14 L193.843 1028.14 L193.843 1032.07 L179.769 1032.07 L179.769 1040.55 Q180.788 1040.2 181.806 1040.04 Q182.825 1039.85 183.843 1039.85 Q189.63 1039.85 193.01 1043.02 Q196.389 1046.19 196.389 1051.61 Q196.389 1057.19 192.917 1060.29 Q189.445 1063.37 183.126 1063.37 Q180.95 1063.37 178.681 1063 Q176.436 1062.63 174.028 1061.89 L174.028 1057.19 Q176.112 1058.32 178.334 1058.88 Q180.556 1059.44 183.033 1059.44 Q187.038 1059.44 189.375 1057.33 Q191.713 1055.22 191.713 1051.61 Q191.713 1048 189.375 1045.89 Q187.038 1043.79 183.033 1043.79 Q181.158 1043.79 179.283 1044.2 Q177.431 1044.62 175.487 1045.5 L175.487 1028.14 Z\" fill=\"#000000\" fill-rule=\"evenodd\" fill-opacity=\"1\" /><path clip-path=\"url(#clip110)\" d=\"M144.329 753.645 L162.686 753.645 L162.686 757.58 L148.612 757.58 L148.612 766.053 Q149.63 765.705 150.649 765.543 Q151.667 765.358 152.686 765.358 Q158.473 765.358 161.852 768.529 Q165.232 771.701 165.232 777.117 Q165.232 782.696 161.76 785.798 Q158.288 788.877 151.968 788.877 Q149.792 788.877 147.524 788.506 Q145.279 788.136 142.871 787.395 L142.871 782.696 Q144.954 783.83 147.177 784.386 Q149.399 784.941 151.876 784.941 Q155.88 784.941 158.218 782.835 Q160.556 780.728 160.556 777.117 Q160.556 773.506 158.218 771.4 Q155.88 769.293 151.876 769.293 Q150.001 769.293 148.126 769.71 Q146.274 770.127 144.329 771.006 L144.329 753.645 Z\" fill=\"#000000\" fill-rule=\"evenodd\" fill-opacity=\"1\" /><path clip-path=\"url(#clip110)\" d=\"M184.445 756.724 Q180.834 756.724 179.005 760.289 Q177.2 763.83 177.2 770.96 Q177.2 778.066 179.005 781.631 Q180.834 785.173 184.445 785.173 Q188.079 785.173 189.885 781.631 Q191.713 778.066 191.713 770.96 Q191.713 763.83 189.885 760.289 Q188.079 756.724 184.445 756.724 M184.445 753.02 Q190.255 753.02 193.311 757.627 Q196.389 762.21 196.389 770.96 Q196.389 779.687 193.311 784.293 Q190.255 788.877 184.445 788.877 Q178.635 788.877 175.556 784.293 Q172.501 779.687 172.501 770.96 Q172.501 762.21 175.556 757.627 Q178.635 753.02 184.445 753.02 Z\" fill=\"#000000\" fill-rule=\"evenodd\" fill-opacity=\"1\" /><path clip-path=\"url(#clip110)\" d=\"M144.098 479.151 L166.32 479.151 L166.32 481.142 L153.774 513.711 L148.89 513.711 L160.695 483.086 L144.098 483.086 L144.098 479.151 Z\" fill=\"#000000\" fill-rule=\"evenodd\" fill-opacity=\"1\" /><path clip-path=\"url(#clip110)\" d=\"M175.487 479.151 L193.843 479.151 L193.843 483.086 L179.769 483.086 L179.769 491.558 Q180.788 491.211 181.806 491.049 Q182.825 490.864 183.843 490.864 Q189.63 490.864 193.01 494.035 Q196.389 497.207 196.389 502.623 Q196.389 508.202 192.917 511.304 Q189.445 514.382 183.126 514.382 Q180.95 514.382 178.681 514.012 Q176.436 513.642 174.028 512.901 L174.028 508.202 Q176.112 509.336 178.334 509.892 Q180.556 510.447 183.033 510.447 Q187.038 510.447 189.375 508.341 Q191.713 506.234 191.713 502.623 Q191.713 499.012 189.375 496.906 Q187.038 494.799 183.033 494.799 Q181.158 494.799 179.283 495.216 Q177.431 495.633 175.487 496.512 L175.487 479.151 Z\" fill=\"#000000\" fill-rule=\"evenodd\" fill-opacity=\"1\" /><path clip-path=\"url(#clip110)\" d=\"M114.931 235.282 L122.57 235.282 L122.57 208.916 L114.26 210.583 L114.26 206.324 L122.524 204.657 L127.2 204.657 L127.2 235.282 L134.839 235.282 L134.839 239.217 L114.931 239.217 L114.931 235.282 Z\" fill=\"#000000\" fill-rule=\"evenodd\" fill-opacity=\"1\" /><path clip-path=\"url(#clip110)\" d=\"M154.283 207.736 Q150.672 207.736 148.843 211.3 Q147.038 214.842 147.038 221.972 Q147.038 229.078 148.843 232.643 Q150.672 236.185 154.283 236.185 Q157.917 236.185 159.723 232.643 Q161.552 229.078 161.552 221.972 Q161.552 214.842 159.723 211.3 Q157.917 207.736 154.283 207.736 M154.283 204.032 Q160.093 204.032 163.149 208.638 Q166.227 213.222 166.227 221.972 Q166.227 230.698 163.149 235.305 Q160.093 239.888 154.283 239.888 Q148.473 239.888 145.394 235.305 Q142.339 230.698 142.339 221.972 Q142.339 213.222 145.394 208.638 Q148.473 204.032 154.283 204.032 Z\" fill=\"#000000\" fill-rule=\"evenodd\" fill-opacity=\"1\" /><path clip-path=\"url(#clip110)\" d=\"M184.445 207.736 Q180.834 207.736 179.005 211.3 Q177.2 214.842 177.2 221.972 Q177.2 229.078 179.005 232.643 Q180.834 236.185 184.445 236.185 Q188.079 236.185 189.885 232.643 Q191.713 229.078 191.713 221.972 Q191.713 214.842 189.885 211.3 Q188.079 207.736 184.445 207.736 M184.445 204.032 Q190.255 204.032 193.311 208.638 Q196.389 213.222 196.389 221.972 Q196.389 230.698 193.311 235.305 Q190.255 239.888 184.445 239.888 Q178.635 239.888 175.556 235.305 Q172.501 230.698 172.501 221.972 Q172.501 213.222 175.556 208.638 Q178.635 204.032 184.445 204.032 Z\" fill=\"#000000\" fill-rule=\"evenodd\" fill-opacity=\"1\" /><path clip-path=\"url(#clip110)\" d=\"M49.9359 788.254 L28.3562 788.254 L28.3562 782.397 L49.7131 782.397 Q54.7739 782.397 57.3202 780.424 Q59.8346 778.45 59.8346 774.504 Q59.8346 769.761 56.8109 767.024 Q53.7872 764.255 48.5673 764.255 L28.3562 764.255 L28.3562 758.398 L64.0042 758.398 L64.0042 764.255 L58.5296 764.255 Q61.7762 766.387 63.3676 769.22 Q64.9272 772.021 64.9272 775.745 Q64.9272 781.888 61.1078 785.071 Q57.2883 788.254 49.9359 788.254 M27.4968 773.517 L27.4968 773.517 Z\" fill=\"#000000\" fill-rule=\"evenodd\" fill-opacity=\"1\" /><path clip-path=\"url(#clip110)\" d=\"M1029.71 12.096 L1037.89 12.096 L1037.89 72.576 L1029.71 72.576 L1029.71 12.096 Z\" fill=\"#000000\" fill-rule=\"evenodd\" fill-opacity=\"1\" /><path clip-path=\"url(#clip110)\" d=\"M1091.57 45.1919 L1091.57 72.576 L1084.11 72.576 L1084.11 45.4349 Q1084.11 38.994 1081.6 35.7938 Q1079.09 32.5936 1074.07 32.5936 Q1068.03 32.5936 1064.55 36.4419 Q1061.06 40.2903 1061.06 46.9338 L1061.06 72.576 L1053.57 72.576 L1053.57 27.2059 L1061.06 27.2059 L1061.06 34.2544 Q1063.74 30.163 1067.34 28.1376 Q1070.99 26.1121 1075.73 26.1121 Q1083.55 26.1121 1087.56 30.9732 Q1091.57 35.7938 1091.57 45.1919 Z\" fill=\"#000000\" fill-rule=\"evenodd\" fill-opacity=\"1\" /><path clip-path=\"url(#clip110)\" d=\"M1113.64 65.7705 L1113.64 89.8329 L1106.15 89.8329 L1106.15 27.2059 L1113.64 27.2059 L1113.64 34.0924 Q1115.99 30.0415 1119.56 28.0971 Q1123.16 26.1121 1128.15 26.1121 Q1136.41 26.1121 1141.55 32.6746 Q1146.74 39.2371 1146.74 49.9314 Q1146.74 60.6258 1141.55 67.1883 Q1136.41 73.7508 1128.15 73.7508 Q1123.16 73.7508 1119.56 71.8063 Q1115.99 69.8214 1113.64 65.7705 M1139 49.9314 Q1139 41.7081 1135.6 37.0496 Q1132.24 32.3505 1126.32 32.3505 Q1120.41 32.3505 1117.01 37.0496 Q1113.64 41.7081 1113.64 49.9314 Q1113.64 58.1548 1117.01 62.8538 Q1120.41 67.5124 1126.32 67.5124 Q1132.24 67.5124 1135.6 62.8538 Q1139 58.1548 1139 49.9314 Z\" fill=\"#000000\" fill-rule=\"evenodd\" fill-opacity=\"1\" /><path clip-path=\"url(#clip110)\" d=\"M1158.33 54.671 L1158.33 27.2059 L1165.78 27.2059 L1165.78 54.3874 Q1165.78 60.8284 1168.29 64.0691 Q1170.8 67.2693 1175.83 67.2693 Q1181.86 67.2693 1185.35 63.421 Q1188.87 59.5726 1188.87 52.9291 L1188.87 27.2059 L1196.32 27.2059 L1196.32 72.576 L1188.87 72.576 L1188.87 65.6084 Q1186.16 69.7404 1182.55 71.7658 Q1178.99 73.7508 1174.25 73.7508 Q1166.43 73.7508 1162.38 68.8897 Q1158.33 64.0286 1158.33 54.671 M1177.08 26.1121 L1177.08 26.1121 Z\" fill=\"#000000\" fill-rule=\"evenodd\" fill-opacity=\"1\" /><path clip-path=\"url(#clip110)\" d=\"M1219.05 14.324 L1219.05 27.2059 L1234.4 27.2059 L1234.4 32.9987 L1219.05 32.9987 L1219.05 57.6282 Q1219.05 63.1779 1220.55 64.7578 Q1222.09 66.3376 1226.75 66.3376 L1234.4 66.3376 L1234.4 72.576 L1226.75 72.576 Q1218.12 72.576 1214.84 69.3758 Q1211.55 66.1351 1211.55 57.6282 L1211.55 32.9987 L1206.09 32.9987 L1206.09 27.2059 L1211.55 27.2059 L1211.55 14.324 L1219.05 14.324 Z\" fill=\"#000000\" fill-rule=\"evenodd\" fill-opacity=\"1\" /><path clip-path=\"url(#clip110)\" d=\"M1270.9 12.096 L1279.08 12.096 L1279.08 36.8875 L1308.82 36.8875 L1308.82 12.096 L1317 12.096 L1317 72.576 L1308.82 72.576 L1308.82 43.7741 L1279.08 43.7741 L1279.08 72.576 L1270.9 72.576 L1270.9 12.096 Z\" fill=\"#000000\" fill-rule=\"evenodd\" fill-opacity=\"1\" /><path clip-path=\"url(#clip110)\" d=\"M1332.96 27.2059 L1340.41 27.2059 L1340.41 72.576 L1332.96 72.576 L1332.96 27.2059 M1332.96 9.54393 L1340.41 9.54393 L1340.41 18.9825 L1332.96 18.9825 L1332.96 9.54393 Z\" fill=\"#000000\" fill-rule=\"evenodd\" fill-opacity=\"1\" /><path clip-path=\"url(#clip110)\" d=\"M1384.93 28.5427 L1384.93 35.5912 Q1381.77 33.9709 1378.37 33.1607 Q1374.97 32.3505 1371.32 32.3505 Q1365.77 32.3505 1362.98 34.0519 Q1360.22 35.7533 1360.22 39.156 Q1360.22 41.7486 1362.21 43.2475 Q1364.19 44.7058 1370.19 46.0426 L1372.74 46.6097 Q1380.68 48.3111 1384 51.4303 Q1387.36 54.509 1387.36 60.0587 Q1387.36 66.3781 1382.34 70.0644 Q1377.36 73.7508 1368.61 73.7508 Q1364.96 73.7508 1360.99 73.0216 Q1357.06 72.3329 1352.69 70.9151 L1352.69 63.2184 Q1356.82 65.3654 1360.83 66.4591 Q1364.84 67.5124 1368.77 67.5124 Q1374.04 67.5124 1376.87 65.73 Q1379.71 63.9071 1379.71 60.6258 Q1379.71 57.5877 1377.64 55.9673 Q1375.62 54.3469 1368.69 52.8481 L1366.1 52.2405 Q1359.17 50.7821 1356.09 47.7845 Q1353.01 44.7463 1353.01 39.4801 Q1353.01 33.0797 1357.55 29.5959 Q1362.09 26.1121 1370.43 26.1121 Q1374.56 26.1121 1378.21 26.7198 Q1381.85 27.3274 1384.93 28.5427 Z\" fill=\"#000000\" fill-rule=\"evenodd\" fill-opacity=\"1\" /><path clip-path=\"url(#clip110)\" d=\"M1406.61 14.324 L1406.61 27.2059 L1421.96 27.2059 L1421.96 32.9987 L1406.61 32.9987 L1406.61 57.6282 Q1406.61 63.1779 1408.1 64.7578 Q1409.64 66.3376 1414.3 66.3376 L1421.96 66.3376 L1421.96 72.576 L1414.3 72.576 Q1405.67 72.576 1402.39 69.3758 Q1399.11 66.1351 1399.11 57.6282 L1399.11 32.9987 L1393.64 32.9987 L1393.64 27.2059 L1399.11 27.2059 L1399.11 14.324 L1406.61 14.324 Z\" fill=\"#000000\" fill-rule=\"evenodd\" fill-opacity=\"1\" /><path clip-path=\"url(#clip110)\" d=\"M1449.34 32.4315 Q1443.35 32.4315 1439.86 37.1306 Q1436.38 41.7891 1436.38 49.9314 Q1436.38 58.0738 1439.82 62.7728 Q1443.31 67.4314 1449.34 67.4314 Q1455.3 67.4314 1458.78 62.7323 Q1462.27 58.0333 1462.27 49.9314 Q1462.27 41.8701 1458.78 37.1711 Q1455.3 32.4315 1449.34 32.4315 M1449.34 26.1121 Q1459.06 26.1121 1464.61 32.4315 Q1470.16 38.7509 1470.16 49.9314 Q1470.16 61.0714 1464.61 67.4314 Q1459.06 73.7508 1449.34 73.7508 Q1439.58 73.7508 1434.03 67.4314 Q1428.52 61.0714 1428.52 49.9314 Q1428.52 38.7509 1434.03 32.4315 Q1439.58 26.1121 1449.34 26.1121 Z\" fill=\"#000000\" fill-rule=\"evenodd\" fill-opacity=\"1\" /><path clip-path=\"url(#clip110)\" d=\"M1508.81 34.1734 Q1507.55 33.4443 1506.06 33.1202 Q1504.6 32.7556 1502.81 32.7556 Q1496.5 32.7556 1493.09 36.8875 Q1489.73 40.9789 1489.73 48.6757 L1489.73 72.576 L1482.24 72.576 L1482.24 27.2059 L1489.73 27.2059 L1489.73 34.2544 Q1492.08 30.1225 1495.85 28.1376 Q1499.61 26.1121 1505 26.1121 Q1505.77 26.1121 1506.7 26.2337 Q1507.64 26.3147 1508.77 26.5172 L1508.81 34.1734 Z\" fill=\"#000000\" fill-rule=\"evenodd\" fill-opacity=\"1\" /><path clip-path=\"url(#clip110)\" d=\"M1535.51 76.7889 Q1532.35 84.8907 1529.35 87.3618 Q1526.35 89.8329 1521.33 89.8329 L1515.37 89.8329 L1515.37 83.5945 L1519.75 83.5945 Q1522.83 83.5945 1524.53 82.1361 Q1526.23 80.6778 1528.29 75.2496 L1529.63 71.8468 L1511.28 27.2059 L1519.18 27.2059 L1533.36 62.6918 L1547.54 27.2059 L1555.44 27.2059 L1535.51 76.7889 Z\" fill=\"#000000\" fill-rule=\"evenodd\" fill-opacity=\"1\" /><polyline clip-path=\"url(#clip112)\" style=\"stroke:#009af9; stroke-linecap:round; stroke-linejoin:round; stroke-width:4; stroke-opacity:1; fill:none\" points=\"292.4,1241.95 299.09,1242.58 305.78,1243.21 312.47,1243.85 319.16,1244.47 325.85,1244.95 332.54,1245.74 339.231,1245.9 345.921,1246.34 352.611,1246.74 359.301,1247.13 365.991,1247.53 372.681,1247.91 379.371,1248.28 386.061,1248.65 392.752,1249.02 399.442,1249.39 406.132,1249.76 412.822,1250.13 419.512,1250.5 426.202,1250.87 432.892,1251.24 439.582,1251.61 446.272,1251.98 452.963,1252.35 459.653,1252.72 466.343,1253.09 473.033,1253.46 479.723,1253.83 486.413,1254.2 493.103,1254.57 499.793,1254.94 506.484,1255.31 513.174,1255.68 519.864,1256.05 526.554,1256.42 533.244,1256.79 539.934,1257.16 546.624,1257.53 553.314,1257.9 560.005,1258.27 566.695,1258.64 573.385,1259.01 580.075,1259.38 586.765,1259.75 593.455,1260.12 600.145,1260.49 606.835,1260.86 613.525,1261.23 620.216,1261.6 626.906,1261.97 633.596,1262.34 640.286,1262.71 646.976,1263.08 653.666,1263.45 660.356,1263.82 667.046,1264.19 673.737,1264.56 680.427,1264.92 687.117,1265.29 693.807,1265.66 700.497,1266.03 707.187,1266.4 713.877,1266.77 720.567,1267.14 727.258,1267.51 733.948,1267.87 740.638,1268.24 747.328,1268.61 754.018,1268.98 760.708,1269.35 767.398,1269.72 774.088,1270.08 780.778,1270.45 787.469,1270.82 794.159,1271.19 800.849,1271.55 807.539,1271.92 814.229,1272.29 820.919,1272.66 827.609,1273.02 834.299,1273.39 840.99,1273.76 847.68,1274.13 854.37,1274.49 861.06,1274.86 867.75,1275.23 874.44,1275.59 881.13,1275.96 887.82,1276.32 894.511,1276.69 901.201,1277.06 907.891,1277.42 914.581,1277.79 921.271,1278.15 927.961,1278.52 934.651,1278.89 941.341,1279.25 948.031,1279.62 954.722,1279.98 961.412,1280.35 968.102,1280.71 974.792,1281.08 981.482,1281.44 988.172,1281.81 994.862,1282.17 1001.55,1282.54 1008.24,1282.9 1014.93,1283.27 1021.62,1283.63 1028.31,1283.99 1035,1284.36 1041.69,1284.72 1048.38,1285.09 1055.07,1285.45 1061.76,1285.81 1068.45,1286.18 1075.14,1286.54 1081.83,1286.9 1088.52,1287.27 1095.21,1287.63 1101.9,1287.99 1108.59,1288.35 1115.28,1288.72 1121.97,1289.08 1128.66,1289.44 1135.35,1289.8 1142.04,1290.17 1148.74,1290.53 1155.43,1290.89 1162.12,1291.25 1168.81,1291.62 1175.5,1291.98 1182.19,1292.34 1188.88,1292.7 1195.57,1293.06 1202.26,1293.42 1208.95,1293.78 1215.64,1294.14 1222.33,1294.51 1229.02,1294.87 1235.71,1295.23 1242.4,1295.59 1249.09,1295.95 1255.78,1296.31 1262.47,1296.67 1269.16,1297.03 1275.85,1297.39 1282.54,1297.75 1289.23,1298.11 1295.92,1298.47 1302.61,1298.83 1309.3,1299.19 1315.99,1299.55 1322.68,1299.91 1329.37,1300.27 1336.06,1300.63 1342.75,1300.99 1349.44,1301.35 1356.13,1301.7 1362.82,1302.06 1369.51,1302.42 1376.2,1302.78 1382.89,1303.14 1389.58,1303.5 1396.27,1303.86 1402.96,1304.21 1409.65,1304.57 1416.34,1304.93 1423.03,1305.29 1429.72,1305.65 1436.41,1306.01 1443.1,1306.36 1449.79,1306.72 1456.48,1307.08 1463.17,1307.44 1469.86,1307.79 1476.55,1308.15 1483.24,1308.51 1489.93,1308.87 1496.62,1309.22 1503.31,1309.58 1510,1309.94 1516.69,1310.29 1523.38,1310.65 1530.07,1311.01 1536.76,1311.36 1543.45,1311.72 1550.14,1312.08 1556.83,1312.43 1563.52,1312.79 1570.21,1313.15 1576.9,1313.5 1583.59,1313.86 1590.28,1314.22 1596.97,1314.57 1603.66,1314.93 1610.35,1315.28 1617.04,1315.64 1623.73,1316 1630.42,1316.35 1637.11,1316.71 1643.8,1317.06 1650.49,1317.42 1657.18,1317.77 1663.87,1318.13 1670.56,1318.49 1677.25,1318.84 1683.94,1319.2 1690.63,1319.55 1697.32,1319.91 1704.01,1320.26 1710.71,1320.62 1717.4,1320.97 1724.09,1321.33 1730.78,1321.68 1737.47,1322.04 1744.16,1322.39 1750.85,1322.75 1757.54,1323.1 1764.23,1323.46 1770.92,1323.81 1777.61,1324.17 1784.3,1324.52 1790.99,1324.88 1797.68,1325.23 1804.37,1325.59 1811.06,1325.94 1817.75,1326.29 1824.44,1326.65 1831.13,1327 1837.82,1327.36 1844.51,1327.71 1851.2,1328.07 1857.89,1328.42 1864.58,1328.78 1871.27,1329.13 1877.96,1329.48 1884.65,1329.84 1891.34,1330.19 1898.03,1330.55 1904.72,1330.9 1911.41,1331.25 1918.1,1331.61 1924.79,1331.96 1931.48,1332.32 1938.17,1332.67 1944.86,1333.03 1951.55,1333.38 1958.24,1333.73 1964.93,1334.09 1971.62,1334.44 1978.31,1334.79 1985,1335.15 1991.69,1335.5 1998.38,1335.86 2005.07,1336.21 2011.76,1336.56 2018.45,1336.92 2025.14,1337.27 2031.83,1337.63 2038.52,1337.98 2045.21,1338.33 2051.9,1338.69 2058.59,1339.04 2065.28,1339.4 2071.97,1339.75 2078.66,1340.1 2085.35,1340.46 2092.04,1340.81 2098.73,1341.16 2105.42,1341.52 2112.11,1341.87 2118.8,1342.23 2125.49,1342.58 2132.18,1342.93 2138.87,1343.29 2145.56,1343.64 2152.25,1344 2158.94,1344.35 2165.63,1344.7 2172.32,1345.06 2179.01,1345.41 2185.7,1345.76 2192.39,1346.12 2199.08,1346.47 2205.77,1346.83 2212.46,1347.18 2219.15,1347.53 2225.84,1347.89 2232.53,1348.24 2239.22,1348.59 2245.91,1348.95 2252.6,1349.3 2259.29,1349.66 2265.99,1350.01 2272.68,1350.36 2279.37,1350.72 2286.06,1351.07 2292.75,1351.43 \"/>\n",
       "<polyline clip-path=\"url(#clip112)\" style=\"stroke:#e26f46; stroke-linecap:round; stroke-linejoin:round; stroke-width:4; stroke-opacity:1; fill:none\" points=\"292.4,1386.4 299.09,1385.81 305.78,1385.23 312.47,1384.65 319.16,1384.08 325.85,1383.63 332.54,1382.91 339.231,1382.74 345.921,1382.33 352.611,1381.95 359.301,1381.58 365.991,1381.2 372.681,1380.85 379.371,1380.5 386.061,1380.15 392.752,1379.8 399.442,1379.45 406.132,1379.1 412.822,1378.75 419.512,1378.4 426.202,1378.05 432.892,1377.7 439.582,1377.35 446.272,1377 452.963,1376.65 459.653,1376.3 466.343,1375.96 473.033,1375.61 479.723,1375.26 486.413,1374.91 493.103,1374.56 499.793,1374.21 506.484,1373.87 513.174,1373.52 519.864,1373.17 526.554,1372.82 533.244,1372.48 539.934,1372.13 546.624,1371.78 553.314,1371.44 560.005,1371.09 566.695,1370.74 573.385,1370.4 580.075,1370.05 586.765,1369.7 593.455,1369.36 600.145,1369.01 606.835,1368.67 613.525,1368.32 620.216,1367.98 626.906,1367.63 633.596,1367.29 640.286,1366.94 646.976,1366.6 653.666,1366.25 660.356,1365.91 667.046,1365.56 673.737,1365.22 680.427,1364.88 687.117,1364.53 693.807,1364.19 700.497,1363.85 707.187,1363.5 713.877,1363.16 720.567,1362.82 727.258,1362.47 733.948,1362.13 740.638,1361.79 747.328,1361.45 754.018,1361.1 760.708,1360.76 767.398,1360.42 774.088,1360.08 780.778,1359.74 787.469,1359.4 794.159,1359.06 800.849,1358.71 807.539,1358.37 814.229,1358.03 820.919,1357.69 827.609,1357.35 834.299,1357.01 840.99,1356.67 847.68,1356.33 854.37,1355.99 861.06,1355.65 867.75,1355.32 874.44,1354.98 881.13,1354.64 887.82,1354.3 894.511,1353.96 901.201,1353.62 907.891,1353.28 914.581,1352.95 921.271,1352.61 927.961,1352.27 934.651,1351.93 941.341,1351.59 948.031,1351.26 954.722,1350.92 961.412,1350.58 968.102,1350.25 974.792,1349.91 981.482,1349.57 988.172,1349.24 994.862,1348.9 1001.55,1348.57 1008.24,1348.23 1014.93,1347.89 1021.62,1347.56 1028.31,1347.22 1035,1346.89 1041.69,1346.55 1048.38,1346.22 1055.07,1345.88 1061.76,1345.55 1068.45,1345.22 1075.14,1344.88 1081.83,1344.55 1088.52,1344.21 1095.21,1343.88 1101.9,1343.55 1108.59,1343.21 1115.28,1342.88 1121.97,1342.55 1128.66,1342.21 1135.35,1341.88 1142.04,1341.55 1148.74,1341.21 1155.43,1340.88 1162.12,1340.55 1168.81,1340.22 1175.5,1339.89 1182.19,1339.55 1188.88,1339.22 1195.57,1338.89 1202.26,1338.56 1208.95,1338.23 1215.64,1337.9 1222.33,1337.57 1229.02,1337.24 1235.71,1336.9 1242.4,1336.57 1249.09,1336.24 1255.78,1335.91 1262.47,1335.58 1269.16,1335.25 1275.85,1334.92 1282.54,1334.59 1289.23,1334.26 1295.92,1333.93 1302.61,1333.6 1309.3,1333.28 1315.99,1332.95 1322.68,1332.62 1329.37,1332.29 1336.06,1331.96 1342.75,1331.63 1349.44,1331.3 1356.13,1330.97 1362.82,1330.65 1369.51,1330.32 1376.2,1329.99 1382.89,1329.66 1389.58,1329.33 1396.27,1329.01 1402.96,1328.68 1409.65,1328.35 1416.34,1328.02 1423.03,1327.7 1429.72,1327.37 1436.41,1327.04 1443.1,1326.71 1449.79,1326.39 1456.48,1326.06 1463.17,1325.73 1469.86,1325.41 1476.55,1325.08 1483.24,1324.75 1489.93,1324.43 1496.62,1324.1 1503.31,1323.78 1510,1323.45 1516.69,1323.12 1523.38,1322.8 1530.07,1322.47 1536.76,1322.15 1543.45,1321.82 1550.14,1321.49 1556.83,1321.17 1563.52,1320.84 1570.21,1320.52 1576.9,1320.19 1583.59,1319.87 1590.28,1319.54 1596.97,1319.22 1603.66,1318.89 1610.35,1318.57 1617.04,1318.24 1623.73,1317.92 1630.42,1317.59 1637.11,1317.27 1643.8,1316.94 1650.49,1316.62 1657.18,1316.3 1663.87,1315.97 1670.56,1315.65 1677.25,1315.32 1683.94,1315 1690.63,1314.67 1697.32,1314.35 1704.01,1314.03 1710.71,1313.7 1717.4,1313.38 1724.09,1313.06 1730.78,1312.73 1737.47,1312.41 1744.16,1312.08 1750.85,1311.76 1757.54,1311.44 1764.23,1311.11 1770.92,1310.79 1777.61,1310.47 1784.3,1310.14 1790.99,1309.82 1797.68,1309.5 1804.37,1309.17 1811.06,1308.85 1817.75,1308.53 1824.44,1308.2 1831.13,1307.88 1837.82,1307.56 1844.51,1307.23 1851.2,1306.91 1857.89,1306.59 1864.58,1306.27 1871.27,1305.94 1877.96,1305.62 1884.65,1305.3 1891.34,1304.97 1898.03,1304.65 1904.72,1304.33 1911.41,1304.01 1918.1,1303.68 1924.79,1303.36 1931.48,1303.04 1938.17,1302.71 1944.86,1302.39 1951.55,1302.07 1958.24,1301.75 1964.93,1301.42 1971.62,1301.1 1978.31,1300.78 1985,1300.46 1991.69,1300.13 1998.38,1299.81 2005.07,1299.49 2011.76,1299.17 2018.45,1298.84 2025.14,1298.52 2031.83,1298.2 2038.52,1297.88 2045.21,1297.55 2051.9,1297.23 2058.59,1296.91 2065.28,1296.59 2071.97,1296.26 2078.66,1295.94 2085.35,1295.62 2092.04,1295.3 2098.73,1294.97 2105.42,1294.65 2112.11,1294.33 2118.8,1294.01 2125.49,1293.68 2132.18,1293.36 2138.87,1293.04 2145.56,1292.72 2152.25,1292.4 2158.94,1292.07 2165.63,1291.75 2172.32,1291.43 2179.01,1291.11 2185.7,1290.78 2192.39,1290.46 2199.08,1290.14 2205.77,1289.82 2212.46,1289.49 2219.15,1289.17 2225.84,1288.85 2232.53,1288.53 2239.22,1288.2 2245.91,1287.88 2252.6,1287.56 2259.29,1287.24 2265.99,1286.91 2272.68,1286.59 2279.37,1286.27 2286.06,1285.95 2292.75,1285.62 \"/>\n",
       "<polyline clip-path=\"url(#clip112)\" style=\"stroke:#3da44d; stroke-linecap:round; stroke-linejoin:round; stroke-width:4; stroke-opacity:1; fill:none\" points=\"292.4,167.224 299.09,165.523 305.78,163.826 312.47,162.133 319.16,160.603 325.85,160.574 332.54,160.256 339.231,160.532 345.921,160.625 352.611,160.819 359.301,161.016 365.991,161.216 372.681,161.433 379.371,161.657 386.061,161.885 392.752,162.115 399.442,162.347 406.132,162.582 412.822,162.819 419.512,163.059 426.202,163.301 432.892,163.546 439.582,163.793 446.272,164.042 452.963,164.294 459.653,164.548 466.343,164.804 473.033,165.062 479.723,165.322 486.413,165.584 493.103,165.849 499.793,166.115 506.484,166.384 513.174,166.654 519.864,166.927 526.554,167.201 533.244,167.477 539.934,167.756 546.624,168.035 553.314,168.317 560.005,168.601 566.695,168.886 573.385,169.173 580.075,169.462 586.765,169.752 593.455,170.044 600.145,170.337 606.835,170.633 613.525,170.929 620.216,171.227 626.906,171.527 633.596,171.828 640.286,172.131 646.976,172.435 653.666,172.74 660.356,173.047 667.046,173.355 673.737,173.665 680.427,173.976 687.117,174.288 693.807,174.601 700.497,174.915 707.187,175.231 713.877,175.548 720.567,175.866 727.258,176.185 733.948,176.506 740.638,176.827 747.328,177.149 754.018,177.473 760.708,177.797 767.398,178.123 774.088,178.45 780.778,178.777 787.469,179.105 794.159,179.435 800.849,179.765 807.539,180.096 814.229,180.428 820.919,180.761 827.609,181.095 834.299,181.429 840.99,181.765 847.68,182.101 854.37,182.437 861.06,182.775 867.75,183.113 874.44,183.452 881.13,183.792 887.82,184.132 894.511,184.473 901.201,184.815 907.891,185.157 914.581,185.5 921.271,185.844 927.961,186.188 934.651,186.532 941.341,186.877 948.031,187.223 954.722,187.569 961.412,187.916 968.102,188.263 974.792,188.611 981.482,188.959 988.172,189.307 994.862,189.656 1001.55,190.006 1008.24,190.356 1014.93,190.706 1021.62,191.056 1028.31,191.407 1035,191.759 1041.69,192.11 1048.38,192.462 1055.07,192.815 1061.76,193.167 1068.45,193.52 1075.14,193.874 1081.83,194.227 1088.52,194.581 1095.21,194.935 1101.9,195.289 1108.59,195.644 1115.28,195.999 1121.97,196.354 1128.66,196.709 1135.35,197.064 1142.04,197.42 1148.74,197.776 1155.43,198.131 1162.12,198.488 1168.81,198.844 1175.5,199.2 1182.19,199.557 1188.88,199.913 1195.57,200.27 1202.26,200.627 1208.95,200.984 1215.64,201.341 1222.33,201.698 1229.02,202.056 1235.71,202.413 1242.4,202.771 1249.09,203.128 1255.78,203.486 1262.47,203.843 1269.16,204.201 1275.85,204.559 1282.54,204.916 1289.23,205.274 1295.92,205.632 1302.61,205.99 1309.3,206.348 1315.99,206.706 1322.68,207.063 1329.37,207.421 1336.06,207.779 1342.75,208.137 1349.44,208.495 1356.13,208.852 1362.82,209.21 1369.51,209.568 1376.2,209.926 1382.89,210.283 1389.58,210.641 1396.27,210.999 1402.96,211.356 1409.65,211.714 1416.34,212.071 1423.03,212.428 1429.72,212.786 1436.41,213.143 1443.1,213.5 1449.79,213.857 1456.48,214.214 1463.17,214.571 1469.86,214.928 1476.55,215.285 1483.24,215.642 1489.93,215.999 1496.62,216.355 1503.31,216.712 1510,217.068 1516.69,217.424 1523.38,217.781 1530.07,218.137 1536.76,218.493 1543.45,218.849 1550.14,219.205 1556.83,219.56 1563.52,219.916 1570.21,220.272 1576.9,220.627 1583.59,220.982 1590.28,221.338 1596.97,221.693 1603.66,222.048 1610.35,222.403 1617.04,222.758 1623.73,223.112 1630.42,223.467 1637.11,223.821 1643.8,224.176 1650.49,224.53 1657.18,224.884 1663.87,225.239 1670.56,225.593 1677.25,225.946 1683.94,226.3 1690.63,226.654 1697.32,227.008 1704.01,227.361 1710.71,227.714 1717.4,228.068 1724.09,228.421 1730.78,228.774 1737.47,229.127 1744.16,229.48 1750.85,229.833 1757.54,230.185 1764.23,230.538 1770.92,230.891 1777.61,231.243 1784.3,231.595 1790.99,231.948 1797.68,232.3 1804.37,232.652 1811.06,233.004 1817.75,233.356 1824.44,233.707 1831.13,234.059 1837.82,234.411 1844.51,234.762 1851.2,235.114 1857.89,235.465 1864.58,235.817 1871.27,236.168 1877.96,236.519 1884.65,236.87 1891.34,237.221 1898.03,237.572 1904.72,237.923 1911.41,238.274 1918.1,238.625 1924.79,238.975 1931.48,239.326 1938.17,239.677 1944.86,240.027 1951.55,240.378 1958.24,240.728 1964.93,241.079 1971.62,241.429 1978.31,241.779 1985,242.129 1991.69,242.48 1998.38,242.83 2005.07,243.18 2011.76,243.53 2018.45,243.88 2025.14,244.23 2031.83,244.58 2038.52,244.93 2045.21,245.28 2051.9,245.63 2058.59,245.98 2065.28,246.33 2071.97,246.68 2078.66,247.03 2085.35,247.379 2092.04,247.729 2098.73,248.079 2105.42,248.429 2112.11,248.778 2118.8,249.128 2125.49,249.478 2132.18,249.828 2138.87,250.177 2145.56,250.527 2152.25,250.877 2158.94,251.227 2165.63,251.576 2172.32,251.926 2179.01,252.276 2185.7,252.626 2192.39,252.975 2199.08,253.325 2205.77,253.675 2212.46,254.025 2219.15,254.375 2225.84,254.724 2232.53,255.074 2239.22,255.424 2245.91,255.774 2252.6,256.124 2259.29,256.474 2265.99,256.824 2272.68,257.174 2279.37,257.524 2286.06,257.874 2292.75,258.224 \"/>\n",
       "<path clip-path=\"url(#clip110)\" d=\"M2027.42 374.156 L2282.08 374.156 L2282.08 166.796 L2027.42 166.796  Z\" fill=\"#ffffff\" fill-rule=\"evenodd\" fill-opacity=\"1\"/>\n",
       "<polyline clip-path=\"url(#clip110)\" style=\"stroke:#000000; stroke-linecap:round; stroke-linejoin:round; stroke-width:4; stroke-opacity:1; fill:none\" points=\"2027.42,374.156 2282.08,374.156 2282.08,166.796 2027.42,166.796 2027.42,374.156 \"/>\n",
       "<polyline clip-path=\"url(#clip110)\" style=\"stroke:#009af9; stroke-linecap:round; stroke-linejoin:round; stroke-width:4; stroke-opacity:1; fill:none\" points=\"2050.98,218.636 2192.34,218.636 \"/>\n",
       "<path clip-path=\"url(#clip110)\" d=\"M2215.9 225.684 L2215.9 209.99 L2220.16 209.99 L2220.16 225.522 Q2220.16 229.203 2221.6 231.055 Q2223.03 232.883 2225.9 232.883 Q2229.35 232.883 2231.34 230.684 Q2233.36 228.485 2233.36 224.689 L2233.36 209.99 L2237.61 209.99 L2237.61 235.916 L2233.36 235.916 L2233.36 231.934 Q2231.8 234.295 2229.74 235.453 Q2227.71 236.587 2225 236.587 Q2220.53 236.587 2218.22 233.809 Q2215.9 231.031 2215.9 225.684 M2226.62 209.365 L2226.62 209.365 Z\" fill=\"#000000\" fill-rule=\"evenodd\" fill-opacity=\"1\" /><path clip-path=\"url(#clip110)\" d=\"M2245.53 233.369 L2250.25 233.369 L2250.25 219.226 L2245.09 220.175 L2245.09 217.49 L2250.42 216.587 L2253.59 216.587 L2253.59 233.369 L2258.33 233.369 L2258.33 235.916 L2245.53 235.916 L2245.53 233.369 Z\" fill=\"#000000\" fill-rule=\"evenodd\" fill-opacity=\"1\" /><polyline clip-path=\"url(#clip110)\" style=\"stroke:#e26f46; stroke-linecap:round; stroke-linejoin:round; stroke-width:4; stroke-opacity:1; fill:none\" points=\"2050.98,270.476 2192.34,270.476 \"/>\n",
       "<path clip-path=\"url(#clip110)\" d=\"M2215.9 277.524 L2215.9 261.83 L2220.16 261.83 L2220.16 277.362 Q2220.16 281.043 2221.6 282.895 Q2223.03 284.723 2225.9 284.723 Q2229.35 284.723 2231.34 282.524 Q2233.36 280.325 2233.36 276.529 L2233.36 261.83 L2237.61 261.83 L2237.61 287.756 L2233.36 287.756 L2233.36 283.774 Q2231.8 286.135 2229.74 287.293 Q2227.71 288.427 2225 288.427 Q2220.53 288.427 2218.22 285.649 Q2215.9 282.871 2215.9 277.524 M2226.62 261.205 L2226.62 261.205 Z\" fill=\"#000000\" fill-rule=\"evenodd\" fill-opacity=\"1\" /><path clip-path=\"url(#clip110)\" d=\"M2248.12 285.117 L2257.94 285.117 L2257.94 287.756 L2244.1 287.756 L2244.1 285.209 Q2244.88 284.492 2246.34 283.196 Q2254.3 276.135 2254.3 273.959 Q2254.3 272.432 2253.1 271.506 Q2251.9 270.557 2249.93 270.557 Q2248.73 270.557 2247.31 270.973 Q2245.9 271.367 2244.24 272.177 L2244.24 269.33 Q2246.02 268.682 2247.55 268.358 Q2249.1 268.034 2250.42 268.034 Q2253.77 268.034 2255.79 269.561 Q2257.8 271.089 2257.8 273.589 Q2257.8 276.807 2250.14 283.381 Q2248.84 284.492 2248.12 285.117 Z\" fill=\"#000000\" fill-rule=\"evenodd\" fill-opacity=\"1\" /><polyline clip-path=\"url(#clip110)\" style=\"stroke:#3da44d; stroke-linecap:round; stroke-linejoin:round; stroke-width:4; stroke-opacity:1; fill:none\" points=\"2050.98,322.316 2192.34,322.316 \"/>\n",
       "<path clip-path=\"url(#clip110)\" d=\"M2215.9 329.364 L2215.9 313.67 L2220.16 313.67 L2220.16 329.202 Q2220.16 332.883 2221.6 334.735 Q2223.03 336.563 2225.9 336.563 Q2229.35 336.563 2231.34 334.364 Q2233.36 332.165 2233.36 328.369 L2233.36 313.67 L2237.61 313.67 L2237.61 339.596 L2233.36 339.596 L2233.36 335.614 Q2231.8 337.975 2229.74 339.133 Q2227.71 340.267 2225 340.267 Q2220.53 340.267 2218.22 337.489 Q2215.9 334.711 2215.9 329.364 M2226.62 313.045 L2226.62 313.045 Z\" fill=\"#000000\" fill-rule=\"evenodd\" fill-opacity=\"1\" /><path clip-path=\"url(#clip110)\" d=\"M2254.05 329.133 Q2256.18 329.549 2257.34 330.823 Q2258.52 332.073 2258.52 333.971 Q2258.52 336.841 2256.32 338.392 Q2254.12 339.943 2250.02 339.943 Q2248.7 339.943 2247.24 339.688 Q2245.81 339.457 2244.19 338.994 L2244.19 336.193 Q2245.39 336.818 2246.76 337.119 Q2248.15 337.42 2249.7 337.42 Q2252.22 337.42 2253.61 336.517 Q2255 335.591 2255 333.971 Q2255 332.258 2253.7 331.378 Q2252.43 330.499 2249.93 330.499 L2247.94 330.499 L2247.94 327.999 L2250.11 327.999 Q2252.29 327.999 2253.4 327.281 Q2254.54 326.54 2254.54 325.151 Q2254.54 323.809 2253.38 323.114 Q2252.22 322.397 2250.02 322.397 Q2249.1 322.397 2247.92 322.605 Q2246.74 322.813 2244.86 323.346 L2244.86 320.684 Q2246.55 320.29 2248.03 320.082 Q2249.51 319.874 2250.79 319.874 Q2254.12 319.874 2256.06 321.239 Q2258.03 322.605 2258.03 324.897 Q2258.03 326.494 2256.99 327.605 Q2255.95 328.716 2254.05 329.133 Z\" fill=\"#000000\" fill-rule=\"evenodd\" fill-opacity=\"1\" /></svg>\n"
      ]
     },
     "metadata": {},
     "output_type": "display_data"
    }
   ],
   "source": [
    "# Let's solve\n",
    "\n",
    "nx = 6\n",
    "nu = 3\n",
    "N = 301\n",
    "dt = 0.05\n",
    "t_vec = dt*(0:N-1)\n",
    "x0 = [4, 2, 20, -3, 2, -5.0]\n",
    "xg = [0,0,0,0,0,0.0]\n",
    "Xref = [deepcopy(xg) for i = 1:N]\n",
    "Uref = [zeros(nu) for i = 1:N-1]\n",
    "\n",
    "Q = 1e-1*Diagonal([1,1,1,1.0,1,1])\n",
    "R = 1e-0*Diagonal([1,1,1])\n",
    "Qf = 1000*Q\n",
    "\n",
    "# ground_level = 0.0\n",
    "gravity = [0; 0; -9.81]\n",
    "mass = 10.0\n",
    "# ωPlanet = [0.0; 0.0; 0.0]\n",
    "perWeightMax = 2.0\n",
    "θ_thrust_max = 5.0  # deg\n",
    "# θ_glideslope = 60.0 # deg\n",
    "# glide_recover_k = 8\n",
    "\n",
    "A_cone = [1 0 0; 0 1 0]\n",
    "c_cone = [0.0, 0.0, tand(θ_thrust_max)]\n",
    "u_bnd = mass * abs(gravity[3]) * perWeightMax\n",
    "u_min = -170*ones(nu)\n",
    "u_max =  170*ones(nu)\n",
    "\n",
    "# state is x y v θ\n",
    "x_min = [-5,-5,0,-10,-10,-10.0]\n",
    "x_max = [5,5,20,10,10,10.0]\n",
    "\n",
    "ncx = 2*nx*0\n",
    "ncu = 2*nu*0\n",
    "ncg = 1\n",
    "ncu_cone = nu*1; \n",
    "cone_scale = 1000000  # very fragile for each problem\n",
    "\n",
    "params = (\n",
    "    nx = nx,\n",
    "    nu = nu,\n",
    "    ncx = ncx,\n",
    "    ncu = ncu,\n",
    "    ncg = ncg,\n",
    "    ncu_cone = ncu_cone,\n",
    "    A_cone = A_cone,\n",
    "    c_cone = c_cone,\n",
    "    N = N,\n",
    "    Q = Q,\n",
    "    R = R,\n",
    "    Qf = Qf,\n",
    "    u_min = u_min,\n",
    "    u_max = u_max,\n",
    "    x_min = x_min,\n",
    "    x_max = x_max,\n",
    "    Xref = Xref,\n",
    "    Uref = Uref,\n",
    "    dt = dt,\n",
    "    mc = 1.0,\n",
    "    mp = 0.2,\n",
    "    l = 0.5,\n",
    "    g = 9.81,\n",
    ");\n",
    "\n",
    "# previous iterate\n",
    "X = [deepcopy(x0) for i = 1:N]\n",
    "U = [mass * gravity for k = 1:N-1]\n",
    "\n",
    "# new iterate\n",
    "Xn = deepcopy(X)\n",
    "Un = deepcopy(U)\n",
    "\n",
    "P = [zeros(nx,nx) for i = 1:N]   # cost to go quadratic term\n",
    "p = [zeros(nx) for i = 1:N]      # cost to go linear term\n",
    "d = [zeros(nu) for i = 1:N-1]    # feedforward control\n",
    "K = [zeros(nu,nx) for i = 1:N-1] # feedback gain\n",
    "Xhist = mpc(params,X,U,P,p,K,d,Xn,Un;atol=1e-1,max_iters = 10,verbose = true,ρ = 1e0, ϕ = 10.0);\n",
    "function mat_from_vec(X::Vector{Vector{Float64}})::Matrix\n",
    "    # convert a vector of vectors to a matrix \n",
    "    Xm = hcat(X...)\n",
    "    return Xm \n",
    "end\n",
    "Xsim_m = mat_from_vec(Xn)\n",
    "Usim_m = mat_from_vec(Un)\n",
    "using Plots\n",
    "display(plot(t_vec,Xsim_m',label = [\"x₁\" \"x₂\" \"x₃\" \"ẋ₁\" \"ẋ₂\" \"ẋ₃\"],linestyle=[:solid :solid :solid :dash :dash :dash],\n",
    "             title = \"State History\",\n",
    "             xlabel = \"time (s)\", ylabel = \"x\"))\n",
    "display(plot(t_vec[1:end-1],Usim_m',label = [\"u₁\" \"u₂\" \"u₃\"],\n",
    "             title = \"Input History\",\n",
    "             xlabel = \"time (s)\", ylabel = \"u\"))"
   ]
  },
  {
   "cell_type": "markdown",
   "id": "416df651-52ee-4c43-93e5-aca23c5630b2",
   "metadata": {},
   "source": [
    "For TrajOpt, it needs more tricks to get better results:\n",
    "- Hessian of the projection => better approximation\n",
    "- Scaling between conic constraints and other ones\n",
    "- Solution polishing"
   ]
  },
  {
   "cell_type": "code",
   "execution_count": 25,
   "id": "12ec6530-7479-455f-843a-81d2c40fb13a",
   "metadata": {},
   "outputs": [
    {
     "data": {
      "text/plain": [
       "0.14717004982271042"
      ]
     },
     "metadata": {},
     "output_type": "display_data"
    },
    {
     "data": {
      "text/plain": [
       "0.05520615451097122"
      ]
     },
     "metadata": {},
     "output_type": "display_data"
    },
    {
     "data": {
      "text/plain": [
       "-0.03670047929689346"
      ]
     },
     "metadata": {},
     "output_type": "display_data"
    },
    {
     "data": {
      "text/plain": [
       "-0.12854841258692673"
      ]
     },
     "metadata": {},
     "output_type": "display_data"
    },
    {
     "data": {
      "text/plain": [
       "-0.21729734877786555"
      ]
     },
     "metadata": {},
     "output_type": "display_data"
    },
    {
     "data": {
      "text/plain": [
       "-0.27727737136373243"
      ]
     },
     "metadata": {},
     "output_type": "display_data"
    },
    {
     "data": {
      "text/plain": [
       "-0.37737450859179766"
      ]
     },
     "metadata": {},
     "output_type": "display_data"
    },
    {
     "data": {
      "text/plain": [
       "-0.39654031686875335"
      ]
     },
     "metadata": {},
     "output_type": "display_data"
    },
    {
     "data": {
      "text/plain": [
       "-0.4502260845868804"
      ]
     },
     "metadata": {},
     "output_type": "display_data"
    },
    {
     "data": {
      "text/plain": [
       "-0.4983238008806925"
      ]
     },
     "metadata": {},
     "output_type": "display_data"
    },
    {
     "data": {
      "text/plain": [
       "-0.5464947005737155"
      ]
     },
     "metadata": {},
     "output_type": "display_data"
    },
    {
     "data": {
      "text/plain": [
       "-0.5946369656456785"
      ]
     },
     "metadata": {},
     "output_type": "display_data"
    },
    {
     "data": {
      "text/plain": [
       "-0.6400664737417667"
      ]
     },
     "metadata": {},
     "output_type": "display_data"
    },
    {
     "data": {
      "text/plain": [
       "-0.6845918820419516"
      ]
     },
     "metadata": {},
     "output_type": "display_data"
    },
    {
     "data": {
      "text/plain": [
       "-0.7290923054979874"
      ]
     },
     "metadata": {},
     "output_type": "display_data"
    },
    {
     "data": {
      "text/plain": [
       "-0.773567674958743"
      ]
     },
     "metadata": {},
     "output_type": "display_data"
    },
    {
     "data": {
      "text/plain": [
       "-0.8180179242029091"
      ]
     },
     "metadata": {},
     "output_type": "display_data"
    },
    {
     "data": {
      "text/plain": [
       "-0.8624429899067305"
      ]
     },
     "metadata": {},
     "output_type": "display_data"
    },
    {
     "data": {
      "text/plain": [
       "-0.9068428116117939"
      ]
     },
     "metadata": {},
     "output_type": "display_data"
    },
    {
     "data": {
      "text/plain": [
       "-0.9512173316927512"
      ]
     },
     "metadata": {},
     "output_type": "display_data"
    },
    {
     "data": {
      "text/plain": [
       "-0.9955664953251873"
      ]
     },
     "metadata": {},
     "output_type": "display_data"
    },
    {
     "data": {
      "text/plain": [
       "-1.039890250452963"
      ]
     },
     "metadata": {},
     "output_type": "display_data"
    },
    {
     "data": {
      "text/plain": [
       "-1.0841885477560904"
      ]
     },
     "metadata": {},
     "output_type": "display_data"
    },
    {
     "data": {
      "text/plain": [
       "-1.1284613406180846"
      ]
     },
     "metadata": {},
     "output_type": "display_data"
    },
    {
     "data": {
      "text/plain": [
       "-1.1727085850934955"
      ]
     },
     "metadata": {},
     "output_type": "display_data"
    },
    {
     "data": {
      "text/plain": [
       "-1.216930239875385"
      ]
     },
     "metadata": {},
     "output_type": "display_data"
    },
    {
     "data": {
      "text/plain": [
       "-1.2611262662625267"
      ]
     },
     "metadata": {},
     "output_type": "display_data"
    },
    {
     "data": {
      "text/plain": [
       "-1.3052966281267464"
      ]
     },
     "metadata": {},
     "output_type": "display_data"
    },
    {
     "data": {
      "text/plain": [
       "-1.3494412918798853"
      ]
     },
     "metadata": {},
     "output_type": "display_data"
    },
    {
     "data": {
      "text/plain": [
       "-1.393560226440937"
      ]
     },
     "metadata": {},
     "output_type": "display_data"
    },
    {
     "data": {
      "text/plain": [
       "-1.4376534032030008"
      ]
     },
     "metadata": {},
     "output_type": "display_data"
    },
    {
     "data": {
      "text/plain": [
       "-1.4817207959999834"
      ]
     },
     "metadata": {},
     "output_type": "display_data"
    },
    {
     "data": {
      "text/plain": [
       "-1.5257623810732985"
      ]
     },
     "metadata": {},
     "output_type": "display_data"
    },
    {
     "data": {
      "text/plain": [
       "-1.5697781370383632"
      ]
     },
     "metadata": {},
     "output_type": "display_data"
    },
    {
     "data": {
      "text/plain": [
       "-1.6137680448508833"
      ]
     },
     "metadata": {},
     "output_type": "display_data"
    },
    {
     "data": {
      "text/plain": [
       "-1.6577320877732165"
      ]
     },
     "metadata": {},
     "output_type": "display_data"
    },
    {
     "data": {
      "text/plain": [
       "-1.7016702513401238"
      ]
     },
     "metadata": {},
     "output_type": "display_data"
    },
    {
     "data": {
      "text/plain": [
       "-1.7455825233248925"
      ]
     },
     "metadata": {},
     "output_type": "display_data"
    },
    {
     "data": {
      "text/plain": [
       "-1.7894688937046794"
      ]
     },
     "metadata": {},
     "output_type": "display_data"
    },
    {
     "data": {
      "text/plain": [
       "-1.8333293546260974"
      ]
     },
     "metadata": {},
     "output_type": "display_data"
    },
    {
     "data": {
      "text/plain": [
       "-1.8771639003703147"
      ]
     },
     "metadata": {},
     "output_type": "display_data"
    },
    {
     "data": {
      "text/plain": [
       "-1.9209725273179368"
      ]
     },
     "metadata": {},
     "output_type": "display_data"
    },
    {
     "data": {
      "text/plain": [
       "-1.964755233913773"
      ]
     },
     "metadata": {},
     "output_type": "display_data"
    },
    {
     "data": {
      "text/plain": [
       "-2.0085120206311586"
      ]
     },
     "metadata": {},
     "output_type": "display_data"
    },
    {
     "data": {
      "text/plain": [
       "-2.052242889936049"
      ]
     },
     "metadata": {},
     "output_type": "display_data"
    },
    {
     "data": {
      "text/plain": [
       "-2.0959478462507732"
      ]
     },
     "metadata": {},
     "output_type": "display_data"
    },
    {
     "data": {
      "text/plain": [
       "-2.1396268959176066"
      ]
     },
     "metadata": {},
     "output_type": "display_data"
    },
    {
     "data": {
      "text/plain": [
       "-2.183280047161662"
      ]
     },
     "metadata": {},
     "output_type": "display_data"
    },
    {
     "data": {
      "text/plain": [
       "-2.226907310053802"
      ]
     },
     "metadata": {},
     "output_type": "display_data"
    },
    {
     "data": {
      "text/plain": [
       "-2.270508696472887"
      ]
     },
     "metadata": {},
     "output_type": "display_data"
    },
    {
     "data": {
      "text/plain": [
       "-2.3140842200676834"
      ]
     },
     "metadata": {},
     "output_type": "display_data"
    },
    {
     "data": {
      "text/plain": [
       "-2.3576338962182835"
      ]
     },
     "metadata": {},
     "output_type": "display_data"
    },
    {
     "data": {
      "text/plain": [
       "-2.4011577419972934"
      ]
     },
     "metadata": {},
     "output_type": "display_data"
    },
    {
     "data": {
      "text/plain": [
       "-2.4446557761301184"
      ]
     },
     "metadata": {},
     "output_type": "display_data"
    },
    {
     "data": {
      "text/plain": [
       "-2.488128018955072"
      ]
     },
     "metadata": {},
     "output_type": "display_data"
    },
    {
     "data": {
      "text/plain": [
       "-2.531574492382756"
      ]
     },
     "metadata": {},
     "output_type": "display_data"
    },
    {
     "data": {
      "text/plain": [
       "-2.5749952198549613"
      ]
     },
     "metadata": {},
     "output_type": "display_data"
    },
    {
     "data": {
      "text/plain": [
       "-2.618390226302889"
      ]
     },
     "metadata": {},
     "output_type": "display_data"
    },
    {
     "data": {
      "text/plain": [
       "-2.661759538104665"
      ]
     },
     "metadata": {},
     "output_type": "display_data"
    },
    {
     "data": {
      "text/plain": [
       "-2.705103183042307"
      ]
     },
     "metadata": {},
     "output_type": "display_data"
    },
    {
     "data": {
      "text/plain": [
       "-2.7484211902578073"
      ]
     },
     "metadata": {},
     "output_type": "display_data"
    },
    {
     "data": {
      "text/plain": [
       "-2.791713590208647"
      ]
     },
     "metadata": {},
     "output_type": "display_data"
    },
    {
     "data": {
      "text/plain": [
       "-2.8349804146222306"
      ]
     },
     "metadata": {},
     "output_type": "display_data"
    },
    {
     "data": {
      "text/plain": [
       "-2.8782216964496827"
      ]
     },
     "metadata": {},
     "output_type": "display_data"
    },
    {
     "data": {
      "text/plain": [
       "-2.9214374698186703"
      ]
     },
     "metadata": {},
     "output_type": "display_data"
    },
    {
     "data": {
      "text/plain": [
       "-2.9646277699852783"
      ]
     },
     "metadata": {},
     "output_type": "display_data"
    },
    {
     "data": {
      "text/plain": [
       "-3.0077926332847094"
      ]
     },
     "metadata": {},
     "output_type": "display_data"
    },
    {
     "data": {
      "text/plain": [
       "-3.050932097081205"
      ]
     },
     "metadata": {},
     "output_type": "display_data"
    },
    {
     "data": {
      "text/plain": [
       "-3.094046199716689"
      ]
     },
     "metadata": {},
     "output_type": "display_data"
    },
    {
     "data": {
      "text/plain": [
       "-3.137134980458094"
      ]
     },
     "metadata": {},
     "output_type": "display_data"
    },
    {
     "data": {
      "text/plain": [
       "-3.1801984794436056"
      ]
     },
     "metadata": {},
     "output_type": "display_data"
    },
    {
     "data": {
      "text/plain": [
       "-3.2232367376275626"
      ]
     },
     "metadata": {},
     "output_type": "display_data"
    },
    {
     "data": {
      "text/plain": [
       "-3.2662497967237734"
      ]
     },
     "metadata": {},
     "output_type": "display_data"
    },
    {
     "data": {
      "text/plain": [
       "-3.3092376991476273"
      ]
     },
     "metadata": {},
     "output_type": "display_data"
    },
    {
     "data": {
      "text/plain": [
       "-3.352200487956207"
      ]
     },
     "metadata": {},
     "output_type": "display_data"
    },
    {
     "data": {
      "text/plain": [
       "-3.3951382067872045"
      ]
     },
     "metadata": {},
     "output_type": "display_data"
    },
    {
     "data": {
      "text/plain": [
       "-3.4380508997957353"
      ]
     },
     "metadata": {},
     "output_type": "display_data"
    },
    {
     "data": {
      "text/plain": [
       "-3.480938611589327"
      ]
     },
     "metadata": {},
     "output_type": "display_data"
    },
    {
     "data": {
      "text/plain": [
       "-3.5238013871611855"
      ]
     },
     "metadata": {},
     "output_type": "display_data"
    },
    {
     "data": {
      "text/plain": [
       "-3.5666392718208346"
      ]
     },
     "metadata": {},
     "output_type": "display_data"
    },
    {
     "data": {
      "text/plain": [
       "-3.609452311123171"
      ]
     },
     "metadata": {},
     "output_type": "display_data"
    },
    {
     "data": {
      "text/plain": [
       "-3.6522405507946463"
      ]
     },
     "metadata": {},
     "output_type": "display_data"
    },
    {
     "data": {
      "text/plain": [
       "-3.6950040366571963"
      ]
     },
     "metadata": {},
     "output_type": "display_data"
    },
    {
     "data": {
      "text/plain": [
       "-3.7377428145494784"
      ]
     },
     "metadata": {},
     "output_type": "display_data"
    },
    {
     "data": {
      "text/plain": [
       "-3.780456930245238"
      ]
     },
     "metadata": {},
     "output_type": "display_data"
    },
    {
     "data": {
      "text/plain": [
       "-3.8231464293688546"
      ]
     },
     "metadata": {},
     "output_type": "display_data"
    },
    {
     "data": {
      "text/plain": [
       "-3.865811357307418"
      ]
     },
     "metadata": {},
     "output_type": "display_data"
    },
    {
     "data": {
      "text/plain": [
       "-3.908451759119842"
      ]
     },
     "metadata": {},
     "output_type": "display_data"
    },
    {
     "data": {
      "text/plain": [
       "-3.951067679441995"
      ]
     },
     "metadata": {},
     "output_type": "display_data"
    },
    {
     "data": {
      "text/plain": [
       "-3.9936591623883846"
      ]
     },
     "metadata": {},
     "output_type": "display_data"
    },
    {
     "data": {
      "text/plain": [
       "-4.03622625144951"
      ]
     },
     "metadata": {},
     "output_type": "display_data"
    },
    {
     "data": {
      "text/plain": [
       "-4.078768989385236"
      ]
     },
     "metadata": {},
     "output_type": "display_data"
    },
    {
     "data": {
      "text/plain": [
       "-4.121287418113202"
      ]
     },
     "metadata": {},
     "output_type": "display_data"
    },
    {
     "data": {
      "text/plain": [
       "-4.163781578592814"
      ]
     },
     "metadata": {},
     "output_type": "display_data"
    },
    {
     "data": {
      "text/plain": [
       "-4.206251510703638"
      ]
     },
     "metadata": {},
     "output_type": "display_data"
    },
    {
     "data": {
      "text/plain": [
       "-4.248697253118535"
      ]
     },
     "metadata": {},
     "output_type": "display_data"
    },
    {
     "data": {
      "text/plain": [
       "-4.291118843170921"
      ]
     },
     "metadata": {},
     "output_type": "display_data"
    },
    {
     "data": {
      "text/plain": [
       "-4.333516316715478"
      ]
     },
     "metadata": {},
     "output_type": "display_data"
    },
    {
     "data": {
      "text/plain": [
       "-4.375889707982508"
      ]
     },
     "metadata": {},
     "output_type": "display_data"
    },
    {
     "data": {
      "text/plain": [
       "-4.418239049424906"
      ]
     },
     "metadata": {},
     "output_type": "display_data"
    },
    {
     "data": {
      "text/plain": [
       "-4.460564371557563"
      ]
     },
     "metadata": {},
     "output_type": "display_data"
    },
    {
     "data": {
      "text/plain": [
       "-4.502865702788534"
      ]
     },
     "metadata": {},
     "output_type": "display_data"
    },
    {
     "data": {
      "text/plain": [
       "-4.545143069241633"
      ]
     },
     "metadata": {},
     "output_type": "display_data"
    },
    {
     "data": {
      "text/plain": [
       "-4.587396494569434"
      ]
     },
     "metadata": {},
     "output_type": "display_data"
    },
    {
     "data": {
      "text/plain": [
       "-4.629625999756468"
      ]
     },
     "metadata": {},
     "output_type": "display_data"
    },
    {
     "data": {
      "text/plain": [
       "-4.671831602911517"
      ]
     },
     "metadata": {},
     "output_type": "display_data"
    },
    {
     "data": {
      "text/plain": [
       "-4.714013319048567"
      ]
     },
     "metadata": {},
     "output_type": "display_data"
    },
    {
     "data": {
      "text/plain": [
       "-4.756171159855189"
      ]
     },
     "metadata": {},
     "output_type": "display_data"
    },
    {
     "data": {
      "text/plain": [
       "-4.7983051334479345"
      ]
     },
     "metadata": {},
     "output_type": "display_data"
    },
    {
     "data": {
      "text/plain": [
       "-4.840415244113213"
      ]
     },
     "metadata": {},
     "output_type": "display_data"
    },
    {
     "data": {
      "text/plain": [
       "-4.8825014920331515"
      ]
     },
     "metadata": {},
     "output_type": "display_data"
    },
    {
     "data": {
      "text/plain": [
       "-4.924563872994549"
      ]
     },
     "metadata": {},
     "output_type": "display_data"
    },
    {
     "data": {
      "text/plain": [
       "-4.966602378080681"
      ]
     },
     "metadata": {},
     "output_type": "display_data"
    },
    {
     "data": {
      "text/plain": [
       "-5.008616993343383"
      ]
     },
     "metadata": {},
     "output_type": "display_data"
    },
    {
     "data": {
      "text/plain": [
       "-5.050607699455041"
      ]
     },
     "metadata": {},
     "output_type": "display_data"
    },
    {
     "data": {
      "text/plain": [
       "-5.0925744713379375"
      ]
     },
     "metadata": {},
     "output_type": "display_data"
    },
    {
     "data": {
      "text/plain": [
       "-5.134517277769929"
      ]
     },
     "metadata": {},
     "output_type": "display_data"
    },
    {
     "data": {
      "text/plain": [
       "-5.1764360809638"
      ]
     },
     "metadata": {},
     "output_type": "display_data"
    },
    {
     "data": {
      "text/plain": [
       "-5.218330836118983"
      ]
     },
     "metadata": {},
     "output_type": "display_data"
    },
    {
     "data": {
      "text/plain": [
       "-5.260201490942485"
      ]
     },
     "metadata": {},
     "output_type": "display_data"
    },
    {
     "data": {
      "text/plain": [
       "-5.302047985137062"
      ]
     },
     "metadata": {},
     "output_type": "display_data"
    },
    {
     "data": {
      "text/plain": [
       "-5.3438702498536825"
      ]
     },
     "metadata": {},
     "output_type": "display_data"
    },
    {
     "data": {
      "text/plain": [
       "-5.38566820710517"
      ]
     },
     "metadata": {},
     "output_type": "display_data"
    },
    {
     "data": {
      "text/plain": [
       "-5.427441769137672"
      ]
     },
     "metadata": {},
     "output_type": "display_data"
    },
    {
     "data": {
      "text/plain": [
       "-5.469190837756381"
      ]
     },
     "metadata": {},
     "output_type": "display_data"
    },
    {
     "data": {
      "text/plain": [
       "-5.510915303601305"
      ]
     },
     "metadata": {},
     "output_type": "display_data"
    },
    {
     "data": {
      "text/plain": [
       "-5.552615045368711"
      ]
     },
     "metadata": {},
     "output_type": "display_data"
    },
    {
     "data": {
      "text/plain": [
       "-5.594289928973151"
      ]
     },
     "metadata": {},
     "output_type": "display_data"
    },
    {
     "data": {
      "text/plain": [
       "-5.635939806644956"
      ]
     },
     "metadata": {},
     "output_type": "display_data"
    },
    {
     "data": {
      "text/plain": [
       "-5.677564515956563"
      ]
     },
     "metadata": {},
     "output_type": "display_data"
    },
    {
     "data": {
      "text/plain": [
       "-5.719163878771649"
      ]
     },
     "metadata": {},
     "output_type": "display_data"
    },
    {
     "data": {
      "text/plain": [
       "-5.760737700109173"
      ]
     },
     "metadata": {},
     "output_type": "display_data"
    },
    {
     "data": {
      "text/plain": [
       "-5.802285766914339"
      ]
     },
     "metadata": {},
     "output_type": "display_data"
    },
    {
     "data": {
      "text/plain": [
       "-5.843807846727161"
      ]
     },
     "metadata": {},
     "output_type": "display_data"
    },
    {
     "data": {
      "text/plain": [
       "-5.885303686238718"
      ]
     },
     "metadata": {},
     "output_type": "display_data"
    },
    {
     "data": {
      "text/plain": [
       "-5.926773009723263"
      ]
     },
     "metadata": {},
     "output_type": "display_data"
    },
    {
     "data": {
      "text/plain": [
       "-5.9682155173339275"
      ]
     },
     "metadata": {},
     "output_type": "display_data"
    },
    {
     "data": {
      "text/plain": [
       "-6.009630883247741"
      ]
     },
     "metadata": {},
     "output_type": "display_data"
    },
    {
     "data": {
      "text/plain": [
       "-6.051018753643849"
      ]
     },
     "metadata": {},
     "output_type": "display_data"
    },
    {
     "data": {
      "text/plain": [
       "-6.0923787444972515"
      ]
     },
     "metadata": {},
     "output_type": "display_data"
    },
    {
     "data": {
      "text/plain": [
       "-6.133710439168246"
      ]
     },
     "metadata": {},
     "output_type": "display_data"
    },
    {
     "data": {
      "text/plain": [
       "-6.175013385764583"
      ]
     },
     "metadata": {},
     "output_type": "display_data"
    },
    {
     "data": {
      "text/plain": [
       "-6.216287094251313"
      ]
     },
     "metadata": {},
     "output_type": "display_data"
    },
    {
     "data": {
      "text/plain": [
       "-6.257531033279484"
      ]
     },
     "metadata": {},
     "output_type": "display_data"
    },
    {
     "data": {
      "text/plain": [
       "-6.29874462670117"
      ]
     },
     "metadata": {},
     "output_type": "display_data"
    },
    {
     "data": {
      "text/plain": [
       "-6.33992724973428"
      ]
     },
     "metadata": {},
     "output_type": "display_data"
    },
    {
     "data": {
      "text/plain": [
       "-6.381078224735139"
      ]
     },
     "metadata": {},
     "output_type": "display_data"
    },
    {
     "data": {
      "text/plain": [
       "-6.422196816531405"
      ]
     },
     "metadata": {},
     "output_type": "display_data"
    },
    {
     "data": {
      "text/plain": [
       "-6.46328222726136"
      ]
     },
     "metadata": {},
     "output_type": "display_data"
    },
    {
     "data": {
      "text/plain": [
       "-6.5043335906574455"
      ]
     },
     "metadata": {},
     "output_type": "display_data"
    },
    {
     "data": {
      "text/plain": [
       "-6.5453499657033145"
      ]
     },
     "metadata": {},
     "output_type": "display_data"
    },
    {
     "data": {
      "text/plain": [
       "-6.586330329583401"
      ]
     },
     "metadata": {},
     "output_type": "display_data"
    },
    {
     "data": {
      "text/plain": [
       "-6.627273569831269"
      ]
     },
     "metadata": {},
     "output_type": "display_data"
    },
    {
     "data": {
      "text/plain": [
       "-6.668178475569313"
      ]
     },
     "metadata": {},
     "output_type": "display_data"
    },
    {
     "data": {
      "text/plain": [
       "-6.709043727715535"
      ]
     },
     "metadata": {},
     "output_type": "display_data"
    },
    {
     "data": {
      "text/plain": [
       "-6.74986788801332"
      ]
     },
     "metadata": {},
     "output_type": "display_data"
    },
    {
     "data": {
      "text/plain": [
       "-6.790649386717107"
      ]
     },
     "metadata": {},
     "output_type": "display_data"
    },
    {
     "data": {
      "text/plain": [
       "-6.831386508739428"
      ]
     },
     "metadata": {},
     "output_type": "display_data"
    },
    {
     "data": {
      "text/plain": [
       "-6.872077378032407"
      ]
     },
     "metadata": {},
     "output_type": "display_data"
    },
    {
     "data": {
      "text/plain": [
       "-6.912719939937794"
      ]
     },
     "metadata": {},
     "output_type": "display_data"
    },
    {
     "data": {
      "text/plain": [
       "-6.953311941193817"
      ]
     },
     "metadata": {},
     "output_type": "display_data"
    },
    {
     "data": {
      "text/plain": [
       "-6.9938509072318755"
      ]
     },
     "metadata": {},
     "output_type": "display_data"
    },
    {
     "data": {
      "text/plain": [
       "-7.034334116329448"
      ]
     },
     "metadata": {},
     "output_type": "display_data"
    },
    {
     "data": {
      "text/plain": [
       "-7.074758570105984"
      ]
     },
     "metadata": {},
     "output_type": "display_data"
    },
    {
     "data": {
      "text/plain": [
       "-7.115120959752002"
      ]
     },
     "metadata": {},
     "output_type": "display_data"
    },
    {
     "data": {
      "text/plain": [
       "-7.155417627263942"
      ]
     },
     "metadata": {},
     "output_type": "display_data"
    },
    {
     "data": {
      "text/plain": [
       "-7.195644520815154"
      ]
     },
     "metadata": {},
     "output_type": "display_data"
    },
    {
     "data": {
      "text/plain": [
       "-7.235797143218817"
      ]
     },
     "metadata": {},
     "output_type": "display_data"
    },
    {
     "data": {
      "text/plain": [
       "-7.275870492224659"
      ]
     },
     "metadata": {},
     "output_type": "display_data"
    },
    {
     "data": {
      "text/plain": [
       "-7.315858991128465"
      ]
     },
     "metadata": {},
     "output_type": "display_data"
    },
    {
     "data": {
      "text/plain": [
       "-7.35575640784781"
      ]
     },
     "metadata": {},
     "output_type": "display_data"
    },
    {
     "data": {
      "text/plain": [
       "-7.395555760214092"
      ]
     },
     "metadata": {},
     "output_type": "display_data"
    },
    {
     "data": {
      "text/plain": [
       "-7.435249204728909"
      ]
     },
     "metadata": {},
     "output_type": "display_data"
    },
    {
     "data": {
      "text/plain": [
       "-7.474827905403965"
      ]
     },
     "metadata": {},
     "output_type": "display_data"
    },
    {
     "data": {
      "text/plain": [
       "-7.514281878516966"
      ]
     },
     "metadata": {},
     "output_type": "display_data"
    },
    {
     "data": {
      "text/plain": [
       "-7.55359980812212"
      ]
     },
     "metadata": {},
     "output_type": "display_data"
    },
    {
     "data": {
      "text/plain": [
       "-7.592768825901044"
      ]
     },
     "metadata": {},
     "output_type": "display_data"
    },
    {
     "data": {
      "text/plain": [
       "-7.631774247348465"
      ]
     },
     "metadata": {},
     "output_type": "display_data"
    },
    {
     "data": {
      "text/plain": [
       "-7.670599254265949"
      ]
     },
     "metadata": {},
     "output_type": "display_data"
    },
    {
     "data": {
      "text/plain": [
       "-7.7092245109597535"
      ]
     },
     "metadata": {},
     "output_type": "display_data"
    },
    {
     "data": {
      "text/plain": [
       "-7.747627698250712"
      ]
     },
     "metadata": {},
     "output_type": "display_data"
    },
    {
     "data": {
      "text/plain": [
       "-7.785782945206073"
      ]
     },
     "metadata": {},
     "output_type": "display_data"
    },
    {
     "data": {
      "text/plain": [
       "-7.8236601331521545"
      ]
     },
     "metadata": {},
     "output_type": "display_data"
    },
    {
     "data": {
      "text/plain": [
       "-7.861224039731191"
      ]
     },
     "metadata": {},
     "output_type": "display_data"
    },
    {
     "data": {
      "text/plain": [
       "-7.8984332821983285"
      ]
     },
     "metadata": {},
     "output_type": "display_data"
    },
    {
     "data": {
      "text/plain": [
       "-7.9352390084943"
      ]
     },
     "metadata": {},
     "output_type": "display_data"
    },
    {
     "data": {
      "text/plain": [
       "-7.9715832716440795"
      ]
     },
     "metadata": {},
     "output_type": "display_data"
    },
    {
     "data": {
      "text/plain": [
       "-8.007397007792736"
      ]
     },
     "metadata": {},
     "output_type": "display_data"
    },
    {
     "data": {
      "text/plain": [
       "-8.04259752145661"
      ]
     },
     "metadata": {},
     "output_type": "display_data"
    },
    {
     "data": {
      "text/plain": [
       "-8.077085365568252"
      ]
     },
     "metadata": {},
     "output_type": "display_data"
    },
    {
     "data": {
      "text/plain": [
       "-8.110740493718932"
      ]
     },
     "metadata": {},
     "output_type": "display_data"
    },
    {
     "data": {
      "text/plain": [
       "-8.143417568071921"
      ]
     },
     "metadata": {},
     "output_type": "display_data"
    },
    {
     "data": {
      "text/plain": [
       "-8.174940348503817"
      ]
     },
     "metadata": {},
     "output_type": "display_data"
    },
    {
     "data": {
      "text/plain": [
       "-8.20509520168473"
      ]
     },
     "metadata": {},
     "output_type": "display_data"
    },
    {
     "data": {
      "text/plain": [
       "-8.233624010354493"
      ]
     },
     "metadata": {},
     "output_type": "display_data"
    },
    {
     "data": {
      "text/plain": [
       "-8.260217216027923"
      ]
     },
     "metadata": {},
     "output_type": "display_data"
    },
    {
     "data": {
      "text/plain": [
       "-8.284508487764118"
      ]
     },
     "metadata": {},
     "output_type": "display_data"
    },
    {
     "data": {
      "text/plain": [
       "-8.306073621538006"
      ]
     },
     "metadata": {},
     "output_type": "display_data"
    },
    {
     "data": {
      "text/plain": [
       "-8.32443758352307"
      ]
     },
     "metadata": {},
     "output_type": "display_data"
    },
    {
     "data": {
      "text/plain": [
       "-8.339094498304894"
      ]
     },
     "metadata": {},
     "output_type": "display_data"
    },
    {
     "data": {
      "text/plain": [
       "-8.349544554445442"
      ]
     },
     "metadata": {},
     "output_type": "display_data"
    },
    {
     "data": {
      "text/plain": [
       "-8.355347623915515"
      ]
     },
     "metadata": {},
     "output_type": "display_data"
    },
    {
     "data": {
      "text/plain": [
       "-8.356185465497466"
      ]
     },
     "metadata": {},
     "output_type": "display_data"
    },
    {
     "data": {
      "text/plain": [
       "-8.351915833880453"
      ]
     },
     "metadata": {},
     "output_type": "display_data"
    },
    {
     "data": {
      "text/plain": [
       "-8.342599289040026"
      ]
     },
     "metadata": {},
     "output_type": "display_data"
    },
    {
     "data": {
      "text/plain": [
       "-8.328487826374626"
      ]
     },
     "metadata": {},
     "output_type": "display_data"
    },
    {
     "data": {
      "text/plain": [
       "-8.30998002484255"
      ]
     },
     "metadata": {},
     "output_type": "display_data"
    },
    {
     "data": {
      "text/plain": [
       "-8.287559781434249"
      ]
     },
     "metadata": {},
     "output_type": "display_data"
    },
    {
     "data": {
      "text/plain": [
       "-8.261737521246888"
      ]
     },
     "metadata": {},
     "output_type": "display_data"
    },
    {
     "data": {
      "text/plain": [
       "-8.23300586146088"
      ]
     },
     "metadata": {},
     "output_type": "display_data"
    },
    {
     "data": {
      "text/plain": [
       "-8.201812875452491"
      ]
     },
     "metadata": {},
     "output_type": "display_data"
    },
    {
     "data": {
      "text/plain": [
       "-8.168550242717531"
      ]
     },
     "metadata": {},
     "output_type": "display_data"
    },
    {
     "data": {
      "text/plain": [
       "-8.133551516596324"
      ]
     },
     "metadata": {},
     "output_type": "display_data"
    },
    {
     "data": {
      "text/plain": [
       "-8.097096107750739"
      ]
     },
     "metadata": {},
     "output_type": "display_data"
    },
    {
     "data": {
      "text/plain": [
       "-8.059415828488763"
      ]
     },
     "metadata": {},
     "output_type": "display_data"
    },
    {
     "data": {
      "text/plain": [
       "-8.020702078515457"
      ]
     },
     "metadata": {},
     "output_type": "display_data"
    },
    {
     "data": {
      "text/plain": [
       "-7.981112662527983"
      ]
     },
     "metadata": {},
     "output_type": "display_data"
    },
    {
     "data": {
      "text/plain": [
       "-7.940777801297857"
      ]
     },
     "metadata": {},
     "output_type": "display_data"
    },
    {
     "data": {
      "text/plain": [
       "-7.899805216875149"
      ]
     },
     "metadata": {},
     "output_type": "display_data"
    },
    {
     "data": {
      "text/plain": [
       "-7.858284331062254"
      ]
     },
     "metadata": {},
     "output_type": "display_data"
    },
    {
     "data": {
      "text/plain": [
       "-7.816289682694752"
      ]
     },
     "metadata": {},
     "output_type": "display_data"
    },
    {
     "data": {
      "text/plain": [
       "-7.773883687178137"
      ]
     },
     "metadata": {},
     "output_type": "display_data"
    },
    {
     "data": {
      "text/plain": [
       "-7.731118856551473"
      ]
     },
     "metadata": {},
     "output_type": "display_data"
    },
    {
     "data": {
      "text/plain": [
       "-7.688039583832873"
      ]
     },
     "metadata": {},
     "output_type": "display_data"
    },
    {
     "data": {
      "text/plain": [
       "-7.644683578500738"
      ]
     },
     "metadata": {},
     "output_type": "display_data"
    },
    {
     "data": {
      "text/plain": [
       "-7.601083023882405"
      ]
     },
     "metadata": {},
     "output_type": "display_data"
    },
    {
     "data": {
      "text/plain": [
       "-7.557265513208744"
      ]
     },
     "metadata": {},
     "output_type": "display_data"
    },
    {
     "data": {
      "text/plain": [
       "-7.513254809438861"
      ]
     },
     "metadata": {},
     "output_type": "display_data"
    },
    {
     "data": {
      "text/plain": [
       "-7.469071464525955"
      ]
     },
     "metadata": {},
     "output_type": "display_data"
    },
    {
     "data": {
      "text/plain": [
       "-7.424733326278358"
      ]
     },
     "metadata": {},
     "output_type": "display_data"
    },
    {
     "data": {
      "text/plain": [
       "-7.380255955035539"
      ]
     },
     "metadata": {},
     "output_type": "display_data"
    },
    {
     "data": {
      "text/plain": [
       "-7.3356529677214235"
      ]
     },
     "metadata": {},
     "output_type": "display_data"
    },
    {
     "data": {
      "text/plain": [
       "-7.290936323184558"
      ]
     },
     "metadata": {},
     "output_type": "display_data"
    },
    {
     "data": {
      "text/plain": [
       "-7.2461165598759845"
      ]
     },
     "metadata": {},
     "output_type": "display_data"
    },
    {
     "data": {
      "text/plain": [
       "-7.201202994673279"
      ]
     },
     "metadata": {},
     "output_type": "display_data"
    },
    {
     "data": {
      "text/plain": [
       "-7.1562038898973945"
      ]
     },
     "metadata": {},
     "output_type": "display_data"
    },
    {
     "data": {
      "text/plain": [
       "-7.111126594182322"
      ]
     },
     "metadata": {},
     "output_type": "display_data"
    },
    {
     "data": {
      "text/plain": [
       "-7.065977661760072"
      ]
     },
     "metadata": {},
     "output_type": "display_data"
    },
    {
     "data": {
      "text/plain": [
       "-7.020762953855914"
      ]
     },
     "metadata": {},
     "output_type": "display_data"
    },
    {
     "data": {
      "text/plain": [
       "-6.975487725195895"
      ]
     },
     "metadata": {},
     "output_type": "display_data"
    },
    {
     "data": {
      "text/plain": [
       "-6.930156698077431"
      ]
     },
     "metadata": {},
     "output_type": "display_data"
    },
    {
     "data": {
      "text/plain": [
       "-6.884774126010372"
      ]
     },
     "metadata": {},
     "output_type": "display_data"
    },
    {
     "data": {
      "text/plain": [
       "-6.8393438485798566"
      ]
     },
     "metadata": {},
     "output_type": "display_data"
    },
    {
     "data": {
      "text/plain": [
       "-6.793869338894522"
      ]
     },
     "metadata": {},
     "output_type": "display_data"
    },
    {
     "data": {
      "text/plain": [
       "-6.748353744749581"
      ]
     },
     "metadata": {},
     "output_type": "display_data"
    },
    {
     "data": {
      "text/plain": [
       "-6.702799924444937"
      ]
     },
     "metadata": {},
     "output_type": "display_data"
    },
    {
     "data": {
      "text/plain": [
       "-6.657210478042139"
      ]
     },
     "metadata": {},
     "output_type": "display_data"
    },
    {
     "data": {
      "text/plain": [
       "-6.611587774718408"
      ]
     },
     "metadata": {},
     "output_type": "display_data"
    },
    {
     "data": {
      "text/plain": [
       "-6.565933976768464"
      ]
     },
     "metadata": {},
     "output_type": "display_data"
    },
    {
     "data": {
      "text/plain": [
       "-6.520251060720841"
      ]
     },
     "metadata": {},
     "output_type": "display_data"
    },
    {
     "data": {
      "text/plain": [
       "-6.474540835962167"
      ]
     },
     "metadata": {},
     "output_type": "display_data"
    },
    {
     "data": {
      "text/plain": [
       "-6.428804961203369"
      ]
     },
     "metadata": {},
     "output_type": "display_data"
    },
    {
     "data": {
      "text/plain": [
       "-6.383044959072263"
      ]
     },
     "metadata": {},
     "output_type": "display_data"
    },
    {
     "data": {
      "text/plain": [
       "-6.337262229075496"
      ]
     },
     "metadata": {},
     "output_type": "display_data"
    },
    {
     "data": {
      "text/plain": [
       "-6.2914580591367395"
      ]
     },
     "metadata": {},
     "output_type": "display_data"
    },
    {
     "data": {
      "text/plain": [
       "-6.245633635890263"
      ]
     },
     "metadata": {},
     "output_type": "display_data"
    },
    {
     "data": {
      "text/plain": [
       "-6.199790053882684"
      ]
     },
     "metadata": {},
     "output_type": "display_data"
    },
    {
     "data": {
      "text/plain": [
       "-6.153928323815247"
      ]
     },
     "metadata": {},
     "output_type": "display_data"
    },
    {
     "data": {
      "text/plain": [
       "-6.108049379941136"
      ]
     },
     "metadata": {},
     "output_type": "display_data"
    },
    {
     "data": {
      "text/plain": [
       "-6.06215408671704"
      ]
     },
     "metadata": {},
     "output_type": "display_data"
    },
    {
     "data": {
      "text/plain": [
       "-6.016243244794833"
      ]
     },
     "metadata": {},
     "output_type": "display_data"
    },
    {
     "data": {
      "text/plain": [
       "-5.970317596428954"
      ]
     },
     "metadata": {},
     "output_type": "display_data"
    },
    {
     "data": {
      "text/plain": [
       "-5.92437783036422"
      ]
     },
     "metadata": {},
     "output_type": "display_data"
    },
    {
     "data": {
      "text/plain": [
       "-5.878424586262346"
      ]
     },
     "metadata": {},
     "output_type": "display_data"
    },
    {
     "data": {
      "text/plain": [
       "-5.832458458716177"
      ]
     },
     "metadata": {},
     "output_type": "display_data"
    },
    {
     "data": {
      "text/plain": [
       "-5.786480000897104"
      ]
     },
     "metadata": {},
     "output_type": "display_data"
    },
    {
     "data": {
      "text/plain": [
       "-5.740489727873218"
      ]
     },
     "metadata": {},
     "output_type": "display_data"
    },
    {
     "data": {
      "text/plain": [
       "-5.694488119633114"
      ]
     },
     "metadata": {},
     "output_type": "display_data"
    },
    {
     "data": {
      "text/plain": [
       "-5.648475623845691"
      ]
     },
     "metadata": {},
     "output_type": "display_data"
    },
    {
     "data": {
      "text/plain": [
       "-5.602452658381994"
      ]
     },
     "metadata": {},
     "output_type": "display_data"
    },
    {
     "data": {
      "text/plain": [
       "-5.556419613623509"
      ]
     },
     "metadata": {},
     "output_type": "display_data"
    },
    {
     "data": {
      "text/plain": [
       "-5.510376854577732"
      ]
     },
     "metadata": {},
     "output_type": "display_data"
    },
    {
     "data": {
      "text/plain": [
       "-5.464324722819473"
      ]
     },
     "metadata": {},
     "output_type": "display_data"
    },
    {
     "data": {
      "text/plain": [
       "-5.418263538275048"
      ]
     },
     "metadata": {},
     "output_type": "display_data"
    },
    {
     "data": {
      "text/plain": [
       "-5.372193600863886"
      ]
     },
     "metadata": {},
     "output_type": "display_data"
    },
    {
     "data": {
      "text/plain": [
       "-5.326115192010995"
      ]
     },
     "metadata": {},
     "output_type": "display_data"
    },
    {
     "data": {
      "text/plain": [
       "-5.280028576042202"
      ]
     },
     "metadata": {},
     "output_type": "display_data"
    },
    {
     "data": {
      "text/plain": [
       "-5.233934001472902"
      ]
     },
     "metadata": {},
     "output_type": "display_data"
    },
    {
     "data": {
      "text/plain": [
       "-5.187831702199569"
      ]
     },
     "metadata": {},
     "output_type": "display_data"
    },
    {
     "data": {
      "text/plain": [
       "-5.141721898603253"
      ]
     },
     "metadata": {},
     "output_type": "display_data"
    },
    {
     "data": {
      "text/plain": [
       "-5.095604798572163"
      ]
     },
     "metadata": {},
     "output_type": "display_data"
    },
    {
     "data": {
      "text/plain": [
       "-5.0494805984507565"
      ]
     },
     "metadata": {},
     "output_type": "display_data"
    },
    {
     "data": {
      "text/plain": [
       "-5.003349483921383"
      ]
     },
     "metadata": {},
     "output_type": "display_data"
    },
    {
     "data": {
      "text/plain": [
       "-4.9572116308246565"
      ]
     },
     "metadata": {},
     "output_type": "display_data"
    },
    {
     "data": {
      "text/plain": [
       "-4.9110672059227145"
      ]
     },
     "metadata": {},
     "output_type": "display_data"
    },
    {
     "data": {
      "text/plain": [
       "-4.864916367611357"
      ]
     },
     "metadata": {},
     "output_type": "display_data"
    },
    {
     "data": {
      "text/plain": [
       "-4.818759266584024"
      ]
     },
     "metadata": {},
     "output_type": "display_data"
    },
    {
     "data": {
      "text/plain": [
       "-4.772596046452723"
      ]
     },
     "metadata": {},
     "output_type": "display_data"
    },
    {
     "data": {
      "text/plain": [
       "-4.726426844327921"
      ]
     },
     "metadata": {},
     "output_type": "display_data"
    },
    {
     "data": {
      "text/plain": [
       "-4.680251791362156"
      ]
     },
     "metadata": {},
     "output_type": "display_data"
    },
    {
     "data": {
      "text/plain": [
       "-4.6340710132588026"
      ]
     },
     "metadata": {},
     "output_type": "display_data"
    },
    {
     "data": {
      "text/plain": [
       "-4.587884630750009"
      ]
     },
     "metadata": {},
     "output_type": "display_data"
    },
    {
     "data": {
      "text/plain": [
       "-4.541692760045112"
      ]
     },
     "metadata": {},
     "output_type": "display_data"
    },
    {
     "data": {
      "text/plain": [
       "-4.495495513251984"
      ]
     },
     "metadata": {},
     "output_type": "display_data"
    },
    {
     "data": {
      "text/plain": [
       "-4.449292998774149"
      ]
     },
     "metadata": {},
     "output_type": "display_data"
    },
    {
     "data": {
      "text/plain": [
       "-4.4030853216841965"
      ]
     },
     "metadata": {},
     "output_type": "display_data"
    },
    {
     "data": {
      "text/plain": [
       "-4.356872584076256"
      ]
     },
     "metadata": {},
     "output_type": "display_data"
    },
    {
     "data": {
      "text/plain": [
       "-4.310654885398562"
      ]
     },
     "metadata": {},
     "output_type": "display_data"
    },
    {
     "data": {
      "text/plain": [
       "-4.264432322767537"
      ]
     },
     "metadata": {},
     "output_type": "display_data"
    },
    {
     "data": {
      "text/plain": [
       "-4.2182049912685375"
      ]
     },
     "metadata": {},
     "output_type": "display_data"
    }
   ],
   "source": [
    "# Check conic violation\n",
    "convio = 0.0\n",
    "for k = 1:N-1\n",
    "    Uc = cone_u(params, U[k])\n",
    "    huc = norm(Uc[1:2]) - Uc[3]\n",
    "    convio = norm(huc + abs.(huc),Inf)\n",
    "    display(huc) # should <= 0\n",
    "end\n",
    "Xref .= Xn;\n",
    "Uref .= Un;"
   ]
  },
  {
   "cell_type": "code",
   "execution_count": 27,
   "id": "5c8d15e2-a563-4077-96df-8f829ba24d00",
   "metadata": {},
   "outputs": [],
   "source": [
    "### MPC style ###\n",
    "Nsim = 301\n",
    "Nh = 21\n",
    "t_vec = dt*(0:Nsim-1)\n",
    "\n",
    "x0 = [4, 2, 20, -3, 2, -5.0]  # initial plan\n",
    "# x0 = [5, 2, 21, -3, 2, -5.0]  # change this!\n",
    "# x0 = [4.4, 2.2, 20.2, -3.03, 2.02, -5.05]\n",
    "\n",
    "xg = [0,0,0,0,0,0.0]\n",
    "Q = 10e-1*Diagonal([1,1,1,1.0,1,1])  # make this higher!\n",
    "R = 1e-1*Diagonal([1,1,1])\n",
    "Qf = 100*Q  # change this!\n",
    "θ_thrust_max = 7.0  # increase max thrust from plan!\n",
    "\n",
    "# state is x y v θ\n",
    "x_min = [-5,-5,0,-10,-10,-10.0]\n",
    "x_max = [5,5,20,10,10,10.0]\n",
    "\n",
    "ncx = 2*nx*0\n",
    "ncu = 2*nu*0\n",
    "ncg = 0\n",
    "ncu_cone = nu*1; \n",
    "cone_scale = 1\n",
    "\n",
    "params = (\n",
    "    nx = nx,\n",
    "    nu = nu,\n",
    "    ncx = ncx,\n",
    "    ncu = ncu,\n",
    "    ncg = ncg,\n",
    "    ncu_cone = ncu_cone,\n",
    "    A_cone = A_cone,\n",
    "    c_cone = c_cone,\n",
    "    N = Nh,\n",
    "    Q = Q,\n",
    "    R = R,\n",
    "    Qf = Qf,\n",
    "    u_min = u_min,\n",
    "    u_max = u_max,\n",
    "    x_min = x_min,\n",
    "    x_max = x_max,\n",
    "    Xref = Xref,\n",
    "    Uref = Uref,\n",
    "    dt = dt,\n",
    "    mc = 1.0,\n",
    "    mp = 0.2,\n",
    "    l = 0.5,\n",
    "    g = 9.81,\n",
    ");\n",
    "\n",
    "Xhist = [deepcopy(x0) for i = 1:Nsim]\n",
    "Uhist = [-mass * gravity for k = 1:Nsim-1]\n",
    "# previous iterate\n",
    "X = [deepcopy(x0) for i = 1:Nh]\n",
    "U = [-mass * gravity for k = 1:Nh-1]\n",
    "\n",
    "# new iterate\n",
    "Xn = deepcopy(X)\n",
    "Un = deepcopy(U)\n",
    "\n",
    "P = [zeros(nx,nx) for i = 1:Nh]   # cost to go quadratic term\n",
    "p = [zeros(nx) for i = 1:Nh]      # cost to go linear term\n",
    "d = [zeros(nu) for i = 1:Nh-1]    # feedforward control\n",
    "K = [zeros(nu,nx) for i = 1:Nh-1] # feedback gain\n",
    "\n",
    "for i = 1:Nsim-Nh-1\n",
    "    params1 = (; params..., Uref = Uref[i:Nh+i], Xref = Xref[i:Nh+i-1])  # update ref\n",
    "    \n",
    "    # noise_pos = randn(3)\n",
    "    # noise_vel = randn(3)\n",
    "    # pos_norm = norm(Xhist[i][1:3], Inf) / 100 # 1% noise\n",
    "    # vel_norm = norm(x0[4:6], Inf) / 1e6 # 1ppm noise\n",
    "    # Xhist[i] += [noise_pos * pos_norm; noise_vel * vel_norm]\n",
    "    X[1] .= Xhist[i]  # update initial\n",
    "    X_ = mpc(params1,X,U,P,p,K,d,Xn,Un;atol=1e-1,max_iters = 15,verbose = false,ρ = 1e0, ϕ = 10.0);\n",
    "    Uhist[i] = Un[1]\n",
    "    Xhist[i+1] = discrete_dynamics(params1,Xhist[i],Uhist[i],i)  # dynamics\n",
    "end"
   ]
  },
  {
   "cell_type": "code",
   "execution_count": 90,
   "id": "942ddb05-abb4-4e51-b9b5-0a6f46c55840",
   "metadata": {},
   "outputs": [
    {
     "ename": "LoadError",
     "evalue": "MethodError: \u001b[0mCannot `convert` an object of type \u001b[92mDiagonal{Float64, Vector{Float64}}\u001b[39m\u001b[0m to an object of type \u001b[91mFloat64\u001b[39m\n\u001b[0mClosest candidates are:\n\u001b[0m  convert(::Type{T}, \u001b[91m::Gray24\u001b[39m) where T<:Real at /home/khai/.julia/packages/ColorTypes/1dGw6/src/conversions.jl:114\n\u001b[0m  convert(::Type{T}, \u001b[91m::Gray\u001b[39m) where T<:Real at /home/khai/.julia/packages/ColorTypes/1dGw6/src/conversions.jl:113\n\u001b[0m  convert(::Type{T}, \u001b[91m::Base.TwicePrecision\u001b[39m) where T<:Number at twiceprecision.jl:250\n\u001b[0m  ...",
     "output_type": "error",
     "traceback": [
      "MethodError: \u001b[0mCannot `convert` an object of type \u001b[92mDiagonal{Float64, Vector{Float64}}\u001b[39m\u001b[0m to an object of type \u001b[91mFloat64\u001b[39m\n\u001b[0mClosest candidates are:\n\u001b[0m  convert(::Type{T}, \u001b[91m::Gray24\u001b[39m) where T<:Real at /home/khai/.julia/packages/ColorTypes/1dGw6/src/conversions.jl:114\n\u001b[0m  convert(::Type{T}, \u001b[91m::Gray\u001b[39m) where T<:Real at /home/khai/.julia/packages/ColorTypes/1dGw6/src/conversions.jl:113\n\u001b[0m  convert(::Type{T}, \u001b[91m::Base.TwicePrecision\u001b[39m) where T<:Number at twiceprecision.jl:250\n\u001b[0m  ...",
      "",
      "Stacktrace:",
      " [1] setindex!(A::Matrix{Float64}, x::Diagonal{Float64, Vector{Float64}}, i1::Int64)",
      "   @ Base ./array.jl:843",
      " [2] backward_pass!(params::NamedTuple{(:nx, :nu, :ncx, :ncu, :ncg, :ncu_cone, :A_cone, :c_cone, :N, :Q, :R, :Qf, :u_min, :u_max, :x_min, :x_max, :Xref, :Uref, :dt, :mc, :mp, :l, :g), Tuple{Int64, Int64, Int64, Int64, Int64, Int64, Matrix{Int64}, Vector{Float64}, Int64, Diagonal{Float64, Vector{Float64}}, Diagonal{Float64, Vector{Float64}}, Diagonal{Float64, Vector{Float64}}, Vector{Float64}, Vector{Float64}, Vector{Float64}, Vector{Float64}, Vector{Vector{Float64}}, Vector{Vector{Float64}}, Float64, Float64, Float64, Float64, Float64}}, X::Vector{Vector{Float64}}, U::Vector{Vector{Float64}}, P::Matrix{Float64}, p::Vector{Vector{Float64}}, d::Vector{Vector{Float64}}, K::Vector{Matrix{Float64}}, reg::Float64, μ::Vector{Vector{Float64}}, μx::Vector{Vector{Float64}}, ρ::Float64, λ::Vector{Float64}, λc::Vector{Vector{Float64}})",
      "   @ Main ./In[89]:38",
      " [3] mpc(params::NamedTuple{(:nx, :nu, :ncx, :ncu, :ncg, :ncu_cone, :A_cone, :c_cone, :N, :Q, :R, :Qf, :u_min, :u_max, :x_min, :x_max, :Xref, :Uref, :dt, :mc, :mp, :l, :g), Tuple{Int64, Int64, Int64, Int64, Int64, Int64, Matrix{Int64}, Vector{Float64}, Int64, Diagonal{Float64, Vector{Float64}}, Diagonal{Float64, Vector{Float64}}, Diagonal{Float64, Vector{Float64}}, Vector{Float64}, Vector{Float64}, Vector{Float64}, Vector{Float64}, Vector{Vector{Float64}}, Vector{Vector{Float64}}, Float64, Float64, Float64, Float64, Float64}}, X::Vector{Vector{Float64}}, U::Vector{Vector{Float64}}, P::Matrix{Float64}, p::Vector{Vector{Float64}}, K::Vector{Matrix{Float64}}, d::Vector{Vector{Float64}}, Xn::Vector{Vector{Float64}}, Un::Vector{Vector{Float64}}; atol::Float64, max_iters::Int64, verbose::Bool, ρ::Float64, ϕ::Float64)",
      "   @ Main ./In[89]:169",
      " [4] top-level scope",
      "   @ ./In[90]:87",
      " [5] eval",
      "   @ ./boot.jl:360 [inlined]",
      " [6] include_string(mapexpr::typeof(REPL.softscope), mod::Module, code::String, filename::String)",
      "   @ Base ./loading.jl:1116"
     ]
    }
   ],
   "source": [
    "### MPC style with other solver ###\n",
    "include(\"mpc_JuMP.jl\")\n",
    "Nsim = 301\n",
    "Nh = 21\n",
    "t_vec = dt*(0:Nsim-1)\n",
    "\n",
    "x0 = [4, 2, 20, -3, 2, -5.0]  # initial plan\n",
    "# x0 = [5, 2, 21, -3, 2, -5.0]  # change this!\n",
    "# x0 = [4.4, 2.2, 20.2, -3.03, 2.02, -5.05]\n",
    "\n",
    "xg = [0,0,0,0,0,0.0]\n",
    "Q = 10e-1*Diagonal([1,1,1,1.0,1,1])  # make this higher!\n",
    "R = 1e-1*Diagonal([1,1,1])\n",
    "Qf = 100*Q  # change this!\n",
    "θ_thrust_max = 7.0  # increase max thrust from plan!\n",
    "\n",
    "# state is x y v θ\n",
    "x_min = [-5,-5,0,-10,-10,-10.0]\n",
    "x_max = [5,5,20,10,10,10.0]\n",
    "\n",
    "ncx = 2*nx*0\n",
    "ncu = 2*nu*0\n",
    "ncg = 0\n",
    "ncu_cone = nu*1; \n",
    "cone_scale = 1\n",
    "\n",
    "params = (\n",
    "    nx = nx,\n",
    "    nu = nu,\n",
    "    ncx = ncx,\n",
    "    ncu = ncu,\n",
    "    ncg = ncg,\n",
    "    ncu_cone = ncu_cone,\n",
    "    A_cone = A_cone,\n",
    "    c_cone = c_cone,\n",
    "    N = Nh,\n",
    "    Q = Q,\n",
    "    R = R,\n",
    "    Qf = Qf,\n",
    "    u_min = u_min,\n",
    "    u_max = u_max,\n",
    "    x_min = x_min,\n",
    "    x_max = x_max,\n",
    "    Xref = Xref,\n",
    "    Uref = Uref,\n",
    "    dt = dt,\n",
    "    mc = 1.0,\n",
    "    mp = 0.2,\n",
    "    l = 0.5,\n",
    "    g = 9.81,\n",
    ");\n",
    "\n",
    "Xhist = [deepcopy(x0) for i = 1:Nsim]\n",
    "Uhist = [-mass * gravity for k = 1:Nsim-1]\n",
    "# previous iterate\n",
    "X = [deepcopy(x0) for i = 1:Nh]\n",
    "U = [-mass * gravity for k = 1:Nh-1]\n",
    "\n",
    "# new iterate\n",
    "Xn = deepcopy(X)\n",
    "Un = deepcopy(U)\n",
    "\n",
    "P = [zeros(nx,nx) for i = 1:Nh]   # cost to go quadratic term\n",
    "p = [zeros(nx) for i = 1:Nh]      # cost to go linear term\n",
    "d = [zeros(nu) for i = 1:Nh-1]    # feedforward control\n",
    "K = [zeros(nu,nx) for i = 1:Nh-1] # feedback gain\n",
    "\n",
    "optimizer = JuMP.optimizer_with_attributes(COSMO.Optimizer,\n",
    "    \"verbose\"=>false,\n",
    "    \"eps_abs\"=>1e-4,\n",
    "    \"eps_rel\"=>1e-4,\n",
    "    \"rho\"=>1e-2,\n",
    "    \"scaling\"=>0,\n",
    "    \"alpha\"=>1.0)\n",
    "\n",
    "for i = 1:Nsim-Nh-1\n",
    "    params1 = (; params..., Uref = Uref[i:Nh+i], Xref = Xref[i:Nh+i-1])  # update ref\n",
    "    noise_pos = randn(3)\n",
    "    noise_vel = randn(3)\n",
    "    pos_norm = norm(Xhist[i][1:3], Inf) / 100 # 1% noise\n",
    "    vel_norm = norm(x0[4:6], Inf) / 1e6 # 1ppm noise\n",
    "    Xhist[i] += [noise_pos * pos_norm; noise_vel * vel_norm]\n",
    "    \n",
    "    # Uhist[i] = mpc_JuMP(optimizer, params1, Xhist[i], A, B, f)\n",
    "    X_ = mpc(params1,X,U,P,p,K,d,Xn,Un;atol=1e-1,max_iters = 15,verbose = false,ρ = 1e0, ϕ = 10.0); Uhist[i] = Un[1]\n",
    "    Xhist[i+1] = discrete_dynamics(params1,Xhist[i],Uhist[i],i)  # dynamics\n",
    "end"
   ]
  },
  {
   "cell_type": "code",
   "execution_count": 84,
   "id": "d651f59e-e700-4bc9-927c-98835f2679f4",
   "metadata": {},
   "outputs": [
    {
     "data": {
      "text/plain": [
       "-0.00045963710848440087"
      ]
     },
     "metadata": {},
     "output_type": "display_data"
    },
    {
     "data": {
      "text/plain": [
       "-4.1854269547059175e-5"
      ]
     },
     "metadata": {},
     "output_type": "display_data"
    },
    {
     "data": {
      "text/plain": [
       "-0.0004913338739243045"
      ]
     },
     "metadata": {},
     "output_type": "display_data"
    },
    {
     "data": {
      "text/plain": [
       "-0.0004844058307957866"
      ]
     },
     "metadata": {},
     "output_type": "display_data"
    },
    {
     "data": {
      "text/plain": [
       "1.1223172318608476e-5"
      ]
     },
     "metadata": {},
     "output_type": "display_data"
    },
    {
     "data": {
      "text/plain": [
       "0.001667442783023887"
      ]
     },
     "metadata": {},
     "output_type": "display_data"
    },
    {
     "data": {
      "text/plain": [
       "0.00018753595087073194"
      ]
     },
     "metadata": {},
     "output_type": "display_data"
    },
    {
     "data": {
      "text/plain": [
       "-0.00047616872055833426"
      ]
     },
     "metadata": {},
     "output_type": "display_data"
    },
    {
     "data": {
      "text/plain": [
       "-0.001455315247094191"
      ]
     },
     "metadata": {},
     "output_type": "display_data"
    },
    {
     "data": {
      "text/plain": [
       "6.258599016994992e-5"
      ]
     },
     "metadata": {},
     "output_type": "display_data"
    },
    {
     "data": {
      "text/plain": [
       "-0.00038555714473176295"
      ]
     },
     "metadata": {},
     "output_type": "display_data"
    },
    {
     "data": {
      "text/plain": [
       "-0.0009696152151459358"
      ]
     },
     "metadata": {},
     "output_type": "display_data"
    },
    {
     "data": {
      "text/plain": [
       "1.9449349242250946e-6"
      ]
     },
     "metadata": {},
     "output_type": "display_data"
    },
    {
     "data": {
      "text/plain": [
       "-0.003069520134742376"
      ]
     },
     "metadata": {},
     "output_type": "display_data"
    },
    {
     "data": {
      "text/plain": [
       "-0.00031428535155697546"
      ]
     },
     "metadata": {},
     "output_type": "display_data"
    },
    {
     "data": {
      "text/plain": [
       "-0.00011685870280331301"
      ]
     },
     "metadata": {},
     "output_type": "display_data"
    },
    {
     "data": {
      "text/plain": [
       "-0.0002063710218376258"
      ]
     },
     "metadata": {},
     "output_type": "display_data"
    },
    {
     "data": {
      "text/plain": [
       "0.00040859008099047855"
      ]
     },
     "metadata": {},
     "output_type": "display_data"
    },
    {
     "data": {
      "text/plain": [
       "-0.00041743472477584476"
      ]
     },
     "metadata": {},
     "output_type": "display_data"
    },
    {
     "data": {
      "text/plain": [
       "-0.0007099698411057176"
      ]
     },
     "metadata": {},
     "output_type": "display_data"
    },
    {
     "data": {
      "text/plain": [
       "-0.00027291637296755766"
      ]
     },
     "metadata": {},
     "output_type": "display_data"
    },
    {
     "data": {
      "text/plain": [
       "7.803284615803818e-6"
      ]
     },
     "metadata": {},
     "output_type": "display_data"
    },
    {
     "data": {
      "text/plain": [
       "-0.0017236929062471873"
      ]
     },
     "metadata": {},
     "output_type": "display_data"
    },
    {
     "data": {
      "text/plain": [
       "0.001004723832220833"
      ]
     },
     "metadata": {},
     "output_type": "display_data"
    },
    {
     "data": {
      "text/plain": [
       "-0.0016899630901434648"
      ]
     },
     "metadata": {},
     "output_type": "display_data"
    },
    {
     "data": {
      "text/plain": [
       "-0.0001981287360228734"
      ]
     },
     "metadata": {},
     "output_type": "display_data"
    },
    {
     "data": {
      "text/plain": [
       "0.0008606222075489001"
      ]
     },
     "metadata": {},
     "output_type": "display_data"
    },
    {
     "data": {
      "text/plain": [
       "-0.0008956177686965106"
      ]
     },
     "metadata": {},
     "output_type": "display_data"
    },
    {
     "data": {
      "text/plain": [
       "0.00019542109911796501"
      ]
     },
     "metadata": {},
     "output_type": "display_data"
    },
    {
     "data": {
      "text/plain": [
       "-0.00035811147758479933"
      ]
     },
     "metadata": {},
     "output_type": "display_data"
    },
    {
     "data": {
      "text/plain": [
       "-0.00011040415624918865"
      ]
     },
     "metadata": {},
     "output_type": "display_data"
    },
    {
     "data": {
      "text/plain": [
       "-0.0003681472465864033"
      ]
     },
     "metadata": {},
     "output_type": "display_data"
    },
    {
     "data": {
      "text/plain": [
       "3.8889896815774705e-5"
      ]
     },
     "metadata": {},
     "output_type": "display_data"
    },
    {
     "data": {
      "text/plain": [
       "-0.00031391697538296626"
      ]
     },
     "metadata": {},
     "output_type": "display_data"
    },
    {
     "data": {
      "text/plain": [
       "0.0003483360057927598"
      ]
     },
     "metadata": {},
     "output_type": "display_data"
    },
    {
     "data": {
      "text/plain": [
       "9.415445742799733e-5"
      ]
     },
     "metadata": {},
     "output_type": "display_data"
    },
    {
     "data": {
      "text/plain": [
       "-0.0019498309844809825"
      ]
     },
     "metadata": {},
     "output_type": "display_data"
    },
    {
     "data": {
      "text/plain": [
       "-7.220995622869708e-5"
      ]
     },
     "metadata": {},
     "output_type": "display_data"
    },
    {
     "data": {
      "text/plain": [
       "-2.3113772341432082e-5"
      ]
     },
     "metadata": {},
     "output_type": "display_data"
    },
    {
     "data": {
      "text/plain": [
       "-0.00018836650225573237"
      ]
     },
     "metadata": {},
     "output_type": "display_data"
    },
    {
     "data": {
      "text/plain": [
       "-2.3730871068767527"
      ]
     },
     "metadata": {},
     "output_type": "display_data"
    },
    {
     "data": {
      "text/plain": [
       "-3.9524573742473867"
      ]
     },
     "metadata": {},
     "output_type": "display_data"
    },
    {
     "data": {
      "text/plain": [
       "-8.577296964418224e-5"
      ]
     },
     "metadata": {},
     "output_type": "display_data"
    },
    {
     "data": {
      "text/plain": [
       "0.0021967482857103704"
      ]
     },
     "metadata": {},
     "output_type": "display_data"
    },
    {
     "data": {
      "text/plain": [
       "-3.09371640287992e-5"
      ]
     },
     "metadata": {},
     "output_type": "display_data"
    },
    {
     "data": {
      "text/plain": [
       "-7.212942596801497e-5"
      ]
     },
     "metadata": {},
     "output_type": "display_data"
    },
    {
     "data": {
      "text/plain": [
       "0.001111222780077803"
      ]
     },
     "metadata": {},
     "output_type": "display_data"
    },
    {
     "data": {
      "text/plain": [
       "-0.0004858384167008012"
      ]
     },
     "metadata": {},
     "output_type": "display_data"
    },
    {
     "data": {
      "text/plain": [
       "-0.000494963798752579"
      ]
     },
     "metadata": {},
     "output_type": "display_data"
    },
    {
     "data": {
      "text/plain": [
       "6.912198775310685e-5"
      ]
     },
     "metadata": {},
     "output_type": "display_data"
    },
    {
     "data": {
      "text/plain": [
       "0.0008260640281880782"
      ]
     },
     "metadata": {},
     "output_type": "display_data"
    },
    {
     "data": {
      "text/plain": [
       "0.0009511724919253339"
      ]
     },
     "metadata": {},
     "output_type": "display_data"
    },
    {
     "data": {
      "text/plain": [
       "-0.00042262548366345243"
      ]
     },
     "metadata": {},
     "output_type": "display_data"
    },
    {
     "data": {
      "text/plain": [
       "0.0007137326934838484"
      ]
     },
     "metadata": {},
     "output_type": "display_data"
    },
    {
     "data": {
      "text/plain": [
       "-0.002263679900414317"
      ]
     },
     "metadata": {},
     "output_type": "display_data"
    },
    {
     "data": {
      "text/plain": [
       "-0.0012144667786788688"
      ]
     },
     "metadata": {},
     "output_type": "display_data"
    },
    {
     "data": {
      "text/plain": [
       "0.0016469906868188389"
      ]
     },
     "metadata": {},
     "output_type": "display_data"
    },
    {
     "data": {
      "text/plain": [
       "-1.5517067827567566"
      ]
     },
     "metadata": {},
     "output_type": "display_data"
    },
    {
     "data": {
      "text/plain": [
       "-0.0009442661127572194"
      ]
     },
     "metadata": {},
     "output_type": "display_data"
    },
    {
     "data": {
      "text/plain": [
       "-0.0005524577688724719"
      ]
     },
     "metadata": {},
     "output_type": "display_data"
    },
    {
     "data": {
      "text/plain": [
       "-0.0002518641995257198"
      ]
     },
     "metadata": {},
     "output_type": "display_data"
    },
    {
     "data": {
      "text/plain": [
       "0.00019634686163882975"
      ]
     },
     "metadata": {},
     "output_type": "display_data"
    },
    {
     "data": {
      "text/plain": [
       "-0.0018085756748149606"
      ]
     },
     "metadata": {},
     "output_type": "display_data"
    },
    {
     "data": {
      "text/plain": [
       "0.00011607915744349384"
      ]
     },
     "metadata": {},
     "output_type": "display_data"
    },
    {
     "data": {
      "text/plain": [
       "-0.001993704342243774"
      ]
     },
     "metadata": {},
     "output_type": "display_data"
    },
    {
     "data": {
      "text/plain": [
       "-0.00012615420418882195"
      ]
     },
     "metadata": {},
     "output_type": "display_data"
    },
    {
     "data": {
      "text/plain": [
       "0.00023720276903205217"
      ]
     },
     "metadata": {},
     "output_type": "display_data"
    },
    {
     "data": {
      "text/plain": [
       "0.0001366868804097976"
      ]
     },
     "metadata": {},
     "output_type": "display_data"
    },
    {
     "data": {
      "text/plain": [
       "0.0008256861368565183"
      ]
     },
     "metadata": {},
     "output_type": "display_data"
    },
    {
     "data": {
      "text/plain": [
       "0.001006380223655512"
      ]
     },
     "metadata": {},
     "output_type": "display_data"
    },
    {
     "data": {
      "text/plain": [
       "0.0011844146320463267"
      ]
     },
     "metadata": {},
     "output_type": "display_data"
    },
    {
     "data": {
      "text/plain": [
       "6.102175574973501e-5"
      ]
     },
     "metadata": {},
     "output_type": "display_data"
    },
    {
     "data": {
      "text/plain": [
       "-4.5937334105516925e-5"
      ]
     },
     "metadata": {},
     "output_type": "display_data"
    },
    {
     "data": {
      "text/plain": [
       "-1.6408431242692076"
      ]
     },
     "metadata": {},
     "output_type": "display_data"
    },
    {
     "data": {
      "text/plain": [
       "-2.78851102375246"
      ]
     },
     "metadata": {},
     "output_type": "display_data"
    },
    {
     "data": {
      "text/plain": [
       "0.000711612279386209"
      ]
     },
     "metadata": {},
     "output_type": "display_data"
    },
    {
     "data": {
      "text/plain": [
       "-0.5198508714239622"
      ]
     },
     "metadata": {},
     "output_type": "display_data"
    },
    {
     "data": {
      "text/plain": [
       "-0.00011180324775850181"
      ]
     },
     "metadata": {},
     "output_type": "display_data"
    },
    {
     "data": {
      "text/plain": [
       "-8.10588395783185e-6"
      ]
     },
     "metadata": {},
     "output_type": "display_data"
    },
    {
     "data": {
      "text/plain": [
       "-0.028913474149350193"
      ]
     },
     "metadata": {},
     "output_type": "display_data"
    },
    {
     "data": {
      "text/plain": [
       "1.9249595769821326e-5"
      ]
     },
     "metadata": {},
     "output_type": "display_data"
    },
    {
     "data": {
      "text/plain": [
       "3.6580515929252044e-5"
      ]
     },
     "metadata": {},
     "output_type": "display_data"
    },
    {
     "data": {
      "text/plain": [
       "-0.0014923338153263188"
      ]
     },
     "metadata": {},
     "output_type": "display_data"
    },
    {
     "data": {
      "text/plain": [
       "-0.001363542040300203"
      ]
     },
     "metadata": {},
     "output_type": "display_data"
    },
    {
     "data": {
      "text/plain": [
       "-3.696431652472329"
      ]
     },
     "metadata": {},
     "output_type": "display_data"
    },
    {
     "data": {
      "text/plain": [
       "-5.581236635566872"
      ]
     },
     "metadata": {},
     "output_type": "display_data"
    },
    {
     "data": {
      "text/plain": [
       "-3.634842487648385"
      ]
     },
     "metadata": {},
     "output_type": "display_data"
    },
    {
     "data": {
      "text/plain": [
       "-4.512063037038578"
      ]
     },
     "metadata": {},
     "output_type": "display_data"
    },
    {
     "data": {
      "text/plain": [
       "-1.3189217136561027"
      ]
     },
     "metadata": {},
     "output_type": "display_data"
    },
    {
     "data": {
      "text/plain": [
       "-5.9217132469659575"
      ]
     },
     "metadata": {},
     "output_type": "display_data"
    },
    {
     "data": {
      "text/plain": [
       "-8.057400439087543"
      ]
     },
     "metadata": {},
     "output_type": "display_data"
    },
    {
     "data": {
      "text/plain": [
       "-0.8030795538751363"
      ]
     },
     "metadata": {},
     "output_type": "display_data"
    },
    {
     "data": {
      "text/plain": [
       "-1.531969342796101"
      ]
     },
     "metadata": {},
     "output_type": "display_data"
    },
    {
     "data": {
      "text/plain": [
       "-4.747239896038233"
      ]
     },
     "metadata": {},
     "output_type": "display_data"
    },
    {
     "data": {
      "text/plain": [
       "-0.03915162387967541"
      ]
     },
     "metadata": {},
     "output_type": "display_data"
    },
    {
     "data": {
      "text/plain": [
       "-2.314362373805433"
      ]
     },
     "metadata": {},
     "output_type": "display_data"
    },
    {
     "data": {
      "text/plain": [
       "-3.6775394221422175e-5"
      ]
     },
     "metadata": {},
     "output_type": "display_data"
    },
    {
     "data": {
      "text/plain": [
       "-4.148418475039984"
      ]
     },
     "metadata": {},
     "output_type": "display_data"
    },
    {
     "data": {
      "text/plain": [
       "-5.683799505973648"
      ]
     },
     "metadata": {},
     "output_type": "display_data"
    },
    {
     "data": {
      "text/plain": [
       "-4.192120753061286"
      ]
     },
     "metadata": {},
     "output_type": "display_data"
    },
    {
     "data": {
      "text/plain": [
       "-0.04906085137796001"
      ]
     },
     "metadata": {},
     "output_type": "display_data"
    },
    {
     "data": {
      "text/plain": [
       "-6.276925605419592e-5"
      ]
     },
     "metadata": {},
     "output_type": "display_data"
    },
    {
     "data": {
      "text/plain": [
       "0.0017284876317589237"
      ]
     },
     "metadata": {},
     "output_type": "display_data"
    },
    {
     "data": {
      "text/plain": [
       "-0.19694221931734468"
      ]
     },
     "metadata": {},
     "output_type": "display_data"
    },
    {
     "data": {
      "text/plain": [
       "-0.002243628584357893"
      ]
     },
     "metadata": {},
     "output_type": "display_data"
    },
    {
     "data": {
      "text/plain": [
       "-1.874734404049292"
      ]
     },
     "metadata": {},
     "output_type": "display_data"
    },
    {
     "data": {
      "text/plain": [
       "-2.475351559675964"
      ]
     },
     "metadata": {},
     "output_type": "display_data"
    },
    {
     "data": {
      "text/plain": [
       "-4.821138941413862"
      ]
     },
     "metadata": {},
     "output_type": "display_data"
    },
    {
     "data": {
      "text/plain": [
       "-7.021575273315481"
      ]
     },
     "metadata": {},
     "output_type": "display_data"
    },
    {
     "data": {
      "text/plain": [
       "-4.590771630852312"
      ]
     },
     "metadata": {},
     "output_type": "display_data"
    },
    {
     "data": {
      "text/plain": [
       "-7.167985137172385"
      ]
     },
     "metadata": {},
     "output_type": "display_data"
    },
    {
     "data": {
      "text/plain": [
       "-3.6472017080118277"
      ]
     },
     "metadata": {},
     "output_type": "display_data"
    },
    {
     "data": {
      "text/plain": [
       "-7.91989622920423"
      ]
     },
     "metadata": {},
     "output_type": "display_data"
    },
    {
     "data": {
      "text/plain": [
       "-4.212487742525051"
      ]
     },
     "metadata": {},
     "output_type": "display_data"
    },
    {
     "data": {
      "text/plain": [
       "-0.7929713201587205"
      ]
     },
     "metadata": {},
     "output_type": "display_data"
    },
    {
     "data": {
      "text/plain": [
       "-6.70477269126475"
      ]
     },
     "metadata": {},
     "output_type": "display_data"
    },
    {
     "data": {
      "text/plain": [
       "-4.71462109449242"
      ]
     },
     "metadata": {},
     "output_type": "display_data"
    },
    {
     "data": {
      "text/plain": [
       "-6.023539376544688"
      ]
     },
     "metadata": {},
     "output_type": "display_data"
    },
    {
     "data": {
      "text/plain": [
       "-7.7876188328891764"
      ]
     },
     "metadata": {},
     "output_type": "display_data"
    },
    {
     "data": {
      "text/plain": [
       "-5.435175037017362"
      ]
     },
     "metadata": {},
     "output_type": "display_data"
    },
    {
     "data": {
      "text/plain": [
       "-3.8450520290793175"
      ]
     },
     "metadata": {},
     "output_type": "display_data"
    },
    {
     "data": {
      "text/plain": [
       "-4.109417847217264"
      ]
     },
     "metadata": {},
     "output_type": "display_data"
    },
    {
     "data": {
      "text/plain": [
       "-4.7755006757198935"
      ]
     },
     "metadata": {},
     "output_type": "display_data"
    },
    {
     "data": {
      "text/plain": [
       "-2.8776401610451936"
      ]
     },
     "metadata": {},
     "output_type": "display_data"
    },
    {
     "data": {
      "text/plain": [
       "-4.714968433207647"
      ]
     },
     "metadata": {},
     "output_type": "display_data"
    },
    {
     "data": {
      "text/plain": [
       "-3.6424719793915514"
      ]
     },
     "metadata": {},
     "output_type": "display_data"
    },
    {
     "data": {
      "text/plain": [
       "-0.24061422083130424"
      ]
     },
     "metadata": {},
     "output_type": "display_data"
    },
    {
     "data": {
      "text/plain": [
       "-4.3765634739136825"
      ]
     },
     "metadata": {},
     "output_type": "display_data"
    },
    {
     "data": {
      "text/plain": [
       "-6.972295645064614"
      ]
     },
     "metadata": {},
     "output_type": "display_data"
    },
    {
     "data": {
      "text/plain": [
       "-4.168932752571022"
      ]
     },
     "metadata": {},
     "output_type": "display_data"
    },
    {
     "data": {
      "text/plain": [
       "-4.2838847422932185"
      ]
     },
     "metadata": {},
     "output_type": "display_data"
    },
    {
     "data": {
      "text/plain": [
       "-2.703398308691485"
      ]
     },
     "metadata": {},
     "output_type": "display_data"
    },
    {
     "data": {
      "text/plain": [
       "-4.5622869314470496"
      ]
     },
     "metadata": {},
     "output_type": "display_data"
    },
    {
     "data": {
      "text/plain": [
       "-4.785847225573271"
      ]
     },
     "metadata": {},
     "output_type": "display_data"
    },
    {
     "data": {
      "text/plain": [
       "-6.01244570688414"
      ]
     },
     "metadata": {},
     "output_type": "display_data"
    },
    {
     "data": {
      "text/plain": [
       "-2.548935642092725"
      ]
     },
     "metadata": {},
     "output_type": "display_data"
    },
    {
     "data": {
      "text/plain": [
       "-6.4414526024087815"
      ]
     },
     "metadata": {},
     "output_type": "display_data"
    },
    {
     "data": {
      "text/plain": [
       "-4.036898695621207"
      ]
     },
     "metadata": {},
     "output_type": "display_data"
    },
    {
     "data": {
      "text/plain": [
       "-4.600958174788406"
      ]
     },
     "metadata": {},
     "output_type": "display_data"
    },
    {
     "data": {
      "text/plain": [
       "-5.6306157903902525"
      ]
     },
     "metadata": {},
     "output_type": "display_data"
    },
    {
     "data": {
      "text/plain": [
       "-5.9275289759526935"
      ]
     },
     "metadata": {},
     "output_type": "display_data"
    },
    {
     "data": {
      "text/plain": [
       "-3.90361727560846"
      ]
     },
     "metadata": {},
     "output_type": "display_data"
    },
    {
     "data": {
      "text/plain": [
       "-2.699914781570791"
      ]
     },
     "metadata": {},
     "output_type": "display_data"
    },
    {
     "data": {
      "text/plain": [
       "-6.776748421295148"
      ]
     },
     "metadata": {},
     "output_type": "display_data"
    },
    {
     "data": {
      "text/plain": [
       "-6.301762922002196"
      ]
     },
     "metadata": {},
     "output_type": "display_data"
    },
    {
     "data": {
      "text/plain": [
       "-2.9273121898738816"
      ]
     },
     "metadata": {},
     "output_type": "display_data"
    },
    {
     "data": {
      "text/plain": [
       "-1.7692464942056851"
      ]
     },
     "metadata": {},
     "output_type": "display_data"
    },
    {
     "data": {
      "text/plain": [
       "-0.0003549011368555455"
      ]
     },
     "metadata": {},
     "output_type": "display_data"
    },
    {
     "data": {
      "text/plain": [
       "0.0005781025615334556"
      ]
     },
     "metadata": {},
     "output_type": "display_data"
    },
    {
     "data": {
      "text/plain": [
       "-0.00023263872435208555"
      ]
     },
     "metadata": {},
     "output_type": "display_data"
    },
    {
     "data": {
      "text/plain": [
       "4.28240755656617e-5"
      ]
     },
     "metadata": {},
     "output_type": "display_data"
    },
    {
     "data": {
      "text/plain": [
       "-2.08851859895276e-6"
      ]
     },
     "metadata": {},
     "output_type": "display_data"
    },
    {
     "data": {
      "text/plain": [
       "0.0012205247365999483"
      ]
     },
     "metadata": {},
     "output_type": "display_data"
    },
    {
     "data": {
      "text/plain": [
       "-3.4191261036653486e-5"
      ]
     },
     "metadata": {},
     "output_type": "display_data"
    },
    {
     "data": {
      "text/plain": [
       "-1.1693550400564066"
      ]
     },
     "metadata": {},
     "output_type": "display_data"
    },
    {
     "data": {
      "text/plain": [
       "-1.0968331703634728"
      ]
     },
     "metadata": {},
     "output_type": "display_data"
    },
    {
     "data": {
      "text/plain": [
       "-2.311198446638338"
      ]
     },
     "metadata": {},
     "output_type": "display_data"
    },
    {
     "data": {
      "text/plain": [
       "0.00110881881093583"
      ]
     },
     "metadata": {},
     "output_type": "display_data"
    },
    {
     "data": {
      "text/plain": [
       "-3.397401229010244"
      ]
     },
     "metadata": {},
     "output_type": "display_data"
    },
    {
     "data": {
      "text/plain": [
       "-8.28810700978541"
      ]
     },
     "metadata": {},
     "output_type": "display_data"
    },
    {
     "data": {
      "text/plain": [
       "-5.650265136416998"
      ]
     },
     "metadata": {},
     "output_type": "display_data"
    },
    {
     "data": {
      "text/plain": [
       "-0.918063131975261"
      ]
     },
     "metadata": {},
     "output_type": "display_data"
    },
    {
     "data": {
      "text/plain": [
       "-4.055425807829936"
      ]
     },
     "metadata": {},
     "output_type": "display_data"
    },
    {
     "data": {
      "text/plain": [
       "-1.6804710889524301"
      ]
     },
     "metadata": {},
     "output_type": "display_data"
    },
    {
     "data": {
      "text/plain": [
       "-0.08505611487816367"
      ]
     },
     "metadata": {},
     "output_type": "display_data"
    },
    {
     "data": {
      "text/plain": [
       "-1.887926539067525"
      ]
     },
     "metadata": {},
     "output_type": "display_data"
    },
    {
     "data": {
      "text/plain": [
       "-6.44956588714775"
      ]
     },
     "metadata": {},
     "output_type": "display_data"
    },
    {
     "data": {
      "text/plain": [
       "-6.8003398816427145"
      ]
     },
     "metadata": {},
     "output_type": "display_data"
    },
    {
     "data": {
      "text/plain": [
       "-2.1814850411743727"
      ]
     },
     "metadata": {},
     "output_type": "display_data"
    },
    {
     "data": {
      "text/plain": [
       "-1.9703049049285095"
      ]
     },
     "metadata": {},
     "output_type": "display_data"
    },
    {
     "data": {
      "text/plain": [
       "-3.8298679605221393"
      ]
     },
     "metadata": {},
     "output_type": "display_data"
    },
    {
     "data": {
      "text/plain": [
       "-5.5044362517852505"
      ]
     },
     "metadata": {},
     "output_type": "display_data"
    },
    {
     "data": {
      "text/plain": [
       "-2.99796482275183"
      ]
     },
     "metadata": {},
     "output_type": "display_data"
    },
    {
     "data": {
      "text/plain": [
       "-8.30818614640808"
      ]
     },
     "metadata": {},
     "output_type": "display_data"
    },
    {
     "data": {
      "text/plain": [
       "-5.205239927990041"
      ]
     },
     "metadata": {},
     "output_type": "display_data"
    },
    {
     "data": {
      "text/plain": [
       "-3.2168952386190828"
      ]
     },
     "metadata": {},
     "output_type": "display_data"
    },
    {
     "data": {
      "text/plain": [
       "-6.380464626221608"
      ]
     },
     "metadata": {},
     "output_type": "display_data"
    },
    {
     "data": {
      "text/plain": [
       "-3.507763578833778"
      ]
     },
     "metadata": {},
     "output_type": "display_data"
    },
    {
     "data": {
      "text/plain": [
       "-7.1743757713552245"
      ]
     },
     "metadata": {},
     "output_type": "display_data"
    },
    {
     "data": {
      "text/plain": [
       "-3.7477053086855188"
      ]
     },
     "metadata": {},
     "output_type": "display_data"
    },
    {
     "data": {
      "text/plain": [
       "-0.00019364102315044818"
      ]
     },
     "metadata": {},
     "output_type": "display_data"
    },
    {
     "data": {
      "text/plain": [
       "-1.8277711679953086"
      ]
     },
     "metadata": {},
     "output_type": "display_data"
    },
    {
     "data": {
      "text/plain": [
       "-2.103205511984176"
      ]
     },
     "metadata": {},
     "output_type": "display_data"
    },
    {
     "data": {
      "text/plain": [
       "-4.249238679663856"
      ]
     },
     "metadata": {},
     "output_type": "display_data"
    },
    {
     "data": {
      "text/plain": [
       "-0.0009354905778771183"
      ]
     },
     "metadata": {},
     "output_type": "display_data"
    },
    {
     "data": {
      "text/plain": [
       "-0.0005035106424298164"
      ]
     },
     "metadata": {},
     "output_type": "display_data"
    },
    {
     "data": {
      "text/plain": [
       "-1.163882633963338"
      ]
     },
     "metadata": {},
     "output_type": "display_data"
    },
    {
     "data": {
      "text/plain": [
       "-4.441452225228967"
      ]
     },
     "metadata": {},
     "output_type": "display_data"
    },
    {
     "data": {
      "text/plain": [
       "-6.548537760699459"
      ]
     },
     "metadata": {},
     "output_type": "display_data"
    },
    {
     "data": {
      "text/plain": [
       "-6.634704588964513"
      ]
     },
     "metadata": {},
     "output_type": "display_data"
    },
    {
     "data": {
      "text/plain": [
       "-6.039928684770946"
      ]
     },
     "metadata": {},
     "output_type": "display_data"
    },
    {
     "data": {
      "text/plain": [
       "-2.43360227773516"
      ]
     },
     "metadata": {},
     "output_type": "display_data"
    },
    {
     "data": {
      "text/plain": [
       "-0.3169202550840069"
      ]
     },
     "metadata": {},
     "output_type": "display_data"
    },
    {
     "data": {
      "text/plain": [
       "-2.122381843795428"
      ]
     },
     "metadata": {},
     "output_type": "display_data"
    },
    {
     "data": {
      "text/plain": [
       "-0.029849311615440577"
      ]
     },
     "metadata": {},
     "output_type": "display_data"
    },
    {
     "data": {
      "text/plain": [
       "-3.479477967854291"
      ]
     },
     "metadata": {},
     "output_type": "display_data"
    },
    {
     "data": {
      "text/plain": [
       "-6.797965447524829"
      ]
     },
     "metadata": {},
     "output_type": "display_data"
    },
    {
     "data": {
      "text/plain": [
       "-3.1306274197050694"
      ]
     },
     "metadata": {},
     "output_type": "display_data"
    },
    {
     "data": {
      "text/plain": [
       "-5.22363526798852"
      ]
     },
     "metadata": {},
     "output_type": "display_data"
    },
    {
     "data": {
      "text/plain": [
       "-7.277090058465638"
      ]
     },
     "metadata": {},
     "output_type": "display_data"
    },
    {
     "data": {
      "text/plain": [
       "-3.9637835253479246"
      ]
     },
     "metadata": {},
     "output_type": "display_data"
    },
    {
     "data": {
      "text/plain": [
       "-3.9987083659745486"
      ]
     },
     "metadata": {},
     "output_type": "display_data"
    },
    {
     "data": {
      "text/plain": [
       "-6.6924827777580225"
      ]
     },
     "metadata": {},
     "output_type": "display_data"
    },
    {
     "data": {
      "text/plain": [
       "-4.647186728577791"
      ]
     },
     "metadata": {},
     "output_type": "display_data"
    },
    {
     "data": {
      "text/plain": [
       "-5.156555572615434"
      ]
     },
     "metadata": {},
     "output_type": "display_data"
    },
    {
     "data": {
      "text/plain": [
       "-4.586824678178305"
      ]
     },
     "metadata": {},
     "output_type": "display_data"
    },
    {
     "data": {
      "text/plain": [
       "-3.8337848135940362"
      ]
     },
     "metadata": {},
     "output_type": "display_data"
    },
    {
     "data": {
      "text/plain": [
       "-4.832070137997388"
      ]
     },
     "metadata": {},
     "output_type": "display_data"
    },
    {
     "data": {
      "text/plain": [
       "-4.54012966822347"
      ]
     },
     "metadata": {},
     "output_type": "display_data"
    },
    {
     "data": {
      "text/plain": [
       "-4.103181488190772"
      ]
     },
     "metadata": {},
     "output_type": "display_data"
    },
    {
     "data": {
      "text/plain": [
       "-6.706516297454416"
      ]
     },
     "metadata": {},
     "output_type": "display_data"
    },
    {
     "data": {
      "text/plain": [
       "-7.535369113850211"
      ]
     },
     "metadata": {},
     "output_type": "display_data"
    },
    {
     "data": {
      "text/plain": [
       "-5.928074190045487"
      ]
     },
     "metadata": {},
     "output_type": "display_data"
    },
    {
     "data": {
      "text/plain": [
       "-5.8507216443849455"
      ]
     },
     "metadata": {},
     "output_type": "display_data"
    },
    {
     "data": {
      "text/plain": [
       "-6.449406937944366"
      ]
     },
     "metadata": {},
     "output_type": "display_data"
    },
    {
     "data": {
      "text/plain": [
       "-7.438069232614195"
      ]
     },
     "metadata": {},
     "output_type": "display_data"
    },
    {
     "data": {
      "text/plain": [
       "-6.822485794160476"
      ]
     },
     "metadata": {},
     "output_type": "display_data"
    },
    {
     "data": {
      "text/plain": [
       "-5.106032192110106"
      ]
     },
     "metadata": {},
     "output_type": "display_data"
    },
    {
     "data": {
      "text/plain": [
       "-6.955892838139561"
      ]
     },
     "metadata": {},
     "output_type": "display_data"
    },
    {
     "data": {
      "text/plain": [
       "-8.347194859845482"
      ]
     },
     "metadata": {},
     "output_type": "display_data"
    },
    {
     "data": {
      "text/plain": [
       "-5.262288267934412"
      ]
     },
     "metadata": {},
     "output_type": "display_data"
    },
    {
     "data": {
      "text/plain": [
       "-4.853552553429841"
      ]
     },
     "metadata": {},
     "output_type": "display_data"
    },
    {
     "data": {
      "text/plain": [
       "-6.994208105924448"
      ]
     },
     "metadata": {},
     "output_type": "display_data"
    },
    {
     "data": {
      "text/plain": [
       "-5.11880281351881"
      ]
     },
     "metadata": {},
     "output_type": "display_data"
    },
    {
     "data": {
      "text/plain": [
       "-6.841144769000403"
      ]
     },
     "metadata": {},
     "output_type": "display_data"
    },
    {
     "data": {
      "text/plain": [
       "-6.531548381945607"
      ]
     },
     "metadata": {},
     "output_type": "display_data"
    },
    {
     "data": {
      "text/plain": [
       "-6.935903517074243"
      ]
     },
     "metadata": {},
     "output_type": "display_data"
    },
    {
     "data": {
      "text/plain": [
       "-7.06907078946435"
      ]
     },
     "metadata": {},
     "output_type": "display_data"
    },
    {
     "data": {
      "text/plain": [
       "-5.7308330722730645"
      ]
     },
     "metadata": {},
     "output_type": "display_data"
    },
    {
     "data": {
      "text/plain": [
       "-5.781381709113529"
      ]
     },
     "metadata": {},
     "output_type": "display_data"
    },
    {
     "data": {
      "text/plain": [
       "-5.94396952635485"
      ]
     },
     "metadata": {},
     "output_type": "display_data"
    },
    {
     "data": {
      "text/plain": [
       "-4.038847963811842"
      ]
     },
     "metadata": {},
     "output_type": "display_data"
    },
    {
     "data": {
      "text/plain": [
       "-4.389663488258786"
      ]
     },
     "metadata": {},
     "output_type": "display_data"
    },
    {
     "data": {
      "text/plain": [
       "-2.9149291904837638"
      ]
     },
     "metadata": {},
     "output_type": "display_data"
    },
    {
     "data": {
      "text/plain": [
       "-0.00017898937251992209"
      ]
     },
     "metadata": {},
     "output_type": "display_data"
    },
    {
     "data": {
      "text/plain": [
       "-7.592852241755416"
      ]
     },
     "metadata": {},
     "output_type": "display_data"
    },
    {
     "data": {
      "text/plain": [
       "-6.997178369545204"
      ]
     },
     "metadata": {},
     "output_type": "display_data"
    },
    {
     "data": {
      "text/plain": [
       "-4.706767551160154"
      ]
     },
     "metadata": {},
     "output_type": "display_data"
    },
    {
     "data": {
      "text/plain": [
       "-7.431682806444128"
      ]
     },
     "metadata": {},
     "output_type": "display_data"
    },
    {
     "data": {
      "text/plain": [
       "-7.508212827446817"
      ]
     },
     "metadata": {},
     "output_type": "display_data"
    },
    {
     "data": {
      "text/plain": [
       "-6.093974074989008"
      ]
     },
     "metadata": {},
     "output_type": "display_data"
    },
    {
     "data": {
      "text/plain": [
       "-5.654783318159462"
      ]
     },
     "metadata": {},
     "output_type": "display_data"
    },
    {
     "data": {
      "text/plain": [
       "-5.377100249896905"
      ]
     },
     "metadata": {},
     "output_type": "display_data"
    },
    {
     "data": {
      "text/plain": [
       "-6.643827245726829"
      ]
     },
     "metadata": {},
     "output_type": "display_data"
    },
    {
     "data": {
      "text/plain": [
       "-7.652122948098291"
      ]
     },
     "metadata": {},
     "output_type": "display_data"
    },
    {
     "data": {
      "text/plain": [
       "-5.217901005330563"
      ]
     },
     "metadata": {},
     "output_type": "display_data"
    },
    {
     "data": {
      "text/plain": [
       "-6.730602198040428"
      ]
     },
     "metadata": {},
     "output_type": "display_data"
    },
    {
     "data": {
      "text/plain": [
       "-7.507688833349051"
      ]
     },
     "metadata": {},
     "output_type": "display_data"
    },
    {
     "data": {
      "text/plain": [
       "-6.335158203488437"
      ]
     },
     "metadata": {},
     "output_type": "display_data"
    },
    {
     "data": {
      "text/plain": [
       "-5.84863730842497"
      ]
     },
     "metadata": {},
     "output_type": "display_data"
    },
    {
     "data": {
      "text/plain": [
       "-4.580561940205735"
      ]
     },
     "metadata": {},
     "output_type": "display_data"
    },
    {
     "data": {
      "text/plain": [
       "-4.997196704249392"
      ]
     },
     "metadata": {},
     "output_type": "display_data"
    },
    {
     "data": {
      "text/plain": [
       "-6.43020850950672"
      ]
     },
     "metadata": {},
     "output_type": "display_data"
    },
    {
     "data": {
      "text/plain": [
       "-5.497826989630616"
      ]
     },
     "metadata": {},
     "output_type": "display_data"
    },
    {
     "data": {
      "text/plain": [
       "-7.351294346909088"
      ]
     },
     "metadata": {},
     "output_type": "display_data"
    },
    {
     "data": {
      "text/plain": [
       "-7.273477536866167"
      ]
     },
     "metadata": {},
     "output_type": "display_data"
    },
    {
     "data": {
      "text/plain": [
       "-7.177556480652209"
      ]
     },
     "metadata": {},
     "output_type": "display_data"
    },
    {
     "data": {
      "text/plain": [
       "-6.083868500441709"
      ]
     },
     "metadata": {},
     "output_type": "display_data"
    },
    {
     "data": {
      "text/plain": [
       "-5.24783969751495"
      ]
     },
     "metadata": {},
     "output_type": "display_data"
    },
    {
     "data": {
      "text/plain": [
       "-5.7079091907169115"
      ]
     },
     "metadata": {},
     "output_type": "display_data"
    },
    {
     "data": {
      "text/plain": [
       "-6.0371947334656255"
      ]
     },
     "metadata": {},
     "output_type": "display_data"
    },
    {
     "data": {
      "text/plain": [
       "-5.63460991323066"
      ]
     },
     "metadata": {},
     "output_type": "display_data"
    },
    {
     "data": {
      "text/plain": [
       "-5.2949551127006576"
      ]
     },
     "metadata": {},
     "output_type": "display_data"
    },
    {
     "data": {
      "text/plain": [
       "-5.6891571853374865"
      ]
     },
     "metadata": {},
     "output_type": "display_data"
    },
    {
     "data": {
      "text/plain": [
       "-5.555494630766255"
      ]
     },
     "metadata": {},
     "output_type": "display_data"
    },
    {
     "data": {
      "text/plain": [
       "-5.351155500822497"
      ]
     },
     "metadata": {},
     "output_type": "display_data"
    },
    {
     "data": {
      "text/plain": [
       "-5.594001587949371"
      ]
     },
     "metadata": {},
     "output_type": "display_data"
    },
    {
     "data": {
      "text/plain": [
       "-5.789328060965293"
      ]
     },
     "metadata": {},
     "output_type": "display_data"
    },
    {
     "data": {
      "text/plain": [
       "-6.183576299689852"
      ]
     },
     "metadata": {},
     "output_type": "display_data"
    },
    {
     "data": {
      "text/plain": [
       "-5.283847134058172"
      ]
     },
     "metadata": {},
     "output_type": "display_data"
    },
    {
     "data": {
      "text/plain": [
       "-5.620622225474792"
      ]
     },
     "metadata": {},
     "output_type": "display_data"
    },
    {
     "data": {
      "text/plain": [
       "-5.279682862898277"
      ]
     },
     "metadata": {},
     "output_type": "display_data"
    },
    {
     "data": {
      "text/plain": [
       "-5.463453084492406"
      ]
     },
     "metadata": {},
     "output_type": "display_data"
    },
    {
     "data": {
      "text/plain": [
       "-5.718165084875663"
      ]
     },
     "metadata": {},
     "output_type": "display_data"
    },
    {
     "data": {
      "text/plain": [
       "-5.350383340017908"
      ]
     },
     "metadata": {},
     "output_type": "display_data"
    },
    {
     "data": {
      "text/plain": [
       "-6.195694907799468"
      ]
     },
     "metadata": {},
     "output_type": "display_data"
    },
    {
     "data": {
      "text/plain": [
       "-4.97606703530688"
      ]
     },
     "metadata": {},
     "output_type": "display_data"
    },
    {
     "data": {
      "text/plain": [
       "-5.74039295563976"
      ]
     },
     "metadata": {},
     "output_type": "display_data"
    },
    {
     "data": {
      "text/plain": [
       "-4.939310346149593"
      ]
     },
     "metadata": {},
     "output_type": "display_data"
    },
    {
     "data": {
      "text/plain": [
       "-8.582637891893146"
      ]
     },
     "metadata": {},
     "output_type": "display_data"
    },
    {
     "data": {
      "text/plain": [
       "-8.582637891893146"
      ]
     },
     "metadata": {},
     "output_type": "display_data"
    },
    {
     "data": {
      "text/plain": [
       "-8.582637891893146"
      ]
     },
     "metadata": {},
     "output_type": "display_data"
    },
    {
     "data": {
      "text/plain": [
       "-8.582637891893146"
      ]
     },
     "metadata": {},
     "output_type": "display_data"
    },
    {
     "data": {
      "text/plain": [
       "-8.582637891893146"
      ]
     },
     "metadata": {},
     "output_type": "display_data"
    },
    {
     "data": {
      "text/plain": [
       "-8.582637891893146"
      ]
     },
     "metadata": {},
     "output_type": "display_data"
    },
    {
     "data": {
      "text/plain": [
       "-8.582637891893146"
      ]
     },
     "metadata": {},
     "output_type": "display_data"
    },
    {
     "data": {
      "text/plain": [
       "-8.582637891893146"
      ]
     },
     "metadata": {},
     "output_type": "display_data"
    },
    {
     "data": {
      "text/plain": [
       "-8.582637891893146"
      ]
     },
     "metadata": {},
     "output_type": "display_data"
    },
    {
     "data": {
      "text/plain": [
       "-8.582637891893146"
      ]
     },
     "metadata": {},
     "output_type": "display_data"
    },
    {
     "data": {
      "text/plain": [
       "-8.582637891893146"
      ]
     },
     "metadata": {},
     "output_type": "display_data"
    },
    {
     "data": {
      "text/plain": [
       "-8.582637891893146"
      ]
     },
     "metadata": {},
     "output_type": "display_data"
    },
    {
     "data": {
      "text/plain": [
       "-8.582637891893146"
      ]
     },
     "metadata": {},
     "output_type": "display_data"
    },
    {
     "data": {
      "text/plain": [
       "-8.582637891893146"
      ]
     },
     "metadata": {},
     "output_type": "display_data"
    },
    {
     "data": {
      "text/plain": [
       "-8.582637891893146"
      ]
     },
     "metadata": {},
     "output_type": "display_data"
    },
    {
     "data": {
      "text/plain": [
       "-8.582637891893146"
      ]
     },
     "metadata": {},
     "output_type": "display_data"
    },
    {
     "data": {
      "text/plain": [
       "-8.582637891893146"
      ]
     },
     "metadata": {},
     "output_type": "display_data"
    },
    {
     "data": {
      "text/plain": [
       "-8.582637891893146"
      ]
     },
     "metadata": {},
     "output_type": "display_data"
    },
    {
     "data": {
      "text/plain": [
       "-8.582637891893146"
      ]
     },
     "metadata": {},
     "output_type": "display_data"
    },
    {
     "data": {
      "text/plain": [
       "-8.582637891893146"
      ]
     },
     "metadata": {},
     "output_type": "display_data"
    },
    {
     "data": {
      "text/plain": [
       "-8.582637891893146"
      ]
     },
     "metadata": {},
     "output_type": "display_data"
    }
   ],
   "source": [
    "# Check conic violation\n",
    "convio = 0.0\n",
    "for k = 1:Nsim-1\n",
    "    Uc = cone_u(params, Uhist[k])\n",
    "    huc = norm(Uc[1:2]) - Uc[3]\n",
    "    convio = norm(huc + abs.(huc),Inf)\n",
    "    display(huc) # should <= 0\n",
    "end"
   ]
  },
  {
   "cell_type": "code",
   "execution_count": 85,
   "id": "ffaab90d-dddc-4512-8c8b-4561cd053fdf",
   "metadata": {},
   "outputs": [
    {
     "data": {
      "image/svg+xml": [
       "<?xml version=\"1.0\" encoding=\"utf-8\"?>\n",
       "<svg xmlns=\"http://www.w3.org/2000/svg\" xmlns:xlink=\"http://www.w3.org/1999/xlink\" width=\"600\" height=\"400\" viewBox=\"0 0 2400 1600\">\n",
       "<defs>\n",
       "  <clipPath id=\"clip510\">\n",
       "    <rect x=\"0\" y=\"0\" width=\"2400\" height=\"1600\"/>\n",
       "  </clipPath>\n",
       "</defs>\n",
       "<path clip-path=\"url(#clip510)\" d=\"M0 1600 L2400 1600 L2400 0 L0 0  Z\" fill=\"#ffffff\" fill-rule=\"evenodd\" fill-opacity=\"1\"/>\n",
       "<defs>\n",
       "  <clipPath id=\"clip511\">\n",
       "    <rect x=\"480\" y=\"0\" width=\"1681\" height=\"1600\"/>\n",
       "  </clipPath>\n",
       "</defs>\n",
       "<path clip-path=\"url(#clip510)\" d=\"M257.204 1423.18 L2352.76 1423.18 L2352.76 123.472 L257.204 123.472  Z\" fill=\"#ffffff\" fill-rule=\"evenodd\" fill-opacity=\"1\"/>\n",
       "<defs>\n",
       "  <clipPath id=\"clip512\">\n",
       "    <rect x=\"257\" y=\"123\" width=\"2097\" height=\"1301\"/>\n",
       "  </clipPath>\n",
       "</defs>\n",
       "<polyline clip-path=\"url(#clip512)\" style=\"stroke:#000000; stroke-linecap:round; stroke-linejoin:round; stroke-width:2; stroke-opacity:0.1; fill:none\" points=\"316.512,1423.18 316.512,123.472 \"/>\n",
       "<polyline clip-path=\"url(#clip512)\" style=\"stroke:#000000; stroke-linecap:round; stroke-linejoin:round; stroke-width:2; stroke-opacity:0.1; fill:none\" points=\"670.802,1423.18 670.802,123.472 \"/>\n",
       "<polyline clip-path=\"url(#clip512)\" style=\"stroke:#000000; stroke-linecap:round; stroke-linejoin:round; stroke-width:2; stroke-opacity:0.1; fill:none\" points=\"1025.09,1423.18 1025.09,123.472 \"/>\n",
       "<polyline clip-path=\"url(#clip512)\" style=\"stroke:#000000; stroke-linecap:round; stroke-linejoin:round; stroke-width:2; stroke-opacity:0.1; fill:none\" points=\"1379.38,1423.18 1379.38,123.472 \"/>\n",
       "<polyline clip-path=\"url(#clip512)\" style=\"stroke:#000000; stroke-linecap:round; stroke-linejoin:round; stroke-width:2; stroke-opacity:0.1; fill:none\" points=\"1733.67,1423.18 1733.67,123.472 \"/>\n",
       "<polyline clip-path=\"url(#clip512)\" style=\"stroke:#000000; stroke-linecap:round; stroke-linejoin:round; stroke-width:2; stroke-opacity:0.1; fill:none\" points=\"2087.96,1423.18 2087.96,123.472 \"/>\n",
       "<polyline clip-path=\"url(#clip510)\" style=\"stroke:#000000; stroke-linecap:round; stroke-linejoin:round; stroke-width:4; stroke-opacity:1; fill:none\" points=\"257.204,1423.18 2352.76,1423.18 \"/>\n",
       "<polyline clip-path=\"url(#clip510)\" style=\"stroke:#000000; stroke-linecap:round; stroke-linejoin:round; stroke-width:4; stroke-opacity:1; fill:none\" points=\"316.512,1423.18 316.512,1404.28 \"/>\n",
       "<polyline clip-path=\"url(#clip510)\" style=\"stroke:#000000; stroke-linecap:round; stroke-linejoin:round; stroke-width:4; stroke-opacity:1; fill:none\" points=\"670.802,1423.18 670.802,1404.28 \"/>\n",
       "<polyline clip-path=\"url(#clip510)\" style=\"stroke:#000000; stroke-linecap:round; stroke-linejoin:round; stroke-width:4; stroke-opacity:1; fill:none\" points=\"1025.09,1423.18 1025.09,1404.28 \"/>\n",
       "<polyline clip-path=\"url(#clip510)\" style=\"stroke:#000000; stroke-linecap:round; stroke-linejoin:round; stroke-width:4; stroke-opacity:1; fill:none\" points=\"1379.38,1423.18 1379.38,1404.28 \"/>\n",
       "<polyline clip-path=\"url(#clip510)\" style=\"stroke:#000000; stroke-linecap:round; stroke-linejoin:round; stroke-width:4; stroke-opacity:1; fill:none\" points=\"1733.67,1423.18 1733.67,1404.28 \"/>\n",
       "<polyline clip-path=\"url(#clip510)\" style=\"stroke:#000000; stroke-linecap:round; stroke-linejoin:round; stroke-width:4; stroke-opacity:1; fill:none\" points=\"2087.96,1423.18 2087.96,1404.28 \"/>\n",
       "<path clip-path=\"url(#clip510)\" d=\"M293.896 1454.1 Q290.285 1454.1 288.457 1457.66 Q286.651 1461.2 286.651 1468.33 Q286.651 1475.44 288.457 1479.01 Q290.285 1482.55 293.896 1482.55 Q297.531 1482.55 299.336 1479.01 Q301.165 1475.44 301.165 1468.33 Q301.165 1461.2 299.336 1457.66 Q297.531 1454.1 293.896 1454.1 M293.896 1450.39 Q299.707 1450.39 302.762 1455 Q305.841 1459.58 305.841 1468.33 Q305.841 1477.06 302.762 1481.67 Q299.707 1486.25 293.896 1486.25 Q288.086 1486.25 285.008 1481.67 Q281.952 1477.06 281.952 1468.33 Q281.952 1459.58 285.008 1455 Q288.086 1450.39 293.896 1450.39 Z\" fill=\"#000000\" fill-rule=\"evenodd\" fill-opacity=\"1\" /><path clip-path=\"url(#clip510)\" d=\"M314.058 1479.7 L318.943 1479.7 L318.943 1485.58 L314.058 1485.58 L314.058 1479.7 Z\" fill=\"#000000\" fill-rule=\"evenodd\" fill-opacity=\"1\" /><path clip-path=\"url(#clip510)\" d=\"M339.128 1454.1 Q335.517 1454.1 333.688 1457.66 Q331.882 1461.2 331.882 1468.33 Q331.882 1475.44 333.688 1479.01 Q335.517 1482.55 339.128 1482.55 Q342.762 1482.55 344.568 1479.01 Q346.396 1475.44 346.396 1468.33 Q346.396 1461.2 344.568 1457.66 Q342.762 1454.1 339.128 1454.1 M339.128 1450.39 Q344.938 1450.39 347.993 1455 Q351.072 1459.58 351.072 1468.33 Q351.072 1477.06 347.993 1481.67 Q344.938 1486.25 339.128 1486.25 Q333.318 1486.25 330.239 1481.67 Q327.183 1477.06 327.183 1468.33 Q327.183 1459.58 330.239 1455 Q333.318 1450.39 339.128 1450.39 Z\" fill=\"#000000\" fill-rule=\"evenodd\" fill-opacity=\"1\" /><path clip-path=\"url(#clip510)\" d=\"M642.538 1481.64 L658.857 1481.64 L658.857 1485.58 L636.913 1485.58 L636.913 1481.64 Q639.575 1478.89 644.158 1474.26 Q648.765 1469.61 649.945 1468.27 Q652.191 1465.74 653.07 1464.01 Q653.973 1462.25 653.973 1460.56 Q653.973 1457.8 652.029 1456.07 Q650.107 1454.33 647.005 1454.33 Q644.806 1454.33 642.353 1455.09 Q639.922 1455.86 637.144 1457.41 L637.144 1452.69 Q639.968 1451.55 642.422 1450.97 Q644.876 1450.39 646.913 1450.39 Q652.283 1450.39 655.478 1453.08 Q658.672 1455.77 658.672 1460.26 Q658.672 1462.39 657.862 1464.31 Q657.075 1466.2 654.968 1468.8 Q654.39 1469.47 651.288 1472.69 Q648.186 1475.88 642.538 1481.64 Z\" fill=\"#000000\" fill-rule=\"evenodd\" fill-opacity=\"1\" /><path clip-path=\"url(#clip510)\" d=\"M668.672 1479.7 L673.556 1479.7 L673.556 1485.58 L668.672 1485.58 L668.672 1479.7 Z\" fill=\"#000000\" fill-rule=\"evenodd\" fill-opacity=\"1\" /><path clip-path=\"url(#clip510)\" d=\"M683.788 1451.02 L702.144 1451.02 L702.144 1454.96 L688.07 1454.96 L688.07 1463.43 Q689.089 1463.08 690.107 1462.92 Q691.126 1462.73 692.144 1462.73 Q697.931 1462.73 701.311 1465.9 Q704.69 1469.08 704.69 1474.49 Q704.69 1480.07 701.218 1483.17 Q697.746 1486.25 691.427 1486.25 Q689.251 1486.25 686.982 1485.88 Q684.737 1485.51 682.329 1484.77 L682.329 1480.07 Q684.413 1481.2 686.635 1481.76 Q688.857 1482.32 691.334 1482.32 Q695.339 1482.32 697.677 1480.21 Q700.014 1478.1 700.014 1474.49 Q700.014 1470.88 697.677 1468.77 Q695.339 1466.67 691.334 1466.67 Q689.459 1466.67 687.584 1467.08 Q685.732 1467.5 683.788 1468.38 L683.788 1451.02 Z\" fill=\"#000000\" fill-rule=\"evenodd\" fill-opacity=\"1\" /><path clip-path=\"url(#clip510)\" d=\"M992.256 1451.02 L1010.61 1451.02 L1010.61 1454.96 L996.538 1454.96 L996.538 1463.43 Q997.557 1463.08 998.575 1462.92 Q999.594 1462.73 1000.61 1462.73 Q1006.4 1462.73 1009.78 1465.9 Q1013.16 1469.08 1013.16 1474.49 Q1013.16 1480.07 1009.69 1483.17 Q1006.21 1486.25 999.895 1486.25 Q997.719 1486.25 995.45 1485.88 Q993.205 1485.51 990.797 1484.77 L990.797 1480.07 Q992.881 1481.2 995.103 1481.76 Q997.325 1482.32 999.802 1482.32 Q1003.81 1482.32 1006.14 1480.21 Q1008.48 1478.1 1008.48 1474.49 Q1008.48 1470.88 1006.14 1468.77 Q1003.81 1466.67 999.802 1466.67 Q997.927 1466.67 996.052 1467.08 Q994.2 1467.5 992.256 1468.38 L992.256 1451.02 Z\" fill=\"#000000\" fill-rule=\"evenodd\" fill-opacity=\"1\" /><path clip-path=\"url(#clip510)\" d=\"M1022.37 1479.7 L1027.26 1479.7 L1027.26 1485.58 L1022.37 1485.58 L1022.37 1479.7 Z\" fill=\"#000000\" fill-rule=\"evenodd\" fill-opacity=\"1\" /><path clip-path=\"url(#clip510)\" d=\"M1047.44 1454.1 Q1043.83 1454.1 1042 1457.66 Q1040.2 1461.2 1040.2 1468.33 Q1040.2 1475.44 1042 1479.01 Q1043.83 1482.55 1047.44 1482.55 Q1051.07 1482.55 1052.88 1479.01 Q1054.71 1475.44 1054.71 1468.33 Q1054.71 1461.2 1052.88 1457.66 Q1051.07 1454.1 1047.44 1454.1 M1047.44 1450.39 Q1053.25 1450.39 1056.31 1455 Q1059.39 1459.58 1059.39 1468.33 Q1059.39 1477.06 1056.31 1481.67 Q1053.25 1486.25 1047.44 1486.25 Q1041.63 1486.25 1038.55 1481.67 Q1035.5 1477.06 1035.5 1468.33 Q1035.5 1459.58 1038.55 1455 Q1041.63 1450.39 1047.44 1450.39 Z\" fill=\"#000000\" fill-rule=\"evenodd\" fill-opacity=\"1\" /><path clip-path=\"url(#clip510)\" d=\"M1345.7 1451.02 L1367.92 1451.02 L1367.92 1453.01 L1355.38 1485.58 L1350.49 1485.58 L1362.3 1454.96 L1345.7 1454.96 L1345.7 1451.02 Z\" fill=\"#000000\" fill-rule=\"evenodd\" fill-opacity=\"1\" /><path clip-path=\"url(#clip510)\" d=\"M1377.04 1479.7 L1381.93 1479.7 L1381.93 1485.58 L1377.04 1485.58 L1377.04 1479.7 Z\" fill=\"#000000\" fill-rule=\"evenodd\" fill-opacity=\"1\" /><path clip-path=\"url(#clip510)\" d=\"M1392.16 1451.02 L1410.51 1451.02 L1410.51 1454.96 L1396.44 1454.96 L1396.44 1463.43 Q1397.46 1463.08 1398.48 1462.92 Q1399.5 1462.73 1400.51 1462.73 Q1406.3 1462.73 1409.68 1465.9 Q1413.06 1469.08 1413.06 1474.49 Q1413.06 1480.07 1409.59 1483.17 Q1406.12 1486.25 1399.8 1486.25 Q1397.62 1486.25 1395.35 1485.88 Q1393.11 1485.51 1390.7 1484.77 L1390.7 1480.07 Q1392.78 1481.2 1395.01 1481.76 Q1397.23 1482.32 1399.7 1482.32 Q1403.71 1482.32 1406.05 1480.21 Q1408.39 1478.1 1408.39 1474.49 Q1408.39 1470.88 1406.05 1468.77 Q1403.71 1466.67 1399.7 1466.67 Q1397.83 1466.67 1395.95 1467.08 Q1394.1 1467.5 1392.16 1468.38 L1392.16 1451.02 Z\" fill=\"#000000\" fill-rule=\"evenodd\" fill-opacity=\"1\" /><path clip-path=\"url(#clip510)\" d=\"M1685.74 1481.64 L1693.38 1481.64 L1693.38 1455.28 L1685.07 1456.95 L1685.07 1452.69 L1693.33 1451.02 L1698.01 1451.02 L1698.01 1481.64 L1705.65 1481.64 L1705.65 1485.58 L1685.74 1485.58 L1685.74 1481.64 Z\" fill=\"#000000\" fill-rule=\"evenodd\" fill-opacity=\"1\" /><path clip-path=\"url(#clip510)\" d=\"M1725.09 1454.1 Q1721.48 1454.1 1719.65 1457.66 Q1717.85 1461.2 1717.85 1468.33 Q1717.85 1475.44 1719.65 1479.01 Q1721.48 1482.55 1725.09 1482.55 Q1728.73 1482.55 1730.53 1479.01 Q1732.36 1475.44 1732.36 1468.33 Q1732.36 1461.2 1730.53 1457.66 Q1728.73 1454.1 1725.09 1454.1 M1725.09 1450.39 Q1730.9 1450.39 1733.96 1455 Q1737.04 1459.58 1737.04 1468.33 Q1737.04 1477.06 1733.96 1481.67 Q1730.9 1486.25 1725.09 1486.25 Q1719.28 1486.25 1716.21 1481.67 Q1713.15 1477.06 1713.15 1468.33 Q1713.15 1459.58 1716.21 1455 Q1719.28 1450.39 1725.09 1450.39 Z\" fill=\"#000000\" fill-rule=\"evenodd\" fill-opacity=\"1\" /><path clip-path=\"url(#clip510)\" d=\"M1745.26 1479.7 L1750.14 1479.7 L1750.14 1485.58 L1745.26 1485.58 L1745.26 1479.7 Z\" fill=\"#000000\" fill-rule=\"evenodd\" fill-opacity=\"1\" /><path clip-path=\"url(#clip510)\" d=\"M1770.33 1454.1 Q1766.71 1454.1 1764.89 1457.66 Q1763.08 1461.2 1763.08 1468.33 Q1763.08 1475.44 1764.89 1479.01 Q1766.71 1482.55 1770.33 1482.55 Q1773.96 1482.55 1775.77 1479.01 Q1777.59 1475.44 1777.59 1468.33 Q1777.59 1461.2 1775.77 1457.66 Q1773.96 1454.1 1770.33 1454.1 M1770.33 1450.39 Q1776.14 1450.39 1779.19 1455 Q1782.27 1459.58 1782.27 1468.33 Q1782.27 1477.06 1779.19 1481.67 Q1776.14 1486.25 1770.33 1486.25 Q1764.52 1486.25 1761.44 1481.67 Q1758.38 1477.06 1758.38 1468.33 Q1758.38 1459.58 1761.44 1455 Q1764.52 1450.39 1770.33 1450.39 Z\" fill=\"#000000\" fill-rule=\"evenodd\" fill-opacity=\"1\" /><path clip-path=\"url(#clip510)\" d=\"M2040.53 1481.64 L2048.17 1481.64 L2048.17 1455.28 L2039.86 1456.95 L2039.86 1452.69 L2048.12 1451.02 L2052.8 1451.02 L2052.8 1481.64 L2060.44 1481.64 L2060.44 1485.58 L2040.53 1485.58 L2040.53 1481.64 Z\" fill=\"#000000\" fill-rule=\"evenodd\" fill-opacity=\"1\" /><path clip-path=\"url(#clip510)\" d=\"M2073.91 1481.64 L2090.23 1481.64 L2090.23 1485.58 L2068.28 1485.58 L2068.28 1481.64 Q2070.95 1478.89 2075.53 1474.26 Q2080.14 1469.61 2081.32 1468.27 Q2083.56 1465.74 2084.44 1464.01 Q2085.34 1462.25 2085.34 1460.56 Q2085.34 1457.8 2083.4 1456.07 Q2081.48 1454.33 2078.38 1454.33 Q2076.18 1454.33 2073.72 1455.09 Q2071.29 1455.86 2068.52 1457.41 L2068.52 1452.69 Q2071.34 1451.55 2073.79 1450.97 Q2076.25 1450.39 2078.28 1450.39 Q2083.65 1450.39 2086.85 1453.08 Q2090.04 1455.77 2090.04 1460.26 Q2090.04 1462.39 2089.23 1464.31 Q2088.45 1466.2 2086.34 1468.8 Q2085.76 1469.47 2082.66 1472.69 Q2079.56 1475.88 2073.91 1481.64 Z\" fill=\"#000000\" fill-rule=\"evenodd\" fill-opacity=\"1\" /><path clip-path=\"url(#clip510)\" d=\"M2100.04 1479.7 L2104.93 1479.7 L2104.93 1485.58 L2100.04 1485.58 L2100.04 1479.7 Z\" fill=\"#000000\" fill-rule=\"evenodd\" fill-opacity=\"1\" /><path clip-path=\"url(#clip510)\" d=\"M2115.16 1451.02 L2133.52 1451.02 L2133.52 1454.96 L2119.44 1454.96 L2119.44 1463.43 Q2120.46 1463.08 2121.48 1462.92 Q2122.5 1462.73 2123.52 1462.73 Q2129.3 1462.73 2132.68 1465.9 Q2136.06 1469.08 2136.06 1474.49 Q2136.06 1480.07 2132.59 1483.17 Q2129.12 1486.25 2122.8 1486.25 Q2120.62 1486.25 2118.35 1485.88 Q2116.11 1485.51 2113.7 1484.77 L2113.7 1480.07 Q2115.78 1481.2 2118.01 1481.76 Q2120.23 1482.32 2122.71 1482.32 Q2126.71 1482.32 2129.05 1480.21 Q2131.39 1478.1 2131.39 1474.49 Q2131.39 1470.88 2129.05 1468.77 Q2126.71 1466.67 2122.71 1466.67 Q2120.83 1466.67 2118.96 1467.08 Q2117.1 1467.5 2115.16 1468.38 L2115.16 1451.02 Z\" fill=\"#000000\" fill-rule=\"evenodd\" fill-opacity=\"1\" /><path clip-path=\"url(#clip510)\" d=\"M1192.43 1522.27 L1192.43 1532.4 L1204.5 1532.4 L1204.5 1536.95 L1192.43 1536.95 L1192.43 1556.3 Q1192.43 1560.66 1193.61 1561.9 Q1194.82 1563.14 1198.48 1563.14 L1204.5 1563.14 L1204.5 1568.04 L1198.48 1568.04 Q1191.7 1568.04 1189.12 1565.53 Q1186.55 1562.98 1186.55 1556.3 L1186.55 1536.95 L1182.25 1536.95 L1182.25 1532.4 L1186.55 1532.4 L1186.55 1522.27 L1192.43 1522.27 Z\" fill=\"#000000\" fill-rule=\"evenodd\" fill-opacity=\"1\" /><path clip-path=\"url(#clip510)\" d=\"M1212.2 1532.4 L1218.06 1532.4 L1218.06 1568.04 L1212.2 1568.04 L1212.2 1532.4 M1212.2 1518.52 L1218.06 1518.52 L1218.06 1525.93 L1212.2 1525.93 L1212.2 1518.52 Z\" fill=\"#000000\" fill-rule=\"evenodd\" fill-opacity=\"1\" /><path clip-path=\"url(#clip510)\" d=\"M1258.06 1539.24 Q1260.26 1535.29 1263.32 1533.41 Q1266.37 1531.54 1270.51 1531.54 Q1276.08 1531.54 1279.1 1535.45 Q1282.13 1539.33 1282.13 1546.53 L1282.13 1568.04 L1276.24 1568.04 L1276.24 1546.72 Q1276.24 1541.59 1274.42 1539.11 Q1272.61 1536.63 1268.89 1536.63 Q1264.33 1536.63 1261.69 1539.65 Q1259.05 1542.68 1259.05 1547.9 L1259.05 1568.04 L1253.16 1568.04 L1253.16 1546.72 Q1253.16 1541.56 1251.35 1539.11 Q1249.53 1536.63 1245.75 1536.63 Q1241.26 1536.63 1238.62 1539.68 Q1235.98 1542.71 1235.98 1547.9 L1235.98 1568.04 L1230.09 1568.04 L1230.09 1532.4 L1235.98 1532.4 L1235.98 1537.93 Q1237.98 1534.66 1240.78 1533.1 Q1243.58 1531.54 1247.43 1531.54 Q1251.32 1531.54 1254.02 1533.51 Q1256.76 1535.48 1258.06 1539.24 Z\" fill=\"#000000\" fill-rule=\"evenodd\" fill-opacity=\"1\" /><path clip-path=\"url(#clip510)\" d=\"M1324.3 1548.76 L1324.3 1551.62 L1297.37 1551.62 Q1297.75 1557.67 1301 1560.85 Q1304.28 1564 1310.1 1564 Q1313.48 1564 1316.63 1563.17 Q1319.81 1562.35 1322.93 1560.69 L1322.93 1566.23 Q1319.78 1567.57 1316.47 1568.27 Q1313.16 1568.97 1309.75 1568.97 Q1301.22 1568.97 1296.23 1564 Q1291.26 1559.04 1291.26 1550.57 Q1291.26 1541.82 1295.97 1536.69 Q1300.71 1531.54 1308.74 1531.54 Q1315.93 1531.54 1320.1 1536.18 Q1324.3 1540.8 1324.3 1548.76 M1318.44 1547.04 Q1318.38 1542.23 1315.74 1539.37 Q1313.13 1536.5 1308.8 1536.5 Q1303.9 1536.5 1300.94 1539.27 Q1298.01 1542.04 1297.56 1547.07 L1318.44 1547.04 Z\" fill=\"#000000\" fill-rule=\"evenodd\" fill-opacity=\"1\" /><path clip-path=\"url(#clip510)\" d=\"M1368.7 1518.58 Q1364.44 1525.9 1362.37 1533.06 Q1360.3 1540.23 1360.3 1547.58 Q1360.3 1554.93 1362.37 1562.16 Q1364.47 1569.35 1368.7 1576.64 L1363.61 1576.64 Q1358.83 1569.16 1356.45 1561.93 Q1354.09 1554.71 1354.09 1547.58 Q1354.09 1540.48 1356.45 1533.29 Q1358.8 1526.09 1363.61 1518.58 L1368.7 1518.58 Z\" fill=\"#000000\" fill-rule=\"evenodd\" fill-opacity=\"1\" /><path clip-path=\"url(#clip510)\" d=\"M1402.79 1533.45 L1402.79 1538.98 Q1400.31 1537.71 1397.63 1537.07 Q1394.96 1536.44 1392.09 1536.44 Q1387.73 1536.44 1385.54 1537.77 Q1383.37 1539.11 1383.37 1541.79 Q1383.37 1543.82 1384.93 1545 Q1386.49 1546.15 1391.2 1547.2 L1393.21 1547.64 Q1399.45 1548.98 1402.06 1551.43 Q1404.7 1553.85 1404.7 1558.21 Q1404.7 1563.17 1400.75 1566.07 Q1396.84 1568.97 1389.96 1568.97 Q1387.1 1568.97 1383.98 1568.39 Q1380.89 1567.85 1377.45 1566.74 L1377.45 1560.69 Q1380.7 1562.38 1383.85 1563.24 Q1387 1564.07 1390.09 1564.07 Q1394.23 1564.07 1396.46 1562.66 Q1398.68 1561.23 1398.68 1558.65 Q1398.68 1556.27 1397.06 1554.99 Q1395.47 1553.72 1390.03 1552.54 L1387.99 1552.07 Q1382.55 1550.92 1380.13 1548.56 Q1377.71 1546.18 1377.71 1542.04 Q1377.71 1537.01 1381.27 1534.27 Q1384.84 1531.54 1391.39 1531.54 Q1394.64 1531.54 1397.51 1532.01 Q1400.37 1532.49 1402.79 1533.45 Z\" fill=\"#000000\" fill-rule=\"evenodd\" fill-opacity=\"1\" /><path clip-path=\"url(#clip510)\" d=\"M1413.1 1518.58 L1418.19 1518.58 Q1422.97 1526.09 1425.32 1533.29 Q1427.71 1540.48 1427.71 1547.58 Q1427.71 1554.71 1425.32 1561.93 Q1422.97 1569.16 1418.19 1576.64 L1413.1 1576.64 Q1417.33 1569.35 1419.4 1562.16 Q1421.5 1554.93 1421.5 1547.58 Q1421.5 1540.23 1419.4 1533.06 Q1417.33 1525.9 1413.1 1518.58 Z\" fill=\"#000000\" fill-rule=\"evenodd\" fill-opacity=\"1\" /><polyline clip-path=\"url(#clip512)\" style=\"stroke:#000000; stroke-linecap:round; stroke-linejoin:round; stroke-width:2; stroke-opacity:0.1; fill:none\" points=\"257.204,1388.77 2352.76,1388.77 \"/>\n",
       "<polyline clip-path=\"url(#clip512)\" style=\"stroke:#000000; stroke-linecap:round; stroke-linejoin:round; stroke-width:2; stroke-opacity:0.1; fill:none\" points=\"257.204,1007.45 2352.76,1007.45 \"/>\n",
       "<polyline clip-path=\"url(#clip512)\" style=\"stroke:#000000; stroke-linecap:round; stroke-linejoin:round; stroke-width:2; stroke-opacity:0.1; fill:none\" points=\"257.204,626.12 2352.76,626.12 \"/>\n",
       "<polyline clip-path=\"url(#clip512)\" style=\"stroke:#000000; stroke-linecap:round; stroke-linejoin:round; stroke-width:2; stroke-opacity:0.1; fill:none\" points=\"257.204,244.793 2352.76,244.793 \"/>\n",
       "<polyline clip-path=\"url(#clip510)\" style=\"stroke:#000000; stroke-linecap:round; stroke-linejoin:round; stroke-width:4; stroke-opacity:1; fill:none\" points=\"257.204,1423.18 257.204,123.472 \"/>\n",
       "<polyline clip-path=\"url(#clip510)\" style=\"stroke:#000000; stroke-linecap:round; stroke-linejoin:round; stroke-width:4; stroke-opacity:1; fill:none\" points=\"257.204,1388.77 276.102,1388.77 \"/>\n",
       "<polyline clip-path=\"url(#clip510)\" style=\"stroke:#000000; stroke-linecap:round; stroke-linejoin:round; stroke-width:4; stroke-opacity:1; fill:none\" points=\"257.204,1007.45 276.102,1007.45 \"/>\n",
       "<polyline clip-path=\"url(#clip510)\" style=\"stroke:#000000; stroke-linecap:round; stroke-linejoin:round; stroke-width:4; stroke-opacity:1; fill:none\" points=\"257.204,626.12 276.102,626.12 \"/>\n",
       "<polyline clip-path=\"url(#clip510)\" style=\"stroke:#000000; stroke-linecap:round; stroke-linejoin:round; stroke-width:4; stroke-opacity:1; fill:none\" points=\"257.204,244.793 276.102,244.793 \"/>\n",
       "<path clip-path=\"url(#clip510)\" d=\"M114.26 1389.22 L143.936 1389.22 L143.936 1393.16 L114.26 1393.16 L114.26 1389.22 Z\" fill=\"#000000\" fill-rule=\"evenodd\" fill-opacity=\"1\" /><path clip-path=\"url(#clip510)\" d=\"M154.839 1402.12 L162.477 1402.12 L162.477 1375.75 L154.167 1377.42 L154.167 1373.16 L162.431 1371.49 L167.107 1371.49 L167.107 1402.12 L174.746 1402.12 L174.746 1406.05 L154.839 1406.05 L154.839 1402.12 Z\" fill=\"#000000\" fill-rule=\"evenodd\" fill-opacity=\"1\" /><path clip-path=\"url(#clip510)\" d=\"M184.19 1400.17 L189.075 1400.17 L189.075 1406.05 L184.19 1406.05 L184.19 1400.17 Z\" fill=\"#000000\" fill-rule=\"evenodd\" fill-opacity=\"1\" /><path clip-path=\"url(#clip510)\" d=\"M209.26 1374.57 Q205.649 1374.57 203.82 1378.14 Q202.014 1381.68 202.014 1388.81 Q202.014 1395.91 203.82 1399.48 Q205.649 1403.02 209.26 1403.02 Q212.894 1403.02 214.699 1399.48 Q216.528 1395.91 216.528 1388.81 Q216.528 1381.68 214.699 1378.14 Q212.894 1374.57 209.26 1374.57 M209.26 1370.87 Q215.07 1370.87 218.125 1375.47 Q221.204 1380.06 221.204 1388.81 Q221.204 1397.53 218.125 1402.14 Q215.07 1406.72 209.26 1406.72 Q203.449 1406.72 200.371 1402.14 Q197.315 1397.53 197.315 1388.81 Q197.315 1380.06 200.371 1375.47 Q203.449 1370.87 209.26 1370.87 Z\" fill=\"#000000\" fill-rule=\"evenodd\" fill-opacity=\"1\" /><path clip-path=\"url(#clip510)\" d=\"M115.256 1007.9 L144.931 1007.9 L144.931 1011.83 L115.256 1011.83 L115.256 1007.9 Z\" fill=\"#000000\" fill-rule=\"evenodd\" fill-opacity=\"1\" /><path clip-path=\"url(#clip510)\" d=\"M165.024 993.245 Q161.413 993.245 159.584 996.81 Q157.778 1000.35 157.778 1007.48 Q157.778 1014.59 159.584 1018.15 Q161.413 1021.69 165.024 1021.69 Q168.658 1021.69 170.464 1018.15 Q172.292 1014.59 172.292 1007.48 Q172.292 1000.35 170.464 996.81 Q168.658 993.245 165.024 993.245 M165.024 989.541 Q170.834 989.541 173.889 994.148 Q176.968 998.731 176.968 1007.48 Q176.968 1016.21 173.889 1020.81 Q170.834 1025.4 165.024 1025.4 Q159.214 1025.4 156.135 1020.81 Q153.079 1016.21 153.079 1007.48 Q153.079 998.731 156.135 994.148 Q159.214 989.541 165.024 989.541 Z\" fill=\"#000000\" fill-rule=\"evenodd\" fill-opacity=\"1\" /><path clip-path=\"url(#clip510)\" d=\"M185.186 1018.85 L190.07 1018.85 L190.07 1024.73 L185.186 1024.73 L185.186 1018.85 Z\" fill=\"#000000\" fill-rule=\"evenodd\" fill-opacity=\"1\" /><path clip-path=\"url(#clip510)\" d=\"M200.301 990.166 L218.658 990.166 L218.658 994.102 L204.584 994.102 L204.584 1002.57 Q205.602 1002.23 206.621 1002.06 Q207.639 1001.88 208.658 1001.88 Q214.445 1001.88 217.824 1005.05 Q221.204 1008.22 221.204 1013.64 Q221.204 1019.22 217.732 1022.32 Q214.26 1025.4 207.94 1025.4 Q205.764 1025.4 203.496 1025.03 Q201.25 1024.66 198.843 1023.92 L198.843 1019.22 Q200.926 1020.35 203.149 1020.91 Q205.371 1021.46 207.848 1021.46 Q211.852 1021.46 214.19 1019.36 Q216.528 1017.25 216.528 1013.64 Q216.528 1010.03 214.19 1007.92 Q211.852 1005.81 207.848 1005.81 Q205.973 1005.81 204.098 1006.23 Q202.246 1006.65 200.301 1007.53 L200.301 990.166 Z\" fill=\"#000000\" fill-rule=\"evenodd\" fill-opacity=\"1\" /><path clip-path=\"url(#clip510)\" d=\"M164.028 611.918 Q160.417 611.918 158.589 615.483 Q156.783 619.025 156.783 626.154 Q156.783 633.261 158.589 636.826 Q160.417 640.367 164.028 640.367 Q167.663 640.367 169.468 636.826 Q171.297 633.261 171.297 626.154 Q171.297 619.025 169.468 615.483 Q167.663 611.918 164.028 611.918 M164.028 608.215 Q169.839 608.215 172.894 612.821 Q175.973 617.404 175.973 626.154 Q175.973 634.881 172.894 639.488 Q169.839 644.071 164.028 644.071 Q158.218 644.071 155.14 639.488 Q152.084 634.881 152.084 626.154 Q152.084 617.404 155.14 612.821 Q158.218 608.215 164.028 608.215 Z\" fill=\"#000000\" fill-rule=\"evenodd\" fill-opacity=\"1\" /><path clip-path=\"url(#clip510)\" d=\"M184.19 637.52 L189.075 637.52 L189.075 643.4 L184.19 643.4 L184.19 637.52 Z\" fill=\"#000000\" fill-rule=\"evenodd\" fill-opacity=\"1\" /><path clip-path=\"url(#clip510)\" d=\"M209.26 611.918 Q205.649 611.918 203.82 615.483 Q202.014 619.025 202.014 626.154 Q202.014 633.261 203.82 636.826 Q205.649 640.367 209.26 640.367 Q212.894 640.367 214.699 636.826 Q216.528 633.261 216.528 626.154 Q216.528 619.025 214.699 615.483 Q212.894 611.918 209.26 611.918 M209.26 608.215 Q215.07 608.215 218.125 612.821 Q221.204 617.404 221.204 626.154 Q221.204 634.881 218.125 639.488 Q215.07 644.071 209.26 644.071 Q203.449 644.071 200.371 639.488 Q197.315 634.881 197.315 626.154 Q197.315 617.404 200.371 612.821 Q203.449 608.215 209.26 608.215 Z\" fill=\"#000000\" fill-rule=\"evenodd\" fill-opacity=\"1\" /><path clip-path=\"url(#clip510)\" d=\"M165.024 230.592 Q161.413 230.592 159.584 234.156 Q157.778 237.698 157.778 244.828 Q157.778 251.934 159.584 255.499 Q161.413 259.041 165.024 259.041 Q168.658 259.041 170.464 255.499 Q172.292 251.934 172.292 244.828 Q172.292 237.698 170.464 234.156 Q168.658 230.592 165.024 230.592 M165.024 226.888 Q170.834 226.888 173.889 231.494 Q176.968 236.078 176.968 244.828 Q176.968 253.554 173.889 258.161 Q170.834 262.744 165.024 262.744 Q159.214 262.744 156.135 258.161 Q153.079 253.554 153.079 244.828 Q153.079 236.078 156.135 231.494 Q159.214 226.888 165.024 226.888 Z\" fill=\"#000000\" fill-rule=\"evenodd\" fill-opacity=\"1\" /><path clip-path=\"url(#clip510)\" d=\"M185.186 256.193 L190.07 256.193 L190.07 262.073 L185.186 262.073 L185.186 256.193 Z\" fill=\"#000000\" fill-rule=\"evenodd\" fill-opacity=\"1\" /><path clip-path=\"url(#clip510)\" d=\"M200.301 227.513 L218.658 227.513 L218.658 231.448 L204.584 231.448 L204.584 239.92 Q205.602 239.573 206.621 239.411 Q207.639 239.226 208.658 239.226 Q214.445 239.226 217.824 242.397 Q221.204 245.568 221.204 250.985 Q221.204 256.564 217.732 259.666 Q214.26 262.744 207.94 262.744 Q205.764 262.744 203.496 262.374 Q201.25 262.003 198.843 261.263 L198.843 256.564 Q200.926 257.698 203.149 258.254 Q205.371 258.809 207.848 258.809 Q211.852 258.809 214.19 256.703 Q216.528 254.596 216.528 250.985 Q216.528 247.374 214.19 245.267 Q211.852 243.161 207.848 243.161 Q205.973 243.161 204.098 243.578 Q202.246 243.994 200.301 244.874 L200.301 227.513 Z\" fill=\"#000000\" fill-rule=\"evenodd\" fill-opacity=\"1\" /><path clip-path=\"url(#clip510)\" d=\"M28.3562 756.711 L45.7028 769.602 L64.0042 756.043 L64.0042 762.95 L49.9996 773.326 L64.0042 783.702 L64.0042 790.609 L45.3526 776.763 L28.3562 789.431 L28.3562 782.524 L41.0558 773.071 L28.3562 763.618 L28.3562 756.711 Z\" fill=\"#000000\" fill-rule=\"evenodd\" fill-opacity=\"1\" /><path clip-path=\"url(#clip510)\" d=\"M963.023 14.0809 L963.023 22.0612 Q958.364 19.8332 954.232 18.7395 Q950.101 17.6457 946.252 17.6457 Q939.568 17.6457 935.922 20.2383 Q932.317 22.8309 932.317 27.611 Q932.317 31.6214 934.707 33.6873 Q937.138 35.7128 943.862 36.9686 L948.804 37.9813 Q957.959 39.7232 962.294 44.1387 Q966.669 48.5136 966.669 55.8863 Q966.669 64.6767 960.754 69.2137 Q954.881 73.7508 943.498 73.7508 Q939.204 73.7508 934.342 72.7785 Q929.522 71.8063 924.337 69.9024 L924.337 61.4765 Q929.319 64.2716 934.099 65.6895 Q938.879 67.1073 943.498 67.1073 Q950.506 67.1073 954.313 64.3527 Q958.121 61.598 958.121 56.4939 Q958.121 52.0379 955.367 49.5264 Q952.653 47.0148 946.414 45.759 L941.432 44.7868 Q932.277 42.9639 928.185 39.075 Q924.094 35.1862 924.094 28.2591 Q924.094 20.2383 929.724 15.6203 Q935.396 11.0023 945.32 11.0023 Q949.574 11.0023 953.989 11.7719 Q958.405 12.5416 963.023 14.0809 Z\" fill=\"#000000\" fill-rule=\"evenodd\" fill-opacity=\"1\" /><path clip-path=\"url(#clip510)\" d=\"M986.478 14.324 L986.478 27.2059 L1001.83 27.2059 L1001.83 32.9987 L986.478 32.9987 L986.478 57.6282 Q986.478 63.1779 987.976 64.7578 Q989.516 66.3376 994.174 66.3376 L1001.83 66.3376 L1001.83 72.576 L994.174 72.576 Q985.546 72.576 982.265 69.3758 Q978.983 66.1351 978.983 57.6282 L978.983 32.9987 L973.515 32.9987 L973.515 27.2059 L978.983 27.2059 L978.983 14.324 L986.478 14.324 Z\" fill=\"#000000\" fill-rule=\"evenodd\" fill-opacity=\"1\" /><path clip-path=\"url(#clip510)\" d=\"M1032.25 49.7694 Q1023.22 49.7694 1019.74 51.8354 Q1016.25 53.9013 1016.25 58.8839 Q1016.25 62.8538 1018.84 65.2034 Q1021.48 67.5124 1025.97 67.5124 Q1032.17 67.5124 1035.9 63.1374 Q1039.67 58.7219 1039.67 51.4303 L1039.67 49.7694 L1032.25 49.7694 M1047.12 46.6907 L1047.12 72.576 L1039.67 72.576 L1039.67 65.6895 Q1037.11 69.8214 1033.31 71.8063 Q1029.5 73.7508 1023.99 73.7508 Q1017.02 73.7508 1012.89 69.8619 Q1008.8 65.9325 1008.8 59.3701 Q1008.8 51.7138 1013.9 47.825 Q1019.05 43.9361 1029.21 43.9361 L1039.67 43.9361 L1039.67 43.2069 Q1039.67 38.0623 1036.26 35.2672 Q1032.9 32.4315 1026.78 32.4315 Q1022.9 32.4315 1019.21 33.3632 Q1015.52 34.295 1012.12 36.1584 L1012.12 29.2718 Q1016.21 27.692 1020.06 26.9223 Q1023.91 26.1121 1027.55 26.1121 Q1037.4 26.1121 1042.26 31.2163 Q1047.12 36.3204 1047.12 46.6907 Z\" fill=\"#000000\" fill-rule=\"evenodd\" fill-opacity=\"1\" /><path clip-path=\"url(#clip510)\" d=\"M1069.85 14.324 L1069.85 27.2059 L1085.2 27.2059 L1085.2 32.9987 L1069.85 32.9987 L1069.85 57.6282 Q1069.85 63.1779 1071.34 64.7578 Q1072.88 66.3376 1077.54 66.3376 L1085.2 66.3376 L1085.2 72.576 L1077.54 72.576 Q1068.91 72.576 1065.63 69.3758 Q1062.35 66.1351 1062.35 57.6282 L1062.35 32.9987 L1056.88 32.9987 L1056.88 27.2059 L1062.35 27.2059 L1062.35 14.324 L1069.85 14.324 Z\" fill=\"#000000\" fill-rule=\"evenodd\" fill-opacity=\"1\" /><path clip-path=\"url(#clip510)\" d=\"M1133.81 48.0275 L1133.81 51.6733 L1099.54 51.6733 Q1100.02 59.3701 1104.16 63.421 Q1108.33 67.4314 1115.74 67.4314 Q1120.04 67.4314 1124.05 66.3781 Q1128.1 65.3249 1132.07 63.2184 L1132.07 70.267 Q1128.06 71.9684 1123.84 72.8596 Q1119.63 73.7508 1115.3 73.7508 Q1104.44 73.7508 1098.08 67.4314 Q1091.76 61.1119 1091.76 50.3365 Q1091.76 39.1965 1097.76 32.6746 Q1103.79 26.1121 1114 26.1121 Q1123.16 26.1121 1128.46 32.0264 Q1133.81 37.9003 1133.81 48.0275 M1126.36 45.84 Q1126.27 39.7232 1122.91 36.0774 Q1119.59 32.4315 1114.08 32.4315 Q1107.84 32.4315 1104.08 35.9558 Q1100.35 39.4801 1099.78 45.8805 L1126.36 45.84 Z\" fill=\"#000000\" fill-rule=\"evenodd\" fill-opacity=\"1\" /><path clip-path=\"url(#clip510)\" d=\"M1172.74 12.096 L1210.98 12.096 L1210.98 18.9825 L1180.92 18.9825 L1180.92 36.8875 L1209.72 36.8875 L1209.72 43.7741 L1180.92 43.7741 L1180.92 65.6895 L1211.71 65.6895 L1211.71 72.576 L1172.74 72.576 L1172.74 12.096 Z\" fill=\"#000000\" fill-rule=\"evenodd\" fill-opacity=\"1\" /><path clip-path=\"url(#clip510)\" d=\"M1251.12 34.1734 Q1249.87 33.4443 1248.37 33.1202 Q1246.91 32.7556 1245.13 32.7556 Q1238.81 32.7556 1235.41 36.8875 Q1232.04 40.9789 1232.04 48.6757 L1232.04 72.576 L1224.55 72.576 L1224.55 27.2059 L1232.04 27.2059 L1232.04 34.2544 Q1234.39 30.1225 1238.16 28.1376 Q1241.93 26.1121 1247.32 26.1121 Q1248.09 26.1121 1249.02 26.2337 Q1249.95 26.3147 1251.08 26.5172 L1251.12 34.1734 Z\" fill=\"#000000\" fill-rule=\"evenodd\" fill-opacity=\"1\" /><path clip-path=\"url(#clip510)\" d=\"M1283.77 34.1734 Q1282.52 33.4443 1281.02 33.1202 Q1279.56 32.7556 1277.78 32.7556 Q1271.46 32.7556 1268.06 36.8875 Q1264.69 40.9789 1264.69 48.6757 L1264.69 72.576 L1257.2 72.576 L1257.2 27.2059 L1264.69 27.2059 L1264.69 34.2544 Q1267.04 30.1225 1270.81 28.1376 Q1274.58 26.1121 1279.97 26.1121 Q1280.74 26.1121 1281.67 26.2337 Q1282.6 26.3147 1283.73 26.5172 L1283.77 34.1734 Z\" fill=\"#000000\" fill-rule=\"evenodd\" fill-opacity=\"1\" /><path clip-path=\"url(#clip510)\" d=\"M1307.35 32.4315 Q1301.35 32.4315 1297.87 37.1306 Q1294.39 41.7891 1294.39 49.9314 Q1294.39 58.0738 1297.83 62.7728 Q1301.31 67.4314 1307.35 67.4314 Q1313.3 67.4314 1316.79 62.7323 Q1320.27 58.0333 1320.27 49.9314 Q1320.27 41.8701 1316.79 37.1711 Q1313.3 32.4315 1307.35 32.4315 M1307.35 26.1121 Q1317.07 26.1121 1322.62 32.4315 Q1328.17 38.7509 1328.17 49.9314 Q1328.17 61.0714 1322.62 67.4314 Q1317.07 73.7508 1307.35 73.7508 Q1297.59 73.7508 1292.04 67.4314 Q1286.53 61.0714 1286.53 49.9314 Q1286.53 38.7509 1292.04 32.4315 Q1297.59 26.1121 1307.35 26.1121 Z\" fill=\"#000000\" fill-rule=\"evenodd\" fill-opacity=\"1\" /><path clip-path=\"url(#clip510)\" d=\"M1366.82 34.1734 Q1365.56 33.4443 1364.06 33.1202 Q1362.6 32.7556 1360.82 32.7556 Q1354.5 32.7556 1351.1 36.8875 Q1347.74 40.9789 1347.74 48.6757 L1347.74 72.576 L1340.24 72.576 L1340.24 27.2059 L1347.74 27.2059 L1347.74 34.2544 Q1350.09 30.1225 1353.85 28.1376 Q1357.62 26.1121 1363.01 26.1121 Q1363.78 26.1121 1364.71 26.2337 Q1365.64 26.3147 1366.78 26.5172 L1366.82 34.1734 Z\" fill=\"#000000\" fill-rule=\"evenodd\" fill-opacity=\"1\" /><path clip-path=\"url(#clip510)\" d=\"M1401.33 12.096 L1409.51 12.096 L1409.51 36.8875 L1439.25 36.8875 L1439.25 12.096 L1447.43 12.096 L1447.43 72.576 L1439.25 72.576 L1439.25 43.7741 L1409.51 43.7741 L1409.51 72.576 L1401.33 72.576 L1401.33 12.096 Z\" fill=\"#000000\" fill-rule=\"evenodd\" fill-opacity=\"1\" /><path clip-path=\"url(#clip510)\" d=\"M1463.39 27.2059 L1470.84 27.2059 L1470.84 72.576 L1463.39 72.576 L1463.39 27.2059 M1463.39 9.54393 L1470.84 9.54393 L1470.84 18.9825 L1463.39 18.9825 L1463.39 9.54393 Z\" fill=\"#000000\" fill-rule=\"evenodd\" fill-opacity=\"1\" /><path clip-path=\"url(#clip510)\" d=\"M1515.36 28.5427 L1515.36 35.5912 Q1512.2 33.9709 1508.8 33.1607 Q1505.4 32.3505 1501.75 32.3505 Q1496.2 32.3505 1493.41 34.0519 Q1490.65 35.7533 1490.65 39.156 Q1490.65 41.7486 1492.64 43.2475 Q1494.62 44.7058 1500.62 46.0426 L1503.17 46.6097 Q1511.11 48.3111 1514.43 51.4303 Q1517.79 54.509 1517.79 60.0587 Q1517.79 66.3781 1512.77 70.0644 Q1507.79 73.7508 1499.04 73.7508 Q1495.39 73.7508 1491.42 73.0216 Q1487.49 72.3329 1483.12 70.9151 L1483.12 63.2184 Q1487.25 65.3654 1491.26 66.4591 Q1495.27 67.5124 1499.2 67.5124 Q1504.47 67.5124 1507.3 65.73 Q1510.14 63.9071 1510.14 60.6258 Q1510.14 57.5877 1508.07 55.9673 Q1506.05 54.3469 1499.12 52.8481 L1496.53 52.2405 Q1489.6 50.7821 1486.52 47.7845 Q1483.44 44.7463 1483.44 39.4801 Q1483.44 33.0797 1487.98 29.5959 Q1492.52 26.1121 1500.86 26.1121 Q1504.99 26.1121 1508.64 26.7198 Q1512.28 27.3274 1515.36 28.5427 Z\" fill=\"#000000\" fill-rule=\"evenodd\" fill-opacity=\"1\" /><path clip-path=\"url(#clip510)\" d=\"M1537.04 14.324 L1537.04 27.2059 L1552.39 27.2059 L1552.39 32.9987 L1537.04 32.9987 L1537.04 57.6282 Q1537.04 63.1779 1538.53 64.7578 Q1540.07 66.3376 1544.73 66.3376 L1552.39 66.3376 L1552.39 72.576 L1544.73 72.576 Q1536.1 72.576 1532.82 69.3758 Q1529.54 66.1351 1529.54 57.6282 L1529.54 32.9987 L1524.07 32.9987 L1524.07 27.2059 L1529.54 27.2059 L1529.54 14.324 L1537.04 14.324 Z\" fill=\"#000000\" fill-rule=\"evenodd\" fill-opacity=\"1\" /><path clip-path=\"url(#clip510)\" d=\"M1579.77 32.4315 Q1573.78 32.4315 1570.29 37.1306 Q1566.81 41.7891 1566.81 49.9314 Q1566.81 58.0738 1570.25 62.7728 Q1573.74 67.4314 1579.77 67.4314 Q1585.73 67.4314 1589.21 62.7323 Q1592.7 58.0333 1592.7 49.9314 Q1592.7 41.8701 1589.21 37.1711 Q1585.73 32.4315 1579.77 32.4315 M1579.77 26.1121 Q1589.5 26.1121 1595.04 32.4315 Q1600.59 38.7509 1600.59 49.9314 Q1600.59 61.0714 1595.04 67.4314 Q1589.5 73.7508 1579.77 73.7508 Q1570.01 73.7508 1564.46 67.4314 Q1558.95 61.0714 1558.95 49.9314 Q1558.95 38.7509 1564.46 32.4315 Q1570.01 26.1121 1579.77 26.1121 Z\" fill=\"#000000\" fill-rule=\"evenodd\" fill-opacity=\"1\" /><path clip-path=\"url(#clip510)\" d=\"M1639.24 34.1734 Q1637.98 33.4443 1636.49 33.1202 Q1635.03 32.7556 1633.24 32.7556 Q1626.93 32.7556 1623.52 36.8875 Q1620.16 40.9789 1620.16 48.6757 L1620.16 72.576 L1612.67 72.576 L1612.67 27.2059 L1620.16 27.2059 L1620.16 34.2544 Q1622.51 30.1225 1626.28 28.1376 Q1630.04 26.1121 1635.43 26.1121 Q1636.2 26.1121 1637.13 26.2337 Q1638.07 26.3147 1639.2 26.5172 L1639.24 34.1734 Z\" fill=\"#000000\" fill-rule=\"evenodd\" fill-opacity=\"1\" /><path clip-path=\"url(#clip510)\" d=\"M1665.94 76.7889 Q1662.78 84.8907 1659.78 87.3618 Q1656.78 89.8329 1651.76 89.8329 L1645.8 89.8329 L1645.8 83.5945 L1650.18 83.5945 Q1653.26 83.5945 1654.96 82.1361 Q1656.66 80.6778 1658.73 75.2496 L1660.06 71.8468 L1641.71 27.2059 L1649.61 27.2059 L1663.79 62.6918 L1677.97 27.2059 L1685.87 27.2059 L1665.94 76.7889 Z\" fill=\"#000000\" fill-rule=\"evenodd\" fill-opacity=\"1\" /><polyline clip-path=\"url(#clip512)\" style=\"stroke:#009af9; stroke-linecap:round; stroke-linejoin:round; stroke-width:4; stroke-opacity:1; fill:none\" points=\"316.512,451.654 323.598,722.749 330.684,768.979 337.769,960.652 344.855,1386.4 351.941,1341.99 359.027,1263.5 366.113,1093.17 373.198,990.906 380.284,890.153 387.37,856.126 394.456,808.776 401.542,648.24 408.627,470.944 415.713,494.02 422.799,485.249 429.885,583.398 436.971,757.693 444.056,776.295 451.142,672.044 458.228,895.189 465.314,596.821 472.4,466.783 479.485,515.258 486.571,536.288 493.657,490.919 500.743,303.864 507.828,225.882 514.914,343.185 522,188.001 529.086,465.1 536.172,526.059 543.257,408.292 550.343,451.772 557.429,533.245 564.515,440.885 571.601,434.382 578.686,411.543 585.772,537.743 592.858,606.805 599.944,720.207 607.03,753.944 614.115,837.971 621.201,848.928 628.287,688.79 635.373,619.364 642.458,594.505 649.544,528.489 656.63,455.408 663.716,387.838 670.802,456.197 677.887,391.881 684.973,381.82 692.059,469.584 699.145,398.106 706.231,389.641 713.316,422.387 720.402,490.553 727.488,503.464 734.574,453.321 741.66,376.597 748.745,279.68 755.831,308.541 762.917,179.295 770.003,205.593 777.089,171.06 784.174,160.256 791.26,213.456 798.346,244.098 805.432,211.243 812.517,249.819 819.603,298.298 826.689,338.131 833.775,357.624 840.861,501.802 847.946,637.145 855.032,623.15 862.118,655.45 869.204,661.403 876.29,698.706 883.375,685.1 890.461,637.225 897.547,675.765 904.633,704.687 911.719,697.847 918.804,702.994 925.89,731.572 932.976,860.753 940.062,884.085 947.148,896.981 954.233,934.349 961.319,863.426 968.405,860.633 975.491,795.023 982.576,785.863 989.662,764.164 996.748,727.754 1003.83,815.827 1010.92,825.127 1018.01,784.873 1025.09,716.991 1032.18,663.898 1039.26,666.727 1046.35,623.009 1053.43,678.709 1060.52,683.111 1067.61,683.303 1074.69,723.698 1081.78,760.924 1088.86,752.752 1095.95,778.916 1103.03,693.538 1110.12,728.53 1117.21,723.796 1124.29,728.415 1131.38,749.523 1138.46,796.929 1145.55,797.992 1152.64,842.967 1159.72,863.577 1166.81,818.11 1173.89,796.075 1180.98,794.209 1188.06,788.245 1195.15,795.795 1202.24,769.011 1209.32,791.545 1216.41,791.309 1223.49,838.122 1230.58,780.654 1237.66,746.362 1244.75,780.889 1251.84,814.157 1258.92,804.013 1266.01,770.913 1273.09,837.535 1280.18,812.797 1287.27,839.714 1294.35,803.686 1301.44,847.56 1308.52,827.155 1315.61,780.798 1322.69,819.487 1329.78,807.145 1336.87,798.788 1343.95,701.038 1351.04,688.926 1358.12,638.923 1365.21,563.985 1372.29,577.271 1379.38,616.83 1386.47,634.614 1393.55,652.619 1400.64,644.901 1407.72,667.554 1414.81,665.568 1421.9,652.393 1428.98,618.255 1436.07,624.694 1443.15,660.536 1450.24,676.966 1457.32,650.567 1464.41,655.5 1471.5,626.355 1478.58,523.017 1485.67,545.311 1492.75,580.104 1499.84,594.238 1506.93,525.103 1514.01,508.424 1521.1,517.731 1528.18,522.662 1535.27,516.893 1542.35,532.537 1549.44,552.269 1556.53,576.954 1563.61,571.62 1570.7,586.2 1577.78,578.805 1584.87,551.971 1591.95,544.678 1599.04,555.854 1606.13,571.385 1613.21,586.091 1620.3,613.269 1627.38,638.694 1634.47,697.051 1641.56,696.457 1648.64,689.147 1655.73,667.948 1662.81,695.726 1669.9,692.829 1676.98,631.456 1684.07,610.891 1691.16,587.353 1698.24,577.854 1705.33,603.341 1712.41,544.599 1719.5,547.156 1726.58,562.001 1733.67,574.84 1740.76,603.842 1747.84,596.995 1754.93,621.092 1762.01,614.492 1769.1,582.954 1776.19,622.335 1783.27,635.643 1790.36,653.753 1797.44,671 1804.53,651.29 1811.61,670.367 1818.7,656.052 1825.79,664.041 1832.87,655.431 1839.96,649.706 1847.04,668.791 1854.13,686.194 1861.21,672.589 1868.3,676.916 1875.39,696.036 1882.47,703.633 1889.56,710.759 1896.64,693.442 1903.73,681.133 1910.82,708.881 1917.9,705.093 1924.99,685.116 1932.07,677.125 1939.16,688.795 1946.24,694.918 1953.33,703.739 1960.42,734.634 1967.5,744.82 1974.59,756.733 1981.67,743.352 1988.76,728.439 1995.84,717.758 2002.93,718.842 2010.02,711.724 2017.1,714.3 2024.19,726.875 2031.27,725.551 2038.36,712.906 2045.45,704.003 2052.53,699.375 2059.62,689.829 2066.7,682.055 2073.79,682.587 2080.87,684.245 2087.96,681.456 2095.05,680.153 2102.13,675.485 2109.22,679.436 2116.3,667.888 2123.39,663.06 2130.47,650.71 2137.56,647.413 2144.65,648.833 2151.73,651.002 2158.82,654.088 2165.9,664.107 2172.99,661.451 2180.08,652.581 2187.16,650.87 2194.25,649.672 2201.33,646.58 2208.42,644.751 2215.5,641.662 2222.59,640.111 2229.68,637.422 2236.76,638.285 2243.85,634.983 2250.93,634.429 2258.02,632.061 2265.1,630.99 2272.19,631.22 2279.28,629.434 2286.36,629.109 2293.45,628.887 \"/>\n",
       "<polyline clip-path=\"url(#clip512)\" style=\"stroke:#e26f46; stroke-linecap:round; stroke-linejoin:round; stroke-width:4; stroke-opacity:1; fill:none\" points=\"316.512,564.379 323.598,694.001 330.684,878.252 337.769,741.441 344.855,857.479 351.941,804.49 359.027,809.459 366.113,799.96 373.198,773.746 380.284,663.439 387.37,464.839 394.456,521.85 401.542,534.421 408.627,722.618 415.713,743.724 422.799,766.182 429.885,746.151 436.971,811.094 444.056,843.236 451.142,991.135 458.228,1009.17 465.314,1040.73 472.4,1018.38 479.485,905.082 486.571,1060.1 493.657,1086.25 500.743,1129.65 507.828,1143.69 514.914,1071.9 522,988.317 529.086,1001.07 536.172,886.123 543.257,776.237 550.343,792.871 557.429,905.836 564.515,823.766 571.601,737.409 578.686,849.068 585.772,747.271 592.858,649.299 599.944,664.394 607.03,597.075 614.115,869.764 621.201,830.038 628.287,850.884 635.373,894.314 642.458,844.891 649.544,708.951 656.63,896.226 663.716,845.525 670.802,802.719 677.887,790.118 684.973,694.876 692.059,715.117 699.145,594.179 706.231,568.632 713.316,493.357 720.402,557.487 727.488,645.434 734.574,697.039 741.66,667.293 748.745,666.358 755.831,632.028 762.917,660.462 770.003,691.143 777.089,664.142 784.174,622.732 791.26,655.491 798.346,622.124 805.432,625.429 812.517,616.008 819.603,686.715 826.689,675.38 833.775,631.522 840.861,668.37 847.946,682.473 855.032,727.675 862.118,806.942 869.204,755.064 876.29,784.105 883.375,863.759 890.461,929.126 897.547,914.586 904.633,839.671 911.719,811.707 918.804,800.928 925.89,804.947 932.976,774.426 940.062,683.689 947.148,673.995 954.233,682.339 961.319,787.032 968.405,826.366 975.491,751.923 982.576,833.293 989.662,759.185 996.748,842.829 1003.83,779.883 1010.92,743.854 1018.01,712.212 1025.09,665.813 1032.18,609.286 1039.26,641.602 1046.35,649.415 1053.43,647.488 1060.52,637.042 1067.61,636.531 1074.69,660.18 1081.78,575.784 1088.86,567.623 1095.95,599.714 1103.03,585.611 1110.12,597.924 1117.21,561.58 1124.29,620.014 1131.38,574.298 1138.46,555.503 1145.55,524.656 1152.64,533.888 1159.72,478.732 1166.81,386.133 1173.89,418.979 1180.98,472.438 1188.06,510.41 1195.15,433.728 1202.24,435.087 1209.32,509.816 1216.41,507.495 1223.49,492.735 1230.58,417.371 1237.66,389.096 1244.75,354.36 1251.84,346.806 1258.92,341.489 1266.01,349.887 1273.09,364.493 1280.18,368.553 1287.27,342.47 1294.35,356.963 1301.44,402.48 1308.52,421.455 1315.61,428.51 1322.69,430.627 1329.78,397.104 1336.87,426.169 1343.95,449.374 1351.04,504.91 1358.12,599.954 1365.21,610.946 1372.29,645.618 1379.38,623.56 1386.47,639.189 1393.55,679.338 1400.64,657.932 1407.72,663.151 1414.81,652.018 1421.9,645.698 1428.98,587.195 1436.07,568.479 1443.15,574.427 1450.24,540.412 1457.32,445.339 1464.41,436.62 1471.5,439.467 1478.58,445.15 1485.67,476.604 1492.75,482.629 1499.84,494.142 1506.93,450.863 1514.01,494.455 1521.1,509.018 1528.18,509.067 1535.27,522.837 1542.35,506.195 1549.44,529.843 1556.53,551.508 1563.61,549.314 1570.7,586.487 1577.78,552.464 1584.87,605.407 1591.95,687.128 1599.04,663.46 1606.13,697.497 1613.21,708.968 1620.3,793.269 1627.38,798.508 1634.47,812.579 1641.56,773.746 1648.64,769.912 1655.73,746.517 1662.81,729.505 1669.9,690.082 1676.98,710.389 1684.07,722.376 1691.16,729.565 1698.24,741.336 1705.33,771.514 1712.41,806.739 1719.5,742.067 1726.58,761.539 1733.67,727.773 1740.76,714.36 1747.84,716.867 1754.93,682.458 1762.01,692.6 1769.1,708.218 1776.19,676.259 1783.27,678.209 1790.36,676.227 1797.44,661.523 1804.53,659.475 1811.61,673.013 1818.7,648.587 1825.79,642.431 1832.87,635.681 1839.96,650.151 1847.04,651.44 1854.13,658.155 1861.21,648.62 1868.3,668.26 1875.39,674.905 1882.47,651.982 1889.56,654.282 1896.64,680.195 1903.73,682.634 1910.82,677.176 1917.9,698.393 1924.99,699.155 1932.07,693.038 1939.16,715.891 1946.24,698.538 1953.33,678.316 1960.42,680.763 1967.5,680.418 1974.59,681.233 1981.67,677.511 1988.76,685.35 1995.84,666.44 2002.93,676.508 2010.02,680.242 2017.1,672.419 2024.19,668.597 2031.27,667.59 2038.36,667.019 2045.45,668.298 2052.53,655.459 2059.62,667.808 2066.7,669.672 2073.79,664.9 2080.87,659.799 2087.96,645.034 2095.05,640.628 2102.13,647.984 2109.22,638.237 2116.3,647.266 2123.39,652.299 2130.47,650.987 2137.56,648.586 2144.65,639.233 2151.73,642.034 2158.82,650.21 2165.9,649.093 2172.99,641.423 2180.08,637.37 2187.16,634.12 2194.25,634.927 2201.33,632.76 2208.42,633.186 2215.5,632.864 2222.59,628.899 2229.68,626.598 2236.76,623.798 2243.85,623.343 2250.93,627.701 2258.02,630.17 2265.1,629.023 2272.19,629.34 2279.28,629.275 2286.36,629.592 2293.45,629.514 \"/>\n",
       "<polyline clip-path=\"url(#clip512)\" style=\"stroke:#3da44d; stroke-linecap:round; stroke-linejoin:round; stroke-width:4; stroke-opacity:1; fill:none\" points=\"316.512,706.764 323.598,765.993 330.684,788.839 337.769,880.787 344.855,1011.71 351.941,870.481 359.027,966.372 366.113,634.884 373.198,753.128 380.284,705.744 387.37,753.06 394.456,544.545 401.542,565.7 408.627,477.651 415.713,475.991 422.799,551.234 429.885,460.825 436.971,585.397 444.056,707.584 451.142,593.419 458.228,601.609 465.314,689.786 472.4,882.638 479.485,752.234 486.571,1070.27 493.657,1152.62 500.743,1032.91 507.828,978.754 514.914,961.079 522,853.164 529.086,683.713 536.172,699.466 543.257,726.859 550.343,752.089 557.429,672.847 564.515,692.359 571.601,845.771 578.686,868.343 585.772,755.224 592.858,737.016 599.944,681.349 607.03,688.187 614.115,757.522 621.201,702.834 628.287,689.094 635.373,652.991 642.458,686.911 649.544,593.308 656.63,426.753 663.716,513.455 670.802,590.992 677.887,577.058 684.973,686.895 692.059,724.37 699.145,695.495 706.231,527.552 713.316,543.825 720.402,563.497 727.488,583.816 734.574,571.729 741.66,656.964 748.745,573.88 755.831,519.204 762.917,481.777 770.003,429.327 777.089,508.853 784.174,434.238 791.26,408.822 798.346,388.427 805.432,413.46 812.517,368.529 819.603,320.185 826.689,328.121 833.775,347.076 840.861,318.98 847.946,367.105 855.032,335.555 862.118,372.499 869.204,461.23 876.29,479.612 883.375,418.589 890.461,500.164 897.547,439.896 904.633,462.522 911.719,475.331 918.804,429.3 925.89,503.414 932.976,522.874 940.062,578.591 947.148,547.476 954.233,474.881 961.319,430.151 968.405,430.083 975.491,418.362 982.576,461.169 989.662,545.034 996.748,590.77 1003.83,653.997 1010.92,609.573 1018.01,572.704 1025.09,680.187 1032.18,703.572 1039.26,695.528 1046.35,650.495 1053.43,668.615 1060.52,699.677 1067.61,687.319 1074.69,682.929 1081.78,658.964 1088.86,622.054 1095.95,642.357 1103.03,676.036 1110.12,617.209 1117.21,642.607 1124.29,696.649 1131.38,754.702 1138.46,793.976 1145.55,840.923 1152.64,796.222 1159.72,759.172 1166.81,732.53 1173.89,784.533 1180.98,795.365 1188.06,823.267 1195.15,814.68 1202.24,757.883 1209.32,796.096 1216.41,796.392 1223.49,763.102 1230.58,726.281 1237.66,683.875 1244.75,729.032 1251.84,692.155 1258.92,704.572 1266.01,714.838 1273.09,767.264 1280.18,708.796 1287.27,729.069 1294.35,675.819 1301.44,615.274 1308.52,528.894 1315.61,479.292 1322.69,460.032 1329.78,526.284 1336.87,542.496 1343.95,498.709 1351.04,497.65 1358.12,509.141 1365.21,500.963 1372.29,462.62 1379.38,452.27 1386.47,471.289 1393.55,548.96 1400.64,543.837 1407.72,570.396 1414.81,540.121 1421.9,533.585 1428.98,546.107 1436.07,537.994 1443.15,519.44 1450.24,510.378 1457.32,483.869 1464.41,425.65 1471.5,491.361 1478.58,498.376 1485.67,497.401 1492.75,495.209 1499.84,491.176 1506.93,515.045 1514.01,527.234 1521.1,517.869 1528.18,533.053 1535.27,581.705 1542.35,555.514 1549.44,576.581 1556.53,557.417 1563.61,531.181 1570.7,546.109 1577.78,585.414 1584.87,553.583 1591.95,531.138 1599.04,572.824 1606.13,556.694 1613.21,547.06 1620.3,557.615 1627.38,576.125 1634.47,555.816 1641.56,527.1 1648.64,528.103 1655.73,528.39 1662.81,507.611 1669.9,479.86 1676.98,482.974 1684.07,487.756 1691.16,528.326 1698.24,547.472 1705.33,531.139 1712.41,536.052 1719.5,504.447 1726.58,520.22 1733.67,549.495 1740.76,589.588 1747.84,581.575 1754.93,582.556 1762.01,613.854 1769.1,628.603 1776.19,610.471 1783.27,634.807 1790.36,655.748 1797.44,660.374 1804.53,659.281 1811.61,658.743 1818.7,652.402 1825.79,670.484 1832.87,669.071 1839.96,682.939 1847.04,694.637 1854.13,684.142 1861.21,700.672 1868.3,687.33 1875.39,686.817 1882.47,688.809 1889.56,684.266 1896.64,689.23 1903.73,663.004 1910.82,632.061 1917.9,635.62 1924.99,637.956 1932.07,633.472 1939.16,666.279 1946.24,669.162 1953.33,680.321 1960.42,686.452 1967.5,689.104 1974.59,695.822 1981.67,657.64 1988.76,644.166 1995.84,648.974 2002.93,650.324 2010.02,639.519 2017.1,650.56 2024.19,647.418 2031.27,639.68 2038.36,626.92 2045.45,623.602 2052.53,617.564 2059.62,609.773 2066.7,605.599 2073.79,605.835 2080.87,601.453 2087.96,600.941 2095.05,612.348 2102.13,614.861 2109.22,608.934 2116.3,604.002 2123.39,604.605 2130.47,615.462 2137.56,612.45 2144.65,608.212 2151.73,612.395 2158.82,612.195 2165.9,603.463 2172.99,605.595 2180.08,602.284 2187.16,600.38 2194.25,603.482 2201.33,606.261 2208.42,607.47 2215.5,606.986 2222.59,609.772 2229.68,604.894 2236.76,604.207 2243.85,607.605 2250.93,608.076 2258.02,605.957 2265.1,603.361 2272.19,603.363 2279.28,604.951 2286.36,604.725 2293.45,605.654 \"/>\n",
       "<polyline clip-path=\"url(#clip512)\" style=\"stroke:#c271d2; stroke-linecap:round; stroke-linejoin:round; stroke-width:4; stroke-opacity:1; fill:none\" stroke-dasharray=\"16, 10\" points=\"316.512,626.122 323.598,631.897 330.684,608.971 337.769,591.493 344.855,568.225 351.941,521.853 359.027,467.876 366.113,433.941 373.198,416.811 380.284,395.107 387.37,401.563 394.456,405.945 401.542,436.401 408.627,443.269 415.713,457.654 422.799,471.895 429.885,464.727 436.971,474.097 444.056,463.855 451.142,460.953 458.228,459.927 465.314,451.665 472.4,440.123 479.485,435.937 486.571,444.078 493.657,438.197 500.743,423.082 507.828,435.32 514.914,443.389 522,452.357 529.086,464.06 536.172,475.324 543.257,487.509 550.343,490.172 557.429,498.979 564.515,509.8 571.601,512.134 578.686,519.629 585.772,521.886 592.858,534.996 599.944,547.604 607.03,543.773 614.115,542.164 621.201,524.373 628.287,501.01 635.373,503.637 642.458,512.179 649.544,511.187 656.63,531.674 663.716,553.056 670.802,555.627 677.887,561.741 684.973,574.471 692.059,581.892 699.145,591.316 706.231,606.967 713.316,636.137 720.402,647.762 727.488,654.184 734.574,667.027 741.66,676.688 748.745,680.112 755.831,700.046 762.917,720.328 770.003,739.7 777.089,754.802 784.174,765.283 791.26,785.718 798.346,799.332 805.432,818.493 812.517,829.723 819.603,848.117 826.689,848.821 833.775,862.196 840.861,856.991 847.946,822.667 855.032,780.305 862.118,737.065 869.204,708.324 876.29,678.493 883.375,646.953 890.461,629.487 897.547,617.68 904.633,604.509 911.719,589.897 918.804,582.744 925.89,577.858 932.976,562.981 940.062,533.424 947.148,495.631 954.233,472.848 961.319,448.068 968.405,443.859 975.491,428.09 982.576,425.07 989.662,425.839 996.748,424.729 1003.83,439.465 1010.92,435.702 1018.01,437.05 1025.09,445.064 1032.18,454.241 1039.26,471.47 1046.35,492.634 1053.43,516.656 1060.52,535.308 1067.61,545.91 1074.69,558.719 1081.78,547.806 1088.86,538.546 1095.95,545.541 1103.03,532.453 1110.12,537.146 1117.21,532.905 1124.29,535.253 1131.38,532.309 1138.46,522.524 1145.55,499.041 1152.64,492.038 1159.72,471.601 1166.81,450.958 1173.89,459.653 1180.98,459.528 1188.06,462.596 1195.15,465.713 1202.24,473.654 1209.32,487.178 1216.41,491.35 1223.49,491.882 1230.58,482.968 1237.66,489.717 1244.75,495.039 1251.84,499.853 1258.92,485.129 1266.01,474.954 1273.09,474.893 1280.18,450.288 1287.27,451.92 1294.35,433.787 1301.44,441.361 1308.52,437.63 1315.61,436.217 1322.69,443.895 1329.78,449.595 1336.87,442.788 1343.95,440.802 1351.04,457.865 1358.12,472.418 1365.21,487.101 1372.29,506.911 1379.38,525.064 1386.47,540.148 1393.55,550.793 1400.64,552.276 1407.72,562.939 1414.81,560.04 1421.9,571.436 1428.98,583.641 1436.07,606.629 1443.15,616.235 1450.24,606.677 1457.32,595.604 1464.41,598.556 1471.5,600.724 1478.58,613.062 1485.67,639.428 1492.75,661.149 1499.84,663.459 1506.93,659.485 1514.01,675.393 1521.1,693.226 1528.18,708.444 1535.27,710.946 1542.35,717.761 1549.44,716.399 1556.53,708.299 1563.61,692.237 1570.7,684.207 1577.78,675.729 1584.87,671.767 1591.95,682.389 1599.04,689.013 1606.13,687.235 1613.21,682.726 1620.3,673.479 1627.38,662.019 1634.47,644.727 1641.56,617.459 1648.64,595.874 1655.73,584.972 1662.81,586.199 1669.9,575.265 1676.98,553.363 1684.07,582.307 1691.16,604.934 1698.24,632.169 1705.33,647.69 1712.41,646.998 1719.5,661.514 1726.58,676.671 1733.67,677.948 1740.76,674.312 1747.84,663.66 1754.93,658.468 1762.01,647.967 1769.1,643.091 1776.19,655.428 1783.27,639.465 1790.36,629.162 1797.44,616.027 1804.53,602.893 1811.61,600.548 1818.7,595.584 1825.79,596.285 1832.87,593.955 1839.96,595.484 1847.04,599.471 1854.13,593.606 1861.21,580.944 1868.3,578.536 1875.39,578.514 1882.47,567.845 1889.56,559.933 1896.64,556.48 1903.73,556.45 1910.82,561.833 1917.9,553.813 1924.99,551.131 1932.07,559.184 1939.16,568.977 1946.24,567.692 1953.33,560.287 1960.42,559.612 1967.5,550.505 1974.59,534.137 1981.67,504.064 1988.76,506.583 1995.84,516.451 2002.93,526.033 2010.02,530.969 2017.1,537.791 2024.19,539.368 2031.27,535.995 2038.36,527.746 2045.45,535.038 2052.53,540.107 2059.62,547.139 2066.7,557.32 2073.79,563.24 2080.87,569.027 2087.96,563.995 2095.05,570.007 2102.13,574.542 2109.22,576.772 2116.3,577.466 2123.39,580.475 2130.47,584.554 2137.56,593.816 2144.65,599.709 2151.73,604.037 2158.82,604.205 2165.9,602.356 2172.99,600.304 2180.08,599.823 2187.16,601.054 2194.25,601.75 2201.33,605.038 2208.42,606.121 2215.5,607.245 2222.59,608.872 2229.68,611.62 2236.76,613.35 2243.85,615.06 2250.93,616.793 2258.02,617.46 2265.1,618.409 2272.19,619.792 2279.28,620.328 2286.36,621.499 2293.45,621.854 \"/>\n",
       "<polyline clip-path=\"url(#clip512)\" style=\"stroke:#ac8d18; stroke-linecap:round; stroke-linejoin:round; stroke-width:4; stroke-opacity:1; fill:none\" stroke-dasharray=\"16, 10\" points=\"316.512,626.123 323.598,638.343 330.684,629.989 337.769,619.796 344.855,613.813 351.941,614.027 359.027,603.51 366.113,596.774 373.198,568.57 380.284,568.421 387.37,567.65 394.456,599.717 401.542,613.146 408.627,626.525 415.713,629.252 422.799,628.448 429.885,638.349 436.971,634.645 444.056,635.032 451.142,626.562 458.228,615.663 465.314,599.55 472.4,605.437 479.485,608.055 486.571,604.125 493.657,605.438 500.743,616.512 507.828,606.084 514.914,600.9 522,595.749 529.086,594.552 536.172,586.238 543.257,579.177 550.343,587.236 557.429,589.131 564.515,579.879 571.601,584.02 578.686,589.598 585.772,593.465 592.858,593.088 599.944,601.627 607.03,596.335 614.115,609.771 621.201,588.456 628.287,571.493 635.373,559.572 642.458,549.178 649.544,548.352 656.63,560.176 663.716,547.974 670.802,552.878 677.887,555.351 684.973,557.861 692.059,572.218 699.145,577.217 706.231,593.911 713.316,613.307 720.402,639.898 727.488,650.885 734.574,643.61 741.66,636.799 748.745,643.522 755.831,644.576 762.917,648.578 770.003,651.104 777.089,651.973 784.174,659.849 791.26,663.921 798.346,663.263 805.432,663.971 812.517,661.877 819.603,664.051 826.689,646.002 833.775,637.743 840.861,631.157 847.946,622.676 855.032,623.538 862.118,615.903 869.204,597.409 876.29,587.991 883.375,572.085 890.461,543.295 897.547,529.196 904.633,501.562 911.719,482.297 918.804,481.114 925.89,479.767 932.976,477.575 940.062,492.678 947.148,518.028 954.233,541.994 961.319,557.221 968.405,535.798 975.491,518.354 982.576,516.498 989.662,501.867 996.748,500.232 1003.83,496 1010.92,503.173 1018.01,510.463 1025.09,521.901 1032.18,537.845 1039.26,563.067 1046.35,577.714 1053.43,588.235 1060.52,596.659 1067.61,604.708 1074.69,609.845 1081.78,603.569 1088.86,623.137 1095.95,633.164 1103.03,637.198 1110.12,647.726 1117.21,650.209 1124.29,663.408 1131.38,648.279 1138.46,659.41 1145.55,672.94 1152.64,687.279 1159.72,694.509 1166.81,717.641 1173.89,737.373 1180.98,753.655 1188.06,756.921 1195.15,750.839 1202.24,756.851 1209.32,761.843 1216.41,748.471 1223.49,738.59 1230.58,734.458 1237.66,754.783 1244.75,776.652 1251.84,798.314 1258.92,824.049 1266.01,845.452 1273.09,855.992 1280.18,873.377 1287.27,868.943 1294.35,889.169 1301.44,881.449 1308.52,870.872 1315.61,859.01 1322.69,849.349 1329.78,834.723 1336.87,843.626 1343.95,843.61 1351.04,839.567 1358.12,828.949 1365.21,808.708 1372.29,792.43 1379.38,770.842 1386.47,749.398 1393.55,726.834 1400.64,706.829 1407.72,683.023 1414.81,661.167 1421.9,637.645 1428.98,624.569 1436.07,642.62 1443.15,660.861 1450.24,666.792 1457.32,682.331 1464.41,716.681 1471.5,742.654 1478.58,756.124 1485.67,754.929 1492.75,762.375 1499.84,760.289 1506.93,755.24 1514.01,766.655 1521.1,759.357 1528.18,757.653 1535.27,752.99 1542.35,741.301 1549.44,740.556 1556.53,731.32 1563.61,714.645 1570.7,705.235 1577.78,687.797 1584.87,687.707 1591.95,671.2 1599.04,636.249 1606.13,618.452 1613.21,592.327 1620.3,576.401 1627.38,544.409 1634.47,517.019 1641.56,500.579 1648.64,494.669 1655.73,494.852 1662.81,503.174 1669.9,512.223 1676.98,531.36 1684.07,534.426 1691.16,533.512 1698.24,528.922 1705.33,527.155 1712.41,517.97 1719.5,504.506 1726.58,508.847 1733.67,509.821 1740.76,525.214 1747.84,534.49 1754.93,540.61 1762.01,552.183 1769.1,560.192 1776.19,552.159 1783.27,564.306 1790.36,569.843 1797.44,573.823 1804.53,583.38 1811.61,588.11 1818.7,587.858 1825.79,596.346 1832.87,603.085 1839.96,608.877 1847.04,606.993 1854.13,605.418 1861.21,600.181 1868.3,600.958 1875.39,595.462 1882.47,587.107 1889.56,594.444 1896.64,597.78 1903.73,582.396 1910.82,570.036 1917.9,572.18 1924.99,564.612 1932.07,559.731 1939.16,564.598 1946.24,554.018 1953.33,552.29 1960.42,564.813 1967.5,570.702 1974.59,572.025 1981.67,568.534 1988.76,571.686 1995.84,570.237 2002.93,578.406 2010.02,577.53 2017.1,576.65 2024.19,579.613 2031.27,583.155 2038.36,582.572 2045.45,585.178 2052.53,583.316 2059.62,590.68 2066.7,589.975 2073.79,588.32 2080.87,590.472 2087.96,589.774 2095.05,598.301 2102.13,604.341 2109.22,605.317 2116.3,609.962 2123.39,608.018 2130.47,605.678 2137.56,600.835 2144.65,603.291 2151.73,608.435 2158.82,610.304 2165.9,608.199 2172.99,608.707 2180.08,611.179 2187.16,613.395 2194.25,615.626 2201.33,618.151 2208.42,619.849 2215.5,620.368 2222.59,619.405 2229.68,621.442 2236.76,623.55 2243.85,624.945 2250.93,625.971 2258.02,625.6 2265.1,625.988 2272.19,624.275 2279.28,624.996 2286.36,624.214 2293.45,624.888 \"/>\n",
       "<polyline clip-path=\"url(#clip512)\" style=\"stroke:#00a9ad; stroke-linecap:round; stroke-linejoin:round; stroke-width:4; stroke-opacity:1; fill:none\" stroke-dasharray=\"16, 10\" points=\"316.512,626.116 323.598,621.387 330.684,580.376 337.769,568.985 344.855,494.289 351.941,433.361 359.027,521.857 366.113,459.189 373.198,636.651 380.284,487.463 387.37,529.583 394.456,487.342 401.542,726.674 408.627,699.31 415.713,792.356 422.799,900.393 429.885,733.443 436.971,808.346 444.056,687.772 451.142,696.554 458.228,738.443 465.314,788.917 472.4,601.952 479.485,498.971 486.571,550.587 493.657,440.188 500.743,174.204 507.828,302.928 514.914,355.052 522,413.082 529.086,469.952 536.172,567.096 543.257,661.901 550.343,573.059 557.429,576.253 564.515,668.613 571.601,591.013 578.686,557.006 585.772,476.474 592.858,526.054 599.944,530.804 607.03,565.901 614.115,568.349 621.201,614.409 628.287,608.612 635.373,637.839 642.458,698.314 649.544,602.615 656.63,675.718 663.716,857.959 670.802,752.633 677.887,694.242 684.973,702.073 692.059,616.167 699.145,574.72 706.231,579.52 713.316,738.777 720.402,715.209 727.488,682.913 734.574,734.152 741.66,751.201 748.745,626.537 755.831,699.472 762.917,764.094 770.003,821.94 777.089,839.017 784.174,779.036 791.26,838.403 798.346,841.75 805.432,895.623 812.517,878.84 819.603,915.429 826.689,940.394 833.775,976.967 840.861,922.739 847.946,969.542 855.032,898.63 862.118,912.058 869.204,905.473 876.29,810.055 883.375,789.843 890.461,872.277 897.547,789.296 904.633,857.026 911.719,826.95 918.804,778.15 925.89,826.116 932.976,755.446 940.062,722.791 947.148,684.648 954.233,711.234 961.319,786.367 968.405,824.991 975.491,829.638 982.576,844.551 989.662,796.843 996.748,715.294 1003.83,696.54 1010.92,610.03 1018.01,644.551 1025.09,684.282 1032.18,562.095 1039.26,559.581 1046.35,565.655 1053.43,608.691 1060.52,581.114 1067.61,542.248 1074.69,557.621 1081.78,560.897 1088.86,594.14 1095.95,626.256 1103.03,609.414 1110.12,571.732 1117.21,644.815 1124.29,608.403 1131.38,546.158 1138.46,481.73 1145.55,441.05 1152.64,395.899 1159.72,448.044 1166.81,492.862 1173.89,531.989 1180.98,476.184 1188.06,463.471 1195.15,424.921 1202.24,454.437 1209.32,500.507 1216.41,413.533 1223.49,448.868 1230.58,495.719 1237.66,531.215 1244.75,570.798 1251.84,535.656 1258.92,567.694 1266.01,554.023 1273.09,543.01 1280.18,479.047 1287.27,546.84 1294.35,523.437 1301.44,582.774 1308.52,639.449 1315.61,730.323 1322.69,769.548 1329.78,783.1 1336.87,731.383 1343.95,713.661 1351.04,760.631 1358.12,765.439 1365.21,766.469 1372.29,777.316 1379.38,812.931 1386.47,821.887 1393.55,808.701 1400.64,720.479 1407.72,715.938 1414.81,684.201 1421.9,725.72 1428.98,732.855 1436.07,720.473 1443.15,728.13 1450.24,747.607 1457.32,754.199 1464.41,774.745 1471.5,839.108 1478.58,764.458 1485.67,752.981 1492.75,766.037 1499.84,768.491 1506.93,772.506 1514.01,743.296 1521.1,730.288 1528.18,748.515 1535.27,720.996 1542.35,675.086 1549.44,703.288 1556.53,682.618 1563.61,691.251 1570.7,722.03 1577.78,716.758 1584.87,666.153 1591.95,710.743 1599.04,760.134 1606.13,676.371 1613.21,697.886 1620.3,706.363 1627.38,712.39 1634.47,691.461 1641.56,699.981 1648.64,738.181 1655.73,735.053 1662.81,742.198 1669.9,762.349 1676.98,797.495 1684.07,787.402 1691.16,781.185 1698.24,738.723 1705.33,708.321 1712.41,724.916 1719.5,716.948 1726.58,761.846 1733.67,733.824 1740.76,712.843 1747.84,666.035 1754.93,671.894 1762.01,676.341 1769.1,636.877 1776.19,623.134 1783.27,645.799 1790.36,616.205 1797.44,595.298 1804.53,591.993 1811.61,585.366 1818.7,595.977 1825.79,596.79 1832.87,580.127 1839.96,576.385 1847.04,560.84 1854.13,555.769 1861.21,556.772 1868.3,538.005 1875.39,555.28 1882.47,555.217 1889.56,548.624 1896.64,569.634 1903.73,553.017 1910.82,582.883 1917.9,620.453 1924.99,614.107 1932.07,613.831 1939.16,619.237 1946.24,579.123 1953.33,577.177 1960.42,572.013 1967.5,565.611 1974.59,545.285 1981.67,546.355 1988.76,591.193 1995.84,605.422 2002.93,600.606 2010.02,599.306 2017.1,612.203 2024.19,599.512 2031.27,601.438 2038.36,610.455 2045.45,625.661 2052.53,629.351 2059.62,635.81 2066.7,643.175 2073.79,648.371 2080.87,645.856 2087.96,655.317 2095.05,651.578 2102.13,638.603 2109.22,637.732 2116.3,643.58 2123.39,652.477 2130.47,651.048 2137.56,638.411 2144.65,640.148 2151.73,638.851 2158.82,639.672 2165.9,639.932 2172.99,645.45 2180.08,643.964 2187.16,649.08 2194.25,653.412 2201.33,641.616 2208.42,643.998 2215.5,645.103 2222.59,648.285 2229.68,637.814 2236.76,649.65 2243.85,641.394 2250.93,639.267 2258.02,644.097 2265.1,639.86 2272.19,652.637 2279.28,641.883 2286.36,648.436 2293.45,640.955 \"/>\n",
       "<path clip-path=\"url(#clip510)\" d=\"M2002.98 529.676 L2282.9 529.676 L2282.9 166.796 L2002.98 166.796  Z\" fill=\"#ffffff\" fill-rule=\"evenodd\" fill-opacity=\"1\"/>\n",
       "<polyline clip-path=\"url(#clip510)\" style=\"stroke:#000000; stroke-linecap:round; stroke-linejoin:round; stroke-width:4; stroke-opacity:1; fill:none\" points=\"2002.98,529.676 2282.9,529.676 2282.9,166.796 2002.98,166.796 2002.98,529.676 \"/>\n",
       "<polyline clip-path=\"url(#clip510)\" style=\"stroke:#009af9; stroke-linecap:round; stroke-linejoin:round; stroke-width:4; stroke-opacity:1; fill:none\" points=\"2026.26,218.636 2165.97,218.636 \"/>\n",
       "<path clip-path=\"url(#clip510)\" d=\"M2213.28 221.888 L2213.28 223.971 L2193.69 223.971 Q2193.97 228.369 2196.33 230.684 Q2198.72 232.976 2202.95 232.976 Q2205.41 232.976 2207.7 232.374 Q2210.01 231.772 2212.28 230.569 L2212.28 234.596 Q2209.99 235.568 2207.58 236.078 Q2205.18 236.587 2202.7 236.587 Q2196.5 236.587 2192.86 232.976 Q2189.25 229.365 2189.25 223.207 Q2189.25 216.842 2192.68 213.115 Q2196.13 209.365 2201.96 209.365 Q2207.19 209.365 2210.22 212.745 Q2213.28 216.101 2213.28 221.888 M2209.02 220.638 Q2208.97 217.143 2207.05 215.059 Q2205.15 212.976 2202 212.976 Q2198.44 212.976 2196.29 214.99 Q2194.16 217.004 2193.83 220.661 L2209.02 220.638 Z\" fill=\"#000000\" fill-rule=\"evenodd\" fill-opacity=\"1\" /><path clip-path=\"url(#clip510)\" d=\"M2240.99 209.99 L2231.61 222.606 L2241.47 235.916 L2236.45 235.916 L2228.9 225.731 L2221.36 235.916 L2216.33 235.916 L2226.4 222.351 L2217.19 209.99 L2222.21 209.99 L2229.09 219.226 L2235.96 209.99 L2240.99 209.99 Z\" fill=\"#000000\" fill-rule=\"evenodd\" fill-opacity=\"1\" /><path clip-path=\"url(#clip510)\" d=\"M2246.63 233.369 L2251.36 233.369 L2251.36 219.226 L2246.19 220.175 L2246.19 217.49 L2251.52 216.587 L2254.69 216.587 L2254.69 233.369 L2259.44 233.369 L2259.44 235.916 L2246.63 235.916 L2246.63 233.369 Z\" fill=\"#000000\" fill-rule=\"evenodd\" fill-opacity=\"1\" /><polyline clip-path=\"url(#clip510)\" style=\"stroke:#e26f46; stroke-linecap:round; stroke-linejoin:round; stroke-width:4; stroke-opacity:1; fill:none\" points=\"2026.26,270.476 2165.97,270.476 \"/>\n",
       "<path clip-path=\"url(#clip510)\" d=\"M2213.28 273.728 L2213.28 275.811 L2193.69 275.811 Q2193.97 280.209 2196.33 282.524 Q2198.72 284.816 2202.95 284.816 Q2205.41 284.816 2207.7 284.214 Q2210.01 283.612 2212.28 282.409 L2212.28 286.436 Q2209.99 287.408 2207.58 287.918 Q2205.18 288.427 2202.7 288.427 Q2196.5 288.427 2192.86 284.816 Q2189.25 281.205 2189.25 275.047 Q2189.25 268.682 2192.68 264.955 Q2196.13 261.205 2201.96 261.205 Q2207.19 261.205 2210.22 264.585 Q2213.28 267.941 2213.28 273.728 M2209.02 272.478 Q2208.97 268.983 2207.05 266.899 Q2205.15 264.816 2202 264.816 Q2198.44 264.816 2196.29 266.83 Q2194.16 268.844 2193.83 272.501 L2209.02 272.478 Z\" fill=\"#000000\" fill-rule=\"evenodd\" fill-opacity=\"1\" /><path clip-path=\"url(#clip510)\" d=\"M2240.99 261.83 L2231.61 274.446 L2241.47 287.756 L2236.45 287.756 L2228.9 277.571 L2221.36 287.756 L2216.33 287.756 L2226.4 274.191 L2217.19 261.83 L2222.21 261.83 L2229.09 271.066 L2235.96 261.83 L2240.99 261.83 Z\" fill=\"#000000\" fill-rule=\"evenodd\" fill-opacity=\"1\" /><path clip-path=\"url(#clip510)\" d=\"M2249.23 285.117 L2259.04 285.117 L2259.04 287.756 L2245.2 287.756 L2245.2 285.209 Q2245.99 284.492 2247.44 283.196 Q2255.41 276.135 2255.41 273.959 Q2255.41 272.432 2254.2 271.506 Q2253 270.557 2251.03 270.557 Q2249.83 270.557 2248.42 270.973 Q2247 271.367 2245.34 272.177 L2245.34 269.33 Q2247.12 268.682 2248.65 268.358 Q2250.2 268.034 2251.52 268.034 Q2254.87 268.034 2256.89 269.561 Q2258.9 271.089 2258.9 273.589 Q2258.9 276.807 2251.24 283.381 Q2249.94 284.492 2249.23 285.117 Z\" fill=\"#000000\" fill-rule=\"evenodd\" fill-opacity=\"1\" /><polyline clip-path=\"url(#clip510)\" style=\"stroke:#3da44d; stroke-linecap:round; stroke-linejoin:round; stroke-width:4; stroke-opacity:1; fill:none\" points=\"2026.26,322.316 2165.97,322.316 \"/>\n",
       "<path clip-path=\"url(#clip510)\" d=\"M2213.28 325.568 L2213.28 327.651 L2193.69 327.651 Q2193.97 332.049 2196.33 334.364 Q2198.72 336.656 2202.95 336.656 Q2205.41 336.656 2207.7 336.054 Q2210.01 335.452 2212.28 334.249 L2212.28 338.276 Q2209.99 339.248 2207.58 339.758 Q2205.18 340.267 2202.7 340.267 Q2196.5 340.267 2192.86 336.656 Q2189.25 333.045 2189.25 326.887 Q2189.25 320.522 2192.68 316.795 Q2196.13 313.045 2201.96 313.045 Q2207.19 313.045 2210.22 316.425 Q2213.28 319.781 2213.28 325.568 M2209.02 324.318 Q2208.97 320.823 2207.05 318.739 Q2205.15 316.656 2202 316.656 Q2198.44 316.656 2196.29 318.67 Q2194.16 320.684 2193.83 324.341 L2209.02 324.318 Z\" fill=\"#000000\" fill-rule=\"evenodd\" fill-opacity=\"1\" /><path clip-path=\"url(#clip510)\" d=\"M2240.99 313.67 L2231.61 326.286 L2241.47 339.596 L2236.45 339.596 L2228.9 329.411 L2221.36 339.596 L2216.33 339.596 L2226.4 326.031 L2217.19 313.67 L2222.21 313.67 L2229.09 322.906 L2235.96 313.67 L2240.99 313.67 Z\" fill=\"#000000\" fill-rule=\"evenodd\" fill-opacity=\"1\" /><path clip-path=\"url(#clip510)\" d=\"M2255.15 329.133 Q2257.28 329.549 2258.44 330.823 Q2259.62 332.073 2259.62 333.971 Q2259.62 336.841 2257.42 338.392 Q2255.22 339.943 2251.12 339.943 Q2249.81 339.943 2248.35 339.688 Q2246.91 339.457 2245.29 338.994 L2245.29 336.193 Q2246.5 336.818 2247.86 337.119 Q2249.25 337.42 2250.8 337.42 Q2253.32 337.42 2254.71 336.517 Q2256.1 335.591 2256.1 333.971 Q2256.1 332.258 2254.81 331.378 Q2253.53 330.499 2251.03 330.499 L2249.04 330.499 L2249.04 327.999 L2251.22 327.999 Q2253.39 327.999 2254.5 327.281 Q2255.64 326.54 2255.64 325.151 Q2255.64 323.809 2254.48 323.114 Q2253.32 322.397 2251.12 322.397 Q2250.2 322.397 2249.02 322.605 Q2247.84 322.813 2245.96 323.346 L2245.96 320.684 Q2247.65 320.29 2249.13 320.082 Q2250.62 319.874 2251.89 319.874 Q2255.22 319.874 2257.17 321.239 Q2259.13 322.605 2259.13 324.897 Q2259.13 326.494 2258.09 327.605 Q2257.05 328.716 2255.15 329.133 Z\" fill=\"#000000\" fill-rule=\"evenodd\" fill-opacity=\"1\" /><polyline clip-path=\"url(#clip510)\" style=\"stroke:#c271d2; stroke-linecap:round; stroke-linejoin:round; stroke-width:4; stroke-opacity:1; fill:none\" stroke-dasharray=\"16, 10\" points=\"2026.26,374.156 2165.97,374.156 \"/>\n",
       "<path clip-path=\"url(#clip510)\" d=\"M2213.28 377.408 L2213.28 379.491 L2193.69 379.491 Q2193.97 383.889 2196.33 386.204 Q2198.72 388.496 2202.95 388.496 Q2205.41 388.496 2207.7 387.894 Q2210.01 387.292 2212.28 386.089 L2212.28 390.116 Q2209.99 391.088 2207.58 391.598 Q2205.18 392.107 2202.7 392.107 Q2196.5 392.107 2192.86 388.496 Q2189.25 384.885 2189.25 378.727 Q2189.25 372.362 2192.68 368.635 Q2196.13 364.885 2201.96 364.885 Q2207.19 364.885 2210.22 368.265 Q2213.28 371.621 2213.28 377.408 M2209.02 376.158 Q2208.97 372.663 2207.05 370.579 Q2205.15 368.496 2202 368.496 Q2198.44 368.496 2196.29 370.51 Q2194.16 372.524 2193.83 376.181 L2209.02 376.158 Z\" fill=\"#000000\" fill-rule=\"evenodd\" fill-opacity=\"1\" /><path clip-path=\"url(#clip510)\" d=\"M2240.99 365.51 L2231.61 378.126 L2241.47 391.436 L2236.45 391.436 L2228.9 381.251 L2221.36 391.436 L2216.33 391.436 L2226.4 377.871 L2217.19 365.51 L2222.21 365.51 L2229.09 374.746 L2235.96 365.51 L2240.99 365.51 Z\" fill=\"#000000\" fill-rule=\"evenodd\" fill-opacity=\"1\" /><path clip-path=\"url(#clip510)\" d=\"M2229 355.417 L2233.25 355.417 L2233.25 360.811 L2229 360.811 L2229 355.417 M2231.17 364.885 L2231.17 364.885 Z\" fill=\"#000000\" fill-rule=\"evenodd\" fill-opacity=\"1\" /><path clip-path=\"url(#clip510)\" d=\"M2246.63 388.889 L2251.36 388.889 L2251.36 374.746 L2246.19 375.695 L2246.19 373.01 L2251.52 372.107 L2254.69 372.107 L2254.69 388.889 L2259.44 388.889 L2259.44 391.436 L2246.63 391.436 L2246.63 388.889 Z\" fill=\"#000000\" fill-rule=\"evenodd\" fill-opacity=\"1\" /><polyline clip-path=\"url(#clip510)\" style=\"stroke:#ac8d18; stroke-linecap:round; stroke-linejoin:round; stroke-width:4; stroke-opacity:1; fill:none\" stroke-dasharray=\"16, 10\" points=\"2026.26,425.996 2165.97,425.996 \"/>\n",
       "<path clip-path=\"url(#clip510)\" d=\"M2213.28 429.248 L2213.28 431.331 L2193.69 431.331 Q2193.97 435.729 2196.33 438.044 Q2198.72 440.336 2202.95 440.336 Q2205.41 440.336 2207.7 439.734 Q2210.01 439.132 2212.28 437.929 L2212.28 441.956 Q2209.99 442.928 2207.58 443.438 Q2205.18 443.947 2202.7 443.947 Q2196.5 443.947 2192.86 440.336 Q2189.25 436.725 2189.25 430.567 Q2189.25 424.202 2192.68 420.475 Q2196.13 416.725 2201.96 416.725 Q2207.19 416.725 2210.22 420.105 Q2213.28 423.461 2213.28 429.248 M2209.02 427.998 Q2208.97 424.503 2207.05 422.419 Q2205.15 420.336 2202 420.336 Q2198.44 420.336 2196.29 422.35 Q2194.16 424.364 2193.83 428.021 L2209.02 427.998 Z\" fill=\"#000000\" fill-rule=\"evenodd\" fill-opacity=\"1\" /><path clip-path=\"url(#clip510)\" d=\"M2240.99 417.35 L2231.61 429.966 L2241.47 443.276 L2236.45 443.276 L2228.9 433.091 L2221.36 443.276 L2216.33 443.276 L2226.4 429.711 L2217.19 417.35 L2222.21 417.35 L2229.09 426.586 L2235.96 417.35 L2240.99 417.35 Z\" fill=\"#000000\" fill-rule=\"evenodd\" fill-opacity=\"1\" /><path clip-path=\"url(#clip510)\" d=\"M2229 407.257 L2233.25 407.257 L2233.25 412.651 L2229 412.651 L2229 407.257 M2231.17 416.725 L2231.17 416.725 Z\" fill=\"#000000\" fill-rule=\"evenodd\" fill-opacity=\"1\" /><path clip-path=\"url(#clip510)\" d=\"M2249.23 440.637 L2259.04 440.637 L2259.04 443.276 L2245.2 443.276 L2245.2 440.729 Q2245.99 440.012 2247.44 438.716 Q2255.41 431.655 2255.41 429.479 Q2255.41 427.952 2254.2 427.026 Q2253 426.077 2251.03 426.077 Q2249.83 426.077 2248.42 426.493 Q2247 426.887 2245.34 427.697 L2245.34 424.85 Q2247.12 424.202 2248.65 423.878 Q2250.2 423.554 2251.52 423.554 Q2254.87 423.554 2256.89 425.081 Q2258.9 426.609 2258.9 429.109 Q2258.9 432.327 2251.24 438.901 Q2249.94 440.012 2249.23 440.637 Z\" fill=\"#000000\" fill-rule=\"evenodd\" fill-opacity=\"1\" /><polyline clip-path=\"url(#clip510)\" style=\"stroke:#00a9ad; stroke-linecap:round; stroke-linejoin:round; stroke-width:4; stroke-opacity:1; fill:none\" stroke-dasharray=\"16, 10\" points=\"2026.26,477.836 2165.97,477.836 \"/>\n",
       "<path clip-path=\"url(#clip510)\" d=\"M2213.28 481.088 L2213.28 483.171 L2193.69 483.171 Q2193.97 487.569 2196.33 489.884 Q2198.72 492.176 2202.95 492.176 Q2205.41 492.176 2207.7 491.574 Q2210.01 490.972 2212.28 489.769 L2212.28 493.796 Q2209.99 494.768 2207.58 495.278 Q2205.18 495.787 2202.7 495.787 Q2196.5 495.787 2192.86 492.176 Q2189.25 488.565 2189.25 482.407 Q2189.25 476.042 2192.68 472.315 Q2196.13 468.565 2201.96 468.565 Q2207.19 468.565 2210.22 471.945 Q2213.28 475.301 2213.28 481.088 M2209.02 479.838 Q2208.97 476.343 2207.05 474.259 Q2205.15 472.176 2202 472.176 Q2198.44 472.176 2196.29 474.19 Q2194.16 476.204 2193.83 479.861 L2209.02 479.838 Z\" fill=\"#000000\" fill-rule=\"evenodd\" fill-opacity=\"1\" /><path clip-path=\"url(#clip510)\" d=\"M2240.99 469.19 L2231.61 481.806 L2241.47 495.116 L2236.45 495.116 L2228.9 484.931 L2221.36 495.116 L2216.33 495.116 L2226.4 481.551 L2217.19 469.19 L2222.21 469.19 L2229.09 478.426 L2235.96 469.19 L2240.99 469.19 Z\" fill=\"#000000\" fill-rule=\"evenodd\" fill-opacity=\"1\" /><path clip-path=\"url(#clip510)\" d=\"M2229 459.097 L2233.25 459.097 L2233.25 464.491 L2229 464.491 L2229 459.097 M2231.17 468.565 L2231.17 468.565 Z\" fill=\"#000000\" fill-rule=\"evenodd\" fill-opacity=\"1\" /><path clip-path=\"url(#clip510)\" d=\"M2255.15 484.653 Q2257.28 485.069 2258.44 486.343 Q2259.62 487.593 2259.62 489.491 Q2259.62 492.361 2257.42 493.912 Q2255.22 495.463 2251.12 495.463 Q2249.81 495.463 2248.35 495.208 Q2246.91 494.977 2245.29 494.514 L2245.29 491.713 Q2246.5 492.338 2247.86 492.639 Q2249.25 492.94 2250.8 492.94 Q2253.32 492.94 2254.71 492.037 Q2256.1 491.111 2256.1 489.491 Q2256.1 487.778 2254.81 486.898 Q2253.53 486.019 2251.03 486.019 L2249.04 486.019 L2249.04 483.519 L2251.22 483.519 Q2253.39 483.519 2254.5 482.801 Q2255.64 482.06 2255.64 480.671 Q2255.64 479.329 2254.48 478.634 Q2253.32 477.917 2251.12 477.917 Q2250.2 477.917 2249.02 478.125 Q2247.84 478.333 2245.96 478.866 L2245.96 476.204 Q2247.65 475.81 2249.13 475.602 Q2250.62 475.394 2251.89 475.394 Q2255.22 475.394 2257.17 476.759 Q2259.13 478.125 2259.13 480.417 Q2259.13 482.014 2258.09 483.125 Q2257.05 484.236 2255.15 484.653 Z\" fill=\"#000000\" fill-rule=\"evenodd\" fill-opacity=\"1\" /></svg>\n"
      ]
     },
     "metadata": {},
     "output_type": "display_data"
    },
    {
     "data": {
      "image/svg+xml": [
       "<?xml version=\"1.0\" encoding=\"utf-8\"?>\n",
       "<svg xmlns=\"http://www.w3.org/2000/svg\" xmlns:xlink=\"http://www.w3.org/1999/xlink\" width=\"600\" height=\"400\" viewBox=\"0 0 2400 1600\">\n",
       "<defs>\n",
       "  <clipPath id=\"clip550\">\n",
       "    <rect x=\"0\" y=\"0\" width=\"2400\" height=\"1600\"/>\n",
       "  </clipPath>\n",
       "</defs>\n",
       "<path clip-path=\"url(#clip550)\" d=\"M0 1600 L2400 1600 L2400 0 L0 0  Z\" fill=\"#ffffff\" fill-rule=\"evenodd\" fill-opacity=\"1\"/>\n",
       "<defs>\n",
       "  <clipPath id=\"clip551\">\n",
       "    <rect x=\"480\" y=\"0\" width=\"1681\" height=\"1600\"/>\n",
       "  </clipPath>\n",
       "</defs>\n",
       "<path clip-path=\"url(#clip550)\" d=\"M232.389 1423.18 L2352.76 1423.18 L2352.76 123.472 L232.389 123.472  Z\" fill=\"#ffffff\" fill-rule=\"evenodd\" fill-opacity=\"1\"/>\n",
       "<defs>\n",
       "  <clipPath id=\"clip552\">\n",
       "    <rect x=\"232\" y=\"123\" width=\"2121\" height=\"1301\"/>\n",
       "  </clipPath>\n",
       "</defs>\n",
       "<polyline clip-path=\"url(#clip552)\" style=\"stroke:#000000; stroke-linecap:round; stroke-linejoin:round; stroke-width:2; stroke-opacity:0.1; fill:none\" points=\"292.4,1423.18 292.4,123.472 \"/>\n",
       "<polyline clip-path=\"url(#clip552)\" style=\"stroke:#000000; stroke-linecap:round; stroke-linejoin:round; stroke-width:2; stroke-opacity:0.1; fill:none\" points=\"653.473,1423.18 653.473,123.472 \"/>\n",
       "<polyline clip-path=\"url(#clip552)\" style=\"stroke:#000000; stroke-linecap:round; stroke-linejoin:round; stroke-width:2; stroke-opacity:0.1; fill:none\" points=\"1014.55,1423.18 1014.55,123.472 \"/>\n",
       "<polyline clip-path=\"url(#clip552)\" style=\"stroke:#000000; stroke-linecap:round; stroke-linejoin:round; stroke-width:2; stroke-opacity:0.1; fill:none\" points=\"1375.62,1423.18 1375.62,123.472 \"/>\n",
       "<polyline clip-path=\"url(#clip552)\" style=\"stroke:#000000; stroke-linecap:round; stroke-linejoin:round; stroke-width:2; stroke-opacity:0.1; fill:none\" points=\"1736.69,1423.18 1736.69,123.472 \"/>\n",
       "<polyline clip-path=\"url(#clip552)\" style=\"stroke:#000000; stroke-linecap:round; stroke-linejoin:round; stroke-width:2; stroke-opacity:0.1; fill:none\" points=\"2097.77,1423.18 2097.77,123.472 \"/>\n",
       "<polyline clip-path=\"url(#clip550)\" style=\"stroke:#000000; stroke-linecap:round; stroke-linejoin:round; stroke-width:4; stroke-opacity:1; fill:none\" points=\"232.389,1423.18 2352.76,1423.18 \"/>\n",
       "<polyline clip-path=\"url(#clip550)\" style=\"stroke:#000000; stroke-linecap:round; stroke-linejoin:round; stroke-width:4; stroke-opacity:1; fill:none\" points=\"292.4,1423.18 292.4,1404.28 \"/>\n",
       "<polyline clip-path=\"url(#clip550)\" style=\"stroke:#000000; stroke-linecap:round; stroke-linejoin:round; stroke-width:4; stroke-opacity:1; fill:none\" points=\"653.473,1423.18 653.473,1404.28 \"/>\n",
       "<polyline clip-path=\"url(#clip550)\" style=\"stroke:#000000; stroke-linecap:round; stroke-linejoin:round; stroke-width:4; stroke-opacity:1; fill:none\" points=\"1014.55,1423.18 1014.55,1404.28 \"/>\n",
       "<polyline clip-path=\"url(#clip550)\" style=\"stroke:#000000; stroke-linecap:round; stroke-linejoin:round; stroke-width:4; stroke-opacity:1; fill:none\" points=\"1375.62,1423.18 1375.62,1404.28 \"/>\n",
       "<polyline clip-path=\"url(#clip550)\" style=\"stroke:#000000; stroke-linecap:round; stroke-linejoin:round; stroke-width:4; stroke-opacity:1; fill:none\" points=\"1736.69,1423.18 1736.69,1404.28 \"/>\n",
       "<polyline clip-path=\"url(#clip550)\" style=\"stroke:#000000; stroke-linecap:round; stroke-linejoin:round; stroke-width:4; stroke-opacity:1; fill:none\" points=\"2097.77,1423.18 2097.77,1404.28 \"/>\n",
       "<path clip-path=\"url(#clip550)\" d=\"M269.784 1454.1 Q266.173 1454.1 264.344 1457.66 Q262.539 1461.2 262.539 1468.33 Q262.539 1475.44 264.344 1479.01 Q266.173 1482.55 269.784 1482.55 Q273.418 1482.55 275.224 1479.01 Q277.053 1475.44 277.053 1468.33 Q277.053 1461.2 275.224 1457.66 Q273.418 1454.1 269.784 1454.1 M269.784 1450.39 Q275.594 1450.39 278.65 1455 Q281.728 1459.58 281.728 1468.33 Q281.728 1477.06 278.65 1481.67 Q275.594 1486.25 269.784 1486.25 Q263.974 1486.25 260.895 1481.67 Q257.84 1477.06 257.84 1468.33 Q257.84 1459.58 260.895 1455 Q263.974 1450.39 269.784 1450.39 Z\" fill=\"#000000\" fill-rule=\"evenodd\" fill-opacity=\"1\" /><path clip-path=\"url(#clip550)\" d=\"M289.946 1479.7 L294.83 1479.7 L294.83 1485.58 L289.946 1485.58 L289.946 1479.7 Z\" fill=\"#000000\" fill-rule=\"evenodd\" fill-opacity=\"1\" /><path clip-path=\"url(#clip550)\" d=\"M315.015 1454.1 Q311.404 1454.1 309.576 1457.66 Q307.77 1461.2 307.77 1468.33 Q307.77 1475.44 309.576 1479.01 Q311.404 1482.55 315.015 1482.55 Q318.65 1482.55 320.455 1479.01 Q322.284 1475.44 322.284 1468.33 Q322.284 1461.2 320.455 1457.66 Q318.65 1454.1 315.015 1454.1 M315.015 1450.39 Q320.825 1450.39 323.881 1455 Q326.96 1459.58 326.96 1468.33 Q326.96 1477.06 323.881 1481.67 Q320.825 1486.25 315.015 1486.25 Q309.205 1486.25 306.126 1481.67 Q303.071 1477.06 303.071 1468.33 Q303.071 1459.58 306.126 1455 Q309.205 1450.39 315.015 1450.39 Z\" fill=\"#000000\" fill-rule=\"evenodd\" fill-opacity=\"1\" /><path clip-path=\"url(#clip550)\" d=\"M625.209 1481.64 L641.529 1481.64 L641.529 1485.58 L619.584 1485.58 L619.584 1481.64 Q622.246 1478.89 626.83 1474.26 Q631.436 1469.61 632.617 1468.27 Q634.862 1465.74 635.742 1464.01 Q636.644 1462.25 636.644 1460.56 Q636.644 1457.8 634.7 1456.07 Q632.779 1454.33 629.677 1454.33 Q627.478 1454.33 625.024 1455.09 Q622.594 1455.86 619.816 1457.41 L619.816 1452.69 Q622.64 1451.55 625.093 1450.97 Q627.547 1450.39 629.584 1450.39 Q634.955 1450.39 638.149 1453.08 Q641.343 1455.77 641.343 1460.26 Q641.343 1462.39 640.533 1464.31 Q639.746 1466.2 637.64 1468.8 Q637.061 1469.47 633.959 1472.69 Q630.857 1475.88 625.209 1481.64 Z\" fill=\"#000000\" fill-rule=\"evenodd\" fill-opacity=\"1\" /><path clip-path=\"url(#clip550)\" d=\"M651.343 1479.7 L656.228 1479.7 L656.228 1485.58 L651.343 1485.58 L651.343 1479.7 Z\" fill=\"#000000\" fill-rule=\"evenodd\" fill-opacity=\"1\" /><path clip-path=\"url(#clip550)\" d=\"M666.459 1451.02 L684.815 1451.02 L684.815 1454.96 L670.741 1454.96 L670.741 1463.43 Q671.76 1463.08 672.778 1462.92 Q673.797 1462.73 674.815 1462.73 Q680.602 1462.73 683.982 1465.9 Q687.362 1469.08 687.362 1474.49 Q687.362 1480.07 683.889 1483.17 Q680.417 1486.25 674.098 1486.25 Q671.922 1486.25 669.653 1485.88 Q667.408 1485.51 665.001 1484.77 L665.001 1480.07 Q667.084 1481.2 669.306 1481.76 Q671.528 1482.32 674.005 1482.32 Q678.01 1482.32 680.348 1480.21 Q682.686 1478.1 682.686 1474.49 Q682.686 1470.88 680.348 1468.77 Q678.01 1466.67 674.005 1466.67 Q672.13 1466.67 670.255 1467.08 Q668.403 1467.5 666.459 1468.38 L666.459 1451.02 Z\" fill=\"#000000\" fill-rule=\"evenodd\" fill-opacity=\"1\" /><path clip-path=\"url(#clip550)\" d=\"M981.711 1451.02 L1000.07 1451.02 L1000.07 1454.96 L985.993 1454.96 L985.993 1463.43 Q987.012 1463.08 988.03 1462.92 Q989.049 1462.73 990.067 1462.73 Q995.854 1462.73 999.234 1465.9 Q1002.61 1469.08 1002.61 1474.49 Q1002.61 1480.07 999.141 1483.17 Q995.669 1486.25 989.35 1486.25 Q987.174 1486.25 984.905 1485.88 Q982.66 1485.51 980.252 1484.77 L980.252 1480.07 Q982.336 1481.2 984.558 1481.76 Q986.78 1482.32 989.257 1482.32 Q993.262 1482.32 995.6 1480.21 Q997.938 1478.1 997.938 1474.49 Q997.938 1470.88 995.6 1468.77 Q993.262 1466.67 989.257 1466.67 Q987.382 1466.67 985.507 1467.08 Q983.655 1467.5 981.711 1468.38 L981.711 1451.02 Z\" fill=\"#000000\" fill-rule=\"evenodd\" fill-opacity=\"1\" /><path clip-path=\"url(#clip550)\" d=\"M1011.83 1479.7 L1016.71 1479.7 L1016.71 1485.58 L1011.83 1485.58 L1011.83 1479.7 Z\" fill=\"#000000\" fill-rule=\"evenodd\" fill-opacity=\"1\" /><path clip-path=\"url(#clip550)\" d=\"M1036.9 1454.1 Q1033.28 1454.1 1031.46 1457.66 Q1029.65 1461.2 1029.65 1468.33 Q1029.65 1475.44 1031.46 1479.01 Q1033.28 1482.55 1036.9 1482.55 Q1040.53 1482.55 1042.34 1479.01 Q1044.16 1475.44 1044.16 1468.33 Q1044.16 1461.2 1042.34 1457.66 Q1040.53 1454.1 1036.9 1454.1 M1036.9 1450.39 Q1042.71 1450.39 1045.76 1455 Q1048.84 1459.58 1048.84 1468.33 Q1048.84 1477.06 1045.76 1481.67 Q1042.71 1486.25 1036.9 1486.25 Q1031.09 1486.25 1028.01 1481.67 Q1024.95 1477.06 1024.95 1468.33 Q1024.95 1459.58 1028.01 1455 Q1031.09 1450.39 1036.9 1450.39 Z\" fill=\"#000000\" fill-rule=\"evenodd\" fill-opacity=\"1\" /><path clip-path=\"url(#clip550)\" d=\"M1341.94 1451.02 L1364.16 1451.02 L1364.16 1453.01 L1351.61 1485.58 L1346.73 1485.58 L1358.54 1454.96 L1341.94 1454.96 L1341.94 1451.02 Z\" fill=\"#000000\" fill-rule=\"evenodd\" fill-opacity=\"1\" /><path clip-path=\"url(#clip550)\" d=\"M1373.28 1479.7 L1378.17 1479.7 L1378.17 1485.58 L1373.28 1485.58 L1373.28 1479.7 Z\" fill=\"#000000\" fill-rule=\"evenodd\" fill-opacity=\"1\" /><path clip-path=\"url(#clip550)\" d=\"M1388.4 1451.02 L1406.75 1451.02 L1406.75 1454.96 L1392.68 1454.96 L1392.68 1463.43 Q1393.7 1463.08 1394.72 1462.92 Q1395.74 1462.73 1396.75 1462.73 Q1402.54 1462.73 1405.92 1465.9 Q1409.3 1469.08 1409.3 1474.49 Q1409.3 1480.07 1405.83 1483.17 Q1402.36 1486.25 1396.04 1486.25 Q1393.86 1486.25 1391.59 1485.88 Q1389.35 1485.51 1386.94 1484.77 L1386.94 1480.07 Q1389.02 1481.2 1391.24 1481.76 Q1393.47 1482.32 1395.94 1482.32 Q1399.95 1482.32 1402.29 1480.21 Q1404.62 1478.1 1404.62 1474.49 Q1404.62 1470.88 1402.29 1468.77 Q1399.95 1466.67 1395.94 1466.67 Q1394.07 1466.67 1392.19 1467.08 Q1390.34 1467.5 1388.4 1468.38 L1388.4 1451.02 Z\" fill=\"#000000\" fill-rule=\"evenodd\" fill-opacity=\"1\" /><path clip-path=\"url(#clip550)\" d=\"M1688.76 1481.64 L1696.4 1481.64 L1696.4 1455.28 L1688.09 1456.95 L1688.09 1452.69 L1696.36 1451.02 L1701.03 1451.02 L1701.03 1481.64 L1708.67 1481.64 L1708.67 1485.58 L1688.76 1485.58 L1688.76 1481.64 Z\" fill=\"#000000\" fill-rule=\"evenodd\" fill-opacity=\"1\" /><path clip-path=\"url(#clip550)\" d=\"M1728.12 1454.1 Q1724.51 1454.1 1722.68 1457.66 Q1720.87 1461.2 1720.87 1468.33 Q1720.87 1475.44 1722.68 1479.01 Q1724.51 1482.55 1728.12 1482.55 Q1731.75 1482.55 1733.56 1479.01 Q1735.38 1475.44 1735.38 1468.33 Q1735.38 1461.2 1733.56 1457.66 Q1731.75 1454.1 1728.12 1454.1 M1728.12 1450.39 Q1733.93 1450.39 1736.98 1455 Q1740.06 1459.58 1740.06 1468.33 Q1740.06 1477.06 1736.98 1481.67 Q1733.93 1486.25 1728.12 1486.25 Q1722.31 1486.25 1719.23 1481.67 Q1716.17 1477.06 1716.17 1468.33 Q1716.17 1459.58 1719.23 1455 Q1722.31 1450.39 1728.12 1450.39 Z\" fill=\"#000000\" fill-rule=\"evenodd\" fill-opacity=\"1\" /><path clip-path=\"url(#clip550)\" d=\"M1748.28 1479.7 L1753.16 1479.7 L1753.16 1485.58 L1748.28 1485.58 L1748.28 1479.7 Z\" fill=\"#000000\" fill-rule=\"evenodd\" fill-opacity=\"1\" /><path clip-path=\"url(#clip550)\" d=\"M1773.35 1454.1 Q1769.74 1454.1 1767.91 1457.66 Q1766.1 1461.2 1766.1 1468.33 Q1766.1 1475.44 1767.91 1479.01 Q1769.74 1482.55 1773.35 1482.55 Q1776.98 1482.55 1778.79 1479.01 Q1780.62 1475.44 1780.62 1468.33 Q1780.62 1461.2 1778.79 1457.66 Q1776.98 1454.1 1773.35 1454.1 M1773.35 1450.39 Q1779.16 1450.39 1782.21 1455 Q1785.29 1459.58 1785.29 1468.33 Q1785.29 1477.06 1782.21 1481.67 Q1779.16 1486.25 1773.35 1486.25 Q1767.54 1486.25 1764.46 1481.67 Q1761.4 1477.06 1761.4 1468.33 Q1761.4 1459.58 1764.46 1455 Q1767.54 1450.39 1773.35 1450.39 Z\" fill=\"#000000\" fill-rule=\"evenodd\" fill-opacity=\"1\" /><path clip-path=\"url(#clip550)\" d=\"M2050.34 1481.64 L2057.97 1481.64 L2057.97 1455.28 L2049.66 1456.95 L2049.66 1452.69 L2057.93 1451.02 L2062.6 1451.02 L2062.6 1481.64 L2070.24 1481.64 L2070.24 1485.58 L2050.34 1485.58 L2050.34 1481.64 Z\" fill=\"#000000\" fill-rule=\"evenodd\" fill-opacity=\"1\" /><path clip-path=\"url(#clip550)\" d=\"M2083.72 1481.64 L2100.03 1481.64 L2100.03 1485.58 L2078.09 1485.58 L2078.09 1481.64 Q2080.75 1478.89 2085.34 1474.26 Q2089.94 1469.61 2091.12 1468.27 Q2093.37 1465.74 2094.25 1464.01 Q2095.15 1462.25 2095.15 1460.56 Q2095.15 1457.8 2093.21 1456.07 Q2091.28 1454.33 2088.18 1454.33 Q2085.98 1454.33 2083.53 1455.09 Q2081.1 1455.86 2078.32 1457.41 L2078.32 1452.69 Q2081.15 1451.55 2083.6 1450.97 Q2086.05 1450.39 2088.09 1450.39 Q2093.46 1450.39 2096.65 1453.08 Q2099.85 1455.77 2099.85 1460.26 Q2099.85 1462.39 2099.04 1464.31 Q2098.25 1466.2 2096.15 1468.8 Q2095.57 1469.47 2092.47 1472.69 Q2089.36 1475.88 2083.72 1481.64 Z\" fill=\"#000000\" fill-rule=\"evenodd\" fill-opacity=\"1\" /><path clip-path=\"url(#clip550)\" d=\"M2109.85 1479.7 L2114.73 1479.7 L2114.73 1485.58 L2109.85 1485.58 L2109.85 1479.7 Z\" fill=\"#000000\" fill-rule=\"evenodd\" fill-opacity=\"1\" /><path clip-path=\"url(#clip550)\" d=\"M2124.96 1451.02 L2143.32 1451.02 L2143.32 1454.96 L2129.25 1454.96 L2129.25 1463.43 Q2130.27 1463.08 2131.28 1462.92 Q2132.3 1462.73 2133.32 1462.73 Q2139.11 1462.73 2142.49 1465.9 Q2145.87 1469.08 2145.87 1474.49 Q2145.87 1480.07 2142.4 1483.17 Q2138.92 1486.25 2132.6 1486.25 Q2130.43 1486.25 2128.16 1485.88 Q2125.91 1485.51 2123.51 1484.77 L2123.51 1480.07 Q2125.59 1481.2 2127.81 1481.76 Q2130.03 1482.32 2132.51 1482.32 Q2136.52 1482.32 2138.85 1480.21 Q2141.19 1478.1 2141.19 1474.49 Q2141.19 1470.88 2138.85 1468.77 Q2136.52 1466.67 2132.51 1466.67 Q2130.64 1466.67 2128.76 1467.08 Q2126.91 1467.5 2124.96 1468.38 L2124.96 1451.02 Z\" fill=\"#000000\" fill-rule=\"evenodd\" fill-opacity=\"1\" /><path clip-path=\"url(#clip550)\" d=\"M1180.03 1522.27 L1180.03 1532.4 L1192.09 1532.4 L1192.09 1536.95 L1180.03 1536.95 L1180.03 1556.3 Q1180.03 1560.66 1181.2 1561.9 Q1182.41 1563.14 1186.07 1563.14 L1192.09 1563.14 L1192.09 1568.04 L1186.07 1568.04 Q1179.29 1568.04 1176.72 1565.53 Q1174.14 1562.98 1174.14 1556.3 L1174.14 1536.95 L1169.84 1536.95 L1169.84 1532.4 L1174.14 1532.4 L1174.14 1522.27 L1180.03 1522.27 Z\" fill=\"#000000\" fill-rule=\"evenodd\" fill-opacity=\"1\" /><path clip-path=\"url(#clip550)\" d=\"M1199.79 1532.4 L1205.65 1532.4 L1205.65 1568.04 L1199.79 1568.04 L1199.79 1532.4 M1199.79 1518.52 L1205.65 1518.52 L1205.65 1525.93 L1199.79 1525.93 L1199.79 1518.52 Z\" fill=\"#000000\" fill-rule=\"evenodd\" fill-opacity=\"1\" /><path clip-path=\"url(#clip550)\" d=\"M1245.66 1539.24 Q1247.85 1535.29 1250.91 1533.41 Q1253.96 1531.54 1258.1 1531.54 Q1263.67 1531.54 1266.7 1535.45 Q1269.72 1539.33 1269.72 1546.53 L1269.72 1568.04 L1263.83 1568.04 L1263.83 1546.72 Q1263.83 1541.59 1262.02 1539.11 Q1260.2 1536.63 1256.48 1536.63 Q1251.93 1536.63 1249.29 1539.65 Q1246.64 1542.68 1246.64 1547.9 L1246.64 1568.04 L1240.76 1568.04 L1240.76 1546.72 Q1240.76 1541.56 1238.94 1539.11 Q1237.13 1536.63 1233.34 1536.63 Q1228.85 1536.63 1226.21 1539.68 Q1223.57 1542.71 1223.57 1547.9 L1223.57 1568.04 L1217.68 1568.04 L1217.68 1532.4 L1223.57 1532.4 L1223.57 1537.93 Q1225.57 1534.66 1228.37 1533.1 Q1231.18 1531.54 1235.03 1531.54 Q1238.91 1531.54 1241.62 1533.51 Q1244.35 1535.48 1245.66 1539.24 Z\" fill=\"#000000\" fill-rule=\"evenodd\" fill-opacity=\"1\" /><path clip-path=\"url(#clip550)\" d=\"M1311.89 1548.76 L1311.89 1551.62 L1284.97 1551.62 Q1285.35 1557.67 1288.59 1560.85 Q1291.87 1564 1297.7 1564 Q1301.07 1564 1304.22 1563.17 Q1307.4 1562.35 1310.52 1560.69 L1310.52 1566.23 Q1307.37 1567.57 1304.06 1568.27 Q1300.75 1568.97 1297.35 1568.97 Q1288.82 1568.97 1283.82 1564 Q1278.85 1559.04 1278.85 1550.57 Q1278.85 1541.82 1283.57 1536.69 Q1288.31 1531.54 1296.33 1531.54 Q1303.52 1531.54 1307.69 1536.18 Q1311.89 1540.8 1311.89 1548.76 M1306.04 1547.04 Q1305.97 1542.23 1303.33 1539.37 Q1300.72 1536.5 1296.39 1536.5 Q1291.49 1536.5 1288.53 1539.27 Q1285.6 1542.04 1285.16 1547.07 L1306.04 1547.04 Z\" fill=\"#000000\" fill-rule=\"evenodd\" fill-opacity=\"1\" /><path clip-path=\"url(#clip550)\" d=\"M1356.29 1518.58 Q1352.03 1525.9 1349.96 1533.06 Q1347.89 1540.23 1347.89 1547.58 Q1347.89 1554.93 1349.96 1562.16 Q1352.06 1569.35 1356.29 1576.64 L1351.2 1576.64 Q1346.43 1569.16 1344.04 1561.93 Q1341.68 1554.71 1341.68 1547.58 Q1341.68 1540.48 1344.04 1533.29 Q1346.39 1526.09 1351.2 1518.58 L1356.29 1518.58 Z\" fill=\"#000000\" fill-rule=\"evenodd\" fill-opacity=\"1\" /><path clip-path=\"url(#clip550)\" d=\"M1390.38 1533.45 L1390.38 1538.98 Q1387.9 1537.71 1385.23 1537.07 Q1382.55 1536.44 1379.69 1536.44 Q1375.33 1536.44 1373.13 1537.77 Q1370.97 1539.11 1370.97 1541.79 Q1370.97 1543.82 1372.53 1545 Q1374.09 1546.15 1378.8 1547.2 L1380.8 1547.64 Q1387.04 1548.98 1389.65 1551.43 Q1392.29 1553.85 1392.29 1558.21 Q1392.29 1563.17 1388.34 1566.07 Q1384.43 1568.97 1377.55 1568.97 Q1374.69 1568.97 1371.57 1568.39 Q1368.48 1567.85 1365.05 1566.74 L1365.05 1560.69 Q1368.29 1562.38 1371.44 1563.24 Q1374.59 1564.07 1377.68 1564.07 Q1381.82 1564.07 1384.05 1562.66 Q1386.28 1561.23 1386.28 1558.65 Q1386.28 1556.27 1384.65 1554.99 Q1383.06 1553.72 1377.62 1552.54 L1375.58 1552.07 Q1370.14 1550.92 1367.72 1548.56 Q1365.3 1546.18 1365.3 1542.04 Q1365.3 1537.01 1368.87 1534.27 Q1372.43 1531.54 1378.99 1531.54 Q1382.23 1531.54 1385.1 1532.01 Q1387.96 1532.49 1390.38 1533.45 Z\" fill=\"#000000\" fill-rule=\"evenodd\" fill-opacity=\"1\" /><path clip-path=\"url(#clip550)\" d=\"M1400.69 1518.58 L1405.79 1518.58 Q1410.56 1526.09 1412.92 1533.29 Q1415.3 1540.48 1415.3 1547.58 Q1415.3 1554.71 1412.92 1561.93 Q1410.56 1569.16 1405.79 1576.64 L1400.69 1576.64 Q1404.93 1569.35 1407 1562.16 Q1409.1 1554.93 1409.1 1547.58 Q1409.1 1540.23 1407 1533.06 Q1404.93 1525.9 1400.69 1518.58 Z\" fill=\"#000000\" fill-rule=\"evenodd\" fill-opacity=\"1\" /><polyline clip-path=\"url(#clip552)\" style=\"stroke:#000000; stroke-linecap:round; stroke-linejoin:round; stroke-width:2; stroke-opacity:0.1; fill:none\" points=\"232.389,1297.73 2352.76,1297.73 \"/>\n",
       "<polyline clip-path=\"url(#clip552)\" style=\"stroke:#000000; stroke-linecap:round; stroke-linejoin:round; stroke-width:2; stroke-opacity:0.1; fill:none\" points=\"232.389,959.791 2352.76,959.791 \"/>\n",
       "<polyline clip-path=\"url(#clip552)\" style=\"stroke:#000000; stroke-linecap:round; stroke-linejoin:round; stroke-width:2; stroke-opacity:0.1; fill:none\" points=\"232.389,621.848 2352.76,621.848 \"/>\n",
       "<polyline clip-path=\"url(#clip552)\" style=\"stroke:#000000; stroke-linecap:round; stroke-linejoin:round; stroke-width:2; stroke-opacity:0.1; fill:none\" points=\"232.389,283.905 2352.76,283.905 \"/>\n",
       "<polyline clip-path=\"url(#clip550)\" style=\"stroke:#000000; stroke-linecap:round; stroke-linejoin:round; stroke-width:4; stroke-opacity:1; fill:none\" points=\"232.389,1423.18 232.389,123.472 \"/>\n",
       "<polyline clip-path=\"url(#clip550)\" style=\"stroke:#000000; stroke-linecap:round; stroke-linejoin:round; stroke-width:4; stroke-opacity:1; fill:none\" points=\"232.389,1297.73 251.287,1297.73 \"/>\n",
       "<polyline clip-path=\"url(#clip550)\" style=\"stroke:#000000; stroke-linecap:round; stroke-linejoin:round; stroke-width:4; stroke-opacity:1; fill:none\" points=\"232.389,959.791 251.287,959.791 \"/>\n",
       "<polyline clip-path=\"url(#clip550)\" style=\"stroke:#000000; stroke-linecap:round; stroke-linejoin:round; stroke-width:4; stroke-opacity:1; fill:none\" points=\"232.389,621.848 251.287,621.848 \"/>\n",
       "<polyline clip-path=\"url(#clip550)\" style=\"stroke:#000000; stroke-linecap:round; stroke-linejoin:round; stroke-width:4; stroke-opacity:1; fill:none\" points=\"232.389,283.905 251.287,283.905 \"/>\n",
       "<path clip-path=\"url(#clip550)\" d=\"M184.445 1283.53 Q180.834 1283.53 179.005 1287.1 Q177.2 1290.64 177.2 1297.77 Q177.2 1304.88 179.005 1308.44 Q180.834 1311.98 184.445 1311.98 Q188.079 1311.98 189.885 1308.44 Q191.713 1304.88 191.713 1297.77 Q191.713 1290.64 189.885 1287.1 Q188.079 1283.53 184.445 1283.53 M184.445 1279.83 Q190.255 1279.83 193.311 1284.44 Q196.389 1289.02 196.389 1297.77 Q196.389 1306.5 193.311 1311.1 Q190.255 1315.69 184.445 1315.69 Q178.635 1315.69 175.556 1311.1 Q172.501 1306.5 172.501 1297.77 Q172.501 1289.02 175.556 1284.44 Q178.635 1279.83 184.445 1279.83 Z\" fill=\"#000000\" fill-rule=\"evenodd\" fill-opacity=\"1\" /><path clip-path=\"url(#clip550)\" d=\"M144.329 942.511 L162.686 942.511 L162.686 946.447 L148.612 946.447 L148.612 954.919 Q149.63 954.572 150.649 954.41 Q151.667 954.224 152.686 954.224 Q158.473 954.224 161.852 957.396 Q165.232 960.567 165.232 965.984 Q165.232 971.562 161.76 974.664 Q158.288 977.743 151.968 977.743 Q149.792 977.743 147.524 977.372 Q145.279 977.002 142.871 976.261 L142.871 971.562 Q144.954 972.696 147.177 973.252 Q149.399 973.808 151.876 973.808 Q155.88 973.808 158.218 971.701 Q160.556 969.595 160.556 965.984 Q160.556 962.372 158.218 960.266 Q155.88 958.16 151.876 958.16 Q150.001 958.16 148.126 958.576 Q146.274 958.993 144.329 959.872 L144.329 942.511 Z\" fill=\"#000000\" fill-rule=\"evenodd\" fill-opacity=\"1\" /><path clip-path=\"url(#clip550)\" d=\"M184.445 945.59 Q180.834 945.59 179.005 949.155 Q177.2 952.697 177.2 959.826 Q177.2 966.933 179.005 970.497 Q180.834 974.039 184.445 974.039 Q188.079 974.039 189.885 970.497 Q191.713 966.933 191.713 959.826 Q191.713 952.697 189.885 949.155 Q188.079 945.59 184.445 945.59 M184.445 941.886 Q190.255 941.886 193.311 946.493 Q196.389 951.076 196.389 959.826 Q196.389 968.553 193.311 973.159 Q190.255 977.743 184.445 977.743 Q178.635 977.743 175.556 973.159 Q172.501 968.553 172.501 959.826 Q172.501 951.076 175.556 946.493 Q178.635 941.886 184.445 941.886 Z\" fill=\"#000000\" fill-rule=\"evenodd\" fill-opacity=\"1\" /><path clip-path=\"url(#clip550)\" d=\"M114.931 635.193 L122.57 635.193 L122.57 608.828 L114.26 610.494 L114.26 606.235 L122.524 604.568 L127.2 604.568 L127.2 635.193 L134.839 635.193 L134.839 639.128 L114.931 639.128 L114.931 635.193 Z\" fill=\"#000000\" fill-rule=\"evenodd\" fill-opacity=\"1\" /><path clip-path=\"url(#clip550)\" d=\"M154.283 607.647 Q150.672 607.647 148.843 611.212 Q147.038 614.754 147.038 621.883 Q147.038 628.99 148.843 632.554 Q150.672 636.096 154.283 636.096 Q157.917 636.096 159.723 632.554 Q161.552 628.99 161.552 621.883 Q161.552 614.754 159.723 611.212 Q157.917 607.647 154.283 607.647 M154.283 603.943 Q160.093 603.943 163.149 608.55 Q166.227 613.133 166.227 621.883 Q166.227 630.61 163.149 635.216 Q160.093 639.8 154.283 639.8 Q148.473 639.8 145.394 635.216 Q142.339 630.61 142.339 621.883 Q142.339 613.133 145.394 608.55 Q148.473 603.943 154.283 603.943 Z\" fill=\"#000000\" fill-rule=\"evenodd\" fill-opacity=\"1\" /><path clip-path=\"url(#clip550)\" d=\"M184.445 607.647 Q180.834 607.647 179.005 611.212 Q177.2 614.754 177.2 621.883 Q177.2 628.99 179.005 632.554 Q180.834 636.096 184.445 636.096 Q188.079 636.096 189.885 632.554 Q191.713 628.99 191.713 621.883 Q191.713 614.754 189.885 611.212 Q188.079 607.647 184.445 607.647 M184.445 603.943 Q190.255 603.943 193.311 608.55 Q196.389 613.133 196.389 621.883 Q196.389 630.61 193.311 635.216 Q190.255 639.8 184.445 639.8 Q178.635 639.8 175.556 635.216 Q172.501 630.61 172.501 621.883 Q172.501 613.133 175.556 608.55 Q178.635 603.943 184.445 603.943 Z\" fill=\"#000000\" fill-rule=\"evenodd\" fill-opacity=\"1\" /><path clip-path=\"url(#clip550)\" d=\"M114.931 297.25 L122.57 297.25 L122.57 270.885 L114.26 272.551 L114.26 268.292 L122.524 266.625 L127.2 266.625 L127.2 297.25 L134.839 297.25 L134.839 301.185 L114.931 301.185 L114.931 297.25 Z\" fill=\"#000000\" fill-rule=\"evenodd\" fill-opacity=\"1\" /><path clip-path=\"url(#clip550)\" d=\"M144.329 266.625 L162.686 266.625 L162.686 270.561 L148.612 270.561 L148.612 279.033 Q149.63 278.685 150.649 278.523 Q151.667 278.338 152.686 278.338 Q158.473 278.338 161.852 281.51 Q165.232 284.681 165.232 290.097 Q165.232 295.676 161.76 298.778 Q158.288 301.857 151.968 301.857 Q149.792 301.857 147.524 301.486 Q145.279 301.116 142.871 300.375 L142.871 295.676 Q144.954 296.81 147.177 297.366 Q149.399 297.921 151.876 297.921 Q155.88 297.921 158.218 295.815 Q160.556 293.709 160.556 290.097 Q160.556 286.486 158.218 284.38 Q155.88 282.273 151.876 282.273 Q150.001 282.273 148.126 282.69 Q146.274 283.107 144.329 283.986 L144.329 266.625 Z\" fill=\"#000000\" fill-rule=\"evenodd\" fill-opacity=\"1\" /><path clip-path=\"url(#clip550)\" d=\"M184.445 269.704 Q180.834 269.704 179.005 273.269 Q177.2 276.81 177.2 283.94 Q177.2 291.047 179.005 294.611 Q180.834 298.153 184.445 298.153 Q188.079 298.153 189.885 294.611 Q191.713 291.047 191.713 283.94 Q191.713 276.81 189.885 273.269 Q188.079 269.704 184.445 269.704 M184.445 266 Q190.255 266 193.311 270.607 Q196.389 275.19 196.389 283.94 Q196.389 292.667 193.311 297.273 Q190.255 301.857 184.445 301.857 Q178.635 301.857 175.556 297.273 Q172.501 292.667 172.501 283.94 Q172.501 275.19 175.556 270.607 Q178.635 266 184.445 266 Z\" fill=\"#000000\" fill-rule=\"evenodd\" fill-opacity=\"1\" /><path clip-path=\"url(#clip550)\" d=\"M49.9359 788.254 L28.3562 788.254 L28.3562 782.397 L49.7131 782.397 Q54.7739 782.397 57.3202 780.424 Q59.8346 778.45 59.8346 774.504 Q59.8346 769.761 56.8109 767.024 Q53.7872 764.255 48.5673 764.255 L28.3562 764.255 L28.3562 758.398 L64.0042 758.398 L64.0042 764.255 L58.5296 764.255 Q61.7762 766.387 63.3676 769.22 Q64.9272 772.021 64.9272 775.745 Q64.9272 781.888 61.1078 785.071 Q57.2883 788.254 49.9359 788.254 M27.4968 773.517 L27.4968 773.517 Z\" fill=\"#000000\" fill-rule=\"evenodd\" fill-opacity=\"1\" /><path clip-path=\"url(#clip550)\" d=\"M1029.71 12.096 L1037.89 12.096 L1037.89 72.576 L1029.71 72.576 L1029.71 12.096 Z\" fill=\"#000000\" fill-rule=\"evenodd\" fill-opacity=\"1\" /><path clip-path=\"url(#clip550)\" d=\"M1091.57 45.1919 L1091.57 72.576 L1084.11 72.576 L1084.11 45.4349 Q1084.11 38.994 1081.6 35.7938 Q1079.09 32.5936 1074.07 32.5936 Q1068.03 32.5936 1064.55 36.4419 Q1061.06 40.2903 1061.06 46.9338 L1061.06 72.576 L1053.57 72.576 L1053.57 27.2059 L1061.06 27.2059 L1061.06 34.2544 Q1063.74 30.163 1067.34 28.1376 Q1070.99 26.1121 1075.73 26.1121 Q1083.55 26.1121 1087.56 30.9732 Q1091.57 35.7938 1091.57 45.1919 Z\" fill=\"#000000\" fill-rule=\"evenodd\" fill-opacity=\"1\" /><path clip-path=\"url(#clip550)\" d=\"M1113.64 65.7705 L1113.64 89.8329 L1106.15 89.8329 L1106.15 27.2059 L1113.64 27.2059 L1113.64 34.0924 Q1115.99 30.0415 1119.56 28.0971 Q1123.16 26.1121 1128.15 26.1121 Q1136.41 26.1121 1141.55 32.6746 Q1146.74 39.2371 1146.74 49.9314 Q1146.74 60.6258 1141.55 67.1883 Q1136.41 73.7508 1128.15 73.7508 Q1123.16 73.7508 1119.56 71.8063 Q1115.99 69.8214 1113.64 65.7705 M1139 49.9314 Q1139 41.7081 1135.6 37.0496 Q1132.24 32.3505 1126.32 32.3505 Q1120.41 32.3505 1117.01 37.0496 Q1113.64 41.7081 1113.64 49.9314 Q1113.64 58.1548 1117.01 62.8538 Q1120.41 67.5124 1126.32 67.5124 Q1132.24 67.5124 1135.6 62.8538 Q1139 58.1548 1139 49.9314 Z\" fill=\"#000000\" fill-rule=\"evenodd\" fill-opacity=\"1\" /><path clip-path=\"url(#clip550)\" d=\"M1158.33 54.671 L1158.33 27.2059 L1165.78 27.2059 L1165.78 54.3874 Q1165.78 60.8284 1168.29 64.0691 Q1170.8 67.2693 1175.83 67.2693 Q1181.86 67.2693 1185.35 63.421 Q1188.87 59.5726 1188.87 52.9291 L1188.87 27.2059 L1196.32 27.2059 L1196.32 72.576 L1188.87 72.576 L1188.87 65.6084 Q1186.16 69.7404 1182.55 71.7658 Q1178.99 73.7508 1174.25 73.7508 Q1166.43 73.7508 1162.38 68.8897 Q1158.33 64.0286 1158.33 54.671 M1177.08 26.1121 L1177.08 26.1121 Z\" fill=\"#000000\" fill-rule=\"evenodd\" fill-opacity=\"1\" /><path clip-path=\"url(#clip550)\" d=\"M1219.05 14.324 L1219.05 27.2059 L1234.4 27.2059 L1234.4 32.9987 L1219.05 32.9987 L1219.05 57.6282 Q1219.05 63.1779 1220.55 64.7578 Q1222.09 66.3376 1226.75 66.3376 L1234.4 66.3376 L1234.4 72.576 L1226.75 72.576 Q1218.12 72.576 1214.84 69.3758 Q1211.55 66.1351 1211.55 57.6282 L1211.55 32.9987 L1206.09 32.9987 L1206.09 27.2059 L1211.55 27.2059 L1211.55 14.324 L1219.05 14.324 Z\" fill=\"#000000\" fill-rule=\"evenodd\" fill-opacity=\"1\" /><path clip-path=\"url(#clip550)\" d=\"M1270.9 12.096 L1279.08 12.096 L1279.08 36.8875 L1308.82 36.8875 L1308.82 12.096 L1317 12.096 L1317 72.576 L1308.82 72.576 L1308.82 43.7741 L1279.08 43.7741 L1279.08 72.576 L1270.9 72.576 L1270.9 12.096 Z\" fill=\"#000000\" fill-rule=\"evenodd\" fill-opacity=\"1\" /><path clip-path=\"url(#clip550)\" d=\"M1332.96 27.2059 L1340.41 27.2059 L1340.41 72.576 L1332.96 72.576 L1332.96 27.2059 M1332.96 9.54393 L1340.41 9.54393 L1340.41 18.9825 L1332.96 18.9825 L1332.96 9.54393 Z\" fill=\"#000000\" fill-rule=\"evenodd\" fill-opacity=\"1\" /><path clip-path=\"url(#clip550)\" d=\"M1384.93 28.5427 L1384.93 35.5912 Q1381.77 33.9709 1378.37 33.1607 Q1374.97 32.3505 1371.32 32.3505 Q1365.77 32.3505 1362.98 34.0519 Q1360.22 35.7533 1360.22 39.156 Q1360.22 41.7486 1362.21 43.2475 Q1364.19 44.7058 1370.19 46.0426 L1372.74 46.6097 Q1380.68 48.3111 1384 51.4303 Q1387.36 54.509 1387.36 60.0587 Q1387.36 66.3781 1382.34 70.0644 Q1377.36 73.7508 1368.61 73.7508 Q1364.96 73.7508 1360.99 73.0216 Q1357.06 72.3329 1352.69 70.9151 L1352.69 63.2184 Q1356.82 65.3654 1360.83 66.4591 Q1364.84 67.5124 1368.77 67.5124 Q1374.04 67.5124 1376.87 65.73 Q1379.71 63.9071 1379.71 60.6258 Q1379.71 57.5877 1377.64 55.9673 Q1375.62 54.3469 1368.69 52.8481 L1366.1 52.2405 Q1359.17 50.7821 1356.09 47.7845 Q1353.01 44.7463 1353.01 39.4801 Q1353.01 33.0797 1357.55 29.5959 Q1362.09 26.1121 1370.43 26.1121 Q1374.56 26.1121 1378.21 26.7198 Q1381.85 27.3274 1384.93 28.5427 Z\" fill=\"#000000\" fill-rule=\"evenodd\" fill-opacity=\"1\" /><path clip-path=\"url(#clip550)\" d=\"M1406.61 14.324 L1406.61 27.2059 L1421.96 27.2059 L1421.96 32.9987 L1406.61 32.9987 L1406.61 57.6282 Q1406.61 63.1779 1408.1 64.7578 Q1409.64 66.3376 1414.3 66.3376 L1421.96 66.3376 L1421.96 72.576 L1414.3 72.576 Q1405.67 72.576 1402.39 69.3758 Q1399.11 66.1351 1399.11 57.6282 L1399.11 32.9987 L1393.64 32.9987 L1393.64 27.2059 L1399.11 27.2059 L1399.11 14.324 L1406.61 14.324 Z\" fill=\"#000000\" fill-rule=\"evenodd\" fill-opacity=\"1\" /><path clip-path=\"url(#clip550)\" d=\"M1449.34 32.4315 Q1443.35 32.4315 1439.86 37.1306 Q1436.38 41.7891 1436.38 49.9314 Q1436.38 58.0738 1439.82 62.7728 Q1443.31 67.4314 1449.34 67.4314 Q1455.3 67.4314 1458.78 62.7323 Q1462.27 58.0333 1462.27 49.9314 Q1462.27 41.8701 1458.78 37.1711 Q1455.3 32.4315 1449.34 32.4315 M1449.34 26.1121 Q1459.06 26.1121 1464.61 32.4315 Q1470.16 38.7509 1470.16 49.9314 Q1470.16 61.0714 1464.61 67.4314 Q1459.06 73.7508 1449.34 73.7508 Q1439.58 73.7508 1434.03 67.4314 Q1428.52 61.0714 1428.52 49.9314 Q1428.52 38.7509 1434.03 32.4315 Q1439.58 26.1121 1449.34 26.1121 Z\" fill=\"#000000\" fill-rule=\"evenodd\" fill-opacity=\"1\" /><path clip-path=\"url(#clip550)\" d=\"M1508.81 34.1734 Q1507.55 33.4443 1506.06 33.1202 Q1504.6 32.7556 1502.81 32.7556 Q1496.5 32.7556 1493.09 36.8875 Q1489.73 40.9789 1489.73 48.6757 L1489.73 72.576 L1482.24 72.576 L1482.24 27.2059 L1489.73 27.2059 L1489.73 34.2544 Q1492.08 30.1225 1495.85 28.1376 Q1499.61 26.1121 1505 26.1121 Q1505.77 26.1121 1506.7 26.2337 Q1507.64 26.3147 1508.77 26.5172 L1508.81 34.1734 Z\" fill=\"#000000\" fill-rule=\"evenodd\" fill-opacity=\"1\" /><path clip-path=\"url(#clip550)\" d=\"M1535.51 76.7889 Q1532.35 84.8907 1529.35 87.3618 Q1526.35 89.8329 1521.33 89.8329 L1515.37 89.8329 L1515.37 83.5945 L1519.75 83.5945 Q1522.83 83.5945 1524.53 82.1361 Q1526.23 80.6778 1528.29 75.2496 L1529.63 71.8468 L1511.28 27.2059 L1519.18 27.2059 L1533.36 62.6918 L1547.54 27.2059 L1555.44 27.2059 L1535.51 76.7889 Z\" fill=\"#000000\" fill-rule=\"evenodd\" fill-opacity=\"1\" /><polyline clip-path=\"url(#clip552)\" style=\"stroke:#009af9; stroke-linecap:round; stroke-linejoin:round; stroke-width:4; stroke-opacity:1; fill:none\" points=\"292.4,1239.49 299.621,1290.76 306.843,1281.5 314.064,1292.15 321.286,1333.49 328.507,1347.25 335.729,1312.22 342.95,1282.53 350.171,1290.92 357.393,1241.26 364.614,1245.16 371.836,1199.2 379.057,1241.25 386.279,1228.15 393.5,1228.62 400.722,1266.8 407.943,1237.72 415.165,1272.7 422.386,1259.91 429.608,1256.83 436.829,1269.89 444.05,1275.92 451.272,1263.11 458.493,1241.48 465.715,1266.56 472.936,1283.16 480.158,1234.91 487.379,1242.52 494.601,1241.16 501.822,1236.55 509.044,1237.55 516.265,1236.15 523.487,1253.24 530.708,1242.6 537.93,1239.24 545.151,1254.52 552.372,1245.6 559.594,1255.11 566.815,1236.1 574.037,1237.21 581.258,1266.57 588.48,1262.87 595.701,1291.78 602.923,1301.89 610.144,1256.05 617.366,1245.8 624.587,1262.92 631.809,1225.07 639.03,1223.72 646.252,1257.28 653.473,1251.23 660.694,1239.73 667.916,1249.37 675.137,1246.05 682.359,1235.23 689.58,1211.5 696.802,1242.83 704.023,1252.27 711.245,1241.13 718.466,1246.97 725.688,1258.26 732.909,1229.24 740.131,1228.85 747.352,1230.69 754.573,1238.49 761.795,1246.89 769.016,1229.48 776.238,1241.81 783.459,1232.19 790.681,1246.47 797.902,1234.01 805.124,1265.59 812.345,1243.34 819.567,1276.51 826.788,1328.35 834.01,1342.83 841.231,1344.61 848.453,1319.14 855.674,1321.3 862.895,1324.55 870.117,1299.82 877.338,1290.02 884.56,1292.66 891.781,1295.44 899.003,1282.46 906.224,1278.66 913.446,1296.59 920.667,1322.85 927.889,1337.67 935.11,1311.29 942.332,1315.06 949.553,1278.81 956.775,1299.53 963.996,1277.16 971.217,1270.67 978.439,1274.22 985.66,1246.36 992.882,1279.38 1000.1,1270.53 1007.32,1258.94 1014.55,1257.12 1021.77,1243.06 1028.99,1236.31 1036.21,1231.48 1043.43,1241.22 1050.65,1255.71 1057.88,1252.02 1065.1,1294.3 1072.32,1291.59 1079.54,1262.99 1086.76,1298.81 1093.98,1267.54 1101.2,1283.59 1108.43,1272.13 1115.65,1281.73 1122.87,1294.09 1130.09,1318.6 1137.31,1289.59 1144.53,1313.64 1151.75,1314.21 1158.98,1262.45 1166.2,1278.31 1173.42,1272.86 1180.64,1273.01 1187.86,1264.68 1195.08,1255 1202.3,1271.81 1209.53,1278.47 1216.75,1295.45 1223.97,1267.9 1231.19,1270.66 1238.41,1271.79 1245.63,1306.64 1252.85,1298.8 1260.08,1281.1 1267.3,1324.81 1274.52,1278.54 1281.74,1313.79 1288.96,1268.44 1296.18,1288.71 1303.4,1284.82 1310.63,1268.93 1317.85,1272.66 1325.07,1295.05 1332.29,1286.73 1339.51,1253.2 1346.73,1257.86 1353.96,1257.84 1361.18,1248.98 1368.4,1252.15 1375.62,1257.8 1382.84,1265.89 1390.06,1282.35 1397.28,1266.29 1404.51,1290.55 1411.73,1265.45 1418.95,1264.22 1426.17,1245.34 1433.39,1269.29 1440.61,1303.48 1447.83,1306.38 1455.06,1281.74 1462.28,1283.34 1469.5,1265.53 1476.72,1240.9 1483.94,1249.34 1491.16,1283.98 1498.38,1295.33 1505.61,1260.33 1512.83,1257.12 1520.05,1261.97 1527.27,1284.74 1534.49,1277.31 1541.71,1292.04 1548.93,1304.19 1556.16,1318.53 1563.38,1304.51 1570.6,1305.51 1577.82,1297.73 1585.04,1272.1 1592.26,1279.41 1599.48,1294.53 1606.71,1299.59 1613.93,1308.19 1621.15,1312.34 1628.37,1322.91 1635.59,1340.8 1642.81,1330.95 1650.04,1312.25 1657.26,1290.95 1664.48,1312.74 1671.7,1332.37 1678.92,1242.49 1686.14,1253.89 1693.36,1245.96 1700.59,1266.94 1707.81,1295.9 1715.03,1269.15 1722.25,1268.25 1729.47,1293.06 1736.69,1301.98 1743.91,1314.64 1751.14,1305.18 1758.36,1314.8 1765.58,1305.07 1772.8,1274.77 1780.02,1325.15 1787.24,1315.34 1794.46,1320.58 1801.69,1320.8 1808.91,1301.88 1816.13,1306.75 1823.35,1296.93 1830.57,1302.54 1837.79,1295.92 1845.01,1291.75 1852.24,1309.44 1859.46,1321.69 1866.68,1303.74 1873.9,1299.73 1881.12,1318.83 1888.34,1314.15 1895.56,1306.48 1902.79,1300.63 1910.01,1291.25 1917.23,1315.22 1924.45,1305.98 1931.67,1287.18 1938.89,1284.3 1946.12,1304.15 1953.34,1315.21 1960.56,1303.51 1967.78,1318.69 1975,1331.76 1982.22,1356.27 1989.44,1298.73 1996.67,1285.91 2003.89,1286.64 2011.11,1295.1 2018.33,1291.97 2025.55,1301.48 2032.77,1310.47 2039.99,1319.33 2047.22,1292.01 2054.44,1296.17 2061.66,1292.91 2068.88,1287.54 2076.1,1295.32 2083.32,1295.77 2090.54,1315.15 2097.77,1295.81 2104.99,1298.64 2112.21,1302.95 2119.43,1305.9 2126.65,1302.01 2133.87,1300.33 2141.09,1291.36 2148.32,1297.55 2155.54,1300.54 2162.76,1308.12 2169.98,1311.91 2177.2,1312.5 2184.42,1309.93 2191.65,1307.11 2198.87,1308.28 2206.09,1303.91 2213.31,1308.01 2220.53,1308.17 2227.75,1307.5 2234.97,1305.72 2242.2,1307.77 2249.42,1308.01 2256.64,1308.18 2263.86,1310.28 2271.08,1310 2278.3,1309.45 2285.52,1311.16 2292.75,1310.26 \"/>\n",
       "<polyline clip-path=\"url(#clip552)\" style=\"stroke:#e26f46; stroke-linecap:round; stroke-linejoin:round; stroke-width:4; stroke-opacity:1; fill:none\" points=\"292.4,1316.99 299.621,1353.11 306.843,1356.01 314.064,1348.19 321.286,1336.84 328.507,1355.61 335.729,1348.44 342.95,1386.4 350.171,1336.43 357.393,1337.3 364.614,1278.86 371.836,1311.66 379.057,1311.53 386.279,1330.21 393.5,1336.25 400.722,1317.04 407.943,1340.95 415.165,1333.47 422.386,1348.96 429.608,1353.05 436.829,1362.08 444.05,1322.87 451.272,1328.45 458.493,1339.83 465.715,1330.34 472.936,1312.82 480.158,1350.71 487.379,1341.2 494.601,1340.94 501.822,1333.71 509.044,1346.11 516.265,1343.68 523.487,1316.65 530.708,1327.38 537.93,1346.91 545.151,1322.97 552.372,1320.22 559.594,1323.02 566.815,1330.34 574.037,1314.32 581.258,1338.62 588.48,1305.21 595.701,1366.59 602.923,1358.67 610.144,1349.51 617.366,1346.6 624.587,1329.43 631.809,1306.79 639.03,1349.17 646.252,1318.62 653.473,1322.73 660.694,1322.45 667.916,1301.23 675.137,1317.61 682.359,1296.66 689.58,1291.66 696.802,1278.72 704.023,1306.15 711.245,1338.32 718.466,1337.27 725.688,1313.08 732.909,1322.9 740.131,1317.48 747.352,1319.87 754.573,1322.6 761.795,1309.98 769.016,1316.51 776.238,1324.68 783.459,1322.04 790.681,1326.8 797.902,1319.03 805.124,1354.65 812.345,1337.1 819.567,1333.93 826.788,1337.07 834.01,1320.3 841.231,1335.15 848.453,1354.18 855.674,1337.9 862.895,1349.19 870.117,1371.82 877.338,1345.56 884.56,1369.34 891.781,1354.29 899.003,1322.04 906.224,1322.12 913.446,1323.41 920.667,1292.54 927.889,1274.19 935.11,1276.41 942.332,1291.7 949.553,1356.45 956.775,1349.18 963.996,1321.35 971.217,1343.78 978.439,1320.55 985.66,1324.94 992.882,1304.52 1000.1,1304.11 1007.32,1296.56 1014.55,1288.35 1021.77,1271.7 1028.99,1290.23 1036.21,1297.35 1043.43,1300.85 1050.65,1301.32 1057.88,1306.27 1065.1,1326.28 1072.32,1280.27 1079.54,1296.98 1086.76,1307.39 1093.98,1295.69 1101.2,1309.72 1108.43,1290.53 1115.65,1340.53 1122.87,1293.79 1130.09,1289.33 1137.31,1287.69 1144.53,1300.09 1151.75,1271.69 1158.98,1277.51 1166.2,1283.41 1173.42,1306.29 1180.64,1322.65 1187.86,1301.01 1195.08,1302.61 1202.3,1334.95 1209.53,1328.56 1216.75,1318.18 1223.97,1274.62 1231.19,1271.67 1238.41,1271.84 1245.63,1264.42 1252.85,1271.89 1260.08,1290.93 1267.3,1278.61 1274.52,1317.09 1281.74,1273.17 1288.96,1322.49 1296.18,1327.34 1303.4,1329.44 1310.63,1325.32 1317.85,1333.92 1325.07,1292.01 1332.29,1307.61 1339.51,1314.55 1346.73,1326 1353.96,1342.85 1361.18,1335.61 1368.4,1344.84 1375.62,1344.37 1382.84,1346.15 1390.06,1341.4 1397.28,1347.95 1404.51,1344.29 1411.73,1347.04 1418.95,1328.33 1426.17,1272.94 1433.39,1272.41 1440.61,1294.02 1447.83,1276.8 1455.06,1243.25 1462.28,1257.91 1469.5,1279.87 1476.72,1305.64 1483.94,1290.13 1491.16,1306.84 1498.38,1311.87 1505.61,1282.5 1512.83,1315.45 1520.05,1305.35 1527.27,1310.38 1534.49,1322.63 1541.71,1303.05 1548.93,1317.89 1556.16,1330.88 1563.38,1317.78 1570.6,1331.82 1577.82,1300.87 1585.04,1329.78 1592.26,1362.28 1599.48,1331.65 1606.71,1346.21 1613.93,1327.95 1621.15,1356.22 1628.37,1347.86 1635.59,1328.23 1642.81,1309.39 1650.04,1298.38 1657.26,1283.77 1664.48,1282.28 1671.7,1264.18 1678.92,1292.46 1686.14,1299.33 1693.36,1305.64 1700.59,1300.44 1707.81,1313.38 1715.03,1320.77 1722.25,1289.02 1729.47,1294.77 1736.69,1269.04 1743.91,1279.66 1751.14,1285.07 1758.36,1275.19 1765.58,1281.29 1772.8,1309.55 1780.02,1273.58 1787.24,1285.11 1794.46,1287.66 1801.69,1277.57 1808.91,1285.94 1816.13,1294.56 1823.35,1278.87 1830.57,1281.77 1837.79,1283.24 1845.01,1296.64 1852.24,1295.89 1859.46,1302.2 1866.68,1291.33 1873.9,1302.26 1881.12,1307.13 1888.34,1279.11 1895.56,1286.02 1902.79,1318.98 1910.01,1313.43 1917.23,1287.52 1924.45,1304.54 1931.67,1299.57 1938.89,1282.09 1946.12,1309.27 1953.34,1293.4 1960.56,1267.93 1967.78,1279.5 1975,1287.37 1982.22,1295.72 1989.44,1283.75 1996.67,1291.69 2003.89,1274.45 2011.11,1290.29 2018.33,1290.1 2025.55,1283.07 2032.77,1281.86 2039.99,1288.98 2047.22,1283.13 2054.44,1290.84 2061.66,1274.3 2068.88,1288.4 2076.1,1289.88 2083.32,1282.93 2090.54,1287.79 2097.77,1271.24 2104.99,1275.46 2112.21,1284.24 2119.43,1277.53 2126.65,1289.01 2133.87,1289.51 2141.09,1293.75 2148.32,1280.62 2155.54,1275.63 2162.76,1281.25 2169.98,1288.09 2177.2,1283.27 2184.42,1279.59 2191.65,1279.84 2198.87,1279.62 2206.09,1278.9 2213.31,1280.16 2220.53,1282.07 2227.75,1284.48 2234.97,1278.96 2242.2,1278.64 2249.42,1279.72 2256.64,1280.17 2263.86,1282.46 2271.08,1280.9 2278.3,1284.42 2285.52,1279.92 2292.75,1282.39 \"/>\n",
       "<polyline clip-path=\"url(#clip552)\" style=\"stroke:#3da44d; stroke-linecap:round; stroke-linejoin:round; stroke-width:4; stroke-opacity:1; fill:none\" points=\"292.4,596.541 299.621,659.806 306.843,606.258 314.064,717.437 321.286,692.084 328.507,427.215 335.729,694.95 342.95,269.505 350.171,848.54 357.393,509.566 364.614,659.233 371.836,160.256 379.057,633.098 386.279,419.808 393.5,393.387 400.722,880.933 407.943,452.394 415.165,799.025 422.386,569.894 429.608,511.351 436.829,496.295 444.05,917.289 451.272,768.573 458.493,494.736 465.715,782.043 472.936,1057.97 480.158,358.507 487.379,494.454 494.601,484.139 501.822,486.368 509.044,415.123 516.265,419.433 523.487,745.127 530.708,582.162 537.93,424.287 545.151,725.699 552.372,648.608 559.594,731.239 566.815,500.78 574.037,580.426 581.258,526.809 588.48,584.865 595.701,507.731 602.923,599.82 610.144,537.926 617.366,482.707 624.587,759.709 631.809,460.702 639.03,267.43 646.252,777.332 653.473,694.302 660.694,577.127 667.916,743.457 675.137,664.833 682.359,583.055 689.58,309.484 696.802,633.713 704.023,649.368 711.245,501.509 718.466,562.289 725.688,813.669 732.909,463.627 740.131,478.551 747.352,490.77 754.573,563.224 761.795,699.999 769.016,488.648 776.238,588.146 783.459,498.781 790.681,624.225 797.902,529.821 805.124,550.635 812.345,530.259 819.567,691.397 826.788,512.528 834.01,721.371 841.231,572.083 848.453,607.769 855.674,765.43 862.895,632.327 870.117,450.593 877.338,743.996 884.56,477.066 891.781,650.623 899.003,684.036 906.224,512.725 913.446,723.201 920.667,656.04 927.889,665.978 935.11,551.447 942.332,465.623 949.553,530.535 956.775,590.99 963.996,572.985 971.217,684.182 978.439,744.381 985.66,633.289 992.882,753.597 1000.1,539.295 1007.32,530.269 1014.55,817.484 1021.77,605.581 1028.99,590.574 1036.21,525.271 1043.43,650.639 1050.65,670.866 1057.88,574.936 1065.1,596.596 1072.32,543.707 1079.54,545.899 1086.76,632.899 1093.98,670.059 1101.2,473.943 1108.43,668.247 1115.65,714.244 1122.87,718.335 1130.09,676.46 1137.31,684.586 1144.53,512.369 1151.75,525.577 1158.98,535.868 1166.2,704.36 1173.42,628.195 1180.64,674.216 1187.86,553.784 1195.08,524.656 1202.3,760.692 1209.53,544.129 1216.75,523.932 1223.97,544.284 1231.19,537.239 1238.41,669.936 1245.63,551.085 1252.85,632.306 1260.08,627.808 1267.3,721.891 1274.52,488.578 1281.74,650.446 1288.96,503.983 1296.18,508.928 1303.4,448.53 1310.63,540.302 1317.85,586.015 1325.07,701.945 1332.29,641.9 1339.51,527.449 1346.73,602.41 1353.96,609.312 1361.18,592.135 1368.4,548.456 1375.62,595.943 1382.84,635.41 1390.06,768.612 1397.28,620.514 1404.51,668.941 1411.73,539.326 1418.95,600.488 1426.17,635.297 1433.39,599.998 1440.61,579.268 1447.83,602.332 1455.06,577.808 1462.28,500.381 1469.5,746.999 1476.72,635.242 1483.94,591.97 1491.16,610.983 1498.38,608.445 1505.61,667.545 1512.83,639.058 1520.05,583.907 1527.27,665.203 1534.49,698.026 1541.71,566.895 1548.93,653.737 1556.16,602.024 1563.38,562.981 1570.6,627.108 1577.82,707.657 1585.04,539.157 1592.26,530.871 1599.48,767.099 1606.71,580.727 1613.93,604.044 1621.15,608.61 1628.37,656.603 1635.59,604.62 1642.81,552.24 1650.04,625.709 1657.26,607.714 1664.48,584.896 1671.7,558.538 1678.92,638.937 1686.14,632.289 1693.36,696.738 1700.59,675.586 1707.81,592.494 1715.03,636.261 1722.25,542.766 1729.47,672.239 1736.69,659.989 1743.91,705.972 1751.14,612.831 1758.36,615.566 1765.58,693.617 1772.8,648.236 1780.02,583.918 1787.24,676.777 1794.46,661.591 1801.69,630.619 1808.91,636.735 1816.13,606.377 1823.35,623.955 1830.57,655.16 1837.79,632.482 1845.01,653.62 1852.24,635.257 1859.46,624.72 1866.68,659.975 1873.9,596.295 1881.12,627.256 1888.34,639.039 1895.56,590.326 1902.79,657.252 1910.01,575.081 1917.23,561.644 1924.45,639.69 1931.67,629.16 1938.89,619.288 1946.12,700.191 1953.34,632.767 1960.56,638.675 1967.78,641.092 1975,665.983 1982.22,628.285 1989.44,550.918 1996.67,605.398 2003.89,639.364 2011.11,633.353 2018.33,608.398 2025.55,653.973 2032.77,628.275 2039.99,615.932 2047.22,605.171 2054.44,625.809 2061.66,621.104 2068.88,619.72 2076.1,623.779 2083.32,637.66 2090.54,616.637 2097.77,640.26 2104.99,656.846 2112.21,635.604 2119.43,623.902 2126.65,618.726 2133.87,637.235 2141.09,657.321 2148.32,632.073 2155.54,637.649 2162.76,634.118 2169.98,635.323 2177.2,626.224 2184.42,638.849 2191.65,627.372 2198.87,628.972 2206.09,657.765 2213.31,632.867 2220.53,635.319 2227.75,631.87 2234.97,656.28 2242.2,616.971 2249.42,652.793 2256.64,642.131 2263.86,630.031 2271.08,646.313 2278.3,616.349 2285.52,658.291 2292.75,627.832 \"/>\n",
       "<path clip-path=\"url(#clip550)\" d=\"M2027.42 374.156 L2282.08 374.156 L2282.08 166.796 L2027.42 166.796  Z\" fill=\"#ffffff\" fill-rule=\"evenodd\" fill-opacity=\"1\"/>\n",
       "<polyline clip-path=\"url(#clip550)\" style=\"stroke:#000000; stroke-linecap:round; stroke-linejoin:round; stroke-width:4; stroke-opacity:1; fill:none\" points=\"2027.42,374.156 2282.08,374.156 2282.08,166.796 2027.42,166.796 2027.42,374.156 \"/>\n",
       "<polyline clip-path=\"url(#clip550)\" style=\"stroke:#009af9; stroke-linecap:round; stroke-linejoin:round; stroke-width:4; stroke-opacity:1; fill:none\" points=\"2050.98,218.636 2192.34,218.636 \"/>\n",
       "<path clip-path=\"url(#clip550)\" d=\"M2215.9 225.684 L2215.9 209.99 L2220.16 209.99 L2220.16 225.522 Q2220.16 229.203 2221.6 231.055 Q2223.03 232.883 2225.9 232.883 Q2229.35 232.883 2231.34 230.684 Q2233.36 228.485 2233.36 224.689 L2233.36 209.99 L2237.61 209.99 L2237.61 235.916 L2233.36 235.916 L2233.36 231.934 Q2231.8 234.295 2229.74 235.453 Q2227.71 236.587 2225 236.587 Q2220.53 236.587 2218.22 233.809 Q2215.9 231.031 2215.9 225.684 M2226.62 209.365 L2226.62 209.365 Z\" fill=\"#000000\" fill-rule=\"evenodd\" fill-opacity=\"1\" /><path clip-path=\"url(#clip550)\" d=\"M2245.53 233.369 L2250.25 233.369 L2250.25 219.226 L2245.09 220.175 L2245.09 217.49 L2250.42 216.587 L2253.59 216.587 L2253.59 233.369 L2258.33 233.369 L2258.33 235.916 L2245.53 235.916 L2245.53 233.369 Z\" fill=\"#000000\" fill-rule=\"evenodd\" fill-opacity=\"1\" /><polyline clip-path=\"url(#clip550)\" style=\"stroke:#e26f46; stroke-linecap:round; stroke-linejoin:round; stroke-width:4; stroke-opacity:1; fill:none\" points=\"2050.98,270.476 2192.34,270.476 \"/>\n",
       "<path clip-path=\"url(#clip550)\" d=\"M2215.9 277.524 L2215.9 261.83 L2220.16 261.83 L2220.16 277.362 Q2220.16 281.043 2221.6 282.895 Q2223.03 284.723 2225.9 284.723 Q2229.35 284.723 2231.34 282.524 Q2233.36 280.325 2233.36 276.529 L2233.36 261.83 L2237.61 261.83 L2237.61 287.756 L2233.36 287.756 L2233.36 283.774 Q2231.8 286.135 2229.74 287.293 Q2227.71 288.427 2225 288.427 Q2220.53 288.427 2218.22 285.649 Q2215.9 282.871 2215.9 277.524 M2226.62 261.205 L2226.62 261.205 Z\" fill=\"#000000\" fill-rule=\"evenodd\" fill-opacity=\"1\" /><path clip-path=\"url(#clip550)\" d=\"M2248.12 285.117 L2257.94 285.117 L2257.94 287.756 L2244.1 287.756 L2244.1 285.209 Q2244.88 284.492 2246.34 283.196 Q2254.3 276.135 2254.3 273.959 Q2254.3 272.432 2253.1 271.506 Q2251.9 270.557 2249.93 270.557 Q2248.73 270.557 2247.31 270.973 Q2245.9 271.367 2244.24 272.177 L2244.24 269.33 Q2246.02 268.682 2247.55 268.358 Q2249.1 268.034 2250.42 268.034 Q2253.77 268.034 2255.79 269.561 Q2257.8 271.089 2257.8 273.589 Q2257.8 276.807 2250.14 283.381 Q2248.84 284.492 2248.12 285.117 Z\" fill=\"#000000\" fill-rule=\"evenodd\" fill-opacity=\"1\" /><polyline clip-path=\"url(#clip550)\" style=\"stroke:#3da44d; stroke-linecap:round; stroke-linejoin:round; stroke-width:4; stroke-opacity:1; fill:none\" points=\"2050.98,322.316 2192.34,322.316 \"/>\n",
       "<path clip-path=\"url(#clip550)\" d=\"M2215.9 329.364 L2215.9 313.67 L2220.16 313.67 L2220.16 329.202 Q2220.16 332.883 2221.6 334.735 Q2223.03 336.563 2225.9 336.563 Q2229.35 336.563 2231.34 334.364 Q2233.36 332.165 2233.36 328.369 L2233.36 313.67 L2237.61 313.67 L2237.61 339.596 L2233.36 339.596 L2233.36 335.614 Q2231.8 337.975 2229.74 339.133 Q2227.71 340.267 2225 340.267 Q2220.53 340.267 2218.22 337.489 Q2215.9 334.711 2215.9 329.364 M2226.62 313.045 L2226.62 313.045 Z\" fill=\"#000000\" fill-rule=\"evenodd\" fill-opacity=\"1\" /><path clip-path=\"url(#clip550)\" d=\"M2254.05 329.133 Q2256.18 329.549 2257.34 330.823 Q2258.52 332.073 2258.52 333.971 Q2258.52 336.841 2256.32 338.392 Q2254.12 339.943 2250.02 339.943 Q2248.7 339.943 2247.24 339.688 Q2245.81 339.457 2244.19 338.994 L2244.19 336.193 Q2245.39 336.818 2246.76 337.119 Q2248.15 337.42 2249.7 337.42 Q2252.22 337.42 2253.61 336.517 Q2255 335.591 2255 333.971 Q2255 332.258 2253.7 331.378 Q2252.43 330.499 2249.93 330.499 L2247.94 330.499 L2247.94 327.999 L2250.11 327.999 Q2252.29 327.999 2253.4 327.281 Q2254.54 326.54 2254.54 325.151 Q2254.54 323.809 2253.38 323.114 Q2252.22 322.397 2250.02 322.397 Q2249.1 322.397 2247.92 322.605 Q2246.74 322.813 2244.86 323.346 L2244.86 320.684 Q2246.55 320.29 2248.03 320.082 Q2249.51 319.874 2250.79 319.874 Q2254.12 319.874 2256.06 321.239 Q2258.03 322.605 2258.03 324.897 Q2258.03 326.494 2256.99 327.605 Q2255.95 328.716 2254.05 329.133 Z\" fill=\"#000000\" fill-rule=\"evenodd\" fill-opacity=\"1\" /></svg>\n"
      ]
     },
     "metadata": {},
     "output_type": "display_data"
    },
    {
     "data": {
      "image/svg+xml": [
       "<?xml version=\"1.0\" encoding=\"utf-8\"?>\n",
       "<svg xmlns=\"http://www.w3.org/2000/svg\" xmlns:xlink=\"http://www.w3.org/1999/xlink\" width=\"600\" height=\"400\" viewBox=\"0 0 2400 1600\">\n",
       "<defs>\n",
       "  <clipPath id=\"clip590\">\n",
       "    <rect x=\"0\" y=\"0\" width=\"2400\" height=\"1600\"/>\n",
       "  </clipPath>\n",
       "</defs>\n",
       "<path clip-path=\"url(#clip590)\" d=\"M0 1600 L2400 1600 L2400 0 L0 0  Z\" fill=\"#ffffff\" fill-rule=\"evenodd\" fill-opacity=\"1\"/>\n",
       "<defs>\n",
       "  <clipPath id=\"clip591\">\n",
       "    <rect x=\"480\" y=\"0\" width=\"1681\" height=\"1600\"/>\n",
       "  </clipPath>\n",
       "</defs>\n",
       "<path clip-path=\"url(#clip590)\" d=\"M210.977 1423.18 L2352.76 1423.18 L2352.76 123.472 L210.977 123.472  Z\" fill=\"#ffffff\" fill-rule=\"evenodd\" fill-opacity=\"1\"/>\n",
       "<defs>\n",
       "  <clipPath id=\"clip592\">\n",
       "    <rect x=\"210\" y=\"123\" width=\"2143\" height=\"1301\"/>\n",
       "  </clipPath>\n",
       "</defs>\n",
       "<polyline clip-path=\"url(#clip592)\" style=\"stroke:#000000; stroke-linecap:round; stroke-linejoin:round; stroke-width:2; stroke-opacity:0.1; fill:none\" points=\"271.594,1423.18 271.594,123.472 \"/>\n",
       "<polyline clip-path=\"url(#clip592)\" style=\"stroke:#000000; stroke-linecap:round; stroke-linejoin:round; stroke-width:2; stroke-opacity:0.1; fill:none\" points=\"633.699,1423.18 633.699,123.472 \"/>\n",
       "<polyline clip-path=\"url(#clip592)\" style=\"stroke:#000000; stroke-linecap:round; stroke-linejoin:round; stroke-width:2; stroke-opacity:0.1; fill:none\" points=\"995.804,1423.18 995.804,123.472 \"/>\n",
       "<polyline clip-path=\"url(#clip592)\" style=\"stroke:#000000; stroke-linecap:round; stroke-linejoin:round; stroke-width:2; stroke-opacity:0.1; fill:none\" points=\"1357.91,1423.18 1357.91,123.472 \"/>\n",
       "<polyline clip-path=\"url(#clip592)\" style=\"stroke:#000000; stroke-linecap:round; stroke-linejoin:round; stroke-width:2; stroke-opacity:0.1; fill:none\" points=\"1720.01,1423.18 1720.01,123.472 \"/>\n",
       "<polyline clip-path=\"url(#clip592)\" style=\"stroke:#000000; stroke-linecap:round; stroke-linejoin:round; stroke-width:2; stroke-opacity:0.1; fill:none\" points=\"2082.12,1423.18 2082.12,123.472 \"/>\n",
       "<polyline clip-path=\"url(#clip590)\" style=\"stroke:#000000; stroke-linecap:round; stroke-linejoin:round; stroke-width:4; stroke-opacity:1; fill:none\" points=\"210.977,1423.18 2352.76,1423.18 \"/>\n",
       "<polyline clip-path=\"url(#clip590)\" style=\"stroke:#000000; stroke-linecap:round; stroke-linejoin:round; stroke-width:4; stroke-opacity:1; fill:none\" points=\"271.594,1423.18 271.594,1404.28 \"/>\n",
       "<polyline clip-path=\"url(#clip590)\" style=\"stroke:#000000; stroke-linecap:round; stroke-linejoin:round; stroke-width:4; stroke-opacity:1; fill:none\" points=\"633.699,1423.18 633.699,1404.28 \"/>\n",
       "<polyline clip-path=\"url(#clip590)\" style=\"stroke:#000000; stroke-linecap:round; stroke-linejoin:round; stroke-width:4; stroke-opacity:1; fill:none\" points=\"995.804,1423.18 995.804,1404.28 \"/>\n",
       "<polyline clip-path=\"url(#clip590)\" style=\"stroke:#000000; stroke-linecap:round; stroke-linejoin:round; stroke-width:4; stroke-opacity:1; fill:none\" points=\"1357.91,1423.18 1357.91,1404.28 \"/>\n",
       "<polyline clip-path=\"url(#clip590)\" style=\"stroke:#000000; stroke-linecap:round; stroke-linejoin:round; stroke-width:4; stroke-opacity:1; fill:none\" points=\"1720.01,1423.18 1720.01,1404.28 \"/>\n",
       "<polyline clip-path=\"url(#clip590)\" style=\"stroke:#000000; stroke-linecap:round; stroke-linejoin:round; stroke-width:4; stroke-opacity:1; fill:none\" points=\"2082.12,1423.18 2082.12,1404.28 \"/>\n",
       "<path clip-path=\"url(#clip590)\" d=\"M248.978 1454.1 Q245.367 1454.1 243.538 1457.66 Q241.733 1461.2 241.733 1468.33 Q241.733 1475.44 243.538 1479.01 Q245.367 1482.55 248.978 1482.55 Q252.612 1482.55 254.418 1479.01 Q256.247 1475.44 256.247 1468.33 Q256.247 1461.2 254.418 1457.66 Q252.612 1454.1 248.978 1454.1 M248.978 1450.39 Q254.788 1450.39 257.844 1455 Q260.923 1459.58 260.923 1468.33 Q260.923 1477.06 257.844 1481.67 Q254.788 1486.25 248.978 1486.25 Q243.168 1486.25 240.089 1481.67 Q237.034 1477.06 237.034 1468.33 Q237.034 1459.58 240.089 1455 Q243.168 1450.39 248.978 1450.39 Z\" fill=\"#000000\" fill-rule=\"evenodd\" fill-opacity=\"1\" /><path clip-path=\"url(#clip590)\" d=\"M269.14 1479.7 L274.024 1479.7 L274.024 1485.58 L269.14 1485.58 L269.14 1479.7 Z\" fill=\"#000000\" fill-rule=\"evenodd\" fill-opacity=\"1\" /><path clip-path=\"url(#clip590)\" d=\"M294.209 1454.1 Q290.598 1454.1 288.77 1457.66 Q286.964 1461.2 286.964 1468.33 Q286.964 1475.44 288.77 1479.01 Q290.598 1482.55 294.209 1482.55 Q297.844 1482.55 299.649 1479.01 Q301.478 1475.44 301.478 1468.33 Q301.478 1461.2 299.649 1457.66 Q297.844 1454.1 294.209 1454.1 M294.209 1450.39 Q300.02 1450.39 303.075 1455 Q306.154 1459.58 306.154 1468.33 Q306.154 1477.06 303.075 1481.67 Q300.02 1486.25 294.209 1486.25 Q288.399 1486.25 285.321 1481.67 Q282.265 1477.06 282.265 1468.33 Q282.265 1459.58 285.321 1455 Q288.399 1450.39 294.209 1450.39 Z\" fill=\"#000000\" fill-rule=\"evenodd\" fill-opacity=\"1\" /><path clip-path=\"url(#clip590)\" d=\"M605.435 1481.64 L621.754 1481.64 L621.754 1485.58 L599.81 1485.58 L599.81 1481.64 Q602.472 1478.89 607.055 1474.26 Q611.662 1469.61 612.842 1468.27 Q615.088 1465.74 615.967 1464.01 Q616.87 1462.25 616.87 1460.56 Q616.87 1457.8 614.926 1456.07 Q613.004 1454.33 609.903 1454.33 Q607.704 1454.33 605.25 1455.09 Q602.819 1455.86 600.042 1457.41 L600.042 1452.69 Q602.866 1451.55 605.319 1450.97 Q607.773 1450.39 609.81 1450.39 Q615.18 1450.39 618.375 1453.08 Q621.569 1455.77 621.569 1460.26 Q621.569 1462.39 620.759 1464.31 Q619.972 1466.2 617.866 1468.8 Q617.287 1469.47 614.185 1472.69 Q611.083 1475.88 605.435 1481.64 Z\" fill=\"#000000\" fill-rule=\"evenodd\" fill-opacity=\"1\" /><path clip-path=\"url(#clip590)\" d=\"M631.569 1479.7 L636.453 1479.7 L636.453 1485.58 L631.569 1485.58 L631.569 1479.7 Z\" fill=\"#000000\" fill-rule=\"evenodd\" fill-opacity=\"1\" /><path clip-path=\"url(#clip590)\" d=\"M646.685 1451.02 L665.041 1451.02 L665.041 1454.96 L650.967 1454.96 L650.967 1463.43 Q651.986 1463.08 653.004 1462.92 Q654.023 1462.73 655.041 1462.73 Q660.828 1462.73 664.208 1465.9 Q667.587 1469.08 667.587 1474.49 Q667.587 1480.07 664.115 1483.17 Q660.643 1486.25 654.324 1486.25 Q652.148 1486.25 649.879 1485.88 Q647.634 1485.51 645.226 1484.77 L645.226 1480.07 Q647.31 1481.2 649.532 1481.76 Q651.754 1482.32 654.231 1482.32 Q658.236 1482.32 660.574 1480.21 Q662.912 1478.1 662.912 1474.49 Q662.912 1470.88 660.574 1468.77 Q658.236 1466.67 654.231 1466.67 Q652.356 1466.67 650.481 1467.08 Q648.629 1467.5 646.685 1468.38 L646.685 1451.02 Z\" fill=\"#000000\" fill-rule=\"evenodd\" fill-opacity=\"1\" /><path clip-path=\"url(#clip590)\" d=\"M962.968 1451.02 L981.325 1451.02 L981.325 1454.96 L967.251 1454.96 L967.251 1463.43 Q968.269 1463.08 969.288 1462.92 Q970.306 1462.73 971.325 1462.73 Q977.112 1462.73 980.491 1465.9 Q983.871 1469.08 983.871 1474.49 Q983.871 1480.07 980.399 1483.17 Q976.927 1486.25 970.607 1486.25 Q968.431 1486.25 966.163 1485.88 Q963.917 1485.51 961.51 1484.77 L961.51 1480.07 Q963.593 1481.2 965.815 1481.76 Q968.038 1482.32 970.515 1482.32 Q974.519 1482.32 976.857 1480.21 Q979.195 1478.1 979.195 1474.49 Q979.195 1470.88 976.857 1468.77 Q974.519 1466.67 970.515 1466.67 Q968.64 1466.67 966.765 1467.08 Q964.913 1467.5 962.968 1468.38 L962.968 1451.02 Z\" fill=\"#000000\" fill-rule=\"evenodd\" fill-opacity=\"1\" /><path clip-path=\"url(#clip590)\" d=\"M993.084 1479.7 L997.968 1479.7 L997.968 1485.58 L993.084 1485.58 L993.084 1479.7 Z\" fill=\"#000000\" fill-rule=\"evenodd\" fill-opacity=\"1\" /><path clip-path=\"url(#clip590)\" d=\"M1018.15 1454.1 Q1014.54 1454.1 1012.71 1457.66 Q1010.91 1461.2 1010.91 1468.33 Q1010.91 1475.44 1012.71 1479.01 Q1014.54 1482.55 1018.15 1482.55 Q1021.79 1482.55 1023.59 1479.01 Q1025.42 1475.44 1025.42 1468.33 Q1025.42 1461.2 1023.59 1457.66 Q1021.79 1454.1 1018.15 1454.1 M1018.15 1450.39 Q1023.96 1450.39 1027.02 1455 Q1030.1 1459.58 1030.1 1468.33 Q1030.1 1477.06 1027.02 1481.67 Q1023.96 1486.25 1018.15 1486.25 Q1012.34 1486.25 1009.26 1481.67 Q1006.21 1477.06 1006.21 1468.33 Q1006.21 1459.58 1009.26 1455 Q1012.34 1450.39 1018.15 1450.39 Z\" fill=\"#000000\" fill-rule=\"evenodd\" fill-opacity=\"1\" /><path clip-path=\"url(#clip590)\" d=\"M1324.23 1451.02 L1346.45 1451.02 L1346.45 1453.01 L1333.9 1485.58 L1329.02 1485.58 L1340.83 1454.96 L1324.23 1454.96 L1324.23 1451.02 Z\" fill=\"#000000\" fill-rule=\"evenodd\" fill-opacity=\"1\" /><path clip-path=\"url(#clip590)\" d=\"M1355.57 1479.7 L1360.45 1479.7 L1360.45 1485.58 L1355.57 1485.58 L1355.57 1479.7 Z\" fill=\"#000000\" fill-rule=\"evenodd\" fill-opacity=\"1\" /><path clip-path=\"url(#clip590)\" d=\"M1370.69 1451.02 L1389.04 1451.02 L1389.04 1454.96 L1374.97 1454.96 L1374.97 1463.43 Q1375.99 1463.08 1377.01 1462.92 Q1378.02 1462.73 1379.04 1462.73 Q1384.83 1462.73 1388.21 1465.9 Q1391.59 1469.08 1391.59 1474.49 Q1391.59 1480.07 1388.12 1483.17 Q1384.64 1486.25 1378.33 1486.25 Q1376.15 1486.25 1373.88 1485.88 Q1371.64 1485.51 1369.23 1484.77 L1369.23 1480.07 Q1371.31 1481.2 1373.53 1481.76 Q1375.76 1482.32 1378.23 1482.32 Q1382.24 1482.32 1384.58 1480.21 Q1386.91 1478.1 1386.91 1474.49 Q1386.91 1470.88 1384.58 1468.77 Q1382.24 1466.67 1378.23 1466.67 Q1376.36 1466.67 1374.48 1467.08 Q1372.63 1467.5 1370.69 1468.38 L1370.69 1451.02 Z\" fill=\"#000000\" fill-rule=\"evenodd\" fill-opacity=\"1\" /><path clip-path=\"url(#clip590)\" d=\"M1672.09 1481.64 L1679.72 1481.64 L1679.72 1455.28 L1671.41 1456.95 L1671.41 1452.69 L1679.68 1451.02 L1684.35 1451.02 L1684.35 1481.64 L1691.99 1481.64 L1691.99 1485.58 L1672.09 1485.58 L1672.09 1481.64 Z\" fill=\"#000000\" fill-rule=\"evenodd\" fill-opacity=\"1\" /><path clip-path=\"url(#clip590)\" d=\"M1711.44 1454.1 Q1707.83 1454.1 1706 1457.66 Q1704.19 1461.2 1704.19 1468.33 Q1704.19 1475.44 1706 1479.01 Q1707.83 1482.55 1711.44 1482.55 Q1715.07 1482.55 1716.88 1479.01 Q1718.71 1475.44 1718.71 1468.33 Q1718.71 1461.2 1716.88 1457.66 Q1715.07 1454.1 1711.44 1454.1 M1711.44 1450.39 Q1717.25 1450.39 1720.3 1455 Q1723.38 1459.58 1723.38 1468.33 Q1723.38 1477.06 1720.3 1481.67 Q1717.25 1486.25 1711.44 1486.25 Q1705.63 1486.25 1702.55 1481.67 Q1699.49 1477.06 1699.49 1468.33 Q1699.49 1459.58 1702.55 1455 Q1705.63 1450.39 1711.44 1450.39 Z\" fill=\"#000000\" fill-rule=\"evenodd\" fill-opacity=\"1\" /><path clip-path=\"url(#clip590)\" d=\"M1731.6 1479.7 L1736.48 1479.7 L1736.48 1485.58 L1731.6 1485.58 L1731.6 1479.7 Z\" fill=\"#000000\" fill-rule=\"evenodd\" fill-opacity=\"1\" /><path clip-path=\"url(#clip590)\" d=\"M1756.67 1454.1 Q1753.06 1454.1 1751.23 1457.66 Q1749.42 1461.2 1749.42 1468.33 Q1749.42 1475.44 1751.23 1479.01 Q1753.06 1482.55 1756.67 1482.55 Q1760.3 1482.55 1762.11 1479.01 Q1763.94 1475.44 1763.94 1468.33 Q1763.94 1461.2 1762.11 1457.66 Q1760.3 1454.1 1756.67 1454.1 M1756.67 1450.39 Q1762.48 1450.39 1765.53 1455 Q1768.61 1459.58 1768.61 1468.33 Q1768.61 1477.06 1765.53 1481.67 Q1762.48 1486.25 1756.67 1486.25 Q1750.86 1486.25 1747.78 1481.67 Q1744.72 1477.06 1744.72 1468.33 Q1744.72 1459.58 1747.78 1455 Q1750.86 1450.39 1756.67 1450.39 Z\" fill=\"#000000\" fill-rule=\"evenodd\" fill-opacity=\"1\" /><path clip-path=\"url(#clip590)\" d=\"M2034.69 1481.64 L2042.33 1481.64 L2042.33 1455.28 L2034.02 1456.95 L2034.02 1452.69 L2042.28 1451.02 L2046.96 1451.02 L2046.96 1481.64 L2054.6 1481.64 L2054.6 1485.58 L2034.69 1485.58 L2034.69 1481.64 Z\" fill=\"#000000\" fill-rule=\"evenodd\" fill-opacity=\"1\" /><path clip-path=\"url(#clip590)\" d=\"M2068.07 1481.64 L2084.39 1481.64 L2084.39 1485.58 L2062.44 1485.58 L2062.44 1481.64 Q2065.1 1478.89 2069.69 1474.26 Q2074.29 1469.61 2075.48 1468.27 Q2077.72 1465.74 2078.6 1464.01 Q2079.5 1462.25 2079.5 1460.56 Q2079.5 1457.8 2077.56 1456.07 Q2075.64 1454.33 2072.54 1454.33 Q2070.34 1454.33 2067.88 1455.09 Q2065.45 1455.86 2062.67 1457.41 L2062.67 1452.69 Q2065.5 1451.55 2067.95 1450.97 Q2070.41 1450.39 2072.44 1450.39 Q2077.81 1450.39 2081.01 1453.08 Q2084.2 1455.77 2084.2 1460.26 Q2084.2 1462.39 2083.39 1464.31 Q2082.6 1466.2 2080.5 1468.8 Q2079.92 1469.47 2076.82 1472.69 Q2073.72 1475.88 2068.07 1481.64 Z\" fill=\"#000000\" fill-rule=\"evenodd\" fill-opacity=\"1\" /><path clip-path=\"url(#clip590)\" d=\"M2094.2 1479.7 L2099.09 1479.7 L2099.09 1485.58 L2094.2 1485.58 L2094.2 1479.7 Z\" fill=\"#000000\" fill-rule=\"evenodd\" fill-opacity=\"1\" /><path clip-path=\"url(#clip590)\" d=\"M2109.32 1451.02 L2127.67 1451.02 L2127.67 1454.96 L2113.6 1454.96 L2113.6 1463.43 Q2114.62 1463.08 2115.64 1462.92 Q2116.66 1462.73 2117.67 1462.73 Q2123.46 1462.73 2126.84 1465.9 Q2130.22 1469.08 2130.22 1474.49 Q2130.22 1480.07 2126.75 1483.17 Q2123.28 1486.25 2116.96 1486.25 Q2114.78 1486.25 2112.51 1485.88 Q2110.27 1485.51 2107.86 1484.77 L2107.86 1480.07 Q2109.94 1481.2 2112.16 1481.76 Q2114.39 1482.32 2116.86 1482.32 Q2120.87 1482.32 2123.21 1480.21 Q2125.54 1478.1 2125.54 1474.49 Q2125.54 1470.88 2123.21 1468.77 Q2120.87 1466.67 2116.86 1466.67 Q2114.99 1466.67 2113.11 1467.08 Q2111.26 1467.5 2109.32 1468.38 L2109.32 1451.02 Z\" fill=\"#000000\" fill-rule=\"evenodd\" fill-opacity=\"1\" /><path clip-path=\"url(#clip590)\" d=\"M1169.32 1522.27 L1169.32 1532.4 L1181.38 1532.4 L1181.38 1536.95 L1169.32 1536.95 L1169.32 1556.3 Q1169.32 1560.66 1170.5 1561.9 Q1171.71 1563.14 1175.37 1563.14 L1181.38 1563.14 L1181.38 1568.04 L1175.37 1568.04 Q1168.59 1568.04 1166.01 1565.53 Q1163.43 1562.98 1163.43 1556.3 L1163.43 1536.95 L1159.14 1536.95 L1159.14 1532.4 L1163.43 1532.4 L1163.43 1522.27 L1169.32 1522.27 Z\" fill=\"#000000\" fill-rule=\"evenodd\" fill-opacity=\"1\" /><path clip-path=\"url(#clip590)\" d=\"M1189.09 1532.4 L1194.94 1532.4 L1194.94 1568.04 L1189.09 1568.04 L1189.09 1532.4 M1189.09 1518.52 L1194.94 1518.52 L1194.94 1525.93 L1189.09 1525.93 L1189.09 1518.52 Z\" fill=\"#000000\" fill-rule=\"evenodd\" fill-opacity=\"1\" /><path clip-path=\"url(#clip590)\" d=\"M1234.95 1539.24 Q1237.15 1535.29 1240.2 1533.41 Q1243.26 1531.54 1247.4 1531.54 Q1252.97 1531.54 1255.99 1535.45 Q1259.01 1539.33 1259.01 1546.53 L1259.01 1568.04 L1253.13 1568.04 L1253.13 1546.72 Q1253.13 1541.59 1251.31 1539.11 Q1249.5 1536.63 1245.77 1536.63 Q1241.22 1536.63 1238.58 1539.65 Q1235.94 1542.68 1235.94 1547.9 L1235.94 1568.04 L1230.05 1568.04 L1230.05 1546.72 Q1230.05 1541.56 1228.24 1539.11 Q1226.42 1536.63 1222.63 1536.63 Q1218.15 1536.63 1215.5 1539.68 Q1212.86 1542.71 1212.86 1547.9 L1212.86 1568.04 L1206.97 1568.04 L1206.97 1532.4 L1212.86 1532.4 L1212.86 1537.93 Q1214.87 1534.66 1217.67 1533.1 Q1220.47 1531.54 1224.32 1531.54 Q1228.2 1531.54 1230.91 1533.51 Q1233.65 1535.48 1234.95 1539.24 Z\" fill=\"#000000\" fill-rule=\"evenodd\" fill-opacity=\"1\" /><path clip-path=\"url(#clip590)\" d=\"M1301.19 1548.76 L1301.19 1551.62 L1274.26 1551.62 Q1274.64 1557.67 1277.89 1560.85 Q1281.17 1564 1286.99 1564 Q1290.36 1564 1293.52 1563.17 Q1296.7 1562.35 1299.82 1560.69 L1299.82 1566.23 Q1296.67 1567.57 1293.36 1568.27 Q1290.05 1568.97 1286.64 1568.97 Q1278.11 1568.97 1273.11 1564 Q1268.15 1559.04 1268.15 1550.57 Q1268.15 1541.82 1272.86 1536.69 Q1277.6 1531.54 1285.62 1531.54 Q1292.82 1531.54 1296.99 1536.18 Q1301.19 1540.8 1301.19 1548.76 M1295.33 1547.04 Q1295.27 1542.23 1292.62 1539.37 Q1290.01 1536.5 1285.69 1536.5 Q1280.78 1536.5 1277.82 1539.27 Q1274.9 1542.04 1274.45 1547.07 L1295.33 1547.04 Z\" fill=\"#000000\" fill-rule=\"evenodd\" fill-opacity=\"1\" /><path clip-path=\"url(#clip590)\" d=\"M1345.59 1518.58 Q1341.32 1525.9 1339.25 1533.06 Q1337.18 1540.23 1337.18 1547.58 Q1337.18 1554.93 1339.25 1562.16 Q1341.35 1569.35 1345.59 1576.64 L1340.49 1576.64 Q1335.72 1569.16 1333.33 1561.93 Q1330.98 1554.71 1330.98 1547.58 Q1330.98 1540.48 1333.33 1533.29 Q1335.69 1526.09 1340.49 1518.58 L1345.59 1518.58 Z\" fill=\"#000000\" fill-rule=\"evenodd\" fill-opacity=\"1\" /><path clip-path=\"url(#clip590)\" d=\"M1379.68 1533.45 L1379.68 1538.98 Q1377.19 1537.71 1374.52 1537.07 Q1371.85 1536.44 1368.98 1536.44 Q1364.62 1536.44 1362.42 1537.77 Q1360.26 1539.11 1360.26 1541.79 Q1360.26 1543.82 1361.82 1545 Q1363.38 1546.15 1368.09 1547.2 L1370.1 1547.64 Q1376.33 1548.98 1378.94 1551.43 Q1381.59 1553.85 1381.59 1558.21 Q1381.59 1563.17 1377.64 1566.07 Q1373.72 1568.97 1366.85 1568.97 Q1363.98 1568.97 1360.87 1568.39 Q1357.78 1567.85 1354.34 1566.74 L1354.34 1560.69 Q1357.59 1562.38 1360.74 1563.24 Q1363.89 1564.07 1366.98 1564.07 Q1371.11 1564.07 1373.34 1562.66 Q1375.57 1561.23 1375.57 1558.65 Q1375.57 1556.27 1373.95 1554.99 Q1372.36 1553.72 1366.91 1552.54 L1364.88 1552.07 Q1359.43 1550.92 1357.01 1548.56 Q1354.59 1546.18 1354.59 1542.04 Q1354.59 1537.01 1358.16 1534.27 Q1361.72 1531.54 1368.28 1531.54 Q1371.53 1531.54 1374.39 1532.01 Q1377.26 1532.49 1379.68 1533.45 Z\" fill=\"#000000\" fill-rule=\"evenodd\" fill-opacity=\"1\" /><path clip-path=\"url(#clip590)\" d=\"M1389.99 1518.58 L1395.08 1518.58 Q1399.86 1526.09 1402.21 1533.29 Q1404.6 1540.48 1404.6 1547.58 Q1404.6 1554.71 1402.21 1561.93 Q1399.86 1569.16 1395.08 1576.64 L1389.99 1576.64 Q1394.22 1569.35 1396.29 1562.16 Q1398.39 1554.93 1398.39 1547.58 Q1398.39 1540.23 1396.29 1533.06 Q1394.22 1525.9 1389.99 1518.58 Z\" fill=\"#000000\" fill-rule=\"evenodd\" fill-opacity=\"1\" /><polyline clip-path=\"url(#clip592)\" style=\"stroke:#000000; stroke-linecap:round; stroke-linejoin:round; stroke-width:2; stroke-opacity:0.1; fill:none\" points=\"210.977,1382.84 2352.76,1382.84 \"/>\n",
       "<polyline clip-path=\"url(#clip592)\" style=\"stroke:#000000; stroke-linecap:round; stroke-linejoin:round; stroke-width:2; stroke-opacity:0.1; fill:none\" points=\"210.977,1139.35 2352.76,1139.35 \"/>\n",
       "<polyline clip-path=\"url(#clip592)\" style=\"stroke:#000000; stroke-linecap:round; stroke-linejoin:round; stroke-width:2; stroke-opacity:0.1; fill:none\" points=\"210.977,895.866 2352.76,895.866 \"/>\n",
       "<polyline clip-path=\"url(#clip592)\" style=\"stroke:#000000; stroke-linecap:round; stroke-linejoin:round; stroke-width:2; stroke-opacity:0.1; fill:none\" points=\"210.977,652.379 2352.76,652.379 \"/>\n",
       "<polyline clip-path=\"url(#clip592)\" style=\"stroke:#000000; stroke-linecap:round; stroke-linejoin:round; stroke-width:2; stroke-opacity:0.1; fill:none\" points=\"210.977,408.893 2352.76,408.893 \"/>\n",
       "<polyline clip-path=\"url(#clip592)\" style=\"stroke:#000000; stroke-linecap:round; stroke-linejoin:round; stroke-width:2; stroke-opacity:0.1; fill:none\" points=\"210.977,165.406 2352.76,165.406 \"/>\n",
       "<polyline clip-path=\"url(#clip590)\" style=\"stroke:#000000; stroke-linecap:round; stroke-linejoin:round; stroke-width:4; stroke-opacity:1; fill:none\" points=\"210.977,1423.18 210.977,123.472 \"/>\n",
       "<polyline clip-path=\"url(#clip590)\" style=\"stroke:#000000; stroke-linecap:round; stroke-linejoin:round; stroke-width:4; stroke-opacity:1; fill:none\" points=\"210.977,1382.84 229.875,1382.84 \"/>\n",
       "<polyline clip-path=\"url(#clip590)\" style=\"stroke:#000000; stroke-linecap:round; stroke-linejoin:round; stroke-width:4; stroke-opacity:1; fill:none\" points=\"210.977,1139.35 229.875,1139.35 \"/>\n",
       "<polyline clip-path=\"url(#clip590)\" style=\"stroke:#000000; stroke-linecap:round; stroke-linejoin:round; stroke-width:4; stroke-opacity:1; fill:none\" points=\"210.977,895.866 229.875,895.866 \"/>\n",
       "<polyline clip-path=\"url(#clip590)\" style=\"stroke:#000000; stroke-linecap:round; stroke-linejoin:round; stroke-width:4; stroke-opacity:1; fill:none\" points=\"210.977,652.379 229.875,652.379 \"/>\n",
       "<polyline clip-path=\"url(#clip590)\" style=\"stroke:#000000; stroke-linecap:round; stroke-linejoin:round; stroke-width:4; stroke-opacity:1; fill:none\" points=\"210.977,408.893 229.875,408.893 \"/>\n",
       "<polyline clip-path=\"url(#clip590)\" style=\"stroke:#000000; stroke-linecap:round; stroke-linejoin:round; stroke-width:4; stroke-opacity:1; fill:none\" points=\"210.977,165.406 229.875,165.406 \"/>\n",
       "<path clip-path=\"url(#clip590)\" d=\"M114.26 1383.29 L143.936 1383.29 L143.936 1387.23 L114.26 1387.23 L114.26 1383.29 Z\" fill=\"#000000\" fill-rule=\"evenodd\" fill-opacity=\"1\" /><path clip-path=\"url(#clip590)\" d=\"M154.075 1365.56 L172.431 1365.56 L172.431 1369.5 L158.357 1369.5 L158.357 1377.97 Q159.376 1377.62 160.394 1377.46 Q161.413 1377.27 162.431 1377.27 Q168.218 1377.27 171.598 1380.44 Q174.977 1383.62 174.977 1389.03 Q174.977 1394.61 171.505 1397.71 Q168.033 1400.79 161.714 1400.79 Q159.538 1400.79 157.269 1400.42 Q155.024 1400.05 152.616 1399.31 L152.616 1394.61 Q154.7 1395.75 156.922 1396.3 Q159.144 1396.86 161.621 1396.86 Q165.626 1396.86 167.964 1394.75 Q170.302 1392.64 170.302 1389.03 Q170.302 1385.42 167.964 1383.31 Q165.626 1381.21 161.621 1381.21 Q159.746 1381.21 157.871 1381.62 Q156.019 1382.04 154.075 1382.92 L154.075 1365.56 Z\" fill=\"#000000\" fill-rule=\"evenodd\" fill-opacity=\"1\" /><path clip-path=\"url(#clip590)\" d=\"M163.033 1125.15 Q159.422 1125.15 157.593 1128.72 Q155.788 1132.26 155.788 1139.39 Q155.788 1146.49 157.593 1150.06 Q159.422 1153.6 163.033 1153.6 Q166.667 1153.6 168.473 1150.06 Q170.302 1146.49 170.302 1139.39 Q170.302 1132.26 168.473 1128.72 Q166.667 1125.15 163.033 1125.15 M163.033 1121.45 Q168.843 1121.45 171.899 1126.05 Q174.977 1130.64 174.977 1139.39 Q174.977 1148.11 171.899 1152.72 Q168.843 1157.3 163.033 1157.3 Q157.223 1157.3 154.144 1152.72 Q151.089 1148.11 151.089 1139.39 Q151.089 1130.64 154.144 1126.05 Q157.223 1121.45 163.033 1121.45 Z\" fill=\"#000000\" fill-rule=\"evenodd\" fill-opacity=\"1\" /><path clip-path=\"url(#clip590)\" d=\"M154.075 878.586 L172.431 878.586 L172.431 882.521 L158.357 882.521 L158.357 890.994 Q159.376 890.646 160.394 890.484 Q161.413 890.299 162.431 890.299 Q168.218 890.299 171.598 893.47 Q174.977 896.642 174.977 902.058 Q174.977 907.637 171.505 910.739 Q168.033 913.818 161.714 913.818 Q159.538 913.818 157.269 913.447 Q155.024 913.077 152.616 912.336 L152.616 907.637 Q154.7 908.771 156.922 909.327 Q159.144 909.882 161.621 909.882 Q165.626 909.882 167.964 907.776 Q170.302 905.669 170.302 902.058 Q170.302 898.447 167.964 896.341 Q165.626 894.234 161.621 894.234 Q159.746 894.234 157.871 894.651 Q156.019 895.068 154.075 895.947 L154.075 878.586 Z\" fill=\"#000000\" fill-rule=\"evenodd\" fill-opacity=\"1\" /><path clip-path=\"url(#clip590)\" d=\"M123.681 665.724 L131.32 665.724 L131.32 639.359 L123.01 641.025 L123.01 636.766 L131.274 635.099 L135.95 635.099 L135.95 665.724 L143.589 665.724 L143.589 669.659 L123.681 669.659 L123.681 665.724 Z\" fill=\"#000000\" fill-rule=\"evenodd\" fill-opacity=\"1\" /><path clip-path=\"url(#clip590)\" d=\"M163.033 638.178 Q159.422 638.178 157.593 641.743 Q155.788 645.285 155.788 652.414 Q155.788 659.521 157.593 663.085 Q159.422 666.627 163.033 666.627 Q166.667 666.627 168.473 663.085 Q170.302 659.521 170.302 652.414 Q170.302 645.285 168.473 641.743 Q166.667 638.178 163.033 638.178 M163.033 634.474 Q168.843 634.474 171.899 639.081 Q174.977 643.664 174.977 652.414 Q174.977 661.141 171.899 665.747 Q168.843 670.331 163.033 670.331 Q157.223 670.331 154.144 665.747 Q151.089 661.141 151.089 652.414 Q151.089 643.664 154.144 639.081 Q157.223 634.474 163.033 634.474 Z\" fill=\"#000000\" fill-rule=\"evenodd\" fill-opacity=\"1\" /><path clip-path=\"url(#clip590)\" d=\"M124.677 422.237 L132.316 422.237 L132.316 395.872 L124.005 397.538 L124.005 393.279 L132.269 391.613 L136.945 391.613 L136.945 422.237 L144.584 422.237 L144.584 426.173 L124.677 426.173 L124.677 422.237 Z\" fill=\"#000000\" fill-rule=\"evenodd\" fill-opacity=\"1\" /><path clip-path=\"url(#clip590)\" d=\"M154.075 391.613 L172.431 391.613 L172.431 395.548 L158.357 395.548 L158.357 404.02 Q159.376 403.673 160.394 403.511 Q161.413 403.325 162.431 403.325 Q168.218 403.325 171.598 406.497 Q174.977 409.668 174.977 415.085 Q174.977 420.663 171.505 423.765 Q168.033 426.844 161.714 426.844 Q159.538 426.844 157.269 426.473 Q155.024 426.103 152.616 425.362 L152.616 420.663 Q154.7 421.798 156.922 422.353 Q159.144 422.909 161.621 422.909 Q165.626 422.909 167.964 420.802 Q170.302 418.696 170.302 415.085 Q170.302 411.474 167.964 409.367 Q165.626 407.261 161.621 407.261 Q159.746 407.261 157.871 407.677 Q156.019 408.094 154.075 408.974 L154.075 391.613 Z\" fill=\"#000000\" fill-rule=\"evenodd\" fill-opacity=\"1\" /><path clip-path=\"url(#clip590)\" d=\"M126.899 178.75 L143.218 178.75 L143.218 182.686 L121.274 182.686 L121.274 178.75 Q123.936 175.996 128.519 171.366 Q133.126 166.713 134.306 165.371 Q136.552 162.848 137.431 161.112 Q138.334 159.352 138.334 157.663 Q138.334 154.908 136.39 153.172 Q134.468 151.436 131.367 151.436 Q129.167 151.436 126.714 152.2 Q124.283 152.964 121.505 154.514 L121.505 149.792 Q124.33 148.658 126.783 148.079 Q129.237 147.501 131.274 147.501 Q136.644 147.501 139.839 150.186 Q143.033 152.871 143.033 157.362 Q143.033 159.491 142.223 161.413 Q141.436 163.311 139.329 165.903 Q138.751 166.575 135.649 169.792 Q132.547 172.987 126.899 178.75 Z\" fill=\"#000000\" fill-rule=\"evenodd\" fill-opacity=\"1\" /><path clip-path=\"url(#clip590)\" d=\"M163.033 151.204 Q159.422 151.204 157.593 154.769 Q155.788 158.311 155.788 165.44 Q155.788 172.547 157.593 176.112 Q159.422 179.653 163.033 179.653 Q166.667 179.653 168.473 176.112 Q170.302 172.547 170.302 165.44 Q170.302 158.311 168.473 154.769 Q166.667 151.204 163.033 151.204 M163.033 147.501 Q168.843 147.501 171.899 152.107 Q174.977 156.69 174.977 165.44 Q174.977 174.167 171.899 178.774 Q168.843 183.357 163.033 183.357 Q157.223 183.357 154.144 178.774 Q151.089 174.167 151.089 165.44 Q151.089 156.69 154.144 152.107 Q157.223 147.501 163.033 147.501 Z\" fill=\"#000000\" fill-rule=\"evenodd\" fill-opacity=\"1\" /><path clip-path=\"url(#clip590)\" d=\"M28.3562 756.711 L45.7028 769.602 L64.0042 756.043 L64.0042 762.95 L49.9996 773.326 L64.0042 783.702 L64.0042 790.609 L45.3526 776.763 L28.3562 789.431 L28.3562 782.524 L41.0558 773.071 L28.3562 763.618 L28.3562 756.711 Z\" fill=\"#000000\" fill-rule=\"evenodd\" fill-opacity=\"1\" /><path clip-path=\"url(#clip590)\" d=\"M1054.21 14.0809 L1054.21 22.0612 Q1049.55 19.8332 1045.42 18.7395 Q1041.28 17.6457 1037.44 17.6457 Q1030.75 17.6457 1027.11 20.2383 Q1023.5 22.8309 1023.5 27.611 Q1023.5 31.6214 1025.89 33.6873 Q1028.32 35.7128 1035.05 36.9686 L1039.99 37.9813 Q1049.14 39.7232 1053.48 44.1387 Q1057.85 48.5136 1057.85 55.8863 Q1057.85 64.6767 1051.94 69.2137 Q1046.06 73.7508 1034.68 73.7508 Q1030.39 73.7508 1025.53 72.7785 Q1020.7 71.8063 1015.52 69.9024 L1015.52 61.4765 Q1020.5 64.2716 1025.28 65.6895 Q1030.06 67.1073 1034.68 67.1073 Q1041.69 67.1073 1045.5 64.3527 Q1049.3 61.598 1049.3 56.4939 Q1049.3 52.0379 1046.55 49.5264 Q1043.84 47.0148 1037.6 45.759 L1032.61 44.7868 Q1023.46 42.9639 1019.37 39.075 Q1015.28 35.1862 1015.28 28.2591 Q1015.28 20.2383 1020.91 15.6203 Q1026.58 11.0023 1036.5 11.0023 Q1040.76 11.0023 1045.17 11.7719 Q1049.59 12.5416 1054.21 14.0809 Z\" fill=\"#000000\" fill-rule=\"evenodd\" fill-opacity=\"1\" /><path clip-path=\"url(#clip590)\" d=\"M1077.66 14.324 L1077.66 27.2059 L1093.01 27.2059 L1093.01 32.9987 L1077.66 32.9987 L1077.66 57.6282 Q1077.66 63.1779 1079.16 64.7578 Q1080.7 66.3376 1085.36 66.3376 L1093.01 66.3376 L1093.01 72.576 L1085.36 72.576 Q1076.73 72.576 1073.45 69.3758 Q1070.17 66.1351 1070.17 57.6282 L1070.17 32.9987 L1064.7 32.9987 L1064.7 27.2059 L1070.17 27.2059 L1070.17 14.324 L1077.66 14.324 Z\" fill=\"#000000\" fill-rule=\"evenodd\" fill-opacity=\"1\" /><path clip-path=\"url(#clip590)\" d=\"M1123.44 49.7694 Q1114.4 49.7694 1110.92 51.8354 Q1107.43 53.9013 1107.43 58.8839 Q1107.43 62.8538 1110.03 65.2034 Q1112.66 67.5124 1117.16 67.5124 Q1123.35 67.5124 1127.08 63.1374 Q1130.85 58.7219 1130.85 51.4303 L1130.85 49.7694 L1123.44 49.7694 M1138.3 46.6907 L1138.3 72.576 L1130.85 72.576 L1130.85 65.6895 Q1128.3 69.8214 1124.49 71.8063 Q1120.68 73.7508 1115.17 73.7508 Q1108.2 73.7508 1104.07 69.8619 Q1099.98 65.9325 1099.98 59.3701 Q1099.98 51.7138 1105.09 47.825 Q1110.23 43.9361 1120.4 43.9361 L1130.85 43.9361 L1130.85 43.2069 Q1130.85 38.0623 1127.45 35.2672 Q1124.08 32.4315 1117.97 32.4315 Q1114.08 32.4315 1110.39 33.3632 Q1106.71 34.295 1103.3 36.1584 L1103.3 29.2718 Q1107.39 27.692 1111.24 26.9223 Q1115.09 26.1121 1118.74 26.1121 Q1128.58 26.1121 1133.44 31.2163 Q1138.3 36.3204 1138.3 46.6907 Z\" fill=\"#000000\" fill-rule=\"evenodd\" fill-opacity=\"1\" /><path clip-path=\"url(#clip590)\" d=\"M1161.03 14.324 L1161.03 27.2059 L1176.38 27.2059 L1176.38 32.9987 L1161.03 32.9987 L1161.03 57.6282 Q1161.03 63.1779 1162.53 64.7578 Q1164.07 66.3376 1168.72 66.3376 L1176.38 66.3376 L1176.38 72.576 L1168.72 72.576 Q1160.1 72.576 1156.82 69.3758 Q1153.53 66.1351 1153.53 57.6282 L1153.53 32.9987 L1148.07 32.9987 L1148.07 27.2059 L1153.53 27.2059 L1153.53 14.324 L1161.03 14.324 Z\" fill=\"#000000\" fill-rule=\"evenodd\" fill-opacity=\"1\" /><path clip-path=\"url(#clip590)\" d=\"M1224.99 48.0275 L1224.99 51.6733 L1190.72 51.6733 Q1191.21 59.3701 1195.34 63.421 Q1199.51 67.4314 1206.92 67.4314 Q1211.22 67.4314 1215.23 66.3781 Q1219.28 65.3249 1223.25 63.2184 L1223.25 70.267 Q1219.24 71.9684 1215.03 72.8596 Q1210.81 73.7508 1206.48 73.7508 Q1195.62 73.7508 1189.26 67.4314 Q1182.94 61.1119 1182.94 50.3365 Q1182.94 39.1965 1188.94 32.6746 Q1194.97 26.1121 1205.18 26.1121 Q1214.34 26.1121 1219.64 32.0264 Q1224.99 37.9003 1224.99 48.0275 M1217.54 45.84 Q1217.46 39.7232 1214.1 36.0774 Q1210.77 32.4315 1205.26 32.4315 Q1199.03 32.4315 1195.26 35.9558 Q1191.53 39.4801 1190.96 45.8805 L1217.54 45.84 Z\" fill=\"#000000\" fill-rule=\"evenodd\" fill-opacity=\"1\" /><path clip-path=\"url(#clip590)\" d=\"M1263.92 12.096 L1272.1 12.096 L1272.1 36.8875 L1301.84 36.8875 L1301.84 12.096 L1310.02 12.096 L1310.02 72.576 L1301.84 72.576 L1301.84 43.7741 L1272.1 43.7741 L1272.1 72.576 L1263.92 72.576 L1263.92 12.096 Z\" fill=\"#000000\" fill-rule=\"evenodd\" fill-opacity=\"1\" /><path clip-path=\"url(#clip590)\" d=\"M1325.98 27.2059 L1333.43 27.2059 L1333.43 72.576 L1325.98 72.576 L1325.98 27.2059 M1325.98 9.54393 L1333.43 9.54393 L1333.43 18.9825 L1325.98 18.9825 L1325.98 9.54393 Z\" fill=\"#000000\" fill-rule=\"evenodd\" fill-opacity=\"1\" /><path clip-path=\"url(#clip590)\" d=\"M1377.95 28.5427 L1377.95 35.5912 Q1374.79 33.9709 1371.39 33.1607 Q1367.99 32.3505 1364.34 32.3505 Q1358.79 32.3505 1356 34.0519 Q1353.24 35.7533 1353.24 39.156 Q1353.24 41.7486 1355.23 43.2475 Q1357.21 44.7058 1363.21 46.0426 L1365.76 46.6097 Q1373.7 48.3111 1377.02 51.4303 Q1380.38 54.509 1380.38 60.0587 Q1380.38 66.3781 1375.36 70.0644 Q1370.38 73.7508 1361.63 73.7508 Q1357.98 73.7508 1354.01 73.0216 Q1350.08 72.3329 1345.71 70.9151 L1345.71 63.2184 Q1349.84 65.3654 1353.85 66.4591 Q1357.86 67.5124 1361.79 67.5124 Q1367.06 67.5124 1369.89 65.73 Q1372.73 63.9071 1372.73 60.6258 Q1372.73 57.5877 1370.66 55.9673 Q1368.64 54.3469 1361.71 52.8481 L1359.12 52.2405 Q1352.19 50.7821 1349.11 47.7845 Q1346.03 44.7463 1346.03 39.4801 Q1346.03 33.0797 1350.57 29.5959 Q1355.11 26.1121 1363.45 26.1121 Q1367.58 26.1121 1371.23 26.7198 Q1374.88 27.3274 1377.95 28.5427 Z\" fill=\"#000000\" fill-rule=\"evenodd\" fill-opacity=\"1\" /><path clip-path=\"url(#clip590)\" d=\"M1399.63 14.324 L1399.63 27.2059 L1414.98 27.2059 L1414.98 32.9987 L1399.63 32.9987 L1399.63 57.6282 Q1399.63 63.1779 1401.13 64.7578 Q1402.66 66.3376 1407.32 66.3376 L1414.98 66.3376 L1414.98 72.576 L1407.32 72.576 Q1398.69 72.576 1395.41 69.3758 Q1392.13 66.1351 1392.13 57.6282 L1392.13 32.9987 L1386.66 32.9987 L1386.66 27.2059 L1392.13 27.2059 L1392.13 14.324 L1399.63 14.324 Z\" fill=\"#000000\" fill-rule=\"evenodd\" fill-opacity=\"1\" /><path clip-path=\"url(#clip590)\" d=\"M1442.36 32.4315 Q1436.37 32.4315 1432.88 37.1306 Q1429.4 41.7891 1429.4 49.9314 Q1429.4 58.0738 1432.84 62.7728 Q1436.33 67.4314 1442.36 67.4314 Q1448.32 67.4314 1451.8 62.7323 Q1455.29 58.0333 1455.29 49.9314 Q1455.29 41.8701 1451.8 37.1711 Q1448.32 32.4315 1442.36 32.4315 M1442.36 26.1121 Q1452.09 26.1121 1457.64 32.4315 Q1463.19 38.7509 1463.19 49.9314 Q1463.19 61.0714 1457.64 67.4314 Q1452.09 73.7508 1442.36 73.7508 Q1432.6 73.7508 1427.05 67.4314 Q1421.54 61.0714 1421.54 49.9314 Q1421.54 38.7509 1427.05 32.4315 Q1432.6 26.1121 1442.36 26.1121 Z\" fill=\"#000000\" fill-rule=\"evenodd\" fill-opacity=\"1\" /><path clip-path=\"url(#clip590)\" d=\"M1501.83 34.1734 Q1500.57 33.4443 1499.08 33.1202 Q1497.62 32.7556 1495.84 32.7556 Q1489.52 32.7556 1486.11 36.8875 Q1482.75 40.9789 1482.75 48.6757 L1482.75 72.576 L1475.26 72.576 L1475.26 27.2059 L1482.75 27.2059 L1482.75 34.2544 Q1485.1 30.1225 1488.87 28.1376 Q1492.64 26.1121 1498.02 26.1121 Q1498.79 26.1121 1499.72 26.2337 Q1500.66 26.3147 1501.79 26.5172 L1501.83 34.1734 Z\" fill=\"#000000\" fill-rule=\"evenodd\" fill-opacity=\"1\" /><path clip-path=\"url(#clip590)\" d=\"M1528.53 76.7889 Q1525.37 84.8907 1522.37 87.3618 Q1519.37 89.8329 1514.35 89.8329 L1508.39 89.8329 L1508.39 83.5945 L1512.77 83.5945 Q1515.85 83.5945 1517.55 82.1361 Q1519.25 80.6778 1521.32 75.2496 L1522.65 71.8468 L1504.3 27.2059 L1512.2 27.2059 L1526.38 62.6918 L1540.56 27.2059 L1548.46 27.2059 L1528.53 76.7889 Z\" fill=\"#000000\" fill-rule=\"evenodd\" fill-opacity=\"1\" /><polyline clip-path=\"url(#clip592)\" style=\"stroke:#009af9; stroke-linecap:round; stroke-linejoin:round; stroke-width:4; stroke-opacity:1; fill:none\" points=\"271.594,955.704 278.836,945.655 286.078,949.878 293.32,944.729 300.562,924.55 307.804,934.306 315.046,946.156 322.288,963.787 329.531,976.99 336.773,990.014 344.015,998.697 351.257,1008.15 358.499,1024.75 365.741,1042.34 372.983,1047.05 380.225,1053.72 387.467,1053.49 394.709,1048.31 401.952,1053 409.194,1065.45 416.436,1056.92 423.678,1081.61 430.92,1095.48 438.162,1097.88 445.404,1101.95 452.646,1110.19 459.888,1127.4 467.13,1137.57 474.373,1135.19 481.615,1150.15 488.857,1137.42 496.099,1138.43 503.341,1150.77 510.583,1152.75 517.825,1152.23 525.067,1162.74 532.309,1167.7 539.551,1173.62 546.794,1169.97 554.036,1169.89 561.278,1166.91 568.52,1168.95 575.762,1167.71 583.004,1171.07 590.246,1185.28 597.488,1193.64 604.73,1199.08 611.972,1207.09 619.215,1215.48 626.457,1223.46 633.699,1222.69 640.941,1230.33 648.183,1234.43 655.425,1232.23 662.667,1240.14 669.909,1243.96 677.151,1245.08 684.393,1243.88 691.636,1246.15 698.878,1252.38 706.12,1260.25 713.362,1269.34 720.604,1270.35 727.846,1281.39 735.088,1282.44 742.33,1287.32 749.572,1290.62 756.814,1289.78 764.057,1290.32 771.299,1294.86 778.541,1294.78 785.783,1294.01 793.025,1293.74 800.267,1294.71 807.509,1287.67 814.751,1281.13 821.993,1284.08 829.235,1284.01 836.478,1285.58 843.72,1285.09 850.962,1287.8 858.204,1292.64 865.446,1291.92 872.688,1291.76 879.93,1293.83 887.172,1295.08 894.414,1294.79 901.656,1288.02 908.899,1287.96 916.141,1288.53 923.383,1287.48 930.625,1293.29 937.867,1294.71 945.109,1300.09 952.351,1301.82 959.593,1304.31 966.835,1307.69 974.077,1303.07 981.32,1303.44 988.562,1306.93 995.804,1312.13 1003.05,1316.35 1010.29,1316.96 1017.53,1320.49 1024.77,1317.63 1032.01,1318.01 1039.26,1318.61 1046.5,1316.61 1053.74,1314.76 1060.98,1315.77 1068.22,1314.55 1075.47,1320.41 1082.71,1318.55 1089.95,1319.18 1097.19,1319.18 1104.44,1318.09 1111.68,1315.28 1118.92,1315.39 1126.16,1312.66 1133.4,1311.45 1140.65,1314.42 1147.89,1315.86 1155.13,1315.97 1162.37,1316.32 1169.61,1315.76 1176.86,1317.36 1184.1,1315.78 1191.34,1315.62 1198.58,1312.42 1205.82,1315.85 1213.07,1317.77 1220.31,1315.26 1227.55,1312.8 1234.79,1313.08 1242.04,1314.79 1249.28,1310.11 1256.52,1311.23 1263.76,1309.02 1271,1310.8 1278.25,1307.45 1285.49,1308.18 1292.73,1310.54 1299.97,1307.44 1307.21,1307.57 1314.46,1307.42 1321.7,1312.95 1328.94,1312.98 1336.18,1315.41 1343.42,1319.41 1350.67,1317.75 1357.91,1314.38 1365.15,1312.39 1372.39,1310.35 1379.64,1309.94 1386.88,1307.56 1394.12,1306.74 1401.36,1306.6 1408.6,1307.79 1415.85,1306.36 1423.09,1303.03 1430.33,1300.92 1437.57,1301.53 1444.81,1300.11 1452.06,1300.86 1459.3,1306.32 1466.54,1303.74 1473.78,1300.35 1481.02,1298.25 1488.27,1301.46 1495.51,1301.3 1502.75,1299.47 1509.99,1297.89 1517.23,1296.99 1524.48,1294.7 1531.72,1292.14 1538.96,1289.25 1546.2,1288.26 1553.45,1285.98 1560.69,1285.1 1567.93,1285.44 1575.17,1284.52 1582.41,1282.41 1589.66,1280.01 1596.9,1277.66 1604.14,1274.49 1611.38,1271.43 1618.62,1266.25 1625.87,1264.83 1633.11,1263.83 1640.35,1263.7 1647.59,1260.45 1654.83,1259.14 1662.08,1261.55 1669.32,1261.36 1676.56,1261.34 1683.8,1260.43 1691.05,1257.27 1698.29,1259.49 1705.53,1257.79 1712.77,1255.29 1720.01,1252.92 1727.26,1249.52 1734.5,1248.4 1741.74,1245.3 1748.98,1244.16 1756.22,1244.61 1763.47,1240.52 1770.71,1238.1 1777.95,1235.38 1785.19,1232.7 1792.43,1232.39 1799.68,1229.6 1806.92,1228.94 1814.16,1226.86 1821.4,1225.83 1828.65,1224.63 1835.89,1221.84 1843.13,1219.17 1850.37,1218.47 1857.61,1216.63 1864.86,1213.86 1872.1,1211.82 1879.34,1209.81 1886.58,1209.37 1893.82,1208.62 1901.07,1205.31 1908.31,1204.03 1915.55,1203.78 1922.79,1202.77 1930.03,1200.52 1937.28,1198.63 1944.52,1196.57 1951.76,1193.11 1959,1190.98 1966.25,1188.75 1973.49,1188.15 1980.73,1187.65 1987.97,1186.89 1995.21,1185.39 2002.46,1184.43 2009.7,1182.85 2016.94,1180.65 2024.18,1179.35 2031.42,1178.79 2038.67,1178 2045.91,1176.95 2053.15,1176.23 2060.39,1175.4 2067.63,1174.07 2074.88,1172.67 2082.12,1171.57 2089.36,1170.4 2096.6,1169.45 2103.84,1167.98 2111.09,1167.5 2118.33,1166.62 2125.57,1166.23 2132.81,1165.28 2140.06,1164.05 2147.3,1162.8 2154.54,1161.5 2161.78,1159.78 2169.02,1158.88 2176.27,1158.41 2183.51,1157.5 2190.75,1156.57 2197.99,1155.79 2205.23,1154.95 2212.48,1154.21 2219.72,1153.4 2226.96,1152.68 2234.2,1151.76 2241.44,1151.13 2248.69,1150.35 2255.93,1149.7 2263.17,1149 2270.41,1148.25 2277.66,1147.64 2284.9,1146.97 2292.14,1146.32 \"/>\n",
       "<polyline clip-path=\"url(#clip592)\" style=\"stroke:#e26f46; stroke-linecap:round; stroke-linejoin:round; stroke-width:4; stroke-opacity:1; fill:none\" points=\"271.594,1045.9 278.836,1032.79 286.078,1016.27 293.32,1020.32 300.562,1008.29 307.804,1007.13 315.046,1002.34 322.288,998.547 329.531,995.889 336.773,998.669 344.015,1007.16 351.257,999.391 358.499,994.531 365.741,978.525 372.983,973.255 380.225,967.966 387.467,965.457 394.709,957.588 401.952,951.879 409.194,938.844 416.436,934.167 423.678,928.691 430.92,926.721 438.162,930.622 445.404,917.454 452.646,912.577 459.888,906.663 467.13,902.685 474.373,904.249 481.615,906.628 488.857,902.917 496.099,907.42 503.341,911.661 510.583,907.884 517.825,898.015 525.067,900.658 532.309,903.635 539.551,894.025 546.794,898.104 554.036,901.996 561.278,898.726 568.52,900.775 575.762,881.171 583.004,881.571 590.246,878.159 597.488,873.36 604.73,874.546 611.972,881.31 619.215,867.49 626.457,868.92 633.699,869.899 640.941,869.003 648.183,873.436 655.425,870.547 662.667,876.726 669.909,876.864 677.151,880.23 684.393,874.744 691.636,867.788 698.878,863.203 706.12,863.862 713.362,862.731 720.604,863.781 727.846,860.872 735.088,857.867 742.33,858.593 749.572,860.287 756.814,857.292 764.057,858.566 771.299,857.544 778.541,857.381 785.783,852.147 793.025,852.197 800.267,854.368 807.509,851.43 814.751,849.989 821.993,846.605 829.235,841.089 836.478,843.99 843.72,841.767 850.962,836.354 858.204,831.895 865.446,832.58 872.688,837.161 879.93,838.784 887.172,839.35 894.414,839.011 901.656,840.917 908.899,846.707 916.141,847.361 923.383,846.901 930.625,840.328 937.867,837.965 945.109,842.904 952.351,837.931 959.593,842.922 966.835,837.876 974.077,842.227 981.32,844.893 988.562,847.315 995.804,850.713 1003.05,854.793 1010.29,853.233 1017.53,853.271 1024.77,853.965 1032.01,855.235 1039.26,855.902 1046.5,855.06 1053.74,861.147 1060.98,862.399 1068.22,861.11 1075.47,862.802 1082.71,862.837 1089.95,866.009 1097.19,863.159 1104.44,866.987 1111.68,869.125 1118.92,872.061 1126.16,872.466 1133.4,877.01 1140.65,883.971 1147.89,882.95 1155.13,880.638 1162.37,879.341 1169.61,885.391 1176.86,886.484 1184.1,882.916 1191.34,884.292 1198.58,886.487 1205.82,892.576 1213.07,895.681 1220.31,899.222 1227.55,901.05 1234.79,902.757 1242.04,903.611 1249.28,904.09 1256.52,905.263 1263.76,908.382 1271,908.931 1278.25,907.519 1285.49,907.821 1292.73,908.904 1299.97,910.321 1307.21,914.032 1314.46,913.766 1321.7,913.891 1328.94,911.97 1336.18,907.543 1343.42,908.5 1350.67,907.961 1357.91,911.061 1365.15,911.77 1372.39,910.929 1379.64,914.033 1386.88,915.452 1394.12,917.929 1401.36,920.113 1408.6,925.642 1415.85,928.644 1423.09,930.084 1430.33,934.088 1437.57,942.003 1444.81,944.416 1452.06,946.101 1459.3,947.617 1466.54,947.497 1473.78,949.012 1481.02,950.186 1488.27,954.868 1495.51,954.012 1502.75,955.019 1509.99,956.961 1517.23,958.035 1524.48,961.059 1531.72,961.517 1538.96,962.109 1546.2,964.231 1553.45,963.845 1560.69,968.012 1567.93,966.631 1575.17,963.417 1582.41,966.938 1589.66,966.779 1596.9,968.065 1604.14,964.704 1611.38,966.395 1618.62,967.525 1625.87,972.035 1633.11,974.313 1640.35,977.842 1647.59,980.965 1654.83,985.521 1662.08,986.263 1669.32,987.537 1676.56,989.117 1683.8,990.405 1691.05,990.516 1698.29,990.305 1705.53,996.471 1712.77,997.262 1720.01,1001.45 1727.26,1004.34 1734.5,1006.2 1741.74,1010.43 1748.98,1011.8 1756.22,1012.82 1763.47,1016.87 1770.71,1018.76 1777.95,1020.89 1785.19,1023.82 1792.43,1025.95 1799.68,1027.07 1806.92,1030.61 1814.16,1032.98 1821.4,1035.37 1828.65,1036.41 1835.89,1038.28 1843.13,1039.79 1850.37,1042.34 1857.61,1043.01 1864.86,1044.5 1872.1,1047.87 1879.34,1049.62 1886.58,1049.85 1893.82,1051.57 1901.07,1053.79 1908.31,1054.28 1915.55,1056.08 1922.79,1058.3 1930.03,1058.66 1937.28,1061.57 1944.52,1064.65 1951.76,1066.27 1959,1068.06 1966.25,1069.76 1973.49,1071.73 1980.73,1072.95 1987.97,1075.86 1995.21,1076.91 2002.46,1078.34 2009.7,1080.5 2016.94,1082.38 2024.18,1084.07 2031.42,1085.71 2038.67,1087.22 2045.91,1089.61 2053.15,1090.37 2060.39,1091.78 2067.63,1093.6 2074.88,1095.42 2082.12,1097.84 2089.36,1099.57 2096.6,1100.53 2103.84,1102.57 2111.09,1103.38 2118.33,1104.43 2125.57,1105.86 2132.81,1107.33 2140.06,1109.23 2147.3,1110.33 2154.54,1111.06 2161.78,1112.36 2169.02,1114.06 2176.27,1115.5 2183.51,1116.86 2190.75,1117.94 2197.99,1119.19 2205.23,1120.24 2212.48,1121.31 2219.72,1122.59 2226.96,1123.74 2234.2,1124.89 2241.44,1125.86 2248.69,1126.5 2255.93,1127.23 2263.17,1128.16 2270.41,1128.97 2277.66,1129.77 2284.9,1130.52 2292.14,1131.26 \"/>\n",
       "<polyline clip-path=\"url(#clip592)\" style=\"stroke:#3da44d; stroke-linecap:round; stroke-linejoin:round; stroke-width:4; stroke-opacity:1; fill:none\" points=\"271.594,160.256 278.836,168.607 286.078,179.196 293.32,185.286 300.562,188.799 307.804,209.599 315.046,215.167 322.288,247.933 329.531,251.891 336.773,266.334 344.015,274.639 351.257,299.189 358.499,308.983 365.741,325.66 372.983,336.73 380.225,342.8 387.467,359.358 394.709,362.099 401.952,364.904 409.194,382.712 416.436,392.618 423.678,397.329 430.92,395.267 438.162,413.759 445.404,403.53 452.646,408.262 459.888,425.809 467.13,439.085 474.373,449.944 481.615,466.479 488.857,486.858 496.099,495.325 503.341,502.965 510.583,510.657 517.825,524.936 525.067,532.824 532.309,532.079 539.551,539.605 546.794,555.711 554.036,565.674 561.278,577.946 568.52,586.145 575.762,590.271 583.004,602.234 590.246,611.502 597.488,622.116 604.73,628.178 611.972,642.302 619.215,661.004 626.457,663.455 633.699,666.412 640.941,675.131 648.183,675.867 655.425,681.146 662.667,690.582 669.909,708.821 677.151,715.22 684.393,721.324 691.636,727.311 698.878,735.29 706.12,736.978 713.362,749.339 720.604,759.81 727.846,769.105 735.088,779.284 742.33,780.961 749.572,792.407 756.814,800.638 764.057,808.475 771.299,813.338 778.541,822.596 785.783,832 793.025,837.738 800.267,842.701 807.509,850.597 814.751,853.556 821.993,861.531 829.235,865.063 836.478,865.219 843.72,869.797 850.962,879.376 858.204,879.782 865.446,889.176 872.688,893.209 879.93,897.802 887.172,906.085 894.414,906.629 901.656,910.597 908.899,912.184 916.141,919.25 923.383,928.899 930.625,936.703 937.867,941.592 945.109,947.161 952.351,949.184 959.593,948.522 966.835,950.232 974.077,950.762 981.32,958.104 988.562,964.902 995.804,962.421 1003.05,965.249 1010.29,970.023 1017.53,977.098 1024.77,980.081 1032.01,982.179 1039.26,986.99 1046.5,991.233 1053.74,996.667 1060.98,1002.87 1068.22,1005.36 1075.47,1006.94 1082.71,1014.38 1089.95,1016.37 1097.19,1016.49 1104.44,1016.29 1111.68,1017.23 1118.92,1017.63 1126.16,1023.83 1133.4,1029.48 1140.65,1034.42 1147.89,1034.28 1155.13,1036.71 1162.37,1038.01 1169.61,1041.58 1176.86,1048.18 1184.1,1048.66 1191.34,1051.51 1198.58,1056.46 1205.82,1061.58 1213.07,1067.01 1220.31,1066.79 1227.55,1071.77 1234.79,1073.55 1242.04,1075.42 1249.28,1074.55 1256.52,1080.71 1263.76,1081.8 1271,1087.54 1278.25,1093.69 1285.49,1101.45 1292.73,1106.82 1299.97,1110.2 1307.21,1108.08 1314.46,1109.11 1321.7,1113.93 1328.94,1115.97 1336.18,1117.18 1343.42,1119.59 1350.67,1123.89 1357.91,1126.36 1365.15,1126.91 1372.39,1123.68 1379.64,1125.69 1386.88,1125.64 1394.12,1129.18 1401.36,1131.16 1408.6,1131.89 1415.85,1133.89 1423.09,1136.53 1430.33,1138.52 1437.57,1141.59 1444.81,1146.64 1452.06,1143.75 1459.3,1144.57 1466.54,1145.86 1473.78,1147.19 1481.02,1148.61 1488.27,1148.21 1495.51,1148.52 1502.75,1150.17 1509.99,1150.22 1517.23,1148.11 1524.48,1150.73 1531.72,1150.31 1538.96,1152.43 1546.2,1154.97 1553.45,1154.84 1560.69,1153.13 1567.93,1155.93 1575.17,1158.1 1582.41,1156.15 1589.66,1157.86 1596.9,1159.13 1604.14,1159.08 1611.38,1158.49 1618.62,1160.35 1625.87,1162.73 1633.11,1163.18 1640.35,1163.65 1647.59,1165.44 1654.83,1167.64 1662.08,1167.85 1669.32,1167.94 1676.56,1165.71 1683.8,1164.82 1691.05,1166.18 1698.29,1166.15 1705.53,1168.44 1712.77,1167.68 1720.01,1166.03 1727.26,1163.67 1734.5,1164.37 1741.74,1164.46 1748.98,1162.6 1756.22,1161.78 1763.47,1163.04 1770.71,1161.56 1777.95,1160.29 1785.19,1160.04 1792.43,1160.13 1799.68,1160.17 1806.92,1160.57 1814.16,1159.39 1821.4,1159.43 1828.65,1158.49 1835.89,1157.66 1843.13,1158.24 1850.37,1157.08 1857.61,1157.81 1864.86,1157.71 1872.1,1157.44 1879.34,1157.56 1886.58,1157.07 1893.82,1158.56 1901.07,1160.33 1908.31,1159.9 1915.55,1159.52 1922.79,1159.58 1930.03,1157.24 1937.28,1156.8 1944.52,1155.82 1951.76,1155.15 1959,1154.7 1966.25,1153.98 1973.49,1156.12 1980.73,1156.67 1987.97,1156.05 1995.21,1155.64 2002.46,1156 2009.7,1154.96 2016.94,1154.81 2024.18,1154.96 2031.42,1155.42 2038.67,1155.28 2045.91,1155.3 2053.15,1155.43 2060.39,1155.33 2067.63,1154.94 2074.88,1154.84 2082.12,1154.49 2089.36,1153.39 2096.6,1152.84 2103.84,1152.84 2111.09,1152.77 2118.33,1152.34 2125.57,1151.26 2132.81,1151.07 2140.06,1150.96 2147.3,1150.31 2154.54,1149.94 2161.78,1150.11 2169.02,1149.6 2176.27,1149.44 2183.51,1149.18 2190.75,1148.62 2197.99,1148.07 2205.23,1147.63 2212.48,1147.31 2219.72,1146.78 2226.96,1146.74 2234.2,1146.45 2241.44,1145.89 2248.69,1145.53 2255.93,1145.35 2263.17,1145.2 2270.41,1144.89 2277.66,1144.49 2284.9,1144.21 2292.14,1143.87 \"/>\n",
       "<polyline clip-path=\"url(#clip592)\" style=\"stroke:#c271d2; stroke-linecap:round; stroke-linejoin:round; stroke-width:4; stroke-opacity:1; fill:none\" stroke-dasharray=\"16, 10\" points=\"271.594,1285.45 278.836,1283.35 286.078,1283.1 293.32,1282.51 300.562,1282.31 307.804,1283.6 315.046,1285.38 322.288,1285.9 329.531,1285.36 336.773,1285.11 344.015,1283.08 351.257,1281.18 358.499,1277.63 365.741,1275.6 372.983,1273.09 380.225,1270.6 387.467,1269.49 394.709,1267.32 401.952,1266.42 409.194,1265.06 416.436,1263.59 423.678,1262.58 430.92,1261.8 438.162,1260.55 445.404,1258.52 452.646,1257.4 459.888,1256.88 467.13,1254.61 474.373,1252.62 481.615,1250.58 488.857,1248.38 496.099,1246.21 503.341,1243.99 510.583,1242.39 517.825,1240.4 525.067,1238.3 532.309,1236.74 539.551,1234.86 546.794,1233.33 554.036,1231.11 561.278,1228.93 568.52,1227.8 575.762,1226.55 583.004,1226.33 590.246,1226.48 597.488,1224.98 604.73,1223.11 611.972,1221.85 619.215,1219.24 626.457,1216.57 633.699,1215.11 640.941,1213.44 648.183,1211.35 655.425,1209.61 662.667,1207.74 669.909,1205.49 677.151,1202.38 684.393,1200.41 691.636,1198.77 698.878,1196.73 706.12,1194.9 713.362,1193.48 720.604,1191.01 727.846,1188.53 735.088,1186.11 742.33,1183.98 749.572,1182.15 756.814,1179.69 764.057,1177.67 771.299,1175.31 778.541,1173.47 785.783,1171.17 793.025,1170.01 800.267,1168.05 807.509,1167.29 814.751,1168.39 821.993,1170.02 829.235,1171.71 836.478,1172.48 843.72,1173.33 850.962,1174.29 858.204,1174.37 865.446,1174.09 872.688,1173.91 879.93,1173.82 887.172,1173.27 894.414,1172.59 901.656,1172.54 908.899,1173.45 916.141,1174.89 923.383,1175.38 930.625,1176 937.867,1175.32 945.109,1175.38 952.351,1174.64 959.593,1173.67 966.835,1172.82 974.077,1170.97 981.32,1170.31 988.562,1169.33 995.804,1167.93 1003.05,1166.47 1010.29,1164.5 1017.53,1162.28 1024.77,1159.9 1032.01,1157.86 1039.26,1156.35 1046.5,1154.7 1053.74,1154.58 1060.98,1154.36 1068.22,1153.1 1075.47,1153.14 1082.71,1152.06 1089.95,1151.55 1097.19,1150.62 1104.44,1150.05 1111.68,1149.92 1118.92,1150.67 1126.16,1150.37 1133.4,1150.95 1140.65,1151.54 1147.89,1150.27 1155.13,1149.57 1162.37,1148.67 1169.61,1147.78 1176.86,1146.59 1184.1,1145.05 1191.34,1144.12 1198.58,1143.43 1205.82,1143.34 1213.07,1142.27 1220.31,1141.29 1227.55,1140.36 1234.79,1140.68 1242.04,1140.72 1249.28,1140.12 1256.52,1141.09 1263.76,1140.4 1271,1140.98 1278.25,1139.92 1285.49,1139.6 1292.73,1139.13 1299.97,1138.1 1307.21,1137.19 1314.46,1137.1 1321.7,1136.7 1328.94,1135.09 1336.18,1133.66 1343.42,1132.22 1350.67,1130.46 1357.91,1128.82 1365.15,1127.38 1372.39,1126.24 1379.64,1125.68 1386.88,1124.55 1394.12,1124.29 1401.36,1123.13 1408.6,1121.92 1415.85,1120.03 1423.09,1119.01 1430.33,1119.21 1437.57,1119.53 1444.81,1118.95 1452.06,1118.43 1459.3,1117.27 1466.54,1115.22 1473.78,1113.48 1481.02,1112.98 1488.27,1112.9 1495.51,1111.55 1502.75,1110.09 1509.99,1108.8 1517.23,1108.33 1524.48,1107.6 1531.72,1107.39 1538.96,1107.62 1546.2,1108.37 1553.45,1108.62 1560.69,1108.9 1567.93,1108.9 1575.17,1107.97 1582.41,1107.31 1589.66,1107.2 1596.9,1107.26 1604.14,1107.64 1611.38,1108.17 1618.62,1109.07 1625.87,1110.63 1633.11,1111.82 1640.35,1112.34 1647.59,1112.1 1654.83,1112.64 1662.08,1113.89 1669.32,1111.9 1676.56,1110.32 1683.8,1108.45 1691.05,1107.34 1698.29,1107.28 1705.53,1106.25 1712.77,1105.19 1720.01,1105.02 1727.26,1105.17 1734.5,1105.78 1741.74,1106.05 1748.98,1106.66 1756.22,1106.93 1763.47,1106.1 1770.71,1107.09 1777.95,1107.72 1785.19,1108.54 1792.43,1109.37 1799.68,1109.52 1806.92,1109.85 1814.16,1109.82 1821.4,1109.99 1828.65,1109.93 1835.89,1109.71 1843.13,1110.13 1850.37,1111 1857.61,1111.21 1864.86,1111.28 1872.1,1112.04 1879.34,1112.64 1886.58,1112.95 1893.82,1113.05 1901.07,1112.82 1908.31,1113.45 1915.55,1113.75 1922.79,1113.37 1930.03,1112.88 1937.28,1113.12 1944.52,1113.75 1951.76,1113.95 1959,1114.71 1966.25,1115.93 1973.49,1118.04 1980.73,1118.08 1987.97,1117.65 1995.21,1117.25 2002.46,1117.16 2009.7,1116.95 2016.94,1117.09 2024.18,1117.54 2031.42,1118.32 2038.67,1118.12 2045.91,1118.06 2053.15,1117.89 2060.39,1117.52 2067.63,1117.43 2074.88,1117.36 2082.12,1117.99 2089.36,1117.92 2096.6,1117.95 2103.84,1118.14 2111.09,1118.43 2118.33,1118.59 2125.57,1118.68 2132.81,1118.45 2140.06,1118.44 2147.3,1118.54 2154.54,1118.92 2161.78,1119.43 2169.02,1119.96 2176.27,1120.4 2183.51,1120.74 2190.75,1121.12 2197.99,1121.34 2205.23,1121.71 2212.48,1122.09 2219.72,1122.44 2226.96,1122.72 2234.2,1123.09 2241.44,1123.46 2248.69,1123.83 2255.93,1124.28 2263.17,1124.73 2270.41,1125.15 2277.66,1125.63 2284.9,1126.08 2292.14,1126.6 \"/>\n",
       "<polyline clip-path=\"url(#clip592)\" style=\"stroke:#ac8d18; stroke-linecap:round; stroke-linejoin:round; stroke-width:4; stroke-opacity:1; fill:none\" stroke-dasharray=\"16, 10\" points=\"271.594,1041.96 278.836,1042.65 286.078,1044.65 293.32,1046.75 300.562,1048.56 307.804,1049.97 315.046,1052.06 322.288,1053.88 329.531,1057.08 336.773,1058.47 344.015,1059.9 351.257,1059.22 358.499,1059.72 365.741,1060.22 372.983,1061.39 380.225,1062.77 387.467,1063.47 394.709,1065.02 401.952,1066.31 409.194,1068.16 416.436,1070.15 423.678,1072.47 430.92,1073.37 438.162,1074.48 445.404,1076 452.646,1077.17 459.888,1077.72 467.13,1079.62 474.373,1081.19 481.615,1082.75 488.857,1084.04 496.099,1085.79 503.341,1087.44 510.583,1088.12 517.825,1089.19 525.067,1090.96 532.309,1091.87 539.551,1092.68 546.794,1093.59 554.036,1094.77 561.278,1095.36 568.52,1096.84 575.762,1097.11 583.004,1099.59 590.246,1101.78 597.488,1103.65 604.73,1105.41 611.972,1106.55 619.215,1106.87 626.457,1108.73 633.699,1109.48 640.941,1110.38 648.183,1111.27 655.425,1111.4 662.667,1112.11 669.909,1112.07 677.151,1111.86 684.393,1111.17 691.636,1111.47 698.878,1112.93 706.12,1114.36 713.362,1114.91 720.604,1115.82 727.846,1116.53 735.088,1117.33 742.33,1118.22 749.572,1118.66 756.814,1119.34 764.057,1120.31 771.299,1121.19 778.541,1122.23 785.783,1123 793.025,1125.05 800.267,1126.47 807.509,1127.77 814.751,1129.19 821.993,1130 829.235,1131.35 836.478,1133.39 843.72,1134.83 850.962,1136.69 858.204,1139.35 865.446,1141.08 872.688,1143.66 879.93,1145.69 887.172,1146.57 894.414,1147.45 901.656,1148.37 908.899,1148.19 916.141,1147.34 923.383,1146.57 930.625,1146.35 937.867,1148.47 945.109,1150.32 952.351,1151.17 959.593,1152.83 966.835,1153.65 974.077,1154.63 981.32,1154.88 988.562,1155.11 995.804,1155.07 1003.05,1154.73 1010.29,1153.79 1017.53,1153.52 1024.77,1153.51 1032.01,1153.62 1039.26,1153.75 1046.5,1154.05 1053.74,1155.08 1060.98,1154.45 1068.22,1154.43 1075.47,1154.78 1082.71,1154.7 1089.95,1155.13 1097.19,1154.87 1104.44,1156.42 1111.68,1156.27 1118.92,1155.97 1126.16,1155.61 1133.4,1155.69 1140.65,1154.76 1147.89,1154.03 1155.13,1153.51 1162.37,1153.82 1169.61,1154.72 1176.86,1154.84 1184.1,1155.01 1191.34,1156.35 1198.58,1157.46 1205.82,1158.2 1213.07,1157.37 1220.31,1156.43 1227.55,1155.49 1234.79,1154.29 1242.04,1153.36 1249.28,1153.12 1256.52,1152.43 1263.76,1153.13 1271,1152.24 1278.25,1153.13 1285.49,1154.2 1292.73,1155.34 1299.97,1156.33 1307.21,1157.64 1314.46,1157.43 1321.7,1157.79 1328.94,1158.39 1336.18,1159.41 1343.42,1161.04 1350.67,1162.4 1357.91,1164.1 1365.15,1165.78 1372.39,1167.52 1379.64,1169.1 1386.88,1170.91 1394.12,1172.58 1401.36,1174.36 1408.6,1175.46 1415.85,1174.57 1423.09,1173.66 1430.33,1173.52 1437.57,1172.77 1444.81,1170.81 1452.06,1169.37 1459.3,1168.73 1466.54,1169.01 1473.78,1168.74 1481.02,1169.07 1488.27,1169.58 1495.51,1169.03 1502.75,1169.66 1509.99,1169.94 1517.23,1170.39 1524.48,1171.29 1531.72,1171.48 1538.96,1172.21 1546.2,1173.4 1553.45,1174.13 1560.69,1175.35 1567.93,1175.47 1575.17,1176.62 1582.41,1178.95 1589.66,1180.17 1596.9,1181.91 1604.14,1183 1611.38,1185.11 1618.62,1186.91 1625.87,1188.01 1633.11,1188.43 1640.35,1188.46 1647.59,1187.95 1654.83,1187.4 1662.08,1186.19 1669.32,1186 1676.56,1186.06 1683.8,1186.34 1691.05,1186.44 1698.29,1187 1705.53,1187.83 1712.77,1187.52 1720.01,1187.41 1727.26,1186.38 1734.5,1185.73 1741.74,1185.27 1748.98,1184.46 1756.22,1183.86 1763.47,1184.29 1770.71,1183.42 1777.95,1182.96 1785.19,1182.6 1792.43,1181.88 1799.68,1181.45 1806.92,1181.34 1814.16,1180.66 1821.4,1180.08 1828.65,1179.56 1835.89,1179.52 1843.13,1179.45 1850.37,1179.61 1857.61,1179.38 1864.86,1179.55 1872.1,1179.89 1879.34,1179.21 1886.58,1178.79 1893.82,1179.56 1901.07,1180.12 1908.31,1179.76 1915.55,1180 1922.79,1180.07 1930.03,1179.5 1937.28,1179.92 1944.52,1179.76 1951.76,1178.69 1959,1178.03 1966.25,1177.66 1973.49,1177.59 1980.73,1177.08 1987.97,1176.87 1995.21,1176.03 2002.46,1175.76 2009.7,1175.48 2016.94,1174.96 2024.18,1174.38 2031.42,1174.07 2038.67,1173.54 2045.91,1173.29 2053.15,1172.45 2060.39,1172.11 2067.63,1171.83 2074.88,1171.3 2082.12,1170.94 2089.36,1169.98 2096.6,1169.18 2103.84,1168.69 2111.09,1167.97 2118.33,1167.65 2125.57,1167.36 2132.81,1167.21 2140.06,1166.59 2147.3,1165.8 2154.54,1165.21 2161.78,1164.86 2169.02,1164.34 2176.27,1163.68 2183.51,1163.04 2190.75,1162.39 2197.99,1161.71 2205.23,1161.08 2212.48,1160.51 2219.72,1160.03 2226.96,1159.36 2234.2,1158.67 2241.44,1158.02 2248.69,1157.39 2255.93,1156.84 2263.17,1156.23 2270.41,1155.75 2277.66,1155.11 2284.9,1154.56 2292.14,1153.9 \"/>\n",
       "<polyline clip-path=\"url(#clip592)\" style=\"stroke:#00a9ad; stroke-linecap:round; stroke-linejoin:round; stroke-width:4; stroke-opacity:1; fill:none\" stroke-dasharray=\"16, 10\" points=\"271.594,1382.84 278.836,1381.47 286.078,1382.37 293.32,1381.35 300.562,1384.33 307.804,1386.4 315.046,1378.92 322.288,1381.09 329.531,1367.94 336.773,1375.64 344.015,1371.13 351.257,1372.02 358.499,1354.93 365.741,1354.87 372.983,1347.13 380.225,1338.44 387.467,1347.31 394.709,1340.74 401.952,1346.66 409.194,1344.32 416.436,1339.88 423.678,1334.9 430.92,1345.08 438.162,1349.9 445.404,1344.86 452.646,1350.17 459.888,1365.41 467.13,1355.47 474.373,1350.41 481.615,1344.99 488.857,1339.65 496.099,1331.74 503.341,1323.98 510.583,1327.96 517.825,1326.07 525.067,1318.49 532.309,1321.77 539.551,1322.27 546.794,1325.75 554.036,1320.92 561.278,1318.97 568.52,1315.08 575.762,1313.29 583.004,1308.71 590.246,1307.46 597.488,1303.97 604.73,1298.5 611.972,1303 619.215,1296.73 626.457,1283.5 633.699,1288.64 640.941,1290.79 648.183,1288.71 655.425,1292.63 662.667,1293.72 669.909,1291.86 677.151,1280.14 684.393,1280.11 691.636,1280.64 698.878,1275.84 706.12,1273.23 713.362,1279.68 720.604,1273.51 727.846,1267.89 735.088,1262.71 742.33,1260.13 749.572,1262.48 756.814,1257.22 764.057,1255.55 771.299,1250.65 778.541,1250.27 785.783,1246.49 793.025,1243.47 800.267,1239.7 807.509,1241.75 814.751,1237.35 821.993,1240.47 829.235,1238.21 836.478,1237.24 843.72,1241.95 850.962,1241.87 858.204,1235.24 865.446,1239.17 872.688,1233.5 879.93,1234.07 887.172,1235.85 894.414,1231.45 901.656,1234.64 908.899,1235.41 916.141,1236.54 923.383,1233.54 930.625,1227.45 937.867,1223.7 945.109,1222.12 952.351,1219.9 959.593,1221.68 966.835,1225.63 974.077,1225.58 981.32,1229.87 988.562,1226.43 995.804,1222.67 1003.05,1229.25 1010.29,1228.21 1017.53,1226.62 1024.77,1222.67 1032.01,1223.25 1039.26,1224.55 1046.5,1222.4 1053.74,1221.03 1060.98,1217.75 1068.22,1214.55 1075.47,1214.49 1082.71,1215.76 1089.95,1209.97 1097.19,1211.18 1104.44,1214.05 1111.68,1217.06 1118.92,1218.56 1126.16,1220.36 1133.4,1215.95 1140.65,1212.02 1147.89,1208.46 1155.13,1210.97 1162.37,1210.74 1169.61,1212.16 1176.86,1209.25 1184.1,1205.29 1191.34,1209.82 1198.58,1206.56 1205.82,1202.57 1213.07,1199.31 1220.31,1195.8 1227.55,1197.07 1234.79,1194.06 1242.04,1193.98 1249.28,1193.73 1256.52,1196.87 1263.76,1191.6 1271,1192.17 1278.25,1187.46 1285.49,1182.93 1292.73,1176.23 1299.97,1172.83 1307.21,1171.07 1314.46,1173.5 1321.7,1173.76 1328.94,1169.89 1336.18,1168.73 1343.42,1167.82 1350.67,1166.28 1357.91,1163.18 1365.15,1161.78 1372.39,1161.81 1379.64,1166.63 1386.88,1166.12 1394.12,1167.36 1401.36,1163.92 1408.6,1162.69 1415.85,1162.71 1423.09,1161.46 1430.33,1159.46 1437.57,1158.3 1444.81,1156.25 1452.06,1151.41 1459.3,1155.46 1466.54,1155.48 1473.78,1153.94 1481.02,1153.08 1488.27,1152.14 1495.51,1153.32 1502.75,1153.48 1509.99,1151.65 1517.23,1152.75 1524.48,1155.03 1531.72,1152.59 1538.96,1153.27 1546.2,1152.1 1553.45,1149.51 1560.69,1149.24 1567.93,1151.87 1575.17,1148.43 1582.41,1144.69 1589.66,1149.46 1596.9,1147.51 1604.14,1146.41 1611.38,1145.47 1618.62,1146.26 1625.87,1145.18 1633.11,1142.2 1640.35,1141.88 1647.59,1140.91 1654.83,1139.12 1662.08,1136.37 1669.32,1136.52 1676.56,1136.44 1683.8,1138.67 1691.05,1140.15 1698.29,1138.63 1705.53,1138.68 1712.77,1135.37 1720.01,1136.72 1727.26,1137.64 1734.5,1140.2 1741.74,1139.42 1748.98,1138.73 1756.22,1140.85 1763.47,1141.34 1770.71,1139.51 1777.95,1141.03 1785.19,1141.99 1792.43,1141.85 1799.68,1141.92 1806.92,1140.9 1814.16,1140.51 1821.4,1141.25 1828.65,1141.17 1835.89,1141.85 1843.13,1141.87 1850.37,1141.51 1857.61,1142.43 1864.86,1141.04 1872.1,1140.77 1879.34,1140.93 1886.58,1139.33 1893.82,1140.15 1901.07,1138 1908.31,1135.37 1915.55,1135.55 1922.79,1135.35 1930.03,1134.79 1937.28,1137.15 1944.52,1137.08 1951.76,1137.23 1959,1137.46 1966.25,1138.58 1973.49,1138.35 1980.73,1135.34 1987.97,1134.28 1995.21,1134.45 2002.46,1134.4 2009.7,1133.45 2016.94,1134.15 2024.18,1133.92 2031.42,1133.24 2038.67,1132.18 2045.91,1131.86 2053.15,1131.37 2060.39,1130.83 2067.63,1130.43 2074.88,1130.54 2082.12,1129.89 2089.36,1130.09 2096.6,1130.89 2103.84,1130.92 2111.09,1130.53 2118.33,1129.96 2125.57,1130.05 2132.81,1130.87 2140.06,1130.77 2147.3,1130.88 2154.54,1130.86 2161.78,1130.88 2169.02,1130.58 2176.27,1130.73 2183.51,1130.46 2190.75,1130.26 2197.99,1131.09 2205.23,1131.02 2212.48,1131.04 2219.72,1130.94 2226.96,1131.72 2234.2,1131.08 2241.44,1131.73 2248.69,1132 2255.93,1131.83 2263.17,1132.25 2270.41,1131.59 2277.66,1132.44 2284.9,1132.2 2292.14,1132.85 \"/>\n",
       "<path clip-path=\"url(#clip590)\" d=\"M2023.9 529.676 L2281.36 529.676 L2281.36 166.796 L2023.9 166.796  Z\" fill=\"#ffffff\" fill-rule=\"evenodd\" fill-opacity=\"1\"/>\n",
       "<polyline clip-path=\"url(#clip590)\" style=\"stroke:#000000; stroke-linecap:round; stroke-linejoin:round; stroke-width:4; stroke-opacity:1; fill:none\" points=\"2023.9,529.676 2281.36,529.676 2281.36,166.796 2023.9,166.796 2023.9,529.676 \"/>\n",
       "<polyline clip-path=\"url(#clip590)\" style=\"stroke:#009af9; stroke-linecap:round; stroke-linejoin:round; stroke-width:4; stroke-opacity:1; fill:none\" points=\"2047.7,218.636 2190.48,218.636 \"/>\n",
       "<path clip-path=\"url(#clip590)\" d=\"M2238.93 209.99 L2229.56 222.606 L2239.42 235.916 L2234.39 235.916 L2226.85 225.731 L2219.3 235.916 L2214.28 235.916 L2224.35 222.351 L2215.14 209.99 L2220.16 209.99 L2227.03 219.226 L2233.91 209.99 L2238.93 209.99 Z\" fill=\"#000000\" fill-rule=\"evenodd\" fill-opacity=\"1\" /><path clip-path=\"url(#clip590)\" d=\"M2244.58 233.369 L2249.3 233.369 L2249.3 219.226 L2244.14 220.175 L2244.14 217.49 L2249.46 216.587 L2252.64 216.587 L2252.64 233.369 L2257.38 233.369 L2257.38 235.916 L2244.58 235.916 L2244.58 233.369 Z\" fill=\"#000000\" fill-rule=\"evenodd\" fill-opacity=\"1\" /><polyline clip-path=\"url(#clip590)\" style=\"stroke:#e26f46; stroke-linecap:round; stroke-linejoin:round; stroke-width:4; stroke-opacity:1; fill:none\" points=\"2047.7,270.476 2190.48,270.476 \"/>\n",
       "<path clip-path=\"url(#clip590)\" d=\"M2238.93 261.83 L2229.56 274.446 L2239.42 287.756 L2234.39 287.756 L2226.85 277.571 L2219.3 287.756 L2214.28 287.756 L2224.35 274.191 L2215.14 261.83 L2220.16 261.83 L2227.03 271.066 L2233.91 261.83 L2238.93 261.83 Z\" fill=\"#000000\" fill-rule=\"evenodd\" fill-opacity=\"1\" /><path clip-path=\"url(#clip590)\" d=\"M2247.17 285.117 L2256.99 285.117 L2256.99 287.756 L2243.14 287.756 L2243.14 285.209 Q2243.93 284.492 2245.39 283.196 Q2253.35 276.135 2253.35 273.959 Q2253.35 272.432 2252.15 271.506 Q2250.95 270.557 2248.98 270.557 Q2247.77 270.557 2246.36 270.973 Q2244.95 271.367 2243.28 272.177 L2243.28 269.33 Q2245.07 268.682 2246.59 268.358 Q2248.14 268.034 2249.46 268.034 Q2252.82 268.034 2254.83 269.561 Q2256.85 271.089 2256.85 273.589 Q2256.85 276.807 2249.19 283.381 Q2247.89 284.492 2247.17 285.117 Z\" fill=\"#000000\" fill-rule=\"evenodd\" fill-opacity=\"1\" /><polyline clip-path=\"url(#clip590)\" style=\"stroke:#3da44d; stroke-linecap:round; stroke-linejoin:round; stroke-width:4; stroke-opacity:1; fill:none\" points=\"2047.7,322.316 2190.48,322.316 \"/>\n",
       "<path clip-path=\"url(#clip590)\" d=\"M2238.93 313.67 L2229.56 326.286 L2239.42 339.596 L2234.39 339.596 L2226.85 329.411 L2219.3 339.596 L2214.28 339.596 L2224.35 326.031 L2215.14 313.67 L2220.16 313.67 L2227.03 322.906 L2233.91 313.67 L2238.93 313.67 Z\" fill=\"#000000\" fill-rule=\"evenodd\" fill-opacity=\"1\" /><path clip-path=\"url(#clip590)\" d=\"M2253.1 329.133 Q2255.23 329.549 2256.39 330.823 Q2257.57 332.073 2257.57 333.971 Q2257.57 336.841 2255.37 338.392 Q2253.17 339.943 2249.07 339.943 Q2247.75 339.943 2246.29 339.688 Q2244.86 339.457 2243.24 338.994 L2243.24 336.193 Q2244.44 336.818 2245.81 337.119 Q2247.2 337.42 2248.75 337.42 Q2251.27 337.42 2252.66 336.517 Q2254.05 335.591 2254.05 333.971 Q2254.05 332.258 2252.75 331.378 Q2251.48 330.499 2248.98 330.499 L2246.99 330.499 L2246.99 327.999 L2249.16 327.999 Q2251.34 327.999 2252.45 327.281 Q2253.58 326.54 2253.58 325.151 Q2253.58 323.809 2252.43 323.114 Q2251.27 322.397 2249.07 322.397 Q2248.14 322.397 2246.96 322.605 Q2245.78 322.813 2243.91 323.346 L2243.91 320.684 Q2245.6 320.29 2247.08 320.082 Q2248.56 319.874 2249.83 319.874 Q2253.17 319.874 2255.11 321.239 Q2257.08 322.605 2257.08 324.897 Q2257.08 326.494 2256.04 327.605 Q2255 328.716 2253.1 329.133 Z\" fill=\"#000000\" fill-rule=\"evenodd\" fill-opacity=\"1\" /><polyline clip-path=\"url(#clip590)\" style=\"stroke:#c271d2; stroke-linecap:round; stroke-linejoin:round; stroke-width:4; stroke-opacity:1; fill:none\" stroke-dasharray=\"16, 10\" points=\"2047.7,374.156 2190.48,374.156 \"/>\n",
       "<path clip-path=\"url(#clip590)\" d=\"M2238.93 365.51 L2229.56 378.126 L2239.42 391.436 L2234.39 391.436 L2226.85 381.251 L2219.3 391.436 L2214.28 391.436 L2224.35 377.871 L2215.14 365.51 L2220.16 365.51 L2227.03 374.746 L2233.91 365.51 L2238.93 365.51 Z\" fill=\"#000000\" fill-rule=\"evenodd\" fill-opacity=\"1\" /><path clip-path=\"url(#clip590)\" d=\"M2226.94 355.417 L2231.2 355.417 L2231.2 360.811 L2226.94 360.811 L2226.94 355.417 M2229.12 364.885 L2229.12 364.885 Z\" fill=\"#000000\" fill-rule=\"evenodd\" fill-opacity=\"1\" /><path clip-path=\"url(#clip590)\" d=\"M2244.58 388.889 L2249.3 388.889 L2249.3 374.746 L2244.14 375.695 L2244.14 373.01 L2249.46 372.107 L2252.64 372.107 L2252.64 388.889 L2257.38 388.889 L2257.38 391.436 L2244.58 391.436 L2244.58 388.889 Z\" fill=\"#000000\" fill-rule=\"evenodd\" fill-opacity=\"1\" /><polyline clip-path=\"url(#clip590)\" style=\"stroke:#ac8d18; stroke-linecap:round; stroke-linejoin:round; stroke-width:4; stroke-opacity:1; fill:none\" stroke-dasharray=\"16, 10\" points=\"2047.7,425.996 2190.48,425.996 \"/>\n",
       "<path clip-path=\"url(#clip590)\" d=\"M2238.93 417.35 L2229.56 429.966 L2239.42 443.276 L2234.39 443.276 L2226.85 433.091 L2219.3 443.276 L2214.28 443.276 L2224.35 429.711 L2215.14 417.35 L2220.16 417.35 L2227.03 426.586 L2233.91 417.35 L2238.93 417.35 Z\" fill=\"#000000\" fill-rule=\"evenodd\" fill-opacity=\"1\" /><path clip-path=\"url(#clip590)\" d=\"M2226.94 407.257 L2231.2 407.257 L2231.2 412.651 L2226.94 412.651 L2226.94 407.257 M2229.12 416.725 L2229.12 416.725 Z\" fill=\"#000000\" fill-rule=\"evenodd\" fill-opacity=\"1\" /><path clip-path=\"url(#clip590)\" d=\"M2247.17 440.637 L2256.99 440.637 L2256.99 443.276 L2243.14 443.276 L2243.14 440.729 Q2243.93 440.012 2245.39 438.716 Q2253.35 431.655 2253.35 429.479 Q2253.35 427.952 2252.15 427.026 Q2250.95 426.077 2248.98 426.077 Q2247.77 426.077 2246.36 426.493 Q2244.95 426.887 2243.28 427.697 L2243.28 424.85 Q2245.07 424.202 2246.59 423.878 Q2248.14 423.554 2249.46 423.554 Q2252.82 423.554 2254.83 425.081 Q2256.85 426.609 2256.85 429.109 Q2256.85 432.327 2249.19 438.901 Q2247.89 440.012 2247.17 440.637 Z\" fill=\"#000000\" fill-rule=\"evenodd\" fill-opacity=\"1\" /><polyline clip-path=\"url(#clip590)\" style=\"stroke:#00a9ad; stroke-linecap:round; stroke-linejoin:round; stroke-width:4; stroke-opacity:1; fill:none\" stroke-dasharray=\"16, 10\" points=\"2047.7,477.836 2190.48,477.836 \"/>\n",
       "<path clip-path=\"url(#clip590)\" d=\"M2238.93 469.19 L2229.56 481.806 L2239.42 495.116 L2234.39 495.116 L2226.85 484.931 L2219.3 495.116 L2214.28 495.116 L2224.35 481.551 L2215.14 469.19 L2220.16 469.19 L2227.03 478.426 L2233.91 469.19 L2238.93 469.19 Z\" fill=\"#000000\" fill-rule=\"evenodd\" fill-opacity=\"1\" /><path clip-path=\"url(#clip590)\" d=\"M2226.94 459.097 L2231.2 459.097 L2231.2 464.491 L2226.94 464.491 L2226.94 459.097 M2229.12 468.565 L2229.12 468.565 Z\" fill=\"#000000\" fill-rule=\"evenodd\" fill-opacity=\"1\" /><path clip-path=\"url(#clip590)\" d=\"M2253.1 484.653 Q2255.23 485.069 2256.39 486.343 Q2257.57 487.593 2257.57 489.491 Q2257.57 492.361 2255.37 493.912 Q2253.17 495.463 2249.07 495.463 Q2247.75 495.463 2246.29 495.208 Q2244.86 494.977 2243.24 494.514 L2243.24 491.713 Q2244.44 492.338 2245.81 492.639 Q2247.2 492.94 2248.75 492.94 Q2251.27 492.94 2252.66 492.037 Q2254.05 491.111 2254.05 489.491 Q2254.05 487.778 2252.75 486.898 Q2251.48 486.019 2248.98 486.019 L2246.99 486.019 L2246.99 483.519 L2249.16 483.519 Q2251.34 483.519 2252.45 482.801 Q2253.58 482.06 2253.58 480.671 Q2253.58 479.329 2252.43 478.634 Q2251.27 477.917 2249.07 477.917 Q2248.14 477.917 2246.96 478.125 Q2245.78 478.333 2243.91 478.866 L2243.91 476.204 Q2245.6 475.81 2247.08 475.602 Q2248.56 475.394 2249.83 475.394 Q2253.17 475.394 2255.11 476.759 Q2257.08 478.125 2257.08 480.417 Q2257.08 482.014 2256.04 483.125 Q2255 484.236 2253.1 484.653 Z\" fill=\"#000000\" fill-rule=\"evenodd\" fill-opacity=\"1\" /></svg>\n"
      ]
     },
     "metadata": {},
     "output_type": "display_data"
    }
   ],
   "source": [
    "Xsim_m = mat_from_vec(Xhist[1:end-Nh])\n",
    "Usim_m = mat_from_vec(Uhist[1:end-Nh-1])\n",
    "e_sim_m = mat_from_vec(Xref[1:end-Nh]-Xhist[1:end-Nh])\n",
    "display(plot(t_vec[1:end-Nh],e_sim_m',label = [\"ex₁\" \"ex₂\" \"ex₃\" \"eẋ₁\" \"eẋ₂\" \"eẋ₃\"], linestyle=[:solid :solid :solid :dash :dash :dash],\n",
    "             title = \"State Error History\",\n",
    "             xlabel = \"time (s)\", ylabel = \"x\"))\n",
    "display(plot(t_vec[1:end-Nh-2],Usim_m',label = [\"u₁\" \"u₂\" \"u₃\"],\n",
    "             title = \"Input History\",\n",
    "             xlabel = \"time (s)\", ylabel = \"u\"))\n",
    "display(plot(t_vec[1:end-Nh],Xsim_m',label = [\"x₁\" \"x₂\" \"x₃\" \"ẋ₁\" \"ẋ₂\" \"ẋ₃\"], linestyle=[:solid :solid :solid :dash :dash :dash],\n",
    "             title = \"State History\",\n",
    "             xlabel = \"time (s)\", ylabel = \"x\"))"
   ]
  }
 ],
 "metadata": {
  "kernelspec": {
   "display_name": "Julia 1.6.7",
   "language": "julia",
   "name": "julia-1.6"
  },
  "language_info": {
   "file_extension": ".jl",
   "mimetype": "application/julia",
   "name": "julia",
   "version": "1.6.7"
  }
 },
 "nbformat": 4,
 "nbformat_minor": 5
}
