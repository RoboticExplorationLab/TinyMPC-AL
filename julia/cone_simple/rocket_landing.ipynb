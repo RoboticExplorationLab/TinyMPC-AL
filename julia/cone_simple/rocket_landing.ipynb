{
 "cells": [
  {
   "cell_type": "code",
   "execution_count": 230,
   "id": "6099cb4b-a2da-4b1b-ba0f-856484092fc4",
   "metadata": {},
   "outputs": [
    {
     "name": "stderr",
     "output_type": "stream",
     "text": [
      "\u001b[32m\u001b[1m  Activating\u001b[22m\u001b[39m environment at `~/SSD/Code/TinyMPC/julia/cone_simple/Project.toml`\n"
     ]
    }
   ],
   "source": [
    "using Pkg\n",
    "Pkg.activate(@__DIR__)\n",
    "Pkg.instantiate()\n",
    "\n",
    "using LinearAlgebra\n",
    "using Printf\n",
    "import ForwardDiff as FD"
   ]
  },
  {
   "cell_type": "code",
   "execution_count": 231,
   "id": "2539eadc-1ce3-410e-80f6-f5588603ffef",
   "metadata": {},
   "outputs": [],
   "source": [
    "# include(\"random_linear.jl\")\n",
    "# A, B = gendiscrete(4, 3)"
   ]
  },
  {
   "cell_type": "code",
   "execution_count": 271,
   "id": "6179ca57-b5ff-4274-8391-85d5e728fc16",
   "metadata": {},
   "outputs": [
    {
     "data": {
      "text/plain": [
       "mpc (generic function with 1 method)"
      ]
     },
     "execution_count": 271,
     "metadata": {},
     "output_type": "execute_result"
    }
   ],
   "source": [
    "# -------------------THIS IS ALL ALTRO-------------------------------\n",
    "# This enables goal equality constraints, state and input ineq constraints.\n",
    "\n",
    "function stage_cost(p::NamedTuple,x,u,k)\n",
    "    dx = x - p.Xref[k]\n",
    "    du = u - p.Uref[k]\n",
    "    return 0.5*dx'*p.Q*dx + 0.5*du'*p.R*du\n",
    "end\n",
    "function term_cost(p::NamedTuple,x)\n",
    "    dx = x - p.Xref[p.N]\n",
    "    return 0.5*dx'*p.Qf*dx\n",
    "end\n",
    "function stage_cost_expansion(p::NamedTuple,k)\n",
    "    dx = - p.Xref[k]\n",
    "    du = - p.Uref[k]\n",
    "    return p.Q, p.Q*dx, p.R, p.R*du  # Hessian and gradient\n",
    "end\n",
    "function term_cost_expansion(p::NamedTuple)\n",
    "    dx = - p.Xref[p.N]\n",
    "    return p.Qf, p.Qf*dx\n",
    "end\n",
    "function conic_cost_expansion(p::NamedTuple, u, λc, ρ, k)\n",
    "    λhat = λc # already updated\n",
    "    ∇c = cone_u_jac(p, u)\n",
    "    G = ∇c'*∇projection(λhat)*projection(λhat) \n",
    "    H = ∇c'*∇projection(λhat)'*∇projection(λhat)*∇c*ρ\n",
    "    # display(∇projection(λhat)')\n",
    "    # H = zeros(p.ncu_cone,p.ncu_cone)\n",
    "    return (G - H*u), H\n",
    "end\n",
    "function backward_pass!(params,X,U,P,p,d,K,reg,μ,μx,ρ,λ,λc)\n",
    "    \"\"\"iLQR backward pass with AL. This !function update its parameters\n",
    "    \"\"\"\n",
    "    N = params.N\n",
    "    ΔJ = 0.0    # expected cost reduction\n",
    "\n",
    "    # terminal cost expansion\n",
    "    P[N], p[N] = term_cost_expansion(params) \n",
    "    \n",
    "    if (params.ncx > 0)\n",
    "        # # add AL terms for the state constraint at the final time step\n",
    "        hxv = ineq_con_x(params,X[N])  # h(x) violation  \n",
    "        mask = eval_mask(μx[N],hxv)\n",
    "        ∇hx = ineq_con_x_jac(params,X[N])\n",
    "        # add these into the cost-to-go p and P\n",
    "        p[N]  += ∇hx'*(μx[N] - ρ*(mask * [params.x_max;-params.x_min]))  # multiplier term (1st)\n",
    "        P[N]  += ρ*∇hx'*mask*∇hx                # penalty term (2nd)\n",
    "    end\n",
    "    \n",
    "    if (params.ncg > 0)\n",
    "        # add AL terms for goal constraint \n",
    "        ∇hx = diagm(ones(params.nx))\n",
    "        # add these into the CTG p and P (equality active)\n",
    "        p[N]  += ∇hx'*(λ - ρ*params.Xref[N])   \n",
    "        P[N]  += ρ*∇hx'∇hx\n",
    "    end\n",
    "    \n",
    "    # iterate from N-1 to 1 backwards\n",
    "    for k = (N-1):(-1):1\n",
    "        # dynamics jacobians (linearization about previous iterate)\n",
    "        A = FD.jacobian(_x -> discrete_dynamics(params,_x,U[k],k),X[k])\n",
    "        B = FD.jacobian(_u -> discrete_dynamics(params,X[k],_u,k),U[k])\n",
    "\n",
    "        Sxx,Sx,Suu,Su = stage_cost_expansion(params,k)\n",
    "        \n",
    "        # one-step cost expansion: Q, Q*dx, R, R*du\n",
    "        Sx += A' * (P[k+1]*f + p[k+1]) \n",
    "        Su += B' * (P[k+1]*f + p[k+1]) \n",
    "        Sxx += A'*(P[k+1])*A\n",
    "        Suu += B'*(P[k+1] + reg*I)*B                                     \n",
    "        Sux = B'*(P[k+1])*A  \n",
    "        if (params.ncu > 0)\n",
    "            # control constraints\n",
    "            huv = ineq_con_u(params,U[k])  # calculate h(u) constraint\n",
    "            mask = eval_mask(μ[k],huv)  # choose active\n",
    "            ∇hu = ineq_con_u_jac(params,U[k])\n",
    "            Su  += ∇hu'*(μ[k] - ρ*(mask * [params.u_max;-params.u_min])) # add to cost\n",
    "            Suu += ρ*∇hu'*mask*∇hu\n",
    "        end\n",
    "        if (params.ncx > 0)\n",
    "            # state constraints\n",
    "            hxv = ineq_con_x(params,X[k])\n",
    "            mask = eval_mask(μx[k],hxv)\n",
    "            ∇hx = ineq_con_x_jac(params,X[k])\n",
    "            Sx  += ∇hx'*(μx[k] - ρ*(mask * [params.x_max;-params.x_min]))\n",
    "            Sxx += ρ*∇hx'*mask*∇hx\n",
    "        end\n",
    "        if (params.ncu_cone > 0)\n",
    "            # conic constraints\n",
    "            Qu, Quu = conic_cost_expansion(params, U[k], λc[k], ρ/cone_scale, k)\n",
    "            # display(Quu)\n",
    "            Su += Qu\n",
    "            Suu += Quu\n",
    "        end\n",
    "        \n",
    "        # Calculate Gains\n",
    "        F = cholesky(Symmetric(Suu))\n",
    "        d[k] = F\\Su\n",
    "        K[k] = F\\Sux\n",
    "\n",
    "        # Cost-to-go Recurrence (PSD stabilizing version, last term)\n",
    "        P[k] = Sxx + K[k]'*Suu*K[k] - 2*K[k]'*Sux\n",
    "        p[k] = Sx + K[k]'*Suu*d[k] - K[k]'*Su - Sux'*d[k]\n",
    "        ΔJ += Su'*d[k]\n",
    "    end\n",
    "\n",
    "    return ΔJ  # but also change params\n",
    "end\n",
    "function forward_pass!(params,X,U,K,d,ΔJ,Xn,Un,μ,μx,ρ,λ; \n",
    "                        max_linesearch_iters = 20)\n",
    "    \"\"\"iLQR forward pass and line-search\n",
    "    This !function update its parameters\n",
    "    \"\"\"\n",
    "    N = params.N\n",
    "        # Forward Rollout\n",
    "        for k = 1:(N-1)\n",
    "            Un[k] = - d[k] - K[k]*Xn[k] \n",
    "            Xn[k+1] = discrete_dynamics(params,Xn[k],Un[k],k)\n",
    "        end\n",
    "    X .= Xn\n",
    "    U .= Un\n",
    "    return 0, 0\n",
    "end\n",
    "function eval_mask(μv,huv)  \n",
    "    # Extract active inequality constraints\n",
    "    # active set mask\n",
    "    mask = Diagonal(zeros(length(huv)))\n",
    "    for i = 1:length(huv)\n",
    "        mask[i,i] = (μv[i] > 0 || huv[i] > 0)\n",
    "    end\n",
    "    mask\n",
    "end\n",
    "function mpc(params,X,U,P,p,K,d,Xn,Un;atol=1e-3,max_iters = 250,verbose = true,ρ=1,ϕ=10)\n",
    "\n",
    "    # first check the sizes of everything\n",
    "    # @assert length(X) == params.N\n",
    "    # @assert length(U) == params.N-1\n",
    "    # @assert length(X[1]) == params.nx\n",
    "    # @assert length(U[1]) == params.nu\n",
    "\n",
    "    # keep track of trajectories for each iterate\n",
    "    Xh=[deepcopy(X) for i = 1:1000]\n",
    "\n",
    "    # initial rollout\n",
    "    N = params.N\n",
    "    for i = 1:N-1\n",
    "        X[i+1] = discrete_dynamics(params,X[i],U[i],i)\n",
    "    end\n",
    "\n",
    "    Xh[1] .= X\n",
    "\n",
    "    reg_min = 1e-8\n",
    "    reg = reg_min\n",
    "\n",
    "    μ = [zeros(params.ncu) for i = 1:N-1]   # input constraints\n",
    "\n",
    "    μx = [zeros(params.ncx) for i = 1:N]    # state constraints\n",
    "\n",
    "    λ = zeros(params.nx)    # goal constraint\n",
    "\n",
    "    λc = [zeros(params.ncu_cone) for i = 1:N-1]   # goal constraint\n",
    "    \n",
    "    # Inner loop to solve unconstrained problem (Riccati)\n",
    "    for iter = 1:max_iters\n",
    "        J = 0.0\n",
    "        ΔJ = 0.0\n",
    "        α = 1.0\n",
    "        for i = 1:5\n",
    "            ΔJ = backward_pass!(params,X,U,P,p,d,K,reg,μ,μx,ρ,λ,λc)\n",
    "            J, α = forward_pass!(params,X,U,K,d,ΔJ,Xn,Un,μ,μx,ρ,λ)\n",
    "        end\n",
    "\n",
    "        Xh[iter + 1] .= X  \n",
    "        if verbose\n",
    "            if rem(iter-1,10)==0\n",
    "                @printf \"iter     J           ΔJ        |d|         α        reg         ρ\\n\"\n",
    "                @printf \"---------------------------------------------------------------------\\n\"\n",
    "            end\n",
    "            @printf(\"%3d   %10.3e  %9.2e  %9.2e  %6.4f   %9.2e   %9.2e\\n\",\n",
    "              iter, J, ΔJ, 0, α, reg, ρ)\n",
    "        end\n",
    "        # update multipliers and check constraint violation, max of all\n",
    "        convio = 0  \n",
    "        \n",
    "        if (params.ncu > 0)\n",
    "            # control constraints (inequality)\n",
    "            for k = 1:N-1\n",
    "                huv = ineq_con_u(params,U[k])\n",
    "                mask = eval_mask(μ[k],huv)\n",
    "                # update dual\n",
    "                convio = max(convio,norm(huv + abs.(huv),Inf))\n",
    "                μ[k] = max.(0,μ[k] - ρ*(mask * [params.u_max;-params.u_min]))\n",
    "                \n",
    "            end\n",
    "        end\n",
    "        if (params.ncx > 0)\n",
    "            # state constraints (inequality)\n",
    "            for k = 1:N\n",
    "                hxv = ineq_con_x(params,X[k])\n",
    "                mask = eval_mask(μx[k],hxv)\n",
    "                # update dual\n",
    "                convio = max(convio,norm(hxv + abs.(hxv),Inf))\n",
    "                μx[k] = max.(0,μx[k] - ρ*(mask * [params.x_max;-params.x_min]))                \n",
    "            end\n",
    "        end\n",
    "        if (params.ncu_cone > 0)\n",
    "            # conic constraints \n",
    "            if verbose\n",
    "                print(\"update cone\\n\")\n",
    "            end            \n",
    "            for k = 1:N-1\n",
    "                # update dual\n",
    "                Uc = cone_u(params, U[k])\n",
    "                huc = norm(Uc[1:2]) - Uc[3]\n",
    "                convio = max(convio, norm(huc + abs.(huc),Inf))\n",
    "                λc[k] = projection(λc[k] + ρ*Uc/cone_scale)\n",
    "                # display(λc[k])\n",
    "            end\n",
    "        end\n",
    "        if (params.ncg > 0)\n",
    "            # goal constraint (equality)\n",
    "            hxv = X[N] - params.Xref[N]\n",
    "            λ .-= ρ*params.Xref[N]\n",
    "            convio = max(convio, norm(hxv,Inf))\n",
    "        end\n",
    "        if verbose\n",
    "            @show convio\n",
    "        end\n",
    "        if convio <1e-4  # if terminal condition with contraint violation\n",
    "            # @info \"success!\"\n",
    "            return Xh[1:(iter + 1)];\n",
    "        end\n",
    "\n",
    "        ρ *= ϕ  # update penalty\n",
    "    end\n",
    "end\n",
    "#----------------------ALTRO DONE --------------------------"
   ]
  },
  {
   "cell_type": "code",
   "execution_count": 233,
   "id": "ff9a97a1-b963-4f01-9223-eee0c5682b7d",
   "metadata": {
    "tags": []
   },
   "outputs": [
    {
     "data": {
      "text/plain": [
       "∇projection (generic function with 1 method)"
      ]
     },
     "execution_count": 233,
     "metadata": {},
     "output_type": "execute_result"
    }
   ],
   "source": [
    "# =============================\n",
    "# Example problem formulation and solve\n",
    "# =============================\n",
    "\n",
    "# ---------------------THIS IS WHAT YOU NEED TO INPUT--------\n",
    "A = [1.0 0.0 0.0 0.05 0.0 0.0; \n",
    "    0.0 1.0 0.0 0.0 0.05 0.0; \n",
    "    0.0 0.0 1.0 0.0 0.0 0.05; \n",
    "    0.0 0.0 0.0 1.0 0.0 0.0; \n",
    "    0.0 0.0 0.0 0.0 1.0 0.0; \n",
    "    0.0 0.0 0.0 0.0 0.0 1.0]\n",
    "B = [0.000125 0.0 0.0; \n",
    "    0.0 0.000125 0.0;\n",
    "    0.0 0.0 0.000125; \n",
    "    0.005 0.0 0.0; \n",
    "    0.0 0.005 0.0; \n",
    "    0.0 0.0 0.005]\n",
    "f = [0.0, 0.0, -0.0122625, 0.0, 0.0, -0.4905]\n",
    "function discrete_dynamics(p::NamedTuple,x,u,k)\n",
    "    A = [1.0 0.0 0.0 0.05 0.0 0.0; \n",
    "        0.0 1.0 0.0 0.0 0.05 0.0; \n",
    "        0.0 0.0 1.0 0.0 0.0 0.05; \n",
    "        0.0 0.0 0.0 1.0 0.0 0.0; \n",
    "        0.0 0.0 0.0 0.0 1.0 0.0; \n",
    "        0.0 0.0 0.0 0.0 0.0 1.0]\n",
    "    B = [0.000125 0.0 0.0; \n",
    "        0.0 0.000125 0.0;\n",
    "        0.0 0.0 0.000125; \n",
    "        0.005 0.0 0.0; \n",
    "        0.0 0.005 0.0; \n",
    "        0.0 0.0 0.005]\n",
    "    f = [0.0, 0.0, -0.0122625, 0.0, 0.0, -0.4905]\n",
    "    return A*x + B*u + f\n",
    "end\n",
    "function ineq_con_x(p,x)\n",
    "    [x-p.x_max;-x + p.x_min]\n",
    "end\n",
    "function ineq_con_u(p,u)\n",
    "    [u-p.u_max;-u + p.u_min]\n",
    "end\n",
    "function cone_u(p, u)\n",
    "    [p.A_cone*u;p.c_cone'*u]\n",
    "end\n",
    "function cone_u_jac(p, u)\n",
    "    J = zeros(p.nu, p.nu)\n",
    "    J[1:end-1,1:end] .= p.A_cone\n",
    "    J[end,1:end] .= p.c_cone\n",
    "    return J\n",
    "end\n",
    "function ineq_con_u_jac(params,u)\n",
    "    FD.jacobian(_u -> ineq_con_u(params,_u), u)\n",
    "end\n",
    "function ineq_con_x_jac(p,x)\n",
    "    FD.jacobian(_x -> ineq_con_x(p,_x),x)\n",
    "end\n",
    "function projection(x)\n",
    "    n = length(x)\n",
    "    s = x[end]\n",
    "    v = view(x,1:n-1)\n",
    "    a = norm(v)\n",
    "    if a <= -s  # below the cone\n",
    "        return zero(x)\n",
    "    elseif a <= s  # in the code\n",
    "        return x\n",
    "    elseif a >= abs(s)  # outside the cone\n",
    "        return 0.5 * (1 + s/a) * [v; a] \n",
    "    end\n",
    "end\n",
    "function ∇projection(x)\n",
    "    n = length(x)\n",
    "    J = zeros(eltype(x),n,n)\n",
    "    s = x[end]\n",
    "    v = view(x,1:n-1)\n",
    "    a = norm(v)\n",
    "    if a <= -s\n",
    "        return J  # zeros\n",
    "    elseif a <= s\n",
    "        J .= I(n)  \n",
    "        return J  # identity\n",
    "    elseif a >= abs(s)\n",
    "        c = 0.5 * (1 + s/a)\n",
    "\n",
    "        # dvdv ok!\n",
    "        for i = 1:n-1, j = 1:n-1\n",
    "            J[i,j] = -0.5*s/a^3 * v[i] * v[j]\n",
    "            if i == j\n",
    "                J[i,j] += c\n",
    "            end\n",
    "        end\n",
    "\n",
    "        # dvds ok!\n",
    "        for i = 1:n-1\n",
    "            J[i,n] = 0.5 * v[i] / a\n",
    "        end\n",
    "\n",
    "        # dsdv ok!\n",
    "        for i = 1:n-1\n",
    "            J[n,i] = ((-0.5*s/a^2) + c/a) * v[i]\n",
    "        end\n",
    "        J[n,n] = 0.5  # ok\n",
    "        return J\n",
    "    else\n",
    "        error(\"Invalid second-order cone projection.\")\n",
    "    end\n",
    "    return J\n",
    "end"
   ]
  },
  {
   "cell_type": "code",
   "execution_count": 450,
   "id": "f4edd7a6-7756-43ee-a37b-f91abdd18650",
   "metadata": {},
   "outputs": [
    {
     "name": "stdout",
     "output_type": "stream",
     "text": [
      "iter     J           ΔJ        |d|         α        reg         ρ\n",
      "---------------------------------------------------------------------\n",
      "  1    0.000e+00   5.63e+04   0.00e+00  0.0000    1.00e-08    1.00e+00\n",
      "convio = 32.53060472971621\n",
      "  2    0.000e+00   7.85e+04   0.00e+00  0.0000    1.00e-08    1.00e+01\n",
      "convio = 18.95914810353352\n",
      "  3    0.000e+00   1.25e+05   0.00e+00  0.0000    1.00e-08    1.00e+02\n",
      "convio = 9.712227479108025\n",
      "  4    0.000e+00   1.30e+05   0.00e+00  0.0000    1.00e-08    1.00e+03\n",
      "convio = 2.00495694601\n",
      "  5    0.000e+00   1.30e+05   0.00e+00  0.0000    1.00e-08    1.00e+04\n",
      "convio = 0.22603557070078995\n",
      "  6    0.000e+00   1.53e+05   0.00e+00  0.0000    1.00e-08    1.00e+05\n",
      "convio = 0.022897274202238083\n",
      "  7    0.000e+00   3.74e+05   0.00e+00  0.0000    1.00e-08    1.00e+06\n",
      "convio = 0.0022927087475785313\n",
      "  8    0.000e+00   2.55e+06   0.00e+00  0.0000    1.00e-08    1.00e+07\n",
      "convio = 0.00022930073286048236\n",
      "  9    0.000e+00   2.43e+07   0.00e+00  0.0000    1.00e-08    1.00e+08\n",
      "convio = 2.2930371911311642e-5\n"
     ]
    },
    {
     "data": {
      "image/svg+xml": [
       "<?xml version=\"1.0\" encoding=\"utf-8\"?>\n",
       "<svg xmlns=\"http://www.w3.org/2000/svg\" xmlns:xlink=\"http://www.w3.org/1999/xlink\" width=\"600\" height=\"400\" viewBox=\"0 0 2400 1600\">\n",
       "<defs>\n",
       "  <clipPath id=\"clip320\">\n",
       "    <rect x=\"0\" y=\"0\" width=\"2400\" height=\"1600\"/>\n",
       "  </clipPath>\n",
       "</defs>\n",
       "<path clip-path=\"url(#clip320)\" d=\"M0 1600 L2400 1600 L2400 0 L0 0  Z\" fill=\"#ffffff\" fill-rule=\"evenodd\" fill-opacity=\"1\"/>\n",
       "<defs>\n",
       "  <clipPath id=\"clip321\">\n",
       "    <rect x=\"480\" y=\"0\" width=\"1681\" height=\"1600\"/>\n",
       "  </clipPath>\n",
       "</defs>\n",
       "<path clip-path=\"url(#clip320)\" d=\"M210.977 1423.18 L2352.76 1423.18 L2352.76 123.472 L210.977 123.472  Z\" fill=\"#ffffff\" fill-rule=\"evenodd\" fill-opacity=\"1\"/>\n",
       "<defs>\n",
       "  <clipPath id=\"clip322\">\n",
       "    <rect x=\"210\" y=\"123\" width=\"2143\" height=\"1301\"/>\n",
       "  </clipPath>\n",
       "</defs>\n",
       "<polyline clip-path=\"url(#clip322)\" style=\"stroke:#000000; stroke-linecap:round; stroke-linejoin:round; stroke-width:2; stroke-opacity:0.1; fill:none\" points=\"271.594,1423.18 271.594,123.472 \"/>\n",
       "<polyline clip-path=\"url(#clip322)\" style=\"stroke:#000000; stroke-linecap:round; stroke-linejoin:round; stroke-width:2; stroke-opacity:0.1; fill:none\" points=\"692.541,1423.18 692.541,123.472 \"/>\n",
       "<polyline clip-path=\"url(#clip322)\" style=\"stroke:#000000; stroke-linecap:round; stroke-linejoin:round; stroke-width:2; stroke-opacity:0.1; fill:none\" points=\"1113.49,1423.18 1113.49,123.472 \"/>\n",
       "<polyline clip-path=\"url(#clip322)\" style=\"stroke:#000000; stroke-linecap:round; stroke-linejoin:round; stroke-width:2; stroke-opacity:0.1; fill:none\" points=\"1534.43,1423.18 1534.43,123.472 \"/>\n",
       "<polyline clip-path=\"url(#clip322)\" style=\"stroke:#000000; stroke-linecap:round; stroke-linejoin:round; stroke-width:2; stroke-opacity:0.1; fill:none\" points=\"1955.38,1423.18 1955.38,123.472 \"/>\n",
       "<polyline clip-path=\"url(#clip320)\" style=\"stroke:#000000; stroke-linecap:round; stroke-linejoin:round; stroke-width:4; stroke-opacity:1; fill:none\" points=\"210.977,1423.18 2352.76,1423.18 \"/>\n",
       "<polyline clip-path=\"url(#clip320)\" style=\"stroke:#000000; stroke-linecap:round; stroke-linejoin:round; stroke-width:4; stroke-opacity:1; fill:none\" points=\"271.594,1423.18 271.594,1404.28 \"/>\n",
       "<polyline clip-path=\"url(#clip320)\" style=\"stroke:#000000; stroke-linecap:round; stroke-linejoin:round; stroke-width:4; stroke-opacity:1; fill:none\" points=\"692.541,1423.18 692.541,1404.28 \"/>\n",
       "<polyline clip-path=\"url(#clip320)\" style=\"stroke:#000000; stroke-linecap:round; stroke-linejoin:round; stroke-width:4; stroke-opacity:1; fill:none\" points=\"1113.49,1423.18 1113.49,1404.28 \"/>\n",
       "<polyline clip-path=\"url(#clip320)\" style=\"stroke:#000000; stroke-linecap:round; stroke-linejoin:round; stroke-width:4; stroke-opacity:1; fill:none\" points=\"1534.43,1423.18 1534.43,1404.28 \"/>\n",
       "<polyline clip-path=\"url(#clip320)\" style=\"stroke:#000000; stroke-linecap:round; stroke-linejoin:round; stroke-width:4; stroke-opacity:1; fill:none\" points=\"1955.38,1423.18 1955.38,1404.28 \"/>\n",
       "<path clip-path=\"url(#clip320)\" d=\"M248.978 1454.1 Q245.367 1454.1 243.538 1457.66 Q241.733 1461.2 241.733 1468.33 Q241.733 1475.44 243.538 1479.01 Q245.367 1482.55 248.978 1482.55 Q252.612 1482.55 254.418 1479.01 Q256.247 1475.44 256.247 1468.33 Q256.247 1461.2 254.418 1457.66 Q252.612 1454.1 248.978 1454.1 M248.978 1450.39 Q254.788 1450.39 257.844 1455 Q260.923 1459.58 260.923 1468.33 Q260.923 1477.06 257.844 1481.67 Q254.788 1486.25 248.978 1486.25 Q243.168 1486.25 240.089 1481.67 Q237.034 1477.06 237.034 1468.33 Q237.034 1459.58 240.089 1455 Q243.168 1450.39 248.978 1450.39 Z\" fill=\"#000000\" fill-rule=\"evenodd\" fill-opacity=\"1\" /><path clip-path=\"url(#clip320)\" d=\"M269.14 1479.7 L274.024 1479.7 L274.024 1485.58 L269.14 1485.58 L269.14 1479.7 Z\" fill=\"#000000\" fill-rule=\"evenodd\" fill-opacity=\"1\" /><path clip-path=\"url(#clip320)\" d=\"M294.209 1454.1 Q290.598 1454.1 288.77 1457.66 Q286.964 1461.2 286.964 1468.33 Q286.964 1475.44 288.77 1479.01 Q290.598 1482.55 294.209 1482.55 Q297.844 1482.55 299.649 1479.01 Q301.478 1475.44 301.478 1468.33 Q301.478 1461.2 299.649 1457.66 Q297.844 1454.1 294.209 1454.1 M294.209 1450.39 Q300.02 1450.39 303.075 1455 Q306.154 1459.58 306.154 1468.33 Q306.154 1477.06 303.075 1481.67 Q300.02 1486.25 294.209 1486.25 Q288.399 1486.25 285.321 1481.67 Q282.265 1477.06 282.265 1468.33 Q282.265 1459.58 285.321 1455 Q288.399 1450.39 294.209 1450.39 Z\" fill=\"#000000\" fill-rule=\"evenodd\" fill-opacity=\"1\" /><path clip-path=\"url(#clip320)\" d=\"M664.277 1481.64 L680.596 1481.64 L680.596 1485.58 L658.652 1485.58 L658.652 1481.64 Q661.314 1478.89 665.897 1474.26 Q670.504 1469.61 671.684 1468.27 Q673.93 1465.74 674.809 1464.01 Q675.712 1462.25 675.712 1460.56 Q675.712 1457.8 673.768 1456.07 Q671.846 1454.33 668.745 1454.33 Q666.546 1454.33 664.092 1455.09 Q661.661 1455.86 658.884 1457.41 L658.884 1452.69 Q661.708 1451.55 664.161 1450.97 Q666.615 1450.39 668.652 1450.39 Q674.022 1450.39 677.217 1453.08 Q680.411 1455.77 680.411 1460.26 Q680.411 1462.39 679.601 1464.31 Q678.814 1466.2 676.708 1468.8 Q676.129 1469.47 673.027 1472.69 Q669.925 1475.88 664.277 1481.64 Z\" fill=\"#000000\" fill-rule=\"evenodd\" fill-opacity=\"1\" /><path clip-path=\"url(#clip320)\" d=\"M690.411 1479.7 L695.295 1479.7 L695.295 1485.58 L690.411 1485.58 L690.411 1479.7 Z\" fill=\"#000000\" fill-rule=\"evenodd\" fill-opacity=\"1\" /><path clip-path=\"url(#clip320)\" d=\"M705.527 1451.02 L723.883 1451.02 L723.883 1454.96 L709.809 1454.96 L709.809 1463.43 Q710.828 1463.08 711.846 1462.92 Q712.865 1462.73 713.883 1462.73 Q719.67 1462.73 723.05 1465.9 Q726.43 1469.08 726.43 1474.49 Q726.43 1480.07 722.957 1483.17 Q719.485 1486.25 713.166 1486.25 Q710.99 1486.25 708.721 1485.88 Q706.476 1485.51 704.069 1484.77 L704.069 1480.07 Q706.152 1481.2 708.374 1481.76 Q710.596 1482.32 713.073 1482.32 Q717.078 1482.32 719.416 1480.21 Q721.754 1478.1 721.754 1474.49 Q721.754 1470.88 719.416 1468.77 Q717.078 1466.67 713.073 1466.67 Q711.198 1466.67 709.323 1467.08 Q707.471 1467.5 705.527 1468.38 L705.527 1451.02 Z\" fill=\"#000000\" fill-rule=\"evenodd\" fill-opacity=\"1\" /><path clip-path=\"url(#clip320)\" d=\"M1080.65 1451.02 L1099.01 1451.02 L1099.01 1454.96 L1084.93 1454.96 L1084.93 1463.43 Q1085.95 1463.08 1086.97 1462.92 Q1087.99 1462.73 1089.01 1462.73 Q1094.8 1462.73 1098.18 1465.9 Q1101.56 1469.08 1101.56 1474.49 Q1101.56 1480.07 1098.08 1483.17 Q1094.61 1486.25 1088.29 1486.25 Q1086.12 1486.25 1083.85 1485.88 Q1081.6 1485.51 1079.19 1484.77 L1079.19 1480.07 Q1081.28 1481.2 1083.5 1481.76 Q1085.72 1482.32 1088.2 1482.32 Q1092.2 1482.32 1094.54 1480.21 Q1096.88 1478.1 1096.88 1474.49 Q1096.88 1470.88 1094.54 1468.77 Q1092.2 1466.67 1088.2 1466.67 Q1086.32 1466.67 1084.45 1467.08 Q1082.6 1467.5 1080.65 1468.38 L1080.65 1451.02 Z\" fill=\"#000000\" fill-rule=\"evenodd\" fill-opacity=\"1\" /><path clip-path=\"url(#clip320)\" d=\"M1110.77 1479.7 L1115.65 1479.7 L1115.65 1485.58 L1110.77 1485.58 L1110.77 1479.7 Z\" fill=\"#000000\" fill-rule=\"evenodd\" fill-opacity=\"1\" /><path clip-path=\"url(#clip320)\" d=\"M1135.84 1454.1 Q1132.23 1454.1 1130.4 1457.66 Q1128.59 1461.2 1128.59 1468.33 Q1128.59 1475.44 1130.4 1479.01 Q1132.23 1482.55 1135.84 1482.55 Q1139.47 1482.55 1141.28 1479.01 Q1143.11 1475.44 1143.11 1468.33 Q1143.11 1461.2 1141.28 1457.66 Q1139.47 1454.1 1135.84 1454.1 M1135.84 1450.39 Q1141.65 1450.39 1144.7 1455 Q1147.78 1459.58 1147.78 1468.33 Q1147.78 1477.06 1144.7 1481.67 Q1141.65 1486.25 1135.84 1486.25 Q1130.03 1486.25 1126.95 1481.67 Q1123.89 1477.06 1123.89 1468.33 Q1123.89 1459.58 1126.95 1455 Q1130.03 1450.39 1135.84 1450.39 Z\" fill=\"#000000\" fill-rule=\"evenodd\" fill-opacity=\"1\" /><path clip-path=\"url(#clip320)\" d=\"M1500.75 1451.02 L1522.98 1451.02 L1522.98 1453.01 L1510.43 1485.58 L1505.55 1485.58 L1517.35 1454.96 L1500.75 1454.96 L1500.75 1451.02 Z\" fill=\"#000000\" fill-rule=\"evenodd\" fill-opacity=\"1\" /><path clip-path=\"url(#clip320)\" d=\"M1532.1 1479.7 L1536.98 1479.7 L1536.98 1485.58 L1532.1 1485.58 L1532.1 1479.7 Z\" fill=\"#000000\" fill-rule=\"evenodd\" fill-opacity=\"1\" /><path clip-path=\"url(#clip320)\" d=\"M1547.21 1451.02 L1565.57 1451.02 L1565.57 1454.96 L1551.49 1454.96 L1551.49 1463.43 Q1552.51 1463.08 1553.53 1462.92 Q1554.55 1462.73 1555.57 1462.73 Q1561.36 1462.73 1564.74 1465.9 Q1568.12 1469.08 1568.12 1474.49 Q1568.12 1480.07 1564.64 1483.17 Q1561.17 1486.25 1554.85 1486.25 Q1552.68 1486.25 1550.41 1485.88 Q1548.16 1485.51 1545.75 1484.77 L1545.75 1480.07 Q1547.84 1481.2 1550.06 1481.76 Q1552.28 1482.32 1554.76 1482.32 Q1558.76 1482.32 1561.1 1480.21 Q1563.44 1478.1 1563.44 1474.49 Q1563.44 1470.88 1561.1 1468.77 Q1558.76 1466.67 1554.76 1466.67 Q1552.88 1466.67 1551.01 1467.08 Q1549.16 1467.5 1547.21 1468.38 L1547.21 1451.02 Z\" fill=\"#000000\" fill-rule=\"evenodd\" fill-opacity=\"1\" /><path clip-path=\"url(#clip320)\" d=\"M1907.45 1481.64 L1915.09 1481.64 L1915.09 1455.28 L1906.78 1456.95 L1906.78 1452.69 L1915.05 1451.02 L1919.72 1451.02 L1919.72 1481.64 L1927.36 1481.64 L1927.36 1485.58 L1907.45 1485.58 L1907.45 1481.64 Z\" fill=\"#000000\" fill-rule=\"evenodd\" fill-opacity=\"1\" /><path clip-path=\"url(#clip320)\" d=\"M1946.81 1454.1 Q1943.19 1454.1 1941.37 1457.66 Q1939.56 1461.2 1939.56 1468.33 Q1939.56 1475.44 1941.37 1479.01 Q1943.19 1482.55 1946.81 1482.55 Q1950.44 1482.55 1952.25 1479.01 Q1954.07 1475.44 1954.07 1468.33 Q1954.07 1461.2 1952.25 1457.66 Q1950.44 1454.1 1946.81 1454.1 M1946.81 1450.39 Q1952.62 1450.39 1955.67 1455 Q1958.75 1459.58 1958.75 1468.33 Q1958.75 1477.06 1955.67 1481.67 Q1952.62 1486.25 1946.81 1486.25 Q1941 1486.25 1937.92 1481.67 Q1934.86 1477.06 1934.86 1468.33 Q1934.86 1459.58 1937.92 1455 Q1941 1450.39 1946.81 1450.39 Z\" fill=\"#000000\" fill-rule=\"evenodd\" fill-opacity=\"1\" /><path clip-path=\"url(#clip320)\" d=\"M1966.97 1479.7 L1971.85 1479.7 L1971.85 1485.58 L1966.97 1485.58 L1966.97 1479.7 Z\" fill=\"#000000\" fill-rule=\"evenodd\" fill-opacity=\"1\" /><path clip-path=\"url(#clip320)\" d=\"M1992.04 1454.1 Q1988.43 1454.1 1986.6 1457.66 Q1984.79 1461.2 1984.79 1468.33 Q1984.79 1475.44 1986.6 1479.01 Q1988.43 1482.55 1992.04 1482.55 Q1995.67 1482.55 1997.48 1479.01 Q1999.31 1475.44 1999.31 1468.33 Q1999.31 1461.2 1997.48 1457.66 Q1995.67 1454.1 1992.04 1454.1 M1992.04 1450.39 Q1997.85 1450.39 2000.9 1455 Q2003.98 1459.58 2003.98 1468.33 Q2003.98 1477.06 2000.9 1481.67 Q1997.85 1486.25 1992.04 1486.25 Q1986.23 1486.25 1983.15 1481.67 Q1980.09 1477.06 1980.09 1468.33 Q1980.09 1459.58 1983.15 1455 Q1986.23 1450.39 1992.04 1450.39 Z\" fill=\"#000000\" fill-rule=\"evenodd\" fill-opacity=\"1\" /><path clip-path=\"url(#clip320)\" d=\"M1169.32 1522.27 L1169.32 1532.4 L1181.38 1532.4 L1181.38 1536.95 L1169.32 1536.95 L1169.32 1556.3 Q1169.32 1560.66 1170.5 1561.9 Q1171.71 1563.14 1175.37 1563.14 L1181.38 1563.14 L1181.38 1568.04 L1175.37 1568.04 Q1168.59 1568.04 1166.01 1565.53 Q1163.43 1562.98 1163.43 1556.3 L1163.43 1536.95 L1159.14 1536.95 L1159.14 1532.4 L1163.43 1532.4 L1163.43 1522.27 L1169.32 1522.27 Z\" fill=\"#000000\" fill-rule=\"evenodd\" fill-opacity=\"1\" /><path clip-path=\"url(#clip320)\" d=\"M1189.09 1532.4 L1194.94 1532.4 L1194.94 1568.04 L1189.09 1568.04 L1189.09 1532.4 M1189.09 1518.52 L1194.94 1518.52 L1194.94 1525.93 L1189.09 1525.93 L1189.09 1518.52 Z\" fill=\"#000000\" fill-rule=\"evenodd\" fill-opacity=\"1\" /><path clip-path=\"url(#clip320)\" d=\"M1234.95 1539.24 Q1237.15 1535.29 1240.2 1533.41 Q1243.26 1531.54 1247.4 1531.54 Q1252.97 1531.54 1255.99 1535.45 Q1259.01 1539.33 1259.01 1546.53 L1259.01 1568.04 L1253.13 1568.04 L1253.13 1546.72 Q1253.13 1541.59 1251.31 1539.11 Q1249.5 1536.63 1245.77 1536.63 Q1241.22 1536.63 1238.58 1539.65 Q1235.94 1542.68 1235.94 1547.9 L1235.94 1568.04 L1230.05 1568.04 L1230.05 1546.72 Q1230.05 1541.56 1228.24 1539.11 Q1226.42 1536.63 1222.63 1536.63 Q1218.15 1536.63 1215.5 1539.68 Q1212.86 1542.71 1212.86 1547.9 L1212.86 1568.04 L1206.97 1568.04 L1206.97 1532.4 L1212.86 1532.4 L1212.86 1537.93 Q1214.87 1534.66 1217.67 1533.1 Q1220.47 1531.54 1224.32 1531.54 Q1228.2 1531.54 1230.91 1533.51 Q1233.65 1535.48 1234.95 1539.24 Z\" fill=\"#000000\" fill-rule=\"evenodd\" fill-opacity=\"1\" /><path clip-path=\"url(#clip320)\" d=\"M1301.19 1548.76 L1301.19 1551.62 L1274.26 1551.62 Q1274.64 1557.67 1277.89 1560.85 Q1281.17 1564 1286.99 1564 Q1290.36 1564 1293.52 1563.17 Q1296.7 1562.35 1299.82 1560.69 L1299.82 1566.23 Q1296.67 1567.57 1293.36 1568.27 Q1290.05 1568.97 1286.64 1568.97 Q1278.11 1568.97 1273.11 1564 Q1268.15 1559.04 1268.15 1550.57 Q1268.15 1541.82 1272.86 1536.69 Q1277.6 1531.54 1285.62 1531.54 Q1292.82 1531.54 1296.99 1536.18 Q1301.19 1540.8 1301.19 1548.76 M1295.33 1547.04 Q1295.27 1542.23 1292.62 1539.37 Q1290.01 1536.5 1285.69 1536.5 Q1280.78 1536.5 1277.82 1539.27 Q1274.9 1542.04 1274.45 1547.07 L1295.33 1547.04 Z\" fill=\"#000000\" fill-rule=\"evenodd\" fill-opacity=\"1\" /><path clip-path=\"url(#clip320)\" d=\"M1345.59 1518.58 Q1341.32 1525.9 1339.25 1533.06 Q1337.18 1540.23 1337.18 1547.58 Q1337.18 1554.93 1339.25 1562.16 Q1341.35 1569.35 1345.59 1576.64 L1340.49 1576.64 Q1335.72 1569.16 1333.33 1561.93 Q1330.98 1554.71 1330.98 1547.58 Q1330.98 1540.48 1333.33 1533.29 Q1335.69 1526.09 1340.49 1518.58 L1345.59 1518.58 Z\" fill=\"#000000\" fill-rule=\"evenodd\" fill-opacity=\"1\" /><path clip-path=\"url(#clip320)\" d=\"M1379.68 1533.45 L1379.68 1538.98 Q1377.19 1537.71 1374.52 1537.07 Q1371.85 1536.44 1368.98 1536.44 Q1364.62 1536.44 1362.42 1537.77 Q1360.26 1539.11 1360.26 1541.79 Q1360.26 1543.82 1361.82 1545 Q1363.38 1546.15 1368.09 1547.2 L1370.1 1547.64 Q1376.33 1548.98 1378.94 1551.43 Q1381.59 1553.85 1381.59 1558.21 Q1381.59 1563.17 1377.64 1566.07 Q1373.72 1568.97 1366.85 1568.97 Q1363.98 1568.97 1360.87 1568.39 Q1357.78 1567.85 1354.34 1566.74 L1354.34 1560.69 Q1357.59 1562.38 1360.74 1563.24 Q1363.89 1564.07 1366.98 1564.07 Q1371.11 1564.07 1373.34 1562.66 Q1375.57 1561.23 1375.57 1558.65 Q1375.57 1556.27 1373.95 1554.99 Q1372.36 1553.72 1366.91 1552.54 L1364.88 1552.07 Q1359.43 1550.92 1357.01 1548.56 Q1354.59 1546.18 1354.59 1542.04 Q1354.59 1537.01 1358.16 1534.27 Q1361.72 1531.54 1368.28 1531.54 Q1371.53 1531.54 1374.39 1532.01 Q1377.26 1532.49 1379.68 1533.45 Z\" fill=\"#000000\" fill-rule=\"evenodd\" fill-opacity=\"1\" /><path clip-path=\"url(#clip320)\" d=\"M1389.99 1518.58 L1395.08 1518.58 Q1399.86 1526.09 1402.21 1533.29 Q1404.6 1540.48 1404.6 1547.58 Q1404.6 1554.71 1402.21 1561.93 Q1399.86 1569.16 1395.08 1576.64 L1389.99 1576.64 Q1394.22 1569.35 1396.29 1562.16 Q1398.39 1554.93 1398.39 1547.58 Q1398.39 1540.23 1396.29 1533.06 Q1394.22 1525.9 1389.99 1518.58 Z\" fill=\"#000000\" fill-rule=\"evenodd\" fill-opacity=\"1\" /><polyline clip-path=\"url(#clip322)\" style=\"stroke:#000000; stroke-linecap:round; stroke-linejoin:round; stroke-width:2; stroke-opacity:0.1; fill:none\" points=\"210.977,1386.35 2352.76,1386.35 \"/>\n",
       "<polyline clip-path=\"url(#clip322)\" style=\"stroke:#000000; stroke-linecap:round; stroke-linejoin:round; stroke-width:2; stroke-opacity:0.1; fill:none\" points=\"210.977,1141.13 2352.76,1141.13 \"/>\n",
       "<polyline clip-path=\"url(#clip322)\" style=\"stroke:#000000; stroke-linecap:round; stroke-linejoin:round; stroke-width:2; stroke-opacity:0.1; fill:none\" points=\"210.977,895.911 2352.76,895.911 \"/>\n",
       "<polyline clip-path=\"url(#clip322)\" style=\"stroke:#000000; stroke-linecap:round; stroke-linejoin:round; stroke-width:2; stroke-opacity:0.1; fill:none\" points=\"210.977,650.693 2352.76,650.693 \"/>\n",
       "<polyline clip-path=\"url(#clip322)\" style=\"stroke:#000000; stroke-linecap:round; stroke-linejoin:round; stroke-width:2; stroke-opacity:0.1; fill:none\" points=\"210.977,405.474 2352.76,405.474 \"/>\n",
       "<polyline clip-path=\"url(#clip322)\" style=\"stroke:#000000; stroke-linecap:round; stroke-linejoin:round; stroke-width:2; stroke-opacity:0.1; fill:none\" points=\"210.977,160.256 2352.76,160.256 \"/>\n",
       "<polyline clip-path=\"url(#clip320)\" style=\"stroke:#000000; stroke-linecap:round; stroke-linejoin:round; stroke-width:4; stroke-opacity:1; fill:none\" points=\"210.977,1423.18 210.977,123.472 \"/>\n",
       "<polyline clip-path=\"url(#clip320)\" style=\"stroke:#000000; stroke-linecap:round; stroke-linejoin:round; stroke-width:4; stroke-opacity:1; fill:none\" points=\"210.977,1386.35 229.875,1386.35 \"/>\n",
       "<polyline clip-path=\"url(#clip320)\" style=\"stroke:#000000; stroke-linecap:round; stroke-linejoin:round; stroke-width:4; stroke-opacity:1; fill:none\" points=\"210.977,1141.13 229.875,1141.13 \"/>\n",
       "<polyline clip-path=\"url(#clip320)\" style=\"stroke:#000000; stroke-linecap:round; stroke-linejoin:round; stroke-width:4; stroke-opacity:1; fill:none\" points=\"210.977,895.911 229.875,895.911 \"/>\n",
       "<polyline clip-path=\"url(#clip320)\" style=\"stroke:#000000; stroke-linecap:round; stroke-linejoin:round; stroke-width:4; stroke-opacity:1; fill:none\" points=\"210.977,650.693 229.875,650.693 \"/>\n",
       "<polyline clip-path=\"url(#clip320)\" style=\"stroke:#000000; stroke-linecap:round; stroke-linejoin:round; stroke-width:4; stroke-opacity:1; fill:none\" points=\"210.977,405.474 229.875,405.474 \"/>\n",
       "<polyline clip-path=\"url(#clip320)\" style=\"stroke:#000000; stroke-linecap:round; stroke-linejoin:round; stroke-width:4; stroke-opacity:1; fill:none\" points=\"210.977,160.256 229.875,160.256 \"/>\n",
       "<path clip-path=\"url(#clip320)\" d=\"M114.26 1386.8 L143.936 1386.8 L143.936 1390.73 L114.26 1390.73 L114.26 1386.8 Z\" fill=\"#000000\" fill-rule=\"evenodd\" fill-opacity=\"1\" /><path clip-path=\"url(#clip320)\" d=\"M154.075 1369.07 L172.431 1369.07 L172.431 1373 L158.357 1373 L158.357 1381.47 Q159.376 1381.13 160.394 1380.97 Q161.413 1380.78 162.431 1380.78 Q168.218 1380.78 171.598 1383.95 Q174.977 1387.12 174.977 1392.54 Q174.977 1398.12 171.505 1401.22 Q168.033 1404.3 161.714 1404.3 Q159.538 1404.3 157.269 1403.93 Q155.024 1403.56 152.616 1402.82 L152.616 1398.12 Q154.7 1399.25 156.922 1399.81 Q159.144 1400.36 161.621 1400.36 Q165.626 1400.36 167.964 1398.26 Q170.302 1396.15 170.302 1392.54 Q170.302 1388.93 167.964 1386.82 Q165.626 1384.72 161.621 1384.72 Q159.746 1384.72 157.871 1385.13 Q156.019 1385.55 154.075 1386.43 L154.075 1369.07 Z\" fill=\"#000000\" fill-rule=\"evenodd\" fill-opacity=\"1\" /><path clip-path=\"url(#clip320)\" d=\"M163.033 1126.93 Q159.422 1126.93 157.593 1130.49 Q155.788 1134.03 155.788 1141.16 Q155.788 1148.27 157.593 1151.83 Q159.422 1155.38 163.033 1155.38 Q166.667 1155.38 168.473 1151.83 Q170.302 1148.27 170.302 1141.16 Q170.302 1134.03 168.473 1130.49 Q166.667 1126.93 163.033 1126.93 M163.033 1123.22 Q168.843 1123.22 171.899 1127.83 Q174.977 1132.41 174.977 1141.16 Q174.977 1149.89 171.899 1154.5 Q168.843 1159.08 163.033 1159.08 Q157.223 1159.08 154.144 1154.5 Q151.089 1149.89 151.089 1141.16 Q151.089 1132.41 154.144 1127.83 Q157.223 1123.22 163.033 1123.22 Z\" fill=\"#000000\" fill-rule=\"evenodd\" fill-opacity=\"1\" /><path clip-path=\"url(#clip320)\" d=\"M154.075 878.631 L172.431 878.631 L172.431 882.566 L158.357 882.566 L158.357 891.038 Q159.376 890.691 160.394 890.529 Q161.413 890.344 162.431 890.344 Q168.218 890.344 171.598 893.515 Q174.977 896.686 174.977 902.103 Q174.977 907.682 171.505 910.783 Q168.033 913.862 161.714 913.862 Q159.538 913.862 157.269 913.492 Q155.024 913.121 152.616 912.381 L152.616 907.682 Q154.7 908.816 156.922 909.371 Q159.144 909.927 161.621 909.927 Q165.626 909.927 167.964 907.82 Q170.302 905.714 170.302 902.103 Q170.302 898.492 167.964 896.385 Q165.626 894.279 161.621 894.279 Q159.746 894.279 157.871 894.696 Q156.019 895.112 154.075 895.992 L154.075 878.631 Z\" fill=\"#000000\" fill-rule=\"evenodd\" fill-opacity=\"1\" /><path clip-path=\"url(#clip320)\" d=\"M123.681 664.037 L131.32 664.037 L131.32 637.672 L123.01 639.339 L123.01 635.079 L131.274 633.413 L135.95 633.413 L135.95 664.037 L143.589 664.037 L143.589 667.973 L123.681 667.973 L123.681 664.037 Z\" fill=\"#000000\" fill-rule=\"evenodd\" fill-opacity=\"1\" /><path clip-path=\"url(#clip320)\" d=\"M163.033 636.491 Q159.422 636.491 157.593 640.056 Q155.788 643.598 155.788 650.727 Q155.788 657.834 157.593 661.399 Q159.422 664.94 163.033 664.94 Q166.667 664.94 168.473 661.399 Q170.302 657.834 170.302 650.727 Q170.302 643.598 168.473 640.056 Q166.667 636.491 163.033 636.491 M163.033 632.788 Q168.843 632.788 171.899 637.394 Q174.977 641.977 174.977 650.727 Q174.977 659.454 171.899 664.061 Q168.843 668.644 163.033 668.644 Q157.223 668.644 154.144 664.061 Q151.089 659.454 151.089 650.727 Q151.089 641.977 154.144 637.394 Q157.223 632.788 163.033 632.788 Z\" fill=\"#000000\" fill-rule=\"evenodd\" fill-opacity=\"1\" /><path clip-path=\"url(#clip320)\" d=\"M124.677 418.819 L132.316 418.819 L132.316 392.454 L124.005 394.12 L124.005 389.861 L132.269 388.194 L136.945 388.194 L136.945 418.819 L144.584 418.819 L144.584 422.754 L124.677 422.754 L124.677 418.819 Z\" fill=\"#000000\" fill-rule=\"evenodd\" fill-opacity=\"1\" /><path clip-path=\"url(#clip320)\" d=\"M154.075 388.194 L172.431 388.194 L172.431 392.13 L158.357 392.13 L158.357 400.602 Q159.376 400.255 160.394 400.093 Q161.413 399.907 162.431 399.907 Q168.218 399.907 171.598 403.079 Q174.977 406.25 174.977 411.667 Q174.977 417.245 171.505 420.347 Q168.033 423.426 161.714 423.426 Q159.538 423.426 157.269 423.055 Q155.024 422.685 152.616 421.944 L152.616 417.245 Q154.7 418.38 156.922 418.935 Q159.144 419.491 161.621 419.491 Q165.626 419.491 167.964 417.384 Q170.302 415.278 170.302 411.667 Q170.302 408.055 167.964 405.949 Q165.626 403.843 161.621 403.843 Q159.746 403.843 157.871 404.259 Q156.019 404.676 154.075 405.555 L154.075 388.194 Z\" fill=\"#000000\" fill-rule=\"evenodd\" fill-opacity=\"1\" /><path clip-path=\"url(#clip320)\" d=\"M126.899 173.601 L143.218 173.601 L143.218 177.536 L121.274 177.536 L121.274 173.601 Q123.936 170.847 128.519 166.217 Q133.126 161.564 134.306 160.222 Q136.552 157.698 137.431 155.962 Q138.334 154.203 138.334 152.513 Q138.334 149.759 136.39 148.023 Q134.468 146.286 131.367 146.286 Q129.167 146.286 126.714 147.05 Q124.283 147.814 121.505 149.365 L121.505 144.643 Q124.33 143.509 126.783 142.93 Q129.237 142.351 131.274 142.351 Q136.644 142.351 139.839 145.036 Q143.033 147.722 143.033 152.212 Q143.033 154.342 142.223 156.263 Q141.436 158.161 139.329 160.754 Q138.751 161.425 135.649 164.643 Q132.547 167.837 126.899 173.601 Z\" fill=\"#000000\" fill-rule=\"evenodd\" fill-opacity=\"1\" /><path clip-path=\"url(#clip320)\" d=\"M163.033 146.055 Q159.422 146.055 157.593 149.62 Q155.788 153.161 155.788 160.291 Q155.788 167.397 157.593 170.962 Q159.422 174.504 163.033 174.504 Q166.667 174.504 168.473 170.962 Q170.302 167.397 170.302 160.291 Q170.302 153.161 168.473 149.62 Q166.667 146.055 163.033 146.055 M163.033 142.351 Q168.843 142.351 171.899 146.958 Q174.977 151.541 174.977 160.291 Q174.977 169.018 171.899 173.624 Q168.843 178.208 163.033 178.208 Q157.223 178.208 154.144 173.624 Q151.089 169.018 151.089 160.291 Q151.089 151.541 154.144 146.958 Q157.223 142.351 163.033 142.351 Z\" fill=\"#000000\" fill-rule=\"evenodd\" fill-opacity=\"1\" /><path clip-path=\"url(#clip320)\" d=\"M28.3562 756.711 L45.7028 769.602 L64.0042 756.043 L64.0042 762.95 L49.9996 773.326 L64.0042 783.702 L64.0042 790.609 L45.3526 776.763 L28.3562 789.431 L28.3562 782.524 L41.0558 773.071 L28.3562 763.618 L28.3562 756.711 Z\" fill=\"#000000\" fill-rule=\"evenodd\" fill-opacity=\"1\" /><path clip-path=\"url(#clip320)\" d=\"M1054.21 14.0809 L1054.21 22.0612 Q1049.55 19.8332 1045.42 18.7395 Q1041.28 17.6457 1037.44 17.6457 Q1030.75 17.6457 1027.11 20.2383 Q1023.5 22.8309 1023.5 27.611 Q1023.5 31.6214 1025.89 33.6873 Q1028.32 35.7128 1035.05 36.9686 L1039.99 37.9813 Q1049.14 39.7232 1053.48 44.1387 Q1057.85 48.5136 1057.85 55.8863 Q1057.85 64.6767 1051.94 69.2137 Q1046.06 73.7508 1034.68 73.7508 Q1030.39 73.7508 1025.53 72.7785 Q1020.7 71.8063 1015.52 69.9024 L1015.52 61.4765 Q1020.5 64.2716 1025.28 65.6895 Q1030.06 67.1073 1034.68 67.1073 Q1041.69 67.1073 1045.5 64.3527 Q1049.3 61.598 1049.3 56.4939 Q1049.3 52.0379 1046.55 49.5264 Q1043.84 47.0148 1037.6 45.759 L1032.61 44.7868 Q1023.46 42.9639 1019.37 39.075 Q1015.28 35.1862 1015.28 28.2591 Q1015.28 20.2383 1020.91 15.6203 Q1026.58 11.0023 1036.5 11.0023 Q1040.76 11.0023 1045.17 11.7719 Q1049.59 12.5416 1054.21 14.0809 Z\" fill=\"#000000\" fill-rule=\"evenodd\" fill-opacity=\"1\" /><path clip-path=\"url(#clip320)\" d=\"M1077.66 14.324 L1077.66 27.2059 L1093.01 27.2059 L1093.01 32.9987 L1077.66 32.9987 L1077.66 57.6282 Q1077.66 63.1779 1079.16 64.7578 Q1080.7 66.3376 1085.36 66.3376 L1093.01 66.3376 L1093.01 72.576 L1085.36 72.576 Q1076.73 72.576 1073.45 69.3758 Q1070.17 66.1351 1070.17 57.6282 L1070.17 32.9987 L1064.7 32.9987 L1064.7 27.2059 L1070.17 27.2059 L1070.17 14.324 L1077.66 14.324 Z\" fill=\"#000000\" fill-rule=\"evenodd\" fill-opacity=\"1\" /><path clip-path=\"url(#clip320)\" d=\"M1123.44 49.7694 Q1114.4 49.7694 1110.92 51.8354 Q1107.43 53.9013 1107.43 58.8839 Q1107.43 62.8538 1110.03 65.2034 Q1112.66 67.5124 1117.16 67.5124 Q1123.35 67.5124 1127.08 63.1374 Q1130.85 58.7219 1130.85 51.4303 L1130.85 49.7694 L1123.44 49.7694 M1138.3 46.6907 L1138.3 72.576 L1130.85 72.576 L1130.85 65.6895 Q1128.3 69.8214 1124.49 71.8063 Q1120.68 73.7508 1115.17 73.7508 Q1108.2 73.7508 1104.07 69.8619 Q1099.98 65.9325 1099.98 59.3701 Q1099.98 51.7138 1105.09 47.825 Q1110.23 43.9361 1120.4 43.9361 L1130.85 43.9361 L1130.85 43.2069 Q1130.85 38.0623 1127.45 35.2672 Q1124.08 32.4315 1117.97 32.4315 Q1114.08 32.4315 1110.39 33.3632 Q1106.71 34.295 1103.3 36.1584 L1103.3 29.2718 Q1107.39 27.692 1111.24 26.9223 Q1115.09 26.1121 1118.74 26.1121 Q1128.58 26.1121 1133.44 31.2163 Q1138.3 36.3204 1138.3 46.6907 Z\" fill=\"#000000\" fill-rule=\"evenodd\" fill-opacity=\"1\" /><path clip-path=\"url(#clip320)\" d=\"M1161.03 14.324 L1161.03 27.2059 L1176.38 27.2059 L1176.38 32.9987 L1161.03 32.9987 L1161.03 57.6282 Q1161.03 63.1779 1162.53 64.7578 Q1164.07 66.3376 1168.72 66.3376 L1176.38 66.3376 L1176.38 72.576 L1168.72 72.576 Q1160.1 72.576 1156.82 69.3758 Q1153.53 66.1351 1153.53 57.6282 L1153.53 32.9987 L1148.07 32.9987 L1148.07 27.2059 L1153.53 27.2059 L1153.53 14.324 L1161.03 14.324 Z\" fill=\"#000000\" fill-rule=\"evenodd\" fill-opacity=\"1\" /><path clip-path=\"url(#clip320)\" d=\"M1224.99 48.0275 L1224.99 51.6733 L1190.72 51.6733 Q1191.21 59.3701 1195.34 63.421 Q1199.51 67.4314 1206.92 67.4314 Q1211.22 67.4314 1215.23 66.3781 Q1219.28 65.3249 1223.25 63.2184 L1223.25 70.267 Q1219.24 71.9684 1215.03 72.8596 Q1210.81 73.7508 1206.48 73.7508 Q1195.62 73.7508 1189.26 67.4314 Q1182.94 61.1119 1182.94 50.3365 Q1182.94 39.1965 1188.94 32.6746 Q1194.97 26.1121 1205.18 26.1121 Q1214.34 26.1121 1219.64 32.0264 Q1224.99 37.9003 1224.99 48.0275 M1217.54 45.84 Q1217.46 39.7232 1214.1 36.0774 Q1210.77 32.4315 1205.26 32.4315 Q1199.03 32.4315 1195.26 35.9558 Q1191.53 39.4801 1190.96 45.8805 L1217.54 45.84 Z\" fill=\"#000000\" fill-rule=\"evenodd\" fill-opacity=\"1\" /><path clip-path=\"url(#clip320)\" d=\"M1263.92 12.096 L1272.1 12.096 L1272.1 36.8875 L1301.84 36.8875 L1301.84 12.096 L1310.02 12.096 L1310.02 72.576 L1301.84 72.576 L1301.84 43.7741 L1272.1 43.7741 L1272.1 72.576 L1263.92 72.576 L1263.92 12.096 Z\" fill=\"#000000\" fill-rule=\"evenodd\" fill-opacity=\"1\" /><path clip-path=\"url(#clip320)\" d=\"M1325.98 27.2059 L1333.43 27.2059 L1333.43 72.576 L1325.98 72.576 L1325.98 27.2059 M1325.98 9.54393 L1333.43 9.54393 L1333.43 18.9825 L1325.98 18.9825 L1325.98 9.54393 Z\" fill=\"#000000\" fill-rule=\"evenodd\" fill-opacity=\"1\" /><path clip-path=\"url(#clip320)\" d=\"M1377.95 28.5427 L1377.95 35.5912 Q1374.79 33.9709 1371.39 33.1607 Q1367.99 32.3505 1364.34 32.3505 Q1358.79 32.3505 1356 34.0519 Q1353.24 35.7533 1353.24 39.156 Q1353.24 41.7486 1355.23 43.2475 Q1357.21 44.7058 1363.21 46.0426 L1365.76 46.6097 Q1373.7 48.3111 1377.02 51.4303 Q1380.38 54.509 1380.38 60.0587 Q1380.38 66.3781 1375.36 70.0644 Q1370.38 73.7508 1361.63 73.7508 Q1357.98 73.7508 1354.01 73.0216 Q1350.08 72.3329 1345.71 70.9151 L1345.71 63.2184 Q1349.84 65.3654 1353.85 66.4591 Q1357.86 67.5124 1361.79 67.5124 Q1367.06 67.5124 1369.89 65.73 Q1372.73 63.9071 1372.73 60.6258 Q1372.73 57.5877 1370.66 55.9673 Q1368.64 54.3469 1361.71 52.8481 L1359.12 52.2405 Q1352.19 50.7821 1349.11 47.7845 Q1346.03 44.7463 1346.03 39.4801 Q1346.03 33.0797 1350.57 29.5959 Q1355.11 26.1121 1363.45 26.1121 Q1367.58 26.1121 1371.23 26.7198 Q1374.88 27.3274 1377.95 28.5427 Z\" fill=\"#000000\" fill-rule=\"evenodd\" fill-opacity=\"1\" /><path clip-path=\"url(#clip320)\" d=\"M1399.63 14.324 L1399.63 27.2059 L1414.98 27.2059 L1414.98 32.9987 L1399.63 32.9987 L1399.63 57.6282 Q1399.63 63.1779 1401.13 64.7578 Q1402.66 66.3376 1407.32 66.3376 L1414.98 66.3376 L1414.98 72.576 L1407.32 72.576 Q1398.69 72.576 1395.41 69.3758 Q1392.13 66.1351 1392.13 57.6282 L1392.13 32.9987 L1386.66 32.9987 L1386.66 27.2059 L1392.13 27.2059 L1392.13 14.324 L1399.63 14.324 Z\" fill=\"#000000\" fill-rule=\"evenodd\" fill-opacity=\"1\" /><path clip-path=\"url(#clip320)\" d=\"M1442.36 32.4315 Q1436.37 32.4315 1432.88 37.1306 Q1429.4 41.7891 1429.4 49.9314 Q1429.4 58.0738 1432.84 62.7728 Q1436.33 67.4314 1442.36 67.4314 Q1448.32 67.4314 1451.8 62.7323 Q1455.29 58.0333 1455.29 49.9314 Q1455.29 41.8701 1451.8 37.1711 Q1448.32 32.4315 1442.36 32.4315 M1442.36 26.1121 Q1452.09 26.1121 1457.64 32.4315 Q1463.19 38.7509 1463.19 49.9314 Q1463.19 61.0714 1457.64 67.4314 Q1452.09 73.7508 1442.36 73.7508 Q1432.6 73.7508 1427.05 67.4314 Q1421.54 61.0714 1421.54 49.9314 Q1421.54 38.7509 1427.05 32.4315 Q1432.6 26.1121 1442.36 26.1121 Z\" fill=\"#000000\" fill-rule=\"evenodd\" fill-opacity=\"1\" /><path clip-path=\"url(#clip320)\" d=\"M1501.83 34.1734 Q1500.57 33.4443 1499.08 33.1202 Q1497.62 32.7556 1495.84 32.7556 Q1489.52 32.7556 1486.11 36.8875 Q1482.75 40.9789 1482.75 48.6757 L1482.75 72.576 L1475.26 72.576 L1475.26 27.2059 L1482.75 27.2059 L1482.75 34.2544 Q1485.1 30.1225 1488.87 28.1376 Q1492.64 26.1121 1498.02 26.1121 Q1498.79 26.1121 1499.72 26.2337 Q1500.66 26.3147 1501.79 26.5172 L1501.83 34.1734 Z\" fill=\"#000000\" fill-rule=\"evenodd\" fill-opacity=\"1\" /><path clip-path=\"url(#clip320)\" d=\"M1528.53 76.7889 Q1525.37 84.8907 1522.37 87.3618 Q1519.37 89.8329 1514.35 89.8329 L1508.39 89.8329 L1508.39 83.5945 L1512.77 83.5945 Q1515.85 83.5945 1517.55 82.1361 Q1519.25 80.6778 1521.32 75.2496 L1522.65 71.8468 L1504.3 27.2059 L1512.2 27.2059 L1526.38 62.6918 L1540.56 27.2059 L1548.46 27.2059 L1528.53 76.7889 Z\" fill=\"#000000\" fill-rule=\"evenodd\" fill-opacity=\"1\" /><polyline clip-path=\"url(#clip322)\" style=\"stroke:#009af9; stroke-linecap:round; stroke-linejoin:round; stroke-width:4; stroke-opacity:1; fill:none\" points=\"271.594,944.954 288.432,952.23 305.27,959.343 322.107,966.296 338.945,973.091 355.783,979.729 372.621,986.212 389.459,992.541 406.297,998.719 423.135,1004.75 439.973,1010.63 456.81,1016.36 473.648,1021.95 490.486,1027.39 507.324,1032.7 524.162,1037.86 541,1042.89 557.838,1047.78 574.676,1052.53 591.514,1057.15 608.351,1061.64 625.189,1066.01 642.027,1070.24 658.865,1074.35 675.703,1078.33 692.541,1082.19 709.379,1085.93 726.217,1089.55 743.054,1093.05 759.892,1096.44 776.73,1099.71 793.568,1102.88 810.406,1105.93 827.244,1108.87 844.082,1111.7 860.92,1114.43 877.758,1117.05 894.595,1119.57 911.433,1122 928.271,1124.32 945.109,1126.54 961.947,1128.68 978.785,1130.71 995.623,1132.66 1012.46,1134.51 1029.3,1136.28 1046.14,1137.96 1062.97,1139.55 1079.81,1141.06 1096.65,1142.49 1113.49,1143.84 1130.33,1145.11 1147.16,1146.31 1164,1147.43 1180.84,1148.48 1197.68,1149.45 1214.52,1150.36 1231.35,1151.19 1248.19,1151.97 1265.03,1152.67 1281.87,1153.32 1298.7,1153.9 1315.54,1154.42 1332.38,1154.89 1349.22,1155.3 1366.06,1155.65 1382.89,1155.95 1399.73,1156.2 1416.57,1156.4 1433.41,1156.56 1450.25,1156.67 1467.08,1156.73 1483.92,1156.75 1500.76,1156.73 1517.6,1156.68 1534.43,1156.58 1551.27,1156.45 1568.11,1156.28 1584.95,1156.09 1601.79,1155.86 1618.62,1155.6 1635.46,1155.32 1652.3,1155.01 1669.14,1154.67 1685.98,1154.32 1702.81,1153.94 1719.65,1153.55 1736.49,1153.13 1753.33,1152.71 1770.17,1152.27 1787,1151.81 1803.84,1151.35 1820.68,1150.88 1837.52,1150.4 1854.35,1149.92 1871.19,1149.43 1888.03,1148.94 1904.87,1148.46 1921.71,1147.97 1938.54,1147.49 1955.38,1147.01 1972.22,1146.54 1989.06,1146.07 2005.9,1145.62 2022.73,1145.18 2039.57,1144.75 2056.41,1144.34 2073.25,1143.95 2090.08,1143.57 2106.92,1143.22 2123.76,1142.88 2140.6,1142.57 2157.44,1142.29 2174.27,1142.03 2191.11,1141.8 2207.95,1141.6 2224.79,1141.44 2241.63,1141.3 2258.46,1141.21 2275.3,1141.15 2292.14,1141.13 \"/>\n",
       "<polyline clip-path=\"url(#clip322)\" style=\"stroke:#e26f46; stroke-linecap:round; stroke-linejoin:round; stroke-width:4; stroke-opacity:1; fill:none\" points=\"271.594,1043.04 288.432,1038.24 305.27,1033.64 322.107,1029.24 338.945,1025.04 355.783,1021.03 372.621,1017.21 389.459,1013.59 406.297,1010.14 423.135,1006.89 439.973,1003.81 456.81,1000.91 473.648,998.183 490.486,995.63 507.324,993.246 524.162,991.029 541,988.976 557.838,987.083 574.676,985.349 591.514,983.771 608.351,982.345 625.189,981.069 642.027,979.941 658.865,978.957 675.703,978.114 692.541,977.411 709.379,976.843 726.217,976.409 743.054,976.106 759.892,975.931 776.73,975.88 793.568,975.952 810.406,976.144 827.244,976.453 844.082,976.876 860.92,977.41 877.758,978.052 894.595,978.801 911.433,979.653 928.271,980.605 945.109,981.655 961.947,982.8 978.785,984.037 995.623,985.364 1012.46,986.777 1029.3,988.274 1046.14,989.852 1062.97,991.509 1079.81,993.242 1096.65,995.048 1113.49,996.924 1130.33,998.868 1147.16,1000.88 1164,1002.95 1180.84,1005.08 1197.68,1007.26 1214.52,1009.51 1231.35,1011.8 1248.19,1014.14 1265.03,1016.52 1281.87,1018.95 1298.7,1021.42 1315.54,1023.93 1332.38,1026.47 1349.22,1029.05 1366.06,1031.65 1382.89,1034.28 1399.73,1036.94 1416.57,1039.62 1433.41,1042.31 1450.25,1045.02 1467.08,1047.75 1483.92,1050.48 1500.76,1053.22 1517.6,1055.97 1534.43,1058.72 1551.27,1061.47 1568.11,1064.22 1584.95,1066.96 1601.79,1069.69 1618.62,1072.42 1635.46,1075.12 1652.3,1077.81 1669.14,1080.49 1685.98,1083.14 1702.81,1085.76 1719.65,1088.36 1736.49,1090.93 1753.33,1093.46 1770.17,1095.96 1787,1098.43 1803.84,1100.85 1820.68,1103.22 1837.52,1105.56 1854.35,1107.84 1871.19,1110.07 1888.03,1112.24 1904.87,1114.36 1921.71,1116.42 1938.54,1118.42 1955.38,1120.35 1972.22,1122.21 1989.06,1124.01 2005.9,1125.73 2022.73,1127.37 2039.57,1128.93 2056.41,1130.42 2073.25,1131.82 2090.08,1133.13 2106.92,1134.35 2123.76,1135.48 2140.6,1136.52 2157.44,1137.46 2174.27,1138.3 2191.11,1139.03 2207.95,1139.66 2224.79,1140.18 2241.63,1140.59 2258.46,1140.89 2275.3,1141.07 2292.14,1141.13 \"/>\n",
       "<polyline clip-path=\"url(#clip322)\" style=\"stroke:#3da44d; stroke-linecap:round; stroke-linejoin:round; stroke-width:4; stroke-opacity:1; fill:none\" points=\"271.594,160.256 288.432,172.518 305.27,184.781 322.107,197.044 338.945,209.304 355.783,221.559 372.621,233.809 389.459,246.049 406.297,258.28 423.135,270.499 439.973,282.704 456.81,294.893 473.648,307.065 490.486,319.218 507.324,331.349 524.162,343.457 541,355.54 557.838,367.597 574.676,379.625 591.514,391.623 608.351,403.588 625.189,415.52 642.027,427.416 658.865,439.274 675.703,451.093 692.541,462.871 709.379,474.606 726.217,486.297 743.054,497.94 759.892,509.536 776.73,521.082 793.568,532.576 810.406,544.016 827.244,555.401 844.082,566.729 860.92,577.999 877.758,589.208 894.595,600.354 911.433,611.437 928.271,622.454 945.109,633.403 961.947,644.283 978.785,655.092 995.623,665.829 1012.46,676.491 1029.3,687.078 1046.14,697.586 1062.97,708.015 1079.81,718.363 1096.65,728.627 1113.49,738.808 1130.33,748.901 1147.16,758.907 1164,768.823 1180.84,778.648 1197.68,788.379 1214.52,798.016 1231.35,807.556 1248.19,816.998 1265.03,826.34 1281.87,835.581 1298.7,844.718 1315.54,853.751 1332.38,862.677 1349.22,871.494 1366.06,880.202 1382.89,888.798 1399.73,897.281 1416.57,905.649 1433.41,913.9 1450.25,922.033 1467.08,930.045 1483.92,937.937 1500.76,945.704 1517.6,953.347 1534.43,960.864 1551.27,968.252 1568.11,975.51 1584.95,982.636 1601.79,989.629 1618.62,996.487 1635.46,1003.21 1652.3,1009.79 1669.14,1016.24 1685.98,1022.54 1702.81,1028.7 1719.65,1034.71 1736.49,1040.58 1753.33,1046.3 1770.17,1051.86 1787,1057.28 1803.84,1062.55 1820.68,1067.66 1837.52,1072.61 1854.35,1077.4 1871.19,1082.04 1888.03,1086.51 1904.87,1090.82 1921.71,1094.97 1938.54,1098.95 1955.38,1102.76 1972.22,1106.4 1989.06,1109.87 2005.9,1113.17 2022.73,1116.29 2039.57,1119.23 2056.41,1122 2073.25,1124.59 2090.08,1127 2106.92,1129.22 2123.76,1131.26 2140.6,1133.11 2157.44,1134.78 2174.27,1136.25 2191.11,1137.54 2207.95,1138.63 2224.79,1139.52 2241.63,1140.22 2258.46,1140.73 2275.3,1141.03 2292.14,1141.13 \"/>\n",
       "<polyline clip-path=\"url(#clip322)\" style=\"stroke:#c271d2; stroke-linecap:round; stroke-linejoin:round; stroke-width:4; stroke-opacity:1; fill:none\" stroke-dasharray=\"16, 10\" points=\"271.594,1288.26 288.432,1285.01 305.27,1281.79 322.107,1278.6 338.945,1275.45 355.783,1272.33 372.621,1269.24 389.459,1266.19 406.297,1263.18 423.135,1260.2 439.973,1257.25 456.81,1254.33 473.648,1251.45 490.486,1248.61 507.324,1245.8 524.162,1243.02 541,1240.28 557.838,1237.57 574.676,1234.89 591.514,1232.25 608.351,1229.65 625.189,1227.07 642.027,1224.53 658.865,1222.03 675.703,1219.56 692.541,1217.12 709.379,1214.72 726.217,1212.35 743.054,1210.02 759.892,1207.72 776.73,1205.46 793.568,1203.23 810.406,1201.03 827.244,1198.87 844.082,1196.74 860.92,1194.64 877.758,1192.58 894.595,1190.56 911.433,1188.57 928.271,1186.61 945.109,1184.69 961.947,1182.8 978.785,1180.94 995.623,1179.12 1012.46,1177.33 1029.3,1175.58 1046.14,1173.86 1062.97,1172.18 1079.81,1170.53 1096.65,1168.91 1113.49,1167.33 1130.33,1165.78 1147.16,1164.27 1164,1162.79 1180.84,1161.34 1197.68,1159.93 1214.52,1158.55 1231.35,1157.21 1248.19,1155.9 1265.03,1154.62 1281.87,1153.38 1298.7,1152.18 1315.54,1151 1332.38,1149.86 1349.22,1148.76 1366.06,1147.69 1382.89,1146.65 1399.73,1145.65 1416.57,1144.68 1433.41,1143.74 1450.25,1142.84 1467.08,1141.98 1483.92,1141.14 1500.76,1140.35 1517.6,1139.58 1534.43,1138.85 1551.27,1138.15 1568.11,1137.49 1584.95,1136.86 1601.79,1136.27 1618.62,1135.71 1635.46,1135.18 1652.3,1134.69 1669.14,1134.23 1685.98,1133.8 1702.81,1133.41 1719.65,1133.06 1736.49,1132.73 1753.33,1132.44 1770.17,1132.19 1787,1131.97 1803.84,1131.78 1820.68,1131.63 1837.52,1131.51 1854.35,1131.42 1871.19,1131.37 1888.03,1131.36 1904.87,1131.37 1921.71,1131.42 1938.54,1131.51 1955.38,1131.63 1972.22,1131.78 1989.06,1131.97 2005.9,1132.19 2022.73,1132.44 2039.57,1132.73 2056.41,1133.05 2073.25,1133.41 2090.08,1133.8 2106.92,1134.22 2123.76,1134.68 2140.6,1135.17 2157.44,1135.7 2174.27,1136.26 2191.11,1136.85 2207.95,1137.48 2224.79,1138.14 2241.63,1138.84 2258.46,1139.57 2275.3,1140.33 2292.14,1141.13 \"/>\n",
       "<polyline clip-path=\"url(#clip322)\" style=\"stroke:#ac8d18; stroke-linecap:round; stroke-linejoin:round; stroke-width:4; stroke-opacity:1; fill:none\" stroke-dasharray=\"16, 10\" points=\"271.594,1043.04 288.432,1047.12 305.27,1051.15 322.107,1055.12 338.945,1059.04 355.783,1062.9 372.621,1066.7 389.459,1070.45 406.297,1074.14 423.135,1077.78 439.973,1081.36 456.81,1084.89 473.648,1088.36 490.486,1091.78 507.324,1095.13 524.162,1098.44 541,1101.69 557.838,1104.88 574.676,1108.02 591.514,1111.1 608.351,1114.13 625.189,1117.1 642.027,1120.02 658.865,1122.88 675.703,1125.68 692.541,1128.43 709.379,1131.13 726.217,1133.77 743.054,1136.36 759.892,1138.89 776.73,1141.36 793.568,1143.78 810.406,1146.15 827.244,1148.46 844.082,1150.71 860.92,1152.91 877.758,1155.06 894.595,1157.15 911.433,1159.18 928.271,1161.16 945.109,1163.09 961.947,1164.96 978.785,1166.78 995.623,1168.54 1012.46,1170.25 1029.3,1171.9 1046.14,1173.5 1062.97,1175.04 1079.81,1176.53 1096.65,1177.96 1113.49,1179.34 1130.33,1180.67 1147.16,1181.94 1164,1183.15 1180.84,1184.31 1197.68,1185.42 1214.52,1186.47 1231.35,1187.47 1248.19,1188.41 1265.03,1189.3 1281.87,1190.14 1298.7,1190.92 1315.54,1191.64 1332.38,1192.32 1349.22,1192.93 1366.06,1193.5 1382.89,1194.01 1399.73,1194.46 1416.57,1194.86 1433.41,1195.21 1450.25,1195.5 1467.08,1195.74 1483.92,1195.92 1500.76,1196.05 1517.6,1196.12 1534.43,1196.15 1551.27,1196.11 1568.11,1196.03 1584.95,1195.88 1601.79,1195.69 1618.62,1195.44 1635.46,1195.13 1652.3,1194.78 1669.14,1194.37 1685.98,1193.9 1702.81,1193.38 1719.65,1192.81 1736.49,1192.18 1753.33,1191.49 1770.17,1190.76 1787,1189.97 1803.84,1189.12 1820.68,1188.23 1837.52,1187.27 1854.35,1186.27 1871.19,1185.21 1888.03,1184.09 1904.87,1182.92 1921.71,1181.7 1938.54,1180.42 1955.38,1179.09 1972.22,1177.71 1989.06,1176.27 2005.9,1174.78 2022.73,1173.23 2039.57,1171.63 2056.41,1169.97 2073.25,1168.27 2090.08,1166.5 2106.92,1164.69 2123.76,1162.81 2140.6,1160.89 2157.44,1158.91 2174.27,1156.88 2191.11,1154.79 2207.95,1152.65 2224.79,1150.45 2241.63,1148.2 2258.46,1145.9 2275.3,1143.54 2292.14,1141.13 \"/>\n",
       "<polyline clip-path=\"url(#clip322)\" style=\"stroke:#00a9ad; stroke-linecap:round; stroke-linejoin:round; stroke-width:4; stroke-opacity:1; fill:none\" stroke-dasharray=\"16, 10\" points=\"271.594,1386.35 288.432,1386.39 305.27,1386.4 322.107,1386.36 338.945,1386.29 355.783,1386.18 372.621,1386.04 389.459,1385.86 406.297,1385.63 423.135,1385.38 439.973,1385.08 456.81,1384.75 473.648,1384.38 490.486,1383.97 507.324,1383.53 524.162,1383.05 541,1382.54 557.838,1381.98 574.676,1381.4 591.514,1380.77 608.351,1380.11 625.189,1379.41 642.027,1378.68 658.865,1377.91 675.703,1377.11 692.541,1376.27 709.379,1375.39 726.217,1374.48 743.054,1373.53 759.892,1372.55 776.73,1371.53 793.568,1370.48 810.406,1369.39 827.244,1368.27 844.082,1367.11 860.92,1365.92 877.758,1364.69 894.595,1363.43 911.433,1362.13 928.271,1360.8 945.109,1359.43 961.947,1358.03 978.785,1356.6 995.623,1355.13 1012.46,1353.62 1029.3,1352.08 1046.14,1350.51 1062.97,1348.9 1079.81,1347.26 1096.65,1345.59 1113.49,1343.88 1130.33,1342.13 1147.16,1340.36 1164,1338.54 1180.84,1336.7 1197.68,1334.82 1214.52,1332.91 1231.35,1330.96 1248.19,1328.98 1265.03,1326.97 1281.87,1324.92 1298.7,1322.84 1315.54,1320.72 1332.38,1318.57 1349.22,1316.39 1366.06,1314.17 1382.89,1311.93 1399.73,1309.64 1416.57,1307.33 1433.41,1304.98 1450.25,1302.59 1467.08,1300.18 1483.92,1297.73 1500.76,1295.25 1517.6,1292.73 1534.43,1290.18 1551.27,1287.6 1568.11,1284.98 1584.95,1282.33 1601.79,1279.65 1618.62,1276.93 1635.46,1274.19 1652.3,1271.4 1669.14,1268.59 1685.98,1265.74 1702.81,1262.86 1719.65,1259.94 1736.49,1257 1753.33,1254.02 1770.17,1251 1787,1247.95 1803.84,1244.87 1820.68,1241.76 1837.52,1238.61 1854.35,1235.44 1871.19,1232.22 1888.03,1228.98 1904.87,1225.7 1921.71,1222.39 1938.54,1219.04 1955.38,1215.66 1972.22,1212.25 1989.06,1208.81 2005.9,1205.33 2022.73,1201.82 2039.57,1198.27 2056.41,1194.7 2073.25,1191.09 2090.08,1187.44 2106.92,1183.77 2123.76,1180.06 2140.6,1176.31 2157.44,1172.54 2174.27,1168.73 2191.11,1164.88 2207.95,1161.01 2224.79,1157.1 2241.63,1153.16 2258.46,1149.18 2275.3,1145.17 2292.14,1141.13 \"/>\n",
       "<path clip-path=\"url(#clip320)\" d=\"M2023.9 529.676 L2281.36 529.676 L2281.36 166.796 L2023.9 166.796  Z\" fill=\"#ffffff\" fill-rule=\"evenodd\" fill-opacity=\"1\"/>\n",
       "<polyline clip-path=\"url(#clip320)\" style=\"stroke:#000000; stroke-linecap:round; stroke-linejoin:round; stroke-width:4; stroke-opacity:1; fill:none\" points=\"2023.9,529.676 2281.36,529.676 2281.36,166.796 2023.9,166.796 2023.9,529.676 \"/>\n",
       "<polyline clip-path=\"url(#clip320)\" style=\"stroke:#009af9; stroke-linecap:round; stroke-linejoin:round; stroke-width:4; stroke-opacity:1; fill:none\" points=\"2047.7,218.636 2190.48,218.636 \"/>\n",
       "<path clip-path=\"url(#clip320)\" d=\"M2238.93 209.99 L2229.56 222.606 L2239.42 235.916 L2234.39 235.916 L2226.85 225.731 L2219.3 235.916 L2214.28 235.916 L2224.35 222.351 L2215.14 209.99 L2220.16 209.99 L2227.03 219.226 L2233.91 209.99 L2238.93 209.99 Z\" fill=\"#000000\" fill-rule=\"evenodd\" fill-opacity=\"1\" /><path clip-path=\"url(#clip320)\" d=\"M2244.58 233.369 L2249.3 233.369 L2249.3 219.226 L2244.14 220.175 L2244.14 217.49 L2249.46 216.587 L2252.64 216.587 L2252.64 233.369 L2257.38 233.369 L2257.38 235.916 L2244.58 235.916 L2244.58 233.369 Z\" fill=\"#000000\" fill-rule=\"evenodd\" fill-opacity=\"1\" /><polyline clip-path=\"url(#clip320)\" style=\"stroke:#e26f46; stroke-linecap:round; stroke-linejoin:round; stroke-width:4; stroke-opacity:1; fill:none\" points=\"2047.7,270.476 2190.48,270.476 \"/>\n",
       "<path clip-path=\"url(#clip320)\" d=\"M2238.93 261.83 L2229.56 274.446 L2239.42 287.756 L2234.39 287.756 L2226.85 277.571 L2219.3 287.756 L2214.28 287.756 L2224.35 274.191 L2215.14 261.83 L2220.16 261.83 L2227.03 271.066 L2233.91 261.83 L2238.93 261.83 Z\" fill=\"#000000\" fill-rule=\"evenodd\" fill-opacity=\"1\" /><path clip-path=\"url(#clip320)\" d=\"M2247.17 285.117 L2256.99 285.117 L2256.99 287.756 L2243.14 287.756 L2243.14 285.209 Q2243.93 284.492 2245.39 283.196 Q2253.35 276.135 2253.35 273.959 Q2253.35 272.432 2252.15 271.506 Q2250.95 270.557 2248.98 270.557 Q2247.77 270.557 2246.36 270.973 Q2244.95 271.367 2243.28 272.177 L2243.28 269.33 Q2245.07 268.682 2246.59 268.358 Q2248.14 268.034 2249.46 268.034 Q2252.82 268.034 2254.83 269.561 Q2256.85 271.089 2256.85 273.589 Q2256.85 276.807 2249.19 283.381 Q2247.89 284.492 2247.17 285.117 Z\" fill=\"#000000\" fill-rule=\"evenodd\" fill-opacity=\"1\" /><polyline clip-path=\"url(#clip320)\" style=\"stroke:#3da44d; stroke-linecap:round; stroke-linejoin:round; stroke-width:4; stroke-opacity:1; fill:none\" points=\"2047.7,322.316 2190.48,322.316 \"/>\n",
       "<path clip-path=\"url(#clip320)\" d=\"M2238.93 313.67 L2229.56 326.286 L2239.42 339.596 L2234.39 339.596 L2226.85 329.411 L2219.3 339.596 L2214.28 339.596 L2224.35 326.031 L2215.14 313.67 L2220.16 313.67 L2227.03 322.906 L2233.91 313.67 L2238.93 313.67 Z\" fill=\"#000000\" fill-rule=\"evenodd\" fill-opacity=\"1\" /><path clip-path=\"url(#clip320)\" d=\"M2253.1 329.133 Q2255.23 329.549 2256.39 330.823 Q2257.57 332.073 2257.57 333.971 Q2257.57 336.841 2255.37 338.392 Q2253.17 339.943 2249.07 339.943 Q2247.75 339.943 2246.29 339.688 Q2244.86 339.457 2243.24 338.994 L2243.24 336.193 Q2244.44 336.818 2245.81 337.119 Q2247.2 337.42 2248.75 337.42 Q2251.27 337.42 2252.66 336.517 Q2254.05 335.591 2254.05 333.971 Q2254.05 332.258 2252.75 331.378 Q2251.48 330.499 2248.98 330.499 L2246.99 330.499 L2246.99 327.999 L2249.16 327.999 Q2251.34 327.999 2252.45 327.281 Q2253.58 326.54 2253.58 325.151 Q2253.58 323.809 2252.43 323.114 Q2251.27 322.397 2249.07 322.397 Q2248.14 322.397 2246.96 322.605 Q2245.78 322.813 2243.91 323.346 L2243.91 320.684 Q2245.6 320.29 2247.08 320.082 Q2248.56 319.874 2249.83 319.874 Q2253.17 319.874 2255.11 321.239 Q2257.08 322.605 2257.08 324.897 Q2257.08 326.494 2256.04 327.605 Q2255 328.716 2253.1 329.133 Z\" fill=\"#000000\" fill-rule=\"evenodd\" fill-opacity=\"1\" /><polyline clip-path=\"url(#clip320)\" style=\"stroke:#c271d2; stroke-linecap:round; stroke-linejoin:round; stroke-width:4; stroke-opacity:1; fill:none\" stroke-dasharray=\"16, 10\" points=\"2047.7,374.156 2190.48,374.156 \"/>\n",
       "<path clip-path=\"url(#clip320)\" d=\"M2238.93 365.51 L2229.56 378.126 L2239.42 391.436 L2234.39 391.436 L2226.85 381.251 L2219.3 391.436 L2214.28 391.436 L2224.35 377.871 L2215.14 365.51 L2220.16 365.51 L2227.03 374.746 L2233.91 365.51 L2238.93 365.51 Z\" fill=\"#000000\" fill-rule=\"evenodd\" fill-opacity=\"1\" /><path clip-path=\"url(#clip320)\" d=\"M2226.94 355.417 L2231.2 355.417 L2231.2 360.811 L2226.94 360.811 L2226.94 355.417 M2229.12 364.885 L2229.12 364.885 Z\" fill=\"#000000\" fill-rule=\"evenodd\" fill-opacity=\"1\" /><path clip-path=\"url(#clip320)\" d=\"M2244.58 388.889 L2249.3 388.889 L2249.3 374.746 L2244.14 375.695 L2244.14 373.01 L2249.46 372.107 L2252.64 372.107 L2252.64 388.889 L2257.38 388.889 L2257.38 391.436 L2244.58 391.436 L2244.58 388.889 Z\" fill=\"#000000\" fill-rule=\"evenodd\" fill-opacity=\"1\" /><polyline clip-path=\"url(#clip320)\" style=\"stroke:#ac8d18; stroke-linecap:round; stroke-linejoin:round; stroke-width:4; stroke-opacity:1; fill:none\" stroke-dasharray=\"16, 10\" points=\"2047.7,425.996 2190.48,425.996 \"/>\n",
       "<path clip-path=\"url(#clip320)\" d=\"M2238.93 417.35 L2229.56 429.966 L2239.42 443.276 L2234.39 443.276 L2226.85 433.091 L2219.3 443.276 L2214.28 443.276 L2224.35 429.711 L2215.14 417.35 L2220.16 417.35 L2227.03 426.586 L2233.91 417.35 L2238.93 417.35 Z\" fill=\"#000000\" fill-rule=\"evenodd\" fill-opacity=\"1\" /><path clip-path=\"url(#clip320)\" d=\"M2226.94 407.257 L2231.2 407.257 L2231.2 412.651 L2226.94 412.651 L2226.94 407.257 M2229.12 416.725 L2229.12 416.725 Z\" fill=\"#000000\" fill-rule=\"evenodd\" fill-opacity=\"1\" /><path clip-path=\"url(#clip320)\" d=\"M2247.17 440.637 L2256.99 440.637 L2256.99 443.276 L2243.14 443.276 L2243.14 440.729 Q2243.93 440.012 2245.39 438.716 Q2253.35 431.655 2253.35 429.479 Q2253.35 427.952 2252.15 427.026 Q2250.95 426.077 2248.98 426.077 Q2247.77 426.077 2246.36 426.493 Q2244.95 426.887 2243.28 427.697 L2243.28 424.85 Q2245.07 424.202 2246.59 423.878 Q2248.14 423.554 2249.46 423.554 Q2252.82 423.554 2254.83 425.081 Q2256.85 426.609 2256.85 429.109 Q2256.85 432.327 2249.19 438.901 Q2247.89 440.012 2247.17 440.637 Z\" fill=\"#000000\" fill-rule=\"evenodd\" fill-opacity=\"1\" /><polyline clip-path=\"url(#clip320)\" style=\"stroke:#00a9ad; stroke-linecap:round; stroke-linejoin:round; stroke-width:4; stroke-opacity:1; fill:none\" stroke-dasharray=\"16, 10\" points=\"2047.7,477.836 2190.48,477.836 \"/>\n",
       "<path clip-path=\"url(#clip320)\" d=\"M2238.93 469.19 L2229.56 481.806 L2239.42 495.116 L2234.39 495.116 L2226.85 484.931 L2219.3 495.116 L2214.28 495.116 L2224.35 481.551 L2215.14 469.19 L2220.16 469.19 L2227.03 478.426 L2233.91 469.19 L2238.93 469.19 Z\" fill=\"#000000\" fill-rule=\"evenodd\" fill-opacity=\"1\" /><path clip-path=\"url(#clip320)\" d=\"M2226.94 459.097 L2231.2 459.097 L2231.2 464.491 L2226.94 464.491 L2226.94 459.097 M2229.12 468.565 L2229.12 468.565 Z\" fill=\"#000000\" fill-rule=\"evenodd\" fill-opacity=\"1\" /><path clip-path=\"url(#clip320)\" d=\"M2253.1 484.653 Q2255.23 485.069 2256.39 486.343 Q2257.57 487.593 2257.57 489.491 Q2257.57 492.361 2255.37 493.912 Q2253.17 495.463 2249.07 495.463 Q2247.75 495.463 2246.29 495.208 Q2244.86 494.977 2243.24 494.514 L2243.24 491.713 Q2244.44 492.338 2245.81 492.639 Q2247.2 492.94 2248.75 492.94 Q2251.27 492.94 2252.66 492.037 Q2254.05 491.111 2254.05 489.491 Q2254.05 487.778 2252.75 486.898 Q2251.48 486.019 2248.98 486.019 L2246.99 486.019 L2246.99 483.519 L2249.16 483.519 Q2251.34 483.519 2252.45 482.801 Q2253.58 482.06 2253.58 480.671 Q2253.58 479.329 2252.43 478.634 Q2251.27 477.917 2249.07 477.917 Q2248.14 477.917 2246.96 478.125 Q2245.78 478.333 2243.91 478.866 L2243.91 476.204 Q2245.6 475.81 2247.08 475.602 Q2248.56 475.394 2249.83 475.394 Q2253.17 475.394 2255.11 476.759 Q2257.08 478.125 2257.08 480.417 Q2257.08 482.014 2256.04 483.125 Q2255 484.236 2253.1 484.653 Z\" fill=\"#000000\" fill-rule=\"evenodd\" fill-opacity=\"1\" /></svg>\n"
      ]
     },
     "metadata": {},
     "output_type": "display_data"
    },
    {
     "data": {
      "image/svg+xml": [
       "<?xml version=\"1.0\" encoding=\"utf-8\"?>\n",
       "<svg xmlns=\"http://www.w3.org/2000/svg\" xmlns:xlink=\"http://www.w3.org/1999/xlink\" width=\"600\" height=\"400\" viewBox=\"0 0 2400 1600\">\n",
       "<defs>\n",
       "  <clipPath id=\"clip360\">\n",
       "    <rect x=\"0\" y=\"0\" width=\"2400\" height=\"1600\"/>\n",
       "  </clipPath>\n",
       "</defs>\n",
       "<path clip-path=\"url(#clip360)\" d=\"M0 1600 L2400 1600 L2400 0 L0 0  Z\" fill=\"#ffffff\" fill-rule=\"evenodd\" fill-opacity=\"1\"/>\n",
       "<defs>\n",
       "  <clipPath id=\"clip361\">\n",
       "    <rect x=\"480\" y=\"0\" width=\"1681\" height=\"1600\"/>\n",
       "  </clipPath>\n",
       "</defs>\n",
       "<path clip-path=\"url(#clip360)\" d=\"M232.389 1423.18 L2352.76 1423.18 L2352.76 123.472 L232.389 123.472  Z\" fill=\"#ffffff\" fill-rule=\"evenodd\" fill-opacity=\"1\"/>\n",
       "<defs>\n",
       "  <clipPath id=\"clip362\">\n",
       "    <rect x=\"232\" y=\"123\" width=\"2121\" height=\"1301\"/>\n",
       "  </clipPath>\n",
       "</defs>\n",
       "<polyline clip-path=\"url(#clip362)\" style=\"stroke:#000000; stroke-linecap:round; stroke-linejoin:round; stroke-width:2; stroke-opacity:0.1; fill:none\" points=\"292.4,1423.18 292.4,123.472 \"/>\n",
       "<polyline clip-path=\"url(#clip362)\" style=\"stroke:#000000; stroke-linecap:round; stroke-linejoin:round; stroke-width:2; stroke-opacity:0.1; fill:none\" points=\"712.64,1423.18 712.64,123.472 \"/>\n",
       "<polyline clip-path=\"url(#clip362)\" style=\"stroke:#000000; stroke-linecap:round; stroke-linejoin:round; stroke-width:2; stroke-opacity:0.1; fill:none\" points=\"1132.88,1423.18 1132.88,123.472 \"/>\n",
       "<polyline clip-path=\"url(#clip362)\" style=\"stroke:#000000; stroke-linecap:round; stroke-linejoin:round; stroke-width:2; stroke-opacity:0.1; fill:none\" points=\"1553.12,1423.18 1553.12,123.472 \"/>\n",
       "<polyline clip-path=\"url(#clip362)\" style=\"stroke:#000000; stroke-linecap:round; stroke-linejoin:round; stroke-width:2; stroke-opacity:0.1; fill:none\" points=\"1973.36,1423.18 1973.36,123.472 \"/>\n",
       "<polyline clip-path=\"url(#clip360)\" style=\"stroke:#000000; stroke-linecap:round; stroke-linejoin:round; stroke-width:4; stroke-opacity:1; fill:none\" points=\"232.389,1423.18 2352.76,1423.18 \"/>\n",
       "<polyline clip-path=\"url(#clip360)\" style=\"stroke:#000000; stroke-linecap:round; stroke-linejoin:round; stroke-width:4; stroke-opacity:1; fill:none\" points=\"292.4,1423.18 292.4,1404.28 \"/>\n",
       "<polyline clip-path=\"url(#clip360)\" style=\"stroke:#000000; stroke-linecap:round; stroke-linejoin:round; stroke-width:4; stroke-opacity:1; fill:none\" points=\"712.64,1423.18 712.64,1404.28 \"/>\n",
       "<polyline clip-path=\"url(#clip360)\" style=\"stroke:#000000; stroke-linecap:round; stroke-linejoin:round; stroke-width:4; stroke-opacity:1; fill:none\" points=\"1132.88,1423.18 1132.88,1404.28 \"/>\n",
       "<polyline clip-path=\"url(#clip360)\" style=\"stroke:#000000; stroke-linecap:round; stroke-linejoin:round; stroke-width:4; stroke-opacity:1; fill:none\" points=\"1553.12,1423.18 1553.12,1404.28 \"/>\n",
       "<polyline clip-path=\"url(#clip360)\" style=\"stroke:#000000; stroke-linecap:round; stroke-linejoin:round; stroke-width:4; stroke-opacity:1; fill:none\" points=\"1973.36,1423.18 1973.36,1404.28 \"/>\n",
       "<path clip-path=\"url(#clip360)\" d=\"M269.784 1454.1 Q266.173 1454.1 264.344 1457.66 Q262.539 1461.2 262.539 1468.33 Q262.539 1475.44 264.344 1479.01 Q266.173 1482.55 269.784 1482.55 Q273.418 1482.55 275.224 1479.01 Q277.053 1475.44 277.053 1468.33 Q277.053 1461.2 275.224 1457.66 Q273.418 1454.1 269.784 1454.1 M269.784 1450.39 Q275.594 1450.39 278.65 1455 Q281.728 1459.58 281.728 1468.33 Q281.728 1477.06 278.65 1481.67 Q275.594 1486.25 269.784 1486.25 Q263.974 1486.25 260.895 1481.67 Q257.84 1477.06 257.84 1468.33 Q257.84 1459.58 260.895 1455 Q263.974 1450.39 269.784 1450.39 Z\" fill=\"#000000\" fill-rule=\"evenodd\" fill-opacity=\"1\" /><path clip-path=\"url(#clip360)\" d=\"M289.946 1479.7 L294.83 1479.7 L294.83 1485.58 L289.946 1485.58 L289.946 1479.7 Z\" fill=\"#000000\" fill-rule=\"evenodd\" fill-opacity=\"1\" /><path clip-path=\"url(#clip360)\" d=\"M315.015 1454.1 Q311.404 1454.1 309.576 1457.66 Q307.77 1461.2 307.77 1468.33 Q307.77 1475.44 309.576 1479.01 Q311.404 1482.55 315.015 1482.55 Q318.65 1482.55 320.455 1479.01 Q322.284 1475.44 322.284 1468.33 Q322.284 1461.2 320.455 1457.66 Q318.65 1454.1 315.015 1454.1 M315.015 1450.39 Q320.825 1450.39 323.881 1455 Q326.96 1459.58 326.96 1468.33 Q326.96 1477.06 323.881 1481.67 Q320.825 1486.25 315.015 1486.25 Q309.205 1486.25 306.126 1481.67 Q303.071 1477.06 303.071 1468.33 Q303.071 1459.58 306.126 1455 Q309.205 1450.39 315.015 1450.39 Z\" fill=\"#000000\" fill-rule=\"evenodd\" fill-opacity=\"1\" /><path clip-path=\"url(#clip360)\" d=\"M684.377 1481.64 L700.696 1481.64 L700.696 1485.58 L678.752 1485.58 L678.752 1481.64 Q681.414 1478.89 685.997 1474.26 Q690.604 1469.61 691.784 1468.27 Q694.029 1465.74 694.909 1464.01 Q695.812 1462.25 695.812 1460.56 Q695.812 1457.8 693.867 1456.07 Q691.946 1454.33 688.844 1454.33 Q686.645 1454.33 684.192 1455.09 Q681.761 1455.86 678.983 1457.41 L678.983 1452.69 Q681.807 1451.55 684.261 1450.97 Q686.715 1450.39 688.752 1450.39 Q694.122 1450.39 697.316 1453.08 Q700.511 1455.77 700.511 1460.26 Q700.511 1462.39 699.701 1464.31 Q698.914 1466.2 696.807 1468.8 Q696.228 1469.47 693.127 1472.69 Q690.025 1475.88 684.377 1481.64 Z\" fill=\"#000000\" fill-rule=\"evenodd\" fill-opacity=\"1\" /><path clip-path=\"url(#clip360)\" d=\"M710.511 1479.7 L715.395 1479.7 L715.395 1485.58 L710.511 1485.58 L710.511 1479.7 Z\" fill=\"#000000\" fill-rule=\"evenodd\" fill-opacity=\"1\" /><path clip-path=\"url(#clip360)\" d=\"M725.626 1451.02 L743.983 1451.02 L743.983 1454.96 L729.909 1454.96 L729.909 1463.43 Q730.927 1463.08 731.946 1462.92 Q732.964 1462.73 733.983 1462.73 Q739.77 1462.73 743.15 1465.9 Q746.529 1469.08 746.529 1474.49 Q746.529 1480.07 743.057 1483.17 Q739.585 1486.25 733.265 1486.25 Q731.089 1486.25 728.821 1485.88 Q726.576 1485.51 724.168 1484.77 L724.168 1480.07 Q726.251 1481.2 728.474 1481.76 Q730.696 1482.32 733.173 1482.32 Q737.177 1482.32 739.515 1480.21 Q741.853 1478.1 741.853 1474.49 Q741.853 1470.88 739.515 1468.77 Q737.177 1466.67 733.173 1466.67 Q731.298 1466.67 729.423 1467.08 Q727.571 1467.5 725.626 1468.38 L725.626 1451.02 Z\" fill=\"#000000\" fill-rule=\"evenodd\" fill-opacity=\"1\" /><path clip-path=\"url(#clip360)\" d=\"M1100.05 1451.02 L1118.4 1451.02 L1118.4 1454.96 L1104.33 1454.96 L1104.33 1463.43 Q1105.35 1463.08 1106.37 1462.92 Q1107.38 1462.73 1108.4 1462.73 Q1114.19 1462.73 1117.57 1465.9 Q1120.95 1469.08 1120.95 1474.49 Q1120.95 1480.07 1117.48 1483.17 Q1114 1486.25 1107.68 1486.25 Q1105.51 1486.25 1103.24 1485.88 Q1100.99 1485.51 1098.59 1484.77 L1098.59 1480.07 Q1100.67 1481.2 1102.89 1481.76 Q1105.12 1482.32 1107.59 1482.32 Q1111.6 1482.32 1113.93 1480.21 Q1116.27 1478.1 1116.27 1474.49 Q1116.27 1470.88 1113.93 1468.77 Q1111.6 1466.67 1107.59 1466.67 Q1105.72 1466.67 1103.84 1467.08 Q1101.99 1467.5 1100.05 1468.38 L1100.05 1451.02 Z\" fill=\"#000000\" fill-rule=\"evenodd\" fill-opacity=\"1\" /><path clip-path=\"url(#clip360)\" d=\"M1130.16 1479.7 L1135.05 1479.7 L1135.05 1485.58 L1130.16 1485.58 L1130.16 1479.7 Z\" fill=\"#000000\" fill-rule=\"evenodd\" fill-opacity=\"1\" /><path clip-path=\"url(#clip360)\" d=\"M1155.23 1454.1 Q1151.62 1454.1 1149.79 1457.66 Q1147.99 1461.2 1147.99 1468.33 Q1147.99 1475.44 1149.79 1479.01 Q1151.62 1482.55 1155.23 1482.55 Q1158.86 1482.55 1160.67 1479.01 Q1162.5 1475.44 1162.5 1468.33 Q1162.5 1461.2 1160.67 1457.66 Q1158.86 1454.1 1155.23 1454.1 M1155.23 1450.39 Q1161.04 1450.39 1164.1 1455 Q1167.17 1459.58 1167.17 1468.33 Q1167.17 1477.06 1164.1 1481.67 Q1161.04 1486.25 1155.23 1486.25 Q1149.42 1486.25 1146.34 1481.67 Q1143.29 1477.06 1143.29 1468.33 Q1143.29 1459.58 1146.34 1455 Q1149.42 1450.39 1155.23 1450.39 Z\" fill=\"#000000\" fill-rule=\"evenodd\" fill-opacity=\"1\" /><path clip-path=\"url(#clip360)\" d=\"M1519.44 1451.02 L1541.66 1451.02 L1541.66 1453.01 L1529.12 1485.58 L1524.23 1485.58 L1536.04 1454.96 L1519.44 1454.96 L1519.44 1451.02 Z\" fill=\"#000000\" fill-rule=\"evenodd\" fill-opacity=\"1\" /><path clip-path=\"url(#clip360)\" d=\"M1550.78 1479.7 L1555.67 1479.7 L1555.67 1485.58 L1550.78 1485.58 L1550.78 1479.7 Z\" fill=\"#000000\" fill-rule=\"evenodd\" fill-opacity=\"1\" /><path clip-path=\"url(#clip360)\" d=\"M1565.9 1451.02 L1584.26 1451.02 L1584.26 1454.96 L1570.18 1454.96 L1570.18 1463.43 Q1571.2 1463.08 1572.22 1462.92 Q1573.24 1462.73 1574.26 1462.73 Q1580.04 1462.73 1583.42 1465.9 Q1586.8 1469.08 1586.8 1474.49 Q1586.8 1480.07 1583.33 1483.17 Q1579.86 1486.25 1573.54 1486.25 Q1571.36 1486.25 1569.09 1485.88 Q1566.85 1485.51 1564.44 1484.77 L1564.44 1480.07 Q1566.52 1481.2 1568.75 1481.76 Q1570.97 1482.32 1573.45 1482.32 Q1577.45 1482.32 1579.79 1480.21 Q1582.13 1478.1 1582.13 1474.49 Q1582.13 1470.88 1579.79 1468.77 Q1577.45 1466.67 1573.45 1466.67 Q1571.57 1466.67 1569.7 1467.08 Q1567.84 1467.5 1565.9 1468.38 L1565.9 1451.02 Z\" fill=\"#000000\" fill-rule=\"evenodd\" fill-opacity=\"1\" /><path clip-path=\"url(#clip360)\" d=\"M1925.43 1481.64 L1933.07 1481.64 L1933.07 1455.28 L1924.76 1456.95 L1924.76 1452.69 L1933.03 1451.02 L1937.7 1451.02 L1937.7 1481.64 L1945.34 1481.64 L1945.34 1485.58 L1925.43 1485.58 L1925.43 1481.64 Z\" fill=\"#000000\" fill-rule=\"evenodd\" fill-opacity=\"1\" /><path clip-path=\"url(#clip360)\" d=\"M1964.79 1454.1 Q1961.18 1454.1 1959.35 1457.66 Q1957.54 1461.2 1957.54 1468.33 Q1957.54 1475.44 1959.35 1479.01 Q1961.18 1482.55 1964.79 1482.55 Q1968.42 1482.55 1970.23 1479.01 Q1972.05 1475.44 1972.05 1468.33 Q1972.05 1461.2 1970.23 1457.66 Q1968.42 1454.1 1964.79 1454.1 M1964.79 1450.39 Q1970.6 1450.39 1973.65 1455 Q1976.73 1459.58 1976.73 1468.33 Q1976.73 1477.06 1973.65 1481.67 Q1970.6 1486.25 1964.79 1486.25 Q1958.98 1486.25 1955.9 1481.67 Q1952.84 1477.06 1952.84 1468.33 Q1952.84 1459.58 1955.9 1455 Q1958.98 1450.39 1964.79 1450.39 Z\" fill=\"#000000\" fill-rule=\"evenodd\" fill-opacity=\"1\" /><path clip-path=\"url(#clip360)\" d=\"M1984.95 1479.7 L1989.83 1479.7 L1989.83 1485.58 L1984.95 1485.58 L1984.95 1479.7 Z\" fill=\"#000000\" fill-rule=\"evenodd\" fill-opacity=\"1\" /><path clip-path=\"url(#clip360)\" d=\"M2010.02 1454.1 Q2006.41 1454.1 2004.58 1457.66 Q2002.77 1461.2 2002.77 1468.33 Q2002.77 1475.44 2004.58 1479.01 Q2006.41 1482.55 2010.02 1482.55 Q2013.65 1482.55 2015.46 1479.01 Q2017.29 1475.44 2017.29 1468.33 Q2017.29 1461.2 2015.46 1457.66 Q2013.65 1454.1 2010.02 1454.1 M2010.02 1450.39 Q2015.83 1450.39 2018.88 1455 Q2021.96 1459.58 2021.96 1468.33 Q2021.96 1477.06 2018.88 1481.67 Q2015.83 1486.25 2010.02 1486.25 Q2004.21 1486.25 2001.13 1481.67 Q1998.07 1477.06 1998.07 1468.33 Q1998.07 1459.58 2001.13 1455 Q2004.21 1450.39 2010.02 1450.39 Z\" fill=\"#000000\" fill-rule=\"evenodd\" fill-opacity=\"1\" /><path clip-path=\"url(#clip360)\" d=\"M1180.03 1522.27 L1180.03 1532.4 L1192.09 1532.4 L1192.09 1536.95 L1180.03 1536.95 L1180.03 1556.3 Q1180.03 1560.66 1181.2 1561.9 Q1182.41 1563.14 1186.07 1563.14 L1192.09 1563.14 L1192.09 1568.04 L1186.07 1568.04 Q1179.29 1568.04 1176.72 1565.53 Q1174.14 1562.98 1174.14 1556.3 L1174.14 1536.95 L1169.84 1536.95 L1169.84 1532.4 L1174.14 1532.4 L1174.14 1522.27 L1180.03 1522.27 Z\" fill=\"#000000\" fill-rule=\"evenodd\" fill-opacity=\"1\" /><path clip-path=\"url(#clip360)\" d=\"M1199.79 1532.4 L1205.65 1532.4 L1205.65 1568.04 L1199.79 1568.04 L1199.79 1532.4 M1199.79 1518.52 L1205.65 1518.52 L1205.65 1525.93 L1199.79 1525.93 L1199.79 1518.52 Z\" fill=\"#000000\" fill-rule=\"evenodd\" fill-opacity=\"1\" /><path clip-path=\"url(#clip360)\" d=\"M1245.66 1539.24 Q1247.85 1535.29 1250.91 1533.41 Q1253.96 1531.54 1258.1 1531.54 Q1263.67 1531.54 1266.7 1535.45 Q1269.72 1539.33 1269.72 1546.53 L1269.72 1568.04 L1263.83 1568.04 L1263.83 1546.72 Q1263.83 1541.59 1262.02 1539.11 Q1260.2 1536.63 1256.48 1536.63 Q1251.93 1536.63 1249.29 1539.65 Q1246.64 1542.68 1246.64 1547.9 L1246.64 1568.04 L1240.76 1568.04 L1240.76 1546.72 Q1240.76 1541.56 1238.94 1539.11 Q1237.13 1536.63 1233.34 1536.63 Q1228.85 1536.63 1226.21 1539.68 Q1223.57 1542.71 1223.57 1547.9 L1223.57 1568.04 L1217.68 1568.04 L1217.68 1532.4 L1223.57 1532.4 L1223.57 1537.93 Q1225.57 1534.66 1228.37 1533.1 Q1231.18 1531.54 1235.03 1531.54 Q1238.91 1531.54 1241.62 1533.51 Q1244.35 1535.48 1245.66 1539.24 Z\" fill=\"#000000\" fill-rule=\"evenodd\" fill-opacity=\"1\" /><path clip-path=\"url(#clip360)\" d=\"M1311.89 1548.76 L1311.89 1551.62 L1284.97 1551.62 Q1285.35 1557.67 1288.59 1560.85 Q1291.87 1564 1297.7 1564 Q1301.07 1564 1304.22 1563.17 Q1307.4 1562.35 1310.52 1560.69 L1310.52 1566.23 Q1307.37 1567.57 1304.06 1568.27 Q1300.75 1568.97 1297.35 1568.97 Q1288.82 1568.97 1283.82 1564 Q1278.85 1559.04 1278.85 1550.57 Q1278.85 1541.82 1283.57 1536.69 Q1288.31 1531.54 1296.33 1531.54 Q1303.52 1531.54 1307.69 1536.18 Q1311.89 1540.8 1311.89 1548.76 M1306.04 1547.04 Q1305.97 1542.23 1303.33 1539.37 Q1300.72 1536.5 1296.39 1536.5 Q1291.49 1536.5 1288.53 1539.27 Q1285.6 1542.04 1285.16 1547.07 L1306.04 1547.04 Z\" fill=\"#000000\" fill-rule=\"evenodd\" fill-opacity=\"1\" /><path clip-path=\"url(#clip360)\" d=\"M1356.29 1518.58 Q1352.03 1525.9 1349.96 1533.06 Q1347.89 1540.23 1347.89 1547.58 Q1347.89 1554.93 1349.96 1562.16 Q1352.06 1569.35 1356.29 1576.64 L1351.2 1576.64 Q1346.43 1569.16 1344.04 1561.93 Q1341.68 1554.71 1341.68 1547.58 Q1341.68 1540.48 1344.04 1533.29 Q1346.39 1526.09 1351.2 1518.58 L1356.29 1518.58 Z\" fill=\"#000000\" fill-rule=\"evenodd\" fill-opacity=\"1\" /><path clip-path=\"url(#clip360)\" d=\"M1390.38 1533.45 L1390.38 1538.98 Q1387.9 1537.71 1385.23 1537.07 Q1382.55 1536.44 1379.69 1536.44 Q1375.33 1536.44 1373.13 1537.77 Q1370.97 1539.11 1370.97 1541.79 Q1370.97 1543.82 1372.53 1545 Q1374.09 1546.15 1378.8 1547.2 L1380.8 1547.64 Q1387.04 1548.98 1389.65 1551.43 Q1392.29 1553.85 1392.29 1558.21 Q1392.29 1563.17 1388.34 1566.07 Q1384.43 1568.97 1377.55 1568.97 Q1374.69 1568.97 1371.57 1568.39 Q1368.48 1567.85 1365.05 1566.74 L1365.05 1560.69 Q1368.29 1562.38 1371.44 1563.24 Q1374.59 1564.07 1377.68 1564.07 Q1381.82 1564.07 1384.05 1562.66 Q1386.28 1561.23 1386.28 1558.65 Q1386.28 1556.27 1384.65 1554.99 Q1383.06 1553.72 1377.62 1552.54 L1375.58 1552.07 Q1370.14 1550.92 1367.72 1548.56 Q1365.3 1546.18 1365.3 1542.04 Q1365.3 1537.01 1368.87 1534.27 Q1372.43 1531.54 1378.99 1531.54 Q1382.23 1531.54 1385.1 1532.01 Q1387.96 1532.49 1390.38 1533.45 Z\" fill=\"#000000\" fill-rule=\"evenodd\" fill-opacity=\"1\" /><path clip-path=\"url(#clip360)\" d=\"M1400.69 1518.58 L1405.79 1518.58 Q1410.56 1526.09 1412.92 1533.29 Q1415.3 1540.48 1415.3 1547.58 Q1415.3 1554.71 1412.92 1561.93 Q1410.56 1569.16 1405.79 1576.64 L1400.69 1576.64 Q1404.93 1569.35 1407 1562.16 Q1409.1 1554.93 1409.1 1547.58 Q1409.1 1540.23 1407 1533.06 Q1404.93 1525.9 1400.69 1518.58 Z\" fill=\"#000000\" fill-rule=\"evenodd\" fill-opacity=\"1\" /><polyline clip-path=\"url(#clip362)\" style=\"stroke:#000000; stroke-linecap:round; stroke-linejoin:round; stroke-width:2; stroke-opacity:0.1; fill:none\" points=\"232.389,1230.83 2352.76,1230.83 \"/>\n",
       "<polyline clip-path=\"url(#clip362)\" style=\"stroke:#000000; stroke-linecap:round; stroke-linejoin:round; stroke-width:2; stroke-opacity:0.1; fill:none\" points=\"232.389,997.251 2352.76,997.251 \"/>\n",
       "<polyline clip-path=\"url(#clip362)\" style=\"stroke:#000000; stroke-linecap:round; stroke-linejoin:round; stroke-width:2; stroke-opacity:0.1; fill:none\" points=\"232.389,763.673 2352.76,763.673 \"/>\n",
       "<polyline clip-path=\"url(#clip362)\" style=\"stroke:#000000; stroke-linecap:round; stroke-linejoin:round; stroke-width:2; stroke-opacity:0.1; fill:none\" points=\"232.389,530.095 2352.76,530.095 \"/>\n",
       "<polyline clip-path=\"url(#clip362)\" style=\"stroke:#000000; stroke-linecap:round; stroke-linejoin:round; stroke-width:2; stroke-opacity:0.1; fill:none\" points=\"232.389,296.516 2352.76,296.516 \"/>\n",
       "<polyline clip-path=\"url(#clip360)\" style=\"stroke:#000000; stroke-linecap:round; stroke-linejoin:round; stroke-width:4; stroke-opacity:1; fill:none\" points=\"232.389,1423.18 232.389,123.472 \"/>\n",
       "<polyline clip-path=\"url(#clip360)\" style=\"stroke:#000000; stroke-linecap:round; stroke-linejoin:round; stroke-width:4; stroke-opacity:1; fill:none\" points=\"232.389,1230.83 251.287,1230.83 \"/>\n",
       "<polyline clip-path=\"url(#clip360)\" style=\"stroke:#000000; stroke-linecap:round; stroke-linejoin:round; stroke-width:4; stroke-opacity:1; fill:none\" points=\"232.389,997.251 251.287,997.251 \"/>\n",
       "<polyline clip-path=\"url(#clip360)\" style=\"stroke:#000000; stroke-linecap:round; stroke-linejoin:round; stroke-width:4; stroke-opacity:1; fill:none\" points=\"232.389,763.673 251.287,763.673 \"/>\n",
       "<polyline clip-path=\"url(#clip360)\" style=\"stroke:#000000; stroke-linecap:round; stroke-linejoin:round; stroke-width:4; stroke-opacity:1; fill:none\" points=\"232.389,530.095 251.287,530.095 \"/>\n",
       "<polyline clip-path=\"url(#clip360)\" style=\"stroke:#000000; stroke-linecap:round; stroke-linejoin:round; stroke-width:4; stroke-opacity:1; fill:none\" points=\"232.389,296.516 251.287,296.516 \"/>\n",
       "<path clip-path=\"url(#clip360)\" d=\"M184.445 1216.63 Q180.834 1216.63 179.005 1220.19 Q177.2 1223.73 177.2 1230.86 Q177.2 1237.97 179.005 1241.53 Q180.834 1245.08 184.445 1245.08 Q188.079 1245.08 189.885 1241.53 Q191.713 1237.97 191.713 1230.86 Q191.713 1223.73 189.885 1220.19 Q188.079 1216.63 184.445 1216.63 M184.445 1212.92 Q190.255 1212.92 193.311 1217.53 Q196.389 1222.11 196.389 1230.86 Q196.389 1239.59 193.311 1244.2 Q190.255 1248.78 184.445 1248.78 Q178.635 1248.78 175.556 1244.2 Q172.501 1239.59 172.501 1230.86 Q172.501 1222.11 175.556 1217.53 Q178.635 1212.92 184.445 1212.92 Z\" fill=\"#000000\" fill-rule=\"evenodd\" fill-opacity=\"1\" /><path clip-path=\"url(#clip360)\" d=\"M149.306 1010.6 L165.626 1010.6 L165.626 1014.53 L143.681 1014.53 L143.681 1010.6 Q146.343 1007.84 150.927 1003.21 Q155.533 998.559 156.714 997.216 Q158.959 994.693 159.839 992.957 Q160.741 991.198 160.741 989.508 Q160.741 986.753 158.797 985.017 Q156.876 983.281 153.774 983.281 Q151.575 983.281 149.121 984.045 Q146.691 984.809 143.913 986.36 L143.913 981.637 Q146.737 980.503 149.191 979.925 Q151.644 979.346 153.681 979.346 Q159.052 979.346 162.246 982.031 Q165.44 984.716 165.44 989.207 Q165.44 991.336 164.63 993.258 Q163.843 995.156 161.737 997.748 Q161.158 998.42 158.056 1001.64 Q154.954 1004.83 149.306 1010.6 Z\" fill=\"#000000\" fill-rule=\"evenodd\" fill-opacity=\"1\" /><path clip-path=\"url(#clip360)\" d=\"M175.487 979.971 L193.843 979.971 L193.843 983.906 L179.769 983.906 L179.769 992.378 Q180.788 992.031 181.806 991.869 Q182.825 991.684 183.843 991.684 Q189.63 991.684 193.01 994.855 Q196.389 998.026 196.389 1003.44 Q196.389 1009.02 192.917 1012.12 Q189.445 1015.2 183.126 1015.2 Q180.95 1015.2 178.681 1014.83 Q176.436 1014.46 174.028 1013.72 L174.028 1009.02 Q176.112 1010.16 178.334 1010.71 Q180.556 1011.27 183.033 1011.27 Q187.038 1011.27 189.375 1009.16 Q191.713 1007.05 191.713 1003.44 Q191.713 999.832 189.375 997.725 Q187.038 995.619 183.033 995.619 Q181.158 995.619 179.283 996.036 Q177.431 996.452 175.487 997.332 L175.487 979.971 Z\" fill=\"#000000\" fill-rule=\"evenodd\" fill-opacity=\"1\" /><path clip-path=\"url(#clip360)\" d=\"M144.329 746.393 L162.686 746.393 L162.686 750.328 L148.612 750.328 L148.612 758.8 Q149.63 758.453 150.649 758.291 Q151.667 758.106 152.686 758.106 Q158.473 758.106 161.852 761.277 Q165.232 764.448 165.232 769.865 Q165.232 775.443 161.76 778.545 Q158.288 781.624 151.968 781.624 Q149.792 781.624 147.524 781.254 Q145.279 780.883 142.871 780.143 L142.871 775.443 Q144.954 776.578 147.177 777.133 Q149.399 777.689 151.876 777.689 Q155.88 777.689 158.218 775.582 Q160.556 773.476 160.556 769.865 Q160.556 766.254 158.218 764.147 Q155.88 762.041 151.876 762.041 Q150.001 762.041 148.126 762.457 Q146.274 762.874 144.329 763.754 L144.329 746.393 Z\" fill=\"#000000\" fill-rule=\"evenodd\" fill-opacity=\"1\" /><path clip-path=\"url(#clip360)\" d=\"M184.445 749.471 Q180.834 749.471 179.005 753.036 Q177.2 756.578 177.2 763.707 Q177.2 770.814 179.005 774.379 Q180.834 777.92 184.445 777.92 Q188.079 777.92 189.885 774.379 Q191.713 770.814 191.713 763.707 Q191.713 756.578 189.885 753.036 Q188.079 749.471 184.445 749.471 M184.445 745.768 Q190.255 745.768 193.311 750.374 Q196.389 754.957 196.389 763.707 Q196.389 772.434 193.311 777.041 Q190.255 781.624 184.445 781.624 Q178.635 781.624 175.556 777.041 Q172.501 772.434 172.501 763.707 Q172.501 754.957 175.556 750.374 Q178.635 745.768 184.445 745.768 Z\" fill=\"#000000\" fill-rule=\"evenodd\" fill-opacity=\"1\" /><path clip-path=\"url(#clip360)\" d=\"M144.098 512.815 L166.32 512.815 L166.32 514.805 L153.774 547.375 L148.89 547.375 L160.695 516.75 L144.098 516.75 L144.098 512.815 Z\" fill=\"#000000\" fill-rule=\"evenodd\" fill-opacity=\"1\" /><path clip-path=\"url(#clip360)\" d=\"M175.487 512.815 L193.843 512.815 L193.843 516.75 L179.769 516.75 L179.769 525.222 Q180.788 524.875 181.806 524.713 Q182.825 524.527 183.843 524.527 Q189.63 524.527 193.01 527.699 Q196.389 530.87 196.389 536.287 Q196.389 541.865 192.917 544.967 Q189.445 548.046 183.126 548.046 Q180.95 548.046 178.681 547.676 Q176.436 547.305 174.028 546.564 L174.028 541.865 Q176.112 543 178.334 543.555 Q180.556 544.111 183.033 544.111 Q187.038 544.111 189.375 542.004 Q191.713 539.898 191.713 536.287 Q191.713 532.676 189.375 530.569 Q187.038 528.463 183.033 528.463 Q181.158 528.463 179.283 528.879 Q177.431 529.296 175.487 530.176 L175.487 512.815 Z\" fill=\"#000000\" fill-rule=\"evenodd\" fill-opacity=\"1\" /><path clip-path=\"url(#clip360)\" d=\"M114.931 309.861 L122.57 309.861 L122.57 283.496 L114.26 285.162 L114.26 280.903 L122.524 279.236 L127.2 279.236 L127.2 309.861 L134.839 309.861 L134.839 313.796 L114.931 313.796 L114.931 309.861 Z\" fill=\"#000000\" fill-rule=\"evenodd\" fill-opacity=\"1\" /><path clip-path=\"url(#clip360)\" d=\"M154.283 282.315 Q150.672 282.315 148.843 285.88 Q147.038 289.422 147.038 296.551 Q147.038 303.658 148.843 307.222 Q150.672 310.764 154.283 310.764 Q157.917 310.764 159.723 307.222 Q161.552 303.658 161.552 296.551 Q161.552 289.422 159.723 285.88 Q157.917 282.315 154.283 282.315 M154.283 278.611 Q160.093 278.611 163.149 283.218 Q166.227 287.801 166.227 296.551 Q166.227 305.278 163.149 309.884 Q160.093 314.468 154.283 314.468 Q148.473 314.468 145.394 309.884 Q142.339 305.278 142.339 296.551 Q142.339 287.801 145.394 283.218 Q148.473 278.611 154.283 278.611 Z\" fill=\"#000000\" fill-rule=\"evenodd\" fill-opacity=\"1\" /><path clip-path=\"url(#clip360)\" d=\"M184.445 282.315 Q180.834 282.315 179.005 285.88 Q177.2 289.422 177.2 296.551 Q177.2 303.658 179.005 307.222 Q180.834 310.764 184.445 310.764 Q188.079 310.764 189.885 307.222 Q191.713 303.658 191.713 296.551 Q191.713 289.422 189.885 285.88 Q188.079 282.315 184.445 282.315 M184.445 278.611 Q190.255 278.611 193.311 283.218 Q196.389 287.801 196.389 296.551 Q196.389 305.278 193.311 309.884 Q190.255 314.468 184.445 314.468 Q178.635 314.468 175.556 309.884 Q172.501 305.278 172.501 296.551 Q172.501 287.801 175.556 283.218 Q178.635 278.611 184.445 278.611 Z\" fill=\"#000000\" fill-rule=\"evenodd\" fill-opacity=\"1\" /><path clip-path=\"url(#clip360)\" d=\"M49.9359 788.254 L28.3562 788.254 L28.3562 782.397 L49.7131 782.397 Q54.7739 782.397 57.3202 780.424 Q59.8346 778.45 59.8346 774.504 Q59.8346 769.761 56.8109 767.024 Q53.7872 764.255 48.5673 764.255 L28.3562 764.255 L28.3562 758.398 L64.0042 758.398 L64.0042 764.255 L58.5296 764.255 Q61.7762 766.387 63.3676 769.22 Q64.9272 772.021 64.9272 775.745 Q64.9272 781.888 61.1078 785.071 Q57.2883 788.254 49.9359 788.254 M27.4968 773.517 L27.4968 773.517 Z\" fill=\"#000000\" fill-rule=\"evenodd\" fill-opacity=\"1\" /><path clip-path=\"url(#clip360)\" d=\"M1029.71 12.096 L1037.89 12.096 L1037.89 72.576 L1029.71 72.576 L1029.71 12.096 Z\" fill=\"#000000\" fill-rule=\"evenodd\" fill-opacity=\"1\" /><path clip-path=\"url(#clip360)\" d=\"M1091.57 45.1919 L1091.57 72.576 L1084.11 72.576 L1084.11 45.4349 Q1084.11 38.994 1081.6 35.7938 Q1079.09 32.5936 1074.07 32.5936 Q1068.03 32.5936 1064.55 36.4419 Q1061.06 40.2903 1061.06 46.9338 L1061.06 72.576 L1053.57 72.576 L1053.57 27.2059 L1061.06 27.2059 L1061.06 34.2544 Q1063.74 30.163 1067.34 28.1376 Q1070.99 26.1121 1075.73 26.1121 Q1083.55 26.1121 1087.56 30.9732 Q1091.57 35.7938 1091.57 45.1919 Z\" fill=\"#000000\" fill-rule=\"evenodd\" fill-opacity=\"1\" /><path clip-path=\"url(#clip360)\" d=\"M1113.64 65.7705 L1113.64 89.8329 L1106.15 89.8329 L1106.15 27.2059 L1113.64 27.2059 L1113.64 34.0924 Q1115.99 30.0415 1119.56 28.0971 Q1123.16 26.1121 1128.15 26.1121 Q1136.41 26.1121 1141.55 32.6746 Q1146.74 39.2371 1146.74 49.9314 Q1146.74 60.6258 1141.55 67.1883 Q1136.41 73.7508 1128.15 73.7508 Q1123.16 73.7508 1119.56 71.8063 Q1115.99 69.8214 1113.64 65.7705 M1139 49.9314 Q1139 41.7081 1135.6 37.0496 Q1132.24 32.3505 1126.32 32.3505 Q1120.41 32.3505 1117.01 37.0496 Q1113.64 41.7081 1113.64 49.9314 Q1113.64 58.1548 1117.01 62.8538 Q1120.41 67.5124 1126.32 67.5124 Q1132.24 67.5124 1135.6 62.8538 Q1139 58.1548 1139 49.9314 Z\" fill=\"#000000\" fill-rule=\"evenodd\" fill-opacity=\"1\" /><path clip-path=\"url(#clip360)\" d=\"M1158.33 54.671 L1158.33 27.2059 L1165.78 27.2059 L1165.78 54.3874 Q1165.78 60.8284 1168.29 64.0691 Q1170.8 67.2693 1175.83 67.2693 Q1181.86 67.2693 1185.35 63.421 Q1188.87 59.5726 1188.87 52.9291 L1188.87 27.2059 L1196.32 27.2059 L1196.32 72.576 L1188.87 72.576 L1188.87 65.6084 Q1186.16 69.7404 1182.55 71.7658 Q1178.99 73.7508 1174.25 73.7508 Q1166.43 73.7508 1162.38 68.8897 Q1158.33 64.0286 1158.33 54.671 M1177.08 26.1121 L1177.08 26.1121 Z\" fill=\"#000000\" fill-rule=\"evenodd\" fill-opacity=\"1\" /><path clip-path=\"url(#clip360)\" d=\"M1219.05 14.324 L1219.05 27.2059 L1234.4 27.2059 L1234.4 32.9987 L1219.05 32.9987 L1219.05 57.6282 Q1219.05 63.1779 1220.55 64.7578 Q1222.09 66.3376 1226.75 66.3376 L1234.4 66.3376 L1234.4 72.576 L1226.75 72.576 Q1218.12 72.576 1214.84 69.3758 Q1211.55 66.1351 1211.55 57.6282 L1211.55 32.9987 L1206.09 32.9987 L1206.09 27.2059 L1211.55 27.2059 L1211.55 14.324 L1219.05 14.324 Z\" fill=\"#000000\" fill-rule=\"evenodd\" fill-opacity=\"1\" /><path clip-path=\"url(#clip360)\" d=\"M1270.9 12.096 L1279.08 12.096 L1279.08 36.8875 L1308.82 36.8875 L1308.82 12.096 L1317 12.096 L1317 72.576 L1308.82 72.576 L1308.82 43.7741 L1279.08 43.7741 L1279.08 72.576 L1270.9 72.576 L1270.9 12.096 Z\" fill=\"#000000\" fill-rule=\"evenodd\" fill-opacity=\"1\" /><path clip-path=\"url(#clip360)\" d=\"M1332.96 27.2059 L1340.41 27.2059 L1340.41 72.576 L1332.96 72.576 L1332.96 27.2059 M1332.96 9.54393 L1340.41 9.54393 L1340.41 18.9825 L1332.96 18.9825 L1332.96 9.54393 Z\" fill=\"#000000\" fill-rule=\"evenodd\" fill-opacity=\"1\" /><path clip-path=\"url(#clip360)\" d=\"M1384.93 28.5427 L1384.93 35.5912 Q1381.77 33.9709 1378.37 33.1607 Q1374.97 32.3505 1371.32 32.3505 Q1365.77 32.3505 1362.98 34.0519 Q1360.22 35.7533 1360.22 39.156 Q1360.22 41.7486 1362.21 43.2475 Q1364.19 44.7058 1370.19 46.0426 L1372.74 46.6097 Q1380.68 48.3111 1384 51.4303 Q1387.36 54.509 1387.36 60.0587 Q1387.36 66.3781 1382.34 70.0644 Q1377.36 73.7508 1368.61 73.7508 Q1364.96 73.7508 1360.99 73.0216 Q1357.06 72.3329 1352.69 70.9151 L1352.69 63.2184 Q1356.82 65.3654 1360.83 66.4591 Q1364.84 67.5124 1368.77 67.5124 Q1374.04 67.5124 1376.87 65.73 Q1379.71 63.9071 1379.71 60.6258 Q1379.71 57.5877 1377.64 55.9673 Q1375.62 54.3469 1368.69 52.8481 L1366.1 52.2405 Q1359.17 50.7821 1356.09 47.7845 Q1353.01 44.7463 1353.01 39.4801 Q1353.01 33.0797 1357.55 29.5959 Q1362.09 26.1121 1370.43 26.1121 Q1374.56 26.1121 1378.21 26.7198 Q1381.85 27.3274 1384.93 28.5427 Z\" fill=\"#000000\" fill-rule=\"evenodd\" fill-opacity=\"1\" /><path clip-path=\"url(#clip360)\" d=\"M1406.61 14.324 L1406.61 27.2059 L1421.96 27.2059 L1421.96 32.9987 L1406.61 32.9987 L1406.61 57.6282 Q1406.61 63.1779 1408.1 64.7578 Q1409.64 66.3376 1414.3 66.3376 L1421.96 66.3376 L1421.96 72.576 L1414.3 72.576 Q1405.67 72.576 1402.39 69.3758 Q1399.11 66.1351 1399.11 57.6282 L1399.11 32.9987 L1393.64 32.9987 L1393.64 27.2059 L1399.11 27.2059 L1399.11 14.324 L1406.61 14.324 Z\" fill=\"#000000\" fill-rule=\"evenodd\" fill-opacity=\"1\" /><path clip-path=\"url(#clip360)\" d=\"M1449.34 32.4315 Q1443.35 32.4315 1439.86 37.1306 Q1436.38 41.7891 1436.38 49.9314 Q1436.38 58.0738 1439.82 62.7728 Q1443.31 67.4314 1449.34 67.4314 Q1455.3 67.4314 1458.78 62.7323 Q1462.27 58.0333 1462.27 49.9314 Q1462.27 41.8701 1458.78 37.1711 Q1455.3 32.4315 1449.34 32.4315 M1449.34 26.1121 Q1459.06 26.1121 1464.61 32.4315 Q1470.16 38.7509 1470.16 49.9314 Q1470.16 61.0714 1464.61 67.4314 Q1459.06 73.7508 1449.34 73.7508 Q1439.58 73.7508 1434.03 67.4314 Q1428.52 61.0714 1428.52 49.9314 Q1428.52 38.7509 1434.03 32.4315 Q1439.58 26.1121 1449.34 26.1121 Z\" fill=\"#000000\" fill-rule=\"evenodd\" fill-opacity=\"1\" /><path clip-path=\"url(#clip360)\" d=\"M1508.81 34.1734 Q1507.55 33.4443 1506.06 33.1202 Q1504.6 32.7556 1502.81 32.7556 Q1496.5 32.7556 1493.09 36.8875 Q1489.73 40.9789 1489.73 48.6757 L1489.73 72.576 L1482.24 72.576 L1482.24 27.2059 L1489.73 27.2059 L1489.73 34.2544 Q1492.08 30.1225 1495.85 28.1376 Q1499.61 26.1121 1505 26.1121 Q1505.77 26.1121 1506.7 26.2337 Q1507.64 26.3147 1508.77 26.5172 L1508.81 34.1734 Z\" fill=\"#000000\" fill-rule=\"evenodd\" fill-opacity=\"1\" /><path clip-path=\"url(#clip360)\" d=\"M1535.51 76.7889 Q1532.35 84.8907 1529.35 87.3618 Q1526.35 89.8329 1521.33 89.8329 L1515.37 89.8329 L1515.37 83.5945 L1519.75 83.5945 Q1522.83 83.5945 1524.53 82.1361 Q1526.23 80.6778 1528.29 75.2496 L1529.63 71.8468 L1511.28 27.2059 L1519.18 27.2059 L1533.36 62.6918 L1547.54 27.2059 L1555.44 27.2059 L1535.51 76.7889 Z\" fill=\"#000000\" fill-rule=\"evenodd\" fill-opacity=\"1\" /><polyline clip-path=\"url(#clip362)\" style=\"stroke:#009af9; stroke-linecap:round; stroke-linejoin:round; stroke-width:4; stroke-opacity:1; fill:none\" points=\"292.4,1106.84 309.209,1108.13 326.019,1109.43 342.829,1110.72 359.638,1112.02 376.448,1113.32 393.257,1114.61 410.067,1115.91 426.877,1117.21 443.686,1118.51 460.496,1119.81 477.306,1121.11 494.115,1122.41 510.925,1123.71 527.735,1125.01 544.544,1126.31 561.354,1127.61 578.163,1128.91 594.973,1130.21 611.783,1131.51 628.592,1132.81 645.402,1134.11 662.212,1135.41 679.021,1136.72 695.831,1138.02 712.64,1139.32 729.45,1140.62 746.26,1141.92 763.069,1143.23 779.879,1144.53 796.689,1145.83 813.498,1147.13 830.308,1148.43 847.117,1149.73 863.927,1151.04 880.737,1152.34 897.546,1153.64 914.356,1154.94 931.166,1156.24 947.975,1157.54 964.785,1158.84 981.594,1160.14 998.404,1161.45 1015.21,1162.75 1032.02,1164.05 1048.83,1165.35 1065.64,1166.65 1082.45,1167.95 1099.26,1169.25 1116.07,1170.55 1132.88,1171.85 1149.69,1173.15 1166.5,1174.45 1183.31,1175.75 1200.12,1177.04 1216.93,1178.34 1233.74,1179.64 1250.55,1180.94 1267.36,1182.24 1284.17,1183.54 1300.98,1184.84 1317.79,1186.13 1334.6,1187.43 1351.41,1188.73 1368.22,1190.03 1385.03,1191.32 1401.84,1192.62 1418.64,1193.92 1435.45,1195.21 1452.26,1196.51 1469.07,1197.81 1485.88,1199.1 1502.69,1200.4 1519.5,1201.69 1536.31,1202.99 1553.12,1204.29 1569.93,1205.58 1586.74,1206.88 1603.55,1208.17 1620.36,1209.47 1637.17,1210.76 1653.98,1212.06 1670.79,1213.35 1687.6,1214.65 1704.41,1215.94 1721.22,1217.23 1738.03,1218.53 1754.84,1219.82 1771.65,1221.12 1788.46,1222.41 1805.27,1223.7 1822.08,1225 1838.89,1226.29 1855.7,1227.59 1872.5,1228.88 1889.31,1230.17 1906.12,1231.47 1922.93,1232.76 1939.74,1234.05 1956.55,1235.35 1973.36,1236.64 1990.17,1237.93 2006.98,1239.23 2023.79,1240.52 2040.6,1241.82 2057.41,1243.11 2074.22,1244.4 2091.03,1245.7 2107.84,1246.99 2124.65,1248.28 2141.46,1249.58 2158.27,1250.87 2175.08,1252.16 2191.89,1253.46 2208.7,1254.75 2225.51,1256.05 2242.32,1257.34 2259.13,1258.63 2275.94,1259.93 2292.75,1261.22 \"/>\n",
       "<polyline clip-path=\"url(#clip362)\" style=\"stroke:#e26f46; stroke-linecap:round; stroke-linejoin:round; stroke-width:4; stroke-opacity:1; fill:none\" points=\"292.4,1386.4 309.209,1384.27 326.019,1382.14 342.829,1380.02 359.638,1377.9 376.448,1375.77 393.257,1373.65 410.067,1371.53 426.877,1369.41 443.686,1367.29 460.496,1365.18 477.306,1363.06 494.115,1360.94 510.925,1358.83 527.735,1356.72 544.544,1354.6 561.354,1352.49 578.163,1350.38 594.973,1348.27 611.783,1346.16 628.592,1344.06 645.402,1341.95 662.212,1339.85 679.021,1337.74 695.831,1335.64 712.64,1333.54 729.45,1331.43 746.26,1329.33 763.069,1327.24 779.879,1325.14 796.689,1323.04 813.498,1320.94 830.308,1318.85 847.117,1316.76 863.927,1314.66 880.737,1312.57 897.546,1310.48 914.356,1308.39 931.166,1306.3 947.975,1304.21 964.785,1302.13 981.594,1300.04 998.404,1297.95 1015.21,1295.87 1032.02,1293.79 1048.83,1291.7 1065.64,1289.62 1082.45,1287.54 1099.26,1285.46 1116.07,1283.38 1132.88,1281.3 1149.69,1279.23 1166.5,1277.15 1183.31,1275.07 1200.12,1273 1216.93,1270.92 1233.74,1268.85 1250.55,1266.78 1267.36,1264.71 1284.17,1262.63 1300.98,1260.56 1317.79,1258.49 1334.6,1256.42 1351.41,1254.35 1368.22,1252.29 1385.03,1250.22 1401.84,1248.15 1418.64,1246.08 1435.45,1244.02 1452.26,1241.95 1469.07,1239.89 1485.88,1237.82 1502.69,1235.76 1519.5,1233.69 1536.31,1231.63 1553.12,1229.57 1569.93,1227.5 1586.74,1225.44 1603.55,1223.38 1620.36,1221.32 1637.17,1219.26 1653.98,1217.2 1670.79,1215.14 1687.6,1213.08 1704.41,1211.01 1721.22,1208.95 1738.03,1206.9 1754.84,1204.84 1771.65,1202.78 1788.46,1200.72 1805.27,1198.66 1822.08,1196.6 1838.89,1194.54 1855.7,1192.48 1872.5,1190.42 1889.31,1188.36 1906.12,1186.3 1922.93,1184.25 1939.74,1182.19 1956.55,1180.13 1973.36,1178.07 1990.17,1176.01 2006.98,1173.95 2023.79,1171.89 2040.6,1169.83 2057.41,1167.78 2074.22,1165.72 2091.03,1163.66 2107.84,1161.6 2124.65,1159.54 2141.46,1157.48 2158.27,1155.42 2175.08,1153.36 2191.89,1151.3 2208.7,1149.24 2225.51,1147.18 2242.32,1145.12 2259.13,1143.06 2275.94,1140.99 2292.75,1138.93 \"/>\n",
       "<polyline clip-path=\"url(#clip362)\" style=\"stroke:#3da44d; stroke-linecap:round; stroke-linejoin:round; stroke-width:4; stroke-opacity:1; fill:none\" points=\"292.4,315.917 309.209,314.467 326.019,313.022 342.829,311.581 359.638,310.144 376.448,308.712 393.257,307.284 410.067,305.861 426.877,304.441 443.686,303.026 460.496,301.615 477.306,300.208 494.115,298.805 510.925,297.406 527.735,296.011 544.544,294.619 561.354,293.231 578.163,291.847 594.973,290.467 611.783,289.09 628.592,287.716 645.402,286.346 662.212,284.979 679.021,283.616 695.831,282.255 712.64,280.898 729.45,279.544 746.26,278.194 763.069,276.846 779.879,275.501 796.689,274.159 813.498,272.82 830.308,271.483 847.117,270.149 863.927,268.818 880.737,267.49 897.546,266.164 914.356,264.84 931.166,263.519 947.975,262.201 964.785,260.884 981.594,259.57 998.404,258.258 1015.21,256.948 1032.02,255.641 1048.83,254.335 1065.64,253.032 1082.45,251.73 1099.26,250.43 1116.07,249.132 1132.88,247.836 1149.69,246.541 1166.5,245.249 1183.31,243.957 1200.12,242.668 1216.93,241.38 1233.74,240.093 1250.55,238.808 1267.36,237.524 1284.17,236.242 1300.98,234.961 1317.79,233.681 1334.6,232.402 1351.41,231.124 1368.22,229.848 1385.03,228.572 1401.84,227.298 1418.64,226.024 1435.45,224.752 1452.26,223.48 1469.07,222.209 1485.88,220.939 1502.69,219.67 1519.5,218.401 1536.31,217.133 1553.12,215.866 1569.93,214.599 1586.74,213.333 1603.55,212.067 1620.36,210.802 1637.17,209.537 1653.98,208.273 1670.79,207.009 1687.6,205.746 1704.41,204.482 1721.22,203.219 1738.03,201.957 1754.84,200.694 1771.65,199.432 1788.46,198.17 1805.27,196.908 1822.08,195.646 1838.89,194.384 1855.7,193.122 1872.5,191.86 1889.31,190.598 1906.12,189.336 1922.93,188.074 1939.74,186.812 1956.55,185.55 1973.36,184.288 1990.17,183.025 2006.98,181.762 2023.79,180.5 2040.6,179.237 2057.41,177.973 2074.22,176.71 2091.03,175.446 2107.84,174.182 2124.65,172.918 2141.46,171.653 2158.27,170.388 2175.08,169.123 2191.89,167.857 2208.7,166.591 2225.51,165.325 2242.32,164.059 2259.13,162.791 2275.94,161.524 2292.75,160.256 \"/>\n",
       "<path clip-path=\"url(#clip360)\" d=\"M303.068 374.156 L557.72 374.156 L557.72 166.796 L303.068 166.796  Z\" fill=\"#ffffff\" fill-rule=\"evenodd\" fill-opacity=\"1\"/>\n",
       "<polyline clip-path=\"url(#clip360)\" style=\"stroke:#000000; stroke-linecap:round; stroke-linejoin:round; stroke-width:4; stroke-opacity:1; fill:none\" points=\"303.068,374.156 557.72,374.156 557.72,166.796 303.068,166.796 303.068,374.156 \"/>\n",
       "<polyline clip-path=\"url(#clip360)\" style=\"stroke:#009af9; stroke-linecap:round; stroke-linejoin:round; stroke-width:4; stroke-opacity:1; fill:none\" points=\"326.628,218.636 467.986,218.636 \"/>\n",
       "<path clip-path=\"url(#clip360)\" d=\"M491.545 225.684 L491.545 209.99 L495.804 209.99 L495.804 225.522 Q495.804 229.203 497.24 231.055 Q498.675 232.883 501.545 232.883 Q504.994 232.883 506.985 230.684 Q508.999 228.485 508.999 224.689 L508.999 209.99 L513.258 209.99 L513.258 235.916 L508.999 235.916 L508.999 231.934 Q507.448 234.295 505.388 235.453 Q503.351 236.587 500.642 236.587 Q496.175 236.587 493.86 233.809 Q491.545 231.031 491.545 225.684 M502.263 209.365 L502.263 209.365 Z\" fill=\"#000000\" fill-rule=\"evenodd\" fill-opacity=\"1\" /><path clip-path=\"url(#clip360)\" d=\"M521.175 233.369 L525.897 233.369 L525.897 219.226 L520.735 220.175 L520.735 217.49 L526.059 216.587 L529.23 216.587 L529.23 233.369 L533.976 233.369 L533.976 235.916 L521.175 235.916 L521.175 233.369 Z\" fill=\"#000000\" fill-rule=\"evenodd\" fill-opacity=\"1\" /><polyline clip-path=\"url(#clip360)\" style=\"stroke:#e26f46; stroke-linecap:round; stroke-linejoin:round; stroke-width:4; stroke-opacity:1; fill:none\" points=\"326.628,270.476 467.986,270.476 \"/>\n",
       "<path clip-path=\"url(#clip360)\" d=\"M491.545 277.524 L491.545 261.83 L495.804 261.83 L495.804 277.362 Q495.804 281.043 497.24 282.895 Q498.675 284.723 501.545 284.723 Q504.994 284.723 506.985 282.524 Q508.999 280.325 508.999 276.529 L508.999 261.83 L513.258 261.83 L513.258 287.756 L508.999 287.756 L508.999 283.774 Q507.448 286.135 505.388 287.293 Q503.351 288.427 500.642 288.427 Q496.175 288.427 493.86 285.649 Q491.545 282.871 491.545 277.524 M502.263 261.205 L502.263 261.205 Z\" fill=\"#000000\" fill-rule=\"evenodd\" fill-opacity=\"1\" /><path clip-path=\"url(#clip360)\" d=\"M523.767 285.117 L533.582 285.117 L533.582 287.756 L519.74 287.756 L519.74 285.209 Q520.527 284.492 521.985 283.196 Q529.948 276.135 529.948 273.959 Q529.948 272.432 528.744 271.506 Q527.54 270.557 525.573 270.557 Q524.369 270.557 522.957 270.973 Q521.545 271.367 519.878 272.177 L519.878 269.33 Q521.661 268.682 523.189 268.358 Q524.74 268.034 526.059 268.034 Q529.415 268.034 531.429 269.561 Q533.443 271.089 533.443 273.589 Q533.443 276.807 525.781 283.381 Q524.485 284.492 523.767 285.117 Z\" fill=\"#000000\" fill-rule=\"evenodd\" fill-opacity=\"1\" /><polyline clip-path=\"url(#clip360)\" style=\"stroke:#3da44d; stroke-linecap:round; stroke-linejoin:round; stroke-width:4; stroke-opacity:1; fill:none\" points=\"326.628,322.316 467.986,322.316 \"/>\n",
       "<path clip-path=\"url(#clip360)\" d=\"M491.545 329.364 L491.545 313.67 L495.804 313.67 L495.804 329.202 Q495.804 332.883 497.24 334.735 Q498.675 336.563 501.545 336.563 Q504.994 336.563 506.985 334.364 Q508.999 332.165 508.999 328.369 L508.999 313.67 L513.258 313.67 L513.258 339.596 L508.999 339.596 L508.999 335.614 Q507.448 337.975 505.388 339.133 Q503.351 340.267 500.642 340.267 Q496.175 340.267 493.86 337.489 Q491.545 334.711 491.545 329.364 M502.263 313.045 L502.263 313.045 Z\" fill=\"#000000\" fill-rule=\"evenodd\" fill-opacity=\"1\" /><path clip-path=\"url(#clip360)\" d=\"M529.693 329.133 Q531.823 329.549 532.98 330.823 Q534.161 332.073 534.161 333.971 Q534.161 336.841 531.962 338.392 Q529.763 339.943 525.665 339.943 Q524.346 339.943 522.888 339.688 Q521.453 339.457 519.832 338.994 L519.832 336.193 Q521.036 336.818 522.402 337.119 Q523.79 337.42 525.341 337.42 Q527.865 337.42 529.253 336.517 Q530.642 335.591 530.642 333.971 Q530.642 332.258 529.346 331.378 Q528.073 330.499 525.573 330.499 L523.582 330.499 L523.582 327.999 L525.758 327.999 Q527.934 327.999 529.045 327.281 Q530.179 326.54 530.179 325.151 Q530.179 323.809 529.022 323.114 Q527.865 322.397 525.665 322.397 Q524.74 322.397 523.559 322.605 Q522.378 322.813 520.503 323.346 L520.503 320.684 Q522.193 320.29 523.675 320.082 Q525.156 319.874 526.429 319.874 Q529.763 319.874 531.707 321.239 Q533.675 322.605 533.675 324.897 Q533.675 326.494 532.633 327.605 Q531.591 328.716 529.693 329.133 Z\" fill=\"#000000\" fill-rule=\"evenodd\" fill-opacity=\"1\" /></svg>\n"
      ]
     },
     "metadata": {},
     "output_type": "display_data"
    }
   ],
   "source": [
    "# Let's solve\n",
    "\n",
    "nx = 6\n",
    "nu = 3\n",
    "N = 121\n",
    "dt = 0.1\n",
    "t_vec = dt*(0:N-1)\n",
    "x0 = [4, 2, 20, -3, 2, -5.0]\n",
    "xg = [0,0,0,0,0,0.0]\n",
    "Xref = [deepcopy(xg) for i = 1:N]\n",
    "Uref = [zeros(nu) for i = 1:N-1]\n",
    "\n",
    "Q = 1e-2*Diagonal([1,1,1,1.0,1,1])\n",
    "R = 1e-1*Diagonal([1,1,1])\n",
    "Qf = 1000*Q\n",
    "\n",
    "# ground_level = 0.0\n",
    "gravity = [0; 0; 9.81]\n",
    "mass = 10.0\n",
    "# ωPlanet = [0.0; 0.0; 0.0]\n",
    "perWeightMax = 2.0\n",
    "θ_thrust_max = 10.0  # deg\n",
    "# θ_glideslope = 60.0 # deg\n",
    "# glide_recover_k = 8\n",
    "\n",
    "A_cone = [1 0 0; 0 1 0]\n",
    "c_cone = [0.0, 0.0, tand(θ_thrust_max)]\n",
    "u_bnd = mass * abs(gravity[3]) * perWeightMax\n",
    "u_min = -170*ones(nu)\n",
    "u_max =  170*ones(nu)\n",
    "\n",
    "# state is x y v θ\n",
    "x_min = [-5,-5,0,-10,-10,-10.0]\n",
    "x_max = [5,5,20,10,10,10.0]\n",
    "\n",
    "ncx = 2*nx*0\n",
    "ncu = 2*nu*0\n",
    "ncg = 1\n",
    "ncu_cone = nu*0; \n",
    "cone_scale = 28  # very fragile for each problem\n",
    "\n",
    "params = (\n",
    "    nx = nx,\n",
    "    nu = nu,\n",
    "    ncx = ncx,\n",
    "    ncu = ncu,\n",
    "    ncg = ncg,\n",
    "    ncu_cone = ncu_cone,\n",
    "    A_cone = A_cone,\n",
    "    c_cone = c_cone,\n",
    "    N = N,\n",
    "    Q = Q,\n",
    "    R = R,\n",
    "    Qf = Qf,\n",
    "    u_min = u_min,\n",
    "    u_max = u_max,\n",
    "    x_min = x_min,\n",
    "    x_max = x_max,\n",
    "    Xref = Xref,\n",
    "    Uref = Uref,\n",
    "    dt = dt,\n",
    "    mc = 1.0,\n",
    "    mp = 0.2,\n",
    "    l = 0.5,\n",
    "    g = 9.81,\n",
    ");\n",
    "\n",
    "# previous iterate\n",
    "X = [deepcopy(x0) for i = 1:N]\n",
    "U = [mass * gravity for k = 1:N-1]\n",
    "\n",
    "# new iterate\n",
    "Xn = deepcopy(X)\n",
    "Un = deepcopy(U)\n",
    "\n",
    "P = [zeros(nx,nx) for i = 1:N]   # cost to go quadratic term\n",
    "p = [zeros(nx) for i = 1:N]      # cost to go linear term\n",
    "d = [zeros(nu) for i = 1:N-1]    # feedforward control\n",
    "K = [zeros(nu,nx) for i = 1:N-1] # feedback gain\n",
    "Xhist = mpc(params,X,U,P,p,K,d,Xn,Un;atol=1e-1,max_iters = 10,verbose = true,ρ = 1e0, ϕ = 10.0);\n",
    "function mat_from_vec(X::Vector{Vector{Float64}})::Matrix\n",
    "    # convert a vector of vectors to a matrix \n",
    "    Xm = hcat(X...)\n",
    "    return Xm \n",
    "end\n",
    "Xsim_m = mat_from_vec(Xn)\n",
    "Usim_m = mat_from_vec(Un)\n",
    "using Plots\n",
    "display(plot(t_vec,Xsim_m',label = [\"x₁\" \"x₂\" \"x₃\" \"ẋ₁\" \"ẋ₂\" \"ẋ₃\"],linestyle=[:solid :solid :solid :dash :dash :dash],\n",
    "             title = \"State History\",\n",
    "             xlabel = \"time (s)\", ylabel = \"x\"))\n",
    "display(plot(t_vec[1:end-1],Usim_m',label = [\"u₁\" \"u₂\" \"u₃\"],\n",
    "             title = \"Input History\",\n",
    "             xlabel = \"time (s)\", ylabel = \"u\"))"
   ]
  },
  {
   "cell_type": "markdown",
   "id": "416df651-52ee-4c43-93e5-aca23c5630b2",
   "metadata": {},
   "source": [
    "For TrajOpt, it needs more tricks to get better results:\n",
    "- Hessian of the projection => better approximation\n",
    "- Scaling between conic constraints and other ones\n",
    "- Solution polishing"
   ]
  },
  {
   "cell_type": "code",
   "execution_count": 451,
   "id": "12ec6530-7479-455f-843a-81d2c40fb13a",
   "metadata": {},
   "outputs": [
    {
     "data": {
      "text/plain": [
       "4.025509249696679"
      ]
     },
     "metadata": {},
     "output_type": "display_data"
    },
    {
     "data": {
      "text/plain": [
       "3.7338479609709125"
      ]
     },
     "metadata": {},
     "output_type": "display_data"
    },
    {
     "data": {
      "text/plain": [
       "3.4423630437968242"
      ]
     },
     "metadata": {},
     "output_type": "display_data"
    },
    {
     "data": {
      "text/plain": [
       "3.151058275749559"
      ]
     },
     "metadata": {},
     "output_type": "display_data"
    },
    {
     "data": {
      "text/plain": [
       "2.859937397687652"
      ]
     },
     "metadata": {},
     "output_type": "display_data"
    },
    {
     "data": {
      "text/plain": [
       "2.5690041214493498"
      ]
     },
     "metadata": {},
     "output_type": "display_data"
    },
    {
     "data": {
      "text/plain": [
       "2.278262138009868"
      ]
     },
     "metadata": {},
     "output_type": "display_data"
    },
    {
     "data": {
      "text/plain": [
       "1.9877151261420565"
      ]
     },
     "metadata": {},
     "output_type": "display_data"
    },
    {
     "data": {
      "text/plain": [
       "1.69736676162778"
      ]
     },
     "metadata": {},
     "output_type": "display_data"
    },
    {
     "data": {
      "text/plain": [
       "1.4072207270721826"
      ]
     },
     "metadata": {},
     "output_type": "display_data"
    },
    {
     "data": {
      "text/plain": [
       "1.1172807223789292"
      ]
     },
     "metadata": {},
     "output_type": "display_data"
    },
    {
     "data": {
      "text/plain": [
       "0.8275504759506944"
      ]
     },
     "metadata": {},
     "output_type": "display_data"
    },
    {
     "data": {
      "text/plain": [
       "0.5380337566866942"
      ]
     },
     "metadata": {},
     "output_type": "display_data"
    },
    {
     "data": {
      "text/plain": [
       "0.24873438685688498"
      ]
     },
     "metadata": {},
     "output_type": "display_data"
    },
    {
     "data": {
      "text/plain": [
       "-0.04034374405797436"
      ]
     },
     "metadata": {},
     "output_type": "display_data"
    },
    {
     "data": {
      "text/plain": [
       "-0.3291966644612927"
      ]
     },
     "metadata": {},
     "output_type": "display_data"
    },
    {
     "data": {
      "text/plain": [
       "-0.6178203045590784"
      ]
     },
     "metadata": {},
     "output_type": "display_data"
    },
    {
     "data": {
      "text/plain": [
       "-0.9062104789776306"
      ]
     },
     "metadata": {},
     "output_type": "display_data"
    },
    {
     "data": {
      "text/plain": [
       "-1.1943628679405052"
      ]
     },
     "metadata": {},
     "output_type": "display_data"
    },
    {
     "data": {
      "text/plain": [
       "-1.482272996847776"
      ]
     },
     "metadata": {},
     "output_type": "display_data"
    },
    {
     "data": {
      "text/plain": [
       "-1.7699362140807686"
      ]
     },
     "metadata": {},
     "output_type": "display_data"
    },
    {
     "data": {
      "text/plain": [
       "-2.0573476668329587"
      ]
     },
     "metadata": {},
     "output_type": "display_data"
    },
    {
     "data": {
      "text/plain": [
       "-2.3445022747418314"
      ]
     },
     "metadata": {},
     "output_type": "display_data"
    },
    {
     "data": {
      "text/plain": [
       "-2.631394701067027"
      ]
     },
     "metadata": {},
     "output_type": "display_data"
    },
    {
     "data": {
      "text/plain": [
       "-2.918019321125973"
      ]
     },
     "metadata": {},
     "output_type": "display_data"
    },
    {
     "data": {
      "text/plain": [
       "-3.20437018765908"
      ]
     },
     "metadata": {},
     "output_type": "display_data"
    },
    {
     "data": {
      "text/plain": [
       "-3.4904409927515054"
      ]
     },
     "metadata": {},
     "output_type": "display_data"
    },
    {
     "data": {
      "text/plain": [
       "-3.7762250258859815"
      ]
     },
     "metadata": {},
     "output_type": "display_data"
    },
    {
     "data": {
      "text/plain": [
       "-4.061715127641051"
      ]
     },
     "metadata": {},
     "output_type": "display_data"
    },
    {
     "data": {
      "text/plain": [
       "-4.346903638478381"
      ]
     },
     "metadata": {},
     "output_type": "display_data"
    },
    {
     "data": {
      "text/plain": [
       "-4.631782341981271"
      ]
     },
     "metadata": {},
     "output_type": "display_data"
    },
    {
     "data": {
      "text/plain": [
       "-4.916342401810875"
      ]
     },
     "metadata": {},
     "output_type": "display_data"
    },
    {
     "data": {
      "text/plain": [
       "-5.20057429153503"
      ]
     },
     "metadata": {},
     "output_type": "display_data"
    },
    {
     "data": {
      "text/plain": [
       "-5.484467716353683"
      ]
     },
     "metadata": {},
     "output_type": "display_data"
    },
    {
     "data": {
      "text/plain": [
       "-5.7680115255910955"
      ]
     },
     "metadata": {},
     "output_type": "display_data"
    },
    {
     "data": {
      "text/plain": [
       "-6.051193614643653"
      ]
     },
     "metadata": {},
     "output_type": "display_data"
    },
    {
     "data": {
      "text/plain": [
       "-6.3340008148579265"
      ]
     },
     "metadata": {},
     "output_type": "display_data"
    },
    {
     "data": {
      "text/plain": [
       "-6.616418769559729"
      ]
     },
     "metadata": {},
     "output_type": "display_data"
    },
    {
     "data": {
      "text/plain": [
       "-6.898431794153712"
      ]
     },
     "metadata": {},
     "output_type": "display_data"
    },
    {
     "data": {
      "text/plain": [
       "-7.180022717853436"
      ]
     },
     "metadata": {},
     "output_type": "display_data"
    },
    {
     "data": {
      "text/plain": [
       "-7.461172704172924"
      ]
     },
     "metadata": {},
     "output_type": "display_data"
    },
    {
     "data": {
      "text/plain": [
       "-7.74186104679627"
      ]
     },
     "metadata": {},
     "output_type": "display_data"
    },
    {
     "data": {
      "text/plain": [
       "-8.022064936823764"
      ]
     },
     "metadata": {},
     "output_type": "display_data"
    },
    {
     "data": {
      "text/plain": [
       "-8.301759196647357"
      ]
     },
     "metadata": {},
     "output_type": "display_data"
    },
    {
     "data": {
      "text/plain": [
       "-8.580915974807533"
      ]
     },
     "metadata": {},
     "output_type": "display_data"
    },
    {
     "data": {
      "text/plain": [
       "-8.859504395089495"
      ]
     },
     "metadata": {},
     "output_type": "display_data"
    },
    {
     "data": {
      "text/plain": [
       "-9.137490151786684"
      ]
     },
     "metadata": {},
     "output_type": "display_data"
    },
    {
     "data": {
      "text/plain": [
       "-9.414835041435087"
      ]
     },
     "metadata": {},
     "output_type": "display_data"
    },
    {
     "data": {
      "text/plain": [
       "-9.691496419333312"
      ]
     },
     "metadata": {},
     "output_type": "display_data"
    },
    {
     "data": {
      "text/plain": [
       "-9.967426566721084"
      ]
     },
     "metadata": {},
     "output_type": "display_data"
    },
    {
     "data": {
      "text/plain": [
       "-10.242571951480365"
      ]
     },
     "metadata": {},
     "output_type": "display_data"
    },
    {
     "data": {
      "text/plain": [
       "-10.51687236150796"
      ]
     },
     "metadata": {},
     "output_type": "display_data"
    },
    {
     "data": {
      "text/plain": [
       "-10.790259885307012"
      ]
     },
     "metadata": {},
     "output_type": "display_data"
    },
    {
     "data": {
      "text/plain": [
       "-11.06265770863456"
      ]
     },
     "metadata": {},
     "output_type": "display_data"
    },
    {
     "data": {
      "text/plain": [
       "-11.333978688942"
      ]
     },
     "metadata": {},
     "output_type": "display_data"
    },
    {
     "data": {
      "text/plain": [
       "-11.604123660506051"
      ]
     },
     "metadata": {},
     "output_type": "display_data"
    },
    {
     "data": {
      "text/plain": [
       "-11.872979412138095"
      ]
     },
     "metadata": {},
     "output_type": "display_data"
    },
    {
     "data": {
      "text/plain": [
       "-12.140416265656505"
      ]
     },
     "metadata": {},
     "output_type": "display_data"
    },
    {
     "data": {
      "text/plain": [
       "-12.406285166284615"
      ]
     },
     "metadata": {},
     "output_type": "display_data"
    },
    {
     "data": {
      "text/plain": [
       "-12.67041417508658"
      ]
     },
     "metadata": {},
     "output_type": "display_data"
    },
    {
     "data": {
      "text/plain": [
       "-12.932604227707127"
      ]
     },
     "metadata": {},
     "output_type": "display_data"
    },
    {
     "data": {
      "text/plain": [
       "-13.192623992326403"
      ]
     },
     "metadata": {},
     "output_type": "display_data"
    },
    {
     "data": {
      "text/plain": [
       "-13.450203622416094"
      ]
     },
     "metadata": {},
     "output_type": "display_data"
    },
    {
     "data": {
      "text/plain": [
       "-13.705027156800423"
      ]
     },
     "metadata": {},
     "output_type": "display_data"
    },
    {
     "data": {
      "text/plain": [
       "-13.956723272329853"
      ]
     },
     "metadata": {},
     "output_type": "display_data"
    },
    {
     "data": {
      "text/plain": [
       "-14.204854047625416"
      ]
     },
     "metadata": {},
     "output_type": "display_data"
    },
    {
     "data": {
      "text/plain": [
       "-14.44890135950193"
      ]
     },
     "metadata": {},
     "output_type": "display_data"
    },
    {
     "data": {
      "text/plain": [
       "-14.6882505256745"
      ]
     },
     "metadata": {},
     "output_type": "display_data"
    },
    {
     "data": {
      "text/plain": [
       "-14.922170862608315"
      ]
     },
     "metadata": {},
     "output_type": "display_data"
    },
    {
     "data": {
      "text/plain": [
       "-15.149793005381158"
      ]
     },
     "metadata": {},
     "output_type": "display_data"
    },
    {
     "data": {
      "text/plain": [
       "-15.370083234410895"
      ]
     },
     "metadata": {},
     "output_type": "display_data"
    },
    {
     "data": {
      "text/plain": [
       "-15.581815819745781"
      ]
     },
     "metadata": {},
     "output_type": "display_data"
    },
    {
     "data": {
      "text/plain": [
       "-15.7835457291381"
      ]
     },
     "metadata": {},
     "output_type": "display_data"
    },
    {
     "data": {
      "text/plain": [
       "-15.973586175393805"
      ]
     },
     "metadata": {},
     "output_type": "display_data"
    },
    {
     "data": {
      "text/plain": [
       "-16.149998531152352"
      ]
     },
     "metadata": {},
     "output_type": "display_data"
    },
    {
     "data": {
      "text/plain": [
       "-16.310605875316604"
      ]
     },
     "metadata": {},
     "output_type": "display_data"
    },
    {
     "data": {
      "text/plain": [
       "-16.45304476607901"
      ]
     },
     "metadata": {},
     "output_type": "display_data"
    },
    {
     "data": {
      "text/plain": [
       "-16.57487028957596"
      ]
     },
     "metadata": {},
     "output_type": "display_data"
    },
    {
     "data": {
      "text/plain": [
       "-16.67372319695911"
      ]
     },
     "metadata": {},
     "output_type": "display_data"
    },
    {
     "data": {
      "text/plain": [
       "-16.747551646715756"
      ]
     },
     "metadata": {},
     "output_type": "display_data"
    },
    {
     "data": {
      "text/plain": [
       "-16.79485498904557"
      ]
     },
     "metadata": {},
     "output_type": "display_data"
    },
    {
     "data": {
      "text/plain": [
       "-16.814893312302495"
      ]
     },
     "metadata": {},
     "output_type": "display_data"
    },
    {
     "data": {
      "text/plain": [
       "-16.807800977119744"
      ]
     },
     "metadata": {},
     "output_type": "display_data"
    },
    {
     "data": {
      "text/plain": [
       "-16.774566207124973"
      ]
     },
     "metadata": {},
     "output_type": "display_data"
    },
    {
     "data": {
      "text/plain": [
       "-16.716883731002223"
      ]
     },
     "metadata": {},
     "output_type": "display_data"
    },
    {
     "data": {
      "text/plain": [
       "-16.63692837300646"
      ]
     },
     "metadata": {},
     "output_type": "display_data"
    },
    {
     "data": {
      "text/plain": [
       "-16.537112606599216"
      ]
     },
     "metadata": {},
     "output_type": "display_data"
    },
    {
     "data": {
      "text/plain": [
       "-16.419878538052092"
      ]
     },
     "metadata": {},
     "output_type": "display_data"
    },
    {
     "data": {
      "text/plain": [
       "-16.287549059489265"
      ]
     },
     "metadata": {},
     "output_type": "display_data"
    },
    {
     "data": {
      "text/plain": [
       "-16.142239772286985"
      ]
     },
     "metadata": {},
     "output_type": "display_data"
    },
    {
     "data": {
      "text/plain": [
       "-15.98582009169812"
      ]
     },
     "metadata": {},
     "output_type": "display_data"
    },
    {
     "data": {
      "text/plain": [
       "-15.819908090839235"
      ]
     },
     "metadata": {},
     "output_type": "display_data"
    },
    {
     "data": {
      "text/plain": [
       "-15.64588529002657"
      ]
     },
     "metadata": {},
     "output_type": "display_data"
    },
    {
     "data": {
      "text/plain": [
       "-15.464921238602493"
      ]
     },
     "metadata": {},
     "output_type": "display_data"
    },
    {
     "data": {
      "text/plain": [
       "-15.278001341506549"
      ]
     },
     "metadata": {},
     "output_type": "display_data"
    },
    {
     "data": {
      "text/plain": [
       "-15.08595416994654"
      ]
     },
     "metadata": {},
     "output_type": "display_data"
    },
    {
     "data": {
      "text/plain": [
       "-14.889476373495542"
      ]
     },
     "metadata": {},
     "output_type": "display_data"
    },
    {
     "data": {
      "text/plain": [
       "-14.689154457378683"
      ]
     },
     "metadata": {},
     "output_type": "display_data"
    },
    {
     "data": {
      "text/plain": [
       "-14.485483328629352"
      ]
     },
     "metadata": {},
     "output_type": "display_data"
    },
    {
     "data": {
      "text/plain": [
       "-14.278881835555868"
      ]
     },
     "metadata": {},
     "output_type": "display_data"
    },
    {
     "data": {
      "text/plain": [
       "-14.06970565875092"
      ]
     },
     "metadata": {},
     "output_type": "display_data"
    },
    {
     "data": {
      "text/plain": [
       "-13.858257943560147"
      ]
     },
     "metadata": {},
     "output_type": "display_data"
    },
    {
     "data": {
      "text/plain": [
       "-13.644798044532154"
      ]
     },
     "metadata": {},
     "output_type": "display_data"
    },
    {
     "data": {
      "text/plain": [
       "-13.429548710944438"
      ]
     },
     "metadata": {},
     "output_type": "display_data"
    },
    {
     "data": {
      "text/plain": [
       "-13.21270199466855"
      ]
     },
     "metadata": {},
     "output_type": "display_data"
    },
    {
     "data": {
      "text/plain": [
       "-12.994424115205298"
      ]
     },
     "metadata": {},
     "output_type": "display_data"
    },
    {
     "data": {
      "text/plain": [
       "-12.774859475127199"
      ]
     },
     "metadata": {},
     "output_type": "display_data"
    },
    {
     "data": {
      "text/plain": [
       "-12.554133983521368"
      ]
     },
     "metadata": {},
     "output_type": "display_data"
    },
    {
     "data": {
      "text/plain": [
       "-12.332357815282503"
      ]
     },
     "metadata": {},
     "output_type": "display_data"
    },
    {
     "data": {
      "text/plain": [
       "-12.10962770969157"
      ]
     },
     "metadata": {},
     "output_type": "display_data"
    },
    {
     "data": {
      "text/plain": [
       "-11.886028891883608"
      ]
     },
     "metadata": {},
     "output_type": "display_data"
    },
    {
     "data": {
      "text/plain": [
       "-11.66163668479852"
      ]
     },
     "metadata": {},
     "output_type": "display_data"
    },
    {
     "data": {
      "text/plain": [
       "-11.436517866330881"
      ]
     },
     "metadata": {},
     "output_type": "display_data"
    },
    {
     "data": {
      "text/plain": [
       "-11.210731816052377"
      ]
     },
     "metadata": {},
     "output_type": "display_data"
    },
    {
     "data": {
      "text/plain": [
       "-10.984331487578759"
      ]
     },
     "metadata": {},
     "output_type": "display_data"
    },
    {
     "data": {
      "text/plain": [
       "-10.757364235980495"
      ]
     },
     "metadata": {},
     "output_type": "display_data"
    },
    {
     "data": {
      "text/plain": [
       "-10.529872524270292"
      ]
     },
     "metadata": {},
     "output_type": "display_data"
    },
    {
     "data": {
      "text/plain": [
       "-10.301894528672296"
      ]
     },
     "metadata": {},
     "output_type": "display_data"
    },
    {
     "data": {
      "text/plain": [
       "-10.073464658882186"
      ]
     },
     "metadata": {},
     "output_type": "display_data"
    },
    {
     "data": {
      "text/plain": [
       "-9.844614006627982"
      ]
     },
     "metadata": {},
     "output_type": "display_data"
    }
   ],
   "source": [
    "# Check conic violation\n",
    "convio = 0.0\n",
    "for k = 1:N-1\n",
    "    Uc = cone_u(params, U[k])\n",
    "    huc = norm(Uc[1:2]) - Uc[3]\n",
    "    convio = norm(huc + abs.(huc),Inf)\n",
    "    display(huc) # should <= 0\n",
    "end\n",
    "Xref .= Xn;\n",
    "Uref .= Un;"
   ]
  },
  {
   "cell_type": "code",
   "execution_count": 498,
   "id": "5c8d15e2-a563-4077-96df-8f829ba24d00",
   "metadata": {},
   "outputs": [],
   "source": [
    "### MPC style ###\n",
    "Nsim = 121\n",
    "Nh = 30\n",
    "t_vec = dt*(0:Nsim-1)\n",
    "\n",
    "# x0 = [4, 2, 20, -3, 2, -5.0]  # initial plan\n",
    "x0 = [5, 2, 21, -3, 2, -5.0]  # change this!\n",
    "# x0 = [5, 3, 21, -3, 2, -5.0]\n",
    "\n",
    "xg = [0,0,0,0,0,0.0]\n",
    "Q = 10e-1*Diagonal([1,1,1,1.0,1,1])  # make this higher!\n",
    "R = 1e-1*Diagonal([1,1,1])\n",
    "Qf = 1000*Q  # change this!\n",
    "θ_thrust_max = 12.0  # increase max thrust from plan!\n",
    "\n",
    "# state is x y v θ\n",
    "x_min = [-5,-5,0,-10,-10,-10.0]\n",
    "x_max = [5,5,20,10,10,10.0]\n",
    "\n",
    "ncx = 2*nx*0\n",
    "ncu = 2*nu*0\n",
    "ncg = 0\n",
    "ncu_cone = nu*1; \n",
    "cone_scale = 1\n",
    "\n",
    "params = (\n",
    "    nx = nx,\n",
    "    nu = nu,\n",
    "    ncx = ncx,\n",
    "    ncu = ncu,\n",
    "    ncg = ncg,\n",
    "    ncu_cone = ncu_cone,\n",
    "    A_cone = A_cone,\n",
    "    c_cone = c_cone,\n",
    "    N = Nh,\n",
    "    Q = Q,\n",
    "    R = R,\n",
    "    Qf = Qf,\n",
    "    u_min = u_min,\n",
    "    u_max = u_max,\n",
    "    x_min = x_min,\n",
    "    x_max = x_max,\n",
    "    Xref = Xref,\n",
    "    Uref = Uref,\n",
    "    dt = dt,\n",
    "    mc = 1.0,\n",
    "    mp = 0.2,\n",
    "    l = 0.5,\n",
    "    g = 9.81,\n",
    ");\n",
    "\n",
    "Xhist = [deepcopy(x0) for i = 1:Nsim]\n",
    "Uhist = [mass * gravity for k = 1:Nsim-1]\n",
    "# previous iterate\n",
    "X = [deepcopy(x0) for i = 1:Nh]\n",
    "U = [mass * gravity for k = 1:Nh-1]\n",
    "\n",
    "# new iterate\n",
    "Xn = deepcopy(X)\n",
    "Un = deepcopy(U)\n",
    "\n",
    "P = [zeros(nx,nx) for i = 1:Nh]   # cost to go quadratic term\n",
    "p = [zeros(nx) for i = 1:Nh]      # cost to go linear term\n",
    "d = [zeros(nu) for i = 1:Nh-1]    # feedforward control\n",
    "K = [zeros(nu,nx) for i = 1:Nh-1] # feedback gain\n",
    "\n",
    "for i = 1:Nsim-Nh-1\n",
    "    params1 = (; params..., Uref = Uref[i:Nh+i], Xref = Xref[i:Nh+i-1])  # update ref\n",
    "    X[1] .= Xhist[i]  # update initial\n",
    "    X_ = mpc(params1,X,U,P,p,K,d,Xn,Un;atol=1e-1,max_iters = 10,verbose = false,ρ = 1e0, ϕ = 10.0);\n",
    "    Uhist[i] = Un[1]\n",
    "    Xhist[i+1] = discrete_dynamics(params1,Xhist[i],Uhist[i],i)  # dynamics\n",
    "end"
   ]
  },
  {
   "cell_type": "code",
   "execution_count": 499,
   "id": "d651f59e-e700-4bc9-927c-98835f2679f4",
   "metadata": {},
   "outputs": [
    {
     "data": {
      "text/plain": [
       "-1.0108488344164073"
      ]
     },
     "metadata": {},
     "output_type": "display_data"
    },
    {
     "data": {
      "text/plain": [
       "-1.6093237457262823"
      ]
     },
     "metadata": {},
     "output_type": "display_data"
    },
    {
     "data": {
      "text/plain": [
       "-2.1086268382548745"
      ]
     },
     "metadata": {},
     "output_type": "display_data"
    },
    {
     "data": {
      "text/plain": [
       "-2.5209043597372407"
      ]
     },
     "metadata": {},
     "output_type": "display_data"
    },
    {
     "data": {
      "text/plain": [
       "-2.8583983440868934"
      ]
     },
     "metadata": {},
     "output_type": "display_data"
    },
    {
     "data": {
      "text/plain": [
       "-3.13299956978085"
      ]
     },
     "metadata": {},
     "output_type": "display_data"
    },
    {
     "data": {
      "text/plain": [
       "-3.355898270273155"
      ]
     },
     "metadata": {},
     "output_type": "display_data"
    },
    {
     "data": {
      "text/plain": [
       "-3.5373454965909907"
      ]
     },
     "metadata": {},
     "output_type": "display_data"
    },
    {
     "data": {
      "text/plain": [
       "-3.6865191187019164"
      ]
     },
     "metadata": {},
     "output_type": "display_data"
    },
    {
     "data": {
      "text/plain": [
       "-3.811476928484911"
      ]
     },
     "metadata": {},
     "output_type": "display_data"
    },
    {
     "data": {
      "text/plain": [
       "-3.9191748547812324"
      ]
     },
     "metadata": {},
     "output_type": "display_data"
    },
    {
     "data": {
      "text/plain": [
       "-4.015528910786713"
      ]
     },
     "metadata": {},
     "output_type": "display_data"
    },
    {
     "data": {
      "text/plain": [
       "-4.105502864649836"
      ]
     },
     "metadata": {},
     "output_type": "display_data"
    },
    {
     "data": {
      "text/plain": [
       "-4.193207939132048"
      ]
     },
     "metadata": {},
     "output_type": "display_data"
    },
    {
     "data": {
      "text/plain": [
       "-4.2820049853404285"
      ]
     },
     "metadata": {},
     "output_type": "display_data"
    },
    {
     "data": {
      "text/plain": [
       "-4.374603010640186"
      ]
     },
     "metadata": {},
     "output_type": "display_data"
    },
    {
     "data": {
      "text/plain": [
       "-4.473150533383215"
      ]
     },
     "metadata": {},
     "output_type": "display_data"
    },
    {
     "data": {
      "text/plain": [
       "-4.579318055404382"
      ]
     },
     "metadata": {},
     "output_type": "display_data"
    },
    {
     "data": {
      "text/plain": [
       "-4.694371137445394"
      ]
     },
     "metadata": {},
     "output_type": "display_data"
    },
    {
     "data": {
      "text/plain": [
       "-4.819234294064163"
      ]
     },
     "metadata": {},
     "output_type": "display_data"
    },
    {
     "data": {
      "text/plain": [
       "-4.9545463334586906"
      ]
     },
     "metadata": {},
     "output_type": "display_data"
    },
    {
     "data": {
      "text/plain": [
       "-5.10070796329256"
      ]
     },
     "metadata": {},
     "output_type": "display_data"
    },
    {
     "data": {
      "text/plain": [
       "-5.257922545456665"
      ]
     },
     "metadata": {},
     "output_type": "display_data"
    },
    {
     "data": {
      "text/plain": [
       "-5.426230865512995"
      ]
     },
     "metadata": {},
     "output_type": "display_data"
    },
    {
     "data": {
      "text/plain": [
       "-5.605540722522193"
      ]
     },
     "metadata": {},
     "output_type": "display_data"
    },
    {
     "data": {
      "text/plain": [
       "-5.79565206502388"
      ]
     },
     "metadata": {},
     "output_type": "display_data"
    },
    {
     "data": {
      "text/plain": [
       "-5.996278313050436"
      ]
     },
     "metadata": {},
     "output_type": "display_data"
    },
    {
     "data": {
      "text/plain": [
       "-6.207064422209889"
      ]
     },
     "metadata": {},
     "output_type": "display_data"
    },
    {
     "data": {
      "text/plain": [
       "-6.427602168269482"
      ]
     },
     "metadata": {},
     "output_type": "display_data"
    },
    {
     "data": {
      "text/plain": [
       "-6.657443061179645"
      ]
     },
     "metadata": {},
     "output_type": "display_data"
    },
    {
     "data": {
      "text/plain": [
       "-6.896109236575084"
      ]
     },
     "metadata": {},
     "output_type": "display_data"
    },
    {
     "data": {
      "text/plain": [
       "-7.143102620188099"
      ]
     },
     "metadata": {},
     "output_type": "display_data"
    },
    {
     "data": {
      "text/plain": [
       "-7.397912615621793"
      ]
     },
     "metadata": {},
     "output_type": "display_data"
    },
    {
     "data": {
      "text/plain": [
       "-7.66002252770722"
      ]
     },
     "metadata": {},
     "output_type": "display_data"
    },
    {
     "data": {
      "text/plain": [
       "-7.928914901325845"
      ]
     },
     "metadata": {},
     "output_type": "display_data"
    },
    {
     "data": {
      "text/plain": [
       "-8.204075928273598"
      ]
     },
     "metadata": {},
     "output_type": "display_data"
    },
    {
     "data": {
      "text/plain": [
       "-8.484999051710085"
      ]
     },
     "metadata": {},
     "output_type": "display_data"
    },
    {
     "data": {
      "text/plain": [
       "-8.771187878292992"
      ]
     },
     "metadata": {},
     "output_type": "display_data"
    },
    {
     "data": {
      "text/plain": [
       "-9.062158491660536"
      ]
     },
     "metadata": {},
     "output_type": "display_data"
    },
    {
     "data": {
      "text/plain": [
       "-9.357441246982942"
      ]
     },
     "metadata": {},
     "output_type": "display_data"
    },
    {
     "data": {
      "text/plain": [
       "-9.656582114432709"
      ]
     },
     "metadata": {},
     "output_type": "display_data"
    },
    {
     "data": {
      "text/plain": [
       "-9.959143629256028"
      ]
     },
     "metadata": {},
     "output_type": "display_data"
    },
    {
     "data": {
      "text/plain": [
       "-10.264705497354905"
      ]
     },
     "metadata": {},
     "output_type": "display_data"
    },
    {
     "data": {
      "text/plain": [
       "-10.57286489764722"
      ]
     },
     "metadata": {},
     "output_type": "display_data"
    },
    {
     "data": {
      "text/plain": [
       "-10.883236515735986"
      ]
     },
     "metadata": {},
     "output_type": "display_data"
    },
    {
     "data": {
      "text/plain": [
       "-11.19545233738572"
      ]
     },
     "metadata": {},
     "output_type": "display_data"
    },
    {
     "data": {
      "text/plain": [
       "-11.50916122480321"
      ]
     },
     "metadata": {},
     "output_type": "display_data"
    },
    {
     "data": {
      "text/plain": [
       "-11.824028293583982"
      ]
     },
     "metadata": {},
     "output_type": "display_data"
    },
    {
     "data": {
      "text/plain": [
       "-12.139734103266028"
      ]
     },
     "metadata": {},
     "output_type": "display_data"
    },
    {
     "data": {
      "text/plain": [
       "-12.455973669573009"
      ]
     },
     "metadata": {},
     "output_type": "display_data"
    },
    {
     "data": {
      "text/plain": [
       "-12.772455301476022"
      ]
     },
     "metadata": {},
     "output_type": "display_data"
    },
    {
     "data": {
      "text/plain": [
       "-13.088899260985956"
      ]
     },
     "metadata": {},
     "output_type": "display_data"
    },
    {
     "data": {
      "text/plain": [
       "-13.405036237919303"
      ]
     },
     "metadata": {},
     "output_type": "display_data"
    },
    {
     "data": {
      "text/plain": [
       "-13.720605625539287"
      ]
     },
     "metadata": {},
     "output_type": "display_data"
    },
    {
     "data": {
      "text/plain": [
       "-14.035353575706292"
      ]
     },
     "metadata": {},
     "output_type": "display_data"
    },
    {
     "data": {
      "text/plain": [
       "-14.349030803663524"
      ]
     },
     "metadata": {},
     "output_type": "display_data"
    },
    {
     "data": {
      "text/plain": [
       "-14.661390102463544"
      ]
     },
     "metadata": {},
     "output_type": "display_data"
    },
    {
     "data": {
      "text/plain": [
       "-14.972183514855473"
      ]
     },
     "metadata": {},
     "output_type": "display_data"
    },
    {
     "data": {
      "text/plain": [
       "-15.28115909565162"
      ]
     },
     "metadata": {},
     "output_type": "display_data"
    },
    {
     "data": {
      "text/plain": [
       "-15.588057179540385"
      ]
     },
     "metadata": {},
     "output_type": "display_data"
    },
    {
     "data": {
      "text/plain": [
       "-15.892606047261532"
      ]
     },
     "metadata": {},
     "output_type": "display_data"
    },
    {
     "data": {
      "text/plain": [
       "-16.19451685622763"
      ]
     },
     "metadata": {},
     "output_type": "display_data"
    },
    {
     "data": {
      "text/plain": [
       "-16.493477669289643"
      ]
     },
     "metadata": {},
     "output_type": "display_data"
    },
    {
     "data": {
      "text/plain": [
       "-16.789146376880346"
      ]
     },
     "metadata": {},
     "output_type": "display_data"
    },
    {
     "data": {
      "text/plain": [
       "-17.081142263307456"
      ]
     },
     "metadata": {},
     "output_type": "display_data"
    },
    {
     "data": {
      "text/plain": [
       "-17.369035918942295"
      ]
     },
     "metadata": {},
     "output_type": "display_data"
    },
    {
     "data": {
      "text/plain": [
       "-17.652337150542273"
      ]
     },
     "metadata": {},
     "output_type": "display_data"
    },
    {
     "data": {
      "text/plain": [
       "-17.930480500976646"
      ]
     },
     "metadata": {},
     "output_type": "display_data"
    },
    {
     "data": {
      "text/plain": [
       "-18.20280797499771"
      ]
     },
     "metadata": {},
     "output_type": "display_data"
    },
    {
     "data": {
      "text/plain": [
       "-18.4685486121807"
      ]
     },
     "metadata": {},
     "output_type": "display_data"
    },
    {
     "data": {
      "text/plain": [
       "-18.726794708882807"
      ]
     },
     "metadata": {},
     "output_type": "display_data"
    },
    {
     "data": {
      "text/plain": [
       "-18.97647486237556"
      ]
     },
     "metadata": {},
     "output_type": "display_data"
    },
    {
     "data": {
      "text/plain": [
       "-19.216324737924136"
      ]
     },
     "metadata": {},
     "output_type": "display_data"
    },
    {
     "data": {
      "text/plain": [
       "-19.44485774770712"
      ]
     },
     "metadata": {},
     "output_type": "display_data"
    },
    {
     "data": {
      "text/plain": [
       "-19.660339919000773"
      ]
     },
     "metadata": {},
     "output_type": "display_data"
    },
    {
     "data": {
      "text/plain": [
       "-19.860776293808254"
      ]
     },
     "metadata": {},
     "output_type": "display_data"
    },
    {
     "data": {
      "text/plain": [
       "-20.043920102486766"
      ]
     },
     "metadata": {},
     "output_type": "display_data"
    },
    {
     "data": {
      "text/plain": [
       "-20.207319762444747"
      ]
     },
     "metadata": {},
     "output_type": "display_data"
    },
    {
     "data": {
      "text/plain": [
       "-20.34842015750191"
      ]
     },
     "metadata": {},
     "output_type": "display_data"
    },
    {
     "data": {
      "text/plain": [
       "-20.464729771084293"
      ]
     },
     "metadata": {},
     "output_type": "display_data"
    },
    {
     "data": {
      "text/plain": [
       "-20.554050026609342"
      ]
     },
     "metadata": {},
     "output_type": "display_data"
    },
    {
     "data": {
      "text/plain": [
       "-20.6147374544059"
      ]
     },
     "metadata": {},
     "output_type": "display_data"
    },
    {
     "data": {
      "text/plain": [
       "-20.645941836308882"
      ]
     },
     "metadata": {},
     "output_type": "display_data"
    },
    {
     "data": {
      "text/plain": [
       "-20.64775186981718"
      ]
     },
     "metadata": {},
     "output_type": "display_data"
    },
    {
     "data": {
      "text/plain": [
       "-20.621199176478434"
      ]
     },
     "metadata": {},
     "output_type": "display_data"
    },
    {
     "data": {
      "text/plain": [
       "-20.568117806076277"
      ]
     },
     "metadata": {},
     "output_type": "display_data"
    },
    {
     "data": {
      "text/plain": [
       "-20.490904707154264"
      ]
     },
     "metadata": {},
     "output_type": "display_data"
    },
    {
     "data": {
      "text/plain": [
       "-20.392250073527165"
      ]
     },
     "metadata": {},
     "output_type": "display_data"
    },
    {
     "data": {
      "text/plain": [
       "-20.274897833778265"
      ]
     },
     "metadata": {},
     "output_type": "display_data"
    },
    {
     "data": {
      "text/plain": [
       "-20.141469335134477"
      ]
     },
     "metadata": {},
     "output_type": "display_data"
    },
    {
     "data": {
      "text/plain": [
       "-20.85179869982917"
      ]
     },
     "metadata": {},
     "output_type": "display_data"
    },
    {
     "data": {
      "text/plain": [
       "-20.85179869982917"
      ]
     },
     "metadata": {},
     "output_type": "display_data"
    },
    {
     "data": {
      "text/plain": [
       "-20.85179869982917"
      ]
     },
     "metadata": {},
     "output_type": "display_data"
    },
    {
     "data": {
      "text/plain": [
       "-20.85179869982917"
      ]
     },
     "metadata": {},
     "output_type": "display_data"
    },
    {
     "data": {
      "text/plain": [
       "-20.85179869982917"
      ]
     },
     "metadata": {},
     "output_type": "display_data"
    },
    {
     "data": {
      "text/plain": [
       "-20.85179869982917"
      ]
     },
     "metadata": {},
     "output_type": "display_data"
    },
    {
     "data": {
      "text/plain": [
       "-20.85179869982917"
      ]
     },
     "metadata": {},
     "output_type": "display_data"
    },
    {
     "data": {
      "text/plain": [
       "-20.85179869982917"
      ]
     },
     "metadata": {},
     "output_type": "display_data"
    },
    {
     "data": {
      "text/plain": [
       "-20.85179869982917"
      ]
     },
     "metadata": {},
     "output_type": "display_data"
    },
    {
     "data": {
      "text/plain": [
       "-20.85179869982917"
      ]
     },
     "metadata": {},
     "output_type": "display_data"
    },
    {
     "data": {
      "text/plain": [
       "-20.85179869982917"
      ]
     },
     "metadata": {},
     "output_type": "display_data"
    },
    {
     "data": {
      "text/plain": [
       "-20.85179869982917"
      ]
     },
     "metadata": {},
     "output_type": "display_data"
    },
    {
     "data": {
      "text/plain": [
       "-20.85179869982917"
      ]
     },
     "metadata": {},
     "output_type": "display_data"
    },
    {
     "data": {
      "text/plain": [
       "-20.85179869982917"
      ]
     },
     "metadata": {},
     "output_type": "display_data"
    },
    {
     "data": {
      "text/plain": [
       "-20.85179869982917"
      ]
     },
     "metadata": {},
     "output_type": "display_data"
    },
    {
     "data": {
      "text/plain": [
       "-20.85179869982917"
      ]
     },
     "metadata": {},
     "output_type": "display_data"
    },
    {
     "data": {
      "text/plain": [
       "-20.85179869982917"
      ]
     },
     "metadata": {},
     "output_type": "display_data"
    },
    {
     "data": {
      "text/plain": [
       "-20.85179869982917"
      ]
     },
     "metadata": {},
     "output_type": "display_data"
    },
    {
     "data": {
      "text/plain": [
       "-20.85179869982917"
      ]
     },
     "metadata": {},
     "output_type": "display_data"
    },
    {
     "data": {
      "text/plain": [
       "-20.85179869982917"
      ]
     },
     "metadata": {},
     "output_type": "display_data"
    },
    {
     "data": {
      "text/plain": [
       "-20.85179869982917"
      ]
     },
     "metadata": {},
     "output_type": "display_data"
    },
    {
     "data": {
      "text/plain": [
       "-20.85179869982917"
      ]
     },
     "metadata": {},
     "output_type": "display_data"
    },
    {
     "data": {
      "text/plain": [
       "-20.85179869982917"
      ]
     },
     "metadata": {},
     "output_type": "display_data"
    },
    {
     "data": {
      "text/plain": [
       "-20.85179869982917"
      ]
     },
     "metadata": {},
     "output_type": "display_data"
    },
    {
     "data": {
      "text/plain": [
       "-20.85179869982917"
      ]
     },
     "metadata": {},
     "output_type": "display_data"
    },
    {
     "data": {
      "text/plain": [
       "-20.85179869982917"
      ]
     },
     "metadata": {},
     "output_type": "display_data"
    },
    {
     "data": {
      "text/plain": [
       "-20.85179869982917"
      ]
     },
     "metadata": {},
     "output_type": "display_data"
    },
    {
     "data": {
      "text/plain": [
       "-20.85179869982917"
      ]
     },
     "metadata": {},
     "output_type": "display_data"
    },
    {
     "data": {
      "text/plain": [
       "-20.85179869982917"
      ]
     },
     "metadata": {},
     "output_type": "display_data"
    },
    {
     "data": {
      "text/plain": [
       "-20.85179869982917"
      ]
     },
     "metadata": {},
     "output_type": "display_data"
    }
   ],
   "source": [
    "# Check conic violation\n",
    "convio = 0.0\n",
    "for k = 1:Nsim-1\n",
    "    Uc = cone_u(params, Uhist[k])\n",
    "    huc = norm(Uc[1:2]) - Uc[3]\n",
    "    convio = norm(huc + abs.(huc),Inf)\n",
    "    display(huc) # should <= 0\n",
    "end"
   ]
  },
  {
   "cell_type": "code",
   "execution_count": 500,
   "id": "ffaab90d-dddc-4512-8c8b-4561cd053fdf",
   "metadata": {},
   "outputs": [
    {
     "data": {
      "image/svg+xml": [
       "<?xml version=\"1.0\" encoding=\"utf-8\"?>\n",
       "<svg xmlns=\"http://www.w3.org/2000/svg\" xmlns:xlink=\"http://www.w3.org/1999/xlink\" width=\"600\" height=\"400\" viewBox=\"0 0 2400 1600\">\n",
       "<defs>\n",
       "  <clipPath id=\"clip840\">\n",
       "    <rect x=\"0\" y=\"0\" width=\"2400\" height=\"1600\"/>\n",
       "  </clipPath>\n",
       "</defs>\n",
       "<path clip-path=\"url(#clip840)\" d=\"M0 1600 L2400 1600 L2400 0 L0 0  Z\" fill=\"#ffffff\" fill-rule=\"evenodd\" fill-opacity=\"1\"/>\n",
       "<defs>\n",
       "  <clipPath id=\"clip841\">\n",
       "    <rect x=\"480\" y=\"0\" width=\"1681\" height=\"1600\"/>\n",
       "  </clipPath>\n",
       "</defs>\n",
       "<path clip-path=\"url(#clip840)\" d=\"M257.366 1423.18 L2352.76 1423.18 L2352.76 123.472 L257.366 123.472  Z\" fill=\"#ffffff\" fill-rule=\"evenodd\" fill-opacity=\"1\"/>\n",
       "<defs>\n",
       "  <clipPath id=\"clip842\">\n",
       "    <rect x=\"257\" y=\"123\" width=\"2096\" height=\"1301\"/>\n",
       "  </clipPath>\n",
       "</defs>\n",
       "<polyline clip-path=\"url(#clip842)\" style=\"stroke:#000000; stroke-linecap:round; stroke-linejoin:round; stroke-width:2; stroke-opacity:0.1; fill:none\" points=\"316.67,1423.18 316.67,123.472 \"/>\n",
       "<polyline clip-path=\"url(#clip842)\" style=\"stroke:#000000; stroke-linecap:round; stroke-linejoin:round; stroke-width:2; stroke-opacity:0.1; fill:none\" points=\"755.955,1423.18 755.955,123.472 \"/>\n",
       "<polyline clip-path=\"url(#clip842)\" style=\"stroke:#000000; stroke-linecap:round; stroke-linejoin:round; stroke-width:2; stroke-opacity:0.1; fill:none\" points=\"1195.24,1423.18 1195.24,123.472 \"/>\n",
       "<polyline clip-path=\"url(#clip842)\" style=\"stroke:#000000; stroke-linecap:round; stroke-linejoin:round; stroke-width:2; stroke-opacity:0.1; fill:none\" points=\"1634.52,1423.18 1634.52,123.472 \"/>\n",
       "<polyline clip-path=\"url(#clip842)\" style=\"stroke:#000000; stroke-linecap:round; stroke-linejoin:round; stroke-width:2; stroke-opacity:0.1; fill:none\" points=\"2073.81,1423.18 2073.81,123.472 \"/>\n",
       "<polyline clip-path=\"url(#clip840)\" style=\"stroke:#000000; stroke-linecap:round; stroke-linejoin:round; stroke-width:4; stroke-opacity:1; fill:none\" points=\"257.366,1423.18 2352.76,1423.18 \"/>\n",
       "<polyline clip-path=\"url(#clip840)\" style=\"stroke:#000000; stroke-linecap:round; stroke-linejoin:round; stroke-width:4; stroke-opacity:1; fill:none\" points=\"316.67,1423.18 316.67,1404.28 \"/>\n",
       "<polyline clip-path=\"url(#clip840)\" style=\"stroke:#000000; stroke-linecap:round; stroke-linejoin:round; stroke-width:4; stroke-opacity:1; fill:none\" points=\"755.955,1423.18 755.955,1404.28 \"/>\n",
       "<polyline clip-path=\"url(#clip840)\" style=\"stroke:#000000; stroke-linecap:round; stroke-linejoin:round; stroke-width:4; stroke-opacity:1; fill:none\" points=\"1195.24,1423.18 1195.24,1404.28 \"/>\n",
       "<polyline clip-path=\"url(#clip840)\" style=\"stroke:#000000; stroke-linecap:round; stroke-linejoin:round; stroke-width:4; stroke-opacity:1; fill:none\" points=\"1634.52,1423.18 1634.52,1404.28 \"/>\n",
       "<polyline clip-path=\"url(#clip840)\" style=\"stroke:#000000; stroke-linecap:round; stroke-linejoin:round; stroke-width:4; stroke-opacity:1; fill:none\" points=\"2073.81,1423.18 2073.81,1404.28 \"/>\n",
       "<path clip-path=\"url(#clip840)\" d=\"M316.67 1454.1 Q313.058 1454.1 311.23 1457.66 Q309.424 1461.2 309.424 1468.33 Q309.424 1475.44 311.23 1479.01 Q313.058 1482.55 316.67 1482.55 Q320.304 1482.55 322.109 1479.01 Q323.938 1475.44 323.938 1468.33 Q323.938 1461.2 322.109 1457.66 Q320.304 1454.1 316.67 1454.1 M316.67 1450.39 Q322.48 1450.39 325.535 1455 Q328.614 1459.58 328.614 1468.33 Q328.614 1477.06 325.535 1481.67 Q322.48 1486.25 316.67 1486.25 Q310.859 1486.25 307.781 1481.67 Q304.725 1477.06 304.725 1468.33 Q304.725 1459.58 307.781 1455 Q310.859 1450.39 316.67 1450.39 Z\" fill=\"#000000\" fill-rule=\"evenodd\" fill-opacity=\"1\" /><path clip-path=\"url(#clip840)\" d=\"M750.607 1481.64 L766.927 1481.64 L766.927 1485.58 L744.982 1485.58 L744.982 1481.64 Q747.644 1478.89 752.228 1474.26 Q756.834 1469.61 758.015 1468.27 Q760.26 1465.74 761.14 1464.01 Q762.043 1462.25 762.043 1460.56 Q762.043 1457.8 760.098 1456.07 Q758.177 1454.33 755.075 1454.33 Q752.876 1454.33 750.422 1455.09 Q747.992 1455.86 745.214 1457.41 L745.214 1452.69 Q748.038 1451.55 750.492 1450.97 Q752.945 1450.39 754.982 1450.39 Q760.353 1450.39 763.547 1453.08 Q766.742 1455.77 766.742 1460.26 Q766.742 1462.39 765.931 1464.31 Q765.144 1466.2 763.038 1468.8 Q762.459 1469.47 759.357 1472.69 Q756.256 1475.88 750.607 1481.64 Z\" fill=\"#000000\" fill-rule=\"evenodd\" fill-opacity=\"1\" /><path clip-path=\"url(#clip840)\" d=\"M1198.25 1455.09 L1186.44 1473.54 L1198.25 1473.54 L1198.25 1455.09 M1197.02 1451.02 L1202.9 1451.02 L1202.9 1473.54 L1207.83 1473.54 L1207.83 1477.43 L1202.9 1477.43 L1202.9 1485.58 L1198.25 1485.58 L1198.25 1477.43 L1182.65 1477.43 L1182.65 1472.92 L1197.02 1451.02 Z\" fill=\"#000000\" fill-rule=\"evenodd\" fill-opacity=\"1\" /><path clip-path=\"url(#clip840)\" d=\"M1634.93 1466.44 Q1631.78 1466.44 1629.93 1468.59 Q1628.1 1470.74 1628.1 1474.49 Q1628.1 1478.22 1629.93 1480.39 Q1631.78 1482.55 1634.93 1482.55 Q1638.08 1482.55 1639.91 1480.39 Q1641.76 1478.22 1641.76 1474.49 Q1641.76 1470.74 1639.91 1468.59 Q1638.08 1466.44 1634.93 1466.44 M1644.21 1451.78 L1644.21 1456.04 Q1642.45 1455.21 1640.65 1454.77 Q1638.87 1454.33 1637.11 1454.33 Q1632.48 1454.33 1630.02 1457.45 Q1627.59 1460.58 1627.24 1466.9 Q1628.61 1464.89 1630.67 1463.82 Q1632.73 1462.73 1635.21 1462.73 Q1640.42 1462.73 1643.43 1465.9 Q1646.46 1469.05 1646.46 1474.49 Q1646.46 1479.82 1643.31 1483.03 Q1640.16 1486.25 1634.93 1486.25 Q1628.93 1486.25 1625.76 1481.67 Q1622.59 1477.06 1622.59 1468.33 Q1622.59 1460.14 1626.48 1455.28 Q1630.37 1450.39 1636.92 1450.39 Q1638.68 1450.39 1640.46 1450.74 Q1642.27 1451.09 1644.21 1451.78 Z\" fill=\"#000000\" fill-rule=\"evenodd\" fill-opacity=\"1\" /><path clip-path=\"url(#clip840)\" d=\"M2073.81 1469.17 Q2070.48 1469.17 2068.56 1470.95 Q2066.66 1472.73 2066.66 1475.86 Q2066.66 1478.98 2068.56 1480.77 Q2070.48 1482.55 2073.81 1482.55 Q2077.14 1482.55 2079.06 1480.77 Q2080.99 1478.96 2080.99 1475.86 Q2080.99 1472.73 2079.06 1470.95 Q2077.17 1469.17 2073.81 1469.17 M2069.13 1467.18 Q2066.12 1466.44 2064.43 1464.38 Q2062.77 1462.32 2062.77 1459.35 Q2062.77 1455.21 2065.71 1452.8 Q2068.67 1450.39 2073.81 1450.39 Q2078.97 1450.39 2081.91 1452.8 Q2084.85 1455.21 2084.85 1459.35 Q2084.85 1462.32 2083.16 1464.38 Q2081.5 1466.44 2078.51 1467.18 Q2081.89 1467.96 2083.76 1470.26 Q2085.66 1472.55 2085.66 1475.86 Q2085.66 1480.88 2082.58 1483.57 Q2079.53 1486.25 2073.81 1486.25 Q2068.09 1486.25 2065.01 1483.57 Q2061.96 1480.88 2061.96 1475.86 Q2061.96 1472.55 2063.86 1470.26 Q2065.75 1467.96 2069.13 1467.18 M2067.42 1459.79 Q2067.42 1462.48 2069.09 1463.98 Q2070.78 1465.49 2073.81 1465.49 Q2076.82 1465.49 2078.51 1463.98 Q2080.22 1462.48 2080.22 1459.79 Q2080.22 1457.11 2078.51 1455.6 Q2076.82 1454.1 2073.81 1454.1 Q2070.78 1454.1 2069.09 1455.6 Q2067.42 1457.11 2067.42 1459.79 Z\" fill=\"#000000\" fill-rule=\"evenodd\" fill-opacity=\"1\" /><path clip-path=\"url(#clip840)\" d=\"M1192.52 1522.27 L1192.52 1532.4 L1204.58 1532.4 L1204.58 1536.95 L1192.52 1536.95 L1192.52 1556.3 Q1192.52 1560.66 1193.69 1561.9 Q1194.9 1563.14 1198.56 1563.14 L1204.58 1563.14 L1204.58 1568.04 L1198.56 1568.04 Q1191.78 1568.04 1189.21 1565.53 Q1186.63 1562.98 1186.63 1556.3 L1186.63 1536.95 L1182.33 1536.95 L1182.33 1532.4 L1186.63 1532.4 L1186.63 1522.27 L1192.52 1522.27 Z\" fill=\"#000000\" fill-rule=\"evenodd\" fill-opacity=\"1\" /><path clip-path=\"url(#clip840)\" d=\"M1212.28 1532.4 L1218.14 1532.4 L1218.14 1568.04 L1212.28 1568.04 L1212.28 1532.4 M1212.28 1518.52 L1218.14 1518.52 L1218.14 1525.93 L1212.28 1525.93 L1212.28 1518.52 Z\" fill=\"#000000\" fill-rule=\"evenodd\" fill-opacity=\"1\" /><path clip-path=\"url(#clip840)\" d=\"M1258.15 1539.24 Q1260.34 1535.29 1263.4 1533.41 Q1266.45 1531.54 1270.59 1531.54 Q1276.16 1531.54 1279.18 1535.45 Q1282.21 1539.33 1282.21 1546.53 L1282.21 1568.04 L1276.32 1568.04 L1276.32 1546.72 Q1276.32 1541.59 1274.51 1539.11 Q1272.69 1536.63 1268.97 1536.63 Q1264.42 1536.63 1261.77 1539.65 Q1259.13 1542.68 1259.13 1547.9 L1259.13 1568.04 L1253.24 1568.04 L1253.24 1546.72 Q1253.24 1541.56 1251.43 1539.11 Q1249.62 1536.63 1245.83 1536.63 Q1241.34 1536.63 1238.7 1539.68 Q1236.06 1542.71 1236.06 1547.9 L1236.06 1568.04 L1230.17 1568.04 L1230.17 1532.4 L1236.06 1532.4 L1236.06 1537.93 Q1238.06 1534.66 1240.86 1533.1 Q1243.66 1531.54 1247.51 1531.54 Q1251.4 1531.54 1254.1 1533.51 Q1256.84 1535.48 1258.15 1539.24 Z\" fill=\"#000000\" fill-rule=\"evenodd\" fill-opacity=\"1\" /><path clip-path=\"url(#clip840)\" d=\"M1324.38 1548.76 L1324.38 1551.62 L1297.45 1551.62 Q1297.84 1557.67 1301.08 1560.85 Q1304.36 1564 1310.19 1564 Q1313.56 1564 1316.71 1563.17 Q1319.89 1562.35 1323.01 1560.69 L1323.01 1566.23 Q1319.86 1567.57 1316.55 1568.27 Q1313.24 1568.97 1309.84 1568.97 Q1301.31 1568.97 1296.31 1564 Q1291.34 1559.04 1291.34 1550.57 Q1291.34 1541.82 1296.05 1536.69 Q1300.8 1531.54 1308.82 1531.54 Q1316.01 1531.54 1320.18 1536.18 Q1324.38 1540.8 1324.38 1548.76 M1318.52 1547.04 Q1318.46 1542.23 1315.82 1539.37 Q1313.21 1536.5 1308.88 1536.5 Q1303.98 1536.5 1301.02 1539.27 Q1298.09 1542.04 1297.64 1547.07 L1318.52 1547.04 Z\" fill=\"#000000\" fill-rule=\"evenodd\" fill-opacity=\"1\" /><path clip-path=\"url(#clip840)\" d=\"M1368.78 1518.58 Q1364.52 1525.9 1362.45 1533.06 Q1360.38 1540.23 1360.38 1547.58 Q1360.38 1554.93 1362.45 1562.16 Q1364.55 1569.35 1368.78 1576.64 L1363.69 1576.64 Q1358.91 1569.16 1356.53 1561.93 Q1354.17 1554.71 1354.17 1547.58 Q1354.17 1540.48 1356.53 1533.29 Q1358.88 1526.09 1363.69 1518.58 L1368.78 1518.58 Z\" fill=\"#000000\" fill-rule=\"evenodd\" fill-opacity=\"1\" /><path clip-path=\"url(#clip840)\" d=\"M1402.87 1533.45 L1402.87 1538.98 Q1400.39 1537.71 1397.71 1537.07 Q1395.04 1536.44 1392.18 1536.44 Q1387.82 1536.44 1385.62 1537.77 Q1383.45 1539.11 1383.45 1541.79 Q1383.45 1543.82 1385.01 1545 Q1386.57 1546.15 1391.28 1547.2 L1393.29 1547.64 Q1399.53 1548.98 1402.14 1551.43 Q1404.78 1553.85 1404.78 1558.21 Q1404.78 1563.17 1400.83 1566.07 Q1396.92 1568.97 1390.04 1568.97 Q1387.18 1568.97 1384.06 1568.39 Q1380.97 1567.85 1377.53 1566.74 L1377.53 1560.69 Q1380.78 1562.38 1383.93 1563.24 Q1387.08 1564.07 1390.17 1564.07 Q1394.31 1564.07 1396.54 1562.66 Q1398.76 1561.23 1398.76 1558.65 Q1398.76 1556.27 1397.14 1554.99 Q1395.55 1553.72 1390.11 1552.54 L1388.07 1552.07 Q1382.63 1550.92 1380.21 1548.56 Q1377.79 1546.18 1377.79 1542.04 Q1377.79 1537.01 1381.35 1534.27 Q1384.92 1531.54 1391.48 1531.54 Q1394.72 1531.54 1397.59 1532.01 Q1400.45 1532.49 1402.87 1533.45 Z\" fill=\"#000000\" fill-rule=\"evenodd\" fill-opacity=\"1\" /><path clip-path=\"url(#clip840)\" d=\"M1413.18 1518.58 L1418.28 1518.58 Q1423.05 1526.09 1425.4 1533.29 Q1427.79 1540.48 1427.79 1547.58 Q1427.79 1554.71 1425.4 1561.93 Q1423.05 1569.16 1418.28 1576.64 L1413.18 1576.64 Q1417.42 1569.35 1419.48 1562.16 Q1421.59 1554.93 1421.59 1547.58 Q1421.59 1540.23 1419.48 1533.06 Q1417.42 1525.9 1413.18 1518.58 Z\" fill=\"#000000\" fill-rule=\"evenodd\" fill-opacity=\"1\" /><polyline clip-path=\"url(#clip842)\" style=\"stroke:#000000; stroke-linecap:round; stroke-linejoin:round; stroke-width:2; stroke-opacity:0.1; fill:none\" points=\"257.366,1307 2352.76,1307 \"/>\n",
       "<polyline clip-path=\"url(#clip842)\" style=\"stroke:#000000; stroke-linecap:round; stroke-linejoin:round; stroke-width:2; stroke-opacity:0.1; fill:none\" points=\"257.366,1068.82 2352.76,1068.82 \"/>\n",
       "<polyline clip-path=\"url(#clip842)\" style=\"stroke:#000000; stroke-linecap:round; stroke-linejoin:round; stroke-width:2; stroke-opacity:0.1; fill:none\" points=\"257.366,830.639 2352.76,830.639 \"/>\n",
       "<polyline clip-path=\"url(#clip842)\" style=\"stroke:#000000; stroke-linecap:round; stroke-linejoin:round; stroke-width:2; stroke-opacity:0.1; fill:none\" points=\"257.366,592.457 2352.76,592.457 \"/>\n",
       "<polyline clip-path=\"url(#clip842)\" style=\"stroke:#000000; stroke-linecap:round; stroke-linejoin:round; stroke-width:2; stroke-opacity:0.1; fill:none\" points=\"257.366,354.276 2352.76,354.276 \"/>\n",
       "<polyline clip-path=\"url(#clip840)\" style=\"stroke:#000000; stroke-linecap:round; stroke-linejoin:round; stroke-width:4; stroke-opacity:1; fill:none\" points=\"257.366,1423.18 257.366,123.472 \"/>\n",
       "<polyline clip-path=\"url(#clip840)\" style=\"stroke:#000000; stroke-linecap:round; stroke-linejoin:round; stroke-width:4; stroke-opacity:1; fill:none\" points=\"257.366,1307 276.264,1307 \"/>\n",
       "<polyline clip-path=\"url(#clip840)\" style=\"stroke:#000000; stroke-linecap:round; stroke-linejoin:round; stroke-width:4; stroke-opacity:1; fill:none\" points=\"257.366,1068.82 276.264,1068.82 \"/>\n",
       "<polyline clip-path=\"url(#clip840)\" style=\"stroke:#000000; stroke-linecap:round; stroke-linejoin:round; stroke-width:4; stroke-opacity:1; fill:none\" points=\"257.366,830.639 276.264,830.639 \"/>\n",
       "<polyline clip-path=\"url(#clip840)\" style=\"stroke:#000000; stroke-linecap:round; stroke-linejoin:round; stroke-width:4; stroke-opacity:1; fill:none\" points=\"257.366,592.457 276.264,592.457 \"/>\n",
       "<polyline clip-path=\"url(#clip840)\" style=\"stroke:#000000; stroke-linecap:round; stroke-linejoin:round; stroke-width:4; stroke-opacity:1; fill:none\" points=\"257.366,354.276 276.264,354.276 \"/>\n",
       "<path clip-path=\"url(#clip840)\" d=\"M114.607 1307.45 L144.283 1307.45 L144.283 1311.39 L114.607 1311.39 L114.607 1307.45 Z\" fill=\"#000000\" fill-rule=\"evenodd\" fill-opacity=\"1\" /><path clip-path=\"url(#clip840)\" d=\"M164.376 1292.8 Q160.765 1292.8 158.936 1296.37 Q157.13 1299.91 157.13 1307.04 Q157.13 1314.14 158.936 1317.71 Q160.765 1321.25 164.376 1321.25 Q168.01 1321.25 169.815 1317.71 Q171.644 1314.14 171.644 1307.04 Q171.644 1299.91 169.815 1296.37 Q168.01 1292.8 164.376 1292.8 M164.376 1289.1 Q170.186 1289.1 173.241 1293.7 Q176.32 1298.29 176.32 1307.04 Q176.32 1315.76 173.241 1320.37 Q170.186 1324.95 164.376 1324.95 Q158.565 1324.95 155.487 1320.37 Q152.431 1315.76 152.431 1307.04 Q152.431 1298.29 155.487 1293.7 Q158.565 1289.1 164.376 1289.1 Z\" fill=\"#000000\" fill-rule=\"evenodd\" fill-opacity=\"1\" /><path clip-path=\"url(#clip840)\" d=\"M184.538 1318.4 L189.422 1318.4 L189.422 1324.28 L184.538 1324.28 L184.538 1318.4 Z\" fill=\"#000000\" fill-rule=\"evenodd\" fill-opacity=\"1\" /><path clip-path=\"url(#clip840)\" d=\"M199.746 1323.56 L199.746 1319.3 Q201.505 1320.14 203.311 1320.58 Q205.116 1321.02 206.852 1321.02 Q211.482 1321.02 213.912 1317.92 Q216.366 1314.79 216.713 1308.45 Q215.371 1310.44 213.311 1311.5 Q211.25 1312.57 208.75 1312.57 Q203.565 1312.57 200.533 1309.44 Q197.524 1306.3 197.524 1300.86 Q197.524 1295.53 200.672 1292.31 Q203.82 1289.1 209.051 1289.1 Q215.047 1289.1 218.195 1293.7 Q221.366 1298.29 221.366 1307.04 Q221.366 1315.21 217.477 1320.09 Q213.611 1324.95 207.061 1324.95 Q205.301 1324.95 203.496 1324.61 Q201.69 1324.26 199.746 1323.56 M209.051 1308.91 Q212.199 1308.91 214.028 1306.76 Q215.88 1304.61 215.88 1300.86 Q215.88 1297.13 214.028 1294.98 Q212.199 1292.8 209.051 1292.8 Q205.903 1292.8 204.051 1294.98 Q202.223 1297.13 202.223 1300.86 Q202.223 1304.61 204.051 1306.76 Q205.903 1308.91 209.051 1308.91 Z\" fill=\"#000000\" fill-rule=\"evenodd\" fill-opacity=\"1\" /><path clip-path=\"url(#clip840)\" d=\"M114.26 1069.27 L143.936 1069.27 L143.936 1073.21 L114.26 1073.21 L114.26 1069.27 Z\" fill=\"#000000\" fill-rule=\"evenodd\" fill-opacity=\"1\" /><path clip-path=\"url(#clip840)\" d=\"M164.028 1054.62 Q160.417 1054.62 158.589 1058.18 Q156.783 1061.73 156.783 1068.85 Q156.783 1075.96 158.589 1079.53 Q160.417 1083.07 164.028 1083.07 Q167.663 1083.07 169.468 1079.53 Q171.297 1075.96 171.297 1068.85 Q171.297 1061.73 169.468 1058.18 Q167.663 1054.62 164.028 1054.62 M164.028 1050.92 Q169.839 1050.92 172.894 1055.52 Q175.973 1060.11 175.973 1068.85 Q175.973 1077.58 172.894 1082.19 Q169.839 1086.77 164.028 1086.77 Q158.218 1086.77 155.14 1082.19 Q152.084 1077.58 152.084 1068.85 Q152.084 1060.11 155.14 1055.52 Q158.218 1050.92 164.028 1050.92 Z\" fill=\"#000000\" fill-rule=\"evenodd\" fill-opacity=\"1\" /><path clip-path=\"url(#clip840)\" d=\"M184.19 1080.22 L189.075 1080.22 L189.075 1086.1 L184.19 1086.1 L184.19 1080.22 Z\" fill=\"#000000\" fill-rule=\"evenodd\" fill-opacity=\"1\" /><path clip-path=\"url(#clip840)\" d=\"M209.838 1066.96 Q206.69 1066.96 204.838 1069.11 Q203.01 1071.26 203.01 1075.01 Q203.01 1078.74 204.838 1080.92 Q206.69 1083.07 209.838 1083.07 Q212.986 1083.07 214.815 1080.92 Q216.667 1078.74 216.667 1075.01 Q216.667 1071.26 214.815 1069.11 Q212.986 1066.96 209.838 1066.96 M219.121 1052.3 L219.121 1056.56 Q217.361 1055.73 215.556 1055.29 Q213.774 1054.85 212.014 1054.85 Q207.385 1054.85 204.931 1057.98 Q202.5 1061.1 202.153 1067.42 Q203.519 1065.41 205.579 1064.34 Q207.639 1063.25 210.116 1063.25 Q215.324 1063.25 218.334 1066.42 Q221.366 1069.57 221.366 1075.01 Q221.366 1080.34 218.218 1083.55 Q215.07 1086.77 209.838 1086.77 Q203.843 1086.77 200.672 1082.19 Q197.5 1077.58 197.5 1068.85 Q197.5 1060.66 201.389 1055.8 Q205.278 1050.92 211.829 1050.92 Q213.588 1050.92 215.371 1051.26 Q217.176 1051.61 219.121 1052.3 Z\" fill=\"#000000\" fill-rule=\"evenodd\" fill-opacity=\"1\" /><path clip-path=\"url(#clip840)\" d=\"M115.07 831.09 L144.746 831.09 L144.746 835.025 L115.07 835.025 L115.07 831.09 Z\" fill=\"#000000\" fill-rule=\"evenodd\" fill-opacity=\"1\" /><path clip-path=\"url(#clip840)\" d=\"M164.839 816.437 Q161.227 816.437 159.399 820.002 Q157.593 823.544 157.593 830.673 Q157.593 837.78 159.399 841.345 Q161.227 844.886 164.839 844.886 Q168.473 844.886 170.278 841.345 Q172.107 837.78 172.107 830.673 Q172.107 823.544 170.278 820.002 Q168.473 816.437 164.839 816.437 M164.839 812.734 Q170.649 812.734 173.704 817.34 Q176.783 821.923 176.783 830.673 Q176.783 839.4 173.704 844.007 Q170.649 848.59 164.839 848.59 Q159.028 848.59 155.95 844.007 Q152.894 839.4 152.894 830.673 Q152.894 821.923 155.95 817.34 Q159.028 812.734 164.839 812.734 Z\" fill=\"#000000\" fill-rule=\"evenodd\" fill-opacity=\"1\" /><path clip-path=\"url(#clip840)\" d=\"M185.001 842.039 L189.885 842.039 L189.885 847.919 L185.001 847.919 L185.001 842.039 Z\" fill=\"#000000\" fill-rule=\"evenodd\" fill-opacity=\"1\" /><path clip-path=\"url(#clip840)\" d=\"M214.236 829.285 Q217.593 830.002 219.468 832.271 Q221.366 834.539 221.366 837.872 Q221.366 842.988 217.848 845.789 Q214.329 848.59 207.848 848.59 Q205.672 848.59 203.357 848.15 Q201.065 847.733 198.612 846.877 L198.612 842.363 Q200.556 843.497 202.871 844.076 Q205.186 844.655 207.709 844.655 Q212.107 844.655 214.399 842.919 Q216.713 841.183 216.713 837.872 Q216.713 834.817 214.561 833.104 Q212.431 831.368 208.612 831.368 L204.584 831.368 L204.584 827.525 L208.797 827.525 Q212.246 827.525 214.074 826.16 Q215.903 824.771 215.903 822.178 Q215.903 819.516 214.005 818.104 Q212.13 816.669 208.612 816.669 Q206.69 816.669 204.491 817.085 Q202.292 817.502 199.653 818.382 L199.653 814.215 Q202.315 813.474 204.63 813.104 Q206.968 812.734 209.028 812.734 Q214.352 812.734 217.454 815.164 Q220.556 817.572 220.556 821.692 Q220.556 824.562 218.912 826.553 Q217.269 828.521 214.236 829.285 Z\" fill=\"#000000\" fill-rule=\"evenodd\" fill-opacity=\"1\" /><path clip-path=\"url(#clip840)\" d=\"M164.19 578.256 Q160.579 578.256 158.751 581.821 Q156.945 585.362 156.945 592.492 Q156.945 599.598 158.751 603.163 Q160.579 606.705 164.19 606.705 Q167.825 606.705 169.63 603.163 Q171.459 599.598 171.459 592.492 Q171.459 585.362 169.63 581.821 Q167.825 578.256 164.19 578.256 M164.19 574.552 Q170.001 574.552 173.056 579.159 Q176.135 583.742 176.135 592.492 Q176.135 601.219 173.056 605.825 Q170.001 610.408 164.19 610.408 Q158.38 610.408 155.302 605.825 Q152.246 601.219 152.246 592.492 Q152.246 583.742 155.302 579.159 Q158.38 574.552 164.19 574.552 Z\" fill=\"#000000\" fill-rule=\"evenodd\" fill-opacity=\"1\" /><path clip-path=\"url(#clip840)\" d=\"M184.352 603.857 L189.237 603.857 L189.237 609.737 L184.352 609.737 L184.352 603.857 Z\" fill=\"#000000\" fill-rule=\"evenodd\" fill-opacity=\"1\" /><path clip-path=\"url(#clip840)\" d=\"M209.422 578.256 Q205.811 578.256 203.982 581.821 Q202.176 585.362 202.176 592.492 Q202.176 599.598 203.982 603.163 Q205.811 606.705 209.422 606.705 Q213.056 606.705 214.861 603.163 Q216.69 599.598 216.69 592.492 Q216.69 585.362 214.861 581.821 Q213.056 578.256 209.422 578.256 M209.422 574.552 Q215.232 574.552 218.287 579.159 Q221.366 583.742 221.366 592.492 Q221.366 601.219 218.287 605.825 Q215.232 610.408 209.422 610.408 Q203.612 610.408 200.533 605.825 Q197.477 601.219 197.477 592.492 Q197.477 583.742 200.533 579.159 Q203.612 574.552 209.422 574.552 Z\" fill=\"#000000\" fill-rule=\"evenodd\" fill-opacity=\"1\" /><path clip-path=\"url(#clip840)\" d=\"M164.839 340.074 Q161.227 340.074 159.399 343.639 Q157.593 347.181 157.593 354.31 Q157.593 361.417 159.399 364.981 Q161.227 368.523 164.839 368.523 Q168.473 368.523 170.278 364.981 Q172.107 361.417 172.107 354.31 Q172.107 347.181 170.278 343.639 Q168.473 340.074 164.839 340.074 M164.839 336.371 Q170.649 336.371 173.704 340.977 Q176.783 345.56 176.783 354.31 Q176.783 363.037 173.704 367.644 Q170.649 372.227 164.839 372.227 Q159.028 372.227 155.95 367.644 Q152.894 363.037 152.894 354.31 Q152.894 345.56 155.95 340.977 Q159.028 336.371 164.839 336.371 Z\" fill=\"#000000\" fill-rule=\"evenodd\" fill-opacity=\"1\" /><path clip-path=\"url(#clip840)\" d=\"M185.001 365.676 L189.885 365.676 L189.885 371.556 L185.001 371.556 L185.001 365.676 Z\" fill=\"#000000\" fill-rule=\"evenodd\" fill-opacity=\"1\" /><path clip-path=\"url(#clip840)\" d=\"M214.236 352.921 Q217.593 353.639 219.468 355.907 Q221.366 358.176 221.366 361.509 Q221.366 366.625 217.848 369.426 Q214.329 372.227 207.848 372.227 Q205.672 372.227 203.357 371.787 Q201.065 371.37 198.612 370.514 L198.612 366 Q200.556 367.134 202.871 367.713 Q205.186 368.292 207.709 368.292 Q212.107 368.292 214.399 366.556 Q216.713 364.819 216.713 361.509 Q216.713 358.454 214.561 356.741 Q212.431 355.005 208.612 355.005 L204.584 355.005 L204.584 351.162 L208.797 351.162 Q212.246 351.162 214.074 349.796 Q215.903 348.407 215.903 345.815 Q215.903 343.153 214.005 341.741 Q212.13 340.306 208.612 340.306 Q206.69 340.306 204.491 340.722 Q202.292 341.139 199.653 342.019 L199.653 337.852 Q202.315 337.111 204.63 336.741 Q206.968 336.371 209.028 336.371 Q214.352 336.371 217.454 338.801 Q220.556 341.208 220.556 345.329 Q220.556 348.199 218.912 350.19 Q217.269 352.157 214.236 352.921 Z\" fill=\"#000000\" fill-rule=\"evenodd\" fill-opacity=\"1\" /><path clip-path=\"url(#clip840)\" d=\"M28.3562 756.711 L45.7028 769.602 L64.0042 756.043 L64.0042 762.95 L49.9996 773.326 L64.0042 783.702 L64.0042 790.609 L45.3526 776.763 L28.3562 789.431 L28.3562 782.524 L41.0558 773.071 L28.3562 763.618 L28.3562 756.711 Z\" fill=\"#000000\" fill-rule=\"evenodd\" fill-opacity=\"1\" /><path clip-path=\"url(#clip840)\" d=\"M963.104 14.0809 L963.104 22.0612 Q958.445 19.8332 954.313 18.7395 Q950.182 17.6457 946.333 17.6457 Q939.649 17.6457 936.003 20.2383 Q932.398 22.8309 932.398 27.611 Q932.398 31.6214 934.788 33.6873 Q937.219 35.7128 943.943 36.9686 L948.885 37.9813 Q958.04 39.7232 962.375 44.1387 Q966.75 48.5136 966.75 55.8863 Q966.75 64.6767 960.835 69.2137 Q954.962 73.7508 943.579 73.7508 Q939.285 73.7508 934.424 72.7785 Q929.603 71.8063 924.418 69.9024 L924.418 61.4765 Q929.4 64.2716 934.18 65.6895 Q938.961 67.1073 943.579 67.1073 Q950.587 67.1073 954.394 64.3527 Q958.202 61.598 958.202 56.4939 Q958.202 52.0379 955.448 49.5264 Q952.734 47.0148 946.495 45.759 L941.513 44.7868 Q932.358 42.9639 928.266 39.075 Q924.175 35.1862 924.175 28.2591 Q924.175 20.2383 929.805 15.6203 Q935.477 11.0023 945.401 11.0023 Q949.655 11.0023 954.07 11.7719 Q958.486 12.5416 963.104 14.0809 Z\" fill=\"#000000\" fill-rule=\"evenodd\" fill-opacity=\"1\" /><path clip-path=\"url(#clip840)\" d=\"M986.559 14.324 L986.559 27.2059 L1001.91 27.2059 L1001.91 32.9987 L986.559 32.9987 L986.559 57.6282 Q986.559 63.1779 988.057 64.7578 Q989.597 66.3376 994.255 66.3376 L1001.91 66.3376 L1001.91 72.576 L994.255 72.576 Q985.627 72.576 982.346 69.3758 Q979.064 66.1351 979.064 57.6282 L979.064 32.9987 L973.596 32.9987 L973.596 27.2059 L979.064 27.2059 L979.064 14.324 L986.559 14.324 Z\" fill=\"#000000\" fill-rule=\"evenodd\" fill-opacity=\"1\" /><path clip-path=\"url(#clip840)\" d=\"M1032.33 49.7694 Q1023.3 49.7694 1019.82 51.8354 Q1016.33 53.9013 1016.33 58.8839 Q1016.33 62.8538 1018.93 65.2034 Q1021.56 67.5124 1026.05 67.5124 Q1032.25 67.5124 1035.98 63.1374 Q1039.75 58.7219 1039.75 51.4303 L1039.75 49.7694 L1032.33 49.7694 M1047.2 46.6907 L1047.2 72.576 L1039.75 72.576 L1039.75 65.6895 Q1037.19 69.8214 1033.39 71.8063 Q1029.58 73.7508 1024.07 73.7508 Q1017.1 73.7508 1012.97 69.8619 Q1008.88 65.9325 1008.88 59.3701 Q1008.88 51.7138 1013.98 47.825 Q1019.13 43.9361 1029.3 43.9361 L1039.75 43.9361 L1039.75 43.2069 Q1039.75 38.0623 1036.34 35.2672 Q1032.98 32.4315 1026.87 32.4315 Q1022.98 32.4315 1019.29 33.3632 Q1015.6 34.295 1012.2 36.1584 L1012.2 29.2718 Q1016.29 27.692 1020.14 26.9223 Q1023.99 26.1121 1027.63 26.1121 Q1037.48 26.1121 1042.34 31.2163 Q1047.2 36.3204 1047.2 46.6907 Z\" fill=\"#000000\" fill-rule=\"evenodd\" fill-opacity=\"1\" /><path clip-path=\"url(#clip840)\" d=\"M1069.93 14.324 L1069.93 27.2059 L1085.28 27.2059 L1085.28 32.9987 L1069.93 32.9987 L1069.93 57.6282 Q1069.93 63.1779 1071.43 64.7578 Q1072.96 66.3376 1077.62 66.3376 L1085.28 66.3376 L1085.28 72.576 L1077.62 72.576 Q1068.99 72.576 1065.71 69.3758 Q1062.43 66.1351 1062.43 57.6282 L1062.43 32.9987 L1056.96 32.9987 L1056.96 27.2059 L1062.43 27.2059 L1062.43 14.324 L1069.93 14.324 Z\" fill=\"#000000\" fill-rule=\"evenodd\" fill-opacity=\"1\" /><path clip-path=\"url(#clip840)\" d=\"M1133.89 48.0275 L1133.89 51.6733 L1099.62 51.6733 Q1100.11 59.3701 1104.24 63.421 Q1108.41 67.4314 1115.82 67.4314 Q1120.12 67.4314 1124.13 66.3781 Q1128.18 65.3249 1132.15 63.2184 L1132.15 70.267 Q1128.14 71.9684 1123.92 72.8596 Q1119.71 73.7508 1115.38 73.7508 Q1104.52 73.7508 1098.16 67.4314 Q1091.84 61.1119 1091.84 50.3365 Q1091.84 39.1965 1097.84 32.6746 Q1103.87 26.1121 1114.08 26.1121 Q1123.24 26.1121 1128.54 32.0264 Q1133.89 37.9003 1133.89 48.0275 M1126.44 45.84 Q1126.36 39.7232 1122.99 36.0774 Q1119.67 32.4315 1114.16 32.4315 Q1107.92 32.4315 1104.16 35.9558 Q1100.43 39.4801 1099.86 45.8805 L1126.44 45.84 Z\" fill=\"#000000\" fill-rule=\"evenodd\" fill-opacity=\"1\" /><path clip-path=\"url(#clip840)\" d=\"M1172.82 12.096 L1211.06 12.096 L1211.06 18.9825 L1181 18.9825 L1181 36.8875 L1209.8 36.8875 L1209.8 43.7741 L1181 43.7741 L1181 65.6895 L1211.79 65.6895 L1211.79 72.576 L1172.82 72.576 L1172.82 12.096 Z\" fill=\"#000000\" fill-rule=\"evenodd\" fill-opacity=\"1\" /><path clip-path=\"url(#clip840)\" d=\"M1251.2 34.1734 Q1249.95 33.4443 1248.45 33.1202 Q1246.99 32.7556 1245.21 32.7556 Q1238.89 32.7556 1235.49 36.8875 Q1232.12 40.9789 1232.12 48.6757 L1232.12 72.576 L1224.63 72.576 L1224.63 27.2059 L1232.12 27.2059 L1232.12 34.2544 Q1234.47 30.1225 1238.24 28.1376 Q1242.01 26.1121 1247.4 26.1121 Q1248.17 26.1121 1249.1 26.2337 Q1250.03 26.3147 1251.16 26.5172 L1251.2 34.1734 Z\" fill=\"#000000\" fill-rule=\"evenodd\" fill-opacity=\"1\" /><path clip-path=\"url(#clip840)\" d=\"M1283.85 34.1734 Q1282.6 33.4443 1281.1 33.1202 Q1279.64 32.7556 1277.86 32.7556 Q1271.54 32.7556 1268.14 36.8875 Q1264.77 40.9789 1264.77 48.6757 L1264.77 72.576 L1257.28 72.576 L1257.28 27.2059 L1264.77 27.2059 L1264.77 34.2544 Q1267.12 30.1225 1270.89 28.1376 Q1274.66 26.1121 1280.05 26.1121 Q1280.82 26.1121 1281.75 26.2337 Q1282.68 26.3147 1283.81 26.5172 L1283.85 34.1734 Z\" fill=\"#000000\" fill-rule=\"evenodd\" fill-opacity=\"1\" /><path clip-path=\"url(#clip840)\" d=\"M1307.43 32.4315 Q1301.44 32.4315 1297.95 37.1306 Q1294.47 41.7891 1294.47 49.9314 Q1294.47 58.0738 1297.91 62.7728 Q1301.39 67.4314 1307.43 67.4314 Q1313.39 67.4314 1316.87 62.7323 Q1320.35 58.0333 1320.35 49.9314 Q1320.35 41.8701 1316.87 37.1711 Q1313.39 32.4315 1307.43 32.4315 M1307.43 26.1121 Q1317.15 26.1121 1322.7 32.4315 Q1328.25 38.7509 1328.25 49.9314 Q1328.25 61.0714 1322.7 67.4314 Q1317.15 73.7508 1307.43 73.7508 Q1297.67 73.7508 1292.12 67.4314 Q1286.61 61.0714 1286.61 49.9314 Q1286.61 38.7509 1292.12 32.4315 Q1297.67 26.1121 1307.43 26.1121 Z\" fill=\"#000000\" fill-rule=\"evenodd\" fill-opacity=\"1\" /><path clip-path=\"url(#clip840)\" d=\"M1366.9 34.1734 Q1365.64 33.4443 1364.14 33.1202 Q1362.69 32.7556 1360.9 32.7556 Q1354.58 32.7556 1351.18 36.8875 Q1347.82 40.9789 1347.82 48.6757 L1347.82 72.576 L1340.32 72.576 L1340.32 27.2059 L1347.82 27.2059 L1347.82 34.2544 Q1350.17 30.1225 1353.94 28.1376 Q1357.7 26.1121 1363.09 26.1121 Q1363.86 26.1121 1364.79 26.2337 Q1365.72 26.3147 1366.86 26.5172 L1366.9 34.1734 Z\" fill=\"#000000\" fill-rule=\"evenodd\" fill-opacity=\"1\" /><path clip-path=\"url(#clip840)\" d=\"M1401.41 12.096 L1409.59 12.096 L1409.59 36.8875 L1439.33 36.8875 L1439.33 12.096 L1447.51 12.096 L1447.51 72.576 L1439.33 72.576 L1439.33 43.7741 L1409.59 43.7741 L1409.59 72.576 L1401.41 72.576 L1401.41 12.096 Z\" fill=\"#000000\" fill-rule=\"evenodd\" fill-opacity=\"1\" /><path clip-path=\"url(#clip840)\" d=\"M1463.47 27.2059 L1470.93 27.2059 L1470.93 72.576 L1463.47 72.576 L1463.47 27.2059 M1463.47 9.54393 L1470.93 9.54393 L1470.93 18.9825 L1463.47 18.9825 L1463.47 9.54393 Z\" fill=\"#000000\" fill-rule=\"evenodd\" fill-opacity=\"1\" /><path clip-path=\"url(#clip840)\" d=\"M1515.44 28.5427 L1515.44 35.5912 Q1512.28 33.9709 1508.88 33.1607 Q1505.48 32.3505 1501.83 32.3505 Q1496.28 32.3505 1493.49 34.0519 Q1490.73 35.7533 1490.73 39.156 Q1490.73 41.7486 1492.72 43.2475 Q1494.7 44.7058 1500.7 46.0426 L1503.25 46.6097 Q1511.19 48.3111 1514.51 51.4303 Q1517.88 54.509 1517.88 60.0587 Q1517.88 66.3781 1512.85 70.0644 Q1507.87 73.7508 1499.12 73.7508 Q1495.47 73.7508 1491.5 73.0216 Q1487.57 72.3329 1483.2 70.9151 L1483.2 63.2184 Q1487.33 65.3654 1491.34 66.4591 Q1495.35 67.5124 1499.28 67.5124 Q1504.55 67.5124 1507.38 65.73 Q1510.22 63.9071 1510.22 60.6258 Q1510.22 57.5877 1508.15 55.9673 Q1506.13 54.3469 1499.2 52.8481 L1496.61 52.2405 Q1489.68 50.7821 1486.6 47.7845 Q1483.52 44.7463 1483.52 39.4801 Q1483.52 33.0797 1488.06 29.5959 Q1492.6 26.1121 1500.94 26.1121 Q1505.07 26.1121 1508.72 26.7198 Q1512.37 27.3274 1515.44 28.5427 Z\" fill=\"#000000\" fill-rule=\"evenodd\" fill-opacity=\"1\" /><path clip-path=\"url(#clip840)\" d=\"M1537.12 14.324 L1537.12 27.2059 L1552.47 27.2059 L1552.47 32.9987 L1537.12 32.9987 L1537.12 57.6282 Q1537.12 63.1779 1538.62 64.7578 Q1540.16 66.3376 1544.81 66.3376 L1552.47 66.3376 L1552.47 72.576 L1544.81 72.576 Q1536.19 72.576 1532.9 69.3758 Q1529.62 66.1351 1529.62 57.6282 L1529.62 32.9987 L1524.15 32.9987 L1524.15 27.2059 L1529.62 27.2059 L1529.62 14.324 L1537.12 14.324 Z\" fill=\"#000000\" fill-rule=\"evenodd\" fill-opacity=\"1\" /><path clip-path=\"url(#clip840)\" d=\"M1579.85 32.4315 Q1573.86 32.4315 1570.37 37.1306 Q1566.89 41.7891 1566.89 49.9314 Q1566.89 58.0738 1570.33 62.7728 Q1573.82 67.4314 1579.85 67.4314 Q1585.81 67.4314 1589.29 62.7323 Q1592.78 58.0333 1592.78 49.9314 Q1592.78 41.8701 1589.29 37.1711 Q1585.81 32.4315 1579.85 32.4315 M1579.85 26.1121 Q1589.58 26.1121 1595.13 32.4315 Q1600.68 38.7509 1600.68 49.9314 Q1600.68 61.0714 1595.13 67.4314 Q1589.58 73.7508 1579.85 73.7508 Q1570.09 73.7508 1564.54 67.4314 Q1559.03 61.0714 1559.03 49.9314 Q1559.03 38.7509 1564.54 32.4315 Q1570.09 26.1121 1579.85 26.1121 Z\" fill=\"#000000\" fill-rule=\"evenodd\" fill-opacity=\"1\" /><path clip-path=\"url(#clip840)\" d=\"M1639.32 34.1734 Q1638.07 33.4443 1636.57 33.1202 Q1635.11 32.7556 1633.33 32.7556 Q1627.01 32.7556 1623.6 36.8875 Q1620.24 40.9789 1620.24 48.6757 L1620.24 72.576 L1612.75 72.576 L1612.75 27.2059 L1620.24 27.2059 L1620.24 34.2544 Q1622.59 30.1225 1626.36 28.1376 Q1630.13 26.1121 1635.51 26.1121 Q1636.28 26.1121 1637.21 26.2337 Q1638.15 26.3147 1639.28 26.5172 L1639.32 34.1734 Z\" fill=\"#000000\" fill-rule=\"evenodd\" fill-opacity=\"1\" /><path clip-path=\"url(#clip840)\" d=\"M1666.02 76.7889 Q1662.86 84.8907 1659.86 87.3618 Q1656.86 89.8329 1651.84 89.8329 L1645.88 89.8329 L1645.88 83.5945 L1650.26 83.5945 Q1653.34 83.5945 1655.04 82.1361 Q1656.74 80.6778 1658.81 75.2496 L1660.14 71.8468 L1641.79 27.2059 L1649.69 27.2059 L1663.87 62.6918 L1678.05 27.2059 L1685.95 27.2059 L1666.02 76.7889 Z\" fill=\"#000000\" fill-rule=\"evenodd\" fill-opacity=\"1\" /><polyline clip-path=\"url(#clip842)\" style=\"stroke:#009af9; stroke-linecap:round; stroke-linejoin:round; stroke-width:4; stroke-opacity:1; fill:none\" points=\"316.67,1386.4 338.634,1384.95 360.598,1380.74 382.562,1374.03 404.527,1365.06 426.491,1354.07 448.455,1341.28 470.419,1326.88 492.384,1311.09 514.348,1294.08 536.312,1276.01 558.276,1257.06 580.241,1237.36 602.205,1217.05 624.169,1196.27 646.133,1175.12 668.098,1153.73 690.062,1132.19 712.026,1110.58 733.99,1089.01 755.955,1067.53 777.919,1046.23 799.883,1025.16 821.847,1004.38 843.812,983.935 865.776,963.879 887.74,944.246 909.704,925.07 931.669,906.381 953.633,888.205 975.597,870.561 997.561,853.466 1019.53,836.936 1041.49,820.979 1063.45,805.603 1085.42,790.813 1107.38,776.611 1129.35,762.996 1151.31,749.967 1173.28,737.517 1195.24,725.643 1217.2,714.335 1239.17,703.586 1261.13,693.384 1283.1,683.718 1305.06,674.577 1327.03,665.946 1348.99,657.812 1370.95,650.162 1392.92,642.979 1414.88,636.248 1436.85,629.955 1458.81,624.082 1480.78,618.615 1502.74,613.537 1524.7,608.833 1546.67,604.486 1568.63,600.48 1590.6,596.8 1612.56,593.431 1634.52,590.356 1656.49,587.562 1678.45,585.034 1700.42,582.757 1722.38,580.717 1744.35,578.9 1766.31,577.294 1788.27,575.886 1810.24,574.663 1832.2,573.614 1854.17,572.726 1876.13,571.989 1898.1,571.392 1920.06,570.924 1942.02,570.577 1963.99,570.34 1985.95,570.205 2007.92,570.163 2029.88,570.206 2051.85,570.326 2073.81,570.517 2095.77,570.77 2117.74,571.08 2139.7,571.441 2161.67,571.846 2183.63,572.291 2205.6,572.77 2227.56,573.278 2249.52,573.811 2271.49,574.364 2293.45,574.935 \"/>\n",
       "<polyline clip-path=\"url(#clip842)\" style=\"stroke:#e26f46; stroke-linecap:round; stroke-linejoin:round; stroke-width:4; stroke-opacity:1; fill:none\" points=\"316.67,592.457 338.634,592.457 360.598,592.457 382.562,592.457 404.527,592.457 426.491,592.457 448.455,592.457 470.419,592.457 492.384,592.457 514.348,592.457 536.312,592.457 558.276,592.457 580.241,592.457 602.205,592.457 624.169,592.457 646.133,592.457 668.098,592.457 690.062,592.457 712.026,592.457 733.99,592.457 755.955,592.457 777.919,592.457 799.883,592.457 821.847,592.457 843.812,592.457 865.776,592.457 887.74,592.457 909.704,592.457 931.669,592.457 953.633,592.457 975.597,592.457 997.561,592.457 1019.53,592.457 1041.49,592.457 1063.45,592.457 1085.42,592.457 1107.38,592.457 1129.35,592.457 1151.31,592.457 1173.28,592.457 1195.24,592.457 1217.2,592.457 1239.17,592.457 1261.13,592.457 1283.1,592.457 1305.06,592.457 1327.03,592.457 1348.99,592.457 1370.95,592.457 1392.92,592.457 1414.88,592.457 1436.85,592.457 1458.81,592.457 1480.78,592.457 1502.74,592.457 1524.7,592.457 1546.67,592.457 1568.63,592.457 1590.6,592.457 1612.56,592.457 1634.52,592.457 1656.49,592.457 1678.45,592.457 1700.42,592.457 1722.38,592.457 1744.35,592.457 1766.31,592.457 1788.27,592.457 1810.24,592.457 1832.2,592.457 1854.17,592.457 1876.13,592.457 1898.1,592.457 1920.06,592.457 1942.02,592.457 1963.99,592.457 1985.95,592.457 2007.92,592.457 2029.88,592.457 2051.85,592.457 2073.81,592.457 2095.77,592.457 2117.74,592.457 2139.7,592.457 2161.67,592.457 2183.63,592.457 2205.6,592.457 2227.56,592.457 2249.52,592.457 2271.49,592.457 2293.45,592.457 \"/>\n",
       "<polyline clip-path=\"url(#clip842)\" style=\"stroke:#3da44d; stroke-linecap:round; stroke-linejoin:round; stroke-width:4; stroke-opacity:1; fill:none\" points=\"316.67,1386.4 338.634,1384.95 360.598,1380.74 382.562,1374.03 404.527,1365.06 426.491,1354.07 448.455,1341.28 470.419,1326.88 492.384,1311.09 514.348,1294.08 536.312,1276.01 558.276,1257.06 580.241,1237.36 602.205,1217.05 624.169,1196.27 646.133,1175.12 668.098,1153.73 690.062,1132.19 712.026,1110.58 733.99,1089.01 755.955,1067.53 777.919,1046.23 799.883,1025.16 821.847,1004.38 843.812,983.935 865.776,963.879 887.74,944.246 909.704,925.07 931.669,906.381 953.633,888.205 975.597,870.561 997.561,853.466 1019.53,836.936 1041.49,820.979 1063.45,805.603 1085.42,790.813 1107.38,776.611 1129.35,762.996 1151.31,749.967 1173.28,737.517 1195.24,725.643 1217.2,714.335 1239.17,703.586 1261.13,693.384 1283.1,683.718 1305.06,674.577 1327.03,665.946 1348.99,657.812 1370.95,650.162 1392.92,642.979 1414.88,636.248 1436.85,629.955 1458.81,624.082 1480.78,618.615 1502.74,613.537 1524.7,608.833 1546.67,604.486 1568.63,600.48 1590.6,596.8 1612.56,593.431 1634.52,590.356 1656.49,587.562 1678.45,585.034 1700.42,582.757 1722.38,580.717 1744.35,578.9 1766.31,577.294 1788.27,575.886 1810.24,574.663 1832.2,573.614 1854.17,572.726 1876.13,571.989 1898.1,571.392 1920.06,570.924 1942.02,570.577 1963.99,570.34 1985.95,570.205 2007.92,570.163 2029.88,570.206 2051.85,570.326 2073.81,570.517 2095.77,570.77 2117.74,571.08 2139.7,571.441 2161.67,571.846 2183.63,572.291 2205.6,572.77 2227.56,573.278 2249.52,573.811 2271.49,574.364 2293.45,574.935 \"/>\n",
       "<polyline clip-path=\"url(#clip842)\" style=\"stroke:#c271d2; stroke-linecap:round; stroke-linejoin:round; stroke-width:4; stroke-opacity:1; fill:none\" stroke-dasharray=\"16, 10\" points=\"316.67,592.457 338.634,534.544 360.598,481.976 382.562,434.471 404.527,391.754 426.491,353.556 448.455,319.616 470.419,289.68 492.384,263.502 514.348,240.844 536.312,221.478 558.276,205.182 580.241,191.742 602.205,180.956 624.169,172.627 646.133,166.567 668.098,162.598 690.062,160.549 712.026,160.256 733.99,161.566 755.955,164.331 777.919,168.413 799.883,173.679 821.847,180.006 843.812,187.276 865.776,195.38 887.74,204.213 909.704,213.679 931.669,223.688 953.633,234.154 975.597,244.999 997.561,256.15 1019.53,267.539 1041.49,279.103 1063.45,290.785 1085.42,302.532 1107.38,314.294 1129.35,326.029 1151.31,337.694 1173.28,349.255 1195.24,360.678 1217.2,371.933 1239.17,382.995 1261.13,393.841 1283.1,404.449 1305.06,414.802 1327.03,424.886 1348.99,434.687 1370.95,444.194 1392.92,453.399 1414.88,462.295 1436.85,470.878 1458.81,479.143 1480.78,487.088 1502.74,494.714 1524.7,502.019 1546.67,509.007 1568.63,515.68 1590.6,522.042 1612.56,528.096 1634.52,533.848 1656.49,539.304 1678.45,544.47 1700.42,549.353 1722.38,553.961 1744.35,558.3 1766.31,562.38 1788.27,566.207 1810.24,569.791 1832.2,573.139 1854.17,576.262 1876.13,579.166 1898.1,581.862 1920.06,584.357 1942.02,586.661 1963.99,588.781 1985.95,590.727 2007.92,592.507 2029.88,594.129 2051.85,595.6 2073.81,596.93 2095.77,598.126 2117.74,599.195 2139.7,600.145 2161.67,600.982 2183.63,601.714 2205.6,602.348 2227.56,602.889 2249.52,603.344 2271.49,603.719 2293.45,604.02 \"/>\n",
       "<polyline clip-path=\"url(#clip842)\" style=\"stroke:#ac8d18; stroke-linecap:round; stroke-linejoin:round; stroke-width:4; stroke-opacity:1; fill:none\" stroke-dasharray=\"16, 10\" points=\"316.67,592.457 338.634,592.457 360.598,592.457 382.562,592.457 404.527,592.457 426.491,592.457 448.455,592.457 470.419,592.457 492.384,592.457 514.348,592.457 536.312,592.457 558.276,592.457 580.241,592.457 602.205,592.457 624.169,592.457 646.133,592.457 668.098,592.457 690.062,592.457 712.026,592.457 733.99,592.457 755.955,592.457 777.919,592.457 799.883,592.457 821.847,592.457 843.812,592.457 865.776,592.457 887.74,592.457 909.704,592.457 931.669,592.457 953.633,592.457 975.597,592.457 997.561,592.457 1019.53,592.457 1041.49,592.457 1063.45,592.457 1085.42,592.457 1107.38,592.457 1129.35,592.457 1151.31,592.457 1173.28,592.457 1195.24,592.457 1217.2,592.457 1239.17,592.457 1261.13,592.457 1283.1,592.457 1305.06,592.457 1327.03,592.457 1348.99,592.457 1370.95,592.457 1392.92,592.457 1414.88,592.457 1436.85,592.457 1458.81,592.457 1480.78,592.457 1502.74,592.457 1524.7,592.457 1546.67,592.457 1568.63,592.457 1590.6,592.457 1612.56,592.457 1634.52,592.457 1656.49,592.457 1678.45,592.457 1700.42,592.457 1722.38,592.457 1744.35,592.457 1766.31,592.457 1788.27,592.457 1810.24,592.457 1832.2,592.457 1854.17,592.457 1876.13,592.457 1898.1,592.457 1920.06,592.457 1942.02,592.457 1963.99,592.457 1985.95,592.457 2007.92,592.457 2029.88,592.457 2051.85,592.457 2073.81,592.457 2095.77,592.457 2117.74,592.457 2139.7,592.457 2161.67,592.457 2183.63,592.457 2205.6,592.457 2227.56,592.457 2249.52,592.457 2271.49,592.457 2293.45,592.457 \"/>\n",
       "<polyline clip-path=\"url(#clip842)\" style=\"stroke:#00a9ad; stroke-linecap:round; stroke-linejoin:round; stroke-width:4; stroke-opacity:1; fill:none\" stroke-dasharray=\"16, 10\" points=\"316.67,592.457 338.634,534.544 360.598,481.976 382.562,434.471 404.527,391.754 426.491,353.556 448.455,319.616 470.419,289.68 492.384,263.502 514.348,240.844 536.312,221.478 558.276,205.182 580.241,191.742 602.205,180.956 624.169,172.627 646.133,166.567 668.098,162.598 690.062,160.549 712.026,160.256 733.99,161.566 755.955,164.331 777.919,168.413 799.883,173.679 821.847,180.006 843.812,187.276 865.776,195.38 887.74,204.213 909.704,213.679 931.669,223.688 953.633,234.154 975.597,244.999 997.561,256.15 1019.53,267.539 1041.49,279.103 1063.45,290.785 1085.42,302.532 1107.38,314.294 1129.35,326.029 1151.31,337.694 1173.28,349.255 1195.24,360.678 1217.2,371.933 1239.17,382.995 1261.13,393.841 1283.1,404.449 1305.06,414.802 1327.03,424.886 1348.99,434.687 1370.95,444.194 1392.92,453.399 1414.88,462.295 1436.85,470.878 1458.81,479.143 1480.78,487.088 1502.74,494.714 1524.7,502.019 1546.67,509.007 1568.63,515.68 1590.6,522.042 1612.56,528.096 1634.52,533.848 1656.49,539.304 1678.45,544.47 1700.42,549.353 1722.38,553.961 1744.35,558.3 1766.31,562.38 1788.27,566.207 1810.24,569.791 1832.2,573.139 1854.17,576.262 1876.13,579.166 1898.1,581.862 1920.06,584.357 1942.02,586.661 1963.99,588.781 1985.95,590.727 2007.92,592.507 2029.88,594.129 2051.85,595.6 2073.81,596.93 2095.77,598.126 2117.74,599.195 2139.7,600.145 2161.67,600.982 2183.63,601.714 2205.6,602.348 2227.56,602.889 2249.52,603.344 2271.49,603.719 2293.45,604.02 \"/>\n",
       "<path clip-path=\"url(#clip840)\" d=\"M2003 529.676 L2282.91 529.676 L2282.91 166.796 L2003 166.796  Z\" fill=\"#ffffff\" fill-rule=\"evenodd\" fill-opacity=\"1\"/>\n",
       "<polyline clip-path=\"url(#clip840)\" style=\"stroke:#000000; stroke-linecap:round; stroke-linejoin:round; stroke-width:4; stroke-opacity:1; fill:none\" points=\"2003,529.676 2282.91,529.676 2282.91,166.796 2003,166.796 2003,529.676 \"/>\n",
       "<polyline clip-path=\"url(#clip840)\" style=\"stroke:#009af9; stroke-linecap:round; stroke-linejoin:round; stroke-width:4; stroke-opacity:1; fill:none\" points=\"2026.28,218.636 2165.98,218.636 \"/>\n",
       "<path clip-path=\"url(#clip840)\" d=\"M2213.29 221.888 L2213.29 223.971 L2193.7 223.971 Q2193.98 228.369 2196.34 230.684 Q2198.73 232.976 2202.96 232.976 Q2205.41 232.976 2207.71 232.374 Q2210.02 231.772 2212.29 230.569 L2212.29 234.596 Q2210 235.568 2207.59 236.078 Q2205.18 236.587 2202.71 236.587 Q2196.5 236.587 2192.87 232.976 Q2189.26 229.365 2189.26 223.207 Q2189.26 216.842 2192.68 213.115 Q2196.13 209.365 2201.97 209.365 Q2207.2 209.365 2210.23 212.745 Q2213.29 216.101 2213.29 221.888 M2209.03 220.638 Q2208.98 217.143 2207.06 215.059 Q2205.16 212.976 2202.01 212.976 Q2198.45 212.976 2196.29 214.99 Q2194.16 217.004 2193.84 220.661 L2209.03 220.638 Z\" fill=\"#000000\" fill-rule=\"evenodd\" fill-opacity=\"1\" /><path clip-path=\"url(#clip840)\" d=\"M2240.99 209.99 L2231.62 222.606 L2241.48 235.916 L2236.46 235.916 L2228.91 225.731 L2221.36 235.916 L2216.34 235.916 L2226.41 222.351 L2217.2 209.99 L2222.22 209.99 L2229.1 219.226 L2235.97 209.99 L2240.99 209.99 Z\" fill=\"#000000\" fill-rule=\"evenodd\" fill-opacity=\"1\" /><path clip-path=\"url(#clip840)\" d=\"M2246.64 233.369 L2251.36 233.369 L2251.36 219.226 L2246.2 220.175 L2246.2 217.49 L2251.53 216.587 L2254.7 216.587 L2254.7 233.369 L2259.44 233.369 L2259.44 235.916 L2246.64 235.916 L2246.64 233.369 Z\" fill=\"#000000\" fill-rule=\"evenodd\" fill-opacity=\"1\" /><polyline clip-path=\"url(#clip840)\" style=\"stroke:#e26f46; stroke-linecap:round; stroke-linejoin:round; stroke-width:4; stroke-opacity:1; fill:none\" points=\"2026.28,270.476 2165.98,270.476 \"/>\n",
       "<path clip-path=\"url(#clip840)\" d=\"M2213.29 273.728 L2213.29 275.811 L2193.7 275.811 Q2193.98 280.209 2196.34 282.524 Q2198.73 284.816 2202.96 284.816 Q2205.41 284.816 2207.71 284.214 Q2210.02 283.612 2212.29 282.409 L2212.29 286.436 Q2210 287.408 2207.59 287.918 Q2205.18 288.427 2202.71 288.427 Q2196.5 288.427 2192.87 284.816 Q2189.26 281.205 2189.26 275.047 Q2189.26 268.682 2192.68 264.955 Q2196.13 261.205 2201.97 261.205 Q2207.2 261.205 2210.23 264.585 Q2213.29 267.941 2213.29 273.728 M2209.03 272.478 Q2208.98 268.983 2207.06 266.899 Q2205.16 264.816 2202.01 264.816 Q2198.45 264.816 2196.29 266.83 Q2194.16 268.844 2193.84 272.501 L2209.03 272.478 Z\" fill=\"#000000\" fill-rule=\"evenodd\" fill-opacity=\"1\" /><path clip-path=\"url(#clip840)\" d=\"M2240.99 261.83 L2231.62 274.446 L2241.48 287.756 L2236.46 287.756 L2228.91 277.571 L2221.36 287.756 L2216.34 287.756 L2226.41 274.191 L2217.2 261.83 L2222.22 261.83 L2229.1 271.066 L2235.97 261.83 L2240.99 261.83 Z\" fill=\"#000000\" fill-rule=\"evenodd\" fill-opacity=\"1\" /><path clip-path=\"url(#clip840)\" d=\"M2249.23 285.117 L2259.05 285.117 L2259.05 287.756 L2245.21 287.756 L2245.21 285.209 Q2245.99 284.492 2247.45 283.196 Q2255.41 276.135 2255.41 273.959 Q2255.41 272.432 2254.21 271.506 Q2253.01 270.557 2251.04 270.557 Q2249.84 270.557 2248.42 270.973 Q2247.01 271.367 2245.35 272.177 L2245.35 269.33 Q2247.13 268.682 2248.66 268.358 Q2250.21 268.034 2251.53 268.034 Q2254.88 268.034 2256.9 269.561 Q2258.91 271.089 2258.91 273.589 Q2258.91 276.807 2251.25 283.381 Q2249.95 284.492 2249.23 285.117 Z\" fill=\"#000000\" fill-rule=\"evenodd\" fill-opacity=\"1\" /><polyline clip-path=\"url(#clip840)\" style=\"stroke:#3da44d; stroke-linecap:round; stroke-linejoin:round; stroke-width:4; stroke-opacity:1; fill:none\" points=\"2026.28,322.316 2165.98,322.316 \"/>\n",
       "<path clip-path=\"url(#clip840)\" d=\"M2213.29 325.568 L2213.29 327.651 L2193.7 327.651 Q2193.98 332.049 2196.34 334.364 Q2198.73 336.656 2202.96 336.656 Q2205.41 336.656 2207.71 336.054 Q2210.02 335.452 2212.29 334.249 L2212.29 338.276 Q2210 339.248 2207.59 339.758 Q2205.18 340.267 2202.71 340.267 Q2196.5 340.267 2192.87 336.656 Q2189.26 333.045 2189.26 326.887 Q2189.26 320.522 2192.68 316.795 Q2196.13 313.045 2201.97 313.045 Q2207.2 313.045 2210.23 316.425 Q2213.29 319.781 2213.29 325.568 M2209.03 324.318 Q2208.98 320.823 2207.06 318.739 Q2205.16 316.656 2202.01 316.656 Q2198.45 316.656 2196.29 318.67 Q2194.16 320.684 2193.84 324.341 L2209.03 324.318 Z\" fill=\"#000000\" fill-rule=\"evenodd\" fill-opacity=\"1\" /><path clip-path=\"url(#clip840)\" d=\"M2240.99 313.67 L2231.62 326.286 L2241.48 339.596 L2236.46 339.596 L2228.91 329.411 L2221.36 339.596 L2216.34 339.596 L2226.41 326.031 L2217.2 313.67 L2222.22 313.67 L2229.1 322.906 L2235.97 313.67 L2240.99 313.67 Z\" fill=\"#000000\" fill-rule=\"evenodd\" fill-opacity=\"1\" /><path clip-path=\"url(#clip840)\" d=\"M2255.16 329.133 Q2257.29 329.549 2258.45 330.823 Q2259.63 332.073 2259.63 333.971 Q2259.63 336.841 2257.43 338.392 Q2255.23 339.943 2251.13 339.943 Q2249.81 339.943 2248.35 339.688 Q2246.92 339.457 2245.3 338.994 L2245.3 336.193 Q2246.5 336.818 2247.87 337.119 Q2249.26 337.42 2250.81 337.42 Q2253.33 337.42 2254.72 336.517 Q2256.11 335.591 2256.11 333.971 Q2256.11 332.258 2254.81 331.378 Q2253.54 330.499 2251.04 330.499 L2249.05 330.499 L2249.05 327.999 L2251.22 327.999 Q2253.4 327.999 2254.51 327.281 Q2255.65 326.54 2255.65 325.151 Q2255.65 323.809 2254.49 323.114 Q2253.33 322.397 2251.13 322.397 Q2250.21 322.397 2249.03 322.605 Q2247.85 322.813 2245.97 323.346 L2245.97 320.684 Q2247.66 320.29 2249.14 320.082 Q2250.62 319.874 2251.9 319.874 Q2255.23 319.874 2257.17 321.239 Q2259.14 322.605 2259.14 324.897 Q2259.14 326.494 2258.1 327.605 Q2257.06 328.716 2255.16 329.133 Z\" fill=\"#000000\" fill-rule=\"evenodd\" fill-opacity=\"1\" /><polyline clip-path=\"url(#clip840)\" style=\"stroke:#c271d2; stroke-linecap:round; stroke-linejoin:round; stroke-width:4; stroke-opacity:1; fill:none\" stroke-dasharray=\"16, 10\" points=\"2026.28,374.156 2165.98,374.156 \"/>\n",
       "<path clip-path=\"url(#clip840)\" d=\"M2213.29 377.408 L2213.29 379.491 L2193.7 379.491 Q2193.98 383.889 2196.34 386.204 Q2198.73 388.496 2202.96 388.496 Q2205.41 388.496 2207.71 387.894 Q2210.02 387.292 2212.29 386.089 L2212.29 390.116 Q2210 391.088 2207.59 391.598 Q2205.18 392.107 2202.71 392.107 Q2196.5 392.107 2192.87 388.496 Q2189.26 384.885 2189.26 378.727 Q2189.26 372.362 2192.68 368.635 Q2196.13 364.885 2201.97 364.885 Q2207.2 364.885 2210.23 368.265 Q2213.29 371.621 2213.29 377.408 M2209.03 376.158 Q2208.98 372.663 2207.06 370.579 Q2205.16 368.496 2202.01 368.496 Q2198.45 368.496 2196.29 370.51 Q2194.16 372.524 2193.84 376.181 L2209.03 376.158 Z\" fill=\"#000000\" fill-rule=\"evenodd\" fill-opacity=\"1\" /><path clip-path=\"url(#clip840)\" d=\"M2240.99 365.51 L2231.62 378.126 L2241.48 391.436 L2236.46 391.436 L2228.91 381.251 L2221.36 391.436 L2216.34 391.436 L2226.41 377.871 L2217.2 365.51 L2222.22 365.51 L2229.1 374.746 L2235.97 365.51 L2240.99 365.51 Z\" fill=\"#000000\" fill-rule=\"evenodd\" fill-opacity=\"1\" /><path clip-path=\"url(#clip840)\" d=\"M2229 355.417 L2233.26 355.417 L2233.26 360.811 L2229 360.811 L2229 355.417 M2231.18 364.885 L2231.18 364.885 Z\" fill=\"#000000\" fill-rule=\"evenodd\" fill-opacity=\"1\" /><path clip-path=\"url(#clip840)\" d=\"M2246.64 388.889 L2251.36 388.889 L2251.36 374.746 L2246.2 375.695 L2246.2 373.01 L2251.53 372.107 L2254.7 372.107 L2254.7 388.889 L2259.44 388.889 L2259.44 391.436 L2246.64 391.436 L2246.64 388.889 Z\" fill=\"#000000\" fill-rule=\"evenodd\" fill-opacity=\"1\" /><polyline clip-path=\"url(#clip840)\" style=\"stroke:#ac8d18; stroke-linecap:round; stroke-linejoin:round; stroke-width:4; stroke-opacity:1; fill:none\" stroke-dasharray=\"16, 10\" points=\"2026.28,425.996 2165.98,425.996 \"/>\n",
       "<path clip-path=\"url(#clip840)\" d=\"M2213.29 429.248 L2213.29 431.331 L2193.7 431.331 Q2193.98 435.729 2196.34 438.044 Q2198.73 440.336 2202.96 440.336 Q2205.41 440.336 2207.71 439.734 Q2210.02 439.132 2212.29 437.929 L2212.29 441.956 Q2210 442.928 2207.59 443.438 Q2205.18 443.947 2202.71 443.947 Q2196.5 443.947 2192.87 440.336 Q2189.26 436.725 2189.26 430.567 Q2189.26 424.202 2192.68 420.475 Q2196.13 416.725 2201.97 416.725 Q2207.2 416.725 2210.23 420.105 Q2213.29 423.461 2213.29 429.248 M2209.03 427.998 Q2208.98 424.503 2207.06 422.419 Q2205.16 420.336 2202.01 420.336 Q2198.45 420.336 2196.29 422.35 Q2194.16 424.364 2193.84 428.021 L2209.03 427.998 Z\" fill=\"#000000\" fill-rule=\"evenodd\" fill-opacity=\"1\" /><path clip-path=\"url(#clip840)\" d=\"M2240.99 417.35 L2231.62 429.966 L2241.48 443.276 L2236.46 443.276 L2228.91 433.091 L2221.36 443.276 L2216.34 443.276 L2226.41 429.711 L2217.2 417.35 L2222.22 417.35 L2229.1 426.586 L2235.97 417.35 L2240.99 417.35 Z\" fill=\"#000000\" fill-rule=\"evenodd\" fill-opacity=\"1\" /><path clip-path=\"url(#clip840)\" d=\"M2229 407.257 L2233.26 407.257 L2233.26 412.651 L2229 412.651 L2229 407.257 M2231.18 416.725 L2231.18 416.725 Z\" fill=\"#000000\" fill-rule=\"evenodd\" fill-opacity=\"1\" /><path clip-path=\"url(#clip840)\" d=\"M2249.23 440.637 L2259.05 440.637 L2259.05 443.276 L2245.21 443.276 L2245.21 440.729 Q2245.99 440.012 2247.45 438.716 Q2255.41 431.655 2255.41 429.479 Q2255.41 427.952 2254.21 427.026 Q2253.01 426.077 2251.04 426.077 Q2249.84 426.077 2248.42 426.493 Q2247.01 426.887 2245.35 427.697 L2245.35 424.85 Q2247.13 424.202 2248.66 423.878 Q2250.21 423.554 2251.53 423.554 Q2254.88 423.554 2256.9 425.081 Q2258.91 426.609 2258.91 429.109 Q2258.91 432.327 2251.25 438.901 Q2249.95 440.012 2249.23 440.637 Z\" fill=\"#000000\" fill-rule=\"evenodd\" fill-opacity=\"1\" /><polyline clip-path=\"url(#clip840)\" style=\"stroke:#00a9ad; stroke-linecap:round; stroke-linejoin:round; stroke-width:4; stroke-opacity:1; fill:none\" stroke-dasharray=\"16, 10\" points=\"2026.28,477.836 2165.98,477.836 \"/>\n",
       "<path clip-path=\"url(#clip840)\" d=\"M2213.29 481.088 L2213.29 483.171 L2193.7 483.171 Q2193.98 487.569 2196.34 489.884 Q2198.73 492.176 2202.96 492.176 Q2205.41 492.176 2207.71 491.574 Q2210.02 490.972 2212.29 489.769 L2212.29 493.796 Q2210 494.768 2207.59 495.278 Q2205.18 495.787 2202.71 495.787 Q2196.5 495.787 2192.87 492.176 Q2189.26 488.565 2189.26 482.407 Q2189.26 476.042 2192.68 472.315 Q2196.13 468.565 2201.97 468.565 Q2207.2 468.565 2210.23 471.945 Q2213.29 475.301 2213.29 481.088 M2209.03 479.838 Q2208.98 476.343 2207.06 474.259 Q2205.16 472.176 2202.01 472.176 Q2198.45 472.176 2196.29 474.19 Q2194.16 476.204 2193.84 479.861 L2209.03 479.838 Z\" fill=\"#000000\" fill-rule=\"evenodd\" fill-opacity=\"1\" /><path clip-path=\"url(#clip840)\" d=\"M2240.99 469.19 L2231.62 481.806 L2241.48 495.116 L2236.46 495.116 L2228.91 484.931 L2221.36 495.116 L2216.34 495.116 L2226.41 481.551 L2217.2 469.19 L2222.22 469.19 L2229.1 478.426 L2235.97 469.19 L2240.99 469.19 Z\" fill=\"#000000\" fill-rule=\"evenodd\" fill-opacity=\"1\" /><path clip-path=\"url(#clip840)\" d=\"M2229 459.097 L2233.26 459.097 L2233.26 464.491 L2229 464.491 L2229 459.097 M2231.18 468.565 L2231.18 468.565 Z\" fill=\"#000000\" fill-rule=\"evenodd\" fill-opacity=\"1\" /><path clip-path=\"url(#clip840)\" d=\"M2255.16 484.653 Q2257.29 485.069 2258.45 486.343 Q2259.63 487.593 2259.63 489.491 Q2259.63 492.361 2257.43 493.912 Q2255.23 495.463 2251.13 495.463 Q2249.81 495.463 2248.35 495.208 Q2246.92 494.977 2245.3 494.514 L2245.3 491.713 Q2246.5 492.338 2247.87 492.639 Q2249.26 492.94 2250.81 492.94 Q2253.33 492.94 2254.72 492.037 Q2256.11 491.111 2256.11 489.491 Q2256.11 487.778 2254.81 486.898 Q2253.54 486.019 2251.04 486.019 L2249.05 486.019 L2249.05 483.519 L2251.22 483.519 Q2253.4 483.519 2254.51 482.801 Q2255.65 482.06 2255.65 480.671 Q2255.65 479.329 2254.49 478.634 Q2253.33 477.917 2251.13 477.917 Q2250.21 477.917 2249.03 478.125 Q2247.85 478.333 2245.97 478.866 L2245.97 476.204 Q2247.66 475.81 2249.14 475.602 Q2250.62 475.394 2251.9 475.394 Q2255.23 475.394 2257.17 476.759 Q2259.14 478.125 2259.14 480.417 Q2259.14 482.014 2258.1 483.125 Q2257.06 484.236 2255.16 484.653 Z\" fill=\"#000000\" fill-rule=\"evenodd\" fill-opacity=\"1\" /></svg>\n"
      ]
     },
     "metadata": {},
     "output_type": "display_data"
    },
    {
     "data": {
      "image/svg+xml": [
       "<?xml version=\"1.0\" encoding=\"utf-8\"?>\n",
       "<svg xmlns=\"http://www.w3.org/2000/svg\" xmlns:xlink=\"http://www.w3.org/1999/xlink\" width=\"600\" height=\"400\" viewBox=\"0 0 2400 1600\">\n",
       "<defs>\n",
       "  <clipPath id=\"clip880\">\n",
       "    <rect x=\"0\" y=\"0\" width=\"2400\" height=\"1600\"/>\n",
       "  </clipPath>\n",
       "</defs>\n",
       "<path clip-path=\"url(#clip880)\" d=\"M0 1600 L2400 1600 L2400 0 L0 0  Z\" fill=\"#ffffff\" fill-rule=\"evenodd\" fill-opacity=\"1\"/>\n",
       "<defs>\n",
       "  <clipPath id=\"clip881\">\n",
       "    <rect x=\"480\" y=\"0\" width=\"1681\" height=\"1600\"/>\n",
       "  </clipPath>\n",
       "</defs>\n",
       "<path clip-path=\"url(#clip880)\" d=\"M232.389 1423.18 L2352.76 1423.18 L2352.76 123.472 L232.389 123.472  Z\" fill=\"#ffffff\" fill-rule=\"evenodd\" fill-opacity=\"1\"/>\n",
       "<defs>\n",
       "  <clipPath id=\"clip882\">\n",
       "    <rect x=\"232\" y=\"123\" width=\"2121\" height=\"1301\"/>\n",
       "  </clipPath>\n",
       "</defs>\n",
       "<polyline clip-path=\"url(#clip882)\" style=\"stroke:#000000; stroke-linecap:round; stroke-linejoin:round; stroke-width:2; stroke-opacity:0.1; fill:none\" points=\"292.4,1423.18 292.4,123.472 \"/>\n",
       "<polyline clip-path=\"url(#clip882)\" style=\"stroke:#000000; stroke-linecap:round; stroke-linejoin:round; stroke-width:2; stroke-opacity:0.1; fill:none\" points=\"747.024,1423.18 747.024,123.472 \"/>\n",
       "<polyline clip-path=\"url(#clip882)\" style=\"stroke:#000000; stroke-linecap:round; stroke-linejoin:round; stroke-width:2; stroke-opacity:0.1; fill:none\" points=\"1201.65,1423.18 1201.65,123.472 \"/>\n",
       "<polyline clip-path=\"url(#clip882)\" style=\"stroke:#000000; stroke-linecap:round; stroke-linejoin:round; stroke-width:2; stroke-opacity:0.1; fill:none\" points=\"1656.27,1423.18 1656.27,123.472 \"/>\n",
       "<polyline clip-path=\"url(#clip882)\" style=\"stroke:#000000; stroke-linecap:round; stroke-linejoin:round; stroke-width:2; stroke-opacity:0.1; fill:none\" points=\"2110.9,1423.18 2110.9,123.472 \"/>\n",
       "<polyline clip-path=\"url(#clip880)\" style=\"stroke:#000000; stroke-linecap:round; stroke-linejoin:round; stroke-width:4; stroke-opacity:1; fill:none\" points=\"232.389,1423.18 2352.76,1423.18 \"/>\n",
       "<polyline clip-path=\"url(#clip880)\" style=\"stroke:#000000; stroke-linecap:round; stroke-linejoin:round; stroke-width:4; stroke-opacity:1; fill:none\" points=\"292.4,1423.18 292.4,1404.28 \"/>\n",
       "<polyline clip-path=\"url(#clip880)\" style=\"stroke:#000000; stroke-linecap:round; stroke-linejoin:round; stroke-width:4; stroke-opacity:1; fill:none\" points=\"747.024,1423.18 747.024,1404.28 \"/>\n",
       "<polyline clip-path=\"url(#clip880)\" style=\"stroke:#000000; stroke-linecap:round; stroke-linejoin:round; stroke-width:4; stroke-opacity:1; fill:none\" points=\"1201.65,1423.18 1201.65,1404.28 \"/>\n",
       "<polyline clip-path=\"url(#clip880)\" style=\"stroke:#000000; stroke-linecap:round; stroke-linejoin:round; stroke-width:4; stroke-opacity:1; fill:none\" points=\"1656.27,1423.18 1656.27,1404.28 \"/>\n",
       "<polyline clip-path=\"url(#clip880)\" style=\"stroke:#000000; stroke-linecap:round; stroke-linejoin:round; stroke-width:4; stroke-opacity:1; fill:none\" points=\"2110.9,1423.18 2110.9,1404.28 \"/>\n",
       "<path clip-path=\"url(#clip880)\" d=\"M292.4 1454.1 Q288.789 1454.1 286.96 1457.66 Q285.154 1461.2 285.154 1468.33 Q285.154 1475.44 286.96 1479.01 Q288.789 1482.55 292.4 1482.55 Q296.034 1482.55 297.84 1479.01 Q299.668 1475.44 299.668 1468.33 Q299.668 1461.2 297.84 1457.66 Q296.034 1454.1 292.4 1454.1 M292.4 1450.39 Q298.21 1450.39 301.265 1455 Q304.344 1459.58 304.344 1468.33 Q304.344 1477.06 301.265 1481.67 Q298.21 1486.25 292.4 1486.25 Q286.59 1486.25 283.511 1481.67 Q280.455 1477.06 280.455 1468.33 Q280.455 1459.58 283.511 1455 Q286.59 1450.39 292.4 1450.39 Z\" fill=\"#000000\" fill-rule=\"evenodd\" fill-opacity=\"1\" /><path clip-path=\"url(#clip880)\" d=\"M741.677 1481.64 L757.996 1481.64 L757.996 1485.58 L736.052 1485.58 L736.052 1481.64 Q738.714 1478.89 743.297 1474.26 Q747.903 1469.61 749.084 1468.27 Q751.329 1465.74 752.209 1464.01 Q753.112 1462.25 753.112 1460.56 Q753.112 1457.8 751.167 1456.07 Q749.246 1454.33 746.144 1454.33 Q743.945 1454.33 741.491 1455.09 Q739.061 1455.86 736.283 1457.41 L736.283 1452.69 Q739.107 1451.55 741.561 1450.97 Q744.015 1450.39 746.052 1450.39 Q751.422 1450.39 754.616 1453.08 Q757.811 1455.77 757.811 1460.26 Q757.811 1462.39 757.001 1464.31 Q756.214 1466.2 754.107 1468.8 Q753.528 1469.47 750.427 1472.69 Q747.325 1475.88 741.677 1481.64 Z\" fill=\"#000000\" fill-rule=\"evenodd\" fill-opacity=\"1\" /><path clip-path=\"url(#clip880)\" d=\"M1204.66 1455.09 L1192.85 1473.54 L1204.66 1473.54 L1204.66 1455.09 M1203.43 1451.02 L1209.31 1451.02 L1209.31 1473.54 L1214.24 1473.54 L1214.24 1477.43 L1209.31 1477.43 L1209.31 1485.58 L1204.66 1485.58 L1204.66 1477.43 L1189.06 1477.43 L1189.06 1472.92 L1203.43 1451.02 Z\" fill=\"#000000\" fill-rule=\"evenodd\" fill-opacity=\"1\" /><path clip-path=\"url(#clip880)\" d=\"M1656.68 1466.44 Q1653.53 1466.44 1651.68 1468.59 Q1649.85 1470.74 1649.85 1474.49 Q1649.85 1478.22 1651.68 1480.39 Q1653.53 1482.55 1656.68 1482.55 Q1659.83 1482.55 1661.65 1480.39 Q1663.51 1478.22 1663.51 1474.49 Q1663.51 1470.74 1661.65 1468.59 Q1659.83 1466.44 1656.68 1466.44 M1665.96 1451.78 L1665.96 1456.04 Q1664.2 1455.21 1662.39 1454.77 Q1660.61 1454.33 1658.85 1454.33 Q1654.22 1454.33 1651.77 1457.45 Q1649.34 1460.58 1648.99 1466.9 Q1650.36 1464.89 1652.42 1463.82 Q1654.48 1462.73 1656.95 1462.73 Q1662.16 1462.73 1665.17 1465.9 Q1668.2 1469.05 1668.2 1474.49 Q1668.2 1479.82 1665.06 1483.03 Q1661.91 1486.25 1656.68 1486.25 Q1650.68 1486.25 1647.51 1481.67 Q1644.34 1477.06 1644.34 1468.33 Q1644.34 1460.14 1648.23 1455.28 Q1652.12 1450.39 1658.67 1450.39 Q1660.43 1450.39 1662.21 1450.74 Q1664.01 1451.09 1665.96 1451.78 Z\" fill=\"#000000\" fill-rule=\"evenodd\" fill-opacity=\"1\" /><path clip-path=\"url(#clip880)\" d=\"M2110.9 1469.17 Q2107.56 1469.17 2105.64 1470.95 Q2103.74 1472.73 2103.74 1475.86 Q2103.74 1478.98 2105.64 1480.77 Q2107.56 1482.55 2110.9 1482.55 Q2114.23 1482.55 2116.15 1480.77 Q2118.07 1478.96 2118.07 1475.86 Q2118.07 1472.73 2116.15 1470.95 Q2114.25 1469.17 2110.9 1469.17 M2106.22 1467.18 Q2103.21 1466.44 2101.52 1464.38 Q2099.85 1462.32 2099.85 1459.35 Q2099.85 1455.21 2102.79 1452.8 Q2105.76 1450.39 2110.9 1450.39 Q2116.06 1450.39 2119 1452.8 Q2121.94 1455.21 2121.94 1459.35 Q2121.94 1462.32 2120.25 1464.38 Q2118.58 1466.44 2115.59 1467.18 Q2118.97 1467.96 2120.85 1470.26 Q2122.75 1472.55 2122.75 1475.86 Q2122.75 1480.88 2119.67 1483.57 Q2116.61 1486.25 2110.9 1486.25 Q2105.18 1486.25 2102.1 1483.57 Q2099.04 1480.88 2099.04 1475.86 Q2099.04 1472.55 2100.94 1470.26 Q2102.84 1467.96 2106.22 1467.18 M2104.51 1459.79 Q2104.51 1462.48 2106.17 1463.98 Q2107.86 1465.49 2110.9 1465.49 Q2113.91 1465.49 2115.59 1463.98 Q2117.31 1462.48 2117.31 1459.79 Q2117.31 1457.11 2115.59 1455.6 Q2113.91 1454.1 2110.9 1454.1 Q2107.86 1454.1 2106.17 1455.6 Q2104.51 1457.11 2104.51 1459.79 Z\" fill=\"#000000\" fill-rule=\"evenodd\" fill-opacity=\"1\" /><path clip-path=\"url(#clip880)\" d=\"M1180.03 1522.27 L1180.03 1532.4 L1192.09 1532.4 L1192.09 1536.95 L1180.03 1536.95 L1180.03 1556.3 Q1180.03 1560.66 1181.2 1561.9 Q1182.41 1563.14 1186.07 1563.14 L1192.09 1563.14 L1192.09 1568.04 L1186.07 1568.04 Q1179.29 1568.04 1176.72 1565.53 Q1174.14 1562.98 1174.14 1556.3 L1174.14 1536.95 L1169.84 1536.95 L1169.84 1532.4 L1174.14 1532.4 L1174.14 1522.27 L1180.03 1522.27 Z\" fill=\"#000000\" fill-rule=\"evenodd\" fill-opacity=\"1\" /><path clip-path=\"url(#clip880)\" d=\"M1199.79 1532.4 L1205.65 1532.4 L1205.65 1568.04 L1199.79 1568.04 L1199.79 1532.4 M1199.79 1518.52 L1205.65 1518.52 L1205.65 1525.93 L1199.79 1525.93 L1199.79 1518.52 Z\" fill=\"#000000\" fill-rule=\"evenodd\" fill-opacity=\"1\" /><path clip-path=\"url(#clip880)\" d=\"M1245.66 1539.24 Q1247.85 1535.29 1250.91 1533.41 Q1253.96 1531.54 1258.1 1531.54 Q1263.67 1531.54 1266.7 1535.45 Q1269.72 1539.33 1269.72 1546.53 L1269.72 1568.04 L1263.83 1568.04 L1263.83 1546.72 Q1263.83 1541.59 1262.02 1539.11 Q1260.2 1536.63 1256.48 1536.63 Q1251.93 1536.63 1249.29 1539.65 Q1246.64 1542.68 1246.64 1547.9 L1246.64 1568.04 L1240.76 1568.04 L1240.76 1546.72 Q1240.76 1541.56 1238.94 1539.11 Q1237.13 1536.63 1233.34 1536.63 Q1228.85 1536.63 1226.21 1539.68 Q1223.57 1542.71 1223.57 1547.9 L1223.57 1568.04 L1217.68 1568.04 L1217.68 1532.4 L1223.57 1532.4 L1223.57 1537.93 Q1225.57 1534.66 1228.37 1533.1 Q1231.18 1531.54 1235.03 1531.54 Q1238.91 1531.54 1241.62 1533.51 Q1244.35 1535.48 1245.66 1539.24 Z\" fill=\"#000000\" fill-rule=\"evenodd\" fill-opacity=\"1\" /><path clip-path=\"url(#clip880)\" d=\"M1311.89 1548.76 L1311.89 1551.62 L1284.97 1551.62 Q1285.35 1557.67 1288.59 1560.85 Q1291.87 1564 1297.7 1564 Q1301.07 1564 1304.22 1563.17 Q1307.4 1562.35 1310.52 1560.69 L1310.52 1566.23 Q1307.37 1567.57 1304.06 1568.27 Q1300.75 1568.97 1297.35 1568.97 Q1288.82 1568.97 1283.82 1564 Q1278.85 1559.04 1278.85 1550.57 Q1278.85 1541.82 1283.57 1536.69 Q1288.31 1531.54 1296.33 1531.54 Q1303.52 1531.54 1307.69 1536.18 Q1311.89 1540.8 1311.89 1548.76 M1306.04 1547.04 Q1305.97 1542.23 1303.33 1539.37 Q1300.72 1536.5 1296.39 1536.5 Q1291.49 1536.5 1288.53 1539.27 Q1285.6 1542.04 1285.16 1547.07 L1306.04 1547.04 Z\" fill=\"#000000\" fill-rule=\"evenodd\" fill-opacity=\"1\" /><path clip-path=\"url(#clip880)\" d=\"M1356.29 1518.58 Q1352.03 1525.9 1349.96 1533.06 Q1347.89 1540.23 1347.89 1547.58 Q1347.89 1554.93 1349.96 1562.16 Q1352.06 1569.35 1356.29 1576.64 L1351.2 1576.64 Q1346.43 1569.16 1344.04 1561.93 Q1341.68 1554.71 1341.68 1547.58 Q1341.68 1540.48 1344.04 1533.29 Q1346.39 1526.09 1351.2 1518.58 L1356.29 1518.58 Z\" fill=\"#000000\" fill-rule=\"evenodd\" fill-opacity=\"1\" /><path clip-path=\"url(#clip880)\" d=\"M1390.38 1533.45 L1390.38 1538.98 Q1387.9 1537.71 1385.23 1537.07 Q1382.55 1536.44 1379.69 1536.44 Q1375.33 1536.44 1373.13 1537.77 Q1370.97 1539.11 1370.97 1541.79 Q1370.97 1543.82 1372.53 1545 Q1374.09 1546.15 1378.8 1547.2 L1380.8 1547.64 Q1387.04 1548.98 1389.65 1551.43 Q1392.29 1553.85 1392.29 1558.21 Q1392.29 1563.17 1388.34 1566.07 Q1384.43 1568.97 1377.55 1568.97 Q1374.69 1568.97 1371.57 1568.39 Q1368.48 1567.85 1365.05 1566.74 L1365.05 1560.69 Q1368.29 1562.38 1371.44 1563.24 Q1374.59 1564.07 1377.68 1564.07 Q1381.82 1564.07 1384.05 1562.66 Q1386.28 1561.23 1386.28 1558.65 Q1386.28 1556.27 1384.65 1554.99 Q1383.06 1553.72 1377.62 1552.54 L1375.58 1552.07 Q1370.14 1550.92 1367.72 1548.56 Q1365.3 1546.18 1365.3 1542.04 Q1365.3 1537.01 1368.87 1534.27 Q1372.43 1531.54 1378.99 1531.54 Q1382.23 1531.54 1385.1 1532.01 Q1387.96 1532.49 1390.38 1533.45 Z\" fill=\"#000000\" fill-rule=\"evenodd\" fill-opacity=\"1\" /><path clip-path=\"url(#clip880)\" d=\"M1400.69 1518.58 L1405.79 1518.58 Q1410.56 1526.09 1412.92 1533.29 Q1415.3 1540.48 1415.3 1547.58 Q1415.3 1554.71 1412.92 1561.93 Q1410.56 1569.16 1405.79 1576.64 L1400.69 1576.64 Q1404.93 1569.35 1407 1562.16 Q1409.1 1554.93 1409.1 1547.58 Q1409.1 1540.23 1407 1533.06 Q1404.93 1525.9 1400.69 1518.58 Z\" fill=\"#000000\" fill-rule=\"evenodd\" fill-opacity=\"1\" /><polyline clip-path=\"url(#clip882)\" style=\"stroke:#000000; stroke-linecap:round; stroke-linejoin:round; stroke-width:2; stroke-opacity:0.1; fill:none\" points=\"232.389,1225.81 2352.76,1225.81 \"/>\n",
       "<polyline clip-path=\"url(#clip882)\" style=\"stroke:#000000; stroke-linecap:round; stroke-linejoin:round; stroke-width:2; stroke-opacity:0.1; fill:none\" points=\"232.389,984.706 2352.76,984.706 \"/>\n",
       "<polyline clip-path=\"url(#clip882)\" style=\"stroke:#000000; stroke-linecap:round; stroke-linejoin:round; stroke-width:2; stroke-opacity:0.1; fill:none\" points=\"232.389,743.598 2352.76,743.598 \"/>\n",
       "<polyline clip-path=\"url(#clip882)\" style=\"stroke:#000000; stroke-linecap:round; stroke-linejoin:round; stroke-width:2; stroke-opacity:0.1; fill:none\" points=\"232.389,502.49 2352.76,502.49 \"/>\n",
       "<polyline clip-path=\"url(#clip882)\" style=\"stroke:#000000; stroke-linecap:round; stroke-linejoin:round; stroke-width:2; stroke-opacity:0.1; fill:none\" points=\"232.389,261.382 2352.76,261.382 \"/>\n",
       "<polyline clip-path=\"url(#clip880)\" style=\"stroke:#000000; stroke-linecap:round; stroke-linejoin:round; stroke-width:4; stroke-opacity:1; fill:none\" points=\"232.389,1423.18 232.389,123.472 \"/>\n",
       "<polyline clip-path=\"url(#clip880)\" style=\"stroke:#000000; stroke-linecap:round; stroke-linejoin:round; stroke-width:4; stroke-opacity:1; fill:none\" points=\"232.389,1225.81 251.287,1225.81 \"/>\n",
       "<polyline clip-path=\"url(#clip880)\" style=\"stroke:#000000; stroke-linecap:round; stroke-linejoin:round; stroke-width:4; stroke-opacity:1; fill:none\" points=\"232.389,984.706 251.287,984.706 \"/>\n",
       "<polyline clip-path=\"url(#clip880)\" style=\"stroke:#000000; stroke-linecap:round; stroke-linejoin:round; stroke-width:4; stroke-opacity:1; fill:none\" points=\"232.389,743.598 251.287,743.598 \"/>\n",
       "<polyline clip-path=\"url(#clip880)\" style=\"stroke:#000000; stroke-linecap:round; stroke-linejoin:round; stroke-width:4; stroke-opacity:1; fill:none\" points=\"232.389,502.49 251.287,502.49 \"/>\n",
       "<polyline clip-path=\"url(#clip880)\" style=\"stroke:#000000; stroke-linecap:round; stroke-linejoin:round; stroke-width:4; stroke-opacity:1; fill:none\" points=\"232.389,261.382 251.287,261.382 \"/>\n",
       "<path clip-path=\"url(#clip880)\" d=\"M184.445 1211.61 Q180.834 1211.61 179.005 1215.18 Q177.2 1218.72 177.2 1225.85 Q177.2 1232.96 179.005 1236.52 Q180.834 1240.06 184.445 1240.06 Q188.079 1240.06 189.885 1236.52 Q191.713 1232.96 191.713 1225.85 Q191.713 1218.72 189.885 1215.18 Q188.079 1211.61 184.445 1211.61 M184.445 1207.91 Q190.255 1207.91 193.311 1212.52 Q196.389 1217.1 196.389 1225.85 Q196.389 1234.58 193.311 1239.18 Q190.255 1243.77 184.445 1243.77 Q178.635 1243.77 175.556 1239.18 Q172.501 1234.58 172.501 1225.85 Q172.501 1217.1 175.556 1212.52 Q178.635 1207.91 184.445 1207.91 Z\" fill=\"#000000\" fill-rule=\"evenodd\" fill-opacity=\"1\" /><path clip-path=\"url(#clip880)\" d=\"M149.306 998.051 L165.626 998.051 L165.626 1001.99 L143.681 1001.99 L143.681 998.051 Q146.343 995.296 150.927 990.667 Q155.533 986.014 156.714 984.671 Q158.959 982.148 159.839 980.412 Q160.741 978.653 160.741 976.963 Q160.741 974.208 158.797 972.472 Q156.876 970.736 153.774 970.736 Q151.575 970.736 149.121 971.5 Q146.691 972.264 143.913 973.815 L143.913 969.093 Q146.737 967.958 149.191 967.38 Q151.644 966.801 153.681 966.801 Q159.052 966.801 162.246 969.486 Q165.44 972.171 165.44 976.662 Q165.44 978.792 164.63 980.713 Q163.843 982.611 161.737 985.204 Q161.158 985.875 158.056 989.092 Q154.954 992.287 149.306 998.051 Z\" fill=\"#000000\" fill-rule=\"evenodd\" fill-opacity=\"1\" /><path clip-path=\"url(#clip880)\" d=\"M175.487 967.426 L193.843 967.426 L193.843 971.361 L179.769 971.361 L179.769 979.833 Q180.788 979.486 181.806 979.324 Q182.825 979.139 183.843 979.139 Q189.63 979.139 193.01 982.31 Q196.389 985.481 196.389 990.898 Q196.389 996.477 192.917 999.579 Q189.445 1002.66 183.126 1002.66 Q180.95 1002.66 178.681 1002.29 Q176.436 1001.92 174.028 1001.18 L174.028 996.477 Q176.112 997.611 178.334 998.167 Q180.556 998.722 183.033 998.722 Q187.038 998.722 189.375 996.616 Q191.713 994.509 191.713 990.898 Q191.713 987.287 189.375 985.18 Q187.038 983.074 183.033 983.074 Q181.158 983.074 179.283 983.491 Q177.431 983.907 175.487 984.787 L175.487 967.426 Z\" fill=\"#000000\" fill-rule=\"evenodd\" fill-opacity=\"1\" /><path clip-path=\"url(#clip880)\" d=\"M144.329 726.318 L162.686 726.318 L162.686 730.253 L148.612 730.253 L148.612 738.725 Q149.63 738.378 150.649 738.216 Q151.667 738.031 152.686 738.031 Q158.473 738.031 161.852 741.202 Q165.232 744.373 165.232 749.79 Q165.232 755.369 161.76 758.471 Q158.288 761.549 151.968 761.549 Q149.792 761.549 147.524 761.179 Q145.279 760.809 142.871 760.068 L142.871 755.369 Q144.954 756.503 147.177 757.059 Q149.399 757.614 151.876 757.614 Q155.88 757.614 158.218 755.508 Q160.556 753.401 160.556 749.79 Q160.556 746.179 158.218 744.073 Q155.88 741.966 151.876 741.966 Q150.001 741.966 148.126 742.383 Q146.274 742.799 144.329 743.679 L144.329 726.318 Z\" fill=\"#000000\" fill-rule=\"evenodd\" fill-opacity=\"1\" /><path clip-path=\"url(#clip880)\" d=\"M184.445 729.397 Q180.834 729.397 179.005 732.961 Q177.2 736.503 177.2 743.633 Q177.2 750.739 179.005 754.304 Q180.834 757.846 184.445 757.846 Q188.079 757.846 189.885 754.304 Q191.713 750.739 191.713 743.633 Q191.713 736.503 189.885 732.961 Q188.079 729.397 184.445 729.397 M184.445 725.693 Q190.255 725.693 193.311 730.299 Q196.389 734.883 196.389 743.633 Q196.389 752.36 193.311 756.966 Q190.255 761.549 184.445 761.549 Q178.635 761.549 175.556 756.966 Q172.501 752.36 172.501 743.633 Q172.501 734.883 175.556 730.299 Q178.635 725.693 184.445 725.693 Z\" fill=\"#000000\" fill-rule=\"evenodd\" fill-opacity=\"1\" /><path clip-path=\"url(#clip880)\" d=\"M144.098 485.21 L166.32 485.21 L166.32 487.201 L153.774 519.77 L148.89 519.77 L160.695 489.145 L144.098 489.145 L144.098 485.21 Z\" fill=\"#000000\" fill-rule=\"evenodd\" fill-opacity=\"1\" /><path clip-path=\"url(#clip880)\" d=\"M175.487 485.21 L193.843 485.21 L193.843 489.145 L179.769 489.145 L179.769 497.617 Q180.788 497.27 181.806 497.108 Q182.825 496.923 183.843 496.923 Q189.63 496.923 193.01 500.094 Q196.389 503.265 196.389 508.682 Q196.389 514.261 192.917 517.363 Q189.445 520.441 183.126 520.441 Q180.95 520.441 178.681 520.071 Q176.436 519.701 174.028 518.96 L174.028 514.261 Q176.112 515.395 178.334 515.951 Q180.556 516.506 183.033 516.506 Q187.038 516.506 189.375 514.4 Q191.713 512.293 191.713 508.682 Q191.713 505.071 189.375 502.965 Q187.038 500.858 183.033 500.858 Q181.158 500.858 179.283 501.275 Q177.431 501.691 175.487 502.571 L175.487 485.21 Z\" fill=\"#000000\" fill-rule=\"evenodd\" fill-opacity=\"1\" /><path clip-path=\"url(#clip880)\" d=\"M114.931 274.727 L122.57 274.727 L122.57 248.361 L114.26 250.028 L114.26 245.769 L122.524 244.102 L127.2 244.102 L127.2 274.727 L134.839 274.727 L134.839 278.662 L114.931 278.662 L114.931 274.727 Z\" fill=\"#000000\" fill-rule=\"evenodd\" fill-opacity=\"1\" /><path clip-path=\"url(#clip880)\" d=\"M154.283 247.181 Q150.672 247.181 148.843 250.746 Q147.038 254.287 147.038 261.417 Q147.038 268.523 148.843 272.088 Q150.672 275.63 154.283 275.63 Q157.917 275.63 159.723 272.088 Q161.552 268.523 161.552 261.417 Q161.552 254.287 159.723 250.746 Q157.917 247.181 154.283 247.181 M154.283 243.477 Q160.093 243.477 163.149 248.083 Q166.227 252.667 166.227 261.417 Q166.227 270.144 163.149 274.75 Q160.093 279.333 154.283 279.333 Q148.473 279.333 145.394 274.75 Q142.339 270.144 142.339 261.417 Q142.339 252.667 145.394 248.083 Q148.473 243.477 154.283 243.477 Z\" fill=\"#000000\" fill-rule=\"evenodd\" fill-opacity=\"1\" /><path clip-path=\"url(#clip880)\" d=\"M184.445 247.181 Q180.834 247.181 179.005 250.746 Q177.2 254.287 177.2 261.417 Q177.2 268.523 179.005 272.088 Q180.834 275.63 184.445 275.63 Q188.079 275.63 189.885 272.088 Q191.713 268.523 191.713 261.417 Q191.713 254.287 189.885 250.746 Q188.079 247.181 184.445 247.181 M184.445 243.477 Q190.255 243.477 193.311 248.083 Q196.389 252.667 196.389 261.417 Q196.389 270.144 193.311 274.75 Q190.255 279.333 184.445 279.333 Q178.635 279.333 175.556 274.75 Q172.501 270.144 172.501 261.417 Q172.501 252.667 175.556 248.083 Q178.635 243.477 184.445 243.477 Z\" fill=\"#000000\" fill-rule=\"evenodd\" fill-opacity=\"1\" /><path clip-path=\"url(#clip880)\" d=\"M49.9359 788.254 L28.3562 788.254 L28.3562 782.397 L49.7131 782.397 Q54.7739 782.397 57.3202 780.424 Q59.8346 778.45 59.8346 774.504 Q59.8346 769.761 56.8109 767.024 Q53.7872 764.255 48.5673 764.255 L28.3562 764.255 L28.3562 758.398 L64.0042 758.398 L64.0042 764.255 L58.5296 764.255 Q61.7762 766.387 63.3676 769.22 Q64.9272 772.021 64.9272 775.745 Q64.9272 781.888 61.1078 785.071 Q57.2883 788.254 49.9359 788.254 M27.4968 773.517 L27.4968 773.517 Z\" fill=\"#000000\" fill-rule=\"evenodd\" fill-opacity=\"1\" /><path clip-path=\"url(#clip880)\" d=\"M1029.71 12.096 L1037.89 12.096 L1037.89 72.576 L1029.71 72.576 L1029.71 12.096 Z\" fill=\"#000000\" fill-rule=\"evenodd\" fill-opacity=\"1\" /><path clip-path=\"url(#clip880)\" d=\"M1091.57 45.1919 L1091.57 72.576 L1084.11 72.576 L1084.11 45.4349 Q1084.11 38.994 1081.6 35.7938 Q1079.09 32.5936 1074.07 32.5936 Q1068.03 32.5936 1064.55 36.4419 Q1061.06 40.2903 1061.06 46.9338 L1061.06 72.576 L1053.57 72.576 L1053.57 27.2059 L1061.06 27.2059 L1061.06 34.2544 Q1063.74 30.163 1067.34 28.1376 Q1070.99 26.1121 1075.73 26.1121 Q1083.55 26.1121 1087.56 30.9732 Q1091.57 35.7938 1091.57 45.1919 Z\" fill=\"#000000\" fill-rule=\"evenodd\" fill-opacity=\"1\" /><path clip-path=\"url(#clip880)\" d=\"M1113.64 65.7705 L1113.64 89.8329 L1106.15 89.8329 L1106.15 27.2059 L1113.64 27.2059 L1113.64 34.0924 Q1115.99 30.0415 1119.56 28.0971 Q1123.16 26.1121 1128.15 26.1121 Q1136.41 26.1121 1141.55 32.6746 Q1146.74 39.2371 1146.74 49.9314 Q1146.74 60.6258 1141.55 67.1883 Q1136.41 73.7508 1128.15 73.7508 Q1123.16 73.7508 1119.56 71.8063 Q1115.99 69.8214 1113.64 65.7705 M1139 49.9314 Q1139 41.7081 1135.6 37.0496 Q1132.24 32.3505 1126.32 32.3505 Q1120.41 32.3505 1117.01 37.0496 Q1113.64 41.7081 1113.64 49.9314 Q1113.64 58.1548 1117.01 62.8538 Q1120.41 67.5124 1126.32 67.5124 Q1132.24 67.5124 1135.6 62.8538 Q1139 58.1548 1139 49.9314 Z\" fill=\"#000000\" fill-rule=\"evenodd\" fill-opacity=\"1\" /><path clip-path=\"url(#clip880)\" d=\"M1158.33 54.671 L1158.33 27.2059 L1165.78 27.2059 L1165.78 54.3874 Q1165.78 60.8284 1168.29 64.0691 Q1170.8 67.2693 1175.83 67.2693 Q1181.86 67.2693 1185.35 63.421 Q1188.87 59.5726 1188.87 52.9291 L1188.87 27.2059 L1196.32 27.2059 L1196.32 72.576 L1188.87 72.576 L1188.87 65.6084 Q1186.16 69.7404 1182.55 71.7658 Q1178.99 73.7508 1174.25 73.7508 Q1166.43 73.7508 1162.38 68.8897 Q1158.33 64.0286 1158.33 54.671 M1177.08 26.1121 L1177.08 26.1121 Z\" fill=\"#000000\" fill-rule=\"evenodd\" fill-opacity=\"1\" /><path clip-path=\"url(#clip880)\" d=\"M1219.05 14.324 L1219.05 27.2059 L1234.4 27.2059 L1234.4 32.9987 L1219.05 32.9987 L1219.05 57.6282 Q1219.05 63.1779 1220.55 64.7578 Q1222.09 66.3376 1226.75 66.3376 L1234.4 66.3376 L1234.4 72.576 L1226.75 72.576 Q1218.12 72.576 1214.84 69.3758 Q1211.55 66.1351 1211.55 57.6282 L1211.55 32.9987 L1206.09 32.9987 L1206.09 27.2059 L1211.55 27.2059 L1211.55 14.324 L1219.05 14.324 Z\" fill=\"#000000\" fill-rule=\"evenodd\" fill-opacity=\"1\" /><path clip-path=\"url(#clip880)\" d=\"M1270.9 12.096 L1279.08 12.096 L1279.08 36.8875 L1308.82 36.8875 L1308.82 12.096 L1317 12.096 L1317 72.576 L1308.82 72.576 L1308.82 43.7741 L1279.08 43.7741 L1279.08 72.576 L1270.9 72.576 L1270.9 12.096 Z\" fill=\"#000000\" fill-rule=\"evenodd\" fill-opacity=\"1\" /><path clip-path=\"url(#clip880)\" d=\"M1332.96 27.2059 L1340.41 27.2059 L1340.41 72.576 L1332.96 72.576 L1332.96 27.2059 M1332.96 9.54393 L1340.41 9.54393 L1340.41 18.9825 L1332.96 18.9825 L1332.96 9.54393 Z\" fill=\"#000000\" fill-rule=\"evenodd\" fill-opacity=\"1\" /><path clip-path=\"url(#clip880)\" d=\"M1384.93 28.5427 L1384.93 35.5912 Q1381.77 33.9709 1378.37 33.1607 Q1374.97 32.3505 1371.32 32.3505 Q1365.77 32.3505 1362.98 34.0519 Q1360.22 35.7533 1360.22 39.156 Q1360.22 41.7486 1362.21 43.2475 Q1364.19 44.7058 1370.19 46.0426 L1372.74 46.6097 Q1380.68 48.3111 1384 51.4303 Q1387.36 54.509 1387.36 60.0587 Q1387.36 66.3781 1382.34 70.0644 Q1377.36 73.7508 1368.61 73.7508 Q1364.96 73.7508 1360.99 73.0216 Q1357.06 72.3329 1352.69 70.9151 L1352.69 63.2184 Q1356.82 65.3654 1360.83 66.4591 Q1364.84 67.5124 1368.77 67.5124 Q1374.04 67.5124 1376.87 65.73 Q1379.71 63.9071 1379.71 60.6258 Q1379.71 57.5877 1377.64 55.9673 Q1375.62 54.3469 1368.69 52.8481 L1366.1 52.2405 Q1359.17 50.7821 1356.09 47.7845 Q1353.01 44.7463 1353.01 39.4801 Q1353.01 33.0797 1357.55 29.5959 Q1362.09 26.1121 1370.43 26.1121 Q1374.56 26.1121 1378.21 26.7198 Q1381.85 27.3274 1384.93 28.5427 Z\" fill=\"#000000\" fill-rule=\"evenodd\" fill-opacity=\"1\" /><path clip-path=\"url(#clip880)\" d=\"M1406.61 14.324 L1406.61 27.2059 L1421.96 27.2059 L1421.96 32.9987 L1406.61 32.9987 L1406.61 57.6282 Q1406.61 63.1779 1408.1 64.7578 Q1409.64 66.3376 1414.3 66.3376 L1421.96 66.3376 L1421.96 72.576 L1414.3 72.576 Q1405.67 72.576 1402.39 69.3758 Q1399.11 66.1351 1399.11 57.6282 L1399.11 32.9987 L1393.64 32.9987 L1393.64 27.2059 L1399.11 27.2059 L1399.11 14.324 L1406.61 14.324 Z\" fill=\"#000000\" fill-rule=\"evenodd\" fill-opacity=\"1\" /><path clip-path=\"url(#clip880)\" d=\"M1449.34 32.4315 Q1443.35 32.4315 1439.86 37.1306 Q1436.38 41.7891 1436.38 49.9314 Q1436.38 58.0738 1439.82 62.7728 Q1443.31 67.4314 1449.34 67.4314 Q1455.3 67.4314 1458.78 62.7323 Q1462.27 58.0333 1462.27 49.9314 Q1462.27 41.8701 1458.78 37.1711 Q1455.3 32.4315 1449.34 32.4315 M1449.34 26.1121 Q1459.06 26.1121 1464.61 32.4315 Q1470.16 38.7509 1470.16 49.9314 Q1470.16 61.0714 1464.61 67.4314 Q1459.06 73.7508 1449.34 73.7508 Q1439.58 73.7508 1434.03 67.4314 Q1428.52 61.0714 1428.52 49.9314 Q1428.52 38.7509 1434.03 32.4315 Q1439.58 26.1121 1449.34 26.1121 Z\" fill=\"#000000\" fill-rule=\"evenodd\" fill-opacity=\"1\" /><path clip-path=\"url(#clip880)\" d=\"M1508.81 34.1734 Q1507.55 33.4443 1506.06 33.1202 Q1504.6 32.7556 1502.81 32.7556 Q1496.5 32.7556 1493.09 36.8875 Q1489.73 40.9789 1489.73 48.6757 L1489.73 72.576 L1482.24 72.576 L1482.24 27.2059 L1489.73 27.2059 L1489.73 34.2544 Q1492.08 30.1225 1495.85 28.1376 Q1499.61 26.1121 1505 26.1121 Q1505.77 26.1121 1506.7 26.2337 Q1507.64 26.3147 1508.77 26.5172 L1508.81 34.1734 Z\" fill=\"#000000\" fill-rule=\"evenodd\" fill-opacity=\"1\" /><path clip-path=\"url(#clip880)\" d=\"M1535.51 76.7889 Q1532.35 84.8907 1529.35 87.3618 Q1526.35 89.8329 1521.33 89.8329 L1515.37 89.8329 L1515.37 83.5945 L1519.75 83.5945 Q1522.83 83.5945 1524.53 82.1361 Q1526.23 80.6778 1528.29 75.2496 L1529.63 71.8468 L1511.28 27.2059 L1519.18 27.2059 L1533.36 62.6918 L1547.54 27.2059 L1555.44 27.2059 L1535.51 76.7889 Z\" fill=\"#000000\" fill-rule=\"evenodd\" fill-opacity=\"1\" /><polyline clip-path=\"url(#clip882)\" style=\"stroke:#009af9; stroke-linecap:round; stroke-linejoin:round; stroke-width:4; stroke-opacity:1; fill:none\" points=\"292.4,1238.52 315.131,1226.87 337.862,1215.91 360.593,1205.62 383.325,1195.98 406.056,1186.97 428.787,1178.58 451.518,1170.79 474.249,1163.58 496.981,1156.92 519.712,1150.81 542.443,1145.21 565.174,1140.1 587.905,1135.47 610.637,1131.3 633.368,1127.57 656.099,1124.24 678.83,1121.32 701.561,1118.77 724.293,1116.58 747.024,1114.72 769.755,1113.19 792.486,1111.95 815.217,1111 837.949,1110.32 860.68,1109.89 883.411,1109.7 906.142,1109.73 928.873,1109.96 951.605,1110.38 974.336,1110.98 997.067,1111.75 1019.8,1112.67 1042.53,1113.72 1065.26,1114.91 1087.99,1116.21 1110.72,1117.63 1133.45,1119.14 1156.19,1120.74 1178.92,1122.41 1201.65,1124.16 1224.38,1125.98 1247.11,1127.85 1269.84,1129.76 1292.57,1131.73 1315.3,1133.72 1338.04,1135.75 1360.77,1137.81 1383.5,1139.88 1406.23,1141.98 1428.96,1144.08 1451.69,1146.19 1474.42,1148.31 1497.15,1150.43 1519.88,1152.55 1542.62,1154.66 1565.35,1156.77 1588.08,1158.86 1610.81,1160.95 1633.54,1163.02 1656.27,1165.08 1679,1167.13 1701.73,1169.15 1724.47,1171.16 1747.2,1173.15 1769.93,1175.12 1792.66,1177.07 1815.39,1179.01 1838.12,1180.91 1860.85,1182.8 1883.58,1184.67 1906.32,1186.52 1929.05,1188.34 1951.78,1190.14 1974.51,1191.93 1997.24,1193.69 2019.97,1195.43 2042.7,1197.15 2065.43,1198.85 2088.16,1200.53 2110.9,1202.19 2133.63,1203.84 2156.36,1205.47 2179.09,1207.07 2201.82,1208.67 2224.55,1210.24 2247.28,1211.8 2270.01,1213.35 2292.75,1214.88 \"/>\n",
       "<polyline clip-path=\"url(#clip882)\" style=\"stroke:#e26f46; stroke-linecap:round; stroke-linejoin:round; stroke-width:4; stroke-opacity:1; fill:none\" points=\"292.4,1386.4 315.131,1384.2 337.862,1382.01 360.593,1379.81 383.325,1377.62 406.056,1375.43 428.787,1373.24 451.518,1371.05 474.249,1368.87 496.981,1366.68 519.712,1364.49 542.443,1362.31 565.174,1360.12 587.905,1357.94 610.637,1355.76 633.368,1353.58 656.099,1351.4 678.83,1349.22 701.561,1347.04 724.293,1344.87 747.024,1342.69 769.755,1340.52 792.486,1338.34 815.217,1336.17 837.949,1334 860.68,1331.83 883.411,1329.66 906.142,1327.5 928.873,1325.33 951.605,1323.16 974.336,1321 997.067,1318.83 1019.8,1316.67 1042.53,1314.51 1065.26,1312.35 1087.99,1310.19 1110.72,1308.03 1133.45,1305.88 1156.19,1303.72 1178.92,1301.56 1201.65,1299.41 1224.38,1297.26 1247.11,1295.1 1269.84,1292.95 1292.57,1290.8 1315.3,1288.65 1338.04,1286.5 1360.77,1284.35 1383.5,1282.21 1406.23,1280.06 1428.96,1277.92 1451.69,1275.77 1474.42,1273.63 1497.15,1271.49 1519.88,1269.34 1542.62,1267.2 1565.35,1265.06 1588.08,1262.92 1610.81,1260.78 1633.54,1258.64 1656.27,1256.51 1679,1254.37 1701.73,1252.23 1724.47,1250.1 1747.2,1247.96 1769.93,1245.83 1792.66,1243.69 1815.39,1241.56 1838.12,1239.43 1860.85,1237.3 1883.58,1235.16 1906.32,1233.03 1929.05,1230.9 1951.78,1228.77 1974.51,1226.64 1997.24,1224.51 2019.97,1222.38 2042.7,1220.25 2065.43,1218.13 2088.16,1216 2110.9,1213.87 2133.63,1211.74 2156.36,1209.61 2179.09,1207.49 2201.82,1205.36 2224.55,1203.23 2247.28,1201.11 2270.01,1198.98 2292.75,1196.86 \"/>\n",
       "<polyline clip-path=\"url(#clip882)\" style=\"stroke:#3da44d; stroke-linecap:round; stroke-linejoin:round; stroke-width:4; stroke-opacity:1; fill:none\" points=\"292.4,422.108 315.131,407.624 337.862,393.831 360.593,380.712 383.325,368.25 406.056,356.428 428.787,345.227 451.518,334.627 474.249,324.608 496.981,315.152 519.712,306.237 542.443,297.843 565.174,289.95 587.905,282.536 610.637,275.582 633.368,269.066 656.099,262.97 678.83,257.273 701.561,251.955 724.293,246.998 747.024,242.382 769.755,238.089 792.486,234.102 815.217,230.402 837.949,226.974 860.68,223.8 883.411,220.865 906.142,218.153 928.873,215.65 951.605,213.341 974.336,211.213 997.067,209.252 1019.8,207.446 1042.53,205.784 1065.26,204.253 1087.99,202.842 1110.72,201.542 1133.45,200.343 1156.19,199.234 1178.92,198.208 1201.65,197.256 1224.38,196.37 1247.11,195.542 1269.84,194.766 1292.57,194.035 1315.3,193.343 1338.04,192.685 1360.77,192.054 1383.5,191.446 1406.23,190.857 1428.96,190.281 1451.69,189.716 1474.42,189.158 1497.15,188.603 1519.88,188.048 1542.62,187.491 1565.35,186.928 1588.08,186.358 1610.81,185.779 1633.54,185.189 1656.27,184.586 1679,183.969 1701.73,183.337 1724.47,182.688 1747.2,182.021 1769.93,181.337 1792.66,180.633 1815.39,179.911 1838.12,179.168 1860.85,178.405 1883.58,177.622 1906.32,176.819 1929.05,175.996 1951.78,175.152 1974.51,174.288 1997.24,173.404 2019.97,172.5 2042.7,171.577 2065.43,170.635 2088.16,169.674 2110.9,168.694 2133.63,167.697 2156.36,166.682 2179.09,165.651 2201.82,164.602 2224.55,163.538 2247.28,162.459 2270.01,161.365 2292.75,160.256 \"/>\n",
       "<path clip-path=\"url(#clip880)\" d=\"M303.068 374.156 L557.72 374.156 L557.72 166.796 L303.068 166.796  Z\" fill=\"#ffffff\" fill-rule=\"evenodd\" fill-opacity=\"1\"/>\n",
       "<polyline clip-path=\"url(#clip880)\" style=\"stroke:#000000; stroke-linecap:round; stroke-linejoin:round; stroke-width:4; stroke-opacity:1; fill:none\" points=\"303.068,374.156 557.72,374.156 557.72,166.796 303.068,166.796 303.068,374.156 \"/>\n",
       "<polyline clip-path=\"url(#clip880)\" style=\"stroke:#009af9; stroke-linecap:round; stroke-linejoin:round; stroke-width:4; stroke-opacity:1; fill:none\" points=\"326.628,218.636 467.986,218.636 \"/>\n",
       "<path clip-path=\"url(#clip880)\" d=\"M491.545 225.684 L491.545 209.99 L495.804 209.99 L495.804 225.522 Q495.804 229.203 497.24 231.055 Q498.675 232.883 501.545 232.883 Q504.994 232.883 506.985 230.684 Q508.999 228.485 508.999 224.689 L508.999 209.99 L513.258 209.99 L513.258 235.916 L508.999 235.916 L508.999 231.934 Q507.448 234.295 505.388 235.453 Q503.351 236.587 500.642 236.587 Q496.175 236.587 493.86 233.809 Q491.545 231.031 491.545 225.684 M502.263 209.365 L502.263 209.365 Z\" fill=\"#000000\" fill-rule=\"evenodd\" fill-opacity=\"1\" /><path clip-path=\"url(#clip880)\" d=\"M521.175 233.369 L525.897 233.369 L525.897 219.226 L520.735 220.175 L520.735 217.49 L526.059 216.587 L529.23 216.587 L529.23 233.369 L533.976 233.369 L533.976 235.916 L521.175 235.916 L521.175 233.369 Z\" fill=\"#000000\" fill-rule=\"evenodd\" fill-opacity=\"1\" /><polyline clip-path=\"url(#clip880)\" style=\"stroke:#e26f46; stroke-linecap:round; stroke-linejoin:round; stroke-width:4; stroke-opacity:1; fill:none\" points=\"326.628,270.476 467.986,270.476 \"/>\n",
       "<path clip-path=\"url(#clip880)\" d=\"M491.545 277.524 L491.545 261.83 L495.804 261.83 L495.804 277.362 Q495.804 281.043 497.24 282.895 Q498.675 284.723 501.545 284.723 Q504.994 284.723 506.985 282.524 Q508.999 280.325 508.999 276.529 L508.999 261.83 L513.258 261.83 L513.258 287.756 L508.999 287.756 L508.999 283.774 Q507.448 286.135 505.388 287.293 Q503.351 288.427 500.642 288.427 Q496.175 288.427 493.86 285.649 Q491.545 282.871 491.545 277.524 M502.263 261.205 L502.263 261.205 Z\" fill=\"#000000\" fill-rule=\"evenodd\" fill-opacity=\"1\" /><path clip-path=\"url(#clip880)\" d=\"M523.767 285.117 L533.582 285.117 L533.582 287.756 L519.74 287.756 L519.74 285.209 Q520.527 284.492 521.985 283.196 Q529.948 276.135 529.948 273.959 Q529.948 272.432 528.744 271.506 Q527.54 270.557 525.573 270.557 Q524.369 270.557 522.957 270.973 Q521.545 271.367 519.878 272.177 L519.878 269.33 Q521.661 268.682 523.189 268.358 Q524.74 268.034 526.059 268.034 Q529.415 268.034 531.429 269.561 Q533.443 271.089 533.443 273.589 Q533.443 276.807 525.781 283.381 Q524.485 284.492 523.767 285.117 Z\" fill=\"#000000\" fill-rule=\"evenodd\" fill-opacity=\"1\" /><polyline clip-path=\"url(#clip880)\" style=\"stroke:#3da44d; stroke-linecap:round; stroke-linejoin:round; stroke-width:4; stroke-opacity:1; fill:none\" points=\"326.628,322.316 467.986,322.316 \"/>\n",
       "<path clip-path=\"url(#clip880)\" d=\"M491.545 329.364 L491.545 313.67 L495.804 313.67 L495.804 329.202 Q495.804 332.883 497.24 334.735 Q498.675 336.563 501.545 336.563 Q504.994 336.563 506.985 334.364 Q508.999 332.165 508.999 328.369 L508.999 313.67 L513.258 313.67 L513.258 339.596 L508.999 339.596 L508.999 335.614 Q507.448 337.975 505.388 339.133 Q503.351 340.267 500.642 340.267 Q496.175 340.267 493.86 337.489 Q491.545 334.711 491.545 329.364 M502.263 313.045 L502.263 313.045 Z\" fill=\"#000000\" fill-rule=\"evenodd\" fill-opacity=\"1\" /><path clip-path=\"url(#clip880)\" d=\"M529.693 329.133 Q531.823 329.549 532.98 330.823 Q534.161 332.073 534.161 333.971 Q534.161 336.841 531.962 338.392 Q529.763 339.943 525.665 339.943 Q524.346 339.943 522.888 339.688 Q521.453 339.457 519.832 338.994 L519.832 336.193 Q521.036 336.818 522.402 337.119 Q523.79 337.42 525.341 337.42 Q527.865 337.42 529.253 336.517 Q530.642 335.591 530.642 333.971 Q530.642 332.258 529.346 331.378 Q528.073 330.499 525.573 330.499 L523.582 330.499 L523.582 327.999 L525.758 327.999 Q527.934 327.999 529.045 327.281 Q530.179 326.54 530.179 325.151 Q530.179 323.809 529.022 323.114 Q527.865 322.397 525.665 322.397 Q524.74 322.397 523.559 322.605 Q522.378 322.813 520.503 323.346 L520.503 320.684 Q522.193 320.29 523.675 320.082 Q525.156 319.874 526.429 319.874 Q529.763 319.874 531.707 321.239 Q533.675 322.605 533.675 324.897 Q533.675 326.494 532.633 327.605 Q531.591 328.716 529.693 329.133 Z\" fill=\"#000000\" fill-rule=\"evenodd\" fill-opacity=\"1\" /></svg>\n"
      ]
     },
     "metadata": {},
     "output_type": "display_data"
    },
    {
     "data": {
      "image/svg+xml": [
       "<?xml version=\"1.0\" encoding=\"utf-8\"?>\n",
       "<svg xmlns=\"http://www.w3.org/2000/svg\" xmlns:xlink=\"http://www.w3.org/1999/xlink\" width=\"600\" height=\"400\" viewBox=\"0 0 2400 1600\">\n",
       "<defs>\n",
       "  <clipPath id=\"clip920\">\n",
       "    <rect x=\"0\" y=\"0\" width=\"2400\" height=\"1600\"/>\n",
       "  </clipPath>\n",
       "</defs>\n",
       "<path clip-path=\"url(#clip920)\" d=\"M0 1600 L2400 1600 L2400 0 L0 0  Z\" fill=\"#ffffff\" fill-rule=\"evenodd\" fill-opacity=\"1\"/>\n",
       "<defs>\n",
       "  <clipPath id=\"clip921\">\n",
       "    <rect x=\"480\" y=\"0\" width=\"1681\" height=\"1600\"/>\n",
       "  </clipPath>\n",
       "</defs>\n",
       "<path clip-path=\"url(#clip920)\" d=\"M210.977 1423.18 L2352.76 1423.18 L2352.76 123.472 L210.977 123.472  Z\" fill=\"#ffffff\" fill-rule=\"evenodd\" fill-opacity=\"1\"/>\n",
       "<defs>\n",
       "  <clipPath id=\"clip922\">\n",
       "    <rect x=\"210\" y=\"123\" width=\"2143\" height=\"1301\"/>\n",
       "  </clipPath>\n",
       "</defs>\n",
       "<polyline clip-path=\"url(#clip922)\" style=\"stroke:#000000; stroke-linecap:round; stroke-linejoin:round; stroke-width:2; stroke-opacity:0.1; fill:none\" points=\"271.594,1423.18 271.594,123.472 \"/>\n",
       "<polyline clip-path=\"url(#clip922)\" style=\"stroke:#000000; stroke-linecap:round; stroke-linejoin:round; stroke-width:2; stroke-opacity:0.1; fill:none\" points=\"720.604,1423.18 720.604,123.472 \"/>\n",
       "<polyline clip-path=\"url(#clip922)\" style=\"stroke:#000000; stroke-linecap:round; stroke-linejoin:round; stroke-width:2; stroke-opacity:0.1; fill:none\" points=\"1169.61,1423.18 1169.61,123.472 \"/>\n",
       "<polyline clip-path=\"url(#clip922)\" style=\"stroke:#000000; stroke-linecap:round; stroke-linejoin:round; stroke-width:2; stroke-opacity:0.1; fill:none\" points=\"1618.62,1423.18 1618.62,123.472 \"/>\n",
       "<polyline clip-path=\"url(#clip922)\" style=\"stroke:#000000; stroke-linecap:round; stroke-linejoin:round; stroke-width:2; stroke-opacity:0.1; fill:none\" points=\"2067.63,1423.18 2067.63,123.472 \"/>\n",
       "<polyline clip-path=\"url(#clip920)\" style=\"stroke:#000000; stroke-linecap:round; stroke-linejoin:round; stroke-width:4; stroke-opacity:1; fill:none\" points=\"210.977,1423.18 2352.76,1423.18 \"/>\n",
       "<polyline clip-path=\"url(#clip920)\" style=\"stroke:#000000; stroke-linecap:round; stroke-linejoin:round; stroke-width:4; stroke-opacity:1; fill:none\" points=\"271.594,1423.18 271.594,1404.28 \"/>\n",
       "<polyline clip-path=\"url(#clip920)\" style=\"stroke:#000000; stroke-linecap:round; stroke-linejoin:round; stroke-width:4; stroke-opacity:1; fill:none\" points=\"720.604,1423.18 720.604,1404.28 \"/>\n",
       "<polyline clip-path=\"url(#clip920)\" style=\"stroke:#000000; stroke-linecap:round; stroke-linejoin:round; stroke-width:4; stroke-opacity:1; fill:none\" points=\"1169.61,1423.18 1169.61,1404.28 \"/>\n",
       "<polyline clip-path=\"url(#clip920)\" style=\"stroke:#000000; stroke-linecap:round; stroke-linejoin:round; stroke-width:4; stroke-opacity:1; fill:none\" points=\"1618.62,1423.18 1618.62,1404.28 \"/>\n",
       "<polyline clip-path=\"url(#clip920)\" style=\"stroke:#000000; stroke-linecap:round; stroke-linejoin:round; stroke-width:4; stroke-opacity:1; fill:none\" points=\"2067.63,1423.18 2067.63,1404.28 \"/>\n",
       "<path clip-path=\"url(#clip920)\" d=\"M271.594 1454.1 Q267.983 1454.1 266.154 1457.66 Q264.348 1461.2 264.348 1468.33 Q264.348 1475.44 266.154 1479.01 Q267.983 1482.55 271.594 1482.55 Q275.228 1482.55 277.034 1479.01 Q278.862 1475.44 278.862 1468.33 Q278.862 1461.2 277.034 1457.66 Q275.228 1454.1 271.594 1454.1 M271.594 1450.39 Q277.404 1450.39 280.459 1455 Q283.538 1459.58 283.538 1468.33 Q283.538 1477.06 280.459 1481.67 Q277.404 1486.25 271.594 1486.25 Q265.784 1486.25 262.705 1481.67 Q259.649 1477.06 259.649 1468.33 Q259.649 1459.58 262.705 1455 Q265.784 1450.39 271.594 1450.39 Z\" fill=\"#000000\" fill-rule=\"evenodd\" fill-opacity=\"1\" /><path clip-path=\"url(#clip920)\" d=\"M715.257 1481.64 L731.576 1481.64 L731.576 1485.58 L709.632 1485.58 L709.632 1481.64 Q712.294 1478.89 716.877 1474.26 Q721.484 1469.61 722.664 1468.27 Q724.909 1465.74 725.789 1464.01 Q726.692 1462.25 726.692 1460.56 Q726.692 1457.8 724.747 1456.07 Q722.826 1454.33 719.724 1454.33 Q717.525 1454.33 715.072 1455.09 Q712.641 1455.86 709.863 1457.41 L709.863 1452.69 Q712.687 1451.55 715.141 1450.97 Q717.595 1450.39 719.632 1450.39 Q725.002 1450.39 728.197 1453.08 Q731.391 1455.77 731.391 1460.26 Q731.391 1462.39 730.581 1464.31 Q729.794 1466.2 727.687 1468.8 Q727.109 1469.47 724.007 1472.69 Q720.905 1475.88 715.257 1481.64 Z\" fill=\"#000000\" fill-rule=\"evenodd\" fill-opacity=\"1\" /><path clip-path=\"url(#clip920)\" d=\"M1172.62 1455.09 L1160.82 1473.54 L1172.62 1473.54 L1172.62 1455.09 M1171.4 1451.02 L1177.28 1451.02 L1177.28 1473.54 L1182.21 1473.54 L1182.21 1477.43 L1177.28 1477.43 L1177.28 1485.58 L1172.62 1485.58 L1172.62 1477.43 L1157.02 1477.43 L1157.02 1472.92 L1171.4 1451.02 Z\" fill=\"#000000\" fill-rule=\"evenodd\" fill-opacity=\"1\" /><path clip-path=\"url(#clip920)\" d=\"M1619.03 1466.44 Q1615.88 1466.44 1614.03 1468.59 Q1612.2 1470.74 1612.2 1474.49 Q1612.2 1478.22 1614.03 1480.39 Q1615.88 1482.55 1619.03 1482.55 Q1622.18 1482.55 1624.01 1480.39 Q1625.86 1478.22 1625.86 1474.49 Q1625.86 1470.74 1624.01 1468.59 Q1622.18 1466.44 1619.03 1466.44 M1628.31 1451.78 L1628.31 1456.04 Q1626.55 1455.21 1624.75 1454.77 Q1622.96 1454.33 1621.21 1454.33 Q1616.58 1454.33 1614.12 1457.45 Q1611.69 1460.58 1611.34 1466.9 Q1612.71 1464.89 1614.77 1463.82 Q1616.83 1462.73 1619.31 1462.73 Q1624.52 1462.73 1627.52 1465.9 Q1630.56 1469.05 1630.56 1474.49 Q1630.56 1479.82 1627.41 1483.03 Q1624.26 1486.25 1619.03 1486.25 Q1613.03 1486.25 1609.86 1481.67 Q1606.69 1477.06 1606.69 1468.33 Q1606.69 1460.14 1610.58 1455.28 Q1614.47 1450.39 1621.02 1450.39 Q1622.78 1450.39 1624.56 1450.74 Q1626.37 1451.09 1628.31 1451.78 Z\" fill=\"#000000\" fill-rule=\"evenodd\" fill-opacity=\"1\" /><path clip-path=\"url(#clip920)\" d=\"M2067.63 1469.17 Q2064.3 1469.17 2062.38 1470.95 Q2060.48 1472.73 2060.48 1475.86 Q2060.48 1478.98 2062.38 1480.77 Q2064.3 1482.55 2067.63 1482.55 Q2070.97 1482.55 2072.89 1480.77 Q2074.81 1478.96 2074.81 1475.86 Q2074.81 1472.73 2072.89 1470.95 Q2070.99 1469.17 2067.63 1469.17 M2062.96 1467.18 Q2059.95 1466.44 2058.26 1464.38 Q2056.59 1462.32 2056.59 1459.35 Q2056.59 1455.21 2059.53 1452.8 Q2062.5 1450.39 2067.63 1450.39 Q2072.8 1450.39 2075.74 1452.8 Q2078.68 1455.21 2078.68 1459.35 Q2078.68 1462.32 2076.99 1464.38 Q2075.32 1466.44 2072.33 1467.18 Q2075.71 1467.96 2077.59 1470.26 Q2079.49 1472.55 2079.49 1475.86 Q2079.49 1480.88 2076.41 1483.57 Q2073.35 1486.25 2067.63 1486.25 Q2061.92 1486.25 2058.84 1483.57 Q2055.78 1480.88 2055.78 1475.86 Q2055.78 1472.55 2057.68 1470.26 Q2059.58 1467.96 2062.96 1467.18 M2061.25 1459.79 Q2061.25 1462.48 2062.91 1463.98 Q2064.6 1465.49 2067.63 1465.49 Q2070.64 1465.49 2072.33 1463.98 Q2074.05 1462.48 2074.05 1459.79 Q2074.05 1457.11 2072.33 1455.6 Q2070.64 1454.1 2067.63 1454.1 Q2064.6 1454.1 2062.91 1455.6 Q2061.25 1457.11 2061.25 1459.79 Z\" fill=\"#000000\" fill-rule=\"evenodd\" fill-opacity=\"1\" /><path clip-path=\"url(#clip920)\" d=\"M1169.32 1522.27 L1169.32 1532.4 L1181.38 1532.4 L1181.38 1536.95 L1169.32 1536.95 L1169.32 1556.3 Q1169.32 1560.66 1170.5 1561.9 Q1171.71 1563.14 1175.37 1563.14 L1181.38 1563.14 L1181.38 1568.04 L1175.37 1568.04 Q1168.59 1568.04 1166.01 1565.53 Q1163.43 1562.98 1163.43 1556.3 L1163.43 1536.95 L1159.14 1536.95 L1159.14 1532.4 L1163.43 1532.4 L1163.43 1522.27 L1169.32 1522.27 Z\" fill=\"#000000\" fill-rule=\"evenodd\" fill-opacity=\"1\" /><path clip-path=\"url(#clip920)\" d=\"M1189.09 1532.4 L1194.94 1532.4 L1194.94 1568.04 L1189.09 1568.04 L1189.09 1532.4 M1189.09 1518.52 L1194.94 1518.52 L1194.94 1525.93 L1189.09 1525.93 L1189.09 1518.52 Z\" fill=\"#000000\" fill-rule=\"evenodd\" fill-opacity=\"1\" /><path clip-path=\"url(#clip920)\" d=\"M1234.95 1539.24 Q1237.15 1535.29 1240.2 1533.41 Q1243.26 1531.54 1247.4 1531.54 Q1252.97 1531.54 1255.99 1535.45 Q1259.01 1539.33 1259.01 1546.53 L1259.01 1568.04 L1253.13 1568.04 L1253.13 1546.72 Q1253.13 1541.59 1251.31 1539.11 Q1249.5 1536.63 1245.77 1536.63 Q1241.22 1536.63 1238.58 1539.65 Q1235.94 1542.68 1235.94 1547.9 L1235.94 1568.04 L1230.05 1568.04 L1230.05 1546.72 Q1230.05 1541.56 1228.24 1539.11 Q1226.42 1536.63 1222.63 1536.63 Q1218.15 1536.63 1215.5 1539.68 Q1212.86 1542.71 1212.86 1547.9 L1212.86 1568.04 L1206.97 1568.04 L1206.97 1532.4 L1212.86 1532.4 L1212.86 1537.93 Q1214.87 1534.66 1217.67 1533.1 Q1220.47 1531.54 1224.32 1531.54 Q1228.2 1531.54 1230.91 1533.51 Q1233.65 1535.48 1234.95 1539.24 Z\" fill=\"#000000\" fill-rule=\"evenodd\" fill-opacity=\"1\" /><path clip-path=\"url(#clip920)\" d=\"M1301.19 1548.76 L1301.19 1551.62 L1274.26 1551.62 Q1274.64 1557.67 1277.89 1560.85 Q1281.17 1564 1286.99 1564 Q1290.36 1564 1293.52 1563.17 Q1296.7 1562.35 1299.82 1560.69 L1299.82 1566.23 Q1296.67 1567.57 1293.36 1568.27 Q1290.05 1568.97 1286.64 1568.97 Q1278.11 1568.97 1273.11 1564 Q1268.15 1559.04 1268.15 1550.57 Q1268.15 1541.82 1272.86 1536.69 Q1277.6 1531.54 1285.62 1531.54 Q1292.82 1531.54 1296.99 1536.18 Q1301.19 1540.8 1301.19 1548.76 M1295.33 1547.04 Q1295.27 1542.23 1292.62 1539.37 Q1290.01 1536.5 1285.69 1536.5 Q1280.78 1536.5 1277.82 1539.27 Q1274.9 1542.04 1274.45 1547.07 L1295.33 1547.04 Z\" fill=\"#000000\" fill-rule=\"evenodd\" fill-opacity=\"1\" /><path clip-path=\"url(#clip920)\" d=\"M1345.59 1518.58 Q1341.32 1525.9 1339.25 1533.06 Q1337.18 1540.23 1337.18 1547.58 Q1337.18 1554.93 1339.25 1562.16 Q1341.35 1569.35 1345.59 1576.64 L1340.49 1576.64 Q1335.72 1569.16 1333.33 1561.93 Q1330.98 1554.71 1330.98 1547.58 Q1330.98 1540.48 1333.33 1533.29 Q1335.69 1526.09 1340.49 1518.58 L1345.59 1518.58 Z\" fill=\"#000000\" fill-rule=\"evenodd\" fill-opacity=\"1\" /><path clip-path=\"url(#clip920)\" d=\"M1379.68 1533.45 L1379.68 1538.98 Q1377.19 1537.71 1374.52 1537.07 Q1371.85 1536.44 1368.98 1536.44 Q1364.62 1536.44 1362.42 1537.77 Q1360.26 1539.11 1360.26 1541.79 Q1360.26 1543.82 1361.82 1545 Q1363.38 1546.15 1368.09 1547.2 L1370.1 1547.64 Q1376.33 1548.98 1378.94 1551.43 Q1381.59 1553.85 1381.59 1558.21 Q1381.59 1563.17 1377.64 1566.07 Q1373.72 1568.97 1366.85 1568.97 Q1363.98 1568.97 1360.87 1568.39 Q1357.78 1567.85 1354.34 1566.74 L1354.34 1560.69 Q1357.59 1562.38 1360.74 1563.24 Q1363.89 1564.07 1366.98 1564.07 Q1371.11 1564.07 1373.34 1562.66 Q1375.57 1561.23 1375.57 1558.65 Q1375.57 1556.27 1373.95 1554.99 Q1372.36 1553.72 1366.91 1552.54 L1364.88 1552.07 Q1359.43 1550.92 1357.01 1548.56 Q1354.59 1546.18 1354.59 1542.04 Q1354.59 1537.01 1358.16 1534.27 Q1361.72 1531.54 1368.28 1531.54 Q1371.53 1531.54 1374.39 1532.01 Q1377.26 1532.49 1379.68 1533.45 Z\" fill=\"#000000\" fill-rule=\"evenodd\" fill-opacity=\"1\" /><path clip-path=\"url(#clip920)\" d=\"M1389.99 1518.58 L1395.08 1518.58 Q1399.86 1526.09 1402.21 1533.29 Q1404.6 1540.48 1404.6 1547.58 Q1404.6 1554.71 1402.21 1561.93 Q1399.86 1569.16 1395.08 1576.64 L1389.99 1576.64 Q1394.22 1569.35 1396.29 1562.16 Q1398.39 1554.93 1398.39 1547.58 Q1398.39 1540.23 1396.29 1533.06 Q1394.22 1525.9 1389.99 1518.58 Z\" fill=\"#000000\" fill-rule=\"evenodd\" fill-opacity=\"1\" /><polyline clip-path=\"url(#clip922)\" style=\"stroke:#000000; stroke-linecap:round; stroke-linejoin:round; stroke-width:2; stroke-opacity:0.1; fill:none\" points=\"210.977,1364.56 2352.76,1364.56 \"/>\n",
       "<polyline clip-path=\"url(#clip922)\" style=\"stroke:#000000; stroke-linecap:round; stroke-linejoin:round; stroke-width:2; stroke-opacity:0.1; fill:none\" points=\"210.977,1132.96 2352.76,1132.96 \"/>\n",
       "<polyline clip-path=\"url(#clip922)\" style=\"stroke:#000000; stroke-linecap:round; stroke-linejoin:round; stroke-width:2; stroke-opacity:0.1; fill:none\" points=\"210.977,901.367 2352.76,901.367 \"/>\n",
       "<polyline clip-path=\"url(#clip922)\" style=\"stroke:#000000; stroke-linecap:round; stroke-linejoin:round; stroke-width:2; stroke-opacity:0.1; fill:none\" points=\"210.977,669.77 2352.76,669.77 \"/>\n",
       "<polyline clip-path=\"url(#clip922)\" style=\"stroke:#000000; stroke-linecap:round; stroke-linejoin:round; stroke-width:2; stroke-opacity:0.1; fill:none\" points=\"210.977,438.173 2352.76,438.173 \"/>\n",
       "<polyline clip-path=\"url(#clip922)\" style=\"stroke:#000000; stroke-linecap:round; stroke-linejoin:round; stroke-width:2; stroke-opacity:0.1; fill:none\" points=\"210.977,206.576 2352.76,206.576 \"/>\n",
       "<polyline clip-path=\"url(#clip920)\" style=\"stroke:#000000; stroke-linecap:round; stroke-linejoin:round; stroke-width:4; stroke-opacity:1; fill:none\" points=\"210.977,1423.18 210.977,123.472 \"/>\n",
       "<polyline clip-path=\"url(#clip920)\" style=\"stroke:#000000; stroke-linecap:round; stroke-linejoin:round; stroke-width:4; stroke-opacity:1; fill:none\" points=\"210.977,1364.56 229.875,1364.56 \"/>\n",
       "<polyline clip-path=\"url(#clip920)\" style=\"stroke:#000000; stroke-linecap:round; stroke-linejoin:round; stroke-width:4; stroke-opacity:1; fill:none\" points=\"210.977,1132.96 229.875,1132.96 \"/>\n",
       "<polyline clip-path=\"url(#clip920)\" style=\"stroke:#000000; stroke-linecap:round; stroke-linejoin:round; stroke-width:4; stroke-opacity:1; fill:none\" points=\"210.977,901.367 229.875,901.367 \"/>\n",
       "<polyline clip-path=\"url(#clip920)\" style=\"stroke:#000000; stroke-linecap:round; stroke-linejoin:round; stroke-width:4; stroke-opacity:1; fill:none\" points=\"210.977,669.77 229.875,669.77 \"/>\n",
       "<polyline clip-path=\"url(#clip920)\" style=\"stroke:#000000; stroke-linecap:round; stroke-linejoin:round; stroke-width:4; stroke-opacity:1; fill:none\" points=\"210.977,438.173 229.875,438.173 \"/>\n",
       "<polyline clip-path=\"url(#clip920)\" style=\"stroke:#000000; stroke-linecap:round; stroke-linejoin:round; stroke-width:4; stroke-opacity:1; fill:none\" points=\"210.977,206.576 229.875,206.576 \"/>\n",
       "<path clip-path=\"url(#clip920)\" d=\"M114.26 1365.01 L143.936 1365.01 L143.936 1368.95 L114.26 1368.95 L114.26 1365.01 Z\" fill=\"#000000\" fill-rule=\"evenodd\" fill-opacity=\"1\" /><path clip-path=\"url(#clip920)\" d=\"M154.075 1347.28 L172.431 1347.28 L172.431 1351.22 L158.357 1351.22 L158.357 1359.69 Q159.376 1359.34 160.394 1359.18 Q161.413 1358.99 162.431 1358.99 Q168.218 1358.99 171.598 1362.17 Q174.977 1365.34 174.977 1370.75 Q174.977 1376.33 171.505 1379.43 Q168.033 1382.51 161.714 1382.51 Q159.538 1382.51 157.269 1382.14 Q155.024 1381.77 152.616 1381.03 L152.616 1376.33 Q154.7 1377.47 156.922 1378.02 Q159.144 1378.58 161.621 1378.58 Q165.626 1378.58 167.964 1376.47 Q170.302 1374.36 170.302 1370.75 Q170.302 1367.14 167.964 1365.04 Q165.626 1362.93 161.621 1362.93 Q159.746 1362.93 157.871 1363.35 Q156.019 1363.76 154.075 1364.64 L154.075 1347.28 Z\" fill=\"#000000\" fill-rule=\"evenodd\" fill-opacity=\"1\" /><path clip-path=\"url(#clip920)\" d=\"M163.033 1118.76 Q159.422 1118.76 157.593 1122.33 Q155.788 1125.87 155.788 1133 Q155.788 1140.11 157.593 1143.67 Q159.422 1147.21 163.033 1147.21 Q166.667 1147.21 168.473 1143.67 Q170.302 1140.11 170.302 1133 Q170.302 1125.87 168.473 1122.33 Q166.667 1118.76 163.033 1118.76 M163.033 1115.06 Q168.843 1115.06 171.899 1119.67 Q174.977 1124.25 174.977 1133 Q174.977 1141.73 171.899 1146.33 Q168.843 1150.92 163.033 1150.92 Q157.223 1150.92 154.144 1146.33 Q151.089 1141.73 151.089 1133 Q151.089 1124.25 154.144 1119.67 Q157.223 1115.06 163.033 1115.06 Z\" fill=\"#000000\" fill-rule=\"evenodd\" fill-opacity=\"1\" /><path clip-path=\"url(#clip920)\" d=\"M154.075 884.087 L172.431 884.087 L172.431 888.022 L158.357 888.022 L158.357 896.494 Q159.376 896.147 160.394 895.985 Q161.413 895.8 162.431 895.8 Q168.218 895.8 171.598 898.971 Q174.977 902.142 174.977 907.559 Q174.977 913.138 171.505 916.24 Q168.033 919.318 161.714 919.318 Q159.538 919.318 157.269 918.948 Q155.024 918.578 152.616 917.837 L152.616 913.138 Q154.7 914.272 156.922 914.828 Q159.144 915.383 161.621 915.383 Q165.626 915.383 167.964 913.277 Q170.302 911.17 170.302 907.559 Q170.302 903.948 167.964 901.842 Q165.626 899.735 161.621 899.735 Q159.746 899.735 157.871 900.152 Q156.019 900.568 154.075 901.448 L154.075 884.087 Z\" fill=\"#000000\" fill-rule=\"evenodd\" fill-opacity=\"1\" /><path clip-path=\"url(#clip920)\" d=\"M123.681 683.115 L131.32 683.115 L131.32 656.749 L123.01 658.416 L123.01 654.157 L131.274 652.49 L135.95 652.49 L135.95 683.115 L143.589 683.115 L143.589 687.05 L123.681 687.05 L123.681 683.115 Z\" fill=\"#000000\" fill-rule=\"evenodd\" fill-opacity=\"1\" /><path clip-path=\"url(#clip920)\" d=\"M163.033 655.569 Q159.422 655.569 157.593 659.133 Q155.788 662.675 155.788 669.805 Q155.788 676.911 157.593 680.476 Q159.422 684.018 163.033 684.018 Q166.667 684.018 168.473 680.476 Q170.302 676.911 170.302 669.805 Q170.302 662.675 168.473 659.133 Q166.667 655.569 163.033 655.569 M163.033 651.865 Q168.843 651.865 171.899 656.471 Q174.977 661.055 174.977 669.805 Q174.977 678.531 171.899 683.138 Q168.843 687.721 163.033 687.721 Q157.223 687.721 154.144 683.138 Q151.089 678.531 151.089 669.805 Q151.089 661.055 154.144 656.471 Q157.223 651.865 163.033 651.865 Z\" fill=\"#000000\" fill-rule=\"evenodd\" fill-opacity=\"1\" /><path clip-path=\"url(#clip920)\" d=\"M124.677 451.518 L132.316 451.518 L132.316 425.152 L124.005 426.819 L124.005 422.559 L132.269 420.893 L136.945 420.893 L136.945 451.518 L144.584 451.518 L144.584 455.453 L124.677 455.453 L124.677 451.518 Z\" fill=\"#000000\" fill-rule=\"evenodd\" fill-opacity=\"1\" /><path clip-path=\"url(#clip920)\" d=\"M154.075 420.893 L172.431 420.893 L172.431 424.828 L158.357 424.828 L158.357 433.3 Q159.376 432.953 160.394 432.791 Q161.413 432.606 162.431 432.606 Q168.218 432.606 171.598 435.777 Q174.977 438.948 174.977 444.365 Q174.977 449.944 171.505 453.045 Q168.033 456.124 161.714 456.124 Q159.538 456.124 157.269 455.754 Q155.024 455.383 152.616 454.643 L152.616 449.944 Q154.7 451.078 156.922 451.633 Q159.144 452.189 161.621 452.189 Q165.626 452.189 167.964 450.082 Q170.302 447.976 170.302 444.365 Q170.302 440.754 167.964 438.647 Q165.626 436.541 161.621 436.541 Q159.746 436.541 157.871 436.958 Q156.019 437.374 154.075 438.254 L154.075 420.893 Z\" fill=\"#000000\" fill-rule=\"evenodd\" fill-opacity=\"1\" /><path clip-path=\"url(#clip920)\" d=\"M126.899 219.921 L143.218 219.921 L143.218 223.856 L121.274 223.856 L121.274 219.921 Q123.936 217.166 128.519 212.536 Q133.126 207.884 134.306 206.541 Q136.552 204.018 137.431 202.282 Q138.334 200.523 138.334 198.833 Q138.334 196.078 136.39 194.342 Q134.468 192.606 131.367 192.606 Q129.167 192.606 126.714 193.37 Q124.283 194.134 121.505 195.685 L121.505 190.962 Q124.33 189.828 126.783 189.249 Q129.237 188.671 131.274 188.671 Q136.644 188.671 139.839 191.356 Q143.033 194.041 143.033 198.532 Q143.033 200.661 142.223 202.583 Q141.436 204.481 139.329 207.073 Q138.751 207.745 135.649 210.962 Q132.547 214.157 126.899 219.921 Z\" fill=\"#000000\" fill-rule=\"evenodd\" fill-opacity=\"1\" /><path clip-path=\"url(#clip920)\" d=\"M163.033 192.374 Q159.422 192.374 157.593 195.939 Q155.788 199.481 155.788 206.61 Q155.788 213.717 157.593 217.282 Q159.422 220.823 163.033 220.823 Q166.667 220.823 168.473 217.282 Q170.302 213.717 170.302 206.61 Q170.302 199.481 168.473 195.939 Q166.667 192.374 163.033 192.374 M163.033 188.671 Q168.843 188.671 171.899 193.277 Q174.977 197.86 174.977 206.61 Q174.977 215.337 171.899 219.944 Q168.843 224.527 163.033 224.527 Q157.223 224.527 154.144 219.944 Q151.089 215.337 151.089 206.61 Q151.089 197.86 154.144 193.277 Q157.223 188.671 163.033 188.671 Z\" fill=\"#000000\" fill-rule=\"evenodd\" fill-opacity=\"1\" /><path clip-path=\"url(#clip920)\" d=\"M28.3562 756.711 L45.7028 769.602 L64.0042 756.043 L64.0042 762.95 L49.9996 773.326 L64.0042 783.702 L64.0042 790.609 L45.3526 776.763 L28.3562 789.431 L28.3562 782.524 L41.0558 773.071 L28.3562 763.618 L28.3562 756.711 Z\" fill=\"#000000\" fill-rule=\"evenodd\" fill-opacity=\"1\" /><path clip-path=\"url(#clip920)\" d=\"M1054.21 14.0809 L1054.21 22.0612 Q1049.55 19.8332 1045.42 18.7395 Q1041.28 17.6457 1037.44 17.6457 Q1030.75 17.6457 1027.11 20.2383 Q1023.5 22.8309 1023.5 27.611 Q1023.5 31.6214 1025.89 33.6873 Q1028.32 35.7128 1035.05 36.9686 L1039.99 37.9813 Q1049.14 39.7232 1053.48 44.1387 Q1057.85 48.5136 1057.85 55.8863 Q1057.85 64.6767 1051.94 69.2137 Q1046.06 73.7508 1034.68 73.7508 Q1030.39 73.7508 1025.53 72.7785 Q1020.7 71.8063 1015.52 69.9024 L1015.52 61.4765 Q1020.5 64.2716 1025.28 65.6895 Q1030.06 67.1073 1034.68 67.1073 Q1041.69 67.1073 1045.5 64.3527 Q1049.3 61.598 1049.3 56.4939 Q1049.3 52.0379 1046.55 49.5264 Q1043.84 47.0148 1037.6 45.759 L1032.61 44.7868 Q1023.46 42.9639 1019.37 39.075 Q1015.28 35.1862 1015.28 28.2591 Q1015.28 20.2383 1020.91 15.6203 Q1026.58 11.0023 1036.5 11.0023 Q1040.76 11.0023 1045.17 11.7719 Q1049.59 12.5416 1054.21 14.0809 Z\" fill=\"#000000\" fill-rule=\"evenodd\" fill-opacity=\"1\" /><path clip-path=\"url(#clip920)\" d=\"M1077.66 14.324 L1077.66 27.2059 L1093.01 27.2059 L1093.01 32.9987 L1077.66 32.9987 L1077.66 57.6282 Q1077.66 63.1779 1079.16 64.7578 Q1080.7 66.3376 1085.36 66.3376 L1093.01 66.3376 L1093.01 72.576 L1085.36 72.576 Q1076.73 72.576 1073.45 69.3758 Q1070.17 66.1351 1070.17 57.6282 L1070.17 32.9987 L1064.7 32.9987 L1064.7 27.2059 L1070.17 27.2059 L1070.17 14.324 L1077.66 14.324 Z\" fill=\"#000000\" fill-rule=\"evenodd\" fill-opacity=\"1\" /><path clip-path=\"url(#clip920)\" d=\"M1123.44 49.7694 Q1114.4 49.7694 1110.92 51.8354 Q1107.43 53.9013 1107.43 58.8839 Q1107.43 62.8538 1110.03 65.2034 Q1112.66 67.5124 1117.16 67.5124 Q1123.35 67.5124 1127.08 63.1374 Q1130.85 58.7219 1130.85 51.4303 L1130.85 49.7694 L1123.44 49.7694 M1138.3 46.6907 L1138.3 72.576 L1130.85 72.576 L1130.85 65.6895 Q1128.3 69.8214 1124.49 71.8063 Q1120.68 73.7508 1115.17 73.7508 Q1108.2 73.7508 1104.07 69.8619 Q1099.98 65.9325 1099.98 59.3701 Q1099.98 51.7138 1105.09 47.825 Q1110.23 43.9361 1120.4 43.9361 L1130.85 43.9361 L1130.85 43.2069 Q1130.85 38.0623 1127.45 35.2672 Q1124.08 32.4315 1117.97 32.4315 Q1114.08 32.4315 1110.39 33.3632 Q1106.71 34.295 1103.3 36.1584 L1103.3 29.2718 Q1107.39 27.692 1111.24 26.9223 Q1115.09 26.1121 1118.74 26.1121 Q1128.58 26.1121 1133.44 31.2163 Q1138.3 36.3204 1138.3 46.6907 Z\" fill=\"#000000\" fill-rule=\"evenodd\" fill-opacity=\"1\" /><path clip-path=\"url(#clip920)\" d=\"M1161.03 14.324 L1161.03 27.2059 L1176.38 27.2059 L1176.38 32.9987 L1161.03 32.9987 L1161.03 57.6282 Q1161.03 63.1779 1162.53 64.7578 Q1164.07 66.3376 1168.72 66.3376 L1176.38 66.3376 L1176.38 72.576 L1168.72 72.576 Q1160.1 72.576 1156.82 69.3758 Q1153.53 66.1351 1153.53 57.6282 L1153.53 32.9987 L1148.07 32.9987 L1148.07 27.2059 L1153.53 27.2059 L1153.53 14.324 L1161.03 14.324 Z\" fill=\"#000000\" fill-rule=\"evenodd\" fill-opacity=\"1\" /><path clip-path=\"url(#clip920)\" d=\"M1224.99 48.0275 L1224.99 51.6733 L1190.72 51.6733 Q1191.21 59.3701 1195.34 63.421 Q1199.51 67.4314 1206.92 67.4314 Q1211.22 67.4314 1215.23 66.3781 Q1219.28 65.3249 1223.25 63.2184 L1223.25 70.267 Q1219.24 71.9684 1215.03 72.8596 Q1210.81 73.7508 1206.48 73.7508 Q1195.62 73.7508 1189.26 67.4314 Q1182.94 61.1119 1182.94 50.3365 Q1182.94 39.1965 1188.94 32.6746 Q1194.97 26.1121 1205.18 26.1121 Q1214.34 26.1121 1219.64 32.0264 Q1224.99 37.9003 1224.99 48.0275 M1217.54 45.84 Q1217.46 39.7232 1214.1 36.0774 Q1210.77 32.4315 1205.26 32.4315 Q1199.03 32.4315 1195.26 35.9558 Q1191.53 39.4801 1190.96 45.8805 L1217.54 45.84 Z\" fill=\"#000000\" fill-rule=\"evenodd\" fill-opacity=\"1\" /><path clip-path=\"url(#clip920)\" d=\"M1263.92 12.096 L1272.1 12.096 L1272.1 36.8875 L1301.84 36.8875 L1301.84 12.096 L1310.02 12.096 L1310.02 72.576 L1301.84 72.576 L1301.84 43.7741 L1272.1 43.7741 L1272.1 72.576 L1263.92 72.576 L1263.92 12.096 Z\" fill=\"#000000\" fill-rule=\"evenodd\" fill-opacity=\"1\" /><path clip-path=\"url(#clip920)\" d=\"M1325.98 27.2059 L1333.43 27.2059 L1333.43 72.576 L1325.98 72.576 L1325.98 27.2059 M1325.98 9.54393 L1333.43 9.54393 L1333.43 18.9825 L1325.98 18.9825 L1325.98 9.54393 Z\" fill=\"#000000\" fill-rule=\"evenodd\" fill-opacity=\"1\" /><path clip-path=\"url(#clip920)\" d=\"M1377.95 28.5427 L1377.95 35.5912 Q1374.79 33.9709 1371.39 33.1607 Q1367.99 32.3505 1364.34 32.3505 Q1358.79 32.3505 1356 34.0519 Q1353.24 35.7533 1353.24 39.156 Q1353.24 41.7486 1355.23 43.2475 Q1357.21 44.7058 1363.21 46.0426 L1365.76 46.6097 Q1373.7 48.3111 1377.02 51.4303 Q1380.38 54.509 1380.38 60.0587 Q1380.38 66.3781 1375.36 70.0644 Q1370.38 73.7508 1361.63 73.7508 Q1357.98 73.7508 1354.01 73.0216 Q1350.08 72.3329 1345.71 70.9151 L1345.71 63.2184 Q1349.84 65.3654 1353.85 66.4591 Q1357.86 67.5124 1361.79 67.5124 Q1367.06 67.5124 1369.89 65.73 Q1372.73 63.9071 1372.73 60.6258 Q1372.73 57.5877 1370.66 55.9673 Q1368.64 54.3469 1361.71 52.8481 L1359.12 52.2405 Q1352.19 50.7821 1349.11 47.7845 Q1346.03 44.7463 1346.03 39.4801 Q1346.03 33.0797 1350.57 29.5959 Q1355.11 26.1121 1363.45 26.1121 Q1367.58 26.1121 1371.23 26.7198 Q1374.88 27.3274 1377.95 28.5427 Z\" fill=\"#000000\" fill-rule=\"evenodd\" fill-opacity=\"1\" /><path clip-path=\"url(#clip920)\" d=\"M1399.63 14.324 L1399.63 27.2059 L1414.98 27.2059 L1414.98 32.9987 L1399.63 32.9987 L1399.63 57.6282 Q1399.63 63.1779 1401.13 64.7578 Q1402.66 66.3376 1407.32 66.3376 L1414.98 66.3376 L1414.98 72.576 L1407.32 72.576 Q1398.69 72.576 1395.41 69.3758 Q1392.13 66.1351 1392.13 57.6282 L1392.13 32.9987 L1386.66 32.9987 L1386.66 27.2059 L1392.13 27.2059 L1392.13 14.324 L1399.63 14.324 Z\" fill=\"#000000\" fill-rule=\"evenodd\" fill-opacity=\"1\" /><path clip-path=\"url(#clip920)\" d=\"M1442.36 32.4315 Q1436.37 32.4315 1432.88 37.1306 Q1429.4 41.7891 1429.4 49.9314 Q1429.4 58.0738 1432.84 62.7728 Q1436.33 67.4314 1442.36 67.4314 Q1448.32 67.4314 1451.8 62.7323 Q1455.29 58.0333 1455.29 49.9314 Q1455.29 41.8701 1451.8 37.1711 Q1448.32 32.4315 1442.36 32.4315 M1442.36 26.1121 Q1452.09 26.1121 1457.64 32.4315 Q1463.19 38.7509 1463.19 49.9314 Q1463.19 61.0714 1457.64 67.4314 Q1452.09 73.7508 1442.36 73.7508 Q1432.6 73.7508 1427.05 67.4314 Q1421.54 61.0714 1421.54 49.9314 Q1421.54 38.7509 1427.05 32.4315 Q1432.6 26.1121 1442.36 26.1121 Z\" fill=\"#000000\" fill-rule=\"evenodd\" fill-opacity=\"1\" /><path clip-path=\"url(#clip920)\" d=\"M1501.83 34.1734 Q1500.57 33.4443 1499.08 33.1202 Q1497.62 32.7556 1495.84 32.7556 Q1489.52 32.7556 1486.11 36.8875 Q1482.75 40.9789 1482.75 48.6757 L1482.75 72.576 L1475.26 72.576 L1475.26 27.2059 L1482.75 27.2059 L1482.75 34.2544 Q1485.1 30.1225 1488.87 28.1376 Q1492.64 26.1121 1498.02 26.1121 Q1498.79 26.1121 1499.72 26.2337 Q1500.66 26.3147 1501.79 26.5172 L1501.83 34.1734 Z\" fill=\"#000000\" fill-rule=\"evenodd\" fill-opacity=\"1\" /><path clip-path=\"url(#clip920)\" d=\"M1528.53 76.7889 Q1525.37 84.8907 1522.37 87.3618 Q1519.37 89.8329 1514.35 89.8329 L1508.39 89.8329 L1508.39 83.5945 L1512.77 83.5945 Q1515.85 83.5945 1517.55 82.1361 Q1519.25 80.6778 1521.32 75.2496 L1522.65 71.8468 L1504.3 27.2059 L1512.2 27.2059 L1526.38 62.6918 L1540.56 27.2059 L1548.46 27.2059 L1528.53 76.7889 Z\" fill=\"#000000\" fill-rule=\"evenodd\" fill-opacity=\"1\" /><polyline clip-path=\"url(#clip922)\" style=\"stroke:#009af9; stroke-linecap:round; stroke-linejoin:round; stroke-width:4; stroke-opacity:1; fill:none\" points=\"271.594,901.367 294.044,908.323 316.495,915.286 338.945,922.245 361.396,929.185 383.846,936.096 406.297,942.965 428.747,949.782 451.198,956.538 473.648,963.224 496.099,969.831 518.549,976.352 541,982.779 563.45,989.106 585.901,995.328 608.351,1001.44 630.802,1007.43 653.252,1013.31 675.703,1019.06 698.153,1024.68 720.604,1030.18 743.054,1035.54 765.505,1040.77 787.955,1045.86 810.406,1050.81 832.857,1055.63 855.307,1060.31 877.758,1064.85 900.208,1069.25 922.659,1073.5 945.109,1077.63 967.56,1081.61 990.01,1085.45 1012.46,1089.16 1034.91,1092.73 1057.36,1096.17 1079.81,1099.48 1102.26,1102.66 1124.71,1105.7 1147.16,1108.62 1169.61,1111.42 1192.06,1114.09 1214.52,1116.64 1236.97,1119.08 1259.42,1121.39 1281.87,1123.59 1304.32,1125.68 1326.77,1127.66 1349.22,1129.54 1371.67,1131.31 1394.12,1132.97 1416.57,1134.54 1439.02,1136.01 1461.47,1137.39 1483.92,1138.67 1506.37,1139.87 1528.82,1140.98 1551.27,1142 1573.72,1142.95 1596.17,1143.81 1618.62,1144.6 1641.07,1145.31 1663.53,1145.95 1685.98,1146.52 1708.43,1147.03 1730.88,1147.47 1753.33,1147.85 1775.78,1148.17 1798.23,1148.43 1820.68,1148.64 1843.13,1148.79 1865.58,1148.89 1888.03,1148.95 1910.48,1148.96 1932.93,1148.92 1955.38,1148.85 1977.83,1148.73 2000.28,1148.58 2022.73,1148.39 2045.18,1148.17 2067.63,1147.91 2090.08,1147.63 2112.54,1147.32 2134.99,1146.98 2157.44,1146.62 2179.89,1146.24 2202.34,1145.84 2224.79,1145.42 2247.24,1144.99 2269.69,1144.54 2292.14,1144.08 \"/>\n",
       "<polyline clip-path=\"url(#clip922)\" style=\"stroke:#e26f46; stroke-linecap:round; stroke-linejoin:round; stroke-width:4; stroke-opacity:1; fill:none\" points=\"271.594,1040.33 294.044,1035.79 316.495,1031.45 338.945,1027.29 361.396,1023.32 383.846,1019.54 406.297,1015.93 428.747,1012.51 451.198,1009.26 473.648,1006.18 496.099,1003.27 518.549,1000.53 541,997.958 563.45,995.547 585.901,993.296 608.351,991.202 630.802,989.262 653.252,987.475 675.703,985.838 698.153,984.347 720.604,983 743.054,981.795 765.505,980.729 787.955,979.8 810.406,979.004 832.857,978.34 855.307,977.804 877.758,977.394 900.208,977.108 922.659,976.942 945.109,976.895 967.56,976.963 990.01,977.144 1012.46,977.435 1034.91,977.834 1057.36,978.339 1079.81,978.946 1102.26,979.653 1124.71,980.458 1147.16,981.357 1169.61,982.348 1192.06,983.43 1214.52,984.598 1236.97,985.851 1259.42,987.186 1281.87,988.6 1304.32,990.09 1326.77,991.655 1349.22,993.292 1371.67,994.997 1394.12,996.769 1416.57,998.605 1439.02,1000.5 1461.47,1002.46 1483.92,1004.47 1506.37,1006.54 1528.82,1008.65 1551.27,1010.82 1573.72,1013.03 1596.17,1015.28 1618.62,1017.58 1641.07,1019.91 1663.53,1022.28 1685.98,1024.68 1708.43,1027.11 1730.88,1029.57 1753.33,1032.05 1775.78,1034.56 1798.23,1037.09 1820.68,1039.64 1843.13,1042.2 1865.58,1044.77 1888.03,1047.35 1910.48,1049.94 1932.93,1052.54 1955.38,1055.14 1977.83,1057.73 2000.28,1060.33 2022.73,1062.92 2045.18,1065.5 2067.63,1068.07 2090.08,1070.63 2112.54,1073.17 2134.99,1075.69 2157.44,1078.19 2179.89,1080.67 2202.34,1083.13 2224.79,1085.55 2247.24,1087.95 2269.69,1090.31 2292.14,1092.63 \"/>\n",
       "<polyline clip-path=\"url(#clip922)\" style=\"stroke:#3da44d; stroke-linecap:round; stroke-linejoin:round; stroke-width:4; stroke-opacity:1; fill:none\" points=\"271.594,160.256 294.044,171.922 316.495,183.749 338.945,195.722 361.396,207.824 383.846,220.04 406.297,232.355 428.747,244.756 451.198,257.229 473.648,269.761 496.099,282.342 518.549,294.96 541,307.605 563.45,320.268 585.901,332.937 608.351,345.607 630.802,358.267 653.252,370.911 675.703,383.531 698.153,396.121 720.604,408.675 743.054,421.187 765.505,433.651 787.955,446.063 810.406,458.418 832.857,470.712 855.307,482.941 877.758,495.1 900.208,507.188 922.659,519.2 945.109,531.134 967.56,542.986 990.01,554.756 1012.46,566.439 1034.91,578.035 1057.36,589.542 1079.81,600.956 1102.26,612.278 1124.71,623.505 1147.16,634.636 1169.61,645.67 1192.06,656.606 1214.52,667.442 1236.97,678.177 1259.42,688.811 1281.87,699.343 1304.32,709.771 1326.77,720.095 1349.22,730.314 1371.67,740.428 1394.12,750.435 1416.57,760.336 1439.02,770.128 1461.47,779.813 1483.92,789.388 1506.37,798.853 1528.82,808.208 1551.27,817.452 1573.72,826.584 1596.17,835.604 1618.62,844.511 1641.07,853.304 1663.53,861.982 1685.98,870.545 1708.43,878.992 1730.88,887.322 1753.33,895.534 1775.78,903.628 1798.23,911.602 1820.68,919.456 1843.13,927.189 1865.58,934.8 1888.03,942.287 1910.48,949.651 1932.93,956.89 1955.38,964.002 1977.83,970.988 2000.28,977.845 2022.73,984.573 2045.18,991.171 2067.63,997.637 2090.08,1003.97 2112.54,1010.17 2134.99,1016.23 2157.44,1022.16 2179.89,1027.95 2202.34,1033.6 2224.79,1039.12 2247.24,1044.49 2269.69,1049.71 2292.14,1054.8 \"/>\n",
       "<polyline clip-path=\"url(#clip922)\" style=\"stroke:#c271d2; stroke-linecap:round; stroke-linejoin:round; stroke-width:4; stroke-opacity:1; fill:none\" stroke-dasharray=\"16, 10\" points=\"271.594,1271.92 294.044,1272.23 316.495,1272.25 338.945,1272.02 361.396,1271.53 383.846,1270.81 406.297,1269.88 428.747,1268.75 451.198,1267.43 473.648,1265.93 496.099,1264.28 518.549,1262.48 541,1260.54 563.45,1258.48 585.901,1256.31 608.351,1254.04 630.802,1251.68 653.252,1249.24 675.703,1246.73 698.153,1244.16 720.604,1241.54 743.054,1238.87 765.505,1236.17 787.955,1233.43 810.406,1230.68 832.857,1227.9 855.307,1225.12 877.758,1222.33 900.208,1219.54 922.659,1216.76 945.109,1213.99 967.56,1211.23 990.01,1208.49 1012.46,1205.78 1034.91,1203.08 1057.36,1200.42 1079.81,1197.79 1102.26,1195.19 1124.71,1192.63 1147.16,1190.11 1169.61,1187.62 1192.06,1185.18 1214.52,1182.78 1236.97,1180.43 1259.42,1178.13 1281.87,1175.87 1304.32,1173.65 1326.77,1171.49 1349.22,1169.38 1371.67,1167.32 1394.12,1165.3 1416.57,1163.34 1439.02,1161.43 1461.47,1159.57 1483.92,1157.76 1506.37,1156 1528.82,1154.29 1551.27,1152.63 1573.72,1151.02 1596.17,1149.46 1618.62,1147.96 1641.07,1146.5 1663.53,1145.09 1685.98,1143.73 1708.43,1142.42 1730.88,1141.15 1753.33,1139.93 1775.78,1138.76 1798.23,1137.64 1820.68,1136.56 1843.13,1135.53 1865.58,1134.54 1888.03,1133.6 1910.48,1132.7 1932.93,1131.84 1955.38,1131.03 1977.83,1130.25 2000.28,1129.53 2022.73,1128.84 2045.18,1128.19 2067.63,1127.58 2090.08,1127.01 2112.54,1126.49 2134.99,1126 2157.44,1125.55 2179.89,1125.14 2202.34,1124.76 2224.79,1124.43 2247.24,1124.13 2269.69,1123.86 2292.14,1123.64 \"/>\n",
       "<polyline clip-path=\"url(#clip922)\" style=\"stroke:#ac8d18; stroke-linecap:round; stroke-linejoin:round; stroke-width:4; stroke-opacity:1; fill:none\" stroke-dasharray=\"16, 10\" points=\"271.594,1040.33 294.044,1044.18 316.495,1047.98 338.945,1051.74 361.396,1055.43 383.846,1059.08 406.297,1062.67 428.747,1066.21 451.198,1069.7 473.648,1073.14 496.099,1076.52 518.549,1079.85 541,1083.13 563.45,1086.35 585.901,1089.52 608.351,1092.64 630.802,1095.71 653.252,1098.73 675.703,1101.69 698.153,1104.6 720.604,1107.46 743.054,1110.27 765.505,1113.02 787.955,1115.73 810.406,1118.38 832.857,1120.97 855.307,1123.52 877.758,1126.01 900.208,1128.46 922.659,1130.85 945.109,1133.18 967.56,1135.47 990.01,1137.7 1012.46,1139.88 1034.91,1142.01 1057.36,1144.09 1079.81,1146.12 1102.26,1148.09 1124.71,1150.02 1147.16,1151.89 1169.61,1153.71 1192.06,1155.47 1214.52,1157.19 1236.97,1158.85 1259.42,1160.46 1281.87,1162.03 1304.32,1163.53 1326.77,1164.99 1349.22,1166.4 1371.67,1167.75 1394.12,1169.05 1416.57,1170.31 1439.02,1171.5 1461.47,1172.65 1483.92,1173.75 1506.37,1174.8 1528.82,1175.79 1551.27,1176.73 1573.72,1177.62 1596.17,1178.46 1618.62,1179.25 1641.07,1179.99 1663.53,1180.67 1685.98,1181.31 1708.43,1181.89 1730.88,1182.42 1753.33,1182.9 1775.78,1183.33 1798.23,1183.71 1820.68,1184.04 1843.13,1184.31 1865.58,1184.54 1888.03,1184.71 1910.48,1184.83 1932.93,1184.9 1955.38,1184.92 1977.83,1184.89 2000.28,1184.81 2022.73,1184.68 2045.18,1184.49 2067.63,1184.26 2090.08,1183.97 2112.54,1183.63 2134.99,1183.24 2157.44,1182.8 2179.89,1182.31 2202.34,1181.77 2224.79,1181.18 2247.24,1180.53 2269.69,1179.84 2292.14,1179.09 \"/>\n",
       "<polyline clip-path=\"url(#clip922)\" style=\"stroke:#00a9ad; stroke-linecap:round; stroke-linejoin:round; stroke-width:4; stroke-opacity:1; fill:none\" stroke-dasharray=\"16, 10\" points=\"271.594,1364.56 294.044,1367.98 316.495,1371.05 338.945,1373.79 361.396,1376.22 383.846,1378.34 406.297,1380.19 428.747,1381.76 451.198,1383.08 473.648,1384.16 496.099,1385.01 518.549,1385.65 541,1386.08 563.45,1386.33 585.901,1386.4 608.351,1386.3 630.802,1386.04 653.252,1385.64 675.703,1385.1 698.153,1384.43 720.604,1383.65 743.054,1382.75 765.505,1381.75 787.955,1380.66 810.406,1379.47 832.857,1378.21 855.307,1376.86 877.758,1375.45 900.208,1373.97 922.659,1372.44 945.109,1370.84 967.56,1369.2 990.01,1367.51 1012.46,1365.77 1034.91,1363.99 1057.36,1362.18 1079.81,1360.34 1102.26,1358.46 1124.71,1356.55 1147.16,1354.62 1169.61,1352.66 1192.06,1350.68 1214.52,1348.68 1236.97,1346.66 1259.42,1344.62 1281.87,1342.57 1304.32,1340.49 1326.77,1338.4 1349.22,1336.3 1371.67,1334.18 1394.12,1332.04 1416.57,1329.9 1439.02,1327.74 1461.47,1325.56 1483.92,1323.37 1506.37,1321.17 1528.82,1318.96 1551.27,1316.73 1573.72,1314.49 1596.17,1312.23 1618.62,1309.96 1641.07,1307.68 1663.53,1305.38 1685.98,1303.07 1708.43,1300.74 1730.88,1298.39 1753.33,1296.03 1775.78,1293.65 1798.23,1291.25 1820.68,1288.84 1843.13,1286.41 1865.58,1283.95 1888.03,1281.48 1910.48,1278.99 1932.93,1276.48 1955.38,1273.95 1977.83,1271.4 2000.28,1268.82 2022.73,1266.23 2045.18,1263.61 2067.63,1260.97 2090.08,1258.3 2112.54,1255.61 2134.99,1252.9 2157.44,1250.16 2179.89,1247.39 2202.34,1244.6 2224.79,1241.79 2247.24,1238.95 2269.69,1236.08 2292.14,1233.18 \"/>\n",
       "<path clip-path=\"url(#clip920)\" d=\"M2023.9 529.676 L2281.36 529.676 L2281.36 166.796 L2023.9 166.796  Z\" fill=\"#ffffff\" fill-rule=\"evenodd\" fill-opacity=\"1\"/>\n",
       "<polyline clip-path=\"url(#clip920)\" style=\"stroke:#000000; stroke-linecap:round; stroke-linejoin:round; stroke-width:4; stroke-opacity:1; fill:none\" points=\"2023.9,529.676 2281.36,529.676 2281.36,166.796 2023.9,166.796 2023.9,529.676 \"/>\n",
       "<polyline clip-path=\"url(#clip920)\" style=\"stroke:#009af9; stroke-linecap:round; stroke-linejoin:round; stroke-width:4; stroke-opacity:1; fill:none\" points=\"2047.7,218.636 2190.48,218.636 \"/>\n",
       "<path clip-path=\"url(#clip920)\" d=\"M2238.93 209.99 L2229.56 222.606 L2239.42 235.916 L2234.39 235.916 L2226.85 225.731 L2219.3 235.916 L2214.28 235.916 L2224.35 222.351 L2215.14 209.99 L2220.16 209.99 L2227.03 219.226 L2233.91 209.99 L2238.93 209.99 Z\" fill=\"#000000\" fill-rule=\"evenodd\" fill-opacity=\"1\" /><path clip-path=\"url(#clip920)\" d=\"M2244.58 233.369 L2249.3 233.369 L2249.3 219.226 L2244.14 220.175 L2244.14 217.49 L2249.46 216.587 L2252.64 216.587 L2252.64 233.369 L2257.38 233.369 L2257.38 235.916 L2244.58 235.916 L2244.58 233.369 Z\" fill=\"#000000\" fill-rule=\"evenodd\" fill-opacity=\"1\" /><polyline clip-path=\"url(#clip920)\" style=\"stroke:#e26f46; stroke-linecap:round; stroke-linejoin:round; stroke-width:4; stroke-opacity:1; fill:none\" points=\"2047.7,270.476 2190.48,270.476 \"/>\n",
       "<path clip-path=\"url(#clip920)\" d=\"M2238.93 261.83 L2229.56 274.446 L2239.42 287.756 L2234.39 287.756 L2226.85 277.571 L2219.3 287.756 L2214.28 287.756 L2224.35 274.191 L2215.14 261.83 L2220.16 261.83 L2227.03 271.066 L2233.91 261.83 L2238.93 261.83 Z\" fill=\"#000000\" fill-rule=\"evenodd\" fill-opacity=\"1\" /><path clip-path=\"url(#clip920)\" d=\"M2247.17 285.117 L2256.99 285.117 L2256.99 287.756 L2243.14 287.756 L2243.14 285.209 Q2243.93 284.492 2245.39 283.196 Q2253.35 276.135 2253.35 273.959 Q2253.35 272.432 2252.15 271.506 Q2250.95 270.557 2248.98 270.557 Q2247.77 270.557 2246.36 270.973 Q2244.95 271.367 2243.28 272.177 L2243.28 269.33 Q2245.07 268.682 2246.59 268.358 Q2248.14 268.034 2249.46 268.034 Q2252.82 268.034 2254.83 269.561 Q2256.85 271.089 2256.85 273.589 Q2256.85 276.807 2249.19 283.381 Q2247.89 284.492 2247.17 285.117 Z\" fill=\"#000000\" fill-rule=\"evenodd\" fill-opacity=\"1\" /><polyline clip-path=\"url(#clip920)\" style=\"stroke:#3da44d; stroke-linecap:round; stroke-linejoin:round; stroke-width:4; stroke-opacity:1; fill:none\" points=\"2047.7,322.316 2190.48,322.316 \"/>\n",
       "<path clip-path=\"url(#clip920)\" d=\"M2238.93 313.67 L2229.56 326.286 L2239.42 339.596 L2234.39 339.596 L2226.85 329.411 L2219.3 339.596 L2214.28 339.596 L2224.35 326.031 L2215.14 313.67 L2220.16 313.67 L2227.03 322.906 L2233.91 313.67 L2238.93 313.67 Z\" fill=\"#000000\" fill-rule=\"evenodd\" fill-opacity=\"1\" /><path clip-path=\"url(#clip920)\" d=\"M2253.1 329.133 Q2255.23 329.549 2256.39 330.823 Q2257.57 332.073 2257.57 333.971 Q2257.57 336.841 2255.37 338.392 Q2253.17 339.943 2249.07 339.943 Q2247.75 339.943 2246.29 339.688 Q2244.86 339.457 2243.24 338.994 L2243.24 336.193 Q2244.44 336.818 2245.81 337.119 Q2247.2 337.42 2248.75 337.42 Q2251.27 337.42 2252.66 336.517 Q2254.05 335.591 2254.05 333.971 Q2254.05 332.258 2252.75 331.378 Q2251.48 330.499 2248.98 330.499 L2246.99 330.499 L2246.99 327.999 L2249.16 327.999 Q2251.34 327.999 2252.45 327.281 Q2253.58 326.54 2253.58 325.151 Q2253.58 323.809 2252.43 323.114 Q2251.27 322.397 2249.07 322.397 Q2248.14 322.397 2246.96 322.605 Q2245.78 322.813 2243.91 323.346 L2243.91 320.684 Q2245.6 320.29 2247.08 320.082 Q2248.56 319.874 2249.83 319.874 Q2253.17 319.874 2255.11 321.239 Q2257.08 322.605 2257.08 324.897 Q2257.08 326.494 2256.04 327.605 Q2255 328.716 2253.1 329.133 Z\" fill=\"#000000\" fill-rule=\"evenodd\" fill-opacity=\"1\" /><polyline clip-path=\"url(#clip920)\" style=\"stroke:#c271d2; stroke-linecap:round; stroke-linejoin:round; stroke-width:4; stroke-opacity:1; fill:none\" stroke-dasharray=\"16, 10\" points=\"2047.7,374.156 2190.48,374.156 \"/>\n",
       "<path clip-path=\"url(#clip920)\" d=\"M2238.93 365.51 L2229.56 378.126 L2239.42 391.436 L2234.39 391.436 L2226.85 381.251 L2219.3 391.436 L2214.28 391.436 L2224.35 377.871 L2215.14 365.51 L2220.16 365.51 L2227.03 374.746 L2233.91 365.51 L2238.93 365.51 Z\" fill=\"#000000\" fill-rule=\"evenodd\" fill-opacity=\"1\" /><path clip-path=\"url(#clip920)\" d=\"M2226.94 355.417 L2231.2 355.417 L2231.2 360.811 L2226.94 360.811 L2226.94 355.417 M2229.12 364.885 L2229.12 364.885 Z\" fill=\"#000000\" fill-rule=\"evenodd\" fill-opacity=\"1\" /><path clip-path=\"url(#clip920)\" d=\"M2244.58 388.889 L2249.3 388.889 L2249.3 374.746 L2244.14 375.695 L2244.14 373.01 L2249.46 372.107 L2252.64 372.107 L2252.64 388.889 L2257.38 388.889 L2257.38 391.436 L2244.58 391.436 L2244.58 388.889 Z\" fill=\"#000000\" fill-rule=\"evenodd\" fill-opacity=\"1\" /><polyline clip-path=\"url(#clip920)\" style=\"stroke:#ac8d18; stroke-linecap:round; stroke-linejoin:round; stroke-width:4; stroke-opacity:1; fill:none\" stroke-dasharray=\"16, 10\" points=\"2047.7,425.996 2190.48,425.996 \"/>\n",
       "<path clip-path=\"url(#clip920)\" d=\"M2238.93 417.35 L2229.56 429.966 L2239.42 443.276 L2234.39 443.276 L2226.85 433.091 L2219.3 443.276 L2214.28 443.276 L2224.35 429.711 L2215.14 417.35 L2220.16 417.35 L2227.03 426.586 L2233.91 417.35 L2238.93 417.35 Z\" fill=\"#000000\" fill-rule=\"evenodd\" fill-opacity=\"1\" /><path clip-path=\"url(#clip920)\" d=\"M2226.94 407.257 L2231.2 407.257 L2231.2 412.651 L2226.94 412.651 L2226.94 407.257 M2229.12 416.725 L2229.12 416.725 Z\" fill=\"#000000\" fill-rule=\"evenodd\" fill-opacity=\"1\" /><path clip-path=\"url(#clip920)\" d=\"M2247.17 440.637 L2256.99 440.637 L2256.99 443.276 L2243.14 443.276 L2243.14 440.729 Q2243.93 440.012 2245.39 438.716 Q2253.35 431.655 2253.35 429.479 Q2253.35 427.952 2252.15 427.026 Q2250.95 426.077 2248.98 426.077 Q2247.77 426.077 2246.36 426.493 Q2244.95 426.887 2243.28 427.697 L2243.28 424.85 Q2245.07 424.202 2246.59 423.878 Q2248.14 423.554 2249.46 423.554 Q2252.82 423.554 2254.83 425.081 Q2256.85 426.609 2256.85 429.109 Q2256.85 432.327 2249.19 438.901 Q2247.89 440.012 2247.17 440.637 Z\" fill=\"#000000\" fill-rule=\"evenodd\" fill-opacity=\"1\" /><polyline clip-path=\"url(#clip920)\" style=\"stroke:#00a9ad; stroke-linecap:round; stroke-linejoin:round; stroke-width:4; stroke-opacity:1; fill:none\" stroke-dasharray=\"16, 10\" points=\"2047.7,477.836 2190.48,477.836 \"/>\n",
       "<path clip-path=\"url(#clip920)\" d=\"M2238.93 469.19 L2229.56 481.806 L2239.42 495.116 L2234.39 495.116 L2226.85 484.931 L2219.3 495.116 L2214.28 495.116 L2224.35 481.551 L2215.14 469.19 L2220.16 469.19 L2227.03 478.426 L2233.91 469.19 L2238.93 469.19 Z\" fill=\"#000000\" fill-rule=\"evenodd\" fill-opacity=\"1\" /><path clip-path=\"url(#clip920)\" d=\"M2226.94 459.097 L2231.2 459.097 L2231.2 464.491 L2226.94 464.491 L2226.94 459.097 M2229.12 468.565 L2229.12 468.565 Z\" fill=\"#000000\" fill-rule=\"evenodd\" fill-opacity=\"1\" /><path clip-path=\"url(#clip920)\" d=\"M2253.1 484.653 Q2255.23 485.069 2256.39 486.343 Q2257.57 487.593 2257.57 489.491 Q2257.57 492.361 2255.37 493.912 Q2253.17 495.463 2249.07 495.463 Q2247.75 495.463 2246.29 495.208 Q2244.86 494.977 2243.24 494.514 L2243.24 491.713 Q2244.44 492.338 2245.81 492.639 Q2247.2 492.94 2248.75 492.94 Q2251.27 492.94 2252.66 492.037 Q2254.05 491.111 2254.05 489.491 Q2254.05 487.778 2252.75 486.898 Q2251.48 486.019 2248.98 486.019 L2246.99 486.019 L2246.99 483.519 L2249.16 483.519 Q2251.34 483.519 2252.45 482.801 Q2253.58 482.06 2253.58 480.671 Q2253.58 479.329 2252.43 478.634 Q2251.27 477.917 2249.07 477.917 Q2248.14 477.917 2246.96 478.125 Q2245.78 478.333 2243.91 478.866 L2243.91 476.204 Q2245.6 475.81 2247.08 475.602 Q2248.56 475.394 2249.83 475.394 Q2253.17 475.394 2255.11 476.759 Q2257.08 478.125 2257.08 480.417 Q2257.08 482.014 2256.04 483.125 Q2255 484.236 2253.1 484.653 Z\" fill=\"#000000\" fill-rule=\"evenodd\" fill-opacity=\"1\" /></svg>\n"
      ]
     },
     "metadata": {},
     "output_type": "display_data"
    }
   ],
   "source": [
    "Xsim_m = mat_from_vec(Xhist[1:end-Nh])\n",
    "Usim_m = mat_from_vec(Uhist[1:end-Nh-1])\n",
    "e_sim_m = mat_from_vec(Xref[1:end-Nh]-Xhist[1:end-Nh])\n",
    "display(plot(t_vec[1:end-Nh],e_sim_m',label = [\"ex₁\" \"ex₂\" \"ex₃\" \"eẋ₁\" \"eẋ₂\" \"eẋ₃\"], linestyle=[:solid :solid :solid :dash :dash :dash],\n",
    "             title = \"State Error History\",\n",
    "             xlabel = \"time (s)\", ylabel = \"x\"))\n",
    "display(plot(t_vec[1:end-Nh-2],Usim_m',label = [\"u₁\" \"u₂\" \"u₃\"],\n",
    "             title = \"Input History\",\n",
    "             xlabel = \"time (s)\", ylabel = \"u\"))\n",
    "display(plot(t_vec[1:end-Nh],Xsim_m',label = [\"x₁\" \"x₂\" \"x₃\" \"ẋ₁\" \"ẋ₂\" \"ẋ₃\"], linestyle=[:solid :solid :solid :dash :dash :dash],\n",
    "             title = \"State History\",\n",
    "             xlabel = \"time (s)\", ylabel = \"x\"))"
   ]
  }
 ],
 "metadata": {
  "kernelspec": {
   "display_name": "Julia 1.6.7",
   "language": "julia",
   "name": "julia-1.6"
  },
  "language_info": {
   "file_extension": ".jl",
   "mimetype": "application/julia",
   "name": "julia",
   "version": "1.6.7"
  }
 },
 "nbformat": 4,
 "nbformat_minor": 5
}
