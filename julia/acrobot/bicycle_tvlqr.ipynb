{
 "cells": [
  {
   "cell_type": "code",
   "execution_count": 4,
   "id": "c943da45-a7ca-4efd-9a20-798c23f0babb",
   "metadata": {},
   "outputs": [
    {
     "name": "stderr",
     "output_type": "stream",
     "text": [
      "\u001b[32m\u001b[1m  Activating\u001b[22m\u001b[39m environment at `~/SSD/Code/TinyMPC/julia/bicycle_tvlqr/Project.toml`\n"
     ]
    }
   ],
   "source": [
    "import Pkg; Pkg.activate(@__DIR__); Pkg.instantiate()"
   ]
  },
  {
   "cell_type": "code",
   "execution_count": 5,
   "id": "d82389b5-0cd5-4b99-8e4c-ba6ad91f31ef",
   "metadata": {},
   "outputs": [
    {
     "name": "stderr",
     "output_type": "stream",
     "text": [
      "\u001b[32m\u001b[1m   Resolving\u001b[22m\u001b[39m package versions...\n",
      "\u001b[32m\u001b[1m  No Changes\u001b[22m\u001b[39m to `~/SSD/Code/TinyMPC/julia/bicycle_tvlqr/Project.toml`\n",
      "\u001b[32m\u001b[1m  No Changes\u001b[22m\u001b[39m to `~/SSD/Code/TinyMPC/julia/bicycle_tvlqr/Manifest.toml`\n"
     ]
    }
   ],
   "source": [
    "Pkg.add(\"ControlSystems\")"
   ]
  },
  {
   "cell_type": "code",
   "execution_count": 6,
   "id": "6d4548db-8a46-4eeb-8ebc-44b4e01a763d",
   "metadata": {},
   "outputs": [],
   "source": [
    "using Symbolics\n",
    "using LinearAlgebra\n",
    "import ForwardDiff as FD"
   ]
  },
  {
   "cell_type": "code",
   "execution_count": 13,
   "id": "815decfb-1321-4f7e-9dd6-f152b76d029d",
   "metadata": {
    "jupyter": {
     "source_hidden": true
    },
    "tags": []
   },
   "outputs": [
    {
     "data": {
      "text/plain": [
       "get_jacobians (generic function with 1 method)"
      ]
     },
     "execution_count": 13,
     "metadata": {},
     "output_type": "execute_result"
    }
   ],
   "source": [
    "# Planar Quadrotor Dynamics\n",
    "function dynamics(model, x, u)\n",
    "    θ = x[3]\n",
    "    \n",
    "    ẍ = (1/model.m)*(u[1] + u[2])*sin(θ)\n",
    "    ÿ = (1/model.m)*(u[1] + u[2])*cos(θ) - model.g\n",
    "    θ̈ = (1/model.J)*(model.ℓ/2)*(u[2] - u[1])\n",
    "    \n",
    "    return [x[4:6]; ẍ; ÿ; θ̈]\n",
    "end\n",
    "\n",
    "function rk4(model, ode, x, u, dt)\n",
    "    k1 = dt*ode(model, x, u)\n",
    "    k2 = dt*ode(model, x + k1/2, u)\n",
    "    k3 = dt*ode(model, x + k2/2, u)\n",
    "    k4 = dt*ode(model, x + k3, u)\n",
    "    x + (1/6)*(k1 + 2*k2 + 2*k3 + k4)\n",
    "end\n",
    "\n",
    "function get_jacobians(model, dynamics, X̄, Ū , dt)\n",
    "    N_mpc = length(X̄)\n",
    "    A = [FD.jacobian(_x -> rk4(model, dynamics, _x, Ū[i], dt), X̄[i]) for i = 1:(N_mpc - 1)]\n",
    "    B = [FD.jacobian(_u -> rk4(model, dynamics, X̄[i], _u, dt), Ū[i]) for i = 1:(N_mpc - 1)]\n",
    "    return A, B\n",
    "end"
   ]
  },
  {
   "cell_type": "code",
   "execution_count": 13,
   "id": "7a9c57c8-4692-4914-8277-1ddb220b66f8",
   "metadata": {},
   "outputs": [
    {
     "data": {
      "text/latex": [
       "$$ \\begin{equation}\n",
       "1.3877787807814457e-17\n",
       "\\end{equation}\n",
       " $$"
      ],
      "text/plain": [
       "1.3877787807814457e-17"
      ]
     },
     "metadata": {},
     "output_type": "display_data"
    },
    {
     "data": {
      "text/latex": [
       "$$ \\begin{equation}\n",
       "\\left[\n",
       "\\begin{array}{ccccc}\n",
       "1 & 0 & -0.2212351445299169 & -0.05566383440393452 & -0.34650147277284804 \\\\\n",
       "0 & 1 & -0.35969472555671345 & 0.08255204124596534 & -0.3846345251727899 \\\\\n",
       "0 & 0 & 1 & -0.14625574211126013 & 1.6483196022684248 \\\\\n",
       "0 & 0 & 0 & 1 & 0 \\\\\n",
       "0 & 0 & 0 & 0 & 1 \\\\\n",
       "\\end{array}\n",
       "\\right]\n",
       "\\end{equation}\n",
       " $$"
      ],
      "text/plain": [
       "5×5 Matrix{Num}:\n",
       " 1  0  -0.221235  -0.0556638  -0.346501\n",
       " 0  1  -0.359695   0.082552   -0.384635\n",
       " 0  0   1         -0.146256    1.64832\n",
       " 0  0   0          1           0\n",
       " 0  0   0          0           1"
      ]
     },
     "metadata": {},
     "output_type": "display_data"
    },
    {
     "data": {
      "text/latex": [
       "$$ \\begin{equation}\n",
       "\\left[\n",
       "\\begin{array}{cc}\n",
       "-0.003504793435605235 & -0.004177876896266227 \\\\\n",
       "0.0036902074712263097 & -0.00690747941474662 \\\\\n",
       "-0.0049329131186465185 & 0.04598453344599679 \\\\\n",
       "0.09999999999999999 & 0 \\\\\n",
       "0 & 0.09999999999999999 \\\\\n",
       "\\end{array}\n",
       "\\right]\n",
       "\\end{equation}\n",
       " $$"
      ],
      "text/plain": [
       "5×2 Matrix{Num}:\n",
       " -0.00350479  -0.00417788\n",
       "  0.00369021  -0.00690748\n",
       " -0.00493291   0.0459845\n",
       "  0.1          0\n",
       "  0            0.1"
      ]
     },
     "metadata": {},
     "output_type": "display_data"
    }
   ],
   "source": [
    "# ====================\n",
    "# Explicit model params (working)\n",
    "# ====================\n",
    "@variables x[1:5] u[1:2] \n",
    "x = collect(x); u = collect(u)\n",
    "x0 = [1; 2; 3; 4; 5]; u0 = [7; 8]\n",
    "# Second-order Bicycle Dynamics\n",
    "function dynamics(x, u)\n",
    "    a_in = u[1]  # longitudinal acceleration \n",
    "    ϕ_in = u[2]  # steering angle rate    \n",
    "\n",
    "    θ = x[3]  # yaw\n",
    "    v = x[4]  # steering angle\n",
    "    δ = x[5]\n",
    "\n",
    "    c = cos(θ)\n",
    "    s = sin(θ)\n",
    "\n",
    "    ẋ = v*c\n",
    "    ẏ = v*s\n",
    "    θ̇ = v*tan(δ)\n",
    "    v̇ = a_in\n",
    "    δ̇ = ϕ_in  # = u2\n",
    "    return [ẋ, ẏ, θ̇, v̇, δ̇]\n",
    "end\n",
    "function rk4(x, u)\n",
    "    dt = 0.1\n",
    "    k1 = dt*dynamics(x, u)\n",
    "    k2 = dt*dynamics(x + k1/2, u)\n",
    "    k3 = dt*dynamics(x + k2/2, u)\n",
    "    k4 = dt*dynamics(x + k3, u)\n",
    "    x + (1/6)*(k1 + 2*k2 + 2*k3 + k4)\n",
    "end\n",
    "function midpoint(x, u)\n",
    "    dt = 0.1\n",
    "    k1 = dt*dynamics(x, u)\n",
    "    k2 = dt*dynamics(x + k1/2, u)\n",
    "    x += k2\n",
    "end\n",
    "\n",
    "sym_jac_A = Symbolics.jacobian(rk4(x, u), x)\n",
    "sym_jac_B = Symbolics.jacobian(rk4(x, u), u)\n",
    "# Sub value to validate with ForwardDiff\n",
    "sub_dict = Dict()\n",
    "[sub_dict[x] = y for (x,y) in zip([x; u], [x0; u0])]\n",
    "val_jac_A = substitute.(sym_jac_A, (sub_dict,))\n",
    "val_jac_B = substitute.(sym_jac_B, (sub_dict,))\n",
    "fd_jac_A = FD.jacobian(_x->rk4(_x, u0), x0)\n",
    "fd_jac_B = FD.jacobian(_u->rk4(x0, _u), u0)\n",
    "display(norm(fd_jac_A - val_jac_A) + norm(fd_jac_B - val_jac_B))\n",
    "display(val_jac_A)\n",
    "display(val_jac_B)"
   ]
  },
  {
   "cell_type": "code",
   "execution_count": 8,
   "id": "6c628217-15ae-4837-970c-71178b07b875",
   "metadata": {},
   "outputs": [],
   "source": [
    "# ====================\n",
    "# Generate C code for jacobians\n",
    "# ====================\n",
    "fA = build_function(sym_jac_A, x, u; target=Symbolics.CTarget(), \n",
    "    fname = :tiny_GetJacobianA_Raw, lhsname=:A, rhsnames=[Symbol(\"x\"), Symbol(\"u\")]);\n",
    "\n",
    "open(\"functionA.txt\",\"a\") do io\n",
    "        println(io, fA)\n",
    "end\n",
    "\n",
    "fB = build_function(sym_jac_B, x, u; target=Symbolics.CTarget(), \n",
    "    fname = :tiny_GetJacobianB_Raw, lhsname=:B, rhsnames=[Symbol(\"x\"), Symbol(\"u\")]);\n",
    "\n",
    "open(\"functionB.txt\",\"a\") do io\n",
    "        println(io, fB)\n",
    "end"
   ]
  },
  {
   "cell_type": "code",
   "execution_count": 9,
   "id": "e070ad32-8f19-40e3-99ac-ae4abf9c7423",
   "metadata": {},
   "outputs": [],
   "source": [
    "# ====================\n",
    "# Generate C code for dynamics\n",
    "# ====================\n",
    "dynamics_rk4 = rk4(x ,u)\n",
    "dynamics_rk4 = build_function(dynamics_rk4, x, u; target=Symbolics.CTarget(), \n",
    "    fname = :tiny_Dynamics_RK4_Raw, lhsname=:xn, rhsnames=[Symbol(\"x\"), Symbol(\"u\")])\n",
    "open(\"dynamics_rk4.txt\",\"a\") do io\n",
    "        println(io, dynamics_rk4)\n",
    "end"
   ]
  },
  {
   "cell_type": "code",
   "execution_count": null,
   "id": "8da00896-0d2a-4c12-b81b-5bb59ab6dc2f",
   "metadata": {
    "jupyter": {
     "source_hidden": true
    },
    "tags": []
   },
   "outputs": [],
   "source": [
    "# ====================\n",
    "# Symbolic model params\n",
    "# not working \n",
    "# ====================\n",
    "@variables g, m, ℓ, J\n",
    "model = (g=g, m=m, ℓ=ℓ, J=J)\n",
    "x = collect(x)\n",
    "u = collect(u)\n",
    "@variables x[1:6] u[1:2] \n",
    "\n",
    "# Planar Quadrotor Dynamics\n",
    "function dynamics(model, x, u)\n",
    "    θ = x[3]\n",
    "    ẍ = (1/model.m)*(u[1] + u[2])*sin(θ)\n",
    "    ÿ = (1/model.m)*(u[1] + u[2])*cos(θ) - model.g\n",
    "    θ̈ = (1/model.J)*(model.ℓ/2)*(u[2] - u[1])\n",
    "    \n",
    "    return [x[4:6]; ẍ; ÿ; θ̈]\n",
    "end\n",
    "function rk4(model, x, u)\n",
    "    dt = 0.1\n",
    "    k1 = dt*dynamics(model, x, u)\n",
    "    k2 = dt*dynamics(model, x + k1/2, u)\n",
    "    k3 = dt*dynamics(model, x + k2/2, u)\n",
    "    k4 = dt*dynamics(model, x + k3, u)\n",
    "    x + (1/6)*(k1 + 2*k2 + 2*k3 + k4) \n",
    "end\n",
    "# sym_jac_A = Symbolics.jacobian(dynamics(model, x, u), x)\n",
    "# sym_jac_B = Symbolics.jacobian(dynamics(model, x, u), u)\n",
    "sym_jac_A = Symbolics.jacobian(rk4(model, x, u), u)"
   ]
  },
  {
   "cell_type": "code",
   "execution_count": 14,
   "id": "1fed6803-c61c-4cf3-a5a9-547f8915ba7a",
   "metadata": {},
   "outputs": [
    {
     "data": {
      "text/plain": [
       "lqr_controller (generic function with 1 method)"
      ]
     },
     "execution_count": 14,
     "metadata": {},
     "output_type": "execute_result"
    }
   ],
   "source": [
    "function lqr_controller(t, x)\n",
    "    #LQR Hover Controller\n",
    "    A = FD.jacobian(_x->rk4(_x, u0), xref)\n",
    "    B = FD.jacobian(_u->rk4(x0, _u), uref)\n",
    "    K = dlqr(A,B,Q,R)\n",
    "    return u_hover - K*(x-xref)\n",
    "end"
   ]
  },
  {
   "cell_type": "code",
   "execution_count": 15,
   "id": "b2abbdda-195c-47a5-8064-fd49318430bb",
   "metadata": {},
   "outputs": [
    {
     "data": {
      "text/plain": [
       "closed_loop (generic function with 1 method)"
      ]
     },
     "execution_count": 15,
     "metadata": {},
     "output_type": "execute_result"
    }
   ],
   "source": [
    "function closed_loop(x0,controller,N)\n",
    "    xhist = zeros(length(x0),N)\n",
    "    u0 = controller(1,x0)\n",
    "    uhist = zeros(length(u0),N-1)\n",
    "    uhist[:,1] .= u0\n",
    "    xhist[:,1] .= x0\n",
    "    for k = 1:(N-1)\n",
    "        uk = controller(k,xhist[:,k], xref[k], uref[k])\n",
    "        uhist[:,k] = max.(min.(umax, uk), umin) #enforce control limits\n",
    "        xhist[:,k+1] .= rk4(xhist[:,k],uhist[:,k])\n",
    "    end\n",
    "    return xhist, uhist\n",
    "end"
   ]
  },
  {
   "cell_type": "code",
   "execution_count": 18,
   "id": "fed64908-0c6e-4cbd-8927-58accf0c5178",
   "metadata": {},
   "outputs": [
    {
     "name": "stdout",
     "output_type": "stream",
     "text": [
      "rk4(model, dynamics, x_hover, u_hover, dt) = [0.0, 0.0, 0.0, 0.0, 0.0, 0.0]\n"
     ]
    },
    {
     "data": {
      "text/plain": [
       "6-element Vector{Float64}:\n",
       " 0.0\n",
       " 0.0\n",
       " 0.0\n",
       " 0.0\n",
       " 0.0\n",
       " 0.0"
      ]
     },
     "execution_count": 18,
     "metadata": {},
     "output_type": "execute_result"
    }
   ],
   "source": [
    "dt = 0.1  \n",
    "h = dt\n",
    "Nx = 5     # number of state\n",
    "Nu = 2     # number of controls\n",
    "Tfinal = 10.0 # final time\n",
    "Nt = Int(Tfinal/h)+1    # number of time steps\n",
    "thist = Array(range(0,h*(Nt-1), step=h));\n",
    "    \n",
    "# Thrust limits\n",
    "umax = [2; 0.5]\n",
    "umin = -umax\n",
    "\n",
    "# Cost weights\n",
    "Q = Array(1.0*I(Nx));\n",
    "R = Array(.01*I(Nu));\n",
    "Qn = Array(1.0*I(Nx));\n",
    "\n",
    "x_ref = [2.0; 0.0; 0; 0; 0]\n",
    "x0 = [20.0; 20.0; pi/4; 0; 0]\n",
    "xhist1, uhist1 = closed_loop(x0, lqr_controller, Nt);\n",
    "# xhist2, uhist2 = closed_loop(x0, (t,x)->mpc_controller(t,x,x_ref), Nt);   "
   ]
  }
 ],
 "metadata": {
  "kernelspec": {
   "display_name": "Julia 1.6.7",
   "language": "julia",
   "name": "julia-1.6"
  },
  "language_info": {
   "file_extension": ".jl",
   "mimetype": "application/julia",
   "name": "julia",
   "version": "1.6.7"
  }
 },
 "nbformat": 4,
 "nbformat_minor": 5
}
