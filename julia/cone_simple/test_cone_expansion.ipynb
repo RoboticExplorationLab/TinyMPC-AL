{
 "cells": [
  {
   "cell_type": "code",
   "execution_count": 213,
   "id": "f9e67384-6792-4aae-abd6-4a84870a8df6",
   "metadata": {},
   "outputs": [
    {
     "name": "stdout",
     "output_type": "stream",
     "text": [
      "Norm gradient difference: 0.0\n",
      "Norm Hessian difference: 8.898537205626138e-13\n",
      "Value error: 0.002430646380162216\n",
      "Diff Value error: [0.0650101123683271 -0.07490947916994628 0.00017858418794958197]"
     ]
    }
   ],
   "source": [
    "function projection(x)\n",
    "    n = length(x)\n",
    "    s = x[end]\n",
    "    v = view(x,1:n-1)\n",
    "    a = norm(v)\n",
    "    if a <= -s  # below the cone\n",
    "        return zero(x)\n",
    "    elseif a <= s  # in the code\n",
    "        return x\n",
    "    elseif a >= abs(s)  # outside the cone\n",
    "        return 0.5 * (1 + s/a) * [v; a] \n",
    "    end\n",
    "end\n",
    "function ∇projection(x)\n",
    "    n = length(x)\n",
    "    J = zeros(eltype(x),n,n)\n",
    "    s = x[end]\n",
    "    v = view(x,1:n-1)\n",
    "    a = norm(v)\n",
    "    if a <= -s\n",
    "        return J  # zeros\n",
    "    elseif a <= s\n",
    "        J .= I(n)  \n",
    "        return J  # identity\n",
    "    elseif a >= abs(s)\n",
    "        c = 0.5 * (1 + s/a)\n",
    "\n",
    "        # dvdv ok!\n",
    "        for i = 1:n-1, j = 1:n-1\n",
    "            J[i,j] = -0.5*s/a^3 * v[i] * v[j]\n",
    "            if i == j\n",
    "                J[i,j] += c\n",
    "            end\n",
    "        end\n",
    "\n",
    "        # dvds ok!\n",
    "        for i = 1:n-1\n",
    "            J[i,n] = 0.5 * v[i] / a\n",
    "        end\n",
    "\n",
    "        # dsdv ok!\n",
    "        for i = 1:n-1\n",
    "            J[n,i] = ((-0.5*s/a^2) + c/a) * v[i]\n",
    "        end\n",
    "        J[n,n] = 0.5  # ok\n",
    "        return J\n",
    "    else\n",
    "        error(\"Invalid second-order cone projection.\")\n",
    "    end\n",
    "    return J\n",
    "end\n",
    "function ∇²projection(x, b)\n",
    "    # x is lamda_bar, b is projection(lambda_bar)\n",
    "    n = length(x)\n",
    "    hess = zeros(eltype(x),n,n)\n",
    "    v = view(x, 1:n-1)\n",
    "    bv = view(b, 1:n-1)\n",
    "\n",
    "    # @assert size(hess) == (n+1,n+1)\n",
    "    s = x[end]\n",
    "    bs = b[end]\n",
    "    a =  norm(v)\n",
    "    vbv = dot(v,bv)\n",
    "\n",
    "    if a <= -s\n",
    "        return hess .= 0\n",
    "    elseif a <= s\n",
    "        return hess .= 0\n",
    "    elseif a > abs(s)\n",
    "        # Original equations from chain rule\n",
    "        # dvdv = -s/norm(v)^2/norm(v)*(I - (v*v')/(v'v))*bv*v' + \n",
    "        #     s/norm(v)*((v*(v'bv))/(v'v)^2 * 2v' - (I*(v'bv) + v*bv')/(v'v)) + \n",
    "        #     bs/norm(v)*(I - (v*v')/(v'v))\n",
    "        # dvds = 1/norm(v)*(I - (v*v')/(v'v))*bv;\n",
    "        # # display(dvds)\n",
    "        # # display(dvdv)\n",
    "        # hess[1:n-1,1:n-1] .= dvdv*0.5\n",
    "        # hess[1:n-1,n] .= dvds*0.5\n",
    "        # hess[n:n,1:n-1] .= 0.5*dvds'\n",
    "        # hess[n,n] = 0\n",
    "        # return hess\n",
    "\n",
    "        # The following is just an unrolled version of the above\n",
    "        n = n - 1\n",
    "        dvdv = view(hess, 1:n, 1:n)\n",
    "        dvds = view(hess, 1:n, n+1)\n",
    "        dsdv = view(hess, n+1, 1:n)\n",
    "        @inbounds for i = 1:n\n",
    "            hi = 0\n",
    "            @inbounds for j = 1:n\n",
    "                Hij = -v[i]*v[j] / a^2\n",
    "                if i == j\n",
    "                    Hij += 1\n",
    "                end\n",
    "                hi += Hij * bv[j]\n",
    "            end\n",
    "            dvds[i] = hi / 2a\n",
    "            dsdv[i] = dvds[i]\n",
    "            @inbounds for j = 1:i\n",
    "                vij = v[i] * v[j]\n",
    "                H1 = hi * v[j] * (-s/a^3)\n",
    "                H2 = vij * (2*vbv) / a^4 - v[i] * bv[j] / a^2\n",
    "                H3 = -vij / a^2\n",
    "                if i == j\n",
    "                    H2 -= vbv / a^2\n",
    "                    H3 += 1\n",
    "                end\n",
    "                H2 *= s/a\n",
    "                H3 *= bs/a\n",
    "                dvdv[i,j] = (H1 + H2 + H3) / 2\n",
    "                dvdv[j,i] = dvdv[i,j]\n",
    "            end\n",
    "        end\n",
    "        hess[end,end] = 0\n",
    "        return hess\n",
    "    else\n",
    "        throw(ErrorException(\"Invalid second-order cone projection\"))\n",
    "    end\n",
    "end\n",
    "function conic_cost(λ, ρ, x)\n",
    "    c = cone_u(params, x)\n",
    "    λhat = λ + ρ*c\n",
    "    return 0.5*norm(projection(λhat))^2/ρ\n",
    "end\n",
    "function conic_cost_expansion(p::NamedTuple, u, λ, ρ, k)\n",
    "    c = cone_u(params, x)\n",
    "    λhat = λ + ρ*c\n",
    "    ∇c = cone_u_jac(p, u)\n",
    "    G = ∇c'*∇projection(λhat)*projection(λhat)\n",
    "    # H = ∇c'*∇projection(λhat)'*∇projection(λhat)*∇c*ρ\n",
    "    H = ∇c'*(∇projection(λhat)'*∇projection(λhat) + \n",
    "        ∇²projection(λhat, projection(λhat)))*∇c*ρ\n",
    "    return G, H\n",
    "end\n",
    "λ = rand(3)*100\n",
    "ρ = 1e4\n",
    "x = rand(3)*100\n",
    "\n",
    "# G = FiniteDiff.finite_difference_jacobian(_x->conic_cost(λ, ρ, _x),x)\n",
    "# H = FiniteDiff.finite_difference_hessian(_x->conic_cost(λ, ρ, _x),x)\n",
    "G = ForwardDiff.gradient(_x->conic_cost(λ, ρ, _x),x)\n",
    "H = ForwardDiff.hessian(_x->conic_cost(λ, ρ, _x),x)\n",
    "G1, H1 = conic_cost_expansion(params, x, λ, ρ, 1)\n",
    "print(\"Norm gradient difference: \", norm(G1-G))\n",
    "print(\"\\nNorm Hessian difference: \", norm(H1-H))\n",
    "x1 = x+rand(3)*1\n",
    "error1 = conic_cost(λ, ρ, x1) - conic_cost(λ, ρ, x) - G'*(x1-x) - 0.5*(x1-x)'*H*(x1-x)\n",
    "error2 = FiniteDiff.finite_difference_jacobian(_x->conic_cost(λ, ρ, _x),x1) - G' - (x1-x)'*H\n",
    "print(\"\\nValue error: \", error1)\n",
    "print(\"\\nDiff Value error: \", error2)\n",
    "# display(eigvals(H1))\n",
    "# display(eigvals(H))\n",
    "# display(G')\n",
    "# display(G1)\n",
    "# display(H1)\n",
    "# display(G1+H1*x)\n",
    "# H1*x"
   ]
  },
  {
   "cell_type": "code",
   "execution_count": 214,
   "id": "6099cb4b-a2da-4b1b-ba0f-856484092fc4",
   "metadata": {},
   "outputs": [
    {
     "name": "stderr",
     "output_type": "stream",
     "text": [
      "\u001b[32m\u001b[1m  Activating\u001b[22m\u001b[39m environment at `~/SSD/Code/TinyMPC/julia/cone_simple/Project.toml`\n"
     ]
    }
   ],
   "source": [
    "using Pkg\n",
    "Pkg.activate(@__DIR__)\n",
    "Pkg.instantiate()\n",
    "\n",
    "using LinearAlgebra\n",
    "using Random\n",
    "using FiniteDiff\n",
    "using ForwardDiff\n",
    "using Printf"
   ]
  },
  {
   "cell_type": "code",
   "execution_count": 233,
   "id": "6179ca57-b5ff-4274-8391-85d5e728fc16",
   "metadata": {
    "tags": []
   },
   "outputs": [
    {
     "data": {
      "text/plain": [
       "mpc (generic function with 1 method)"
      ]
     },
     "execution_count": 233,
     "metadata": {},
     "output_type": "execute_result"
    }
   ],
   "source": [
    "# -------------------THIS IS ALL ALTRO-------------------------------\n",
    "# This enables goal equality constraints, state and input ineq constraints.\n",
    "function stage_cost(p::NamedTuple,x,u,k)\n",
    "    dx = x - p.Xref[k]\n",
    "    du = u - p.Uref[k]\n",
    "    return 0.5*dx'*p.Q*dx + 0.5*du'*p.R*du\n",
    "end\n",
    "function term_cost(p::NamedTuple,x)\n",
    "    dx = x - p.Xref[p.N]\n",
    "    return 0.5*dx'*p.Qf*dx\n",
    "end\n",
    "function stage_cost_expansion(p::NamedTuple,k)\n",
    "    dx = - p.Xref[k]\n",
    "    du = - p.Uref[k]\n",
    "    return p.Q, p.Q*dx, p.R, p.R*du  # Hessian and gradient\n",
    "end\n",
    "function term_cost_expansion(p::NamedTuple)\n",
    "    dx = - p.Xref[p.N]\n",
    "    return p.Qf, p.Qf*dx\n",
    "end\n",
    "function conic_cost_expansion(p::NamedTuple, u, λc, ρ, k)\n",
    "    λhat = λc # already updated\n",
    "    ∇c = cone_u_jac(p, u)\n",
    "    G = -∇c'*∇projection(λhat)*projection(λhat)\n",
    "    # H = ∇c'*∇projection(λhat)'*∇projection(λhat)*∇c*ρ\n",
    "    H = ∇c'*(∇projection(λhat)'*∇projection(λhat) + ∇²projection(λhat, projection(λhat)))*∇c*ρ\n",
    "    return (G - H*u*0), H\n",
    "end\n",
    "function backward_pass!(params,X,U,P,p,d,K,reg,μ,μx,ρ,λ,λc)\n",
    "    \"\"\"iLQR backward pass with AL. This !function update its parameters\n",
    "    \"\"\"\n",
    "    N = params.N\n",
    "    ΔJ = 0.0    # expected cost reduction\n",
    "\n",
    "    # terminal cost expansion\n",
    "    P[N], p[N] = term_cost_expansion(params) \n",
    "    \n",
    "    if (params.ncx > 0)\n",
    "        # # add AL terms for the state constraint at the final time step\n",
    "        hxv = ineq_con_x(params,X[N])  # h(x) violation  \n",
    "        mask = eval_mask(μx[N],hxv)\n",
    "        ∇hx = ineq_con_x_jac(params,X[N])\n",
    "        # add these into the cost-to-go p and P\n",
    "        p[N]  += ∇hx'*(μx[N] - ρ*(mask * [params.x_max;-params.x_min]))  # multiplier term (1st)\n",
    "        P[N]  += ρ*∇hx'*mask*∇hx                # penalty term (2nd)\n",
    "    end\n",
    "    \n",
    "    if (params.ncg > 0)\n",
    "        # add AL terms for goal constraint \n",
    "        ∇hx = diagm(ones(params.nx))\n",
    "        # add these into the CTG p and P (equality active)\n",
    "        p[N]  += ∇hx'*(λ - ρ*params.Xref[N])   \n",
    "        P[N]  += ρ*∇hx'∇hx\n",
    "    end\n",
    "    \n",
    "    # iterate from N-1 to 1 backwards\n",
    "    for k = (N-1):(-1):1\n",
    "        # dynamics jacobians (linearization about previous iterate)\n",
    "        A = ForwardDiff.jacobian(_x -> discrete_dynamics(params,_x,U[k],k),X[k])\n",
    "        B = ForwardDiff.jacobian(_u -> discrete_dynamics(params,X[k],_u,k),U[k])\n",
    "\n",
    "        Sxx,Sx,Suu,Su = stage_cost_expansion(params,k)\n",
    "        \n",
    "        # one-step cost expansion: Q, Q*dx, R, R*du\n",
    "        Sx += A' * (P[k+1]*f + p[k+1]) \n",
    "        Su += B' * (P[k+1]*f + p[k+1]) \n",
    "        Sxx += A'*(P[k+1])*A\n",
    "        Suu += B'*(P[k+1] + reg*I)*B                                     \n",
    "        Sux = B'*(P[k+1])*A  \n",
    "        if (params.ncu > 0)\n",
    "            # control constraints\n",
    "            huv = ineq_con_u(params,U[k])  # calculate h(u) constraint\n",
    "            mask = eval_mask(μ[k],huv)  # choose active\n",
    "            ∇hu = ineq_con_u_jac(params,U[k])\n",
    "            Su  += ∇hu'*(μ[k] - ρ*(mask * [params.u_max;-params.u_min])) # add to cost\n",
    "            Suu += ρ*∇hu'*mask*∇hu\n",
    "        end\n",
    "        if (params.ncx > 0)\n",
    "            # state constraints\n",
    "            hxv = ineq_con_x(params,X[k])\n",
    "            mask = eval_mask(μx[k],hxv)\n",
    "            ∇hx = ineq_con_x_jac(params,X[k])\n",
    "            Sx  += ∇hx'*(μx[k] - ρ*(mask * [params.x_max;-params.x_min]))\n",
    "            Sxx += ρ*∇hx'*mask*∇hx\n",
    "        end\n",
    "        if (params.ncu_cone > 0)\n",
    "            # conic constraints\n",
    "            Qu, Quu = conic_cost_expansion(params, U[k], λc[k], ρ*cone_scale, k)\n",
    "            # display(Quu)\n",
    "            Su += Qu\n",
    "            Suu += Quu\n",
    "        end\n",
    "        \n",
    "        # Calculate Gains\n",
    "        # if isposdef(Suu) == 0\n",
    "        #     for i = 1:10\n",
    "        #         Suu += reg*I\n",
    "        #         if isposdef(Suu) == 1\n",
    "        #             break\n",
    "        #         end\n",
    "        #     end\n",
    "        # end\n",
    "            \n",
    "        F = cholesky(Symmetric(Suu))\n",
    "        d[k] = F\\Su\n",
    "        K[k] = F\\Sux\n",
    "\n",
    "        # Cost-to-go Recurrence (PSD stabilizing version, last term)\n",
    "        P[k] = Sxx + K[k]'*Suu*K[k] - 2*K[k]'*Sux\n",
    "        p[k] = Sx + K[k]'*Suu*d[k] - K[k]'*Su - Sux'*d[k]\n",
    "        ΔJ += Su'*d[k]\n",
    "    end\n",
    "\n",
    "    return ΔJ  # but also change params\n",
    "end\n",
    "function forward_pass!(params,X,U,K,d,ΔJ,Xn,Un,μ,μx,ρ,λ; \n",
    "                        max_linesearch_iters = 20)\n",
    "    \"\"\"iLQR forward pass and line-search\n",
    "    This !function update its parameters\n",
    "    \"\"\"\n",
    "    N = params.N\n",
    "        # Forward Rollout\n",
    "        for k = 1:(N-1)\n",
    "            Un[k] = - d[k] - K[k]*Xn[k] \n",
    "            Xn[k+1] = discrete_dynamics(params,Xn[k],Un[k],k)\n",
    "        end\n",
    "    X .= Xn\n",
    "    U .= Un\n",
    "    return 0, 0\n",
    "end\n",
    "function eval_mask(μv,huv)  \n",
    "    # Extract active inequality constraints\n",
    "    # active set mask\n",
    "    mask = Diagonal(zeros(length(huv)))\n",
    "    for i = 1:length(huv)\n",
    "        mask[i,i] = (μv[i] > 0 || huv[i] > 0)\n",
    "    end\n",
    "    mask\n",
    "end\n",
    "function mpc(params,X,U,P,p,K,d,Xn,Un;atol=1e-4,max_iters = 20,verbose = true,ρ=1,ρ_max = 1e8,ϕ=10)\n",
    "\n",
    "    # first check the sizes of everything\n",
    "    # @assert length(X) == params.N\n",
    "    # @assert length(U) == params.N-1\n",
    "    # @assert length(X[1]) == params.nx\n",
    "    # @assert length(U[1]) == params.nu\n",
    "\n",
    "    # initial rollout\n",
    "    N = params.N\n",
    "    for i = 1:N-1\n",
    "        X[i+1] = discrete_dynamics(params,X[i],U[i],i)\n",
    "    end\n",
    "\n",
    "    reg_min = 1e-8\n",
    "    reg = reg_min\n",
    "\n",
    "    μ = [zeros(params.ncu) for i = 1:N-1]   # input constraints\n",
    "\n",
    "    μx = [zeros(params.ncx) for i = 1:N]    # state constraints\n",
    "\n",
    "    λ = zeros(params.nx)    # goal constraint\n",
    "\n",
    "    λc = [zeros(params.ncu_cone) for i = 1:N-1]   # goal constraint\n",
    "    \n",
    "    # Inner loop to solve unconstrained problem (Riccati)\n",
    "    for iter = 1:max_iters\n",
    "        \n",
    "        J = 0.0\n",
    "        ΔJ = 0.0\n",
    "        α = 1.0\n",
    "        for i = 1:1\n",
    "            ΔJ = backward_pass!(params,X,U,P,p,d,K,reg,μ,μx,ρ,λ,λc)\n",
    "            J, α = forward_pass!(params,X,U,K,d,ΔJ,Xn,Un,μ,μx,ρ,λ)\n",
    "        end\n",
    "\n",
    "        if verbose\n",
    "            if rem(iter-1,10)==0\n",
    "                @printf \"iter     J           ΔJ        |d|         α        reg         ρ\\n\"\n",
    "                @printf \"---------------------------------------------------------------------\\n\"\n",
    "            end\n",
    "            @printf(\"%3d   %10.3e  %9.2e  %9.2e  %6.4f   %9.2e   %9.2e\\n\",\n",
    "              iter, J, ΔJ, 0, α, reg, ρ)\n",
    "        end\n",
    "        # update multipliers and check constraint violation, max of all\n",
    "        convio = 0  \n",
    "        \n",
    "        if (params.ncu > 0)\n",
    "            # control constraints (inequality)\n",
    "            for k = 1:N-1\n",
    "                huv = ineq_con_u(params,U[k])\n",
    "                mask = eval_mask(μ[k],huv)\n",
    "                # update dual\n",
    "                convio = max(convio,norm(huv + abs.(huv),Inf))\n",
    "                μ[k] = max.(0,μ[k] - ρ*(mask * [params.u_max;-params.u_min]))\n",
    "            end\n",
    "        end\n",
    "        if (params.ncx > 0)\n",
    "            # state constraints (inequality)\n",
    "            for k = 1:N\n",
    "                hxv = ineq_con_x(params,X[k])\n",
    "                mask = eval_mask(μx[k],hxv)\n",
    "                # update dual\n",
    "                convio = max(convio,norm(hxv + abs.(hxv),Inf))\n",
    "                μx[k] = max.(0,μx[k] - ρ*(mask * [params.x_max;-params.x_min]))                \n",
    "            end\n",
    "        end\n",
    "        if (params.ncu_cone > 0)\n",
    "            # conic constraints \n",
    "            if verbose\n",
    "                print(\"update cone\\n\")\n",
    "            end            \n",
    "            for k = 1:N-1\n",
    "                # update dual\n",
    "                Uc = cone_u(params, U[k])\n",
    "                huc = norm(Uc[1:2]) - Uc[3]\n",
    "                convio = max(convio, norm(huc + abs.(huc),Inf))\n",
    "                λc[k] = projection(λc[k] - Uc*cone_scale*ρ)\n",
    "                # display(λc[k])\n",
    "            end\n",
    "        end\n",
    "        if (params.ncg > 0)\n",
    "            # goal constraint (equality)\n",
    "            hxv = X[N] - params.Xref[N]\n",
    "            λ .-= ρ*params.Xref[N]\n",
    "            convio = max(convio, norm(hxv,Inf))\n",
    "        end\n",
    "        \n",
    "        ρ *= ϕ  # update penalty\n",
    "        \n",
    "        if verbose\n",
    "            @show convio\n",
    "        end\n",
    "        if convio < atol  # if terminal condition with contraint violation\n",
    "            # print(\"Our solver says SUCCESS\\n\") # @info \"success!\"\n",
    "            return U[1]\n",
    "        end\n",
    "        if ρ > ρ_max\n",
    "            print(\"Our solver reachs MAX PENALTY\\n\")\n",
    "            return U[1]\n",
    "        end\n",
    "    end\n",
    "    print(\"Our solver says INFEASIBLE and MAX ITER\\n\")\n",
    "    return U[1]\n",
    "end\n",
    "#----------------------ALTRO DONE --------------------------"
   ]
  },
  {
   "cell_type": "code",
   "execution_count": 234,
   "id": "ff9a97a1-b963-4f01-9223-eee0c5682b7d",
   "metadata": {
    "tags": []
   },
   "outputs": [
    {
     "data": {
      "text/plain": [
       "∇²projection (generic function with 1 method)"
      ]
     },
     "execution_count": 234,
     "metadata": {},
     "output_type": "execute_result"
    }
   ],
   "source": [
    "# =============================\n",
    "# Example problem formulation and solve\n",
    "# =============================\n",
    "\n",
    "# ---------------------THIS IS WHAT YOU NEED TO INPUT--------\n",
    "A = [1.0 0.0 0.0 0.05 0.0 0.0; \n",
    "    0.0 1.0 0.0 0.0 0.05 0.0; \n",
    "    0.0 0.0 1.0 0.0 0.0 0.05; \n",
    "    0.0 0.0 0.0 1.0 0.0 0.0; \n",
    "    0.0 0.0 0.0 0.0 1.0 0.0; \n",
    "    0.0 0.0 0.0 0.0 0.0 1.0]\n",
    "B = [0.000125 0.0 0.0; \n",
    "    0.0 0.000125 0.0;\n",
    "    0.0 0.0 0.000125; \n",
    "    0.005 0.0 0.0; \n",
    "    0.0 0.005 0.0; \n",
    "    0.0 0.0 0.005]\n",
    "f = [0.0, 0.0, -0.0122625, 0.0, 0.0, -0.4905]\n",
    "function discrete_dynamics(p::NamedTuple,x,u,k)\n",
    "    A = [1.0 0.0 0.0 0.05 0.0 0.0; \n",
    "        0.0 1.0 0.0 0.0 0.05 0.0; \n",
    "        0.0 0.0 1.0 0.0 0.0 0.05; \n",
    "        0.0 0.0 0.0 1.0 0.0 0.0; \n",
    "        0.0 0.0 0.0 0.0 1.0 0.0; \n",
    "        0.0 0.0 0.0 0.0 0.0 1.0]\n",
    "    B = [0.000125 0.0 0.0; \n",
    "        0.0 0.000125 0.0;\n",
    "        0.0 0.0 0.000125; \n",
    "        0.005 0.0 0.0; \n",
    "        0.0 0.005 0.0; \n",
    "        0.0 0.0 0.005]\n",
    "    f = [0.0, 0.0, -0.0122625, 0.0, 0.0, -0.4905]\n",
    "    return A*x + B*u + f\n",
    "end\n",
    "function ineq_con_x(p,x)\n",
    "    [x-p.x_max;-x + p.x_min]\n",
    "end\n",
    "function ineq_con_u(p,u)\n",
    "    [u-p.u_max;-u + p.u_min]\n",
    "end\n",
    "function cone_u(p, u)\n",
    "    [p.A_cone*u;p.c_cone'*u]\n",
    "end\n",
    "function cone_u_jac(p, u)\n",
    "    J = zeros(p.nu, p.nu)\n",
    "    J[1:end-1,1:end] .= p.A_cone\n",
    "    J[end,1:end] .= p.c_cone\n",
    "    return J\n",
    "end\n",
    "function ineq_con_u_jac(params,u)\n",
    "    ForwardDiff.jacobian(_u -> ineq_con_u(params,_u), u)\n",
    "end\n",
    "function ineq_con_x_jac(p,x)\n",
    "    ForwardDiff.jacobian(_x -> ineq_con_x(p,_x),x)\n",
    "end\n",
    "function projection(x)\n",
    "    n = length(x)\n",
    "    s = x[end]\n",
    "    v = view(x,1:n-1)\n",
    "    a = norm(v)\n",
    "    if a <= -s  # below the cone\n",
    "        return zero(x)\n",
    "    elseif a <= s  # in the code\n",
    "        return x\n",
    "    elseif a >= abs(s)  # outside the cone\n",
    "        return 0.5 * (1 + s/a) * [v; a] \n",
    "    end\n",
    "end\n",
    "function ∇projection(x)\n",
    "    n = length(x)\n",
    "    J = zeros(eltype(x),n,n)\n",
    "    s = x[end]\n",
    "    v = view(x,1:n-1)\n",
    "    a = norm(v)\n",
    "    if a <= -s\n",
    "        return J  # zeros\n",
    "    elseif a <= s\n",
    "        J .= I(n)  \n",
    "        return J  # identity\n",
    "    elseif a >= abs(s)\n",
    "        c = 0.5 * (1 + s/a)\n",
    "\n",
    "        # dvdv ok!\n",
    "        for i = 1:n-1, j = 1:n-1\n",
    "            J[i,j] = -0.5*s/a^3 * v[i] * v[j]\n",
    "            if i == j\n",
    "                J[i,j] += c\n",
    "            end\n",
    "        end\n",
    "\n",
    "        # dvds ok!\n",
    "        for i = 1:n-1\n",
    "            J[i,n] = 0.5 * v[i] / a\n",
    "        end\n",
    "\n",
    "        # dsdv ok!\n",
    "        for i = 1:n-1\n",
    "            J[n,i] = ((-0.5*s/a^2) + c/a) * v[i]\n",
    "        end\n",
    "        J[n,n] = 0.5  # ok\n",
    "        return J\n",
    "    else\n",
    "        error(\"Invalid second-order cone projection.\")\n",
    "    end\n",
    "    return J\n",
    "end\n",
    "function ∇²projection(x, b)\n",
    "    # x is lamda_bar, b is projection(lambda_bar)\n",
    "    n = length(x)\n",
    "    hess = zeros(eltype(x),n,n)\n",
    "    v = view(x, 1:n-1)\n",
    "    bv = view(b, 1:n-1)\n",
    "\n",
    "    # @assert size(hess) == (n+1,n+1)\n",
    "    s = x[end]\n",
    "    bs = b[end]\n",
    "    a =  norm(v)\n",
    "    vbv = dot(v,bv)\n",
    "\n",
    "    if a <= -s\n",
    "        return hess .= 0\n",
    "    elseif a <= s\n",
    "        return hess .= 0\n",
    "    elseif a > abs(s)\n",
    "        # Original equations from chain rule\n",
    "        # dvdv = -s/norm(v)^2/norm(v)*(I - (v*v')/(v'v))*bv*v' + \n",
    "        #     s/norm(v)*((v*(v'bv))/(v'v)^2 * 2v' - (I*(v'bv) + v*bv')/(v'v)) + \n",
    "        #     bs/norm(v)*(I - (v*v')/(v'v))\n",
    "        # dvds = 1/norm(v)*(I - (v*v')/(v'v))*bv;\n",
    "        # # display(dvds)\n",
    "        # # display(dvdv)\n",
    "        # hess[1:n-1,1:n-1] .= dvdv*0.5\n",
    "        # hess[1:n-1,n] .= dvds*0.5\n",
    "        # hess[n:n,1:n-1] .= 0.5*dvds'\n",
    "        # hess[n,n] = 0\n",
    "        # return hess\n",
    "\n",
    "        # The following is just an unrolled version of the above\n",
    "        n = n - 1\n",
    "        dvdv = view(hess, 1:n, 1:n)\n",
    "        dvds = view(hess, 1:n, n+1)\n",
    "        dsdv = view(hess, n+1, 1:n)\n",
    "        @inbounds for i = 1:n\n",
    "            hi = 0\n",
    "            @inbounds for j = 1:n\n",
    "                Hij = -v[i]*v[j] / a^2\n",
    "                if i == j\n",
    "                    Hij += 1\n",
    "                end\n",
    "                hi += Hij * bv[j]\n",
    "            end\n",
    "            dvds[i] = hi / 2a\n",
    "            dsdv[i] = dvds[i]\n",
    "            @inbounds for j = 1:i\n",
    "                vij = v[i] * v[j]\n",
    "                H1 = hi * v[j] * (-s/a^3)\n",
    "                H2 = vij * (2*vbv) / a^4 - v[i] * bv[j] / a^2\n",
    "                H3 = -vij / a^2\n",
    "                if i == j\n",
    "                    H2 -= vbv / a^2\n",
    "                    H3 += 1\n",
    "                end\n",
    "                H2 *= s/a\n",
    "                H3 *= bs/a\n",
    "                dvdv[i,j] = (H1 + H2 + H3) / 2\n",
    "                dvdv[j,i] = dvdv[i,j]\n",
    "            end\n",
    "        end\n",
    "        hess[end,end] = 0\n",
    "        return hess\n",
    "    else\n",
    "        throw(ErrorException(\"Invalid second-order cone projection\"))\n",
    "    end\n",
    "end"
   ]
  },
  {
   "cell_type": "code",
   "execution_count": 248,
   "id": "f4edd7a6-7756-43ee-a37b-f91abdd18650",
   "metadata": {},
   "outputs": [
    {
     "name": "stdout",
     "output_type": "stream",
     "text": [
      "iter     J           ΔJ        |d|         α        reg         ρ\n",
      "---------------------------------------------------------------------\n",
      "  1    0.000e+00   3.56e+06   0.00e+00  0.0000    1.00e-08    1.00e+00\n",
      "update cone\n",
      "convio = 29.899759669898994\n",
      "  2    0.000e+00   3.60e+06   0.00e+00  0.0000    1.00e-08    1.00e+01\n",
      "update cone\n",
      "convio = 29.3319637774497\n",
      "  3    0.000e+00   3.82e+06   0.00e+00  0.0000    1.00e-08    1.00e+02\n",
      "update cone\n",
      "convio = 25.16204518205809\n",
      "  4    0.000e+00   3.74e+06   0.00e+00  0.0000    1.00e-08    1.00e+03\n",
      "update cone\n",
      "convio = 11.43586560822942\n",
      "  5    0.000e+00   3.19e+06   0.00e+00  0.0000    1.00e-08    1.00e+04\n",
      "update cone\n",
      "convio = 1.8073307857280299\n",
      "  6    0.000e+00   3.06e+06   0.00e+00  0.0000    1.00e-08    1.00e+05\n",
      "update cone\n",
      "convio = 0.6230915406263442\n",
      "  7    0.000e+00   3.25e+06   0.00e+00  0.0000    1.00e-08    1.00e+06\n",
      "update cone\n",
      "convio = 1.5491365719587087\n",
      "  8    0.000e+00   5.46e+06   0.00e+00  0.0000    1.00e-08    1.00e+07\n",
      "update cone\n",
      "convio = 1.2630547827957912\n",
      "  9    0.000e+00   2.72e+07   0.00e+00  0.0000    1.00e-08    1.00e+08\n",
      "update cone\n",
      "convio = 1.5045964897038822\n",
      "Our solver reachs MAX PENALTY\n"
     ]
    },
    {
     "data": {
      "image/svg+xml": "<?xml version=\"1.0\" encoding=\"utf-8\"?>\n<svg xmlns=\"http://www.w3.org/2000/svg\" xmlns:xlink=\"http://www.w3.org/1999/xlink\" width=\"600\" height=\"400\" viewBox=\"0 0 2400 1600\">\n<defs>\n  <clipPath id=\"clip670\">\n    <rect x=\"0\" y=\"0\" width=\"2400\" height=\"1600\"/>\n  </clipPath>\n</defs>\n<path clip-path=\"url(#clip670)\" d=\"M0 1600 L2400 1600 L2400 0 L0 0  Z\" fill=\"#ffffff\" fill-rule=\"evenodd\" fill-opacity=\"1\"/>\n<defs>\n  <clipPath id=\"clip671\">\n    <rect x=\"480\" y=\"0\" width=\"1681\" height=\"1600\"/>\n  </clipPath>\n</defs>\n<path clip-path=\"url(#clip670)\" d=\"M210.977 1423.18 L2352.76 1423.18 L2352.76 123.472 L210.977 123.472  Z\" fill=\"#ffffff\" fill-rule=\"evenodd\" fill-opacity=\"1\"/>\n<defs>\n  <clipPath id=\"clip672\">\n    <rect x=\"210\" y=\"123\" width=\"2143\" height=\"1301\"/>\n  </clipPath>\n</defs>\n<polyline clip-path=\"url(#clip672)\" style=\"stroke:#000000; stroke-linecap:round; stroke-linejoin:round; stroke-width:2; stroke-opacity:0.1; fill:none\" points=\"271.594,1423.18 271.594,123.472 \"/>\n<polyline clip-path=\"url(#clip672)\" style=\"stroke:#000000; stroke-linecap:round; stroke-linejoin:round; stroke-width:2; stroke-opacity:0.1; fill:none\" points=\"945.109,1423.18 945.109,123.472 \"/>\n<polyline clip-path=\"url(#clip672)\" style=\"stroke:#000000; stroke-linecap:round; stroke-linejoin:round; stroke-width:2; stroke-opacity:0.1; fill:none\" points=\"1618.62,1423.18 1618.62,123.472 \"/>\n<polyline clip-path=\"url(#clip672)\" style=\"stroke:#000000; stroke-linecap:round; stroke-linejoin:round; stroke-width:2; stroke-opacity:0.1; fill:none\" points=\"2292.14,1423.18 2292.14,123.472 \"/>\n<polyline clip-path=\"url(#clip670)\" style=\"stroke:#000000; stroke-linecap:round; stroke-linejoin:round; stroke-width:4; stroke-opacity:1; fill:none\" points=\"210.977,1423.18 2352.76,1423.18 \"/>\n<polyline clip-path=\"url(#clip670)\" style=\"stroke:#000000; stroke-linecap:round; stroke-linejoin:round; stroke-width:4; stroke-opacity:1; fill:none\" points=\"271.594,1423.18 271.594,1404.28 \"/>\n<polyline clip-path=\"url(#clip670)\" style=\"stroke:#000000; stroke-linecap:round; stroke-linejoin:round; stroke-width:4; stroke-opacity:1; fill:none\" points=\"945.109,1423.18 945.109,1404.28 \"/>\n<polyline clip-path=\"url(#clip670)\" style=\"stroke:#000000; stroke-linecap:round; stroke-linejoin:round; stroke-width:4; stroke-opacity:1; fill:none\" points=\"1618.62,1423.18 1618.62,1404.28 \"/>\n<polyline clip-path=\"url(#clip670)\" style=\"stroke:#000000; stroke-linecap:round; stroke-linejoin:round; stroke-width:4; stroke-opacity:1; fill:none\" points=\"2292.14,1423.18 2292.14,1404.28 \"/>\n<path clip-path=\"url(#clip670)\" d=\"M271.594 1454.1 Q267.983 1454.1 266.154 1457.66 Q264.348 1461.2 264.348 1468.33 Q264.348 1475.44 266.154 1479.01 Q267.983 1482.55 271.594 1482.55 Q275.228 1482.55 277.034 1479.01 Q278.862 1475.44 278.862 1468.33 Q278.862 1461.2 277.034 1457.66 Q275.228 1454.1 271.594 1454.1 M271.594 1450.39 Q277.404 1450.39 280.459 1455 Q283.538 1459.58 283.538 1468.33 Q283.538 1477.06 280.459 1481.67 Q277.404 1486.25 271.594 1486.25 Q265.784 1486.25 262.705 1481.67 Q259.649 1477.06 259.649 1468.33 Q259.649 1459.58 262.705 1455 Q265.784 1450.39 271.594 1450.39 Z\" fill=\"#000000\" fill-rule=\"evenodd\" fill-opacity=\"1\" /><path clip-path=\"url(#clip670)\" d=\"M935.387 1451.02 L953.743 1451.02 L953.743 1454.96 L939.669 1454.96 L939.669 1463.43 Q940.688 1463.08 941.706 1462.92 Q942.725 1462.73 943.743 1462.73 Q949.53 1462.73 952.91 1465.9 Q956.29 1469.08 956.29 1474.49 Q956.29 1480.07 952.817 1483.17 Q949.345 1486.25 943.026 1486.25 Q940.85 1486.25 938.581 1485.88 Q936.336 1485.51 933.929 1484.77 L933.929 1480.07 Q936.012 1481.2 938.234 1481.76 Q940.456 1482.32 942.933 1482.32 Q946.938 1482.32 949.276 1480.21 Q951.614 1478.1 951.614 1474.49 Q951.614 1470.88 949.276 1468.77 Q946.938 1466.67 942.933 1466.67 Q941.058 1466.67 939.183 1467.08 Q937.331 1467.5 935.387 1468.38 L935.387 1451.02 Z\" fill=\"#000000\" fill-rule=\"evenodd\" fill-opacity=\"1\" /><path clip-path=\"url(#clip670)\" d=\"M1593.31 1481.64 L1600.95 1481.64 L1600.95 1455.28 L1592.64 1456.95 L1592.64 1452.69 L1600.9 1451.02 L1605.58 1451.02 L1605.58 1481.64 L1613.22 1481.64 L1613.22 1485.58 L1593.31 1485.58 L1593.31 1481.64 Z\" fill=\"#000000\" fill-rule=\"evenodd\" fill-opacity=\"1\" /><path clip-path=\"url(#clip670)\" d=\"M1632.66 1454.1 Q1629.05 1454.1 1627.22 1457.66 Q1625.42 1461.2 1625.42 1468.33 Q1625.42 1475.44 1627.22 1479.01 Q1629.05 1482.55 1632.66 1482.55 Q1636.3 1482.55 1638.1 1479.01 Q1639.93 1475.44 1639.93 1468.33 Q1639.93 1461.2 1638.1 1457.66 Q1636.3 1454.1 1632.66 1454.1 M1632.66 1450.39 Q1638.47 1450.39 1641.53 1455 Q1644.61 1459.58 1644.61 1468.33 Q1644.61 1477.06 1641.53 1481.67 Q1638.47 1486.25 1632.66 1486.25 Q1626.85 1486.25 1623.77 1481.67 Q1620.72 1477.06 1620.72 1468.33 Q1620.72 1459.58 1623.77 1455 Q1626.85 1450.39 1632.66 1450.39 Z\" fill=\"#000000\" fill-rule=\"evenodd\" fill-opacity=\"1\" /><path clip-path=\"url(#clip670)\" d=\"M2267.32 1481.64 L2274.96 1481.64 L2274.96 1455.28 L2266.65 1456.95 L2266.65 1452.69 L2274.92 1451.02 L2279.59 1451.02 L2279.59 1481.64 L2287.23 1481.64 L2287.23 1485.58 L2267.32 1485.58 L2267.32 1481.64 Z\" fill=\"#000000\" fill-rule=\"evenodd\" fill-opacity=\"1\" /><path clip-path=\"url(#clip670)\" d=\"M2296.72 1451.02 L2315.08 1451.02 L2315.08 1454.96 L2301.01 1454.96 L2301.01 1463.43 Q2302.02 1463.08 2303.04 1462.92 Q2304.06 1462.73 2305.08 1462.73 Q2310.87 1462.73 2314.25 1465.9 Q2317.63 1469.08 2317.63 1474.49 Q2317.63 1480.07 2314.15 1483.17 Q2310.68 1486.25 2304.36 1486.25 Q2302.19 1486.25 2299.92 1485.88 Q2297.67 1485.51 2295.26 1484.77 L2295.26 1480.07 Q2297.35 1481.2 2299.57 1481.76 Q2301.79 1482.32 2304.27 1482.32 Q2308.27 1482.32 2310.61 1480.21 Q2312.95 1478.1 2312.95 1474.49 Q2312.95 1470.88 2310.61 1468.77 Q2308.27 1466.67 2304.27 1466.67 Q2302.39 1466.67 2300.52 1467.08 Q2298.67 1467.5 2296.72 1468.38 L2296.72 1451.02 Z\" fill=\"#000000\" fill-rule=\"evenodd\" fill-opacity=\"1\" /><path clip-path=\"url(#clip670)\" d=\"M1169.32 1522.27 L1169.32 1532.4 L1181.38 1532.4 L1181.38 1536.95 L1169.32 1536.95 L1169.32 1556.3 Q1169.32 1560.66 1170.5 1561.9 Q1171.71 1563.14 1175.37 1563.14 L1181.38 1563.14 L1181.38 1568.04 L1175.37 1568.04 Q1168.59 1568.04 1166.01 1565.53 Q1163.43 1562.98 1163.43 1556.3 L1163.43 1536.95 L1159.14 1536.95 L1159.14 1532.4 L1163.43 1532.4 L1163.43 1522.27 L1169.32 1522.27 Z\" fill=\"#000000\" fill-rule=\"evenodd\" fill-opacity=\"1\" /><path clip-path=\"url(#clip670)\" d=\"M1189.09 1532.4 L1194.94 1532.4 L1194.94 1568.04 L1189.09 1568.04 L1189.09 1532.4 M1189.09 1518.52 L1194.94 1518.52 L1194.94 1525.93 L1189.09 1525.93 L1189.09 1518.52 Z\" fill=\"#000000\" fill-rule=\"evenodd\" fill-opacity=\"1\" /><path clip-path=\"url(#clip670)\" d=\"M1234.95 1539.24 Q1237.15 1535.29 1240.2 1533.41 Q1243.26 1531.54 1247.4 1531.54 Q1252.97 1531.54 1255.99 1535.45 Q1259.01 1539.33 1259.01 1546.53 L1259.01 1568.04 L1253.13 1568.04 L1253.13 1546.72 Q1253.13 1541.59 1251.31 1539.11 Q1249.5 1536.63 1245.77 1536.63 Q1241.22 1536.63 1238.58 1539.65 Q1235.94 1542.68 1235.94 1547.9 L1235.94 1568.04 L1230.05 1568.04 L1230.05 1546.72 Q1230.05 1541.56 1228.24 1539.11 Q1226.42 1536.63 1222.63 1536.63 Q1218.15 1536.63 1215.5 1539.68 Q1212.86 1542.71 1212.86 1547.9 L1212.86 1568.04 L1206.97 1568.04 L1206.97 1532.4 L1212.86 1532.4 L1212.86 1537.93 Q1214.87 1534.66 1217.67 1533.1 Q1220.47 1531.54 1224.32 1531.54 Q1228.2 1531.54 1230.91 1533.51 Q1233.65 1535.48 1234.95 1539.24 Z\" fill=\"#000000\" fill-rule=\"evenodd\" fill-opacity=\"1\" /><path clip-path=\"url(#clip670)\" d=\"M1301.19 1548.76 L1301.19 1551.62 L1274.26 1551.62 Q1274.64 1557.67 1277.89 1560.85 Q1281.17 1564 1286.99 1564 Q1290.36 1564 1293.52 1563.17 Q1296.7 1562.35 1299.82 1560.69 L1299.82 1566.23 Q1296.67 1567.57 1293.36 1568.27 Q1290.05 1568.97 1286.64 1568.97 Q1278.11 1568.97 1273.11 1564 Q1268.15 1559.04 1268.15 1550.57 Q1268.15 1541.82 1272.86 1536.69 Q1277.6 1531.54 1285.62 1531.54 Q1292.82 1531.54 1296.99 1536.18 Q1301.19 1540.8 1301.19 1548.76 M1295.33 1547.04 Q1295.27 1542.23 1292.62 1539.37 Q1290.01 1536.5 1285.69 1536.5 Q1280.78 1536.5 1277.82 1539.27 Q1274.9 1542.04 1274.45 1547.07 L1295.33 1547.04 Z\" fill=\"#000000\" fill-rule=\"evenodd\" fill-opacity=\"1\" /><path clip-path=\"url(#clip670)\" d=\"M1345.59 1518.58 Q1341.32 1525.9 1339.25 1533.06 Q1337.18 1540.23 1337.18 1547.58 Q1337.18 1554.93 1339.25 1562.16 Q1341.35 1569.35 1345.59 1576.64 L1340.49 1576.64 Q1335.72 1569.16 1333.33 1561.93 Q1330.98 1554.71 1330.98 1547.58 Q1330.98 1540.48 1333.33 1533.29 Q1335.69 1526.09 1340.49 1518.58 L1345.59 1518.58 Z\" fill=\"#000000\" fill-rule=\"evenodd\" fill-opacity=\"1\" /><path clip-path=\"url(#clip670)\" d=\"M1379.68 1533.45 L1379.68 1538.98 Q1377.19 1537.71 1374.52 1537.07 Q1371.85 1536.44 1368.98 1536.44 Q1364.62 1536.44 1362.42 1537.77 Q1360.26 1539.11 1360.26 1541.79 Q1360.26 1543.82 1361.82 1545 Q1363.38 1546.15 1368.09 1547.2 L1370.1 1547.64 Q1376.33 1548.98 1378.94 1551.43 Q1381.59 1553.85 1381.59 1558.21 Q1381.59 1563.17 1377.64 1566.07 Q1373.72 1568.97 1366.85 1568.97 Q1363.98 1568.97 1360.87 1568.39 Q1357.78 1567.85 1354.34 1566.74 L1354.34 1560.69 Q1357.59 1562.38 1360.74 1563.24 Q1363.89 1564.07 1366.98 1564.07 Q1371.11 1564.07 1373.34 1562.66 Q1375.57 1561.23 1375.57 1558.65 Q1375.57 1556.27 1373.95 1554.99 Q1372.36 1553.72 1366.91 1552.54 L1364.88 1552.07 Q1359.43 1550.92 1357.01 1548.56 Q1354.59 1546.18 1354.59 1542.04 Q1354.59 1537.01 1358.16 1534.27 Q1361.72 1531.54 1368.28 1531.54 Q1371.53 1531.54 1374.39 1532.01 Q1377.26 1532.49 1379.68 1533.45 Z\" fill=\"#000000\" fill-rule=\"evenodd\" fill-opacity=\"1\" /><path clip-path=\"url(#clip670)\" d=\"M1389.99 1518.58 L1395.08 1518.58 Q1399.86 1526.09 1402.21 1533.29 Q1404.6 1540.48 1404.6 1547.58 Q1404.6 1554.71 1402.21 1561.93 Q1399.86 1569.16 1395.08 1576.64 L1389.99 1576.64 Q1394.22 1569.35 1396.29 1562.16 Q1398.39 1554.93 1398.39 1547.58 Q1398.39 1540.23 1396.29 1533.06 Q1394.22 1525.9 1389.99 1518.58 Z\" fill=\"#000000\" fill-rule=\"evenodd\" fill-opacity=\"1\" /><polyline clip-path=\"url(#clip672)\" style=\"stroke:#000000; stroke-linecap:round; stroke-linejoin:round; stroke-width:2; stroke-opacity:0.1; fill:none\" points=\"210.977,1259.98 2352.76,1259.98 \"/>\n<polyline clip-path=\"url(#clip672)\" style=\"stroke:#000000; stroke-linecap:round; stroke-linejoin:round; stroke-width:2; stroke-opacity:0.1; fill:none\" points=\"210.977,1040.03 2352.76,1040.03 \"/>\n<polyline clip-path=\"url(#clip672)\" style=\"stroke:#000000; stroke-linecap:round; stroke-linejoin:round; stroke-width:2; stroke-opacity:0.1; fill:none\" points=\"210.977,820.089 2352.76,820.089 \"/>\n<polyline clip-path=\"url(#clip672)\" style=\"stroke:#000000; stroke-linecap:round; stroke-linejoin:round; stroke-width:2; stroke-opacity:0.1; fill:none\" points=\"210.977,600.145 2352.76,600.145 \"/>\n<polyline clip-path=\"url(#clip672)\" style=\"stroke:#000000; stroke-linecap:round; stroke-linejoin:round; stroke-width:2; stroke-opacity:0.1; fill:none\" points=\"210.977,380.201 2352.76,380.201 \"/>\n<polyline clip-path=\"url(#clip672)\" style=\"stroke:#000000; stroke-linecap:round; stroke-linejoin:round; stroke-width:2; stroke-opacity:0.1; fill:none\" points=\"210.977,160.256 2352.76,160.256 \"/>\n<polyline clip-path=\"url(#clip670)\" style=\"stroke:#000000; stroke-linecap:round; stroke-linejoin:round; stroke-width:4; stroke-opacity:1; fill:none\" points=\"210.977,1423.18 210.977,123.472 \"/>\n<polyline clip-path=\"url(#clip670)\" style=\"stroke:#000000; stroke-linecap:round; stroke-linejoin:round; stroke-width:4; stroke-opacity:1; fill:none\" points=\"210.977,1259.98 229.875,1259.98 \"/>\n<polyline clip-path=\"url(#clip670)\" style=\"stroke:#000000; stroke-linecap:round; stroke-linejoin:round; stroke-width:4; stroke-opacity:1; fill:none\" points=\"210.977,1040.03 229.875,1040.03 \"/>\n<polyline clip-path=\"url(#clip670)\" style=\"stroke:#000000; stroke-linecap:round; stroke-linejoin:round; stroke-width:4; stroke-opacity:1; fill:none\" points=\"210.977,820.089 229.875,820.089 \"/>\n<polyline clip-path=\"url(#clip670)\" style=\"stroke:#000000; stroke-linecap:round; stroke-linejoin:round; stroke-width:4; stroke-opacity:1; fill:none\" points=\"210.977,600.145 229.875,600.145 \"/>\n<polyline clip-path=\"url(#clip670)\" style=\"stroke:#000000; stroke-linecap:round; stroke-linejoin:round; stroke-width:4; stroke-opacity:1; fill:none\" points=\"210.977,380.201 229.875,380.201 \"/>\n<polyline clip-path=\"url(#clip670)\" style=\"stroke:#000000; stroke-linecap:round; stroke-linejoin:round; stroke-width:4; stroke-opacity:1; fill:none\" points=\"210.977,160.256 229.875,160.256 \"/>\n<path clip-path=\"url(#clip670)\" d=\"M114.26 1260.43 L143.936 1260.43 L143.936 1264.36 L114.26 1264.36 L114.26 1260.43 Z\" fill=\"#000000\" fill-rule=\"evenodd\" fill-opacity=\"1\" /><path clip-path=\"url(#clip670)\" d=\"M154.075 1242.7 L172.431 1242.7 L172.431 1246.63 L158.357 1246.63 L158.357 1255.11 Q159.376 1254.76 160.394 1254.6 Q161.413 1254.41 162.431 1254.41 Q168.218 1254.41 171.598 1257.58 Q174.977 1260.75 174.977 1266.17 Q174.977 1271.75 171.505 1274.85 Q168.033 1277.93 161.714 1277.93 Q159.538 1277.93 157.269 1277.56 Q155.024 1277.19 152.616 1276.45 L152.616 1271.75 Q154.7 1272.88 156.922 1273.44 Q159.144 1273.99 161.621 1273.99 Q165.626 1273.99 167.964 1271.89 Q170.302 1269.78 170.302 1266.17 Q170.302 1262.56 167.964 1260.45 Q165.626 1258.35 161.621 1258.35 Q159.746 1258.35 157.871 1258.76 Q156.019 1259.18 154.075 1260.06 L154.075 1242.7 Z\" fill=\"#000000\" fill-rule=\"evenodd\" fill-opacity=\"1\" /><path clip-path=\"url(#clip670)\" d=\"M163.033 1025.83 Q159.422 1025.83 157.593 1029.4 Q155.788 1032.94 155.788 1040.07 Q155.788 1047.17 157.593 1050.74 Q159.422 1054.28 163.033 1054.28 Q166.667 1054.28 168.473 1050.74 Q170.302 1047.17 170.302 1040.07 Q170.302 1032.94 168.473 1029.4 Q166.667 1025.83 163.033 1025.83 M163.033 1022.13 Q168.843 1022.13 171.899 1026.73 Q174.977 1031.32 174.977 1040.07 Q174.977 1048.79 171.899 1053.4 Q168.843 1057.98 163.033 1057.98 Q157.223 1057.98 154.144 1053.4 Q151.089 1048.79 151.089 1040.07 Q151.089 1031.32 154.144 1026.73 Q157.223 1022.13 163.033 1022.13 Z\" fill=\"#000000\" fill-rule=\"evenodd\" fill-opacity=\"1\" /><path clip-path=\"url(#clip670)\" d=\"M154.075 802.809 L172.431 802.809 L172.431 806.744 L158.357 806.744 L158.357 815.217 Q159.376 814.869 160.394 814.707 Q161.413 814.522 162.431 814.522 Q168.218 814.522 171.598 817.693 Q174.977 820.865 174.977 826.281 Q174.977 831.86 171.505 834.962 Q168.033 838.04 161.714 838.04 Q159.538 838.04 157.269 837.67 Q155.024 837.3 152.616 836.559 L152.616 831.86 Q154.7 832.994 156.922 833.55 Q159.144 834.105 161.621 834.105 Q165.626 834.105 167.964 831.999 Q170.302 829.892 170.302 826.281 Q170.302 822.67 167.964 820.564 Q165.626 818.457 161.621 818.457 Q159.746 818.457 157.871 818.874 Q156.019 819.291 154.075 820.17 L154.075 802.809 Z\" fill=\"#000000\" fill-rule=\"evenodd\" fill-opacity=\"1\" /><path clip-path=\"url(#clip670)\" d=\"M123.681 613.49 L131.32 613.49 L131.32 587.124 L123.01 588.791 L123.01 584.532 L131.274 582.865 L135.95 582.865 L135.95 613.49 L143.589 613.49 L143.589 617.425 L123.681 617.425 L123.681 613.49 Z\" fill=\"#000000\" fill-rule=\"evenodd\" fill-opacity=\"1\" /><path clip-path=\"url(#clip670)\" d=\"M163.033 585.944 Q159.422 585.944 157.593 589.508 Q155.788 593.05 155.788 600.18 Q155.788 607.286 157.593 610.851 Q159.422 614.392 163.033 614.392 Q166.667 614.392 168.473 610.851 Q170.302 607.286 170.302 600.18 Q170.302 593.05 168.473 589.508 Q166.667 585.944 163.033 585.944 M163.033 582.24 Q168.843 582.24 171.899 586.846 Q174.977 591.43 174.977 600.18 Q174.977 608.906 171.899 613.513 Q168.843 618.096 163.033 618.096 Q157.223 618.096 154.144 613.513 Q151.089 608.906 151.089 600.18 Q151.089 591.43 154.144 586.846 Q157.223 582.24 163.033 582.24 Z\" fill=\"#000000\" fill-rule=\"evenodd\" fill-opacity=\"1\" /><path clip-path=\"url(#clip670)\" d=\"M124.677 393.545 L132.316 393.545 L132.316 367.18 L124.005 368.846 L124.005 364.587 L132.269 362.921 L136.945 362.921 L136.945 393.545 L144.584 393.545 L144.584 397.481 L124.677 397.481 L124.677 393.545 Z\" fill=\"#000000\" fill-rule=\"evenodd\" fill-opacity=\"1\" /><path clip-path=\"url(#clip670)\" d=\"M154.075 362.921 L172.431 362.921 L172.431 366.856 L158.357 366.856 L158.357 375.328 Q159.376 374.981 160.394 374.819 Q161.413 374.633 162.431 374.633 Q168.218 374.633 171.598 377.805 Q174.977 380.976 174.977 386.393 Q174.977 391.971 171.505 395.073 Q168.033 398.152 161.714 398.152 Q159.538 398.152 157.269 397.782 Q155.024 397.411 152.616 396.67 L152.616 391.971 Q154.7 393.106 156.922 393.661 Q159.144 394.217 161.621 394.217 Q165.626 394.217 167.964 392.11 Q170.302 390.004 170.302 386.393 Q170.302 382.782 167.964 380.675 Q165.626 378.569 161.621 378.569 Q159.746 378.569 157.871 378.985 Q156.019 379.402 154.075 380.282 L154.075 362.921 Z\" fill=\"#000000\" fill-rule=\"evenodd\" fill-opacity=\"1\" /><path clip-path=\"url(#clip670)\" d=\"M126.899 173.601 L143.218 173.601 L143.218 177.536 L121.274 177.536 L121.274 173.601 Q123.936 170.847 128.519 166.217 Q133.126 161.564 134.306 160.222 Q136.552 157.698 137.431 155.962 Q138.334 154.203 138.334 152.513 Q138.334 149.759 136.39 148.023 Q134.468 146.286 131.367 146.286 Q129.167 146.286 126.714 147.05 Q124.283 147.814 121.505 149.365 L121.505 144.643 Q124.33 143.509 126.783 142.93 Q129.237 142.351 131.274 142.351 Q136.644 142.351 139.839 145.036 Q143.033 147.722 143.033 152.212 Q143.033 154.342 142.223 156.263 Q141.436 158.161 139.329 160.754 Q138.751 161.425 135.649 164.643 Q132.547 167.837 126.899 173.601 Z\" fill=\"#000000\" fill-rule=\"evenodd\" fill-opacity=\"1\" /><path clip-path=\"url(#clip670)\" d=\"M163.033 146.055 Q159.422 146.055 157.593 149.62 Q155.788 153.161 155.788 160.291 Q155.788 167.397 157.593 170.962 Q159.422 174.504 163.033 174.504 Q166.667 174.504 168.473 170.962 Q170.302 167.397 170.302 160.291 Q170.302 153.161 168.473 149.62 Q166.667 146.055 163.033 146.055 M163.033 142.351 Q168.843 142.351 171.899 146.958 Q174.977 151.541 174.977 160.291 Q174.977 169.018 171.899 173.624 Q168.843 178.208 163.033 178.208 Q157.223 178.208 154.144 173.624 Q151.089 169.018 151.089 160.291 Q151.089 151.541 154.144 146.958 Q157.223 142.351 163.033 142.351 Z\" fill=\"#000000\" fill-rule=\"evenodd\" fill-opacity=\"1\" /><path clip-path=\"url(#clip670)\" d=\"M28.3562 756.711 L45.7028 769.602 L64.0042 756.043 L64.0042 762.95 L49.9996 773.326 L64.0042 783.702 L64.0042 790.609 L45.3526 776.763 L28.3562 789.431 L28.3562 782.524 L41.0558 773.071 L28.3562 763.618 L28.3562 756.711 Z\" fill=\"#000000\" fill-rule=\"evenodd\" fill-opacity=\"1\" /><path clip-path=\"url(#clip670)\" d=\"M1054.21 14.0809 L1054.21 22.0612 Q1049.55 19.8332 1045.42 18.7395 Q1041.28 17.6457 1037.44 17.6457 Q1030.75 17.6457 1027.11 20.2383 Q1023.5 22.8309 1023.5 27.611 Q1023.5 31.6214 1025.89 33.6873 Q1028.32 35.7128 1035.05 36.9686 L1039.99 37.9813 Q1049.14 39.7232 1053.48 44.1387 Q1057.85 48.5136 1057.85 55.8863 Q1057.85 64.6767 1051.94 69.2137 Q1046.06 73.7508 1034.68 73.7508 Q1030.39 73.7508 1025.53 72.7785 Q1020.7 71.8063 1015.52 69.9024 L1015.52 61.4765 Q1020.5 64.2716 1025.28 65.6895 Q1030.06 67.1073 1034.68 67.1073 Q1041.69 67.1073 1045.5 64.3527 Q1049.3 61.598 1049.3 56.4939 Q1049.3 52.0379 1046.55 49.5264 Q1043.84 47.0148 1037.6 45.759 L1032.61 44.7868 Q1023.46 42.9639 1019.37 39.075 Q1015.28 35.1862 1015.28 28.2591 Q1015.28 20.2383 1020.91 15.6203 Q1026.58 11.0023 1036.5 11.0023 Q1040.76 11.0023 1045.17 11.7719 Q1049.59 12.5416 1054.21 14.0809 Z\" fill=\"#000000\" fill-rule=\"evenodd\" fill-opacity=\"1\" /><path clip-path=\"url(#clip670)\" d=\"M1077.66 14.324 L1077.66 27.2059 L1093.01 27.2059 L1093.01 32.9987 L1077.66 32.9987 L1077.66 57.6282 Q1077.66 63.1779 1079.16 64.7578 Q1080.7 66.3376 1085.36 66.3376 L1093.01 66.3376 L1093.01 72.576 L1085.36 72.576 Q1076.73 72.576 1073.45 69.3758 Q1070.17 66.1351 1070.17 57.6282 L1070.17 32.9987 L1064.7 32.9987 L1064.7 27.2059 L1070.17 27.2059 L1070.17 14.324 L1077.66 14.324 Z\" fill=\"#000000\" fill-rule=\"evenodd\" fill-opacity=\"1\" /><path clip-path=\"url(#clip670)\" d=\"M1123.44 49.7694 Q1114.4 49.7694 1110.92 51.8354 Q1107.43 53.9013 1107.43 58.8839 Q1107.43 62.8538 1110.03 65.2034 Q1112.66 67.5124 1117.16 67.5124 Q1123.35 67.5124 1127.08 63.1374 Q1130.85 58.7219 1130.85 51.4303 L1130.85 49.7694 L1123.44 49.7694 M1138.3 46.6907 L1138.3 72.576 L1130.85 72.576 L1130.85 65.6895 Q1128.3 69.8214 1124.49 71.8063 Q1120.68 73.7508 1115.17 73.7508 Q1108.2 73.7508 1104.07 69.8619 Q1099.98 65.9325 1099.98 59.3701 Q1099.98 51.7138 1105.09 47.825 Q1110.23 43.9361 1120.4 43.9361 L1130.85 43.9361 L1130.85 43.2069 Q1130.85 38.0623 1127.45 35.2672 Q1124.08 32.4315 1117.97 32.4315 Q1114.08 32.4315 1110.39 33.3632 Q1106.71 34.295 1103.3 36.1584 L1103.3 29.2718 Q1107.39 27.692 1111.24 26.9223 Q1115.09 26.1121 1118.74 26.1121 Q1128.58 26.1121 1133.44 31.2163 Q1138.3 36.3204 1138.3 46.6907 Z\" fill=\"#000000\" fill-rule=\"evenodd\" fill-opacity=\"1\" /><path clip-path=\"url(#clip670)\" d=\"M1161.03 14.324 L1161.03 27.2059 L1176.38 27.2059 L1176.38 32.9987 L1161.03 32.9987 L1161.03 57.6282 Q1161.03 63.1779 1162.53 64.7578 Q1164.07 66.3376 1168.72 66.3376 L1176.38 66.3376 L1176.38 72.576 L1168.72 72.576 Q1160.1 72.576 1156.82 69.3758 Q1153.53 66.1351 1153.53 57.6282 L1153.53 32.9987 L1148.07 32.9987 L1148.07 27.2059 L1153.53 27.2059 L1153.53 14.324 L1161.03 14.324 Z\" fill=\"#000000\" fill-rule=\"evenodd\" fill-opacity=\"1\" /><path clip-path=\"url(#clip670)\" d=\"M1224.99 48.0275 L1224.99 51.6733 L1190.72 51.6733 Q1191.21 59.3701 1195.34 63.421 Q1199.51 67.4314 1206.92 67.4314 Q1211.22 67.4314 1215.23 66.3781 Q1219.28 65.3249 1223.25 63.2184 L1223.25 70.267 Q1219.24 71.9684 1215.03 72.8596 Q1210.81 73.7508 1206.48 73.7508 Q1195.62 73.7508 1189.26 67.4314 Q1182.94 61.1119 1182.94 50.3365 Q1182.94 39.1965 1188.94 32.6746 Q1194.97 26.1121 1205.18 26.1121 Q1214.34 26.1121 1219.64 32.0264 Q1224.99 37.9003 1224.99 48.0275 M1217.54 45.84 Q1217.46 39.7232 1214.1 36.0774 Q1210.77 32.4315 1205.26 32.4315 Q1199.03 32.4315 1195.26 35.9558 Q1191.53 39.4801 1190.96 45.8805 L1217.54 45.84 Z\" fill=\"#000000\" fill-rule=\"evenodd\" fill-opacity=\"1\" /><path clip-path=\"url(#clip670)\" d=\"M1263.92 12.096 L1272.1 12.096 L1272.1 36.8875 L1301.84 36.8875 L1301.84 12.096 L1310.02 12.096 L1310.02 72.576 L1301.84 72.576 L1301.84 43.7741 L1272.1 43.7741 L1272.1 72.576 L1263.92 72.576 L1263.92 12.096 Z\" fill=\"#000000\" fill-rule=\"evenodd\" fill-opacity=\"1\" /><path clip-path=\"url(#clip670)\" d=\"M1325.98 27.2059 L1333.43 27.2059 L1333.43 72.576 L1325.98 72.576 L1325.98 27.2059 M1325.98 9.54393 L1333.43 9.54393 L1333.43 18.9825 L1325.98 18.9825 L1325.98 9.54393 Z\" fill=\"#000000\" fill-rule=\"evenodd\" fill-opacity=\"1\" /><path clip-path=\"url(#clip670)\" d=\"M1377.95 28.5427 L1377.95 35.5912 Q1374.79 33.9709 1371.39 33.1607 Q1367.99 32.3505 1364.34 32.3505 Q1358.79 32.3505 1356 34.0519 Q1353.24 35.7533 1353.24 39.156 Q1353.24 41.7486 1355.23 43.2475 Q1357.21 44.7058 1363.21 46.0426 L1365.76 46.6097 Q1373.7 48.3111 1377.02 51.4303 Q1380.38 54.509 1380.38 60.0587 Q1380.38 66.3781 1375.36 70.0644 Q1370.38 73.7508 1361.63 73.7508 Q1357.98 73.7508 1354.01 73.0216 Q1350.08 72.3329 1345.71 70.9151 L1345.71 63.2184 Q1349.84 65.3654 1353.85 66.4591 Q1357.86 67.5124 1361.79 67.5124 Q1367.06 67.5124 1369.89 65.73 Q1372.73 63.9071 1372.73 60.6258 Q1372.73 57.5877 1370.66 55.9673 Q1368.64 54.3469 1361.71 52.8481 L1359.12 52.2405 Q1352.19 50.7821 1349.11 47.7845 Q1346.03 44.7463 1346.03 39.4801 Q1346.03 33.0797 1350.57 29.5959 Q1355.11 26.1121 1363.45 26.1121 Q1367.58 26.1121 1371.23 26.7198 Q1374.88 27.3274 1377.95 28.5427 Z\" fill=\"#000000\" fill-rule=\"evenodd\" fill-opacity=\"1\" /><path clip-path=\"url(#clip670)\" d=\"M1399.63 14.324 L1399.63 27.2059 L1414.98 27.2059 L1414.98 32.9987 L1399.63 32.9987 L1399.63 57.6282 Q1399.63 63.1779 1401.13 64.7578 Q1402.66 66.3376 1407.32 66.3376 L1414.98 66.3376 L1414.98 72.576 L1407.32 72.576 Q1398.69 72.576 1395.41 69.3758 Q1392.13 66.1351 1392.13 57.6282 L1392.13 32.9987 L1386.66 32.9987 L1386.66 27.2059 L1392.13 27.2059 L1392.13 14.324 L1399.63 14.324 Z\" fill=\"#000000\" fill-rule=\"evenodd\" fill-opacity=\"1\" /><path clip-path=\"url(#clip670)\" d=\"M1442.36 32.4315 Q1436.37 32.4315 1432.88 37.1306 Q1429.4 41.7891 1429.4 49.9314 Q1429.4 58.0738 1432.84 62.7728 Q1436.33 67.4314 1442.36 67.4314 Q1448.32 67.4314 1451.8 62.7323 Q1455.29 58.0333 1455.29 49.9314 Q1455.29 41.8701 1451.8 37.1711 Q1448.32 32.4315 1442.36 32.4315 M1442.36 26.1121 Q1452.09 26.1121 1457.64 32.4315 Q1463.19 38.7509 1463.19 49.9314 Q1463.19 61.0714 1457.64 67.4314 Q1452.09 73.7508 1442.36 73.7508 Q1432.6 73.7508 1427.05 67.4314 Q1421.54 61.0714 1421.54 49.9314 Q1421.54 38.7509 1427.05 32.4315 Q1432.6 26.1121 1442.36 26.1121 Z\" fill=\"#000000\" fill-rule=\"evenodd\" fill-opacity=\"1\" /><path clip-path=\"url(#clip670)\" d=\"M1501.83 34.1734 Q1500.57 33.4443 1499.08 33.1202 Q1497.62 32.7556 1495.84 32.7556 Q1489.52 32.7556 1486.11 36.8875 Q1482.75 40.9789 1482.75 48.6757 L1482.75 72.576 L1475.26 72.576 L1475.26 27.2059 L1482.75 27.2059 L1482.75 34.2544 Q1485.1 30.1225 1488.87 28.1376 Q1492.64 26.1121 1498.02 26.1121 Q1498.79 26.1121 1499.72 26.2337 Q1500.66 26.3147 1501.79 26.5172 L1501.83 34.1734 Z\" fill=\"#000000\" fill-rule=\"evenodd\" fill-opacity=\"1\" /><path clip-path=\"url(#clip670)\" d=\"M1528.53 76.7889 Q1525.37 84.8907 1522.37 87.3618 Q1519.37 89.8329 1514.35 89.8329 L1508.39 89.8329 L1508.39 83.5945 L1512.77 83.5945 Q1515.85 83.5945 1517.55 82.1361 Q1519.25 80.6778 1521.32 75.2496 L1522.65 71.8468 L1504.3 27.2059 L1512.2 27.2059 L1526.38 62.6918 L1540.56 27.2059 L1548.46 27.2059 L1528.53 76.7889 Z\" fill=\"#000000\" fill-rule=\"evenodd\" fill-opacity=\"1\" /><polyline clip-path=\"url(#clip672)\" style=\"stroke:#009af9; stroke-linecap:round; stroke-linejoin:round; stroke-width:4; stroke-opacity:1; fill:none\" points=\"271.594,864.078 278.329,870.676 285.064,877.23 291.799,883.694 298.534,890.072 305.27,896.408 312.005,902.745 318.74,909.038 325.475,915.287 332.21,921.493 338.945,927.657 345.68,933.82 352.416,939.941 359.151,946.02 365.886,952.056 372.621,958.01 379.356,963.88 386.091,969.668 392.827,975.374 399.562,980.999 406.297,986.542 413.032,992.005 419.767,997.389 426.502,1002.69 433.237,1007.92 439.973,1013.06 446.708,1018.13 453.443,1023.12 460.178,1028.04 466.913,1032.88 473.648,1037.64 480.384,1042.32 487.119,1046.94 493.854,1051.47 500.589,1055.94 507.324,1060.33 514.059,1064.64 520.794,1068.89 527.53,1073.06 534.265,1077.16 541,1081.2 547.735,1085.16 554.47,1089.05 561.205,1092.87 567.941,1096.62 574.676,1100.31 581.411,1103.92 588.146,1107.47 594.881,1110.95 601.616,1114.37 608.351,1117.72 615.087,1121.01 621.822,1124.23 628.557,1127.38 635.292,1130.47 642.027,1133.5 648.762,1136.47 655.497,1139.37 662.233,1142.21 668.968,1145 675.703,1147.71 682.438,1150.37 689.173,1152.97 695.908,1155.51 702.644,1157.99 709.379,1160.42 716.114,1162.78 722.849,1165.09 729.584,1167.34 736.319,1169.53 743.054,1171.67 749.79,1173.75 756.525,1175.78 763.26,1177.75 769.995,1179.67 776.73,1181.54 783.465,1183.35 790.201,1185.11 796.936,1186.81 803.671,1188.47 810.406,1190.07 817.141,1191.63 823.876,1193.13 830.611,1194.58 837.347,1195.99 844.082,1197.34 850.817,1198.65 857.552,1199.91 864.287,1201.12 871.022,1202.28 877.758,1203.4 884.493,1204.47 891.228,1205.5 897.963,1206.48 904.698,1207.41 911.433,1208.31 918.168,1209.15 924.904,1209.96 931.639,1210.72 938.374,1211.44 945.109,1212.12 951.844,1212.75 958.579,1213.35 965.314,1213.9 972.05,1214.41 978.785,1214.89 985.52,1215.32 992.255,1215.72 998.99,1216.08 1005.73,1216.4 1012.46,1216.68 1019.2,1216.92 1025.93,1217.13 1032.67,1217.3 1039.4,1217.44 1046.14,1217.54 1052.87,1217.6 1059.61,1217.63 1066.34,1217.63 1073.08,1217.59 1079.81,1217.52 1086.55,1217.42 1093.28,1217.29 1100.02,1217.12 1106.75,1216.92 1113.49,1216.69 1120.22,1216.43 1126.96,1216.14 1133.69,1215.82 1140.43,1215.47 1147.16,1215.09 1153.9,1214.68 1160.63,1214.24 1167.37,1213.78 1174.1,1213.29 1180.84,1212.77 1187.57,1212.23 1194.31,1211.65 1201.04,1211.06 1207.78,1210.44 1214.52,1209.79 1221.25,1209.12 1227.99,1208.42 1234.72,1207.7 1241.46,1206.96 1248.19,1206.19 1254.93,1205.4 1261.66,1204.59 1268.4,1203.76 1275.13,1202.91 1281.87,1202.03 1288.6,1201.14 1295.34,1200.22 1302.07,1199.28 1308.81,1198.33 1315.54,1197.36 1322.28,1196.36 1329.01,1195.35 1335.75,1194.32 1342.48,1193.28 1349.22,1192.21 1355.95,1191.13 1362.69,1190.04 1369.42,1188.92 1376.16,1187.8 1382.89,1186.65 1389.63,1185.49 1396.36,1184.32 1403.1,1183.14 1409.83,1181.93 1416.57,1180.72 1423.3,1179.49 1430.04,1178.25 1436.78,1177 1443.51,1175.74 1450.25,1174.46 1456.98,1173.18 1463.72,1171.88 1470.45,1170.57 1477.19,1169.25 1483.92,1167.93 1490.66,1166.59 1497.39,1165.25 1504.13,1163.89 1510.86,1162.53 1517.6,1161.16 1524.33,1159.78 1531.07,1158.39 1537.8,1157 1544.54,1155.6 1551.27,1154.2 1558.01,1152.79 1564.74,1151.37 1571.48,1149.95 1578.21,1148.53 1584.95,1147.1 1591.68,1145.67 1598.42,1144.23 1605.15,1142.79 1611.89,1141.34 1618.62,1139.9 1625.36,1138.45 1632.09,1137 1638.83,1135.55 1645.56,1134.09 1652.3,1132.64 1659.04,1131.19 1665.77,1129.73 1672.51,1128.28 1679.24,1126.82 1685.98,1125.37 1692.71,1123.92 1699.45,1122.47 1706.18,1121.02 1712.92,1119.57 1719.65,1118.13 1726.39,1116.69 1733.12,1115.25 1739.86,1113.82 1746.59,1112.39 1753.33,1110.96 1760.06,1109.54 1766.8,1108.12 1773.53,1106.71 1780.27,1105.31 1787,1103.91 1793.74,1102.52 1800.47,1101.13 1807.21,1099.75 1813.94,1098.38 1820.68,1097.01 1827.41,1095.66 1834.15,1094.31 1840.88,1092.97 1847.62,1091.64 1854.35,1090.32 1861.09,1089 1867.82,1087.7 1874.56,1086.41 1881.3,1085.13 1888.03,1083.86 1894.77,1082.6 1901.5,1081.35 1908.24,1080.12 1914.97,1078.89 1921.71,1077.68 1928.44,1076.48 1935.18,1075.3 1941.91,1074.13 1948.65,1072.97 1955.38,1071.83 1962.12,1070.7 1968.85,1069.59 1975.59,1068.49 1982.32,1067.4 1989.06,1066.34 1995.79,1065.29 2002.53,1064.25 2009.26,1063.24 2016,1062.23 2022.73,1061.25 2029.47,1060.29 2036.2,1059.34 2042.94,1058.41 2049.67,1057.5 2056.41,1056.61 2063.14,1055.74 2069.88,1054.89 2076.61,1054.06 2083.35,1053.25 2090.08,1052.46 2096.82,1051.69 2103.56,1050.94 2110.29,1050.22 2117.03,1049.51 2123.76,1048.83 2130.5,1048.17 2137.23,1047.54 2143.97,1046.93 2150.7,1046.34 2157.44,1045.77 2164.17,1045.23 2170.91,1044.72 2177.64,1044.23 2184.38,1043.76 2191.11,1043.32 2197.85,1042.91 2204.58,1042.52 2211.32,1042.16 2218.05,1041.83 2224.79,1041.52 2231.52,1041.24 2238.26,1040.99 2244.99,1040.77 2251.73,1040.58 2258.46,1040.41 2265.2,1040.28 2271.93,1040.17 2278.67,1040.09 2285.4,1040.05 2292.14,1040.03 \"/>\n<polyline clip-path=\"url(#clip672)\" style=\"stroke:#e26f46; stroke-linecap:round; stroke-linejoin:round; stroke-width:4; stroke-opacity:1; fill:none\" points=\"271.594,952.056 278.329,947.657 285.064,943.298 291.799,939.02 298.534,934.82 305.27,930.656 312.005,926.493 318.74,922.368 325.475,918.283 332.21,914.235 338.945,910.226 345.68,906.217 352.416,902.246 359.151,898.312 365.886,894.415 372.621,890.592 379.356,886.842 386.091,883.164 392.827,879.559 399.562,876.025 406.297,872.562 413.032,869.17 419.767,865.847 426.502,862.594 433.237,859.409 439.973,856.292 446.708,853.243 453.443,850.262 460.178,847.346 466.913,844.497 473.648,841.713 480.384,838.995 487.119,836.34 493.854,833.749 500.589,831.222 507.324,828.757 514.059,826.355 520.794,824.015 527.53,821.735 534.265,819.516 541,817.358 547.735,815.258 554.47,813.218 561.205,811.237 567.941,809.313 574.676,807.447 581.411,805.638 588.146,803.886 594.881,802.189 601.616,800.548 608.351,798.962 615.087,797.43 621.822,795.952 628.557,794.528 635.292,793.156 642.027,791.837 648.762,790.569 655.497,789.354 662.233,788.188 668.968,787.074 675.703,786.009 682.438,784.994 689.173,784.027 695.908,783.109 702.644,782.239 709.379,781.416 716.114,780.641 722.849,779.912 729.584,779.228 736.319,778.591 743.054,777.998 749.79,777.45 756.525,776.946 763.26,776.486 769.995,776.068 776.73,775.694 783.465,775.362 790.201,775.071 796.936,774.822 803.671,774.613 810.406,774.445 817.141,774.317 823.876,774.228 830.611,774.178 837.347,774.167 844.082,774.194 850.817,774.258 857.552,774.36 864.287,774.498 871.022,774.673 877.758,774.883 884.493,775.129 891.228,775.41 897.963,775.725 904.698,776.075 911.433,776.458 918.168,776.875 924.904,777.324 931.639,777.805 938.374,778.319 945.109,778.864 951.844,779.44 958.579,780.047 965.314,780.684 972.05,781.351 978.785,782.047 985.52,782.773 992.255,783.526 998.99,784.308 1005.73,785.118 1012.46,785.956 1019.2,786.82 1025.93,787.71 1032.67,788.627 1039.4,789.57 1046.14,790.538 1052.87,791.531 1059.61,792.548 1066.34,793.59 1073.08,794.655 1079.81,795.744 1086.55,796.855 1093.28,797.989 1100.02,799.146 1106.75,800.324 1113.49,801.524 1120.22,802.744 1126.96,803.986 1133.69,805.247 1140.43,806.529 1147.16,807.83 1153.9,809.15 1160.63,810.489 1167.37,811.847 1174.1,813.222 1180.84,814.615 1187.57,816.026 1194.31,817.453 1201.04,818.897 1207.78,820.357 1214.52,821.833 1221.25,823.324 1227.99,824.831 1234.72,826.352 1241.46,827.888 1248.19,829.438 1254.93,831.001 1261.66,832.578 1268.4,834.168 1275.13,835.77 1281.87,837.385 1288.6,839.012 1295.34,840.65 1302.07,842.299 1308.81,843.96 1315.54,845.631 1322.28,847.312 1329.01,849.003 1335.75,850.704 1342.48,852.414 1349.22,854.133 1355.95,855.86 1362.69,857.596 1369.42,859.339 1376.16,861.091 1382.89,862.849 1389.63,864.614 1396.36,866.386 1403.1,868.164 1409.83,869.948 1416.57,871.737 1423.3,873.532 1430.04,875.331 1436.78,877.136 1443.51,878.944 1450.25,880.757 1456.98,882.573 1463.72,884.393 1470.45,886.215 1477.19,888.041 1483.92,889.869 1490.66,891.698 1497.39,893.53 1504.13,895.363 1510.86,897.197 1517.6,899.032 1524.33,900.868 1531.07,902.704 1537.8,904.54 1544.54,906.375 1551.27,908.21 1558.01,910.044 1564.74,911.876 1571.48,913.707 1578.21,915.536 1584.95,917.362 1591.68,919.187 1598.42,921.008 1605.15,922.826 1611.89,924.641 1618.62,926.453 1625.36,928.26 1632.09,930.063 1638.83,931.861 1645.56,933.655 1652.3,935.443 1659.04,937.226 1665.77,939.003 1672.51,940.774 1679.24,942.539 1685.98,944.297 1692.71,946.048 1699.45,947.792 1706.18,949.529 1712.92,951.257 1719.65,952.978 1726.39,954.69 1733.12,956.394 1739.86,958.088 1746.59,959.774 1753.33,961.45 1760.06,963.116 1766.8,964.772 1773.53,966.418 1780.27,968.053 1787,969.677 1793.74,971.29 1800.47,972.891 1807.21,974.481 1813.94,976.058 1820.68,977.624 1827.41,979.176 1834.15,980.716 1840.88,982.242 1847.62,983.756 1854.35,985.255 1861.09,986.74 1867.82,988.211 1874.56,989.668 1881.3,991.109 1888.03,992.536 1894.77,993.947 1901.5,995.343 1908.24,996.722 1914.97,998.085 1921.71,999.432 1928.44,1000.76 1935.18,1002.07 1941.91,1003.37 1948.65,1004.65 1955.38,1005.91 1962.12,1007.15 1968.85,1008.37 1975.59,1009.58 1982.32,1010.76 1989.06,1011.93 1995.79,1013.08 2002.53,1014.2 2009.26,1015.31 2016,1016.4 2022.73,1017.46 2029.47,1018.51 2036.2,1019.53 2042.94,1020.53 2049.67,1021.52 2056.41,1022.47 2063.14,1023.41 2069.88,1024.32 2076.61,1025.21 2083.35,1026.08 2090.08,1026.93 2096.82,1027.75 2103.56,1028.54 2110.29,1029.32 2117.03,1030.07 2123.76,1030.79 2130.5,1031.49 2137.23,1032.16 2143.97,1032.81 2150.7,1033.43 2157.44,1034.03 2164.17,1034.6 2170.91,1035.14 2177.64,1035.65 2184.38,1036.14 2191.11,1036.6 2197.85,1037.04 2204.58,1037.44 2211.32,1037.82 2218.05,1038.17 2224.79,1038.49 2231.52,1038.78 2238.26,1039.04 2244.99,1039.27 2251.73,1039.47 2258.46,1039.64 2265.2,1039.78 2271.93,1039.89 2278.67,1039.97 2285.4,1040.02 2292.14,1040.03 \"/>\n<polyline clip-path=\"url(#clip672)\" style=\"stroke:#3da44d; stroke-linecap:round; stroke-linejoin:round; stroke-width:4; stroke-opacity:1; fill:none\" points=\"271.594,160.256 278.329,171.793 285.064,183.765 291.799,195.531 298.534,207.092 305.27,219.086 312.005,232.157 318.74,245.663 325.475,259.608 332.21,273.992 338.945,288.814 345.68,304.713 352.416,321.052 359.151,337.831 365.886,355.051 372.621,372.076 379.356,388.905 386.091,405.542 392.827,421.985 399.562,438.237 406.297,454.298 413.032,470.169 419.767,485.851 426.502,501.346 433.237,516.653 439.973,531.774 446.708,546.71 453.443,561.463 460.178,576.032 466.913,590.419 473.648,604.625 480.384,618.651 487.119,632.497 493.854,646.166 500.589,659.657 507.324,672.973 514.059,686.113 520.794,699.079 527.53,711.871 534.265,724.492 541,736.941 547.735,749.221 554.47,761.331 561.205,773.273 567.941,785.047 574.676,796.656 581.411,808.1 588.146,819.379 594.881,830.496 601.616,841.45 608.351,852.243 615.087,862.876 621.822,873.351 628.557,883.667 635.292,893.826 642.027,903.829 648.762,913.677 655.497,923.372 662.233,932.913 668.968,942.303 675.703,951.541 682.438,960.63 689.173,969.57 695.908,978.362 702.644,987.008 709.379,995.507 716.114,1003.86 722.849,1012.07 729.584,1020.14 736.319,1028.07 743.054,1035.85 749.79,1043.5 756.525,1051.01 763.26,1058.38 769.995,1065.61 776.73,1072.71 783.465,1079.67 790.201,1086.5 796.936,1093.2 803.671,1099.77 810.406,1106.2 817.141,1112.51 823.876,1118.69 830.611,1124.74 837.347,1130.66 844.082,1136.46 850.817,1142.13 857.552,1147.68 864.287,1153.11 871.022,1158.42 877.758,1163.6 884.493,1168.67 891.228,1173.62 897.963,1178.45 904.698,1183.16 911.433,1187.76 918.168,1192.25 924.904,1196.62 931.639,1200.88 938.374,1205.03 945.109,1209.07 951.844,1213 958.579,1216.82 965.314,1220.53 972.05,1224.13 978.785,1227.64 985.52,1231.03 992.255,1234.32 998.99,1237.52 1005.73,1240.6 1012.46,1243.59 1019.2,1246.48 1025.93,1249.27 1032.67,1251.97 1039.4,1254.56 1046.14,1257.06 1052.87,1259.47 1059.61,1261.78 1066.34,1264 1073.08,1266.13 1079.81,1268.17 1086.55,1270.12 1093.28,1271.98 1100.02,1273.75 1106.75,1275.43 1113.49,1277.03 1120.22,1278.54 1126.96,1279.97 1133.69,1281.32 1140.43,1282.58 1147.16,1283.76 1153.9,1284.87 1160.63,1285.89 1167.37,1286.84 1174.1,1287.7 1180.84,1288.49 1187.57,1289.21 1194.31,1289.85 1201.04,1290.42 1207.78,1290.91 1214.52,1291.34 1221.25,1291.69 1227.99,1291.97 1234.72,1292.18 1241.46,1292.33 1248.19,1292.41 1254.93,1292.42 1261.66,1292.36 1268.4,1292.25 1275.13,1292.06 1281.87,1291.82 1288.6,1291.51 1295.34,1291.15 1302.07,1290.72 1308.81,1290.24 1315.54,1289.69 1322.28,1289.09 1329.01,1288.44 1335.75,1287.72 1342.48,1286.96 1349.22,1286.14 1355.95,1285.26 1362.69,1284.34 1369.42,1283.37 1376.16,1282.34 1382.89,1281.27 1389.63,1280.14 1396.36,1278.97 1403.1,1277.76 1409.83,1276.5 1416.57,1275.19 1423.3,1273.84 1430.04,1272.45 1436.78,1271.01 1443.51,1269.54 1450.25,1268.02 1456.98,1266.47 1463.72,1264.87 1470.45,1263.24 1477.19,1261.57 1483.92,1259.87 1490.66,1258.13 1497.39,1256.36 1504.13,1254.55 1510.86,1252.71 1517.6,1250.84 1524.33,1248.94 1531.07,1247 1537.8,1245.04 1544.54,1243.06 1551.27,1241.04 1558.01,1239 1564.74,1236.93 1571.48,1234.83 1578.21,1232.72 1584.95,1230.58 1591.68,1228.42 1598.42,1226.23 1605.15,1224.03 1611.89,1221.8 1618.62,1219.56 1625.36,1217.3 1632.09,1215.02 1638.83,1212.73 1645.56,1210.42 1652.3,1208.09 1659.04,1205.75 1665.77,1203.4 1672.51,1201.04 1679.24,1198.66 1685.98,1196.27 1692.71,1193.88 1699.45,1191.47 1706.18,1189.06 1712.92,1186.64 1719.65,1184.21 1726.39,1181.78 1733.12,1179.34 1739.86,1176.9 1746.59,1174.46 1753.33,1172.01 1760.06,1169.56 1766.8,1167.12 1773.53,1164.67 1780.27,1162.22 1787,1159.77 1793.74,1157.33 1800.47,1154.89 1807.21,1152.45 1813.94,1150.02 1820.68,1147.6 1827.41,1145.18 1834.15,1142.77 1840.88,1140.36 1847.62,1137.97 1854.35,1135.58 1861.09,1133.21 1867.82,1130.85 1874.56,1128.5 1881.3,1126.16 1888.03,1123.84 1894.77,1121.53 1901.5,1119.24 1908.24,1116.96 1914.97,1114.7 1921.71,1112.46 1928.44,1110.24 1935.18,1108.03 1941.91,1105.85 1948.65,1103.69 1955.38,1101.55 1962.12,1099.43 1968.85,1097.33 1975.59,1095.26 1982.32,1093.22 1989.06,1091.2 1995.79,1089.21 2002.53,1087.24 2009.26,1085.31 2016,1083.4 2022.73,1081.52 2029.47,1079.67 2036.2,1077.86 2042.94,1076.08 2049.67,1074.32 2056.41,1072.61 2063.14,1070.93 2069.88,1069.28 2076.61,1067.67 2083.35,1066.1 2090.08,1064.56 2096.82,1063.06 2103.56,1061.61 2110.29,1060.19 2117.03,1058.81 2123.76,1057.48 2130.5,1056.19 2137.23,1054.94 2143.97,1053.74 2150.7,1052.58 2157.44,1051.46 2164.17,1050.4 2170.91,1049.38 2177.64,1048.4 2184.38,1047.48 2191.11,1046.61 2197.85,1045.79 2204.58,1045.02 2211.32,1044.3 2218.05,1043.63 2224.79,1043.02 2231.52,1042.46 2238.26,1041.96 2244.99,1041.52 2251.73,1041.13 2258.46,1040.8 2265.2,1040.52 2271.93,1040.31 2278.67,1040.16 2285.4,1040.06 2292.14,1040.03 \"/>\n<polyline clip-path=\"url(#clip672)\" style=\"stroke:#c271d2; stroke-linecap:round; stroke-linejoin:round; stroke-width:4; stroke-opacity:1; fill:none\" stroke-dasharray=\"16, 10\" points=\"271.594,1172 278.329,1172 285.064,1170.21 291.799,1168.42 298.534,1166.76 305.27,1166.76 312.005,1166.77 318.74,1165.02 325.475,1165.02 332.21,1163.3 338.945,1163.3 345.68,1163.3 352.416,1161.61 359.151,1161.61 365.886,1159.93 372.621,1158.27 379.356,1156.61 386.091,1154.97 392.827,1153.34 399.562,1151.71 406.297,1150.1 413.032,1148.49 419.767,1146.9 426.502,1145.32 433.237,1143.74 439.973,1142.18 446.708,1140.63 453.443,1139.09 460.178,1137.55 466.913,1136.03 473.648,1134.52 480.384,1133.02 487.119,1131.52 493.854,1130.04 500.589,1128.57 507.324,1127.11 514.059,1125.66 520.794,1124.21 527.53,1122.78 534.265,1121.36 541,1119.95 547.735,1118.55 554.47,1117.16 561.205,1115.77 567.941,1114.4 574.676,1113.04 581.411,1111.69 588.146,1110.35 594.881,1109.02 601.616,1107.7 608.351,1106.39 615.087,1105.08 621.822,1103.79 628.557,1102.51 635.292,1101.24 642.027,1099.98 648.762,1098.73 655.497,1097.48 662.233,1096.25 668.968,1095.03 675.703,1093.82 682.438,1092.62 689.173,1091.42 695.908,1090.24 702.644,1089.07 709.379,1087.9 716.114,1086.75 722.849,1085.6 729.584,1084.47 736.319,1083.35 743.054,1082.23 749.79,1081.13 756.525,1080.03 763.26,1078.94 769.995,1077.87 776.73,1076.8 783.465,1075.74 790.201,1074.69 796.936,1073.65 803.671,1072.63 810.406,1071.61 817.141,1070.6 823.876,1069.59 830.611,1068.6 837.347,1067.62 844.082,1066.65 850.817,1065.68 857.552,1064.73 864.287,1063.78 871.022,1062.85 877.758,1061.92 884.493,1061.01 891.228,1060.1 897.963,1059.2 904.698,1058.31 911.433,1057.43 918.168,1056.56 924.904,1055.69 931.639,1054.84 938.374,1054 945.109,1053.16 951.844,1052.33 958.579,1051.52 965.314,1050.71 972.05,1049.91 978.785,1049.12 985.52,1048.33 992.255,1047.56 998.99,1046.8 1005.73,1046.04 1012.46,1045.29 1019.2,1044.56 1025.93,1043.83 1032.67,1043.11 1039.4,1042.39 1046.14,1041.69 1052.87,1041 1059.61,1040.31 1066.34,1039.63 1073.08,1038.96 1079.81,1038.3 1086.55,1037.65 1093.28,1037.01 1100.02,1036.37 1106.75,1035.74 1113.49,1035.13 1120.22,1034.52 1126.96,1033.91 1133.69,1033.32 1140.43,1032.74 1147.16,1032.16 1153.9,1031.59 1160.63,1031.03 1167.37,1030.48 1174.1,1029.93 1180.84,1029.4 1187.57,1028.87 1194.31,1028.35 1201.04,1027.84 1207.78,1027.34 1214.52,1026.84 1221.25,1026.36 1227.99,1025.88 1234.72,1025.4 1241.46,1024.94 1248.19,1024.49 1254.93,1024.04 1261.66,1023.6 1268.4,1023.17 1275.13,1022.74 1281.87,1022.33 1288.6,1021.92 1295.34,1021.52 1302.07,1021.13 1308.81,1020.74 1315.54,1020.37 1322.28,1020 1329.01,1019.63 1335.75,1019.28 1342.48,1018.93 1349.22,1018.6 1355.95,1018.26 1362.69,1017.94 1369.42,1017.62 1376.16,1017.32 1382.89,1017.02 1389.63,1016.72 1396.36,1016.44 1403.1,1016.16 1409.83,1015.89 1416.57,1015.62 1423.3,1015.37 1430.04,1015.12 1436.78,1014.88 1443.51,1014.64 1450.25,1014.42 1456.98,1014.2 1463.72,1013.98 1470.45,1013.78 1477.19,1013.58 1483.92,1013.39 1490.66,1013.21 1497.39,1013.03 1504.13,1012.86 1510.86,1012.7 1517.6,1012.55 1524.33,1012.4 1531.07,1012.26 1537.8,1012.13 1544.54,1012 1551.27,1011.88 1558.01,1011.77 1564.74,1011.67 1571.48,1011.57 1578.21,1011.48 1584.95,1011.4 1591.68,1011.32 1598.42,1011.25 1605.15,1011.19 1611.89,1011.13 1618.62,1011.09 1625.36,1011.05 1632.09,1011.01 1638.83,1010.98 1645.56,1010.96 1652.3,1010.95 1659.04,1010.94 1665.77,1010.94 1672.51,1010.95 1679.24,1010.96 1685.98,1010.98 1692.71,1011.01 1699.45,1011.05 1706.18,1011.09 1712.92,1011.13 1719.65,1011.19 1726.39,1011.25 1733.12,1011.32 1739.86,1011.39 1746.59,1011.48 1753.33,1011.56 1760.06,1011.66 1766.8,1011.76 1773.53,1011.87 1780.27,1011.98 1787,1012.11 1793.74,1012.24 1800.47,1012.37 1807.21,1012.51 1813.94,1012.66 1820.68,1012.82 1827.41,1012.98 1834.15,1013.15 1840.88,1013.32 1847.62,1013.51 1854.35,1013.69 1861.09,1013.89 1867.82,1014.09 1874.56,1014.3 1881.3,1014.52 1888.03,1014.74 1894.77,1014.97 1901.5,1015.2 1908.24,1015.44 1914.97,1015.69 1921.71,1015.95 1928.44,1016.21 1935.18,1016.48 1941.91,1016.75 1948.65,1017.03 1955.38,1017.32 1962.12,1017.61 1968.85,1017.91 1975.59,1018.22 1982.32,1018.53 1989.06,1018.85 1995.79,1019.18 2002.53,1019.52 2009.26,1019.86 2016,1020.2 2022.73,1020.55 2029.47,1020.91 2036.2,1021.28 2042.94,1021.65 2049.67,1022.03 2056.41,1022.42 2063.14,1022.81 2069.88,1023.21 2076.61,1023.62 2083.35,1024.03 2090.08,1024.45 2096.82,1024.87 2103.56,1025.3 2110.29,1025.74 2117.03,1026.18 2123.76,1026.64 2130.5,1027.09 2137.23,1027.56 2143.97,1028.03 2150.7,1028.5 2157.44,1028.99 2164.17,1029.48 2170.91,1029.98 2177.64,1030.48 2184.38,1030.99 2191.11,1031.5 2197.85,1032.03 2204.58,1032.56 2211.32,1033.09 2218.05,1033.64 2224.79,1034.18 2231.52,1034.74 2238.26,1035.3 2244.99,1035.87 2251.73,1036.45 2258.46,1037.03 2265.2,1037.62 2271.93,1038.21 2278.67,1038.81 2285.4,1039.42 2292.14,1040.03 \"/>\n<polyline clip-path=\"url(#clip672)\" style=\"stroke:#ac8d18; stroke-linecap:round; stroke-linejoin:round; stroke-width:4; stroke-opacity:1; fill:none\" stroke-dasharray=\"16, 10\" points=\"271.594,952.056 278.329,952.056 285.064,953.672 291.799,955.276 298.534,956.769 305.27,956.764 312.005,956.761 318.74,958.32 325.475,958.32 332.21,959.856 338.945,959.854 345.68,959.853 352.416,961.355 359.151,961.355 365.886,962.835 372.621,964.304 379.356,965.762 386.091,967.208 392.827,968.644 399.562,970.068 406.297,971.481 413.032,972.884 419.767,974.275 426.502,975.655 433.237,977.024 439.973,978.382 446.708,979.729 453.443,981.066 460.178,982.391 466.913,983.706 473.648,985.01 480.384,986.303 487.119,987.585 493.854,988.856 500.589,990.117 507.324,991.367 514.059,992.606 520.794,993.835 527.53,995.053 534.265,996.261 541,997.458 547.735,998.644 554.47,999.82 561.205,1000.99 567.941,1002.14 574.676,1003.29 581.411,1004.42 588.146,1005.54 594.881,1006.66 601.616,1007.76 608.351,1008.86 615.087,1009.94 621.822,1011.01 628.557,1012.07 635.292,1013.13 642.027,1014.17 648.762,1015.2 655.497,1016.23 662.233,1017.24 668.968,1018.24 675.703,1019.23 682.438,1020.22 689.173,1021.19 695.908,1022.15 702.644,1023.11 709.379,1024.05 716.114,1024.99 722.849,1025.91 729.584,1026.83 736.319,1027.73 743.054,1028.63 749.79,1029.52 756.525,1030.39 763.26,1031.26 769.995,1032.12 776.73,1032.97 783.465,1033.81 790.201,1034.64 796.936,1035.46 803.671,1036.27 810.406,1037.07 817.141,1037.87 823.876,1038.65 830.611,1039.42 837.347,1040.19 844.082,1040.95 850.817,1041.7 857.552,1042.44 864.287,1043.17 871.022,1043.89 877.758,1044.6 884.493,1045.3 891.228,1046 897.963,1046.68 904.698,1047.36 911.433,1048.03 918.168,1048.69 924.904,1049.34 931.639,1049.99 938.374,1050.62 945.109,1051.25 951.844,1051.87 958.579,1052.47 965.314,1053.08 972.05,1053.67 978.785,1054.25 985.52,1054.83 992.255,1055.4 998.99,1055.95 1005.73,1056.51 1012.46,1057.05 1019.2,1057.58 1025.93,1058.11 1032.67,1058.63 1039.4,1059.14 1046.14,1059.64 1052.87,1060.14 1059.61,1060.63 1066.34,1061.1 1073.08,1061.58 1079.81,1062.04 1086.55,1062.49 1093.28,1062.94 1100.02,1063.38 1106.75,1063.81 1113.49,1064.24 1120.22,1064.66 1126.96,1065.07 1133.69,1065.47 1140.43,1065.86 1147.16,1066.25 1153.9,1066.63 1160.63,1067 1167.37,1067.36 1174.1,1067.72 1180.84,1068.07 1187.57,1068.41 1194.31,1068.75 1201.04,1069.08 1207.78,1069.4 1214.52,1069.71 1221.25,1070.01 1227.99,1070.31 1234.72,1070.61 1241.46,1070.89 1248.19,1071.17 1254.93,1071.44 1261.66,1071.7 1268.4,1071.96 1275.13,1072.21 1281.87,1072.45 1288.6,1072.69 1295.34,1072.91 1302.07,1073.14 1308.81,1073.35 1315.54,1073.56 1322.28,1073.76 1329.01,1073.95 1335.75,1074.14 1342.48,1074.32 1349.22,1074.5 1355.95,1074.67 1362.69,1074.83 1369.42,1074.98 1376.16,1075.13 1382.89,1075.27 1389.63,1075.4 1396.36,1075.53 1403.1,1075.65 1409.83,1075.77 1416.57,1075.88 1423.3,1075.98 1430.04,1076.07 1436.78,1076.16 1443.51,1076.25 1450.25,1076.32 1456.98,1076.39 1463.72,1076.46 1470.45,1076.51 1477.19,1076.57 1483.92,1076.61 1490.66,1076.65 1497.39,1076.68 1504.13,1076.71 1510.86,1076.73 1517.6,1076.74 1524.33,1076.75 1531.07,1076.75 1537.8,1076.75 1544.54,1076.74 1551.27,1076.72 1558.01,1076.7 1564.74,1076.67 1571.48,1076.63 1578.21,1076.59 1584.95,1076.54 1591.68,1076.49 1598.42,1076.43 1605.15,1076.37 1611.89,1076.3 1618.62,1076.22 1625.36,1076.14 1632.09,1076.05 1638.83,1075.95 1645.56,1075.85 1652.3,1075.75 1659.04,1075.63 1665.77,1075.52 1672.51,1075.39 1679.24,1075.26 1685.98,1075.13 1692.71,1074.99 1699.45,1074.84 1706.18,1074.69 1712.92,1074.53 1719.65,1074.36 1726.39,1074.19 1733.12,1074.02 1739.86,1073.84 1746.59,1073.65 1753.33,1073.46 1760.06,1073.26 1766.8,1073.05 1773.53,1072.84 1780.27,1072.63 1787,1072.41 1793.74,1072.18 1800.47,1071.95 1807.21,1071.71 1813.94,1071.46 1820.68,1071.21 1827.41,1070.96 1834.15,1070.7 1840.88,1070.43 1847.62,1070.16 1854.35,1069.88 1861.09,1069.6 1867.82,1069.31 1874.56,1069.02 1881.3,1068.72 1888.03,1068.41 1894.77,1068.1 1901.5,1067.78 1908.24,1067.46 1914.97,1067.13 1921.71,1066.8 1928.44,1066.46 1935.18,1066.12 1941.91,1065.77 1948.65,1065.41 1955.38,1065.05 1962.12,1064.69 1968.85,1064.32 1975.59,1063.94 1982.32,1063.56 1989.06,1063.17 1995.79,1062.77 2002.53,1062.37 2009.26,1061.97 2016,1061.56 2022.73,1061.14 2029.47,1060.72 2036.2,1060.3 2042.94,1059.86 2049.67,1059.43 2056.41,1058.98 2063.14,1058.54 2069.88,1058.08 2076.61,1057.62 2083.35,1057.16 2090.08,1056.69 2096.82,1056.21 2103.56,1055.73 2110.29,1055.24 2117.03,1054.75 2123.76,1054.25 2130.5,1053.75 2137.23,1053.24 2143.97,1052.73 2150.7,1052.21 2157.44,1051.68 2164.17,1051.15 2170.91,1050.62 2177.64,1050.08 2184.38,1049.53 2191.11,1048.98 2197.85,1048.42 2204.58,1047.86 2211.32,1047.29 2218.05,1046.71 2224.79,1046.13 2231.52,1045.55 2238.26,1044.96 2244.99,1044.36 2251.73,1043.76 2258.46,1043.15 2265.2,1042.54 2271.93,1041.92 2278.67,1041.3 2285.4,1040.67 2292.14,1040.03 \"/>\n<polyline clip-path=\"url(#clip672)\" style=\"stroke:#00a9ad; stroke-linecap:round; stroke-linejoin:round; stroke-width:4; stroke-opacity:1; fill:none\" stroke-dasharray=\"16, 10\" points=\"271.594,1259.98 278.329,1281.55 285.064,1277.41 291.799,1273.3 298.534,1269.18 305.27,1290.68 312.005,1312.19 318.74,1308.14 325.475,1329.72 332.21,1325.7 338.945,1347.24 345.68,1368.79 352.416,1364.83 359.151,1386.4 365.886,1382.48 372.621,1378.57 379.356,1374.69 386.091,1370.83 392.827,1366.98 399.562,1363.16 406.297,1359.35 413.032,1355.56 419.767,1351.79 426.502,1348.04 433.237,1344.31 439.973,1340.6 446.708,1336.91 453.443,1333.24 460.178,1329.59 466.913,1325.96 473.648,1322.35 480.384,1318.75 487.119,1315.18 493.854,1311.63 500.589,1308.09 507.324,1304.58 514.059,1301.09 520.794,1297.62 527.53,1294.16 534.265,1290.73 541,1287.32 547.735,1283.92 554.47,1280.55 561.205,1277.2 567.941,1273.86 574.676,1270.55 581.411,1267.26 588.146,1263.99 594.881,1260.74 601.616,1257.5 608.351,1254.29 615.087,1251.1 621.822,1247.93 628.557,1244.78 635.292,1241.65 642.027,1238.54 648.762,1235.45 655.497,1232.39 662.233,1229.34 668.968,1226.31 675.703,1223.3 682.438,1220.32 689.173,1217.35 695.908,1214.4 702.644,1211.48 709.379,1208.57 716.114,1205.69 722.849,1202.82 729.584,1199.98 736.319,1197.16 743.054,1194.35 749.79,1191.57 756.525,1188.81 763.26,1186.07 769.995,1183.34 776.73,1180.64 783.465,1177.96 790.201,1175.3 796.936,1172.66 803.671,1170.04 810.406,1167.44 817.141,1164.86 823.876,1162.3 830.611,1159.77 837.347,1157.25 844.082,1154.75 850.817,1152.27 857.552,1149.81 864.287,1147.38 871.022,1144.96 877.758,1142.56 884.493,1140.18 891.228,1137.83 897.963,1135.49 904.698,1133.17 911.433,1130.88 918.168,1128.6 924.904,1126.34 931.639,1124.11 938.374,1121.89 945.109,1119.69 951.844,1117.51 958.579,1115.36 965.314,1113.22 972.05,1111.1 978.785,1109 985.52,1106.92 992.255,1104.87 998.99,1102.83 1005.73,1100.81 1012.46,1098.81 1019.2,1096.83 1025.93,1094.87 1032.67,1092.93 1039.4,1091 1046.14,1089.1 1052.87,1087.22 1059.61,1085.36 1066.34,1083.51 1073.08,1081.69 1079.81,1079.88 1086.55,1078.1 1093.28,1076.33 1100.02,1074.58 1106.75,1072.85 1113.49,1071.14 1120.22,1069.45 1126.96,1067.78 1133.69,1066.13 1140.43,1064.5 1147.16,1062.88 1153.9,1061.29 1160.63,1059.71 1167.37,1058.15 1174.1,1056.62 1180.84,1055.1 1187.57,1053.59 1194.31,1052.11 1201.04,1050.65 1207.78,1049.2 1214.52,1047.78 1221.25,1046.37 1227.99,1044.98 1234.72,1043.61 1241.46,1042.26 1248.19,1040.92 1254.93,1039.61 1261.66,1038.31 1268.4,1037.03 1275.13,1035.77 1281.87,1034.53 1288.6,1033.31 1295.34,1032.1 1302.07,1030.91 1308.81,1029.74 1315.54,1028.59 1322.28,1027.46 1329.01,1026.34 1335.75,1025.25 1342.48,1024.17 1349.22,1023.11 1355.95,1022.06 1362.69,1021.04 1369.42,1020.03 1376.16,1019.04 1382.89,1018.07 1389.63,1017.11 1396.36,1016.17 1403.1,1015.26 1409.83,1014.35 1416.57,1013.47 1423.3,1012.6 1430.04,1011.76 1436.78,1010.92 1443.51,1010.11 1450.25,1009.31 1456.98,1008.53 1463.72,1007.77 1470.45,1007.03 1477.19,1006.3 1483.92,1005.59 1490.66,1004.9 1497.39,1004.22 1504.13,1003.57 1510.86,1002.93 1517.6,1002.3 1524.33,1001.7 1531.07,1001.11 1537.8,1000.53 1544.54,999.979 1551.27,999.441 1558.01,998.92 1564.74,998.415 1571.48,997.928 1578.21,997.457 1584.95,997.004 1591.68,996.567 1598.42,996.147 1605.15,995.744 1611.89,995.358 1618.62,994.988 1625.36,994.635 1632.09,994.299 1638.83,993.98 1645.56,993.677 1652.3,993.391 1659.04,993.121 1665.77,992.868 1672.51,992.632 1679.24,992.412 1685.98,992.209 1692.71,992.022 1699.45,991.852 1706.18,991.698 1712.92,991.561 1719.65,991.44 1726.39,991.336 1733.12,991.248 1739.86,991.176 1746.59,991.121 1753.33,991.082 1760.06,991.06 1766.8,991.053 1773.53,991.063 1780.27,991.09 1787,991.132 1793.74,991.191 1800.47,991.266 1807.21,991.358 1813.94,991.465 1820.68,991.589 1827.41,991.729 1834.15,991.885 1840.88,992.057 1847.62,992.246 1854.35,992.45 1861.09,992.671 1867.82,992.908 1874.56,993.161 1881.3,993.43 1888.03,993.715 1894.77,994.016 1901.5,994.333 1908.24,994.666 1914.97,995.016 1921.71,995.381 1928.44,995.763 1935.18,996.16 1941.91,996.573 1948.65,997.003 1955.38,997.448 1962.12,997.91 1968.85,998.387 1975.59,998.88 1982.32,999.39 1989.06,999.915 1995.79,1000.46 2002.53,1001.01 2009.26,1001.59 2016,1002.18 2022.73,1002.78 2029.47,1003.4 2036.2,1004.04 2042.94,1004.69 2049.67,1005.36 2056.41,1006.05 2063.14,1006.75 2069.88,1007.46 2076.61,1008.2 2083.35,1008.94 2090.08,1009.71 2096.82,1010.49 2103.56,1011.28 2110.29,1012.1 2117.03,1012.92 2123.76,1013.77 2130.5,1014.63 2137.23,1015.5 2143.97,1016.4 2150.7,1017.3 2157.44,1018.23 2164.17,1019.17 2170.91,1020.12 2177.64,1021.09 2184.38,1022.08 2191.11,1023.08 2197.85,1024.1 2204.58,1025.14 2211.32,1026.19 2218.05,1027.25 2224.79,1028.34 2231.52,1029.44 2238.26,1030.55 2244.99,1031.68 2251.73,1032.83 2258.46,1033.99 2265.2,1035.17 2271.93,1036.36 2278.67,1037.57 2285.4,1038.8 2292.14,1040.04 \"/>\n<path clip-path=\"url(#clip670)\" d=\"M2023.9 529.676 L2281.36 529.676 L2281.36 166.796 L2023.9 166.796  Z\" fill=\"#ffffff\" fill-rule=\"evenodd\" fill-opacity=\"1\"/>\n<polyline clip-path=\"url(#clip670)\" style=\"stroke:#000000; stroke-linecap:round; stroke-linejoin:round; stroke-width:4; stroke-opacity:1; fill:none\" points=\"2023.9,529.676 2281.36,529.676 2281.36,166.796 2023.9,166.796 2023.9,529.676 \"/>\n<polyline clip-path=\"url(#clip670)\" style=\"stroke:#009af9; stroke-linecap:round; stroke-linejoin:round; stroke-width:4; stroke-opacity:1; fill:none\" points=\"2047.7,218.636 2190.48,218.636 \"/>\n<path clip-path=\"url(#clip670)\" d=\"M2238.93 209.99 L2229.56 222.606 L2239.42 235.916 L2234.39 235.916 L2226.85 225.731 L2219.3 235.916 L2214.28 235.916 L2224.35 222.351 L2215.14 209.99 L2220.16 209.99 L2227.03 219.226 L2233.91 209.99 L2238.93 209.99 Z\" fill=\"#000000\" fill-rule=\"evenodd\" fill-opacity=\"1\" /><path clip-path=\"url(#clip670)\" d=\"M2244.58 233.369 L2249.3 233.369 L2249.3 219.226 L2244.14 220.175 L2244.14 217.49 L2249.46 216.587 L2252.64 216.587 L2252.64 233.369 L2257.38 233.369 L2257.38 235.916 L2244.58 235.916 L2244.58 233.369 Z\" fill=\"#000000\" fill-rule=\"evenodd\" fill-opacity=\"1\" /><polyline clip-path=\"url(#clip670)\" style=\"stroke:#e26f46; stroke-linecap:round; stroke-linejoin:round; stroke-width:4; stroke-opacity:1; fill:none\" points=\"2047.7,270.476 2190.48,270.476 \"/>\n<path clip-path=\"url(#clip670)\" d=\"M2238.93 261.83 L2229.56 274.446 L2239.42 287.756 L2234.39 287.756 L2226.85 277.571 L2219.3 287.756 L2214.28 287.756 L2224.35 274.191 L2215.14 261.83 L2220.16 261.83 L2227.03 271.066 L2233.91 261.83 L2238.93 261.83 Z\" fill=\"#000000\" fill-rule=\"evenodd\" fill-opacity=\"1\" /><path clip-path=\"url(#clip670)\" d=\"M2247.17 285.117 L2256.99 285.117 L2256.99 287.756 L2243.14 287.756 L2243.14 285.209 Q2243.93 284.492 2245.39 283.196 Q2253.35 276.135 2253.35 273.959 Q2253.35 272.432 2252.15 271.506 Q2250.95 270.557 2248.98 270.557 Q2247.77 270.557 2246.36 270.973 Q2244.95 271.367 2243.28 272.177 L2243.28 269.33 Q2245.07 268.682 2246.59 268.358 Q2248.14 268.034 2249.46 268.034 Q2252.82 268.034 2254.83 269.561 Q2256.85 271.089 2256.85 273.589 Q2256.85 276.807 2249.19 283.381 Q2247.89 284.492 2247.17 285.117 Z\" fill=\"#000000\" fill-rule=\"evenodd\" fill-opacity=\"1\" /><polyline clip-path=\"url(#clip670)\" style=\"stroke:#3da44d; stroke-linecap:round; stroke-linejoin:round; stroke-width:4; stroke-opacity:1; fill:none\" points=\"2047.7,322.316 2190.48,322.316 \"/>\n<path clip-path=\"url(#clip670)\" d=\"M2238.93 313.67 L2229.56 326.286 L2239.42 339.596 L2234.39 339.596 L2226.85 329.411 L2219.3 339.596 L2214.28 339.596 L2224.35 326.031 L2215.14 313.67 L2220.16 313.67 L2227.03 322.906 L2233.91 313.67 L2238.93 313.67 Z\" fill=\"#000000\" fill-rule=\"evenodd\" fill-opacity=\"1\" /><path clip-path=\"url(#clip670)\" d=\"M2253.1 329.133 Q2255.23 329.549 2256.39 330.823 Q2257.57 332.073 2257.57 333.971 Q2257.57 336.841 2255.37 338.392 Q2253.17 339.943 2249.07 339.943 Q2247.75 339.943 2246.29 339.688 Q2244.86 339.457 2243.24 338.994 L2243.24 336.193 Q2244.44 336.818 2245.81 337.119 Q2247.2 337.42 2248.75 337.42 Q2251.27 337.42 2252.66 336.517 Q2254.05 335.591 2254.05 333.971 Q2254.05 332.258 2252.75 331.378 Q2251.48 330.499 2248.98 330.499 L2246.99 330.499 L2246.99 327.999 L2249.16 327.999 Q2251.34 327.999 2252.45 327.281 Q2253.58 326.54 2253.58 325.151 Q2253.58 323.809 2252.43 323.114 Q2251.27 322.397 2249.07 322.397 Q2248.14 322.397 2246.96 322.605 Q2245.78 322.813 2243.91 323.346 L2243.91 320.684 Q2245.6 320.29 2247.08 320.082 Q2248.56 319.874 2249.83 319.874 Q2253.17 319.874 2255.11 321.239 Q2257.08 322.605 2257.08 324.897 Q2257.08 326.494 2256.04 327.605 Q2255 328.716 2253.1 329.133 Z\" fill=\"#000000\" fill-rule=\"evenodd\" fill-opacity=\"1\" /><polyline clip-path=\"url(#clip670)\" style=\"stroke:#c271d2; stroke-linecap:round; stroke-linejoin:round; stroke-width:4; stroke-opacity:1; fill:none\" stroke-dasharray=\"16, 10\" points=\"2047.7,374.156 2190.48,374.156 \"/>\n<path clip-path=\"url(#clip670)\" d=\"M2238.93 365.51 L2229.56 378.126 L2239.42 391.436 L2234.39 391.436 L2226.85 381.251 L2219.3 391.436 L2214.28 391.436 L2224.35 377.871 L2215.14 365.51 L2220.16 365.51 L2227.03 374.746 L2233.91 365.51 L2238.93 365.51 Z\" fill=\"#000000\" fill-rule=\"evenodd\" fill-opacity=\"1\" /><path clip-path=\"url(#clip670)\" d=\"M2226.94 355.417 L2231.2 355.417 L2231.2 360.811 L2226.94 360.811 L2226.94 355.417 M2229.12 364.885 L2229.12 364.885 Z\" fill=\"#000000\" fill-rule=\"evenodd\" fill-opacity=\"1\" /><path clip-path=\"url(#clip670)\" d=\"M2244.58 388.889 L2249.3 388.889 L2249.3 374.746 L2244.14 375.695 L2244.14 373.01 L2249.46 372.107 L2252.64 372.107 L2252.64 388.889 L2257.38 388.889 L2257.38 391.436 L2244.58 391.436 L2244.58 388.889 Z\" fill=\"#000000\" fill-rule=\"evenodd\" fill-opacity=\"1\" /><polyline clip-path=\"url(#clip670)\" style=\"stroke:#ac8d18; stroke-linecap:round; stroke-linejoin:round; stroke-width:4; stroke-opacity:1; fill:none\" stroke-dasharray=\"16, 10\" points=\"2047.7,425.996 2190.48,425.996 \"/>\n<path clip-path=\"url(#clip670)\" d=\"M2238.93 417.35 L2229.56 429.966 L2239.42 443.276 L2234.39 443.276 L2226.85 433.091 L2219.3 443.276 L2214.28 443.276 L2224.35 429.711 L2215.14 417.35 L2220.16 417.35 L2227.03 426.586 L2233.91 417.35 L2238.93 417.35 Z\" fill=\"#000000\" fill-rule=\"evenodd\" fill-opacity=\"1\" /><path clip-path=\"url(#clip670)\" d=\"M2226.94 407.257 L2231.2 407.257 L2231.2 412.651 L2226.94 412.651 L2226.94 407.257 M2229.12 416.725 L2229.12 416.725 Z\" fill=\"#000000\" fill-rule=\"evenodd\" fill-opacity=\"1\" /><path clip-path=\"url(#clip670)\" d=\"M2247.17 440.637 L2256.99 440.637 L2256.99 443.276 L2243.14 443.276 L2243.14 440.729 Q2243.93 440.012 2245.39 438.716 Q2253.35 431.655 2253.35 429.479 Q2253.35 427.952 2252.15 427.026 Q2250.95 426.077 2248.98 426.077 Q2247.77 426.077 2246.36 426.493 Q2244.95 426.887 2243.28 427.697 L2243.28 424.85 Q2245.07 424.202 2246.59 423.878 Q2248.14 423.554 2249.46 423.554 Q2252.82 423.554 2254.83 425.081 Q2256.85 426.609 2256.85 429.109 Q2256.85 432.327 2249.19 438.901 Q2247.89 440.012 2247.17 440.637 Z\" fill=\"#000000\" fill-rule=\"evenodd\" fill-opacity=\"1\" /><polyline clip-path=\"url(#clip670)\" style=\"stroke:#00a9ad; stroke-linecap:round; stroke-linejoin:round; stroke-width:4; stroke-opacity:1; fill:none\" stroke-dasharray=\"16, 10\" points=\"2047.7,477.836 2190.48,477.836 \"/>\n<path clip-path=\"url(#clip670)\" d=\"M2238.93 469.19 L2229.56 481.806 L2239.42 495.116 L2234.39 495.116 L2226.85 484.931 L2219.3 495.116 L2214.28 495.116 L2224.35 481.551 L2215.14 469.19 L2220.16 469.19 L2227.03 478.426 L2233.91 469.19 L2238.93 469.19 Z\" fill=\"#000000\" fill-rule=\"evenodd\" fill-opacity=\"1\" /><path clip-path=\"url(#clip670)\" d=\"M2226.94 459.097 L2231.2 459.097 L2231.2 464.491 L2226.94 464.491 L2226.94 459.097 M2229.12 468.565 L2229.12 468.565 Z\" fill=\"#000000\" fill-rule=\"evenodd\" fill-opacity=\"1\" /><path clip-path=\"url(#clip670)\" d=\"M2253.1 484.653 Q2255.23 485.069 2256.39 486.343 Q2257.57 487.593 2257.57 489.491 Q2257.57 492.361 2255.37 493.912 Q2253.17 495.463 2249.07 495.463 Q2247.75 495.463 2246.29 495.208 Q2244.86 494.977 2243.24 494.514 L2243.24 491.713 Q2244.44 492.338 2245.81 492.639 Q2247.2 492.94 2248.75 492.94 Q2251.27 492.94 2252.66 492.037 Q2254.05 491.111 2254.05 489.491 Q2254.05 487.778 2252.75 486.898 Q2251.48 486.019 2248.98 486.019 L2246.99 486.019 L2246.99 483.519 L2249.16 483.519 Q2251.34 483.519 2252.45 482.801 Q2253.58 482.06 2253.58 480.671 Q2253.58 479.329 2252.43 478.634 Q2251.27 477.917 2249.07 477.917 Q2248.14 477.917 2246.96 478.125 Q2245.78 478.333 2243.91 478.866 L2243.91 476.204 Q2245.6 475.81 2247.08 475.602 Q2248.56 475.394 2249.83 475.394 Q2253.17 475.394 2255.11 476.759 Q2257.08 478.125 2257.08 480.417 Q2257.08 482.014 2256.04 483.125 Q2255 484.236 2253.1 484.653 Z\" fill=\"#000000\" fill-rule=\"evenodd\" fill-opacity=\"1\" /></svg>\n"
     },
     "metadata": {},
     "output_type": "display_data"
    },
    {
     "data": {
      "image/svg+xml": "<?xml version=\"1.0\" encoding=\"utf-8\"?>\n<svg xmlns=\"http://www.w3.org/2000/svg\" xmlns:xlink=\"http://www.w3.org/1999/xlink\" width=\"600\" height=\"400\" viewBox=\"0 0 2400 1600\">\n<defs>\n  <clipPath id=\"clip710\">\n    <rect x=\"0\" y=\"0\" width=\"2400\" height=\"1600\"/>\n  </clipPath>\n</defs>\n<path clip-path=\"url(#clip710)\" d=\"M0 1600 L2400 1600 L2400 0 L0 0  Z\" fill=\"#ffffff\" fill-rule=\"evenodd\" fill-opacity=\"1\"/>\n<defs>\n  <clipPath id=\"clip711\">\n    <rect x=\"480\" y=\"0\" width=\"1681\" height=\"1600\"/>\n  </clipPath>\n</defs>\n<path clip-path=\"url(#clip710)\" d=\"M232.389 1423.18 L2352.76 1423.18 L2352.76 123.472 L232.389 123.472  Z\" fill=\"#ffffff\" fill-rule=\"evenodd\" fill-opacity=\"1\"/>\n<defs>\n  <clipPath id=\"clip712\">\n    <rect x=\"232\" y=\"123\" width=\"2121\" height=\"1301\"/>\n  </clipPath>\n</defs>\n<polyline clip-path=\"url(#clip712)\" style=\"stroke:#000000; stroke-linecap:round; stroke-linejoin:round; stroke-width:2; stroke-opacity:0.1; fill:none\" points=\"292.4,1423.18 292.4,123.472 \"/>\n<polyline clip-path=\"url(#clip712)\" style=\"stroke:#000000; stroke-linecap:round; stroke-linejoin:round; stroke-width:2; stroke-opacity:0.1; fill:none\" points=\"961.412,1423.18 961.412,123.472 \"/>\n<polyline clip-path=\"url(#clip712)\" style=\"stroke:#000000; stroke-linecap:round; stroke-linejoin:round; stroke-width:2; stroke-opacity:0.1; fill:none\" points=\"1630.42,1423.18 1630.42,123.472 \"/>\n<polyline clip-path=\"url(#clip712)\" style=\"stroke:#000000; stroke-linecap:round; stroke-linejoin:round; stroke-width:2; stroke-opacity:0.1; fill:none\" points=\"2299.44,1423.18 2299.44,123.472 \"/>\n<polyline clip-path=\"url(#clip710)\" style=\"stroke:#000000; stroke-linecap:round; stroke-linejoin:round; stroke-width:4; stroke-opacity:1; fill:none\" points=\"232.389,1423.18 2352.76,1423.18 \"/>\n<polyline clip-path=\"url(#clip710)\" style=\"stroke:#000000; stroke-linecap:round; stroke-linejoin:round; stroke-width:4; stroke-opacity:1; fill:none\" points=\"292.4,1423.18 292.4,1404.28 \"/>\n<polyline clip-path=\"url(#clip710)\" style=\"stroke:#000000; stroke-linecap:round; stroke-linejoin:round; stroke-width:4; stroke-opacity:1; fill:none\" points=\"961.412,1423.18 961.412,1404.28 \"/>\n<polyline clip-path=\"url(#clip710)\" style=\"stroke:#000000; stroke-linecap:round; stroke-linejoin:round; stroke-width:4; stroke-opacity:1; fill:none\" points=\"1630.42,1423.18 1630.42,1404.28 \"/>\n<polyline clip-path=\"url(#clip710)\" style=\"stroke:#000000; stroke-linecap:round; stroke-linejoin:round; stroke-width:4; stroke-opacity:1; fill:none\" points=\"2299.44,1423.18 2299.44,1404.28 \"/>\n<path clip-path=\"url(#clip710)\" d=\"M292.4 1454.1 Q288.789 1454.1 286.96 1457.66 Q285.154 1461.2 285.154 1468.33 Q285.154 1475.44 286.96 1479.01 Q288.789 1482.55 292.4 1482.55 Q296.034 1482.55 297.84 1479.01 Q299.668 1475.44 299.668 1468.33 Q299.668 1461.2 297.84 1457.66 Q296.034 1454.1 292.4 1454.1 M292.4 1450.39 Q298.21 1450.39 301.265 1455 Q304.344 1459.58 304.344 1468.33 Q304.344 1477.06 301.265 1481.67 Q298.21 1486.25 292.4 1486.25 Q286.59 1486.25 283.511 1481.67 Q280.455 1477.06 280.455 1468.33 Q280.455 1459.58 283.511 1455 Q286.59 1450.39 292.4 1450.39 Z\" fill=\"#000000\" fill-rule=\"evenodd\" fill-opacity=\"1\" /><path clip-path=\"url(#clip710)\" d=\"M951.69 1451.02 L970.046 1451.02 L970.046 1454.96 L955.972 1454.96 L955.972 1463.43 Q956.99 1463.08 958.009 1462.92 Q959.027 1462.73 960.046 1462.73 Q965.833 1462.73 969.213 1465.9 Q972.592 1469.08 972.592 1474.49 Q972.592 1480.07 969.12 1483.17 Q965.648 1486.25 959.328 1486.25 Q957.152 1486.25 954.884 1485.88 Q952.639 1485.51 950.231 1484.77 L950.231 1480.07 Q952.315 1481.2 954.537 1481.76 Q956.759 1482.32 959.236 1482.32 Q963.24 1482.32 965.578 1480.21 Q967.916 1478.1 967.916 1474.49 Q967.916 1470.88 965.578 1468.77 Q963.24 1466.67 959.236 1466.67 Q957.361 1466.67 955.486 1467.08 Q953.634 1467.5 951.69 1468.38 L951.69 1451.02 Z\" fill=\"#000000\" fill-rule=\"evenodd\" fill-opacity=\"1\" /><path clip-path=\"url(#clip710)\" d=\"M1605.11 1481.64 L1612.75 1481.64 L1612.75 1455.28 L1604.44 1456.95 L1604.44 1452.69 L1612.7 1451.02 L1617.38 1451.02 L1617.38 1481.64 L1625.02 1481.64 L1625.02 1485.58 L1605.11 1485.58 L1605.11 1481.64 Z\" fill=\"#000000\" fill-rule=\"evenodd\" fill-opacity=\"1\" /><path clip-path=\"url(#clip710)\" d=\"M1644.46 1454.1 Q1640.85 1454.1 1639.02 1457.66 Q1637.22 1461.2 1637.22 1468.33 Q1637.22 1475.44 1639.02 1479.01 Q1640.85 1482.55 1644.46 1482.55 Q1648.1 1482.55 1649.9 1479.01 Q1651.73 1475.44 1651.73 1468.33 Q1651.73 1461.2 1649.9 1457.66 Q1648.1 1454.1 1644.46 1454.1 M1644.46 1450.39 Q1650.27 1450.39 1653.33 1455 Q1656.41 1459.58 1656.41 1468.33 Q1656.41 1477.06 1653.33 1481.67 Q1650.27 1486.25 1644.46 1486.25 Q1638.65 1486.25 1635.57 1481.67 Q1632.52 1477.06 1632.52 1468.33 Q1632.52 1459.58 1635.57 1455 Q1638.65 1450.39 1644.46 1450.39 Z\" fill=\"#000000\" fill-rule=\"evenodd\" fill-opacity=\"1\" /><path clip-path=\"url(#clip710)\" d=\"M2274.62 1481.64 L2282.26 1481.64 L2282.26 1455.28 L2273.95 1456.95 L2273.95 1452.69 L2282.21 1451.02 L2286.89 1451.02 L2286.89 1481.64 L2294.53 1481.64 L2294.53 1485.58 L2274.62 1485.58 L2274.62 1481.64 Z\" fill=\"#000000\" fill-rule=\"evenodd\" fill-opacity=\"1\" /><path clip-path=\"url(#clip710)\" d=\"M2304.02 1451.02 L2322.38 1451.02 L2322.38 1454.96 L2308.3 1454.96 L2308.3 1463.43 Q2309.32 1463.08 2310.34 1462.92 Q2311.36 1462.73 2312.38 1462.73 Q2318.16 1462.73 2321.54 1465.9 Q2324.92 1469.08 2324.92 1474.49 Q2324.92 1480.07 2321.45 1483.17 Q2317.98 1486.25 2311.66 1486.25 Q2309.48 1486.25 2307.21 1485.88 Q2304.97 1485.51 2302.56 1484.77 L2302.56 1480.07 Q2304.64 1481.2 2306.87 1481.76 Q2309.09 1482.32 2311.57 1482.32 Q2315.57 1482.32 2317.91 1480.21 Q2320.25 1478.1 2320.25 1474.49 Q2320.25 1470.88 2317.91 1468.77 Q2315.57 1466.67 2311.57 1466.67 Q2309.69 1466.67 2307.82 1467.08 Q2305.96 1467.5 2304.02 1468.38 L2304.02 1451.02 Z\" fill=\"#000000\" fill-rule=\"evenodd\" fill-opacity=\"1\" /><path clip-path=\"url(#clip710)\" d=\"M1180.03 1522.27 L1180.03 1532.4 L1192.09 1532.4 L1192.09 1536.95 L1180.03 1536.95 L1180.03 1556.3 Q1180.03 1560.66 1181.2 1561.9 Q1182.41 1563.14 1186.07 1563.14 L1192.09 1563.14 L1192.09 1568.04 L1186.07 1568.04 Q1179.29 1568.04 1176.72 1565.53 Q1174.14 1562.98 1174.14 1556.3 L1174.14 1536.95 L1169.84 1536.95 L1169.84 1532.4 L1174.14 1532.4 L1174.14 1522.27 L1180.03 1522.27 Z\" fill=\"#000000\" fill-rule=\"evenodd\" fill-opacity=\"1\" /><path clip-path=\"url(#clip710)\" d=\"M1199.79 1532.4 L1205.65 1532.4 L1205.65 1568.04 L1199.79 1568.04 L1199.79 1532.4 M1199.79 1518.52 L1205.65 1518.52 L1205.65 1525.93 L1199.79 1525.93 L1199.79 1518.52 Z\" fill=\"#000000\" fill-rule=\"evenodd\" fill-opacity=\"1\" /><path clip-path=\"url(#clip710)\" d=\"M1245.66 1539.24 Q1247.85 1535.29 1250.91 1533.41 Q1253.96 1531.54 1258.1 1531.54 Q1263.67 1531.54 1266.7 1535.45 Q1269.72 1539.33 1269.72 1546.53 L1269.72 1568.04 L1263.83 1568.04 L1263.83 1546.72 Q1263.83 1541.59 1262.02 1539.11 Q1260.2 1536.63 1256.48 1536.63 Q1251.93 1536.63 1249.29 1539.65 Q1246.64 1542.68 1246.64 1547.9 L1246.64 1568.04 L1240.76 1568.04 L1240.76 1546.72 Q1240.76 1541.56 1238.94 1539.11 Q1237.13 1536.63 1233.34 1536.63 Q1228.85 1536.63 1226.21 1539.68 Q1223.57 1542.71 1223.57 1547.9 L1223.57 1568.04 L1217.68 1568.04 L1217.68 1532.4 L1223.57 1532.4 L1223.57 1537.93 Q1225.57 1534.66 1228.37 1533.1 Q1231.18 1531.54 1235.03 1531.54 Q1238.91 1531.54 1241.62 1533.51 Q1244.35 1535.48 1245.66 1539.24 Z\" fill=\"#000000\" fill-rule=\"evenodd\" fill-opacity=\"1\" /><path clip-path=\"url(#clip710)\" d=\"M1311.89 1548.76 L1311.89 1551.62 L1284.97 1551.62 Q1285.35 1557.67 1288.59 1560.85 Q1291.87 1564 1297.7 1564 Q1301.07 1564 1304.22 1563.17 Q1307.4 1562.35 1310.52 1560.69 L1310.52 1566.23 Q1307.37 1567.57 1304.06 1568.27 Q1300.75 1568.97 1297.35 1568.97 Q1288.82 1568.97 1283.82 1564 Q1278.85 1559.04 1278.85 1550.57 Q1278.85 1541.82 1283.57 1536.69 Q1288.31 1531.54 1296.33 1531.54 Q1303.52 1531.54 1307.69 1536.18 Q1311.89 1540.8 1311.89 1548.76 M1306.04 1547.04 Q1305.97 1542.23 1303.33 1539.37 Q1300.72 1536.5 1296.39 1536.5 Q1291.49 1536.5 1288.53 1539.27 Q1285.6 1542.04 1285.16 1547.07 L1306.04 1547.04 Z\" fill=\"#000000\" fill-rule=\"evenodd\" fill-opacity=\"1\" /><path clip-path=\"url(#clip710)\" d=\"M1356.29 1518.58 Q1352.03 1525.9 1349.96 1533.06 Q1347.89 1540.23 1347.89 1547.58 Q1347.89 1554.93 1349.96 1562.16 Q1352.06 1569.35 1356.29 1576.64 L1351.2 1576.64 Q1346.43 1569.16 1344.04 1561.93 Q1341.68 1554.71 1341.68 1547.58 Q1341.68 1540.48 1344.04 1533.29 Q1346.39 1526.09 1351.2 1518.58 L1356.29 1518.58 Z\" fill=\"#000000\" fill-rule=\"evenodd\" fill-opacity=\"1\" /><path clip-path=\"url(#clip710)\" d=\"M1390.38 1533.45 L1390.38 1538.98 Q1387.9 1537.71 1385.23 1537.07 Q1382.55 1536.44 1379.69 1536.44 Q1375.33 1536.44 1373.13 1537.77 Q1370.97 1539.11 1370.97 1541.79 Q1370.97 1543.82 1372.53 1545 Q1374.09 1546.15 1378.8 1547.2 L1380.8 1547.64 Q1387.04 1548.98 1389.65 1551.43 Q1392.29 1553.85 1392.29 1558.21 Q1392.29 1563.17 1388.34 1566.07 Q1384.43 1568.97 1377.55 1568.97 Q1374.69 1568.97 1371.57 1568.39 Q1368.48 1567.85 1365.05 1566.74 L1365.05 1560.69 Q1368.29 1562.38 1371.44 1563.24 Q1374.59 1564.07 1377.68 1564.07 Q1381.82 1564.07 1384.05 1562.66 Q1386.28 1561.23 1386.28 1558.65 Q1386.28 1556.27 1384.65 1554.99 Q1383.06 1553.72 1377.62 1552.54 L1375.58 1552.07 Q1370.14 1550.92 1367.72 1548.56 Q1365.3 1546.18 1365.3 1542.04 Q1365.3 1537.01 1368.87 1534.27 Q1372.43 1531.54 1378.99 1531.54 Q1382.23 1531.54 1385.1 1532.01 Q1387.96 1532.49 1390.38 1533.45 Z\" fill=\"#000000\" fill-rule=\"evenodd\" fill-opacity=\"1\" /><path clip-path=\"url(#clip710)\" d=\"M1400.69 1518.58 L1405.79 1518.58 Q1410.56 1526.09 1412.92 1533.29 Q1415.3 1540.48 1415.3 1547.58 Q1415.3 1554.71 1412.92 1561.93 Q1410.56 1569.16 1405.79 1576.64 L1400.69 1576.64 Q1404.93 1569.35 1407 1562.16 Q1409.1 1554.93 1409.1 1547.58 Q1409.1 1540.23 1407 1533.06 Q1404.93 1525.9 1400.69 1518.58 Z\" fill=\"#000000\" fill-rule=\"evenodd\" fill-opacity=\"1\" /><polyline clip-path=\"url(#clip712)\" style=\"stroke:#000000; stroke-linecap:round; stroke-linejoin:round; stroke-width:2; stroke-opacity:0.1; fill:none\" points=\"232.389,1313.89 2352.76,1313.89 \"/>\n<polyline clip-path=\"url(#clip712)\" style=\"stroke:#000000; stroke-linecap:round; stroke-linejoin:round; stroke-width:2; stroke-opacity:0.1; fill:none\" points=\"232.389,1067.19 2352.76,1067.19 \"/>\n<polyline clip-path=\"url(#clip712)\" style=\"stroke:#000000; stroke-linecap:round; stroke-linejoin:round; stroke-width:2; stroke-opacity:0.1; fill:none\" points=\"232.389,820.494 2352.76,820.494 \"/>\n<polyline clip-path=\"url(#clip712)\" style=\"stroke:#000000; stroke-linecap:round; stroke-linejoin:round; stroke-width:2; stroke-opacity:0.1; fill:none\" points=\"232.389,573.795 2352.76,573.795 \"/>\n<polyline clip-path=\"url(#clip712)\" style=\"stroke:#000000; stroke-linecap:round; stroke-linejoin:round; stroke-width:2; stroke-opacity:0.1; fill:none\" points=\"232.389,327.095 2352.76,327.095 \"/>\n<polyline clip-path=\"url(#clip710)\" style=\"stroke:#000000; stroke-linecap:round; stroke-linejoin:round; stroke-width:4; stroke-opacity:1; fill:none\" points=\"232.389,1423.18 232.389,123.472 \"/>\n<polyline clip-path=\"url(#clip710)\" style=\"stroke:#000000; stroke-linecap:round; stroke-linejoin:round; stroke-width:4; stroke-opacity:1; fill:none\" points=\"232.389,1313.89 251.287,1313.89 \"/>\n<polyline clip-path=\"url(#clip710)\" style=\"stroke:#000000; stroke-linecap:round; stroke-linejoin:round; stroke-width:4; stroke-opacity:1; fill:none\" points=\"232.389,1067.19 251.287,1067.19 \"/>\n<polyline clip-path=\"url(#clip710)\" style=\"stroke:#000000; stroke-linecap:round; stroke-linejoin:round; stroke-width:4; stroke-opacity:1; fill:none\" points=\"232.389,820.494 251.287,820.494 \"/>\n<polyline clip-path=\"url(#clip710)\" style=\"stroke:#000000; stroke-linecap:round; stroke-linejoin:round; stroke-width:4; stroke-opacity:1; fill:none\" points=\"232.389,573.795 251.287,573.795 \"/>\n<polyline clip-path=\"url(#clip710)\" style=\"stroke:#000000; stroke-linecap:round; stroke-linejoin:round; stroke-width:4; stroke-opacity:1; fill:none\" points=\"232.389,327.095 251.287,327.095 \"/>\n<path clip-path=\"url(#clip710)\" d=\"M184.445 1299.69 Q180.834 1299.69 179.005 1303.26 Q177.2 1306.8 177.2 1313.93 Q177.2 1321.03 179.005 1324.6 Q180.834 1328.14 184.445 1328.14 Q188.079 1328.14 189.885 1324.6 Q191.713 1321.03 191.713 1313.93 Q191.713 1306.8 189.885 1303.26 Q188.079 1299.69 184.445 1299.69 M184.445 1295.99 Q190.255 1295.99 193.311 1300.59 Q196.389 1305.18 196.389 1313.93 Q196.389 1322.65 193.311 1327.26 Q190.255 1331.84 184.445 1331.84 Q178.635 1331.84 175.556 1327.26 Q172.501 1322.65 172.501 1313.93 Q172.501 1305.18 175.556 1300.59 Q178.635 1295.99 184.445 1295.99 Z\" fill=\"#000000\" fill-rule=\"evenodd\" fill-opacity=\"1\" /><path clip-path=\"url(#clip710)\" d=\"M149.306 1080.54 L165.626 1080.54 L165.626 1084.47 L143.681 1084.47 L143.681 1080.54 Q146.343 1077.78 150.927 1073.15 Q155.533 1068.5 156.714 1067.16 Q158.959 1064.64 159.839 1062.9 Q160.741 1061.14 160.741 1059.45 Q160.741 1056.7 158.797 1054.96 Q156.876 1053.22 153.774 1053.22 Q151.575 1053.22 149.121 1053.99 Q146.691 1054.75 143.913 1056.3 L143.913 1051.58 Q146.737 1050.45 149.191 1049.87 Q151.644 1049.29 153.681 1049.29 Q159.052 1049.29 162.246 1051.97 Q165.44 1054.66 165.44 1059.15 Q165.44 1061.28 164.63 1063.2 Q163.843 1065.1 161.737 1067.69 Q161.158 1068.36 158.056 1071.58 Q154.954 1074.77 149.306 1080.54 Z\" fill=\"#000000\" fill-rule=\"evenodd\" fill-opacity=\"1\" /><path clip-path=\"url(#clip710)\" d=\"M175.487 1049.91 L193.843 1049.91 L193.843 1053.85 L179.769 1053.85 L179.769 1062.32 Q180.788 1061.97 181.806 1061.81 Q182.825 1061.63 183.843 1061.63 Q189.63 1061.63 193.01 1064.8 Q196.389 1067.97 196.389 1073.39 Q196.389 1078.96 192.917 1082.07 Q189.445 1085.14 183.126 1085.14 Q180.95 1085.14 178.681 1084.77 Q176.436 1084.4 174.028 1083.66 L174.028 1078.96 Q176.112 1080.1 178.334 1080.65 Q180.556 1081.21 183.033 1081.21 Q187.038 1081.21 189.375 1079.1 Q191.713 1077 191.713 1073.39 Q191.713 1069.77 189.375 1067.67 Q187.038 1065.56 183.033 1065.56 Q181.158 1065.56 179.283 1065.98 Q177.431 1066.39 175.487 1067.27 L175.487 1049.91 Z\" fill=\"#000000\" fill-rule=\"evenodd\" fill-opacity=\"1\" /><path clip-path=\"url(#clip710)\" d=\"M144.329 803.214 L162.686 803.214 L162.686 807.149 L148.612 807.149 L148.612 815.621 Q149.63 815.274 150.649 815.112 Q151.667 814.927 152.686 814.927 Q158.473 814.927 161.852 818.098 Q165.232 821.269 165.232 826.686 Q165.232 832.265 161.76 835.367 Q158.288 838.445 151.968 838.445 Q149.792 838.445 147.524 838.075 Q145.279 837.705 142.871 836.964 L142.871 832.265 Q144.954 833.399 147.177 833.955 Q149.399 834.51 151.876 834.51 Q155.88 834.51 158.218 832.404 Q160.556 830.297 160.556 826.686 Q160.556 823.075 158.218 820.968 Q155.88 818.862 151.876 818.862 Q150.001 818.862 148.126 819.279 Q146.274 819.695 144.329 820.575 L144.329 803.214 Z\" fill=\"#000000\" fill-rule=\"evenodd\" fill-opacity=\"1\" /><path clip-path=\"url(#clip710)\" d=\"M184.445 806.293 Q180.834 806.293 179.005 809.857 Q177.2 813.399 177.2 820.529 Q177.2 827.635 179.005 831.2 Q180.834 834.742 184.445 834.742 Q188.079 834.742 189.885 831.2 Q191.713 827.635 191.713 820.529 Q191.713 813.399 189.885 809.857 Q188.079 806.293 184.445 806.293 M184.445 802.589 Q190.255 802.589 193.311 807.195 Q196.389 811.779 196.389 820.529 Q196.389 829.255 193.311 833.862 Q190.255 838.445 184.445 838.445 Q178.635 838.445 175.556 833.862 Q172.501 829.255 172.501 820.529 Q172.501 811.779 175.556 807.195 Q178.635 802.589 184.445 802.589 Z\" fill=\"#000000\" fill-rule=\"evenodd\" fill-opacity=\"1\" /><path clip-path=\"url(#clip710)\" d=\"M144.098 556.515 L166.32 556.515 L166.32 558.505 L153.774 591.075 L148.89 591.075 L160.695 560.45 L144.098 560.45 L144.098 556.515 Z\" fill=\"#000000\" fill-rule=\"evenodd\" fill-opacity=\"1\" /><path clip-path=\"url(#clip710)\" d=\"M175.487 556.515 L193.843 556.515 L193.843 560.45 L179.769 560.45 L179.769 568.922 Q180.788 568.575 181.806 568.413 Q182.825 568.228 183.843 568.228 Q189.63 568.228 193.01 571.399 Q196.389 574.57 196.389 579.987 Q196.389 585.565 192.917 588.667 Q189.445 591.746 183.126 591.746 Q180.95 591.746 178.681 591.376 Q176.436 591.005 174.028 590.264 L174.028 585.565 Q176.112 586.7 178.334 587.255 Q180.556 587.811 183.033 587.811 Q187.038 587.811 189.375 585.704 Q191.713 583.598 191.713 579.987 Q191.713 576.376 189.375 574.269 Q187.038 572.163 183.033 572.163 Q181.158 572.163 179.283 572.579 Q177.431 572.996 175.487 573.876 L175.487 556.515 Z\" fill=\"#000000\" fill-rule=\"evenodd\" fill-opacity=\"1\" /><path clip-path=\"url(#clip710)\" d=\"M114.931 340.44 L122.57 340.44 L122.57 314.075 L114.26 315.741 L114.26 311.482 L122.524 309.815 L127.2 309.815 L127.2 340.44 L134.839 340.44 L134.839 344.375 L114.931 344.375 L114.931 340.44 Z\" fill=\"#000000\" fill-rule=\"evenodd\" fill-opacity=\"1\" /><path clip-path=\"url(#clip710)\" d=\"M154.283 312.894 Q150.672 312.894 148.843 316.459 Q147.038 320 147.038 327.13 Q147.038 334.236 148.843 337.801 Q150.672 341.343 154.283 341.343 Q157.917 341.343 159.723 337.801 Q161.552 334.236 161.552 327.13 Q161.552 320 159.723 316.459 Q157.917 312.894 154.283 312.894 M154.283 309.19 Q160.093 309.19 163.149 313.797 Q166.227 318.38 166.227 327.13 Q166.227 335.857 163.149 340.463 Q160.093 345.047 154.283 345.047 Q148.473 345.047 145.394 340.463 Q142.339 335.857 142.339 327.13 Q142.339 318.38 145.394 313.797 Q148.473 309.19 154.283 309.19 Z\" fill=\"#000000\" fill-rule=\"evenodd\" fill-opacity=\"1\" /><path clip-path=\"url(#clip710)\" d=\"M184.445 312.894 Q180.834 312.894 179.005 316.459 Q177.2 320 177.2 327.13 Q177.2 334.236 179.005 337.801 Q180.834 341.343 184.445 341.343 Q188.079 341.343 189.885 337.801 Q191.713 334.236 191.713 327.13 Q191.713 320 189.885 316.459 Q188.079 312.894 184.445 312.894 M184.445 309.19 Q190.255 309.19 193.311 313.797 Q196.389 318.38 196.389 327.13 Q196.389 335.857 193.311 340.463 Q190.255 345.047 184.445 345.047 Q178.635 345.047 175.556 340.463 Q172.501 335.857 172.501 327.13 Q172.501 318.38 175.556 313.797 Q178.635 309.19 184.445 309.19 Z\" fill=\"#000000\" fill-rule=\"evenodd\" fill-opacity=\"1\" /><path clip-path=\"url(#clip710)\" d=\"M49.9359 788.254 L28.3562 788.254 L28.3562 782.397 L49.7131 782.397 Q54.7739 782.397 57.3202 780.424 Q59.8346 778.45 59.8346 774.504 Q59.8346 769.761 56.8109 767.024 Q53.7872 764.255 48.5673 764.255 L28.3562 764.255 L28.3562 758.398 L64.0042 758.398 L64.0042 764.255 L58.5296 764.255 Q61.7762 766.387 63.3676 769.22 Q64.9272 772.021 64.9272 775.745 Q64.9272 781.888 61.1078 785.071 Q57.2883 788.254 49.9359 788.254 M27.4968 773.517 L27.4968 773.517 Z\" fill=\"#000000\" fill-rule=\"evenodd\" fill-opacity=\"1\" /><path clip-path=\"url(#clip710)\" d=\"M1029.71 12.096 L1037.89 12.096 L1037.89 72.576 L1029.71 72.576 L1029.71 12.096 Z\" fill=\"#000000\" fill-rule=\"evenodd\" fill-opacity=\"1\" /><path clip-path=\"url(#clip710)\" d=\"M1091.57 45.1919 L1091.57 72.576 L1084.11 72.576 L1084.11 45.4349 Q1084.11 38.994 1081.6 35.7938 Q1079.09 32.5936 1074.07 32.5936 Q1068.03 32.5936 1064.55 36.4419 Q1061.06 40.2903 1061.06 46.9338 L1061.06 72.576 L1053.57 72.576 L1053.57 27.2059 L1061.06 27.2059 L1061.06 34.2544 Q1063.74 30.163 1067.34 28.1376 Q1070.99 26.1121 1075.73 26.1121 Q1083.55 26.1121 1087.56 30.9732 Q1091.57 35.7938 1091.57 45.1919 Z\" fill=\"#000000\" fill-rule=\"evenodd\" fill-opacity=\"1\" /><path clip-path=\"url(#clip710)\" d=\"M1113.64 65.7705 L1113.64 89.8329 L1106.15 89.8329 L1106.15 27.2059 L1113.64 27.2059 L1113.64 34.0924 Q1115.99 30.0415 1119.56 28.0971 Q1123.16 26.1121 1128.15 26.1121 Q1136.41 26.1121 1141.55 32.6746 Q1146.74 39.2371 1146.74 49.9314 Q1146.74 60.6258 1141.55 67.1883 Q1136.41 73.7508 1128.15 73.7508 Q1123.16 73.7508 1119.56 71.8063 Q1115.99 69.8214 1113.64 65.7705 M1139 49.9314 Q1139 41.7081 1135.6 37.0496 Q1132.24 32.3505 1126.32 32.3505 Q1120.41 32.3505 1117.01 37.0496 Q1113.64 41.7081 1113.64 49.9314 Q1113.64 58.1548 1117.01 62.8538 Q1120.41 67.5124 1126.32 67.5124 Q1132.24 67.5124 1135.6 62.8538 Q1139 58.1548 1139 49.9314 Z\" fill=\"#000000\" fill-rule=\"evenodd\" fill-opacity=\"1\" /><path clip-path=\"url(#clip710)\" d=\"M1158.33 54.671 L1158.33 27.2059 L1165.78 27.2059 L1165.78 54.3874 Q1165.78 60.8284 1168.29 64.0691 Q1170.8 67.2693 1175.83 67.2693 Q1181.86 67.2693 1185.35 63.421 Q1188.87 59.5726 1188.87 52.9291 L1188.87 27.2059 L1196.32 27.2059 L1196.32 72.576 L1188.87 72.576 L1188.87 65.6084 Q1186.16 69.7404 1182.55 71.7658 Q1178.99 73.7508 1174.25 73.7508 Q1166.43 73.7508 1162.38 68.8897 Q1158.33 64.0286 1158.33 54.671 M1177.08 26.1121 L1177.08 26.1121 Z\" fill=\"#000000\" fill-rule=\"evenodd\" fill-opacity=\"1\" /><path clip-path=\"url(#clip710)\" d=\"M1219.05 14.324 L1219.05 27.2059 L1234.4 27.2059 L1234.4 32.9987 L1219.05 32.9987 L1219.05 57.6282 Q1219.05 63.1779 1220.55 64.7578 Q1222.09 66.3376 1226.75 66.3376 L1234.4 66.3376 L1234.4 72.576 L1226.75 72.576 Q1218.12 72.576 1214.84 69.3758 Q1211.55 66.1351 1211.55 57.6282 L1211.55 32.9987 L1206.09 32.9987 L1206.09 27.2059 L1211.55 27.2059 L1211.55 14.324 L1219.05 14.324 Z\" fill=\"#000000\" fill-rule=\"evenodd\" fill-opacity=\"1\" /><path clip-path=\"url(#clip710)\" d=\"M1270.9 12.096 L1279.08 12.096 L1279.08 36.8875 L1308.82 36.8875 L1308.82 12.096 L1317 12.096 L1317 72.576 L1308.82 72.576 L1308.82 43.7741 L1279.08 43.7741 L1279.08 72.576 L1270.9 72.576 L1270.9 12.096 Z\" fill=\"#000000\" fill-rule=\"evenodd\" fill-opacity=\"1\" /><path clip-path=\"url(#clip710)\" d=\"M1332.96 27.2059 L1340.41 27.2059 L1340.41 72.576 L1332.96 72.576 L1332.96 27.2059 M1332.96 9.54393 L1340.41 9.54393 L1340.41 18.9825 L1332.96 18.9825 L1332.96 9.54393 Z\" fill=\"#000000\" fill-rule=\"evenodd\" fill-opacity=\"1\" /><path clip-path=\"url(#clip710)\" d=\"M1384.93 28.5427 L1384.93 35.5912 Q1381.77 33.9709 1378.37 33.1607 Q1374.97 32.3505 1371.32 32.3505 Q1365.77 32.3505 1362.98 34.0519 Q1360.22 35.7533 1360.22 39.156 Q1360.22 41.7486 1362.21 43.2475 Q1364.19 44.7058 1370.19 46.0426 L1372.74 46.6097 Q1380.68 48.3111 1384 51.4303 Q1387.36 54.509 1387.36 60.0587 Q1387.36 66.3781 1382.34 70.0644 Q1377.36 73.7508 1368.61 73.7508 Q1364.96 73.7508 1360.99 73.0216 Q1357.06 72.3329 1352.69 70.9151 L1352.69 63.2184 Q1356.82 65.3654 1360.83 66.4591 Q1364.84 67.5124 1368.77 67.5124 Q1374.04 67.5124 1376.87 65.73 Q1379.71 63.9071 1379.71 60.6258 Q1379.71 57.5877 1377.64 55.9673 Q1375.62 54.3469 1368.69 52.8481 L1366.1 52.2405 Q1359.17 50.7821 1356.09 47.7845 Q1353.01 44.7463 1353.01 39.4801 Q1353.01 33.0797 1357.55 29.5959 Q1362.09 26.1121 1370.43 26.1121 Q1374.56 26.1121 1378.21 26.7198 Q1381.85 27.3274 1384.93 28.5427 Z\" fill=\"#000000\" fill-rule=\"evenodd\" fill-opacity=\"1\" /><path clip-path=\"url(#clip710)\" d=\"M1406.61 14.324 L1406.61 27.2059 L1421.96 27.2059 L1421.96 32.9987 L1406.61 32.9987 L1406.61 57.6282 Q1406.61 63.1779 1408.1 64.7578 Q1409.64 66.3376 1414.3 66.3376 L1421.96 66.3376 L1421.96 72.576 L1414.3 72.576 Q1405.67 72.576 1402.39 69.3758 Q1399.11 66.1351 1399.11 57.6282 L1399.11 32.9987 L1393.64 32.9987 L1393.64 27.2059 L1399.11 27.2059 L1399.11 14.324 L1406.61 14.324 Z\" fill=\"#000000\" fill-rule=\"evenodd\" fill-opacity=\"1\" /><path clip-path=\"url(#clip710)\" d=\"M1449.34 32.4315 Q1443.35 32.4315 1439.86 37.1306 Q1436.38 41.7891 1436.38 49.9314 Q1436.38 58.0738 1439.82 62.7728 Q1443.31 67.4314 1449.34 67.4314 Q1455.3 67.4314 1458.78 62.7323 Q1462.27 58.0333 1462.27 49.9314 Q1462.27 41.8701 1458.78 37.1711 Q1455.3 32.4315 1449.34 32.4315 M1449.34 26.1121 Q1459.06 26.1121 1464.61 32.4315 Q1470.16 38.7509 1470.16 49.9314 Q1470.16 61.0714 1464.61 67.4314 Q1459.06 73.7508 1449.34 73.7508 Q1439.58 73.7508 1434.03 67.4314 Q1428.52 61.0714 1428.52 49.9314 Q1428.52 38.7509 1434.03 32.4315 Q1439.58 26.1121 1449.34 26.1121 Z\" fill=\"#000000\" fill-rule=\"evenodd\" fill-opacity=\"1\" /><path clip-path=\"url(#clip710)\" d=\"M1508.81 34.1734 Q1507.55 33.4443 1506.06 33.1202 Q1504.6 32.7556 1502.81 32.7556 Q1496.5 32.7556 1493.09 36.8875 Q1489.73 40.9789 1489.73 48.6757 L1489.73 72.576 L1482.24 72.576 L1482.24 27.2059 L1489.73 27.2059 L1489.73 34.2544 Q1492.08 30.1225 1495.85 28.1376 Q1499.61 26.1121 1505 26.1121 Q1505.77 26.1121 1506.7 26.2337 Q1507.64 26.3147 1508.77 26.5172 L1508.81 34.1734 Z\" fill=\"#000000\" fill-rule=\"evenodd\" fill-opacity=\"1\" /><path clip-path=\"url(#clip710)\" d=\"M1535.51 76.7889 Q1532.35 84.8907 1529.35 87.3618 Q1526.35 89.8329 1521.33 89.8329 L1515.37 89.8329 L1515.37 83.5945 L1519.75 83.5945 Q1522.83 83.5945 1524.53 82.1361 Q1526.23 80.6778 1528.29 75.2496 L1529.63 71.8468 L1511.28 27.2059 L1519.18 27.2059 L1533.36 62.6918 L1547.54 27.2059 L1555.44 27.2059 L1535.51 76.7889 Z\" fill=\"#000000\" fill-rule=\"evenodd\" fill-opacity=\"1\" /><polyline clip-path=\"url(#clip712)\" style=\"stroke:#009af9; stroke-linecap:round; stroke-linejoin:round; stroke-width:4; stroke-opacity:1; fill:none\" points=\"292.4,1313.89 299.09,1233.37 305.78,1233.82 312.47,1239.31 319.16,1314.1 325.85,1314.08 332.54,1235.61 339.231,1313.89 345.921,1236.51 352.611,1313.99 359.301,1313.97 365.991,1237.86 372.681,1313.92 379.371,1238.77 386.061,1239.22 392.752,1239.67 399.442,1240.13 406.132,1240.58 412.822,1241.03 419.512,1241.49 426.202,1241.94 432.892,1242.4 439.582,1242.85 446.272,1243.31 452.963,1243.76 459.653,1244.22 466.343,1244.67 473.033,1245.13 479.723,1245.58 486.413,1246.03 493.103,1246.49 499.793,1246.94 506.484,1247.4 513.174,1247.85 519.864,1248.3 526.554,1248.76 533.244,1249.21 539.934,1249.66 546.624,1250.11 553.314,1250.57 560.005,1251.02 566.695,1251.47 573.385,1251.92 580.075,1252.37 586.765,1252.82 593.455,1253.27 600.145,1253.72 606.835,1254.17 613.525,1254.61 620.216,1255.06 626.906,1255.51 633.596,1255.95 640.286,1256.4 646.976,1256.84 653.666,1257.29 660.356,1257.73 667.046,1258.17 673.737,1258.62 680.427,1259.06 687.117,1259.5 693.807,1259.94 700.497,1260.38 707.187,1260.82 713.877,1261.25 720.567,1261.69 727.258,1262.13 733.948,1262.56 740.638,1263 747.328,1263.43 754.018,1263.86 760.708,1264.29 767.398,1264.72 774.088,1265.15 780.778,1265.58 787.469,1266.01 794.159,1266.44 800.849,1266.87 807.539,1267.29 814.229,1267.72 820.919,1268.14 827.609,1268.56 834.299,1268.99 840.99,1269.41 847.68,1269.83 854.37,1270.24 861.06,1270.66 867.75,1271.08 874.44,1271.5 881.13,1271.91 887.82,1272.32 894.511,1272.74 901.201,1273.15 907.891,1273.56 914.581,1273.97 921.271,1274.38 927.961,1274.79 934.651,1275.19 941.341,1275.6 948.031,1276 954.722,1276.41 961.412,1276.81 968.102,1277.21 974.792,1277.61 981.482,1278.01 988.172,1278.41 994.862,1278.81 1001.55,1279.2 1008.24,1279.6 1014.93,1279.99 1021.62,1280.38 1028.31,1280.78 1035,1281.17 1041.69,1281.56 1048.38,1281.94 1055.07,1282.33 1061.76,1282.72 1068.45,1283.1 1075.14,1283.49 1081.83,1283.87 1088.52,1284.25 1095.21,1284.63 1101.9,1285.01 1108.59,1285.39 1115.28,1285.77 1121.97,1286.15 1128.66,1286.52 1135.35,1286.9 1142.04,1287.27 1148.74,1287.65 1155.43,1288.02 1162.12,1288.39 1168.81,1288.76 1175.5,1289.13 1182.19,1289.49 1188.88,1289.86 1195.57,1290.22 1202.26,1290.59 1208.95,1290.95 1215.64,1291.31 1222.33,1291.68 1229.02,1292.04 1235.71,1292.39 1242.4,1292.75 1249.09,1293.11 1255.78,1293.47 1262.47,1293.82 1269.16,1294.18 1275.85,1294.53 1282.54,1294.88 1289.23,1295.23 1295.92,1295.58 1302.61,1295.93 1309.3,1296.28 1315.99,1296.63 1322.68,1296.98 1329.37,1297.32 1336.06,1297.67 1342.75,1298.01 1349.44,1298.35 1356.13,1298.69 1362.82,1299.04 1369.51,1299.38 1376.2,1299.72 1382.89,1300.05 1389.58,1300.39 1396.27,1300.73 1402.96,1301.06 1409.65,1301.4 1416.34,1301.73 1423.03,1302.07 1429.72,1302.4 1436.41,1302.73 1443.1,1303.06 1449.79,1303.39 1456.48,1303.72 1463.17,1304.05 1469.86,1304.38 1476.55,1304.71 1483.24,1305.03 1489.93,1305.36 1496.62,1305.68 1503.31,1306.01 1510,1306.33 1516.69,1306.65 1523.38,1306.97 1530.07,1307.3 1536.76,1307.62 1543.45,1307.94 1550.14,1308.25 1556.83,1308.57 1563.52,1308.89 1570.21,1309.21 1576.9,1309.52 1583.59,1309.84 1590.28,1310.16 1596.97,1310.47 1603.66,1310.78 1610.35,1311.1 1617.04,1311.41 1623.73,1311.72 1630.42,1312.04 1637.11,1312.35 1643.8,1312.66 1650.49,1312.97 1657.18,1313.28 1663.87,1313.59 1670.56,1313.89 1677.25,1314.2 1683.94,1314.51 1690.63,1314.82 1697.32,1315.12 1704.01,1315.43 1710.71,1315.74 1717.4,1316.04 1724.09,1316.35 1730.78,1316.65 1737.47,1316.95 1744.16,1317.26 1750.85,1317.56 1757.54,1317.86 1764.23,1318.16 1770.92,1318.47 1777.61,1318.77 1784.3,1319.07 1790.99,1319.37 1797.68,1319.67 1804.37,1319.97 1811.06,1320.27 1817.75,1320.57 1824.44,1320.87 1831.13,1321.17 1837.82,1321.47 1844.51,1321.76 1851.2,1322.06 1857.89,1322.36 1864.58,1322.66 1871.27,1322.95 1877.96,1323.25 1884.65,1323.55 1891.34,1323.84 1898.03,1324.14 1904.72,1324.44 1911.41,1324.73 1918.1,1325.03 1924.79,1325.32 1931.48,1325.62 1938.17,1325.91 1944.86,1326.21 1951.55,1326.5 1958.24,1326.8 1964.93,1327.09 1971.62,1327.39 1978.31,1327.68 1985,1327.97 1991.69,1328.27 1998.38,1328.56 2005.07,1328.86 2011.76,1329.15 2018.45,1329.44 2025.14,1329.74 2031.83,1330.03 2038.52,1330.32 2045.21,1330.62 2051.9,1330.91 2058.59,1331.2 2065.28,1331.49 2071.97,1331.79 2078.66,1332.08 2085.35,1332.37 2092.04,1332.67 2098.73,1332.96 2105.42,1333.25 2112.11,1333.54 2118.8,1333.84 2125.49,1334.13 2132.18,1334.42 2138.87,1334.71 2145.56,1335.01 2152.25,1335.3 2158.94,1335.59 2165.63,1335.89 2172.32,1336.18 2179.01,1336.47 2185.7,1336.76 2192.39,1337.06 2199.08,1337.35 2205.77,1337.64 2212.46,1337.94 2219.15,1338.23 2225.84,1338.52 2232.53,1338.81 2239.22,1339.11 2245.91,1339.4 2252.6,1339.69 2259.29,1339.99 2265.99,1340.28 2272.68,1340.58 2279.37,1340.87 2286.06,1341.16 2292.75,1341.46 \"/>\n<polyline clip-path=\"url(#clip712)\" style=\"stroke:#e26f46; stroke-linecap:round; stroke-linejoin:round; stroke-width:4; stroke-opacity:1; fill:none\" points=\"292.4,1313.89 299.09,1386.4 305.78,1385.88 312.47,1380.84 319.16,1313.7 325.85,1313.73 332.54,1383.84 339.231,1313.89 345.921,1382.83 352.611,1313.81 359.301,1313.83 365.991,1381.31 372.681,1313.87 379.371,1380.3 386.061,1379.8 392.752,1379.3 399.442,1378.8 406.132,1378.3 412.822,1377.8 419.512,1377.3 426.202,1376.8 432.892,1376.31 439.582,1375.81 446.272,1375.32 452.963,1374.83 459.653,1374.34 466.343,1373.85 473.033,1373.36 479.723,1372.87 486.413,1372.39 493.103,1371.9 499.793,1371.42 506.484,1370.94 513.174,1370.46 519.864,1369.98 526.554,1369.5 533.244,1369.02 539.934,1368.55 546.624,1368.07 553.314,1367.6 560.005,1367.13 566.695,1366.66 573.385,1366.19 580.075,1365.72 586.765,1365.26 593.455,1364.79 600.145,1364.33 606.835,1363.87 613.525,1363.41 620.216,1362.95 626.906,1362.49 633.596,1362.04 640.286,1361.58 646.976,1361.13 653.666,1360.68 660.356,1360.23 667.046,1359.78 673.737,1359.33 680.427,1358.89 687.117,1358.44 693.807,1358 700.497,1357.56 707.187,1357.12 713.877,1356.69 720.567,1356.25 727.258,1355.82 733.948,1355.38 740.638,1354.95 747.328,1354.52 754.018,1354.09 760.708,1353.67 767.398,1353.24 774.088,1352.82 780.778,1352.4 787.469,1351.98 794.159,1351.56 800.849,1351.14 807.539,1350.73 814.229,1350.31 820.919,1349.9 827.609,1349.49 834.299,1349.08 840.99,1348.67 847.68,1348.27 854.37,1347.86 861.06,1347.46 867.75,1347.06 874.44,1346.66 881.13,1346.26 887.82,1345.86 894.511,1345.47 901.201,1345.08 907.891,1344.68 914.581,1344.29 921.271,1343.9 927.961,1343.52 934.651,1343.13 941.341,1342.75 948.031,1342.37 954.722,1341.98 961.412,1341.6 968.102,1341.23 974.792,1340.85 981.482,1340.48 988.172,1340.1 994.862,1339.73 1001.55,1339.36 1008.24,1338.99 1014.93,1338.62 1021.62,1338.26 1028.31,1337.89 1035,1337.53 1041.69,1337.17 1048.38,1336.81 1055.07,1336.45 1061.76,1336.09 1068.45,1335.74 1075.14,1335.38 1081.83,1335.03 1088.52,1334.68 1095.21,1334.33 1101.9,1333.98 1108.59,1333.64 1115.28,1333.29 1121.97,1332.95 1128.66,1332.6 1135.35,1332.26 1142.04,1331.92 1148.74,1331.58 1155.43,1331.25 1162.12,1330.91 1168.81,1330.57 1175.5,1330.24 1182.19,1329.91 1188.88,1329.58 1195.57,1329.25 1202.26,1328.92 1208.95,1328.59 1215.64,1328.27 1222.33,1327.95 1229.02,1327.62 1235.71,1327.3 1242.4,1326.98 1249.09,1326.66 1255.78,1326.34 1262.47,1326.03 1269.16,1325.71 1275.85,1325.4 1282.54,1325.08 1289.23,1324.77 1295.92,1324.46 1302.61,1324.15 1309.3,1323.84 1315.99,1323.53 1322.68,1323.23 1329.37,1322.92 1336.06,1322.62 1342.75,1322.32 1349.44,1322.01 1356.13,1321.71 1362.82,1321.41 1369.51,1321.12 1376.2,1320.82 1382.89,1320.52 1389.58,1320.23 1396.27,1319.93 1402.96,1319.64 1409.65,1319.35 1416.34,1319.05 1423.03,1318.76 1429.72,1318.47 1436.41,1318.18 1443.1,1317.9 1449.79,1317.61 1456.48,1317.32 1463.17,1317.04 1469.86,1316.76 1476.55,1316.47 1483.24,1316.19 1489.93,1315.91 1496.62,1315.63 1503.31,1315.35 1510,1315.07 1516.69,1314.79 1523.38,1314.51 1530.07,1314.24 1536.76,1313.96 1543.45,1313.69 1550.14,1313.41 1556.83,1313.14 1563.52,1312.87 1570.21,1312.59 1576.9,1312.32 1583.59,1312.05 1590.28,1311.78 1596.97,1311.51 1603.66,1311.25 1610.35,1310.98 1617.04,1310.71 1623.73,1310.44 1630.42,1310.18 1637.11,1309.91 1643.8,1309.65 1650.49,1309.38 1657.18,1309.12 1663.87,1308.86 1670.56,1308.6 1677.25,1308.33 1683.94,1308.07 1690.63,1307.81 1697.32,1307.55 1704.01,1307.29 1710.71,1307.03 1717.4,1306.78 1724.09,1306.52 1730.78,1306.26 1737.47,1306 1744.16,1305.75 1750.85,1305.49 1757.54,1305.23 1764.23,1304.98 1770.92,1304.72 1777.61,1304.47 1784.3,1304.21 1790.99,1303.96 1797.68,1303.71 1804.37,1303.45 1811.06,1303.2 1817.75,1302.95 1824.44,1302.7 1831.13,1302.45 1837.82,1302.19 1844.51,1301.94 1851.2,1301.69 1857.89,1301.44 1864.58,1301.19 1871.27,1300.94 1877.96,1300.69 1884.65,1300.44 1891.34,1300.19 1898.03,1299.94 1904.72,1299.7 1911.41,1299.45 1918.1,1299.2 1924.79,1298.95 1931.48,1298.7 1938.17,1298.45 1944.86,1298.21 1951.55,1297.96 1958.24,1297.71 1964.93,1297.47 1971.62,1297.22 1978.31,1296.97 1985,1296.73 1991.69,1296.48 1998.38,1296.23 2005.07,1295.99 2011.76,1295.74 2018.45,1295.49 2025.14,1295.25 2031.83,1295 2038.52,1294.76 2045.21,1294.51 2051.9,1294.27 2058.59,1294.02 2065.28,1293.77 2071.97,1293.53 2078.66,1293.28 2085.35,1293.04 2092.04,1292.79 2098.73,1292.55 2105.42,1292.3 2112.11,1292.06 2118.8,1291.81 2125.49,1291.57 2132.18,1291.32 2138.87,1291.07 2145.56,1290.83 2152.25,1290.58 2158.94,1290.34 2165.63,1290.09 2172.32,1289.85 2179.01,1289.6 2185.7,1289.36 2192.39,1289.11 2199.08,1288.86 2205.77,1288.62 2212.46,1288.37 2219.15,1288.13 2225.84,1287.88 2232.53,1287.64 2239.22,1287.39 2245.91,1287.14 2252.6,1286.9 2259.29,1286.65 2265.99,1286.41 2272.68,1286.16 2279.37,1285.91 2286.06,1285.67 2292.75,1285.42 \"/>\n<polyline clip-path=\"url(#clip712)\" style=\"stroke:#3da44d; stroke-linecap:round; stroke-linejoin:round; stroke-width:4; stroke-opacity:1; fill:none\" points=\"292.4,1313.74 299.09,160.256 305.78,161.034 312.47,161.223 319.16,1310.53 325.85,1310.87 332.54,164.197 339.231,1313.74 345.921,165.813 352.611,1312.25 359.301,1312.6 365.991,168.279 372.681,1313.28 379.371,169.95 386.061,170.792 392.752,171.637 399.442,172.486 406.132,173.338 412.822,174.193 419.512,175.051 426.202,175.911 432.892,176.775 439.582,177.641 446.272,178.51 452.963,179.382 459.653,180.256 466.343,181.132 473.033,182.011 479.723,182.892 486.413,183.775 493.103,184.661 499.793,185.548 506.484,186.437 513.174,187.328 519.864,188.221 526.554,189.115 533.244,190.011 539.934,190.909 546.624,191.808 553.314,192.709 560.005,193.61 566.695,194.514 573.385,195.418 580.075,196.324 586.765,197.23 593.455,198.138 600.145,199.047 606.835,199.956 613.525,200.867 620.216,201.778 626.906,202.69 633.596,203.602 640.286,204.515 646.976,205.429 653.666,206.343 660.356,207.258 667.046,208.173 673.737,209.088 680.427,210.004 687.117,210.92 693.807,211.836 700.497,212.752 707.187,213.669 713.877,214.585 720.567,215.501 727.258,216.418 733.948,217.334 740.638,218.25 747.328,219.166 754.018,220.081 760.708,220.997 767.398,221.912 774.088,222.827 780.778,223.741 787.469,224.655 794.159,225.568 800.849,226.481 807.539,227.394 814.229,228.305 820.919,229.217 827.609,230.127 834.299,231.037 840.99,231.946 847.68,232.855 854.37,233.762 861.06,234.669 867.75,235.575 874.44,236.48 881.13,237.385 887.82,238.288 894.511,239.19 901.201,240.092 907.891,240.992 914.581,241.892 921.271,242.79 927.961,243.687 934.651,244.583 941.341,245.478 948.031,246.372 954.722,247.265 961.412,248.157 968.102,249.047 974.792,249.936 981.482,250.824 988.172,251.711 994.862,252.596 1001.55,253.48 1008.24,254.363 1014.93,255.244 1021.62,256.124 1028.31,257.003 1035,257.881 1041.69,258.757 1048.38,259.631 1055.07,260.504 1061.76,261.376 1068.45,262.246 1075.14,263.115 1081.83,263.983 1088.52,264.849 1095.21,265.713 1101.9,266.576 1108.59,267.437 1115.28,268.297 1121.97,269.156 1128.66,270.013 1135.35,270.868 1142.04,271.722 1148.74,272.575 1155.43,273.425 1162.12,274.275 1168.81,275.122 1175.5,275.969 1182.19,276.813 1188.88,277.656 1195.57,278.498 1202.26,279.338 1208.95,280.176 1215.64,281.013 1222.33,281.848 1229.02,282.682 1235.71,283.514 1242.4,284.344 1249.09,285.173 1255.78,286.001 1262.47,286.827 1269.16,287.651 1275.85,288.474 1282.54,289.295 1289.23,290.114 1295.92,290.932 1302.61,291.749 1309.3,292.564 1315.99,293.377 1322.68,294.189 1329.37,295 1336.06,295.808 1342.75,296.616 1349.44,297.421 1356.13,298.226 1362.82,299.029 1369.51,299.83 1376.2,300.63 1382.89,301.428 1389.58,302.225 1396.27,303.02 1402.96,303.814 1409.65,304.607 1416.34,305.398 1423.03,306.187 1429.72,306.975 1436.41,307.762 1443.1,308.547 1449.79,309.331 1456.48,310.114 1463.17,310.895 1469.86,311.675 1476.55,312.454 1483.24,313.231 1489.93,314.007 1496.62,314.781 1503.31,315.554 1510,316.326 1516.69,317.097 1523.38,317.866 1530.07,318.634 1536.76,319.401 1543.45,320.167 1550.14,320.931 1556.83,321.695 1563.52,322.457 1570.21,323.217 1576.9,323.977 1583.59,324.736 1590.28,325.493 1596.97,326.249 1603.66,327.004 1610.35,327.758 1617.04,328.511 1623.73,329.263 1630.42,330.014 1637.11,330.764 1643.8,331.513 1650.49,332.26 1657.18,333.007 1663.87,333.753 1670.56,334.498 1677.25,335.242 1683.94,335.985 1690.63,336.727 1697.32,337.468 1704.01,338.208 1710.71,338.947 1717.4,339.686 1724.09,340.423 1730.78,341.16 1737.47,341.896 1744.16,342.631 1750.85,343.366 1757.54,344.099 1764.23,344.832 1770.92,345.564 1777.61,346.296 1784.3,347.027 1790.99,347.757 1797.68,348.486 1804.37,349.215 1811.06,349.943 1817.75,350.67 1824.44,351.397 1831.13,352.123 1837.82,352.849 1844.51,353.574 1851.2,354.298 1857.89,355.022 1864.58,355.746 1871.27,356.469 1877.96,357.191 1884.65,357.913 1891.34,358.635 1898.03,359.356 1904.72,360.077 1911.41,360.797 1918.1,361.517 1924.79,362.236 1931.48,362.955 1938.17,363.674 1944.86,364.393 1951.55,365.111 1958.24,365.828 1964.93,366.546 1971.62,367.263 1978.31,367.98 1985,368.697 1991.69,369.413 1998.38,370.129 2005.07,370.845 2011.76,371.561 2018.45,372.276 2025.14,372.992 2031.83,373.707 2038.52,374.422 2045.21,375.137 2051.9,375.852 2058.59,376.566 2065.28,377.281 2071.97,377.995 2078.66,378.709 2085.35,379.424 2092.04,380.138 2098.73,380.852 2105.42,381.566 2112.11,382.28 2118.8,382.994 2125.49,383.708 2132.18,384.422 2138.87,385.136 2145.56,385.85 2152.25,386.564 2158.94,387.278 2165.63,387.992 2172.32,388.706 2179.01,389.421 2185.7,390.135 2192.39,390.849 2199.08,391.564 2205.77,392.278 2212.46,392.993 2219.15,393.707 2225.84,394.422 2232.53,395.137 2239.22,395.852 2245.91,396.567 2252.6,397.282 2259.29,397.997 2265.99,398.713 2272.68,399.428 2279.37,400.144 2286.06,400.86 2292.75,401.576 \"/>\n<path clip-path=\"url(#clip710)\" d=\"M2027.42 374.156 L2282.08 374.156 L2282.08 166.796 L2027.42 166.796  Z\" fill=\"#ffffff\" fill-rule=\"evenodd\" fill-opacity=\"1\"/>\n<polyline clip-path=\"url(#clip710)\" style=\"stroke:#000000; stroke-linecap:round; stroke-linejoin:round; stroke-width:4; stroke-opacity:1; fill:none\" points=\"2027.42,374.156 2282.08,374.156 2282.08,166.796 2027.42,166.796 2027.42,374.156 \"/>\n<polyline clip-path=\"url(#clip710)\" style=\"stroke:#009af9; stroke-linecap:round; stroke-linejoin:round; stroke-width:4; stroke-opacity:1; fill:none\" points=\"2050.98,218.636 2192.34,218.636 \"/>\n<path clip-path=\"url(#clip710)\" d=\"M2215.9 225.684 L2215.9 209.99 L2220.16 209.99 L2220.16 225.522 Q2220.16 229.203 2221.6 231.055 Q2223.03 232.883 2225.9 232.883 Q2229.35 232.883 2231.34 230.684 Q2233.36 228.485 2233.36 224.689 L2233.36 209.99 L2237.61 209.99 L2237.61 235.916 L2233.36 235.916 L2233.36 231.934 Q2231.8 234.295 2229.74 235.453 Q2227.71 236.587 2225 236.587 Q2220.53 236.587 2218.22 233.809 Q2215.9 231.031 2215.9 225.684 M2226.62 209.365 L2226.62 209.365 Z\" fill=\"#000000\" fill-rule=\"evenodd\" fill-opacity=\"1\" /><path clip-path=\"url(#clip710)\" d=\"M2245.53 233.369 L2250.25 233.369 L2250.25 219.226 L2245.09 220.175 L2245.09 217.49 L2250.42 216.587 L2253.59 216.587 L2253.59 233.369 L2258.33 233.369 L2258.33 235.916 L2245.53 235.916 L2245.53 233.369 Z\" fill=\"#000000\" fill-rule=\"evenodd\" fill-opacity=\"1\" /><polyline clip-path=\"url(#clip710)\" style=\"stroke:#e26f46; stroke-linecap:round; stroke-linejoin:round; stroke-width:4; stroke-opacity:1; fill:none\" points=\"2050.98,270.476 2192.34,270.476 \"/>\n<path clip-path=\"url(#clip710)\" d=\"M2215.9 277.524 L2215.9 261.83 L2220.16 261.83 L2220.16 277.362 Q2220.16 281.043 2221.6 282.895 Q2223.03 284.723 2225.9 284.723 Q2229.35 284.723 2231.34 282.524 Q2233.36 280.325 2233.36 276.529 L2233.36 261.83 L2237.61 261.83 L2237.61 287.756 L2233.36 287.756 L2233.36 283.774 Q2231.8 286.135 2229.74 287.293 Q2227.71 288.427 2225 288.427 Q2220.53 288.427 2218.22 285.649 Q2215.9 282.871 2215.9 277.524 M2226.62 261.205 L2226.62 261.205 Z\" fill=\"#000000\" fill-rule=\"evenodd\" fill-opacity=\"1\" /><path clip-path=\"url(#clip710)\" d=\"M2248.12 285.117 L2257.94 285.117 L2257.94 287.756 L2244.1 287.756 L2244.1 285.209 Q2244.88 284.492 2246.34 283.196 Q2254.3 276.135 2254.3 273.959 Q2254.3 272.432 2253.1 271.506 Q2251.9 270.557 2249.93 270.557 Q2248.73 270.557 2247.31 270.973 Q2245.9 271.367 2244.24 272.177 L2244.24 269.33 Q2246.02 268.682 2247.55 268.358 Q2249.1 268.034 2250.42 268.034 Q2253.77 268.034 2255.79 269.561 Q2257.8 271.089 2257.8 273.589 Q2257.8 276.807 2250.14 283.381 Q2248.84 284.492 2248.12 285.117 Z\" fill=\"#000000\" fill-rule=\"evenodd\" fill-opacity=\"1\" /><polyline clip-path=\"url(#clip710)\" style=\"stroke:#3da44d; stroke-linecap:round; stroke-linejoin:round; stroke-width:4; stroke-opacity:1; fill:none\" points=\"2050.98,322.316 2192.34,322.316 \"/>\n<path clip-path=\"url(#clip710)\" d=\"M2215.9 329.364 L2215.9 313.67 L2220.16 313.67 L2220.16 329.202 Q2220.16 332.883 2221.6 334.735 Q2223.03 336.563 2225.9 336.563 Q2229.35 336.563 2231.34 334.364 Q2233.36 332.165 2233.36 328.369 L2233.36 313.67 L2237.61 313.67 L2237.61 339.596 L2233.36 339.596 L2233.36 335.614 Q2231.8 337.975 2229.74 339.133 Q2227.71 340.267 2225 340.267 Q2220.53 340.267 2218.22 337.489 Q2215.9 334.711 2215.9 329.364 M2226.62 313.045 L2226.62 313.045 Z\" fill=\"#000000\" fill-rule=\"evenodd\" fill-opacity=\"1\" /><path clip-path=\"url(#clip710)\" d=\"M2254.05 329.133 Q2256.18 329.549 2257.34 330.823 Q2258.52 332.073 2258.52 333.971 Q2258.52 336.841 2256.32 338.392 Q2254.12 339.943 2250.02 339.943 Q2248.7 339.943 2247.24 339.688 Q2245.81 339.457 2244.19 338.994 L2244.19 336.193 Q2245.39 336.818 2246.76 337.119 Q2248.15 337.42 2249.7 337.42 Q2252.22 337.42 2253.61 336.517 Q2255 335.591 2255 333.971 Q2255 332.258 2253.7 331.378 Q2252.43 330.499 2249.93 330.499 L2247.94 330.499 L2247.94 327.999 L2250.11 327.999 Q2252.29 327.999 2253.4 327.281 Q2254.54 326.54 2254.54 325.151 Q2254.54 323.809 2253.38 323.114 Q2252.22 322.397 2250.02 322.397 Q2249.1 322.397 2247.92 322.605 Q2246.74 322.813 2244.86 323.346 L2244.86 320.684 Q2246.55 320.29 2248.03 320.082 Q2249.51 319.874 2250.79 319.874 Q2254.12 319.874 2256.06 321.239 Q2258.03 322.605 2258.03 324.897 Q2258.03 326.494 2256.99 327.605 Q2255.95 328.716 2254.05 329.133 Z\" fill=\"#000000\" fill-rule=\"evenodd\" fill-opacity=\"1\" /></svg>\n"
     },
     "metadata": {},
     "output_type": "display_data"
    }
   ],
   "source": [
    "# @changeprecision Float32 begin\n",
    "# Let's solve\n",
    "\n",
    "# λ = zeros(params.nx)    # goal constraint\n",
    "# λc = [zeros(params.ncu_cone) for i = 1:N-1]   # goal constraint\n",
    "    \n",
    "# Let's solve\n",
    "\n",
    "nx = 6\n",
    "nu = 3\n",
    "N = 301\n",
    "dt = 0.05\n",
    "t_vec = dt*(0:N-1)\n",
    "x0 = [4, 2, 20, -3, 2, -5.0]\n",
    "xg = [0,0,0,0,0,0.0]\n",
    "Xref = [deepcopy(xg) for i = 1:N]\n",
    "Uref = [zeros(nu) for i = 1:N-1]\n",
    "\n",
    "Q = 1e-1*I(nx)\n",
    "R = 10e-1*I(nu)\n",
    "Qf = 100*I(nx)\n",
    "\n",
    "# ground_level = 0.0\n",
    "gravity = [0; 0; -9.81]\n",
    "mass = 10.0\n",
    "# ωPlanet = [0.0; 0.0; 0.0]\n",
    "perWeightMax = 2.0\n",
    "θ_thrust_max = 5.0  # deg\n",
    "# θ_glideslope = 60.0 # deg\n",
    "# glide_recover_k = 8\n",
    "\n",
    "A_cone = [1 0 0; 0 1 0]\n",
    "c_cone = [0.0, 0.0, tand(θ_thrust_max)]\n",
    "u_bnd = mass * abs(gravity[3]) * perWeightMax\n",
    "u_min = -170*ones(nu)\n",
    "u_max =  170*ones(nu)\n",
    "\n",
    "# state is x y v θ\n",
    "x_min = [-5,-5,0,-10,-10,-10.0]\n",
    "x_max = [5,5,20,10,10,10.0]\n",
    "\n",
    "ncx = 2*nx*0\n",
    "ncu = 2*nu*0\n",
    "ncg = 1\n",
    "ncu_cone = nu*1; \n",
    "cone_scale = 1e-2  # very fragile for each problem\n",
    "\n",
    "params = (\n",
    "    nx = nx,\n",
    "    nu = nu,\n",
    "    ncx = ncx,\n",
    "    ncu = ncu,\n",
    "    ncg = ncg,\n",
    "    ncu_cone = ncu_cone,\n",
    "    A_cone = A_cone,\n",
    "    c_cone = c_cone,\n",
    "    N = N,\n",
    "    Q = Q,\n",
    "    R = R,\n",
    "    Qf = Qf,\n",
    "    u_min = u_min,\n",
    "    u_max = u_max,\n",
    "    x_min = x_min,\n",
    "    x_max = x_max,\n",
    "    Xref = Xref,\n",
    "    Uref = Uref,\n",
    "    dt = dt,\n",
    "    mc = 1.0,\n",
    "    mp = 0.2,\n",
    "    l = 0.5,\n",
    "    g = 9.81,\n",
    ");\n",
    "\n",
    "# previous iterate\n",
    "X = [deepcopy(x0) for i = 1:N]\n",
    "U = [zeros(nu) for k = 1:N-1]\n",
    "# X = Xref*1\n",
    "# U = Uref*1\n",
    "# new iterate\n",
    "Xn = deepcopy(X)\n",
    "Un = deepcopy(U)\n",
    "\n",
    "P = [zeros(nx,nx) for i = 1:N]   # cost to go quadratic term\n",
    "p = [zeros(nx) for i = 1:N]      # cost to go linear term\n",
    "d = [zeros(nu) for i = 1:N-1]    # feedforward control\n",
    "K = [zeros(nu,nx) for i = 1:N-1] # feedback gain\n",
    "u_ = mpc(params,X,U,P,p,K,d,Xn,Un; atol=1e-4, max_iters = 20, verbose = true, ρ = 1e0, ρ_max = 1e8, ϕ = 10.0);\n",
    "function mat_from_vec(X)::Matrix\n",
    "    # convert a vector of vectors to a matrix \n",
    "    Xm = hcat(X...)\n",
    "    return Xm \n",
    "end\n",
    "Xsim_m = mat_from_vec(Xn)\n",
    "Usim_m = mat_from_vec(Un)\n",
    "using Plots\n",
    "display(plot(t_vec,Xsim_m',label = [\"x₁\" \"x₂\" \"x₃\" \"ẋ₁\" \"ẋ₂\" \"ẋ₃\"],linestyle=[:solid :solid :solid :dash :dash :dash],\n",
    "             title = \"State History\",\n",
    "             xlabel = \"time (s)\", ylabel = \"x\"))\n",
    "display(plot(t_vec[1:end-1],Usim_m',label = [\"u₁\" \"u₂\" \"u₃\"],\n",
    "             title = \"Input History\",\n",
    "             xlabel = \"time (s)\", ylabel = \"u\"))\n",
    "# end"
   ]
  },
  {
   "cell_type": "code",
   "execution_count": 249,
   "id": "7157fa13",
   "metadata": {},
   "outputs": [
    {
     "data": {
      "text/plain": [
       "-0.0013275461920164893"
      ]
     },
     "metadata": {},
     "output_type": "display_data"
    },
    {
     "data": {
      "text/plain": [
       "0.7522982448519411"
      ]
     },
     "metadata": {},
     "output_type": "display_data"
    },
    {
     "data": {
      "text/plain": [
       "0.6909063257366341"
      ]
     },
     "metadata": {},
     "output_type": "display_data"
    },
    {
     "data": {
      "text/plain": [
       "-0.06315136424819023"
      ]
     },
     "metadata": {},
     "output_type": "display_data"
    },
    {
     "data": {
      "text/plain": [
       "-0.001340441719961595"
      ]
     },
     "metadata": {},
     "output_type": "display_data"
    },
    {
     "data": {
      "text/plain": [
       "-0.0013398515000702833"
      ]
     },
     "metadata": {},
     "output_type": "display_data"
    },
    {
     "data": {
      "text/plain": [
       "0.4457827338330276"
      ]
     },
     "metadata": {},
     "output_type": "display_data"
    },
    {
     "data": {
      "text/plain": [
       "-0.001320861114428035"
      ]
     },
     "metadata": {},
     "output_type": "display_data"
    },
    {
     "data": {
      "text/plain": [
       "0.3235351365555399"
      ]
     },
     "metadata": {},
     "output_type": "display_data"
    },
    {
     "data": {
      "text/plain": [
       "-0.0013374203927878116"
      ]
     },
     "metadata": {},
     "output_type": "display_data"
    },
    {
     "data": {
      "text/plain": [
       "-0.0013367954201250042"
      ]
     },
     "metadata": {},
     "output_type": "display_data"
    },
    {
     "data": {
      "text/plain": [
       "0.14063314892013246"
      ]
     },
     "metadata": {},
     "output_type": "display_data"
    },
    {
     "data": {
      "text/plain": [
       "-0.0013355247229703375"
      ]
     },
     "metadata": {},
     "output_type": "display_data"
    },
    {
     "data": {
      "text/plain": [
       "0.019048584783988076"
      ]
     },
     "metadata": {},
     "output_type": "display_data"
    },
    {
     "data": {
      "text/plain": [
       "-0.041629321911051065"
      ]
     },
     "metadata": {},
     "output_type": "display_data"
    },
    {
     "data": {
      "text/plain": [
       "-0.10222701432982362"
      ]
     },
     "metadata": {},
     "output_type": "display_data"
    },
    {
     "data": {
      "text/plain": [
       "-0.16274163956011733"
      ]
     },
     "metadata": {},
     "output_type": "display_data"
    },
    {
     "data": {
      "text/plain": [
       "-0.22317039572062747"
      ]
     },
     "metadata": {},
     "output_type": "display_data"
    },
    {
     "data": {
      "text/plain": [
       "-0.2835105315914781"
      ]
     },
     "metadata": {},
     "output_type": "display_data"
    },
    {
     "data": {
      "text/plain": [
       "-0.34375934624470084"
      ]
     },
     "metadata": {},
     "output_type": "display_data"
    },
    {
     "data": {
      "text/plain": [
       "-0.4039141886746851"
      ]
     },
     "metadata": {},
     "output_type": "display_data"
    },
    {
     "data": {
      "text/plain": [
       "-0.4639724574286568"
      ]
     },
     "metadata": {},
     "output_type": "display_data"
    },
    {
     "data": {
      "text/plain": [
       "-0.5239316002371677"
      ]
     },
     "metadata": {},
     "output_type": "display_data"
    },
    {
     "data": {
      "text/plain": [
       "-0.5837891136446327"
      ]
     },
     "metadata": {},
     "output_type": "display_data"
    },
    {
     "data": {
      "text/plain": [
       "-0.6435425426398904"
      ]
     },
     "metadata": {},
     "output_type": "display_data"
    }
   ],
   "source": [
    "# Check conic violation\n",
    "convio = 0.0\n",
    "for k = 1:25\n",
    "    Uc = cone_u(params, U[k])\n",
    "    huc = norm(Uc[1:2]) - Uc[3]\n",
    "    convio = max(convio, norm(huc + abs.(huc),Inf))\n",
    "    display(huc) # should <= 0\n",
    "end\n",
    "convio == 0 && print(\"SATISFY CONE\")\n",
    "Xref .= X;\n",
    "Uref .= U;"
   ]
  }
 ],
 "metadata": {
  "kernelspec": {
   "display_name": "Julia 1.6.7",
   "language": "julia",
   "name": "julia-1.6"
  },
  "language_info": {
   "file_extension": ".jl",
   "mimetype": "application/julia",
   "name": "julia",
   "version": "1.6.7"
  }
 },
 "nbformat": 4,
 "nbformat_minor": 5
}
