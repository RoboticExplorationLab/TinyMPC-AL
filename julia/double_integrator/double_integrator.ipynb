{
 "cells": [
  {
   "cell_type": "code",
   "execution_count": null,
   "metadata": {},
   "outputs": [],
   "source": [
    "import Pkg; Pkg.activate(@__DIR__); Pkg.instantiate()"
   ]
  },
  {
   "cell_type": "code",
   "execution_count": 13,
   "metadata": {},
   "outputs": [],
   "source": [
    "using LinearAlgebra\n",
    "using ForwardDiff\n",
    "using Printf"
   ]
  },
  {
   "cell_type": "code",
   "execution_count": 10,
   "metadata": {},
   "outputs": [
    {
     "data": {
      "text/plain": [
       "discrete_dynamics (generic function with 2 methods)"
      ]
     },
     "metadata": {},
     "output_type": "display_data"
    }
   ],
   "source": [
    "function discrete_dynamics(params,x,u,i)\n",
    "  # RK4\n",
    "  A = [1.0  0.0  0.1  0.0;\n",
    "       0.0  1.0  0.0  0.1;\n",
    "       0.0  0.0  1.0  0.0;\n",
    "       0.0  0.0  0.0  1.0]\n",
    "  B = [0.005  0.0;\n",
    "       0.0    0.005;\n",
    "       0.1    0.0;\n",
    "       0.0    0.1]\n",
    "  return A*x + B*u\n",
    "end"
   ]
  },
  {
   "cell_type": "code",
   "execution_count": 28,
   "metadata": {},
   "outputs": [
    {
     "name": "stdout",
     "output_type": "stream",
     "text": [
      "ΔJ = 0.0\n",
      "iter     J           ΔJ        |d|         α        reg         ρ\n",
      "---------------------------------------------------------------------\n",
      "  1    7.244e+01   0.00e+00   0.00e+00  1.0000    1.00e-08    1.00e+00\n",
      "convio = 0\n"
     ]
    },
    {
     "data": {
      "text/plain": [
       "2-element Vector{Float64}:\n",
       " -6.023555824561335\n",
       "  0.4560657907663863"
      ]
     },
     "metadata": {},
     "output_type": "display_data"
    }
   ],
   "source": [
    "include(\"tinyMPC.jl\")\n",
    "nx = 4\n",
    "nu = 2\n",
    "N = 101\n",
    "dt = 0.01\n",
    "t_vec = dt*(0:N-1)\n",
    "\n",
    "x0 = [5, 7, 2, -1.4]\n",
    "xg = [2, 5, 3, -1.]\n",
    "\n",
    "Uref = [zeros(nu) for k = 1:N-1]\n",
    "Xref = [deepcopy(xg) for k = 1:N]\n",
    "\n",
    "u_min = [-1;-1]\n",
    "u_max = [1; 1]\n",
    "\n",
    "x_min = -100.0*ones(nx)\n",
    "# x_min[1:7] .= -.8\n",
    "x_max = 100.0*ones(nx)\n",
    "# x_max[1:7] .= 1.0\n",
    "\n",
    "# Cost weights\n",
    "Q = 0.1*I(nx)\n",
    "R = 0.1*I(nu)\n",
    "Qf = 0.1*I(nx)\n",
    "\n",
    "max_inner_iters = 10  # MAX RICCATI SOLVING ITERATION\n",
    "ncx = 2*nx*0\n",
    "ncu = 2*nu*0\n",
    "ncg = 0\n",
    "ncu_cone = nu*0; \n",
    "cone_scale = 1e-3  # very fragile for each problem\n",
    "\n",
    "μ = [zeros(ncu) for i = 1:N-1]   # input constraints\n",
    "μx = [zeros(ncx) for i = 1:N]    # state constraints\n",
    "λ = zeros(nx)    # goal constraint\n",
    "λc = [zeros(ncu_cone) for i = 1:N-1]   # goal constraint\n",
    "A_cone = [1 0 0; 0 1 0]\n",
    "c_cone = [0.0, 0.0, tand(0)]\n",
    "\n",
    "params = (\n",
    "    nx = nx, nu = nu, ncx = ncx, ncu = ncu, ncg = ncg, ncu_cone = ncu_cone,\n",
    "    μ = μ, μx = μx, λ = λ, λc = λc,\n",
    "    A_cone = A_cone, c_cone = c_cone,\n",
    "    N = N, Q = Q, R = R, Qf = Q,\n",
    "    u_min = u_min, u_max = u_max,\n",
    "    x_min = x_min, x_max = x_max,\n",
    "    Xref = Xref, Uref = Uref, dt = dt,\n",
    ");\n",
    "\n",
    "# previous MPC iterate\n",
    "X = [zeros(nx) for i = 1:N]\n",
    "U = [ones(nu) for k = 1:N-1]\n",
    "# new MPC iterate\n",
    "Xn = deepcopy(X)\n",
    "Un = deepcopy(U)\n",
    "\n",
    "P = [zeros(nx,nx) for i = 1:N]   # cost to go quadratic term\n",
    "p = [zeros(nx) for i = 1:N]      # cost to go linear term\n",
    "d = [zeros(nu) for i = 1:N-1]    # feedforward control\n",
    "K = [zeros(nu,nx) for i = 1:N-1] # feedback gain\n",
    "\n",
    "X[1] .= x0;\n",
    "u = mpc!(params,X,U,P,p,K,d,Xn,Un; atol=1e-4,max_iters=20,verbose=true,ρ=1e0,ρ_max=1e10, ϕ=10.0)"
   ]
  },
  {
   "cell_type": "code",
   "execution_count": 31,
   "metadata": {},
   "outputs": [
    {
     "data": {
      "text/plain": [
       "101-element Vector{Vector{Float64}}:\n",
       " [5.0, 7.0, 2.0, -1.4]\n",
       " [5.169882220877193, 6.862280328953832, 1.3976444175438665, -1.3543934209233612]\n",
       " [5.283675126489349, 6.72938012091104, 0.8782136946992644, -1.3036107399324817]\n",
       " [5.349250148502516, 6.601752585892297, 0.4332867455640642, -1.2489399604423845]\n",
       " [5.37366937768119, 6.4797305908195995, 0.05509783800941792, -1.1914999410115708]\n",
       " [5.3632494507414945, 6.363542742617317, -0.26349637680331284, -1.132257023034088]\n",
       " [5.3236221168795055, 6.2533278707657685, -0.5290503004364664, -1.07204041399688]\n",
       " [5.259791456462173, 6.14914803091011, -0.747562907910185, -1.0115563831162662]\n",
       " [5.17618775946237, 6.051000145352583, -0.9245110320858768, -0.9514013280342783]\n",
       " [5.076718100667413, 5.958826390336458, -1.0648821438132612, -0.8920737722882279]\n",
       " ⋮\n",
       " [3.426901624439806, 4.522978333060275, 1.1713614448669283, -0.38858609374238967]\n",
       " [3.5469512774928247, 4.4831431929794014, 1.2296316161934469, -0.40811670787507]\n",
       " [3.672712352630024, 4.441394170994326, 1.285589886550543, -0.42686373182643156]\n",
       " [3.8039011472988875, 4.397827139177106, 1.3381860068267266, -0.44447690451797484]\n",
       " [3.9401208292139636, 4.352575695534622, 1.3862076314747946, -0.460551968331701]\n",
       " [4.0808443590753525, 4.305816853351882, 1.4282629657529715, -0.47462487532310316]\n",
       " [4.225395611383496, 4.2577773320439, 1.4627620804098944, -0.4861655508365386]\n",
       " [4.372928557734335, 4.208740494566081, 1.487896846606903, -0.49457119871983957]\n",
       " [4.522404372560751, 4.1590539779118325, 1.5016194499214084, -0.49915913436514403]"
      ]
     },
     "metadata": {},
     "output_type": "display_data"
    }
   ],
   "source": [
    "X"
   ]
  },
  {
   "cell_type": "code",
   "execution_count": 33,
   "metadata": {},
   "outputs": [
    {
     "data": {
      "text/plain": [
       "100-element Vector{Vector{Float64}}:\n",
       " [-1.833008206989337, -4.585752231657667]\n",
       " [-1.832840856037217, -4.58580784708591]\n",
       " [-1.832656133323719, -4.585869221302517]\n",
       " [-1.8324527686568746, -4.585936771690476]\n",
       " [-1.8322294548787217, -4.586010926816633]\n",
       " [-1.8319848551039912, -4.586092123803354]\n",
       " [-1.8317176116460592, -4.586180805097012]\n",
       " [-1.8314263568508238, -4.586277414552]\n",
       " [-1.83110972607984, -4.586382392740679]\n",
       " [-1.830766373106048, -4.586496171390605]\n",
       " ⋮\n",
       " [-2.593345325146418, -0.9255451154266795]\n",
       " [-2.3789117067252428, -0.688874477646207]\n",
       " [-2.13464077477255, -0.4717862481836722]\n",
       " [-1.8640571582308796, -0.2811363927723023]\n",
       " [-1.5718233980145757, -0.12347710596098295]\n",
       " [-1.263536885279889, -0.004723847762237438]\n",
       " [-0.9454761149434475, 0.07013844110947785]\n",
       " [-0.6243278545364681, 0.09729149969859835]\n",
       " [-0.30692309596297124, 0.07425558773297691]"
      ]
     },
     "metadata": {},
     "output_type": "display_data"
    }
   ],
   "source": [
    "d"
   ]
  }
 ],
 "metadata": {
  "kernelspec": {
   "display_name": "Julia 1.6.7",
   "language": "julia",
   "name": "julia-1.6"
  },
  "language_info": {
   "file_extension": ".jl",
   "mimetype": "application/julia",
   "name": "julia",
   "version": "1.6.7"
  },
  "orig_nbformat": 4
 },
 "nbformat": 4,
 "nbformat_minor": 2
}
